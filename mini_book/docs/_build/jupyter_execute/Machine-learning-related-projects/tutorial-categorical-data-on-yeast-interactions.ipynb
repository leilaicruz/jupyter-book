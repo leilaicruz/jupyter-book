{
 "cells": [
  {
   "cell_type": "markdown",
   "metadata": {},
   "source": [
    "# Tutorial on how to handle categorical data from [here](https://www.datacamp.com/community/tutorials/categorical-data)"
   ]
  },
  {
   "cell_type": "code",
   "execution_count": 1,
   "metadata": {
    "execution": {
     "iopub.execute_input": "2020-07-09T09:18:21.317796Z",
     "iopub.status.busy": "2020-07-09T09:18:21.313808Z",
     "iopub.status.idle": "2020-07-09T09:18:22.911068Z",
     "shell.execute_reply": "2020-07-09T09:18:22.911068Z"
    }
   },
   "outputs": [],
   "source": [
    "import pandas as pd\n",
    "import numpy as np\n",
    "import matplotlib.pyplot as plt\n",
    "from collections import defaultdict \n",
    "import seaborn as sns"
   ]
  },
  {
   "cell_type": "code",
   "execution_count": 2,
   "metadata": {
    "execution": {
     "iopub.execute_input": "2020-07-09T09:18:22.917033Z",
     "iopub.status.busy": "2020-07-09T09:18:22.916036Z",
     "iopub.status.idle": "2020-07-09T09:18:22.920119Z",
     "shell.execute_reply": "2020-07-09T09:18:22.920119Z"
    }
   },
   "outputs": [],
   "source": [
    "import os\n",
    "script_dir = os.path.dirname('__file__') #<-- absolute dir the script is in\n",
    "rel_path = \"datasets/data-BioGrid-Yeast.xlsx\"\n",
    "abs_file_path_SL = os.path.join(script_dir, rel_path)\n",
    "\n",
    "# os.chdir('mini_book/docs/')\n",
    "os.chdir('../')\n"
   ]
  },
  {
   "cell_type": "code",
   "execution_count": 3,
   "metadata": {
    "execution": {
     "iopub.execute_input": "2020-07-09T09:18:22.926008Z",
     "iopub.status.busy": "2020-07-09T09:18:22.925011Z",
     "iopub.status.idle": "2020-07-09T09:19:21.889652Z",
     "shell.execute_reply": "2020-07-09T09:19:21.889652Z"
    }
   },
   "outputs": [],
   "source": [
    "data=pd.read_excel(abs_file_path_SL,header=0)\n"
   ]
  },
  {
   "cell_type": "code",
   "execution_count": 4,
   "metadata": {
    "execution": {
     "iopub.execute_input": "2020-07-09T09:19:21.904566Z",
     "iopub.status.busy": "2020-07-09T09:19:21.899554Z",
     "iopub.status.idle": "2020-07-09T09:19:21.915517Z",
     "shell.execute_reply": "2020-07-09T09:19:21.915517Z"
    }
   },
   "outputs": [],
   "source": [
    "data = data[['gene-query-name','gene-target-name','interaction-type', 'paper-source']]"
   ]
  },
  {
   "cell_type": "code",
   "execution_count": 5,
   "metadata": {
    "execution": {
     "iopub.execute_input": "2020-07-09T09:19:21.924584Z",
     "iopub.status.busy": "2020-07-09T09:19:21.923555Z",
     "iopub.status.idle": "2020-07-09T09:19:21.932533Z",
     "shell.execute_reply": "2020-07-09T09:19:21.931678Z"
    }
   },
   "outputs": [
    {
     "data": {
      "text/html": [
       "<div>\n",
       "<style scoped>\n",
       "    .dataframe tbody tr th:only-of-type {\n",
       "        vertical-align: middle;\n",
       "    }\n",
       "\n",
       "    .dataframe tbody tr th {\n",
       "        vertical-align: top;\n",
       "    }\n",
       "\n",
       "    .dataframe thead th {\n",
       "        text-align: right;\n",
       "    }\n",
       "</style>\n",
       "<table border=\"1\" class=\"dataframe\">\n",
       "  <thead>\n",
       "    <tr style=\"text-align: right;\">\n",
       "      <th></th>\n",
       "      <th>gene-query-name</th>\n",
       "      <th>gene-target-name</th>\n",
       "      <th>interaction-type</th>\n",
       "      <th>paper-source</th>\n",
       "    </tr>\n",
       "  </thead>\n",
       "  <tbody>\n",
       "    <tr>\n",
       "      <th>0</th>\n",
       "      <td>CDC73</td>\n",
       "      <td>CTR9</td>\n",
       "      <td>Affinity Capture-MS</td>\n",
       "      <td>Krogan NJ (2004)</td>\n",
       "    </tr>\n",
       "    <tr>\n",
       "      <th>1</th>\n",
       "      <td>CTR9</td>\n",
       "      <td>CDC73</td>\n",
       "      <td>Affinity Capture-MS</td>\n",
       "      <td>Krogan NJ (2004)</td>\n",
       "    </tr>\n",
       "    <tr>\n",
       "      <th>2</th>\n",
       "      <td>CDC73</td>\n",
       "      <td>LEO1</td>\n",
       "      <td>Affinity Capture-MS</td>\n",
       "      <td>Krogan NJ (2004)</td>\n",
       "    </tr>\n",
       "    <tr>\n",
       "      <th>3</th>\n",
       "      <td>LEO1</td>\n",
       "      <td>CDC73</td>\n",
       "      <td>Affinity Capture-MS</td>\n",
       "      <td>Krogan NJ (2004)</td>\n",
       "    </tr>\n",
       "    <tr>\n",
       "      <th>4</th>\n",
       "      <td>CDC73</td>\n",
       "      <td>PAF1</td>\n",
       "      <td>Affinity Capture-MS</td>\n",
       "      <td>Krogan NJ (2004)</td>\n",
       "    </tr>\n",
       "  </tbody>\n",
       "</table>\n",
       "</div>"
      ],
      "text/plain": [
       "  gene-query-name gene-target-name     interaction-type      paper-source\n",
       "0           CDC73             CTR9  Affinity Capture-MS  Krogan NJ (2004)\n",
       "1            CTR9            CDC73  Affinity Capture-MS  Krogan NJ (2004)\n",
       "2           CDC73             LEO1  Affinity Capture-MS  Krogan NJ (2004)\n",
       "3            LEO1            CDC73  Affinity Capture-MS  Krogan NJ (2004)\n",
       "4           CDC73             PAF1  Affinity Capture-MS  Krogan NJ (2004)"
      ]
     },
     "execution_count": 5,
     "metadata": {},
     "output_type": "execute_result"
    }
   ],
   "source": [
    "data.head()"
   ]
  },
  {
   "cell_type": "code",
   "execution_count": 6,
   "metadata": {
    "execution": {
     "iopub.execute_input": "2020-07-09T09:19:21.984685Z",
     "iopub.status.busy": "2020-07-09T09:19:21.983542Z",
     "iopub.status.idle": "2020-07-09T09:19:21.997692Z",
     "shell.execute_reply": "2020-07-09T09:19:21.996821Z"
    }
   },
   "outputs": [
    {
     "name": "stdout",
     "output_type": "stream",
     "text": [
      "<class 'pandas.core.frame.DataFrame'>\n",
      "RangeIndex: 365332 entries, 0 to 365331\n",
      "Data columns (total 4 columns):\n",
      "gene-query-name     365332 non-null object\n",
      "gene-target-name    365332 non-null object\n",
      "interaction-type    365332 non-null object\n",
      "paper-source        365332 non-null object\n",
      "dtypes: object(4)\n",
      "memory usage: 11.1+ MB\n",
      "None\n"
     ]
    }
   ],
   "source": [
    "print(data.info())"
   ]
  },
  {
   "cell_type": "markdown",
   "metadata": {},
   "source": [
    "   \n",
    "\n",
    "As you will only be dealing with categorical features in this tutorial, it's better to filter them out. You can create a separate DataFrame consisting of only these features by running the following command. The method ```.copy()``` is used here so that any changes made in new DataFrame don't get reflected in the original one."
   ]
  },
  {
   "cell_type": "code",
   "execution_count": 7,
   "metadata": {
    "execution": {
     "iopub.execute_input": "2020-07-09T09:19:22.026502Z",
     "iopub.status.busy": "2020-07-09T09:19:22.003870Z",
     "iopub.status.idle": "2020-07-09T09:19:22.034565Z",
     "shell.execute_reply": "2020-07-09T09:19:22.033524Z"
    }
   },
   "outputs": [],
   "source": [
    "cat_data = data.select_dtypes(include=['object']).copy()"
   ]
  },
  {
   "cell_type": "code",
   "execution_count": 8,
   "metadata": {
    "execution": {
     "iopub.execute_input": "2020-07-09T09:19:22.042462Z",
     "iopub.status.busy": "2020-07-09T09:19:22.041837Z",
     "iopub.status.idle": "2020-07-09T09:19:22.046495Z",
     "shell.execute_reply": "2020-07-09T09:19:22.046495Z"
    }
   },
   "outputs": [
    {
     "data": {
      "text/html": [
       "<div>\n",
       "<style scoped>\n",
       "    .dataframe tbody tr th:only-of-type {\n",
       "        vertical-align: middle;\n",
       "    }\n",
       "\n",
       "    .dataframe tbody tr th {\n",
       "        vertical-align: top;\n",
       "    }\n",
       "\n",
       "    .dataframe thead th {\n",
       "        text-align: right;\n",
       "    }\n",
       "</style>\n",
       "<table border=\"1\" class=\"dataframe\">\n",
       "  <thead>\n",
       "    <tr style=\"text-align: right;\">\n",
       "      <th></th>\n",
       "      <th>gene-query-name</th>\n",
       "      <th>gene-target-name</th>\n",
       "      <th>interaction-type</th>\n",
       "      <th>paper-source</th>\n",
       "    </tr>\n",
       "  </thead>\n",
       "  <tbody>\n",
       "    <tr>\n",
       "      <th>0</th>\n",
       "      <td>CDC73</td>\n",
       "      <td>CTR9</td>\n",
       "      <td>Affinity Capture-MS</td>\n",
       "      <td>Krogan NJ (2004)</td>\n",
       "    </tr>\n",
       "    <tr>\n",
       "      <th>1</th>\n",
       "      <td>CTR9</td>\n",
       "      <td>CDC73</td>\n",
       "      <td>Affinity Capture-MS</td>\n",
       "      <td>Krogan NJ (2004)</td>\n",
       "    </tr>\n",
       "    <tr>\n",
       "      <th>2</th>\n",
       "      <td>CDC73</td>\n",
       "      <td>LEO1</td>\n",
       "      <td>Affinity Capture-MS</td>\n",
       "      <td>Krogan NJ (2004)</td>\n",
       "    </tr>\n",
       "    <tr>\n",
       "      <th>3</th>\n",
       "      <td>LEO1</td>\n",
       "      <td>CDC73</td>\n",
       "      <td>Affinity Capture-MS</td>\n",
       "      <td>Krogan NJ (2004)</td>\n",
       "    </tr>\n",
       "    <tr>\n",
       "      <th>4</th>\n",
       "      <td>CDC73</td>\n",
       "      <td>PAF1</td>\n",
       "      <td>Affinity Capture-MS</td>\n",
       "      <td>Krogan NJ (2004)</td>\n",
       "    </tr>\n",
       "  </tbody>\n",
       "</table>\n",
       "</div>"
      ],
      "text/plain": [
       "  gene-query-name gene-target-name     interaction-type      paper-source\n",
       "0           CDC73             CTR9  Affinity Capture-MS  Krogan NJ (2004)\n",
       "1            CTR9            CDC73  Affinity Capture-MS  Krogan NJ (2004)\n",
       "2           CDC73             LEO1  Affinity Capture-MS  Krogan NJ (2004)\n",
       "3            LEO1            CDC73  Affinity Capture-MS  Krogan NJ (2004)\n",
       "4           CDC73             PAF1  Affinity Capture-MS  Krogan NJ (2004)"
      ]
     },
     "execution_count": 8,
     "metadata": {},
     "output_type": "execute_result"
    }
   ],
   "source": [
    "cat_data.head()"
   ]
  },
  {
   "cell_type": "markdown",
   "metadata": {},
   "source": [
    "One of the most common data pre-processing steps is to check for null values in the dataset. You can get **the total number of missing values in the DataFrame** by the following one liner code:"
   ]
  },
  {
   "cell_type": "code",
   "execution_count": 9,
   "metadata": {
    "execution": {
     "iopub.execute_input": "2020-07-09T09:19:22.102582Z",
     "iopub.status.busy": "2020-07-09T09:19:22.102582Z",
     "iopub.status.idle": "2020-07-09T09:19:22.110599Z",
     "shell.execute_reply": "2020-07-09T09:19:22.109563Z"
    }
   },
   "outputs": [
    {
     "name": "stdout",
     "output_type": "stream",
     "text": [
      "Hooray!! There are no NaN values in the dataframe\n"
     ]
    }
   ],
   "source": [
    "if cat_data.isnull().values.sum()==0:\n",
    "    print('Hooray!! There are no NaN values in the dataframe')\n",
    "else:\n",
    "    print(cat_data.isnull().values.sum())"
   ]
  },
  {
   "cell_type": "markdown",
   "metadata": {},
   "source": [
    "    Hooray!! There are no NaN values in the dataframe\n",
    "    \n",
    "\n",
    "Let's also check the column-wise distribution of null values:"
   ]
  },
  {
   "cell_type": "code",
   "execution_count": 10,
   "metadata": {
    "execution": {
     "iopub.execute_input": "2020-07-09T09:19:22.168501Z",
     "iopub.status.busy": "2020-07-09T09:19:22.167701Z",
     "iopub.status.idle": "2020-07-09T09:19:22.178643Z",
     "shell.execute_reply": "2020-07-09T09:19:22.177539Z"
    }
   },
   "outputs": [
    {
     "name": "stdout",
     "output_type": "stream",
     "text": [
      "gene-query-name     0\n",
      "gene-target-name    0\n",
      "interaction-type    0\n",
      "paper-source        0\n",
      "dtype: int64\n"
     ]
    }
   ],
   "source": [
    "print(cat_data.isnull().sum())"
   ]
  },
  {
   "cell_type": "markdown",
   "metadata": {},
   "source": [
    "Another **Exploratory Data Analysis (EDA)** step that you might want to do on categorical features is the frequency distribution of categories within the feature, which can be done with the ```.value_counts()``` method as described earlier."
   ]
  },
  {
   "cell_type": "code",
   "execution_count": 11,
   "metadata": {
    "execution": {
     "iopub.execute_input": "2020-07-09T09:19:22.209740Z",
     "iopub.status.busy": "2020-07-09T09:19:22.208742Z",
     "iopub.status.idle": "2020-07-09T09:19:22.215812Z",
     "shell.execute_reply": "2020-07-09T09:19:22.214752Z"
    }
   },
   "outputs": [
    {
     "name": "stdout",
     "output_type": "stream",
     "text": [
      "Negative Genetic                 116254\n",
      "Affinity Capture-MS               59193\n",
      "Positive Genetic                  43334\n",
      "Synthetic Growth Defect           25192\n",
      "Affinity Capture-Western          16661\n",
      "Synthetic Lethality               16243\n",
      "Two-hybrid                        15969\n",
      "Affinity Capture-RNA              12446\n",
      "Reconstituted Complex              7690\n",
      "Phenotypic Enhancement             7532\n",
      "Synthetic Rescue                   6834\n",
      "Phenotypic Suppression             6683\n",
      "PCA                                6587\n",
      "Biochemical Activity               6413\n",
      "Dosage Rescue                      5730\n",
      "Co-purification                    4344\n",
      "Dosage Growth Defect               1984\n",
      "Dosage Lethality                   1628\n",
      "Co-fractionation                    972\n",
      "Co-crystal Structure                879\n",
      "Protein-peptide                     841\n",
      "Co-localization                     677\n",
      "Protein-RNA                         573\n",
      "Synthetic Haploinsufficiency        307\n",
      "FRET                                220\n",
      "Far Western                         100\n",
      "Affinity Capture-Luminescence        46\n",
      "Name: interaction-type, dtype: int64\n"
     ]
    }
   ],
   "source": [
    "print(cat_data['interaction-type'].value_counts())"
   ]
  },
  {
   "cell_type": "code",
   "execution_count": 12,
   "metadata": {
    "execution": {
     "iopub.execute_input": "2020-07-09T09:19:22.253545Z",
     "iopub.status.busy": "2020-07-09T09:19:22.237375Z",
     "iopub.status.idle": "2020-07-09T09:19:22.260535Z",
     "shell.execute_reply": "2020-07-09T09:19:22.259584Z"
    }
   },
   "outputs": [
    {
     "name": "stdout",
     "output_type": "stream",
     "text": [
      "NAB2       2676\n",
      "PUF3       2119\n",
      "HSP82      2042\n",
      "SSB2       2018\n",
      "RPN11      1735\n",
      "           ... \n",
      "YLL007C       1\n",
      "BSC2          1\n",
      "PAD1          1\n",
      "YOL131W       1\n",
      "PET18         1\n",
      "Name: gene-query-name, Length: 5139, dtype: int64\n"
     ]
    }
   ],
   "source": [
    "print(cat_data['gene-query-name'].value_counts())"
   ]
  },
  {
   "cell_type": "markdown",
   "metadata": {},
   "source": [
    "      \n",
    "\n",
    "To know **the count of distinct categories within the feature** you can chain the previous code with the ```.count()``` method:"
   ]
  },
  {
   "cell_type": "code",
   "execution_count": 13,
   "metadata": {
    "execution": {
     "iopub.execute_input": "2020-07-09T09:19:22.294631Z",
     "iopub.status.busy": "2020-07-09T09:19:22.280689Z",
     "iopub.status.idle": "2020-07-09T09:19:22.386454Z",
     "shell.execute_reply": "2020-07-09T09:19:22.384349Z"
    }
   },
   "outputs": [
    {
     "name": "stdout",
     "output_type": "stream",
     "text": [
      "27 5139 6344\n"
     ]
    }
   ],
   "source": [
    "print(cat_data['interaction-type'].value_counts().count(),cat_data['gene-query-name'].value_counts().count(),cat_data['gene-target-name'].value_counts().count())"
   ]
  },
  {
   "cell_type": "markdown",
   "metadata": {},
   "source": [
    "    \n",
    "\n",
    "Below is a basic template to plot a barplot of the frequency distribution of a categorical feature using the seaborn package, which shows the frequency distribution of the carrier column. You can play with different arguments to change the look of the plot."
   ]
  },
  {
   "cell_type": "code",
   "execution_count": 14,
   "metadata": {
    "execution": {
     "iopub.execute_input": "2020-07-09T09:19:22.428423Z",
     "iopub.status.busy": "2020-07-09T09:19:22.421952Z",
     "iopub.status.idle": "2020-07-09T09:19:23.249307Z",
     "shell.execute_reply": "2020-07-09T09:19:23.249307Z"
    }
   },
   "outputs": [
    {
     "data": {
      "text/plain": [
       "(array([ 0,  1,  2,  3,  4,  5,  6,  7,  8,  9, 10, 11, 12, 13, 14, 15, 16,\n",
       "        17, 18, 19, 20, 21, 22, 23, 24, 25, 26]),\n",
       " <a list of 27 Text xticklabel objects>)"
      ]
     },
     "execution_count": 14,
     "metadata": {},
     "output_type": "execute_result"
    },
    {
     "data": {
      "image/png": "[encoded data removed]",
      "text/plain": [
       "<Figure size 432x288 with 1 Axes>"
      ]
     },
     "metadata": {
      "filenames": {
       "image/png": "C:\\Users\\linigodelacruz\\Documents\\PhD_2018\\Documentation\\jupyter-book-deployment\\jupyter-book\\mini_book\\docs\\_build\\jupyter_execute\\Machine-learning-related-projects\\tutorial-categorical-data-on-yeast-interactions_20_1.png"
      }
     },
     "output_type": "display_data"
    }
   ],
   "source": [
    "carrier_count = cat_data['interaction-type'].value_counts()\n",
    "sns.set(style=\"darkgrid\")\n",
    "sns.barplot(carrier_count.index, carrier_count.values, alpha=0.9)\n",
    "plt.title('Frequency Distribution of interaction types in BioGrid')\n",
    "plt.ylabel('Number of Occurrences', fontsize=12)\n",
    "plt.xlabel('Interaction types', fontsize=12)\n",
    "plt.xticks(rotation=30)"
   ]
  },
  {
   "cell_type": "markdown",
   "metadata": {},
   "source": [
    "## Encoding Categorical Data\n",
    "\n",
    "The techniques that you'll cover are the following:\n",
    "\n",
    "1. Replacing values\n",
    "2. Encoding labels\n",
    "3. One-Hot encoding\n",
    "4. Binary encoding\n",
    "\n",
    "### Replace Values\n",
    "\n",
    "Let's start with the most basic method, which is just replacing the categories with the desired numbers. This can be achieved with the help of the ```replace()``` function in pandas. The idea is that you have the liberty to choose whatever numbers you want to assign to the categories according to the business use case.\n",
    "\n",
    "You will store the category names in a list called ```labels``` and then ```zip``` it to a sequence of numbers and iterate over it. The final dictionary will organize the labels in alphabetical order."
   ]
  },
  {
   "cell_type": "code",
   "execution_count": 15,
   "metadata": {
    "execution": {
     "iopub.execute_input": "2020-07-09T09:19:23.260460Z",
     "iopub.status.busy": "2020-07-09T09:19:23.252340Z",
     "iopub.status.idle": "2020-07-09T09:19:23.288454Z",
     "shell.execute_reply": "2020-07-09T09:19:23.289381Z"
    }
   },
   "outputs": [],
   "source": [
    "labels = cat_data['interaction-type'].astype('category').cat.categories.tolist()\n",
    "replace_map_comp = {'interaction-type' : {k: v for k,v in zip(labels,list(range(1,len(labels)+1)))}}"
   ]
  },
  {
   "cell_type": "code",
   "execution_count": 16,
   "metadata": {
    "execution": {
     "iopub.execute_input": "2020-07-09T09:19:23.294333Z",
     "iopub.status.busy": "2020-07-09T09:19:23.292380Z",
     "iopub.status.idle": "2020-07-09T09:19:23.298733Z",
     "shell.execute_reply": "2020-07-09T09:19:23.298733Z"
    }
   },
   "outputs": [
    {
     "name": "stdout",
     "output_type": "stream",
     "text": [
      "{'interaction-type': {'Affinity Capture-Luminescence': 1, 'Affinity Capture-MS': 2, 'Affinity Capture-RNA': 3, 'Affinity Capture-Western': 4, 'Biochemical Activity': 5, 'Co-crystal Structure': 6, 'Co-fractionation': 7, 'Co-localization': 8, 'Co-purification': 9, 'Dosage Growth Defect': 10, 'Dosage Lethality': 11, 'Dosage Rescue': 12, 'FRET': 13, 'Far Western': 14, 'Negative Genetic': 15, 'PCA': 16, 'Phenotypic Enhancement': 17, 'Phenotypic Suppression': 18, 'Positive Genetic': 19, 'Protein-RNA': 20, 'Protein-peptide': 21, 'Reconstituted Complex': 22, 'Synthetic Growth Defect': 23, 'Synthetic Haploinsufficiency': 24, 'Synthetic Lethality': 25, 'Synthetic Rescue': 26, 'Two-hybrid': 27}}\n"
     ]
    }
   ],
   "source": [
    "print(replace_map_comp)"
   ]
  },
  {
   "cell_type": "markdown",
   "metadata": {},
   "source": [
    "    \n",
    "\n",
    "Throughout this tutorial, you will be making a copy of the dataset via the ```.copy()``` method to practice each encoding technique to ensure that the original DataFrame stays intact and whatever changes you are doing happen only in the copied one."
   ]
  },
  {
   "cell_type": "code",
   "execution_count": 17,
   "metadata": {
    "execution": {
     "iopub.execute_input": "2020-07-09T09:19:23.313536Z",
     "iopub.status.busy": "2020-07-09T09:19:23.301694Z",
     "iopub.status.idle": "2020-07-09T09:19:23.318402Z",
     "shell.execute_reply": "2020-07-09T09:19:23.319439Z"
    }
   },
   "outputs": [],
   "source": [
    "cat_data_replace = cat_data.copy()"
   ]
  },
  {
   "cell_type": "code",
   "execution_count": 18,
   "metadata": {
    "execution": {
     "iopub.execute_input": "2020-07-09T09:19:23.427561Z",
     "iopub.status.busy": "2020-07-09T09:19:23.354429Z",
     "iopub.status.idle": "2020-07-09T09:19:23.874846Z",
     "shell.execute_reply": "2020-07-09T09:19:23.875160Z"
    }
   },
   "outputs": [
    {
     "name": "stdout",
     "output_type": "stream",
     "text": [
      "  gene-query-name gene-target-name  interaction-type      paper-source\n",
      "0           CDC73             CTR9                 2  Krogan NJ (2004)\n",
      "1            CTR9            CDC73                 2  Krogan NJ (2004)\n",
      "2           CDC73             LEO1                 2  Krogan NJ (2004)\n",
      "3            LEO1            CDC73                 2  Krogan NJ (2004)\n",
      "4           CDC73             PAF1                 2  Krogan NJ (2004)\n"
     ]
    }
   ],
   "source": [
    "cat_data_replace.replace(replace_map_comp, inplace=True)\n",
    "\n",
    "print(cat_data_replace.head())"
   ]
  },
  {
   "cell_type": "markdown",
   "metadata": {},
   "source": [
    "    \n",
    "\n",
    "As you can observe, you have encoded the categories with the mapped numbers in your DataFrame.\n",
    "\n",
    "## Label encoding\n",
    "\n",
    "Another approach is to encode categorical values with a technique called \"label encoding\", which allows you to convert each value in a column to a number. Numerical labels are always between 0 and n_categories-1\n",
    "\n",
    "You can do label encoding via attributes ```.cat.codes``` on your DataFrame's column."
   ]
  },
  {
   "cell_type": "code",
   "execution_count": 19,
   "metadata": {
    "execution": {
     "iopub.execute_input": "2020-07-09T09:19:23.897776Z",
     "iopub.status.busy": "2020-07-09T09:19:23.885759Z",
     "iopub.status.idle": "2020-07-09T09:19:24.060380Z",
     "shell.execute_reply": "2020-07-09T09:19:24.061392Z"
    }
   },
   "outputs": [],
   "source": [
    "cat_data_lc=cat_data.copy().astype('category') # In general converting to a  category variable is much faster and handy that leaves them as object\n"
   ]
  },
  {
   "cell_type": "code",
   "execution_count": 20,
   "metadata": {
    "execution": {
     "iopub.execute_input": "2020-07-09T09:19:24.066361Z",
     "iopub.status.busy": "2020-07-09T09:19:24.065397Z",
     "iopub.status.idle": "2020-07-09T09:19:24.069353Z",
     "shell.execute_reply": "2020-07-09T09:19:24.070351Z"
    }
   },
   "outputs": [],
   "source": [
    "cat_data_lc['interaction-type'] = cat_data_lc['interaction-type'].cat.codes"
   ]
  },
  {
   "cell_type": "code",
   "execution_count": 21,
   "metadata": {
    "execution": {
     "iopub.execute_input": "2020-07-09T09:19:24.084704Z",
     "iopub.status.busy": "2020-07-09T09:19:24.083316Z",
     "iopub.status.idle": "2020-07-09T09:19:24.088393Z",
     "shell.execute_reply": "2020-07-09T09:19:24.089390Z"
    }
   },
   "outputs": [
    {
     "data": {
      "text/html": [
       "<div>\n",
       "<style scoped>\n",
       "    .dataframe tbody tr th:only-of-type {\n",
       "        vertical-align: middle;\n",
       "    }\n",
       "\n",
       "    .dataframe tbody tr th {\n",
       "        vertical-align: top;\n",
       "    }\n",
       "\n",
       "    .dataframe thead th {\n",
       "        text-align: right;\n",
       "    }\n",
       "</style>\n",
       "<table border=\"1\" class=\"dataframe\">\n",
       "  <thead>\n",
       "    <tr style=\"text-align: right;\">\n",
       "      <th></th>\n",
       "      <th>gene-query-name</th>\n",
       "      <th>gene-target-name</th>\n",
       "      <th>interaction-type</th>\n",
       "      <th>paper-source</th>\n",
       "    </tr>\n",
       "  </thead>\n",
       "  <tbody>\n",
       "    <tr>\n",
       "      <th>0</th>\n",
       "      <td>CDC73</td>\n",
       "      <td>CTR9</td>\n",
       "      <td>1</td>\n",
       "      <td>Krogan NJ (2004)</td>\n",
       "    </tr>\n",
       "    <tr>\n",
       "      <th>1</th>\n",
       "      <td>CTR9</td>\n",
       "      <td>CDC73</td>\n",
       "      <td>1</td>\n",
       "      <td>Krogan NJ (2004)</td>\n",
       "    </tr>\n",
       "    <tr>\n",
       "      <th>2</th>\n",
       "      <td>CDC73</td>\n",
       "      <td>LEO1</td>\n",
       "      <td>1</td>\n",
       "      <td>Krogan NJ (2004)</td>\n",
       "    </tr>\n",
       "    <tr>\n",
       "      <th>3</th>\n",
       "      <td>LEO1</td>\n",
       "      <td>CDC73</td>\n",
       "      <td>1</td>\n",
       "      <td>Krogan NJ (2004)</td>\n",
       "    </tr>\n",
       "    <tr>\n",
       "      <th>4</th>\n",
       "      <td>CDC73</td>\n",
       "      <td>PAF1</td>\n",
       "      <td>1</td>\n",
       "      <td>Krogan NJ (2004)</td>\n",
       "    </tr>\n",
       "  </tbody>\n",
       "</table>\n",
       "</div>"
      ],
      "text/plain": [
       "  gene-query-name gene-target-name  interaction-type      paper-source\n",
       "0           CDC73             CTR9                 1  Krogan NJ (2004)\n",
       "1            CTR9            CDC73                 1  Krogan NJ (2004)\n",
       "2           CDC73             LEO1                 1  Krogan NJ (2004)\n",
       "3            LEO1            CDC73                 1  Krogan NJ (2004)\n",
       "4           CDC73             PAF1                 1  Krogan NJ (2004)"
      ]
     },
     "execution_count": 21,
     "metadata": {},
     "output_type": "execute_result"
    }
   ],
   "source": [
    "cat_data_lc.head() #alphabetically labeled from 0 to number of categories : 27"
   ]
  },
  {
   "cell_type": "markdown",
   "metadata": {},
   "source": [
    "Sometimes, **you might just want to encode a bunch of categories within a feature to some numeric value and encode all the other categories to some other numeric value**.\n",
    "\n",
    "You could do this by using numpy's ```where()``` function like shown below. \n",
    "Example: You will encode all the synthetic lethals to value 1 and other types to value 0. This will create a new column in your DataFrame with the encodings. Later, if you want to drop the original column, you can do so by using the ```drop()``` function in pandas."
   ]
  },
  {
   "cell_type": "code",
   "execution_count": 22,
   "metadata": {
    "execution": {
     "iopub.execute_input": "2020-07-09T09:19:24.116696Z",
     "iopub.status.busy": "2020-07-09T09:19:24.115697Z",
     "iopub.status.idle": "2020-07-09T09:19:24.373320Z",
     "shell.execute_reply": "2020-07-09T09:19:24.373320Z"
    }
   },
   "outputs": [
    {
     "data": {
      "text/html": [
       "<div>\n",
       "<style scoped>\n",
       "    .dataframe tbody tr th:only-of-type {\n",
       "        vertical-align: middle;\n",
       "    }\n",
       "\n",
       "    .dataframe tbody tr th {\n",
       "        vertical-align: top;\n",
       "    }\n",
       "\n",
       "    .dataframe thead th {\n",
       "        text-align: right;\n",
       "    }\n",
       "</style>\n",
       "<table border=\"1\" class=\"dataframe\">\n",
       "  <thead>\n",
       "    <tr style=\"text-align: right;\">\n",
       "      <th></th>\n",
       "      <th>gene-query-name</th>\n",
       "      <th>gene-target-name</th>\n",
       "      <th>interaction-type</th>\n",
       "      <th>paper-source</th>\n",
       "      <th>SL-code</th>\n",
       "    </tr>\n",
       "  </thead>\n",
       "  <tbody>\n",
       "    <tr>\n",
       "      <th>0</th>\n",
       "      <td>CDC73</td>\n",
       "      <td>CTR9</td>\n",
       "      <td>Affinity Capture-MS</td>\n",
       "      <td>Krogan NJ (2004)</td>\n",
       "      <td>0</td>\n",
       "    </tr>\n",
       "    <tr>\n",
       "      <th>1</th>\n",
       "      <td>CTR9</td>\n",
       "      <td>CDC73</td>\n",
       "      <td>Affinity Capture-MS</td>\n",
       "      <td>Krogan NJ (2004)</td>\n",
       "      <td>0</td>\n",
       "    </tr>\n",
       "    <tr>\n",
       "      <th>2</th>\n",
       "      <td>CDC73</td>\n",
       "      <td>LEO1</td>\n",
       "      <td>Affinity Capture-MS</td>\n",
       "      <td>Krogan NJ (2004)</td>\n",
       "      <td>0</td>\n",
       "    </tr>\n",
       "    <tr>\n",
       "      <th>3</th>\n",
       "      <td>LEO1</td>\n",
       "      <td>CDC73</td>\n",
       "      <td>Affinity Capture-MS</td>\n",
       "      <td>Krogan NJ (2004)</td>\n",
       "      <td>0</td>\n",
       "    </tr>\n",
       "    <tr>\n",
       "      <th>4</th>\n",
       "      <td>CDC73</td>\n",
       "      <td>PAF1</td>\n",
       "      <td>Affinity Capture-MS</td>\n",
       "      <td>Krogan NJ (2004)</td>\n",
       "      <td>0</td>\n",
       "    </tr>\n",
       "  </tbody>\n",
       "</table>\n",
       "</div>"
      ],
      "text/plain": [
       "  gene-query-name gene-target-name     interaction-type      paper-source  \\\n",
       "0           CDC73             CTR9  Affinity Capture-MS  Krogan NJ (2004)   \n",
       "1            CTR9            CDC73  Affinity Capture-MS  Krogan NJ (2004)   \n",
       "2           CDC73             LEO1  Affinity Capture-MS  Krogan NJ (2004)   \n",
       "3            LEO1            CDC73  Affinity Capture-MS  Krogan NJ (2004)   \n",
       "4           CDC73             PAF1  Affinity Capture-MS  Krogan NJ (2004)   \n",
       "\n",
       "   SL-code  \n",
       "0        0  \n",
       "1        0  \n",
       "2        0  \n",
       "3        0  \n",
       "4        0  "
      ]
     },
     "execution_count": 22,
     "metadata": {},
     "output_type": "execute_result"
    }
   ],
   "source": [
    "cat_data_specific = cat_data.copy()\n",
    "cat_data_specific['SL-code'] = np.where(cat_data_specific['interaction-type'].str.contains('Lethality'), 1, 0)\n",
    "\n",
    "cat_data_specific.head()"
   ]
  },
  {
   "cell_type": "code",
   "execution_count": 23,
   "metadata": {
    "execution": {
     "iopub.execute_input": "2020-07-09T09:19:24.379357Z",
     "iopub.status.busy": "2020-07-09T09:19:24.378359Z",
     "iopub.status.idle": "2020-07-09T09:19:24.394318Z",
     "shell.execute_reply": "2020-07-09T09:19:24.394318Z"
    }
   },
   "outputs": [
    {
     "data": {
      "text/html": [
       "<div>\n",
       "<style scoped>\n",
       "    .dataframe tbody tr th:only-of-type {\n",
       "        vertical-align: middle;\n",
       "    }\n",
       "\n",
       "    .dataframe tbody tr th {\n",
       "        vertical-align: top;\n",
       "    }\n",
       "\n",
       "    .dataframe thead th {\n",
       "        text-align: right;\n",
       "    }\n",
       "</style>\n",
       "<table border=\"1\" class=\"dataframe\">\n",
       "  <thead>\n",
       "    <tr style=\"text-align: right;\">\n",
       "      <th></th>\n",
       "      <th>gene-query-name</th>\n",
       "      <th>gene-target-name</th>\n",
       "      <th>interaction-type</th>\n",
       "      <th>paper-source</th>\n",
       "      <th>SL-code</th>\n",
       "    </tr>\n",
       "  </thead>\n",
       "  <tbody>\n",
       "    <tr>\n",
       "      <th>275</th>\n",
       "      <td>BNI1</td>\n",
       "      <td>SWE1</td>\n",
       "      <td>Synthetic Lethality</td>\n",
       "      <td>Goehring AS (2003)</td>\n",
       "      <td>1</td>\n",
       "    </tr>\n",
       "    <tr>\n",
       "      <th>276</th>\n",
       "      <td>BUD6</td>\n",
       "      <td>SWE1</td>\n",
       "      <td>Synthetic Lethality</td>\n",
       "      <td>Goehring AS (2003)</td>\n",
       "      <td>1</td>\n",
       "    </tr>\n",
       "    <tr>\n",
       "      <th>277</th>\n",
       "      <td>CDC42</td>\n",
       "      <td>BEM1</td>\n",
       "      <td>Synthetic Lethality</td>\n",
       "      <td>Kozminski KG (2003)</td>\n",
       "      <td>1</td>\n",
       "    </tr>\n",
       "    <tr>\n",
       "      <th>278</th>\n",
       "      <td>CDC42</td>\n",
       "      <td>BEM4</td>\n",
       "      <td>Synthetic Lethality</td>\n",
       "      <td>Kozminski KG (2003)</td>\n",
       "      <td>1</td>\n",
       "    </tr>\n",
       "    <tr>\n",
       "      <th>279</th>\n",
       "      <td>CDC42</td>\n",
       "      <td>BNI1</td>\n",
       "      <td>Synthetic Lethality</td>\n",
       "      <td>Kozminski KG (2003)</td>\n",
       "      <td>1</td>\n",
       "    </tr>\n",
       "  </tbody>\n",
       "</table>\n",
       "</div>"
      ],
      "text/plain": [
       "    gene-query-name gene-target-name     interaction-type  \\\n",
       "275            BNI1             SWE1  Synthetic Lethality   \n",
       "276            BUD6             SWE1  Synthetic Lethality   \n",
       "277           CDC42             BEM1  Synthetic Lethality   \n",
       "278           CDC42             BEM4  Synthetic Lethality   \n",
       "279           CDC42             BNI1  Synthetic Lethality   \n",
       "\n",
       "            paper-source  SL-code  \n",
       "275   Goehring AS (2003)        1  \n",
       "276   Goehring AS (2003)        1  \n",
       "277  Kozminski KG (2003)        1  \n",
       "278  Kozminski KG (2003)        1  \n",
       "279  Kozminski KG (2003)        1  "
      ]
     },
     "execution_count": 23,
     "metadata": {},
     "output_type": "execute_result"
    }
   ],
   "source": [
    "cat_data_specific[cat_data_specific['SL-code']==1].head()"
   ]
  },
  {
   "cell_type": "markdown",
   "metadata": {},
   "source": [
    "## You can achieve the same label encoding using `scikit-learn's, LabelEncoder`"
   ]
  },
  {
   "cell_type": "code",
   "execution_count": 24,
   "metadata": {
    "execution": {
     "iopub.execute_input": "2020-07-09T09:19:24.408582Z",
     "iopub.status.busy": "2020-07-09T09:19:24.407717Z",
     "iopub.status.idle": "2020-07-09T09:19:24.517923Z",
     "shell.execute_reply": "2020-07-09T09:19:24.518922Z"
    }
   },
   "outputs": [
    {
     "data": {
      "text/html": [
       "<div>\n",
       "<style scoped>\n",
       "    .dataframe tbody tr th:only-of-type {\n",
       "        vertical-align: middle;\n",
       "    }\n",
       "\n",
       "    .dataframe tbody tr th {\n",
       "        vertical-align: top;\n",
       "    }\n",
       "\n",
       "    .dataframe thead th {\n",
       "        text-align: right;\n",
       "    }\n",
       "</style>\n",
       "<table border=\"1\" class=\"dataframe\">\n",
       "  <thead>\n",
       "    <tr style=\"text-align: right;\">\n",
       "      <th></th>\n",
       "      <th>gene-query-name</th>\n",
       "      <th>gene-target-name</th>\n",
       "      <th>interaction-type</th>\n",
       "      <th>paper-source</th>\n",
       "      <th>type_code</th>\n",
       "    </tr>\n",
       "  </thead>\n",
       "  <tbody>\n",
       "    <tr>\n",
       "      <th>365327</th>\n",
       "      <td>YNL181W</td>\n",
       "      <td>DEP1</td>\n",
       "      <td>Positive Genetic</td>\n",
       "      <td>Costanzo M (2016)</td>\n",
       "      <td>18</td>\n",
       "    </tr>\n",
       "    <tr>\n",
       "      <th>365328</th>\n",
       "      <td>YNL181W</td>\n",
       "      <td>DEP1</td>\n",
       "      <td>Negative Genetic</td>\n",
       "      <td>Costanzo M (2016)</td>\n",
       "      <td>14</td>\n",
       "    </tr>\n",
       "    <tr>\n",
       "      <th>365329</th>\n",
       "      <td>YNL181W</td>\n",
       "      <td>FUN30</td>\n",
       "      <td>Positive Genetic</td>\n",
       "      <td>Costanzo M (2016)</td>\n",
       "      <td>18</td>\n",
       "    </tr>\n",
       "    <tr>\n",
       "      <th>365330</th>\n",
       "      <td>YNL181W</td>\n",
       "      <td>CLN3</td>\n",
       "      <td>Positive Genetic</td>\n",
       "      <td>Costanzo M (2016)</td>\n",
       "      <td>18</td>\n",
       "    </tr>\n",
       "    <tr>\n",
       "      <th>365331</th>\n",
       "      <td>YNL181W</td>\n",
       "      <td>CNE1</td>\n",
       "      <td>Positive Genetic</td>\n",
       "      <td>Costanzo M (2016)</td>\n",
       "      <td>18</td>\n",
       "    </tr>\n",
       "  </tbody>\n",
       "</table>\n",
       "</div>"
      ],
      "text/plain": [
       "       gene-query-name gene-target-name  interaction-type       paper-source  \\\n",
       "365327         YNL181W             DEP1  Positive Genetic  Costanzo M (2016)   \n",
       "365328         YNL181W             DEP1  Negative Genetic  Costanzo M (2016)   \n",
       "365329         YNL181W            FUN30  Positive Genetic  Costanzo M (2016)   \n",
       "365330         YNL181W             CLN3  Positive Genetic  Costanzo M (2016)   \n",
       "365331         YNL181W             CNE1  Positive Genetic  Costanzo M (2016)   \n",
       "\n",
       "        type_code  \n",
       "365327         18  \n",
       "365328         14  \n",
       "365329         18  \n",
       "365330         18  \n",
       "365331         18  "
      ]
     },
     "execution_count": 24,
     "metadata": {},
     "output_type": "execute_result"
    }
   ],
   "source": [
    "cat_data_sklearn = cat_data.copy()\n",
    "\n",
    "from sklearn.preprocessing import LabelEncoder\n",
    "\n",
    "lb_make = LabelEncoder()\n",
    "cat_data_sklearn['type_code'] = lb_make.fit_transform(cat_data['interaction-type'])\n",
    "\n",
    "cat_data_sklearn.tail() #Results in appending a new column to df"
   ]
  },
  {
   "cell_type": "markdown",
   "metadata": {},
   "source": [
    "Label encoding is pretty much intuitive and straight-forward and may give you a good performance from your learning algorithm, but it has as disadvantage that the numerical values can be misinterpreted by the algorithm. \n",
    "\n",
    "To solve this issue there is another popular way to encode the categories via something called one-hot encoding.\n",
    "\n",
    "\n",
    "## One-Hot encoding\n",
    "\n",
    "The basic strategy is to convert each category value into a new column and assign a 1 or 0 (True/False) value to the column. This has the benefit of not weighting a value improperly.\n",
    "\n",
    "There are many libraries out there that support one-hot encoding but the simplest one is using pandas' ```.get_dummies()``` method.\n",
    "\n",
    "This function is named this way because it creates dummy/indicator variables (1 or 0). There are mainly three arguments important here, the first one is the DataFrame you want to encode on, second being the columns argument which lets you specify the columns you want to do encoding on, and third, the prefix argument which lets you specify the prefix for the new columns that will be created after encoding."
   ]
  },
  {
   "cell_type": "code",
   "execution_count": 25,
   "metadata": {
    "execution": {
     "iopub.execute_input": "2020-07-09T09:19:24.544361Z",
     "iopub.status.busy": "2020-07-09T09:19:24.530525Z",
     "iopub.status.idle": "2020-07-09T09:19:24.648941Z",
     "shell.execute_reply": "2020-07-09T09:19:24.649937Z"
    }
   },
   "outputs": [
    {
     "data": {
      "text/html": [
       "<div>\n",
       "<style scoped>\n",
       "    .dataframe tbody tr th:only-of-type {\n",
       "        vertical-align: middle;\n",
       "    }\n",
       "\n",
       "    .dataframe tbody tr th {\n",
       "        vertical-align: top;\n",
       "    }\n",
       "\n",
       "    .dataframe thead th {\n",
       "        text-align: right;\n",
       "    }\n",
       "</style>\n",
       "<table border=\"1\" class=\"dataframe\">\n",
       "  <thead>\n",
       "    <tr style=\"text-align: right;\">\n",
       "      <th></th>\n",
       "      <th>gene-query-name</th>\n",
       "      <th>gene-target-name</th>\n",
       "      <th>paper-source</th>\n",
       "      <th>interaction-type_Affinity Capture-Luminescence</th>\n",
       "      <th>interaction-type_Affinity Capture-MS</th>\n",
       "      <th>interaction-type_Affinity Capture-RNA</th>\n",
       "      <th>interaction-type_Affinity Capture-Western</th>\n",
       "      <th>interaction-type_Biochemical Activity</th>\n",
       "      <th>interaction-type_Co-crystal Structure</th>\n",
       "      <th>interaction-type_Co-fractionation</th>\n",
       "      <th>...</th>\n",
       "      <th>interaction-type_Phenotypic Suppression</th>\n",
       "      <th>interaction-type_Positive Genetic</th>\n",
       "      <th>interaction-type_Protein-RNA</th>\n",
       "      <th>interaction-type_Protein-peptide</th>\n",
       "      <th>interaction-type_Reconstituted Complex</th>\n",
       "      <th>interaction-type_Synthetic Growth Defect</th>\n",
       "      <th>interaction-type_Synthetic Haploinsufficiency</th>\n",
       "      <th>interaction-type_Synthetic Lethality</th>\n",
       "      <th>interaction-type_Synthetic Rescue</th>\n",
       "      <th>interaction-type_Two-hybrid</th>\n",
       "    </tr>\n",
       "  </thead>\n",
       "  <tbody>\n",
       "    <tr>\n",
       "      <th>0</th>\n",
       "      <td>CDC73</td>\n",
       "      <td>CTR9</td>\n",
       "      <td>Krogan NJ (2004)</td>\n",
       "      <td>0</td>\n",
       "      <td>1</td>\n",
       "      <td>0</td>\n",
       "      <td>0</td>\n",
       "      <td>0</td>\n",
       "      <td>0</td>\n",
       "      <td>0</td>\n",
       "      <td>...</td>\n",
       "      <td>0</td>\n",
       "      <td>0</td>\n",
       "      <td>0</td>\n",
       "      <td>0</td>\n",
       "      <td>0</td>\n",
       "      <td>0</td>\n",
       "      <td>0</td>\n",
       "      <td>0</td>\n",
       "      <td>0</td>\n",
       "      <td>0</td>\n",
       "    </tr>\n",
       "    <tr>\n",
       "      <th>1</th>\n",
       "      <td>CTR9</td>\n",
       "      <td>CDC73</td>\n",
       "      <td>Krogan NJ (2004)</td>\n",
       "      <td>0</td>\n",
       "      <td>1</td>\n",
       "      <td>0</td>\n",
       "      <td>0</td>\n",
       "      <td>0</td>\n",
       "      <td>0</td>\n",
       "      <td>0</td>\n",
       "      <td>...</td>\n",
       "      <td>0</td>\n",
       "      <td>0</td>\n",
       "      <td>0</td>\n",
       "      <td>0</td>\n",
       "      <td>0</td>\n",
       "      <td>0</td>\n",
       "      <td>0</td>\n",
       "      <td>0</td>\n",
       "      <td>0</td>\n",
       "      <td>0</td>\n",
       "    </tr>\n",
       "    <tr>\n",
       "      <th>2</th>\n",
       "      <td>CDC73</td>\n",
       "      <td>LEO1</td>\n",
       "      <td>Krogan NJ (2004)</td>\n",
       "      <td>0</td>\n",
       "      <td>1</td>\n",
       "      <td>0</td>\n",
       "      <td>0</td>\n",
       "      <td>0</td>\n",
       "      <td>0</td>\n",
       "      <td>0</td>\n",
       "      <td>...</td>\n",
       "      <td>0</td>\n",
       "      <td>0</td>\n",
       "      <td>0</td>\n",
       "      <td>0</td>\n",
       "      <td>0</td>\n",
       "      <td>0</td>\n",
       "      <td>0</td>\n",
       "      <td>0</td>\n",
       "      <td>0</td>\n",
       "      <td>0</td>\n",
       "    </tr>\n",
       "    <tr>\n",
       "      <th>3</th>\n",
       "      <td>LEO1</td>\n",
       "      <td>CDC73</td>\n",
       "      <td>Krogan NJ (2004)</td>\n",
       "      <td>0</td>\n",
       "      <td>1</td>\n",
       "      <td>0</td>\n",
       "      <td>0</td>\n",
       "      <td>0</td>\n",
       "      <td>0</td>\n",
       "      <td>0</td>\n",
       "      <td>...</td>\n",
       "      <td>0</td>\n",
       "      <td>0</td>\n",
       "      <td>0</td>\n",
       "      <td>0</td>\n",
       "      <td>0</td>\n",
       "      <td>0</td>\n",
       "      <td>0</td>\n",
       "      <td>0</td>\n",
       "      <td>0</td>\n",
       "      <td>0</td>\n",
       "    </tr>\n",
       "    <tr>\n",
       "      <th>4</th>\n",
       "      <td>CDC73</td>\n",
       "      <td>PAF1</td>\n",
       "      <td>Krogan NJ (2004)</td>\n",
       "      <td>0</td>\n",
       "      <td>1</td>\n",
       "      <td>0</td>\n",
       "      <td>0</td>\n",
       "      <td>0</td>\n",
       "      <td>0</td>\n",
       "      <td>0</td>\n",
       "      <td>...</td>\n",
       "      <td>0</td>\n",
       "      <td>0</td>\n",
       "      <td>0</td>\n",
       "      <td>0</td>\n",
       "      <td>0</td>\n",
       "      <td>0</td>\n",
       "      <td>0</td>\n",
       "      <td>0</td>\n",
       "      <td>0</td>\n",
       "      <td>0</td>\n",
       "    </tr>\n",
       "  </tbody>\n",
       "</table>\n",
       "<p>5 rows × 30 columns</p>\n",
       "</div>"
      ],
      "text/plain": [
       "  gene-query-name gene-target-name      paper-source  \\\n",
       "0           CDC73             CTR9  Krogan NJ (2004)   \n",
       "1            CTR9            CDC73  Krogan NJ (2004)   \n",
       "2           CDC73             LEO1  Krogan NJ (2004)   \n",
       "3            LEO1            CDC73  Krogan NJ (2004)   \n",
       "4           CDC73             PAF1  Krogan NJ (2004)   \n",
       "\n",
       "   interaction-type_Affinity Capture-Luminescence  \\\n",
       "0                                               0   \n",
       "1                                               0   \n",
       "2                                               0   \n",
       "3                                               0   \n",
       "4                                               0   \n",
       "\n",
       "   interaction-type_Affinity Capture-MS  \\\n",
       "0                                     1   \n",
       "1                                     1   \n",
       "2                                     1   \n",
       "3                                     1   \n",
       "4                                     1   \n",
       "\n",
       "   interaction-type_Affinity Capture-RNA  \\\n",
       "0                                      0   \n",
       "1                                      0   \n",
       "2                                      0   \n",
       "3                                      0   \n",
       "4                                      0   \n",
       "\n",
       "   interaction-type_Affinity Capture-Western  \\\n",
       "0                                          0   \n",
       "1                                          0   \n",
       "2                                          0   \n",
       "3                                          0   \n",
       "4                                          0   \n",
       "\n",
       "   interaction-type_Biochemical Activity  \\\n",
       "0                                      0   \n",
       "1                                      0   \n",
       "2                                      0   \n",
       "3                                      0   \n",
       "4                                      0   \n",
       "\n",
       "   interaction-type_Co-crystal Structure  interaction-type_Co-fractionation  \\\n",
       "0                                      0                                  0   \n",
       "1                                      0                                  0   \n",
       "2                                      0                                  0   \n",
       "3                                      0                                  0   \n",
       "4                                      0                                  0   \n",
       "\n",
       "   ...  interaction-type_Phenotypic Suppression  \\\n",
       "0  ...                                        0   \n",
       "1  ...                                        0   \n",
       "2  ...                                        0   \n",
       "3  ...                                        0   \n",
       "4  ...                                        0   \n",
       "\n",
       "   interaction-type_Positive Genetic  interaction-type_Protein-RNA  \\\n",
       "0                                  0                             0   \n",
       "1                                  0                             0   \n",
       "2                                  0                             0   \n",
       "3                                  0                             0   \n",
       "4                                  0                             0   \n",
       "\n",
       "   interaction-type_Protein-peptide  interaction-type_Reconstituted Complex  \\\n",
       "0                                 0                                       0   \n",
       "1                                 0                                       0   \n",
       "2                                 0                                       0   \n",
       "3                                 0                                       0   \n",
       "4                                 0                                       0   \n",
       "\n",
       "   interaction-type_Synthetic Growth Defect  \\\n",
       "0                                         0   \n",
       "1                                         0   \n",
       "2                                         0   \n",
       "3                                         0   \n",
       "4                                         0   \n",
       "\n",
       "   interaction-type_Synthetic Haploinsufficiency  \\\n",
       "0                                              0   \n",
       "1                                              0   \n",
       "2                                              0   \n",
       "3                                              0   \n",
       "4                                              0   \n",
       "\n",
       "   interaction-type_Synthetic Lethality  interaction-type_Synthetic Rescue  \\\n",
       "0                                     0                                  0   \n",
       "1                                     0                                  0   \n",
       "2                                     0                                  0   \n",
       "3                                     0                                  0   \n",
       "4                                     0                                  0   \n",
       "\n",
       "   interaction-type_Two-hybrid  \n",
       "0                            0  \n",
       "1                            0  \n",
       "2                            0  \n",
       "3                            0  \n",
       "4                            0  \n",
       "\n",
       "[5 rows x 30 columns]"
      ]
     },
     "execution_count": 25,
     "metadata": {},
     "output_type": "execute_result"
    }
   ],
   "source": [
    "cat_data_onehot = cat_data.copy()\n",
    "cat_data_onehot = pd.get_dummies(cat_data_onehot, columns=['interaction-type'])\n",
    "\n",
    "\n",
    "cat_data_onehot.head()"
   ]
  },
  {
   "cell_type": "markdown",
   "metadata": {},
   "source": [
    "```scikit-learn``` also supports one hot encoding via ```LabelBinarizer``` and ```OneHotEncoder``` in its preprocessing module (check out the details here). Just for the sake of practicing you will do the same encoding via ```LabelBinarizer```:"
   ]
  },
  {
   "cell_type": "code",
   "execution_count": 26,
   "metadata": {
    "execution": {
     "iopub.execute_input": "2020-07-09T09:19:24.917554Z",
     "iopub.status.busy": "2020-07-09T09:19:24.661310Z",
     "iopub.status.idle": "2020-07-09T09:19:26.779667Z",
     "shell.execute_reply": "2020-07-09T09:19:26.780688Z"
    }
   },
   "outputs": [
    {
     "data": {
      "text/html": [
       "<div>\n",
       "<style scoped>\n",
       "    .dataframe tbody tr th:only-of-type {\n",
       "        vertical-align: middle;\n",
       "    }\n",
       "\n",
       "    .dataframe tbody tr th {\n",
       "        vertical-align: top;\n",
       "    }\n",
       "\n",
       "    .dataframe thead th {\n",
       "        text-align: right;\n",
       "    }\n",
       "</style>\n",
       "<table border=\"1\" class=\"dataframe\">\n",
       "  <thead>\n",
       "    <tr style=\"text-align: right;\">\n",
       "      <th></th>\n",
       "      <th>Affinity Capture-Luminescence</th>\n",
       "      <th>Affinity Capture-MS</th>\n",
       "      <th>Affinity Capture-RNA</th>\n",
       "      <th>Affinity Capture-Western</th>\n",
       "      <th>Biochemical Activity</th>\n",
       "      <th>Co-crystal Structure</th>\n",
       "      <th>Co-fractionation</th>\n",
       "      <th>Co-localization</th>\n",
       "      <th>Co-purification</th>\n",
       "      <th>Dosage Growth Defect</th>\n",
       "      <th>...</th>\n",
       "      <th>Phenotypic Suppression</th>\n",
       "      <th>Positive Genetic</th>\n",
       "      <th>Protein-RNA</th>\n",
       "      <th>Protein-peptide</th>\n",
       "      <th>Reconstituted Complex</th>\n",
       "      <th>Synthetic Growth Defect</th>\n",
       "      <th>Synthetic Haploinsufficiency</th>\n",
       "      <th>Synthetic Lethality</th>\n",
       "      <th>Synthetic Rescue</th>\n",
       "      <th>Two-hybrid</th>\n",
       "    </tr>\n",
       "  </thead>\n",
       "  <tbody>\n",
       "    <tr>\n",
       "      <th>0</th>\n",
       "      <td>0</td>\n",
       "      <td>1</td>\n",
       "      <td>0</td>\n",
       "      <td>0</td>\n",
       "      <td>0</td>\n",
       "      <td>0</td>\n",
       "      <td>0</td>\n",
       "      <td>0</td>\n",
       "      <td>0</td>\n",
       "      <td>0</td>\n",
       "      <td>...</td>\n",
       "      <td>0</td>\n",
       "      <td>0</td>\n",
       "      <td>0</td>\n",
       "      <td>0</td>\n",
       "      <td>0</td>\n",
       "      <td>0</td>\n",
       "      <td>0</td>\n",
       "      <td>0</td>\n",
       "      <td>0</td>\n",
       "      <td>0</td>\n",
       "    </tr>\n",
       "    <tr>\n",
       "      <th>1</th>\n",
       "      <td>0</td>\n",
       "      <td>1</td>\n",
       "      <td>0</td>\n",
       "      <td>0</td>\n",
       "      <td>0</td>\n",
       "      <td>0</td>\n",
       "      <td>0</td>\n",
       "      <td>0</td>\n",
       "      <td>0</td>\n",
       "      <td>0</td>\n",
       "      <td>...</td>\n",
       "      <td>0</td>\n",
       "      <td>0</td>\n",
       "      <td>0</td>\n",
       "      <td>0</td>\n",
       "      <td>0</td>\n",
       "      <td>0</td>\n",
       "      <td>0</td>\n",
       "      <td>0</td>\n",
       "      <td>0</td>\n",
       "      <td>0</td>\n",
       "    </tr>\n",
       "    <tr>\n",
       "      <th>2</th>\n",
       "      <td>0</td>\n",
       "      <td>1</td>\n",
       "      <td>0</td>\n",
       "      <td>0</td>\n",
       "      <td>0</td>\n",
       "      <td>0</td>\n",
       "      <td>0</td>\n",
       "      <td>0</td>\n",
       "      <td>0</td>\n",
       "      <td>0</td>\n",
       "      <td>...</td>\n",
       "      <td>0</td>\n",
       "      <td>0</td>\n",
       "      <td>0</td>\n",
       "      <td>0</td>\n",
       "      <td>0</td>\n",
       "      <td>0</td>\n",
       "      <td>0</td>\n",
       "      <td>0</td>\n",
       "      <td>0</td>\n",
       "      <td>0</td>\n",
       "    </tr>\n",
       "    <tr>\n",
       "      <th>3</th>\n",
       "      <td>0</td>\n",
       "      <td>1</td>\n",
       "      <td>0</td>\n",
       "      <td>0</td>\n",
       "      <td>0</td>\n",
       "      <td>0</td>\n",
       "      <td>0</td>\n",
       "      <td>0</td>\n",
       "      <td>0</td>\n",
       "      <td>0</td>\n",
       "      <td>...</td>\n",
       "      <td>0</td>\n",
       "      <td>0</td>\n",
       "      <td>0</td>\n",
       "      <td>0</td>\n",
       "      <td>0</td>\n",
       "      <td>0</td>\n",
       "      <td>0</td>\n",
       "      <td>0</td>\n",
       "      <td>0</td>\n",
       "      <td>0</td>\n",
       "    </tr>\n",
       "    <tr>\n",
       "      <th>4</th>\n",
       "      <td>0</td>\n",
       "      <td>1</td>\n",
       "      <td>0</td>\n",
       "      <td>0</td>\n",
       "      <td>0</td>\n",
       "      <td>0</td>\n",
       "      <td>0</td>\n",
       "      <td>0</td>\n",
       "      <td>0</td>\n",
       "      <td>0</td>\n",
       "      <td>...</td>\n",
       "      <td>0</td>\n",
       "      <td>0</td>\n",
       "      <td>0</td>\n",
       "      <td>0</td>\n",
       "      <td>0</td>\n",
       "      <td>0</td>\n",
       "      <td>0</td>\n",
       "      <td>0</td>\n",
       "      <td>0</td>\n",
       "      <td>0</td>\n",
       "    </tr>\n",
       "  </tbody>\n",
       "</table>\n",
       "<p>5 rows × 27 columns</p>\n",
       "</div>"
      ],
      "text/plain": [
       "   Affinity Capture-Luminescence  Affinity Capture-MS  Affinity Capture-RNA  \\\n",
       "0                              0                    1                     0   \n",
       "1                              0                    1                     0   \n",
       "2                              0                    1                     0   \n",
       "3                              0                    1                     0   \n",
       "4                              0                    1                     0   \n",
       "\n",
       "   Affinity Capture-Western  Biochemical Activity  Co-crystal Structure  \\\n",
       "0                         0                     0                     0   \n",
       "1                         0                     0                     0   \n",
       "2                         0                     0                     0   \n",
       "3                         0                     0                     0   \n",
       "4                         0                     0                     0   \n",
       "\n",
       "   Co-fractionation  Co-localization  Co-purification  Dosage Growth Defect  \\\n",
       "0                 0                0                0                     0   \n",
       "1                 0                0                0                     0   \n",
       "2                 0                0                0                     0   \n",
       "3                 0                0                0                     0   \n",
       "4                 0                0                0                     0   \n",
       "\n",
       "   ...  Phenotypic Suppression  Positive Genetic  Protein-RNA  \\\n",
       "0  ...                       0                 0            0   \n",
       "1  ...                       0                 0            0   \n",
       "2  ...                       0                 0            0   \n",
       "3  ...                       0                 0            0   \n",
       "4  ...                       0                 0            0   \n",
       "\n",
       "   Protein-peptide  Reconstituted Complex  Synthetic Growth Defect  \\\n",
       "0                0                      0                        0   \n",
       "1                0                      0                        0   \n",
       "2                0                      0                        0   \n",
       "3                0                      0                        0   \n",
       "4                0                      0                        0   \n",
       "\n",
       "   Synthetic Haploinsufficiency  Synthetic Lethality  Synthetic Rescue  \\\n",
       "0                             0                    0                 0   \n",
       "1                             0                    0                 0   \n",
       "2                             0                    0                 0   \n",
       "3                             0                    0                 0   \n",
       "4                             0                    0                 0   \n",
       "\n",
       "   Two-hybrid  \n",
       "0           0  \n",
       "1           0  \n",
       "2           0  \n",
       "3           0  \n",
       "4           0  \n",
       "\n",
       "[5 rows x 27 columns]"
      ]
     },
     "execution_count": 26,
     "metadata": {},
     "output_type": "execute_result"
    }
   ],
   "source": [
    "cat_data_onehot_sklearn = cat_data.copy()\n",
    "\n",
    "from sklearn.preprocessing import LabelBinarizer\n",
    "\n",
    "lb = LabelBinarizer()\n",
    "lb_results = lb.fit_transform(cat_data_onehot_sklearn['interaction-type'])\n",
    "lb_results_df = pd.DataFrame(lb_results, columns=lb.classes_)\n",
    "\n",
    "lb_results_df.head()"
   ]
  },
  {
   "cell_type": "code",
   "execution_count": 27,
   "metadata": {
    "execution": {
     "iopub.execute_input": "2020-07-09T09:19:26.799779Z",
     "iopub.status.busy": "2020-07-09T09:19:26.787781Z",
     "iopub.status.idle": "2020-07-09T09:19:27.048496Z",
     "shell.execute_reply": "2020-07-09T09:19:27.049493Z"
    }
   },
   "outputs": [
    {
     "data": {
      "text/html": [
       "<div>\n",
       "<style scoped>\n",
       "    .dataframe tbody tr th:only-of-type {\n",
       "        vertical-align: middle;\n",
       "    }\n",
       "\n",
       "    .dataframe tbody tr th {\n",
       "        vertical-align: top;\n",
       "    }\n",
       "\n",
       "    .dataframe thead th {\n",
       "        text-align: right;\n",
       "    }\n",
       "</style>\n",
       "<table border=\"1\" class=\"dataframe\">\n",
       "  <thead>\n",
       "    <tr style=\"text-align: right;\">\n",
       "      <th></th>\n",
       "      <th>gene-query-name</th>\n",
       "      <th>gene-target-name</th>\n",
       "      <th>interaction-type</th>\n",
       "      <th>paper-source</th>\n",
       "      <th>Affinity Capture-Luminescence</th>\n",
       "      <th>Affinity Capture-MS</th>\n",
       "      <th>Affinity Capture-RNA</th>\n",
       "      <th>Affinity Capture-Western</th>\n",
       "      <th>Biochemical Activity</th>\n",
       "      <th>Co-crystal Structure</th>\n",
       "      <th>...</th>\n",
       "      <th>Phenotypic Suppression</th>\n",
       "      <th>Positive Genetic</th>\n",
       "      <th>Protein-RNA</th>\n",
       "      <th>Protein-peptide</th>\n",
       "      <th>Reconstituted Complex</th>\n",
       "      <th>Synthetic Growth Defect</th>\n",
       "      <th>Synthetic Haploinsufficiency</th>\n",
       "      <th>Synthetic Lethality</th>\n",
       "      <th>Synthetic Rescue</th>\n",
       "      <th>Two-hybrid</th>\n",
       "    </tr>\n",
       "  </thead>\n",
       "  <tbody>\n",
       "    <tr>\n",
       "      <th>0</th>\n",
       "      <td>CDC73</td>\n",
       "      <td>CTR9</td>\n",
       "      <td>Affinity Capture-MS</td>\n",
       "      <td>Krogan NJ (2004)</td>\n",
       "      <td>0</td>\n",
       "      <td>1</td>\n",
       "      <td>0</td>\n",
       "      <td>0</td>\n",
       "      <td>0</td>\n",
       "      <td>0</td>\n",
       "      <td>...</td>\n",
       "      <td>0</td>\n",
       "      <td>0</td>\n",
       "      <td>0</td>\n",
       "      <td>0</td>\n",
       "      <td>0</td>\n",
       "      <td>0</td>\n",
       "      <td>0</td>\n",
       "      <td>0</td>\n",
       "      <td>0</td>\n",
       "      <td>0</td>\n",
       "    </tr>\n",
       "    <tr>\n",
       "      <th>1</th>\n",
       "      <td>CTR9</td>\n",
       "      <td>CDC73</td>\n",
       "      <td>Affinity Capture-MS</td>\n",
       "      <td>Krogan NJ (2004)</td>\n",
       "      <td>0</td>\n",
       "      <td>1</td>\n",
       "      <td>0</td>\n",
       "      <td>0</td>\n",
       "      <td>0</td>\n",
       "      <td>0</td>\n",
       "      <td>...</td>\n",
       "      <td>0</td>\n",
       "      <td>0</td>\n",
       "      <td>0</td>\n",
       "      <td>0</td>\n",
       "      <td>0</td>\n",
       "      <td>0</td>\n",
       "      <td>0</td>\n",
       "      <td>0</td>\n",
       "      <td>0</td>\n",
       "      <td>0</td>\n",
       "    </tr>\n",
       "    <tr>\n",
       "      <th>2</th>\n",
       "      <td>CDC73</td>\n",
       "      <td>LEO1</td>\n",
       "      <td>Affinity Capture-MS</td>\n",
       "      <td>Krogan NJ (2004)</td>\n",
       "      <td>0</td>\n",
       "      <td>1</td>\n",
       "      <td>0</td>\n",
       "      <td>0</td>\n",
       "      <td>0</td>\n",
       "      <td>0</td>\n",
       "      <td>...</td>\n",
       "      <td>0</td>\n",
       "      <td>0</td>\n",
       "      <td>0</td>\n",
       "      <td>0</td>\n",
       "      <td>0</td>\n",
       "      <td>0</td>\n",
       "      <td>0</td>\n",
       "      <td>0</td>\n",
       "      <td>0</td>\n",
       "      <td>0</td>\n",
       "    </tr>\n",
       "    <tr>\n",
       "      <th>3</th>\n",
       "      <td>LEO1</td>\n",
       "      <td>CDC73</td>\n",
       "      <td>Affinity Capture-MS</td>\n",
       "      <td>Krogan NJ (2004)</td>\n",
       "      <td>0</td>\n",
       "      <td>1</td>\n",
       "      <td>0</td>\n",
       "      <td>0</td>\n",
       "      <td>0</td>\n",
       "      <td>0</td>\n",
       "      <td>...</td>\n",
       "      <td>0</td>\n",
       "      <td>0</td>\n",
       "      <td>0</td>\n",
       "      <td>0</td>\n",
       "      <td>0</td>\n",
       "      <td>0</td>\n",
       "      <td>0</td>\n",
       "      <td>0</td>\n",
       "      <td>0</td>\n",
       "      <td>0</td>\n",
       "    </tr>\n",
       "    <tr>\n",
       "      <th>4</th>\n",
       "      <td>CDC73</td>\n",
       "      <td>PAF1</td>\n",
       "      <td>Affinity Capture-MS</td>\n",
       "      <td>Krogan NJ (2004)</td>\n",
       "      <td>0</td>\n",
       "      <td>1</td>\n",
       "      <td>0</td>\n",
       "      <td>0</td>\n",
       "      <td>0</td>\n",
       "      <td>0</td>\n",
       "      <td>...</td>\n",
       "      <td>0</td>\n",
       "      <td>0</td>\n",
       "      <td>0</td>\n",
       "      <td>0</td>\n",
       "      <td>0</td>\n",
       "      <td>0</td>\n",
       "      <td>0</td>\n",
       "      <td>0</td>\n",
       "      <td>0</td>\n",
       "      <td>0</td>\n",
       "    </tr>\n",
       "  </tbody>\n",
       "</table>\n",
       "<p>5 rows × 31 columns</p>\n",
       "</div>"
      ],
      "text/plain": [
       "  gene-query-name gene-target-name     interaction-type      paper-source  \\\n",
       "0           CDC73             CTR9  Affinity Capture-MS  Krogan NJ (2004)   \n",
       "1            CTR9            CDC73  Affinity Capture-MS  Krogan NJ (2004)   \n",
       "2           CDC73             LEO1  Affinity Capture-MS  Krogan NJ (2004)   \n",
       "3            LEO1            CDC73  Affinity Capture-MS  Krogan NJ (2004)   \n",
       "4           CDC73             PAF1  Affinity Capture-MS  Krogan NJ (2004)   \n",
       "\n",
       "   Affinity Capture-Luminescence  Affinity Capture-MS  Affinity Capture-RNA  \\\n",
       "0                              0                    1                     0   \n",
       "1                              0                    1                     0   \n",
       "2                              0                    1                     0   \n",
       "3                              0                    1                     0   \n",
       "4                              0                    1                     0   \n",
       "\n",
       "   Affinity Capture-Western  Biochemical Activity  Co-crystal Structure  ...  \\\n",
       "0                         0                     0                     0  ...   \n",
       "1                         0                     0                     0  ...   \n",
       "2                         0                     0                     0  ...   \n",
       "3                         0                     0                     0  ...   \n",
       "4                         0                     0                     0  ...   \n",
       "\n",
       "   Phenotypic Suppression  Positive Genetic  Protein-RNA  Protein-peptide  \\\n",
       "0                       0                 0            0                0   \n",
       "1                       0                 0            0                0   \n",
       "2                       0                 0            0                0   \n",
       "3                       0                 0            0                0   \n",
       "4                       0                 0            0                0   \n",
       "\n",
       "   Reconstituted Complex  Synthetic Growth Defect  \\\n",
       "0                      0                        0   \n",
       "1                      0                        0   \n",
       "2                      0                        0   \n",
       "3                      0                        0   \n",
       "4                      0                        0   \n",
       "\n",
       "   Synthetic Haploinsufficiency  Synthetic Lethality  Synthetic Rescue  \\\n",
       "0                             0                    0                 0   \n",
       "1                             0                    0                 0   \n",
       "2                             0                    0                 0   \n",
       "3                             0                    0                 0   \n",
       "4                             0                    0                 0   \n",
       "\n",
       "   Two-hybrid  \n",
       "0           0  \n",
       "1           0  \n",
       "2           0  \n",
       "3           0  \n",
       "4           0  \n",
       "\n",
       "[5 rows x 31 columns]"
      ]
     },
     "execution_count": 27,
     "metadata": {},
     "output_type": "execute_result"
    }
   ],
   "source": [
    "result_df = pd.concat([cat_data_onehot_sklearn, lb_results_df], axis=1)\n",
    "\n",
    "result_df.head()"
   ]
  },
  {
   "cell_type": "markdown",
   "metadata": {},
   "source": [
    "**While one-hot encoding solves the problem of unequal weights given to categories within a feature**, it is not very useful when there are many categories, as that will result in formation of as many new columns, which can result in the curse of dimensionality. The concept of the “curse of dimensionality” discusses that in high-dimensional spaces some things just stop working properly."
   ]
  }
 ],
 "metadata": {
  "jupytext": {
   "text_representation": {
    "extension": ".md",
    "format_name": "myst"
   }
  },
  "kernelspec": {
   "display_name": "Python 3",
   "language": "python",
   "name": "python3"
  },
  "language_info": {
   "codemirror_mode": {
    "name": "ipython",
    "version": 3
   },
   "file_extension": ".py",
   "mimetype": "text/x-python",
   "name": "python",
   "nbconvert_exporter": "python",
   "pygments_lexer": "ipython3",
   "version": "3.7.6"
  },
  "source_map": [
   10,
   17,
   24,
   35,
   41,
   46,
   51,
   53,
   60,
   65,
   67,
   75,
   80,
   88,
   90,
   95,
   102,
   104,
   111,
   113,
   120,
   128,
   149,
   155,
   157,
   164,
   169,
   173,
   185,
   191,
   196,
   198,
   209,
   218,
   220,
   229,
   238,
   257,
   263,
   270,
   288,
   292
  ]
 },
 "nbformat": 4,
 "nbformat_minor": 4
}