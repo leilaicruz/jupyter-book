{
 "cells": [
  {
   "cell_type": "markdown",
   "metadata": {},
   "source": [
    "(machine-learning-replication-protein-domains)=\n",
    "\n",
    "# Machine learning algorithm based on protein domains\n",
    "\n",
    "## Paper replication\n",
    "\n",
    "- Replication of results from paper: \"Predicting yeast synthetic lethal genetic interactions using protein domains\"\n",
    "    - Authors: Bo Li, Feng Luo,School of Computing,Clemson University,Clemson, SC, USA\n",
    "    - e-mail: bol, luofeng@clemson.edu\n",
    "    - year:2009"
   ]
  },
  {
   "cell_type": "code",
   "execution_count": 1,
   "metadata": {
    "execution": {
     "iopub.execute_input": "2020-05-30T05:46:19.796814Z",
     "iopub.status.busy": "2020-05-30T05:46:19.791826Z",
     "iopub.status.idle": "2020-05-30T05:46:20.888866Z",
     "shell.execute_reply": "2020-05-30T05:46:20.889866Z"
    }
   },
   "outputs": [],
   "source": [
    "%matplotlib inline\n",
    "import pandas as pd\n",
    "import numpy as np\n",
    "import matplotlib.pyplot as plt\n",
    "from collections import defaultdict \n",
    "import seaborn as sns\n",
    "import matplotlib.cm as cm\n",
    "import scipy as scipy\n",
    "import random"
   ]
  },
  {
   "cell_type": "code",
   "execution_count": 2,
   "metadata": {
    "execution": {
     "iopub.execute_input": "2020-05-30T05:46:20.893855Z",
     "iopub.status.busy": "2020-05-30T05:46:20.890861Z",
     "iopub.status.idle": "2020-05-30T05:46:28.912241Z",
     "shell.execute_reply": "2020-05-30T05:46:28.912241Z"
    }
   },
   "outputs": [],
   "source": [
    "## Datasets\n",
    "data_domains=pd.read_excel(r'C:\\Users\\linigodelacruz\\Documents\\PhD_2018\\Documentation\\Calculations\\machine-learning-for-yeast\\datasets-for-learning\\proteins-domains-from-Pfam.xlsx',header=0,index_col='Unnamed: 0')\n",
    "data_domains=data_domains.dropna()\n",
    "data_sl=pd.read_excel(r'C:\\Users\\linigodelacruz\\Documents\\PhD_2018\\Documentation\\Calculations\\machine-learning-for-yeast\\datasets-for-learning\\data-synthetic-lethals.xlsx',header=0)\n",
    "data_nonsl=pd.read_excel(r'C:\\Users\\linigodelacruz\\Documents\\PhD_2018\\Documentation\\Calculations\\machine-learning-for-yeast\\datasets-for-learning\\data-positive-genetic.xlsx',header=0)"
   ]
  },
  {
   "cell_type": "markdown",
   "metadata": {},
   "source": [
    "## Building the feature matrix\n",
    "One matrix for true SL where each row is one pair of SL. Every raw will be a vector of 0,1 or 2 depending on the comparison with the domain list. For row i the jth element = 0 if the jth element of the domain list is not in neither protein A and B, 1, if it is in one of them and 2 if it is in both of them .\n",
    "\n",
    "# Building the list of proteins domains id per protein pair separately :\n",
    "List of protein A: Search for the Sl/nSL database the query gene name and look in the protein domain database which protein domains id has each of those queries.\n",
    "List of protein B: Search for the Sl/nSL database the target gene name of the previous query and look in the protein domain database which protein domains id has each of those target genes."
   ]
  },
  {
   "cell_type": "code",
   "execution_count": 3,
   "metadata": {
    "execution": {
     "iopub.execute_input": "2020-05-30T05:46:28.929224Z",
     "iopub.status.busy": "2020-05-30T05:46:28.920219Z",
     "iopub.status.idle": "2020-05-30T05:47:06.405177Z",
     "shell.execute_reply": "2020-05-30T05:47:06.404180Z"
    }
   },
   "outputs": [],
   "source": [
    "# Selecting the meaningful columns in the respective dataset\n",
    "domain_id_list=data_domains['domain-name']\n",
    "query_gene=data_sl['gene-query-name']\n",
    "target_gene=data_sl['gene-target-name']\n",
    "query_gene_nonlethal=data_nonsl['gene-query-name']\n",
    "target_gene_nonlethal=data_nonsl['gene-target-name']\n",
    "\n",
    "\n",
    "\n",
    "# Initialising the arrays\n",
    "protein_a_list=[]\n",
    "protein_b_list=[]\n",
    "protein_a_list_non=[]\n",
    "protein_b_list_non=[]\n",
    "\n",
    "population = np.arange(0,len(data_sl))\n",
    "\n",
    "# For loop for 10000 pairs sampled randomly from the SL/nSl pair list , and creating a big array of proteind domains id per protein pair\n",
    "\n",
    "for m in random.sample(list(population), 10000):\n",
    "    protein_a=data_domains[data_domains['name']==query_gene[m]]\n",
    "    protein_b=data_domains[data_domains['name']==target_gene[m]]\n",
    "    protein_a_list.append(protein_a['domain-name'].tolist())\n",
    "    protein_b_list.append(protein_b['domain-name'].tolist())\n",
    "\n",
    "    protein_a_non=data_domains[data_domains['name']==query_gene_nonlethal[m]]\n",
    "    protein_b_non=data_domains[data_domains['name']==target_gene_nonlethal[m]]\n",
    "    protein_a_list_non.append(protein_a_non['domain-name'].tolist())\n",
    "    protein_b_list_non.append(protein_b_non['domain-name'].tolist())"
   ]
  },
  {
   "cell_type": "code",
   "execution_count": 4,
   "metadata": {
    "execution": {
     "iopub.execute_input": "2020-05-30T05:47:06.409170Z",
     "iopub.status.busy": "2020-05-30T05:47:06.408169Z",
     "iopub.status.idle": "2020-05-30T05:47:06.414155Z",
     "shell.execute_reply": "2020-05-30T05:47:06.414155Z"
    }
   },
   "outputs": [
    {
     "name": "stdout",
     "output_type": "stream",
     "text": [
      "We are going to analyze 10000 protein pairs, out of 17871 SL protein pairs\n",
      "We are going to analyze 10000 protein pairs, out of 43340 positive protein pairs\n"
     ]
    }
   ],
   "source": [
    "print('We are going to analyze',len((protein_a_list)) ,'protein pairs, out of',len(data_sl),'SL protein pairs')\n",
    "\n",
    "print('We are going to analyze',len((protein_a_list_non)) ,'protein pairs, out of',len(data_nonsl),'positive protein pairs')"
   ]
  }
 ],
 "metadata": {
  "jupytext": {
   "text_representation": {
    "extension": ".md",
    "format_name": "myst"
   }
  },
  "kernelspec": {
   "display_name": "Python 3",
   "language": "python",
   "name": "python3"
  },
  "language_info": {
   "codemirror_mode": {
    "name": "ipython",
    "version": 3
   },
   "file_extension": ".py",
   "mimetype": "text/x-python",
   "name": "python",
   "nbconvert_exporter": "python",
   "pygments_lexer": "ipython3",
   "version": "3.7.6"
  },
  "source_map": [
   10,
   25,
   37,
   43,
   52,
   84
  ]
 },
 "nbformat": 4,
 "nbformat_minor": 4
}