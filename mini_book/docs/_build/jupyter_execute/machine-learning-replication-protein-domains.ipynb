{
 "cells": [
  {
   "cell_type": "markdown",
   "metadata": {},
   "source": [
    "(machine-learning-replication-protein-domains)=\n",
    "\n",
    "# Example\n",
    "\n",
    "- Replication of results from paper: \"Predicting yeast synthetic lethal genetic interactions using protein domains\"\n",
    "    - Authors: Bo Li, Feng Luo,School of Computing,Clemson University,Clemson, SC, USA\n",
    "    - e-mail: bol, luofeng@clemson.edu\n",
    "    - year:2009"
   ]
  },
  {
   "cell_type": "code",
   "execution_count": 1,
   "metadata": {
    "execution": {
     "iopub.execute_input": "2020-05-29T16:07:08.380539Z",
     "iopub.status.busy": "2020-05-29T16:07:08.379541Z",
     "iopub.status.idle": "2020-05-29T16:07:10.776434Z",
     "shell.execute_reply": "2020-05-29T16:07:10.777430Z"
    }
   },
   "outputs": [],
   "source": [
    "%matplotlib inline\n",
    "import pandas as pd\n",
    "import numpy as np\n",
    "import matplotlib.pyplot as plt\n",
    "from collections import defaultdict \n",
    "import seaborn as sns\n",
    "import matplotlib.cm as cm\n",
    "import scipy as scipy\n",
    "import random"
   ]
  }
 ],
 "metadata": {
  "jupytext": {
   "text_representation": {
    "extension": ".md",
    "format_name": "myst"
   }
  },
  "kernelspec": {
   "display_name": "Python 3",
   "language": "python",
   "name": "python3"
  },
  "language_info": {
   "codemirror_mode": {
    "name": "ipython",
    "version": 3
   },
   "file_extension": ".py",
   "mimetype": "text/x-python",
   "name": "python",
   "nbconvert_exporter": "python",
   "pygments_lexer": "ipython3",
   "version": "3.7.6"
  },
  "source_map": [
   10,
   23
  ]
 },
 "nbformat": 4,
 "nbformat_minor": 4
}