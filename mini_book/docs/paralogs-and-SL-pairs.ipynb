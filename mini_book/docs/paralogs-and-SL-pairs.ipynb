{
 "cells": [
  {
   "cell_type": "code",
   "execution_count": 1,
   "metadata": {},
   "outputs": [],
   "source": [
    "from intermine.webservice import Service\n",
    "import numpy as np\n",
    "import scipy.io\n",
    "import seaborn as sns\n",
    "from scipy import stats, optimize, interpolate\n",
    "import pandas as pd\n",
    "from collections import defaultdict \n",
    "import math\n",
    "import matplotlib.pyplot as plt\n",
    "from scipy.stats import norm, lognorm\n",
    "from scipy import stats\n",
    "import matplotlib.cm as cm\n",
    "import matplotlib.mlab as mlab\n",
    "import os, fnmatch"
   ]
  },
  {
   "cell_type": "code",
   "execution_count": null,
   "metadata": {},
   "outputs": [],
   "source": [
    "import os\n",
    "script_dir = os.path.dirname('__file__') #<-- absolute dir the script is in\n",
    "rel_path_domains=\"datasets/data-synthetic-lethals.xlsx'\"\n",
    "\n",
    "abs_file_path_domains = os.path.join(script_dir, rel_path_domains)\n",
    "\n",
    "# os.chdir('../') #<-- for binder os.chdir('../')\n",
    "my_path_domains=abs_file_path_domains\n",
    "data_domains=pd.read_excel(my_path_domains,header=0,index_col='Unnamed: 0')\n",
    "data_sl=data_domains.dropna()\n",
    "\n",
    "rel_path_query=\"datasets/paralogs_sL_from_query-genes.xlsx\"\n",
    "abs_file_path_query = os.path.join(script_dir, rel_path_query)\n",
    "\n",
    "rel_path_target=\"datasets/paralogs_sL_from_target-genes.xlsx\"\n",
    "abs_file_path_target= os.path.join(script_dir, rel_path_target)\n",
    "\n",
    "query_paralogs_pd=pd.read_excel(abs_file_path_query)\n",
    "target_paralogs_pd=pd.read_excel(abs_file_path_target)"
   ]
  },
  {
   "cell_type": "markdown",
   "metadata": {},
   "source": [
    "###  Build  a program that reads the paralogs of the que query gene and see if that paralog is also SL of the query gene , by inspecting if the paralog is present in the target genes of the SL database. \n",
    "- this is the first check to analyze if the reason why a SL pair shares domains is because they are also paralogs. \n",
    "\n"
   ]
  },
  {
   "cell_type": "code",
   "execution_count": 4,
   "metadata": {},
   "outputs": [],
   "source": [
    "# query_paralogs=pd.read_excel('datasets/paralogs_sL_from_query-genes.xlsx')\n",
    "# target_paralogs=pd.read_excel('datasets/paralogs_sL_from_target-genes.xlsx')\n",
    "\n",
    "query_paralogs_pd=query_paralogs.drop(columns='Unnamed: 0')\n",
    "query_paralogs_pd.columns=['name-gene','name-paralogue']\n",
    "\n",
    "target_paralogs_pd=target_paralogs.drop(columns='Unnamed: 0')\n",
    "target_paralogs_pd.columns=['name-gene','name-paralogue']"
   ]
  },
  {
   "cell_type": "code",
   "execution_count": 5,
   "metadata": {},
   "outputs": [
    {
     "output_type": "execute_result",
     "data": {
      "text/plain": "  name-gene name-paralogue\n0      FKH2           FKH1\n1      IXR1           ABF2\n2      LEM3          CDC50\n3      SHC1           SKT5\n4      VIK1           CIK1",
      "text/html": "<div>\n<style scoped>\n    .dataframe tbody tr th:only-of-type {\n        vertical-align: middle;\n    }\n\n    .dataframe tbody tr th {\n        vertical-align: top;\n    }\n\n    .dataframe thead th {\n        text-align: right;\n    }\n</style>\n<table border=\"1\" class=\"dataframe\">\n  <thead>\n    <tr style=\"text-align: right;\">\n      <th></th>\n      <th>name-gene</th>\n      <th>name-paralogue</th>\n    </tr>\n  </thead>\n  <tbody>\n    <tr>\n      <th>0</th>\n      <td>FKH2</td>\n      <td>FKH1</td>\n    </tr>\n    <tr>\n      <th>1</th>\n      <td>IXR1</td>\n      <td>ABF2</td>\n    </tr>\n    <tr>\n      <th>2</th>\n      <td>LEM3</td>\n      <td>CDC50</td>\n    </tr>\n    <tr>\n      <th>3</th>\n      <td>SHC1</td>\n      <td>SKT5</td>\n    </tr>\n    <tr>\n      <th>4</th>\n      <td>VIK1</td>\n      <td>CIK1</td>\n    </tr>\n  </tbody>\n</table>\n</div>"
     },
     "metadata": {},
     "execution_count": 5
    }
   ],
   "source": [
    "query_paralogs_pd.head()\n",
    "target_paralogs_pd.head()"
   ]
  },
  {
   "cell_type": "code",
   "execution_count": 6,
   "metadata": {},
   "outputs": [],
   "source": [
    "indexes_sl_query=[]\n",
    "for i in np.arange(0,len(query_paralogs_pd)):\n",
    "    paralog_target=query_paralogs_pd[query_paralogs_pd['name-gene']==query_paralogs_pd['name-gene'][i]]['name-paralogue'].tolist()\n",
    "    list_targets_sl=data_sl[data_sl['gene-query-name']==query_paralogs_pd['name-gene'][i]]['gene-target-name'].tolist()\n",
    "\n",
    "\n",
    "    \n",
    "    if paralog_target[0] in list_targets_sl:\n",
    "        indexes_sl_query.append(query_paralogs_pd[query_paralogs_pd['name-paralogue']==paralog_target[0]].index[0])\n",
    "\n",
    "\n",
    "indexes_sl_target=[]\n",
    "for i in np.arange(0,len(target_paralogs_pd)): \n",
    "    \n",
    "    paralog_query=target_paralogs_pd[target_paralogs_pd['name-gene']==target_paralogs_pd['name-gene'][i]]['name-paralogue'].tolist()\n",
    "    list_queries_sl=data_sl[data_sl['gene-target-name']==target_paralogs_pd['name-gene'][i]]['gene-query-name'].tolist()\n",
    "\n",
    "\n",
    "    if paralog_query[0] in list_queries_sl:\n",
    "        indexes_sl_target.append(target_paralogs_pd[target_paralogs_pd['name-paralogue']==paralog_query[0]].index[0])\n",
    "\n"
   ]
  },
  {
   "cell_type": "markdown",
   "metadata": {},
   "source": [
    "### Putting 1's if the paralog pair is also SL"
   ]
  },
  {
   "cell_type": "code",
   "execution_count": 7,
   "metadata": {},
   "outputs": [],
   "source": [
    "sL_values=np.zeros_like(query_paralogs_pd['name-gene'])\n",
    "for i in np.arange(0,len(query_paralogs_pd)):\n",
    "    if i in indexes_sl_query:\n",
    "        sL_values[i]=1\n",
    "query_paralogs_pd['sL']=sL_values\n",
    "\n",
    "sL_values=np.zeros_like(target_paralogs_pd['name-gene'])\n",
    "for i in np.arange(0,len(target_paralogs_pd)):\n",
    "    if i in indexes_sl_target:\n",
    "        sL_values[i]=1\n",
    "target_paralogs_pd['sL']=sL_values"
   ]
  },
  {
   "cell_type": "code",
   "execution_count": 8,
   "metadata": {},
   "outputs": [],
   "source": [
    "paralogs_sl_pd=pd.concat([query_paralogs_pd,target_paralogs_pd],axis=0)"
   ]
  },
  {
   "cell_type": "code",
   "execution_count": 9,
   "metadata": {},
   "outputs": [],
   "source": [
    "sl_that_are_paralogs=paralogs_sl_pd[paralogs_sl_pd['sL']==1]"
   ]
  },
  {
   "cell_type": "code",
   "execution_count": 10,
   "metadata": {},
   "outputs": [
    {
     "output_type": "execute_result",
     "data": {
      "text/plain": "    name-gene name-paralogue sL\n0        FKS1           GSC2  1\n1        RAS2           RAS1  1\n2        GSC2           FKS1  1\n3        KRE6           SKN1  1\n4        DBF2          DBF20  1\n..        ...            ... ..\n263    RPS24B         RPS24A  1\n264    RPS26B         RPS26A  1\n265      STD1           MTH1  1\n266     ASK10           RGC1  1\n267      LEU9           LEU4  1\n\n[268 rows x 3 columns]",
      "text/html": "<div>\n<style scoped>\n    .dataframe tbody tr th:only-of-type {\n        vertical-align: middle;\n    }\n\n    .dataframe tbody tr th {\n        vertical-align: top;\n    }\n\n    .dataframe thead th {\n        text-align: right;\n    }\n</style>\n<table border=\"1\" class=\"dataframe\">\n  <thead>\n    <tr style=\"text-align: right;\">\n      <th></th>\n      <th>name-gene</th>\n      <th>name-paralogue</th>\n      <th>sL</th>\n    </tr>\n  </thead>\n  <tbody>\n    <tr>\n      <th>0</th>\n      <td>FKS1</td>\n      <td>GSC2</td>\n      <td>1</td>\n    </tr>\n    <tr>\n      <th>1</th>\n      <td>RAS2</td>\n      <td>RAS1</td>\n      <td>1</td>\n    </tr>\n    <tr>\n      <th>2</th>\n      <td>GSC2</td>\n      <td>FKS1</td>\n      <td>1</td>\n    </tr>\n    <tr>\n      <th>3</th>\n      <td>KRE6</td>\n      <td>SKN1</td>\n      <td>1</td>\n    </tr>\n    <tr>\n      <th>4</th>\n      <td>DBF2</td>\n      <td>DBF20</td>\n      <td>1</td>\n    </tr>\n    <tr>\n      <th>...</th>\n      <td>...</td>\n      <td>...</td>\n      <td>...</td>\n    </tr>\n    <tr>\n      <th>263</th>\n      <td>RPS24B</td>\n      <td>RPS24A</td>\n      <td>1</td>\n    </tr>\n    <tr>\n      <th>264</th>\n      <td>RPS26B</td>\n      <td>RPS26A</td>\n      <td>1</td>\n    </tr>\n    <tr>\n      <th>265</th>\n      <td>STD1</td>\n      <td>MTH1</td>\n      <td>1</td>\n    </tr>\n    <tr>\n      <th>266</th>\n      <td>ASK10</td>\n      <td>RGC1</td>\n      <td>1</td>\n    </tr>\n    <tr>\n      <th>267</th>\n      <td>LEU9</td>\n      <td>LEU4</td>\n      <td>1</td>\n    </tr>\n  </tbody>\n</table>\n<p>268 rows × 3 columns</p>\n</div>"
     },
     "metadata": {},
     "execution_count": 10
    }
   ],
   "source": [
    "sl_that_are_paralogs.set_index(np.arange(0,len(sl_that_are_paralogs)))"
   ]
  },
  {
   "cell_type": "code",
   "execution_count": 11,
   "metadata": {},
   "outputs": [
    {
     "output_type": "execute_result",
     "data": {
      "text/plain": "['FKS1', 'GSC2']"
     },
     "metadata": {},
     "execution_count": 11
    }
   ],
   "source": [
    "sl_that_are_paralogs.iloc[0,0:2].tolist()"
   ]
  },
  {
   "cell_type": "code",
   "execution_count": 256,
   "metadata": {},
   "outputs": [
    {
     "output_type": "execute_result",
     "data": {
      "text/plain": "True"
     },
     "metadata": {},
     "execution_count": 256
    }
   ],
   "source": [
    "a= ['BUD6', 'CDC42']\n",
    "b= ['CDC42', 'BUD6']\n",
    "set(a)==set(b)"
   ]
  },
  {
   "cell_type": "code",
   "execution_count": null,
   "metadata": {},
   "outputs": [],
   "source": [
    "## use this to compare with the pairs of SL that have shared domains from FEATUREPROCESSINg script  "
   ]
  },
  {
   "cell_type": "code",
   "execution_count": 14,
   "metadata": {},
   "outputs": [],
   "source": [
    "pairs_sL=np.load('../pairs-sL-that-share-domains.npy')"
   ]
  },
  {
   "cell_type": "code",
   "execution_count": 24,
   "metadata": {},
   "outputs": [
    {
     "output_type": "execute_result",
     "data": {
      "text/plain": "748"
     },
     "metadata": {},
     "execution_count": 24
    }
   ],
   "source": [
    "len(pairs_sL)"
   ]
  },
  {
   "cell_type": "code",
   "execution_count": 23,
   "metadata": {},
   "outputs": [
    {
     "output_type": "execute_result",
     "data": {
      "text/plain": "268"
     },
     "metadata": {},
     "execution_count": 23
    }
   ],
   "source": [
    "len(sl_that_are_paralogs)"
   ]
  },
  {
   "cell_type": "code",
   "execution_count": 28,
   "metadata": {},
   "outputs": [],
   "source": [
    "shared_sL_paralogs=[]\n",
    "for i in np.arange(0,len(sl_that_are_paralogs)):\n",
    "    for j in np.arange(0,len(pairs_sL)):\n",
    "        if set(sl_that_are_paralogs.iloc[i,0:2].tolist())==set(pairs_sL[j]):\n",
    "            shared_sL_paralogs.append(pairs_sL[j])\n",
    "\n"
   ]
  },
  {
   "cell_type": "code",
   "execution_count": 37,
   "metadata": {
    "tags": []
   },
   "outputs": [
    {
     "output_type": "stream",
     "name": "stdout",
     "text": "The contribution of paralogs to the SL pairs that shared domains is = 2.0053475935828877 %\nThe contribution of paralogs to the total number of SL pairs is  = 1.4996362822449778 %\nThe number of SL that shared domains out of te total number of SL pairs is = 4.185552011638968 %\n"
    }
   ],
   "source": [
    "print('The contribution of paralogs to the SL pairs that shared domains is =', 100*len(shared_sL_paralogs)/len(pairs_sL),'%')\n",
    "\n",
    "print('The contribution of paralogs to the total number of SL pairs is  =', 100*len(sl_that_are_paralogs)/17871,'%')\n",
    "\n",
    "print('The number of SL that share domains out of the total number of SL pairs is =',100*len(pairs_sL)/17871,'%')"
   ]
  },
  {
   "cell_type": "code",
   "execution_count": null,
   "metadata": {},
   "outputs": [],
   "source": []
  }
 ],
 "metadata": {
  "language_info": {
   "codemirror_mode": {
    "name": "ipython",
    "version": 3
   },
   "file_extension": ".py",
   "mimetype": "text/x-python",
   "name": "python",
   "nbconvert_exporter": "python",
   "pygments_lexer": "ipython3",
   "version": 3
  },
  "orig_nbformat": 2,
  "kernelspec": {
   "name": "python_defaultSpec_1594973957301",
   "display_name": "Python 3.7.7 64-bit ('base': conda)"
  }
 },
 "nbformat": 4,
 "nbformat_minor": 2
}