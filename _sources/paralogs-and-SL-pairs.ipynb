{
 "cells": [
  {
   "cell_type": "markdown",
   "metadata": {},
   "source": [
    "# Paralogs and synthetic lethals"
   ]
  },
  {
   "cell_type": "code",
   "execution_count": 1,
   "metadata": {
    "execution": {
     "iopub.execute_input": "2020-08-12T19:52:54.885529Z",
     "iopub.status.busy": "2020-08-12T19:52:54.884338Z",
     "iopub.status.idle": "2020-08-12T19:52:55.650743Z",
     "shell.execute_reply": "2020-08-12T19:52:55.651492Z"
    }
   },
   "outputs": [],
   "source": [
    "import numpy as np\n",
    "import scipy.io\n",
    "import seaborn as sns\n",
    "from scipy import stats, optimize, interpolate\n",
    "import pandas as pd\n",
    "from collections import defaultdict \n",
    "import math\n",
    "import matplotlib.pyplot as plt\n",
    "from scipy.stats import norm, lognorm\n",
    "from scipy import stats\n",
    "import matplotlib.cm as cm\n",
    "import matplotlib.mlab as mlab\n",
    "import os, fnmatch"
   ]
  },
  {
   "cell_type": "code",
   "execution_count": 2,
   "metadata": {
    "execution": {
     "iopub.execute_input": "2020-08-12T19:52:55.657314Z",
     "iopub.status.busy": "2020-08-12T19:52:55.656788Z",
     "iopub.status.idle": "2020-08-12T19:52:57.512947Z",
     "shell.execute_reply": "2020-08-12T19:52:57.511945Z"
    }
   },
   "outputs": [],
   "source": [
    "import os\n",
    "script_dir = os.path.dirname('__file__') #<-- absolute dir the script is in\n",
    "rel_path_SL = \"datasets/data-synthetic-lethals.xlsx\"\n",
    "\n",
    "abs_file_path_domains = os.path.join(script_dir, rel_path_SL)\n",
    "\n",
    "my_path_domains=abs_file_path_domains\n",
    "data_domains=pd.read_excel(my_path_domains,header=0)\n",
    "data_sl=data_domains.dropna()\n",
    "\n",
    "rel_path_query=\"datasets/paralogs_sL_from_query-genes.xlsx\"\n",
    "abs_file_path_query = os.path.join(script_dir, rel_path_query)\n",
    "\n",
    "rel_path_target=\"datasets/paralogs_sL_from_target-genes.xlsx\"\n",
    "abs_file_path_target= os.path.join(script_dir, rel_path_target)\n",
    "\n",
    "query_paralogs=pd.read_excel(abs_file_path_query)\n",
    "target_paralogs=pd.read_excel(abs_file_path_target)"
   ]
  },
  {
   "cell_type": "markdown",
   "metadata": {},
   "source": [
    "###  How many paralogs are also SL pairs?"
   ]
  },
  {
   "cell_type": "code",
   "execution_count": 3,
   "metadata": {
    "execution": {
     "iopub.execute_input": "2020-08-12T19:52:57.518728Z",
     "iopub.status.busy": "2020-08-12T19:52:57.518172Z",
     "iopub.status.idle": "2020-08-12T19:52:57.521974Z",
     "shell.execute_reply": "2020-08-12T19:52:57.521543Z"
    }
   },
   "outputs": [],
   "source": [
    "# query_paralogs=pd.read_excel('datasets/paralogs_sL_from_query-genes.xlsx')\n",
    "# target_paralogs=pd.read_excel('datasets/paralogs_sL_from_target-genes.xlsx')\n",
    "\n",
    "query_paralogs_pd=query_paralogs.drop(columns='Unnamed: 0')\n",
    "query_paralogs_pd.columns=['name-gene','name-paralogue']\n",
    "\n",
    "target_paralogs_pd=target_paralogs.drop(columns='Unnamed: 0')\n",
    "target_paralogs_pd.columns=['name-gene','name-paralogue']"
   ]
  },
  {
   "cell_type": "code",
   "execution_count": 4,
   "metadata": {
    "execution": {
     "iopub.execute_input": "2020-08-12T19:52:57.529183Z",
     "iopub.status.busy": "2020-08-12T19:52:57.528631Z",
     "iopub.status.idle": "2020-08-12T19:52:57.533807Z",
     "shell.execute_reply": "2020-08-12T19:52:57.534224Z"
    }
   },
   "outputs": [
    {
     "data": {
      "text/html": [
       "<div>\n",
       "<style scoped>\n",
       "    .dataframe tbody tr th:only-of-type {\n",
       "        vertical-align: middle;\n",
       "    }\n",
       "\n",
       "    .dataframe tbody tr th {\n",
       "        vertical-align: top;\n",
       "    }\n",
       "\n",
       "    .dataframe thead th {\n",
       "        text-align: right;\n",
       "    }\n",
       "</style>\n",
       "<table border=\"1\" class=\"dataframe\">\n",
       "  <thead>\n",
       "    <tr style=\"text-align: right;\">\n",
       "      <th></th>\n",
       "      <th>name-gene</th>\n",
       "      <th>name-paralogue</th>\n",
       "    </tr>\n",
       "  </thead>\n",
       "  <tbody>\n",
       "    <tr>\n",
       "      <th>0</th>\n",
       "      <td>FKH2</td>\n",
       "      <td>FKH1</td>\n",
       "    </tr>\n",
       "    <tr>\n",
       "      <th>1</th>\n",
       "      <td>IXR1</td>\n",
       "      <td>ABF2</td>\n",
       "    </tr>\n",
       "    <tr>\n",
       "      <th>2</th>\n",
       "      <td>LEM3</td>\n",
       "      <td>CDC50</td>\n",
       "    </tr>\n",
       "    <tr>\n",
       "      <th>3</th>\n",
       "      <td>SHC1</td>\n",
       "      <td>SKT5</td>\n",
       "    </tr>\n",
       "    <tr>\n",
       "      <th>4</th>\n",
       "      <td>VIK1</td>\n",
       "      <td>CIK1</td>\n",
       "    </tr>\n",
       "  </tbody>\n",
       "</table>\n",
       "</div>"
      ],
      "text/plain": [
       "  name-gene name-paralogue\n",
       "0      FKH2           FKH1\n",
       "1      IXR1           ABF2\n",
       "2      LEM3          CDC50\n",
       "3      SHC1           SKT5\n",
       "4      VIK1           CIK1"
      ]
     },
     "execution_count": 4,
     "metadata": {},
     "output_type": "execute_result"
    }
   ],
   "source": [
    "query_paralogs_pd.head()\n",
    "target_paralogs_pd.head()"
   ]
  },
  {
   "cell_type": "code",
   "execution_count": 5,
   "metadata": {
    "execution": {
     "iopub.execute_input": "2020-08-12T19:52:57.555871Z",
     "iopub.status.busy": "2020-08-12T19:52:57.546608Z",
     "iopub.status.idle": "2020-08-12T19:52:59.047651Z",
     "shell.execute_reply": "2020-08-12T19:52:59.048245Z"
    }
   },
   "outputs": [],
   "source": [
    "indexes_sl_query=[]\n",
    "for i in np.arange(0,len(query_paralogs_pd)):\n",
    "    paralog_target=query_paralogs_pd[query_paralogs_pd['name-gene']==query_paralogs_pd['name-gene'][i]]['name-paralogue'].tolist()\n",
    "    list_targets_sl=data_sl[data_sl['gene-query-name']==query_paralogs_pd['name-gene'][i]]['gene-target-name'].tolist()\n",
    "\n",
    "\n",
    "    \n",
    "    if paralog_target[0] in list_targets_sl:\n",
    "        indexes_sl_query.append(query_paralogs_pd[query_paralogs_pd['name-paralogue']==paralog_target[0]].index[0])\n",
    "\n",
    "\n",
    "indexes_sl_target=[]\n",
    "for i in np.arange(0,len(target_paralogs_pd)): \n",
    "    \n",
    "    paralog_query=target_paralogs_pd[target_paralogs_pd['name-gene']==target_paralogs_pd['name-gene'][i]]['name-paralogue'].tolist()\n",
    "    list_queries_sl=data_sl[data_sl['gene-target-name']==target_paralogs_pd['name-gene'][i]]['gene-query-name'].tolist()\n",
    "\n",
    "\n",
    "    if paralog_query[0] in list_queries_sl:\n",
    "        indexes_sl_target.append(target_paralogs_pd[target_paralogs_pd['name-paralogue']==paralog_query[0]].index[0])\n"
   ]
  },
  {
   "cell_type": "markdown",
   "metadata": {},
   "source": [
    "### Putting 1's if the paralog pair is also SL"
   ]
  },
  {
   "cell_type": "code",
   "execution_count": 6,
   "metadata": {
    "execution": {
     "iopub.execute_input": "2020-08-12T19:52:59.057036Z",
     "iopub.status.busy": "2020-08-12T19:52:59.056514Z",
     "iopub.status.idle": "2020-08-12T19:52:59.059953Z",
     "shell.execute_reply": "2020-08-12T19:52:59.059492Z"
    }
   },
   "outputs": [],
   "source": [
    "sL_values=np.zeros_like(query_paralogs_pd['name-gene'])\n",
    "for i in np.arange(0,len(query_paralogs_pd)):\n",
    "    if i in indexes_sl_query:\n",
    "        sL_values[i]=1\n",
    "query_paralogs_pd['sL']=sL_values\n",
    "\n",
    "sL_values=np.zeros_like(target_paralogs_pd['name-gene'])\n",
    "for i in np.arange(0,len(target_paralogs_pd)):\n",
    "    if i in indexes_sl_target:\n",
    "        sL_values[i]=1\n",
    "target_paralogs_pd['sL']=sL_values"
   ]
  },
  {
   "cell_type": "code",
   "execution_count": 7,
   "metadata": {
    "execution": {
     "iopub.execute_input": "2020-08-12T19:52:59.064682Z",
     "iopub.status.busy": "2020-08-12T19:52:59.064193Z",
     "iopub.status.idle": "2020-08-12T19:52:59.067603Z",
     "shell.execute_reply": "2020-08-12T19:52:59.067163Z"
    }
   },
   "outputs": [],
   "source": [
    "paralogs_sl_pd=pd.concat([query_paralogs_pd,target_paralogs_pd],axis=0)"
   ]
  },
  {
   "cell_type": "code",
   "execution_count": 8,
   "metadata": {
    "execution": {
     "iopub.execute_input": "2020-08-12T19:52:59.072568Z",
     "iopub.status.busy": "2020-08-12T19:52:59.071563Z",
     "iopub.status.idle": "2020-08-12T19:52:59.073390Z",
     "shell.execute_reply": "2020-08-12T19:52:59.073808Z"
    }
   },
   "outputs": [],
   "source": [
    "sl_that_are_paralogs=paralogs_sl_pd[paralogs_sl_pd['sL']==1]"
   ]
  },
  {
   "cell_type": "code",
   "execution_count": 9,
   "metadata": {
    "execution": {
     "iopub.execute_input": "2020-08-12T19:52:59.084515Z",
     "iopub.status.busy": "2020-08-12T19:52:59.083981Z",
     "iopub.status.idle": "2020-08-12T19:52:59.086763Z",
     "shell.execute_reply": "2020-08-12T19:52:59.087185Z"
    }
   },
   "outputs": [
    {
     "data": {
      "text/html": [
       "<div>\n",
       "<style scoped>\n",
       "    .dataframe tbody tr th:only-of-type {\n",
       "        vertical-align: middle;\n",
       "    }\n",
       "\n",
       "    .dataframe tbody tr th {\n",
       "        vertical-align: top;\n",
       "    }\n",
       "\n",
       "    .dataframe thead th {\n",
       "        text-align: right;\n",
       "    }\n",
       "</style>\n",
       "<table border=\"1\" class=\"dataframe\">\n",
       "  <thead>\n",
       "    <tr style=\"text-align: right;\">\n",
       "      <th></th>\n",
       "      <th>name-gene</th>\n",
       "      <th>name-paralogue</th>\n",
       "      <th>sL</th>\n",
       "    </tr>\n",
       "  </thead>\n",
       "  <tbody>\n",
       "    <tr>\n",
       "      <th>0</th>\n",
       "      <td>FKS1</td>\n",
       "      <td>GSC2</td>\n",
       "      <td>1</td>\n",
       "    </tr>\n",
       "    <tr>\n",
       "      <th>1</th>\n",
       "      <td>RAS2</td>\n",
       "      <td>RAS1</td>\n",
       "      <td>1</td>\n",
       "    </tr>\n",
       "    <tr>\n",
       "      <th>2</th>\n",
       "      <td>GSC2</td>\n",
       "      <td>FKS1</td>\n",
       "      <td>1</td>\n",
       "    </tr>\n",
       "    <tr>\n",
       "      <th>3</th>\n",
       "      <td>KRE6</td>\n",
       "      <td>SKN1</td>\n",
       "      <td>1</td>\n",
       "    </tr>\n",
       "    <tr>\n",
       "      <th>4</th>\n",
       "      <td>DBF2</td>\n",
       "      <td>DBF20</td>\n",
       "      <td>1</td>\n",
       "    </tr>\n",
       "    <tr>\n",
       "      <th>...</th>\n",
       "      <td>...</td>\n",
       "      <td>...</td>\n",
       "      <td>...</td>\n",
       "    </tr>\n",
       "    <tr>\n",
       "      <th>263</th>\n",
       "      <td>RPS24B</td>\n",
       "      <td>RPS24A</td>\n",
       "      <td>1</td>\n",
       "    </tr>\n",
       "    <tr>\n",
       "      <th>264</th>\n",
       "      <td>RPS26B</td>\n",
       "      <td>RPS26A</td>\n",
       "      <td>1</td>\n",
       "    </tr>\n",
       "    <tr>\n",
       "      <th>265</th>\n",
       "      <td>STD1</td>\n",
       "      <td>MTH1</td>\n",
       "      <td>1</td>\n",
       "    </tr>\n",
       "    <tr>\n",
       "      <th>266</th>\n",
       "      <td>ASK10</td>\n",
       "      <td>RGC1</td>\n",
       "      <td>1</td>\n",
       "    </tr>\n",
       "    <tr>\n",
       "      <th>267</th>\n",
       "      <td>LEU9</td>\n",
       "      <td>LEU4</td>\n",
       "      <td>1</td>\n",
       "    </tr>\n",
       "  </tbody>\n",
       "</table>\n",
       "<p>268 rows × 3 columns</p>\n",
       "</div>"
      ],
      "text/plain": [
       "    name-gene name-paralogue sL\n",
       "0        FKS1           GSC2  1\n",
       "1        RAS2           RAS1  1\n",
       "2        GSC2           FKS1  1\n",
       "3        KRE6           SKN1  1\n",
       "4        DBF2          DBF20  1\n",
       "..        ...            ... ..\n",
       "263    RPS24B         RPS24A  1\n",
       "264    RPS26B         RPS26A  1\n",
       "265      STD1           MTH1  1\n",
       "266     ASK10           RGC1  1\n",
       "267      LEU9           LEU4  1\n",
       "\n",
       "[268 rows x 3 columns]"
      ]
     },
     "execution_count": 9,
     "metadata": {},
     "output_type": "execute_result"
    }
   ],
   "source": [
    "sl_that_are_paralogs.set_index(np.arange(0,len(sl_that_are_paralogs)))"
   ]
  },
  {
   "cell_type": "code",
   "execution_count": 10,
   "metadata": {
    "execution": {
     "iopub.execute_input": "2020-08-12T19:52:59.091973Z",
     "iopub.status.busy": "2020-08-12T19:52:59.091445Z",
     "iopub.status.idle": "2020-08-12T19:52:59.093901Z",
     "shell.execute_reply": "2020-08-12T19:52:59.094309Z"
    }
   },
   "outputs": [
    {
     "data": {
      "text/plain": [
       "['FKS1', 'GSC2']"
      ]
     },
     "execution_count": 10,
     "metadata": {},
     "output_type": "execute_result"
    }
   ],
   "source": [
    "sl_that_are_paralogs.iloc[0,0:2].tolist()"
   ]
  },
  {
   "cell_type": "code",
   "execution_count": 11,
   "metadata": {
    "execution": {
     "iopub.execute_input": "2020-08-12T19:52:59.098939Z",
     "iopub.status.busy": "2020-08-12T19:52:59.098382Z",
     "iopub.status.idle": "2020-08-12T19:52:59.100969Z",
     "shell.execute_reply": "2020-08-12T19:52:59.101381Z"
    }
   },
   "outputs": [
    {
     "data": {
      "text/plain": [
       "True"
      ]
     },
     "execution_count": 11,
     "metadata": {},
     "output_type": "execute_result"
    }
   ],
   "source": [
    "a= ['BUD6', 'CDC42']\n",
    "b= ['CDC42', 'BUD6']\n",
    "set(a)==set(b)"
   ]
  },
  {
   "cell_type": "code",
   "execution_count": 12,
   "metadata": {
    "execution": {
     "iopub.execute_input": "2020-08-12T19:52:59.105367Z",
     "iopub.status.busy": "2020-08-12T19:52:59.104290Z",
     "iopub.status.idle": "2020-08-12T19:52:59.105958Z",
     "shell.execute_reply": "2020-08-12T19:52:59.106367Z"
    }
   },
   "outputs": [],
   "source": [
    "## use this to compare with the pairs of SL that have shared domains from FEATUREPROCESSINg script  "
   ]
  },
  {
   "cell_type": "code",
   "execution_count": 13,
   "metadata": {
    "execution": {
     "iopub.execute_input": "2020-08-12T19:52:59.109895Z",
     "iopub.status.busy": "2020-08-12T19:52:59.108970Z",
     "iopub.status.idle": "2020-08-12T19:52:59.111968Z",
     "shell.execute_reply": "2020-08-12T19:52:59.111546Z"
    }
   },
   "outputs": [],
   "source": [
    "pairs_sL=np.load('pairs-sL-that-share-domains.npy')"
   ]
  },
  {
   "cell_type": "code",
   "execution_count": 14,
   "metadata": {
    "execution": {
     "iopub.execute_input": "2020-08-12T19:52:59.116116Z",
     "iopub.status.busy": "2020-08-12T19:52:59.115588Z",
     "iopub.status.idle": "2020-08-12T19:52:59.118071Z",
     "shell.execute_reply": "2020-08-12T19:52:59.118483Z"
    }
   },
   "outputs": [
    {
     "data": {
      "text/plain": [
       "748"
      ]
     },
     "execution_count": 14,
     "metadata": {},
     "output_type": "execute_result"
    }
   ],
   "source": [
    "len(pairs_sL)"
   ]
  },
  {
   "cell_type": "code",
   "execution_count": 15,
   "metadata": {
    "execution": {
     "iopub.execute_input": "2020-08-12T19:52:59.122436Z",
     "iopub.status.busy": "2020-08-12T19:52:59.121913Z",
     "iopub.status.idle": "2020-08-12T19:52:59.124352Z",
     "shell.execute_reply": "2020-08-12T19:52:59.124759Z"
    }
   },
   "outputs": [
    {
     "data": {
      "text/plain": [
       "268"
      ]
     },
     "execution_count": 15,
     "metadata": {},
     "output_type": "execute_result"
    }
   ],
   "source": [
    "len(sl_that_are_paralogs)"
   ]
  },
  {
   "cell_type": "code",
   "execution_count": 16,
   "metadata": {
    "execution": {
     "iopub.execute_input": "2020-08-12T19:52:59.139422Z",
     "iopub.status.busy": "2020-08-12T19:52:59.133802Z",
     "iopub.status.idle": "2020-08-12T19:53:25.069066Z",
     "shell.execute_reply": "2020-08-12T19:53:25.069494Z"
    }
   },
   "outputs": [],
   "source": [
    "shared_sL_paralogs=[]\n",
    "for i in np.arange(0,len(sl_that_are_paralogs)):\n",
    "    for j in np.arange(0,len(pairs_sL)):\n",
    "        if set(sl_that_are_paralogs.iloc[i,0:2].tolist())==set(pairs_sL[j]):\n",
    "            shared_sL_paralogs.append(pairs_sL[j])\n"
   ]
  },
  {
   "cell_type": "code",
   "execution_count": 17,
   "metadata": {
    "execution": {
     "iopub.execute_input": "2020-08-12T19:53:25.074545Z",
     "iopub.status.busy": "2020-08-12T19:53:25.074025Z",
     "iopub.status.idle": "2020-08-12T19:53:25.078042Z",
     "shell.execute_reply": "2020-08-12T19:53:25.078498Z"
    },
    "tags": []
   },
   "outputs": [
    {
     "name": "stdout",
     "output_type": "stream",
     "text": [
      "The contribution of paralogs to the SL pairs that shared domains is = 2.0053475935828877 %\n",
      "The contribution of paralogs to the total number of SL pairs is  = 1.4996362822449778 %\n",
      "The number of SL that share domains out of the total number of SL pairs is = 4.185552011638968 %\n"
     ]
    }
   ],
   "source": [
    "print('The contribution of paralogs to the SL pairs that shared domains is =', 100*len(shared_sL_paralogs)/len(pairs_sL),'%')\n",
    "\n",
    "print('The contribution of paralogs to the total number of SL pairs is  =', 100*len(sl_that_are_paralogs)/17871,'%')\n",
    "\n",
    "print('The number of SL that share domains out of the total number of SL pairs is =',100*len(pairs_sL)/17871,'%')"
   ]
  }
 ],
 "metadata": {
  "jupytext": {
   "text_representation": {
    "extension": ".md",
    "format_name": "myst",
    "format_version": "0.8",
    "jupytext_version": "1.4.2"
   }
  },
  "kernelspec": {
   "display_name": "Python 3",
   "language": "python",
   "name": "python3"
  },
  "language_info": {
   "codemirror_mode": {
    "name": "ipython",
    "version": 3
   },
   "file_extension": ".py",
   "mimetype": "text/x-python",
   "name": "python",
   "nbconvert_exporter": "python",
   "pygments_lexer": "ipython3",
   "version": "3.7.8"
  },
  "source_map": [
   12,
   15,
   32,
   51,
   56,
   67,
   72,
   94,
   98,
   112,
   116,
   120,
   124,
   128,
   134,
   138,
   142,
   146,
   150,
   159
  ]
 },
 "nbformat": 4,
 "nbformat_minor": 4
}