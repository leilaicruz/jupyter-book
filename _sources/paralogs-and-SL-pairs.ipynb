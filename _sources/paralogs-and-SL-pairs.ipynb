{
 "cells": [
  {
   "cell_type": "markdown",
   "metadata": {},
   "source": [
    "# What is the contribution of paralogs to SL pairs that share protein domains?"
   ]
  },
  {
   "cell_type": "code",
   "execution_count": 1,
   "metadata": {
    "execution": {
     "iopub.execute_input": "2020-08-13T13:16:43.204658Z",
     "iopub.status.busy": "2020-08-13T13:16:43.203989Z",
     "iopub.status.idle": "2020-08-13T13:16:44.031655Z",
     "shell.execute_reply": "2020-08-13T13:16:44.031006Z"
    }
   },
   "outputs": [],
   "source": [
    "from intermine.webservice import Service\n",
    "import numpy as np\n",
    "import scipy.io\n",
    "import seaborn as sns\n",
    "from scipy import stats, optimize, interpolate\n",
    "import pandas as pd\n",
    "from collections import defaultdict \n",
    "import math\n",
    "import matplotlib.pyplot as plt\n",
    "from scipy.stats import norm, lognorm\n",
    "from scipy import stats\n",
    "import matplotlib.cm as cm\n",
    "import matplotlib.mlab as mlab\n",
    "import os, fnmatch"
   ]
  },
  {
   "cell_type": "code",
   "execution_count": 2,
   "metadata": {
    "execution": {
     "iopub.execute_input": "2020-08-13T13:16:44.036788Z",
     "iopub.status.busy": "2020-08-13T13:16:44.036196Z",
     "iopub.status.idle": "2020-08-13T13:16:45.843196Z",
     "shell.execute_reply": "2020-08-13T13:16:45.842224Z"
    }
   },
   "outputs": [],
   "source": [
    "script_dir = os.path.dirname('__file__') #<-- absolute dir the script is in\n",
    "rel_path_sl=\"datasets/data-synthetic-lethals.xlsx\"\n",
    "rel_path_paralogs='datasets/paralogs-all-unique-SL-pairs.xlsx'\n",
    "\n",
    "abs_file_path_sl = os.path.join(script_dir, rel_path_sl)\n",
    "abs_file_path_paralogs = os.path.join(script_dir, rel_path_paralogs)\n",
    "\n",
    "# os.chdir('../') #<-- for binder os.chdir('../')\n",
    "\n",
    "data_sl=pd.read_excel(abs_file_path_sl,header=0)\n",
    "all_paralogs_from_sl=pd.read_excel(abs_file_path_paralogs)"
   ]
  },
  {
   "cell_type": "markdown",
   "metadata": {},
   "source": [
    "##  Inspecting the paralogs pairs\n",
    "\n",
    "- this is the first check to analyze if the reason why a SL pair shares domains is because they are also paralogs."
   ]
  },
  {
   "cell_type": "code",
   "execution_count": 3,
   "metadata": {
    "execution": {
     "iopub.execute_input": "2020-08-13T13:16:45.850343Z",
     "iopub.status.busy": "2020-08-13T13:16:45.849160Z",
     "iopub.status.idle": "2020-08-13T13:16:45.854921Z",
     "shell.execute_reply": "2020-08-13T13:16:45.854370Z"
    }
   },
   "outputs": [],
   "source": [
    "query_paralogs_pd=all_paralogs_from_sl.drop(columns='Unnamed: 0')\n",
    "query_paralogs_pd.columns=['name-gene','name-paralogue']\n",
    "query_paralogs_pd_withoutnan=query_paralogs_pd.dropna()\n",
    "query_paralogs_pd_withoutnan.index=np.arange(0,len(query_paralogs_pd_withoutnan))\n",
    "query_paralogs_pd=query_paralogs_pd_withoutnan"
   ]
  },
  {
   "cell_type": "markdown",
   "metadata": {},
   "source": [
    "#### Taking the indexes of the paralogs pairs that are also synthetic lethal"
   ]
  },
  {
   "cell_type": "code",
   "execution_count": 4,
   "metadata": {
    "execution": {
     "iopub.execute_input": "2020-08-13T13:16:45.909292Z",
     "iopub.status.busy": "2020-08-13T13:16:45.891050Z",
     "iopub.status.idle": "2020-08-13T13:16:47.407837Z",
     "shell.execute_reply": "2020-08-13T13:16:47.406507Z"
    }
   },
   "outputs": [],
   "source": [
    "indexes_sl_query=[]\n",
    "\n",
    "for i in np.arange(0,len(query_paralogs_pd)):\n",
    "    paralog_target=query_paralogs_pd[query_paralogs_pd['name-gene']==query_paralogs_pd['name-gene'][i]]['name-paralogue'].tolist()[0]\n",
    "    list_targets_sl=data_sl[data_sl['gene-query-name']==query_paralogs_pd['name-gene'][i]]['gene-target-name'].tolist()\n",
    "\n",
    "\n",
    "    \n",
    "    if paralog_target in list_targets_sl:\n",
    "        indexes_sl_query.append(query_paralogs_pd[query_paralogs_pd['name-paralogue']==paralog_target].index[0])\n"
   ]
  },
  {
   "cell_type": "markdown",
   "metadata": {},
   "source": [
    "### Putting 1's if the paralog pair is also SL"
   ]
  },
  {
   "cell_type": "code",
   "execution_count": 5,
   "metadata": {
    "execution": {
     "iopub.execute_input": "2020-08-13T13:16:47.416059Z",
     "iopub.status.busy": "2020-08-13T13:16:47.415483Z",
     "iopub.status.idle": "2020-08-13T13:16:47.418924Z",
     "shell.execute_reply": "2020-08-13T13:16:47.418097Z"
    }
   },
   "outputs": [],
   "source": [
    "sL_values=np.zeros_like(query_paralogs_pd['name-gene'])\n",
    "for i in np.arange(0,len(query_paralogs_pd)):\n",
    "    if i in indexes_sl_query:\n",
    "        sL_values[i]=1\n",
    "query_paralogs_pd['sL']=sL_values\n",
    "\n",
    "paralogs_sl_pd=query_paralogs_pd"
   ]
  },
  {
   "cell_type": "code",
   "execution_count": 6,
   "metadata": {
    "execution": {
     "iopub.execute_input": "2020-08-13T13:16:47.430436Z",
     "iopub.status.busy": "2020-08-13T13:16:47.427139Z",
     "iopub.status.idle": "2020-08-13T13:16:47.435750Z",
     "shell.execute_reply": "2020-08-13T13:16:47.435192Z"
    }
   },
   "outputs": [
    {
     "data": {
      "text/html": [
       "<div>\n",
       "<style scoped>\n",
       "    .dataframe tbody tr th:only-of-type {\n",
       "        vertical-align: middle;\n",
       "    }\n",
       "\n",
       "    .dataframe tbody tr th {\n",
       "        vertical-align: top;\n",
       "    }\n",
       "\n",
       "    .dataframe thead th {\n",
       "        text-align: right;\n",
       "    }\n",
       "</style>\n",
       "<table border=\"1\" class=\"dataframe\">\n",
       "  <thead>\n",
       "    <tr style=\"text-align: right;\">\n",
       "      <th></th>\n",
       "      <th>name-gene</th>\n",
       "      <th>name-paralogue</th>\n",
       "      <th>sL</th>\n",
       "    </tr>\n",
       "  </thead>\n",
       "  <tbody>\n",
       "    <tr>\n",
       "      <th>2</th>\n",
       "      <td>ADE16</td>\n",
       "      <td>ADE17</td>\n",
       "      <td>1</td>\n",
       "    </tr>\n",
       "    <tr>\n",
       "      <th>6</th>\n",
       "      <td>AFT1</td>\n",
       "      <td>AFT2</td>\n",
       "      <td>1</td>\n",
       "    </tr>\n",
       "    <tr>\n",
       "      <th>8</th>\n",
       "      <td>AGA1</td>\n",
       "      <td>FIG2</td>\n",
       "      <td>1</td>\n",
       "    </tr>\n",
       "    <tr>\n",
       "      <th>11</th>\n",
       "      <td>AIR1</td>\n",
       "      <td>AIR2</td>\n",
       "      <td>1</td>\n",
       "    </tr>\n",
       "    <tr>\n",
       "      <th>16</th>\n",
       "      <td>ALP1</td>\n",
       "      <td>CAN1</td>\n",
       "      <td>1</td>\n",
       "    </tr>\n",
       "  </tbody>\n",
       "</table>\n",
       "</div>"
      ],
      "text/plain": [
       "   name-gene name-paralogue sL\n",
       "2      ADE16          ADE17  1\n",
       "6       AFT1           AFT2  1\n",
       "8       AGA1           FIG2  1\n",
       "11      AIR1           AIR2  1\n",
       "16      ALP1           CAN1  1"
      ]
     },
     "execution_count": 6,
     "metadata": {},
     "output_type": "execute_result"
    }
   ],
   "source": [
    "sl_that_are_paralogs=paralogs_sl_pd[paralogs_sl_pd['sL']==1]\n",
    "sl_that_are_paralogs.head()"
   ]
  },
  {
   "cell_type": "code",
   "execution_count": 7,
   "metadata": {
    "execution": {
     "iopub.execute_input": "2020-08-13T13:16:47.446332Z",
     "iopub.status.busy": "2020-08-13T13:16:47.445814Z",
     "iopub.status.idle": "2020-08-13T13:16:47.451571Z",
     "shell.execute_reply": "2020-08-13T13:16:47.450996Z"
    }
   },
   "outputs": [
    {
     "data": {
      "text/html": [
       "<div>\n",
       "<style scoped>\n",
       "    .dataframe tbody tr th:only-of-type {\n",
       "        vertical-align: middle;\n",
       "    }\n",
       "\n",
       "    .dataframe tbody tr th {\n",
       "        vertical-align: top;\n",
       "    }\n",
       "\n",
       "    .dataframe thead th {\n",
       "        text-align: right;\n",
       "    }\n",
       "</style>\n",
       "<table border=\"1\" class=\"dataframe\">\n",
       "  <thead>\n",
       "    <tr style=\"text-align: right;\">\n",
       "      <th></th>\n",
       "      <th>name-gene</th>\n",
       "      <th>name-paralogue</th>\n",
       "      <th>sL</th>\n",
       "    </tr>\n",
       "  </thead>\n",
       "  <tbody>\n",
       "    <tr>\n",
       "      <th>0</th>\n",
       "      <td>ADE16</td>\n",
       "      <td>ADE17</td>\n",
       "      <td>1</td>\n",
       "    </tr>\n",
       "    <tr>\n",
       "      <th>1</th>\n",
       "      <td>AFT1</td>\n",
       "      <td>AFT2</td>\n",
       "      <td>1</td>\n",
       "    </tr>\n",
       "    <tr>\n",
       "      <th>2</th>\n",
       "      <td>AGA1</td>\n",
       "      <td>FIG2</td>\n",
       "      <td>1</td>\n",
       "    </tr>\n",
       "    <tr>\n",
       "      <th>3</th>\n",
       "      <td>AIR1</td>\n",
       "      <td>AIR2</td>\n",
       "      <td>1</td>\n",
       "    </tr>\n",
       "    <tr>\n",
       "      <th>4</th>\n",
       "      <td>ALP1</td>\n",
       "      <td>CAN1</td>\n",
       "      <td>1</td>\n",
       "    </tr>\n",
       "    <tr>\n",
       "      <th>...</th>\n",
       "      <td>...</td>\n",
       "      <td>...</td>\n",
       "      <td>...</td>\n",
       "    </tr>\n",
       "    <tr>\n",
       "      <th>171</th>\n",
       "      <td>YCK1</td>\n",
       "      <td>YCK2</td>\n",
       "      <td>1</td>\n",
       "    </tr>\n",
       "    <tr>\n",
       "      <th>172</th>\n",
       "      <td>YPC1</td>\n",
       "      <td>YDC1</td>\n",
       "      <td>1</td>\n",
       "    </tr>\n",
       "    <tr>\n",
       "      <th>173</th>\n",
       "      <td>YPK1</td>\n",
       "      <td>YPK2</td>\n",
       "      <td>1</td>\n",
       "    </tr>\n",
       "    <tr>\n",
       "      <th>174</th>\n",
       "      <td>YPS1</td>\n",
       "      <td>MKC7</td>\n",
       "      <td>1</td>\n",
       "    </tr>\n",
       "    <tr>\n",
       "      <th>175</th>\n",
       "      <td>YPT31</td>\n",
       "      <td>YPT32</td>\n",
       "      <td>1</td>\n",
       "    </tr>\n",
       "  </tbody>\n",
       "</table>\n",
       "<p>176 rows × 3 columns</p>\n",
       "</div>"
      ],
      "text/plain": [
       "    name-gene name-paralogue sL\n",
       "0       ADE16          ADE17  1\n",
       "1        AFT1           AFT2  1\n",
       "2        AGA1           FIG2  1\n",
       "3        AIR1           AIR2  1\n",
       "4        ALP1           CAN1  1\n",
       "..        ...            ... ..\n",
       "171      YCK1           YCK2  1\n",
       "172      YPC1           YDC1  1\n",
       "173      YPK1           YPK2  1\n",
       "174      YPS1           MKC7  1\n",
       "175     YPT31          YPT32  1\n",
       "\n",
       "[176 rows x 3 columns]"
      ]
     },
     "execution_count": 7,
     "metadata": {},
     "output_type": "execute_result"
    }
   ],
   "source": [
    "sl_that_are_paralogs.set_index(np.arange(0,len(sl_that_are_paralogs)))"
   ]
  },
  {
   "cell_type": "markdown",
   "metadata": {},
   "source": [
    "## What is the contribution of paralogs to SL that share protein domains?"
   ]
  },
  {
   "cell_type": "code",
   "execution_count": 8,
   "metadata": {
    "execution": {
     "iopub.execute_input": "2020-08-13T13:16:47.455444Z",
     "iopub.status.busy": "2020-08-13T13:16:47.454614Z",
     "iopub.status.idle": "2020-08-13T13:16:47.458830Z",
     "shell.execute_reply": "2020-08-13T13:16:47.458251Z"
    }
   },
   "outputs": [],
   "source": [
    "pairs_sL=np.load('pairs-sL-that-share-domains.npy')"
   ]
  },
  {
   "cell_type": "code",
   "execution_count": 9,
   "metadata": {
    "execution": {
     "iopub.execute_input": "2020-08-13T13:16:47.483780Z",
     "iopub.status.busy": "2020-08-13T13:16:47.478250Z",
     "iopub.status.idle": "2020-08-13T13:17:10.057379Z",
     "shell.execute_reply": "2020-08-13T13:17:10.056392Z"
    }
   },
   "outputs": [],
   "source": [
    "shared_sL_paralogs=[]\n",
    "for i in np.arange(0,len(sl_that_are_paralogs)):\n",
    "    for j in np.arange(0,len(pairs_sL)):\n",
    "        if set(sl_that_are_paralogs.iloc[i,0:2].tolist())==set(pairs_sL[j]):\n",
    "            shared_sL_paralogs.append(pairs_sL[j])\n"
   ]
  },
  {
   "cell_type": "code",
   "execution_count": 10,
   "metadata": {
    "execution": {
     "iopub.execute_input": "2020-08-13T13:17:10.063348Z",
     "iopub.status.busy": "2020-08-13T13:17:10.062450Z",
     "iopub.status.idle": "2020-08-13T13:17:10.067060Z",
     "shell.execute_reply": "2020-08-13T13:17:10.067510Z"
    }
   },
   "outputs": [
    {
     "name": "stdout",
     "output_type": "stream",
     "text": [
      "The contribution of paralogs to the SL pairs that shared domains is = 1.6042780748663101 %\n",
      "Only 12 out of 176 paralogs that are SL , share annotated protein domains.\n",
      "The number of paralogs that are SL out of the total number of paralogs is 176 out of 720 = 24.444444444444443 %\n",
      "The contribution of paralogs to the total number of SL pairs is  = 0.9848357674444631 %\n",
      "The number of SL that share domains out of the total number of SL pairs is = 4.185552011638968 %\n"
     ]
    }
   ],
   "source": [
    "print('The contribution of paralogs to the SL pairs that shared domains is =', 100*len(shared_sL_paralogs)/len(pairs_sL),'%')\n",
    "print('Only',len(shared_sL_paralogs),'out of',len(sl_that_are_paralogs),'paralogs that are SL , share annotated protein domains.')\n",
    "\n",
    "print('The number of paralogs that are SL out of the total number of paralogs is',len(sl_that_are_paralogs),'out of',len(paralogs_sl_pd),'=',100*len(sl_that_are_paralogs)/len(paralogs_sl_pd),'%')\n",
    "\n",
    "print('The contribution of paralogs to the total number of SL pairs is  =', 100*len(sl_that_are_paralogs)/17871,'%')\n",
    "print('The number of SL that share domains out of the total number of SL pairs is =',100*len(pairs_sL)/17871,'%')"
   ]
  },
  {
   "cell_type": "code",
   "execution_count": 11,
   "metadata": {
    "execution": {
     "iopub.execute_input": "2020-08-13T13:17:10.075826Z",
     "iopub.status.busy": "2020-08-13T13:17:10.075191Z",
     "iopub.status.idle": "2020-08-13T13:17:10.079009Z",
     "shell.execute_reply": "2020-08-13T13:17:10.079529Z"
    }
   },
   "outputs": [],
   "source": [
    "# Pie chart\n",
    "labels = ['SL-paralogs','Paralogs non SL']\n",
    "sizes = [len(sl_that_are_paralogs)/len(paralogs_sl_pd),len(paralogs_sl_pd)/len(paralogs_sl_pd)-len(sl_that_are_paralogs)/len(paralogs_sl_pd)]"
   ]
  },
  {
   "cell_type": "code",
   "execution_count": 12,
   "metadata": {
    "execution": {
     "iopub.execute_input": "2020-08-13T13:17:10.085949Z",
     "iopub.status.busy": "2020-08-13T13:17:10.085389Z",
     "iopub.status.idle": "2020-08-13T13:17:10.233001Z",
     "shell.execute_reply": "2020-08-13T13:17:10.233852Z"
    }
   },
   "outputs": [
    {
     "data": {
      "image/png": "[encoded data removed]",
      "text/plain": [
       "<Figure size 432x288 with 1 Axes>"
      ]
     },
     "metadata": {
      "filenames": {
       "image/png": "/home/runner/work/jupyter-book/jupyter-book/mini_book/docs/_build/jupyter_execute/paralogs-and-SL-pairs_16_0.png"
      }
     },
     "output_type": "display_data"
    }
   ],
   "source": [
    "#colors\n",
    "colors = ['#ff9999','#66b3ff','#99ff99','#ffcc99']\n",
    " \n",
    "fig1, ax1 = plt.subplots()\n",
    "patches, texts, autotexts = ax1.pie(sizes, colors = colors, labels=labels, autopct='%1.1f%%', startangle=90)\n",
    "for text in texts:\n",
    "    text.set_color('grey')\n",
    "for autotext in autotexts:\n",
    "    autotext.set_color('grey')\n",
    "# Equal aspect ratio ensures that pie is drawn as a circle\n",
    "ax1.axis('equal')  \n",
    "plt.tight_layout()"
   ]
  }
 ],
 "metadata": {
  "jupytext": {
   "text_representation": {
    "extension": ".md",
    "format_name": "myst"
   }
  },
  "kernelspec": {
   "display_name": "Python 3",
   "language": "python",
   "name": "python3"
  },
  "language_info": {
   "codemirror_mode": {
    "name": "ipython",
    "version": 3
   },
   "file_extension": ".py",
   "mimetype": "text/x-python",
   "name": "python",
   "nbconvert_exporter": "python",
   "pygments_lexer": "ipython3",
   "version": "3.7.8"
  },
  "source_map": [
   10,
   14,
   31,
   43,
   50,
   56,
   60,
   72,
   76,
   86,
   91,
   93,
   97,
   102,
   112,
   123,
   129
  ]
 },
 "nbformat": 4,
 "nbformat_minor": 4
}