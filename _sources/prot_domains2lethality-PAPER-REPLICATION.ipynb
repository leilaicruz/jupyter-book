{
 "cells": [
  {
   "cell_type": "markdown",
   "metadata": {},
   "source": [
    "# Replication of results from paper: \"Predicting yeast synthetic lethal genetic interactions using protein domains\" \n",
    "\n",
    "- Authors: Bo Li, Feng Luo,School of Computing,Clemson University,Clemson, SC, USA\n",
    "- e-mail: bol, luofeng@clemson.edu\n",
    "- year:2009"
   ]
  },
  {
   "cell_type": "code",
   "execution_count": 1,
   "metadata": {
    "execution": {
     "iopub.execute_input": "2020-07-22T18:42:55.628576Z",
     "iopub.status.busy": "2020-07-22T18:42:55.627937Z",
     "iopub.status.idle": "2020-07-22T18:42:56.334201Z",
     "shell.execute_reply": "2020-07-22T18:42:56.333252Z"
    }
   },
   "outputs": [],
   "source": [
    "import pandas as pd\n",
    "import numpy as np\n",
    "import matplotlib.pyplot as plt\n",
    "from collections import defaultdict \n",
    "import seaborn as sns\n",
    "import matplotlib.cm as cm\n",
    "import scipy as scipy\n",
    "import random"
   ]
  },
  {
   "cell_type": "markdown",
   "metadata": {},
   "source": [
    "### Importing datasets \n",
    "\n",
    "#### Link to the github repo where the datasets to be downloaded:\n",
    "[DOWNLOAD THE DATASETS HERE](https://github.com/leilaicruz/machine-learning-for-yeast/tree/dev_Leila/datasets-for-learning)"
   ]
  },
  {
   "cell_type": "code",
   "execution_count": 2,
   "metadata": {
    "execution": {
     "iopub.execute_input": "2020-07-22T18:42:56.340608Z",
     "iopub.status.busy": "2020-07-22T18:42:56.340085Z",
     "iopub.status.idle": "2020-07-22T18:43:03.497384Z",
     "shell.execute_reply": "2020-07-22T18:43:03.497781Z"
    }
   },
   "outputs": [],
   "source": [
    "import os\n",
    "script_dir = os.path.dirname('__file__') #<-- absolute dir the script is in\n",
    "rel_path_SL = \"datasets/data-synthetic-lethals.xlsx\"\n",
    "rel_path_nSL=\"datasets/data-positive-genetic.xlsx\"\n",
    "rel_path_domains=\"datasets/proteins-domains-from-Pfam.xlsx\"\n",
    "\n",
    "abs_file_path_SL = os.path.join(script_dir, rel_path_SL)\n",
    "abs_file_path_nSL = os.path.join(script_dir, rel_path_nSL)\n",
    "abs_file_path_domains = os.path.join(script_dir, rel_path_domains)\n",
    "\n",
    "# os.chdir('mini_book/docs/') #<-- for binder os.chdir('../')\n",
    "# os.chdir('../')\n",
    "my_path_sl= abs_file_path_SL\n",
    "my_path_non_sl=abs_file_path_nSL\n",
    "my_path_domains=abs_file_path_domains\n",
    "\n",
    "data_sl=pd.read_excel(my_path_sl,header=0)\n",
    "data_domains=pd.read_excel(my_path_domains,header=0,index_col='Unnamed: 0')\n",
    "data_domains=data_domains.dropna()\n",
    "data_nonsl=pd.read_excel(my_path_non_sl,header=0)\n"
   ]
  },
  {
   "cell_type": "markdown",
   "metadata": {},
   "source": [
    "## Building the feature matrix\n",
    "One matrix for true SL where each row is one pair of SL. Every raw will be a vector of 0,1 or 2 depending on the comparison with the domain list. For row i the jth element = 0 if the jth element of the domain list is not in neither protein A and B, 1, if it is in one of them and 2 if it is in both of them .\n",
    "\n",
    "### Building the list of proteins domains id per protein pair separately :\n",
    "- List of protein A: Search for the Sl/nSL database the query gene name and look in the protein domain database which protein domains id has each of those queries.\n",
    "- List of protein B: Search for the Sl/nSL database the target gene name of the previous query and look in the protein domain database which protein domains id has each of those target genes."
   ]
  },
  {
   "cell_type": "code",
   "execution_count": 3,
   "metadata": {
    "execution": {
     "iopub.execute_input": "2020-07-22T18:43:03.512870Z",
     "iopub.status.busy": "2020-07-22T18:43:03.512244Z",
     "iopub.status.idle": "2020-07-22T18:43:03.934354Z",
     "shell.execute_reply": "2020-07-22T18:43:03.933807Z"
    }
   },
   "outputs": [],
   "source": [
    "# Selecting the meaningful columns in the respective dataset\n",
    "domain_id_list=data_domains['domain-name']\n",
    "query_gene=data_sl['gene-query-name']\n",
    "target_gene=data_sl['gene-target-name']\n",
    "query_gene_nonlethal=data_nonsl['gene-query-name']\n",
    "target_gene_nonlethal=data_nonsl['gene-target-name']\n",
    "\n",
    "\n",
    "\n",
    "# Initialising the arrays\n",
    "protein_a_list=[]\n",
    "protein_b_list=[]\n",
    "protein_a_list_non=[]\n",
    "protein_b_list_non=[]\n",
    "\n",
    "population = np.arange(0,len(data_sl))\n",
    "\n",
    "# For loop for 10000 pairs sampled randomly from the SL/nSl pair list , and creating a big array of proteind domains id per protein pair\n",
    "\n",
    "for m in random.sample(list(population), 100):\n",
    "    protein_a=data_domains[data_domains['name']==query_gene[m]]\n",
    "    protein_b=data_domains[data_domains['name']==target_gene[m]]\n",
    "    protein_a_list.append(protein_a['domain-name'].tolist())\n",
    "    protein_b_list.append(protein_b['domain-name'].tolist())\n",
    "\n",
    "    protein_a_non=data_domains[data_domains['name']==query_gene_nonlethal[m]]\n",
    "    protein_b_non=data_domains[data_domains['name']==target_gene_nonlethal[m]]\n",
    "    protein_a_list_non.append(protein_a_non['domain-name'].tolist())\n",
    "    protein_b_list_non.append(protein_b_non['domain-name'].tolist())"
   ]
  },
  {
   "cell_type": "code",
   "execution_count": 4,
   "metadata": {
    "execution": {
     "iopub.execute_input": "2020-07-22T18:43:03.939675Z",
     "iopub.status.busy": "2020-07-22T18:43:03.938219Z",
     "iopub.status.idle": "2020-07-22T18:43:03.943816Z",
     "shell.execute_reply": "2020-07-22T18:43:03.943287Z"
    }
   },
   "outputs": [
    {
     "name": "stdout",
     "output_type": "stream",
     "text": [
      "We are going to analyze 100 protein pairs, out of 17871 SL protein pairs\n",
      "We are going to analyze 100 protein pairs, out of 43340 positive protein pairs\n"
     ]
    }
   ],
   "source": [
    "print('We are going to analyze',len((protein_a_list)) ,'protein pairs, out of',len(data_sl),'SL protein pairs')\n",
    "print('We are going to analyze',len((protein_a_list_non)) ,'protein pairs, out of',len(data_nonsl),'positive protein pairs')"
   ]
  },
  {
   "cell_type": "markdown",
   "metadata": {},
   "source": [
    "### Postprocessing #1:  Remove protein pairs from study if either protein in the pair does not contain any domain"
   ]
  },
  {
   "cell_type": "code",
   "execution_count": 5,
   "metadata": {
    "execution": {
     "iopub.execute_input": "2020-07-22T18:43:03.953094Z",
     "iopub.status.busy": "2020-07-22T18:43:03.951544Z",
     "iopub.status.idle": "2020-07-22T18:43:03.953772Z",
     "shell.execute_reply": "2020-07-22T18:43:03.954269Z"
    }
   },
   "outputs": [],
   "source": [
    "def remove_empty_domains(protein_list_search,protein_list_pair):\n",
    "    index=[]\n",
    "    for i in np.arange(0,len(protein_list_search)):\n",
    "        if protein_list_search[i]==[] or protein_list_pair[i]==[]:\n",
    "            index.append(i) ## index of empty values for the protein_a_list meaning they dont have any annotated domain\n",
    "\n",
    "    y=[x for x in np.arange(0,len(protein_list_search)) if x not in index] # a list with non empty values from protein_a list\n",
    "\n",
    "    protein_list_search_new=[]\n",
    "    protein_list_pair_new=[]\n",
    "    for i in y:\n",
    "        protein_list_search_new.append(protein_list_search[i])\n",
    "        protein_list_pair_new.append(protein_list_pair[i])\n",
    "    return protein_list_search_new,protein_list_pair_new\n",
    "\n",
    "## evaluating the function\n",
    "\n",
    "protein_a_list_new,protein_b_list_new=remove_empty_domains(protein_a_list,protein_b_list)\n",
    "\n",
    "protein_a_list_non_new,protein_b_list_non_new=remove_empty_domains(protein_a_list_non,protein_b_list_non)"
   ]
  },
  {
   "cell_type": "code",
   "execution_count": 6,
   "metadata": {
    "execution": {
     "iopub.execute_input": "2020-07-22T18:43:03.961686Z",
     "iopub.status.busy": "2020-07-22T18:43:03.960158Z",
     "iopub.status.idle": "2020-07-22T18:43:03.963812Z",
     "shell.execute_reply": "2020-07-22T18:43:03.963272Z"
    }
   },
   "outputs": [
    {
     "name": "stdout",
     "output_type": "stream",
     "text": [
      "The empty domain in the SL were: 11 out of 100 domains\n",
      "The empty domain in the nSL were: 21 out of 100 domains\n"
     ]
    }
   ],
   "source": [
    "print('The empty domain in the SL were:', len(protein_a_list)-len(protein_a_list_new), 'out of', len(protein_a_list),'domains')\n",
    "print('The empty domain in the nSL were:', len(protein_a_list_non)-len(protein_a_list_non_new), 'out of', len(protein_a_list_non),'domains')"
   ]
  },
  {
   "cell_type": "markdown",
   "metadata": {},
   "source": [
    "### Feature engineering: Select from each ordered indexes of domain id list which of them appear once, in both or in any of the domains of each protein pair"
   ]
  },
  {
   "cell_type": "markdown",
   "metadata": {},
   "source": [
    "#### Define function `get_indexes`"
   ]
  },
  {
   "cell_type": "code",
   "execution_count": 7,
   "metadata": {
    "execution": {
     "iopub.execute_input": "2020-07-22T18:43:03.971927Z",
     "iopub.status.busy": "2020-07-22T18:43:03.970752Z",
     "iopub.status.idle": "2020-07-22T18:43:03.974580Z",
     "shell.execute_reply": "2020-07-22T18:43:03.974054Z"
    }
   },
   "outputs": [
    {
     "data": {
      "text/plain": [
       "[1, 2]"
      ]
     },
     "execution_count": 7,
     "metadata": {},
     "output_type": "execute_result"
    }
   ],
   "source": [
    "get_indexes = lambda x, xs: [i for (y, i) in zip(xs, range(len(xs))) if x == y] # a function that give the index of whether a value appear in array or not\n",
    "a=[1,2,2,4,5,6,7,8,9,10]\n",
    "get_indexes(2,a)"
   ]
  },
  {
   "cell_type": "code",
   "execution_count": 8,
   "metadata": {
    "execution": {
     "iopub.execute_input": "2020-07-22T18:43:03.983203Z",
     "iopub.status.busy": "2020-07-22T18:43:03.981880Z",
     "iopub.status.idle": "2020-07-22T18:43:03.985207Z",
     "shell.execute_reply": "2020-07-22T18:43:03.985635Z"
    }
   },
   "outputs": [],
   "source": [
    "def feature_building(protein_a_list_new,protein_b_list_new):\n",
    "    x = np.unique(domain_id_list)\n",
    "    ## To avoid taking repeated domains from one protein of the pairs , lets reduced the domains of each protein from the pairs to their unique members\n",
    "    protein_a_list_unique=[]\n",
    "    protein_b_list_unique=[]\n",
    "    for i in np.arange(0,len(protein_a_list_new)):\n",
    "        protein_a_list_unique.append(np.unique(protein_a_list_new[i]))\n",
    "        protein_b_list_unique.append(np.unique(protein_b_list_new[i]))\n",
    "        \n",
    "    protein_feat_true=np.zeros(shape=(len(x),len(protein_a_list_unique)))\n",
    "    pair_a_b_array=[]\n",
    "    for i in np.arange(0,len(protein_a_list_unique)):\n",
    "        index_a=[]\n",
    "        \n",
    "        pair=[protein_a_list_unique[i],protein_b_list_unique[i]]\n",
    "        pair_a_b=np.concatenate(pair).ravel()\n",
    "        pair_a_b_array.append(pair_a_b)\n",
    "\n",
    "    j=0\n",
    "    for i in pair_a_b_array:  \n",
    "        array,index,counts=np.unique(i,return_index=True,return_counts=True)\n",
    "        \n",
    "        for k,m in zip(counts,array):\n",
    "            if k ==2:\n",
    "                protein_feat_true[get_indexes(m,x),j]=2\n",
    "                \n",
    "            if k==1:\n",
    "                protein_feat_true[get_indexes(m,x),j]=1\n",
    "        j=j+1\n",
    "    return protein_feat_true"
   ]
  },
  {
   "cell_type": "code",
   "execution_count": 9,
   "metadata": {
    "execution": {
     "iopub.execute_input": "2020-07-22T18:43:03.999230Z",
     "iopub.status.busy": "2020-07-22T18:43:03.998617Z",
     "iopub.status.idle": "2020-07-22T18:43:04.145464Z",
     "shell.execute_reply": "2020-07-22T18:43:04.144808Z"
    }
   },
   "outputs": [],
   "source": [
    "protein_feat_true=feature_building(protein_b_list_new=protein_b_list_new,protein_a_list_new=protein_a_list_new)\n",
    "protein_feat_true_pd=pd.DataFrame(protein_feat_true.T)\n",
    "\n",
    "protein_feat_non_true=feature_building(protein_b_list_new=protein_b_list_non_new,protein_a_list_new=protein_a_list_non_new)\n",
    "protein_feat_non_true_pd=pd.DataFrame(protein_feat_non_true.T)"
   ]
  },
  {
   "cell_type": "markdown",
   "metadata": {},
   "source": [
    "### How many ones and twos are in each dataset"
   ]
  },
  {
   "cell_type": "code",
   "execution_count": 10,
   "metadata": {
    "execution": {
     "iopub.execute_input": "2020-07-22T18:43:04.152415Z",
     "iopub.status.busy": "2020-07-22T18:43:04.151817Z",
     "iopub.status.idle": "2020-07-22T18:43:04.199882Z",
     "shell.execute_reply": "2020-07-22T18:43:04.199283Z"
    }
   },
   "outputs": [
    {
     "name": "stdout",
     "output_type": "stream",
     "text": [
      "fraction of twos in the SL array is 1.4857461231312099e-05\n",
      "fraction of ones in the SL array is 0.001051165382115331\n",
      "fraction of twos in the PI array is 1.2553614394811172e-05\n",
      "fraction of ones in the PI array is 0.0009038602364264044\n"
     ]
    }
   ],
   "source": [
    "index_2_true=protein_feat_true_pd.where(protein_feat_true_pd==2)\n",
    "index_2_true_count=index_2_true.count(axis=1).sum()\n",
    "\n",
    "index_1_true=protein_feat_true_pd.where(protein_feat_true_pd==1)\n",
    "index_1_true_count=index_1_true.count(axis=1).sum()\n",
    "\n",
    "index_2_nontrue=protein_feat_non_true_pd.where(protein_feat_non_true_pd==2)\n",
    "index_2_nontrue_count=index_2_nontrue.count(axis=1).sum()\n",
    "\n",
    "index_1_nontrue=protein_feat_non_true_pd.where(protein_feat_non_true_pd==1)\n",
    "index_1_nontrue_count=index_1_nontrue.count(axis=1).sum()\n",
    "\n",
    "\n",
    "print('fraction of twos in the SL array is',index_2_true_count/(len(protein_feat_true_pd.index)*len(protein_feat_true_pd.columns)))\n",
    "print('fraction of ones in the SL array is',index_1_true_count/(len(protein_feat_true_pd.index)*len(protein_feat_true_pd.columns)))\n",
    "print('fraction of twos in the PI array is',index_2_nontrue_count/(len(protein_feat_non_true_pd.index)*len(protein_feat_non_true_pd.columns)))\n",
    "print('fraction of ones in the PI array is',index_1_nontrue_count/(len(protein_feat_non_true_pd.index)*len(protein_feat_non_true_pd.columns)))"
   ]
  },
  {
   "cell_type": "markdown",
   "metadata": {},
   "source": [
    "#### Bar plot to visualize these numbers"
   ]
  },
  {
   "cell_type": "code",
   "execution_count": 11,
   "metadata": {
    "execution": {
     "iopub.execute_input": "2020-07-22T18:43:04.219075Z",
     "iopub.status.busy": "2020-07-22T18:43:04.218532Z",
     "iopub.status.idle": "2020-07-22T18:43:04.638271Z",
     "shell.execute_reply": "2020-07-22T18:43:04.637835Z"
    }
   },
   "outputs": [
    {
     "data": {
      "text/plain": [
       "([0, 1, 2, 3],\n",
       " [Text(0, 0, ''), Text(0, 0, ''), Text(0, 0, ''), Text(0, 0, '')])"
      ]
     },
     "execution_count": 11,
     "metadata": {},
     "output_type": "execute_result"
    },
    {
     "data": {
      "image/png": "[encoded data removed]",
      "text/plain": [
       "<Figure size 432x288 with 1 Axes>"
      ]
     },
     "metadata": {
      "filenames": {
       "image/png": "/home/runner/work/jupyter-book/jupyter-book/mini_book/docs/_build/jupyter_execute/prot_domains2lethality-PAPER-REPLICATION_18_1.png"
      },
      "needs_background": "light"
     },
     "output_type": "display_data"
    }
   ],
   "source": [
    "plt.bar(['fraction of 2 in the nSL','fraction of 1 in the nSL'],[index_2_nontrue_count/(len(protein_feat_non_true_pd.index)*len(protein_feat_non_true_pd.columns)),index_1_nontrue_count/(len(protein_feat_non_true_pd.index)*len(protein_feat_non_true_pd.columns))],alpha=0.6,color=['blue','lightblue']), \n",
    "\n",
    "plt.bar(['fraction of 2 in SL ','fraction of 1 in SL'],[index_2_true_count/(len(protein_feat_true_pd.index)*len(protein_feat_true_pd.columns)),index_1_true_count/(len(protein_feat_true_pd.index)*len(protein_feat_true_pd.columns))],alpha=0.6,color=['coral','lightcoral'])\n",
    "\n",
    "plt.ylabel('Fraction from the population')\n",
    "plt.yscale('log')\n",
    "plt.xticks(rotation=40)"
   ]
  },
  {
   "cell_type": "markdown",
   "metadata": {},
   "source": [
    "#### Adding the labels(response variables) to each dataset"
   ]
  },
  {
   "cell_type": "code",
   "execution_count": 12,
   "metadata": {
    "execution": {
     "iopub.execute_input": "2020-07-22T18:43:04.643911Z",
     "iopub.status.busy": "2020-07-22T18:43:04.641906Z",
     "iopub.status.idle": "2020-07-22T18:43:04.646409Z",
     "shell.execute_reply": "2020-07-22T18:43:04.645888Z"
    }
   },
   "outputs": [],
   "source": [
    "protein_feat_true_pd['lethality']=np.ones(shape=(len(protein_a_list_new)))\n",
    "protein_feat_non_true_pd['lethality']=np.zeros(shape=(len(protein_a_list_non_new)))"
   ]
  },
  {
   "cell_type": "markdown",
   "metadata": {},
   "source": [
    "#### Joining both datasets"
   ]
  },
  {
   "cell_type": "code",
   "execution_count": 13,
   "metadata": {
    "execution": {
     "iopub.execute_input": "2020-07-22T18:43:04.650767Z",
     "iopub.status.busy": "2020-07-22T18:43:04.650113Z",
     "iopub.status.idle": "2020-07-22T18:43:04.661752Z",
     "shell.execute_reply": "2020-07-22T18:43:04.661332Z"
    }
   },
   "outputs": [
    {
     "name": "stdout",
     "output_type": "stream",
     "text": [
      "The number of features are: 3026\n",
      "The number of samples are: 168\n"
     ]
    }
   ],
   "source": [
    "feature_post=pd.concat([protein_feat_true_pd,protein_feat_non_true_pd],axis=0)\n",
    "feature_post=feature_post.set_index(np.arange(0,len(protein_a_list_new)+len(protein_a_list_non_new)))\n",
    "print('The number of features are:',feature_post.shape[1])\n",
    "print('The number of samples are:',feature_post.shape[0])"
   ]
  },
  {
   "cell_type": "markdown",
   "metadata": {},
   "source": [
    "### Postprocessing and exploration of the feature matrix of both datasets"
   ]
  },
  {
   "cell_type": "code",
   "execution_count": 14,
   "metadata": {
    "execution": {
     "iopub.execute_input": "2020-07-22T18:43:04.670893Z",
     "iopub.status.busy": "2020-07-22T18:43:04.670341Z",
     "iopub.status.idle": "2020-07-22T18:43:05.598760Z",
     "shell.execute_reply": "2020-07-22T18:43:05.598262Z"
    }
   },
   "outputs": [],
   "source": [
    "mean=feature_post.T.describe().loc['mean']\n",
    "std=feature_post.T.describe().loc['std']\n",
    "lethality=feature_post['lethality']\n",
    "\n",
    "corr_keys=pd.concat([mean,std,lethality],axis=1)"
   ]
  },
  {
   "cell_type": "markdown",
   "metadata": {},
   "source": [
    "### Viz of the stats"
   ]
  },
  {
   "cell_type": "code",
   "execution_count": 15,
   "metadata": {
    "execution": {
     "iopub.execute_input": "2020-07-22T18:43:05.633709Z",
     "iopub.status.busy": "2020-07-22T18:43:05.633130Z",
     "iopub.status.idle": "2020-07-22T18:43:06.457641Z",
     "shell.execute_reply": "2020-07-22T18:43:06.457037Z"
    }
   },
   "outputs": [
    {
     "data": {
      "text/plain": [
       "Text(0.5, 1.0, 'How the std varies with Lethality')"
      ]
     },
     "execution_count": 15,
     "metadata": {},
     "output_type": "execute_result"
    },
    {
     "data": {
      "image/png": "[encoded data removed]",
      "text/plain": [
       "<Figure size 720x360 with 2 Axes>"
      ]
     },
     "metadata": {
      "filenames": {
       "image/png": "/home/runner/work/jupyter-book/jupyter-book/mini_book/docs/_build/jupyter_execute/prot_domains2lethality-PAPER-REPLICATION_26_1.png"
      },
      "needs_background": "light"
     },
     "output_type": "display_data"
    }
   ],
   "source": [
    "fig, axs = plt.subplots(ncols=2, figsize=(10,5))\n",
    "a=sns.violinplot(x=\"lethality\", y=\"mean\", data=corr_keys,ax=axs[0],palette='colorblind')\n",
    "a.set_title('How the mean varies with Lethality')\n",
    "b=sns.violinplot(x=\"lethality\", y=\"std\", data=corr_keys,ax=axs[1],palette='colorblind')\n",
    "b.set_title('How the std varies with Lethality')\n",
    "##plt.savefig('violinplot-mean-std-with-lethality.png', format='png',dpi=300,transparent='true')"
   ]
  },
  {
   "cell_type": "code",
   "execution_count": 16,
   "metadata": {
    "execution": {
     "iopub.execute_input": "2020-07-22T18:43:06.477477Z",
     "iopub.status.busy": "2020-07-22T18:43:06.461732Z",
     "iopub.status.idle": "2020-07-22T18:43:07.962391Z",
     "shell.execute_reply": "2020-07-22T18:43:07.961959Z"
    }
   },
   "outputs": [
    {
     "data": {
      "text/plain": [
       "Text(0.5, 1.08, 'Pairplot to see data dependencies with Lethality')"
      ]
     },
     "execution_count": 16,
     "metadata": {},
     "output_type": "execute_result"
    },
    {
     "data": {
      "image/png": "[encoded data removed]",
      "text/plain": [
       "<Figure size 412x360 with 6 Axes>"
      ]
     },
     "metadata": {
      "filenames": {
       "image/png": "/home/runner/work/jupyter-book/jupyter-book/mini_book/docs/_build/jupyter_execute/prot_domains2lethality-PAPER-REPLICATION_27_1.png"
      },
      "needs_background": "light"
     },
     "output_type": "display_data"
    }
   ],
   "source": [
    "pair=sns.pairplot(corr_keys,hue='lethality',diag_kind='kde',kind='reg',palette='colorblind')\n",
    "pair.fig.suptitle('Pairplot to see data dependencies with Lethality',y=1.08)\n",
    "##plt.savefig('Pairplot-to-see-data-dependencies-with-Lethality.png',format='png',dpi=300,transparent='True', bbox_inches='tight')"
   ]
  },
  {
   "cell_type": "code",
   "execution_count": 17,
   "metadata": {
    "execution": {
     "iopub.execute_input": "2020-07-22T18:43:07.969468Z",
     "iopub.status.busy": "2020-07-22T18:43:07.968962Z",
     "iopub.status.idle": "2020-07-22T18:43:07.972217Z",
     "shell.execute_reply": "2020-07-22T18:43:07.972635Z"
    }
   },
   "outputs": [],
   "source": [
    "a=scipy.stats.pearsonr(corr_keys['mean'],corr_keys['lethality'])\n",
    "p_value_corr=defaultdict(dict)\n",
    "\n",
    "columns=['mean','std']\n",
    "for i in columns:\n",
    "    \n",
    "    tmp=scipy.stats.pearsonr(corr_keys[i],corr_keys['lethality'])\n",
    "    p_value_corr[i]['corr with lethality']=tmp[0]\n",
    "    p_value_corr[i]['p-value']=tmp[1]\n",
    "\n",
    "p_value_corr_pd=pd.DataFrame(p_value_corr)"
   ]
  },
  {
   "cell_type": "code",
   "execution_count": 18,
   "metadata": {
    "execution": {
     "iopub.execute_input": "2020-07-22T18:43:08.015586Z",
     "iopub.status.busy": "2020-07-22T18:43:07.999850Z",
     "iopub.status.idle": "2020-07-22T18:43:08.209320Z",
     "shell.execute_reply": "2020-07-22T18:43:08.208420Z"
    }
   },
   "outputs": [
    {
     "data": {
      "text/plain": [
       "<AxesSubplot:>"
      ]
     },
     "execution_count": 18,
     "metadata": {},
     "output_type": "execute_result"
    },
    {
     "data": {
      "image/png": "[encoded data removed]",
      "text/plain": [
       "<Figure size 432x288 with 2 Axes>"
      ]
     },
     "metadata": {
      "filenames": {
       "image/png": "/home/runner/work/jupyter-book/jupyter-book/mini_book/docs/_build/jupyter_execute/prot_domains2lethality-PAPER-REPLICATION_29_1.png"
      },
      "needs_background": "light"
     },
     "output_type": "display_data"
    }
   ],
   "source": [
    "corr = corr_keys.corr()\n",
    "import matplotlib.cm as cm\n",
    "sns.heatmap(corr, vmax=1,vmin=-1 ,square=True,cmap=cm.PRGn,cbar_kws={'label':'Pearson corr'})\n",
    "##plt.savefig('Heatmap-Pearson-corr-mean-std-lethality.png', format='png',dpi=300,transparent='true',bbox_inches='tight')"
   ]
  },
  {
   "cell_type": "markdown",
   "metadata": {},
   "source": [
    "## Separate features from labels to set up the data from the ML workflow"
   ]
  },
  {
   "cell_type": "code",
   "execution_count": 19,
   "metadata": {
    "execution": {
     "iopub.execute_input": "2020-07-22T18:43:08.216174Z",
     "iopub.status.busy": "2020-07-22T18:43:08.215645Z",
     "iopub.status.idle": "2020-07-22T18:43:08.219323Z",
     "shell.execute_reply": "2020-07-22T18:43:08.218608Z"
    }
   },
   "outputs": [],
   "source": [
    "X, y = feature_post.drop(columns=[\"lethality\"]), feature_post[\"lethality\"]"
   ]
  },
  {
   "cell_type": "code",
   "execution_count": 20,
   "metadata": {
    "execution": {
     "iopub.execute_input": "2020-07-22T18:43:08.224049Z",
     "iopub.status.busy": "2020-07-22T18:43:08.223178Z",
     "iopub.status.idle": "2020-07-22T18:43:08.260053Z",
     "shell.execute_reply": "2020-07-22T18:43:08.260875Z"
    }
   },
   "outputs": [
    {
     "name": "stdout",
     "output_type": "stream",
     "text": [
      "Train set: (117, 3025) (117,)\n",
      "Test set: (51, 3025) (51,)\n"
     ]
    }
   ],
   "source": [
    "from sklearn.model_selection import train_test_split\n",
    "X_train, X_test, y_train, y_test =  train_test_split(X,y,test_size = 0.3, random_state= 0)\n",
    "\n",
    "print ('Train set:', X_train.shape,  y_train.shape)\n",
    "print ('Test set:', X_test.shape,  y_test.shape)"
   ]
  },
  {
   "cell_type": "markdown",
   "metadata": {},
   "source": [
    "### Choosing the best SVM model"
   ]
  },
  {
   "cell_type": "code",
   "execution_count": 21,
   "metadata": {
    "execution": {
     "iopub.execute_input": "2020-07-22T18:43:08.266046Z",
     "iopub.status.busy": "2020-07-22T18:43:08.265212Z",
     "iopub.status.idle": "2020-07-22T18:43:10.432171Z",
     "shell.execute_reply": "2020-07-22T18:43:10.431266Z"
    }
   },
   "outputs": [
    {
     "name": "stdout",
     "output_type": "stream",
     "text": [
      "Fitting 5 folds for each of 6 candidates, totalling 30 fits\n"
     ]
    },
    {
     "name": "stderr",
     "output_type": "stream",
     "text": [
      "[Parallel(n_jobs=-1)]: Using backend LokyBackend with 2 concurrent workers.\n"
     ]
    },
    {
     "name": "stderr",
     "output_type": "stream",
     "text": [
      "[Parallel(n_jobs=-1)]: Done  30 out of  30 | elapsed:    2.0s finished\n"
     ]
    },
    {
     "data": {
      "text/plain": [
       "GridSearchCV(estimator=SVC(), n_jobs=-1,\n",
       "             param_grid=[{'C': [1, 10, 100], 'gamma': ['auto', 'scale'],\n",
       "                          'kernel': ['rbf']}],\n",
       "             verbose=1)"
      ]
     },
     "execution_count": 21,
     "metadata": {},
     "output_type": "execute_result"
    }
   ],
   "source": [
    "from sklearn.model_selection import GridSearchCV\n",
    "from sklearn.svm import SVC\n",
    "parameters = [{'C': [1, 10, 100], 'kernel': ['rbf'], 'gamma': ['auto','scale']}]\n",
    "search = GridSearchCV(SVC(), parameters, n_jobs=-1, verbose=1)\n",
    "search.fit(X_train, y_train)"
   ]
  },
  {
   "cell_type": "code",
   "execution_count": 22,
   "metadata": {
    "execution": {
     "iopub.execute_input": "2020-07-22T18:43:10.436524Z",
     "iopub.status.busy": "2020-07-22T18:43:10.435941Z",
     "iopub.status.idle": "2020-07-22T18:43:10.440094Z",
     "shell.execute_reply": "2020-07-22T18:43:10.440510Z"
    }
   },
   "outputs": [
    {
     "name": "stdout",
     "output_type": "stream",
     "text": [
      "SVC(C=1, gamma='auto')\n"
     ]
    }
   ],
   "source": [
    "best_parameters = search.best_estimator_\n",
    "print(best_parameters)"
   ]
  },
  {
   "cell_type": "markdown",
   "metadata": {},
   "source": [
    "### Training with the best model"
   ]
  },
  {
   "cell_type": "markdown",
   "metadata": {},
   "source": [
    "#### Note : This learning is without applying reduction of dimensionality with PCA . This make the SVM not optimized at all. \n",
    "Later we shall see how this svm is affected after `PCA` transformation to the data ."
   ]
  },
  {
   "cell_type": "code",
   "execution_count": 23,
   "metadata": {
    "execution": {
     "iopub.execute_input": "2020-07-22T18:43:10.459014Z",
     "iopub.status.busy": "2020-07-22T18:43:10.453784Z",
     "iopub.status.idle": "2020-07-22T18:43:10.555192Z",
     "shell.execute_reply": "2020-07-22T18:43:10.555698Z"
    }
   },
   "outputs": [
    {
     "data": {
      "text/plain": [
       "0.6862745098039216"
      ]
     },
     "execution_count": 23,
     "metadata": {},
     "output_type": "execute_result"
    }
   ],
   "source": [
    "from sklearn import svm\n",
    "\n",
    "clf = svm.SVC(C=10, break_ties=False, cache_size=200, class_weight=None, coef0=0.0,\n",
    "    decision_function_shape='ovr', degree=3, gamma='scale', kernel='rbf',\n",
    "    max_iter=-1, probability=False, random_state=None, shrinking=True,\n",
    "    tol=0.001, verbose=False).fit(X_train, y_train)\n",
    "clf.score(X_test, y_test)"
   ]
  },
  {
   "cell_type": "markdown",
   "metadata": {},
   "source": [
    "### Saving the model"
   ]
  },
  {
   "cell_type": "code",
   "execution_count": 24,
   "metadata": {
    "execution": {
     "iopub.execute_input": "2020-07-22T18:43:10.561725Z",
     "iopub.status.busy": "2020-07-22T18:43:10.558925Z",
     "iopub.status.idle": "2020-07-22T18:43:10.570145Z",
     "shell.execute_reply": "2020-07-22T18:43:10.569644Z"
    }
   },
   "outputs": [
    {
     "data": {
      "text/plain": [
       "['../model_SVC_C_10_gamma_scale_kernel_rbf_10000x3072_matrix.joblib']"
      ]
     },
     "execution_count": 24,
     "metadata": {},
     "output_type": "execute_result"
    }
   ],
   "source": [
    "from joblib import dump, load\n",
    "dump(clf, '../model_SVC_C_10_gamma_scale_kernel_rbf_10000x3072_matrix.joblib') "
   ]
  },
  {
   "cell_type": "markdown",
   "metadata": {},
   "source": [
    "### Loading the model"
   ]
  },
  {
   "cell_type": "code",
   "execution_count": 25,
   "metadata": {
    "execution": {
     "iopub.execute_input": "2020-07-22T18:43:10.574754Z",
     "iopub.status.busy": "2020-07-22T18:43:10.573895Z",
     "iopub.status.idle": "2020-07-22T18:43:10.579120Z",
     "shell.execute_reply": "2020-07-22T18:43:10.579623Z"
    }
   },
   "outputs": [],
   "source": [
    "from joblib import dump, load\n",
    "clf = load('../model_SVC_C_10_gamma_scale_kernel_rbf_10000x3072_matrix.joblib') "
   ]
  },
  {
   "cell_type": "markdown",
   "metadata": {},
   "source": [
    "### Making predictions"
   ]
  },
  {
   "cell_type": "code",
   "execution_count": 26,
   "metadata": {
    "execution": {
     "iopub.execute_input": "2020-07-22T18:43:10.594560Z",
     "iopub.status.busy": "2020-07-22T18:43:10.594046Z",
     "iopub.status.idle": "2020-07-22T18:43:10.637651Z",
     "shell.execute_reply": "2020-07-22T18:43:10.636781Z"
    }
   },
   "outputs": [
    {
     "name": "stdout",
     "output_type": "stream",
     "text": [
      "The mean squared error is = 0.3137254901960784\n",
      "Test set Accuracy:  0.6862745098039216\n",
      "The Jaccard index is = 0.5897435897435898\n",
      "The log-loss is = 10.835914052599877\n",
      "The f1-score is = 0.7419354838709677\n",
      "Precision: 0.6216216216216216\n",
      "Recall: 0.92\n"
     ]
    }
   ],
   "source": [
    "from sklearn import metrics\n",
    "from sklearn.metrics import log_loss\n",
    "from sklearn.metrics import jaccard_score\n",
    "\n",
    "y_pred = clf.predict(X_test)\n",
    "\n",
    "# print('Train set Accuracy: ', metrics.accuracy_score(y_train, clf.predict(X_train)))\n",
    "print('The mean squared error is =',metrics.mean_squared_error(y_test,y_pred))\n",
    "print('Test set Accuracy: ', metrics.accuracy_score(y_test, y_pred))\n",
    "print('The Jaccard index is =', jaccard_score(y_test, y_pred))\n",
    "# Jaccard similarity coefficient, defined as the size of the intersection divided by the size of the union of two label sets. The closer to 1 the better the classifier \n",
    "print('The log-loss is =',log_loss(y_test,y_pred))\n",
    "# how far each prediction is from the actual label, it is like a distance measure from the predicted to the actual , the classifer with lower log loss have better accuracy\n",
    "print('The f1-score is =',metrics.f1_score(y_test,y_pred))\n",
    "# The F1 score can be interpreted as a weighted average of the precision and recall, where an F1 score reaches its best value at 1 and worst score at 0. The relative contribution of precision and recall to the F1 score are equal.\n",
    "\n",
    "# Model Precision: what percentage of positive tuples are labeled as such?\n",
    "print(\"Precision:\",metrics.precision_score(y_test, y_pred))\n",
    "\n",
    "# Model Recall: what percentage of positive tuples are labelled as such?\n",
    "print(\"Recall:\",metrics.recall_score(y_test, y_pred))"
   ]
  },
  {
   "cell_type": "code",
   "execution_count": 27,
   "metadata": {
    "execution": {
     "iopub.execute_input": "2020-07-22T18:43:10.645774Z",
     "iopub.status.busy": "2020-07-22T18:43:10.643919Z",
     "iopub.status.idle": "2020-07-22T18:43:10.651367Z",
     "shell.execute_reply": "2020-07-22T18:43:10.650521Z"
    }
   },
   "outputs": [
    {
     "name": "stdout",
     "output_type": "stream",
     "text": [
      "              precision    recall  f1-score   support\n",
      "\n",
      "       NonSl       0.86      0.46      0.60        26\n",
      "          SL       0.62      0.92      0.74        25\n",
      "\n",
      "    accuracy                           0.69        51\n",
      "   macro avg       0.74      0.69      0.67        51\n",
      "weighted avg       0.74      0.69      0.67        51\n",
      "\n"
     ]
    }
   ],
   "source": [
    "from sklearn.metrics import classification_report\n",
    "print(classification_report(y_test, y_pred, target_names=['NonSl','SL']))"
   ]
  },
  {
   "cell_type": "code",
   "execution_count": 28,
   "metadata": {
    "execution": {
     "iopub.execute_input": "2020-07-22T18:43:10.674352Z",
     "iopub.status.busy": "2020-07-22T18:43:10.666154Z",
     "iopub.status.idle": "2020-07-22T18:43:10.878276Z",
     "shell.execute_reply": "2020-07-22T18:43:10.877812Z"
    }
   },
   "outputs": [
    {
     "data": {
      "text/plain": [
       "<matplotlib.legend.Legend at 0x7f1a66a4cb10>"
      ]
     },
     "execution_count": 28,
     "metadata": {},
     "output_type": "execute_result"
    },
    {
     "data": {
      "image/png": "[encoded data removed]",
      "text/plain": [
       "<Figure size 432x288 with 1 Axes>"
      ]
     },
     "metadata": {
      "filenames": {
       "image/png": "/home/runner/work/jupyter-book/jupyter-book/mini_book/docs/_build/jupyter_execute/prot_domains2lethality-PAPER-REPLICATION_46_1.png"
      },
      "needs_background": "light"
     },
     "output_type": "display_data"
    }
   ],
   "source": [
    "import sklearn.metrics as metrics\n",
    "scores=clf.decision_function(X_test)\n",
    "\n",
    "fpr, tpr, thresholds = metrics.roc_curve(y_test, scores)\n",
    "area=metrics.auc(fpr,tpr)\n",
    "plt.plot(fpr,tpr,color='darkorange',label='SVM model (area = %0.2f)' % area)\n",
    "plt.plot([0, 1], [0, 1], color='navy', lw=2, linestyle='--',label='Random prediction')\n",
    "plt.xlim([0.0, 1.0])\n",
    "plt.ylim([0.0, 1.05])\n",
    "plt.xlabel('False Positive Rate')\n",
    "plt.ylabel('True Positive Rate')\n",
    "plt.title('Receiver operating characteristic example')\n",
    "plt.legend(loc=\"lower right\")\n",
    "#plt.savefig('ROC-curve-SVC-on-classifing-lethality-using-PI-SL.png',format='png',dpi=300,transparent=False)"
   ]
  },
  {
   "cell_type": "code",
   "execution_count": 29,
   "metadata": {
    "execution": {
     "iopub.execute_input": "2020-07-22T18:43:10.996267Z",
     "iopub.status.busy": "2020-07-22T18:43:10.990816Z",
     "iopub.status.idle": "2020-07-22T18:43:11.168959Z",
     "shell.execute_reply": "2020-07-22T18:43:11.167712Z"
    }
   },
   "outputs": [
    {
     "data": {
      "text/plain": [
       "<matplotlib.legend.Legend at 0x7f1a64367690>"
      ]
     },
     "execution_count": 29,
     "metadata": {},
     "output_type": "execute_result"
    },
    {
     "data": {
      "image/png": "[encoded data removed]",
      "text/plain": [
       "<Figure size 432x288 with 1 Axes>"
      ]
     },
     "metadata": {
      "filenames": {
       "image/png": "/home/runner/work/jupyter-book/jupyter-book/mini_book/docs/_build/jupyter_execute/prot_domains2lethality-PAPER-REPLICATION_47_1.png"
      },
      "needs_background": "light"
     },
     "output_type": "display_data"
    }
   ],
   "source": [
    "precision, recall, thresholds = metrics.precision_recall_curve(y_test, scores)\n",
    "average_precision = metrics.average_precision_score(y_test, scores)\n",
    "plt.plot(precision,recall,color='blue',label='SVM-model')\n",
    "\n",
    "plt.plot([0.5, 1], [1, 0], color='navy', lw=2, linestyle='--',label='Random prediction')\n",
    "\n",
    "plt.xlabel('Recall')\n",
    "plt.ylabel('Precision')\n",
    "plt.title('2-class Precision-Recall curve: '\n",
    "                   'AP={0:0.2f}'.format(average_precision))\n",
    "plt.legend()\n",
    "\n",
    "#plt.savefig('Precision-Recall-curve.png',format='png',dpi=300,transparent=False)"
   ]
  },
  {
   "cell_type": "code",
   "execution_count": 30,
   "metadata": {
    "execution": {
     "iopub.execute_input": "2020-07-22T18:43:11.221031Z",
     "iopub.status.busy": "2020-07-22T18:43:11.194456Z",
     "iopub.status.idle": "2020-07-22T18:43:11.444776Z",
     "shell.execute_reply": "2020-07-22T18:43:11.444271Z"
    }
   },
   "outputs": [
    {
     "data": {
      "text/plain": [
       "Text(0.5, 257.44, 'Predicted label')"
      ]
     },
     "execution_count": 30,
     "metadata": {},
     "output_type": "execute_result"
    },
    {
     "data": {
      "image/png": "[encoded data removed]",
      "text/plain": [
       "<Figure size 432x288 with 2 Axes>"
      ]
     },
     "metadata": {
      "filenames": {
       "image/png": "/home/runner/work/jupyter-book/jupyter-book/mini_book/docs/_build/jupyter_execute/prot_domains2lethality-PAPER-REPLICATION_48_1.png"
      },
      "needs_background": "light"
     },
     "output_type": "display_data"
    }
   ],
   "source": [
    "class_names=[1,2,3]\n",
    "fig, ax = plt.subplots()\n",
    "from sklearn.metrics import confusion_matrix\n",
    "import sklearn.metrics as metrics\n",
    "\n",
    "cm = confusion_matrix(y_test, y_pred,normalize=\"true\")\n",
    "\n",
    "class_names=['SL', 'nSL']\n",
    "\n",
    "tick_marks = np.arange(len(class_names))\n",
    "plt.xticks(tick_marks, class_names)\n",
    "plt.yticks(tick_marks, class_names)\n",
    "\n",
    "sns.heatmap(pd.DataFrame(cm), annot=True, cmap=\"Blues\" ,fmt='g')\n",
    "ax.xaxis.set_label_position(\"top\")\n",
    "plt.tight_layout()\n",
    "plt.title('Confusion matrix', y=1.1)\n",
    "plt.ylabel('Actual label')\n",
    "plt.xlabel('Predicted label')\n",
    "\n",
    "#plt.savefig('confusion-matrix-normalized.png',format='png',dpi=300,transparent=False)"
   ]
  },
  {
   "cell_type": "markdown",
   "metadata": {},
   "source": [
    "### Step of crossvalidation to evaluate the peformance of the classifier in terms of overfitting \n",
    "\n",
    "(**Caution!**) Highly time consuming ~2h for 10000 X 3072 matrix"
   ]
  },
  {
   "cell_type": "code",
   "execution_count": 31,
   "metadata": {
    "execution": {
     "iopub.execute_input": "2020-07-22T18:43:11.450498Z",
     "iopub.status.busy": "2020-07-22T18:43:11.449937Z",
     "iopub.status.idle": "2020-07-22T18:43:11.454939Z",
     "shell.execute_reply": "2020-07-22T18:43:11.454066Z"
    }
   },
   "outputs": [
    {
     "name": "stdout",
     "output_type": "stream",
     "text": [
      "The elapsed time was 9.646300000021313e-05\n"
     ]
    }
   ],
   "source": [
    "from sklearn.model_selection import ShuffleSplit\n",
    "from sklearn.model_selection import KFold,StratifiedKFold\n",
    "from sklearn.model_selection import cross_val_score\n",
    "import time\n",
    "\n",
    "n_samples = X.shape[0]\n",
    "t = time.process_time()\n",
    "cv=StratifiedKFold(n_splits=5)\n",
    "elapsed_time = time.process_time() - t\n",
    "print('The elapsed time was',elapsed_time)"
   ]
  },
  {
   "cell_type": "code",
   "execution_count": 32,
   "metadata": {
    "execution": {
     "iopub.execute_input": "2020-07-22T18:43:11.480892Z",
     "iopub.status.busy": "2020-07-22T18:43:11.471676Z",
     "iopub.status.idle": "2020-07-22T18:43:12.060430Z",
     "shell.execute_reply": "2020-07-22T18:43:12.059923Z"
    }
   },
   "outputs": [
    {
     "name": "stdout",
     "output_type": "stream",
     "text": [
      "The elapsed time was 0.5988903560000001\n"
     ]
    }
   ],
   "source": [
    "import sklearn.metrics as metrics\n",
    "from sklearn.model_selection import cross_val_predict\n",
    "from sklearn.model_selection import cross_validate\n",
    "\n",
    "t = time.process_time()\n",
    "\n",
    "cv_results = cross_validate(clf, X, y, cv=cv)\n",
    "elapsed_time = time.process_time() - t\n",
    "print('The elapsed time was',elapsed_time)"
   ]
  },
  {
   "cell_type": "code",
   "execution_count": 33,
   "metadata": {
    "execution": {
     "iopub.execute_input": "2020-07-22T18:43:12.065285Z",
     "iopub.status.busy": "2020-07-22T18:43:12.063400Z",
     "iopub.status.idle": "2020-07-22T18:43:12.067945Z",
     "shell.execute_reply": "2020-07-22T18:43:12.067489Z"
    }
   },
   "outputs": [
    {
     "data": {
      "text/plain": [
       "['../cross_val_object_5_fold_clf_model.joblib']"
      ]
     },
     "execution_count": 33,
     "metadata": {},
     "output_type": "execute_result"
    }
   ],
   "source": [
    "#saving the results \n",
    "dump(cv_results, '../cross_val_object_5_fold_clf_model.joblib') "
   ]
  },
  {
   "cell_type": "code",
   "execution_count": 34,
   "metadata": {
    "execution": {
     "iopub.execute_input": "2020-07-22T18:43:12.073577Z",
     "iopub.status.busy": "2020-07-22T18:43:12.072957Z",
     "iopub.status.idle": "2020-07-22T18:43:12.076240Z",
     "shell.execute_reply": "2020-07-22T18:43:12.075661Z"
    }
   },
   "outputs": [],
   "source": [
    "from joblib import dump, load\n",
    "#loading the crossvalidation \n",
    "cv=load('../cross_val_object_5_fold_clf_model.joblib') "
   ]
  },
  {
   "cell_type": "markdown",
   "metadata": {},
   "source": [
    "### Viz of the variation of the test error per fold . If the variation is high , the classifier may be proned to overfitting."
   ]
  },
  {
   "cell_type": "code",
   "execution_count": 35,
   "metadata": {
    "execution": {
     "iopub.execute_input": "2020-07-22T18:43:12.103606Z",
     "iopub.status.busy": "2020-07-22T18:43:12.101368Z",
     "iopub.status.idle": "2020-07-22T18:43:12.242626Z",
     "shell.execute_reply": "2020-07-22T18:43:12.242146Z"
    }
   },
   "outputs": [
    {
     "data": {
      "text/plain": [
       "Text(0, 0.5, 'Accuracy')"
      ]
     },
     "execution_count": 35,
     "metadata": {},
     "output_type": "execute_result"
    },
    {
     "data": {
      "image/png": "[encoded data removed]",
      "text/plain": [
       "<Figure size 216x216 with 1 Axes>"
      ]
     },
     "metadata": {
      "filenames": {
       "image/png": "/home/runner/work/jupyter-book/jupyter-book/mini_book/docs/_build/jupyter_execute/prot_domains2lethality-PAPER-REPLICATION_55_1.png"
      },
      "needs_background": "light"
     },
     "output_type": "display_data"
    }
   ],
   "source": [
    "fig, axs = plt.subplots(ncols=1, figsize=(3,3))\n",
    "sorted(cv_results.keys())\n",
    "\n",
    "plt.scatter(['test-1','test-2','test-3','test-4','test-5'],cv_results['test_score'],s=60,alpha=0.7,color='blue')\n",
    "plt.title('5-fold crossvalidation result')\n",
    "plt.ylim(0.55,0.9)\n",
    "plt.ylabel('Accuracy')\n",
    "#plt.savefig('5-fold-crrosvalidation-result.png', format='png',dpi=300,transparent='true',bbox_inches='tight')"
   ]
  },
  {
   "cell_type": "markdown",
   "metadata": {},
   "source": [
    " ## Using PCA to reduce the dimensionality of the problem"
   ]
  },
  {
   "cell_type": "code",
   "execution_count": 36,
   "metadata": {
    "execution": {
     "iopub.execute_input": "2020-07-22T18:43:12.248035Z",
     "iopub.status.busy": "2020-07-22T18:43:12.247398Z",
     "iopub.status.idle": "2020-07-22T18:43:12.381473Z",
     "shell.execute_reply": "2020-07-22T18:43:12.382237Z"
    }
   },
   "outputs": [],
   "source": [
    "from sklearn.preprocessing import StandardScaler\n",
    "from sklearn.decomposition import PCA\n",
    "scaler = StandardScaler()\n",
    "\n",
    "\n",
    "model_scaler = scaler.fit(X_train)\n",
    "# Apply transform to both the training set and the test set.\n",
    "x_train_S = model_scaler.transform(X_train)\n",
    "\n",
    "x_test_S = model_scaler.transform(X_test)\n",
    "\n",
    "# Fit PCA on training set. Note: you are fitting PCA on the training set only.\n",
    "model = PCA(0.95).fit(x_train_S)\n",
    "\n",
    "x_train_output_pca = model.transform(x_train_S)\n",
    "x_test_output_pca = model.transform(x_test_S)"
   ]
  },
  {
   "cell_type": "code",
   "execution_count": 37,
   "metadata": {
    "execution": {
     "iopub.execute_input": "2020-07-22T18:43:12.387248Z",
     "iopub.status.busy": "2020-07-22T18:43:12.386660Z",
     "iopub.status.idle": "2020-07-22T18:43:12.391491Z",
     "shell.execute_reply": "2020-07-22T18:43:12.392245Z"
    }
   },
   "outputs": [
    {
     "data": {
      "text/plain": [
       "((117, 3025), (51, 3025), (93, 3025), (117, 93))"
      ]
     },
     "execution_count": 37,
     "metadata": {},
     "output_type": "execute_result"
    }
   ],
   "source": [
    "# np.shape(x_train_output_pca)\n",
    "# np.shape(X_train.T)\n",
    "np.shape(x_train_S),np.shape(x_test_S),model.components_.shape,np.shape(x_train_output_pca)"
   ]
  },
  {
   "cell_type": "code",
   "execution_count": 38,
   "metadata": {
    "execution": {
     "iopub.execute_input": "2020-07-22T18:43:12.397857Z",
     "iopub.status.busy": "2020-07-22T18:43:12.396812Z",
     "iopub.status.idle": "2020-07-22T18:43:12.524385Z",
     "shell.execute_reply": "2020-07-22T18:43:12.523891Z"
    }
   },
   "outputs": [
    {
     "name": "stdout",
     "output_type": "stream",
     "text": [
      "Fitting 5 folds for each of 6 candidates, totalling 30 fits\n"
     ]
    },
    {
     "name": "stderr",
     "output_type": "stream",
     "text": [
      "[Parallel(n_jobs=-1)]: Using backend LokyBackend with 2 concurrent workers.\n",
      "[Parallel(n_jobs=-1)]: Done  30 out of  30 | elapsed:    0.1s finished\n"
     ]
    },
    {
     "data": {
      "text/plain": [
       "GridSearchCV(estimator=SVC(), n_jobs=-1,\n",
       "             param_grid=[{'C': [1, 10, 100], 'gamma': ['auto', 'scale'],\n",
       "                          'kernel': ['rbf']}],\n",
       "             verbose=1)"
      ]
     },
     "execution_count": 38,
     "metadata": {},
     "output_type": "execute_result"
    }
   ],
   "source": [
    "from sklearn.model_selection import GridSearchCV\n",
    "from sklearn.svm import SVC\n",
    "parameters = [{'C': [1, 10, 100], 'kernel': ['rbf'], 'gamma': ['auto','scale']}]\n",
    "search = GridSearchCV(SVC(), parameters, n_jobs=-1, verbose=1)\n",
    "search.fit(x_train_output_pca, y_train)"
   ]
  },
  {
   "cell_type": "code",
   "execution_count": 39,
   "metadata": {
    "execution": {
     "iopub.execute_input": "2020-07-22T18:43:12.528988Z",
     "iopub.status.busy": "2020-07-22T18:43:12.528439Z",
     "iopub.status.idle": "2020-07-22T18:43:12.532970Z",
     "shell.execute_reply": "2020-07-22T18:43:12.532492Z"
    }
   },
   "outputs": [
    {
     "name": "stdout",
     "output_type": "stream",
     "text": [
      "SVC(C=1)\n"
     ]
    }
   ],
   "source": [
    "best_parameters = search.best_estimator_\n",
    "print(best_parameters)"
   ]
  },
  {
   "cell_type": "code",
   "execution_count": 40,
   "metadata": {
    "execution": {
     "iopub.execute_input": "2020-07-22T18:43:12.538618Z",
     "iopub.status.busy": "2020-07-22T18:43:12.538055Z",
     "iopub.status.idle": "2020-07-22T18:43:12.547608Z",
     "shell.execute_reply": "2020-07-22T18:43:12.547073Z"
    }
   },
   "outputs": [
    {
     "data": {
      "text/plain": [
       "0.49019607843137253"
      ]
     },
     "execution_count": 40,
     "metadata": {},
     "output_type": "execute_result"
    }
   ],
   "source": [
    "from sklearn import svm\n",
    "\n",
    "clf_after_pca = svm.SVC(C=10, break_ties=False, cache_size=200, class_weight=None, coef0=0.0,\n",
    "    decision_function_shape='ovr', degree=3, gamma='scale', kernel='rbf',\n",
    "    max_iter=-1, probability=False, random_state=None, shrinking=True,\n",
    "    tol=0.001, verbose=False).fit(x_train_output_pca, y_train)\n",
    "clf_after_pca.score(x_test_output_pca, y_test)"
   ]
  },
  {
   "cell_type": "code",
   "execution_count": 41,
   "metadata": {
    "execution": {
     "iopub.execute_input": "2020-07-22T18:43:12.552412Z",
     "iopub.status.busy": "2020-07-22T18:43:12.550472Z",
     "iopub.status.idle": "2020-07-22T18:43:12.557729Z",
     "shell.execute_reply": "2020-07-22T18:43:12.556993Z"
    }
   },
   "outputs": [
    {
     "data": {
      "text/plain": [
       "['../model_SVC_C_10_gamma_scale_kernel_rbf_10000x1622_after_PCA_matrix.joblib']"
      ]
     },
     "execution_count": 41,
     "metadata": {},
     "output_type": "execute_result"
    }
   ],
   "source": [
    "from joblib import dump, load\n",
    "\n",
    "dump(clf_after_pca, '../model_SVC_C_10_gamma_scale_kernel_rbf_10000x1622_after_PCA_matrix.joblib') "
   ]
  },
  {
   "cell_type": "code",
   "execution_count": 42,
   "metadata": {
    "execution": {
     "iopub.execute_input": "2020-07-22T18:43:12.563264Z",
     "iopub.status.busy": "2020-07-22T18:43:12.562666Z",
     "iopub.status.idle": "2020-07-22T18:43:12.577095Z",
     "shell.execute_reply": "2020-07-22T18:43:12.576371Z"
    }
   },
   "outputs": [
    {
     "name": "stdout",
     "output_type": "stream",
     "text": [
      "The mean squared error is = 0.5098039215686274\n",
      "Test set Accuracy:  0.49019607843137253\n",
      "The Jaccard index is = 0.48\n",
      "The log-loss is = 17.608395611832016\n",
      "The f1-score is = 0.6486486486486486\n",
      "Precision: 0.4897959183673469\n",
      "Recall: 0.96\n"
     ]
    }
   ],
   "source": [
    "from sklearn import metrics\n",
    "from sklearn.metrics import log_loss\n",
    "from sklearn.metrics import jaccard_score\n",
    "\n",
    "y_pred_after_pca = clf_after_pca.predict(x_test_output_pca)\n",
    "\n",
    "# print('Train set Accuracy: ', metrics.accuracy_score(y_train, clf.predict(X_train)))\n",
    "print('The mean squared error is =',metrics.mean_squared_error(y_test,y_pred_after_pca))\n",
    "print('Test set Accuracy: ', metrics.accuracy_score(y_test, y_pred_after_pca))\n",
    "print('The Jaccard index is =', jaccard_score(y_test, y_pred_after_pca))\n",
    "# Jaccard similarity coefficient, defined as the size of the intersection divided by the size of the union of two label sets. The closer to 1 the better the classifier \n",
    "print('The log-loss is =',log_loss(y_test,y_pred_after_pca))\n",
    "# how far each prediction is from the actual label, it is like a distance measure from the predicted to the actual , the classifer with lower log loss have better accuracy\n",
    "print('The f1-score is =',metrics.f1_score(y_test,y_pred_after_pca))\n",
    "# The F1 score can be interpreted as a weighted average of the precision and recall, where an F1 score reaches its best value at 1 and worst score at 0. The relative contribution of precision and recall to the F1 score are equal.\n",
    "\n",
    "# Model Precision: what percentage of positive tuples are labeled as such?\n",
    "print(\"Precision:\",metrics.precision_score(y_test, y_pred_after_pca))\n",
    "\n",
    "# Model Recall: what percentage of positive tuples are labelled as such?\n",
    "print(\"Recall:\",metrics.recall_score(y_test, y_pred_after_pca))"
   ]
  },
  {
   "cell_type": "code",
   "execution_count": 43,
   "metadata": {
    "execution": {
     "iopub.execute_input": "2020-07-22T18:43:12.601349Z",
     "iopub.status.busy": "2020-07-22T18:43:12.594879Z",
     "iopub.status.idle": "2020-07-22T18:43:12.809559Z",
     "shell.execute_reply": "2020-07-22T18:43:12.809030Z"
    }
   },
   "outputs": [
    {
     "data": {
      "text/plain": [
       "Text(0.5, 257.44, 'Predicted label')"
      ]
     },
     "execution_count": 43,
     "metadata": {},
     "output_type": "execute_result"
    },
    {
     "data": {
      "image/png": "[encoded data removed]",
      "text/plain": [
       "<Figure size 432x288 with 2 Axes>"
      ]
     },
     "metadata": {
      "filenames": {
       "image/png": "/home/runner/work/jupyter-book/jupyter-book/mini_book/docs/_build/jupyter_execute/prot_domains2lethality-PAPER-REPLICATION_64_1.png"
      },
      "needs_background": "light"
     },
     "output_type": "display_data"
    }
   ],
   "source": [
    "class_names=[1,2,3]\n",
    "fig, ax = plt.subplots()\n",
    "from sklearn.metrics import confusion_matrix\n",
    "import sklearn.metrics as metrics\n",
    "\n",
    "cm = confusion_matrix(y_test, y_pred_after_pca,normalize=\"true\")\n",
    "\n",
    "class_names=['SL', 'nSL']\n",
    "\n",
    "tick_marks = np.arange(len(class_names))\n",
    "plt.xticks(tick_marks, class_names)\n",
    "plt.yticks(tick_marks, class_names)\n",
    "\n",
    "sns.heatmap(pd.DataFrame(cm), annot=True, cmap=\"Blues\" ,fmt='g')\n",
    "ax.xaxis.set_label_position(\"top\")\n",
    "plt.tight_layout()\n",
    "plt.title('Confusion matrix', y=1.1)\n",
    "plt.ylabel('Actual label')\n",
    "plt.xlabel('Predicted label')"
   ]
  },
  {
   "cell_type": "code",
   "execution_count": 44,
   "metadata": {
    "execution": {
     "iopub.execute_input": "2020-07-22T18:43:12.815913Z",
     "iopub.status.busy": "2020-07-22T18:43:12.815078Z",
     "iopub.status.idle": "2020-07-22T18:43:12.824013Z",
     "shell.execute_reply": "2020-07-22T18:43:12.822923Z"
    }
   },
   "outputs": [
    {
     "name": "stdout",
     "output_type": "stream",
     "text": [
      "              precision    recall  f1-score   support\n",
      "\n",
      "       NonSl       0.50      0.04      0.07        26\n",
      "          SL       0.49      0.96      0.65        25\n",
      "\n",
      "    accuracy                           0.49        51\n",
      "   macro avg       0.49      0.50      0.36        51\n",
      "weighted avg       0.49      0.49      0.35        51\n",
      "\n"
     ]
    }
   ],
   "source": [
    "from sklearn.metrics import classification_report\n",
    "print(classification_report(y_test, y_pred_after_pca, target_names=['NonSl','SL']))"
   ]
  }
 ],
 "metadata": {
  "jupytext": {
   "text_representation": {
    "extension": ".md",
    "format_name": "myst"
   }
  },
  "kernelspec": {
   "display_name": "Python 3",
   "language": "python",
   "name": "python3"
  },
  "language_info": {
   "codemirror_mode": {
    "name": "ipython",
    "version": 3
   },
   "file_extension": ".py",
   "mimetype": "text/x-python",
   "name": "python",
   "nbconvert_exporter": "python",
   "pygments_lexer": "ipython3",
   "version": "3.7.6"
  },
  "source_map": [
   10,
   18,
   27,
   34,
   56,
   65,
   97,
   100,
   104,
   127,
   130,
   134,
   138,
   144,
   177,
   183,
   187,
   205,
   209,
   217,
   221,
   224,
   228,
   233,
   237,
   243,
   247,
   256,
   262,
   276,
   281,
   285,
   289,
   295,
   299,
   307,
   310,
   314,
   319,
   327,
   331,
   334,
   338,
   341,
   345,
   369,
   374,
   391,
   407,
   429,
   435,
   448,
   460,
   465,
   469,
   473,
   486,
   490,
   509,
   515,
   523,
   528,
   538,
   544,
   568,
   590
  ]
 },
 "nbformat": 4,
 "nbformat_minor": 4
}