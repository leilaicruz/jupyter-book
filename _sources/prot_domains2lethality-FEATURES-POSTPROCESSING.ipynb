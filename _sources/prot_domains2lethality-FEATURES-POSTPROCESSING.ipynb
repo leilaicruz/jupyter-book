{
 "cells": [
  {
   "cell_type": "markdown",
   "metadata": {},
   "source": [
    "# Feature postprocessing from paper.\n",
    "- Title:  \"Predicting yeast synthetic lethal genetic interactions using protein domains\"\n",
    "- Authors: Bo Li, Feng Luo,School of Computing,Clemson University,Clemson, SC, USA\n",
    "- e-mail: bol, luofeng@clemson.edu\n",
    "- year:2009"
   ]
  },
  {
   "cell_type": "code",
   "execution_count": 1,
   "metadata": {
    "execution": {
     "iopub.execute_input": "2020-07-14T03:03:10.614765Z",
     "iopub.status.busy": "2020-07-14T03:03:10.614094Z",
     "iopub.status.idle": "2020-07-14T03:03:11.355512Z",
     "shell.execute_reply": "2020-07-14T03:03:11.354376Z"
    }
   },
   "outputs": [],
   "source": [
    "import pandas as pd\n",
    "import numpy as np\n",
    "import matplotlib.pyplot as plt\n",
    "from collections import defaultdict \n",
    "import seaborn as sns\n",
    "import matplotlib.cm as cm\n",
    "import scipy as scipy\n",
    "import random"
   ]
  },
  {
   "cell_type": "markdown",
   "metadata": {
    "jupyter": {
     "source_hidden": true
    }
   },
   "source": [
    "### Importing datasets \n",
    "\n",
    "#### Link to the github repo where the datasets to be downloaded:\n",
    "[DOWNLOAD THE DATASETS HERE](https://github.com/leilaicruz/machine-learning-for-yeast/tree/dev_Leila/datasets-for-learning)"
   ]
  },
  {
   "cell_type": "code",
   "execution_count": 2,
   "metadata": {
    "execution": {
     "iopub.execute_input": "2020-07-14T03:03:11.362651Z",
     "iopub.status.busy": "2020-07-14T03:03:11.361836Z",
     "iopub.status.idle": "2020-07-14T03:03:19.230577Z",
     "shell.execute_reply": "2020-07-14T03:03:19.230020Z"
    }
   },
   "outputs": [],
   "source": [
    "import os\n",
    "script_dir = os.path.dirname('__file__') #<-- absolute dir the script is in\n",
    "rel_path_SL = \"datasets/data-synthetic-lethals.xlsx\"\n",
    "rel_path_nSL=\"datasets/data-positive-genetic.xlsx\"\n",
    "rel_path_domains=\"datasets/proteins-domains-from-Pfam.xlsx\"\n",
    "\n",
    "abs_file_path_SL = os.path.join(script_dir, rel_path_SL)\n",
    "abs_file_path_nSL = os.path.join(script_dir, rel_path_nSL)\n",
    "abs_file_path_domains = os.path.join(script_dir, rel_path_domains)\n",
    "\n",
    "# os.chdir('mini_book/docs/') #<-- for binder os.chdir('../')\n",
    "# os.chdir('../')\n",
    "my_path_sl= abs_file_path_SL\n",
    "my_path_non_sl=abs_file_path_nSL\n",
    "my_path_domains=abs_file_path_domains\n",
    "\n",
    "data_sl=pd.read_excel(my_path_sl,header=0)\n",
    "data_domains=pd.read_excel(my_path_domains,header=0,index_col='Unnamed: 0')\n",
    "data_domains=data_domains.dropna()\n",
    "data_nonsl=pd.read_excel(my_path_non_sl,header=0)"
   ]
  },
  {
   "cell_type": "markdown",
   "metadata": {},
   "source": [
    "## Building the feature matrix\n",
    "One matrix for true SL where each row is one pair of SL. Every raw will be a vector of 0,1 or 2 depending on the comparison with the domain list. For row i the jth element = 0 if the jth element of the domain list is not in neither protein A and B, 1, if it is in one of them and 2 if it is in both of them .\n",
    "\n",
    "### Building the list of proteins domains id per protein pair separately :\n",
    "- List of protein A: Search for the Sl/nSL database the query gene name and look in the protein domain database which protein domains id has each of those queries.\n",
    "- List of protein B: Search for the Sl/nSL database the target gene name of the previous query and look in the protein domain database which protein domains id has each of those target genes."
   ]
  },
  {
   "cell_type": "code",
   "execution_count": 3,
   "metadata": {
    "execution": {
     "iopub.execute_input": "2020-07-14T03:03:19.247175Z",
     "iopub.status.busy": "2020-07-14T03:03:19.246595Z",
     "iopub.status.idle": "2020-07-14T03:03:21.307767Z",
     "shell.execute_reply": "2020-07-14T03:03:21.306804Z"
    }
   },
   "outputs": [],
   "source": [
    "# Selecting the meaningful columns in the respective dataset\n",
    "domain_id_list=data_domains['domain-name']\n",
    "query_gene=data_sl['gene-query-name']\n",
    "target_gene=data_sl['gene-target-name']\n",
    "query_gene_nonlethal=data_nonsl['gene-query-name']\n",
    "target_gene_nonlethal=data_nonsl['gene-target-name']\n",
    "\n",
    "\n",
    "\n",
    "# Initialising the arrays\n",
    "protein_a_list=[]\n",
    "protein_b_list=[]\n",
    "protein_a_list_non=[]\n",
    "protein_b_list_non=[]\n",
    "\n",
    "population = np.arange(0,len(data_sl))\n",
    "\n",
    "# For loop for 10000 pairs sampled randomly from the SL/nSl pair list , and creating a big array of proteind domains id per protein pair\n",
    "\n",
    "for m in random.sample(list(population), 500):\n",
    "    protein_a=data_domains[data_domains['name']==query_gene[m]]\n",
    "    protein_b=data_domains[data_domains['name']==target_gene[m]]\n",
    "    protein_a_list.append(protein_a['domain-name'].tolist())\n",
    "    protein_b_list.append(protein_b['domain-name'].tolist())\n",
    "\n",
    "    protein_a_non=data_domains[data_domains['name']==query_gene_nonlethal[m]]\n",
    "    protein_b_non=data_domains[data_domains['name']==target_gene_nonlethal[m]]\n",
    "    protein_a_list_non.append(protein_a_non['domain-name'].tolist())\n",
    "    protein_b_list_non.append(protein_b_non['domain-name'].tolist())"
   ]
  },
  {
   "cell_type": "code",
   "execution_count": 4,
   "metadata": {
    "execution": {
     "iopub.execute_input": "2020-07-14T03:03:21.312769Z",
     "iopub.status.busy": "2020-07-14T03:03:21.312200Z",
     "iopub.status.idle": "2020-07-14T03:03:21.315564Z",
     "shell.execute_reply": "2020-07-14T03:03:21.315953Z"
    }
   },
   "outputs": [
    {
     "name": "stdout",
     "output_type": "stream",
     "text": [
      "We are going to analyze 500 protein pairs, out of 17871 SL protein pairs\n",
      "We are going to analyze 500 protein pairs, out of 43340 positive protein pairs\n"
     ]
    }
   ],
   "source": [
    "print('We are going to analyze',len((protein_a_list)) ,'protein pairs, out of',len(data_sl),'SL protein pairs')\n",
    "print('We are going to analyze',len((protein_a_list_non)) ,'protein pairs, out of',len(data_nonsl),'positive protein pairs')"
   ]
  },
  {
   "cell_type": "markdown",
   "metadata": {},
   "source": [
    "### Postprocessing #1:  Remove protein pairs from study if either protein in the pair does not contain any domain"
   ]
  },
  {
   "cell_type": "code",
   "execution_count": 5,
   "metadata": {
    "execution": {
     "iopub.execute_input": "2020-07-14T03:03:21.325397Z",
     "iopub.status.busy": "2020-07-14T03:03:21.324875Z",
     "iopub.status.idle": "2020-07-14T03:03:21.328229Z",
     "shell.execute_reply": "2020-07-14T03:03:21.327833Z"
    }
   },
   "outputs": [],
   "source": [
    "def remove_empty_domains(protein_list_search,protein_list_pair):\n",
    "    index=[]\n",
    "    for i in np.arange(0,len(protein_list_search)):\n",
    "        if protein_list_search[i]==[] or protein_list_pair[i]==[]:\n",
    "            index.append(i) ## index of empty values for the protein_a_list meaning they dont have any annotated domain\n",
    "\n",
    "    y=[x for x in np.arange(0,len(protein_list_search)) if x not in index] # a list with non empty values from protein_a list\n",
    "\n",
    "    protein_list_search_new=[]\n",
    "    protein_list_pair_new=[]\n",
    "    for i in y:\n",
    "        protein_list_search_new.append(protein_list_search[i])\n",
    "        protein_list_pair_new.append(protein_list_pair[i])\n",
    "    return protein_list_search_new,protein_list_pair_new\n",
    "\n",
    "## evaluating the function\n",
    "\n",
    "protein_a_list_new,protein_b_list_new=remove_empty_domains(protein_a_list,protein_b_list)\n",
    "\n",
    "protein_a_list_non_new,protein_b_list_non_new=remove_empty_domains(protein_a_list_non,protein_b_list_non)"
   ]
  },
  {
   "cell_type": "code",
   "execution_count": 6,
   "metadata": {
    "execution": {
     "iopub.execute_input": "2020-07-14T03:03:21.332777Z",
     "iopub.status.busy": "2020-07-14T03:03:21.332300Z",
     "iopub.status.idle": "2020-07-14T03:03:21.335794Z",
     "shell.execute_reply": "2020-07-14T03:03:21.336161Z"
    }
   },
   "outputs": [
    {
     "name": "stdout",
     "output_type": "stream",
     "text": [
      "The empty domain in the SL were: 76 out of 500 domains\n",
      "The empty domain in the nSL were: 89 out of 500 domains\n"
     ]
    }
   ],
   "source": [
    "print('The empty domain in the SL were:', len(protein_a_list)-len(protein_a_list_new), 'out of', len(protein_a_list),'domains')\n",
    "print('The empty domain in the nSL were:', len(protein_a_list_non)-len(protein_a_list_non_new), 'out of', len(protein_a_list_non),'domains')"
   ]
  },
  {
   "cell_type": "markdown",
   "metadata": {},
   "source": [
    "### Feature engineering: Select from each ordered indexes of domain id list which of them appear once, in both or in any of the domains of each protein pair"
   ]
  },
  {
   "cell_type": "markdown",
   "metadata": {},
   "source": [
    "#### Define function `get_indexes`"
   ]
  },
  {
   "cell_type": "code",
   "execution_count": 7,
   "metadata": {
    "execution": {
     "iopub.execute_input": "2020-07-14T03:03:21.343147Z",
     "iopub.status.busy": "2020-07-14T03:03:21.342650Z",
     "iopub.status.idle": "2020-07-14T03:03:21.345342Z",
     "shell.execute_reply": "2020-07-14T03:03:21.345736Z"
    }
   },
   "outputs": [
    {
     "data": {
      "text/plain": [
       "[1, 2]"
      ]
     },
     "execution_count": 7,
     "metadata": {},
     "output_type": "execute_result"
    }
   ],
   "source": [
    "get_indexes = lambda x, xs: [i for (y, i) in zip(xs, range(len(xs))) if x == y] # a function that give the index of whether a value appear in array or not\n",
    "a=[1,2,2,4,5,6,7,8,9,10]\n",
    "get_indexes(2,a)"
   ]
  },
  {
   "cell_type": "code",
   "execution_count": 8,
   "metadata": {
    "execution": {
     "iopub.execute_input": "2020-07-14T03:03:21.355041Z",
     "iopub.status.busy": "2020-07-14T03:03:21.353858Z",
     "iopub.status.idle": "2020-07-14T03:03:21.355658Z",
     "shell.execute_reply": "2020-07-14T03:03:21.356098Z"
    }
   },
   "outputs": [],
   "source": [
    "def feature_building(protein_a_list_new,protein_b_list_new):\n",
    "    x = np.unique(domain_id_list)\n",
    "    ## To avoid taking repeated domains from one protein of the pairs , lets reduced the domains of each protein from the pairs to their unique members\n",
    "    protein_a_list_unique=[]\n",
    "    protein_b_list_unique=[]\n",
    "    for i in np.arange(0,len(protein_a_list_new)):\n",
    "        protein_a_list_unique.append(np.unique(protein_a_list_new[i]))\n",
    "        protein_b_list_unique.append(np.unique(protein_b_list_new[i]))\n",
    "        \n",
    "    protein_feat_true=np.zeros(shape=(len(x),len(protein_a_list_unique)))\n",
    "    pair_a_b_array=[]\n",
    "    for i in np.arange(0,len(protein_a_list_unique)):\n",
    "        index_a=[]\n",
    "        \n",
    "        pair=[protein_a_list_unique[i],protein_b_list_unique[i]]\n",
    "        pair_a_b=np.concatenate(pair).ravel()\n",
    "        pair_a_b_array.append(pair_a_b)\n",
    "\n",
    "    j=0\n",
    "    for i in pair_a_b_array:  \n",
    "        array,index,counts=np.unique(i,return_index=True,return_counts=True)\n",
    "        \n",
    "        for k,m in zip(counts,array):\n",
    "            if k ==2:\n",
    "                protein_feat_true[get_indexes(m,x),j]=2\n",
    "                \n",
    "            if k==1:\n",
    "                protein_feat_true[get_indexes(m,x),j]=1\n",
    "        j=j+1\n",
    "    return protein_feat_true"
   ]
  },
  {
   "cell_type": "code",
   "execution_count": 9,
   "metadata": {
    "execution": {
     "iopub.execute_input": "2020-07-14T03:03:21.364986Z",
     "iopub.status.busy": "2020-07-14T03:03:21.364461Z",
     "iopub.status.idle": "2020-07-14T03:03:22.008932Z",
     "shell.execute_reply": "2020-07-14T03:03:22.008465Z"
    }
   },
   "outputs": [],
   "source": [
    "protein_feat_true=feature_building(protein_b_list_new=protein_b_list_new,protein_a_list_new=protein_a_list_new)\n",
    "protein_feat_true_pd=pd.DataFrame(protein_feat_true.T)\n",
    "\n",
    "protein_feat_non_true=feature_building(protein_b_list_new=protein_b_list_non_new,protein_a_list_new=protein_a_list_non_new)\n",
    "protein_feat_non_true_pd=pd.DataFrame(protein_feat_non_true.T)"
   ]
  },
  {
   "cell_type": "markdown",
   "metadata": {},
   "source": [
    "### How many ones and twos are in each dataset"
   ]
  },
  {
   "cell_type": "code",
   "execution_count": 10,
   "metadata": {
    "execution": {
     "iopub.execute_input": "2020-07-14T03:03:22.016958Z",
     "iopub.status.busy": "2020-07-14T03:03:22.016426Z",
     "iopub.status.idle": "2020-07-14T03:03:22.113727Z",
     "shell.execute_reply": "2020-07-14T03:03:22.114104Z"
    }
   },
   "outputs": [
    {
     "name": "stdout",
     "output_type": "stream",
     "text": [
      "fraction of twos in the SL array is 1.871199126773741e-05\n",
      "fraction of ones in the SL array is 0.0010073288632465305\n",
      "fraction of twos in the PI array is 1.2869236492328728e-05\n",
      "fraction of ones in the PI array is 0.0009201504092015041\n"
     ]
    }
   ],
   "source": [
    "index_2_true=protein_feat_true_pd.where(protein_feat_true_pd==2)\n",
    "index_2_true_count=index_2_true.count(axis=1).sum()\n",
    "\n",
    "index_1_true=protein_feat_true_pd.where(protein_feat_true_pd==1)\n",
    "index_1_true_count=index_1_true.count(axis=1).sum()\n",
    "\n",
    "index_2_nontrue=protein_feat_non_true_pd.where(protein_feat_non_true_pd==2)\n",
    "index_2_nontrue_count=index_2_nontrue.count(axis=1).sum()\n",
    "\n",
    "index_1_nontrue=protein_feat_non_true_pd.where(protein_feat_non_true_pd==1)\n",
    "index_1_nontrue_count=index_1_nontrue.count(axis=1).sum()\n",
    "\n",
    "\n",
    "print('fraction of twos in the SL array is',index_2_true_count/(len(protein_feat_true_pd.index)*len(protein_feat_true_pd.columns)))\n",
    "print('fraction of ones in the SL array is',index_1_true_count/(len(protein_feat_true_pd.index)*len(protein_feat_true_pd.columns)))\n",
    "print('fraction of twos in the PI array is',index_2_nontrue_count/(len(protein_feat_non_true_pd.index)*len(protein_feat_non_true_pd.columns)))\n",
    "print('fraction of ones in the PI array is',index_1_nontrue_count/(len(protein_feat_non_true_pd.index)*len(protein_feat_non_true_pd.columns)))"
   ]
  },
  {
   "cell_type": "markdown",
   "metadata": {},
   "source": [
    "#### Bar plot to visualize these numbers"
   ]
  },
  {
   "cell_type": "code",
   "execution_count": 11,
   "metadata": {
    "execution": {
     "iopub.execute_input": "2020-07-14T03:03:22.124977Z",
     "iopub.status.busy": "2020-07-14T03:03:22.120644Z",
     "iopub.status.idle": "2020-07-14T03:03:22.462718Z",
     "shell.execute_reply": "2020-07-14T03:03:22.462217Z"
    }
   },
   "outputs": [
    {
     "data": {
      "text/plain": [
       "([0, 1, 2, 3], <a list of 4 Text major ticklabel objects>)"
      ]
     },
     "execution_count": 11,
     "metadata": {},
     "output_type": "execute_result"
    },
    {
     "data": {
      "image/png": "[encoded data removed]",
      "text/plain": [
       "<Figure size 432x288 with 1 Axes>"
      ]
     },
     "metadata": {
      "filenames": {
       "image/png": "/home/runner/work/jupyter-book/jupyter-book/mini_book/docs/_build/jupyter_execute/prot_domains2lethality-FEATURES-POSTPROCESSING_18_1.png"
      },
      "needs_background": "light"
     },
     "output_type": "display_data"
    }
   ],
   "source": [
    "plt.bar(['fraction of 2 in the nSL','fraction of 1 in the nSL'],[index_2_nontrue_count/(len(protein_feat_non_true_pd.index)*len(protein_feat_non_true_pd.columns)),index_1_nontrue_count/(len(protein_feat_non_true_pd.index)*len(protein_feat_non_true_pd.columns))],alpha=0.6,color=['blue','lightblue']), \n",
    "\n",
    "plt.bar(['fraction of 2 in SL ','fraction of 1 in SL'],[index_2_true_count/(len(protein_feat_true_pd.index)*len(protein_feat_true_pd.columns)),index_1_true_count/(len(protein_feat_true_pd.index)*len(protein_feat_true_pd.columns))],alpha=0.6,color=['coral','lightcoral'])\n",
    "\n",
    "plt.ylabel('Fraction from the population')\n",
    "plt.yscale('log')\n",
    "plt.xticks(rotation=40)"
   ]
  },
  {
   "cell_type": "markdown",
   "metadata": {},
   "source": [
    "#### Adding the labels(response variables) to each dataset"
   ]
  },
  {
   "cell_type": "code",
   "execution_count": 12,
   "metadata": {
    "execution": {
     "iopub.execute_input": "2020-07-14T03:03:22.467318Z",
     "iopub.status.busy": "2020-07-14T03:03:22.466419Z",
     "iopub.status.idle": "2020-07-14T03:03:22.471308Z",
     "shell.execute_reply": "2020-07-14T03:03:22.470548Z"
    }
   },
   "outputs": [],
   "source": [
    "protein_feat_true_pd['lethality']=np.ones(shape=(len(protein_a_list_new)))\n",
    "protein_feat_non_true_pd['lethality']=np.zeros(shape=(len(protein_a_list_non_new)))"
   ]
  },
  {
   "cell_type": "markdown",
   "metadata": {},
   "source": [
    "#### Joining both datasets"
   ]
  },
  {
   "cell_type": "code",
   "execution_count": 13,
   "metadata": {
    "execution": {
     "iopub.execute_input": "2020-07-14T03:03:22.476139Z",
     "iopub.status.busy": "2020-07-14T03:03:22.475486Z",
     "iopub.status.idle": "2020-07-14T03:03:22.509969Z",
     "shell.execute_reply": "2020-07-14T03:03:22.510431Z"
    }
   },
   "outputs": [
    {
     "name": "stdout",
     "output_type": "stream",
     "text": [
      "The number of features are: 3026\n",
      "The number of samples are: 835\n"
     ]
    }
   ],
   "source": [
    "feature_post=pd.concat([protein_feat_true_pd,protein_feat_non_true_pd],axis=0)\n",
    "feature_post=feature_post.set_index(np.arange(0,len(protein_a_list_new)+len(protein_a_list_non_new)))\n",
    "print('The number of features are:',feature_post.shape[1])\n",
    "print('The number of samples are:',feature_post.shape[0])"
   ]
  },
  {
   "cell_type": "markdown",
   "metadata": {},
   "source": [
    "### Postprocessing and exploration of the feature matrix of both datasets"
   ]
  },
  {
   "cell_type": "code",
   "execution_count": 14,
   "metadata": {
    "execution": {
     "iopub.execute_input": "2020-07-14T03:03:22.526672Z",
     "iopub.status.busy": "2020-07-14T03:03:22.526120Z",
     "iopub.status.idle": "2020-07-14T03:03:26.511402Z",
     "shell.execute_reply": "2020-07-14T03:03:26.510858Z"
    }
   },
   "outputs": [],
   "source": [
    "mean=feature_post.T.describe().loc['mean']\n",
    "std=feature_post.T.describe().loc['std']\n",
    "lethality=feature_post['lethality']\n",
    "\n",
    "corr_keys=pd.concat([mean,std,lethality],axis=1)"
   ]
  },
  {
   "cell_type": "markdown",
   "metadata": {},
   "source": [
    "### Viz of the stats"
   ]
  },
  {
   "cell_type": "code",
   "execution_count": 15,
   "metadata": {
    "execution": {
     "iopub.execute_input": "2020-07-14T03:03:26.521711Z",
     "iopub.status.busy": "2020-07-14T03:03:26.520406Z",
     "iopub.status.idle": "2020-07-14T03:03:27.986883Z",
     "shell.execute_reply": "2020-07-14T03:03:27.986410Z"
    }
   },
   "outputs": [
    {
     "data": {
      "text/plain": [
       "Text(0.5, 1.08, 'Pairplot to see data dependencies with Lethality')"
      ]
     },
     "execution_count": 15,
     "metadata": {},
     "output_type": "execute_result"
    },
    {
     "data": {
      "image/png": "[encoded data removed]",
      "text/plain": [
       "<Figure size 412x360 with 6 Axes>"
      ]
     },
     "metadata": {
      "filenames": {
       "image/png": "/home/runner/work/jupyter-book/jupyter-book/mini_book/docs/_build/jupyter_execute/prot_domains2lethality-FEATURES-POSTPROCESSING_26_1.png"
      },
      "needs_background": "light"
     },
     "output_type": "display_data"
    }
   ],
   "source": [
    "pair=sns.pairplot(corr_keys,hue='lethality',diag_kind='kde',kind='reg',palette='colorblind')\n",
    "pair.fig.suptitle('Pairplot to see data dependencies with Lethality',y=1.08)"
   ]
  },
  {
   "cell_type": "code",
   "execution_count": 16,
   "metadata": {
    "execution": {
     "iopub.execute_input": "2020-07-14T03:03:27.997314Z",
     "iopub.status.busy": "2020-07-14T03:03:27.996813Z",
     "iopub.status.idle": "2020-07-14T03:03:27.999945Z",
     "shell.execute_reply": "2020-07-14T03:03:28.000703Z"
    }
   },
   "outputs": [],
   "source": [
    "X, y = feature_post.drop(columns=[\"lethality\"]), feature_post[\"lethality\"]"
   ]
  },
  {
   "cell_type": "code",
   "execution_count": 17,
   "metadata": {
    "execution": {
     "iopub.execute_input": "2020-07-14T03:03:28.006081Z",
     "iopub.status.busy": "2020-07-14T03:03:28.004784Z",
     "iopub.status.idle": "2020-07-14T03:03:28.160348Z",
     "shell.execute_reply": "2020-07-14T03:03:28.159787Z"
    }
   },
   "outputs": [],
   "source": [
    "from sklearn.preprocessing import StandardScaler\n",
    "scaler = StandardScaler()\n",
    "x_sl=protein_feat_true_pd.drop(columns=['lethality'])\n",
    "x_nsl=protein_feat_non_true_pd.drop(columns=['lethality'])\n",
    "\n",
    "X_sl_scaled = scaler.fit_transform(x_sl)\n",
    "X_nsl_scaled = scaler.fit_transform(x_nsl)"
   ]
  },
  {
   "cell_type": "code",
   "execution_count": 18,
   "metadata": {
    "execution": {
     "iopub.execute_input": "2020-07-14T03:03:28.164577Z",
     "iopub.status.busy": "2020-07-14T03:03:28.164059Z",
     "iopub.status.idle": "2020-07-14T03:03:28.169456Z",
     "shell.execute_reply": "2020-07-14T03:03:28.169038Z"
    }
   },
   "outputs": [
    {
     "data": {
      "text/plain": [
       "(424, 3025)"
      ]
     },
     "execution_count": 18,
     "metadata": {},
     "output_type": "execute_result"
    }
   ],
   "source": [
    "np.shape(X_sl_scaled)"
   ]
  },
  {
   "cell_type": "markdown",
   "metadata": {},
   "source": [
    "## How redundant are each of the protein domains?"
   ]
  },
  {
   "cell_type": "code",
   "execution_count": 19,
   "metadata": {
    "execution": {
     "iopub.execute_input": "2020-07-14T03:03:28.177695Z",
     "iopub.status.busy": "2020-07-14T03:03:28.176808Z",
     "iopub.status.idle": "2020-07-14T03:03:28.181248Z",
     "shell.execute_reply": "2020-07-14T03:03:28.180789Z"
    }
   },
   "outputs": [],
   "source": [
    "def PCA_component_contribution(scaled_matrix,original_data):\n",
    "    from sklearn.decomposition import PCA\n",
    "\n",
    "    model = PCA(0.95).fit(scaled_matrix)\n",
    "    ## apply dimensionality reduction to X_train\n",
    "    output_pca = model.transform(scaled_matrix)\n",
    "    \n",
    "    total=sum(model.explained_variance_)\n",
    "\n",
    "\n",
    "   \n",
    "    # number of components , that it will be the number of main axes times the number of original components \n",
    "    n_pcs= model.components_.shape[0] # the amount of non redundant protein domains \n",
    "\n",
    "    # get the index of the most important feature on EACH component\n",
    "    # LIST COMPREHENSION HERE\n",
    "    most_important = [np.abs(model.components_[i]).argmax() for i in range(n_pcs)]\n",
    "\n",
    "    initial_feature_names = original_data.columns\n",
    "    # get the names\n",
    "    most_important_names = [initial_feature_names[most_important[i]] for i in range(n_pcs)]\n",
    "    \n",
    "\n",
    "    # LIST COMPREHENSION HERE AGAIN\n",
    "    dic = {'PC{}'.format(i): most_important_names[i] for i in range(n_pcs)}\n",
    "\n",
    "    # build the dataframe\n",
    "    df = pd.DataFrame(dic.items(),columns=['pca-component','domain-number'])\n",
    "\n",
    "    return df,model.components_"
   ]
  },
  {
   "cell_type": "code",
   "execution_count": 20,
   "metadata": {
    "execution": {
     "iopub.execute_input": "2020-07-14T03:03:28.184979Z",
     "iopub.status.busy": "2020-07-14T03:03:28.184470Z",
     "iopub.status.idle": "2020-07-14T03:03:28.828505Z",
     "shell.execute_reply": "2020-07-14T03:03:28.829036Z"
    }
   },
   "outputs": [],
   "source": [
    "df_sl,components_pca_nsl=PCA_component_contribution(X_nsl_scaled,x_nsl)\n",
    "df_nsl,components_pca_sl=PCA_component_contribution(X_sl_scaled,x_sl)"
   ]
  },
  {
   "cell_type": "code",
   "execution_count": 21,
   "metadata": {
    "execution": {
     "iopub.execute_input": "2020-07-14T03:03:28.832279Z",
     "iopub.status.busy": "2020-07-14T03:03:28.831180Z",
     "iopub.status.idle": "2020-07-14T03:03:28.841749Z",
     "shell.execute_reply": "2020-07-14T03:03:28.842483Z"
    }
   },
   "outputs": [
    {
     "data": {
      "text/html": [
       "<div>\n",
       "<style scoped>\n",
       "    .dataframe tbody tr th:only-of-type {\n",
       "        vertical-align: middle;\n",
       "    }\n",
       "\n",
       "    .dataframe tbody tr th {\n",
       "        vertical-align: top;\n",
       "    }\n",
       "\n",
       "    .dataframe thead th {\n",
       "        text-align: right;\n",
       "    }\n",
       "</style>\n",
       "<table border=\"1\" class=\"dataframe\">\n",
       "  <thead>\n",
       "    <tr style=\"text-align: right;\">\n",
       "      <th></th>\n",
       "      <th>pca-component</th>\n",
       "      <th>domain-number</th>\n",
       "    </tr>\n",
       "  </thead>\n",
       "  <tbody>\n",
       "    <tr>\n",
       "      <th>0</th>\n",
       "      <td>PC0</td>\n",
       "      <td>135</td>\n",
       "    </tr>\n",
       "    <tr>\n",
       "      <th>1</th>\n",
       "      <td>PC1</td>\n",
       "      <td>2771</td>\n",
       "    </tr>\n",
       "    <tr>\n",
       "      <th>2</th>\n",
       "      <td>PC2</td>\n",
       "      <td>142</td>\n",
       "    </tr>\n",
       "    <tr>\n",
       "      <th>3</th>\n",
       "      <td>PC3</td>\n",
       "      <td>221</td>\n",
       "    </tr>\n",
       "    <tr>\n",
       "      <th>4</th>\n",
       "      <td>PC4</td>\n",
       "      <td>219</td>\n",
       "    </tr>\n",
       "  </tbody>\n",
       "</table>\n",
       "</div>"
      ],
      "text/plain": [
       "  pca-component  domain-number\n",
       "0           PC0            135\n",
       "1           PC1           2771\n",
       "2           PC2            142\n",
       "3           PC3            221\n",
       "4           PC4            219"
      ]
     },
     "execution_count": 21,
     "metadata": {},
     "output_type": "execute_result"
    }
   ],
   "source": [
    "df_sl.head()"
   ]
  },
  {
   "cell_type": "markdown",
   "metadata": {},
   "source": [
    "## which are the shared domains between nSL and SL pairs , in the PCA reduced samples"
   ]
  },
  {
   "cell_type": "code",
   "execution_count": 22,
   "metadata": {
    "execution": {
     "iopub.execute_input": "2020-07-14T03:03:28.845702Z",
     "iopub.status.busy": "2020-07-14T03:03:28.844659Z",
     "iopub.status.idle": "2020-07-14T03:03:28.874945Z",
     "shell.execute_reply": "2020-07-14T03:03:28.875948Z"
    }
   },
   "outputs": [
    {
     "data": {
      "text/html": [
       "<div>\n",
       "<style scoped>\n",
       "    .dataframe tbody tr th:only-of-type {\n",
       "        vertical-align: middle;\n",
       "    }\n",
       "\n",
       "    .dataframe tbody tr th {\n",
       "        vertical-align: top;\n",
       "    }\n",
       "\n",
       "    .dataframe thead th {\n",
       "        text-align: right;\n",
       "    }\n",
       "</style>\n",
       "<table border=\"1\" class=\"dataframe\">\n",
       "  <thead>\n",
       "    <tr style=\"text-align: right;\">\n",
       "      <th></th>\n",
       "      <th>pca-component_x</th>\n",
       "      <th>domain-number</th>\n",
       "      <th>pca-component_y</th>\n",
       "      <th>domain-description</th>\n",
       "    </tr>\n",
       "  </thead>\n",
       "  <tbody>\n",
       "    <tr>\n",
       "      <th>0</th>\n",
       "      <td>PC6</td>\n",
       "      <td>242</td>\n",
       "      <td>PC281</td>\n",
       "      <td>Atg31; Autophagy-related protein 31</td>\n",
       "    </tr>\n",
       "    <tr>\n",
       "      <th>1</th>\n",
       "      <td>PC10</td>\n",
       "      <td>926</td>\n",
       "      <td>PC5</td>\n",
       "      <td>Flp_C; Recombinase Flp protein</td>\n",
       "    </tr>\n",
       "    <tr>\n",
       "      <th>2</th>\n",
       "      <td>PC18</td>\n",
       "      <td>28</td>\n",
       "      <td>PC69</td>\n",
       "      <td>AAA_9</td>\n",
       "    </tr>\n",
       "    <tr>\n",
       "      <th>3</th>\n",
       "      <td>PC29</td>\n",
       "      <td>464</td>\n",
       "      <td>PC23</td>\n",
       "      <td>Chitin_synth_2</td>\n",
       "    </tr>\n",
       "    <tr>\n",
       "      <th>4</th>\n",
       "      <td>PC33</td>\n",
       "      <td>108</td>\n",
       "      <td>PC17</td>\n",
       "      <td>ATG11; Autophagy-related protein 11</td>\n",
       "    </tr>\n",
       "    <tr>\n",
       "      <th>...</th>\n",
       "      <td>...</td>\n",
       "      <td>...</td>\n",
       "      <td>...</td>\n",
       "      <td>...</td>\n",
       "    </tr>\n",
       "    <tr>\n",
       "      <th>90</th>\n",
       "      <td>PC257</td>\n",
       "      <td>889</td>\n",
       "      <td>PC103</td>\n",
       "      <td>FMO-like; Flavin monooxygenase-like</td>\n",
       "    </tr>\n",
       "    <tr>\n",
       "      <th>91</th>\n",
       "      <td>PC257</td>\n",
       "      <td>889</td>\n",
       "      <td>PC106</td>\n",
       "      <td>FMO-like; Flavin monooxygenase-like</td>\n",
       "    </tr>\n",
       "    <tr>\n",
       "      <th>92</th>\n",
       "      <td>PC269</td>\n",
       "      <td>904</td>\n",
       "      <td>PC268</td>\n",
       "      <td>Fe-S_biosyn; FeS cluster biogenesis</td>\n",
       "    </tr>\n",
       "    <tr>\n",
       "      <th>93</th>\n",
       "      <td>PC272</td>\n",
       "      <td>159</td>\n",
       "      <td>PC250</td>\n",
       "      <td>Actin; Actin family</td>\n",
       "    </tr>\n",
       "    <tr>\n",
       "      <th>94</th>\n",
       "      <td>PC274</td>\n",
       "      <td>211</td>\n",
       "      <td>PC283</td>\n",
       "      <td>Ank_5</td>\n",
       "    </tr>\n",
       "  </tbody>\n",
       "</table>\n",
       "<p>95 rows × 4 columns</p>\n",
       "</div>"
      ],
      "text/plain": [
       "   pca-component_x  domain-number pca-component_y  \\\n",
       "0              PC6            242           PC281   \n",
       "1             PC10            926             PC5   \n",
       "2             PC18             28            PC69   \n",
       "3             PC29            464            PC23   \n",
       "4             PC33            108            PC17   \n",
       "..             ...            ...             ...   \n",
       "90           PC257            889           PC103   \n",
       "91           PC257            889           PC106   \n",
       "92           PC269            904           PC268   \n",
       "93           PC272            159           PC250   \n",
       "94           PC274            211           PC283   \n",
       "\n",
       "                     domain-description  \n",
       "0   Atg31; Autophagy-related protein 31  \n",
       "1        Flp_C; Recombinase Flp protein  \n",
       "2                                 AAA_9  \n",
       "3                        Chitin_synth_2  \n",
       "4   ATG11; Autophagy-related protein 11  \n",
       "..                                  ...  \n",
       "90  FMO-like; Flavin monooxygenase-like  \n",
       "91  FMO-like; Flavin monooxygenase-like  \n",
       "92  Fe-S_biosyn; FeS cluster biogenesis  \n",
       "93                  Actin; Actin family  \n",
       "94                                Ank_5  \n",
       "\n",
       "[95 rows x 4 columns]"
      ]
     },
     "execution_count": 22,
     "metadata": {},
     "output_type": "execute_result"
    }
   ],
   "source": [
    "df_shared_domains=pd.merge(df_sl,df_nsl,how='inner',on='domain-number')\n",
    "domains_name=np.unique(data_domains['domain-name'])\n",
    "domains_description=np.unique(data_domains['domain-descrip'])\n",
    "\n",
    "df_shared_domains['domain-description']=domains_description[df_shared_domains['domain-number']]\n",
    "\n",
    "\n",
    "df_shared_domains"
   ]
  },
  {
   "cell_type": "code",
   "execution_count": 23,
   "metadata": {
    "execution": {
     "iopub.execute_input": "2020-07-14T03:03:28.879220Z",
     "iopub.status.busy": "2020-07-14T03:03:28.878176Z",
     "iopub.status.idle": "2020-07-14T03:03:28.885302Z",
     "shell.execute_reply": "2020-07-14T03:03:28.886022Z"
    }
   },
   "outputs": [
    {
     "name": "stdout",
     "output_type": "stream",
     "text": [
      "The number of shared domains between SL and nSL pairs,after PCA, is =  95 out of 567 so the 16.75485008818342 %\n"
     ]
    }
   ],
   "source": [
    "print('The number of shared domains between SL and nSL pairs,after PCA, is = ',len(df_shared_domains), 'out of', len(df_sl)+len(df_nsl), 'so the',100*len(df_shared_domains)/(len(df_sl)+len(df_nsl)),'%')"
   ]
  },
  {
   "cell_type": "markdown",
   "metadata": {},
   "source": [
    "## Domains exclusive to SL"
   ]
  },
  {
   "cell_type": "code",
   "execution_count": 24,
   "metadata": {
    "execution": {
     "iopub.execute_input": "2020-07-14T03:03:28.889176Z",
     "iopub.status.busy": "2020-07-14T03:03:28.888131Z",
     "iopub.status.idle": "2020-07-14T03:03:28.918197Z",
     "shell.execute_reply": "2020-07-14T03:03:28.918949Z"
    }
   },
   "outputs": [
    {
     "data": {
      "text/html": [
       "<div>\n",
       "<style scoped>\n",
       "    .dataframe tbody tr th:only-of-type {\n",
       "        vertical-align: middle;\n",
       "    }\n",
       "\n",
       "    .dataframe tbody tr th {\n",
       "        vertical-align: top;\n",
       "    }\n",
       "\n",
       "    .dataframe thead th {\n",
       "        text-align: right;\n",
       "    }\n",
       "</style>\n",
       "<table border=\"1\" class=\"dataframe\">\n",
       "  <thead>\n",
       "    <tr style=\"text-align: right;\">\n",
       "      <th></th>\n",
       "      <th>pca-component_x</th>\n",
       "      <th>domain-number</th>\n",
       "      <th>pca-component_y</th>\n",
       "      <th>domain-description</th>\n",
       "    </tr>\n",
       "  </thead>\n",
       "  <tbody>\n",
       "    <tr>\n",
       "      <th>0</th>\n",
       "      <td>PC0</td>\n",
       "      <td>135</td>\n",
       "      <td>NaN</td>\n",
       "      <td>ATP-synt_ab_Xtn; ATPsynthase alpha/beta subuni...</td>\n",
       "    </tr>\n",
       "    <tr>\n",
       "      <th>1</th>\n",
       "      <td>PC1</td>\n",
       "      <td>2771</td>\n",
       "      <td>NaN</td>\n",
       "      <td>Ubiq-assoc; Ubiquitin-associated domain, SWA2-...</td>\n",
       "    </tr>\n",
       "    <tr>\n",
       "      <th>2</th>\n",
       "      <td>PC2</td>\n",
       "      <td>142</td>\n",
       "      <td>NaN</td>\n",
       "      <td>ATP_synt_H; ATPase, V0 complex, subunit e1/e2</td>\n",
       "    </tr>\n",
       "    <tr>\n",
       "      <th>3</th>\n",
       "      <td>PC3</td>\n",
       "      <td>221</td>\n",
       "      <td>NaN</td>\n",
       "      <td>Apq12; Nuclear pore assembly and biogenesis pr...</td>\n",
       "    </tr>\n",
       "    <tr>\n",
       "      <th>4</th>\n",
       "      <td>PC4</td>\n",
       "      <td>219</td>\n",
       "      <td>NaN</td>\n",
       "      <td>Apc15p; Anaphase-promoting complex subunit  15...</td>\n",
       "    </tr>\n",
       "    <tr>\n",
       "      <th>...</th>\n",
       "      <td>...</td>\n",
       "      <td>...</td>\n",
       "      <td>...</td>\n",
       "      <td>...</td>\n",
       "    </tr>\n",
       "    <tr>\n",
       "      <th>297</th>\n",
       "      <td>PC276</td>\n",
       "      <td>1955</td>\n",
       "      <td>NaN</td>\n",
       "      <td>Pterin_4a; Transcriptional coactivator/pterin ...</td>\n",
       "    </tr>\n",
       "    <tr>\n",
       "      <th>298</th>\n",
       "      <td>PC277</td>\n",
       "      <td>2341</td>\n",
       "      <td>NaN</td>\n",
       "      <td>SLD5_C; DNA replication complex GINS protein S...</td>\n",
       "    </tr>\n",
       "    <tr>\n",
       "      <th>299</th>\n",
       "      <td>PC278</td>\n",
       "      <td>625</td>\n",
       "      <td>NaN</td>\n",
       "      <td>DRE2_N; Fe-S cluster assembly protein Dre2, N-...</td>\n",
       "    </tr>\n",
       "    <tr>\n",
       "      <th>300</th>\n",
       "      <td>PC279</td>\n",
       "      <td>769</td>\n",
       "      <td>NaN</td>\n",
       "      <td>Dynamin_M; Dynamin central domain</td>\n",
       "    </tr>\n",
       "    <tr>\n",
       "      <th>301</th>\n",
       "      <td>PC280</td>\n",
       "      <td>248</td>\n",
       "      <td>NaN</td>\n",
       "      <td>Avl9; AVL9/DENND6 domain</td>\n",
       "    </tr>\n",
       "  </tbody>\n",
       "</table>\n",
       "<p>207 rows × 4 columns</p>\n",
       "</div>"
      ],
      "text/plain": [
       "    pca-component_x  domain-number pca-component_y  \\\n",
       "0               PC0            135             NaN   \n",
       "1               PC1           2771             NaN   \n",
       "2               PC2            142             NaN   \n",
       "3               PC3            221             NaN   \n",
       "4               PC4            219             NaN   \n",
       "..              ...            ...             ...   \n",
       "297           PC276           1955             NaN   \n",
       "298           PC277           2341             NaN   \n",
       "299           PC278            625             NaN   \n",
       "300           PC279            769             NaN   \n",
       "301           PC280            248             NaN   \n",
       "\n",
       "                                    domain-description  \n",
       "0    ATP-synt_ab_Xtn; ATPsynthase alpha/beta subuni...  \n",
       "1    Ubiq-assoc; Ubiquitin-associated domain, SWA2-...  \n",
       "2        ATP_synt_H; ATPase, V0 complex, subunit e1/e2  \n",
       "3    Apq12; Nuclear pore assembly and biogenesis pr...  \n",
       "4    Apc15p; Anaphase-promoting complex subunit  15...  \n",
       "..                                                 ...  \n",
       "297  Pterin_4a; Transcriptional coactivator/pterin ...  \n",
       "298  SLD5_C; DNA replication complex GINS protein S...  \n",
       "299  DRE2_N; Fe-S cluster assembly protein Dre2, N-...  \n",
       "300                  Dynamin_M; Dynamin central domain  \n",
       "301                           Avl9; AVL9/DENND6 domain  \n",
       "\n",
       "[207 rows x 4 columns]"
      ]
     },
     "execution_count": 24,
     "metadata": {},
     "output_type": "execute_result"
    }
   ],
   "source": [
    "df_sl_exclusive=pd.merge(df_sl,df_nsl,how='left',on='domain-number')\n",
    "\n",
    "domains_name=np.unique(data_domains['domain-name'])\n",
    "domains_description=np.unique(data_domains['domain-descrip'])\n",
    "\n",
    "df_sl_exclusive['domain-description']=domains_description[df_sl_exclusive['domain-number']]\n",
    "df_sl_exclusive[pd.isnull(df_sl_exclusive['pca-component_y'])]"
   ]
  },
  {
   "cell_type": "code",
   "execution_count": 25,
   "metadata": {
    "execution": {
     "iopub.execute_input": "2020-07-14T03:03:28.922285Z",
     "iopub.status.busy": "2020-07-14T03:03:28.921138Z",
     "iopub.status.idle": "2020-07-14T03:03:28.928226Z",
     "shell.execute_reply": "2020-07-14T03:03:28.928955Z"
    }
   },
   "outputs": [
    {
     "name": "stdout",
     "output_type": "stream",
     "text": [
      "The number of exclusive domains from SL pairs, after PCA, is =  302 out of 567 so the 53.26278659611993 %\n"
     ]
    }
   ],
   "source": [
    "print('The number of exclusive domains from SL pairs, after PCA, is = ',len(df_sl_exclusive), 'out of', len(df_sl)+len(df_nsl), 'so the',100*len(df_sl_exclusive)/(len(df_sl)+len(df_nsl)),'%')"
   ]
  },
  {
   "cell_type": "code",
   "execution_count": 26,
   "metadata": {
    "execution": {
     "iopub.execute_input": "2020-07-14T03:03:28.931948Z",
     "iopub.status.busy": "2020-07-14T03:03:28.930947Z",
     "iopub.status.idle": "2020-07-14T03:03:28.961116Z",
     "shell.execute_reply": "2020-07-14T03:03:28.960697Z"
    }
   },
   "outputs": [
    {
     "data": {
      "text/html": [
       "<div>\n",
       "<style scoped>\n",
       "    .dataframe tbody tr th:only-of-type {\n",
       "        vertical-align: middle;\n",
       "    }\n",
       "\n",
       "    .dataframe tbody tr th {\n",
       "        vertical-align: top;\n",
       "    }\n",
       "\n",
       "    .dataframe thead th {\n",
       "        text-align: right;\n",
       "    }\n",
       "</style>\n",
       "<table border=\"1\" class=\"dataframe\">\n",
       "  <thead>\n",
       "    <tr style=\"text-align: right;\">\n",
       "      <th></th>\n",
       "      <th>pca-component_x</th>\n",
       "      <th>domain-number</th>\n",
       "      <th>pca-component_y</th>\n",
       "      <th>domain-description</th>\n",
       "    </tr>\n",
       "  </thead>\n",
       "  <tbody>\n",
       "    <tr>\n",
       "      <th>95</th>\n",
       "      <td>NaN</td>\n",
       "      <td>187</td>\n",
       "      <td>PC0</td>\n",
       "      <td>Aldolase_II; Class II aldolase/adducin N-terminal</td>\n",
       "    </tr>\n",
       "    <tr>\n",
       "      <th>96</th>\n",
       "      <td>NaN</td>\n",
       "      <td>1028</td>\n",
       "      <td>PC1</td>\n",
       "      <td>GatB_Yqey; Asn/Gln amidotransferase</td>\n",
       "    </tr>\n",
       "    <tr>\n",
       "      <th>97</th>\n",
       "      <td>NaN</td>\n",
       "      <td>689</td>\n",
       "      <td>PC2</td>\n",
       "      <td>DUF3128; Protein of unknown function DUF3128</td>\n",
       "    </tr>\n",
       "    <tr>\n",
       "      <th>98</th>\n",
       "      <td>NaN</td>\n",
       "      <td>2113</td>\n",
       "      <td>PC3</td>\n",
       "      <td>Rav1p_C; RAVE complex protein Rav1 C-terminal</td>\n",
       "    </tr>\n",
       "    <tr>\n",
       "      <th>99</th>\n",
       "      <td>NaN</td>\n",
       "      <td>989</td>\n",
       "      <td>PC4</td>\n",
       "      <td>GLE1; GLE1-like</td>\n",
       "    </tr>\n",
       "    <tr>\n",
       "      <th>...</th>\n",
       "      <td>...</td>\n",
       "      <td>...</td>\n",
       "      <td>...</td>\n",
       "      <td>...</td>\n",
       "    </tr>\n",
       "    <tr>\n",
       "      <th>304</th>\n",
       "      <td>NaN</td>\n",
       "      <td>2977</td>\n",
       "      <td>PC277</td>\n",
       "      <td>zf-C3HC; Zinc finger, C3HC-like</td>\n",
       "    </tr>\n",
       "    <tr>\n",
       "      <th>305</th>\n",
       "      <td>NaN</td>\n",
       "      <td>2977</td>\n",
       "      <td>PC278</td>\n",
       "      <td>zf-C3HC; Zinc finger, C3HC-like</td>\n",
       "    </tr>\n",
       "    <tr>\n",
       "      <th>306</th>\n",
       "      <td>NaN</td>\n",
       "      <td>1408</td>\n",
       "      <td>PC279</td>\n",
       "      <td>MT; Dynein heavy chain, coiled coil stalk</td>\n",
       "    </tr>\n",
       "    <tr>\n",
       "      <th>307</th>\n",
       "      <td>NaN</td>\n",
       "      <td>869</td>\n",
       "      <td>PC280</td>\n",
       "      <td>FAT; PIK-related kinase, FAT</td>\n",
       "    </tr>\n",
       "    <tr>\n",
       "      <th>308</th>\n",
       "      <td>NaN</td>\n",
       "      <td>2696</td>\n",
       "      <td>PC284</td>\n",
       "      <td>Transketolase_N; Transketolase, N-terminal</td>\n",
       "    </tr>\n",
       "  </tbody>\n",
       "</table>\n",
       "<p>214 rows × 4 columns</p>\n",
       "</div>"
      ],
      "text/plain": [
       "    pca-component_x  domain-number pca-component_y  \\\n",
       "95              NaN            187             PC0   \n",
       "96              NaN           1028             PC1   \n",
       "97              NaN            689             PC2   \n",
       "98              NaN           2113             PC3   \n",
       "99              NaN            989             PC4   \n",
       "..              ...            ...             ...   \n",
       "304             NaN           2977           PC277   \n",
       "305             NaN           2977           PC278   \n",
       "306             NaN           1408           PC279   \n",
       "307             NaN            869           PC280   \n",
       "308             NaN           2696           PC284   \n",
       "\n",
       "                                    domain-description  \n",
       "95   Aldolase_II; Class II aldolase/adducin N-terminal  \n",
       "96                 GatB_Yqey; Asn/Gln amidotransferase  \n",
       "97        DUF3128; Protein of unknown function DUF3128  \n",
       "98       Rav1p_C; RAVE complex protein Rav1 C-terminal  \n",
       "99                                     GLE1; GLE1-like  \n",
       "..                                                 ...  \n",
       "304                    zf-C3HC; Zinc finger, C3HC-like  \n",
       "305                    zf-C3HC; Zinc finger, C3HC-like  \n",
       "306          MT; Dynein heavy chain, coiled coil stalk  \n",
       "307                       FAT; PIK-related kinase, FAT  \n",
       "308         Transketolase_N; Transketolase, N-terminal  \n",
       "\n",
       "[214 rows x 4 columns]"
      ]
     },
     "execution_count": 26,
     "metadata": {},
     "output_type": "execute_result"
    }
   ],
   "source": [
    "df_nsl_exclusive=pd.merge(df_sl,df_nsl,how='right',on='domain-number')\n",
    "\n",
    "domains_name=np.unique(data_domains['domain-name'])\n",
    "domains_description=np.unique(data_domains['domain-descrip'])\n",
    "\n",
    "df_nsl_exclusive['domain-description']=domains_description[df_nsl_exclusive['domain-number']]\n",
    "df_nsl_exclusive[pd.isnull(df_nsl_exclusive['pca-component_x'])]"
   ]
  },
  {
   "cell_type": "code",
   "execution_count": 27,
   "metadata": {
    "execution": {
     "iopub.execute_input": "2020-07-14T03:03:28.965144Z",
     "iopub.status.busy": "2020-07-14T03:03:28.964623Z",
     "iopub.status.idle": "2020-07-14T03:03:28.967837Z",
     "shell.execute_reply": "2020-07-14T03:03:28.967388Z"
    }
   },
   "outputs": [
    {
     "name": "stdout",
     "output_type": "stream",
     "text": [
      "The number of exclusive domains from non SL pairs, after PCA, is =  309 out of 567 so the 54.4973544973545 %\n"
     ]
    }
   ],
   "source": [
    "print('The number of exclusive domains from non SL pairs, after PCA, is = ',len(df_nsl_exclusive), 'out of', len(df_sl)+len(df_nsl), 'so the',100*len(df_nsl_exclusive)/(len(df_sl)+len(df_nsl)),'%')"
   ]
  },
  {
   "cell_type": "markdown",
   "metadata": {},
   "source": [
    "## Let see to the domains-number that get repeated after the PCA analysis , and selecting the most explanatory feature by its explained variance."
   ]
  },
  {
   "cell_type": "code",
   "execution_count": 28,
   "metadata": {
    "execution": {
     "iopub.execute_input": "2020-07-14T03:03:28.990838Z",
     "iopub.status.busy": "2020-07-14T03:03:28.989510Z",
     "iopub.status.idle": "2020-07-14T03:03:28.991523Z",
     "shell.execute_reply": "2020-07-14T03:03:28.992034Z"
    }
   },
   "outputs": [],
   "source": [
    "duplicated_features_sl=df_sl[df_sl.iloc[:,1].duplicated()]\n",
    "repeated_features_sl=pd.DataFrame()\n",
    "\n",
    "domains_name=np.unique(data_domains['domain-name'])\n",
    "domains_description=np.unique(data_domains['domain-descrip'])\n",
    "\n",
    "repeated_features_sl['domain-name']=domains_name[duplicated_features_sl.iloc[:,1]] \n",
    "repeated_features_sl['domain-description']=domains_description[duplicated_features_sl.iloc[:,1]]\n",
    "\n",
    "duplicated_features_nsl=df_nsl[df_nsl.iloc[:,1].duplicated()]\n",
    "repeated_features_nsl=pd.DataFrame()\n",
    "\n",
    "repeated_features_nsl['domain-name']=domains_name[duplicated_features_nsl.iloc[:,1]] \n",
    "repeated_features_nsl['domain-description']=domains_description[duplicated_features_nsl.iloc[:,1]]"
   ]
  },
  {
   "cell_type": "code",
   "execution_count": 29,
   "metadata": {
    "execution": {
     "iopub.execute_input": "2020-07-14T03:03:29.002641Z",
     "iopub.status.busy": "2020-07-14T03:03:29.000358Z",
     "iopub.status.idle": "2020-07-14T03:03:29.005277Z",
     "shell.execute_reply": "2020-07-14T03:03:29.005634Z"
    }
   },
   "outputs": [
    {
     "name": "stderr",
     "output_type": "stream",
     "text": [
      "/usr/share/miniconda3/envs/wintest/lib/python3.7/site-packages/ipykernel_launcher.py:3: SettingWithCopyWarning: \n",
      "A value is trying to be set on a copy of a slice from a DataFrame.\n",
      "Try using .loc[row_indexer,col_indexer] = value instead\n",
      "\n",
      "See the caveats in the documentation: https://pandas.pydata.org/pandas-docs/stable/user_guide/indexing.html#returning-a-view-versus-a-copy\n",
      "  This is separate from the ipykernel package so we can avoid doing imports until\n"
     ]
    },
    {
     "data": {
      "text/plain": [
       "((31, 4), (302, 4))"
      ]
     },
     "execution_count": 29,
     "metadata": {},
     "output_type": "execute_result"
    }
   ],
   "source": [
    "only_sl_pd=pd.merge(repeated_features_sl,repeated_features_nsl,how='left',on=['domain-name'])\n",
    "data_only_sl = only_sl_pd[pd.isnull(only_sl_pd['domain-description_y'])]\n",
    "data_only_sl['domain-description']=data_only_sl['domain-description_x']\n",
    "data_only_sl.shape,df_sl_exclusive.shape"
   ]
  },
  {
   "cell_type": "code",
   "execution_count": 30,
   "metadata": {
    "execution": {
     "iopub.execute_input": "2020-07-14T03:03:29.023651Z",
     "iopub.status.busy": "2020-07-14T03:03:29.023137Z",
     "iopub.status.idle": "2020-07-14T03:03:29.025835Z",
     "shell.execute_reply": "2020-07-14T03:03:29.026220Z"
    }
   },
   "outputs": [
    {
     "data": {
      "text/html": [
       "<div>\n",
       "<style scoped>\n",
       "    .dataframe tbody tr th:only-of-type {\n",
       "        vertical-align: middle;\n",
       "    }\n",
       "\n",
       "    .dataframe tbody tr th {\n",
       "        vertical-align: top;\n",
       "    }\n",
       "\n",
       "    .dataframe thead th {\n",
       "        text-align: right;\n",
       "    }\n",
       "</style>\n",
       "<table border=\"1\" class=\"dataframe\">\n",
       "  <thead>\n",
       "    <tr style=\"text-align: right;\">\n",
       "      <th></th>\n",
       "      <th>domain-name</th>\n",
       "      <th>domain-description_x</th>\n",
       "      <th>domain-description_y</th>\n",
       "    </tr>\n",
       "  </thead>\n",
       "  <tbody>\n",
       "    <tr>\n",
       "      <th>7</th>\n",
       "      <td>PF01061</td>\n",
       "      <td>NaN</td>\n",
       "      <td>Cid2; Caffeine-induced death protein 2</td>\n",
       "    </tr>\n",
       "    <tr>\n",
       "      <th>8</th>\n",
       "      <td>PF00613</td>\n",
       "      <td>NaN</td>\n",
       "      <td>Biotin_carb_C; Biotin carboxylase, C-terminal</td>\n",
       "    </tr>\n",
       "    <tr>\n",
       "      <th>9</th>\n",
       "      <td>PF02037</td>\n",
       "      <td>NaN</td>\n",
       "      <td>ELFV_dehydrog; Glutamate/phenylalanine/leucine...</td>\n",
       "    </tr>\n",
       "    <tr>\n",
       "      <th>10</th>\n",
       "      <td>PF03810</td>\n",
       "      <td>NaN</td>\n",
       "      <td>His_biosynth; Histidine biosynthesis</td>\n",
       "    </tr>\n",
       "    <tr>\n",
       "      <th>11</th>\n",
       "      <td>PF12726</td>\n",
       "      <td>NaN</td>\n",
       "      <td>Steroid_dh; 3-oxo-5-alpha-steroid 4-dehydrogen...</td>\n",
       "    </tr>\n",
       "    <tr>\n",
       "      <th>12</th>\n",
       "      <td>PF02516</td>\n",
       "      <td>NaN</td>\n",
       "      <td>FUSC_2</td>\n",
       "    </tr>\n",
       "    <tr>\n",
       "      <th>13</th>\n",
       "      <td>PF00787</td>\n",
       "      <td>NaN</td>\n",
       "      <td>COP-gamma_platf; Coatomer, gamma subunit, appe...</td>\n",
       "    </tr>\n",
       "    <tr>\n",
       "      <th>14</th>\n",
       "      <td>PF01483</td>\n",
       "      <td>NaN</td>\n",
       "      <td>DUF155; Domain of unknown function DUF155</td>\n",
       "    </tr>\n",
       "    <tr>\n",
       "      <th>15</th>\n",
       "      <td>PF11916</td>\n",
       "      <td>NaN</td>\n",
       "      <td>Scramblase</td>\n",
       "    </tr>\n",
       "    <tr>\n",
       "      <th>16</th>\n",
       "      <td>PF03224</td>\n",
       "      <td>NaN</td>\n",
       "      <td>Gp_dh_C; Glyceraldehyde 3-phosphate dehydrogen...</td>\n",
       "    </tr>\n",
       "    <tr>\n",
       "      <th>17</th>\n",
       "      <td>PF00293</td>\n",
       "      <td>NaN</td>\n",
       "      <td>A_deaminase; Adenosine/AMP deaminase domain</td>\n",
       "    </tr>\n",
       "    <tr>\n",
       "      <th>18</th>\n",
       "      <td>PF09346</td>\n",
       "      <td>NaN</td>\n",
       "      <td>RasGAP; Ras GTPase-activating protein</td>\n",
       "    </tr>\n",
       "    <tr>\n",
       "      <th>19</th>\n",
       "      <td>PF00534</td>\n",
       "      <td>NaN</td>\n",
       "      <td>BAR_3</td>\n",
       "    </tr>\n",
       "    <tr>\n",
       "      <th>20</th>\n",
       "      <td>PF00534</td>\n",
       "      <td>NaN</td>\n",
       "      <td>BAR_3</td>\n",
       "    </tr>\n",
       "    <tr>\n",
       "      <th>21</th>\n",
       "      <td>PF00180</td>\n",
       "      <td>NaN</td>\n",
       "      <td>ANAPC4; Anaphase-promoting complex subunit 4 l...</td>\n",
       "    </tr>\n",
       "    <tr>\n",
       "      <th>22</th>\n",
       "      <td>PF00646</td>\n",
       "      <td>NaN</td>\n",
       "      <td>CASP_C; CASP, C-terminal</td>\n",
       "    </tr>\n",
       "    <tr>\n",
       "      <th>23</th>\n",
       "      <td>PF03901</td>\n",
       "      <td>NaN</td>\n",
       "      <td>Hydrolase_like</td>\n",
       "    </tr>\n",
       "    <tr>\n",
       "      <th>24</th>\n",
       "      <td>PF09637</td>\n",
       "      <td>NaN</td>\n",
       "      <td>Ribophorin_I; Ribophorin I</td>\n",
       "    </tr>\n",
       "    <tr>\n",
       "      <th>25</th>\n",
       "      <td>PF11976</td>\n",
       "      <td>NaN</td>\n",
       "      <td>Sec20</td>\n",
       "    </tr>\n",
       "    <tr>\n",
       "      <th>26</th>\n",
       "      <td>PF09724</td>\n",
       "      <td>NaN</td>\n",
       "      <td>Ribosomal_60s</td>\n",
       "    </tr>\n",
       "    <tr>\n",
       "      <th>27</th>\n",
       "      <td>PF09724</td>\n",
       "      <td>NaN</td>\n",
       "      <td>Ribosomal_60s</td>\n",
       "    </tr>\n",
       "    <tr>\n",
       "      <th>28</th>\n",
       "      <td>PF00514</td>\n",
       "      <td>NaN</td>\n",
       "      <td>BAF1_ABF1</td>\n",
       "    </tr>\n",
       "    <tr>\n",
       "      <th>29</th>\n",
       "      <td>PF09757</td>\n",
       "      <td>NaN</td>\n",
       "      <td>Ribosomal_L14e; Ribosomal protein L14e domain</td>\n",
       "    </tr>\n",
       "    <tr>\n",
       "      <th>30</th>\n",
       "      <td>PF00664</td>\n",
       "      <td>NaN</td>\n",
       "      <td>CDC24; Cdc24/Scd1, N-terminal</td>\n",
       "    </tr>\n",
       "    <tr>\n",
       "      <th>31</th>\n",
       "      <td>PF02259</td>\n",
       "      <td>NaN</td>\n",
       "      <td>F420_oxidored; Pyrroline-5-carboxylate reducta...</td>\n",
       "    </tr>\n",
       "    <tr>\n",
       "      <th>32</th>\n",
       "      <td>PF16796</td>\n",
       "      <td>NaN</td>\n",
       "      <td>fn3_2; Fibronectin type III domain, fungi</td>\n",
       "    </tr>\n",
       "    <tr>\n",
       "      <th>33</th>\n",
       "      <td>PF04912</td>\n",
       "      <td>NaN</td>\n",
       "      <td>Med4; Mediator complex, subunit Med4</td>\n",
       "    </tr>\n",
       "    <tr>\n",
       "      <th>34</th>\n",
       "      <td>PF02229</td>\n",
       "      <td>NaN</td>\n",
       "      <td>Exo_endo_phos; Endonuclease/exonuclease/phosph...</td>\n",
       "    </tr>\n",
       "    <tr>\n",
       "      <th>35</th>\n",
       "      <td>PF00106</td>\n",
       "      <td>NaN</td>\n",
       "      <td>ABC_tran_Xtn; ABC-transporter extension domain</td>\n",
       "    </tr>\n",
       "    <tr>\n",
       "      <th>36</th>\n",
       "      <td>PF00106</td>\n",
       "      <td>NaN</td>\n",
       "      <td>ABC_tran_Xtn; ABC-transporter extension domain</td>\n",
       "    </tr>\n",
       "    <tr>\n",
       "      <th>37</th>\n",
       "      <td>PF03031</td>\n",
       "      <td>NaN</td>\n",
       "      <td>Gcn1_N; Gcn1, N-terminal</td>\n",
       "    </tr>\n",
       "    <tr>\n",
       "      <th>38</th>\n",
       "      <td>PF03031</td>\n",
       "      <td>NaN</td>\n",
       "      <td>Gcn1_N; Gcn1, N-terminal</td>\n",
       "    </tr>\n",
       "    <tr>\n",
       "      <th>39</th>\n",
       "      <td>PF09494</td>\n",
       "      <td>NaN</td>\n",
       "      <td>RibD_C; Bacterial bifunctional deaminase-reduc...</td>\n",
       "    </tr>\n",
       "    <tr>\n",
       "      <th>40</th>\n",
       "      <td>PF01409</td>\n",
       "      <td>NaN</td>\n",
       "      <td>DNA_pol_B_thumb; DNA polymerase beta, thumb do...</td>\n",
       "    </tr>\n",
       "    <tr>\n",
       "      <th>41</th>\n",
       "      <td>PF01409</td>\n",
       "      <td>NaN</td>\n",
       "      <td>DNA_pol_B_thumb; DNA polymerase beta, thumb do...</td>\n",
       "    </tr>\n",
       "    <tr>\n",
       "      <th>42</th>\n",
       "      <td>PF01025</td>\n",
       "      <td>NaN</td>\n",
       "      <td>Chalcone_2; Chalcone isomerase</td>\n",
       "    </tr>\n",
       "    <tr>\n",
       "      <th>43</th>\n",
       "      <td>PF00833</td>\n",
       "      <td>NaN</td>\n",
       "      <td>CPL; CPL domain</td>\n",
       "    </tr>\n",
       "    <tr>\n",
       "      <th>44</th>\n",
       "      <td>PF00833</td>\n",
       "      <td>NaN</td>\n",
       "      <td>CPL; CPL domain</td>\n",
       "    </tr>\n",
       "    <tr>\n",
       "      <th>45</th>\n",
       "      <td>PF00399</td>\n",
       "      <td>NaN</td>\n",
       "      <td>Alpha_adaptinC2; Clathrin adaptor, alpha/beta/...</td>\n",
       "    </tr>\n",
       "    <tr>\n",
       "      <th>46</th>\n",
       "      <td>PF03876</td>\n",
       "      <td>NaN</td>\n",
       "      <td>Hydantoinase_B; Hydantoinase B/oxoprolinase</td>\n",
       "    </tr>\n",
       "    <tr>\n",
       "      <th>47</th>\n",
       "      <td>PF12921</td>\n",
       "      <td>NaN</td>\n",
       "      <td>TFIIA_gamma_C; Transcription initiation factor...</td>\n",
       "    </tr>\n",
       "    <tr>\n",
       "      <th>48</th>\n",
       "      <td>PF04383</td>\n",
       "      <td>NaN</td>\n",
       "      <td>Lysine_decarbox; LOG family</td>\n",
       "    </tr>\n",
       "    <tr>\n",
       "      <th>49</th>\n",
       "      <td>PF04383</td>\n",
       "      <td>NaN</td>\n",
       "      <td>Lysine_decarbox; LOG family</td>\n",
       "    </tr>\n",
       "    <tr>\n",
       "      <th>50</th>\n",
       "      <td>PF10232</td>\n",
       "      <td>NaN</td>\n",
       "      <td>Ribosomal_S11; Ribosomal protein S11</td>\n",
       "    </tr>\n",
       "    <tr>\n",
       "      <th>51</th>\n",
       "      <td>PF03114</td>\n",
       "      <td>NaN</td>\n",
       "      <td>Glyco_hydro_18; Glycoside hydrolase family 18,...</td>\n",
       "    </tr>\n",
       "    <tr>\n",
       "      <th>52</th>\n",
       "      <td>PF10198</td>\n",
       "      <td>NaN</td>\n",
       "      <td>Ribosomal_L5; Ribosomal protein L5, N-terminal</td>\n",
       "    </tr>\n",
       "    <tr>\n",
       "      <th>53</th>\n",
       "      <td>PF17082</td>\n",
       "      <td>NaN</td>\n",
       "      <td>zf-C3HC; Zinc finger, C3HC-like</td>\n",
       "    </tr>\n",
       "    <tr>\n",
       "      <th>54</th>\n",
       "      <td>PF04124</td>\n",
       "      <td>NaN</td>\n",
       "      <td>LIM; Zinc finger, LIM-type</td>\n",
       "    </tr>\n",
       "    <tr>\n",
       "      <th>55</th>\n",
       "      <td>PF00410</td>\n",
       "      <td>NaN</td>\n",
       "      <td>Aminotran_3; Aminotransferase class-III</td>\n",
       "    </tr>\n",
       "  </tbody>\n",
       "</table>\n",
       "</div>"
      ],
      "text/plain": [
       "   domain-name domain-description_x  \\\n",
       "7      PF01061                  NaN   \n",
       "8      PF00613                  NaN   \n",
       "9      PF02037                  NaN   \n",
       "10     PF03810                  NaN   \n",
       "11     PF12726                  NaN   \n",
       "12     PF02516                  NaN   \n",
       "13     PF00787                  NaN   \n",
       "14     PF01483                  NaN   \n",
       "15     PF11916                  NaN   \n",
       "16     PF03224                  NaN   \n",
       "17     PF00293                  NaN   \n",
       "18     PF09346                  NaN   \n",
       "19     PF00534                  NaN   \n",
       "20     PF00534                  NaN   \n",
       "21     PF00180                  NaN   \n",
       "22     PF00646                  NaN   \n",
       "23     PF03901                  NaN   \n",
       "24     PF09637                  NaN   \n",
       "25     PF11976                  NaN   \n",
       "26     PF09724                  NaN   \n",
       "27     PF09724                  NaN   \n",
       "28     PF00514                  NaN   \n",
       "29     PF09757                  NaN   \n",
       "30     PF00664                  NaN   \n",
       "31     PF02259                  NaN   \n",
       "32     PF16796                  NaN   \n",
       "33     PF04912                  NaN   \n",
       "34     PF02229                  NaN   \n",
       "35     PF00106                  NaN   \n",
       "36     PF00106                  NaN   \n",
       "37     PF03031                  NaN   \n",
       "38     PF03031                  NaN   \n",
       "39     PF09494                  NaN   \n",
       "40     PF01409                  NaN   \n",
       "41     PF01409                  NaN   \n",
       "42     PF01025                  NaN   \n",
       "43     PF00833                  NaN   \n",
       "44     PF00833                  NaN   \n",
       "45     PF00399                  NaN   \n",
       "46     PF03876                  NaN   \n",
       "47     PF12921                  NaN   \n",
       "48     PF04383                  NaN   \n",
       "49     PF04383                  NaN   \n",
       "50     PF10232                  NaN   \n",
       "51     PF03114                  NaN   \n",
       "52     PF10198                  NaN   \n",
       "53     PF17082                  NaN   \n",
       "54     PF04124                  NaN   \n",
       "55     PF00410                  NaN   \n",
       "\n",
       "                                 domain-description_y  \n",
       "7              Cid2; Caffeine-induced death protein 2  \n",
       "8       Biotin_carb_C; Biotin carboxylase, C-terminal  \n",
       "9   ELFV_dehydrog; Glutamate/phenylalanine/leucine...  \n",
       "10               His_biosynth; Histidine biosynthesis  \n",
       "11  Steroid_dh; 3-oxo-5-alpha-steroid 4-dehydrogen...  \n",
       "12                                             FUSC_2  \n",
       "13  COP-gamma_platf; Coatomer, gamma subunit, appe...  \n",
       "14          DUF155; Domain of unknown function DUF155  \n",
       "15                                         Scramblase  \n",
       "16  Gp_dh_C; Glyceraldehyde 3-phosphate dehydrogen...  \n",
       "17        A_deaminase; Adenosine/AMP deaminase domain  \n",
       "18              RasGAP; Ras GTPase-activating protein  \n",
       "19                                              BAR_3  \n",
       "20                                              BAR_3  \n",
       "21  ANAPC4; Anaphase-promoting complex subunit 4 l...  \n",
       "22                           CASP_C; CASP, C-terminal  \n",
       "23                                     Hydrolase_like  \n",
       "24                         Ribophorin_I; Ribophorin I  \n",
       "25                                              Sec20  \n",
       "26                                      Ribosomal_60s  \n",
       "27                                      Ribosomal_60s  \n",
       "28                                          BAF1_ABF1  \n",
       "29      Ribosomal_L14e; Ribosomal protein L14e domain  \n",
       "30                      CDC24; Cdc24/Scd1, N-terminal  \n",
       "31  F420_oxidored; Pyrroline-5-carboxylate reducta...  \n",
       "32          fn3_2; Fibronectin type III domain, fungi  \n",
       "33               Med4; Mediator complex, subunit Med4  \n",
       "34  Exo_endo_phos; Endonuclease/exonuclease/phosph...  \n",
       "35     ABC_tran_Xtn; ABC-transporter extension domain  \n",
       "36     ABC_tran_Xtn; ABC-transporter extension domain  \n",
       "37                           Gcn1_N; Gcn1, N-terminal  \n",
       "38                           Gcn1_N; Gcn1, N-terminal  \n",
       "39  RibD_C; Bacterial bifunctional deaminase-reduc...  \n",
       "40  DNA_pol_B_thumb; DNA polymerase beta, thumb do...  \n",
       "41  DNA_pol_B_thumb; DNA polymerase beta, thumb do...  \n",
       "42                     Chalcone_2; Chalcone isomerase  \n",
       "43                                    CPL; CPL domain  \n",
       "44                                    CPL; CPL domain  \n",
       "45  Alpha_adaptinC2; Clathrin adaptor, alpha/beta/...  \n",
       "46        Hydantoinase_B; Hydantoinase B/oxoprolinase  \n",
       "47  TFIIA_gamma_C; Transcription initiation factor...  \n",
       "48                        Lysine_decarbox; LOG family  \n",
       "49                        Lysine_decarbox; LOG family  \n",
       "50               Ribosomal_S11; Ribosomal protein S11  \n",
       "51  Glyco_hydro_18; Glycoside hydrolase family 18,...  \n",
       "52     Ribosomal_L5; Ribosomal protein L5, N-terminal  \n",
       "53                    zf-C3HC; Zinc finger, C3HC-like  \n",
       "54                         LIM; Zinc finger, LIM-type  \n",
       "55            Aminotran_3; Aminotransferase class-III  "
      ]
     },
     "execution_count": 30,
     "metadata": {},
     "output_type": "execute_result"
    }
   ],
   "source": [
    "only_nsl_pd=pd.merge(repeated_features_sl,repeated_features_nsl,how='right',on=['domain-name'])\n",
    "data_only_nsl = only_nsl_pd[pd.isnull(only_nsl_pd['domain-description_x'])]\n",
    "data_only_nsl"
   ]
  },
  {
   "cell_type": "code",
   "execution_count": 31,
   "metadata": {
    "execution": {
     "iopub.execute_input": "2020-07-14T03:03:29.030949Z",
     "iopub.status.busy": "2020-07-14T03:03:29.030479Z",
     "iopub.status.idle": "2020-07-14T03:03:29.039618Z",
     "shell.execute_reply": "2020-07-14T03:03:29.039184Z"
    }
   },
   "outputs": [
    {
     "data": {
      "text/html": [
       "<div>\n",
       "<style scoped>\n",
       "    .dataframe tbody tr th:only-of-type {\n",
       "        vertical-align: middle;\n",
       "    }\n",
       "\n",
       "    .dataframe tbody tr th {\n",
       "        vertical-align: top;\n",
       "    }\n",
       "\n",
       "    .dataframe thead th {\n",
       "        text-align: right;\n",
       "    }\n",
       "</style>\n",
       "<table border=\"1\" class=\"dataframe\">\n",
       "  <thead>\n",
       "    <tr style=\"text-align: right;\">\n",
       "      <th></th>\n",
       "      <th>domain-name</th>\n",
       "      <th>domain-description_x</th>\n",
       "      <th>domain-description_y</th>\n",
       "    </tr>\n",
       "  </thead>\n",
       "  <tbody>\n",
       "    <tr>\n",
       "      <th>0</th>\n",
       "      <td>PF13793</td>\n",
       "      <td>Tom37; Mitochondrial outer membrane transport ...</td>\n",
       "      <td>Tom37; Mitochondrial outer membrane transport ...</td>\n",
       "    </tr>\n",
       "    <tr>\n",
       "      <th>1</th>\n",
       "      <td>PF00025</td>\n",
       "      <td>5-FTHF_cyc-lig; 5-formyltetrahydrofolate cyclo...</td>\n",
       "      <td>5-FTHF_cyc-lig; 5-formyltetrahydrofolate cyclo...</td>\n",
       "    </tr>\n",
       "    <tr>\n",
       "      <th>2</th>\n",
       "      <td>PF05179</td>\n",
       "      <td>Mob1_phocein; MOB kinase activator family</td>\n",
       "      <td>Mob1_phocein; MOB kinase activator family</td>\n",
       "    </tr>\n",
       "    <tr>\n",
       "      <th>3</th>\n",
       "      <td>PF08801</td>\n",
       "      <td>RRM; RNA-binding domain, putative</td>\n",
       "      <td>RRM; RNA-binding domain, putative</td>\n",
       "    </tr>\n",
       "    <tr>\n",
       "      <th>4</th>\n",
       "      <td>PF00786</td>\n",
       "      <td>COMPASS-Shg1</td>\n",
       "      <td>COMPASS-Shg1</td>\n",
       "    </tr>\n",
       "    <tr>\n",
       "      <th>5</th>\n",
       "      <td>PF12709</td>\n",
       "      <td>Spt5_N; Spt5 transcription elongation factor, ...</td>\n",
       "      <td>Spt5_N; Spt5 transcription elongation factor, ...</td>\n",
       "    </tr>\n",
       "    <tr>\n",
       "      <th>6</th>\n",
       "      <td>PF02453</td>\n",
       "      <td>FMO-like; Flavin monooxygenase-like</td>\n",
       "      <td>FMO-like; Flavin monooxygenase-like</td>\n",
       "    </tr>\n",
       "  </tbody>\n",
       "</table>\n",
       "</div>"
      ],
      "text/plain": [
       "  domain-name                               domain-description_x  \\\n",
       "0     PF13793  Tom37; Mitochondrial outer membrane transport ...   \n",
       "1     PF00025  5-FTHF_cyc-lig; 5-formyltetrahydrofolate cyclo...   \n",
       "2     PF05179          Mob1_phocein; MOB kinase activator family   \n",
       "3     PF08801                  RRM; RNA-binding domain, putative   \n",
       "4     PF00786                                       COMPASS-Shg1   \n",
       "5     PF12709  Spt5_N; Spt5 transcription elongation factor, ...   \n",
       "6     PF02453                FMO-like; Flavin monooxygenase-like   \n",
       "\n",
       "                                domain-description_y  \n",
       "0  Tom37; Mitochondrial outer membrane transport ...  \n",
       "1  5-FTHF_cyc-lig; 5-formyltetrahydrofolate cyclo...  \n",
       "2          Mob1_phocein; MOB kinase activator family  \n",
       "3                  RRM; RNA-binding domain, putative  \n",
       "4                                       COMPASS-Shg1  \n",
       "5  Spt5_N; Spt5 transcription elongation factor, ...  \n",
       "6                FMO-like; Flavin monooxygenase-like  "
      ]
     },
     "execution_count": 31,
     "metadata": {},
     "output_type": "execute_result"
    }
   ],
   "source": [
    "shared_domains_pd=pd.merge(repeated_features_sl,repeated_features_nsl,how='inner',on=['domain-name'])\n",
    "shared_domains_pd\n"
   ]
  },
  {
   "cell_type": "code",
   "execution_count": 32,
   "metadata": {
    "execution": {
     "iopub.execute_input": "2020-07-14T03:03:29.048231Z",
     "iopub.status.busy": "2020-07-14T03:03:29.047654Z",
     "iopub.status.idle": "2020-07-14T03:03:30.392045Z",
     "shell.execute_reply": "2020-07-14T03:03:30.392628Z"
    }
   },
   "outputs": [
    {
     "data": {
      "text/plain": [
       "(0.0, 0.2)"
      ]
     },
     "execution_count": 32,
     "metadata": {},
     "output_type": "execute_result"
    },
    {
     "data": {
      "image/png": "[encoded data removed]",
      "text/plain": [
       "<Figure size 432x288 with 1 Axes>"
      ]
     },
     "metadata": {
      "filenames": {
       "image/png": "/home/runner/work/jupyter-book/jupyter-book/mini_book/docs/_build/jupyter_execute/prot_domains2lethality-FEATURES-POSTPROCESSING_47_1.png"
      },
      "needs_background": "light"
     },
     "output_type": "display_data"
    }
   ],
   "source": [
    "a_sl=x_sl.iloc[:,np.sort(df_sl.iloc[:,1])]\n",
    "a_sl.describe().loc['mean'].hist(bins=8),\n",
    "a_sl.describe().loc['std'].hist(bins=8,alpha=0.4)\n",
    "plt.xlim([0,0.2])"
   ]
  },
  {
   "cell_type": "code",
   "execution_count": 33,
   "metadata": {
    "execution": {
     "iopub.execute_input": "2020-07-14T03:03:30.404254Z",
     "iopub.status.busy": "2020-07-14T03:03:30.402002Z",
     "iopub.status.idle": "2020-07-14T03:03:31.824414Z",
     "shell.execute_reply": "2020-07-14T03:03:31.825102Z"
    }
   },
   "outputs": [
    {
     "data": {
      "text/plain": [
       "(0.0, 0.2)"
      ]
     },
     "execution_count": 33,
     "metadata": {},
     "output_type": "execute_result"
    },
    {
     "data": {
      "image/png": "[encoded data removed]",
      "text/plain": [
       "<Figure size 432x288 with 1 Axes>"
      ]
     },
     "metadata": {
      "filenames": {
       "image/png": "/home/runner/work/jupyter-book/jupyter-book/mini_book/docs/_build/jupyter_execute/prot_domains2lethality-FEATURES-POSTPROCESSING_48_1.png"
      },
      "needs_background": "light"
     },
     "output_type": "display_data"
    }
   ],
   "source": [
    "a_nsl=x_nsl.iloc[:,np.sort(df_nsl.iloc[:,1])]\n",
    "a_nsl.describe().loc['mean'].hist(bins=8),\n",
    "a_nsl.describe().loc['std'].hist(bins=8,alpha=0.4)\n",
    "plt.xlim([0,0.2])"
   ]
  },
  {
   "cell_type": "markdown",
   "metadata": {},
   "source": [
    "### Proof of concept with *BEM1*\n",
    "\n",
    "- Gather the domains of SL and nSL pairs from BEM1\n",
    "- Check if the domains for the SL and nSL pairs are inside the most important domains after PCA."
   ]
  },
  {
   "cell_type": "code",
   "execution_count": 34,
   "metadata": {
    "execution": {
     "iopub.execute_input": "2020-07-14T03:03:31.827583Z",
     "iopub.status.busy": "2020-07-14T03:03:31.827085Z",
     "iopub.status.idle": "2020-07-14T03:03:31.834334Z",
     "shell.execute_reply": "2020-07-14T03:03:31.833914Z"
    }
   },
   "outputs": [],
   "source": [
    "domains_bem1=data_domains[data_domains['name']=='BEM1']['domain-descrip']\n",
    "sl_bem1=data_sl[data_sl['gene-query-name']=='BEM1']['gene-target-name']"
   ]
  },
  {
   "cell_type": "code",
   "execution_count": 35,
   "metadata": {
    "execution": {
     "iopub.execute_input": "2020-07-14T03:03:31.839480Z",
     "iopub.status.busy": "2020-07-14T03:03:31.838946Z",
     "iopub.status.idle": "2020-07-14T03:03:31.841379Z",
     "shell.execute_reply": "2020-07-14T03:03:31.841760Z"
    }
   },
   "outputs": [
    {
     "data": {
      "text/plain": [
       "2846      BEM2\n",
       "2847     CDC24\n",
       "5004      MSB1\n",
       "13777     SMI1\n",
       "13778     BNI1\n",
       "13779     BEM2\n",
       "14385     SKN7\n",
       "Name: gene-target-name, dtype: object"
      ]
     },
     "execution_count": 35,
     "metadata": {},
     "output_type": "execute_result"
    }
   ],
   "source": [
    "sl_bem1"
   ]
  },
  {
   "cell_type": "code",
   "execution_count": 36,
   "metadata": {
    "execution": {
     "iopub.execute_input": "2020-07-14T03:03:31.858556Z",
     "iopub.status.busy": "2020-07-14T03:03:31.857998Z",
     "iopub.status.idle": "2020-07-14T03:03:31.860924Z",
     "shell.execute_reply": "2020-07-14T03:03:31.861356Z"
    }
   },
   "outputs": [
    {
     "data": {
      "text/html": [
       "<div>\n",
       "<style scoped>\n",
       "    .dataframe tbody tr th:only-of-type {\n",
       "        vertical-align: middle;\n",
       "    }\n",
       "\n",
       "    .dataframe tbody tr th {\n",
       "        vertical-align: top;\n",
       "    }\n",
       "\n",
       "    .dataframe thead th {\n",
       "        text-align: right;\n",
       "    }\n",
       "</style>\n",
       "<table border=\"1\" class=\"dataframe\">\n",
       "  <thead>\n",
       "    <tr style=\"text-align: right;\">\n",
       "      <th></th>\n",
       "      <th>gene-query</th>\n",
       "      <th>gene-target</th>\n",
       "      <th>gene-query-name</th>\n",
       "      <th>gene-target-name</th>\n",
       "      <th>gene-query-description</th>\n",
       "      <th>gene-target-description</th>\n",
       "      <th>interaction-type</th>\n",
       "      <th>paper-source</th>\n",
       "    </tr>\n",
       "  </thead>\n",
       "  <tbody>\n",
       "    <tr>\n",
       "      <th>2846</th>\n",
       "      <td>YBR200W</td>\n",
       "      <td>YER155C</td>\n",
       "      <td>BEM1</td>\n",
       "      <td>BEM2</td>\n",
       "      <td>SRO1|phosphatidylinositol-3-phosphate-binding ...</td>\n",
       "      <td>IPL2|SUP9|TSL1|L000000168</td>\n",
       "      <td>Synthetic Lethality</td>\n",
       "      <td>Peterson J (1994)</td>\n",
       "    </tr>\n",
       "    <tr>\n",
       "      <th>2847</th>\n",
       "      <td>YBR200W</td>\n",
       "      <td>YAL041W</td>\n",
       "      <td>BEM1</td>\n",
       "      <td>CDC24</td>\n",
       "      <td>SRO1|phosphatidylinositol-3-phosphate-binding ...</td>\n",
       "      <td>CLS4|Rho family guanine nucleotide exchange fa...</td>\n",
       "      <td>Synthetic Lethality</td>\n",
       "      <td>Peterson J (1994)</td>\n",
       "    </tr>\n",
       "    <tr>\n",
       "      <th>5004</th>\n",
       "      <td>YBR200W</td>\n",
       "      <td>YOR188W</td>\n",
       "      <td>BEM1</td>\n",
       "      <td>MSB1</td>\n",
       "      <td>SRO1|phosphatidylinositol-3-phosphate-binding ...</td>\n",
       "      <td>L000001184</td>\n",
       "      <td>Synthetic Lethality</td>\n",
       "      <td>Bender A (1991)</td>\n",
       "    </tr>\n",
       "    <tr>\n",
       "      <th>13777</th>\n",
       "      <td>YBR200W</td>\n",
       "      <td>YGR229C</td>\n",
       "      <td>BEM1</td>\n",
       "      <td>SMI1</td>\n",
       "      <td>SRO1|phosphatidylinositol-3-phosphate-binding ...</td>\n",
       "      <td>KNR4|L000000909</td>\n",
       "      <td>Synthetic Lethality</td>\n",
       "      <td>Gorelik M (2011)</td>\n",
       "    </tr>\n",
       "    <tr>\n",
       "      <th>13778</th>\n",
       "      <td>YBR200W</td>\n",
       "      <td>YNL271C</td>\n",
       "      <td>BEM1</td>\n",
       "      <td>BNI1</td>\n",
       "      <td>SRO1|phosphatidylinositol-3-phosphate-binding ...</td>\n",
       "      <td>PPF3|SHE5|formin BNI1|L000000190</td>\n",
       "      <td>Synthetic Lethality</td>\n",
       "      <td>Gorelik M (2011)</td>\n",
       "    </tr>\n",
       "    <tr>\n",
       "      <th>13779</th>\n",
       "      <td>YBR200W</td>\n",
       "      <td>YER155C</td>\n",
       "      <td>BEM1</td>\n",
       "      <td>BEM2</td>\n",
       "      <td>SRO1|phosphatidylinositol-3-phosphate-binding ...</td>\n",
       "      <td>IPL2|SUP9|TSL1|L000000168</td>\n",
       "      <td>Synthetic Lethality</td>\n",
       "      <td>Gorelik M (2011)</td>\n",
       "    </tr>\n",
       "    <tr>\n",
       "      <th>14385</th>\n",
       "      <td>YBR200W</td>\n",
       "      <td>YHR206W</td>\n",
       "      <td>BEM1</td>\n",
       "      <td>SKN7</td>\n",
       "      <td>SRO1|phosphatidylinositol-3-phosphate-binding ...</td>\n",
       "      <td>BRY1|POS9|kinase-regulated stress-responsive t...</td>\n",
       "      <td>Dosage Lethality</td>\n",
       "      <td>Bouquin N (1999)</td>\n",
       "    </tr>\n",
       "  </tbody>\n",
       "</table>\n",
       "</div>"
      ],
      "text/plain": [
       "      gene-query gene-target gene-query-name gene-target-name  \\\n",
       "2846     YBR200W     YER155C            BEM1             BEM2   \n",
       "2847     YBR200W     YAL041W            BEM1            CDC24   \n",
       "5004     YBR200W     YOR188W            BEM1             MSB1   \n",
       "13777    YBR200W     YGR229C            BEM1             SMI1   \n",
       "13778    YBR200W     YNL271C            BEM1             BNI1   \n",
       "13779    YBR200W     YER155C            BEM1             BEM2   \n",
       "14385    YBR200W     YHR206W            BEM1             SKN7   \n",
       "\n",
       "                                  gene-query-description  \\\n",
       "2846   SRO1|phosphatidylinositol-3-phosphate-binding ...   \n",
       "2847   SRO1|phosphatidylinositol-3-phosphate-binding ...   \n",
       "5004   SRO1|phosphatidylinositol-3-phosphate-binding ...   \n",
       "13777  SRO1|phosphatidylinositol-3-phosphate-binding ...   \n",
       "13778  SRO1|phosphatidylinositol-3-phosphate-binding ...   \n",
       "13779  SRO1|phosphatidylinositol-3-phosphate-binding ...   \n",
       "14385  SRO1|phosphatidylinositol-3-phosphate-binding ...   \n",
       "\n",
       "                                 gene-target-description     interaction-type  \\\n",
       "2846                           IPL2|SUP9|TSL1|L000000168  Synthetic Lethality   \n",
       "2847   CLS4|Rho family guanine nucleotide exchange fa...  Synthetic Lethality   \n",
       "5004                                          L000001184  Synthetic Lethality   \n",
       "13777                                    KNR4|L000000909  Synthetic Lethality   \n",
       "13778                   PPF3|SHE5|formin BNI1|L000000190  Synthetic Lethality   \n",
       "13779                          IPL2|SUP9|TSL1|L000000168  Synthetic Lethality   \n",
       "14385  BRY1|POS9|kinase-regulated stress-responsive t...     Dosage Lethality   \n",
       "\n",
       "            paper-source  \n",
       "2846   Peterson J (1994)  \n",
       "2847   Peterson J (1994)  \n",
       "5004     Bender A (1991)  \n",
       "13777   Gorelik M (2011)  \n",
       "13778   Gorelik M (2011)  \n",
       "13779   Gorelik M (2011)  \n",
       "14385   Bouquin N (1999)  "
      ]
     },
     "execution_count": 36,
     "metadata": {},
     "output_type": "execute_result"
    }
   ],
   "source": [
    "data_sl[data_sl['gene-query-name']=='BEM1']"
   ]
  },
  {
   "cell_type": "code",
   "execution_count": null,
   "metadata": {},
   "outputs": [],
   "source": []
  }
 ],
 "metadata": {
  "jupytext": {
   "text_representation": {
    "extension": ".md",
    "format_name": "myst"
   }
  },
  "kernelspec": {
   "display_name": "Python 3",
   "language": "python",
   "name": "python3"
  },
  "language_info": {
   "codemirror_mode": {
    "name": "ipython",
    "version": 3
   },
   "file_extension": ".py",
   "mimetype": "text/x-python",
   "name": "python",
   "nbconvert_exporter": "python",
   "pygments_lexer": "ipython3",
   "version": "3.7.6"
  },
  "source_map": [
   10,
   18,
   29,
   36,
   57,
   66,
   98,
   101,
   105,
   128,
   131,
   135,
   139,
   145,
   178,
   184,
   188,
   206,
   210,
   218,
   222,
   225,
   229,
   234,
   238,
   244,
   248,
   253,
   257,
   267,
   269,
   273,
   306,
   311,
   313,
   317,
   328,
   330,
   334,
   344,
   348,
   358,
   360,
   364,
   381,
   388,
   394,
   400,
   407,
   412,
   419,
   424,
   428,
   432
  ]
 },
 "nbformat": 4,
 "nbformat_minor": 4
}