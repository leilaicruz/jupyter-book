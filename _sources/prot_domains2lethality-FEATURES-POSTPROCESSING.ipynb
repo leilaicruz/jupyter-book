{
 "cells": [
  {
   "cell_type": "markdown",
   "metadata": {},
   "source": [
    "# Feature postprocessing from paper.\n",
    "- Title:  \"Predicting yeast synthetic lethal genetic interactions using protein domains\"\n",
    "- Authors: Bo Li, Feng Luo,School of Computing,Clemson University,Clemson, SC, USA\n",
    "- e-mail: bol, luofeng@clemson.edu\n",
    "- year:2009"
   ]
  },
  {
   "cell_type": "code",
   "execution_count": 1,
   "metadata": {
    "execution": {
     "iopub.execute_input": "2020-07-22T19:06:17.868939Z",
     "iopub.status.busy": "2020-07-22T19:06:17.867654Z",
     "iopub.status.idle": "2020-07-22T19:06:18.652826Z",
     "shell.execute_reply": "2020-07-22T19:06:18.652350Z"
    }
   },
   "outputs": [],
   "source": [
    "import pandas as pd\n",
    "import numpy as np\n",
    "import matplotlib.pyplot as plt\n",
    "from collections import defaultdict \n",
    "import seaborn as sns\n",
    "import matplotlib.cm as cm\n",
    "import scipy as scipy\n",
    "import random"
   ]
  },
  {
   "cell_type": "markdown",
   "metadata": {
    "jupyter": {
     "source_hidden": true
    }
   },
   "source": [
    "### Importing datasets \n",
    "\n",
    "#### Link to the github repo where the datasets to be downloaded:\n",
    "[DOWNLOAD THE DATASETS HERE](https://github.com/leilaicruz/machine-learning-for-yeast/tree/dev_Leila/datasets-for-learning)"
   ]
  },
  {
   "cell_type": "code",
   "execution_count": 2,
   "metadata": {
    "execution": {
     "iopub.execute_input": "2020-07-22T19:06:18.660072Z",
     "iopub.status.busy": "2020-07-22T19:06:18.659545Z",
     "iopub.status.idle": "2020-07-22T19:06:26.780667Z",
     "shell.execute_reply": "2020-07-22T19:06:26.780159Z"
    }
   },
   "outputs": [],
   "source": [
    "import os\n",
    "script_dir = os.path.dirname('__file__') #<-- absolute dir the script is in\n",
    "rel_path_SL = \"datasets/data-synthetic-lethals.xlsx\"\n",
    "rel_path_nSL=\"datasets/data-positive-genetic.xlsx\"\n",
    "rel_path_domains=\"datasets/proteins-domains-from-Pfam.xlsx\"\n",
    "\n",
    "abs_file_path_SL = os.path.join(script_dir, rel_path_SL)\n",
    "abs_file_path_nSL = os.path.join(script_dir, rel_path_nSL)\n",
    "abs_file_path_domains = os.path.join(script_dir, rel_path_domains)\n",
    "\n",
    "# os.chdir('mini_book/docs/') #<-- for binder os.chdir('../')\n",
    "# os.chdir('../')\n",
    "my_path_sl= abs_file_path_SL\n",
    "my_path_non_sl=abs_file_path_nSL\n",
    "my_path_domains=abs_file_path_domains\n",
    "\n",
    "data_sl=pd.read_excel(my_path_sl,header=0)\n",
    "data_domains=pd.read_excel(my_path_domains,header=0,index_col='Unnamed: 0')\n",
    "data_domains=data_domains.dropna()\n",
    "data_nonsl=pd.read_excel(my_path_non_sl,header=0)"
   ]
  },
  {
   "cell_type": "markdown",
   "metadata": {},
   "source": [
    "## Building the feature matrix\n",
    "One matrix for true SL where each row is one pair of SL. Every raw will be a vector of 0,1 or 2 depending on the comparison with the domain list. For row i the jth element = 0 if the jth element of the domain list is not in neither protein A and B, 1, if it is in one of them and 2 if it is in both of them .\n",
    "\n",
    "### Building the list of proteins domains id per protein pair separately :\n",
    "- List of protein A: Search for the Sl/nSL database the query gene name and look in the protein domain database which protein domains id has each of those queries.\n",
    "- List of protein B: Search for the Sl/nSL database the target gene name of the previous query and look in the protein domain database which protein domains id has each of those target genes."
   ]
  },
  {
   "cell_type": "code",
   "execution_count": 3,
   "metadata": {
    "execution": {
     "iopub.execute_input": "2020-07-22T19:06:26.797524Z",
     "iopub.status.busy": "2020-07-22T19:06:26.796864Z",
     "iopub.status.idle": "2020-07-22T19:06:29.200408Z",
     "shell.execute_reply": "2020-07-22T19:06:29.199231Z"
    }
   },
   "outputs": [],
   "source": [
    "# Selecting the meaningful columns in the respective dataset\n",
    "domain_id_list=data_domains['domain-name']\n",
    "query_gene=data_sl['gene-query-name']\n",
    "target_gene=data_sl['gene-target-name']\n",
    "query_gene_nonlethal=data_nonsl['gene-query-name']\n",
    "target_gene_nonlethal=data_nonsl['gene-target-name']\n",
    "\n",
    "\n",
    "\n",
    "# Initialising the arrays\n",
    "protein_a_list=[]\n",
    "protein_b_list=[]\n",
    "protein_a_list_non=[]\n",
    "protein_b_list_non=[]\n",
    "\n",
    "population = np.arange(0,len(data_sl))\n",
    "\n",
    "# For loop for 10000 pairs sampled randomly from the SL/nSl pair list , and creating a big array of proteind domains id per protein pair\n",
    "\n",
    "for m in random.sample(list(population), 500):\n",
    "    protein_a=data_domains[data_domains['name']==query_gene[m]]\n",
    "    protein_b=data_domains[data_domains['name']==target_gene[m]]\n",
    "    protein_a_list.append(protein_a['domain-name'].tolist())\n",
    "    protein_b_list.append(protein_b['domain-name'].tolist())\n",
    "\n",
    "    protein_a_non=data_domains[data_domains['name']==query_gene_nonlethal[m]]\n",
    "    protein_b_non=data_domains[data_domains['name']==target_gene_nonlethal[m]]\n",
    "    protein_a_list_non.append(protein_a_non['domain-name'].tolist())\n",
    "    protein_b_list_non.append(protein_b_non['domain-name'].tolist())"
   ]
  },
  {
   "cell_type": "code",
   "execution_count": 4,
   "metadata": {
    "execution": {
     "iopub.execute_input": "2020-07-22T19:06:29.205699Z",
     "iopub.status.busy": "2020-07-22T19:06:29.204707Z",
     "iopub.status.idle": "2020-07-22T19:06:29.209600Z",
     "shell.execute_reply": "2020-07-22T19:06:29.208800Z"
    }
   },
   "outputs": [
    {
     "name": "stdout",
     "output_type": "stream",
     "text": [
      "We are going to analyze 500 protein pairs, out of 17871 SL protein pairs\n",
      "We are going to analyze 500 protein pairs, out of 43340 positive protein pairs\n"
     ]
    }
   ],
   "source": [
    "print('We are going to analyze',len((protein_a_list)) ,'protein pairs, out of',len(data_sl),'SL protein pairs')\n",
    "print('We are going to analyze',len((protein_a_list_non)) ,'protein pairs, out of',len(data_nonsl),'positive protein pairs')"
   ]
  },
  {
   "cell_type": "markdown",
   "metadata": {},
   "source": [
    "### Postprocessing #1:  Remove protein pairs from study if either protein in the pair does not contain any domain"
   ]
  },
  {
   "cell_type": "code",
   "execution_count": 5,
   "metadata": {
    "execution": {
     "iopub.execute_input": "2020-07-22T19:06:29.219516Z",
     "iopub.status.busy": "2020-07-22T19:06:29.218962Z",
     "iopub.status.idle": "2020-07-22T19:06:29.222244Z",
     "shell.execute_reply": "2020-07-22T19:06:29.222780Z"
    }
   },
   "outputs": [],
   "source": [
    "def remove_empty_domains(protein_list_search,protein_list_pair):\n",
    "    index=[]\n",
    "    for i in np.arange(0,len(protein_list_search)):\n",
    "        if protein_list_search[i]==[] or protein_list_pair[i]==[]:\n",
    "            index.append(i) ## index of empty values for the protein_a_list meaning they dont have any annotated domain\n",
    "\n",
    "    y=[x for x in np.arange(0,len(protein_list_search)) if x not in index] # a list with non empty values from protein_a list\n",
    "\n",
    "    protein_list_search_new=[]\n",
    "    protein_list_pair_new=[]\n",
    "    for i in y:\n",
    "        protein_list_search_new.append(protein_list_search[i])\n",
    "        protein_list_pair_new.append(protein_list_pair[i])\n",
    "    return protein_list_search_new,protein_list_pair_new\n",
    "\n",
    "## evaluating the function\n",
    "\n",
    "protein_a_list_new,protein_b_list_new=remove_empty_domains(protein_a_list,protein_b_list)\n",
    "\n",
    "protein_a_list_non_new,protein_b_list_non_new=remove_empty_domains(protein_a_list_non,protein_b_list_non)"
   ]
  },
  {
   "cell_type": "code",
   "execution_count": 6,
   "metadata": {
    "execution": {
     "iopub.execute_input": "2020-07-22T19:06:29.227082Z",
     "iopub.status.busy": "2020-07-22T19:06:29.226517Z",
     "iopub.status.idle": "2020-07-22T19:06:29.231430Z",
     "shell.execute_reply": "2020-07-22T19:06:29.232006Z"
    }
   },
   "outputs": [
    {
     "name": "stdout",
     "output_type": "stream",
     "text": [
      "The empty domain in the SL were: 71 out of 500 domains\n",
      "The empty domain in the nSL were: 92 out of 500 domains\n"
     ]
    }
   ],
   "source": [
    "print('The empty domain in the SL were:', len(protein_a_list)-len(protein_a_list_new), 'out of', len(protein_a_list),'domains')\n",
    "print('The empty domain in the nSL were:', len(protein_a_list_non)-len(protein_a_list_non_new), 'out of', len(protein_a_list_non),'domains')"
   ]
  },
  {
   "cell_type": "markdown",
   "metadata": {},
   "source": [
    "### Feature engineering: Select from each ordered indexes of domain id list which of them appear once, in both or in any of the domains of each protein pair"
   ]
  },
  {
   "cell_type": "markdown",
   "metadata": {},
   "source": [
    "#### Define function `get_indexes`"
   ]
  },
  {
   "cell_type": "code",
   "execution_count": 7,
   "metadata": {
    "execution": {
     "iopub.execute_input": "2020-07-22T19:06:29.238977Z",
     "iopub.status.busy": "2020-07-22T19:06:29.238379Z",
     "iopub.status.idle": "2020-07-22T19:06:29.242520Z",
     "shell.execute_reply": "2020-07-22T19:06:29.241683Z"
    }
   },
   "outputs": [
    {
     "data": {
      "text/plain": [
       "[1, 2]"
      ]
     },
     "execution_count": 7,
     "metadata": {},
     "output_type": "execute_result"
    }
   ],
   "source": [
    "get_indexes = lambda x, xs: [i for (y, i) in zip(xs, range(len(xs))) if x == y] # a function that give the index of whether a value appear in array or not\n",
    "a=[1,2,2,4,5,6,7,8,9,10]\n",
    "get_indexes(2,a)"
   ]
  },
  {
   "cell_type": "code",
   "execution_count": 8,
   "metadata": {
    "execution": {
     "iopub.execute_input": "2020-07-22T19:06:29.250791Z",
     "iopub.status.busy": "2020-07-22T19:06:29.249795Z",
     "iopub.status.idle": "2020-07-22T19:06:29.254229Z",
     "shell.execute_reply": "2020-07-22T19:06:29.253176Z"
    }
   },
   "outputs": [],
   "source": [
    "def feature_building(protein_a_list_new,protein_b_list_new):\n",
    "    x = np.unique(domain_id_list)\n",
    "    ## To avoid taking repeated domains from one protein of the pairs , lets reduced the domains of each protein from the pairs to their unique members\n",
    "    protein_a_list_unique=[]\n",
    "    protein_b_list_unique=[]\n",
    "    for i in np.arange(0,len(protein_a_list_new)):\n",
    "        protein_a_list_unique.append(np.unique(protein_a_list_new[i]))\n",
    "        protein_b_list_unique.append(np.unique(protein_b_list_new[i]))\n",
    "        \n",
    "    protein_feat_true=np.zeros(shape=(len(x),len(protein_a_list_unique)))\n",
    "    pair_a_b_array=[]\n",
    "    for i in np.arange(0,len(protein_a_list_unique)):\n",
    "        index_a=[]\n",
    "        \n",
    "        pair=[protein_a_list_unique[i],protein_b_list_unique[i]]\n",
    "        pair_a_b=np.concatenate(pair).ravel()\n",
    "        pair_a_b_array.append(pair_a_b)\n",
    "\n",
    "    j=0\n",
    "    for i in pair_a_b_array:  \n",
    "        array,index,counts=np.unique(i,return_index=True,return_counts=True)\n",
    "        \n",
    "        for k,m in zip(counts,array):\n",
    "            if k ==2:\n",
    "                protein_feat_true[get_indexes(m,x),j]=2\n",
    "                \n",
    "            if k==1:\n",
    "                protein_feat_true[get_indexes(m,x),j]=1\n",
    "        j=j+1\n",
    "    return protein_feat_true"
   ]
  },
  {
   "cell_type": "code",
   "execution_count": 9,
   "metadata": {
    "execution": {
     "iopub.execute_input": "2020-07-22T19:06:29.263487Z",
     "iopub.status.busy": "2020-07-22T19:06:29.262273Z",
     "iopub.status.idle": "2020-07-22T19:06:30.021483Z",
     "shell.execute_reply": "2020-07-22T19:06:30.020931Z"
    }
   },
   "outputs": [],
   "source": [
    "protein_feat_true=feature_building(protein_b_list_new=protein_b_list_new,protein_a_list_new=protein_a_list_new)\n",
    "protein_feat_true_pd=pd.DataFrame(protein_feat_true.T)\n",
    "\n",
    "protein_feat_non_true=feature_building(protein_b_list_new=protein_b_list_non_new,protein_a_list_new=protein_a_list_non_new)\n",
    "protein_feat_non_true_pd=pd.DataFrame(protein_feat_non_true.T)"
   ]
  },
  {
   "cell_type": "markdown",
   "metadata": {},
   "source": [
    "### How many ones and twos are in each dataset"
   ]
  },
  {
   "cell_type": "code",
   "execution_count": 10,
   "metadata": {
    "execution": {
     "iopub.execute_input": "2020-07-22T19:06:30.030067Z",
     "iopub.status.busy": "2020-07-22T19:06:30.028916Z",
     "iopub.status.idle": "2020-07-22T19:06:30.132671Z",
     "shell.execute_reply": "2020-07-22T19:06:30.132003Z"
    }
   },
   "outputs": [
    {
     "name": "stdout",
     "output_type": "stream",
     "text": [
      "fraction of twos in the SL array is 2.9282012753087132e-05\n",
      "fraction of ones in the SL array is 0.001016394074245314\n",
      "fraction of twos in the PI array is 1.0533138875384864e-05\n",
      "fraction of ones in the PI array is 0.0009131421163506725\n"
     ]
    }
   ],
   "source": [
    "index_2_true=protein_feat_true_pd.where(protein_feat_true_pd==2)\n",
    "index_2_true_count=index_2_true.count(axis=1).sum()\n",
    "\n",
    "index_1_true=protein_feat_true_pd.where(protein_feat_true_pd==1)\n",
    "index_1_true_count=index_1_true.count(axis=1).sum()\n",
    "\n",
    "index_2_nontrue=protein_feat_non_true_pd.where(protein_feat_non_true_pd==2)\n",
    "index_2_nontrue_count=index_2_nontrue.count(axis=1).sum()\n",
    "\n",
    "index_1_nontrue=protein_feat_non_true_pd.where(protein_feat_non_true_pd==1)\n",
    "index_1_nontrue_count=index_1_nontrue.count(axis=1).sum()\n",
    "\n",
    "\n",
    "print('fraction of twos in the SL array is',index_2_true_count/(len(protein_feat_true_pd.index)*len(protein_feat_true_pd.columns)))\n",
    "print('fraction of ones in the SL array is',index_1_true_count/(len(protein_feat_true_pd.index)*len(protein_feat_true_pd.columns)))\n",
    "print('fraction of twos in the PI array is',index_2_nontrue_count/(len(protein_feat_non_true_pd.index)*len(protein_feat_non_true_pd.columns)))\n",
    "print('fraction of ones in the PI array is',index_1_nontrue_count/(len(protein_feat_non_true_pd.index)*len(protein_feat_non_true_pd.columns)))"
   ]
  },
  {
   "cell_type": "markdown",
   "metadata": {},
   "source": [
    "#### Bar plot to visualize these numbers"
   ]
  },
  {
   "cell_type": "code",
   "execution_count": 11,
   "metadata": {
    "execution": {
     "iopub.execute_input": "2020-07-22T19:06:30.156313Z",
     "iopub.status.busy": "2020-07-22T19:06:30.155715Z",
     "iopub.status.idle": "2020-07-22T19:06:30.663779Z",
     "shell.execute_reply": "2020-07-22T19:06:30.663047Z"
    }
   },
   "outputs": [
    {
     "data": {
      "text/plain": [
       "([0, 1, 2, 3],\n",
       " [Text(0, 0, ''), Text(0, 0, ''), Text(0, 0, ''), Text(0, 0, '')])"
      ]
     },
     "execution_count": 11,
     "metadata": {},
     "output_type": "execute_result"
    },
    {
     "data": {
      "image/png": "[encoded data removed]",
      "text/plain": [
       "<Figure size 432x288 with 1 Axes>"
      ]
     },
     "metadata": {
      "filenames": {
       "image/png": "/home/runner/work/jupyter-book/jupyter-book/mini_book/docs/_build/jupyter_execute/prot_domains2lethality-FEATURES-POSTPROCESSING_18_1.png"
      },
      "needs_background": "light"
     },
     "output_type": "display_data"
    }
   ],
   "source": [
    "plt.bar(['fraction of 2 in the nSL','fraction of 1 in the nSL'],[index_2_nontrue_count/(len(protein_feat_non_true_pd.index)*len(protein_feat_non_true_pd.columns)),index_1_nontrue_count/(len(protein_feat_non_true_pd.index)*len(protein_feat_non_true_pd.columns))],alpha=0.6,color=['blue','lightblue']), \n",
    "\n",
    "plt.bar(['fraction of 2 in SL ','fraction of 1 in SL'],[index_2_true_count/(len(protein_feat_true_pd.index)*len(protein_feat_true_pd.columns)),index_1_true_count/(len(protein_feat_true_pd.index)*len(protein_feat_true_pd.columns))],alpha=0.6,color=['coral','lightcoral'])\n",
    "\n",
    "plt.ylabel('Fraction from the population')\n",
    "plt.yscale('log')\n",
    "plt.xticks(rotation=40)"
   ]
  },
  {
   "cell_type": "markdown",
   "metadata": {},
   "source": [
    "#### Adding the labels(response variables) to each dataset"
   ]
  },
  {
   "cell_type": "code",
   "execution_count": 12,
   "metadata": {
    "execution": {
     "iopub.execute_input": "2020-07-22T19:06:30.670327Z",
     "iopub.status.busy": "2020-07-22T19:06:30.669736Z",
     "iopub.status.idle": "2020-07-22T19:06:30.677566Z",
     "shell.execute_reply": "2020-07-22T19:06:30.678069Z"
    }
   },
   "outputs": [],
   "source": [
    "protein_feat_true_pd['lethality']=np.ones(shape=(len(protein_a_list_new)))\n",
    "protein_feat_non_true_pd['lethality']=np.zeros(shape=(len(protein_a_list_non_new)))"
   ]
  },
  {
   "cell_type": "markdown",
   "metadata": {},
   "source": [
    "#### Joining both datasets"
   ]
  },
  {
   "cell_type": "code",
   "execution_count": 13,
   "metadata": {
    "execution": {
     "iopub.execute_input": "2020-07-22T19:06:30.683580Z",
     "iopub.status.busy": "2020-07-22T19:06:30.682503Z",
     "iopub.status.idle": "2020-07-22T19:06:30.721355Z",
     "shell.execute_reply": "2020-07-22T19:06:30.720848Z"
    }
   },
   "outputs": [
    {
     "name": "stdout",
     "output_type": "stream",
     "text": [
      "The number of features are: 3026\n",
      "The number of samples are: 837\n"
     ]
    }
   ],
   "source": [
    "feature_post=pd.concat([protein_feat_true_pd,protein_feat_non_true_pd],axis=0)\n",
    "feature_post=feature_post.set_index(np.arange(0,len(protein_a_list_new)+len(protein_a_list_non_new)))\n",
    "print('The number of features are:',feature_post.shape[1])\n",
    "print('The number of samples are:',feature_post.shape[0])"
   ]
  },
  {
   "cell_type": "markdown",
   "metadata": {},
   "source": [
    "### Postprocessing and exploration of the feature matrix of both datasets"
   ]
  },
  {
   "cell_type": "code",
   "execution_count": 14,
   "metadata": {
    "execution": {
     "iopub.execute_input": "2020-07-22T19:06:30.729117Z",
     "iopub.status.busy": "2020-07-22T19:06:30.728318Z",
     "iopub.status.idle": "2020-07-22T19:06:36.157131Z",
     "shell.execute_reply": "2020-07-22T19:06:36.156293Z"
    }
   },
   "outputs": [],
   "source": [
    "mean=feature_post.T.describe().loc['mean']\n",
    "std=feature_post.T.describe().loc['std']\n",
    "lethality=feature_post['lethality']\n",
    "\n",
    "corr_keys=pd.concat([mean,std,lethality],axis=1)"
   ]
  },
  {
   "cell_type": "markdown",
   "metadata": {},
   "source": [
    "### Viz of the stats"
   ]
  },
  {
   "cell_type": "code",
   "execution_count": 15,
   "metadata": {
    "execution": {
     "iopub.execute_input": "2020-07-22T19:06:36.220123Z",
     "iopub.status.busy": "2020-07-22T19:06:36.161980Z",
     "iopub.status.idle": "2020-07-22T19:06:37.937587Z",
     "shell.execute_reply": "2020-07-22T19:06:37.938600Z"
    }
   },
   "outputs": [
    {
     "data": {
      "text/plain": [
       "Text(0.5, 1.08, 'Pairplot to see data dependencies with Lethality')"
      ]
     },
     "execution_count": 15,
     "metadata": {},
     "output_type": "execute_result"
    },
    {
     "data": {
      "image/png": "[encoded data removed]",
      "text/plain": [
       "<Figure size 412x360 with 6 Axes>"
      ]
     },
     "metadata": {
      "filenames": {
       "image/png": "/home/runner/work/jupyter-book/jupyter-book/mini_book/docs/_build/jupyter_execute/prot_domains2lethality-FEATURES-POSTPROCESSING_26_1.png"
      },
      "needs_background": "light"
     },
     "output_type": "display_data"
    }
   ],
   "source": [
    "pair=sns.pairplot(corr_keys,hue='lethality',diag_kind='kde',kind='reg',palette='colorblind')\n",
    "pair.fig.suptitle('Pairplot to see data dependencies with Lethality',y=1.08)"
   ]
  },
  {
   "cell_type": "code",
   "execution_count": 16,
   "metadata": {
    "execution": {
     "iopub.execute_input": "2020-07-22T19:06:37.949942Z",
     "iopub.status.busy": "2020-07-22T19:06:37.948887Z",
     "iopub.status.idle": "2020-07-22T19:06:37.953131Z",
     "shell.execute_reply": "2020-07-22T19:06:37.951993Z"
    }
   },
   "outputs": [],
   "source": [
    "X, y = feature_post.drop(columns=[\"lethality\"]), feature_post[\"lethality\"]"
   ]
  },
  {
   "cell_type": "code",
   "execution_count": 17,
   "metadata": {
    "execution": {
     "iopub.execute_input": "2020-07-22T19:06:37.958636Z",
     "iopub.status.busy": "2020-07-22T19:06:37.957552Z",
     "iopub.status.idle": "2020-07-22T19:06:38.114371Z",
     "shell.execute_reply": "2020-07-22T19:06:38.113863Z"
    }
   },
   "outputs": [],
   "source": [
    "from sklearn.preprocessing import StandardScaler\n",
    "scaler = StandardScaler()\n",
    "x_sl=protein_feat_true_pd.drop(columns=['lethality'])\n",
    "x_nsl=protein_feat_non_true_pd.drop(columns=['lethality'])\n",
    "\n",
    "X_sl_scaled = scaler.fit_transform(x_sl)\n",
    "X_nsl_scaled = scaler.fit_transform(x_nsl)"
   ]
  },
  {
   "cell_type": "code",
   "execution_count": 18,
   "metadata": {
    "execution": {
     "iopub.execute_input": "2020-07-22T19:06:38.118760Z",
     "iopub.status.busy": "2020-07-22T19:06:38.118122Z",
     "iopub.status.idle": "2020-07-22T19:06:38.123831Z",
     "shell.execute_reply": "2020-07-22T19:06:38.123372Z"
    }
   },
   "outputs": [
    {
     "data": {
      "text/plain": [
       "(429, 3025)"
      ]
     },
     "execution_count": 18,
     "metadata": {},
     "output_type": "execute_result"
    }
   ],
   "source": [
    "np.shape(X_sl_scaled)"
   ]
  },
  {
   "cell_type": "markdown",
   "metadata": {},
   "source": [
    "## How redundant are each of the protein domains?"
   ]
  },
  {
   "cell_type": "code",
   "execution_count": 19,
   "metadata": {
    "execution": {
     "iopub.execute_input": "2020-07-22T19:06:38.132178Z",
     "iopub.status.busy": "2020-07-22T19:06:38.130762Z",
     "iopub.status.idle": "2020-07-22T19:06:38.132770Z",
     "shell.execute_reply": "2020-07-22T19:06:38.133193Z"
    }
   },
   "outputs": [],
   "source": [
    "def PCA_component_contribution(scaled_matrix,original_data):\n",
    "    from sklearn.decomposition import PCA\n",
    "\n",
    "    model = PCA(0.95).fit(scaled_matrix)\n",
    "    ## apply dimensionality reduction to X_train\n",
    "    output_pca = model.transform(scaled_matrix)\n",
    "    \n",
    "    total=sum(model.explained_variance_)\n",
    "\n",
    "\n",
    "   \n",
    "    # number of components , that it will be the number of main axes times the number of original components \n",
    "    n_pcs= model.components_.shape[0] # the amount of non redundant protein domains \n",
    "\n",
    "    # get the index of the most important feature on EACH component\n",
    "    # LIST COMPREHENSION HERE\n",
    "    most_important = [np.abs(model.components_[i]).argmax() for i in range(n_pcs)]\n",
    "\n",
    "    initial_feature_names = original_data.columns\n",
    "    # get the names\n",
    "    most_important_names = [initial_feature_names[most_important[i]] for i in range(n_pcs)]\n",
    "    \n",
    "\n",
    "    # LIST COMPREHENSION HERE AGAIN\n",
    "    dic = {'PC{}'.format(i): most_important_names[i] for i in range(n_pcs)}\n",
    "\n",
    "    # build the dataframe\n",
    "    df = pd.DataFrame(dic.items(),columns=['pca-component','domain-number'])\n",
    "\n",
    "    return df,model.components_"
   ]
  },
  {
   "cell_type": "code",
   "execution_count": 20,
   "metadata": {
    "execution": {
     "iopub.execute_input": "2020-07-22T19:06:38.137214Z",
     "iopub.status.busy": "2020-07-22T19:06:38.136632Z",
     "iopub.status.idle": "2020-07-22T19:06:38.901043Z",
     "shell.execute_reply": "2020-07-22T19:06:38.901627Z"
    }
   },
   "outputs": [],
   "source": [
    "df_sl,components_pca_nsl=PCA_component_contribution(X_nsl_scaled,x_nsl)\n",
    "df_nsl,components_pca_sl=PCA_component_contribution(X_sl_scaled,x_sl)"
   ]
  },
  {
   "cell_type": "code",
   "execution_count": 21,
   "metadata": {
    "execution": {
     "iopub.execute_input": "2020-07-22T19:06:38.904314Z",
     "iopub.status.busy": "2020-07-22T19:06:38.903778Z",
     "iopub.status.idle": "2020-07-22T19:06:38.911931Z",
     "shell.execute_reply": "2020-07-22T19:06:38.912538Z"
    }
   },
   "outputs": [
    {
     "data": {
      "text/html": [
       "<div>\n",
       "<style scoped>\n",
       "    .dataframe tbody tr th:only-of-type {\n",
       "        vertical-align: middle;\n",
       "    }\n",
       "\n",
       "    .dataframe tbody tr th {\n",
       "        vertical-align: top;\n",
       "    }\n",
       "\n",
       "    .dataframe thead th {\n",
       "        text-align: right;\n",
       "    }\n",
       "</style>\n",
       "<table border=\"1\" class=\"dataframe\">\n",
       "  <thead>\n",
       "    <tr style=\"text-align: right;\">\n",
       "      <th></th>\n",
       "      <th>pca-component</th>\n",
       "      <th>domain-number</th>\n",
       "    </tr>\n",
       "  </thead>\n",
       "  <tbody>\n",
       "    <tr>\n",
       "      <th>0</th>\n",
       "      <td>PC0</td>\n",
       "      <td>305</td>\n",
       "    </tr>\n",
       "    <tr>\n",
       "      <th>1</th>\n",
       "      <td>PC1</td>\n",
       "      <td>135</td>\n",
       "    </tr>\n",
       "    <tr>\n",
       "      <th>2</th>\n",
       "      <td>PC2</td>\n",
       "      <td>467</td>\n",
       "    </tr>\n",
       "    <tr>\n",
       "      <th>3</th>\n",
       "      <td>PC3</td>\n",
       "      <td>221</td>\n",
       "    </tr>\n",
       "    <tr>\n",
       "      <th>4</th>\n",
       "      <td>PC4</td>\n",
       "      <td>1519</td>\n",
       "    </tr>\n",
       "  </tbody>\n",
       "</table>\n",
       "</div>"
      ],
      "text/plain": [
       "  pca-component  domain-number\n",
       "0           PC0            305\n",
       "1           PC1            135\n",
       "2           PC2            467\n",
       "3           PC3            221\n",
       "4           PC4           1519"
      ]
     },
     "execution_count": 21,
     "metadata": {},
     "output_type": "execute_result"
    }
   ],
   "source": [
    "df_sl.head()"
   ]
  },
  {
   "cell_type": "markdown",
   "metadata": {},
   "source": [
    "## which are the shared domains between nSL and SL pairs , in the PCA reduced samples"
   ]
  },
  {
   "cell_type": "code",
   "execution_count": 22,
   "metadata": {
    "execution": {
     "iopub.execute_input": "2020-07-22T19:06:38.914892Z",
     "iopub.status.busy": "2020-07-22T19:06:38.914275Z",
     "iopub.status.idle": "2020-07-22T19:06:38.945898Z",
     "shell.execute_reply": "2020-07-22T19:06:38.946441Z"
    }
   },
   "outputs": [
    {
     "data": {
      "text/html": [
       "<div>\n",
       "<style scoped>\n",
       "    .dataframe tbody tr th:only-of-type {\n",
       "        vertical-align: middle;\n",
       "    }\n",
       "\n",
       "    .dataframe tbody tr th {\n",
       "        vertical-align: top;\n",
       "    }\n",
       "\n",
       "    .dataframe thead th {\n",
       "        text-align: right;\n",
       "    }\n",
       "</style>\n",
       "<table border=\"1\" class=\"dataframe\">\n",
       "  <thead>\n",
       "    <tr style=\"text-align: right;\">\n",
       "      <th></th>\n",
       "      <th>pca-component_x</th>\n",
       "      <th>domain-number</th>\n",
       "      <th>pca-component_y</th>\n",
       "      <th>domain-description</th>\n",
       "    </tr>\n",
       "  </thead>\n",
       "  <tbody>\n",
       "    <tr>\n",
       "      <th>0</th>\n",
       "      <td>PC6</td>\n",
       "      <td>1055</td>\n",
       "      <td>PC11</td>\n",
       "      <td>Glyco_hydro_63N; Glycosyl hydrolase family 63,...</td>\n",
       "    </tr>\n",
       "    <tr>\n",
       "      <th>1</th>\n",
       "      <td>PC15</td>\n",
       "      <td>300</td>\n",
       "      <td>PC12</td>\n",
       "      <td>BolA; BolA protein</td>\n",
       "    </tr>\n",
       "    <tr>\n",
       "      <th>2</th>\n",
       "      <td>PC17</td>\n",
       "      <td>62</td>\n",
       "      <td>PC19</td>\n",
       "      <td>AHSA1; Activator of Hsp90 ATPase homologue 1-like</td>\n",
       "    </tr>\n",
       "    <tr>\n",
       "      <th>3</th>\n",
       "      <td>PC18</td>\n",
       "      <td>875</td>\n",
       "      <td>PC29</td>\n",
       "      <td>FDF; FDF domain</td>\n",
       "    </tr>\n",
       "    <tr>\n",
       "      <th>4</th>\n",
       "      <td>PC28</td>\n",
       "      <td>440</td>\n",
       "      <td>PC81</td>\n",
       "      <td>Candida_ALS_N; Agglutinin-like protein, N-term...</td>\n",
       "    </tr>\n",
       "    <tr>\n",
       "      <th>5</th>\n",
       "      <td>PC30</td>\n",
       "      <td>463</td>\n",
       "      <td>PC22</td>\n",
       "      <td>Chitin_synth_1N; Chitin synthase N-terminal</td>\n",
       "    </tr>\n",
       "    <tr>\n",
       "      <th>6</th>\n",
       "      <td>PC30</td>\n",
       "      <td>463</td>\n",
       "      <td>PC24</td>\n",
       "      <td>Chitin_synth_1N; Chitin synthase N-terminal</td>\n",
       "    </tr>\n",
       "    <tr>\n",
       "      <th>7</th>\n",
       "      <td>PC32</td>\n",
       "      <td>463</td>\n",
       "      <td>PC22</td>\n",
       "      <td>Chitin_synth_1N; Chitin synthase N-terminal</td>\n",
       "    </tr>\n",
       "    <tr>\n",
       "      <th>8</th>\n",
       "      <td>PC32</td>\n",
       "      <td>463</td>\n",
       "      <td>PC24</td>\n",
       "      <td>Chitin_synth_1N; Chitin synthase N-terminal</td>\n",
       "    </tr>\n",
       "    <tr>\n",
       "      <th>9</th>\n",
       "      <td>PC31</td>\n",
       "      <td>369</td>\n",
       "      <td>PC274</td>\n",
       "      <td>CNH; Citron homology (CNH) domain</td>\n",
       "    </tr>\n",
       "    <tr>\n",
       "      <th>10</th>\n",
       "      <td>PC37</td>\n",
       "      <td>773</td>\n",
       "      <td>PC105</td>\n",
       "      <td>Dynein_light; Dynein light chain, type 1/2</td>\n",
       "    </tr>\n",
       "    <tr>\n",
       "      <th>11</th>\n",
       "      <td>PC45</td>\n",
       "      <td>773</td>\n",
       "      <td>PC105</td>\n",
       "      <td>Dynein_light; Dynein light chain, type 1/2</td>\n",
       "    </tr>\n",
       "    <tr>\n",
       "      <th>12</th>\n",
       "      <td>PC43</td>\n",
       "      <td>176</td>\n",
       "      <td>PC106</td>\n",
       "      <td>Aft1_OSA; Transcription factor Aft1, osmotic s...</td>\n",
       "    </tr>\n",
       "    <tr>\n",
       "      <th>13</th>\n",
       "      <td>PC43</td>\n",
       "      <td>176</td>\n",
       "      <td>PC112</td>\n",
       "      <td>Aft1_OSA; Transcription factor Aft1, osmotic s...</td>\n",
       "    </tr>\n",
       "    <tr>\n",
       "      <th>14</th>\n",
       "      <td>PC51</td>\n",
       "      <td>1</td>\n",
       "      <td>PC89</td>\n",
       "      <td>14-3-3; 14-3-3 domain</td>\n",
       "    </tr>\n",
       "    <tr>\n",
       "      <th>15</th>\n",
       "      <td>PC54</td>\n",
       "      <td>881</td>\n",
       "      <td>PC242</td>\n",
       "      <td>FHA; Forkhead-associated (FHA) domain</td>\n",
       "    </tr>\n",
       "    <tr>\n",
       "      <th>16</th>\n",
       "      <td>PC54</td>\n",
       "      <td>881</td>\n",
       "      <td>PC243</td>\n",
       "      <td>FHA; Forkhead-associated (FHA) domain</td>\n",
       "    </tr>\n",
       "    <tr>\n",
       "      <th>17</th>\n",
       "      <td>PC74</td>\n",
       "      <td>161</td>\n",
       "      <td>PC125</td>\n",
       "      <td>Acyl-CoA_ox_N; Acyl-coenzyme A oxidase, N-term...</td>\n",
       "    </tr>\n",
       "    <tr>\n",
       "      <th>18</th>\n",
       "      <td>PC270</td>\n",
       "      <td>161</td>\n",
       "      <td>PC125</td>\n",
       "      <td>Acyl-CoA_ox_N; Acyl-coenzyme A oxidase, N-term...</td>\n",
       "    </tr>\n",
       "    <tr>\n",
       "      <th>19</th>\n",
       "      <td>PC82</td>\n",
       "      <td>1072</td>\n",
       "      <td>PC57</td>\n",
       "      <td>Glycos_transf_1; Glycosyl transferase, family 1</td>\n",
       "    </tr>\n",
       "    <tr>\n",
       "      <th>20</th>\n",
       "      <td>PC88</td>\n",
       "      <td>21</td>\n",
       "      <td>PC91</td>\n",
       "      <td>AAA_23</td>\n",
       "    </tr>\n",
       "    <tr>\n",
       "      <th>21</th>\n",
       "      <td>PC94</td>\n",
       "      <td>71</td>\n",
       "      <td>PC189</td>\n",
       "      <td>ALAD; Delta-aminolevulinic acid dehydratase</td>\n",
       "    </tr>\n",
       "    <tr>\n",
       "      <th>22</th>\n",
       "      <td>PC108</td>\n",
       "      <td>613</td>\n",
       "      <td>PC77</td>\n",
       "      <td>DNA_pol_B; DNA-directed DNA polymerase, family...</td>\n",
       "    </tr>\n",
       "    <tr>\n",
       "      <th>23</th>\n",
       "      <td>PC115</td>\n",
       "      <td>613</td>\n",
       "      <td>PC77</td>\n",
       "      <td>DNA_pol_B; DNA-directed DNA polymerase, family...</td>\n",
       "    </tr>\n",
       "    <tr>\n",
       "      <th>24</th>\n",
       "      <td>PC112</td>\n",
       "      <td>1189</td>\n",
       "      <td>PC142</td>\n",
       "      <td>Hydantoinase_A; Hydantoinase/oxoprolinase</td>\n",
       "    </tr>\n",
       "    <tr>\n",
       "      <th>25</th>\n",
       "      <td>PC118</td>\n",
       "      <td>1531</td>\n",
       "      <td>PC207</td>\n",
       "      <td>Myb_Cef; Pre-mRNA splicing factor component Cd...</td>\n",
       "    </tr>\n",
       "    <tr>\n",
       "      <th>26</th>\n",
       "      <td>PC124</td>\n",
       "      <td>1531</td>\n",
       "      <td>PC207</td>\n",
       "      <td>Myb_Cef; Pre-mRNA splicing factor component Cd...</td>\n",
       "    </tr>\n",
       "    <tr>\n",
       "      <th>27</th>\n",
       "      <td>PC126</td>\n",
       "      <td>381</td>\n",
       "      <td>PC211</td>\n",
       "      <td>COP-gamma_platf; Coatomer, gamma subunit, appe...</td>\n",
       "    </tr>\n",
       "    <tr>\n",
       "      <th>28</th>\n",
       "      <td>PC129</td>\n",
       "      <td>196</td>\n",
       "      <td>PC48</td>\n",
       "      <td>Alpha-amylase_C; Alpha-amylase/branching enzym...</td>\n",
       "    </tr>\n",
       "    <tr>\n",
       "      <th>29</th>\n",
       "      <td>PC130</td>\n",
       "      <td>819</td>\n",
       "      <td>PC212</td>\n",
       "      <td>ERO1; Endoplasmic reticulum oxidoreductin 1</td>\n",
       "    </tr>\n",
       "    <tr>\n",
       "      <th>30</th>\n",
       "      <td>PC133</td>\n",
       "      <td>1389</td>\n",
       "      <td>PC261</td>\n",
       "      <td>MOR2-PAG1_mid; Cell morphogenesis central region</td>\n",
       "    </tr>\n",
       "    <tr>\n",
       "      <th>31</th>\n",
       "      <td>PC157</td>\n",
       "      <td>11</td>\n",
       "      <td>PC250</td>\n",
       "      <td>5-FTHF_cyc-lig; 5-formyltetrahydrofolate cyclo...</td>\n",
       "    </tr>\n",
       "    <tr>\n",
       "      <th>32</th>\n",
       "      <td>PC159</td>\n",
       "      <td>1046</td>\n",
       "      <td>PC170</td>\n",
       "      <td>Glyco_hydro_18; Glycoside hydrolase family 18,...</td>\n",
       "    </tr>\n",
       "    <tr>\n",
       "      <th>33</th>\n",
       "      <td>PC162</td>\n",
       "      <td>1362</td>\n",
       "      <td>PC141</td>\n",
       "      <td>MDM31_MDM32; Mitochondrial distribution and mo...</td>\n",
       "    </tr>\n",
       "    <tr>\n",
       "      <th>34</th>\n",
       "      <td>PC163</td>\n",
       "      <td>1362</td>\n",
       "      <td>PC141</td>\n",
       "      <td>MDM31_MDM32; Mitochondrial distribution and mo...</td>\n",
       "    </tr>\n",
       "    <tr>\n",
       "      <th>35</th>\n",
       "      <td>PC170</td>\n",
       "      <td>27</td>\n",
       "      <td>PC137</td>\n",
       "      <td>AAA_8; Dynein heavy chain, P-loop containing D...</td>\n",
       "    </tr>\n",
       "    <tr>\n",
       "      <th>36</th>\n",
       "      <td>PC171</td>\n",
       "      <td>27</td>\n",
       "      <td>PC137</td>\n",
       "      <td>AAA_8; Dynein heavy chain, P-loop containing D...</td>\n",
       "    </tr>\n",
       "    <tr>\n",
       "      <th>37</th>\n",
       "      <td>PC174</td>\n",
       "      <td>68</td>\n",
       "      <td>PC209</td>\n",
       "      <td>AIRC; PurE domain</td>\n",
       "    </tr>\n",
       "    <tr>\n",
       "      <th>38</th>\n",
       "      <td>PC175</td>\n",
       "      <td>1613</td>\n",
       "      <td>PC227</td>\n",
       "      <td>NifU_N; NIF system FeS cluster assembly, NifU,...</td>\n",
       "    </tr>\n",
       "    <tr>\n",
       "      <th>39</th>\n",
       "      <td>PC175</td>\n",
       "      <td>1613</td>\n",
       "      <td>PC272</td>\n",
       "      <td>NifU_N; NIF system FeS cluster assembly, NifU,...</td>\n",
       "    </tr>\n",
       "    <tr>\n",
       "      <th>40</th>\n",
       "      <td>PC200</td>\n",
       "      <td>1386</td>\n",
       "      <td>PC217</td>\n",
       "      <td>MNE1; Mitochondrial splicing apparatus compone...</td>\n",
       "    </tr>\n",
       "    <tr>\n",
       "      <th>41</th>\n",
       "      <td>PC216</td>\n",
       "      <td>1498</td>\n",
       "      <td>PC136</td>\n",
       "      <td>MmgE_PrpD; MmgE/PrpD</td>\n",
       "    </tr>\n",
       "    <tr>\n",
       "      <th>42</th>\n",
       "      <td>PC217</td>\n",
       "      <td>2371</td>\n",
       "      <td>PC56</td>\n",
       "      <td>SPT2; Chromatin SPT2</td>\n",
       "    </tr>\n",
       "    <tr>\n",
       "      <th>43</th>\n",
       "      <td>PC221</td>\n",
       "      <td>2700</td>\n",
       "      <td>PC202</td>\n",
       "      <td>Trehalose_PPase; Trehalose-phosphatase</td>\n",
       "    </tr>\n",
       "    <tr>\n",
       "      <th>44</th>\n",
       "      <td>PC225</td>\n",
       "      <td>2151</td>\n",
       "      <td>PC210</td>\n",
       "      <td>Ribosomal_60s</td>\n",
       "    </tr>\n",
       "    <tr>\n",
       "      <th>45</th>\n",
       "      <td>PC225</td>\n",
       "      <td>2151</td>\n",
       "      <td>PC214</td>\n",
       "      <td>Ribosomal_60s</td>\n",
       "    </tr>\n",
       "    <tr>\n",
       "      <th>46</th>\n",
       "      <td>PC226</td>\n",
       "      <td>1857</td>\n",
       "      <td>PC124</td>\n",
       "      <td>Patatin; Patatin-like phospholipase domain</td>\n",
       "    </tr>\n",
       "    <tr>\n",
       "      <th>47</th>\n",
       "      <td>PC230</td>\n",
       "      <td>1040</td>\n",
       "      <td>PC208</td>\n",
       "      <td>Glucosamine_iso; Glucosamine/galactosamine-6-p...</td>\n",
       "    </tr>\n",
       "    <tr>\n",
       "      <th>48</th>\n",
       "      <td>PC251</td>\n",
       "      <td>1418</td>\n",
       "      <td>PC171</td>\n",
       "      <td>Mak16; Mak16 protein</td>\n",
       "    </tr>\n",
       "    <tr>\n",
       "      <th>49</th>\n",
       "      <td>PC251</td>\n",
       "      <td>1418</td>\n",
       "      <td>PC172</td>\n",
       "      <td>Mak16; Mak16 protein</td>\n",
       "    </tr>\n",
       "    <tr>\n",
       "      <th>50</th>\n",
       "      <td>PC265</td>\n",
       "      <td>69</td>\n",
       "      <td>PC186</td>\n",
       "      <td>AIRS; PurM-like, N-terminal domain</td>\n",
       "    </tr>\n",
       "    <tr>\n",
       "      <th>51</th>\n",
       "      <td>PC273</td>\n",
       "      <td>1021</td>\n",
       "      <td>PC165</td>\n",
       "      <td>Gal4_dimer; Gal4 dimerisation domain</td>\n",
       "    </tr>\n",
       "    <tr>\n",
       "      <th>52</th>\n",
       "      <td>PC273</td>\n",
       "      <td>1021</td>\n",
       "      <td>PC166</td>\n",
       "      <td>Gal4_dimer; Gal4 dimerisation domain</td>\n",
       "    </tr>\n",
       "    <tr>\n",
       "      <th>53</th>\n",
       "      <td>PC275</td>\n",
       "      <td>9</td>\n",
       "      <td>PC73</td>\n",
       "      <td>40S_S4_C; 40S ribosomal protein S4, C-terminal...</td>\n",
       "    </tr>\n",
       "  </tbody>\n",
       "</table>\n",
       "</div>"
      ],
      "text/plain": [
       "   pca-component_x  domain-number pca-component_y  \\\n",
       "0              PC6           1055            PC11   \n",
       "1             PC15            300            PC12   \n",
       "2             PC17             62            PC19   \n",
       "3             PC18            875            PC29   \n",
       "4             PC28            440            PC81   \n",
       "5             PC30            463            PC22   \n",
       "6             PC30            463            PC24   \n",
       "7             PC32            463            PC22   \n",
       "8             PC32            463            PC24   \n",
       "9             PC31            369           PC274   \n",
       "10            PC37            773           PC105   \n",
       "11            PC45            773           PC105   \n",
       "12            PC43            176           PC106   \n",
       "13            PC43            176           PC112   \n",
       "14            PC51              1            PC89   \n",
       "15            PC54            881           PC242   \n",
       "16            PC54            881           PC243   \n",
       "17            PC74            161           PC125   \n",
       "18           PC270            161           PC125   \n",
       "19            PC82           1072            PC57   \n",
       "20            PC88             21            PC91   \n",
       "21            PC94             71           PC189   \n",
       "22           PC108            613            PC77   \n",
       "23           PC115            613            PC77   \n",
       "24           PC112           1189           PC142   \n",
       "25           PC118           1531           PC207   \n",
       "26           PC124           1531           PC207   \n",
       "27           PC126            381           PC211   \n",
       "28           PC129            196            PC48   \n",
       "29           PC130            819           PC212   \n",
       "30           PC133           1389           PC261   \n",
       "31           PC157             11           PC250   \n",
       "32           PC159           1046           PC170   \n",
       "33           PC162           1362           PC141   \n",
       "34           PC163           1362           PC141   \n",
       "35           PC170             27           PC137   \n",
       "36           PC171             27           PC137   \n",
       "37           PC174             68           PC209   \n",
       "38           PC175           1613           PC227   \n",
       "39           PC175           1613           PC272   \n",
       "40           PC200           1386           PC217   \n",
       "41           PC216           1498           PC136   \n",
       "42           PC217           2371            PC56   \n",
       "43           PC221           2700           PC202   \n",
       "44           PC225           2151           PC210   \n",
       "45           PC225           2151           PC214   \n",
       "46           PC226           1857           PC124   \n",
       "47           PC230           1040           PC208   \n",
       "48           PC251           1418           PC171   \n",
       "49           PC251           1418           PC172   \n",
       "50           PC265             69           PC186   \n",
       "51           PC273           1021           PC165   \n",
       "52           PC273           1021           PC166   \n",
       "53           PC275              9            PC73   \n",
       "\n",
       "                                   domain-description  \n",
       "0   Glyco_hydro_63N; Glycosyl hydrolase family 63,...  \n",
       "1                                  BolA; BolA protein  \n",
       "2   AHSA1; Activator of Hsp90 ATPase homologue 1-like  \n",
       "3                                     FDF; FDF domain  \n",
       "4   Candida_ALS_N; Agglutinin-like protein, N-term...  \n",
       "5         Chitin_synth_1N; Chitin synthase N-terminal  \n",
       "6         Chitin_synth_1N; Chitin synthase N-terminal  \n",
       "7         Chitin_synth_1N; Chitin synthase N-terminal  \n",
       "8         Chitin_synth_1N; Chitin synthase N-terminal  \n",
       "9                   CNH; Citron homology (CNH) domain  \n",
       "10         Dynein_light; Dynein light chain, type 1/2  \n",
       "11         Dynein_light; Dynein light chain, type 1/2  \n",
       "12  Aft1_OSA; Transcription factor Aft1, osmotic s...  \n",
       "13  Aft1_OSA; Transcription factor Aft1, osmotic s...  \n",
       "14                              14-3-3; 14-3-3 domain  \n",
       "15              FHA; Forkhead-associated (FHA) domain  \n",
       "16              FHA; Forkhead-associated (FHA) domain  \n",
       "17  Acyl-CoA_ox_N; Acyl-coenzyme A oxidase, N-term...  \n",
       "18  Acyl-CoA_ox_N; Acyl-coenzyme A oxidase, N-term...  \n",
       "19    Glycos_transf_1; Glycosyl transferase, family 1  \n",
       "20                                             AAA_23  \n",
       "21        ALAD; Delta-aminolevulinic acid dehydratase  \n",
       "22  DNA_pol_B; DNA-directed DNA polymerase, family...  \n",
       "23  DNA_pol_B; DNA-directed DNA polymerase, family...  \n",
       "24          Hydantoinase_A; Hydantoinase/oxoprolinase  \n",
       "25  Myb_Cef; Pre-mRNA splicing factor component Cd...  \n",
       "26  Myb_Cef; Pre-mRNA splicing factor component Cd...  \n",
       "27  COP-gamma_platf; Coatomer, gamma subunit, appe...  \n",
       "28  Alpha-amylase_C; Alpha-amylase/branching enzym...  \n",
       "29        ERO1; Endoplasmic reticulum oxidoreductin 1  \n",
       "30   MOR2-PAG1_mid; Cell morphogenesis central region  \n",
       "31  5-FTHF_cyc-lig; 5-formyltetrahydrofolate cyclo...  \n",
       "32  Glyco_hydro_18; Glycoside hydrolase family 18,...  \n",
       "33  MDM31_MDM32; Mitochondrial distribution and mo...  \n",
       "34  MDM31_MDM32; Mitochondrial distribution and mo...  \n",
       "35  AAA_8; Dynein heavy chain, P-loop containing D...  \n",
       "36  AAA_8; Dynein heavy chain, P-loop containing D...  \n",
       "37                                  AIRC; PurE domain  \n",
       "38  NifU_N; NIF system FeS cluster assembly, NifU,...  \n",
       "39  NifU_N; NIF system FeS cluster assembly, NifU,...  \n",
       "40  MNE1; Mitochondrial splicing apparatus compone...  \n",
       "41                               MmgE_PrpD; MmgE/PrpD  \n",
       "42                               SPT2; Chromatin SPT2  \n",
       "43             Trehalose_PPase; Trehalose-phosphatase  \n",
       "44                                      Ribosomal_60s  \n",
       "45                                      Ribosomal_60s  \n",
       "46         Patatin; Patatin-like phospholipase domain  \n",
       "47  Glucosamine_iso; Glucosamine/galactosamine-6-p...  \n",
       "48                               Mak16; Mak16 protein  \n",
       "49                               Mak16; Mak16 protein  \n",
       "50                 AIRS; PurM-like, N-terminal domain  \n",
       "51               Gal4_dimer; Gal4 dimerisation domain  \n",
       "52               Gal4_dimer; Gal4 dimerisation domain  \n",
       "53  40S_S4_C; 40S ribosomal protein S4, C-terminal...  "
      ]
     },
     "execution_count": 22,
     "metadata": {},
     "output_type": "execute_result"
    }
   ],
   "source": [
    "df_shared_domains=pd.merge(df_sl,df_nsl,how='inner',on='domain-number')\n",
    "domains_name=np.unique(data_domains['domain-name'])\n",
    "domains_description=np.unique(data_domains['domain-descrip'])\n",
    "\n",
    "df_shared_domains['domain-description']=domains_description[df_shared_domains['domain-number']]\n",
    "\n",
    "\n",
    "df_shared_domains"
   ]
  },
  {
   "cell_type": "code",
   "execution_count": 23,
   "metadata": {
    "execution": {
     "iopub.execute_input": "2020-07-22T19:06:38.952094Z",
     "iopub.status.busy": "2020-07-22T19:06:38.951458Z",
     "iopub.status.idle": "2020-07-22T19:06:38.955952Z",
     "shell.execute_reply": "2020-07-22T19:06:38.955239Z"
    }
   },
   "outputs": [
    {
     "name": "stdout",
     "output_type": "stream",
     "text": [
      "The number of shared domains between SL and nSL pairs,after PCA, is =  54 out of 558 so the 9.67741935483871 %\n"
     ]
    }
   ],
   "source": [
    "print('The number of shared domains between SL and nSL pairs,after PCA, is = ',len(df_shared_domains), 'out of', len(df_sl)+len(df_nsl), 'so the',100*len(df_shared_domains)/(len(df_sl)+len(df_nsl)),'%')"
   ]
  },
  {
   "cell_type": "markdown",
   "metadata": {},
   "source": [
    "## Domains exclusive to SL"
   ]
  },
  {
   "cell_type": "code",
   "execution_count": 24,
   "metadata": {
    "execution": {
     "iopub.execute_input": "2020-07-22T19:06:38.961408Z",
     "iopub.status.busy": "2020-07-22T19:06:38.960850Z",
     "iopub.status.idle": "2020-07-22T19:06:38.985883Z",
     "shell.execute_reply": "2020-07-22T19:06:38.986552Z"
    }
   },
   "outputs": [
    {
     "data": {
      "text/html": [
       "<div>\n",
       "<style scoped>\n",
       "    .dataframe tbody tr th:only-of-type {\n",
       "        vertical-align: middle;\n",
       "    }\n",
       "\n",
       "    .dataframe tbody tr th {\n",
       "        vertical-align: top;\n",
       "    }\n",
       "\n",
       "    .dataframe thead th {\n",
       "        text-align: right;\n",
       "    }\n",
       "</style>\n",
       "<table border=\"1\" class=\"dataframe\">\n",
       "  <thead>\n",
       "    <tr style=\"text-align: right;\">\n",
       "      <th></th>\n",
       "      <th>pca-component_x</th>\n",
       "      <th>domain-number</th>\n",
       "      <th>pca-component_y</th>\n",
       "      <th>domain-description</th>\n",
       "    </tr>\n",
       "  </thead>\n",
       "  <tbody>\n",
       "    <tr>\n",
       "      <th>0</th>\n",
       "      <td>PC0</td>\n",
       "      <td>305</td>\n",
       "      <td>NaN</td>\n",
       "      <td>Brr6_like_C_C; Brl1/Brr6 domain</td>\n",
       "    </tr>\n",
       "    <tr>\n",
       "      <th>1</th>\n",
       "      <td>PC1</td>\n",
       "      <td>135</td>\n",
       "      <td>NaN</td>\n",
       "      <td>ATP-synt_ab_Xtn; ATPsynthase alpha/beta subuni...</td>\n",
       "    </tr>\n",
       "    <tr>\n",
       "      <th>2</th>\n",
       "      <td>PC2</td>\n",
       "      <td>467</td>\n",
       "      <td>NaN</td>\n",
       "      <td>Choline_transpo; Choline transporter-like</td>\n",
       "    </tr>\n",
       "    <tr>\n",
       "      <th>3</th>\n",
       "      <td>PC3</td>\n",
       "      <td>221</td>\n",
       "      <td>NaN</td>\n",
       "      <td>Apq12; Nuclear pore assembly and biogenesis pr...</td>\n",
       "    </tr>\n",
       "    <tr>\n",
       "      <th>4</th>\n",
       "      <td>PC4</td>\n",
       "      <td>1519</td>\n",
       "      <td>NaN</td>\n",
       "      <td>Mtc; Tricarboxylate/iron carrier</td>\n",
       "    </tr>\n",
       "    <tr>\n",
       "      <th>...</th>\n",
       "      <td>...</td>\n",
       "      <td>...</td>\n",
       "      <td>...</td>\n",
       "      <td>...</td>\n",
       "    </tr>\n",
       "    <tr>\n",
       "      <th>276</th>\n",
       "      <td>PC269</td>\n",
       "      <td>1506</td>\n",
       "      <td>NaN</td>\n",
       "      <td>Mog1; Ran-interacting Mog1 protein</td>\n",
       "    </tr>\n",
       "    <tr>\n",
       "      <th>278</th>\n",
       "      <td>PC271</td>\n",
       "      <td>432</td>\n",
       "      <td>NaN</td>\n",
       "      <td>CT_A_B; Carboxyltransferase domain, subdomain ...</td>\n",
       "    </tr>\n",
       "    <tr>\n",
       "      <th>279</th>\n",
       "      <td>PC272</td>\n",
       "      <td>904</td>\n",
       "      <td>NaN</td>\n",
       "      <td>Fe-S_biosyn; FeS cluster biogenesis</td>\n",
       "    </tr>\n",
       "    <tr>\n",
       "      <th>282</th>\n",
       "      <td>PC274</td>\n",
       "      <td>1875</td>\n",
       "      <td>NaN</td>\n",
       "      <td>Peptidase_M1; Peptidase M1, membrane alanine a...</td>\n",
       "    </tr>\n",
       "    <tr>\n",
       "      <th>284</th>\n",
       "      <td>PC276</td>\n",
       "      <td>26</td>\n",
       "      <td>NaN</td>\n",
       "      <td>AAA_7</td>\n",
       "    </tr>\n",
       "  </tbody>\n",
       "</table>\n",
       "<p>231 rows × 4 columns</p>\n",
       "</div>"
      ],
      "text/plain": [
       "    pca-component_x  domain-number pca-component_y  \\\n",
       "0               PC0            305             NaN   \n",
       "1               PC1            135             NaN   \n",
       "2               PC2            467             NaN   \n",
       "3               PC3            221             NaN   \n",
       "4               PC4           1519             NaN   \n",
       "..              ...            ...             ...   \n",
       "276           PC269           1506             NaN   \n",
       "278           PC271            432             NaN   \n",
       "279           PC272            904             NaN   \n",
       "282           PC274           1875             NaN   \n",
       "284           PC276             26             NaN   \n",
       "\n",
       "                                    domain-description  \n",
       "0                      Brr6_like_C_C; Brl1/Brr6 domain  \n",
       "1    ATP-synt_ab_Xtn; ATPsynthase alpha/beta subuni...  \n",
       "2            Choline_transpo; Choline transporter-like  \n",
       "3    Apq12; Nuclear pore assembly and biogenesis pr...  \n",
       "4                     Mtc; Tricarboxylate/iron carrier  \n",
       "..                                                 ...  \n",
       "276                 Mog1; Ran-interacting Mog1 protein  \n",
       "278  CT_A_B; Carboxyltransferase domain, subdomain ...  \n",
       "279                Fe-S_biosyn; FeS cluster biogenesis  \n",
       "282  Peptidase_M1; Peptidase M1, membrane alanine a...  \n",
       "284                                              AAA_7  \n",
       "\n",
       "[231 rows x 4 columns]"
      ]
     },
     "execution_count": 24,
     "metadata": {},
     "output_type": "execute_result"
    }
   ],
   "source": [
    "df_sl_exclusive=pd.merge(df_sl,df_nsl,how='left',on='domain-number')\n",
    "\n",
    "domains_name=np.unique(data_domains['domain-name'])\n",
    "domains_description=np.unique(data_domains['domain-descrip'])\n",
    "\n",
    "df_sl_exclusive['domain-description']=domains_description[df_sl_exclusive['domain-number']]\n",
    "df_sl_exclusive[pd.isnull(df_sl_exclusive['pca-component_y'])]"
   ]
  },
  {
   "cell_type": "code",
   "execution_count": 25,
   "metadata": {
    "execution": {
     "iopub.execute_input": "2020-07-22T19:06:38.990969Z",
     "iopub.status.busy": "2020-07-22T19:06:38.990441Z",
     "iopub.status.idle": "2020-07-22T19:06:38.993520Z",
     "shell.execute_reply": "2020-07-22T19:06:38.994184Z"
    }
   },
   "outputs": [
    {
     "name": "stdout",
     "output_type": "stream",
     "text": [
      "The number of exclusive domains from SL pairs, after PCA, is =  285 out of 558 so the 51.075268817204304 %\n"
     ]
    }
   ],
   "source": [
    "print('The number of exclusive domains from SL pairs, after PCA, is = ',len(df_sl_exclusive), 'out of', len(df_sl)+len(df_nsl), 'so the',100*len(df_sl_exclusive)/(len(df_sl)+len(df_nsl)),'%')"
   ]
  },
  {
   "cell_type": "code",
   "execution_count": 26,
   "metadata": {
    "execution": {
     "iopub.execute_input": "2020-07-22T19:06:38.996485Z",
     "iopub.status.busy": "2020-07-22T19:06:38.995956Z",
     "iopub.status.idle": "2020-07-22T19:06:39.026152Z",
     "shell.execute_reply": "2020-07-22T19:06:39.025690Z"
    }
   },
   "outputs": [
    {
     "data": {
      "text/html": [
       "<div>\n",
       "<style scoped>\n",
       "    .dataframe tbody tr th:only-of-type {\n",
       "        vertical-align: middle;\n",
       "    }\n",
       "\n",
       "    .dataframe tbody tr th {\n",
       "        vertical-align: top;\n",
       "    }\n",
       "\n",
       "    .dataframe thead th {\n",
       "        text-align: right;\n",
       "    }\n",
       "</style>\n",
       "<table border=\"1\" class=\"dataframe\">\n",
       "  <thead>\n",
       "    <tr style=\"text-align: right;\">\n",
       "      <th></th>\n",
       "      <th>pca-component_x</th>\n",
       "      <th>domain-number</th>\n",
       "      <th>pca-component_y</th>\n",
       "      <th>domain-description</th>\n",
       "    </tr>\n",
       "  </thead>\n",
       "  <tbody>\n",
       "    <tr>\n",
       "      <th>54</th>\n",
       "      <td>NaN</td>\n",
       "      <td>1028</td>\n",
       "      <td>PC0</td>\n",
       "      <td>GatB_Yqey; Asn/Gln amidotransferase</td>\n",
       "    </tr>\n",
       "    <tr>\n",
       "      <th>55</th>\n",
       "      <td>NaN</td>\n",
       "      <td>977</td>\n",
       "      <td>PC1</td>\n",
       "      <td>GED; Dynamin GTPase effector</td>\n",
       "    </tr>\n",
       "    <tr>\n",
       "      <th>56</th>\n",
       "      <td>NaN</td>\n",
       "      <td>2771</td>\n",
       "      <td>PC2</td>\n",
       "      <td>Ubiq-assoc; Ubiquitin-associated domain, SWA2-...</td>\n",
       "    </tr>\n",
       "    <tr>\n",
       "      <th>57</th>\n",
       "      <td>NaN</td>\n",
       "      <td>989</td>\n",
       "      <td>PC3</td>\n",
       "      <td>GLE1; GLE1-like</td>\n",
       "    </tr>\n",
       "    <tr>\n",
       "      <th>58</th>\n",
       "      <td>NaN</td>\n",
       "      <td>2113</td>\n",
       "      <td>PC4</td>\n",
       "      <td>Rav1p_C; RAVE complex protein Rav1 C-terminal</td>\n",
       "    </tr>\n",
       "    <tr>\n",
       "      <th>...</th>\n",
       "      <td>...</td>\n",
       "      <td>...</td>\n",
       "      <td>...</td>\n",
       "      <td>...</td>\n",
       "    </tr>\n",
       "    <tr>\n",
       "      <th>284</th>\n",
       "      <td>NaN</td>\n",
       "      <td>250</td>\n",
       "      <td>PC275</td>\n",
       "      <td>B3_4; B3/B4 tRNA-binding domain</td>\n",
       "    </tr>\n",
       "    <tr>\n",
       "      <th>285</th>\n",
       "      <td>NaN</td>\n",
       "      <td>2333</td>\n",
       "      <td>PC276</td>\n",
       "      <td>SIS; Sugar isomerase (SIS)</td>\n",
       "    </tr>\n",
       "    <tr>\n",
       "      <th>286</th>\n",
       "      <td>NaN</td>\n",
       "      <td>2333</td>\n",
       "      <td>PC277</td>\n",
       "      <td>SIS; Sugar isomerase (SIS)</td>\n",
       "    </tr>\n",
       "    <tr>\n",
       "      <th>287</th>\n",
       "      <td>NaN</td>\n",
       "      <td>2961</td>\n",
       "      <td>PC278</td>\n",
       "      <td>vATP-synt_E; ATPase, V1/A1 complex, subunit E</td>\n",
       "    </tr>\n",
       "    <tr>\n",
       "      <th>288</th>\n",
       "      <td>NaN</td>\n",
       "      <td>211</td>\n",
       "      <td>PC280</td>\n",
       "      <td>Ank_5</td>\n",
       "    </tr>\n",
       "  </tbody>\n",
       "</table>\n",
       "<p>235 rows × 4 columns</p>\n",
       "</div>"
      ],
      "text/plain": [
       "    pca-component_x  domain-number pca-component_y  \\\n",
       "54              NaN           1028             PC0   \n",
       "55              NaN            977             PC1   \n",
       "56              NaN           2771             PC2   \n",
       "57              NaN            989             PC3   \n",
       "58              NaN           2113             PC4   \n",
       "..              ...            ...             ...   \n",
       "284             NaN            250           PC275   \n",
       "285             NaN           2333           PC276   \n",
       "286             NaN           2333           PC277   \n",
       "287             NaN           2961           PC278   \n",
       "288             NaN            211           PC280   \n",
       "\n",
       "                                    domain-description  \n",
       "54                 GatB_Yqey; Asn/Gln amidotransferase  \n",
       "55                        GED; Dynamin GTPase effector  \n",
       "56   Ubiq-assoc; Ubiquitin-associated domain, SWA2-...  \n",
       "57                                     GLE1; GLE1-like  \n",
       "58       Rav1p_C; RAVE complex protein Rav1 C-terminal  \n",
       "..                                                 ...  \n",
       "284                    B3_4; B3/B4 tRNA-binding domain  \n",
       "285                         SIS; Sugar isomerase (SIS)  \n",
       "286                         SIS; Sugar isomerase (SIS)  \n",
       "287      vATP-synt_E; ATPase, V1/A1 complex, subunit E  \n",
       "288                                              Ank_5  \n",
       "\n",
       "[235 rows x 4 columns]"
      ]
     },
     "execution_count": 26,
     "metadata": {},
     "output_type": "execute_result"
    }
   ],
   "source": [
    "df_nsl_exclusive=pd.merge(df_sl,df_nsl,how='right',on='domain-number')\n",
    "\n",
    "domains_name=np.unique(data_domains['domain-name'])\n",
    "domains_description=np.unique(data_domains['domain-descrip'])\n",
    "\n",
    "df_nsl_exclusive['domain-description']=domains_description[df_nsl_exclusive['domain-number']]\n",
    "df_nsl_exclusive[pd.isnull(df_nsl_exclusive['pca-component_x'])]"
   ]
  },
  {
   "cell_type": "code",
   "execution_count": 27,
   "metadata": {
    "execution": {
     "iopub.execute_input": "2020-07-22T19:06:39.031031Z",
     "iopub.status.busy": "2020-07-22T19:06:39.030432Z",
     "iopub.status.idle": "2020-07-22T19:06:39.034988Z",
     "shell.execute_reply": "2020-07-22T19:06:39.035478Z"
    }
   },
   "outputs": [
    {
     "name": "stdout",
     "output_type": "stream",
     "text": [
      "The number of exclusive domains from non SL pairs, after PCA, is =  289 out of 558 so the 51.7921146953405 %\n"
     ]
    }
   ],
   "source": [
    "print('The number of exclusive domains from non SL pairs, after PCA, is = ',len(df_nsl_exclusive), 'out of', len(df_sl)+len(df_nsl), 'so the',100*len(df_nsl_exclusive)/(len(df_sl)+len(df_nsl)),'%')"
   ]
  },
  {
   "cell_type": "markdown",
   "metadata": {},
   "source": [
    "## Let see to the domains-number that get repeated after the PCA analysis , and selecting the most explanatory feature by its explained variance."
   ]
  },
  {
   "cell_type": "code",
   "execution_count": 28,
   "metadata": {
    "execution": {
     "iopub.execute_input": "2020-07-22T19:06:39.057093Z",
     "iopub.status.busy": "2020-07-22T19:06:39.056394Z",
     "iopub.status.idle": "2020-07-22T19:06:39.062501Z",
     "shell.execute_reply": "2020-07-22T19:06:39.060200Z"
    }
   },
   "outputs": [],
   "source": [
    "duplicated_features_sl=df_sl[df_sl.iloc[:,1].duplicated()]\n",
    "repeated_features_sl=pd.DataFrame()\n",
    "\n",
    "domains_name=np.unique(data_domains['domain-name'])\n",
    "domains_description=np.unique(data_domains['domain-descrip'])\n",
    "\n",
    "repeated_features_sl['domain-name']=domains_name[duplicated_features_sl.iloc[:,1]] \n",
    "repeated_features_sl['domain-description']=domains_description[duplicated_features_sl.iloc[:,1]]\n",
    "\n",
    "duplicated_features_nsl=df_nsl[df_nsl.iloc[:,1].duplicated()]\n",
    "repeated_features_nsl=pd.DataFrame()\n",
    "\n",
    "repeated_features_nsl['domain-name']=domains_name[duplicated_features_nsl.iloc[:,1]] \n",
    "repeated_features_nsl['domain-description']=domains_description[duplicated_features_nsl.iloc[:,1]]"
   ]
  },
  {
   "cell_type": "code",
   "execution_count": 29,
   "metadata": {
    "execution": {
     "iopub.execute_input": "2020-07-22T19:06:39.072041Z",
     "iopub.status.busy": "2020-07-22T19:06:39.068035Z",
     "iopub.status.idle": "2020-07-22T19:06:39.077369Z",
     "shell.execute_reply": "2020-07-22T19:06:39.077808Z"
    }
   },
   "outputs": [
    {
     "name": "stderr",
     "output_type": "stream",
     "text": [
      "/usr/share/miniconda3/envs/wintest/lib/python3.7/site-packages/ipykernel_launcher.py:3: SettingWithCopyWarning: \n",
      "A value is trying to be set on a copy of a slice from a DataFrame.\n",
      "Try using .loc[row_indexer,col_indexer] = value instead\n",
      "\n",
      "See the caveats in the documentation: https://pandas.pydata.org/pandas-docs/stable/user_guide/indexing.html#returning-a-view-versus-a-copy\n",
      "  This is separate from the ipykernel package so we can avoid doing imports until\n"
     ]
    },
    {
     "data": {
      "text/plain": [
       "((35, 4), (285, 4))"
      ]
     },
     "execution_count": 29,
     "metadata": {},
     "output_type": "execute_result"
    }
   ],
   "source": [
    "only_sl_pd=pd.merge(repeated_features_sl,repeated_features_nsl,how='left',on=['domain-name'])\n",
    "data_only_sl = only_sl_pd[pd.isnull(only_sl_pd['domain-description_y'])]\n",
    "data_only_sl['domain-description']=data_only_sl['domain-description_x']\n",
    "data_only_sl.shape,df_sl_exclusive.shape"
   ]
  },
  {
   "cell_type": "code",
   "execution_count": 30,
   "metadata": {
    "execution": {
     "iopub.execute_input": "2020-07-22T19:06:39.097230Z",
     "iopub.status.busy": "2020-07-22T19:06:39.096580Z",
     "iopub.status.idle": "2020-07-22T19:06:39.099841Z",
     "shell.execute_reply": "2020-07-22T19:06:39.100308Z"
    }
   },
   "outputs": [
    {
     "data": {
      "text/html": [
       "<div>\n",
       "<style scoped>\n",
       "    .dataframe tbody tr th:only-of-type {\n",
       "        vertical-align: middle;\n",
       "    }\n",
       "\n",
       "    .dataframe tbody tr th {\n",
       "        vertical-align: top;\n",
       "    }\n",
       "\n",
       "    .dataframe thead th {\n",
       "        text-align: right;\n",
       "    }\n",
       "</style>\n",
       "<table border=\"1\" class=\"dataframe\">\n",
       "  <thead>\n",
       "    <tr style=\"text-align: right;\">\n",
       "      <th></th>\n",
       "      <th>domain-name</th>\n",
       "      <th>domain-description_x</th>\n",
       "      <th>domain-description_y</th>\n",
       "    </tr>\n",
       "  </thead>\n",
       "  <tbody>\n",
       "    <tr>\n",
       "      <th>1</th>\n",
       "      <td>PF02845</td>\n",
       "      <td>NaN</td>\n",
       "      <td>GFD1</td>\n",
       "    </tr>\n",
       "    <tr>\n",
       "      <th>2</th>\n",
       "      <td>PF00350</td>\n",
       "      <td>NaN</td>\n",
       "      <td>Aha1_N; Activator of Hsp90 ATPase, N-terminal</td>\n",
       "    </tr>\n",
       "    <tr>\n",
       "      <th>3</th>\n",
       "      <td>PF03463</td>\n",
       "      <td>NaN</td>\n",
       "      <td>HIG_1_N; Hypoxia induced protein, domain</td>\n",
       "    </tr>\n",
       "    <tr>\n",
       "      <th>4</th>\n",
       "      <td>PF08587</td>\n",
       "      <td>NaN</td>\n",
       "      <td>QRPTase_C; Quinolinate phosphoribosyl transfer...</td>\n",
       "    </tr>\n",
       "    <tr>\n",
       "      <th>5</th>\n",
       "      <td>PF01096</td>\n",
       "      <td>NaN</td>\n",
       "      <td>Cnd1_N; Condensin complex subunit 1, N-terminal</td>\n",
       "    </tr>\n",
       "    <tr>\n",
       "      <th>6</th>\n",
       "      <td>PF02518</td>\n",
       "      <td>NaN</td>\n",
       "      <td>F_actin_cap_B; F-actin-capping protein subunit...</td>\n",
       "    </tr>\n",
       "    <tr>\n",
       "      <th>7</th>\n",
       "      <td>PF09079</td>\n",
       "      <td>NaN</td>\n",
       "      <td>RRT14; Regulator of rDNA transcription 14</td>\n",
       "    </tr>\n",
       "    <tr>\n",
       "      <th>8</th>\n",
       "      <td>PF04935</td>\n",
       "      <td>NaN</td>\n",
       "      <td>Meiotic_rec114; Meiotic recombination protein ...</td>\n",
       "    </tr>\n",
       "    <tr>\n",
       "      <th>9</th>\n",
       "      <td>PF11717</td>\n",
       "      <td>NaN</td>\n",
       "      <td>STPPase_N; Serine-threonine protein phosphatas...</td>\n",
       "    </tr>\n",
       "    <tr>\n",
       "      <th>10</th>\n",
       "      <td>PF01138</td>\n",
       "      <td>NaN</td>\n",
       "      <td>Copper-fist; Copper fist DNA-binding domain</td>\n",
       "    </tr>\n",
       "    <tr>\n",
       "      <th>11</th>\n",
       "      <td>PF00389</td>\n",
       "      <td>NaN</td>\n",
       "      <td>Alkyl_sulf_C; Alkyl sulfatase, C-terminal</td>\n",
       "    </tr>\n",
       "    <tr>\n",
       "      <th>12</th>\n",
       "      <td>PF00389</td>\n",
       "      <td>NaN</td>\n",
       "      <td>Alkyl_sulf_C; Alkyl sulfatase, C-terminal</td>\n",
       "    </tr>\n",
       "    <tr>\n",
       "      <th>13</th>\n",
       "      <td>PF00349</td>\n",
       "      <td>NaN</td>\n",
       "      <td>Aft1_OSA; Transcription factor Aft1, osmotic s...</td>\n",
       "    </tr>\n",
       "    <tr>\n",
       "      <th>14</th>\n",
       "      <td>PF01849</td>\n",
       "      <td>NaN</td>\n",
       "      <td>DnaJ_C; Chaperone DnaJ, C-terminal</td>\n",
       "    </tr>\n",
       "    <tr>\n",
       "      <th>15</th>\n",
       "      <td>PF00266</td>\n",
       "      <td>NaN</td>\n",
       "      <td>ATP-synt_J; ATP synthase, F0 complex, subunit J</td>\n",
       "    </tr>\n",
       "    <tr>\n",
       "      <th>16</th>\n",
       "      <td>PF14570</td>\n",
       "      <td>NaN</td>\n",
       "      <td>UPF0121; TMEM33/Pom33 family</td>\n",
       "    </tr>\n",
       "    <tr>\n",
       "      <th>17</th>\n",
       "      <td>PF05179</td>\n",
       "      <td>NaN</td>\n",
       "      <td>Mob1_phocein; MOB kinase activator family</td>\n",
       "    </tr>\n",
       "    <tr>\n",
       "      <th>18</th>\n",
       "      <td>PF04091</td>\n",
       "      <td>NaN</td>\n",
       "      <td>Ketoacyl-synt_C; Beta-ketoacyl synthase, C-ter...</td>\n",
       "    </tr>\n",
       "    <tr>\n",
       "      <th>19</th>\n",
       "      <td>PF01261</td>\n",
       "      <td>NaN</td>\n",
       "      <td>DER1</td>\n",
       "    </tr>\n",
       "    <tr>\n",
       "      <th>20</th>\n",
       "      <td>PF06093</td>\n",
       "      <td>NaN</td>\n",
       "      <td>Not3; CCR4-Not complex component, Not N-termin...</td>\n",
       "    </tr>\n",
       "    <tr>\n",
       "      <th>21</th>\n",
       "      <td>PF12718</td>\n",
       "      <td>NaN</td>\n",
       "      <td>Ste50p-SAM; Ste50, sterile alpha motif</td>\n",
       "    </tr>\n",
       "    <tr>\n",
       "      <th>22</th>\n",
       "      <td>PF12718</td>\n",
       "      <td>NaN</td>\n",
       "      <td>Ste50p-SAM; Ste50, sterile alpha motif</td>\n",
       "    </tr>\n",
       "    <tr>\n",
       "      <th>23</th>\n",
       "      <td>PF02269</td>\n",
       "      <td>NaN</td>\n",
       "      <td>FAD-oxidase_C; FAD-linked oxidase, C-terminal</td>\n",
       "    </tr>\n",
       "    <tr>\n",
       "      <th>24</th>\n",
       "      <td>PF00076</td>\n",
       "      <td>NaN</td>\n",
       "      <td>AAR2; A1 cistron-splicing factor, AAR2</td>\n",
       "    </tr>\n",
       "    <tr>\n",
       "      <th>25</th>\n",
       "      <td>PF05328</td>\n",
       "      <td>NaN</td>\n",
       "      <td>NAD_Gly3P_dh_C; Glycerol-3-phosphate dehydroge...</td>\n",
       "    </tr>\n",
       "    <tr>\n",
       "      <th>26</th>\n",
       "      <td>PF02984</td>\n",
       "      <td>NaN</td>\n",
       "      <td>Gal4_dimer; Gal4 dimerisation domain</td>\n",
       "    </tr>\n",
       "    <tr>\n",
       "      <th>27</th>\n",
       "      <td>PF04762</td>\n",
       "      <td>NaN</td>\n",
       "      <td>Mak16; Mak16 protein</td>\n",
       "    </tr>\n",
       "    <tr>\n",
       "      <th>28</th>\n",
       "      <td>PF01426</td>\n",
       "      <td>NaN</td>\n",
       "      <td>DRE2_N; Fe-S cluster assembly protein Dre2, N-...</td>\n",
       "    </tr>\n",
       "    <tr>\n",
       "      <th>29</th>\n",
       "      <td>PF13516</td>\n",
       "      <td>NaN</td>\n",
       "      <td>Telomerase_RBD; Telomerase ribonucleoprotein c...</td>\n",
       "    </tr>\n",
       "    <tr>\n",
       "      <th>30</th>\n",
       "      <td>PF03637</td>\n",
       "      <td>NaN</td>\n",
       "      <td>HTH_44; Helix-turn-helix DNA-binding domain of...</td>\n",
       "    </tr>\n",
       "    <tr>\n",
       "      <th>31</th>\n",
       "      <td>PF01793</td>\n",
       "      <td>NaN</td>\n",
       "      <td>DUP; Yeast membrane protein DUP/COS</td>\n",
       "    </tr>\n",
       "    <tr>\n",
       "      <th>32</th>\n",
       "      <td>PF05625</td>\n",
       "      <td>NaN</td>\n",
       "      <td>NMD3</td>\n",
       "    </tr>\n",
       "    <tr>\n",
       "      <th>33</th>\n",
       "      <td>PF08624</td>\n",
       "      <td>NaN</td>\n",
       "      <td>RIIa; cAMP-dependent protein kinase regulatory...</td>\n",
       "    </tr>\n",
       "    <tr>\n",
       "      <th>34</th>\n",
       "      <td>PF09724</td>\n",
       "      <td>NaN</td>\n",
       "      <td>Ribosomal_60s</td>\n",
       "    </tr>\n",
       "    <tr>\n",
       "      <th>35</th>\n",
       "      <td>PF01496</td>\n",
       "      <td>NaN</td>\n",
       "      <td>DUF1706; Protein of unknown function DUF1706</td>\n",
       "    </tr>\n",
       "    <tr>\n",
       "      <th>36</th>\n",
       "      <td>PF00318</td>\n",
       "      <td>NaN</td>\n",
       "      <td>Aconitase_C; Aconitase A/isopropylmalate dehyd...</td>\n",
       "    </tr>\n",
       "    <tr>\n",
       "      <th>37</th>\n",
       "      <td>PF00318</td>\n",
       "      <td>NaN</td>\n",
       "      <td>Aconitase_C; Aconitase A/isopropylmalate dehyd...</td>\n",
       "    </tr>\n",
       "    <tr>\n",
       "      <th>38</th>\n",
       "      <td>PF02386</td>\n",
       "      <td>NaN</td>\n",
       "      <td>FIN1</td>\n",
       "    </tr>\n",
       "    <tr>\n",
       "      <th>39</th>\n",
       "      <td>PF00909</td>\n",
       "      <td>NaN</td>\n",
       "      <td>CTD</td>\n",
       "    </tr>\n",
       "    <tr>\n",
       "      <th>40</th>\n",
       "      <td>PF09802</td>\n",
       "      <td>NaN</td>\n",
       "      <td>Ribosomal_L27; Ribosomal protein L27</td>\n",
       "    </tr>\n",
       "    <tr>\n",
       "      <th>41</th>\n",
       "      <td>PF09802</td>\n",
       "      <td>NaN</td>\n",
       "      <td>Ribosomal_L27; Ribosomal protein L27</td>\n",
       "    </tr>\n",
       "    <tr>\n",
       "      <th>42</th>\n",
       "      <td>PF09797</td>\n",
       "      <td>NaN</td>\n",
       "      <td>Ribosomal_L23eN; Ribosomal protein L23/L25, N-...</td>\n",
       "    </tr>\n",
       "    <tr>\n",
       "      <th>43</th>\n",
       "      <td>PF02383</td>\n",
       "      <td>NaN</td>\n",
       "      <td>FHA; Forkhead-associated (FHA) domain</td>\n",
       "    </tr>\n",
       "    <tr>\n",
       "      <th>44</th>\n",
       "      <td>PF02940</td>\n",
       "      <td>NaN</td>\n",
       "      <td>GTP_cyclohydroI; GTP cyclohydrolase I domain</td>\n",
       "    </tr>\n",
       "    <tr>\n",
       "      <th>45</th>\n",
       "      <td>PF14475</td>\n",
       "      <td>NaN</td>\n",
       "      <td>UDPGT; UDP-glucuronosyl/UDP-glucosyltransferase</td>\n",
       "    </tr>\n",
       "    <tr>\n",
       "      <th>46</th>\n",
       "      <td>PF05057</td>\n",
       "      <td>NaN</td>\n",
       "      <td>Mid2; Mid2 domain</td>\n",
       "    </tr>\n",
       "    <tr>\n",
       "      <th>47</th>\n",
       "      <td>PF00616</td>\n",
       "      <td>NaN</td>\n",
       "      <td>Bmt2; 25S rRNA (adenine(2142)-N(1))-methyltran...</td>\n",
       "    </tr>\n",
       "    <tr>\n",
       "      <th>48</th>\n",
       "      <td>PF05970</td>\n",
       "      <td>NaN</td>\n",
       "      <td>NifU; NIF system FeS cluster assembly, NifU, C...</td>\n",
       "    </tr>\n",
       "    <tr>\n",
       "      <th>49</th>\n",
       "      <td>PF03099</td>\n",
       "      <td>NaN</td>\n",
       "      <td>Gly_transf_sug; Glycosyltransferase, DXD sugar...</td>\n",
       "    </tr>\n",
       "    <tr>\n",
       "      <th>50</th>\n",
       "      <td>PF00717</td>\n",
       "      <td>NaN</td>\n",
       "      <td>CHS5_N; Chitin biosynthesis protein Chs5, N-te...</td>\n",
       "    </tr>\n",
       "    <tr>\n",
       "      <th>51</th>\n",
       "      <td>PF05983</td>\n",
       "      <td>NaN</td>\n",
       "      <td>NifU_N; NIF system FeS cluster assembly, NifU,...</td>\n",
       "    </tr>\n",
       "    <tr>\n",
       "      <th>52</th>\n",
       "      <td>PF10609</td>\n",
       "      <td>NaN</td>\n",
       "      <td>SIS; Sugar isomerase (SIS)</td>\n",
       "    </tr>\n",
       "    <tr>\n",
       "      <th>53</th>\n",
       "      <td>PF10311</td>\n",
       "      <td>NaN</td>\n",
       "      <td>Ribosomal_S6e; Ribosomal protein S6e</td>\n",
       "    </tr>\n",
       "  </tbody>\n",
       "</table>\n",
       "</div>"
      ],
      "text/plain": [
       "   domain-name domain-description_x  \\\n",
       "1      PF02845                  NaN   \n",
       "2      PF00350                  NaN   \n",
       "3      PF03463                  NaN   \n",
       "4      PF08587                  NaN   \n",
       "5      PF01096                  NaN   \n",
       "6      PF02518                  NaN   \n",
       "7      PF09079                  NaN   \n",
       "8      PF04935                  NaN   \n",
       "9      PF11717                  NaN   \n",
       "10     PF01138                  NaN   \n",
       "11     PF00389                  NaN   \n",
       "12     PF00389                  NaN   \n",
       "13     PF00349                  NaN   \n",
       "14     PF01849                  NaN   \n",
       "15     PF00266                  NaN   \n",
       "16     PF14570                  NaN   \n",
       "17     PF05179                  NaN   \n",
       "18     PF04091                  NaN   \n",
       "19     PF01261                  NaN   \n",
       "20     PF06093                  NaN   \n",
       "21     PF12718                  NaN   \n",
       "22     PF12718                  NaN   \n",
       "23     PF02269                  NaN   \n",
       "24     PF00076                  NaN   \n",
       "25     PF05328                  NaN   \n",
       "26     PF02984                  NaN   \n",
       "27     PF04762                  NaN   \n",
       "28     PF01426                  NaN   \n",
       "29     PF13516                  NaN   \n",
       "30     PF03637                  NaN   \n",
       "31     PF01793                  NaN   \n",
       "32     PF05625                  NaN   \n",
       "33     PF08624                  NaN   \n",
       "34     PF09724                  NaN   \n",
       "35     PF01496                  NaN   \n",
       "36     PF00318                  NaN   \n",
       "37     PF00318                  NaN   \n",
       "38     PF02386                  NaN   \n",
       "39     PF00909                  NaN   \n",
       "40     PF09802                  NaN   \n",
       "41     PF09802                  NaN   \n",
       "42     PF09797                  NaN   \n",
       "43     PF02383                  NaN   \n",
       "44     PF02940                  NaN   \n",
       "45     PF14475                  NaN   \n",
       "46     PF05057                  NaN   \n",
       "47     PF00616                  NaN   \n",
       "48     PF05970                  NaN   \n",
       "49     PF03099                  NaN   \n",
       "50     PF00717                  NaN   \n",
       "51     PF05983                  NaN   \n",
       "52     PF10609                  NaN   \n",
       "53     PF10311                  NaN   \n",
       "\n",
       "                                 domain-description_y  \n",
       "1                                                GFD1  \n",
       "2       Aha1_N; Activator of Hsp90 ATPase, N-terminal  \n",
       "3            HIG_1_N; Hypoxia induced protein, domain  \n",
       "4   QRPTase_C; Quinolinate phosphoribosyl transfer...  \n",
       "5     Cnd1_N; Condensin complex subunit 1, N-terminal  \n",
       "6   F_actin_cap_B; F-actin-capping protein subunit...  \n",
       "7           RRT14; Regulator of rDNA transcription 14  \n",
       "8   Meiotic_rec114; Meiotic recombination protein ...  \n",
       "9   STPPase_N; Serine-threonine protein phosphatas...  \n",
       "10        Copper-fist; Copper fist DNA-binding domain  \n",
       "11          Alkyl_sulf_C; Alkyl sulfatase, C-terminal  \n",
       "12          Alkyl_sulf_C; Alkyl sulfatase, C-terminal  \n",
       "13  Aft1_OSA; Transcription factor Aft1, osmotic s...  \n",
       "14                 DnaJ_C; Chaperone DnaJ, C-terminal  \n",
       "15    ATP-synt_J; ATP synthase, F0 complex, subunit J  \n",
       "16                       UPF0121; TMEM33/Pom33 family  \n",
       "17          Mob1_phocein; MOB kinase activator family  \n",
       "18  Ketoacyl-synt_C; Beta-ketoacyl synthase, C-ter...  \n",
       "19                                               DER1  \n",
       "20  Not3; CCR4-Not complex component, Not N-termin...  \n",
       "21             Ste50p-SAM; Ste50, sterile alpha motif  \n",
       "22             Ste50p-SAM; Ste50, sterile alpha motif  \n",
       "23      FAD-oxidase_C; FAD-linked oxidase, C-terminal  \n",
       "24             AAR2; A1 cistron-splicing factor, AAR2  \n",
       "25  NAD_Gly3P_dh_C; Glycerol-3-phosphate dehydroge...  \n",
       "26               Gal4_dimer; Gal4 dimerisation domain  \n",
       "27                               Mak16; Mak16 protein  \n",
       "28  DRE2_N; Fe-S cluster assembly protein Dre2, N-...  \n",
       "29  Telomerase_RBD; Telomerase ribonucleoprotein c...  \n",
       "30  HTH_44; Helix-turn-helix DNA-binding domain of...  \n",
       "31                DUP; Yeast membrane protein DUP/COS  \n",
       "32                                               NMD3  \n",
       "33  RIIa; cAMP-dependent protein kinase regulatory...  \n",
       "34                                      Ribosomal_60s  \n",
       "35       DUF1706; Protein of unknown function DUF1706  \n",
       "36  Aconitase_C; Aconitase A/isopropylmalate dehyd...  \n",
       "37  Aconitase_C; Aconitase A/isopropylmalate dehyd...  \n",
       "38                                               FIN1  \n",
       "39                                                CTD  \n",
       "40               Ribosomal_L27; Ribosomal protein L27  \n",
       "41               Ribosomal_L27; Ribosomal protein L27  \n",
       "42  Ribosomal_L23eN; Ribosomal protein L23/L25, N-...  \n",
       "43              FHA; Forkhead-associated (FHA) domain  \n",
       "44       GTP_cyclohydroI; GTP cyclohydrolase I domain  \n",
       "45    UDPGT; UDP-glucuronosyl/UDP-glucosyltransferase  \n",
       "46                                  Mid2; Mid2 domain  \n",
       "47  Bmt2; 25S rRNA (adenine(2142)-N(1))-methyltran...  \n",
       "48  NifU; NIF system FeS cluster assembly, NifU, C...  \n",
       "49  Gly_transf_sug; Glycosyltransferase, DXD sugar...  \n",
       "50  CHS5_N; Chitin biosynthesis protein Chs5, N-te...  \n",
       "51  NifU_N; NIF system FeS cluster assembly, NifU,...  \n",
       "52                         SIS; Sugar isomerase (SIS)  \n",
       "53               Ribosomal_S6e; Ribosomal protein S6e  "
      ]
     },
     "execution_count": 30,
     "metadata": {},
     "output_type": "execute_result"
    }
   ],
   "source": [
    "only_nsl_pd=pd.merge(repeated_features_sl,repeated_features_nsl,how='right',on=['domain-name'])\n",
    "data_only_nsl = only_nsl_pd[pd.isnull(only_nsl_pd['domain-description_x'])]\n",
    "data_only_nsl"
   ]
  },
  {
   "cell_type": "code",
   "execution_count": 31,
   "metadata": {
    "execution": {
     "iopub.execute_input": "2020-07-22T19:06:39.112494Z",
     "iopub.status.busy": "2020-07-22T19:06:39.111922Z",
     "iopub.status.idle": "2020-07-22T19:06:39.114637Z",
     "shell.execute_reply": "2020-07-22T19:06:39.115079Z"
    }
   },
   "outputs": [
    {
     "data": {
      "text/html": [
       "<div>\n",
       "<style scoped>\n",
       "    .dataframe tbody tr th:only-of-type {\n",
       "        vertical-align: middle;\n",
       "    }\n",
       "\n",
       "    .dataframe tbody tr th {\n",
       "        vertical-align: top;\n",
       "    }\n",
       "\n",
       "    .dataframe thead th {\n",
       "        text-align: right;\n",
       "    }\n",
       "</style>\n",
       "<table border=\"1\" class=\"dataframe\">\n",
       "  <thead>\n",
       "    <tr style=\"text-align: right;\">\n",
       "      <th></th>\n",
       "      <th>domain-name</th>\n",
       "      <th>domain-description_x</th>\n",
       "      <th>domain-description_y</th>\n",
       "    </tr>\n",
       "  </thead>\n",
       "  <tbody>\n",
       "    <tr>\n",
       "      <th>0</th>\n",
       "      <td>PF01028</td>\n",
       "      <td>Chitin_synth_1N; Chitin synthase N-terminal</td>\n",
       "      <td>Chitin_synth_1N; Chitin synthase N-terminal</td>\n",
       "    </tr>\n",
       "  </tbody>\n",
       "</table>\n",
       "</div>"
      ],
      "text/plain": [
       "  domain-name                         domain-description_x  \\\n",
       "0     PF01028  Chitin_synth_1N; Chitin synthase N-terminal   \n",
       "\n",
       "                          domain-description_y  \n",
       "0  Chitin_synth_1N; Chitin synthase N-terminal  "
      ]
     },
     "execution_count": 31,
     "metadata": {},
     "output_type": "execute_result"
    }
   ],
   "source": [
    "shared_domains_pd=pd.merge(repeated_features_sl,repeated_features_nsl,how='inner',on=['domain-name'])\n",
    "shared_domains_pd\n"
   ]
  },
  {
   "cell_type": "code",
   "execution_count": 32,
   "metadata": {
    "execution": {
     "iopub.execute_input": "2020-07-22T19:06:39.130299Z",
     "iopub.status.busy": "2020-07-22T19:06:39.124039Z",
     "iopub.status.idle": "2020-07-22T19:06:40.953308Z",
     "shell.execute_reply": "2020-07-22T19:06:40.953751Z"
    }
   },
   "outputs": [
    {
     "data": {
      "text/plain": [
       "(0.0, 0.2)"
      ]
     },
     "execution_count": 32,
     "metadata": {},
     "output_type": "execute_result"
    },
    {
     "data": {
      "image/png": "[encoded data removed]",
      "text/plain": [
       "<Figure size 432x288 with 1 Axes>"
      ]
     },
     "metadata": {
      "filenames": {
       "image/png": "/home/runner/work/jupyter-book/jupyter-book/mini_book/docs/_build/jupyter_execute/prot_domains2lethality-FEATURES-POSTPROCESSING_47_1.png"
      },
      "needs_background": "light"
     },
     "output_type": "display_data"
    }
   ],
   "source": [
    "a_sl=x_sl.iloc[:,np.sort(df_sl.iloc[:,1])]\n",
    "a_sl.describe().loc['mean'].hist(bins=8),\n",
    "a_sl.describe().loc['std'].hist(bins=8,alpha=0.4)\n",
    "plt.xlim([0,0.2])"
   ]
  },
  {
   "cell_type": "code",
   "execution_count": 33,
   "metadata": {
    "execution": {
     "iopub.execute_input": "2020-07-22T19:06:40.958488Z",
     "iopub.status.busy": "2020-07-22T19:06:40.955833Z",
     "iopub.status.idle": "2020-07-22T19:06:42.814068Z",
     "shell.execute_reply": "2020-07-22T19:06:42.814504Z"
    }
   },
   "outputs": [
    {
     "data": {
      "text/plain": [
       "(0.0, 0.2)"
      ]
     },
     "execution_count": 33,
     "metadata": {},
     "output_type": "execute_result"
    },
    {
     "data": {
      "image/png": "[encoded data removed]",
      "text/plain": [
       "<Figure size 432x288 with 1 Axes>"
      ]
     },
     "metadata": {
      "filenames": {
       "image/png": "/home/runner/work/jupyter-book/jupyter-book/mini_book/docs/_build/jupyter_execute/prot_domains2lethality-FEATURES-POSTPROCESSING_48_1.png"
      },
      "needs_background": "light"
     },
     "output_type": "display_data"
    }
   ],
   "source": [
    "a_nsl=x_nsl.iloc[:,np.sort(df_nsl.iloc[:,1])]\n",
    "a_nsl.describe().loc['mean'].hist(bins=8),\n",
    "a_nsl.describe().loc['std'].hist(bins=8,alpha=0.4)\n",
    "plt.xlim([0,0.2])"
   ]
  },
  {
   "cell_type": "markdown",
   "metadata": {},
   "source": [
    "### Proof of concept with *BEM1*\n",
    "\n",
    "- Gather the domains of SL and nSL pairs from BEM1\n",
    "- Check if the domains for the SL and nSL pairs are inside the most important domains after PCA."
   ]
  },
  {
   "cell_type": "code",
   "execution_count": 34,
   "metadata": {
    "execution": {
     "iopub.execute_input": "2020-07-22T19:06:42.823664Z",
     "iopub.status.busy": "2020-07-22T19:06:42.823056Z",
     "iopub.status.idle": "2020-07-22T19:06:42.827613Z",
     "shell.execute_reply": "2020-07-22T19:06:42.826956Z"
    }
   },
   "outputs": [],
   "source": [
    "domains_bem1=data_domains[data_domains['name']=='BEM1']['domain-descrip']\n",
    "sl_bem1=data_sl[data_sl['gene-query-name']=='BEM1']['gene-target-name']"
   ]
  },
  {
   "cell_type": "code",
   "execution_count": 35,
   "metadata": {
    "execution": {
     "iopub.execute_input": "2020-07-22T19:06:42.833171Z",
     "iopub.status.busy": "2020-07-22T19:06:42.832523Z",
     "iopub.status.idle": "2020-07-22T19:06:42.839054Z",
     "shell.execute_reply": "2020-07-22T19:06:42.837871Z"
    }
   },
   "outputs": [
    {
     "data": {
      "text/plain": [
       "2846      BEM2\n",
       "2847     CDC24\n",
       "5004      MSB1\n",
       "13777     SMI1\n",
       "13778     BNI1\n",
       "13779     BEM2\n",
       "14385     SKN7\n",
       "Name: gene-target-name, dtype: object"
      ]
     },
     "execution_count": 35,
     "metadata": {},
     "output_type": "execute_result"
    }
   ],
   "source": [
    "sl_bem1"
   ]
  },
  {
   "cell_type": "code",
   "execution_count": 36,
   "metadata": {
    "execution": {
     "iopub.execute_input": "2020-07-22T19:06:42.854075Z",
     "iopub.status.busy": "2020-07-22T19:06:42.848351Z",
     "iopub.status.idle": "2020-07-22T19:06:42.858863Z",
     "shell.execute_reply": "2020-07-22T19:06:42.859693Z"
    }
   },
   "outputs": [
    {
     "data": {
      "text/html": [
       "<div>\n",
       "<style scoped>\n",
       "    .dataframe tbody tr th:only-of-type {\n",
       "        vertical-align: middle;\n",
       "    }\n",
       "\n",
       "    .dataframe tbody tr th {\n",
       "        vertical-align: top;\n",
       "    }\n",
       "\n",
       "    .dataframe thead th {\n",
       "        text-align: right;\n",
       "    }\n",
       "</style>\n",
       "<table border=\"1\" class=\"dataframe\">\n",
       "  <thead>\n",
       "    <tr style=\"text-align: right;\">\n",
       "      <th></th>\n",
       "      <th>gene-query</th>\n",
       "      <th>gene-target</th>\n",
       "      <th>gene-query-name</th>\n",
       "      <th>gene-target-name</th>\n",
       "      <th>gene-query-description</th>\n",
       "      <th>gene-target-description</th>\n",
       "      <th>interaction-type</th>\n",
       "      <th>paper-source</th>\n",
       "    </tr>\n",
       "  </thead>\n",
       "  <tbody>\n",
       "    <tr>\n",
       "      <th>2846</th>\n",
       "      <td>YBR200W</td>\n",
       "      <td>YER155C</td>\n",
       "      <td>BEM1</td>\n",
       "      <td>BEM2</td>\n",
       "      <td>SRO1|phosphatidylinositol-3-phosphate-binding ...</td>\n",
       "      <td>IPL2|SUP9|TSL1|L000000168</td>\n",
       "      <td>Synthetic Lethality</td>\n",
       "      <td>Peterson J (1994)</td>\n",
       "    </tr>\n",
       "    <tr>\n",
       "      <th>2847</th>\n",
       "      <td>YBR200W</td>\n",
       "      <td>YAL041W</td>\n",
       "      <td>BEM1</td>\n",
       "      <td>CDC24</td>\n",
       "      <td>SRO1|phosphatidylinositol-3-phosphate-binding ...</td>\n",
       "      <td>CLS4|Rho family guanine nucleotide exchange fa...</td>\n",
       "      <td>Synthetic Lethality</td>\n",
       "      <td>Peterson J (1994)</td>\n",
       "    </tr>\n",
       "    <tr>\n",
       "      <th>5004</th>\n",
       "      <td>YBR200W</td>\n",
       "      <td>YOR188W</td>\n",
       "      <td>BEM1</td>\n",
       "      <td>MSB1</td>\n",
       "      <td>SRO1|phosphatidylinositol-3-phosphate-binding ...</td>\n",
       "      <td>L000001184</td>\n",
       "      <td>Synthetic Lethality</td>\n",
       "      <td>Bender A (1991)</td>\n",
       "    </tr>\n",
       "    <tr>\n",
       "      <th>13777</th>\n",
       "      <td>YBR200W</td>\n",
       "      <td>YGR229C</td>\n",
       "      <td>BEM1</td>\n",
       "      <td>SMI1</td>\n",
       "      <td>SRO1|phosphatidylinositol-3-phosphate-binding ...</td>\n",
       "      <td>KNR4|L000000909</td>\n",
       "      <td>Synthetic Lethality</td>\n",
       "      <td>Gorelik M (2011)</td>\n",
       "    </tr>\n",
       "    <tr>\n",
       "      <th>13778</th>\n",
       "      <td>YBR200W</td>\n",
       "      <td>YNL271C</td>\n",
       "      <td>BEM1</td>\n",
       "      <td>BNI1</td>\n",
       "      <td>SRO1|phosphatidylinositol-3-phosphate-binding ...</td>\n",
       "      <td>PPF3|SHE5|formin BNI1|L000000190</td>\n",
       "      <td>Synthetic Lethality</td>\n",
       "      <td>Gorelik M (2011)</td>\n",
       "    </tr>\n",
       "    <tr>\n",
       "      <th>13779</th>\n",
       "      <td>YBR200W</td>\n",
       "      <td>YER155C</td>\n",
       "      <td>BEM1</td>\n",
       "      <td>BEM2</td>\n",
       "      <td>SRO1|phosphatidylinositol-3-phosphate-binding ...</td>\n",
       "      <td>IPL2|SUP9|TSL1|L000000168</td>\n",
       "      <td>Synthetic Lethality</td>\n",
       "      <td>Gorelik M (2011)</td>\n",
       "    </tr>\n",
       "    <tr>\n",
       "      <th>14385</th>\n",
       "      <td>YBR200W</td>\n",
       "      <td>YHR206W</td>\n",
       "      <td>BEM1</td>\n",
       "      <td>SKN7</td>\n",
       "      <td>SRO1|phosphatidylinositol-3-phosphate-binding ...</td>\n",
       "      <td>BRY1|POS9|kinase-regulated stress-responsive t...</td>\n",
       "      <td>Dosage Lethality</td>\n",
       "      <td>Bouquin N (1999)</td>\n",
       "    </tr>\n",
       "  </tbody>\n",
       "</table>\n",
       "</div>"
      ],
      "text/plain": [
       "      gene-query gene-target gene-query-name gene-target-name  \\\n",
       "2846     YBR200W     YER155C            BEM1             BEM2   \n",
       "2847     YBR200W     YAL041W            BEM1            CDC24   \n",
       "5004     YBR200W     YOR188W            BEM1             MSB1   \n",
       "13777    YBR200W     YGR229C            BEM1             SMI1   \n",
       "13778    YBR200W     YNL271C            BEM1             BNI1   \n",
       "13779    YBR200W     YER155C            BEM1             BEM2   \n",
       "14385    YBR200W     YHR206W            BEM1             SKN7   \n",
       "\n",
       "                                  gene-query-description  \\\n",
       "2846   SRO1|phosphatidylinositol-3-phosphate-binding ...   \n",
       "2847   SRO1|phosphatidylinositol-3-phosphate-binding ...   \n",
       "5004   SRO1|phosphatidylinositol-3-phosphate-binding ...   \n",
       "13777  SRO1|phosphatidylinositol-3-phosphate-binding ...   \n",
       "13778  SRO1|phosphatidylinositol-3-phosphate-binding ...   \n",
       "13779  SRO1|phosphatidylinositol-3-phosphate-binding ...   \n",
       "14385  SRO1|phosphatidylinositol-3-phosphate-binding ...   \n",
       "\n",
       "                                 gene-target-description     interaction-type  \\\n",
       "2846                           IPL2|SUP9|TSL1|L000000168  Synthetic Lethality   \n",
       "2847   CLS4|Rho family guanine nucleotide exchange fa...  Synthetic Lethality   \n",
       "5004                                          L000001184  Synthetic Lethality   \n",
       "13777                                    KNR4|L000000909  Synthetic Lethality   \n",
       "13778                   PPF3|SHE5|formin BNI1|L000000190  Synthetic Lethality   \n",
       "13779                          IPL2|SUP9|TSL1|L000000168  Synthetic Lethality   \n",
       "14385  BRY1|POS9|kinase-regulated stress-responsive t...     Dosage Lethality   \n",
       "\n",
       "            paper-source  \n",
       "2846   Peterson J (1994)  \n",
       "2847   Peterson J (1994)  \n",
       "5004     Bender A (1991)  \n",
       "13777   Gorelik M (2011)  \n",
       "13778   Gorelik M (2011)  \n",
       "13779   Gorelik M (2011)  \n",
       "14385   Bouquin N (1999)  "
      ]
     },
     "execution_count": 36,
     "metadata": {},
     "output_type": "execute_result"
    }
   ],
   "source": [
    "data_sl[data_sl['gene-query-name']=='BEM1']"
   ]
  },
  {
   "cell_type": "code",
   "execution_count": null,
   "metadata": {},
   "outputs": [],
   "source": []
  }
 ],
 "metadata": {
  "jupytext": {
   "text_representation": {
    "extension": ".md",
    "format_name": "myst"
   }
  },
  "kernelspec": {
   "display_name": "Python 3",
   "language": "python",
   "name": "python3"
  },
  "language_info": {
   "codemirror_mode": {
    "name": "ipython",
    "version": 3
   },
   "file_extension": ".py",
   "mimetype": "text/x-python",
   "name": "python",
   "nbconvert_exporter": "python",
   "pygments_lexer": "ipython3",
   "version": "3.7.6"
  },
  "source_map": [
   10,
   18,
   29,
   36,
   57,
   66,
   98,
   101,
   105,
   128,
   131,
   135,
   139,
   145,
   178,
   184,
   188,
   206,
   210,
   218,
   222,
   225,
   229,
   234,
   238,
   244,
   248,
   253,
   257,
   267,
   269,
   273,
   306,
   311,
   313,
   317,
   328,
   330,
   334,
   344,
   348,
   358,
   360,
   364,
   381,
   388,
   394,
   400,
   407,
   412,
   419,
   424,
   428,
   432
  ]
 },
 "nbformat": 4,
 "nbformat_minor": 4
}