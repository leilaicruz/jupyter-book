{
 "cells": [
  {
   "cell_type": "markdown",
   "metadata": {},
   "source": [
    "# Feature postprocessing from paper.\n",
    "- Title:  \"Predicting yeast synthetic lethal genetic interactions using protein domains\"\n",
    "- Authors: Bo Li, Feng Luo,School of Computing,Clemson University,Clemson, SC, USA\n",
    "- e-mail: bol, luofeng@clemson.edu\n",
    "- year:2009"
   ]
  },
  {
   "cell_type": "code",
   "execution_count": 1,
   "metadata": {
    "execution": {
     "iopub.execute_input": "2020-07-14T19:33:50.377633Z",
     "iopub.status.busy": "2020-07-14T19:33:50.377014Z",
     "iopub.status.idle": "2020-07-14T19:33:51.214753Z",
     "shell.execute_reply": "2020-07-14T19:33:51.213705Z"
    }
   },
   "outputs": [],
   "source": [
    "import pandas as pd\n",
    "import numpy as np\n",
    "import matplotlib.pyplot as plt\n",
    "from collections import defaultdict \n",
    "import seaborn as sns\n",
    "import matplotlib.cm as cm\n",
    "import scipy as scipy\n",
    "import random"
   ]
  },
  {
   "cell_type": "markdown",
   "metadata": {
    "jupyter": {
     "source_hidden": true
    }
   },
   "source": [
    "### Importing datasets \n",
    "\n",
    "#### Link to the github repo where the datasets to be downloaded:\n",
    "[DOWNLOAD THE DATASETS HERE](https://github.com/leilaicruz/machine-learning-for-yeast/tree/dev_Leila/datasets-for-learning)"
   ]
  },
  {
   "cell_type": "code",
   "execution_count": 2,
   "metadata": {
    "execution": {
     "iopub.execute_input": "2020-07-14T19:33:51.223267Z",
     "iopub.status.busy": "2020-07-14T19:33:51.221635Z",
     "iopub.status.idle": "2020-07-14T19:33:59.414033Z",
     "shell.execute_reply": "2020-07-14T19:33:59.413449Z"
    }
   },
   "outputs": [],
   "source": [
    "import os\n",
    "script_dir = os.path.dirname('__file__') #<-- absolute dir the script is in\n",
    "rel_path_SL = \"datasets/data-synthetic-lethals.xlsx\"\n",
    "rel_path_nSL=\"datasets/data-positive-genetic.xlsx\"\n",
    "rel_path_domains=\"datasets/proteins-domains-from-Pfam.xlsx\"\n",
    "\n",
    "abs_file_path_SL = os.path.join(script_dir, rel_path_SL)\n",
    "abs_file_path_nSL = os.path.join(script_dir, rel_path_nSL)\n",
    "abs_file_path_domains = os.path.join(script_dir, rel_path_domains)\n",
    "\n",
    "# os.chdir('mini_book/docs/') #<-- for binder os.chdir('../')\n",
    "# os.chdir('../')\n",
    "my_path_sl= abs_file_path_SL\n",
    "my_path_non_sl=abs_file_path_nSL\n",
    "my_path_domains=abs_file_path_domains\n",
    "\n",
    "data_sl=pd.read_excel(my_path_sl,header=0)\n",
    "data_domains=pd.read_excel(my_path_domains,header=0,index_col='Unnamed: 0')\n",
    "data_domains=data_domains.dropna()\n",
    "data_nonsl=pd.read_excel(my_path_non_sl,header=0)"
   ]
  },
  {
   "cell_type": "markdown",
   "metadata": {},
   "source": [
    "## Building the feature matrix\n",
    "One matrix for true SL where each row is one pair of SL. Every raw will be a vector of 0,1 or 2 depending on the comparison with the domain list. For row i the jth element = 0 if the jth element of the domain list is not in neither protein A and B, 1, if it is in one of them and 2 if it is in both of them .\n",
    "\n",
    "### Building the list of proteins domains id per protein pair separately :\n",
    "- List of protein A: Search for the Sl/nSL database the query gene name and look in the protein domain database which protein domains id has each of those queries.\n",
    "- List of protein B: Search for the Sl/nSL database the target gene name of the previous query and look in the protein domain database which protein domains id has each of those target genes."
   ]
  },
  {
   "cell_type": "code",
   "execution_count": 3,
   "metadata": {
    "execution": {
     "iopub.execute_input": "2020-07-14T19:33:59.435095Z",
     "iopub.status.busy": "2020-07-14T19:33:59.431315Z",
     "iopub.status.idle": "2020-07-14T19:34:01.974935Z",
     "shell.execute_reply": "2020-07-14T19:34:01.973988Z"
    }
   },
   "outputs": [],
   "source": [
    "# Selecting the meaningful columns in the respective dataset\n",
    "domain_id_list=data_domains['domain-name']\n",
    "query_gene=data_sl['gene-query-name']\n",
    "target_gene=data_sl['gene-target-name']\n",
    "query_gene_nonlethal=data_nonsl['gene-query-name']\n",
    "target_gene_nonlethal=data_nonsl['gene-target-name']\n",
    "\n",
    "\n",
    "\n",
    "# Initialising the arrays\n",
    "protein_a_list=[]\n",
    "protein_b_list=[]\n",
    "protein_a_list_non=[]\n",
    "protein_b_list_non=[]\n",
    "\n",
    "population = np.arange(0,len(data_sl))\n",
    "\n",
    "# For loop for 10000 pairs sampled randomly from the SL/nSl pair list , and creating a big array of proteind domains id per protein pair\n",
    "\n",
    "for m in random.sample(list(population), 500):\n",
    "    protein_a=data_domains[data_domains['name']==query_gene[m]]\n",
    "    protein_b=data_domains[data_domains['name']==target_gene[m]]\n",
    "    protein_a_list.append(protein_a['domain-name'].tolist())\n",
    "    protein_b_list.append(protein_b['domain-name'].tolist())\n",
    "\n",
    "    protein_a_non=data_domains[data_domains['name']==query_gene_nonlethal[m]]\n",
    "    protein_b_non=data_domains[data_domains['name']==target_gene_nonlethal[m]]\n",
    "    protein_a_list_non.append(protein_a_non['domain-name'].tolist())\n",
    "    protein_b_list_non.append(protein_b_non['domain-name'].tolist())"
   ]
  },
  {
   "cell_type": "code",
   "execution_count": 4,
   "metadata": {
    "execution": {
     "iopub.execute_input": "2020-07-14T19:34:01.980714Z",
     "iopub.status.busy": "2020-07-14T19:34:01.980071Z",
     "iopub.status.idle": "2020-07-14T19:34:01.985439Z",
     "shell.execute_reply": "2020-07-14T19:34:01.984810Z"
    }
   },
   "outputs": [
    {
     "name": "stdout",
     "output_type": "stream",
     "text": [
      "We are going to analyze 500 protein pairs, out of 17871 SL protein pairs\n",
      "We are going to analyze 500 protein pairs, out of 43340 positive protein pairs\n"
     ]
    }
   ],
   "source": [
    "print('We are going to analyze',len((protein_a_list)) ,'protein pairs, out of',len(data_sl),'SL protein pairs')\n",
    "print('We are going to analyze',len((protein_a_list_non)) ,'protein pairs, out of',len(data_nonsl),'positive protein pairs')"
   ]
  },
  {
   "cell_type": "markdown",
   "metadata": {},
   "source": [
    "### Postprocessing #1:  Remove protein pairs from study if either protein in the pair does not contain any domain"
   ]
  },
  {
   "cell_type": "code",
   "execution_count": 5,
   "metadata": {
    "execution": {
     "iopub.execute_input": "2020-07-14T19:34:01.995859Z",
     "iopub.status.busy": "2020-07-14T19:34:01.995274Z",
     "iopub.status.idle": "2020-07-14T19:34:02.000375Z",
     "shell.execute_reply": "2020-07-14T19:34:01.999838Z"
    }
   },
   "outputs": [],
   "source": [
    "def remove_empty_domains(protein_list_search,protein_list_pair):\n",
    "    index=[]\n",
    "    for i in np.arange(0,len(protein_list_search)):\n",
    "        if protein_list_search[i]==[] or protein_list_pair[i]==[]:\n",
    "            index.append(i) ## index of empty values for the protein_a_list meaning they dont have any annotated domain\n",
    "\n",
    "    y=[x for x in np.arange(0,len(protein_list_search)) if x not in index] # a list with non empty values from protein_a list\n",
    "\n",
    "    protein_list_search_new=[]\n",
    "    protein_list_pair_new=[]\n",
    "    for i in y:\n",
    "        protein_list_search_new.append(protein_list_search[i])\n",
    "        protein_list_pair_new.append(protein_list_pair[i])\n",
    "    return protein_list_search_new,protein_list_pair_new\n",
    "\n",
    "## evaluating the function\n",
    "\n",
    "protein_a_list_new,protein_b_list_new=remove_empty_domains(protein_a_list,protein_b_list)\n",
    "\n",
    "protein_a_list_non_new,protein_b_list_non_new=remove_empty_domains(protein_a_list_non,protein_b_list_non)"
   ]
  },
  {
   "cell_type": "code",
   "execution_count": 6,
   "metadata": {
    "execution": {
     "iopub.execute_input": "2020-07-14T19:34:02.005298Z",
     "iopub.status.busy": "2020-07-14T19:34:02.004728Z",
     "iopub.status.idle": "2020-07-14T19:34:02.009147Z",
     "shell.execute_reply": "2020-07-14T19:34:02.009669Z"
    }
   },
   "outputs": [
    {
     "name": "stdout",
     "output_type": "stream",
     "text": [
      "The empty domain in the SL were: 79 out of 500 domains\n",
      "The empty domain in the nSL were: 89 out of 500 domains\n"
     ]
    }
   ],
   "source": [
    "print('The empty domain in the SL were:', len(protein_a_list)-len(protein_a_list_new), 'out of', len(protein_a_list),'domains')\n",
    "print('The empty domain in the nSL were:', len(protein_a_list_non)-len(protein_a_list_non_new), 'out of', len(protein_a_list_non),'domains')"
   ]
  },
  {
   "cell_type": "markdown",
   "metadata": {},
   "source": [
    "### Feature engineering: Select from each ordered indexes of domain id list which of them appear once, in both or in any of the domains of each protein pair"
   ]
  },
  {
   "cell_type": "markdown",
   "metadata": {},
   "source": [
    "#### Define function `get_indexes`"
   ]
  },
  {
   "cell_type": "code",
   "execution_count": 7,
   "metadata": {
    "execution": {
     "iopub.execute_input": "2020-07-14T19:34:02.016383Z",
     "iopub.status.busy": "2020-07-14T19:34:02.015824Z",
     "iopub.status.idle": "2020-07-14T19:34:02.021528Z",
     "shell.execute_reply": "2020-07-14T19:34:02.021965Z"
    }
   },
   "outputs": [
    {
     "data": {
      "text/plain": [
       "[1, 2]"
      ]
     },
     "execution_count": 7,
     "metadata": {},
     "output_type": "execute_result"
    }
   ],
   "source": [
    "get_indexes = lambda x, xs: [i for (y, i) in zip(xs, range(len(xs))) if x == y] # a function that give the index of whether a value appear in array or not\n",
    "a=[1,2,2,4,5,6,7,8,9,10]\n",
    "get_indexes(2,a)"
   ]
  },
  {
   "cell_type": "code",
   "execution_count": 8,
   "metadata": {
    "execution": {
     "iopub.execute_input": "2020-07-14T19:34:02.030913Z",
     "iopub.status.busy": "2020-07-14T19:34:02.030324Z",
     "iopub.status.idle": "2020-07-14T19:34:02.034290Z",
     "shell.execute_reply": "2020-07-14T19:34:02.033724Z"
    }
   },
   "outputs": [],
   "source": [
    "def feature_building(protein_a_list_new,protein_b_list_new):\n",
    "    x = np.unique(domain_id_list)\n",
    "    ## To avoid taking repeated domains from one protein of the pairs , lets reduced the domains of each protein from the pairs to their unique members\n",
    "    protein_a_list_unique=[]\n",
    "    protein_b_list_unique=[]\n",
    "    for i in np.arange(0,len(protein_a_list_new)):\n",
    "        protein_a_list_unique.append(np.unique(protein_a_list_new[i]))\n",
    "        protein_b_list_unique.append(np.unique(protein_b_list_new[i]))\n",
    "        \n",
    "    protein_feat_true=np.zeros(shape=(len(x),len(protein_a_list_unique)))\n",
    "    pair_a_b_array=[]\n",
    "    for i in np.arange(0,len(protein_a_list_unique)):\n",
    "        index_a=[]\n",
    "        \n",
    "        pair=[protein_a_list_unique[i],protein_b_list_unique[i]]\n",
    "        pair_a_b=np.concatenate(pair).ravel()\n",
    "        pair_a_b_array.append(pair_a_b)\n",
    "\n",
    "    j=0\n",
    "    for i in pair_a_b_array:  \n",
    "        array,index,counts=np.unique(i,return_index=True,return_counts=True)\n",
    "        \n",
    "        for k,m in zip(counts,array):\n",
    "            if k ==2:\n",
    "                protein_feat_true[get_indexes(m,x),j]=2\n",
    "                \n",
    "            if k==1:\n",
    "                protein_feat_true[get_indexes(m,x),j]=1\n",
    "        j=j+1\n",
    "    return protein_feat_true"
   ]
  },
  {
   "cell_type": "code",
   "execution_count": 9,
   "metadata": {
    "execution": {
     "iopub.execute_input": "2020-07-14T19:34:02.045236Z",
     "iopub.status.busy": "2020-07-14T19:34:02.043693Z",
     "iopub.status.idle": "2020-07-14T19:34:02.874213Z",
     "shell.execute_reply": "2020-07-14T19:34:02.874718Z"
    }
   },
   "outputs": [],
   "source": [
    "protein_feat_true=feature_building(protein_b_list_new=protein_b_list_new,protein_a_list_new=protein_a_list_new)\n",
    "protein_feat_true_pd=pd.DataFrame(protein_feat_true.T)\n",
    "\n",
    "protein_feat_non_true=feature_building(protein_b_list_new=protein_b_list_non_new,protein_a_list_new=protein_a_list_non_new)\n",
    "protein_feat_non_true_pd=pd.DataFrame(protein_feat_non_true.T)"
   ]
  },
  {
   "cell_type": "markdown",
   "metadata": {},
   "source": [
    "### How many ones and twos are in each dataset"
   ]
  },
  {
   "cell_type": "code",
   "execution_count": 10,
   "metadata": {
    "execution": {
     "iopub.execute_input": "2020-07-14T19:34:02.884210Z",
     "iopub.status.busy": "2020-07-14T19:34:02.883006Z",
     "iopub.status.idle": "2020-07-14T19:34:02.993821Z",
     "shell.execute_reply": "2020-07-14T19:34:02.994308Z"
    }
   },
   "outputs": [
    {
     "name": "stdout",
     "output_type": "stream",
     "text": [
      "fraction of twos in the SL array is 1.4133998154728018e-05\n",
      "fraction of ones in the SL array is 0.0010427749749710449\n",
      "fraction of twos in the PI array is 8.847600088476001e-06\n",
      "fraction of ones in the PI array is 0.000909694154551487\n"
     ]
    }
   ],
   "source": [
    "index_2_true=protein_feat_true_pd.where(protein_feat_true_pd==2)\n",
    "index_2_true_count=index_2_true.count(axis=1).sum()\n",
    "\n",
    "index_1_true=protein_feat_true_pd.where(protein_feat_true_pd==1)\n",
    "index_1_true_count=index_1_true.count(axis=1).sum()\n",
    "\n",
    "index_2_nontrue=protein_feat_non_true_pd.where(protein_feat_non_true_pd==2)\n",
    "index_2_nontrue_count=index_2_nontrue.count(axis=1).sum()\n",
    "\n",
    "index_1_nontrue=protein_feat_non_true_pd.where(protein_feat_non_true_pd==1)\n",
    "index_1_nontrue_count=index_1_nontrue.count(axis=1).sum()\n",
    "\n",
    "\n",
    "print('fraction of twos in the SL array is',index_2_true_count/(len(protein_feat_true_pd.index)*len(protein_feat_true_pd.columns)))\n",
    "print('fraction of ones in the SL array is',index_1_true_count/(len(protein_feat_true_pd.index)*len(protein_feat_true_pd.columns)))\n",
    "print('fraction of twos in the PI array is',index_2_nontrue_count/(len(protein_feat_non_true_pd.index)*len(protein_feat_non_true_pd.columns)))\n",
    "print('fraction of ones in the PI array is',index_1_nontrue_count/(len(protein_feat_non_true_pd.index)*len(protein_feat_non_true_pd.columns)))"
   ]
  },
  {
   "cell_type": "markdown",
   "metadata": {},
   "source": [
    "#### Bar plot to visualize these numbers"
   ]
  },
  {
   "cell_type": "code",
   "execution_count": 11,
   "metadata": {
    "execution": {
     "iopub.execute_input": "2020-07-14T19:34:03.015379Z",
     "iopub.status.busy": "2020-07-14T19:34:03.002242Z",
     "iopub.status.idle": "2020-07-14T19:34:03.487725Z",
     "shell.execute_reply": "2020-07-14T19:34:03.487225Z"
    }
   },
   "outputs": [
    {
     "data": {
      "text/plain": [
       "([0, 1, 2, 3], <a list of 4 Text major ticklabel objects>)"
      ]
     },
     "execution_count": 11,
     "metadata": {},
     "output_type": "execute_result"
    },
    {
     "data": {
      "image/png": "[encoded data removed]",
      "text/plain": [
       "<Figure size 432x288 with 1 Axes>"
      ]
     },
     "metadata": {
      "filenames": {
       "image/png": "/home/runner/work/jupyter-book/jupyter-book/mini_book/docs/_build/jupyter_execute/prot_domains2lethality-FEATURES-POSTPROCESSING_18_1.png"
      },
      "needs_background": "light"
     },
     "output_type": "display_data"
    }
   ],
   "source": [
    "plt.bar(['fraction of 2 in the nSL','fraction of 1 in the nSL'],[index_2_nontrue_count/(len(protein_feat_non_true_pd.index)*len(protein_feat_non_true_pd.columns)),index_1_nontrue_count/(len(protein_feat_non_true_pd.index)*len(protein_feat_non_true_pd.columns))],alpha=0.6,color=['blue','lightblue']), \n",
    "\n",
    "plt.bar(['fraction of 2 in SL ','fraction of 1 in SL'],[index_2_true_count/(len(protein_feat_true_pd.index)*len(protein_feat_true_pd.columns)),index_1_true_count/(len(protein_feat_true_pd.index)*len(protein_feat_true_pd.columns))],alpha=0.6,color=['coral','lightcoral'])\n",
    "\n",
    "plt.ylabel('Fraction from the population')\n",
    "plt.yscale('log')\n",
    "plt.xticks(rotation=40)"
   ]
  },
  {
   "cell_type": "markdown",
   "metadata": {},
   "source": [
    "#### Adding the labels(response variables) to each dataset"
   ]
  },
  {
   "cell_type": "code",
   "execution_count": 12,
   "metadata": {
    "execution": {
     "iopub.execute_input": "2020-07-14T19:34:03.494377Z",
     "iopub.status.busy": "2020-07-14T19:34:03.492731Z",
     "iopub.status.idle": "2020-07-14T19:34:03.497729Z",
     "shell.execute_reply": "2020-07-14T19:34:03.497228Z"
    }
   },
   "outputs": [],
   "source": [
    "protein_feat_true_pd['lethality']=np.ones(shape=(len(protein_a_list_new)))\n",
    "protein_feat_non_true_pd['lethality']=np.zeros(shape=(len(protein_a_list_non_new)))"
   ]
  },
  {
   "cell_type": "markdown",
   "metadata": {},
   "source": [
    "#### Joining both datasets"
   ]
  },
  {
   "cell_type": "code",
   "execution_count": 13,
   "metadata": {
    "execution": {
     "iopub.execute_input": "2020-07-14T19:34:03.503304Z",
     "iopub.status.busy": "2020-07-14T19:34:03.502424Z",
     "iopub.status.idle": "2020-07-14T19:34:03.543968Z",
     "shell.execute_reply": "2020-07-14T19:34:03.543427Z"
    }
   },
   "outputs": [
    {
     "name": "stdout",
     "output_type": "stream",
     "text": [
      "The number of features are: 3026\n",
      "The number of samples are: 832\n"
     ]
    }
   ],
   "source": [
    "feature_post=pd.concat([protein_feat_true_pd,protein_feat_non_true_pd],axis=0)\n",
    "feature_post=feature_post.set_index(np.arange(0,len(protein_a_list_new)+len(protein_a_list_non_new)))\n",
    "print('The number of features are:',feature_post.shape[1])\n",
    "print('The number of samples are:',feature_post.shape[0])"
   ]
  },
  {
   "cell_type": "markdown",
   "metadata": {},
   "source": [
    "### Postprocessing and exploration of the feature matrix of both datasets"
   ]
  },
  {
   "cell_type": "code",
   "execution_count": 14,
   "metadata": {
    "execution": {
     "iopub.execute_input": "2020-07-14T19:34:03.562462Z",
     "iopub.status.busy": "2020-07-14T19:34:03.548970Z",
     "iopub.status.idle": "2020-07-14T19:34:08.937442Z",
     "shell.execute_reply": "2020-07-14T19:34:08.938614Z"
    }
   },
   "outputs": [],
   "source": [
    "mean=feature_post.T.describe().loc['mean']\n",
    "std=feature_post.T.describe().loc['std']\n",
    "lethality=feature_post['lethality']\n",
    "\n",
    "corr_keys=pd.concat([mean,std,lethality],axis=1)"
   ]
  },
  {
   "cell_type": "markdown",
   "metadata": {},
   "source": [
    "### Viz of the stats"
   ]
  },
  {
   "cell_type": "code",
   "execution_count": 15,
   "metadata": {
    "execution": {
     "iopub.execute_input": "2020-07-14T19:34:08.945347Z",
     "iopub.status.busy": "2020-07-14T19:34:08.944358Z",
     "iopub.status.idle": "2020-07-14T19:34:10.944005Z",
     "shell.execute_reply": "2020-07-14T19:34:10.943023Z"
    }
   },
   "outputs": [
    {
     "data": {
      "text/plain": [
       "Text(0.5, 1.08, 'Pairplot to see data dependencies with Lethality')"
      ]
     },
     "execution_count": 15,
     "metadata": {},
     "output_type": "execute_result"
    },
    {
     "data": {
      "image/png": "[encoded data removed]",
      "text/plain": [
       "<Figure size 412x360 with 6 Axes>"
      ]
     },
     "metadata": {
      "filenames": {
       "image/png": "/home/runner/work/jupyter-book/jupyter-book/mini_book/docs/_build/jupyter_execute/prot_domains2lethality-FEATURES-POSTPROCESSING_26_1.png"
      },
      "needs_background": "light"
     },
     "output_type": "display_data"
    }
   ],
   "source": [
    "pair=sns.pairplot(corr_keys,hue='lethality',diag_kind='kde',kind='reg',palette='colorblind')\n",
    "pair.fig.suptitle('Pairplot to see data dependencies with Lethality',y=1.08)"
   ]
  },
  {
   "cell_type": "code",
   "execution_count": 16,
   "metadata": {
    "execution": {
     "iopub.execute_input": "2020-07-14T19:34:10.956251Z",
     "iopub.status.busy": "2020-07-14T19:34:10.955191Z",
     "iopub.status.idle": "2020-07-14T19:34:10.957540Z",
     "shell.execute_reply": "2020-07-14T19:34:10.958176Z"
    }
   },
   "outputs": [],
   "source": [
    "X, y = feature_post.drop(columns=[\"lethality\"]), feature_post[\"lethality\"]"
   ]
  },
  {
   "cell_type": "code",
   "execution_count": 17,
   "metadata": {
    "execution": {
     "iopub.execute_input": "2020-07-14T19:34:10.963927Z",
     "iopub.status.busy": "2020-07-14T19:34:10.963061Z",
     "iopub.status.idle": "2020-07-14T19:34:11.126364Z",
     "shell.execute_reply": "2020-07-14T19:34:11.125694Z"
    }
   },
   "outputs": [],
   "source": [
    "from sklearn.preprocessing import StandardScaler\n",
    "scaler = StandardScaler()\n",
    "x_sl=protein_feat_true_pd.drop(columns=['lethality'])\n",
    "x_nsl=protein_feat_non_true_pd.drop(columns=['lethality'])\n",
    "\n",
    "X_sl_scaled = scaler.fit_transform(x_sl)\n",
    "X_nsl_scaled = scaler.fit_transform(x_nsl)"
   ]
  },
  {
   "cell_type": "code",
   "execution_count": 18,
   "metadata": {
    "execution": {
     "iopub.execute_input": "2020-07-14T19:34:11.132782Z",
     "iopub.status.busy": "2020-07-14T19:34:11.131387Z",
     "iopub.status.idle": "2020-07-14T19:34:11.134632Z",
     "shell.execute_reply": "2020-07-14T19:34:11.135136Z"
    }
   },
   "outputs": [
    {
     "data": {
      "text/plain": [
       "(421, 3025)"
      ]
     },
     "execution_count": 18,
     "metadata": {},
     "output_type": "execute_result"
    }
   ],
   "source": [
    "np.shape(X_sl_scaled)"
   ]
  },
  {
   "cell_type": "markdown",
   "metadata": {},
   "source": [
    "## How redundant are each of the protein domains?"
   ]
  },
  {
   "cell_type": "code",
   "execution_count": 19,
   "metadata": {
    "execution": {
     "iopub.execute_input": "2020-07-14T19:34:11.144109Z",
     "iopub.status.busy": "2020-07-14T19:34:11.142789Z",
     "iopub.status.idle": "2020-07-14T19:34:11.145068Z",
     "shell.execute_reply": "2020-07-14T19:34:11.145612Z"
    }
   },
   "outputs": [],
   "source": [
    "def PCA_component_contribution(scaled_matrix,original_data):\n",
    "    from sklearn.decomposition import PCA\n",
    "\n",
    "    model = PCA(0.95).fit(scaled_matrix)\n",
    "    ## apply dimensionality reduction to X_train\n",
    "    output_pca = model.transform(scaled_matrix)\n",
    "    \n",
    "    total=sum(model.explained_variance_)\n",
    "\n",
    "\n",
    "   \n",
    "    # number of components , that it will be the number of main axes times the number of original components \n",
    "    n_pcs= model.components_.shape[0] # the amount of non redundant protein domains \n",
    "\n",
    "    # get the index of the most important feature on EACH component\n",
    "    # LIST COMPREHENSION HERE\n",
    "    most_important = [np.abs(model.components_[i]).argmax() for i in range(n_pcs)]\n",
    "\n",
    "    initial_feature_names = original_data.columns\n",
    "    # get the names\n",
    "    most_important_names = [initial_feature_names[most_important[i]] for i in range(n_pcs)]\n",
    "    \n",
    "\n",
    "    # LIST COMPREHENSION HERE AGAIN\n",
    "    dic = {'PC{}'.format(i): most_important_names[i] for i in range(n_pcs)}\n",
    "\n",
    "    # build the dataframe\n",
    "    df = pd.DataFrame(dic.items(),columns=['pca-component','domain-number'])\n",
    "\n",
    "    return df,model.components_"
   ]
  },
  {
   "cell_type": "code",
   "execution_count": 20,
   "metadata": {
    "execution": {
     "iopub.execute_input": "2020-07-14T19:34:11.150122Z",
     "iopub.status.busy": "2020-07-14T19:34:11.149556Z",
     "iopub.status.idle": "2020-07-14T19:34:11.915326Z",
     "shell.execute_reply": "2020-07-14T19:34:11.915847Z"
    }
   },
   "outputs": [],
   "source": [
    "df_sl,components_pca_nsl=PCA_component_contribution(X_nsl_scaled,x_nsl)\n",
    "df_nsl,components_pca_sl=PCA_component_contribution(X_sl_scaled,x_sl)"
   ]
  },
  {
   "cell_type": "code",
   "execution_count": 21,
   "metadata": {
    "execution": {
     "iopub.execute_input": "2020-07-14T19:34:11.918497Z",
     "iopub.status.busy": "2020-07-14T19:34:11.917862Z",
     "iopub.status.idle": "2020-07-14T19:34:11.927027Z",
     "shell.execute_reply": "2020-07-14T19:34:11.927718Z"
    }
   },
   "outputs": [
    {
     "data": {
      "text/html": [
       "<div>\n",
       "<style scoped>\n",
       "    .dataframe tbody tr th:only-of-type {\n",
       "        vertical-align: middle;\n",
       "    }\n",
       "\n",
       "    .dataframe tbody tr th {\n",
       "        vertical-align: top;\n",
       "    }\n",
       "\n",
       "    .dataframe thead th {\n",
       "        text-align: right;\n",
       "    }\n",
       "</style>\n",
       "<table border=\"1\" class=\"dataframe\">\n",
       "  <thead>\n",
       "    <tr style=\"text-align: right;\">\n",
       "      <th></th>\n",
       "      <th>pca-component</th>\n",
       "      <th>domain-number</th>\n",
       "    </tr>\n",
       "  </thead>\n",
       "  <tbody>\n",
       "    <tr>\n",
       "      <th>0</th>\n",
       "      <td>PC0</td>\n",
       "      <td>1040</td>\n",
       "    </tr>\n",
       "    <tr>\n",
       "      <th>1</th>\n",
       "      <td>PC1</td>\n",
       "      <td>142</td>\n",
       "    </tr>\n",
       "    <tr>\n",
       "      <th>2</th>\n",
       "      <td>PC2</td>\n",
       "      <td>2233</td>\n",
       "    </tr>\n",
       "    <tr>\n",
       "      <th>3</th>\n",
       "      <td>PC3</td>\n",
       "      <td>135</td>\n",
       "    </tr>\n",
       "    <tr>\n",
       "      <th>4</th>\n",
       "      <td>PC4</td>\n",
       "      <td>211</td>\n",
       "    </tr>\n",
       "  </tbody>\n",
       "</table>\n",
       "</div>"
      ],
      "text/plain": [
       "  pca-component  domain-number\n",
       "0           PC0           1040\n",
       "1           PC1            142\n",
       "2           PC2           2233\n",
       "3           PC3            135\n",
       "4           PC4            211"
      ]
     },
     "execution_count": 21,
     "metadata": {},
     "output_type": "execute_result"
    }
   ],
   "source": [
    "df_sl.head()"
   ]
  },
  {
   "cell_type": "markdown",
   "metadata": {},
   "source": [
    "## which are the shared domains between nSL and SL pairs , in the PCA reduced samples"
   ]
  },
  {
   "cell_type": "code",
   "execution_count": 22,
   "metadata": {
    "execution": {
     "iopub.execute_input": "2020-07-14T19:34:11.930262Z",
     "iopub.status.busy": "2020-07-14T19:34:11.929643Z",
     "iopub.status.idle": "2020-07-14T19:34:11.962625Z",
     "shell.execute_reply": "2020-07-14T19:34:11.963233Z"
    }
   },
   "outputs": [
    {
     "data": {
      "text/html": [
       "<div>\n",
       "<style scoped>\n",
       "    .dataframe tbody tr th:only-of-type {\n",
       "        vertical-align: middle;\n",
       "    }\n",
       "\n",
       "    .dataframe tbody tr th {\n",
       "        vertical-align: top;\n",
       "    }\n",
       "\n",
       "    .dataframe thead th {\n",
       "        text-align: right;\n",
       "    }\n",
       "</style>\n",
       "<table border=\"1\" class=\"dataframe\">\n",
       "  <thead>\n",
       "    <tr style=\"text-align: right;\">\n",
       "      <th></th>\n",
       "      <th>pca-component_x</th>\n",
       "      <th>domain-number</th>\n",
       "      <th>pca-component_y</th>\n",
       "      <th>domain-description</th>\n",
       "    </tr>\n",
       "  </thead>\n",
       "  <tbody>\n",
       "    <tr>\n",
       "      <th>0</th>\n",
       "      <td>PC3</td>\n",
       "      <td>135</td>\n",
       "      <td>PC5</td>\n",
       "      <td>ATP-synt_ab_Xtn; ATPsynthase alpha/beta subuni...</td>\n",
       "    </tr>\n",
       "    <tr>\n",
       "      <th>1</th>\n",
       "      <td>PC6</td>\n",
       "      <td>2113</td>\n",
       "      <td>PC7</td>\n",
       "      <td>Rav1p_C; RAVE complex protein Rav1 C-terminal</td>\n",
       "    </tr>\n",
       "    <tr>\n",
       "      <th>2</th>\n",
       "      <td>PC23</td>\n",
       "      <td>2544</td>\n",
       "      <td>PC8</td>\n",
       "      <td>Sybindin; Trafficking protein particle complex...</td>\n",
       "    </tr>\n",
       "    <tr>\n",
       "      <th>3</th>\n",
       "      <td>PC24</td>\n",
       "      <td>129</td>\n",
       "      <td>PC22</td>\n",
       "      <td>ATP-synt_F; ATPase, V1 complex, subunit F</td>\n",
       "    </tr>\n",
       "    <tr>\n",
       "      <th>4</th>\n",
       "      <td>PC30</td>\n",
       "      <td>696</td>\n",
       "      <td>PC59</td>\n",
       "      <td>DUF3402; Protein of unknown function DUF3402</td>\n",
       "    </tr>\n",
       "    <tr>\n",
       "      <th>5</th>\n",
       "      <td>PC30</td>\n",
       "      <td>696</td>\n",
       "      <td>PC60</td>\n",
       "      <td>DUF3402; Protein of unknown function DUF3402</td>\n",
       "    </tr>\n",
       "    <tr>\n",
       "      <th>6</th>\n",
       "      <td>PC32</td>\n",
       "      <td>383</td>\n",
       "      <td>PC29</td>\n",
       "      <td>COPI_C; Coatomer, alpha subunit, C-terminal</td>\n",
       "    </tr>\n",
       "    <tr>\n",
       "      <th>7</th>\n",
       "      <td>PC38</td>\n",
       "      <td>206</td>\n",
       "      <td>PC10</td>\n",
       "      <td>Ammonium_transp; Ammonium transporter AmtB-lik...</td>\n",
       "    </tr>\n",
       "    <tr>\n",
       "      <th>8</th>\n",
       "      <td>PC39</td>\n",
       "      <td>282</td>\n",
       "      <td>PC93</td>\n",
       "      <td>BRE1; E3 ubiquitin ligase, BRE1</td>\n",
       "    </tr>\n",
       "    <tr>\n",
       "      <th>9</th>\n",
       "      <td>PC57</td>\n",
       "      <td>80</td>\n",
       "      <td>PC54</td>\n",
       "      <td>AMPKBI; Association with the SNF1 complex (ASC...</td>\n",
       "    </tr>\n",
       "    <tr>\n",
       "      <th>10</th>\n",
       "      <td>PC69</td>\n",
       "      <td>2266</td>\n",
       "      <td>PC128</td>\n",
       "      <td>Rrp15p; Ribosomal RNA-processing protein 15</td>\n",
       "    </tr>\n",
       "    <tr>\n",
       "      <th>11</th>\n",
       "      <td>PC81</td>\n",
       "      <td>410</td>\n",
       "      <td>PC41</td>\n",
       "      <td>CRAL_TRIO; CRAL-TRIO lipid binding domain</td>\n",
       "    </tr>\n",
       "    <tr>\n",
       "      <th>12</th>\n",
       "      <td>PC82</td>\n",
       "      <td>410</td>\n",
       "      <td>PC41</td>\n",
       "      <td>CRAL_TRIO; CRAL-TRIO lipid binding domain</td>\n",
       "    </tr>\n",
       "    <tr>\n",
       "      <th>13</th>\n",
       "      <td>PC86</td>\n",
       "      <td>410</td>\n",
       "      <td>PC41</td>\n",
       "      <td>CRAL_TRIO; CRAL-TRIO lipid binding domain</td>\n",
       "    </tr>\n",
       "    <tr>\n",
       "      <th>14</th>\n",
       "      <td>PC100</td>\n",
       "      <td>2151</td>\n",
       "      <td>PC195</td>\n",
       "      <td>Ribosomal_60s</td>\n",
       "    </tr>\n",
       "    <tr>\n",
       "      <th>15</th>\n",
       "      <td>PC101</td>\n",
       "      <td>2371</td>\n",
       "      <td>PC133</td>\n",
       "      <td>SPT2; Chromatin SPT2</td>\n",
       "    </tr>\n",
       "    <tr>\n",
       "      <th>16</th>\n",
       "      <td>PC103</td>\n",
       "      <td>2371</td>\n",
       "      <td>PC133</td>\n",
       "      <td>SPT2; Chromatin SPT2</td>\n",
       "    </tr>\n",
       "    <tr>\n",
       "      <th>17</th>\n",
       "      <td>PC102</td>\n",
       "      <td>2916</td>\n",
       "      <td>PC139</td>\n",
       "      <td>fn3_2; Fibronectin type III domain, fungi</td>\n",
       "    </tr>\n",
       "    <tr>\n",
       "      <th>18</th>\n",
       "      <td>PC102</td>\n",
       "      <td>2916</td>\n",
       "      <td>PC140</td>\n",
       "      <td>fn3_2; Fibronectin type III domain, fungi</td>\n",
       "    </tr>\n",
       "    <tr>\n",
       "      <th>19</th>\n",
       "      <td>PC114</td>\n",
       "      <td>861</td>\n",
       "      <td>PC113</td>\n",
       "      <td>FAD-oxidase_C; FAD-linked oxidase, C-terminal</td>\n",
       "    </tr>\n",
       "    <tr>\n",
       "      <th>20</th>\n",
       "      <td>PC115</td>\n",
       "      <td>861</td>\n",
       "      <td>PC113</td>\n",
       "      <td>FAD-oxidase_C; FAD-linked oxidase, C-terminal</td>\n",
       "    </tr>\n",
       "    <tr>\n",
       "      <th>21</th>\n",
       "      <td>PC118</td>\n",
       "      <td>221</td>\n",
       "      <td>PC25</td>\n",
       "      <td>Apq12; Nuclear pore assembly and biogenesis pr...</td>\n",
       "    </tr>\n",
       "    <tr>\n",
       "      <th>22</th>\n",
       "      <td>PC125</td>\n",
       "      <td>1362</td>\n",
       "      <td>PC163</td>\n",
       "      <td>MDM31_MDM32; Mitochondrial distribution and mo...</td>\n",
       "    </tr>\n",
       "    <tr>\n",
       "      <th>23</th>\n",
       "      <td>PC133</td>\n",
       "      <td>1836</td>\n",
       "      <td>PC56</td>\n",
       "      <td>PTPLA; Protein-tyrosine phosphatase-like, PTPLA</td>\n",
       "    </tr>\n",
       "    <tr>\n",
       "      <th>24</th>\n",
       "      <td>PC136</td>\n",
       "      <td>30</td>\n",
       "      <td>PC262</td>\n",
       "      <td>AAR2; A1 cistron-splicing factor, AAR2</td>\n",
       "    </tr>\n",
       "    <tr>\n",
       "      <th>25</th>\n",
       "      <td>PC144</td>\n",
       "      <td>1046</td>\n",
       "      <td>PC187</td>\n",
       "      <td>Glyco_hydro_18; Glycoside hydrolase family 18,...</td>\n",
       "    </tr>\n",
       "    <tr>\n",
       "      <th>26</th>\n",
       "      <td>PC147</td>\n",
       "      <td>778</td>\n",
       "      <td>PC146</td>\n",
       "      <td>E1_UFD; Ubiquitin-activating enzyme E1, C-term...</td>\n",
       "    </tr>\n",
       "    <tr>\n",
       "      <th>27</th>\n",
       "      <td>PC147</td>\n",
       "      <td>778</td>\n",
       "      <td>PC154</td>\n",
       "      <td>E1_UFD; Ubiquitin-activating enzyme E1, C-term...</td>\n",
       "    </tr>\n",
       "    <tr>\n",
       "      <th>28</th>\n",
       "      <td>PC147</td>\n",
       "      <td>778</td>\n",
       "      <td>PC157</td>\n",
       "      <td>E1_UFD; Ubiquitin-activating enzyme E1, C-term...</td>\n",
       "    </tr>\n",
       "    <tr>\n",
       "      <th>29</th>\n",
       "      <td>PC151</td>\n",
       "      <td>2759</td>\n",
       "      <td>PC206</td>\n",
       "      <td>UPF0220; Uncharacterised protein family UPF0220</td>\n",
       "    </tr>\n",
       "    <tr>\n",
       "      <th>30</th>\n",
       "      <td>PC152</td>\n",
       "      <td>2759</td>\n",
       "      <td>PC206</td>\n",
       "      <td>UPF0220; Uncharacterised protein family UPF0220</td>\n",
       "    </tr>\n",
       "    <tr>\n",
       "      <th>31</th>\n",
       "      <td>PC160</td>\n",
       "      <td>2244</td>\n",
       "      <td>PC126</td>\n",
       "      <td>Ribosomal_S6e; Ribosomal protein S6e</td>\n",
       "    </tr>\n",
       "    <tr>\n",
       "      <th>32</th>\n",
       "      <td>PC161</td>\n",
       "      <td>1301</td>\n",
       "      <td>PC6</td>\n",
       "      <td>LRR_4; Leucine rich repeat 4</td>\n",
       "    </tr>\n",
       "    <tr>\n",
       "      <th>33</th>\n",
       "      <td>PC165</td>\n",
       "      <td>1904</td>\n",
       "      <td>PC207</td>\n",
       "      <td>PfkB; Carbohydrate kinase PfkB</td>\n",
       "    </tr>\n",
       "    <tr>\n",
       "      <th>34</th>\n",
       "      <td>PC179</td>\n",
       "      <td>640</td>\n",
       "      <td>PC23</td>\n",
       "      <td>DUF155; Domain of unknown function DUF155</td>\n",
       "    </tr>\n",
       "    <tr>\n",
       "      <th>35</th>\n",
       "      <td>PC183</td>\n",
       "      <td>109</td>\n",
       "      <td>PC115</td>\n",
       "      <td>ATG13; Autophagy-related protein 13</td>\n",
       "    </tr>\n",
       "    <tr>\n",
       "      <th>36</th>\n",
       "      <td>PC184</td>\n",
       "      <td>109</td>\n",
       "      <td>PC115</td>\n",
       "      <td>ATG13; Autophagy-related protein 13</td>\n",
       "    </tr>\n",
       "    <tr>\n",
       "      <th>37</th>\n",
       "      <td>PC185</td>\n",
       "      <td>1449</td>\n",
       "      <td>PC119</td>\n",
       "      <td>Med4; Mediator complex, subunit Med4</td>\n",
       "    </tr>\n",
       "    <tr>\n",
       "      <th>38</th>\n",
       "      <td>PC189</td>\n",
       "      <td>1449</td>\n",
       "      <td>PC119</td>\n",
       "      <td>Med4; Mediator complex, subunit Med4</td>\n",
       "    </tr>\n",
       "    <tr>\n",
       "      <th>39</th>\n",
       "      <td>PC197</td>\n",
       "      <td>316</td>\n",
       "      <td>PC17</td>\n",
       "      <td>CAF20; Cap-associated protein Caf20</td>\n",
       "    </tr>\n",
       "    <tr>\n",
       "      <th>40</th>\n",
       "      <td>PC198</td>\n",
       "      <td>316</td>\n",
       "      <td>PC17</td>\n",
       "      <td>CAF20; Cap-associated protein Caf20</td>\n",
       "    </tr>\n",
       "    <tr>\n",
       "      <th>41</th>\n",
       "      <td>PC202</td>\n",
       "      <td>63</td>\n",
       "      <td>PC107</td>\n",
       "      <td>AICARFT_IMPCHas; AICARFT/IMPCHase bienzyme</td>\n",
       "    </tr>\n",
       "    <tr>\n",
       "      <th>42</th>\n",
       "      <td>PC204</td>\n",
       "      <td>1969</td>\n",
       "      <td>PC114</td>\n",
       "      <td>RAI1; RAI1-like</td>\n",
       "    </tr>\n",
       "    <tr>\n",
       "      <th>43</th>\n",
       "      <td>PC213</td>\n",
       "      <td>2651</td>\n",
       "      <td>PC190</td>\n",
       "      <td>Telomere_reg-2; Telomere length regulation pro...</td>\n",
       "    </tr>\n",
       "    <tr>\n",
       "      <th>44</th>\n",
       "      <td>PC219</td>\n",
       "      <td>2651</td>\n",
       "      <td>PC190</td>\n",
       "      <td>Telomere_reg-2; Telomere length regulation pro...</td>\n",
       "    </tr>\n",
       "    <tr>\n",
       "      <th>45</th>\n",
       "      <td>PC221</td>\n",
       "      <td>1978</td>\n",
       "      <td>PC111</td>\n",
       "      <td>RFX_DNA_binding; DNA-binding RFX-type winged-h...</td>\n",
       "    </tr>\n",
       "    <tr>\n",
       "      <th>46</th>\n",
       "      <td>PC230</td>\n",
       "      <td>760</td>\n",
       "      <td>PC13</td>\n",
       "      <td>Dopey_N; Dopey, N-terminal</td>\n",
       "    </tr>\n",
       "    <tr>\n",
       "      <th>47</th>\n",
       "      <td>PC247</td>\n",
       "      <td>1295</td>\n",
       "      <td>PC129</td>\n",
       "      <td>LIM; Zinc finger, LIM-type</td>\n",
       "    </tr>\n",
       "    <tr>\n",
       "      <th>48</th>\n",
       "      <td>PC247</td>\n",
       "      <td>1295</td>\n",
       "      <td>PC130</td>\n",
       "      <td>LIM; Zinc finger, LIM-type</td>\n",
       "    </tr>\n",
       "    <tr>\n",
       "      <th>49</th>\n",
       "      <td>PC256</td>\n",
       "      <td>1295</td>\n",
       "      <td>PC129</td>\n",
       "      <td>LIM; Zinc finger, LIM-type</td>\n",
       "    </tr>\n",
       "    <tr>\n",
       "      <th>50</th>\n",
       "      <td>PC256</td>\n",
       "      <td>1295</td>\n",
       "      <td>PC130</td>\n",
       "      <td>LIM; Zinc finger, LIM-type</td>\n",
       "    </tr>\n",
       "    <tr>\n",
       "      <th>51</th>\n",
       "      <td>PC250</td>\n",
       "      <td>2480</td>\n",
       "      <td>PC141</td>\n",
       "      <td>Sin_N; DNA-directed RNA polymerase III subunit...</td>\n",
       "    </tr>\n",
       "    <tr>\n",
       "      <th>52</th>\n",
       "      <td>PC268</td>\n",
       "      <td>2150</td>\n",
       "      <td>PC58</td>\n",
       "      <td>Ribosom_S12_S23; Ribosomal protein S12/S23</td>\n",
       "    </tr>\n",
       "    <tr>\n",
       "      <th>53</th>\n",
       "      <td>PC271</td>\n",
       "      <td>1267</td>\n",
       "      <td>PC268</td>\n",
       "      <td>Kelch_3</td>\n",
       "    </tr>\n",
       "    <tr>\n",
       "      <th>54</th>\n",
       "      <td>PC281</td>\n",
       "      <td>11</td>\n",
       "      <td>PC124</td>\n",
       "      <td>5-FTHF_cyc-lig; 5-formyltetrahydrofolate cyclo...</td>\n",
       "    </tr>\n",
       "  </tbody>\n",
       "</table>\n",
       "</div>"
      ],
      "text/plain": [
       "   pca-component_x  domain-number pca-component_y  \\\n",
       "0              PC3            135             PC5   \n",
       "1              PC6           2113             PC7   \n",
       "2             PC23           2544             PC8   \n",
       "3             PC24            129            PC22   \n",
       "4             PC30            696            PC59   \n",
       "5             PC30            696            PC60   \n",
       "6             PC32            383            PC29   \n",
       "7             PC38            206            PC10   \n",
       "8             PC39            282            PC93   \n",
       "9             PC57             80            PC54   \n",
       "10            PC69           2266           PC128   \n",
       "11            PC81            410            PC41   \n",
       "12            PC82            410            PC41   \n",
       "13            PC86            410            PC41   \n",
       "14           PC100           2151           PC195   \n",
       "15           PC101           2371           PC133   \n",
       "16           PC103           2371           PC133   \n",
       "17           PC102           2916           PC139   \n",
       "18           PC102           2916           PC140   \n",
       "19           PC114            861           PC113   \n",
       "20           PC115            861           PC113   \n",
       "21           PC118            221            PC25   \n",
       "22           PC125           1362           PC163   \n",
       "23           PC133           1836            PC56   \n",
       "24           PC136             30           PC262   \n",
       "25           PC144           1046           PC187   \n",
       "26           PC147            778           PC146   \n",
       "27           PC147            778           PC154   \n",
       "28           PC147            778           PC157   \n",
       "29           PC151           2759           PC206   \n",
       "30           PC152           2759           PC206   \n",
       "31           PC160           2244           PC126   \n",
       "32           PC161           1301             PC6   \n",
       "33           PC165           1904           PC207   \n",
       "34           PC179            640            PC23   \n",
       "35           PC183            109           PC115   \n",
       "36           PC184            109           PC115   \n",
       "37           PC185           1449           PC119   \n",
       "38           PC189           1449           PC119   \n",
       "39           PC197            316            PC17   \n",
       "40           PC198            316            PC17   \n",
       "41           PC202             63           PC107   \n",
       "42           PC204           1969           PC114   \n",
       "43           PC213           2651           PC190   \n",
       "44           PC219           2651           PC190   \n",
       "45           PC221           1978           PC111   \n",
       "46           PC230            760            PC13   \n",
       "47           PC247           1295           PC129   \n",
       "48           PC247           1295           PC130   \n",
       "49           PC256           1295           PC129   \n",
       "50           PC256           1295           PC130   \n",
       "51           PC250           2480           PC141   \n",
       "52           PC268           2150            PC58   \n",
       "53           PC271           1267           PC268   \n",
       "54           PC281             11           PC124   \n",
       "\n",
       "                                   domain-description  \n",
       "0   ATP-synt_ab_Xtn; ATPsynthase alpha/beta subuni...  \n",
       "1       Rav1p_C; RAVE complex protein Rav1 C-terminal  \n",
       "2   Sybindin; Trafficking protein particle complex...  \n",
       "3           ATP-synt_F; ATPase, V1 complex, subunit F  \n",
       "4        DUF3402; Protein of unknown function DUF3402  \n",
       "5        DUF3402; Protein of unknown function DUF3402  \n",
       "6         COPI_C; Coatomer, alpha subunit, C-terminal  \n",
       "7   Ammonium_transp; Ammonium transporter AmtB-lik...  \n",
       "8                     BRE1; E3 ubiquitin ligase, BRE1  \n",
       "9   AMPKBI; Association with the SNF1 complex (ASC...  \n",
       "10        Rrp15p; Ribosomal RNA-processing protein 15  \n",
       "11          CRAL_TRIO; CRAL-TRIO lipid binding domain  \n",
       "12          CRAL_TRIO; CRAL-TRIO lipid binding domain  \n",
       "13          CRAL_TRIO; CRAL-TRIO lipid binding domain  \n",
       "14                                      Ribosomal_60s  \n",
       "15                               SPT2; Chromatin SPT2  \n",
       "16                               SPT2; Chromatin SPT2  \n",
       "17          fn3_2; Fibronectin type III domain, fungi  \n",
       "18          fn3_2; Fibronectin type III domain, fungi  \n",
       "19      FAD-oxidase_C; FAD-linked oxidase, C-terminal  \n",
       "20      FAD-oxidase_C; FAD-linked oxidase, C-terminal  \n",
       "21  Apq12; Nuclear pore assembly and biogenesis pr...  \n",
       "22  MDM31_MDM32; Mitochondrial distribution and mo...  \n",
       "23    PTPLA; Protein-tyrosine phosphatase-like, PTPLA  \n",
       "24             AAR2; A1 cistron-splicing factor, AAR2  \n",
       "25  Glyco_hydro_18; Glycoside hydrolase family 18,...  \n",
       "26  E1_UFD; Ubiquitin-activating enzyme E1, C-term...  \n",
       "27  E1_UFD; Ubiquitin-activating enzyme E1, C-term...  \n",
       "28  E1_UFD; Ubiquitin-activating enzyme E1, C-term...  \n",
       "29    UPF0220; Uncharacterised protein family UPF0220  \n",
       "30    UPF0220; Uncharacterised protein family UPF0220  \n",
       "31               Ribosomal_S6e; Ribosomal protein S6e  \n",
       "32                       LRR_4; Leucine rich repeat 4  \n",
       "33                     PfkB; Carbohydrate kinase PfkB  \n",
       "34          DUF155; Domain of unknown function DUF155  \n",
       "35                ATG13; Autophagy-related protein 13  \n",
       "36                ATG13; Autophagy-related protein 13  \n",
       "37               Med4; Mediator complex, subunit Med4  \n",
       "38               Med4; Mediator complex, subunit Med4  \n",
       "39                CAF20; Cap-associated protein Caf20  \n",
       "40                CAF20; Cap-associated protein Caf20  \n",
       "41         AICARFT_IMPCHas; AICARFT/IMPCHase bienzyme  \n",
       "42                                    RAI1; RAI1-like  \n",
       "43  Telomere_reg-2; Telomere length regulation pro...  \n",
       "44  Telomere_reg-2; Telomere length regulation pro...  \n",
       "45  RFX_DNA_binding; DNA-binding RFX-type winged-h...  \n",
       "46                         Dopey_N; Dopey, N-terminal  \n",
       "47                         LIM; Zinc finger, LIM-type  \n",
       "48                         LIM; Zinc finger, LIM-type  \n",
       "49                         LIM; Zinc finger, LIM-type  \n",
       "50                         LIM; Zinc finger, LIM-type  \n",
       "51  Sin_N; DNA-directed RNA polymerase III subunit...  \n",
       "52         Ribosom_S12_S23; Ribosomal protein S12/S23  \n",
       "53                                            Kelch_3  \n",
       "54  5-FTHF_cyc-lig; 5-formyltetrahydrofolate cyclo...  "
      ]
     },
     "execution_count": 22,
     "metadata": {},
     "output_type": "execute_result"
    }
   ],
   "source": [
    "df_shared_domains=pd.merge(df_sl,df_nsl,how='inner',on='domain-number')\n",
    "domains_name=np.unique(data_domains['domain-name'])\n",
    "domains_description=np.unique(data_domains['domain-descrip'])\n",
    "\n",
    "df_shared_domains['domain-description']=domains_description[df_shared_domains['domain-number']]\n",
    "\n",
    "\n",
    "df_shared_domains"
   ]
  },
  {
   "cell_type": "code",
   "execution_count": 23,
   "metadata": {
    "execution": {
     "iopub.execute_input": "2020-07-14T19:34:11.965686Z",
     "iopub.status.busy": "2020-07-14T19:34:11.965031Z",
     "iopub.status.idle": "2020-07-14T19:34:11.971007Z",
     "shell.execute_reply": "2020-07-14T19:34:11.971577Z"
    }
   },
   "outputs": [
    {
     "name": "stdout",
     "output_type": "stream",
     "text": [
      "The number of shared domains between SL and nSL pairs,after PCA, is =  55 out of 559 so the 9.838998211091234 %\n"
     ]
    }
   ],
   "source": [
    "print('The number of shared domains between SL and nSL pairs,after PCA, is = ',len(df_shared_domains), 'out of', len(df_sl)+len(df_nsl), 'so the',100*len(df_shared_domains)/(len(df_sl)+len(df_nsl)),'%')"
   ]
  },
  {
   "cell_type": "markdown",
   "metadata": {},
   "source": [
    "## Domains exclusive to SL"
   ]
  },
  {
   "cell_type": "code",
   "execution_count": 24,
   "metadata": {
    "execution": {
     "iopub.execute_input": "2020-07-14T19:34:11.974179Z",
     "iopub.status.busy": "2020-07-14T19:34:11.973554Z",
     "iopub.status.idle": "2020-07-14T19:34:12.004740Z",
     "shell.execute_reply": "2020-07-14T19:34:12.004123Z"
    }
   },
   "outputs": [
    {
     "data": {
      "text/html": [
       "<div>\n",
       "<style scoped>\n",
       "    .dataframe tbody tr th:only-of-type {\n",
       "        vertical-align: middle;\n",
       "    }\n",
       "\n",
       "    .dataframe tbody tr th {\n",
       "        vertical-align: top;\n",
       "    }\n",
       "\n",
       "    .dataframe thead th {\n",
       "        text-align: right;\n",
       "    }\n",
       "</style>\n",
       "<table border=\"1\" class=\"dataframe\">\n",
       "  <thead>\n",
       "    <tr style=\"text-align: right;\">\n",
       "      <th></th>\n",
       "      <th>pca-component_x</th>\n",
       "      <th>domain-number</th>\n",
       "      <th>pca-component_y</th>\n",
       "      <th>domain-description</th>\n",
       "    </tr>\n",
       "  </thead>\n",
       "  <tbody>\n",
       "    <tr>\n",
       "      <th>0</th>\n",
       "      <td>PC0</td>\n",
       "      <td>1040</td>\n",
       "      <td>NaN</td>\n",
       "      <td>Glucosamine_iso; Glucosamine/galactosamine-6-p...</td>\n",
       "    </tr>\n",
       "    <tr>\n",
       "      <th>1</th>\n",
       "      <td>PC1</td>\n",
       "      <td>142</td>\n",
       "      <td>NaN</td>\n",
       "      <td>ATP_synt_H; ATPase, V0 complex, subunit e1/e2</td>\n",
       "    </tr>\n",
       "    <tr>\n",
       "      <th>2</th>\n",
       "      <td>PC2</td>\n",
       "      <td>2233</td>\n",
       "      <td>NaN</td>\n",
       "      <td>Ribosomal_S27e; Ribosomal protein S27e</td>\n",
       "    </tr>\n",
       "    <tr>\n",
       "      <th>4</th>\n",
       "      <td>PC4</td>\n",
       "      <td>211</td>\n",
       "      <td>NaN</td>\n",
       "      <td>Ank_5</td>\n",
       "    </tr>\n",
       "    <tr>\n",
       "      <th>5</th>\n",
       "      <td>PC5</td>\n",
       "      <td>2082</td>\n",
       "      <td>NaN</td>\n",
       "      <td>RXT2_N; Transcriptional regulatory protein RXT...</td>\n",
       "    </tr>\n",
       "    <tr>\n",
       "      <th>...</th>\n",
       "      <td>...</td>\n",
       "      <td>...</td>\n",
       "      <td>...</td>\n",
       "      <td>...</td>\n",
       "    </tr>\n",
       "    <tr>\n",
       "      <th>284</th>\n",
       "      <td>PC278</td>\n",
       "      <td>1414</td>\n",
       "      <td>NaN</td>\n",
       "      <td>Mad3_BUB1_I; Mad3/Bub1 homology region 1</td>\n",
       "    </tr>\n",
       "    <tr>\n",
       "      <th>285</th>\n",
       "      <td>PC279</td>\n",
       "      <td>2079</td>\n",
       "      <td>NaN</td>\n",
       "      <td>RTT107_BRCT_6; Regulator of Ty1 transposition ...</td>\n",
       "    </tr>\n",
       "    <tr>\n",
       "      <th>286</th>\n",
       "      <td>PC280</td>\n",
       "      <td>1233</td>\n",
       "      <td>NaN</td>\n",
       "      <td>Inhibitor_I9; Peptidase S8 propeptide/proteina...</td>\n",
       "    </tr>\n",
       "    <tr>\n",
       "      <th>288</th>\n",
       "      <td>PC282</td>\n",
       "      <td>247</td>\n",
       "      <td>NaN</td>\n",
       "      <td>Autophagy_act_C; Autophagy-related protein 3</td>\n",
       "    </tr>\n",
       "    <tr>\n",
       "      <th>289</th>\n",
       "      <td>PC283</td>\n",
       "      <td>1233</td>\n",
       "      <td>NaN</td>\n",
       "      <td>Inhibitor_I9; Peptidase S8 propeptide/proteina...</td>\n",
       "    </tr>\n",
       "  </tbody>\n",
       "</table>\n",
       "<p>235 rows × 4 columns</p>\n",
       "</div>"
      ],
      "text/plain": [
       "    pca-component_x  domain-number pca-component_y  \\\n",
       "0               PC0           1040             NaN   \n",
       "1               PC1            142             NaN   \n",
       "2               PC2           2233             NaN   \n",
       "4               PC4            211             NaN   \n",
       "5               PC5           2082             NaN   \n",
       "..              ...            ...             ...   \n",
       "284           PC278           1414             NaN   \n",
       "285           PC279           2079             NaN   \n",
       "286           PC280           1233             NaN   \n",
       "288           PC282            247             NaN   \n",
       "289           PC283           1233             NaN   \n",
       "\n",
       "                                    domain-description  \n",
       "0    Glucosamine_iso; Glucosamine/galactosamine-6-p...  \n",
       "1        ATP_synt_H; ATPase, V0 complex, subunit e1/e2  \n",
       "2               Ribosomal_S27e; Ribosomal protein S27e  \n",
       "4                                                Ank_5  \n",
       "5    RXT2_N; Transcriptional regulatory protein RXT...  \n",
       "..                                                 ...  \n",
       "284           Mad3_BUB1_I; Mad3/Bub1 homology region 1  \n",
       "285  RTT107_BRCT_6; Regulator of Ty1 transposition ...  \n",
       "286  Inhibitor_I9; Peptidase S8 propeptide/proteina...  \n",
       "288       Autophagy_act_C; Autophagy-related protein 3  \n",
       "289  Inhibitor_I9; Peptidase S8 propeptide/proteina...  \n",
       "\n",
       "[235 rows x 4 columns]"
      ]
     },
     "execution_count": 24,
     "metadata": {},
     "output_type": "execute_result"
    }
   ],
   "source": [
    "df_sl_exclusive=pd.merge(df_sl,df_nsl,how='left',on='domain-number')\n",
    "\n",
    "domains_name=np.unique(data_domains['domain-name'])\n",
    "domains_description=np.unique(data_domains['domain-descrip'])\n",
    "\n",
    "df_sl_exclusive['domain-description']=domains_description[df_sl_exclusive['domain-number']]\n",
    "df_sl_exclusive[pd.isnull(df_sl_exclusive['pca-component_y'])]"
   ]
  },
  {
   "cell_type": "code",
   "execution_count": 25,
   "metadata": {
    "execution": {
     "iopub.execute_input": "2020-07-14T19:34:12.009908Z",
     "iopub.status.busy": "2020-07-14T19:34:12.009267Z",
     "iopub.status.idle": "2020-07-14T19:34:12.013863Z",
     "shell.execute_reply": "2020-07-14T19:34:12.014327Z"
    }
   },
   "outputs": [
    {
     "name": "stdout",
     "output_type": "stream",
     "text": [
      "The number of exclusive domains from SL pairs, after PCA, is =  290 out of 559 so the 51.8783542039356 %\n"
     ]
    }
   ],
   "source": [
    "print('The number of exclusive domains from SL pairs, after PCA, is = ',len(df_sl_exclusive), 'out of', len(df_sl)+len(df_nsl), 'so the',100*len(df_sl_exclusive)/(len(df_sl)+len(df_nsl)),'%')"
   ]
  },
  {
   "cell_type": "code",
   "execution_count": 26,
   "metadata": {
    "execution": {
     "iopub.execute_input": "2020-07-14T19:34:12.020725Z",
     "iopub.status.busy": "2020-07-14T19:34:12.020064Z",
     "iopub.status.idle": "2020-07-14T19:34:12.051639Z",
     "shell.execute_reply": "2020-07-14T19:34:12.051071Z"
    }
   },
   "outputs": [
    {
     "data": {
      "text/html": [
       "<div>\n",
       "<style scoped>\n",
       "    .dataframe tbody tr th:only-of-type {\n",
       "        vertical-align: middle;\n",
       "    }\n",
       "\n",
       "    .dataframe tbody tr th {\n",
       "        vertical-align: top;\n",
       "    }\n",
       "\n",
       "    .dataframe thead th {\n",
       "        text-align: right;\n",
       "    }\n",
       "</style>\n",
       "<table border=\"1\" class=\"dataframe\">\n",
       "  <thead>\n",
       "    <tr style=\"text-align: right;\">\n",
       "      <th></th>\n",
       "      <th>pca-component_x</th>\n",
       "      <th>domain-number</th>\n",
       "      <th>pca-component_y</th>\n",
       "      <th>domain-description</th>\n",
       "    </tr>\n",
       "  </thead>\n",
       "  <tbody>\n",
       "    <tr>\n",
       "      <th>55</th>\n",
       "      <td>NaN</td>\n",
       "      <td>1028</td>\n",
       "      <td>PC0</td>\n",
       "      <td>GatB_Yqey; Asn/Gln amidotransferase</td>\n",
       "    </tr>\n",
       "    <tr>\n",
       "      <th>56</th>\n",
       "      <td>NaN</td>\n",
       "      <td>305</td>\n",
       "      <td>PC1</td>\n",
       "      <td>Brr6_like_C_C; Brl1/Brr6 domain</td>\n",
       "    </tr>\n",
       "    <tr>\n",
       "      <th>57</th>\n",
       "      <td>NaN</td>\n",
       "      <td>101</td>\n",
       "      <td>PC2</td>\n",
       "      <td>ARD; Acireductone dioxygenase ARD family</td>\n",
       "    </tr>\n",
       "    <tr>\n",
       "      <th>58</th>\n",
       "      <td>NaN</td>\n",
       "      <td>1043</td>\n",
       "      <td>PC3</td>\n",
       "      <td>Glyco_hydro_15; Glycoside hydrolase family 15/...</td>\n",
       "    </tr>\n",
       "    <tr>\n",
       "      <th>59</th>\n",
       "      <td>NaN</td>\n",
       "      <td>2</td>\n",
       "      <td>PC4</td>\n",
       "      <td>2-Hacid_dh; D-isomer specific 2-hydroxyacid de...</td>\n",
       "    </tr>\n",
       "    <tr>\n",
       "      <th>...</th>\n",
       "      <td>...</td>\n",
       "      <td>...</td>\n",
       "      <td>...</td>\n",
       "      <td>...</td>\n",
       "    </tr>\n",
       "    <tr>\n",
       "      <th>281</th>\n",
       "      <td>NaN</td>\n",
       "      <td>2568</td>\n",
       "      <td>PC266</td>\n",
       "      <td>TEA; TEA/ATTS domain</td>\n",
       "    </tr>\n",
       "    <tr>\n",
       "      <th>282</th>\n",
       "      <td>NaN</td>\n",
       "      <td>363</td>\n",
       "      <td>PC267</td>\n",
       "      <td>CLP1_P; Polyribonucleotide 5&amp;apos;-hydroxyl-ki...</td>\n",
       "    </tr>\n",
       "    <tr>\n",
       "      <th>283</th>\n",
       "      <td>NaN</td>\n",
       "      <td>1168</td>\n",
       "      <td>PC271</td>\n",
       "      <td>Hira; TUP1-like enhancer of split</td>\n",
       "    </tr>\n",
       "    <tr>\n",
       "      <th>284</th>\n",
       "      <td>NaN</td>\n",
       "      <td>1220</td>\n",
       "      <td>PC272</td>\n",
       "      <td>INSIG; Insulin-induced protein family</td>\n",
       "    </tr>\n",
       "    <tr>\n",
       "      <th>285</th>\n",
       "      <td>NaN</td>\n",
       "      <td>2410</td>\n",
       "      <td>PC273</td>\n",
       "      <td>SURF4; Surfeit locus 4</td>\n",
       "    </tr>\n",
       "  </tbody>\n",
       "</table>\n",
       "<p>231 rows × 4 columns</p>\n",
       "</div>"
      ],
      "text/plain": [
       "    pca-component_x  domain-number pca-component_y  \\\n",
       "55              NaN           1028             PC0   \n",
       "56              NaN            305             PC1   \n",
       "57              NaN            101             PC2   \n",
       "58              NaN           1043             PC3   \n",
       "59              NaN              2             PC4   \n",
       "..              ...            ...             ...   \n",
       "281             NaN           2568           PC266   \n",
       "282             NaN            363           PC267   \n",
       "283             NaN           1168           PC271   \n",
       "284             NaN           1220           PC272   \n",
       "285             NaN           2410           PC273   \n",
       "\n",
       "                                    domain-description  \n",
       "55                 GatB_Yqey; Asn/Gln amidotransferase  \n",
       "56                     Brr6_like_C_C; Brl1/Brr6 domain  \n",
       "57            ARD; Acireductone dioxygenase ARD family  \n",
       "58   Glyco_hydro_15; Glycoside hydrolase family 15/...  \n",
       "59   2-Hacid_dh; D-isomer specific 2-hydroxyacid de...  \n",
       "..                                                 ...  \n",
       "281                               TEA; TEA/ATTS domain  \n",
       "282  CLP1_P; Polyribonucleotide 5&apos;-hydroxyl-ki...  \n",
       "283                  Hira; TUP1-like enhancer of split  \n",
       "284              INSIG; Insulin-induced protein family  \n",
       "285                             SURF4; Surfeit locus 4  \n",
       "\n",
       "[231 rows x 4 columns]"
      ]
     },
     "execution_count": 26,
     "metadata": {},
     "output_type": "execute_result"
    }
   ],
   "source": [
    "df_nsl_exclusive=pd.merge(df_sl,df_nsl,how='right',on='domain-number')\n",
    "\n",
    "domains_name=np.unique(data_domains['domain-name'])\n",
    "domains_description=np.unique(data_domains['domain-descrip'])\n",
    "\n",
    "df_nsl_exclusive['domain-description']=domains_description[df_nsl_exclusive['domain-number']]\n",
    "df_nsl_exclusive[pd.isnull(df_nsl_exclusive['pca-component_x'])]"
   ]
  },
  {
   "cell_type": "code",
   "execution_count": 27,
   "metadata": {
    "execution": {
     "iopub.execute_input": "2020-07-14T19:34:12.057425Z",
     "iopub.status.busy": "2020-07-14T19:34:12.056796Z",
     "iopub.status.idle": "2020-07-14T19:34:12.061093Z",
     "shell.execute_reply": "2020-07-14T19:34:12.061597Z"
    }
   },
   "outputs": [
    {
     "name": "stdout",
     "output_type": "stream",
     "text": [
      "The number of exclusive domains from non SL pairs, after PCA, is =  286 out of 559 so the 51.16279069767442 %\n"
     ]
    }
   ],
   "source": [
    "print('The number of exclusive domains from non SL pairs, after PCA, is = ',len(df_nsl_exclusive), 'out of', len(df_sl)+len(df_nsl), 'so the',100*len(df_nsl_exclusive)/(len(df_sl)+len(df_nsl)),'%')"
   ]
  },
  {
   "cell_type": "markdown",
   "metadata": {},
   "source": [
    "## Let see to the domains-number that get repeated after the PCA analysis , and selecting the most explanatory feature by its explained variance."
   ]
  },
  {
   "cell_type": "code",
   "execution_count": 28,
   "metadata": {
    "execution": {
     "iopub.execute_input": "2020-07-14T19:34:12.080095Z",
     "iopub.status.busy": "2020-07-14T19:34:12.079485Z",
     "iopub.status.idle": "2020-07-14T19:34:12.089687Z",
     "shell.execute_reply": "2020-07-14T19:34:12.089179Z"
    }
   },
   "outputs": [],
   "source": [
    "duplicated_features_sl=df_sl[df_sl.iloc[:,1].duplicated()]\n",
    "repeated_features_sl=pd.DataFrame()\n",
    "\n",
    "domains_name=np.unique(data_domains['domain-name'])\n",
    "domains_description=np.unique(data_domains['domain-descrip'])\n",
    "\n",
    "repeated_features_sl['domain-name']=domains_name[duplicated_features_sl.iloc[:,1]] \n",
    "repeated_features_sl['domain-description']=domains_description[duplicated_features_sl.iloc[:,1]]\n",
    "\n",
    "duplicated_features_nsl=df_nsl[df_nsl.iloc[:,1].duplicated()]\n",
    "repeated_features_nsl=pd.DataFrame()\n",
    "\n",
    "repeated_features_nsl['domain-name']=domains_name[duplicated_features_nsl.iloc[:,1]] \n",
    "repeated_features_nsl['domain-description']=domains_description[duplicated_features_nsl.iloc[:,1]]"
   ]
  },
  {
   "cell_type": "code",
   "execution_count": 29,
   "metadata": {
    "execution": {
     "iopub.execute_input": "2020-07-14T19:34:12.101562Z",
     "iopub.status.busy": "2020-07-14T19:34:12.100501Z",
     "iopub.status.idle": "2020-07-14T19:34:12.108949Z",
     "shell.execute_reply": "2020-07-14T19:34:12.109459Z"
    }
   },
   "outputs": [
    {
     "name": "stderr",
     "output_type": "stream",
     "text": [
      "/usr/share/miniconda3/envs/wintest/lib/python3.7/site-packages/ipykernel_launcher.py:3: SettingWithCopyWarning: \n",
      "A value is trying to be set on a copy of a slice from a DataFrame.\n",
      "Try using .loc[row_indexer,col_indexer] = value instead\n",
      "\n",
      "See the caveats in the documentation: https://pandas.pydata.org/pandas-docs/stable/user_guide/indexing.html#returning-a-view-versus-a-copy\n",
      "  This is separate from the ipykernel package so we can avoid doing imports until\n"
     ]
    },
    {
     "data": {
      "text/plain": [
       "((40, 4), (290, 4))"
      ]
     },
     "execution_count": 29,
     "metadata": {},
     "output_type": "execute_result"
    }
   ],
   "source": [
    "only_sl_pd=pd.merge(repeated_features_sl,repeated_features_nsl,how='left',on=['domain-name'])\n",
    "data_only_sl = only_sl_pd[pd.isnull(only_sl_pd['domain-description_y'])]\n",
    "data_only_sl['domain-description']=data_only_sl['domain-description_x']\n",
    "data_only_sl.shape,df_sl_exclusive.shape"
   ]
  },
  {
   "cell_type": "code",
   "execution_count": 30,
   "metadata": {
    "execution": {
     "iopub.execute_input": "2020-07-14T19:34:12.132116Z",
     "iopub.status.busy": "2020-07-14T19:34:12.131475Z",
     "iopub.status.idle": "2020-07-14T19:34:12.138577Z",
     "shell.execute_reply": "2020-07-14T19:34:12.138068Z"
    }
   },
   "outputs": [
    {
     "data": {
      "text/html": [
       "<div>\n",
       "<style scoped>\n",
       "    .dataframe tbody tr th:only-of-type {\n",
       "        vertical-align: middle;\n",
       "    }\n",
       "\n",
       "    .dataframe tbody tr th {\n",
       "        vertical-align: top;\n",
       "    }\n",
       "\n",
       "    .dataframe thead th {\n",
       "        text-align: right;\n",
       "    }\n",
       "</style>\n",
       "<table border=\"1\" class=\"dataframe\">\n",
       "  <thead>\n",
       "    <tr style=\"text-align: right;\">\n",
       "      <th></th>\n",
       "      <th>domain-name</th>\n",
       "      <th>domain-description_x</th>\n",
       "      <th>domain-description_y</th>\n",
       "    </tr>\n",
       "  </thead>\n",
       "  <tbody>\n",
       "    <tr>\n",
       "      <th>1</th>\n",
       "      <td>PF01268</td>\n",
       "      <td>NaN</td>\n",
       "      <td>DHFR_1; Dihydrofolate reductase domain</td>\n",
       "    </tr>\n",
       "    <tr>\n",
       "      <th>2</th>\n",
       "      <td>PF00583</td>\n",
       "      <td>NaN</td>\n",
       "      <td>BRF1; Brf1, TBP-binding domain</td>\n",
       "    </tr>\n",
       "    <tr>\n",
       "      <th>3</th>\n",
       "      <td>PF03234</td>\n",
       "      <td>NaN</td>\n",
       "      <td>Gpi1; N-acetylglucosaminyl transferase component</td>\n",
       "    </tr>\n",
       "    <tr>\n",
       "      <th>4</th>\n",
       "      <td>PF01644</td>\n",
       "      <td>NaN</td>\n",
       "      <td>DUF3402; Protein of unknown function DUF3402</td>\n",
       "    </tr>\n",
       "    <tr>\n",
       "      <th>5</th>\n",
       "      <td>PF03801</td>\n",
       "      <td>NaN</td>\n",
       "      <td>HisKA; Signal transduction histidine kinase, d...</td>\n",
       "    </tr>\n",
       "    <tr>\n",
       "      <th>6</th>\n",
       "      <td>PF07529</td>\n",
       "      <td>NaN</td>\n",
       "      <td>PDT; Prephenate dehydratase</td>\n",
       "    </tr>\n",
       "    <tr>\n",
       "      <th>7</th>\n",
       "      <td>PF01608</td>\n",
       "      <td>NaN</td>\n",
       "      <td>DUF2781</td>\n",
       "    </tr>\n",
       "    <tr>\n",
       "      <th>8</th>\n",
       "      <td>PF04152</td>\n",
       "      <td>NaN</td>\n",
       "      <td>LUC7; Luc7-related</td>\n",
       "    </tr>\n",
       "    <tr>\n",
       "      <th>9</th>\n",
       "      <td>PF01210</td>\n",
       "      <td>NaN</td>\n",
       "      <td>DAGK_cat; Diacylglycerol kinase, catalytic domain</td>\n",
       "    </tr>\n",
       "    <tr>\n",
       "      <th>10</th>\n",
       "      <td>PF00288</td>\n",
       "      <td>NaN</td>\n",
       "      <td>ATP_sub_h; ATP synthase, F0 complex, subunit H</td>\n",
       "    </tr>\n",
       "    <tr>\n",
       "      <th>11</th>\n",
       "      <td>PF04922</td>\n",
       "      <td>NaN</td>\n",
       "      <td>Med5; Mediator complex, subunit Med5, fungi</td>\n",
       "    </tr>\n",
       "    <tr>\n",
       "      <th>12</th>\n",
       "      <td>PF05890</td>\n",
       "      <td>NaN</td>\n",
       "      <td>Ndc80_HEC; Kinetochore protein Ndc80</td>\n",
       "    </tr>\n",
       "    <tr>\n",
       "      <th>13</th>\n",
       "      <td>PF11957</td>\n",
       "      <td>NaN</td>\n",
       "      <td>Sec16; Sec16, central conserved domain</td>\n",
       "    </tr>\n",
       "    <tr>\n",
       "      <th>14</th>\n",
       "      <td>PF00638</td>\n",
       "      <td>NaN</td>\n",
       "      <td>CAP; CAP domain</td>\n",
       "    </tr>\n",
       "    <tr>\n",
       "      <th>15</th>\n",
       "      <td>PF16796</td>\n",
       "      <td>NaN</td>\n",
       "      <td>fn3_2; Fibronectin type III domain, fungi</td>\n",
       "    </tr>\n",
       "    <tr>\n",
       "      <th>16</th>\n",
       "      <td>PF00639</td>\n",
       "      <td>NaN</td>\n",
       "      <td>CAP_C; Adenylate cyclase-associated CAP, C-ter...</td>\n",
       "    </tr>\n",
       "    <tr>\n",
       "      <th>17</th>\n",
       "      <td>PF10375</td>\n",
       "      <td>NaN</td>\n",
       "      <td>RsfS</td>\n",
       "    </tr>\n",
       "    <tr>\n",
       "      <th>18</th>\n",
       "      <td>PF11221</td>\n",
       "      <td>NaN</td>\n",
       "      <td>SOP4; Protein Sop4</td>\n",
       "    </tr>\n",
       "    <tr>\n",
       "      <th>19</th>\n",
       "      <td>PF01920</td>\n",
       "      <td>NaN</td>\n",
       "      <td>E1_UFD; Ubiquitin-activating enzyme E1, C-term...</td>\n",
       "    </tr>\n",
       "    <tr>\n",
       "      <th>20</th>\n",
       "      <td>PF01920</td>\n",
       "      <td>NaN</td>\n",
       "      <td>E1_UFD; Ubiquitin-activating enzyme E1, C-term...</td>\n",
       "    </tr>\n",
       "    <tr>\n",
       "      <th>21</th>\n",
       "      <td>PF13513</td>\n",
       "      <td>NaN</td>\n",
       "      <td>Tcp11; T-complex 11</td>\n",
       "    </tr>\n",
       "    <tr>\n",
       "      <th>22</th>\n",
       "      <td>PF02150</td>\n",
       "      <td>NaN</td>\n",
       "      <td>EXOSC1; Exosome complex component CSL4</td>\n",
       "    </tr>\n",
       "    <tr>\n",
       "      <th>23</th>\n",
       "      <td>PF12348</td>\n",
       "      <td>NaN</td>\n",
       "      <td>Sir1; Sir1, ORC-binding domain</td>\n",
       "    </tr>\n",
       "    <tr>\n",
       "      <th>24</th>\n",
       "      <td>PF12348</td>\n",
       "      <td>NaN</td>\n",
       "      <td>Sir1; Sir1, ORC-binding domain</td>\n",
       "    </tr>\n",
       "    <tr>\n",
       "      <th>25</th>\n",
       "      <td>PF16282</td>\n",
       "      <td>NaN</td>\n",
       "      <td>YjeF_N; YjeF N-terminal domain</td>\n",
       "    </tr>\n",
       "    <tr>\n",
       "      <th>26</th>\n",
       "      <td>PF00659</td>\n",
       "      <td>NaN</td>\n",
       "      <td>CBS; CBS domain</td>\n",
       "    </tr>\n",
       "    <tr>\n",
       "      <th>27</th>\n",
       "      <td>PF01803</td>\n",
       "      <td>NaN</td>\n",
       "      <td>Dak2; DhaL domain</td>\n",
       "    </tr>\n",
       "    <tr>\n",
       "      <th>28</th>\n",
       "      <td>PF00327</td>\n",
       "      <td>NaN</td>\n",
       "      <td>Acyl_transf_1; Acyl transferase</td>\n",
       "    </tr>\n",
       "    <tr>\n",
       "      <th>29</th>\n",
       "      <td>PF16944</td>\n",
       "      <td>NaN</td>\n",
       "      <td>tRNA_bind; tRNA-binding domain</td>\n",
       "    </tr>\n",
       "    <tr>\n",
       "      <th>30</th>\n",
       "      <td>PF16965</td>\n",
       "      <td>NaN</td>\n",
       "      <td>tRNA_int_end_N2; tRNA-splicing endonuclease, s...</td>\n",
       "    </tr>\n",
       "    <tr>\n",
       "      <th>31</th>\n",
       "      <td>PF16965</td>\n",
       "      <td>NaN</td>\n",
       "      <td>tRNA_int_end_N2; tRNA-splicing endonuclease, s...</td>\n",
       "    </tr>\n",
       "    <tr>\n",
       "      <th>32</th>\n",
       "      <td>PF00838</td>\n",
       "      <td>NaN</td>\n",
       "      <td>CPSF73-100_C; Pre-mRNA 3&amp;apos;-end-processing ...</td>\n",
       "    </tr>\n",
       "    <tr>\n",
       "      <th>33</th>\n",
       "      <td>PF04427</td>\n",
       "      <td>NaN</td>\n",
       "      <td>MATalpha_HMGbox; Mating-type protein MAT alpha...</td>\n",
       "    </tr>\n",
       "    <tr>\n",
       "      <th>34</th>\n",
       "      <td>PF04427</td>\n",
       "      <td>NaN</td>\n",
       "      <td>MATalpha_HMGbox; Mating-type protein MAT alpha...</td>\n",
       "    </tr>\n",
       "    <tr>\n",
       "      <th>35</th>\n",
       "      <td>PF11701</td>\n",
       "      <td>NaN</td>\n",
       "      <td>SSB; Primosome PriB/single-strand DNA-binding</td>\n",
       "    </tr>\n",
       "    <tr>\n",
       "      <th>36</th>\n",
       "      <td>PF03142</td>\n",
       "      <td>NaN</td>\n",
       "      <td>Glyco_hydro_47; Glycoside hydrolase family 47</td>\n",
       "    </tr>\n",
       "    <tr>\n",
       "      <th>37</th>\n",
       "      <td>PF15963</td>\n",
       "      <td>NaN</td>\n",
       "      <td>WD40_4</td>\n",
       "    </tr>\n",
       "    <tr>\n",
       "      <th>38</th>\n",
       "      <td>PF01115</td>\n",
       "      <td>NaN</td>\n",
       "      <td>CoaE; Dephospho-CoA kinase</td>\n",
       "    </tr>\n",
       "    <tr>\n",
       "      <th>39</th>\n",
       "      <td>PF04421</td>\n",
       "      <td>NaN</td>\n",
       "      <td>MAP65_ASE1</td>\n",
       "    </tr>\n",
       "    <tr>\n",
       "      <th>40</th>\n",
       "      <td>PF08729</td>\n",
       "      <td>NaN</td>\n",
       "      <td>RNase_HII; Ribonuclease HII/HIII domain</td>\n",
       "    </tr>\n",
       "    <tr>\n",
       "      <th>41</th>\n",
       "      <td>PF02229</td>\n",
       "      <td>NaN</td>\n",
       "      <td>Exo_endo_phos; Endonuclease/exonuclease/phosph...</td>\n",
       "    </tr>\n",
       "    <tr>\n",
       "      <th>42</th>\n",
       "      <td>PF09496</td>\n",
       "      <td>NaN</td>\n",
       "      <td>Rib_5-P_isom_A; Ribose 5-phosphate isomerase, ...</td>\n",
       "    </tr>\n",
       "    <tr>\n",
       "      <th>43</th>\n",
       "      <td>PF09496</td>\n",
       "      <td>NaN</td>\n",
       "      <td>Rib_5-P_isom_A; Ribose 5-phosphate isomerase, ...</td>\n",
       "    </tr>\n",
       "    <tr>\n",
       "      <th>44</th>\n",
       "      <td>PF00118</td>\n",
       "      <td>NaN</td>\n",
       "      <td>AD; Anticodon-binding domain</td>\n",
       "    </tr>\n",
       "    <tr>\n",
       "      <th>45</th>\n",
       "      <td>PF00550</td>\n",
       "      <td>NaN</td>\n",
       "      <td>BCIP; BCP1 family</td>\n",
       "    </tr>\n",
       "    <tr>\n",
       "      <th>46</th>\n",
       "      <td>PF09295</td>\n",
       "      <td>NaN</td>\n",
       "      <td>Rad52_Rad22; DNA repair protein Rad52/59/22</td>\n",
       "    </tr>\n",
       "  </tbody>\n",
       "</table>\n",
       "</div>"
      ],
      "text/plain": [
       "   domain-name domain-description_x  \\\n",
       "1      PF01268                  NaN   \n",
       "2      PF00583                  NaN   \n",
       "3      PF03234                  NaN   \n",
       "4      PF01644                  NaN   \n",
       "5      PF03801                  NaN   \n",
       "6      PF07529                  NaN   \n",
       "7      PF01608                  NaN   \n",
       "8      PF04152                  NaN   \n",
       "9      PF01210                  NaN   \n",
       "10     PF00288                  NaN   \n",
       "11     PF04922                  NaN   \n",
       "12     PF05890                  NaN   \n",
       "13     PF11957                  NaN   \n",
       "14     PF00638                  NaN   \n",
       "15     PF16796                  NaN   \n",
       "16     PF00639                  NaN   \n",
       "17     PF10375                  NaN   \n",
       "18     PF11221                  NaN   \n",
       "19     PF01920                  NaN   \n",
       "20     PF01920                  NaN   \n",
       "21     PF13513                  NaN   \n",
       "22     PF02150                  NaN   \n",
       "23     PF12348                  NaN   \n",
       "24     PF12348                  NaN   \n",
       "25     PF16282                  NaN   \n",
       "26     PF00659                  NaN   \n",
       "27     PF01803                  NaN   \n",
       "28     PF00327                  NaN   \n",
       "29     PF16944                  NaN   \n",
       "30     PF16965                  NaN   \n",
       "31     PF16965                  NaN   \n",
       "32     PF00838                  NaN   \n",
       "33     PF04427                  NaN   \n",
       "34     PF04427                  NaN   \n",
       "35     PF11701                  NaN   \n",
       "36     PF03142                  NaN   \n",
       "37     PF15963                  NaN   \n",
       "38     PF01115                  NaN   \n",
       "39     PF04421                  NaN   \n",
       "40     PF08729                  NaN   \n",
       "41     PF02229                  NaN   \n",
       "42     PF09496                  NaN   \n",
       "43     PF09496                  NaN   \n",
       "44     PF00118                  NaN   \n",
       "45     PF00550                  NaN   \n",
       "46     PF09295                  NaN   \n",
       "\n",
       "                                 domain-description_y  \n",
       "1              DHFR_1; Dihydrofolate reductase domain  \n",
       "2                      BRF1; Brf1, TBP-binding domain  \n",
       "3    Gpi1; N-acetylglucosaminyl transferase component  \n",
       "4        DUF3402; Protein of unknown function DUF3402  \n",
       "5   HisKA; Signal transduction histidine kinase, d...  \n",
       "6                         PDT; Prephenate dehydratase  \n",
       "7                                             DUF2781  \n",
       "8                                  LUC7; Luc7-related  \n",
       "9   DAGK_cat; Diacylglycerol kinase, catalytic domain  \n",
       "10     ATP_sub_h; ATP synthase, F0 complex, subunit H  \n",
       "11        Med5; Mediator complex, subunit Med5, fungi  \n",
       "12               Ndc80_HEC; Kinetochore protein Ndc80  \n",
       "13             Sec16; Sec16, central conserved domain  \n",
       "14                                    CAP; CAP domain  \n",
       "15          fn3_2; Fibronectin type III domain, fungi  \n",
       "16  CAP_C; Adenylate cyclase-associated CAP, C-ter...  \n",
       "17                                               RsfS  \n",
       "18                                 SOP4; Protein Sop4  \n",
       "19  E1_UFD; Ubiquitin-activating enzyme E1, C-term...  \n",
       "20  E1_UFD; Ubiquitin-activating enzyme E1, C-term...  \n",
       "21                                Tcp11; T-complex 11  \n",
       "22             EXOSC1; Exosome complex component CSL4  \n",
       "23                     Sir1; Sir1, ORC-binding domain  \n",
       "24                     Sir1; Sir1, ORC-binding domain  \n",
       "25                     YjeF_N; YjeF N-terminal domain  \n",
       "26                                    CBS; CBS domain  \n",
       "27                                  Dak2; DhaL domain  \n",
       "28                    Acyl_transf_1; Acyl transferase  \n",
       "29                     tRNA_bind; tRNA-binding domain  \n",
       "30  tRNA_int_end_N2; tRNA-splicing endonuclease, s...  \n",
       "31  tRNA_int_end_N2; tRNA-splicing endonuclease, s...  \n",
       "32  CPSF73-100_C; Pre-mRNA 3&apos;-end-processing ...  \n",
       "33  MATalpha_HMGbox; Mating-type protein MAT alpha...  \n",
       "34  MATalpha_HMGbox; Mating-type protein MAT alpha...  \n",
       "35      SSB; Primosome PriB/single-strand DNA-binding  \n",
       "36      Glyco_hydro_47; Glycoside hydrolase family 47  \n",
       "37                                             WD40_4  \n",
       "38                         CoaE; Dephospho-CoA kinase  \n",
       "39                                         MAP65_ASE1  \n",
       "40            RNase_HII; Ribonuclease HII/HIII domain  \n",
       "41  Exo_endo_phos; Endonuclease/exonuclease/phosph...  \n",
       "42  Rib_5-P_isom_A; Ribose 5-phosphate isomerase, ...  \n",
       "43  Rib_5-P_isom_A; Ribose 5-phosphate isomerase, ...  \n",
       "44                       AD; Anticodon-binding domain  \n",
       "45                                  BCIP; BCP1 family  \n",
       "46        Rad52_Rad22; DNA repair protein Rad52/59/22  "
      ]
     },
     "execution_count": 30,
     "metadata": {},
     "output_type": "execute_result"
    }
   ],
   "source": [
    "only_nsl_pd=pd.merge(repeated_features_sl,repeated_features_nsl,how='right',on=['domain-name'])\n",
    "data_only_nsl = only_nsl_pd[pd.isnull(only_nsl_pd['domain-description_x'])]\n",
    "data_only_nsl"
   ]
  },
  {
   "cell_type": "code",
   "execution_count": 31,
   "metadata": {
    "execution": {
     "iopub.execute_input": "2020-07-14T19:34:12.153278Z",
     "iopub.status.busy": "2020-07-14T19:34:12.152352Z",
     "iopub.status.idle": "2020-07-14T19:34:12.156518Z",
     "shell.execute_reply": "2020-07-14T19:34:12.157078Z"
    }
   },
   "outputs": [
    {
     "data": {
      "text/html": [
       "<div>\n",
       "<style scoped>\n",
       "    .dataframe tbody tr th:only-of-type {\n",
       "        vertical-align: middle;\n",
       "    }\n",
       "\n",
       "    .dataframe tbody tr th {\n",
       "        vertical-align: top;\n",
       "    }\n",
       "\n",
       "    .dataframe thead th {\n",
       "        text-align: right;\n",
       "    }\n",
       "</style>\n",
       "<table border=\"1\" class=\"dataframe\">\n",
       "  <thead>\n",
       "    <tr style=\"text-align: right;\">\n",
       "      <th></th>\n",
       "      <th>domain-name</th>\n",
       "      <th>domain-description_x</th>\n",
       "      <th>domain-description_y</th>\n",
       "    </tr>\n",
       "  </thead>\n",
       "  <tbody>\n",
       "    <tr>\n",
       "      <th>0</th>\n",
       "      <td>PF04124</td>\n",
       "      <td>LIM; Zinc finger, LIM-type</td>\n",
       "      <td>LIM; Zinc finger, LIM-type</td>\n",
       "    </tr>\n",
       "  </tbody>\n",
       "</table>\n",
       "</div>"
      ],
      "text/plain": [
       "  domain-name        domain-description_x        domain-description_y\n",
       "0     PF04124  LIM; Zinc finger, LIM-type  LIM; Zinc finger, LIM-type"
      ]
     },
     "execution_count": 31,
     "metadata": {},
     "output_type": "execute_result"
    }
   ],
   "source": [
    "shared_domains_pd=pd.merge(repeated_features_sl,repeated_features_nsl,how='inner',on=['domain-name'])\n",
    "shared_domains_pd\n"
   ]
  },
  {
   "cell_type": "code",
   "execution_count": 32,
   "metadata": {
    "execution": {
     "iopub.execute_input": "2020-07-14T19:34:12.178148Z",
     "iopub.status.busy": "2020-07-14T19:34:12.169170Z",
     "iopub.status.idle": "2020-07-14T19:34:14.019949Z",
     "shell.execute_reply": "2020-07-14T19:34:14.018949Z"
    }
   },
   "outputs": [
    {
     "data": {
      "text/plain": [
       "(0.0, 0.2)"
      ]
     },
     "execution_count": 32,
     "metadata": {},
     "output_type": "execute_result"
    },
    {
     "data": {
      "image/png": "[encoded data removed]",
      "text/plain": [
       "<Figure size 432x288 with 1 Axes>"
      ]
     },
     "metadata": {
      "filenames": {
       "image/png": "/home/runner/work/jupyter-book/jupyter-book/mini_book/docs/_build/jupyter_execute/prot_domains2lethality-FEATURES-POSTPROCESSING_47_1.png"
      },
      "needs_background": "light"
     },
     "output_type": "display_data"
    }
   ],
   "source": [
    "a_sl=x_sl.iloc[:,np.sort(df_sl.iloc[:,1])]\n",
    "a_sl.describe().loc['mean'].hist(bins=8),\n",
    "a_sl.describe().loc['std'].hist(bins=8,alpha=0.4)\n",
    "plt.xlim([0,0.2])"
   ]
  },
  {
   "cell_type": "code",
   "execution_count": 33,
   "metadata": {
    "execution": {
     "iopub.execute_input": "2020-07-14T19:34:14.036016Z",
     "iopub.status.busy": "2020-07-14T19:34:14.033613Z",
     "iopub.status.idle": "2020-07-14T19:34:15.872444Z",
     "shell.execute_reply": "2020-07-14T19:34:15.873160Z"
    }
   },
   "outputs": [
    {
     "data": {
      "text/plain": [
       "(0.0, 0.2)"
      ]
     },
     "execution_count": 33,
     "metadata": {},
     "output_type": "execute_result"
    },
    {
     "data": {
      "image/png": "[encoded data removed]",
      "text/plain": [
       "<Figure size 432x288 with 1 Axes>"
      ]
     },
     "metadata": {
      "filenames": {
       "image/png": "/home/runner/work/jupyter-book/jupyter-book/mini_book/docs/_build/jupyter_execute/prot_domains2lethality-FEATURES-POSTPROCESSING_48_1.png"
      },
      "needs_background": "light"
     },
     "output_type": "display_data"
    }
   ],
   "source": [
    "a_nsl=x_nsl.iloc[:,np.sort(df_nsl.iloc[:,1])]\n",
    "a_nsl.describe().loc['mean'].hist(bins=8),\n",
    "a_nsl.describe().loc['std'].hist(bins=8,alpha=0.4)\n",
    "plt.xlim([0,0.2])"
   ]
  },
  {
   "cell_type": "markdown",
   "metadata": {},
   "source": [
    "### Proof of concept with *BEM1*\n",
    "\n",
    "- Gather the domains of SL and nSL pairs from BEM1\n",
    "- Check if the domains for the SL and nSL pairs are inside the most important domains after PCA."
   ]
  },
  {
   "cell_type": "code",
   "execution_count": 34,
   "metadata": {
    "execution": {
     "iopub.execute_input": "2020-07-14T19:34:15.881651Z",
     "iopub.status.busy": "2020-07-14T19:34:15.881057Z",
     "iopub.status.idle": "2020-07-14T19:34:15.885596Z",
     "shell.execute_reply": "2020-07-14T19:34:15.884691Z"
    }
   },
   "outputs": [],
   "source": [
    "domains_bem1=data_domains[data_domains['name']=='BEM1']['domain-descrip']\n",
    "sl_bem1=data_sl[data_sl['gene-query-name']=='BEM1']['gene-target-name']"
   ]
  },
  {
   "cell_type": "code",
   "execution_count": 35,
   "metadata": {
    "execution": {
     "iopub.execute_input": "2020-07-14T19:34:15.890845Z",
     "iopub.status.busy": "2020-07-14T19:34:15.890262Z",
     "iopub.status.idle": "2020-07-14T19:34:15.895434Z",
     "shell.execute_reply": "2020-07-14T19:34:15.895953Z"
    }
   },
   "outputs": [
    {
     "data": {
      "text/plain": [
       "2846      BEM2\n",
       "2847     CDC24\n",
       "5004      MSB1\n",
       "13777     SMI1\n",
       "13778     BNI1\n",
       "13779     BEM2\n",
       "14385     SKN7\n",
       "Name: gene-target-name, dtype: object"
      ]
     },
     "execution_count": 35,
     "metadata": {},
     "output_type": "execute_result"
    }
   ],
   "source": [
    "sl_bem1"
   ]
  },
  {
   "cell_type": "code",
   "execution_count": 36,
   "metadata": {
    "execution": {
     "iopub.execute_input": "2020-07-14T19:34:15.912588Z",
     "iopub.status.busy": "2020-07-14T19:34:15.911904Z",
     "iopub.status.idle": "2020-07-14T19:34:15.918104Z",
     "shell.execute_reply": "2020-07-14T19:34:15.917341Z"
    }
   },
   "outputs": [
    {
     "data": {
      "text/html": [
       "<div>\n",
       "<style scoped>\n",
       "    .dataframe tbody tr th:only-of-type {\n",
       "        vertical-align: middle;\n",
       "    }\n",
       "\n",
       "    .dataframe tbody tr th {\n",
       "        vertical-align: top;\n",
       "    }\n",
       "\n",
       "    .dataframe thead th {\n",
       "        text-align: right;\n",
       "    }\n",
       "</style>\n",
       "<table border=\"1\" class=\"dataframe\">\n",
       "  <thead>\n",
       "    <tr style=\"text-align: right;\">\n",
       "      <th></th>\n",
       "      <th>gene-query</th>\n",
       "      <th>gene-target</th>\n",
       "      <th>gene-query-name</th>\n",
       "      <th>gene-target-name</th>\n",
       "      <th>gene-query-description</th>\n",
       "      <th>gene-target-description</th>\n",
       "      <th>interaction-type</th>\n",
       "      <th>paper-source</th>\n",
       "    </tr>\n",
       "  </thead>\n",
       "  <tbody>\n",
       "    <tr>\n",
       "      <th>2846</th>\n",
       "      <td>YBR200W</td>\n",
       "      <td>YER155C</td>\n",
       "      <td>BEM1</td>\n",
       "      <td>BEM2</td>\n",
       "      <td>SRO1|phosphatidylinositol-3-phosphate-binding ...</td>\n",
       "      <td>IPL2|SUP9|TSL1|L000000168</td>\n",
       "      <td>Synthetic Lethality</td>\n",
       "      <td>Peterson J (1994)</td>\n",
       "    </tr>\n",
       "    <tr>\n",
       "      <th>2847</th>\n",
       "      <td>YBR200W</td>\n",
       "      <td>YAL041W</td>\n",
       "      <td>BEM1</td>\n",
       "      <td>CDC24</td>\n",
       "      <td>SRO1|phosphatidylinositol-3-phosphate-binding ...</td>\n",
       "      <td>CLS4|Rho family guanine nucleotide exchange fa...</td>\n",
       "      <td>Synthetic Lethality</td>\n",
       "      <td>Peterson J (1994)</td>\n",
       "    </tr>\n",
       "    <tr>\n",
       "      <th>5004</th>\n",
       "      <td>YBR200W</td>\n",
       "      <td>YOR188W</td>\n",
       "      <td>BEM1</td>\n",
       "      <td>MSB1</td>\n",
       "      <td>SRO1|phosphatidylinositol-3-phosphate-binding ...</td>\n",
       "      <td>L000001184</td>\n",
       "      <td>Synthetic Lethality</td>\n",
       "      <td>Bender A (1991)</td>\n",
       "    </tr>\n",
       "    <tr>\n",
       "      <th>13777</th>\n",
       "      <td>YBR200W</td>\n",
       "      <td>YGR229C</td>\n",
       "      <td>BEM1</td>\n",
       "      <td>SMI1</td>\n",
       "      <td>SRO1|phosphatidylinositol-3-phosphate-binding ...</td>\n",
       "      <td>KNR4|L000000909</td>\n",
       "      <td>Synthetic Lethality</td>\n",
       "      <td>Gorelik M (2011)</td>\n",
       "    </tr>\n",
       "    <tr>\n",
       "      <th>13778</th>\n",
       "      <td>YBR200W</td>\n",
       "      <td>YNL271C</td>\n",
       "      <td>BEM1</td>\n",
       "      <td>BNI1</td>\n",
       "      <td>SRO1|phosphatidylinositol-3-phosphate-binding ...</td>\n",
       "      <td>PPF3|SHE5|formin BNI1|L000000190</td>\n",
       "      <td>Synthetic Lethality</td>\n",
       "      <td>Gorelik M (2011)</td>\n",
       "    </tr>\n",
       "    <tr>\n",
       "      <th>13779</th>\n",
       "      <td>YBR200W</td>\n",
       "      <td>YER155C</td>\n",
       "      <td>BEM1</td>\n",
       "      <td>BEM2</td>\n",
       "      <td>SRO1|phosphatidylinositol-3-phosphate-binding ...</td>\n",
       "      <td>IPL2|SUP9|TSL1|L000000168</td>\n",
       "      <td>Synthetic Lethality</td>\n",
       "      <td>Gorelik M (2011)</td>\n",
       "    </tr>\n",
       "    <tr>\n",
       "      <th>14385</th>\n",
       "      <td>YBR200W</td>\n",
       "      <td>YHR206W</td>\n",
       "      <td>BEM1</td>\n",
       "      <td>SKN7</td>\n",
       "      <td>SRO1|phosphatidylinositol-3-phosphate-binding ...</td>\n",
       "      <td>BRY1|POS9|kinase-regulated stress-responsive t...</td>\n",
       "      <td>Dosage Lethality</td>\n",
       "      <td>Bouquin N (1999)</td>\n",
       "    </tr>\n",
       "  </tbody>\n",
       "</table>\n",
       "</div>"
      ],
      "text/plain": [
       "      gene-query gene-target gene-query-name gene-target-name  \\\n",
       "2846     YBR200W     YER155C            BEM1             BEM2   \n",
       "2847     YBR200W     YAL041W            BEM1            CDC24   \n",
       "5004     YBR200W     YOR188W            BEM1             MSB1   \n",
       "13777    YBR200W     YGR229C            BEM1             SMI1   \n",
       "13778    YBR200W     YNL271C            BEM1             BNI1   \n",
       "13779    YBR200W     YER155C            BEM1             BEM2   \n",
       "14385    YBR200W     YHR206W            BEM1             SKN7   \n",
       "\n",
       "                                  gene-query-description  \\\n",
       "2846   SRO1|phosphatidylinositol-3-phosphate-binding ...   \n",
       "2847   SRO1|phosphatidylinositol-3-phosphate-binding ...   \n",
       "5004   SRO1|phosphatidylinositol-3-phosphate-binding ...   \n",
       "13777  SRO1|phosphatidylinositol-3-phosphate-binding ...   \n",
       "13778  SRO1|phosphatidylinositol-3-phosphate-binding ...   \n",
       "13779  SRO1|phosphatidylinositol-3-phosphate-binding ...   \n",
       "14385  SRO1|phosphatidylinositol-3-phosphate-binding ...   \n",
       "\n",
       "                                 gene-target-description     interaction-type  \\\n",
       "2846                           IPL2|SUP9|TSL1|L000000168  Synthetic Lethality   \n",
       "2847   CLS4|Rho family guanine nucleotide exchange fa...  Synthetic Lethality   \n",
       "5004                                          L000001184  Synthetic Lethality   \n",
       "13777                                    KNR4|L000000909  Synthetic Lethality   \n",
       "13778                   PPF3|SHE5|formin BNI1|L000000190  Synthetic Lethality   \n",
       "13779                          IPL2|SUP9|TSL1|L000000168  Synthetic Lethality   \n",
       "14385  BRY1|POS9|kinase-regulated stress-responsive t...     Dosage Lethality   \n",
       "\n",
       "            paper-source  \n",
       "2846   Peterson J (1994)  \n",
       "2847   Peterson J (1994)  \n",
       "5004     Bender A (1991)  \n",
       "13777   Gorelik M (2011)  \n",
       "13778   Gorelik M (2011)  \n",
       "13779   Gorelik M (2011)  \n",
       "14385   Bouquin N (1999)  "
      ]
     },
     "execution_count": 36,
     "metadata": {},
     "output_type": "execute_result"
    }
   ],
   "source": [
    "data_sl[data_sl['gene-query-name']=='BEM1']"
   ]
  },
  {
   "cell_type": "code",
   "execution_count": null,
   "metadata": {},
   "outputs": [],
   "source": []
  }
 ],
 "metadata": {
  "jupytext": {
   "text_representation": {
    "extension": ".md",
    "format_name": "myst"
   }
  },
  "kernelspec": {
   "display_name": "Python 3",
   "language": "python",
   "name": "python3"
  },
  "language_info": {
   "codemirror_mode": {
    "name": "ipython",
    "version": 3
   },
   "file_extension": ".py",
   "mimetype": "text/x-python",
   "name": "python",
   "nbconvert_exporter": "python",
   "pygments_lexer": "ipython3",
   "version": "3.7.6"
  },
  "source_map": [
   10,
   18,
   29,
   36,
   57,
   66,
   98,
   101,
   105,
   128,
   131,
   135,
   139,
   145,
   178,
   184,
   188,
   206,
   210,
   218,
   222,
   225,
   229,
   234,
   238,
   244,
   248,
   253,
   257,
   267,
   269,
   273,
   306,
   311,
   313,
   317,
   328,
   330,
   334,
   344,
   348,
   358,
   360,
   364,
   381,
   388,
   394,
   400,
   407,
   412,
   419,
   424,
   428,
   432
  ]
 },
 "nbformat": 4,
 "nbformat_minor": 4
}