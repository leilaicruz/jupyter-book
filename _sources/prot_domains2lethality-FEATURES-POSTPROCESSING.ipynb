{
 "cells": [
  {
   "cell_type": "markdown",
   "metadata": {},
   "source": [
    "# Feature postprocessing from paper.\n",
    "- Title:  \"Predicting yeast synthetic lethal genetic interactions using protein domains\"\n",
    "- Authors: Bo Li, Feng Luo,School of Computing,Clemson University,Clemson, SC, USA\n",
    "- e-mail: bol, luofeng@clemson.edu\n",
    "- year:2009"
   ]
  },
  {
   "cell_type": "code",
   "execution_count": 1,
   "metadata": {
    "execution": {
     "iopub.execute_input": "2020-08-14T10:22:41.672422Z",
     "iopub.status.busy": "2020-08-14T10:22:41.671861Z",
     "iopub.status.idle": "2020-08-14T10:22:42.435781Z",
     "shell.execute_reply": "2020-08-14T10:22:42.434825Z"
    }
   },
   "outputs": [],
   "source": [
    "import pandas as pd\n",
    "import numpy as np\n",
    "import matplotlib.pyplot as plt\n",
    "from collections import defaultdict \n",
    "import seaborn as sns\n",
    "import matplotlib.cm as cm\n",
    "import scipy as scipy\n",
    "import random"
   ]
  },
  {
   "cell_type": "markdown",
   "metadata": {
    "jupyter": {
     "source_hidden": true
    }
   },
   "source": [
    "### Importing datasets \n",
    "\n",
    "#### Link to the github repo where the datasets to be downloaded:\n",
    "[DOWNLOAD THE DATASETS HERE](https://github.com/leilaicruz/machine-learning-for-yeast/tree/dev_Leila/datasets-for-learning)"
   ]
  },
  {
   "cell_type": "code",
   "execution_count": 2,
   "metadata": {
    "execution": {
     "iopub.execute_input": "2020-08-14T10:22:42.442981Z",
     "iopub.status.busy": "2020-08-14T10:22:42.441875Z",
     "iopub.status.idle": "2020-08-14T10:22:50.074337Z",
     "shell.execute_reply": "2020-08-14T10:22:50.073797Z"
    }
   },
   "outputs": [],
   "source": [
    "import os\n",
    "script_dir = os.path.dirname('__file__') #<-- absolute dir the script is in\n",
    "rel_path_SL = \"datasets/data-synthetic-lethals.xlsx\"\n",
    "rel_path_nSL=\"datasets/data-positive-genetic.xlsx\"\n",
    "rel_path_domains=\"datasets/proteins-domains-from-Pfam.xlsx\"\n",
    "\n",
    "abs_file_path_SL = os.path.join(script_dir, rel_path_SL)\n",
    "abs_file_path_nSL = os.path.join(script_dir, rel_path_nSL)\n",
    "abs_file_path_domains = os.path.join(script_dir, rel_path_domains)\n",
    "\n",
    "# os.chdir('mini_book/docs/') #<-- for binder os.chdir('../')\n",
    "# os.chdir('../')\n",
    "my_path_sl= abs_file_path_SL\n",
    "my_path_non_sl=abs_file_path_nSL\n",
    "my_path_domains=abs_file_path_domains\n",
    "\n",
    "data_sl=pd.read_excel(my_path_sl,header=0)\n",
    "data_domains=pd.read_excel(my_path_domains,header=0,index_col='Unnamed: 0')\n",
    "data_domains=data_domains.dropna()\n",
    "data_nonsl=pd.read_excel(my_path_non_sl,header=0)"
   ]
  },
  {
   "cell_type": "markdown",
   "metadata": {},
   "source": [
    "## Building the feature matrix\n",
    "One matrix for true SL where each row is one pair of SL. Every raw will be a vector of 0,1 or 2 depending on the comparison with the domain list. For row i the jth element = 0 if the jth element of the domain list is not in neither protein A and B, 1, if it is in one of them and 2 if it is in both of them .\n",
    "\n",
    "### Building the list of proteins domains id per protein pair separately :\n",
    "- List of protein A: Search for the Sl/nSL database the query gene name and look in the protein domain database which protein domains id has each of those queries.\n",
    "- List of protein B: Search for the Sl/nSL database the target gene name of the previous query and look in the protein domain database which protein domains id has each of those target genes."
   ]
  },
  {
   "cell_type": "code",
   "execution_count": 3,
   "metadata": {
    "execution": {
     "iopub.execute_input": "2020-08-14T10:22:50.187459Z",
     "iopub.status.busy": "2020-08-14T10:22:50.160116Z",
     "iopub.status.idle": "2020-08-14T10:22:51.984863Z",
     "shell.execute_reply": "2020-08-14T10:22:51.985538Z"
    }
   },
   "outputs": [],
   "source": [
    "# Selecting the meaningful columns in the respective dataset\n",
    "domain_id_list=data_domains['domain-name']\n",
    "query_gene=data_sl['gene-query-name']\n",
    "target_gene=data_sl['gene-target-name']\n",
    "query_gene_nonlethal=data_nonsl['gene-query-name']\n",
    "target_gene_nonlethal=data_nonsl['gene-target-name']\n",
    "\n",
    "\n",
    "\n",
    "# Initialising the arrays\n",
    "protein_a_list=[]\n",
    "protein_b_list=[]\n",
    "protein_a_list_non=[]\n",
    "protein_b_list_non=[]\n",
    "\n",
    "population = np.arange(0,len(data_sl))\n",
    "\n",
    "# For loop for 10000 pairs sampled randomly from the SL/nSl pair list , and creating a big array of proteind domains id per protein pair\n",
    "\n",
    "for m in random.sample(list(population), 500):\n",
    "    protein_a=data_domains[data_domains['name']==query_gene[m]]\n",
    "    protein_b=data_domains[data_domains['name']==target_gene[m]]\n",
    "    protein_a_list.append(protein_a['domain-name'].tolist())\n",
    "    protein_b_list.append(protein_b['domain-name'].tolist())\n",
    "\n",
    "    protein_a_non=data_domains[data_domains['name']==query_gene_nonlethal[m]]\n",
    "    protein_b_non=data_domains[data_domains['name']==target_gene_nonlethal[m]]\n",
    "    protein_a_list_non.append(protein_a_non['domain-name'].tolist())\n",
    "    protein_b_list_non.append(protein_b_non['domain-name'].tolist())"
   ]
  },
  {
   "cell_type": "code",
   "execution_count": 4,
   "metadata": {
    "execution": {
     "iopub.execute_input": "2020-08-14T10:22:51.990436Z",
     "iopub.status.busy": "2020-08-14T10:22:51.989872Z",
     "iopub.status.idle": "2020-08-14T10:22:51.994780Z",
     "shell.execute_reply": "2020-08-14T10:22:51.995292Z"
    }
   },
   "outputs": [
    {
     "name": "stdout",
     "output_type": "stream",
     "text": [
      "We are going to analyze 500 protein pairs, out of 17871 SL protein pairs\n",
      "We are going to analyze 500 protein pairs, out of 43340 positive protein pairs\n"
     ]
    }
   ],
   "source": [
    "print('We are going to analyze',len((protein_a_list)) ,'protein pairs, out of',len(data_sl),'SL protein pairs')\n",
    "print('We are going to analyze',len((protein_a_list_non)) ,'protein pairs, out of',len(data_nonsl),'positive protein pairs')"
   ]
  },
  {
   "cell_type": "markdown",
   "metadata": {},
   "source": [
    "### Postprocessing #1:  Remove protein pairs from study if either protein in the pair does not contain any domain"
   ]
  },
  {
   "cell_type": "code",
   "execution_count": 5,
   "metadata": {
    "execution": {
     "iopub.execute_input": "2020-08-14T10:22:52.004782Z",
     "iopub.status.busy": "2020-08-14T10:22:52.004177Z",
     "iopub.status.idle": "2020-08-14T10:22:52.008107Z",
     "shell.execute_reply": "2020-08-14T10:22:52.007648Z"
    }
   },
   "outputs": [],
   "source": [
    "def remove_empty_domains(protein_list_search,protein_list_pair):\n",
    "    index=[]\n",
    "    for i in np.arange(0,len(protein_list_search)):\n",
    "        if protein_list_search[i]==[] or protein_list_pair[i]==[]:\n",
    "            index.append(i) ## index of empty values for the protein_a_list meaning they dont have any annotated domain\n",
    "\n",
    "    y=[x for x in np.arange(0,len(protein_list_search)) if x not in index] # a list with non empty values from protein_a list\n",
    "\n",
    "    protein_list_search_new=[]\n",
    "    protein_list_pair_new=[]\n",
    "    for i in y:\n",
    "        protein_list_search_new.append(protein_list_search[i])\n",
    "        protein_list_pair_new.append(protein_list_pair[i])\n",
    "    return protein_list_search_new,protein_list_pair_new\n",
    "\n",
    "## evaluating the function\n",
    "\n",
    "protein_a_list_new,protein_b_list_new=remove_empty_domains(protein_a_list,protein_b_list)\n",
    "\n",
    "protein_a_list_non_new,protein_b_list_non_new=remove_empty_domains(protein_a_list_non,protein_b_list_non)"
   ]
  },
  {
   "cell_type": "code",
   "execution_count": 6,
   "metadata": {
    "execution": {
     "iopub.execute_input": "2020-08-14T10:22:52.012695Z",
     "iopub.status.busy": "2020-08-14T10:22:52.012168Z",
     "iopub.status.idle": "2020-08-14T10:22:52.016849Z",
     "shell.execute_reply": "2020-08-14T10:22:52.017354Z"
    }
   },
   "outputs": [
    {
     "name": "stdout",
     "output_type": "stream",
     "text": [
      "The empty domain in the SL were: 74 out of 500 domains\n",
      "The empty domain in the nSL were: 95 out of 500 domains\n"
     ]
    }
   ],
   "source": [
    "print('The empty domain in the SL were:', len(protein_a_list)-len(protein_a_list_new), 'out of', len(protein_a_list),'domains')\n",
    "print('The empty domain in the nSL were:', len(protein_a_list_non)-len(protein_a_list_non_new), 'out of', len(protein_a_list_non),'domains')"
   ]
  },
  {
   "cell_type": "markdown",
   "metadata": {},
   "source": [
    "### Feature engineering: Select from each ordered indexes of domain id list which of them appear once, in both or in any of the domains of each protein pair"
   ]
  },
  {
   "cell_type": "markdown",
   "metadata": {},
   "source": [
    "#### Define function `get_indexes`"
   ]
  },
  {
   "cell_type": "code",
   "execution_count": 7,
   "metadata": {
    "execution": {
     "iopub.execute_input": "2020-08-14T10:22:52.024358Z",
     "iopub.status.busy": "2020-08-14T10:22:52.023779Z",
     "iopub.status.idle": "2020-08-14T10:22:52.029024Z",
     "shell.execute_reply": "2020-08-14T10:22:52.028514Z"
    }
   },
   "outputs": [
    {
     "data": {
      "text/plain": [
       "[1, 2]"
      ]
     },
     "execution_count": 7,
     "metadata": {},
     "output_type": "execute_result"
    }
   ],
   "source": [
    "get_indexes = lambda x, xs: [i for (y, i) in zip(xs, range(len(xs))) if x == y] # a function that give the index of whether a value appear in array or not\n",
    "a=[1,2,2,4,5,6,7,8,9,10]\n",
    "get_indexes(2,a)"
   ]
  },
  {
   "cell_type": "code",
   "execution_count": 8,
   "metadata": {
    "execution": {
     "iopub.execute_input": "2020-08-14T10:22:52.036922Z",
     "iopub.status.busy": "2020-08-14T10:22:52.036325Z",
     "iopub.status.idle": "2020-08-14T10:22:52.040623Z",
     "shell.execute_reply": "2020-08-14T10:22:52.040037Z"
    }
   },
   "outputs": [],
   "source": [
    "def feature_building(protein_a_list_new,protein_b_list_new):\n",
    "    x = np.unique(domain_id_list)\n",
    "    ## To avoid taking repeated domains from one protein of the pairs , lets reduced the domains of each protein from the pairs to their unique members\n",
    "    protein_a_list_unique=[]\n",
    "    protein_b_list_unique=[]\n",
    "    for i in np.arange(0,len(protein_a_list_new)):\n",
    "        protein_a_list_unique.append(np.unique(protein_a_list_new[i]))\n",
    "        protein_b_list_unique.append(np.unique(protein_b_list_new[i]))\n",
    "        \n",
    "    protein_feat_true=np.zeros(shape=(len(x),len(protein_a_list_unique)))\n",
    "    pair_a_b_array=[]\n",
    "    for i in np.arange(0,len(protein_a_list_unique)):\n",
    "        index_a=[]\n",
    "        \n",
    "        pair=[protein_a_list_unique[i],protein_b_list_unique[i]]\n",
    "        pair_a_b=np.concatenate(pair).ravel()\n",
    "        pair_a_b_array.append(pair_a_b)\n",
    "\n",
    "    j=0\n",
    "    for i in pair_a_b_array:  \n",
    "        array,index,counts=np.unique(i,return_index=True,return_counts=True)\n",
    "        \n",
    "        for k,m in zip(counts,array):\n",
    "            if k ==2:\n",
    "                protein_feat_true[get_indexes(m,x),j]=2\n",
    "                \n",
    "            if k==1:\n",
    "                protein_feat_true[get_indexes(m,x),j]=1\n",
    "        j=j+1\n",
    "    return protein_feat_true"
   ]
  },
  {
   "cell_type": "code",
   "execution_count": 9,
   "metadata": {
    "execution": {
     "iopub.execute_input": "2020-08-14T10:22:52.049779Z",
     "iopub.status.busy": "2020-08-14T10:22:52.049193Z",
     "iopub.status.idle": "2020-08-14T10:22:52.798465Z",
     "shell.execute_reply": "2020-08-14T10:22:52.797497Z"
    }
   },
   "outputs": [],
   "source": [
    "protein_feat_true=feature_building(protein_b_list_new=protein_b_list_new,protein_a_list_new=protein_a_list_new)\n",
    "protein_feat_true_pd=pd.DataFrame(protein_feat_true.T)\n",
    "\n",
    "protein_feat_non_true=feature_building(protein_b_list_new=protein_b_list_non_new,protein_a_list_new=protein_a_list_non_new)\n",
    "protein_feat_non_true_pd=pd.DataFrame(protein_feat_non_true.T)"
   ]
  },
  {
   "cell_type": "markdown",
   "metadata": {},
   "source": [
    "### How many ones and twos are in each dataset"
   ]
  },
  {
   "cell_type": "code",
   "execution_count": 10,
   "metadata": {
    "execution": {
     "iopub.execute_input": "2020-08-14T10:22:52.805604Z",
     "iopub.status.busy": "2020-08-14T10:22:52.804561Z",
     "iopub.status.idle": "2020-08-14T10:22:52.913299Z",
     "shell.execute_reply": "2020-08-14T10:22:52.912410Z"
    }
   },
   "outputs": [
    {
     "name": "stdout",
     "output_type": "stream",
     "text": [
      "fraction of twos in the SL array is 3.6472277189306636e-05\n",
      "fraction of ones in the SL array is 0.0010049276374500446\n",
      "fraction of twos in the PI array is 7.346189164370983e-06\n",
      "fraction of ones in the PI array is 0.0008888888888888889\n"
     ]
    }
   ],
   "source": [
    "index_2_true=protein_feat_true_pd.where(protein_feat_true_pd==2)\n",
    "index_2_true_count=index_2_true.count(axis=1).sum()\n",
    "\n",
    "index_1_true=protein_feat_true_pd.where(protein_feat_true_pd==1)\n",
    "index_1_true_count=index_1_true.count(axis=1).sum()\n",
    "\n",
    "index_2_nontrue=protein_feat_non_true_pd.where(protein_feat_non_true_pd==2)\n",
    "index_2_nontrue_count=index_2_nontrue.count(axis=1).sum()\n",
    "\n",
    "index_1_nontrue=protein_feat_non_true_pd.where(protein_feat_non_true_pd==1)\n",
    "index_1_nontrue_count=index_1_nontrue.count(axis=1).sum()\n",
    "\n",
    "\n",
    "print('fraction of twos in the SL array is',index_2_true_count/(len(protein_feat_true_pd.index)*len(protein_feat_true_pd.columns)))\n",
    "print('fraction of ones in the SL array is',index_1_true_count/(len(protein_feat_true_pd.index)*len(protein_feat_true_pd.columns)))\n",
    "print('fraction of twos in the PI array is',index_2_nontrue_count/(len(protein_feat_non_true_pd.index)*len(protein_feat_non_true_pd.columns)))\n",
    "print('fraction of ones in the PI array is',index_1_nontrue_count/(len(protein_feat_non_true_pd.index)*len(protein_feat_non_true_pd.columns)))"
   ]
  },
  {
   "cell_type": "markdown",
   "metadata": {},
   "source": [
    "#### Bar plot to visualize these numbers"
   ]
  },
  {
   "cell_type": "code",
   "execution_count": 11,
   "metadata": {
    "execution": {
     "iopub.execute_input": "2020-08-14T10:22:52.933099Z",
     "iopub.status.busy": "2020-08-14T10:22:52.932442Z",
     "iopub.status.idle": "2020-08-14T10:22:53.419979Z",
     "shell.execute_reply": "2020-08-14T10:22:53.419491Z"
    }
   },
   "outputs": [
    {
     "data": {
      "text/plain": [
       "([0, 1, 2, 3],\n",
       " [Text(0, 0, ''), Text(0, 0, ''), Text(0, 0, ''), Text(0, 0, '')])"
      ]
     },
     "execution_count": 11,
     "metadata": {},
     "output_type": "execute_result"
    },
    {
     "data": {
      "image/png": "[encoded data removed]",
      "text/plain": [
       "<Figure size 432x288 with 1 Axes>"
      ]
     },
     "metadata": {
      "filenames": {
       "image/png": "/home/runner/work/jupyter-book/jupyter-book/mini_book/docs/_build/jupyter_execute/prot_domains2lethality-FEATURES-POSTPROCESSING_18_1.png"
      },
      "needs_background": "light"
     },
     "output_type": "display_data"
    }
   ],
   "source": [
    "plt.bar(['fraction of 2 in the nSL','fraction of 1 in the nSL'],[index_2_nontrue_count/(len(protein_feat_non_true_pd.index)*len(protein_feat_non_true_pd.columns)),index_1_nontrue_count/(len(protein_feat_non_true_pd.index)*len(protein_feat_non_true_pd.columns))],alpha=0.6,color=['blue','lightblue']), \n",
    "\n",
    "plt.bar(['fraction of 2 in SL ','fraction of 1 in SL'],[index_2_true_count/(len(protein_feat_true_pd.index)*len(protein_feat_true_pd.columns)),index_1_true_count/(len(protein_feat_true_pd.index)*len(protein_feat_true_pd.columns))],alpha=0.6,color=['coral','lightcoral'])\n",
    "\n",
    "plt.ylabel('Fraction from the population')\n",
    "plt.yscale('log')\n",
    "plt.xticks(rotation=40)"
   ]
  },
  {
   "cell_type": "markdown",
   "metadata": {},
   "source": [
    "#### Adding the labels(response variables) to each dataset"
   ]
  },
  {
   "cell_type": "code",
   "execution_count": 12,
   "metadata": {
    "execution": {
     "iopub.execute_input": "2020-08-14T10:22:53.425072Z",
     "iopub.status.busy": "2020-08-14T10:22:53.424265Z",
     "iopub.status.idle": "2020-08-14T10:22:53.427798Z",
     "shell.execute_reply": "2020-08-14T10:22:53.428529Z"
    }
   },
   "outputs": [],
   "source": [
    "protein_feat_true_pd['lethality']=np.ones(shape=(len(protein_a_list_new)))\n",
    "protein_feat_non_true_pd['lethality']=np.zeros(shape=(len(protein_a_list_non_new)))"
   ]
  },
  {
   "cell_type": "markdown",
   "metadata": {},
   "source": [
    "#### Joining both datasets"
   ]
  },
  {
   "cell_type": "code",
   "execution_count": 13,
   "metadata": {
    "execution": {
     "iopub.execute_input": "2020-08-14T10:22:53.432840Z",
     "iopub.status.busy": "2020-08-14T10:22:53.432238Z",
     "iopub.status.idle": "2020-08-14T10:22:53.470445Z",
     "shell.execute_reply": "2020-08-14T10:22:53.469883Z"
    }
   },
   "outputs": [
    {
     "name": "stdout",
     "output_type": "stream",
     "text": [
      "The number of features are: 3026\n",
      "The number of samples are: 831\n"
     ]
    }
   ],
   "source": [
    "feature_post=pd.concat([protein_feat_true_pd,protein_feat_non_true_pd],axis=0)\n",
    "feature_post=feature_post.set_index(np.arange(0,len(protein_a_list_new)+len(protein_a_list_non_new)))\n",
    "print('The number of features are:',feature_post.shape[1])\n",
    "print('The number of samples are:',feature_post.shape[0])"
   ]
  },
  {
   "cell_type": "markdown",
   "metadata": {},
   "source": [
    "### Postprocessing and exploration of the feature matrix of both datasets"
   ]
  },
  {
   "cell_type": "code",
   "execution_count": 14,
   "metadata": {
    "execution": {
     "iopub.execute_input": "2020-08-14T10:22:53.486409Z",
     "iopub.status.busy": "2020-08-14T10:22:53.476414Z",
     "iopub.status.idle": "2020-08-14T10:22:58.090973Z",
     "shell.execute_reply": "2020-08-14T10:22:58.090474Z"
    }
   },
   "outputs": [],
   "source": [
    "mean=feature_post.T.describe().loc['mean']\n",
    "std=feature_post.T.describe().loc['std']\n",
    "lethality=feature_post['lethality']\n",
    "\n",
    "corr_keys=pd.concat([mean,std,lethality],axis=1)"
   ]
  },
  {
   "cell_type": "markdown",
   "metadata": {},
   "source": [
    "### Viz of the stats"
   ]
  },
  {
   "cell_type": "code",
   "execution_count": 15,
   "metadata": {
    "execution": {
     "iopub.execute_input": "2020-08-14T10:22:58.177853Z",
     "iopub.status.busy": "2020-08-14T10:22:58.145524Z",
     "iopub.status.idle": "2020-08-14T10:22:59.902996Z",
     "shell.execute_reply": "2020-08-14T10:22:59.903673Z"
    }
   },
   "outputs": [
    {
     "data": {
      "text/plain": [
       "Text(0.5, 1.08, 'Pairplot to see data dependencies with Lethality')"
      ]
     },
     "execution_count": 15,
     "metadata": {},
     "output_type": "execute_result"
    },
    {
     "data": {
      "image/png": "[encoded data removed]",
      "text/plain": [
       "<Figure size 412x360 with 6 Axes>"
      ]
     },
     "metadata": {
      "filenames": {
       "image/png": "/home/runner/work/jupyter-book/jupyter-book/mini_book/docs/_build/jupyter_execute/prot_domains2lethality-FEATURES-POSTPROCESSING_26_1.png"
      },
      "needs_background": "light"
     },
     "output_type": "display_data"
    }
   ],
   "source": [
    "pair=sns.pairplot(corr_keys,hue='lethality',diag_kind='kde',kind='reg',palette='colorblind')\n",
    "pair.fig.suptitle('Pairplot to see data dependencies with Lethality',y=1.08)"
   ]
  },
  {
   "cell_type": "code",
   "execution_count": 16,
   "metadata": {
    "execution": {
     "iopub.execute_input": "2020-08-14T10:22:59.915020Z",
     "iopub.status.busy": "2020-08-14T10:22:59.914378Z",
     "iopub.status.idle": "2020-08-14T10:22:59.918483Z",
     "shell.execute_reply": "2020-08-14T10:22:59.917971Z"
    }
   },
   "outputs": [],
   "source": [
    "X, y = feature_post.drop(columns=[\"lethality\"]), feature_post[\"lethality\"]"
   ]
  },
  {
   "cell_type": "code",
   "execution_count": 17,
   "metadata": {
    "execution": {
     "iopub.execute_input": "2020-08-14T10:22:59.923574Z",
     "iopub.status.busy": "2020-08-14T10:22:59.922534Z",
     "iopub.status.idle": "2020-08-14T10:23:00.160673Z",
     "shell.execute_reply": "2020-08-14T10:23:00.160141Z"
    }
   },
   "outputs": [],
   "source": [
    "from sklearn.preprocessing import StandardScaler\n",
    "scaler = StandardScaler()\n",
    "x_sl=protein_feat_true_pd.drop(columns=['lethality'])\n",
    "x_nsl=protein_feat_non_true_pd.drop(columns=['lethality'])\n",
    "\n",
    "X_sl_scaled = scaler.fit_transform(x_sl)\n",
    "X_nsl_scaled = scaler.fit_transform(x_nsl)"
   ]
  },
  {
   "cell_type": "code",
   "execution_count": 18,
   "metadata": {
    "execution": {
     "iopub.execute_input": "2020-08-14T10:23:00.165096Z",
     "iopub.status.busy": "2020-08-14T10:23:00.164556Z",
     "iopub.status.idle": "2020-08-14T10:23:00.170155Z",
     "shell.execute_reply": "2020-08-14T10:23:00.169573Z"
    }
   },
   "outputs": [
    {
     "data": {
      "text/plain": [
       "(426, 3025)"
      ]
     },
     "execution_count": 18,
     "metadata": {},
     "output_type": "execute_result"
    }
   ],
   "source": [
    "np.shape(X_sl_scaled)"
   ]
  },
  {
   "cell_type": "markdown",
   "metadata": {},
   "source": [
    "## How redundant are each of the protein domains?"
   ]
  },
  {
   "cell_type": "code",
   "execution_count": 19,
   "metadata": {
    "execution": {
     "iopub.execute_input": "2020-08-14T10:23:00.176266Z",
     "iopub.status.busy": "2020-08-14T10:23:00.175736Z",
     "iopub.status.idle": "2020-08-14T10:23:00.179568Z",
     "shell.execute_reply": "2020-08-14T10:23:00.179098Z"
    }
   },
   "outputs": [],
   "source": [
    "def PCA_component_contribution(scaled_matrix,original_data):\n",
    "    from sklearn.decomposition import PCA\n",
    "\n",
    "    model = PCA(0.95).fit(scaled_matrix)\n",
    "    ## apply dimensionality reduction to X_train\n",
    "    output_pca = model.transform(scaled_matrix)\n",
    "    \n",
    "    total=sum(model.explained_variance_)\n",
    "\n",
    "\n",
    "   \n",
    "    # number of components , that it will be the number of main axes times the number of original components \n",
    "    n_pcs= model.components_.shape[0] # the amount of non redundant protein domains \n",
    "\n",
    "    # get the index of the most important feature on EACH component\n",
    "    # LIST COMPREHENSION HERE\n",
    "    most_important = [np.abs(model.components_[i]).argmax() for i in range(n_pcs)]\n",
    "\n",
    "    initial_feature_names = original_data.columns\n",
    "    # get the names\n",
    "    most_important_names = [initial_feature_names[most_important[i]] for i in range(n_pcs)]\n",
    "    \n",
    "\n",
    "    # LIST COMPREHENSION HERE AGAIN\n",
    "    dic = {'PC{}'.format(i): most_important_names[i] for i in range(n_pcs)}\n",
    "\n",
    "    # build the dataframe\n",
    "    df = pd.DataFrame(dic.items(),columns=['pca-component','domain-number'])\n",
    "\n",
    "    return df,model.components_"
   ]
  },
  {
   "cell_type": "code",
   "execution_count": 20,
   "metadata": {
    "execution": {
     "iopub.execute_input": "2020-08-14T10:23:00.183325Z",
     "iopub.status.busy": "2020-08-14T10:23:00.182783Z",
     "iopub.status.idle": "2020-08-14T10:23:00.930338Z",
     "shell.execute_reply": "2020-08-14T10:23:00.930819Z"
    }
   },
   "outputs": [],
   "source": [
    "df_sl,components_pca_nsl=PCA_component_contribution(X_nsl_scaled,x_nsl)\n",
    "df_nsl,components_pca_sl=PCA_component_contribution(X_sl_scaled,x_sl)"
   ]
  },
  {
   "cell_type": "code",
   "execution_count": 21,
   "metadata": {
    "execution": {
     "iopub.execute_input": "2020-08-14T10:23:00.933923Z",
     "iopub.status.busy": "2020-08-14T10:23:00.932785Z",
     "iopub.status.idle": "2020-08-14T10:23:00.944742Z",
     "shell.execute_reply": "2020-08-14T10:23:00.945644Z"
    }
   },
   "outputs": [
    {
     "data": {
      "text/html": [
       "<div>\n",
       "<style scoped>\n",
       "    .dataframe tbody tr th:only-of-type {\n",
       "        vertical-align: middle;\n",
       "    }\n",
       "\n",
       "    .dataframe tbody tr th {\n",
       "        vertical-align: top;\n",
       "    }\n",
       "\n",
       "    .dataframe thead th {\n",
       "        text-align: right;\n",
       "    }\n",
       "</style>\n",
       "<table border=\"1\" class=\"dataframe\">\n",
       "  <thead>\n",
       "    <tr style=\"text-align: right;\">\n",
       "      <th></th>\n",
       "      <th>pca-component</th>\n",
       "      <th>domain-number</th>\n",
       "    </tr>\n",
       "  </thead>\n",
       "  <tbody>\n",
       "    <tr>\n",
       "      <th>0</th>\n",
       "      <td>PC0</td>\n",
       "      <td>305</td>\n",
       "    </tr>\n",
       "    <tr>\n",
       "      <th>1</th>\n",
       "      <td>PC1</td>\n",
       "      <td>176</td>\n",
       "    </tr>\n",
       "    <tr>\n",
       "      <th>2</th>\n",
       "      <td>PC2</td>\n",
       "      <td>135</td>\n",
       "    </tr>\n",
       "    <tr>\n",
       "      <th>3</th>\n",
       "      <td>PC3</td>\n",
       "      <td>858</td>\n",
       "    </tr>\n",
       "    <tr>\n",
       "      <th>4</th>\n",
       "      <td>PC4</td>\n",
       "      <td>189</td>\n",
       "    </tr>\n",
       "  </tbody>\n",
       "</table>\n",
       "</div>"
      ],
      "text/plain": [
       "  pca-component  domain-number\n",
       "0           PC0            305\n",
       "1           PC1            176\n",
       "2           PC2            135\n",
       "3           PC3            858\n",
       "4           PC4            189"
      ]
     },
     "execution_count": 21,
     "metadata": {},
     "output_type": "execute_result"
    }
   ],
   "source": [
    "df_sl.head()"
   ]
  },
  {
   "cell_type": "markdown",
   "metadata": {},
   "source": [
    "## which are the shared domains between nSL and SL pairs , in the PCA reduced samples"
   ]
  },
  {
   "cell_type": "code",
   "execution_count": 22,
   "metadata": {
    "execution": {
     "iopub.execute_input": "2020-08-14T10:23:00.949395Z",
     "iopub.status.busy": "2020-08-14T10:23:00.948073Z",
     "iopub.status.idle": "2020-08-14T10:23:00.979929Z",
     "shell.execute_reply": "2020-08-14T10:23:00.980744Z"
    }
   },
   "outputs": [
    {
     "data": {
      "text/html": [
       "<div>\n",
       "<style scoped>\n",
       "    .dataframe tbody tr th:only-of-type {\n",
       "        vertical-align: middle;\n",
       "    }\n",
       "\n",
       "    .dataframe tbody tr th {\n",
       "        vertical-align: top;\n",
       "    }\n",
       "\n",
       "    .dataframe thead th {\n",
       "        text-align: right;\n",
       "    }\n",
       "</style>\n",
       "<table border=\"1\" class=\"dataframe\">\n",
       "  <thead>\n",
       "    <tr style=\"text-align: right;\">\n",
       "      <th></th>\n",
       "      <th>pca-component_x</th>\n",
       "      <th>domain-number</th>\n",
       "      <th>pca-component_y</th>\n",
       "      <th>domain-description</th>\n",
       "    </tr>\n",
       "  </thead>\n",
       "  <tbody>\n",
       "    <tr>\n",
       "      <th>0</th>\n",
       "      <td>PC0</td>\n",
       "      <td>305</td>\n",
       "      <td>PC1</td>\n",
       "      <td>Brr6_like_C_C; Brl1/Brr6 domain</td>\n",
       "    </tr>\n",
       "    <tr>\n",
       "      <th>1</th>\n",
       "      <td>PC3</td>\n",
       "      <td>858</td>\n",
       "      <td>PC12</td>\n",
       "      <td>F420_oxidored; Pyrroline-5-carboxylate reducta...</td>\n",
       "    </tr>\n",
       "    <tr>\n",
       "      <th>2</th>\n",
       "      <td>PC4</td>\n",
       "      <td>189</td>\n",
       "      <td>PC96</td>\n",
       "      <td>Alg14; Oligosaccharide biosynthesis protein Al...</td>\n",
       "    </tr>\n",
       "    <tr>\n",
       "      <th>3</th>\n",
       "      <td>PC5</td>\n",
       "      <td>190</td>\n",
       "      <td>PC28</td>\n",
       "      <td>Alg6_Alg8; Glycosyl transferase, ALG6/ALG8</td>\n",
       "    </tr>\n",
       "    <tr>\n",
       "      <th>4</th>\n",
       "      <td>PC7</td>\n",
       "      <td>463</td>\n",
       "      <td>PC27</td>\n",
       "      <td>Chitin_synth_1N; Chitin synthase N-terminal</td>\n",
       "    </tr>\n",
       "    <tr>\n",
       "      <th>...</th>\n",
       "      <td>...</td>\n",
       "      <td>...</td>\n",
       "      <td>...</td>\n",
       "      <td>...</td>\n",
       "    </tr>\n",
       "    <tr>\n",
       "      <th>60</th>\n",
       "      <td>PC256</td>\n",
       "      <td>141</td>\n",
       "      <td>PC93</td>\n",
       "      <td>ATP_sub_h; ATP synthase, F0 complex, subunit H</td>\n",
       "    </tr>\n",
       "    <tr>\n",
       "      <th>61</th>\n",
       "      <td>PC262</td>\n",
       "      <td>141</td>\n",
       "      <td>PC93</td>\n",
       "      <td>ATP_sub_h; ATP synthase, F0 complex, subunit H</td>\n",
       "    </tr>\n",
       "    <tr>\n",
       "      <th>62</th>\n",
       "      <td>PC266</td>\n",
       "      <td>412</td>\n",
       "      <td>PC63</td>\n",
       "      <td>CRAL_TRIO_N; CRAL/TRIO, N-terminal domain</td>\n",
       "    </tr>\n",
       "    <tr>\n",
       "      <th>63</th>\n",
       "      <td>PC266</td>\n",
       "      <td>412</td>\n",
       "      <td>PC186</td>\n",
       "      <td>CRAL_TRIO_N; CRAL/TRIO, N-terminal domain</td>\n",
       "    </tr>\n",
       "    <tr>\n",
       "      <th>64</th>\n",
       "      <td>PC268</td>\n",
       "      <td>11</td>\n",
       "      <td>PC130</td>\n",
       "      <td>5-FTHF_cyc-lig; 5-formyltetrahydrofolate cyclo...</td>\n",
       "    </tr>\n",
       "  </tbody>\n",
       "</table>\n",
       "<p>65 rows × 4 columns</p>\n",
       "</div>"
      ],
      "text/plain": [
       "   pca-component_x  domain-number pca-component_y  \\\n",
       "0              PC0            305             PC1   \n",
       "1              PC3            858            PC12   \n",
       "2              PC4            189            PC96   \n",
       "3              PC5            190            PC28   \n",
       "4              PC7            463            PC27   \n",
       "..             ...            ...             ...   \n",
       "60           PC256            141            PC93   \n",
       "61           PC262            141            PC93   \n",
       "62           PC266            412            PC63   \n",
       "63           PC266            412           PC186   \n",
       "64           PC268             11           PC130   \n",
       "\n",
       "                                   domain-description  \n",
       "0                     Brr6_like_C_C; Brl1/Brr6 domain  \n",
       "1   F420_oxidored; Pyrroline-5-carboxylate reducta...  \n",
       "2   Alg14; Oligosaccharide biosynthesis protein Al...  \n",
       "3          Alg6_Alg8; Glycosyl transferase, ALG6/ALG8  \n",
       "4         Chitin_synth_1N; Chitin synthase N-terminal  \n",
       "..                                                ...  \n",
       "60     ATP_sub_h; ATP synthase, F0 complex, subunit H  \n",
       "61     ATP_sub_h; ATP synthase, F0 complex, subunit H  \n",
       "62          CRAL_TRIO_N; CRAL/TRIO, N-terminal domain  \n",
       "63          CRAL_TRIO_N; CRAL/TRIO, N-terminal domain  \n",
       "64  5-FTHF_cyc-lig; 5-formyltetrahydrofolate cyclo...  \n",
       "\n",
       "[65 rows x 4 columns]"
      ]
     },
     "execution_count": 22,
     "metadata": {},
     "output_type": "execute_result"
    }
   ],
   "source": [
    "df_shared_domains=pd.merge(df_sl,df_nsl,how='inner',on='domain-number')\n",
    "domains_name=np.unique(data_domains['domain-name'])\n",
    "domains_description=np.unique(data_domains['domain-descrip'])\n",
    "\n",
    "df_shared_domains['domain-description']=domains_description[df_shared_domains['domain-number']]\n",
    "\n",
    "\n",
    "df_shared_domains"
   ]
  },
  {
   "cell_type": "code",
   "execution_count": 23,
   "metadata": {
    "execution": {
     "iopub.execute_input": "2020-08-14T10:23:00.984237Z",
     "iopub.status.busy": "2020-08-14T10:23:00.983044Z",
     "iopub.status.idle": "2020-08-14T10:23:00.990985Z",
     "shell.execute_reply": "2020-08-14T10:23:00.991830Z"
    }
   },
   "outputs": [
    {
     "name": "stdout",
     "output_type": "stream",
     "text": [
      "The number of shared domains between SL and nSL pairs,after PCA, is =  65 out of 562 so the 11.565836298932384 %\n"
     ]
    }
   ],
   "source": [
    "print('The number of shared domains between SL and nSL pairs,after PCA, is = ',len(df_shared_domains), 'out of', len(df_sl)+len(df_nsl), 'so the',100*len(df_shared_domains)/(len(df_sl)+len(df_nsl)),'%')"
   ]
  },
  {
   "cell_type": "markdown",
   "metadata": {},
   "source": [
    "## Domains exclusive to SL"
   ]
  },
  {
   "cell_type": "code",
   "execution_count": 24,
   "metadata": {
    "execution": {
     "iopub.execute_input": "2020-08-14T10:23:00.995289Z",
     "iopub.status.busy": "2020-08-14T10:23:00.994141Z",
     "iopub.status.idle": "2020-08-14T10:23:01.023973Z",
     "shell.execute_reply": "2020-08-14T10:23:01.024711Z"
    }
   },
   "outputs": [
    {
     "data": {
      "text/html": [
       "<div>\n",
       "<style scoped>\n",
       "    .dataframe tbody tr th:only-of-type {\n",
       "        vertical-align: middle;\n",
       "    }\n",
       "\n",
       "    .dataframe tbody tr th {\n",
       "        vertical-align: top;\n",
       "    }\n",
       "\n",
       "    .dataframe thead th {\n",
       "        text-align: right;\n",
       "    }\n",
       "</style>\n",
       "<table border=\"1\" class=\"dataframe\">\n",
       "  <thead>\n",
       "    <tr style=\"text-align: right;\">\n",
       "      <th></th>\n",
       "      <th>pca-component_x</th>\n",
       "      <th>domain-number</th>\n",
       "      <th>pca-component_y</th>\n",
       "      <th>domain-description</th>\n",
       "    </tr>\n",
       "  </thead>\n",
       "  <tbody>\n",
       "    <tr>\n",
       "      <th>1</th>\n",
       "      <td>PC1</td>\n",
       "      <td>176</td>\n",
       "      <td>NaN</td>\n",
       "      <td>Aft1_OSA; Transcription factor Aft1, osmotic s...</td>\n",
       "    </tr>\n",
       "    <tr>\n",
       "      <th>2</th>\n",
       "      <td>PC2</td>\n",
       "      <td>135</td>\n",
       "      <td>NaN</td>\n",
       "      <td>ATP-synt_ab_Xtn; ATPsynthase alpha/beta subuni...</td>\n",
       "    </tr>\n",
       "    <tr>\n",
       "      <th>6</th>\n",
       "      <td>PC6</td>\n",
       "      <td>122</td>\n",
       "      <td>NaN</td>\n",
       "      <td>ATP-synt_10; ATPase assembly factor ATP10</td>\n",
       "    </tr>\n",
       "    <tr>\n",
       "      <th>8</th>\n",
       "      <td>PC8</td>\n",
       "      <td>192</td>\n",
       "      <td>NaN</td>\n",
       "      <td>Alkyl_sulf_C; Alkyl sulfatase, C-terminal</td>\n",
       "    </tr>\n",
       "    <tr>\n",
       "      <th>10</th>\n",
       "      <td>PC10</td>\n",
       "      <td>2610</td>\n",
       "      <td>NaN</td>\n",
       "      <td>TPK_B1_binding; Thiamin pyrophosphokinase, vit...</td>\n",
       "    </tr>\n",
       "    <tr>\n",
       "      <th>...</th>\n",
       "      <td>...</td>\n",
       "      <td>...</td>\n",
       "      <td>...</td>\n",
       "      <td>...</td>\n",
       "    </tr>\n",
       "    <tr>\n",
       "      <th>283</th>\n",
       "      <td>PC272</td>\n",
       "      <td>726</td>\n",
       "      <td>NaN</td>\n",
       "      <td>DUF4782; VASt domain</td>\n",
       "    </tr>\n",
       "    <tr>\n",
       "      <th>284</th>\n",
       "      <td>PC273</td>\n",
       "      <td>726</td>\n",
       "      <td>NaN</td>\n",
       "      <td>DUF4782; VASt domain</td>\n",
       "    </tr>\n",
       "    <tr>\n",
       "      <th>285</th>\n",
       "      <td>PC274</td>\n",
       "      <td>1365</td>\n",
       "      <td>NaN</td>\n",
       "      <td>MF_alpha; Mating factor alpha, C-terminal repeat</td>\n",
       "    </tr>\n",
       "    <tr>\n",
       "      <th>286</th>\n",
       "      <td>PC275</td>\n",
       "      <td>585</td>\n",
       "      <td>NaN</td>\n",
       "      <td>DHHA2; DHHA2 domain</td>\n",
       "    </tr>\n",
       "    <tr>\n",
       "      <th>287</th>\n",
       "      <td>PC276</td>\n",
       "      <td>543</td>\n",
       "      <td>NaN</td>\n",
       "      <td>D123; Cell division cycle protein 123</td>\n",
       "    </tr>\n",
       "  </tbody>\n",
       "</table>\n",
       "<p>223 rows × 4 columns</p>\n",
       "</div>"
      ],
      "text/plain": [
       "    pca-component_x  domain-number pca-component_y  \\\n",
       "1               PC1            176             NaN   \n",
       "2               PC2            135             NaN   \n",
       "6               PC6            122             NaN   \n",
       "8               PC8            192             NaN   \n",
       "10             PC10           2610             NaN   \n",
       "..              ...            ...             ...   \n",
       "283           PC272            726             NaN   \n",
       "284           PC273            726             NaN   \n",
       "285           PC274           1365             NaN   \n",
       "286           PC275            585             NaN   \n",
       "287           PC276            543             NaN   \n",
       "\n",
       "                                    domain-description  \n",
       "1    Aft1_OSA; Transcription factor Aft1, osmotic s...  \n",
       "2    ATP-synt_ab_Xtn; ATPsynthase alpha/beta subuni...  \n",
       "6            ATP-synt_10; ATPase assembly factor ATP10  \n",
       "8            Alkyl_sulf_C; Alkyl sulfatase, C-terminal  \n",
       "10   TPK_B1_binding; Thiamin pyrophosphokinase, vit...  \n",
       "..                                                 ...  \n",
       "283                               DUF4782; VASt domain  \n",
       "284                               DUF4782; VASt domain  \n",
       "285   MF_alpha; Mating factor alpha, C-terminal repeat  \n",
       "286                                DHHA2; DHHA2 domain  \n",
       "287              D123; Cell division cycle protein 123  \n",
       "\n",
       "[223 rows x 4 columns]"
      ]
     },
     "execution_count": 24,
     "metadata": {},
     "output_type": "execute_result"
    }
   ],
   "source": [
    "df_sl_exclusive=pd.merge(df_sl,df_nsl,how='left',on='domain-number')\n",
    "\n",
    "domains_name=np.unique(data_domains['domain-name'])\n",
    "domains_description=np.unique(data_domains['domain-descrip'])\n",
    "\n",
    "df_sl_exclusive['domain-description']=domains_description[df_sl_exclusive['domain-number']]\n",
    "df_sl_exclusive[pd.isnull(df_sl_exclusive['pca-component_y'])]"
   ]
  },
  {
   "cell_type": "code",
   "execution_count": 25,
   "metadata": {
    "execution": {
     "iopub.execute_input": "2020-08-14T10:23:01.027904Z",
     "iopub.status.busy": "2020-08-14T10:23:01.026845Z",
     "iopub.status.idle": "2020-08-14T10:23:01.035045Z",
     "shell.execute_reply": "2020-08-14T10:23:01.035762Z"
    }
   },
   "outputs": [
    {
     "name": "stdout",
     "output_type": "stream",
     "text": [
      "The number of exclusive domains from SL pairs, after PCA, is =  288 out of 562 so the 51.245551601423486 %\n"
     ]
    }
   ],
   "source": [
    "print('The number of exclusive domains from SL pairs, after PCA, is = ',len(df_sl_exclusive), 'out of', len(df_sl)+len(df_nsl), 'so the',100*len(df_sl_exclusive)/(len(df_sl)+len(df_nsl)),'%')"
   ]
  },
  {
   "cell_type": "code",
   "execution_count": 26,
   "metadata": {
    "execution": {
     "iopub.execute_input": "2020-08-14T10:23:01.041740Z",
     "iopub.status.busy": "2020-08-14T10:23:01.037874Z",
     "iopub.status.idle": "2020-08-14T10:23:01.069507Z",
     "shell.execute_reply": "2020-08-14T10:23:01.069006Z"
    }
   },
   "outputs": [
    {
     "data": {
      "text/html": [
       "<div>\n",
       "<style scoped>\n",
       "    .dataframe tbody tr th:only-of-type {\n",
       "        vertical-align: middle;\n",
       "    }\n",
       "\n",
       "    .dataframe tbody tr th {\n",
       "        vertical-align: top;\n",
       "    }\n",
       "\n",
       "    .dataframe thead th {\n",
       "        text-align: right;\n",
       "    }\n",
       "</style>\n",
       "<table border=\"1\" class=\"dataframe\">\n",
       "  <thead>\n",
       "    <tr style=\"text-align: right;\">\n",
       "      <th></th>\n",
       "      <th>pca-component_x</th>\n",
       "      <th>domain-number</th>\n",
       "      <th>pca-component_y</th>\n",
       "      <th>domain-description</th>\n",
       "    </tr>\n",
       "  </thead>\n",
       "  <tbody>\n",
       "    <tr>\n",
       "      <th>0</th>\n",
       "      <td>NaN</td>\n",
       "      <td>1028</td>\n",
       "      <td>PC0</td>\n",
       "      <td>GatB_Yqey; Asn/Gln amidotransferase</td>\n",
       "    </tr>\n",
       "    <tr>\n",
       "      <th>2</th>\n",
       "      <td>NaN</td>\n",
       "      <td>1811</td>\n",
       "      <td>PC2</td>\n",
       "      <td>PRAI; N-(5&amp;apos;phosphoribosyl) anthranilate i...</td>\n",
       "    </tr>\n",
       "    <tr>\n",
       "      <th>3</th>\n",
       "      <td>NaN</td>\n",
       "      <td>1252</td>\n",
       "      <td>PC3</td>\n",
       "      <td>JmjN; JmjN domain</td>\n",
       "    </tr>\n",
       "    <tr>\n",
       "      <th>4</th>\n",
       "      <td>NaN</td>\n",
       "      <td>749</td>\n",
       "      <td>PC4</td>\n",
       "      <td>Dcc1; Sister chromatid cohesion protein Dcc1</td>\n",
       "    </tr>\n",
       "    <tr>\n",
       "      <th>6</th>\n",
       "      <td>NaN</td>\n",
       "      <td>1425</td>\n",
       "      <td>PC6</td>\n",
       "      <td>Mannosyl_trans; Mannosyltransferase, DXD</td>\n",
       "    </tr>\n",
       "    <tr>\n",
       "      <th>...</th>\n",
       "      <td>...</td>\n",
       "      <td>...</td>\n",
       "      <td>...</td>\n",
       "      <td>...</td>\n",
       "    </tr>\n",
       "    <tr>\n",
       "      <th>285</th>\n",
       "      <td>NaN</td>\n",
       "      <td>1135</td>\n",
       "      <td>PC278</td>\n",
       "      <td>HRI1; Protein Hri1</td>\n",
       "    </tr>\n",
       "    <tr>\n",
       "      <th>287</th>\n",
       "      <td>NaN</td>\n",
       "      <td>1712</td>\n",
       "      <td>PC280</td>\n",
       "      <td>PCRF; Peptide chain release factor</td>\n",
       "    </tr>\n",
       "    <tr>\n",
       "      <th>288</th>\n",
       "      <td>NaN</td>\n",
       "      <td>0</td>\n",
       "      <td>PC281</td>\n",
       "      <td>1-cysPrx_C; Peroxiredoxin, C-terminal</td>\n",
       "    </tr>\n",
       "    <tr>\n",
       "      <th>289</th>\n",
       "      <td>NaN</td>\n",
       "      <td>1097</td>\n",
       "      <td>PC283</td>\n",
       "      <td>HATPase_c_3</td>\n",
       "    </tr>\n",
       "    <tr>\n",
       "      <th>290</th>\n",
       "      <td>NaN</td>\n",
       "      <td>2194</td>\n",
       "      <td>PC284</td>\n",
       "      <td>Ribosomal_L35Ae; Ribosomal protein L35A</td>\n",
       "    </tr>\n",
       "  </tbody>\n",
       "</table>\n",
       "<p>226 rows × 4 columns</p>\n",
       "</div>"
      ],
      "text/plain": [
       "    pca-component_x  domain-number pca-component_y  \\\n",
       "0               NaN           1028             PC0   \n",
       "2               NaN           1811             PC2   \n",
       "3               NaN           1252             PC3   \n",
       "4               NaN            749             PC4   \n",
       "6               NaN           1425             PC6   \n",
       "..              ...            ...             ...   \n",
       "285             NaN           1135           PC278   \n",
       "287             NaN           1712           PC280   \n",
       "288             NaN              0           PC281   \n",
       "289             NaN           1097           PC283   \n",
       "290             NaN           2194           PC284   \n",
       "\n",
       "                                    domain-description  \n",
       "0                  GatB_Yqey; Asn/Gln amidotransferase  \n",
       "2    PRAI; N-(5&apos;phosphoribosyl) anthranilate i...  \n",
       "3                                    JmjN; JmjN domain  \n",
       "4         Dcc1; Sister chromatid cohesion protein Dcc1  \n",
       "6             Mannosyl_trans; Mannosyltransferase, DXD  \n",
       "..                                                 ...  \n",
       "285                                 HRI1; Protein Hri1  \n",
       "287                 PCRF; Peptide chain release factor  \n",
       "288              1-cysPrx_C; Peroxiredoxin, C-terminal  \n",
       "289                                        HATPase_c_3  \n",
       "290            Ribosomal_L35Ae; Ribosomal protein L35A  \n",
       "\n",
       "[226 rows x 4 columns]"
      ]
     },
     "execution_count": 26,
     "metadata": {},
     "output_type": "execute_result"
    }
   ],
   "source": [
    "df_nsl_exclusive=pd.merge(df_sl,df_nsl,how='right',on='domain-number')\n",
    "\n",
    "domains_name=np.unique(data_domains['domain-name'])\n",
    "domains_description=np.unique(data_domains['domain-descrip'])\n",
    "\n",
    "df_nsl_exclusive['domain-description']=domains_description[df_nsl_exclusive['domain-number']]\n",
    "df_nsl_exclusive[pd.isnull(df_nsl_exclusive['pca-component_x'])]"
   ]
  },
  {
   "cell_type": "code",
   "execution_count": 27,
   "metadata": {
    "execution": {
     "iopub.execute_input": "2020-08-14T10:23:01.073932Z",
     "iopub.status.busy": "2020-08-14T10:23:01.073397Z",
     "iopub.status.idle": "2020-08-14T10:23:01.077985Z",
     "shell.execute_reply": "2020-08-14T10:23:01.077488Z"
    }
   },
   "outputs": [
    {
     "name": "stdout",
     "output_type": "stream",
     "text": [
      "The number of exclusive domains from non SL pairs, after PCA, is =  291 out of 562 so the 51.779359430604984 %\n"
     ]
    }
   ],
   "source": [
    "print('The number of exclusive domains from non SL pairs, after PCA, is = ',len(df_nsl_exclusive), 'out of', len(df_sl)+len(df_nsl), 'so the',100*len(df_nsl_exclusive)/(len(df_sl)+len(df_nsl)),'%')"
   ]
  },
  {
   "cell_type": "markdown",
   "metadata": {},
   "source": [
    "## Let see to the domains-number that get repeated after the PCA analysis , and selecting the most explanatory feature by its explained variance."
   ]
  },
  {
   "cell_type": "code",
   "execution_count": 28,
   "metadata": {
    "execution": {
     "iopub.execute_input": "2020-08-14T10:23:01.094261Z",
     "iopub.status.busy": "2020-08-14T10:23:01.093611Z",
     "iopub.status.idle": "2020-08-14T10:23:01.099956Z",
     "shell.execute_reply": "2020-08-14T10:23:01.099449Z"
    }
   },
   "outputs": [],
   "source": [
    "duplicated_features_sl=df_sl[df_sl.iloc[:,1].duplicated()]\n",
    "repeated_features_sl=pd.DataFrame()\n",
    "\n",
    "domains_name=np.unique(data_domains['domain-name'])\n",
    "domains_description=np.unique(data_domains['domain-descrip'])\n",
    "\n",
    "repeated_features_sl['domain-name']=domains_name[duplicated_features_sl.iloc[:,1]] \n",
    "repeated_features_sl['domain-description']=domains_description[duplicated_features_sl.iloc[:,1]]\n",
    "\n",
    "duplicated_features_nsl=df_nsl[df_nsl.iloc[:,1].duplicated()]\n",
    "repeated_features_nsl=pd.DataFrame()\n",
    "\n",
    "repeated_features_nsl['domain-name']=domains_name[duplicated_features_nsl.iloc[:,1]] \n",
    "repeated_features_nsl['domain-description']=domains_description[duplicated_features_nsl.iloc[:,1]]"
   ]
  },
  {
   "cell_type": "code",
   "execution_count": 29,
   "metadata": {
    "execution": {
     "iopub.execute_input": "2020-08-14T10:23:01.109638Z",
     "iopub.status.busy": "2020-08-14T10:23:01.107860Z",
     "iopub.status.idle": "2020-08-14T10:23:01.112913Z",
     "shell.execute_reply": "2020-08-14T10:23:01.113380Z"
    }
   },
   "outputs": [
    {
     "name": "stderr",
     "output_type": "stream",
     "text": [
      "/usr/share/miniconda3/envs/wintest/lib/python3.7/site-packages/ipykernel_launcher.py:3: SettingWithCopyWarning: \n",
      "A value is trying to be set on a copy of a slice from a DataFrame.\n",
      "Try using .loc[row_indexer,col_indexer] = value instead\n",
      "\n",
      "See the caveats in the documentation: https://pandas.pydata.org/pandas-docs/stable/user_guide/indexing.html#returning-a-view-versus-a-copy\n",
      "  This is separate from the ipykernel package so we can avoid doing imports until\n"
     ]
    },
    {
     "data": {
      "text/plain": [
       "((35, 4), (288, 4))"
      ]
     },
     "execution_count": 29,
     "metadata": {},
     "output_type": "execute_result"
    }
   ],
   "source": [
    "only_sl_pd=pd.merge(repeated_features_sl,repeated_features_nsl,how='left',on=['domain-name'])\n",
    "data_only_sl = only_sl_pd[pd.isnull(only_sl_pd['domain-description_y'])]\n",
    "data_only_sl['domain-description']=data_only_sl['domain-description_x']\n",
    "data_only_sl.shape,df_sl_exclusive.shape"
   ]
  },
  {
   "cell_type": "code",
   "execution_count": 30,
   "metadata": {
    "execution": {
     "iopub.execute_input": "2020-08-14T10:23:01.131627Z",
     "iopub.status.busy": "2020-08-14T10:23:01.131101Z",
     "iopub.status.idle": "2020-08-14T10:23:01.133964Z",
     "shell.execute_reply": "2020-08-14T10:23:01.134480Z"
    }
   },
   "outputs": [
    {
     "data": {
      "text/html": [
       "<div>\n",
       "<style scoped>\n",
       "    .dataframe tbody tr th:only-of-type {\n",
       "        vertical-align: middle;\n",
       "    }\n",
       "\n",
       "    .dataframe tbody tr th {\n",
       "        vertical-align: top;\n",
       "    }\n",
       "\n",
       "    .dataframe thead th {\n",
       "        text-align: right;\n",
       "    }\n",
       "</style>\n",
       "<table border=\"1\" class=\"dataframe\">\n",
       "  <thead>\n",
       "    <tr style=\"text-align: right;\">\n",
       "      <th></th>\n",
       "      <th>domain-name</th>\n",
       "      <th>domain-description_x</th>\n",
       "      <th>domain-description_y</th>\n",
       "    </tr>\n",
       "  </thead>\n",
       "  <tbody>\n",
       "    <tr>\n",
       "      <th>0</th>\n",
       "      <td>PF01369</td>\n",
       "      <td>NaN</td>\n",
       "      <td>DNA_gyraseB; DNA topoisomerase, type IIA, subu...</td>\n",
       "    </tr>\n",
       "    <tr>\n",
       "      <th>1</th>\n",
       "      <td>PF01394</td>\n",
       "      <td>NaN</td>\n",
       "      <td>DNA_pol_A; DNA-directed DNA polymerase, family...</td>\n",
       "    </tr>\n",
       "    <tr>\n",
       "      <th>2</th>\n",
       "      <td>PF02148</td>\n",
       "      <td>NaN</td>\n",
       "      <td>ETF_QO</td>\n",
       "    </tr>\n",
       "    <tr>\n",
       "      <th>3</th>\n",
       "      <td>PF02037</td>\n",
       "      <td>NaN</td>\n",
       "      <td>ELFV_dehydrog; Glutamate/phenylalanine/leucine...</td>\n",
       "    </tr>\n",
       "    <tr>\n",
       "      <th>4</th>\n",
       "      <td>PF06733</td>\n",
       "      <td>NaN</td>\n",
       "      <td>Ost5; Oligosaccharyltransferase complex subunit</td>\n",
       "    </tr>\n",
       "    <tr>\n",
       "      <th>5</th>\n",
       "      <td>PF02765</td>\n",
       "      <td>NaN</td>\n",
       "      <td>Fun_ATP-synt_8; ATP synthase protein 8, fungi</td>\n",
       "    </tr>\n",
       "    <tr>\n",
       "      <th>6</th>\n",
       "      <td>PF12726</td>\n",
       "      <td>NaN</td>\n",
       "      <td>Steroid_dh; 3-oxo-5-alpha-steroid 4-dehydrogen...</td>\n",
       "    </tr>\n",
       "    <tr>\n",
       "      <th>7</th>\n",
       "      <td>PF00183</td>\n",
       "      <td>NaN</td>\n",
       "      <td>ANAPC5; Anaphase-promoting complex subunit 5</td>\n",
       "    </tr>\n",
       "    <tr>\n",
       "      <th>8</th>\n",
       "      <td>PF08240</td>\n",
       "      <td>NaN</td>\n",
       "      <td>Patched; Protein patched/dispatched</td>\n",
       "    </tr>\n",
       "    <tr>\n",
       "      <th>9</th>\n",
       "      <td>PF02450</td>\n",
       "      <td>NaN</td>\n",
       "      <td>FMN_red; NADPH-dependent FMN reductase-like</td>\n",
       "    </tr>\n",
       "    <tr>\n",
       "      <th>10</th>\n",
       "      <td>PF00717</td>\n",
       "      <td>NaN</td>\n",
       "      <td>CHS5_N; Chitin biosynthesis protein Chs5, N-te...</td>\n",
       "    </tr>\n",
       "    <tr>\n",
       "      <th>11</th>\n",
       "      <td>PF12550</td>\n",
       "      <td>NaN</td>\n",
       "      <td>Sortilin-Vps10; Sortilin, N-terminal</td>\n",
       "    </tr>\n",
       "    <tr>\n",
       "      <th>12</th>\n",
       "      <td>PF04857</td>\n",
       "      <td>NaN</td>\n",
       "      <td>Med16; Mediator complex, subunit Med16</td>\n",
       "    </tr>\n",
       "    <tr>\n",
       "      <th>13</th>\n",
       "      <td>PF16891</td>\n",
       "      <td>NaN</td>\n",
       "      <td>tRNA-synt_1c; Glutamyl/glutaminyl-tRNA synthet...</td>\n",
       "    </tr>\n",
       "    <tr>\n",
       "      <th>14</th>\n",
       "      <td>PF04821</td>\n",
       "      <td>NaN</td>\n",
       "      <td>Mcl1_mid; Minichromosome loss protein Mcl1, mi...</td>\n",
       "    </tr>\n",
       "    <tr>\n",
       "      <th>15</th>\n",
       "      <td>PF04116</td>\n",
       "      <td>NaN</td>\n",
       "      <td>LCAT; Lecithin:cholesterol/phospholipid:diacyl...</td>\n",
       "    </tr>\n",
       "    <tr>\n",
       "      <th>16</th>\n",
       "      <td>PF04051</td>\n",
       "      <td>NaN</td>\n",
       "      <td>JAB; JAB1/MPN/MOV34 metalloenzyme domain</td>\n",
       "    </tr>\n",
       "    <tr>\n",
       "      <th>17</th>\n",
       "      <td>PF13041</td>\n",
       "      <td>NaN</td>\n",
       "      <td>THF_DHG_CYH_C; Tetrahydrofolate dehydrogenase/...</td>\n",
       "    </tr>\n",
       "    <tr>\n",
       "      <th>18</th>\n",
       "      <td>PF08542</td>\n",
       "      <td>NaN</td>\n",
       "      <td>Prenyltrans; PFTB repeat</td>\n",
       "    </tr>\n",
       "    <tr>\n",
       "      <th>19</th>\n",
       "      <td>PF00250</td>\n",
       "      <td>NaN</td>\n",
       "      <td>ATP-synt_A; ATP synthase, F0 complex, subunit A</td>\n",
       "    </tr>\n",
       "    <tr>\n",
       "      <th>20</th>\n",
       "      <td>PF03908</td>\n",
       "      <td>NaN</td>\n",
       "      <td>IBB; Importin-alpha, importin-beta-binding domain</td>\n",
       "    </tr>\n",
       "    <tr>\n",
       "      <th>21</th>\n",
       "      <td>PF00235</td>\n",
       "      <td>NaN</td>\n",
       "      <td>ATG27; Autophagy-related protein 27</td>\n",
       "    </tr>\n",
       "    <tr>\n",
       "      <th>22</th>\n",
       "      <td>PF00867</td>\n",
       "      <td>NaN</td>\n",
       "      <td>CRAL_TRIO_N; CRAL/TRIO, N-terminal domain</td>\n",
       "    </tr>\n",
       "    <tr>\n",
       "      <th>23</th>\n",
       "      <td>PF12409</td>\n",
       "      <td>NaN</td>\n",
       "      <td>Slx4; Structure-specific endonuclease subunit ...</td>\n",
       "    </tr>\n",
       "    <tr>\n",
       "      <th>24</th>\n",
       "      <td>PF00676</td>\n",
       "      <td>NaN</td>\n",
       "      <td>CDC48_N; CDC48, N-terminal subdomain</td>\n",
       "    </tr>\n",
       "    <tr>\n",
       "      <th>25</th>\n",
       "      <td>PF00676</td>\n",
       "      <td>NaN</td>\n",
       "      <td>CDC48_N; CDC48, N-terminal subdomain</td>\n",
       "    </tr>\n",
       "    <tr>\n",
       "      <th>26</th>\n",
       "      <td>PF08737</td>\n",
       "      <td>NaN</td>\n",
       "      <td>RNase_P_pop3; RNase P, subunit Pop3</td>\n",
       "    </tr>\n",
       "    <tr>\n",
       "      <th>27</th>\n",
       "      <td>PF01221</td>\n",
       "      <td>NaN</td>\n",
       "      <td>DASH_Dad1; DASH complex subunit Dad1</td>\n",
       "    </tr>\n",
       "    <tr>\n",
       "      <th>28</th>\n",
       "      <td>PF01221</td>\n",
       "      <td>NaN</td>\n",
       "      <td>DASH_Dad1; DASH complex subunit Dad1</td>\n",
       "    </tr>\n",
       "    <tr>\n",
       "      <th>29</th>\n",
       "      <td>PF12756</td>\n",
       "      <td>NaN</td>\n",
       "      <td>Succ_DH_flav_C; Fumarate reductase/succinate d...</td>\n",
       "    </tr>\n",
       "    <tr>\n",
       "      <th>30</th>\n",
       "      <td>PF12756</td>\n",
       "      <td>NaN</td>\n",
       "      <td>Succ_DH_flav_C; Fumarate reductase/succinate d...</td>\n",
       "    </tr>\n",
       "    <tr>\n",
       "      <th>31</th>\n",
       "      <td>PF00332</td>\n",
       "      <td>NaN</td>\n",
       "      <td>Ad_cyc_g-alpha; Adenylate cyclase G-alpha binding</td>\n",
       "    </tr>\n",
       "    <tr>\n",
       "      <th>32</th>\n",
       "      <td>PF01592</td>\n",
       "      <td>NaN</td>\n",
       "      <td>DUF2418; Protein of unknown function DUF2418</td>\n",
       "    </tr>\n",
       "    <tr>\n",
       "      <th>33</th>\n",
       "      <td>PF01592</td>\n",
       "      <td>NaN</td>\n",
       "      <td>DUF2418; Protein of unknown function DUF2418</td>\n",
       "    </tr>\n",
       "    <tr>\n",
       "      <th>34</th>\n",
       "      <td>PF14876</td>\n",
       "      <td>NaN</td>\n",
       "      <td>VPS53_C; Vacuolar protein sorting-associated p...</td>\n",
       "    </tr>\n",
       "    <tr>\n",
       "      <th>35</th>\n",
       "      <td>PF00171</td>\n",
       "      <td>NaN</td>\n",
       "      <td>AMPK1_CBM; AMP-activated protein kinase, glyco...</td>\n",
       "    </tr>\n",
       "    <tr>\n",
       "      <th>36</th>\n",
       "      <td>PF00268</td>\n",
       "      <td>NaN</td>\n",
       "      <td>ATP-synt_ab; ATPase, F1/V1/A1 complex, alpha/b...</td>\n",
       "    </tr>\n",
       "    <tr>\n",
       "      <th>37</th>\n",
       "      <td>PF02970</td>\n",
       "      <td>NaN</td>\n",
       "      <td>G_glu_transpept; Gamma-glutamyltranspeptidase</td>\n",
       "    </tr>\n",
       "    <tr>\n",
       "      <th>38</th>\n",
       "      <td>PF01008</td>\n",
       "      <td>NaN</td>\n",
       "      <td>Cellulase; Glycoside hydrolase, family 5</td>\n",
       "    </tr>\n",
       "    <tr>\n",
       "      <th>39</th>\n",
       "      <td>PF16965</td>\n",
       "      <td>NaN</td>\n",
       "      <td>tRNA_int_end_N2; tRNA-splicing endonuclease, s...</td>\n",
       "    </tr>\n",
       "    <tr>\n",
       "      <th>40</th>\n",
       "      <td>PF05160</td>\n",
       "      <td>NaN</td>\n",
       "      <td>MmgE_PrpD; MmgE/PrpD</td>\n",
       "    </tr>\n",
       "    <tr>\n",
       "      <th>42</th>\n",
       "      <td>PF01417</td>\n",
       "      <td>NaN</td>\n",
       "      <td>DNA_primase_S; DNA primase, small subunit</td>\n",
       "    </tr>\n",
       "    <tr>\n",
       "      <th>43</th>\n",
       "      <td>PF01417</td>\n",
       "      <td>NaN</td>\n",
       "      <td>DNA_primase_S; DNA primase, small subunit</td>\n",
       "    </tr>\n",
       "    <tr>\n",
       "      <th>44</th>\n",
       "      <td>PF00550</td>\n",
       "      <td>NaN</td>\n",
       "      <td>BCIP; BCP1 family</td>\n",
       "    </tr>\n",
       "    <tr>\n",
       "      <th>45</th>\n",
       "      <td>PF01176</td>\n",
       "      <td>NaN</td>\n",
       "      <td>Cut8; Tethering factor for nuclear proteasome ...</td>\n",
       "    </tr>\n",
       "    <tr>\n",
       "      <th>46</th>\n",
       "      <td>PF04124</td>\n",
       "      <td>NaN</td>\n",
       "      <td>LIM; Zinc finger, LIM-type</td>\n",
       "    </tr>\n",
       "    <tr>\n",
       "      <th>47</th>\n",
       "      <td>PF01426</td>\n",
       "      <td>NaN</td>\n",
       "      <td>DRE2_N; Fe-S cluster assembly protein Dre2, N-...</td>\n",
       "    </tr>\n",
       "    <tr>\n",
       "      <th>48</th>\n",
       "      <td>PF02136</td>\n",
       "      <td>NaN</td>\n",
       "      <td>ERO1; Endoplasmic reticulum oxidoreductin 1</td>\n",
       "    </tr>\n",
       "  </tbody>\n",
       "</table>\n",
       "</div>"
      ],
      "text/plain": [
       "   domain-name domain-description_x  \\\n",
       "0      PF01369                  NaN   \n",
       "1      PF01394                  NaN   \n",
       "2      PF02148                  NaN   \n",
       "3      PF02037                  NaN   \n",
       "4      PF06733                  NaN   \n",
       "5      PF02765                  NaN   \n",
       "6      PF12726                  NaN   \n",
       "7      PF00183                  NaN   \n",
       "8      PF08240                  NaN   \n",
       "9      PF02450                  NaN   \n",
       "10     PF00717                  NaN   \n",
       "11     PF12550                  NaN   \n",
       "12     PF04857                  NaN   \n",
       "13     PF16891                  NaN   \n",
       "14     PF04821                  NaN   \n",
       "15     PF04116                  NaN   \n",
       "16     PF04051                  NaN   \n",
       "17     PF13041                  NaN   \n",
       "18     PF08542                  NaN   \n",
       "19     PF00250                  NaN   \n",
       "20     PF03908                  NaN   \n",
       "21     PF00235                  NaN   \n",
       "22     PF00867                  NaN   \n",
       "23     PF12409                  NaN   \n",
       "24     PF00676                  NaN   \n",
       "25     PF00676                  NaN   \n",
       "26     PF08737                  NaN   \n",
       "27     PF01221                  NaN   \n",
       "28     PF01221                  NaN   \n",
       "29     PF12756                  NaN   \n",
       "30     PF12756                  NaN   \n",
       "31     PF00332                  NaN   \n",
       "32     PF01592                  NaN   \n",
       "33     PF01592                  NaN   \n",
       "34     PF14876                  NaN   \n",
       "35     PF00171                  NaN   \n",
       "36     PF00268                  NaN   \n",
       "37     PF02970                  NaN   \n",
       "38     PF01008                  NaN   \n",
       "39     PF16965                  NaN   \n",
       "40     PF05160                  NaN   \n",
       "42     PF01417                  NaN   \n",
       "43     PF01417                  NaN   \n",
       "44     PF00550                  NaN   \n",
       "45     PF01176                  NaN   \n",
       "46     PF04124                  NaN   \n",
       "47     PF01426                  NaN   \n",
       "48     PF02136                  NaN   \n",
       "\n",
       "                                 domain-description_y  \n",
       "0   DNA_gyraseB; DNA topoisomerase, type IIA, subu...  \n",
       "1   DNA_pol_A; DNA-directed DNA polymerase, family...  \n",
       "2                                              ETF_QO  \n",
       "3   ELFV_dehydrog; Glutamate/phenylalanine/leucine...  \n",
       "4     Ost5; Oligosaccharyltransferase complex subunit  \n",
       "5       Fun_ATP-synt_8; ATP synthase protein 8, fungi  \n",
       "6   Steroid_dh; 3-oxo-5-alpha-steroid 4-dehydrogen...  \n",
       "7        ANAPC5; Anaphase-promoting complex subunit 5  \n",
       "8                 Patched; Protein patched/dispatched  \n",
       "9         FMN_red; NADPH-dependent FMN reductase-like  \n",
       "10  CHS5_N; Chitin biosynthesis protein Chs5, N-te...  \n",
       "11               Sortilin-Vps10; Sortilin, N-terminal  \n",
       "12             Med16; Mediator complex, subunit Med16  \n",
       "13  tRNA-synt_1c; Glutamyl/glutaminyl-tRNA synthet...  \n",
       "14  Mcl1_mid; Minichromosome loss protein Mcl1, mi...  \n",
       "15  LCAT; Lecithin:cholesterol/phospholipid:diacyl...  \n",
       "16           JAB; JAB1/MPN/MOV34 metalloenzyme domain  \n",
       "17  THF_DHG_CYH_C; Tetrahydrofolate dehydrogenase/...  \n",
       "18                           Prenyltrans; PFTB repeat  \n",
       "19    ATP-synt_A; ATP synthase, F0 complex, subunit A  \n",
       "20  IBB; Importin-alpha, importin-beta-binding domain  \n",
       "21                ATG27; Autophagy-related protein 27  \n",
       "22          CRAL_TRIO_N; CRAL/TRIO, N-terminal domain  \n",
       "23  Slx4; Structure-specific endonuclease subunit ...  \n",
       "24               CDC48_N; CDC48, N-terminal subdomain  \n",
       "25               CDC48_N; CDC48, N-terminal subdomain  \n",
       "26                RNase_P_pop3; RNase P, subunit Pop3  \n",
       "27               DASH_Dad1; DASH complex subunit Dad1  \n",
       "28               DASH_Dad1; DASH complex subunit Dad1  \n",
       "29  Succ_DH_flav_C; Fumarate reductase/succinate d...  \n",
       "30  Succ_DH_flav_C; Fumarate reductase/succinate d...  \n",
       "31  Ad_cyc_g-alpha; Adenylate cyclase G-alpha binding  \n",
       "32       DUF2418; Protein of unknown function DUF2418  \n",
       "33       DUF2418; Protein of unknown function DUF2418  \n",
       "34  VPS53_C; Vacuolar protein sorting-associated p...  \n",
       "35  AMPK1_CBM; AMP-activated protein kinase, glyco...  \n",
       "36  ATP-synt_ab; ATPase, F1/V1/A1 complex, alpha/b...  \n",
       "37      G_glu_transpept; Gamma-glutamyltranspeptidase  \n",
       "38           Cellulase; Glycoside hydrolase, family 5  \n",
       "39  tRNA_int_end_N2; tRNA-splicing endonuclease, s...  \n",
       "40                               MmgE_PrpD; MmgE/PrpD  \n",
       "42          DNA_primase_S; DNA primase, small subunit  \n",
       "43          DNA_primase_S; DNA primase, small subunit  \n",
       "44                                  BCIP; BCP1 family  \n",
       "45  Cut8; Tethering factor for nuclear proteasome ...  \n",
       "46                         LIM; Zinc finger, LIM-type  \n",
       "47  DRE2_N; Fe-S cluster assembly protein Dre2, N-...  \n",
       "48        ERO1; Endoplasmic reticulum oxidoreductin 1  "
      ]
     },
     "execution_count": 30,
     "metadata": {},
     "output_type": "execute_result"
    }
   ],
   "source": [
    "only_nsl_pd=pd.merge(repeated_features_sl,repeated_features_nsl,how='right',on=['domain-name'])\n",
    "data_only_nsl = only_nsl_pd[pd.isnull(only_nsl_pd['domain-description_x'])]\n",
    "data_only_nsl"
   ]
  },
  {
   "cell_type": "code",
   "execution_count": 31,
   "metadata": {
    "execution": {
     "iopub.execute_input": "2020-08-14T10:23:01.146405Z",
     "iopub.status.busy": "2020-08-14T10:23:01.145815Z",
     "iopub.status.idle": "2020-08-14T10:23:01.148616Z",
     "shell.execute_reply": "2020-08-14T10:23:01.149103Z"
    }
   },
   "outputs": [
    {
     "data": {
      "text/html": [
       "<div>\n",
       "<style scoped>\n",
       "    .dataframe tbody tr th:only-of-type {\n",
       "        vertical-align: middle;\n",
       "    }\n",
       "\n",
       "    .dataframe tbody tr th {\n",
       "        vertical-align: top;\n",
       "    }\n",
       "\n",
       "    .dataframe thead th {\n",
       "        text-align: right;\n",
       "    }\n",
       "</style>\n",
       "<table border=\"1\" class=\"dataframe\">\n",
       "  <thead>\n",
       "    <tr style=\"text-align: right;\">\n",
       "      <th></th>\n",
       "      <th>domain-name</th>\n",
       "      <th>domain-description_x</th>\n",
       "      <th>domain-description_y</th>\n",
       "    </tr>\n",
       "  </thead>\n",
       "  <tbody>\n",
       "    <tr>\n",
       "      <th>0</th>\n",
       "      <td>PF08613</td>\n",
       "      <td>RFX_DNA_binding; DNA-binding RFX-type winged-h...</td>\n",
       "      <td>RFX_DNA_binding; DNA-binding RFX-type winged-h...</td>\n",
       "    </tr>\n",
       "  </tbody>\n",
       "</table>\n",
       "</div>"
      ],
      "text/plain": [
       "  domain-name                               domain-description_x  \\\n",
       "0     PF08613  RFX_DNA_binding; DNA-binding RFX-type winged-h...   \n",
       "\n",
       "                                domain-description_y  \n",
       "0  RFX_DNA_binding; DNA-binding RFX-type winged-h...  "
      ]
     },
     "execution_count": 31,
     "metadata": {},
     "output_type": "execute_result"
    }
   ],
   "source": [
    "shared_domains_pd=pd.merge(repeated_features_sl,repeated_features_nsl,how='inner',on=['domain-name'])\n",
    "shared_domains_pd\n"
   ]
  },
  {
   "cell_type": "code",
   "execution_count": 32,
   "metadata": {
    "execution": {
     "iopub.execute_input": "2020-08-14T10:23:01.160446Z",
     "iopub.status.busy": "2020-08-14T10:23:01.153004Z",
     "iopub.status.idle": "2020-08-14T10:23:02.798446Z",
     "shell.execute_reply": "2020-08-14T10:23:02.797519Z"
    }
   },
   "outputs": [
    {
     "data": {
      "text/plain": [
       "(0.0, 0.2)"
      ]
     },
     "execution_count": 32,
     "metadata": {},
     "output_type": "execute_result"
    },
    {
     "data": {
      "image/png": "[encoded data removed]",
      "text/plain": [
       "<Figure size 432x288 with 1 Axes>"
      ]
     },
     "metadata": {
      "filenames": {
       "image/png": "/home/runner/work/jupyter-book/jupyter-book/mini_book/docs/_build/jupyter_execute/prot_domains2lethality-FEATURES-POSTPROCESSING_47_1.png"
      },
      "needs_background": "light"
     },
     "output_type": "display_data"
    }
   ],
   "source": [
    "a_sl=x_sl.iloc[:,np.sort(df_sl.iloc[:,1])]\n",
    "a_sl.describe().loc['mean'].hist(bins=8),\n",
    "a_sl.describe().loc['std'].hist(bins=8,alpha=0.4)\n",
    "plt.xlim([0,0.2])"
   ]
  },
  {
   "cell_type": "code",
   "execution_count": 33,
   "metadata": {
    "execution": {
     "iopub.execute_input": "2020-08-14T10:23:02.817602Z",
     "iopub.status.busy": "2020-08-14T10:23:02.809403Z",
     "iopub.status.idle": "2020-08-14T10:23:04.484279Z",
     "shell.execute_reply": "2020-08-14T10:23:04.483769Z"
    }
   },
   "outputs": [
    {
     "data": {
      "text/plain": [
       "(0.0, 0.2)"
      ]
     },
     "execution_count": 33,
     "metadata": {},
     "output_type": "execute_result"
    },
    {
     "data": {
      "image/png": "[encoded data removed]",
      "text/plain": [
       "<Figure size 432x288 with 1 Axes>"
      ]
     },
     "metadata": {
      "filenames": {
       "image/png": "/home/runner/work/jupyter-book/jupyter-book/mini_book/docs/_build/jupyter_execute/prot_domains2lethality-FEATURES-POSTPROCESSING_48_1.png"
      },
      "needs_background": "light"
     },
     "output_type": "display_data"
    }
   ],
   "source": [
    "a_nsl=x_nsl.iloc[:,np.sort(df_nsl.iloc[:,1])]\n",
    "a_nsl.describe().loc['mean'].hist(bins=8),\n",
    "a_nsl.describe().loc['std'].hist(bins=8,alpha=0.4)\n",
    "plt.xlim([0,0.2])"
   ]
  },
  {
   "cell_type": "markdown",
   "metadata": {},
   "source": [
    "### Proof of concept with *BEM1*\n",
    "\n",
    "- Gather the domains of SL and nSL pairs from BEM1\n",
    "- Check if the domains for the SL and nSL pairs are inside the most important domains after PCA."
   ]
  },
  {
   "cell_type": "code",
   "execution_count": 34,
   "metadata": {
    "execution": {
     "iopub.execute_input": "2020-08-14T10:23:04.490637Z",
     "iopub.status.busy": "2020-08-14T10:23:04.489956Z",
     "iopub.status.idle": "2020-08-14T10:23:04.496689Z",
     "shell.execute_reply": "2020-08-14T10:23:04.495825Z"
    }
   },
   "outputs": [],
   "source": [
    "domains_bem1=data_domains[data_domains['name']=='BEM1']['domain-descrip']\n",
    "sl_bem1=data_sl[data_sl['gene-query-name']=='BEM1']['gene-target-name']"
   ]
  },
  {
   "cell_type": "code",
   "execution_count": 35,
   "metadata": {
    "execution": {
     "iopub.execute_input": "2020-08-14T10:23:04.501728Z",
     "iopub.status.busy": "2020-08-14T10:23:04.501063Z",
     "iopub.status.idle": "2020-08-14T10:23:04.506980Z",
     "shell.execute_reply": "2020-08-14T10:23:04.507432Z"
    }
   },
   "outputs": [
    {
     "data": {
      "text/plain": [
       "2846      BEM2\n",
       "2847     CDC24\n",
       "5004      MSB1\n",
       "13777     SMI1\n",
       "13778     BNI1\n",
       "13779     BEM2\n",
       "14385     SKN7\n",
       "Name: gene-target-name, dtype: object"
      ]
     },
     "execution_count": 35,
     "metadata": {},
     "output_type": "execute_result"
    }
   ],
   "source": [
    "sl_bem1"
   ]
  },
  {
   "cell_type": "code",
   "execution_count": 36,
   "metadata": {
    "execution": {
     "iopub.execute_input": "2020-08-14T10:23:04.522131Z",
     "iopub.status.busy": "2020-08-14T10:23:04.521554Z",
     "iopub.status.idle": "2020-08-14T10:23:04.527351Z",
     "shell.execute_reply": "2020-08-14T10:23:04.526854Z"
    }
   },
   "outputs": [
    {
     "data": {
      "text/html": [
       "<div>\n",
       "<style scoped>\n",
       "    .dataframe tbody tr th:only-of-type {\n",
       "        vertical-align: middle;\n",
       "    }\n",
       "\n",
       "    .dataframe tbody tr th {\n",
       "        vertical-align: top;\n",
       "    }\n",
       "\n",
       "    .dataframe thead th {\n",
       "        text-align: right;\n",
       "    }\n",
       "</style>\n",
       "<table border=\"1\" class=\"dataframe\">\n",
       "  <thead>\n",
       "    <tr style=\"text-align: right;\">\n",
       "      <th></th>\n",
       "      <th>gene-query</th>\n",
       "      <th>gene-target</th>\n",
       "      <th>gene-query-name</th>\n",
       "      <th>gene-target-name</th>\n",
       "      <th>gene-query-description</th>\n",
       "      <th>gene-target-description</th>\n",
       "      <th>interaction-type</th>\n",
       "      <th>paper-source</th>\n",
       "    </tr>\n",
       "  </thead>\n",
       "  <tbody>\n",
       "    <tr>\n",
       "      <th>2846</th>\n",
       "      <td>YBR200W</td>\n",
       "      <td>YER155C</td>\n",
       "      <td>BEM1</td>\n",
       "      <td>BEM2</td>\n",
       "      <td>SRO1|phosphatidylinositol-3-phosphate-binding ...</td>\n",
       "      <td>IPL2|SUP9|TSL1|L000000168</td>\n",
       "      <td>Synthetic Lethality</td>\n",
       "      <td>Peterson J (1994)</td>\n",
       "    </tr>\n",
       "    <tr>\n",
       "      <th>2847</th>\n",
       "      <td>YBR200W</td>\n",
       "      <td>YAL041W</td>\n",
       "      <td>BEM1</td>\n",
       "      <td>CDC24</td>\n",
       "      <td>SRO1|phosphatidylinositol-3-phosphate-binding ...</td>\n",
       "      <td>CLS4|Rho family guanine nucleotide exchange fa...</td>\n",
       "      <td>Synthetic Lethality</td>\n",
       "      <td>Peterson J (1994)</td>\n",
       "    </tr>\n",
       "    <tr>\n",
       "      <th>5004</th>\n",
       "      <td>YBR200W</td>\n",
       "      <td>YOR188W</td>\n",
       "      <td>BEM1</td>\n",
       "      <td>MSB1</td>\n",
       "      <td>SRO1|phosphatidylinositol-3-phosphate-binding ...</td>\n",
       "      <td>L000001184</td>\n",
       "      <td>Synthetic Lethality</td>\n",
       "      <td>Bender A (1991)</td>\n",
       "    </tr>\n",
       "    <tr>\n",
       "      <th>13777</th>\n",
       "      <td>YBR200W</td>\n",
       "      <td>YGR229C</td>\n",
       "      <td>BEM1</td>\n",
       "      <td>SMI1</td>\n",
       "      <td>SRO1|phosphatidylinositol-3-phosphate-binding ...</td>\n",
       "      <td>KNR4|L000000909</td>\n",
       "      <td>Synthetic Lethality</td>\n",
       "      <td>Gorelik M (2011)</td>\n",
       "    </tr>\n",
       "    <tr>\n",
       "      <th>13778</th>\n",
       "      <td>YBR200W</td>\n",
       "      <td>YNL271C</td>\n",
       "      <td>BEM1</td>\n",
       "      <td>BNI1</td>\n",
       "      <td>SRO1|phosphatidylinositol-3-phosphate-binding ...</td>\n",
       "      <td>PPF3|SHE5|formin BNI1|L000000190</td>\n",
       "      <td>Synthetic Lethality</td>\n",
       "      <td>Gorelik M (2011)</td>\n",
       "    </tr>\n",
       "    <tr>\n",
       "      <th>13779</th>\n",
       "      <td>YBR200W</td>\n",
       "      <td>YER155C</td>\n",
       "      <td>BEM1</td>\n",
       "      <td>BEM2</td>\n",
       "      <td>SRO1|phosphatidylinositol-3-phosphate-binding ...</td>\n",
       "      <td>IPL2|SUP9|TSL1|L000000168</td>\n",
       "      <td>Synthetic Lethality</td>\n",
       "      <td>Gorelik M (2011)</td>\n",
       "    </tr>\n",
       "    <tr>\n",
       "      <th>14385</th>\n",
       "      <td>YBR200W</td>\n",
       "      <td>YHR206W</td>\n",
       "      <td>BEM1</td>\n",
       "      <td>SKN7</td>\n",
       "      <td>SRO1|phosphatidylinositol-3-phosphate-binding ...</td>\n",
       "      <td>BRY1|POS9|kinase-regulated stress-responsive t...</td>\n",
       "      <td>Dosage Lethality</td>\n",
       "      <td>Bouquin N (1999)</td>\n",
       "    </tr>\n",
       "  </tbody>\n",
       "</table>\n",
       "</div>"
      ],
      "text/plain": [
       "      gene-query gene-target gene-query-name gene-target-name  \\\n",
       "2846     YBR200W     YER155C            BEM1             BEM2   \n",
       "2847     YBR200W     YAL041W            BEM1            CDC24   \n",
       "5004     YBR200W     YOR188W            BEM1             MSB1   \n",
       "13777    YBR200W     YGR229C            BEM1             SMI1   \n",
       "13778    YBR200W     YNL271C            BEM1             BNI1   \n",
       "13779    YBR200W     YER155C            BEM1             BEM2   \n",
       "14385    YBR200W     YHR206W            BEM1             SKN7   \n",
       "\n",
       "                                  gene-query-description  \\\n",
       "2846   SRO1|phosphatidylinositol-3-phosphate-binding ...   \n",
       "2847   SRO1|phosphatidylinositol-3-phosphate-binding ...   \n",
       "5004   SRO1|phosphatidylinositol-3-phosphate-binding ...   \n",
       "13777  SRO1|phosphatidylinositol-3-phosphate-binding ...   \n",
       "13778  SRO1|phosphatidylinositol-3-phosphate-binding ...   \n",
       "13779  SRO1|phosphatidylinositol-3-phosphate-binding ...   \n",
       "14385  SRO1|phosphatidylinositol-3-phosphate-binding ...   \n",
       "\n",
       "                                 gene-target-description     interaction-type  \\\n",
       "2846                           IPL2|SUP9|TSL1|L000000168  Synthetic Lethality   \n",
       "2847   CLS4|Rho family guanine nucleotide exchange fa...  Synthetic Lethality   \n",
       "5004                                          L000001184  Synthetic Lethality   \n",
       "13777                                    KNR4|L000000909  Synthetic Lethality   \n",
       "13778                   PPF3|SHE5|formin BNI1|L000000190  Synthetic Lethality   \n",
       "13779                          IPL2|SUP9|TSL1|L000000168  Synthetic Lethality   \n",
       "14385  BRY1|POS9|kinase-regulated stress-responsive t...     Dosage Lethality   \n",
       "\n",
       "            paper-source  \n",
       "2846   Peterson J (1994)  \n",
       "2847   Peterson J (1994)  \n",
       "5004     Bender A (1991)  \n",
       "13777   Gorelik M (2011)  \n",
       "13778   Gorelik M (2011)  \n",
       "13779   Gorelik M (2011)  \n",
       "14385   Bouquin N (1999)  "
      ]
     },
     "execution_count": 36,
     "metadata": {},
     "output_type": "execute_result"
    }
   ],
   "source": [
    "data_sl[data_sl['gene-query-name']=='BEM1']"
   ]
  },
  {
   "cell_type": "code",
   "execution_count": null,
   "metadata": {},
   "outputs": [],
   "source": []
  }
 ],
 "metadata": {
  "jupytext": {
   "text_representation": {
    "extension": ".md",
    "format_name": "myst"
   }
  },
  "kernelspec": {
   "display_name": "Python 3",
   "language": "python",
   "name": "python3"
  },
  "language_info": {
   "codemirror_mode": {
    "name": "ipython",
    "version": 3
   },
   "file_extension": ".py",
   "mimetype": "text/x-python",
   "name": "python",
   "nbconvert_exporter": "python",
   "pygments_lexer": "ipython3",
   "version": "3.7.8"
  },
  "source_map": [
   10,
   18,
   29,
   36,
   57,
   66,
   98,
   101,
   105,
   128,
   131,
   135,
   139,
   145,
   178,
   184,
   188,
   206,
   210,
   218,
   222,
   225,
   229,
   234,
   238,
   244,
   248,
   253,
   257,
   267,
   269,
   273,
   306,
   311,
   313,
   317,
   328,
   330,
   334,
   344,
   348,
   358,
   360,
   364,
   381,
   388,
   394,
   400,
   407,
   412,
   419,
   424,
   428,
   432
  ]
 },
 "nbformat": 4,
 "nbformat_minor": 4
}