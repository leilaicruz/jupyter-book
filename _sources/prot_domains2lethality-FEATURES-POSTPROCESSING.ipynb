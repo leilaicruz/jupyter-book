{
 "cells": [
  {
   "cell_type": "markdown",
   "metadata": {},
   "source": [
    "# Feature postprocessing from paper.\n",
    "- Title:  \"Predicting yeast synthetic lethal genetic interactions using protein domains\"\n",
    "- Authors: Bo Li, Feng Luo,School of Computing,Clemson University,Clemson, SC, USA\n",
    "- e-mail: bol, luofeng@clemson.edu\n",
    "- year:2009"
   ]
  },
  {
   "cell_type": "code",
   "execution_count": 1,
   "metadata": {
    "execution": {
     "iopub.execute_input": "2020-07-15T00:21:35.390611Z",
     "iopub.status.busy": "2020-07-15T00:21:35.390073Z",
     "iopub.status.idle": "2020-07-15T00:21:36.013365Z",
     "shell.execute_reply": "2020-07-15T00:21:36.012867Z"
    }
   },
   "outputs": [],
   "source": [
    "import pandas as pd\n",
    "import numpy as np\n",
    "import matplotlib.pyplot as plt\n",
    "from collections import defaultdict \n",
    "import seaborn as sns\n",
    "import matplotlib.cm as cm\n",
    "import scipy as scipy\n",
    "import random"
   ]
  },
  {
   "cell_type": "markdown",
   "metadata": {
    "jupyter": {
     "source_hidden": true
    }
   },
   "source": [
    "### Importing datasets \n",
    "\n",
    "#### Link to the github repo where the datasets to be downloaded:\n",
    "[DOWNLOAD THE DATASETS HERE](https://github.com/leilaicruz/machine-learning-for-yeast/tree/dev_Leila/datasets-for-learning)"
   ]
  },
  {
   "cell_type": "code",
   "execution_count": 2,
   "metadata": {
    "execution": {
     "iopub.execute_input": "2020-07-15T00:21:36.019569Z",
     "iopub.status.busy": "2020-07-15T00:21:36.018664Z",
     "iopub.status.idle": "2020-07-15T00:21:42.331290Z",
     "shell.execute_reply": "2020-07-15T00:21:42.330819Z"
    }
   },
   "outputs": [],
   "source": [
    "import os\n",
    "script_dir = os.path.dirname('__file__') #<-- absolute dir the script is in\n",
    "rel_path_SL = \"datasets/data-synthetic-lethals.xlsx\"\n",
    "rel_path_nSL=\"datasets/data-positive-genetic.xlsx\"\n",
    "rel_path_domains=\"datasets/proteins-domains-from-Pfam.xlsx\"\n",
    "\n",
    "abs_file_path_SL = os.path.join(script_dir, rel_path_SL)\n",
    "abs_file_path_nSL = os.path.join(script_dir, rel_path_nSL)\n",
    "abs_file_path_domains = os.path.join(script_dir, rel_path_domains)\n",
    "\n",
    "# os.chdir('mini_book/docs/') #<-- for binder os.chdir('../')\n",
    "# os.chdir('../')\n",
    "my_path_sl= abs_file_path_SL\n",
    "my_path_non_sl=abs_file_path_nSL\n",
    "my_path_domains=abs_file_path_domains\n",
    "\n",
    "data_sl=pd.read_excel(my_path_sl,header=0)\n",
    "data_domains=pd.read_excel(my_path_domains,header=0,index_col='Unnamed: 0')\n",
    "data_domains=data_domains.dropna()\n",
    "data_nonsl=pd.read_excel(my_path_non_sl,header=0)"
   ]
  },
  {
   "cell_type": "markdown",
   "metadata": {},
   "source": [
    "## Building the feature matrix\n",
    "One matrix for true SL where each row is one pair of SL. Every raw will be a vector of 0,1 or 2 depending on the comparison with the domain list. For row i the jth element = 0 if the jth element of the domain list is not in neither protein A and B, 1, if it is in one of them and 2 if it is in both of them .\n",
    "\n",
    "### Building the list of proteins domains id per protein pair separately :\n",
    "- List of protein A: Search for the Sl/nSL database the query gene name and look in the protein domain database which protein domains id has each of those queries.\n",
    "- List of protein B: Search for the Sl/nSL database the target gene name of the previous query and look in the protein domain database which protein domains id has each of those target genes."
   ]
  },
  {
   "cell_type": "code",
   "execution_count": 3,
   "metadata": {
    "execution": {
     "iopub.execute_input": "2020-07-15T00:21:42.344760Z",
     "iopub.status.busy": "2020-07-15T00:21:42.344293Z",
     "iopub.status.idle": "2020-07-15T00:21:44.080356Z",
     "shell.execute_reply": "2020-07-15T00:21:44.079885Z"
    }
   },
   "outputs": [],
   "source": [
    "# Selecting the meaningful columns in the respective dataset\n",
    "domain_id_list=data_domains['domain-name']\n",
    "query_gene=data_sl['gene-query-name']\n",
    "target_gene=data_sl['gene-target-name']\n",
    "query_gene_nonlethal=data_nonsl['gene-query-name']\n",
    "target_gene_nonlethal=data_nonsl['gene-target-name']\n",
    "\n",
    "\n",
    "\n",
    "# Initialising the arrays\n",
    "protein_a_list=[]\n",
    "protein_b_list=[]\n",
    "protein_a_list_non=[]\n",
    "protein_b_list_non=[]\n",
    "\n",
    "population = np.arange(0,len(data_sl))\n",
    "\n",
    "# For loop for 10000 pairs sampled randomly from the SL/nSl pair list , and creating a big array of proteind domains id per protein pair\n",
    "\n",
    "for m in random.sample(list(population), 500):\n",
    "    protein_a=data_domains[data_domains['name']==query_gene[m]]\n",
    "    protein_b=data_domains[data_domains['name']==target_gene[m]]\n",
    "    protein_a_list.append(protein_a['domain-name'].tolist())\n",
    "    protein_b_list.append(protein_b['domain-name'].tolist())\n",
    "\n",
    "    protein_a_non=data_domains[data_domains['name']==query_gene_nonlethal[m]]\n",
    "    protein_b_non=data_domains[data_domains['name']==target_gene_nonlethal[m]]\n",
    "    protein_a_list_non.append(protein_a_non['domain-name'].tolist())\n",
    "    protein_b_list_non.append(protein_b_non['domain-name'].tolist())"
   ]
  },
  {
   "cell_type": "code",
   "execution_count": 4,
   "metadata": {
    "execution": {
     "iopub.execute_input": "2020-07-15T00:21:44.084889Z",
     "iopub.status.busy": "2020-07-15T00:21:44.084377Z",
     "iopub.status.idle": "2020-07-15T00:21:44.088199Z",
     "shell.execute_reply": "2020-07-15T00:21:44.088535Z"
    }
   },
   "outputs": [
    {
     "name": "stdout",
     "output_type": "stream",
     "text": [
      "We are going to analyze 500 protein pairs, out of 17871 SL protein pairs\n",
      "We are going to analyze 500 protein pairs, out of 43340 positive protein pairs\n"
     ]
    }
   ],
   "source": [
    "print('We are going to analyze',len((protein_a_list)) ,'protein pairs, out of',len(data_sl),'SL protein pairs')\n",
    "print('We are going to analyze',len((protein_a_list_non)) ,'protein pairs, out of',len(data_nonsl),'positive protein pairs')"
   ]
  },
  {
   "cell_type": "markdown",
   "metadata": {},
   "source": [
    "### Postprocessing #1:  Remove protein pairs from study if either protein in the pair does not contain any domain"
   ]
  },
  {
   "cell_type": "code",
   "execution_count": 5,
   "metadata": {
    "execution": {
     "iopub.execute_input": "2020-07-15T00:21:44.096885Z",
     "iopub.status.busy": "2020-07-15T00:21:44.096440Z",
     "iopub.status.idle": "2020-07-15T00:21:44.099387Z",
     "shell.execute_reply": "2020-07-15T00:21:44.099010Z"
    }
   },
   "outputs": [],
   "source": [
    "def remove_empty_domains(protein_list_search,protein_list_pair):\n",
    "    index=[]\n",
    "    for i in np.arange(0,len(protein_list_search)):\n",
    "        if protein_list_search[i]==[] or protein_list_pair[i]==[]:\n",
    "            index.append(i) ## index of empty values for the protein_a_list meaning they dont have any annotated domain\n",
    "\n",
    "    y=[x for x in np.arange(0,len(protein_list_search)) if x not in index] # a list with non empty values from protein_a list\n",
    "\n",
    "    protein_list_search_new=[]\n",
    "    protein_list_pair_new=[]\n",
    "    for i in y:\n",
    "        protein_list_search_new.append(protein_list_search[i])\n",
    "        protein_list_pair_new.append(protein_list_pair[i])\n",
    "    return protein_list_search_new,protein_list_pair_new\n",
    "\n",
    "## evaluating the function\n",
    "\n",
    "protein_a_list_new,protein_b_list_new=remove_empty_domains(protein_a_list,protein_b_list)\n",
    "\n",
    "protein_a_list_non_new,protein_b_list_non_new=remove_empty_domains(protein_a_list_non,protein_b_list_non)"
   ]
  },
  {
   "cell_type": "code",
   "execution_count": 6,
   "metadata": {
    "execution": {
     "iopub.execute_input": "2020-07-15T00:21:44.104417Z",
     "iopub.status.busy": "2020-07-15T00:21:44.103648Z",
     "iopub.status.idle": "2020-07-15T00:21:44.105747Z",
     "shell.execute_reply": "2020-07-15T00:21:44.106102Z"
    }
   },
   "outputs": [
    {
     "name": "stdout",
     "output_type": "stream",
     "text": [
      "The empty domain in the SL were: 78 out of 500 domains\n",
      "The empty domain in the nSL were: 102 out of 500 domains\n"
     ]
    }
   ],
   "source": [
    "print('The empty domain in the SL were:', len(protein_a_list)-len(protein_a_list_new), 'out of', len(protein_a_list),'domains')\n",
    "print('The empty domain in the nSL were:', len(protein_a_list_non)-len(protein_a_list_non_new), 'out of', len(protein_a_list_non),'domains')"
   ]
  },
  {
   "cell_type": "markdown",
   "metadata": {},
   "source": [
    "### Feature engineering: Select from each ordered indexes of domain id list which of them appear once, in both or in any of the domains of each protein pair"
   ]
  },
  {
   "cell_type": "markdown",
   "metadata": {},
   "source": [
    "#### Define function `get_indexes`"
   ]
  },
  {
   "cell_type": "code",
   "execution_count": 7,
   "metadata": {
    "execution": {
     "iopub.execute_input": "2020-07-15T00:21:44.111995Z",
     "iopub.status.busy": "2020-07-15T00:21:44.111543Z",
     "iopub.status.idle": "2020-07-15T00:21:44.113713Z",
     "shell.execute_reply": "2020-07-15T00:21:44.114071Z"
    }
   },
   "outputs": [
    {
     "data": {
      "text/plain": [
       "[1, 2]"
      ]
     },
     "execution_count": 7,
     "metadata": {},
     "output_type": "execute_result"
    }
   ],
   "source": [
    "get_indexes = lambda x, xs: [i for (y, i) in zip(xs, range(len(xs))) if x == y] # a function that give the index of whether a value appear in array or not\n",
    "a=[1,2,2,4,5,6,7,8,9,10]\n",
    "get_indexes(2,a)"
   ]
  },
  {
   "cell_type": "code",
   "execution_count": 8,
   "metadata": {
    "execution": {
     "iopub.execute_input": "2020-07-15T00:21:44.121868Z",
     "iopub.status.busy": "2020-07-15T00:21:44.121061Z",
     "iopub.status.idle": "2020-07-15T00:21:44.122579Z",
     "shell.execute_reply": "2020-07-15T00:21:44.122932Z"
    }
   },
   "outputs": [],
   "source": [
    "def feature_building(protein_a_list_new,protein_b_list_new):\n",
    "    x = np.unique(domain_id_list)\n",
    "    ## To avoid taking repeated domains from one protein of the pairs , lets reduced the domains of each protein from the pairs to their unique members\n",
    "    protein_a_list_unique=[]\n",
    "    protein_b_list_unique=[]\n",
    "    for i in np.arange(0,len(protein_a_list_new)):\n",
    "        protein_a_list_unique.append(np.unique(protein_a_list_new[i]))\n",
    "        protein_b_list_unique.append(np.unique(protein_b_list_new[i]))\n",
    "        \n",
    "    protein_feat_true=np.zeros(shape=(len(x),len(protein_a_list_unique)))\n",
    "    pair_a_b_array=[]\n",
    "    for i in np.arange(0,len(protein_a_list_unique)):\n",
    "        index_a=[]\n",
    "        \n",
    "        pair=[protein_a_list_unique[i],protein_b_list_unique[i]]\n",
    "        pair_a_b=np.concatenate(pair).ravel()\n",
    "        pair_a_b_array.append(pair_a_b)\n",
    "\n",
    "    j=0\n",
    "    for i in pair_a_b_array:  \n",
    "        array,index,counts=np.unique(i,return_index=True,return_counts=True)\n",
    "        \n",
    "        for k,m in zip(counts,array):\n",
    "            if k ==2:\n",
    "                protein_feat_true[get_indexes(m,x),j]=2\n",
    "                \n",
    "            if k==1:\n",
    "                protein_feat_true[get_indexes(m,x),j]=1\n",
    "        j=j+1\n",
    "    return protein_feat_true"
   ]
  },
  {
   "cell_type": "code",
   "execution_count": 9,
   "metadata": {
    "execution": {
     "iopub.execute_input": "2020-07-15T00:21:44.134811Z",
     "iopub.status.busy": "2020-07-15T00:21:44.134359Z",
     "iopub.status.idle": "2020-07-15T00:21:44.657288Z",
     "shell.execute_reply": "2020-07-15T00:21:44.656830Z"
    }
   },
   "outputs": [],
   "source": [
    "protein_feat_true=feature_building(protein_b_list_new=protein_b_list_new,protein_a_list_new=protein_a_list_new)\n",
    "protein_feat_true_pd=pd.DataFrame(protein_feat_true.T)\n",
    "\n",
    "protein_feat_non_true=feature_building(protein_b_list_new=protein_b_list_non_new,protein_a_list_new=protein_a_list_non_new)\n",
    "protein_feat_non_true_pd=pd.DataFrame(protein_feat_non_true.T)"
   ]
  },
  {
   "cell_type": "markdown",
   "metadata": {},
   "source": [
    "### How many ones and twos are in each dataset"
   ]
  },
  {
   "cell_type": "code",
   "execution_count": 10,
   "metadata": {
    "execution": {
     "iopub.execute_input": "2020-07-15T00:21:44.663831Z",
     "iopub.status.busy": "2020-07-15T00:21:44.663308Z",
     "iopub.status.idle": "2020-07-15T00:21:44.751165Z",
     "shell.execute_reply": "2020-07-15T00:21:44.750768Z"
    }
   },
   "outputs": [
    {
     "name": "stdout",
     "output_type": "stream",
     "text": [
      "fraction of twos in the SL array is 2.2717480709725433e-05\n",
      "fraction of ones in the SL array is 0.000990952175786299\n",
      "fraction of twos in the PI array is 1.3289588438058059e-05\n",
      "fraction of ones in the PI array is 0.0009277793928319282\n"
     ]
    }
   ],
   "source": [
    "index_2_true=protein_feat_true_pd.where(protein_feat_true_pd==2)\n",
    "index_2_true_count=index_2_true.count(axis=1).sum()\n",
    "\n",
    "index_1_true=protein_feat_true_pd.where(protein_feat_true_pd==1)\n",
    "index_1_true_count=index_1_true.count(axis=1).sum()\n",
    "\n",
    "index_2_nontrue=protein_feat_non_true_pd.where(protein_feat_non_true_pd==2)\n",
    "index_2_nontrue_count=index_2_nontrue.count(axis=1).sum()\n",
    "\n",
    "index_1_nontrue=protein_feat_non_true_pd.where(protein_feat_non_true_pd==1)\n",
    "index_1_nontrue_count=index_1_nontrue.count(axis=1).sum()\n",
    "\n",
    "\n",
    "print('fraction of twos in the SL array is',index_2_true_count/(len(protein_feat_true_pd.index)*len(protein_feat_true_pd.columns)))\n",
    "print('fraction of ones in the SL array is',index_1_true_count/(len(protein_feat_true_pd.index)*len(protein_feat_true_pd.columns)))\n",
    "print('fraction of twos in the PI array is',index_2_nontrue_count/(len(protein_feat_non_true_pd.index)*len(protein_feat_non_true_pd.columns)))\n",
    "print('fraction of ones in the PI array is',index_1_nontrue_count/(len(protein_feat_non_true_pd.index)*len(protein_feat_non_true_pd.columns)))"
   ]
  },
  {
   "cell_type": "markdown",
   "metadata": {},
   "source": [
    "#### Bar plot to visualize these numbers"
   ]
  },
  {
   "cell_type": "code",
   "execution_count": 11,
   "metadata": {
    "execution": {
     "iopub.execute_input": "2020-07-15T00:21:44.756920Z",
     "iopub.status.busy": "2020-07-15T00:21:44.756465Z",
     "iopub.status.idle": "2020-07-15T00:21:45.044992Z",
     "shell.execute_reply": "2020-07-15T00:21:45.045343Z"
    }
   },
   "outputs": [
    {
     "data": {
      "text/plain": [
       "([0, 1, 2, 3], <a list of 4 Text major ticklabel objects>)"
      ]
     },
     "execution_count": 11,
     "metadata": {},
     "output_type": "execute_result"
    },
    {
     "data": {
      "image/png": "[encoded data removed]",
      "text/plain": [
       "<Figure size 432x288 with 1 Axes>"
      ]
     },
     "metadata": {
      "filenames": {
       "image/png": "/home/runner/work/jupyter-book/jupyter-book/mini_book/docs/_build/jupyter_execute/prot_domains2lethality-FEATURES-POSTPROCESSING_18_1.png"
      },
      "needs_background": "light"
     },
     "output_type": "display_data"
    }
   ],
   "source": [
    "plt.bar(['fraction of 2 in the nSL','fraction of 1 in the nSL'],[index_2_nontrue_count/(len(protein_feat_non_true_pd.index)*len(protein_feat_non_true_pd.columns)),index_1_nontrue_count/(len(protein_feat_non_true_pd.index)*len(protein_feat_non_true_pd.columns))],alpha=0.6,color=['blue','lightblue']), \n",
    "\n",
    "plt.bar(['fraction of 2 in SL ','fraction of 1 in SL'],[index_2_true_count/(len(protein_feat_true_pd.index)*len(protein_feat_true_pd.columns)),index_1_true_count/(len(protein_feat_true_pd.index)*len(protein_feat_true_pd.columns))],alpha=0.6,color=['coral','lightcoral'])\n",
    "\n",
    "plt.ylabel('Fraction from the population')\n",
    "plt.yscale('log')\n",
    "plt.xticks(rotation=40)"
   ]
  },
  {
   "cell_type": "markdown",
   "metadata": {},
   "source": [
    "#### Adding the labels(response variables) to each dataset"
   ]
  },
  {
   "cell_type": "code",
   "execution_count": 12,
   "metadata": {
    "execution": {
     "iopub.execute_input": "2020-07-15T00:21:45.051021Z",
     "iopub.status.busy": "2020-07-15T00:21:45.049505Z",
     "iopub.status.idle": "2020-07-15T00:21:45.054131Z",
     "shell.execute_reply": "2020-07-15T00:21:45.053516Z"
    }
   },
   "outputs": [],
   "source": [
    "protein_feat_true_pd['lethality']=np.ones(shape=(len(protein_a_list_new)))\n",
    "protein_feat_non_true_pd['lethality']=np.zeros(shape=(len(protein_a_list_non_new)))"
   ]
  },
  {
   "cell_type": "markdown",
   "metadata": {},
   "source": [
    "#### Joining both datasets"
   ]
  },
  {
   "cell_type": "code",
   "execution_count": 13,
   "metadata": {
    "execution": {
     "iopub.execute_input": "2020-07-15T00:21:45.058079Z",
     "iopub.status.busy": "2020-07-15T00:21:45.057633Z",
     "iopub.status.idle": "2020-07-15T00:21:45.090531Z",
     "shell.execute_reply": "2020-07-15T00:21:45.090090Z"
    }
   },
   "outputs": [
    {
     "name": "stdout",
     "output_type": "stream",
     "text": [
      "The number of features are: 3026\n",
      "The number of samples are: 820\n"
     ]
    }
   ],
   "source": [
    "feature_post=pd.concat([protein_feat_true_pd,protein_feat_non_true_pd],axis=0)\n",
    "feature_post=feature_post.set_index(np.arange(0,len(protein_a_list_new)+len(protein_a_list_non_new)))\n",
    "print('The number of features are:',feature_post.shape[1])\n",
    "print('The number of samples are:',feature_post.shape[0])"
   ]
  },
  {
   "cell_type": "markdown",
   "metadata": {},
   "source": [
    "### Postprocessing and exploration of the feature matrix of both datasets"
   ]
  },
  {
   "cell_type": "code",
   "execution_count": 14,
   "metadata": {
    "execution": {
     "iopub.execute_input": "2020-07-15T00:21:45.105302Z",
     "iopub.status.busy": "2020-07-15T00:21:45.103914Z",
     "iopub.status.idle": "2020-07-15T00:21:48.375689Z",
     "shell.execute_reply": "2020-07-15T00:21:48.374881Z"
    }
   },
   "outputs": [],
   "source": [
    "mean=feature_post.T.describe().loc['mean']\n",
    "std=feature_post.T.describe().loc['std']\n",
    "lethality=feature_post['lethality']\n",
    "\n",
    "corr_keys=pd.concat([mean,std,lethality],axis=1)"
   ]
  },
  {
   "cell_type": "markdown",
   "metadata": {},
   "source": [
    "### Viz of the stats"
   ]
  },
  {
   "cell_type": "code",
   "execution_count": 15,
   "metadata": {
    "execution": {
     "iopub.execute_input": "2020-07-15T00:21:48.397708Z",
     "iopub.status.busy": "2020-07-15T00:21:48.396382Z",
     "iopub.status.idle": "2020-07-15T00:21:49.613786Z",
     "shell.execute_reply": "2020-07-15T00:21:49.614396Z"
    }
   },
   "outputs": [
    {
     "data": {
      "text/plain": [
       "Text(0.5, 1.08, 'Pairplot to see data dependencies with Lethality')"
      ]
     },
     "execution_count": 15,
     "metadata": {},
     "output_type": "execute_result"
    },
    {
     "data": {
      "image/png": "[encoded data removed]",
      "text/plain": [
       "<Figure size 412x360 with 6 Axes>"
      ]
     },
     "metadata": {
      "filenames": {
       "image/png": "/home/runner/work/jupyter-book/jupyter-book/mini_book/docs/_build/jupyter_execute/prot_domains2lethality-FEATURES-POSTPROCESSING_26_1.png"
      },
      "needs_background": "light"
     },
     "output_type": "display_data"
    }
   ],
   "source": [
    "pair=sns.pairplot(corr_keys,hue='lethality',diag_kind='kde',kind='reg',palette='colorblind')\n",
    "pair.fig.suptitle('Pairplot to see data dependencies with Lethality',y=1.08)"
   ]
  },
  {
   "cell_type": "code",
   "execution_count": 16,
   "metadata": {
    "execution": {
     "iopub.execute_input": "2020-07-15T00:21:49.622888Z",
     "iopub.status.busy": "2020-07-15T00:21:49.618135Z",
     "iopub.status.idle": "2020-07-15T00:21:49.625878Z",
     "shell.execute_reply": "2020-07-15T00:21:49.625485Z"
    }
   },
   "outputs": [],
   "source": [
    "X, y = feature_post.drop(columns=[\"lethality\"]), feature_post[\"lethality\"]"
   ]
  },
  {
   "cell_type": "code",
   "execution_count": 17,
   "metadata": {
    "execution": {
     "iopub.execute_input": "2020-07-15T00:21:49.629999Z",
     "iopub.status.busy": "2020-07-15T00:21:49.629161Z",
     "iopub.status.idle": "2020-07-15T00:21:49.753396Z",
     "shell.execute_reply": "2020-07-15T00:21:49.752932Z"
    }
   },
   "outputs": [],
   "source": [
    "from sklearn.preprocessing import StandardScaler\n",
    "scaler = StandardScaler()\n",
    "x_sl=protein_feat_true_pd.drop(columns=['lethality'])\n",
    "x_nsl=protein_feat_non_true_pd.drop(columns=['lethality'])\n",
    "\n",
    "X_sl_scaled = scaler.fit_transform(x_sl)\n",
    "X_nsl_scaled = scaler.fit_transform(x_nsl)"
   ]
  },
  {
   "cell_type": "code",
   "execution_count": 18,
   "metadata": {
    "execution": {
     "iopub.execute_input": "2020-07-15T00:21:49.757246Z",
     "iopub.status.busy": "2020-07-15T00:21:49.756745Z",
     "iopub.status.idle": "2020-07-15T00:21:49.760567Z",
     "shell.execute_reply": "2020-07-15T00:21:49.760174Z"
    }
   },
   "outputs": [
    {
     "data": {
      "text/plain": [
       "(422, 3025)"
      ]
     },
     "execution_count": 18,
     "metadata": {},
     "output_type": "execute_result"
    }
   ],
   "source": [
    "np.shape(X_sl_scaled)"
   ]
  },
  {
   "cell_type": "markdown",
   "metadata": {},
   "source": [
    "## How redundant are each of the protein domains?"
   ]
  },
  {
   "cell_type": "code",
   "execution_count": 19,
   "metadata": {
    "execution": {
     "iopub.execute_input": "2020-07-15T00:21:49.767191Z",
     "iopub.status.busy": "2020-07-15T00:21:49.766416Z",
     "iopub.status.idle": "2020-07-15T00:21:49.767974Z",
     "shell.execute_reply": "2020-07-15T00:21:49.768330Z"
    }
   },
   "outputs": [],
   "source": [
    "def PCA_component_contribution(scaled_matrix,original_data):\n",
    "    from sklearn.decomposition import PCA\n",
    "\n",
    "    model = PCA(0.95).fit(scaled_matrix)\n",
    "    ## apply dimensionality reduction to X_train\n",
    "    output_pca = model.transform(scaled_matrix)\n",
    "    \n",
    "    total=sum(model.explained_variance_)\n",
    "\n",
    "\n",
    "   \n",
    "    # number of components , that it will be the number of main axes times the number of original components \n",
    "    n_pcs= model.components_.shape[0] # the amount of non redundant protein domains \n",
    "\n",
    "    # get the index of the most important feature on EACH component\n",
    "    # LIST COMPREHENSION HERE\n",
    "    most_important = [np.abs(model.components_[i]).argmax() for i in range(n_pcs)]\n",
    "\n",
    "    initial_feature_names = original_data.columns\n",
    "    # get the names\n",
    "    most_important_names = [initial_feature_names[most_important[i]] for i in range(n_pcs)]\n",
    "    \n",
    "\n",
    "    # LIST COMPREHENSION HERE AGAIN\n",
    "    dic = {'PC{}'.format(i): most_important_names[i] for i in range(n_pcs)}\n",
    "\n",
    "    # build the dataframe\n",
    "    df = pd.DataFrame(dic.items(),columns=['pca-component','domain-number'])\n",
    "\n",
    "    return df,model.components_"
   ]
  },
  {
   "cell_type": "code",
   "execution_count": 20,
   "metadata": {
    "execution": {
     "iopub.execute_input": "2020-07-15T00:21:49.771429Z",
     "iopub.status.busy": "2020-07-15T00:21:49.770995Z",
     "iopub.status.idle": "2020-07-15T00:21:50.305982Z",
     "shell.execute_reply": "2020-07-15T00:21:50.306374Z"
    }
   },
   "outputs": [],
   "source": [
    "df_sl,components_pca_nsl=PCA_component_contribution(X_nsl_scaled,x_nsl)\n",
    "df_nsl,components_pca_sl=PCA_component_contribution(X_sl_scaled,x_sl)"
   ]
  },
  {
   "cell_type": "code",
   "execution_count": 21,
   "metadata": {
    "execution": {
     "iopub.execute_input": "2020-07-15T00:21:50.308416Z",
     "iopub.status.busy": "2020-07-15T00:21:50.307986Z",
     "iopub.status.idle": "2020-07-15T00:21:50.314761Z",
     "shell.execute_reply": "2020-07-15T00:21:50.315189Z"
    }
   },
   "outputs": [
    {
     "data": {
      "text/html": [
       "<div>\n",
       "<style scoped>\n",
       "    .dataframe tbody tr th:only-of-type {\n",
       "        vertical-align: middle;\n",
       "    }\n",
       "\n",
       "    .dataframe tbody tr th {\n",
       "        vertical-align: top;\n",
       "    }\n",
       "\n",
       "    .dataframe thead th {\n",
       "        text-align: right;\n",
       "    }\n",
       "</style>\n",
       "<table border=\"1\" class=\"dataframe\">\n",
       "  <thead>\n",
       "    <tr style=\"text-align: right;\">\n",
       "      <th></th>\n",
       "      <th>pca-component</th>\n",
       "      <th>domain-number</th>\n",
       "    </tr>\n",
       "  </thead>\n",
       "  <tbody>\n",
       "    <tr>\n",
       "      <th>0</th>\n",
       "      <td>PC0</td>\n",
       "      <td>540</td>\n",
       "    </tr>\n",
       "    <tr>\n",
       "      <th>1</th>\n",
       "      <td>PC1</td>\n",
       "      <td>229</td>\n",
       "    </tr>\n",
       "    <tr>\n",
       "      <th>2</th>\n",
       "      <td>PC2</td>\n",
       "      <td>1671</td>\n",
       "    </tr>\n",
       "    <tr>\n",
       "      <th>3</th>\n",
       "      <td>PC3</td>\n",
       "      <td>219</td>\n",
       "    </tr>\n",
       "    <tr>\n",
       "      <th>4</th>\n",
       "      <td>PC4</td>\n",
       "      <td>371</td>\n",
       "    </tr>\n",
       "  </tbody>\n",
       "</table>\n",
       "</div>"
      ],
      "text/plain": [
       "  pca-component  domain-number\n",
       "0           PC0            540\n",
       "1           PC1            229\n",
       "2           PC2           1671\n",
       "3           PC3            219\n",
       "4           PC4            371"
      ]
     },
     "execution_count": 21,
     "metadata": {},
     "output_type": "execute_result"
    }
   ],
   "source": [
    "df_sl.head()"
   ]
  },
  {
   "cell_type": "markdown",
   "metadata": {},
   "source": [
    "## which are the shared domains between nSL and SL pairs , in the PCA reduced samples"
   ]
  },
  {
   "cell_type": "code",
   "execution_count": 22,
   "metadata": {
    "execution": {
     "iopub.execute_input": "2020-07-15T00:21:50.317066Z",
     "iopub.status.busy": "2020-07-15T00:21:50.316636Z",
     "iopub.status.idle": "2020-07-15T00:21:50.340467Z",
     "shell.execute_reply": "2020-07-15T00:21:50.340899Z"
    }
   },
   "outputs": [
    {
     "data": {
      "text/html": [
       "<div>\n",
       "<style scoped>\n",
       "    .dataframe tbody tr th:only-of-type {\n",
       "        vertical-align: middle;\n",
       "    }\n",
       "\n",
       "    .dataframe tbody tr th {\n",
       "        vertical-align: top;\n",
       "    }\n",
       "\n",
       "    .dataframe thead th {\n",
       "        text-align: right;\n",
       "    }\n",
       "</style>\n",
       "<table border=\"1\" class=\"dataframe\">\n",
       "  <thead>\n",
       "    <tr style=\"text-align: right;\">\n",
       "      <th></th>\n",
       "      <th>pca-component_x</th>\n",
       "      <th>domain-number</th>\n",
       "      <th>pca-component_y</th>\n",
       "      <th>domain-description</th>\n",
       "    </tr>\n",
       "  </thead>\n",
       "  <tbody>\n",
       "    <tr>\n",
       "      <th>0</th>\n",
       "      <td>PC5</td>\n",
       "      <td>1055</td>\n",
       "      <td>PC7</td>\n",
       "      <td>Glyco_hydro_63N; Glycosyl hydrolase family 63,...</td>\n",
       "    </tr>\n",
       "    <tr>\n",
       "      <th>1</th>\n",
       "      <td>PC7</td>\n",
       "      <td>55</td>\n",
       "      <td>PC11</td>\n",
       "      <td>ADK</td>\n",
       "    </tr>\n",
       "    <tr>\n",
       "      <th>2</th>\n",
       "      <td>PC17</td>\n",
       "      <td>183</td>\n",
       "      <td>PC18</td>\n",
       "      <td>Alb1; Ribosome biogenesis protein Alb1</td>\n",
       "    </tr>\n",
       "    <tr>\n",
       "      <th>3</th>\n",
       "      <td>PC23</td>\n",
       "      <td>83</td>\n",
       "      <td>PC38</td>\n",
       "      <td>ANAPC1; Anaphase-promoting complex subunit 1</td>\n",
       "    </tr>\n",
       "    <tr>\n",
       "      <th>4</th>\n",
       "      <td>PC26</td>\n",
       "      <td>10</td>\n",
       "      <td>PC64</td>\n",
       "      <td>4HBT; Thioesterase domain</td>\n",
       "    </tr>\n",
       "    <tr>\n",
       "      <th>...</th>\n",
       "      <td>...</td>\n",
       "      <td>...</td>\n",
       "      <td>...</td>\n",
       "      <td>...</td>\n",
       "    </tr>\n",
       "    <tr>\n",
       "      <th>60</th>\n",
       "      <td>PC250</td>\n",
       "      <td>769</td>\n",
       "      <td>PC102</td>\n",
       "      <td>Dynamin_M; Dynamin central domain</td>\n",
       "    </tr>\n",
       "    <tr>\n",
       "      <th>61</th>\n",
       "      <td>PC251</td>\n",
       "      <td>2025</td>\n",
       "      <td>PC101</td>\n",
       "      <td>RNA_pol_Rpb2_7; RNA polymerase Rpb2, domain 7</td>\n",
       "    </tr>\n",
       "    <tr>\n",
       "      <th>62</th>\n",
       "      <td>PC251</td>\n",
       "      <td>2025</td>\n",
       "      <td>PC105</td>\n",
       "      <td>RNA_pol_Rpb2_7; RNA polymerase Rpb2, domain 7</td>\n",
       "    </tr>\n",
       "    <tr>\n",
       "      <th>63</th>\n",
       "      <td>PC252</td>\n",
       "      <td>141</td>\n",
       "      <td>PC109</td>\n",
       "      <td>ATP_sub_h; ATP synthase, F0 complex, subunit H</td>\n",
       "    </tr>\n",
       "    <tr>\n",
       "      <th>64</th>\n",
       "      <td>PC259</td>\n",
       "      <td>79</td>\n",
       "      <td>PC107</td>\n",
       "      <td>AMPK1_CBM; AMP-activated protein kinase, glyco...</td>\n",
       "    </tr>\n",
       "  </tbody>\n",
       "</table>\n",
       "<p>65 rows × 4 columns</p>\n",
       "</div>"
      ],
      "text/plain": [
       "   pca-component_x  domain-number pca-component_y  \\\n",
       "0              PC5           1055             PC7   \n",
       "1              PC7             55            PC11   \n",
       "2             PC17            183            PC18   \n",
       "3             PC23             83            PC38   \n",
       "4             PC26             10            PC64   \n",
       "..             ...            ...             ...   \n",
       "60           PC250            769           PC102   \n",
       "61           PC251           2025           PC101   \n",
       "62           PC251           2025           PC105   \n",
       "63           PC252            141           PC109   \n",
       "64           PC259             79           PC107   \n",
       "\n",
       "                                   domain-description  \n",
       "0   Glyco_hydro_63N; Glycosyl hydrolase family 63,...  \n",
       "1                                                 ADK  \n",
       "2              Alb1; Ribosome biogenesis protein Alb1  \n",
       "3        ANAPC1; Anaphase-promoting complex subunit 1  \n",
       "4                           4HBT; Thioesterase domain  \n",
       "..                                                ...  \n",
       "60                  Dynamin_M; Dynamin central domain  \n",
       "61      RNA_pol_Rpb2_7; RNA polymerase Rpb2, domain 7  \n",
       "62      RNA_pol_Rpb2_7; RNA polymerase Rpb2, domain 7  \n",
       "63     ATP_sub_h; ATP synthase, F0 complex, subunit H  \n",
       "64  AMPK1_CBM; AMP-activated protein kinase, glyco...  \n",
       "\n",
       "[65 rows x 4 columns]"
      ]
     },
     "execution_count": 22,
     "metadata": {},
     "output_type": "execute_result"
    }
   ],
   "source": [
    "df_shared_domains=pd.merge(df_sl,df_nsl,how='inner',on='domain-number')\n",
    "domains_name=np.unique(data_domains['domain-name'])\n",
    "domains_description=np.unique(data_domains['domain-descrip'])\n",
    "\n",
    "df_shared_domains['domain-description']=domains_description[df_shared_domains['domain-number']]\n",
    "\n",
    "\n",
    "df_shared_domains"
   ]
  },
  {
   "cell_type": "code",
   "execution_count": 23,
   "metadata": {
    "execution": {
     "iopub.execute_input": "2020-07-15T00:21:50.342821Z",
     "iopub.status.busy": "2020-07-15T00:21:50.342396Z",
     "iopub.status.idle": "2020-07-15T00:21:50.346642Z",
     "shell.execute_reply": "2020-07-15T00:21:50.347066Z"
    }
   },
   "outputs": [
    {
     "name": "stdout",
     "output_type": "stream",
     "text": [
      "The number of shared domains between SL and nSL pairs,after PCA, is =  65 out of 544 so the 11.948529411764707 %\n"
     ]
    }
   ],
   "source": [
    "print('The number of shared domains between SL and nSL pairs,after PCA, is = ',len(df_shared_domains), 'out of', len(df_sl)+len(df_nsl), 'so the',100*len(df_shared_domains)/(len(df_sl)+len(df_nsl)),'%')"
   ]
  },
  {
   "cell_type": "markdown",
   "metadata": {},
   "source": [
    "## Domains exclusive to SL"
   ]
  },
  {
   "cell_type": "code",
   "execution_count": 24,
   "metadata": {
    "execution": {
     "iopub.execute_input": "2020-07-15T00:21:50.348927Z",
     "iopub.status.busy": "2020-07-15T00:21:50.348501Z",
     "iopub.status.idle": "2020-07-15T00:21:50.371486Z",
     "shell.execute_reply": "2020-07-15T00:21:50.371913Z"
    }
   },
   "outputs": [
    {
     "data": {
      "text/html": [
       "<div>\n",
       "<style scoped>\n",
       "    .dataframe tbody tr th:only-of-type {\n",
       "        vertical-align: middle;\n",
       "    }\n",
       "\n",
       "    .dataframe tbody tr th {\n",
       "        vertical-align: top;\n",
       "    }\n",
       "\n",
       "    .dataframe thead th {\n",
       "        text-align: right;\n",
       "    }\n",
       "</style>\n",
       "<table border=\"1\" class=\"dataframe\">\n",
       "  <thead>\n",
       "    <tr style=\"text-align: right;\">\n",
       "      <th></th>\n",
       "      <th>pca-component_x</th>\n",
       "      <th>domain-number</th>\n",
       "      <th>pca-component_y</th>\n",
       "      <th>domain-description</th>\n",
       "    </tr>\n",
       "  </thead>\n",
       "  <tbody>\n",
       "    <tr>\n",
       "      <th>0</th>\n",
       "      <td>PC0</td>\n",
       "      <td>540</td>\n",
       "      <td>NaN</td>\n",
       "      <td>Cytochrome_B; Cytochrome b/b6, N-terminal</td>\n",
       "    </tr>\n",
       "    <tr>\n",
       "      <th>1</th>\n",
       "      <td>PC1</td>\n",
       "      <td>229</td>\n",
       "      <td>NaN</td>\n",
       "      <td>Arginase; Ureohydrolase</td>\n",
       "    </tr>\n",
       "    <tr>\n",
       "      <th>2</th>\n",
       "      <td>PC2</td>\n",
       "      <td>1671</td>\n",
       "      <td>NaN</td>\n",
       "      <td>Ofd1_CTDD; Oxoglutarate/iron-dependent oxygena...</td>\n",
       "    </tr>\n",
       "    <tr>\n",
       "      <th>3</th>\n",
       "      <td>PC3</td>\n",
       "      <td>219</td>\n",
       "      <td>NaN</td>\n",
       "      <td>Apc15p; Anaphase-promoting complex subunit  15...</td>\n",
       "    </tr>\n",
       "    <tr>\n",
       "      <th>4</th>\n",
       "      <td>PC4</td>\n",
       "      <td>371</td>\n",
       "      <td>NaN</td>\n",
       "      <td>CNOT1_HEAT; CCR4-NOT transcription complex sub...</td>\n",
       "    </tr>\n",
       "    <tr>\n",
       "      <th>...</th>\n",
       "      <td>...</td>\n",
       "      <td>...</td>\n",
       "      <td>...</td>\n",
       "      <td>...</td>\n",
       "    </tr>\n",
       "    <tr>\n",
       "      <th>263</th>\n",
       "      <td>PC255</td>\n",
       "      <td>1971</td>\n",
       "      <td>NaN</td>\n",
       "      <td>RCC1; Regulator of chromosome condensation, RCC1</td>\n",
       "    </tr>\n",
       "    <tr>\n",
       "      <th>264</th>\n",
       "      <td>PC256</td>\n",
       "      <td>356</td>\n",
       "      <td>NaN</td>\n",
       "      <td>CHZ; Histone chaperone domain CHZ</td>\n",
       "    </tr>\n",
       "    <tr>\n",
       "      <th>265</th>\n",
       "      <td>PC257</td>\n",
       "      <td>8</td>\n",
       "      <td>NaN</td>\n",
       "      <td>3Beta_HSD; 3-beta hydroxysteroid dehydrogenase...</td>\n",
       "    </tr>\n",
       "    <tr>\n",
       "      <th>266</th>\n",
       "      <td>PC258</td>\n",
       "      <td>1701</td>\n",
       "      <td>NaN</td>\n",
       "      <td>PAP_central; Poly(A) polymerase, central domain</td>\n",
       "    </tr>\n",
       "    <tr>\n",
       "      <th>268</th>\n",
       "      <td>PC260</td>\n",
       "      <td>658</td>\n",
       "      <td>NaN</td>\n",
       "      <td>DUF1752; Protein of unknown function DUF1752, ...</td>\n",
       "    </tr>\n",
       "  </tbody>\n",
       "</table>\n",
       "<p>204 rows × 4 columns</p>\n",
       "</div>"
      ],
      "text/plain": [
       "    pca-component_x  domain-number pca-component_y  \\\n",
       "0               PC0            540             NaN   \n",
       "1               PC1            229             NaN   \n",
       "2               PC2           1671             NaN   \n",
       "3               PC3            219             NaN   \n",
       "4               PC4            371             NaN   \n",
       "..              ...            ...             ...   \n",
       "263           PC255           1971             NaN   \n",
       "264           PC256            356             NaN   \n",
       "265           PC257              8             NaN   \n",
       "266           PC258           1701             NaN   \n",
       "268           PC260            658             NaN   \n",
       "\n",
       "                                    domain-description  \n",
       "0            Cytochrome_B; Cytochrome b/b6, N-terminal  \n",
       "1                              Arginase; Ureohydrolase  \n",
       "2    Ofd1_CTDD; Oxoglutarate/iron-dependent oxygena...  \n",
       "3    Apc15p; Anaphase-promoting complex subunit  15...  \n",
       "4    CNOT1_HEAT; CCR4-NOT transcription complex sub...  \n",
       "..                                                 ...  \n",
       "263   RCC1; Regulator of chromosome condensation, RCC1  \n",
       "264                  CHZ; Histone chaperone domain CHZ  \n",
       "265  3Beta_HSD; 3-beta hydroxysteroid dehydrogenase...  \n",
       "266    PAP_central; Poly(A) polymerase, central domain  \n",
       "268  DUF1752; Protein of unknown function DUF1752, ...  \n",
       "\n",
       "[204 rows x 4 columns]"
      ]
     },
     "execution_count": 24,
     "metadata": {},
     "output_type": "execute_result"
    }
   ],
   "source": [
    "df_sl_exclusive=pd.merge(df_sl,df_nsl,how='left',on='domain-number')\n",
    "\n",
    "domains_name=np.unique(data_domains['domain-name'])\n",
    "domains_description=np.unique(data_domains['domain-descrip'])\n",
    "\n",
    "df_sl_exclusive['domain-description']=domains_description[df_sl_exclusive['domain-number']]\n",
    "df_sl_exclusive[pd.isnull(df_sl_exclusive['pca-component_y'])]"
   ]
  },
  {
   "cell_type": "code",
   "execution_count": 25,
   "metadata": {
    "execution": {
     "iopub.execute_input": "2020-07-15T00:21:50.373813Z",
     "iopub.status.busy": "2020-07-15T00:21:50.373370Z",
     "iopub.status.idle": "2020-07-15T00:21:50.377562Z",
     "shell.execute_reply": "2020-07-15T00:21:50.377993Z"
    }
   },
   "outputs": [
    {
     "name": "stdout",
     "output_type": "stream",
     "text": [
      "The number of exclusive domains from SL pairs, after PCA, is =  269 out of 544 so the 49.4485294117647 %\n"
     ]
    }
   ],
   "source": [
    "print('The number of exclusive domains from SL pairs, after PCA, is = ',len(df_sl_exclusive), 'out of', len(df_sl)+len(df_nsl), 'so the',100*len(df_sl_exclusive)/(len(df_sl)+len(df_nsl)),'%')"
   ]
  },
  {
   "cell_type": "code",
   "execution_count": 26,
   "metadata": {
    "execution": {
     "iopub.execute_input": "2020-07-15T00:21:50.379854Z",
     "iopub.status.busy": "2020-07-15T00:21:50.379414Z",
     "iopub.status.idle": "2020-07-15T00:21:50.402651Z",
     "shell.execute_reply": "2020-07-15T00:21:50.403079Z"
    }
   },
   "outputs": [
    {
     "data": {
      "text/html": [
       "<div>\n",
       "<style scoped>\n",
       "    .dataframe tbody tr th:only-of-type {\n",
       "        vertical-align: middle;\n",
       "    }\n",
       "\n",
       "    .dataframe tbody tr th {\n",
       "        vertical-align: top;\n",
       "    }\n",
       "\n",
       "    .dataframe thead th {\n",
       "        text-align: right;\n",
       "    }\n",
       "</style>\n",
       "<table border=\"1\" class=\"dataframe\">\n",
       "  <thead>\n",
       "    <tr style=\"text-align: right;\">\n",
       "      <th></th>\n",
       "      <th>pca-component_x</th>\n",
       "      <th>domain-number</th>\n",
       "      <th>pca-component_y</th>\n",
       "      <th>domain-description</th>\n",
       "    </tr>\n",
       "  </thead>\n",
       "  <tbody>\n",
       "    <tr>\n",
       "      <th>65</th>\n",
       "      <td>NaN</td>\n",
       "      <td>1028</td>\n",
       "      <td>PC0</td>\n",
       "      <td>GatB_Yqey; Asn/Gln amidotransferase</td>\n",
       "    </tr>\n",
       "    <tr>\n",
       "      <th>66</th>\n",
       "      <td>NaN</td>\n",
       "      <td>305</td>\n",
       "      <td>PC2</td>\n",
       "      <td>Brr6_like_C_C; Brl1/Brr6 domain</td>\n",
       "    </tr>\n",
       "    <tr>\n",
       "      <th>67</th>\n",
       "      <td>NaN</td>\n",
       "      <td>268</td>\n",
       "      <td>PC3</td>\n",
       "      <td>BHD_3; Rad4 beta-hairpin domain 3</td>\n",
       "    </tr>\n",
       "    <tr>\n",
       "      <th>68</th>\n",
       "      <td>NaN</td>\n",
       "      <td>242</td>\n",
       "      <td>PC4</td>\n",
       "      <td>Atg31; Autophagy-related protein 31</td>\n",
       "    </tr>\n",
       "    <tr>\n",
       "      <th>69</th>\n",
       "      <td>NaN</td>\n",
       "      <td>122</td>\n",
       "      <td>PC5</td>\n",
       "      <td>ATP-synt_10; ATPase assembly factor ATP10</td>\n",
       "    </tr>\n",
       "    <tr>\n",
       "      <th>...</th>\n",
       "      <td>...</td>\n",
       "      <td>...</td>\n",
       "      <td>...</td>\n",
       "      <td>...</td>\n",
       "    </tr>\n",
       "    <tr>\n",
       "      <th>283</th>\n",
       "      <td>NaN</td>\n",
       "      <td>2961</td>\n",
       "      <td>PC278</td>\n",
       "      <td>vATP-synt_E; ATPase, V1/A1 complex, subunit E</td>\n",
       "    </tr>\n",
       "    <tr>\n",
       "      <th>284</th>\n",
       "      <td>NaN</td>\n",
       "      <td>2182</td>\n",
       "      <td>PC279</td>\n",
       "      <td>Ribosomal_L28e; Ribosomal L28e/Mak16</td>\n",
       "    </tr>\n",
       "    <tr>\n",
       "      <th>285</th>\n",
       "      <td>NaN</td>\n",
       "      <td>2182</td>\n",
       "      <td>PC280</td>\n",
       "      <td>Ribosomal_L28e; Ribosomal L28e/Mak16</td>\n",
       "    </tr>\n",
       "    <tr>\n",
       "      <th>286</th>\n",
       "      <td>NaN</td>\n",
       "      <td>68</td>\n",
       "      <td>PC281</td>\n",
       "      <td>AIRC; PurE domain</td>\n",
       "    </tr>\n",
       "    <tr>\n",
       "      <th>287</th>\n",
       "      <td>NaN</td>\n",
       "      <td>381</td>\n",
       "      <td>PC282</td>\n",
       "      <td>COP-gamma_platf; Coatomer, gamma subunit, appe...</td>\n",
       "    </tr>\n",
       "  </tbody>\n",
       "</table>\n",
       "<p>223 rows × 4 columns</p>\n",
       "</div>"
      ],
      "text/plain": [
       "    pca-component_x  domain-number pca-component_y  \\\n",
       "65              NaN           1028             PC0   \n",
       "66              NaN            305             PC2   \n",
       "67              NaN            268             PC3   \n",
       "68              NaN            242             PC4   \n",
       "69              NaN            122             PC5   \n",
       "..              ...            ...             ...   \n",
       "283             NaN           2961           PC278   \n",
       "284             NaN           2182           PC279   \n",
       "285             NaN           2182           PC280   \n",
       "286             NaN             68           PC281   \n",
       "287             NaN            381           PC282   \n",
       "\n",
       "                                    domain-description  \n",
       "65                 GatB_Yqey; Asn/Gln amidotransferase  \n",
       "66                     Brr6_like_C_C; Brl1/Brr6 domain  \n",
       "67                   BHD_3; Rad4 beta-hairpin domain 3  \n",
       "68                 Atg31; Autophagy-related protein 31  \n",
       "69           ATP-synt_10; ATPase assembly factor ATP10  \n",
       "..                                                 ...  \n",
       "283      vATP-synt_E; ATPase, V1/A1 complex, subunit E  \n",
       "284               Ribosomal_L28e; Ribosomal L28e/Mak16  \n",
       "285               Ribosomal_L28e; Ribosomal L28e/Mak16  \n",
       "286                                  AIRC; PurE domain  \n",
       "287  COP-gamma_platf; Coatomer, gamma subunit, appe...  \n",
       "\n",
       "[223 rows x 4 columns]"
      ]
     },
     "execution_count": 26,
     "metadata": {},
     "output_type": "execute_result"
    }
   ],
   "source": [
    "df_nsl_exclusive=pd.merge(df_sl,df_nsl,how='right',on='domain-number')\n",
    "\n",
    "domains_name=np.unique(data_domains['domain-name'])\n",
    "domains_description=np.unique(data_domains['domain-descrip'])\n",
    "\n",
    "df_nsl_exclusive['domain-description']=domains_description[df_nsl_exclusive['domain-number']]\n",
    "df_nsl_exclusive[pd.isnull(df_nsl_exclusive['pca-component_x'])]"
   ]
  },
  {
   "cell_type": "code",
   "execution_count": 27,
   "metadata": {
    "execution": {
     "iopub.execute_input": "2020-07-15T00:21:50.406756Z",
     "iopub.status.busy": "2020-07-15T00:21:50.406328Z",
     "iopub.status.idle": "2020-07-15T00:21:50.408913Z",
     "shell.execute_reply": "2020-07-15T00:21:50.409248Z"
    }
   },
   "outputs": [
    {
     "name": "stdout",
     "output_type": "stream",
     "text": [
      "The number of exclusive domains from non SL pairs, after PCA, is =  288 out of 544 so the 52.94117647058823 %\n"
     ]
    }
   ],
   "source": [
    "print('The number of exclusive domains from non SL pairs, after PCA, is = ',len(df_nsl_exclusive), 'out of', len(df_sl)+len(df_nsl), 'so the',100*len(df_nsl_exclusive)/(len(df_sl)+len(df_nsl)),'%')"
   ]
  },
  {
   "cell_type": "markdown",
   "metadata": {},
   "source": [
    "## Let see to the domains-number that get repeated after the PCA analysis , and selecting the most explanatory feature by its explained variance."
   ]
  },
  {
   "cell_type": "code",
   "execution_count": 28,
   "metadata": {
    "execution": {
     "iopub.execute_input": "2020-07-15T00:21:50.427793Z",
     "iopub.status.busy": "2020-07-15T00:21:50.427347Z",
     "iopub.status.idle": "2020-07-15T00:21:50.430397Z",
     "shell.execute_reply": "2020-07-15T00:21:50.430033Z"
    }
   },
   "outputs": [],
   "source": [
    "duplicated_features_sl=df_sl[df_sl.iloc[:,1].duplicated()]\n",
    "repeated_features_sl=pd.DataFrame()\n",
    "\n",
    "domains_name=np.unique(data_domains['domain-name'])\n",
    "domains_description=np.unique(data_domains['domain-descrip'])\n",
    "\n",
    "repeated_features_sl['domain-name']=domains_name[duplicated_features_sl.iloc[:,1]] \n",
    "repeated_features_sl['domain-description']=domains_description[duplicated_features_sl.iloc[:,1]]\n",
    "\n",
    "duplicated_features_nsl=df_nsl[df_nsl.iloc[:,1].duplicated()]\n",
    "repeated_features_nsl=pd.DataFrame()\n",
    "\n",
    "repeated_features_nsl['domain-name']=domains_name[duplicated_features_nsl.iloc[:,1]] \n",
    "repeated_features_nsl['domain-description']=domains_description[duplicated_features_nsl.iloc[:,1]]"
   ]
  },
  {
   "cell_type": "code",
   "execution_count": 29,
   "metadata": {
    "execution": {
     "iopub.execute_input": "2020-07-15T00:21:50.438312Z",
     "iopub.status.busy": "2020-07-15T00:21:50.434873Z",
     "iopub.status.idle": "2020-07-15T00:21:50.442053Z",
     "shell.execute_reply": "2020-07-15T00:21:50.442391Z"
    }
   },
   "outputs": [
    {
     "data": {
      "text/plain": [
       "((44, 4), (269, 4))"
      ]
     },
     "execution_count": 29,
     "metadata": {},
     "output_type": "execute_result"
    }
   ],
   "source": [
    "only_sl_pd=pd.merge(repeated_features_sl,repeated_features_nsl,how='left',on=['domain-name'])\n",
    "data_only_sl = only_sl_pd[pd.isnull(only_sl_pd['domain-description_y'])]\n",
    "data_only_sl['domain-description']=data_only_sl['domain-description_x']\n",
    "data_only_sl.shape,df_sl_exclusive.shape"
   ]
  },
  {
   "cell_type": "code",
   "execution_count": 30,
   "metadata": {
    "execution": {
     "iopub.execute_input": "2020-07-15T00:21:50.457631Z",
     "iopub.status.busy": "2020-07-15T00:21:50.457168Z",
     "iopub.status.idle": "2020-07-15T00:21:50.461828Z",
     "shell.execute_reply": "2020-07-15T00:21:50.461439Z"
    }
   },
   "outputs": [
    {
     "data": {
      "text/html": [
       "<div>\n",
       "<style scoped>\n",
       "    .dataframe tbody tr th:only-of-type {\n",
       "        vertical-align: middle;\n",
       "    }\n",
       "\n",
       "    .dataframe tbody tr th {\n",
       "        vertical-align: top;\n",
       "    }\n",
       "\n",
       "    .dataframe thead th {\n",
       "        text-align: right;\n",
       "    }\n",
       "</style>\n",
       "<table border=\"1\" class=\"dataframe\">\n",
       "  <thead>\n",
       "    <tr style=\"text-align: right;\">\n",
       "      <th></th>\n",
       "      <th>domain-name</th>\n",
       "      <th>domain-description_x</th>\n",
       "      <th>domain-description_y</th>\n",
       "    </tr>\n",
       "  </thead>\n",
       "  <tbody>\n",
       "    <tr>\n",
       "      <th>0</th>\n",
       "      <td>PF00533</td>\n",
       "      <td>NaN</td>\n",
       "      <td>BAR_2; BAR domain-containing family</td>\n",
       "    </tr>\n",
       "    <tr>\n",
       "      <th>1</th>\n",
       "      <td>PF08171</td>\n",
       "      <td>NaN</td>\n",
       "      <td>PTPLA; Protein-tyrosine phosphatase-like, PTPLA</td>\n",
       "    </tr>\n",
       "    <tr>\n",
       "      <th>2</th>\n",
       "      <td>PF00610</td>\n",
       "      <td>NaN</td>\n",
       "      <td>Beach; BEACH domain</td>\n",
       "    </tr>\n",
       "    <tr>\n",
       "      <th>3</th>\n",
       "      <td>PF01131</td>\n",
       "      <td>NaN</td>\n",
       "      <td>Cohesin_load; Chromatid cohesion factor MAU2</td>\n",
       "    </tr>\n",
       "    <tr>\n",
       "      <th>4</th>\n",
       "      <td>PF00433</td>\n",
       "      <td>NaN</td>\n",
       "      <td>Ank_5</td>\n",
       "    </tr>\n",
       "    <tr>\n",
       "      <th>5</th>\n",
       "      <td>PF00183</td>\n",
       "      <td>NaN</td>\n",
       "      <td>ANAPC5; Anaphase-promoting complex subunit 5</td>\n",
       "    </tr>\n",
       "    <tr>\n",
       "      <th>6</th>\n",
       "      <td>PF04423</td>\n",
       "      <td>NaN</td>\n",
       "      <td>MARVEL; Marvel domain</td>\n",
       "    </tr>\n",
       "    <tr>\n",
       "      <th>7</th>\n",
       "      <td>PF03097</td>\n",
       "      <td>NaN</td>\n",
       "      <td>Glutaredoxin</td>\n",
       "    </tr>\n",
       "    <tr>\n",
       "      <th>8</th>\n",
       "      <td>PF00580</td>\n",
       "      <td>NaN</td>\n",
       "      <td>BRCT_2; BRCT domain</td>\n",
       "    </tr>\n",
       "    <tr>\n",
       "      <th>9</th>\n",
       "      <td>PF09793</td>\n",
       "      <td>NaN</td>\n",
       "      <td>Ribosomal_L21p; Ribosomal protein L21-like</td>\n",
       "    </tr>\n",
       "    <tr>\n",
       "      <th>10</th>\n",
       "      <td>PF00575</td>\n",
       "      <td>NaN</td>\n",
       "      <td>BPL_N; Biotin-protein ligase, N-terminal</td>\n",
       "    </tr>\n",
       "    <tr>\n",
       "      <th>11</th>\n",
       "      <td>PF08690</td>\n",
       "      <td>NaN</td>\n",
       "      <td>RNA_pol_Rpb2_7; RNA polymerase Rpb2, domain 7</td>\n",
       "    </tr>\n",
       "    <tr>\n",
       "      <th>12</th>\n",
       "      <td>PF11496</td>\n",
       "      <td>NaN</td>\n",
       "      <td>SPX; SPX domain</td>\n",
       "    </tr>\n",
       "    <tr>\n",
       "      <th>13</th>\n",
       "      <td>PF00875</td>\n",
       "      <td>NaN</td>\n",
       "      <td>CRCB; Putative fluoride ion transporter CrcB</td>\n",
       "    </tr>\n",
       "    <tr>\n",
       "      <th>14</th>\n",
       "      <td>PF12998</td>\n",
       "      <td>NaN</td>\n",
       "      <td>TFIIIC_sub6; Transcription factor TFIIIC, tau5...</td>\n",
       "    </tr>\n",
       "    <tr>\n",
       "      <th>15</th>\n",
       "      <td>PF04000</td>\n",
       "      <td>NaN</td>\n",
       "      <td>Inhibitor_I9; Peptidase S8 propeptide/proteina...</td>\n",
       "    </tr>\n",
       "    <tr>\n",
       "      <th>16</th>\n",
       "      <td>PF06870</td>\n",
       "      <td>NaN</td>\n",
       "      <td>PA14; PA14 domain</td>\n",
       "    </tr>\n",
       "    <tr>\n",
       "      <th>17</th>\n",
       "      <td>PF05129</td>\n",
       "      <td>NaN</td>\n",
       "      <td>MitMem_reg; Rpn11/EIF3F, C-terminal</td>\n",
       "    </tr>\n",
       "    <tr>\n",
       "      <th>18</th>\n",
       "      <td>PF03357</td>\n",
       "      <td>NaN</td>\n",
       "      <td>HAND; ISWI, HAND domain</td>\n",
       "    </tr>\n",
       "    <tr>\n",
       "      <th>19</th>\n",
       "      <td>PF00071</td>\n",
       "      <td>NaN</td>\n",
       "      <td>AAA_8; Dynein heavy chain, P-loop containing D...</td>\n",
       "    </tr>\n",
       "    <tr>\n",
       "      <th>20</th>\n",
       "      <td>PF01105</td>\n",
       "      <td>NaN</td>\n",
       "      <td>Cnl2_NKP2; Kinetochore subunit NKP2</td>\n",
       "    </tr>\n",
       "    <tr>\n",
       "      <th>21</th>\n",
       "      <td>PF01105</td>\n",
       "      <td>NaN</td>\n",
       "      <td>Cnl2_NKP2; Kinetochore subunit NKP2</td>\n",
       "    </tr>\n",
       "    <tr>\n",
       "      <th>22</th>\n",
       "      <td>PF00628</td>\n",
       "      <td>NaN</td>\n",
       "      <td>C1_1; Protein kinase C-like, phorbol ester/dia...</td>\n",
       "    </tr>\n",
       "    <tr>\n",
       "      <th>23</th>\n",
       "      <td>PF09802</td>\n",
       "      <td>NaN</td>\n",
       "      <td>Ribosomal_L27; Ribosomal protein L27</td>\n",
       "    </tr>\n",
       "    <tr>\n",
       "      <th>24</th>\n",
       "      <td>PF09802</td>\n",
       "      <td>NaN</td>\n",
       "      <td>Ribosomal_L27; Ribosomal protein L27</td>\n",
       "    </tr>\n",
       "    <tr>\n",
       "      <th>25</th>\n",
       "      <td>PF05234</td>\n",
       "      <td>NaN</td>\n",
       "      <td>MutS_V; DNA mismatch repair protein MutS, C-te...</td>\n",
       "    </tr>\n",
       "    <tr>\n",
       "      <th>26</th>\n",
       "      <td>PF06220</td>\n",
       "      <td>NaN</td>\n",
       "      <td>Nrap_D5</td>\n",
       "    </tr>\n",
       "    <tr>\n",
       "      <th>27</th>\n",
       "      <td>PF14630</td>\n",
       "      <td>NaN</td>\n",
       "      <td>Ubie_methyltran; UbiE/COQ5 methyltransferase</td>\n",
       "    </tr>\n",
       "    <tr>\n",
       "      <th>28</th>\n",
       "      <td>PF08490</td>\n",
       "      <td>NaN</td>\n",
       "      <td>Phosducin; Phosducin, thioredoxin-like domain</td>\n",
       "    </tr>\n",
       "    <tr>\n",
       "      <th>29</th>\n",
       "      <td>PF14475</td>\n",
       "      <td>NaN</td>\n",
       "      <td>UDPGT; UDP-glucuronosyl/UDP-glucosyltransferase</td>\n",
       "    </tr>\n",
       "    <tr>\n",
       "      <th>30</th>\n",
       "      <td>PF12330</td>\n",
       "      <td>NaN</td>\n",
       "      <td>Sin3_corepress; Histone deacetylase interactin...</td>\n",
       "    </tr>\n",
       "    <tr>\n",
       "      <th>31</th>\n",
       "      <td>PF08325</td>\n",
       "      <td>NaN</td>\n",
       "      <td>Peptidase_S64; Peptidase S64, Ssy5</td>\n",
       "    </tr>\n",
       "    <tr>\n",
       "      <th>32</th>\n",
       "      <td>PF10447</td>\n",
       "      <td>NaN</td>\n",
       "      <td>SBF; Bile acid:sodium symporter/arsenical resi...</td>\n",
       "    </tr>\n",
       "    <tr>\n",
       "      <th>33</th>\n",
       "      <td>PF06624</td>\n",
       "      <td>NaN</td>\n",
       "      <td>OST3_OST6; Oligosaccharyl transferase complex,...</td>\n",
       "    </tr>\n",
       "    <tr>\n",
       "      <th>34</th>\n",
       "      <td>PF00928</td>\n",
       "      <td>NaN</td>\n",
       "      <td>CTU2; Cytoplasmic tRNA 2-thiolation protein 2</td>\n",
       "    </tr>\n",
       "    <tr>\n",
       "      <th>35</th>\n",
       "      <td>PF00137</td>\n",
       "      <td>NaN</td>\n",
       "      <td>AICARFT_IMPCHas; AICARFT/IMPCHase bienzyme</td>\n",
       "    </tr>\n",
       "    <tr>\n",
       "      <th>36</th>\n",
       "      <td>PF00097</td>\n",
       "      <td>NaN</td>\n",
       "      <td>ABC_membrane; ABC transporter type 1, transmem...</td>\n",
       "    </tr>\n",
       "    <tr>\n",
       "      <th>37</th>\n",
       "      <td>PF00097</td>\n",
       "      <td>NaN</td>\n",
       "      <td>ABC_membrane; ABC transporter type 1, transmem...</td>\n",
       "    </tr>\n",
       "    <tr>\n",
       "      <th>38</th>\n",
       "      <td>PF01208</td>\n",
       "      <td>NaN</td>\n",
       "      <td>DAD; DAD/Ost2</td>\n",
       "    </tr>\n",
       "    <tr>\n",
       "      <th>39</th>\n",
       "      <td>PF17060</td>\n",
       "      <td>NaN</td>\n",
       "      <td>zf-C2H2_jaz; Zinc finger, double-stranded RNA ...</td>\n",
       "    </tr>\n",
       "    <tr>\n",
       "      <th>40</th>\n",
       "      <td>PF12015</td>\n",
       "      <td>NaN</td>\n",
       "      <td>Sec31; Protein transport protein SEC31</td>\n",
       "    </tr>\n",
       "    <tr>\n",
       "      <th>41</th>\n",
       "      <td>PF17235</td>\n",
       "      <td>NaN</td>\n",
       "      <td>zf-NPL4; NPL4, zinc-binding putative</td>\n",
       "    </tr>\n",
       "    <tr>\n",
       "      <th>42</th>\n",
       "      <td>PF02732</td>\n",
       "      <td>NaN</td>\n",
       "      <td>Folliculin</td>\n",
       "    </tr>\n",
       "    <tr>\n",
       "      <th>43</th>\n",
       "      <td>PF00620</td>\n",
       "      <td>NaN</td>\n",
       "      <td>Brix; Brix domain</td>\n",
       "    </tr>\n",
       "    <tr>\n",
       "      <th>44</th>\n",
       "      <td>PF00620</td>\n",
       "      <td>NaN</td>\n",
       "      <td>Brix; Brix domain</td>\n",
       "    </tr>\n",
       "    <tr>\n",
       "      <th>45</th>\n",
       "      <td>PF09794</td>\n",
       "      <td>NaN</td>\n",
       "      <td>Ribosomal_L22; Ribosomal protein L22/L17</td>\n",
       "    </tr>\n",
       "    <tr>\n",
       "      <th>46</th>\n",
       "      <td>PF01728</td>\n",
       "      <td>NaN</td>\n",
       "      <td>DUF4187; Domain of unknown function DUF4187</td>\n",
       "    </tr>\n",
       "    <tr>\n",
       "      <th>47</th>\n",
       "      <td>PF05793</td>\n",
       "      <td>NaN</td>\n",
       "      <td>NTR2; Pre-mRNA-splicing factor Ntr2</td>\n",
       "    </tr>\n",
       "    <tr>\n",
       "      <th>48</th>\n",
       "      <td>PF12816</td>\n",
       "      <td>NaN</td>\n",
       "      <td>TAF8_C; Transcription factor TFIID, subunit 8,...</td>\n",
       "    </tr>\n",
       "    <tr>\n",
       "      <th>49</th>\n",
       "      <td>PF00793</td>\n",
       "      <td>NaN</td>\n",
       "      <td>COQ9</td>\n",
       "    </tr>\n",
       "    <tr>\n",
       "      <th>50</th>\n",
       "      <td>PF01214</td>\n",
       "      <td>NaN</td>\n",
       "      <td>DAO; FAD dependent oxidoreductase</td>\n",
       "    </tr>\n",
       "    <tr>\n",
       "      <th>51</th>\n",
       "      <td>PF09809</td>\n",
       "      <td>NaN</td>\n",
       "      <td>Ribosomal_L28e; Ribosomal L28e/Mak16</td>\n",
       "    </tr>\n",
       "  </tbody>\n",
       "</table>\n",
       "</div>"
      ],
      "text/plain": [
       "   domain-name domain-description_x  \\\n",
       "0      PF00533                  NaN   \n",
       "1      PF08171                  NaN   \n",
       "2      PF00610                  NaN   \n",
       "3      PF01131                  NaN   \n",
       "4      PF00433                  NaN   \n",
       "5      PF00183                  NaN   \n",
       "6      PF04423                  NaN   \n",
       "7      PF03097                  NaN   \n",
       "8      PF00580                  NaN   \n",
       "9      PF09793                  NaN   \n",
       "10     PF00575                  NaN   \n",
       "11     PF08690                  NaN   \n",
       "12     PF11496                  NaN   \n",
       "13     PF00875                  NaN   \n",
       "14     PF12998                  NaN   \n",
       "15     PF04000                  NaN   \n",
       "16     PF06870                  NaN   \n",
       "17     PF05129                  NaN   \n",
       "18     PF03357                  NaN   \n",
       "19     PF00071                  NaN   \n",
       "20     PF01105                  NaN   \n",
       "21     PF01105                  NaN   \n",
       "22     PF00628                  NaN   \n",
       "23     PF09802                  NaN   \n",
       "24     PF09802                  NaN   \n",
       "25     PF05234                  NaN   \n",
       "26     PF06220                  NaN   \n",
       "27     PF14630                  NaN   \n",
       "28     PF08490                  NaN   \n",
       "29     PF14475                  NaN   \n",
       "30     PF12330                  NaN   \n",
       "31     PF08325                  NaN   \n",
       "32     PF10447                  NaN   \n",
       "33     PF06624                  NaN   \n",
       "34     PF00928                  NaN   \n",
       "35     PF00137                  NaN   \n",
       "36     PF00097                  NaN   \n",
       "37     PF00097                  NaN   \n",
       "38     PF01208                  NaN   \n",
       "39     PF17060                  NaN   \n",
       "40     PF12015                  NaN   \n",
       "41     PF17235                  NaN   \n",
       "42     PF02732                  NaN   \n",
       "43     PF00620                  NaN   \n",
       "44     PF00620                  NaN   \n",
       "45     PF09794                  NaN   \n",
       "46     PF01728                  NaN   \n",
       "47     PF05793                  NaN   \n",
       "48     PF12816                  NaN   \n",
       "49     PF00793                  NaN   \n",
       "50     PF01214                  NaN   \n",
       "51     PF09809                  NaN   \n",
       "\n",
       "                                 domain-description_y  \n",
       "0                 BAR_2; BAR domain-containing family  \n",
       "1     PTPLA; Protein-tyrosine phosphatase-like, PTPLA  \n",
       "2                                 Beach; BEACH domain  \n",
       "3        Cohesin_load; Chromatid cohesion factor MAU2  \n",
       "4                                               Ank_5  \n",
       "5        ANAPC5; Anaphase-promoting complex subunit 5  \n",
       "6                               MARVEL; Marvel domain  \n",
       "7                                        Glutaredoxin  \n",
       "8                                 BRCT_2; BRCT domain  \n",
       "9          Ribosomal_L21p; Ribosomal protein L21-like  \n",
       "10           BPL_N; Biotin-protein ligase, N-terminal  \n",
       "11      RNA_pol_Rpb2_7; RNA polymerase Rpb2, domain 7  \n",
       "12                                    SPX; SPX domain  \n",
       "13       CRCB; Putative fluoride ion transporter CrcB  \n",
       "14  TFIIIC_sub6; Transcription factor TFIIIC, tau5...  \n",
       "15  Inhibitor_I9; Peptidase S8 propeptide/proteina...  \n",
       "16                                  PA14; PA14 domain  \n",
       "17                MitMem_reg; Rpn11/EIF3F, C-terminal  \n",
       "18                            HAND; ISWI, HAND domain  \n",
       "19  AAA_8; Dynein heavy chain, P-loop containing D...  \n",
       "20                Cnl2_NKP2; Kinetochore subunit NKP2  \n",
       "21                Cnl2_NKP2; Kinetochore subunit NKP2  \n",
       "22  C1_1; Protein kinase C-like, phorbol ester/dia...  \n",
       "23               Ribosomal_L27; Ribosomal protein L27  \n",
       "24               Ribosomal_L27; Ribosomal protein L27  \n",
       "25  MutS_V; DNA mismatch repair protein MutS, C-te...  \n",
       "26                                            Nrap_D5  \n",
       "27       Ubie_methyltran; UbiE/COQ5 methyltransferase  \n",
       "28      Phosducin; Phosducin, thioredoxin-like domain  \n",
       "29    UDPGT; UDP-glucuronosyl/UDP-glucosyltransferase  \n",
       "30  Sin3_corepress; Histone deacetylase interactin...  \n",
       "31                 Peptidase_S64; Peptidase S64, Ssy5  \n",
       "32  SBF; Bile acid:sodium symporter/arsenical resi...  \n",
       "33  OST3_OST6; Oligosaccharyl transferase complex,...  \n",
       "34      CTU2; Cytoplasmic tRNA 2-thiolation protein 2  \n",
       "35         AICARFT_IMPCHas; AICARFT/IMPCHase bienzyme  \n",
       "36  ABC_membrane; ABC transporter type 1, transmem...  \n",
       "37  ABC_membrane; ABC transporter type 1, transmem...  \n",
       "38                                      DAD; DAD/Ost2  \n",
       "39  zf-C2H2_jaz; Zinc finger, double-stranded RNA ...  \n",
       "40             Sec31; Protein transport protein SEC31  \n",
       "41               zf-NPL4; NPL4, zinc-binding putative  \n",
       "42                                         Folliculin  \n",
       "43                                  Brix; Brix domain  \n",
       "44                                  Brix; Brix domain  \n",
       "45           Ribosomal_L22; Ribosomal protein L22/L17  \n",
       "46        DUF4187; Domain of unknown function DUF4187  \n",
       "47                NTR2; Pre-mRNA-splicing factor Ntr2  \n",
       "48  TAF8_C; Transcription factor TFIID, subunit 8,...  \n",
       "49                                               COQ9  \n",
       "50                  DAO; FAD dependent oxidoreductase  \n",
       "51               Ribosomal_L28e; Ribosomal L28e/Mak16  "
      ]
     },
     "execution_count": 30,
     "metadata": {},
     "output_type": "execute_result"
    }
   ],
   "source": [
    "only_nsl_pd=pd.merge(repeated_features_sl,repeated_features_nsl,how='right',on=['domain-name'])\n",
    "data_only_nsl = only_nsl_pd[pd.isnull(only_nsl_pd['domain-description_x'])]\n",
    "data_only_nsl"
   ]
  },
  {
   "cell_type": "code",
   "execution_count": 31,
   "metadata": {
    "execution": {
     "iopub.execute_input": "2020-07-15T00:21:50.469253Z",
     "iopub.status.busy": "2020-07-15T00:21:50.468822Z",
     "iopub.status.idle": "2020-07-15T00:21:50.473684Z",
     "shell.execute_reply": "2020-07-15T00:21:50.473280Z"
    }
   },
   "outputs": [
    {
     "data": {
      "text/html": [
       "<div>\n",
       "<style scoped>\n",
       "    .dataframe tbody tr th:only-of-type {\n",
       "        vertical-align: middle;\n",
       "    }\n",
       "\n",
       "    .dataframe tbody tr th {\n",
       "        vertical-align: top;\n",
       "    }\n",
       "\n",
       "    .dataframe thead th {\n",
       "        text-align: right;\n",
       "    }\n",
       "</style>\n",
       "<table border=\"1\" class=\"dataframe\">\n",
       "  <thead>\n",
       "    <tr style=\"text-align: right;\">\n",
       "      <th></th>\n",
       "      <th>domain-name</th>\n",
       "      <th>domain-description_x</th>\n",
       "      <th>domain-description_y</th>\n",
       "    </tr>\n",
       "  </thead>\n",
       "  <tbody>\n",
       "  </tbody>\n",
       "</table>\n",
       "</div>"
      ],
      "text/plain": [
       "Empty DataFrame\n",
       "Columns: [domain-name, domain-description_x, domain-description_y]\n",
       "Index: []"
      ]
     },
     "execution_count": 31,
     "metadata": {},
     "output_type": "execute_result"
    }
   ],
   "source": [
    "shared_domains_pd=pd.merge(repeated_features_sl,repeated_features_nsl,how='inner',on=['domain-name'])\n",
    "shared_domains_pd\n"
   ]
  },
  {
   "cell_type": "code",
   "execution_count": 32,
   "metadata": {
    "execution": {
     "iopub.execute_input": "2020-07-15T00:21:50.483809Z",
     "iopub.status.busy": "2020-07-15T00:21:50.482014Z",
     "iopub.status.idle": "2020-07-15T00:21:51.553583Z",
     "shell.execute_reply": "2020-07-15T00:21:51.553963Z"
    }
   },
   "outputs": [
    {
     "data": {
      "text/plain": [
       "(0.0, 0.2)"
      ]
     },
     "execution_count": 32,
     "metadata": {},
     "output_type": "execute_result"
    },
    {
     "data": {
      "image/png": "[encoded data removed]",
      "text/plain": [
       "<Figure size 432x288 with 1 Axes>"
      ]
     },
     "metadata": {
      "filenames": {
       "image/png": "/home/runner/work/jupyter-book/jupyter-book/mini_book/docs/_build/jupyter_execute/prot_domains2lethality-FEATURES-POSTPROCESSING_47_1.png"
      },
      "needs_background": "light"
     },
     "output_type": "display_data"
    }
   ],
   "source": [
    "a_sl=x_sl.iloc[:,np.sort(df_sl.iloc[:,1])]\n",
    "a_sl.describe().loc['mean'].hist(bins=8),\n",
    "a_sl.describe().loc['std'].hist(bins=8,alpha=0.4)\n",
    "plt.xlim([0,0.2])"
   ]
  },
  {
   "cell_type": "code",
   "execution_count": 33,
   "metadata": {
    "execution": {
     "iopub.execute_input": "2020-07-15T00:21:51.563260Z",
     "iopub.status.busy": "2020-07-15T00:21:51.561452Z",
     "iopub.status.idle": "2020-07-15T00:21:52.760199Z",
     "shell.execute_reply": "2020-07-15T00:21:52.759809Z"
    }
   },
   "outputs": [
    {
     "data": {
      "text/plain": [
       "(0.0, 0.2)"
      ]
     },
     "execution_count": 33,
     "metadata": {},
     "output_type": "execute_result"
    },
    {
     "data": {
      "image/png": "[encoded data removed]",
      "text/plain": [
       "<Figure size 432x288 with 1 Axes>"
      ]
     },
     "metadata": {
      "filenames": {
       "image/png": "/home/runner/work/jupyter-book/jupyter-book/mini_book/docs/_build/jupyter_execute/prot_domains2lethality-FEATURES-POSTPROCESSING_48_1.png"
      },
      "needs_background": "light"
     },
     "output_type": "display_data"
    }
   ],
   "source": [
    "a_nsl=x_nsl.iloc[:,np.sort(df_nsl.iloc[:,1])]\n",
    "a_nsl.describe().loc['mean'].hist(bins=8),\n",
    "a_nsl.describe().loc['std'].hist(bins=8,alpha=0.4)\n",
    "plt.xlim([0,0.2])"
   ]
  },
  {
   "cell_type": "markdown",
   "metadata": {},
   "source": [
    "### Proof of concept with *BEM1*\n",
    "\n",
    "- Gather the domains of SL and nSL pairs from BEM1\n",
    "- Check if the domains for the SL and nSL pairs are inside the most important domains after PCA."
   ]
  },
  {
   "cell_type": "code",
   "execution_count": 34,
   "metadata": {
    "execution": {
     "iopub.execute_input": "2020-07-15T00:21:52.766625Z",
     "iopub.status.busy": "2020-07-15T00:21:52.766181Z",
     "iopub.status.idle": "2020-07-15T00:21:52.769148Z",
     "shell.execute_reply": "2020-07-15T00:21:52.768765Z"
    }
   },
   "outputs": [],
   "source": [
    "domains_bem1=data_domains[data_domains['name']=='BEM1']['domain-descrip']\n",
    "sl_bem1=data_sl[data_sl['gene-query-name']=='BEM1']['gene-target-name']"
   ]
  },
  {
   "cell_type": "code",
   "execution_count": 35,
   "metadata": {
    "execution": {
     "iopub.execute_input": "2020-07-15T00:21:52.773342Z",
     "iopub.status.busy": "2020-07-15T00:21:52.772653Z",
     "iopub.status.idle": "2020-07-15T00:21:52.777229Z",
     "shell.execute_reply": "2020-07-15T00:21:52.776847Z"
    }
   },
   "outputs": [
    {
     "data": {
      "text/plain": [
       "2846      BEM2\n",
       "2847     CDC24\n",
       "5004      MSB1\n",
       "13777     SMI1\n",
       "13778     BNI1\n",
       "13779     BEM2\n",
       "14385     SKN7\n",
       "Name: gene-target-name, dtype: object"
      ]
     },
     "execution_count": 35,
     "metadata": {},
     "output_type": "execute_result"
    }
   ],
   "source": [
    "sl_bem1"
   ]
  },
  {
   "cell_type": "code",
   "execution_count": 36,
   "metadata": {
    "execution": {
     "iopub.execute_input": "2020-07-15T00:21:52.789078Z",
     "iopub.status.busy": "2020-07-15T00:21:52.788635Z",
     "iopub.status.idle": "2020-07-15T00:21:52.793220Z",
     "shell.execute_reply": "2020-07-15T00:21:52.792828Z"
    }
   },
   "outputs": [
    {
     "data": {
      "text/html": [
       "<div>\n",
       "<style scoped>\n",
       "    .dataframe tbody tr th:only-of-type {\n",
       "        vertical-align: middle;\n",
       "    }\n",
       "\n",
       "    .dataframe tbody tr th {\n",
       "        vertical-align: top;\n",
       "    }\n",
       "\n",
       "    .dataframe thead th {\n",
       "        text-align: right;\n",
       "    }\n",
       "</style>\n",
       "<table border=\"1\" class=\"dataframe\">\n",
       "  <thead>\n",
       "    <tr style=\"text-align: right;\">\n",
       "      <th></th>\n",
       "      <th>gene-query</th>\n",
       "      <th>gene-target</th>\n",
       "      <th>gene-query-name</th>\n",
       "      <th>gene-target-name</th>\n",
       "      <th>gene-query-description</th>\n",
       "      <th>gene-target-description</th>\n",
       "      <th>interaction-type</th>\n",
       "      <th>paper-source</th>\n",
       "    </tr>\n",
       "  </thead>\n",
       "  <tbody>\n",
       "    <tr>\n",
       "      <th>2846</th>\n",
       "      <td>YBR200W</td>\n",
       "      <td>YER155C</td>\n",
       "      <td>BEM1</td>\n",
       "      <td>BEM2</td>\n",
       "      <td>SRO1|phosphatidylinositol-3-phosphate-binding ...</td>\n",
       "      <td>IPL2|SUP9|TSL1|L000000168</td>\n",
       "      <td>Synthetic Lethality</td>\n",
       "      <td>Peterson J (1994)</td>\n",
       "    </tr>\n",
       "    <tr>\n",
       "      <th>2847</th>\n",
       "      <td>YBR200W</td>\n",
       "      <td>YAL041W</td>\n",
       "      <td>BEM1</td>\n",
       "      <td>CDC24</td>\n",
       "      <td>SRO1|phosphatidylinositol-3-phosphate-binding ...</td>\n",
       "      <td>CLS4|Rho family guanine nucleotide exchange fa...</td>\n",
       "      <td>Synthetic Lethality</td>\n",
       "      <td>Peterson J (1994)</td>\n",
       "    </tr>\n",
       "    <tr>\n",
       "      <th>5004</th>\n",
       "      <td>YBR200W</td>\n",
       "      <td>YOR188W</td>\n",
       "      <td>BEM1</td>\n",
       "      <td>MSB1</td>\n",
       "      <td>SRO1|phosphatidylinositol-3-phosphate-binding ...</td>\n",
       "      <td>L000001184</td>\n",
       "      <td>Synthetic Lethality</td>\n",
       "      <td>Bender A (1991)</td>\n",
       "    </tr>\n",
       "    <tr>\n",
       "      <th>13777</th>\n",
       "      <td>YBR200W</td>\n",
       "      <td>YGR229C</td>\n",
       "      <td>BEM1</td>\n",
       "      <td>SMI1</td>\n",
       "      <td>SRO1|phosphatidylinositol-3-phosphate-binding ...</td>\n",
       "      <td>KNR4|L000000909</td>\n",
       "      <td>Synthetic Lethality</td>\n",
       "      <td>Gorelik M (2011)</td>\n",
       "    </tr>\n",
       "    <tr>\n",
       "      <th>13778</th>\n",
       "      <td>YBR200W</td>\n",
       "      <td>YNL271C</td>\n",
       "      <td>BEM1</td>\n",
       "      <td>BNI1</td>\n",
       "      <td>SRO1|phosphatidylinositol-3-phosphate-binding ...</td>\n",
       "      <td>PPF3|SHE5|formin BNI1|L000000190</td>\n",
       "      <td>Synthetic Lethality</td>\n",
       "      <td>Gorelik M (2011)</td>\n",
       "    </tr>\n",
       "    <tr>\n",
       "      <th>13779</th>\n",
       "      <td>YBR200W</td>\n",
       "      <td>YER155C</td>\n",
       "      <td>BEM1</td>\n",
       "      <td>BEM2</td>\n",
       "      <td>SRO1|phosphatidylinositol-3-phosphate-binding ...</td>\n",
       "      <td>IPL2|SUP9|TSL1|L000000168</td>\n",
       "      <td>Synthetic Lethality</td>\n",
       "      <td>Gorelik M (2011)</td>\n",
       "    </tr>\n",
       "    <tr>\n",
       "      <th>14385</th>\n",
       "      <td>YBR200W</td>\n",
       "      <td>YHR206W</td>\n",
       "      <td>BEM1</td>\n",
       "      <td>SKN7</td>\n",
       "      <td>SRO1|phosphatidylinositol-3-phosphate-binding ...</td>\n",
       "      <td>BRY1|POS9|kinase-regulated stress-responsive t...</td>\n",
       "      <td>Dosage Lethality</td>\n",
       "      <td>Bouquin N (1999)</td>\n",
       "    </tr>\n",
       "  </tbody>\n",
       "</table>\n",
       "</div>"
      ],
      "text/plain": [
       "      gene-query gene-target gene-query-name gene-target-name  \\\n",
       "2846     YBR200W     YER155C            BEM1             BEM2   \n",
       "2847     YBR200W     YAL041W            BEM1            CDC24   \n",
       "5004     YBR200W     YOR188W            BEM1             MSB1   \n",
       "13777    YBR200W     YGR229C            BEM1             SMI1   \n",
       "13778    YBR200W     YNL271C            BEM1             BNI1   \n",
       "13779    YBR200W     YER155C            BEM1             BEM2   \n",
       "14385    YBR200W     YHR206W            BEM1             SKN7   \n",
       "\n",
       "                                  gene-query-description  \\\n",
       "2846   SRO1|phosphatidylinositol-3-phosphate-binding ...   \n",
       "2847   SRO1|phosphatidylinositol-3-phosphate-binding ...   \n",
       "5004   SRO1|phosphatidylinositol-3-phosphate-binding ...   \n",
       "13777  SRO1|phosphatidylinositol-3-phosphate-binding ...   \n",
       "13778  SRO1|phosphatidylinositol-3-phosphate-binding ...   \n",
       "13779  SRO1|phosphatidylinositol-3-phosphate-binding ...   \n",
       "14385  SRO1|phosphatidylinositol-3-phosphate-binding ...   \n",
       "\n",
       "                                 gene-target-description     interaction-type  \\\n",
       "2846                           IPL2|SUP9|TSL1|L000000168  Synthetic Lethality   \n",
       "2847   CLS4|Rho family guanine nucleotide exchange fa...  Synthetic Lethality   \n",
       "5004                                          L000001184  Synthetic Lethality   \n",
       "13777                                    KNR4|L000000909  Synthetic Lethality   \n",
       "13778                   PPF3|SHE5|formin BNI1|L000000190  Synthetic Lethality   \n",
       "13779                          IPL2|SUP9|TSL1|L000000168  Synthetic Lethality   \n",
       "14385  BRY1|POS9|kinase-regulated stress-responsive t...     Dosage Lethality   \n",
       "\n",
       "            paper-source  \n",
       "2846   Peterson J (1994)  \n",
       "2847   Peterson J (1994)  \n",
       "5004     Bender A (1991)  \n",
       "13777   Gorelik M (2011)  \n",
       "13778   Gorelik M (2011)  \n",
       "13779   Gorelik M (2011)  \n",
       "14385   Bouquin N (1999)  "
      ]
     },
     "execution_count": 36,
     "metadata": {},
     "output_type": "execute_result"
    }
   ],
   "source": [
    "data_sl[data_sl['gene-query-name']=='BEM1']"
   ]
  },
  {
   "cell_type": "code",
   "execution_count": null,
   "metadata": {},
   "outputs": [],
   "source": []
  }
 ],
 "metadata": {
  "jupytext": {
   "text_representation": {
    "extension": ".md",
    "format_name": "myst"
   }
  },
  "kernelspec": {
   "display_name": "Python 3",
   "language": "python",
   "name": "python3"
  },
  "language_info": {
   "codemirror_mode": {
    "name": "ipython",
    "version": 3
   },
   "file_extension": ".py",
   "mimetype": "text/x-python",
   "name": "python",
   "nbconvert_exporter": "python",
   "pygments_lexer": "ipython3",
   "version": "3.7.6"
  },
  "source_map": [
   10,
   18,
   29,
   36,
   57,
   66,
   98,
   101,
   105,
   128,
   131,
   135,
   139,
   145,
   178,
   184,
   188,
   206,
   210,
   218,
   222,
   225,
   229,
   234,
   238,
   244,
   248,
   253,
   257,
   267,
   269,
   273,
   306,
   311,
   313,
   317,
   328,
   330,
   334,
   344,
   348,
   358,
   360,
   364,
   381,
   388,
   394,
   400,
   407,
   412,
   419,
   424,
   428,
   432
  ]
 },
 "nbformat": 4,
 "nbformat_minor": 4
}