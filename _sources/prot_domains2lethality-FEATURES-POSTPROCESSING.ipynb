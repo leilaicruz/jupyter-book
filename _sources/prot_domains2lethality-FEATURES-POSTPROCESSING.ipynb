{
 "cells": [
  {
   "cell_type": "markdown",
   "metadata": {},
   "source": [
    "# Feature postprocessing from paper.\n",
    "- Title:  \"Predicting yeast synthetic lethal genetic interactions using protein domains\"\n",
    "- Authors: Bo Li, Feng Luo,School of Computing,Clemson University,Clemson, SC, USA\n",
    "- e-mail: bol, luofeng@clemson.edu\n",
    "- year:2009"
   ]
  },
  {
   "cell_type": "code",
   "execution_count": 1,
   "metadata": {
    "execution": {
     "iopub.execute_input": "2020-07-22T14:44:42.513459Z",
     "iopub.status.busy": "2020-07-22T14:44:42.512909Z",
     "iopub.status.idle": "2020-07-22T14:44:43.187471Z",
     "shell.execute_reply": "2020-07-22T14:44:43.186944Z"
    }
   },
   "outputs": [],
   "source": [
    "import pandas as pd\n",
    "import numpy as np\n",
    "import matplotlib.pyplot as plt\n",
    "from collections import defaultdict \n",
    "import seaborn as sns\n",
    "import matplotlib.cm as cm\n",
    "import scipy as scipy\n",
    "import random"
   ]
  },
  {
   "cell_type": "markdown",
   "metadata": {
    "jupyter": {
     "source_hidden": true
    }
   },
   "source": [
    "### Importing datasets \n",
    "\n",
    "#### Link to the github repo where the datasets to be downloaded:\n",
    "[DOWNLOAD THE DATASETS HERE](https://github.com/leilaicruz/machine-learning-for-yeast/tree/dev_Leila/datasets-for-learning)"
   ]
  },
  {
   "cell_type": "code",
   "execution_count": 2,
   "metadata": {
    "execution": {
     "iopub.execute_input": "2020-07-22T14:44:43.194282Z",
     "iopub.status.busy": "2020-07-22T14:44:43.193304Z",
     "iopub.status.idle": "2020-07-22T14:44:49.700946Z",
     "shell.execute_reply": "2020-07-22T14:44:49.700092Z"
    }
   },
   "outputs": [],
   "source": [
    "import os\n",
    "script_dir = os.path.dirname('__file__') #<-- absolute dir the script is in\n",
    "rel_path_SL = \"datasets/data-synthetic-lethals.xlsx\"\n",
    "rel_path_nSL=\"datasets/data-positive-genetic.xlsx\"\n",
    "rel_path_domains=\"datasets/proteins-domains-from-Pfam.xlsx\"\n",
    "\n",
    "abs_file_path_SL = os.path.join(script_dir, rel_path_SL)\n",
    "abs_file_path_nSL = os.path.join(script_dir, rel_path_nSL)\n",
    "abs_file_path_domains = os.path.join(script_dir, rel_path_domains)\n",
    "\n",
    "# os.chdir('mini_book/docs/') #<-- for binder os.chdir('../')\n",
    "# os.chdir('../')\n",
    "my_path_sl= abs_file_path_SL\n",
    "my_path_non_sl=abs_file_path_nSL\n",
    "my_path_domains=abs_file_path_domains\n",
    "\n",
    "data_sl=pd.read_excel(my_path_sl,header=0)\n",
    "data_domains=pd.read_excel(my_path_domains,header=0,index_col='Unnamed: 0')\n",
    "data_domains=data_domains.dropna()\n",
    "data_nonsl=pd.read_excel(my_path_non_sl,header=0)"
   ]
  },
  {
   "cell_type": "markdown",
   "metadata": {},
   "source": [
    "## Building the feature matrix\n",
    "One matrix for true SL where each row is one pair of SL. Every raw will be a vector of 0,1 or 2 depending on the comparison with the domain list. For row i the jth element = 0 if the jth element of the domain list is not in neither protein A and B, 1, if it is in one of them and 2 if it is in both of them .\n",
    "\n",
    "### Building the list of proteins domains id per protein pair separately :\n",
    "- List of protein A: Search for the Sl/nSL database the query gene name and look in the protein domain database which protein domains id has each of those queries.\n",
    "- List of protein B: Search for the Sl/nSL database the target gene name of the previous query and look in the protein domain database which protein domains id has each of those target genes."
   ]
  },
  {
   "cell_type": "code",
   "execution_count": 3,
   "metadata": {
    "execution": {
     "iopub.execute_input": "2020-07-22T14:44:49.716071Z",
     "iopub.status.busy": "2020-07-22T14:44:49.715568Z",
     "iopub.status.idle": "2020-07-22T14:44:51.453827Z",
     "shell.execute_reply": "2020-07-22T14:44:51.454191Z"
    }
   },
   "outputs": [],
   "source": [
    "# Selecting the meaningful columns in the respective dataset\n",
    "domain_id_list=data_domains['domain-name']\n",
    "query_gene=data_sl['gene-query-name']\n",
    "target_gene=data_sl['gene-target-name']\n",
    "query_gene_nonlethal=data_nonsl['gene-query-name']\n",
    "target_gene_nonlethal=data_nonsl['gene-target-name']\n",
    "\n",
    "\n",
    "\n",
    "# Initialising the arrays\n",
    "protein_a_list=[]\n",
    "protein_b_list=[]\n",
    "protein_a_list_non=[]\n",
    "protein_b_list_non=[]\n",
    "\n",
    "population = np.arange(0,len(data_sl))\n",
    "\n",
    "# For loop for 10000 pairs sampled randomly from the SL/nSl pair list , and creating a big array of proteind domains id per protein pair\n",
    "\n",
    "for m in random.sample(list(population), 500):\n",
    "    protein_a=data_domains[data_domains['name']==query_gene[m]]\n",
    "    protein_b=data_domains[data_domains['name']==target_gene[m]]\n",
    "    protein_a_list.append(protein_a['domain-name'].tolist())\n",
    "    protein_b_list.append(protein_b['domain-name'].tolist())\n",
    "\n",
    "    protein_a_non=data_domains[data_domains['name']==query_gene_nonlethal[m]]\n",
    "    protein_b_non=data_domains[data_domains['name']==target_gene_nonlethal[m]]\n",
    "    protein_a_list_non.append(protein_a_non['domain-name'].tolist())\n",
    "    protein_b_list_non.append(protein_b_non['domain-name'].tolist())"
   ]
  },
  {
   "cell_type": "code",
   "execution_count": 4,
   "metadata": {
    "execution": {
     "iopub.execute_input": "2020-07-22T14:44:51.459817Z",
     "iopub.status.busy": "2020-07-22T14:44:51.459342Z",
     "iopub.status.idle": "2020-07-22T14:44:51.462237Z",
     "shell.execute_reply": "2020-07-22T14:44:51.461872Z"
    }
   },
   "outputs": [
    {
     "name": "stdout",
     "output_type": "stream",
     "text": [
      "We are going to analyze 500 protein pairs, out of 17871 SL protein pairs\n",
      "We are going to analyze 500 protein pairs, out of 43340 positive protein pairs\n"
     ]
    }
   ],
   "source": [
    "print('We are going to analyze',len((protein_a_list)) ,'protein pairs, out of',len(data_sl),'SL protein pairs')\n",
    "print('We are going to analyze',len((protein_a_list_non)) ,'protein pairs, out of',len(data_nonsl),'positive protein pairs')"
   ]
  },
  {
   "cell_type": "markdown",
   "metadata": {},
   "source": [
    "### Postprocessing #1:  Remove protein pairs from study if either protein in the pair does not contain any domain"
   ]
  },
  {
   "cell_type": "code",
   "execution_count": 5,
   "metadata": {
    "execution": {
     "iopub.execute_input": "2020-07-22T14:44:51.470963Z",
     "iopub.status.busy": "2020-07-22T14:44:51.470501Z",
     "iopub.status.idle": "2020-07-22T14:44:51.473626Z",
     "shell.execute_reply": "2020-07-22T14:44:51.473244Z"
    }
   },
   "outputs": [],
   "source": [
    "def remove_empty_domains(protein_list_search,protein_list_pair):\n",
    "    index=[]\n",
    "    for i in np.arange(0,len(protein_list_search)):\n",
    "        if protein_list_search[i]==[] or protein_list_pair[i]==[]:\n",
    "            index.append(i) ## index of empty values for the protein_a_list meaning they dont have any annotated domain\n",
    "\n",
    "    y=[x for x in np.arange(0,len(protein_list_search)) if x not in index] # a list with non empty values from protein_a list\n",
    "\n",
    "    protein_list_search_new=[]\n",
    "    protein_list_pair_new=[]\n",
    "    for i in y:\n",
    "        protein_list_search_new.append(protein_list_search[i])\n",
    "        protein_list_pair_new.append(protein_list_pair[i])\n",
    "    return protein_list_search_new,protein_list_pair_new\n",
    "\n",
    "## evaluating the function\n",
    "\n",
    "protein_a_list_new,protein_b_list_new=remove_empty_domains(protein_a_list,protein_b_list)\n",
    "\n",
    "protein_a_list_non_new,protein_b_list_non_new=remove_empty_domains(protein_a_list_non,protein_b_list_non)"
   ]
  },
  {
   "cell_type": "code",
   "execution_count": 6,
   "metadata": {
    "execution": {
     "iopub.execute_input": "2020-07-22T14:44:51.479480Z",
     "iopub.status.busy": "2020-07-22T14:44:51.478449Z",
     "iopub.status.idle": "2020-07-22T14:44:51.481017Z",
     "shell.execute_reply": "2020-07-22T14:44:51.480622Z"
    }
   },
   "outputs": [
    {
     "name": "stdout",
     "output_type": "stream",
     "text": [
      "The empty domain in the SL were: 88 out of 500 domains\n",
      "The empty domain in the nSL were: 74 out of 500 domains\n"
     ]
    }
   ],
   "source": [
    "print('The empty domain in the SL were:', len(protein_a_list)-len(protein_a_list_new), 'out of', len(protein_a_list),'domains')\n",
    "print('The empty domain in the nSL were:', len(protein_a_list_non)-len(protein_a_list_non_new), 'out of', len(protein_a_list_non),'domains')"
   ]
  },
  {
   "cell_type": "markdown",
   "metadata": {},
   "source": [
    "### Feature engineering: Select from each ordered indexes of domain id list which of them appear once, in both or in any of the domains of each protein pair"
   ]
  },
  {
   "cell_type": "markdown",
   "metadata": {},
   "source": [
    "#### Define function `get_indexes`"
   ]
  },
  {
   "cell_type": "code",
   "execution_count": 7,
   "metadata": {
    "execution": {
     "iopub.execute_input": "2020-07-22T14:44:51.487409Z",
     "iopub.status.busy": "2020-07-22T14:44:51.486921Z",
     "iopub.status.idle": "2020-07-22T14:44:51.489201Z",
     "shell.execute_reply": "2020-07-22T14:44:51.489555Z"
    }
   },
   "outputs": [
    {
     "data": {
      "text/plain": [
       "[1, 2]"
      ]
     },
     "execution_count": 7,
     "metadata": {},
     "output_type": "execute_result"
    }
   ],
   "source": [
    "get_indexes = lambda x, xs: [i for (y, i) in zip(xs, range(len(xs))) if x == y] # a function that give the index of whether a value appear in array or not\n",
    "a=[1,2,2,4,5,6,7,8,9,10]\n",
    "get_indexes(2,a)"
   ]
  },
  {
   "cell_type": "code",
   "execution_count": 8,
   "metadata": {
    "execution": {
     "iopub.execute_input": "2020-07-22T14:44:51.498135Z",
     "iopub.status.busy": "2020-07-22T14:44:51.497119Z",
     "iopub.status.idle": "2020-07-22T14:44:51.498661Z",
     "shell.execute_reply": "2020-07-22T14:44:51.499011Z"
    }
   },
   "outputs": [],
   "source": [
    "def feature_building(protein_a_list_new,protein_b_list_new):\n",
    "    x = np.unique(domain_id_list)\n",
    "    ## To avoid taking repeated domains from one protein of the pairs , lets reduced the domains of each protein from the pairs to their unique members\n",
    "    protein_a_list_unique=[]\n",
    "    protein_b_list_unique=[]\n",
    "    for i in np.arange(0,len(protein_a_list_new)):\n",
    "        protein_a_list_unique.append(np.unique(protein_a_list_new[i]))\n",
    "        protein_b_list_unique.append(np.unique(protein_b_list_new[i]))\n",
    "        \n",
    "    protein_feat_true=np.zeros(shape=(len(x),len(protein_a_list_unique)))\n",
    "    pair_a_b_array=[]\n",
    "    for i in np.arange(0,len(protein_a_list_unique)):\n",
    "        index_a=[]\n",
    "        \n",
    "        pair=[protein_a_list_unique[i],protein_b_list_unique[i]]\n",
    "        pair_a_b=np.concatenate(pair).ravel()\n",
    "        pair_a_b_array.append(pair_a_b)\n",
    "\n",
    "    j=0\n",
    "    for i in pair_a_b_array:  \n",
    "        array,index,counts=np.unique(i,return_index=True,return_counts=True)\n",
    "        \n",
    "        for k,m in zip(counts,array):\n",
    "            if k ==2:\n",
    "                protein_feat_true[get_indexes(m,x),j]=2\n",
    "                \n",
    "            if k==1:\n",
    "                protein_feat_true[get_indexes(m,x),j]=1\n",
    "        j=j+1\n",
    "    return protein_feat_true"
   ]
  },
  {
   "cell_type": "code",
   "execution_count": 9,
   "metadata": {
    "execution": {
     "iopub.execute_input": "2020-07-22T14:44:51.518228Z",
     "iopub.status.busy": "2020-07-22T14:44:51.517333Z",
     "iopub.status.idle": "2020-07-22T14:44:52.079953Z",
     "shell.execute_reply": "2020-07-22T14:44:52.080343Z"
    }
   },
   "outputs": [],
   "source": [
    "protein_feat_true=feature_building(protein_b_list_new=protein_b_list_new,protein_a_list_new=protein_a_list_new)\n",
    "protein_feat_true_pd=pd.DataFrame(protein_feat_true.T)\n",
    "\n",
    "protein_feat_non_true=feature_building(protein_b_list_new=protein_b_list_non_new,protein_a_list_new=protein_a_list_non_new)\n",
    "protein_feat_non_true_pd=pd.DataFrame(protein_feat_non_true.T)"
   ]
  },
  {
   "cell_type": "markdown",
   "metadata": {},
   "source": [
    "### How many ones and twos are in each dataset"
   ]
  },
  {
   "cell_type": "code",
   "execution_count": 10,
   "metadata": {
    "execution": {
     "iopub.execute_input": "2020-07-22T14:44:52.087543Z",
     "iopub.status.busy": "2020-07-22T14:44:52.086607Z",
     "iopub.status.idle": "2020-07-22T14:44:52.176505Z",
     "shell.execute_reply": "2020-07-22T14:44:52.176091Z"
    }
   },
   "outputs": [
    {
     "name": "stdout",
     "output_type": "stream",
     "text": [
      "fraction of twos in the SL array is 3.129262617347348e-05\n",
      "fraction of ones in the SL array is 0.0009796999117387467\n",
      "fraction of twos in the PI array is 8.536064874093044e-06\n",
      "fraction of ones in the PI array is 0.0009094789120397315\n"
     ]
    }
   ],
   "source": [
    "index_2_true=protein_feat_true_pd.where(protein_feat_true_pd==2)\n",
    "index_2_true_count=index_2_true.count(axis=1).sum()\n",
    "\n",
    "index_1_true=protein_feat_true_pd.where(protein_feat_true_pd==1)\n",
    "index_1_true_count=index_1_true.count(axis=1).sum()\n",
    "\n",
    "index_2_nontrue=protein_feat_non_true_pd.where(protein_feat_non_true_pd==2)\n",
    "index_2_nontrue_count=index_2_nontrue.count(axis=1).sum()\n",
    "\n",
    "index_1_nontrue=protein_feat_non_true_pd.where(protein_feat_non_true_pd==1)\n",
    "index_1_nontrue_count=index_1_nontrue.count(axis=1).sum()\n",
    "\n",
    "\n",
    "print('fraction of twos in the SL array is',index_2_true_count/(len(protein_feat_true_pd.index)*len(protein_feat_true_pd.columns)))\n",
    "print('fraction of ones in the SL array is',index_1_true_count/(len(protein_feat_true_pd.index)*len(protein_feat_true_pd.columns)))\n",
    "print('fraction of twos in the PI array is',index_2_nontrue_count/(len(protein_feat_non_true_pd.index)*len(protein_feat_non_true_pd.columns)))\n",
    "print('fraction of ones in the PI array is',index_1_nontrue_count/(len(protein_feat_non_true_pd.index)*len(protein_feat_non_true_pd.columns)))"
   ]
  },
  {
   "cell_type": "markdown",
   "metadata": {},
   "source": [
    "#### Bar plot to visualize these numbers"
   ]
  },
  {
   "cell_type": "code",
   "execution_count": 11,
   "metadata": {
    "execution": {
     "iopub.execute_input": "2020-07-22T14:44:52.203446Z",
     "iopub.status.busy": "2020-07-22T14:44:52.192810Z",
     "iopub.status.idle": "2020-07-22T14:44:52.580476Z",
     "shell.execute_reply": "2020-07-22T14:44:52.580056Z"
    }
   },
   "outputs": [
    {
     "data": {
      "text/plain": [
       "([0, 1, 2, 3],\n",
       " [Text(0, 0, ''), Text(0, 0, ''), Text(0, 0, ''), Text(0, 0, '')])"
      ]
     },
     "execution_count": 11,
     "metadata": {},
     "output_type": "execute_result"
    },
    {
     "data": {
      "image/png": "[encoded data removed]",
      "text/plain": [
       "<Figure size 432x288 with 1 Axes>"
      ]
     },
     "metadata": {
      "filenames": {
       "image/png": "/home/runner/work/jupyter-book/jupyter-book/mini_book/docs/_build/jupyter_execute/prot_domains2lethality-FEATURES-POSTPROCESSING_18_1.png"
      },
      "needs_background": "light"
     },
     "output_type": "display_data"
    }
   ],
   "source": [
    "plt.bar(['fraction of 2 in the nSL','fraction of 1 in the nSL'],[index_2_nontrue_count/(len(protein_feat_non_true_pd.index)*len(protein_feat_non_true_pd.columns)),index_1_nontrue_count/(len(protein_feat_non_true_pd.index)*len(protein_feat_non_true_pd.columns))],alpha=0.6,color=['blue','lightblue']), \n",
    "\n",
    "plt.bar(['fraction of 2 in SL ','fraction of 1 in SL'],[index_2_true_count/(len(protein_feat_true_pd.index)*len(protein_feat_true_pd.columns)),index_1_true_count/(len(protein_feat_true_pd.index)*len(protein_feat_true_pd.columns))],alpha=0.6,color=['coral','lightcoral'])\n",
    "\n",
    "plt.ylabel('Fraction from the population')\n",
    "plt.yscale('log')\n",
    "plt.xticks(rotation=40)"
   ]
  },
  {
   "cell_type": "markdown",
   "metadata": {},
   "source": [
    "#### Adding the labels(response variables) to each dataset"
   ]
  },
  {
   "cell_type": "code",
   "execution_count": 12,
   "metadata": {
    "execution": {
     "iopub.execute_input": "2020-07-22T14:44:52.586541Z",
     "iopub.status.busy": "2020-07-22T14:44:52.584942Z",
     "iopub.status.idle": "2020-07-22T14:44:52.589894Z",
     "shell.execute_reply": "2020-07-22T14:44:52.589214Z"
    }
   },
   "outputs": [],
   "source": [
    "protein_feat_true_pd['lethality']=np.ones(shape=(len(protein_a_list_new)))\n",
    "protein_feat_non_true_pd['lethality']=np.zeros(shape=(len(protein_a_list_non_new)))"
   ]
  },
  {
   "cell_type": "markdown",
   "metadata": {},
   "source": [
    "#### Joining both datasets"
   ]
  },
  {
   "cell_type": "code",
   "execution_count": 13,
   "metadata": {
    "execution": {
     "iopub.execute_input": "2020-07-22T14:44:52.594514Z",
     "iopub.status.busy": "2020-07-22T14:44:52.594076Z",
     "iopub.status.idle": "2020-07-22T14:44:52.632901Z",
     "shell.execute_reply": "2020-07-22T14:44:52.632490Z"
    }
   },
   "outputs": [
    {
     "name": "stdout",
     "output_type": "stream",
     "text": [
      "The number of features are: 3026\n",
      "The number of samples are: 838\n"
     ]
    }
   ],
   "source": [
    "feature_post=pd.concat([protein_feat_true_pd,protein_feat_non_true_pd],axis=0)\n",
    "feature_post=feature_post.set_index(np.arange(0,len(protein_a_list_new)+len(protein_a_list_non_new)))\n",
    "print('The number of features are:',feature_post.shape[1])\n",
    "print('The number of samples are:',feature_post.shape[0])"
   ]
  },
  {
   "cell_type": "markdown",
   "metadata": {},
   "source": [
    "### Postprocessing and exploration of the feature matrix of both datasets"
   ]
  },
  {
   "cell_type": "code",
   "execution_count": 14,
   "metadata": {
    "execution": {
     "iopub.execute_input": "2020-07-22T14:44:52.650700Z",
     "iopub.status.busy": "2020-07-22T14:44:52.649606Z",
     "iopub.status.idle": "2020-07-22T14:44:56.089579Z",
     "shell.execute_reply": "2020-07-22T14:44:56.088431Z"
    }
   },
   "outputs": [],
   "source": [
    "mean=feature_post.T.describe().loc['mean']\n",
    "std=feature_post.T.describe().loc['std']\n",
    "lethality=feature_post['lethality']\n",
    "\n",
    "corr_keys=pd.concat([mean,std,lethality],axis=1)"
   ]
  },
  {
   "cell_type": "markdown",
   "metadata": {},
   "source": [
    "### Viz of the stats"
   ]
  },
  {
   "cell_type": "code",
   "execution_count": 15,
   "metadata": {
    "execution": {
     "iopub.execute_input": "2020-07-22T14:44:56.158847Z",
     "iopub.status.busy": "2020-07-22T14:44:56.152134Z",
     "iopub.status.idle": "2020-07-22T14:44:57.264041Z",
     "shell.execute_reply": "2020-07-22T14:44:57.263618Z"
    }
   },
   "outputs": [
    {
     "data": {
      "text/plain": [
       "Text(0.5, 1.08, 'Pairplot to see data dependencies with Lethality')"
      ]
     },
     "execution_count": 15,
     "metadata": {},
     "output_type": "execute_result"
    },
    {
     "data": {
      "image/png": "[encoded data removed]",
      "text/plain": [
       "<Figure size 412x360 with 6 Axes>"
      ]
     },
     "metadata": {
      "filenames": {
       "image/png": "/home/runner/work/jupyter-book/jupyter-book/mini_book/docs/_build/jupyter_execute/prot_domains2lethality-FEATURES-POSTPROCESSING_26_1.png"
      },
      "needs_background": "light"
     },
     "output_type": "display_data"
    }
   ],
   "source": [
    "pair=sns.pairplot(corr_keys,hue='lethality',diag_kind='kde',kind='reg',palette='colorblind')\n",
    "pair.fig.suptitle('Pairplot to see data dependencies with Lethality',y=1.08)"
   ]
  },
  {
   "cell_type": "code",
   "execution_count": 16,
   "metadata": {
    "execution": {
     "iopub.execute_input": "2020-07-22T14:44:57.274149Z",
     "iopub.status.busy": "2020-07-22T14:44:57.273688Z",
     "iopub.status.idle": "2020-07-22T14:44:57.276927Z",
     "shell.execute_reply": "2020-07-22T14:44:57.276526Z"
    }
   },
   "outputs": [],
   "source": [
    "X, y = feature_post.drop(columns=[\"lethality\"]), feature_post[\"lethality\"]"
   ]
  },
  {
   "cell_type": "code",
   "execution_count": 17,
   "metadata": {
    "execution": {
     "iopub.execute_input": "2020-07-22T14:44:57.281445Z",
     "iopub.status.busy": "2020-07-22T14:44:57.280798Z",
     "iopub.status.idle": "2020-07-22T14:44:57.422702Z",
     "shell.execute_reply": "2020-07-22T14:44:57.422260Z"
    }
   },
   "outputs": [],
   "source": [
    "from sklearn.preprocessing import StandardScaler\n",
    "scaler = StandardScaler()\n",
    "x_sl=protein_feat_true_pd.drop(columns=['lethality'])\n",
    "x_nsl=protein_feat_non_true_pd.drop(columns=['lethality'])\n",
    "\n",
    "X_sl_scaled = scaler.fit_transform(x_sl)\n",
    "X_nsl_scaled = scaler.fit_transform(x_nsl)"
   ]
  },
  {
   "cell_type": "code",
   "execution_count": 18,
   "metadata": {
    "execution": {
     "iopub.execute_input": "2020-07-22T14:44:57.426691Z",
     "iopub.status.busy": "2020-07-22T14:44:57.426252Z",
     "iopub.status.idle": "2020-07-22T14:44:57.431106Z",
     "shell.execute_reply": "2020-07-22T14:44:57.430257Z"
    }
   },
   "outputs": [
    {
     "data": {
      "text/plain": [
       "(412, 3025)"
      ]
     },
     "execution_count": 18,
     "metadata": {},
     "output_type": "execute_result"
    }
   ],
   "source": [
    "np.shape(X_sl_scaled)"
   ]
  },
  {
   "cell_type": "markdown",
   "metadata": {},
   "source": [
    "## How redundant are each of the protein domains?"
   ]
  },
  {
   "cell_type": "code",
   "execution_count": 19,
   "metadata": {
    "execution": {
     "iopub.execute_input": "2020-07-22T14:44:57.437634Z",
     "iopub.status.busy": "2020-07-22T14:44:57.437180Z",
     "iopub.status.idle": "2020-07-22T14:44:57.440394Z",
     "shell.execute_reply": "2020-07-22T14:44:57.440030Z"
    }
   },
   "outputs": [],
   "source": [
    "def PCA_component_contribution(scaled_matrix,original_data):\n",
    "    from sklearn.decomposition import PCA\n",
    "\n",
    "    model = PCA(0.95).fit(scaled_matrix)\n",
    "    ## apply dimensionality reduction to X_train\n",
    "    output_pca = model.transform(scaled_matrix)\n",
    "    \n",
    "    total=sum(model.explained_variance_)\n",
    "\n",
    "\n",
    "   \n",
    "    # number of components , that it will be the number of main axes times the number of original components \n",
    "    n_pcs= model.components_.shape[0] # the amount of non redundant protein domains \n",
    "\n",
    "    # get the index of the most important feature on EACH component\n",
    "    # LIST COMPREHENSION HERE\n",
    "    most_important = [np.abs(model.components_[i]).argmax() for i in range(n_pcs)]\n",
    "\n",
    "    initial_feature_names = original_data.columns\n",
    "    # get the names\n",
    "    most_important_names = [initial_feature_names[most_important[i]] for i in range(n_pcs)]\n",
    "    \n",
    "\n",
    "    # LIST COMPREHENSION HERE AGAIN\n",
    "    dic = {'PC{}'.format(i): most_important_names[i] for i in range(n_pcs)}\n",
    "\n",
    "    # build the dataframe\n",
    "    df = pd.DataFrame(dic.items(),columns=['pca-component','domain-number'])\n",
    "\n",
    "    return df,model.components_"
   ]
  },
  {
   "cell_type": "code",
   "execution_count": 20,
   "metadata": {
    "execution": {
     "iopub.execute_input": "2020-07-22T14:44:57.444048Z",
     "iopub.status.busy": "2020-07-22T14:44:57.443044Z",
     "iopub.status.idle": "2020-07-22T14:44:57.992671Z",
     "shell.execute_reply": "2020-07-22T14:44:57.993065Z"
    }
   },
   "outputs": [],
   "source": [
    "df_sl,components_pca_nsl=PCA_component_contribution(X_nsl_scaled,x_nsl)\n",
    "df_nsl,components_pca_sl=PCA_component_contribution(X_sl_scaled,x_sl)"
   ]
  },
  {
   "cell_type": "code",
   "execution_count": 21,
   "metadata": {
    "execution": {
     "iopub.execute_input": "2020-07-22T14:44:57.995280Z",
     "iopub.status.busy": "2020-07-22T14:44:57.994839Z",
     "iopub.status.idle": "2020-07-22T14:44:58.002359Z",
     "shell.execute_reply": "2020-07-22T14:44:58.002787Z"
    }
   },
   "outputs": [
    {
     "data": {
      "text/html": [
       "<div>\n",
       "<style scoped>\n",
       "    .dataframe tbody tr th:only-of-type {\n",
       "        vertical-align: middle;\n",
       "    }\n",
       "\n",
       "    .dataframe tbody tr th {\n",
       "        vertical-align: top;\n",
       "    }\n",
       "\n",
       "    .dataframe thead th {\n",
       "        text-align: right;\n",
       "    }\n",
       "</style>\n",
       "<table border=\"1\" class=\"dataframe\">\n",
       "  <thead>\n",
       "    <tr style=\"text-align: right;\">\n",
       "      <th></th>\n",
       "      <th>pca-component</th>\n",
       "      <th>domain-number</th>\n",
       "    </tr>\n",
       "  </thead>\n",
       "  <tbody>\n",
       "    <tr>\n",
       "      <th>0</th>\n",
       "      <td>PC0</td>\n",
       "      <td>135</td>\n",
       "    </tr>\n",
       "    <tr>\n",
       "      <th>1</th>\n",
       "      <td>PC1</td>\n",
       "      <td>180</td>\n",
       "    </tr>\n",
       "    <tr>\n",
       "      <th>2</th>\n",
       "      <td>PC2</td>\n",
       "      <td>858</td>\n",
       "    </tr>\n",
       "    <tr>\n",
       "      <th>3</th>\n",
       "      <td>PC3</td>\n",
       "      <td>305</td>\n",
       "    </tr>\n",
       "    <tr>\n",
       "      <th>4</th>\n",
       "      <td>PC4</td>\n",
       "      <td>18</td>\n",
       "    </tr>\n",
       "  </tbody>\n",
       "</table>\n",
       "</div>"
      ],
      "text/plain": [
       "  pca-component  domain-number\n",
       "0           PC0            135\n",
       "1           PC1            180\n",
       "2           PC2            858\n",
       "3           PC3            305\n",
       "4           PC4             18"
      ]
     },
     "execution_count": 21,
     "metadata": {},
     "output_type": "execute_result"
    }
   ],
   "source": [
    "df_sl.head()"
   ]
  },
  {
   "cell_type": "markdown",
   "metadata": {},
   "source": [
    "## which are the shared domains between nSL and SL pairs , in the PCA reduced samples"
   ]
  },
  {
   "cell_type": "code",
   "execution_count": 22,
   "metadata": {
    "execution": {
     "iopub.execute_input": "2020-07-22T14:44:58.004785Z",
     "iopub.status.busy": "2020-07-22T14:44:58.004361Z",
     "iopub.status.idle": "2020-07-22T14:44:58.029317Z",
     "shell.execute_reply": "2020-07-22T14:44:58.029748Z"
    }
   },
   "outputs": [
    {
     "data": {
      "text/html": [
       "<div>\n",
       "<style scoped>\n",
       "    .dataframe tbody tr th:only-of-type {\n",
       "        vertical-align: middle;\n",
       "    }\n",
       "\n",
       "    .dataframe tbody tr th {\n",
       "        vertical-align: top;\n",
       "    }\n",
       "\n",
       "    .dataframe thead th {\n",
       "        text-align: right;\n",
       "    }\n",
       "</style>\n",
       "<table border=\"1\" class=\"dataframe\">\n",
       "  <thead>\n",
       "    <tr style=\"text-align: right;\">\n",
       "      <th></th>\n",
       "      <th>pca-component_x</th>\n",
       "      <th>domain-number</th>\n",
       "      <th>pca-component_y</th>\n",
       "      <th>domain-description</th>\n",
       "    </tr>\n",
       "  </thead>\n",
       "  <tbody>\n",
       "    <tr>\n",
       "      <th>0</th>\n",
       "      <td>PC0</td>\n",
       "      <td>135</td>\n",
       "      <td>PC4</td>\n",
       "      <td>ATP-synt_ab_Xtn; ATPsynthase alpha/beta subuni...</td>\n",
       "    </tr>\n",
       "    <tr>\n",
       "      <th>1</th>\n",
       "      <td>PC3</td>\n",
       "      <td>305</td>\n",
       "      <td>PC1</td>\n",
       "      <td>Brr6_like_C_C; Brl1/Brr6 domain</td>\n",
       "    </tr>\n",
       "    <tr>\n",
       "      <th>2</th>\n",
       "      <td>PC16</td>\n",
       "      <td>2103</td>\n",
       "      <td>PC26</td>\n",
       "      <td>Rap1-DNA-bind; Rap1, DNA-binding domain</td>\n",
       "    </tr>\n",
       "    <tr>\n",
       "      <th>3</th>\n",
       "      <td>PC20</td>\n",
       "      <td>55</td>\n",
       "      <td>PC14</td>\n",
       "      <td>ADK</td>\n",
       "    </tr>\n",
       "    <tr>\n",
       "      <th>4</th>\n",
       "      <td>PC24</td>\n",
       "      <td>300</td>\n",
       "      <td>PC40</td>\n",
       "      <td>BolA; BolA protein</td>\n",
       "    </tr>\n",
       "    <tr>\n",
       "      <th>...</th>\n",
       "      <td>...</td>\n",
       "      <td>...</td>\n",
       "      <td>...</td>\n",
       "      <td>...</td>\n",
       "    </tr>\n",
       "    <tr>\n",
       "      <th>61</th>\n",
       "      <td>PC263</td>\n",
       "      <td>1386</td>\n",
       "      <td>PC243</td>\n",
       "      <td>MNE1; Mitochondrial splicing apparatus compone...</td>\n",
       "    </tr>\n",
       "    <tr>\n",
       "      <th>62</th>\n",
       "      <td>PC280</td>\n",
       "      <td>237</td>\n",
       "      <td>PC207</td>\n",
       "      <td>Asn_synthase; Asparagine synthase</td>\n",
       "    </tr>\n",
       "    <tr>\n",
       "      <th>63</th>\n",
       "      <td>PC280</td>\n",
       "      <td>237</td>\n",
       "      <td>PC208</td>\n",
       "      <td>Asn_synthase; Asparagine synthase</td>\n",
       "    </tr>\n",
       "    <tr>\n",
       "      <th>64</th>\n",
       "      <td>PC281</td>\n",
       "      <td>1061</td>\n",
       "      <td>PC38</td>\n",
       "      <td>Glyco_tran_28_C; Glycosyl transferase, family ...</td>\n",
       "    </tr>\n",
       "    <tr>\n",
       "      <th>65</th>\n",
       "      <td>PC283</td>\n",
       "      <td>684</td>\n",
       "      <td>PC34</td>\n",
       "      <td>DUF2611; Protein of unknown function DUF2611</td>\n",
       "    </tr>\n",
       "  </tbody>\n",
       "</table>\n",
       "<p>66 rows × 4 columns</p>\n",
       "</div>"
      ],
      "text/plain": [
       "   pca-component_x  domain-number pca-component_y  \\\n",
       "0              PC0            135             PC4   \n",
       "1              PC3            305             PC1   \n",
       "2             PC16           2103            PC26   \n",
       "3             PC20             55            PC14   \n",
       "4             PC24            300            PC40   \n",
       "..             ...            ...             ...   \n",
       "61           PC263           1386           PC243   \n",
       "62           PC280            237           PC207   \n",
       "63           PC280            237           PC208   \n",
       "64           PC281           1061            PC38   \n",
       "65           PC283            684            PC34   \n",
       "\n",
       "                                   domain-description  \n",
       "0   ATP-synt_ab_Xtn; ATPsynthase alpha/beta subuni...  \n",
       "1                     Brr6_like_C_C; Brl1/Brr6 domain  \n",
       "2             Rap1-DNA-bind; Rap1, DNA-binding domain  \n",
       "3                                                 ADK  \n",
       "4                                  BolA; BolA protein  \n",
       "..                                                ...  \n",
       "61  MNE1; Mitochondrial splicing apparatus compone...  \n",
       "62                  Asn_synthase; Asparagine synthase  \n",
       "63                  Asn_synthase; Asparagine synthase  \n",
       "64  Glyco_tran_28_C; Glycosyl transferase, family ...  \n",
       "65       DUF2611; Protein of unknown function DUF2611  \n",
       "\n",
       "[66 rows x 4 columns]"
      ]
     },
     "execution_count": 22,
     "metadata": {},
     "output_type": "execute_result"
    }
   ],
   "source": [
    "df_shared_domains=pd.merge(df_sl,df_nsl,how='inner',on='domain-number')\n",
    "domains_name=np.unique(data_domains['domain-name'])\n",
    "domains_description=np.unique(data_domains['domain-descrip'])\n",
    "\n",
    "df_shared_domains['domain-description']=domains_description[df_shared_domains['domain-number']]\n",
    "\n",
    "\n",
    "df_shared_domains"
   ]
  },
  {
   "cell_type": "code",
   "execution_count": 23,
   "metadata": {
    "execution": {
     "iopub.execute_input": "2020-07-22T14:44:58.031844Z",
     "iopub.status.busy": "2020-07-22T14:44:58.031409Z",
     "iopub.status.idle": "2020-07-22T14:44:58.035884Z",
     "shell.execute_reply": "2020-07-22T14:44:58.036311Z"
    }
   },
   "outputs": [
    {
     "name": "stdout",
     "output_type": "stream",
     "text": [
      "The number of shared domains between SL and nSL pairs,after PCA, is =  66 out of 563 so the 11.72291296625222 %\n"
     ]
    }
   ],
   "source": [
    "print('The number of shared domains between SL and nSL pairs,after PCA, is = ',len(df_shared_domains), 'out of', len(df_sl)+len(df_nsl), 'so the',100*len(df_shared_domains)/(len(df_sl)+len(df_nsl)),'%')"
   ]
  },
  {
   "cell_type": "markdown",
   "metadata": {},
   "source": [
    "## Domains exclusive to SL"
   ]
  },
  {
   "cell_type": "code",
   "execution_count": 24,
   "metadata": {
    "execution": {
     "iopub.execute_input": "2020-07-22T14:44:58.038261Z",
     "iopub.status.busy": "2020-07-22T14:44:58.037835Z",
     "iopub.status.idle": "2020-07-22T14:44:58.062694Z",
     "shell.execute_reply": "2020-07-22T14:44:58.063059Z"
    }
   },
   "outputs": [
    {
     "data": {
      "text/html": [
       "<div>\n",
       "<style scoped>\n",
       "    .dataframe tbody tr th:only-of-type {\n",
       "        vertical-align: middle;\n",
       "    }\n",
       "\n",
       "    .dataframe tbody tr th {\n",
       "        vertical-align: top;\n",
       "    }\n",
       "\n",
       "    .dataframe thead th {\n",
       "        text-align: right;\n",
       "    }\n",
       "</style>\n",
       "<table border=\"1\" class=\"dataframe\">\n",
       "  <thead>\n",
       "    <tr style=\"text-align: right;\">\n",
       "      <th></th>\n",
       "      <th>pca-component_x</th>\n",
       "      <th>domain-number</th>\n",
       "      <th>pca-component_y</th>\n",
       "      <th>domain-description</th>\n",
       "    </tr>\n",
       "  </thead>\n",
       "  <tbody>\n",
       "    <tr>\n",
       "      <th>1</th>\n",
       "      <td>PC1</td>\n",
       "      <td>180</td>\n",
       "      <td>NaN</td>\n",
       "      <td>Aim21; Altered inheritance of mitochondria pro...</td>\n",
       "    </tr>\n",
       "    <tr>\n",
       "      <th>2</th>\n",
       "      <td>PC2</td>\n",
       "      <td>858</td>\n",
       "      <td>NaN</td>\n",
       "      <td>F420_oxidored; Pyrroline-5-carboxylate reducta...</td>\n",
       "    </tr>\n",
       "    <tr>\n",
       "      <th>4</th>\n",
       "      <td>PC4</td>\n",
       "      <td>18</td>\n",
       "      <td>NaN</td>\n",
       "      <td>AAA_18</td>\n",
       "    </tr>\n",
       "    <tr>\n",
       "      <th>5</th>\n",
       "      <td>PC5</td>\n",
       "      <td>114</td>\n",
       "      <td>NaN</td>\n",
       "      <td>ATG2_CAD; Autophagy-related protein 2 CAD motif</td>\n",
       "    </tr>\n",
       "    <tr>\n",
       "      <th>6</th>\n",
       "      <td>PC6</td>\n",
       "      <td>903</td>\n",
       "      <td>NaN</td>\n",
       "      <td>Fe-ADH; Alcohol dehydrogenase, iron-type</td>\n",
       "    </tr>\n",
       "    <tr>\n",
       "      <th>...</th>\n",
       "      <td>...</td>\n",
       "      <td>...</td>\n",
       "      <td>...</td>\n",
       "      <td>...</td>\n",
       "    </tr>\n",
       "    <tr>\n",
       "      <th>303</th>\n",
       "      <td>PC289</td>\n",
       "      <td>1301</td>\n",
       "      <td>NaN</td>\n",
       "      <td>LRR_4; Leucine rich repeat 4</td>\n",
       "    </tr>\n",
       "    <tr>\n",
       "      <th>304</th>\n",
       "      <td>PC290</td>\n",
       "      <td>1301</td>\n",
       "      <td>NaN</td>\n",
       "      <td>LRR_4; Leucine rich repeat 4</td>\n",
       "    </tr>\n",
       "    <tr>\n",
       "      <th>305</th>\n",
       "      <td>PC291</td>\n",
       "      <td>314</td>\n",
       "      <td>NaN</td>\n",
       "      <td>CAF1A; Chromatin assembly factor 1 subunit A</td>\n",
       "    </tr>\n",
       "    <tr>\n",
       "      <th>306</th>\n",
       "      <td>PC292</td>\n",
       "      <td>172</td>\n",
       "      <td>NaN</td>\n",
       "      <td>AdoHcyase; Adenosylhomocysteinase-like</td>\n",
       "    </tr>\n",
       "    <tr>\n",
       "      <th>307</th>\n",
       "      <td>PC293</td>\n",
       "      <td>2042</td>\n",
       "      <td>NaN</td>\n",
       "      <td>RNase_P_p30; RNase P subunit p30</td>\n",
       "    </tr>\n",
       "  </tbody>\n",
       "</table>\n",
       "<p>242 rows × 4 columns</p>\n",
       "</div>"
      ],
      "text/plain": [
       "    pca-component_x  domain-number pca-component_y  \\\n",
       "1               PC1            180             NaN   \n",
       "2               PC2            858             NaN   \n",
       "4               PC4             18             NaN   \n",
       "5               PC5            114             NaN   \n",
       "6               PC6            903             NaN   \n",
       "..              ...            ...             ...   \n",
       "303           PC289           1301             NaN   \n",
       "304           PC290           1301             NaN   \n",
       "305           PC291            314             NaN   \n",
       "306           PC292            172             NaN   \n",
       "307           PC293           2042             NaN   \n",
       "\n",
       "                                    domain-description  \n",
       "1    Aim21; Altered inheritance of mitochondria pro...  \n",
       "2    F420_oxidored; Pyrroline-5-carboxylate reducta...  \n",
       "4                                               AAA_18  \n",
       "5      ATG2_CAD; Autophagy-related protein 2 CAD motif  \n",
       "6             Fe-ADH; Alcohol dehydrogenase, iron-type  \n",
       "..                                                 ...  \n",
       "303                       LRR_4; Leucine rich repeat 4  \n",
       "304                       LRR_4; Leucine rich repeat 4  \n",
       "305       CAF1A; Chromatin assembly factor 1 subunit A  \n",
       "306             AdoHcyase; Adenosylhomocysteinase-like  \n",
       "307                   RNase_P_p30; RNase P subunit p30  \n",
       "\n",
       "[242 rows x 4 columns]"
      ]
     },
     "execution_count": 24,
     "metadata": {},
     "output_type": "execute_result"
    }
   ],
   "source": [
    "df_sl_exclusive=pd.merge(df_sl,df_nsl,how='left',on='domain-number')\n",
    "\n",
    "domains_name=np.unique(data_domains['domain-name'])\n",
    "domains_description=np.unique(data_domains['domain-descrip'])\n",
    "\n",
    "df_sl_exclusive['domain-description']=domains_description[df_sl_exclusive['domain-number']]\n",
    "df_sl_exclusive[pd.isnull(df_sl_exclusive['pca-component_y'])]"
   ]
  },
  {
   "cell_type": "code",
   "execution_count": 25,
   "metadata": {
    "execution": {
     "iopub.execute_input": "2020-07-22T14:44:58.065846Z",
     "iopub.status.busy": "2020-07-22T14:44:58.064974Z",
     "iopub.status.idle": "2020-07-22T14:44:58.071195Z",
     "shell.execute_reply": "2020-07-22T14:44:58.071799Z"
    }
   },
   "outputs": [
    {
     "name": "stdout",
     "output_type": "stream",
     "text": [
      "The number of exclusive domains from SL pairs, after PCA, is =  308 out of 563 so the 54.706927175843695 %\n"
     ]
    }
   ],
   "source": [
    "print('The number of exclusive domains from SL pairs, after PCA, is = ',len(df_sl_exclusive), 'out of', len(df_sl)+len(df_nsl), 'so the',100*len(df_sl_exclusive)/(len(df_sl)+len(df_nsl)),'%')"
   ]
  },
  {
   "cell_type": "code",
   "execution_count": 26,
   "metadata": {
    "execution": {
     "iopub.execute_input": "2020-07-22T14:44:58.074469Z",
     "iopub.status.busy": "2020-07-22T14:44:58.073616Z",
     "iopub.status.idle": "2020-07-22T14:44:58.101847Z",
     "shell.execute_reply": "2020-07-22T14:44:58.101424Z"
    }
   },
   "outputs": [
    {
     "data": {
      "text/html": [
       "<div>\n",
       "<style scoped>\n",
       "    .dataframe tbody tr th:only-of-type {\n",
       "        vertical-align: middle;\n",
       "    }\n",
       "\n",
       "    .dataframe tbody tr th {\n",
       "        vertical-align: top;\n",
       "    }\n",
       "\n",
       "    .dataframe thead th {\n",
       "        text-align: right;\n",
       "    }\n",
       "</style>\n",
       "<table border=\"1\" class=\"dataframe\">\n",
       "  <thead>\n",
       "    <tr style=\"text-align: right;\">\n",
       "      <th></th>\n",
       "      <th>pca-component_x</th>\n",
       "      <th>domain-number</th>\n",
       "      <th>pca-component_y</th>\n",
       "      <th>domain-description</th>\n",
       "    </tr>\n",
       "  </thead>\n",
       "  <tbody>\n",
       "    <tr>\n",
       "      <th>66</th>\n",
       "      <td>NaN</td>\n",
       "      <td>1028</td>\n",
       "      <td>PC0</td>\n",
       "      <td>GatB_Yqey; Asn/Gln amidotransferase</td>\n",
       "    </tr>\n",
       "    <tr>\n",
       "      <th>67</th>\n",
       "      <td>NaN</td>\n",
       "      <td>268</td>\n",
       "      <td>PC2</td>\n",
       "      <td>BHD_3; Rad4 beta-hairpin domain 3</td>\n",
       "    </tr>\n",
       "    <tr>\n",
       "      <th>68</th>\n",
       "      <td>NaN</td>\n",
       "      <td>1811</td>\n",
       "      <td>PC3</td>\n",
       "      <td>PRAI; N-(5&amp;apos;phosphoribosyl) anthranilate i...</td>\n",
       "    </tr>\n",
       "    <tr>\n",
       "      <th>69</th>\n",
       "      <td>NaN</td>\n",
       "      <td>265</td>\n",
       "      <td>PC5</td>\n",
       "      <td>BCS1_N; BCS1, N-terminal</td>\n",
       "    </tr>\n",
       "    <tr>\n",
       "      <th>70</th>\n",
       "      <td>NaN</td>\n",
       "      <td>221</td>\n",
       "      <td>PC6</td>\n",
       "      <td>Apq12; Nuclear pore assembly and biogenesis pr...</td>\n",
       "    </tr>\n",
       "    <tr>\n",
       "      <th>...</th>\n",
       "      <td>...</td>\n",
       "      <td>...</td>\n",
       "      <td>...</td>\n",
       "      <td>...</td>\n",
       "    </tr>\n",
       "    <tr>\n",
       "      <th>278</th>\n",
       "      <td>NaN</td>\n",
       "      <td>1598</td>\n",
       "      <td>PC262</td>\n",
       "      <td>Na_Ca_ex; Sodium/calcium exchanger membrane re...</td>\n",
       "    </tr>\n",
       "    <tr>\n",
       "      <th>279</th>\n",
       "      <td>NaN</td>\n",
       "      <td>2010</td>\n",
       "      <td>PC263</td>\n",
       "      <td>RNA_pol_Rpa2_4; DNA-directed RNA polymerase I ...</td>\n",
       "    </tr>\n",
       "    <tr>\n",
       "      <th>280</th>\n",
       "      <td>NaN</td>\n",
       "      <td>595</td>\n",
       "      <td>PC265</td>\n",
       "      <td>DJ-1_PfpI; DJ-1/PfpI</td>\n",
       "    </tr>\n",
       "    <tr>\n",
       "      <th>281</th>\n",
       "      <td>NaN</td>\n",
       "      <td>1571</td>\n",
       "      <td>PC266</td>\n",
       "      <td>NMT1; SsuA/THI5-like</td>\n",
       "    </tr>\n",
       "    <tr>\n",
       "      <th>282</th>\n",
       "      <td>NaN</td>\n",
       "      <td>411</td>\n",
       "      <td>PC268</td>\n",
       "      <td>CRAL_TRIO_2; CRAL-TRIO lipid binding domain</td>\n",
       "    </tr>\n",
       "  </tbody>\n",
       "</table>\n",
       "<p>217 rows × 4 columns</p>\n",
       "</div>"
      ],
      "text/plain": [
       "    pca-component_x  domain-number pca-component_y  \\\n",
       "66              NaN           1028             PC0   \n",
       "67              NaN            268             PC2   \n",
       "68              NaN           1811             PC3   \n",
       "69              NaN            265             PC5   \n",
       "70              NaN            221             PC6   \n",
       "..              ...            ...             ...   \n",
       "278             NaN           1598           PC262   \n",
       "279             NaN           2010           PC263   \n",
       "280             NaN            595           PC265   \n",
       "281             NaN           1571           PC266   \n",
       "282             NaN            411           PC268   \n",
       "\n",
       "                                    domain-description  \n",
       "66                 GatB_Yqey; Asn/Gln amidotransferase  \n",
       "67                   BHD_3; Rad4 beta-hairpin domain 3  \n",
       "68   PRAI; N-(5&apos;phosphoribosyl) anthranilate i...  \n",
       "69                            BCS1_N; BCS1, N-terminal  \n",
       "70   Apq12; Nuclear pore assembly and biogenesis pr...  \n",
       "..                                                 ...  \n",
       "278  Na_Ca_ex; Sodium/calcium exchanger membrane re...  \n",
       "279  RNA_pol_Rpa2_4; DNA-directed RNA polymerase I ...  \n",
       "280                               DJ-1_PfpI; DJ-1/PfpI  \n",
       "281                               NMT1; SsuA/THI5-like  \n",
       "282        CRAL_TRIO_2; CRAL-TRIO lipid binding domain  \n",
       "\n",
       "[217 rows x 4 columns]"
      ]
     },
     "execution_count": 26,
     "metadata": {},
     "output_type": "execute_result"
    }
   ],
   "source": [
    "df_nsl_exclusive=pd.merge(df_sl,df_nsl,how='right',on='domain-number')\n",
    "\n",
    "domains_name=np.unique(data_domains['domain-name'])\n",
    "domains_description=np.unique(data_domains['domain-descrip'])\n",
    "\n",
    "df_nsl_exclusive['domain-description']=domains_description[df_nsl_exclusive['domain-number']]\n",
    "df_nsl_exclusive[pd.isnull(df_nsl_exclusive['pca-component_x'])]"
   ]
  },
  {
   "cell_type": "code",
   "execution_count": 27,
   "metadata": {
    "execution": {
     "iopub.execute_input": "2020-07-22T14:44:58.106706Z",
     "iopub.status.busy": "2020-07-22T14:44:58.105452Z",
     "iopub.status.idle": "2020-07-22T14:44:58.109242Z",
     "shell.execute_reply": "2020-07-22T14:44:58.108877Z"
    }
   },
   "outputs": [
    {
     "name": "stdout",
     "output_type": "stream",
     "text": [
      "The number of exclusive domains from non SL pairs, after PCA, is =  283 out of 563 so the 50.266429840142095 %\n"
     ]
    }
   ],
   "source": [
    "print('The number of exclusive domains from non SL pairs, after PCA, is = ',len(df_nsl_exclusive), 'out of', len(df_sl)+len(df_nsl), 'so the',100*len(df_nsl_exclusive)/(len(df_sl)+len(df_nsl)),'%')"
   ]
  },
  {
   "cell_type": "markdown",
   "metadata": {},
   "source": [
    "## Let see to the domains-number that get repeated after the PCA analysis , and selecting the most explanatory feature by its explained variance."
   ]
  },
  {
   "cell_type": "code",
   "execution_count": 28,
   "metadata": {
    "execution": {
     "iopub.execute_input": "2020-07-22T14:44:58.128905Z",
     "iopub.status.busy": "2020-07-22T14:44:58.128452Z",
     "iopub.status.idle": "2020-07-22T14:44:58.131684Z",
     "shell.execute_reply": "2020-07-22T14:44:58.131308Z"
    }
   },
   "outputs": [],
   "source": [
    "duplicated_features_sl=df_sl[df_sl.iloc[:,1].duplicated()]\n",
    "repeated_features_sl=pd.DataFrame()\n",
    "\n",
    "domains_name=np.unique(data_domains['domain-name'])\n",
    "domains_description=np.unique(data_domains['domain-descrip'])\n",
    "\n",
    "repeated_features_sl['domain-name']=domains_name[duplicated_features_sl.iloc[:,1]] \n",
    "repeated_features_sl['domain-description']=domains_description[duplicated_features_sl.iloc[:,1]]\n",
    "\n",
    "duplicated_features_nsl=df_nsl[df_nsl.iloc[:,1].duplicated()]\n",
    "repeated_features_nsl=pd.DataFrame()\n",
    "\n",
    "repeated_features_nsl['domain-name']=domains_name[duplicated_features_nsl.iloc[:,1]] \n",
    "repeated_features_nsl['domain-description']=domains_description[duplicated_features_nsl.iloc[:,1]]"
   ]
  },
  {
   "cell_type": "code",
   "execution_count": 29,
   "metadata": {
    "execution": {
     "iopub.execute_input": "2020-07-22T14:44:58.140016Z",
     "iopub.status.busy": "2020-07-22T14:44:58.139562Z",
     "iopub.status.idle": "2020-07-22T14:44:58.144986Z",
     "shell.execute_reply": "2020-07-22T14:44:58.145346Z"
    }
   },
   "outputs": [
    {
     "name": "stderr",
     "output_type": "stream",
     "text": [
      "/usr/share/miniconda3/envs/wintest/lib/python3.7/site-packages/ipykernel_launcher.py:3: SettingWithCopyWarning: \n",
      "A value is trying to be set on a copy of a slice from a DataFrame.\n",
      "Try using .loc[row_indexer,col_indexer] = value instead\n",
      "\n",
      "See the caveats in the documentation: https://pandas.pydata.org/pandas-docs/stable/user_guide/indexing.html#returning-a-view-versus-a-copy\n",
      "  This is separate from the ipykernel package so we can avoid doing imports until\n"
     ]
    },
    {
     "data": {
      "text/plain": [
       "((49, 4), (308, 4))"
      ]
     },
     "execution_count": 29,
     "metadata": {},
     "output_type": "execute_result"
    }
   ],
   "source": [
    "only_sl_pd=pd.merge(repeated_features_sl,repeated_features_nsl,how='left',on=['domain-name'])\n",
    "data_only_sl = only_sl_pd[pd.isnull(only_sl_pd['domain-description_y'])]\n",
    "data_only_sl['domain-description']=data_only_sl['domain-description_x']\n",
    "data_only_sl.shape,df_sl_exclusive.shape"
   ]
  },
  {
   "cell_type": "code",
   "execution_count": 30,
   "metadata": {
    "execution": {
     "iopub.execute_input": "2020-07-22T14:44:58.160948Z",
     "iopub.status.busy": "2020-07-22T14:44:58.160469Z",
     "iopub.status.idle": "2020-07-22T14:44:58.165748Z",
     "shell.execute_reply": "2020-07-22T14:44:58.165340Z"
    }
   },
   "outputs": [
    {
     "data": {
      "text/html": [
       "<div>\n",
       "<style scoped>\n",
       "    .dataframe tbody tr th:only-of-type {\n",
       "        vertical-align: middle;\n",
       "    }\n",
       "\n",
       "    .dataframe tbody tr th {\n",
       "        vertical-align: top;\n",
       "    }\n",
       "\n",
       "    .dataframe thead th {\n",
       "        text-align: right;\n",
       "    }\n",
       "</style>\n",
       "<table border=\"1\" class=\"dataframe\">\n",
       "  <thead>\n",
       "    <tr style=\"text-align: right;\">\n",
       "      <th></th>\n",
       "      <th>domain-name</th>\n",
       "      <th>domain-description_x</th>\n",
       "      <th>domain-description_y</th>\n",
       "    </tr>\n",
       "  </thead>\n",
       "  <tbody>\n",
       "    <tr>\n",
       "      <th>4</th>\n",
       "      <td>PF04049</td>\n",
       "      <td>NaN</td>\n",
       "      <td>Isy1; Pre-mRNA-splicing factor Isy1</td>\n",
       "    </tr>\n",
       "    <tr>\n",
       "      <th>5</th>\n",
       "      <td>PF08731</td>\n",
       "      <td>NaN</td>\n",
       "      <td>RNase_PH_C; Exoribonuclease, phosphorolytic do...</td>\n",
       "    </tr>\n",
       "    <tr>\n",
       "      <th>6</th>\n",
       "      <td>PF01851</td>\n",
       "      <td>NaN</td>\n",
       "      <td>DnaJ_CXXCXGXG; Heat shock protein DnaJ, cystei...</td>\n",
       "    </tr>\n",
       "    <tr>\n",
       "      <th>7</th>\n",
       "      <td>PF00750</td>\n",
       "      <td>NaN</td>\n",
       "      <td>CMS1; Protein Cms1</td>\n",
       "    </tr>\n",
       "    <tr>\n",
       "      <th>8</th>\n",
       "      <td>PF00493</td>\n",
       "      <td>NaN</td>\n",
       "      <td>Autophagy_C; Autophagy-related protein 3, C-te...</td>\n",
       "    </tr>\n",
       "    <tr>\n",
       "      <th>9</th>\n",
       "      <td>PF03169</td>\n",
       "      <td>NaN</td>\n",
       "      <td>Glyco_transf_34; Glycosyltransferase 34</td>\n",
       "    </tr>\n",
       "    <tr>\n",
       "      <th>10</th>\n",
       "      <td>PF03953</td>\n",
       "      <td>NaN</td>\n",
       "      <td>IMS_C; DNA polymerase, Y-family, little finger...</td>\n",
       "    </tr>\n",
       "    <tr>\n",
       "      <th>11</th>\n",
       "      <td>PF01096</td>\n",
       "      <td>NaN</td>\n",
       "      <td>Cnd1_N; Condensin complex subunit 1, N-terminal</td>\n",
       "    </tr>\n",
       "    <tr>\n",
       "      <th>12</th>\n",
       "      <td>PF06733</td>\n",
       "      <td>NaN</td>\n",
       "      <td>Ost5; Oligosaccharyltransferase complex subunit</td>\n",
       "    </tr>\n",
       "    <tr>\n",
       "      <th>13</th>\n",
       "      <td>PF02893</td>\n",
       "      <td>NaN</td>\n",
       "      <td>GRIP; GRIP domain</td>\n",
       "    </tr>\n",
       "    <tr>\n",
       "      <th>14</th>\n",
       "      <td>PF00533</td>\n",
       "      <td>NaN</td>\n",
       "      <td>BAR_2; BAR domain-containing family</td>\n",
       "    </tr>\n",
       "    <tr>\n",
       "      <th>15</th>\n",
       "      <td>PF04571</td>\n",
       "      <td>NaN</td>\n",
       "      <td>MMS19_C; MMS19, C-terminal</td>\n",
       "    </tr>\n",
       "    <tr>\n",
       "      <th>16</th>\n",
       "      <td>PF01115</td>\n",
       "      <td>NaN</td>\n",
       "      <td>CoaE; Dephospho-CoA kinase</td>\n",
       "    </tr>\n",
       "    <tr>\n",
       "      <th>17</th>\n",
       "      <td>PF01833</td>\n",
       "      <td>NaN</td>\n",
       "      <td>Diphthamide_syn; Diphthamide synthesis DPH1/DPH2</td>\n",
       "    </tr>\n",
       "    <tr>\n",
       "      <th>18</th>\n",
       "      <td>PF02200</td>\n",
       "      <td>NaN</td>\n",
       "      <td>End3; Actin cytoskeleton-regulatory complex pr...</td>\n",
       "    </tr>\n",
       "    <tr>\n",
       "      <th>19</th>\n",
       "      <td>PF05390</td>\n",
       "      <td>NaN</td>\n",
       "      <td>NAD_kinase; NAD kinase</td>\n",
       "    </tr>\n",
       "    <tr>\n",
       "      <th>20</th>\n",
       "      <td>PF07572</td>\n",
       "      <td>NaN</td>\n",
       "      <td>PGAP1; GPI inositol-deacylase PGAP1-like</td>\n",
       "    </tr>\n",
       "    <tr>\n",
       "      <th>21</th>\n",
       "      <td>PF12550</td>\n",
       "      <td>NaN</td>\n",
       "      <td>Sortilin-Vps10; Sortilin, N-terminal</td>\n",
       "    </tr>\n",
       "    <tr>\n",
       "      <th>22</th>\n",
       "      <td>PF04670</td>\n",
       "      <td>NaN</td>\n",
       "      <td>MRG; MRG domain</td>\n",
       "    </tr>\n",
       "    <tr>\n",
       "      <th>23</th>\n",
       "      <td>PF01399</td>\n",
       "      <td>NaN</td>\n",
       "      <td>DNA_pol_B; DNA-directed DNA polymerase, family...</td>\n",
       "    </tr>\n",
       "    <tr>\n",
       "      <th>24</th>\n",
       "      <td>PF12220</td>\n",
       "      <td>NaN</td>\n",
       "      <td>Securin; Securin sister-chromatid separation i...</td>\n",
       "    </tr>\n",
       "    <tr>\n",
       "      <th>25</th>\n",
       "      <td>PF00225</td>\n",
       "      <td>NaN</td>\n",
       "      <td>ATE_N; Arginine-tRNA-protein transferase, N-te...</td>\n",
       "    </tr>\n",
       "    <tr>\n",
       "      <th>26</th>\n",
       "      <td>PF00071</td>\n",
       "      <td>NaN</td>\n",
       "      <td>AAA_8; Dynein heavy chain, P-loop containing D...</td>\n",
       "    </tr>\n",
       "    <tr>\n",
       "      <th>27</th>\n",
       "      <td>PF08598</td>\n",
       "      <td>NaN</td>\n",
       "      <td>RAI1; RAI1-like</td>\n",
       "    </tr>\n",
       "    <tr>\n",
       "      <th>28</th>\n",
       "      <td>PF03370</td>\n",
       "      <td>NaN</td>\n",
       "      <td>HBB; Helical and beta-bridge domain</td>\n",
       "    </tr>\n",
       "    <tr>\n",
       "      <th>29</th>\n",
       "      <td>PF04421</td>\n",
       "      <td>NaN</td>\n",
       "      <td>MAP65_ASE1</td>\n",
       "    </tr>\n",
       "    <tr>\n",
       "      <th>30</th>\n",
       "      <td>PF07716</td>\n",
       "      <td>NaN</td>\n",
       "      <td>PHM7_cyt; 10TM putative phosphate transporter,...</td>\n",
       "    </tr>\n",
       "    <tr>\n",
       "      <th>31</th>\n",
       "      <td>PF08580</td>\n",
       "      <td>NaN</td>\n",
       "      <td>Pyr_redox_dim; Pyridine nucleotide-disulphide ...</td>\n",
       "    </tr>\n",
       "    <tr>\n",
       "      <th>32</th>\n",
       "      <td>PF00659</td>\n",
       "      <td>NaN</td>\n",
       "      <td>CBS; CBS domain</td>\n",
       "    </tr>\n",
       "    <tr>\n",
       "      <th>33</th>\n",
       "      <td>PF00481</td>\n",
       "      <td>NaN</td>\n",
       "      <td>Asn_synthase; Asparagine synthase</td>\n",
       "    </tr>\n",
       "    <tr>\n",
       "      <th>34</th>\n",
       "      <td>PF09432</td>\n",
       "      <td>NaN</td>\n",
       "      <td>Rep_fac-A_C; Replication factor A, C-terminal</td>\n",
       "    </tr>\n",
       "    <tr>\n",
       "      <th>35</th>\n",
       "      <td>PF09432</td>\n",
       "      <td>NaN</td>\n",
       "      <td>Rep_fac-A_C; Replication factor A, C-terminal</td>\n",
       "    </tr>\n",
       "    <tr>\n",
       "      <th>36</th>\n",
       "      <td>PF13002</td>\n",
       "      <td>NaN</td>\n",
       "      <td>TFR_dimer; Transferrin receptor-like, dimerisa...</td>\n",
       "    </tr>\n",
       "    <tr>\n",
       "      <th>37</th>\n",
       "      <td>PF13002</td>\n",
       "      <td>NaN</td>\n",
       "      <td>TFR_dimer; Transferrin receptor-like, dimerisa...</td>\n",
       "    </tr>\n",
       "    <tr>\n",
       "      <th>38</th>\n",
       "      <td>PF13002</td>\n",
       "      <td>NaN</td>\n",
       "      <td>TFR_dimer; Transferrin receptor-like, dimerisa...</td>\n",
       "    </tr>\n",
       "    <tr>\n",
       "      <th>39</th>\n",
       "      <td>PF11526</td>\n",
       "      <td>NaN</td>\n",
       "      <td>SRA1; Steroid receptor RNA activator-protein/c...</td>\n",
       "    </tr>\n",
       "    <tr>\n",
       "      <th>40</th>\n",
       "      <td>PF00096</td>\n",
       "      <td>NaN</td>\n",
       "      <td>ABC2_membrane; ABC-2 type transporter</td>\n",
       "    </tr>\n",
       "    <tr>\n",
       "      <th>41</th>\n",
       "      <td>PF03637</td>\n",
       "      <td>NaN</td>\n",
       "      <td>HTH_44; Helix-turn-helix DNA-binding domain of...</td>\n",
       "    </tr>\n",
       "    <tr>\n",
       "      <th>42</th>\n",
       "      <td>PF03637</td>\n",
       "      <td>NaN</td>\n",
       "      <td>HTH_44; Helix-turn-helix DNA-binding domain of...</td>\n",
       "    </tr>\n",
       "    <tr>\n",
       "      <th>43</th>\n",
       "      <td>PF04499</td>\n",
       "      <td>NaN</td>\n",
       "      <td>MF_alpha; Mating factor alpha, C-terminal repeat</td>\n",
       "    </tr>\n",
       "    <tr>\n",
       "      <th>44</th>\n",
       "      <td>PF04499</td>\n",
       "      <td>NaN</td>\n",
       "      <td>MF_alpha; Mating factor alpha, C-terminal repeat</td>\n",
       "    </tr>\n",
       "    <tr>\n",
       "      <th>45</th>\n",
       "      <td>PF01409</td>\n",
       "      <td>NaN</td>\n",
       "      <td>DNA_pol_B_thumb; DNA polymerase beta, thumb do...</td>\n",
       "    </tr>\n",
       "    <tr>\n",
       "      <th>46</th>\n",
       "      <td>PF09496</td>\n",
       "      <td>NaN</td>\n",
       "      <td>Rib_5-P_isom_A; Ribose 5-phosphate isomerase, ...</td>\n",
       "    </tr>\n",
       "  </tbody>\n",
       "</table>\n",
       "</div>"
      ],
      "text/plain": [
       "   domain-name domain-description_x  \\\n",
       "4      PF04049                  NaN   \n",
       "5      PF08731                  NaN   \n",
       "6      PF01851                  NaN   \n",
       "7      PF00750                  NaN   \n",
       "8      PF00493                  NaN   \n",
       "9      PF03169                  NaN   \n",
       "10     PF03953                  NaN   \n",
       "11     PF01096                  NaN   \n",
       "12     PF06733                  NaN   \n",
       "13     PF02893                  NaN   \n",
       "14     PF00533                  NaN   \n",
       "15     PF04571                  NaN   \n",
       "16     PF01115                  NaN   \n",
       "17     PF01833                  NaN   \n",
       "18     PF02200                  NaN   \n",
       "19     PF05390                  NaN   \n",
       "20     PF07572                  NaN   \n",
       "21     PF12550                  NaN   \n",
       "22     PF04670                  NaN   \n",
       "23     PF01399                  NaN   \n",
       "24     PF12220                  NaN   \n",
       "25     PF00225                  NaN   \n",
       "26     PF00071                  NaN   \n",
       "27     PF08598                  NaN   \n",
       "28     PF03370                  NaN   \n",
       "29     PF04421                  NaN   \n",
       "30     PF07716                  NaN   \n",
       "31     PF08580                  NaN   \n",
       "32     PF00659                  NaN   \n",
       "33     PF00481                  NaN   \n",
       "34     PF09432                  NaN   \n",
       "35     PF09432                  NaN   \n",
       "36     PF13002                  NaN   \n",
       "37     PF13002                  NaN   \n",
       "38     PF13002                  NaN   \n",
       "39     PF11526                  NaN   \n",
       "40     PF00096                  NaN   \n",
       "41     PF03637                  NaN   \n",
       "42     PF03637                  NaN   \n",
       "43     PF04499                  NaN   \n",
       "44     PF04499                  NaN   \n",
       "45     PF01409                  NaN   \n",
       "46     PF09496                  NaN   \n",
       "\n",
       "                                 domain-description_y  \n",
       "4                 Isy1; Pre-mRNA-splicing factor Isy1  \n",
       "5   RNase_PH_C; Exoribonuclease, phosphorolytic do...  \n",
       "6   DnaJ_CXXCXGXG; Heat shock protein DnaJ, cystei...  \n",
       "7                                  CMS1; Protein Cms1  \n",
       "8   Autophagy_C; Autophagy-related protein 3, C-te...  \n",
       "9             Glyco_transf_34; Glycosyltransferase 34  \n",
       "10  IMS_C; DNA polymerase, Y-family, little finger...  \n",
       "11    Cnd1_N; Condensin complex subunit 1, N-terminal  \n",
       "12    Ost5; Oligosaccharyltransferase complex subunit  \n",
       "13                                  GRIP; GRIP domain  \n",
       "14                BAR_2; BAR domain-containing family  \n",
       "15                         MMS19_C; MMS19, C-terminal  \n",
       "16                         CoaE; Dephospho-CoA kinase  \n",
       "17   Diphthamide_syn; Diphthamide synthesis DPH1/DPH2  \n",
       "18  End3; Actin cytoskeleton-regulatory complex pr...  \n",
       "19                             NAD_kinase; NAD kinase  \n",
       "20           PGAP1; GPI inositol-deacylase PGAP1-like  \n",
       "21               Sortilin-Vps10; Sortilin, N-terminal  \n",
       "22                                    MRG; MRG domain  \n",
       "23  DNA_pol_B; DNA-directed DNA polymerase, family...  \n",
       "24  Securin; Securin sister-chromatid separation i...  \n",
       "25  ATE_N; Arginine-tRNA-protein transferase, N-te...  \n",
       "26  AAA_8; Dynein heavy chain, P-loop containing D...  \n",
       "27                                    RAI1; RAI1-like  \n",
       "28                HBB; Helical and beta-bridge domain  \n",
       "29                                         MAP65_ASE1  \n",
       "30  PHM7_cyt; 10TM putative phosphate transporter,...  \n",
       "31  Pyr_redox_dim; Pyridine nucleotide-disulphide ...  \n",
       "32                                    CBS; CBS domain  \n",
       "33                  Asn_synthase; Asparagine synthase  \n",
       "34      Rep_fac-A_C; Replication factor A, C-terminal  \n",
       "35      Rep_fac-A_C; Replication factor A, C-terminal  \n",
       "36  TFR_dimer; Transferrin receptor-like, dimerisa...  \n",
       "37  TFR_dimer; Transferrin receptor-like, dimerisa...  \n",
       "38  TFR_dimer; Transferrin receptor-like, dimerisa...  \n",
       "39  SRA1; Steroid receptor RNA activator-protein/c...  \n",
       "40              ABC2_membrane; ABC-2 type transporter  \n",
       "41  HTH_44; Helix-turn-helix DNA-binding domain of...  \n",
       "42  HTH_44; Helix-turn-helix DNA-binding domain of...  \n",
       "43   MF_alpha; Mating factor alpha, C-terminal repeat  \n",
       "44   MF_alpha; Mating factor alpha, C-terminal repeat  \n",
       "45  DNA_pol_B_thumb; DNA polymerase beta, thumb do...  \n",
       "46  Rib_5-P_isom_A; Ribose 5-phosphate isomerase, ...  "
      ]
     },
     "execution_count": 30,
     "metadata": {},
     "output_type": "execute_result"
    }
   ],
   "source": [
    "only_nsl_pd=pd.merge(repeated_features_sl,repeated_features_nsl,how='right',on=['domain-name'])\n",
    "data_only_nsl = only_nsl_pd[pd.isnull(only_nsl_pd['domain-description_x'])]\n",
    "data_only_nsl"
   ]
  },
  {
   "cell_type": "code",
   "execution_count": 31,
   "metadata": {
    "execution": {
     "iopub.execute_input": "2020-07-22T14:44:58.176052Z",
     "iopub.status.busy": "2020-07-22T14:44:58.175591Z",
     "iopub.status.idle": "2020-07-22T14:44:58.180415Z",
     "shell.execute_reply": "2020-07-22T14:44:58.180017Z"
    }
   },
   "outputs": [
    {
     "data": {
      "text/html": [
       "<div>\n",
       "<style scoped>\n",
       "    .dataframe tbody tr th:only-of-type {\n",
       "        vertical-align: middle;\n",
       "    }\n",
       "\n",
       "    .dataframe tbody tr th {\n",
       "        vertical-align: top;\n",
       "    }\n",
       "\n",
       "    .dataframe thead th {\n",
       "        text-align: right;\n",
       "    }\n",
       "</style>\n",
       "<table border=\"1\" class=\"dataframe\">\n",
       "  <thead>\n",
       "    <tr style=\"text-align: right;\">\n",
       "      <th></th>\n",
       "      <th>domain-name</th>\n",
       "      <th>domain-description_x</th>\n",
       "      <th>domain-description_y</th>\n",
       "    </tr>\n",
       "  </thead>\n",
       "  <tbody>\n",
       "    <tr>\n",
       "      <th>0</th>\n",
       "      <td>PF02666</td>\n",
       "      <td>Flocculin</td>\n",
       "      <td>Flocculin</td>\n",
       "    </tr>\n",
       "    <tr>\n",
       "      <th>1</th>\n",
       "      <td>PF02666</td>\n",
       "      <td>Flocculin</td>\n",
       "      <td>Flocculin</td>\n",
       "    </tr>\n",
       "    <tr>\n",
       "      <th>2</th>\n",
       "      <td>PF00012</td>\n",
       "      <td>2OG-FeII_Oxy_4</td>\n",
       "      <td>2OG-FeII_Oxy_4</td>\n",
       "    </tr>\n",
       "    <tr>\n",
       "      <th>3</th>\n",
       "      <td>PF11701</td>\n",
       "      <td>SSB; Primosome PriB/single-strand DNA-binding</td>\n",
       "      <td>SSB; Primosome PriB/single-strand DNA-binding</td>\n",
       "    </tr>\n",
       "  </tbody>\n",
       "</table>\n",
       "</div>"
      ],
      "text/plain": [
       "  domain-name                           domain-description_x  \\\n",
       "0     PF02666                                      Flocculin   \n",
       "1     PF02666                                      Flocculin   \n",
       "2     PF00012                                 2OG-FeII_Oxy_4   \n",
       "3     PF11701  SSB; Primosome PriB/single-strand DNA-binding   \n",
       "\n",
       "                            domain-description_y  \n",
       "0                                      Flocculin  \n",
       "1                                      Flocculin  \n",
       "2                                 2OG-FeII_Oxy_4  \n",
       "3  SSB; Primosome PriB/single-strand DNA-binding  "
      ]
     },
     "execution_count": 31,
     "metadata": {},
     "output_type": "execute_result"
    }
   ],
   "source": [
    "shared_domains_pd=pd.merge(repeated_features_sl,repeated_features_nsl,how='inner',on=['domain-name'])\n",
    "shared_domains_pd\n"
   ]
  },
  {
   "cell_type": "code",
   "execution_count": 32,
   "metadata": {
    "execution": {
     "iopub.execute_input": "2020-07-22T14:44:58.193382Z",
     "iopub.status.busy": "2020-07-22T14:44:58.189238Z",
     "iopub.status.idle": "2020-07-22T14:44:59.416082Z",
     "shell.execute_reply": "2020-07-22T14:44:59.415673Z"
    }
   },
   "outputs": [
    {
     "data": {
      "text/plain": [
       "(0.0, 0.2)"
      ]
     },
     "execution_count": 32,
     "metadata": {},
     "output_type": "execute_result"
    },
    {
     "data": {
      "image/png": "[encoded data removed]",
      "text/plain": [
       "<Figure size 432x288 with 1 Axes>"
      ]
     },
     "metadata": {
      "filenames": {
       "image/png": "/home/runner/work/jupyter-book/jupyter-book/mini_book/docs/_build/jupyter_execute/prot_domains2lethality-FEATURES-POSTPROCESSING_47_1.png"
      },
      "needs_background": "light"
     },
     "output_type": "display_data"
    }
   ],
   "source": [
    "a_sl=x_sl.iloc[:,np.sort(df_sl.iloc[:,1])]\n",
    "a_sl.describe().loc['mean'].hist(bins=8),\n",
    "a_sl.describe().loc['std'].hist(bins=8,alpha=0.4)\n",
    "plt.xlim([0,0.2])"
   ]
  },
  {
   "cell_type": "code",
   "execution_count": 33,
   "metadata": {
    "execution": {
     "iopub.execute_input": "2020-07-22T14:44:59.430319Z",
     "iopub.status.busy": "2020-07-22T14:44:59.424758Z",
     "iopub.status.idle": "2020-07-22T14:45:00.567381Z",
     "shell.execute_reply": "2020-07-22T14:45:00.566951Z"
    }
   },
   "outputs": [
    {
     "data": {
      "text/plain": [
       "(0.0, 0.2)"
      ]
     },
     "execution_count": 33,
     "metadata": {},
     "output_type": "execute_result"
    },
    {
     "data": {
      "image/png": "[encoded data removed]",
      "text/plain": [
       "<Figure size 432x288 with 1 Axes>"
      ]
     },
     "metadata": {
      "filenames": {
       "image/png": "/home/runner/work/jupyter-book/jupyter-book/mini_book/docs/_build/jupyter_execute/prot_domains2lethality-FEATURES-POSTPROCESSING_48_1.png"
      },
      "needs_background": "light"
     },
     "output_type": "display_data"
    }
   ],
   "source": [
    "a_nsl=x_nsl.iloc[:,np.sort(df_nsl.iloc[:,1])]\n",
    "a_nsl.describe().loc['mean'].hist(bins=8),\n",
    "a_nsl.describe().loc['std'].hist(bins=8,alpha=0.4)\n",
    "plt.xlim([0,0.2])"
   ]
  },
  {
   "cell_type": "markdown",
   "metadata": {},
   "source": [
    "### Proof of concept with *BEM1*\n",
    "\n",
    "- Gather the domains of SL and nSL pairs from BEM1\n",
    "- Check if the domains for the SL and nSL pairs are inside the most important domains after PCA."
   ]
  },
  {
   "cell_type": "code",
   "execution_count": 34,
   "metadata": {
    "execution": {
     "iopub.execute_input": "2020-07-22T14:45:00.574575Z",
     "iopub.status.busy": "2020-07-22T14:45:00.573924Z",
     "iopub.status.idle": "2020-07-22T14:45:00.576970Z",
     "shell.execute_reply": "2020-07-22T14:45:00.577323Z"
    }
   },
   "outputs": [],
   "source": [
    "domains_bem1=data_domains[data_domains['name']=='BEM1']['domain-descrip']\n",
    "sl_bem1=data_sl[data_sl['gene-query-name']=='BEM1']['gene-target-name']"
   ]
  },
  {
   "cell_type": "code",
   "execution_count": 35,
   "metadata": {
    "execution": {
     "iopub.execute_input": "2020-07-22T14:45:00.581408Z",
     "iopub.status.busy": "2020-07-22T14:45:00.580977Z",
     "iopub.status.idle": "2020-07-22T14:45:00.585455Z",
     "shell.execute_reply": "2020-07-22T14:45:00.585078Z"
    }
   },
   "outputs": [
    {
     "data": {
      "text/plain": [
       "2846      BEM2\n",
       "2847     CDC24\n",
       "5004      MSB1\n",
       "13777     SMI1\n",
       "13778     BNI1\n",
       "13779     BEM2\n",
       "14385     SKN7\n",
       "Name: gene-target-name, dtype: object"
      ]
     },
     "execution_count": 35,
     "metadata": {},
     "output_type": "execute_result"
    }
   ],
   "source": [
    "sl_bem1"
   ]
  },
  {
   "cell_type": "code",
   "execution_count": 36,
   "metadata": {
    "execution": {
     "iopub.execute_input": "2020-07-22T14:45:00.597888Z",
     "iopub.status.busy": "2020-07-22T14:45:00.597170Z",
     "iopub.status.idle": "2020-07-22T14:45:00.601833Z",
     "shell.execute_reply": "2020-07-22T14:45:00.601437Z"
    }
   },
   "outputs": [
    {
     "data": {
      "text/html": [
       "<div>\n",
       "<style scoped>\n",
       "    .dataframe tbody tr th:only-of-type {\n",
       "        vertical-align: middle;\n",
       "    }\n",
       "\n",
       "    .dataframe tbody tr th {\n",
       "        vertical-align: top;\n",
       "    }\n",
       "\n",
       "    .dataframe thead th {\n",
       "        text-align: right;\n",
       "    }\n",
       "</style>\n",
       "<table border=\"1\" class=\"dataframe\">\n",
       "  <thead>\n",
       "    <tr style=\"text-align: right;\">\n",
       "      <th></th>\n",
       "      <th>gene-query</th>\n",
       "      <th>gene-target</th>\n",
       "      <th>gene-query-name</th>\n",
       "      <th>gene-target-name</th>\n",
       "      <th>gene-query-description</th>\n",
       "      <th>gene-target-description</th>\n",
       "      <th>interaction-type</th>\n",
       "      <th>paper-source</th>\n",
       "    </tr>\n",
       "  </thead>\n",
       "  <tbody>\n",
       "    <tr>\n",
       "      <th>2846</th>\n",
       "      <td>YBR200W</td>\n",
       "      <td>YER155C</td>\n",
       "      <td>BEM1</td>\n",
       "      <td>BEM2</td>\n",
       "      <td>SRO1|phosphatidylinositol-3-phosphate-binding ...</td>\n",
       "      <td>IPL2|SUP9|TSL1|L000000168</td>\n",
       "      <td>Synthetic Lethality</td>\n",
       "      <td>Peterson J (1994)</td>\n",
       "    </tr>\n",
       "    <tr>\n",
       "      <th>2847</th>\n",
       "      <td>YBR200W</td>\n",
       "      <td>YAL041W</td>\n",
       "      <td>BEM1</td>\n",
       "      <td>CDC24</td>\n",
       "      <td>SRO1|phosphatidylinositol-3-phosphate-binding ...</td>\n",
       "      <td>CLS4|Rho family guanine nucleotide exchange fa...</td>\n",
       "      <td>Synthetic Lethality</td>\n",
       "      <td>Peterson J (1994)</td>\n",
       "    </tr>\n",
       "    <tr>\n",
       "      <th>5004</th>\n",
       "      <td>YBR200W</td>\n",
       "      <td>YOR188W</td>\n",
       "      <td>BEM1</td>\n",
       "      <td>MSB1</td>\n",
       "      <td>SRO1|phosphatidylinositol-3-phosphate-binding ...</td>\n",
       "      <td>L000001184</td>\n",
       "      <td>Synthetic Lethality</td>\n",
       "      <td>Bender A (1991)</td>\n",
       "    </tr>\n",
       "    <tr>\n",
       "      <th>13777</th>\n",
       "      <td>YBR200W</td>\n",
       "      <td>YGR229C</td>\n",
       "      <td>BEM1</td>\n",
       "      <td>SMI1</td>\n",
       "      <td>SRO1|phosphatidylinositol-3-phosphate-binding ...</td>\n",
       "      <td>KNR4|L000000909</td>\n",
       "      <td>Synthetic Lethality</td>\n",
       "      <td>Gorelik M (2011)</td>\n",
       "    </tr>\n",
       "    <tr>\n",
       "      <th>13778</th>\n",
       "      <td>YBR200W</td>\n",
       "      <td>YNL271C</td>\n",
       "      <td>BEM1</td>\n",
       "      <td>BNI1</td>\n",
       "      <td>SRO1|phosphatidylinositol-3-phosphate-binding ...</td>\n",
       "      <td>PPF3|SHE5|formin BNI1|L000000190</td>\n",
       "      <td>Synthetic Lethality</td>\n",
       "      <td>Gorelik M (2011)</td>\n",
       "    </tr>\n",
       "    <tr>\n",
       "      <th>13779</th>\n",
       "      <td>YBR200W</td>\n",
       "      <td>YER155C</td>\n",
       "      <td>BEM1</td>\n",
       "      <td>BEM2</td>\n",
       "      <td>SRO1|phosphatidylinositol-3-phosphate-binding ...</td>\n",
       "      <td>IPL2|SUP9|TSL1|L000000168</td>\n",
       "      <td>Synthetic Lethality</td>\n",
       "      <td>Gorelik M (2011)</td>\n",
       "    </tr>\n",
       "    <tr>\n",
       "      <th>14385</th>\n",
       "      <td>YBR200W</td>\n",
       "      <td>YHR206W</td>\n",
       "      <td>BEM1</td>\n",
       "      <td>SKN7</td>\n",
       "      <td>SRO1|phosphatidylinositol-3-phosphate-binding ...</td>\n",
       "      <td>BRY1|POS9|kinase-regulated stress-responsive t...</td>\n",
       "      <td>Dosage Lethality</td>\n",
       "      <td>Bouquin N (1999)</td>\n",
       "    </tr>\n",
       "  </tbody>\n",
       "</table>\n",
       "</div>"
      ],
      "text/plain": [
       "      gene-query gene-target gene-query-name gene-target-name  \\\n",
       "2846     YBR200W     YER155C            BEM1             BEM2   \n",
       "2847     YBR200W     YAL041W            BEM1            CDC24   \n",
       "5004     YBR200W     YOR188W            BEM1             MSB1   \n",
       "13777    YBR200W     YGR229C            BEM1             SMI1   \n",
       "13778    YBR200W     YNL271C            BEM1             BNI1   \n",
       "13779    YBR200W     YER155C            BEM1             BEM2   \n",
       "14385    YBR200W     YHR206W            BEM1             SKN7   \n",
       "\n",
       "                                  gene-query-description  \\\n",
       "2846   SRO1|phosphatidylinositol-3-phosphate-binding ...   \n",
       "2847   SRO1|phosphatidylinositol-3-phosphate-binding ...   \n",
       "5004   SRO1|phosphatidylinositol-3-phosphate-binding ...   \n",
       "13777  SRO1|phosphatidylinositol-3-phosphate-binding ...   \n",
       "13778  SRO1|phosphatidylinositol-3-phosphate-binding ...   \n",
       "13779  SRO1|phosphatidylinositol-3-phosphate-binding ...   \n",
       "14385  SRO1|phosphatidylinositol-3-phosphate-binding ...   \n",
       "\n",
       "                                 gene-target-description     interaction-type  \\\n",
       "2846                           IPL2|SUP9|TSL1|L000000168  Synthetic Lethality   \n",
       "2847   CLS4|Rho family guanine nucleotide exchange fa...  Synthetic Lethality   \n",
       "5004                                          L000001184  Synthetic Lethality   \n",
       "13777                                    KNR4|L000000909  Synthetic Lethality   \n",
       "13778                   PPF3|SHE5|formin BNI1|L000000190  Synthetic Lethality   \n",
       "13779                          IPL2|SUP9|TSL1|L000000168  Synthetic Lethality   \n",
       "14385  BRY1|POS9|kinase-regulated stress-responsive t...     Dosage Lethality   \n",
       "\n",
       "            paper-source  \n",
       "2846   Peterson J (1994)  \n",
       "2847   Peterson J (1994)  \n",
       "5004     Bender A (1991)  \n",
       "13777   Gorelik M (2011)  \n",
       "13778   Gorelik M (2011)  \n",
       "13779   Gorelik M (2011)  \n",
       "14385   Bouquin N (1999)  "
      ]
     },
     "execution_count": 36,
     "metadata": {},
     "output_type": "execute_result"
    }
   ],
   "source": [
    "data_sl[data_sl['gene-query-name']=='BEM1']"
   ]
  },
  {
   "cell_type": "code",
   "execution_count": null,
   "metadata": {},
   "outputs": [],
   "source": []
  }
 ],
 "metadata": {
  "jupytext": {
   "text_representation": {
    "extension": ".md",
    "format_name": "myst"
   }
  },
  "kernelspec": {
   "display_name": "Python 3",
   "language": "python",
   "name": "python3"
  },
  "language_info": {
   "codemirror_mode": {
    "name": "ipython",
    "version": 3
   },
   "file_extension": ".py",
   "mimetype": "text/x-python",
   "name": "python",
   "nbconvert_exporter": "python",
   "pygments_lexer": "ipython3",
   "version": "3.7.6"
  },
  "source_map": [
   10,
   18,
   29,
   36,
   57,
   66,
   98,
   101,
   105,
   128,
   131,
   135,
   139,
   145,
   178,
   184,
   188,
   206,
   210,
   218,
   222,
   225,
   229,
   234,
   238,
   244,
   248,
   253,
   257,
   267,
   269,
   273,
   306,
   311,
   313,
   317,
   328,
   330,
   334,
   344,
   348,
   358,
   360,
   364,
   381,
   388,
   394,
   400,
   407,
   412,
   419,
   424,
   428,
   432
  ]
 },
 "nbformat": 4,
 "nbformat_minor": 4
}