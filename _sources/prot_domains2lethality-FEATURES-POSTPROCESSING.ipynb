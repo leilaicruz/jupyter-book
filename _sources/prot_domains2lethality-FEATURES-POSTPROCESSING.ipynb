{
 "cells": [
  {
   "cell_type": "markdown",
   "metadata": {},
   "source": [
    "# Feature postprocessing from paper.\n",
    "- Title:  \"Predicting yeast synthetic lethal genetic interactions using protein domains\"\n",
    "- Authors: Bo Li, Feng Luo,School of Computing,Clemson University,Clemson, SC, USA\n",
    "- e-mail: bol, luofeng@clemson.edu\n",
    "- year:2009"
   ]
  },
  {
   "cell_type": "code",
   "execution_count": 1,
   "metadata": {
    "execution": {
     "iopub.execute_input": "2020-07-17T14:47:31.019980Z",
     "iopub.status.busy": "2020-07-17T14:47:31.019375Z",
     "iopub.status.idle": "2020-07-17T14:47:31.737235Z",
     "shell.execute_reply": "2020-07-17T14:47:31.737715Z"
    }
   },
   "outputs": [],
   "source": [
    "import pandas as pd\n",
    "import numpy as np\n",
    "import matplotlib.pyplot as plt\n",
    "from collections import defaultdict \n",
    "import seaborn as sns\n",
    "import matplotlib.cm as cm\n",
    "import scipy as scipy\n",
    "import random"
   ]
  },
  {
   "cell_type": "markdown",
   "metadata": {
    "jupyter": {
     "source_hidden": true
    }
   },
   "source": [
    "### Importing datasets \n",
    "\n",
    "#### Link to the github repo where the datasets to be downloaded:\n",
    "[DOWNLOAD THE DATASETS HERE](https://github.com/leilaicruz/machine-learning-for-yeast/tree/dev_Leila/datasets-for-learning)"
   ]
  },
  {
   "cell_type": "code",
   "execution_count": 2,
   "metadata": {
    "execution": {
     "iopub.execute_input": "2020-07-17T14:47:31.744539Z",
     "iopub.status.busy": "2020-07-17T14:47:31.743899Z",
     "iopub.status.idle": "2020-07-17T14:47:38.910639Z",
     "shell.execute_reply": "2020-07-17T14:47:38.911126Z"
    }
   },
   "outputs": [],
   "source": [
    "import os\n",
    "script_dir = os.path.dirname('__file__') #<-- absolute dir the script is in\n",
    "rel_path_SL = \"datasets/data-synthetic-lethals.xlsx\"\n",
    "rel_path_nSL=\"datasets/data-positive-genetic.xlsx\"\n",
    "rel_path_domains=\"datasets/proteins-domains-from-Pfam.xlsx\"\n",
    "\n",
    "abs_file_path_SL = os.path.join(script_dir, rel_path_SL)\n",
    "abs_file_path_nSL = os.path.join(script_dir, rel_path_nSL)\n",
    "abs_file_path_domains = os.path.join(script_dir, rel_path_domains)\n",
    "\n",
    "# os.chdir('mini_book/docs/') #<-- for binder os.chdir('../')\n",
    "# os.chdir('../')\n",
    "my_path_sl= abs_file_path_SL\n",
    "my_path_non_sl=abs_file_path_nSL\n",
    "my_path_domains=abs_file_path_domains\n",
    "\n",
    "data_sl=pd.read_excel(my_path_sl,header=0)\n",
    "data_domains=pd.read_excel(my_path_domains,header=0,index_col='Unnamed: 0')\n",
    "data_domains=data_domains.dropna()\n",
    "data_nonsl=pd.read_excel(my_path_non_sl,header=0)"
   ]
  },
  {
   "cell_type": "markdown",
   "metadata": {},
   "source": [
    "## Building the feature matrix\n",
    "One matrix for true SL where each row is one pair of SL. Every raw will be a vector of 0,1 or 2 depending on the comparison with the domain list. For row i the jth element = 0 if the jth element of the domain list is not in neither protein A and B, 1, if it is in one of them and 2 if it is in both of them .\n",
    "\n",
    "### Building the list of proteins domains id per protein pair separately :\n",
    "- List of protein A: Search for the Sl/nSL database the query gene name and look in the protein domain database which protein domains id has each of those queries.\n",
    "- List of protein B: Search for the Sl/nSL database the target gene name of the previous query and look in the protein domain database which protein domains id has each of those target genes."
   ]
  },
  {
   "cell_type": "code",
   "execution_count": 3,
   "metadata": {
    "execution": {
     "iopub.execute_input": "2020-07-17T14:47:38.925197Z",
     "iopub.status.busy": "2020-07-17T14:47:38.924695Z",
     "iopub.status.idle": "2020-07-17T14:47:41.078299Z",
     "shell.execute_reply": "2020-07-17T14:47:41.078803Z"
    }
   },
   "outputs": [],
   "source": [
    "# Selecting the meaningful columns in the respective dataset\n",
    "domain_id_list=data_domains['domain-name']\n",
    "query_gene=data_sl['gene-query-name']\n",
    "target_gene=data_sl['gene-target-name']\n",
    "query_gene_nonlethal=data_nonsl['gene-query-name']\n",
    "target_gene_nonlethal=data_nonsl['gene-target-name']\n",
    "\n",
    "\n",
    "\n",
    "# Initialising the arrays\n",
    "protein_a_list=[]\n",
    "protein_b_list=[]\n",
    "protein_a_list_non=[]\n",
    "protein_b_list_non=[]\n",
    "\n",
    "population = np.arange(0,len(data_sl))\n",
    "\n",
    "# For loop for 10000 pairs sampled randomly from the SL/nSl pair list , and creating a big array of proteind domains id per protein pair\n",
    "\n",
    "for m in random.sample(list(population), 500):\n",
    "    protein_a=data_domains[data_domains['name']==query_gene[m]]\n",
    "    protein_b=data_domains[data_domains['name']==target_gene[m]]\n",
    "    protein_a_list.append(protein_a['domain-name'].tolist())\n",
    "    protein_b_list.append(protein_b['domain-name'].tolist())\n",
    "\n",
    "    protein_a_non=data_domains[data_domains['name']==query_gene_nonlethal[m]]\n",
    "    protein_b_non=data_domains[data_domains['name']==target_gene_nonlethal[m]]\n",
    "    protein_a_list_non.append(protein_a_non['domain-name'].tolist())\n",
    "    protein_b_list_non.append(protein_b_non['domain-name'].tolist())"
   ]
  },
  {
   "cell_type": "code",
   "execution_count": 4,
   "metadata": {
    "execution": {
     "iopub.execute_input": "2020-07-17T14:47:41.084201Z",
     "iopub.status.busy": "2020-07-17T14:47:41.083555Z",
     "iopub.status.idle": "2020-07-17T14:47:41.088420Z",
     "shell.execute_reply": "2020-07-17T14:47:41.087950Z"
    }
   },
   "outputs": [
    {
     "name": "stdout",
     "output_type": "stream",
     "text": [
      "We are going to analyze 500 protein pairs, out of 17871 SL protein pairs\n",
      "We are going to analyze 500 protein pairs, out of 43340 positive protein pairs\n"
     ]
    }
   ],
   "source": [
    "print('We are going to analyze',len((protein_a_list)) ,'protein pairs, out of',len(data_sl),'SL protein pairs')\n",
    "print('We are going to analyze',len((protein_a_list_non)) ,'protein pairs, out of',len(data_nonsl),'positive protein pairs')"
   ]
  },
  {
   "cell_type": "markdown",
   "metadata": {},
   "source": [
    "### Postprocessing #1:  Remove protein pairs from study if either protein in the pair does not contain any domain"
   ]
  },
  {
   "cell_type": "code",
   "execution_count": 5,
   "metadata": {
    "execution": {
     "iopub.execute_input": "2020-07-17T14:47:41.097723Z",
     "iopub.status.busy": "2020-07-17T14:47:41.097181Z",
     "iopub.status.idle": "2020-07-17T14:47:41.100937Z",
     "shell.execute_reply": "2020-07-17T14:47:41.100441Z"
    }
   },
   "outputs": [],
   "source": [
    "def remove_empty_domains(protein_list_search,protein_list_pair):\n",
    "    index=[]\n",
    "    for i in np.arange(0,len(protein_list_search)):\n",
    "        if protein_list_search[i]==[] or protein_list_pair[i]==[]:\n",
    "            index.append(i) ## index of empty values for the protein_a_list meaning they dont have any annotated domain\n",
    "\n",
    "    y=[x for x in np.arange(0,len(protein_list_search)) if x not in index] # a list with non empty values from protein_a list\n",
    "\n",
    "    protein_list_search_new=[]\n",
    "    protein_list_pair_new=[]\n",
    "    for i in y:\n",
    "        protein_list_search_new.append(protein_list_search[i])\n",
    "        protein_list_pair_new.append(protein_list_pair[i])\n",
    "    return protein_list_search_new,protein_list_pair_new\n",
    "\n",
    "## evaluating the function\n",
    "\n",
    "protein_a_list_new,protein_b_list_new=remove_empty_domains(protein_a_list,protein_b_list)\n",
    "\n",
    "protein_a_list_non_new,protein_b_list_non_new=remove_empty_domains(protein_a_list_non,protein_b_list_non)"
   ]
  },
  {
   "cell_type": "code",
   "execution_count": 6,
   "metadata": {
    "execution": {
     "iopub.execute_input": "2020-07-17T14:47:41.106557Z",
     "iopub.status.busy": "2020-07-17T14:47:41.105946Z",
     "iopub.status.idle": "2020-07-17T14:47:41.108929Z",
     "shell.execute_reply": "2020-07-17T14:47:41.109419Z"
    }
   },
   "outputs": [
    {
     "name": "stdout",
     "output_type": "stream",
     "text": [
      "The empty domain in the SL were: 91 out of 500 domains\n",
      "The empty domain in the nSL were: 79 out of 500 domains\n"
     ]
    }
   ],
   "source": [
    "print('The empty domain in the SL were:', len(protein_a_list)-len(protein_a_list_new), 'out of', len(protein_a_list),'domains')\n",
    "print('The empty domain in the nSL were:', len(protein_a_list_non)-len(protein_a_list_non_new), 'out of', len(protein_a_list_non),'domains')"
   ]
  },
  {
   "cell_type": "markdown",
   "metadata": {},
   "source": [
    "### Feature engineering: Select from each ordered indexes of domain id list which of them appear once, in both or in any of the domains of each protein pair"
   ]
  },
  {
   "cell_type": "markdown",
   "metadata": {},
   "source": [
    "#### Define function `get_indexes`"
   ]
  },
  {
   "cell_type": "code",
   "execution_count": 7,
   "metadata": {
    "execution": {
     "iopub.execute_input": "2020-07-17T14:47:41.116532Z",
     "iopub.status.busy": "2020-07-17T14:47:41.115992Z",
     "iopub.status.idle": "2020-07-17T14:47:41.118691Z",
     "shell.execute_reply": "2020-07-17T14:47:41.119105Z"
    }
   },
   "outputs": [
    {
     "data": {
      "text/plain": [
       "[1, 2]"
      ]
     },
     "execution_count": 7,
     "metadata": {},
     "output_type": "execute_result"
    }
   ],
   "source": [
    "get_indexes = lambda x, xs: [i for (y, i) in zip(xs, range(len(xs))) if x == y] # a function that give the index of whether a value appear in array or not\n",
    "a=[1,2,2,4,5,6,7,8,9,10]\n",
    "get_indexes(2,a)"
   ]
  },
  {
   "cell_type": "code",
   "execution_count": 8,
   "metadata": {
    "execution": {
     "iopub.execute_input": "2020-07-17T14:47:41.128173Z",
     "iopub.status.busy": "2020-07-17T14:47:41.126969Z",
     "iopub.status.idle": "2020-07-17T14:47:41.129465Z",
     "shell.execute_reply": "2020-07-17T14:47:41.129018Z"
    }
   },
   "outputs": [],
   "source": [
    "def feature_building(protein_a_list_new,protein_b_list_new):\n",
    "    x = np.unique(domain_id_list)\n",
    "    ## To avoid taking repeated domains from one protein of the pairs , lets reduced the domains of each protein from the pairs to their unique members\n",
    "    protein_a_list_unique=[]\n",
    "    protein_b_list_unique=[]\n",
    "    for i in np.arange(0,len(protein_a_list_new)):\n",
    "        protein_a_list_unique.append(np.unique(protein_a_list_new[i]))\n",
    "        protein_b_list_unique.append(np.unique(protein_b_list_new[i]))\n",
    "        \n",
    "    protein_feat_true=np.zeros(shape=(len(x),len(protein_a_list_unique)))\n",
    "    pair_a_b_array=[]\n",
    "    for i in np.arange(0,len(protein_a_list_unique)):\n",
    "        index_a=[]\n",
    "        \n",
    "        pair=[protein_a_list_unique[i],protein_b_list_unique[i]]\n",
    "        pair_a_b=np.concatenate(pair).ravel()\n",
    "        pair_a_b_array.append(pair_a_b)\n",
    "\n",
    "    j=0\n",
    "    for i in pair_a_b_array:  \n",
    "        array,index,counts=np.unique(i,return_index=True,return_counts=True)\n",
    "        \n",
    "        for k,m in zip(counts,array):\n",
    "            if k ==2:\n",
    "                protein_feat_true[get_indexes(m,x),j]=2\n",
    "                \n",
    "            if k==1:\n",
    "                protein_feat_true[get_indexes(m,x),j]=1\n",
    "        j=j+1\n",
    "    return protein_feat_true"
   ]
  },
  {
   "cell_type": "code",
   "execution_count": 9,
   "metadata": {
    "execution": {
     "iopub.execute_input": "2020-07-17T14:47:41.137766Z",
     "iopub.status.busy": "2020-07-17T14:47:41.137188Z",
     "iopub.status.idle": "2020-07-17T14:47:41.823648Z",
     "shell.execute_reply": "2020-07-17T14:47:41.822664Z"
    }
   },
   "outputs": [],
   "source": [
    "protein_feat_true=feature_building(protein_b_list_new=protein_b_list_new,protein_a_list_new=protein_a_list_new)\n",
    "protein_feat_true_pd=pd.DataFrame(protein_feat_true.T)\n",
    "\n",
    "protein_feat_non_true=feature_building(protein_b_list_new=protein_b_list_non_new,protein_a_list_new=protein_a_list_non_new)\n",
    "protein_feat_non_true_pd=pd.DataFrame(protein_feat_non_true.T)"
   ]
  },
  {
   "cell_type": "markdown",
   "metadata": {},
   "source": [
    "### How many ones and twos are in each dataset"
   ]
  },
  {
   "cell_type": "code",
   "execution_count": 10,
   "metadata": {
    "execution": {
     "iopub.execute_input": "2020-07-17T14:47:41.831286Z",
     "iopub.status.busy": "2020-07-17T14:47:41.830354Z",
     "iopub.status.idle": "2020-07-17T14:47:41.925277Z",
     "shell.execute_reply": "2020-07-17T14:47:41.924799Z"
    }
   },
   "outputs": [
    {
     "name": "stdout",
     "output_type": "stream",
     "text": [
      "fraction of twos in the SL array is 2.1823031380710866e-05\n",
      "fraction of ones in the SL array is 0.0009893107559255593\n",
      "fraction of twos in the PI array is 6.281776957656897e-06\n",
      "fraction of ones in the PI array is 0.0009249916570149781\n"
     ]
    }
   ],
   "source": [
    "index_2_true=protein_feat_true_pd.where(protein_feat_true_pd==2)\n",
    "index_2_true_count=index_2_true.count(axis=1).sum()\n",
    "\n",
    "index_1_true=protein_feat_true_pd.where(protein_feat_true_pd==1)\n",
    "index_1_true_count=index_1_true.count(axis=1).sum()\n",
    "\n",
    "index_2_nontrue=protein_feat_non_true_pd.where(protein_feat_non_true_pd==2)\n",
    "index_2_nontrue_count=index_2_nontrue.count(axis=1).sum()\n",
    "\n",
    "index_1_nontrue=protein_feat_non_true_pd.where(protein_feat_non_true_pd==1)\n",
    "index_1_nontrue_count=index_1_nontrue.count(axis=1).sum()\n",
    "\n",
    "\n",
    "print('fraction of twos in the SL array is',index_2_true_count/(len(protein_feat_true_pd.index)*len(protein_feat_true_pd.columns)))\n",
    "print('fraction of ones in the SL array is',index_1_true_count/(len(protein_feat_true_pd.index)*len(protein_feat_true_pd.columns)))\n",
    "print('fraction of twos in the PI array is',index_2_nontrue_count/(len(protein_feat_non_true_pd.index)*len(protein_feat_non_true_pd.columns)))\n",
    "print('fraction of ones in the PI array is',index_1_nontrue_count/(len(protein_feat_non_true_pd.index)*len(protein_feat_non_true_pd.columns)))"
   ]
  },
  {
   "cell_type": "markdown",
   "metadata": {},
   "source": [
    "#### Bar plot to visualize these numbers"
   ]
  },
  {
   "cell_type": "code",
   "execution_count": 11,
   "metadata": {
    "execution": {
     "iopub.execute_input": "2020-07-17T14:47:41.956210Z",
     "iopub.status.busy": "2020-07-17T14:47:41.931616Z",
     "iopub.status.idle": "2020-07-17T14:47:42.354412Z",
     "shell.execute_reply": "2020-07-17T14:47:42.354784Z"
    }
   },
   "outputs": [
    {
     "data": {
      "text/plain": [
       "([0, 1, 2, 3], <a list of 4 Text major ticklabel objects>)"
      ]
     },
     "execution_count": 11,
     "metadata": {},
     "output_type": "execute_result"
    },
    {
     "data": {
      "image/png": "[encoded data removed]",
      "text/plain": [
       "<Figure size 432x288 with 1 Axes>"
      ]
     },
     "metadata": {
      "filenames": {
       "image/png": "/home/runner/work/jupyter-book/jupyter-book/mini_book/docs/_build/jupyter_execute/prot_domains2lethality-FEATURES-POSTPROCESSING_18_1.png"
      },
      "needs_background": "light"
     },
     "output_type": "display_data"
    }
   ],
   "source": [
    "plt.bar(['fraction of 2 in the nSL','fraction of 1 in the nSL'],[index_2_nontrue_count/(len(protein_feat_non_true_pd.index)*len(protein_feat_non_true_pd.columns)),index_1_nontrue_count/(len(protein_feat_non_true_pd.index)*len(protein_feat_non_true_pd.columns))],alpha=0.6,color=['blue','lightblue']), \n",
    "\n",
    "plt.bar(['fraction of 2 in SL ','fraction of 1 in SL'],[index_2_true_count/(len(protein_feat_true_pd.index)*len(protein_feat_true_pd.columns)),index_1_true_count/(len(protein_feat_true_pd.index)*len(protein_feat_true_pd.columns))],alpha=0.6,color=['coral','lightcoral'])\n",
    "\n",
    "plt.ylabel('Fraction from the population')\n",
    "plt.yscale('log')\n",
    "plt.xticks(rotation=40)"
   ]
  },
  {
   "cell_type": "markdown",
   "metadata": {},
   "source": [
    "#### Adding the labels(response variables) to each dataset"
   ]
  },
  {
   "cell_type": "code",
   "execution_count": 12,
   "metadata": {
    "execution": {
     "iopub.execute_input": "2020-07-17T14:47:42.360766Z",
     "iopub.status.busy": "2020-07-17T14:47:42.359841Z",
     "iopub.status.idle": "2020-07-17T14:47:42.364865Z",
     "shell.execute_reply": "2020-07-17T14:47:42.365597Z"
    }
   },
   "outputs": [],
   "source": [
    "protein_feat_true_pd['lethality']=np.ones(shape=(len(protein_a_list_new)))\n",
    "protein_feat_non_true_pd['lethality']=np.zeros(shape=(len(protein_a_list_non_new)))"
   ]
  },
  {
   "cell_type": "markdown",
   "metadata": {},
   "source": [
    "#### Joining both datasets"
   ]
  },
  {
   "cell_type": "code",
   "execution_count": 13,
   "metadata": {
    "execution": {
     "iopub.execute_input": "2020-07-17T14:47:42.372093Z",
     "iopub.status.busy": "2020-07-17T14:47:42.371346Z",
     "iopub.status.idle": "2020-07-17T14:47:42.408360Z",
     "shell.execute_reply": "2020-07-17T14:47:42.409065Z"
    }
   },
   "outputs": [
    {
     "name": "stdout",
     "output_type": "stream",
     "text": [
      "The number of features are: 3026\n",
      "The number of samples are: 830\n"
     ]
    }
   ],
   "source": [
    "feature_post=pd.concat([protein_feat_true_pd,protein_feat_non_true_pd],axis=0)\n",
    "feature_post=feature_post.set_index(np.arange(0,len(protein_a_list_new)+len(protein_a_list_non_new)))\n",
    "print('The number of features are:',feature_post.shape[1])\n",
    "print('The number of samples are:',feature_post.shape[0])"
   ]
  },
  {
   "cell_type": "markdown",
   "metadata": {},
   "source": [
    "### Postprocessing and exploration of the feature matrix of both datasets"
   ]
  },
  {
   "cell_type": "code",
   "execution_count": 14,
   "metadata": {
    "execution": {
     "iopub.execute_input": "2020-07-17T14:47:42.424646Z",
     "iopub.status.busy": "2020-07-17T14:47:42.422815Z",
     "iopub.status.idle": "2020-07-17T14:47:47.485911Z",
     "shell.execute_reply": "2020-07-17T14:47:47.485094Z"
    }
   },
   "outputs": [],
   "source": [
    "mean=feature_post.T.describe().loc['mean']\n",
    "std=feature_post.T.describe().loc['std']\n",
    "lethality=feature_post['lethality']\n",
    "\n",
    "corr_keys=pd.concat([mean,std,lethality],axis=1)"
   ]
  },
  {
   "cell_type": "markdown",
   "metadata": {},
   "source": [
    "### Viz of the stats"
   ]
  },
  {
   "cell_type": "code",
   "execution_count": 15,
   "metadata": {
    "execution": {
     "iopub.execute_input": "2020-07-17T14:47:47.500792Z",
     "iopub.status.busy": "2020-07-17T14:47:47.497582Z",
     "iopub.status.idle": "2020-07-17T14:47:49.431065Z",
     "shell.execute_reply": "2020-07-17T14:47:49.430107Z"
    }
   },
   "outputs": [
    {
     "data": {
      "text/plain": [
       "Text(0.5, 1.08, 'Pairplot to see data dependencies with Lethality')"
      ]
     },
     "execution_count": 15,
     "metadata": {},
     "output_type": "execute_result"
    },
    {
     "data": {
      "image/png": "[encoded data removed]",
      "text/plain": [
       "<Figure size 412x360 with 6 Axes>"
      ]
     },
     "metadata": {
      "filenames": {
       "image/png": "/home/runner/work/jupyter-book/jupyter-book/mini_book/docs/_build/jupyter_execute/prot_domains2lethality-FEATURES-POSTPROCESSING_26_1.png"
      },
      "needs_background": "light"
     },
     "output_type": "display_data"
    }
   ],
   "source": [
    "pair=sns.pairplot(corr_keys,hue='lethality',diag_kind='kde',kind='reg',palette='colorblind')\n",
    "pair.fig.suptitle('Pairplot to see data dependencies with Lethality',y=1.08)"
   ]
  },
  {
   "cell_type": "code",
   "execution_count": 16,
   "metadata": {
    "execution": {
     "iopub.execute_input": "2020-07-17T14:47:49.442228Z",
     "iopub.status.busy": "2020-07-17T14:47:49.441662Z",
     "iopub.status.idle": "2020-07-17T14:47:49.445560Z",
     "shell.execute_reply": "2020-07-17T14:47:49.445077Z"
    }
   },
   "outputs": [],
   "source": [
    "X, y = feature_post.drop(columns=[\"lethality\"]), feature_post[\"lethality\"]"
   ]
  },
  {
   "cell_type": "code",
   "execution_count": 17,
   "metadata": {
    "execution": {
     "iopub.execute_input": "2020-07-17T14:47:49.450180Z",
     "iopub.status.busy": "2020-07-17T14:47:49.449259Z",
     "iopub.status.idle": "2020-07-17T14:47:49.592275Z",
     "shell.execute_reply": "2020-07-17T14:47:49.592820Z"
    }
   },
   "outputs": [],
   "source": [
    "from sklearn.preprocessing import StandardScaler\n",
    "scaler = StandardScaler()\n",
    "x_sl=protein_feat_true_pd.drop(columns=['lethality'])\n",
    "x_nsl=protein_feat_non_true_pd.drop(columns=['lethality'])\n",
    "\n",
    "X_sl_scaled = scaler.fit_transform(x_sl)\n",
    "X_nsl_scaled = scaler.fit_transform(x_nsl)"
   ]
  },
  {
   "cell_type": "code",
   "execution_count": 18,
   "metadata": {
    "execution": {
     "iopub.execute_input": "2020-07-17T14:47:49.598520Z",
     "iopub.status.busy": "2020-07-17T14:47:49.597881Z",
     "iopub.status.idle": "2020-07-17T14:47:49.600651Z",
     "shell.execute_reply": "2020-07-17T14:47:49.601054Z"
    }
   },
   "outputs": [
    {
     "data": {
      "text/plain": [
       "(409, 3025)"
      ]
     },
     "execution_count": 18,
     "metadata": {},
     "output_type": "execute_result"
    }
   ],
   "source": [
    "np.shape(X_sl_scaled)"
   ]
  },
  {
   "cell_type": "markdown",
   "metadata": {},
   "source": [
    "## How redundant are each of the protein domains?"
   ]
  },
  {
   "cell_type": "code",
   "execution_count": 19,
   "metadata": {
    "execution": {
     "iopub.execute_input": "2020-07-17T14:47:49.608823Z",
     "iopub.status.busy": "2020-07-17T14:47:49.607537Z",
     "iopub.status.idle": "2020-07-17T14:47:49.609635Z",
     "shell.execute_reply": "2020-07-17T14:47:49.610067Z"
    }
   },
   "outputs": [],
   "source": [
    "def PCA_component_contribution(scaled_matrix,original_data):\n",
    "    from sklearn.decomposition import PCA\n",
    "\n",
    "    model = PCA(0.95).fit(scaled_matrix)\n",
    "    ## apply dimensionality reduction to X_train\n",
    "    output_pca = model.transform(scaled_matrix)\n",
    "    \n",
    "    total=sum(model.explained_variance_)\n",
    "\n",
    "\n",
    "   \n",
    "    # number of components , that it will be the number of main axes times the number of original components \n",
    "    n_pcs= model.components_.shape[0] # the amount of non redundant protein domains \n",
    "\n",
    "    # get the index of the most important feature on EACH component\n",
    "    # LIST COMPREHENSION HERE\n",
    "    most_important = [np.abs(model.components_[i]).argmax() for i in range(n_pcs)]\n",
    "\n",
    "    initial_feature_names = original_data.columns\n",
    "    # get the names\n",
    "    most_important_names = [initial_feature_names[most_important[i]] for i in range(n_pcs)]\n",
    "    \n",
    "\n",
    "    # LIST COMPREHENSION HERE AGAIN\n",
    "    dic = {'PC{}'.format(i): most_important_names[i] for i in range(n_pcs)}\n",
    "\n",
    "    # build the dataframe\n",
    "    df = pd.DataFrame(dic.items(),columns=['pca-component','domain-number'])\n",
    "\n",
    "    return df,model.components_"
   ]
  },
  {
   "cell_type": "code",
   "execution_count": 20,
   "metadata": {
    "execution": {
     "iopub.execute_input": "2020-07-17T14:47:49.613877Z",
     "iopub.status.busy": "2020-07-17T14:47:49.613395Z",
     "iopub.status.idle": "2020-07-17T14:47:50.355420Z",
     "shell.execute_reply": "2020-07-17T14:47:50.355951Z"
    }
   },
   "outputs": [],
   "source": [
    "df_sl,components_pca_nsl=PCA_component_contribution(X_nsl_scaled,x_nsl)\n",
    "df_nsl,components_pca_sl=PCA_component_contribution(X_sl_scaled,x_sl)"
   ]
  },
  {
   "cell_type": "code",
   "execution_count": 21,
   "metadata": {
    "execution": {
     "iopub.execute_input": "2020-07-17T14:47:50.358520Z",
     "iopub.status.busy": "2020-07-17T14:47:50.357854Z",
     "iopub.status.idle": "2020-07-17T14:47:50.366509Z",
     "shell.execute_reply": "2020-07-17T14:47:50.367026Z"
    }
   },
   "outputs": [
    {
     "data": {
      "text/html": [
       "<div>\n",
       "<style scoped>\n",
       "    .dataframe tbody tr th:only-of-type {\n",
       "        vertical-align: middle;\n",
       "    }\n",
       "\n",
       "    .dataframe tbody tr th {\n",
       "        vertical-align: top;\n",
       "    }\n",
       "\n",
       "    .dataframe thead th {\n",
       "        text-align: right;\n",
       "    }\n",
       "</style>\n",
       "<table border=\"1\" class=\"dataframe\">\n",
       "  <thead>\n",
       "    <tr style=\"text-align: right;\">\n",
       "      <th></th>\n",
       "      <th>pca-component</th>\n",
       "      <th>domain-number</th>\n",
       "    </tr>\n",
       "  </thead>\n",
       "  <tbody>\n",
       "    <tr>\n",
       "      <th>0</th>\n",
       "      <td>PC0</td>\n",
       "      <td>2771</td>\n",
       "    </tr>\n",
       "    <tr>\n",
       "      <th>1</th>\n",
       "      <td>PC1</td>\n",
       "      <td>858</td>\n",
       "    </tr>\n",
       "    <tr>\n",
       "      <th>2</th>\n",
       "      <td>PC2</td>\n",
       "      <td>989</td>\n",
       "    </tr>\n",
       "    <tr>\n",
       "      <th>3</th>\n",
       "      <td>PC3</td>\n",
       "      <td>55</td>\n",
       "    </tr>\n",
       "    <tr>\n",
       "      <th>4</th>\n",
       "      <td>PC4</td>\n",
       "      <td>926</td>\n",
       "    </tr>\n",
       "  </tbody>\n",
       "</table>\n",
       "</div>"
      ],
      "text/plain": [
       "  pca-component  domain-number\n",
       "0           PC0           2771\n",
       "1           PC1            858\n",
       "2           PC2            989\n",
       "3           PC3             55\n",
       "4           PC4            926"
      ]
     },
     "execution_count": 21,
     "metadata": {},
     "output_type": "execute_result"
    }
   ],
   "source": [
    "df_sl.head()"
   ]
  },
  {
   "cell_type": "markdown",
   "metadata": {},
   "source": [
    "## which are the shared domains between nSL and SL pairs , in the PCA reduced samples"
   ]
  },
  {
   "cell_type": "code",
   "execution_count": 22,
   "metadata": {
    "execution": {
     "iopub.execute_input": "2020-07-17T14:47:50.369501Z",
     "iopub.status.busy": "2020-07-17T14:47:50.368860Z",
     "iopub.status.idle": "2020-07-17T14:47:50.400367Z",
     "shell.execute_reply": "2020-07-17T14:47:50.400918Z"
    }
   },
   "outputs": [
    {
     "data": {
      "text/html": [
       "<div>\n",
       "<style scoped>\n",
       "    .dataframe tbody tr th:only-of-type {\n",
       "        vertical-align: middle;\n",
       "    }\n",
       "\n",
       "    .dataframe tbody tr th {\n",
       "        vertical-align: top;\n",
       "    }\n",
       "\n",
       "    .dataframe thead th {\n",
       "        text-align: right;\n",
       "    }\n",
       "</style>\n",
       "<table border=\"1\" class=\"dataframe\">\n",
       "  <thead>\n",
       "    <tr style=\"text-align: right;\">\n",
       "      <th></th>\n",
       "      <th>pca-component_x</th>\n",
       "      <th>domain-number</th>\n",
       "      <th>pca-component_y</th>\n",
       "      <th>domain-description</th>\n",
       "    </tr>\n",
       "  </thead>\n",
       "  <tbody>\n",
       "    <tr>\n",
       "      <th>0</th>\n",
       "      <td>PC1</td>\n",
       "      <td>858</td>\n",
       "      <td>PC27</td>\n",
       "      <td>F420_oxidored; Pyrroline-5-carboxylate reducta...</td>\n",
       "    </tr>\n",
       "    <tr>\n",
       "      <th>1</th>\n",
       "      <td>PC1</td>\n",
       "      <td>858</td>\n",
       "      <td>PC28</td>\n",
       "      <td>F420_oxidored; Pyrroline-5-carboxylate reducta...</td>\n",
       "    </tr>\n",
       "    <tr>\n",
       "      <th>2</th>\n",
       "      <td>PC4</td>\n",
       "      <td>926</td>\n",
       "      <td>PC26</td>\n",
       "      <td>Flp_C; Recombinase Flp protein</td>\n",
       "    </tr>\n",
       "    <tr>\n",
       "      <th>3</th>\n",
       "      <td>PC11</td>\n",
       "      <td>77</td>\n",
       "      <td>PC41</td>\n",
       "      <td>AMP-binding; AMP-dependent synthetase/ligase</td>\n",
       "    </tr>\n",
       "    <tr>\n",
       "      <th>4</th>\n",
       "      <td>PC12</td>\n",
       "      <td>219</td>\n",
       "      <td>PC11</td>\n",
       "      <td>Apc15p; Anaphase-promoting complex subunit  15...</td>\n",
       "    </tr>\n",
       "    <tr>\n",
       "      <th>5</th>\n",
       "      <td>PC21</td>\n",
       "      <td>2101</td>\n",
       "      <td>PC43</td>\n",
       "      <td>Ran-binding; GTP-binding nuclear protein Ran-r...</td>\n",
       "    </tr>\n",
       "    <tr>\n",
       "      <th>6</th>\n",
       "      <td>PC26</td>\n",
       "      <td>9</td>\n",
       "      <td>PC143</td>\n",
       "      <td>40S_S4_C; 40S ribosomal protein S4, C-terminal...</td>\n",
       "    </tr>\n",
       "    <tr>\n",
       "      <th>7</th>\n",
       "      <td>PC33</td>\n",
       "      <td>1265</td>\n",
       "      <td>PC120</td>\n",
       "      <td>Kei1; Protein of unknown function DUF1753, Golgi</td>\n",
       "    </tr>\n",
       "    <tr>\n",
       "      <th>8</th>\n",
       "      <td>PC38</td>\n",
       "      <td>2980</td>\n",
       "      <td>PC217</td>\n",
       "      <td>zf-CCCH; Zinc finger, CCCH-type</td>\n",
       "    </tr>\n",
       "    <tr>\n",
       "      <th>9</th>\n",
       "      <td>PC38</td>\n",
       "      <td>2980</td>\n",
       "      <td>PC233</td>\n",
       "      <td>zf-CCCH; Zinc finger, CCCH-type</td>\n",
       "    </tr>\n",
       "    <tr>\n",
       "      <th>10</th>\n",
       "      <td>PC43</td>\n",
       "      <td>1097</td>\n",
       "      <td>PC106</td>\n",
       "      <td>HATPase_c_3</td>\n",
       "    </tr>\n",
       "    <tr>\n",
       "      <th>11</th>\n",
       "      <td>PC43</td>\n",
       "      <td>1097</td>\n",
       "      <td>PC112</td>\n",
       "      <td>HATPase_c_3</td>\n",
       "    </tr>\n",
       "    <tr>\n",
       "      <th>12</th>\n",
       "      <td>PC50</td>\n",
       "      <td>1106</td>\n",
       "      <td>PC73</td>\n",
       "      <td>HEAT_2</td>\n",
       "    </tr>\n",
       "    <tr>\n",
       "      <th>13</th>\n",
       "      <td>PC51</td>\n",
       "      <td>1836</td>\n",
       "      <td>PC33</td>\n",
       "      <td>PTPLA; Protein-tyrosine phosphatase-like, PTPLA</td>\n",
       "    </tr>\n",
       "    <tr>\n",
       "      <th>14</th>\n",
       "      <td>PC55</td>\n",
       "      <td>82</td>\n",
       "      <td>PC18</td>\n",
       "      <td>ANAPC10; APC10/DOC domain</td>\n",
       "    </tr>\n",
       "    <tr>\n",
       "      <th>15</th>\n",
       "      <td>PC62</td>\n",
       "      <td>599</td>\n",
       "      <td>PC4</td>\n",
       "      <td>DLIC; Dynein family light intermediate chain</td>\n",
       "    </tr>\n",
       "    <tr>\n",
       "      <th>16</th>\n",
       "      <td>PC65</td>\n",
       "      <td>841</td>\n",
       "      <td>PC47</td>\n",
       "      <td>Endonuclease_NS; DNA/RNA non-specific endonucl...</td>\n",
       "    </tr>\n",
       "    <tr>\n",
       "      <th>17</th>\n",
       "      <td>PC66</td>\n",
       "      <td>841</td>\n",
       "      <td>PC47</td>\n",
       "      <td>Endonuclease_NS; DNA/RNA non-specific endonucl...</td>\n",
       "    </tr>\n",
       "    <tr>\n",
       "      <th>18</th>\n",
       "      <td>PC70</td>\n",
       "      <td>65</td>\n",
       "      <td>PC117</td>\n",
       "      <td>AIM3; Altered inheritance of mitochondria prot...</td>\n",
       "    </tr>\n",
       "    <tr>\n",
       "      <th>19</th>\n",
       "      <td>PC70</td>\n",
       "      <td>65</td>\n",
       "      <td>PC118</td>\n",
       "      <td>AIM3; Altered inheritance of mitochondria prot...</td>\n",
       "    </tr>\n",
       "    <tr>\n",
       "      <th>20</th>\n",
       "      <td>PC74</td>\n",
       "      <td>629</td>\n",
       "      <td>PC219</td>\n",
       "      <td>DSHCT; ATP-dependent RNA helicase Ski2, C-term...</td>\n",
       "    </tr>\n",
       "    <tr>\n",
       "      <th>21</th>\n",
       "      <td>PC77</td>\n",
       "      <td>2007</td>\n",
       "      <td>PC65</td>\n",
       "      <td>RNA_pol_L_2; DNA-directed RNA polymerase, RBP1...</td>\n",
       "    </tr>\n",
       "    <tr>\n",
       "      <th>22</th>\n",
       "      <td>PC88</td>\n",
       "      <td>2936</td>\n",
       "      <td>PC179</td>\n",
       "      <td>tRNA-synt_1c; Glutamyl/glutaminyl-tRNA synthet...</td>\n",
       "    </tr>\n",
       "    <tr>\n",
       "      <th>23</th>\n",
       "      <td>PC89</td>\n",
       "      <td>1275</td>\n",
       "      <td>PC92</td>\n",
       "      <td>Kinetocho_Slk19; Central kinetochore-associated</td>\n",
       "    </tr>\n",
       "    <tr>\n",
       "      <th>24</th>\n",
       "      <td>PC100</td>\n",
       "      <td>1275</td>\n",
       "      <td>PC92</td>\n",
       "      <td>Kinetocho_Slk19; Central kinetochore-associated</td>\n",
       "    </tr>\n",
       "    <tr>\n",
       "      <th>25</th>\n",
       "      <td>PC106</td>\n",
       "      <td>1347</td>\n",
       "      <td>PC128</td>\n",
       "      <td>MAM33; Mitochondrial glycoprotein</td>\n",
       "    </tr>\n",
       "    <tr>\n",
       "      <th>26</th>\n",
       "      <td>PC106</td>\n",
       "      <td>1347</td>\n",
       "      <td>PC135</td>\n",
       "      <td>MAM33; Mitochondrial glycoprotein</td>\n",
       "    </tr>\n",
       "    <tr>\n",
       "      <th>27</th>\n",
       "      <td>PC108</td>\n",
       "      <td>1410</td>\n",
       "      <td>PC119</td>\n",
       "      <td>MTHFR; Methylenetetrahydrofolate reductase</td>\n",
       "    </tr>\n",
       "    <tr>\n",
       "      <th>28</th>\n",
       "      <td>PC115</td>\n",
       "      <td>474</td>\n",
       "      <td>PC50</td>\n",
       "      <td>Cir_N; CBF1-interacting co-repressor CIR, N-te...</td>\n",
       "    </tr>\n",
       "    <tr>\n",
       "      <th>29</th>\n",
       "      <td>PC125</td>\n",
       "      <td>887</td>\n",
       "      <td>PC232</td>\n",
       "      <td>FMN_dh; FMN-dependent dehydrogenase</td>\n",
       "    </tr>\n",
       "    <tr>\n",
       "      <th>30</th>\n",
       "      <td>PC132</td>\n",
       "      <td>2584</td>\n",
       "      <td>PC68</td>\n",
       "      <td>TFIIIC_sub6; Transcription factor TFIIIC, tau5...</td>\n",
       "    </tr>\n",
       "    <tr>\n",
       "      <th>31</th>\n",
       "      <td>PC136</td>\n",
       "      <td>376</td>\n",
       "      <td>PC21</td>\n",
       "      <td>COG2; Conserved oligomeric Golgi complex, subu...</td>\n",
       "    </tr>\n",
       "    <tr>\n",
       "      <th>32</th>\n",
       "      <td>PC137</td>\n",
       "      <td>1030</td>\n",
       "      <td>PC250</td>\n",
       "      <td>Gcn1_N; Gcn1, N-terminal</td>\n",
       "    </tr>\n",
       "    <tr>\n",
       "      <th>33</th>\n",
       "      <td>PC138</td>\n",
       "      <td>1233</td>\n",
       "      <td>PC108</td>\n",
       "      <td>Inhibitor_I9; Peptidase S8 propeptide/proteina...</td>\n",
       "    </tr>\n",
       "    <tr>\n",
       "      <th>34</th>\n",
       "      <td>PC148</td>\n",
       "      <td>473</td>\n",
       "      <td>PC23</td>\n",
       "      <td>Cid2; Caffeine-induced death protein 2</td>\n",
       "    </tr>\n",
       "    <tr>\n",
       "      <th>35</th>\n",
       "      <td>PC148</td>\n",
       "      <td>473</td>\n",
       "      <td>PC24</td>\n",
       "      <td>Cid2; Caffeine-induced death protein 2</td>\n",
       "    </tr>\n",
       "    <tr>\n",
       "      <th>36</th>\n",
       "      <td>PC153</td>\n",
       "      <td>2916</td>\n",
       "      <td>PC266</td>\n",
       "      <td>fn3_2; Fibronectin type III domain, fungi</td>\n",
       "    </tr>\n",
       "    <tr>\n",
       "      <th>37</th>\n",
       "      <td>PC159</td>\n",
       "      <td>2916</td>\n",
       "      <td>PC266</td>\n",
       "      <td>fn3_2; Fibronectin type III domain, fungi</td>\n",
       "    </tr>\n",
       "    <tr>\n",
       "      <th>38</th>\n",
       "      <td>PC171</td>\n",
       "      <td>1389</td>\n",
       "      <td>PC72</td>\n",
       "      <td>MOR2-PAG1_mid; Cell morphogenesis central region</td>\n",
       "    </tr>\n",
       "    <tr>\n",
       "      <th>39</th>\n",
       "      <td>PC175</td>\n",
       "      <td>1627</td>\n",
       "      <td>PC262</td>\n",
       "      <td>Not3; CCR4-Not complex component, Not N-termin...</td>\n",
       "    </tr>\n",
       "    <tr>\n",
       "      <th>40</th>\n",
       "      <td>PC185</td>\n",
       "      <td>1745</td>\n",
       "      <td>PC239</td>\n",
       "      <td>PHM7_cyt; 10TM putative phosphate transporter,...</td>\n",
       "    </tr>\n",
       "    <tr>\n",
       "      <th>41</th>\n",
       "      <td>PC189</td>\n",
       "      <td>1745</td>\n",
       "      <td>PC239</td>\n",
       "      <td>PHM7_cyt; 10TM putative phosphate transporter,...</td>\n",
       "    </tr>\n",
       "    <tr>\n",
       "      <th>42</th>\n",
       "      <td>PC188</td>\n",
       "      <td>1046</td>\n",
       "      <td>PC270</td>\n",
       "      <td>Glyco_hydro_18; Glycoside hydrolase family 18,...</td>\n",
       "    </tr>\n",
       "    <tr>\n",
       "      <th>43</th>\n",
       "      <td>PC193</td>\n",
       "      <td>1566</td>\n",
       "      <td>PC114</td>\n",
       "      <td>NIF; FCP1 homology domain</td>\n",
       "    </tr>\n",
       "    <tr>\n",
       "      <th>44</th>\n",
       "      <td>PC218</td>\n",
       "      <td>85</td>\n",
       "      <td>PC160</td>\n",
       "      <td>ANAPC3</td>\n",
       "    </tr>\n",
       "    <tr>\n",
       "      <th>45</th>\n",
       "      <td>PC232</td>\n",
       "      <td>602</td>\n",
       "      <td>PC39</td>\n",
       "      <td>DNA_RNApol_7kD; RNA polymerase archaeal subuni...</td>\n",
       "    </tr>\n",
       "    <tr>\n",
       "      <th>46</th>\n",
       "      <td>PC243</td>\n",
       "      <td>624</td>\n",
       "      <td>PC238</td>\n",
       "      <td>DPPIV_N; Dipeptidylpeptidase IV, N-terminal do...</td>\n",
       "    </tr>\n",
       "    <tr>\n",
       "      <th>47</th>\n",
       "      <td>PC251</td>\n",
       "      <td>2700</td>\n",
       "      <td>PC268</td>\n",
       "      <td>Trehalose_PPase; Trehalose-phosphatase</td>\n",
       "    </tr>\n",
       "    <tr>\n",
       "      <th>48</th>\n",
       "      <td>PC272</td>\n",
       "      <td>2042</td>\n",
       "      <td>PC202</td>\n",
       "      <td>RNase_P_p30; RNase P subunit p30</td>\n",
       "    </tr>\n",
       "    <tr>\n",
       "      <th>49</th>\n",
       "      <td>PC274</td>\n",
       "      <td>1571</td>\n",
       "      <td>PC185</td>\n",
       "      <td>NMT1; SsuA/THI5-like</td>\n",
       "    </tr>\n",
       "    <tr>\n",
       "      <th>50</th>\n",
       "      <td>PC274</td>\n",
       "      <td>1571</td>\n",
       "      <td>PC188</td>\n",
       "      <td>NMT1; SsuA/THI5-like</td>\n",
       "    </tr>\n",
       "    <tr>\n",
       "      <th>51</th>\n",
       "      <td>PC279</td>\n",
       "      <td>2764</td>\n",
       "      <td>PC180</td>\n",
       "      <td>USP7_C2; Ubiquitin carboxyl-terminal hydrolase...</td>\n",
       "    </tr>\n",
       "    <tr>\n",
       "      <th>52</th>\n",
       "      <td>PC279</td>\n",
       "      <td>2764</td>\n",
       "      <td>PC223</td>\n",
       "      <td>USP7_C2; Ubiquitin carboxyl-terminal hydrolase...</td>\n",
       "    </tr>\n",
       "  </tbody>\n",
       "</table>\n",
       "</div>"
      ],
      "text/plain": [
       "   pca-component_x  domain-number pca-component_y  \\\n",
       "0              PC1            858            PC27   \n",
       "1              PC1            858            PC28   \n",
       "2              PC4            926            PC26   \n",
       "3             PC11             77            PC41   \n",
       "4             PC12            219            PC11   \n",
       "5             PC21           2101            PC43   \n",
       "6             PC26              9           PC143   \n",
       "7             PC33           1265           PC120   \n",
       "8             PC38           2980           PC217   \n",
       "9             PC38           2980           PC233   \n",
       "10            PC43           1097           PC106   \n",
       "11            PC43           1097           PC112   \n",
       "12            PC50           1106            PC73   \n",
       "13            PC51           1836            PC33   \n",
       "14            PC55             82            PC18   \n",
       "15            PC62            599             PC4   \n",
       "16            PC65            841            PC47   \n",
       "17            PC66            841            PC47   \n",
       "18            PC70             65           PC117   \n",
       "19            PC70             65           PC118   \n",
       "20            PC74            629           PC219   \n",
       "21            PC77           2007            PC65   \n",
       "22            PC88           2936           PC179   \n",
       "23            PC89           1275            PC92   \n",
       "24           PC100           1275            PC92   \n",
       "25           PC106           1347           PC128   \n",
       "26           PC106           1347           PC135   \n",
       "27           PC108           1410           PC119   \n",
       "28           PC115            474            PC50   \n",
       "29           PC125            887           PC232   \n",
       "30           PC132           2584            PC68   \n",
       "31           PC136            376            PC21   \n",
       "32           PC137           1030           PC250   \n",
       "33           PC138           1233           PC108   \n",
       "34           PC148            473            PC23   \n",
       "35           PC148            473            PC24   \n",
       "36           PC153           2916           PC266   \n",
       "37           PC159           2916           PC266   \n",
       "38           PC171           1389            PC72   \n",
       "39           PC175           1627           PC262   \n",
       "40           PC185           1745           PC239   \n",
       "41           PC189           1745           PC239   \n",
       "42           PC188           1046           PC270   \n",
       "43           PC193           1566           PC114   \n",
       "44           PC218             85           PC160   \n",
       "45           PC232            602            PC39   \n",
       "46           PC243            624           PC238   \n",
       "47           PC251           2700           PC268   \n",
       "48           PC272           2042           PC202   \n",
       "49           PC274           1571           PC185   \n",
       "50           PC274           1571           PC188   \n",
       "51           PC279           2764           PC180   \n",
       "52           PC279           2764           PC223   \n",
       "\n",
       "                                   domain-description  \n",
       "0   F420_oxidored; Pyrroline-5-carboxylate reducta...  \n",
       "1   F420_oxidored; Pyrroline-5-carboxylate reducta...  \n",
       "2                      Flp_C; Recombinase Flp protein  \n",
       "3        AMP-binding; AMP-dependent synthetase/ligase  \n",
       "4   Apc15p; Anaphase-promoting complex subunit  15...  \n",
       "5   Ran-binding; GTP-binding nuclear protein Ran-r...  \n",
       "6   40S_S4_C; 40S ribosomal protein S4, C-terminal...  \n",
       "7    Kei1; Protein of unknown function DUF1753, Golgi  \n",
       "8                     zf-CCCH; Zinc finger, CCCH-type  \n",
       "9                     zf-CCCH; Zinc finger, CCCH-type  \n",
       "10                                        HATPase_c_3  \n",
       "11                                        HATPase_c_3  \n",
       "12                                             HEAT_2  \n",
       "13    PTPLA; Protein-tyrosine phosphatase-like, PTPLA  \n",
       "14                          ANAPC10; APC10/DOC domain  \n",
       "15       DLIC; Dynein family light intermediate chain  \n",
       "16  Endonuclease_NS; DNA/RNA non-specific endonucl...  \n",
       "17  Endonuclease_NS; DNA/RNA non-specific endonucl...  \n",
       "18  AIM3; Altered inheritance of mitochondria prot...  \n",
       "19  AIM3; Altered inheritance of mitochondria prot...  \n",
       "20  DSHCT; ATP-dependent RNA helicase Ski2, C-term...  \n",
       "21  RNA_pol_L_2; DNA-directed RNA polymerase, RBP1...  \n",
       "22  tRNA-synt_1c; Glutamyl/glutaminyl-tRNA synthet...  \n",
       "23    Kinetocho_Slk19; Central kinetochore-associated  \n",
       "24    Kinetocho_Slk19; Central kinetochore-associated  \n",
       "25                  MAM33; Mitochondrial glycoprotein  \n",
       "26                  MAM33; Mitochondrial glycoprotein  \n",
       "27         MTHFR; Methylenetetrahydrofolate reductase  \n",
       "28  Cir_N; CBF1-interacting co-repressor CIR, N-te...  \n",
       "29                FMN_dh; FMN-dependent dehydrogenase  \n",
       "30  TFIIIC_sub6; Transcription factor TFIIIC, tau5...  \n",
       "31  COG2; Conserved oligomeric Golgi complex, subu...  \n",
       "32                           Gcn1_N; Gcn1, N-terminal  \n",
       "33  Inhibitor_I9; Peptidase S8 propeptide/proteina...  \n",
       "34             Cid2; Caffeine-induced death protein 2  \n",
       "35             Cid2; Caffeine-induced death protein 2  \n",
       "36          fn3_2; Fibronectin type III domain, fungi  \n",
       "37          fn3_2; Fibronectin type III domain, fungi  \n",
       "38   MOR2-PAG1_mid; Cell morphogenesis central region  \n",
       "39  Not3; CCR4-Not complex component, Not N-termin...  \n",
       "40  PHM7_cyt; 10TM putative phosphate transporter,...  \n",
       "41  PHM7_cyt; 10TM putative phosphate transporter,...  \n",
       "42  Glyco_hydro_18; Glycoside hydrolase family 18,...  \n",
       "43                          NIF; FCP1 homology domain  \n",
       "44                                             ANAPC3  \n",
       "45  DNA_RNApol_7kD; RNA polymerase archaeal subuni...  \n",
       "46  DPPIV_N; Dipeptidylpeptidase IV, N-terminal do...  \n",
       "47             Trehalose_PPase; Trehalose-phosphatase  \n",
       "48                   RNase_P_p30; RNase P subunit p30  \n",
       "49                               NMT1; SsuA/THI5-like  \n",
       "50                               NMT1; SsuA/THI5-like  \n",
       "51  USP7_C2; Ubiquitin carboxyl-terminal hydrolase...  \n",
       "52  USP7_C2; Ubiquitin carboxyl-terminal hydrolase...  "
      ]
     },
     "execution_count": 22,
     "metadata": {},
     "output_type": "execute_result"
    }
   ],
   "source": [
    "df_shared_domains=pd.merge(df_sl,df_nsl,how='inner',on='domain-number')\n",
    "domains_name=np.unique(data_domains['domain-name'])\n",
    "domains_description=np.unique(data_domains['domain-descrip'])\n",
    "\n",
    "df_shared_domains['domain-description']=domains_description[df_shared_domains['domain-number']]\n",
    "\n",
    "\n",
    "df_shared_domains"
   ]
  },
  {
   "cell_type": "code",
   "execution_count": 23,
   "metadata": {
    "execution": {
     "iopub.execute_input": "2020-07-17T14:47:50.403199Z",
     "iopub.status.busy": "2020-07-17T14:47:50.402673Z",
     "iopub.status.idle": "2020-07-17T14:47:50.408379Z",
     "shell.execute_reply": "2020-07-17T14:47:50.408913Z"
    }
   },
   "outputs": [
    {
     "name": "stdout",
     "output_type": "stream",
     "text": [
      "The number of shared domains between SL and nSL pairs,after PCA, is =  53 out of 561 so the 9.44741532976827 %\n"
     ]
    }
   ],
   "source": [
    "print('The number of shared domains between SL and nSL pairs,after PCA, is = ',len(df_shared_domains), 'out of', len(df_sl)+len(df_nsl), 'so the',100*len(df_shared_domains)/(len(df_sl)+len(df_nsl)),'%')"
   ]
  },
  {
   "cell_type": "markdown",
   "metadata": {},
   "source": [
    "## Domains exclusive to SL"
   ]
  },
  {
   "cell_type": "code",
   "execution_count": 24,
   "metadata": {
    "execution": {
     "iopub.execute_input": "2020-07-17T14:47:50.411284Z",
     "iopub.status.busy": "2020-07-17T14:47:50.410721Z",
     "iopub.status.idle": "2020-07-17T14:47:50.440875Z",
     "shell.execute_reply": "2020-07-17T14:47:50.441387Z"
    }
   },
   "outputs": [
    {
     "data": {
      "text/html": [
       "<div>\n",
       "<style scoped>\n",
       "    .dataframe tbody tr th:only-of-type {\n",
       "        vertical-align: middle;\n",
       "    }\n",
       "\n",
       "    .dataframe tbody tr th {\n",
       "        vertical-align: top;\n",
       "    }\n",
       "\n",
       "    .dataframe thead th {\n",
       "        text-align: right;\n",
       "    }\n",
       "</style>\n",
       "<table border=\"1\" class=\"dataframe\">\n",
       "  <thead>\n",
       "    <tr style=\"text-align: right;\">\n",
       "      <th></th>\n",
       "      <th>pca-component_x</th>\n",
       "      <th>domain-number</th>\n",
       "      <th>pca-component_y</th>\n",
       "      <th>domain-description</th>\n",
       "    </tr>\n",
       "  </thead>\n",
       "  <tbody>\n",
       "    <tr>\n",
       "      <th>0</th>\n",
       "      <td>PC0</td>\n",
       "      <td>2771</td>\n",
       "      <td>NaN</td>\n",
       "      <td>Ubiq-assoc; Ubiquitin-associated domain, SWA2-...</td>\n",
       "    </tr>\n",
       "    <tr>\n",
       "      <th>3</th>\n",
       "      <td>PC2</td>\n",
       "      <td>989</td>\n",
       "      <td>NaN</td>\n",
       "      <td>GLE1; GLE1-like</td>\n",
       "    </tr>\n",
       "    <tr>\n",
       "      <th>4</th>\n",
       "      <td>PC3</td>\n",
       "      <td>55</td>\n",
       "      <td>NaN</td>\n",
       "      <td>ADK</td>\n",
       "    </tr>\n",
       "    <tr>\n",
       "      <th>6</th>\n",
       "      <td>PC5</td>\n",
       "      <td>1249</td>\n",
       "      <td>NaN</td>\n",
       "      <td>Iwr1; Transcription factor  Iwr1</td>\n",
       "    </tr>\n",
       "    <tr>\n",
       "      <th>7</th>\n",
       "      <td>PC6</td>\n",
       "      <td>99</td>\n",
       "      <td>NaN</td>\n",
       "      <td>APS_kinase</td>\n",
       "    </tr>\n",
       "    <tr>\n",
       "      <th>...</th>\n",
       "      <td>...</td>\n",
       "      <td>...</td>\n",
       "      <td>...</td>\n",
       "      <td>...</td>\n",
       "    </tr>\n",
       "    <tr>\n",
       "      <th>292</th>\n",
       "      <td>PC284</td>\n",
       "      <td>1841</td>\n",
       "      <td>NaN</td>\n",
       "      <td>PUF; Pumilio RNA-binding repeat</td>\n",
       "    </tr>\n",
       "    <tr>\n",
       "      <th>293</th>\n",
       "      <td>PC285</td>\n",
       "      <td>1846</td>\n",
       "      <td>NaN</td>\n",
       "      <td>PYC_OADA; Carboxylase, conserved domain</td>\n",
       "    </tr>\n",
       "    <tr>\n",
       "      <th>294</th>\n",
       "      <td>PC286</td>\n",
       "      <td>1286</td>\n",
       "      <td>NaN</td>\n",
       "      <td>LAGLIDADG_1; Homing endonuclease, LAGLIDADG</td>\n",
       "    </tr>\n",
       "    <tr>\n",
       "      <th>295</th>\n",
       "      <td>PC287</td>\n",
       "      <td>1978</td>\n",
       "      <td>NaN</td>\n",
       "      <td>RFX_DNA_binding; DNA-binding RFX-type winged-h...</td>\n",
       "    </tr>\n",
       "    <tr>\n",
       "      <th>296</th>\n",
       "      <td>PC288</td>\n",
       "      <td>2155</td>\n",
       "      <td>NaN</td>\n",
       "      <td>Ribosomal_L12; Ribosomal protein L7/L12, C-ter...</td>\n",
       "    </tr>\n",
       "  </tbody>\n",
       "</table>\n",
       "<p>244 rows × 4 columns</p>\n",
       "</div>"
      ],
      "text/plain": [
       "    pca-component_x  domain-number pca-component_y  \\\n",
       "0               PC0           2771             NaN   \n",
       "3               PC2            989             NaN   \n",
       "4               PC3             55             NaN   \n",
       "6               PC5           1249             NaN   \n",
       "7               PC6             99             NaN   \n",
       "..              ...            ...             ...   \n",
       "292           PC284           1841             NaN   \n",
       "293           PC285           1846             NaN   \n",
       "294           PC286           1286             NaN   \n",
       "295           PC287           1978             NaN   \n",
       "296           PC288           2155             NaN   \n",
       "\n",
       "                                    domain-description  \n",
       "0    Ubiq-assoc; Ubiquitin-associated domain, SWA2-...  \n",
       "3                                      GLE1; GLE1-like  \n",
       "4                                                  ADK  \n",
       "6                     Iwr1; Transcription factor  Iwr1  \n",
       "7                                           APS_kinase  \n",
       "..                                                 ...  \n",
       "292                    PUF; Pumilio RNA-binding repeat  \n",
       "293            PYC_OADA; Carboxylase, conserved domain  \n",
       "294        LAGLIDADG_1; Homing endonuclease, LAGLIDADG  \n",
       "295  RFX_DNA_binding; DNA-binding RFX-type winged-h...  \n",
       "296  Ribosomal_L12; Ribosomal protein L7/L12, C-ter...  \n",
       "\n",
       "[244 rows x 4 columns]"
      ]
     },
     "execution_count": 24,
     "metadata": {},
     "output_type": "execute_result"
    }
   ],
   "source": [
    "df_sl_exclusive=pd.merge(df_sl,df_nsl,how='left',on='domain-number')\n",
    "\n",
    "domains_name=np.unique(data_domains['domain-name'])\n",
    "domains_description=np.unique(data_domains['domain-descrip'])\n",
    "\n",
    "df_sl_exclusive['domain-description']=domains_description[df_sl_exclusive['domain-number']]\n",
    "df_sl_exclusive[pd.isnull(df_sl_exclusive['pca-component_y'])]"
   ]
  },
  {
   "cell_type": "code",
   "execution_count": 25,
   "metadata": {
    "execution": {
     "iopub.execute_input": "2020-07-17T14:47:50.444077Z",
     "iopub.status.busy": "2020-07-17T14:47:50.443486Z",
     "iopub.status.idle": "2020-07-17T14:47:50.448781Z",
     "shell.execute_reply": "2020-07-17T14:47:50.449305Z"
    }
   },
   "outputs": [
    {
     "name": "stdout",
     "output_type": "stream",
     "text": [
      "The number of exclusive domains from SL pairs, after PCA, is =  297 out of 561 so the 52.94117647058823 %\n"
     ]
    }
   ],
   "source": [
    "print('The number of exclusive domains from SL pairs, after PCA, is = ',len(df_sl_exclusive), 'out of', len(df_sl)+len(df_nsl), 'so the',100*len(df_sl_exclusive)/(len(df_sl)+len(df_nsl)),'%')"
   ]
  },
  {
   "cell_type": "code",
   "execution_count": 26,
   "metadata": {
    "execution": {
     "iopub.execute_input": "2020-07-17T14:47:50.451581Z",
     "iopub.status.busy": "2020-07-17T14:47:50.451065Z",
     "iopub.status.idle": "2020-07-17T14:47:50.481207Z",
     "shell.execute_reply": "2020-07-17T14:47:50.480640Z"
    }
   },
   "outputs": [
    {
     "data": {
      "text/html": [
       "<div>\n",
       "<style scoped>\n",
       "    .dataframe tbody tr th:only-of-type {\n",
       "        vertical-align: middle;\n",
       "    }\n",
       "\n",
       "    .dataframe tbody tr th {\n",
       "        vertical-align: top;\n",
       "    }\n",
       "\n",
       "    .dataframe thead th {\n",
       "        text-align: right;\n",
       "    }\n",
       "</style>\n",
       "<table border=\"1\" class=\"dataframe\">\n",
       "  <thead>\n",
       "    <tr style=\"text-align: right;\">\n",
       "      <th></th>\n",
       "      <th>pca-component_x</th>\n",
       "      <th>domain-number</th>\n",
       "      <th>pca-component_y</th>\n",
       "      <th>domain-description</th>\n",
       "    </tr>\n",
       "  </thead>\n",
       "  <tbody>\n",
       "    <tr>\n",
       "      <th>53</th>\n",
       "      <td>NaN</td>\n",
       "      <td>1028</td>\n",
       "      <td>PC0</td>\n",
       "      <td>GatB_Yqey; Asn/Gln amidotransferase</td>\n",
       "    </tr>\n",
       "    <tr>\n",
       "      <th>54</th>\n",
       "      <td>NaN</td>\n",
       "      <td>305</td>\n",
       "      <td>PC1</td>\n",
       "      <td>Brr6_like_C_C; Brl1/Brr6 domain</td>\n",
       "    </tr>\n",
       "    <tr>\n",
       "      <th>55</th>\n",
       "      <td>NaN</td>\n",
       "      <td>2113</td>\n",
       "      <td>PC2</td>\n",
       "      <td>Rav1p_C; RAVE complex protein Rav1 C-terminal</td>\n",
       "    </tr>\n",
       "    <tr>\n",
       "      <th>56</th>\n",
       "      <td>NaN</td>\n",
       "      <td>339</td>\n",
       "      <td>PC3</td>\n",
       "      <td>CDC50; CDC50/LEM3 family</td>\n",
       "    </tr>\n",
       "    <tr>\n",
       "      <th>57</th>\n",
       "      <td>NaN</td>\n",
       "      <td>98</td>\n",
       "      <td>PC5</td>\n",
       "      <td>APH; Aminoglycoside phosphotransferase</td>\n",
       "    </tr>\n",
       "    <tr>\n",
       "      <th>...</th>\n",
       "      <td>...</td>\n",
       "      <td>...</td>\n",
       "      <td>...</td>\n",
       "      <td>...</td>\n",
       "    </tr>\n",
       "    <tr>\n",
       "      <th>271</th>\n",
       "      <td>NaN</td>\n",
       "      <td>933</td>\n",
       "      <td>PC261</td>\n",
       "      <td>FolB; Dihydroneopterin aldolase/epimerase domain</td>\n",
       "    </tr>\n",
       "    <tr>\n",
       "      <th>272</th>\n",
       "      <td>NaN</td>\n",
       "      <td>1053</td>\n",
       "      <td>PC264</td>\n",
       "      <td>Glyco_hydro_47; Glycoside hydrolase family 47</td>\n",
       "    </tr>\n",
       "    <tr>\n",
       "      <th>273</th>\n",
       "      <td>NaN</td>\n",
       "      <td>1220</td>\n",
       "      <td>PC265</td>\n",
       "      <td>INSIG; Insulin-induced protein family</td>\n",
       "    </tr>\n",
       "    <tr>\n",
       "      <th>274</th>\n",
       "      <td>NaN</td>\n",
       "      <td>1620</td>\n",
       "      <td>PC269</td>\n",
       "      <td>Nop16; Ribosome biogenesis protein Nop16</td>\n",
       "    </tr>\n",
       "    <tr>\n",
       "      <th>275</th>\n",
       "      <td>NaN</td>\n",
       "      <td>2598</td>\n",
       "      <td>PC271</td>\n",
       "      <td>TIM; Triosephosphate isomerase</td>\n",
       "    </tr>\n",
       "  </tbody>\n",
       "</table>\n",
       "<p>223 rows × 4 columns</p>\n",
       "</div>"
      ],
      "text/plain": [
       "    pca-component_x  domain-number pca-component_y  \\\n",
       "53              NaN           1028             PC0   \n",
       "54              NaN            305             PC1   \n",
       "55              NaN           2113             PC2   \n",
       "56              NaN            339             PC3   \n",
       "57              NaN             98             PC5   \n",
       "..              ...            ...             ...   \n",
       "271             NaN            933           PC261   \n",
       "272             NaN           1053           PC264   \n",
       "273             NaN           1220           PC265   \n",
       "274             NaN           1620           PC269   \n",
       "275             NaN           2598           PC271   \n",
       "\n",
       "                                   domain-description  \n",
       "53                GatB_Yqey; Asn/Gln amidotransferase  \n",
       "54                    Brr6_like_C_C; Brl1/Brr6 domain  \n",
       "55      Rav1p_C; RAVE complex protein Rav1 C-terminal  \n",
       "56                           CDC50; CDC50/LEM3 family  \n",
       "57             APH; Aminoglycoside phosphotransferase  \n",
       "..                                                ...  \n",
       "271  FolB; Dihydroneopterin aldolase/epimerase domain  \n",
       "272     Glyco_hydro_47; Glycoside hydrolase family 47  \n",
       "273             INSIG; Insulin-induced protein family  \n",
       "274          Nop16; Ribosome biogenesis protein Nop16  \n",
       "275                    TIM; Triosephosphate isomerase  \n",
       "\n",
       "[223 rows x 4 columns]"
      ]
     },
     "execution_count": 26,
     "metadata": {},
     "output_type": "execute_result"
    }
   ],
   "source": [
    "df_nsl_exclusive=pd.merge(df_sl,df_nsl,how='right',on='domain-number')\n",
    "\n",
    "domains_name=np.unique(data_domains['domain-name'])\n",
    "domains_description=np.unique(data_domains['domain-descrip'])\n",
    "\n",
    "df_nsl_exclusive['domain-description']=domains_description[df_nsl_exclusive['domain-number']]\n",
    "df_nsl_exclusive[pd.isnull(df_nsl_exclusive['pca-component_x'])]"
   ]
  },
  {
   "cell_type": "code",
   "execution_count": 27,
   "metadata": {
    "execution": {
     "iopub.execute_input": "2020-07-17T14:47:50.488120Z",
     "iopub.status.busy": "2020-07-17T14:47:50.487033Z",
     "iopub.status.idle": "2020-07-17T14:47:50.491412Z",
     "shell.execute_reply": "2020-07-17T14:47:50.490945Z"
    }
   },
   "outputs": [
    {
     "name": "stdout",
     "output_type": "stream",
     "text": [
      "The number of exclusive domains from non SL pairs, after PCA, is =  276 out of 561 so the 49.19786096256684 %\n"
     ]
    }
   ],
   "source": [
    "print('The number of exclusive domains from non SL pairs, after PCA, is = ',len(df_nsl_exclusive), 'out of', len(df_sl)+len(df_nsl), 'so the',100*len(df_nsl_exclusive)/(len(df_sl)+len(df_nsl)),'%')"
   ]
  },
  {
   "cell_type": "markdown",
   "metadata": {},
   "source": [
    "## Let see to the domains-number that get repeated after the PCA analysis , and selecting the most explanatory feature by its explained variance."
   ]
  },
  {
   "cell_type": "code",
   "execution_count": 28,
   "metadata": {
    "execution": {
     "iopub.execute_input": "2020-07-17T14:47:50.514928Z",
     "iopub.status.busy": "2020-07-17T14:47:50.513345Z",
     "iopub.status.idle": "2020-07-17T14:47:50.516663Z",
     "shell.execute_reply": "2020-07-17T14:47:50.517604Z"
    }
   },
   "outputs": [],
   "source": [
    "duplicated_features_sl=df_sl[df_sl.iloc[:,1].duplicated()]\n",
    "repeated_features_sl=pd.DataFrame()\n",
    "\n",
    "domains_name=np.unique(data_domains['domain-name'])\n",
    "domains_description=np.unique(data_domains['domain-descrip'])\n",
    "\n",
    "repeated_features_sl['domain-name']=domains_name[duplicated_features_sl.iloc[:,1]] \n",
    "repeated_features_sl['domain-description']=domains_description[duplicated_features_sl.iloc[:,1]]\n",
    "\n",
    "duplicated_features_nsl=df_nsl[df_nsl.iloc[:,1].duplicated()]\n",
    "repeated_features_nsl=pd.DataFrame()\n",
    "\n",
    "repeated_features_nsl['domain-name']=domains_name[duplicated_features_nsl.iloc[:,1]] \n",
    "repeated_features_nsl['domain-description']=domains_description[duplicated_features_nsl.iloc[:,1]]"
   ]
  },
  {
   "cell_type": "code",
   "execution_count": 29,
   "metadata": {
    "execution": {
     "iopub.execute_input": "2020-07-17T14:47:50.528875Z",
     "iopub.status.busy": "2020-07-17T14:47:50.527149Z",
     "iopub.status.idle": "2020-07-17T14:47:50.530886Z",
     "shell.execute_reply": "2020-07-17T14:47:50.531536Z"
    }
   },
   "outputs": [
    {
     "data": {
      "text/plain": [
       "((40, 4), (297, 4))"
      ]
     },
     "execution_count": 29,
     "metadata": {},
     "output_type": "execute_result"
    }
   ],
   "source": [
    "only_sl_pd=pd.merge(repeated_features_sl,repeated_features_nsl,how='left',on=['domain-name'])\n",
    "data_only_sl = only_sl_pd[pd.isnull(only_sl_pd['domain-description_y'])]\n",
    "data_only_sl['domain-description']=data_only_sl['domain-description_x']\n",
    "data_only_sl.shape,df_sl_exclusive.shape"
   ]
  },
  {
   "cell_type": "code",
   "execution_count": 30,
   "metadata": {
    "execution": {
     "iopub.execute_input": "2020-07-17T14:47:50.549620Z",
     "iopub.status.busy": "2020-07-17T14:47:50.549018Z",
     "iopub.status.idle": "2020-07-17T14:47:50.552099Z",
     "shell.execute_reply": "2020-07-17T14:47:50.552556Z"
    }
   },
   "outputs": [
    {
     "data": {
      "text/html": [
       "<div>\n",
       "<style scoped>\n",
       "    .dataframe tbody tr th:only-of-type {\n",
       "        vertical-align: middle;\n",
       "    }\n",
       "\n",
       "    .dataframe tbody tr th {\n",
       "        vertical-align: top;\n",
       "    }\n",
       "\n",
       "    .dataframe thead th {\n",
       "        text-align: right;\n",
       "    }\n",
       "</style>\n",
       "<table border=\"1\" class=\"dataframe\">\n",
       "  <thead>\n",
       "    <tr style=\"text-align: right;\">\n",
       "      <th></th>\n",
       "      <th>domain-name</th>\n",
       "      <th>domain-description_x</th>\n",
       "      <th>domain-description_y</th>\n",
       "    </tr>\n",
       "  </thead>\n",
       "  <tbody>\n",
       "    <tr>\n",
       "      <th>0</th>\n",
       "      <td>PF01061</td>\n",
       "      <td>NaN</td>\n",
       "      <td>Cid2; Caffeine-induced death protein 2</td>\n",
       "    </tr>\n",
       "    <tr>\n",
       "      <th>1</th>\n",
       "      <td>PF02259</td>\n",
       "      <td>NaN</td>\n",
       "      <td>F420_oxidored; Pyrroline-5-carboxylate reducta...</td>\n",
       "    </tr>\n",
       "    <tr>\n",
       "      <th>2</th>\n",
       "      <td>PF00350</td>\n",
       "      <td>NaN</td>\n",
       "      <td>Aha1_N; Activator of Hsp90 ATPase, N-terminal</td>\n",
       "    </tr>\n",
       "    <tr>\n",
       "      <th>3</th>\n",
       "      <td>PF00610</td>\n",
       "      <td>NaN</td>\n",
       "      <td>Beach; BEACH domain</td>\n",
       "    </tr>\n",
       "    <tr>\n",
       "      <th>4</th>\n",
       "      <td>PF12157</td>\n",
       "      <td>NaN</td>\n",
       "      <td>Sec7; Sec7 domain</td>\n",
       "    </tr>\n",
       "    <tr>\n",
       "      <th>5</th>\n",
       "      <td>PF04408</td>\n",
       "      <td>NaN</td>\n",
       "      <td>MAD; Spindle assembly checkpoint component Mad1</td>\n",
       "    </tr>\n",
       "    <tr>\n",
       "      <th>6</th>\n",
       "      <td>PF01131</td>\n",
       "      <td>NaN</td>\n",
       "      <td>Cohesin_load; Chromatid cohesion factor MAU2</td>\n",
       "    </tr>\n",
       "    <tr>\n",
       "      <th>7</th>\n",
       "      <td>PF08518</td>\n",
       "      <td>NaN</td>\n",
       "      <td>Polyketide_cyc; Coenzyme Q-binding protein COQ...</td>\n",
       "    </tr>\n",
       "    <tr>\n",
       "      <th>8</th>\n",
       "      <td>PF12090</td>\n",
       "      <td>NaN</td>\n",
       "      <td>Sec61_beta; Protein transport protein SecG/Sec...</td>\n",
       "    </tr>\n",
       "    <tr>\n",
       "      <th>9</th>\n",
       "      <td>PF05064</td>\n",
       "      <td>NaN</td>\n",
       "      <td>Mis12; Centromere protein Mis12</td>\n",
       "    </tr>\n",
       "    <tr>\n",
       "      <th>10</th>\n",
       "      <td>PF08653</td>\n",
       "      <td>NaN</td>\n",
       "      <td>RNA_pol_Rpb1_2; RNA polymerase, alpha subunit</td>\n",
       "    </tr>\n",
       "    <tr>\n",
       "      <th>11</th>\n",
       "      <td>PF03366</td>\n",
       "      <td>NaN</td>\n",
       "      <td>HATPase_c_3</td>\n",
       "    </tr>\n",
       "    <tr>\n",
       "      <th>12</th>\n",
       "      <td>PF00149</td>\n",
       "      <td>NaN</td>\n",
       "      <td>AIM3; Altered inheritance of mitochondria prot...</td>\n",
       "    </tr>\n",
       "    <tr>\n",
       "      <th>13</th>\n",
       "      <td>PF09757</td>\n",
       "      <td>NaN</td>\n",
       "      <td>Ribosomal_L14e; Ribosomal protein L14e domain</td>\n",
       "    </tr>\n",
       "    <tr>\n",
       "      <th>14</th>\n",
       "      <td>PF00646</td>\n",
       "      <td>NaN</td>\n",
       "      <td>CASP_C; CASP, C-terminal</td>\n",
       "    </tr>\n",
       "    <tr>\n",
       "      <th>15</th>\n",
       "      <td>PF05186</td>\n",
       "      <td>NaN</td>\n",
       "      <td>Motile_Sperm; Major sperm protein (MSP) domain</td>\n",
       "    </tr>\n",
       "    <tr>\n",
       "      <th>16</th>\n",
       "      <td>PF04420</td>\n",
       "      <td>NaN</td>\n",
       "      <td>MAM33; Mitochondrial glycoprotein</td>\n",
       "    </tr>\n",
       "    <tr>\n",
       "      <th>17</th>\n",
       "      <td>PF05460</td>\n",
       "      <td>NaN</td>\n",
       "      <td>NAT; Vertebrate-like NAGS Gcn5-related N-acety...</td>\n",
       "    </tr>\n",
       "    <tr>\n",
       "      <th>18</th>\n",
       "      <td>PF14475</td>\n",
       "      <td>NaN</td>\n",
       "      <td>UDPGT; UDP-glucuronosyl/UDP-glucosyltransferase</td>\n",
       "    </tr>\n",
       "    <tr>\n",
       "      <th>19</th>\n",
       "      <td>PF01920</td>\n",
       "      <td>NaN</td>\n",
       "      <td>E1_UFD; Ubiquitin-activating enzyme E1, C-term...</td>\n",
       "    </tr>\n",
       "    <tr>\n",
       "      <th>20</th>\n",
       "      <td>PF01920</td>\n",
       "      <td>NaN</td>\n",
       "      <td>E1_UFD; Ubiquitin-activating enzyme E1, C-term...</td>\n",
       "    </tr>\n",
       "    <tr>\n",
       "      <th>21</th>\n",
       "      <td>PF03985</td>\n",
       "      <td>NaN</td>\n",
       "      <td>I_LWEQ; I/LWEQ domain</td>\n",
       "    </tr>\n",
       "    <tr>\n",
       "      <th>22</th>\n",
       "      <td>PF01302</td>\n",
       "      <td>NaN</td>\n",
       "      <td>DJ-1_PfpI; DJ-1/PfpI</td>\n",
       "    </tr>\n",
       "    <tr>\n",
       "      <th>23</th>\n",
       "      <td>PF05179</td>\n",
       "      <td>NaN</td>\n",
       "      <td>Mob1_phocein; MOB kinase activator family</td>\n",
       "    </tr>\n",
       "    <tr>\n",
       "      <th>24</th>\n",
       "      <td>PF00664</td>\n",
       "      <td>NaN</td>\n",
       "      <td>CDC24; Cdc24/Scd1, N-terminal</td>\n",
       "    </tr>\n",
       "    <tr>\n",
       "      <th>25</th>\n",
       "      <td>PF05637</td>\n",
       "      <td>NaN</td>\n",
       "      <td>NMT1; SsuA/THI5-like</td>\n",
       "    </tr>\n",
       "    <tr>\n",
       "      <th>26</th>\n",
       "      <td>PF08580</td>\n",
       "      <td>NaN</td>\n",
       "      <td>Pyr_redox_dim; Pyridine nucleotide-disulphide ...</td>\n",
       "    </tr>\n",
       "    <tr>\n",
       "      <th>27</th>\n",
       "      <td>PF10104</td>\n",
       "      <td>NaN</td>\n",
       "      <td>Ribosomal_L36; Ribosomal protein L36</td>\n",
       "    </tr>\n",
       "    <tr>\n",
       "      <th>28</th>\n",
       "      <td>PF10104</td>\n",
       "      <td>NaN</td>\n",
       "      <td>Ribosomal_L36; Ribosomal protein L36</td>\n",
       "    </tr>\n",
       "    <tr>\n",
       "      <th>29</th>\n",
       "      <td>PF14615</td>\n",
       "      <td>NaN</td>\n",
       "      <td>USP7_C2; Ubiquitin carboxyl-terminal hydrolase...</td>\n",
       "    </tr>\n",
       "    <tr>\n",
       "      <th>30</th>\n",
       "      <td>PF00432</td>\n",
       "      <td>NaN</td>\n",
       "      <td>Ank_4</td>\n",
       "    </tr>\n",
       "    <tr>\n",
       "      <th>31</th>\n",
       "      <td>PF01111</td>\n",
       "      <td>NaN</td>\n",
       "      <td>Coa1; Cytochrome oxidase assembly protein 1</td>\n",
       "    </tr>\n",
       "    <tr>\n",
       "      <th>32</th>\n",
       "      <td>PF17096</td>\n",
       "      <td>NaN</td>\n",
       "      <td>zf-CCCH; Zinc finger, CCCH-type</td>\n",
       "    </tr>\n",
       "    <tr>\n",
       "      <th>33</th>\n",
       "      <td>PF02902</td>\n",
       "      <td>NaN</td>\n",
       "      <td>GSHPx; Glutathione peroxidase</td>\n",
       "    </tr>\n",
       "    <tr>\n",
       "      <th>34</th>\n",
       "      <td>PF02902</td>\n",
       "      <td>NaN</td>\n",
       "      <td>GSHPx; Glutathione peroxidase</td>\n",
       "    </tr>\n",
       "    <tr>\n",
       "      <th>35</th>\n",
       "      <td>PF08245</td>\n",
       "      <td>NaN</td>\n",
       "      <td>Peptidase_C12; Peptidase C12, ubiquitin carbox...</td>\n",
       "    </tr>\n",
       "    <tr>\n",
       "      <th>36</th>\n",
       "      <td>PF08245</td>\n",
       "      <td>NaN</td>\n",
       "      <td>Peptidase_C12; Peptidase C12, ubiquitin carbox...</td>\n",
       "    </tr>\n",
       "    <tr>\n",
       "      <th>37</th>\n",
       "      <td>PF11708</td>\n",
       "      <td>NaN</td>\n",
       "      <td>STAS; STAS domain</td>\n",
       "    </tr>\n",
       "    <tr>\n",
       "      <th>38</th>\n",
       "      <td>PF12814</td>\n",
       "      <td>NaN</td>\n",
       "      <td>TAF4; Transcription initiation factor TFIID co...</td>\n",
       "    </tr>\n",
       "    <tr>\n",
       "      <th>39</th>\n",
       "      <td>PF08645</td>\n",
       "      <td>NaN</td>\n",
       "      <td>RNA_pol_I_TF; Transcription initiation factor ...</td>\n",
       "    </tr>\n",
       "    <tr>\n",
       "      <th>40</th>\n",
       "      <td>PF01765</td>\n",
       "      <td>NaN</td>\n",
       "      <td>DUF726; Protein of unknown function DUF726</td>\n",
       "    </tr>\n",
       "    <tr>\n",
       "      <th>41</th>\n",
       "      <td>PF13540</td>\n",
       "      <td>NaN</td>\n",
       "      <td>Thg1C; Thg1 C-terminal domain</td>\n",
       "    </tr>\n",
       "    <tr>\n",
       "      <th>42</th>\n",
       "      <td>PF06423</td>\n",
       "      <td>NaN</td>\n",
       "      <td>Nup84_Nup100; Nuclear pore protein 84/107</td>\n",
       "    </tr>\n",
       "    <tr>\n",
       "      <th>43</th>\n",
       "      <td>PF02996</td>\n",
       "      <td>NaN</td>\n",
       "      <td>Gal_mutarotas_2; Glycoside hydrolase family 31...</td>\n",
       "    </tr>\n",
       "    <tr>\n",
       "      <th>44</th>\n",
       "      <td>PF02301</td>\n",
       "      <td>NaN</td>\n",
       "      <td>FAT; PIK-related kinase, FAT</td>\n",
       "    </tr>\n",
       "  </tbody>\n",
       "</table>\n",
       "</div>"
      ],
      "text/plain": [
       "   domain-name domain-description_x  \\\n",
       "0      PF01061                  NaN   \n",
       "1      PF02259                  NaN   \n",
       "2      PF00350                  NaN   \n",
       "3      PF00610                  NaN   \n",
       "4      PF12157                  NaN   \n",
       "5      PF04408                  NaN   \n",
       "6      PF01131                  NaN   \n",
       "7      PF08518                  NaN   \n",
       "8      PF12090                  NaN   \n",
       "9      PF05064                  NaN   \n",
       "10     PF08653                  NaN   \n",
       "11     PF03366                  NaN   \n",
       "12     PF00149                  NaN   \n",
       "13     PF09757                  NaN   \n",
       "14     PF00646                  NaN   \n",
       "15     PF05186                  NaN   \n",
       "16     PF04420                  NaN   \n",
       "17     PF05460                  NaN   \n",
       "18     PF14475                  NaN   \n",
       "19     PF01920                  NaN   \n",
       "20     PF01920                  NaN   \n",
       "21     PF03985                  NaN   \n",
       "22     PF01302                  NaN   \n",
       "23     PF05179                  NaN   \n",
       "24     PF00664                  NaN   \n",
       "25     PF05637                  NaN   \n",
       "26     PF08580                  NaN   \n",
       "27     PF10104                  NaN   \n",
       "28     PF10104                  NaN   \n",
       "29     PF14615                  NaN   \n",
       "30     PF00432                  NaN   \n",
       "31     PF01111                  NaN   \n",
       "32     PF17096                  NaN   \n",
       "33     PF02902                  NaN   \n",
       "34     PF02902                  NaN   \n",
       "35     PF08245                  NaN   \n",
       "36     PF08245                  NaN   \n",
       "37     PF11708                  NaN   \n",
       "38     PF12814                  NaN   \n",
       "39     PF08645                  NaN   \n",
       "40     PF01765                  NaN   \n",
       "41     PF13540                  NaN   \n",
       "42     PF06423                  NaN   \n",
       "43     PF02996                  NaN   \n",
       "44     PF02301                  NaN   \n",
       "\n",
       "                                 domain-description_y  \n",
       "0              Cid2; Caffeine-induced death protein 2  \n",
       "1   F420_oxidored; Pyrroline-5-carboxylate reducta...  \n",
       "2       Aha1_N; Activator of Hsp90 ATPase, N-terminal  \n",
       "3                                 Beach; BEACH domain  \n",
       "4                                   Sec7; Sec7 domain  \n",
       "5     MAD; Spindle assembly checkpoint component Mad1  \n",
       "6        Cohesin_load; Chromatid cohesion factor MAU2  \n",
       "7   Polyketide_cyc; Coenzyme Q-binding protein COQ...  \n",
       "8   Sec61_beta; Protein transport protein SecG/Sec...  \n",
       "9                     Mis12; Centromere protein Mis12  \n",
       "10      RNA_pol_Rpb1_2; RNA polymerase, alpha subunit  \n",
       "11                                        HATPase_c_3  \n",
       "12  AIM3; Altered inheritance of mitochondria prot...  \n",
       "13      Ribosomal_L14e; Ribosomal protein L14e domain  \n",
       "14                           CASP_C; CASP, C-terminal  \n",
       "15     Motile_Sperm; Major sperm protein (MSP) domain  \n",
       "16                  MAM33; Mitochondrial glycoprotein  \n",
       "17  NAT; Vertebrate-like NAGS Gcn5-related N-acety...  \n",
       "18    UDPGT; UDP-glucuronosyl/UDP-glucosyltransferase  \n",
       "19  E1_UFD; Ubiquitin-activating enzyme E1, C-term...  \n",
       "20  E1_UFD; Ubiquitin-activating enzyme E1, C-term...  \n",
       "21                              I_LWEQ; I/LWEQ domain  \n",
       "22                               DJ-1_PfpI; DJ-1/PfpI  \n",
       "23          Mob1_phocein; MOB kinase activator family  \n",
       "24                      CDC24; Cdc24/Scd1, N-terminal  \n",
       "25                               NMT1; SsuA/THI5-like  \n",
       "26  Pyr_redox_dim; Pyridine nucleotide-disulphide ...  \n",
       "27               Ribosomal_L36; Ribosomal protein L36  \n",
       "28               Ribosomal_L36; Ribosomal protein L36  \n",
       "29  USP7_C2; Ubiquitin carboxyl-terminal hydrolase...  \n",
       "30                                              Ank_4  \n",
       "31        Coa1; Cytochrome oxidase assembly protein 1  \n",
       "32                    zf-CCCH; Zinc finger, CCCH-type  \n",
       "33                      GSHPx; Glutathione peroxidase  \n",
       "34                      GSHPx; Glutathione peroxidase  \n",
       "35  Peptidase_C12; Peptidase C12, ubiquitin carbox...  \n",
       "36  Peptidase_C12; Peptidase C12, ubiquitin carbox...  \n",
       "37                                  STAS; STAS domain  \n",
       "38  TAF4; Transcription initiation factor TFIID co...  \n",
       "39  RNA_pol_I_TF; Transcription initiation factor ...  \n",
       "40         DUF726; Protein of unknown function DUF726  \n",
       "41                      Thg1C; Thg1 C-terminal domain  \n",
       "42          Nup84_Nup100; Nuclear pore protein 84/107  \n",
       "43  Gal_mutarotas_2; Glycoside hydrolase family 31...  \n",
       "44                       FAT; PIK-related kinase, FAT  "
      ]
     },
     "execution_count": 30,
     "metadata": {},
     "output_type": "execute_result"
    }
   ],
   "source": [
    "only_nsl_pd=pd.merge(repeated_features_sl,repeated_features_nsl,how='right',on=['domain-name'])\n",
    "data_only_nsl = only_nsl_pd[pd.isnull(only_nsl_pd['domain-description_x'])]\n",
    "data_only_nsl"
   ]
  },
  {
   "cell_type": "code",
   "execution_count": 31,
   "metadata": {
    "execution": {
     "iopub.execute_input": "2020-07-17T14:47:50.564101Z",
     "iopub.status.busy": "2020-07-17T14:47:50.562577Z",
     "iopub.status.idle": "2020-07-17T14:47:50.566012Z",
     "shell.execute_reply": "2020-07-17T14:47:50.565522Z"
    }
   },
   "outputs": [
    {
     "data": {
      "text/html": [
       "<div>\n",
       "<style scoped>\n",
       "    .dataframe tbody tr th:only-of-type {\n",
       "        vertical-align: middle;\n",
       "    }\n",
       "\n",
       "    .dataframe tbody tr th {\n",
       "        vertical-align: top;\n",
       "    }\n",
       "\n",
       "    .dataframe thead th {\n",
       "        text-align: right;\n",
       "    }\n",
       "</style>\n",
       "<table border=\"1\" class=\"dataframe\">\n",
       "  <thead>\n",
       "    <tr style=\"text-align: right;\">\n",
       "      <th></th>\n",
       "      <th>domain-name</th>\n",
       "      <th>domain-description_x</th>\n",
       "      <th>domain-description_y</th>\n",
       "    </tr>\n",
       "  </thead>\n",
       "  <tbody>\n",
       "  </tbody>\n",
       "</table>\n",
       "</div>"
      ],
      "text/plain": [
       "Empty DataFrame\n",
       "Columns: [domain-name, domain-description_x, domain-description_y]\n",
       "Index: []"
      ]
     },
     "execution_count": 31,
     "metadata": {},
     "output_type": "execute_result"
    }
   ],
   "source": [
    "shared_domains_pd=pd.merge(repeated_features_sl,repeated_features_nsl,how='inner',on=['domain-name'])\n",
    "shared_domains_pd\n"
   ]
  },
  {
   "cell_type": "code",
   "execution_count": 32,
   "metadata": {
    "execution": {
     "iopub.execute_input": "2020-07-17T14:47:50.582426Z",
     "iopub.status.busy": "2020-07-17T14:47:50.579765Z",
     "iopub.status.idle": "2020-07-17T14:47:52.396208Z",
     "shell.execute_reply": "2020-07-17T14:47:52.395731Z"
    }
   },
   "outputs": [
    {
     "data": {
      "text/plain": [
       "(0.0, 0.2)"
      ]
     },
     "execution_count": 32,
     "metadata": {},
     "output_type": "execute_result"
    },
    {
     "data": {
      "image/png": "[encoded data removed]",
      "text/plain": [
       "<Figure size 432x288 with 1 Axes>"
      ]
     },
     "metadata": {
      "filenames": {
       "image/png": "/home/runner/work/jupyter-book/jupyter-book/mini_book/docs/_build/jupyter_execute/prot_domains2lethality-FEATURES-POSTPROCESSING_47_1.png"
      },
      "needs_background": "light"
     },
     "output_type": "display_data"
    }
   ],
   "source": [
    "a_sl=x_sl.iloc[:,np.sort(df_sl.iloc[:,1])]\n",
    "a_sl.describe().loc['mean'].hist(bins=8),\n",
    "a_sl.describe().loc['std'].hist(bins=8,alpha=0.4)\n",
    "plt.xlim([0,0.2])"
   ]
  },
  {
   "cell_type": "code",
   "execution_count": 33,
   "metadata": {
    "execution": {
     "iopub.execute_input": "2020-07-17T14:47:52.423500Z",
     "iopub.status.busy": "2020-07-17T14:47:52.420911Z",
     "iopub.status.idle": "2020-07-17T14:47:54.111078Z",
     "shell.execute_reply": "2020-07-17T14:47:54.111511Z"
    }
   },
   "outputs": [
    {
     "data": {
      "text/plain": [
       "(0.0, 0.2)"
      ]
     },
     "execution_count": 33,
     "metadata": {},
     "output_type": "execute_result"
    },
    {
     "data": {
      "image/png": "[encoded data removed]",
      "text/plain": [
       "<Figure size 432x288 with 1 Axes>"
      ]
     },
     "metadata": {
      "filenames": {
       "image/png": "/home/runner/work/jupyter-book/jupyter-book/mini_book/docs/_build/jupyter_execute/prot_domains2lethality-FEATURES-POSTPROCESSING_48_1.png"
      },
      "needs_background": "light"
     },
     "output_type": "display_data"
    }
   ],
   "source": [
    "a_nsl=x_nsl.iloc[:,np.sort(df_nsl.iloc[:,1])]\n",
    "a_nsl.describe().loc['mean'].hist(bins=8),\n",
    "a_nsl.describe().loc['std'].hist(bins=8,alpha=0.4)\n",
    "plt.xlim([0,0.2])"
   ]
  },
  {
   "cell_type": "markdown",
   "metadata": {},
   "source": [
    "### Proof of concept with *BEM1*\n",
    "\n",
    "- Gather the domains of SL and nSL pairs from BEM1\n",
    "- Check if the domains for the SL and nSL pairs are inside the most important domains after PCA."
   ]
  },
  {
   "cell_type": "code",
   "execution_count": 34,
   "metadata": {
    "execution": {
     "iopub.execute_input": "2020-07-17T14:47:54.119359Z",
     "iopub.status.busy": "2020-07-17T14:47:54.118791Z",
     "iopub.status.idle": "2020-07-17T14:47:54.123149Z",
     "shell.execute_reply": "2020-07-17T14:47:54.122568Z"
    }
   },
   "outputs": [],
   "source": [
    "domains_bem1=data_domains[data_domains['name']=='BEM1']['domain-descrip']\n",
    "sl_bem1=data_sl[data_sl['gene-query-name']=='BEM1']['gene-target-name']"
   ]
  },
  {
   "cell_type": "code",
   "execution_count": 35,
   "metadata": {
    "execution": {
     "iopub.execute_input": "2020-07-17T14:47:54.129832Z",
     "iopub.status.busy": "2020-07-17T14:47:54.129222Z",
     "iopub.status.idle": "2020-07-17T14:47:54.134267Z",
     "shell.execute_reply": "2020-07-17T14:47:54.134689Z"
    }
   },
   "outputs": [
    {
     "data": {
      "text/plain": [
       "2846      BEM2\n",
       "2847     CDC24\n",
       "5004      MSB1\n",
       "13777     SMI1\n",
       "13778     BNI1\n",
       "13779     BEM2\n",
       "14385     SKN7\n",
       "Name: gene-target-name, dtype: object"
      ]
     },
     "execution_count": 35,
     "metadata": {},
     "output_type": "execute_result"
    }
   ],
   "source": [
    "sl_bem1"
   ]
  },
  {
   "cell_type": "code",
   "execution_count": 36,
   "metadata": {
    "execution": {
     "iopub.execute_input": "2020-07-17T14:47:54.148707Z",
     "iopub.status.busy": "2020-07-17T14:47:54.138987Z",
     "iopub.status.idle": "2020-07-17T14:47:54.153984Z",
     "shell.execute_reply": "2020-07-17T14:47:54.153497Z"
    }
   },
   "outputs": [
    {
     "data": {
      "text/html": [
       "<div>\n",
       "<style scoped>\n",
       "    .dataframe tbody tr th:only-of-type {\n",
       "        vertical-align: middle;\n",
       "    }\n",
       "\n",
       "    .dataframe tbody tr th {\n",
       "        vertical-align: top;\n",
       "    }\n",
       "\n",
       "    .dataframe thead th {\n",
       "        text-align: right;\n",
       "    }\n",
       "</style>\n",
       "<table border=\"1\" class=\"dataframe\">\n",
       "  <thead>\n",
       "    <tr style=\"text-align: right;\">\n",
       "      <th></th>\n",
       "      <th>gene-query</th>\n",
       "      <th>gene-target</th>\n",
       "      <th>gene-query-name</th>\n",
       "      <th>gene-target-name</th>\n",
       "      <th>gene-query-description</th>\n",
       "      <th>gene-target-description</th>\n",
       "      <th>interaction-type</th>\n",
       "      <th>paper-source</th>\n",
       "    </tr>\n",
       "  </thead>\n",
       "  <tbody>\n",
       "    <tr>\n",
       "      <th>2846</th>\n",
       "      <td>YBR200W</td>\n",
       "      <td>YER155C</td>\n",
       "      <td>BEM1</td>\n",
       "      <td>BEM2</td>\n",
       "      <td>SRO1|phosphatidylinositol-3-phosphate-binding ...</td>\n",
       "      <td>IPL2|SUP9|TSL1|L000000168</td>\n",
       "      <td>Synthetic Lethality</td>\n",
       "      <td>Peterson J (1994)</td>\n",
       "    </tr>\n",
       "    <tr>\n",
       "      <th>2847</th>\n",
       "      <td>YBR200W</td>\n",
       "      <td>YAL041W</td>\n",
       "      <td>BEM1</td>\n",
       "      <td>CDC24</td>\n",
       "      <td>SRO1|phosphatidylinositol-3-phosphate-binding ...</td>\n",
       "      <td>CLS4|Rho family guanine nucleotide exchange fa...</td>\n",
       "      <td>Synthetic Lethality</td>\n",
       "      <td>Peterson J (1994)</td>\n",
       "    </tr>\n",
       "    <tr>\n",
       "      <th>5004</th>\n",
       "      <td>YBR200W</td>\n",
       "      <td>YOR188W</td>\n",
       "      <td>BEM1</td>\n",
       "      <td>MSB1</td>\n",
       "      <td>SRO1|phosphatidylinositol-3-phosphate-binding ...</td>\n",
       "      <td>L000001184</td>\n",
       "      <td>Synthetic Lethality</td>\n",
       "      <td>Bender A (1991)</td>\n",
       "    </tr>\n",
       "    <tr>\n",
       "      <th>13777</th>\n",
       "      <td>YBR200W</td>\n",
       "      <td>YGR229C</td>\n",
       "      <td>BEM1</td>\n",
       "      <td>SMI1</td>\n",
       "      <td>SRO1|phosphatidylinositol-3-phosphate-binding ...</td>\n",
       "      <td>KNR4|L000000909</td>\n",
       "      <td>Synthetic Lethality</td>\n",
       "      <td>Gorelik M (2011)</td>\n",
       "    </tr>\n",
       "    <tr>\n",
       "      <th>13778</th>\n",
       "      <td>YBR200W</td>\n",
       "      <td>YNL271C</td>\n",
       "      <td>BEM1</td>\n",
       "      <td>BNI1</td>\n",
       "      <td>SRO1|phosphatidylinositol-3-phosphate-binding ...</td>\n",
       "      <td>PPF3|SHE5|formin BNI1|L000000190</td>\n",
       "      <td>Synthetic Lethality</td>\n",
       "      <td>Gorelik M (2011)</td>\n",
       "    </tr>\n",
       "    <tr>\n",
       "      <th>13779</th>\n",
       "      <td>YBR200W</td>\n",
       "      <td>YER155C</td>\n",
       "      <td>BEM1</td>\n",
       "      <td>BEM2</td>\n",
       "      <td>SRO1|phosphatidylinositol-3-phosphate-binding ...</td>\n",
       "      <td>IPL2|SUP9|TSL1|L000000168</td>\n",
       "      <td>Synthetic Lethality</td>\n",
       "      <td>Gorelik M (2011)</td>\n",
       "    </tr>\n",
       "    <tr>\n",
       "      <th>14385</th>\n",
       "      <td>YBR200W</td>\n",
       "      <td>YHR206W</td>\n",
       "      <td>BEM1</td>\n",
       "      <td>SKN7</td>\n",
       "      <td>SRO1|phosphatidylinositol-3-phosphate-binding ...</td>\n",
       "      <td>BRY1|POS9|kinase-regulated stress-responsive t...</td>\n",
       "      <td>Dosage Lethality</td>\n",
       "      <td>Bouquin N (1999)</td>\n",
       "    </tr>\n",
       "  </tbody>\n",
       "</table>\n",
       "</div>"
      ],
      "text/plain": [
       "      gene-query gene-target gene-query-name gene-target-name  \\\n",
       "2846     YBR200W     YER155C            BEM1             BEM2   \n",
       "2847     YBR200W     YAL041W            BEM1            CDC24   \n",
       "5004     YBR200W     YOR188W            BEM1             MSB1   \n",
       "13777    YBR200W     YGR229C            BEM1             SMI1   \n",
       "13778    YBR200W     YNL271C            BEM1             BNI1   \n",
       "13779    YBR200W     YER155C            BEM1             BEM2   \n",
       "14385    YBR200W     YHR206W            BEM1             SKN7   \n",
       "\n",
       "                                  gene-query-description  \\\n",
       "2846   SRO1|phosphatidylinositol-3-phosphate-binding ...   \n",
       "2847   SRO1|phosphatidylinositol-3-phosphate-binding ...   \n",
       "5004   SRO1|phosphatidylinositol-3-phosphate-binding ...   \n",
       "13777  SRO1|phosphatidylinositol-3-phosphate-binding ...   \n",
       "13778  SRO1|phosphatidylinositol-3-phosphate-binding ...   \n",
       "13779  SRO1|phosphatidylinositol-3-phosphate-binding ...   \n",
       "14385  SRO1|phosphatidylinositol-3-phosphate-binding ...   \n",
       "\n",
       "                                 gene-target-description     interaction-type  \\\n",
       "2846                           IPL2|SUP9|TSL1|L000000168  Synthetic Lethality   \n",
       "2847   CLS4|Rho family guanine nucleotide exchange fa...  Synthetic Lethality   \n",
       "5004                                          L000001184  Synthetic Lethality   \n",
       "13777                                    KNR4|L000000909  Synthetic Lethality   \n",
       "13778                   PPF3|SHE5|formin BNI1|L000000190  Synthetic Lethality   \n",
       "13779                          IPL2|SUP9|TSL1|L000000168  Synthetic Lethality   \n",
       "14385  BRY1|POS9|kinase-regulated stress-responsive t...     Dosage Lethality   \n",
       "\n",
       "            paper-source  \n",
       "2846   Peterson J (1994)  \n",
       "2847   Peterson J (1994)  \n",
       "5004     Bender A (1991)  \n",
       "13777   Gorelik M (2011)  \n",
       "13778   Gorelik M (2011)  \n",
       "13779   Gorelik M (2011)  \n",
       "14385   Bouquin N (1999)  "
      ]
     },
     "execution_count": 36,
     "metadata": {},
     "output_type": "execute_result"
    }
   ],
   "source": [
    "data_sl[data_sl['gene-query-name']=='BEM1']"
   ]
  },
  {
   "cell_type": "code",
   "execution_count": null,
   "metadata": {},
   "outputs": [],
   "source": []
  }
 ],
 "metadata": {
  "jupytext": {
   "text_representation": {
    "extension": ".md",
    "format_name": "myst"
   }
  },
  "kernelspec": {
   "display_name": "Python 3",
   "language": "python",
   "name": "python3"
  },
  "language_info": {
   "codemirror_mode": {
    "name": "ipython",
    "version": 3
   },
   "file_extension": ".py",
   "mimetype": "text/x-python",
   "name": "python",
   "nbconvert_exporter": "python",
   "pygments_lexer": "ipython3",
   "version": "3.7.6"
  },
  "source_map": [
   10,
   18,
   29,
   36,
   57,
   66,
   98,
   101,
   105,
   128,
   131,
   135,
   139,
   145,
   178,
   184,
   188,
   206,
   210,
   218,
   222,
   225,
   229,
   234,
   238,
   244,
   248,
   253,
   257,
   267,
   269,
   273,
   306,
   311,
   313,
   317,
   328,
   330,
   334,
   344,
   348,
   358,
   360,
   364,
   381,
   388,
   394,
   400,
   407,
   412,
   419,
   424,
   428,
   432
  ]
 },
 "nbformat": 4,
 "nbformat_minor": 4
}