{
 "cells": [
  {
   "cell_type": "markdown",
   "metadata": {},
   "source": [
    "# Feature postprocessing from paper.\n",
    "- Title:  \"Predicting yeast synthetic lethal genetic interactions using protein domains\"\n",
    "- Authors: Bo Li, Feng Luo,School of Computing,Clemson University,Clemson, SC, USA\n",
    "- e-mail: bol, luofeng@clemson.edu\n",
    "- year:2009"
   ]
  },
  {
   "cell_type": "code",
   "execution_count": 1,
   "metadata": {
    "execution": {
     "iopub.execute_input": "2020-08-13T09:50:34.908863Z",
     "iopub.status.busy": "2020-08-13T09:50:34.908296Z",
     "iopub.status.idle": "2020-08-13T09:50:35.726005Z",
     "shell.execute_reply": "2020-08-13T09:50:35.725070Z"
    }
   },
   "outputs": [],
   "source": [
    "import pandas as pd\n",
    "import numpy as np\n",
    "import matplotlib.pyplot as plt\n",
    "from collections import defaultdict \n",
    "import seaborn as sns\n",
    "import matplotlib.cm as cm\n",
    "import scipy as scipy\n",
    "import random"
   ]
  },
  {
   "cell_type": "markdown",
   "metadata": {
    "jupyter": {
     "source_hidden": true
    }
   },
   "source": [
    "### Importing datasets \n",
    "\n",
    "#### Link to the github repo where the datasets to be downloaded:\n",
    "[DOWNLOAD THE DATASETS HERE](https://github.com/leilaicruz/machine-learning-for-yeast/tree/dev_Leila/datasets-for-learning)"
   ]
  },
  {
   "cell_type": "code",
   "execution_count": 2,
   "metadata": {
    "execution": {
     "iopub.execute_input": "2020-08-13T09:50:35.733006Z",
     "iopub.status.busy": "2020-08-13T09:50:35.731793Z",
     "iopub.status.idle": "2020-08-13T09:50:43.773677Z",
     "shell.execute_reply": "2020-08-13T09:50:43.772761Z"
    }
   },
   "outputs": [],
   "source": [
    "import os\n",
    "script_dir = os.path.dirname('__file__') #<-- absolute dir the script is in\n",
    "rel_path_SL = \"datasets/data-synthetic-lethals.xlsx\"\n",
    "rel_path_nSL=\"datasets/data-positive-genetic.xlsx\"\n",
    "rel_path_domains=\"datasets/proteins-domains-from-Pfam.xlsx\"\n",
    "\n",
    "abs_file_path_SL = os.path.join(script_dir, rel_path_SL)\n",
    "abs_file_path_nSL = os.path.join(script_dir, rel_path_nSL)\n",
    "abs_file_path_domains = os.path.join(script_dir, rel_path_domains)\n",
    "\n",
    "# os.chdir('mini_book/docs/') #<-- for binder os.chdir('../')\n",
    "# os.chdir('../')\n",
    "my_path_sl= abs_file_path_SL\n",
    "my_path_non_sl=abs_file_path_nSL\n",
    "my_path_domains=abs_file_path_domains\n",
    "\n",
    "data_sl=pd.read_excel(my_path_sl,header=0)\n",
    "data_domains=pd.read_excel(my_path_domains,header=0,index_col='Unnamed: 0')\n",
    "data_domains=data_domains.dropna()\n",
    "data_nonsl=pd.read_excel(my_path_non_sl,header=0)"
   ]
  },
  {
   "cell_type": "markdown",
   "metadata": {},
   "source": [
    "## Building the feature matrix\n",
    "One matrix for true SL where each row is one pair of SL. Every raw will be a vector of 0,1 or 2 depending on the comparison with the domain list. For row i the jth element = 0 if the jth element of the domain list is not in neither protein A and B, 1, if it is in one of them and 2 if it is in both of them .\n",
    "\n",
    "### Building the list of proteins domains id per protein pair separately :\n",
    "- List of protein A: Search for the Sl/nSL database the query gene name and look in the protein domain database which protein domains id has each of those queries.\n",
    "- List of protein B: Search for the Sl/nSL database the target gene name of the previous query and look in the protein domain database which protein domains id has each of those target genes."
   ]
  },
  {
   "cell_type": "code",
   "execution_count": 3,
   "metadata": {
    "execution": {
     "iopub.execute_input": "2020-08-13T09:50:43.843199Z",
     "iopub.status.busy": "2020-08-13T09:50:43.833363Z",
     "iopub.status.idle": "2020-08-13T09:50:45.687645Z",
     "shell.execute_reply": "2020-08-13T09:50:45.686839Z"
    }
   },
   "outputs": [],
   "source": [
    "# Selecting the meaningful columns in the respective dataset\n",
    "domain_id_list=data_domains['domain-name']\n",
    "query_gene=data_sl['gene-query-name']\n",
    "target_gene=data_sl['gene-target-name']\n",
    "query_gene_nonlethal=data_nonsl['gene-query-name']\n",
    "target_gene_nonlethal=data_nonsl['gene-target-name']\n",
    "\n",
    "\n",
    "\n",
    "# Initialising the arrays\n",
    "protein_a_list=[]\n",
    "protein_b_list=[]\n",
    "protein_a_list_non=[]\n",
    "protein_b_list_non=[]\n",
    "\n",
    "population = np.arange(0,len(data_sl))\n",
    "\n",
    "# For loop for 10000 pairs sampled randomly from the SL/nSl pair list , and creating a big array of proteind domains id per protein pair\n",
    "\n",
    "for m in random.sample(list(population), 500):\n",
    "    protein_a=data_domains[data_domains['name']==query_gene[m]]\n",
    "    protein_b=data_domains[data_domains['name']==target_gene[m]]\n",
    "    protein_a_list.append(protein_a['domain-name'].tolist())\n",
    "    protein_b_list.append(protein_b['domain-name'].tolist())\n",
    "\n",
    "    protein_a_non=data_domains[data_domains['name']==query_gene_nonlethal[m]]\n",
    "    protein_b_non=data_domains[data_domains['name']==target_gene_nonlethal[m]]\n",
    "    protein_a_list_non.append(protein_a_non['domain-name'].tolist())\n",
    "    protein_b_list_non.append(protein_b_non['domain-name'].tolist())"
   ]
  },
  {
   "cell_type": "code",
   "execution_count": 4,
   "metadata": {
    "execution": {
     "iopub.execute_input": "2020-08-13T09:50:45.692528Z",
     "iopub.status.busy": "2020-08-13T09:50:45.691923Z",
     "iopub.status.idle": "2020-08-13T09:50:45.696555Z",
     "shell.execute_reply": "2020-08-13T09:50:45.696971Z"
    }
   },
   "outputs": [
    {
     "name": "stdout",
     "output_type": "stream",
     "text": [
      "We are going to analyze 500 protein pairs, out of 17871 SL protein pairs\n",
      "We are going to analyze 500 protein pairs, out of 43340 positive protein pairs\n"
     ]
    }
   ],
   "source": [
    "print('We are going to analyze',len((protein_a_list)) ,'protein pairs, out of',len(data_sl),'SL protein pairs')\n",
    "print('We are going to analyze',len((protein_a_list_non)) ,'protein pairs, out of',len(data_nonsl),'positive protein pairs')"
   ]
  },
  {
   "cell_type": "markdown",
   "metadata": {},
   "source": [
    "### Postprocessing #1:  Remove protein pairs from study if either protein in the pair does not contain any domain"
   ]
  },
  {
   "cell_type": "code",
   "execution_count": 5,
   "metadata": {
    "execution": {
     "iopub.execute_input": "2020-08-13T09:50:45.706592Z",
     "iopub.status.busy": "2020-08-13T09:50:45.705927Z",
     "iopub.status.idle": "2020-08-13T09:50:45.710184Z",
     "shell.execute_reply": "2020-08-13T09:50:45.709290Z"
    }
   },
   "outputs": [],
   "source": [
    "def remove_empty_domains(protein_list_search,protein_list_pair):\n",
    "    index=[]\n",
    "    for i in np.arange(0,len(protein_list_search)):\n",
    "        if protein_list_search[i]==[] or protein_list_pair[i]==[]:\n",
    "            index.append(i) ## index of empty values for the protein_a_list meaning they dont have any annotated domain\n",
    "\n",
    "    y=[x for x in np.arange(0,len(protein_list_search)) if x not in index] # a list with non empty values from protein_a list\n",
    "\n",
    "    protein_list_search_new=[]\n",
    "    protein_list_pair_new=[]\n",
    "    for i in y:\n",
    "        protein_list_search_new.append(protein_list_search[i])\n",
    "        protein_list_pair_new.append(protein_list_pair[i])\n",
    "    return protein_list_search_new,protein_list_pair_new\n",
    "\n",
    "## evaluating the function\n",
    "\n",
    "protein_a_list_new,protein_b_list_new=remove_empty_domains(protein_a_list,protein_b_list)\n",
    "\n",
    "protein_a_list_non_new,protein_b_list_non_new=remove_empty_domains(protein_a_list_non,protein_b_list_non)"
   ]
  },
  {
   "cell_type": "code",
   "execution_count": 6,
   "metadata": {
    "execution": {
     "iopub.execute_input": "2020-08-13T09:50:45.715013Z",
     "iopub.status.busy": "2020-08-13T09:50:45.714432Z",
     "iopub.status.idle": "2020-08-13T09:50:45.719924Z",
     "shell.execute_reply": "2020-08-13T09:50:45.719005Z"
    }
   },
   "outputs": [
    {
     "name": "stdout",
     "output_type": "stream",
     "text": [
      "The empty domain in the SL were: 80 out of 500 domains\n",
      "The empty domain in the nSL were: 100 out of 500 domains\n"
     ]
    }
   ],
   "source": [
    "print('The empty domain in the SL were:', len(protein_a_list)-len(protein_a_list_new), 'out of', len(protein_a_list),'domains')\n",
    "print('The empty domain in the nSL were:', len(protein_a_list_non)-len(protein_a_list_non_new), 'out of', len(protein_a_list_non),'domains')"
   ]
  },
  {
   "cell_type": "markdown",
   "metadata": {},
   "source": [
    "### Feature engineering: Select from each ordered indexes of domain id list which of them appear once, in both or in any of the domains of each protein pair"
   ]
  },
  {
   "cell_type": "markdown",
   "metadata": {},
   "source": [
    "#### Define function `get_indexes`"
   ]
  },
  {
   "cell_type": "code",
   "execution_count": 7,
   "metadata": {
    "execution": {
     "iopub.execute_input": "2020-08-13T09:50:45.727924Z",
     "iopub.status.busy": "2020-08-13T09:50:45.726643Z",
     "iopub.status.idle": "2020-08-13T09:50:45.729900Z",
     "shell.execute_reply": "2020-08-13T09:50:45.730390Z"
    }
   },
   "outputs": [
    {
     "data": {
      "text/plain": [
       "[1, 2]"
      ]
     },
     "execution_count": 7,
     "metadata": {},
     "output_type": "execute_result"
    }
   ],
   "source": [
    "get_indexes = lambda x, xs: [i for (y, i) in zip(xs, range(len(xs))) if x == y] # a function that give the index of whether a value appear in array or not\n",
    "a=[1,2,2,4,5,6,7,8,9,10]\n",
    "get_indexes(2,a)"
   ]
  },
  {
   "cell_type": "code",
   "execution_count": 8,
   "metadata": {
    "execution": {
     "iopub.execute_input": "2020-08-13T09:50:45.739003Z",
     "iopub.status.busy": "2020-08-13T09:50:45.737686Z",
     "iopub.status.idle": "2020-08-13T09:50:45.739759Z",
     "shell.execute_reply": "2020-08-13T09:50:45.740297Z"
    }
   },
   "outputs": [],
   "source": [
    "def feature_building(protein_a_list_new,protein_b_list_new):\n",
    "    x = np.unique(domain_id_list)\n",
    "    ## To avoid taking repeated domains from one protein of the pairs , lets reduced the domains of each protein from the pairs to their unique members\n",
    "    protein_a_list_unique=[]\n",
    "    protein_b_list_unique=[]\n",
    "    for i in np.arange(0,len(protein_a_list_new)):\n",
    "        protein_a_list_unique.append(np.unique(protein_a_list_new[i]))\n",
    "        protein_b_list_unique.append(np.unique(protein_b_list_new[i]))\n",
    "        \n",
    "    protein_feat_true=np.zeros(shape=(len(x),len(protein_a_list_unique)))\n",
    "    pair_a_b_array=[]\n",
    "    for i in np.arange(0,len(protein_a_list_unique)):\n",
    "        index_a=[]\n",
    "        \n",
    "        pair=[protein_a_list_unique[i],protein_b_list_unique[i]]\n",
    "        pair_a_b=np.concatenate(pair).ravel()\n",
    "        pair_a_b_array.append(pair_a_b)\n",
    "\n",
    "    j=0\n",
    "    for i in pair_a_b_array:  \n",
    "        array,index,counts=np.unique(i,return_index=True,return_counts=True)\n",
    "        \n",
    "        for k,m in zip(counts,array):\n",
    "            if k ==2:\n",
    "                protein_feat_true[get_indexes(m,x),j]=2\n",
    "                \n",
    "            if k==1:\n",
    "                protein_feat_true[get_indexes(m,x),j]=1\n",
    "        j=j+1\n",
    "    return protein_feat_true"
   ]
  },
  {
   "cell_type": "code",
   "execution_count": 9,
   "metadata": {
    "execution": {
     "iopub.execute_input": "2020-08-13T09:50:45.749037Z",
     "iopub.status.busy": "2020-08-13T09:50:45.748484Z",
     "iopub.status.idle": "2020-08-13T09:50:46.512387Z",
     "shell.execute_reply": "2020-08-13T09:50:46.511411Z"
    }
   },
   "outputs": [],
   "source": [
    "protein_feat_true=feature_building(protein_b_list_new=protein_b_list_new,protein_a_list_new=protein_a_list_new)\n",
    "protein_feat_true_pd=pd.DataFrame(protein_feat_true.T)\n",
    "\n",
    "protein_feat_non_true=feature_building(protein_b_list_new=protein_b_list_non_new,protein_a_list_new=protein_a_list_non_new)\n",
    "protein_feat_non_true_pd=pd.DataFrame(protein_feat_non_true.T)"
   ]
  },
  {
   "cell_type": "markdown",
   "metadata": {},
   "source": [
    "### How many ones and twos are in each dataset"
   ]
  },
  {
   "cell_type": "code",
   "execution_count": 10,
   "metadata": {
    "execution": {
     "iopub.execute_input": "2020-08-13T09:50:46.519483Z",
     "iopub.status.busy": "2020-08-13T09:50:46.518905Z",
     "iopub.status.idle": "2020-08-13T09:50:46.635838Z",
     "shell.execute_reply": "2020-08-13T09:50:46.636373Z"
    }
   },
   "outputs": [
    {
     "name": "stdout",
     "output_type": "stream",
     "text": [
      "fraction of twos in the SL array is 1.652892561983471e-05\n",
      "fraction of ones in the SL array is 0.0010381739472648563\n",
      "fraction of twos in the PI array is 9.090909090909091e-06\n",
      "fraction of ones in the PI array is 0.0008851239669421488\n"
     ]
    }
   ],
   "source": [
    "index_2_true=protein_feat_true_pd.where(protein_feat_true_pd==2)\n",
    "index_2_true_count=index_2_true.count(axis=1).sum()\n",
    "\n",
    "index_1_true=protein_feat_true_pd.where(protein_feat_true_pd==1)\n",
    "index_1_true_count=index_1_true.count(axis=1).sum()\n",
    "\n",
    "index_2_nontrue=protein_feat_non_true_pd.where(protein_feat_non_true_pd==2)\n",
    "index_2_nontrue_count=index_2_nontrue.count(axis=1).sum()\n",
    "\n",
    "index_1_nontrue=protein_feat_non_true_pd.where(protein_feat_non_true_pd==1)\n",
    "index_1_nontrue_count=index_1_nontrue.count(axis=1).sum()\n",
    "\n",
    "\n",
    "print('fraction of twos in the SL array is',index_2_true_count/(len(protein_feat_true_pd.index)*len(protein_feat_true_pd.columns)))\n",
    "print('fraction of ones in the SL array is',index_1_true_count/(len(protein_feat_true_pd.index)*len(protein_feat_true_pd.columns)))\n",
    "print('fraction of twos in the PI array is',index_2_nontrue_count/(len(protein_feat_non_true_pd.index)*len(protein_feat_non_true_pd.columns)))\n",
    "print('fraction of ones in the PI array is',index_1_nontrue_count/(len(protein_feat_non_true_pd.index)*len(protein_feat_non_true_pd.columns)))"
   ]
  },
  {
   "cell_type": "markdown",
   "metadata": {},
   "source": [
    "#### Bar plot to visualize these numbers"
   ]
  },
  {
   "cell_type": "code",
   "execution_count": 11,
   "metadata": {
    "execution": {
     "iopub.execute_input": "2020-08-13T09:50:46.643010Z",
     "iopub.status.busy": "2020-08-13T09:50:46.642284Z",
     "iopub.status.idle": "2020-08-13T09:50:47.175918Z",
     "shell.execute_reply": "2020-08-13T09:50:47.175366Z"
    }
   },
   "outputs": [
    {
     "data": {
      "text/plain": [
       "([0, 1, 2, 3],\n",
       " [Text(0, 0, ''), Text(0, 0, ''), Text(0, 0, ''), Text(0, 0, '')])"
      ]
     },
     "execution_count": 11,
     "metadata": {},
     "output_type": "execute_result"
    },
    {
     "data": {
      "image/png": "[encoded data removed]",
      "text/plain": [
       "<Figure size 432x288 with 1 Axes>"
      ]
     },
     "metadata": {
      "filenames": {
       "image/png": "/home/runner/work/jupyter-book/jupyter-book/mini_book/docs/_build/jupyter_execute/prot_domains2lethality-FEATURES-POSTPROCESSING_18_1.png"
      },
      "needs_background": "light"
     },
     "output_type": "display_data"
    }
   ],
   "source": [
    "plt.bar(['fraction of 2 in the nSL','fraction of 1 in the nSL'],[index_2_nontrue_count/(len(protein_feat_non_true_pd.index)*len(protein_feat_non_true_pd.columns)),index_1_nontrue_count/(len(protein_feat_non_true_pd.index)*len(protein_feat_non_true_pd.columns))],alpha=0.6,color=['blue','lightblue']), \n",
    "\n",
    "plt.bar(['fraction of 2 in SL ','fraction of 1 in SL'],[index_2_true_count/(len(protein_feat_true_pd.index)*len(protein_feat_true_pd.columns)),index_1_true_count/(len(protein_feat_true_pd.index)*len(protein_feat_true_pd.columns))],alpha=0.6,color=['coral','lightcoral'])\n",
    "\n",
    "plt.ylabel('Fraction from the population')\n",
    "plt.yscale('log')\n",
    "plt.xticks(rotation=40)"
   ]
  },
  {
   "cell_type": "markdown",
   "metadata": {},
   "source": [
    "#### Adding the labels(response variables) to each dataset"
   ]
  },
  {
   "cell_type": "code",
   "execution_count": 12,
   "metadata": {
    "execution": {
     "iopub.execute_input": "2020-08-13T09:50:47.183535Z",
     "iopub.status.busy": "2020-08-13T09:50:47.182143Z",
     "iopub.status.idle": "2020-08-13T09:50:47.186663Z",
     "shell.execute_reply": "2020-08-13T09:50:47.187164Z"
    }
   },
   "outputs": [],
   "source": [
    "protein_feat_true_pd['lethality']=np.ones(shape=(len(protein_a_list_new)))\n",
    "protein_feat_non_true_pd['lethality']=np.zeros(shape=(len(protein_a_list_non_new)))"
   ]
  },
  {
   "cell_type": "markdown",
   "metadata": {},
   "source": [
    "#### Joining both datasets"
   ]
  },
  {
   "cell_type": "code",
   "execution_count": 13,
   "metadata": {
    "execution": {
     "iopub.execute_input": "2020-08-13T09:50:47.192303Z",
     "iopub.status.busy": "2020-08-13T09:50:47.191353Z",
     "iopub.status.idle": "2020-08-13T09:50:47.234148Z",
     "shell.execute_reply": "2020-08-13T09:50:47.233119Z"
    }
   },
   "outputs": [
    {
     "name": "stdout",
     "output_type": "stream",
     "text": [
      "The number of features are: 3026\n",
      "The number of samples are: 820\n"
     ]
    }
   ],
   "source": [
    "feature_post=pd.concat([protein_feat_true_pd,protein_feat_non_true_pd],axis=0)\n",
    "feature_post=feature_post.set_index(np.arange(0,len(protein_a_list_new)+len(protein_a_list_non_new)))\n",
    "print('The number of features are:',feature_post.shape[1])\n",
    "print('The number of samples are:',feature_post.shape[0])"
   ]
  },
  {
   "cell_type": "markdown",
   "metadata": {},
   "source": [
    "### Postprocessing and exploration of the feature matrix of both datasets"
   ]
  },
  {
   "cell_type": "code",
   "execution_count": 14,
   "metadata": {
    "execution": {
     "iopub.execute_input": "2020-08-13T09:50:47.253825Z",
     "iopub.status.busy": "2020-08-13T09:50:47.251761Z",
     "iopub.status.idle": "2020-08-13T09:50:51.887745Z",
     "shell.execute_reply": "2020-08-13T09:50:51.886359Z"
    }
   },
   "outputs": [],
   "source": [
    "mean=feature_post.T.describe().loc['mean']\n",
    "std=feature_post.T.describe().loc['std']\n",
    "lethality=feature_post['lethality']\n",
    "\n",
    "corr_keys=pd.concat([mean,std,lethality],axis=1)"
   ]
  },
  {
   "cell_type": "markdown",
   "metadata": {},
   "source": [
    "### Viz of the stats"
   ]
  },
  {
   "cell_type": "code",
   "execution_count": 15,
   "metadata": {
    "execution": {
     "iopub.execute_input": "2020-08-13T09:50:51.979568Z",
     "iopub.status.busy": "2020-08-13T09:50:51.972918Z",
     "iopub.status.idle": "2020-08-13T09:50:53.743898Z",
     "shell.execute_reply": "2020-08-13T09:50:53.742991Z"
    }
   },
   "outputs": [
    {
     "data": {
      "text/plain": [
       "Text(0.5, 1.08, 'Pairplot to see data dependencies with Lethality')"
      ]
     },
     "execution_count": 15,
     "metadata": {},
     "output_type": "execute_result"
    },
    {
     "data": {
      "image/png": "[encoded data removed]",
      "text/plain": [
       "<Figure size 412x360 with 6 Axes>"
      ]
     },
     "metadata": {
      "filenames": {
       "image/png": "/home/runner/work/jupyter-book/jupyter-book/mini_book/docs/_build/jupyter_execute/prot_domains2lethality-FEATURES-POSTPROCESSING_26_1.png"
      },
      "needs_background": "light"
     },
     "output_type": "display_data"
    }
   ],
   "source": [
    "pair=sns.pairplot(corr_keys,hue='lethality',diag_kind='kde',kind='reg',palette='colorblind')\n",
    "pair.fig.suptitle('Pairplot to see data dependencies with Lethality',y=1.08)"
   ]
  },
  {
   "cell_type": "code",
   "execution_count": 16,
   "metadata": {
    "execution": {
     "iopub.execute_input": "2020-08-13T09:50:53.764221Z",
     "iopub.status.busy": "2020-08-13T09:50:53.763438Z",
     "iopub.status.idle": "2020-08-13T09:50:53.766627Z",
     "shell.execute_reply": "2020-08-13T09:50:53.766059Z"
    }
   },
   "outputs": [],
   "source": [
    "X, y = feature_post.drop(columns=[\"lethality\"]), feature_post[\"lethality\"]"
   ]
  },
  {
   "cell_type": "code",
   "execution_count": 17,
   "metadata": {
    "execution": {
     "iopub.execute_input": "2020-08-13T09:50:53.771650Z",
     "iopub.status.busy": "2020-08-13T09:50:53.770998Z",
     "iopub.status.idle": "2020-08-13T09:50:54.035095Z",
     "shell.execute_reply": "2020-08-13T09:50:54.034516Z"
    }
   },
   "outputs": [],
   "source": [
    "from sklearn.preprocessing import StandardScaler\n",
    "scaler = StandardScaler()\n",
    "x_sl=protein_feat_true_pd.drop(columns=['lethality'])\n",
    "x_nsl=protein_feat_non_true_pd.drop(columns=['lethality'])\n",
    "\n",
    "X_sl_scaled = scaler.fit_transform(x_sl)\n",
    "X_nsl_scaled = scaler.fit_transform(x_nsl)"
   ]
  },
  {
   "cell_type": "code",
   "execution_count": 18,
   "metadata": {
    "execution": {
     "iopub.execute_input": "2020-08-13T09:50:54.041010Z",
     "iopub.status.busy": "2020-08-13T09:50:54.040426Z",
     "iopub.status.idle": "2020-08-13T09:50:54.044619Z",
     "shell.execute_reply": "2020-08-13T09:50:54.044040Z"
    }
   },
   "outputs": [
    {
     "data": {
      "text/plain": [
       "(420, 3025)"
      ]
     },
     "execution_count": 18,
     "metadata": {},
     "output_type": "execute_result"
    }
   ],
   "source": [
    "np.shape(X_sl_scaled)"
   ]
  },
  {
   "cell_type": "markdown",
   "metadata": {},
   "source": [
    "## How redundant are each of the protein domains?"
   ]
  },
  {
   "cell_type": "code",
   "execution_count": 19,
   "metadata": {
    "execution": {
     "iopub.execute_input": "2020-08-13T09:50:54.052098Z",
     "iopub.status.busy": "2020-08-13T09:50:54.050703Z",
     "iopub.status.idle": "2020-08-13T09:50:54.052791Z",
     "shell.execute_reply": "2020-08-13T09:50:54.053372Z"
    }
   },
   "outputs": [],
   "source": [
    "def PCA_component_contribution(scaled_matrix,original_data):\n",
    "    from sklearn.decomposition import PCA\n",
    "\n",
    "    model = PCA(0.95).fit(scaled_matrix)\n",
    "    ## apply dimensionality reduction to X_train\n",
    "    output_pca = model.transform(scaled_matrix)\n",
    "    \n",
    "    total=sum(model.explained_variance_)\n",
    "\n",
    "\n",
    "   \n",
    "    # number of components , that it will be the number of main axes times the number of original components \n",
    "    n_pcs= model.components_.shape[0] # the amount of non redundant protein domains \n",
    "\n",
    "    # get the index of the most important feature on EACH component\n",
    "    # LIST COMPREHENSION HERE\n",
    "    most_important = [np.abs(model.components_[i]).argmax() for i in range(n_pcs)]\n",
    "\n",
    "    initial_feature_names = original_data.columns\n",
    "    # get the names\n",
    "    most_important_names = [initial_feature_names[most_important[i]] for i in range(n_pcs)]\n",
    "    \n",
    "\n",
    "    # LIST COMPREHENSION HERE AGAIN\n",
    "    dic = {'PC{}'.format(i): most_important_names[i] for i in range(n_pcs)}\n",
    "\n",
    "    # build the dataframe\n",
    "    df = pd.DataFrame(dic.items(),columns=['pca-component','domain-number'])\n",
    "\n",
    "    return df,model.components_"
   ]
  },
  {
   "cell_type": "code",
   "execution_count": 20,
   "metadata": {
    "execution": {
     "iopub.execute_input": "2020-08-13T09:50:54.057550Z",
     "iopub.status.busy": "2020-08-13T09:50:54.056916Z",
     "iopub.status.idle": "2020-08-13T09:50:54.788234Z",
     "shell.execute_reply": "2020-08-13T09:50:54.788822Z"
    }
   },
   "outputs": [],
   "source": [
    "df_sl,components_pca_nsl=PCA_component_contribution(X_nsl_scaled,x_nsl)\n",
    "df_nsl,components_pca_sl=PCA_component_contribution(X_sl_scaled,x_sl)"
   ]
  },
  {
   "cell_type": "code",
   "execution_count": 21,
   "metadata": {
    "execution": {
     "iopub.execute_input": "2020-08-13T09:50:54.791319Z",
     "iopub.status.busy": "2020-08-13T09:50:54.790753Z",
     "iopub.status.idle": "2020-08-13T09:50:54.799643Z",
     "shell.execute_reply": "2020-08-13T09:50:54.800188Z"
    }
   },
   "outputs": [
    {
     "data": {
      "text/html": [
       "<div>\n",
       "<style scoped>\n",
       "    .dataframe tbody tr th:only-of-type {\n",
       "        vertical-align: middle;\n",
       "    }\n",
       "\n",
       "    .dataframe tbody tr th {\n",
       "        vertical-align: top;\n",
       "    }\n",
       "\n",
       "    .dataframe thead th {\n",
       "        text-align: right;\n",
       "    }\n",
       "</style>\n",
       "<table border=\"1\" class=\"dataframe\">\n",
       "  <thead>\n",
       "    <tr style=\"text-align: right;\">\n",
       "      <th></th>\n",
       "      <th>pca-component</th>\n",
       "      <th>domain-number</th>\n",
       "    </tr>\n",
       "  </thead>\n",
       "  <tbody>\n",
       "    <tr>\n",
       "      <th>0</th>\n",
       "      <td>PC0</td>\n",
       "      <td>540</td>\n",
       "    </tr>\n",
       "    <tr>\n",
       "      <th>1</th>\n",
       "      <td>PC1</td>\n",
       "      <td>858</td>\n",
       "    </tr>\n",
       "    <tr>\n",
       "      <th>2</th>\n",
       "      <td>PC2</td>\n",
       "      <td>2233</td>\n",
       "    </tr>\n",
       "    <tr>\n",
       "      <th>3</th>\n",
       "      <td>PC3</td>\n",
       "      <td>1055</td>\n",
       "    </tr>\n",
       "    <tr>\n",
       "      <th>4</th>\n",
       "      <td>PC4</td>\n",
       "      <td>365</td>\n",
       "    </tr>\n",
       "  </tbody>\n",
       "</table>\n",
       "</div>"
      ],
      "text/plain": [
       "  pca-component  domain-number\n",
       "0           PC0            540\n",
       "1           PC1            858\n",
       "2           PC2           2233\n",
       "3           PC3           1055\n",
       "4           PC4            365"
      ]
     },
     "execution_count": 21,
     "metadata": {},
     "output_type": "execute_result"
    }
   ],
   "source": [
    "df_sl.head()"
   ]
  },
  {
   "cell_type": "markdown",
   "metadata": {},
   "source": [
    "## which are the shared domains between nSL and SL pairs , in the PCA reduced samples"
   ]
  },
  {
   "cell_type": "code",
   "execution_count": 22,
   "metadata": {
    "execution": {
     "iopub.execute_input": "2020-08-13T09:50:54.802500Z",
     "iopub.status.busy": "2020-08-13T09:50:54.801907Z",
     "iopub.status.idle": "2020-08-13T09:50:54.829835Z",
     "shell.execute_reply": "2020-08-13T09:50:54.830468Z"
    }
   },
   "outputs": [
    {
     "data": {
      "text/html": [
       "<div>\n",
       "<style scoped>\n",
       "    .dataframe tbody tr th:only-of-type {\n",
       "        vertical-align: middle;\n",
       "    }\n",
       "\n",
       "    .dataframe tbody tr th {\n",
       "        vertical-align: top;\n",
       "    }\n",
       "\n",
       "    .dataframe thead th {\n",
       "        text-align: right;\n",
       "    }\n",
       "</style>\n",
       "<table border=\"1\" class=\"dataframe\">\n",
       "  <thead>\n",
       "    <tr style=\"text-align: right;\">\n",
       "      <th></th>\n",
       "      <th>pca-component_x</th>\n",
       "      <th>domain-number</th>\n",
       "      <th>pca-component_y</th>\n",
       "      <th>domain-description</th>\n",
       "    </tr>\n",
       "  </thead>\n",
       "  <tbody>\n",
       "    <tr>\n",
       "      <th>0</th>\n",
       "      <td>PC17</td>\n",
       "      <td>497</td>\n",
       "      <td>PC71</td>\n",
       "      <td>Coatomer_WDAD; Coatomer, WD associated region</td>\n",
       "    </tr>\n",
       "    <tr>\n",
       "      <th>1</th>\n",
       "      <td>PC18</td>\n",
       "      <td>497</td>\n",
       "      <td>PC71</td>\n",
       "      <td>Coatomer_WDAD; Coatomer, WD associated region</td>\n",
       "    </tr>\n",
       "    <tr>\n",
       "      <th>2</th>\n",
       "      <td>PC19</td>\n",
       "      <td>463</td>\n",
       "      <td>PC10</td>\n",
       "      <td>Chitin_synth_1N; Chitin synthase N-terminal</td>\n",
       "    </tr>\n",
       "    <tr>\n",
       "      <th>3</th>\n",
       "      <td>PC21</td>\n",
       "      <td>602</td>\n",
       "      <td>PC116</td>\n",
       "      <td>DNA_RNApol_7kD; RNA polymerase archaeal subuni...</td>\n",
       "    </tr>\n",
       "    <tr>\n",
       "      <th>4</th>\n",
       "      <td>PC32</td>\n",
       "      <td>983</td>\n",
       "      <td>PC32</td>\n",
       "      <td>GHMP_kinases_N; GHMP kinase N-terminal domain</td>\n",
       "    </tr>\n",
       "    <tr>\n",
       "      <th>...</th>\n",
       "      <td>...</td>\n",
       "      <td>...</td>\n",
       "      <td>...</td>\n",
       "      <td>...</td>\n",
       "    </tr>\n",
       "    <tr>\n",
       "      <th>65</th>\n",
       "      <td>PC261</td>\n",
       "      <td>620</td>\n",
       "      <td>PC251</td>\n",
       "      <td>DNA_primase_S; DNA primase, small subunit</td>\n",
       "    </tr>\n",
       "    <tr>\n",
       "      <th>66</th>\n",
       "      <td>PC261</td>\n",
       "      <td>620</td>\n",
       "      <td>PC252</td>\n",
       "      <td>DNA_primase_S; DNA primase, small subunit</td>\n",
       "    </tr>\n",
       "    <tr>\n",
       "      <th>67</th>\n",
       "      <td>PC274</td>\n",
       "      <td>282</td>\n",
       "      <td>PC44</td>\n",
       "      <td>BRE1; E3 ubiquitin ligase, BRE1</td>\n",
       "    </tr>\n",
       "    <tr>\n",
       "      <th>68</th>\n",
       "      <td>PC275</td>\n",
       "      <td>622</td>\n",
       "      <td>PC196</td>\n",
       "      <td>DNA_topoisoIV; DNA topoisomerase, type IIA, su...</td>\n",
       "    </tr>\n",
       "    <tr>\n",
       "      <th>69</th>\n",
       "      <td>PC275</td>\n",
       "      <td>622</td>\n",
       "      <td>PC202</td>\n",
       "      <td>DNA_topoisoIV; DNA topoisomerase, type IIA, su...</td>\n",
       "    </tr>\n",
       "  </tbody>\n",
       "</table>\n",
       "<p>70 rows × 4 columns</p>\n",
       "</div>"
      ],
      "text/plain": [
       "   pca-component_x  domain-number pca-component_y  \\\n",
       "0             PC17            497            PC71   \n",
       "1             PC18            497            PC71   \n",
       "2             PC19            463            PC10   \n",
       "3             PC21            602           PC116   \n",
       "4             PC32            983            PC32   \n",
       "..             ...            ...             ...   \n",
       "65           PC261            620           PC251   \n",
       "66           PC261            620           PC252   \n",
       "67           PC274            282            PC44   \n",
       "68           PC275            622           PC196   \n",
       "69           PC275            622           PC202   \n",
       "\n",
       "                                   domain-description  \n",
       "0       Coatomer_WDAD; Coatomer, WD associated region  \n",
       "1       Coatomer_WDAD; Coatomer, WD associated region  \n",
       "2         Chitin_synth_1N; Chitin synthase N-terminal  \n",
       "3   DNA_RNApol_7kD; RNA polymerase archaeal subuni...  \n",
       "4       GHMP_kinases_N; GHMP kinase N-terminal domain  \n",
       "..                                                ...  \n",
       "65          DNA_primase_S; DNA primase, small subunit  \n",
       "66          DNA_primase_S; DNA primase, small subunit  \n",
       "67                    BRE1; E3 ubiquitin ligase, BRE1  \n",
       "68  DNA_topoisoIV; DNA topoisomerase, type IIA, su...  \n",
       "69  DNA_topoisoIV; DNA topoisomerase, type IIA, su...  \n",
       "\n",
       "[70 rows x 4 columns]"
      ]
     },
     "execution_count": 22,
     "metadata": {},
     "output_type": "execute_result"
    }
   ],
   "source": [
    "df_shared_domains=pd.merge(df_sl,df_nsl,how='inner',on='domain-number')\n",
    "domains_name=np.unique(data_domains['domain-name'])\n",
    "domains_description=np.unique(data_domains['domain-descrip'])\n",
    "\n",
    "df_shared_domains['domain-description']=domains_description[df_shared_domains['domain-number']]\n",
    "\n",
    "\n",
    "df_shared_domains"
   ]
  },
  {
   "cell_type": "code",
   "execution_count": 23,
   "metadata": {
    "execution": {
     "iopub.execute_input": "2020-08-13T09:50:54.835330Z",
     "iopub.status.busy": "2020-08-13T09:50:54.834639Z",
     "iopub.status.idle": "2020-08-13T09:50:54.840062Z",
     "shell.execute_reply": "2020-08-13T09:50:54.839536Z"
    }
   },
   "outputs": [
    {
     "name": "stdout",
     "output_type": "stream",
     "text": [
      "The number of shared domains between SL and nSL pairs,after PCA, is =  70 out of 556 so the 12.589928057553957 %\n"
     ]
    }
   ],
   "source": [
    "print('The number of shared domains between SL and nSL pairs,after PCA, is = ',len(df_shared_domains), 'out of', len(df_sl)+len(df_nsl), 'so the',100*len(df_shared_domains)/(len(df_sl)+len(df_nsl)),'%')"
   ]
  },
  {
   "cell_type": "markdown",
   "metadata": {},
   "source": [
    "## Domains exclusive to SL"
   ]
  },
  {
   "cell_type": "code",
   "execution_count": 24,
   "metadata": {
    "execution": {
     "iopub.execute_input": "2020-08-13T09:50:54.842988Z",
     "iopub.status.busy": "2020-08-13T09:50:54.842412Z",
     "iopub.status.idle": "2020-08-13T09:50:54.874432Z",
     "shell.execute_reply": "2020-08-13T09:50:54.875210Z"
    }
   },
   "outputs": [
    {
     "data": {
      "text/html": [
       "<div>\n",
       "<style scoped>\n",
       "    .dataframe tbody tr th:only-of-type {\n",
       "        vertical-align: middle;\n",
       "    }\n",
       "\n",
       "    .dataframe tbody tr th {\n",
       "        vertical-align: top;\n",
       "    }\n",
       "\n",
       "    .dataframe thead th {\n",
       "        text-align: right;\n",
       "    }\n",
       "</style>\n",
       "<table border=\"1\" class=\"dataframe\">\n",
       "  <thead>\n",
       "    <tr style=\"text-align: right;\">\n",
       "      <th></th>\n",
       "      <th>pca-component_x</th>\n",
       "      <th>domain-number</th>\n",
       "      <th>pca-component_y</th>\n",
       "      <th>domain-description</th>\n",
       "    </tr>\n",
       "  </thead>\n",
       "  <tbody>\n",
       "    <tr>\n",
       "      <th>0</th>\n",
       "      <td>PC0</td>\n",
       "      <td>540</td>\n",
       "      <td>NaN</td>\n",
       "      <td>Cytochrome_B; Cytochrome b/b6, N-terminal</td>\n",
       "    </tr>\n",
       "    <tr>\n",
       "      <th>1</th>\n",
       "      <td>PC1</td>\n",
       "      <td>858</td>\n",
       "      <td>NaN</td>\n",
       "      <td>F420_oxidored; Pyrroline-5-carboxylate reducta...</td>\n",
       "    </tr>\n",
       "    <tr>\n",
       "      <th>2</th>\n",
       "      <td>PC2</td>\n",
       "      <td>2233</td>\n",
       "      <td>NaN</td>\n",
       "      <td>Ribosomal_S27e; Ribosomal protein S27e</td>\n",
       "    </tr>\n",
       "    <tr>\n",
       "      <th>3</th>\n",
       "      <td>PC3</td>\n",
       "      <td>1055</td>\n",
       "      <td>NaN</td>\n",
       "      <td>Glyco_hydro_63N; Glycosyl hydrolase family 63,...</td>\n",
       "    </tr>\n",
       "    <tr>\n",
       "      <th>4</th>\n",
       "      <td>PC4</td>\n",
       "      <td>365</td>\n",
       "      <td>NaN</td>\n",
       "      <td>CLU; CLU domain</td>\n",
       "    </tr>\n",
       "    <tr>\n",
       "      <th>...</th>\n",
       "      <td>...</td>\n",
       "      <td>...</td>\n",
       "      <td>...</td>\n",
       "      <td>...</td>\n",
       "    </tr>\n",
       "    <tr>\n",
       "      <th>286</th>\n",
       "      <td>PC271</td>\n",
       "      <td>644</td>\n",
       "      <td>NaN</td>\n",
       "      <td>DUF1687; Protein of unknown function DUF1687, ...</td>\n",
       "    </tr>\n",
       "    <tr>\n",
       "      <th>287</th>\n",
       "      <td>PC272</td>\n",
       "      <td>2819</td>\n",
       "      <td>NaN</td>\n",
       "      <td>Vhr1; Transcription factor Vhr</td>\n",
       "    </tr>\n",
       "    <tr>\n",
       "      <th>288</th>\n",
       "      <td>PC273</td>\n",
       "      <td>2010</td>\n",
       "      <td>NaN</td>\n",
       "      <td>RNA_pol_Rpa2_4; DNA-directed RNA polymerase I ...</td>\n",
       "    </tr>\n",
       "    <tr>\n",
       "      <th>292</th>\n",
       "      <td>PC276</td>\n",
       "      <td>2759</td>\n",
       "      <td>NaN</td>\n",
       "      <td>UPF0220; Uncharacterised protein family UPF0220</td>\n",
       "    </tr>\n",
       "    <tr>\n",
       "      <th>293</th>\n",
       "      <td>PC277</td>\n",
       "      <td>42</td>\n",
       "      <td>NaN</td>\n",
       "      <td>ABC_tran_Xtn; ABC-transporter extension domain</td>\n",
       "    </tr>\n",
       "  </tbody>\n",
       "</table>\n",
       "<p>224 rows × 4 columns</p>\n",
       "</div>"
      ],
      "text/plain": [
       "    pca-component_x  domain-number pca-component_y  \\\n",
       "0               PC0            540             NaN   \n",
       "1               PC1            858             NaN   \n",
       "2               PC2           2233             NaN   \n",
       "3               PC3           1055             NaN   \n",
       "4               PC4            365             NaN   \n",
       "..              ...            ...             ...   \n",
       "286           PC271            644             NaN   \n",
       "287           PC272           2819             NaN   \n",
       "288           PC273           2010             NaN   \n",
       "292           PC276           2759             NaN   \n",
       "293           PC277             42             NaN   \n",
       "\n",
       "                                    domain-description  \n",
       "0            Cytochrome_B; Cytochrome b/b6, N-terminal  \n",
       "1    F420_oxidored; Pyrroline-5-carboxylate reducta...  \n",
       "2               Ribosomal_S27e; Ribosomal protein S27e  \n",
       "3    Glyco_hydro_63N; Glycosyl hydrolase family 63,...  \n",
       "4                                      CLU; CLU domain  \n",
       "..                                                 ...  \n",
       "286  DUF1687; Protein of unknown function DUF1687, ...  \n",
       "287                     Vhr1; Transcription factor Vhr  \n",
       "288  RNA_pol_Rpa2_4; DNA-directed RNA polymerase I ...  \n",
       "292    UPF0220; Uncharacterised protein family UPF0220  \n",
       "293     ABC_tran_Xtn; ABC-transporter extension domain  \n",
       "\n",
       "[224 rows x 4 columns]"
      ]
     },
     "execution_count": 24,
     "metadata": {},
     "output_type": "execute_result"
    }
   ],
   "source": [
    "df_sl_exclusive=pd.merge(df_sl,df_nsl,how='left',on='domain-number')\n",
    "\n",
    "domains_name=np.unique(data_domains['domain-name'])\n",
    "domains_description=np.unique(data_domains['domain-descrip'])\n",
    "\n",
    "df_sl_exclusive['domain-description']=domains_description[df_sl_exclusive['domain-number']]\n",
    "df_sl_exclusive[pd.isnull(df_sl_exclusive['pca-component_y'])]"
   ]
  },
  {
   "cell_type": "code",
   "execution_count": 25,
   "metadata": {
    "execution": {
     "iopub.execute_input": "2020-08-13T09:50:54.878669Z",
     "iopub.status.busy": "2020-08-13T09:50:54.877599Z",
     "iopub.status.idle": "2020-08-13T09:50:54.885355Z",
     "shell.execute_reply": "2020-08-13T09:50:54.886131Z"
    }
   },
   "outputs": [
    {
     "name": "stdout",
     "output_type": "stream",
     "text": [
      "The number of exclusive domains from SL pairs, after PCA, is =  294 out of 556 so the 52.87769784172662 %\n"
     ]
    }
   ],
   "source": [
    "print('The number of exclusive domains from SL pairs, after PCA, is = ',len(df_sl_exclusive), 'out of', len(df_sl)+len(df_nsl), 'so the',100*len(df_sl_exclusive)/(len(df_sl)+len(df_nsl)),'%')"
   ]
  },
  {
   "cell_type": "code",
   "execution_count": 26,
   "metadata": {
    "execution": {
     "iopub.execute_input": "2020-08-13T09:50:54.889789Z",
     "iopub.status.busy": "2020-08-13T09:50:54.888717Z",
     "iopub.status.idle": "2020-08-13T09:50:54.921370Z",
     "shell.execute_reply": "2020-08-13T09:50:54.921877Z"
    }
   },
   "outputs": [
    {
     "data": {
      "text/html": [
       "<div>\n",
       "<style scoped>\n",
       "    .dataframe tbody tr th:only-of-type {\n",
       "        vertical-align: middle;\n",
       "    }\n",
       "\n",
       "    .dataframe tbody tr th {\n",
       "        vertical-align: top;\n",
       "    }\n",
       "\n",
       "    .dataframe thead th {\n",
       "        text-align: right;\n",
       "    }\n",
       "</style>\n",
       "<table border=\"1\" class=\"dataframe\">\n",
       "  <thead>\n",
       "    <tr style=\"text-align: right;\">\n",
       "      <th></th>\n",
       "      <th>pca-component_x</th>\n",
       "      <th>domain-number</th>\n",
       "      <th>pca-component_y</th>\n",
       "      <th>domain-description</th>\n",
       "    </tr>\n",
       "  </thead>\n",
       "  <tbody>\n",
       "    <tr>\n",
       "      <th>0</th>\n",
       "      <td>NaN</td>\n",
       "      <td>1028</td>\n",
       "      <td>PC0</td>\n",
       "      <td>GatB_Yqey; Asn/Gln amidotransferase</td>\n",
       "    </tr>\n",
       "    <tr>\n",
       "      <th>1</th>\n",
       "      <td>NaN</td>\n",
       "      <td>305</td>\n",
       "      <td>PC1</td>\n",
       "      <td>Brr6_like_C_C; Brl1/Brr6 domain</td>\n",
       "    </tr>\n",
       "    <tr>\n",
       "      <th>2</th>\n",
       "      <td>NaN</td>\n",
       "      <td>305</td>\n",
       "      <td>PC166</td>\n",
       "      <td>Brr6_like_C_C; Brl1/Brr6 domain</td>\n",
       "    </tr>\n",
       "    <tr>\n",
       "      <th>3</th>\n",
       "      <td>NaN</td>\n",
       "      <td>998</td>\n",
       "      <td>PC2</td>\n",
       "      <td>GRAB; GRIP-related Arf-binding domain</td>\n",
       "    </tr>\n",
       "    <tr>\n",
       "      <th>4</th>\n",
       "      <td>NaN</td>\n",
       "      <td>2430</td>\n",
       "      <td>PC3</td>\n",
       "      <td>Sdh_cyt; Succinate dehydrogenase/fumarate redu...</td>\n",
       "    </tr>\n",
       "    <tr>\n",
       "      <th>...</th>\n",
       "      <td>...</td>\n",
       "      <td>...</td>\n",
       "      <td>...</td>\n",
       "      <td>...</td>\n",
       "    </tr>\n",
       "    <tr>\n",
       "      <th>281</th>\n",
       "      <td>NaN</td>\n",
       "      <td>113</td>\n",
       "      <td>PC273</td>\n",
       "      <td>ATG27; Autophagy-related protein 27</td>\n",
       "    </tr>\n",
       "    <tr>\n",
       "      <th>282</th>\n",
       "      <td>NaN</td>\n",
       "      <td>113</td>\n",
       "      <td>PC274</td>\n",
       "      <td>ATG27; Autophagy-related protein 27</td>\n",
       "    </tr>\n",
       "    <tr>\n",
       "      <th>283</th>\n",
       "      <td>NaN</td>\n",
       "      <td>2497</td>\n",
       "      <td>PC275</td>\n",
       "      <td>Sortilin-Vps10; Sortilin, N-terminal</td>\n",
       "    </tr>\n",
       "    <tr>\n",
       "      <th>284</th>\n",
       "      <td>NaN</td>\n",
       "      <td>1349</td>\n",
       "      <td>PC276</td>\n",
       "      <td>MARVEL; Marvel domain</td>\n",
       "    </tr>\n",
       "    <tr>\n",
       "      <th>285</th>\n",
       "      <td>NaN</td>\n",
       "      <td>2467</td>\n",
       "      <td>PC277</td>\n",
       "      <td>Serinc; Serine incorporator/TMS membrane protein</td>\n",
       "    </tr>\n",
       "  </tbody>\n",
       "</table>\n",
       "<p>216 rows × 4 columns</p>\n",
       "</div>"
      ],
      "text/plain": [
       "    pca-component_x  domain-number pca-component_y  \\\n",
       "0               NaN           1028             PC0   \n",
       "1               NaN            305             PC1   \n",
       "2               NaN            305           PC166   \n",
       "3               NaN            998             PC2   \n",
       "4               NaN           2430             PC3   \n",
       "..              ...            ...             ...   \n",
       "281             NaN            113           PC273   \n",
       "282             NaN            113           PC274   \n",
       "283             NaN           2497           PC275   \n",
       "284             NaN           1349           PC276   \n",
       "285             NaN           2467           PC277   \n",
       "\n",
       "                                    domain-description  \n",
       "0                  GatB_Yqey; Asn/Gln amidotransferase  \n",
       "1                      Brr6_like_C_C; Brl1/Brr6 domain  \n",
       "2                      Brr6_like_C_C; Brl1/Brr6 domain  \n",
       "3                GRAB; GRIP-related Arf-binding domain  \n",
       "4    Sdh_cyt; Succinate dehydrogenase/fumarate redu...  \n",
       "..                                                 ...  \n",
       "281                ATG27; Autophagy-related protein 27  \n",
       "282                ATG27; Autophagy-related protein 27  \n",
       "283               Sortilin-Vps10; Sortilin, N-terminal  \n",
       "284                              MARVEL; Marvel domain  \n",
       "285   Serinc; Serine incorporator/TMS membrane protein  \n",
       "\n",
       "[216 rows x 4 columns]"
      ]
     },
     "execution_count": 26,
     "metadata": {},
     "output_type": "execute_result"
    }
   ],
   "source": [
    "df_nsl_exclusive=pd.merge(df_sl,df_nsl,how='right',on='domain-number')\n",
    "\n",
    "domains_name=np.unique(data_domains['domain-name'])\n",
    "domains_description=np.unique(data_domains['domain-descrip'])\n",
    "\n",
    "df_nsl_exclusive['domain-description']=domains_description[df_nsl_exclusive['domain-number']]\n",
    "df_nsl_exclusive[pd.isnull(df_nsl_exclusive['pca-component_x'])]"
   ]
  },
  {
   "cell_type": "code",
   "execution_count": 27,
   "metadata": {
    "execution": {
     "iopub.execute_input": "2020-08-13T09:50:54.927381Z",
     "iopub.status.busy": "2020-08-13T09:50:54.926304Z",
     "iopub.status.idle": "2020-08-13T09:50:54.931654Z",
     "shell.execute_reply": "2020-08-13T09:50:54.931144Z"
    }
   },
   "outputs": [
    {
     "name": "stdout",
     "output_type": "stream",
     "text": [
      "The number of exclusive domains from non SL pairs, after PCA, is =  286 out of 556 so the 51.43884892086331 %\n"
     ]
    }
   ],
   "source": [
    "print('The number of exclusive domains from non SL pairs, after PCA, is = ',len(df_nsl_exclusive), 'out of', len(df_sl)+len(df_nsl), 'so the',100*len(df_nsl_exclusive)/(len(df_sl)+len(df_nsl)),'%')"
   ]
  },
  {
   "cell_type": "markdown",
   "metadata": {},
   "source": [
    "## Let see to the domains-number that get repeated after the PCA analysis , and selecting the most explanatory feature by its explained variance."
   ]
  },
  {
   "cell_type": "code",
   "execution_count": 28,
   "metadata": {
    "execution": {
     "iopub.execute_input": "2020-08-13T09:50:54.948147Z",
     "iopub.status.busy": "2020-08-13T09:50:54.937735Z",
     "iopub.status.idle": "2020-08-13T09:50:54.956818Z",
     "shell.execute_reply": "2020-08-13T09:50:54.956254Z"
    }
   },
   "outputs": [],
   "source": [
    "duplicated_features_sl=df_sl[df_sl.iloc[:,1].duplicated()]\n",
    "repeated_features_sl=pd.DataFrame()\n",
    "\n",
    "domains_name=np.unique(data_domains['domain-name'])\n",
    "domains_description=np.unique(data_domains['domain-descrip'])\n",
    "\n",
    "repeated_features_sl['domain-name']=domains_name[duplicated_features_sl.iloc[:,1]] \n",
    "repeated_features_sl['domain-description']=domains_description[duplicated_features_sl.iloc[:,1]]\n",
    "\n",
    "duplicated_features_nsl=df_nsl[df_nsl.iloc[:,1].duplicated()]\n",
    "repeated_features_nsl=pd.DataFrame()\n",
    "\n",
    "repeated_features_nsl['domain-name']=domains_name[duplicated_features_nsl.iloc[:,1]] \n",
    "repeated_features_nsl['domain-description']=domains_description[duplicated_features_nsl.iloc[:,1]]"
   ]
  },
  {
   "cell_type": "code",
   "execution_count": 29,
   "metadata": {
    "execution": {
     "iopub.execute_input": "2020-08-13T09:50:54.965287Z",
     "iopub.status.busy": "2020-08-13T09:50:54.962337Z",
     "iopub.status.idle": "2020-08-13T09:50:54.973855Z",
     "shell.execute_reply": "2020-08-13T09:50:54.973033Z"
    }
   },
   "outputs": [
    {
     "name": "stderr",
     "output_type": "stream",
     "text": [
      "/usr/share/miniconda3/envs/wintest/lib/python3.7/site-packages/ipykernel_launcher.py:3: SettingWithCopyWarning: \n",
      "A value is trying to be set on a copy of a slice from a DataFrame.\n",
      "Try using .loc[row_indexer,col_indexer] = value instead\n",
      "\n",
      "See the caveats in the documentation: https://pandas.pydata.org/pandas-docs/stable/user_guide/indexing.html#returning-a-view-versus-a-copy\n",
      "  This is separate from the ipykernel package so we can avoid doing imports until\n"
     ]
    },
    {
     "data": {
      "text/plain": [
       "((43, 4), (294, 4))"
      ]
     },
     "execution_count": 29,
     "metadata": {},
     "output_type": "execute_result"
    }
   ],
   "source": [
    "only_sl_pd=pd.merge(repeated_features_sl,repeated_features_nsl,how='left',on=['domain-name'])\n",
    "data_only_sl = only_sl_pd[pd.isnull(only_sl_pd['domain-description_y'])]\n",
    "data_only_sl['domain-description']=data_only_sl['domain-description_x']\n",
    "data_only_sl.shape,df_sl_exclusive.shape"
   ]
  },
  {
   "cell_type": "code",
   "execution_count": 30,
   "metadata": {
    "execution": {
     "iopub.execute_input": "2020-08-13T09:50:54.994032Z",
     "iopub.status.busy": "2020-08-13T09:50:54.982312Z",
     "iopub.status.idle": "2020-08-13T09:50:55.000254Z",
     "shell.execute_reply": "2020-08-13T09:50:54.999428Z"
    }
   },
   "outputs": [
    {
     "data": {
      "text/html": [
       "<div>\n",
       "<style scoped>\n",
       "    .dataframe tbody tr th:only-of-type {\n",
       "        vertical-align: middle;\n",
       "    }\n",
       "\n",
       "    .dataframe tbody tr th {\n",
       "        vertical-align: top;\n",
       "    }\n",
       "\n",
       "    .dataframe thead th {\n",
       "        text-align: right;\n",
       "    }\n",
       "</style>\n",
       "<table border=\"1\" class=\"dataframe\">\n",
       "  <thead>\n",
       "    <tr style=\"text-align: right;\">\n",
       "      <th></th>\n",
       "      <th>domain-name</th>\n",
       "      <th>domain-description_x</th>\n",
       "      <th>domain-description_y</th>\n",
       "    </tr>\n",
       "  </thead>\n",
       "  <tbody>\n",
       "    <tr>\n",
       "      <th>0</th>\n",
       "      <td>PF03531</td>\n",
       "      <td>NaN</td>\n",
       "      <td>HORMA; HORMA domain</td>\n",
       "    </tr>\n",
       "    <tr>\n",
       "      <th>1</th>\n",
       "      <td>PF02852</td>\n",
       "      <td>NaN</td>\n",
       "      <td>GHMP_kinases_C; GHMP kinase, C-terminal domain</td>\n",
       "    </tr>\n",
       "    <tr>\n",
       "      <th>2</th>\n",
       "      <td>PF00780</td>\n",
       "      <td>NaN</td>\n",
       "      <td>COG4; Conserved oligomeric Golgi complex, subu...</td>\n",
       "    </tr>\n",
       "    <tr>\n",
       "      <th>3</th>\n",
       "      <td>PF10415</td>\n",
       "      <td>NaN</td>\n",
       "      <td>SAM_2; Sterile alpha motif domain</td>\n",
       "    </tr>\n",
       "    <tr>\n",
       "      <th>4</th>\n",
       "      <td>PF03198</td>\n",
       "      <td>NaN</td>\n",
       "      <td>Glycos_transf_1; Glycosyl transferase, family 1</td>\n",
       "    </tr>\n",
       "    <tr>\n",
       "      <th>5</th>\n",
       "      <td>PF00856</td>\n",
       "      <td>NaN</td>\n",
       "      <td>CRAL_TRIO; CRAL-TRIO lipid binding domain</td>\n",
       "    </tr>\n",
       "    <tr>\n",
       "      <th>6</th>\n",
       "      <td>PF05764</td>\n",
       "      <td>NaN</td>\n",
       "      <td>NPR3; Nitrogen permease regulator 3</td>\n",
       "    </tr>\n",
       "    <tr>\n",
       "      <th>7</th>\n",
       "      <td>PF05390</td>\n",
       "      <td>NaN</td>\n",
       "      <td>NAD_kinase; NAD kinase</td>\n",
       "    </tr>\n",
       "    <tr>\n",
       "      <th>8</th>\n",
       "      <td>PF01233</td>\n",
       "      <td>NaN</td>\n",
       "      <td>DASH_Spc19; DASH complex subunit Spc19</td>\n",
       "    </tr>\n",
       "    <tr>\n",
       "      <th>9</th>\n",
       "      <td>PF03372</td>\n",
       "      <td>NaN</td>\n",
       "      <td>HCO3_cotransp; Bicarbonate transporter, C-term...</td>\n",
       "    </tr>\n",
       "    <tr>\n",
       "      <th>11</th>\n",
       "      <td>PF10375</td>\n",
       "      <td>NaN</td>\n",
       "      <td>RsfS</td>\n",
       "    </tr>\n",
       "    <tr>\n",
       "      <th>12</th>\n",
       "      <td>PF10375</td>\n",
       "      <td>NaN</td>\n",
       "      <td>RsfS</td>\n",
       "    </tr>\n",
       "    <tr>\n",
       "      <th>13</th>\n",
       "      <td>PF10375</td>\n",
       "      <td>NaN</td>\n",
       "      <td>RsfS</td>\n",
       "    </tr>\n",
       "    <tr>\n",
       "      <th>14</th>\n",
       "      <td>PF08312</td>\n",
       "      <td>NaN</td>\n",
       "      <td>Peptidase_M24_C; Peptidase M24, C-terminal domain</td>\n",
       "    </tr>\n",
       "    <tr>\n",
       "      <th>15</th>\n",
       "      <td>PF10304</td>\n",
       "      <td>NaN</td>\n",
       "      <td>Ribosomal_S4e; Ribosomal protein S4e, central ...</td>\n",
       "    </tr>\n",
       "    <tr>\n",
       "      <th>16</th>\n",
       "      <td>PF02541</td>\n",
       "      <td>NaN</td>\n",
       "      <td>Fe-ADH; Alcohol dehydrogenase, iron-type</td>\n",
       "    </tr>\n",
       "    <tr>\n",
       "      <th>17</th>\n",
       "      <td>PF01302</td>\n",
       "      <td>NaN</td>\n",
       "      <td>DJ-1_PfpI; DJ-1/PfpI</td>\n",
       "    </tr>\n",
       "    <tr>\n",
       "      <th>18</th>\n",
       "      <td>PF01388</td>\n",
       "      <td>NaN</td>\n",
       "      <td>DNA_pol3_delta2</td>\n",
       "    </tr>\n",
       "    <tr>\n",
       "      <th>19</th>\n",
       "      <td>PF04136</td>\n",
       "      <td>NaN</td>\n",
       "      <td>LRR_4; Leucine rich repeat 4</td>\n",
       "    </tr>\n",
       "    <tr>\n",
       "      <th>20</th>\n",
       "      <td>PF00875</td>\n",
       "      <td>NaN</td>\n",
       "      <td>CRCB; Putative fluoride ion transporter CrcB</td>\n",
       "    </tr>\n",
       "    <tr>\n",
       "      <th>21</th>\n",
       "      <td>PF12998</td>\n",
       "      <td>NaN</td>\n",
       "      <td>TFIIIC_sub6; Transcription factor TFIIIC, tau5...</td>\n",
       "    </tr>\n",
       "    <tr>\n",
       "      <th>22</th>\n",
       "      <td>PF01145</td>\n",
       "      <td>NaN</td>\n",
       "      <td>Coq4; Ubiquinone biosynthesis protein Coq4</td>\n",
       "    </tr>\n",
       "    <tr>\n",
       "      <th>23</th>\n",
       "      <td>PF01145</td>\n",
       "      <td>NaN</td>\n",
       "      <td>Coq4; Ubiquinone biosynthesis protein Coq4</td>\n",
       "    </tr>\n",
       "    <tr>\n",
       "      <th>24</th>\n",
       "      <td>PF01243</td>\n",
       "      <td>NaN</td>\n",
       "      <td>DBR1; Lariat debranching enzyme, C-terminal</td>\n",
       "    </tr>\n",
       "    <tr>\n",
       "      <th>25</th>\n",
       "      <td>PF03081</td>\n",
       "      <td>NaN</td>\n",
       "      <td>Glucan_synthase; Glycosyl transferase, family 48</td>\n",
       "    </tr>\n",
       "    <tr>\n",
       "      <th>26</th>\n",
       "      <td>PF09288</td>\n",
       "      <td>NaN</td>\n",
       "      <td>Rad51; DNA recombination and repair protein Ra...</td>\n",
       "    </tr>\n",
       "    <tr>\n",
       "      <th>27</th>\n",
       "      <td>PF03635</td>\n",
       "      <td>NaN</td>\n",
       "      <td>HSP9_HSP12; Heat shock protein 9/12</td>\n",
       "    </tr>\n",
       "    <tr>\n",
       "      <th>28</th>\n",
       "      <td>PF10163</td>\n",
       "      <td>NaN</td>\n",
       "      <td>Ribosomal_L37ae; Ribosomal protein L37ae</td>\n",
       "    </tr>\n",
       "    <tr>\n",
       "      <th>29</th>\n",
       "      <td>PF00623</td>\n",
       "      <td>NaN</td>\n",
       "      <td>Brr6_like_C_C; Brl1/Brr6 domain</td>\n",
       "    </tr>\n",
       "    <tr>\n",
       "      <th>30</th>\n",
       "      <td>PF01231</td>\n",
       "      <td>NaN</td>\n",
       "      <td>DASH_Duo1; DASH complex subunit Duo1</td>\n",
       "    </tr>\n",
       "    <tr>\n",
       "      <th>31</th>\n",
       "      <td>PF09444</td>\n",
       "      <td>NaN</td>\n",
       "      <td>Rer1; Retrieval of early ER protein Rer1</td>\n",
       "    </tr>\n",
       "    <tr>\n",
       "      <th>32</th>\n",
       "      <td>PF13176</td>\n",
       "      <td>NaN</td>\n",
       "      <td>TIG; IPT domain</td>\n",
       "    </tr>\n",
       "    <tr>\n",
       "      <th>33</th>\n",
       "      <td>PF00115</td>\n",
       "      <td>NaN</td>\n",
       "      <td>ACPS; 4&amp;apos;-phosphopantetheinyl transferase ...</td>\n",
       "    </tr>\n",
       "    <tr>\n",
       "      <th>34</th>\n",
       "      <td>PF02269</td>\n",
       "      <td>NaN</td>\n",
       "      <td>FAD-oxidase_C; FAD-linked oxidase, C-terminal</td>\n",
       "    </tr>\n",
       "    <tr>\n",
       "      <th>35</th>\n",
       "      <td>PF01423</td>\n",
       "      <td>NaN</td>\n",
       "      <td>DNA_topoisoIV; DNA topoisomerase, type IIA, su...</td>\n",
       "    </tr>\n",
       "    <tr>\n",
       "      <th>36</th>\n",
       "      <td>PF00128</td>\n",
       "      <td>NaN</td>\n",
       "      <td>ADSL_C; Adenylosuccinate lyase C-terminal</td>\n",
       "    </tr>\n",
       "    <tr>\n",
       "      <th>37</th>\n",
       "      <td>PF03178</td>\n",
       "      <td>NaN</td>\n",
       "      <td>Glyco_transf_8; Glycosyl transferase, family 8</td>\n",
       "    </tr>\n",
       "    <tr>\n",
       "      <th>38</th>\n",
       "      <td>PF00098</td>\n",
       "      <td>NaN</td>\n",
       "      <td>ABC_membrane_2; ABC transporter type 1, transm...</td>\n",
       "    </tr>\n",
       "    <tr>\n",
       "      <th>39</th>\n",
       "      <td>PF04111</td>\n",
       "      <td>NaN</td>\n",
       "      <td>L31; Ribosomal protein L31, mitochondrial</td>\n",
       "    </tr>\n",
       "    <tr>\n",
       "      <th>40</th>\n",
       "      <td>PF09809</td>\n",
       "      <td>NaN</td>\n",
       "      <td>Ribosomal_L28e; Ribosomal L28e/Mak16</td>\n",
       "    </tr>\n",
       "    <tr>\n",
       "      <th>41</th>\n",
       "      <td>PF00677</td>\n",
       "      <td>NaN</td>\n",
       "      <td>CDC4_D; Cell division control protein 4, dimer...</td>\n",
       "    </tr>\n",
       "    <tr>\n",
       "      <th>42</th>\n",
       "      <td>PF08731</td>\n",
       "      <td>NaN</td>\n",
       "      <td>RNase_PH_C; Exoribonuclease, phosphorolytic do...</td>\n",
       "    </tr>\n",
       "    <tr>\n",
       "      <th>43</th>\n",
       "      <td>PF08731</td>\n",
       "      <td>NaN</td>\n",
       "      <td>RNase_PH_C; Exoribonuclease, phosphorolytic do...</td>\n",
       "    </tr>\n",
       "    <tr>\n",
       "      <th>44</th>\n",
       "      <td>PF01417</td>\n",
       "      <td>NaN</td>\n",
       "      <td>DNA_primase_S; DNA primase, small subunit</td>\n",
       "    </tr>\n",
       "    <tr>\n",
       "      <th>45</th>\n",
       "      <td>PF08733</td>\n",
       "      <td>NaN</td>\n",
       "      <td>RNase_P_p30; RNase P subunit p30</td>\n",
       "    </tr>\n",
       "    <tr>\n",
       "      <th>46</th>\n",
       "      <td>PF03371</td>\n",
       "      <td>NaN</td>\n",
       "      <td>HBS1_N; HBS1-like protein, N-terminal</td>\n",
       "    </tr>\n",
       "    <tr>\n",
       "      <th>47</th>\n",
       "      <td>PF00320</td>\n",
       "      <td>NaN</td>\n",
       "      <td>Acyl-CoA_dh_M; Acyl-CoA oxidase/dehydrogenase,...</td>\n",
       "    </tr>\n",
       "    <tr>\n",
       "      <th>48</th>\n",
       "      <td>PF03248</td>\n",
       "      <td>NaN</td>\n",
       "      <td>GrpE; GrpE nucleotide exchange factor</td>\n",
       "    </tr>\n",
       "    <tr>\n",
       "      <th>49</th>\n",
       "      <td>PF01269</td>\n",
       "      <td>NaN</td>\n",
       "      <td>DHH; DDH domain</td>\n",
       "    </tr>\n",
       "    <tr>\n",
       "      <th>50</th>\n",
       "      <td>PF01040</td>\n",
       "      <td>NaN</td>\n",
       "      <td>Chorein_N; Vacuolar protein sorting-associated...</td>\n",
       "    </tr>\n",
       "    <tr>\n",
       "      <th>52</th>\n",
       "      <td>PF04180</td>\n",
       "      <td>NaN</td>\n",
       "      <td>Lectin_leg-like; Legume-like lectin</td>\n",
       "    </tr>\n",
       "    <tr>\n",
       "      <th>53</th>\n",
       "      <td>PF00235</td>\n",
       "      <td>NaN</td>\n",
       "      <td>ATG27; Autophagy-related protein 27</td>\n",
       "    </tr>\n",
       "  </tbody>\n",
       "</table>\n",
       "</div>"
      ],
      "text/plain": [
       "   domain-name domain-description_x  \\\n",
       "0      PF03531                  NaN   \n",
       "1      PF02852                  NaN   \n",
       "2      PF00780                  NaN   \n",
       "3      PF10415                  NaN   \n",
       "4      PF03198                  NaN   \n",
       "5      PF00856                  NaN   \n",
       "6      PF05764                  NaN   \n",
       "7      PF05390                  NaN   \n",
       "8      PF01233                  NaN   \n",
       "9      PF03372                  NaN   \n",
       "11     PF10375                  NaN   \n",
       "12     PF10375                  NaN   \n",
       "13     PF10375                  NaN   \n",
       "14     PF08312                  NaN   \n",
       "15     PF10304                  NaN   \n",
       "16     PF02541                  NaN   \n",
       "17     PF01302                  NaN   \n",
       "18     PF01388                  NaN   \n",
       "19     PF04136                  NaN   \n",
       "20     PF00875                  NaN   \n",
       "21     PF12998                  NaN   \n",
       "22     PF01145                  NaN   \n",
       "23     PF01145                  NaN   \n",
       "24     PF01243                  NaN   \n",
       "25     PF03081                  NaN   \n",
       "26     PF09288                  NaN   \n",
       "27     PF03635                  NaN   \n",
       "28     PF10163                  NaN   \n",
       "29     PF00623                  NaN   \n",
       "30     PF01231                  NaN   \n",
       "31     PF09444                  NaN   \n",
       "32     PF13176                  NaN   \n",
       "33     PF00115                  NaN   \n",
       "34     PF02269                  NaN   \n",
       "35     PF01423                  NaN   \n",
       "36     PF00128                  NaN   \n",
       "37     PF03178                  NaN   \n",
       "38     PF00098                  NaN   \n",
       "39     PF04111                  NaN   \n",
       "40     PF09809                  NaN   \n",
       "41     PF00677                  NaN   \n",
       "42     PF08731                  NaN   \n",
       "43     PF08731                  NaN   \n",
       "44     PF01417                  NaN   \n",
       "45     PF08733                  NaN   \n",
       "46     PF03371                  NaN   \n",
       "47     PF00320                  NaN   \n",
       "48     PF03248                  NaN   \n",
       "49     PF01269                  NaN   \n",
       "50     PF01040                  NaN   \n",
       "52     PF04180                  NaN   \n",
       "53     PF00235                  NaN   \n",
       "\n",
       "                                 domain-description_y  \n",
       "0                                 HORMA; HORMA domain  \n",
       "1      GHMP_kinases_C; GHMP kinase, C-terminal domain  \n",
       "2   COG4; Conserved oligomeric Golgi complex, subu...  \n",
       "3                   SAM_2; Sterile alpha motif domain  \n",
       "4     Glycos_transf_1; Glycosyl transferase, family 1  \n",
       "5           CRAL_TRIO; CRAL-TRIO lipid binding domain  \n",
       "6                 NPR3; Nitrogen permease regulator 3  \n",
       "7                              NAD_kinase; NAD kinase  \n",
       "8              DASH_Spc19; DASH complex subunit Spc19  \n",
       "9   HCO3_cotransp; Bicarbonate transporter, C-term...  \n",
       "11                                               RsfS  \n",
       "12                                               RsfS  \n",
       "13                                               RsfS  \n",
       "14  Peptidase_M24_C; Peptidase M24, C-terminal domain  \n",
       "15  Ribosomal_S4e; Ribosomal protein S4e, central ...  \n",
       "16           Fe-ADH; Alcohol dehydrogenase, iron-type  \n",
       "17                               DJ-1_PfpI; DJ-1/PfpI  \n",
       "18                                    DNA_pol3_delta2  \n",
       "19                       LRR_4; Leucine rich repeat 4  \n",
       "20       CRCB; Putative fluoride ion transporter CrcB  \n",
       "21  TFIIIC_sub6; Transcription factor TFIIIC, tau5...  \n",
       "22         Coq4; Ubiquinone biosynthesis protein Coq4  \n",
       "23         Coq4; Ubiquinone biosynthesis protein Coq4  \n",
       "24        DBR1; Lariat debranching enzyme, C-terminal  \n",
       "25   Glucan_synthase; Glycosyl transferase, family 48  \n",
       "26  Rad51; DNA recombination and repair protein Ra...  \n",
       "27                HSP9_HSP12; Heat shock protein 9/12  \n",
       "28           Ribosomal_L37ae; Ribosomal protein L37ae  \n",
       "29                    Brr6_like_C_C; Brl1/Brr6 domain  \n",
       "30               DASH_Duo1; DASH complex subunit Duo1  \n",
       "31           Rer1; Retrieval of early ER protein Rer1  \n",
       "32                                    TIG; IPT domain  \n",
       "33  ACPS; 4&apos;-phosphopantetheinyl transferase ...  \n",
       "34      FAD-oxidase_C; FAD-linked oxidase, C-terminal  \n",
       "35  DNA_topoisoIV; DNA topoisomerase, type IIA, su...  \n",
       "36          ADSL_C; Adenylosuccinate lyase C-terminal  \n",
       "37     Glyco_transf_8; Glycosyl transferase, family 8  \n",
       "38  ABC_membrane_2; ABC transporter type 1, transm...  \n",
       "39          L31; Ribosomal protein L31, mitochondrial  \n",
       "40               Ribosomal_L28e; Ribosomal L28e/Mak16  \n",
       "41  CDC4_D; Cell division control protein 4, dimer...  \n",
       "42  RNase_PH_C; Exoribonuclease, phosphorolytic do...  \n",
       "43  RNase_PH_C; Exoribonuclease, phosphorolytic do...  \n",
       "44          DNA_primase_S; DNA primase, small subunit  \n",
       "45                   RNase_P_p30; RNase P subunit p30  \n",
       "46              HBS1_N; HBS1-like protein, N-terminal  \n",
       "47  Acyl-CoA_dh_M; Acyl-CoA oxidase/dehydrogenase,...  \n",
       "48              GrpE; GrpE nucleotide exchange factor  \n",
       "49                                    DHH; DDH domain  \n",
       "50  Chorein_N; Vacuolar protein sorting-associated...  \n",
       "52                Lectin_leg-like; Legume-like lectin  \n",
       "53                ATG27; Autophagy-related protein 27  "
      ]
     },
     "execution_count": 30,
     "metadata": {},
     "output_type": "execute_result"
    }
   ],
   "source": [
    "only_nsl_pd=pd.merge(repeated_features_sl,repeated_features_nsl,how='right',on=['domain-name'])\n",
    "data_only_nsl = only_nsl_pd[pd.isnull(only_nsl_pd['domain-description_x'])]\n",
    "data_only_nsl"
   ]
  },
  {
   "cell_type": "code",
   "execution_count": 31,
   "metadata": {
    "execution": {
     "iopub.execute_input": "2020-08-13T09:50:55.012548Z",
     "iopub.status.busy": "2020-08-13T09:50:55.011804Z",
     "iopub.status.idle": "2020-08-13T09:50:55.018087Z",
     "shell.execute_reply": "2020-08-13T09:50:55.017253Z"
    }
   },
   "outputs": [
    {
     "data": {
      "text/html": [
       "<div>\n",
       "<style scoped>\n",
       "    .dataframe tbody tr th:only-of-type {\n",
       "        vertical-align: middle;\n",
       "    }\n",
       "\n",
       "    .dataframe tbody tr th {\n",
       "        vertical-align: top;\n",
       "    }\n",
       "\n",
       "    .dataframe thead th {\n",
       "        text-align: right;\n",
       "    }\n",
       "</style>\n",
       "<table border=\"1\" class=\"dataframe\">\n",
       "  <thead>\n",
       "    <tr style=\"text-align: right;\">\n",
       "      <th></th>\n",
       "      <th>domain-name</th>\n",
       "      <th>domain-description_x</th>\n",
       "      <th>domain-description_y</th>\n",
       "    </tr>\n",
       "  </thead>\n",
       "  <tbody>\n",
       "    <tr>\n",
       "      <th>0</th>\n",
       "      <td>PF00505</td>\n",
       "      <td>B3_4; B3/B4 tRNA-binding domain</td>\n",
       "      <td>B3_4; B3/B4 tRNA-binding domain</td>\n",
       "    </tr>\n",
       "    <tr>\n",
       "      <th>1</th>\n",
       "      <td>PF02207</td>\n",
       "      <td>Enolase_N; Enolase, N-terminal</td>\n",
       "      <td>Enolase_N; Enolase, N-terminal</td>\n",
       "    </tr>\n",
       "  </tbody>\n",
       "</table>\n",
       "</div>"
      ],
      "text/plain": [
       "  domain-name             domain-description_x  \\\n",
       "0     PF00505  B3_4; B3/B4 tRNA-binding domain   \n",
       "1     PF02207   Enolase_N; Enolase, N-terminal   \n",
       "\n",
       "              domain-description_y  \n",
       "0  B3_4; B3/B4 tRNA-binding domain  \n",
       "1   Enolase_N; Enolase, N-terminal  "
      ]
     },
     "execution_count": 31,
     "metadata": {},
     "output_type": "execute_result"
    }
   ],
   "source": [
    "shared_domains_pd=pd.merge(repeated_features_sl,repeated_features_nsl,how='inner',on=['domain-name'])\n",
    "shared_domains_pd\n"
   ]
  },
  {
   "cell_type": "code",
   "execution_count": 32,
   "metadata": {
    "execution": {
     "iopub.execute_input": "2020-08-13T09:50:55.049923Z",
     "iopub.status.busy": "2020-08-13T09:50:55.037539Z",
     "iopub.status.idle": "2020-08-13T09:50:56.693024Z",
     "shell.execute_reply": "2020-08-13T09:50:56.692410Z"
    }
   },
   "outputs": [
    {
     "data": {
      "text/plain": [
       "(0.0, 0.2)"
      ]
     },
     "execution_count": 32,
     "metadata": {},
     "output_type": "execute_result"
    },
    {
     "data": {
      "image/png": "[encoded data removed]",
      "text/plain": [
       "<Figure size 432x288 with 1 Axes>"
      ]
     },
     "metadata": {
      "filenames": {
       "image/png": "/home/runner/work/jupyter-book/jupyter-book/mini_book/docs/_build/jupyter_execute/prot_domains2lethality-FEATURES-POSTPROCESSING_47_1.png"
      },
      "needs_background": "light"
     },
     "output_type": "display_data"
    }
   ],
   "source": [
    "a_sl=x_sl.iloc[:,np.sort(df_sl.iloc[:,1])]\n",
    "a_sl.describe().loc['mean'].hist(bins=8),\n",
    "a_sl.describe().loc['std'].hist(bins=8,alpha=0.4)\n",
    "plt.xlim([0,0.2])"
   ]
  },
  {
   "cell_type": "code",
   "execution_count": 33,
   "metadata": {
    "execution": {
     "iopub.execute_input": "2020-08-13T09:50:56.705905Z",
     "iopub.status.busy": "2020-08-13T09:50:56.705254Z",
     "iopub.status.idle": "2020-08-13T09:50:58.401281Z",
     "shell.execute_reply": "2020-08-13T09:50:58.400561Z"
    }
   },
   "outputs": [
    {
     "data": {
      "text/plain": [
       "(0.0, 0.2)"
      ]
     },
     "execution_count": 33,
     "metadata": {},
     "output_type": "execute_result"
    },
    {
     "data": {
      "image/png": "[encoded data removed]",
      "text/plain": [
       "<Figure size 432x288 with 1 Axes>"
      ]
     },
     "metadata": {
      "filenames": {
       "image/png": "/home/runner/work/jupyter-book/jupyter-book/mini_book/docs/_build/jupyter_execute/prot_domains2lethality-FEATURES-POSTPROCESSING_48_1.png"
      },
      "needs_background": "light"
     },
     "output_type": "display_data"
    }
   ],
   "source": [
    "a_nsl=x_nsl.iloc[:,np.sort(df_nsl.iloc[:,1])]\n",
    "a_nsl.describe().loc['mean'].hist(bins=8),\n",
    "a_nsl.describe().loc['std'].hist(bins=8,alpha=0.4)\n",
    "plt.xlim([0,0.2])"
   ]
  },
  {
   "cell_type": "markdown",
   "metadata": {},
   "source": [
    "### Proof of concept with *BEM1*\n",
    "\n",
    "- Gather the domains of SL and nSL pairs from BEM1\n",
    "- Check if the domains for the SL and nSL pairs are inside the most important domains after PCA."
   ]
  },
  {
   "cell_type": "code",
   "execution_count": 34,
   "metadata": {
    "execution": {
     "iopub.execute_input": "2020-08-13T09:50:58.408388Z",
     "iopub.status.busy": "2020-08-13T09:50:58.407497Z",
     "iopub.status.idle": "2020-08-13T09:50:58.411842Z",
     "shell.execute_reply": "2020-08-13T09:50:58.411381Z"
    }
   },
   "outputs": [],
   "source": [
    "domains_bem1=data_domains[data_domains['name']=='BEM1']['domain-descrip']\n",
    "sl_bem1=data_sl[data_sl['gene-query-name']=='BEM1']['gene-target-name']"
   ]
  },
  {
   "cell_type": "code",
   "execution_count": 35,
   "metadata": {
    "execution": {
     "iopub.execute_input": "2020-08-13T09:50:58.416475Z",
     "iopub.status.busy": "2020-08-13T09:50:58.415945Z",
     "iopub.status.idle": "2020-08-13T09:50:58.420904Z",
     "shell.execute_reply": "2020-08-13T09:50:58.421338Z"
    }
   },
   "outputs": [
    {
     "data": {
      "text/plain": [
       "2846      BEM2\n",
       "2847     CDC24\n",
       "5004      MSB1\n",
       "13777     SMI1\n",
       "13778     BNI1\n",
       "13779     BEM2\n",
       "14385     SKN7\n",
       "Name: gene-target-name, dtype: object"
      ]
     },
     "execution_count": 35,
     "metadata": {},
     "output_type": "execute_result"
    }
   ],
   "source": [
    "sl_bem1"
   ]
  },
  {
   "cell_type": "code",
   "execution_count": 36,
   "metadata": {
    "execution": {
     "iopub.execute_input": "2020-08-13T09:50:58.436189Z",
     "iopub.status.busy": "2020-08-13T09:50:58.435632Z",
     "iopub.status.idle": "2020-08-13T09:50:58.441647Z",
     "shell.execute_reply": "2020-08-13T09:50:58.441065Z"
    }
   },
   "outputs": [
    {
     "data": {
      "text/html": [
       "<div>\n",
       "<style scoped>\n",
       "    .dataframe tbody tr th:only-of-type {\n",
       "        vertical-align: middle;\n",
       "    }\n",
       "\n",
       "    .dataframe tbody tr th {\n",
       "        vertical-align: top;\n",
       "    }\n",
       "\n",
       "    .dataframe thead th {\n",
       "        text-align: right;\n",
       "    }\n",
       "</style>\n",
       "<table border=\"1\" class=\"dataframe\">\n",
       "  <thead>\n",
       "    <tr style=\"text-align: right;\">\n",
       "      <th></th>\n",
       "      <th>gene-query</th>\n",
       "      <th>gene-target</th>\n",
       "      <th>gene-query-name</th>\n",
       "      <th>gene-target-name</th>\n",
       "      <th>gene-query-description</th>\n",
       "      <th>gene-target-description</th>\n",
       "      <th>interaction-type</th>\n",
       "      <th>paper-source</th>\n",
       "    </tr>\n",
       "  </thead>\n",
       "  <tbody>\n",
       "    <tr>\n",
       "      <th>2846</th>\n",
       "      <td>YBR200W</td>\n",
       "      <td>YER155C</td>\n",
       "      <td>BEM1</td>\n",
       "      <td>BEM2</td>\n",
       "      <td>SRO1|phosphatidylinositol-3-phosphate-binding ...</td>\n",
       "      <td>IPL2|SUP9|TSL1|L000000168</td>\n",
       "      <td>Synthetic Lethality</td>\n",
       "      <td>Peterson J (1994)</td>\n",
       "    </tr>\n",
       "    <tr>\n",
       "      <th>2847</th>\n",
       "      <td>YBR200W</td>\n",
       "      <td>YAL041W</td>\n",
       "      <td>BEM1</td>\n",
       "      <td>CDC24</td>\n",
       "      <td>SRO1|phosphatidylinositol-3-phosphate-binding ...</td>\n",
       "      <td>CLS4|Rho family guanine nucleotide exchange fa...</td>\n",
       "      <td>Synthetic Lethality</td>\n",
       "      <td>Peterson J (1994)</td>\n",
       "    </tr>\n",
       "    <tr>\n",
       "      <th>5004</th>\n",
       "      <td>YBR200W</td>\n",
       "      <td>YOR188W</td>\n",
       "      <td>BEM1</td>\n",
       "      <td>MSB1</td>\n",
       "      <td>SRO1|phosphatidylinositol-3-phosphate-binding ...</td>\n",
       "      <td>L000001184</td>\n",
       "      <td>Synthetic Lethality</td>\n",
       "      <td>Bender A (1991)</td>\n",
       "    </tr>\n",
       "    <tr>\n",
       "      <th>13777</th>\n",
       "      <td>YBR200W</td>\n",
       "      <td>YGR229C</td>\n",
       "      <td>BEM1</td>\n",
       "      <td>SMI1</td>\n",
       "      <td>SRO1|phosphatidylinositol-3-phosphate-binding ...</td>\n",
       "      <td>KNR4|L000000909</td>\n",
       "      <td>Synthetic Lethality</td>\n",
       "      <td>Gorelik M (2011)</td>\n",
       "    </tr>\n",
       "    <tr>\n",
       "      <th>13778</th>\n",
       "      <td>YBR200W</td>\n",
       "      <td>YNL271C</td>\n",
       "      <td>BEM1</td>\n",
       "      <td>BNI1</td>\n",
       "      <td>SRO1|phosphatidylinositol-3-phosphate-binding ...</td>\n",
       "      <td>PPF3|SHE5|formin BNI1|L000000190</td>\n",
       "      <td>Synthetic Lethality</td>\n",
       "      <td>Gorelik M (2011)</td>\n",
       "    </tr>\n",
       "    <tr>\n",
       "      <th>13779</th>\n",
       "      <td>YBR200W</td>\n",
       "      <td>YER155C</td>\n",
       "      <td>BEM1</td>\n",
       "      <td>BEM2</td>\n",
       "      <td>SRO1|phosphatidylinositol-3-phosphate-binding ...</td>\n",
       "      <td>IPL2|SUP9|TSL1|L000000168</td>\n",
       "      <td>Synthetic Lethality</td>\n",
       "      <td>Gorelik M (2011)</td>\n",
       "    </tr>\n",
       "    <tr>\n",
       "      <th>14385</th>\n",
       "      <td>YBR200W</td>\n",
       "      <td>YHR206W</td>\n",
       "      <td>BEM1</td>\n",
       "      <td>SKN7</td>\n",
       "      <td>SRO1|phosphatidylinositol-3-phosphate-binding ...</td>\n",
       "      <td>BRY1|POS9|kinase-regulated stress-responsive t...</td>\n",
       "      <td>Dosage Lethality</td>\n",
       "      <td>Bouquin N (1999)</td>\n",
       "    </tr>\n",
       "  </tbody>\n",
       "</table>\n",
       "</div>"
      ],
      "text/plain": [
       "      gene-query gene-target gene-query-name gene-target-name  \\\n",
       "2846     YBR200W     YER155C            BEM1             BEM2   \n",
       "2847     YBR200W     YAL041W            BEM1            CDC24   \n",
       "5004     YBR200W     YOR188W            BEM1             MSB1   \n",
       "13777    YBR200W     YGR229C            BEM1             SMI1   \n",
       "13778    YBR200W     YNL271C            BEM1             BNI1   \n",
       "13779    YBR200W     YER155C            BEM1             BEM2   \n",
       "14385    YBR200W     YHR206W            BEM1             SKN7   \n",
       "\n",
       "                                  gene-query-description  \\\n",
       "2846   SRO1|phosphatidylinositol-3-phosphate-binding ...   \n",
       "2847   SRO1|phosphatidylinositol-3-phosphate-binding ...   \n",
       "5004   SRO1|phosphatidylinositol-3-phosphate-binding ...   \n",
       "13777  SRO1|phosphatidylinositol-3-phosphate-binding ...   \n",
       "13778  SRO1|phosphatidylinositol-3-phosphate-binding ...   \n",
       "13779  SRO1|phosphatidylinositol-3-phosphate-binding ...   \n",
       "14385  SRO1|phosphatidylinositol-3-phosphate-binding ...   \n",
       "\n",
       "                                 gene-target-description     interaction-type  \\\n",
       "2846                           IPL2|SUP9|TSL1|L000000168  Synthetic Lethality   \n",
       "2847   CLS4|Rho family guanine nucleotide exchange fa...  Synthetic Lethality   \n",
       "5004                                          L000001184  Synthetic Lethality   \n",
       "13777                                    KNR4|L000000909  Synthetic Lethality   \n",
       "13778                   PPF3|SHE5|formin BNI1|L000000190  Synthetic Lethality   \n",
       "13779                          IPL2|SUP9|TSL1|L000000168  Synthetic Lethality   \n",
       "14385  BRY1|POS9|kinase-regulated stress-responsive t...     Dosage Lethality   \n",
       "\n",
       "            paper-source  \n",
       "2846   Peterson J (1994)  \n",
       "2847   Peterson J (1994)  \n",
       "5004     Bender A (1991)  \n",
       "13777   Gorelik M (2011)  \n",
       "13778   Gorelik M (2011)  \n",
       "13779   Gorelik M (2011)  \n",
       "14385   Bouquin N (1999)  "
      ]
     },
     "execution_count": 36,
     "metadata": {},
     "output_type": "execute_result"
    }
   ],
   "source": [
    "data_sl[data_sl['gene-query-name']=='BEM1']"
   ]
  },
  {
   "cell_type": "code",
   "execution_count": null,
   "metadata": {},
   "outputs": [],
   "source": []
  }
 ],
 "metadata": {
  "jupytext": {
   "text_representation": {
    "extension": ".md",
    "format_name": "myst"
   }
  },
  "kernelspec": {
   "display_name": "Python 3",
   "language": "python",
   "name": "python3"
  },
  "language_info": {
   "codemirror_mode": {
    "name": "ipython",
    "version": 3
   },
   "file_extension": ".py",
   "mimetype": "text/x-python",
   "name": "python",
   "nbconvert_exporter": "python",
   "pygments_lexer": "ipython3",
   "version": "3.7.8"
  },
  "source_map": [
   10,
   18,
   29,
   36,
   57,
   66,
   98,
   101,
   105,
   128,
   131,
   135,
   139,
   145,
   178,
   184,
   188,
   206,
   210,
   218,
   222,
   225,
   229,
   234,
   238,
   244,
   248,
   253,
   257,
   267,
   269,
   273,
   306,
   311,
   313,
   317,
   328,
   330,
   334,
   344,
   348,
   358,
   360,
   364,
   381,
   388,
   394,
   400,
   407,
   412,
   419,
   424,
   428,
   432
  ]
 },
 "nbformat": 4,
 "nbformat_minor": 4
}