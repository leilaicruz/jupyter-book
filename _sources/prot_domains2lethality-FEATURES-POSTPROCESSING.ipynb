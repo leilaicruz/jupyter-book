{
 "cells": [
  {
   "cell_type": "markdown",
   "metadata": {},
   "source": [
    "# Feature postprocessing from paper.\n",
    "- Title:  \"Predicting yeast synthetic lethal genetic interactions using protein domains\"\n",
    "- Authors: Bo Li, Feng Luo,School of Computing,Clemson University,Clemson, SC, USA\n",
    "- e-mail: bol, luofeng@clemson.edu\n",
    "- year:2009"
   ]
  },
  {
   "cell_type": "code",
   "execution_count": 1,
   "metadata": {
    "execution": {
     "iopub.execute_input": "2020-07-24T02:26:03.099163Z",
     "iopub.status.busy": "2020-07-24T02:26:03.098668Z",
     "iopub.status.idle": "2020-07-24T02:26:03.682194Z",
     "shell.execute_reply": "2020-07-24T02:26:03.681179Z"
    }
   },
   "outputs": [],
   "source": [
    "import pandas as pd\n",
    "import numpy as np\n",
    "import matplotlib.pyplot as plt\n",
    "from collections import defaultdict \n",
    "import seaborn as sns\n",
    "import matplotlib.cm as cm\n",
    "import scipy as scipy\n",
    "import random"
   ]
  },
  {
   "cell_type": "markdown",
   "metadata": {
    "jupyter": {
     "source_hidden": true
    }
   },
   "source": [
    "### Importing datasets \n",
    "\n",
    "#### Link to the github repo where the datasets to be downloaded:\n",
    "[DOWNLOAD THE DATASETS HERE](https://github.com/leilaicruz/machine-learning-for-yeast/tree/dev_Leila/datasets-for-learning)"
   ]
  },
  {
   "cell_type": "code",
   "execution_count": 2,
   "metadata": {
    "execution": {
     "iopub.execute_input": "2020-07-24T02:26:03.687734Z",
     "iopub.status.busy": "2020-07-24T02:26:03.686888Z",
     "iopub.status.idle": "2020-07-24T02:26:09.553485Z",
     "shell.execute_reply": "2020-07-24T02:26:09.552755Z"
    }
   },
   "outputs": [],
   "source": [
    "import os\n",
    "script_dir = os.path.dirname('__file__') #<-- absolute dir the script is in\n",
    "rel_path_SL = \"datasets/data-synthetic-lethals.xlsx\"\n",
    "rel_path_nSL=\"datasets/data-positive-genetic.xlsx\"\n",
    "rel_path_domains=\"datasets/proteins-domains-from-Pfam.xlsx\"\n",
    "\n",
    "abs_file_path_SL = os.path.join(script_dir, rel_path_SL)\n",
    "abs_file_path_nSL = os.path.join(script_dir, rel_path_nSL)\n",
    "abs_file_path_domains = os.path.join(script_dir, rel_path_domains)\n",
    "\n",
    "# os.chdir('mini_book/docs/') #<-- for binder os.chdir('../')\n",
    "# os.chdir('../')\n",
    "my_path_sl= abs_file_path_SL\n",
    "my_path_non_sl=abs_file_path_nSL\n",
    "my_path_domains=abs_file_path_domains\n",
    "\n",
    "data_sl=pd.read_excel(my_path_sl,header=0)\n",
    "data_domains=pd.read_excel(my_path_domains,header=0,index_col='Unnamed: 0')\n",
    "data_domains=data_domains.dropna()\n",
    "data_nonsl=pd.read_excel(my_path_non_sl,header=0)"
   ]
  },
  {
   "cell_type": "markdown",
   "metadata": {},
   "source": [
    "## Building the feature matrix\n",
    "One matrix for true SL where each row is one pair of SL. Every raw will be a vector of 0,1 or 2 depending on the comparison with the domain list. For row i the jth element = 0 if the jth element of the domain list is not in neither protein A and B, 1, if it is in one of them and 2 if it is in both of them .\n",
    "\n",
    "### Building the list of proteins domains id per protein pair separately :\n",
    "- List of protein A: Search for the Sl/nSL database the query gene name and look in the protein domain database which protein domains id has each of those queries.\n",
    "- List of protein B: Search for the Sl/nSL database the target gene name of the previous query and look in the protein domain database which protein domains id has each of those target genes."
   ]
  },
  {
   "cell_type": "code",
   "execution_count": 3,
   "metadata": {
    "execution": {
     "iopub.execute_input": "2020-07-24T02:26:09.565752Z",
     "iopub.status.busy": "2020-07-24T02:26:09.565291Z",
     "iopub.status.idle": "2020-07-24T02:26:11.356867Z",
     "shell.execute_reply": "2020-07-24T02:26:11.356115Z"
    }
   },
   "outputs": [],
   "source": [
    "# Selecting the meaningful columns in the respective dataset\n",
    "domain_id_list=data_domains['domain-name']\n",
    "query_gene=data_sl['gene-query-name']\n",
    "target_gene=data_sl['gene-target-name']\n",
    "query_gene_nonlethal=data_nonsl['gene-query-name']\n",
    "target_gene_nonlethal=data_nonsl['gene-target-name']\n",
    "\n",
    "\n",
    "\n",
    "# Initialising the arrays\n",
    "protein_a_list=[]\n",
    "protein_b_list=[]\n",
    "protein_a_list_non=[]\n",
    "protein_b_list_non=[]\n",
    "\n",
    "population = np.arange(0,len(data_sl))\n",
    "\n",
    "# For loop for 10000 pairs sampled randomly from the SL/nSl pair list , and creating a big array of proteind domains id per protein pair\n",
    "\n",
    "for m in random.sample(list(population), 500):\n",
    "    protein_a=data_domains[data_domains['name']==query_gene[m]]\n",
    "    protein_b=data_domains[data_domains['name']==target_gene[m]]\n",
    "    protein_a_list.append(protein_a['domain-name'].tolist())\n",
    "    protein_b_list.append(protein_b['domain-name'].tolist())\n",
    "\n",
    "    protein_a_non=data_domains[data_domains['name']==query_gene_nonlethal[m]]\n",
    "    protein_b_non=data_domains[data_domains['name']==target_gene_nonlethal[m]]\n",
    "    protein_a_list_non.append(protein_a_non['domain-name'].tolist())\n",
    "    protein_b_list_non.append(protein_b_non['domain-name'].tolist())"
   ]
  },
  {
   "cell_type": "code",
   "execution_count": 4,
   "metadata": {
    "execution": {
     "iopub.execute_input": "2020-07-24T02:26:11.360730Z",
     "iopub.status.busy": "2020-07-24T02:26:11.360259Z",
     "iopub.status.idle": "2020-07-24T02:26:11.364178Z",
     "shell.execute_reply": "2020-07-24T02:26:11.363745Z"
    }
   },
   "outputs": [
    {
     "name": "stdout",
     "output_type": "stream",
     "text": [
      "We are going to analyze 500 protein pairs, out of 17871 SL protein pairs\n",
      "We are going to analyze 500 protein pairs, out of 43340 positive protein pairs\n"
     ]
    }
   ],
   "source": [
    "print('We are going to analyze',len((protein_a_list)) ,'protein pairs, out of',len(data_sl),'SL protein pairs')\n",
    "print('We are going to analyze',len((protein_a_list_non)) ,'protein pairs, out of',len(data_nonsl),'positive protein pairs')"
   ]
  },
  {
   "cell_type": "markdown",
   "metadata": {},
   "source": [
    "### Postprocessing #1:  Remove protein pairs from study if either protein in the pair does not contain any domain"
   ]
  },
  {
   "cell_type": "code",
   "execution_count": 5,
   "metadata": {
    "execution": {
     "iopub.execute_input": "2020-07-24T02:26:11.371801Z",
     "iopub.status.busy": "2020-07-24T02:26:11.371325Z",
     "iopub.status.idle": "2020-07-24T02:26:11.374842Z",
     "shell.execute_reply": "2020-07-24T02:26:11.374213Z"
    }
   },
   "outputs": [],
   "source": [
    "def remove_empty_domains(protein_list_search,protein_list_pair):\n",
    "    index=[]\n",
    "    for i in np.arange(0,len(protein_list_search)):\n",
    "        if protein_list_search[i]==[] or protein_list_pair[i]==[]:\n",
    "            index.append(i) ## index of empty values for the protein_a_list meaning they dont have any annotated domain\n",
    "\n",
    "    y=[x for x in np.arange(0,len(protein_list_search)) if x not in index] # a list with non empty values from protein_a list\n",
    "\n",
    "    protein_list_search_new=[]\n",
    "    protein_list_pair_new=[]\n",
    "    for i in y:\n",
    "        protein_list_search_new.append(protein_list_search[i])\n",
    "        protein_list_pair_new.append(protein_list_pair[i])\n",
    "    return protein_list_search_new,protein_list_pair_new\n",
    "\n",
    "## evaluating the function\n",
    "\n",
    "protein_a_list_new,protein_b_list_new=remove_empty_domains(protein_a_list,protein_b_list)\n",
    "\n",
    "protein_a_list_non_new,protein_b_list_non_new=remove_empty_domains(protein_a_list_non,protein_b_list_non)"
   ]
  },
  {
   "cell_type": "code",
   "execution_count": 6,
   "metadata": {
    "execution": {
     "iopub.execute_input": "2020-07-24T02:26:11.378632Z",
     "iopub.status.busy": "2020-07-24T02:26:11.377864Z",
     "iopub.status.idle": "2020-07-24T02:26:11.382629Z",
     "shell.execute_reply": "2020-07-24T02:26:11.382061Z"
    }
   },
   "outputs": [
    {
     "name": "stdout",
     "output_type": "stream",
     "text": [
      "The empty domain in the SL were: 88 out of 500 domains\n",
      "The empty domain in the nSL were: 76 out of 500 domains\n"
     ]
    }
   ],
   "source": [
    "print('The empty domain in the SL were:', len(protein_a_list)-len(protein_a_list_new), 'out of', len(protein_a_list),'domains')\n",
    "print('The empty domain in the nSL were:', len(protein_a_list_non)-len(protein_a_list_non_new), 'out of', len(protein_a_list_non),'domains')"
   ]
  },
  {
   "cell_type": "markdown",
   "metadata": {},
   "source": [
    "### Feature engineering: Select from each ordered indexes of domain id list which of them appear once, in both or in any of the domains of each protein pair"
   ]
  },
  {
   "cell_type": "markdown",
   "metadata": {},
   "source": [
    "#### Define function `get_indexes`"
   ]
  },
  {
   "cell_type": "code",
   "execution_count": 7,
   "metadata": {
    "execution": {
     "iopub.execute_input": "2020-07-24T02:26:11.388136Z",
     "iopub.status.busy": "2020-07-24T02:26:11.387623Z",
     "iopub.status.idle": "2020-07-24T02:26:11.391882Z",
     "shell.execute_reply": "2020-07-24T02:26:11.392254Z"
    }
   },
   "outputs": [
    {
     "data": {
      "text/plain": [
       "[1, 2]"
      ]
     },
     "execution_count": 7,
     "metadata": {},
     "output_type": "execute_result"
    }
   ],
   "source": [
    "get_indexes = lambda x, xs: [i for (y, i) in zip(xs, range(len(xs))) if x == y] # a function that give the index of whether a value appear in array or not\n",
    "a=[1,2,2,4,5,6,7,8,9,10]\n",
    "get_indexes(2,a)"
   ]
  },
  {
   "cell_type": "code",
   "execution_count": 8,
   "metadata": {
    "execution": {
     "iopub.execute_input": "2020-07-24T02:26:11.399450Z",
     "iopub.status.busy": "2020-07-24T02:26:11.398968Z",
     "iopub.status.idle": "2020-07-24T02:26:11.402195Z",
     "shell.execute_reply": "2020-07-24T02:26:11.401616Z"
    }
   },
   "outputs": [],
   "source": [
    "def feature_building(protein_a_list_new,protein_b_list_new):\n",
    "    x = np.unique(domain_id_list)\n",
    "    ## To avoid taking repeated domains from one protein of the pairs , lets reduced the domains of each protein from the pairs to their unique members\n",
    "    protein_a_list_unique=[]\n",
    "    protein_b_list_unique=[]\n",
    "    for i in np.arange(0,len(protein_a_list_new)):\n",
    "        protein_a_list_unique.append(np.unique(protein_a_list_new[i]))\n",
    "        protein_b_list_unique.append(np.unique(protein_b_list_new[i]))\n",
    "        \n",
    "    protein_feat_true=np.zeros(shape=(len(x),len(protein_a_list_unique)))\n",
    "    pair_a_b_array=[]\n",
    "    for i in np.arange(0,len(protein_a_list_unique)):\n",
    "        index_a=[]\n",
    "        \n",
    "        pair=[protein_a_list_unique[i],protein_b_list_unique[i]]\n",
    "        pair_a_b=np.concatenate(pair).ravel()\n",
    "        pair_a_b_array.append(pair_a_b)\n",
    "\n",
    "    j=0\n",
    "    for i in pair_a_b_array:  \n",
    "        array,index,counts=np.unique(i,return_index=True,return_counts=True)\n",
    "        \n",
    "        for k,m in zip(counts,array):\n",
    "            if k ==2:\n",
    "                protein_feat_true[get_indexes(m,x),j]=2\n",
    "                \n",
    "            if k==1:\n",
    "                protein_feat_true[get_indexes(m,x),j]=1\n",
    "        j=j+1\n",
    "    return protein_feat_true"
   ]
  },
  {
   "cell_type": "code",
   "execution_count": 9,
   "metadata": {
    "execution": {
     "iopub.execute_input": "2020-07-24T02:26:11.409095Z",
     "iopub.status.busy": "2020-07-24T02:26:11.405068Z",
     "iopub.status.idle": "2020-07-24T02:26:11.986645Z",
     "shell.execute_reply": "2020-07-24T02:26:11.986223Z"
    }
   },
   "outputs": [],
   "source": [
    "protein_feat_true=feature_building(protein_b_list_new=protein_b_list_new,protein_a_list_new=protein_a_list_new)\n",
    "protein_feat_true_pd=pd.DataFrame(protein_feat_true.T)\n",
    "\n",
    "protein_feat_non_true=feature_building(protein_b_list_new=protein_b_list_non_new,protein_a_list_new=protein_a_list_non_new)\n",
    "protein_feat_non_true_pd=pd.DataFrame(protein_feat_non_true.T)"
   ]
  },
  {
   "cell_type": "markdown",
   "metadata": {},
   "source": [
    "### How many ones and twos are in each dataset"
   ]
  },
  {
   "cell_type": "code",
   "execution_count": 10,
   "metadata": {
    "execution": {
     "iopub.execute_input": "2020-07-24T02:26:11.992454Z",
     "iopub.status.busy": "2020-07-24T02:26:11.991993Z",
     "iopub.status.idle": "2020-07-24T02:26:12.067224Z",
     "shell.execute_reply": "2020-07-24T02:26:12.066570Z"
    }
   },
   "outputs": [
    {
     "name": "stdout",
     "output_type": "stream",
     "text": [
      "fraction of twos in the SL array is 2.8083126053117226e-05\n",
      "fraction of ones in the SL array is 0.0009636524111369655\n",
      "fraction of twos in the PI array is 8.576329331046313e-06\n",
      "fraction of ones in the PI array is 0.0009192265710276002\n"
     ]
    }
   ],
   "source": [
    "index_2_true=protein_feat_true_pd.where(protein_feat_true_pd==2)\n",
    "index_2_true_count=index_2_true.count(axis=1).sum()\n",
    "\n",
    "index_1_true=protein_feat_true_pd.where(protein_feat_true_pd==1)\n",
    "index_1_true_count=index_1_true.count(axis=1).sum()\n",
    "\n",
    "index_2_nontrue=protein_feat_non_true_pd.where(protein_feat_non_true_pd==2)\n",
    "index_2_nontrue_count=index_2_nontrue.count(axis=1).sum()\n",
    "\n",
    "index_1_nontrue=protein_feat_non_true_pd.where(protein_feat_non_true_pd==1)\n",
    "index_1_nontrue_count=index_1_nontrue.count(axis=1).sum()\n",
    "\n",
    "\n",
    "print('fraction of twos in the SL array is',index_2_true_count/(len(protein_feat_true_pd.index)*len(protein_feat_true_pd.columns)))\n",
    "print('fraction of ones in the SL array is',index_1_true_count/(len(protein_feat_true_pd.index)*len(protein_feat_true_pd.columns)))\n",
    "print('fraction of twos in the PI array is',index_2_nontrue_count/(len(protein_feat_non_true_pd.index)*len(protein_feat_non_true_pd.columns)))\n",
    "print('fraction of ones in the PI array is',index_1_nontrue_count/(len(protein_feat_non_true_pd.index)*len(protein_feat_non_true_pd.columns)))"
   ]
  },
  {
   "cell_type": "markdown",
   "metadata": {},
   "source": [
    "#### Bar plot to visualize these numbers"
   ]
  },
  {
   "cell_type": "code",
   "execution_count": 11,
   "metadata": {
    "execution": {
     "iopub.execute_input": "2020-07-24T02:26:12.085272Z",
     "iopub.status.busy": "2020-07-24T02:26:12.084825Z",
     "iopub.status.idle": "2020-07-24T02:26:12.484822Z",
     "shell.execute_reply": "2020-07-24T02:26:12.484100Z"
    }
   },
   "outputs": [
    {
     "data": {
      "text/plain": [
       "([0, 1, 2, 3],\n",
       " [Text(0, 0, ''), Text(0, 0, ''), Text(0, 0, ''), Text(0, 0, '')])"
      ]
     },
     "execution_count": 11,
     "metadata": {},
     "output_type": "execute_result"
    },
    {
     "data": {
      "image/png": "[encoded data removed]",
      "text/plain": [
       "<Figure size 432x288 with 1 Axes>"
      ]
     },
     "metadata": {
      "filenames": {
       "image/png": "/home/runner/work/jupyter-book/jupyter-book/mini_book/docs/_build/jupyter_execute/prot_domains2lethality-FEATURES-POSTPROCESSING_18_1.png"
      },
      "needs_background": "light"
     },
     "output_type": "display_data"
    }
   ],
   "source": [
    "plt.bar(['fraction of 2 in the nSL','fraction of 1 in the nSL'],[index_2_nontrue_count/(len(protein_feat_non_true_pd.index)*len(protein_feat_non_true_pd.columns)),index_1_nontrue_count/(len(protein_feat_non_true_pd.index)*len(protein_feat_non_true_pd.columns))],alpha=0.6,color=['blue','lightblue']), \n",
    "\n",
    "plt.bar(['fraction of 2 in SL ','fraction of 1 in SL'],[index_2_true_count/(len(protein_feat_true_pd.index)*len(protein_feat_true_pd.columns)),index_1_true_count/(len(protein_feat_true_pd.index)*len(protein_feat_true_pd.columns))],alpha=0.6,color=['coral','lightcoral'])\n",
    "\n",
    "plt.ylabel('Fraction from the population')\n",
    "plt.yscale('log')\n",
    "plt.xticks(rotation=40)"
   ]
  },
  {
   "cell_type": "markdown",
   "metadata": {},
   "source": [
    "#### Adding the labels(response variables) to each dataset"
   ]
  },
  {
   "cell_type": "code",
   "execution_count": 12,
   "metadata": {
    "execution": {
     "iopub.execute_input": "2020-07-24T02:26:12.490579Z",
     "iopub.status.busy": "2020-07-24T02:26:12.490133Z",
     "iopub.status.idle": "2020-07-24T02:26:12.493731Z",
     "shell.execute_reply": "2020-07-24T02:26:12.493040Z"
    }
   },
   "outputs": [],
   "source": [
    "protein_feat_true_pd['lethality']=np.ones(shape=(len(protein_a_list_new)))\n",
    "protein_feat_non_true_pd['lethality']=np.zeros(shape=(len(protein_a_list_non_new)))"
   ]
  },
  {
   "cell_type": "markdown",
   "metadata": {},
   "source": [
    "#### Joining both datasets"
   ]
  },
  {
   "cell_type": "code",
   "execution_count": 13,
   "metadata": {
    "execution": {
     "iopub.execute_input": "2020-07-24T02:26:12.498799Z",
     "iopub.status.busy": "2020-07-24T02:26:12.498137Z",
     "iopub.status.idle": "2020-07-24T02:26:12.533751Z",
     "shell.execute_reply": "2020-07-24T02:26:12.533359Z"
    }
   },
   "outputs": [
    {
     "name": "stdout",
     "output_type": "stream",
     "text": [
      "The number of features are: 3026\n",
      "The number of samples are: 836\n"
     ]
    }
   ],
   "source": [
    "feature_post=pd.concat([protein_feat_true_pd,protein_feat_non_true_pd],axis=0)\n",
    "feature_post=feature_post.set_index(np.arange(0,len(protein_a_list_new)+len(protein_a_list_non_new)))\n",
    "print('The number of features are:',feature_post.shape[1])\n",
    "print('The number of samples are:',feature_post.shape[0])"
   ]
  },
  {
   "cell_type": "markdown",
   "metadata": {},
   "source": [
    "### Postprocessing and exploration of the feature matrix of both datasets"
   ]
  },
  {
   "cell_type": "code",
   "execution_count": 14,
   "metadata": {
    "execution": {
     "iopub.execute_input": "2020-07-24T02:26:12.546714Z",
     "iopub.status.busy": "2020-07-24T02:26:12.545867Z",
     "iopub.status.idle": "2020-07-24T02:26:16.985657Z",
     "shell.execute_reply": "2020-07-24T02:26:16.985245Z"
    }
   },
   "outputs": [],
   "source": [
    "mean=feature_post.T.describe().loc['mean']\n",
    "std=feature_post.T.describe().loc['std']\n",
    "lethality=feature_post['lethality']\n",
    "\n",
    "corr_keys=pd.concat([mean,std,lethality],axis=1)"
   ]
  },
  {
   "cell_type": "markdown",
   "metadata": {},
   "source": [
    "### Viz of the stats"
   ]
  },
  {
   "cell_type": "code",
   "execution_count": 15,
   "metadata": {
    "execution": {
     "iopub.execute_input": "2020-07-24T02:26:17.070477Z",
     "iopub.status.busy": "2020-07-24T02:26:17.004591Z",
     "iopub.status.idle": "2020-07-24T02:26:18.539171Z",
     "shell.execute_reply": "2020-07-24T02:26:18.538541Z"
    }
   },
   "outputs": [
    {
     "data": {
      "text/plain": [
       "Text(0.5, 1.08, 'Pairplot to see data dependencies with Lethality')"
      ]
     },
     "execution_count": 15,
     "metadata": {},
     "output_type": "execute_result"
    },
    {
     "data": {
      "image/png": "[encoded data removed]",
      "text/plain": [
       "<Figure size 412x360 with 6 Axes>"
      ]
     },
     "metadata": {
      "filenames": {
       "image/png": "/home/runner/work/jupyter-book/jupyter-book/mini_book/docs/_build/jupyter_execute/prot_domains2lethality-FEATURES-POSTPROCESSING_26_1.png"
      },
      "needs_background": "light"
     },
     "output_type": "display_data"
    }
   ],
   "source": [
    "pair=sns.pairplot(corr_keys,hue='lethality',diag_kind='kde',kind='reg',palette='colorblind')\n",
    "pair.fig.suptitle('Pairplot to see data dependencies with Lethality',y=1.08)"
   ]
  },
  {
   "cell_type": "code",
   "execution_count": 16,
   "metadata": {
    "execution": {
     "iopub.execute_input": "2020-07-24T02:26:18.543573Z",
     "iopub.status.busy": "2020-07-24T02:26:18.543124Z",
     "iopub.status.idle": "2020-07-24T02:26:18.551677Z",
     "shell.execute_reply": "2020-07-24T02:26:18.551000Z"
    }
   },
   "outputs": [],
   "source": [
    "X, y = feature_post.drop(columns=[\"lethality\"]), feature_post[\"lethality\"]"
   ]
  },
  {
   "cell_type": "code",
   "execution_count": 17,
   "metadata": {
    "execution": {
     "iopub.execute_input": "2020-07-24T02:26:18.555486Z",
     "iopub.status.busy": "2020-07-24T02:26:18.554836Z",
     "iopub.status.idle": "2020-07-24T02:26:18.671765Z",
     "shell.execute_reply": "2020-07-24T02:26:18.671355Z"
    }
   },
   "outputs": [],
   "source": [
    "from sklearn.preprocessing import StandardScaler\n",
    "scaler = StandardScaler()\n",
    "x_sl=protein_feat_true_pd.drop(columns=['lethality'])\n",
    "x_nsl=protein_feat_non_true_pd.drop(columns=['lethality'])\n",
    "\n",
    "X_sl_scaled = scaler.fit_transform(x_sl)\n",
    "X_nsl_scaled = scaler.fit_transform(x_nsl)"
   ]
  },
  {
   "cell_type": "code",
   "execution_count": 18,
   "metadata": {
    "execution": {
     "iopub.execute_input": "2020-07-24T02:26:18.675016Z",
     "iopub.status.busy": "2020-07-24T02:26:18.674576Z",
     "iopub.status.idle": "2020-07-24T02:26:18.679144Z",
     "shell.execute_reply": "2020-07-24T02:26:18.679517Z"
    }
   },
   "outputs": [
    {
     "data": {
      "text/plain": [
       "(412, 3025)"
      ]
     },
     "execution_count": 18,
     "metadata": {},
     "output_type": "execute_result"
    }
   ],
   "source": [
    "np.shape(X_sl_scaled)"
   ]
  },
  {
   "cell_type": "markdown",
   "metadata": {},
   "source": [
    "## How redundant are each of the protein domains?"
   ]
  },
  {
   "cell_type": "code",
   "execution_count": 19,
   "metadata": {
    "execution": {
     "iopub.execute_input": "2020-07-24T02:26:18.685226Z",
     "iopub.status.busy": "2020-07-24T02:26:18.684773Z",
     "iopub.status.idle": "2020-07-24T02:26:18.687769Z",
     "shell.execute_reply": "2020-07-24T02:26:18.687373Z"
    }
   },
   "outputs": [],
   "source": [
    "def PCA_component_contribution(scaled_matrix,original_data):\n",
    "    from sklearn.decomposition import PCA\n",
    "\n",
    "    model = PCA(0.95).fit(scaled_matrix)\n",
    "    ## apply dimensionality reduction to X_train\n",
    "    output_pca = model.transform(scaled_matrix)\n",
    "    \n",
    "    total=sum(model.explained_variance_)\n",
    "\n",
    "\n",
    "   \n",
    "    # number of components , that it will be the number of main axes times the number of original components \n",
    "    n_pcs= model.components_.shape[0] # the amount of non redundant protein domains \n",
    "\n",
    "    # get the index of the most important feature on EACH component\n",
    "    # LIST COMPREHENSION HERE\n",
    "    most_important = [np.abs(model.components_[i]).argmax() for i in range(n_pcs)]\n",
    "\n",
    "    initial_feature_names = original_data.columns\n",
    "    # get the names\n",
    "    most_important_names = [initial_feature_names[most_important[i]] for i in range(n_pcs)]\n",
    "    \n",
    "\n",
    "    # LIST COMPREHENSION HERE AGAIN\n",
    "    dic = {'PC{}'.format(i): most_important_names[i] for i in range(n_pcs)}\n",
    "\n",
    "    # build the dataframe\n",
    "    df = pd.DataFrame(dic.items(),columns=['pca-component','domain-number'])\n",
    "\n",
    "    return df,model.components_"
   ]
  },
  {
   "cell_type": "code",
   "execution_count": 20,
   "metadata": {
    "execution": {
     "iopub.execute_input": "2020-07-24T02:26:18.690729Z",
     "iopub.status.busy": "2020-07-24T02:26:18.690281Z",
     "iopub.status.idle": "2020-07-24T02:26:19.334252Z",
     "shell.execute_reply": "2020-07-24T02:26:19.334666Z"
    }
   },
   "outputs": [],
   "source": [
    "df_sl,components_pca_nsl=PCA_component_contribution(X_nsl_scaled,x_nsl)\n",
    "df_nsl,components_pca_sl=PCA_component_contribution(X_sl_scaled,x_sl)"
   ]
  },
  {
   "cell_type": "code",
   "execution_count": 21,
   "metadata": {
    "execution": {
     "iopub.execute_input": "2020-07-24T02:26:19.337233Z",
     "iopub.status.busy": "2020-07-24T02:26:19.336354Z",
     "iopub.status.idle": "2020-07-24T02:26:19.347973Z",
     "shell.execute_reply": "2020-07-24T02:26:19.348586Z"
    }
   },
   "outputs": [
    {
     "data": {
      "text/html": [
       "<div>\n",
       "<style scoped>\n",
       "    .dataframe tbody tr th:only-of-type {\n",
       "        vertical-align: middle;\n",
       "    }\n",
       "\n",
       "    .dataframe tbody tr th {\n",
       "        vertical-align: top;\n",
       "    }\n",
       "\n",
       "    .dataframe thead th {\n",
       "        text-align: right;\n",
       "    }\n",
       "</style>\n",
       "<table border=\"1\" class=\"dataframe\">\n",
       "  <thead>\n",
       "    <tr style=\"text-align: right;\">\n",
       "      <th></th>\n",
       "      <th>pca-component</th>\n",
       "      <th>domain-number</th>\n",
       "    </tr>\n",
       "  </thead>\n",
       "  <tbody>\n",
       "    <tr>\n",
       "      <th>0</th>\n",
       "      <td>PC0</td>\n",
       "      <td>2771</td>\n",
       "    </tr>\n",
       "    <tr>\n",
       "      <th>1</th>\n",
       "      <td>PC1</td>\n",
       "      <td>135</td>\n",
       "    </tr>\n",
       "    <tr>\n",
       "      <th>2</th>\n",
       "      <td>PC2</td>\n",
       "      <td>142</td>\n",
       "    </tr>\n",
       "    <tr>\n",
       "      <th>3</th>\n",
       "      <td>PC3</td>\n",
       "      <td>1464</td>\n",
       "    </tr>\n",
       "    <tr>\n",
       "      <th>4</th>\n",
       "      <td>PC4</td>\n",
       "      <td>221</td>\n",
       "    </tr>\n",
       "  </tbody>\n",
       "</table>\n",
       "</div>"
      ],
      "text/plain": [
       "  pca-component  domain-number\n",
       "0           PC0           2771\n",
       "1           PC1            135\n",
       "2           PC2            142\n",
       "3           PC3           1464\n",
       "4           PC4            221"
      ]
     },
     "execution_count": 21,
     "metadata": {},
     "output_type": "execute_result"
    }
   ],
   "source": [
    "df_sl.head()"
   ]
  },
  {
   "cell_type": "markdown",
   "metadata": {},
   "source": [
    "## which are the shared domains between nSL and SL pairs , in the PCA reduced samples"
   ]
  },
  {
   "cell_type": "code",
   "execution_count": 22,
   "metadata": {
    "execution": {
     "iopub.execute_input": "2020-07-24T02:26:19.351202Z",
     "iopub.status.busy": "2020-07-24T02:26:19.350332Z",
     "iopub.status.idle": "2020-07-24T02:26:19.375372Z",
     "shell.execute_reply": "2020-07-24T02:26:19.375975Z"
    }
   },
   "outputs": [
    {
     "data": {
      "text/html": [
       "<div>\n",
       "<style scoped>\n",
       "    .dataframe tbody tr th:only-of-type {\n",
       "        vertical-align: middle;\n",
       "    }\n",
       "\n",
       "    .dataframe tbody tr th {\n",
       "        vertical-align: top;\n",
       "    }\n",
       "\n",
       "    .dataframe thead th {\n",
       "        text-align: right;\n",
       "    }\n",
       "</style>\n",
       "<table border=\"1\" class=\"dataframe\">\n",
       "  <thead>\n",
       "    <tr style=\"text-align: right;\">\n",
       "      <th></th>\n",
       "      <th>pca-component_x</th>\n",
       "      <th>domain-number</th>\n",
       "      <th>pca-component_y</th>\n",
       "      <th>domain-description</th>\n",
       "    </tr>\n",
       "  </thead>\n",
       "  <tbody>\n",
       "    <tr>\n",
       "      <th>0</th>\n",
       "      <td>PC8</td>\n",
       "      <td>3</td>\n",
       "      <td>PC6</td>\n",
       "      <td>2-Hacid_dh_C; D-isomer specific 2-hydroxyacid ...</td>\n",
       "    </tr>\n",
       "    <tr>\n",
       "      <th>1</th>\n",
       "      <td>PC10</td>\n",
       "      <td>257</td>\n",
       "      <td>PC55</td>\n",
       "      <td>BAR_2; BAR domain-containing family</td>\n",
       "    </tr>\n",
       "    <tr>\n",
       "      <th>2</th>\n",
       "      <td>PC10</td>\n",
       "      <td>257</td>\n",
       "      <td>PC62</td>\n",
       "      <td>BAR_2; BAR domain-containing family</td>\n",
       "    </tr>\n",
       "    <tr>\n",
       "      <th>3</th>\n",
       "      <td>PC11</td>\n",
       "      <td>257</td>\n",
       "      <td>PC55</td>\n",
       "      <td>BAR_2; BAR domain-containing family</td>\n",
       "    </tr>\n",
       "    <tr>\n",
       "      <th>4</th>\n",
       "      <td>PC11</td>\n",
       "      <td>257</td>\n",
       "      <td>PC62</td>\n",
       "      <td>BAR_2; BAR domain-containing family</td>\n",
       "    </tr>\n",
       "    <tr>\n",
       "      <th>...</th>\n",
       "      <td>...</td>\n",
       "      <td>...</td>\n",
       "      <td>...</td>\n",
       "      <td>...</td>\n",
       "    </tr>\n",
       "    <tr>\n",
       "      <th>69</th>\n",
       "      <td>PC254</td>\n",
       "      <td>107</td>\n",
       "      <td>PC157</td>\n",
       "      <td>ATE_N; Arginine-tRNA-protein transferase, N-te...</td>\n",
       "    </tr>\n",
       "    <tr>\n",
       "      <th>70</th>\n",
       "      <td>PC276</td>\n",
       "      <td>1061</td>\n",
       "      <td>PC225</td>\n",
       "      <td>Glyco_tran_28_C; Glycosyl transferase, family ...</td>\n",
       "    </tr>\n",
       "    <tr>\n",
       "      <th>71</th>\n",
       "      <td>PC281</td>\n",
       "      <td>1846</td>\n",
       "      <td>PC159</td>\n",
       "      <td>PYC_OADA; Carboxylase, conserved domain</td>\n",
       "    </tr>\n",
       "    <tr>\n",
       "      <th>72</th>\n",
       "      <td>PC281</td>\n",
       "      <td>1846</td>\n",
       "      <td>PC165</td>\n",
       "      <td>PYC_OADA; Carboxylase, conserved domain</td>\n",
       "    </tr>\n",
       "    <tr>\n",
       "      <th>73</th>\n",
       "      <td>PC281</td>\n",
       "      <td>1846</td>\n",
       "      <td>PC166</td>\n",
       "      <td>PYC_OADA; Carboxylase, conserved domain</td>\n",
       "    </tr>\n",
       "  </tbody>\n",
       "</table>\n",
       "<p>74 rows × 4 columns</p>\n",
       "</div>"
      ],
      "text/plain": [
       "   pca-component_x  domain-number pca-component_y  \\\n",
       "0              PC8              3             PC6   \n",
       "1             PC10            257            PC55   \n",
       "2             PC10            257            PC62   \n",
       "3             PC11            257            PC55   \n",
       "4             PC11            257            PC62   \n",
       "..             ...            ...             ...   \n",
       "69           PC254            107           PC157   \n",
       "70           PC276           1061           PC225   \n",
       "71           PC281           1846           PC159   \n",
       "72           PC281           1846           PC165   \n",
       "73           PC281           1846           PC166   \n",
       "\n",
       "                                   domain-description  \n",
       "0   2-Hacid_dh_C; D-isomer specific 2-hydroxyacid ...  \n",
       "1                 BAR_2; BAR domain-containing family  \n",
       "2                 BAR_2; BAR domain-containing family  \n",
       "3                 BAR_2; BAR domain-containing family  \n",
       "4                 BAR_2; BAR domain-containing family  \n",
       "..                                                ...  \n",
       "69  ATE_N; Arginine-tRNA-protein transferase, N-te...  \n",
       "70  Glyco_tran_28_C; Glycosyl transferase, family ...  \n",
       "71            PYC_OADA; Carboxylase, conserved domain  \n",
       "72            PYC_OADA; Carboxylase, conserved domain  \n",
       "73            PYC_OADA; Carboxylase, conserved domain  \n",
       "\n",
       "[74 rows x 4 columns]"
      ]
     },
     "execution_count": 22,
     "metadata": {},
     "output_type": "execute_result"
    }
   ],
   "source": [
    "df_shared_domains=pd.merge(df_sl,df_nsl,how='inner',on='domain-number')\n",
    "domains_name=np.unique(data_domains['domain-name'])\n",
    "domains_description=np.unique(data_domains['domain-descrip'])\n",
    "\n",
    "df_shared_domains['domain-description']=domains_description[df_shared_domains['domain-number']]\n",
    "\n",
    "\n",
    "df_shared_domains"
   ]
  },
  {
   "cell_type": "code",
   "execution_count": 23,
   "metadata": {
    "execution": {
     "iopub.execute_input": "2020-07-24T02:26:19.378581Z",
     "iopub.status.busy": "2020-07-24T02:26:19.377695Z",
     "iopub.status.idle": "2020-07-24T02:26:19.383885Z",
     "shell.execute_reply": "2020-07-24T02:26:19.384708Z"
    }
   },
   "outputs": [
    {
     "name": "stdout",
     "output_type": "stream",
     "text": [
      "The number of shared domains between SL and nSL pairs,after PCA, is =  74 out of 549 so the 13.479052823315119 %\n"
     ]
    }
   ],
   "source": [
    "print('The number of shared domains between SL and nSL pairs,after PCA, is = ',len(df_shared_domains), 'out of', len(df_sl)+len(df_nsl), 'so the',100*len(df_shared_domains)/(len(df_sl)+len(df_nsl)),'%')"
   ]
  },
  {
   "cell_type": "markdown",
   "metadata": {},
   "source": [
    "## Domains exclusive to SL"
   ]
  },
  {
   "cell_type": "code",
   "execution_count": 24,
   "metadata": {
    "execution": {
     "iopub.execute_input": "2020-07-24T02:26:19.387307Z",
     "iopub.status.busy": "2020-07-24T02:26:19.386434Z",
     "iopub.status.idle": "2020-07-24T02:26:19.410307Z",
     "shell.execute_reply": "2020-07-24T02:26:19.410914Z"
    }
   },
   "outputs": [
    {
     "data": {
      "text/html": [
       "<div>\n",
       "<style scoped>\n",
       "    .dataframe tbody tr th:only-of-type {\n",
       "        vertical-align: middle;\n",
       "    }\n",
       "\n",
       "    .dataframe tbody tr th {\n",
       "        vertical-align: top;\n",
       "    }\n",
       "\n",
       "    .dataframe thead th {\n",
       "        text-align: right;\n",
       "    }\n",
       "</style>\n",
       "<table border=\"1\" class=\"dataframe\">\n",
       "  <thead>\n",
       "    <tr style=\"text-align: right;\">\n",
       "      <th></th>\n",
       "      <th>pca-component_x</th>\n",
       "      <th>domain-number</th>\n",
       "      <th>pca-component_y</th>\n",
       "      <th>domain-description</th>\n",
       "    </tr>\n",
       "  </thead>\n",
       "  <tbody>\n",
       "    <tr>\n",
       "      <th>0</th>\n",
       "      <td>PC0</td>\n",
       "      <td>2771</td>\n",
       "      <td>NaN</td>\n",
       "      <td>Ubiq-assoc; Ubiquitin-associated domain, SWA2-...</td>\n",
       "    </tr>\n",
       "    <tr>\n",
       "      <th>1</th>\n",
       "      <td>PC1</td>\n",
       "      <td>135</td>\n",
       "      <td>NaN</td>\n",
       "      <td>ATP-synt_ab_Xtn; ATPsynthase alpha/beta subuni...</td>\n",
       "    </tr>\n",
       "    <tr>\n",
       "      <th>2</th>\n",
       "      <td>PC2</td>\n",
       "      <td>142</td>\n",
       "      <td>NaN</td>\n",
       "      <td>ATP_synt_H; ATPase, V0 complex, subunit e1/e2</td>\n",
       "    </tr>\n",
       "    <tr>\n",
       "      <th>3</th>\n",
       "      <td>PC3</td>\n",
       "      <td>1464</td>\n",
       "      <td>NaN</td>\n",
       "      <td>Metallophos_2; Calcineurin-like phosphoesteras...</td>\n",
       "    </tr>\n",
       "    <tr>\n",
       "      <th>4</th>\n",
       "      <td>PC4</td>\n",
       "      <td>221</td>\n",
       "      <td>NaN</td>\n",
       "      <td>Apq12; Nuclear pore assembly and biogenesis pr...</td>\n",
       "    </tr>\n",
       "    <tr>\n",
       "      <th>...</th>\n",
       "      <td>...</td>\n",
       "      <td>...</td>\n",
       "      <td>...</td>\n",
       "      <td>...</td>\n",
       "    </tr>\n",
       "    <tr>\n",
       "      <th>287</th>\n",
       "      <td>PC274</td>\n",
       "      <td>2836</td>\n",
       "      <td>NaN</td>\n",
       "      <td>Vps55; Vacuolar protein sorting 55</td>\n",
       "    </tr>\n",
       "    <tr>\n",
       "      <th>288</th>\n",
       "      <td>PC275</td>\n",
       "      <td>1845</td>\n",
       "      <td>NaN</td>\n",
       "      <td>PXA; Phox-associated domain</td>\n",
       "    </tr>\n",
       "    <tr>\n",
       "      <th>290</th>\n",
       "      <td>PC277</td>\n",
       "      <td>2836</td>\n",
       "      <td>NaN</td>\n",
       "      <td>Vps55; Vacuolar protein sorting 55</td>\n",
       "    </tr>\n",
       "    <tr>\n",
       "      <th>292</th>\n",
       "      <td>PC279</td>\n",
       "      <td>1918</td>\n",
       "      <td>NaN</td>\n",
       "      <td>Pkinase; Protein kinase domain</td>\n",
       "    </tr>\n",
       "    <tr>\n",
       "      <th>293</th>\n",
       "      <td>PC280</td>\n",
       "      <td>569</td>\n",
       "      <td>NaN</td>\n",
       "      <td>DDHD; DDHD domain</td>\n",
       "    </tr>\n",
       "  </tbody>\n",
       "</table>\n",
       "<p>223 rows × 4 columns</p>\n",
       "</div>"
      ],
      "text/plain": [
       "    pca-component_x  domain-number pca-component_y  \\\n",
       "0               PC0           2771             NaN   \n",
       "1               PC1            135             NaN   \n",
       "2               PC2            142             NaN   \n",
       "3               PC3           1464             NaN   \n",
       "4               PC4            221             NaN   \n",
       "..              ...            ...             ...   \n",
       "287           PC274           2836             NaN   \n",
       "288           PC275           1845             NaN   \n",
       "290           PC277           2836             NaN   \n",
       "292           PC279           1918             NaN   \n",
       "293           PC280            569             NaN   \n",
       "\n",
       "                                    domain-description  \n",
       "0    Ubiq-assoc; Ubiquitin-associated domain, SWA2-...  \n",
       "1    ATP-synt_ab_Xtn; ATPsynthase alpha/beta subuni...  \n",
       "2        ATP_synt_H; ATPase, V0 complex, subunit e1/e2  \n",
       "3    Metallophos_2; Calcineurin-like phosphoesteras...  \n",
       "4    Apq12; Nuclear pore assembly and biogenesis pr...  \n",
       "..                                                 ...  \n",
       "287                 Vps55; Vacuolar protein sorting 55  \n",
       "288                        PXA; Phox-associated domain  \n",
       "290                 Vps55; Vacuolar protein sorting 55  \n",
       "292                     Pkinase; Protein kinase domain  \n",
       "293                                  DDHD; DDHD domain  \n",
       "\n",
       "[223 rows x 4 columns]"
      ]
     },
     "execution_count": 24,
     "metadata": {},
     "output_type": "execute_result"
    }
   ],
   "source": [
    "df_sl_exclusive=pd.merge(df_sl,df_nsl,how='left',on='domain-number')\n",
    "\n",
    "domains_name=np.unique(data_domains['domain-name'])\n",
    "domains_description=np.unique(data_domains['domain-descrip'])\n",
    "\n",
    "df_sl_exclusive['domain-description']=domains_description[df_sl_exclusive['domain-number']]\n",
    "df_sl_exclusive[pd.isnull(df_sl_exclusive['pca-component_y'])]"
   ]
  },
  {
   "cell_type": "code",
   "execution_count": 25,
   "metadata": {
    "execution": {
     "iopub.execute_input": "2020-07-24T02:26:19.413500Z",
     "iopub.status.busy": "2020-07-24T02:26:19.412629Z",
     "iopub.status.idle": "2020-07-24T02:26:19.418993Z",
     "shell.execute_reply": "2020-07-24T02:26:19.419596Z"
    }
   },
   "outputs": [
    {
     "name": "stdout",
     "output_type": "stream",
     "text": [
      "The number of exclusive domains from SL pairs, after PCA, is =  297 out of 549 so the 54.09836065573771 %\n"
     ]
    }
   ],
   "source": [
    "print('The number of exclusive domains from SL pairs, after PCA, is = ',len(df_sl_exclusive), 'out of', len(df_sl)+len(df_nsl), 'so the',100*len(df_sl_exclusive)/(len(df_sl)+len(df_nsl)),'%')"
   ]
  },
  {
   "cell_type": "code",
   "execution_count": 26,
   "metadata": {
    "execution": {
     "iopub.execute_input": "2020-07-24T02:26:19.422154Z",
     "iopub.status.busy": "2020-07-24T02:26:19.421261Z",
     "iopub.status.idle": "2020-07-24T02:26:19.446969Z",
     "shell.execute_reply": "2020-07-24T02:26:19.446248Z"
    }
   },
   "outputs": [
    {
     "data": {
      "text/html": [
       "<div>\n",
       "<style scoped>\n",
       "    .dataframe tbody tr th:only-of-type {\n",
       "        vertical-align: middle;\n",
       "    }\n",
       "\n",
       "    .dataframe tbody tr th {\n",
       "        vertical-align: top;\n",
       "    }\n",
       "\n",
       "    .dataframe thead th {\n",
       "        text-align: right;\n",
       "    }\n",
       "</style>\n",
       "<table border=\"1\" class=\"dataframe\">\n",
       "  <thead>\n",
       "    <tr style=\"text-align: right;\">\n",
       "      <th></th>\n",
       "      <th>pca-component_x</th>\n",
       "      <th>domain-number</th>\n",
       "      <th>pca-component_y</th>\n",
       "      <th>domain-description</th>\n",
       "    </tr>\n",
       "  </thead>\n",
       "  <tbody>\n",
       "    <tr>\n",
       "      <th>74</th>\n",
       "      <td>NaN</td>\n",
       "      <td>1028</td>\n",
       "      <td>PC0</td>\n",
       "      <td>GatB_Yqey; Asn/Gln amidotransferase</td>\n",
       "    </tr>\n",
       "    <tr>\n",
       "      <th>75</th>\n",
       "      <td>NaN</td>\n",
       "      <td>305</td>\n",
       "      <td>PC1</td>\n",
       "      <td>Brr6_like_C_C; Brl1/Brr6 domain</td>\n",
       "    </tr>\n",
       "    <tr>\n",
       "      <th>76</th>\n",
       "      <td>NaN</td>\n",
       "      <td>1043</td>\n",
       "      <td>PC2</td>\n",
       "      <td>Glyco_hydro_15; Glycoside hydrolase family 15/...</td>\n",
       "    </tr>\n",
       "    <tr>\n",
       "      <th>77</th>\n",
       "      <td>NaN</td>\n",
       "      <td>599</td>\n",
       "      <td>PC5</td>\n",
       "      <td>DLIC; Dynein family light intermediate chain</td>\n",
       "    </tr>\n",
       "    <tr>\n",
       "      <th>78</th>\n",
       "      <td>NaN</td>\n",
       "      <td>858</td>\n",
       "      <td>PC8</td>\n",
       "      <td>F420_oxidored; Pyrroline-5-carboxylate reducta...</td>\n",
       "    </tr>\n",
       "    <tr>\n",
       "      <th>...</th>\n",
       "      <td>...</td>\n",
       "      <td>...</td>\n",
       "      <td>...</td>\n",
       "      <td>...</td>\n",
       "    </tr>\n",
       "    <tr>\n",
       "      <th>279</th>\n",
       "      <td>NaN</td>\n",
       "      <td>2471</td>\n",
       "      <td>PC262</td>\n",
       "      <td>Sgf11; SAGA complex, Sgf11 subunit</td>\n",
       "    </tr>\n",
       "    <tr>\n",
       "      <th>280</th>\n",
       "      <td>NaN</td>\n",
       "      <td>2961</td>\n",
       "      <td>PC263</td>\n",
       "      <td>vATP-synt_E; ATPase, V1/A1 complex, subunit E</td>\n",
       "    </tr>\n",
       "    <tr>\n",
       "      <th>281</th>\n",
       "      <td>NaN</td>\n",
       "      <td>1466</td>\n",
       "      <td>PC264</td>\n",
       "      <td>Meth_synt_1; Cobalamin-independent methionine ...</td>\n",
       "    </tr>\n",
       "    <tr>\n",
       "      <th>282</th>\n",
       "      <td>NaN</td>\n",
       "      <td>824</td>\n",
       "      <td>PC265</td>\n",
       "      <td>ETF; Electron transfer flavoprotein, alpha/bet...</td>\n",
       "    </tr>\n",
       "    <tr>\n",
       "      <th>283</th>\n",
       "      <td>NaN</td>\n",
       "      <td>824</td>\n",
       "      <td>PC266</td>\n",
       "      <td>ETF; Electron transfer flavoprotein, alpha/bet...</td>\n",
       "    </tr>\n",
       "  </tbody>\n",
       "</table>\n",
       "<p>210 rows × 4 columns</p>\n",
       "</div>"
      ],
      "text/plain": [
       "    pca-component_x  domain-number pca-component_y  \\\n",
       "74              NaN           1028             PC0   \n",
       "75              NaN            305             PC1   \n",
       "76              NaN           1043             PC2   \n",
       "77              NaN            599             PC5   \n",
       "78              NaN            858             PC8   \n",
       "..              ...            ...             ...   \n",
       "279             NaN           2471           PC262   \n",
       "280             NaN           2961           PC263   \n",
       "281             NaN           1466           PC264   \n",
       "282             NaN            824           PC265   \n",
       "283             NaN            824           PC266   \n",
       "\n",
       "                                    domain-description  \n",
       "74                 GatB_Yqey; Asn/Gln amidotransferase  \n",
       "75                     Brr6_like_C_C; Brl1/Brr6 domain  \n",
       "76   Glyco_hydro_15; Glycoside hydrolase family 15/...  \n",
       "77        DLIC; Dynein family light intermediate chain  \n",
       "78   F420_oxidored; Pyrroline-5-carboxylate reducta...  \n",
       "..                                                 ...  \n",
       "279                 Sgf11; SAGA complex, Sgf11 subunit  \n",
       "280      vATP-synt_E; ATPase, V1/A1 complex, subunit E  \n",
       "281  Meth_synt_1; Cobalamin-independent methionine ...  \n",
       "282  ETF; Electron transfer flavoprotein, alpha/bet...  \n",
       "283  ETF; Electron transfer flavoprotein, alpha/bet...  \n",
       "\n",
       "[210 rows x 4 columns]"
      ]
     },
     "execution_count": 26,
     "metadata": {},
     "output_type": "execute_result"
    }
   ],
   "source": [
    "df_nsl_exclusive=pd.merge(df_sl,df_nsl,how='right',on='domain-number')\n",
    "\n",
    "domains_name=np.unique(data_domains['domain-name'])\n",
    "domains_description=np.unique(data_domains['domain-descrip'])\n",
    "\n",
    "df_nsl_exclusive['domain-description']=domains_description[df_nsl_exclusive['domain-number']]\n",
    "df_nsl_exclusive[pd.isnull(df_nsl_exclusive['pca-component_x'])]"
   ]
  },
  {
   "cell_type": "code",
   "execution_count": 27,
   "metadata": {
    "execution": {
     "iopub.execute_input": "2020-07-24T02:26:19.451003Z",
     "iopub.status.busy": "2020-07-24T02:26:19.450555Z",
     "iopub.status.idle": "2020-07-24T02:26:19.454215Z",
     "shell.execute_reply": "2020-07-24T02:26:19.453794Z"
    }
   },
   "outputs": [
    {
     "name": "stdout",
     "output_type": "stream",
     "text": [
      "The number of exclusive domains from non SL pairs, after PCA, is =  284 out of 549 so the 51.7304189435337 %\n"
     ]
    }
   ],
   "source": [
    "print('The number of exclusive domains from non SL pairs, after PCA, is = ',len(df_nsl_exclusive), 'out of', len(df_sl)+len(df_nsl), 'so the',100*len(df_nsl_exclusive)/(len(df_sl)+len(df_nsl)),'%')"
   ]
  },
  {
   "cell_type": "markdown",
   "metadata": {},
   "source": [
    "## Let see to the domains-number that get repeated after the PCA analysis , and selecting the most explanatory feature by its explained variance."
   ]
  },
  {
   "cell_type": "code",
   "execution_count": 28,
   "metadata": {
    "execution": {
     "iopub.execute_input": "2020-07-24T02:26:19.468350Z",
     "iopub.status.busy": "2020-07-24T02:26:19.458713Z",
     "iopub.status.idle": "2020-07-24T02:26:19.473179Z",
     "shell.execute_reply": "2020-07-24T02:26:19.472800Z"
    }
   },
   "outputs": [],
   "source": [
    "duplicated_features_sl=df_sl[df_sl.iloc[:,1].duplicated()]\n",
    "repeated_features_sl=pd.DataFrame()\n",
    "\n",
    "domains_name=np.unique(data_domains['domain-name'])\n",
    "domains_description=np.unique(data_domains['domain-descrip'])\n",
    "\n",
    "repeated_features_sl['domain-name']=domains_name[duplicated_features_sl.iloc[:,1]] \n",
    "repeated_features_sl['domain-description']=domains_description[duplicated_features_sl.iloc[:,1]]\n",
    "\n",
    "duplicated_features_nsl=df_nsl[df_nsl.iloc[:,1].duplicated()]\n",
    "repeated_features_nsl=pd.DataFrame()\n",
    "\n",
    "repeated_features_nsl['domain-name']=domains_name[duplicated_features_nsl.iloc[:,1]] \n",
    "repeated_features_nsl['domain-description']=domains_description[duplicated_features_nsl.iloc[:,1]]"
   ]
  },
  {
   "cell_type": "code",
   "execution_count": 29,
   "metadata": {
    "execution": {
     "iopub.execute_input": "2020-07-24T02:26:19.480848Z",
     "iopub.status.busy": "2020-07-24T02:26:19.479811Z",
     "iopub.status.idle": "2020-07-24T02:26:19.484623Z",
     "shell.execute_reply": "2020-07-24T02:26:19.484999Z"
    }
   },
   "outputs": [
    {
     "name": "stderr",
     "output_type": "stream",
     "text": [
      "/usr/share/miniconda3/envs/wintest/lib/python3.7/site-packages/ipykernel_launcher.py:3: SettingWithCopyWarning: \n",
      "A value is trying to be set on a copy of a slice from a DataFrame.\n",
      "Try using .loc[row_indexer,col_indexer] = value instead\n",
      "\n",
      "See the caveats in the documentation: https://pandas.pydata.org/pandas-docs/stable/user_guide/indexing.html#returning-a-view-versus-a-copy\n",
      "  This is separate from the ipykernel package so we can avoid doing imports until\n"
     ]
    },
    {
     "data": {
      "text/plain": [
       "((42, 4), (297, 4))"
      ]
     },
     "execution_count": 29,
     "metadata": {},
     "output_type": "execute_result"
    }
   ],
   "source": [
    "only_sl_pd=pd.merge(repeated_features_sl,repeated_features_nsl,how='left',on=['domain-name'])\n",
    "data_only_sl = only_sl_pd[pd.isnull(only_sl_pd['domain-description_y'])]\n",
    "data_only_sl['domain-description']=data_only_sl['domain-description_x']\n",
    "data_only_sl.shape,df_sl_exclusive.shape"
   ]
  },
  {
   "cell_type": "code",
   "execution_count": 30,
   "metadata": {
    "execution": {
     "iopub.execute_input": "2020-07-24T02:26:19.499821Z",
     "iopub.status.busy": "2020-07-24T02:26:19.488560Z",
     "iopub.status.idle": "2020-07-24T02:26:19.504639Z",
     "shell.execute_reply": "2020-07-24T02:26:19.504244Z"
    }
   },
   "outputs": [
    {
     "data": {
      "text/html": [
       "<div>\n",
       "<style scoped>\n",
       "    .dataframe tbody tr th:only-of-type {\n",
       "        vertical-align: middle;\n",
       "    }\n",
       "\n",
       "    .dataframe tbody tr th {\n",
       "        vertical-align: top;\n",
       "    }\n",
       "\n",
       "    .dataframe thead th {\n",
       "        text-align: right;\n",
       "    }\n",
       "</style>\n",
       "<table border=\"1\" class=\"dataframe\">\n",
       "  <thead>\n",
       "    <tr style=\"text-align: right;\">\n",
       "      <th></th>\n",
       "      <th>domain-name</th>\n",
       "      <th>domain-description_x</th>\n",
       "      <th>domain-description_y</th>\n",
       "    </tr>\n",
       "  </thead>\n",
       "  <tbody>\n",
       "    <tr>\n",
       "      <th>4</th>\n",
       "      <td>PF00487</td>\n",
       "      <td>NaN</td>\n",
       "      <td>Atg14; UV radiation resistance protein/autopha...</td>\n",
       "    </tr>\n",
       "    <tr>\n",
       "      <th>5</th>\n",
       "      <td>PF04969</td>\n",
       "      <td>NaN</td>\n",
       "      <td>MetRS-N; Methionyl-tRNA synthetase, N-terminal...</td>\n",
       "    </tr>\n",
       "    <tr>\n",
       "      <th>6</th>\n",
       "      <td>PF00443</td>\n",
       "      <td>NaN</td>\n",
       "      <td>Anticodon_1; Methionyl/Valyl/Leucyl/Isoleucyl-...</td>\n",
       "    </tr>\n",
       "    <tr>\n",
       "      <th>7</th>\n",
       "      <td>PF00789</td>\n",
       "      <td>NaN</td>\n",
       "      <td>COPI_C; Coatomer, alpha subunit, C-terminal</td>\n",
       "    </tr>\n",
       "    <tr>\n",
       "      <th>8</th>\n",
       "      <td>PF04084</td>\n",
       "      <td>NaN</td>\n",
       "      <td>Kelch_3</td>\n",
       "    </tr>\n",
       "    <tr>\n",
       "      <th>9</th>\n",
       "      <td>PF05179</td>\n",
       "      <td>NaN</td>\n",
       "      <td>Mob1_phocein; MOB kinase activator family</td>\n",
       "    </tr>\n",
       "    <tr>\n",
       "      <th>10</th>\n",
       "      <td>PF05179</td>\n",
       "      <td>NaN</td>\n",
       "      <td>Mob1_phocein; MOB kinase activator family</td>\n",
       "    </tr>\n",
       "    <tr>\n",
       "      <th>11</th>\n",
       "      <td>PF04912</td>\n",
       "      <td>NaN</td>\n",
       "      <td>Med4; Mediator complex, subunit Med4</td>\n",
       "    </tr>\n",
       "    <tr>\n",
       "      <th>12</th>\n",
       "      <td>PF03097</td>\n",
       "      <td>NaN</td>\n",
       "      <td>Glutaredoxin</td>\n",
       "    </tr>\n",
       "    <tr>\n",
       "      <th>13</th>\n",
       "      <td>PF00067</td>\n",
       "      <td>NaN</td>\n",
       "      <td>AAA_6</td>\n",
       "    </tr>\n",
       "    <tr>\n",
       "      <th>14</th>\n",
       "      <td>PF03943</td>\n",
       "      <td>NaN</td>\n",
       "      <td>IGPS; Indole-3-glycerol phosphate synthase</td>\n",
       "    </tr>\n",
       "    <tr>\n",
       "      <th>15</th>\n",
       "      <td>PF00730</td>\n",
       "      <td>NaN</td>\n",
       "      <td>CLASP_N; CLASP N-terminal domain</td>\n",
       "    </tr>\n",
       "    <tr>\n",
       "      <th>16</th>\n",
       "      <td>PF02812</td>\n",
       "      <td>NaN</td>\n",
       "      <td>GCV_T_C; Glycine cleavage T-protein, C-termina...</td>\n",
       "    </tr>\n",
       "    <tr>\n",
       "      <th>17</th>\n",
       "      <td>PF03343</td>\n",
       "      <td>NaN</td>\n",
       "      <td>HAD</td>\n",
       "    </tr>\n",
       "    <tr>\n",
       "      <th>18</th>\n",
       "      <td>PF01111</td>\n",
       "      <td>NaN</td>\n",
       "      <td>Coa1; Cytochrome oxidase assembly protein 1</td>\n",
       "    </tr>\n",
       "    <tr>\n",
       "      <th>19</th>\n",
       "      <td>PF01399</td>\n",
       "      <td>NaN</td>\n",
       "      <td>DNA_pol_B; DNA-directed DNA polymerase, family...</td>\n",
       "    </tr>\n",
       "    <tr>\n",
       "      <th>20</th>\n",
       "      <td>PF03372</td>\n",
       "      <td>NaN</td>\n",
       "      <td>HCO3_cotransp; Bicarbonate transporter, C-term...</td>\n",
       "    </tr>\n",
       "    <tr>\n",
       "      <th>21</th>\n",
       "      <td>PF08624</td>\n",
       "      <td>NaN</td>\n",
       "      <td>RIIa; cAMP-dependent protein kinase regulatory...</td>\n",
       "    </tr>\n",
       "    <tr>\n",
       "      <th>22</th>\n",
       "      <td>PF00134</td>\n",
       "      <td>NaN</td>\n",
       "      <td>AGA2</td>\n",
       "    </tr>\n",
       "    <tr>\n",
       "      <th>23</th>\n",
       "      <td>PF04857</td>\n",
       "      <td>NaN</td>\n",
       "      <td>Med16; Mediator complex, subunit Med16</td>\n",
       "    </tr>\n",
       "    <tr>\n",
       "      <th>24</th>\n",
       "      <td>PF08512</td>\n",
       "      <td>NaN</td>\n",
       "      <td>Pol_alpha_B_N; DNA polymerase alpha, subunit B...</td>\n",
       "    </tr>\n",
       "    <tr>\n",
       "      <th>25</th>\n",
       "      <td>PF08690</td>\n",
       "      <td>NaN</td>\n",
       "      <td>RNA_pol_Rpb2_7; RNA polymerase Rpb2, domain 7</td>\n",
       "    </tr>\n",
       "    <tr>\n",
       "      <th>26</th>\n",
       "      <td>PF08690</td>\n",
       "      <td>NaN</td>\n",
       "      <td>RNA_pol_Rpb2_7; RNA polymerase Rpb2, domain 7</td>\n",
       "    </tr>\n",
       "    <tr>\n",
       "      <th>27</th>\n",
       "      <td>PF00646</td>\n",
       "      <td>NaN</td>\n",
       "      <td>CASP_C; CASP, C-terminal</td>\n",
       "    </tr>\n",
       "    <tr>\n",
       "      <th>28</th>\n",
       "      <td>PF16891</td>\n",
       "      <td>NaN</td>\n",
       "      <td>tRNA-synt_1c; Glutamyl/glutaminyl-tRNA synthet...</td>\n",
       "    </tr>\n",
       "    <tr>\n",
       "      <th>29</th>\n",
       "      <td>PF04121</td>\n",
       "      <td>NaN</td>\n",
       "      <td>LIAS_N; Lipoyl synthase, N-terminal</td>\n",
       "    </tr>\n",
       "    <tr>\n",
       "      <th>30</th>\n",
       "      <td>PF02453</td>\n",
       "      <td>NaN</td>\n",
       "      <td>FMO-like; Flavin monooxygenase-like</td>\n",
       "    </tr>\n",
       "    <tr>\n",
       "      <th>31</th>\n",
       "      <td>PF06293</td>\n",
       "      <td>NaN</td>\n",
       "      <td>Nse4-Nse3_bdg; Nse4/EID protein, Nse3/MAGE-bin...</td>\n",
       "    </tr>\n",
       "    <tr>\n",
       "      <th>32</th>\n",
       "      <td>PF08217</td>\n",
       "      <td>NaN</td>\n",
       "      <td>PYC_OADA; Carboxylase, conserved domain</td>\n",
       "    </tr>\n",
       "    <tr>\n",
       "      <th>33</th>\n",
       "      <td>PF08217</td>\n",
       "      <td>NaN</td>\n",
       "      <td>PYC_OADA; Carboxylase, conserved domain</td>\n",
       "    </tr>\n",
       "    <tr>\n",
       "      <th>34</th>\n",
       "      <td>PF04062</td>\n",
       "      <td>NaN</td>\n",
       "      <td>KH_2; K Homology domain, type 2</td>\n",
       "    </tr>\n",
       "    <tr>\n",
       "      <th>35</th>\n",
       "      <td>PF04062</td>\n",
       "      <td>NaN</td>\n",
       "      <td>KH_2; K Homology domain, type 2</td>\n",
       "    </tr>\n",
       "    <tr>\n",
       "      <th>36</th>\n",
       "      <td>PF06479</td>\n",
       "      <td>NaN</td>\n",
       "      <td>ORC5_C; Origin recognition complex, subunit 5</td>\n",
       "    </tr>\n",
       "    <tr>\n",
       "      <th>37</th>\n",
       "      <td>PF06479</td>\n",
       "      <td>NaN</td>\n",
       "      <td>ORC5_C; Origin recognition complex, subunit 5</td>\n",
       "    </tr>\n",
       "    <tr>\n",
       "      <th>38</th>\n",
       "      <td>PF12894</td>\n",
       "      <td>NaN</td>\n",
       "      <td>TEA; TEA/ATTS domain</td>\n",
       "    </tr>\n",
       "    <tr>\n",
       "      <th>39</th>\n",
       "      <td>PF01900</td>\n",
       "      <td>NaN</td>\n",
       "      <td>Dynamin_N; Dynamin superfamily</td>\n",
       "    </tr>\n",
       "    <tr>\n",
       "      <th>40</th>\n",
       "      <td>PF09295</td>\n",
       "      <td>NaN</td>\n",
       "      <td>Rad52_Rad22; DNA repair protein Rad52/59/22</td>\n",
       "    </tr>\n",
       "    <tr>\n",
       "      <th>41</th>\n",
       "      <td>PF00180</td>\n",
       "      <td>NaN</td>\n",
       "      <td>ANAPC4; Anaphase-promoting complex subunit 4 l...</td>\n",
       "    </tr>\n",
       "    <tr>\n",
       "      <th>42</th>\n",
       "      <td>PF09770</td>\n",
       "      <td>NaN</td>\n",
       "      <td>Ribosomal_L18A; Ribosomal protein 50S-L18Ae/60...</td>\n",
       "    </tr>\n",
       "    <tr>\n",
       "      <th>43</th>\n",
       "      <td>PF09798</td>\n",
       "      <td>NaN</td>\n",
       "      <td>Ribosomal_L24e; Ribosomal protein L24e-related</td>\n",
       "    </tr>\n",
       "    <tr>\n",
       "      <th>44</th>\n",
       "      <td>PF11488</td>\n",
       "      <td>NaN</td>\n",
       "      <td>SPT2; Chromatin SPT2</td>\n",
       "    </tr>\n",
       "    <tr>\n",
       "      <th>45</th>\n",
       "      <td>PF11488</td>\n",
       "      <td>NaN</td>\n",
       "      <td>SPT2; Chromatin SPT2</td>\n",
       "    </tr>\n",
       "    <tr>\n",
       "      <th>46</th>\n",
       "      <td>PF03126</td>\n",
       "      <td>NaN</td>\n",
       "      <td>Glyco_hydro_31; Glycoside hydrolase family 31</td>\n",
       "    </tr>\n",
       "    <tr>\n",
       "      <th>47</th>\n",
       "      <td>PF04421</td>\n",
       "      <td>NaN</td>\n",
       "      <td>MAP65_ASE1</td>\n",
       "    </tr>\n",
       "    <tr>\n",
       "      <th>48</th>\n",
       "      <td>PF03966</td>\n",
       "      <td>NaN</td>\n",
       "      <td>INSIG; Insulin-induced protein family</td>\n",
       "    </tr>\n",
       "    <tr>\n",
       "      <th>49</th>\n",
       "      <td>PF00238</td>\n",
       "      <td>NaN</td>\n",
       "      <td>ATG7_N; Ubiquitin-like modifier-activating enz...</td>\n",
       "    </tr>\n",
       "    <tr>\n",
       "      <th>50</th>\n",
       "      <td>PF10232</td>\n",
       "      <td>NaN</td>\n",
       "      <td>Ribosomal_S11; Ribosomal protein S11</td>\n",
       "    </tr>\n",
       "    <tr>\n",
       "      <th>51</th>\n",
       "      <td>PF00237</td>\n",
       "      <td>NaN</td>\n",
       "      <td>ATG2_CAD; Autophagy-related protein 2 CAD motif</td>\n",
       "    </tr>\n",
       "    <tr>\n",
       "      <th>52</th>\n",
       "      <td>PF01214</td>\n",
       "      <td>NaN</td>\n",
       "      <td>DAO; FAD dependent oxidoreductase</td>\n",
       "    </tr>\n",
       "    <tr>\n",
       "      <th>53</th>\n",
       "      <td>PF00735</td>\n",
       "      <td>NaN</td>\n",
       "      <td>CLP1_P; Polyribonucleotide 5&amp;apos;-hydroxyl-ki...</td>\n",
       "    </tr>\n",
       "    <tr>\n",
       "      <th>54</th>\n",
       "      <td>PF11124</td>\n",
       "      <td>NaN</td>\n",
       "      <td>SNO; Pyridoxal 5&amp;apos;-phosphate synthase subu...</td>\n",
       "    </tr>\n",
       "    <tr>\n",
       "      <th>55</th>\n",
       "      <td>PF12271</td>\n",
       "      <td>NaN</td>\n",
       "      <td>Sgf11; SAGA complex, Sgf11 subunit</td>\n",
       "    </tr>\n",
       "    <tr>\n",
       "      <th>56</th>\n",
       "      <td>PF02146</td>\n",
       "      <td>NaN</td>\n",
       "      <td>ETF; Electron transfer flavoprotein, alpha/bet...</td>\n",
       "    </tr>\n",
       "  </tbody>\n",
       "</table>\n",
       "</div>"
      ],
      "text/plain": [
       "   domain-name domain-description_x  \\\n",
       "4      PF00487                  NaN   \n",
       "5      PF04969                  NaN   \n",
       "6      PF00443                  NaN   \n",
       "7      PF00789                  NaN   \n",
       "8      PF04084                  NaN   \n",
       "9      PF05179                  NaN   \n",
       "10     PF05179                  NaN   \n",
       "11     PF04912                  NaN   \n",
       "12     PF03097                  NaN   \n",
       "13     PF00067                  NaN   \n",
       "14     PF03943                  NaN   \n",
       "15     PF00730                  NaN   \n",
       "16     PF02812                  NaN   \n",
       "17     PF03343                  NaN   \n",
       "18     PF01111                  NaN   \n",
       "19     PF01399                  NaN   \n",
       "20     PF03372                  NaN   \n",
       "21     PF08624                  NaN   \n",
       "22     PF00134                  NaN   \n",
       "23     PF04857                  NaN   \n",
       "24     PF08512                  NaN   \n",
       "25     PF08690                  NaN   \n",
       "26     PF08690                  NaN   \n",
       "27     PF00646                  NaN   \n",
       "28     PF16891                  NaN   \n",
       "29     PF04121                  NaN   \n",
       "30     PF02453                  NaN   \n",
       "31     PF06293                  NaN   \n",
       "32     PF08217                  NaN   \n",
       "33     PF08217                  NaN   \n",
       "34     PF04062                  NaN   \n",
       "35     PF04062                  NaN   \n",
       "36     PF06479                  NaN   \n",
       "37     PF06479                  NaN   \n",
       "38     PF12894                  NaN   \n",
       "39     PF01900                  NaN   \n",
       "40     PF09295                  NaN   \n",
       "41     PF00180                  NaN   \n",
       "42     PF09770                  NaN   \n",
       "43     PF09798                  NaN   \n",
       "44     PF11488                  NaN   \n",
       "45     PF11488                  NaN   \n",
       "46     PF03126                  NaN   \n",
       "47     PF04421                  NaN   \n",
       "48     PF03966                  NaN   \n",
       "49     PF00238                  NaN   \n",
       "50     PF10232                  NaN   \n",
       "51     PF00237                  NaN   \n",
       "52     PF01214                  NaN   \n",
       "53     PF00735                  NaN   \n",
       "54     PF11124                  NaN   \n",
       "55     PF12271                  NaN   \n",
       "56     PF02146                  NaN   \n",
       "\n",
       "                                 domain-description_y  \n",
       "4   Atg14; UV radiation resistance protein/autopha...  \n",
       "5   MetRS-N; Methionyl-tRNA synthetase, N-terminal...  \n",
       "6   Anticodon_1; Methionyl/Valyl/Leucyl/Isoleucyl-...  \n",
       "7         COPI_C; Coatomer, alpha subunit, C-terminal  \n",
       "8                                             Kelch_3  \n",
       "9           Mob1_phocein; MOB kinase activator family  \n",
       "10          Mob1_phocein; MOB kinase activator family  \n",
       "11               Med4; Mediator complex, subunit Med4  \n",
       "12                                       Glutaredoxin  \n",
       "13                                              AAA_6  \n",
       "14         IGPS; Indole-3-glycerol phosphate synthase  \n",
       "15                   CLASP_N; CLASP N-terminal domain  \n",
       "16  GCV_T_C; Glycine cleavage T-protein, C-termina...  \n",
       "17                                                HAD  \n",
       "18        Coa1; Cytochrome oxidase assembly protein 1  \n",
       "19  DNA_pol_B; DNA-directed DNA polymerase, family...  \n",
       "20  HCO3_cotransp; Bicarbonate transporter, C-term...  \n",
       "21  RIIa; cAMP-dependent protein kinase regulatory...  \n",
       "22                                               AGA2  \n",
       "23             Med16; Mediator complex, subunit Med16  \n",
       "24  Pol_alpha_B_N; DNA polymerase alpha, subunit B...  \n",
       "25      RNA_pol_Rpb2_7; RNA polymerase Rpb2, domain 7  \n",
       "26      RNA_pol_Rpb2_7; RNA polymerase Rpb2, domain 7  \n",
       "27                           CASP_C; CASP, C-terminal  \n",
       "28  tRNA-synt_1c; Glutamyl/glutaminyl-tRNA synthet...  \n",
       "29                LIAS_N; Lipoyl synthase, N-terminal  \n",
       "30                FMO-like; Flavin monooxygenase-like  \n",
       "31  Nse4-Nse3_bdg; Nse4/EID protein, Nse3/MAGE-bin...  \n",
       "32            PYC_OADA; Carboxylase, conserved domain  \n",
       "33            PYC_OADA; Carboxylase, conserved domain  \n",
       "34                    KH_2; K Homology domain, type 2  \n",
       "35                    KH_2; K Homology domain, type 2  \n",
       "36      ORC5_C; Origin recognition complex, subunit 5  \n",
       "37      ORC5_C; Origin recognition complex, subunit 5  \n",
       "38                               TEA; TEA/ATTS domain  \n",
       "39                     Dynamin_N; Dynamin superfamily  \n",
       "40        Rad52_Rad22; DNA repair protein Rad52/59/22  \n",
       "41  ANAPC4; Anaphase-promoting complex subunit 4 l...  \n",
       "42  Ribosomal_L18A; Ribosomal protein 50S-L18Ae/60...  \n",
       "43     Ribosomal_L24e; Ribosomal protein L24e-related  \n",
       "44                               SPT2; Chromatin SPT2  \n",
       "45                               SPT2; Chromatin SPT2  \n",
       "46      Glyco_hydro_31; Glycoside hydrolase family 31  \n",
       "47                                         MAP65_ASE1  \n",
       "48              INSIG; Insulin-induced protein family  \n",
       "49  ATG7_N; Ubiquitin-like modifier-activating enz...  \n",
       "50               Ribosomal_S11; Ribosomal protein S11  \n",
       "51    ATG2_CAD; Autophagy-related protein 2 CAD motif  \n",
       "52                  DAO; FAD dependent oxidoreductase  \n",
       "53  CLP1_P; Polyribonucleotide 5&apos;-hydroxyl-ki...  \n",
       "54  SNO; Pyridoxal 5&apos;-phosphate synthase subu...  \n",
       "55                 Sgf11; SAGA complex, Sgf11 subunit  \n",
       "56  ETF; Electron transfer flavoprotein, alpha/bet...  "
      ]
     },
     "execution_count": 30,
     "metadata": {},
     "output_type": "execute_result"
    }
   ],
   "source": [
    "only_nsl_pd=pd.merge(repeated_features_sl,repeated_features_nsl,how='right',on=['domain-name'])\n",
    "data_only_nsl = only_nsl_pd[pd.isnull(only_nsl_pd['domain-description_x'])]\n",
    "data_only_nsl"
   ]
  },
  {
   "cell_type": "code",
   "execution_count": 31,
   "metadata": {
    "execution": {
     "iopub.execute_input": "2020-07-24T02:26:19.514447Z",
     "iopub.status.busy": "2020-07-24T02:26:19.513999Z",
     "iopub.status.idle": "2020-07-24T02:26:19.518298Z",
     "shell.execute_reply": "2020-07-24T02:26:19.518647Z"
    }
   },
   "outputs": [
    {
     "data": {
      "text/html": [
       "<div>\n",
       "<style scoped>\n",
       "    .dataframe tbody tr th:only-of-type {\n",
       "        vertical-align: middle;\n",
       "    }\n",
       "\n",
       "    .dataframe tbody tr th {\n",
       "        vertical-align: top;\n",
       "    }\n",
       "\n",
       "    .dataframe thead th {\n",
       "        text-align: right;\n",
       "    }\n",
       "</style>\n",
       "<table border=\"1\" class=\"dataframe\">\n",
       "  <thead>\n",
       "    <tr style=\"text-align: right;\">\n",
       "      <th></th>\n",
       "      <th>domain-name</th>\n",
       "      <th>domain-description_x</th>\n",
       "      <th>domain-description_y</th>\n",
       "    </tr>\n",
       "  </thead>\n",
       "  <tbody>\n",
       "    <tr>\n",
       "      <th>0</th>\n",
       "      <td>PF00533</td>\n",
       "      <td>BAR_2; BAR domain-containing family</td>\n",
       "      <td>BAR_2; BAR domain-containing family</td>\n",
       "    </tr>\n",
       "    <tr>\n",
       "      <th>1</th>\n",
       "      <td>PF06333</td>\n",
       "      <td>Nsp1_C; Nucleoporin, NSP1-like, C-terminal</td>\n",
       "      <td>Nsp1_C; Nucleoporin, NSP1-like, C-terminal</td>\n",
       "    </tr>\n",
       "    <tr>\n",
       "      <th>2</th>\n",
       "      <td>PF05011</td>\n",
       "      <td>Methyltransf_31; Methyltransferase domain</td>\n",
       "      <td>Methyltransf_31; Methyltransferase domain</td>\n",
       "    </tr>\n",
       "    <tr>\n",
       "      <th>3</th>\n",
       "      <td>PF08700</td>\n",
       "      <td>RNA_pol_Rpc4; DNA-directed RNA polymerase III ...</td>\n",
       "      <td>RNA_pol_Rpc4; DNA-directed RNA polymerase III ...</td>\n",
       "    </tr>\n",
       "  </tbody>\n",
       "</table>\n",
       "</div>"
      ],
      "text/plain": [
       "  domain-name                               domain-description_x  \\\n",
       "0     PF00533                BAR_2; BAR domain-containing family   \n",
       "1     PF06333         Nsp1_C; Nucleoporin, NSP1-like, C-terminal   \n",
       "2     PF05011          Methyltransf_31; Methyltransferase domain   \n",
       "3     PF08700  RNA_pol_Rpc4; DNA-directed RNA polymerase III ...   \n",
       "\n",
       "                                domain-description_y  \n",
       "0                BAR_2; BAR domain-containing family  \n",
       "1         Nsp1_C; Nucleoporin, NSP1-like, C-terminal  \n",
       "2          Methyltransf_31; Methyltransferase domain  \n",
       "3  RNA_pol_Rpc4; DNA-directed RNA polymerase III ...  "
      ]
     },
     "execution_count": 31,
     "metadata": {},
     "output_type": "execute_result"
    }
   ],
   "source": [
    "shared_domains_pd=pd.merge(repeated_features_sl,repeated_features_nsl,how='inner',on=['domain-name'])\n",
    "shared_domains_pd\n"
   ]
  },
  {
   "cell_type": "code",
   "execution_count": 32,
   "metadata": {
    "execution": {
     "iopub.execute_input": "2020-07-24T02:26:19.570483Z",
     "iopub.status.busy": "2020-07-24T02:26:19.570039Z",
     "iopub.status.idle": "2020-07-24T02:26:21.053430Z",
     "shell.execute_reply": "2020-07-24T02:26:21.054093Z"
    }
   },
   "outputs": [
    {
     "data": {
      "text/plain": [
       "(0.0, 0.2)"
      ]
     },
     "execution_count": 32,
     "metadata": {},
     "output_type": "execute_result"
    },
    {
     "data": {
      "image/png": "[encoded data removed]",
      "text/plain": [
       "<Figure size 432x288 with 1 Axes>"
      ]
     },
     "metadata": {
      "filenames": {
       "image/png": "/home/runner/work/jupyter-book/jupyter-book/mini_book/docs/_build/jupyter_execute/prot_domains2lethality-FEATURES-POSTPROCESSING_47_1.png"
      },
      "needs_background": "light"
     },
     "output_type": "display_data"
    }
   ],
   "source": [
    "a_sl=x_sl.iloc[:,np.sort(df_sl.iloc[:,1])]\n",
    "a_sl.describe().loc['mean'].hist(bins=8),\n",
    "a_sl.describe().loc['std'].hist(bins=8,alpha=0.4)\n",
    "plt.xlim([0,0.2])"
   ]
  },
  {
   "cell_type": "code",
   "execution_count": 33,
   "metadata": {
    "execution": {
     "iopub.execute_input": "2020-07-24T02:26:21.070455Z",
     "iopub.status.busy": "2020-07-24T02:26:21.063175Z",
     "iopub.status.idle": "2020-07-24T02:26:22.524498Z",
     "shell.execute_reply": "2020-07-24T02:26:22.524082Z"
    }
   },
   "outputs": [
    {
     "data": {
      "text/plain": [
       "(0.0, 0.2)"
      ]
     },
     "execution_count": 33,
     "metadata": {},
     "output_type": "execute_result"
    },
    {
     "data": {
      "image/png": "[encoded data removed]",
      "text/plain": [
       "<Figure size 432x288 with 1 Axes>"
      ]
     },
     "metadata": {
      "filenames": {
       "image/png": "/home/runner/work/jupyter-book/jupyter-book/mini_book/docs/_build/jupyter_execute/prot_domains2lethality-FEATURES-POSTPROCESSING_48_1.png"
      },
      "needs_background": "light"
     },
     "output_type": "display_data"
    }
   ],
   "source": [
    "a_nsl=x_nsl.iloc[:,np.sort(df_nsl.iloc[:,1])]\n",
    "a_nsl.describe().loc['mean'].hist(bins=8),\n",
    "a_nsl.describe().loc['std'].hist(bins=8,alpha=0.4)\n",
    "plt.xlim([0,0.2])"
   ]
  },
  {
   "cell_type": "markdown",
   "metadata": {},
   "source": [
    "### Proof of concept with *BEM1*\n",
    "\n",
    "- Gather the domains of SL and nSL pairs from BEM1\n",
    "- Check if the domains for the SL and nSL pairs are inside the most important domains after PCA."
   ]
  },
  {
   "cell_type": "code",
   "execution_count": 34,
   "metadata": {
    "execution": {
     "iopub.execute_input": "2020-07-24T02:26:22.530813Z",
     "iopub.status.busy": "2020-07-24T02:26:22.530360Z",
     "iopub.status.idle": "2020-07-24T02:26:22.533287Z",
     "shell.execute_reply": "2020-07-24T02:26:22.533949Z"
    }
   },
   "outputs": [],
   "source": [
    "domains_bem1=data_domains[data_domains['name']=='BEM1']['domain-descrip']\n",
    "sl_bem1=data_sl[data_sl['gene-query-name']=='BEM1']['gene-target-name']"
   ]
  },
  {
   "cell_type": "code",
   "execution_count": 35,
   "metadata": {
    "execution": {
     "iopub.execute_input": "2020-07-24T02:26:22.537936Z",
     "iopub.status.busy": "2020-07-24T02:26:22.537382Z",
     "iopub.status.idle": "2020-07-24T02:26:22.542867Z",
     "shell.execute_reply": "2020-07-24T02:26:22.542487Z"
    }
   },
   "outputs": [
    {
     "data": {
      "text/plain": [
       "2846      BEM2\n",
       "2847     CDC24\n",
       "5004      MSB1\n",
       "13777     SMI1\n",
       "13778     BNI1\n",
       "13779     BEM2\n",
       "14385     SKN7\n",
       "Name: gene-target-name, dtype: object"
      ]
     },
     "execution_count": 35,
     "metadata": {},
     "output_type": "execute_result"
    }
   ],
   "source": [
    "sl_bem1"
   ]
  },
  {
   "cell_type": "code",
   "execution_count": 36,
   "metadata": {
    "execution": {
     "iopub.execute_input": "2020-07-24T02:26:22.554965Z",
     "iopub.status.busy": "2020-07-24T02:26:22.554515Z",
     "iopub.status.idle": "2020-07-24T02:26:22.560200Z",
     "shell.execute_reply": "2020-07-24T02:26:22.559451Z"
    }
   },
   "outputs": [
    {
     "data": {
      "text/html": [
       "<div>\n",
       "<style scoped>\n",
       "    .dataframe tbody tr th:only-of-type {\n",
       "        vertical-align: middle;\n",
       "    }\n",
       "\n",
       "    .dataframe tbody tr th {\n",
       "        vertical-align: top;\n",
       "    }\n",
       "\n",
       "    .dataframe thead th {\n",
       "        text-align: right;\n",
       "    }\n",
       "</style>\n",
       "<table border=\"1\" class=\"dataframe\">\n",
       "  <thead>\n",
       "    <tr style=\"text-align: right;\">\n",
       "      <th></th>\n",
       "      <th>gene-query</th>\n",
       "      <th>gene-target</th>\n",
       "      <th>gene-query-name</th>\n",
       "      <th>gene-target-name</th>\n",
       "      <th>gene-query-description</th>\n",
       "      <th>gene-target-description</th>\n",
       "      <th>interaction-type</th>\n",
       "      <th>paper-source</th>\n",
       "    </tr>\n",
       "  </thead>\n",
       "  <tbody>\n",
       "    <tr>\n",
       "      <th>2846</th>\n",
       "      <td>YBR200W</td>\n",
       "      <td>YER155C</td>\n",
       "      <td>BEM1</td>\n",
       "      <td>BEM2</td>\n",
       "      <td>SRO1|phosphatidylinositol-3-phosphate-binding ...</td>\n",
       "      <td>IPL2|SUP9|TSL1|L000000168</td>\n",
       "      <td>Synthetic Lethality</td>\n",
       "      <td>Peterson J (1994)</td>\n",
       "    </tr>\n",
       "    <tr>\n",
       "      <th>2847</th>\n",
       "      <td>YBR200W</td>\n",
       "      <td>YAL041W</td>\n",
       "      <td>BEM1</td>\n",
       "      <td>CDC24</td>\n",
       "      <td>SRO1|phosphatidylinositol-3-phosphate-binding ...</td>\n",
       "      <td>CLS4|Rho family guanine nucleotide exchange fa...</td>\n",
       "      <td>Synthetic Lethality</td>\n",
       "      <td>Peterson J (1994)</td>\n",
       "    </tr>\n",
       "    <tr>\n",
       "      <th>5004</th>\n",
       "      <td>YBR200W</td>\n",
       "      <td>YOR188W</td>\n",
       "      <td>BEM1</td>\n",
       "      <td>MSB1</td>\n",
       "      <td>SRO1|phosphatidylinositol-3-phosphate-binding ...</td>\n",
       "      <td>L000001184</td>\n",
       "      <td>Synthetic Lethality</td>\n",
       "      <td>Bender A (1991)</td>\n",
       "    </tr>\n",
       "    <tr>\n",
       "      <th>13777</th>\n",
       "      <td>YBR200W</td>\n",
       "      <td>YGR229C</td>\n",
       "      <td>BEM1</td>\n",
       "      <td>SMI1</td>\n",
       "      <td>SRO1|phosphatidylinositol-3-phosphate-binding ...</td>\n",
       "      <td>KNR4|L000000909</td>\n",
       "      <td>Synthetic Lethality</td>\n",
       "      <td>Gorelik M (2011)</td>\n",
       "    </tr>\n",
       "    <tr>\n",
       "      <th>13778</th>\n",
       "      <td>YBR200W</td>\n",
       "      <td>YNL271C</td>\n",
       "      <td>BEM1</td>\n",
       "      <td>BNI1</td>\n",
       "      <td>SRO1|phosphatidylinositol-3-phosphate-binding ...</td>\n",
       "      <td>PPF3|SHE5|formin BNI1|L000000190</td>\n",
       "      <td>Synthetic Lethality</td>\n",
       "      <td>Gorelik M (2011)</td>\n",
       "    </tr>\n",
       "    <tr>\n",
       "      <th>13779</th>\n",
       "      <td>YBR200W</td>\n",
       "      <td>YER155C</td>\n",
       "      <td>BEM1</td>\n",
       "      <td>BEM2</td>\n",
       "      <td>SRO1|phosphatidylinositol-3-phosphate-binding ...</td>\n",
       "      <td>IPL2|SUP9|TSL1|L000000168</td>\n",
       "      <td>Synthetic Lethality</td>\n",
       "      <td>Gorelik M (2011)</td>\n",
       "    </tr>\n",
       "    <tr>\n",
       "      <th>14385</th>\n",
       "      <td>YBR200W</td>\n",
       "      <td>YHR206W</td>\n",
       "      <td>BEM1</td>\n",
       "      <td>SKN7</td>\n",
       "      <td>SRO1|phosphatidylinositol-3-phosphate-binding ...</td>\n",
       "      <td>BRY1|POS9|kinase-regulated stress-responsive t...</td>\n",
       "      <td>Dosage Lethality</td>\n",
       "      <td>Bouquin N (1999)</td>\n",
       "    </tr>\n",
       "  </tbody>\n",
       "</table>\n",
       "</div>"
      ],
      "text/plain": [
       "      gene-query gene-target gene-query-name gene-target-name  \\\n",
       "2846     YBR200W     YER155C            BEM1             BEM2   \n",
       "2847     YBR200W     YAL041W            BEM1            CDC24   \n",
       "5004     YBR200W     YOR188W            BEM1             MSB1   \n",
       "13777    YBR200W     YGR229C            BEM1             SMI1   \n",
       "13778    YBR200W     YNL271C            BEM1             BNI1   \n",
       "13779    YBR200W     YER155C            BEM1             BEM2   \n",
       "14385    YBR200W     YHR206W            BEM1             SKN7   \n",
       "\n",
       "                                  gene-query-description  \\\n",
       "2846   SRO1|phosphatidylinositol-3-phosphate-binding ...   \n",
       "2847   SRO1|phosphatidylinositol-3-phosphate-binding ...   \n",
       "5004   SRO1|phosphatidylinositol-3-phosphate-binding ...   \n",
       "13777  SRO1|phosphatidylinositol-3-phosphate-binding ...   \n",
       "13778  SRO1|phosphatidylinositol-3-phosphate-binding ...   \n",
       "13779  SRO1|phosphatidylinositol-3-phosphate-binding ...   \n",
       "14385  SRO1|phosphatidylinositol-3-phosphate-binding ...   \n",
       "\n",
       "                                 gene-target-description     interaction-type  \\\n",
       "2846                           IPL2|SUP9|TSL1|L000000168  Synthetic Lethality   \n",
       "2847   CLS4|Rho family guanine nucleotide exchange fa...  Synthetic Lethality   \n",
       "5004                                          L000001184  Synthetic Lethality   \n",
       "13777                                    KNR4|L000000909  Synthetic Lethality   \n",
       "13778                   PPF3|SHE5|formin BNI1|L000000190  Synthetic Lethality   \n",
       "13779                          IPL2|SUP9|TSL1|L000000168  Synthetic Lethality   \n",
       "14385  BRY1|POS9|kinase-regulated stress-responsive t...     Dosage Lethality   \n",
       "\n",
       "            paper-source  \n",
       "2846   Peterson J (1994)  \n",
       "2847   Peterson J (1994)  \n",
       "5004     Bender A (1991)  \n",
       "13777   Gorelik M (2011)  \n",
       "13778   Gorelik M (2011)  \n",
       "13779   Gorelik M (2011)  \n",
       "14385   Bouquin N (1999)  "
      ]
     },
     "execution_count": 36,
     "metadata": {},
     "output_type": "execute_result"
    }
   ],
   "source": [
    "data_sl[data_sl['gene-query-name']=='BEM1']"
   ]
  },
  {
   "cell_type": "code",
   "execution_count": null,
   "metadata": {},
   "outputs": [],
   "source": []
  }
 ],
 "metadata": {
  "jupytext": {
   "text_representation": {
    "extension": ".md",
    "format_name": "myst"
   }
  },
  "kernelspec": {
   "display_name": "Python 3",
   "language": "python",
   "name": "python3"
  },
  "language_info": {
   "codemirror_mode": {
    "name": "ipython",
    "version": 3
   },
   "file_extension": ".py",
   "mimetype": "text/x-python",
   "name": "python",
   "nbconvert_exporter": "python",
   "pygments_lexer": "ipython3",
   "version": "3.7.8"
  },
  "source_map": [
   10,
   18,
   29,
   36,
   57,
   66,
   98,
   101,
   105,
   128,
   131,
   135,
   139,
   145,
   178,
   184,
   188,
   206,
   210,
   218,
   222,
   225,
   229,
   234,
   238,
   244,
   248,
   253,
   257,
   267,
   269,
   273,
   306,
   311,
   313,
   317,
   328,
   330,
   334,
   344,
   348,
   358,
   360,
   364,
   381,
   388,
   394,
   400,
   407,
   412,
   419,
   424,
   428,
   432
  ]
 },
 "nbformat": 4,
 "nbformat_minor": 4
}