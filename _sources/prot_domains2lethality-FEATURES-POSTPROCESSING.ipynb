{
 "cells": [
  {
   "cell_type": "markdown",
   "metadata": {},
   "source": [
    "# Feature postprocessing from paper.\n",
    "- Title:  \"Predicting yeast synthetic lethal genetic interactions using protein domains\"\n",
    "- Authors: Bo Li, Feng Luo,School of Computing,Clemson University,Clemson, SC, USA\n",
    "- e-mail: bol, luofeng@clemson.edu\n",
    "- year:2009"
   ]
  },
  {
   "cell_type": "code",
   "execution_count": 1,
   "metadata": {
    "execution": {
     "iopub.execute_input": "2020-08-14T13:52:14.477080Z",
     "iopub.status.busy": "2020-08-14T13:52:14.476046Z",
     "iopub.status.idle": "2020-08-14T13:52:15.311543Z",
     "shell.execute_reply": "2020-08-14T13:52:15.310380Z"
    }
   },
   "outputs": [],
   "source": [
    "import pandas as pd\n",
    "import numpy as np\n",
    "import matplotlib.pyplot as plt\n",
    "from collections import defaultdict \n",
    "import seaborn as sns\n",
    "import matplotlib.cm as cm\n",
    "import scipy as scipy\n",
    "import random"
   ]
  },
  {
   "cell_type": "markdown",
   "metadata": {
    "jupyter": {
     "source_hidden": true
    }
   },
   "source": [
    "### Importing datasets \n",
    "\n",
    "#### Link to the github repo where the datasets to be downloaded:\n",
    "[DOWNLOAD THE DATASETS HERE](https://github.com/leilaicruz/machine-learning-for-yeast/tree/dev_Leila/datasets-for-learning)"
   ]
  },
  {
   "cell_type": "code",
   "execution_count": 2,
   "metadata": {
    "execution": {
     "iopub.execute_input": "2020-08-14T13:52:15.318110Z",
     "iopub.status.busy": "2020-08-14T13:52:15.317512Z",
     "iopub.status.idle": "2020-08-14T13:52:23.340461Z",
     "shell.execute_reply": "2020-08-14T13:52:23.339783Z"
    }
   },
   "outputs": [],
   "source": [
    "import os\n",
    "script_dir = os.path.dirname('__file__') #<-- absolute dir the script is in\n",
    "rel_path_SL = \"datasets/data-synthetic-lethals.xlsx\"\n",
    "rel_path_nSL=\"datasets/data-positive-genetic.xlsx\"\n",
    "rel_path_domains=\"datasets/proteins-domains-from-Pfam.xlsx\"\n",
    "\n",
    "abs_file_path_SL = os.path.join(script_dir, rel_path_SL)\n",
    "abs_file_path_nSL = os.path.join(script_dir, rel_path_nSL)\n",
    "abs_file_path_domains = os.path.join(script_dir, rel_path_domains)\n",
    "\n",
    "# os.chdir('mini_book/docs/') #<-- for binder os.chdir('../')\n",
    "# os.chdir('../')\n",
    "my_path_sl= abs_file_path_SL\n",
    "my_path_non_sl=abs_file_path_nSL\n",
    "my_path_domains=abs_file_path_domains\n",
    "\n",
    "data_sl=pd.read_excel(my_path_sl,header=0)\n",
    "data_domains=pd.read_excel(my_path_domains,header=0,index_col='Unnamed: 0')\n",
    "data_domains=data_domains.dropna()\n",
    "data_nonsl=pd.read_excel(my_path_non_sl,header=0)"
   ]
  },
  {
   "cell_type": "markdown",
   "metadata": {},
   "source": [
    "## Building the feature matrix\n",
    "One matrix for true SL where each row is one pair of SL. Every raw will be a vector of 0,1 or 2 depending on the comparison with the domain list. For row i the jth element = 0 if the jth element of the domain list is not in neither protein A and B, 1, if it is in one of them and 2 if it is in both of them .\n",
    "\n",
    "### Building the list of proteins domains id per protein pair separately :\n",
    "- List of protein A: Search for the Sl/nSL database the query gene name and look in the protein domain database which protein domains id has each of those queries.\n",
    "- List of protein B: Search for the Sl/nSL database the target gene name of the previous query and look in the protein domain database which protein domains id has each of those target genes."
   ]
  },
  {
   "cell_type": "code",
   "execution_count": 3,
   "metadata": {
    "execution": {
     "iopub.execute_input": "2020-08-14T13:52:24.180069Z",
     "iopub.status.busy": "2020-08-14T13:52:23.616259Z",
     "iopub.status.idle": "2020-08-14T13:52:25.255087Z",
     "shell.execute_reply": "2020-08-14T13:52:25.254576Z"
    }
   },
   "outputs": [],
   "source": [
    "# Selecting the meaningful columns in the respective dataset\n",
    "domain_id_list=data_domains['domain-name']\n",
    "query_gene=data_sl['gene-query-name']\n",
    "target_gene=data_sl['gene-target-name']\n",
    "query_gene_nonlethal=data_nonsl['gene-query-name']\n",
    "target_gene_nonlethal=data_nonsl['gene-target-name']\n",
    "\n",
    "\n",
    "\n",
    "# Initialising the arrays\n",
    "protein_a_list=[]\n",
    "protein_b_list=[]\n",
    "protein_a_list_non=[]\n",
    "protein_b_list_non=[]\n",
    "\n",
    "population = np.arange(0,len(data_sl))\n",
    "\n",
    "# For loop for 10000 pairs sampled randomly from the SL/nSl pair list , and creating a big array of proteind domains id per protein pair\n",
    "\n",
    "for m in random.sample(list(population), 500):\n",
    "    protein_a=data_domains[data_domains['name']==query_gene[m]]\n",
    "    protein_b=data_domains[data_domains['name']==target_gene[m]]\n",
    "    protein_a_list.append(protein_a['domain-name'].tolist())\n",
    "    protein_b_list.append(protein_b['domain-name'].tolist())\n",
    "\n",
    "    protein_a_non=data_domains[data_domains['name']==query_gene_nonlethal[m]]\n",
    "    protein_b_non=data_domains[data_domains['name']==target_gene_nonlethal[m]]\n",
    "    protein_a_list_non.append(protein_a_non['domain-name'].tolist())\n",
    "    protein_b_list_non.append(protein_b_non['domain-name'].tolist())"
   ]
  },
  {
   "cell_type": "code",
   "execution_count": 4,
   "metadata": {
    "execution": {
     "iopub.execute_input": "2020-08-14T13:52:25.259857Z",
     "iopub.status.busy": "2020-08-14T13:52:25.259289Z",
     "iopub.status.idle": "2020-08-14T13:52:25.265203Z",
     "shell.execute_reply": "2020-08-14T13:52:25.264243Z"
    }
   },
   "outputs": [
    {
     "name": "stdout",
     "output_type": "stream",
     "text": [
      "We are going to analyze 500 protein pairs, out of 17871 SL protein pairs\n",
      "We are going to analyze 500 protein pairs, out of 43340 positive protein pairs\n"
     ]
    }
   ],
   "source": [
    "print('We are going to analyze',len((protein_a_list)) ,'protein pairs, out of',len(data_sl),'SL protein pairs')\n",
    "print('We are going to analyze',len((protein_a_list_non)) ,'protein pairs, out of',len(data_nonsl),'positive protein pairs')"
   ]
  },
  {
   "cell_type": "markdown",
   "metadata": {},
   "source": [
    "### Postprocessing #1:  Remove protein pairs from study if either protein in the pair does not contain any domain"
   ]
  },
  {
   "cell_type": "code",
   "execution_count": 5,
   "metadata": {
    "execution": {
     "iopub.execute_input": "2020-08-14T13:52:25.275052Z",
     "iopub.status.busy": "2020-08-14T13:52:25.274469Z",
     "iopub.status.idle": "2020-08-14T13:52:25.278686Z",
     "shell.execute_reply": "2020-08-14T13:52:25.278101Z"
    }
   },
   "outputs": [],
   "source": [
    "def remove_empty_domains(protein_list_search,protein_list_pair):\n",
    "    index=[]\n",
    "    for i in np.arange(0,len(protein_list_search)):\n",
    "        if protein_list_search[i]==[] or protein_list_pair[i]==[]:\n",
    "            index.append(i) ## index of empty values for the protein_a_list meaning they dont have any annotated domain\n",
    "\n",
    "    y=[x for x in np.arange(0,len(protein_list_search)) if x not in index] # a list with non empty values from protein_a list\n",
    "\n",
    "    protein_list_search_new=[]\n",
    "    protein_list_pair_new=[]\n",
    "    for i in y:\n",
    "        protein_list_search_new.append(protein_list_search[i])\n",
    "        protein_list_pair_new.append(protein_list_pair[i])\n",
    "    return protein_list_search_new,protein_list_pair_new\n",
    "\n",
    "## evaluating the function\n",
    "\n",
    "protein_a_list_new,protein_b_list_new=remove_empty_domains(protein_a_list,protein_b_list)\n",
    "\n",
    "protein_a_list_non_new,protein_b_list_non_new=remove_empty_domains(protein_a_list_non,protein_b_list_non)"
   ]
  },
  {
   "cell_type": "code",
   "execution_count": 6,
   "metadata": {
    "execution": {
     "iopub.execute_input": "2020-08-14T13:52:25.283387Z",
     "iopub.status.busy": "2020-08-14T13:52:25.282844Z",
     "iopub.status.idle": "2020-08-14T13:52:25.288986Z",
     "shell.execute_reply": "2020-08-14T13:52:25.288205Z"
    }
   },
   "outputs": [
    {
     "name": "stdout",
     "output_type": "stream",
     "text": [
      "The empty domain in the SL were: 91 out of 500 domains\n",
      "The empty domain in the nSL were: 92 out of 500 domains\n"
     ]
    }
   ],
   "source": [
    "print('The empty domain in the SL were:', len(protein_a_list)-len(protein_a_list_new), 'out of', len(protein_a_list),'domains')\n",
    "print('The empty domain in the nSL were:', len(protein_a_list_non)-len(protein_a_list_non_new), 'out of', len(protein_a_list_non),'domains')"
   ]
  },
  {
   "cell_type": "markdown",
   "metadata": {},
   "source": [
    "### Feature engineering: Select from each ordered indexes of domain id list which of them appear once, in both or in any of the domains of each protein pair"
   ]
  },
  {
   "cell_type": "markdown",
   "metadata": {},
   "source": [
    "#### Define function `get_indexes`"
   ]
  },
  {
   "cell_type": "code",
   "execution_count": 7,
   "metadata": {
    "execution": {
     "iopub.execute_input": "2020-08-14T13:52:25.295933Z",
     "iopub.status.busy": "2020-08-14T13:52:25.295383Z",
     "iopub.status.idle": "2020-08-14T13:52:25.301371Z",
     "shell.execute_reply": "2020-08-14T13:52:25.300881Z"
    }
   },
   "outputs": [
    {
     "data": {
      "text/plain": [
       "[1, 2]"
      ]
     },
     "execution_count": 7,
     "metadata": {},
     "output_type": "execute_result"
    }
   ],
   "source": [
    "get_indexes = lambda x, xs: [i for (y, i) in zip(xs, range(len(xs))) if x == y] # a function that give the index of whether a value appear in array or not\n",
    "a=[1,2,2,4,5,6,7,8,9,10]\n",
    "get_indexes(2,a)"
   ]
  },
  {
   "cell_type": "code",
   "execution_count": 8,
   "metadata": {
    "execution": {
     "iopub.execute_input": "2020-08-14T13:52:25.309743Z",
     "iopub.status.busy": "2020-08-14T13:52:25.309166Z",
     "iopub.status.idle": "2020-08-14T13:52:25.312826Z",
     "shell.execute_reply": "2020-08-14T13:52:25.313285Z"
    }
   },
   "outputs": [],
   "source": [
    "def feature_building(protein_a_list_new,protein_b_list_new):\n",
    "    x = np.unique(domain_id_list)\n",
    "    ## To avoid taking repeated domains from one protein of the pairs , lets reduced the domains of each protein from the pairs to their unique members\n",
    "    protein_a_list_unique=[]\n",
    "    protein_b_list_unique=[]\n",
    "    for i in np.arange(0,len(protein_a_list_new)):\n",
    "        protein_a_list_unique.append(np.unique(protein_a_list_new[i]))\n",
    "        protein_b_list_unique.append(np.unique(protein_b_list_new[i]))\n",
    "        \n",
    "    protein_feat_true=np.zeros(shape=(len(x),len(protein_a_list_unique)))\n",
    "    pair_a_b_array=[]\n",
    "    for i in np.arange(0,len(protein_a_list_unique)):\n",
    "        index_a=[]\n",
    "        \n",
    "        pair=[protein_a_list_unique[i],protein_b_list_unique[i]]\n",
    "        pair_a_b=np.concatenate(pair).ravel()\n",
    "        pair_a_b_array.append(pair_a_b)\n",
    "\n",
    "    j=0\n",
    "    for i in pair_a_b_array:  \n",
    "        array,index,counts=np.unique(i,return_index=True,return_counts=True)\n",
    "        \n",
    "        for k,m in zip(counts,array):\n",
    "            if k ==2:\n",
    "                protein_feat_true[get_indexes(m,x),j]=2\n",
    "                \n",
    "            if k==1:\n",
    "                protein_feat_true[get_indexes(m,x),j]=1\n",
    "        j=j+1\n",
    "    return protein_feat_true"
   ]
  },
  {
   "cell_type": "code",
   "execution_count": 9,
   "metadata": {
    "execution": {
     "iopub.execute_input": "2020-08-14T13:52:25.323125Z",
     "iopub.status.busy": "2020-08-14T13:52:25.322238Z",
     "iopub.status.idle": "2020-08-14T13:52:25.960162Z",
     "shell.execute_reply": "2020-08-14T13:52:25.958866Z"
    }
   },
   "outputs": [],
   "source": [
    "protein_feat_true=feature_building(protein_b_list_new=protein_b_list_new,protein_a_list_new=protein_a_list_new)\n",
    "protein_feat_true_pd=pd.DataFrame(protein_feat_true.T)\n",
    "\n",
    "protein_feat_non_true=feature_building(protein_b_list_new=protein_b_list_non_new,protein_a_list_new=protein_a_list_non_new)\n",
    "protein_feat_non_true_pd=pd.DataFrame(protein_feat_non_true.T)"
   ]
  },
  {
   "cell_type": "markdown",
   "metadata": {},
   "source": [
    "### How many ones and twos are in each dataset"
   ]
  },
  {
   "cell_type": "code",
   "execution_count": 10,
   "metadata": {
    "execution": {
     "iopub.execute_input": "2020-08-14T13:52:25.968670Z",
     "iopub.status.busy": "2020-08-14T13:52:25.967580Z",
     "iopub.status.idle": "2020-08-14T13:52:26.091901Z",
     "shell.execute_reply": "2020-08-14T13:52:26.091402Z"
    }
   },
   "outputs": [
    {
     "name": "stdout",
     "output_type": "stream",
     "text": [
      "fraction of twos in the SL array is 1.4548687587140577e-05\n",
      "fraction of ones in the SL array is 0.0010167916102568249\n",
      "fraction of twos in the PI array is 6.481931615621455e-06\n",
      "fraction of ones in the PI array is 0.000906660184735051\n"
     ]
    }
   ],
   "source": [
    "index_2_true=protein_feat_true_pd.where(protein_feat_true_pd==2)\n",
    "index_2_true_count=index_2_true.count(axis=1).sum()\n",
    "\n",
    "index_1_true=protein_feat_true_pd.where(protein_feat_true_pd==1)\n",
    "index_1_true_count=index_1_true.count(axis=1).sum()\n",
    "\n",
    "index_2_nontrue=protein_feat_non_true_pd.where(protein_feat_non_true_pd==2)\n",
    "index_2_nontrue_count=index_2_nontrue.count(axis=1).sum()\n",
    "\n",
    "index_1_nontrue=protein_feat_non_true_pd.where(protein_feat_non_true_pd==1)\n",
    "index_1_nontrue_count=index_1_nontrue.count(axis=1).sum()\n",
    "\n",
    "\n",
    "print('fraction of twos in the SL array is',index_2_true_count/(len(protein_feat_true_pd.index)*len(protein_feat_true_pd.columns)))\n",
    "print('fraction of ones in the SL array is',index_1_true_count/(len(protein_feat_true_pd.index)*len(protein_feat_true_pd.columns)))\n",
    "print('fraction of twos in the PI array is',index_2_nontrue_count/(len(protein_feat_non_true_pd.index)*len(protein_feat_non_true_pd.columns)))\n",
    "print('fraction of ones in the PI array is',index_1_nontrue_count/(len(protein_feat_non_true_pd.index)*len(protein_feat_non_true_pd.columns)))"
   ]
  },
  {
   "cell_type": "markdown",
   "metadata": {},
   "source": [
    "#### Bar plot to visualize these numbers"
   ]
  },
  {
   "cell_type": "code",
   "execution_count": 11,
   "metadata": {
    "execution": {
     "iopub.execute_input": "2020-08-14T13:52:26.130050Z",
     "iopub.status.busy": "2020-08-14T13:52:26.118116Z",
     "iopub.status.idle": "2020-08-14T13:52:26.569603Z",
     "shell.execute_reply": "2020-08-14T13:52:26.569071Z"
    }
   },
   "outputs": [
    {
     "data": {
      "text/plain": [
       "([0, 1, 2, 3],\n",
       " [Text(0, 0, ''), Text(0, 0, ''), Text(0, 0, ''), Text(0, 0, '')])"
      ]
     },
     "execution_count": 11,
     "metadata": {},
     "output_type": "execute_result"
    },
    {
     "data": {
      "image/png": "[encoded data removed]",
      "text/plain": [
       "<Figure size 432x288 with 1 Axes>"
      ]
     },
     "metadata": {
      "filenames": {
       "image/png": "/home/runner/work/jupyter-book/jupyter-book/mini_book/docs/_build/jupyter_execute/prot_domains2lethality-FEATURES-POSTPROCESSING_18_1.png"
      },
      "needs_background": "light"
     },
     "output_type": "display_data"
    }
   ],
   "source": [
    "plt.bar(['fraction of 2 in the nSL','fraction of 1 in the nSL'],[index_2_nontrue_count/(len(protein_feat_non_true_pd.index)*len(protein_feat_non_true_pd.columns)),index_1_nontrue_count/(len(protein_feat_non_true_pd.index)*len(protein_feat_non_true_pd.columns))],alpha=0.6,color=['blue','lightblue']), \n",
    "\n",
    "plt.bar(['fraction of 2 in SL ','fraction of 1 in SL'],[index_2_true_count/(len(protein_feat_true_pd.index)*len(protein_feat_true_pd.columns)),index_1_true_count/(len(protein_feat_true_pd.index)*len(protein_feat_true_pd.columns))],alpha=0.6,color=['coral','lightcoral'])\n",
    "\n",
    "plt.ylabel('Fraction from the population')\n",
    "plt.yscale('log')\n",
    "plt.xticks(rotation=40)"
   ]
  },
  {
   "cell_type": "markdown",
   "metadata": {},
   "source": [
    "#### Adding the labels(response variables) to each dataset"
   ]
  },
  {
   "cell_type": "code",
   "execution_count": 12,
   "metadata": {
    "execution": {
     "iopub.execute_input": "2020-08-14T13:52:26.576824Z",
     "iopub.status.busy": "2020-08-14T13:52:26.575818Z",
     "iopub.status.idle": "2020-08-14T13:52:26.579615Z",
     "shell.execute_reply": "2020-08-14T13:52:26.579161Z"
    }
   },
   "outputs": [],
   "source": [
    "protein_feat_true_pd['lethality']=np.ones(shape=(len(protein_a_list_new)))\n",
    "protein_feat_non_true_pd['lethality']=np.zeros(shape=(len(protein_a_list_non_new)))"
   ]
  },
  {
   "cell_type": "markdown",
   "metadata": {},
   "source": [
    "#### Joining both datasets"
   ]
  },
  {
   "cell_type": "code",
   "execution_count": 13,
   "metadata": {
    "execution": {
     "iopub.execute_input": "2020-08-14T13:52:26.584648Z",
     "iopub.status.busy": "2020-08-14T13:52:26.583818Z",
     "iopub.status.idle": "2020-08-14T13:52:26.628552Z",
     "shell.execute_reply": "2020-08-14T13:52:26.628984Z"
    }
   },
   "outputs": [
    {
     "name": "stdout",
     "output_type": "stream",
     "text": [
      "The number of features are: 3026\n",
      "The number of samples are: 817\n"
     ]
    }
   ],
   "source": [
    "feature_post=pd.concat([protein_feat_true_pd,protein_feat_non_true_pd],axis=0)\n",
    "feature_post=feature_post.set_index(np.arange(0,len(protein_a_list_new)+len(protein_a_list_non_new)))\n",
    "print('The number of features are:',feature_post.shape[1])\n",
    "print('The number of samples are:',feature_post.shape[0])"
   ]
  },
  {
   "cell_type": "markdown",
   "metadata": {},
   "source": [
    "### Postprocessing and exploration of the feature matrix of both datasets"
   ]
  },
  {
   "cell_type": "code",
   "execution_count": 14,
   "metadata": {
    "execution": {
     "iopub.execute_input": "2020-08-14T13:52:26.646891Z",
     "iopub.status.busy": "2020-08-14T13:52:26.635138Z",
     "iopub.status.idle": "2020-08-14T13:52:30.273570Z",
     "shell.execute_reply": "2020-08-14T13:52:30.272632Z"
    }
   },
   "outputs": [],
   "source": [
    "mean=feature_post.T.describe().loc['mean']\n",
    "std=feature_post.T.describe().loc['std']\n",
    "lethality=feature_post['lethality']\n",
    "\n",
    "corr_keys=pd.concat([mean,std,lethality],axis=1)"
   ]
  },
  {
   "cell_type": "markdown",
   "metadata": {},
   "source": [
    "### Viz of the stats"
   ]
  },
  {
   "cell_type": "code",
   "execution_count": 15,
   "metadata": {
    "execution": {
     "iopub.execute_input": "2020-08-14T13:52:30.313040Z",
     "iopub.status.busy": "2020-08-14T13:52:30.291367Z",
     "iopub.status.idle": "2020-08-14T13:52:31.738644Z",
     "shell.execute_reply": "2020-08-14T13:52:31.738173Z"
    }
   },
   "outputs": [
    {
     "data": {
      "text/plain": [
       "Text(0.5, 1.08, 'Pairplot to see data dependencies with Lethality')"
      ]
     },
     "execution_count": 15,
     "metadata": {},
     "output_type": "execute_result"
    },
    {
     "data": {
      "image/png": "[encoded data removed]",
      "text/plain": [
       "<Figure size 412x360 with 6 Axes>"
      ]
     },
     "metadata": {
      "filenames": {
       "image/png": "/home/runner/work/jupyter-book/jupyter-book/mini_book/docs/_build/jupyter_execute/prot_domains2lethality-FEATURES-POSTPROCESSING_26_1.png"
      },
      "needs_background": "light"
     },
     "output_type": "display_data"
    }
   ],
   "source": [
    "pair=sns.pairplot(corr_keys,hue='lethality',diag_kind='kde',kind='reg',palette='colorblind')\n",
    "pair.fig.suptitle('Pairplot to see data dependencies with Lethality',y=1.08)"
   ]
  },
  {
   "cell_type": "code",
   "execution_count": 16,
   "metadata": {
    "execution": {
     "iopub.execute_input": "2020-08-14T13:52:31.750014Z",
     "iopub.status.busy": "2020-08-14T13:52:31.748633Z",
     "iopub.status.idle": "2020-08-14T13:52:31.750632Z",
     "shell.execute_reply": "2020-08-14T13:52:31.751058Z"
    }
   },
   "outputs": [],
   "source": [
    "X, y = feature_post.drop(columns=[\"lethality\"]), feature_post[\"lethality\"]"
   ]
  },
  {
   "cell_type": "code",
   "execution_count": 17,
   "metadata": {
    "execution": {
     "iopub.execute_input": "2020-08-14T13:52:31.755875Z",
     "iopub.status.busy": "2020-08-14T13:52:31.755344Z",
     "iopub.status.idle": "2020-08-14T13:52:31.994176Z",
     "shell.execute_reply": "2020-08-14T13:52:31.993381Z"
    }
   },
   "outputs": [],
   "source": [
    "from sklearn.preprocessing import StandardScaler\n",
    "scaler = StandardScaler()\n",
    "x_sl=protein_feat_true_pd.drop(columns=['lethality'])\n",
    "x_nsl=protein_feat_non_true_pd.drop(columns=['lethality'])\n",
    "\n",
    "X_sl_scaled = scaler.fit_transform(x_sl)\n",
    "X_nsl_scaled = scaler.fit_transform(x_nsl)"
   ]
  },
  {
   "cell_type": "code",
   "execution_count": 18,
   "metadata": {
    "execution": {
     "iopub.execute_input": "2020-08-14T13:52:31.999513Z",
     "iopub.status.busy": "2020-08-14T13:52:31.998946Z",
     "iopub.status.idle": "2020-08-14T13:52:32.001825Z",
     "shell.execute_reply": "2020-08-14T13:52:32.002249Z"
    }
   },
   "outputs": [
    {
     "data": {
      "text/plain": [
       "(409, 3025)"
      ]
     },
     "execution_count": 18,
     "metadata": {},
     "output_type": "execute_result"
    }
   ],
   "source": [
    "np.shape(X_sl_scaled)"
   ]
  },
  {
   "cell_type": "markdown",
   "metadata": {},
   "source": [
    "## How redundant are each of the protein domains?"
   ]
  },
  {
   "cell_type": "code",
   "execution_count": 19,
   "metadata": {
    "execution": {
     "iopub.execute_input": "2020-08-14T13:52:32.010112Z",
     "iopub.status.busy": "2020-08-14T13:52:32.008856Z",
     "iopub.status.idle": "2020-08-14T13:52:32.010735Z",
     "shell.execute_reply": "2020-08-14T13:52:32.011160Z"
    }
   },
   "outputs": [],
   "source": [
    "def PCA_component_contribution(scaled_matrix,original_data):\n",
    "    from sklearn.decomposition import PCA\n",
    "\n",
    "    model = PCA(0.95).fit(scaled_matrix)\n",
    "    ## apply dimensionality reduction to X_train\n",
    "    output_pca = model.transform(scaled_matrix)\n",
    "    \n",
    "    total=sum(model.explained_variance_)\n",
    "\n",
    "\n",
    "   \n",
    "    # number of components , that it will be the number of main axes times the number of original components \n",
    "    n_pcs= model.components_.shape[0] # the amount of non redundant protein domains \n",
    "\n",
    "    # get the index of the most important feature on EACH component\n",
    "    # LIST COMPREHENSION HERE\n",
    "    most_important = [np.abs(model.components_[i]).argmax() for i in range(n_pcs)]\n",
    "\n",
    "    initial_feature_names = original_data.columns\n",
    "    # get the names\n",
    "    most_important_names = [initial_feature_names[most_important[i]] for i in range(n_pcs)]\n",
    "    \n",
    "\n",
    "    # LIST COMPREHENSION HERE AGAIN\n",
    "    dic = {'PC{}'.format(i): most_important_names[i] for i in range(n_pcs)}\n",
    "\n",
    "    # build the dataframe\n",
    "    df = pd.DataFrame(dic.items(),columns=['pca-component','domain-number'])\n",
    "\n",
    "    return df,model.components_"
   ]
  },
  {
   "cell_type": "code",
   "execution_count": 20,
   "metadata": {
    "execution": {
     "iopub.execute_input": "2020-08-14T13:52:32.015236Z",
     "iopub.status.busy": "2020-08-14T13:52:32.014711Z",
     "iopub.status.idle": "2020-08-14T13:52:32.644922Z",
     "shell.execute_reply": "2020-08-14T13:52:32.645755Z"
    }
   },
   "outputs": [],
   "source": [
    "df_sl,components_pca_nsl=PCA_component_contribution(X_nsl_scaled,x_nsl)\n",
    "df_nsl,components_pca_sl=PCA_component_contribution(X_sl_scaled,x_sl)"
   ]
  },
  {
   "cell_type": "code",
   "execution_count": 21,
   "metadata": {
    "execution": {
     "iopub.execute_input": "2020-08-14T13:52:32.649276Z",
     "iopub.status.busy": "2020-08-14T13:52:32.648125Z",
     "iopub.status.idle": "2020-08-14T13:52:32.659628Z",
     "shell.execute_reply": "2020-08-14T13:52:32.660439Z"
    }
   },
   "outputs": [
    {
     "data": {
      "text/html": [
       "<div>\n",
       "<style scoped>\n",
       "    .dataframe tbody tr th:only-of-type {\n",
       "        vertical-align: middle;\n",
       "    }\n",
       "\n",
       "    .dataframe tbody tr th {\n",
       "        vertical-align: top;\n",
       "    }\n",
       "\n",
       "    .dataframe thead th {\n",
       "        text-align: right;\n",
       "    }\n",
       "</style>\n",
       "<table border=\"1\" class=\"dataframe\">\n",
       "  <thead>\n",
       "    <tr style=\"text-align: right;\">\n",
       "      <th></th>\n",
       "      <th>pca-component</th>\n",
       "      <th>domain-number</th>\n",
       "    </tr>\n",
       "  </thead>\n",
       "  <tbody>\n",
       "    <tr>\n",
       "      <th>0</th>\n",
       "      <td>PC0</td>\n",
       "      <td>50</td>\n",
       "    </tr>\n",
       "    <tr>\n",
       "      <th>1</th>\n",
       "      <td>PC1</td>\n",
       "      <td>135</td>\n",
       "    </tr>\n",
       "    <tr>\n",
       "      <th>2</th>\n",
       "      <td>PC2</td>\n",
       "      <td>192</td>\n",
       "    </tr>\n",
       "    <tr>\n",
       "      <th>3</th>\n",
       "      <td>PC3</td>\n",
       "      <td>467</td>\n",
       "    </tr>\n",
       "    <tr>\n",
       "      <th>4</th>\n",
       "      <td>PC4</td>\n",
       "      <td>1519</td>\n",
       "    </tr>\n",
       "  </tbody>\n",
       "</table>\n",
       "</div>"
      ],
      "text/plain": [
       "  pca-component  domain-number\n",
       "0           PC0             50\n",
       "1           PC1            135\n",
       "2           PC2            192\n",
       "3           PC3            467\n",
       "4           PC4           1519"
      ]
     },
     "execution_count": 21,
     "metadata": {},
     "output_type": "execute_result"
    }
   ],
   "source": [
    "df_sl.head()"
   ]
  },
  {
   "cell_type": "markdown",
   "metadata": {},
   "source": [
    "## which are the shared domains between nSL and SL pairs , in the PCA reduced samples"
   ]
  },
  {
   "cell_type": "code",
   "execution_count": 22,
   "metadata": {
    "execution": {
     "iopub.execute_input": "2020-08-14T13:52:32.663833Z",
     "iopub.status.busy": "2020-08-14T13:52:32.662750Z",
     "iopub.status.idle": "2020-08-14T13:52:32.694330Z",
     "shell.execute_reply": "2020-08-14T13:52:32.695115Z"
    }
   },
   "outputs": [
    {
     "data": {
      "text/html": [
       "<div>\n",
       "<style scoped>\n",
       "    .dataframe tbody tr th:only-of-type {\n",
       "        vertical-align: middle;\n",
       "    }\n",
       "\n",
       "    .dataframe tbody tr th {\n",
       "        vertical-align: top;\n",
       "    }\n",
       "\n",
       "    .dataframe thead th {\n",
       "        text-align: right;\n",
       "    }\n",
       "</style>\n",
       "<table border=\"1\" class=\"dataframe\">\n",
       "  <thead>\n",
       "    <tr style=\"text-align: right;\">\n",
       "      <th></th>\n",
       "      <th>pca-component_x</th>\n",
       "      <th>domain-number</th>\n",
       "      <th>pca-component_y</th>\n",
       "      <th>domain-description</th>\n",
       "    </tr>\n",
       "  </thead>\n",
       "  <tbody>\n",
       "    <tr>\n",
       "      <th>0</th>\n",
       "      <td>PC8</td>\n",
       "      <td>625</td>\n",
       "      <td>PC94</td>\n",
       "      <td>DRE2_N; Fe-S cluster assembly protein Dre2, N-...</td>\n",
       "    </tr>\n",
       "    <tr>\n",
       "      <th>1</th>\n",
       "      <td>PC11</td>\n",
       "      <td>302</td>\n",
       "      <td>PC15</td>\n",
       "      <td>Brix; Brix domain</td>\n",
       "    </tr>\n",
       "    <tr>\n",
       "      <th>2</th>\n",
       "      <td>PC14</td>\n",
       "      <td>3</td>\n",
       "      <td>PC7</td>\n",
       "      <td>2-Hacid_dh_C; D-isomer specific 2-hydroxyacid ...</td>\n",
       "    </tr>\n",
       "    <tr>\n",
       "      <th>3</th>\n",
       "      <td>PC18</td>\n",
       "      <td>2875</td>\n",
       "      <td>PC13</td>\n",
       "      <td>YchF-GTPase_C; Domain of unknown function DUF933</td>\n",
       "    </tr>\n",
       "    <tr>\n",
       "      <th>4</th>\n",
       "      <td>PC20</td>\n",
       "      <td>832</td>\n",
       "      <td>PC21</td>\n",
       "      <td>Ecl1; Life-span regulatory factor</td>\n",
       "    </tr>\n",
       "    <tr>\n",
       "      <th>...</th>\n",
       "      <td>...</td>\n",
       "      <td>...</td>\n",
       "      <td>...</td>\n",
       "      <td>...</td>\n",
       "    </tr>\n",
       "    <tr>\n",
       "      <th>62</th>\n",
       "      <td>PC255</td>\n",
       "      <td>1418</td>\n",
       "      <td>PC194</td>\n",
       "      <td>Mak16; Mak16 protein</td>\n",
       "    </tr>\n",
       "    <tr>\n",
       "      <th>63</th>\n",
       "      <td>PC255</td>\n",
       "      <td>1418</td>\n",
       "      <td>PC195</td>\n",
       "      <td>Mak16; Mak16 protein</td>\n",
       "    </tr>\n",
       "    <tr>\n",
       "      <th>64</th>\n",
       "      <td>PC269</td>\n",
       "      <td>118</td>\n",
       "      <td>PC116</td>\n",
       "      <td>ATP-grasp; ATP-grasp fold, ATP-dependent carbo...</td>\n",
       "    </tr>\n",
       "    <tr>\n",
       "      <th>65</th>\n",
       "      <td>PC269</td>\n",
       "      <td>118</td>\n",
       "      <td>PC117</td>\n",
       "      <td>ATP-grasp; ATP-grasp fold, ATP-dependent carbo...</td>\n",
       "    </tr>\n",
       "    <tr>\n",
       "      <th>66</th>\n",
       "      <td>PC271</td>\n",
       "      <td>1362</td>\n",
       "      <td>PC67</td>\n",
       "      <td>MDM31_MDM32; Mitochondrial distribution and mo...</td>\n",
       "    </tr>\n",
       "  </tbody>\n",
       "</table>\n",
       "<p>67 rows × 4 columns</p>\n",
       "</div>"
      ],
      "text/plain": [
       "   pca-component_x  domain-number pca-component_y  \\\n",
       "0              PC8            625            PC94   \n",
       "1             PC11            302            PC15   \n",
       "2             PC14              3             PC7   \n",
       "3             PC18           2875            PC13   \n",
       "4             PC20            832            PC21   \n",
       "..             ...            ...             ...   \n",
       "62           PC255           1418           PC194   \n",
       "63           PC255           1418           PC195   \n",
       "64           PC269            118           PC116   \n",
       "65           PC269            118           PC117   \n",
       "66           PC271           1362            PC67   \n",
       "\n",
       "                                   domain-description  \n",
       "0   DRE2_N; Fe-S cluster assembly protein Dre2, N-...  \n",
       "1                                   Brix; Brix domain  \n",
       "2   2-Hacid_dh_C; D-isomer specific 2-hydroxyacid ...  \n",
       "3    YchF-GTPase_C; Domain of unknown function DUF933  \n",
       "4                   Ecl1; Life-span regulatory factor  \n",
       "..                                                ...  \n",
       "62                               Mak16; Mak16 protein  \n",
       "63                               Mak16; Mak16 protein  \n",
       "64  ATP-grasp; ATP-grasp fold, ATP-dependent carbo...  \n",
       "65  ATP-grasp; ATP-grasp fold, ATP-dependent carbo...  \n",
       "66  MDM31_MDM32; Mitochondrial distribution and mo...  \n",
       "\n",
       "[67 rows x 4 columns]"
      ]
     },
     "execution_count": 22,
     "metadata": {},
     "output_type": "execute_result"
    }
   ],
   "source": [
    "df_shared_domains=pd.merge(df_sl,df_nsl,how='inner',on='domain-number')\n",
    "domains_name=np.unique(data_domains['domain-name'])\n",
    "domains_description=np.unique(data_domains['domain-descrip'])\n",
    "\n",
    "df_shared_domains['domain-description']=domains_description[df_shared_domains['domain-number']]\n",
    "\n",
    "\n",
    "df_shared_domains"
   ]
  },
  {
   "cell_type": "code",
   "execution_count": 23,
   "metadata": {
    "execution": {
     "iopub.execute_input": "2020-08-14T13:52:32.698644Z",
     "iopub.status.busy": "2020-08-14T13:52:32.697509Z",
     "iopub.status.idle": "2020-08-14T13:52:32.704853Z",
     "shell.execute_reply": "2020-08-14T13:52:32.705605Z"
    }
   },
   "outputs": [
    {
     "name": "stdout",
     "output_type": "stream",
     "text": [
      "The number of shared domains between SL and nSL pairs,after PCA, is =  67 out of 554 so the 12.093862815884476 %\n"
     ]
    }
   ],
   "source": [
    "print('The number of shared domains between SL and nSL pairs,after PCA, is = ',len(df_shared_domains), 'out of', len(df_sl)+len(df_nsl), 'so the',100*len(df_shared_domains)/(len(df_sl)+len(df_nsl)),'%')"
   ]
  },
  {
   "cell_type": "markdown",
   "metadata": {},
   "source": [
    "## Domains exclusive to SL"
   ]
  },
  {
   "cell_type": "code",
   "execution_count": 24,
   "metadata": {
    "execution": {
     "iopub.execute_input": "2020-08-14T13:52:32.709024Z",
     "iopub.status.busy": "2020-08-14T13:52:32.707882Z",
     "iopub.status.idle": "2020-08-14T13:52:32.738703Z",
     "shell.execute_reply": "2020-08-14T13:52:32.739450Z"
    }
   },
   "outputs": [
    {
     "data": {
      "text/html": [
       "<div>\n",
       "<style scoped>\n",
       "    .dataframe tbody tr th:only-of-type {\n",
       "        vertical-align: middle;\n",
       "    }\n",
       "\n",
       "    .dataframe tbody tr th {\n",
       "        vertical-align: top;\n",
       "    }\n",
       "\n",
       "    .dataframe thead th {\n",
       "        text-align: right;\n",
       "    }\n",
       "</style>\n",
       "<table border=\"1\" class=\"dataframe\">\n",
       "  <thead>\n",
       "    <tr style=\"text-align: right;\">\n",
       "      <th></th>\n",
       "      <th>pca-component_x</th>\n",
       "      <th>domain-number</th>\n",
       "      <th>pca-component_y</th>\n",
       "      <th>domain-description</th>\n",
       "    </tr>\n",
       "  </thead>\n",
       "  <tbody>\n",
       "    <tr>\n",
       "      <th>0</th>\n",
       "      <td>PC0</td>\n",
       "      <td>50</td>\n",
       "      <td>NaN</td>\n",
       "      <td>ACT_7; GATS-like  ACT domain</td>\n",
       "    </tr>\n",
       "    <tr>\n",
       "      <th>1</th>\n",
       "      <td>PC1</td>\n",
       "      <td>135</td>\n",
       "      <td>NaN</td>\n",
       "      <td>ATP-synt_ab_Xtn; ATPsynthase alpha/beta subuni...</td>\n",
       "    </tr>\n",
       "    <tr>\n",
       "      <th>2</th>\n",
       "      <td>PC2</td>\n",
       "      <td>192</td>\n",
       "      <td>NaN</td>\n",
       "      <td>Alkyl_sulf_C; Alkyl sulfatase, C-terminal</td>\n",
       "    </tr>\n",
       "    <tr>\n",
       "      <th>3</th>\n",
       "      <td>PC3</td>\n",
       "      <td>467</td>\n",
       "      <td>NaN</td>\n",
       "      <td>Choline_transpo; Choline transporter-like</td>\n",
       "    </tr>\n",
       "    <tr>\n",
       "      <th>4</th>\n",
       "      <td>PC4</td>\n",
       "      <td>1519</td>\n",
       "      <td>NaN</td>\n",
       "      <td>Mtc; Tricarboxylate/iron carrier</td>\n",
       "    </tr>\n",
       "    <tr>\n",
       "      <th>...</th>\n",
       "      <td>...</td>\n",
       "      <td>...</td>\n",
       "      <td>...</td>\n",
       "      <td>...</td>\n",
       "    </tr>\n",
       "    <tr>\n",
       "      <th>281</th>\n",
       "      <td>PC270</td>\n",
       "      <td>2651</td>\n",
       "      <td>NaN</td>\n",
       "      <td>Telomere_reg-2; Telomere length regulation pro...</td>\n",
       "    </tr>\n",
       "    <tr>\n",
       "      <th>283</th>\n",
       "      <td>PC272</td>\n",
       "      <td>672</td>\n",
       "      <td>NaN</td>\n",
       "      <td>DUF2370; NEDD4/Bsd2</td>\n",
       "    </tr>\n",
       "    <tr>\n",
       "      <th>284</th>\n",
       "      <td>PC273</td>\n",
       "      <td>645</td>\n",
       "      <td>NaN</td>\n",
       "      <td>DUF1689; Protein of unknown function DUF1689</td>\n",
       "    </tr>\n",
       "    <tr>\n",
       "      <th>285</th>\n",
       "      <td>PC274</td>\n",
       "      <td>96</td>\n",
       "      <td>NaN</td>\n",
       "      <td>APG6; Atg6/Beclin</td>\n",
       "    </tr>\n",
       "    <tr>\n",
       "      <th>286</th>\n",
       "      <td>PC275</td>\n",
       "      <td>685</td>\n",
       "      <td>NaN</td>\n",
       "      <td>DUF2722; Protein of unknown function DUF2722</td>\n",
       "    </tr>\n",
       "  </tbody>\n",
       "</table>\n",
       "<p>220 rows × 4 columns</p>\n",
       "</div>"
      ],
      "text/plain": [
       "    pca-component_x  domain-number pca-component_y  \\\n",
       "0               PC0             50             NaN   \n",
       "1               PC1            135             NaN   \n",
       "2               PC2            192             NaN   \n",
       "3               PC3            467             NaN   \n",
       "4               PC4           1519             NaN   \n",
       "..              ...            ...             ...   \n",
       "281           PC270           2651             NaN   \n",
       "283           PC272            672             NaN   \n",
       "284           PC273            645             NaN   \n",
       "285           PC274             96             NaN   \n",
       "286           PC275            685             NaN   \n",
       "\n",
       "                                    domain-description  \n",
       "0                         ACT_7; GATS-like  ACT domain  \n",
       "1    ATP-synt_ab_Xtn; ATPsynthase alpha/beta subuni...  \n",
       "2            Alkyl_sulf_C; Alkyl sulfatase, C-terminal  \n",
       "3            Choline_transpo; Choline transporter-like  \n",
       "4                     Mtc; Tricarboxylate/iron carrier  \n",
       "..                                                 ...  \n",
       "281  Telomere_reg-2; Telomere length regulation pro...  \n",
       "283                                DUF2370; NEDD4/Bsd2  \n",
       "284       DUF1689; Protein of unknown function DUF1689  \n",
       "285                                  APG6; Atg6/Beclin  \n",
       "286       DUF2722; Protein of unknown function DUF2722  \n",
       "\n",
       "[220 rows x 4 columns]"
      ]
     },
     "execution_count": 24,
     "metadata": {},
     "output_type": "execute_result"
    }
   ],
   "source": [
    "df_sl_exclusive=pd.merge(df_sl,df_nsl,how='left',on='domain-number')\n",
    "\n",
    "domains_name=np.unique(data_domains['domain-name'])\n",
    "domains_description=np.unique(data_domains['domain-descrip'])\n",
    "\n",
    "df_sl_exclusive['domain-description']=domains_description[df_sl_exclusive['domain-number']]\n",
    "df_sl_exclusive[pd.isnull(df_sl_exclusive['pca-component_y'])]"
   ]
  },
  {
   "cell_type": "code",
   "execution_count": 25,
   "metadata": {
    "execution": {
     "iopub.execute_input": "2020-08-14T13:52:32.742989Z",
     "iopub.status.busy": "2020-08-14T13:52:32.741879Z",
     "iopub.status.idle": "2020-08-14T13:52:32.749179Z",
     "shell.execute_reply": "2020-08-14T13:52:32.749980Z"
    }
   },
   "outputs": [
    {
     "name": "stdout",
     "output_type": "stream",
     "text": [
      "The number of exclusive domains from SL pairs, after PCA, is =  287 out of 554 so the 51.805054151624546 %\n"
     ]
    }
   ],
   "source": [
    "print('The number of exclusive domains from SL pairs, after PCA, is = ',len(df_sl_exclusive), 'out of', len(df_sl)+len(df_nsl), 'so the',100*len(df_sl_exclusive)/(len(df_sl)+len(df_nsl)),'%')"
   ]
  },
  {
   "cell_type": "code",
   "execution_count": 26,
   "metadata": {
    "execution": {
     "iopub.execute_input": "2020-08-14T13:52:32.753337Z",
     "iopub.status.busy": "2020-08-14T13:52:32.752227Z",
     "iopub.status.idle": "2020-08-14T13:52:32.784006Z",
     "shell.execute_reply": "2020-08-14T13:52:32.783176Z"
    }
   },
   "outputs": [
    {
     "data": {
      "text/html": [
       "<div>\n",
       "<style scoped>\n",
       "    .dataframe tbody tr th:only-of-type {\n",
       "        vertical-align: middle;\n",
       "    }\n",
       "\n",
       "    .dataframe tbody tr th {\n",
       "        vertical-align: top;\n",
       "    }\n",
       "\n",
       "    .dataframe thead th {\n",
       "        text-align: right;\n",
       "    }\n",
       "</style>\n",
       "<table border=\"1\" class=\"dataframe\">\n",
       "  <thead>\n",
       "    <tr style=\"text-align: right;\">\n",
       "      <th></th>\n",
       "      <th>pca-component_x</th>\n",
       "      <th>domain-number</th>\n",
       "      <th>pca-component_y</th>\n",
       "      <th>domain-description</th>\n",
       "    </tr>\n",
       "  </thead>\n",
       "  <tbody>\n",
       "    <tr>\n",
       "      <th>0</th>\n",
       "      <td>NaN</td>\n",
       "      <td>2</td>\n",
       "      <td>PC0</td>\n",
       "      <td>2-Hacid_dh; D-isomer specific 2-hydroxyacid de...</td>\n",
       "    </tr>\n",
       "    <tr>\n",
       "      <th>1</th>\n",
       "      <td>NaN</td>\n",
       "      <td>1811</td>\n",
       "      <td>PC1</td>\n",
       "      <td>PRAI; N-(5&amp;apos;phosphoribosyl) anthranilate i...</td>\n",
       "    </tr>\n",
       "    <tr>\n",
       "      <th>2</th>\n",
       "      <td>NaN</td>\n",
       "      <td>858</td>\n",
       "      <td>PC2</td>\n",
       "      <td>F420_oxidored; Pyrroline-5-carboxylate reducta...</td>\n",
       "    </tr>\n",
       "    <tr>\n",
       "      <th>3</th>\n",
       "      <td>NaN</td>\n",
       "      <td>2771</td>\n",
       "      <td>PC3</td>\n",
       "      <td>Ubiq-assoc; Ubiquitin-associated domain, SWA2-...</td>\n",
       "    </tr>\n",
       "    <tr>\n",
       "      <th>4</th>\n",
       "      <td>NaN</td>\n",
       "      <td>2113</td>\n",
       "      <td>PC4</td>\n",
       "      <td>Rav1p_C; RAVE complex protein Rav1 C-terminal</td>\n",
       "    </tr>\n",
       "    <tr>\n",
       "      <th>...</th>\n",
       "      <td>...</td>\n",
       "      <td>...</td>\n",
       "      <td>...</td>\n",
       "      <td>...</td>\n",
       "    </tr>\n",
       "    <tr>\n",
       "      <th>287</th>\n",
       "      <td>NaN</td>\n",
       "      <td>1416</td>\n",
       "      <td>PC271</td>\n",
       "      <td>Maf1; Repressor of RNA polymerase III transcri...</td>\n",
       "    </tr>\n",
       "    <tr>\n",
       "      <th>288</th>\n",
       "      <td>NaN</td>\n",
       "      <td>310</td>\n",
       "      <td>PC273</td>\n",
       "      <td>C1_1; Protein kinase C-like, phorbol ester/dia...</td>\n",
       "    </tr>\n",
       "    <tr>\n",
       "      <th>289</th>\n",
       "      <td>NaN</td>\n",
       "      <td>2768</td>\n",
       "      <td>PC274</td>\n",
       "      <td>UbiA; UbiA prenyltransferase family</td>\n",
       "    </tr>\n",
       "    <tr>\n",
       "      <th>290</th>\n",
       "      <td>NaN</td>\n",
       "      <td>867</td>\n",
       "      <td>PC275</td>\n",
       "      <td>FAD_binding_7; Cryptochrome/DNA photolyase, FA...</td>\n",
       "    </tr>\n",
       "    <tr>\n",
       "      <th>291</th>\n",
       "      <td>NaN</td>\n",
       "      <td>1189</td>\n",
       "      <td>PC277</td>\n",
       "      <td>Hydantoinase_A; Hydantoinase/oxoprolinase</td>\n",
       "    </tr>\n",
       "  </tbody>\n",
       "</table>\n",
       "<p>225 rows × 4 columns</p>\n",
       "</div>"
      ],
      "text/plain": [
       "    pca-component_x  domain-number pca-component_y  \\\n",
       "0               NaN              2             PC0   \n",
       "1               NaN           1811             PC1   \n",
       "2               NaN            858             PC2   \n",
       "3               NaN           2771             PC3   \n",
       "4               NaN           2113             PC4   \n",
       "..              ...            ...             ...   \n",
       "287             NaN           1416           PC271   \n",
       "288             NaN            310           PC273   \n",
       "289             NaN           2768           PC274   \n",
       "290             NaN            867           PC275   \n",
       "291             NaN           1189           PC277   \n",
       "\n",
       "                                    domain-description  \n",
       "0    2-Hacid_dh; D-isomer specific 2-hydroxyacid de...  \n",
       "1    PRAI; N-(5&apos;phosphoribosyl) anthranilate i...  \n",
       "2    F420_oxidored; Pyrroline-5-carboxylate reducta...  \n",
       "3    Ubiq-assoc; Ubiquitin-associated domain, SWA2-...  \n",
       "4        Rav1p_C; RAVE complex protein Rav1 C-terminal  \n",
       "..                                                 ...  \n",
       "287  Maf1; Repressor of RNA polymerase III transcri...  \n",
       "288  C1_1; Protein kinase C-like, phorbol ester/dia...  \n",
       "289                UbiA; UbiA prenyltransferase family  \n",
       "290  FAD_binding_7; Cryptochrome/DNA photolyase, FA...  \n",
       "291          Hydantoinase_A; Hydantoinase/oxoprolinase  \n",
       "\n",
       "[225 rows x 4 columns]"
      ]
     },
     "execution_count": 26,
     "metadata": {},
     "output_type": "execute_result"
    }
   ],
   "source": [
    "df_nsl_exclusive=pd.merge(df_sl,df_nsl,how='right',on='domain-number')\n",
    "\n",
    "domains_name=np.unique(data_domains['domain-name'])\n",
    "domains_description=np.unique(data_domains['domain-descrip'])\n",
    "\n",
    "df_nsl_exclusive['domain-description']=domains_description[df_nsl_exclusive['domain-number']]\n",
    "df_nsl_exclusive[pd.isnull(df_nsl_exclusive['pca-component_x'])]"
   ]
  },
  {
   "cell_type": "code",
   "execution_count": 27,
   "metadata": {
    "execution": {
     "iopub.execute_input": "2020-08-14T13:52:32.789751Z",
     "iopub.status.busy": "2020-08-14T13:52:32.787697Z",
     "iopub.status.idle": "2020-08-14T13:52:32.791808Z",
     "shell.execute_reply": "2020-08-14T13:52:32.792235Z"
    }
   },
   "outputs": [
    {
     "name": "stdout",
     "output_type": "stream",
     "text": [
      "The number of exclusive domains from non SL pairs, after PCA, is =  292 out of 554 so the 52.707581227436826 %\n"
     ]
    }
   ],
   "source": [
    "print('The number of exclusive domains from non SL pairs, after PCA, is = ',len(df_nsl_exclusive), 'out of', len(df_sl)+len(df_nsl), 'so the',100*len(df_nsl_exclusive)/(len(df_sl)+len(df_nsl)),'%')"
   ]
  },
  {
   "cell_type": "markdown",
   "metadata": {},
   "source": [
    "## Let see to the domains-number that get repeated after the PCA analysis , and selecting the most explanatory feature by its explained variance."
   ]
  },
  {
   "cell_type": "code",
   "execution_count": 28,
   "metadata": {
    "execution": {
     "iopub.execute_input": "2020-08-14T13:52:32.815681Z",
     "iopub.status.busy": "2020-08-14T13:52:32.814410Z",
     "iopub.status.idle": "2020-08-14T13:52:32.816309Z",
     "shell.execute_reply": "2020-08-14T13:52:32.816765Z"
    }
   },
   "outputs": [],
   "source": [
    "duplicated_features_sl=df_sl[df_sl.iloc[:,1].duplicated()]\n",
    "repeated_features_sl=pd.DataFrame()\n",
    "\n",
    "domains_name=np.unique(data_domains['domain-name'])\n",
    "domains_description=np.unique(data_domains['domain-descrip'])\n",
    "\n",
    "repeated_features_sl['domain-name']=domains_name[duplicated_features_sl.iloc[:,1]] \n",
    "repeated_features_sl['domain-description']=domains_description[duplicated_features_sl.iloc[:,1]]\n",
    "\n",
    "duplicated_features_nsl=df_nsl[df_nsl.iloc[:,1].duplicated()]\n",
    "repeated_features_nsl=pd.DataFrame()\n",
    "\n",
    "repeated_features_nsl['domain-name']=domains_name[duplicated_features_nsl.iloc[:,1]] \n",
    "repeated_features_nsl['domain-description']=domains_description[duplicated_features_nsl.iloc[:,1]]"
   ]
  },
  {
   "cell_type": "code",
   "execution_count": 29,
   "metadata": {
    "execution": {
     "iopub.execute_input": "2020-08-14T13:52:32.827047Z",
     "iopub.status.busy": "2020-08-14T13:52:32.825658Z",
     "iopub.status.idle": "2020-08-14T13:52:32.831430Z",
     "shell.execute_reply": "2020-08-14T13:52:32.831857Z"
    }
   },
   "outputs": [
    {
     "name": "stderr",
     "output_type": "stream",
     "text": [
      "/usr/share/miniconda3/envs/wintest/lib/python3.7/site-packages/ipykernel_launcher.py:3: SettingWithCopyWarning: \n",
      "A value is trying to be set on a copy of a slice from a DataFrame.\n",
      "Try using .loc[row_indexer,col_indexer] = value instead\n",
      "\n",
      "See the caveats in the documentation: https://pandas.pydata.org/pandas-docs/stable/user_guide/indexing.html#returning-a-view-versus-a-copy\n",
      "  This is separate from the ipykernel package so we can avoid doing imports until\n"
     ]
    },
    {
     "data": {
      "text/plain": [
       "((44, 4), (287, 4))"
      ]
     },
     "execution_count": 29,
     "metadata": {},
     "output_type": "execute_result"
    }
   ],
   "source": [
    "only_sl_pd=pd.merge(repeated_features_sl,repeated_features_nsl,how='left',on=['domain-name'])\n",
    "data_only_sl = only_sl_pd[pd.isnull(only_sl_pd['domain-description_y'])]\n",
    "data_only_sl['domain-description']=data_only_sl['domain-description_x']\n",
    "data_only_sl.shape,df_sl_exclusive.shape"
   ]
  },
  {
   "cell_type": "code",
   "execution_count": 30,
   "metadata": {
    "execution": {
     "iopub.execute_input": "2020-08-14T13:52:32.850674Z",
     "iopub.status.busy": "2020-08-14T13:52:32.850070Z",
     "iopub.status.idle": "2020-08-14T13:52:32.853021Z",
     "shell.execute_reply": "2020-08-14T13:52:32.853448Z"
    }
   },
   "outputs": [
    {
     "data": {
      "text/html": [
       "<div>\n",
       "<style scoped>\n",
       "    .dataframe tbody tr th:only-of-type {\n",
       "        vertical-align: middle;\n",
       "    }\n",
       "\n",
       "    .dataframe tbody tr th {\n",
       "        vertical-align: top;\n",
       "    }\n",
       "\n",
       "    .dataframe thead th {\n",
       "        text-align: right;\n",
       "    }\n",
       "</style>\n",
       "<table border=\"1\" class=\"dataframe\">\n",
       "  <thead>\n",
       "    <tr style=\"text-align: right;\">\n",
       "      <th></th>\n",
       "      <th>domain-name</th>\n",
       "      <th>domain-description_x</th>\n",
       "      <th>domain-description_y</th>\n",
       "    </tr>\n",
       "  </thead>\n",
       "  <tbody>\n",
       "    <tr>\n",
       "      <th>0</th>\n",
       "      <td>PF00175</td>\n",
       "      <td>NaN</td>\n",
       "      <td>ANAPC10; APC10/DOC domain</td>\n",
       "    </tr>\n",
       "    <tr>\n",
       "      <th>1</th>\n",
       "      <td>PF03943</td>\n",
       "      <td>NaN</td>\n",
       "      <td>IGPS; Indole-3-glycerol phosphate synthase</td>\n",
       "    </tr>\n",
       "    <tr>\n",
       "      <th>2</th>\n",
       "      <td>PF06733</td>\n",
       "      <td>NaN</td>\n",
       "      <td>Ost5; Oligosaccharyltransferase complex subunit</td>\n",
       "    </tr>\n",
       "    <tr>\n",
       "      <th>3</th>\n",
       "      <td>PF00227</td>\n",
       "      <td>NaN</td>\n",
       "      <td>ATG13; Autophagy-related protein 13</td>\n",
       "    </tr>\n",
       "    <tr>\n",
       "      <th>4</th>\n",
       "      <td>PF06470</td>\n",
       "      <td>NaN</td>\n",
       "      <td>ORC2; Origin recognition complex, subunit 2</td>\n",
       "    </tr>\n",
       "    <tr>\n",
       "      <th>5</th>\n",
       "      <td>PF06470</td>\n",
       "      <td>NaN</td>\n",
       "      <td>ORC2; Origin recognition complex, subunit 2</td>\n",
       "    </tr>\n",
       "    <tr>\n",
       "      <th>6</th>\n",
       "      <td>PF00613</td>\n",
       "      <td>NaN</td>\n",
       "      <td>Biotin_carb_C; Biotin carboxylase, C-terminal</td>\n",
       "    </tr>\n",
       "    <tr>\n",
       "      <th>7</th>\n",
       "      <td>PF02204</td>\n",
       "      <td>NaN</td>\n",
       "      <td>Endosulfine; Endosulphine</td>\n",
       "    </tr>\n",
       "    <tr>\n",
       "      <th>8</th>\n",
       "      <td>PF05764</td>\n",
       "      <td>NaN</td>\n",
       "      <td>NPR3; Nitrogen permease regulator 3</td>\n",
       "    </tr>\n",
       "    <tr>\n",
       "      <th>9</th>\n",
       "      <td>PF03372</td>\n",
       "      <td>NaN</td>\n",
       "      <td>HCO3_cotransp; Bicarbonate transporter, C-term...</td>\n",
       "    </tr>\n",
       "    <tr>\n",
       "      <th>10</th>\n",
       "      <td>PF03372</td>\n",
       "      <td>NaN</td>\n",
       "      <td>HCO3_cotransp; Bicarbonate transporter, C-term...</td>\n",
       "    </tr>\n",
       "    <tr>\n",
       "      <th>11</th>\n",
       "      <td>PF00735</td>\n",
       "      <td>NaN</td>\n",
       "      <td>CLP1_P; Polyribonucleotide 5&amp;apos;-hydroxyl-ki...</td>\n",
       "    </tr>\n",
       "    <tr>\n",
       "      <th>12</th>\n",
       "      <td>PF00115</td>\n",
       "      <td>NaN</td>\n",
       "      <td>ACPS; 4&amp;apos;-phosphopantetheinyl transferase ...</td>\n",
       "    </tr>\n",
       "    <tr>\n",
       "      <th>13</th>\n",
       "      <td>PF03126</td>\n",
       "      <td>NaN</td>\n",
       "      <td>Glyco_hydro_31; Glycoside hydrolase family 31</td>\n",
       "    </tr>\n",
       "    <tr>\n",
       "      <th>14</th>\n",
       "      <td>PF00244</td>\n",
       "      <td>NaN</td>\n",
       "      <td>ATP-grasp; ATP-grasp fold, ATP-dependent carbo...</td>\n",
       "    </tr>\n",
       "    <tr>\n",
       "      <th>15</th>\n",
       "      <td>PF03134</td>\n",
       "      <td>NaN</td>\n",
       "      <td>Glyco_hydro_38C; Glycosyl hydrolase family 38,...</td>\n",
       "    </tr>\n",
       "    <tr>\n",
       "      <th>16</th>\n",
       "      <td>PF04889</td>\n",
       "      <td>NaN</td>\n",
       "      <td>Med21; Mediator complex, subunit Med21</td>\n",
       "    </tr>\n",
       "    <tr>\n",
       "      <th>17</th>\n",
       "      <td>PF05843</td>\n",
       "      <td>NaN</td>\n",
       "      <td>Na_Ca_ex; Sodium/calcium exchanger membrane re...</td>\n",
       "    </tr>\n",
       "    <tr>\n",
       "      <th>18</th>\n",
       "      <td>PF05839</td>\n",
       "      <td>NaN</td>\n",
       "      <td>NUP214</td>\n",
       "    </tr>\n",
       "    <tr>\n",
       "      <th>19</th>\n",
       "      <td>PF15619</td>\n",
       "      <td>NaN</td>\n",
       "      <td>Vps55; Vacuolar protein sorting 55</td>\n",
       "    </tr>\n",
       "    <tr>\n",
       "      <th>20</th>\n",
       "      <td>PF04091</td>\n",
       "      <td>NaN</td>\n",
       "      <td>Ketoacyl-synt_C; Beta-ketoacyl synthase, C-ter...</td>\n",
       "    </tr>\n",
       "    <tr>\n",
       "      <th>21</th>\n",
       "      <td>PF16892</td>\n",
       "      <td>NaN</td>\n",
       "      <td>tRNA-synt_1c_C; Glutamyl/glutaminyl-tRNA synth...</td>\n",
       "    </tr>\n",
       "    <tr>\n",
       "      <th>22</th>\n",
       "      <td>PF08238</td>\n",
       "      <td>NaN</td>\n",
       "      <td>Patatin; Patatin-like phospholipase domain</td>\n",
       "    </tr>\n",
       "    <tr>\n",
       "      <th>23</th>\n",
       "      <td>PF00082</td>\n",
       "      <td>NaN</td>\n",
       "      <td>AA_kinase; Aspartate/glutamate/uridylate kinase</td>\n",
       "    </tr>\n",
       "    <tr>\n",
       "      <th>24</th>\n",
       "      <td>PF07569</td>\n",
       "      <td>NaN</td>\n",
       "      <td>PFU; PLAA family ubiquitin binding, PFU</td>\n",
       "    </tr>\n",
       "    <tr>\n",
       "      <th>25</th>\n",
       "      <td>PF10429</td>\n",
       "      <td>NaN</td>\n",
       "      <td>SAPS; SIT4 phosphatase-associated protein family</td>\n",
       "    </tr>\n",
       "    <tr>\n",
       "      <th>26</th>\n",
       "      <td>PF04981</td>\n",
       "      <td>NaN</td>\n",
       "      <td>Metallophos; Calcineurin-like phosphoesterase ...</td>\n",
       "    </tr>\n",
       "    <tr>\n",
       "      <th>28</th>\n",
       "      <td>PF11051</td>\n",
       "      <td>NaN</td>\n",
       "      <td>SNARE_assoc; SNARE associated Golgi protein</td>\n",
       "    </tr>\n",
       "    <tr>\n",
       "      <th>30</th>\n",
       "      <td>PF01494</td>\n",
       "      <td>NaN</td>\n",
       "      <td>DUF1691; Domain of unknown function DUF1691</td>\n",
       "    </tr>\n",
       "    <tr>\n",
       "      <th>31</th>\n",
       "      <td>PF01876</td>\n",
       "      <td>NaN</td>\n",
       "      <td>Dsl1_C; Retrograde transport protein Dsl1, C-t...</td>\n",
       "    </tr>\n",
       "    <tr>\n",
       "      <th>32</th>\n",
       "      <td>PF00831</td>\n",
       "      <td>NaN</td>\n",
       "      <td>COX7a</td>\n",
       "    </tr>\n",
       "    <tr>\n",
       "      <th>33</th>\n",
       "      <td>PF05970</td>\n",
       "      <td>NaN</td>\n",
       "      <td>NifU; NIF system FeS cluster assembly, NifU, C...</td>\n",
       "    </tr>\n",
       "    <tr>\n",
       "      <th>34</th>\n",
       "      <td>PF10452</td>\n",
       "      <td>NaN</td>\n",
       "      <td>SDA1; SDA1 domain</td>\n",
       "    </tr>\n",
       "    <tr>\n",
       "      <th>35</th>\n",
       "      <td>PF04191</td>\n",
       "      <td>NaN</td>\n",
       "      <td>Lgl_C; Lethal giant larvae (Lgl)-like, C-termi...</td>\n",
       "    </tr>\n",
       "    <tr>\n",
       "      <th>36</th>\n",
       "      <td>PF04191</td>\n",
       "      <td>NaN</td>\n",
       "      <td>Lgl_C; Lethal giant larvae (Lgl)-like, C-termi...</td>\n",
       "    </tr>\n",
       "    <tr>\n",
       "      <th>37</th>\n",
       "      <td>PF05129</td>\n",
       "      <td>NaN</td>\n",
       "      <td>MitMem_reg; Rpn11/EIF3F, C-terminal</td>\n",
       "    </tr>\n",
       "    <tr>\n",
       "      <th>38</th>\n",
       "      <td>PF02441</td>\n",
       "      <td>NaN</td>\n",
       "      <td>FMN_dh; FMN-dependent dehydrogenase</td>\n",
       "    </tr>\n",
       "    <tr>\n",
       "      <th>39</th>\n",
       "      <td>PF02115</td>\n",
       "      <td>NaN</td>\n",
       "      <td>ERCC4; ERCC4 domain</td>\n",
       "    </tr>\n",
       "    <tr>\n",
       "      <th>40</th>\n",
       "      <td>PF03637</td>\n",
       "      <td>NaN</td>\n",
       "      <td>HTH_44; Helix-turn-helix DNA-binding domain of...</td>\n",
       "    </tr>\n",
       "    <tr>\n",
       "      <th>41</th>\n",
       "      <td>PF00411</td>\n",
       "      <td>NaN</td>\n",
       "      <td>Aminotran_4; Aminotransferase class IV</td>\n",
       "    </tr>\n",
       "    <tr>\n",
       "      <th>42</th>\n",
       "      <td>PF01245</td>\n",
       "      <td>NaN</td>\n",
       "      <td>DCB; Mon2, dimerisation and cyclophilin-bindin...</td>\n",
       "    </tr>\n",
       "    <tr>\n",
       "      <th>43</th>\n",
       "      <td>PF08729</td>\n",
       "      <td>NaN</td>\n",
       "      <td>RNase_HII; Ribonuclease HII/HIII domain</td>\n",
       "    </tr>\n",
       "    <tr>\n",
       "      <th>44</th>\n",
       "      <td>PF07572</td>\n",
       "      <td>NaN</td>\n",
       "      <td>PGAP1; GPI inositol-deacylase PGAP1-like</td>\n",
       "    </tr>\n",
       "  </tbody>\n",
       "</table>\n",
       "</div>"
      ],
      "text/plain": [
       "   domain-name domain-description_x  \\\n",
       "0      PF00175                  NaN   \n",
       "1      PF03943                  NaN   \n",
       "2      PF06733                  NaN   \n",
       "3      PF00227                  NaN   \n",
       "4      PF06470                  NaN   \n",
       "5      PF06470                  NaN   \n",
       "6      PF00613                  NaN   \n",
       "7      PF02204                  NaN   \n",
       "8      PF05764                  NaN   \n",
       "9      PF03372                  NaN   \n",
       "10     PF03372                  NaN   \n",
       "11     PF00735                  NaN   \n",
       "12     PF00115                  NaN   \n",
       "13     PF03126                  NaN   \n",
       "14     PF00244                  NaN   \n",
       "15     PF03134                  NaN   \n",
       "16     PF04889                  NaN   \n",
       "17     PF05843                  NaN   \n",
       "18     PF05839                  NaN   \n",
       "19     PF15619                  NaN   \n",
       "20     PF04091                  NaN   \n",
       "21     PF16892                  NaN   \n",
       "22     PF08238                  NaN   \n",
       "23     PF00082                  NaN   \n",
       "24     PF07569                  NaN   \n",
       "25     PF10429                  NaN   \n",
       "26     PF04981                  NaN   \n",
       "28     PF11051                  NaN   \n",
       "30     PF01494                  NaN   \n",
       "31     PF01876                  NaN   \n",
       "32     PF00831                  NaN   \n",
       "33     PF05970                  NaN   \n",
       "34     PF10452                  NaN   \n",
       "35     PF04191                  NaN   \n",
       "36     PF04191                  NaN   \n",
       "37     PF05129                  NaN   \n",
       "38     PF02441                  NaN   \n",
       "39     PF02115                  NaN   \n",
       "40     PF03637                  NaN   \n",
       "41     PF00411                  NaN   \n",
       "42     PF01245                  NaN   \n",
       "43     PF08729                  NaN   \n",
       "44     PF07572                  NaN   \n",
       "\n",
       "                                 domain-description_y  \n",
       "0                           ANAPC10; APC10/DOC domain  \n",
       "1          IGPS; Indole-3-glycerol phosphate synthase  \n",
       "2     Ost5; Oligosaccharyltransferase complex subunit  \n",
       "3                 ATG13; Autophagy-related protein 13  \n",
       "4         ORC2; Origin recognition complex, subunit 2  \n",
       "5         ORC2; Origin recognition complex, subunit 2  \n",
       "6       Biotin_carb_C; Biotin carboxylase, C-terminal  \n",
       "7                           Endosulfine; Endosulphine  \n",
       "8                 NPR3; Nitrogen permease regulator 3  \n",
       "9   HCO3_cotransp; Bicarbonate transporter, C-term...  \n",
       "10  HCO3_cotransp; Bicarbonate transporter, C-term...  \n",
       "11  CLP1_P; Polyribonucleotide 5&apos;-hydroxyl-ki...  \n",
       "12  ACPS; 4&apos;-phosphopantetheinyl transferase ...  \n",
       "13      Glyco_hydro_31; Glycoside hydrolase family 31  \n",
       "14  ATP-grasp; ATP-grasp fold, ATP-dependent carbo...  \n",
       "15  Glyco_hydro_38C; Glycosyl hydrolase family 38,...  \n",
       "16             Med21; Mediator complex, subunit Med21  \n",
       "17  Na_Ca_ex; Sodium/calcium exchanger membrane re...  \n",
       "18                                             NUP214  \n",
       "19                 Vps55; Vacuolar protein sorting 55  \n",
       "20  Ketoacyl-synt_C; Beta-ketoacyl synthase, C-ter...  \n",
       "21  tRNA-synt_1c_C; Glutamyl/glutaminyl-tRNA synth...  \n",
       "22         Patatin; Patatin-like phospholipase domain  \n",
       "23    AA_kinase; Aspartate/glutamate/uridylate kinase  \n",
       "24            PFU; PLAA family ubiquitin binding, PFU  \n",
       "25   SAPS; SIT4 phosphatase-associated protein family  \n",
       "26  Metallophos; Calcineurin-like phosphoesterase ...  \n",
       "28        SNARE_assoc; SNARE associated Golgi protein  \n",
       "30        DUF1691; Domain of unknown function DUF1691  \n",
       "31  Dsl1_C; Retrograde transport protein Dsl1, C-t...  \n",
       "32                                              COX7a  \n",
       "33  NifU; NIF system FeS cluster assembly, NifU, C...  \n",
       "34                                  SDA1; SDA1 domain  \n",
       "35  Lgl_C; Lethal giant larvae (Lgl)-like, C-termi...  \n",
       "36  Lgl_C; Lethal giant larvae (Lgl)-like, C-termi...  \n",
       "37                MitMem_reg; Rpn11/EIF3F, C-terminal  \n",
       "38                FMN_dh; FMN-dependent dehydrogenase  \n",
       "39                                ERCC4; ERCC4 domain  \n",
       "40  HTH_44; Helix-turn-helix DNA-binding domain of...  \n",
       "41             Aminotran_4; Aminotransferase class IV  \n",
       "42  DCB; Mon2, dimerisation and cyclophilin-bindin...  \n",
       "43            RNase_HII; Ribonuclease HII/HIII domain  \n",
       "44           PGAP1; GPI inositol-deacylase PGAP1-like  "
      ]
     },
     "execution_count": 30,
     "metadata": {},
     "output_type": "execute_result"
    }
   ],
   "source": [
    "only_nsl_pd=pd.merge(repeated_features_sl,repeated_features_nsl,how='right',on=['domain-name'])\n",
    "data_only_nsl = only_nsl_pd[pd.isnull(only_nsl_pd['domain-description_x'])]\n",
    "data_only_nsl"
   ]
  },
  {
   "cell_type": "code",
   "execution_count": 31,
   "metadata": {
    "execution": {
     "iopub.execute_input": "2020-08-14T13:52:32.866622Z",
     "iopub.status.busy": "2020-08-14T13:52:32.865609Z",
     "iopub.status.idle": "2020-08-14T13:52:32.868475Z",
     "shell.execute_reply": "2020-08-14T13:52:32.868908Z"
    }
   },
   "outputs": [
    {
     "data": {
      "text/html": [
       "<div>\n",
       "<style scoped>\n",
       "    .dataframe tbody tr th:only-of-type {\n",
       "        vertical-align: middle;\n",
       "    }\n",
       "\n",
       "    .dataframe tbody tr th {\n",
       "        vertical-align: top;\n",
       "    }\n",
       "\n",
       "    .dataframe thead th {\n",
       "        text-align: right;\n",
       "    }\n",
       "</style>\n",
       "<table border=\"1\" class=\"dataframe\">\n",
       "  <thead>\n",
       "    <tr style=\"text-align: right;\">\n",
       "      <th></th>\n",
       "      <th>domain-name</th>\n",
       "      <th>domain-description_x</th>\n",
       "      <th>domain-description_y</th>\n",
       "    </tr>\n",
       "  </thead>\n",
       "  <tbody>\n",
       "    <tr>\n",
       "      <th>0</th>\n",
       "      <td>PF10471</td>\n",
       "      <td>SET; SET domain</td>\n",
       "      <td>SET; SET domain</td>\n",
       "    </tr>\n",
       "    <tr>\n",
       "      <th>1</th>\n",
       "      <td>PF04762</td>\n",
       "      <td>Mak16; Mak16 protein</td>\n",
       "      <td>Mak16; Mak16 protein</td>\n",
       "    </tr>\n",
       "  </tbody>\n",
       "</table>\n",
       "</div>"
      ],
      "text/plain": [
       "  domain-name  domain-description_x  domain-description_y\n",
       "0     PF10471       SET; SET domain       SET; SET domain\n",
       "1     PF04762  Mak16; Mak16 protein  Mak16; Mak16 protein"
      ]
     },
     "execution_count": 31,
     "metadata": {},
     "output_type": "execute_result"
    }
   ],
   "source": [
    "shared_domains_pd=pd.merge(repeated_features_sl,repeated_features_nsl,how='inner',on=['domain-name'])\n",
    "shared_domains_pd\n"
   ]
  },
  {
   "cell_type": "code",
   "execution_count": 32,
   "metadata": {
    "execution": {
     "iopub.execute_input": "2020-08-14T13:52:32.880988Z",
     "iopub.status.busy": "2020-08-14T13:52:32.877728Z",
     "iopub.status.idle": "2020-08-14T13:52:34.151380Z",
     "shell.execute_reply": "2020-08-14T13:52:34.150909Z"
    }
   },
   "outputs": [
    {
     "data": {
      "text/plain": [
       "(0.0, 0.2)"
      ]
     },
     "execution_count": 32,
     "metadata": {},
     "output_type": "execute_result"
    },
    {
     "data": {
      "image/png": "[encoded data removed]",
      "text/plain": [
       "<Figure size 432x288 with 1 Axes>"
      ]
     },
     "metadata": {
      "filenames": {
       "image/png": "/home/runner/work/jupyter-book/jupyter-book/mini_book/docs/_build/jupyter_execute/prot_domains2lethality-FEATURES-POSTPROCESSING_47_1.png"
      },
      "needs_background": "light"
     },
     "output_type": "display_data"
    }
   ],
   "source": [
    "a_sl=x_sl.iloc[:,np.sort(df_sl.iloc[:,1])]\n",
    "a_sl.describe().loc['mean'].hist(bins=8),\n",
    "a_sl.describe().loc['std'].hist(bins=8,alpha=0.4)\n",
    "plt.xlim([0,0.2])"
   ]
  },
  {
   "cell_type": "code",
   "execution_count": 33,
   "metadata": {
    "execution": {
     "iopub.execute_input": "2020-08-14T13:52:34.180536Z",
     "iopub.status.busy": "2020-08-14T13:52:34.173019Z",
     "iopub.status.idle": "2020-08-14T13:52:35.502049Z",
     "shell.execute_reply": "2020-08-14T13:52:35.502513Z"
    }
   },
   "outputs": [
    {
     "data": {
      "text/plain": [
       "(0.0, 0.2)"
      ]
     },
     "execution_count": 33,
     "metadata": {},
     "output_type": "execute_result"
    },
    {
     "data": {
      "image/png": "[encoded data removed]",
      "text/plain": [
       "<Figure size 432x288 with 1 Axes>"
      ]
     },
     "metadata": {
      "filenames": {
       "image/png": "/home/runner/work/jupyter-book/jupyter-book/mini_book/docs/_build/jupyter_execute/prot_domains2lethality-FEATURES-POSTPROCESSING_48_1.png"
      },
      "needs_background": "light"
     },
     "output_type": "display_data"
    }
   ],
   "source": [
    "a_nsl=x_nsl.iloc[:,np.sort(df_nsl.iloc[:,1])]\n",
    "a_nsl.describe().loc['mean'].hist(bins=8),\n",
    "a_nsl.describe().loc['std'].hist(bins=8,alpha=0.4)\n",
    "plt.xlim([0,0.2])"
   ]
  },
  {
   "cell_type": "markdown",
   "metadata": {},
   "source": [
    "### Proof of concept with *BEM1*\n",
    "\n",
    "- Gather the domains of SL and nSL pairs from BEM1\n",
    "- Check if the domains for the SL and nSL pairs are inside the most important domains after PCA."
   ]
  },
  {
   "cell_type": "code",
   "execution_count": 34,
   "metadata": {
    "execution": {
     "iopub.execute_input": "2020-08-14T13:52:35.511305Z",
     "iopub.status.busy": "2020-08-14T13:52:35.510738Z",
     "iopub.status.idle": "2020-08-14T13:52:35.514733Z",
     "shell.execute_reply": "2020-08-14T13:52:35.514274Z"
    }
   },
   "outputs": [],
   "source": [
    "domains_bem1=data_domains[data_domains['name']=='BEM1']['domain-descrip']\n",
    "sl_bem1=data_sl[data_sl['gene-query-name']=='BEM1']['gene-target-name']"
   ]
  },
  {
   "cell_type": "code",
   "execution_count": 35,
   "metadata": {
    "execution": {
     "iopub.execute_input": "2020-08-14T13:52:35.520227Z",
     "iopub.status.busy": "2020-08-14T13:52:35.519504Z",
     "iopub.status.idle": "2020-08-14T13:52:35.525083Z",
     "shell.execute_reply": "2020-08-14T13:52:35.524597Z"
    }
   },
   "outputs": [
    {
     "data": {
      "text/plain": [
       "2846      BEM2\n",
       "2847     CDC24\n",
       "5004      MSB1\n",
       "13777     SMI1\n",
       "13778     BNI1\n",
       "13779     BEM2\n",
       "14385     SKN7\n",
       "Name: gene-target-name, dtype: object"
      ]
     },
     "execution_count": 35,
     "metadata": {},
     "output_type": "execute_result"
    }
   ],
   "source": [
    "sl_bem1"
   ]
  },
  {
   "cell_type": "code",
   "execution_count": 36,
   "metadata": {
    "execution": {
     "iopub.execute_input": "2020-08-14T13:52:35.540045Z",
     "iopub.status.busy": "2020-08-14T13:52:35.539487Z",
     "iopub.status.idle": "2020-08-14T13:52:35.545407Z",
     "shell.execute_reply": "2020-08-14T13:52:35.544956Z"
    }
   },
   "outputs": [
    {
     "data": {
      "text/html": [
       "<div>\n",
       "<style scoped>\n",
       "    .dataframe tbody tr th:only-of-type {\n",
       "        vertical-align: middle;\n",
       "    }\n",
       "\n",
       "    .dataframe tbody tr th {\n",
       "        vertical-align: top;\n",
       "    }\n",
       "\n",
       "    .dataframe thead th {\n",
       "        text-align: right;\n",
       "    }\n",
       "</style>\n",
       "<table border=\"1\" class=\"dataframe\">\n",
       "  <thead>\n",
       "    <tr style=\"text-align: right;\">\n",
       "      <th></th>\n",
       "      <th>gene-query</th>\n",
       "      <th>gene-target</th>\n",
       "      <th>gene-query-name</th>\n",
       "      <th>gene-target-name</th>\n",
       "      <th>gene-query-description</th>\n",
       "      <th>gene-target-description</th>\n",
       "      <th>interaction-type</th>\n",
       "      <th>paper-source</th>\n",
       "    </tr>\n",
       "  </thead>\n",
       "  <tbody>\n",
       "    <tr>\n",
       "      <th>2846</th>\n",
       "      <td>YBR200W</td>\n",
       "      <td>YER155C</td>\n",
       "      <td>BEM1</td>\n",
       "      <td>BEM2</td>\n",
       "      <td>SRO1|phosphatidylinositol-3-phosphate-binding ...</td>\n",
       "      <td>IPL2|SUP9|TSL1|L000000168</td>\n",
       "      <td>Synthetic Lethality</td>\n",
       "      <td>Peterson J (1994)</td>\n",
       "    </tr>\n",
       "    <tr>\n",
       "      <th>2847</th>\n",
       "      <td>YBR200W</td>\n",
       "      <td>YAL041W</td>\n",
       "      <td>BEM1</td>\n",
       "      <td>CDC24</td>\n",
       "      <td>SRO1|phosphatidylinositol-3-phosphate-binding ...</td>\n",
       "      <td>CLS4|Rho family guanine nucleotide exchange fa...</td>\n",
       "      <td>Synthetic Lethality</td>\n",
       "      <td>Peterson J (1994)</td>\n",
       "    </tr>\n",
       "    <tr>\n",
       "      <th>5004</th>\n",
       "      <td>YBR200W</td>\n",
       "      <td>YOR188W</td>\n",
       "      <td>BEM1</td>\n",
       "      <td>MSB1</td>\n",
       "      <td>SRO1|phosphatidylinositol-3-phosphate-binding ...</td>\n",
       "      <td>L000001184</td>\n",
       "      <td>Synthetic Lethality</td>\n",
       "      <td>Bender A (1991)</td>\n",
       "    </tr>\n",
       "    <tr>\n",
       "      <th>13777</th>\n",
       "      <td>YBR200W</td>\n",
       "      <td>YGR229C</td>\n",
       "      <td>BEM1</td>\n",
       "      <td>SMI1</td>\n",
       "      <td>SRO1|phosphatidylinositol-3-phosphate-binding ...</td>\n",
       "      <td>KNR4|L000000909</td>\n",
       "      <td>Synthetic Lethality</td>\n",
       "      <td>Gorelik M (2011)</td>\n",
       "    </tr>\n",
       "    <tr>\n",
       "      <th>13778</th>\n",
       "      <td>YBR200W</td>\n",
       "      <td>YNL271C</td>\n",
       "      <td>BEM1</td>\n",
       "      <td>BNI1</td>\n",
       "      <td>SRO1|phosphatidylinositol-3-phosphate-binding ...</td>\n",
       "      <td>PPF3|SHE5|formin BNI1|L000000190</td>\n",
       "      <td>Synthetic Lethality</td>\n",
       "      <td>Gorelik M (2011)</td>\n",
       "    </tr>\n",
       "    <tr>\n",
       "      <th>13779</th>\n",
       "      <td>YBR200W</td>\n",
       "      <td>YER155C</td>\n",
       "      <td>BEM1</td>\n",
       "      <td>BEM2</td>\n",
       "      <td>SRO1|phosphatidylinositol-3-phosphate-binding ...</td>\n",
       "      <td>IPL2|SUP9|TSL1|L000000168</td>\n",
       "      <td>Synthetic Lethality</td>\n",
       "      <td>Gorelik M (2011)</td>\n",
       "    </tr>\n",
       "    <tr>\n",
       "      <th>14385</th>\n",
       "      <td>YBR200W</td>\n",
       "      <td>YHR206W</td>\n",
       "      <td>BEM1</td>\n",
       "      <td>SKN7</td>\n",
       "      <td>SRO1|phosphatidylinositol-3-phosphate-binding ...</td>\n",
       "      <td>BRY1|POS9|kinase-regulated stress-responsive t...</td>\n",
       "      <td>Dosage Lethality</td>\n",
       "      <td>Bouquin N (1999)</td>\n",
       "    </tr>\n",
       "  </tbody>\n",
       "</table>\n",
       "</div>"
      ],
      "text/plain": [
       "      gene-query gene-target gene-query-name gene-target-name  \\\n",
       "2846     YBR200W     YER155C            BEM1             BEM2   \n",
       "2847     YBR200W     YAL041W            BEM1            CDC24   \n",
       "5004     YBR200W     YOR188W            BEM1             MSB1   \n",
       "13777    YBR200W     YGR229C            BEM1             SMI1   \n",
       "13778    YBR200W     YNL271C            BEM1             BNI1   \n",
       "13779    YBR200W     YER155C            BEM1             BEM2   \n",
       "14385    YBR200W     YHR206W            BEM1             SKN7   \n",
       "\n",
       "                                  gene-query-description  \\\n",
       "2846   SRO1|phosphatidylinositol-3-phosphate-binding ...   \n",
       "2847   SRO1|phosphatidylinositol-3-phosphate-binding ...   \n",
       "5004   SRO1|phosphatidylinositol-3-phosphate-binding ...   \n",
       "13777  SRO1|phosphatidylinositol-3-phosphate-binding ...   \n",
       "13778  SRO1|phosphatidylinositol-3-phosphate-binding ...   \n",
       "13779  SRO1|phosphatidylinositol-3-phosphate-binding ...   \n",
       "14385  SRO1|phosphatidylinositol-3-phosphate-binding ...   \n",
       "\n",
       "                                 gene-target-description     interaction-type  \\\n",
       "2846                           IPL2|SUP9|TSL1|L000000168  Synthetic Lethality   \n",
       "2847   CLS4|Rho family guanine nucleotide exchange fa...  Synthetic Lethality   \n",
       "5004                                          L000001184  Synthetic Lethality   \n",
       "13777                                    KNR4|L000000909  Synthetic Lethality   \n",
       "13778                   PPF3|SHE5|formin BNI1|L000000190  Synthetic Lethality   \n",
       "13779                          IPL2|SUP9|TSL1|L000000168  Synthetic Lethality   \n",
       "14385  BRY1|POS9|kinase-regulated stress-responsive t...     Dosage Lethality   \n",
       "\n",
       "            paper-source  \n",
       "2846   Peterson J (1994)  \n",
       "2847   Peterson J (1994)  \n",
       "5004     Bender A (1991)  \n",
       "13777   Gorelik M (2011)  \n",
       "13778   Gorelik M (2011)  \n",
       "13779   Gorelik M (2011)  \n",
       "14385   Bouquin N (1999)  "
      ]
     },
     "execution_count": 36,
     "metadata": {},
     "output_type": "execute_result"
    }
   ],
   "source": [
    "data_sl[data_sl['gene-query-name']=='BEM1']"
   ]
  },
  {
   "cell_type": "code",
   "execution_count": null,
   "metadata": {},
   "outputs": [],
   "source": []
  }
 ],
 "metadata": {
  "jupytext": {
   "text_representation": {
    "extension": ".md",
    "format_name": "myst"
   }
  },
  "kernelspec": {
   "display_name": "Python 3",
   "language": "python",
   "name": "python3"
  },
  "language_info": {
   "codemirror_mode": {
    "name": "ipython",
    "version": 3
   },
   "file_extension": ".py",
   "mimetype": "text/x-python",
   "name": "python",
   "nbconvert_exporter": "python",
   "pygments_lexer": "ipython3",
   "version": "3.7.8"
  },
  "source_map": [
   10,
   18,
   29,
   36,
   57,
   66,
   98,
   101,
   105,
   128,
   131,
   135,
   139,
   145,
   178,
   184,
   188,
   206,
   210,
   218,
   222,
   225,
   229,
   234,
   238,
   244,
   248,
   253,
   257,
   267,
   269,
   273,
   306,
   311,
   313,
   317,
   328,
   330,
   334,
   344,
   348,
   358,
   360,
   364,
   381,
   388,
   394,
   400,
   407,
   412,
   419,
   424,
   428,
   432
  ]
 },
 "nbformat": 4,
 "nbformat_minor": 4
}