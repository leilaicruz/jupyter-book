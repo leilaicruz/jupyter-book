{
 "cells": [
  {
   "cell_type": "markdown",
   "metadata": {},
   "source": [
    "# Feature postprocessing from paper.\n",
    "- Title:  \"Predicting yeast synthetic lethal genetic interactions using protein domains\"\n",
    "- Authors: Bo Li, Feng Luo,School of Computing,Clemson University,Clemson, SC, USA\n",
    "- e-mail: bol, luofeng@clemson.edu\n",
    "- year:2009"
   ]
  },
  {
   "cell_type": "code",
   "execution_count": 1,
   "metadata": {
    "execution": {
     "iopub.execute_input": "2020-07-14T05:03:36.675037Z",
     "iopub.status.busy": "2020-07-14T05:03:36.674465Z",
     "iopub.status.idle": "2020-07-14T05:03:37.316876Z",
     "shell.execute_reply": "2020-07-14T05:03:37.316055Z"
    }
   },
   "outputs": [],
   "source": [
    "import pandas as pd\n",
    "import numpy as np\n",
    "import matplotlib.pyplot as plt\n",
    "from collections import defaultdict \n",
    "import seaborn as sns\n",
    "import matplotlib.cm as cm\n",
    "import scipy as scipy\n",
    "import random"
   ]
  },
  {
   "cell_type": "markdown",
   "metadata": {
    "jupyter": {
     "source_hidden": true
    }
   },
   "source": [
    "### Importing datasets \n",
    "\n",
    "#### Link to the github repo where the datasets to be downloaded:\n",
    "[DOWNLOAD THE DATASETS HERE](https://github.com/leilaicruz/machine-learning-for-yeast/tree/dev_Leila/datasets-for-learning)"
   ]
  },
  {
   "cell_type": "code",
   "execution_count": 2,
   "metadata": {
    "execution": {
     "iopub.execute_input": "2020-07-14T05:03:37.323792Z",
     "iopub.status.busy": "2020-07-14T05:03:37.322408Z",
     "iopub.status.idle": "2020-07-14T05:03:44.054978Z",
     "shell.execute_reply": "2020-07-14T05:03:44.051703Z"
    }
   },
   "outputs": [],
   "source": [
    "import os\n",
    "script_dir = os.path.dirname('__file__') #<-- absolute dir the script is in\n",
    "rel_path_SL = \"datasets/data-synthetic-lethals.xlsx\"\n",
    "rel_path_nSL=\"datasets/data-positive-genetic.xlsx\"\n",
    "rel_path_domains=\"datasets/proteins-domains-from-Pfam.xlsx\"\n",
    "\n",
    "abs_file_path_SL = os.path.join(script_dir, rel_path_SL)\n",
    "abs_file_path_nSL = os.path.join(script_dir, rel_path_nSL)\n",
    "abs_file_path_domains = os.path.join(script_dir, rel_path_domains)\n",
    "\n",
    "# os.chdir('mini_book/docs/') #<-- for binder os.chdir('../')\n",
    "# os.chdir('../')\n",
    "my_path_sl= abs_file_path_SL\n",
    "my_path_non_sl=abs_file_path_nSL\n",
    "my_path_domains=abs_file_path_domains\n",
    "\n",
    "data_sl=pd.read_excel(my_path_sl,header=0)\n",
    "data_domains=pd.read_excel(my_path_domains,header=0,index_col='Unnamed: 0')\n",
    "data_domains=data_domains.dropna()\n",
    "data_nonsl=pd.read_excel(my_path_non_sl,header=0)"
   ]
  },
  {
   "cell_type": "markdown",
   "metadata": {},
   "source": [
    "## Building the feature matrix\n",
    "One matrix for true SL where each row is one pair of SL. Every raw will be a vector of 0,1 or 2 depending on the comparison with the domain list. For row i the jth element = 0 if the jth element of the domain list is not in neither protein A and B, 1, if it is in one of them and 2 if it is in both of them .\n",
    "\n",
    "### Building the list of proteins domains id per protein pair separately :\n",
    "- List of protein A: Search for the Sl/nSL database the query gene name and look in the protein domain database which protein domains id has each of those queries.\n",
    "- List of protein B: Search for the Sl/nSL database the target gene name of the previous query and look in the protein domain database which protein domains id has each of those target genes."
   ]
  },
  {
   "cell_type": "code",
   "execution_count": 3,
   "metadata": {
    "execution": {
     "iopub.execute_input": "2020-07-14T05:03:44.063168Z",
     "iopub.status.busy": "2020-07-14T05:03:44.062640Z",
     "iopub.status.idle": "2020-07-14T05:03:45.984678Z",
     "shell.execute_reply": "2020-07-14T05:03:45.984053Z"
    }
   },
   "outputs": [],
   "source": [
    "# Selecting the meaningful columns in the respective dataset\n",
    "domain_id_list=data_domains['domain-name']\n",
    "query_gene=data_sl['gene-query-name']\n",
    "target_gene=data_sl['gene-target-name']\n",
    "query_gene_nonlethal=data_nonsl['gene-query-name']\n",
    "target_gene_nonlethal=data_nonsl['gene-target-name']\n",
    "\n",
    "\n",
    "\n",
    "# Initialising the arrays\n",
    "protein_a_list=[]\n",
    "protein_b_list=[]\n",
    "protein_a_list_non=[]\n",
    "protein_b_list_non=[]\n",
    "\n",
    "population = np.arange(0,len(data_sl))\n",
    "\n",
    "# For loop for 10000 pairs sampled randomly from the SL/nSl pair list , and creating a big array of proteind domains id per protein pair\n",
    "\n",
    "for m in random.sample(list(population), 500):\n",
    "    protein_a=data_domains[data_domains['name']==query_gene[m]]\n",
    "    protein_b=data_domains[data_domains['name']==target_gene[m]]\n",
    "    protein_a_list.append(protein_a['domain-name'].tolist())\n",
    "    protein_b_list.append(protein_b['domain-name'].tolist())\n",
    "\n",
    "    protein_a_non=data_domains[data_domains['name']==query_gene_nonlethal[m]]\n",
    "    protein_b_non=data_domains[data_domains['name']==target_gene_nonlethal[m]]\n",
    "    protein_a_list_non.append(protein_a_non['domain-name'].tolist())\n",
    "    protein_b_list_non.append(protein_b_non['domain-name'].tolist())"
   ]
  },
  {
   "cell_type": "code",
   "execution_count": 4,
   "metadata": {
    "execution": {
     "iopub.execute_input": "2020-07-14T05:03:45.990629Z",
     "iopub.status.busy": "2020-07-14T05:03:45.989856Z",
     "iopub.status.idle": "2020-07-14T05:03:45.993325Z",
     "shell.execute_reply": "2020-07-14T05:03:45.993687Z"
    }
   },
   "outputs": [
    {
     "name": "stdout",
     "output_type": "stream",
     "text": [
      "We are going to analyze 500 protein pairs, out of 17871 SL protein pairs\n",
      "We are going to analyze 500 protein pairs, out of 43340 positive protein pairs\n"
     ]
    }
   ],
   "source": [
    "print('We are going to analyze',len((protein_a_list)) ,'protein pairs, out of',len(data_sl),'SL protein pairs')\n",
    "print('We are going to analyze',len((protein_a_list_non)) ,'protein pairs, out of',len(data_nonsl),'positive protein pairs')"
   ]
  },
  {
   "cell_type": "markdown",
   "metadata": {},
   "source": [
    "### Postprocessing #1:  Remove protein pairs from study if either protein in the pair does not contain any domain"
   ]
  },
  {
   "cell_type": "code",
   "execution_count": 5,
   "metadata": {
    "execution": {
     "iopub.execute_input": "2020-07-14T05:03:46.005855Z",
     "iopub.status.busy": "2020-07-14T05:03:46.002335Z",
     "iopub.status.idle": "2020-07-14T05:03:46.009147Z",
     "shell.execute_reply": "2020-07-14T05:03:46.008703Z"
    }
   },
   "outputs": [],
   "source": [
    "def remove_empty_domains(protein_list_search,protein_list_pair):\n",
    "    index=[]\n",
    "    for i in np.arange(0,len(protein_list_search)):\n",
    "        if protein_list_search[i]==[] or protein_list_pair[i]==[]:\n",
    "            index.append(i) ## index of empty values for the protein_a_list meaning they dont have any annotated domain\n",
    "\n",
    "    y=[x for x in np.arange(0,len(protein_list_search)) if x not in index] # a list with non empty values from protein_a list\n",
    "\n",
    "    protein_list_search_new=[]\n",
    "    protein_list_pair_new=[]\n",
    "    for i in y:\n",
    "        protein_list_search_new.append(protein_list_search[i])\n",
    "        protein_list_pair_new.append(protein_list_pair[i])\n",
    "    return protein_list_search_new,protein_list_pair_new\n",
    "\n",
    "## evaluating the function\n",
    "\n",
    "protein_a_list_new,protein_b_list_new=remove_empty_domains(protein_a_list,protein_b_list)\n",
    "\n",
    "protein_a_list_non_new,protein_b_list_non_new=remove_empty_domains(protein_a_list_non,protein_b_list_non)"
   ]
  },
  {
   "cell_type": "code",
   "execution_count": 6,
   "metadata": {
    "execution": {
     "iopub.execute_input": "2020-07-14T05:03:46.013090Z",
     "iopub.status.busy": "2020-07-14T05:03:46.012724Z",
     "iopub.status.idle": "2020-07-14T05:03:46.016354Z",
     "shell.execute_reply": "2020-07-14T05:03:46.016634Z"
    }
   },
   "outputs": [
    {
     "name": "stdout",
     "output_type": "stream",
     "text": [
      "The empty domain in the SL were: 65 out of 500 domains\n",
      "The empty domain in the nSL were: 97 out of 500 domains\n"
     ]
    }
   ],
   "source": [
    "print('The empty domain in the SL were:', len(protein_a_list)-len(protein_a_list_new), 'out of', len(protein_a_list),'domains')\n",
    "print('The empty domain in the nSL were:', len(protein_a_list_non)-len(protein_a_list_non_new), 'out of', len(protein_a_list_non),'domains')"
   ]
  },
  {
   "cell_type": "markdown",
   "metadata": {},
   "source": [
    "### Feature engineering: Select from each ordered indexes of domain id list which of them appear once, in both or in any of the domains of each protein pair"
   ]
  },
  {
   "cell_type": "markdown",
   "metadata": {},
   "source": [
    "#### Define function `get_indexes`"
   ]
  },
  {
   "cell_type": "code",
   "execution_count": 7,
   "metadata": {
    "execution": {
     "iopub.execute_input": "2020-07-14T05:03:46.023588Z",
     "iopub.status.busy": "2020-07-14T05:03:46.023053Z",
     "iopub.status.idle": "2020-07-14T05:03:46.025627Z",
     "shell.execute_reply": "2020-07-14T05:03:46.026034Z"
    }
   },
   "outputs": [
    {
     "data": {
      "text/plain": [
       "[1, 2]"
      ]
     },
     "execution_count": 7,
     "metadata": {},
     "output_type": "execute_result"
    }
   ],
   "source": [
    "get_indexes = lambda x, xs: [i for (y, i) in zip(xs, range(len(xs))) if x == y] # a function that give the index of whether a value appear in array or not\n",
    "a=[1,2,2,4,5,6,7,8,9,10]\n",
    "get_indexes(2,a)"
   ]
  },
  {
   "cell_type": "code",
   "execution_count": 8,
   "metadata": {
    "execution": {
     "iopub.execute_input": "2020-07-14T05:03:46.033030Z",
     "iopub.status.busy": "2020-07-14T05:03:46.032351Z",
     "iopub.status.idle": "2020-07-14T05:03:46.036025Z",
     "shell.execute_reply": "2020-07-14T05:03:46.036380Z"
    }
   },
   "outputs": [],
   "source": [
    "def feature_building(protein_a_list_new,protein_b_list_new):\n",
    "    x = np.unique(domain_id_list)\n",
    "    ## To avoid taking repeated domains from one protein of the pairs , lets reduced the domains of each protein from the pairs to their unique members\n",
    "    protein_a_list_unique=[]\n",
    "    protein_b_list_unique=[]\n",
    "    for i in np.arange(0,len(protein_a_list_new)):\n",
    "        protein_a_list_unique.append(np.unique(protein_a_list_new[i]))\n",
    "        protein_b_list_unique.append(np.unique(protein_b_list_new[i]))\n",
    "        \n",
    "    protein_feat_true=np.zeros(shape=(len(x),len(protein_a_list_unique)))\n",
    "    pair_a_b_array=[]\n",
    "    for i in np.arange(0,len(protein_a_list_unique)):\n",
    "        index_a=[]\n",
    "        \n",
    "        pair=[protein_a_list_unique[i],protein_b_list_unique[i]]\n",
    "        pair_a_b=np.concatenate(pair).ravel()\n",
    "        pair_a_b_array.append(pair_a_b)\n",
    "\n",
    "    j=0\n",
    "    for i in pair_a_b_array:  \n",
    "        array,index,counts=np.unique(i,return_index=True,return_counts=True)\n",
    "        \n",
    "        for k,m in zip(counts,array):\n",
    "            if k ==2:\n",
    "                protein_feat_true[get_indexes(m,x),j]=2\n",
    "                \n",
    "            if k==1:\n",
    "                protein_feat_true[get_indexes(m,x),j]=1\n",
    "        j=j+1\n",
    "    return protein_feat_true"
   ]
  },
  {
   "cell_type": "code",
   "execution_count": 9,
   "metadata": {
    "execution": {
     "iopub.execute_input": "2020-07-14T05:03:46.043446Z",
     "iopub.status.busy": "2020-07-14T05:03:46.039738Z",
     "iopub.status.idle": "2020-07-14T05:03:46.594492Z",
     "shell.execute_reply": "2020-07-14T05:03:46.595321Z"
    }
   },
   "outputs": [],
   "source": [
    "protein_feat_true=feature_building(protein_b_list_new=protein_b_list_new,protein_a_list_new=protein_a_list_new)\n",
    "protein_feat_true_pd=pd.DataFrame(protein_feat_true.T)\n",
    "\n",
    "protein_feat_non_true=feature_building(protein_b_list_new=protein_b_list_non_new,protein_a_list_new=protein_a_list_non_new)\n",
    "protein_feat_non_true_pd=pd.DataFrame(protein_feat_non_true.T)"
   ]
  },
  {
   "cell_type": "markdown",
   "metadata": {},
   "source": [
    "### How many ones and twos are in each dataset"
   ]
  },
  {
   "cell_type": "code",
   "execution_count": 10,
   "metadata": {
    "execution": {
     "iopub.execute_input": "2020-07-14T05:03:46.603241Z",
     "iopub.status.busy": "2020-07-14T05:03:46.602362Z",
     "iopub.status.idle": "2020-07-14T05:03:46.696240Z",
     "shell.execute_reply": "2020-07-14T05:03:46.695823Z"
    }
   },
   "outputs": [
    {
     "name": "stdout",
     "output_type": "stream",
     "text": [
      "fraction of twos in the SL array is 2.6598271112377694e-05\n",
      "fraction of ones in the SL array is 0.0009765365251258668\n",
      "fraction of twos in the PI array is 6.562352603408322e-06\n",
      "fraction of ones in the PI array is 0.0009187293644771651\n"
     ]
    }
   ],
   "source": [
    "index_2_true=protein_feat_true_pd.where(protein_feat_true_pd==2)\n",
    "index_2_true_count=index_2_true.count(axis=1).sum()\n",
    "\n",
    "index_1_true=protein_feat_true_pd.where(protein_feat_true_pd==1)\n",
    "index_1_true_count=index_1_true.count(axis=1).sum()\n",
    "\n",
    "index_2_nontrue=protein_feat_non_true_pd.where(protein_feat_non_true_pd==2)\n",
    "index_2_nontrue_count=index_2_nontrue.count(axis=1).sum()\n",
    "\n",
    "index_1_nontrue=protein_feat_non_true_pd.where(protein_feat_non_true_pd==1)\n",
    "index_1_nontrue_count=index_1_nontrue.count(axis=1).sum()\n",
    "\n",
    "\n",
    "print('fraction of twos in the SL array is',index_2_true_count/(len(protein_feat_true_pd.index)*len(protein_feat_true_pd.columns)))\n",
    "print('fraction of ones in the SL array is',index_1_true_count/(len(protein_feat_true_pd.index)*len(protein_feat_true_pd.columns)))\n",
    "print('fraction of twos in the PI array is',index_2_nontrue_count/(len(protein_feat_non_true_pd.index)*len(protein_feat_non_true_pd.columns)))\n",
    "print('fraction of ones in the PI array is',index_1_nontrue_count/(len(protein_feat_non_true_pd.index)*len(protein_feat_non_true_pd.columns)))"
   ]
  },
  {
   "cell_type": "markdown",
   "metadata": {},
   "source": [
    "#### Bar plot to visualize these numbers"
   ]
  },
  {
   "cell_type": "code",
   "execution_count": 11,
   "metadata": {
    "execution": {
     "iopub.execute_input": "2020-07-14T05:03:46.711237Z",
     "iopub.status.busy": "2020-07-14T05:03:46.710237Z",
     "iopub.status.idle": "2020-07-14T05:03:47.011061Z",
     "shell.execute_reply": "2020-07-14T05:03:47.010678Z"
    }
   },
   "outputs": [
    {
     "data": {
      "text/plain": [
       "([0, 1, 2, 3], <a list of 4 Text major ticklabel objects>)"
      ]
     },
     "execution_count": 11,
     "metadata": {},
     "output_type": "execute_result"
    },
    {
     "data": {
      "image/png": "[encoded data removed]",
      "text/plain": [
       "<Figure size 432x288 with 1 Axes>"
      ]
     },
     "metadata": {
      "filenames": {
       "image/png": "/home/runner/work/jupyter-book/jupyter-book/mini_book/docs/_build/jupyter_execute/prot_domains2lethality-FEATURES-POSTPROCESSING_18_1.png"
      },
      "needs_background": "light"
     },
     "output_type": "display_data"
    }
   ],
   "source": [
    "plt.bar(['fraction of 2 in the nSL','fraction of 1 in the nSL'],[index_2_nontrue_count/(len(protein_feat_non_true_pd.index)*len(protein_feat_non_true_pd.columns)),index_1_nontrue_count/(len(protein_feat_non_true_pd.index)*len(protein_feat_non_true_pd.columns))],alpha=0.6,color=['blue','lightblue']), \n",
    "\n",
    "plt.bar(['fraction of 2 in SL ','fraction of 1 in SL'],[index_2_true_count/(len(protein_feat_true_pd.index)*len(protein_feat_true_pd.columns)),index_1_true_count/(len(protein_feat_true_pd.index)*len(protein_feat_true_pd.columns))],alpha=0.6,color=['coral','lightcoral'])\n",
    "\n",
    "plt.ylabel('Fraction from the population')\n",
    "plt.yscale('log')\n",
    "plt.xticks(rotation=40)"
   ]
  },
  {
   "cell_type": "markdown",
   "metadata": {},
   "source": [
    "#### Adding the labels(response variables) to each dataset"
   ]
  },
  {
   "cell_type": "code",
   "execution_count": 12,
   "metadata": {
    "execution": {
     "iopub.execute_input": "2020-07-14T05:03:47.016637Z",
     "iopub.status.busy": "2020-07-14T05:03:47.015336Z",
     "iopub.status.idle": "2020-07-14T05:03:47.019402Z",
     "shell.execute_reply": "2020-07-14T05:03:47.018916Z"
    }
   },
   "outputs": [],
   "source": [
    "protein_feat_true_pd['lethality']=np.ones(shape=(len(protein_a_list_new)))\n",
    "protein_feat_non_true_pd['lethality']=np.zeros(shape=(len(protein_a_list_non_new)))"
   ]
  },
  {
   "cell_type": "markdown",
   "metadata": {},
   "source": [
    "#### Joining both datasets"
   ]
  },
  {
   "cell_type": "code",
   "execution_count": 13,
   "metadata": {
    "execution": {
     "iopub.execute_input": "2020-07-14T05:03:47.024402Z",
     "iopub.status.busy": "2020-07-14T05:03:47.023910Z",
     "iopub.status.idle": "2020-07-14T05:03:47.062107Z",
     "shell.execute_reply": "2020-07-14T05:03:47.061497Z"
    }
   },
   "outputs": [
    {
     "name": "stdout",
     "output_type": "stream",
     "text": [
      "The number of features are: 3026\n",
      "The number of samples are: 838\n"
     ]
    }
   ],
   "source": [
    "feature_post=pd.concat([protein_feat_true_pd,protein_feat_non_true_pd],axis=0)\n",
    "feature_post=feature_post.set_index(np.arange(0,len(protein_a_list_new)+len(protein_a_list_non_new)))\n",
    "print('The number of features are:',feature_post.shape[1])\n",
    "print('The number of samples are:',feature_post.shape[0])"
   ]
  },
  {
   "cell_type": "markdown",
   "metadata": {},
   "source": [
    "### Postprocessing and exploration of the feature matrix of both datasets"
   ]
  },
  {
   "cell_type": "code",
   "execution_count": 14,
   "metadata": {
    "execution": {
     "iopub.execute_input": "2020-07-14T05:03:47.078768Z",
     "iopub.status.busy": "2020-07-14T05:03:47.076425Z",
     "iopub.status.idle": "2020-07-14T05:03:50.661633Z",
     "shell.execute_reply": "2020-07-14T05:03:50.660594Z"
    }
   },
   "outputs": [],
   "source": [
    "mean=feature_post.T.describe().loc['mean']\n",
    "std=feature_post.T.describe().loc['std']\n",
    "lethality=feature_post['lethality']\n",
    "\n",
    "corr_keys=pd.concat([mean,std,lethality],axis=1)"
   ]
  },
  {
   "cell_type": "markdown",
   "metadata": {},
   "source": [
    "### Viz of the stats"
   ]
  },
  {
   "cell_type": "code",
   "execution_count": 15,
   "metadata": {
    "execution": {
     "iopub.execute_input": "2020-07-14T05:03:50.677648Z",
     "iopub.status.busy": "2020-07-14T05:03:50.676544Z",
     "iopub.status.idle": "2020-07-14T05:03:52.035057Z",
     "shell.execute_reply": "2020-07-14T05:03:52.034443Z"
    }
   },
   "outputs": [
    {
     "data": {
      "text/plain": [
       "Text(0.5, 1.08, 'Pairplot to see data dependencies with Lethality')"
      ]
     },
     "execution_count": 15,
     "metadata": {},
     "output_type": "execute_result"
    },
    {
     "data": {
      "image/png": "[encoded data removed]",
      "text/plain": [
       "<Figure size 412x360 with 6 Axes>"
      ]
     },
     "metadata": {
      "filenames": {
       "image/png": "/home/runner/work/jupyter-book/jupyter-book/mini_book/docs/_build/jupyter_execute/prot_domains2lethality-FEATURES-POSTPROCESSING_26_1.png"
      },
      "needs_background": "light"
     },
     "output_type": "display_data"
    }
   ],
   "source": [
    "pair=sns.pairplot(corr_keys,hue='lethality',diag_kind='kde',kind='reg',palette='colorblind')\n",
    "pair.fig.suptitle('Pairplot to see data dependencies with Lethality',y=1.08)"
   ]
  },
  {
   "cell_type": "code",
   "execution_count": 16,
   "metadata": {
    "execution": {
     "iopub.execute_input": "2020-07-14T05:03:52.045772Z",
     "iopub.status.busy": "2020-07-14T05:03:52.044867Z",
     "iopub.status.idle": "2020-07-14T05:03:52.050693Z",
     "shell.execute_reply": "2020-07-14T05:03:52.049585Z"
    }
   },
   "outputs": [],
   "source": [
    "X, y = feature_post.drop(columns=[\"lethality\"]), feature_post[\"lethality\"]"
   ]
  },
  {
   "cell_type": "code",
   "execution_count": 17,
   "metadata": {
    "execution": {
     "iopub.execute_input": "2020-07-14T05:03:52.056784Z",
     "iopub.status.busy": "2020-07-14T05:03:52.056271Z",
     "iopub.status.idle": "2020-07-14T05:03:52.186311Z",
     "shell.execute_reply": "2020-07-14T05:03:52.185895Z"
    }
   },
   "outputs": [],
   "source": [
    "from sklearn.preprocessing import StandardScaler\n",
    "scaler = StandardScaler()\n",
    "x_sl=protein_feat_true_pd.drop(columns=['lethality'])\n",
    "x_nsl=protein_feat_non_true_pd.drop(columns=['lethality'])\n",
    "\n",
    "X_sl_scaled = scaler.fit_transform(x_sl)\n",
    "X_nsl_scaled = scaler.fit_transform(x_nsl)"
   ]
  },
  {
   "cell_type": "code",
   "execution_count": 18,
   "metadata": {
    "execution": {
     "iopub.execute_input": "2020-07-14T05:03:52.192460Z",
     "iopub.status.busy": "2020-07-14T05:03:52.191479Z",
     "iopub.status.idle": "2020-07-14T05:03:52.194451Z",
     "shell.execute_reply": "2020-07-14T05:03:52.194841Z"
    }
   },
   "outputs": [
    {
     "data": {
      "text/plain": [
       "(435, 3025)"
      ]
     },
     "execution_count": 18,
     "metadata": {},
     "output_type": "execute_result"
    }
   ],
   "source": [
    "np.shape(X_sl_scaled)"
   ]
  },
  {
   "cell_type": "markdown",
   "metadata": {},
   "source": [
    "## How redundant are each of the protein domains?"
   ]
  },
  {
   "cell_type": "code",
   "execution_count": 19,
   "metadata": {
    "execution": {
     "iopub.execute_input": "2020-07-14T05:03:52.201943Z",
     "iopub.status.busy": "2020-07-14T05:03:52.201203Z",
     "iopub.status.idle": "2020-07-14T05:03:52.202765Z",
     "shell.execute_reply": "2020-07-14T05:03:52.203085Z"
    }
   },
   "outputs": [],
   "source": [
    "def PCA_component_contribution(scaled_matrix,original_data):\n",
    "    from sklearn.decomposition import PCA\n",
    "\n",
    "    model = PCA(0.95).fit(scaled_matrix)\n",
    "    ## apply dimensionality reduction to X_train\n",
    "    output_pca = model.transform(scaled_matrix)\n",
    "    \n",
    "    total=sum(model.explained_variance_)\n",
    "\n",
    "\n",
    "   \n",
    "    # number of components , that it will be the number of main axes times the number of original components \n",
    "    n_pcs= model.components_.shape[0] # the amount of non redundant protein domains \n",
    "\n",
    "    # get the index of the most important feature on EACH component\n",
    "    # LIST COMPREHENSION HERE\n",
    "    most_important = [np.abs(model.components_[i]).argmax() for i in range(n_pcs)]\n",
    "\n",
    "    initial_feature_names = original_data.columns\n",
    "    # get the names\n",
    "    most_important_names = [initial_feature_names[most_important[i]] for i in range(n_pcs)]\n",
    "    \n",
    "\n",
    "    # LIST COMPREHENSION HERE AGAIN\n",
    "    dic = {'PC{}'.format(i): most_important_names[i] for i in range(n_pcs)}\n",
    "\n",
    "    # build the dataframe\n",
    "    df = pd.DataFrame(dic.items(),columns=['pca-component','domain-number'])\n",
    "\n",
    "    return df,model.components_"
   ]
  },
  {
   "cell_type": "code",
   "execution_count": 20,
   "metadata": {
    "execution": {
     "iopub.execute_input": "2020-07-14T05:03:52.206307Z",
     "iopub.status.busy": "2020-07-14T05:03:52.205766Z",
     "iopub.status.idle": "2020-07-14T05:03:52.794231Z",
     "shell.execute_reply": "2020-07-14T05:03:52.794806Z"
    }
   },
   "outputs": [],
   "source": [
    "df_sl,components_pca_nsl=PCA_component_contribution(X_nsl_scaled,x_nsl)\n",
    "df_nsl,components_pca_sl=PCA_component_contribution(X_sl_scaled,x_sl)"
   ]
  },
  {
   "cell_type": "code",
   "execution_count": 21,
   "metadata": {
    "execution": {
     "iopub.execute_input": "2020-07-14T05:03:52.800299Z",
     "iopub.status.busy": "2020-07-14T05:03:52.799770Z",
     "iopub.status.idle": "2020-07-14T05:03:52.803877Z",
     "shell.execute_reply": "2020-07-14T05:03:52.804240Z"
    }
   },
   "outputs": [
    {
     "data": {
      "text/html": [
       "<div>\n",
       "<style scoped>\n",
       "    .dataframe tbody tr th:only-of-type {\n",
       "        vertical-align: middle;\n",
       "    }\n",
       "\n",
       "    .dataframe tbody tr th {\n",
       "        vertical-align: top;\n",
       "    }\n",
       "\n",
       "    .dataframe thead th {\n",
       "        text-align: right;\n",
       "    }\n",
       "</style>\n",
       "<table border=\"1\" class=\"dataframe\">\n",
       "  <thead>\n",
       "    <tr style=\"text-align: right;\">\n",
       "      <th></th>\n",
       "      <th>pca-component</th>\n",
       "      <th>domain-number</th>\n",
       "    </tr>\n",
       "  </thead>\n",
       "  <tbody>\n",
       "    <tr>\n",
       "      <th>0</th>\n",
       "      <td>PC0</td>\n",
       "      <td>305</td>\n",
       "    </tr>\n",
       "    <tr>\n",
       "      <th>1</th>\n",
       "      <td>PC1</td>\n",
       "      <td>302</td>\n",
       "    </tr>\n",
       "    <tr>\n",
       "      <th>2</th>\n",
       "      <td>PC2</td>\n",
       "      <td>142</td>\n",
       "    </tr>\n",
       "    <tr>\n",
       "      <th>3</th>\n",
       "      <td>PC3</td>\n",
       "      <td>135</td>\n",
       "    </tr>\n",
       "    <tr>\n",
       "      <th>4</th>\n",
       "      <td>PC4</td>\n",
       "      <td>2771</td>\n",
       "    </tr>\n",
       "  </tbody>\n",
       "</table>\n",
       "</div>"
      ],
      "text/plain": [
       "  pca-component  domain-number\n",
       "0           PC0            305\n",
       "1           PC1            302\n",
       "2           PC2            142\n",
       "3           PC3            135\n",
       "4           PC4           2771"
      ]
     },
     "execution_count": 21,
     "metadata": {},
     "output_type": "execute_result"
    }
   ],
   "source": [
    "df_sl.head()"
   ]
  },
  {
   "cell_type": "markdown",
   "metadata": {},
   "source": [
    "## which are the shared domains between nSL and SL pairs , in the PCA reduced samples"
   ]
  },
  {
   "cell_type": "code",
   "execution_count": 22,
   "metadata": {
    "execution": {
     "iopub.execute_input": "2020-07-14T05:03:52.806138Z",
     "iopub.status.busy": "2020-07-14T05:03:52.805687Z",
     "iopub.status.idle": "2020-07-14T05:03:52.830697Z",
     "shell.execute_reply": "2020-07-14T05:03:52.831143Z"
    }
   },
   "outputs": [
    {
     "data": {
      "text/html": [
       "<div>\n",
       "<style scoped>\n",
       "    .dataframe tbody tr th:only-of-type {\n",
       "        vertical-align: middle;\n",
       "    }\n",
       "\n",
       "    .dataframe tbody tr th {\n",
       "        vertical-align: top;\n",
       "    }\n",
       "\n",
       "    .dataframe thead th {\n",
       "        text-align: right;\n",
       "    }\n",
       "</style>\n",
       "<table border=\"1\" class=\"dataframe\">\n",
       "  <thead>\n",
       "    <tr style=\"text-align: right;\">\n",
       "      <th></th>\n",
       "      <th>pca-component_x</th>\n",
       "      <th>domain-number</th>\n",
       "      <th>pca-component_y</th>\n",
       "      <th>domain-description</th>\n",
       "    </tr>\n",
       "  </thead>\n",
       "  <tbody>\n",
       "    <tr>\n",
       "      <th>0</th>\n",
       "      <td>PC0</td>\n",
       "      <td>305</td>\n",
       "      <td>PC11</td>\n",
       "      <td>Brr6_like_C_C; Brl1/Brr6 domain</td>\n",
       "    </tr>\n",
       "    <tr>\n",
       "      <th>1</th>\n",
       "      <td>PC2</td>\n",
       "      <td>142</td>\n",
       "      <td>PC1</td>\n",
       "      <td>ATP_synt_H; ATPase, V0 complex, subunit e1/e2</td>\n",
       "    </tr>\n",
       "    <tr>\n",
       "      <th>2</th>\n",
       "      <td>PC13</td>\n",
       "      <td>773</td>\n",
       "      <td>PC50</td>\n",
       "      <td>Dynein_light; Dynein light chain, type 1/2</td>\n",
       "    </tr>\n",
       "    <tr>\n",
       "      <th>3</th>\n",
       "      <td>PC13</td>\n",
       "      <td>773</td>\n",
       "      <td>PC52</td>\n",
       "      <td>Dynein_light; Dynein light chain, type 1/2</td>\n",
       "    </tr>\n",
       "    <tr>\n",
       "      <th>4</th>\n",
       "      <td>PC15</td>\n",
       "      <td>488</td>\n",
       "      <td>PC81</td>\n",
       "      <td>Cnd1_N; Condensin complex subunit 1, N-terminal</td>\n",
       "    </tr>\n",
       "    <tr>\n",
       "      <th>5</th>\n",
       "      <td>PC18</td>\n",
       "      <td>383</td>\n",
       "      <td>PC30</td>\n",
       "      <td>COPI_C; Coatomer, alpha subunit, C-terminal</td>\n",
       "    </tr>\n",
       "    <tr>\n",
       "      <th>6</th>\n",
       "      <td>PC21</td>\n",
       "      <td>1354</td>\n",
       "      <td>PC32</td>\n",
       "      <td>MBF1; Multiprotein bridging factor 1, N-terminal</td>\n",
       "    </tr>\n",
       "    <tr>\n",
       "      <th>7</th>\n",
       "      <td>PC35</td>\n",
       "      <td>144</td>\n",
       "      <td>PC41</td>\n",
       "      <td>A_deamin; Adenosine deaminase/editase</td>\n",
       "    </tr>\n",
       "    <tr>\n",
       "      <th>8</th>\n",
       "      <td>PC39</td>\n",
       "      <td>1082</td>\n",
       "      <td>PC33</td>\n",
       "      <td>Gpi1; N-acetylglucosaminyl transferase component</td>\n",
       "    </tr>\n",
       "    <tr>\n",
       "      <th>9</th>\n",
       "      <td>PC39</td>\n",
       "      <td>1082</td>\n",
       "      <td>PC43</td>\n",
       "      <td>Gpi1; N-acetylglucosaminyl transferase component</td>\n",
       "    </tr>\n",
       "    <tr>\n",
       "      <th>10</th>\n",
       "      <td>PC62</td>\n",
       "      <td>1044</td>\n",
       "      <td>PC51</td>\n",
       "      <td>Glyco_hydro_16; Glycoside hydrolase family 16</td>\n",
       "    </tr>\n",
       "    <tr>\n",
       "      <th>11</th>\n",
       "      <td>PC70</td>\n",
       "      <td>1044</td>\n",
       "      <td>PC51</td>\n",
       "      <td>Glyco_hydro_16; Glycoside hydrolase family 16</td>\n",
       "    </tr>\n",
       "    <tr>\n",
       "      <th>12</th>\n",
       "      <td>PC90</td>\n",
       "      <td>247</td>\n",
       "      <td>PC156</td>\n",
       "      <td>Autophagy_act_C; Autophagy-related protein 3</td>\n",
       "    </tr>\n",
       "    <tr>\n",
       "      <th>13</th>\n",
       "      <td>PC91</td>\n",
       "      <td>1025</td>\n",
       "      <td>PC98</td>\n",
       "      <td>Gal_mutarotas_2; Glycoside hydrolase family 31...</td>\n",
       "    </tr>\n",
       "    <tr>\n",
       "      <th>14</th>\n",
       "      <td>PC91</td>\n",
       "      <td>1025</td>\n",
       "      <td>PC162</td>\n",
       "      <td>Gal_mutarotas_2; Glycoside hydrolase family 31...</td>\n",
       "    </tr>\n",
       "    <tr>\n",
       "      <th>15</th>\n",
       "      <td>PC95</td>\n",
       "      <td>1063</td>\n",
       "      <td>PC239</td>\n",
       "      <td>Glyco_transf_20; Glycosyl transferase, family 20</td>\n",
       "    </tr>\n",
       "    <tr>\n",
       "      <th>16</th>\n",
       "      <td>PC95</td>\n",
       "      <td>1063</td>\n",
       "      <td>PC246</td>\n",
       "      <td>Glyco_transf_20; Glycosyl transferase, family 20</td>\n",
       "    </tr>\n",
       "    <tr>\n",
       "      <th>17</th>\n",
       "      <td>PC99</td>\n",
       "      <td>161</td>\n",
       "      <td>PC83</td>\n",
       "      <td>Acyl-CoA_ox_N; Acyl-coenzyme A oxidase, N-term...</td>\n",
       "    </tr>\n",
       "    <tr>\n",
       "      <th>18</th>\n",
       "      <td>PC99</td>\n",
       "      <td>161</td>\n",
       "      <td>PC84</td>\n",
       "      <td>Acyl-CoA_ox_N; Acyl-coenzyme A oxidase, N-term...</td>\n",
       "    </tr>\n",
       "    <tr>\n",
       "      <th>19</th>\n",
       "      <td>PC102</td>\n",
       "      <td>1143</td>\n",
       "      <td>PC189</td>\n",
       "      <td>HSP9_HSP12; Heat shock protein 9/12</td>\n",
       "    </tr>\n",
       "    <tr>\n",
       "      <th>20</th>\n",
       "      <td>PC115</td>\n",
       "      <td>1143</td>\n",
       "      <td>PC189</td>\n",
       "      <td>HSP9_HSP12; Heat shock protein 9/12</td>\n",
       "    </tr>\n",
       "    <tr>\n",
       "      <th>21</th>\n",
       "      <td>PC114</td>\n",
       "      <td>2125</td>\n",
       "      <td>PC211</td>\n",
       "      <td>Rer1; Retrieval of early ER protein Rer1</td>\n",
       "    </tr>\n",
       "    <tr>\n",
       "      <th>22</th>\n",
       "      <td>PC122</td>\n",
       "      <td>200</td>\n",
       "      <td>PC173</td>\n",
       "      <td>Amidohydro_1; Amidohydrolase-related</td>\n",
       "    </tr>\n",
       "    <tr>\n",
       "      <th>23</th>\n",
       "      <td>PC125</td>\n",
       "      <td>613</td>\n",
       "      <td>PC200</td>\n",
       "      <td>DNA_pol_B; DNA-directed DNA polymerase, family...</td>\n",
       "    </tr>\n",
       "    <tr>\n",
       "      <th>24</th>\n",
       "      <td>PC126</td>\n",
       "      <td>613</td>\n",
       "      <td>PC200</td>\n",
       "      <td>DNA_pol_B; DNA-directed DNA polymerase, family...</td>\n",
       "    </tr>\n",
       "    <tr>\n",
       "      <th>25</th>\n",
       "      <td>PC134</td>\n",
       "      <td>2584</td>\n",
       "      <td>PC127</td>\n",
       "      <td>TFIIIC_sub6; Transcription factor TFIIIC, tau5...</td>\n",
       "    </tr>\n",
       "    <tr>\n",
       "      <th>26</th>\n",
       "      <td>PC140</td>\n",
       "      <td>1046</td>\n",
       "      <td>PC135</td>\n",
       "      <td>Glyco_hydro_18; Glycoside hydrolase family 18,...</td>\n",
       "    </tr>\n",
       "    <tr>\n",
       "      <th>27</th>\n",
       "      <td>PC140</td>\n",
       "      <td>1046</td>\n",
       "      <td>PC136</td>\n",
       "      <td>Glyco_hydro_18; Glycoside hydrolase family 18,...</td>\n",
       "    </tr>\n",
       "    <tr>\n",
       "      <th>28</th>\n",
       "      <td>PC161</td>\n",
       "      <td>1498</td>\n",
       "      <td>PC249</td>\n",
       "      <td>MmgE_PrpD; MmgE/PrpD</td>\n",
       "    </tr>\n",
       "    <tr>\n",
       "      <th>29</th>\n",
       "      <td>PC163</td>\n",
       "      <td>876</td>\n",
       "      <td>PC28</td>\n",
       "      <td>FDX-ACB; Ferrodoxin-fold anticodon-binding domain</td>\n",
       "    </tr>\n",
       "    <tr>\n",
       "      <th>30</th>\n",
       "      <td>PC167</td>\n",
       "      <td>2165</td>\n",
       "      <td>PC198</td>\n",
       "      <td>Ribosomal_L18A; Ribosomal protein 50S-L18Ae/60...</td>\n",
       "    </tr>\n",
       "    <tr>\n",
       "      <th>31</th>\n",
       "      <td>PC174</td>\n",
       "      <td>1061</td>\n",
       "      <td>PC220</td>\n",
       "      <td>Glyco_tran_28_C; Glycosyl transferase, family ...</td>\n",
       "    </tr>\n",
       "    <tr>\n",
       "      <th>32</th>\n",
       "      <td>PC174</td>\n",
       "      <td>1061</td>\n",
       "      <td>PC232</td>\n",
       "      <td>Glyco_tran_28_C; Glycosyl transferase, family ...</td>\n",
       "    </tr>\n",
       "    <tr>\n",
       "      <th>33</th>\n",
       "      <td>PC174</td>\n",
       "      <td>1061</td>\n",
       "      <td>PC240</td>\n",
       "      <td>Glyco_tran_28_C; Glycosyl transferase, family ...</td>\n",
       "    </tr>\n",
       "    <tr>\n",
       "      <th>34</th>\n",
       "      <td>PC178</td>\n",
       "      <td>210</td>\n",
       "      <td>PC221</td>\n",
       "      <td>Ank_4</td>\n",
       "    </tr>\n",
       "    <tr>\n",
       "      <th>35</th>\n",
       "      <td>PC182</td>\n",
       "      <td>1236</td>\n",
       "      <td>PC245</td>\n",
       "      <td>Inositol_P; Inositol monophosphatase-like</td>\n",
       "    </tr>\n",
       "    <tr>\n",
       "      <th>36</th>\n",
       "      <td>PC282</td>\n",
       "      <td>1236</td>\n",
       "      <td>PC245</td>\n",
       "      <td>Inositol_P; Inositol monophosphatase-like</td>\n",
       "    </tr>\n",
       "    <tr>\n",
       "      <th>37</th>\n",
       "      <td>PC194</td>\n",
       "      <td>273</td>\n",
       "      <td>PC158</td>\n",
       "      <td>BLM10_mid; Proteasome activator Blm10, mid region</td>\n",
       "    </tr>\n",
       "    <tr>\n",
       "      <th>38</th>\n",
       "      <td>PC195</td>\n",
       "      <td>2150</td>\n",
       "      <td>PC214</td>\n",
       "      <td>Ribosom_S12_S23; Ribosomal protein S12/S23</td>\n",
       "    </tr>\n",
       "    <tr>\n",
       "      <th>39</th>\n",
       "      <td>PC196</td>\n",
       "      <td>2150</td>\n",
       "      <td>PC214</td>\n",
       "      <td>Ribosom_S12_S23; Ribosomal protein S12/S23</td>\n",
       "    </tr>\n",
       "    <tr>\n",
       "      <th>40</th>\n",
       "      <td>PC198</td>\n",
       "      <td>1086</td>\n",
       "      <td>PC169</td>\n",
       "      <td>Gti1_Pac2; Gti1/Pac2 family</td>\n",
       "    </tr>\n",
       "    <tr>\n",
       "      <th>41</th>\n",
       "      <td>PC201</td>\n",
       "      <td>1449</td>\n",
       "      <td>PC133</td>\n",
       "      <td>Med4; Mediator complex, subunit Med4</td>\n",
       "    </tr>\n",
       "    <tr>\n",
       "      <th>42</th>\n",
       "      <td>PC218</td>\n",
       "      <td>2178</td>\n",
       "      <td>PC255</td>\n",
       "      <td>Ribosomal_L27; Ribosomal protein L27</td>\n",
       "    </tr>\n",
       "    <tr>\n",
       "      <th>43</th>\n",
       "      <td>PC222</td>\n",
       "      <td>1969</td>\n",
       "      <td>PC192</td>\n",
       "      <td>RAI1; RAI1-like</td>\n",
       "    </tr>\n",
       "    <tr>\n",
       "      <th>44</th>\n",
       "      <td>PC226</td>\n",
       "      <td>1733</td>\n",
       "      <td>PC199</td>\n",
       "      <td>PGAP1; GPI inositol-deacylase PGAP1-like</td>\n",
       "    </tr>\n",
       "    <tr>\n",
       "      <th>45</th>\n",
       "      <td>PC228</td>\n",
       "      <td>79</td>\n",
       "      <td>PC183</td>\n",
       "      <td>AMPK1_CBM; AMP-activated protein kinase, glyco...</td>\n",
       "    </tr>\n",
       "    <tr>\n",
       "      <th>46</th>\n",
       "      <td>PC253</td>\n",
       "      <td>79</td>\n",
       "      <td>PC183</td>\n",
       "      <td>AMPK1_CBM; AMP-activated protein kinase, glyco...</td>\n",
       "    </tr>\n",
       "    <tr>\n",
       "      <th>47</th>\n",
       "      <td>PC237</td>\n",
       "      <td>228</td>\n",
       "      <td>PC174</td>\n",
       "      <td>Arg_tRNA_synt_N; Arginyl tRNA synthetase N-ter...</td>\n",
       "    </tr>\n",
       "    <tr>\n",
       "      <th>48</th>\n",
       "      <td>PC237</td>\n",
       "      <td>228</td>\n",
       "      <td>PC175</td>\n",
       "      <td>Arg_tRNA_synt_N; Arginyl tRNA synthetase N-ter...</td>\n",
       "    </tr>\n",
       "    <tr>\n",
       "      <th>49</th>\n",
       "      <td>PC277</td>\n",
       "      <td>133</td>\n",
       "      <td>PC2</td>\n",
       "      <td>ATP-synt_ab_C; ATP synthase, alpha subunit, C-...</td>\n",
       "    </tr>\n",
       "  </tbody>\n",
       "</table>\n",
       "</div>"
      ],
      "text/plain": [
       "   pca-component_x  domain-number pca-component_y  \\\n",
       "0              PC0            305            PC11   \n",
       "1              PC2            142             PC1   \n",
       "2             PC13            773            PC50   \n",
       "3             PC13            773            PC52   \n",
       "4             PC15            488            PC81   \n",
       "5             PC18            383            PC30   \n",
       "6             PC21           1354            PC32   \n",
       "7             PC35            144            PC41   \n",
       "8             PC39           1082            PC33   \n",
       "9             PC39           1082            PC43   \n",
       "10            PC62           1044            PC51   \n",
       "11            PC70           1044            PC51   \n",
       "12            PC90            247           PC156   \n",
       "13            PC91           1025            PC98   \n",
       "14            PC91           1025           PC162   \n",
       "15            PC95           1063           PC239   \n",
       "16            PC95           1063           PC246   \n",
       "17            PC99            161            PC83   \n",
       "18            PC99            161            PC84   \n",
       "19           PC102           1143           PC189   \n",
       "20           PC115           1143           PC189   \n",
       "21           PC114           2125           PC211   \n",
       "22           PC122            200           PC173   \n",
       "23           PC125            613           PC200   \n",
       "24           PC126            613           PC200   \n",
       "25           PC134           2584           PC127   \n",
       "26           PC140           1046           PC135   \n",
       "27           PC140           1046           PC136   \n",
       "28           PC161           1498           PC249   \n",
       "29           PC163            876            PC28   \n",
       "30           PC167           2165           PC198   \n",
       "31           PC174           1061           PC220   \n",
       "32           PC174           1061           PC232   \n",
       "33           PC174           1061           PC240   \n",
       "34           PC178            210           PC221   \n",
       "35           PC182           1236           PC245   \n",
       "36           PC282           1236           PC245   \n",
       "37           PC194            273           PC158   \n",
       "38           PC195           2150           PC214   \n",
       "39           PC196           2150           PC214   \n",
       "40           PC198           1086           PC169   \n",
       "41           PC201           1449           PC133   \n",
       "42           PC218           2178           PC255   \n",
       "43           PC222           1969           PC192   \n",
       "44           PC226           1733           PC199   \n",
       "45           PC228             79           PC183   \n",
       "46           PC253             79           PC183   \n",
       "47           PC237            228           PC174   \n",
       "48           PC237            228           PC175   \n",
       "49           PC277            133             PC2   \n",
       "\n",
       "                                   domain-description  \n",
       "0                     Brr6_like_C_C; Brl1/Brr6 domain  \n",
       "1       ATP_synt_H; ATPase, V0 complex, subunit e1/e2  \n",
       "2          Dynein_light; Dynein light chain, type 1/2  \n",
       "3          Dynein_light; Dynein light chain, type 1/2  \n",
       "4     Cnd1_N; Condensin complex subunit 1, N-terminal  \n",
       "5         COPI_C; Coatomer, alpha subunit, C-terminal  \n",
       "6    MBF1; Multiprotein bridging factor 1, N-terminal  \n",
       "7               A_deamin; Adenosine deaminase/editase  \n",
       "8    Gpi1; N-acetylglucosaminyl transferase component  \n",
       "9    Gpi1; N-acetylglucosaminyl transferase component  \n",
       "10      Glyco_hydro_16; Glycoside hydrolase family 16  \n",
       "11      Glyco_hydro_16; Glycoside hydrolase family 16  \n",
       "12       Autophagy_act_C; Autophagy-related protein 3  \n",
       "13  Gal_mutarotas_2; Glycoside hydrolase family 31...  \n",
       "14  Gal_mutarotas_2; Glycoside hydrolase family 31...  \n",
       "15   Glyco_transf_20; Glycosyl transferase, family 20  \n",
       "16   Glyco_transf_20; Glycosyl transferase, family 20  \n",
       "17  Acyl-CoA_ox_N; Acyl-coenzyme A oxidase, N-term...  \n",
       "18  Acyl-CoA_ox_N; Acyl-coenzyme A oxidase, N-term...  \n",
       "19                HSP9_HSP12; Heat shock protein 9/12  \n",
       "20                HSP9_HSP12; Heat shock protein 9/12  \n",
       "21           Rer1; Retrieval of early ER protein Rer1  \n",
       "22               Amidohydro_1; Amidohydrolase-related  \n",
       "23  DNA_pol_B; DNA-directed DNA polymerase, family...  \n",
       "24  DNA_pol_B; DNA-directed DNA polymerase, family...  \n",
       "25  TFIIIC_sub6; Transcription factor TFIIIC, tau5...  \n",
       "26  Glyco_hydro_18; Glycoside hydrolase family 18,...  \n",
       "27  Glyco_hydro_18; Glycoside hydrolase family 18,...  \n",
       "28                               MmgE_PrpD; MmgE/PrpD  \n",
       "29  FDX-ACB; Ferrodoxin-fold anticodon-binding domain  \n",
       "30  Ribosomal_L18A; Ribosomal protein 50S-L18Ae/60...  \n",
       "31  Glyco_tran_28_C; Glycosyl transferase, family ...  \n",
       "32  Glyco_tran_28_C; Glycosyl transferase, family ...  \n",
       "33  Glyco_tran_28_C; Glycosyl transferase, family ...  \n",
       "34                                              Ank_4  \n",
       "35          Inositol_P; Inositol monophosphatase-like  \n",
       "36          Inositol_P; Inositol monophosphatase-like  \n",
       "37  BLM10_mid; Proteasome activator Blm10, mid region  \n",
       "38         Ribosom_S12_S23; Ribosomal protein S12/S23  \n",
       "39         Ribosom_S12_S23; Ribosomal protein S12/S23  \n",
       "40                        Gti1_Pac2; Gti1/Pac2 family  \n",
       "41               Med4; Mediator complex, subunit Med4  \n",
       "42               Ribosomal_L27; Ribosomal protein L27  \n",
       "43                                    RAI1; RAI1-like  \n",
       "44           PGAP1; GPI inositol-deacylase PGAP1-like  \n",
       "45  AMPK1_CBM; AMP-activated protein kinase, glyco...  \n",
       "46  AMPK1_CBM; AMP-activated protein kinase, glyco...  \n",
       "47  Arg_tRNA_synt_N; Arginyl tRNA synthetase N-ter...  \n",
       "48  Arg_tRNA_synt_N; Arginyl tRNA synthetase N-ter...  \n",
       "49  ATP-synt_ab_C; ATP synthase, alpha subunit, C-...  "
      ]
     },
     "execution_count": 22,
     "metadata": {},
     "output_type": "execute_result"
    }
   ],
   "source": [
    "df_shared_domains=pd.merge(df_sl,df_nsl,how='inner',on='domain-number')\n",
    "domains_name=np.unique(data_domains['domain-name'])\n",
    "domains_description=np.unique(data_domains['domain-descrip'])\n",
    "\n",
    "df_shared_domains['domain-description']=domains_description[df_shared_domains['domain-number']]\n",
    "\n",
    "\n",
    "df_shared_domains"
   ]
  },
  {
   "cell_type": "code",
   "execution_count": 23,
   "metadata": {
    "execution": {
     "iopub.execute_input": "2020-07-14T05:03:52.833187Z",
     "iopub.status.busy": "2020-07-14T05:03:52.832685Z",
     "iopub.status.idle": "2020-07-14T05:03:52.837314Z",
     "shell.execute_reply": "2020-07-14T05:03:52.837771Z"
    }
   },
   "outputs": [
    {
     "name": "stdout",
     "output_type": "stream",
     "text": [
      "The number of shared domains between SL and nSL pairs,after PCA, is =  50 out of 565 so the 8.849557522123893 %\n"
     ]
    }
   ],
   "source": [
    "print('The number of shared domains between SL and nSL pairs,after PCA, is = ',len(df_shared_domains), 'out of', len(df_sl)+len(df_nsl), 'so the',100*len(df_shared_domains)/(len(df_sl)+len(df_nsl)),'%')"
   ]
  },
  {
   "cell_type": "markdown",
   "metadata": {},
   "source": [
    "## Domains exclusive to SL"
   ]
  },
  {
   "cell_type": "code",
   "execution_count": 24,
   "metadata": {
    "execution": {
     "iopub.execute_input": "2020-07-14T05:03:52.842266Z",
     "iopub.status.busy": "2020-07-14T05:03:52.841595Z",
     "iopub.status.idle": "2020-07-14T05:03:52.862967Z",
     "shell.execute_reply": "2020-07-14T05:03:52.863432Z"
    }
   },
   "outputs": [
    {
     "data": {
      "text/html": [
       "<div>\n",
       "<style scoped>\n",
       "    .dataframe tbody tr th:only-of-type {\n",
       "        vertical-align: middle;\n",
       "    }\n",
       "\n",
       "    .dataframe tbody tr th {\n",
       "        vertical-align: top;\n",
       "    }\n",
       "\n",
       "    .dataframe thead th {\n",
       "        text-align: right;\n",
       "    }\n",
       "</style>\n",
       "<table border=\"1\" class=\"dataframe\">\n",
       "  <thead>\n",
       "    <tr style=\"text-align: right;\">\n",
       "      <th></th>\n",
       "      <th>pca-component_x</th>\n",
       "      <th>domain-number</th>\n",
       "      <th>pca-component_y</th>\n",
       "      <th>domain-description</th>\n",
       "    </tr>\n",
       "  </thead>\n",
       "  <tbody>\n",
       "    <tr>\n",
       "      <th>1</th>\n",
       "      <td>PC1</td>\n",
       "      <td>302</td>\n",
       "      <td>NaN</td>\n",
       "      <td>Brix; Brix domain</td>\n",
       "    </tr>\n",
       "    <tr>\n",
       "      <th>3</th>\n",
       "      <td>PC3</td>\n",
       "      <td>135</td>\n",
       "      <td>NaN</td>\n",
       "      <td>ATP-synt_ab_Xtn; ATPsynthase alpha/beta subuni...</td>\n",
       "    </tr>\n",
       "    <tr>\n",
       "      <th>4</th>\n",
       "      <td>PC4</td>\n",
       "      <td>2771</td>\n",
       "      <td>NaN</td>\n",
       "      <td>Ubiq-assoc; Ubiquitin-associated domain, SWA2-...</td>\n",
       "    </tr>\n",
       "    <tr>\n",
       "      <th>5</th>\n",
       "      <td>PC5</td>\n",
       "      <td>2</td>\n",
       "      <td>NaN</td>\n",
       "      <td>2-Hacid_dh; D-isomer specific 2-hydroxyacid de...</td>\n",
       "    </tr>\n",
       "    <tr>\n",
       "      <th>6</th>\n",
       "      <td>PC6</td>\n",
       "      <td>2117</td>\n",
       "      <td>NaN</td>\n",
       "      <td>RecQ_Zn_bind; ATP-dependent DNA helicase RecQ,...</td>\n",
       "    </tr>\n",
       "    <tr>\n",
       "      <th>...</th>\n",
       "      <td>...</td>\n",
       "      <td>...</td>\n",
       "      <td>...</td>\n",
       "      <td>...</td>\n",
       "    </tr>\n",
       "    <tr>\n",
       "      <th>287</th>\n",
       "      <td>PC278</td>\n",
       "      <td>2976</td>\n",
       "      <td>NaN</td>\n",
       "      <td>zf-C3HC4_5; Zinc finger, RING-type</td>\n",
       "    </tr>\n",
       "    <tr>\n",
       "      <th>288</th>\n",
       "      <td>PC279</td>\n",
       "      <td>769</td>\n",
       "      <td>NaN</td>\n",
       "      <td>Dynamin_M; Dynamin central domain</td>\n",
       "    </tr>\n",
       "    <tr>\n",
       "      <th>289</th>\n",
       "      <td>PC280</td>\n",
       "      <td>405</td>\n",
       "      <td>NaN</td>\n",
       "      <td>CPSF73-100_C; Pre-mRNA 3&amp;apos;-end-processing ...</td>\n",
       "    </tr>\n",
       "    <tr>\n",
       "      <th>290</th>\n",
       "      <td>PC281</td>\n",
       "      <td>405</td>\n",
       "      <td>NaN</td>\n",
       "      <td>CPSF73-100_C; Pre-mRNA 3&amp;apos;-end-processing ...</td>\n",
       "    </tr>\n",
       "    <tr>\n",
       "      <th>292</th>\n",
       "      <td>PC283</td>\n",
       "      <td>2126</td>\n",
       "      <td>NaN</td>\n",
       "      <td>ResIII; Helicase/UvrB, N-terminal</td>\n",
       "    </tr>\n",
       "  </tbody>\n",
       "</table>\n",
       "<p>243 rows × 4 columns</p>\n",
       "</div>"
      ],
      "text/plain": [
       "    pca-component_x  domain-number pca-component_y  \\\n",
       "1               PC1            302             NaN   \n",
       "3               PC3            135             NaN   \n",
       "4               PC4           2771             NaN   \n",
       "5               PC5              2             NaN   \n",
       "6               PC6           2117             NaN   \n",
       "..              ...            ...             ...   \n",
       "287           PC278           2976             NaN   \n",
       "288           PC279            769             NaN   \n",
       "289           PC280            405             NaN   \n",
       "290           PC281            405             NaN   \n",
       "292           PC283           2126             NaN   \n",
       "\n",
       "                                    domain-description  \n",
       "1                                    Brix; Brix domain  \n",
       "3    ATP-synt_ab_Xtn; ATPsynthase alpha/beta subuni...  \n",
       "4    Ubiq-assoc; Ubiquitin-associated domain, SWA2-...  \n",
       "5    2-Hacid_dh; D-isomer specific 2-hydroxyacid de...  \n",
       "6    RecQ_Zn_bind; ATP-dependent DNA helicase RecQ,...  \n",
       "..                                                 ...  \n",
       "287                 zf-C3HC4_5; Zinc finger, RING-type  \n",
       "288                  Dynamin_M; Dynamin central domain  \n",
       "289  CPSF73-100_C; Pre-mRNA 3&apos;-end-processing ...  \n",
       "290  CPSF73-100_C; Pre-mRNA 3&apos;-end-processing ...  \n",
       "292                  ResIII; Helicase/UvrB, N-terminal  \n",
       "\n",
       "[243 rows x 4 columns]"
      ]
     },
     "execution_count": 24,
     "metadata": {},
     "output_type": "execute_result"
    }
   ],
   "source": [
    "df_sl_exclusive=pd.merge(df_sl,df_nsl,how='left',on='domain-number')\n",
    "\n",
    "domains_name=np.unique(data_domains['domain-name'])\n",
    "domains_description=np.unique(data_domains['domain-descrip'])\n",
    "\n",
    "df_sl_exclusive['domain-description']=domains_description[df_sl_exclusive['domain-number']]\n",
    "df_sl_exclusive[pd.isnull(df_sl_exclusive['pca-component_y'])]"
   ]
  },
  {
   "cell_type": "code",
   "execution_count": 25,
   "metadata": {
    "execution": {
     "iopub.execute_input": "2020-07-14T05:03:52.865651Z",
     "iopub.status.busy": "2020-07-14T05:03:52.865171Z",
     "iopub.status.idle": "2020-07-14T05:03:52.869387Z",
     "shell.execute_reply": "2020-07-14T05:03:52.869789Z"
    }
   },
   "outputs": [
    {
     "name": "stdout",
     "output_type": "stream",
     "text": [
      "The number of exclusive domains from SL pairs, after PCA, is =  293 out of 565 so the 51.85840707964602 %\n"
     ]
    }
   ],
   "source": [
    "print('The number of exclusive domains from SL pairs, after PCA, is = ',len(df_sl_exclusive), 'out of', len(df_sl)+len(df_nsl), 'so the',100*len(df_sl_exclusive)/(len(df_sl)+len(df_nsl)),'%')"
   ]
  },
  {
   "cell_type": "code",
   "execution_count": 26,
   "metadata": {
    "execution": {
     "iopub.execute_input": "2020-07-14T05:03:52.871537Z",
     "iopub.status.busy": "2020-07-14T05:03:52.871126Z",
     "iopub.status.idle": "2020-07-14T05:03:52.895094Z",
     "shell.execute_reply": "2020-07-14T05:03:52.895566Z"
    }
   },
   "outputs": [
    {
     "data": {
      "text/html": [
       "<div>\n",
       "<style scoped>\n",
       "    .dataframe tbody tr th:only-of-type {\n",
       "        vertical-align: middle;\n",
       "    }\n",
       "\n",
       "    .dataframe tbody tr th {\n",
       "        vertical-align: top;\n",
       "    }\n",
       "\n",
       "    .dataframe thead th {\n",
       "        text-align: right;\n",
       "    }\n",
       "</style>\n",
       "<table border=\"1\" class=\"dataframe\">\n",
       "  <thead>\n",
       "    <tr style=\"text-align: right;\">\n",
       "      <th></th>\n",
       "      <th>pca-component_x</th>\n",
       "      <th>domain-number</th>\n",
       "      <th>pca-component_y</th>\n",
       "      <th>domain-description</th>\n",
       "    </tr>\n",
       "  </thead>\n",
       "  <tbody>\n",
       "    <tr>\n",
       "      <th>50</th>\n",
       "      <td>NaN</td>\n",
       "      <td>1028</td>\n",
       "      <td>PC0</td>\n",
       "      <td>GatB_Yqey; Asn/Gln amidotransferase</td>\n",
       "    </tr>\n",
       "    <tr>\n",
       "      <th>51</th>\n",
       "      <td>NaN</td>\n",
       "      <td>242</td>\n",
       "      <td>PC3</td>\n",
       "      <td>Atg31; Autophagy-related protein 31</td>\n",
       "    </tr>\n",
       "    <tr>\n",
       "      <th>52</th>\n",
       "      <td>NaN</td>\n",
       "      <td>1645</td>\n",
       "      <td>PC4</td>\n",
       "      <td>Nucleoporin_C; Nucleoporin, Nup133/Nup155-like...</td>\n",
       "    </tr>\n",
       "    <tr>\n",
       "      <th>53</th>\n",
       "      <td>NaN</td>\n",
       "      <td>1166</td>\n",
       "      <td>PC5</td>\n",
       "      <td>HhH-GPD; HhH-GPD domain</td>\n",
       "    </tr>\n",
       "    <tr>\n",
       "      <th>54</th>\n",
       "      <td>NaN</td>\n",
       "      <td>2598</td>\n",
       "      <td>PC6</td>\n",
       "      <td>TIM; Triosephosphate isomerase</td>\n",
       "    </tr>\n",
       "    <tr>\n",
       "      <th>...</th>\n",
       "      <td>...</td>\n",
       "      <td>...</td>\n",
       "      <td>...</td>\n",
       "      <td>...</td>\n",
       "    </tr>\n",
       "    <tr>\n",
       "      <th>282</th>\n",
       "      <td>NaN</td>\n",
       "      <td>1612</td>\n",
       "      <td>PC276</td>\n",
       "      <td>NifU; NIF system FeS cluster assembly, NifU, C...</td>\n",
       "    </tr>\n",
       "    <tr>\n",
       "      <th>283</th>\n",
       "      <td>NaN</td>\n",
       "      <td>1612</td>\n",
       "      <td>PC277</td>\n",
       "      <td>NifU; NIF system FeS cluster assembly, NifU, C...</td>\n",
       "    </tr>\n",
       "    <tr>\n",
       "      <th>284</th>\n",
       "      <td>NaN</td>\n",
       "      <td>2151</td>\n",
       "      <td>PC278</td>\n",
       "      <td>Ribosomal_60s</td>\n",
       "    </tr>\n",
       "    <tr>\n",
       "      <th>285</th>\n",
       "      <td>NaN</td>\n",
       "      <td>625</td>\n",
       "      <td>PC279</td>\n",
       "      <td>DRE2_N; Fe-S cluster assembly protein Dre2, N-...</td>\n",
       "    </tr>\n",
       "    <tr>\n",
       "      <th>286</th>\n",
       "      <td>NaN</td>\n",
       "      <td>625</td>\n",
       "      <td>PC280</td>\n",
       "      <td>DRE2_N; Fe-S cluster assembly protein Dre2, N-...</td>\n",
       "    </tr>\n",
       "  </tbody>\n",
       "</table>\n",
       "<p>237 rows × 4 columns</p>\n",
       "</div>"
      ],
      "text/plain": [
       "    pca-component_x  domain-number pca-component_y  \\\n",
       "50              NaN           1028             PC0   \n",
       "51              NaN            242             PC3   \n",
       "52              NaN           1645             PC4   \n",
       "53              NaN           1166             PC5   \n",
       "54              NaN           2598             PC6   \n",
       "..              ...            ...             ...   \n",
       "282             NaN           1612           PC276   \n",
       "283             NaN           1612           PC277   \n",
       "284             NaN           2151           PC278   \n",
       "285             NaN            625           PC279   \n",
       "286             NaN            625           PC280   \n",
       "\n",
       "                                    domain-description  \n",
       "50                 GatB_Yqey; Asn/Gln amidotransferase  \n",
       "51                 Atg31; Autophagy-related protein 31  \n",
       "52   Nucleoporin_C; Nucleoporin, Nup133/Nup155-like...  \n",
       "53                             HhH-GPD; HhH-GPD domain  \n",
       "54                      TIM; Triosephosphate isomerase  \n",
       "..                                                 ...  \n",
       "282  NifU; NIF system FeS cluster assembly, NifU, C...  \n",
       "283  NifU; NIF system FeS cluster assembly, NifU, C...  \n",
       "284                                      Ribosomal_60s  \n",
       "285  DRE2_N; Fe-S cluster assembly protein Dre2, N-...  \n",
       "286  DRE2_N; Fe-S cluster assembly protein Dre2, N-...  \n",
       "\n",
       "[237 rows x 4 columns]"
      ]
     },
     "execution_count": 26,
     "metadata": {},
     "output_type": "execute_result"
    }
   ],
   "source": [
    "df_nsl_exclusive=pd.merge(df_sl,df_nsl,how='right',on='domain-number')\n",
    "\n",
    "domains_name=np.unique(data_domains['domain-name'])\n",
    "domains_description=np.unique(data_domains['domain-descrip'])\n",
    "\n",
    "df_nsl_exclusive['domain-description']=domains_description[df_nsl_exclusive['domain-number']]\n",
    "df_nsl_exclusive[pd.isnull(df_nsl_exclusive['pca-component_x'])]"
   ]
  },
  {
   "cell_type": "code",
   "execution_count": 27,
   "metadata": {
    "execution": {
     "iopub.execute_input": "2020-07-14T05:03:52.897572Z",
     "iopub.status.busy": "2020-07-14T05:03:52.897168Z",
     "iopub.status.idle": "2020-07-14T05:03:52.901253Z",
     "shell.execute_reply": "2020-07-14T05:03:52.901758Z"
    }
   },
   "outputs": [
    {
     "name": "stdout",
     "output_type": "stream",
     "text": [
      "The number of exclusive domains from non SL pairs, after PCA, is =  287 out of 565 so the 50.796460176991154 %\n"
     ]
    }
   ],
   "source": [
    "print('The number of exclusive domains from non SL pairs, after PCA, is = ',len(df_nsl_exclusive), 'out of', len(df_sl)+len(df_nsl), 'so the',100*len(df_nsl_exclusive)/(len(df_sl)+len(df_nsl)),'%')"
   ]
  },
  {
   "cell_type": "markdown",
   "metadata": {},
   "source": [
    "## Let see to the domains-number that get repeated after the PCA analysis , and selecting the most explanatory feature by its explained variance."
   ]
  },
  {
   "cell_type": "code",
   "execution_count": 28,
   "metadata": {
    "execution": {
     "iopub.execute_input": "2020-07-14T05:03:52.907054Z",
     "iopub.status.busy": "2020-07-14T05:03:52.906638Z",
     "iopub.status.idle": "2020-07-14T05:03:52.922093Z",
     "shell.execute_reply": "2020-07-14T05:03:52.922624Z"
    }
   },
   "outputs": [],
   "source": [
    "duplicated_features_sl=df_sl[df_sl.iloc[:,1].duplicated()]\n",
    "repeated_features_sl=pd.DataFrame()\n",
    "\n",
    "domains_name=np.unique(data_domains['domain-name'])\n",
    "domains_description=np.unique(data_domains['domain-descrip'])\n",
    "\n",
    "repeated_features_sl['domain-name']=domains_name[duplicated_features_sl.iloc[:,1]] \n",
    "repeated_features_sl['domain-description']=domains_description[duplicated_features_sl.iloc[:,1]]\n",
    "\n",
    "duplicated_features_nsl=df_nsl[df_nsl.iloc[:,1].duplicated()]\n",
    "repeated_features_nsl=pd.DataFrame()\n",
    "\n",
    "repeated_features_nsl['domain-name']=domains_name[duplicated_features_nsl.iloc[:,1]] \n",
    "repeated_features_nsl['domain-description']=domains_description[duplicated_features_nsl.iloc[:,1]]"
   ]
  },
  {
   "cell_type": "code",
   "execution_count": 29,
   "metadata": {
    "execution": {
     "iopub.execute_input": "2020-07-14T05:03:52.931445Z",
     "iopub.status.busy": "2020-07-14T05:03:52.931020Z",
     "iopub.status.idle": "2020-07-14T05:03:52.935208Z",
     "shell.execute_reply": "2020-07-14T05:03:52.935504Z"
    }
   },
   "outputs": [
    {
     "data": {
      "text/plain": [
       "((52, 4), (293, 4))"
      ]
     },
     "execution_count": 29,
     "metadata": {},
     "output_type": "execute_result"
    }
   ],
   "source": [
    "only_sl_pd=pd.merge(repeated_features_sl,repeated_features_nsl,how='left',on=['domain-name'])\n",
    "data_only_sl = only_sl_pd[pd.isnull(only_sl_pd['domain-description_y'])]\n",
    "data_only_sl['domain-description']=data_only_sl['domain-description_x']\n",
    "data_only_sl.shape,df_sl_exclusive.shape"
   ]
  },
  {
   "cell_type": "code",
   "execution_count": 30,
   "metadata": {
    "execution": {
     "iopub.execute_input": "2020-07-14T05:03:52.950984Z",
     "iopub.status.busy": "2020-07-14T05:03:52.950559Z",
     "iopub.status.idle": "2020-07-14T05:03:52.953328Z",
     "shell.execute_reply": "2020-07-14T05:03:52.952989Z"
    }
   },
   "outputs": [
    {
     "data": {
      "text/html": [
       "<div>\n",
       "<style scoped>\n",
       "    .dataframe tbody tr th:only-of-type {\n",
       "        vertical-align: middle;\n",
       "    }\n",
       "\n",
       "    .dataframe tbody tr th {\n",
       "        vertical-align: top;\n",
       "    }\n",
       "\n",
       "    .dataframe thead th {\n",
       "        text-align: right;\n",
       "    }\n",
       "</style>\n",
       "<table border=\"1\" class=\"dataframe\">\n",
       "  <thead>\n",
       "    <tr style=\"text-align: right;\">\n",
       "      <th></th>\n",
       "      <th>domain-name</th>\n",
       "      <th>domain-description_x</th>\n",
       "      <th>domain-description_y</th>\n",
       "    </tr>\n",
       "  </thead>\n",
       "  <tbody>\n",
       "    <tr>\n",
       "      <th>0</th>\n",
       "      <td>PF06367</td>\n",
       "      <td>NaN</td>\n",
       "      <td>NuA4; Chromatin modification-related protein Eaf6</td>\n",
       "    </tr>\n",
       "    <tr>\n",
       "      <th>1</th>\n",
       "      <td>PF03234</td>\n",
       "      <td>NaN</td>\n",
       "      <td>Gpi1; N-acetylglucosaminyl transferase component</td>\n",
       "    </tr>\n",
       "    <tr>\n",
       "      <th>2</th>\n",
       "      <td>PF01909</td>\n",
       "      <td>NaN</td>\n",
       "      <td>Dynein_light; Dynein light chain, type 1/2</td>\n",
       "    </tr>\n",
       "    <tr>\n",
       "      <th>3</th>\n",
       "      <td>PF16211</td>\n",
       "      <td>NaN</td>\n",
       "      <td>YchF-GTPase_C; Domain of unknown function DUF933</td>\n",
       "    </tr>\n",
       "    <tr>\n",
       "      <th>4</th>\n",
       "      <td>PF00578</td>\n",
       "      <td>NaN</td>\n",
       "      <td>BRAP2; BRCA1-associated 2</td>\n",
       "    </tr>\n",
       "    <tr>\n",
       "      <th>5</th>\n",
       "      <td>PF01846</td>\n",
       "      <td>NaN</td>\n",
       "      <td>DnaJ; DnaJ domain</td>\n",
       "    </tr>\n",
       "    <tr>\n",
       "      <th>6</th>\n",
       "      <td>PF03953</td>\n",
       "      <td>NaN</td>\n",
       "      <td>IMS_C; DNA polymerase, Y-family, little finger...</td>\n",
       "    </tr>\n",
       "    <tr>\n",
       "      <th>7</th>\n",
       "      <td>PF13878</td>\n",
       "      <td>NaN</td>\n",
       "      <td>Trm112p; Uncharacterised protein family UPF043...</td>\n",
       "    </tr>\n",
       "    <tr>\n",
       "      <th>8</th>\n",
       "      <td>PF10584</td>\n",
       "      <td>NaN</td>\n",
       "      <td>SHR-BD; Vacuolar protein sorting-associated pr...</td>\n",
       "    </tr>\n",
       "    <tr>\n",
       "      <th>9</th>\n",
       "      <td>PF00324</td>\n",
       "      <td>NaN</td>\n",
       "      <td>Acyl-CoA_ox_N; Acyl-coenzyme A oxidase, N-term...</td>\n",
       "    </tr>\n",
       "    <tr>\n",
       "      <th>10</th>\n",
       "      <td>PF02866</td>\n",
       "      <td>NaN</td>\n",
       "      <td>GIT1_C; ARF GTPase-activating protein GIT1, C-...</td>\n",
       "    </tr>\n",
       "    <tr>\n",
       "      <th>11</th>\n",
       "      <td>PF06733</td>\n",
       "      <td>NaN</td>\n",
       "      <td>Ost5; Oligosaccharyltransferase complex subunit</td>\n",
       "    </tr>\n",
       "    <tr>\n",
       "      <th>12</th>\n",
       "      <td>PF05764</td>\n",
       "      <td>NaN</td>\n",
       "      <td>NPR3; Nitrogen permease regulator 3</td>\n",
       "    </tr>\n",
       "    <tr>\n",
       "      <th>13</th>\n",
       "      <td>PF06413</td>\n",
       "      <td>NaN</td>\n",
       "      <td>Nucleoporin_N; Nucleoporin, Nup133/Nup155-like...</td>\n",
       "    </tr>\n",
       "    <tr>\n",
       "      <th>14</th>\n",
       "      <td>PF00481</td>\n",
       "      <td>NaN</td>\n",
       "      <td>Asn_synthase; Asparagine synthase</td>\n",
       "    </tr>\n",
       "    <tr>\n",
       "      <th>15</th>\n",
       "      <td>PF08612</td>\n",
       "      <td>NaN</td>\n",
       "      <td>RFC1; DNA replication factor RFC1, C-terminal</td>\n",
       "    </tr>\n",
       "    <tr>\n",
       "      <th>16</th>\n",
       "      <td>PF05839</td>\n",
       "      <td>NaN</td>\n",
       "      <td>NUP214</td>\n",
       "    </tr>\n",
       "    <tr>\n",
       "      <th>17</th>\n",
       "      <td>PF05179</td>\n",
       "      <td>NaN</td>\n",
       "      <td>Mob1_phocein; MOB kinase activator family</td>\n",
       "    </tr>\n",
       "    <tr>\n",
       "      <th>18</th>\n",
       "      <td>PF03114</td>\n",
       "      <td>NaN</td>\n",
       "      <td>Glyco_hydro_18; Glycoside hydrolase family 18,...</td>\n",
       "    </tr>\n",
       "    <tr>\n",
       "      <th>19</th>\n",
       "      <td>PF00118</td>\n",
       "      <td>NaN</td>\n",
       "      <td>AD; Anticodon-binding domain</td>\n",
       "    </tr>\n",
       "    <tr>\n",
       "      <th>20</th>\n",
       "      <td>PF00241</td>\n",
       "      <td>NaN</td>\n",
       "      <td>ATP-cone; ATP-cone domain</td>\n",
       "    </tr>\n",
       "    <tr>\n",
       "      <th>21</th>\n",
       "      <td>PF12894</td>\n",
       "      <td>NaN</td>\n",
       "      <td>TEA; TEA/ATTS domain</td>\n",
       "    </tr>\n",
       "    <tr>\n",
       "      <th>22</th>\n",
       "      <td>PF02996</td>\n",
       "      <td>NaN</td>\n",
       "      <td>Gal_mutarotas_2; Glycoside hydrolase family 31...</td>\n",
       "    </tr>\n",
       "    <tr>\n",
       "      <th>23</th>\n",
       "      <td>PF05625</td>\n",
       "      <td>NaN</td>\n",
       "      <td>NMD3</td>\n",
       "    </tr>\n",
       "    <tr>\n",
       "      <th>24</th>\n",
       "      <td>PF00225</td>\n",
       "      <td>NaN</td>\n",
       "      <td>ATE_N; Arginine-tRNA-protein transferase, N-te...</td>\n",
       "    </tr>\n",
       "    <tr>\n",
       "      <th>25</th>\n",
       "      <td>PF00466</td>\n",
       "      <td>NaN</td>\n",
       "      <td>Arg_tRNA_synt_N; Arginyl tRNA synthetase N-ter...</td>\n",
       "    </tr>\n",
       "    <tr>\n",
       "      <th>26</th>\n",
       "      <td>PF00476</td>\n",
       "      <td>NaN</td>\n",
       "      <td>Arrestin_N; Arrestin-like, N-terminal</td>\n",
       "    </tr>\n",
       "    <tr>\n",
       "      <th>27</th>\n",
       "      <td>PF00268</td>\n",
       "      <td>NaN</td>\n",
       "      <td>ATP-synt_ab; ATPase, F1/V1/A1 complex, alpha/b...</td>\n",
       "    </tr>\n",
       "    <tr>\n",
       "      <th>28</th>\n",
       "      <td>PF00268</td>\n",
       "      <td>NaN</td>\n",
       "      <td>ATP-synt_ab; ATPase, F1/V1/A1 complex, alpha/b...</td>\n",
       "    </tr>\n",
       "    <tr>\n",
       "      <th>29</th>\n",
       "      <td>PF00808</td>\n",
       "      <td>NaN</td>\n",
       "      <td>COX1; Cytochrome c oxidase subunit I</td>\n",
       "    </tr>\n",
       "    <tr>\n",
       "      <th>30</th>\n",
       "      <td>PF01412</td>\n",
       "      <td>NaN</td>\n",
       "      <td>DNA_pol_alpha_N; DNA polymerase alpha catalyti...</td>\n",
       "    </tr>\n",
       "    <tr>\n",
       "      <th>31</th>\n",
       "      <td>PF03941</td>\n",
       "      <td>NaN</td>\n",
       "      <td>IGPD; Imidazoleglycerol-phosphate dehydratase</td>\n",
       "    </tr>\n",
       "    <tr>\n",
       "      <th>32</th>\n",
       "      <td>PF00128</td>\n",
       "      <td>NaN</td>\n",
       "      <td>ADSL_C; Adenylosuccinate lyase C-terminal</td>\n",
       "    </tr>\n",
       "    <tr>\n",
       "      <th>33</th>\n",
       "      <td>PF03343</td>\n",
       "      <td>NaN</td>\n",
       "      <td>HAD</td>\n",
       "    </tr>\n",
       "    <tr>\n",
       "      <th>34</th>\n",
       "      <td>PF03343</td>\n",
       "      <td>NaN</td>\n",
       "      <td>HAD</td>\n",
       "    </tr>\n",
       "    <tr>\n",
       "      <th>35</th>\n",
       "      <td>PF08286</td>\n",
       "      <td>NaN</td>\n",
       "      <td>Peptidase_C50</td>\n",
       "    </tr>\n",
       "    <tr>\n",
       "      <th>36</th>\n",
       "      <td>PF03159</td>\n",
       "      <td>NaN</td>\n",
       "      <td>Glyco_tran_28_C; Glycosyl transferase, family ...</td>\n",
       "    </tr>\n",
       "    <tr>\n",
       "      <th>37</th>\n",
       "      <td>PF03159</td>\n",
       "      <td>NaN</td>\n",
       "      <td>Glyco_tran_28_C; Glycosyl transferase, family ...</td>\n",
       "    </tr>\n",
       "    <tr>\n",
       "      <th>38</th>\n",
       "      <td>PF04506</td>\n",
       "      <td>NaN</td>\n",
       "      <td>MGS; Methylglyoxal synthase-like domain</td>\n",
       "    </tr>\n",
       "    <tr>\n",
       "      <th>39</th>\n",
       "      <td>PF02186</td>\n",
       "      <td>NaN</td>\n",
       "      <td>Eisosome1; Eisosome protein 1</td>\n",
       "    </tr>\n",
       "    <tr>\n",
       "      <th>40</th>\n",
       "      <td>PF11935</td>\n",
       "      <td>NaN</td>\n",
       "      <td>Sds3; Sds3-like</td>\n",
       "    </tr>\n",
       "    <tr>\n",
       "      <th>41</th>\n",
       "      <td>PF03162</td>\n",
       "      <td>NaN</td>\n",
       "      <td>Glyco_transf_20; Glycosyl transferase, family 20</td>\n",
       "    </tr>\n",
       "    <tr>\n",
       "      <th>42</th>\n",
       "      <td>PF10181</td>\n",
       "      <td>NaN</td>\n",
       "      <td>Ribosomal_L39; Ribosomal protein L39e</td>\n",
       "    </tr>\n",
       "    <tr>\n",
       "      <th>43</th>\n",
       "      <td>PF09497</td>\n",
       "      <td>NaN</td>\n",
       "      <td>Ribo_biogen_C; Ribosome biogenesis protein, C-...</td>\n",
       "    </tr>\n",
       "    <tr>\n",
       "      <th>44</th>\n",
       "      <td>PF00026</td>\n",
       "      <td>NaN</td>\n",
       "      <td>60KD_IMP; Membrane insertase OXA1/ALB3/YidC</td>\n",
       "    </tr>\n",
       "    <tr>\n",
       "      <th>45</th>\n",
       "      <td>PF04499</td>\n",
       "      <td>NaN</td>\n",
       "      <td>MF_alpha; Mating factor alpha, C-terminal repeat</td>\n",
       "    </tr>\n",
       "    <tr>\n",
       "      <th>46</th>\n",
       "      <td>PF01151</td>\n",
       "      <td>NaN</td>\n",
       "      <td>Cpn10; GroES chaperonin family</td>\n",
       "    </tr>\n",
       "    <tr>\n",
       "      <th>47</th>\n",
       "      <td>PF08580</td>\n",
       "      <td>NaN</td>\n",
       "      <td>Pyr_redox_dim; Pyridine nucleotide-disulphide ...</td>\n",
       "    </tr>\n",
       "    <tr>\n",
       "      <th>48</th>\n",
       "      <td>PF01529</td>\n",
       "      <td>NaN</td>\n",
       "      <td>DUF1752; Protein of unknown function DUF1752, ...</td>\n",
       "    </tr>\n",
       "    <tr>\n",
       "      <th>49</th>\n",
       "      <td>PF05970</td>\n",
       "      <td>NaN</td>\n",
       "      <td>NifU; NIF system FeS cluster assembly, NifU, C...</td>\n",
       "    </tr>\n",
       "    <tr>\n",
       "      <th>50</th>\n",
       "      <td>PF01426</td>\n",
       "      <td>NaN</td>\n",
       "      <td>DRE2_N; Fe-S cluster assembly protein Dre2, N-...</td>\n",
       "    </tr>\n",
       "  </tbody>\n",
       "</table>\n",
       "</div>"
      ],
      "text/plain": [
       "   domain-name domain-description_x  \\\n",
       "0      PF06367                  NaN   \n",
       "1      PF03234                  NaN   \n",
       "2      PF01909                  NaN   \n",
       "3      PF16211                  NaN   \n",
       "4      PF00578                  NaN   \n",
       "5      PF01846                  NaN   \n",
       "6      PF03953                  NaN   \n",
       "7      PF13878                  NaN   \n",
       "8      PF10584                  NaN   \n",
       "9      PF00324                  NaN   \n",
       "10     PF02866                  NaN   \n",
       "11     PF06733                  NaN   \n",
       "12     PF05764                  NaN   \n",
       "13     PF06413                  NaN   \n",
       "14     PF00481                  NaN   \n",
       "15     PF08612                  NaN   \n",
       "16     PF05839                  NaN   \n",
       "17     PF05179                  NaN   \n",
       "18     PF03114                  NaN   \n",
       "19     PF00118                  NaN   \n",
       "20     PF00241                  NaN   \n",
       "21     PF12894                  NaN   \n",
       "22     PF02996                  NaN   \n",
       "23     PF05625                  NaN   \n",
       "24     PF00225                  NaN   \n",
       "25     PF00466                  NaN   \n",
       "26     PF00476                  NaN   \n",
       "27     PF00268                  NaN   \n",
       "28     PF00268                  NaN   \n",
       "29     PF00808                  NaN   \n",
       "30     PF01412                  NaN   \n",
       "31     PF03941                  NaN   \n",
       "32     PF00128                  NaN   \n",
       "33     PF03343                  NaN   \n",
       "34     PF03343                  NaN   \n",
       "35     PF08286                  NaN   \n",
       "36     PF03159                  NaN   \n",
       "37     PF03159                  NaN   \n",
       "38     PF04506                  NaN   \n",
       "39     PF02186                  NaN   \n",
       "40     PF11935                  NaN   \n",
       "41     PF03162                  NaN   \n",
       "42     PF10181                  NaN   \n",
       "43     PF09497                  NaN   \n",
       "44     PF00026                  NaN   \n",
       "45     PF04499                  NaN   \n",
       "46     PF01151                  NaN   \n",
       "47     PF08580                  NaN   \n",
       "48     PF01529                  NaN   \n",
       "49     PF05970                  NaN   \n",
       "50     PF01426                  NaN   \n",
       "\n",
       "                                 domain-description_y  \n",
       "0   NuA4; Chromatin modification-related protein Eaf6  \n",
       "1    Gpi1; N-acetylglucosaminyl transferase component  \n",
       "2          Dynein_light; Dynein light chain, type 1/2  \n",
       "3    YchF-GTPase_C; Domain of unknown function DUF933  \n",
       "4                           BRAP2; BRCA1-associated 2  \n",
       "5                                   DnaJ; DnaJ domain  \n",
       "6   IMS_C; DNA polymerase, Y-family, little finger...  \n",
       "7   Trm112p; Uncharacterised protein family UPF043...  \n",
       "8   SHR-BD; Vacuolar protein sorting-associated pr...  \n",
       "9   Acyl-CoA_ox_N; Acyl-coenzyme A oxidase, N-term...  \n",
       "10  GIT1_C; ARF GTPase-activating protein GIT1, C-...  \n",
       "11    Ost5; Oligosaccharyltransferase complex subunit  \n",
       "12                NPR3; Nitrogen permease regulator 3  \n",
       "13  Nucleoporin_N; Nucleoporin, Nup133/Nup155-like...  \n",
       "14                  Asn_synthase; Asparagine synthase  \n",
       "15      RFC1; DNA replication factor RFC1, C-terminal  \n",
       "16                                             NUP214  \n",
       "17          Mob1_phocein; MOB kinase activator family  \n",
       "18  Glyco_hydro_18; Glycoside hydrolase family 18,...  \n",
       "19                       AD; Anticodon-binding domain  \n",
       "20                          ATP-cone; ATP-cone domain  \n",
       "21                               TEA; TEA/ATTS domain  \n",
       "22  Gal_mutarotas_2; Glycoside hydrolase family 31...  \n",
       "23                                               NMD3  \n",
       "24  ATE_N; Arginine-tRNA-protein transferase, N-te...  \n",
       "25  Arg_tRNA_synt_N; Arginyl tRNA synthetase N-ter...  \n",
       "26              Arrestin_N; Arrestin-like, N-terminal  \n",
       "27  ATP-synt_ab; ATPase, F1/V1/A1 complex, alpha/b...  \n",
       "28  ATP-synt_ab; ATPase, F1/V1/A1 complex, alpha/b...  \n",
       "29               COX1; Cytochrome c oxidase subunit I  \n",
       "30  DNA_pol_alpha_N; DNA polymerase alpha catalyti...  \n",
       "31      IGPD; Imidazoleglycerol-phosphate dehydratase  \n",
       "32          ADSL_C; Adenylosuccinate lyase C-terminal  \n",
       "33                                                HAD  \n",
       "34                                                HAD  \n",
       "35                                      Peptidase_C50  \n",
       "36  Glyco_tran_28_C; Glycosyl transferase, family ...  \n",
       "37  Glyco_tran_28_C; Glycosyl transferase, family ...  \n",
       "38            MGS; Methylglyoxal synthase-like domain  \n",
       "39                      Eisosome1; Eisosome protein 1  \n",
       "40                                    Sds3; Sds3-like  \n",
       "41   Glyco_transf_20; Glycosyl transferase, family 20  \n",
       "42              Ribosomal_L39; Ribosomal protein L39e  \n",
       "43  Ribo_biogen_C; Ribosome biogenesis protein, C-...  \n",
       "44        60KD_IMP; Membrane insertase OXA1/ALB3/YidC  \n",
       "45   MF_alpha; Mating factor alpha, C-terminal repeat  \n",
       "46                     Cpn10; GroES chaperonin family  \n",
       "47  Pyr_redox_dim; Pyridine nucleotide-disulphide ...  \n",
       "48  DUF1752; Protein of unknown function DUF1752, ...  \n",
       "49  NifU; NIF system FeS cluster assembly, NifU, C...  \n",
       "50  DRE2_N; Fe-S cluster assembly protein Dre2, N-...  "
      ]
     },
     "execution_count": 30,
     "metadata": {},
     "output_type": "execute_result"
    }
   ],
   "source": [
    "only_nsl_pd=pd.merge(repeated_features_sl,repeated_features_nsl,how='right',on=['domain-name'])\n",
    "data_only_nsl = only_nsl_pd[pd.isnull(only_nsl_pd['domain-description_x'])]\n",
    "data_only_nsl"
   ]
  },
  {
   "cell_type": "code",
   "execution_count": 31,
   "metadata": {
    "execution": {
     "iopub.execute_input": "2020-07-14T05:03:52.961246Z",
     "iopub.status.busy": "2020-07-14T05:03:52.960832Z",
     "iopub.status.idle": "2020-07-14T05:03:52.965520Z",
     "shell.execute_reply": "2020-07-14T05:03:52.965885Z"
    }
   },
   "outputs": [
    {
     "data": {
      "text/html": [
       "<div>\n",
       "<style scoped>\n",
       "    .dataframe tbody tr th:only-of-type {\n",
       "        vertical-align: middle;\n",
       "    }\n",
       "\n",
       "    .dataframe tbody tr th {\n",
       "        vertical-align: top;\n",
       "    }\n",
       "\n",
       "    .dataframe thead th {\n",
       "        text-align: right;\n",
       "    }\n",
       "</style>\n",
       "<table border=\"1\" class=\"dataframe\">\n",
       "  <thead>\n",
       "    <tr style=\"text-align: right;\">\n",
       "      <th></th>\n",
       "      <th>domain-name</th>\n",
       "      <th>domain-description_x</th>\n",
       "      <th>domain-description_y</th>\n",
       "    </tr>\n",
       "  </thead>\n",
       "  <tbody>\n",
       "  </tbody>\n",
       "</table>\n",
       "</div>"
      ],
      "text/plain": [
       "Empty DataFrame\n",
       "Columns: [domain-name, domain-description_x, domain-description_y]\n",
       "Index: []"
      ]
     },
     "execution_count": 31,
     "metadata": {},
     "output_type": "execute_result"
    }
   ],
   "source": [
    "shared_domains_pd=pd.merge(repeated_features_sl,repeated_features_nsl,how='inner',on=['domain-name'])\n",
    "shared_domains_pd\n"
   ]
  },
  {
   "cell_type": "code",
   "execution_count": 32,
   "metadata": {
    "execution": {
     "iopub.execute_input": "2020-07-14T05:03:52.977092Z",
     "iopub.status.busy": "2020-07-14T05:03:52.974685Z",
     "iopub.status.idle": "2020-07-14T05:03:54.164366Z",
     "shell.execute_reply": "2020-07-14T05:03:54.163407Z"
    }
   },
   "outputs": [
    {
     "data": {
      "text/plain": [
       "(0.0, 0.2)"
      ]
     },
     "execution_count": 32,
     "metadata": {},
     "output_type": "execute_result"
    },
    {
     "data": {
      "image/png": "[encoded data removed]",
      "text/plain": [
       "<Figure size 432x288 with 1 Axes>"
      ]
     },
     "metadata": {
      "filenames": {
       "image/png": "/home/runner/work/jupyter-book/jupyter-book/mini_book/docs/_build/jupyter_execute/prot_domains2lethality-FEATURES-POSTPROCESSING_47_1.png"
      },
      "needs_background": "light"
     },
     "output_type": "display_data"
    }
   ],
   "source": [
    "a_sl=x_sl.iloc[:,np.sort(df_sl.iloc[:,1])]\n",
    "a_sl.describe().loc['mean'].hist(bins=8),\n",
    "a_sl.describe().loc['std'].hist(bins=8,alpha=0.4)\n",
    "plt.xlim([0,0.2])"
   ]
  },
  {
   "cell_type": "code",
   "execution_count": 33,
   "metadata": {
    "execution": {
     "iopub.execute_input": "2020-07-14T05:03:54.173527Z",
     "iopub.status.busy": "2020-07-14T05:03:54.171656Z",
     "iopub.status.idle": "2020-07-14T05:03:55.380418Z",
     "shell.execute_reply": "2020-07-14T05:03:55.379242Z"
    }
   },
   "outputs": [
    {
     "data": {
      "text/plain": [
       "(0.0, 0.2)"
      ]
     },
     "execution_count": 33,
     "metadata": {},
     "output_type": "execute_result"
    },
    {
     "data": {
      "image/png": "[encoded data removed]",
      "text/plain": [
       "<Figure size 432x288 with 1 Axes>"
      ]
     },
     "metadata": {
      "filenames": {
       "image/png": "/home/runner/work/jupyter-book/jupyter-book/mini_book/docs/_build/jupyter_execute/prot_domains2lethality-FEATURES-POSTPROCESSING_48_1.png"
      },
      "needs_background": "light"
     },
     "output_type": "display_data"
    }
   ],
   "source": [
    "a_nsl=x_nsl.iloc[:,np.sort(df_nsl.iloc[:,1])]\n",
    "a_nsl.describe().loc['mean'].hist(bins=8),\n",
    "a_nsl.describe().loc['std'].hist(bins=8,alpha=0.4)\n",
    "plt.xlim([0,0.2])"
   ]
  },
  {
   "cell_type": "markdown",
   "metadata": {},
   "source": [
    "### Proof of concept with *BEM1*\n",
    "\n",
    "- Gather the domains of SL and nSL pairs from BEM1\n",
    "- Check if the domains for the SL and nSL pairs are inside the most important domains after PCA."
   ]
  },
  {
   "cell_type": "code",
   "execution_count": 34,
   "metadata": {
    "execution": {
     "iopub.execute_input": "2020-07-14T05:03:55.387036Z",
     "iopub.status.busy": "2020-07-14T05:03:55.386653Z",
     "iopub.status.idle": "2020-07-14T05:03:55.389897Z",
     "shell.execute_reply": "2020-07-14T05:03:55.390253Z"
    }
   },
   "outputs": [],
   "source": [
    "domains_bem1=data_domains[data_domains['name']=='BEM1']['domain-descrip']\n",
    "sl_bem1=data_sl[data_sl['gene-query-name']=='BEM1']['gene-target-name']"
   ]
  },
  {
   "cell_type": "code",
   "execution_count": 35,
   "metadata": {
    "execution": {
     "iopub.execute_input": "2020-07-14T05:03:55.394556Z",
     "iopub.status.busy": "2020-07-14T05:03:55.394048Z",
     "iopub.status.idle": "2020-07-14T05:03:55.398575Z",
     "shell.execute_reply": "2020-07-14T05:03:55.398245Z"
    }
   },
   "outputs": [
    {
     "data": {
      "text/plain": [
       "2846      BEM2\n",
       "2847     CDC24\n",
       "5004      MSB1\n",
       "13777     SMI1\n",
       "13778     BNI1\n",
       "13779     BEM2\n",
       "14385     SKN7\n",
       "Name: gene-target-name, dtype: object"
      ]
     },
     "execution_count": 35,
     "metadata": {},
     "output_type": "execute_result"
    }
   ],
   "source": [
    "sl_bem1"
   ]
  },
  {
   "cell_type": "code",
   "execution_count": 36,
   "metadata": {
    "execution": {
     "iopub.execute_input": "2020-07-14T05:03:55.410048Z",
     "iopub.status.busy": "2020-07-14T05:03:55.409521Z",
     "iopub.status.idle": "2020-07-14T05:03:55.414237Z",
     "shell.execute_reply": "2020-07-14T05:03:55.413876Z"
    }
   },
   "outputs": [
    {
     "data": {
      "text/html": [
       "<div>\n",
       "<style scoped>\n",
       "    .dataframe tbody tr th:only-of-type {\n",
       "        vertical-align: middle;\n",
       "    }\n",
       "\n",
       "    .dataframe tbody tr th {\n",
       "        vertical-align: top;\n",
       "    }\n",
       "\n",
       "    .dataframe thead th {\n",
       "        text-align: right;\n",
       "    }\n",
       "</style>\n",
       "<table border=\"1\" class=\"dataframe\">\n",
       "  <thead>\n",
       "    <tr style=\"text-align: right;\">\n",
       "      <th></th>\n",
       "      <th>gene-query</th>\n",
       "      <th>gene-target</th>\n",
       "      <th>gene-query-name</th>\n",
       "      <th>gene-target-name</th>\n",
       "      <th>gene-query-description</th>\n",
       "      <th>gene-target-description</th>\n",
       "      <th>interaction-type</th>\n",
       "      <th>paper-source</th>\n",
       "    </tr>\n",
       "  </thead>\n",
       "  <tbody>\n",
       "    <tr>\n",
       "      <th>2846</th>\n",
       "      <td>YBR200W</td>\n",
       "      <td>YER155C</td>\n",
       "      <td>BEM1</td>\n",
       "      <td>BEM2</td>\n",
       "      <td>SRO1|phosphatidylinositol-3-phosphate-binding ...</td>\n",
       "      <td>IPL2|SUP9|TSL1|L000000168</td>\n",
       "      <td>Synthetic Lethality</td>\n",
       "      <td>Peterson J (1994)</td>\n",
       "    </tr>\n",
       "    <tr>\n",
       "      <th>2847</th>\n",
       "      <td>YBR200W</td>\n",
       "      <td>YAL041W</td>\n",
       "      <td>BEM1</td>\n",
       "      <td>CDC24</td>\n",
       "      <td>SRO1|phosphatidylinositol-3-phosphate-binding ...</td>\n",
       "      <td>CLS4|Rho family guanine nucleotide exchange fa...</td>\n",
       "      <td>Synthetic Lethality</td>\n",
       "      <td>Peterson J (1994)</td>\n",
       "    </tr>\n",
       "    <tr>\n",
       "      <th>5004</th>\n",
       "      <td>YBR200W</td>\n",
       "      <td>YOR188W</td>\n",
       "      <td>BEM1</td>\n",
       "      <td>MSB1</td>\n",
       "      <td>SRO1|phosphatidylinositol-3-phosphate-binding ...</td>\n",
       "      <td>L000001184</td>\n",
       "      <td>Synthetic Lethality</td>\n",
       "      <td>Bender A (1991)</td>\n",
       "    </tr>\n",
       "    <tr>\n",
       "      <th>13777</th>\n",
       "      <td>YBR200W</td>\n",
       "      <td>YGR229C</td>\n",
       "      <td>BEM1</td>\n",
       "      <td>SMI1</td>\n",
       "      <td>SRO1|phosphatidylinositol-3-phosphate-binding ...</td>\n",
       "      <td>KNR4|L000000909</td>\n",
       "      <td>Synthetic Lethality</td>\n",
       "      <td>Gorelik M (2011)</td>\n",
       "    </tr>\n",
       "    <tr>\n",
       "      <th>13778</th>\n",
       "      <td>YBR200W</td>\n",
       "      <td>YNL271C</td>\n",
       "      <td>BEM1</td>\n",
       "      <td>BNI1</td>\n",
       "      <td>SRO1|phosphatidylinositol-3-phosphate-binding ...</td>\n",
       "      <td>PPF3|SHE5|formin BNI1|L000000190</td>\n",
       "      <td>Synthetic Lethality</td>\n",
       "      <td>Gorelik M (2011)</td>\n",
       "    </tr>\n",
       "    <tr>\n",
       "      <th>13779</th>\n",
       "      <td>YBR200W</td>\n",
       "      <td>YER155C</td>\n",
       "      <td>BEM1</td>\n",
       "      <td>BEM2</td>\n",
       "      <td>SRO1|phosphatidylinositol-3-phosphate-binding ...</td>\n",
       "      <td>IPL2|SUP9|TSL1|L000000168</td>\n",
       "      <td>Synthetic Lethality</td>\n",
       "      <td>Gorelik M (2011)</td>\n",
       "    </tr>\n",
       "    <tr>\n",
       "      <th>14385</th>\n",
       "      <td>YBR200W</td>\n",
       "      <td>YHR206W</td>\n",
       "      <td>BEM1</td>\n",
       "      <td>SKN7</td>\n",
       "      <td>SRO1|phosphatidylinositol-3-phosphate-binding ...</td>\n",
       "      <td>BRY1|POS9|kinase-regulated stress-responsive t...</td>\n",
       "      <td>Dosage Lethality</td>\n",
       "      <td>Bouquin N (1999)</td>\n",
       "    </tr>\n",
       "  </tbody>\n",
       "</table>\n",
       "</div>"
      ],
      "text/plain": [
       "      gene-query gene-target gene-query-name gene-target-name  \\\n",
       "2846     YBR200W     YER155C            BEM1             BEM2   \n",
       "2847     YBR200W     YAL041W            BEM1            CDC24   \n",
       "5004     YBR200W     YOR188W            BEM1             MSB1   \n",
       "13777    YBR200W     YGR229C            BEM1             SMI1   \n",
       "13778    YBR200W     YNL271C            BEM1             BNI1   \n",
       "13779    YBR200W     YER155C            BEM1             BEM2   \n",
       "14385    YBR200W     YHR206W            BEM1             SKN7   \n",
       "\n",
       "                                  gene-query-description  \\\n",
       "2846   SRO1|phosphatidylinositol-3-phosphate-binding ...   \n",
       "2847   SRO1|phosphatidylinositol-3-phosphate-binding ...   \n",
       "5004   SRO1|phosphatidylinositol-3-phosphate-binding ...   \n",
       "13777  SRO1|phosphatidylinositol-3-phosphate-binding ...   \n",
       "13778  SRO1|phosphatidylinositol-3-phosphate-binding ...   \n",
       "13779  SRO1|phosphatidylinositol-3-phosphate-binding ...   \n",
       "14385  SRO1|phosphatidylinositol-3-phosphate-binding ...   \n",
       "\n",
       "                                 gene-target-description     interaction-type  \\\n",
       "2846                           IPL2|SUP9|TSL1|L000000168  Synthetic Lethality   \n",
       "2847   CLS4|Rho family guanine nucleotide exchange fa...  Synthetic Lethality   \n",
       "5004                                          L000001184  Synthetic Lethality   \n",
       "13777                                    KNR4|L000000909  Synthetic Lethality   \n",
       "13778                   PPF3|SHE5|formin BNI1|L000000190  Synthetic Lethality   \n",
       "13779                          IPL2|SUP9|TSL1|L000000168  Synthetic Lethality   \n",
       "14385  BRY1|POS9|kinase-regulated stress-responsive t...     Dosage Lethality   \n",
       "\n",
       "            paper-source  \n",
       "2846   Peterson J (1994)  \n",
       "2847   Peterson J (1994)  \n",
       "5004     Bender A (1991)  \n",
       "13777   Gorelik M (2011)  \n",
       "13778   Gorelik M (2011)  \n",
       "13779   Gorelik M (2011)  \n",
       "14385   Bouquin N (1999)  "
      ]
     },
     "execution_count": 36,
     "metadata": {},
     "output_type": "execute_result"
    }
   ],
   "source": [
    "data_sl[data_sl['gene-query-name']=='BEM1']"
   ]
  },
  {
   "cell_type": "code",
   "execution_count": null,
   "metadata": {},
   "outputs": [],
   "source": []
  }
 ],
 "metadata": {
  "jupytext": {
   "text_representation": {
    "extension": ".md",
    "format_name": "myst"
   }
  },
  "kernelspec": {
   "display_name": "Python 3",
   "language": "python",
   "name": "python3"
  },
  "language_info": {
   "codemirror_mode": {
    "name": "ipython",
    "version": 3
   },
   "file_extension": ".py",
   "mimetype": "text/x-python",
   "name": "python",
   "nbconvert_exporter": "python",
   "pygments_lexer": "ipython3",
   "version": "3.7.6"
  },
  "source_map": [
   10,
   18,
   29,
   36,
   57,
   66,
   98,
   101,
   105,
   128,
   131,
   135,
   139,
   145,
   178,
   184,
   188,
   206,
   210,
   218,
   222,
   225,
   229,
   234,
   238,
   244,
   248,
   253,
   257,
   267,
   269,
   273,
   306,
   311,
   313,
   317,
   328,
   330,
   334,
   344,
   348,
   358,
   360,
   364,
   381,
   388,
   394,
   400,
   407,
   412,
   419,
   424,
   428,
   432
  ]
 },
 "nbformat": 4,
 "nbformat_minor": 4
}