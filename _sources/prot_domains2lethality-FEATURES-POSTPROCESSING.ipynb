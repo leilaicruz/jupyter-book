{
 "cells": [
  {
   "cell_type": "markdown",
   "metadata": {},
   "source": [
    "# Feature postprocessing from paper.\n",
    "- Title:  \"Predicting yeast synthetic lethal genetic interactions using protein domains\"\n",
    "- Authors: Bo Li, Feng Luo,School of Computing,Clemson University,Clemson, SC, USA\n",
    "- e-mail: bol, luofeng@clemson.edu\n",
    "- year:2009"
   ]
  },
  {
   "cell_type": "code",
   "execution_count": 1,
   "metadata": {
    "execution": {
     "iopub.execute_input": "2020-08-13T02:41:52.291783Z",
     "iopub.status.busy": "2020-08-13T02:41:52.290577Z",
     "iopub.status.idle": "2020-08-13T02:41:53.053715Z",
     "shell.execute_reply": "2020-08-13T02:41:53.050106Z"
    }
   },
   "outputs": [],
   "source": [
    "import pandas as pd\n",
    "import numpy as np\n",
    "import matplotlib.pyplot as plt\n",
    "from collections import defaultdict \n",
    "import seaborn as sns\n",
    "import matplotlib.cm as cm\n",
    "import scipy as scipy\n",
    "import random"
   ]
  },
  {
   "cell_type": "markdown",
   "metadata": {
    "jupyter": {
     "source_hidden": true
    }
   },
   "source": [
    "### Importing datasets \n",
    "\n",
    "#### Link to the github repo where the datasets to be downloaded:\n",
    "[DOWNLOAD THE DATASETS HERE](https://github.com/leilaicruz/machine-learning-for-yeast/tree/dev_Leila/datasets-for-learning)"
   ]
  },
  {
   "cell_type": "code",
   "execution_count": 2,
   "metadata": {
    "execution": {
     "iopub.execute_input": "2020-08-13T02:41:53.060771Z",
     "iopub.status.busy": "2020-08-13T02:41:53.060150Z",
     "iopub.status.idle": "2020-08-13T02:42:00.704705Z",
     "shell.execute_reply": "2020-08-13T02:42:00.705187Z"
    }
   },
   "outputs": [],
   "source": [
    "import os\n",
    "script_dir = os.path.dirname('__file__') #<-- absolute dir the script is in\n",
    "rel_path_SL = \"datasets/data-synthetic-lethals.xlsx\"\n",
    "rel_path_nSL=\"datasets/data-positive-genetic.xlsx\"\n",
    "rel_path_domains=\"datasets/proteins-domains-from-Pfam.xlsx\"\n",
    "\n",
    "abs_file_path_SL = os.path.join(script_dir, rel_path_SL)\n",
    "abs_file_path_nSL = os.path.join(script_dir, rel_path_nSL)\n",
    "abs_file_path_domains = os.path.join(script_dir, rel_path_domains)\n",
    "\n",
    "# os.chdir('mini_book/docs/') #<-- for binder os.chdir('../')\n",
    "# os.chdir('../')\n",
    "my_path_sl= abs_file_path_SL\n",
    "my_path_non_sl=abs_file_path_nSL\n",
    "my_path_domains=abs_file_path_domains\n",
    "\n",
    "data_sl=pd.read_excel(my_path_sl,header=0)\n",
    "data_domains=pd.read_excel(my_path_domains,header=0,index_col='Unnamed: 0')\n",
    "data_domains=data_domains.dropna()\n",
    "data_nonsl=pd.read_excel(my_path_non_sl,header=0)"
   ]
  },
  {
   "cell_type": "markdown",
   "metadata": {},
   "source": [
    "## Building the feature matrix\n",
    "One matrix for true SL where each row is one pair of SL. Every raw will be a vector of 0,1 or 2 depending on the comparison with the domain list. For row i the jth element = 0 if the jth element of the domain list is not in neither protein A and B, 1, if it is in one of them and 2 if it is in both of them .\n",
    "\n",
    "### Building the list of proteins domains id per protein pair separately :\n",
    "- List of protein A: Search for the Sl/nSL database the query gene name and look in the protein domain database which protein domains id has each of those queries.\n",
    "- List of protein B: Search for the Sl/nSL database the target gene name of the previous query and look in the protein domain database which protein domains id has each of those target genes."
   ]
  },
  {
   "cell_type": "code",
   "execution_count": 3,
   "metadata": {
    "execution": {
     "iopub.execute_input": "2020-08-13T02:42:00.768542Z",
     "iopub.status.busy": "2020-08-13T02:42:00.752509Z",
     "iopub.status.idle": "2020-08-13T02:42:02.662988Z",
     "shell.execute_reply": "2020-08-13T02:42:02.662141Z"
    }
   },
   "outputs": [],
   "source": [
    "# Selecting the meaningful columns in the respective dataset\n",
    "domain_id_list=data_domains['domain-name']\n",
    "query_gene=data_sl['gene-query-name']\n",
    "target_gene=data_sl['gene-target-name']\n",
    "query_gene_nonlethal=data_nonsl['gene-query-name']\n",
    "target_gene_nonlethal=data_nonsl['gene-target-name']\n",
    "\n",
    "\n",
    "\n",
    "# Initialising the arrays\n",
    "protein_a_list=[]\n",
    "protein_b_list=[]\n",
    "protein_a_list_non=[]\n",
    "protein_b_list_non=[]\n",
    "\n",
    "population = np.arange(0,len(data_sl))\n",
    "\n",
    "# For loop for 10000 pairs sampled randomly from the SL/nSl pair list , and creating a big array of proteind domains id per protein pair\n",
    "\n",
    "for m in random.sample(list(population), 500):\n",
    "    protein_a=data_domains[data_domains['name']==query_gene[m]]\n",
    "    protein_b=data_domains[data_domains['name']==target_gene[m]]\n",
    "    protein_a_list.append(protein_a['domain-name'].tolist())\n",
    "    protein_b_list.append(protein_b['domain-name'].tolist())\n",
    "\n",
    "    protein_a_non=data_domains[data_domains['name']==query_gene_nonlethal[m]]\n",
    "    protein_b_non=data_domains[data_domains['name']==target_gene_nonlethal[m]]\n",
    "    protein_a_list_non.append(protein_a_non['domain-name'].tolist())\n",
    "    protein_b_list_non.append(protein_b_non['domain-name'].tolist())"
   ]
  },
  {
   "cell_type": "code",
   "execution_count": 4,
   "metadata": {
    "execution": {
     "iopub.execute_input": "2020-08-13T02:42:02.667724Z",
     "iopub.status.busy": "2020-08-13T02:42:02.666442Z",
     "iopub.status.idle": "2020-08-13T02:42:02.672061Z",
     "shell.execute_reply": "2020-08-13T02:42:02.671584Z"
    }
   },
   "outputs": [
    {
     "name": "stdout",
     "output_type": "stream",
     "text": [
      "We are going to analyze 500 protein pairs, out of 17871 SL protein pairs\n",
      "We are going to analyze 500 protein pairs, out of 43340 positive protein pairs\n"
     ]
    }
   ],
   "source": [
    "print('We are going to analyze',len((protein_a_list)) ,'protein pairs, out of',len(data_sl),'SL protein pairs')\n",
    "print('We are going to analyze',len((protein_a_list_non)) ,'protein pairs, out of',len(data_nonsl),'positive protein pairs')"
   ]
  },
  {
   "cell_type": "markdown",
   "metadata": {},
   "source": [
    "### Postprocessing #1:  Remove protein pairs from study if either protein in the pair does not contain any domain"
   ]
  },
  {
   "cell_type": "code",
   "execution_count": 5,
   "metadata": {
    "execution": {
     "iopub.execute_input": "2020-08-13T02:42:02.680989Z",
     "iopub.status.busy": "2020-08-13T02:42:02.680426Z",
     "iopub.status.idle": "2020-08-13T02:42:02.683802Z",
     "shell.execute_reply": "2020-08-13T02:42:02.684522Z"
    }
   },
   "outputs": [],
   "source": [
    "def remove_empty_domains(protein_list_search,protein_list_pair):\n",
    "    index=[]\n",
    "    for i in np.arange(0,len(protein_list_search)):\n",
    "        if protein_list_search[i]==[] or protein_list_pair[i]==[]:\n",
    "            index.append(i) ## index of empty values for the protein_a_list meaning they dont have any annotated domain\n",
    "\n",
    "    y=[x for x in np.arange(0,len(protein_list_search)) if x not in index] # a list with non empty values from protein_a list\n",
    "\n",
    "    protein_list_search_new=[]\n",
    "    protein_list_pair_new=[]\n",
    "    for i in y:\n",
    "        protein_list_search_new.append(protein_list_search[i])\n",
    "        protein_list_pair_new.append(protein_list_pair[i])\n",
    "    return protein_list_search_new,protein_list_pair_new\n",
    "\n",
    "## evaluating the function\n",
    "\n",
    "protein_a_list_new,protein_b_list_new=remove_empty_domains(protein_a_list,protein_b_list)\n",
    "\n",
    "protein_a_list_non_new,protein_b_list_non_new=remove_empty_domains(protein_a_list_non,protein_b_list_non)"
   ]
  },
  {
   "cell_type": "code",
   "execution_count": 6,
   "metadata": {
    "execution": {
     "iopub.execute_input": "2020-08-13T02:42:02.689285Z",
     "iopub.status.busy": "2020-08-13T02:42:02.688737Z",
     "iopub.status.idle": "2020-08-13T02:42:02.695128Z",
     "shell.execute_reply": "2020-08-13T02:42:02.694209Z"
    }
   },
   "outputs": [
    {
     "name": "stdout",
     "output_type": "stream",
     "text": [
      "The empty domain in the SL were: 68 out of 500 domains\n",
      "The empty domain in the nSL were: 87 out of 500 domains\n"
     ]
    }
   ],
   "source": [
    "print('The empty domain in the SL were:', len(protein_a_list)-len(protein_a_list_new), 'out of', len(protein_a_list),'domains')\n",
    "print('The empty domain in the nSL were:', len(protein_a_list_non)-len(protein_a_list_non_new), 'out of', len(protein_a_list_non),'domains')"
   ]
  },
  {
   "cell_type": "markdown",
   "metadata": {},
   "source": [
    "### Feature engineering: Select from each ordered indexes of domain id list which of them appear once, in both or in any of the domains of each protein pair"
   ]
  },
  {
   "cell_type": "markdown",
   "metadata": {},
   "source": [
    "#### Define function `get_indexes`"
   ]
  },
  {
   "cell_type": "code",
   "execution_count": 7,
   "metadata": {
    "execution": {
     "iopub.execute_input": "2020-08-13T02:42:02.703320Z",
     "iopub.status.busy": "2020-08-13T02:42:02.702690Z",
     "iopub.status.idle": "2020-08-13T02:42:02.717696Z",
     "shell.execute_reply": "2020-08-13T02:42:02.718558Z"
    }
   },
   "outputs": [
    {
     "data": {
      "text/plain": [
       "[1, 2]"
      ]
     },
     "execution_count": 7,
     "metadata": {},
     "output_type": "execute_result"
    }
   ],
   "source": [
    "get_indexes = lambda x, xs: [i for (y, i) in zip(xs, range(len(xs))) if x == y] # a function that give the index of whether a value appear in array or not\n",
    "a=[1,2,2,4,5,6,7,8,9,10]\n",
    "get_indexes(2,a)"
   ]
  },
  {
   "cell_type": "code",
   "execution_count": 8,
   "metadata": {
    "execution": {
     "iopub.execute_input": "2020-08-13T02:42:02.726448Z",
     "iopub.status.busy": "2020-08-13T02:42:02.725833Z",
     "iopub.status.idle": "2020-08-13T02:42:02.730297Z",
     "shell.execute_reply": "2020-08-13T02:42:02.729348Z"
    }
   },
   "outputs": [],
   "source": [
    "def feature_building(protein_a_list_new,protein_b_list_new):\n",
    "    x = np.unique(domain_id_list)\n",
    "    ## To avoid taking repeated domains from one protein of the pairs , lets reduced the domains of each protein from the pairs to their unique members\n",
    "    protein_a_list_unique=[]\n",
    "    protein_b_list_unique=[]\n",
    "    for i in np.arange(0,len(protein_a_list_new)):\n",
    "        protein_a_list_unique.append(np.unique(protein_a_list_new[i]))\n",
    "        protein_b_list_unique.append(np.unique(protein_b_list_new[i]))\n",
    "        \n",
    "    protein_feat_true=np.zeros(shape=(len(x),len(protein_a_list_unique)))\n",
    "    pair_a_b_array=[]\n",
    "    for i in np.arange(0,len(protein_a_list_unique)):\n",
    "        index_a=[]\n",
    "        \n",
    "        pair=[protein_a_list_unique[i],protein_b_list_unique[i]]\n",
    "        pair_a_b=np.concatenate(pair).ravel()\n",
    "        pair_a_b_array.append(pair_a_b)\n",
    "\n",
    "    j=0\n",
    "    for i in pair_a_b_array:  \n",
    "        array,index,counts=np.unique(i,return_index=True,return_counts=True)\n",
    "        \n",
    "        for k,m in zip(counts,array):\n",
    "            if k ==2:\n",
    "                protein_feat_true[get_indexes(m,x),j]=2\n",
    "                \n",
    "            if k==1:\n",
    "                protein_feat_true[get_indexes(m,x),j]=1\n",
    "        j=j+1\n",
    "    return protein_feat_true"
   ]
  },
  {
   "cell_type": "code",
   "execution_count": 9,
   "metadata": {
    "execution": {
     "iopub.execute_input": "2020-08-13T02:42:02.739741Z",
     "iopub.status.busy": "2020-08-13T02:42:02.738766Z",
     "iopub.status.idle": "2020-08-13T02:42:03.549408Z",
     "shell.execute_reply": "2020-08-13T02:42:03.548987Z"
    }
   },
   "outputs": [],
   "source": [
    "protein_feat_true=feature_building(protein_b_list_new=protein_b_list_new,protein_a_list_new=protein_a_list_new)\n",
    "protein_feat_true_pd=pd.DataFrame(protein_feat_true.T)\n",
    "\n",
    "protein_feat_non_true=feature_building(protein_b_list_new=protein_b_list_non_new,protein_a_list_new=protein_a_list_non_new)\n",
    "protein_feat_non_true_pd=pd.DataFrame(protein_feat_non_true.T)"
   ]
  },
  {
   "cell_type": "markdown",
   "metadata": {},
   "source": [
    "### How many ones and twos are in each dataset"
   ]
  },
  {
   "cell_type": "code",
   "execution_count": 10,
   "metadata": {
    "execution": {
     "iopub.execute_input": "2020-08-13T02:42:03.556036Z",
     "iopub.status.busy": "2020-08-13T02:42:03.555461Z",
     "iopub.status.idle": "2020-08-13T02:42:03.666828Z",
     "shell.execute_reply": "2020-08-13T02:42:03.667275Z"
    }
   },
   "outputs": [
    {
     "name": "stdout",
     "output_type": "stream",
     "text": [
      "fraction of twos in the SL array is 2.295684113865932e-05\n",
      "fraction of ones in the SL array is 0.0009970921334557699\n",
      "fraction of twos in the PI array is 6.403457867248314e-06\n",
      "fraction of ones in the PI array is 0.000916494907249915\n"
     ]
    }
   ],
   "source": [
    "index_2_true=protein_feat_true_pd.where(protein_feat_true_pd==2)\n",
    "index_2_true_count=index_2_true.count(axis=1).sum()\n",
    "\n",
    "index_1_true=protein_feat_true_pd.where(protein_feat_true_pd==1)\n",
    "index_1_true_count=index_1_true.count(axis=1).sum()\n",
    "\n",
    "index_2_nontrue=protein_feat_non_true_pd.where(protein_feat_non_true_pd==2)\n",
    "index_2_nontrue_count=index_2_nontrue.count(axis=1).sum()\n",
    "\n",
    "index_1_nontrue=protein_feat_non_true_pd.where(protein_feat_non_true_pd==1)\n",
    "index_1_nontrue_count=index_1_nontrue.count(axis=1).sum()\n",
    "\n",
    "\n",
    "print('fraction of twos in the SL array is',index_2_true_count/(len(protein_feat_true_pd.index)*len(protein_feat_true_pd.columns)))\n",
    "print('fraction of ones in the SL array is',index_1_true_count/(len(protein_feat_true_pd.index)*len(protein_feat_true_pd.columns)))\n",
    "print('fraction of twos in the PI array is',index_2_nontrue_count/(len(protein_feat_non_true_pd.index)*len(protein_feat_non_true_pd.columns)))\n",
    "print('fraction of ones in the PI array is',index_1_nontrue_count/(len(protein_feat_non_true_pd.index)*len(protein_feat_non_true_pd.columns)))"
   ]
  },
  {
   "cell_type": "markdown",
   "metadata": {},
   "source": [
    "#### Bar plot to visualize these numbers"
   ]
  },
  {
   "cell_type": "code",
   "execution_count": 11,
   "metadata": {
    "execution": {
     "iopub.execute_input": "2020-08-13T02:42:03.688504Z",
     "iopub.status.busy": "2020-08-13T02:42:03.687807Z",
     "iopub.status.idle": "2020-08-13T02:42:04.195236Z",
     "shell.execute_reply": "2020-08-13T02:42:04.194753Z"
    }
   },
   "outputs": [
    {
     "data": {
      "text/plain": [
       "([0, 1, 2, 3],\n",
       " [Text(0, 0, ''), Text(0, 0, ''), Text(0, 0, ''), Text(0, 0, '')])"
      ]
     },
     "execution_count": 11,
     "metadata": {},
     "output_type": "execute_result"
    },
    {
     "data": {
      "image/png": "[encoded data removed]",
      "text/plain": [
       "<Figure size 432x288 with 1 Axes>"
      ]
     },
     "metadata": {
      "filenames": {
       "image/png": "/home/runner/work/jupyter-book/jupyter-book/mini_book/docs/_build/jupyter_execute/prot_domains2lethality-FEATURES-POSTPROCESSING_18_1.png"
      },
      "needs_background": "light"
     },
     "output_type": "display_data"
    }
   ],
   "source": [
    "plt.bar(['fraction of 2 in the nSL','fraction of 1 in the nSL'],[index_2_nontrue_count/(len(protein_feat_non_true_pd.index)*len(protein_feat_non_true_pd.columns)),index_1_nontrue_count/(len(protein_feat_non_true_pd.index)*len(protein_feat_non_true_pd.columns))],alpha=0.6,color=['blue','lightblue']), \n",
    "\n",
    "plt.bar(['fraction of 2 in SL ','fraction of 1 in SL'],[index_2_true_count/(len(protein_feat_true_pd.index)*len(protein_feat_true_pd.columns)),index_1_true_count/(len(protein_feat_true_pd.index)*len(protein_feat_true_pd.columns))],alpha=0.6,color=['coral','lightcoral'])\n",
    "\n",
    "plt.ylabel('Fraction from the population')\n",
    "plt.yscale('log')\n",
    "plt.xticks(rotation=40)"
   ]
  },
  {
   "cell_type": "markdown",
   "metadata": {},
   "source": [
    "#### Adding the labels(response variables) to each dataset"
   ]
  },
  {
   "cell_type": "code",
   "execution_count": 12,
   "metadata": {
    "execution": {
     "iopub.execute_input": "2020-08-13T02:42:04.202226Z",
     "iopub.status.busy": "2020-08-13T02:42:04.201468Z",
     "iopub.status.idle": "2020-08-13T02:42:04.205646Z",
     "shell.execute_reply": "2020-08-13T02:42:04.205170Z"
    }
   },
   "outputs": [],
   "source": [
    "protein_feat_true_pd['lethality']=np.ones(shape=(len(protein_a_list_new)))\n",
    "protein_feat_non_true_pd['lethality']=np.zeros(shape=(len(protein_a_list_non_new)))"
   ]
  },
  {
   "cell_type": "markdown",
   "metadata": {},
   "source": [
    "#### Joining both datasets"
   ]
  },
  {
   "cell_type": "code",
   "execution_count": 13,
   "metadata": {
    "execution": {
     "iopub.execute_input": "2020-08-13T02:42:04.210402Z",
     "iopub.status.busy": "2020-08-13T02:42:04.209695Z",
     "iopub.status.idle": "2020-08-13T02:42:04.250112Z",
     "shell.execute_reply": "2020-08-13T02:42:04.249536Z"
    }
   },
   "outputs": [
    {
     "name": "stdout",
     "output_type": "stream",
     "text": [
      "The number of features are: 3026\n",
      "The number of samples are: 845\n"
     ]
    }
   ],
   "source": [
    "feature_post=pd.concat([protein_feat_true_pd,protein_feat_non_true_pd],axis=0)\n",
    "feature_post=feature_post.set_index(np.arange(0,len(protein_a_list_new)+len(protein_a_list_non_new)))\n",
    "print('The number of features are:',feature_post.shape[1])\n",
    "print('The number of samples are:',feature_post.shape[0])"
   ]
  },
  {
   "cell_type": "markdown",
   "metadata": {},
   "source": [
    "### Postprocessing and exploration of the feature matrix of both datasets"
   ]
  },
  {
   "cell_type": "code",
   "execution_count": 14,
   "metadata": {
    "execution": {
     "iopub.execute_input": "2020-08-13T02:42:04.267409Z",
     "iopub.status.busy": "2020-08-13T02:42:04.266824Z",
     "iopub.status.idle": "2020-08-13T02:42:09.029871Z",
     "shell.execute_reply": "2020-08-13T02:42:09.030446Z"
    }
   },
   "outputs": [],
   "source": [
    "mean=feature_post.T.describe().loc['mean']\n",
    "std=feature_post.T.describe().loc['std']\n",
    "lethality=feature_post['lethality']\n",
    "\n",
    "corr_keys=pd.concat([mean,std,lethality],axis=1)"
   ]
  },
  {
   "cell_type": "markdown",
   "metadata": {},
   "source": [
    "### Viz of the stats"
   ]
  },
  {
   "cell_type": "code",
   "execution_count": 15,
   "metadata": {
    "execution": {
     "iopub.execute_input": "2020-08-13T02:42:09.086260Z",
     "iopub.status.busy": "2020-08-13T02:42:09.072488Z",
     "iopub.status.idle": "2020-08-13T02:42:10.860210Z",
     "shell.execute_reply": "2020-08-13T02:42:10.861176Z"
    }
   },
   "outputs": [
    {
     "data": {
      "text/plain": [
       "Text(0.5, 1.08, 'Pairplot to see data dependencies with Lethality')"
      ]
     },
     "execution_count": 15,
     "metadata": {},
     "output_type": "execute_result"
    },
    {
     "data": {
      "image/png": "[encoded data removed]",
      "text/plain": [
       "<Figure size 412x360 with 6 Axes>"
      ]
     },
     "metadata": {
      "filenames": {
       "image/png": "/home/runner/work/jupyter-book/jupyter-book/mini_book/docs/_build/jupyter_execute/prot_domains2lethality-FEATURES-POSTPROCESSING_26_1.png"
      },
      "needs_background": "light"
     },
     "output_type": "display_data"
    }
   ],
   "source": [
    "pair=sns.pairplot(corr_keys,hue='lethality',diag_kind='kde',kind='reg',palette='colorblind')\n",
    "pair.fig.suptitle('Pairplot to see data dependencies with Lethality',y=1.08)"
   ]
  },
  {
   "cell_type": "code",
   "execution_count": 16,
   "metadata": {
    "execution": {
     "iopub.execute_input": "2020-08-13T02:42:10.872404Z",
     "iopub.status.busy": "2020-08-13T02:42:10.871888Z",
     "iopub.status.idle": "2020-08-13T02:42:10.876287Z",
     "shell.execute_reply": "2020-08-13T02:42:10.875464Z"
    }
   },
   "outputs": [],
   "source": [
    "X, y = feature_post.drop(columns=[\"lethality\"]), feature_post[\"lethality\"]"
   ]
  },
  {
   "cell_type": "code",
   "execution_count": 17,
   "metadata": {
    "execution": {
     "iopub.execute_input": "2020-08-13T02:42:10.881501Z",
     "iopub.status.busy": "2020-08-13T02:42:10.880510Z",
     "iopub.status.idle": "2020-08-13T02:42:11.108342Z",
     "shell.execute_reply": "2020-08-13T02:42:11.108755Z"
    }
   },
   "outputs": [],
   "source": [
    "from sklearn.preprocessing import StandardScaler\n",
    "scaler = StandardScaler()\n",
    "x_sl=protein_feat_true_pd.drop(columns=['lethality'])\n",
    "x_nsl=protein_feat_non_true_pd.drop(columns=['lethality'])\n",
    "\n",
    "X_sl_scaled = scaler.fit_transform(x_sl)\n",
    "X_nsl_scaled = scaler.fit_transform(x_nsl)"
   ]
  },
  {
   "cell_type": "code",
   "execution_count": 18,
   "metadata": {
    "execution": {
     "iopub.execute_input": "2020-08-13T02:42:11.113934Z",
     "iopub.status.busy": "2020-08-13T02:42:11.112989Z",
     "iopub.status.idle": "2020-08-13T02:42:11.118196Z",
     "shell.execute_reply": "2020-08-13T02:42:11.117764Z"
    }
   },
   "outputs": [
    {
     "data": {
      "text/plain": [
       "(432, 3025)"
      ]
     },
     "execution_count": 18,
     "metadata": {},
     "output_type": "execute_result"
    }
   ],
   "source": [
    "np.shape(X_sl_scaled)"
   ]
  },
  {
   "cell_type": "markdown",
   "metadata": {},
   "source": [
    "## How redundant are each of the protein domains?"
   ]
  },
  {
   "cell_type": "code",
   "execution_count": 19,
   "metadata": {
    "execution": {
     "iopub.execute_input": "2020-08-13T02:42:11.124769Z",
     "iopub.status.busy": "2020-08-13T02:42:11.123701Z",
     "iopub.status.idle": "2020-08-13T02:42:11.125642Z",
     "shell.execute_reply": "2020-08-13T02:42:11.126173Z"
    }
   },
   "outputs": [],
   "source": [
    "def PCA_component_contribution(scaled_matrix,original_data):\n",
    "    from sklearn.decomposition import PCA\n",
    "\n",
    "    model = PCA(0.95).fit(scaled_matrix)\n",
    "    ## apply dimensionality reduction to X_train\n",
    "    output_pca = model.transform(scaled_matrix)\n",
    "    \n",
    "    total=sum(model.explained_variance_)\n",
    "\n",
    "\n",
    "   \n",
    "    # number of components , that it will be the number of main axes times the number of original components \n",
    "    n_pcs= model.components_.shape[0] # the amount of non redundant protein domains \n",
    "\n",
    "    # get the index of the most important feature on EACH component\n",
    "    # LIST COMPREHENSION HERE\n",
    "    most_important = [np.abs(model.components_[i]).argmax() for i in range(n_pcs)]\n",
    "\n",
    "    initial_feature_names = original_data.columns\n",
    "    # get the names\n",
    "    most_important_names = [initial_feature_names[most_important[i]] for i in range(n_pcs)]\n",
    "    \n",
    "\n",
    "    # LIST COMPREHENSION HERE AGAIN\n",
    "    dic = {'PC{}'.format(i): most_important_names[i] for i in range(n_pcs)}\n",
    "\n",
    "    # build the dataframe\n",
    "    df = pd.DataFrame(dic.items(),columns=['pca-component','domain-number'])\n",
    "\n",
    "    return df,model.components_"
   ]
  },
  {
   "cell_type": "code",
   "execution_count": 20,
   "metadata": {
    "execution": {
     "iopub.execute_input": "2020-08-13T02:42:11.130235Z",
     "iopub.status.busy": "2020-08-13T02:42:11.129623Z",
     "iopub.status.idle": "2020-08-13T02:42:11.908934Z",
     "shell.execute_reply": "2020-08-13T02:42:11.909722Z"
    }
   },
   "outputs": [],
   "source": [
    "df_sl,components_pca_nsl=PCA_component_contribution(X_nsl_scaled,x_nsl)\n",
    "df_nsl,components_pca_sl=PCA_component_contribution(X_sl_scaled,x_sl)"
   ]
  },
  {
   "cell_type": "code",
   "execution_count": 21,
   "metadata": {
    "execution": {
     "iopub.execute_input": "2020-08-13T02:42:11.912997Z",
     "iopub.status.busy": "2020-08-13T02:42:11.911913Z",
     "iopub.status.idle": "2020-08-13T02:42:11.922874Z",
     "shell.execute_reply": "2020-08-13T02:42:11.923694Z"
    }
   },
   "outputs": [
    {
     "data": {
      "text/html": [
       "<div>\n",
       "<style scoped>\n",
       "    .dataframe tbody tr th:only-of-type {\n",
       "        vertical-align: middle;\n",
       "    }\n",
       "\n",
       "    .dataframe tbody tr th {\n",
       "        vertical-align: top;\n",
       "    }\n",
       "\n",
       "    .dataframe thead th {\n",
       "        text-align: right;\n",
       "    }\n",
       "</style>\n",
       "<table border=\"1\" class=\"dataframe\">\n",
       "  <thead>\n",
       "    <tr style=\"text-align: right;\">\n",
       "      <th></th>\n",
       "      <th>pca-component</th>\n",
       "      <th>domain-number</th>\n",
       "    </tr>\n",
       "  </thead>\n",
       "  <tbody>\n",
       "    <tr>\n",
       "      <th>0</th>\n",
       "      <td>PC0</td>\n",
       "      <td>305</td>\n",
       "    </tr>\n",
       "    <tr>\n",
       "      <th>1</th>\n",
       "      <td>PC1</td>\n",
       "      <td>304</td>\n",
       "    </tr>\n",
       "    <tr>\n",
       "      <th>2</th>\n",
       "      <td>PC2</td>\n",
       "      <td>135</td>\n",
       "    </tr>\n",
       "    <tr>\n",
       "      <th>3</th>\n",
       "      <td>PC3</td>\n",
       "      <td>142</td>\n",
       "    </tr>\n",
       "    <tr>\n",
       "      <th>4</th>\n",
       "      <td>PC4</td>\n",
       "      <td>192</td>\n",
       "    </tr>\n",
       "  </tbody>\n",
       "</table>\n",
       "</div>"
      ],
      "text/plain": [
       "  pca-component  domain-number\n",
       "0           PC0            305\n",
       "1           PC1            304\n",
       "2           PC2            135\n",
       "3           PC3            142\n",
       "4           PC4            192"
      ]
     },
     "execution_count": 21,
     "metadata": {},
     "output_type": "execute_result"
    }
   ],
   "source": [
    "df_sl.head()"
   ]
  },
  {
   "cell_type": "markdown",
   "metadata": {},
   "source": [
    "## which are the shared domains between nSL and SL pairs , in the PCA reduced samples"
   ]
  },
  {
   "cell_type": "code",
   "execution_count": 22,
   "metadata": {
    "execution": {
     "iopub.execute_input": "2020-08-13T02:42:11.927507Z",
     "iopub.status.busy": "2020-08-13T02:42:11.926090Z",
     "iopub.status.idle": "2020-08-13T02:42:11.959456Z",
     "shell.execute_reply": "2020-08-13T02:42:11.960278Z"
    }
   },
   "outputs": [
    {
     "data": {
      "text/html": [
       "<div>\n",
       "<style scoped>\n",
       "    .dataframe tbody tr th:only-of-type {\n",
       "        vertical-align: middle;\n",
       "    }\n",
       "\n",
       "    .dataframe tbody tr th {\n",
       "        vertical-align: top;\n",
       "    }\n",
       "\n",
       "    .dataframe thead th {\n",
       "        text-align: right;\n",
       "    }\n",
       "</style>\n",
       "<table border=\"1\" class=\"dataframe\">\n",
       "  <thead>\n",
       "    <tr style=\"text-align: right;\">\n",
       "      <th></th>\n",
       "      <th>pca-component_x</th>\n",
       "      <th>domain-number</th>\n",
       "      <th>pca-component_y</th>\n",
       "      <th>domain-description</th>\n",
       "    </tr>\n",
       "  </thead>\n",
       "  <tbody>\n",
       "    <tr>\n",
       "      <th>0</th>\n",
       "      <td>PC7</td>\n",
       "      <td>1260</td>\n",
       "      <td>PC54</td>\n",
       "      <td>KOW</td>\n",
       "    </tr>\n",
       "    <tr>\n",
       "      <th>1</th>\n",
       "      <td>PC8</td>\n",
       "      <td>133</td>\n",
       "      <td>PC1</td>\n",
       "      <td>ATP-synt_ab_C; ATP synthase, alpha subunit, C-...</td>\n",
       "    </tr>\n",
       "    <tr>\n",
       "      <th>2</th>\n",
       "      <td>PC15</td>\n",
       "      <td>83</td>\n",
       "      <td>PC33</td>\n",
       "      <td>ANAPC1; Anaphase-promoting complex subunit 1</td>\n",
       "    </tr>\n",
       "    <tr>\n",
       "      <th>3</th>\n",
       "      <td>PC16</td>\n",
       "      <td>926</td>\n",
       "      <td>PC16</td>\n",
       "      <td>Flp_C; Recombinase Flp protein</td>\n",
       "    </tr>\n",
       "    <tr>\n",
       "      <th>4</th>\n",
       "      <td>PC23</td>\n",
       "      <td>300</td>\n",
       "      <td>PC66</td>\n",
       "      <td>BolA; BolA protein</td>\n",
       "    </tr>\n",
       "    <tr>\n",
       "      <th>...</th>\n",
       "      <td>...</td>\n",
       "      <td>...</td>\n",
       "      <td>...</td>\n",
       "      <td>...</td>\n",
       "    </tr>\n",
       "    <tr>\n",
       "      <th>58</th>\n",
       "      <td>PC267</td>\n",
       "      <td>665</td>\n",
       "      <td>PC88</td>\n",
       "      <td>DUF202; Domain of unknown function DUF202</td>\n",
       "    </tr>\n",
       "    <tr>\n",
       "      <th>59</th>\n",
       "      <td>PC263</td>\n",
       "      <td>1061</td>\n",
       "      <td>PC282</td>\n",
       "      <td>Glyco_tran_28_C; Glycosyl transferase, family ...</td>\n",
       "    </tr>\n",
       "    <tr>\n",
       "      <th>60</th>\n",
       "      <td>PC264</td>\n",
       "      <td>4</td>\n",
       "      <td>PC260</td>\n",
       "      <td>2-oxoacid_dh; 2-oxoacid dehydrogenase acyltran...</td>\n",
       "    </tr>\n",
       "    <tr>\n",
       "      <th>61</th>\n",
       "      <td>PC275</td>\n",
       "      <td>161</td>\n",
       "      <td>PC272</td>\n",
       "      <td>Acyl-CoA_ox_N; Acyl-coenzyme A oxidase, N-term...</td>\n",
       "    </tr>\n",
       "    <tr>\n",
       "      <th>62</th>\n",
       "      <td>PC278</td>\n",
       "      <td>123</td>\n",
       "      <td>PC131</td>\n",
       "      <td>ATP-synt_A; ATP synthase, F0 complex, subunit A</td>\n",
       "    </tr>\n",
       "  </tbody>\n",
       "</table>\n",
       "<p>63 rows × 4 columns</p>\n",
       "</div>"
      ],
      "text/plain": [
       "   pca-component_x  domain-number pca-component_y  \\\n",
       "0              PC7           1260            PC54   \n",
       "1              PC8            133             PC1   \n",
       "2             PC15             83            PC33   \n",
       "3             PC16            926            PC16   \n",
       "4             PC23            300            PC66   \n",
       "..             ...            ...             ...   \n",
       "58           PC267            665            PC88   \n",
       "59           PC263           1061           PC282   \n",
       "60           PC264              4           PC260   \n",
       "61           PC275            161           PC272   \n",
       "62           PC278            123           PC131   \n",
       "\n",
       "                                   domain-description  \n",
       "0                                                 KOW  \n",
       "1   ATP-synt_ab_C; ATP synthase, alpha subunit, C-...  \n",
       "2        ANAPC1; Anaphase-promoting complex subunit 1  \n",
       "3                      Flp_C; Recombinase Flp protein  \n",
       "4                                  BolA; BolA protein  \n",
       "..                                                ...  \n",
       "58          DUF202; Domain of unknown function DUF202  \n",
       "59  Glyco_tran_28_C; Glycosyl transferase, family ...  \n",
       "60  2-oxoacid_dh; 2-oxoacid dehydrogenase acyltran...  \n",
       "61  Acyl-CoA_ox_N; Acyl-coenzyme A oxidase, N-term...  \n",
       "62    ATP-synt_A; ATP synthase, F0 complex, subunit A  \n",
       "\n",
       "[63 rows x 4 columns]"
      ]
     },
     "execution_count": 22,
     "metadata": {},
     "output_type": "execute_result"
    }
   ],
   "source": [
    "df_shared_domains=pd.merge(df_sl,df_nsl,how='inner',on='domain-number')\n",
    "domains_name=np.unique(data_domains['domain-name'])\n",
    "domains_description=np.unique(data_domains['domain-descrip'])\n",
    "\n",
    "df_shared_domains['domain-description']=domains_description[df_shared_domains['domain-number']]\n",
    "\n",
    "\n",
    "df_shared_domains"
   ]
  },
  {
   "cell_type": "code",
   "execution_count": 23,
   "metadata": {
    "execution": {
     "iopub.execute_input": "2020-08-13T02:42:11.963991Z",
     "iopub.status.busy": "2020-08-13T02:42:11.962868Z",
     "iopub.status.idle": "2020-08-13T02:42:11.970564Z",
     "shell.execute_reply": "2020-08-13T02:42:11.971369Z"
    }
   },
   "outputs": [
    {
     "name": "stdout",
     "output_type": "stream",
     "text": [
      "The number of shared domains between SL and nSL pairs,after PCA, is =  63 out of 570 so the 11.052631578947368 %\n"
     ]
    }
   ],
   "source": [
    "print('The number of shared domains between SL and nSL pairs,after PCA, is = ',len(df_shared_domains), 'out of', len(df_sl)+len(df_nsl), 'so the',100*len(df_shared_domains)/(len(df_sl)+len(df_nsl)),'%')"
   ]
  },
  {
   "cell_type": "markdown",
   "metadata": {},
   "source": [
    "## Domains exclusive to SL"
   ]
  },
  {
   "cell_type": "code",
   "execution_count": 24,
   "metadata": {
    "execution": {
     "iopub.execute_input": "2020-08-13T02:42:11.974702Z",
     "iopub.status.busy": "2020-08-13T02:42:11.973545Z",
     "iopub.status.idle": "2020-08-13T02:42:12.003101Z",
     "shell.execute_reply": "2020-08-13T02:42:12.003807Z"
    }
   },
   "outputs": [
    {
     "data": {
      "text/html": [
       "<div>\n",
       "<style scoped>\n",
       "    .dataframe tbody tr th:only-of-type {\n",
       "        vertical-align: middle;\n",
       "    }\n",
       "\n",
       "    .dataframe tbody tr th {\n",
       "        vertical-align: top;\n",
       "    }\n",
       "\n",
       "    .dataframe thead th {\n",
       "        text-align: right;\n",
       "    }\n",
       "</style>\n",
       "<table border=\"1\" class=\"dataframe\">\n",
       "  <thead>\n",
       "    <tr style=\"text-align: right;\">\n",
       "      <th></th>\n",
       "      <th>pca-component_x</th>\n",
       "      <th>domain-number</th>\n",
       "      <th>pca-component_y</th>\n",
       "      <th>domain-description</th>\n",
       "    </tr>\n",
       "  </thead>\n",
       "  <tbody>\n",
       "    <tr>\n",
       "      <th>0</th>\n",
       "      <td>PC0</td>\n",
       "      <td>305</td>\n",
       "      <td>NaN</td>\n",
       "      <td>Brr6_like_C_C; Brl1/Brr6 domain</td>\n",
       "    </tr>\n",
       "    <tr>\n",
       "      <th>1</th>\n",
       "      <td>PC1</td>\n",
       "      <td>304</td>\n",
       "      <td>NaN</td>\n",
       "      <td>Bromodomain</td>\n",
       "    </tr>\n",
       "    <tr>\n",
       "      <th>2</th>\n",
       "      <td>PC2</td>\n",
       "      <td>135</td>\n",
       "      <td>NaN</td>\n",
       "      <td>ATP-synt_ab_Xtn; ATPsynthase alpha/beta subuni...</td>\n",
       "    </tr>\n",
       "    <tr>\n",
       "      <th>3</th>\n",
       "      <td>PC3</td>\n",
       "      <td>142</td>\n",
       "      <td>NaN</td>\n",
       "      <td>ATP_synt_H; ATPase, V0 complex, subunit e1/e2</td>\n",
       "    </tr>\n",
       "    <tr>\n",
       "      <th>4</th>\n",
       "      <td>PC4</td>\n",
       "      <td>192</td>\n",
       "      <td>NaN</td>\n",
       "      <td>Alkyl_sulf_C; Alkyl sulfatase, C-terminal</td>\n",
       "    </tr>\n",
       "    <tr>\n",
       "      <th>...</th>\n",
       "      <td>...</td>\n",
       "      <td>...</td>\n",
       "      <td>...</td>\n",
       "      <td>...</td>\n",
       "    </tr>\n",
       "    <tr>\n",
       "      <th>290</th>\n",
       "      <td>PC279</td>\n",
       "      <td>407</td>\n",
       "      <td>NaN</td>\n",
       "      <td>CPSase_L_D2; Carbamoyl-phosphate synthetase la...</td>\n",
       "    </tr>\n",
       "    <tr>\n",
       "      <th>291</th>\n",
       "      <td>PC280</td>\n",
       "      <td>585</td>\n",
       "      <td>NaN</td>\n",
       "      <td>DHHA2; DHHA2 domain</td>\n",
       "    </tr>\n",
       "    <tr>\n",
       "      <th>292</th>\n",
       "      <td>PC281</td>\n",
       "      <td>264</td>\n",
       "      <td>NaN</td>\n",
       "      <td>BCNT; BCNT-C domain</td>\n",
       "    </tr>\n",
       "    <tr>\n",
       "      <th>293</th>\n",
       "      <td>PC282</td>\n",
       "      <td>2126</td>\n",
       "      <td>NaN</td>\n",
       "      <td>ResIII; Helicase/UvrB, N-terminal</td>\n",
       "    </tr>\n",
       "    <tr>\n",
       "      <th>294</th>\n",
       "      <td>PC283</td>\n",
       "      <td>1966</td>\n",
       "      <td>NaN</td>\n",
       "      <td>R3H; R3H domain</td>\n",
       "    </tr>\n",
       "  </tbody>\n",
       "</table>\n",
       "<p>232 rows × 4 columns</p>\n",
       "</div>"
      ],
      "text/plain": [
       "    pca-component_x  domain-number pca-component_y  \\\n",
       "0               PC0            305             NaN   \n",
       "1               PC1            304             NaN   \n",
       "2               PC2            135             NaN   \n",
       "3               PC3            142             NaN   \n",
       "4               PC4            192             NaN   \n",
       "..              ...            ...             ...   \n",
       "290           PC279            407             NaN   \n",
       "291           PC280            585             NaN   \n",
       "292           PC281            264             NaN   \n",
       "293           PC282           2126             NaN   \n",
       "294           PC283           1966             NaN   \n",
       "\n",
       "                                    domain-description  \n",
       "0                      Brr6_like_C_C; Brl1/Brr6 domain  \n",
       "1                                          Bromodomain  \n",
       "2    ATP-synt_ab_Xtn; ATPsynthase alpha/beta subuni...  \n",
       "3        ATP_synt_H; ATPase, V0 complex, subunit e1/e2  \n",
       "4            Alkyl_sulf_C; Alkyl sulfatase, C-terminal  \n",
       "..                                                 ...  \n",
       "290  CPSase_L_D2; Carbamoyl-phosphate synthetase la...  \n",
       "291                                DHHA2; DHHA2 domain  \n",
       "292                                BCNT; BCNT-C domain  \n",
       "293                  ResIII; Helicase/UvrB, N-terminal  \n",
       "294                                    R3H; R3H domain  \n",
       "\n",
       "[232 rows x 4 columns]"
      ]
     },
     "execution_count": 24,
     "metadata": {},
     "output_type": "execute_result"
    }
   ],
   "source": [
    "df_sl_exclusive=pd.merge(df_sl,df_nsl,how='left',on='domain-number')\n",
    "\n",
    "domains_name=np.unique(data_domains['domain-name'])\n",
    "domains_description=np.unique(data_domains['domain-descrip'])\n",
    "\n",
    "df_sl_exclusive['domain-description']=domains_description[df_sl_exclusive['domain-number']]\n",
    "df_sl_exclusive[pd.isnull(df_sl_exclusive['pca-component_y'])]"
   ]
  },
  {
   "cell_type": "code",
   "execution_count": 25,
   "metadata": {
    "execution": {
     "iopub.execute_input": "2020-08-13T02:42:12.007021Z",
     "iopub.status.busy": "2020-08-13T02:42:12.005969Z",
     "iopub.status.idle": "2020-08-13T02:42:12.013041Z",
     "shell.execute_reply": "2020-08-13T02:42:12.013727Z"
    }
   },
   "outputs": [
    {
     "name": "stdout",
     "output_type": "stream",
     "text": [
      "The number of exclusive domains from SL pairs, after PCA, is =  295 out of 570 so the 51.75438596491228 %\n"
     ]
    }
   ],
   "source": [
    "print('The number of exclusive domains from SL pairs, after PCA, is = ',len(df_sl_exclusive), 'out of', len(df_sl)+len(df_nsl), 'so the',100*len(df_sl_exclusive)/(len(df_sl)+len(df_nsl)),'%')"
   ]
  },
  {
   "cell_type": "code",
   "execution_count": 26,
   "metadata": {
    "execution": {
     "iopub.execute_input": "2020-08-13T02:42:12.016756Z",
     "iopub.status.busy": "2020-08-13T02:42:12.015840Z",
     "iopub.status.idle": "2020-08-13T02:42:12.044853Z",
     "shell.execute_reply": "2020-08-13T02:42:12.044421Z"
    }
   },
   "outputs": [
    {
     "data": {
      "text/html": [
       "<div>\n",
       "<style scoped>\n",
       "    .dataframe tbody tr th:only-of-type {\n",
       "        vertical-align: middle;\n",
       "    }\n",
       "\n",
       "    .dataframe tbody tr th {\n",
       "        vertical-align: top;\n",
       "    }\n",
       "\n",
       "    .dataframe thead th {\n",
       "        text-align: right;\n",
       "    }\n",
       "</style>\n",
       "<table border=\"1\" class=\"dataframe\">\n",
       "  <thead>\n",
       "    <tr style=\"text-align: right;\">\n",
       "      <th></th>\n",
       "      <th>pca-component_x</th>\n",
       "      <th>domain-number</th>\n",
       "      <th>pca-component_y</th>\n",
       "      <th>domain-description</th>\n",
       "    </tr>\n",
       "  </thead>\n",
       "  <tbody>\n",
       "    <tr>\n",
       "      <th>0</th>\n",
       "      <td>NaN</td>\n",
       "      <td>268</td>\n",
       "      <td>PC0</td>\n",
       "      <td>BHD_3; Rad4 beta-hairpin domain 3</td>\n",
       "    </tr>\n",
       "    <tr>\n",
       "      <th>2</th>\n",
       "      <td>NaN</td>\n",
       "      <td>1255</td>\n",
       "      <td>PC2</td>\n",
       "      <td>KCH; Potassium transporter Kch</td>\n",
       "    </tr>\n",
       "    <tr>\n",
       "      <th>6</th>\n",
       "      <td>NaN</td>\n",
       "      <td>273</td>\n",
       "      <td>PC6</td>\n",
       "      <td>BLM10_mid; Proteasome activator Blm10, mid region</td>\n",
       "    </tr>\n",
       "    <tr>\n",
       "      <th>7</th>\n",
       "      <td>NaN</td>\n",
       "      <td>757</td>\n",
       "      <td>PC7</td>\n",
       "      <td>DnaJ; DnaJ domain</td>\n",
       "    </tr>\n",
       "    <tr>\n",
       "      <th>8</th>\n",
       "      <td>NaN</td>\n",
       "      <td>757</td>\n",
       "      <td>PC8</td>\n",
       "      <td>DnaJ; DnaJ domain</td>\n",
       "    </tr>\n",
       "    <tr>\n",
       "      <th>...</th>\n",
       "      <td>...</td>\n",
       "      <td>...</td>\n",
       "      <td>...</td>\n",
       "      <td>...</td>\n",
       "    </tr>\n",
       "    <tr>\n",
       "      <th>288</th>\n",
       "      <td>NaN</td>\n",
       "      <td>211</td>\n",
       "      <td>PC278</td>\n",
       "      <td>Ank_5</td>\n",
       "    </tr>\n",
       "    <tr>\n",
       "      <th>289</th>\n",
       "      <td>NaN</td>\n",
       "      <td>1875</td>\n",
       "      <td>PC279</td>\n",
       "      <td>Peptidase_M1; Peptidase M1, membrane alanine a...</td>\n",
       "    </tr>\n",
       "    <tr>\n",
       "      <th>290</th>\n",
       "      <td>NaN</td>\n",
       "      <td>107</td>\n",
       "      <td>PC280</td>\n",
       "      <td>ATE_N; Arginine-tRNA-protein transferase, N-te...</td>\n",
       "    </tr>\n",
       "    <tr>\n",
       "      <th>292</th>\n",
       "      <td>NaN</td>\n",
       "      <td>117</td>\n",
       "      <td>PC284</td>\n",
       "      <td>ATP-cone; ATP-cone domain</td>\n",
       "    </tr>\n",
       "    <tr>\n",
       "      <th>293</th>\n",
       "      <td>NaN</td>\n",
       "      <td>1145</td>\n",
       "      <td>PC285</td>\n",
       "      <td>HTH_44; Helix-turn-helix DNA-binding domain of...</td>\n",
       "    </tr>\n",
       "  </tbody>\n",
       "</table>\n",
       "<p>231 rows × 4 columns</p>\n",
       "</div>"
      ],
      "text/plain": [
       "    pca-component_x  domain-number pca-component_y  \\\n",
       "0               NaN            268             PC0   \n",
       "2               NaN           1255             PC2   \n",
       "6               NaN            273             PC6   \n",
       "7               NaN            757             PC7   \n",
       "8               NaN            757             PC8   \n",
       "..              ...            ...             ...   \n",
       "288             NaN            211           PC278   \n",
       "289             NaN           1875           PC279   \n",
       "290             NaN            107           PC280   \n",
       "292             NaN            117           PC284   \n",
       "293             NaN           1145           PC285   \n",
       "\n",
       "                                    domain-description  \n",
       "0                    BHD_3; Rad4 beta-hairpin domain 3  \n",
       "2                       KCH; Potassium transporter Kch  \n",
       "6    BLM10_mid; Proteasome activator Blm10, mid region  \n",
       "7                                    DnaJ; DnaJ domain  \n",
       "8                                    DnaJ; DnaJ domain  \n",
       "..                                                 ...  \n",
       "288                                              Ank_5  \n",
       "289  Peptidase_M1; Peptidase M1, membrane alanine a...  \n",
       "290  ATE_N; Arginine-tRNA-protein transferase, N-te...  \n",
       "292                          ATP-cone; ATP-cone domain  \n",
       "293  HTH_44; Helix-turn-helix DNA-binding domain of...  \n",
       "\n",
       "[231 rows x 4 columns]"
      ]
     },
     "execution_count": 26,
     "metadata": {},
     "output_type": "execute_result"
    }
   ],
   "source": [
    "df_nsl_exclusive=pd.merge(df_sl,df_nsl,how='right',on='domain-number')\n",
    "\n",
    "domains_name=np.unique(data_domains['domain-name'])\n",
    "domains_description=np.unique(data_domains['domain-descrip'])\n",
    "\n",
    "df_nsl_exclusive['domain-description']=domains_description[df_nsl_exclusive['domain-number']]\n",
    "df_nsl_exclusive[pd.isnull(df_nsl_exclusive['pca-component_x'])]"
   ]
  },
  {
   "cell_type": "code",
   "execution_count": 27,
   "metadata": {
    "execution": {
     "iopub.execute_input": "2020-08-13T02:42:12.049555Z",
     "iopub.status.busy": "2020-08-13T02:42:12.049063Z",
     "iopub.status.idle": "2020-08-13T02:42:12.053463Z",
     "shell.execute_reply": "2020-08-13T02:42:12.054164Z"
    }
   },
   "outputs": [
    {
     "name": "stdout",
     "output_type": "stream",
     "text": [
      "The number of exclusive domains from non SL pairs, after PCA, is =  294 out of 570 so the 51.578947368421055 %\n"
     ]
    }
   ],
   "source": [
    "print('The number of exclusive domains from non SL pairs, after PCA, is = ',len(df_nsl_exclusive), 'out of', len(df_sl)+len(df_nsl), 'so the',100*len(df_nsl_exclusive)/(len(df_sl)+len(df_nsl)),'%')"
   ]
  },
  {
   "cell_type": "markdown",
   "metadata": {},
   "source": [
    "## Let see to the domains-number that get repeated after the PCA analysis , and selecting the most explanatory feature by its explained variance."
   ]
  },
  {
   "cell_type": "code",
   "execution_count": 28,
   "metadata": {
    "execution": {
     "iopub.execute_input": "2020-08-13T02:42:12.074637Z",
     "iopub.status.busy": "2020-08-13T02:42:12.059183Z",
     "iopub.status.idle": "2020-08-13T02:42:12.078320Z",
     "shell.execute_reply": "2020-08-13T02:42:12.077481Z"
    }
   },
   "outputs": [],
   "source": [
    "duplicated_features_sl=df_sl[df_sl.iloc[:,1].duplicated()]\n",
    "repeated_features_sl=pd.DataFrame()\n",
    "\n",
    "domains_name=np.unique(data_domains['domain-name'])\n",
    "domains_description=np.unique(data_domains['domain-descrip'])\n",
    "\n",
    "repeated_features_sl['domain-name']=domains_name[duplicated_features_sl.iloc[:,1]] \n",
    "repeated_features_sl['domain-description']=domains_description[duplicated_features_sl.iloc[:,1]]\n",
    "\n",
    "duplicated_features_nsl=df_nsl[df_nsl.iloc[:,1].duplicated()]\n",
    "repeated_features_nsl=pd.DataFrame()\n",
    "\n",
    "repeated_features_nsl['domain-name']=domains_name[duplicated_features_nsl.iloc[:,1]] \n",
    "repeated_features_nsl['domain-description']=domains_description[duplicated_features_nsl.iloc[:,1]]"
   ]
  },
  {
   "cell_type": "code",
   "execution_count": 29,
   "metadata": {
    "execution": {
     "iopub.execute_input": "2020-08-13T02:42:12.088171Z",
     "iopub.status.busy": "2020-08-13T02:42:12.086759Z",
     "iopub.status.idle": "2020-08-13T02:42:12.091665Z",
     "shell.execute_reply": "2020-08-13T02:42:12.092104Z"
    }
   },
   "outputs": [
    {
     "name": "stderr",
     "output_type": "stream",
     "text": [
      "/usr/share/miniconda3/envs/wintest/lib/python3.7/site-packages/ipykernel_launcher.py:3: SettingWithCopyWarning: \n",
      "A value is trying to be set on a copy of a slice from a DataFrame.\n",
      "Try using .loc[row_indexer,col_indexer] = value instead\n",
      "\n",
      "See the caveats in the documentation: https://pandas.pydata.org/pandas-docs/stable/user_guide/indexing.html#returning-a-view-versus-a-copy\n",
      "  This is separate from the ipykernel package so we can avoid doing imports until\n"
     ]
    },
    {
     "data": {
      "text/plain": [
       "((41, 4), (295, 4))"
      ]
     },
     "execution_count": 29,
     "metadata": {},
     "output_type": "execute_result"
    }
   ],
   "source": [
    "only_sl_pd=pd.merge(repeated_features_sl,repeated_features_nsl,how='left',on=['domain-name'])\n",
    "data_only_sl = only_sl_pd[pd.isnull(only_sl_pd['domain-description_y'])]\n",
    "data_only_sl['domain-description']=data_only_sl['domain-description_x']\n",
    "data_only_sl.shape,df_sl_exclusive.shape"
   ]
  },
  {
   "cell_type": "code",
   "execution_count": 30,
   "metadata": {
    "execution": {
     "iopub.execute_input": "2020-08-13T02:42:12.111972Z",
     "iopub.status.busy": "2020-08-13T02:42:12.110701Z",
     "iopub.status.idle": "2020-08-13T02:42:12.115588Z",
     "shell.execute_reply": "2020-08-13T02:42:12.116129Z"
    }
   },
   "outputs": [
    {
     "data": {
      "text/html": [
       "<div>\n",
       "<style scoped>\n",
       "    .dataframe tbody tr th:only-of-type {\n",
       "        vertical-align: middle;\n",
       "    }\n",
       "\n",
       "    .dataframe tbody tr th {\n",
       "        vertical-align: top;\n",
       "    }\n",
       "\n",
       "    .dataframe thead th {\n",
       "        text-align: right;\n",
       "    }\n",
       "</style>\n",
       "<table border=\"1\" class=\"dataframe\">\n",
       "  <thead>\n",
       "    <tr style=\"text-align: right;\">\n",
       "      <th></th>\n",
       "      <th>domain-name</th>\n",
       "      <th>domain-description_x</th>\n",
       "      <th>domain-description_y</th>\n",
       "    </tr>\n",
       "  </thead>\n",
       "  <tbody>\n",
       "    <tr>\n",
       "      <th>0</th>\n",
       "      <td>PF01846</td>\n",
       "      <td>NaN</td>\n",
       "      <td>DnaJ; DnaJ domain</td>\n",
       "    </tr>\n",
       "    <tr>\n",
       "      <th>1</th>\n",
       "      <td>PF00689</td>\n",
       "      <td>NaN</td>\n",
       "      <td>CENP-C_C; Mif2/CENP-C cupin domain</td>\n",
       "    </tr>\n",
       "    <tr>\n",
       "      <th>2</th>\n",
       "      <td>PF02463</td>\n",
       "      <td>NaN</td>\n",
       "      <td>FSH1; Serine hydrolase FSH</td>\n",
       "    </tr>\n",
       "    <tr>\n",
       "      <th>3</th>\n",
       "      <td>PF02518</td>\n",
       "      <td>NaN</td>\n",
       "      <td>F_actin_cap_B; F-actin-capping protein subunit...</td>\n",
       "    </tr>\n",
       "    <tr>\n",
       "      <th>4</th>\n",
       "      <td>PF01644</td>\n",
       "      <td>NaN</td>\n",
       "      <td>DUF3402; Protein of unknown function DUF3402</td>\n",
       "    </tr>\n",
       "    <tr>\n",
       "      <th>5</th>\n",
       "      <td>PF09079</td>\n",
       "      <td>NaN</td>\n",
       "      <td>RRT14; Regulator of rDNA transcription 14</td>\n",
       "    </tr>\n",
       "    <tr>\n",
       "      <th>6</th>\n",
       "      <td>PF04096</td>\n",
       "      <td>NaN</td>\n",
       "      <td>Kin17_mid; DNA/RNA-binding protein Kin17, cons...</td>\n",
       "    </tr>\n",
       "    <tr>\n",
       "      <th>7</th>\n",
       "      <td>PF00617</td>\n",
       "      <td>NaN</td>\n",
       "      <td>BolA; BolA protein</td>\n",
       "    </tr>\n",
       "    <tr>\n",
       "      <th>8</th>\n",
       "      <td>PF04100</td>\n",
       "      <td>NaN</td>\n",
       "      <td>Kre28; Spindle pole body component Kre28</td>\n",
       "    </tr>\n",
       "    <tr>\n",
       "      <th>9</th>\n",
       "      <td>PF04053</td>\n",
       "      <td>NaN</td>\n",
       "      <td>JmjC; JmjC domain</td>\n",
       "    </tr>\n",
       "    <tr>\n",
       "      <th>10</th>\n",
       "      <td>PF01171</td>\n",
       "      <td>NaN</td>\n",
       "      <td>Cullin; Cullin, N-terminal</td>\n",
       "    </tr>\n",
       "    <tr>\n",
       "      <th>11</th>\n",
       "      <td>PF00568</td>\n",
       "      <td>NaN</td>\n",
       "      <td>BLM10_N; Proteasome activator Blm10, N-terminal</td>\n",
       "    </tr>\n",
       "    <tr>\n",
       "      <th>13</th>\n",
       "      <td>PF00580</td>\n",
       "      <td>NaN</td>\n",
       "      <td>BRCT_2; BRCT domain</td>\n",
       "    </tr>\n",
       "    <tr>\n",
       "      <th>14</th>\n",
       "      <td>PF03800</td>\n",
       "      <td>NaN</td>\n",
       "      <td>HisG_C; Histidine biosynthesis HisG, C-terminal</td>\n",
       "    </tr>\n",
       "    <tr>\n",
       "      <th>15</th>\n",
       "      <td>PF00226</td>\n",
       "      <td>NaN</td>\n",
       "      <td>ATG11; Autophagy-related protein 11</td>\n",
       "    </tr>\n",
       "    <tr>\n",
       "      <th>16</th>\n",
       "      <td>PF02548</td>\n",
       "      <td>NaN</td>\n",
       "      <td>FeS_assembly_P; MIP18 family-like</td>\n",
       "    </tr>\n",
       "    <tr>\n",
       "      <th>17</th>\n",
       "      <td>PF02953</td>\n",
       "      <td>NaN</td>\n",
       "      <td>GWT1</td>\n",
       "    </tr>\n",
       "    <tr>\n",
       "      <th>18</th>\n",
       "      <td>PF01261</td>\n",
       "      <td>NaN</td>\n",
       "      <td>DER1</td>\n",
       "    </tr>\n",
       "    <tr>\n",
       "      <th>19</th>\n",
       "      <td>PF05557</td>\n",
       "      <td>NaN</td>\n",
       "      <td>NIF; FCP1 homology domain</td>\n",
       "    </tr>\n",
       "    <tr>\n",
       "      <th>20</th>\n",
       "      <td>PF05557</td>\n",
       "      <td>NaN</td>\n",
       "      <td>NIF; FCP1 homology domain</td>\n",
       "    </tr>\n",
       "    <tr>\n",
       "      <th>21</th>\n",
       "      <td>PF02301</td>\n",
       "      <td>NaN</td>\n",
       "      <td>FAT; PIK-related kinase, FAT</td>\n",
       "    </tr>\n",
       "    <tr>\n",
       "      <th>22</th>\n",
       "      <td>PF00085</td>\n",
       "      <td>NaN</td>\n",
       "      <td>AA_permease_2; Amino acid/polyamine transporter I</td>\n",
       "    </tr>\n",
       "    <tr>\n",
       "      <th>23</th>\n",
       "      <td>PF13848</td>\n",
       "      <td>NaN</td>\n",
       "      <td>Transferase</td>\n",
       "    </tr>\n",
       "    <tr>\n",
       "      <th>24</th>\n",
       "      <td>PF09444</td>\n",
       "      <td>NaN</td>\n",
       "      <td>Rer1; Retrieval of early ER protein Rer1</td>\n",
       "    </tr>\n",
       "    <tr>\n",
       "      <th>25</th>\n",
       "      <td>PF04893</td>\n",
       "      <td>NaN</td>\n",
       "      <td>Med22; Mediator of RNA polymerase II transcrip...</td>\n",
       "    </tr>\n",
       "    <tr>\n",
       "      <th>26</th>\n",
       "      <td>PF01412</td>\n",
       "      <td>NaN</td>\n",
       "      <td>DNA_pol_alpha_N; DNA polymerase alpha catalyti...</td>\n",
       "    </tr>\n",
       "    <tr>\n",
       "      <th>27</th>\n",
       "      <td>PF01412</td>\n",
       "      <td>NaN</td>\n",
       "      <td>DNA_pol_alpha_N; DNA polymerase alpha catalyti...</td>\n",
       "    </tr>\n",
       "    <tr>\n",
       "      <th>28</th>\n",
       "      <td>PF00266</td>\n",
       "      <td>NaN</td>\n",
       "      <td>ATP-synt_J; ATP synthase, F0 complex, subunit J</td>\n",
       "    </tr>\n",
       "    <tr>\n",
       "      <th>29</th>\n",
       "      <td>PF07817</td>\n",
       "      <td>NaN</td>\n",
       "      <td>PIG-L; N-acetylglucosaminyl phosphatidylinosit...</td>\n",
       "    </tr>\n",
       "    <tr>\n",
       "      <th>30</th>\n",
       "      <td>PF08519</td>\n",
       "      <td>NaN</td>\n",
       "      <td>Polysacc_deac_1; NodB homology domain</td>\n",
       "    </tr>\n",
       "    <tr>\n",
       "      <th>31</th>\n",
       "      <td>PF03998</td>\n",
       "      <td>NaN</td>\n",
       "      <td>Img2; Ribosomal protein L49/IMG2</td>\n",
       "    </tr>\n",
       "    <tr>\n",
       "      <th>32</th>\n",
       "      <td>PF04699</td>\n",
       "      <td>NaN</td>\n",
       "      <td>MRP-S33; Ribosomal protein S27/S33, mitochondrial</td>\n",
       "    </tr>\n",
       "    <tr>\n",
       "      <th>33</th>\n",
       "      <td>PF12848</td>\n",
       "      <td>NaN</td>\n",
       "      <td>TAP_C; TAP C-terminal (TAP-C) domain</td>\n",
       "    </tr>\n",
       "    <tr>\n",
       "      <th>34</th>\n",
       "      <td>PF13921</td>\n",
       "      <td>NaN</td>\n",
       "      <td>Trypsin_2</td>\n",
       "    </tr>\n",
       "    <tr>\n",
       "      <th>35</th>\n",
       "      <td>PF04191</td>\n",
       "      <td>NaN</td>\n",
       "      <td>Lgl_C; Lethal giant larvae (Lgl)-like, C-termi...</td>\n",
       "    </tr>\n",
       "    <tr>\n",
       "      <th>36</th>\n",
       "      <td>PF04191</td>\n",
       "      <td>NaN</td>\n",
       "      <td>Lgl_C; Lethal giant larvae (Lgl)-like, C-termi...</td>\n",
       "    </tr>\n",
       "    <tr>\n",
       "      <th>37</th>\n",
       "      <td>PF12234</td>\n",
       "      <td>NaN</td>\n",
       "      <td>Semialdhyde_dh; Semialdehyde dehydrogenase, NA...</td>\n",
       "    </tr>\n",
       "    <tr>\n",
       "      <th>38</th>\n",
       "      <td>PF00155</td>\n",
       "      <td>NaN</td>\n",
       "      <td>AIRS; PurM-like, N-terminal domain</td>\n",
       "    </tr>\n",
       "    <tr>\n",
       "      <th>39</th>\n",
       "      <td>PF06423</td>\n",
       "      <td>NaN</td>\n",
       "      <td>Nup84_Nup100; Nuclear pore protein 84/107</td>\n",
       "    </tr>\n",
       "    <tr>\n",
       "      <th>40</th>\n",
       "      <td>PF09138</td>\n",
       "      <td>NaN</td>\n",
       "      <td>RTC_insert; RNA 3&amp;apos;-terminal phosphate cyc...</td>\n",
       "    </tr>\n",
       "    <tr>\n",
       "      <th>41</th>\n",
       "      <td>PF00352</td>\n",
       "      <td>NaN</td>\n",
       "      <td>AhpC-TSA; Alkyl hydroperoxide reductase subuni...</td>\n",
       "    </tr>\n",
       "    <tr>\n",
       "      <th>42</th>\n",
       "      <td>PF00352</td>\n",
       "      <td>NaN</td>\n",
       "      <td>AhpC-TSA; Alkyl hydroperoxide reductase subuni...</td>\n",
       "    </tr>\n",
       "    <tr>\n",
       "      <th>43</th>\n",
       "      <td>PF10156</td>\n",
       "      <td>NaN</td>\n",
       "      <td>Ribosomal_L37; Ribosomal protein L37, mitochon...</td>\n",
       "    </tr>\n",
       "    <tr>\n",
       "      <th>44</th>\n",
       "      <td>PF03162</td>\n",
       "      <td>NaN</td>\n",
       "      <td>Glyco_transf_20; Glycosyl transferase, family 20</td>\n",
       "    </tr>\n",
       "    <tr>\n",
       "      <th>45</th>\n",
       "      <td>PF05024</td>\n",
       "      <td>NaN</td>\n",
       "      <td>Mgm101p; Mitochondrial genome maintenance prot...</td>\n",
       "    </tr>\n",
       "    <tr>\n",
       "      <th>46</th>\n",
       "      <td>PF00186</td>\n",
       "      <td>NaN</td>\n",
       "      <td>ANAPC9; Anaphase-promoting complex, subunit 9</td>\n",
       "    </tr>\n",
       "    <tr>\n",
       "      <th>47</th>\n",
       "      <td>PF04499</td>\n",
       "      <td>NaN</td>\n",
       "      <td>MF_alpha; Mating factor alpha, C-terminal repeat</td>\n",
       "    </tr>\n",
       "    <tr>\n",
       "      <th>48</th>\n",
       "      <td>PF04499</td>\n",
       "      <td>NaN</td>\n",
       "      <td>MF_alpha; Mating factor alpha, C-terminal repeat</td>\n",
       "    </tr>\n",
       "    <tr>\n",
       "      <th>49</th>\n",
       "      <td>PF01602</td>\n",
       "      <td>NaN</td>\n",
       "      <td>DUF2611; Protein of unknown function DUF2611</td>\n",
       "    </tr>\n",
       "    <tr>\n",
       "      <th>50</th>\n",
       "      <td>PF11976</td>\n",
       "      <td>NaN</td>\n",
       "      <td>Sec20</td>\n",
       "    </tr>\n",
       "    <tr>\n",
       "      <th>51</th>\n",
       "      <td>PF00012</td>\n",
       "      <td>NaN</td>\n",
       "      <td>2OG-FeII_Oxy_4</td>\n",
       "    </tr>\n",
       "    <tr>\n",
       "      <th>52</th>\n",
       "      <td>PF00433</td>\n",
       "      <td>NaN</td>\n",
       "      <td>Ank_5</td>\n",
       "    </tr>\n",
       "    <tr>\n",
       "      <th>53</th>\n",
       "      <td>PF01214</td>\n",
       "      <td>NaN</td>\n",
       "      <td>DAO; FAD dependent oxidoreductase</td>\n",
       "    </tr>\n",
       "  </tbody>\n",
       "</table>\n",
       "</div>"
      ],
      "text/plain": [
       "   domain-name domain-description_x  \\\n",
       "0      PF01846                  NaN   \n",
       "1      PF00689                  NaN   \n",
       "2      PF02463                  NaN   \n",
       "3      PF02518                  NaN   \n",
       "4      PF01644                  NaN   \n",
       "5      PF09079                  NaN   \n",
       "6      PF04096                  NaN   \n",
       "7      PF00617                  NaN   \n",
       "8      PF04100                  NaN   \n",
       "9      PF04053                  NaN   \n",
       "10     PF01171                  NaN   \n",
       "11     PF00568                  NaN   \n",
       "13     PF00580                  NaN   \n",
       "14     PF03800                  NaN   \n",
       "15     PF00226                  NaN   \n",
       "16     PF02548                  NaN   \n",
       "17     PF02953                  NaN   \n",
       "18     PF01261                  NaN   \n",
       "19     PF05557                  NaN   \n",
       "20     PF05557                  NaN   \n",
       "21     PF02301                  NaN   \n",
       "22     PF00085                  NaN   \n",
       "23     PF13848                  NaN   \n",
       "24     PF09444                  NaN   \n",
       "25     PF04893                  NaN   \n",
       "26     PF01412                  NaN   \n",
       "27     PF01412                  NaN   \n",
       "28     PF00266                  NaN   \n",
       "29     PF07817                  NaN   \n",
       "30     PF08519                  NaN   \n",
       "31     PF03998                  NaN   \n",
       "32     PF04699                  NaN   \n",
       "33     PF12848                  NaN   \n",
       "34     PF13921                  NaN   \n",
       "35     PF04191                  NaN   \n",
       "36     PF04191                  NaN   \n",
       "37     PF12234                  NaN   \n",
       "38     PF00155                  NaN   \n",
       "39     PF06423                  NaN   \n",
       "40     PF09138                  NaN   \n",
       "41     PF00352                  NaN   \n",
       "42     PF00352                  NaN   \n",
       "43     PF10156                  NaN   \n",
       "44     PF03162                  NaN   \n",
       "45     PF05024                  NaN   \n",
       "46     PF00186                  NaN   \n",
       "47     PF04499                  NaN   \n",
       "48     PF04499                  NaN   \n",
       "49     PF01602                  NaN   \n",
       "50     PF11976                  NaN   \n",
       "51     PF00012                  NaN   \n",
       "52     PF00433                  NaN   \n",
       "53     PF01214                  NaN   \n",
       "\n",
       "                                 domain-description_y  \n",
       "0                                   DnaJ; DnaJ domain  \n",
       "1                  CENP-C_C; Mif2/CENP-C cupin domain  \n",
       "2                          FSH1; Serine hydrolase FSH  \n",
       "3   F_actin_cap_B; F-actin-capping protein subunit...  \n",
       "4        DUF3402; Protein of unknown function DUF3402  \n",
       "5           RRT14; Regulator of rDNA transcription 14  \n",
       "6   Kin17_mid; DNA/RNA-binding protein Kin17, cons...  \n",
       "7                                  BolA; BolA protein  \n",
       "8            Kre28; Spindle pole body component Kre28  \n",
       "9                                   JmjC; JmjC domain  \n",
       "10                         Cullin; Cullin, N-terminal  \n",
       "11    BLM10_N; Proteasome activator Blm10, N-terminal  \n",
       "13                                BRCT_2; BRCT domain  \n",
       "14    HisG_C; Histidine biosynthesis HisG, C-terminal  \n",
       "15                ATG11; Autophagy-related protein 11  \n",
       "16                  FeS_assembly_P; MIP18 family-like  \n",
       "17                                               GWT1  \n",
       "18                                               DER1  \n",
       "19                          NIF; FCP1 homology domain  \n",
       "20                          NIF; FCP1 homology domain  \n",
       "21                       FAT; PIK-related kinase, FAT  \n",
       "22  AA_permease_2; Amino acid/polyamine transporter I  \n",
       "23                                        Transferase  \n",
       "24           Rer1; Retrieval of early ER protein Rer1  \n",
       "25  Med22; Mediator of RNA polymerase II transcrip...  \n",
       "26  DNA_pol_alpha_N; DNA polymerase alpha catalyti...  \n",
       "27  DNA_pol_alpha_N; DNA polymerase alpha catalyti...  \n",
       "28    ATP-synt_J; ATP synthase, F0 complex, subunit J  \n",
       "29  PIG-L; N-acetylglucosaminyl phosphatidylinosit...  \n",
       "30              Polysacc_deac_1; NodB homology domain  \n",
       "31                   Img2; Ribosomal protein L49/IMG2  \n",
       "32  MRP-S33; Ribosomal protein S27/S33, mitochondrial  \n",
       "33               TAP_C; TAP C-terminal (TAP-C) domain  \n",
       "34                                          Trypsin_2  \n",
       "35  Lgl_C; Lethal giant larvae (Lgl)-like, C-termi...  \n",
       "36  Lgl_C; Lethal giant larvae (Lgl)-like, C-termi...  \n",
       "37  Semialdhyde_dh; Semialdehyde dehydrogenase, NA...  \n",
       "38                 AIRS; PurM-like, N-terminal domain  \n",
       "39          Nup84_Nup100; Nuclear pore protein 84/107  \n",
       "40  RTC_insert; RNA 3&apos;-terminal phosphate cyc...  \n",
       "41  AhpC-TSA; Alkyl hydroperoxide reductase subuni...  \n",
       "42  AhpC-TSA; Alkyl hydroperoxide reductase subuni...  \n",
       "43  Ribosomal_L37; Ribosomal protein L37, mitochon...  \n",
       "44   Glyco_transf_20; Glycosyl transferase, family 20  \n",
       "45  Mgm101p; Mitochondrial genome maintenance prot...  \n",
       "46      ANAPC9; Anaphase-promoting complex, subunit 9  \n",
       "47   MF_alpha; Mating factor alpha, C-terminal repeat  \n",
       "48   MF_alpha; Mating factor alpha, C-terminal repeat  \n",
       "49       DUF2611; Protein of unknown function DUF2611  \n",
       "50                                              Sec20  \n",
       "51                                     2OG-FeII_Oxy_4  \n",
       "52                                              Ank_5  \n",
       "53                  DAO; FAD dependent oxidoreductase  "
      ]
     },
     "execution_count": 30,
     "metadata": {},
     "output_type": "execute_result"
    }
   ],
   "source": [
    "only_nsl_pd=pd.merge(repeated_features_sl,repeated_features_nsl,how='right',on=['domain-name'])\n",
    "data_only_nsl = only_nsl_pd[pd.isnull(only_nsl_pd['domain-description_x'])]\n",
    "data_only_nsl"
   ]
  },
  {
   "cell_type": "code",
   "execution_count": 31,
   "metadata": {
    "execution": {
     "iopub.execute_input": "2020-08-13T02:42:12.127249Z",
     "iopub.status.busy": "2020-08-13T02:42:12.120336Z",
     "iopub.status.idle": "2020-08-13T02:42:12.132651Z",
     "shell.execute_reply": "2020-08-13T02:42:12.133098Z"
    }
   },
   "outputs": [
    {
     "data": {
      "text/html": [
       "<div>\n",
       "<style scoped>\n",
       "    .dataframe tbody tr th:only-of-type {\n",
       "        vertical-align: middle;\n",
       "    }\n",
       "\n",
       "    .dataframe tbody tr th {\n",
       "        vertical-align: top;\n",
       "    }\n",
       "\n",
       "    .dataframe thead th {\n",
       "        text-align: right;\n",
       "    }\n",
       "</style>\n",
       "<table border=\"1\" class=\"dataframe\">\n",
       "  <thead>\n",
       "    <tr style=\"text-align: right;\">\n",
       "      <th></th>\n",
       "      <th>domain-name</th>\n",
       "      <th>domain-description_x</th>\n",
       "      <th>domain-description_y</th>\n",
       "    </tr>\n",
       "  </thead>\n",
       "  <tbody>\n",
       "    <tr>\n",
       "      <th>0</th>\n",
       "      <td>PF01553</td>\n",
       "      <td>DUF202; Domain of unknown function DUF202</td>\n",
       "      <td>DUF202; Domain of unknown function DUF202</td>\n",
       "    </tr>\n",
       "  </tbody>\n",
       "</table>\n",
       "</div>"
      ],
      "text/plain": [
       "  domain-name                       domain-description_x  \\\n",
       "0     PF01553  DUF202; Domain of unknown function DUF202   \n",
       "\n",
       "                        domain-description_y  \n",
       "0  DUF202; Domain of unknown function DUF202  "
      ]
     },
     "execution_count": 31,
     "metadata": {},
     "output_type": "execute_result"
    }
   ],
   "source": [
    "shared_domains_pd=pd.merge(repeated_features_sl,repeated_features_nsl,how='inner',on=['domain-name'])\n",
    "shared_domains_pd\n"
   ]
  },
  {
   "cell_type": "code",
   "execution_count": 32,
   "metadata": {
    "execution": {
     "iopub.execute_input": "2020-08-13T02:42:12.142306Z",
     "iopub.status.busy": "2020-08-13T02:42:12.141700Z",
     "iopub.status.idle": "2020-08-13T02:42:13.807000Z",
     "shell.execute_reply": "2020-08-13T02:42:13.807467Z"
    }
   },
   "outputs": [
    {
     "data": {
      "text/plain": [
       "(0.0, 0.2)"
      ]
     },
     "execution_count": 32,
     "metadata": {},
     "output_type": "execute_result"
    },
    {
     "data": {
      "image/png": "[encoded data removed]",
      "text/plain": [
       "<Figure size 432x288 with 1 Axes>"
      ]
     },
     "metadata": {
      "filenames": {
       "image/png": "/home/runner/work/jupyter-book/jupyter-book/mini_book/docs/_build/jupyter_execute/prot_domains2lethality-FEATURES-POSTPROCESSING_47_1.png"
      },
      "needs_background": "light"
     },
     "output_type": "display_data"
    }
   ],
   "source": [
    "a_sl=x_sl.iloc[:,np.sort(df_sl.iloc[:,1])]\n",
    "a_sl.describe().loc['mean'].hist(bins=8),\n",
    "a_sl.describe().loc['std'].hist(bins=8,alpha=0.4)\n",
    "plt.xlim([0,0.2])"
   ]
  },
  {
   "cell_type": "code",
   "execution_count": 33,
   "metadata": {
    "execution": {
     "iopub.execute_input": "2020-08-13T02:42:13.826864Z",
     "iopub.status.busy": "2020-08-13T02:42:13.811680Z",
     "iopub.status.idle": "2020-08-13T02:42:15.545915Z",
     "shell.execute_reply": "2020-08-13T02:42:15.544819Z"
    }
   },
   "outputs": [
    {
     "data": {
      "text/plain": [
       "(0.0, 0.2)"
      ]
     },
     "execution_count": 33,
     "metadata": {},
     "output_type": "execute_result"
    },
    {
     "data": {
      "image/png": "[encoded data removed]",
      "text/plain": [
       "<Figure size 432x288 with 1 Axes>"
      ]
     },
     "metadata": {
      "filenames": {
       "image/png": "/home/runner/work/jupyter-book/jupyter-book/mini_book/docs/_build/jupyter_execute/prot_domains2lethality-FEATURES-POSTPROCESSING_48_1.png"
      },
      "needs_background": "light"
     },
     "output_type": "display_data"
    }
   ],
   "source": [
    "a_nsl=x_nsl.iloc[:,np.sort(df_nsl.iloc[:,1])]\n",
    "a_nsl.describe().loc['mean'].hist(bins=8),\n",
    "a_nsl.describe().loc['std'].hist(bins=8,alpha=0.4)\n",
    "plt.xlim([0,0.2])"
   ]
  },
  {
   "cell_type": "markdown",
   "metadata": {},
   "source": [
    "### Proof of concept with *BEM1*\n",
    "\n",
    "- Gather the domains of SL and nSL pairs from BEM1\n",
    "- Check if the domains for the SL and nSL pairs are inside the most important domains after PCA."
   ]
  },
  {
   "cell_type": "code",
   "execution_count": 34,
   "metadata": {
    "execution": {
     "iopub.execute_input": "2020-08-13T02:42:15.554158Z",
     "iopub.status.busy": "2020-08-13T02:42:15.552986Z",
     "iopub.status.idle": "2020-08-13T02:42:15.557506Z",
     "shell.execute_reply": "2020-08-13T02:42:15.556964Z"
    }
   },
   "outputs": [],
   "source": [
    "domains_bem1=data_domains[data_domains['name']=='BEM1']['domain-descrip']\n",
    "sl_bem1=data_sl[data_sl['gene-query-name']=='BEM1']['gene-target-name']"
   ]
  },
  {
   "cell_type": "code",
   "execution_count": 35,
   "metadata": {
    "execution": {
     "iopub.execute_input": "2020-08-13T02:42:15.562841Z",
     "iopub.status.busy": "2020-08-13T02:42:15.562228Z",
     "iopub.status.idle": "2020-08-13T02:42:15.568478Z",
     "shell.execute_reply": "2020-08-13T02:42:15.567583Z"
    }
   },
   "outputs": [
    {
     "data": {
      "text/plain": [
       "2846      BEM2\n",
       "2847     CDC24\n",
       "5004      MSB1\n",
       "13777     SMI1\n",
       "13778     BNI1\n",
       "13779     BEM2\n",
       "14385     SKN7\n",
       "Name: gene-target-name, dtype: object"
      ]
     },
     "execution_count": 35,
     "metadata": {},
     "output_type": "execute_result"
    }
   ],
   "source": [
    "sl_bem1"
   ]
  },
  {
   "cell_type": "code",
   "execution_count": 36,
   "metadata": {
    "execution": {
     "iopub.execute_input": "2020-08-13T02:42:15.584717Z",
     "iopub.status.busy": "2020-08-13T02:42:15.584079Z",
     "iopub.status.idle": "2020-08-13T02:42:15.589870Z",
     "shell.execute_reply": "2020-08-13T02:42:15.590341Z"
    }
   },
   "outputs": [
    {
     "data": {
      "text/html": [
       "<div>\n",
       "<style scoped>\n",
       "    .dataframe tbody tr th:only-of-type {\n",
       "        vertical-align: middle;\n",
       "    }\n",
       "\n",
       "    .dataframe tbody tr th {\n",
       "        vertical-align: top;\n",
       "    }\n",
       "\n",
       "    .dataframe thead th {\n",
       "        text-align: right;\n",
       "    }\n",
       "</style>\n",
       "<table border=\"1\" class=\"dataframe\">\n",
       "  <thead>\n",
       "    <tr style=\"text-align: right;\">\n",
       "      <th></th>\n",
       "      <th>gene-query</th>\n",
       "      <th>gene-target</th>\n",
       "      <th>gene-query-name</th>\n",
       "      <th>gene-target-name</th>\n",
       "      <th>gene-query-description</th>\n",
       "      <th>gene-target-description</th>\n",
       "      <th>interaction-type</th>\n",
       "      <th>paper-source</th>\n",
       "    </tr>\n",
       "  </thead>\n",
       "  <tbody>\n",
       "    <tr>\n",
       "      <th>2846</th>\n",
       "      <td>YBR200W</td>\n",
       "      <td>YER155C</td>\n",
       "      <td>BEM1</td>\n",
       "      <td>BEM2</td>\n",
       "      <td>SRO1|phosphatidylinositol-3-phosphate-binding ...</td>\n",
       "      <td>IPL2|SUP9|TSL1|L000000168</td>\n",
       "      <td>Synthetic Lethality</td>\n",
       "      <td>Peterson J (1994)</td>\n",
       "    </tr>\n",
       "    <tr>\n",
       "      <th>2847</th>\n",
       "      <td>YBR200W</td>\n",
       "      <td>YAL041W</td>\n",
       "      <td>BEM1</td>\n",
       "      <td>CDC24</td>\n",
       "      <td>SRO1|phosphatidylinositol-3-phosphate-binding ...</td>\n",
       "      <td>CLS4|Rho family guanine nucleotide exchange fa...</td>\n",
       "      <td>Synthetic Lethality</td>\n",
       "      <td>Peterson J (1994)</td>\n",
       "    </tr>\n",
       "    <tr>\n",
       "      <th>5004</th>\n",
       "      <td>YBR200W</td>\n",
       "      <td>YOR188W</td>\n",
       "      <td>BEM1</td>\n",
       "      <td>MSB1</td>\n",
       "      <td>SRO1|phosphatidylinositol-3-phosphate-binding ...</td>\n",
       "      <td>L000001184</td>\n",
       "      <td>Synthetic Lethality</td>\n",
       "      <td>Bender A (1991)</td>\n",
       "    </tr>\n",
       "    <tr>\n",
       "      <th>13777</th>\n",
       "      <td>YBR200W</td>\n",
       "      <td>YGR229C</td>\n",
       "      <td>BEM1</td>\n",
       "      <td>SMI1</td>\n",
       "      <td>SRO1|phosphatidylinositol-3-phosphate-binding ...</td>\n",
       "      <td>KNR4|L000000909</td>\n",
       "      <td>Synthetic Lethality</td>\n",
       "      <td>Gorelik M (2011)</td>\n",
       "    </tr>\n",
       "    <tr>\n",
       "      <th>13778</th>\n",
       "      <td>YBR200W</td>\n",
       "      <td>YNL271C</td>\n",
       "      <td>BEM1</td>\n",
       "      <td>BNI1</td>\n",
       "      <td>SRO1|phosphatidylinositol-3-phosphate-binding ...</td>\n",
       "      <td>PPF3|SHE5|formin BNI1|L000000190</td>\n",
       "      <td>Synthetic Lethality</td>\n",
       "      <td>Gorelik M (2011)</td>\n",
       "    </tr>\n",
       "    <tr>\n",
       "      <th>13779</th>\n",
       "      <td>YBR200W</td>\n",
       "      <td>YER155C</td>\n",
       "      <td>BEM1</td>\n",
       "      <td>BEM2</td>\n",
       "      <td>SRO1|phosphatidylinositol-3-phosphate-binding ...</td>\n",
       "      <td>IPL2|SUP9|TSL1|L000000168</td>\n",
       "      <td>Synthetic Lethality</td>\n",
       "      <td>Gorelik M (2011)</td>\n",
       "    </tr>\n",
       "    <tr>\n",
       "      <th>14385</th>\n",
       "      <td>YBR200W</td>\n",
       "      <td>YHR206W</td>\n",
       "      <td>BEM1</td>\n",
       "      <td>SKN7</td>\n",
       "      <td>SRO1|phosphatidylinositol-3-phosphate-binding ...</td>\n",
       "      <td>BRY1|POS9|kinase-regulated stress-responsive t...</td>\n",
       "      <td>Dosage Lethality</td>\n",
       "      <td>Bouquin N (1999)</td>\n",
       "    </tr>\n",
       "  </tbody>\n",
       "</table>\n",
       "</div>"
      ],
      "text/plain": [
       "      gene-query gene-target gene-query-name gene-target-name  \\\n",
       "2846     YBR200W     YER155C            BEM1             BEM2   \n",
       "2847     YBR200W     YAL041W            BEM1            CDC24   \n",
       "5004     YBR200W     YOR188W            BEM1             MSB1   \n",
       "13777    YBR200W     YGR229C            BEM1             SMI1   \n",
       "13778    YBR200W     YNL271C            BEM1             BNI1   \n",
       "13779    YBR200W     YER155C            BEM1             BEM2   \n",
       "14385    YBR200W     YHR206W            BEM1             SKN7   \n",
       "\n",
       "                                  gene-query-description  \\\n",
       "2846   SRO1|phosphatidylinositol-3-phosphate-binding ...   \n",
       "2847   SRO1|phosphatidylinositol-3-phosphate-binding ...   \n",
       "5004   SRO1|phosphatidylinositol-3-phosphate-binding ...   \n",
       "13777  SRO1|phosphatidylinositol-3-phosphate-binding ...   \n",
       "13778  SRO1|phosphatidylinositol-3-phosphate-binding ...   \n",
       "13779  SRO1|phosphatidylinositol-3-phosphate-binding ...   \n",
       "14385  SRO1|phosphatidylinositol-3-phosphate-binding ...   \n",
       "\n",
       "                                 gene-target-description     interaction-type  \\\n",
       "2846                           IPL2|SUP9|TSL1|L000000168  Synthetic Lethality   \n",
       "2847   CLS4|Rho family guanine nucleotide exchange fa...  Synthetic Lethality   \n",
       "5004                                          L000001184  Synthetic Lethality   \n",
       "13777                                    KNR4|L000000909  Synthetic Lethality   \n",
       "13778                   PPF3|SHE5|formin BNI1|L000000190  Synthetic Lethality   \n",
       "13779                          IPL2|SUP9|TSL1|L000000168  Synthetic Lethality   \n",
       "14385  BRY1|POS9|kinase-regulated stress-responsive t...     Dosage Lethality   \n",
       "\n",
       "            paper-source  \n",
       "2846   Peterson J (1994)  \n",
       "2847   Peterson J (1994)  \n",
       "5004     Bender A (1991)  \n",
       "13777   Gorelik M (2011)  \n",
       "13778   Gorelik M (2011)  \n",
       "13779   Gorelik M (2011)  \n",
       "14385   Bouquin N (1999)  "
      ]
     },
     "execution_count": 36,
     "metadata": {},
     "output_type": "execute_result"
    }
   ],
   "source": [
    "data_sl[data_sl['gene-query-name']=='BEM1']"
   ]
  },
  {
   "cell_type": "code",
   "execution_count": null,
   "metadata": {},
   "outputs": [],
   "source": []
  }
 ],
 "metadata": {
  "jupytext": {
   "text_representation": {
    "extension": ".md",
    "format_name": "myst"
   }
  },
  "kernelspec": {
   "display_name": "Python 3",
   "language": "python",
   "name": "python3"
  },
  "language_info": {
   "codemirror_mode": {
    "name": "ipython",
    "version": 3
   },
   "file_extension": ".py",
   "mimetype": "text/x-python",
   "name": "python",
   "nbconvert_exporter": "python",
   "pygments_lexer": "ipython3",
   "version": "3.7.8"
  },
  "source_map": [
   10,
   18,
   29,
   36,
   57,
   66,
   98,
   101,
   105,
   128,
   131,
   135,
   139,
   145,
   178,
   184,
   188,
   206,
   210,
   218,
   222,
   225,
   229,
   234,
   238,
   244,
   248,
   253,
   257,
   267,
   269,
   273,
   306,
   311,
   313,
   317,
   328,
   330,
   334,
   344,
   348,
   358,
   360,
   364,
   381,
   388,
   394,
   400,
   407,
   412,
   419,
   424,
   428,
   432
  ]
 },
 "nbformat": 4,
 "nbformat_minor": 4
}