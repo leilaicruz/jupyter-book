{
 "cells": [
  {
   "cell_type": "markdown",
   "metadata": {},
   "source": [
    "# Feature postprocessing from paper.\n",
    "- Title:  \"Predicting yeast synthetic lethal genetic interactions using protein domains\"\n",
    "- Authors: Bo Li, Feng Luo,School of Computing,Clemson University,Clemson, SC, USA\n",
    "- e-mail: bol, luofeng@clemson.edu\n",
    "- year:2009"
   ]
  },
  {
   "cell_type": "code",
   "execution_count": 1,
   "metadata": {
    "execution": {
     "iopub.execute_input": "2020-07-14T06:30:50.639829Z",
     "iopub.status.busy": "2020-07-14T06:30:50.639304Z",
     "iopub.status.idle": "2020-07-14T06:30:51.354740Z",
     "shell.execute_reply": "2020-07-14T06:30:51.355259Z"
    }
   },
   "outputs": [],
   "source": [
    "import pandas as pd\n",
    "import numpy as np\n",
    "import matplotlib.pyplot as plt\n",
    "from collections import defaultdict \n",
    "import seaborn as sns\n",
    "import matplotlib.cm as cm\n",
    "import scipy as scipy\n",
    "import random"
   ]
  },
  {
   "cell_type": "markdown",
   "metadata": {
    "jupyter": {
     "source_hidden": true
    }
   },
   "source": [
    "### Importing datasets \n",
    "\n",
    "#### Link to the github repo where the datasets to be downloaded:\n",
    "[DOWNLOAD THE DATASETS HERE](https://github.com/leilaicruz/machine-learning-for-yeast/tree/dev_Leila/datasets-for-learning)"
   ]
  },
  {
   "cell_type": "code",
   "execution_count": 2,
   "metadata": {
    "execution": {
     "iopub.execute_input": "2020-07-14T06:30:51.363264Z",
     "iopub.status.busy": "2020-07-14T06:30:51.361688Z",
     "iopub.status.idle": "2020-07-14T06:30:58.559371Z",
     "shell.execute_reply": "2020-07-14T06:30:58.559780Z"
    }
   },
   "outputs": [],
   "source": [
    "import os\n",
    "script_dir = os.path.dirname('__file__') #<-- absolute dir the script is in\n",
    "rel_path_SL = \"datasets/data-synthetic-lethals.xlsx\"\n",
    "rel_path_nSL=\"datasets/data-positive-genetic.xlsx\"\n",
    "rel_path_domains=\"datasets/proteins-domains-from-Pfam.xlsx\"\n",
    "\n",
    "abs_file_path_SL = os.path.join(script_dir, rel_path_SL)\n",
    "abs_file_path_nSL = os.path.join(script_dir, rel_path_nSL)\n",
    "abs_file_path_domains = os.path.join(script_dir, rel_path_domains)\n",
    "\n",
    "# os.chdir('mini_book/docs/') #<-- for binder os.chdir('../')\n",
    "# os.chdir('../')\n",
    "my_path_sl= abs_file_path_SL\n",
    "my_path_non_sl=abs_file_path_nSL\n",
    "my_path_domains=abs_file_path_domains\n",
    "\n",
    "data_sl=pd.read_excel(my_path_sl,header=0)\n",
    "data_domains=pd.read_excel(my_path_domains,header=0,index_col='Unnamed: 0')\n",
    "data_domains=data_domains.dropna()\n",
    "data_nonsl=pd.read_excel(my_path_non_sl,header=0)"
   ]
  },
  {
   "cell_type": "markdown",
   "metadata": {},
   "source": [
    "## Building the feature matrix\n",
    "One matrix for true SL where each row is one pair of SL. Every raw will be a vector of 0,1 or 2 depending on the comparison with the domain list. For row i the jth element = 0 if the jth element of the domain list is not in neither protein A and B, 1, if it is in one of them and 2 if it is in both of them .\n",
    "\n",
    "### Building the list of proteins domains id per protein pair separately :\n",
    "- List of protein A: Search for the Sl/nSL database the query gene name and look in the protein domain database which protein domains id has each of those queries.\n",
    "- List of protein B: Search for the Sl/nSL database the target gene name of the previous query and look in the protein domain database which protein domains id has each of those target genes."
   ]
  },
  {
   "cell_type": "code",
   "execution_count": 3,
   "metadata": {
    "execution": {
     "iopub.execute_input": "2020-07-14T06:30:58.574253Z",
     "iopub.status.busy": "2020-07-14T06:30:58.573745Z",
     "iopub.status.idle": "2020-07-14T06:31:00.745884Z",
     "shell.execute_reply": "2020-07-14T06:31:00.744977Z"
    }
   },
   "outputs": [],
   "source": [
    "# Selecting the meaningful columns in the respective dataset\n",
    "domain_id_list=data_domains['domain-name']\n",
    "query_gene=data_sl['gene-query-name']\n",
    "target_gene=data_sl['gene-target-name']\n",
    "query_gene_nonlethal=data_nonsl['gene-query-name']\n",
    "target_gene_nonlethal=data_nonsl['gene-target-name']\n",
    "\n",
    "\n",
    "\n",
    "# Initialising the arrays\n",
    "protein_a_list=[]\n",
    "protein_b_list=[]\n",
    "protein_a_list_non=[]\n",
    "protein_b_list_non=[]\n",
    "\n",
    "population = np.arange(0,len(data_sl))\n",
    "\n",
    "# For loop for 10000 pairs sampled randomly from the SL/nSl pair list , and creating a big array of proteind domains id per protein pair\n",
    "\n",
    "for m in random.sample(list(population), 500):\n",
    "    protein_a=data_domains[data_domains['name']==query_gene[m]]\n",
    "    protein_b=data_domains[data_domains['name']==target_gene[m]]\n",
    "    protein_a_list.append(protein_a['domain-name'].tolist())\n",
    "    protein_b_list.append(protein_b['domain-name'].tolist())\n",
    "\n",
    "    protein_a_non=data_domains[data_domains['name']==query_gene_nonlethal[m]]\n",
    "    protein_b_non=data_domains[data_domains['name']==target_gene_nonlethal[m]]\n",
    "    protein_a_list_non.append(protein_a_non['domain-name'].tolist())\n",
    "    protein_b_list_non.append(protein_b_non['domain-name'].tolist())"
   ]
  },
  {
   "cell_type": "code",
   "execution_count": 4,
   "metadata": {
    "execution": {
     "iopub.execute_input": "2020-07-14T06:31:00.751225Z",
     "iopub.status.busy": "2020-07-14T06:31:00.750657Z",
     "iopub.status.idle": "2020-07-14T06:31:00.755446Z",
     "shell.execute_reply": "2020-07-14T06:31:00.754990Z"
    }
   },
   "outputs": [
    {
     "name": "stdout",
     "output_type": "stream",
     "text": [
      "We are going to analyze 500 protein pairs, out of 17871 SL protein pairs\n",
      "We are going to analyze 500 protein pairs, out of 43340 positive protein pairs\n"
     ]
    }
   ],
   "source": [
    "print('We are going to analyze',len((protein_a_list)) ,'protein pairs, out of',len(data_sl),'SL protein pairs')\n",
    "print('We are going to analyze',len((protein_a_list_non)) ,'protein pairs, out of',len(data_nonsl),'positive protein pairs')"
   ]
  },
  {
   "cell_type": "markdown",
   "metadata": {},
   "source": [
    "### Postprocessing #1:  Remove protein pairs from study if either protein in the pair does not contain any domain"
   ]
  },
  {
   "cell_type": "code",
   "execution_count": 5,
   "metadata": {
    "execution": {
     "iopub.execute_input": "2020-07-14T06:31:00.764744Z",
     "iopub.status.busy": "2020-07-14T06:31:00.764186Z",
     "iopub.status.idle": "2020-07-14T06:31:00.767860Z",
     "shell.execute_reply": "2020-07-14T06:31:00.768421Z"
    }
   },
   "outputs": [],
   "source": [
    "def remove_empty_domains(protein_list_search,protein_list_pair):\n",
    "    index=[]\n",
    "    for i in np.arange(0,len(protein_list_search)):\n",
    "        if protein_list_search[i]==[] or protein_list_pair[i]==[]:\n",
    "            index.append(i) ## index of empty values for the protein_a_list meaning they dont have any annotated domain\n",
    "\n",
    "    y=[x for x in np.arange(0,len(protein_list_search)) if x not in index] # a list with non empty values from protein_a list\n",
    "\n",
    "    protein_list_search_new=[]\n",
    "    protein_list_pair_new=[]\n",
    "    for i in y:\n",
    "        protein_list_search_new.append(protein_list_search[i])\n",
    "        protein_list_pair_new.append(protein_list_pair[i])\n",
    "    return protein_list_search_new,protein_list_pair_new\n",
    "\n",
    "## evaluating the function\n",
    "\n",
    "protein_a_list_new,protein_b_list_new=remove_empty_domains(protein_a_list,protein_b_list)\n",
    "\n",
    "protein_a_list_non_new,protein_b_list_non_new=remove_empty_domains(protein_a_list_non,protein_b_list_non)"
   ]
  },
  {
   "cell_type": "code",
   "execution_count": 6,
   "metadata": {
    "execution": {
     "iopub.execute_input": "2020-07-14T06:31:00.774694Z",
     "iopub.status.busy": "2020-07-14T06:31:00.773668Z",
     "iopub.status.idle": "2020-07-14T06:31:00.778936Z",
     "shell.execute_reply": "2020-07-14T06:31:00.779764Z"
    }
   },
   "outputs": [
    {
     "name": "stdout",
     "output_type": "stream",
     "text": [
      "The empty domain in the SL were: 92 out of 500 domains\n",
      "The empty domain in the nSL were: 87 out of 500 domains\n"
     ]
    }
   ],
   "source": [
    "print('The empty domain in the SL were:', len(protein_a_list)-len(protein_a_list_new), 'out of', len(protein_a_list),'domains')\n",
    "print('The empty domain in the nSL were:', len(protein_a_list_non)-len(protein_a_list_non_new), 'out of', len(protein_a_list_non),'domains')"
   ]
  },
  {
   "cell_type": "markdown",
   "metadata": {},
   "source": [
    "### Feature engineering: Select from each ordered indexes of domain id list which of them appear once, in both or in any of the domains of each protein pair"
   ]
  },
  {
   "cell_type": "markdown",
   "metadata": {},
   "source": [
    "#### Define function `get_indexes`"
   ]
  },
  {
   "cell_type": "code",
   "execution_count": 7,
   "metadata": {
    "execution": {
     "iopub.execute_input": "2020-07-14T06:31:00.786386Z",
     "iopub.status.busy": "2020-07-14T06:31:00.785846Z",
     "iopub.status.idle": "2020-07-14T06:31:00.791073Z",
     "shell.execute_reply": "2020-07-14T06:31:00.791889Z"
    }
   },
   "outputs": [
    {
     "data": {
      "text/plain": [
       "[1, 2]"
      ]
     },
     "execution_count": 7,
     "metadata": {},
     "output_type": "execute_result"
    }
   ],
   "source": [
    "get_indexes = lambda x, xs: [i for (y, i) in zip(xs, range(len(xs))) if x == y] # a function that give the index of whether a value appear in array or not\n",
    "a=[1,2,2,4,5,6,7,8,9,10]\n",
    "get_indexes(2,a)"
   ]
  },
  {
   "cell_type": "code",
   "execution_count": 8,
   "metadata": {
    "execution": {
     "iopub.execute_input": "2020-07-14T06:31:00.799957Z",
     "iopub.status.busy": "2020-07-14T06:31:00.799078Z",
     "iopub.status.idle": "2020-07-14T06:31:00.802656Z",
     "shell.execute_reply": "2020-07-14T06:31:00.803075Z"
    }
   },
   "outputs": [],
   "source": [
    "def feature_building(protein_a_list_new,protein_b_list_new):\n",
    "    x = np.unique(domain_id_list)\n",
    "    ## To avoid taking repeated domains from one protein of the pairs , lets reduced the domains of each protein from the pairs to their unique members\n",
    "    protein_a_list_unique=[]\n",
    "    protein_b_list_unique=[]\n",
    "    for i in np.arange(0,len(protein_a_list_new)):\n",
    "        protein_a_list_unique.append(np.unique(protein_a_list_new[i]))\n",
    "        protein_b_list_unique.append(np.unique(protein_b_list_new[i]))\n",
    "        \n",
    "    protein_feat_true=np.zeros(shape=(len(x),len(protein_a_list_unique)))\n",
    "    pair_a_b_array=[]\n",
    "    for i in np.arange(0,len(protein_a_list_unique)):\n",
    "        index_a=[]\n",
    "        \n",
    "        pair=[protein_a_list_unique[i],protein_b_list_unique[i]]\n",
    "        pair_a_b=np.concatenate(pair).ravel()\n",
    "        pair_a_b_array.append(pair_a_b)\n",
    "\n",
    "    j=0\n",
    "    for i in pair_a_b_array:  \n",
    "        array,index,counts=np.unique(i,return_index=True,return_counts=True)\n",
    "        \n",
    "        for k,m in zip(counts,array):\n",
    "            if k ==2:\n",
    "                protein_feat_true[get_indexes(m,x),j]=2\n",
    "                \n",
    "            if k==1:\n",
    "                protein_feat_true[get_indexes(m,x),j]=1\n",
    "        j=j+1\n",
    "    return protein_feat_true"
   ]
  },
  {
   "cell_type": "code",
   "execution_count": 9,
   "metadata": {
    "execution": {
     "iopub.execute_input": "2020-07-14T06:31:00.812836Z",
     "iopub.status.busy": "2020-07-14T06:31:00.811659Z",
     "iopub.status.idle": "2020-07-14T06:31:01.549493Z",
     "shell.execute_reply": "2020-07-14T06:31:01.548544Z"
    }
   },
   "outputs": [],
   "source": [
    "protein_feat_true=feature_building(protein_b_list_new=protein_b_list_new,protein_a_list_new=protein_a_list_new)\n",
    "protein_feat_true_pd=pd.DataFrame(protein_feat_true.T)\n",
    "\n",
    "protein_feat_non_true=feature_building(protein_b_list_new=protein_b_list_non_new,protein_a_list_new=protein_a_list_non_new)\n",
    "protein_feat_non_true_pd=pd.DataFrame(protein_feat_non_true.T)"
   ]
  },
  {
   "cell_type": "markdown",
   "metadata": {},
   "source": [
    "### How many ones and twos are in each dataset"
   ]
  },
  {
   "cell_type": "code",
   "execution_count": 10,
   "metadata": {
    "execution": {
     "iopub.execute_input": "2020-07-14T06:31:01.557209Z",
     "iopub.status.busy": "2020-07-14T06:31:01.555833Z",
     "iopub.status.idle": "2020-07-14T06:31:01.646772Z",
     "shell.execute_reply": "2020-07-14T06:31:01.645970Z"
    }
   },
   "outputs": [
    {
     "name": "stdout",
     "output_type": "stream",
     "text": [
      "fraction of twos in the SL array is 3.078917517420191e-05\n",
      "fraction of ones in the SL array is 0.0010128018149408525\n",
      "fraction of twos in the PI array is 1.120605126768455e-05\n",
      "fraction of ones in the PI array is 0.000895683669181358\n"
     ]
    }
   ],
   "source": [
    "index_2_true=protein_feat_true_pd.where(protein_feat_true_pd==2)\n",
    "index_2_true_count=index_2_true.count(axis=1).sum()\n",
    "\n",
    "index_1_true=protein_feat_true_pd.where(protein_feat_true_pd==1)\n",
    "index_1_true_count=index_1_true.count(axis=1).sum()\n",
    "\n",
    "index_2_nontrue=protein_feat_non_true_pd.where(protein_feat_non_true_pd==2)\n",
    "index_2_nontrue_count=index_2_nontrue.count(axis=1).sum()\n",
    "\n",
    "index_1_nontrue=protein_feat_non_true_pd.where(protein_feat_non_true_pd==1)\n",
    "index_1_nontrue_count=index_1_nontrue.count(axis=1).sum()\n",
    "\n",
    "\n",
    "print('fraction of twos in the SL array is',index_2_true_count/(len(protein_feat_true_pd.index)*len(protein_feat_true_pd.columns)))\n",
    "print('fraction of ones in the SL array is',index_1_true_count/(len(protein_feat_true_pd.index)*len(protein_feat_true_pd.columns)))\n",
    "print('fraction of twos in the PI array is',index_2_nontrue_count/(len(protein_feat_non_true_pd.index)*len(protein_feat_non_true_pd.columns)))\n",
    "print('fraction of ones in the PI array is',index_1_nontrue_count/(len(protein_feat_non_true_pd.index)*len(protein_feat_non_true_pd.columns)))"
   ]
  },
  {
   "cell_type": "markdown",
   "metadata": {},
   "source": [
    "#### Bar plot to visualize these numbers"
   ]
  },
  {
   "cell_type": "code",
   "execution_count": 11,
   "metadata": {
    "execution": {
     "iopub.execute_input": "2020-07-14T06:31:01.653353Z",
     "iopub.status.busy": "2020-07-14T06:31:01.652774Z",
     "iopub.status.idle": "2020-07-14T06:31:02.074265Z",
     "shell.execute_reply": "2020-07-14T06:31:02.073525Z"
    }
   },
   "outputs": [
    {
     "data": {
      "text/plain": [
       "([0, 1, 2, 3], <a list of 4 Text major ticklabel objects>)"
      ]
     },
     "execution_count": 11,
     "metadata": {},
     "output_type": "execute_result"
    },
    {
     "data": {
      "image/png": "[encoded data removed]",
      "text/plain": [
       "<Figure size 432x288 with 1 Axes>"
      ]
     },
     "metadata": {
      "filenames": {
       "image/png": "/home/runner/work/jupyter-book/jupyter-book/mini_book/docs/_build/jupyter_execute/prot_domains2lethality-FEATURES-POSTPROCESSING_18_1.png"
      },
      "needs_background": "light"
     },
     "output_type": "display_data"
    }
   ],
   "source": [
    "plt.bar(['fraction of 2 in the nSL','fraction of 1 in the nSL'],[index_2_nontrue_count/(len(protein_feat_non_true_pd.index)*len(protein_feat_non_true_pd.columns)),index_1_nontrue_count/(len(protein_feat_non_true_pd.index)*len(protein_feat_non_true_pd.columns))],alpha=0.6,color=['blue','lightblue']), \n",
    "\n",
    "plt.bar(['fraction of 2 in SL ','fraction of 1 in SL'],[index_2_true_count/(len(protein_feat_true_pd.index)*len(protein_feat_true_pd.columns)),index_1_true_count/(len(protein_feat_true_pd.index)*len(protein_feat_true_pd.columns))],alpha=0.6,color=['coral','lightcoral'])\n",
    "\n",
    "plt.ylabel('Fraction from the population')\n",
    "plt.yscale('log')\n",
    "plt.xticks(rotation=40)"
   ]
  },
  {
   "cell_type": "markdown",
   "metadata": {},
   "source": [
    "#### Adding the labels(response variables) to each dataset"
   ]
  },
  {
   "cell_type": "code",
   "execution_count": 12,
   "metadata": {
    "execution": {
     "iopub.execute_input": "2020-07-14T06:31:02.079709Z",
     "iopub.status.busy": "2020-07-14T06:31:02.078854Z",
     "iopub.status.idle": "2020-07-14T06:31:02.084167Z",
     "shell.execute_reply": "2020-07-14T06:31:02.083306Z"
    }
   },
   "outputs": [],
   "source": [
    "protein_feat_true_pd['lethality']=np.ones(shape=(len(protein_a_list_new)))\n",
    "protein_feat_non_true_pd['lethality']=np.zeros(shape=(len(protein_a_list_non_new)))"
   ]
  },
  {
   "cell_type": "markdown",
   "metadata": {},
   "source": [
    "#### Joining both datasets"
   ]
  },
  {
   "cell_type": "code",
   "execution_count": 13,
   "metadata": {
    "execution": {
     "iopub.execute_input": "2020-07-14T06:31:02.089151Z",
     "iopub.status.busy": "2020-07-14T06:31:02.088348Z",
     "iopub.status.idle": "2020-07-14T06:31:02.127815Z",
     "shell.execute_reply": "2020-07-14T06:31:02.127359Z"
    }
   },
   "outputs": [
    {
     "name": "stdout",
     "output_type": "stream",
     "text": [
      "The number of features are: 3026\n",
      "The number of samples are: 821\n"
     ]
    }
   ],
   "source": [
    "feature_post=pd.concat([protein_feat_true_pd,protein_feat_non_true_pd],axis=0)\n",
    "feature_post=feature_post.set_index(np.arange(0,len(protein_a_list_new)+len(protein_a_list_non_new)))\n",
    "print('The number of features are:',feature_post.shape[1])\n",
    "print('The number of samples are:',feature_post.shape[0])"
   ]
  },
  {
   "cell_type": "markdown",
   "metadata": {},
   "source": [
    "### Postprocessing and exploration of the feature matrix of both datasets"
   ]
  },
  {
   "cell_type": "code",
   "execution_count": 14,
   "metadata": {
    "execution": {
     "iopub.execute_input": "2020-07-14T06:31:02.146070Z",
     "iopub.status.busy": "2020-07-14T06:31:02.145104Z",
     "iopub.status.idle": "2020-07-14T06:31:07.071519Z",
     "shell.execute_reply": "2020-07-14T06:31:07.072066Z"
    }
   },
   "outputs": [],
   "source": [
    "mean=feature_post.T.describe().loc['mean']\n",
    "std=feature_post.T.describe().loc['std']\n",
    "lethality=feature_post['lethality']\n",
    "\n",
    "corr_keys=pd.concat([mean,std,lethality],axis=1)"
   ]
  },
  {
   "cell_type": "markdown",
   "metadata": {},
   "source": [
    "### Viz of the stats"
   ]
  },
  {
   "cell_type": "code",
   "execution_count": 15,
   "metadata": {
    "execution": {
     "iopub.execute_input": "2020-07-14T06:31:07.086805Z",
     "iopub.status.busy": "2020-07-14T06:31:07.081662Z",
     "iopub.status.idle": "2020-07-14T06:31:09.072822Z",
     "shell.execute_reply": "2020-07-14T06:31:09.071770Z"
    }
   },
   "outputs": [
    {
     "data": {
      "text/plain": [
       "Text(0.5, 1.08, 'Pairplot to see data dependencies with Lethality')"
      ]
     },
     "execution_count": 15,
     "metadata": {},
     "output_type": "execute_result"
    },
    {
     "data": {
      "image/png": "[encoded data removed]",
      "text/plain": [
       "<Figure size 412x360 with 6 Axes>"
      ]
     },
     "metadata": {
      "filenames": {
       "image/png": "/home/runner/work/jupyter-book/jupyter-book/mini_book/docs/_build/jupyter_execute/prot_domains2lethality-FEATURES-POSTPROCESSING_26_1.png"
      },
      "needs_background": "light"
     },
     "output_type": "display_data"
    }
   ],
   "source": [
    "pair=sns.pairplot(corr_keys,hue='lethality',diag_kind='kde',kind='reg',palette='colorblind')\n",
    "pair.fig.suptitle('Pairplot to see data dependencies with Lethality',y=1.08)"
   ]
  },
  {
   "cell_type": "code",
   "execution_count": 16,
   "metadata": {
    "execution": {
     "iopub.execute_input": "2020-07-14T06:31:09.087028Z",
     "iopub.status.busy": "2020-07-14T06:31:09.085555Z",
     "iopub.status.idle": "2020-07-14T06:31:09.087694Z",
     "shell.execute_reply": "2020-07-14T06:31:09.088207Z"
    }
   },
   "outputs": [],
   "source": [
    "X, y = feature_post.drop(columns=[\"lethality\"]), feature_post[\"lethality\"]"
   ]
  },
  {
   "cell_type": "code",
   "execution_count": 17,
   "metadata": {
    "execution": {
     "iopub.execute_input": "2020-07-14T06:31:09.093719Z",
     "iopub.status.busy": "2020-07-14T06:31:09.093102Z",
     "iopub.status.idle": "2020-07-14T06:31:09.254665Z",
     "shell.execute_reply": "2020-07-14T06:31:09.254040Z"
    }
   },
   "outputs": [],
   "source": [
    "from sklearn.preprocessing import StandardScaler\n",
    "scaler = StandardScaler()\n",
    "x_sl=protein_feat_true_pd.drop(columns=['lethality'])\n",
    "x_nsl=protein_feat_non_true_pd.drop(columns=['lethality'])\n",
    "\n",
    "X_sl_scaled = scaler.fit_transform(x_sl)\n",
    "X_nsl_scaled = scaler.fit_transform(x_nsl)"
   ]
  },
  {
   "cell_type": "code",
   "execution_count": 18,
   "metadata": {
    "execution": {
     "iopub.execute_input": "2020-07-14T06:31:09.259621Z",
     "iopub.status.busy": "2020-07-14T06:31:09.259021Z",
     "iopub.status.idle": "2020-07-14T06:31:09.261711Z",
     "shell.execute_reply": "2020-07-14T06:31:09.262182Z"
    }
   },
   "outputs": [
    {
     "data": {
      "text/plain": [
       "(408, 3025)"
      ]
     },
     "execution_count": 18,
     "metadata": {},
     "output_type": "execute_result"
    }
   ],
   "source": [
    "np.shape(X_sl_scaled)"
   ]
  },
  {
   "cell_type": "markdown",
   "metadata": {},
   "source": [
    "## How redundant are each of the protein domains?"
   ]
  },
  {
   "cell_type": "code",
   "execution_count": 19,
   "metadata": {
    "execution": {
     "iopub.execute_input": "2020-07-14T06:31:09.269843Z",
     "iopub.status.busy": "2020-07-14T06:31:09.268587Z",
     "iopub.status.idle": "2020-07-14T06:31:09.270516Z",
     "shell.execute_reply": "2020-07-14T06:31:09.271074Z"
    }
   },
   "outputs": [],
   "source": [
    "def PCA_component_contribution(scaled_matrix,original_data):\n",
    "    from sklearn.decomposition import PCA\n",
    "\n",
    "    model = PCA(0.95).fit(scaled_matrix)\n",
    "    ## apply dimensionality reduction to X_train\n",
    "    output_pca = model.transform(scaled_matrix)\n",
    "    \n",
    "    total=sum(model.explained_variance_)\n",
    "\n",
    "\n",
    "   \n",
    "    # number of components , that it will be the number of main axes times the number of original components \n",
    "    n_pcs= model.components_.shape[0] # the amount of non redundant protein domains \n",
    "\n",
    "    # get the index of the most important feature on EACH component\n",
    "    # LIST COMPREHENSION HERE\n",
    "    most_important = [np.abs(model.components_[i]).argmax() for i in range(n_pcs)]\n",
    "\n",
    "    initial_feature_names = original_data.columns\n",
    "    # get the names\n",
    "    most_important_names = [initial_feature_names[most_important[i]] for i in range(n_pcs)]\n",
    "    \n",
    "\n",
    "    # LIST COMPREHENSION HERE AGAIN\n",
    "    dic = {'PC{}'.format(i): most_important_names[i] for i in range(n_pcs)}\n",
    "\n",
    "    # build the dataframe\n",
    "    df = pd.DataFrame(dic.items(),columns=['pca-component','domain-number'])\n",
    "\n",
    "    return df,model.components_"
   ]
  },
  {
   "cell_type": "code",
   "execution_count": 20,
   "metadata": {
    "execution": {
     "iopub.execute_input": "2020-07-14T06:31:09.275386Z",
     "iopub.status.busy": "2020-07-14T06:31:09.274496Z",
     "iopub.status.idle": "2020-07-14T06:31:10.030570Z",
     "shell.execute_reply": "2020-07-14T06:31:10.031061Z"
    }
   },
   "outputs": [],
   "source": [
    "df_sl,components_pca_nsl=PCA_component_contribution(X_nsl_scaled,x_nsl)\n",
    "df_nsl,components_pca_sl=PCA_component_contribution(X_sl_scaled,x_sl)"
   ]
  },
  {
   "cell_type": "code",
   "execution_count": 21,
   "metadata": {
    "execution": {
     "iopub.execute_input": "2020-07-14T06:31:10.034002Z",
     "iopub.status.busy": "2020-07-14T06:31:10.032997Z",
     "iopub.status.idle": "2020-07-14T06:31:10.043706Z",
     "shell.execute_reply": "2020-07-14T06:31:10.044352Z"
    }
   },
   "outputs": [
    {
     "data": {
      "text/html": [
       "<div>\n",
       "<style scoped>\n",
       "    .dataframe tbody tr th:only-of-type {\n",
       "        vertical-align: middle;\n",
       "    }\n",
       "\n",
       "    .dataframe tbody tr th {\n",
       "        vertical-align: top;\n",
       "    }\n",
       "\n",
       "    .dataframe thead th {\n",
       "        text-align: right;\n",
       "    }\n",
       "</style>\n",
       "<table border=\"1\" class=\"dataframe\">\n",
       "  <thead>\n",
       "    <tr style=\"text-align: right;\">\n",
       "      <th></th>\n",
       "      <th>pca-component</th>\n",
       "      <th>domain-number</th>\n",
       "    </tr>\n",
       "  </thead>\n",
       "  <tbody>\n",
       "    <tr>\n",
       "      <th>0</th>\n",
       "      <td>PC0</td>\n",
       "      <td>135</td>\n",
       "    </tr>\n",
       "    <tr>\n",
       "      <th>1</th>\n",
       "      <td>PC1</td>\n",
       "      <td>50</td>\n",
       "    </tr>\n",
       "    <tr>\n",
       "      <th>2</th>\n",
       "      <td>PC2</td>\n",
       "      <td>221</td>\n",
       "    </tr>\n",
       "    <tr>\n",
       "      <th>3</th>\n",
       "      <td>PC3</td>\n",
       "      <td>989</td>\n",
       "    </tr>\n",
       "    <tr>\n",
       "      <th>4</th>\n",
       "      <td>PC4</td>\n",
       "      <td>305</td>\n",
       "    </tr>\n",
       "  </tbody>\n",
       "</table>\n",
       "</div>"
      ],
      "text/plain": [
       "  pca-component  domain-number\n",
       "0           PC0            135\n",
       "1           PC1             50\n",
       "2           PC2            221\n",
       "3           PC3            989\n",
       "4           PC4            305"
      ]
     },
     "execution_count": 21,
     "metadata": {},
     "output_type": "execute_result"
    }
   ],
   "source": [
    "df_sl.head()"
   ]
  },
  {
   "cell_type": "markdown",
   "metadata": {},
   "source": [
    "## which are the shared domains between nSL and SL pairs , in the PCA reduced samples"
   ]
  },
  {
   "cell_type": "code",
   "execution_count": 22,
   "metadata": {
    "execution": {
     "iopub.execute_input": "2020-07-14T06:31:10.047466Z",
     "iopub.status.busy": "2020-07-14T06:31:10.046408Z",
     "iopub.status.idle": "2020-07-14T06:31:10.079313Z",
     "shell.execute_reply": "2020-07-14T06:31:10.079963Z"
    }
   },
   "outputs": [
    {
     "data": {
      "text/html": [
       "<div>\n",
       "<style scoped>\n",
       "    .dataframe tbody tr th:only-of-type {\n",
       "        vertical-align: middle;\n",
       "    }\n",
       "\n",
       "    .dataframe tbody tr th {\n",
       "        vertical-align: top;\n",
       "    }\n",
       "\n",
       "    .dataframe thead th {\n",
       "        text-align: right;\n",
       "    }\n",
       "</style>\n",
       "<table border=\"1\" class=\"dataframe\">\n",
       "  <thead>\n",
       "    <tr style=\"text-align: right;\">\n",
       "      <th></th>\n",
       "      <th>pca-component_x</th>\n",
       "      <th>domain-number</th>\n",
       "      <th>pca-component_y</th>\n",
       "      <th>domain-description</th>\n",
       "    </tr>\n",
       "  </thead>\n",
       "  <tbody>\n",
       "    <tr>\n",
       "      <th>0</th>\n",
       "      <td>PC4</td>\n",
       "      <td>305</td>\n",
       "      <td>PC1</td>\n",
       "      <td>Brr6_like_C_C; Brl1/Brr6 domain</td>\n",
       "    </tr>\n",
       "    <tr>\n",
       "      <th>1</th>\n",
       "      <td>PC11</td>\n",
       "      <td>1836</td>\n",
       "      <td>PC38</td>\n",
       "      <td>PTPLA; Protein-tyrosine phosphatase-like, PTPLA</td>\n",
       "    </tr>\n",
       "    <tr>\n",
       "      <th>2</th>\n",
       "      <td>PC13</td>\n",
       "      <td>892</td>\n",
       "      <td>PC64</td>\n",
       "      <td>FSH1; Serine hydrolase FSH</td>\n",
       "    </tr>\n",
       "    <tr>\n",
       "      <th>3</th>\n",
       "      <td>PC19</td>\n",
       "      <td>602</td>\n",
       "      <td>PC17</td>\n",
       "      <td>DNA_RNApol_7kD; RNA polymerase archaeal subuni...</td>\n",
       "    </tr>\n",
       "    <tr>\n",
       "      <th>4</th>\n",
       "      <td>PC22</td>\n",
       "      <td>257</td>\n",
       "      <td>PC36</td>\n",
       "      <td>BAR_2; BAR domain-containing family</td>\n",
       "    </tr>\n",
       "    <tr>\n",
       "      <th>5</th>\n",
       "      <td>PC25</td>\n",
       "      <td>877</td>\n",
       "      <td>PC47</td>\n",
       "      <td>FF; FF domain</td>\n",
       "    </tr>\n",
       "    <tr>\n",
       "      <th>6</th>\n",
       "      <td>PC26</td>\n",
       "      <td>369</td>\n",
       "      <td>PC99</td>\n",
       "      <td>CNH; Citron homology (CNH) domain</td>\n",
       "    </tr>\n",
       "    <tr>\n",
       "      <th>7</th>\n",
       "      <td>PC28</td>\n",
       "      <td>1859</td>\n",
       "      <td>PC102</td>\n",
       "      <td>Pcc1; CTAG/Pcc1 family</td>\n",
       "    </tr>\n",
       "    <tr>\n",
       "      <th>8</th>\n",
       "      <td>PC37</td>\n",
       "      <td>2427</td>\n",
       "      <td>PC76</td>\n",
       "      <td>Scramblase</td>\n",
       "    </tr>\n",
       "    <tr>\n",
       "      <th>9</th>\n",
       "      <td>PC37</td>\n",
       "      <td>2427</td>\n",
       "      <td>PC77</td>\n",
       "      <td>Scramblase</td>\n",
       "    </tr>\n",
       "    <tr>\n",
       "      <th>10</th>\n",
       "      <td>PC47</td>\n",
       "      <td>1260</td>\n",
       "      <td>PC114</td>\n",
       "      <td>KOW</td>\n",
       "    </tr>\n",
       "    <tr>\n",
       "      <th>11</th>\n",
       "      <td>PC49</td>\n",
       "      <td>983</td>\n",
       "      <td>PC35</td>\n",
       "      <td>GHMP_kinases_N; GHMP kinase N-terminal domain</td>\n",
       "    </tr>\n",
       "    <tr>\n",
       "      <th>12</th>\n",
       "      <td>PC50</td>\n",
       "      <td>983</td>\n",
       "      <td>PC35</td>\n",
       "      <td>GHMP_kinases_N; GHMP kinase N-terminal domain</td>\n",
       "    </tr>\n",
       "    <tr>\n",
       "      <th>13</th>\n",
       "      <td>PC51</td>\n",
       "      <td>2936</td>\n",
       "      <td>PC136</td>\n",
       "      <td>tRNA-synt_1c; Glutamyl/glutaminyl-tRNA synthet...</td>\n",
       "    </tr>\n",
       "    <tr>\n",
       "      <th>14</th>\n",
       "      <td>PC52</td>\n",
       "      <td>2025</td>\n",
       "      <td>PC208</td>\n",
       "      <td>RNA_pol_Rpb2_7; RNA polymerase Rpb2, domain 7</td>\n",
       "    </tr>\n",
       "    <tr>\n",
       "      <th>15</th>\n",
       "      <td>PC53</td>\n",
       "      <td>2025</td>\n",
       "      <td>PC208</td>\n",
       "      <td>RNA_pol_Rpb2_7; RNA polymerase Rpb2, domain 7</td>\n",
       "    </tr>\n",
       "    <tr>\n",
       "      <th>16</th>\n",
       "      <td>PC55</td>\n",
       "      <td>214</td>\n",
       "      <td>PC91</td>\n",
       "      <td>Anth_synt_I_N; Anthranilate synthase component...</td>\n",
       "    </tr>\n",
       "    <tr>\n",
       "      <th>17</th>\n",
       "      <td>PC55</td>\n",
       "      <td>214</td>\n",
       "      <td>PC92</td>\n",
       "      <td>Anth_synt_I_N; Anthranilate synthase component...</td>\n",
       "    </tr>\n",
       "    <tr>\n",
       "      <th>18</th>\n",
       "      <td>PC99</td>\n",
       "      <td>2700</td>\n",
       "      <td>PC186</td>\n",
       "      <td>Trehalose_PPase; Trehalose-phosphatase</td>\n",
       "    </tr>\n",
       "    <tr>\n",
       "      <th>19</th>\n",
       "      <td>PC99</td>\n",
       "      <td>2700</td>\n",
       "      <td>PC214</td>\n",
       "      <td>Trehalose_PPase; Trehalose-phosphatase</td>\n",
       "    </tr>\n",
       "    <tr>\n",
       "      <th>20</th>\n",
       "      <td>PC100</td>\n",
       "      <td>2700</td>\n",
       "      <td>PC186</td>\n",
       "      <td>Trehalose_PPase; Trehalose-phosphatase</td>\n",
       "    </tr>\n",
       "    <tr>\n",
       "      <th>21</th>\n",
       "      <td>PC100</td>\n",
       "      <td>2700</td>\n",
       "      <td>PC214</td>\n",
       "      <td>Trehalose_PPase; Trehalose-phosphatase</td>\n",
       "    </tr>\n",
       "    <tr>\n",
       "      <th>22</th>\n",
       "      <td>PC102</td>\n",
       "      <td>1040</td>\n",
       "      <td>PC221</td>\n",
       "      <td>Glucosamine_iso; Glucosamine/galactosamine-6-p...</td>\n",
       "    </tr>\n",
       "    <tr>\n",
       "      <th>23</th>\n",
       "      <td>PC102</td>\n",
       "      <td>1040</td>\n",
       "      <td>PC243</td>\n",
       "      <td>Glucosamine_iso; Glucosamine/galactosamine-6-p...</td>\n",
       "    </tr>\n",
       "    <tr>\n",
       "      <th>24</th>\n",
       "      <td>PC122</td>\n",
       "      <td>1040</td>\n",
       "      <td>PC221</td>\n",
       "      <td>Glucosamine_iso; Glucosamine/galactosamine-6-p...</td>\n",
       "    </tr>\n",
       "    <tr>\n",
       "      <th>25</th>\n",
       "      <td>PC122</td>\n",
       "      <td>1040</td>\n",
       "      <td>PC243</td>\n",
       "      <td>Glucosamine_iso; Glucosamine/galactosamine-6-p...</td>\n",
       "    </tr>\n",
       "    <tr>\n",
       "      <th>26</th>\n",
       "      <td>PC111</td>\n",
       "      <td>2151</td>\n",
       "      <td>PC128</td>\n",
       "      <td>Ribosomal_60s</td>\n",
       "    </tr>\n",
       "    <tr>\n",
       "      <th>27</th>\n",
       "      <td>PC114</td>\n",
       "      <td>671</td>\n",
       "      <td>PC245</td>\n",
       "      <td>DUF2347; Protein of unknown function DUF2347</td>\n",
       "    </tr>\n",
       "    <tr>\n",
       "      <th>28</th>\n",
       "      <td>PC121</td>\n",
       "      <td>671</td>\n",
       "      <td>PC245</td>\n",
       "      <td>DUF2347; Protein of unknown function DUF2347</td>\n",
       "    </tr>\n",
       "    <tr>\n",
       "      <th>29</th>\n",
       "      <td>PC128</td>\n",
       "      <td>1701</td>\n",
       "      <td>PC137</td>\n",
       "      <td>PAP_central; Poly(A) polymerase, central domain</td>\n",
       "    </tr>\n",
       "    <tr>\n",
       "      <th>30</th>\n",
       "      <td>PC128</td>\n",
       "      <td>1701</td>\n",
       "      <td>PC148</td>\n",
       "      <td>PAP_central; Poly(A) polymerase, central domain</td>\n",
       "    </tr>\n",
       "    <tr>\n",
       "      <th>31</th>\n",
       "      <td>PC134</td>\n",
       "      <td>881</td>\n",
       "      <td>PC175</td>\n",
       "      <td>FHA; Forkhead-associated (FHA) domain</td>\n",
       "    </tr>\n",
       "    <tr>\n",
       "      <th>32</th>\n",
       "      <td>PC134</td>\n",
       "      <td>881</td>\n",
       "      <td>PC176</td>\n",
       "      <td>FHA; Forkhead-associated (FHA) domain</td>\n",
       "    </tr>\n",
       "    <tr>\n",
       "      <th>33</th>\n",
       "      <td>PC142</td>\n",
       "      <td>924</td>\n",
       "      <td>PC41</td>\n",
       "      <td>Flocculin</td>\n",
       "    </tr>\n",
       "    <tr>\n",
       "      <th>34</th>\n",
       "      <td>PC143</td>\n",
       "      <td>924</td>\n",
       "      <td>PC41</td>\n",
       "      <td>Flocculin</td>\n",
       "    </tr>\n",
       "    <tr>\n",
       "      <th>35</th>\n",
       "      <td>PC144</td>\n",
       "      <td>2453</td>\n",
       "      <td>PC95</td>\n",
       "      <td>Sec6; Exocyst complex component EXOC3/Sec6</td>\n",
       "    </tr>\n",
       "    <tr>\n",
       "      <th>36</th>\n",
       "      <td>PC153</td>\n",
       "      <td>63</td>\n",
       "      <td>PC195</td>\n",
       "      <td>AICARFT_IMPCHas; AICARFT/IMPCHase bienzyme</td>\n",
       "    </tr>\n",
       "    <tr>\n",
       "      <th>37</th>\n",
       "      <td>PC153</td>\n",
       "      <td>63</td>\n",
       "      <td>PC197</td>\n",
       "      <td>AICARFT_IMPCHas; AICARFT/IMPCHase bienzyme</td>\n",
       "    </tr>\n",
       "    <tr>\n",
       "      <th>38</th>\n",
       "      <td>PC157</td>\n",
       "      <td>819</td>\n",
       "      <td>PC183</td>\n",
       "      <td>ERO1; Endoplasmic reticulum oxidoreductin 1</td>\n",
       "    </tr>\n",
       "    <tr>\n",
       "      <th>39</th>\n",
       "      <td>PC157</td>\n",
       "      <td>819</td>\n",
       "      <td>PC184</td>\n",
       "      <td>ERO1; Endoplasmic reticulum oxidoreductin 1</td>\n",
       "    </tr>\n",
       "    <tr>\n",
       "      <th>40</th>\n",
       "      <td>PC158</td>\n",
       "      <td>1428</td>\n",
       "      <td>PC113</td>\n",
       "      <td>MatE; Multi antimicrobial extrusion protein</td>\n",
       "    </tr>\n",
       "    <tr>\n",
       "      <th>41</th>\n",
       "      <td>PC158</td>\n",
       "      <td>1428</td>\n",
       "      <td>PC124</td>\n",
       "      <td>MatE; Multi antimicrobial extrusion protein</td>\n",
       "    </tr>\n",
       "    <tr>\n",
       "      <th>42</th>\n",
       "      <td>PC159</td>\n",
       "      <td>1428</td>\n",
       "      <td>PC113</td>\n",
       "      <td>MatE; Multi antimicrobial extrusion protein</td>\n",
       "    </tr>\n",
       "    <tr>\n",
       "      <th>43</th>\n",
       "      <td>PC159</td>\n",
       "      <td>1428</td>\n",
       "      <td>PC124</td>\n",
       "      <td>MatE; Multi antimicrobial extrusion protein</td>\n",
       "    </tr>\n",
       "    <tr>\n",
       "      <th>44</th>\n",
       "      <td>PC170</td>\n",
       "      <td>861</td>\n",
       "      <td>PC198</td>\n",
       "      <td>FAD-oxidase_C; FAD-linked oxidase, C-terminal</td>\n",
       "    </tr>\n",
       "    <tr>\n",
       "      <th>45</th>\n",
       "      <td>PC173</td>\n",
       "      <td>861</td>\n",
       "      <td>PC198</td>\n",
       "      <td>FAD-oxidase_C; FAD-linked oxidase, C-terminal</td>\n",
       "    </tr>\n",
       "    <tr>\n",
       "      <th>46</th>\n",
       "      <td>PC186</td>\n",
       "      <td>1672</td>\n",
       "      <td>PC216</td>\n",
       "      <td>Opi1; Transcription factor Opi1</td>\n",
       "    </tr>\n",
       "    <tr>\n",
       "      <th>47</th>\n",
       "      <td>PC230</td>\n",
       "      <td>1672</td>\n",
       "      <td>PC216</td>\n",
       "      <td>Opi1; Transcription factor Opi1</td>\n",
       "    </tr>\n",
       "    <tr>\n",
       "      <th>48</th>\n",
       "      <td>PC187</td>\n",
       "      <td>1233</td>\n",
       "      <td>PC212</td>\n",
       "      <td>Inhibitor_I9; Peptidase S8 propeptide/proteina...</td>\n",
       "    </tr>\n",
       "    <tr>\n",
       "      <th>49</th>\n",
       "      <td>PC190</td>\n",
       "      <td>337</td>\n",
       "      <td>PC117</td>\n",
       "      <td>CDC48_N; CDC48, N-terminal subdomain</td>\n",
       "    </tr>\n",
       "    <tr>\n",
       "      <th>50</th>\n",
       "      <td>PC195</td>\n",
       "      <td>439</td>\n",
       "      <td>PC193</td>\n",
       "      <td>Calreticulin; Calreticulin/calnexin</td>\n",
       "    </tr>\n",
       "    <tr>\n",
       "      <th>51</th>\n",
       "      <td>PC268</td>\n",
       "      <td>439</td>\n",
       "      <td>PC193</td>\n",
       "      <td>Calreticulin; Calreticulin/calnexin</td>\n",
       "    </tr>\n",
       "    <tr>\n",
       "      <th>52</th>\n",
       "      <td>PC205</td>\n",
       "      <td>1688</td>\n",
       "      <td>PC161</td>\n",
       "      <td>PA14; PA14 domain</td>\n",
       "    </tr>\n",
       "    <tr>\n",
       "      <th>53</th>\n",
       "      <td>PC205</td>\n",
       "      <td>1688</td>\n",
       "      <td>PC165</td>\n",
       "      <td>PA14; PA14 domain</td>\n",
       "    </tr>\n",
       "    <tr>\n",
       "      <th>54</th>\n",
       "      <td>PC209</td>\n",
       "      <td>1641</td>\n",
       "      <td>PC217</td>\n",
       "      <td>Nsp1_C; Nucleoporin, NSP1-like, C-terminal</td>\n",
       "    </tr>\n",
       "    <tr>\n",
       "      <th>55</th>\n",
       "      <td>PC221</td>\n",
       "      <td>595</td>\n",
       "      <td>PC141</td>\n",
       "      <td>DJ-1_PfpI; DJ-1/PfpI</td>\n",
       "    </tr>\n",
       "    <tr>\n",
       "      <th>56</th>\n",
       "      <td>PC224</td>\n",
       "      <td>4</td>\n",
       "      <td>PC205</td>\n",
       "      <td>2-oxoacid_dh; 2-oxoacid dehydrogenase acyltran...</td>\n",
       "    </tr>\n",
       "    <tr>\n",
       "      <th>57</th>\n",
       "      <td>PC227</td>\n",
       "      <td>237</td>\n",
       "      <td>PC204</td>\n",
       "      <td>Asn_synthase; Asparagine synthase</td>\n",
       "    </tr>\n",
       "    <tr>\n",
       "      <th>58</th>\n",
       "      <td>PC239</td>\n",
       "      <td>107</td>\n",
       "      <td>PC149</td>\n",
       "      <td>ATE_N; Arginine-tRNA-protein transferase, N-te...</td>\n",
       "    </tr>\n",
       "    <tr>\n",
       "      <th>59</th>\n",
       "      <td>PC257</td>\n",
       "      <td>557</td>\n",
       "      <td>PC241</td>\n",
       "      <td>DASH_Dam1; DASH complex subunit Dam1</td>\n",
       "    </tr>\n",
       "  </tbody>\n",
       "</table>\n",
       "</div>"
      ],
      "text/plain": [
       "   pca-component_x  domain-number pca-component_y  \\\n",
       "0              PC4            305             PC1   \n",
       "1             PC11           1836            PC38   \n",
       "2             PC13            892            PC64   \n",
       "3             PC19            602            PC17   \n",
       "4             PC22            257            PC36   \n",
       "5             PC25            877            PC47   \n",
       "6             PC26            369            PC99   \n",
       "7             PC28           1859           PC102   \n",
       "8             PC37           2427            PC76   \n",
       "9             PC37           2427            PC77   \n",
       "10            PC47           1260           PC114   \n",
       "11            PC49            983            PC35   \n",
       "12            PC50            983            PC35   \n",
       "13            PC51           2936           PC136   \n",
       "14            PC52           2025           PC208   \n",
       "15            PC53           2025           PC208   \n",
       "16            PC55            214            PC91   \n",
       "17            PC55            214            PC92   \n",
       "18            PC99           2700           PC186   \n",
       "19            PC99           2700           PC214   \n",
       "20           PC100           2700           PC186   \n",
       "21           PC100           2700           PC214   \n",
       "22           PC102           1040           PC221   \n",
       "23           PC102           1040           PC243   \n",
       "24           PC122           1040           PC221   \n",
       "25           PC122           1040           PC243   \n",
       "26           PC111           2151           PC128   \n",
       "27           PC114            671           PC245   \n",
       "28           PC121            671           PC245   \n",
       "29           PC128           1701           PC137   \n",
       "30           PC128           1701           PC148   \n",
       "31           PC134            881           PC175   \n",
       "32           PC134            881           PC176   \n",
       "33           PC142            924            PC41   \n",
       "34           PC143            924            PC41   \n",
       "35           PC144           2453            PC95   \n",
       "36           PC153             63           PC195   \n",
       "37           PC153             63           PC197   \n",
       "38           PC157            819           PC183   \n",
       "39           PC157            819           PC184   \n",
       "40           PC158           1428           PC113   \n",
       "41           PC158           1428           PC124   \n",
       "42           PC159           1428           PC113   \n",
       "43           PC159           1428           PC124   \n",
       "44           PC170            861           PC198   \n",
       "45           PC173            861           PC198   \n",
       "46           PC186           1672           PC216   \n",
       "47           PC230           1672           PC216   \n",
       "48           PC187           1233           PC212   \n",
       "49           PC190            337           PC117   \n",
       "50           PC195            439           PC193   \n",
       "51           PC268            439           PC193   \n",
       "52           PC205           1688           PC161   \n",
       "53           PC205           1688           PC165   \n",
       "54           PC209           1641           PC217   \n",
       "55           PC221            595           PC141   \n",
       "56           PC224              4           PC205   \n",
       "57           PC227            237           PC204   \n",
       "58           PC239            107           PC149   \n",
       "59           PC257            557           PC241   \n",
       "\n",
       "                                   domain-description  \n",
       "0                     Brr6_like_C_C; Brl1/Brr6 domain  \n",
       "1     PTPLA; Protein-tyrosine phosphatase-like, PTPLA  \n",
       "2                          FSH1; Serine hydrolase FSH  \n",
       "3   DNA_RNApol_7kD; RNA polymerase archaeal subuni...  \n",
       "4                 BAR_2; BAR domain-containing family  \n",
       "5                                       FF; FF domain  \n",
       "6                   CNH; Citron homology (CNH) domain  \n",
       "7                              Pcc1; CTAG/Pcc1 family  \n",
       "8                                          Scramblase  \n",
       "9                                          Scramblase  \n",
       "10                                                KOW  \n",
       "11      GHMP_kinases_N; GHMP kinase N-terminal domain  \n",
       "12      GHMP_kinases_N; GHMP kinase N-terminal domain  \n",
       "13  tRNA-synt_1c; Glutamyl/glutaminyl-tRNA synthet...  \n",
       "14      RNA_pol_Rpb2_7; RNA polymerase Rpb2, domain 7  \n",
       "15      RNA_pol_Rpb2_7; RNA polymerase Rpb2, domain 7  \n",
       "16  Anth_synt_I_N; Anthranilate synthase component...  \n",
       "17  Anth_synt_I_N; Anthranilate synthase component...  \n",
       "18             Trehalose_PPase; Trehalose-phosphatase  \n",
       "19             Trehalose_PPase; Trehalose-phosphatase  \n",
       "20             Trehalose_PPase; Trehalose-phosphatase  \n",
       "21             Trehalose_PPase; Trehalose-phosphatase  \n",
       "22  Glucosamine_iso; Glucosamine/galactosamine-6-p...  \n",
       "23  Glucosamine_iso; Glucosamine/galactosamine-6-p...  \n",
       "24  Glucosamine_iso; Glucosamine/galactosamine-6-p...  \n",
       "25  Glucosamine_iso; Glucosamine/galactosamine-6-p...  \n",
       "26                                      Ribosomal_60s  \n",
       "27       DUF2347; Protein of unknown function DUF2347  \n",
       "28       DUF2347; Protein of unknown function DUF2347  \n",
       "29    PAP_central; Poly(A) polymerase, central domain  \n",
       "30    PAP_central; Poly(A) polymerase, central domain  \n",
       "31              FHA; Forkhead-associated (FHA) domain  \n",
       "32              FHA; Forkhead-associated (FHA) domain  \n",
       "33                                          Flocculin  \n",
       "34                                          Flocculin  \n",
       "35         Sec6; Exocyst complex component EXOC3/Sec6  \n",
       "36         AICARFT_IMPCHas; AICARFT/IMPCHase bienzyme  \n",
       "37         AICARFT_IMPCHas; AICARFT/IMPCHase bienzyme  \n",
       "38        ERO1; Endoplasmic reticulum oxidoreductin 1  \n",
       "39        ERO1; Endoplasmic reticulum oxidoreductin 1  \n",
       "40        MatE; Multi antimicrobial extrusion protein  \n",
       "41        MatE; Multi antimicrobial extrusion protein  \n",
       "42        MatE; Multi antimicrobial extrusion protein  \n",
       "43        MatE; Multi antimicrobial extrusion protein  \n",
       "44      FAD-oxidase_C; FAD-linked oxidase, C-terminal  \n",
       "45      FAD-oxidase_C; FAD-linked oxidase, C-terminal  \n",
       "46                    Opi1; Transcription factor Opi1  \n",
       "47                    Opi1; Transcription factor Opi1  \n",
       "48  Inhibitor_I9; Peptidase S8 propeptide/proteina...  \n",
       "49               CDC48_N; CDC48, N-terminal subdomain  \n",
       "50                Calreticulin; Calreticulin/calnexin  \n",
       "51                Calreticulin; Calreticulin/calnexin  \n",
       "52                                  PA14; PA14 domain  \n",
       "53                                  PA14; PA14 domain  \n",
       "54         Nsp1_C; Nucleoporin, NSP1-like, C-terminal  \n",
       "55                               DJ-1_PfpI; DJ-1/PfpI  \n",
       "56  2-oxoacid_dh; 2-oxoacid dehydrogenase acyltran...  \n",
       "57                  Asn_synthase; Asparagine synthase  \n",
       "58  ATE_N; Arginine-tRNA-protein transferase, N-te...  \n",
       "59               DASH_Dam1; DASH complex subunit Dam1  "
      ]
     },
     "execution_count": 22,
     "metadata": {},
     "output_type": "execute_result"
    }
   ],
   "source": [
    "df_shared_domains=pd.merge(df_sl,df_nsl,how='inner',on='domain-number')\n",
    "domains_name=np.unique(data_domains['domain-name'])\n",
    "domains_description=np.unique(data_domains['domain-descrip'])\n",
    "\n",
    "df_shared_domains['domain-description']=domains_description[df_shared_domains['domain-number']]\n",
    "\n",
    "\n",
    "df_shared_domains"
   ]
  },
  {
   "cell_type": "code",
   "execution_count": 23,
   "metadata": {
    "execution": {
     "iopub.execute_input": "2020-07-14T06:31:10.083241Z",
     "iopub.status.busy": "2020-07-14T06:31:10.082262Z",
     "iopub.status.idle": "2020-07-14T06:31:10.089304Z",
     "shell.execute_reply": "2020-07-14T06:31:10.089982Z"
    }
   },
   "outputs": [
    {
     "name": "stdout",
     "output_type": "stream",
     "text": [
      "The number of shared domains between SL and nSL pairs,after PCA, is =  60 out of 559 so the 10.73345259391771 %\n"
     ]
    }
   ],
   "source": [
    "print('The number of shared domains between SL and nSL pairs,after PCA, is = ',len(df_shared_domains), 'out of', len(df_sl)+len(df_nsl), 'so the',100*len(df_shared_domains)/(len(df_sl)+len(df_nsl)),'%')"
   ]
  },
  {
   "cell_type": "markdown",
   "metadata": {},
   "source": [
    "## Domains exclusive to SL"
   ]
  },
  {
   "cell_type": "code",
   "execution_count": 24,
   "metadata": {
    "execution": {
     "iopub.execute_input": "2020-07-14T06:31:10.092831Z",
     "iopub.status.busy": "2020-07-14T06:31:10.091849Z",
     "iopub.status.idle": "2020-07-14T06:31:10.120954Z",
     "shell.execute_reply": "2020-07-14T06:31:10.121663Z"
    }
   },
   "outputs": [
    {
     "data": {
      "text/html": [
       "<div>\n",
       "<style scoped>\n",
       "    .dataframe tbody tr th:only-of-type {\n",
       "        vertical-align: middle;\n",
       "    }\n",
       "\n",
       "    .dataframe tbody tr th {\n",
       "        vertical-align: top;\n",
       "    }\n",
       "\n",
       "    .dataframe thead th {\n",
       "        text-align: right;\n",
       "    }\n",
       "</style>\n",
       "<table border=\"1\" class=\"dataframe\">\n",
       "  <thead>\n",
       "    <tr style=\"text-align: right;\">\n",
       "      <th></th>\n",
       "      <th>pca-component_x</th>\n",
       "      <th>domain-number</th>\n",
       "      <th>pca-component_y</th>\n",
       "      <th>domain-description</th>\n",
       "    </tr>\n",
       "  </thead>\n",
       "  <tbody>\n",
       "    <tr>\n",
       "      <th>0</th>\n",
       "      <td>PC0</td>\n",
       "      <td>135</td>\n",
       "      <td>NaN</td>\n",
       "      <td>ATP-synt_ab_Xtn; ATPsynthase alpha/beta subuni...</td>\n",
       "    </tr>\n",
       "    <tr>\n",
       "      <th>1</th>\n",
       "      <td>PC1</td>\n",
       "      <td>50</td>\n",
       "      <td>NaN</td>\n",
       "      <td>ACT_7; GATS-like  ACT domain</td>\n",
       "    </tr>\n",
       "    <tr>\n",
       "      <th>2</th>\n",
       "      <td>PC2</td>\n",
       "      <td>221</td>\n",
       "      <td>NaN</td>\n",
       "      <td>Apq12; Nuclear pore assembly and biogenesis pr...</td>\n",
       "    </tr>\n",
       "    <tr>\n",
       "      <th>3</th>\n",
       "      <td>PC3</td>\n",
       "      <td>989</td>\n",
       "      <td>NaN</td>\n",
       "      <td>GLE1; GLE1-like</td>\n",
       "    </tr>\n",
       "    <tr>\n",
       "      <th>5</th>\n",
       "      <td>PC5</td>\n",
       "      <td>142</td>\n",
       "      <td>NaN</td>\n",
       "      <td>ATP_synt_H; ATPase, V0 complex, subunit e1/e2</td>\n",
       "    </tr>\n",
       "    <tr>\n",
       "      <th>...</th>\n",
       "      <td>...</td>\n",
       "      <td>...</td>\n",
       "      <td>...</td>\n",
       "      <td>...</td>\n",
       "    </tr>\n",
       "    <tr>\n",
       "      <th>289</th>\n",
       "      <td>PC276</td>\n",
       "      <td>39</td>\n",
       "      <td>NaN</td>\n",
       "      <td>ABC_membrane; ABC transporter type 1, transmem...</td>\n",
       "    </tr>\n",
       "    <tr>\n",
       "      <th>290</th>\n",
       "      <td>PC277</td>\n",
       "      <td>1941</td>\n",
       "      <td>NaN</td>\n",
       "      <td>Pribosyltran_N; Ribose-phosphate pyrophosphoki...</td>\n",
       "    </tr>\n",
       "    <tr>\n",
       "      <th>291</th>\n",
       "      <td>PC278</td>\n",
       "      <td>1114</td>\n",
       "      <td>NaN</td>\n",
       "      <td>HHH_5</td>\n",
       "    </tr>\n",
       "    <tr>\n",
       "      <th>292</th>\n",
       "      <td>PC279</td>\n",
       "      <td>622</td>\n",
       "      <td>NaN</td>\n",
       "      <td>DNA_topoisoIV; DNA topoisomerase, type IIA, su...</td>\n",
       "    </tr>\n",
       "    <tr>\n",
       "      <th>293</th>\n",
       "      <td>PC280</td>\n",
       "      <td>302</td>\n",
       "      <td>NaN</td>\n",
       "      <td>Brix; Brix domain</td>\n",
       "    </tr>\n",
       "  </tbody>\n",
       "</table>\n",
       "<p>234 rows × 4 columns</p>\n",
       "</div>"
      ],
      "text/plain": [
       "    pca-component_x  domain-number pca-component_y  \\\n",
       "0               PC0            135             NaN   \n",
       "1               PC1             50             NaN   \n",
       "2               PC2            221             NaN   \n",
       "3               PC3            989             NaN   \n",
       "5               PC5            142             NaN   \n",
       "..              ...            ...             ...   \n",
       "289           PC276             39             NaN   \n",
       "290           PC277           1941             NaN   \n",
       "291           PC278           1114             NaN   \n",
       "292           PC279            622             NaN   \n",
       "293           PC280            302             NaN   \n",
       "\n",
       "                                    domain-description  \n",
       "0    ATP-synt_ab_Xtn; ATPsynthase alpha/beta subuni...  \n",
       "1                         ACT_7; GATS-like  ACT domain  \n",
       "2    Apq12; Nuclear pore assembly and biogenesis pr...  \n",
       "3                                      GLE1; GLE1-like  \n",
       "5        ATP_synt_H; ATPase, V0 complex, subunit e1/e2  \n",
       "..                                                 ...  \n",
       "289  ABC_membrane; ABC transporter type 1, transmem...  \n",
       "290  Pribosyltran_N; Ribose-phosphate pyrophosphoki...  \n",
       "291                                              HHH_5  \n",
       "292  DNA_topoisoIV; DNA topoisomerase, type IIA, su...  \n",
       "293                                  Brix; Brix domain  \n",
       "\n",
       "[234 rows x 4 columns]"
      ]
     },
     "execution_count": 24,
     "metadata": {},
     "output_type": "execute_result"
    }
   ],
   "source": [
    "df_sl_exclusive=pd.merge(df_sl,df_nsl,how='left',on='domain-number')\n",
    "\n",
    "domains_name=np.unique(data_domains['domain-name'])\n",
    "domains_description=np.unique(data_domains['domain-descrip'])\n",
    "\n",
    "df_sl_exclusive['domain-description']=domains_description[df_sl_exclusive['domain-number']]\n",
    "df_sl_exclusive[pd.isnull(df_sl_exclusive['pca-component_y'])]"
   ]
  },
  {
   "cell_type": "code",
   "execution_count": 25,
   "metadata": {
    "execution": {
     "iopub.execute_input": "2020-07-14T06:31:10.124603Z",
     "iopub.status.busy": "2020-07-14T06:31:10.123611Z",
     "iopub.status.idle": "2020-07-14T06:31:10.130999Z",
     "shell.execute_reply": "2020-07-14T06:31:10.131720Z"
    }
   },
   "outputs": [
    {
     "name": "stdout",
     "output_type": "stream",
     "text": [
      "The number of exclusive domains from SL pairs, after PCA, is =  294 out of 559 so the 52.59391771019678 %\n"
     ]
    }
   ],
   "source": [
    "print('The number of exclusive domains from SL pairs, after PCA, is = ',len(df_sl_exclusive), 'out of', len(df_sl)+len(df_nsl), 'so the',100*len(df_sl_exclusive)/(len(df_sl)+len(df_nsl)),'%')"
   ]
  },
  {
   "cell_type": "code",
   "execution_count": 26,
   "metadata": {
    "execution": {
     "iopub.execute_input": "2020-07-14T06:31:10.135015Z",
     "iopub.status.busy": "2020-07-14T06:31:10.133849Z",
     "iopub.status.idle": "2020-07-14T06:31:10.165776Z",
     "shell.execute_reply": "2020-07-14T06:31:10.164917Z"
    }
   },
   "outputs": [
    {
     "data": {
      "text/html": [
       "<div>\n",
       "<style scoped>\n",
       "    .dataframe tbody tr th:only-of-type {\n",
       "        vertical-align: middle;\n",
       "    }\n",
       "\n",
       "    .dataframe tbody tr th {\n",
       "        vertical-align: top;\n",
       "    }\n",
       "\n",
       "    .dataframe thead th {\n",
       "        text-align: right;\n",
       "    }\n",
       "</style>\n",
       "<table border=\"1\" class=\"dataframe\">\n",
       "  <thead>\n",
       "    <tr style=\"text-align: right;\">\n",
       "      <th></th>\n",
       "      <th>pca-component_x</th>\n",
       "      <th>domain-number</th>\n",
       "      <th>pca-component_y</th>\n",
       "      <th>domain-description</th>\n",
       "    </tr>\n",
       "  </thead>\n",
       "  <tbody>\n",
       "    <tr>\n",
       "      <th>60</th>\n",
       "      <td>NaN</td>\n",
       "      <td>1028</td>\n",
       "      <td>PC0</td>\n",
       "      <td>GatB_Yqey; Asn/Gln amidotransferase</td>\n",
       "    </tr>\n",
       "    <tr>\n",
       "      <th>61</th>\n",
       "      <td>NaN</td>\n",
       "      <td>1252</td>\n",
       "      <td>PC2</td>\n",
       "      <td>JmjN; JmjN domain</td>\n",
       "    </tr>\n",
       "    <tr>\n",
       "      <th>62</th>\n",
       "      <td>NaN</td>\n",
       "      <td>2610</td>\n",
       "      <td>PC3</td>\n",
       "      <td>TPK_B1_binding; Thiamin pyrophosphokinase, vit...</td>\n",
       "    </tr>\n",
       "    <tr>\n",
       "      <th>63</th>\n",
       "      <td>NaN</td>\n",
       "      <td>2430</td>\n",
       "      <td>PC4</td>\n",
       "      <td>Sdh_cyt; Succinate dehydrogenase/fumarate redu...</td>\n",
       "    </tr>\n",
       "    <tr>\n",
       "      <th>64</th>\n",
       "      <td>NaN</td>\n",
       "      <td>266</td>\n",
       "      <td>PC5</td>\n",
       "      <td>BET; NET domain</td>\n",
       "    </tr>\n",
       "    <tr>\n",
       "      <th>...</th>\n",
       "      <td>...</td>\n",
       "      <td>...</td>\n",
       "      <td>...</td>\n",
       "      <td>...</td>\n",
       "    </tr>\n",
       "    <tr>\n",
       "      <th>286</th>\n",
       "      <td>NaN</td>\n",
       "      <td>380</td>\n",
       "      <td>PC273</td>\n",
       "      <td>COMPASS-Shg1</td>\n",
       "    </tr>\n",
       "    <tr>\n",
       "      <th>287</th>\n",
       "      <td>NaN</td>\n",
       "      <td>1574</td>\n",
       "      <td>PC274</td>\n",
       "      <td>NOB1_Zn_bind; Nin one binding (NOB1) Zn-ribbon...</td>\n",
       "    </tr>\n",
       "    <tr>\n",
       "      <th>288</th>\n",
       "      <td>NaN</td>\n",
       "      <td>2584</td>\n",
       "      <td>PC275</td>\n",
       "      <td>TFIIIC_sub6; Transcription factor TFIIIC, tau5...</td>\n",
       "    </tr>\n",
       "    <tr>\n",
       "      <th>289</th>\n",
       "      <td>NaN</td>\n",
       "      <td>2584</td>\n",
       "      <td>PC276</td>\n",
       "      <td>TFIIIC_sub6; Transcription factor TFIIIC, tau5...</td>\n",
       "    </tr>\n",
       "    <tr>\n",
       "      <th>290</th>\n",
       "      <td>NaN</td>\n",
       "      <td>1236</td>\n",
       "      <td>PC277</td>\n",
       "      <td>Inositol_P; Inositol monophosphatase-like</td>\n",
       "    </tr>\n",
       "  </tbody>\n",
       "</table>\n",
       "<p>231 rows × 4 columns</p>\n",
       "</div>"
      ],
      "text/plain": [
       "    pca-component_x  domain-number pca-component_y  \\\n",
       "60              NaN           1028             PC0   \n",
       "61              NaN           1252             PC2   \n",
       "62              NaN           2610             PC3   \n",
       "63              NaN           2430             PC4   \n",
       "64              NaN            266             PC5   \n",
       "..              ...            ...             ...   \n",
       "286             NaN            380           PC273   \n",
       "287             NaN           1574           PC274   \n",
       "288             NaN           2584           PC275   \n",
       "289             NaN           2584           PC276   \n",
       "290             NaN           1236           PC277   \n",
       "\n",
       "                                    domain-description  \n",
       "60                 GatB_Yqey; Asn/Gln amidotransferase  \n",
       "61                                   JmjN; JmjN domain  \n",
       "62   TPK_B1_binding; Thiamin pyrophosphokinase, vit...  \n",
       "63   Sdh_cyt; Succinate dehydrogenase/fumarate redu...  \n",
       "64                                     BET; NET domain  \n",
       "..                                                 ...  \n",
       "286                                       COMPASS-Shg1  \n",
       "287  NOB1_Zn_bind; Nin one binding (NOB1) Zn-ribbon...  \n",
       "288  TFIIIC_sub6; Transcription factor TFIIIC, tau5...  \n",
       "289  TFIIIC_sub6; Transcription factor TFIIIC, tau5...  \n",
       "290          Inositol_P; Inositol monophosphatase-like  \n",
       "\n",
       "[231 rows x 4 columns]"
      ]
     },
     "execution_count": 26,
     "metadata": {},
     "output_type": "execute_result"
    }
   ],
   "source": [
    "df_nsl_exclusive=pd.merge(df_sl,df_nsl,how='right',on='domain-number')\n",
    "\n",
    "domains_name=np.unique(data_domains['domain-name'])\n",
    "domains_description=np.unique(data_domains['domain-descrip'])\n",
    "\n",
    "df_nsl_exclusive['domain-description']=domains_description[df_nsl_exclusive['domain-number']]\n",
    "df_nsl_exclusive[pd.isnull(df_nsl_exclusive['pca-component_x'])]"
   ]
  },
  {
   "cell_type": "code",
   "execution_count": 27,
   "metadata": {
    "execution": {
     "iopub.execute_input": "2020-07-14T06:31:10.171220Z",
     "iopub.status.busy": "2020-07-14T06:31:10.170730Z",
     "iopub.status.idle": "2020-07-14T06:31:10.174801Z",
     "shell.execute_reply": "2020-07-14T06:31:10.175388Z"
    }
   },
   "outputs": [
    {
     "name": "stdout",
     "output_type": "stream",
     "text": [
      "The number of exclusive domains from non SL pairs, after PCA, is =  291 out of 559 so the 52.05724508050089 %\n"
     ]
    }
   ],
   "source": [
    "print('The number of exclusive domains from non SL pairs, after PCA, is = ',len(df_nsl_exclusive), 'out of', len(df_sl)+len(df_nsl), 'so the',100*len(df_nsl_exclusive)/(len(df_sl)+len(df_nsl)),'%')"
   ]
  },
  {
   "cell_type": "markdown",
   "metadata": {},
   "source": [
    "## Let see to the domains-number that get repeated after the PCA analysis , and selecting the most explanatory feature by its explained variance."
   ]
  },
  {
   "cell_type": "code",
   "execution_count": 28,
   "metadata": {
    "execution": {
     "iopub.execute_input": "2020-07-14T06:31:10.197267Z",
     "iopub.status.busy": "2020-07-14T06:31:10.196608Z",
     "iopub.status.idle": "2020-07-14T06:31:10.200392Z",
     "shell.execute_reply": "2020-07-14T06:31:10.199947Z"
    }
   },
   "outputs": [],
   "source": [
    "duplicated_features_sl=df_sl[df_sl.iloc[:,1].duplicated()]\n",
    "repeated_features_sl=pd.DataFrame()\n",
    "\n",
    "domains_name=np.unique(data_domains['domain-name'])\n",
    "domains_description=np.unique(data_domains['domain-descrip'])\n",
    "\n",
    "repeated_features_sl['domain-name']=domains_name[duplicated_features_sl.iloc[:,1]] \n",
    "repeated_features_sl['domain-description']=domains_description[duplicated_features_sl.iloc[:,1]]\n",
    "\n",
    "duplicated_features_nsl=df_nsl[df_nsl.iloc[:,1].duplicated()]\n",
    "repeated_features_nsl=pd.DataFrame()\n",
    "\n",
    "repeated_features_nsl['domain-name']=domains_name[duplicated_features_nsl.iloc[:,1]] \n",
    "repeated_features_nsl['domain-description']=domains_description[duplicated_features_nsl.iloc[:,1]]"
   ]
  },
  {
   "cell_type": "code",
   "execution_count": 29,
   "metadata": {
    "execution": {
     "iopub.execute_input": "2020-07-14T06:31:10.211491Z",
     "iopub.status.busy": "2020-07-14T06:31:10.210264Z",
     "iopub.status.idle": "2020-07-14T06:31:10.216045Z",
     "shell.execute_reply": "2020-07-14T06:31:10.215612Z"
    }
   },
   "outputs": [
    {
     "name": "stderr",
     "output_type": "stream",
     "text": [
      "/usr/share/miniconda3/envs/wintest/lib/python3.7/site-packages/ipykernel_launcher.py:3: SettingWithCopyWarning: \n",
      "A value is trying to be set on a copy of a slice from a DataFrame.\n",
      "Try using .loc[row_indexer,col_indexer] = value instead\n",
      "\n",
      "See the caveats in the documentation: https://pandas.pydata.org/pandas-docs/stable/user_guide/indexing.html#returning-a-view-versus-a-copy\n",
      "  This is separate from the ipykernel package so we can avoid doing imports until\n"
     ]
    },
    {
     "data": {
      "text/plain": [
       "((43, 4), (294, 4))"
      ]
     },
     "execution_count": 29,
     "metadata": {},
     "output_type": "execute_result"
    }
   ],
   "source": [
    "only_sl_pd=pd.merge(repeated_features_sl,repeated_features_nsl,how='left',on=['domain-name'])\n",
    "data_only_sl = only_sl_pd[pd.isnull(only_sl_pd['domain-description_y'])]\n",
    "data_only_sl['domain-description']=data_only_sl['domain-description_x']\n",
    "data_only_sl.shape,df_sl_exclusive.shape"
   ]
  },
  {
   "cell_type": "code",
   "execution_count": 30,
   "metadata": {
    "execution": {
     "iopub.execute_input": "2020-07-14T06:31:10.234972Z",
     "iopub.status.busy": "2020-07-14T06:31:10.234348Z",
     "iopub.status.idle": "2020-07-14T06:31:10.239745Z",
     "shell.execute_reply": "2020-07-14T06:31:10.239193Z"
    }
   },
   "outputs": [
    {
     "data": {
      "text/html": [
       "<div>\n",
       "<style scoped>\n",
       "    .dataframe tbody tr th:only-of-type {\n",
       "        vertical-align: middle;\n",
       "    }\n",
       "\n",
       "    .dataframe tbody tr th {\n",
       "        vertical-align: top;\n",
       "    }\n",
       "\n",
       "    .dataframe thead th {\n",
       "        text-align: right;\n",
       "    }\n",
       "</style>\n",
       "<table border=\"1\" class=\"dataframe\">\n",
       "  <thead>\n",
       "    <tr style=\"text-align: right;\">\n",
       "      <th></th>\n",
       "      <th>domain-name</th>\n",
       "      <th>domain-description_x</th>\n",
       "      <th>domain-description_y</th>\n",
       "    </tr>\n",
       "  </thead>\n",
       "  <tbody>\n",
       "    <tr>\n",
       "      <th>3</th>\n",
       "      <td>PF00560</td>\n",
       "      <td>NaN</td>\n",
       "      <td>BET; NET domain</td>\n",
       "    </tr>\n",
       "    <tr>\n",
       "      <th>4</th>\n",
       "      <td>PF00350</td>\n",
       "      <td>NaN</td>\n",
       "      <td>Aha1_N; Activator of Hsp90 ATPase, N-terminal</td>\n",
       "    </tr>\n",
       "    <tr>\n",
       "      <th>5</th>\n",
       "      <td>PF02268</td>\n",
       "      <td>NaN</td>\n",
       "      <td>FACT-Spt16_Nlob; FACT complex subunit Spt16, N...</td>\n",
       "    </tr>\n",
       "    <tr>\n",
       "      <th>6</th>\n",
       "      <td>PF05390</td>\n",
       "      <td>NaN</td>\n",
       "      <td>NAD_kinase; NAD kinase</td>\n",
       "    </tr>\n",
       "    <tr>\n",
       "      <th>7</th>\n",
       "      <td>PF13202</td>\n",
       "      <td>NaN</td>\n",
       "      <td>TIP41; TIP41-like protein</td>\n",
       "    </tr>\n",
       "    <tr>\n",
       "      <th>8</th>\n",
       "      <td>PF01909</td>\n",
       "      <td>NaN</td>\n",
       "      <td>Dynein_light; Dynein light chain, type 1/2</td>\n",
       "    </tr>\n",
       "    <tr>\n",
       "      <th>9</th>\n",
       "      <td>PF02765</td>\n",
       "      <td>NaN</td>\n",
       "      <td>Fun_ATP-synt_8; ATP synthase protein 8, fungi</td>\n",
       "    </tr>\n",
       "    <tr>\n",
       "      <th>10</th>\n",
       "      <td>PF11416</td>\n",
       "      <td>NaN</td>\n",
       "      <td>SPO22; Meiosis specific protein Spo22/ZIP4/TEX11</td>\n",
       "    </tr>\n",
       "    <tr>\n",
       "      <th>11</th>\n",
       "      <td>PF11916</td>\n",
       "      <td>NaN</td>\n",
       "      <td>Scramblase</td>\n",
       "    </tr>\n",
       "    <tr>\n",
       "      <th>12</th>\n",
       "      <td>PF00291</td>\n",
       "      <td>NaN</td>\n",
       "      <td>A_deamin; Adenosine deaminase/editase</td>\n",
       "    </tr>\n",
       "    <tr>\n",
       "      <th>13</th>\n",
       "      <td>PF09763</td>\n",
       "      <td>NaN</td>\n",
       "      <td>Ribosomal_L16; Ribosomal protein L10e/L16</td>\n",
       "    </tr>\n",
       "    <tr>\n",
       "      <th>14</th>\n",
       "      <td>PF00439</td>\n",
       "      <td>NaN</td>\n",
       "      <td>Anth_synt_I_N; Anthranilate synthase component...</td>\n",
       "    </tr>\n",
       "    <tr>\n",
       "      <th>15</th>\n",
       "      <td>PF16282</td>\n",
       "      <td>NaN</td>\n",
       "      <td>YjeF_N; YjeF N-terminal domain</td>\n",
       "    </tr>\n",
       "    <tr>\n",
       "      <th>16</th>\n",
       "      <td>PF08324</td>\n",
       "      <td>NaN</td>\n",
       "      <td>Peptidase_S24; Peptidase S24/S26A/S26B/S26C</td>\n",
       "    </tr>\n",
       "    <tr>\n",
       "      <th>17</th>\n",
       "      <td>PF00005</td>\n",
       "      <td>NaN</td>\n",
       "      <td>14-3-3; 14-3-3 domain</td>\n",
       "    </tr>\n",
       "    <tr>\n",
       "      <th>18</th>\n",
       "      <td>PF01833</td>\n",
       "      <td>NaN</td>\n",
       "      <td>Diphthamide_syn; Diphthamide synthesis DPH1/DPH2</td>\n",
       "    </tr>\n",
       "    <tr>\n",
       "      <th>19</th>\n",
       "      <td>PF01833</td>\n",
       "      <td>NaN</td>\n",
       "      <td>Diphthamide_syn; Diphthamide synthesis DPH1/DPH2</td>\n",
       "    </tr>\n",
       "    <tr>\n",
       "      <th>20</th>\n",
       "      <td>PF01585</td>\n",
       "      <td>NaN</td>\n",
       "      <td>DUF2407; Domain of unknown function DUF2407 N-...</td>\n",
       "    </tr>\n",
       "    <tr>\n",
       "      <th>21</th>\n",
       "      <td>PF04096</td>\n",
       "      <td>NaN</td>\n",
       "      <td>Kin17_mid; DNA/RNA-binding protein Kin17, cons...</td>\n",
       "    </tr>\n",
       "    <tr>\n",
       "      <th>22</th>\n",
       "      <td>PF03943</td>\n",
       "      <td>NaN</td>\n",
       "      <td>IGPS; Indole-3-glycerol phosphate synthase</td>\n",
       "    </tr>\n",
       "    <tr>\n",
       "      <th>23</th>\n",
       "      <td>PF07904</td>\n",
       "      <td>NaN</td>\n",
       "      <td>PINIT; PINIT domain</td>\n",
       "    </tr>\n",
       "    <tr>\n",
       "      <th>24</th>\n",
       "      <td>PF00709</td>\n",
       "      <td>NaN</td>\n",
       "      <td>CHCH</td>\n",
       "    </tr>\n",
       "    <tr>\n",
       "      <th>25</th>\n",
       "      <td>PF04857</td>\n",
       "      <td>NaN</td>\n",
       "      <td>Med16; Mediator complex, subunit Med16</td>\n",
       "    </tr>\n",
       "    <tr>\n",
       "      <th>26</th>\n",
       "      <td>PF07064</td>\n",
       "      <td>NaN</td>\n",
       "      <td>PAP_central; Poly(A) polymerase, central domain</td>\n",
       "    </tr>\n",
       "    <tr>\n",
       "      <th>27</th>\n",
       "      <td>PF05719</td>\n",
       "      <td>NaN</td>\n",
       "      <td>NOT2_3_5; NOT2/NOT3/NOT5</td>\n",
       "    </tr>\n",
       "    <tr>\n",
       "      <th>28</th>\n",
       "      <td>PF06870</td>\n",
       "      <td>NaN</td>\n",
       "      <td>PA14; PA14 domain</td>\n",
       "    </tr>\n",
       "    <tr>\n",
       "      <th>29</th>\n",
       "      <td>PF00202</td>\n",
       "      <td>NaN</td>\n",
       "      <td>APG6; Atg6/Beclin</td>\n",
       "    </tr>\n",
       "    <tr>\n",
       "      <th>30</th>\n",
       "      <td>PF00436</td>\n",
       "      <td>NaN</td>\n",
       "      <td>Anoctamin</td>\n",
       "    </tr>\n",
       "    <tr>\n",
       "      <th>31</th>\n",
       "      <td>PF14308</td>\n",
       "      <td>NaN</td>\n",
       "      <td>UBA_e1_thiolCys; Ubiquitin-activating enzyme, ...</td>\n",
       "    </tr>\n",
       "    <tr>\n",
       "      <th>32</th>\n",
       "      <td>PF14308</td>\n",
       "      <td>NaN</td>\n",
       "      <td>UBA_e1_thiolCys; Ubiquitin-activating enzyme, ...</td>\n",
       "    </tr>\n",
       "    <tr>\n",
       "      <th>33</th>\n",
       "      <td>PF04082</td>\n",
       "      <td>NaN</td>\n",
       "      <td>Kei1; Protein of unknown function DUF1753, Golgi</td>\n",
       "    </tr>\n",
       "    <tr>\n",
       "      <th>34</th>\n",
       "      <td>PF02383</td>\n",
       "      <td>NaN</td>\n",
       "      <td>FHA; Forkhead-associated (FHA) domain</td>\n",
       "    </tr>\n",
       "    <tr>\n",
       "      <th>35</th>\n",
       "      <td>PF04112</td>\n",
       "      <td>NaN</td>\n",
       "      <td>L51_S25_CI-B8; Ribosomal protein/NADH dehydrog...</td>\n",
       "    </tr>\n",
       "    <tr>\n",
       "      <th>36</th>\n",
       "      <td>PF02136</td>\n",
       "      <td>NaN</td>\n",
       "      <td>ERO1; Endoplasmic reticulum oxidoreductin 1</td>\n",
       "    </tr>\n",
       "    <tr>\n",
       "      <th>37</th>\n",
       "      <td>PF12894</td>\n",
       "      <td>NaN</td>\n",
       "      <td>TEA; TEA/ATTS domain</td>\n",
       "    </tr>\n",
       "    <tr>\n",
       "      <th>38</th>\n",
       "      <td>PF00137</td>\n",
       "      <td>NaN</td>\n",
       "      <td>AICARFT_IMPCHas; AICARFT/IMPCHase bienzyme</td>\n",
       "    </tr>\n",
       "    <tr>\n",
       "      <th>39</th>\n",
       "      <td>PF01092</td>\n",
       "      <td>NaN</td>\n",
       "      <td>Cnd1; Condensin complex subunit 1, C-terminal</td>\n",
       "    </tr>\n",
       "    <tr>\n",
       "      <th>40</th>\n",
       "      <td>PF00249</td>\n",
       "      <td>NaN</td>\n",
       "      <td>ATP-synt_10; ATPase assembly factor ATP10</td>\n",
       "    </tr>\n",
       "    <tr>\n",
       "      <th>41</th>\n",
       "      <td>PF00999</td>\n",
       "      <td>NaN</td>\n",
       "      <td>Cbp4</td>\n",
       "    </tr>\n",
       "    <tr>\n",
       "      <th>42</th>\n",
       "      <td>PF02731</td>\n",
       "      <td>NaN</td>\n",
       "      <td>FolB; Dihydroneopterin aldolase/epimerase domain</td>\n",
       "    </tr>\n",
       "    <tr>\n",
       "      <th>43</th>\n",
       "      <td>PF02731</td>\n",
       "      <td>NaN</td>\n",
       "      <td>FolB; Dihydroneopterin aldolase/epimerase domain</td>\n",
       "    </tr>\n",
       "    <tr>\n",
       "      <th>44</th>\n",
       "      <td>PF01148</td>\n",
       "      <td>NaN</td>\n",
       "      <td>CorA; Mg2+ transporter protein, CorA-like/Zinc...</td>\n",
       "    </tr>\n",
       "    <tr>\n",
       "      <th>45</th>\n",
       "      <td>PF08238</td>\n",
       "      <td>NaN</td>\n",
       "      <td>Patatin; Patatin-like phospholipase domain</td>\n",
       "    </tr>\n",
       "    <tr>\n",
       "      <th>46</th>\n",
       "      <td>PF03935</td>\n",
       "      <td>NaN</td>\n",
       "      <td>IF-2B; Initiation factor 2B-related</td>\n",
       "    </tr>\n",
       "    <tr>\n",
       "      <th>47</th>\n",
       "      <td>PF02257</td>\n",
       "      <td>NaN</td>\n",
       "      <td>F1F0-ATPsyn_F; ATP synthase, F0 complex, subun...</td>\n",
       "    </tr>\n",
       "    <tr>\n",
       "      <th>48</th>\n",
       "      <td>PF09794</td>\n",
       "      <td>NaN</td>\n",
       "      <td>Ribosomal_L22; Ribosomal protein L22/L17</td>\n",
       "    </tr>\n",
       "    <tr>\n",
       "      <th>49</th>\n",
       "      <td>PF00318</td>\n",
       "      <td>NaN</td>\n",
       "      <td>Aconitase_C; Aconitase A/isopropylmalate dehyd...</td>\n",
       "    </tr>\n",
       "    <tr>\n",
       "      <th>50</th>\n",
       "      <td>PF00929</td>\n",
       "      <td>NaN</td>\n",
       "      <td>CT_A_B; Carboxyltransferase domain, subdomain ...</td>\n",
       "    </tr>\n",
       "    <tr>\n",
       "      <th>51</th>\n",
       "      <td>PF04511</td>\n",
       "      <td>NaN</td>\n",
       "      <td>MIF4G; MIF4G-like, type 3</td>\n",
       "    </tr>\n",
       "    <tr>\n",
       "      <th>52</th>\n",
       "      <td>PF00909</td>\n",
       "      <td>NaN</td>\n",
       "      <td>CTD</td>\n",
       "    </tr>\n",
       "    <tr>\n",
       "      <th>53</th>\n",
       "      <td>PF00432</td>\n",
       "      <td>NaN</td>\n",
       "      <td>Ank_4</td>\n",
       "    </tr>\n",
       "    <tr>\n",
       "      <th>54</th>\n",
       "      <td>PF04101</td>\n",
       "      <td>NaN</td>\n",
       "      <td>Kri1; KRR1 interacting protein 1</td>\n",
       "    </tr>\n",
       "    <tr>\n",
       "      <th>55</th>\n",
       "      <td>PF09510</td>\n",
       "      <td>NaN</td>\n",
       "      <td>Ribonuc_2-5A; KEN domain</td>\n",
       "    </tr>\n",
       "    <tr>\n",
       "      <th>56</th>\n",
       "      <td>PF12998</td>\n",
       "      <td>NaN</td>\n",
       "      <td>TFIIIC_sub6; Transcription factor TFIIIC, tau5...</td>\n",
       "    </tr>\n",
       "  </tbody>\n",
       "</table>\n",
       "</div>"
      ],
      "text/plain": [
       "   domain-name domain-description_x  \\\n",
       "3      PF00560                  NaN   \n",
       "4      PF00350                  NaN   \n",
       "5      PF02268                  NaN   \n",
       "6      PF05390                  NaN   \n",
       "7      PF13202                  NaN   \n",
       "8      PF01909                  NaN   \n",
       "9      PF02765                  NaN   \n",
       "10     PF11416                  NaN   \n",
       "11     PF11916                  NaN   \n",
       "12     PF00291                  NaN   \n",
       "13     PF09763                  NaN   \n",
       "14     PF00439                  NaN   \n",
       "15     PF16282                  NaN   \n",
       "16     PF08324                  NaN   \n",
       "17     PF00005                  NaN   \n",
       "18     PF01833                  NaN   \n",
       "19     PF01833                  NaN   \n",
       "20     PF01585                  NaN   \n",
       "21     PF04096                  NaN   \n",
       "22     PF03943                  NaN   \n",
       "23     PF07904                  NaN   \n",
       "24     PF00709                  NaN   \n",
       "25     PF04857                  NaN   \n",
       "26     PF07064                  NaN   \n",
       "27     PF05719                  NaN   \n",
       "28     PF06870                  NaN   \n",
       "29     PF00202                  NaN   \n",
       "30     PF00436                  NaN   \n",
       "31     PF14308                  NaN   \n",
       "32     PF14308                  NaN   \n",
       "33     PF04082                  NaN   \n",
       "34     PF02383                  NaN   \n",
       "35     PF04112                  NaN   \n",
       "36     PF02136                  NaN   \n",
       "37     PF12894                  NaN   \n",
       "38     PF00137                  NaN   \n",
       "39     PF01092                  NaN   \n",
       "40     PF00249                  NaN   \n",
       "41     PF00999                  NaN   \n",
       "42     PF02731                  NaN   \n",
       "43     PF02731                  NaN   \n",
       "44     PF01148                  NaN   \n",
       "45     PF08238                  NaN   \n",
       "46     PF03935                  NaN   \n",
       "47     PF02257                  NaN   \n",
       "48     PF09794                  NaN   \n",
       "49     PF00318                  NaN   \n",
       "50     PF00929                  NaN   \n",
       "51     PF04511                  NaN   \n",
       "52     PF00909                  NaN   \n",
       "53     PF00432                  NaN   \n",
       "54     PF04101                  NaN   \n",
       "55     PF09510                  NaN   \n",
       "56     PF12998                  NaN   \n",
       "\n",
       "                                 domain-description_y  \n",
       "3                                     BET; NET domain  \n",
       "4       Aha1_N; Activator of Hsp90 ATPase, N-terminal  \n",
       "5   FACT-Spt16_Nlob; FACT complex subunit Spt16, N...  \n",
       "6                              NAD_kinase; NAD kinase  \n",
       "7                           TIP41; TIP41-like protein  \n",
       "8          Dynein_light; Dynein light chain, type 1/2  \n",
       "9       Fun_ATP-synt_8; ATP synthase protein 8, fungi  \n",
       "10   SPO22; Meiosis specific protein Spo22/ZIP4/TEX11  \n",
       "11                                         Scramblase  \n",
       "12              A_deamin; Adenosine deaminase/editase  \n",
       "13          Ribosomal_L16; Ribosomal protein L10e/L16  \n",
       "14  Anth_synt_I_N; Anthranilate synthase component...  \n",
       "15                     YjeF_N; YjeF N-terminal domain  \n",
       "16        Peptidase_S24; Peptidase S24/S26A/S26B/S26C  \n",
       "17                              14-3-3; 14-3-3 domain  \n",
       "18   Diphthamide_syn; Diphthamide synthesis DPH1/DPH2  \n",
       "19   Diphthamide_syn; Diphthamide synthesis DPH1/DPH2  \n",
       "20  DUF2407; Domain of unknown function DUF2407 N-...  \n",
       "21  Kin17_mid; DNA/RNA-binding protein Kin17, cons...  \n",
       "22         IGPS; Indole-3-glycerol phosphate synthase  \n",
       "23                                PINIT; PINIT domain  \n",
       "24                                               CHCH  \n",
       "25             Med16; Mediator complex, subunit Med16  \n",
       "26    PAP_central; Poly(A) polymerase, central domain  \n",
       "27                           NOT2_3_5; NOT2/NOT3/NOT5  \n",
       "28                                  PA14; PA14 domain  \n",
       "29                                  APG6; Atg6/Beclin  \n",
       "30                                          Anoctamin  \n",
       "31  UBA_e1_thiolCys; Ubiquitin-activating enzyme, ...  \n",
       "32  UBA_e1_thiolCys; Ubiquitin-activating enzyme, ...  \n",
       "33   Kei1; Protein of unknown function DUF1753, Golgi  \n",
       "34              FHA; Forkhead-associated (FHA) domain  \n",
       "35  L51_S25_CI-B8; Ribosomal protein/NADH dehydrog...  \n",
       "36        ERO1; Endoplasmic reticulum oxidoreductin 1  \n",
       "37                               TEA; TEA/ATTS domain  \n",
       "38         AICARFT_IMPCHas; AICARFT/IMPCHase bienzyme  \n",
       "39      Cnd1; Condensin complex subunit 1, C-terminal  \n",
       "40          ATP-synt_10; ATPase assembly factor ATP10  \n",
       "41                                               Cbp4  \n",
       "42   FolB; Dihydroneopterin aldolase/epimerase domain  \n",
       "43   FolB; Dihydroneopterin aldolase/epimerase domain  \n",
       "44  CorA; Mg2+ transporter protein, CorA-like/Zinc...  \n",
       "45         Patatin; Patatin-like phospholipase domain  \n",
       "46                IF-2B; Initiation factor 2B-related  \n",
       "47  F1F0-ATPsyn_F; ATP synthase, F0 complex, subun...  \n",
       "48           Ribosomal_L22; Ribosomal protein L22/L17  \n",
       "49  Aconitase_C; Aconitase A/isopropylmalate dehyd...  \n",
       "50  CT_A_B; Carboxyltransferase domain, subdomain ...  \n",
       "51                          MIF4G; MIF4G-like, type 3  \n",
       "52                                                CTD  \n",
       "53                                              Ank_4  \n",
       "54                   Kri1; KRR1 interacting protein 1  \n",
       "55                           Ribonuc_2-5A; KEN domain  \n",
       "56  TFIIIC_sub6; Transcription factor TFIIIC, tau5...  "
      ]
     },
     "execution_count": 30,
     "metadata": {},
     "output_type": "execute_result"
    }
   ],
   "source": [
    "only_nsl_pd=pd.merge(repeated_features_sl,repeated_features_nsl,how='right',on=['domain-name'])\n",
    "data_only_nsl = only_nsl_pd[pd.isnull(only_nsl_pd['domain-description_x'])]\n",
    "data_only_nsl"
   ]
  },
  {
   "cell_type": "code",
   "execution_count": 31,
   "metadata": {
    "execution": {
     "iopub.execute_input": "2020-07-14T06:31:10.248439Z",
     "iopub.status.busy": "2020-07-14T06:31:10.244244Z",
     "iopub.status.idle": "2020-07-14T06:31:10.254953Z",
     "shell.execute_reply": "2020-07-14T06:31:10.254532Z"
    }
   },
   "outputs": [
    {
     "data": {
      "text/html": [
       "<div>\n",
       "<style scoped>\n",
       "    .dataframe tbody tr th:only-of-type {\n",
       "        vertical-align: middle;\n",
       "    }\n",
       "\n",
       "    .dataframe tbody tr th {\n",
       "        vertical-align: top;\n",
       "    }\n",
       "\n",
       "    .dataframe thead th {\n",
       "        text-align: right;\n",
       "    }\n",
       "</style>\n",
       "<table border=\"1\" class=\"dataframe\">\n",
       "  <thead>\n",
       "    <tr style=\"text-align: right;\">\n",
       "      <th></th>\n",
       "      <th>domain-name</th>\n",
       "      <th>domain-description_x</th>\n",
       "      <th>domain-description_y</th>\n",
       "    </tr>\n",
       "  </thead>\n",
       "  <tbody>\n",
       "    <tr>\n",
       "      <th>0</th>\n",
       "      <td>PF13867</td>\n",
       "      <td>Trehalose_PPase; Trehalose-phosphatase</td>\n",
       "      <td>Trehalose_PPase; Trehalose-phosphatase</td>\n",
       "    </tr>\n",
       "    <tr>\n",
       "      <th>1</th>\n",
       "      <td>PF03095</td>\n",
       "      <td>Glucosamine_iso; Glucosamine/galactosamine-6-p...</td>\n",
       "      <td>Glucosamine_iso; Glucosamine/galactosamine-6-p...</td>\n",
       "    </tr>\n",
       "    <tr>\n",
       "      <th>2</th>\n",
       "      <td>PF04818</td>\n",
       "      <td>MatE; Multi antimicrobial extrusion protein</td>\n",
       "      <td>MatE; Multi antimicrobial extrusion protein</td>\n",
       "    </tr>\n",
       "  </tbody>\n",
       "</table>\n",
       "</div>"
      ],
      "text/plain": [
       "  domain-name                               domain-description_x  \\\n",
       "0     PF13867             Trehalose_PPase; Trehalose-phosphatase   \n",
       "1     PF03095  Glucosamine_iso; Glucosamine/galactosamine-6-p...   \n",
       "2     PF04818        MatE; Multi antimicrobial extrusion protein   \n",
       "\n",
       "                                domain-description_y  \n",
       "0             Trehalose_PPase; Trehalose-phosphatase  \n",
       "1  Glucosamine_iso; Glucosamine/galactosamine-6-p...  \n",
       "2        MatE; Multi antimicrobial extrusion protein  "
      ]
     },
     "execution_count": 31,
     "metadata": {},
     "output_type": "execute_result"
    }
   ],
   "source": [
    "shared_domains_pd=pd.merge(repeated_features_sl,repeated_features_nsl,how='inner',on=['domain-name'])\n",
    "shared_domains_pd\n"
   ]
  },
  {
   "cell_type": "code",
   "execution_count": 32,
   "metadata": {
    "execution": {
     "iopub.execute_input": "2020-07-14T06:31:10.292982Z",
     "iopub.status.busy": "2020-07-14T06:31:10.287714Z",
     "iopub.status.idle": "2020-07-14T06:31:11.998820Z",
     "shell.execute_reply": "2020-07-14T06:31:11.999520Z"
    }
   },
   "outputs": [
    {
     "data": {
      "text/plain": [
       "(0.0, 0.2)"
      ]
     },
     "execution_count": 32,
     "metadata": {},
     "output_type": "execute_result"
    },
    {
     "data": {
      "image/png": "[encoded data removed]",
      "text/plain": [
       "<Figure size 432x288 with 1 Axes>"
      ]
     },
     "metadata": {
      "filenames": {
       "image/png": "/home/runner/work/jupyter-book/jupyter-book/mini_book/docs/_build/jupyter_execute/prot_domains2lethality-FEATURES-POSTPROCESSING_47_1.png"
      },
      "needs_background": "light"
     },
     "output_type": "display_data"
    }
   ],
   "source": [
    "a_sl=x_sl.iloc[:,np.sort(df_sl.iloc[:,1])]\n",
    "a_sl.describe().loc['mean'].hist(bins=8),\n",
    "a_sl.describe().loc['std'].hist(bins=8,alpha=0.4)\n",
    "plt.xlim([0,0.2])"
   ]
  },
  {
   "cell_type": "code",
   "execution_count": 33,
   "metadata": {
    "execution": {
     "iopub.execute_input": "2020-07-14T06:31:12.018473Z",
     "iopub.status.busy": "2020-07-14T06:31:12.012597Z",
     "iopub.status.idle": "2020-07-14T06:31:13.794322Z",
     "shell.execute_reply": "2020-07-14T06:31:13.793828Z"
    }
   },
   "outputs": [
    {
     "data": {
      "text/plain": [
       "(0.0, 0.2)"
      ]
     },
     "execution_count": 33,
     "metadata": {},
     "output_type": "execute_result"
    },
    {
     "data": {
      "image/png": "[encoded data removed]",
      "text/plain": [
       "<Figure size 432x288 with 1 Axes>"
      ]
     },
     "metadata": {
      "filenames": {
       "image/png": "/home/runner/work/jupyter-book/jupyter-book/mini_book/docs/_build/jupyter_execute/prot_domains2lethality-FEATURES-POSTPROCESSING_48_1.png"
      },
      "needs_background": "light"
     },
     "output_type": "display_data"
    }
   ],
   "source": [
    "a_nsl=x_nsl.iloc[:,np.sort(df_nsl.iloc[:,1])]\n",
    "a_nsl.describe().loc['mean'].hist(bins=8),\n",
    "a_nsl.describe().loc['std'].hist(bins=8,alpha=0.4)\n",
    "plt.xlim([0,0.2])"
   ]
  },
  {
   "cell_type": "markdown",
   "metadata": {},
   "source": [
    "### Proof of concept with *BEM1*\n",
    "\n",
    "- Gather the domains of SL and nSL pairs from BEM1\n",
    "- Check if the domains for the SL and nSL pairs are inside the most important domains after PCA."
   ]
  },
  {
   "cell_type": "code",
   "execution_count": 34,
   "metadata": {
    "execution": {
     "iopub.execute_input": "2020-07-14T06:31:13.805916Z",
     "iopub.status.busy": "2020-07-14T06:31:13.805417Z",
     "iopub.status.idle": "2020-07-14T06:31:13.810753Z",
     "shell.execute_reply": "2020-07-14T06:31:13.811284Z"
    }
   },
   "outputs": [],
   "source": [
    "domains_bem1=data_domains[data_domains['name']=='BEM1']['domain-descrip']\n",
    "sl_bem1=data_sl[data_sl['gene-query-name']=='BEM1']['gene-target-name']"
   ]
  },
  {
   "cell_type": "code",
   "execution_count": 35,
   "metadata": {
    "execution": {
     "iopub.execute_input": "2020-07-14T06:31:13.816230Z",
     "iopub.status.busy": "2020-07-14T06:31:13.815448Z",
     "iopub.status.idle": "2020-07-14T06:31:13.821603Z",
     "shell.execute_reply": "2020-07-14T06:31:13.820800Z"
    }
   },
   "outputs": [
    {
     "data": {
      "text/plain": [
       "2846      BEM2\n",
       "2847     CDC24\n",
       "5004      MSB1\n",
       "13777     SMI1\n",
       "13778     BNI1\n",
       "13779     BEM2\n",
       "14385     SKN7\n",
       "Name: gene-target-name, dtype: object"
      ]
     },
     "execution_count": 35,
     "metadata": {},
     "output_type": "execute_result"
    }
   ],
   "source": [
    "sl_bem1"
   ]
  },
  {
   "cell_type": "code",
   "execution_count": 36,
   "metadata": {
    "execution": {
     "iopub.execute_input": "2020-07-14T06:31:13.835505Z",
     "iopub.status.busy": "2020-07-14T06:31:13.830429Z",
     "iopub.status.idle": "2020-07-14T06:31:13.840359Z",
     "shell.execute_reply": "2020-07-14T06:31:13.839926Z"
    }
   },
   "outputs": [
    {
     "data": {
      "text/html": [
       "<div>\n",
       "<style scoped>\n",
       "    .dataframe tbody tr th:only-of-type {\n",
       "        vertical-align: middle;\n",
       "    }\n",
       "\n",
       "    .dataframe tbody tr th {\n",
       "        vertical-align: top;\n",
       "    }\n",
       "\n",
       "    .dataframe thead th {\n",
       "        text-align: right;\n",
       "    }\n",
       "</style>\n",
       "<table border=\"1\" class=\"dataframe\">\n",
       "  <thead>\n",
       "    <tr style=\"text-align: right;\">\n",
       "      <th></th>\n",
       "      <th>gene-query</th>\n",
       "      <th>gene-target</th>\n",
       "      <th>gene-query-name</th>\n",
       "      <th>gene-target-name</th>\n",
       "      <th>gene-query-description</th>\n",
       "      <th>gene-target-description</th>\n",
       "      <th>interaction-type</th>\n",
       "      <th>paper-source</th>\n",
       "    </tr>\n",
       "  </thead>\n",
       "  <tbody>\n",
       "    <tr>\n",
       "      <th>2846</th>\n",
       "      <td>YBR200W</td>\n",
       "      <td>YER155C</td>\n",
       "      <td>BEM1</td>\n",
       "      <td>BEM2</td>\n",
       "      <td>SRO1|phosphatidylinositol-3-phosphate-binding ...</td>\n",
       "      <td>IPL2|SUP9|TSL1|L000000168</td>\n",
       "      <td>Synthetic Lethality</td>\n",
       "      <td>Peterson J (1994)</td>\n",
       "    </tr>\n",
       "    <tr>\n",
       "      <th>2847</th>\n",
       "      <td>YBR200W</td>\n",
       "      <td>YAL041W</td>\n",
       "      <td>BEM1</td>\n",
       "      <td>CDC24</td>\n",
       "      <td>SRO1|phosphatidylinositol-3-phosphate-binding ...</td>\n",
       "      <td>CLS4|Rho family guanine nucleotide exchange fa...</td>\n",
       "      <td>Synthetic Lethality</td>\n",
       "      <td>Peterson J (1994)</td>\n",
       "    </tr>\n",
       "    <tr>\n",
       "      <th>5004</th>\n",
       "      <td>YBR200W</td>\n",
       "      <td>YOR188W</td>\n",
       "      <td>BEM1</td>\n",
       "      <td>MSB1</td>\n",
       "      <td>SRO1|phosphatidylinositol-3-phosphate-binding ...</td>\n",
       "      <td>L000001184</td>\n",
       "      <td>Synthetic Lethality</td>\n",
       "      <td>Bender A (1991)</td>\n",
       "    </tr>\n",
       "    <tr>\n",
       "      <th>13777</th>\n",
       "      <td>YBR200W</td>\n",
       "      <td>YGR229C</td>\n",
       "      <td>BEM1</td>\n",
       "      <td>SMI1</td>\n",
       "      <td>SRO1|phosphatidylinositol-3-phosphate-binding ...</td>\n",
       "      <td>KNR4|L000000909</td>\n",
       "      <td>Synthetic Lethality</td>\n",
       "      <td>Gorelik M (2011)</td>\n",
       "    </tr>\n",
       "    <tr>\n",
       "      <th>13778</th>\n",
       "      <td>YBR200W</td>\n",
       "      <td>YNL271C</td>\n",
       "      <td>BEM1</td>\n",
       "      <td>BNI1</td>\n",
       "      <td>SRO1|phosphatidylinositol-3-phosphate-binding ...</td>\n",
       "      <td>PPF3|SHE5|formin BNI1|L000000190</td>\n",
       "      <td>Synthetic Lethality</td>\n",
       "      <td>Gorelik M (2011)</td>\n",
       "    </tr>\n",
       "    <tr>\n",
       "      <th>13779</th>\n",
       "      <td>YBR200W</td>\n",
       "      <td>YER155C</td>\n",
       "      <td>BEM1</td>\n",
       "      <td>BEM2</td>\n",
       "      <td>SRO1|phosphatidylinositol-3-phosphate-binding ...</td>\n",
       "      <td>IPL2|SUP9|TSL1|L000000168</td>\n",
       "      <td>Synthetic Lethality</td>\n",
       "      <td>Gorelik M (2011)</td>\n",
       "    </tr>\n",
       "    <tr>\n",
       "      <th>14385</th>\n",
       "      <td>YBR200W</td>\n",
       "      <td>YHR206W</td>\n",
       "      <td>BEM1</td>\n",
       "      <td>SKN7</td>\n",
       "      <td>SRO1|phosphatidylinositol-3-phosphate-binding ...</td>\n",
       "      <td>BRY1|POS9|kinase-regulated stress-responsive t...</td>\n",
       "      <td>Dosage Lethality</td>\n",
       "      <td>Bouquin N (1999)</td>\n",
       "    </tr>\n",
       "  </tbody>\n",
       "</table>\n",
       "</div>"
      ],
      "text/plain": [
       "      gene-query gene-target gene-query-name gene-target-name  \\\n",
       "2846     YBR200W     YER155C            BEM1             BEM2   \n",
       "2847     YBR200W     YAL041W            BEM1            CDC24   \n",
       "5004     YBR200W     YOR188W            BEM1             MSB1   \n",
       "13777    YBR200W     YGR229C            BEM1             SMI1   \n",
       "13778    YBR200W     YNL271C            BEM1             BNI1   \n",
       "13779    YBR200W     YER155C            BEM1             BEM2   \n",
       "14385    YBR200W     YHR206W            BEM1             SKN7   \n",
       "\n",
       "                                  gene-query-description  \\\n",
       "2846   SRO1|phosphatidylinositol-3-phosphate-binding ...   \n",
       "2847   SRO1|phosphatidylinositol-3-phosphate-binding ...   \n",
       "5004   SRO1|phosphatidylinositol-3-phosphate-binding ...   \n",
       "13777  SRO1|phosphatidylinositol-3-phosphate-binding ...   \n",
       "13778  SRO1|phosphatidylinositol-3-phosphate-binding ...   \n",
       "13779  SRO1|phosphatidylinositol-3-phosphate-binding ...   \n",
       "14385  SRO1|phosphatidylinositol-3-phosphate-binding ...   \n",
       "\n",
       "                                 gene-target-description     interaction-type  \\\n",
       "2846                           IPL2|SUP9|TSL1|L000000168  Synthetic Lethality   \n",
       "2847   CLS4|Rho family guanine nucleotide exchange fa...  Synthetic Lethality   \n",
       "5004                                          L000001184  Synthetic Lethality   \n",
       "13777                                    KNR4|L000000909  Synthetic Lethality   \n",
       "13778                   PPF3|SHE5|formin BNI1|L000000190  Synthetic Lethality   \n",
       "13779                          IPL2|SUP9|TSL1|L000000168  Synthetic Lethality   \n",
       "14385  BRY1|POS9|kinase-regulated stress-responsive t...     Dosage Lethality   \n",
       "\n",
       "            paper-source  \n",
       "2846   Peterson J (1994)  \n",
       "2847   Peterson J (1994)  \n",
       "5004     Bender A (1991)  \n",
       "13777   Gorelik M (2011)  \n",
       "13778   Gorelik M (2011)  \n",
       "13779   Gorelik M (2011)  \n",
       "14385   Bouquin N (1999)  "
      ]
     },
     "execution_count": 36,
     "metadata": {},
     "output_type": "execute_result"
    }
   ],
   "source": [
    "data_sl[data_sl['gene-query-name']=='BEM1']"
   ]
  },
  {
   "cell_type": "code",
   "execution_count": null,
   "metadata": {},
   "outputs": [],
   "source": []
  }
 ],
 "metadata": {
  "jupytext": {
   "text_representation": {
    "extension": ".md",
    "format_name": "myst"
   }
  },
  "kernelspec": {
   "display_name": "Python 3",
   "language": "python",
   "name": "python3"
  },
  "language_info": {
   "codemirror_mode": {
    "name": "ipython",
    "version": 3
   },
   "file_extension": ".py",
   "mimetype": "text/x-python",
   "name": "python",
   "nbconvert_exporter": "python",
   "pygments_lexer": "ipython3",
   "version": "3.7.6"
  },
  "source_map": [
   10,
   18,
   29,
   36,
   57,
   66,
   98,
   101,
   105,
   128,
   131,
   135,
   139,
   145,
   178,
   184,
   188,
   206,
   210,
   218,
   222,
   225,
   229,
   234,
   238,
   244,
   248,
   253,
   257,
   267,
   269,
   273,
   306,
   311,
   313,
   317,
   328,
   330,
   334,
   344,
   348,
   358,
   360,
   364,
   381,
   388,
   394,
   400,
   407,
   412,
   419,
   424,
   428,
   432
  ]
 },
 "nbformat": 4,
 "nbformat_minor": 4
}