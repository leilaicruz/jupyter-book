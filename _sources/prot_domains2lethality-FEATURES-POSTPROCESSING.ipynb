{
 "cells": [
  {
   "cell_type": "markdown",
   "metadata": {},
   "source": [
    "# Feature postprocessing from paper.\n",
    "- Title:  \"Predicting yeast synthetic lethal genetic interactions using protein domains\"\n",
    "- Authors: Bo Li, Feng Luo,School of Computing,Clemson University,Clemson, SC, USA\n",
    "- e-mail: bol, luofeng@clemson.edu\n",
    "- year:2009"
   ]
  },
  {
   "cell_type": "code",
   "execution_count": 1,
   "metadata": {
    "execution": {
     "iopub.execute_input": "2020-07-23T13:56:09.231323Z",
     "iopub.status.busy": "2020-07-23T13:56:09.230174Z",
     "iopub.status.idle": "2020-07-23T13:56:09.887057Z",
     "shell.execute_reply": "2020-07-23T13:56:09.886200Z"
    }
   },
   "outputs": [],
   "source": [
    "import pandas as pd\n",
    "import numpy as np\n",
    "import matplotlib.pyplot as plt\n",
    "from collections import defaultdict \n",
    "import seaborn as sns\n",
    "import matplotlib.cm as cm\n",
    "import scipy as scipy\n",
    "import random"
   ]
  },
  {
   "cell_type": "markdown",
   "metadata": {
    "jupyter": {
     "source_hidden": true
    }
   },
   "source": [
    "### Importing datasets \n",
    "\n",
    "#### Link to the github repo where the datasets to be downloaded:\n",
    "[DOWNLOAD THE DATASETS HERE](https://github.com/leilaicruz/machine-learning-for-yeast/tree/dev_Leila/datasets-for-learning)"
   ]
  },
  {
   "cell_type": "code",
   "execution_count": 2,
   "metadata": {
    "execution": {
     "iopub.execute_input": "2020-07-23T13:56:09.893410Z",
     "iopub.status.busy": "2020-07-23T13:56:09.892522Z",
     "iopub.status.idle": "2020-07-23T13:56:16.308874Z",
     "shell.execute_reply": "2020-07-23T13:56:16.308394Z"
    }
   },
   "outputs": [],
   "source": [
    "import os\n",
    "script_dir = os.path.dirname('__file__') #<-- absolute dir the script is in\n",
    "rel_path_SL = \"datasets/data-synthetic-lethals.xlsx\"\n",
    "rel_path_nSL=\"datasets/data-positive-genetic.xlsx\"\n",
    "rel_path_domains=\"datasets/proteins-domains-from-Pfam.xlsx\"\n",
    "\n",
    "abs_file_path_SL = os.path.join(script_dir, rel_path_SL)\n",
    "abs_file_path_nSL = os.path.join(script_dir, rel_path_nSL)\n",
    "abs_file_path_domains = os.path.join(script_dir, rel_path_domains)\n",
    "\n",
    "# os.chdir('mini_book/docs/') #<-- for binder os.chdir('../')\n",
    "# os.chdir('../')\n",
    "my_path_sl= abs_file_path_SL\n",
    "my_path_non_sl=abs_file_path_nSL\n",
    "my_path_domains=abs_file_path_domains\n",
    "\n",
    "data_sl=pd.read_excel(my_path_sl,header=0)\n",
    "data_domains=pd.read_excel(my_path_domains,header=0,index_col='Unnamed: 0')\n",
    "data_domains=data_domains.dropna()\n",
    "data_nonsl=pd.read_excel(my_path_non_sl,header=0)"
   ]
  },
  {
   "cell_type": "markdown",
   "metadata": {},
   "source": [
    "## Building the feature matrix\n",
    "One matrix for true SL where each row is one pair of SL. Every raw will be a vector of 0,1 or 2 depending on the comparison with the domain list. For row i the jth element = 0 if the jth element of the domain list is not in neither protein A and B, 1, if it is in one of them and 2 if it is in both of them .\n",
    "\n",
    "### Building the list of proteins domains id per protein pair separately :\n",
    "- List of protein A: Search for the Sl/nSL database the query gene name and look in the protein domain database which protein domains id has each of those queries.\n",
    "- List of protein B: Search for the Sl/nSL database the target gene name of the previous query and look in the protein domain database which protein domains id has each of those target genes."
   ]
  },
  {
   "cell_type": "code",
   "execution_count": 3,
   "metadata": {
    "execution": {
     "iopub.execute_input": "2020-07-23T13:56:16.324211Z",
     "iopub.status.busy": "2020-07-23T13:56:16.323701Z",
     "iopub.status.idle": "2020-07-23T13:56:18.073358Z",
     "shell.execute_reply": "2020-07-23T13:56:18.072839Z"
    }
   },
   "outputs": [],
   "source": [
    "# Selecting the meaningful columns in the respective dataset\n",
    "domain_id_list=data_domains['domain-name']\n",
    "query_gene=data_sl['gene-query-name']\n",
    "target_gene=data_sl['gene-target-name']\n",
    "query_gene_nonlethal=data_nonsl['gene-query-name']\n",
    "target_gene_nonlethal=data_nonsl['gene-target-name']\n",
    "\n",
    "\n",
    "\n",
    "# Initialising the arrays\n",
    "protein_a_list=[]\n",
    "protein_b_list=[]\n",
    "protein_a_list_non=[]\n",
    "protein_b_list_non=[]\n",
    "\n",
    "population = np.arange(0,len(data_sl))\n",
    "\n",
    "# For loop for 10000 pairs sampled randomly from the SL/nSl pair list , and creating a big array of proteind domains id per protein pair\n",
    "\n",
    "for m in random.sample(list(population), 500):\n",
    "    protein_a=data_domains[data_domains['name']==query_gene[m]]\n",
    "    protein_b=data_domains[data_domains['name']==target_gene[m]]\n",
    "    protein_a_list.append(protein_a['domain-name'].tolist())\n",
    "    protein_b_list.append(protein_b['domain-name'].tolist())\n",
    "\n",
    "    protein_a_non=data_domains[data_domains['name']==query_gene_nonlethal[m]]\n",
    "    protein_b_non=data_domains[data_domains['name']==target_gene_nonlethal[m]]\n",
    "    protein_a_list_non.append(protein_a_non['domain-name'].tolist())\n",
    "    protein_b_list_non.append(protein_b_non['domain-name'].tolist())"
   ]
  },
  {
   "cell_type": "code",
   "execution_count": 4,
   "metadata": {
    "execution": {
     "iopub.execute_input": "2020-07-23T13:56:18.078003Z",
     "iopub.status.busy": "2020-07-23T13:56:18.077553Z",
     "iopub.status.idle": "2020-07-23T13:56:18.081435Z",
     "shell.execute_reply": "2020-07-23T13:56:18.081037Z"
    }
   },
   "outputs": [
    {
     "name": "stdout",
     "output_type": "stream",
     "text": [
      "We are going to analyze 500 protein pairs, out of 17871 SL protein pairs\n",
      "We are going to analyze 500 protein pairs, out of 43340 positive protein pairs\n"
     ]
    }
   ],
   "source": [
    "print('We are going to analyze',len((protein_a_list)) ,'protein pairs, out of',len(data_sl),'SL protein pairs')\n",
    "print('We are going to analyze',len((protein_a_list_non)) ,'protein pairs, out of',len(data_nonsl),'positive protein pairs')"
   ]
  },
  {
   "cell_type": "markdown",
   "metadata": {},
   "source": [
    "### Postprocessing #1:  Remove protein pairs from study if either protein in the pair does not contain any domain"
   ]
  },
  {
   "cell_type": "code",
   "execution_count": 5,
   "metadata": {
    "execution": {
     "iopub.execute_input": "2020-07-23T13:56:18.089861Z",
     "iopub.status.busy": "2020-07-23T13:56:18.089377Z",
     "iopub.status.idle": "2020-07-23T13:56:18.092453Z",
     "shell.execute_reply": "2020-07-23T13:56:18.092083Z"
    }
   },
   "outputs": [],
   "source": [
    "def remove_empty_domains(protein_list_search,protein_list_pair):\n",
    "    index=[]\n",
    "    for i in np.arange(0,len(protein_list_search)):\n",
    "        if protein_list_search[i]==[] or protein_list_pair[i]==[]:\n",
    "            index.append(i) ## index of empty values for the protein_a_list meaning they dont have any annotated domain\n",
    "\n",
    "    y=[x for x in np.arange(0,len(protein_list_search)) if x not in index] # a list with non empty values from protein_a list\n",
    "\n",
    "    protein_list_search_new=[]\n",
    "    protein_list_pair_new=[]\n",
    "    for i in y:\n",
    "        protein_list_search_new.append(protein_list_search[i])\n",
    "        protein_list_pair_new.append(protein_list_pair[i])\n",
    "    return protein_list_search_new,protein_list_pair_new\n",
    "\n",
    "## evaluating the function\n",
    "\n",
    "protein_a_list_new,protein_b_list_new=remove_empty_domains(protein_a_list,protein_b_list)\n",
    "\n",
    "protein_a_list_non_new,protein_b_list_non_new=remove_empty_domains(protein_a_list_non,protein_b_list_non)"
   ]
  },
  {
   "cell_type": "code",
   "execution_count": 6,
   "metadata": {
    "execution": {
     "iopub.execute_input": "2020-07-23T13:56:18.097835Z",
     "iopub.status.busy": "2020-07-23T13:56:18.097033Z",
     "iopub.status.idle": "2020-07-23T13:56:18.099606Z",
     "shell.execute_reply": "2020-07-23T13:56:18.099226Z"
    }
   },
   "outputs": [
    {
     "name": "stdout",
     "output_type": "stream",
     "text": [
      "The empty domain in the SL were: 85 out of 500 domains\n",
      "The empty domain in the nSL were: 85 out of 500 domains\n"
     ]
    }
   ],
   "source": [
    "print('The empty domain in the SL were:', len(protein_a_list)-len(protein_a_list_new), 'out of', len(protein_a_list),'domains')\n",
    "print('The empty domain in the nSL were:', len(protein_a_list_non)-len(protein_a_list_non_new), 'out of', len(protein_a_list_non),'domains')"
   ]
  },
  {
   "cell_type": "markdown",
   "metadata": {},
   "source": [
    "### Feature engineering: Select from each ordered indexes of domain id list which of them appear once, in both or in any of the domains of each protein pair"
   ]
  },
  {
   "cell_type": "markdown",
   "metadata": {},
   "source": [
    "#### Define function `get_indexes`"
   ]
  },
  {
   "cell_type": "code",
   "execution_count": 7,
   "metadata": {
    "execution": {
     "iopub.execute_input": "2020-07-23T13:56:18.105871Z",
     "iopub.status.busy": "2020-07-23T13:56:18.105399Z",
     "iopub.status.idle": "2020-07-23T13:56:18.107740Z",
     "shell.execute_reply": "2020-07-23T13:56:18.108089Z"
    }
   },
   "outputs": [
    {
     "data": {
      "text/plain": [
       "[1, 2]"
      ]
     },
     "execution_count": 7,
     "metadata": {},
     "output_type": "execute_result"
    }
   ],
   "source": [
    "get_indexes = lambda x, xs: [i for (y, i) in zip(xs, range(len(xs))) if x == y] # a function that give the index of whether a value appear in array or not\n",
    "a=[1,2,2,4,5,6,7,8,9,10]\n",
    "get_indexes(2,a)"
   ]
  },
  {
   "cell_type": "code",
   "execution_count": 8,
   "metadata": {
    "execution": {
     "iopub.execute_input": "2020-07-23T13:56:18.116202Z",
     "iopub.status.busy": "2020-07-23T13:56:18.115279Z",
     "iopub.status.idle": "2020-07-23T13:56:18.116770Z",
     "shell.execute_reply": "2020-07-23T13:56:18.117160Z"
    }
   },
   "outputs": [],
   "source": [
    "def feature_building(protein_a_list_new,protein_b_list_new):\n",
    "    x = np.unique(domain_id_list)\n",
    "    ## To avoid taking repeated domains from one protein of the pairs , lets reduced the domains of each protein from the pairs to their unique members\n",
    "    protein_a_list_unique=[]\n",
    "    protein_b_list_unique=[]\n",
    "    for i in np.arange(0,len(protein_a_list_new)):\n",
    "        protein_a_list_unique.append(np.unique(protein_a_list_new[i]))\n",
    "        protein_b_list_unique.append(np.unique(protein_b_list_new[i]))\n",
    "        \n",
    "    protein_feat_true=np.zeros(shape=(len(x),len(protein_a_list_unique)))\n",
    "    pair_a_b_array=[]\n",
    "    for i in np.arange(0,len(protein_a_list_unique)):\n",
    "        index_a=[]\n",
    "        \n",
    "        pair=[protein_a_list_unique[i],protein_b_list_unique[i]]\n",
    "        pair_a_b=np.concatenate(pair).ravel()\n",
    "        pair_a_b_array.append(pair_a_b)\n",
    "\n",
    "    j=0\n",
    "    for i in pair_a_b_array:  \n",
    "        array,index,counts=np.unique(i,return_index=True,return_counts=True)\n",
    "        \n",
    "        for k,m in zip(counts,array):\n",
    "            if k ==2:\n",
    "                protein_feat_true[get_indexes(m,x),j]=2\n",
    "                \n",
    "            if k==1:\n",
    "                protein_feat_true[get_indexes(m,x),j]=1\n",
    "        j=j+1\n",
    "    return protein_feat_true"
   ]
  },
  {
   "cell_type": "code",
   "execution_count": 9,
   "metadata": {
    "execution": {
     "iopub.execute_input": "2020-07-23T13:56:18.126877Z",
     "iopub.status.busy": "2020-07-23T13:56:18.126419Z",
     "iopub.status.idle": "2020-07-23T13:56:18.660173Z",
     "shell.execute_reply": "2020-07-23T13:56:18.660586Z"
    }
   },
   "outputs": [],
   "source": [
    "protein_feat_true=feature_building(protein_b_list_new=protein_b_list_new,protein_a_list_new=protein_a_list_new)\n",
    "protein_feat_true_pd=pd.DataFrame(protein_feat_true.T)\n",
    "\n",
    "protein_feat_non_true=feature_building(protein_b_list_new=protein_b_list_non_new,protein_a_list_new=protein_a_list_non_new)\n",
    "protein_feat_non_true_pd=pd.DataFrame(protein_feat_non_true.T)"
   ]
  },
  {
   "cell_type": "markdown",
   "metadata": {},
   "source": [
    "### How many ones and twos are in each dataset"
   ]
  },
  {
   "cell_type": "code",
   "execution_count": 10,
   "metadata": {
    "execution": {
     "iopub.execute_input": "2020-07-23T13:56:18.667383Z",
     "iopub.status.busy": "2020-07-23T13:56:18.666915Z",
     "iopub.status.idle": "2020-07-23T13:56:18.753849Z",
     "shell.execute_reply": "2020-07-23T13:56:18.753430Z"
    }
   },
   "outputs": [
    {
     "name": "stdout",
     "output_type": "stream",
     "text": [
      "fraction of twos in the SL array is 2.2304092402668526e-05\n",
      "fraction of ones in the SL array is 0.0010108533306780842\n",
      "fraction of twos in the PI array is 7.965747286667331e-06\n",
      "fraction of ones in the PI array is 0.0009200438116100766\n"
     ]
    }
   ],
   "source": [
    "index_2_true=protein_feat_true_pd.where(protein_feat_true_pd==2)\n",
    "index_2_true_count=index_2_true.count(axis=1).sum()\n",
    "\n",
    "index_1_true=protein_feat_true_pd.where(protein_feat_true_pd==1)\n",
    "index_1_true_count=index_1_true.count(axis=1).sum()\n",
    "\n",
    "index_2_nontrue=protein_feat_non_true_pd.where(protein_feat_non_true_pd==2)\n",
    "index_2_nontrue_count=index_2_nontrue.count(axis=1).sum()\n",
    "\n",
    "index_1_nontrue=protein_feat_non_true_pd.where(protein_feat_non_true_pd==1)\n",
    "index_1_nontrue_count=index_1_nontrue.count(axis=1).sum()\n",
    "\n",
    "\n",
    "print('fraction of twos in the SL array is',index_2_true_count/(len(protein_feat_true_pd.index)*len(protein_feat_true_pd.columns)))\n",
    "print('fraction of ones in the SL array is',index_1_true_count/(len(protein_feat_true_pd.index)*len(protein_feat_true_pd.columns)))\n",
    "print('fraction of twos in the PI array is',index_2_nontrue_count/(len(protein_feat_non_true_pd.index)*len(protein_feat_non_true_pd.columns)))\n",
    "print('fraction of ones in the PI array is',index_1_nontrue_count/(len(protein_feat_non_true_pd.index)*len(protein_feat_non_true_pd.columns)))"
   ]
  },
  {
   "cell_type": "markdown",
   "metadata": {},
   "source": [
    "#### Bar plot to visualize these numbers"
   ]
  },
  {
   "cell_type": "code",
   "execution_count": 11,
   "metadata": {
    "execution": {
     "iopub.execute_input": "2020-07-23T13:56:18.784796Z",
     "iopub.status.busy": "2020-07-23T13:56:18.780596Z",
     "iopub.status.idle": "2020-07-23T13:56:19.141600Z",
     "shell.execute_reply": "2020-07-23T13:56:19.141135Z"
    }
   },
   "outputs": [
    {
     "data": {
      "text/plain": [
       "([0, 1, 2, 3],\n",
       " [Text(0, 0, ''), Text(0, 0, ''), Text(0, 0, ''), Text(0, 0, '')])"
      ]
     },
     "execution_count": 11,
     "metadata": {},
     "output_type": "execute_result"
    },
    {
     "data": {
      "image/png": "[encoded data removed]",
      "text/plain": [
       "<Figure size 432x288 with 1 Axes>"
      ]
     },
     "metadata": {
      "filenames": {
       "image/png": "/home/runner/work/jupyter-book/jupyter-book/mini_book/docs/_build/jupyter_execute/prot_domains2lethality-FEATURES-POSTPROCESSING_18_1.png"
      },
      "needs_background": "light"
     },
     "output_type": "display_data"
    }
   ],
   "source": [
    "plt.bar(['fraction of 2 in the nSL','fraction of 1 in the nSL'],[index_2_nontrue_count/(len(protein_feat_non_true_pd.index)*len(protein_feat_non_true_pd.columns)),index_1_nontrue_count/(len(protein_feat_non_true_pd.index)*len(protein_feat_non_true_pd.columns))],alpha=0.6,color=['blue','lightblue']), \n",
    "\n",
    "plt.bar(['fraction of 2 in SL ','fraction of 1 in SL'],[index_2_true_count/(len(protein_feat_true_pd.index)*len(protein_feat_true_pd.columns)),index_1_true_count/(len(protein_feat_true_pd.index)*len(protein_feat_true_pd.columns))],alpha=0.6,color=['coral','lightcoral'])\n",
    "\n",
    "plt.ylabel('Fraction from the population')\n",
    "plt.yscale('log')\n",
    "plt.xticks(rotation=40)"
   ]
  },
  {
   "cell_type": "markdown",
   "metadata": {},
   "source": [
    "#### Adding the labels(response variables) to each dataset"
   ]
  },
  {
   "cell_type": "code",
   "execution_count": 12,
   "metadata": {
    "execution": {
     "iopub.execute_input": "2020-07-23T13:56:19.147304Z",
     "iopub.status.busy": "2020-07-23T13:56:19.146017Z",
     "iopub.status.idle": "2020-07-23T13:56:19.149455Z",
     "shell.execute_reply": "2020-07-23T13:56:19.148982Z"
    }
   },
   "outputs": [],
   "source": [
    "protein_feat_true_pd['lethality']=np.ones(shape=(len(protein_a_list_new)))\n",
    "protein_feat_non_true_pd['lethality']=np.zeros(shape=(len(protein_a_list_non_new)))"
   ]
  },
  {
   "cell_type": "markdown",
   "metadata": {},
   "source": [
    "#### Joining both datasets"
   ]
  },
  {
   "cell_type": "code",
   "execution_count": 13,
   "metadata": {
    "execution": {
     "iopub.execute_input": "2020-07-23T13:56:19.153454Z",
     "iopub.status.busy": "2020-07-23T13:56:19.152989Z",
     "iopub.status.idle": "2020-07-23T13:56:19.193119Z",
     "shell.execute_reply": "2020-07-23T13:56:19.192705Z"
    }
   },
   "outputs": [
    {
     "name": "stdout",
     "output_type": "stream",
     "text": [
      "The number of features are: 3026\n",
      "The number of samples are: 830\n"
     ]
    }
   ],
   "source": [
    "feature_post=pd.concat([protein_feat_true_pd,protein_feat_non_true_pd],axis=0)\n",
    "feature_post=feature_post.set_index(np.arange(0,len(protein_a_list_new)+len(protein_a_list_non_new)))\n",
    "print('The number of features are:',feature_post.shape[1])\n",
    "print('The number of samples are:',feature_post.shape[0])"
   ]
  },
  {
   "cell_type": "markdown",
   "metadata": {},
   "source": [
    "### Postprocessing and exploration of the feature matrix of both datasets"
   ]
  },
  {
   "cell_type": "code",
   "execution_count": 14,
   "metadata": {
    "execution": {
     "iopub.execute_input": "2020-07-23T13:56:19.209289Z",
     "iopub.status.busy": "2020-07-23T13:56:19.198837Z",
     "iopub.status.idle": "2020-07-23T13:56:22.554742Z",
     "shell.execute_reply": "2020-07-23T13:56:22.555160Z"
    }
   },
   "outputs": [],
   "source": [
    "mean=feature_post.T.describe().loc['mean']\n",
    "std=feature_post.T.describe().loc['std']\n",
    "lethality=feature_post['lethality']\n",
    "\n",
    "corr_keys=pd.concat([mean,std,lethality],axis=1)"
   ]
  },
  {
   "cell_type": "markdown",
   "metadata": {},
   "source": [
    "### Viz of the stats"
   ]
  },
  {
   "cell_type": "code",
   "execution_count": 15,
   "metadata": {
    "execution": {
     "iopub.execute_input": "2020-07-23T13:56:22.625544Z",
     "iopub.status.busy": "2020-07-23T13:56:22.601423Z",
     "iopub.status.idle": "2020-07-23T13:56:23.719963Z",
     "shell.execute_reply": "2020-07-23T13:56:23.719585Z"
    }
   },
   "outputs": [
    {
     "data": {
      "text/plain": [
       "Text(0.5, 1.08, 'Pairplot to see data dependencies with Lethality')"
      ]
     },
     "execution_count": 15,
     "metadata": {},
     "output_type": "execute_result"
    },
    {
     "data": {
      "image/png": "[encoded data removed]",
      "text/plain": [
       "<Figure size 412x360 with 6 Axes>"
      ]
     },
     "metadata": {
      "filenames": {
       "image/png": "/home/runner/work/jupyter-book/jupyter-book/mini_book/docs/_build/jupyter_execute/prot_domains2lethality-FEATURES-POSTPROCESSING_26_1.png"
      },
      "needs_background": "light"
     },
     "output_type": "display_data"
    }
   ],
   "source": [
    "pair=sns.pairplot(corr_keys,hue='lethality',diag_kind='kde',kind='reg',palette='colorblind')\n",
    "pair.fig.suptitle('Pairplot to see data dependencies with Lethality',y=1.08)"
   ]
  },
  {
   "cell_type": "code",
   "execution_count": 16,
   "metadata": {
    "execution": {
     "iopub.execute_input": "2020-07-23T13:56:23.728967Z",
     "iopub.status.busy": "2020-07-23T13:56:23.723930Z",
     "iopub.status.idle": "2020-07-23T13:56:23.731713Z",
     "shell.execute_reply": "2020-07-23T13:56:23.731339Z"
    }
   },
   "outputs": [],
   "source": [
    "X, y = feature_post.drop(columns=[\"lethality\"]), feature_post[\"lethality\"]"
   ]
  },
  {
   "cell_type": "code",
   "execution_count": 17,
   "metadata": {
    "execution": {
     "iopub.execute_input": "2020-07-23T13:56:23.735700Z",
     "iopub.status.busy": "2020-07-23T13:56:23.735264Z",
     "iopub.status.idle": "2020-07-23T13:56:23.866566Z",
     "shell.execute_reply": "2020-07-23T13:56:23.866118Z"
    }
   },
   "outputs": [],
   "source": [
    "from sklearn.preprocessing import StandardScaler\n",
    "scaler = StandardScaler()\n",
    "x_sl=protein_feat_true_pd.drop(columns=['lethality'])\n",
    "x_nsl=protein_feat_non_true_pd.drop(columns=['lethality'])\n",
    "\n",
    "X_sl_scaled = scaler.fit_transform(x_sl)\n",
    "X_nsl_scaled = scaler.fit_transform(x_nsl)"
   ]
  },
  {
   "cell_type": "code",
   "execution_count": 18,
   "metadata": {
    "execution": {
     "iopub.execute_input": "2020-07-23T13:56:23.870607Z",
     "iopub.status.busy": "2020-07-23T13:56:23.870170Z",
     "iopub.status.idle": "2020-07-23T13:56:23.874626Z",
     "shell.execute_reply": "2020-07-23T13:56:23.874238Z"
    }
   },
   "outputs": [
    {
     "data": {
      "text/plain": [
       "(415, 3025)"
      ]
     },
     "execution_count": 18,
     "metadata": {},
     "output_type": "execute_result"
    }
   ],
   "source": [
    "np.shape(X_sl_scaled)"
   ]
  },
  {
   "cell_type": "markdown",
   "metadata": {},
   "source": [
    "## How redundant are each of the protein domains?"
   ]
  },
  {
   "cell_type": "code",
   "execution_count": 19,
   "metadata": {
    "execution": {
     "iopub.execute_input": "2020-07-23T13:56:23.881066Z",
     "iopub.status.busy": "2020-07-23T13:56:23.880602Z",
     "iopub.status.idle": "2020-07-23T13:56:23.883639Z",
     "shell.execute_reply": "2020-07-23T13:56:23.883063Z"
    }
   },
   "outputs": [],
   "source": [
    "def PCA_component_contribution(scaled_matrix,original_data):\n",
    "    from sklearn.decomposition import PCA\n",
    "\n",
    "    model = PCA(0.95).fit(scaled_matrix)\n",
    "    ## apply dimensionality reduction to X_train\n",
    "    output_pca = model.transform(scaled_matrix)\n",
    "    \n",
    "    total=sum(model.explained_variance_)\n",
    "\n",
    "\n",
    "   \n",
    "    # number of components , that it will be the number of main axes times the number of original components \n",
    "    n_pcs= model.components_.shape[0] # the amount of non redundant protein domains \n",
    "\n",
    "    # get the index of the most important feature on EACH component\n",
    "    # LIST COMPREHENSION HERE\n",
    "    most_important = [np.abs(model.components_[i]).argmax() for i in range(n_pcs)]\n",
    "\n",
    "    initial_feature_names = original_data.columns\n",
    "    # get the names\n",
    "    most_important_names = [initial_feature_names[most_important[i]] for i in range(n_pcs)]\n",
    "    \n",
    "\n",
    "    # LIST COMPREHENSION HERE AGAIN\n",
    "    dic = {'PC{}'.format(i): most_important_names[i] for i in range(n_pcs)}\n",
    "\n",
    "    # build the dataframe\n",
    "    df = pd.DataFrame(dic.items(),columns=['pca-component','domain-number'])\n",
    "\n",
    "    return df,model.components_"
   ]
  },
  {
   "cell_type": "code",
   "execution_count": 20,
   "metadata": {
    "execution": {
     "iopub.execute_input": "2020-07-23T13:56:23.887187Z",
     "iopub.status.busy": "2020-07-23T13:56:23.886379Z",
     "iopub.status.idle": "2020-07-23T13:56:24.411042Z",
     "shell.execute_reply": "2020-07-23T13:56:24.411411Z"
    }
   },
   "outputs": [],
   "source": [
    "df_sl,components_pca_nsl=PCA_component_contribution(X_nsl_scaled,x_nsl)\n",
    "df_nsl,components_pca_sl=PCA_component_contribution(X_sl_scaled,x_sl)"
   ]
  },
  {
   "cell_type": "code",
   "execution_count": 21,
   "metadata": {
    "execution": {
     "iopub.execute_input": "2020-07-23T13:56:24.413590Z",
     "iopub.status.busy": "2020-07-23T13:56:24.413157Z",
     "iopub.status.idle": "2020-07-23T13:56:24.420258Z",
     "shell.execute_reply": "2020-07-23T13:56:24.420756Z"
    }
   },
   "outputs": [
    {
     "data": {
      "text/html": [
       "<div>\n",
       "<style scoped>\n",
       "    .dataframe tbody tr th:only-of-type {\n",
       "        vertical-align: middle;\n",
       "    }\n",
       "\n",
       "    .dataframe tbody tr th {\n",
       "        vertical-align: top;\n",
       "    }\n",
       "\n",
       "    .dataframe thead th {\n",
       "        text-align: right;\n",
       "    }\n",
       "</style>\n",
       "<table border=\"1\" class=\"dataframe\">\n",
       "  <thead>\n",
       "    <tr style=\"text-align: right;\">\n",
       "      <th></th>\n",
       "      <th>pca-component</th>\n",
       "      <th>domain-number</th>\n",
       "    </tr>\n",
       "  </thead>\n",
       "  <tbody>\n",
       "    <tr>\n",
       "      <th>0</th>\n",
       "      <td>PC0</td>\n",
       "      <td>2</td>\n",
       "    </tr>\n",
       "    <tr>\n",
       "      <th>1</th>\n",
       "      <td>PC1</td>\n",
       "      <td>135</td>\n",
       "    </tr>\n",
       "    <tr>\n",
       "      <th>2</th>\n",
       "      <td>PC2</td>\n",
       "      <td>221</td>\n",
       "    </tr>\n",
       "    <tr>\n",
       "      <th>3</th>\n",
       "      <td>PC3</td>\n",
       "      <td>1318</td>\n",
       "    </tr>\n",
       "    <tr>\n",
       "      <th>4</th>\n",
       "      <td>PC4</td>\n",
       "      <td>58</td>\n",
       "    </tr>\n",
       "  </tbody>\n",
       "</table>\n",
       "</div>"
      ],
      "text/plain": [
       "  pca-component  domain-number\n",
       "0           PC0              2\n",
       "1           PC1            135\n",
       "2           PC2            221\n",
       "3           PC3           1318\n",
       "4           PC4             58"
      ]
     },
     "execution_count": 21,
     "metadata": {},
     "output_type": "execute_result"
    }
   ],
   "source": [
    "df_sl.head()"
   ]
  },
  {
   "cell_type": "markdown",
   "metadata": {},
   "source": [
    "## which are the shared domains between nSL and SL pairs , in the PCA reduced samples"
   ]
  },
  {
   "cell_type": "code",
   "execution_count": 22,
   "metadata": {
    "execution": {
     "iopub.execute_input": "2020-07-23T13:56:24.425673Z",
     "iopub.status.busy": "2020-07-23T13:56:24.425236Z",
     "iopub.status.idle": "2020-07-23T13:56:24.446035Z",
     "shell.execute_reply": "2020-07-23T13:56:24.446464Z"
    }
   },
   "outputs": [
    {
     "data": {
      "text/html": [
       "<div>\n",
       "<style scoped>\n",
       "    .dataframe tbody tr th:only-of-type {\n",
       "        vertical-align: middle;\n",
       "    }\n",
       "\n",
       "    .dataframe tbody tr th {\n",
       "        vertical-align: top;\n",
       "    }\n",
       "\n",
       "    .dataframe thead th {\n",
       "        text-align: right;\n",
       "    }\n",
       "</style>\n",
       "<table border=\"1\" class=\"dataframe\">\n",
       "  <thead>\n",
       "    <tr style=\"text-align: right;\">\n",
       "      <th></th>\n",
       "      <th>pca-component_x</th>\n",
       "      <th>domain-number</th>\n",
       "      <th>pca-component_y</th>\n",
       "      <th>domain-description</th>\n",
       "    </tr>\n",
       "  </thead>\n",
       "  <tbody>\n",
       "    <tr>\n",
       "      <th>0</th>\n",
       "      <td>PC0</td>\n",
       "      <td>2</td>\n",
       "      <td>PC8</td>\n",
       "      <td>2-Hacid_dh; D-isomer specific 2-hydroxyacid de...</td>\n",
       "    </tr>\n",
       "    <tr>\n",
       "      <th>1</th>\n",
       "      <td>PC1</td>\n",
       "      <td>135</td>\n",
       "      <td>PC6</td>\n",
       "      <td>ATP-synt_ab_Xtn; ATPsynthase alpha/beta subuni...</td>\n",
       "    </tr>\n",
       "    <tr>\n",
       "      <th>2</th>\n",
       "      <td>PC8</td>\n",
       "      <td>202</td>\n",
       "      <td>PC64</td>\n",
       "      <td>Aminotran_1_2; Aminotransferase, class I/classII</td>\n",
       "    </tr>\n",
       "    <tr>\n",
       "      <th>3</th>\n",
       "      <td>PC8</td>\n",
       "      <td>202</td>\n",
       "      <td>PC67</td>\n",
       "      <td>Aminotran_1_2; Aminotransferase, class I/classII</td>\n",
       "    </tr>\n",
       "    <tr>\n",
       "      <th>4</th>\n",
       "      <td>PC10</td>\n",
       "      <td>219</td>\n",
       "      <td>PC14</td>\n",
       "      <td>Apc15p; Anaphase-promoting complex subunit  15...</td>\n",
       "    </tr>\n",
       "    <tr>\n",
       "      <th>...</th>\n",
       "      <td>...</td>\n",
       "      <td>...</td>\n",
       "      <td>...</td>\n",
       "      <td>...</td>\n",
       "    </tr>\n",
       "    <tr>\n",
       "      <th>67</th>\n",
       "      <td>PC235</td>\n",
       "      <td>2598</td>\n",
       "      <td>PC27</td>\n",
       "      <td>TIM; Triosephosphate isomerase</td>\n",
       "    </tr>\n",
       "    <tr>\n",
       "      <th>68</th>\n",
       "      <td>PC253</td>\n",
       "      <td>86</td>\n",
       "      <td>PC105</td>\n",
       "      <td>ANAPC4; Anaphase-promoting complex subunit 4 l...</td>\n",
       "    </tr>\n",
       "    <tr>\n",
       "      <th>69</th>\n",
       "      <td>PC269</td>\n",
       "      <td>6</td>\n",
       "      <td>PC22</td>\n",
       "      <td>2OG-FeII_Oxy_4</td>\n",
       "    </tr>\n",
       "    <tr>\n",
       "      <th>70</th>\n",
       "      <td>PC273</td>\n",
       "      <td>107</td>\n",
       "      <td>PC148</td>\n",
       "      <td>ATE_N; Arginine-tRNA-protein transferase, N-te...</td>\n",
       "    </tr>\n",
       "    <tr>\n",
       "      <th>71</th>\n",
       "      <td>PC273</td>\n",
       "      <td>107</td>\n",
       "      <td>PC154</td>\n",
       "      <td>ATE_N; Arginine-tRNA-protein transferase, N-te...</td>\n",
       "    </tr>\n",
       "  </tbody>\n",
       "</table>\n",
       "<p>72 rows × 4 columns</p>\n",
       "</div>"
      ],
      "text/plain": [
       "   pca-component_x  domain-number pca-component_y  \\\n",
       "0              PC0              2             PC8   \n",
       "1              PC1            135             PC6   \n",
       "2              PC8            202            PC64   \n",
       "3              PC8            202            PC67   \n",
       "4             PC10            219            PC14   \n",
       "..             ...            ...             ...   \n",
       "67           PC235           2598            PC27   \n",
       "68           PC253             86           PC105   \n",
       "69           PC269              6            PC22   \n",
       "70           PC273            107           PC148   \n",
       "71           PC273            107           PC154   \n",
       "\n",
       "                                   domain-description  \n",
       "0   2-Hacid_dh; D-isomer specific 2-hydroxyacid de...  \n",
       "1   ATP-synt_ab_Xtn; ATPsynthase alpha/beta subuni...  \n",
       "2    Aminotran_1_2; Aminotransferase, class I/classII  \n",
       "3    Aminotran_1_2; Aminotransferase, class I/classII  \n",
       "4   Apc15p; Anaphase-promoting complex subunit  15...  \n",
       "..                                                ...  \n",
       "67                     TIM; Triosephosphate isomerase  \n",
       "68  ANAPC4; Anaphase-promoting complex subunit 4 l...  \n",
       "69                                     2OG-FeII_Oxy_4  \n",
       "70  ATE_N; Arginine-tRNA-protein transferase, N-te...  \n",
       "71  ATE_N; Arginine-tRNA-protein transferase, N-te...  \n",
       "\n",
       "[72 rows x 4 columns]"
      ]
     },
     "execution_count": 22,
     "metadata": {},
     "output_type": "execute_result"
    }
   ],
   "source": [
    "df_shared_domains=pd.merge(df_sl,df_nsl,how='inner',on='domain-number')\n",
    "domains_name=np.unique(data_domains['domain-name'])\n",
    "domains_description=np.unique(data_domains['domain-descrip'])\n",
    "\n",
    "df_shared_domains['domain-description']=domains_description[df_shared_domains['domain-number']]\n",
    "\n",
    "\n",
    "df_shared_domains"
   ]
  },
  {
   "cell_type": "code",
   "execution_count": 23,
   "metadata": {
    "execution": {
     "iopub.execute_input": "2020-07-23T13:56:24.448417Z",
     "iopub.status.busy": "2020-07-23T13:56:24.447997Z",
     "iopub.status.idle": "2020-07-23T13:56:24.452303Z",
     "shell.execute_reply": "2020-07-23T13:56:24.452722Z"
    }
   },
   "outputs": [
    {
     "name": "stdout",
     "output_type": "stream",
     "text": [
      "The number of shared domains between SL and nSL pairs,after PCA, is =  72 out of 557 so the 12.926391382405745 %\n"
     ]
    }
   ],
   "source": [
    "print('The number of shared domains between SL and nSL pairs,after PCA, is = ',len(df_shared_domains), 'out of', len(df_sl)+len(df_nsl), 'so the',100*len(df_shared_domains)/(len(df_sl)+len(df_nsl)),'%')"
   ]
  },
  {
   "cell_type": "markdown",
   "metadata": {},
   "source": [
    "## Domains exclusive to SL"
   ]
  },
  {
   "cell_type": "code",
   "execution_count": 24,
   "metadata": {
    "execution": {
     "iopub.execute_input": "2020-07-23T13:56:24.454702Z",
     "iopub.status.busy": "2020-07-23T13:56:24.454265Z",
     "iopub.status.idle": "2020-07-23T13:56:24.478075Z",
     "shell.execute_reply": "2020-07-23T13:56:24.478507Z"
    }
   },
   "outputs": [
    {
     "data": {
      "text/html": [
       "<div>\n",
       "<style scoped>\n",
       "    .dataframe tbody tr th:only-of-type {\n",
       "        vertical-align: middle;\n",
       "    }\n",
       "\n",
       "    .dataframe tbody tr th {\n",
       "        vertical-align: top;\n",
       "    }\n",
       "\n",
       "    .dataframe thead th {\n",
       "        text-align: right;\n",
       "    }\n",
       "</style>\n",
       "<table border=\"1\" class=\"dataframe\">\n",
       "  <thead>\n",
       "    <tr style=\"text-align: right;\">\n",
       "      <th></th>\n",
       "      <th>pca-component_x</th>\n",
       "      <th>domain-number</th>\n",
       "      <th>pca-component_y</th>\n",
       "      <th>domain-description</th>\n",
       "    </tr>\n",
       "  </thead>\n",
       "  <tbody>\n",
       "    <tr>\n",
       "      <th>2</th>\n",
       "      <td>PC2</td>\n",
       "      <td>221</td>\n",
       "      <td>NaN</td>\n",
       "      <td>Apq12; Nuclear pore assembly and biogenesis pr...</td>\n",
       "    </tr>\n",
       "    <tr>\n",
       "      <th>3</th>\n",
       "      <td>PC3</td>\n",
       "      <td>1318</td>\n",
       "      <td>NaN</td>\n",
       "      <td>Lebercilin; Lebercilin domain</td>\n",
       "    </tr>\n",
       "    <tr>\n",
       "      <th>4</th>\n",
       "      <td>PC4</td>\n",
       "      <td>58</td>\n",
       "      <td>NaN</td>\n",
       "      <td>AEP1; ATPase expression protein 1</td>\n",
       "    </tr>\n",
       "    <tr>\n",
       "      <th>5</th>\n",
       "      <td>PC5</td>\n",
       "      <td>1179</td>\n",
       "      <td>NaN</td>\n",
       "      <td>HlyIII; AdipoR/Haemolysin-III-related</td>\n",
       "    </tr>\n",
       "    <tr>\n",
       "      <th>6</th>\n",
       "      <td>PC6</td>\n",
       "      <td>1055</td>\n",
       "      <td>NaN</td>\n",
       "      <td>Glyco_hydro_63N; Glycosyl hydrolase family 63,...</td>\n",
       "    </tr>\n",
       "    <tr>\n",
       "      <th>...</th>\n",
       "      <td>...</td>\n",
       "      <td>...</td>\n",
       "      <td>...</td>\n",
       "      <td>...</td>\n",
       "    </tr>\n",
       "    <tr>\n",
       "      <th>291</th>\n",
       "      <td>PC275</td>\n",
       "      <td>578</td>\n",
       "      <td>NaN</td>\n",
       "      <td>DFRP_C; ZC3H15/TMA46 family, C-terminal</td>\n",
       "    </tr>\n",
       "    <tr>\n",
       "      <th>292</th>\n",
       "      <td>PC276</td>\n",
       "      <td>1803</td>\n",
       "      <td>NaN</td>\n",
       "      <td>PPP5; PPP domain</td>\n",
       "    </tr>\n",
       "    <tr>\n",
       "      <th>293</th>\n",
       "      <td>PC277</td>\n",
       "      <td>1410</td>\n",
       "      <td>NaN</td>\n",
       "      <td>MTHFR; Methylenetetrahydrofolate reductase</td>\n",
       "    </tr>\n",
       "    <tr>\n",
       "      <th>294</th>\n",
       "      <td>PC278</td>\n",
       "      <td>1347</td>\n",
       "      <td>NaN</td>\n",
       "      <td>MAM33; Mitochondrial glycoprotein</td>\n",
       "    </tr>\n",
       "    <tr>\n",
       "      <th>295</th>\n",
       "      <td>PC279</td>\n",
       "      <td>248</td>\n",
       "      <td>NaN</td>\n",
       "      <td>Avl9; AVL9/DENND6 domain</td>\n",
       "    </tr>\n",
       "  </tbody>\n",
       "</table>\n",
       "<p>224 rows × 4 columns</p>\n",
       "</div>"
      ],
      "text/plain": [
       "    pca-component_x  domain-number pca-component_y  \\\n",
       "2               PC2            221             NaN   \n",
       "3               PC3           1318             NaN   \n",
       "4               PC4             58             NaN   \n",
       "5               PC5           1179             NaN   \n",
       "6               PC6           1055             NaN   \n",
       "..              ...            ...             ...   \n",
       "291           PC275            578             NaN   \n",
       "292           PC276           1803             NaN   \n",
       "293           PC277           1410             NaN   \n",
       "294           PC278           1347             NaN   \n",
       "295           PC279            248             NaN   \n",
       "\n",
       "                                    domain-description  \n",
       "2    Apq12; Nuclear pore assembly and biogenesis pr...  \n",
       "3                        Lebercilin; Lebercilin domain  \n",
       "4                    AEP1; ATPase expression protein 1  \n",
       "5                HlyIII; AdipoR/Haemolysin-III-related  \n",
       "6    Glyco_hydro_63N; Glycosyl hydrolase family 63,...  \n",
       "..                                                 ...  \n",
       "291            DFRP_C; ZC3H15/TMA46 family, C-terminal  \n",
       "292                                   PPP5; PPP domain  \n",
       "293         MTHFR; Methylenetetrahydrofolate reductase  \n",
       "294                  MAM33; Mitochondrial glycoprotein  \n",
       "295                           Avl9; AVL9/DENND6 domain  \n",
       "\n",
       "[224 rows x 4 columns]"
      ]
     },
     "execution_count": 24,
     "metadata": {},
     "output_type": "execute_result"
    }
   ],
   "source": [
    "df_sl_exclusive=pd.merge(df_sl,df_nsl,how='left',on='domain-number')\n",
    "\n",
    "domains_name=np.unique(data_domains['domain-name'])\n",
    "domains_description=np.unique(data_domains['domain-descrip'])\n",
    "\n",
    "df_sl_exclusive['domain-description']=domains_description[df_sl_exclusive['domain-number']]\n",
    "df_sl_exclusive[pd.isnull(df_sl_exclusive['pca-component_y'])]"
   ]
  },
  {
   "cell_type": "code",
   "execution_count": 25,
   "metadata": {
    "execution": {
     "iopub.execute_input": "2020-07-23T13:56:24.480478Z",
     "iopub.status.busy": "2020-07-23T13:56:24.480048Z",
     "iopub.status.idle": "2020-07-23T13:56:24.484339Z",
     "shell.execute_reply": "2020-07-23T13:56:24.484766Z"
    }
   },
   "outputs": [
    {
     "name": "stdout",
     "output_type": "stream",
     "text": [
      "The number of exclusive domains from SL pairs, after PCA, is =  296 out of 557 so the 53.141831238779176 %\n"
     ]
    }
   ],
   "source": [
    "print('The number of exclusive domains from SL pairs, after PCA, is = ',len(df_sl_exclusive), 'out of', len(df_sl)+len(df_nsl), 'so the',100*len(df_sl_exclusive)/(len(df_sl)+len(df_nsl)),'%')"
   ]
  },
  {
   "cell_type": "code",
   "execution_count": 26,
   "metadata": {
    "execution": {
     "iopub.execute_input": "2020-07-23T13:56:24.489730Z",
     "iopub.status.busy": "2020-07-23T13:56:24.489292Z",
     "iopub.status.idle": "2020-07-23T13:56:24.511799Z",
     "shell.execute_reply": "2020-07-23T13:56:24.511420Z"
    }
   },
   "outputs": [
    {
     "data": {
      "text/html": [
       "<div>\n",
       "<style scoped>\n",
       "    .dataframe tbody tr th:only-of-type {\n",
       "        vertical-align: middle;\n",
       "    }\n",
       "\n",
       "    .dataframe tbody tr th {\n",
       "        vertical-align: top;\n",
       "    }\n",
       "\n",
       "    .dataframe thead th {\n",
       "        text-align: right;\n",
       "    }\n",
       "</style>\n",
       "<table border=\"1\" class=\"dataframe\">\n",
       "  <thead>\n",
       "    <tr style=\"text-align: right;\">\n",
       "      <th></th>\n",
       "      <th>pca-component_x</th>\n",
       "      <th>domain-number</th>\n",
       "      <th>pca-component_y</th>\n",
       "      <th>domain-description</th>\n",
       "    </tr>\n",
       "  </thead>\n",
       "  <tbody>\n",
       "    <tr>\n",
       "      <th>72</th>\n",
       "      <td>NaN</td>\n",
       "      <td>1028</td>\n",
       "      <td>PC0</td>\n",
       "      <td>GatB_Yqey; Asn/Gln amidotransferase</td>\n",
       "    </tr>\n",
       "    <tr>\n",
       "      <th>73</th>\n",
       "      <td>NaN</td>\n",
       "      <td>308</td>\n",
       "      <td>PC1</td>\n",
       "      <td>Bul1_N; Bul1, N-terminal</td>\n",
       "    </tr>\n",
       "    <tr>\n",
       "      <th>74</th>\n",
       "      <td>NaN</td>\n",
       "      <td>268</td>\n",
       "      <td>PC2</td>\n",
       "      <td>BHD_3; Rad4 beta-hairpin domain 3</td>\n",
       "    </tr>\n",
       "    <tr>\n",
       "      <th>75</th>\n",
       "      <td>NaN</td>\n",
       "      <td>339</td>\n",
       "      <td>PC3</td>\n",
       "      <td>CDC50; CDC50/LEM3 family</td>\n",
       "    </tr>\n",
       "    <tr>\n",
       "      <th>76</th>\n",
       "      <td>NaN</td>\n",
       "      <td>1252</td>\n",
       "      <td>PC4</td>\n",
       "      <td>JmjN; JmjN domain</td>\n",
       "    </tr>\n",
       "    <tr>\n",
       "      <th>...</th>\n",
       "      <td>...</td>\n",
       "      <td>...</td>\n",
       "      <td>...</td>\n",
       "      <td>...</td>\n",
       "    </tr>\n",
       "    <tr>\n",
       "      <th>275</th>\n",
       "      <td>NaN</td>\n",
       "      <td>2880</td>\n",
       "      <td>PC272</td>\n",
       "      <td>YjeF_N; YjeF N-terminal domain</td>\n",
       "    </tr>\n",
       "    <tr>\n",
       "      <th>276</th>\n",
       "      <td>NaN</td>\n",
       "      <td>2710</td>\n",
       "      <td>PC273</td>\n",
       "      <td>Trypsin_2</td>\n",
       "    </tr>\n",
       "    <tr>\n",
       "      <th>277</th>\n",
       "      <td>NaN</td>\n",
       "      <td>2137</td>\n",
       "      <td>PC274</td>\n",
       "      <td>Rib_5-P_isom_A; Ribose 5-phosphate isomerase, ...</td>\n",
       "    </tr>\n",
       "    <tr>\n",
       "      <th>278</th>\n",
       "      <td>NaN</td>\n",
       "      <td>1048</td>\n",
       "      <td>PC275</td>\n",
       "      <td>Glyco_hydro_31; Glycoside hydrolase family 31</td>\n",
       "    </tr>\n",
       "    <tr>\n",
       "      <th>279</th>\n",
       "      <td>NaN</td>\n",
       "      <td>1681</td>\n",
       "      <td>PC276</td>\n",
       "      <td>OxoGdeHyase_C; Multifunctional 2-oxoglutarate ...</td>\n",
       "    </tr>\n",
       "  </tbody>\n",
       "</table>\n",
       "<p>208 rows × 4 columns</p>\n",
       "</div>"
      ],
      "text/plain": [
       "    pca-component_x  domain-number pca-component_y  \\\n",
       "72              NaN           1028             PC0   \n",
       "73              NaN            308             PC1   \n",
       "74              NaN            268             PC2   \n",
       "75              NaN            339             PC3   \n",
       "76              NaN           1252             PC4   \n",
       "..              ...            ...             ...   \n",
       "275             NaN           2880           PC272   \n",
       "276             NaN           2710           PC273   \n",
       "277             NaN           2137           PC274   \n",
       "278             NaN           1048           PC275   \n",
       "279             NaN           1681           PC276   \n",
       "\n",
       "                                    domain-description  \n",
       "72                 GatB_Yqey; Asn/Gln amidotransferase  \n",
       "73                            Bul1_N; Bul1, N-terminal  \n",
       "74                   BHD_3; Rad4 beta-hairpin domain 3  \n",
       "75                            CDC50; CDC50/LEM3 family  \n",
       "76                                   JmjN; JmjN domain  \n",
       "..                                                 ...  \n",
       "275                     YjeF_N; YjeF N-terminal domain  \n",
       "276                                          Trypsin_2  \n",
       "277  Rib_5-P_isom_A; Ribose 5-phosphate isomerase, ...  \n",
       "278      Glyco_hydro_31; Glycoside hydrolase family 31  \n",
       "279  OxoGdeHyase_C; Multifunctional 2-oxoglutarate ...  \n",
       "\n",
       "[208 rows x 4 columns]"
      ]
     },
     "execution_count": 26,
     "metadata": {},
     "output_type": "execute_result"
    }
   ],
   "source": [
    "df_nsl_exclusive=pd.merge(df_sl,df_nsl,how='right',on='domain-number')\n",
    "\n",
    "domains_name=np.unique(data_domains['domain-name'])\n",
    "domains_description=np.unique(data_domains['domain-descrip'])\n",
    "\n",
    "df_nsl_exclusive['domain-description']=domains_description[df_nsl_exclusive['domain-number']]\n",
    "df_nsl_exclusive[pd.isnull(df_nsl_exclusive['pca-component_x'])]"
   ]
  },
  {
   "cell_type": "code",
   "execution_count": 27,
   "metadata": {
    "execution": {
     "iopub.execute_input": "2020-07-23T13:56:24.516038Z",
     "iopub.status.busy": "2020-07-23T13:56:24.515602Z",
     "iopub.status.idle": "2020-07-23T13:56:24.517725Z",
     "shell.execute_reply": "2020-07-23T13:56:24.518066Z"
    }
   },
   "outputs": [
    {
     "name": "stdout",
     "output_type": "stream",
     "text": [
      "The number of exclusive domains from non SL pairs, after PCA, is =  280 out of 557 so the 50.269299820466784 %\n"
     ]
    }
   ],
   "source": [
    "print('The number of exclusive domains from non SL pairs, after PCA, is = ',len(df_nsl_exclusive), 'out of', len(df_sl)+len(df_nsl), 'so the',100*len(df_nsl_exclusive)/(len(df_sl)+len(df_nsl)),'%')"
   ]
  },
  {
   "cell_type": "markdown",
   "metadata": {},
   "source": [
    "## Let see to the domains-number that get repeated after the PCA analysis , and selecting the most explanatory feature by its explained variance."
   ]
  },
  {
   "cell_type": "code",
   "execution_count": 28,
   "metadata": {
    "execution": {
     "iopub.execute_input": "2020-07-23T13:56:24.536692Z",
     "iopub.status.busy": "2020-07-23T13:56:24.523951Z",
     "iopub.status.idle": "2020-07-23T13:56:24.539500Z",
     "shell.execute_reply": "2020-07-23T13:56:24.539129Z"
    }
   },
   "outputs": [],
   "source": [
    "duplicated_features_sl=df_sl[df_sl.iloc[:,1].duplicated()]\n",
    "repeated_features_sl=pd.DataFrame()\n",
    "\n",
    "domains_name=np.unique(data_domains['domain-name'])\n",
    "domains_description=np.unique(data_domains['domain-descrip'])\n",
    "\n",
    "repeated_features_sl['domain-name']=domains_name[duplicated_features_sl.iloc[:,1]] \n",
    "repeated_features_sl['domain-description']=domains_description[duplicated_features_sl.iloc[:,1]]\n",
    "\n",
    "duplicated_features_nsl=df_nsl[df_nsl.iloc[:,1].duplicated()]\n",
    "repeated_features_nsl=pd.DataFrame()\n",
    "\n",
    "repeated_features_nsl['domain-name']=domains_name[duplicated_features_nsl.iloc[:,1]] \n",
    "repeated_features_nsl['domain-description']=domains_description[duplicated_features_nsl.iloc[:,1]]"
   ]
  },
  {
   "cell_type": "code",
   "execution_count": 29,
   "metadata": {
    "execution": {
     "iopub.execute_input": "2020-07-23T13:56:24.548107Z",
     "iopub.status.busy": "2020-07-23T13:56:24.547664Z",
     "iopub.status.idle": "2020-07-23T13:56:24.552207Z",
     "shell.execute_reply": "2020-07-23T13:56:24.551815Z"
    }
   },
   "outputs": [
    {
     "data": {
      "text/plain": [
       "((40, 4), (296, 4))"
      ]
     },
     "execution_count": 29,
     "metadata": {},
     "output_type": "execute_result"
    }
   ],
   "source": [
    "only_sl_pd=pd.merge(repeated_features_sl,repeated_features_nsl,how='left',on=['domain-name'])\n",
    "data_only_sl = only_sl_pd[pd.isnull(only_sl_pd['domain-description_y'])]\n",
    "data_only_sl['domain-description']=data_only_sl['domain-description_x']\n",
    "data_only_sl.shape,df_sl_exclusive.shape"
   ]
  },
  {
   "cell_type": "code",
   "execution_count": 30,
   "metadata": {
    "execution": {
     "iopub.execute_input": "2020-07-23T13:56:24.567975Z",
     "iopub.status.busy": "2020-07-23T13:56:24.567509Z",
     "iopub.status.idle": "2020-07-23T13:56:24.572285Z",
     "shell.execute_reply": "2020-07-23T13:56:24.572647Z"
    }
   },
   "outputs": [
    {
     "data": {
      "text/html": [
       "<div>\n",
       "<style scoped>\n",
       "    .dataframe tbody tr th:only-of-type {\n",
       "        vertical-align: middle;\n",
       "    }\n",
       "\n",
       "    .dataframe tbody tr th {\n",
       "        vertical-align: top;\n",
       "    }\n",
       "\n",
       "    .dataframe thead th {\n",
       "        text-align: right;\n",
       "    }\n",
       "</style>\n",
       "<table border=\"1\" class=\"dataframe\">\n",
       "  <thead>\n",
       "    <tr style=\"text-align: right;\">\n",
       "      <th></th>\n",
       "      <th>domain-name</th>\n",
       "      <th>domain-description_x</th>\n",
       "      <th>domain-description_y</th>\n",
       "    </tr>\n",
       "  </thead>\n",
       "  <tbody>\n",
       "    <tr>\n",
       "      <th>0</th>\n",
       "      <td>PF02714</td>\n",
       "      <td>NaN</td>\n",
       "      <td>Fmp27_SW; FMP27, SW domain</td>\n",
       "    </tr>\n",
       "    <tr>\n",
       "      <th>1</th>\n",
       "      <td>PF00183</td>\n",
       "      <td>NaN</td>\n",
       "      <td>ANAPC5; Anaphase-promoting complex subunit 5</td>\n",
       "    </tr>\n",
       "    <tr>\n",
       "      <th>2</th>\n",
       "      <td>PF00156</td>\n",
       "      <td>NaN</td>\n",
       "      <td>AIRS_C; AIR synthase-related protein, C-termin...</td>\n",
       "    </tr>\n",
       "    <tr>\n",
       "      <th>3</th>\n",
       "      <td>PF08647</td>\n",
       "      <td>NaN</td>\n",
       "      <td>RNA_pol_L_2; DNA-directed RNA polymerase, RBP1...</td>\n",
       "    </tr>\n",
       "    <tr>\n",
       "      <th>4</th>\n",
       "      <td>PF00408</td>\n",
       "      <td>NaN</td>\n",
       "      <td>Aminotran_1_2; Aminotransferase, class I/classII</td>\n",
       "    </tr>\n",
       "    <tr>\n",
       "      <th>5</th>\n",
       "      <td>PF01603</td>\n",
       "      <td>NaN</td>\n",
       "      <td>DUF2722; Protein of unknown function DUF2722</td>\n",
       "    </tr>\n",
       "    <tr>\n",
       "      <th>6</th>\n",
       "      <td>PF01483</td>\n",
       "      <td>NaN</td>\n",
       "      <td>DUF155; Domain of unknown function DUF155</td>\n",
       "    </tr>\n",
       "    <tr>\n",
       "      <th>7</th>\n",
       "      <td>PF00415</td>\n",
       "      <td>NaN</td>\n",
       "      <td>Ammonium_transp; Ammonium transporter AmtB-lik...</td>\n",
       "    </tr>\n",
       "    <tr>\n",
       "      <th>8</th>\n",
       "      <td>PF06839</td>\n",
       "      <td>NaN</td>\n",
       "      <td>P21-Arc; Actin-related protein 2/3 complex sub...</td>\n",
       "    </tr>\n",
       "    <tr>\n",
       "      <th>9</th>\n",
       "      <td>PF03810</td>\n",
       "      <td>NaN</td>\n",
       "      <td>His_biosynth; Histidine biosynthesis</td>\n",
       "    </tr>\n",
       "    <tr>\n",
       "      <th>10</th>\n",
       "      <td>PF02779</td>\n",
       "      <td>NaN</td>\n",
       "      <td>G6PD_C; Glucose-6-phosphate dehydrogenase, C-t...</td>\n",
       "    </tr>\n",
       "    <tr>\n",
       "      <th>11</th>\n",
       "      <td>PF01269</td>\n",
       "      <td>NaN</td>\n",
       "      <td>DHH; DDH domain</td>\n",
       "    </tr>\n",
       "    <tr>\n",
       "      <th>12</th>\n",
       "      <td>PF02144</td>\n",
       "      <td>NaN</td>\n",
       "      <td>EST1_DNA_bind; DNA/RNA-binding domain, Est1-type</td>\n",
       "    </tr>\n",
       "    <tr>\n",
       "      <th>13</th>\n",
       "      <td>PF00171</td>\n",
       "      <td>NaN</td>\n",
       "      <td>AMPK1_CBM; AMP-activated protein kinase, glyco...</td>\n",
       "    </tr>\n",
       "    <tr>\n",
       "      <th>14</th>\n",
       "      <td>PF09139</td>\n",
       "      <td>NaN</td>\n",
       "      <td>RTP1_C1; RNA polymerase II assembly factor Rtp...</td>\n",
       "    </tr>\n",
       "    <tr>\n",
       "      <th>15</th>\n",
       "      <td>PF08586</td>\n",
       "      <td>NaN</td>\n",
       "      <td>QLQ; Glutamine-Leucine-Glutamine, QLQ</td>\n",
       "    </tr>\n",
       "    <tr>\n",
       "      <th>16</th>\n",
       "      <td>PF08690</td>\n",
       "      <td>NaN</td>\n",
       "      <td>RNA_pol_Rpb2_7; RNA polymerase Rpb2, domain 7</td>\n",
       "    </tr>\n",
       "    <tr>\n",
       "      <th>17</th>\n",
       "      <td>PF03343</td>\n",
       "      <td>NaN</td>\n",
       "      <td>HAD</td>\n",
       "    </tr>\n",
       "    <tr>\n",
       "      <th>18</th>\n",
       "      <td>PF09346</td>\n",
       "      <td>NaN</td>\n",
       "      <td>RasGAP; Ras GTPase-activating protein</td>\n",
       "    </tr>\n",
       "    <tr>\n",
       "      <th>19</th>\n",
       "      <td>PF03907</td>\n",
       "      <td>NaN</td>\n",
       "      <td>IATP; Mitochondrial ATPase inhibitor</td>\n",
       "    </tr>\n",
       "    <tr>\n",
       "      <th>20</th>\n",
       "      <td>PF02291</td>\n",
       "      <td>NaN</td>\n",
       "      <td>FAD_binding_7; Cryptochrome/DNA photolyase, FA...</td>\n",
       "    </tr>\n",
       "    <tr>\n",
       "      <th>21</th>\n",
       "      <td>PF03062</td>\n",
       "      <td>NaN</td>\n",
       "      <td>Gln-synt_N; Glutamine synthetase, beta-Grasp d...</td>\n",
       "    </tr>\n",
       "    <tr>\n",
       "      <th>22</th>\n",
       "      <td>PF12265</td>\n",
       "      <td>NaN</td>\n",
       "      <td>Sfi1_C; Spindle body associated protein, C-ter...</td>\n",
       "    </tr>\n",
       "    <tr>\n",
       "      <th>23</th>\n",
       "      <td>PF01412</td>\n",
       "      <td>NaN</td>\n",
       "      <td>DNA_pol_alpha_N; DNA polymerase alpha catalyti...</td>\n",
       "    </tr>\n",
       "    <tr>\n",
       "      <th>24</th>\n",
       "      <td>PF00225</td>\n",
       "      <td>NaN</td>\n",
       "      <td>ATE_N; Arginine-tRNA-protein transferase, N-te...</td>\n",
       "    </tr>\n",
       "    <tr>\n",
       "      <th>25</th>\n",
       "      <td>PF03114</td>\n",
       "      <td>NaN</td>\n",
       "      <td>Glyco_hydro_18; Glycoside hydrolase family 18,...</td>\n",
       "    </tr>\n",
       "    <tr>\n",
       "      <th>26</th>\n",
       "      <td>PF03271</td>\n",
       "      <td>NaN</td>\n",
       "      <td>Gti1_Pac2; Gti1/Pac2 family</td>\n",
       "    </tr>\n",
       "    <tr>\n",
       "      <th>27</th>\n",
       "      <td>PF16796</td>\n",
       "      <td>NaN</td>\n",
       "      <td>fn3_2; Fibronectin type III domain, fungi</td>\n",
       "    </tr>\n",
       "    <tr>\n",
       "      <th>28</th>\n",
       "      <td>PF09145</td>\n",
       "      <td>NaN</td>\n",
       "      <td>RTP1_C2; RNA polymerase II assembly factor Rtp...</td>\n",
       "    </tr>\n",
       "    <tr>\n",
       "      <th>29</th>\n",
       "      <td>PF09145</td>\n",
       "      <td>NaN</td>\n",
       "      <td>RTP1_C2; RNA polymerase II assembly factor Rtp...</td>\n",
       "    </tr>\n",
       "    <tr>\n",
       "      <th>30</th>\n",
       "      <td>PF05348</td>\n",
       "      <td>NaN</td>\n",
       "      <td>NAD_binding_3; Aspartate/homoserine dehydrogen...</td>\n",
       "    </tr>\n",
       "    <tr>\n",
       "      <th>31</th>\n",
       "      <td>PF05327</td>\n",
       "      <td>NaN</td>\n",
       "      <td>NAC; Nascent polypeptide-associated complex NA...</td>\n",
       "    </tr>\n",
       "    <tr>\n",
       "      <th>32</th>\n",
       "      <td>PF12814</td>\n",
       "      <td>NaN</td>\n",
       "      <td>TAF4; Transcription initiation factor TFIID co...</td>\n",
       "    </tr>\n",
       "    <tr>\n",
       "      <th>33</th>\n",
       "      <td>PF00244</td>\n",
       "      <td>NaN</td>\n",
       "      <td>ATP-grasp; ATP-grasp fold, ATP-dependent carbo...</td>\n",
       "    </tr>\n",
       "    <tr>\n",
       "      <th>34</th>\n",
       "      <td>PF00571</td>\n",
       "      <td>NaN</td>\n",
       "      <td>BP28CT; BP28, C-terminal domain</td>\n",
       "    </tr>\n",
       "    <tr>\n",
       "      <th>35</th>\n",
       "      <td>PF02115</td>\n",
       "      <td>NaN</td>\n",
       "      <td>ERCC4; ERCC4 domain</td>\n",
       "    </tr>\n",
       "    <tr>\n",
       "      <th>36</th>\n",
       "      <td>PF02115</td>\n",
       "      <td>NaN</td>\n",
       "      <td>ERCC4; ERCC4 domain</td>\n",
       "    </tr>\n",
       "    <tr>\n",
       "      <th>37</th>\n",
       "      <td>PF08580</td>\n",
       "      <td>NaN</td>\n",
       "      <td>Pyr_redox_dim; Pyridine nucleotide-disulphide ...</td>\n",
       "    </tr>\n",
       "    <tr>\n",
       "      <th>38</th>\n",
       "      <td>PF05158</td>\n",
       "      <td>NaN</td>\n",
       "      <td>Mlh1_C; DNA mismatch repair protein Mlh1, C-te...</td>\n",
       "    </tr>\n",
       "    <tr>\n",
       "      <th>39</th>\n",
       "      <td>PF05158</td>\n",
       "      <td>NaN</td>\n",
       "      <td>Mlh1_C; DNA mismatch repair protein Mlh1, C-te...</td>\n",
       "    </tr>\n",
       "    <tr>\n",
       "      <th>40</th>\n",
       "      <td>PF09796</td>\n",
       "      <td>NaN</td>\n",
       "      <td>Ribosomal_L23; Ribosomal protein L25/L23</td>\n",
       "    </tr>\n",
       "    <tr>\n",
       "      <th>41</th>\n",
       "      <td>PF10336</td>\n",
       "      <td>NaN</td>\n",
       "      <td>Ribul_P_3_epim; Ribulose-phosphate 3-epimerase...</td>\n",
       "    </tr>\n",
       "    <tr>\n",
       "      <th>42</th>\n",
       "      <td>PF10336</td>\n",
       "      <td>NaN</td>\n",
       "      <td>Ribul_P_3_epim; Ribulose-phosphate 3-epimerase...</td>\n",
       "    </tr>\n",
       "    <tr>\n",
       "      <th>43</th>\n",
       "      <td>PF04699</td>\n",
       "      <td>NaN</td>\n",
       "      <td>MRP-S33; Ribosomal protein S27/S33, mitochondrial</td>\n",
       "    </tr>\n",
       "    <tr>\n",
       "      <th>44</th>\n",
       "      <td>PF11935</td>\n",
       "      <td>NaN</td>\n",
       "      <td>Sds3; Sds3-like</td>\n",
       "    </tr>\n",
       "    <tr>\n",
       "      <th>45</th>\n",
       "      <td>PF04118</td>\n",
       "      <td>NaN</td>\n",
       "      <td>LCM; Methyltransferase Ppm1/Ppm2/Tcmp</td>\n",
       "    </tr>\n",
       "    <tr>\n",
       "      <th>46</th>\n",
       "      <td>PF00416</td>\n",
       "      <td>NaN</td>\n",
       "      <td>Ank; Ankyrin repeat</td>\n",
       "    </tr>\n",
       "    <tr>\n",
       "      <th>47</th>\n",
       "      <td>PF05238</td>\n",
       "      <td>NaN</td>\n",
       "      <td>Myb_Cef; Pre-mRNA splicing factor component Cd...</td>\n",
       "    </tr>\n",
       "    <tr>\n",
       "      <th>48</th>\n",
       "      <td>PF00616</td>\n",
       "      <td>NaN</td>\n",
       "      <td>Bmt2; 25S rRNA (adenine(2142)-N(1))-methyltran...</td>\n",
       "    </tr>\n",
       "    <tr>\n",
       "      <th>49</th>\n",
       "      <td>PF00616</td>\n",
       "      <td>NaN</td>\n",
       "      <td>Bmt2; 25S rRNA (adenine(2142)-N(1))-methyltran...</td>\n",
       "    </tr>\n",
       "  </tbody>\n",
       "</table>\n",
       "</div>"
      ],
      "text/plain": [
       "   domain-name domain-description_x  \\\n",
       "0      PF02714                  NaN   \n",
       "1      PF00183                  NaN   \n",
       "2      PF00156                  NaN   \n",
       "3      PF08647                  NaN   \n",
       "4      PF00408                  NaN   \n",
       "5      PF01603                  NaN   \n",
       "6      PF01483                  NaN   \n",
       "7      PF00415                  NaN   \n",
       "8      PF06839                  NaN   \n",
       "9      PF03810                  NaN   \n",
       "10     PF02779                  NaN   \n",
       "11     PF01269                  NaN   \n",
       "12     PF02144                  NaN   \n",
       "13     PF00171                  NaN   \n",
       "14     PF09139                  NaN   \n",
       "15     PF08586                  NaN   \n",
       "16     PF08690                  NaN   \n",
       "17     PF03343                  NaN   \n",
       "18     PF09346                  NaN   \n",
       "19     PF03907                  NaN   \n",
       "20     PF02291                  NaN   \n",
       "21     PF03062                  NaN   \n",
       "22     PF12265                  NaN   \n",
       "23     PF01412                  NaN   \n",
       "24     PF00225                  NaN   \n",
       "25     PF03114                  NaN   \n",
       "26     PF03271                  NaN   \n",
       "27     PF16796                  NaN   \n",
       "28     PF09145                  NaN   \n",
       "29     PF09145                  NaN   \n",
       "30     PF05348                  NaN   \n",
       "31     PF05327                  NaN   \n",
       "32     PF12814                  NaN   \n",
       "33     PF00244                  NaN   \n",
       "34     PF00571                  NaN   \n",
       "35     PF02115                  NaN   \n",
       "36     PF02115                  NaN   \n",
       "37     PF08580                  NaN   \n",
       "38     PF05158                  NaN   \n",
       "39     PF05158                  NaN   \n",
       "40     PF09796                  NaN   \n",
       "41     PF10336                  NaN   \n",
       "42     PF10336                  NaN   \n",
       "43     PF04699                  NaN   \n",
       "44     PF11935                  NaN   \n",
       "45     PF04118                  NaN   \n",
       "46     PF00416                  NaN   \n",
       "47     PF05238                  NaN   \n",
       "48     PF00616                  NaN   \n",
       "49     PF00616                  NaN   \n",
       "\n",
       "                                 domain-description_y  \n",
       "0                          Fmp27_SW; FMP27, SW domain  \n",
       "1        ANAPC5; Anaphase-promoting complex subunit 5  \n",
       "2   AIRS_C; AIR synthase-related protein, C-termin...  \n",
       "3   RNA_pol_L_2; DNA-directed RNA polymerase, RBP1...  \n",
       "4    Aminotran_1_2; Aminotransferase, class I/classII  \n",
       "5        DUF2722; Protein of unknown function DUF2722  \n",
       "6           DUF155; Domain of unknown function DUF155  \n",
       "7   Ammonium_transp; Ammonium transporter AmtB-lik...  \n",
       "8   P21-Arc; Actin-related protein 2/3 complex sub...  \n",
       "9                His_biosynth; Histidine biosynthesis  \n",
       "10  G6PD_C; Glucose-6-phosphate dehydrogenase, C-t...  \n",
       "11                                    DHH; DDH domain  \n",
       "12   EST1_DNA_bind; DNA/RNA-binding domain, Est1-type  \n",
       "13  AMPK1_CBM; AMP-activated protein kinase, glyco...  \n",
       "14  RTP1_C1; RNA polymerase II assembly factor Rtp...  \n",
       "15              QLQ; Glutamine-Leucine-Glutamine, QLQ  \n",
       "16      RNA_pol_Rpb2_7; RNA polymerase Rpb2, domain 7  \n",
       "17                                                HAD  \n",
       "18              RasGAP; Ras GTPase-activating protein  \n",
       "19               IATP; Mitochondrial ATPase inhibitor  \n",
       "20  FAD_binding_7; Cryptochrome/DNA photolyase, FA...  \n",
       "21  Gln-synt_N; Glutamine synthetase, beta-Grasp d...  \n",
       "22  Sfi1_C; Spindle body associated protein, C-ter...  \n",
       "23  DNA_pol_alpha_N; DNA polymerase alpha catalyti...  \n",
       "24  ATE_N; Arginine-tRNA-protein transferase, N-te...  \n",
       "25  Glyco_hydro_18; Glycoside hydrolase family 18,...  \n",
       "26                        Gti1_Pac2; Gti1/Pac2 family  \n",
       "27          fn3_2; Fibronectin type III domain, fungi  \n",
       "28  RTP1_C2; RNA polymerase II assembly factor Rtp...  \n",
       "29  RTP1_C2; RNA polymerase II assembly factor Rtp...  \n",
       "30  NAD_binding_3; Aspartate/homoserine dehydrogen...  \n",
       "31  NAC; Nascent polypeptide-associated complex NA...  \n",
       "32  TAF4; Transcription initiation factor TFIID co...  \n",
       "33  ATP-grasp; ATP-grasp fold, ATP-dependent carbo...  \n",
       "34                    BP28CT; BP28, C-terminal domain  \n",
       "35                                ERCC4; ERCC4 domain  \n",
       "36                                ERCC4; ERCC4 domain  \n",
       "37  Pyr_redox_dim; Pyridine nucleotide-disulphide ...  \n",
       "38  Mlh1_C; DNA mismatch repair protein Mlh1, C-te...  \n",
       "39  Mlh1_C; DNA mismatch repair protein Mlh1, C-te...  \n",
       "40           Ribosomal_L23; Ribosomal protein L25/L23  \n",
       "41  Ribul_P_3_epim; Ribulose-phosphate 3-epimerase...  \n",
       "42  Ribul_P_3_epim; Ribulose-phosphate 3-epimerase...  \n",
       "43  MRP-S33; Ribosomal protein S27/S33, mitochondrial  \n",
       "44                                    Sds3; Sds3-like  \n",
       "45              LCM; Methyltransferase Ppm1/Ppm2/Tcmp  \n",
       "46                                Ank; Ankyrin repeat  \n",
       "47  Myb_Cef; Pre-mRNA splicing factor component Cd...  \n",
       "48  Bmt2; 25S rRNA (adenine(2142)-N(1))-methyltran...  \n",
       "49  Bmt2; 25S rRNA (adenine(2142)-N(1))-methyltran...  "
      ]
     },
     "execution_count": 30,
     "metadata": {},
     "output_type": "execute_result"
    }
   ],
   "source": [
    "only_nsl_pd=pd.merge(repeated_features_sl,repeated_features_nsl,how='right',on=['domain-name'])\n",
    "data_only_nsl = only_nsl_pd[pd.isnull(only_nsl_pd['domain-description_x'])]\n",
    "data_only_nsl"
   ]
  },
  {
   "cell_type": "code",
   "execution_count": 31,
   "metadata": {
    "execution": {
     "iopub.execute_input": "2020-07-23T13:56:24.580937Z",
     "iopub.status.busy": "2020-07-23T13:56:24.580505Z",
     "iopub.status.idle": "2020-07-23T13:56:24.585154Z",
     "shell.execute_reply": "2020-07-23T13:56:24.584770Z"
    }
   },
   "outputs": [
    {
     "data": {
      "text/html": [
       "<div>\n",
       "<style scoped>\n",
       "    .dataframe tbody tr th:only-of-type {\n",
       "        vertical-align: middle;\n",
       "    }\n",
       "\n",
       "    .dataframe tbody tr th {\n",
       "        vertical-align: top;\n",
       "    }\n",
       "\n",
       "    .dataframe thead th {\n",
       "        text-align: right;\n",
       "    }\n",
       "</style>\n",
       "<table border=\"1\" class=\"dataframe\">\n",
       "  <thead>\n",
       "    <tr style=\"text-align: right;\">\n",
       "      <th></th>\n",
       "      <th>domain-name</th>\n",
       "      <th>domain-description_x</th>\n",
       "      <th>domain-description_y</th>\n",
       "    </tr>\n",
       "  </thead>\n",
       "  <tbody>\n",
       "  </tbody>\n",
       "</table>\n",
       "</div>"
      ],
      "text/plain": [
       "Empty DataFrame\n",
       "Columns: [domain-name, domain-description_x, domain-description_y]\n",
       "Index: []"
      ]
     },
     "execution_count": 31,
     "metadata": {},
     "output_type": "execute_result"
    }
   ],
   "source": [
    "shared_domains_pd=pd.merge(repeated_features_sl,repeated_features_nsl,how='inner',on=['domain-name'])\n",
    "shared_domains_pd\n"
   ]
  },
  {
   "cell_type": "code",
   "execution_count": 32,
   "metadata": {
    "execution": {
     "iopub.execute_input": "2020-07-23T13:56:24.596125Z",
     "iopub.status.busy": "2020-07-23T13:56:24.592373Z",
     "iopub.status.idle": "2020-07-23T13:56:25.765022Z",
     "shell.execute_reply": "2020-07-23T13:56:25.764595Z"
    }
   },
   "outputs": [
    {
     "data": {
      "text/plain": [
       "(0.0, 0.2)"
      ]
     },
     "execution_count": 32,
     "metadata": {},
     "output_type": "execute_result"
    },
    {
     "data": {
      "image/png": "[encoded data removed]",
      "text/plain": [
       "<Figure size 432x288 with 1 Axes>"
      ]
     },
     "metadata": {
      "filenames": {
       "image/png": "/home/runner/work/jupyter-book/jupyter-book/mini_book/docs/_build/jupyter_execute/prot_domains2lethality-FEATURES-POSTPROCESSING_47_1.png"
      },
      "needs_background": "light"
     },
     "output_type": "display_data"
    }
   ],
   "source": [
    "a_sl=x_sl.iloc[:,np.sort(df_sl.iloc[:,1])]\n",
    "a_sl.describe().loc['mean'].hist(bins=8),\n",
    "a_sl.describe().loc['std'].hist(bins=8,alpha=0.4)\n",
    "plt.xlim([0,0.2])"
   ]
  },
  {
   "cell_type": "code",
   "execution_count": 33,
   "metadata": {
    "execution": {
     "iopub.execute_input": "2020-07-23T13:56:25.778074Z",
     "iopub.status.busy": "2020-07-23T13:56:25.776495Z",
     "iopub.status.idle": "2020-07-23T13:56:26.926011Z",
     "shell.execute_reply": "2020-07-23T13:56:26.925555Z"
    }
   },
   "outputs": [
    {
     "data": {
      "text/plain": [
       "(0.0, 0.2)"
      ]
     },
     "execution_count": 33,
     "metadata": {},
     "output_type": "execute_result"
    },
    {
     "data": {
      "image/png": "[encoded data removed]",
      "text/plain": [
       "<Figure size 432x288 with 1 Axes>"
      ]
     },
     "metadata": {
      "filenames": {
       "image/png": "/home/runner/work/jupyter-book/jupyter-book/mini_book/docs/_build/jupyter_execute/prot_domains2lethality-FEATURES-POSTPROCESSING_48_1.png"
      },
      "needs_background": "light"
     },
     "output_type": "display_data"
    }
   ],
   "source": [
    "a_nsl=x_nsl.iloc[:,np.sort(df_nsl.iloc[:,1])]\n",
    "a_nsl.describe().loc['mean'].hist(bins=8),\n",
    "a_nsl.describe().loc['std'].hist(bins=8,alpha=0.4)\n",
    "plt.xlim([0,0.2])"
   ]
  },
  {
   "cell_type": "markdown",
   "metadata": {},
   "source": [
    "### Proof of concept with *BEM1*\n",
    "\n",
    "- Gather the domains of SL and nSL pairs from BEM1\n",
    "- Check if the domains for the SL and nSL pairs are inside the most important domains after PCA."
   ]
  },
  {
   "cell_type": "code",
   "execution_count": 34,
   "metadata": {
    "execution": {
     "iopub.execute_input": "2020-07-23T13:56:26.932671Z",
     "iopub.status.busy": "2020-07-23T13:56:26.932222Z",
     "iopub.status.idle": "2020-07-23T13:56:26.935303Z",
     "shell.execute_reply": "2020-07-23T13:56:26.934919Z"
    }
   },
   "outputs": [],
   "source": [
    "domains_bem1=data_domains[data_domains['name']=='BEM1']['domain-descrip']\n",
    "sl_bem1=data_sl[data_sl['gene-query-name']=='BEM1']['gene-target-name']"
   ]
  },
  {
   "cell_type": "code",
   "execution_count": 35,
   "metadata": {
    "execution": {
     "iopub.execute_input": "2020-07-23T13:56:26.939306Z",
     "iopub.status.busy": "2020-07-23T13:56:26.938871Z",
     "iopub.status.idle": "2020-07-23T13:56:26.942864Z",
     "shell.execute_reply": "2020-07-23T13:56:26.943197Z"
    }
   },
   "outputs": [
    {
     "data": {
      "text/plain": [
       "2846      BEM2\n",
       "2847     CDC24\n",
       "5004      MSB1\n",
       "13777     SMI1\n",
       "13778     BNI1\n",
       "13779     BEM2\n",
       "14385     SKN7\n",
       "Name: gene-target-name, dtype: object"
      ]
     },
     "execution_count": 35,
     "metadata": {},
     "output_type": "execute_result"
    }
   ],
   "source": [
    "sl_bem1"
   ]
  },
  {
   "cell_type": "code",
   "execution_count": 36,
   "metadata": {
    "execution": {
     "iopub.execute_input": "2020-07-23T13:56:26.955341Z",
     "iopub.status.busy": "2020-07-23T13:56:26.954889Z",
     "iopub.status.idle": "2020-07-23T13:56:26.958549Z",
     "shell.execute_reply": "2020-07-23T13:56:26.958909Z"
    }
   },
   "outputs": [
    {
     "data": {
      "text/html": [
       "<div>\n",
       "<style scoped>\n",
       "    .dataframe tbody tr th:only-of-type {\n",
       "        vertical-align: middle;\n",
       "    }\n",
       "\n",
       "    .dataframe tbody tr th {\n",
       "        vertical-align: top;\n",
       "    }\n",
       "\n",
       "    .dataframe thead th {\n",
       "        text-align: right;\n",
       "    }\n",
       "</style>\n",
       "<table border=\"1\" class=\"dataframe\">\n",
       "  <thead>\n",
       "    <tr style=\"text-align: right;\">\n",
       "      <th></th>\n",
       "      <th>gene-query</th>\n",
       "      <th>gene-target</th>\n",
       "      <th>gene-query-name</th>\n",
       "      <th>gene-target-name</th>\n",
       "      <th>gene-query-description</th>\n",
       "      <th>gene-target-description</th>\n",
       "      <th>interaction-type</th>\n",
       "      <th>paper-source</th>\n",
       "    </tr>\n",
       "  </thead>\n",
       "  <tbody>\n",
       "    <tr>\n",
       "      <th>2846</th>\n",
       "      <td>YBR200W</td>\n",
       "      <td>YER155C</td>\n",
       "      <td>BEM1</td>\n",
       "      <td>BEM2</td>\n",
       "      <td>SRO1|phosphatidylinositol-3-phosphate-binding ...</td>\n",
       "      <td>IPL2|SUP9|TSL1|L000000168</td>\n",
       "      <td>Synthetic Lethality</td>\n",
       "      <td>Peterson J (1994)</td>\n",
       "    </tr>\n",
       "    <tr>\n",
       "      <th>2847</th>\n",
       "      <td>YBR200W</td>\n",
       "      <td>YAL041W</td>\n",
       "      <td>BEM1</td>\n",
       "      <td>CDC24</td>\n",
       "      <td>SRO1|phosphatidylinositol-3-phosphate-binding ...</td>\n",
       "      <td>CLS4|Rho family guanine nucleotide exchange fa...</td>\n",
       "      <td>Synthetic Lethality</td>\n",
       "      <td>Peterson J (1994)</td>\n",
       "    </tr>\n",
       "    <tr>\n",
       "      <th>5004</th>\n",
       "      <td>YBR200W</td>\n",
       "      <td>YOR188W</td>\n",
       "      <td>BEM1</td>\n",
       "      <td>MSB1</td>\n",
       "      <td>SRO1|phosphatidylinositol-3-phosphate-binding ...</td>\n",
       "      <td>L000001184</td>\n",
       "      <td>Synthetic Lethality</td>\n",
       "      <td>Bender A (1991)</td>\n",
       "    </tr>\n",
       "    <tr>\n",
       "      <th>13777</th>\n",
       "      <td>YBR200W</td>\n",
       "      <td>YGR229C</td>\n",
       "      <td>BEM1</td>\n",
       "      <td>SMI1</td>\n",
       "      <td>SRO1|phosphatidylinositol-3-phosphate-binding ...</td>\n",
       "      <td>KNR4|L000000909</td>\n",
       "      <td>Synthetic Lethality</td>\n",
       "      <td>Gorelik M (2011)</td>\n",
       "    </tr>\n",
       "    <tr>\n",
       "      <th>13778</th>\n",
       "      <td>YBR200W</td>\n",
       "      <td>YNL271C</td>\n",
       "      <td>BEM1</td>\n",
       "      <td>BNI1</td>\n",
       "      <td>SRO1|phosphatidylinositol-3-phosphate-binding ...</td>\n",
       "      <td>PPF3|SHE5|formin BNI1|L000000190</td>\n",
       "      <td>Synthetic Lethality</td>\n",
       "      <td>Gorelik M (2011)</td>\n",
       "    </tr>\n",
       "    <tr>\n",
       "      <th>13779</th>\n",
       "      <td>YBR200W</td>\n",
       "      <td>YER155C</td>\n",
       "      <td>BEM1</td>\n",
       "      <td>BEM2</td>\n",
       "      <td>SRO1|phosphatidylinositol-3-phosphate-binding ...</td>\n",
       "      <td>IPL2|SUP9|TSL1|L000000168</td>\n",
       "      <td>Synthetic Lethality</td>\n",
       "      <td>Gorelik M (2011)</td>\n",
       "    </tr>\n",
       "    <tr>\n",
       "      <th>14385</th>\n",
       "      <td>YBR200W</td>\n",
       "      <td>YHR206W</td>\n",
       "      <td>BEM1</td>\n",
       "      <td>SKN7</td>\n",
       "      <td>SRO1|phosphatidylinositol-3-phosphate-binding ...</td>\n",
       "      <td>BRY1|POS9|kinase-regulated stress-responsive t...</td>\n",
       "      <td>Dosage Lethality</td>\n",
       "      <td>Bouquin N (1999)</td>\n",
       "    </tr>\n",
       "  </tbody>\n",
       "</table>\n",
       "</div>"
      ],
      "text/plain": [
       "      gene-query gene-target gene-query-name gene-target-name  \\\n",
       "2846     YBR200W     YER155C            BEM1             BEM2   \n",
       "2847     YBR200W     YAL041W            BEM1            CDC24   \n",
       "5004     YBR200W     YOR188W            BEM1             MSB1   \n",
       "13777    YBR200W     YGR229C            BEM1             SMI1   \n",
       "13778    YBR200W     YNL271C            BEM1             BNI1   \n",
       "13779    YBR200W     YER155C            BEM1             BEM2   \n",
       "14385    YBR200W     YHR206W            BEM1             SKN7   \n",
       "\n",
       "                                  gene-query-description  \\\n",
       "2846   SRO1|phosphatidylinositol-3-phosphate-binding ...   \n",
       "2847   SRO1|phosphatidylinositol-3-phosphate-binding ...   \n",
       "5004   SRO1|phosphatidylinositol-3-phosphate-binding ...   \n",
       "13777  SRO1|phosphatidylinositol-3-phosphate-binding ...   \n",
       "13778  SRO1|phosphatidylinositol-3-phosphate-binding ...   \n",
       "13779  SRO1|phosphatidylinositol-3-phosphate-binding ...   \n",
       "14385  SRO1|phosphatidylinositol-3-phosphate-binding ...   \n",
       "\n",
       "                                 gene-target-description     interaction-type  \\\n",
       "2846                           IPL2|SUP9|TSL1|L000000168  Synthetic Lethality   \n",
       "2847   CLS4|Rho family guanine nucleotide exchange fa...  Synthetic Lethality   \n",
       "5004                                          L000001184  Synthetic Lethality   \n",
       "13777                                    KNR4|L000000909  Synthetic Lethality   \n",
       "13778                   PPF3|SHE5|formin BNI1|L000000190  Synthetic Lethality   \n",
       "13779                          IPL2|SUP9|TSL1|L000000168  Synthetic Lethality   \n",
       "14385  BRY1|POS9|kinase-regulated stress-responsive t...     Dosage Lethality   \n",
       "\n",
       "            paper-source  \n",
       "2846   Peterson J (1994)  \n",
       "2847   Peterson J (1994)  \n",
       "5004     Bender A (1991)  \n",
       "13777   Gorelik M (2011)  \n",
       "13778   Gorelik M (2011)  \n",
       "13779   Gorelik M (2011)  \n",
       "14385   Bouquin N (1999)  "
      ]
     },
     "execution_count": 36,
     "metadata": {},
     "output_type": "execute_result"
    }
   ],
   "source": [
    "data_sl[data_sl['gene-query-name']=='BEM1']"
   ]
  },
  {
   "cell_type": "code",
   "execution_count": null,
   "metadata": {},
   "outputs": [],
   "source": []
  }
 ],
 "metadata": {
  "jupytext": {
   "text_representation": {
    "extension": ".md",
    "format_name": "myst"
   }
  },
  "kernelspec": {
   "display_name": "Python 3",
   "language": "python",
   "name": "python3"
  },
  "language_info": {
   "codemirror_mode": {
    "name": "ipython",
    "version": 3
   },
   "file_extension": ".py",
   "mimetype": "text/x-python",
   "name": "python",
   "nbconvert_exporter": "python",
   "pygments_lexer": "ipython3",
   "version": "3.7.8"
  },
  "source_map": [
   10,
   18,
   29,
   36,
   57,
   66,
   98,
   101,
   105,
   128,
   131,
   135,
   139,
   145,
   178,
   184,
   188,
   206,
   210,
   218,
   222,
   225,
   229,
   234,
   238,
   244,
   248,
   253,
   257,
   267,
   269,
   273,
   306,
   311,
   313,
   317,
   328,
   330,
   334,
   344,
   348,
   358,
   360,
   364,
   381,
   388,
   394,
   400,
   407,
   412,
   419,
   424,
   428,
   432
  ]
 },
 "nbformat": 4,
 "nbformat_minor": 4
}