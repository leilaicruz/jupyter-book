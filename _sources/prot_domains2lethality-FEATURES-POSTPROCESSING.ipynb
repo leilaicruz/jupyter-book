{
 "cells": [
  {
   "cell_type": "markdown",
   "metadata": {},
   "source": [
    "# Feature postprocessing from paper.\n",
    "- Title:  \"Predicting yeast synthetic lethal genetic interactions using protein domains\"\n",
    "- Authors: Bo Li, Feng Luo,School of Computing,Clemson University,Clemson, SC, USA\n",
    "- e-mail: bol, luofeng@clemson.edu\n",
    "- year:2009"
   ]
  },
  {
   "cell_type": "code",
   "execution_count": 1,
   "metadata": {
    "execution": {
     "iopub.execute_input": "2020-08-14T12:18:42.531392Z",
     "iopub.status.busy": "2020-08-14T12:18:42.530768Z",
     "iopub.status.idle": "2020-08-14T12:18:43.305279Z",
     "shell.execute_reply": "2020-08-14T12:18:43.304362Z"
    }
   },
   "outputs": [],
   "source": [
    "import pandas as pd\n",
    "import numpy as np\n",
    "import matplotlib.pyplot as plt\n",
    "from collections import defaultdict \n",
    "import seaborn as sns\n",
    "import matplotlib.cm as cm\n",
    "import scipy as scipy\n",
    "import random"
   ]
  },
  {
   "cell_type": "markdown",
   "metadata": {
    "jupyter": {
     "source_hidden": true
    }
   },
   "source": [
    "### Importing datasets \n",
    "\n",
    "#### Link to the github repo where the datasets to be downloaded:\n",
    "[DOWNLOAD THE DATASETS HERE](https://github.com/leilaicruz/machine-learning-for-yeast/tree/dev_Leila/datasets-for-learning)"
   ]
  },
  {
   "cell_type": "code",
   "execution_count": 2,
   "metadata": {
    "execution": {
     "iopub.execute_input": "2020-08-14T12:18:43.311960Z",
     "iopub.status.busy": "2020-08-14T12:18:43.310824Z",
     "iopub.status.idle": "2020-08-14T12:18:51.043068Z",
     "shell.execute_reply": "2020-08-14T12:18:51.043546Z"
    }
   },
   "outputs": [],
   "source": [
    "import os\n",
    "script_dir = os.path.dirname('__file__') #<-- absolute dir the script is in\n",
    "rel_path_SL = \"datasets/data-synthetic-lethals.xlsx\"\n",
    "rel_path_nSL=\"datasets/data-positive-genetic.xlsx\"\n",
    "rel_path_domains=\"datasets/proteins-domains-from-Pfam.xlsx\"\n",
    "\n",
    "abs_file_path_SL = os.path.join(script_dir, rel_path_SL)\n",
    "abs_file_path_nSL = os.path.join(script_dir, rel_path_nSL)\n",
    "abs_file_path_domains = os.path.join(script_dir, rel_path_domains)\n",
    "\n",
    "# os.chdir('mini_book/docs/') #<-- for binder os.chdir('../')\n",
    "# os.chdir('../')\n",
    "my_path_sl= abs_file_path_SL\n",
    "my_path_non_sl=abs_file_path_nSL\n",
    "my_path_domains=abs_file_path_domains\n",
    "\n",
    "data_sl=pd.read_excel(my_path_sl,header=0)\n",
    "data_domains=pd.read_excel(my_path_domains,header=0,index_col='Unnamed: 0')\n",
    "data_domains=data_domains.dropna()\n",
    "data_nonsl=pd.read_excel(my_path_non_sl,header=0)"
   ]
  },
  {
   "cell_type": "markdown",
   "metadata": {},
   "source": [
    "## Building the feature matrix\n",
    "One matrix for true SL where each row is one pair of SL. Every raw will be a vector of 0,1 or 2 depending on the comparison with the domain list. For row i the jth element = 0 if the jth element of the domain list is not in neither protein A and B, 1, if it is in one of them and 2 if it is in both of them .\n",
    "\n",
    "### Building the list of proteins domains id per protein pair separately :\n",
    "- List of protein A: Search for the Sl/nSL database the query gene name and look in the protein domain database which protein domains id has each of those queries.\n",
    "- List of protein B: Search for the Sl/nSL database the target gene name of the previous query and look in the protein domain database which protein domains id has each of those target genes."
   ]
  },
  {
   "cell_type": "code",
   "execution_count": 3,
   "metadata": {
    "execution": {
     "iopub.execute_input": "2020-08-14T12:18:51.112592Z",
     "iopub.status.busy": "2020-08-14T12:18:51.107013Z",
     "iopub.status.idle": "2020-08-14T12:18:52.913588Z",
     "shell.execute_reply": "2020-08-14T12:18:52.912621Z"
    }
   },
   "outputs": [],
   "source": [
    "# Selecting the meaningful columns in the respective dataset\n",
    "domain_id_list=data_domains['domain-name']\n",
    "query_gene=data_sl['gene-query-name']\n",
    "target_gene=data_sl['gene-target-name']\n",
    "query_gene_nonlethal=data_nonsl['gene-query-name']\n",
    "target_gene_nonlethal=data_nonsl['gene-target-name']\n",
    "\n",
    "\n",
    "\n",
    "# Initialising the arrays\n",
    "protein_a_list=[]\n",
    "protein_b_list=[]\n",
    "protein_a_list_non=[]\n",
    "protein_b_list_non=[]\n",
    "\n",
    "population = np.arange(0,len(data_sl))\n",
    "\n",
    "# For loop for 10000 pairs sampled randomly from the SL/nSl pair list , and creating a big array of proteind domains id per protein pair\n",
    "\n",
    "for m in random.sample(list(population), 500):\n",
    "    protein_a=data_domains[data_domains['name']==query_gene[m]]\n",
    "    protein_b=data_domains[data_domains['name']==target_gene[m]]\n",
    "    protein_a_list.append(protein_a['domain-name'].tolist())\n",
    "    protein_b_list.append(protein_b['domain-name'].tolist())\n",
    "\n",
    "    protein_a_non=data_domains[data_domains['name']==query_gene_nonlethal[m]]\n",
    "    protein_b_non=data_domains[data_domains['name']==target_gene_nonlethal[m]]\n",
    "    protein_a_list_non.append(protein_a_non['domain-name'].tolist())\n",
    "    protein_b_list_non.append(protein_b_non['domain-name'].tolist())"
   ]
  },
  {
   "cell_type": "code",
   "execution_count": 4,
   "metadata": {
    "execution": {
     "iopub.execute_input": "2020-08-14T12:18:52.918535Z",
     "iopub.status.busy": "2020-08-14T12:18:52.917484Z",
     "iopub.status.idle": "2020-08-14T12:18:52.922193Z",
     "shell.execute_reply": "2020-08-14T12:18:52.922620Z"
    }
   },
   "outputs": [
    {
     "name": "stdout",
     "output_type": "stream",
     "text": [
      "We are going to analyze 500 protein pairs, out of 17871 SL protein pairs\n",
      "We are going to analyze 500 protein pairs, out of 43340 positive protein pairs\n"
     ]
    }
   ],
   "source": [
    "print('We are going to analyze',len((protein_a_list)) ,'protein pairs, out of',len(data_sl),'SL protein pairs')\n",
    "print('We are going to analyze',len((protein_a_list_non)) ,'protein pairs, out of',len(data_nonsl),'positive protein pairs')"
   ]
  },
  {
   "cell_type": "markdown",
   "metadata": {},
   "source": [
    "### Postprocessing #1:  Remove protein pairs from study if either protein in the pair does not contain any domain"
   ]
  },
  {
   "cell_type": "code",
   "execution_count": 5,
   "metadata": {
    "execution": {
     "iopub.execute_input": "2020-08-14T12:18:52.931399Z",
     "iopub.status.busy": "2020-08-14T12:18:52.930887Z",
     "iopub.status.idle": "2020-08-14T12:18:52.934923Z",
     "shell.execute_reply": "2020-08-14T12:18:52.934224Z"
    }
   },
   "outputs": [],
   "source": [
    "def remove_empty_domains(protein_list_search,protein_list_pair):\n",
    "    index=[]\n",
    "    for i in np.arange(0,len(protein_list_search)):\n",
    "        if protein_list_search[i]==[] or protein_list_pair[i]==[]:\n",
    "            index.append(i) ## index of empty values for the protein_a_list meaning they dont have any annotated domain\n",
    "\n",
    "    y=[x for x in np.arange(0,len(protein_list_search)) if x not in index] # a list with non empty values from protein_a list\n",
    "\n",
    "    protein_list_search_new=[]\n",
    "    protein_list_pair_new=[]\n",
    "    for i in y:\n",
    "        protein_list_search_new.append(protein_list_search[i])\n",
    "        protein_list_pair_new.append(protein_list_pair[i])\n",
    "    return protein_list_search_new,protein_list_pair_new\n",
    "\n",
    "## evaluating the function\n",
    "\n",
    "protein_a_list_new,protein_b_list_new=remove_empty_domains(protein_a_list,protein_b_list)\n",
    "\n",
    "protein_a_list_non_new,protein_b_list_non_new=remove_empty_domains(protein_a_list_non,protein_b_list_non)"
   ]
  },
  {
   "cell_type": "code",
   "execution_count": 6,
   "metadata": {
    "execution": {
     "iopub.execute_input": "2020-08-14T12:18:52.939325Z",
     "iopub.status.busy": "2020-08-14T12:18:52.938443Z",
     "iopub.status.idle": "2020-08-14T12:18:52.944203Z",
     "shell.execute_reply": "2020-08-14T12:18:52.943760Z"
    }
   },
   "outputs": [
    {
     "name": "stdout",
     "output_type": "stream",
     "text": [
      "The empty domain in the SL were: 83 out of 500 domains\n",
      "The empty domain in the nSL were: 91 out of 500 domains\n"
     ]
    }
   ],
   "source": [
    "print('The empty domain in the SL were:', len(protein_a_list)-len(protein_a_list_new), 'out of', len(protein_a_list),'domains')\n",
    "print('The empty domain in the nSL were:', len(protein_a_list_non)-len(protein_a_list_non_new), 'out of', len(protein_a_list_non),'domains')"
   ]
  },
  {
   "cell_type": "markdown",
   "metadata": {},
   "source": [
    "### Feature engineering: Select from each ordered indexes of domain id list which of them appear once, in both or in any of the domains of each protein pair"
   ]
  },
  {
   "cell_type": "markdown",
   "metadata": {},
   "source": [
    "#### Define function `get_indexes`"
   ]
  },
  {
   "cell_type": "code",
   "execution_count": 7,
   "metadata": {
    "execution": {
     "iopub.execute_input": "2020-08-14T12:18:52.950138Z",
     "iopub.status.busy": "2020-08-14T12:18:52.949604Z",
     "iopub.status.idle": "2020-08-14T12:18:52.955027Z",
     "shell.execute_reply": "2020-08-14T12:18:52.954325Z"
    }
   },
   "outputs": [
    {
     "data": {
      "text/plain": [
       "[1, 2]"
      ]
     },
     "execution_count": 7,
     "metadata": {},
     "output_type": "execute_result"
    }
   ],
   "source": [
    "get_indexes = lambda x, xs: [i for (y, i) in zip(xs, range(len(xs))) if x == y] # a function that give the index of whether a value appear in array or not\n",
    "a=[1,2,2,4,5,6,7,8,9,10]\n",
    "get_indexes(2,a)"
   ]
  },
  {
   "cell_type": "code",
   "execution_count": 8,
   "metadata": {
    "execution": {
     "iopub.execute_input": "2020-08-14T12:18:52.962285Z",
     "iopub.status.busy": "2020-08-14T12:18:52.961704Z",
     "iopub.status.idle": "2020-08-14T12:18:52.964790Z",
     "shell.execute_reply": "2020-08-14T12:18:52.965240Z"
    }
   },
   "outputs": [],
   "source": [
    "def feature_building(protein_a_list_new,protein_b_list_new):\n",
    "    x = np.unique(domain_id_list)\n",
    "    ## To avoid taking repeated domains from one protein of the pairs , lets reduced the domains of each protein from the pairs to their unique members\n",
    "    protein_a_list_unique=[]\n",
    "    protein_b_list_unique=[]\n",
    "    for i in np.arange(0,len(protein_a_list_new)):\n",
    "        protein_a_list_unique.append(np.unique(protein_a_list_new[i]))\n",
    "        protein_b_list_unique.append(np.unique(protein_b_list_new[i]))\n",
    "        \n",
    "    protein_feat_true=np.zeros(shape=(len(x),len(protein_a_list_unique)))\n",
    "    pair_a_b_array=[]\n",
    "    for i in np.arange(0,len(protein_a_list_unique)):\n",
    "        index_a=[]\n",
    "        \n",
    "        pair=[protein_a_list_unique[i],protein_b_list_unique[i]]\n",
    "        pair_a_b=np.concatenate(pair).ravel()\n",
    "        pair_a_b_array.append(pair_a_b)\n",
    "\n",
    "    j=0\n",
    "    for i in pair_a_b_array:  \n",
    "        array,index,counts=np.unique(i,return_index=True,return_counts=True)\n",
    "        \n",
    "        for k,m in zip(counts,array):\n",
    "            if k ==2:\n",
    "                protein_feat_true[get_indexes(m,x),j]=2\n",
    "                \n",
    "            if k==1:\n",
    "                protein_feat_true[get_indexes(m,x),j]=1\n",
    "        j=j+1\n",
    "    return protein_feat_true"
   ]
  },
  {
   "cell_type": "code",
   "execution_count": 9,
   "metadata": {
    "execution": {
     "iopub.execute_input": "2020-08-14T12:18:52.973941Z",
     "iopub.status.busy": "2020-08-14T12:18:52.972821Z",
     "iopub.status.idle": "2020-08-14T12:18:53.736701Z",
     "shell.execute_reply": "2020-08-14T12:18:53.736123Z"
    }
   },
   "outputs": [],
   "source": [
    "protein_feat_true=feature_building(protein_b_list_new=protein_b_list_new,protein_a_list_new=protein_a_list_new)\n",
    "protein_feat_true_pd=pd.DataFrame(protein_feat_true.T)\n",
    "\n",
    "protein_feat_non_true=feature_building(protein_b_list_new=protein_b_list_non_new,protein_a_list_new=protein_a_list_non_new)\n",
    "protein_feat_non_true_pd=pd.DataFrame(protein_feat_non_true.T)"
   ]
  },
  {
   "cell_type": "markdown",
   "metadata": {},
   "source": [
    "### How many ones and twos are in each dataset"
   ]
  },
  {
   "cell_type": "code",
   "execution_count": 10,
   "metadata": {
    "execution": {
     "iopub.execute_input": "2020-08-14T12:18:53.743787Z",
     "iopub.status.busy": "2020-08-14T12:18:53.743172Z",
     "iopub.status.idle": "2020-08-14T12:18:53.854583Z",
     "shell.execute_reply": "2020-08-14T12:18:53.854032Z"
    }
   },
   "outputs": [
    {
     "name": "stdout",
     "output_type": "stream",
     "text": [
      "fraction of twos in the SL array is 2.457538101750005e-05\n",
      "fraction of ones in the SL array is 0.0009972848167746793\n",
      "fraction of twos in the PI array is 5.657822950554668e-06\n",
      "fraction of ones in the PI array is 0.0009343490472630281\n"
     ]
    }
   ],
   "source": [
    "index_2_true=protein_feat_true_pd.where(protein_feat_true_pd==2)\n",
    "index_2_true_count=index_2_true.count(axis=1).sum()\n",
    "\n",
    "index_1_true=protein_feat_true_pd.where(protein_feat_true_pd==1)\n",
    "index_1_true_count=index_1_true.count(axis=1).sum()\n",
    "\n",
    "index_2_nontrue=protein_feat_non_true_pd.where(protein_feat_non_true_pd==2)\n",
    "index_2_nontrue_count=index_2_nontrue.count(axis=1).sum()\n",
    "\n",
    "index_1_nontrue=protein_feat_non_true_pd.where(protein_feat_non_true_pd==1)\n",
    "index_1_nontrue_count=index_1_nontrue.count(axis=1).sum()\n",
    "\n",
    "\n",
    "print('fraction of twos in the SL array is',index_2_true_count/(len(protein_feat_true_pd.index)*len(protein_feat_true_pd.columns)))\n",
    "print('fraction of ones in the SL array is',index_1_true_count/(len(protein_feat_true_pd.index)*len(protein_feat_true_pd.columns)))\n",
    "print('fraction of twos in the PI array is',index_2_nontrue_count/(len(protein_feat_non_true_pd.index)*len(protein_feat_non_true_pd.columns)))\n",
    "print('fraction of ones in the PI array is',index_1_nontrue_count/(len(protein_feat_non_true_pd.index)*len(protein_feat_non_true_pd.columns)))"
   ]
  },
  {
   "cell_type": "markdown",
   "metadata": {},
   "source": [
    "#### Bar plot to visualize these numbers"
   ]
  },
  {
   "cell_type": "code",
   "execution_count": 11,
   "metadata": {
    "execution": {
     "iopub.execute_input": "2020-08-14T12:18:53.897193Z",
     "iopub.status.busy": "2020-08-14T12:18:53.875974Z",
     "iopub.status.idle": "2020-08-14T12:18:54.389007Z",
     "shell.execute_reply": "2020-08-14T12:18:54.388077Z"
    }
   },
   "outputs": [
    {
     "data": {
      "text/plain": [
       "([0, 1, 2, 3],\n",
       " [Text(0, 0, ''), Text(0, 0, ''), Text(0, 0, ''), Text(0, 0, '')])"
      ]
     },
     "execution_count": 11,
     "metadata": {},
     "output_type": "execute_result"
    },
    {
     "data": {
      "image/png": "[encoded data removed]",
      "text/plain": [
       "<Figure size 432x288 with 1 Axes>"
      ]
     },
     "metadata": {
      "filenames": {
       "image/png": "/home/runner/work/jupyter-book/jupyter-book/mini_book/docs/_build/jupyter_execute/prot_domains2lethality-FEATURES-POSTPROCESSING_18_1.png"
      },
      "needs_background": "light"
     },
     "output_type": "display_data"
    }
   ],
   "source": [
    "plt.bar(['fraction of 2 in the nSL','fraction of 1 in the nSL'],[index_2_nontrue_count/(len(protein_feat_non_true_pd.index)*len(protein_feat_non_true_pd.columns)),index_1_nontrue_count/(len(protein_feat_non_true_pd.index)*len(protein_feat_non_true_pd.columns))],alpha=0.6,color=['blue','lightblue']), \n",
    "\n",
    "plt.bar(['fraction of 2 in SL ','fraction of 1 in SL'],[index_2_true_count/(len(protein_feat_true_pd.index)*len(protein_feat_true_pd.columns)),index_1_true_count/(len(protein_feat_true_pd.index)*len(protein_feat_true_pd.columns))],alpha=0.6,color=['coral','lightcoral'])\n",
    "\n",
    "plt.ylabel('Fraction from the population')\n",
    "plt.yscale('log')\n",
    "plt.xticks(rotation=40)"
   ]
  },
  {
   "cell_type": "markdown",
   "metadata": {},
   "source": [
    "#### Adding the labels(response variables) to each dataset"
   ]
  },
  {
   "cell_type": "code",
   "execution_count": 12,
   "metadata": {
    "execution": {
     "iopub.execute_input": "2020-08-14T12:18:54.394994Z",
     "iopub.status.busy": "2020-08-14T12:18:54.394443Z",
     "iopub.status.idle": "2020-08-14T12:18:54.398670Z",
     "shell.execute_reply": "2020-08-14T12:18:54.399377Z"
    }
   },
   "outputs": [],
   "source": [
    "protein_feat_true_pd['lethality']=np.ones(shape=(len(protein_a_list_new)))\n",
    "protein_feat_non_true_pd['lethality']=np.zeros(shape=(len(protein_a_list_non_new)))"
   ]
  },
  {
   "cell_type": "markdown",
   "metadata": {},
   "source": [
    "#### Joining both datasets"
   ]
  },
  {
   "cell_type": "code",
   "execution_count": 13,
   "metadata": {
    "execution": {
     "iopub.execute_input": "2020-08-14T12:18:54.404239Z",
     "iopub.status.busy": "2020-08-14T12:18:54.403627Z",
     "iopub.status.idle": "2020-08-14T12:18:54.442053Z",
     "shell.execute_reply": "2020-08-14T12:18:54.442526Z"
    }
   },
   "outputs": [
    {
     "name": "stdout",
     "output_type": "stream",
     "text": [
      "The number of features are: 3026\n",
      "The number of samples are: 826\n"
     ]
    }
   ],
   "source": [
    "feature_post=pd.concat([protein_feat_true_pd,protein_feat_non_true_pd],axis=0)\n",
    "feature_post=feature_post.set_index(np.arange(0,len(protein_a_list_new)+len(protein_a_list_non_new)))\n",
    "print('The number of features are:',feature_post.shape[1])\n",
    "print('The number of samples are:',feature_post.shape[0])"
   ]
  },
  {
   "cell_type": "markdown",
   "metadata": {},
   "source": [
    "### Postprocessing and exploration of the feature matrix of both datasets"
   ]
  },
  {
   "cell_type": "code",
   "execution_count": 14,
   "metadata": {
    "execution": {
     "iopub.execute_input": "2020-08-14T12:18:54.448963Z",
     "iopub.status.busy": "2020-08-14T12:18:54.448441Z",
     "iopub.status.idle": "2020-08-14T12:18:59.165191Z",
     "shell.execute_reply": "2020-08-14T12:18:59.164649Z"
    }
   },
   "outputs": [],
   "source": [
    "mean=feature_post.T.describe().loc['mean']\n",
    "std=feature_post.T.describe().loc['std']\n",
    "lethality=feature_post['lethality']\n",
    "\n",
    "corr_keys=pd.concat([mean,std,lethality],axis=1)"
   ]
  },
  {
   "cell_type": "markdown",
   "metadata": {},
   "source": [
    "### Viz of the stats"
   ]
  },
  {
   "cell_type": "code",
   "execution_count": 15,
   "metadata": {
    "execution": {
     "iopub.execute_input": "2020-08-14T12:18:59.194592Z",
     "iopub.status.busy": "2020-08-14T12:18:59.187853Z",
     "iopub.status.idle": "2020-08-14T12:19:01.096464Z",
     "shell.execute_reply": "2020-08-14T12:19:01.097040Z"
    }
   },
   "outputs": [
    {
     "data": {
      "text/plain": [
       "Text(0.5, 1.08, 'Pairplot to see data dependencies with Lethality')"
      ]
     },
     "execution_count": 15,
     "metadata": {},
     "output_type": "execute_result"
    },
    {
     "data": {
      "image/png": "[encoded data removed]",
      "text/plain": [
       "<Figure size 412x360 with 6 Axes>"
      ]
     },
     "metadata": {
      "filenames": {
       "image/png": "/home/runner/work/jupyter-book/jupyter-book/mini_book/docs/_build/jupyter_execute/prot_domains2lethality-FEATURES-POSTPROCESSING_26_1.png"
      },
      "needs_background": "light"
     },
     "output_type": "display_data"
    }
   ],
   "source": [
    "pair=sns.pairplot(corr_keys,hue='lethality',diag_kind='kde',kind='reg',palette='colorblind')\n",
    "pair.fig.suptitle('Pairplot to see data dependencies with Lethality',y=1.08)"
   ]
  },
  {
   "cell_type": "code",
   "execution_count": 16,
   "metadata": {
    "execution": {
     "iopub.execute_input": "2020-08-14T12:19:01.108429Z",
     "iopub.status.busy": "2020-08-14T12:19:01.107547Z",
     "iopub.status.idle": "2020-08-14T12:19:01.111997Z",
     "shell.execute_reply": "2020-08-14T12:19:01.111434Z"
    }
   },
   "outputs": [],
   "source": [
    "X, y = feature_post.drop(columns=[\"lethality\"]), feature_post[\"lethality\"]"
   ]
  },
  {
   "cell_type": "code",
   "execution_count": 17,
   "metadata": {
    "execution": {
     "iopub.execute_input": "2020-08-14T12:19:01.117248Z",
     "iopub.status.busy": "2020-08-14T12:19:01.116151Z",
     "iopub.status.idle": "2020-08-14T12:19:01.367980Z",
     "shell.execute_reply": "2020-08-14T12:19:01.368461Z"
    }
   },
   "outputs": [],
   "source": [
    "from sklearn.preprocessing import StandardScaler\n",
    "scaler = StandardScaler()\n",
    "x_sl=protein_feat_true_pd.drop(columns=['lethality'])\n",
    "x_nsl=protein_feat_non_true_pd.drop(columns=['lethality'])\n",
    "\n",
    "X_sl_scaled = scaler.fit_transform(x_sl)\n",
    "X_nsl_scaled = scaler.fit_transform(x_nsl)"
   ]
  },
  {
   "cell_type": "code",
   "execution_count": 18,
   "metadata": {
    "execution": {
     "iopub.execute_input": "2020-08-14T12:19:01.372710Z",
     "iopub.status.busy": "2020-08-14T12:19:01.372126Z",
     "iopub.status.idle": "2020-08-14T12:19:01.378126Z",
     "shell.execute_reply": "2020-08-14T12:19:01.377313Z"
    }
   },
   "outputs": [
    {
     "data": {
      "text/plain": [
       "(417, 3025)"
      ]
     },
     "execution_count": 18,
     "metadata": {},
     "output_type": "execute_result"
    }
   ],
   "source": [
    "np.shape(X_sl_scaled)"
   ]
  },
  {
   "cell_type": "markdown",
   "metadata": {},
   "source": [
    "## How redundant are each of the protein domains?"
   ]
  },
  {
   "cell_type": "code",
   "execution_count": 19,
   "metadata": {
    "execution": {
     "iopub.execute_input": "2020-08-14T12:19:01.385851Z",
     "iopub.status.busy": "2020-08-14T12:19:01.384489Z",
     "iopub.status.idle": "2020-08-14T12:19:01.386563Z",
     "shell.execute_reply": "2020-08-14T12:19:01.387064Z"
    }
   },
   "outputs": [],
   "source": [
    "def PCA_component_contribution(scaled_matrix,original_data):\n",
    "    from sklearn.decomposition import PCA\n",
    "\n",
    "    model = PCA(0.95).fit(scaled_matrix)\n",
    "    ## apply dimensionality reduction to X_train\n",
    "    output_pca = model.transform(scaled_matrix)\n",
    "    \n",
    "    total=sum(model.explained_variance_)\n",
    "\n",
    "\n",
    "   \n",
    "    # number of components , that it will be the number of main axes times the number of original components \n",
    "    n_pcs= model.components_.shape[0] # the amount of non redundant protein domains \n",
    "\n",
    "    # get the index of the most important feature on EACH component\n",
    "    # LIST COMPREHENSION HERE\n",
    "    most_important = [np.abs(model.components_[i]).argmax() for i in range(n_pcs)]\n",
    "\n",
    "    initial_feature_names = original_data.columns\n",
    "    # get the names\n",
    "    most_important_names = [initial_feature_names[most_important[i]] for i in range(n_pcs)]\n",
    "    \n",
    "\n",
    "    # LIST COMPREHENSION HERE AGAIN\n",
    "    dic = {'PC{}'.format(i): most_important_names[i] for i in range(n_pcs)}\n",
    "\n",
    "    # build the dataframe\n",
    "    df = pd.DataFrame(dic.items(),columns=['pca-component','domain-number'])\n",
    "\n",
    "    return df,model.components_"
   ]
  },
  {
   "cell_type": "code",
   "execution_count": 20,
   "metadata": {
    "execution": {
     "iopub.execute_input": "2020-08-14T12:19:01.391089Z",
     "iopub.status.busy": "2020-08-14T12:19:01.390447Z",
     "iopub.status.idle": "2020-08-14T12:19:02.152451Z",
     "shell.execute_reply": "2020-08-14T12:19:02.153276Z"
    }
   },
   "outputs": [],
   "source": [
    "df_sl,components_pca_nsl=PCA_component_contribution(X_nsl_scaled,x_nsl)\n",
    "df_nsl,components_pca_sl=PCA_component_contribution(X_sl_scaled,x_sl)"
   ]
  },
  {
   "cell_type": "code",
   "execution_count": 21,
   "metadata": {
    "execution": {
     "iopub.execute_input": "2020-08-14T12:19:02.156661Z",
     "iopub.status.busy": "2020-08-14T12:19:02.155569Z",
     "iopub.status.idle": "2020-08-14T12:19:02.168197Z",
     "shell.execute_reply": "2020-08-14T12:19:02.167636Z"
    }
   },
   "outputs": [
    {
     "data": {
      "text/html": [
       "<div>\n",
       "<style scoped>\n",
       "    .dataframe tbody tr th:only-of-type {\n",
       "        vertical-align: middle;\n",
       "    }\n",
       "\n",
       "    .dataframe tbody tr th {\n",
       "        vertical-align: top;\n",
       "    }\n",
       "\n",
       "    .dataframe thead th {\n",
       "        text-align: right;\n",
       "    }\n",
       "</style>\n",
       "<table border=\"1\" class=\"dataframe\">\n",
       "  <thead>\n",
       "    <tr style=\"text-align: right;\">\n",
       "      <th></th>\n",
       "      <th>pca-component</th>\n",
       "      <th>domain-number</th>\n",
       "    </tr>\n",
       "  </thead>\n",
       "  <tbody>\n",
       "    <tr>\n",
       "      <th>0</th>\n",
       "      <td>PC0</td>\n",
       "      <td>957</td>\n",
       "    </tr>\n",
       "    <tr>\n",
       "      <th>1</th>\n",
       "      <td>PC1</td>\n",
       "      <td>2771</td>\n",
       "    </tr>\n",
       "    <tr>\n",
       "      <th>2</th>\n",
       "      <td>PC2</td>\n",
       "      <td>540</td>\n",
       "    </tr>\n",
       "    <tr>\n",
       "      <th>3</th>\n",
       "      <td>PC3</td>\n",
       "      <td>161</td>\n",
       "    </tr>\n",
       "    <tr>\n",
       "      <th>4</th>\n",
       "      <td>PC4</td>\n",
       "      <td>202</td>\n",
       "    </tr>\n",
       "  </tbody>\n",
       "</table>\n",
       "</div>"
      ],
      "text/plain": [
       "  pca-component  domain-number\n",
       "0           PC0            957\n",
       "1           PC1           2771\n",
       "2           PC2            540\n",
       "3           PC3            161\n",
       "4           PC4            202"
      ]
     },
     "execution_count": 21,
     "metadata": {},
     "output_type": "execute_result"
    }
   ],
   "source": [
    "df_sl.head()"
   ]
  },
  {
   "cell_type": "markdown",
   "metadata": {},
   "source": [
    "## which are the shared domains between nSL and SL pairs , in the PCA reduced samples"
   ]
  },
  {
   "cell_type": "code",
   "execution_count": 22,
   "metadata": {
    "execution": {
     "iopub.execute_input": "2020-08-14T12:19:02.171749Z",
     "iopub.status.busy": "2020-08-14T12:19:02.170581Z",
     "iopub.status.idle": "2020-08-14T12:19:02.205931Z",
     "shell.execute_reply": "2020-08-14T12:19:02.206780Z"
    }
   },
   "outputs": [
    {
     "data": {
      "text/html": [
       "<div>\n",
       "<style scoped>\n",
       "    .dataframe tbody tr th:only-of-type {\n",
       "        vertical-align: middle;\n",
       "    }\n",
       "\n",
       "    .dataframe tbody tr th {\n",
       "        vertical-align: top;\n",
       "    }\n",
       "\n",
       "    .dataframe thead th {\n",
       "        text-align: right;\n",
       "    }\n",
       "</style>\n",
       "<table border=\"1\" class=\"dataframe\">\n",
       "  <thead>\n",
       "    <tr style=\"text-align: right;\">\n",
       "      <th></th>\n",
       "      <th>pca-component_x</th>\n",
       "      <th>domain-number</th>\n",
       "      <th>pca-component_y</th>\n",
       "      <th>domain-description</th>\n",
       "    </tr>\n",
       "  </thead>\n",
       "  <tbody>\n",
       "    <tr>\n",
       "      <th>0</th>\n",
       "      <td>PC2</td>\n",
       "      <td>540</td>\n",
       "      <td>PC2</td>\n",
       "      <td>Cytochrome_B; Cytochrome b/b6, N-terminal</td>\n",
       "    </tr>\n",
       "    <tr>\n",
       "      <th>1</th>\n",
       "      <td>PC5</td>\n",
       "      <td>401</td>\n",
       "      <td>PC180</td>\n",
       "      <td>COX7a</td>\n",
       "    </tr>\n",
       "    <tr>\n",
       "      <th>2</th>\n",
       "      <td>PC8</td>\n",
       "      <td>55</td>\n",
       "      <td>PC41</td>\n",
       "      <td>ADK</td>\n",
       "    </tr>\n",
       "    <tr>\n",
       "      <th>3</th>\n",
       "      <td>PC10</td>\n",
       "      <td>341</td>\n",
       "      <td>PC57</td>\n",
       "      <td>CDP-OH_P_transf; CDP-alcohol phosphatidyltrans...</td>\n",
       "    </tr>\n",
       "    <tr>\n",
       "      <th>4</th>\n",
       "      <td>PC13</td>\n",
       "      <td>83</td>\n",
       "      <td>PC21</td>\n",
       "      <td>ANAPC1; Anaphase-promoting complex subunit 1</td>\n",
       "    </tr>\n",
       "    <tr>\n",
       "      <th>5</th>\n",
       "      <td>PC22</td>\n",
       "      <td>2316</td>\n",
       "      <td>PC152</td>\n",
       "      <td>SGTA_dimer; SGTA, homodimerisation domain</td>\n",
       "    </tr>\n",
       "    <tr>\n",
       "      <th>6</th>\n",
       "      <td>PC23</td>\n",
       "      <td>463</td>\n",
       "      <td>PC9</td>\n",
       "      <td>Chitin_synth_1N; Chitin synthase N-terminal</td>\n",
       "    </tr>\n",
       "    <tr>\n",
       "      <th>7</th>\n",
       "      <td>PC24</td>\n",
       "      <td>77</td>\n",
       "      <td>PC55</td>\n",
       "      <td>AMP-binding; AMP-dependent synthetase/ligase</td>\n",
       "    </tr>\n",
       "    <tr>\n",
       "      <th>8</th>\n",
       "      <td>PC30</td>\n",
       "      <td>384</td>\n",
       "      <td>PC26</td>\n",
       "      <td>COPI_assoc; Golgi apparatus membrane protein T...</td>\n",
       "    </tr>\n",
       "    <tr>\n",
       "      <th>9</th>\n",
       "      <td>PC31</td>\n",
       "      <td>384</td>\n",
       "      <td>PC26</td>\n",
       "      <td>COPI_assoc; Golgi apparatus membrane protein T...</td>\n",
       "    </tr>\n",
       "    <tr>\n",
       "      <th>10</th>\n",
       "      <td>PC36</td>\n",
       "      <td>892</td>\n",
       "      <td>PC28</td>\n",
       "      <td>FSH1; Serine hydrolase FSH</td>\n",
       "    </tr>\n",
       "    <tr>\n",
       "      <th>11</th>\n",
       "      <td>PC40</td>\n",
       "      <td>572</td>\n",
       "      <td>PC183</td>\n",
       "      <td>DEAD; DEAD/DEAH box helicase domain</td>\n",
       "    </tr>\n",
       "    <tr>\n",
       "      <th>12</th>\n",
       "      <td>PC44</td>\n",
       "      <td>841</td>\n",
       "      <td>PC154</td>\n",
       "      <td>Endonuclease_NS; DNA/RNA non-specific endonucl...</td>\n",
       "    </tr>\n",
       "    <tr>\n",
       "      <th>13</th>\n",
       "      <td>PC46</td>\n",
       "      <td>446</td>\n",
       "      <td>PC113</td>\n",
       "      <td>Catalase; Catalase core domain</td>\n",
       "    </tr>\n",
       "    <tr>\n",
       "      <th>14</th>\n",
       "      <td>PC54</td>\n",
       "      <td>876</td>\n",
       "      <td>PC75</td>\n",
       "      <td>FDX-ACB; Ferrodoxin-fold anticodon-binding domain</td>\n",
       "    </tr>\n",
       "    <tr>\n",
       "      <th>15</th>\n",
       "      <td>PC54</td>\n",
       "      <td>876</td>\n",
       "      <td>PC76</td>\n",
       "      <td>FDX-ACB; Ferrodoxin-fold anticodon-binding domain</td>\n",
       "    </tr>\n",
       "    <tr>\n",
       "      <th>16</th>\n",
       "      <td>PC80</td>\n",
       "      <td>2575</td>\n",
       "      <td>PC166</td>\n",
       "      <td>TFIID-18kDa; Transcription initiation factor I...</td>\n",
       "    </tr>\n",
       "    <tr>\n",
       "      <th>17</th>\n",
       "      <td>PC94</td>\n",
       "      <td>118</td>\n",
       "      <td>PC186</td>\n",
       "      <td>ATP-grasp; ATP-grasp fold, ATP-dependent carbo...</td>\n",
       "    </tr>\n",
       "    <tr>\n",
       "      <th>18</th>\n",
       "      <td>PC102</td>\n",
       "      <td>118</td>\n",
       "      <td>PC186</td>\n",
       "      <td>ATP-grasp; ATP-grasp fold, ATP-dependent carbo...</td>\n",
       "    </tr>\n",
       "    <tr>\n",
       "      <th>19</th>\n",
       "      <td>PC95</td>\n",
       "      <td>1194</td>\n",
       "      <td>PC271</td>\n",
       "      <td>Hydrolase_like</td>\n",
       "    </tr>\n",
       "    <tr>\n",
       "      <th>20</th>\n",
       "      <td>PC104</td>\n",
       "      <td>1743</td>\n",
       "      <td>PC255</td>\n",
       "      <td>PHD_2</td>\n",
       "    </tr>\n",
       "    <tr>\n",
       "      <th>21</th>\n",
       "      <td>PC106</td>\n",
       "      <td>1993</td>\n",
       "      <td>PC231</td>\n",
       "      <td>RMI1_N; RecQ mediated genome instability prote...</td>\n",
       "    </tr>\n",
       "    <tr>\n",
       "      <th>22</th>\n",
       "      <td>PC108</td>\n",
       "      <td>250</td>\n",
       "      <td>PC130</td>\n",
       "      <td>B3_4; B3/B4 tRNA-binding domain</td>\n",
       "    </tr>\n",
       "    <tr>\n",
       "      <th>23</th>\n",
       "      <td>PC108</td>\n",
       "      <td>250</td>\n",
       "      <td>PC131</td>\n",
       "      <td>B3_4; B3/B4 tRNA-binding domain</td>\n",
       "    </tr>\n",
       "    <tr>\n",
       "      <th>24</th>\n",
       "      <td>PC127</td>\n",
       "      <td>250</td>\n",
       "      <td>PC130</td>\n",
       "      <td>B3_4; B3/B4 tRNA-binding domain</td>\n",
       "    </tr>\n",
       "    <tr>\n",
       "      <th>25</th>\n",
       "      <td>PC127</td>\n",
       "      <td>250</td>\n",
       "      <td>PC131</td>\n",
       "      <td>B3_4; B3/B4 tRNA-binding domain</td>\n",
       "    </tr>\n",
       "    <tr>\n",
       "      <th>26</th>\n",
       "      <td>PC111</td>\n",
       "      <td>404</td>\n",
       "      <td>PC122</td>\n",
       "      <td>CPSF100_C; Cleavage and polyadenylation specif...</td>\n",
       "    </tr>\n",
       "    <tr>\n",
       "      <th>27</th>\n",
       "      <td>PC124</td>\n",
       "      <td>302</td>\n",
       "      <td>PC196</td>\n",
       "      <td>Brix; Brix domain</td>\n",
       "    </tr>\n",
       "    <tr>\n",
       "      <th>28</th>\n",
       "      <td>PC125</td>\n",
       "      <td>302</td>\n",
       "      <td>PC196</td>\n",
       "      <td>Brix; Brix domain</td>\n",
       "    </tr>\n",
       "    <tr>\n",
       "      <th>29</th>\n",
       "      <td>PC157</td>\n",
       "      <td>934</td>\n",
       "      <td>PC151</td>\n",
       "      <td>Folliculin</td>\n",
       "    </tr>\n",
       "    <tr>\n",
       "      <th>30</th>\n",
       "      <td>PC162</td>\n",
       "      <td>778</td>\n",
       "      <td>PC173</td>\n",
       "      <td>E1_UFD; Ubiquitin-activating enzyme E1, C-term...</td>\n",
       "    </tr>\n",
       "    <tr>\n",
       "      <th>31</th>\n",
       "      <td>PC175</td>\n",
       "      <td>11</td>\n",
       "      <td>PC141</td>\n",
       "      <td>5-FTHF_cyc-lig; 5-formyltetrahydrofolate cyclo...</td>\n",
       "    </tr>\n",
       "    <tr>\n",
       "      <th>32</th>\n",
       "      <td>PC177</td>\n",
       "      <td>11</td>\n",
       "      <td>PC141</td>\n",
       "      <td>5-FTHF_cyc-lig; 5-formyltetrahydrofolate cyclo...</td>\n",
       "    </tr>\n",
       "    <tr>\n",
       "      <th>33</th>\n",
       "      <td>PC276</td>\n",
       "      <td>11</td>\n",
       "      <td>PC141</td>\n",
       "      <td>5-FTHF_cyc-lig; 5-formyltetrahydrofolate cyclo...</td>\n",
       "    </tr>\n",
       "    <tr>\n",
       "      <th>34</th>\n",
       "      <td>PC178</td>\n",
       "      <td>1396</td>\n",
       "      <td>PC135</td>\n",
       "      <td>MRG; MRG domain</td>\n",
       "    </tr>\n",
       "    <tr>\n",
       "      <th>35</th>\n",
       "      <td>PC178</td>\n",
       "      <td>1396</td>\n",
       "      <td>PC137</td>\n",
       "      <td>MRG; MRG domain</td>\n",
       "    </tr>\n",
       "    <tr>\n",
       "      <th>36</th>\n",
       "      <td>PC186</td>\n",
       "      <td>2178</td>\n",
       "      <td>PC194</td>\n",
       "      <td>Ribosomal_L27; Ribosomal protein L27</td>\n",
       "    </tr>\n",
       "    <tr>\n",
       "      <th>37</th>\n",
       "      <td>PC190</td>\n",
       "      <td>2178</td>\n",
       "      <td>PC194</td>\n",
       "      <td>Ribosomal_L27; Ribosomal protein L27</td>\n",
       "    </tr>\n",
       "    <tr>\n",
       "      <th>38</th>\n",
       "      <td>PC192</td>\n",
       "      <td>647</td>\n",
       "      <td>PC176</td>\n",
       "      <td>DUF1691; Domain of unknown function DUF1691</td>\n",
       "    </tr>\n",
       "    <tr>\n",
       "      <th>39</th>\n",
       "      <td>PC196</td>\n",
       "      <td>1575</td>\n",
       "      <td>PC46</td>\n",
       "      <td>NOC3p; Nucleolar complex-associated protein 3,...</td>\n",
       "    </tr>\n",
       "    <tr>\n",
       "      <th>40</th>\n",
       "      <td>PC203</td>\n",
       "      <td>412</td>\n",
       "      <td>PC54</td>\n",
       "      <td>CRAL_TRIO_N; CRAL/TRIO, N-terminal domain</td>\n",
       "    </tr>\n",
       "    <tr>\n",
       "      <th>41</th>\n",
       "      <td>PC221</td>\n",
       "      <td>2165</td>\n",
       "      <td>PC223</td>\n",
       "      <td>Ribosomal_L18A; Ribosomal protein 50S-L18Ae/60...</td>\n",
       "    </tr>\n",
       "    <tr>\n",
       "      <th>42</th>\n",
       "      <td>PC223</td>\n",
       "      <td>1843</td>\n",
       "      <td>PC117</td>\n",
       "      <td>PWWP; PWWP domain</td>\n",
       "    </tr>\n",
       "    <tr>\n",
       "      <th>43</th>\n",
       "      <td>PC226</td>\n",
       "      <td>1086</td>\n",
       "      <td>PC156</td>\n",
       "      <td>Gti1_Pac2; Gti1/Pac2 family</td>\n",
       "    </tr>\n",
       "    <tr>\n",
       "      <th>44</th>\n",
       "      <td>PC269</td>\n",
       "      <td>35</td>\n",
       "      <td>PC177</td>\n",
       "      <td>AA_permease; Amino acid permease/ SLC12A domain</td>\n",
       "    </tr>\n",
       "    <tr>\n",
       "      <th>45</th>\n",
       "      <td>PC270</td>\n",
       "      <td>569</td>\n",
       "      <td>PC246</td>\n",
       "      <td>DDHD; DDHD domain</td>\n",
       "    </tr>\n",
       "    <tr>\n",
       "      <th>46</th>\n",
       "      <td>PC272</td>\n",
       "      <td>27</td>\n",
       "      <td>PC163</td>\n",
       "      <td>AAA_8; Dynein heavy chain, P-loop containing D...</td>\n",
       "    </tr>\n",
       "    <tr>\n",
       "      <th>47</th>\n",
       "      <td>PC275</td>\n",
       "      <td>27</td>\n",
       "      <td>PC163</td>\n",
       "      <td>AAA_8; Dynein heavy chain, P-loop containing D...</td>\n",
       "    </tr>\n",
       "  </tbody>\n",
       "</table>\n",
       "</div>"
      ],
      "text/plain": [
       "   pca-component_x  domain-number pca-component_y  \\\n",
       "0              PC2            540             PC2   \n",
       "1              PC5            401           PC180   \n",
       "2              PC8             55            PC41   \n",
       "3             PC10            341            PC57   \n",
       "4             PC13             83            PC21   \n",
       "5             PC22           2316           PC152   \n",
       "6             PC23            463             PC9   \n",
       "7             PC24             77            PC55   \n",
       "8             PC30            384            PC26   \n",
       "9             PC31            384            PC26   \n",
       "10            PC36            892            PC28   \n",
       "11            PC40            572           PC183   \n",
       "12            PC44            841           PC154   \n",
       "13            PC46            446           PC113   \n",
       "14            PC54            876            PC75   \n",
       "15            PC54            876            PC76   \n",
       "16            PC80           2575           PC166   \n",
       "17            PC94            118           PC186   \n",
       "18           PC102            118           PC186   \n",
       "19            PC95           1194           PC271   \n",
       "20           PC104           1743           PC255   \n",
       "21           PC106           1993           PC231   \n",
       "22           PC108            250           PC130   \n",
       "23           PC108            250           PC131   \n",
       "24           PC127            250           PC130   \n",
       "25           PC127            250           PC131   \n",
       "26           PC111            404           PC122   \n",
       "27           PC124            302           PC196   \n",
       "28           PC125            302           PC196   \n",
       "29           PC157            934           PC151   \n",
       "30           PC162            778           PC173   \n",
       "31           PC175             11           PC141   \n",
       "32           PC177             11           PC141   \n",
       "33           PC276             11           PC141   \n",
       "34           PC178           1396           PC135   \n",
       "35           PC178           1396           PC137   \n",
       "36           PC186           2178           PC194   \n",
       "37           PC190           2178           PC194   \n",
       "38           PC192            647           PC176   \n",
       "39           PC196           1575            PC46   \n",
       "40           PC203            412            PC54   \n",
       "41           PC221           2165           PC223   \n",
       "42           PC223           1843           PC117   \n",
       "43           PC226           1086           PC156   \n",
       "44           PC269             35           PC177   \n",
       "45           PC270            569           PC246   \n",
       "46           PC272             27           PC163   \n",
       "47           PC275             27           PC163   \n",
       "\n",
       "                                   domain-description  \n",
       "0           Cytochrome_B; Cytochrome b/b6, N-terminal  \n",
       "1                                               COX7a  \n",
       "2                                                 ADK  \n",
       "3   CDP-OH_P_transf; CDP-alcohol phosphatidyltrans...  \n",
       "4        ANAPC1; Anaphase-promoting complex subunit 1  \n",
       "5           SGTA_dimer; SGTA, homodimerisation domain  \n",
       "6         Chitin_synth_1N; Chitin synthase N-terminal  \n",
       "7        AMP-binding; AMP-dependent synthetase/ligase  \n",
       "8   COPI_assoc; Golgi apparatus membrane protein T...  \n",
       "9   COPI_assoc; Golgi apparatus membrane protein T...  \n",
       "10                         FSH1; Serine hydrolase FSH  \n",
       "11                DEAD; DEAD/DEAH box helicase domain  \n",
       "12  Endonuclease_NS; DNA/RNA non-specific endonucl...  \n",
       "13                     Catalase; Catalase core domain  \n",
       "14  FDX-ACB; Ferrodoxin-fold anticodon-binding domain  \n",
       "15  FDX-ACB; Ferrodoxin-fold anticodon-binding domain  \n",
       "16  TFIID-18kDa; Transcription initiation factor I...  \n",
       "17  ATP-grasp; ATP-grasp fold, ATP-dependent carbo...  \n",
       "18  ATP-grasp; ATP-grasp fold, ATP-dependent carbo...  \n",
       "19                                     Hydrolase_like  \n",
       "20                                              PHD_2  \n",
       "21  RMI1_N; RecQ mediated genome instability prote...  \n",
       "22                    B3_4; B3/B4 tRNA-binding domain  \n",
       "23                    B3_4; B3/B4 tRNA-binding domain  \n",
       "24                    B3_4; B3/B4 tRNA-binding domain  \n",
       "25                    B3_4; B3/B4 tRNA-binding domain  \n",
       "26  CPSF100_C; Cleavage and polyadenylation specif...  \n",
       "27                                  Brix; Brix domain  \n",
       "28                                  Brix; Brix domain  \n",
       "29                                         Folliculin  \n",
       "30  E1_UFD; Ubiquitin-activating enzyme E1, C-term...  \n",
       "31  5-FTHF_cyc-lig; 5-formyltetrahydrofolate cyclo...  \n",
       "32  5-FTHF_cyc-lig; 5-formyltetrahydrofolate cyclo...  \n",
       "33  5-FTHF_cyc-lig; 5-formyltetrahydrofolate cyclo...  \n",
       "34                                    MRG; MRG domain  \n",
       "35                                    MRG; MRG domain  \n",
       "36               Ribosomal_L27; Ribosomal protein L27  \n",
       "37               Ribosomal_L27; Ribosomal protein L27  \n",
       "38        DUF1691; Domain of unknown function DUF1691  \n",
       "39  NOC3p; Nucleolar complex-associated protein 3,...  \n",
       "40          CRAL_TRIO_N; CRAL/TRIO, N-terminal domain  \n",
       "41  Ribosomal_L18A; Ribosomal protein 50S-L18Ae/60...  \n",
       "42                                  PWWP; PWWP domain  \n",
       "43                        Gti1_Pac2; Gti1/Pac2 family  \n",
       "44    AA_permease; Amino acid permease/ SLC12A domain  \n",
       "45                                  DDHD; DDHD domain  \n",
       "46  AAA_8; Dynein heavy chain, P-loop containing D...  \n",
       "47  AAA_8; Dynein heavy chain, P-loop containing D...  "
      ]
     },
     "execution_count": 22,
     "metadata": {},
     "output_type": "execute_result"
    }
   ],
   "source": [
    "df_shared_domains=pd.merge(df_sl,df_nsl,how='inner',on='domain-number')\n",
    "domains_name=np.unique(data_domains['domain-name'])\n",
    "domains_description=np.unique(data_domains['domain-descrip'])\n",
    "\n",
    "df_shared_domains['domain-description']=domains_description[df_shared_domains['domain-number']]\n",
    "\n",
    "\n",
    "df_shared_domains"
   ]
  },
  {
   "cell_type": "code",
   "execution_count": 23,
   "metadata": {
    "execution": {
     "iopub.execute_input": "2020-08-14T12:19:02.210437Z",
     "iopub.status.busy": "2020-08-14T12:19:02.209238Z",
     "iopub.status.idle": "2020-08-14T12:19:02.217396Z",
     "shell.execute_reply": "2020-08-14T12:19:02.218317Z"
    }
   },
   "outputs": [
    {
     "name": "stdout",
     "output_type": "stream",
     "text": [
      "The number of shared domains between SL and nSL pairs,after PCA, is =  48 out of 555 so the 8.64864864864865 %\n"
     ]
    }
   ],
   "source": [
    "print('The number of shared domains between SL and nSL pairs,after PCA, is = ',len(df_shared_domains), 'out of', len(df_sl)+len(df_nsl), 'so the',100*len(df_shared_domains)/(len(df_sl)+len(df_nsl)),'%')"
   ]
  },
  {
   "cell_type": "markdown",
   "metadata": {},
   "source": [
    "## Domains exclusive to SL"
   ]
  },
  {
   "cell_type": "code",
   "execution_count": 24,
   "metadata": {
    "execution": {
     "iopub.execute_input": "2020-08-14T12:19:02.221774Z",
     "iopub.status.busy": "2020-08-14T12:19:02.220671Z",
     "iopub.status.idle": "2020-08-14T12:19:02.252506Z",
     "shell.execute_reply": "2020-08-14T12:19:02.253453Z"
    }
   },
   "outputs": [
    {
     "data": {
      "text/html": [
       "<div>\n",
       "<style scoped>\n",
       "    .dataframe tbody tr th:only-of-type {\n",
       "        vertical-align: middle;\n",
       "    }\n",
       "\n",
       "    .dataframe tbody tr th {\n",
       "        vertical-align: top;\n",
       "    }\n",
       "\n",
       "    .dataframe thead th {\n",
       "        text-align: right;\n",
       "    }\n",
       "</style>\n",
       "<table border=\"1\" class=\"dataframe\">\n",
       "  <thead>\n",
       "    <tr style=\"text-align: right;\">\n",
       "      <th></th>\n",
       "      <th>pca-component_x</th>\n",
       "      <th>domain-number</th>\n",
       "      <th>pca-component_y</th>\n",
       "      <th>domain-description</th>\n",
       "    </tr>\n",
       "  </thead>\n",
       "  <tbody>\n",
       "    <tr>\n",
       "      <th>0</th>\n",
       "      <td>PC0</td>\n",
       "      <td>957</td>\n",
       "      <td>NaN</td>\n",
       "      <td>GAT; GAT domain</td>\n",
       "    </tr>\n",
       "    <tr>\n",
       "      <th>1</th>\n",
       "      <td>PC1</td>\n",
       "      <td>2771</td>\n",
       "      <td>NaN</td>\n",
       "      <td>Ubiq-assoc; Ubiquitin-associated domain, SWA2-...</td>\n",
       "    </tr>\n",
       "    <tr>\n",
       "      <th>3</th>\n",
       "      <td>PC3</td>\n",
       "      <td>161</td>\n",
       "      <td>NaN</td>\n",
       "      <td>Acyl-CoA_ox_N; Acyl-coenzyme A oxidase, N-term...</td>\n",
       "    </tr>\n",
       "    <tr>\n",
       "      <th>4</th>\n",
       "      <td>PC4</td>\n",
       "      <td>202</td>\n",
       "      <td>NaN</td>\n",
       "      <td>Aminotran_1_2; Aminotransferase, class I/classII</td>\n",
       "    </tr>\n",
       "    <tr>\n",
       "      <th>6</th>\n",
       "      <td>PC6</td>\n",
       "      <td>1055</td>\n",
       "      <td>NaN</td>\n",
       "      <td>Glyco_hydro_63N; Glycosyl hydrolase family 63,...</td>\n",
       "    </tr>\n",
       "    <tr>\n",
       "      <th>...</th>\n",
       "      <td>...</td>\n",
       "      <td>...</td>\n",
       "      <td>...</td>\n",
       "      <td>...</td>\n",
       "    </tr>\n",
       "    <tr>\n",
       "      <th>277</th>\n",
       "      <td>PC273</td>\n",
       "      <td>1233</td>\n",
       "      <td>NaN</td>\n",
       "      <td>Inhibitor_I9; Peptidase S8 propeptide/proteina...</td>\n",
       "    </tr>\n",
       "    <tr>\n",
       "      <th>278</th>\n",
       "      <td>PC274</td>\n",
       "      <td>80</td>\n",
       "      <td>NaN</td>\n",
       "      <td>AMPKBI; Association with the SNF1 complex (ASC...</td>\n",
       "    </tr>\n",
       "    <tr>\n",
       "      <th>281</th>\n",
       "      <td>PC277</td>\n",
       "      <td>2371</td>\n",
       "      <td>NaN</td>\n",
       "      <td>SPT2; Chromatin SPT2</td>\n",
       "    </tr>\n",
       "    <tr>\n",
       "      <th>282</th>\n",
       "      <td>PC278</td>\n",
       "      <td>1561</td>\n",
       "      <td>NaN</td>\n",
       "      <td>NDC10_II; Ndc10, domain 2</td>\n",
       "    </tr>\n",
       "    <tr>\n",
       "      <th>283</th>\n",
       "      <td>PC279</td>\n",
       "      <td>1627</td>\n",
       "      <td>NaN</td>\n",
       "      <td>Not3; CCR4-Not complex component, Not N-termin...</td>\n",
       "    </tr>\n",
       "  </tbody>\n",
       "</table>\n",
       "<p>236 rows × 4 columns</p>\n",
       "</div>"
      ],
      "text/plain": [
       "    pca-component_x  domain-number pca-component_y  \\\n",
       "0               PC0            957             NaN   \n",
       "1               PC1           2771             NaN   \n",
       "3               PC3            161             NaN   \n",
       "4               PC4            202             NaN   \n",
       "6               PC6           1055             NaN   \n",
       "..              ...            ...             ...   \n",
       "277           PC273           1233             NaN   \n",
       "278           PC274             80             NaN   \n",
       "281           PC277           2371             NaN   \n",
       "282           PC278           1561             NaN   \n",
       "283           PC279           1627             NaN   \n",
       "\n",
       "                                    domain-description  \n",
       "0                                      GAT; GAT domain  \n",
       "1    Ubiq-assoc; Ubiquitin-associated domain, SWA2-...  \n",
       "3    Acyl-CoA_ox_N; Acyl-coenzyme A oxidase, N-term...  \n",
       "4     Aminotran_1_2; Aminotransferase, class I/classII  \n",
       "6    Glyco_hydro_63N; Glycosyl hydrolase family 63,...  \n",
       "..                                                 ...  \n",
       "277  Inhibitor_I9; Peptidase S8 propeptide/proteina...  \n",
       "278  AMPKBI; Association with the SNF1 complex (ASC...  \n",
       "281                               SPT2; Chromatin SPT2  \n",
       "282                          NDC10_II; Ndc10, domain 2  \n",
       "283  Not3; CCR4-Not complex component, Not N-termin...  \n",
       "\n",
       "[236 rows x 4 columns]"
      ]
     },
     "execution_count": 24,
     "metadata": {},
     "output_type": "execute_result"
    }
   ],
   "source": [
    "df_sl_exclusive=pd.merge(df_sl,df_nsl,how='left',on='domain-number')\n",
    "\n",
    "domains_name=np.unique(data_domains['domain-name'])\n",
    "domains_description=np.unique(data_domains['domain-descrip'])\n",
    "\n",
    "df_sl_exclusive['domain-description']=domains_description[df_sl_exclusive['domain-number']]\n",
    "df_sl_exclusive[pd.isnull(df_sl_exclusive['pca-component_y'])]"
   ]
  },
  {
   "cell_type": "code",
   "execution_count": 25,
   "metadata": {
    "execution": {
     "iopub.execute_input": "2020-08-14T12:19:02.257047Z",
     "iopub.status.busy": "2020-08-14T12:19:02.255834Z",
     "iopub.status.idle": "2020-08-14T12:19:02.263828Z",
     "shell.execute_reply": "2020-08-14T12:19:02.263066Z"
    }
   },
   "outputs": [
    {
     "name": "stdout",
     "output_type": "stream",
     "text": [
      "The number of exclusive domains from SL pairs, after PCA, is =  284 out of 555 so the 51.171171171171174 %\n"
     ]
    }
   ],
   "source": [
    "print('The number of exclusive domains from SL pairs, after PCA, is = ',len(df_sl_exclusive), 'out of', len(df_sl)+len(df_nsl), 'so the',100*len(df_sl_exclusive)/(len(df_sl)+len(df_nsl)),'%')"
   ]
  },
  {
   "cell_type": "code",
   "execution_count": 26,
   "metadata": {
    "execution": {
     "iopub.execute_input": "2020-08-14T12:19:02.283988Z",
     "iopub.status.busy": "2020-08-14T12:19:02.269249Z",
     "iopub.status.idle": "2020-08-14T12:19:02.298073Z",
     "shell.execute_reply": "2020-08-14T12:19:02.297573Z"
    }
   },
   "outputs": [
    {
     "data": {
      "text/html": [
       "<div>\n",
       "<style scoped>\n",
       "    .dataframe tbody tr th:only-of-type {\n",
       "        vertical-align: middle;\n",
       "    }\n",
       "\n",
       "    .dataframe tbody tr th {\n",
       "        vertical-align: top;\n",
       "    }\n",
       "\n",
       "    .dataframe thead th {\n",
       "        text-align: right;\n",
       "    }\n",
       "</style>\n",
       "<table border=\"1\" class=\"dataframe\">\n",
       "  <thead>\n",
       "    <tr style=\"text-align: right;\">\n",
       "      <th></th>\n",
       "      <th>pca-component_x</th>\n",
       "      <th>domain-number</th>\n",
       "      <th>pca-component_y</th>\n",
       "      <th>domain-description</th>\n",
       "    </tr>\n",
       "  </thead>\n",
       "  <tbody>\n",
       "    <tr>\n",
       "      <th>0</th>\n",
       "      <td>NaN</td>\n",
       "      <td>1028</td>\n",
       "      <td>PC0</td>\n",
       "      <td>GatB_Yqey; Asn/Gln amidotransferase</td>\n",
       "    </tr>\n",
       "    <tr>\n",
       "      <th>1</th>\n",
       "      <td>NaN</td>\n",
       "      <td>305</td>\n",
       "      <td>PC1</td>\n",
       "      <td>Brr6_like_C_C; Brl1/Brr6 domain</td>\n",
       "    </tr>\n",
       "    <tr>\n",
       "      <th>3</th>\n",
       "      <td>NaN</td>\n",
       "      <td>1175</td>\n",
       "      <td>PC3</td>\n",
       "      <td>Hist_deacetyl; Histone deacetylase domain</td>\n",
       "    </tr>\n",
       "    <tr>\n",
       "      <th>4</th>\n",
       "      <td>NaN</td>\n",
       "      <td>269</td>\n",
       "      <td>PC4</td>\n",
       "      <td>BING4CT; BING4, C-terminal domain</td>\n",
       "    </tr>\n",
       "    <tr>\n",
       "      <th>5</th>\n",
       "      <td>NaN</td>\n",
       "      <td>308</td>\n",
       "      <td>PC5</td>\n",
       "      <td>Bul1_N; Bul1, N-terminal</td>\n",
       "    </tr>\n",
       "    <tr>\n",
       "      <th>...</th>\n",
       "      <td>...</td>\n",
       "      <td>...</td>\n",
       "      <td>...</td>\n",
       "      <td>...</td>\n",
       "    </tr>\n",
       "    <tr>\n",
       "      <th>278</th>\n",
       "      <td>NaN</td>\n",
       "      <td>1250</td>\n",
       "      <td>PC268</td>\n",
       "      <td>JAB; JAB1/MPN/MOV34 metalloenzyme domain</td>\n",
       "    </tr>\n",
       "    <tr>\n",
       "      <th>279</th>\n",
       "      <td>NaN</td>\n",
       "      <td>2177</td>\n",
       "      <td>PC269</td>\n",
       "      <td>Ribosomal_L26; Ribosomal protein L26/L24, euka...</td>\n",
       "    </tr>\n",
       "    <tr>\n",
       "      <th>280</th>\n",
       "      <td>NaN</td>\n",
       "      <td>732</td>\n",
       "      <td>PC270</td>\n",
       "      <td>DUF572; CWC16 protein</td>\n",
       "    </tr>\n",
       "    <tr>\n",
       "      <th>282</th>\n",
       "      <td>NaN</td>\n",
       "      <td>1429</td>\n",
       "      <td>PC273</td>\n",
       "      <td>Mcl1_mid; Minichromosome loss protein Mcl1, mi...</td>\n",
       "    </tr>\n",
       "    <tr>\n",
       "      <th>283</th>\n",
       "      <td>NaN</td>\n",
       "      <td>6</td>\n",
       "      <td>PC274</td>\n",
       "      <td>2OG-FeII_Oxy_4</td>\n",
       "    </tr>\n",
       "  </tbody>\n",
       "</table>\n",
       "<p>236 rows × 4 columns</p>\n",
       "</div>"
      ],
      "text/plain": [
       "    pca-component_x  domain-number pca-component_y  \\\n",
       "0               NaN           1028             PC0   \n",
       "1               NaN            305             PC1   \n",
       "3               NaN           1175             PC3   \n",
       "4               NaN            269             PC4   \n",
       "5               NaN            308             PC5   \n",
       "..              ...            ...             ...   \n",
       "278             NaN           1250           PC268   \n",
       "279             NaN           2177           PC269   \n",
       "280             NaN            732           PC270   \n",
       "282             NaN           1429           PC273   \n",
       "283             NaN              6           PC274   \n",
       "\n",
       "                                    domain-description  \n",
       "0                  GatB_Yqey; Asn/Gln amidotransferase  \n",
       "1                      Brr6_like_C_C; Brl1/Brr6 domain  \n",
       "3            Hist_deacetyl; Histone deacetylase domain  \n",
       "4                    BING4CT; BING4, C-terminal domain  \n",
       "5                             Bul1_N; Bul1, N-terminal  \n",
       "..                                                 ...  \n",
       "278           JAB; JAB1/MPN/MOV34 metalloenzyme domain  \n",
       "279  Ribosomal_L26; Ribosomal protein L26/L24, euka...  \n",
       "280                              DUF572; CWC16 protein  \n",
       "282  Mcl1_mid; Minichromosome loss protein Mcl1, mi...  \n",
       "283                                     2OG-FeII_Oxy_4  \n",
       "\n",
       "[236 rows x 4 columns]"
      ]
     },
     "execution_count": 26,
     "metadata": {},
     "output_type": "execute_result"
    }
   ],
   "source": [
    "df_nsl_exclusive=pd.merge(df_sl,df_nsl,how='right',on='domain-number')\n",
    "\n",
    "domains_name=np.unique(data_domains['domain-name'])\n",
    "domains_description=np.unique(data_domains['domain-descrip'])\n",
    "\n",
    "df_nsl_exclusive['domain-description']=domains_description[df_nsl_exclusive['domain-number']]\n",
    "df_nsl_exclusive[pd.isnull(df_nsl_exclusive['pca-component_x'])]"
   ]
  },
  {
   "cell_type": "code",
   "execution_count": 27,
   "metadata": {
    "execution": {
     "iopub.execute_input": "2020-08-14T12:19:02.303513Z",
     "iopub.status.busy": "2020-08-14T12:19:02.302782Z",
     "iopub.status.idle": "2020-08-14T12:19:02.307075Z",
     "shell.execute_reply": "2020-08-14T12:19:02.306576Z"
    }
   },
   "outputs": [
    {
     "name": "stdout",
     "output_type": "stream",
     "text": [
      "The number of exclusive domains from non SL pairs, after PCA, is =  284 out of 555 so the 51.171171171171174 %\n"
     ]
    }
   ],
   "source": [
    "print('The number of exclusive domains from non SL pairs, after PCA, is = ',len(df_nsl_exclusive), 'out of', len(df_sl)+len(df_nsl), 'so the',100*len(df_nsl_exclusive)/(len(df_sl)+len(df_nsl)),'%')"
   ]
  },
  {
   "cell_type": "markdown",
   "metadata": {},
   "source": [
    "## Let see to the domains-number that get repeated after the PCA analysis , and selecting the most explanatory feature by its explained variance."
   ]
  },
  {
   "cell_type": "code",
   "execution_count": 28,
   "metadata": {
    "execution": {
     "iopub.execute_input": "2020-08-14T12:19:02.329471Z",
     "iopub.status.busy": "2020-08-14T12:19:02.323463Z",
     "iopub.status.idle": "2020-08-14T12:19:02.331590Z",
     "shell.execute_reply": "2020-08-14T12:19:02.332055Z"
    }
   },
   "outputs": [],
   "source": [
    "duplicated_features_sl=df_sl[df_sl.iloc[:,1].duplicated()]\n",
    "repeated_features_sl=pd.DataFrame()\n",
    "\n",
    "domains_name=np.unique(data_domains['domain-name'])\n",
    "domains_description=np.unique(data_domains['domain-descrip'])\n",
    "\n",
    "repeated_features_sl['domain-name']=domains_name[duplicated_features_sl.iloc[:,1]] \n",
    "repeated_features_sl['domain-description']=domains_description[duplicated_features_sl.iloc[:,1]]\n",
    "\n",
    "duplicated_features_nsl=df_nsl[df_nsl.iloc[:,1].duplicated()]\n",
    "repeated_features_nsl=pd.DataFrame()\n",
    "\n",
    "repeated_features_nsl['domain-name']=domains_name[duplicated_features_nsl.iloc[:,1]] \n",
    "repeated_features_nsl['domain-description']=domains_description[duplicated_features_nsl.iloc[:,1]]"
   ]
  },
  {
   "cell_type": "code",
   "execution_count": 29,
   "metadata": {
    "execution": {
     "iopub.execute_input": "2020-08-14T12:19:02.344775Z",
     "iopub.status.busy": "2020-08-14T12:19:02.341477Z",
     "iopub.status.idle": "2020-08-14T12:19:02.348378Z",
     "shell.execute_reply": "2020-08-14T12:19:02.347810Z"
    }
   },
   "outputs": [
    {
     "name": "stderr",
     "output_type": "stream",
     "text": [
      "/usr/share/miniconda3/envs/wintest/lib/python3.7/site-packages/ipykernel_launcher.py:3: SettingWithCopyWarning: \n",
      "A value is trying to be set on a copy of a slice from a DataFrame.\n",
      "Try using .loc[row_indexer,col_indexer] = value instead\n",
      "\n",
      "See the caveats in the documentation: https://pandas.pydata.org/pandas-docs/stable/user_guide/indexing.html#returning-a-view-versus-a-copy\n",
      "  This is separate from the ipykernel package so we can avoid doing imports until\n"
     ]
    },
    {
     "data": {
      "text/plain": [
       "((46, 4), (284, 4))"
      ]
     },
     "execution_count": 29,
     "metadata": {},
     "output_type": "execute_result"
    }
   ],
   "source": [
    "only_sl_pd=pd.merge(repeated_features_sl,repeated_features_nsl,how='left',on=['domain-name'])\n",
    "data_only_sl = only_sl_pd[pd.isnull(only_sl_pd['domain-description_y'])]\n",
    "data_only_sl['domain-description']=data_only_sl['domain-description_x']\n",
    "data_only_sl.shape,df_sl_exclusive.shape"
   ]
  },
  {
   "cell_type": "code",
   "execution_count": 30,
   "metadata": {
    "execution": {
     "iopub.execute_input": "2020-08-14T12:19:02.368540Z",
     "iopub.status.busy": "2020-08-14T12:19:02.367866Z",
     "iopub.status.idle": "2020-08-14T12:19:02.371184Z",
     "shell.execute_reply": "2020-08-14T12:19:02.371662Z"
    }
   },
   "outputs": [
    {
     "data": {
      "text/html": [
       "<div>\n",
       "<style scoped>\n",
       "    .dataframe tbody tr th:only-of-type {\n",
       "        vertical-align: middle;\n",
       "    }\n",
       "\n",
       "    .dataframe tbody tr th {\n",
       "        vertical-align: top;\n",
       "    }\n",
       "\n",
       "    .dataframe thead th {\n",
       "        text-align: right;\n",
       "    }\n",
       "</style>\n",
       "<table border=\"1\" class=\"dataframe\">\n",
       "  <thead>\n",
       "    <tr style=\"text-align: right;\">\n",
       "      <th></th>\n",
       "      <th>domain-name</th>\n",
       "      <th>domain-description_x</th>\n",
       "      <th>domain-description_y</th>\n",
       "    </tr>\n",
       "  </thead>\n",
       "  <tbody>\n",
       "    <tr>\n",
       "      <th>0</th>\n",
       "      <td>PF02671</td>\n",
       "      <td>NaN</td>\n",
       "      <td>Flp_C; Recombinase Flp protein</td>\n",
       "    </tr>\n",
       "    <tr>\n",
       "      <th>1</th>\n",
       "      <td>PF13086</td>\n",
       "      <td>NaN</td>\n",
       "      <td>THOC7; THO complex subunit 7/Mft1</td>\n",
       "    </tr>\n",
       "    <tr>\n",
       "      <th>2</th>\n",
       "      <td>PF00817</td>\n",
       "      <td>NaN</td>\n",
       "      <td>COX5A; Cytochrome c oxidase, subunit Va/VI</td>\n",
       "    </tr>\n",
       "    <tr>\n",
       "      <th>3</th>\n",
       "      <td>PF05131</td>\n",
       "      <td>NaN</td>\n",
       "      <td>Mit_ribos_Mrp51; Mitochondrial ribosomal prote...</td>\n",
       "    </tr>\n",
       "    <tr>\n",
       "      <th>4</th>\n",
       "      <td>PF02364</td>\n",
       "      <td>NaN</td>\n",
       "      <td>FDX-ACB; Ferrodoxin-fold anticodon-binding domain</td>\n",
       "    </tr>\n",
       "    <tr>\n",
       "      <th>5</th>\n",
       "      <td>PF01363</td>\n",
       "      <td>NaN</td>\n",
       "      <td>DNA_RNApol_7kD; RNA polymerase archaeal subuni...</td>\n",
       "    </tr>\n",
       "    <tr>\n",
       "      <th>6</th>\n",
       "      <td>PF01435</td>\n",
       "      <td>NaN</td>\n",
       "      <td>DSPc; Dual specificity phosphatase, catalytic ...</td>\n",
       "    </tr>\n",
       "    <tr>\n",
       "      <th>7</th>\n",
       "      <td>PF01435</td>\n",
       "      <td>NaN</td>\n",
       "      <td>DSPc; Dual specificity phosphatase, catalytic ...</td>\n",
       "    </tr>\n",
       "    <tr>\n",
       "      <th>8</th>\n",
       "      <td>PF06839</td>\n",
       "      <td>NaN</td>\n",
       "      <td>P21-Arc; Actin-related protein 2/3 complex sub...</td>\n",
       "    </tr>\n",
       "    <tr>\n",
       "      <th>9</th>\n",
       "      <td>PF06479</td>\n",
       "      <td>NaN</td>\n",
       "      <td>ORC5_C; Origin recognition complex, subunit 5</td>\n",
       "    </tr>\n",
       "    <tr>\n",
       "      <th>10</th>\n",
       "      <td>PF06479</td>\n",
       "      <td>NaN</td>\n",
       "      <td>ORC5_C; Origin recognition complex, subunit 5</td>\n",
       "    </tr>\n",
       "    <tr>\n",
       "      <th>11</th>\n",
       "      <td>PF06544</td>\n",
       "      <td>NaN</td>\n",
       "      <td>ORMDL; ORMDL family</td>\n",
       "    </tr>\n",
       "    <tr>\n",
       "      <th>12</th>\n",
       "      <td>PF03657</td>\n",
       "      <td>NaN</td>\n",
       "      <td>Hat1_N; Histone acetyl transferase HAT1 N-term...</td>\n",
       "    </tr>\n",
       "    <tr>\n",
       "      <th>13</th>\n",
       "      <td>PF02223</td>\n",
       "      <td>NaN</td>\n",
       "      <td>Exo70; Exocyst complex component Exo70</td>\n",
       "    </tr>\n",
       "    <tr>\n",
       "      <th>14</th>\n",
       "      <td>PF00557</td>\n",
       "      <td>NaN</td>\n",
       "      <td>BCS1_N; BCS1, N-terminal</td>\n",
       "    </tr>\n",
       "    <tr>\n",
       "      <th>16</th>\n",
       "      <td>PF04670</td>\n",
       "      <td>NaN</td>\n",
       "      <td>MRG; MRG domain</td>\n",
       "    </tr>\n",
       "    <tr>\n",
       "      <th>17</th>\n",
       "      <td>PF04729</td>\n",
       "      <td>NaN</td>\n",
       "      <td>MTHFR; Methylenetetrahydrofolate reductase</td>\n",
       "    </tr>\n",
       "    <tr>\n",
       "      <th>18</th>\n",
       "      <td>PF00179</td>\n",
       "      <td>NaN</td>\n",
       "      <td>ANAPC3</td>\n",
       "    </tr>\n",
       "    <tr>\n",
       "      <th>19</th>\n",
       "      <td>PF04420</td>\n",
       "      <td>NaN</td>\n",
       "      <td>MAM33; Mitochondrial glycoprotein</td>\n",
       "    </tr>\n",
       "    <tr>\n",
       "      <th>20</th>\n",
       "      <td>PF03452</td>\n",
       "      <td>NaN</td>\n",
       "      <td>HHH_5</td>\n",
       "    </tr>\n",
       "    <tr>\n",
       "      <th>21</th>\n",
       "      <td>PF05186</td>\n",
       "      <td>NaN</td>\n",
       "      <td>Motile_Sperm; Major sperm protein (MSP) domain</td>\n",
       "    </tr>\n",
       "    <tr>\n",
       "      <th>22</th>\n",
       "      <td>PF12451</td>\n",
       "      <td>NaN</td>\n",
       "      <td>SnAC; Snf2, ATP coupling domain</td>\n",
       "    </tr>\n",
       "    <tr>\n",
       "      <th>23</th>\n",
       "      <td>PF02541</td>\n",
       "      <td>NaN</td>\n",
       "      <td>Fe-ADH; Alcohol dehydrogenase, iron-type</td>\n",
       "    </tr>\n",
       "    <tr>\n",
       "      <th>24</th>\n",
       "      <td>PF02541</td>\n",
       "      <td>NaN</td>\n",
       "      <td>Fe-ADH; Alcohol dehydrogenase, iron-type</td>\n",
       "    </tr>\n",
       "    <tr>\n",
       "      <th>25</th>\n",
       "      <td>PF04893</td>\n",
       "      <td>NaN</td>\n",
       "      <td>Med22; Mediator of RNA polymerase II transcrip...</td>\n",
       "    </tr>\n",
       "    <tr>\n",
       "      <th>26</th>\n",
       "      <td>PF04893</td>\n",
       "      <td>NaN</td>\n",
       "      <td>Med22; Mediator of RNA polymerase II transcrip...</td>\n",
       "    </tr>\n",
       "    <tr>\n",
       "      <th>27</th>\n",
       "      <td>PF04893</td>\n",
       "      <td>NaN</td>\n",
       "      <td>Med22; Mediator of RNA polymerase II transcrip...</td>\n",
       "    </tr>\n",
       "    <tr>\n",
       "      <th>28</th>\n",
       "      <td>PF04893</td>\n",
       "      <td>NaN</td>\n",
       "      <td>Med22; Mediator of RNA polymerase II transcrip...</td>\n",
       "    </tr>\n",
       "    <tr>\n",
       "      <th>29</th>\n",
       "      <td>PF10521</td>\n",
       "      <td>NaN</td>\n",
       "      <td>SH2_2</td>\n",
       "    </tr>\n",
       "    <tr>\n",
       "      <th>30</th>\n",
       "      <td>PF01585</td>\n",
       "      <td>NaN</td>\n",
       "      <td>DUF2407; Domain of unknown function DUF2407 N-...</td>\n",
       "    </tr>\n",
       "    <tr>\n",
       "      <th>31</th>\n",
       "      <td>PF13520</td>\n",
       "      <td>NaN</td>\n",
       "      <td>Tfb2; Transcription factor TFIIH subunit p52/Tfb2</td>\n",
       "    </tr>\n",
       "    <tr>\n",
       "      <th>32</th>\n",
       "      <td>PF14304</td>\n",
       "      <td>NaN</td>\n",
       "      <td>UBA_3; Ubiquitin-conjugating enzyme, C-termina...</td>\n",
       "    </tr>\n",
       "    <tr>\n",
       "      <th>33</th>\n",
       "      <td>PF00909</td>\n",
       "      <td>NaN</td>\n",
       "      <td>CTD</td>\n",
       "    </tr>\n",
       "    <tr>\n",
       "      <th>34</th>\n",
       "      <td>PF03935</td>\n",
       "      <td>NaN</td>\n",
       "      <td>IF-2B; Initiation factor 2B-related</td>\n",
       "    </tr>\n",
       "    <tr>\n",
       "      <th>35</th>\n",
       "      <td>PF01529</td>\n",
       "      <td>NaN</td>\n",
       "      <td>DUF1752; Protein of unknown function DUF1752, ...</td>\n",
       "    </tr>\n",
       "    <tr>\n",
       "      <th>36</th>\n",
       "      <td>PF10198</td>\n",
       "      <td>NaN</td>\n",
       "      <td>Ribosomal_L5; Ribosomal protein L5, N-terminal</td>\n",
       "    </tr>\n",
       "    <tr>\n",
       "      <th>37</th>\n",
       "      <td>PF10315</td>\n",
       "      <td>NaN</td>\n",
       "      <td>Ribosomal_S7; Ribosomal protein S7 domain</td>\n",
       "    </tr>\n",
       "    <tr>\n",
       "      <th>38</th>\n",
       "      <td>PF08314</td>\n",
       "      <td>NaN</td>\n",
       "      <td>Peptidase_M3; Peptidase M3A/M3B catalytic domain</td>\n",
       "    </tr>\n",
       "    <tr>\n",
       "      <th>39</th>\n",
       "      <td>PF10153</td>\n",
       "      <td>NaN</td>\n",
       "      <td>Ribosomal_L36e; Ribosomal protein L36e</td>\n",
       "    </tr>\n",
       "    <tr>\n",
       "      <th>40</th>\n",
       "      <td>PF01015</td>\n",
       "      <td>NaN</td>\n",
       "      <td>Ceramidase</td>\n",
       "    </tr>\n",
       "    <tr>\n",
       "      <th>41</th>\n",
       "      <td>PF11831</td>\n",
       "      <td>NaN</td>\n",
       "      <td>Sad1_UNC; SUN domain</td>\n",
       "    </tr>\n",
       "  </tbody>\n",
       "</table>\n",
       "</div>"
      ],
      "text/plain": [
       "   domain-name domain-description_x  \\\n",
       "0      PF02671                  NaN   \n",
       "1      PF13086                  NaN   \n",
       "2      PF00817                  NaN   \n",
       "3      PF05131                  NaN   \n",
       "4      PF02364                  NaN   \n",
       "5      PF01363                  NaN   \n",
       "6      PF01435                  NaN   \n",
       "7      PF01435                  NaN   \n",
       "8      PF06839                  NaN   \n",
       "9      PF06479                  NaN   \n",
       "10     PF06479                  NaN   \n",
       "11     PF06544                  NaN   \n",
       "12     PF03657                  NaN   \n",
       "13     PF02223                  NaN   \n",
       "14     PF00557                  NaN   \n",
       "16     PF04670                  NaN   \n",
       "17     PF04729                  NaN   \n",
       "18     PF00179                  NaN   \n",
       "19     PF04420                  NaN   \n",
       "20     PF03452                  NaN   \n",
       "21     PF05186                  NaN   \n",
       "22     PF12451                  NaN   \n",
       "23     PF02541                  NaN   \n",
       "24     PF02541                  NaN   \n",
       "25     PF04893                  NaN   \n",
       "26     PF04893                  NaN   \n",
       "27     PF04893                  NaN   \n",
       "28     PF04893                  NaN   \n",
       "29     PF10521                  NaN   \n",
       "30     PF01585                  NaN   \n",
       "31     PF13520                  NaN   \n",
       "32     PF14304                  NaN   \n",
       "33     PF00909                  NaN   \n",
       "34     PF03935                  NaN   \n",
       "35     PF01529                  NaN   \n",
       "36     PF10198                  NaN   \n",
       "37     PF10315                  NaN   \n",
       "38     PF08314                  NaN   \n",
       "39     PF10153                  NaN   \n",
       "40     PF01015                  NaN   \n",
       "41     PF11831                  NaN   \n",
       "\n",
       "                                 domain-description_y  \n",
       "0                      Flp_C; Recombinase Flp protein  \n",
       "1                   THOC7; THO complex subunit 7/Mft1  \n",
       "2          COX5A; Cytochrome c oxidase, subunit Va/VI  \n",
       "3   Mit_ribos_Mrp51; Mitochondrial ribosomal prote...  \n",
       "4   FDX-ACB; Ferrodoxin-fold anticodon-binding domain  \n",
       "5   DNA_RNApol_7kD; RNA polymerase archaeal subuni...  \n",
       "6   DSPc; Dual specificity phosphatase, catalytic ...  \n",
       "7   DSPc; Dual specificity phosphatase, catalytic ...  \n",
       "8   P21-Arc; Actin-related protein 2/3 complex sub...  \n",
       "9       ORC5_C; Origin recognition complex, subunit 5  \n",
       "10      ORC5_C; Origin recognition complex, subunit 5  \n",
       "11                                ORMDL; ORMDL family  \n",
       "12  Hat1_N; Histone acetyl transferase HAT1 N-term...  \n",
       "13             Exo70; Exocyst complex component Exo70  \n",
       "14                           BCS1_N; BCS1, N-terminal  \n",
       "16                                    MRG; MRG domain  \n",
       "17         MTHFR; Methylenetetrahydrofolate reductase  \n",
       "18                                             ANAPC3  \n",
       "19                  MAM33; Mitochondrial glycoprotein  \n",
       "20                                              HHH_5  \n",
       "21     Motile_Sperm; Major sperm protein (MSP) domain  \n",
       "22                    SnAC; Snf2, ATP coupling domain  \n",
       "23           Fe-ADH; Alcohol dehydrogenase, iron-type  \n",
       "24           Fe-ADH; Alcohol dehydrogenase, iron-type  \n",
       "25  Med22; Mediator of RNA polymerase II transcrip...  \n",
       "26  Med22; Mediator of RNA polymerase II transcrip...  \n",
       "27  Med22; Mediator of RNA polymerase II transcrip...  \n",
       "28  Med22; Mediator of RNA polymerase II transcrip...  \n",
       "29                                              SH2_2  \n",
       "30  DUF2407; Domain of unknown function DUF2407 N-...  \n",
       "31  Tfb2; Transcription factor TFIIH subunit p52/Tfb2  \n",
       "32  UBA_3; Ubiquitin-conjugating enzyme, C-termina...  \n",
       "33                                                CTD  \n",
       "34                IF-2B; Initiation factor 2B-related  \n",
       "35  DUF1752; Protein of unknown function DUF1752, ...  \n",
       "36     Ribosomal_L5; Ribosomal protein L5, N-terminal  \n",
       "37          Ribosomal_S7; Ribosomal protein S7 domain  \n",
       "38   Peptidase_M3; Peptidase M3A/M3B catalytic domain  \n",
       "39             Ribosomal_L36e; Ribosomal protein L36e  \n",
       "40                                         Ceramidase  \n",
       "41                               Sad1_UNC; SUN domain  "
      ]
     },
     "execution_count": 30,
     "metadata": {},
     "output_type": "execute_result"
    }
   ],
   "source": [
    "only_nsl_pd=pd.merge(repeated_features_sl,repeated_features_nsl,how='right',on=['domain-name'])\n",
    "data_only_nsl = only_nsl_pd[pd.isnull(only_nsl_pd['domain-description_x'])]\n",
    "data_only_nsl"
   ]
  },
  {
   "cell_type": "code",
   "execution_count": 31,
   "metadata": {
    "execution": {
     "iopub.execute_input": "2020-08-14T12:19:02.384256Z",
     "iopub.status.busy": "2020-08-14T12:19:02.383663Z",
     "iopub.status.idle": "2020-08-14T12:19:02.386607Z",
     "shell.execute_reply": "2020-08-14T12:19:02.387060Z"
    }
   },
   "outputs": [
    {
     "data": {
      "text/html": [
       "<div>\n",
       "<style scoped>\n",
       "    .dataframe tbody tr th:only-of-type {\n",
       "        vertical-align: middle;\n",
       "    }\n",
       "\n",
       "    .dataframe tbody tr th {\n",
       "        vertical-align: top;\n",
       "    }\n",
       "\n",
       "    .dataframe thead th {\n",
       "        text-align: right;\n",
       "    }\n",
       "</style>\n",
       "<table border=\"1\" class=\"dataframe\">\n",
       "  <thead>\n",
       "    <tr style=\"text-align: right;\">\n",
       "      <th></th>\n",
       "      <th>domain-name</th>\n",
       "      <th>domain-description_x</th>\n",
       "      <th>domain-description_y</th>\n",
       "    </tr>\n",
       "  </thead>\n",
       "  <tbody>\n",
       "    <tr>\n",
       "      <th>0</th>\n",
       "      <td>PF00505</td>\n",
       "      <td>B3_4; B3/B4 tRNA-binding domain</td>\n",
       "      <td>B3_4; B3/B4 tRNA-binding domain</td>\n",
       "    </tr>\n",
       "  </tbody>\n",
       "</table>\n",
       "</div>"
      ],
      "text/plain": [
       "  domain-name             domain-description_x  \\\n",
       "0     PF00505  B3_4; B3/B4 tRNA-binding domain   \n",
       "\n",
       "              domain-description_y  \n",
       "0  B3_4; B3/B4 tRNA-binding domain  "
      ]
     },
     "execution_count": 31,
     "metadata": {},
     "output_type": "execute_result"
    }
   ],
   "source": [
    "shared_domains_pd=pd.merge(repeated_features_sl,repeated_features_nsl,how='inner',on=['domain-name'])\n",
    "shared_domains_pd\n"
   ]
  },
  {
   "cell_type": "code",
   "execution_count": 32,
   "metadata": {
    "execution": {
     "iopub.execute_input": "2020-08-14T12:19:02.407560Z",
     "iopub.status.busy": "2020-08-14T12:19:02.405066Z",
     "iopub.status.idle": "2020-08-14T12:19:04.039389Z",
     "shell.execute_reply": "2020-08-14T12:19:04.038804Z"
    }
   },
   "outputs": [
    {
     "data": {
      "text/plain": [
       "(0.0, 0.2)"
      ]
     },
     "execution_count": 32,
     "metadata": {},
     "output_type": "execute_result"
    },
    {
     "data": {
      "image/png": "[encoded data removed]",
      "text/plain": [
       "<Figure size 432x288 with 1 Axes>"
      ]
     },
     "metadata": {
      "filenames": {
       "image/png": "/home/runner/work/jupyter-book/jupyter-book/mini_book/docs/_build/jupyter_execute/prot_domains2lethality-FEATURES-POSTPROCESSING_47_1.png"
      },
      "needs_background": "light"
     },
     "output_type": "display_data"
    }
   ],
   "source": [
    "a_sl=x_sl.iloc[:,np.sort(df_sl.iloc[:,1])]\n",
    "a_sl.describe().loc['mean'].hist(bins=8),\n",
    "a_sl.describe().loc['std'].hist(bins=8,alpha=0.4)\n",
    "plt.xlim([0,0.2])"
   ]
  },
  {
   "cell_type": "code",
   "execution_count": 33,
   "metadata": {
    "execution": {
     "iopub.execute_input": "2020-08-14T12:19:04.048436Z",
     "iopub.status.busy": "2020-08-14T12:19:04.043861Z",
     "iopub.status.idle": "2020-08-14T12:19:05.707513Z",
     "shell.execute_reply": "2020-08-14T12:19:05.706982Z"
    }
   },
   "outputs": [
    {
     "data": {
      "text/plain": [
       "(0.0, 0.2)"
      ]
     },
     "execution_count": 33,
     "metadata": {},
     "output_type": "execute_result"
    },
    {
     "data": {
      "image/png": "[encoded data removed]",
      "text/plain": [
       "<Figure size 432x288 with 1 Axes>"
      ]
     },
     "metadata": {
      "filenames": {
       "image/png": "/home/runner/work/jupyter-book/jupyter-book/mini_book/docs/_build/jupyter_execute/prot_domains2lethality-FEATURES-POSTPROCESSING_48_1.png"
      },
      "needs_background": "light"
     },
     "output_type": "display_data"
    }
   ],
   "source": [
    "a_nsl=x_nsl.iloc[:,np.sort(df_nsl.iloc[:,1])]\n",
    "a_nsl.describe().loc['mean'].hist(bins=8),\n",
    "a_nsl.describe().loc['std'].hist(bins=8,alpha=0.4)\n",
    "plt.xlim([0,0.2])"
   ]
  },
  {
   "cell_type": "markdown",
   "metadata": {},
   "source": [
    "### Proof of concept with *BEM1*\n",
    "\n",
    "- Gather the domains of SL and nSL pairs from BEM1\n",
    "- Check if the domains for the SL and nSL pairs are inside the most important domains after PCA."
   ]
  },
  {
   "cell_type": "code",
   "execution_count": 34,
   "metadata": {
    "execution": {
     "iopub.execute_input": "2020-08-14T12:19:05.716669Z",
     "iopub.status.busy": "2020-08-14T12:19:05.715285Z",
     "iopub.status.idle": "2020-08-14T12:19:05.720334Z",
     "shell.execute_reply": "2020-08-14T12:19:05.719539Z"
    }
   },
   "outputs": [],
   "source": [
    "domains_bem1=data_domains[data_domains['name']=='BEM1']['domain-descrip']\n",
    "sl_bem1=data_sl[data_sl['gene-query-name']=='BEM1']['gene-target-name']"
   ]
  },
  {
   "cell_type": "code",
   "execution_count": 35,
   "metadata": {
    "execution": {
     "iopub.execute_input": "2020-08-14T12:19:05.725518Z",
     "iopub.status.busy": "2020-08-14T12:19:05.724939Z",
     "iopub.status.idle": "2020-08-14T12:19:05.730893Z",
     "shell.execute_reply": "2020-08-14T12:19:05.730407Z"
    }
   },
   "outputs": [
    {
     "data": {
      "text/plain": [
       "2846      BEM2\n",
       "2847     CDC24\n",
       "5004      MSB1\n",
       "13777     SMI1\n",
       "13778     BNI1\n",
       "13779     BEM2\n",
       "14385     SKN7\n",
       "Name: gene-target-name, dtype: object"
      ]
     },
     "execution_count": 35,
     "metadata": {},
     "output_type": "execute_result"
    }
   ],
   "source": [
    "sl_bem1"
   ]
  },
  {
   "cell_type": "code",
   "execution_count": 36,
   "metadata": {
    "execution": {
     "iopub.execute_input": "2020-08-14T12:19:05.746489Z",
     "iopub.status.busy": "2020-08-14T12:19:05.745886Z",
     "iopub.status.idle": "2020-08-14T12:19:05.751822Z",
     "shell.execute_reply": "2020-08-14T12:19:05.752352Z"
    }
   },
   "outputs": [
    {
     "data": {
      "text/html": [
       "<div>\n",
       "<style scoped>\n",
       "    .dataframe tbody tr th:only-of-type {\n",
       "        vertical-align: middle;\n",
       "    }\n",
       "\n",
       "    .dataframe tbody tr th {\n",
       "        vertical-align: top;\n",
       "    }\n",
       "\n",
       "    .dataframe thead th {\n",
       "        text-align: right;\n",
       "    }\n",
       "</style>\n",
       "<table border=\"1\" class=\"dataframe\">\n",
       "  <thead>\n",
       "    <tr style=\"text-align: right;\">\n",
       "      <th></th>\n",
       "      <th>gene-query</th>\n",
       "      <th>gene-target</th>\n",
       "      <th>gene-query-name</th>\n",
       "      <th>gene-target-name</th>\n",
       "      <th>gene-query-description</th>\n",
       "      <th>gene-target-description</th>\n",
       "      <th>interaction-type</th>\n",
       "      <th>paper-source</th>\n",
       "    </tr>\n",
       "  </thead>\n",
       "  <tbody>\n",
       "    <tr>\n",
       "      <th>2846</th>\n",
       "      <td>YBR200W</td>\n",
       "      <td>YER155C</td>\n",
       "      <td>BEM1</td>\n",
       "      <td>BEM2</td>\n",
       "      <td>SRO1|phosphatidylinositol-3-phosphate-binding ...</td>\n",
       "      <td>IPL2|SUP9|TSL1|L000000168</td>\n",
       "      <td>Synthetic Lethality</td>\n",
       "      <td>Peterson J (1994)</td>\n",
       "    </tr>\n",
       "    <tr>\n",
       "      <th>2847</th>\n",
       "      <td>YBR200W</td>\n",
       "      <td>YAL041W</td>\n",
       "      <td>BEM1</td>\n",
       "      <td>CDC24</td>\n",
       "      <td>SRO1|phosphatidylinositol-3-phosphate-binding ...</td>\n",
       "      <td>CLS4|Rho family guanine nucleotide exchange fa...</td>\n",
       "      <td>Synthetic Lethality</td>\n",
       "      <td>Peterson J (1994)</td>\n",
       "    </tr>\n",
       "    <tr>\n",
       "      <th>5004</th>\n",
       "      <td>YBR200W</td>\n",
       "      <td>YOR188W</td>\n",
       "      <td>BEM1</td>\n",
       "      <td>MSB1</td>\n",
       "      <td>SRO1|phosphatidylinositol-3-phosphate-binding ...</td>\n",
       "      <td>L000001184</td>\n",
       "      <td>Synthetic Lethality</td>\n",
       "      <td>Bender A (1991)</td>\n",
       "    </tr>\n",
       "    <tr>\n",
       "      <th>13777</th>\n",
       "      <td>YBR200W</td>\n",
       "      <td>YGR229C</td>\n",
       "      <td>BEM1</td>\n",
       "      <td>SMI1</td>\n",
       "      <td>SRO1|phosphatidylinositol-3-phosphate-binding ...</td>\n",
       "      <td>KNR4|L000000909</td>\n",
       "      <td>Synthetic Lethality</td>\n",
       "      <td>Gorelik M (2011)</td>\n",
       "    </tr>\n",
       "    <tr>\n",
       "      <th>13778</th>\n",
       "      <td>YBR200W</td>\n",
       "      <td>YNL271C</td>\n",
       "      <td>BEM1</td>\n",
       "      <td>BNI1</td>\n",
       "      <td>SRO1|phosphatidylinositol-3-phosphate-binding ...</td>\n",
       "      <td>PPF3|SHE5|formin BNI1|L000000190</td>\n",
       "      <td>Synthetic Lethality</td>\n",
       "      <td>Gorelik M (2011)</td>\n",
       "    </tr>\n",
       "    <tr>\n",
       "      <th>13779</th>\n",
       "      <td>YBR200W</td>\n",
       "      <td>YER155C</td>\n",
       "      <td>BEM1</td>\n",
       "      <td>BEM2</td>\n",
       "      <td>SRO1|phosphatidylinositol-3-phosphate-binding ...</td>\n",
       "      <td>IPL2|SUP9|TSL1|L000000168</td>\n",
       "      <td>Synthetic Lethality</td>\n",
       "      <td>Gorelik M (2011)</td>\n",
       "    </tr>\n",
       "    <tr>\n",
       "      <th>14385</th>\n",
       "      <td>YBR200W</td>\n",
       "      <td>YHR206W</td>\n",
       "      <td>BEM1</td>\n",
       "      <td>SKN7</td>\n",
       "      <td>SRO1|phosphatidylinositol-3-phosphate-binding ...</td>\n",
       "      <td>BRY1|POS9|kinase-regulated stress-responsive t...</td>\n",
       "      <td>Dosage Lethality</td>\n",
       "      <td>Bouquin N (1999)</td>\n",
       "    </tr>\n",
       "  </tbody>\n",
       "</table>\n",
       "</div>"
      ],
      "text/plain": [
       "      gene-query gene-target gene-query-name gene-target-name  \\\n",
       "2846     YBR200W     YER155C            BEM1             BEM2   \n",
       "2847     YBR200W     YAL041W            BEM1            CDC24   \n",
       "5004     YBR200W     YOR188W            BEM1             MSB1   \n",
       "13777    YBR200W     YGR229C            BEM1             SMI1   \n",
       "13778    YBR200W     YNL271C            BEM1             BNI1   \n",
       "13779    YBR200W     YER155C            BEM1             BEM2   \n",
       "14385    YBR200W     YHR206W            BEM1             SKN7   \n",
       "\n",
       "                                  gene-query-description  \\\n",
       "2846   SRO1|phosphatidylinositol-3-phosphate-binding ...   \n",
       "2847   SRO1|phosphatidylinositol-3-phosphate-binding ...   \n",
       "5004   SRO1|phosphatidylinositol-3-phosphate-binding ...   \n",
       "13777  SRO1|phosphatidylinositol-3-phosphate-binding ...   \n",
       "13778  SRO1|phosphatidylinositol-3-phosphate-binding ...   \n",
       "13779  SRO1|phosphatidylinositol-3-phosphate-binding ...   \n",
       "14385  SRO1|phosphatidylinositol-3-phosphate-binding ...   \n",
       "\n",
       "                                 gene-target-description     interaction-type  \\\n",
       "2846                           IPL2|SUP9|TSL1|L000000168  Synthetic Lethality   \n",
       "2847   CLS4|Rho family guanine nucleotide exchange fa...  Synthetic Lethality   \n",
       "5004                                          L000001184  Synthetic Lethality   \n",
       "13777                                    KNR4|L000000909  Synthetic Lethality   \n",
       "13778                   PPF3|SHE5|formin BNI1|L000000190  Synthetic Lethality   \n",
       "13779                          IPL2|SUP9|TSL1|L000000168  Synthetic Lethality   \n",
       "14385  BRY1|POS9|kinase-regulated stress-responsive t...     Dosage Lethality   \n",
       "\n",
       "            paper-source  \n",
       "2846   Peterson J (1994)  \n",
       "2847   Peterson J (1994)  \n",
       "5004     Bender A (1991)  \n",
       "13777   Gorelik M (2011)  \n",
       "13778   Gorelik M (2011)  \n",
       "13779   Gorelik M (2011)  \n",
       "14385   Bouquin N (1999)  "
      ]
     },
     "execution_count": 36,
     "metadata": {},
     "output_type": "execute_result"
    }
   ],
   "source": [
    "data_sl[data_sl['gene-query-name']=='BEM1']"
   ]
  },
  {
   "cell_type": "code",
   "execution_count": null,
   "metadata": {},
   "outputs": [],
   "source": []
  }
 ],
 "metadata": {
  "jupytext": {
   "text_representation": {
    "extension": ".md",
    "format_name": "myst"
   }
  },
  "kernelspec": {
   "display_name": "Python 3",
   "language": "python",
   "name": "python3"
  },
  "language_info": {
   "codemirror_mode": {
    "name": "ipython",
    "version": 3
   },
   "file_extension": ".py",
   "mimetype": "text/x-python",
   "name": "python",
   "nbconvert_exporter": "python",
   "pygments_lexer": "ipython3",
   "version": "3.7.8"
  },
  "source_map": [
   10,
   18,
   29,
   36,
   57,
   66,
   98,
   101,
   105,
   128,
   131,
   135,
   139,
   145,
   178,
   184,
   188,
   206,
   210,
   218,
   222,
   225,
   229,
   234,
   238,
   244,
   248,
   253,
   257,
   267,
   269,
   273,
   306,
   311,
   313,
   317,
   328,
   330,
   334,
   344,
   348,
   358,
   360,
   364,
   381,
   388,
   394,
   400,
   407,
   412,
   419,
   424,
   428,
   432
  ]
 },
 "nbformat": 4,
 "nbformat_minor": 4
}