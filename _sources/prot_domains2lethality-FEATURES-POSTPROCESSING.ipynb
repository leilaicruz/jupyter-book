{
 "cells": [
  {
   "cell_type": "markdown",
   "metadata": {},
   "source": [
    "# Feature postprocessing from paper.\n",
    "- Title:  \"Predicting yeast synthetic lethal genetic interactions using protein domains\"\n",
    "- Authors: Bo Li, Feng Luo,School of Computing,Clemson University,Clemson, SC, USA\n",
    "- e-mail: bol, luofeng@clemson.edu\n",
    "- year:2009"
   ]
  },
  {
   "cell_type": "code",
   "execution_count": 1,
   "metadata": {
    "execution": {
     "iopub.execute_input": "2020-07-23T03:20:26.177708Z",
     "iopub.status.busy": "2020-07-23T03:20:26.176599Z",
     "iopub.status.idle": "2020-07-23T03:20:26.977223Z",
     "shell.execute_reply": "2020-07-23T03:20:26.977723Z"
    }
   },
   "outputs": [],
   "source": [
    "import pandas as pd\n",
    "import numpy as np\n",
    "import matplotlib.pyplot as plt\n",
    "from collections import defaultdict \n",
    "import seaborn as sns\n",
    "import matplotlib.cm as cm\n",
    "import scipy as scipy\n",
    "import random"
   ]
  },
  {
   "cell_type": "markdown",
   "metadata": {
    "jupyter": {
     "source_hidden": true
    }
   },
   "source": [
    "### Importing datasets \n",
    "\n",
    "#### Link to the github repo where the datasets to be downloaded:\n",
    "[DOWNLOAD THE DATASETS HERE](https://github.com/leilaicruz/machine-learning-for-yeast/tree/dev_Leila/datasets-for-learning)"
   ]
  },
  {
   "cell_type": "code",
   "execution_count": 2,
   "metadata": {
    "execution": {
     "iopub.execute_input": "2020-07-23T03:20:26.985538Z",
     "iopub.status.busy": "2020-07-23T03:20:26.984848Z",
     "iopub.status.idle": "2020-07-23T03:20:35.254246Z",
     "shell.execute_reply": "2020-07-23T03:20:35.253669Z"
    }
   },
   "outputs": [],
   "source": [
    "import os\n",
    "script_dir = os.path.dirname('__file__') #<-- absolute dir the script is in\n",
    "rel_path_SL = \"datasets/data-synthetic-lethals.xlsx\"\n",
    "rel_path_nSL=\"datasets/data-positive-genetic.xlsx\"\n",
    "rel_path_domains=\"datasets/proteins-domains-from-Pfam.xlsx\"\n",
    "\n",
    "abs_file_path_SL = os.path.join(script_dir, rel_path_SL)\n",
    "abs_file_path_nSL = os.path.join(script_dir, rel_path_nSL)\n",
    "abs_file_path_domains = os.path.join(script_dir, rel_path_domains)\n",
    "\n",
    "# os.chdir('mini_book/docs/') #<-- for binder os.chdir('../')\n",
    "# os.chdir('../')\n",
    "my_path_sl= abs_file_path_SL\n",
    "my_path_non_sl=abs_file_path_nSL\n",
    "my_path_domains=abs_file_path_domains\n",
    "\n",
    "data_sl=pd.read_excel(my_path_sl,header=0)\n",
    "data_domains=pd.read_excel(my_path_domains,header=0,index_col='Unnamed: 0')\n",
    "data_domains=data_domains.dropna()\n",
    "data_nonsl=pd.read_excel(my_path_non_sl,header=0)"
   ]
  },
  {
   "cell_type": "markdown",
   "metadata": {},
   "source": [
    "## Building the feature matrix\n",
    "One matrix for true SL where each row is one pair of SL. Every raw will be a vector of 0,1 or 2 depending on the comparison with the domain list. For row i the jth element = 0 if the jth element of the domain list is not in neither protein A and B, 1, if it is in one of them and 2 if it is in both of them .\n",
    "\n",
    "### Building the list of proteins domains id per protein pair separately :\n",
    "- List of protein A: Search for the Sl/nSL database the query gene name and look in the protein domain database which protein domains id has each of those queries.\n",
    "- List of protein B: Search for the Sl/nSL database the target gene name of the previous query and look in the protein domain database which protein domains id has each of those target genes."
   ]
  },
  {
   "cell_type": "code",
   "execution_count": 3,
   "metadata": {
    "execution": {
     "iopub.execute_input": "2020-07-23T03:20:35.273329Z",
     "iopub.status.busy": "2020-07-23T03:20:35.265459Z",
     "iopub.status.idle": "2020-07-23T03:20:37.642965Z",
     "shell.execute_reply": "2020-07-23T03:20:37.642112Z"
    }
   },
   "outputs": [],
   "source": [
    "# Selecting the meaningful columns in the respective dataset\n",
    "domain_id_list=data_domains['domain-name']\n",
    "query_gene=data_sl['gene-query-name']\n",
    "target_gene=data_sl['gene-target-name']\n",
    "query_gene_nonlethal=data_nonsl['gene-query-name']\n",
    "target_gene_nonlethal=data_nonsl['gene-target-name']\n",
    "\n",
    "\n",
    "\n",
    "# Initialising the arrays\n",
    "protein_a_list=[]\n",
    "protein_b_list=[]\n",
    "protein_a_list_non=[]\n",
    "protein_b_list_non=[]\n",
    "\n",
    "population = np.arange(0,len(data_sl))\n",
    "\n",
    "# For loop for 10000 pairs sampled randomly from the SL/nSl pair list , and creating a big array of proteind domains id per protein pair\n",
    "\n",
    "for m in random.sample(list(population), 500):\n",
    "    protein_a=data_domains[data_domains['name']==query_gene[m]]\n",
    "    protein_b=data_domains[data_domains['name']==target_gene[m]]\n",
    "    protein_a_list.append(protein_a['domain-name'].tolist())\n",
    "    protein_b_list.append(protein_b['domain-name'].tolist())\n",
    "\n",
    "    protein_a_non=data_domains[data_domains['name']==query_gene_nonlethal[m]]\n",
    "    protein_b_non=data_domains[data_domains['name']==target_gene_nonlethal[m]]\n",
    "    protein_a_list_non.append(protein_a_non['domain-name'].tolist())\n",
    "    protein_b_list_non.append(protein_b_non['domain-name'].tolist())"
   ]
  },
  {
   "cell_type": "code",
   "execution_count": 4,
   "metadata": {
    "execution": {
     "iopub.execute_input": "2020-07-23T03:20:37.648663Z",
     "iopub.status.busy": "2020-07-23T03:20:37.646779Z",
     "iopub.status.idle": "2020-07-23T03:20:37.653542Z",
     "shell.execute_reply": "2020-07-23T03:20:37.652606Z"
    }
   },
   "outputs": [
    {
     "name": "stdout",
     "output_type": "stream",
     "text": [
      "We are going to analyze 500 protein pairs, out of 17871 SL protein pairs\n",
      "We are going to analyze 500 protein pairs, out of 43340 positive protein pairs\n"
     ]
    }
   ],
   "source": [
    "print('We are going to analyze',len((protein_a_list)) ,'protein pairs, out of',len(data_sl),'SL protein pairs')\n",
    "print('We are going to analyze',len((protein_a_list_non)) ,'protein pairs, out of',len(data_nonsl),'positive protein pairs')"
   ]
  },
  {
   "cell_type": "markdown",
   "metadata": {},
   "source": [
    "### Postprocessing #1:  Remove protein pairs from study if either protein in the pair does not contain any domain"
   ]
  },
  {
   "cell_type": "code",
   "execution_count": 5,
   "metadata": {
    "execution": {
     "iopub.execute_input": "2020-07-23T03:20:37.663241Z",
     "iopub.status.busy": "2020-07-23T03:20:37.662619Z",
     "iopub.status.idle": "2020-07-23T03:20:37.667601Z",
     "shell.execute_reply": "2020-07-23T03:20:37.667076Z"
    }
   },
   "outputs": [],
   "source": [
    "def remove_empty_domains(protein_list_search,protein_list_pair):\n",
    "    index=[]\n",
    "    for i in np.arange(0,len(protein_list_search)):\n",
    "        if protein_list_search[i]==[] or protein_list_pair[i]==[]:\n",
    "            index.append(i) ## index of empty values for the protein_a_list meaning they dont have any annotated domain\n",
    "\n",
    "    y=[x for x in np.arange(0,len(protein_list_search)) if x not in index] # a list with non empty values from protein_a list\n",
    "\n",
    "    protein_list_search_new=[]\n",
    "    protein_list_pair_new=[]\n",
    "    for i in y:\n",
    "        protein_list_search_new.append(protein_list_search[i])\n",
    "        protein_list_pair_new.append(protein_list_pair[i])\n",
    "    return protein_list_search_new,protein_list_pair_new\n",
    "\n",
    "## evaluating the function\n",
    "\n",
    "protein_a_list_new,protein_b_list_new=remove_empty_domains(protein_a_list,protein_b_list)\n",
    "\n",
    "protein_a_list_non_new,protein_b_list_non_new=remove_empty_domains(protein_a_list_non,protein_b_list_non)"
   ]
  },
  {
   "cell_type": "code",
   "execution_count": 6,
   "metadata": {
    "execution": {
     "iopub.execute_input": "2020-07-23T03:20:37.672198Z",
     "iopub.status.busy": "2020-07-23T03:20:37.671336Z",
     "iopub.status.idle": "2020-07-23T03:20:37.676419Z",
     "shell.execute_reply": "2020-07-23T03:20:37.675976Z"
    }
   },
   "outputs": [
    {
     "name": "stdout",
     "output_type": "stream",
     "text": [
      "The empty domain in the SL were: 97 out of 500 domains\n",
      "The empty domain in the nSL were: 70 out of 500 domains\n"
     ]
    }
   ],
   "source": [
    "print('The empty domain in the SL were:', len(protein_a_list)-len(protein_a_list_new), 'out of', len(protein_a_list),'domains')\n",
    "print('The empty domain in the nSL were:', len(protein_a_list_non)-len(protein_a_list_non_new), 'out of', len(protein_a_list_non),'domains')"
   ]
  },
  {
   "cell_type": "markdown",
   "metadata": {},
   "source": [
    "### Feature engineering: Select from each ordered indexes of domain id list which of them appear once, in both or in any of the domains of each protein pair"
   ]
  },
  {
   "cell_type": "markdown",
   "metadata": {},
   "source": [
    "#### Define function `get_indexes`"
   ]
  },
  {
   "cell_type": "code",
   "execution_count": 7,
   "metadata": {
    "execution": {
     "iopub.execute_input": "2020-07-23T03:20:37.683202Z",
     "iopub.status.busy": "2020-07-23T03:20:37.682662Z",
     "iopub.status.idle": "2020-07-23T03:20:37.688385Z",
     "shell.execute_reply": "2020-07-23T03:20:37.687861Z"
    }
   },
   "outputs": [
    {
     "data": {
      "text/plain": [
       "[1, 2]"
      ]
     },
     "execution_count": 7,
     "metadata": {},
     "output_type": "execute_result"
    }
   ],
   "source": [
    "get_indexes = lambda x, xs: [i for (y, i) in zip(xs, range(len(xs))) if x == y] # a function that give the index of whether a value appear in array or not\n",
    "a=[1,2,2,4,5,6,7,8,9,10]\n",
    "get_indexes(2,a)"
   ]
  },
  {
   "cell_type": "code",
   "execution_count": 8,
   "metadata": {
    "execution": {
     "iopub.execute_input": "2020-07-23T03:20:37.697899Z",
     "iopub.status.busy": "2020-07-23T03:20:37.696122Z",
     "iopub.status.idle": "2020-07-23T03:20:37.701036Z",
     "shell.execute_reply": "2020-07-23T03:20:37.700126Z"
    }
   },
   "outputs": [],
   "source": [
    "def feature_building(protein_a_list_new,protein_b_list_new):\n",
    "    x = np.unique(domain_id_list)\n",
    "    ## To avoid taking repeated domains from one protein of the pairs , lets reduced the domains of each protein from the pairs to their unique members\n",
    "    protein_a_list_unique=[]\n",
    "    protein_b_list_unique=[]\n",
    "    for i in np.arange(0,len(protein_a_list_new)):\n",
    "        protein_a_list_unique.append(np.unique(protein_a_list_new[i]))\n",
    "        protein_b_list_unique.append(np.unique(protein_b_list_new[i]))\n",
    "        \n",
    "    protein_feat_true=np.zeros(shape=(len(x),len(protein_a_list_unique)))\n",
    "    pair_a_b_array=[]\n",
    "    for i in np.arange(0,len(protein_a_list_unique)):\n",
    "        index_a=[]\n",
    "        \n",
    "        pair=[protein_a_list_unique[i],protein_b_list_unique[i]]\n",
    "        pair_a_b=np.concatenate(pair).ravel()\n",
    "        pair_a_b_array.append(pair_a_b)\n",
    "\n",
    "    j=0\n",
    "    for i in pair_a_b_array:  \n",
    "        array,index,counts=np.unique(i,return_index=True,return_counts=True)\n",
    "        \n",
    "        for k,m in zip(counts,array):\n",
    "            if k ==2:\n",
    "                protein_feat_true[get_indexes(m,x),j]=2\n",
    "                \n",
    "            if k==1:\n",
    "                protein_feat_true[get_indexes(m,x),j]=1\n",
    "        j=j+1\n",
    "    return protein_feat_true"
   ]
  },
  {
   "cell_type": "code",
   "execution_count": 9,
   "metadata": {
    "execution": {
     "iopub.execute_input": "2020-07-23T03:20:37.710459Z",
     "iopub.status.busy": "2020-07-23T03:20:37.705021Z",
     "iopub.status.idle": "2020-07-23T03:20:38.486530Z",
     "shell.execute_reply": "2020-07-23T03:20:38.486996Z"
    }
   },
   "outputs": [],
   "source": [
    "protein_feat_true=feature_building(protein_b_list_new=protein_b_list_new,protein_a_list_new=protein_a_list_new)\n",
    "protein_feat_true_pd=pd.DataFrame(protein_feat_true.T)\n",
    "\n",
    "protein_feat_non_true=feature_building(protein_b_list_new=protein_b_list_non_new,protein_a_list_new=protein_a_list_non_new)\n",
    "protein_feat_non_true_pd=pd.DataFrame(protein_feat_non_true.T)"
   ]
  },
  {
   "cell_type": "markdown",
   "metadata": {},
   "source": [
    "### How many ones and twos are in each dataset"
   ]
  },
  {
   "cell_type": "code",
   "execution_count": 10,
   "metadata": {
    "execution": {
     "iopub.execute_input": "2020-07-23T03:20:38.495373Z",
     "iopub.status.busy": "2020-07-23T03:20:38.494721Z",
     "iopub.status.idle": "2020-07-23T03:20:38.597010Z",
     "shell.execute_reply": "2020-07-23T03:20:38.596518Z"
    }
   },
   "outputs": [
    {
     "name": "stdout",
     "output_type": "stream",
     "text": [
      "fraction of twos in the SL array is 2.2147940036503086e-05\n",
      "fraction of ones in the SL array is 0.000999938477944343\n",
      "fraction of twos in the PI array is 9.225446857582164e-06\n",
      "fraction of ones in the PI array is 0.0008917931962329425\n"
     ]
    }
   ],
   "source": [
    "index_2_true=protein_feat_true_pd.where(protein_feat_true_pd==2)\n",
    "index_2_true_count=index_2_true.count(axis=1).sum()\n",
    "\n",
    "index_1_true=protein_feat_true_pd.where(protein_feat_true_pd==1)\n",
    "index_1_true_count=index_1_true.count(axis=1).sum()\n",
    "\n",
    "index_2_nontrue=protein_feat_non_true_pd.where(protein_feat_non_true_pd==2)\n",
    "index_2_nontrue_count=index_2_nontrue.count(axis=1).sum()\n",
    "\n",
    "index_1_nontrue=protein_feat_non_true_pd.where(protein_feat_non_true_pd==1)\n",
    "index_1_nontrue_count=index_1_nontrue.count(axis=1).sum()\n",
    "\n",
    "\n",
    "print('fraction of twos in the SL array is',index_2_true_count/(len(protein_feat_true_pd.index)*len(protein_feat_true_pd.columns)))\n",
    "print('fraction of ones in the SL array is',index_1_true_count/(len(protein_feat_true_pd.index)*len(protein_feat_true_pd.columns)))\n",
    "print('fraction of twos in the PI array is',index_2_nontrue_count/(len(protein_feat_non_true_pd.index)*len(protein_feat_non_true_pd.columns)))\n",
    "print('fraction of ones in the PI array is',index_1_nontrue_count/(len(protein_feat_non_true_pd.index)*len(protein_feat_non_true_pd.columns)))"
   ]
  },
  {
   "cell_type": "markdown",
   "metadata": {},
   "source": [
    "#### Bar plot to visualize these numbers"
   ]
  },
  {
   "cell_type": "code",
   "execution_count": 11,
   "metadata": {
    "execution": {
     "iopub.execute_input": "2020-07-23T03:20:38.630551Z",
     "iopub.status.busy": "2020-07-23T03:20:38.627895Z",
     "iopub.status.idle": "2020-07-23T03:20:39.224927Z",
     "shell.execute_reply": "2020-07-23T03:20:39.225426Z"
    }
   },
   "outputs": [
    {
     "data": {
      "text/plain": [
       "([0, 1, 2, 3],\n",
       " [Text(0, 0, ''), Text(0, 0, ''), Text(0, 0, ''), Text(0, 0, '')])"
      ]
     },
     "execution_count": 11,
     "metadata": {},
     "output_type": "execute_result"
    },
    {
     "data": {
      "image/png": "[encoded data removed]",
      "text/plain": [
       "<Figure size 432x288 with 1 Axes>"
      ]
     },
     "metadata": {
      "filenames": {
       "image/png": "/home/runner/work/jupyter-book/jupyter-book/mini_book/docs/_build/jupyter_execute/prot_domains2lethality-FEATURES-POSTPROCESSING_18_1.png"
      },
      "needs_background": "light"
     },
     "output_type": "display_data"
    }
   ],
   "source": [
    "plt.bar(['fraction of 2 in the nSL','fraction of 1 in the nSL'],[index_2_nontrue_count/(len(protein_feat_non_true_pd.index)*len(protein_feat_non_true_pd.columns)),index_1_nontrue_count/(len(protein_feat_non_true_pd.index)*len(protein_feat_non_true_pd.columns))],alpha=0.6,color=['blue','lightblue']), \n",
    "\n",
    "plt.bar(['fraction of 2 in SL ','fraction of 1 in SL'],[index_2_true_count/(len(protein_feat_true_pd.index)*len(protein_feat_true_pd.columns)),index_1_true_count/(len(protein_feat_true_pd.index)*len(protein_feat_true_pd.columns))],alpha=0.6,color=['coral','lightcoral'])\n",
    "\n",
    "plt.ylabel('Fraction from the population')\n",
    "plt.yscale('log')\n",
    "plt.xticks(rotation=40)"
   ]
  },
  {
   "cell_type": "markdown",
   "metadata": {},
   "source": [
    "#### Adding the labels(response variables) to each dataset"
   ]
  },
  {
   "cell_type": "code",
   "execution_count": 12,
   "metadata": {
    "execution": {
     "iopub.execute_input": "2020-07-23T03:20:39.231752Z",
     "iopub.status.busy": "2020-07-23T03:20:39.229582Z",
     "iopub.status.idle": "2020-07-23T03:20:39.235526Z",
     "shell.execute_reply": "2020-07-23T03:20:39.234695Z"
    }
   },
   "outputs": [],
   "source": [
    "protein_feat_true_pd['lethality']=np.ones(shape=(len(protein_a_list_new)))\n",
    "protein_feat_non_true_pd['lethality']=np.zeros(shape=(len(protein_a_list_non_new)))"
   ]
  },
  {
   "cell_type": "markdown",
   "metadata": {},
   "source": [
    "#### Joining both datasets"
   ]
  },
  {
   "cell_type": "code",
   "execution_count": 13,
   "metadata": {
    "execution": {
     "iopub.execute_input": "2020-07-23T03:20:39.240677Z",
     "iopub.status.busy": "2020-07-23T03:20:39.240054Z",
     "iopub.status.idle": "2020-07-23T03:20:39.281680Z",
     "shell.execute_reply": "2020-07-23T03:20:39.281112Z"
    }
   },
   "outputs": [
    {
     "name": "stdout",
     "output_type": "stream",
     "text": [
      "The number of features are: 3026\n",
      "The number of samples are: 833\n"
     ]
    }
   ],
   "source": [
    "feature_post=pd.concat([protein_feat_true_pd,protein_feat_non_true_pd],axis=0)\n",
    "feature_post=feature_post.set_index(np.arange(0,len(protein_a_list_new)+len(protein_a_list_non_new)))\n",
    "print('The number of features are:',feature_post.shape[1])\n",
    "print('The number of samples are:',feature_post.shape[0])"
   ]
  },
  {
   "cell_type": "markdown",
   "metadata": {},
   "source": [
    "### Postprocessing and exploration of the feature matrix of both datasets"
   ]
  },
  {
   "cell_type": "code",
   "execution_count": 14,
   "metadata": {
    "execution": {
     "iopub.execute_input": "2020-07-23T03:20:39.300232Z",
     "iopub.status.busy": "2020-07-23T03:20:39.288902Z",
     "iopub.status.idle": "2020-07-23T03:20:44.550547Z",
     "shell.execute_reply": "2020-07-23T03:20:44.551005Z"
    }
   },
   "outputs": [],
   "source": [
    "mean=feature_post.T.describe().loc['mean']\n",
    "std=feature_post.T.describe().loc['std']\n",
    "lethality=feature_post['lethality']\n",
    "\n",
    "corr_keys=pd.concat([mean,std,lethality],axis=1)"
   ]
  },
  {
   "cell_type": "markdown",
   "metadata": {},
   "source": [
    "### Viz of the stats"
   ]
  },
  {
   "cell_type": "code",
   "execution_count": 15,
   "metadata": {
    "execution": {
     "iopub.execute_input": "2020-07-23T03:20:44.608365Z",
     "iopub.status.busy": "2020-07-23T03:20:44.555945Z",
     "iopub.status.idle": "2020-07-23T03:20:46.389299Z",
     "shell.execute_reply": "2020-07-23T03:20:46.388437Z"
    }
   },
   "outputs": [
    {
     "data": {
      "text/plain": [
       "Text(0.5, 1.08, 'Pairplot to see data dependencies with Lethality')"
      ]
     },
     "execution_count": 15,
     "metadata": {},
     "output_type": "execute_result"
    },
    {
     "data": {
      "image/png": "[encoded data removed]",
      "text/plain": [
       "<Figure size 412x360 with 6 Axes>"
      ]
     },
     "metadata": {
      "filenames": {
       "image/png": "/home/runner/work/jupyter-book/jupyter-book/mini_book/docs/_build/jupyter_execute/prot_domains2lethality-FEATURES-POSTPROCESSING_26_1.png"
      },
      "needs_background": "light"
     },
     "output_type": "display_data"
    }
   ],
   "source": [
    "pair=sns.pairplot(corr_keys,hue='lethality',diag_kind='kde',kind='reg',palette='colorblind')\n",
    "pair.fig.suptitle('Pairplot to see data dependencies with Lethality',y=1.08)"
   ]
  },
  {
   "cell_type": "code",
   "execution_count": 16,
   "metadata": {
    "execution": {
     "iopub.execute_input": "2020-07-23T03:20:46.401966Z",
     "iopub.status.busy": "2020-07-23T03:20:46.395322Z",
     "iopub.status.idle": "2020-07-23T03:20:46.406027Z",
     "shell.execute_reply": "2020-07-23T03:20:46.404889Z"
    }
   },
   "outputs": [],
   "source": [
    "X, y = feature_post.drop(columns=[\"lethality\"]), feature_post[\"lethality\"]"
   ]
  },
  {
   "cell_type": "code",
   "execution_count": 17,
   "metadata": {
    "execution": {
     "iopub.execute_input": "2020-07-23T03:20:46.411095Z",
     "iopub.status.busy": "2020-07-23T03:20:46.410229Z",
     "iopub.status.idle": "2020-07-23T03:20:46.566958Z",
     "shell.execute_reply": "2020-07-23T03:20:46.566024Z"
    }
   },
   "outputs": [],
   "source": [
    "from sklearn.preprocessing import StandardScaler\n",
    "scaler = StandardScaler()\n",
    "x_sl=protein_feat_true_pd.drop(columns=['lethality'])\n",
    "x_nsl=protein_feat_non_true_pd.drop(columns=['lethality'])\n",
    "\n",
    "X_sl_scaled = scaler.fit_transform(x_sl)\n",
    "X_nsl_scaled = scaler.fit_transform(x_nsl)"
   ]
  },
  {
   "cell_type": "code",
   "execution_count": 18,
   "metadata": {
    "execution": {
     "iopub.execute_input": "2020-07-23T03:20:46.571259Z",
     "iopub.status.busy": "2020-07-23T03:20:46.570672Z",
     "iopub.status.idle": "2020-07-23T03:20:46.578141Z",
     "shell.execute_reply": "2020-07-23T03:20:46.577243Z"
    }
   },
   "outputs": [
    {
     "data": {
      "text/plain": [
       "(403, 3025)"
      ]
     },
     "execution_count": 18,
     "metadata": {},
     "output_type": "execute_result"
    }
   ],
   "source": [
    "np.shape(X_sl_scaled)"
   ]
  },
  {
   "cell_type": "markdown",
   "metadata": {},
   "source": [
    "## How redundant are each of the protein domains?"
   ]
  },
  {
   "cell_type": "code",
   "execution_count": 19,
   "metadata": {
    "execution": {
     "iopub.execute_input": "2020-07-23T03:20:46.585494Z",
     "iopub.status.busy": "2020-07-23T03:20:46.584967Z",
     "iopub.status.idle": "2020-07-23T03:20:46.589314Z",
     "shell.execute_reply": "2020-07-23T03:20:46.588445Z"
    }
   },
   "outputs": [],
   "source": [
    "def PCA_component_contribution(scaled_matrix,original_data):\n",
    "    from sklearn.decomposition import PCA\n",
    "\n",
    "    model = PCA(0.95).fit(scaled_matrix)\n",
    "    ## apply dimensionality reduction to X_train\n",
    "    output_pca = model.transform(scaled_matrix)\n",
    "    \n",
    "    total=sum(model.explained_variance_)\n",
    "\n",
    "\n",
    "   \n",
    "    # number of components , that it will be the number of main axes times the number of original components \n",
    "    n_pcs= model.components_.shape[0] # the amount of non redundant protein domains \n",
    "\n",
    "    # get the index of the most important feature on EACH component\n",
    "    # LIST COMPREHENSION HERE\n",
    "    most_important = [np.abs(model.components_[i]).argmax() for i in range(n_pcs)]\n",
    "\n",
    "    initial_feature_names = original_data.columns\n",
    "    # get the names\n",
    "    most_important_names = [initial_feature_names[most_important[i]] for i in range(n_pcs)]\n",
    "    \n",
    "\n",
    "    # LIST COMPREHENSION HERE AGAIN\n",
    "    dic = {'PC{}'.format(i): most_important_names[i] for i in range(n_pcs)}\n",
    "\n",
    "    # build the dataframe\n",
    "    df = pd.DataFrame(dic.items(),columns=['pca-component','domain-number'])\n",
    "\n",
    "    return df,model.components_"
   ]
  },
  {
   "cell_type": "code",
   "execution_count": 20,
   "metadata": {
    "execution": {
     "iopub.execute_input": "2020-07-23T03:20:46.593683Z",
     "iopub.status.busy": "2020-07-23T03:20:46.592599Z",
     "iopub.status.idle": "2020-07-23T03:20:47.366403Z",
     "shell.execute_reply": "2020-07-23T03:20:47.367085Z"
    }
   },
   "outputs": [],
   "source": [
    "df_sl,components_pca_nsl=PCA_component_contribution(X_nsl_scaled,x_nsl)\n",
    "df_nsl,components_pca_sl=PCA_component_contribution(X_sl_scaled,x_sl)"
   ]
  },
  {
   "cell_type": "code",
   "execution_count": 21,
   "metadata": {
    "execution": {
     "iopub.execute_input": "2020-07-23T03:20:47.376156Z",
     "iopub.status.busy": "2020-07-23T03:20:47.373166Z",
     "iopub.status.idle": "2020-07-23T03:20:47.379453Z",
     "shell.execute_reply": "2020-07-23T03:20:47.380012Z"
    }
   },
   "outputs": [
    {
     "data": {
      "text/html": [
       "<div>\n",
       "<style scoped>\n",
       "    .dataframe tbody tr th:only-of-type {\n",
       "        vertical-align: middle;\n",
       "    }\n",
       "\n",
       "    .dataframe tbody tr th {\n",
       "        vertical-align: top;\n",
       "    }\n",
       "\n",
       "    .dataframe thead th {\n",
       "        text-align: right;\n",
       "    }\n",
       "</style>\n",
       "<table border=\"1\" class=\"dataframe\">\n",
       "  <thead>\n",
       "    <tr style=\"text-align: right;\">\n",
       "      <th></th>\n",
       "      <th>pca-component</th>\n",
       "      <th>domain-number</th>\n",
       "    </tr>\n",
       "  </thead>\n",
       "  <tbody>\n",
       "    <tr>\n",
       "      <th>0</th>\n",
       "      <td>PC0</td>\n",
       "      <td>142</td>\n",
       "    </tr>\n",
       "    <tr>\n",
       "      <th>1</th>\n",
       "      <td>PC1</td>\n",
       "      <td>540</td>\n",
       "    </tr>\n",
       "    <tr>\n",
       "      <th>2</th>\n",
       "      <td>PC2</td>\n",
       "      <td>989</td>\n",
       "    </tr>\n",
       "    <tr>\n",
       "      <th>3</th>\n",
       "      <td>PC3</td>\n",
       "      <td>150</td>\n",
       "    </tr>\n",
       "    <tr>\n",
       "      <th>4</th>\n",
       "      <td>PC4</td>\n",
       "      <td>2113</td>\n",
       "    </tr>\n",
       "  </tbody>\n",
       "</table>\n",
       "</div>"
      ],
      "text/plain": [
       "  pca-component  domain-number\n",
       "0           PC0            142\n",
       "1           PC1            540\n",
       "2           PC2            989\n",
       "3           PC3            150\n",
       "4           PC4           2113"
      ]
     },
     "execution_count": 21,
     "metadata": {},
     "output_type": "execute_result"
    }
   ],
   "source": [
    "df_sl.head()"
   ]
  },
  {
   "cell_type": "markdown",
   "metadata": {},
   "source": [
    "## which are the shared domains between nSL and SL pairs , in the PCA reduced samples"
   ]
  },
  {
   "cell_type": "code",
   "execution_count": 22,
   "metadata": {
    "execution": {
     "iopub.execute_input": "2020-07-23T03:20:47.382331Z",
     "iopub.status.busy": "2020-07-23T03:20:47.381723Z",
     "iopub.status.idle": "2020-07-23T03:20:47.414349Z",
     "shell.execute_reply": "2020-07-23T03:20:47.414871Z"
    }
   },
   "outputs": [
    {
     "data": {
      "text/html": [
       "<div>\n",
       "<style scoped>\n",
       "    .dataframe tbody tr th:only-of-type {\n",
       "        vertical-align: middle;\n",
       "    }\n",
       "\n",
       "    .dataframe tbody tr th {\n",
       "        vertical-align: top;\n",
       "    }\n",
       "\n",
       "    .dataframe thead th {\n",
       "        text-align: right;\n",
       "    }\n",
       "</style>\n",
       "<table border=\"1\" class=\"dataframe\">\n",
       "  <thead>\n",
       "    <tr style=\"text-align: right;\">\n",
       "      <th></th>\n",
       "      <th>pca-component_x</th>\n",
       "      <th>domain-number</th>\n",
       "      <th>pca-component_y</th>\n",
       "      <th>domain-description</th>\n",
       "    </tr>\n",
       "  </thead>\n",
       "  <tbody>\n",
       "    <tr>\n",
       "      <th>0</th>\n",
       "      <td>PC2</td>\n",
       "      <td>989</td>\n",
       "      <td>PC60</td>\n",
       "      <td>GLE1; GLE1-like</td>\n",
       "    </tr>\n",
       "    <tr>\n",
       "      <th>1</th>\n",
       "      <td>PC4</td>\n",
       "      <td>2113</td>\n",
       "      <td>PC7</td>\n",
       "      <td>Rav1p_C; RAVE complex protein Rav1 C-terminal</td>\n",
       "    </tr>\n",
       "    <tr>\n",
       "      <th>2</th>\n",
       "      <td>PC5</td>\n",
       "      <td>875</td>\n",
       "      <td>PC36</td>\n",
       "      <td>FDF; FDF domain</td>\n",
       "    </tr>\n",
       "    <tr>\n",
       "      <th>3</th>\n",
       "      <td>PC8</td>\n",
       "      <td>51</td>\n",
       "      <td>PC51</td>\n",
       "      <td>AD; Anticodon-binding domain</td>\n",
       "    </tr>\n",
       "    <tr>\n",
       "      <th>4</th>\n",
       "      <td>PC12</td>\n",
       "      <td>488</td>\n",
       "      <td>PC56</td>\n",
       "      <td>Cnd1_N; Condensin complex subunit 1, N-terminal</td>\n",
       "    </tr>\n",
       "    <tr>\n",
       "      <th>5</th>\n",
       "      <td>PC18</td>\n",
       "      <td>300</td>\n",
       "      <td>PC22</td>\n",
       "      <td>BolA; BolA protein</td>\n",
       "    </tr>\n",
       "    <tr>\n",
       "      <th>6</th>\n",
       "      <td>PC19</td>\n",
       "      <td>62</td>\n",
       "      <td>PC26</td>\n",
       "      <td>AHSA1; Activator of Hsp90 ATPase homologue 1-like</td>\n",
       "    </tr>\n",
       "    <tr>\n",
       "      <th>7</th>\n",
       "      <td>PC20</td>\n",
       "      <td>2610</td>\n",
       "      <td>PC5</td>\n",
       "      <td>TPK_B1_binding; Thiamin pyrophosphokinase, vit...</td>\n",
       "    </tr>\n",
       "    <tr>\n",
       "      <th>8</th>\n",
       "      <td>PC22</td>\n",
       "      <td>341</td>\n",
       "      <td>PC57</td>\n",
       "      <td>CDP-OH_P_transf; CDP-alcohol phosphatidyltrans...</td>\n",
       "    </tr>\n",
       "    <tr>\n",
       "      <th>9</th>\n",
       "      <td>PC25</td>\n",
       "      <td>463</td>\n",
       "      <td>PC28</td>\n",
       "      <td>Chitin_synth_1N; Chitin synthase N-terminal</td>\n",
       "    </tr>\n",
       "    <tr>\n",
       "      <th>10</th>\n",
       "      <td>PC26</td>\n",
       "      <td>24</td>\n",
       "      <td>PC84</td>\n",
       "      <td>AAA_5; ATPase, dynein-related, AAA domain</td>\n",
       "    </tr>\n",
       "    <tr>\n",
       "      <th>11</th>\n",
       "      <td>PC28</td>\n",
       "      <td>257</td>\n",
       "      <td>PC30</td>\n",
       "      <td>BAR_2; BAR domain-containing family</td>\n",
       "    </tr>\n",
       "    <tr>\n",
       "      <th>12</th>\n",
       "      <td>PC33</td>\n",
       "      <td>369</td>\n",
       "      <td>PC118</td>\n",
       "      <td>CNH; Citron homology (CNH) domain</td>\n",
       "    </tr>\n",
       "    <tr>\n",
       "      <th>13</th>\n",
       "      <td>PC34</td>\n",
       "      <td>383</td>\n",
       "      <td>PC48</td>\n",
       "      <td>COPI_C; Coatomer, alpha subunit, C-terminal</td>\n",
       "    </tr>\n",
       "    <tr>\n",
       "      <th>14</th>\n",
       "      <td>PC36</td>\n",
       "      <td>1836</td>\n",
       "      <td>PC34</td>\n",
       "      <td>PTPLA; Protein-tyrosine phosphatase-like, PTPLA</td>\n",
       "    </tr>\n",
       "    <tr>\n",
       "      <th>15</th>\n",
       "      <td>PC39</td>\n",
       "      <td>1072</td>\n",
       "      <td>PC33</td>\n",
       "      <td>Glycos_transf_1; Glycosyl transferase, family 1</td>\n",
       "    </tr>\n",
       "    <tr>\n",
       "      <th>16</th>\n",
       "      <td>PC42</td>\n",
       "      <td>450</td>\n",
       "      <td>PC149</td>\n",
       "      <td>Cation_efflux; Cation efflux protein</td>\n",
       "    </tr>\n",
       "    <tr>\n",
       "      <th>17</th>\n",
       "      <td>PC47</td>\n",
       "      <td>773</td>\n",
       "      <td>PC63</td>\n",
       "      <td>Dynein_light; Dynein light chain, type 1/2</td>\n",
       "    </tr>\n",
       "    <tr>\n",
       "      <th>18</th>\n",
       "      <td>PC50</td>\n",
       "      <td>78</td>\n",
       "      <td>PC252</td>\n",
       "      <td>AMP-binding_C; AMP-binding enzyme, C-terminal ...</td>\n",
       "    </tr>\n",
       "    <tr>\n",
       "      <th>19</th>\n",
       "      <td>PC52</td>\n",
       "      <td>363</td>\n",
       "      <td>PC267</td>\n",
       "      <td>CLP1_P; Polyribonucleotide 5&amp;apos;-hydroxyl-ki...</td>\n",
       "    </tr>\n",
       "    <tr>\n",
       "      <th>20</th>\n",
       "      <td>PC53</td>\n",
       "      <td>599</td>\n",
       "      <td>PC8</td>\n",
       "      <td>DLIC; Dynein family light intermediate chain</td>\n",
       "    </tr>\n",
       "    <tr>\n",
       "      <th>21</th>\n",
       "      <td>PC61</td>\n",
       "      <td>1275</td>\n",
       "      <td>PC92</td>\n",
       "      <td>Kinetocho_Slk19; Central kinetochore-associated</td>\n",
       "    </tr>\n",
       "    <tr>\n",
       "      <th>22</th>\n",
       "      <td>PC63</td>\n",
       "      <td>625</td>\n",
       "      <td>PC181</td>\n",
       "      <td>DRE2_N; Fe-S cluster assembly protein Dre2, N-...</td>\n",
       "    </tr>\n",
       "    <tr>\n",
       "      <th>23</th>\n",
       "      <td>PC73</td>\n",
       "      <td>505</td>\n",
       "      <td>PC80</td>\n",
       "      <td>Copper-fist; Copper fist DNA-binding domain</td>\n",
       "    </tr>\n",
       "    <tr>\n",
       "      <th>24</th>\n",
       "      <td>PC85</td>\n",
       "      <td>2323</td>\n",
       "      <td>PC21</td>\n",
       "      <td>SHQ1; SHQ1 protein</td>\n",
       "    </tr>\n",
       "    <tr>\n",
       "      <th>25</th>\n",
       "      <td>PC88</td>\n",
       "      <td>39</td>\n",
       "      <td>PC166</td>\n",
       "      <td>ABC_membrane; ABC transporter type 1, transmem...</td>\n",
       "    </tr>\n",
       "    <tr>\n",
       "      <th>26</th>\n",
       "      <td>PC90</td>\n",
       "      <td>2101</td>\n",
       "      <td>PC29</td>\n",
       "      <td>Ran-binding; GTP-binding nuclear protein Ran-r...</td>\n",
       "    </tr>\n",
       "    <tr>\n",
       "      <th>27</th>\n",
       "      <td>PC93</td>\n",
       "      <td>2936</td>\n",
       "      <td>PC130</td>\n",
       "      <td>tRNA-synt_1c; Glutamyl/glutaminyl-tRNA synthet...</td>\n",
       "    </tr>\n",
       "    <tr>\n",
       "      <th>28</th>\n",
       "      <td>PC96</td>\n",
       "      <td>2056</td>\n",
       "      <td>PC190</td>\n",
       "      <td>RRM; RNA-binding domain, putative</td>\n",
       "    </tr>\n",
       "    <tr>\n",
       "      <th>29</th>\n",
       "      <td>PC97</td>\n",
       "      <td>613</td>\n",
       "      <td>PC91</td>\n",
       "      <td>DNA_pol_B; DNA-directed DNA polymerase, family...</td>\n",
       "    </tr>\n",
       "    <tr>\n",
       "      <th>30</th>\n",
       "      <td>PC98</td>\n",
       "      <td>685</td>\n",
       "      <td>PC110</td>\n",
       "      <td>DUF2722; Protein of unknown function DUF2722</td>\n",
       "    </tr>\n",
       "    <tr>\n",
       "      <th>31</th>\n",
       "      <td>PC130</td>\n",
       "      <td>685</td>\n",
       "      <td>PC110</td>\n",
       "      <td>DUF2722; Protein of unknown function DUF2722</td>\n",
       "    </tr>\n",
       "    <tr>\n",
       "      <th>32</th>\n",
       "      <td>PC103</td>\n",
       "      <td>1390</td>\n",
       "      <td>PC258</td>\n",
       "      <td>MOZ_SAS; Histone acetyltransferase domain, MYS...</td>\n",
       "    </tr>\n",
       "    <tr>\n",
       "      <th>33</th>\n",
       "      <td>PC133</td>\n",
       "      <td>494</td>\n",
       "      <td>PC189</td>\n",
       "      <td>CoaE; Dephospho-CoA kinase</td>\n",
       "    </tr>\n",
       "    <tr>\n",
       "      <th>34</th>\n",
       "      <td>PC133</td>\n",
       "      <td>494</td>\n",
       "      <td>PC200</td>\n",
       "      <td>CoaE; Dephospho-CoA kinase</td>\n",
       "    </tr>\n",
       "    <tr>\n",
       "      <th>35</th>\n",
       "      <td>PC135</td>\n",
       "      <td>68</td>\n",
       "      <td>PC257</td>\n",
       "      <td>AIRC; PurE domain</td>\n",
       "    </tr>\n",
       "    <tr>\n",
       "      <th>36</th>\n",
       "      <td>PC136</td>\n",
       "      <td>2292</td>\n",
       "      <td>PC177</td>\n",
       "      <td>SAP30_Sin3_bdg; Histone deacetylase complex su...</td>\n",
       "    </tr>\n",
       "    <tr>\n",
       "      <th>37</th>\n",
       "      <td>PC136</td>\n",
       "      <td>2292</td>\n",
       "      <td>PC179</td>\n",
       "      <td>SAP30_Sin3_bdg; Histone deacetylase complex su...</td>\n",
       "    </tr>\n",
       "    <tr>\n",
       "      <th>38</th>\n",
       "      <td>PC141</td>\n",
       "      <td>1182</td>\n",
       "      <td>PC231</td>\n",
       "      <td>Homeobox; Homeobox domain</td>\n",
       "    </tr>\n",
       "    <tr>\n",
       "      <th>39</th>\n",
       "      <td>PC146</td>\n",
       "      <td>35</td>\n",
       "      <td>PC195</td>\n",
       "      <td>AA_permease; Amino acid permease/ SLC12A domain</td>\n",
       "    </tr>\n",
       "    <tr>\n",
       "      <th>40</th>\n",
       "      <td>PC150</td>\n",
       "      <td>35</td>\n",
       "      <td>PC195</td>\n",
       "      <td>AA_permease; Amino acid permease/ SLC12A domain</td>\n",
       "    </tr>\n",
       "    <tr>\n",
       "      <th>41</th>\n",
       "      <td>PC169</td>\n",
       "      <td>2475</td>\n",
       "      <td>PC204</td>\n",
       "      <td>Shikimate_dh_N; Shikimate dehydrogenase substr...</td>\n",
       "    </tr>\n",
       "    <tr>\n",
       "      <th>42</th>\n",
       "      <td>PC179</td>\n",
       "      <td>38</td>\n",
       "      <td>PC168</td>\n",
       "      <td>ABC2_membrane; ABC-2 type transporter</td>\n",
       "    </tr>\n",
       "    <tr>\n",
       "      <th>43</th>\n",
       "      <td>PC202</td>\n",
       "      <td>1969</td>\n",
       "      <td>PC148</td>\n",
       "      <td>RAI1; RAI1-like</td>\n",
       "    </tr>\n",
       "    <tr>\n",
       "      <th>44</th>\n",
       "      <td>PC219</td>\n",
       "      <td>1969</td>\n",
       "      <td>PC148</td>\n",
       "      <td>RAI1; RAI1-like</td>\n",
       "    </tr>\n",
       "    <tr>\n",
       "      <th>45</th>\n",
       "      <td>PC271</td>\n",
       "      <td>1969</td>\n",
       "      <td>PC148</td>\n",
       "      <td>RAI1; RAI1-like</td>\n",
       "    </tr>\n",
       "    <tr>\n",
       "      <th>46</th>\n",
       "      <td>PC220</td>\n",
       "      <td>11</td>\n",
       "      <td>PC116</td>\n",
       "      <td>5-FTHF_cyc-lig; 5-formyltetrahydrofolate cyclo...</td>\n",
       "    </tr>\n",
       "    <tr>\n",
       "      <th>47</th>\n",
       "      <td>PC220</td>\n",
       "      <td>11</td>\n",
       "      <td>PC117</td>\n",
       "      <td>5-FTHF_cyc-lig; 5-formyltetrahydrofolate cyclo...</td>\n",
       "    </tr>\n",
       "    <tr>\n",
       "      <th>48</th>\n",
       "      <td>PC223</td>\n",
       "      <td>381</td>\n",
       "      <td>PC192</td>\n",
       "      <td>COP-gamma_platf; Coatomer, gamma subunit, appe...</td>\n",
       "    </tr>\n",
       "    <tr>\n",
       "      <th>49</th>\n",
       "      <td>PC227</td>\n",
       "      <td>1046</td>\n",
       "      <td>PC150</td>\n",
       "      <td>Glyco_hydro_18; Glycoside hydrolase family 18,...</td>\n",
       "    </tr>\n",
       "    <tr>\n",
       "      <th>50</th>\n",
       "      <td>PC249</td>\n",
       "      <td>1362</td>\n",
       "      <td>PC96</td>\n",
       "      <td>MDM31_MDM32; Mitochondrial distribution and mo...</td>\n",
       "    </tr>\n",
       "    <tr>\n",
       "      <th>51</th>\n",
       "      <td>PC249</td>\n",
       "      <td>1362</td>\n",
       "      <td>PC97</td>\n",
       "      <td>MDM31_MDM32; Mitochondrial distribution and mo...</td>\n",
       "    </tr>\n",
       "    <tr>\n",
       "      <th>52</th>\n",
       "      <td>PC252</td>\n",
       "      <td>1575</td>\n",
       "      <td>PC263</td>\n",
       "      <td>NOC3p; Nucleolar complex-associated protein 3,...</td>\n",
       "    </tr>\n",
       "    <tr>\n",
       "      <th>53</th>\n",
       "      <td>PC252</td>\n",
       "      <td>1575</td>\n",
       "      <td>PC264</td>\n",
       "      <td>NOC3p; Nucleolar complex-associated protein 3,...</td>\n",
       "    </tr>\n",
       "    <tr>\n",
       "      <th>54</th>\n",
       "      <td>PC258</td>\n",
       "      <td>1458</td>\n",
       "      <td>PC139</td>\n",
       "      <td>Mem_trans; Membrane transport protein</td>\n",
       "    </tr>\n",
       "    <tr>\n",
       "      <th>55</th>\n",
       "      <td>PC266</td>\n",
       "      <td>1458</td>\n",
       "      <td>PC139</td>\n",
       "      <td>Mem_trans; Membrane transport protein</td>\n",
       "    </tr>\n",
       "    <tr>\n",
       "      <th>56</th>\n",
       "      <td>PC267</td>\n",
       "      <td>27</td>\n",
       "      <td>PC161</td>\n",
       "      <td>AAA_8; Dynein heavy chain, P-loop containing D...</td>\n",
       "    </tr>\n",
       "  </tbody>\n",
       "</table>\n",
       "</div>"
      ],
      "text/plain": [
       "   pca-component_x  domain-number pca-component_y  \\\n",
       "0              PC2            989            PC60   \n",
       "1              PC4           2113             PC7   \n",
       "2              PC5            875            PC36   \n",
       "3              PC8             51            PC51   \n",
       "4             PC12            488            PC56   \n",
       "5             PC18            300            PC22   \n",
       "6             PC19             62            PC26   \n",
       "7             PC20           2610             PC5   \n",
       "8             PC22            341            PC57   \n",
       "9             PC25            463            PC28   \n",
       "10            PC26             24            PC84   \n",
       "11            PC28            257            PC30   \n",
       "12            PC33            369           PC118   \n",
       "13            PC34            383            PC48   \n",
       "14            PC36           1836            PC34   \n",
       "15            PC39           1072            PC33   \n",
       "16            PC42            450           PC149   \n",
       "17            PC47            773            PC63   \n",
       "18            PC50             78           PC252   \n",
       "19            PC52            363           PC267   \n",
       "20            PC53            599             PC8   \n",
       "21            PC61           1275            PC92   \n",
       "22            PC63            625           PC181   \n",
       "23            PC73            505            PC80   \n",
       "24            PC85           2323            PC21   \n",
       "25            PC88             39           PC166   \n",
       "26            PC90           2101            PC29   \n",
       "27            PC93           2936           PC130   \n",
       "28            PC96           2056           PC190   \n",
       "29            PC97            613            PC91   \n",
       "30            PC98            685           PC110   \n",
       "31           PC130            685           PC110   \n",
       "32           PC103           1390           PC258   \n",
       "33           PC133            494           PC189   \n",
       "34           PC133            494           PC200   \n",
       "35           PC135             68           PC257   \n",
       "36           PC136           2292           PC177   \n",
       "37           PC136           2292           PC179   \n",
       "38           PC141           1182           PC231   \n",
       "39           PC146             35           PC195   \n",
       "40           PC150             35           PC195   \n",
       "41           PC169           2475           PC204   \n",
       "42           PC179             38           PC168   \n",
       "43           PC202           1969           PC148   \n",
       "44           PC219           1969           PC148   \n",
       "45           PC271           1969           PC148   \n",
       "46           PC220             11           PC116   \n",
       "47           PC220             11           PC117   \n",
       "48           PC223            381           PC192   \n",
       "49           PC227           1046           PC150   \n",
       "50           PC249           1362            PC96   \n",
       "51           PC249           1362            PC97   \n",
       "52           PC252           1575           PC263   \n",
       "53           PC252           1575           PC264   \n",
       "54           PC258           1458           PC139   \n",
       "55           PC266           1458           PC139   \n",
       "56           PC267             27           PC161   \n",
       "\n",
       "                                   domain-description  \n",
       "0                                     GLE1; GLE1-like  \n",
       "1       Rav1p_C; RAVE complex protein Rav1 C-terminal  \n",
       "2                                     FDF; FDF domain  \n",
       "3                        AD; Anticodon-binding domain  \n",
       "4     Cnd1_N; Condensin complex subunit 1, N-terminal  \n",
       "5                                  BolA; BolA protein  \n",
       "6   AHSA1; Activator of Hsp90 ATPase homologue 1-like  \n",
       "7   TPK_B1_binding; Thiamin pyrophosphokinase, vit...  \n",
       "8   CDP-OH_P_transf; CDP-alcohol phosphatidyltrans...  \n",
       "9         Chitin_synth_1N; Chitin synthase N-terminal  \n",
       "10          AAA_5; ATPase, dynein-related, AAA domain  \n",
       "11                BAR_2; BAR domain-containing family  \n",
       "12                  CNH; Citron homology (CNH) domain  \n",
       "13        COPI_C; Coatomer, alpha subunit, C-terminal  \n",
       "14    PTPLA; Protein-tyrosine phosphatase-like, PTPLA  \n",
       "15    Glycos_transf_1; Glycosyl transferase, family 1  \n",
       "16               Cation_efflux; Cation efflux protein  \n",
       "17         Dynein_light; Dynein light chain, type 1/2  \n",
       "18  AMP-binding_C; AMP-binding enzyme, C-terminal ...  \n",
       "19  CLP1_P; Polyribonucleotide 5&apos;-hydroxyl-ki...  \n",
       "20       DLIC; Dynein family light intermediate chain  \n",
       "21    Kinetocho_Slk19; Central kinetochore-associated  \n",
       "22  DRE2_N; Fe-S cluster assembly protein Dre2, N-...  \n",
       "23        Copper-fist; Copper fist DNA-binding domain  \n",
       "24                                 SHQ1; SHQ1 protein  \n",
       "25  ABC_membrane; ABC transporter type 1, transmem...  \n",
       "26  Ran-binding; GTP-binding nuclear protein Ran-r...  \n",
       "27  tRNA-synt_1c; Glutamyl/glutaminyl-tRNA synthet...  \n",
       "28                  RRM; RNA-binding domain, putative  \n",
       "29  DNA_pol_B; DNA-directed DNA polymerase, family...  \n",
       "30       DUF2722; Protein of unknown function DUF2722  \n",
       "31       DUF2722; Protein of unknown function DUF2722  \n",
       "32  MOZ_SAS; Histone acetyltransferase domain, MYS...  \n",
       "33                         CoaE; Dephospho-CoA kinase  \n",
       "34                         CoaE; Dephospho-CoA kinase  \n",
       "35                                  AIRC; PurE domain  \n",
       "36  SAP30_Sin3_bdg; Histone deacetylase complex su...  \n",
       "37  SAP30_Sin3_bdg; Histone deacetylase complex su...  \n",
       "38                          Homeobox; Homeobox domain  \n",
       "39    AA_permease; Amino acid permease/ SLC12A domain  \n",
       "40    AA_permease; Amino acid permease/ SLC12A domain  \n",
       "41  Shikimate_dh_N; Shikimate dehydrogenase substr...  \n",
       "42              ABC2_membrane; ABC-2 type transporter  \n",
       "43                                    RAI1; RAI1-like  \n",
       "44                                    RAI1; RAI1-like  \n",
       "45                                    RAI1; RAI1-like  \n",
       "46  5-FTHF_cyc-lig; 5-formyltetrahydrofolate cyclo...  \n",
       "47  5-FTHF_cyc-lig; 5-formyltetrahydrofolate cyclo...  \n",
       "48  COP-gamma_platf; Coatomer, gamma subunit, appe...  \n",
       "49  Glyco_hydro_18; Glycoside hydrolase family 18,...  \n",
       "50  MDM31_MDM32; Mitochondrial distribution and mo...  \n",
       "51  MDM31_MDM32; Mitochondrial distribution and mo...  \n",
       "52  NOC3p; Nucleolar complex-associated protein 3,...  \n",
       "53  NOC3p; Nucleolar complex-associated protein 3,...  \n",
       "54              Mem_trans; Membrane transport protein  \n",
       "55              Mem_trans; Membrane transport protein  \n",
       "56  AAA_8; Dynein heavy chain, P-loop containing D...  "
      ]
     },
     "execution_count": 22,
     "metadata": {},
     "output_type": "execute_result"
    }
   ],
   "source": [
    "df_shared_domains=pd.merge(df_sl,df_nsl,how='inner',on='domain-number')\n",
    "domains_name=np.unique(data_domains['domain-name'])\n",
    "domains_description=np.unique(data_domains['domain-descrip'])\n",
    "\n",
    "df_shared_domains['domain-description']=domains_description[df_shared_domains['domain-number']]\n",
    "\n",
    "\n",
    "df_shared_domains"
   ]
  },
  {
   "cell_type": "code",
   "execution_count": 23,
   "metadata": {
    "execution": {
     "iopub.execute_input": "2020-07-23T03:20:47.417620Z",
     "iopub.status.busy": "2020-07-23T03:20:47.416936Z",
     "iopub.status.idle": "2020-07-23T03:20:47.422524Z",
     "shell.execute_reply": "2020-07-23T03:20:47.423075Z"
    }
   },
   "outputs": [
    {
     "name": "stdout",
     "output_type": "stream",
     "text": [
      "The number of shared domains between SL and nSL pairs,after PCA, is =  57 out of 554 so the 10.288808664259928 %\n"
     ]
    }
   ],
   "source": [
    "print('The number of shared domains between SL and nSL pairs,after PCA, is = ',len(df_shared_domains), 'out of', len(df_sl)+len(df_nsl), 'so the',100*len(df_shared_domains)/(len(df_sl)+len(df_nsl)),'%')"
   ]
  },
  {
   "cell_type": "markdown",
   "metadata": {},
   "source": [
    "## Domains exclusive to SL"
   ]
  },
  {
   "cell_type": "code",
   "execution_count": 24,
   "metadata": {
    "execution": {
     "iopub.execute_input": "2020-07-23T03:20:47.425484Z",
     "iopub.status.busy": "2020-07-23T03:20:47.424722Z",
     "iopub.status.idle": "2020-07-23T03:20:47.455009Z",
     "shell.execute_reply": "2020-07-23T03:20:47.455598Z"
    }
   },
   "outputs": [
    {
     "data": {
      "text/html": [
       "<div>\n",
       "<style scoped>\n",
       "    .dataframe tbody tr th:only-of-type {\n",
       "        vertical-align: middle;\n",
       "    }\n",
       "\n",
       "    .dataframe tbody tr th {\n",
       "        vertical-align: top;\n",
       "    }\n",
       "\n",
       "    .dataframe thead th {\n",
       "        text-align: right;\n",
       "    }\n",
       "</style>\n",
       "<table border=\"1\" class=\"dataframe\">\n",
       "  <thead>\n",
       "    <tr style=\"text-align: right;\">\n",
       "      <th></th>\n",
       "      <th>pca-component_x</th>\n",
       "      <th>domain-number</th>\n",
       "      <th>pca-component_y</th>\n",
       "      <th>domain-description</th>\n",
       "    </tr>\n",
       "  </thead>\n",
       "  <tbody>\n",
       "    <tr>\n",
       "      <th>0</th>\n",
       "      <td>PC0</td>\n",
       "      <td>142</td>\n",
       "      <td>NaN</td>\n",
       "      <td>ATP_synt_H; ATPase, V0 complex, subunit e1/e2</td>\n",
       "    </tr>\n",
       "    <tr>\n",
       "      <th>1</th>\n",
       "      <td>PC1</td>\n",
       "      <td>540</td>\n",
       "      <td>NaN</td>\n",
       "      <td>Cytochrome_B; Cytochrome b/b6, N-terminal</td>\n",
       "    </tr>\n",
       "    <tr>\n",
       "      <th>3</th>\n",
       "      <td>PC3</td>\n",
       "      <td>150</td>\n",
       "      <td>NaN</td>\n",
       "      <td>Abhydrolase_3; Alpha/beta hydrolase fold-3</td>\n",
       "    </tr>\n",
       "    <tr>\n",
       "      <th>6</th>\n",
       "      <td>PC6</td>\n",
       "      <td>55</td>\n",
       "      <td>NaN</td>\n",
       "      <td>ADK</td>\n",
       "    </tr>\n",
       "    <tr>\n",
       "      <th>7</th>\n",
       "      <td>PC7</td>\n",
       "      <td>312</td>\n",
       "      <td>NaN</td>\n",
       "      <td>C2; C2 domain</td>\n",
       "    </tr>\n",
       "    <tr>\n",
       "      <th>...</th>\n",
       "      <td>...</td>\n",
       "      <td>...</td>\n",
       "      <td>...</td>\n",
       "      <td>...</td>\n",
       "    </tr>\n",
       "    <tr>\n",
       "      <th>284</th>\n",
       "      <td>PC279</td>\n",
       "      <td>1095</td>\n",
       "      <td>NaN</td>\n",
       "      <td>HAT; HAT (Half-A-TPR) repeat</td>\n",
       "    </tr>\n",
       "    <tr>\n",
       "      <th>285</th>\n",
       "      <td>PC280</td>\n",
       "      <td>407</td>\n",
       "      <td>NaN</td>\n",
       "      <td>CPSase_L_D2; Carbamoyl-phosphate synthetase la...</td>\n",
       "    </tr>\n",
       "    <tr>\n",
       "      <th>286</th>\n",
       "      <td>PC281</td>\n",
       "      <td>259</td>\n",
       "      <td>NaN</td>\n",
       "      <td>BATS; Biotin and thiamin synthesis-associated ...</td>\n",
       "    </tr>\n",
       "    <tr>\n",
       "      <th>287</th>\n",
       "      <td>PC282</td>\n",
       "      <td>259</td>\n",
       "      <td>NaN</td>\n",
       "      <td>BATS; Biotin and thiamin synthesis-associated ...</td>\n",
       "    </tr>\n",
       "    <tr>\n",
       "      <th>288</th>\n",
       "      <td>PC283</td>\n",
       "      <td>1319</td>\n",
       "      <td>NaN</td>\n",
       "      <td>Lectin_leg-like; Legume-like lectin</td>\n",
       "    </tr>\n",
       "  </tbody>\n",
       "</table>\n",
       "<p>232 rows × 4 columns</p>\n",
       "</div>"
      ],
      "text/plain": [
       "    pca-component_x  domain-number pca-component_y  \\\n",
       "0               PC0            142             NaN   \n",
       "1               PC1            540             NaN   \n",
       "3               PC3            150             NaN   \n",
       "6               PC6             55             NaN   \n",
       "7               PC7            312             NaN   \n",
       "..              ...            ...             ...   \n",
       "284           PC279           1095             NaN   \n",
       "285           PC280            407             NaN   \n",
       "286           PC281            259             NaN   \n",
       "287           PC282            259             NaN   \n",
       "288           PC283           1319             NaN   \n",
       "\n",
       "                                    domain-description  \n",
       "0        ATP_synt_H; ATPase, V0 complex, subunit e1/e2  \n",
       "1            Cytochrome_B; Cytochrome b/b6, N-terminal  \n",
       "3           Abhydrolase_3; Alpha/beta hydrolase fold-3  \n",
       "6                                                  ADK  \n",
       "7                                        C2; C2 domain  \n",
       "..                                                 ...  \n",
       "284                       HAT; HAT (Half-A-TPR) repeat  \n",
       "285  CPSase_L_D2; Carbamoyl-phosphate synthetase la...  \n",
       "286  BATS; Biotin and thiamin synthesis-associated ...  \n",
       "287  BATS; Biotin and thiamin synthesis-associated ...  \n",
       "288                Lectin_leg-like; Legume-like lectin  \n",
       "\n",
       "[232 rows x 4 columns]"
      ]
     },
     "execution_count": 24,
     "metadata": {},
     "output_type": "execute_result"
    }
   ],
   "source": [
    "df_sl_exclusive=pd.merge(df_sl,df_nsl,how='left',on='domain-number')\n",
    "\n",
    "domains_name=np.unique(data_domains['domain-name'])\n",
    "domains_description=np.unique(data_domains['domain-descrip'])\n",
    "\n",
    "df_sl_exclusive['domain-description']=domains_description[df_sl_exclusive['domain-number']]\n",
    "df_sl_exclusive[pd.isnull(df_sl_exclusive['pca-component_y'])]"
   ]
  },
  {
   "cell_type": "code",
   "execution_count": 25,
   "metadata": {
    "execution": {
     "iopub.execute_input": "2020-07-23T03:20:47.458136Z",
     "iopub.status.busy": "2020-07-23T03:20:47.457494Z",
     "iopub.status.idle": "2020-07-23T03:20:47.463063Z",
     "shell.execute_reply": "2020-07-23T03:20:47.463701Z"
    }
   },
   "outputs": [
    {
     "name": "stdout",
     "output_type": "stream",
     "text": [
      "The number of exclusive domains from SL pairs, after PCA, is =  289 out of 554 so the 52.16606498194946 %\n"
     ]
    }
   ],
   "source": [
    "print('The number of exclusive domains from SL pairs, after PCA, is = ',len(df_sl_exclusive), 'out of', len(df_sl)+len(df_nsl), 'so the',100*len(df_sl_exclusive)/(len(df_sl)+len(df_nsl)),'%')"
   ]
  },
  {
   "cell_type": "code",
   "execution_count": 26,
   "metadata": {
    "execution": {
     "iopub.execute_input": "2020-07-23T03:20:47.466401Z",
     "iopub.status.busy": "2020-07-23T03:20:47.465680Z",
     "iopub.status.idle": "2020-07-23T03:20:47.502002Z",
     "shell.execute_reply": "2020-07-23T03:20:47.501183Z"
    }
   },
   "outputs": [
    {
     "data": {
      "text/html": [
       "<div>\n",
       "<style scoped>\n",
       "    .dataframe tbody tr th:only-of-type {\n",
       "        vertical-align: middle;\n",
       "    }\n",
       "\n",
       "    .dataframe tbody tr th {\n",
       "        vertical-align: top;\n",
       "    }\n",
       "\n",
       "    .dataframe thead th {\n",
       "        text-align: right;\n",
       "    }\n",
       "</style>\n",
       "<table border=\"1\" class=\"dataframe\">\n",
       "  <thead>\n",
       "    <tr style=\"text-align: right;\">\n",
       "      <th></th>\n",
       "      <th>pca-component_x</th>\n",
       "      <th>domain-number</th>\n",
       "      <th>pca-component_y</th>\n",
       "      <th>domain-description</th>\n",
       "    </tr>\n",
       "  </thead>\n",
       "  <tbody>\n",
       "    <tr>\n",
       "      <th>57</th>\n",
       "      <td>NaN</td>\n",
       "      <td>305</td>\n",
       "      <td>PC0</td>\n",
       "      <td>Brr6_like_C_C; Brl1/Brr6 domain</td>\n",
       "    </tr>\n",
       "    <tr>\n",
       "      <th>58</th>\n",
       "      <td>NaN</td>\n",
       "      <td>1110</td>\n",
       "      <td>PC1</td>\n",
       "      <td>HEM4; Tetrapyrrole biosynthesis, uroporphyrino...</td>\n",
       "    </tr>\n",
       "    <tr>\n",
       "      <th>59</th>\n",
       "      <td>NaN</td>\n",
       "      <td>101</td>\n",
       "      <td>PC2</td>\n",
       "      <td>ARD; Acireductone dioxygenase ARD family</td>\n",
       "    </tr>\n",
       "    <tr>\n",
       "      <th>60</th>\n",
       "      <td>NaN</td>\n",
       "      <td>428</td>\n",
       "      <td>PC3</td>\n",
       "      <td>CTP_synth_N; CTP synthase, N-terminal</td>\n",
       "    </tr>\n",
       "    <tr>\n",
       "      <th>61</th>\n",
       "      <td>NaN</td>\n",
       "      <td>1175</td>\n",
       "      <td>PC4</td>\n",
       "      <td>Hist_deacetyl; Histone deacetylase domain</td>\n",
       "    </tr>\n",
       "    <tr>\n",
       "      <th>...</th>\n",
       "      <td>...</td>\n",
       "      <td>...</td>\n",
       "      <td>...</td>\n",
       "      <td>...</td>\n",
       "    </tr>\n",
       "    <tr>\n",
       "      <th>270</th>\n",
       "      <td>NaN</td>\n",
       "      <td>1294</td>\n",
       "      <td>PC262</td>\n",
       "      <td>LIAS_N; Lipoyl synthase, N-terminal</td>\n",
       "    </tr>\n",
       "    <tr>\n",
       "      <th>271</th>\n",
       "      <td>NaN</td>\n",
       "      <td>2442</td>\n",
       "      <td>PC265</td>\n",
       "      <td>Sec2p; GDP/GTP exchange factor Sec2, N-terminal</td>\n",
       "    </tr>\n",
       "    <tr>\n",
       "      <th>272</th>\n",
       "      <td>NaN</td>\n",
       "      <td>2442</td>\n",
       "      <td>PC266</td>\n",
       "      <td>Sec2p; GDP/GTP exchange factor Sec2, N-terminal</td>\n",
       "    </tr>\n",
       "    <tr>\n",
       "      <th>273</th>\n",
       "      <td>NaN</td>\n",
       "      <td>2311</td>\n",
       "      <td>PC268</td>\n",
       "      <td>SF1-HH; Splicing factor 1, helix-hairpin domain</td>\n",
       "    </tr>\n",
       "    <tr>\n",
       "      <th>274</th>\n",
       "      <td>NaN</td>\n",
       "      <td>1493</td>\n",
       "      <td>PC269</td>\n",
       "      <td>Mit_ribos_Mrp51; Mitochondrial ribosomal prote...</td>\n",
       "    </tr>\n",
       "  </tbody>\n",
       "</table>\n",
       "<p>218 rows × 4 columns</p>\n",
       "</div>"
      ],
      "text/plain": [
       "    pca-component_x  domain-number pca-component_y  \\\n",
       "57              NaN            305             PC0   \n",
       "58              NaN           1110             PC1   \n",
       "59              NaN            101             PC2   \n",
       "60              NaN            428             PC3   \n",
       "61              NaN           1175             PC4   \n",
       "..              ...            ...             ...   \n",
       "270             NaN           1294           PC262   \n",
       "271             NaN           2442           PC265   \n",
       "272             NaN           2442           PC266   \n",
       "273             NaN           2311           PC268   \n",
       "274             NaN           1493           PC269   \n",
       "\n",
       "                                    domain-description  \n",
       "57                     Brr6_like_C_C; Brl1/Brr6 domain  \n",
       "58   HEM4; Tetrapyrrole biosynthesis, uroporphyrino...  \n",
       "59            ARD; Acireductone dioxygenase ARD family  \n",
       "60               CTP_synth_N; CTP synthase, N-terminal  \n",
       "61           Hist_deacetyl; Histone deacetylase domain  \n",
       "..                                                 ...  \n",
       "270                LIAS_N; Lipoyl synthase, N-terminal  \n",
       "271    Sec2p; GDP/GTP exchange factor Sec2, N-terminal  \n",
       "272    Sec2p; GDP/GTP exchange factor Sec2, N-terminal  \n",
       "273    SF1-HH; Splicing factor 1, helix-hairpin domain  \n",
       "274  Mit_ribos_Mrp51; Mitochondrial ribosomal prote...  \n",
       "\n",
       "[218 rows x 4 columns]"
      ]
     },
     "execution_count": 26,
     "metadata": {},
     "output_type": "execute_result"
    }
   ],
   "source": [
    "df_nsl_exclusive=pd.merge(df_sl,df_nsl,how='right',on='domain-number')\n",
    "\n",
    "domains_name=np.unique(data_domains['domain-name'])\n",
    "domains_description=np.unique(data_domains['domain-descrip'])\n",
    "\n",
    "df_nsl_exclusive['domain-description']=domains_description[df_nsl_exclusive['domain-number']]\n",
    "df_nsl_exclusive[pd.isnull(df_nsl_exclusive['pca-component_x'])]"
   ]
  },
  {
   "cell_type": "code",
   "execution_count": 27,
   "metadata": {
    "execution": {
     "iopub.execute_input": "2020-07-23T03:20:47.506756Z",
     "iopub.status.busy": "2020-07-23T03:20:47.506204Z",
     "iopub.status.idle": "2020-07-23T03:20:47.510689Z",
     "shell.execute_reply": "2020-07-23T03:20:47.510160Z"
    }
   },
   "outputs": [
    {
     "name": "stdout",
     "output_type": "stream",
     "text": [
      "The number of exclusive domains from non SL pairs, after PCA, is =  275 out of 554 so the 49.63898916967509 %\n"
     ]
    }
   ],
   "source": [
    "print('The number of exclusive domains from non SL pairs, after PCA, is = ',len(df_nsl_exclusive), 'out of', len(df_sl)+len(df_nsl), 'so the',100*len(df_nsl_exclusive)/(len(df_sl)+len(df_nsl)),'%')"
   ]
  },
  {
   "cell_type": "markdown",
   "metadata": {},
   "source": [
    "## Let see to the domains-number that get repeated after the PCA analysis , and selecting the most explanatory feature by its explained variance."
   ]
  },
  {
   "cell_type": "code",
   "execution_count": 28,
   "metadata": {
    "execution": {
     "iopub.execute_input": "2020-07-23T03:20:47.533665Z",
     "iopub.status.busy": "2020-07-23T03:20:47.519603Z",
     "iopub.status.idle": "2020-07-23T03:20:47.538982Z",
     "shell.execute_reply": "2020-07-23T03:20:47.539534Z"
    }
   },
   "outputs": [],
   "source": [
    "duplicated_features_sl=df_sl[df_sl.iloc[:,1].duplicated()]\n",
    "repeated_features_sl=pd.DataFrame()\n",
    "\n",
    "domains_name=np.unique(data_domains['domain-name'])\n",
    "domains_description=np.unique(data_domains['domain-descrip'])\n",
    "\n",
    "repeated_features_sl['domain-name']=domains_name[duplicated_features_sl.iloc[:,1]] \n",
    "repeated_features_sl['domain-description']=domains_description[duplicated_features_sl.iloc[:,1]]\n",
    "\n",
    "duplicated_features_nsl=df_nsl[df_nsl.iloc[:,1].duplicated()]\n",
    "repeated_features_nsl=pd.DataFrame()\n",
    "\n",
    "repeated_features_nsl['domain-name']=domains_name[duplicated_features_nsl.iloc[:,1]] \n",
    "repeated_features_nsl['domain-description']=domains_description[duplicated_features_nsl.iloc[:,1]]"
   ]
  },
  {
   "cell_type": "code",
   "execution_count": 29,
   "metadata": {
    "execution": {
     "iopub.execute_input": "2020-07-23T03:20:47.551023Z",
     "iopub.status.busy": "2020-07-23T03:20:47.545915Z",
     "iopub.status.idle": "2020-07-23T03:20:47.556040Z",
     "shell.execute_reply": "2020-07-23T03:20:47.555556Z"
    }
   },
   "outputs": [
    {
     "data": {
      "text/plain": [
       "((55, 4), (289, 4))"
      ]
     },
     "execution_count": 29,
     "metadata": {},
     "output_type": "execute_result"
    }
   ],
   "source": [
    "only_sl_pd=pd.merge(repeated_features_sl,repeated_features_nsl,how='left',on=['domain-name'])\n",
    "data_only_sl = only_sl_pd[pd.isnull(only_sl_pd['domain-description_y'])]\n",
    "data_only_sl['domain-description']=data_only_sl['domain-description_x']\n",
    "data_only_sl.shape,df_sl_exclusive.shape"
   ]
  },
  {
   "cell_type": "code",
   "execution_count": 30,
   "metadata": {
    "execution": {
     "iopub.execute_input": "2020-07-23T03:20:47.577812Z",
     "iopub.status.busy": "2020-07-23T03:20:47.577114Z",
     "iopub.status.idle": "2020-07-23T03:20:47.587315Z",
     "shell.execute_reply": "2020-07-23T03:20:47.586753Z"
    }
   },
   "outputs": [
    {
     "data": {
      "text/html": [
       "<div>\n",
       "<style scoped>\n",
       "    .dataframe tbody tr th:only-of-type {\n",
       "        vertical-align: middle;\n",
       "    }\n",
       "\n",
       "    .dataframe tbody tr th {\n",
       "        vertical-align: top;\n",
       "    }\n",
       "\n",
       "    .dataframe thead th {\n",
       "        text-align: right;\n",
       "    }\n",
       "</style>\n",
       "<table border=\"1\" class=\"dataframe\">\n",
       "  <thead>\n",
       "    <tr style=\"text-align: right;\">\n",
       "      <th></th>\n",
       "      <th>domain-name</th>\n",
       "      <th>domain-description_x</th>\n",
       "      <th>domain-description_y</th>\n",
       "    </tr>\n",
       "  </thead>\n",
       "  <tbody>\n",
       "    <tr>\n",
       "      <th>0</th>\n",
       "      <td>PF02268</td>\n",
       "      <td>NaN</td>\n",
       "      <td>FACT-Spt16_Nlob; FACT complex subunit Spt16, N...</td>\n",
       "    </tr>\n",
       "    <tr>\n",
       "      <th>1</th>\n",
       "      <td>PF00790</td>\n",
       "      <td>NaN</td>\n",
       "      <td>COPI_assoc; Golgi apparatus membrane protein T...</td>\n",
       "    </tr>\n",
       "    <tr>\n",
       "      <th>2</th>\n",
       "      <td>PF02735</td>\n",
       "      <td>NaN</td>\n",
       "      <td>Frag1; Frag1/DRAM/Sfk1</td>\n",
       "    </tr>\n",
       "    <tr>\n",
       "      <th>3</th>\n",
       "      <td>PF05390</td>\n",
       "      <td>NaN</td>\n",
       "      <td>NAD_kinase; NAD kinase</td>\n",
       "    </tr>\n",
       "    <tr>\n",
       "      <th>4</th>\n",
       "      <td>PF12157</td>\n",
       "      <td>NaN</td>\n",
       "      <td>Sec7; Sec7 domain</td>\n",
       "    </tr>\n",
       "    <tr>\n",
       "      <th>5</th>\n",
       "      <td>PF04488</td>\n",
       "      <td>NaN</td>\n",
       "      <td>MDM31_MDM32; Mitochondrial distribution and mo...</td>\n",
       "    </tr>\n",
       "    <tr>\n",
       "      <th>6</th>\n",
       "      <td>PF00266</td>\n",
       "      <td>NaN</td>\n",
       "      <td>ATP-synt_J; ATP synthase, F0 complex, subunit J</td>\n",
       "    </tr>\n",
       "    <tr>\n",
       "      <th>7</th>\n",
       "      <td>PF05615</td>\n",
       "      <td>NaN</td>\n",
       "      <td>NIR_SIR_ferr; Nitrite/Sulfite reductase ferred...</td>\n",
       "    </tr>\n",
       "    <tr>\n",
       "      <th>8</th>\n",
       "      <td>PF00996</td>\n",
       "      <td>NaN</td>\n",
       "      <td>Cauli_VI; Ribonuclease H1, N-terminal</td>\n",
       "    </tr>\n",
       "    <tr>\n",
       "      <th>9</th>\n",
       "      <td>PF00717</td>\n",
       "      <td>NaN</td>\n",
       "      <td>CHS5_N; Chitin biosynthesis protein Chs5, N-te...</td>\n",
       "    </tr>\n",
       "    <tr>\n",
       "      <th>10</th>\n",
       "      <td>PF12856</td>\n",
       "      <td>NaN</td>\n",
       "      <td>TBP; TATA-box binding protein</td>\n",
       "    </tr>\n",
       "    <tr>\n",
       "      <th>11</th>\n",
       "      <td>PF00025</td>\n",
       "      <td>NaN</td>\n",
       "      <td>5-FTHF_cyc-lig; 5-formyltetrahydrofolate cyclo...</td>\n",
       "    </tr>\n",
       "    <tr>\n",
       "      <th>12</th>\n",
       "      <td>PF00160</td>\n",
       "      <td>NaN</td>\n",
       "      <td>ALAD; Delta-aminolevulinic acid dehydratase</td>\n",
       "    </tr>\n",
       "    <tr>\n",
       "      <th>13</th>\n",
       "      <td>PF13202</td>\n",
       "      <td>NaN</td>\n",
       "      <td>TIP41; TIP41-like protein</td>\n",
       "    </tr>\n",
       "    <tr>\n",
       "      <th>14</th>\n",
       "      <td>PF09346</td>\n",
       "      <td>NaN</td>\n",
       "      <td>RasGAP; Ras GTPase-activating protein</td>\n",
       "    </tr>\n",
       "    <tr>\n",
       "      <th>15</th>\n",
       "      <td>PF04139</td>\n",
       "      <td>NaN</td>\n",
       "      <td>LRR_8; Leucine-rich repeat</td>\n",
       "    </tr>\n",
       "    <tr>\n",
       "      <th>16</th>\n",
       "      <td>PF04139</td>\n",
       "      <td>NaN</td>\n",
       "      <td>LRR_8; Leucine-rich repeat</td>\n",
       "    </tr>\n",
       "    <tr>\n",
       "      <th>17</th>\n",
       "      <td>PF00067</td>\n",
       "      <td>NaN</td>\n",
       "      <td>AAA_6</td>\n",
       "    </tr>\n",
       "    <tr>\n",
       "      <th>18</th>\n",
       "      <td>PF09444</td>\n",
       "      <td>NaN</td>\n",
       "      <td>Rer1; Retrieval of early ER protein Rer1</td>\n",
       "    </tr>\n",
       "    <tr>\n",
       "      <th>19</th>\n",
       "      <td>PF09462</td>\n",
       "      <td>NaN</td>\n",
       "      <td>Rho_GDI; Rho protein GDP-dissociation inhibitor</td>\n",
       "    </tr>\n",
       "    <tr>\n",
       "      <th>20</th>\n",
       "      <td>PF10422</td>\n",
       "      <td>NaN</td>\n",
       "      <td>SAP30_Sin3_bdg; Histone deacetylase complex su...</td>\n",
       "    </tr>\n",
       "    <tr>\n",
       "      <th>21</th>\n",
       "      <td>PF01090</td>\n",
       "      <td>NaN</td>\n",
       "      <td>Cmc1; Cytochrome c oxidase biogenesis protein ...</td>\n",
       "    </tr>\n",
       "    <tr>\n",
       "      <th>22</th>\n",
       "      <td>PF01115</td>\n",
       "      <td>NaN</td>\n",
       "      <td>CoaE; Dephospho-CoA kinase</td>\n",
       "    </tr>\n",
       "    <tr>\n",
       "      <th>23</th>\n",
       "      <td>PF03935</td>\n",
       "      <td>NaN</td>\n",
       "      <td>IF-2B; Initiation factor 2B-related</td>\n",
       "    </tr>\n",
       "    <tr>\n",
       "      <th>24</th>\n",
       "      <td>PF03935</td>\n",
       "      <td>NaN</td>\n",
       "      <td>IF-2B; Initiation factor 2B-related</td>\n",
       "    </tr>\n",
       "    <tr>\n",
       "      <th>25</th>\n",
       "      <td>PF01592</td>\n",
       "      <td>NaN</td>\n",
       "      <td>DUF2418; Protein of unknown function DUF2418</td>\n",
       "    </tr>\n",
       "    <tr>\n",
       "      <th>26</th>\n",
       "      <td>PF02441</td>\n",
       "      <td>NaN</td>\n",
       "      <td>FMN_dh; FMN-dependent dehydrogenase</td>\n",
       "    </tr>\n",
       "    <tr>\n",
       "      <th>27</th>\n",
       "      <td>PF02441</td>\n",
       "      <td>NaN</td>\n",
       "      <td>FMN_dh; FMN-dependent dehydrogenase</td>\n",
       "    </tr>\n",
       "    <tr>\n",
       "      <th>28</th>\n",
       "      <td>PF08505</td>\n",
       "      <td>NaN</td>\n",
       "      <td>Pil1; Eisosome component PIL1/LSP1</td>\n",
       "    </tr>\n",
       "    <tr>\n",
       "      <th>29</th>\n",
       "      <td>PF08505</td>\n",
       "      <td>NaN</td>\n",
       "      <td>Pil1; Eisosome component PIL1/LSP1</td>\n",
       "    </tr>\n",
       "    <tr>\n",
       "      <th>30</th>\n",
       "      <td>PF08505</td>\n",
       "      <td>NaN</td>\n",
       "      <td>Pil1; Eisosome component PIL1/LSP1</td>\n",
       "    </tr>\n",
       "    <tr>\n",
       "      <th>31</th>\n",
       "      <td>PF08649</td>\n",
       "      <td>NaN</td>\n",
       "      <td>RNA_pol_N; DNA-directed RNA polymerase, subuni...</td>\n",
       "    </tr>\n",
       "    <tr>\n",
       "      <th>32</th>\n",
       "      <td>PF13694</td>\n",
       "      <td>NaN</td>\n",
       "      <td>Thymidylate_kin</td>\n",
       "    </tr>\n",
       "    <tr>\n",
       "      <th>33</th>\n",
       "      <td>PF13694</td>\n",
       "      <td>NaN</td>\n",
       "      <td>Thymidylate_kin</td>\n",
       "    </tr>\n",
       "    <tr>\n",
       "      <th>34</th>\n",
       "      <td>PF13694</td>\n",
       "      <td>NaN</td>\n",
       "      <td>Thymidylate_kin</td>\n",
       "    </tr>\n",
       "    <tr>\n",
       "      <th>35</th>\n",
       "      <td>PF03801</td>\n",
       "      <td>NaN</td>\n",
       "      <td>HisKA; Signal transduction histidine kinase, d...</td>\n",
       "    </tr>\n",
       "    <tr>\n",
       "      <th>36</th>\n",
       "      <td>PF03801</td>\n",
       "      <td>NaN</td>\n",
       "      <td>HisKA; Signal transduction histidine kinase, d...</td>\n",
       "    </tr>\n",
       "    <tr>\n",
       "      <th>37</th>\n",
       "      <td>PF07955</td>\n",
       "      <td>NaN</td>\n",
       "      <td>PLA2_B; Lysophospholipase, catalytic domain</td>\n",
       "    </tr>\n",
       "    <tr>\n",
       "      <th>38</th>\n",
       "      <td>PF07955</td>\n",
       "      <td>NaN</td>\n",
       "      <td>PLA2_B; Lysophospholipase, catalytic domain</td>\n",
       "    </tr>\n",
       "    <tr>\n",
       "      <th>39</th>\n",
       "      <td>PF00909</td>\n",
       "      <td>NaN</td>\n",
       "      <td>CTD</td>\n",
       "    </tr>\n",
       "    <tr>\n",
       "      <th>40</th>\n",
       "      <td>PF00352</td>\n",
       "      <td>NaN</td>\n",
       "      <td>AhpC-TSA; Alkyl hydroperoxide reductase subuni...</td>\n",
       "    </tr>\n",
       "    <tr>\n",
       "      <th>41</th>\n",
       "      <td>PF00352</td>\n",
       "      <td>NaN</td>\n",
       "      <td>AhpC-TSA; Alkyl hydroperoxide reductase subuni...</td>\n",
       "    </tr>\n",
       "    <tr>\n",
       "      <th>42</th>\n",
       "      <td>PF00831</td>\n",
       "      <td>NaN</td>\n",
       "      <td>COX7a</td>\n",
       "    </tr>\n",
       "    <tr>\n",
       "      <th>43</th>\n",
       "      <td>PF00831</td>\n",
       "      <td>NaN</td>\n",
       "      <td>COX7a</td>\n",
       "    </tr>\n",
       "    <tr>\n",
       "      <th>44</th>\n",
       "      <td>PF00831</td>\n",
       "      <td>NaN</td>\n",
       "      <td>COX7a</td>\n",
       "    </tr>\n",
       "    <tr>\n",
       "      <th>45</th>\n",
       "      <td>PF12271</td>\n",
       "      <td>NaN</td>\n",
       "      <td>Sgf11; SAGA complex, Sgf11 subunit</td>\n",
       "    </tr>\n",
       "    <tr>\n",
       "      <th>46</th>\n",
       "      <td>PF08325</td>\n",
       "      <td>NaN</td>\n",
       "      <td>Peptidase_S64; Peptidase S64, Ssy5</td>\n",
       "    </tr>\n",
       "    <tr>\n",
       "      <th>47</th>\n",
       "      <td>PF05669</td>\n",
       "      <td>NaN</td>\n",
       "      <td>NOC3p; Nucleolar complex-associated protein 3,...</td>\n",
       "    </tr>\n",
       "    <tr>\n",
       "      <th>48</th>\n",
       "      <td>PF12002</td>\n",
       "      <td>NaN</td>\n",
       "      <td>Sec2p; GDP/GTP exchange factor Sec2, N-terminal</td>\n",
       "    </tr>\n",
       "  </tbody>\n",
       "</table>\n",
       "</div>"
      ],
      "text/plain": [
       "   domain-name domain-description_x  \\\n",
       "0      PF02268                  NaN   \n",
       "1      PF00790                  NaN   \n",
       "2      PF02735                  NaN   \n",
       "3      PF05390                  NaN   \n",
       "4      PF12157                  NaN   \n",
       "5      PF04488                  NaN   \n",
       "6      PF00266                  NaN   \n",
       "7      PF05615                  NaN   \n",
       "8      PF00996                  NaN   \n",
       "9      PF00717                  NaN   \n",
       "10     PF12856                  NaN   \n",
       "11     PF00025                  NaN   \n",
       "12     PF00160                  NaN   \n",
       "13     PF13202                  NaN   \n",
       "14     PF09346                  NaN   \n",
       "15     PF04139                  NaN   \n",
       "16     PF04139                  NaN   \n",
       "17     PF00067                  NaN   \n",
       "18     PF09444                  NaN   \n",
       "19     PF09462                  NaN   \n",
       "20     PF10422                  NaN   \n",
       "21     PF01090                  NaN   \n",
       "22     PF01115                  NaN   \n",
       "23     PF03935                  NaN   \n",
       "24     PF03935                  NaN   \n",
       "25     PF01592                  NaN   \n",
       "26     PF02441                  NaN   \n",
       "27     PF02441                  NaN   \n",
       "28     PF08505                  NaN   \n",
       "29     PF08505                  NaN   \n",
       "30     PF08505                  NaN   \n",
       "31     PF08649                  NaN   \n",
       "32     PF13694                  NaN   \n",
       "33     PF13694                  NaN   \n",
       "34     PF13694                  NaN   \n",
       "35     PF03801                  NaN   \n",
       "36     PF03801                  NaN   \n",
       "37     PF07955                  NaN   \n",
       "38     PF07955                  NaN   \n",
       "39     PF00909                  NaN   \n",
       "40     PF00352                  NaN   \n",
       "41     PF00352                  NaN   \n",
       "42     PF00831                  NaN   \n",
       "43     PF00831                  NaN   \n",
       "44     PF00831                  NaN   \n",
       "45     PF12271                  NaN   \n",
       "46     PF08325                  NaN   \n",
       "47     PF05669                  NaN   \n",
       "48     PF12002                  NaN   \n",
       "\n",
       "                                 domain-description_y  \n",
       "0   FACT-Spt16_Nlob; FACT complex subunit Spt16, N...  \n",
       "1   COPI_assoc; Golgi apparatus membrane protein T...  \n",
       "2                              Frag1; Frag1/DRAM/Sfk1  \n",
       "3                              NAD_kinase; NAD kinase  \n",
       "4                                   Sec7; Sec7 domain  \n",
       "5   MDM31_MDM32; Mitochondrial distribution and mo...  \n",
       "6     ATP-synt_J; ATP synthase, F0 complex, subunit J  \n",
       "7   NIR_SIR_ferr; Nitrite/Sulfite reductase ferred...  \n",
       "8               Cauli_VI; Ribonuclease H1, N-terminal  \n",
       "9   CHS5_N; Chitin biosynthesis protein Chs5, N-te...  \n",
       "10                      TBP; TATA-box binding protein  \n",
       "11  5-FTHF_cyc-lig; 5-formyltetrahydrofolate cyclo...  \n",
       "12        ALAD; Delta-aminolevulinic acid dehydratase  \n",
       "13                          TIP41; TIP41-like protein  \n",
       "14              RasGAP; Ras GTPase-activating protein  \n",
       "15                         LRR_8; Leucine-rich repeat  \n",
       "16                         LRR_8; Leucine-rich repeat  \n",
       "17                                              AAA_6  \n",
       "18           Rer1; Retrieval of early ER protein Rer1  \n",
       "19    Rho_GDI; Rho protein GDP-dissociation inhibitor  \n",
       "20  SAP30_Sin3_bdg; Histone deacetylase complex su...  \n",
       "21  Cmc1; Cytochrome c oxidase biogenesis protein ...  \n",
       "22                         CoaE; Dephospho-CoA kinase  \n",
       "23                IF-2B; Initiation factor 2B-related  \n",
       "24                IF-2B; Initiation factor 2B-related  \n",
       "25       DUF2418; Protein of unknown function DUF2418  \n",
       "26                FMN_dh; FMN-dependent dehydrogenase  \n",
       "27                FMN_dh; FMN-dependent dehydrogenase  \n",
       "28                 Pil1; Eisosome component PIL1/LSP1  \n",
       "29                 Pil1; Eisosome component PIL1/LSP1  \n",
       "30                 Pil1; Eisosome component PIL1/LSP1  \n",
       "31  RNA_pol_N; DNA-directed RNA polymerase, subuni...  \n",
       "32                                    Thymidylate_kin  \n",
       "33                                    Thymidylate_kin  \n",
       "34                                    Thymidylate_kin  \n",
       "35  HisKA; Signal transduction histidine kinase, d...  \n",
       "36  HisKA; Signal transduction histidine kinase, d...  \n",
       "37        PLA2_B; Lysophospholipase, catalytic domain  \n",
       "38        PLA2_B; Lysophospholipase, catalytic domain  \n",
       "39                                                CTD  \n",
       "40  AhpC-TSA; Alkyl hydroperoxide reductase subuni...  \n",
       "41  AhpC-TSA; Alkyl hydroperoxide reductase subuni...  \n",
       "42                                              COX7a  \n",
       "43                                              COX7a  \n",
       "44                                              COX7a  \n",
       "45                 Sgf11; SAGA complex, Sgf11 subunit  \n",
       "46                 Peptidase_S64; Peptidase S64, Ssy5  \n",
       "47  NOC3p; Nucleolar complex-associated protein 3,...  \n",
       "48    Sec2p; GDP/GTP exchange factor Sec2, N-terminal  "
      ]
     },
     "execution_count": 30,
     "metadata": {},
     "output_type": "execute_result"
    }
   ],
   "source": [
    "only_nsl_pd=pd.merge(repeated_features_sl,repeated_features_nsl,how='right',on=['domain-name'])\n",
    "data_only_nsl = only_nsl_pd[pd.isnull(only_nsl_pd['domain-description_x'])]\n",
    "data_only_nsl"
   ]
  },
  {
   "cell_type": "code",
   "execution_count": 31,
   "metadata": {
    "execution": {
     "iopub.execute_input": "2020-07-23T03:20:47.597375Z",
     "iopub.status.busy": "2020-07-23T03:20:47.592240Z",
     "iopub.status.idle": "2020-07-23T03:20:47.604760Z",
     "shell.execute_reply": "2020-07-23T03:20:47.604192Z"
    }
   },
   "outputs": [
    {
     "data": {
      "text/html": [
       "<div>\n",
       "<style scoped>\n",
       "    .dataframe tbody tr th:only-of-type {\n",
       "        vertical-align: middle;\n",
       "    }\n",
       "\n",
       "    .dataframe tbody tr th {\n",
       "        vertical-align: top;\n",
       "    }\n",
       "\n",
       "    .dataframe thead th {\n",
       "        text-align: right;\n",
       "    }\n",
       "</style>\n",
       "<table border=\"1\" class=\"dataframe\">\n",
       "  <thead>\n",
       "    <tr style=\"text-align: right;\">\n",
       "      <th></th>\n",
       "      <th>domain-name</th>\n",
       "      <th>domain-description_x</th>\n",
       "      <th>domain-description_y</th>\n",
       "    </tr>\n",
       "  </thead>\n",
       "  <tbody>\n",
       "  </tbody>\n",
       "</table>\n",
       "</div>"
      ],
      "text/plain": [
       "Empty DataFrame\n",
       "Columns: [domain-name, domain-description_x, domain-description_y]\n",
       "Index: []"
      ]
     },
     "execution_count": 31,
     "metadata": {},
     "output_type": "execute_result"
    }
   ],
   "source": [
    "shared_domains_pd=pd.merge(repeated_features_sl,repeated_features_nsl,how='inner',on=['domain-name'])\n",
    "shared_domains_pd\n"
   ]
  },
  {
   "cell_type": "code",
   "execution_count": 32,
   "metadata": {
    "execution": {
     "iopub.execute_input": "2020-07-23T03:20:47.614289Z",
     "iopub.status.busy": "2020-07-23T03:20:47.613312Z",
     "iopub.status.idle": "2020-07-23T03:20:49.446372Z",
     "shell.execute_reply": "2020-07-23T03:20:49.447009Z"
    }
   },
   "outputs": [
    {
     "data": {
      "text/plain": [
       "(0.0, 0.2)"
      ]
     },
     "execution_count": 32,
     "metadata": {},
     "output_type": "execute_result"
    },
    {
     "data": {
      "image/png": "[encoded data removed]",
      "text/plain": [
       "<Figure size 432x288 with 1 Axes>"
      ]
     },
     "metadata": {
      "filenames": {
       "image/png": "/home/runner/work/jupyter-book/jupyter-book/mini_book/docs/_build/jupyter_execute/prot_domains2lethality-FEATURES-POSTPROCESSING_47_1.png"
      },
      "needs_background": "light"
     },
     "output_type": "display_data"
    }
   ],
   "source": [
    "a_sl=x_sl.iloc[:,np.sort(df_sl.iloc[:,1])]\n",
    "a_sl.describe().loc['mean'].hist(bins=8),\n",
    "a_sl.describe().loc['std'].hist(bins=8,alpha=0.4)\n",
    "plt.xlim([0,0.2])"
   ]
  },
  {
   "cell_type": "code",
   "execution_count": 33,
   "metadata": {
    "execution": {
     "iopub.execute_input": "2020-07-23T03:20:49.466640Z",
     "iopub.status.busy": "2020-07-23T03:20:49.459558Z",
     "iopub.status.idle": "2020-07-23T03:20:51.230929Z",
     "shell.execute_reply": "2020-07-23T03:20:51.230382Z"
    }
   },
   "outputs": [
    {
     "data": {
      "text/plain": [
       "(0.0, 0.2)"
      ]
     },
     "execution_count": 33,
     "metadata": {},
     "output_type": "execute_result"
    },
    {
     "data": {
      "image/png": "[encoded data removed]",
      "text/plain": [
       "<Figure size 432x288 with 1 Axes>"
      ]
     },
     "metadata": {
      "filenames": {
       "image/png": "/home/runner/work/jupyter-book/jupyter-book/mini_book/docs/_build/jupyter_execute/prot_domains2lethality-FEATURES-POSTPROCESSING_48_1.png"
      },
      "needs_background": "light"
     },
     "output_type": "display_data"
    }
   ],
   "source": [
    "a_nsl=x_nsl.iloc[:,np.sort(df_nsl.iloc[:,1])]\n",
    "a_nsl.describe().loc['mean'].hist(bins=8),\n",
    "a_nsl.describe().loc['std'].hist(bins=8,alpha=0.4)\n",
    "plt.xlim([0,0.2])"
   ]
  },
  {
   "cell_type": "markdown",
   "metadata": {},
   "source": [
    "### Proof of concept with *BEM1*\n",
    "\n",
    "- Gather the domains of SL and nSL pairs from BEM1\n",
    "- Check if the domains for the SL and nSL pairs are inside the most important domains after PCA."
   ]
  },
  {
   "cell_type": "code",
   "execution_count": 34,
   "metadata": {
    "execution": {
     "iopub.execute_input": "2020-07-23T03:20:51.243864Z",
     "iopub.status.busy": "2020-07-23T03:20:51.243103Z",
     "iopub.status.idle": "2020-07-23T03:20:51.248653Z",
     "shell.execute_reply": "2020-07-23T03:20:51.248049Z"
    }
   },
   "outputs": [],
   "source": [
    "domains_bem1=data_domains[data_domains['name']=='BEM1']['domain-descrip']\n",
    "sl_bem1=data_sl[data_sl['gene-query-name']=='BEM1']['gene-target-name']"
   ]
  },
  {
   "cell_type": "code",
   "execution_count": 35,
   "metadata": {
    "execution": {
     "iopub.execute_input": "2020-07-23T03:20:51.253841Z",
     "iopub.status.busy": "2020-07-23T03:20:51.253245Z",
     "iopub.status.idle": "2020-07-23T03:20:51.259842Z",
     "shell.execute_reply": "2020-07-23T03:20:51.258920Z"
    }
   },
   "outputs": [
    {
     "data": {
      "text/plain": [
       "2846      BEM2\n",
       "2847     CDC24\n",
       "5004      MSB1\n",
       "13777     SMI1\n",
       "13778     BNI1\n",
       "13779     BEM2\n",
       "14385     SKN7\n",
       "Name: gene-target-name, dtype: object"
      ]
     },
     "execution_count": 35,
     "metadata": {},
     "output_type": "execute_result"
    }
   ],
   "source": [
    "sl_bem1"
   ]
  },
  {
   "cell_type": "code",
   "execution_count": 36,
   "metadata": {
    "execution": {
     "iopub.execute_input": "2020-07-23T03:20:51.287563Z",
     "iopub.status.busy": "2020-07-23T03:20:51.274515Z",
     "iopub.status.idle": "2020-07-23T03:20:51.293360Z",
     "shell.execute_reply": "2020-07-23T03:20:51.292853Z"
    }
   },
   "outputs": [
    {
     "data": {
      "text/html": [
       "<div>\n",
       "<style scoped>\n",
       "    .dataframe tbody tr th:only-of-type {\n",
       "        vertical-align: middle;\n",
       "    }\n",
       "\n",
       "    .dataframe tbody tr th {\n",
       "        vertical-align: top;\n",
       "    }\n",
       "\n",
       "    .dataframe thead th {\n",
       "        text-align: right;\n",
       "    }\n",
       "</style>\n",
       "<table border=\"1\" class=\"dataframe\">\n",
       "  <thead>\n",
       "    <tr style=\"text-align: right;\">\n",
       "      <th></th>\n",
       "      <th>gene-query</th>\n",
       "      <th>gene-target</th>\n",
       "      <th>gene-query-name</th>\n",
       "      <th>gene-target-name</th>\n",
       "      <th>gene-query-description</th>\n",
       "      <th>gene-target-description</th>\n",
       "      <th>interaction-type</th>\n",
       "      <th>paper-source</th>\n",
       "    </tr>\n",
       "  </thead>\n",
       "  <tbody>\n",
       "    <tr>\n",
       "      <th>2846</th>\n",
       "      <td>YBR200W</td>\n",
       "      <td>YER155C</td>\n",
       "      <td>BEM1</td>\n",
       "      <td>BEM2</td>\n",
       "      <td>SRO1|phosphatidylinositol-3-phosphate-binding ...</td>\n",
       "      <td>IPL2|SUP9|TSL1|L000000168</td>\n",
       "      <td>Synthetic Lethality</td>\n",
       "      <td>Peterson J (1994)</td>\n",
       "    </tr>\n",
       "    <tr>\n",
       "      <th>2847</th>\n",
       "      <td>YBR200W</td>\n",
       "      <td>YAL041W</td>\n",
       "      <td>BEM1</td>\n",
       "      <td>CDC24</td>\n",
       "      <td>SRO1|phosphatidylinositol-3-phosphate-binding ...</td>\n",
       "      <td>CLS4|Rho family guanine nucleotide exchange fa...</td>\n",
       "      <td>Synthetic Lethality</td>\n",
       "      <td>Peterson J (1994)</td>\n",
       "    </tr>\n",
       "    <tr>\n",
       "      <th>5004</th>\n",
       "      <td>YBR200W</td>\n",
       "      <td>YOR188W</td>\n",
       "      <td>BEM1</td>\n",
       "      <td>MSB1</td>\n",
       "      <td>SRO1|phosphatidylinositol-3-phosphate-binding ...</td>\n",
       "      <td>L000001184</td>\n",
       "      <td>Synthetic Lethality</td>\n",
       "      <td>Bender A (1991)</td>\n",
       "    </tr>\n",
       "    <tr>\n",
       "      <th>13777</th>\n",
       "      <td>YBR200W</td>\n",
       "      <td>YGR229C</td>\n",
       "      <td>BEM1</td>\n",
       "      <td>SMI1</td>\n",
       "      <td>SRO1|phosphatidylinositol-3-phosphate-binding ...</td>\n",
       "      <td>KNR4|L000000909</td>\n",
       "      <td>Synthetic Lethality</td>\n",
       "      <td>Gorelik M (2011)</td>\n",
       "    </tr>\n",
       "    <tr>\n",
       "      <th>13778</th>\n",
       "      <td>YBR200W</td>\n",
       "      <td>YNL271C</td>\n",
       "      <td>BEM1</td>\n",
       "      <td>BNI1</td>\n",
       "      <td>SRO1|phosphatidylinositol-3-phosphate-binding ...</td>\n",
       "      <td>PPF3|SHE5|formin BNI1|L000000190</td>\n",
       "      <td>Synthetic Lethality</td>\n",
       "      <td>Gorelik M (2011)</td>\n",
       "    </tr>\n",
       "    <tr>\n",
       "      <th>13779</th>\n",
       "      <td>YBR200W</td>\n",
       "      <td>YER155C</td>\n",
       "      <td>BEM1</td>\n",
       "      <td>BEM2</td>\n",
       "      <td>SRO1|phosphatidylinositol-3-phosphate-binding ...</td>\n",
       "      <td>IPL2|SUP9|TSL1|L000000168</td>\n",
       "      <td>Synthetic Lethality</td>\n",
       "      <td>Gorelik M (2011)</td>\n",
       "    </tr>\n",
       "    <tr>\n",
       "      <th>14385</th>\n",
       "      <td>YBR200W</td>\n",
       "      <td>YHR206W</td>\n",
       "      <td>BEM1</td>\n",
       "      <td>SKN7</td>\n",
       "      <td>SRO1|phosphatidylinositol-3-phosphate-binding ...</td>\n",
       "      <td>BRY1|POS9|kinase-regulated stress-responsive t...</td>\n",
       "      <td>Dosage Lethality</td>\n",
       "      <td>Bouquin N (1999)</td>\n",
       "    </tr>\n",
       "  </tbody>\n",
       "</table>\n",
       "</div>"
      ],
      "text/plain": [
       "      gene-query gene-target gene-query-name gene-target-name  \\\n",
       "2846     YBR200W     YER155C            BEM1             BEM2   \n",
       "2847     YBR200W     YAL041W            BEM1            CDC24   \n",
       "5004     YBR200W     YOR188W            BEM1             MSB1   \n",
       "13777    YBR200W     YGR229C            BEM1             SMI1   \n",
       "13778    YBR200W     YNL271C            BEM1             BNI1   \n",
       "13779    YBR200W     YER155C            BEM1             BEM2   \n",
       "14385    YBR200W     YHR206W            BEM1             SKN7   \n",
       "\n",
       "                                  gene-query-description  \\\n",
       "2846   SRO1|phosphatidylinositol-3-phosphate-binding ...   \n",
       "2847   SRO1|phosphatidylinositol-3-phosphate-binding ...   \n",
       "5004   SRO1|phosphatidylinositol-3-phosphate-binding ...   \n",
       "13777  SRO1|phosphatidylinositol-3-phosphate-binding ...   \n",
       "13778  SRO1|phosphatidylinositol-3-phosphate-binding ...   \n",
       "13779  SRO1|phosphatidylinositol-3-phosphate-binding ...   \n",
       "14385  SRO1|phosphatidylinositol-3-phosphate-binding ...   \n",
       "\n",
       "                                 gene-target-description     interaction-type  \\\n",
       "2846                           IPL2|SUP9|TSL1|L000000168  Synthetic Lethality   \n",
       "2847   CLS4|Rho family guanine nucleotide exchange fa...  Synthetic Lethality   \n",
       "5004                                          L000001184  Synthetic Lethality   \n",
       "13777                                    KNR4|L000000909  Synthetic Lethality   \n",
       "13778                   PPF3|SHE5|formin BNI1|L000000190  Synthetic Lethality   \n",
       "13779                          IPL2|SUP9|TSL1|L000000168  Synthetic Lethality   \n",
       "14385  BRY1|POS9|kinase-regulated stress-responsive t...     Dosage Lethality   \n",
       "\n",
       "            paper-source  \n",
       "2846   Peterson J (1994)  \n",
       "2847   Peterson J (1994)  \n",
       "5004     Bender A (1991)  \n",
       "13777   Gorelik M (2011)  \n",
       "13778   Gorelik M (2011)  \n",
       "13779   Gorelik M (2011)  \n",
       "14385   Bouquin N (1999)  "
      ]
     },
     "execution_count": 36,
     "metadata": {},
     "output_type": "execute_result"
    }
   ],
   "source": [
    "data_sl[data_sl['gene-query-name']=='BEM1']"
   ]
  },
  {
   "cell_type": "code",
   "execution_count": null,
   "metadata": {},
   "outputs": [],
   "source": []
  }
 ],
 "metadata": {
  "jupytext": {
   "text_representation": {
    "extension": ".md",
    "format_name": "myst"
   }
  },
  "kernelspec": {
   "display_name": "Python 3",
   "language": "python",
   "name": "python3"
  },
  "language_info": {
   "codemirror_mode": {
    "name": "ipython",
    "version": 3
   },
   "file_extension": ".py",
   "mimetype": "text/x-python",
   "name": "python",
   "nbconvert_exporter": "python",
   "pygments_lexer": "ipython3",
   "version": "3.7.6"
  },
  "source_map": [
   10,
   18,
   29,
   36,
   57,
   66,
   98,
   101,
   105,
   128,
   131,
   135,
   139,
   145,
   178,
   184,
   188,
   206,
   210,
   218,
   222,
   225,
   229,
   234,
   238,
   244,
   248,
   253,
   257,
   267,
   269,
   273,
   306,
   311,
   313,
   317,
   328,
   330,
   334,
   344,
   348,
   358,
   360,
   364,
   381,
   388,
   394,
   400,
   407,
   412,
   419,
   424,
   428,
   432
  ]
 },
 "nbformat": 4,
 "nbformat_minor": 4
}