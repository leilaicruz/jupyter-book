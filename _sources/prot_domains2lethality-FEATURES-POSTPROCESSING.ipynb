{
 "cells": [
  {
   "cell_type": "markdown",
   "metadata": {},
   "source": [
    "# Feature postprocessing from paper.\n",
    "- Title:  \"Predicting yeast synthetic lethal genetic interactions using protein domains\"\n",
    "- Authors: Bo Li, Feng Luo,School of Computing,Clemson University,Clemson, SC, USA\n",
    "- e-mail: bol, luofeng@clemson.edu\n",
    "- year:2009"
   ]
  },
  {
   "cell_type": "code",
   "execution_count": 1,
   "metadata": {
    "execution": {
     "iopub.execute_input": "2020-07-13T14:04:13.568321Z",
     "iopub.status.busy": "2020-07-13T14:04:13.567689Z",
     "iopub.status.idle": "2020-07-13T14:04:14.250999Z",
     "shell.execute_reply": "2020-07-13T14:04:14.250009Z"
    }
   },
   "outputs": [],
   "source": [
    "import pandas as pd\n",
    "import numpy as np\n",
    "import matplotlib.pyplot as plt\n",
    "from collections import defaultdict \n",
    "import seaborn as sns\n",
    "import matplotlib.cm as cm\n",
    "import scipy as scipy\n",
    "import random"
   ]
  },
  {
   "cell_type": "markdown",
   "metadata": {
    "jupyter": {
     "source_hidden": true
    }
   },
   "source": [
    "### Importing datasets \n",
    "\n",
    "#### Link to the github repo where the datasets to be downloaded:\n",
    "[DOWNLOAD THE DATASETS HERE](https://github.com/leilaicruz/machine-learning-for-yeast/tree/dev_Leila/datasets-for-learning)"
   ]
  },
  {
   "cell_type": "code",
   "execution_count": 2,
   "metadata": {
    "execution": {
     "iopub.execute_input": "2020-07-13T14:04:14.258759Z",
     "iopub.status.busy": "2020-07-13T14:04:14.258219Z",
     "iopub.status.idle": "2020-07-13T14:04:21.181710Z",
     "shell.execute_reply": "2020-07-13T14:04:21.181218Z"
    }
   },
   "outputs": [],
   "source": [
    "import os\n",
    "script_dir = os.path.dirname('__file__') #<-- absolute dir the script is in\n",
    "rel_path_SL = \"datasets/data-synthetic-lethals.xlsx\"\n",
    "rel_path_nSL=\"datasets/data-positive-genetic.xlsx\"\n",
    "rel_path_domains=\"datasets/proteins-domains-from-Pfam.xlsx\"\n",
    "\n",
    "abs_file_path_SL = os.path.join(script_dir, rel_path_SL)\n",
    "abs_file_path_nSL = os.path.join(script_dir, rel_path_nSL)\n",
    "abs_file_path_domains = os.path.join(script_dir, rel_path_domains)\n",
    "\n",
    "# os.chdir('mini_book/docs/') #<-- for binder os.chdir('../')\n",
    "# os.chdir('../')\n",
    "my_path_sl= abs_file_path_SL\n",
    "my_path_non_sl=abs_file_path_nSL\n",
    "my_path_domains=abs_file_path_domains\n",
    "\n",
    "data_sl=pd.read_excel(my_path_sl,header=0)\n",
    "data_domains=pd.read_excel(my_path_domains,header=0,index_col='Unnamed: 0')\n",
    "data_domains=data_domains.dropna()\n",
    "data_nonsl=pd.read_excel(my_path_non_sl,header=0)"
   ]
  },
  {
   "cell_type": "markdown",
   "metadata": {},
   "source": [
    "## Building the feature matrix\n",
    "One matrix for true SL where each row is one pair of SL. Every raw will be a vector of 0,1 or 2 depending on the comparison with the domain list. For row i the jth element = 0 if the jth element of the domain list is not in neither protein A and B, 1, if it is in one of them and 2 if it is in both of them .\n",
    "\n",
    "### Building the list of proteins domains id per protein pair separately :\n",
    "- List of protein A: Search for the Sl/nSL database the query gene name and look in the protein domain database which protein domains id has each of those queries.\n",
    "- List of protein B: Search for the Sl/nSL database the target gene name of the previous query and look in the protein domain database which protein domains id has each of those target genes."
   ]
  },
  {
   "cell_type": "code",
   "execution_count": 3,
   "metadata": {
    "execution": {
     "iopub.execute_input": "2020-07-13T14:04:21.198008Z",
     "iopub.status.busy": "2020-07-13T14:04:21.197416Z",
     "iopub.status.idle": "2020-07-13T14:04:23.234646Z",
     "shell.execute_reply": "2020-07-13T14:04:23.233749Z"
    }
   },
   "outputs": [],
   "source": [
    "# Selecting the meaningful columns in the respective dataset\n",
    "domain_id_list=data_domains['domain-name']\n",
    "query_gene=data_sl['gene-query-name']\n",
    "target_gene=data_sl['gene-target-name']\n",
    "query_gene_nonlethal=data_nonsl['gene-query-name']\n",
    "target_gene_nonlethal=data_nonsl['gene-target-name']\n",
    "\n",
    "\n",
    "\n",
    "# Initialising the arrays\n",
    "protein_a_list=[]\n",
    "protein_b_list=[]\n",
    "protein_a_list_non=[]\n",
    "protein_b_list_non=[]\n",
    "\n",
    "population = np.arange(0,len(data_sl))\n",
    "\n",
    "# For loop for 10000 pairs sampled randomly from the SL/nSl pair list , and creating a big array of proteind domains id per protein pair\n",
    "\n",
    "for m in random.sample(list(population), 500):\n",
    "    protein_a=data_domains[data_domains['name']==query_gene[m]]\n",
    "    protein_b=data_domains[data_domains['name']==target_gene[m]]\n",
    "    protein_a_list.append(protein_a['domain-name'].tolist())\n",
    "    protein_b_list.append(protein_b['domain-name'].tolist())\n",
    "\n",
    "    protein_a_non=data_domains[data_domains['name']==query_gene_nonlethal[m]]\n",
    "    protein_b_non=data_domains[data_domains['name']==target_gene_nonlethal[m]]\n",
    "    protein_a_list_non.append(protein_a_non['domain-name'].tolist())\n",
    "    protein_b_list_non.append(protein_b_non['domain-name'].tolist())"
   ]
  },
  {
   "cell_type": "code",
   "execution_count": 4,
   "metadata": {
    "execution": {
     "iopub.execute_input": "2020-07-13T14:04:23.239837Z",
     "iopub.status.busy": "2020-07-13T14:04:23.239344Z",
     "iopub.status.idle": "2020-07-13T14:04:23.243386Z",
     "shell.execute_reply": "2020-07-13T14:04:23.242901Z"
    }
   },
   "outputs": [
    {
     "name": "stdout",
     "output_type": "stream",
     "text": [
      "We are going to analyze 500 protein pairs, out of 17871 SL protein pairs\n",
      "We are going to analyze 500 protein pairs, out of 43340 positive protein pairs\n"
     ]
    }
   ],
   "source": [
    "print('We are going to analyze',len((protein_a_list)) ,'protein pairs, out of',len(data_sl),'SL protein pairs')\n",
    "print('We are going to analyze',len((protein_a_list_non)) ,'protein pairs, out of',len(data_nonsl),'positive protein pairs')"
   ]
  },
  {
   "cell_type": "markdown",
   "metadata": {},
   "source": [
    "### Postprocessing #1:  Remove protein pairs from study if either protein in the pair does not contain any domain"
   ]
  },
  {
   "cell_type": "code",
   "execution_count": 5,
   "metadata": {
    "execution": {
     "iopub.execute_input": "2020-07-13T14:04:23.253696Z",
     "iopub.status.busy": "2020-07-13T14:04:23.253114Z",
     "iopub.status.idle": "2020-07-13T14:04:23.256605Z",
     "shell.execute_reply": "2020-07-13T14:04:23.255925Z"
    }
   },
   "outputs": [],
   "source": [
    "def remove_empty_domains(protein_list_search,protein_list_pair):\n",
    "    index=[]\n",
    "    for i in np.arange(0,len(protein_list_search)):\n",
    "        if protein_list_search[i]==[] or protein_list_pair[i]==[]:\n",
    "            index.append(i) ## index of empty values for the protein_a_list meaning they dont have any annotated domain\n",
    "\n",
    "    y=[x for x in np.arange(0,len(protein_list_search)) if x not in index] # a list with non empty values from protein_a list\n",
    "\n",
    "    protein_list_search_new=[]\n",
    "    protein_list_pair_new=[]\n",
    "    for i in y:\n",
    "        protein_list_search_new.append(protein_list_search[i])\n",
    "        protein_list_pair_new.append(protein_list_pair[i])\n",
    "    return protein_list_search_new,protein_list_pair_new\n",
    "\n",
    "## evaluating the function\n",
    "\n",
    "protein_a_list_new,protein_b_list_new=remove_empty_domains(protein_a_list,protein_b_list)\n",
    "\n",
    "protein_a_list_non_new,protein_b_list_non_new=remove_empty_domains(protein_a_list_non,protein_b_list_non)"
   ]
  },
  {
   "cell_type": "code",
   "execution_count": 6,
   "metadata": {
    "execution": {
     "iopub.execute_input": "2020-07-13T14:04:23.260913Z",
     "iopub.status.busy": "2020-07-13T14:04:23.260117Z",
     "iopub.status.idle": "2020-07-13T14:04:23.263889Z",
     "shell.execute_reply": "2020-07-13T14:04:23.264265Z"
    }
   },
   "outputs": [
    {
     "name": "stdout",
     "output_type": "stream",
     "text": [
      "The empty domain in the SL were: 81 out of 500 domains\n",
      "The empty domain in the nSL were: 97 out of 500 domains\n"
     ]
    }
   ],
   "source": [
    "print('The empty domain in the SL were:', len(protein_a_list)-len(protein_a_list_new), 'out of', len(protein_a_list),'domains')\n",
    "print('The empty domain in the nSL were:', len(protein_a_list_non)-len(protein_a_list_non_new), 'out of', len(protein_a_list_non),'domains')"
   ]
  },
  {
   "cell_type": "markdown",
   "metadata": {},
   "source": [
    "### Feature engineering: Select from each ordered indexes of domain id list which of them appear once, in both or in any of the domains of each protein pair"
   ]
  },
  {
   "cell_type": "markdown",
   "metadata": {},
   "source": [
    "#### Define function `get_indexes`"
   ]
  },
  {
   "cell_type": "code",
   "execution_count": 7,
   "metadata": {
    "execution": {
     "iopub.execute_input": "2020-07-13T14:04:23.270369Z",
     "iopub.status.busy": "2020-07-13T14:04:23.269893Z",
     "iopub.status.idle": "2020-07-13T14:04:23.274602Z",
     "shell.execute_reply": "2020-07-13T14:04:23.274159Z"
    }
   },
   "outputs": [
    {
     "data": {
      "text/plain": [
       "[1, 2]"
      ]
     },
     "execution_count": 7,
     "metadata": {},
     "output_type": "execute_result"
    }
   ],
   "source": [
    "get_indexes = lambda x, xs: [i for (y, i) in zip(xs, range(len(xs))) if x == y] # a function that give the index of whether a value appear in array or not\n",
    "a=[1,2,2,4,5,6,7,8,9,10]\n",
    "get_indexes(2,a)"
   ]
  },
  {
   "cell_type": "code",
   "execution_count": 8,
   "metadata": {
    "execution": {
     "iopub.execute_input": "2020-07-13T14:04:23.282861Z",
     "iopub.status.busy": "2020-07-13T14:04:23.282327Z",
     "iopub.status.idle": "2020-07-13T14:04:23.285479Z",
     "shell.execute_reply": "2020-07-13T14:04:23.285069Z"
    }
   },
   "outputs": [],
   "source": [
    "def feature_building(protein_a_list_new,protein_b_list_new):\n",
    "    x = np.unique(domain_id_list)\n",
    "    ## To avoid taking repeated domains from one protein of the pairs , lets reduced the domains of each protein from the pairs to their unique members\n",
    "    protein_a_list_unique=[]\n",
    "    protein_b_list_unique=[]\n",
    "    for i in np.arange(0,len(protein_a_list_new)):\n",
    "        protein_a_list_unique.append(np.unique(protein_a_list_new[i]))\n",
    "        protein_b_list_unique.append(np.unique(protein_b_list_new[i]))\n",
    "        \n",
    "    protein_feat_true=np.zeros(shape=(len(x),len(protein_a_list_unique)))\n",
    "    pair_a_b_array=[]\n",
    "    for i in np.arange(0,len(protein_a_list_unique)):\n",
    "        index_a=[]\n",
    "        \n",
    "        pair=[protein_a_list_unique[i],protein_b_list_unique[i]]\n",
    "        pair_a_b=np.concatenate(pair).ravel()\n",
    "        pair_a_b_array.append(pair_a_b)\n",
    "\n",
    "    j=0\n",
    "    for i in pair_a_b_array:  \n",
    "        array,index,counts=np.unique(i,return_index=True,return_counts=True)\n",
    "        \n",
    "        for k,m in zip(counts,array):\n",
    "            if k ==2:\n",
    "                protein_feat_true[get_indexes(m,x),j]=2\n",
    "                \n",
    "            if k==1:\n",
    "                protein_feat_true[get_indexes(m,x),j]=1\n",
    "        j=j+1\n",
    "    return protein_feat_true"
   ]
  },
  {
   "cell_type": "code",
   "execution_count": 9,
   "metadata": {
    "execution": {
     "iopub.execute_input": "2020-07-13T14:04:23.293945Z",
     "iopub.status.busy": "2020-07-13T14:04:23.293442Z",
     "iopub.status.idle": "2020-07-13T14:04:23.877377Z",
     "shell.execute_reply": "2020-07-13T14:04:23.876804Z"
    }
   },
   "outputs": [],
   "source": [
    "protein_feat_true=feature_building(protein_b_list_new=protein_b_list_new,protein_a_list_new=protein_a_list_new)\n",
    "protein_feat_true_pd=pd.DataFrame(protein_feat_true.T)\n",
    "\n",
    "protein_feat_non_true=feature_building(protein_b_list_new=protein_b_list_non_new,protein_a_list_new=protein_a_list_non_new)\n",
    "protein_feat_non_true_pd=pd.DataFrame(protein_feat_non_true.T)"
   ]
  },
  {
   "cell_type": "markdown",
   "metadata": {},
   "source": [
    "### How many ones and twos are in each dataset"
   ]
  },
  {
   "cell_type": "code",
   "execution_count": 10,
   "metadata": {
    "execution": {
     "iopub.execute_input": "2020-07-13T14:04:23.883940Z",
     "iopub.status.busy": "2020-07-13T14:04:23.883325Z",
     "iopub.status.idle": "2020-07-13T14:04:23.974499Z",
     "shell.execute_reply": "2020-07-13T14:04:23.974073Z"
    }
   },
   "outputs": [
    {
     "name": "stdout",
     "output_type": "stream",
     "text": [
      "fraction of twos in the SL array is 2.524704629282629e-05\n",
      "fraction of ones in the SL array is 0.0010004142093532416\n",
      "fraction of twos in the PI array is 8.202940754260402e-06\n",
      "fraction of ones in the PI array is 0.0009113467177983307\n"
     ]
    }
   ],
   "source": [
    "index_2_true=protein_feat_true_pd.where(protein_feat_true_pd==2)\n",
    "index_2_true_count=index_2_true.count(axis=1).sum()\n",
    "\n",
    "index_1_true=protein_feat_true_pd.where(protein_feat_true_pd==1)\n",
    "index_1_true_count=index_1_true.count(axis=1).sum()\n",
    "\n",
    "index_2_nontrue=protein_feat_non_true_pd.where(protein_feat_non_true_pd==2)\n",
    "index_2_nontrue_count=index_2_nontrue.count(axis=1).sum()\n",
    "\n",
    "index_1_nontrue=protein_feat_non_true_pd.where(protein_feat_non_true_pd==1)\n",
    "index_1_nontrue_count=index_1_nontrue.count(axis=1).sum()\n",
    "\n",
    "\n",
    "print('fraction of twos in the SL array is',index_2_true_count/(len(protein_feat_true_pd.index)*len(protein_feat_true_pd.columns)))\n",
    "print('fraction of ones in the SL array is',index_1_true_count/(len(protein_feat_true_pd.index)*len(protein_feat_true_pd.columns)))\n",
    "print('fraction of twos in the PI array is',index_2_nontrue_count/(len(protein_feat_non_true_pd.index)*len(protein_feat_non_true_pd.columns)))\n",
    "print('fraction of ones in the PI array is',index_1_nontrue_count/(len(protein_feat_non_true_pd.index)*len(protein_feat_non_true_pd.columns)))"
   ]
  },
  {
   "cell_type": "markdown",
   "metadata": {},
   "source": [
    "#### Bar plot to visualize these numbers"
   ]
  },
  {
   "cell_type": "code",
   "execution_count": 11,
   "metadata": {
    "execution": {
     "iopub.execute_input": "2020-07-13T14:04:23.980422Z",
     "iopub.status.busy": "2020-07-13T14:04:23.979984Z",
     "iopub.status.idle": "2020-07-13T14:04:24.322298Z",
     "shell.execute_reply": "2020-07-13T14:04:24.321877Z"
    }
   },
   "outputs": [
    {
     "data": {
      "text/plain": [
       "([0, 1, 2, 3], <a list of 4 Text major ticklabel objects>)"
      ]
     },
     "execution_count": 11,
     "metadata": {},
     "output_type": "execute_result"
    },
    {
     "data": {
      "image/png": "[encoded data removed]",
      "text/plain": [
       "<Figure size 432x288 with 1 Axes>"
      ]
     },
     "metadata": {
      "filenames": {
       "image/png": "/home/runner/work/jupyter-book/jupyter-book/mini_book/docs/_build/jupyter_execute/prot_domains2lethality-FEATURES-POSTPROCESSING_18_1.png"
      },
      "needs_background": "light"
     },
     "output_type": "display_data"
    }
   ],
   "source": [
    "plt.bar(['fraction of 2 in the nSL','fraction of 1 in the nSL'],[index_2_nontrue_count/(len(protein_feat_non_true_pd.index)*len(protein_feat_non_true_pd.columns)),index_1_nontrue_count/(len(protein_feat_non_true_pd.index)*len(protein_feat_non_true_pd.columns))],alpha=0.6,color=['blue','lightblue']), \n",
    "\n",
    "plt.bar(['fraction of 2 in SL ','fraction of 1 in SL'],[index_2_true_count/(len(protein_feat_true_pd.index)*len(protein_feat_true_pd.columns)),index_1_true_count/(len(protein_feat_true_pd.index)*len(protein_feat_true_pd.columns))],alpha=0.6,color=['coral','lightcoral'])\n",
    "\n",
    "plt.ylabel('Fraction from the population')\n",
    "plt.yscale('log')\n",
    "plt.xticks(rotation=40)"
   ]
  },
  {
   "cell_type": "markdown",
   "metadata": {},
   "source": [
    "#### Adding the labels(response variables) to each dataset"
   ]
  },
  {
   "cell_type": "code",
   "execution_count": 12,
   "metadata": {
    "execution": {
     "iopub.execute_input": "2020-07-13T14:04:24.327773Z",
     "iopub.status.busy": "2020-07-13T14:04:24.327297Z",
     "iopub.status.idle": "2020-07-13T14:04:24.332584Z",
     "shell.execute_reply": "2020-07-13T14:04:24.332092Z"
    }
   },
   "outputs": [],
   "source": [
    "protein_feat_true_pd['lethality']=np.ones(shape=(len(protein_a_list_new)))\n",
    "protein_feat_non_true_pd['lethality']=np.zeros(shape=(len(protein_a_list_non_new)))"
   ]
  },
  {
   "cell_type": "markdown",
   "metadata": {},
   "source": [
    "#### Joining both datasets"
   ]
  },
  {
   "cell_type": "code",
   "execution_count": 13,
   "metadata": {
    "execution": {
     "iopub.execute_input": "2020-07-13T14:04:24.337208Z",
     "iopub.status.busy": "2020-07-13T14:04:24.336701Z",
     "iopub.status.idle": "2020-07-13T14:04:24.374361Z",
     "shell.execute_reply": "2020-07-13T14:04:24.373722Z"
    }
   },
   "outputs": [
    {
     "name": "stdout",
     "output_type": "stream",
     "text": [
      "The number of features are: 3026\n",
      "The number of samples are: 822\n"
     ]
    }
   ],
   "source": [
    "feature_post=pd.concat([protein_feat_true_pd,protein_feat_non_true_pd],axis=0)\n",
    "feature_post=feature_post.set_index(np.arange(0,len(protein_a_list_new)+len(protein_a_list_non_new)))\n",
    "print('The number of features are:',feature_post.shape[1])\n",
    "print('The number of samples are:',feature_post.shape[0])"
   ]
  },
  {
   "cell_type": "markdown",
   "metadata": {},
   "source": [
    "### Postprocessing and exploration of the feature matrix of both datasets"
   ]
  },
  {
   "cell_type": "code",
   "execution_count": 14,
   "metadata": {
    "execution": {
     "iopub.execute_input": "2020-07-13T14:04:24.390490Z",
     "iopub.status.busy": "2020-07-13T14:04:24.381239Z",
     "iopub.status.idle": "2020-07-13T14:04:27.928080Z",
     "shell.execute_reply": "2020-07-13T14:04:27.927300Z"
    }
   },
   "outputs": [],
   "source": [
    "mean=feature_post.T.describe().loc['mean']\n",
    "std=feature_post.T.describe().loc['std']\n",
    "lethality=feature_post['lethality']\n",
    "\n",
    "corr_keys=pd.concat([mean,std,lethality],axis=1)"
   ]
  },
  {
   "cell_type": "markdown",
   "metadata": {},
   "source": [
    "### Viz of the stats"
   ]
  },
  {
   "cell_type": "code",
   "execution_count": 15,
   "metadata": {
    "execution": {
     "iopub.execute_input": "2020-07-13T14:04:27.940437Z",
     "iopub.status.busy": "2020-07-13T14:04:27.936377Z",
     "iopub.status.idle": "2020-07-13T14:04:29.302780Z",
     "shell.execute_reply": "2020-07-13T14:04:29.302342Z"
    }
   },
   "outputs": [
    {
     "data": {
      "text/plain": [
       "Text(0.5, 1.08, 'Pairplot to see data dependencies with Lethality')"
      ]
     },
     "execution_count": 15,
     "metadata": {},
     "output_type": "execute_result"
    },
    {
     "data": {
      "image/png": "[encoded data removed]",
      "text/plain": [
       "<Figure size 412x360 with 6 Axes>"
      ]
     },
     "metadata": {
      "filenames": {
       "image/png": "/home/runner/work/jupyter-book/jupyter-book/mini_book/docs/_build/jupyter_execute/prot_domains2lethality-FEATURES-POSTPROCESSING_26_1.png"
      },
      "needs_background": "light"
     },
     "output_type": "display_data"
    }
   ],
   "source": [
    "pair=sns.pairplot(corr_keys,hue='lethality',diag_kind='kde',kind='reg',palette='colorblind')\n",
    "pair.fig.suptitle('Pairplot to see data dependencies with Lethality',y=1.08)"
   ]
  },
  {
   "cell_type": "code",
   "execution_count": 16,
   "metadata": {
    "execution": {
     "iopub.execute_input": "2020-07-13T14:04:29.312535Z",
     "iopub.status.busy": "2020-07-13T14:04:29.312095Z",
     "iopub.status.idle": "2020-07-13T14:04:29.315056Z",
     "shell.execute_reply": "2020-07-13T14:04:29.315382Z"
    }
   },
   "outputs": [],
   "source": [
    "X, y = feature_post.drop(columns=[\"lethality\"]), feature_post[\"lethality\"]"
   ]
  },
  {
   "cell_type": "code",
   "execution_count": 17,
   "metadata": {
    "execution": {
     "iopub.execute_input": "2020-07-13T14:04:29.319672Z",
     "iopub.status.busy": "2020-07-13T14:04:29.319190Z",
     "iopub.status.idle": "2020-07-13T14:04:29.453865Z",
     "shell.execute_reply": "2020-07-13T14:04:29.453368Z"
    }
   },
   "outputs": [],
   "source": [
    "from sklearn.preprocessing import StandardScaler\n",
    "scaler = StandardScaler()\n",
    "x_sl=protein_feat_true_pd.drop(columns=['lethality'])\n",
    "x_nsl=protein_feat_non_true_pd.drop(columns=['lethality'])\n",
    "\n",
    "X_sl_scaled = scaler.fit_transform(x_sl)\n",
    "X_nsl_scaled = scaler.fit_transform(x_nsl)"
   ]
  },
  {
   "cell_type": "code",
   "execution_count": 18,
   "metadata": {
    "execution": {
     "iopub.execute_input": "2020-07-13T14:04:29.458801Z",
     "iopub.status.busy": "2020-07-13T14:04:29.458285Z",
     "iopub.status.idle": "2020-07-13T14:04:29.460891Z",
     "shell.execute_reply": "2020-07-13T14:04:29.461316Z"
    }
   },
   "outputs": [
    {
     "data": {
      "text/plain": [
       "(419, 3025)"
      ]
     },
     "execution_count": 18,
     "metadata": {},
     "output_type": "execute_result"
    }
   ],
   "source": [
    "np.shape(X_sl_scaled)"
   ]
  },
  {
   "cell_type": "markdown",
   "metadata": {},
   "source": [
    "## How redundant are each of the protein domains?"
   ]
  },
  {
   "cell_type": "code",
   "execution_count": 19,
   "metadata": {
    "execution": {
     "iopub.execute_input": "2020-07-13T14:04:29.468657Z",
     "iopub.status.busy": "2020-07-13T14:04:29.467701Z",
     "iopub.status.idle": "2020-07-13T14:04:29.469219Z",
     "shell.execute_reply": "2020-07-13T14:04:29.469713Z"
    }
   },
   "outputs": [],
   "source": [
    "def PCA_component_contribution(scaled_matrix,original_data):\n",
    "    from sklearn.decomposition import PCA\n",
    "\n",
    "    model = PCA(0.95).fit(scaled_matrix)\n",
    "    ## apply dimensionality reduction to X_train\n",
    "    output_pca = model.transform(scaled_matrix)\n",
    "    \n",
    "    total=sum(model.explained_variance_)\n",
    "\n",
    "\n",
    "   \n",
    "    # number of components , that it will be the number of main axes times the number of original components \n",
    "    n_pcs= model.components_.shape[0] # the amount of non redundant protein domains \n",
    "\n",
    "    # get the index of the most important feature on EACH component\n",
    "    # LIST COMPREHENSION HERE\n",
    "    most_important = [np.abs(model.components_[i]).argmax() for i in range(n_pcs)]\n",
    "\n",
    "    initial_feature_names = original_data.columns\n",
    "    # get the names\n",
    "    most_important_names = [initial_feature_names[most_important[i]] for i in range(n_pcs)]\n",
    "    \n",
    "\n",
    "    # LIST COMPREHENSION HERE AGAIN\n",
    "    dic = {'PC{}'.format(i): most_important_names[i] for i in range(n_pcs)}\n",
    "\n",
    "    # build the dataframe\n",
    "    df = pd.DataFrame(dic.items(),columns=['pca-component','domain-number'])\n",
    "\n",
    "    return df,model.components_"
   ]
  },
  {
   "cell_type": "code",
   "execution_count": 20,
   "metadata": {
    "execution": {
     "iopub.execute_input": "2020-07-13T14:04:29.472849Z",
     "iopub.status.busy": "2020-07-13T14:04:29.472420Z",
     "iopub.status.idle": "2020-07-13T14:04:30.058167Z",
     "shell.execute_reply": "2020-07-13T14:04:30.058607Z"
    }
   },
   "outputs": [],
   "source": [
    "df_sl,components_pca_nsl=PCA_component_contribution(X_nsl_scaled,x_nsl)\n",
    "df_nsl,components_pca_sl=PCA_component_contribution(X_sl_scaled,x_sl)"
   ]
  },
  {
   "cell_type": "code",
   "execution_count": 21,
   "metadata": {
    "execution": {
     "iopub.execute_input": "2020-07-13T14:04:30.060822Z",
     "iopub.status.busy": "2020-07-13T14:04:30.060357Z",
     "iopub.status.idle": "2020-07-13T14:04:30.068246Z",
     "shell.execute_reply": "2020-07-13T14:04:30.068747Z"
    }
   },
   "outputs": [
    {
     "data": {
      "text/html": [
       "<div>\n",
       "<style scoped>\n",
       "    .dataframe tbody tr th:only-of-type {\n",
       "        vertical-align: middle;\n",
       "    }\n",
       "\n",
       "    .dataframe tbody tr th {\n",
       "        vertical-align: top;\n",
       "    }\n",
       "\n",
       "    .dataframe thead th {\n",
       "        text-align: right;\n",
       "    }\n",
       "</style>\n",
       "<table border=\"1\" class=\"dataframe\">\n",
       "  <thead>\n",
       "    <tr style=\"text-align: right;\">\n",
       "      <th></th>\n",
       "      <th>pca-component</th>\n",
       "      <th>domain-number</th>\n",
       "    </tr>\n",
       "  </thead>\n",
       "  <tbody>\n",
       "    <tr>\n",
       "      <th>0</th>\n",
       "      <td>PC0</td>\n",
       "      <td>958</td>\n",
       "    </tr>\n",
       "    <tr>\n",
       "      <th>1</th>\n",
       "      <td>PC1</td>\n",
       "      <td>135</td>\n",
       "    </tr>\n",
       "    <tr>\n",
       "      <th>2</th>\n",
       "      <td>PC2</td>\n",
       "      <td>858</td>\n",
       "    </tr>\n",
       "    <tr>\n",
       "      <th>3</th>\n",
       "      <td>PC3</td>\n",
       "      <td>229</td>\n",
       "    </tr>\n",
       "    <tr>\n",
       "      <th>4</th>\n",
       "      <td>PC4</td>\n",
       "      <td>467</td>\n",
       "    </tr>\n",
       "  </tbody>\n",
       "</table>\n",
       "</div>"
      ],
      "text/plain": [
       "  pca-component  domain-number\n",
       "0           PC0            958\n",
       "1           PC1            135\n",
       "2           PC2            858\n",
       "3           PC3            229\n",
       "4           PC4            467"
      ]
     },
     "execution_count": 21,
     "metadata": {},
     "output_type": "execute_result"
    }
   ],
   "source": [
    "df_sl.head()"
   ]
  },
  {
   "cell_type": "markdown",
   "metadata": {},
   "source": [
    "## which are the shared domains between nSL and SL pairs , in the PCA reduced samples"
   ]
  },
  {
   "cell_type": "code",
   "execution_count": 22,
   "metadata": {
    "execution": {
     "iopub.execute_input": "2020-07-13T14:04:30.070980Z",
     "iopub.status.busy": "2020-07-13T14:04:30.070479Z",
     "iopub.status.idle": "2020-07-13T14:04:30.100605Z",
     "shell.execute_reply": "2020-07-13T14:04:30.101075Z"
    }
   },
   "outputs": [
    {
     "data": {
      "text/html": [
       "<div>\n",
       "<style scoped>\n",
       "    .dataframe tbody tr th:only-of-type {\n",
       "        vertical-align: middle;\n",
       "    }\n",
       "\n",
       "    .dataframe tbody tr th {\n",
       "        vertical-align: top;\n",
       "    }\n",
       "\n",
       "    .dataframe thead th {\n",
       "        text-align: right;\n",
       "    }\n",
       "</style>\n",
       "<table border=\"1\" class=\"dataframe\">\n",
       "  <thead>\n",
       "    <tr style=\"text-align: right;\">\n",
       "      <th></th>\n",
       "      <th>pca-component_x</th>\n",
       "      <th>domain-number</th>\n",
       "      <th>pca-component_y</th>\n",
       "      <th>domain-description</th>\n",
       "    </tr>\n",
       "  </thead>\n",
       "  <tbody>\n",
       "    <tr>\n",
       "      <th>0</th>\n",
       "      <td>PC8</td>\n",
       "      <td>55</td>\n",
       "      <td>PC6</td>\n",
       "      <td>ADK</td>\n",
       "    </tr>\n",
       "    <tr>\n",
       "      <th>1</th>\n",
       "      <td>PC9</td>\n",
       "      <td>81</td>\n",
       "      <td>PC103</td>\n",
       "      <td>AMP_N; Aminopeptidase P, N-terminal</td>\n",
       "    </tr>\n",
       "    <tr>\n",
       "      <th>2</th>\n",
       "      <td>PC11</td>\n",
       "      <td>937</td>\n",
       "      <td>PC21</td>\n",
       "      <td>Frag1; Frag1/DRAM/Sfk1</td>\n",
       "    </tr>\n",
       "    <tr>\n",
       "      <th>3</th>\n",
       "      <td>PC11</td>\n",
       "      <td>937</td>\n",
       "      <td>PC22</td>\n",
       "      <td>Frag1; Frag1/DRAM/Sfk1</td>\n",
       "    </tr>\n",
       "    <tr>\n",
       "      <th>4</th>\n",
       "      <td>PC18</td>\n",
       "      <td>926</td>\n",
       "      <td>PC14</td>\n",
       "      <td>Flp_C; Recombinase Flp protein</td>\n",
       "    </tr>\n",
       "    <tr>\n",
       "      <th>5</th>\n",
       "      <td>PC20</td>\n",
       "      <td>488</td>\n",
       "      <td>PC18</td>\n",
       "      <td>Cnd1_N; Condensin complex subunit 1, N-terminal</td>\n",
       "    </tr>\n",
       "    <tr>\n",
       "      <th>6</th>\n",
       "      <td>PC21</td>\n",
       "      <td>222</td>\n",
       "      <td>PC7</td>\n",
       "      <td>Apt1; FMP27,  C-terminal</td>\n",
       "    </tr>\n",
       "    <tr>\n",
       "      <th>7</th>\n",
       "      <td>PC31</td>\n",
       "      <td>274</td>\n",
       "      <td>PC44</td>\n",
       "      <td>BOP1NT; BOP1, N-terminal domain</td>\n",
       "    </tr>\n",
       "    <tr>\n",
       "      <th>8</th>\n",
       "      <td>PC31</td>\n",
       "      <td>274</td>\n",
       "      <td>PC45</td>\n",
       "      <td>BOP1NT; BOP1, N-terminal domain</td>\n",
       "    </tr>\n",
       "    <tr>\n",
       "      <th>9</th>\n",
       "      <td>PC37</td>\n",
       "      <td>56</td>\n",
       "      <td>PC83</td>\n",
       "      <td>ADK_lid; Adenylate kinase, active site lid domain</td>\n",
       "    </tr>\n",
       "    <tr>\n",
       "      <th>10</th>\n",
       "      <td>PC52</td>\n",
       "      <td>1072</td>\n",
       "      <td>PC53</td>\n",
       "      <td>Glycos_transf_1; Glycosyl transferase, family 1</td>\n",
       "    </tr>\n",
       "    <tr>\n",
       "      <th>11</th>\n",
       "      <td>PC53</td>\n",
       "      <td>444</td>\n",
       "      <td>PC229</td>\n",
       "      <td>Carn_acyltransf; Acyltransferase ChoActase/COT...</td>\n",
       "    </tr>\n",
       "    <tr>\n",
       "      <th>12</th>\n",
       "      <td>PC54</td>\n",
       "      <td>1411</td>\n",
       "      <td>PC138</td>\n",
       "      <td>MTS; Methyltransferase small domain</td>\n",
       "    </tr>\n",
       "    <tr>\n",
       "      <th>13</th>\n",
       "      <td>PC65</td>\n",
       "      <td>881</td>\n",
       "      <td>PC106</td>\n",
       "      <td>FHA; Forkhead-associated (FHA) domain</td>\n",
       "    </tr>\n",
       "    <tr>\n",
       "      <th>14</th>\n",
       "      <td>PC65</td>\n",
       "      <td>881</td>\n",
       "      <td>PC114</td>\n",
       "      <td>FHA; Forkhead-associated (FHA) domain</td>\n",
       "    </tr>\n",
       "    <tr>\n",
       "      <th>15</th>\n",
       "      <td>PC65</td>\n",
       "      <td>881</td>\n",
       "      <td>PC118</td>\n",
       "      <td>FHA; Forkhead-associated (FHA) domain</td>\n",
       "    </tr>\n",
       "    <tr>\n",
       "      <th>16</th>\n",
       "      <td>PC68</td>\n",
       "      <td>876</td>\n",
       "      <td>PC64</td>\n",
       "      <td>FDX-ACB; Ferrodoxin-fold anticodon-binding domain</td>\n",
       "    </tr>\n",
       "    <tr>\n",
       "      <th>17</th>\n",
       "      <td>PC88</td>\n",
       "      <td>704</td>\n",
       "      <td>PC195</td>\n",
       "      <td>DUF3543; Serine/threonine-protein kinase, C-te...</td>\n",
       "    </tr>\n",
       "    <tr>\n",
       "      <th>18</th>\n",
       "      <td>PC106</td>\n",
       "      <td>1048</td>\n",
       "      <td>PC161</td>\n",
       "      <td>Glyco_hydro_31; Glycoside hydrolase family 31</td>\n",
       "    </tr>\n",
       "    <tr>\n",
       "      <th>19</th>\n",
       "      <td>PC106</td>\n",
       "      <td>1048</td>\n",
       "      <td>PC171</td>\n",
       "      <td>Glyco_hydro_31; Glycoside hydrolase family 31</td>\n",
       "    </tr>\n",
       "    <tr>\n",
       "      <th>20</th>\n",
       "      <td>PC119</td>\n",
       "      <td>2568</td>\n",
       "      <td>PC151</td>\n",
       "      <td>TEA; TEA/ATTS domain</td>\n",
       "    </tr>\n",
       "    <tr>\n",
       "      <th>21</th>\n",
       "      <td>PC120</td>\n",
       "      <td>363</td>\n",
       "      <td>PC261</td>\n",
       "      <td>CLP1_P; Polyribonucleotide 5&amp;apos;-hydroxyl-ki...</td>\n",
       "    </tr>\n",
       "    <tr>\n",
       "      <th>22</th>\n",
       "      <td>PC121</td>\n",
       "      <td>363</td>\n",
       "      <td>PC261</td>\n",
       "      <td>CLP1_P; Polyribonucleotide 5&amp;apos;-hydroxyl-ki...</td>\n",
       "    </tr>\n",
       "    <tr>\n",
       "      <th>23</th>\n",
       "      <td>PC122</td>\n",
       "      <td>1325</td>\n",
       "      <td>PC104</td>\n",
       "      <td>Lgl_C; Lethal giant larvae (Lgl)-like, C-termi...</td>\n",
       "    </tr>\n",
       "    <tr>\n",
       "      <th>24</th>\n",
       "      <td>PC122</td>\n",
       "      <td>1325</td>\n",
       "      <td>PC115</td>\n",
       "      <td>Lgl_C; Lethal giant larvae (Lgl)-like, C-termi...</td>\n",
       "    </tr>\n",
       "    <tr>\n",
       "      <th>25</th>\n",
       "      <td>PC128</td>\n",
       "      <td>68</td>\n",
       "      <td>PC146</td>\n",
       "      <td>AIRC; PurE domain</td>\n",
       "    </tr>\n",
       "    <tr>\n",
       "      <th>26</th>\n",
       "      <td>PC128</td>\n",
       "      <td>68</td>\n",
       "      <td>PC147</td>\n",
       "      <td>AIRC; PurE domain</td>\n",
       "    </tr>\n",
       "    <tr>\n",
       "      <th>27</th>\n",
       "      <td>PC130</td>\n",
       "      <td>595</td>\n",
       "      <td>PC275</td>\n",
       "      <td>DJ-1_PfpI; DJ-1/PfpI</td>\n",
       "    </tr>\n",
       "    <tr>\n",
       "      <th>28</th>\n",
       "      <td>PC131</td>\n",
       "      <td>578</td>\n",
       "      <td>PC277</td>\n",
       "      <td>DFRP_C; ZC3H15/TMA46 family, C-terminal</td>\n",
       "    </tr>\n",
       "    <tr>\n",
       "      <th>29</th>\n",
       "      <td>PC132</td>\n",
       "      <td>578</td>\n",
       "      <td>PC277</td>\n",
       "      <td>DFRP_C; ZC3H15/TMA46 family, C-terminal</td>\n",
       "    </tr>\n",
       "    <tr>\n",
       "      <th>30</th>\n",
       "      <td>PC138</td>\n",
       "      <td>63</td>\n",
       "      <td>PC268</td>\n",
       "      <td>AICARFT_IMPCHas; AICARFT/IMPCHase bienzyme</td>\n",
       "    </tr>\n",
       "    <tr>\n",
       "      <th>31</th>\n",
       "      <td>PC138</td>\n",
       "      <td>63</td>\n",
       "      <td>PC269</td>\n",
       "      <td>AICARFT_IMPCHas; AICARFT/IMPCHase bienzyme</td>\n",
       "    </tr>\n",
       "    <tr>\n",
       "      <th>32</th>\n",
       "      <td>PC141</td>\n",
       "      <td>2916</td>\n",
       "      <td>PC158</td>\n",
       "      <td>fn3_2; Fibronectin type III domain, fungi</td>\n",
       "    </tr>\n",
       "    <tr>\n",
       "      <th>33</th>\n",
       "      <td>PC147</td>\n",
       "      <td>1061</td>\n",
       "      <td>PC278</td>\n",
       "      <td>Glyco_tran_28_C; Glycosyl transferase, family ...</td>\n",
       "    </tr>\n",
       "    <tr>\n",
       "      <th>34</th>\n",
       "      <td>PC149</td>\n",
       "      <td>1061</td>\n",
       "      <td>PC278</td>\n",
       "      <td>Glyco_tran_28_C; Glycosyl transferase, family ...</td>\n",
       "    </tr>\n",
       "    <tr>\n",
       "      <th>35</th>\n",
       "      <td>PC151</td>\n",
       "      <td>2388</td>\n",
       "      <td>PC215</td>\n",
       "      <td>SRP72; Signal recognition particle, SRP72 subu...</td>\n",
       "    </tr>\n",
       "    <tr>\n",
       "      <th>36</th>\n",
       "      <td>PC151</td>\n",
       "      <td>2388</td>\n",
       "      <td>PC238</td>\n",
       "      <td>SRP72; Signal recognition particle, SRP72 subu...</td>\n",
       "    </tr>\n",
       "    <tr>\n",
       "      <th>37</th>\n",
       "      <td>PC165</td>\n",
       "      <td>1743</td>\n",
       "      <td>PC236</td>\n",
       "      <td>PHD_2</td>\n",
       "    </tr>\n",
       "    <tr>\n",
       "      <th>38</th>\n",
       "      <td>PC175</td>\n",
       "      <td>2228</td>\n",
       "      <td>PC233</td>\n",
       "      <td>Ribosomal_S21e; Ribosomal protein S21e</td>\n",
       "    </tr>\n",
       "    <tr>\n",
       "      <th>39</th>\n",
       "      <td>PC175</td>\n",
       "      <td>2228</td>\n",
       "      <td>PC245</td>\n",
       "      <td>Ribosomal_S21e; Ribosomal protein S21e</td>\n",
       "    </tr>\n",
       "    <tr>\n",
       "      <th>40</th>\n",
       "      <td>PC177</td>\n",
       "      <td>2228</td>\n",
       "      <td>PC233</td>\n",
       "      <td>Ribosomal_S21e; Ribosomal protein S21e</td>\n",
       "    </tr>\n",
       "    <tr>\n",
       "      <th>41</th>\n",
       "      <td>PC177</td>\n",
       "      <td>2228</td>\n",
       "      <td>PC245</td>\n",
       "      <td>Ribosomal_S21e; Ribosomal protein S21e</td>\n",
       "    </tr>\n",
       "    <tr>\n",
       "      <th>42</th>\n",
       "      <td>PC176</td>\n",
       "      <td>1206</td>\n",
       "      <td>PC86</td>\n",
       "      <td>IF-2B; Initiation factor 2B-related</td>\n",
       "    </tr>\n",
       "    <tr>\n",
       "      <th>43</th>\n",
       "      <td>PC178</td>\n",
       "      <td>410</td>\n",
       "      <td>PC68</td>\n",
       "      <td>CRAL_TRIO; CRAL-TRIO lipid binding domain</td>\n",
       "    </tr>\n",
       "    <tr>\n",
       "      <th>44</th>\n",
       "      <td>PC178</td>\n",
       "      <td>410</td>\n",
       "      <td>PC71</td>\n",
       "      <td>CRAL_TRIO; CRAL-TRIO lipid binding domain</td>\n",
       "    </tr>\n",
       "    <tr>\n",
       "      <th>45</th>\n",
       "      <td>PC182</td>\n",
       "      <td>2107</td>\n",
       "      <td>PC207</td>\n",
       "      <td>RasGAP; Ras GTPase-activating protein</td>\n",
       "    </tr>\n",
       "    <tr>\n",
       "      <th>46</th>\n",
       "      <td>PC186</td>\n",
       "      <td>2917</td>\n",
       "      <td>PC267</td>\n",
       "      <td>hDGE_amylase; Glycogen debranching enzyme, glu...</td>\n",
       "    </tr>\n",
       "    <tr>\n",
       "      <th>47</th>\n",
       "      <td>PC196</td>\n",
       "      <td>1021</td>\n",
       "      <td>PC65</td>\n",
       "      <td>Gal4_dimer; Gal4 dimerisation domain</td>\n",
       "    </tr>\n",
       "    <tr>\n",
       "      <th>48</th>\n",
       "      <td>PC201</td>\n",
       "      <td>1021</td>\n",
       "      <td>PC65</td>\n",
       "      <td>Gal4_dimer; Gal4 dimerisation domain</td>\n",
       "    </tr>\n",
       "    <tr>\n",
       "      <th>49</th>\n",
       "      <td>PC199</td>\n",
       "      <td>1267</td>\n",
       "      <td>PC98</td>\n",
       "      <td>Kelch_3</td>\n",
       "    </tr>\n",
       "    <tr>\n",
       "      <th>50</th>\n",
       "      <td>PC200</td>\n",
       "      <td>1362</td>\n",
       "      <td>PC174</td>\n",
       "      <td>MDM31_MDM32; Mitochondrial distribution and mo...</td>\n",
       "    </tr>\n",
       "    <tr>\n",
       "      <th>51</th>\n",
       "      <td>PC267</td>\n",
       "      <td>1362</td>\n",
       "      <td>PC174</td>\n",
       "      <td>MDM31_MDM32; Mitochondrial distribution and mo...</td>\n",
       "    </tr>\n",
       "    <tr>\n",
       "      <th>52</th>\n",
       "      <td>PC206</td>\n",
       "      <td>2551</td>\n",
       "      <td>PC200</td>\n",
       "      <td>TAF4; Transcription initiation factor TFIID co...</td>\n",
       "    </tr>\n",
       "    <tr>\n",
       "      <th>53</th>\n",
       "      <td>PC226</td>\n",
       "      <td>1236</td>\n",
       "      <td>PC180</td>\n",
       "      <td>Inositol_P; Inositol monophosphatase-like</td>\n",
       "    </tr>\n",
       "    <tr>\n",
       "      <th>54</th>\n",
       "      <td>PC226</td>\n",
       "      <td>1236</td>\n",
       "      <td>PC182</td>\n",
       "      <td>Inositol_P; Inositol monophosphatase-like</td>\n",
       "    </tr>\n",
       "    <tr>\n",
       "      <th>55</th>\n",
       "      <td>PC232</td>\n",
       "      <td>1410</td>\n",
       "      <td>PC12</td>\n",
       "      <td>MTHFR; Methylenetetrahydrofolate reductase</td>\n",
       "    </tr>\n",
       "    <tr>\n",
       "      <th>56</th>\n",
       "      <td>PC242</td>\n",
       "      <td>107</td>\n",
       "      <td>PC157</td>\n",
       "      <td>ATE_N; Arginine-tRNA-protein transferase, N-te...</td>\n",
       "    </tr>\n",
       "    <tr>\n",
       "      <th>57</th>\n",
       "      <td>PC244</td>\n",
       "      <td>32</td>\n",
       "      <td>PC255</td>\n",
       "      <td>AATF-Che1; AATF leucine zipper-containing domain</td>\n",
       "    </tr>\n",
       "    <tr>\n",
       "      <th>58</th>\n",
       "      <td>PC257</td>\n",
       "      <td>35</td>\n",
       "      <td>PC270</td>\n",
       "      <td>AA_permease; Amino acid permease/ SLC12A domain</td>\n",
       "    </tr>\n",
       "    <tr>\n",
       "      <th>59</th>\n",
       "      <td>PC260</td>\n",
       "      <td>85</td>\n",
       "      <td>PC190</td>\n",
       "      <td>ANAPC3</td>\n",
       "    </tr>\n",
       "  </tbody>\n",
       "</table>\n",
       "</div>"
      ],
      "text/plain": [
       "   pca-component_x  domain-number pca-component_y  \\\n",
       "0              PC8             55             PC6   \n",
       "1              PC9             81           PC103   \n",
       "2             PC11            937            PC21   \n",
       "3             PC11            937            PC22   \n",
       "4             PC18            926            PC14   \n",
       "5             PC20            488            PC18   \n",
       "6             PC21            222             PC7   \n",
       "7             PC31            274            PC44   \n",
       "8             PC31            274            PC45   \n",
       "9             PC37             56            PC83   \n",
       "10            PC52           1072            PC53   \n",
       "11            PC53            444           PC229   \n",
       "12            PC54           1411           PC138   \n",
       "13            PC65            881           PC106   \n",
       "14            PC65            881           PC114   \n",
       "15            PC65            881           PC118   \n",
       "16            PC68            876            PC64   \n",
       "17            PC88            704           PC195   \n",
       "18           PC106           1048           PC161   \n",
       "19           PC106           1048           PC171   \n",
       "20           PC119           2568           PC151   \n",
       "21           PC120            363           PC261   \n",
       "22           PC121            363           PC261   \n",
       "23           PC122           1325           PC104   \n",
       "24           PC122           1325           PC115   \n",
       "25           PC128             68           PC146   \n",
       "26           PC128             68           PC147   \n",
       "27           PC130            595           PC275   \n",
       "28           PC131            578           PC277   \n",
       "29           PC132            578           PC277   \n",
       "30           PC138             63           PC268   \n",
       "31           PC138             63           PC269   \n",
       "32           PC141           2916           PC158   \n",
       "33           PC147           1061           PC278   \n",
       "34           PC149           1061           PC278   \n",
       "35           PC151           2388           PC215   \n",
       "36           PC151           2388           PC238   \n",
       "37           PC165           1743           PC236   \n",
       "38           PC175           2228           PC233   \n",
       "39           PC175           2228           PC245   \n",
       "40           PC177           2228           PC233   \n",
       "41           PC177           2228           PC245   \n",
       "42           PC176           1206            PC86   \n",
       "43           PC178            410            PC68   \n",
       "44           PC178            410            PC71   \n",
       "45           PC182           2107           PC207   \n",
       "46           PC186           2917           PC267   \n",
       "47           PC196           1021            PC65   \n",
       "48           PC201           1021            PC65   \n",
       "49           PC199           1267            PC98   \n",
       "50           PC200           1362           PC174   \n",
       "51           PC267           1362           PC174   \n",
       "52           PC206           2551           PC200   \n",
       "53           PC226           1236           PC180   \n",
       "54           PC226           1236           PC182   \n",
       "55           PC232           1410            PC12   \n",
       "56           PC242            107           PC157   \n",
       "57           PC244             32           PC255   \n",
       "58           PC257             35           PC270   \n",
       "59           PC260             85           PC190   \n",
       "\n",
       "                                   domain-description  \n",
       "0                                                 ADK  \n",
       "1                 AMP_N; Aminopeptidase P, N-terminal  \n",
       "2                              Frag1; Frag1/DRAM/Sfk1  \n",
       "3                              Frag1; Frag1/DRAM/Sfk1  \n",
       "4                      Flp_C; Recombinase Flp protein  \n",
       "5     Cnd1_N; Condensin complex subunit 1, N-terminal  \n",
       "6                            Apt1; FMP27,  C-terminal  \n",
       "7                     BOP1NT; BOP1, N-terminal domain  \n",
       "8                     BOP1NT; BOP1, N-terminal domain  \n",
       "9   ADK_lid; Adenylate kinase, active site lid domain  \n",
       "10    Glycos_transf_1; Glycosyl transferase, family 1  \n",
       "11  Carn_acyltransf; Acyltransferase ChoActase/COT...  \n",
       "12                MTS; Methyltransferase small domain  \n",
       "13              FHA; Forkhead-associated (FHA) domain  \n",
       "14              FHA; Forkhead-associated (FHA) domain  \n",
       "15              FHA; Forkhead-associated (FHA) domain  \n",
       "16  FDX-ACB; Ferrodoxin-fold anticodon-binding domain  \n",
       "17  DUF3543; Serine/threonine-protein kinase, C-te...  \n",
       "18      Glyco_hydro_31; Glycoside hydrolase family 31  \n",
       "19      Glyco_hydro_31; Glycoside hydrolase family 31  \n",
       "20                               TEA; TEA/ATTS domain  \n",
       "21  CLP1_P; Polyribonucleotide 5&apos;-hydroxyl-ki...  \n",
       "22  CLP1_P; Polyribonucleotide 5&apos;-hydroxyl-ki...  \n",
       "23  Lgl_C; Lethal giant larvae (Lgl)-like, C-termi...  \n",
       "24  Lgl_C; Lethal giant larvae (Lgl)-like, C-termi...  \n",
       "25                                  AIRC; PurE domain  \n",
       "26                                  AIRC; PurE domain  \n",
       "27                               DJ-1_PfpI; DJ-1/PfpI  \n",
       "28            DFRP_C; ZC3H15/TMA46 family, C-terminal  \n",
       "29            DFRP_C; ZC3H15/TMA46 family, C-terminal  \n",
       "30         AICARFT_IMPCHas; AICARFT/IMPCHase bienzyme  \n",
       "31         AICARFT_IMPCHas; AICARFT/IMPCHase bienzyme  \n",
       "32          fn3_2; Fibronectin type III domain, fungi  \n",
       "33  Glyco_tran_28_C; Glycosyl transferase, family ...  \n",
       "34  Glyco_tran_28_C; Glycosyl transferase, family ...  \n",
       "35  SRP72; Signal recognition particle, SRP72 subu...  \n",
       "36  SRP72; Signal recognition particle, SRP72 subu...  \n",
       "37                                              PHD_2  \n",
       "38             Ribosomal_S21e; Ribosomal protein S21e  \n",
       "39             Ribosomal_S21e; Ribosomal protein S21e  \n",
       "40             Ribosomal_S21e; Ribosomal protein S21e  \n",
       "41             Ribosomal_S21e; Ribosomal protein S21e  \n",
       "42                IF-2B; Initiation factor 2B-related  \n",
       "43          CRAL_TRIO; CRAL-TRIO lipid binding domain  \n",
       "44          CRAL_TRIO; CRAL-TRIO lipid binding domain  \n",
       "45              RasGAP; Ras GTPase-activating protein  \n",
       "46  hDGE_amylase; Glycogen debranching enzyme, glu...  \n",
       "47               Gal4_dimer; Gal4 dimerisation domain  \n",
       "48               Gal4_dimer; Gal4 dimerisation domain  \n",
       "49                                            Kelch_3  \n",
       "50  MDM31_MDM32; Mitochondrial distribution and mo...  \n",
       "51  MDM31_MDM32; Mitochondrial distribution and mo...  \n",
       "52  TAF4; Transcription initiation factor TFIID co...  \n",
       "53          Inositol_P; Inositol monophosphatase-like  \n",
       "54          Inositol_P; Inositol monophosphatase-like  \n",
       "55         MTHFR; Methylenetetrahydrofolate reductase  \n",
       "56  ATE_N; Arginine-tRNA-protein transferase, N-te...  \n",
       "57   AATF-Che1; AATF leucine zipper-containing domain  \n",
       "58    AA_permease; Amino acid permease/ SLC12A domain  \n",
       "59                                             ANAPC3  "
      ]
     },
     "execution_count": 22,
     "metadata": {},
     "output_type": "execute_result"
    }
   ],
   "source": [
    "df_shared_domains=pd.merge(df_sl,df_nsl,how='inner',on='domain-number')\n",
    "domains_name=np.unique(data_domains['domain-name'])\n",
    "domains_description=np.unique(data_domains['domain-descrip'])\n",
    "\n",
    "df_shared_domains['domain-description']=domains_description[df_shared_domains['domain-number']]\n",
    "\n",
    "\n",
    "df_shared_domains"
   ]
  },
  {
   "cell_type": "code",
   "execution_count": 23,
   "metadata": {
    "execution": {
     "iopub.execute_input": "2020-07-13T14:04:30.103288Z",
     "iopub.status.busy": "2020-07-13T14:04:30.102793Z",
     "iopub.status.idle": "2020-07-13T14:04:30.107387Z",
     "shell.execute_reply": "2020-07-13T14:04:30.107849Z"
    }
   },
   "outputs": [
    {
     "name": "stdout",
     "output_type": "stream",
     "text": [
      "The number of shared domains between SL and nSL pairs,after PCA, is =  60 out of 553 so the 10.849909584086799 %\n"
     ]
    }
   ],
   "source": [
    "print('The number of shared domains between SL and nSL pairs,after PCA, is = ',len(df_shared_domains), 'out of', len(df_sl)+len(df_nsl), 'so the',100*len(df_shared_domains)/(len(df_sl)+len(df_nsl)),'%')"
   ]
  },
  {
   "cell_type": "markdown",
   "metadata": {},
   "source": [
    "## Domains exclusive to SL"
   ]
  },
  {
   "cell_type": "code",
   "execution_count": 24,
   "metadata": {
    "execution": {
     "iopub.execute_input": "2020-07-13T14:04:30.109906Z",
     "iopub.status.busy": "2020-07-13T14:04:30.109422Z",
     "iopub.status.idle": "2020-07-13T14:04:30.136203Z",
     "shell.execute_reply": "2020-07-13T14:04:30.135777Z"
    }
   },
   "outputs": [
    {
     "data": {
      "text/html": [
       "<div>\n",
       "<style scoped>\n",
       "    .dataframe tbody tr th:only-of-type {\n",
       "        vertical-align: middle;\n",
       "    }\n",
       "\n",
       "    .dataframe tbody tr th {\n",
       "        vertical-align: top;\n",
       "    }\n",
       "\n",
       "    .dataframe thead th {\n",
       "        text-align: right;\n",
       "    }\n",
       "</style>\n",
       "<table border=\"1\" class=\"dataframe\">\n",
       "  <thead>\n",
       "    <tr style=\"text-align: right;\">\n",
       "      <th></th>\n",
       "      <th>pca-component_x</th>\n",
       "      <th>domain-number</th>\n",
       "      <th>pca-component_y</th>\n",
       "      <th>domain-description</th>\n",
       "    </tr>\n",
       "  </thead>\n",
       "  <tbody>\n",
       "    <tr>\n",
       "      <th>0</th>\n",
       "      <td>PC0</td>\n",
       "      <td>958</td>\n",
       "      <td>NaN</td>\n",
       "      <td>GATA; Zinc finger, GATA-type</td>\n",
       "    </tr>\n",
       "    <tr>\n",
       "      <th>1</th>\n",
       "      <td>PC1</td>\n",
       "      <td>135</td>\n",
       "      <td>NaN</td>\n",
       "      <td>ATP-synt_ab_Xtn; ATPsynthase alpha/beta subuni...</td>\n",
       "    </tr>\n",
       "    <tr>\n",
       "      <th>2</th>\n",
       "      <td>PC2</td>\n",
       "      <td>858</td>\n",
       "      <td>NaN</td>\n",
       "      <td>F420_oxidored; Pyrroline-5-carboxylate reducta...</td>\n",
       "    </tr>\n",
       "    <tr>\n",
       "      <th>3</th>\n",
       "      <td>PC3</td>\n",
       "      <td>229</td>\n",
       "      <td>NaN</td>\n",
       "      <td>Arginase; Ureohydrolase</td>\n",
       "    </tr>\n",
       "    <tr>\n",
       "      <th>4</th>\n",
       "      <td>PC4</td>\n",
       "      <td>467</td>\n",
       "      <td>NaN</td>\n",
       "      <td>Choline_transpo; Choline transporter-like</td>\n",
       "    </tr>\n",
       "    <tr>\n",
       "      <th>...</th>\n",
       "      <td>...</td>\n",
       "      <td>...</td>\n",
       "      <td>...</td>\n",
       "      <td>...</td>\n",
       "    </tr>\n",
       "    <tr>\n",
       "      <th>277</th>\n",
       "      <td>PC264</td>\n",
       "      <td>2002</td>\n",
       "      <td>NaN</td>\n",
       "      <td>RNA_pol_3_Rpc31; DNA-directed RNA polymerase I...</td>\n",
       "    </tr>\n",
       "    <tr>\n",
       "      <th>278</th>\n",
       "      <td>PC265</td>\n",
       "      <td>283</td>\n",
       "      <td>NaN</td>\n",
       "      <td>BRF1; Brf1, TBP-binding domain</td>\n",
       "    </tr>\n",
       "    <tr>\n",
       "      <th>279</th>\n",
       "      <td>PC266</td>\n",
       "      <td>752</td>\n",
       "      <td>NaN</td>\n",
       "      <td>Dfp1_Him1_M; Regulatory subunit Dfp1/Him1, cen...</td>\n",
       "    </tr>\n",
       "    <tr>\n",
       "      <th>281</th>\n",
       "      <td>PC268</td>\n",
       "      <td>2007</td>\n",
       "      <td>NaN</td>\n",
       "      <td>RNA_pol_L_2; DNA-directed RNA polymerase, RBP1...</td>\n",
       "    </tr>\n",
       "    <tr>\n",
       "      <th>282</th>\n",
       "      <td>PC269</td>\n",
       "      <td>1317</td>\n",
       "      <td>NaN</td>\n",
       "      <td>Ldh_1_N; Lactate/malate dehydrogenase, N-terminal</td>\n",
       "    </tr>\n",
       "  </tbody>\n",
       "</table>\n",
       "<p>223 rows × 4 columns</p>\n",
       "</div>"
      ],
      "text/plain": [
       "    pca-component_x  domain-number pca-component_y  \\\n",
       "0               PC0            958             NaN   \n",
       "1               PC1            135             NaN   \n",
       "2               PC2            858             NaN   \n",
       "3               PC3            229             NaN   \n",
       "4               PC4            467             NaN   \n",
       "..              ...            ...             ...   \n",
       "277           PC264           2002             NaN   \n",
       "278           PC265            283             NaN   \n",
       "279           PC266            752             NaN   \n",
       "281           PC268           2007             NaN   \n",
       "282           PC269           1317             NaN   \n",
       "\n",
       "                                    domain-description  \n",
       "0                         GATA; Zinc finger, GATA-type  \n",
       "1    ATP-synt_ab_Xtn; ATPsynthase alpha/beta subuni...  \n",
       "2    F420_oxidored; Pyrroline-5-carboxylate reducta...  \n",
       "3                              Arginase; Ureohydrolase  \n",
       "4            Choline_transpo; Choline transporter-like  \n",
       "..                                                 ...  \n",
       "277  RNA_pol_3_Rpc31; DNA-directed RNA polymerase I...  \n",
       "278                     BRF1; Brf1, TBP-binding domain  \n",
       "279  Dfp1_Him1_M; Regulatory subunit Dfp1/Him1, cen...  \n",
       "281  RNA_pol_L_2; DNA-directed RNA polymerase, RBP1...  \n",
       "282  Ldh_1_N; Lactate/malate dehydrogenase, N-terminal  \n",
       "\n",
       "[223 rows x 4 columns]"
      ]
     },
     "execution_count": 24,
     "metadata": {},
     "output_type": "execute_result"
    }
   ],
   "source": [
    "df_sl_exclusive=pd.merge(df_sl,df_nsl,how='left',on='domain-number')\n",
    "\n",
    "domains_name=np.unique(data_domains['domain-name'])\n",
    "domains_description=np.unique(data_domains['domain-descrip'])\n",
    "\n",
    "df_sl_exclusive['domain-description']=domains_description[df_sl_exclusive['domain-number']]\n",
    "df_sl_exclusive[pd.isnull(df_sl_exclusive['pca-component_y'])]"
   ]
  },
  {
   "cell_type": "code",
   "execution_count": 25,
   "metadata": {
    "execution": {
     "iopub.execute_input": "2020-07-13T14:04:30.140794Z",
     "iopub.status.busy": "2020-07-13T14:04:30.139767Z",
     "iopub.status.idle": "2020-07-13T14:04:30.143829Z",
     "shell.execute_reply": "2020-07-13T14:04:30.144195Z"
    }
   },
   "outputs": [
    {
     "name": "stdout",
     "output_type": "stream",
     "text": [
      "The number of exclusive domains from SL pairs, after PCA, is =  283 out of 553 so the 51.175406871609404 %\n"
     ]
    }
   ],
   "source": [
    "print('The number of exclusive domains from SL pairs, after PCA, is = ',len(df_sl_exclusive), 'out of', len(df_sl)+len(df_nsl), 'so the',100*len(df_sl_exclusive)/(len(df_sl)+len(df_nsl)),'%')"
   ]
  },
  {
   "cell_type": "code",
   "execution_count": 26,
   "metadata": {
    "execution": {
     "iopub.execute_input": "2020-07-13T14:04:30.149384Z",
     "iopub.status.busy": "2020-07-13T14:04:30.148878Z",
     "iopub.status.idle": "2020-07-13T14:04:30.172266Z",
     "shell.execute_reply": "2020-07-13T14:04:30.172786Z"
    }
   },
   "outputs": [
    {
     "data": {
      "text/html": [
       "<div>\n",
       "<style scoped>\n",
       "    .dataframe tbody tr th:only-of-type {\n",
       "        vertical-align: middle;\n",
       "    }\n",
       "\n",
       "    .dataframe tbody tr th {\n",
       "        vertical-align: top;\n",
       "    }\n",
       "\n",
       "    .dataframe thead th {\n",
       "        text-align: right;\n",
       "    }\n",
       "</style>\n",
       "<table border=\"1\" class=\"dataframe\">\n",
       "  <thead>\n",
       "    <tr style=\"text-align: right;\">\n",
       "      <th></th>\n",
       "      <th>pca-component_x</th>\n",
       "      <th>domain-number</th>\n",
       "      <th>pca-component_y</th>\n",
       "      <th>domain-description</th>\n",
       "    </tr>\n",
       "  </thead>\n",
       "  <tbody>\n",
       "    <tr>\n",
       "      <th>60</th>\n",
       "      <td>NaN</td>\n",
       "      <td>1028</td>\n",
       "      <td>PC0</td>\n",
       "      <td>GatB_Yqey; Asn/Gln amidotransferase</td>\n",
       "    </tr>\n",
       "    <tr>\n",
       "      <th>61</th>\n",
       "      <td>NaN</td>\n",
       "      <td>1811</td>\n",
       "      <td>PC1</td>\n",
       "      <td>PRAI; N-(5&amp;apos;phosphoribosyl) anthranilate i...</td>\n",
       "    </tr>\n",
       "    <tr>\n",
       "      <th>62</th>\n",
       "      <td>NaN</td>\n",
       "      <td>1252</td>\n",
       "      <td>PC2</td>\n",
       "      <td>JmjN; JmjN domain</td>\n",
       "    </tr>\n",
       "    <tr>\n",
       "      <th>63</th>\n",
       "      <td>NaN</td>\n",
       "      <td>2113</td>\n",
       "      <td>PC3</td>\n",
       "      <td>Rav1p_C; RAVE complex protein Rav1 C-terminal</td>\n",
       "    </tr>\n",
       "    <tr>\n",
       "      <th>64</th>\n",
       "      <td>NaN</td>\n",
       "      <td>2</td>\n",
       "      <td>PC4</td>\n",
       "      <td>2-Hacid_dh; D-isomer specific 2-hydroxyacid de...</td>\n",
       "    </tr>\n",
       "    <tr>\n",
       "      <th>...</th>\n",
       "      <td>...</td>\n",
       "      <td>...</td>\n",
       "      <td>...</td>\n",
       "      <td>...</td>\n",
       "    </tr>\n",
       "    <tr>\n",
       "      <th>285</th>\n",
       "      <td>NaN</td>\n",
       "      <td>1275</td>\n",
       "      <td>PC276</td>\n",
       "      <td>Kinetocho_Slk19; Central kinetochore-associated</td>\n",
       "    </tr>\n",
       "    <tr>\n",
       "      <th>286</th>\n",
       "      <td>NaN</td>\n",
       "      <td>2832</td>\n",
       "      <td>PC279</td>\n",
       "      <td>Vps4_C; Vps4 oligomerisation, C-terminal</td>\n",
       "    </tr>\n",
       "    <tr>\n",
       "      <th>287</th>\n",
       "      <td>NaN</td>\n",
       "      <td>250</td>\n",
       "      <td>PC280</td>\n",
       "      <td>B3_4; B3/B4 tRNA-binding domain</td>\n",
       "    </tr>\n",
       "    <tr>\n",
       "      <th>288</th>\n",
       "      <td>NaN</td>\n",
       "      <td>2651</td>\n",
       "      <td>PC281</td>\n",
       "      <td>Telomere_reg-2; Telomere length regulation pro...</td>\n",
       "    </tr>\n",
       "    <tr>\n",
       "      <th>289</th>\n",
       "      <td>NaN</td>\n",
       "      <td>6</td>\n",
       "      <td>PC282</td>\n",
       "      <td>2OG-FeII_Oxy_4</td>\n",
       "    </tr>\n",
       "  </tbody>\n",
       "</table>\n",
       "<p>230 rows × 4 columns</p>\n",
       "</div>"
      ],
      "text/plain": [
       "    pca-component_x  domain-number pca-component_y  \\\n",
       "60              NaN           1028             PC0   \n",
       "61              NaN           1811             PC1   \n",
       "62              NaN           1252             PC2   \n",
       "63              NaN           2113             PC3   \n",
       "64              NaN              2             PC4   \n",
       "..              ...            ...             ...   \n",
       "285             NaN           1275           PC276   \n",
       "286             NaN           2832           PC279   \n",
       "287             NaN            250           PC280   \n",
       "288             NaN           2651           PC281   \n",
       "289             NaN              6           PC282   \n",
       "\n",
       "                                    domain-description  \n",
       "60                 GatB_Yqey; Asn/Gln amidotransferase  \n",
       "61   PRAI; N-(5&apos;phosphoribosyl) anthranilate i...  \n",
       "62                                   JmjN; JmjN domain  \n",
       "63       Rav1p_C; RAVE complex protein Rav1 C-terminal  \n",
       "64   2-Hacid_dh; D-isomer specific 2-hydroxyacid de...  \n",
       "..                                                 ...  \n",
       "285    Kinetocho_Slk19; Central kinetochore-associated  \n",
       "286           Vps4_C; Vps4 oligomerisation, C-terminal  \n",
       "287                    B3_4; B3/B4 tRNA-binding domain  \n",
       "288  Telomere_reg-2; Telomere length regulation pro...  \n",
       "289                                     2OG-FeII_Oxy_4  \n",
       "\n",
       "[230 rows x 4 columns]"
      ]
     },
     "execution_count": 26,
     "metadata": {},
     "output_type": "execute_result"
    }
   ],
   "source": [
    "df_nsl_exclusive=pd.merge(df_sl,df_nsl,how='right',on='domain-number')\n",
    "\n",
    "domains_name=np.unique(data_domains['domain-name'])\n",
    "domains_description=np.unique(data_domains['domain-descrip'])\n",
    "\n",
    "df_nsl_exclusive['domain-description']=domains_description[df_nsl_exclusive['domain-number']]\n",
    "df_nsl_exclusive[pd.isnull(df_nsl_exclusive['pca-component_x'])]"
   ]
  },
  {
   "cell_type": "code",
   "execution_count": 27,
   "metadata": {
    "execution": {
     "iopub.execute_input": "2020-07-13T14:04:30.174947Z",
     "iopub.status.busy": "2020-07-13T14:04:30.174543Z",
     "iopub.status.idle": "2020-07-13T14:04:30.178897Z",
     "shell.execute_reply": "2020-07-13T14:04:30.179360Z"
    }
   },
   "outputs": [
    {
     "name": "stdout",
     "output_type": "stream",
     "text": [
      "The number of exclusive domains from non SL pairs, after PCA, is =  290 out of 553 so the 52.44122965641953 %\n"
     ]
    }
   ],
   "source": [
    "print('The number of exclusive domains from non SL pairs, after PCA, is = ',len(df_nsl_exclusive), 'out of', len(df_sl)+len(df_nsl), 'so the',100*len(df_nsl_exclusive)/(len(df_sl)+len(df_nsl)),'%')"
   ]
  },
  {
   "cell_type": "markdown",
   "metadata": {},
   "source": [
    "## Let see to the domains-number that get repeated after the PCA analysis , and selecting the most explanatory feature by its explained variance."
   ]
  },
  {
   "cell_type": "code",
   "execution_count": 28,
   "metadata": {
    "execution": {
     "iopub.execute_input": "2020-07-13T14:04:30.199056Z",
     "iopub.status.busy": "2020-07-13T14:04:30.195784Z",
     "iopub.status.idle": "2020-07-13T14:04:30.200535Z",
     "shell.execute_reply": "2020-07-13T14:04:30.200854Z"
    }
   },
   "outputs": [],
   "source": [
    "duplicated_features_sl=df_sl[df_sl.iloc[:,1].duplicated()]\n",
    "repeated_features_sl=pd.DataFrame()\n",
    "\n",
    "domains_name=np.unique(data_domains['domain-name'])\n",
    "domains_description=np.unique(data_domains['domain-descrip'])\n",
    "\n",
    "repeated_features_sl['domain-name']=domains_name[duplicated_features_sl.iloc[:,1]] \n",
    "repeated_features_sl['domain-description']=domains_description[duplicated_features_sl.iloc[:,1]]\n",
    "\n",
    "duplicated_features_nsl=df_nsl[df_nsl.iloc[:,1].duplicated()]\n",
    "repeated_features_nsl=pd.DataFrame()\n",
    "\n",
    "repeated_features_nsl['domain-name']=domains_name[duplicated_features_nsl.iloc[:,1]] \n",
    "repeated_features_nsl['domain-description']=domains_description[duplicated_features_nsl.iloc[:,1]]"
   ]
  },
  {
   "cell_type": "code",
   "execution_count": 29,
   "metadata": {
    "execution": {
     "iopub.execute_input": "2020-07-13T14:04:30.210067Z",
     "iopub.status.busy": "2020-07-13T14:04:30.209008Z",
     "iopub.status.idle": "2020-07-13T14:04:30.215254Z",
     "shell.execute_reply": "2020-07-13T14:04:30.214832Z"
    }
   },
   "outputs": [
    {
     "name": "stderr",
     "output_type": "stream",
     "text": [
      "/usr/share/miniconda3/envs/wintest/lib/python3.7/site-packages/ipykernel_launcher.py:3: SettingWithCopyWarning: \n",
      "A value is trying to be set on a copy of a slice from a DataFrame.\n",
      "Try using .loc[row_indexer,col_indexer] = value instead\n",
      "\n",
      "See the caveats in the documentation: https://pandas.pydata.org/pandas-docs/stable/user_guide/indexing.html#returning-a-view-versus-a-copy\n",
      "  This is separate from the ipykernel package so we can avoid doing imports until\n"
     ]
    },
    {
     "data": {
      "text/plain": [
       "((38, 4), (283, 4))"
      ]
     },
     "execution_count": 29,
     "metadata": {},
     "output_type": "execute_result"
    }
   ],
   "source": [
    "only_sl_pd=pd.merge(repeated_features_sl,repeated_features_nsl,how='left',on=['domain-name'])\n",
    "data_only_sl = only_sl_pd[pd.isnull(only_sl_pd['domain-description_y'])]\n",
    "data_only_sl['domain-description']=data_only_sl['domain-description_x']\n",
    "data_only_sl.shape,df_sl_exclusive.shape"
   ]
  },
  {
   "cell_type": "code",
   "execution_count": 30,
   "metadata": {
    "execution": {
     "iopub.execute_input": "2020-07-13T14:04:30.232033Z",
     "iopub.status.busy": "2020-07-13T14:04:30.231555Z",
     "iopub.status.idle": "2020-07-13T14:04:30.235864Z",
     "shell.execute_reply": "2020-07-13T14:04:30.236257Z"
    }
   },
   "outputs": [
    {
     "data": {
      "text/html": [
       "<div>\n",
       "<style scoped>\n",
       "    .dataframe tbody tr th:only-of-type {\n",
       "        vertical-align: middle;\n",
       "    }\n",
       "\n",
       "    .dataframe tbody tr th {\n",
       "        vertical-align: top;\n",
       "    }\n",
       "\n",
       "    .dataframe thead th {\n",
       "        text-align: right;\n",
       "    }\n",
       "</style>\n",
       "<table border=\"1\" class=\"dataframe\">\n",
       "  <thead>\n",
       "    <tr style=\"text-align: right;\">\n",
       "      <th></th>\n",
       "      <th>domain-name</th>\n",
       "      <th>domain-description_x</th>\n",
       "      <th>domain-description_y</th>\n",
       "    </tr>\n",
       "  </thead>\n",
       "  <tbody>\n",
       "    <tr>\n",
       "      <th>1</th>\n",
       "      <td>PF02735</td>\n",
       "      <td>NaN</td>\n",
       "      <td>Frag1; Frag1/DRAM/Sfk1</td>\n",
       "    </tr>\n",
       "    <tr>\n",
       "      <th>2</th>\n",
       "      <td>PF03234</td>\n",
       "      <td>NaN</td>\n",
       "      <td>Gpi1; N-acetylglucosaminyl transferase component</td>\n",
       "    </tr>\n",
       "    <tr>\n",
       "      <th>3</th>\n",
       "      <td>PF00493</td>\n",
       "      <td>NaN</td>\n",
       "      <td>Autophagy_C; Autophagy-related protein 3, C-te...</td>\n",
       "    </tr>\n",
       "    <tr>\n",
       "      <th>4</th>\n",
       "      <td>PF00792</td>\n",
       "      <td>NaN</td>\n",
       "      <td>COQ7; Ubiquinone biosynthesis protein Coq7</td>\n",
       "    </tr>\n",
       "    <tr>\n",
       "      <th>5</th>\n",
       "      <td>PF13193</td>\n",
       "      <td>NaN</td>\n",
       "      <td>TIMELESS; Timeless protein</td>\n",
       "    </tr>\n",
       "    <tr>\n",
       "      <th>6</th>\n",
       "      <td>PF00570</td>\n",
       "      <td>NaN</td>\n",
       "      <td>BOP1NT; BOP1, N-terminal domain</td>\n",
       "    </tr>\n",
       "    <tr>\n",
       "      <th>7</th>\n",
       "      <td>PF02893</td>\n",
       "      <td>NaN</td>\n",
       "      <td>GRIP; GRIP domain</td>\n",
       "    </tr>\n",
       "    <tr>\n",
       "      <th>8</th>\n",
       "      <td>PF00091</td>\n",
       "      <td>NaN</td>\n",
       "      <td>ABC1; UbiB domain</td>\n",
       "    </tr>\n",
       "    <tr>\n",
       "      <th>9</th>\n",
       "      <td>PF11951</td>\n",
       "      <td>NaN</td>\n",
       "      <td>Sec15; Exocyst complex component EXOC6/Sec15</td>\n",
       "    </tr>\n",
       "    <tr>\n",
       "      <th>10</th>\n",
       "      <td>PF00856</td>\n",
       "      <td>NaN</td>\n",
       "      <td>CRAL_TRIO; CRAL-TRIO lipid binding domain</td>\n",
       "    </tr>\n",
       "    <tr>\n",
       "      <th>11</th>\n",
       "      <td>PF04571</td>\n",
       "      <td>NaN</td>\n",
       "      <td>MMS19_C; MMS19, C-terminal</td>\n",
       "    </tr>\n",
       "    <tr>\n",
       "      <th>12</th>\n",
       "      <td>PF08662</td>\n",
       "      <td>NaN</td>\n",
       "      <td>RNA_pol_Rpb2_2; RNA polymerase Rpb2, domain 2</td>\n",
       "    </tr>\n",
       "    <tr>\n",
       "      <th>13</th>\n",
       "      <td>PF03947</td>\n",
       "      <td>NaN</td>\n",
       "      <td>IKI3; Elongator complex subunit Iki3</td>\n",
       "    </tr>\n",
       "    <tr>\n",
       "      <th>14</th>\n",
       "      <td>PF04116</td>\n",
       "      <td>NaN</td>\n",
       "      <td>LCAT; Lecithin:cholesterol/phospholipid:diacyl...</td>\n",
       "    </tr>\n",
       "    <tr>\n",
       "      <th>15</th>\n",
       "      <td>PF02383</td>\n",
       "      <td>NaN</td>\n",
       "      <td>FHA; Forkhead-associated (FHA) domain</td>\n",
       "    </tr>\n",
       "    <tr>\n",
       "      <th>16</th>\n",
       "      <td>PF02383</td>\n",
       "      <td>NaN</td>\n",
       "      <td>FHA; Forkhead-associated (FHA) domain</td>\n",
       "    </tr>\n",
       "    <tr>\n",
       "      <th>17</th>\n",
       "      <td>PF04191</td>\n",
       "      <td>NaN</td>\n",
       "      <td>Lgl_C; Lethal giant larvae (Lgl)-like, C-termi...</td>\n",
       "    </tr>\n",
       "    <tr>\n",
       "      <th>18</th>\n",
       "      <td>PF00999</td>\n",
       "      <td>NaN</td>\n",
       "      <td>Cbp4</td>\n",
       "    </tr>\n",
       "    <tr>\n",
       "      <th>19</th>\n",
       "      <td>PF02301</td>\n",
       "      <td>NaN</td>\n",
       "      <td>FAT; PIK-related kinase, FAT</td>\n",
       "    </tr>\n",
       "    <tr>\n",
       "      <th>20</th>\n",
       "      <td>PF04091</td>\n",
       "      <td>NaN</td>\n",
       "      <td>Ketoacyl-synt_C; Beta-ketoacyl synthase, C-ter...</td>\n",
       "    </tr>\n",
       "    <tr>\n",
       "      <th>21</th>\n",
       "      <td>PF00153</td>\n",
       "      <td>NaN</td>\n",
       "      <td>AIRC; PurE domain</td>\n",
       "    </tr>\n",
       "    <tr>\n",
       "      <th>22</th>\n",
       "      <td>PF01090</td>\n",
       "      <td>NaN</td>\n",
       "      <td>Cmc1; Cytochrome c oxidase biogenesis protein ...</td>\n",
       "    </tr>\n",
       "    <tr>\n",
       "      <th>23</th>\n",
       "      <td>PF09110</td>\n",
       "      <td>NaN</td>\n",
       "      <td>RSN1_TM; Calcium permeable stress-gated cation...</td>\n",
       "    </tr>\n",
       "    <tr>\n",
       "      <th>24</th>\n",
       "      <td>PF05179</td>\n",
       "      <td>NaN</td>\n",
       "      <td>Mob1_phocein; MOB kinase activator family</td>\n",
       "    </tr>\n",
       "    <tr>\n",
       "      <th>25</th>\n",
       "      <td>PF08626</td>\n",
       "      <td>NaN</td>\n",
       "      <td>RINT1_TIP1; RINT-1/Tip20</td>\n",
       "    </tr>\n",
       "    <tr>\n",
       "      <th>26</th>\n",
       "      <td>PF04048</td>\n",
       "      <td>NaN</td>\n",
       "      <td>Ist1; Vacuolar protein sorting-associated prot...</td>\n",
       "    </tr>\n",
       "    <tr>\n",
       "      <th>27</th>\n",
       "      <td>PF00702</td>\n",
       "      <td>NaN</td>\n",
       "      <td>CFIA_Pcf11; Subunit of cleavage factor IA Pcf11</td>\n",
       "    </tr>\n",
       "    <tr>\n",
       "      <th>28</th>\n",
       "      <td>PF03126</td>\n",
       "      <td>NaN</td>\n",
       "      <td>Glyco_hydro_31; Glycoside hydrolase family 31</td>\n",
       "    </tr>\n",
       "    <tr>\n",
       "      <th>29</th>\n",
       "      <td>PF00399</td>\n",
       "      <td>NaN</td>\n",
       "      <td>Alpha_adaptinC2; Clathrin adaptor, alpha/beta/...</td>\n",
       "    </tr>\n",
       "    <tr>\n",
       "      <th>30</th>\n",
       "      <td>PF04004</td>\n",
       "      <td>NaN</td>\n",
       "      <td>Inositol_P; Inositol monophosphatase-like</td>\n",
       "    </tr>\n",
       "    <tr>\n",
       "      <th>31</th>\n",
       "      <td>PF14304</td>\n",
       "      <td>NaN</td>\n",
       "      <td>UBA_3; Ubiquitin-conjugating enzyme, C-termina...</td>\n",
       "    </tr>\n",
       "    <tr>\n",
       "      <th>32</th>\n",
       "      <td>PF04478</td>\n",
       "      <td>NaN</td>\n",
       "      <td>MCM_OB; MCM OB domain</td>\n",
       "    </tr>\n",
       "    <tr>\n",
       "      <th>33</th>\n",
       "      <td>PF04045</td>\n",
       "      <td>NaN</td>\n",
       "      <td>Iso_dh; Isopropylmalate dehydrogenase-like domain</td>\n",
       "    </tr>\n",
       "    <tr>\n",
       "      <th>34</th>\n",
       "      <td>PF10311</td>\n",
       "      <td>NaN</td>\n",
       "      <td>Ribosomal_S6e; Ribosomal protein S6e</td>\n",
       "    </tr>\n",
       "    <tr>\n",
       "      <th>35</th>\n",
       "      <td>PF01251</td>\n",
       "      <td>NaN</td>\n",
       "      <td>DDT; DDT domain</td>\n",
       "    </tr>\n",
       "    <tr>\n",
       "      <th>36</th>\n",
       "      <td>PF04427</td>\n",
       "      <td>NaN</td>\n",
       "      <td>MATalpha_HMGbox; Mating-type protein MAT alpha...</td>\n",
       "    </tr>\n",
       "    <tr>\n",
       "      <th>37</th>\n",
       "      <td>PF00447</td>\n",
       "      <td>NaN</td>\n",
       "      <td>Apc13p</td>\n",
       "    </tr>\n",
       "    <tr>\n",
       "      <th>38</th>\n",
       "      <td>PF00447</td>\n",
       "      <td>NaN</td>\n",
       "      <td>Apc13p</td>\n",
       "    </tr>\n",
       "    <tr>\n",
       "      <th>39</th>\n",
       "      <td>PF00447</td>\n",
       "      <td>NaN</td>\n",
       "      <td>Apc13p</td>\n",
       "    </tr>\n",
       "    <tr>\n",
       "      <th>40</th>\n",
       "      <td>PF11635</td>\n",
       "      <td>NaN</td>\n",
       "      <td>SRP72; Signal recognition particle, SRP72 subu...</td>\n",
       "    </tr>\n",
       "    <tr>\n",
       "      <th>41</th>\n",
       "      <td>PF00342</td>\n",
       "      <td>NaN</td>\n",
       "      <td>Adenylsucc_synt; Adenylosuccinate synthetase</td>\n",
       "    </tr>\n",
       "    <tr>\n",
       "      <th>42</th>\n",
       "      <td>PF02386</td>\n",
       "      <td>NaN</td>\n",
       "      <td>FIN1</td>\n",
       "    </tr>\n",
       "    <tr>\n",
       "      <th>43</th>\n",
       "      <td>PF02386</td>\n",
       "      <td>NaN</td>\n",
       "      <td>FIN1</td>\n",
       "    </tr>\n",
       "    <tr>\n",
       "      <th>44</th>\n",
       "      <td>PF10296</td>\n",
       "      <td>NaN</td>\n",
       "      <td>Ribosomal_S2; Ribosomal protein S2</td>\n",
       "    </tr>\n",
       "    <tr>\n",
       "      <th>45</th>\n",
       "      <td>PF03650</td>\n",
       "      <td>NaN</td>\n",
       "      <td>Hap4_Hap_bind; Hap4 transcription factor, hete...</td>\n",
       "    </tr>\n",
       "    <tr>\n",
       "      <th>46</th>\n",
       "      <td>PF03856</td>\n",
       "      <td>NaN</td>\n",
       "      <td>Hpt; Signal transduction histidine kinase, pho...</td>\n",
       "    </tr>\n",
       "    <tr>\n",
       "      <th>47</th>\n",
       "      <td>PF04000</td>\n",
       "      <td>NaN</td>\n",
       "      <td>Inhibitor_I9; Peptidase S8 propeptide/proteina...</td>\n",
       "    </tr>\n",
       "    <tr>\n",
       "      <th>48</th>\n",
       "      <td>PF11593</td>\n",
       "      <td>NaN</td>\n",
       "      <td>SRP19; Signal recognition particle, SRP19 subunit</td>\n",
       "    </tr>\n",
       "    <tr>\n",
       "      <th>49</th>\n",
       "      <td>PF11593</td>\n",
       "      <td>NaN</td>\n",
       "      <td>SRP19; Signal recognition particle, SRP19 subunit</td>\n",
       "    </tr>\n",
       "    <tr>\n",
       "      <th>50</th>\n",
       "      <td>PF00137</td>\n",
       "      <td>NaN</td>\n",
       "      <td>AICARFT_IMPCHas; AICARFT/IMPCHase bienzyme</td>\n",
       "    </tr>\n",
       "    <tr>\n",
       "      <th>51</th>\n",
       "      <td>PF08658</td>\n",
       "      <td>NaN</td>\n",
       "      <td>RNA_pol_Rpb1_7; RNA polymerase Rpb1, domain 7</td>\n",
       "    </tr>\n",
       "    <tr>\n",
       "      <th>52</th>\n",
       "      <td>PF01151</td>\n",
       "      <td>NaN</td>\n",
       "      <td>Cpn10; GroES chaperonin family</td>\n",
       "    </tr>\n",
       "  </tbody>\n",
       "</table>\n",
       "</div>"
      ],
      "text/plain": [
       "   domain-name domain-description_x  \\\n",
       "1      PF02735                  NaN   \n",
       "2      PF03234                  NaN   \n",
       "3      PF00493                  NaN   \n",
       "4      PF00792                  NaN   \n",
       "5      PF13193                  NaN   \n",
       "6      PF00570                  NaN   \n",
       "7      PF02893                  NaN   \n",
       "8      PF00091                  NaN   \n",
       "9      PF11951                  NaN   \n",
       "10     PF00856                  NaN   \n",
       "11     PF04571                  NaN   \n",
       "12     PF08662                  NaN   \n",
       "13     PF03947                  NaN   \n",
       "14     PF04116                  NaN   \n",
       "15     PF02383                  NaN   \n",
       "16     PF02383                  NaN   \n",
       "17     PF04191                  NaN   \n",
       "18     PF00999                  NaN   \n",
       "19     PF02301                  NaN   \n",
       "20     PF04091                  NaN   \n",
       "21     PF00153                  NaN   \n",
       "22     PF01090                  NaN   \n",
       "23     PF09110                  NaN   \n",
       "24     PF05179                  NaN   \n",
       "25     PF08626                  NaN   \n",
       "26     PF04048                  NaN   \n",
       "27     PF00702                  NaN   \n",
       "28     PF03126                  NaN   \n",
       "29     PF00399                  NaN   \n",
       "30     PF04004                  NaN   \n",
       "31     PF14304                  NaN   \n",
       "32     PF04478                  NaN   \n",
       "33     PF04045                  NaN   \n",
       "34     PF10311                  NaN   \n",
       "35     PF01251                  NaN   \n",
       "36     PF04427                  NaN   \n",
       "37     PF00447                  NaN   \n",
       "38     PF00447                  NaN   \n",
       "39     PF00447                  NaN   \n",
       "40     PF11635                  NaN   \n",
       "41     PF00342                  NaN   \n",
       "42     PF02386                  NaN   \n",
       "43     PF02386                  NaN   \n",
       "44     PF10296                  NaN   \n",
       "45     PF03650                  NaN   \n",
       "46     PF03856                  NaN   \n",
       "47     PF04000                  NaN   \n",
       "48     PF11593                  NaN   \n",
       "49     PF11593                  NaN   \n",
       "50     PF00137                  NaN   \n",
       "51     PF08658                  NaN   \n",
       "52     PF01151                  NaN   \n",
       "\n",
       "                                 domain-description_y  \n",
       "1                              Frag1; Frag1/DRAM/Sfk1  \n",
       "2    Gpi1; N-acetylglucosaminyl transferase component  \n",
       "3   Autophagy_C; Autophagy-related protein 3, C-te...  \n",
       "4          COQ7; Ubiquinone biosynthesis protein Coq7  \n",
       "5                          TIMELESS; Timeless protein  \n",
       "6                     BOP1NT; BOP1, N-terminal domain  \n",
       "7                                   GRIP; GRIP domain  \n",
       "8                                   ABC1; UbiB domain  \n",
       "9        Sec15; Exocyst complex component EXOC6/Sec15  \n",
       "10          CRAL_TRIO; CRAL-TRIO lipid binding domain  \n",
       "11                         MMS19_C; MMS19, C-terminal  \n",
       "12      RNA_pol_Rpb2_2; RNA polymerase Rpb2, domain 2  \n",
       "13               IKI3; Elongator complex subunit Iki3  \n",
       "14  LCAT; Lecithin:cholesterol/phospholipid:diacyl...  \n",
       "15              FHA; Forkhead-associated (FHA) domain  \n",
       "16              FHA; Forkhead-associated (FHA) domain  \n",
       "17  Lgl_C; Lethal giant larvae (Lgl)-like, C-termi...  \n",
       "18                                               Cbp4  \n",
       "19                       FAT; PIK-related kinase, FAT  \n",
       "20  Ketoacyl-synt_C; Beta-ketoacyl synthase, C-ter...  \n",
       "21                                  AIRC; PurE domain  \n",
       "22  Cmc1; Cytochrome c oxidase biogenesis protein ...  \n",
       "23  RSN1_TM; Calcium permeable stress-gated cation...  \n",
       "24          Mob1_phocein; MOB kinase activator family  \n",
       "25                           RINT1_TIP1; RINT-1/Tip20  \n",
       "26  Ist1; Vacuolar protein sorting-associated prot...  \n",
       "27    CFIA_Pcf11; Subunit of cleavage factor IA Pcf11  \n",
       "28      Glyco_hydro_31; Glycoside hydrolase family 31  \n",
       "29  Alpha_adaptinC2; Clathrin adaptor, alpha/beta/...  \n",
       "30          Inositol_P; Inositol monophosphatase-like  \n",
       "31  UBA_3; Ubiquitin-conjugating enzyme, C-termina...  \n",
       "32                              MCM_OB; MCM OB domain  \n",
       "33  Iso_dh; Isopropylmalate dehydrogenase-like domain  \n",
       "34               Ribosomal_S6e; Ribosomal protein S6e  \n",
       "35                                    DDT; DDT domain  \n",
       "36  MATalpha_HMGbox; Mating-type protein MAT alpha...  \n",
       "37                                             Apc13p  \n",
       "38                                             Apc13p  \n",
       "39                                             Apc13p  \n",
       "40  SRP72; Signal recognition particle, SRP72 subu...  \n",
       "41       Adenylsucc_synt; Adenylosuccinate synthetase  \n",
       "42                                               FIN1  \n",
       "43                                               FIN1  \n",
       "44                 Ribosomal_S2; Ribosomal protein S2  \n",
       "45  Hap4_Hap_bind; Hap4 transcription factor, hete...  \n",
       "46  Hpt; Signal transduction histidine kinase, pho...  \n",
       "47  Inhibitor_I9; Peptidase S8 propeptide/proteina...  \n",
       "48  SRP19; Signal recognition particle, SRP19 subunit  \n",
       "49  SRP19; Signal recognition particle, SRP19 subunit  \n",
       "50         AICARFT_IMPCHas; AICARFT/IMPCHase bienzyme  \n",
       "51      RNA_pol_Rpb1_7; RNA polymerase Rpb1, domain 7  \n",
       "52                     Cpn10; GroES chaperonin family  "
      ]
     },
     "execution_count": 30,
     "metadata": {},
     "output_type": "execute_result"
    }
   ],
   "source": [
    "only_nsl_pd=pd.merge(repeated_features_sl,repeated_features_nsl,how='right',on=['domain-name'])\n",
    "data_only_nsl = only_nsl_pd[pd.isnull(only_nsl_pd['domain-description_x'])]\n",
    "data_only_nsl"
   ]
  },
  {
   "cell_type": "code",
   "execution_count": 31,
   "metadata": {
    "execution": {
     "iopub.execute_input": "2020-07-13T14:04:30.245044Z",
     "iopub.status.busy": "2020-07-13T14:04:30.244607Z",
     "iopub.status.idle": "2020-07-13T14:04:30.249270Z",
     "shell.execute_reply": "2020-07-13T14:04:30.248869Z"
    }
   },
   "outputs": [
    {
     "data": {
      "text/html": [
       "<div>\n",
       "<style scoped>\n",
       "    .dataframe tbody tr th:only-of-type {\n",
       "        vertical-align: middle;\n",
       "    }\n",
       "\n",
       "    .dataframe tbody tr th {\n",
       "        vertical-align: top;\n",
       "    }\n",
       "\n",
       "    .dataframe thead th {\n",
       "        text-align: right;\n",
       "    }\n",
       "</style>\n",
       "<table border=\"1\" class=\"dataframe\">\n",
       "  <thead>\n",
       "    <tr style=\"text-align: right;\">\n",
       "      <th></th>\n",
       "      <th>domain-name</th>\n",
       "      <th>domain-description_x</th>\n",
       "      <th>domain-description_y</th>\n",
       "    </tr>\n",
       "  </thead>\n",
       "  <tbody>\n",
       "    <tr>\n",
       "      <th>0</th>\n",
       "      <td>PF10281</td>\n",
       "      <td>Ribosomal_S21e; Ribosomal protein S21e</td>\n",
       "      <td>Ribosomal_S21e; Ribosomal protein S21e</td>\n",
       "    </tr>\n",
       "  </tbody>\n",
       "</table>\n",
       "</div>"
      ],
      "text/plain": [
       "  domain-name                    domain-description_x  \\\n",
       "0     PF10281  Ribosomal_S21e; Ribosomal protein S21e   \n",
       "\n",
       "                     domain-description_y  \n",
       "0  Ribosomal_S21e; Ribosomal protein S21e  "
      ]
     },
     "execution_count": 31,
     "metadata": {},
     "output_type": "execute_result"
    }
   ],
   "source": [
    "shared_domains_pd=pd.merge(repeated_features_sl,repeated_features_nsl,how='inner',on=['domain-name'])\n",
    "shared_domains_pd\n"
   ]
  },
  {
   "cell_type": "code",
   "execution_count": 32,
   "metadata": {
    "execution": {
     "iopub.execute_input": "2020-07-13T14:04:30.258244Z",
     "iopub.status.busy": "2020-07-13T14:04:30.255420Z",
     "iopub.status.idle": "2020-07-13T14:04:31.426935Z",
     "shell.execute_reply": "2020-07-13T14:04:31.426335Z"
    }
   },
   "outputs": [
    {
     "data": {
      "text/plain": [
       "(0.0, 0.2)"
      ]
     },
     "execution_count": 32,
     "metadata": {},
     "output_type": "execute_result"
    },
    {
     "data": {
      "image/png": "[encoded data removed]",
      "text/plain": [
       "<Figure size 432x288 with 1 Axes>"
      ]
     },
     "metadata": {
      "filenames": {
       "image/png": "/home/runner/work/jupyter-book/jupyter-book/mini_book/docs/_build/jupyter_execute/prot_domains2lethality-FEATURES-POSTPROCESSING_47_1.png"
      },
      "needs_background": "light"
     },
     "output_type": "display_data"
    }
   ],
   "source": [
    "a_sl=x_sl.iloc[:,np.sort(df_sl.iloc[:,1])]\n",
    "a_sl.describe().loc['mean'].hist(bins=8),\n",
    "a_sl.describe().loc['std'].hist(bins=8,alpha=0.4)\n",
    "plt.xlim([0,0.2])"
   ]
  },
  {
   "cell_type": "code",
   "execution_count": 33,
   "metadata": {
    "execution": {
     "iopub.execute_input": "2020-07-13T14:04:31.435427Z",
     "iopub.status.busy": "2020-07-13T14:04:31.432618Z",
     "iopub.status.idle": "2020-07-13T14:04:32.710825Z",
     "shell.execute_reply": "2020-07-13T14:04:32.710226Z"
    }
   },
   "outputs": [
    {
     "data": {
      "text/plain": [
       "(0.0, 0.2)"
      ]
     },
     "execution_count": 33,
     "metadata": {},
     "output_type": "execute_result"
    },
    {
     "data": {
      "image/png": "[encoded data removed]",
      "text/plain": [
       "<Figure size 432x288 with 1 Axes>"
      ]
     },
     "metadata": {
      "filenames": {
       "image/png": "/home/runner/work/jupyter-book/jupyter-book/mini_book/docs/_build/jupyter_execute/prot_domains2lethality-FEATURES-POSTPROCESSING_48_1.png"
      },
      "needs_background": "light"
     },
     "output_type": "display_data"
    }
   ],
   "source": [
    "a_nsl=x_nsl.iloc[:,np.sort(df_nsl.iloc[:,1])]\n",
    "a_nsl.describe().loc['mean'].hist(bins=8),\n",
    "a_nsl.describe().loc['std'].hist(bins=8,alpha=0.4)\n",
    "plt.xlim([0,0.2])"
   ]
  },
  {
   "cell_type": "markdown",
   "metadata": {},
   "source": [
    "### Proof of concept with *BEM1*\n",
    "\n",
    "- Gather the domains of SL and nSL pairs from BEM1\n",
    "- Check if the domains for the SL and nSL pairs are inside the most important domains after PCA."
   ]
  },
  {
   "cell_type": "code",
   "execution_count": 34,
   "metadata": {
    "execution": {
     "iopub.execute_input": "2020-07-13T14:04:32.717688Z",
     "iopub.status.busy": "2020-07-13T14:04:32.717246Z",
     "iopub.status.idle": "2020-07-13T14:04:32.720575Z",
     "shell.execute_reply": "2020-07-13T14:04:32.719843Z"
    }
   },
   "outputs": [],
   "source": [
    "domains_bem1=data_domains[data_domains['name']=='BEM1']['domain-descrip']\n",
    "sl_bem1=data_sl[data_sl['gene-query-name']=='BEM1']['gene-target-name']"
   ]
  },
  {
   "cell_type": "code",
   "execution_count": 35,
   "metadata": {
    "execution": {
     "iopub.execute_input": "2020-07-13T14:04:32.724475Z",
     "iopub.status.busy": "2020-07-13T14:04:32.724032Z",
     "iopub.status.idle": "2020-07-13T14:04:32.728745Z",
     "shell.execute_reply": "2020-07-13T14:04:32.728370Z"
    }
   },
   "outputs": [
    {
     "data": {
      "text/plain": [
       "2846      BEM2\n",
       "2847     CDC24\n",
       "5004      MSB1\n",
       "13777     SMI1\n",
       "13778     BNI1\n",
       "13779     BEM2\n",
       "14385     SKN7\n",
       "Name: gene-target-name, dtype: object"
      ]
     },
     "execution_count": 35,
     "metadata": {},
     "output_type": "execute_result"
    }
   ],
   "source": [
    "sl_bem1"
   ]
  },
  {
   "cell_type": "code",
   "execution_count": 36,
   "metadata": {
    "execution": {
     "iopub.execute_input": "2020-07-13T14:04:32.740242Z",
     "iopub.status.busy": "2020-07-13T14:04:32.736051Z",
     "iopub.status.idle": "2020-07-13T14:04:32.743831Z",
     "shell.execute_reply": "2020-07-13T14:04:32.744188Z"
    }
   },
   "outputs": [
    {
     "data": {
      "text/html": [
       "<div>\n",
       "<style scoped>\n",
       "    .dataframe tbody tr th:only-of-type {\n",
       "        vertical-align: middle;\n",
       "    }\n",
       "\n",
       "    .dataframe tbody tr th {\n",
       "        vertical-align: top;\n",
       "    }\n",
       "\n",
       "    .dataframe thead th {\n",
       "        text-align: right;\n",
       "    }\n",
       "</style>\n",
       "<table border=\"1\" class=\"dataframe\">\n",
       "  <thead>\n",
       "    <tr style=\"text-align: right;\">\n",
       "      <th></th>\n",
       "      <th>gene-query</th>\n",
       "      <th>gene-target</th>\n",
       "      <th>gene-query-name</th>\n",
       "      <th>gene-target-name</th>\n",
       "      <th>gene-query-description</th>\n",
       "      <th>gene-target-description</th>\n",
       "      <th>interaction-type</th>\n",
       "      <th>paper-source</th>\n",
       "    </tr>\n",
       "  </thead>\n",
       "  <tbody>\n",
       "    <tr>\n",
       "      <th>2846</th>\n",
       "      <td>YBR200W</td>\n",
       "      <td>YER155C</td>\n",
       "      <td>BEM1</td>\n",
       "      <td>BEM2</td>\n",
       "      <td>SRO1|phosphatidylinositol-3-phosphate-binding ...</td>\n",
       "      <td>IPL2|SUP9|TSL1|L000000168</td>\n",
       "      <td>Synthetic Lethality</td>\n",
       "      <td>Peterson J (1994)</td>\n",
       "    </tr>\n",
       "    <tr>\n",
       "      <th>2847</th>\n",
       "      <td>YBR200W</td>\n",
       "      <td>YAL041W</td>\n",
       "      <td>BEM1</td>\n",
       "      <td>CDC24</td>\n",
       "      <td>SRO1|phosphatidylinositol-3-phosphate-binding ...</td>\n",
       "      <td>CLS4|Rho family guanine nucleotide exchange fa...</td>\n",
       "      <td>Synthetic Lethality</td>\n",
       "      <td>Peterson J (1994)</td>\n",
       "    </tr>\n",
       "    <tr>\n",
       "      <th>5004</th>\n",
       "      <td>YBR200W</td>\n",
       "      <td>YOR188W</td>\n",
       "      <td>BEM1</td>\n",
       "      <td>MSB1</td>\n",
       "      <td>SRO1|phosphatidylinositol-3-phosphate-binding ...</td>\n",
       "      <td>L000001184</td>\n",
       "      <td>Synthetic Lethality</td>\n",
       "      <td>Bender A (1991)</td>\n",
       "    </tr>\n",
       "    <tr>\n",
       "      <th>13777</th>\n",
       "      <td>YBR200W</td>\n",
       "      <td>YGR229C</td>\n",
       "      <td>BEM1</td>\n",
       "      <td>SMI1</td>\n",
       "      <td>SRO1|phosphatidylinositol-3-phosphate-binding ...</td>\n",
       "      <td>KNR4|L000000909</td>\n",
       "      <td>Synthetic Lethality</td>\n",
       "      <td>Gorelik M (2011)</td>\n",
       "    </tr>\n",
       "    <tr>\n",
       "      <th>13778</th>\n",
       "      <td>YBR200W</td>\n",
       "      <td>YNL271C</td>\n",
       "      <td>BEM1</td>\n",
       "      <td>BNI1</td>\n",
       "      <td>SRO1|phosphatidylinositol-3-phosphate-binding ...</td>\n",
       "      <td>PPF3|SHE5|formin BNI1|L000000190</td>\n",
       "      <td>Synthetic Lethality</td>\n",
       "      <td>Gorelik M (2011)</td>\n",
       "    </tr>\n",
       "    <tr>\n",
       "      <th>13779</th>\n",
       "      <td>YBR200W</td>\n",
       "      <td>YER155C</td>\n",
       "      <td>BEM1</td>\n",
       "      <td>BEM2</td>\n",
       "      <td>SRO1|phosphatidylinositol-3-phosphate-binding ...</td>\n",
       "      <td>IPL2|SUP9|TSL1|L000000168</td>\n",
       "      <td>Synthetic Lethality</td>\n",
       "      <td>Gorelik M (2011)</td>\n",
       "    </tr>\n",
       "    <tr>\n",
       "      <th>14385</th>\n",
       "      <td>YBR200W</td>\n",
       "      <td>YHR206W</td>\n",
       "      <td>BEM1</td>\n",
       "      <td>SKN7</td>\n",
       "      <td>SRO1|phosphatidylinositol-3-phosphate-binding ...</td>\n",
       "      <td>BRY1|POS9|kinase-regulated stress-responsive t...</td>\n",
       "      <td>Dosage Lethality</td>\n",
       "      <td>Bouquin N (1999)</td>\n",
       "    </tr>\n",
       "  </tbody>\n",
       "</table>\n",
       "</div>"
      ],
      "text/plain": [
       "      gene-query gene-target gene-query-name gene-target-name  \\\n",
       "2846     YBR200W     YER155C            BEM1             BEM2   \n",
       "2847     YBR200W     YAL041W            BEM1            CDC24   \n",
       "5004     YBR200W     YOR188W            BEM1             MSB1   \n",
       "13777    YBR200W     YGR229C            BEM1             SMI1   \n",
       "13778    YBR200W     YNL271C            BEM1             BNI1   \n",
       "13779    YBR200W     YER155C            BEM1             BEM2   \n",
       "14385    YBR200W     YHR206W            BEM1             SKN7   \n",
       "\n",
       "                                  gene-query-description  \\\n",
       "2846   SRO1|phosphatidylinositol-3-phosphate-binding ...   \n",
       "2847   SRO1|phosphatidylinositol-3-phosphate-binding ...   \n",
       "5004   SRO1|phosphatidylinositol-3-phosphate-binding ...   \n",
       "13777  SRO1|phosphatidylinositol-3-phosphate-binding ...   \n",
       "13778  SRO1|phosphatidylinositol-3-phosphate-binding ...   \n",
       "13779  SRO1|phosphatidylinositol-3-phosphate-binding ...   \n",
       "14385  SRO1|phosphatidylinositol-3-phosphate-binding ...   \n",
       "\n",
       "                                 gene-target-description     interaction-type  \\\n",
       "2846                           IPL2|SUP9|TSL1|L000000168  Synthetic Lethality   \n",
       "2847   CLS4|Rho family guanine nucleotide exchange fa...  Synthetic Lethality   \n",
       "5004                                          L000001184  Synthetic Lethality   \n",
       "13777                                    KNR4|L000000909  Synthetic Lethality   \n",
       "13778                   PPF3|SHE5|formin BNI1|L000000190  Synthetic Lethality   \n",
       "13779                          IPL2|SUP9|TSL1|L000000168  Synthetic Lethality   \n",
       "14385  BRY1|POS9|kinase-regulated stress-responsive t...     Dosage Lethality   \n",
       "\n",
       "            paper-source  \n",
       "2846   Peterson J (1994)  \n",
       "2847   Peterson J (1994)  \n",
       "5004     Bender A (1991)  \n",
       "13777   Gorelik M (2011)  \n",
       "13778   Gorelik M (2011)  \n",
       "13779   Gorelik M (2011)  \n",
       "14385   Bouquin N (1999)  "
      ]
     },
     "execution_count": 36,
     "metadata": {},
     "output_type": "execute_result"
    }
   ],
   "source": [
    "data_sl[data_sl['gene-query-name']=='BEM1']"
   ]
  },
  {
   "cell_type": "code",
   "execution_count": null,
   "metadata": {},
   "outputs": [],
   "source": []
  }
 ],
 "metadata": {
  "jupytext": {
   "text_representation": {
    "extension": ".md",
    "format_name": "myst"
   }
  },
  "kernelspec": {
   "display_name": "Python 3",
   "language": "python",
   "name": "python3"
  },
  "language_info": {
   "codemirror_mode": {
    "name": "ipython",
    "version": 3
   },
   "file_extension": ".py",
   "mimetype": "text/x-python",
   "name": "python",
   "nbconvert_exporter": "python",
   "pygments_lexer": "ipython3",
   "version": "3.7.6"
  },
  "source_map": [
   10,
   18,
   29,
   36,
   57,
   66,
   98,
   101,
   105,
   128,
   131,
   135,
   139,
   145,
   178,
   184,
   188,
   206,
   210,
   218,
   222,
   225,
   229,
   234,
   238,
   244,
   248,
   253,
   257,
   267,
   269,
   273,
   306,
   311,
   313,
   317,
   328,
   330,
   334,
   344,
   348,
   358,
   360,
   364,
   381,
   388,
   394,
   400,
   407,
   412,
   419,
   424,
   428,
   432
  ]
 },
 "nbformat": 4,
 "nbformat_minor": 4
}