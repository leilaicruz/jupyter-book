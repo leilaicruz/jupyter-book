{
 "cells": [
  {
   "cell_type": "markdown",
   "metadata": {},
   "source": [
    "# Feature postprocessing from paper.\n",
    "- Title:  \"Predicting yeast synthetic lethal genetic interactions using protein domains\"\n",
    "- Authors: Bo Li, Feng Luo,School of Computing,Clemson University,Clemson, SC, USA\n",
    "- e-mail: bol, luofeng@clemson.edu\n",
    "- year:2009"
   ]
  },
  {
   "cell_type": "code",
   "execution_count": 1,
   "metadata": {
    "execution": {
     "iopub.execute_input": "2020-08-14T13:02:00.782109Z",
     "iopub.status.busy": "2020-08-14T13:02:00.780259Z",
     "iopub.status.idle": "2020-08-14T13:02:01.533951Z",
     "shell.execute_reply": "2020-08-14T13:02:01.533411Z"
    }
   },
   "outputs": [],
   "source": [
    "import pandas as pd\n",
    "import numpy as np\n",
    "import matplotlib.pyplot as plt\n",
    "from collections import defaultdict \n",
    "import seaborn as sns\n",
    "import matplotlib.cm as cm\n",
    "import scipy as scipy\n",
    "import random"
   ]
  },
  {
   "cell_type": "markdown",
   "metadata": {
    "jupyter": {
     "source_hidden": true
    }
   },
   "source": [
    "### Importing datasets \n",
    "\n",
    "#### Link to the github repo where the datasets to be downloaded:\n",
    "[DOWNLOAD THE DATASETS HERE](https://github.com/leilaicruz/machine-learning-for-yeast/tree/dev_Leila/datasets-for-learning)"
   ]
  },
  {
   "cell_type": "code",
   "execution_count": 2,
   "metadata": {
    "execution": {
     "iopub.execute_input": "2020-08-14T13:02:01.540110Z",
     "iopub.status.busy": "2020-08-14T13:02:01.539270Z",
     "iopub.status.idle": "2020-08-14T13:02:09.127281Z",
     "shell.execute_reply": "2020-08-14T13:02:09.126242Z"
    }
   },
   "outputs": [],
   "source": [
    "import os\n",
    "script_dir = os.path.dirname('__file__') #<-- absolute dir the script is in\n",
    "rel_path_SL = \"datasets/data-synthetic-lethals.xlsx\"\n",
    "rel_path_nSL=\"datasets/data-positive-genetic.xlsx\"\n",
    "rel_path_domains=\"datasets/proteins-domains-from-Pfam.xlsx\"\n",
    "\n",
    "abs_file_path_SL = os.path.join(script_dir, rel_path_SL)\n",
    "abs_file_path_nSL = os.path.join(script_dir, rel_path_nSL)\n",
    "abs_file_path_domains = os.path.join(script_dir, rel_path_domains)\n",
    "\n",
    "# os.chdir('mini_book/docs/') #<-- for binder os.chdir('../')\n",
    "# os.chdir('../')\n",
    "my_path_sl= abs_file_path_SL\n",
    "my_path_non_sl=abs_file_path_nSL\n",
    "my_path_domains=abs_file_path_domains\n",
    "\n",
    "data_sl=pd.read_excel(my_path_sl,header=0)\n",
    "data_domains=pd.read_excel(my_path_domains,header=0,index_col='Unnamed: 0')\n",
    "data_domains=data_domains.dropna()\n",
    "data_nonsl=pd.read_excel(my_path_non_sl,header=0)"
   ]
  },
  {
   "cell_type": "markdown",
   "metadata": {},
   "source": [
    "## Building the feature matrix\n",
    "One matrix for true SL where each row is one pair of SL. Every raw will be a vector of 0,1 or 2 depending on the comparison with the domain list. For row i the jth element = 0 if the jth element of the domain list is not in neither protein A and B, 1, if it is in one of them and 2 if it is in both of them .\n",
    "\n",
    "### Building the list of proteins domains id per protein pair separately :\n",
    "- List of protein A: Search for the Sl/nSL database the query gene name and look in the protein domain database which protein domains id has each of those queries.\n",
    "- List of protein B: Search for the Sl/nSL database the target gene name of the previous query and look in the protein domain database which protein domains id has each of those target genes."
   ]
  },
  {
   "cell_type": "code",
   "execution_count": 3,
   "metadata": {
    "execution": {
     "iopub.execute_input": "2020-08-14T13:02:09.135394Z",
     "iopub.status.busy": "2020-08-14T13:02:09.134875Z",
     "iopub.status.idle": "2020-08-14T13:02:10.974258Z",
     "shell.execute_reply": "2020-08-14T13:02:10.973215Z"
    }
   },
   "outputs": [],
   "source": [
    "# Selecting the meaningful columns in the respective dataset\n",
    "domain_id_list=data_domains['domain-name']\n",
    "query_gene=data_sl['gene-query-name']\n",
    "target_gene=data_sl['gene-target-name']\n",
    "query_gene_nonlethal=data_nonsl['gene-query-name']\n",
    "target_gene_nonlethal=data_nonsl['gene-target-name']\n",
    "\n",
    "\n",
    "\n",
    "# Initialising the arrays\n",
    "protein_a_list=[]\n",
    "protein_b_list=[]\n",
    "protein_a_list_non=[]\n",
    "protein_b_list_non=[]\n",
    "\n",
    "population = np.arange(0,len(data_sl))\n",
    "\n",
    "# For loop for 10000 pairs sampled randomly from the SL/nSl pair list , and creating a big array of proteind domains id per protein pair\n",
    "\n",
    "for m in random.sample(list(population), 500):\n",
    "    protein_a=data_domains[data_domains['name']==query_gene[m]]\n",
    "    protein_b=data_domains[data_domains['name']==target_gene[m]]\n",
    "    protein_a_list.append(protein_a['domain-name'].tolist())\n",
    "    protein_b_list.append(protein_b['domain-name'].tolist())\n",
    "\n",
    "    protein_a_non=data_domains[data_domains['name']==query_gene_nonlethal[m]]\n",
    "    protein_b_non=data_domains[data_domains['name']==target_gene_nonlethal[m]]\n",
    "    protein_a_list_non.append(protein_a_non['domain-name'].tolist())\n",
    "    protein_b_list_non.append(protein_b_non['domain-name'].tolist())"
   ]
  },
  {
   "cell_type": "code",
   "execution_count": 4,
   "metadata": {
    "execution": {
     "iopub.execute_input": "2020-08-14T13:02:10.980580Z",
     "iopub.status.busy": "2020-08-14T13:02:10.979192Z",
     "iopub.status.idle": "2020-08-14T13:02:10.984498Z",
     "shell.execute_reply": "2020-08-14T13:02:10.983475Z"
    }
   },
   "outputs": [
    {
     "name": "stdout",
     "output_type": "stream",
     "text": [
      "We are going to analyze 500 protein pairs, out of 17871 SL protein pairs\n",
      "We are going to analyze 500 protein pairs, out of 43340 positive protein pairs\n"
     ]
    }
   ],
   "source": [
    "print('We are going to analyze',len((protein_a_list)) ,'protein pairs, out of',len(data_sl),'SL protein pairs')\n",
    "print('We are going to analyze',len((protein_a_list_non)) ,'protein pairs, out of',len(data_nonsl),'positive protein pairs')"
   ]
  },
  {
   "cell_type": "markdown",
   "metadata": {},
   "source": [
    "### Postprocessing #1:  Remove protein pairs from study if either protein in the pair does not contain any domain"
   ]
  },
  {
   "cell_type": "code",
   "execution_count": 5,
   "metadata": {
    "execution": {
     "iopub.execute_input": "2020-08-14T13:02:10.993061Z",
     "iopub.status.busy": "2020-08-14T13:02:10.992539Z",
     "iopub.status.idle": "2020-08-14T13:02:10.995933Z",
     "shell.execute_reply": "2020-08-14T13:02:10.995490Z"
    }
   },
   "outputs": [],
   "source": [
    "def remove_empty_domains(protein_list_search,protein_list_pair):\n",
    "    index=[]\n",
    "    for i in np.arange(0,len(protein_list_search)):\n",
    "        if protein_list_search[i]==[] or protein_list_pair[i]==[]:\n",
    "            index.append(i) ## index of empty values for the protein_a_list meaning they dont have any annotated domain\n",
    "\n",
    "    y=[x for x in np.arange(0,len(protein_list_search)) if x not in index] # a list with non empty values from protein_a list\n",
    "\n",
    "    protein_list_search_new=[]\n",
    "    protein_list_pair_new=[]\n",
    "    for i in y:\n",
    "        protein_list_search_new.append(protein_list_search[i])\n",
    "        protein_list_pair_new.append(protein_list_pair[i])\n",
    "    return protein_list_search_new,protein_list_pair_new\n",
    "\n",
    "## evaluating the function\n",
    "\n",
    "protein_a_list_new,protein_b_list_new=remove_empty_domains(protein_a_list,protein_b_list)\n",
    "\n",
    "protein_a_list_non_new,protein_b_list_non_new=remove_empty_domains(protein_a_list_non,protein_b_list_non)"
   ]
  },
  {
   "cell_type": "code",
   "execution_count": 6,
   "metadata": {
    "execution": {
     "iopub.execute_input": "2020-08-14T13:02:11.000157Z",
     "iopub.status.busy": "2020-08-14T13:02:10.999684Z",
     "iopub.status.idle": "2020-08-14T13:02:11.003277Z",
     "shell.execute_reply": "2020-08-14T13:02:11.003647Z"
    }
   },
   "outputs": [
    {
     "name": "stdout",
     "output_type": "stream",
     "text": [
      "The empty domain in the SL were: 58 out of 500 domains\n",
      "The empty domain in the nSL were: 94 out of 500 domains\n"
     ]
    }
   ],
   "source": [
    "print('The empty domain in the SL were:', len(protein_a_list)-len(protein_a_list_new), 'out of', len(protein_a_list),'domains')\n",
    "print('The empty domain in the nSL were:', len(protein_a_list_non)-len(protein_a_list_non_new), 'out of', len(protein_a_list_non),'domains')"
   ]
  },
  {
   "cell_type": "markdown",
   "metadata": {},
   "source": [
    "### Feature engineering: Select from each ordered indexes of domain id list which of them appear once, in both or in any of the domains of each protein pair"
   ]
  },
  {
   "cell_type": "markdown",
   "metadata": {},
   "source": [
    "#### Define function `get_indexes`"
   ]
  },
  {
   "cell_type": "code",
   "execution_count": 7,
   "metadata": {
    "execution": {
     "iopub.execute_input": "2020-08-14T13:02:11.010278Z",
     "iopub.status.busy": "2020-08-14T13:02:11.009741Z",
     "iopub.status.idle": "2020-08-14T13:02:11.012398Z",
     "shell.execute_reply": "2020-08-14T13:02:11.012813Z"
    }
   },
   "outputs": [
    {
     "data": {
      "text/plain": [
       "[1, 2]"
      ]
     },
     "execution_count": 7,
     "metadata": {},
     "output_type": "execute_result"
    }
   ],
   "source": [
    "get_indexes = lambda x, xs: [i for (y, i) in zip(xs, range(len(xs))) if x == y] # a function that give the index of whether a value appear in array or not\n",
    "a=[1,2,2,4,5,6,7,8,9,10]\n",
    "get_indexes(2,a)"
   ]
  },
  {
   "cell_type": "code",
   "execution_count": 8,
   "metadata": {
    "execution": {
     "iopub.execute_input": "2020-08-14T13:02:11.020803Z",
     "iopub.status.busy": "2020-08-14T13:02:11.019650Z",
     "iopub.status.idle": "2020-08-14T13:02:11.021406Z",
     "shell.execute_reply": "2020-08-14T13:02:11.021819Z"
    }
   },
   "outputs": [],
   "source": [
    "def feature_building(protein_a_list_new,protein_b_list_new):\n",
    "    x = np.unique(domain_id_list)\n",
    "    ## To avoid taking repeated domains from one protein of the pairs , lets reduced the domains of each protein from the pairs to their unique members\n",
    "    protein_a_list_unique=[]\n",
    "    protein_b_list_unique=[]\n",
    "    for i in np.arange(0,len(protein_a_list_new)):\n",
    "        protein_a_list_unique.append(np.unique(protein_a_list_new[i]))\n",
    "        protein_b_list_unique.append(np.unique(protein_b_list_new[i]))\n",
    "        \n",
    "    protein_feat_true=np.zeros(shape=(len(x),len(protein_a_list_unique)))\n",
    "    pair_a_b_array=[]\n",
    "    for i in np.arange(0,len(protein_a_list_unique)):\n",
    "        index_a=[]\n",
    "        \n",
    "        pair=[protein_a_list_unique[i],protein_b_list_unique[i]]\n",
    "        pair_a_b=np.concatenate(pair).ravel()\n",
    "        pair_a_b_array.append(pair_a_b)\n",
    "\n",
    "    j=0\n",
    "    for i in pair_a_b_array:  \n",
    "        array,index,counts=np.unique(i,return_index=True,return_counts=True)\n",
    "        \n",
    "        for k,m in zip(counts,array):\n",
    "            if k ==2:\n",
    "                protein_feat_true[get_indexes(m,x),j]=2\n",
    "                \n",
    "            if k==1:\n",
    "                protein_feat_true[get_indexes(m,x),j]=1\n",
    "        j=j+1\n",
    "    return protein_feat_true"
   ]
  },
  {
   "cell_type": "code",
   "execution_count": 9,
   "metadata": {
    "execution": {
     "iopub.execute_input": "2020-08-14T13:02:11.030876Z",
     "iopub.status.busy": "2020-08-14T13:02:11.030335Z",
     "iopub.status.idle": "2020-08-14T13:02:11.725097Z",
     "shell.execute_reply": "2020-08-14T13:02:11.724587Z"
    }
   },
   "outputs": [],
   "source": [
    "protein_feat_true=feature_building(protein_b_list_new=protein_b_list_new,protein_a_list_new=protein_a_list_new)\n",
    "protein_feat_true_pd=pd.DataFrame(protein_feat_true.T)\n",
    "\n",
    "protein_feat_non_true=feature_building(protein_b_list_new=protein_b_list_non_new,protein_a_list_new=protein_a_list_non_new)\n",
    "protein_feat_non_true_pd=pd.DataFrame(protein_feat_non_true.T)"
   ]
  },
  {
   "cell_type": "markdown",
   "metadata": {},
   "source": [
    "### How many ones and twos are in each dataset"
   ]
  },
  {
   "cell_type": "code",
   "execution_count": 10,
   "metadata": {
    "execution": {
     "iopub.execute_input": "2020-08-14T13:02:11.732021Z",
     "iopub.status.busy": "2020-08-14T13:02:11.731460Z",
     "iopub.status.idle": "2020-08-14T13:02:11.845583Z",
     "shell.execute_reply": "2020-08-14T13:02:11.845992Z"
    }
   },
   "outputs": [
    {
     "name": "stdout",
     "output_type": "stream",
     "text": [
      "fraction of twos in the SL array is 2.2437455592535807e-05\n",
      "fraction of ones in the SL array is 0.0010104334168505292\n",
      "fraction of twos in the PI array is 1.058502625900745e-05\n",
      "fraction of ones in the PI array is 0.000891584904124089\n"
     ]
    }
   ],
   "source": [
    "index_2_true=protein_feat_true_pd.where(protein_feat_true_pd==2)\n",
    "index_2_true_count=index_2_true.count(axis=1).sum()\n",
    "\n",
    "index_1_true=protein_feat_true_pd.where(protein_feat_true_pd==1)\n",
    "index_1_true_count=index_1_true.count(axis=1).sum()\n",
    "\n",
    "index_2_nontrue=protein_feat_non_true_pd.where(protein_feat_non_true_pd==2)\n",
    "index_2_nontrue_count=index_2_nontrue.count(axis=1).sum()\n",
    "\n",
    "index_1_nontrue=protein_feat_non_true_pd.where(protein_feat_non_true_pd==1)\n",
    "index_1_nontrue_count=index_1_nontrue.count(axis=1).sum()\n",
    "\n",
    "\n",
    "print('fraction of twos in the SL array is',index_2_true_count/(len(protein_feat_true_pd.index)*len(protein_feat_true_pd.columns)))\n",
    "print('fraction of ones in the SL array is',index_1_true_count/(len(protein_feat_true_pd.index)*len(protein_feat_true_pd.columns)))\n",
    "print('fraction of twos in the PI array is',index_2_nontrue_count/(len(protein_feat_non_true_pd.index)*len(protein_feat_non_true_pd.columns)))\n",
    "print('fraction of ones in the PI array is',index_1_nontrue_count/(len(protein_feat_non_true_pd.index)*len(protein_feat_non_true_pd.columns)))"
   ]
  },
  {
   "cell_type": "markdown",
   "metadata": {},
   "source": [
    "#### Bar plot to visualize these numbers"
   ]
  },
  {
   "cell_type": "code",
   "execution_count": 11,
   "metadata": {
    "execution": {
     "iopub.execute_input": "2020-08-14T13:02:11.865711Z",
     "iopub.status.busy": "2020-08-14T13:02:11.865175Z",
     "iopub.status.idle": "2020-08-14T13:02:12.310547Z",
     "shell.execute_reply": "2020-08-14T13:02:12.310075Z"
    }
   },
   "outputs": [
    {
     "data": {
      "text/plain": [
       "([0, 1, 2, 3],\n",
       " [Text(0, 0, ''), Text(0, 0, ''), Text(0, 0, ''), Text(0, 0, '')])"
      ]
     },
     "execution_count": 11,
     "metadata": {},
     "output_type": "execute_result"
    },
    {
     "data": {
      "image/png": "[encoded data removed]",
      "text/plain": [
       "<Figure size 432x288 with 1 Axes>"
      ]
     },
     "metadata": {
      "filenames": {
       "image/png": "/home/runner/work/jupyter-book/jupyter-book/mini_book/docs/_build/jupyter_execute/prot_domains2lethality-FEATURES-POSTPROCESSING_18_1.png"
      },
      "needs_background": "light"
     },
     "output_type": "display_data"
    }
   ],
   "source": [
    "plt.bar(['fraction of 2 in the nSL','fraction of 1 in the nSL'],[index_2_nontrue_count/(len(protein_feat_non_true_pd.index)*len(protein_feat_non_true_pd.columns)),index_1_nontrue_count/(len(protein_feat_non_true_pd.index)*len(protein_feat_non_true_pd.columns))],alpha=0.6,color=['blue','lightblue']), \n",
    "\n",
    "plt.bar(['fraction of 2 in SL ','fraction of 1 in SL'],[index_2_true_count/(len(protein_feat_true_pd.index)*len(protein_feat_true_pd.columns)),index_1_true_count/(len(protein_feat_true_pd.index)*len(protein_feat_true_pd.columns))],alpha=0.6,color=['coral','lightcoral'])\n",
    "\n",
    "plt.ylabel('Fraction from the population')\n",
    "plt.yscale('log')\n",
    "plt.xticks(rotation=40)"
   ]
  },
  {
   "cell_type": "markdown",
   "metadata": {},
   "source": [
    "#### Adding the labels(response variables) to each dataset"
   ]
  },
  {
   "cell_type": "code",
   "execution_count": 12,
   "metadata": {
    "execution": {
     "iopub.execute_input": "2020-08-14T13:02:12.318090Z",
     "iopub.status.busy": "2020-08-14T13:02:12.317140Z",
     "iopub.status.idle": "2020-08-14T13:02:12.321170Z",
     "shell.execute_reply": "2020-08-14T13:02:12.320409Z"
    }
   },
   "outputs": [],
   "source": [
    "protein_feat_true_pd['lethality']=np.ones(shape=(len(protein_a_list_new)))\n",
    "protein_feat_non_true_pd['lethality']=np.zeros(shape=(len(protein_a_list_non_new)))"
   ]
  },
  {
   "cell_type": "markdown",
   "metadata": {},
   "source": [
    "#### Joining both datasets"
   ]
  },
  {
   "cell_type": "code",
   "execution_count": 13,
   "metadata": {
    "execution": {
     "iopub.execute_input": "2020-08-14T13:02:12.326008Z",
     "iopub.status.busy": "2020-08-14T13:02:12.325356Z",
     "iopub.status.idle": "2020-08-14T13:02:12.367335Z",
     "shell.execute_reply": "2020-08-14T13:02:12.366522Z"
    }
   },
   "outputs": [
    {
     "name": "stdout",
     "output_type": "stream",
     "text": [
      "The number of features are: 3026\n",
      "The number of samples are: 848\n"
     ]
    }
   ],
   "source": [
    "feature_post=pd.concat([protein_feat_true_pd,protein_feat_non_true_pd],axis=0)\n",
    "feature_post=feature_post.set_index(np.arange(0,len(protein_a_list_new)+len(protein_a_list_non_new)))\n",
    "print('The number of features are:',feature_post.shape[1])\n",
    "print('The number of samples are:',feature_post.shape[0])"
   ]
  },
  {
   "cell_type": "markdown",
   "metadata": {},
   "source": [
    "### Postprocessing and exploration of the feature matrix of both datasets"
   ]
  },
  {
   "cell_type": "code",
   "execution_count": 14,
   "metadata": {
    "execution": {
     "iopub.execute_input": "2020-08-14T13:02:12.382192Z",
     "iopub.status.busy": "2020-08-14T13:02:12.372151Z",
     "iopub.status.idle": "2020-08-14T13:02:15.982440Z",
     "shell.execute_reply": "2020-08-14T13:02:15.981980Z"
    }
   },
   "outputs": [],
   "source": [
    "mean=feature_post.T.describe().loc['mean']\n",
    "std=feature_post.T.describe().loc['std']\n",
    "lethality=feature_post['lethality']\n",
    "\n",
    "corr_keys=pd.concat([mean,std,lethality],axis=1)"
   ]
  },
  {
   "cell_type": "markdown",
   "metadata": {},
   "source": [
    "### Viz of the stats"
   ]
  },
  {
   "cell_type": "code",
   "execution_count": 15,
   "metadata": {
    "execution": {
     "iopub.execute_input": "2020-08-14T13:02:16.014987Z",
     "iopub.status.busy": "2020-08-14T13:02:16.000950Z",
     "iopub.status.idle": "2020-08-14T13:02:17.337625Z",
     "shell.execute_reply": "2020-08-14T13:02:17.337150Z"
    }
   },
   "outputs": [
    {
     "data": {
      "text/plain": [
       "Text(0.5, 1.08, 'Pairplot to see data dependencies with Lethality')"
      ]
     },
     "execution_count": 15,
     "metadata": {},
     "output_type": "execute_result"
    },
    {
     "data": {
      "image/png": "[encoded data removed]",
      "text/plain": [
       "<Figure size 412x360 with 6 Axes>"
      ]
     },
     "metadata": {
      "filenames": {
       "image/png": "/home/runner/work/jupyter-book/jupyter-book/mini_book/docs/_build/jupyter_execute/prot_domains2lethality-FEATURES-POSTPROCESSING_26_1.png"
      },
      "needs_background": "light"
     },
     "output_type": "display_data"
    }
   ],
   "source": [
    "pair=sns.pairplot(corr_keys,hue='lethality',diag_kind='kde',kind='reg',palette='colorblind')\n",
    "pair.fig.suptitle('Pairplot to see data dependencies with Lethality',y=1.08)"
   ]
  },
  {
   "cell_type": "code",
   "execution_count": 16,
   "metadata": {
    "execution": {
     "iopub.execute_input": "2020-08-14T13:02:17.348006Z",
     "iopub.status.busy": "2020-08-14T13:02:17.347479Z",
     "iopub.status.idle": "2020-08-14T13:02:17.350585Z",
     "shell.execute_reply": "2020-08-14T13:02:17.351039Z"
    }
   },
   "outputs": [],
   "source": [
    "X, y = feature_post.drop(columns=[\"lethality\"]), feature_post[\"lethality\"]"
   ]
  },
  {
   "cell_type": "code",
   "execution_count": 17,
   "metadata": {
    "execution": {
     "iopub.execute_input": "2020-08-14T13:02:17.355078Z",
     "iopub.status.busy": "2020-08-14T13:02:17.354542Z",
     "iopub.status.idle": "2020-08-14T13:02:17.581990Z",
     "shell.execute_reply": "2020-08-14T13:02:17.581381Z"
    }
   },
   "outputs": [],
   "source": [
    "from sklearn.preprocessing import StandardScaler\n",
    "scaler = StandardScaler()\n",
    "x_sl=protein_feat_true_pd.drop(columns=['lethality'])\n",
    "x_nsl=protein_feat_non_true_pd.drop(columns=['lethality'])\n",
    "\n",
    "X_sl_scaled = scaler.fit_transform(x_sl)\n",
    "X_nsl_scaled = scaler.fit_transform(x_nsl)"
   ]
  },
  {
   "cell_type": "code",
   "execution_count": 18,
   "metadata": {
    "execution": {
     "iopub.execute_input": "2020-08-14T13:02:17.587299Z",
     "iopub.status.busy": "2020-08-14T13:02:17.586304Z",
     "iopub.status.idle": "2020-08-14T13:02:17.593169Z",
     "shell.execute_reply": "2020-08-14T13:02:17.592740Z"
    }
   },
   "outputs": [
    {
     "data": {
      "text/plain": [
       "(442, 3025)"
      ]
     },
     "execution_count": 18,
     "metadata": {},
     "output_type": "execute_result"
    }
   ],
   "source": [
    "np.shape(X_sl_scaled)"
   ]
  },
  {
   "cell_type": "markdown",
   "metadata": {},
   "source": [
    "## How redundant are each of the protein domains?"
   ]
  },
  {
   "cell_type": "code",
   "execution_count": 19,
   "metadata": {
    "execution": {
     "iopub.execute_input": "2020-08-14T13:02:17.600232Z",
     "iopub.status.busy": "2020-08-14T13:02:17.599113Z",
     "iopub.status.idle": "2020-08-14T13:02:17.600824Z",
     "shell.execute_reply": "2020-08-14T13:02:17.601235Z"
    }
   },
   "outputs": [],
   "source": [
    "def PCA_component_contribution(scaled_matrix,original_data):\n",
    "    from sklearn.decomposition import PCA\n",
    "\n",
    "    model = PCA(0.95).fit(scaled_matrix)\n",
    "    ## apply dimensionality reduction to X_train\n",
    "    output_pca = model.transform(scaled_matrix)\n",
    "    \n",
    "    total=sum(model.explained_variance_)\n",
    "\n",
    "\n",
    "   \n",
    "    # number of components , that it will be the number of main axes times the number of original components \n",
    "    n_pcs= model.components_.shape[0] # the amount of non redundant protein domains \n",
    "\n",
    "    # get the index of the most important feature on EACH component\n",
    "    # LIST COMPREHENSION HERE\n",
    "    most_important = [np.abs(model.components_[i]).argmax() for i in range(n_pcs)]\n",
    "\n",
    "    initial_feature_names = original_data.columns\n",
    "    # get the names\n",
    "    most_important_names = [initial_feature_names[most_important[i]] for i in range(n_pcs)]\n",
    "    \n",
    "\n",
    "    # LIST COMPREHENSION HERE AGAIN\n",
    "    dic = {'PC{}'.format(i): most_important_names[i] for i in range(n_pcs)}\n",
    "\n",
    "    # build the dataframe\n",
    "    df = pd.DataFrame(dic.items(),columns=['pca-component','domain-number'])\n",
    "\n",
    "    return df,model.components_"
   ]
  },
  {
   "cell_type": "code",
   "execution_count": 20,
   "metadata": {
    "execution": {
     "iopub.execute_input": "2020-08-14T13:02:17.604732Z",
     "iopub.status.busy": "2020-08-14T13:02:17.604222Z",
     "iopub.status.idle": "2020-08-14T13:02:18.198206Z",
     "shell.execute_reply": "2020-08-14T13:02:18.198655Z"
    }
   },
   "outputs": [],
   "source": [
    "df_sl,components_pca_nsl=PCA_component_contribution(X_nsl_scaled,x_nsl)\n",
    "df_nsl,components_pca_sl=PCA_component_contribution(X_sl_scaled,x_sl)"
   ]
  },
  {
   "cell_type": "code",
   "execution_count": 21,
   "metadata": {
    "execution": {
     "iopub.execute_input": "2020-08-14T13:02:18.204694Z",
     "iopub.status.busy": "2020-08-14T13:02:18.204196Z",
     "iopub.status.idle": "2020-08-14T13:02:18.209235Z",
     "shell.execute_reply": "2020-08-14T13:02:18.209737Z"
    }
   },
   "outputs": [
    {
     "data": {
      "text/html": [
       "<div>\n",
       "<style scoped>\n",
       "    .dataframe tbody tr th:only-of-type {\n",
       "        vertical-align: middle;\n",
       "    }\n",
       "\n",
       "    .dataframe tbody tr th {\n",
       "        vertical-align: top;\n",
       "    }\n",
       "\n",
       "    .dataframe thead th {\n",
       "        text-align: right;\n",
       "    }\n",
       "</style>\n",
       "<table border=\"1\" class=\"dataframe\">\n",
       "  <thead>\n",
       "    <tr style=\"text-align: right;\">\n",
       "      <th></th>\n",
       "      <th>pca-component</th>\n",
       "      <th>domain-number</th>\n",
       "    </tr>\n",
       "  </thead>\n",
       "  <tbody>\n",
       "    <tr>\n",
       "      <th>0</th>\n",
       "      <td>PC0</td>\n",
       "      <td>2771</td>\n",
       "    </tr>\n",
       "    <tr>\n",
       "      <th>1</th>\n",
       "      <td>PC1</td>\n",
       "      <td>286</td>\n",
       "    </tr>\n",
       "    <tr>\n",
       "      <th>2</th>\n",
       "      <td>PC2</td>\n",
       "      <td>312</td>\n",
       "    </tr>\n",
       "    <tr>\n",
       "      <th>3</th>\n",
       "      <td>PC3</td>\n",
       "      <td>858</td>\n",
       "    </tr>\n",
       "    <tr>\n",
       "      <th>4</th>\n",
       "      <td>PC4</td>\n",
       "      <td>2082</td>\n",
       "    </tr>\n",
       "  </tbody>\n",
       "</table>\n",
       "</div>"
      ],
      "text/plain": [
       "  pca-component  domain-number\n",
       "0           PC0           2771\n",
       "1           PC1            286\n",
       "2           PC2            312\n",
       "3           PC3            858\n",
       "4           PC4           2082"
      ]
     },
     "execution_count": 21,
     "metadata": {},
     "output_type": "execute_result"
    }
   ],
   "source": [
    "df_sl.head()"
   ]
  },
  {
   "cell_type": "markdown",
   "metadata": {},
   "source": [
    "## which are the shared domains between nSL and SL pairs , in the PCA reduced samples"
   ]
  },
  {
   "cell_type": "code",
   "execution_count": 22,
   "metadata": {
    "execution": {
     "iopub.execute_input": "2020-08-14T13:02:18.211927Z",
     "iopub.status.busy": "2020-08-14T13:02:18.211406Z",
     "iopub.status.idle": "2020-08-14T13:02:18.242967Z",
     "shell.execute_reply": "2020-08-14T13:02:18.243474Z"
    }
   },
   "outputs": [
    {
     "data": {
      "text/html": [
       "<div>\n",
       "<style scoped>\n",
       "    .dataframe tbody tr th:only-of-type {\n",
       "        vertical-align: middle;\n",
       "    }\n",
       "\n",
       "    .dataframe tbody tr th {\n",
       "        vertical-align: top;\n",
       "    }\n",
       "\n",
       "    .dataframe thead th {\n",
       "        text-align: right;\n",
       "    }\n",
       "</style>\n",
       "<table border=\"1\" class=\"dataframe\">\n",
       "  <thead>\n",
       "    <tr style=\"text-align: right;\">\n",
       "      <th></th>\n",
       "      <th>pca-component_x</th>\n",
       "      <th>domain-number</th>\n",
       "      <th>pca-component_y</th>\n",
       "      <th>domain-description</th>\n",
       "    </tr>\n",
       "  </thead>\n",
       "  <tbody>\n",
       "    <tr>\n",
       "      <th>0</th>\n",
       "      <td>PC11</td>\n",
       "      <td>1731</td>\n",
       "      <td>PC24</td>\n",
       "      <td>PFU; PLAA family ubiquitin binding, PFU</td>\n",
       "    </tr>\n",
       "    <tr>\n",
       "      <th>1</th>\n",
       "      <td>PC25</td>\n",
       "      <td>463</td>\n",
       "      <td>PC27</td>\n",
       "      <td>Chitin_synth_1N; Chitin synthase N-terminal</td>\n",
       "    </tr>\n",
       "    <tr>\n",
       "      <th>2</th>\n",
       "      <td>PC25</td>\n",
       "      <td>463</td>\n",
       "      <td>PC28</td>\n",
       "      <td>Chitin_synth_1N; Chitin synthase N-terminal</td>\n",
       "    </tr>\n",
       "    <tr>\n",
       "      <th>3</th>\n",
       "      <td>PC26</td>\n",
       "      <td>463</td>\n",
       "      <td>PC27</td>\n",
       "      <td>Chitin_synth_1N; Chitin synthase N-terminal</td>\n",
       "    </tr>\n",
       "    <tr>\n",
       "      <th>4</th>\n",
       "      <td>PC26</td>\n",
       "      <td>463</td>\n",
       "      <td>PC28</td>\n",
       "      <td>Chitin_synth_1N; Chitin synthase N-terminal</td>\n",
       "    </tr>\n",
       "    <tr>\n",
       "      <th>5</th>\n",
       "      <td>PC44</td>\n",
       "      <td>194</td>\n",
       "      <td>PC112</td>\n",
       "      <td>Allantoicase; Allantoicase domain</td>\n",
       "    </tr>\n",
       "    <tr>\n",
       "      <th>6</th>\n",
       "      <td>PC53</td>\n",
       "      <td>38</td>\n",
       "      <td>PC200</td>\n",
       "      <td>ABC2_membrane; ABC-2 type transporter</td>\n",
       "    </tr>\n",
       "    <tr>\n",
       "      <th>7</th>\n",
       "      <td>PC55</td>\n",
       "      <td>760</td>\n",
       "      <td>PC56</td>\n",
       "      <td>Dopey_N; Dopey, N-terminal</td>\n",
       "    </tr>\n",
       "    <tr>\n",
       "      <th>8</th>\n",
       "      <td>PC55</td>\n",
       "      <td>760</td>\n",
       "      <td>PC57</td>\n",
       "      <td>Dopey_N; Dopey, N-terminal</td>\n",
       "    </tr>\n",
       "    <tr>\n",
       "      <th>9</th>\n",
       "      <td>PC56</td>\n",
       "      <td>754</td>\n",
       "      <td>PC110</td>\n",
       "      <td>Diphthamide_syn; Diphthamide synthesis DPH1/DPH2</td>\n",
       "    </tr>\n",
       "    <tr>\n",
       "      <th>10</th>\n",
       "      <td>PC57</td>\n",
       "      <td>754</td>\n",
       "      <td>PC110</td>\n",
       "      <td>Diphthamide_syn; Diphthamide synthesis DPH1/DPH2</td>\n",
       "    </tr>\n",
       "    <tr>\n",
       "      <th>11</th>\n",
       "      <td>PC62</td>\n",
       "      <td>2693</td>\n",
       "      <td>PC16</td>\n",
       "      <td>Transferase</td>\n",
       "    </tr>\n",
       "    <tr>\n",
       "      <th>12</th>\n",
       "      <td>PC64</td>\n",
       "      <td>65</td>\n",
       "      <td>PC63</td>\n",
       "      <td>AIM3; Altered inheritance of mitochondria prot...</td>\n",
       "    </tr>\n",
       "    <tr>\n",
       "      <th>13</th>\n",
       "      <td>PC69</td>\n",
       "      <td>983</td>\n",
       "      <td>PC43</td>\n",
       "      <td>GHMP_kinases_N; GHMP kinase N-terminal domain</td>\n",
       "    </tr>\n",
       "    <tr>\n",
       "      <th>14</th>\n",
       "      <td>PC84</td>\n",
       "      <td>1836</td>\n",
       "      <td>PC10</td>\n",
       "      <td>PTPLA; Protein-tyrosine phosphatase-like, PTPLA</td>\n",
       "    </tr>\n",
       "    <tr>\n",
       "      <th>15</th>\n",
       "      <td>PC95</td>\n",
       "      <td>2584</td>\n",
       "      <td>PC75</td>\n",
       "      <td>TFIIIC_sub6; Transcription factor TFIIIC, tau5...</td>\n",
       "    </tr>\n",
       "    <tr>\n",
       "      <th>16</th>\n",
       "      <td>PC98</td>\n",
       "      <td>2584</td>\n",
       "      <td>PC75</td>\n",
       "      <td>TFIIIC_sub6; Transcription factor TFIIIC, tau5...</td>\n",
       "    </tr>\n",
       "    <tr>\n",
       "      <th>17</th>\n",
       "      <td>PC97</td>\n",
       "      <td>982</td>\n",
       "      <td>PC89</td>\n",
       "      <td>GHMP_kinases_C; GHMP kinase, C-terminal domain</td>\n",
       "    </tr>\n",
       "    <tr>\n",
       "      <th>18</th>\n",
       "      <td>PC105</td>\n",
       "      <td>1015</td>\n",
       "      <td>PC129</td>\n",
       "      <td>GTP_cyclohydroI; GTP cyclohydrolase I domain</td>\n",
       "    </tr>\n",
       "    <tr>\n",
       "      <th>19</th>\n",
       "      <td>PC112</td>\n",
       "      <td>1015</td>\n",
       "      <td>PC129</td>\n",
       "      <td>GTP_cyclohydroI; GTP cyclohydrolase I domain</td>\n",
       "    </tr>\n",
       "    <tr>\n",
       "      <th>20</th>\n",
       "      <td>PC111</td>\n",
       "      <td>450</td>\n",
       "      <td>PC128</td>\n",
       "      <td>Cation_efflux; Cation efflux protein</td>\n",
       "    </tr>\n",
       "    <tr>\n",
       "      <th>21</th>\n",
       "      <td>PC116</td>\n",
       "      <td>450</td>\n",
       "      <td>PC128</td>\n",
       "      <td>Cation_efflux; Cation efflux protein</td>\n",
       "    </tr>\n",
       "    <tr>\n",
       "      <th>22</th>\n",
       "      <td>PC120</td>\n",
       "      <td>140</td>\n",
       "      <td>PC213</td>\n",
       "      <td>ATP_bind_3; tRNA(Ile)-lysidine/2-thiocytidine ...</td>\n",
       "    </tr>\n",
       "    <tr>\n",
       "      <th>23</th>\n",
       "      <td>PC128</td>\n",
       "      <td>140</td>\n",
       "      <td>PC213</td>\n",
       "      <td>ATP_bind_3; tRNA(Ile)-lysidine/2-thiocytidine ...</td>\n",
       "    </tr>\n",
       "    <tr>\n",
       "      <th>24</th>\n",
       "      <td>PC123</td>\n",
       "      <td>1267</td>\n",
       "      <td>PC161</td>\n",
       "      <td>Kelch_3</td>\n",
       "    </tr>\n",
       "    <tr>\n",
       "      <th>25</th>\n",
       "      <td>PC140</td>\n",
       "      <td>215</td>\n",
       "      <td>PC88</td>\n",
       "      <td>Anticodon_1; Methionyl/Valyl/Leucyl/Isoleucyl-...</td>\n",
       "    </tr>\n",
       "    <tr>\n",
       "      <th>26</th>\n",
       "      <td>PC146</td>\n",
       "      <td>215</td>\n",
       "      <td>PC88</td>\n",
       "      <td>Anticodon_1; Methionyl/Valyl/Leucyl/Isoleucyl-...</td>\n",
       "    </tr>\n",
       "    <tr>\n",
       "      <th>27</th>\n",
       "      <td>PC167</td>\n",
       "      <td>549</td>\n",
       "      <td>PC247</td>\n",
       "      <td>DAO; FAD dependent oxidoreductase</td>\n",
       "    </tr>\n",
       "    <tr>\n",
       "      <th>28</th>\n",
       "      <td>PC178</td>\n",
       "      <td>1037</td>\n",
       "      <td>PC269</td>\n",
       "      <td>Glu_syn_central; Glutamate synthase, central-N</td>\n",
       "    </tr>\n",
       "    <tr>\n",
       "      <th>29</th>\n",
       "      <td>PC186</td>\n",
       "      <td>1295</td>\n",
       "      <td>PC255</td>\n",
       "      <td>LIM; Zinc finger, LIM-type</td>\n",
       "    </tr>\n",
       "    <tr>\n",
       "      <th>30</th>\n",
       "      <td>PC187</td>\n",
       "      <td>1295</td>\n",
       "      <td>PC255</td>\n",
       "      <td>LIM; Zinc finger, LIM-type</td>\n",
       "    </tr>\n",
       "    <tr>\n",
       "      <th>31</th>\n",
       "      <td>PC192</td>\n",
       "      <td>32</td>\n",
       "      <td>PC97</td>\n",
       "      <td>AATF-Che1; AATF leucine zipper-containing domain</td>\n",
       "    </tr>\n",
       "    <tr>\n",
       "      <th>32</th>\n",
       "      <td>PC196</td>\n",
       "      <td>819</td>\n",
       "      <td>PC238</td>\n",
       "      <td>ERO1; Endoplasmic reticulum oxidoreductin 1</td>\n",
       "    </tr>\n",
       "    <tr>\n",
       "      <th>33</th>\n",
       "      <td>PC200</td>\n",
       "      <td>271</td>\n",
       "      <td>PC282</td>\n",
       "      <td>BLI1</td>\n",
       "    </tr>\n",
       "    <tr>\n",
       "      <th>34</th>\n",
       "      <td>PC201</td>\n",
       "      <td>90</td>\n",
       "      <td>PC236</td>\n",
       "      <td>ANAPC9; Anaphase-promoting complex, subunit 9</td>\n",
       "    </tr>\n",
       "    <tr>\n",
       "      <th>35</th>\n",
       "      <td>PC201</td>\n",
       "      <td>90</td>\n",
       "      <td>PC237</td>\n",
       "      <td>ANAPC9; Anaphase-promoting complex, subunit 9</td>\n",
       "    </tr>\n",
       "    <tr>\n",
       "      <th>36</th>\n",
       "      <td>PC272</td>\n",
       "      <td>90</td>\n",
       "      <td>PC236</td>\n",
       "      <td>ANAPC9; Anaphase-promoting complex, subunit 9</td>\n",
       "    </tr>\n",
       "    <tr>\n",
       "      <th>37</th>\n",
       "      <td>PC272</td>\n",
       "      <td>90</td>\n",
       "      <td>PC237</td>\n",
       "      <td>ANAPC9; Anaphase-promoting complex, subunit 9</td>\n",
       "    </tr>\n",
       "    <tr>\n",
       "      <th>38</th>\n",
       "      <td>PC211</td>\n",
       "      <td>107</td>\n",
       "      <td>PC169</td>\n",
       "      <td>ATE_N; Arginine-tRNA-protein transferase, N-te...</td>\n",
       "    </tr>\n",
       "    <tr>\n",
       "      <th>39</th>\n",
       "      <td>PC213</td>\n",
       "      <td>1063</td>\n",
       "      <td>PC177</td>\n",
       "      <td>Glyco_transf_20; Glycosyl transferase, family 20</td>\n",
       "    </tr>\n",
       "    <tr>\n",
       "      <th>40</th>\n",
       "      <td>PC215</td>\n",
       "      <td>1352</td>\n",
       "      <td>PC218</td>\n",
       "      <td>MATalpha_HMGbox; Mating-type protein MAT alpha...</td>\n",
       "    </tr>\n",
       "    <tr>\n",
       "      <th>41</th>\n",
       "      <td>PC220</td>\n",
       "      <td>2371</td>\n",
       "      <td>PC72</td>\n",
       "      <td>SPT2; Chromatin SPT2</td>\n",
       "    </tr>\n",
       "    <tr>\n",
       "      <th>42</th>\n",
       "      <td>PC223</td>\n",
       "      <td>1101</td>\n",
       "      <td>PC71</td>\n",
       "      <td>HCO3_cotransp; Bicarbonate transporter, C-term...</td>\n",
       "    </tr>\n",
       "    <tr>\n",
       "      <th>43</th>\n",
       "      <td>PC239</td>\n",
       "      <td>379</td>\n",
       "      <td>PC70</td>\n",
       "      <td>COG6</td>\n",
       "    </tr>\n",
       "    <tr>\n",
       "      <th>44</th>\n",
       "      <td>PC252</td>\n",
       "      <td>379</td>\n",
       "      <td>PC70</td>\n",
       "      <td>COG6</td>\n",
       "    </tr>\n",
       "    <tr>\n",
       "      <th>45</th>\n",
       "      <td>PC254</td>\n",
       "      <td>569</td>\n",
       "      <td>PC249</td>\n",
       "      <td>DDHD; DDHD domain</td>\n",
       "    </tr>\n",
       "    <tr>\n",
       "      <th>46</th>\n",
       "      <td>PC255</td>\n",
       "      <td>2252</td>\n",
       "      <td>PC226</td>\n",
       "      <td>Rif1_N; Telomere-associated protein Rif1, N-te...</td>\n",
       "    </tr>\n",
       "    <tr>\n",
       "      <th>47</th>\n",
       "      <td>PC255</td>\n",
       "      <td>2252</td>\n",
       "      <td>PC265</td>\n",
       "      <td>Rif1_N; Telomere-associated protein Rif1, N-te...</td>\n",
       "    </tr>\n",
       "    <tr>\n",
       "      <th>48</th>\n",
       "      <td>PC255</td>\n",
       "      <td>2252</td>\n",
       "      <td>PC273</td>\n",
       "      <td>Rif1_N; Telomere-associated protein Rif1, N-te...</td>\n",
       "    </tr>\n",
       "    <tr>\n",
       "      <th>49</th>\n",
       "      <td>PC262</td>\n",
       "      <td>1969</td>\n",
       "      <td>PC149</td>\n",
       "      <td>RAI1; RAI1-like</td>\n",
       "    </tr>\n",
       "    <tr>\n",
       "      <th>50</th>\n",
       "      <td>PC262</td>\n",
       "      <td>1969</td>\n",
       "      <td>PC151</td>\n",
       "      <td>RAI1; RAI1-like</td>\n",
       "    </tr>\n",
       "    <tr>\n",
       "      <th>51</th>\n",
       "      <td>PC262</td>\n",
       "      <td>1969</td>\n",
       "      <td>PC153</td>\n",
       "      <td>RAI1; RAI1-like</td>\n",
       "    </tr>\n",
       "    <tr>\n",
       "      <th>52</th>\n",
       "      <td>PC266</td>\n",
       "      <td>2165</td>\n",
       "      <td>PC111</td>\n",
       "      <td>Ribosomal_L18A; Ribosomal protein 50S-L18Ae/60...</td>\n",
       "    </tr>\n",
       "    <tr>\n",
       "      <th>53</th>\n",
       "      <td>PC268</td>\n",
       "      <td>1571</td>\n",
       "      <td>PC202</td>\n",
       "      <td>NMT1; SsuA/THI5-like</td>\n",
       "    </tr>\n",
       "    <tr>\n",
       "      <th>54</th>\n",
       "      <td>PC268</td>\n",
       "      <td>1571</td>\n",
       "      <td>PC208</td>\n",
       "      <td>NMT1; SsuA/THI5-like</td>\n",
       "    </tr>\n",
       "    <tr>\n",
       "      <th>55</th>\n",
       "      <td>PC269</td>\n",
       "      <td>1061</td>\n",
       "      <td>PC181</td>\n",
       "      <td>Glyco_tran_28_C; Glycosyl transferase, family ...</td>\n",
       "    </tr>\n",
       "  </tbody>\n",
       "</table>\n",
       "</div>"
      ],
      "text/plain": [
       "   pca-component_x  domain-number pca-component_y  \\\n",
       "0             PC11           1731            PC24   \n",
       "1             PC25            463            PC27   \n",
       "2             PC25            463            PC28   \n",
       "3             PC26            463            PC27   \n",
       "4             PC26            463            PC28   \n",
       "5             PC44            194           PC112   \n",
       "6             PC53             38           PC200   \n",
       "7             PC55            760            PC56   \n",
       "8             PC55            760            PC57   \n",
       "9             PC56            754           PC110   \n",
       "10            PC57            754           PC110   \n",
       "11            PC62           2693            PC16   \n",
       "12            PC64             65            PC63   \n",
       "13            PC69            983            PC43   \n",
       "14            PC84           1836            PC10   \n",
       "15            PC95           2584            PC75   \n",
       "16            PC98           2584            PC75   \n",
       "17            PC97            982            PC89   \n",
       "18           PC105           1015           PC129   \n",
       "19           PC112           1015           PC129   \n",
       "20           PC111            450           PC128   \n",
       "21           PC116            450           PC128   \n",
       "22           PC120            140           PC213   \n",
       "23           PC128            140           PC213   \n",
       "24           PC123           1267           PC161   \n",
       "25           PC140            215            PC88   \n",
       "26           PC146            215            PC88   \n",
       "27           PC167            549           PC247   \n",
       "28           PC178           1037           PC269   \n",
       "29           PC186           1295           PC255   \n",
       "30           PC187           1295           PC255   \n",
       "31           PC192             32            PC97   \n",
       "32           PC196            819           PC238   \n",
       "33           PC200            271           PC282   \n",
       "34           PC201             90           PC236   \n",
       "35           PC201             90           PC237   \n",
       "36           PC272             90           PC236   \n",
       "37           PC272             90           PC237   \n",
       "38           PC211            107           PC169   \n",
       "39           PC213           1063           PC177   \n",
       "40           PC215           1352           PC218   \n",
       "41           PC220           2371            PC72   \n",
       "42           PC223           1101            PC71   \n",
       "43           PC239            379            PC70   \n",
       "44           PC252            379            PC70   \n",
       "45           PC254            569           PC249   \n",
       "46           PC255           2252           PC226   \n",
       "47           PC255           2252           PC265   \n",
       "48           PC255           2252           PC273   \n",
       "49           PC262           1969           PC149   \n",
       "50           PC262           1969           PC151   \n",
       "51           PC262           1969           PC153   \n",
       "52           PC266           2165           PC111   \n",
       "53           PC268           1571           PC202   \n",
       "54           PC268           1571           PC208   \n",
       "55           PC269           1061           PC181   \n",
       "\n",
       "                                   domain-description  \n",
       "0             PFU; PLAA family ubiquitin binding, PFU  \n",
       "1         Chitin_synth_1N; Chitin synthase N-terminal  \n",
       "2         Chitin_synth_1N; Chitin synthase N-terminal  \n",
       "3         Chitin_synth_1N; Chitin synthase N-terminal  \n",
       "4         Chitin_synth_1N; Chitin synthase N-terminal  \n",
       "5                   Allantoicase; Allantoicase domain  \n",
       "6               ABC2_membrane; ABC-2 type transporter  \n",
       "7                          Dopey_N; Dopey, N-terminal  \n",
       "8                          Dopey_N; Dopey, N-terminal  \n",
       "9    Diphthamide_syn; Diphthamide synthesis DPH1/DPH2  \n",
       "10   Diphthamide_syn; Diphthamide synthesis DPH1/DPH2  \n",
       "11                                        Transferase  \n",
       "12  AIM3; Altered inheritance of mitochondria prot...  \n",
       "13      GHMP_kinases_N; GHMP kinase N-terminal domain  \n",
       "14    PTPLA; Protein-tyrosine phosphatase-like, PTPLA  \n",
       "15  TFIIIC_sub6; Transcription factor TFIIIC, tau5...  \n",
       "16  TFIIIC_sub6; Transcription factor TFIIIC, tau5...  \n",
       "17     GHMP_kinases_C; GHMP kinase, C-terminal domain  \n",
       "18       GTP_cyclohydroI; GTP cyclohydrolase I domain  \n",
       "19       GTP_cyclohydroI; GTP cyclohydrolase I domain  \n",
       "20               Cation_efflux; Cation efflux protein  \n",
       "21               Cation_efflux; Cation efflux protein  \n",
       "22  ATP_bind_3; tRNA(Ile)-lysidine/2-thiocytidine ...  \n",
       "23  ATP_bind_3; tRNA(Ile)-lysidine/2-thiocytidine ...  \n",
       "24                                            Kelch_3  \n",
       "25  Anticodon_1; Methionyl/Valyl/Leucyl/Isoleucyl-...  \n",
       "26  Anticodon_1; Methionyl/Valyl/Leucyl/Isoleucyl-...  \n",
       "27                  DAO; FAD dependent oxidoreductase  \n",
       "28     Glu_syn_central; Glutamate synthase, central-N  \n",
       "29                         LIM; Zinc finger, LIM-type  \n",
       "30                         LIM; Zinc finger, LIM-type  \n",
       "31   AATF-Che1; AATF leucine zipper-containing domain  \n",
       "32        ERO1; Endoplasmic reticulum oxidoreductin 1  \n",
       "33                                               BLI1  \n",
       "34      ANAPC9; Anaphase-promoting complex, subunit 9  \n",
       "35      ANAPC9; Anaphase-promoting complex, subunit 9  \n",
       "36      ANAPC9; Anaphase-promoting complex, subunit 9  \n",
       "37      ANAPC9; Anaphase-promoting complex, subunit 9  \n",
       "38  ATE_N; Arginine-tRNA-protein transferase, N-te...  \n",
       "39   Glyco_transf_20; Glycosyl transferase, family 20  \n",
       "40  MATalpha_HMGbox; Mating-type protein MAT alpha...  \n",
       "41                               SPT2; Chromatin SPT2  \n",
       "42  HCO3_cotransp; Bicarbonate transporter, C-term...  \n",
       "43                                               COG6  \n",
       "44                                               COG6  \n",
       "45                                  DDHD; DDHD domain  \n",
       "46  Rif1_N; Telomere-associated protein Rif1, N-te...  \n",
       "47  Rif1_N; Telomere-associated protein Rif1, N-te...  \n",
       "48  Rif1_N; Telomere-associated protein Rif1, N-te...  \n",
       "49                                    RAI1; RAI1-like  \n",
       "50                                    RAI1; RAI1-like  \n",
       "51                                    RAI1; RAI1-like  \n",
       "52  Ribosomal_L18A; Ribosomal protein 50S-L18Ae/60...  \n",
       "53                               NMT1; SsuA/THI5-like  \n",
       "54                               NMT1; SsuA/THI5-like  \n",
       "55  Glyco_tran_28_C; Glycosyl transferase, family ...  "
      ]
     },
     "execution_count": 22,
     "metadata": {},
     "output_type": "execute_result"
    }
   ],
   "source": [
    "df_shared_domains=pd.merge(df_sl,df_nsl,how='inner',on='domain-number')\n",
    "domains_name=np.unique(data_domains['domain-name'])\n",
    "domains_description=np.unique(data_domains['domain-descrip'])\n",
    "\n",
    "df_shared_domains['domain-description']=domains_description[df_shared_domains['domain-number']]\n",
    "\n",
    "\n",
    "df_shared_domains"
   ]
  },
  {
   "cell_type": "code",
   "execution_count": 23,
   "metadata": {
    "execution": {
     "iopub.execute_input": "2020-08-14T13:02:18.245716Z",
     "iopub.status.busy": "2020-08-14T13:02:18.245214Z",
     "iopub.status.idle": "2020-08-14T13:02:18.250455Z",
     "shell.execute_reply": "2020-08-14T13:02:18.250979Z"
    }
   },
   "outputs": [
    {
     "name": "stdout",
     "output_type": "stream",
     "text": [
      "The number of shared domains between SL and nSL pairs,after PCA, is =  56 out of 561 so the 9.982174688057041 %\n"
     ]
    }
   ],
   "source": [
    "print('The number of shared domains between SL and nSL pairs,after PCA, is = ',len(df_shared_domains), 'out of', len(df_sl)+len(df_nsl), 'so the',100*len(df_shared_domains)/(len(df_sl)+len(df_nsl)),'%')"
   ]
  },
  {
   "cell_type": "markdown",
   "metadata": {},
   "source": [
    "## Domains exclusive to SL"
   ]
  },
  {
   "cell_type": "code",
   "execution_count": 24,
   "metadata": {
    "execution": {
     "iopub.execute_input": "2020-08-14T13:02:18.253206Z",
     "iopub.status.busy": "2020-08-14T13:02:18.252697Z",
     "iopub.status.idle": "2020-08-14T13:02:18.281263Z",
     "shell.execute_reply": "2020-08-14T13:02:18.281929Z"
    }
   },
   "outputs": [
    {
     "data": {
      "text/html": [
       "<div>\n",
       "<style scoped>\n",
       "    .dataframe tbody tr th:only-of-type {\n",
       "        vertical-align: middle;\n",
       "    }\n",
       "\n",
       "    .dataframe tbody tr th {\n",
       "        vertical-align: top;\n",
       "    }\n",
       "\n",
       "    .dataframe thead th {\n",
       "        text-align: right;\n",
       "    }\n",
       "</style>\n",
       "<table border=\"1\" class=\"dataframe\">\n",
       "  <thead>\n",
       "    <tr style=\"text-align: right;\">\n",
       "      <th></th>\n",
       "      <th>pca-component_x</th>\n",
       "      <th>domain-number</th>\n",
       "      <th>pca-component_y</th>\n",
       "      <th>domain-description</th>\n",
       "    </tr>\n",
       "  </thead>\n",
       "  <tbody>\n",
       "    <tr>\n",
       "      <th>0</th>\n",
       "      <td>PC0</td>\n",
       "      <td>2771</td>\n",
       "      <td>NaN</td>\n",
       "      <td>Ubiq-assoc; Ubiquitin-associated domain, SWA2-...</td>\n",
       "    </tr>\n",
       "    <tr>\n",
       "      <th>1</th>\n",
       "      <td>PC1</td>\n",
       "      <td>286</td>\n",
       "      <td>NaN</td>\n",
       "      <td>BTB_2; Potassium channel tetramerisation-type ...</td>\n",
       "    </tr>\n",
       "    <tr>\n",
       "      <th>2</th>\n",
       "      <td>PC2</td>\n",
       "      <td>312</td>\n",
       "      <td>NaN</td>\n",
       "      <td>C2; C2 domain</td>\n",
       "    </tr>\n",
       "    <tr>\n",
       "      <th>3</th>\n",
       "      <td>PC3</td>\n",
       "      <td>858</td>\n",
       "      <td>NaN</td>\n",
       "      <td>F420_oxidored; Pyrroline-5-carboxylate reducta...</td>\n",
       "    </tr>\n",
       "    <tr>\n",
       "      <th>4</th>\n",
       "      <td>PC4</td>\n",
       "      <td>2082</td>\n",
       "      <td>NaN</td>\n",
       "      <td>RXT2_N; Transcriptional regulatory protein RXT...</td>\n",
       "    </tr>\n",
       "    <tr>\n",
       "      <th>...</th>\n",
       "      <td>...</td>\n",
       "      <td>...</td>\n",
       "      <td>...</td>\n",
       "      <td>...</td>\n",
       "    </tr>\n",
       "    <tr>\n",
       "      <th>273</th>\n",
       "      <td>PC265</td>\n",
       "      <td>2355</td>\n",
       "      <td>NaN</td>\n",
       "      <td>SNF2_N; SNF2-related, N-terminal domain</td>\n",
       "    </tr>\n",
       "    <tr>\n",
       "      <th>275</th>\n",
       "      <td>PC267</td>\n",
       "      <td>1745</td>\n",
       "      <td>NaN</td>\n",
       "      <td>PHM7_cyt; 10TM putative phosphate transporter,...</td>\n",
       "    </tr>\n",
       "    <tr>\n",
       "      <th>279</th>\n",
       "      <td>PC270</td>\n",
       "      <td>698</td>\n",
       "      <td>NaN</td>\n",
       "      <td>DUF3441; Domain of unknown function DUF3441</td>\n",
       "    </tr>\n",
       "    <tr>\n",
       "      <th>280</th>\n",
       "      <td>PC271</td>\n",
       "      <td>618</td>\n",
       "      <td>NaN</td>\n",
       "      <td>DNA_pol_alpha_N; DNA polymerase alpha catalyti...</td>\n",
       "    </tr>\n",
       "    <tr>\n",
       "      <th>283</th>\n",
       "      <td>PC273</td>\n",
       "      <td>9</td>\n",
       "      <td>NaN</td>\n",
       "      <td>40S_S4_C; 40S ribosomal protein S4, C-terminal...</td>\n",
       "    </tr>\n",
       "  </tbody>\n",
       "</table>\n",
       "<p>228 rows × 4 columns</p>\n",
       "</div>"
      ],
      "text/plain": [
       "    pca-component_x  domain-number pca-component_y  \\\n",
       "0               PC0           2771             NaN   \n",
       "1               PC1            286             NaN   \n",
       "2               PC2            312             NaN   \n",
       "3               PC3            858             NaN   \n",
       "4               PC4           2082             NaN   \n",
       "..              ...            ...             ...   \n",
       "273           PC265           2355             NaN   \n",
       "275           PC267           1745             NaN   \n",
       "279           PC270            698             NaN   \n",
       "280           PC271            618             NaN   \n",
       "283           PC273              9             NaN   \n",
       "\n",
       "                                    domain-description  \n",
       "0    Ubiq-assoc; Ubiquitin-associated domain, SWA2-...  \n",
       "1    BTB_2; Potassium channel tetramerisation-type ...  \n",
       "2                                        C2; C2 domain  \n",
       "3    F420_oxidored; Pyrroline-5-carboxylate reducta...  \n",
       "4    RXT2_N; Transcriptional regulatory protein RXT...  \n",
       "..                                                 ...  \n",
       "273            SNF2_N; SNF2-related, N-terminal domain  \n",
       "275  PHM7_cyt; 10TM putative phosphate transporter,...  \n",
       "279        DUF3441; Domain of unknown function DUF3441  \n",
       "280  DNA_pol_alpha_N; DNA polymerase alpha catalyti...  \n",
       "283  40S_S4_C; 40S ribosomal protein S4, C-terminal...  \n",
       "\n",
       "[228 rows x 4 columns]"
      ]
     },
     "execution_count": 24,
     "metadata": {},
     "output_type": "execute_result"
    }
   ],
   "source": [
    "df_sl_exclusive=pd.merge(df_sl,df_nsl,how='left',on='domain-number')\n",
    "\n",
    "domains_name=np.unique(data_domains['domain-name'])\n",
    "domains_description=np.unique(data_domains['domain-descrip'])\n",
    "\n",
    "df_sl_exclusive['domain-description']=domains_description[df_sl_exclusive['domain-number']]\n",
    "df_sl_exclusive[pd.isnull(df_sl_exclusive['pca-component_y'])]"
   ]
  },
  {
   "cell_type": "code",
   "execution_count": 25,
   "metadata": {
    "execution": {
     "iopub.execute_input": "2020-08-14T13:02:18.285018Z",
     "iopub.status.busy": "2020-08-14T13:02:18.284016Z",
     "iopub.status.idle": "2020-08-14T13:02:18.290645Z",
     "shell.execute_reply": "2020-08-14T13:02:18.291350Z"
    }
   },
   "outputs": [
    {
     "name": "stdout",
     "output_type": "stream",
     "text": [
      "The number of exclusive domains from SL pairs, after PCA, is =  284 out of 561 so the 50.623885918003566 %\n"
     ]
    }
   ],
   "source": [
    "print('The number of exclusive domains from SL pairs, after PCA, is = ',len(df_sl_exclusive), 'out of', len(df_sl)+len(df_nsl), 'so the',100*len(df_sl_exclusive)/(len(df_sl)+len(df_nsl)),'%')"
   ]
  },
  {
   "cell_type": "code",
   "execution_count": 26,
   "metadata": {
    "execution": {
     "iopub.execute_input": "2020-08-14T13:02:18.294370Z",
     "iopub.status.busy": "2020-08-14T13:02:18.293355Z",
     "iopub.status.idle": "2020-08-14T13:02:18.322525Z",
     "shell.execute_reply": "2020-08-14T13:02:18.322083Z"
    }
   },
   "outputs": [
    {
     "data": {
      "text/html": [
       "<div>\n",
       "<style scoped>\n",
       "    .dataframe tbody tr th:only-of-type {\n",
       "        vertical-align: middle;\n",
       "    }\n",
       "\n",
       "    .dataframe tbody tr th {\n",
       "        vertical-align: top;\n",
       "    }\n",
       "\n",
       "    .dataframe thead th {\n",
       "        text-align: right;\n",
       "    }\n",
       "</style>\n",
       "<table border=\"1\" class=\"dataframe\">\n",
       "  <thead>\n",
       "    <tr style=\"text-align: right;\">\n",
       "      <th></th>\n",
       "      <th>pca-component_x</th>\n",
       "      <th>domain-number</th>\n",
       "      <th>pca-component_y</th>\n",
       "      <th>domain-description</th>\n",
       "    </tr>\n",
       "  </thead>\n",
       "  <tbody>\n",
       "    <tr>\n",
       "      <th>0</th>\n",
       "      <td>NaN</td>\n",
       "      <td>1028</td>\n",
       "      <td>PC0</td>\n",
       "      <td>GatB_Yqey; Asn/Gln amidotransferase</td>\n",
       "    </tr>\n",
       "    <tr>\n",
       "      <th>1</th>\n",
       "      <td>NaN</td>\n",
       "      <td>305</td>\n",
       "      <td>PC1</td>\n",
       "      <td>Brr6_like_C_C; Brl1/Brr6 domain</td>\n",
       "    </tr>\n",
       "    <tr>\n",
       "      <th>2</th>\n",
       "      <td>NaN</td>\n",
       "      <td>1091</td>\n",
       "      <td>PC2</td>\n",
       "      <td>HAD</td>\n",
       "    </tr>\n",
       "    <tr>\n",
       "      <th>3</th>\n",
       "      <td>NaN</td>\n",
       "      <td>1110</td>\n",
       "      <td>PC3</td>\n",
       "      <td>HEM4; Tetrapyrrole biosynthesis, uroporphyrino...</td>\n",
       "    </tr>\n",
       "    <tr>\n",
       "      <th>4</th>\n",
       "      <td>NaN</td>\n",
       "      <td>2113</td>\n",
       "      <td>PC4</td>\n",
       "      <td>Rav1p_C; RAVE complex protein Rav1 C-terminal</td>\n",
       "    </tr>\n",
       "    <tr>\n",
       "      <th>...</th>\n",
       "      <td>...</td>\n",
       "      <td>...</td>\n",
       "      <td>...</td>\n",
       "      <td>...</td>\n",
       "    </tr>\n",
       "    <tr>\n",
       "      <th>293</th>\n",
       "      <td>NaN</td>\n",
       "      <td>161</td>\n",
       "      <td>PC281</td>\n",
       "      <td>Acyl-CoA_ox_N; Acyl-coenzyme A oxidase, N-term...</td>\n",
       "    </tr>\n",
       "    <tr>\n",
       "      <th>295</th>\n",
       "      <td>NaN</td>\n",
       "      <td>2025</td>\n",
       "      <td>PC283</td>\n",
       "      <td>RNA_pol_Rpb2_7; RNA polymerase Rpb2, domain 7</td>\n",
       "    </tr>\n",
       "    <tr>\n",
       "      <th>296</th>\n",
       "      <td>NaN</td>\n",
       "      <td>2812</td>\n",
       "      <td>PC284</td>\n",
       "      <td>Vac14_Fab1_bd; Vacuole morphology and inherita...</td>\n",
       "    </tr>\n",
       "    <tr>\n",
       "      <th>297</th>\n",
       "      <td>NaN</td>\n",
       "      <td>711</td>\n",
       "      <td>PC285</td>\n",
       "      <td>DUF382; Domain of unknown function DUF382</td>\n",
       "    </tr>\n",
       "    <tr>\n",
       "      <th>298</th>\n",
       "      <td>NaN</td>\n",
       "      <td>1444</td>\n",
       "      <td>PC286</td>\n",
       "      <td>Med22; Mediator of RNA polymerase II transcrip...</td>\n",
       "    </tr>\n",
       "  </tbody>\n",
       "</table>\n",
       "<p>243 rows × 4 columns</p>\n",
       "</div>"
      ],
      "text/plain": [
       "    pca-component_x  domain-number pca-component_y  \\\n",
       "0               NaN           1028             PC0   \n",
       "1               NaN            305             PC1   \n",
       "2               NaN           1091             PC2   \n",
       "3               NaN           1110             PC3   \n",
       "4               NaN           2113             PC4   \n",
       "..              ...            ...             ...   \n",
       "293             NaN            161           PC281   \n",
       "295             NaN           2025           PC283   \n",
       "296             NaN           2812           PC284   \n",
       "297             NaN            711           PC285   \n",
       "298             NaN           1444           PC286   \n",
       "\n",
       "                                    domain-description  \n",
       "0                  GatB_Yqey; Asn/Gln amidotransferase  \n",
       "1                      Brr6_like_C_C; Brl1/Brr6 domain  \n",
       "2                                                  HAD  \n",
       "3    HEM4; Tetrapyrrole biosynthesis, uroporphyrino...  \n",
       "4        Rav1p_C; RAVE complex protein Rav1 C-terminal  \n",
       "..                                                 ...  \n",
       "293  Acyl-CoA_ox_N; Acyl-coenzyme A oxidase, N-term...  \n",
       "295      RNA_pol_Rpb2_7; RNA polymerase Rpb2, domain 7  \n",
       "296  Vac14_Fab1_bd; Vacuole morphology and inherita...  \n",
       "297          DUF382; Domain of unknown function DUF382  \n",
       "298  Med22; Mediator of RNA polymerase II transcrip...  \n",
       "\n",
       "[243 rows x 4 columns]"
      ]
     },
     "execution_count": 26,
     "metadata": {},
     "output_type": "execute_result"
    }
   ],
   "source": [
    "df_nsl_exclusive=pd.merge(df_sl,df_nsl,how='right',on='domain-number')\n",
    "\n",
    "domains_name=np.unique(data_domains['domain-name'])\n",
    "domains_description=np.unique(data_domains['domain-descrip'])\n",
    "\n",
    "df_nsl_exclusive['domain-description']=domains_description[df_nsl_exclusive['domain-number']]\n",
    "df_nsl_exclusive[pd.isnull(df_nsl_exclusive['pca-component_x'])]"
   ]
  },
  {
   "cell_type": "code",
   "execution_count": 27,
   "metadata": {
    "execution": {
     "iopub.execute_input": "2020-08-14T13:02:18.326984Z",
     "iopub.status.busy": "2020-08-14T13:02:18.326455Z",
     "iopub.status.idle": "2020-08-14T13:02:18.328977Z",
     "shell.execute_reply": "2020-08-14T13:02:18.329349Z"
    }
   },
   "outputs": [
    {
     "name": "stdout",
     "output_type": "stream",
     "text": [
      "The number of exclusive domains from non SL pairs, after PCA, is =  299 out of 561 so the 53.297682709447415 %\n"
     ]
    }
   ],
   "source": [
    "print('The number of exclusive domains from non SL pairs, after PCA, is = ',len(df_nsl_exclusive), 'out of', len(df_sl)+len(df_nsl), 'so the',100*len(df_nsl_exclusive)/(len(df_sl)+len(df_nsl)),'%')"
   ]
  },
  {
   "cell_type": "markdown",
   "metadata": {},
   "source": [
    "## Let see to the domains-number that get repeated after the PCA analysis , and selecting the most explanatory feature by its explained variance."
   ]
  },
  {
   "cell_type": "code",
   "execution_count": 28,
   "metadata": {
    "execution": {
     "iopub.execute_input": "2020-08-14T13:02:18.348099Z",
     "iopub.status.busy": "2020-08-14T13:02:18.340542Z",
     "iopub.status.idle": "2020-08-14T13:02:18.353255Z",
     "shell.execute_reply": "2020-08-14T13:02:18.352490Z"
    }
   },
   "outputs": [],
   "source": [
    "duplicated_features_sl=df_sl[df_sl.iloc[:,1].duplicated()]\n",
    "repeated_features_sl=pd.DataFrame()\n",
    "\n",
    "domains_name=np.unique(data_domains['domain-name'])\n",
    "domains_description=np.unique(data_domains['domain-descrip'])\n",
    "\n",
    "repeated_features_sl['domain-name']=domains_name[duplicated_features_sl.iloc[:,1]] \n",
    "repeated_features_sl['domain-description']=domains_description[duplicated_features_sl.iloc[:,1]]\n",
    "\n",
    "duplicated_features_nsl=df_nsl[df_nsl.iloc[:,1].duplicated()]\n",
    "repeated_features_nsl=pd.DataFrame()\n",
    "\n",
    "repeated_features_nsl['domain-name']=domains_name[duplicated_features_nsl.iloc[:,1]] \n",
    "repeated_features_nsl['domain-description']=domains_description[duplicated_features_nsl.iloc[:,1]]"
   ]
  },
  {
   "cell_type": "code",
   "execution_count": 29,
   "metadata": {
    "execution": {
     "iopub.execute_input": "2020-08-14T13:02:18.362290Z",
     "iopub.status.busy": "2020-08-14T13:02:18.361232Z",
     "iopub.status.idle": "2020-08-14T13:02:18.367625Z",
     "shell.execute_reply": "2020-08-14T13:02:18.367198Z"
    }
   },
   "outputs": [
    {
     "name": "stderr",
     "output_type": "stream",
     "text": [
      "/usr/share/miniconda3/envs/wintest/lib/python3.7/site-packages/ipykernel_launcher.py:3: SettingWithCopyWarning: \n",
      "A value is trying to be set on a copy of a slice from a DataFrame.\n",
      "Try using .loc[row_indexer,col_indexer] = value instead\n",
      "\n",
      "See the caveats in the documentation: https://pandas.pydata.org/pandas-docs/stable/user_guide/indexing.html#returning-a-view-versus-a-copy\n",
      "  This is separate from the ipykernel package so we can avoid doing imports until\n"
     ]
    },
    {
     "data": {
      "text/plain": [
       "((50, 4), (284, 4))"
      ]
     },
     "execution_count": 29,
     "metadata": {},
     "output_type": "execute_result"
    }
   ],
   "source": [
    "only_sl_pd=pd.merge(repeated_features_sl,repeated_features_nsl,how='left',on=['domain-name'])\n",
    "data_only_sl = only_sl_pd[pd.isnull(only_sl_pd['domain-description_y'])]\n",
    "data_only_sl['domain-description']=data_only_sl['domain-description_x']\n",
    "data_only_sl.shape,df_sl_exclusive.shape"
   ]
  },
  {
   "cell_type": "code",
   "execution_count": 30,
   "metadata": {
    "execution": {
     "iopub.execute_input": "2020-08-14T13:02:18.372663Z",
     "iopub.status.busy": "2020-08-14T13:02:18.372146Z",
     "iopub.status.idle": "2020-08-14T13:02:18.388772Z",
     "shell.execute_reply": "2020-08-14T13:02:18.388309Z"
    }
   },
   "outputs": [
    {
     "data": {
      "text/html": [
       "<div>\n",
       "<style scoped>\n",
       "    .dataframe tbody tr th:only-of-type {\n",
       "        vertical-align: middle;\n",
       "    }\n",
       "\n",
       "    .dataframe tbody tr th {\n",
       "        vertical-align: top;\n",
       "    }\n",
       "\n",
       "    .dataframe thead th {\n",
       "        text-align: right;\n",
       "    }\n",
       "</style>\n",
       "<table border=\"1\" class=\"dataframe\">\n",
       "  <thead>\n",
       "    <tr style=\"text-align: right;\">\n",
       "      <th></th>\n",
       "      <th>domain-name</th>\n",
       "      <th>domain-description_x</th>\n",
       "      <th>domain-description_y</th>\n",
       "    </tr>\n",
       "  </thead>\n",
       "  <tbody>\n",
       "    <tr>\n",
       "      <th>1</th>\n",
       "      <td>PF03198</td>\n",
       "      <td>NaN</td>\n",
       "      <td>Glycos_transf_1; Glycosyl transferase, family 1</td>\n",
       "    </tr>\n",
       "    <tr>\n",
       "      <th>2</th>\n",
       "      <td>PF09334</td>\n",
       "      <td>NaN</td>\n",
       "      <td>Ran-binding; GTP-binding nuclear protein Ran-r...</td>\n",
       "    </tr>\n",
       "    <tr>\n",
       "      <th>3</th>\n",
       "      <td>PF01853</td>\n",
       "      <td>NaN</td>\n",
       "      <td>Dopey_N; Dopey, N-terminal</td>\n",
       "    </tr>\n",
       "    <tr>\n",
       "      <th>4</th>\n",
       "      <td>PF06733</td>\n",
       "      <td>NaN</td>\n",
       "      <td>Ost5; Oligosaccharyltransferase complex subunit</td>\n",
       "    </tr>\n",
       "    <tr>\n",
       "      <th>5</th>\n",
       "      <td>PF08059</td>\n",
       "      <td>NaN</td>\n",
       "      <td>PPR_2; Pentatricopeptide repeat</td>\n",
       "    </tr>\n",
       "    <tr>\n",
       "      <th>6</th>\n",
       "      <td>PF02359</td>\n",
       "      <td>NaN</td>\n",
       "      <td>FDF; FDF domain</td>\n",
       "    </tr>\n",
       "    <tr>\n",
       "      <th>7</th>\n",
       "      <td>PF08490</td>\n",
       "      <td>NaN</td>\n",
       "      <td>Phosducin; Phosducin, thioredoxin-like domain</td>\n",
       "    </tr>\n",
       "    <tr>\n",
       "      <th>8</th>\n",
       "      <td>PF12157</td>\n",
       "      <td>NaN</td>\n",
       "      <td>Sec7; Sec7 domain</td>\n",
       "    </tr>\n",
       "    <tr>\n",
       "      <th>9</th>\n",
       "      <td>PF07557</td>\n",
       "      <td>NaN</td>\n",
       "      <td>PEX11; Peroxisomal biogenesis factor 11</td>\n",
       "    </tr>\n",
       "    <tr>\n",
       "      <th>10</th>\n",
       "      <td>PF07557</td>\n",
       "      <td>NaN</td>\n",
       "      <td>PEX11; Peroxisomal biogenesis factor 11</td>\n",
       "    </tr>\n",
       "    <tr>\n",
       "      <th>11</th>\n",
       "      <td>PF05739</td>\n",
       "      <td>NaN</td>\n",
       "      <td>NPCC; Nuclear pore complex component</td>\n",
       "    </tr>\n",
       "    <tr>\n",
       "      <th>12</th>\n",
       "      <td>PF01608</td>\n",
       "      <td>NaN</td>\n",
       "      <td>DUF2781</td>\n",
       "    </tr>\n",
       "    <tr>\n",
       "      <th>13</th>\n",
       "      <td>PF01261</td>\n",
       "      <td>NaN</td>\n",
       "      <td>DER1</td>\n",
       "    </tr>\n",
       "    <tr>\n",
       "      <th>14</th>\n",
       "      <td>PF01207</td>\n",
       "      <td>NaN</td>\n",
       "      <td>D123; Cell division cycle protein 123</td>\n",
       "    </tr>\n",
       "    <tr>\n",
       "      <th>15</th>\n",
       "      <td>PF09346</td>\n",
       "      <td>NaN</td>\n",
       "      <td>RasGAP; Ras GTPase-activating protein</td>\n",
       "    </tr>\n",
       "    <tr>\n",
       "      <th>16</th>\n",
       "      <td>PF03943</td>\n",
       "      <td>NaN</td>\n",
       "      <td>IGPS; Indole-3-glycerol phosphate synthase</td>\n",
       "    </tr>\n",
       "    <tr>\n",
       "      <th>17</th>\n",
       "      <td>PF04912</td>\n",
       "      <td>NaN</td>\n",
       "      <td>Med4; Mediator complex, subunit Med4</td>\n",
       "    </tr>\n",
       "    <tr>\n",
       "      <th>18</th>\n",
       "      <td>PF00957</td>\n",
       "      <td>NaN</td>\n",
       "      <td>Candida_ALS_N; Agglutinin-like protein, N-term...</td>\n",
       "    </tr>\n",
       "    <tr>\n",
       "      <th>19</th>\n",
       "      <td>PF00957</td>\n",
       "      <td>NaN</td>\n",
       "      <td>Candida_ALS_N; Agglutinin-like protein, N-term...</td>\n",
       "    </tr>\n",
       "    <tr>\n",
       "      <th>20</th>\n",
       "      <td>PF04762</td>\n",
       "      <td>NaN</td>\n",
       "      <td>Mak16; Mak16 protein</td>\n",
       "    </tr>\n",
       "    <tr>\n",
       "      <th>21</th>\n",
       "      <td>PF08598</td>\n",
       "      <td>NaN</td>\n",
       "      <td>RAI1; RAI1-like</td>\n",
       "    </tr>\n",
       "    <tr>\n",
       "      <th>22</th>\n",
       "      <td>PF08598</td>\n",
       "      <td>NaN</td>\n",
       "      <td>RAI1; RAI1-like</td>\n",
       "    </tr>\n",
       "    <tr>\n",
       "      <th>23</th>\n",
       "      <td>PF00730</td>\n",
       "      <td>NaN</td>\n",
       "      <td>CLASP_N; CLASP N-terminal domain</td>\n",
       "    </tr>\n",
       "    <tr>\n",
       "      <th>24</th>\n",
       "      <td>PF00620</td>\n",
       "      <td>NaN</td>\n",
       "      <td>Brix; Brix domain</td>\n",
       "    </tr>\n",
       "    <tr>\n",
       "      <th>25</th>\n",
       "      <td>PF09724</td>\n",
       "      <td>NaN</td>\n",
       "      <td>Ribosomal_60s</td>\n",
       "    </tr>\n",
       "    <tr>\n",
       "      <th>26</th>\n",
       "      <td>PF09724</td>\n",
       "      <td>NaN</td>\n",
       "      <td>Ribosomal_60s</td>\n",
       "    </tr>\n",
       "    <tr>\n",
       "      <th>27</th>\n",
       "      <td>PF01920</td>\n",
       "      <td>NaN</td>\n",
       "      <td>E1_UFD; Ubiquitin-activating enzyme E1, C-term...</td>\n",
       "    </tr>\n",
       "    <tr>\n",
       "      <th>28</th>\n",
       "      <td>PF00996</td>\n",
       "      <td>NaN</td>\n",
       "      <td>Cauli_VI; Ribonuclease H1, N-terminal</td>\n",
       "    </tr>\n",
       "    <tr>\n",
       "      <th>29</th>\n",
       "      <td>PF08801</td>\n",
       "      <td>NaN</td>\n",
       "      <td>RRM; RNA-binding domain, putative</td>\n",
       "    </tr>\n",
       "    <tr>\n",
       "      <th>30</th>\n",
       "      <td>PF02970</td>\n",
       "      <td>NaN</td>\n",
       "      <td>G_glu_transpept; Gamma-glutamyltranspeptidase</td>\n",
       "    </tr>\n",
       "    <tr>\n",
       "      <th>31</th>\n",
       "      <td>PF12341</td>\n",
       "      <td>NaN</td>\n",
       "      <td>Sin_N; DNA-directed RNA polymerase III subunit...</td>\n",
       "    </tr>\n",
       "    <tr>\n",
       "      <th>32</th>\n",
       "      <td>PF06839</td>\n",
       "      <td>NaN</td>\n",
       "      <td>P21-Arc; Actin-related protein 2/3 complex sub...</td>\n",
       "    </tr>\n",
       "    <tr>\n",
       "      <th>33</th>\n",
       "      <td>PF02150</td>\n",
       "      <td>NaN</td>\n",
       "      <td>EXOSC1; Exosome complex component CSL4</td>\n",
       "    </tr>\n",
       "    <tr>\n",
       "      <th>34</th>\n",
       "      <td>PF02150</td>\n",
       "      <td>NaN</td>\n",
       "      <td>EXOSC1; Exosome complex component CSL4</td>\n",
       "    </tr>\n",
       "    <tr>\n",
       "      <th>35</th>\n",
       "      <td>PF00735</td>\n",
       "      <td>NaN</td>\n",
       "      <td>CLP1_P; Polyribonucleotide 5&amp;apos;-hydroxyl-ki...</td>\n",
       "    </tr>\n",
       "    <tr>\n",
       "      <th>36</th>\n",
       "      <td>PF05637</td>\n",
       "      <td>NaN</td>\n",
       "      <td>NMT1; SsuA/THI5-like</td>\n",
       "    </tr>\n",
       "    <tr>\n",
       "      <th>37</th>\n",
       "      <td>PF01522</td>\n",
       "      <td>NaN</td>\n",
       "      <td>DUF1748; Protein of unknown function DUF1748, ...</td>\n",
       "    </tr>\n",
       "    <tr>\n",
       "      <th>39</th>\n",
       "      <td>PF00808</td>\n",
       "      <td>NaN</td>\n",
       "      <td>COX1; Cytochrome c oxidase subunit I</td>\n",
       "    </tr>\n",
       "    <tr>\n",
       "      <th>40</th>\n",
       "      <td>PF01294</td>\n",
       "      <td>NaN</td>\n",
       "      <td>DIM1; Dim1 family</td>\n",
       "    </tr>\n",
       "    <tr>\n",
       "      <th>41</th>\n",
       "      <td>PF02137</td>\n",
       "      <td>NaN</td>\n",
       "      <td>ER_lumen_recept; ER lumen protein retaining re...</td>\n",
       "    </tr>\n",
       "    <tr>\n",
       "      <th>42</th>\n",
       "      <td>PF02137</td>\n",
       "      <td>NaN</td>\n",
       "      <td>ER_lumen_recept; ER lumen protein retaining re...</td>\n",
       "    </tr>\n",
       "    <tr>\n",
       "      <th>43</th>\n",
       "      <td>PF01417</td>\n",
       "      <td>NaN</td>\n",
       "      <td>DNA_primase_S; DNA primase, small subunit</td>\n",
       "    </tr>\n",
       "    <tr>\n",
       "      <th>44</th>\n",
       "      <td>PF05255</td>\n",
       "      <td>NaN</td>\n",
       "      <td>Myosin_TH1; Class I myosin tail homology domain</td>\n",
       "    </tr>\n",
       "    <tr>\n",
       "      <th>45</th>\n",
       "      <td>PF05255</td>\n",
       "      <td>NaN</td>\n",
       "      <td>Myosin_TH1; Class I myosin tail homology domain</td>\n",
       "    </tr>\n",
       "    <tr>\n",
       "      <th>46</th>\n",
       "      <td>PF16782</td>\n",
       "      <td>NaN</td>\n",
       "      <td>eRF1_3; eRF1 domain 3</td>\n",
       "    </tr>\n",
       "    <tr>\n",
       "      <th>47</th>\n",
       "      <td>PF05328</td>\n",
       "      <td>NaN</td>\n",
       "      <td>NAD_Gly3P_dh_C; Glycerol-3-phosphate dehydroge...</td>\n",
       "    </tr>\n",
       "    <tr>\n",
       "      <th>48</th>\n",
       "      <td>PF10340</td>\n",
       "      <td>NaN</td>\n",
       "      <td>Rif1_N; Telomere-associated protein Rif1, N-te...</td>\n",
       "    </tr>\n",
       "    <tr>\n",
       "      <th>49</th>\n",
       "      <td>PF10340</td>\n",
       "      <td>NaN</td>\n",
       "      <td>Rif1_N; Telomere-associated protein Rif1, N-te...</td>\n",
       "    </tr>\n",
       "    <tr>\n",
       "      <th>50</th>\n",
       "      <td>PF00383</td>\n",
       "      <td>NaN</td>\n",
       "      <td>Aldose_epim; Aldose 1-/Glucose-6-phosphate 1-e...</td>\n",
       "    </tr>\n",
       "    <tr>\n",
       "      <th>51</th>\n",
       "      <td>PF01008</td>\n",
       "      <td>NaN</td>\n",
       "      <td>Cellulase; Glycoside hydrolase, family 5</td>\n",
       "    </tr>\n",
       "    <tr>\n",
       "      <th>52</th>\n",
       "      <td>PF07690</td>\n",
       "      <td>NaN</td>\n",
       "      <td>PHD_2</td>\n",
       "    </tr>\n",
       "    <tr>\n",
       "      <th>53</th>\n",
       "      <td>PF02441</td>\n",
       "      <td>NaN</td>\n",
       "      <td>FMN_dh; FMN-dependent dehydrogenase</td>\n",
       "    </tr>\n",
       "  </tbody>\n",
       "</table>\n",
       "</div>"
      ],
      "text/plain": [
       "   domain-name domain-description_x  \\\n",
       "1      PF03198                  NaN   \n",
       "2      PF09334                  NaN   \n",
       "3      PF01853                  NaN   \n",
       "4      PF06733                  NaN   \n",
       "5      PF08059                  NaN   \n",
       "6      PF02359                  NaN   \n",
       "7      PF08490                  NaN   \n",
       "8      PF12157                  NaN   \n",
       "9      PF07557                  NaN   \n",
       "10     PF07557                  NaN   \n",
       "11     PF05739                  NaN   \n",
       "12     PF01608                  NaN   \n",
       "13     PF01261                  NaN   \n",
       "14     PF01207                  NaN   \n",
       "15     PF09346                  NaN   \n",
       "16     PF03943                  NaN   \n",
       "17     PF04912                  NaN   \n",
       "18     PF00957                  NaN   \n",
       "19     PF00957                  NaN   \n",
       "20     PF04762                  NaN   \n",
       "21     PF08598                  NaN   \n",
       "22     PF08598                  NaN   \n",
       "23     PF00730                  NaN   \n",
       "24     PF00620                  NaN   \n",
       "25     PF09724                  NaN   \n",
       "26     PF09724                  NaN   \n",
       "27     PF01920                  NaN   \n",
       "28     PF00996                  NaN   \n",
       "29     PF08801                  NaN   \n",
       "30     PF02970                  NaN   \n",
       "31     PF12341                  NaN   \n",
       "32     PF06839                  NaN   \n",
       "33     PF02150                  NaN   \n",
       "34     PF02150                  NaN   \n",
       "35     PF00735                  NaN   \n",
       "36     PF05637                  NaN   \n",
       "37     PF01522                  NaN   \n",
       "39     PF00808                  NaN   \n",
       "40     PF01294                  NaN   \n",
       "41     PF02137                  NaN   \n",
       "42     PF02137                  NaN   \n",
       "43     PF01417                  NaN   \n",
       "44     PF05255                  NaN   \n",
       "45     PF05255                  NaN   \n",
       "46     PF16782                  NaN   \n",
       "47     PF05328                  NaN   \n",
       "48     PF10340                  NaN   \n",
       "49     PF10340                  NaN   \n",
       "50     PF00383                  NaN   \n",
       "51     PF01008                  NaN   \n",
       "52     PF07690                  NaN   \n",
       "53     PF02441                  NaN   \n",
       "\n",
       "                                 domain-description_y  \n",
       "1     Glycos_transf_1; Glycosyl transferase, family 1  \n",
       "2   Ran-binding; GTP-binding nuclear protein Ran-r...  \n",
       "3                          Dopey_N; Dopey, N-terminal  \n",
       "4     Ost5; Oligosaccharyltransferase complex subunit  \n",
       "5                     PPR_2; Pentatricopeptide repeat  \n",
       "6                                     FDF; FDF domain  \n",
       "7       Phosducin; Phosducin, thioredoxin-like domain  \n",
       "8                                   Sec7; Sec7 domain  \n",
       "9             PEX11; Peroxisomal biogenesis factor 11  \n",
       "10            PEX11; Peroxisomal biogenesis factor 11  \n",
       "11               NPCC; Nuclear pore complex component  \n",
       "12                                            DUF2781  \n",
       "13                                               DER1  \n",
       "14              D123; Cell division cycle protein 123  \n",
       "15              RasGAP; Ras GTPase-activating protein  \n",
       "16         IGPS; Indole-3-glycerol phosphate synthase  \n",
       "17               Med4; Mediator complex, subunit Med4  \n",
       "18  Candida_ALS_N; Agglutinin-like protein, N-term...  \n",
       "19  Candida_ALS_N; Agglutinin-like protein, N-term...  \n",
       "20                               Mak16; Mak16 protein  \n",
       "21                                    RAI1; RAI1-like  \n",
       "22                                    RAI1; RAI1-like  \n",
       "23                   CLASP_N; CLASP N-terminal domain  \n",
       "24                                  Brix; Brix domain  \n",
       "25                                      Ribosomal_60s  \n",
       "26                                      Ribosomal_60s  \n",
       "27  E1_UFD; Ubiquitin-activating enzyme E1, C-term...  \n",
       "28              Cauli_VI; Ribonuclease H1, N-terminal  \n",
       "29                  RRM; RNA-binding domain, putative  \n",
       "30      G_glu_transpept; Gamma-glutamyltranspeptidase  \n",
       "31  Sin_N; DNA-directed RNA polymerase III subunit...  \n",
       "32  P21-Arc; Actin-related protein 2/3 complex sub...  \n",
       "33             EXOSC1; Exosome complex component CSL4  \n",
       "34             EXOSC1; Exosome complex component CSL4  \n",
       "35  CLP1_P; Polyribonucleotide 5&apos;-hydroxyl-ki...  \n",
       "36                               NMT1; SsuA/THI5-like  \n",
       "37  DUF1748; Protein of unknown function DUF1748, ...  \n",
       "39               COX1; Cytochrome c oxidase subunit I  \n",
       "40                                  DIM1; Dim1 family  \n",
       "41  ER_lumen_recept; ER lumen protein retaining re...  \n",
       "42  ER_lumen_recept; ER lumen protein retaining re...  \n",
       "43          DNA_primase_S; DNA primase, small subunit  \n",
       "44    Myosin_TH1; Class I myosin tail homology domain  \n",
       "45    Myosin_TH1; Class I myosin tail homology domain  \n",
       "46                              eRF1_3; eRF1 domain 3  \n",
       "47  NAD_Gly3P_dh_C; Glycerol-3-phosphate dehydroge...  \n",
       "48  Rif1_N; Telomere-associated protein Rif1, N-te...  \n",
       "49  Rif1_N; Telomere-associated protein Rif1, N-te...  \n",
       "50  Aldose_epim; Aldose 1-/Glucose-6-phosphate 1-e...  \n",
       "51           Cellulase; Glycoside hydrolase, family 5  \n",
       "52                                              PHD_2  \n",
       "53                FMN_dh; FMN-dependent dehydrogenase  "
      ]
     },
     "execution_count": 30,
     "metadata": {},
     "output_type": "execute_result"
    }
   ],
   "source": [
    "only_nsl_pd=pd.merge(repeated_features_sl,repeated_features_nsl,how='right',on=['domain-name'])\n",
    "data_only_nsl = only_nsl_pd[pd.isnull(only_nsl_pd['domain-description_x'])]\n",
    "data_only_nsl"
   ]
  },
  {
   "cell_type": "code",
   "execution_count": 31,
   "metadata": {
    "execution": {
     "iopub.execute_input": "2020-08-14T13:02:18.398856Z",
     "iopub.status.busy": "2020-08-14T13:02:18.396146Z",
     "iopub.status.idle": "2020-08-14T13:02:18.402170Z",
     "shell.execute_reply": "2020-08-14T13:02:18.401638Z"
    }
   },
   "outputs": [
    {
     "data": {
      "text/html": [
       "<div>\n",
       "<style scoped>\n",
       "    .dataframe tbody tr th:only-of-type {\n",
       "        vertical-align: middle;\n",
       "    }\n",
       "\n",
       "    .dataframe tbody tr th {\n",
       "        vertical-align: top;\n",
       "    }\n",
       "\n",
       "    .dataframe thead th {\n",
       "        text-align: right;\n",
       "    }\n",
       "</style>\n",
       "<table border=\"1\" class=\"dataframe\">\n",
       "  <thead>\n",
       "    <tr style=\"text-align: right;\">\n",
       "      <th></th>\n",
       "      <th>domain-name</th>\n",
       "      <th>domain-description_x</th>\n",
       "      <th>domain-description_y</th>\n",
       "    </tr>\n",
       "  </thead>\n",
       "  <tbody>\n",
       "    <tr>\n",
       "      <th>0</th>\n",
       "      <td>PF01028</td>\n",
       "      <td>Chitin_synth_1N; Chitin synthase N-terminal</td>\n",
       "      <td>Chitin_synth_1N; Chitin synthase N-terminal</td>\n",
       "    </tr>\n",
       "    <tr>\n",
       "      <th>1</th>\n",
       "      <td>PF00186</td>\n",
       "      <td>ANAPC9; Anaphase-promoting complex, subunit 9</td>\n",
       "      <td>ANAPC9; Anaphase-promoting complex, subunit 9</td>\n",
       "    </tr>\n",
       "  </tbody>\n",
       "</table>\n",
       "</div>"
      ],
      "text/plain": [
       "  domain-name                           domain-description_x  \\\n",
       "0     PF01028    Chitin_synth_1N; Chitin synthase N-terminal   \n",
       "1     PF00186  ANAPC9; Anaphase-promoting complex, subunit 9   \n",
       "\n",
       "                            domain-description_y  \n",
       "0    Chitin_synth_1N; Chitin synthase N-terminal  \n",
       "1  ANAPC9; Anaphase-promoting complex, subunit 9  "
      ]
     },
     "execution_count": 31,
     "metadata": {},
     "output_type": "execute_result"
    }
   ],
   "source": [
    "shared_domains_pd=pd.merge(repeated_features_sl,repeated_features_nsl,how='inner',on=['domain-name'])\n",
    "shared_domains_pd\n"
   ]
  },
  {
   "cell_type": "code",
   "execution_count": 32,
   "metadata": {
    "execution": {
     "iopub.execute_input": "2020-08-14T13:02:18.415317Z",
     "iopub.status.busy": "2020-08-14T13:02:18.409495Z",
     "iopub.status.idle": "2020-08-14T13:02:19.656095Z",
     "shell.execute_reply": "2020-08-14T13:02:19.656471Z"
    }
   },
   "outputs": [
    {
     "data": {
      "text/plain": [
       "(0.0, 0.2)"
      ]
     },
     "execution_count": 32,
     "metadata": {},
     "output_type": "execute_result"
    },
    {
     "data": {
      "image/png": "[encoded data removed]",
      "text/plain": [
       "<Figure size 432x288 with 1 Axes>"
      ]
     },
     "metadata": {
      "filenames": {
       "image/png": "/home/runner/work/jupyter-book/jupyter-book/mini_book/docs/_build/jupyter_execute/prot_domains2lethality-FEATURES-POSTPROCESSING_47_1.png"
      },
      "needs_background": "light"
     },
     "output_type": "display_data"
    }
   ],
   "source": [
    "a_sl=x_sl.iloc[:,np.sort(df_sl.iloc[:,1])]\n",
    "a_sl.describe().loc['mean'].hist(bins=8),\n",
    "a_sl.describe().loc['std'].hist(bins=8,alpha=0.4)\n",
    "plt.xlim([0,0.2])"
   ]
  },
  {
   "cell_type": "code",
   "execution_count": 33,
   "metadata": {
    "execution": {
     "iopub.execute_input": "2020-08-14T13:02:19.663846Z",
     "iopub.status.busy": "2020-08-14T13:02:19.660262Z",
     "iopub.status.idle": "2020-08-14T13:02:20.969868Z",
     "shell.execute_reply": "2020-08-14T13:02:20.969374Z"
    }
   },
   "outputs": [
    {
     "data": {
      "text/plain": [
       "(0.0, 0.2)"
      ]
     },
     "execution_count": 33,
     "metadata": {},
     "output_type": "execute_result"
    },
    {
     "data": {
      "image/png": "[encoded data removed]",
      "text/plain": [
       "<Figure size 432x288 with 1 Axes>"
      ]
     },
     "metadata": {
      "filenames": {
       "image/png": "/home/runner/work/jupyter-book/jupyter-book/mini_book/docs/_build/jupyter_execute/prot_domains2lethality-FEATURES-POSTPROCESSING_48_1.png"
      },
      "needs_background": "light"
     },
     "output_type": "display_data"
    }
   ],
   "source": [
    "a_nsl=x_nsl.iloc[:,np.sort(df_nsl.iloc[:,1])]\n",
    "a_nsl.describe().loc['mean'].hist(bins=8),\n",
    "a_nsl.describe().loc['std'].hist(bins=8,alpha=0.4)\n",
    "plt.xlim([0,0.2])"
   ]
  },
  {
   "cell_type": "markdown",
   "metadata": {},
   "source": [
    "### Proof of concept with *BEM1*\n",
    "\n",
    "- Gather the domains of SL and nSL pairs from BEM1\n",
    "- Check if the domains for the SL and nSL pairs are inside the most important domains after PCA."
   ]
  },
  {
   "cell_type": "code",
   "execution_count": 34,
   "metadata": {
    "execution": {
     "iopub.execute_input": "2020-08-14T13:02:20.978564Z",
     "iopub.status.busy": "2020-08-14T13:02:20.978040Z",
     "iopub.status.idle": "2020-08-14T13:02:20.981147Z",
     "shell.execute_reply": "2020-08-14T13:02:20.981572Z"
    }
   },
   "outputs": [],
   "source": [
    "domains_bem1=data_domains[data_domains['name']=='BEM1']['domain-descrip']\n",
    "sl_bem1=data_sl[data_sl['gene-query-name']=='BEM1']['gene-target-name']"
   ]
  },
  {
   "cell_type": "code",
   "execution_count": 35,
   "metadata": {
    "execution": {
     "iopub.execute_input": "2020-08-14T13:02:20.986032Z",
     "iopub.status.busy": "2020-08-14T13:02:20.985511Z",
     "iopub.status.idle": "2020-08-14T13:02:20.990357Z",
     "shell.execute_reply": "2020-08-14T13:02:20.989967Z"
    }
   },
   "outputs": [
    {
     "data": {
      "text/plain": [
       "2846      BEM2\n",
       "2847     CDC24\n",
       "5004      MSB1\n",
       "13777     SMI1\n",
       "13778     BNI1\n",
       "13779     BEM2\n",
       "14385     SKN7\n",
       "Name: gene-target-name, dtype: object"
      ]
     },
     "execution_count": 35,
     "metadata": {},
     "output_type": "execute_result"
    }
   ],
   "source": [
    "sl_bem1"
   ]
  },
  {
   "cell_type": "code",
   "execution_count": 36,
   "metadata": {
    "execution": {
     "iopub.execute_input": "2020-08-14T13:02:21.003116Z",
     "iopub.status.busy": "2020-08-14T13:02:20.998218Z",
     "iopub.status.idle": "2020-08-14T13:02:21.008200Z",
     "shell.execute_reply": "2020-08-14T13:02:21.007744Z"
    }
   },
   "outputs": [
    {
     "data": {
      "text/html": [
       "<div>\n",
       "<style scoped>\n",
       "    .dataframe tbody tr th:only-of-type {\n",
       "        vertical-align: middle;\n",
       "    }\n",
       "\n",
       "    .dataframe tbody tr th {\n",
       "        vertical-align: top;\n",
       "    }\n",
       "\n",
       "    .dataframe thead th {\n",
       "        text-align: right;\n",
       "    }\n",
       "</style>\n",
       "<table border=\"1\" class=\"dataframe\">\n",
       "  <thead>\n",
       "    <tr style=\"text-align: right;\">\n",
       "      <th></th>\n",
       "      <th>gene-query</th>\n",
       "      <th>gene-target</th>\n",
       "      <th>gene-query-name</th>\n",
       "      <th>gene-target-name</th>\n",
       "      <th>gene-query-description</th>\n",
       "      <th>gene-target-description</th>\n",
       "      <th>interaction-type</th>\n",
       "      <th>paper-source</th>\n",
       "    </tr>\n",
       "  </thead>\n",
       "  <tbody>\n",
       "    <tr>\n",
       "      <th>2846</th>\n",
       "      <td>YBR200W</td>\n",
       "      <td>YER155C</td>\n",
       "      <td>BEM1</td>\n",
       "      <td>BEM2</td>\n",
       "      <td>SRO1|phosphatidylinositol-3-phosphate-binding ...</td>\n",
       "      <td>IPL2|SUP9|TSL1|L000000168</td>\n",
       "      <td>Synthetic Lethality</td>\n",
       "      <td>Peterson J (1994)</td>\n",
       "    </tr>\n",
       "    <tr>\n",
       "      <th>2847</th>\n",
       "      <td>YBR200W</td>\n",
       "      <td>YAL041W</td>\n",
       "      <td>BEM1</td>\n",
       "      <td>CDC24</td>\n",
       "      <td>SRO1|phosphatidylinositol-3-phosphate-binding ...</td>\n",
       "      <td>CLS4|Rho family guanine nucleotide exchange fa...</td>\n",
       "      <td>Synthetic Lethality</td>\n",
       "      <td>Peterson J (1994)</td>\n",
       "    </tr>\n",
       "    <tr>\n",
       "      <th>5004</th>\n",
       "      <td>YBR200W</td>\n",
       "      <td>YOR188W</td>\n",
       "      <td>BEM1</td>\n",
       "      <td>MSB1</td>\n",
       "      <td>SRO1|phosphatidylinositol-3-phosphate-binding ...</td>\n",
       "      <td>L000001184</td>\n",
       "      <td>Synthetic Lethality</td>\n",
       "      <td>Bender A (1991)</td>\n",
       "    </tr>\n",
       "    <tr>\n",
       "      <th>13777</th>\n",
       "      <td>YBR200W</td>\n",
       "      <td>YGR229C</td>\n",
       "      <td>BEM1</td>\n",
       "      <td>SMI1</td>\n",
       "      <td>SRO1|phosphatidylinositol-3-phosphate-binding ...</td>\n",
       "      <td>KNR4|L000000909</td>\n",
       "      <td>Synthetic Lethality</td>\n",
       "      <td>Gorelik M (2011)</td>\n",
       "    </tr>\n",
       "    <tr>\n",
       "      <th>13778</th>\n",
       "      <td>YBR200W</td>\n",
       "      <td>YNL271C</td>\n",
       "      <td>BEM1</td>\n",
       "      <td>BNI1</td>\n",
       "      <td>SRO1|phosphatidylinositol-3-phosphate-binding ...</td>\n",
       "      <td>PPF3|SHE5|formin BNI1|L000000190</td>\n",
       "      <td>Synthetic Lethality</td>\n",
       "      <td>Gorelik M (2011)</td>\n",
       "    </tr>\n",
       "    <tr>\n",
       "      <th>13779</th>\n",
       "      <td>YBR200W</td>\n",
       "      <td>YER155C</td>\n",
       "      <td>BEM1</td>\n",
       "      <td>BEM2</td>\n",
       "      <td>SRO1|phosphatidylinositol-3-phosphate-binding ...</td>\n",
       "      <td>IPL2|SUP9|TSL1|L000000168</td>\n",
       "      <td>Synthetic Lethality</td>\n",
       "      <td>Gorelik M (2011)</td>\n",
       "    </tr>\n",
       "    <tr>\n",
       "      <th>14385</th>\n",
       "      <td>YBR200W</td>\n",
       "      <td>YHR206W</td>\n",
       "      <td>BEM1</td>\n",
       "      <td>SKN7</td>\n",
       "      <td>SRO1|phosphatidylinositol-3-phosphate-binding ...</td>\n",
       "      <td>BRY1|POS9|kinase-regulated stress-responsive t...</td>\n",
       "      <td>Dosage Lethality</td>\n",
       "      <td>Bouquin N (1999)</td>\n",
       "    </tr>\n",
       "  </tbody>\n",
       "</table>\n",
       "</div>"
      ],
      "text/plain": [
       "      gene-query gene-target gene-query-name gene-target-name  \\\n",
       "2846     YBR200W     YER155C            BEM1             BEM2   \n",
       "2847     YBR200W     YAL041W            BEM1            CDC24   \n",
       "5004     YBR200W     YOR188W            BEM1             MSB1   \n",
       "13777    YBR200W     YGR229C            BEM1             SMI1   \n",
       "13778    YBR200W     YNL271C            BEM1             BNI1   \n",
       "13779    YBR200W     YER155C            BEM1             BEM2   \n",
       "14385    YBR200W     YHR206W            BEM1             SKN7   \n",
       "\n",
       "                                  gene-query-description  \\\n",
       "2846   SRO1|phosphatidylinositol-3-phosphate-binding ...   \n",
       "2847   SRO1|phosphatidylinositol-3-phosphate-binding ...   \n",
       "5004   SRO1|phosphatidylinositol-3-phosphate-binding ...   \n",
       "13777  SRO1|phosphatidylinositol-3-phosphate-binding ...   \n",
       "13778  SRO1|phosphatidylinositol-3-phosphate-binding ...   \n",
       "13779  SRO1|phosphatidylinositol-3-phosphate-binding ...   \n",
       "14385  SRO1|phosphatidylinositol-3-phosphate-binding ...   \n",
       "\n",
       "                                 gene-target-description     interaction-type  \\\n",
       "2846                           IPL2|SUP9|TSL1|L000000168  Synthetic Lethality   \n",
       "2847   CLS4|Rho family guanine nucleotide exchange fa...  Synthetic Lethality   \n",
       "5004                                          L000001184  Synthetic Lethality   \n",
       "13777                                    KNR4|L000000909  Synthetic Lethality   \n",
       "13778                   PPF3|SHE5|formin BNI1|L000000190  Synthetic Lethality   \n",
       "13779                          IPL2|SUP9|TSL1|L000000168  Synthetic Lethality   \n",
       "14385  BRY1|POS9|kinase-regulated stress-responsive t...     Dosage Lethality   \n",
       "\n",
       "            paper-source  \n",
       "2846   Peterson J (1994)  \n",
       "2847   Peterson J (1994)  \n",
       "5004     Bender A (1991)  \n",
       "13777   Gorelik M (2011)  \n",
       "13778   Gorelik M (2011)  \n",
       "13779   Gorelik M (2011)  \n",
       "14385   Bouquin N (1999)  "
      ]
     },
     "execution_count": 36,
     "metadata": {},
     "output_type": "execute_result"
    }
   ],
   "source": [
    "data_sl[data_sl['gene-query-name']=='BEM1']"
   ]
  },
  {
   "cell_type": "code",
   "execution_count": null,
   "metadata": {},
   "outputs": [],
   "source": []
  }
 ],
 "metadata": {
  "jupytext": {
   "text_representation": {
    "extension": ".md",
    "format_name": "myst"
   }
  },
  "kernelspec": {
   "display_name": "Python 3",
   "language": "python",
   "name": "python3"
  },
  "language_info": {
   "codemirror_mode": {
    "name": "ipython",
    "version": 3
   },
   "file_extension": ".py",
   "mimetype": "text/x-python",
   "name": "python",
   "nbconvert_exporter": "python",
   "pygments_lexer": "ipython3",
   "version": "3.7.8"
  },
  "source_map": [
   10,
   18,
   29,
   36,
   57,
   66,
   98,
   101,
   105,
   128,
   131,
   135,
   139,
   145,
   178,
   184,
   188,
   206,
   210,
   218,
   222,
   225,
   229,
   234,
   238,
   244,
   248,
   253,
   257,
   267,
   269,
   273,
   306,
   311,
   313,
   317,
   328,
   330,
   334,
   344,
   348,
   358,
   360,
   364,
   381,
   388,
   394,
   400,
   407,
   412,
   419,
   424,
   428,
   432
  ]
 },
 "nbformat": 4,
 "nbformat_minor": 4
}