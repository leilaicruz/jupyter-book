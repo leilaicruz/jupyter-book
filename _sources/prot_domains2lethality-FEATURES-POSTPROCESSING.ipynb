{
 "cells": [
  {
   "cell_type": "markdown",
   "metadata": {},
   "source": [
    "# Feature postprocessing from paper.\n",
    "- Title:  \"Predicting yeast synthetic lethal genetic interactions using protein domains\"\n",
    "- Authors: Bo Li, Feng Luo,School of Computing,Clemson University,Clemson, SC, USA\n",
    "- e-mail: bol, luofeng@clemson.edu\n",
    "- year:2009"
   ]
  },
  {
   "cell_type": "code",
   "execution_count": 1,
   "metadata": {
    "execution": {
     "iopub.execute_input": "2020-08-13T12:18:01.654942Z",
     "iopub.status.busy": "2020-08-13T12:18:01.653293Z",
     "iopub.status.idle": "2020-08-13T12:18:02.419040Z",
     "shell.execute_reply": "2020-08-13T12:18:02.417829Z"
    }
   },
   "outputs": [],
   "source": [
    "import pandas as pd\n",
    "import numpy as np\n",
    "import matplotlib.pyplot as plt\n",
    "from collections import defaultdict \n",
    "import seaborn as sns\n",
    "import matplotlib.cm as cm\n",
    "import scipy as scipy\n",
    "import random"
   ]
  },
  {
   "cell_type": "markdown",
   "metadata": {
    "jupyter": {
     "source_hidden": true
    }
   },
   "source": [
    "### Importing datasets \n",
    "\n",
    "#### Link to the github repo where the datasets to be downloaded:\n",
    "[DOWNLOAD THE DATASETS HERE](https://github.com/leilaicruz/machine-learning-for-yeast/tree/dev_Leila/datasets-for-learning)"
   ]
  },
  {
   "cell_type": "code",
   "execution_count": 2,
   "metadata": {
    "execution": {
     "iopub.execute_input": "2020-08-13T12:18:02.426198Z",
     "iopub.status.busy": "2020-08-13T12:18:02.424693Z",
     "iopub.status.idle": "2020-08-13T12:18:10.352012Z",
     "shell.execute_reply": "2020-08-13T12:18:10.350963Z"
    }
   },
   "outputs": [],
   "source": [
    "import os\n",
    "script_dir = os.path.dirname('__file__') #<-- absolute dir the script is in\n",
    "rel_path_SL = \"datasets/data-synthetic-lethals.xlsx\"\n",
    "rel_path_nSL=\"datasets/data-positive-genetic.xlsx\"\n",
    "rel_path_domains=\"datasets/proteins-domains-from-Pfam.xlsx\"\n",
    "\n",
    "abs_file_path_SL = os.path.join(script_dir, rel_path_SL)\n",
    "abs_file_path_nSL = os.path.join(script_dir, rel_path_nSL)\n",
    "abs_file_path_domains = os.path.join(script_dir, rel_path_domains)\n",
    "\n",
    "# os.chdir('mini_book/docs/') #<-- for binder os.chdir('../')\n",
    "# os.chdir('../')\n",
    "my_path_sl= abs_file_path_SL\n",
    "my_path_non_sl=abs_file_path_nSL\n",
    "my_path_domains=abs_file_path_domains\n",
    "\n",
    "data_sl=pd.read_excel(my_path_sl,header=0)\n",
    "data_domains=pd.read_excel(my_path_domains,header=0,index_col='Unnamed: 0')\n",
    "data_domains=data_domains.dropna()\n",
    "data_nonsl=pd.read_excel(my_path_non_sl,header=0)"
   ]
  },
  {
   "cell_type": "markdown",
   "metadata": {},
   "source": [
    "## Building the feature matrix\n",
    "One matrix for true SL where each row is one pair of SL. Every raw will be a vector of 0,1 or 2 depending on the comparison with the domain list. For row i the jth element = 0 if the jth element of the domain list is not in neither protein A and B, 1, if it is in one of them and 2 if it is in both of them .\n",
    "\n",
    "### Building the list of proteins domains id per protein pair separately :\n",
    "- List of protein A: Search for the Sl/nSL database the query gene name and look in the protein domain database which protein domains id has each of those queries.\n",
    "- List of protein B: Search for the Sl/nSL database the target gene name of the previous query and look in the protein domain database which protein domains id has each of those target genes."
   ]
  },
  {
   "cell_type": "code",
   "execution_count": 3,
   "metadata": {
    "execution": {
     "iopub.execute_input": "2020-08-13T12:18:11.053769Z",
     "iopub.status.busy": "2020-08-13T12:18:10.364081Z",
     "iopub.status.idle": "2020-08-13T12:18:12.247165Z",
     "shell.execute_reply": "2020-08-13T12:18:12.246667Z"
    }
   },
   "outputs": [],
   "source": [
    "# Selecting the meaningful columns in the respective dataset\n",
    "domain_id_list=data_domains['domain-name']\n",
    "query_gene=data_sl['gene-query-name']\n",
    "target_gene=data_sl['gene-target-name']\n",
    "query_gene_nonlethal=data_nonsl['gene-query-name']\n",
    "target_gene_nonlethal=data_nonsl['gene-target-name']\n",
    "\n",
    "\n",
    "\n",
    "# Initialising the arrays\n",
    "protein_a_list=[]\n",
    "protein_b_list=[]\n",
    "protein_a_list_non=[]\n",
    "protein_b_list_non=[]\n",
    "\n",
    "population = np.arange(0,len(data_sl))\n",
    "\n",
    "# For loop for 10000 pairs sampled randomly from the SL/nSl pair list , and creating a big array of proteind domains id per protein pair\n",
    "\n",
    "for m in random.sample(list(population), 500):\n",
    "    protein_a=data_domains[data_domains['name']==query_gene[m]]\n",
    "    protein_b=data_domains[data_domains['name']==target_gene[m]]\n",
    "    protein_a_list.append(protein_a['domain-name'].tolist())\n",
    "    protein_b_list.append(protein_b['domain-name'].tolist())\n",
    "\n",
    "    protein_a_non=data_domains[data_domains['name']==query_gene_nonlethal[m]]\n",
    "    protein_b_non=data_domains[data_domains['name']==target_gene_nonlethal[m]]\n",
    "    protein_a_list_non.append(protein_a_non['domain-name'].tolist())\n",
    "    protein_b_list_non.append(protein_b_non['domain-name'].tolist())"
   ]
  },
  {
   "cell_type": "code",
   "execution_count": 4,
   "metadata": {
    "execution": {
     "iopub.execute_input": "2020-08-13T12:18:12.252349Z",
     "iopub.status.busy": "2020-08-13T12:18:12.251025Z",
     "iopub.status.idle": "2020-08-13T12:18:12.255511Z",
     "shell.execute_reply": "2020-08-13T12:18:12.255914Z"
    }
   },
   "outputs": [
    {
     "name": "stdout",
     "output_type": "stream",
     "text": [
      "We are going to analyze 500 protein pairs, out of 17871 SL protein pairs\n",
      "We are going to analyze 500 protein pairs, out of 43340 positive protein pairs\n"
     ]
    }
   ],
   "source": [
    "print('We are going to analyze',len((protein_a_list)) ,'protein pairs, out of',len(data_sl),'SL protein pairs')\n",
    "print('We are going to analyze',len((protein_a_list_non)) ,'protein pairs, out of',len(data_nonsl),'positive protein pairs')"
   ]
  },
  {
   "cell_type": "markdown",
   "metadata": {},
   "source": [
    "### Postprocessing #1:  Remove protein pairs from study if either protein in the pair does not contain any domain"
   ]
  },
  {
   "cell_type": "code",
   "execution_count": 5,
   "metadata": {
    "execution": {
     "iopub.execute_input": "2020-08-13T12:18:12.265554Z",
     "iopub.status.busy": "2020-08-13T12:18:12.261815Z",
     "iopub.status.idle": "2020-08-13T12:18:12.268358Z",
     "shell.execute_reply": "2020-08-13T12:18:12.268759Z"
    }
   },
   "outputs": [],
   "source": [
    "def remove_empty_domains(protein_list_search,protein_list_pair):\n",
    "    index=[]\n",
    "    for i in np.arange(0,len(protein_list_search)):\n",
    "        if protein_list_search[i]==[] or protein_list_pair[i]==[]:\n",
    "            index.append(i) ## index of empty values for the protein_a_list meaning they dont have any annotated domain\n",
    "\n",
    "    y=[x for x in np.arange(0,len(protein_list_search)) if x not in index] # a list with non empty values from protein_a list\n",
    "\n",
    "    protein_list_search_new=[]\n",
    "    protein_list_pair_new=[]\n",
    "    for i in y:\n",
    "        protein_list_search_new.append(protein_list_search[i])\n",
    "        protein_list_pair_new.append(protein_list_pair[i])\n",
    "    return protein_list_search_new,protein_list_pair_new\n",
    "\n",
    "## evaluating the function\n",
    "\n",
    "protein_a_list_new,protein_b_list_new=remove_empty_domains(protein_a_list,protein_b_list)\n",
    "\n",
    "protein_a_list_non_new,protein_b_list_non_new=remove_empty_domains(protein_a_list_non,protein_b_list_non)"
   ]
  },
  {
   "cell_type": "code",
   "execution_count": 6,
   "metadata": {
    "execution": {
     "iopub.execute_input": "2020-08-13T12:18:12.274124Z",
     "iopub.status.busy": "2020-08-13T12:18:12.273596Z",
     "iopub.status.idle": "2020-08-13T12:18:12.277478Z",
     "shell.execute_reply": "2020-08-13T12:18:12.277035Z"
    }
   },
   "outputs": [
    {
     "name": "stdout",
     "output_type": "stream",
     "text": [
      "The empty domain in the SL were: 93 out of 500 domains\n",
      "The empty domain in the nSL were: 88 out of 500 domains\n"
     ]
    }
   ],
   "source": [
    "print('The empty domain in the SL were:', len(protein_a_list)-len(protein_a_list_new), 'out of', len(protein_a_list),'domains')\n",
    "print('The empty domain in the nSL were:', len(protein_a_list_non)-len(protein_a_list_non_new), 'out of', len(protein_a_list_non),'domains')"
   ]
  },
  {
   "cell_type": "markdown",
   "metadata": {},
   "source": [
    "### Feature engineering: Select from each ordered indexes of domain id list which of them appear once, in both or in any of the domains of each protein pair"
   ]
  },
  {
   "cell_type": "markdown",
   "metadata": {},
   "source": [
    "#### Define function `get_indexes`"
   ]
  },
  {
   "cell_type": "code",
   "execution_count": 7,
   "metadata": {
    "execution": {
     "iopub.execute_input": "2020-08-13T12:18:12.284436Z",
     "iopub.status.busy": "2020-08-13T12:18:12.283888Z",
     "iopub.status.idle": "2020-08-13T12:18:12.286549Z",
     "shell.execute_reply": "2020-08-13T12:18:12.286973Z"
    }
   },
   "outputs": [
    {
     "data": {
      "text/plain": [
       "[1, 2]"
      ]
     },
     "execution_count": 7,
     "metadata": {},
     "output_type": "execute_result"
    }
   ],
   "source": [
    "get_indexes = lambda x, xs: [i for (y, i) in zip(xs, range(len(xs))) if x == y] # a function that give the index of whether a value appear in array or not\n",
    "a=[1,2,2,4,5,6,7,8,9,10]\n",
    "get_indexes(2,a)"
   ]
  },
  {
   "cell_type": "code",
   "execution_count": 8,
   "metadata": {
    "execution": {
     "iopub.execute_input": "2020-08-13T12:18:12.296512Z",
     "iopub.status.busy": "2020-08-13T12:18:12.295341Z",
     "iopub.status.idle": "2020-08-13T12:18:12.297111Z",
     "shell.execute_reply": "2020-08-13T12:18:12.297529Z"
    }
   },
   "outputs": [],
   "source": [
    "def feature_building(protein_a_list_new,protein_b_list_new):\n",
    "    x = np.unique(domain_id_list)\n",
    "    ## To avoid taking repeated domains from one protein of the pairs , lets reduced the domains of each protein from the pairs to their unique members\n",
    "    protein_a_list_unique=[]\n",
    "    protein_b_list_unique=[]\n",
    "    for i in np.arange(0,len(protein_a_list_new)):\n",
    "        protein_a_list_unique.append(np.unique(protein_a_list_new[i]))\n",
    "        protein_b_list_unique.append(np.unique(protein_b_list_new[i]))\n",
    "        \n",
    "    protein_feat_true=np.zeros(shape=(len(x),len(protein_a_list_unique)))\n",
    "    pair_a_b_array=[]\n",
    "    for i in np.arange(0,len(protein_a_list_unique)):\n",
    "        index_a=[]\n",
    "        \n",
    "        pair=[protein_a_list_unique[i],protein_b_list_unique[i]]\n",
    "        pair_a_b=np.concatenate(pair).ravel()\n",
    "        pair_a_b_array.append(pair_a_b)\n",
    "\n",
    "    j=0\n",
    "    for i in pair_a_b_array:  \n",
    "        array,index,counts=np.unique(i,return_index=True,return_counts=True)\n",
    "        \n",
    "        for k,m in zip(counts,array):\n",
    "            if k ==2:\n",
    "                protein_feat_true[get_indexes(m,x),j]=2\n",
    "                \n",
    "            if k==1:\n",
    "                protein_feat_true[get_indexes(m,x),j]=1\n",
    "        j=j+1\n",
    "    return protein_feat_true"
   ]
  },
  {
   "cell_type": "code",
   "execution_count": 9,
   "metadata": {
    "execution": {
     "iopub.execute_input": "2020-08-13T12:18:12.306593Z",
     "iopub.status.busy": "2020-08-13T12:18:12.306031Z",
     "iopub.status.idle": "2020-08-13T12:18:12.944804Z",
     "shell.execute_reply": "2020-08-13T12:18:12.943902Z"
    }
   },
   "outputs": [],
   "source": [
    "protein_feat_true=feature_building(protein_b_list_new=protein_b_list_new,protein_a_list_new=protein_a_list_new)\n",
    "protein_feat_true_pd=pd.DataFrame(protein_feat_true.T)\n",
    "\n",
    "protein_feat_non_true=feature_building(protein_b_list_new=protein_b_list_non_new,protein_a_list_new=protein_a_list_non_new)\n",
    "protein_feat_non_true_pd=pd.DataFrame(protein_feat_non_true.T)"
   ]
  },
  {
   "cell_type": "markdown",
   "metadata": {},
   "source": [
    "### How many ones and twos are in each dataset"
   ]
  },
  {
   "cell_type": "code",
   "execution_count": 10,
   "metadata": {
    "execution": {
     "iopub.execute_input": "2020-08-13T12:18:12.951412Z",
     "iopub.status.busy": "2020-08-13T12:18:12.950875Z",
     "iopub.status.idle": "2020-08-13T12:18:13.069460Z",
     "shell.execute_reply": "2020-08-13T12:18:13.068961Z"
    }
   },
   "outputs": [
    {
     "name": "stdout",
     "output_type": "stream",
     "text": [
      "fraction of twos in the SL array is 2.680366316729953e-05\n",
      "fraction of ones in the SL array is 0.0009754908928462648\n",
      "fraction of twos in the PI array is 9.628500361068764e-06\n",
      "fraction of ones in the PI array is 0.0008874267832785044\n"
     ]
    }
   ],
   "source": [
    "index_2_true=protein_feat_true_pd.where(protein_feat_true_pd==2)\n",
    "index_2_true_count=index_2_true.count(axis=1).sum()\n",
    "\n",
    "index_1_true=protein_feat_true_pd.where(protein_feat_true_pd==1)\n",
    "index_1_true_count=index_1_true.count(axis=1).sum()\n",
    "\n",
    "index_2_nontrue=protein_feat_non_true_pd.where(protein_feat_non_true_pd==2)\n",
    "index_2_nontrue_count=index_2_nontrue.count(axis=1).sum()\n",
    "\n",
    "index_1_nontrue=protein_feat_non_true_pd.where(protein_feat_non_true_pd==1)\n",
    "index_1_nontrue_count=index_1_nontrue.count(axis=1).sum()\n",
    "\n",
    "\n",
    "print('fraction of twos in the SL array is',index_2_true_count/(len(protein_feat_true_pd.index)*len(protein_feat_true_pd.columns)))\n",
    "print('fraction of ones in the SL array is',index_1_true_count/(len(protein_feat_true_pd.index)*len(protein_feat_true_pd.columns)))\n",
    "print('fraction of twos in the PI array is',index_2_nontrue_count/(len(protein_feat_non_true_pd.index)*len(protein_feat_non_true_pd.columns)))\n",
    "print('fraction of ones in the PI array is',index_1_nontrue_count/(len(protein_feat_non_true_pd.index)*len(protein_feat_non_true_pd.columns)))"
   ]
  },
  {
   "cell_type": "markdown",
   "metadata": {},
   "source": [
    "#### Bar plot to visualize these numbers"
   ]
  },
  {
   "cell_type": "code",
   "execution_count": 11,
   "metadata": {
    "execution": {
     "iopub.execute_input": "2020-08-13T12:18:13.091558Z",
     "iopub.status.busy": "2020-08-13T12:18:13.089091Z",
     "iopub.status.idle": "2020-08-13T12:18:13.524723Z",
     "shell.execute_reply": "2020-08-13T12:18:13.524226Z"
    }
   },
   "outputs": [
    {
     "data": {
      "text/plain": [
       "([0, 1, 2, 3],\n",
       " [Text(0, 0, ''), Text(0, 0, ''), Text(0, 0, ''), Text(0, 0, '')])"
      ]
     },
     "execution_count": 11,
     "metadata": {},
     "output_type": "execute_result"
    },
    {
     "data": {
      "image/png": "[encoded data removed]",
      "text/plain": [
       "<Figure size 432x288 with 1 Axes>"
      ]
     },
     "metadata": {
      "filenames": {
       "image/png": "/home/runner/work/jupyter-book/jupyter-book/mini_book/docs/_build/jupyter_execute/prot_domains2lethality-FEATURES-POSTPROCESSING_18_1.png"
      },
      "needs_background": "light"
     },
     "output_type": "display_data"
    }
   ],
   "source": [
    "plt.bar(['fraction of 2 in the nSL','fraction of 1 in the nSL'],[index_2_nontrue_count/(len(protein_feat_non_true_pd.index)*len(protein_feat_non_true_pd.columns)),index_1_nontrue_count/(len(protein_feat_non_true_pd.index)*len(protein_feat_non_true_pd.columns))],alpha=0.6,color=['blue','lightblue']), \n",
    "\n",
    "plt.bar(['fraction of 2 in SL ','fraction of 1 in SL'],[index_2_true_count/(len(protein_feat_true_pd.index)*len(protein_feat_true_pd.columns)),index_1_true_count/(len(protein_feat_true_pd.index)*len(protein_feat_true_pd.columns))],alpha=0.6,color=['coral','lightcoral'])\n",
    "\n",
    "plt.ylabel('Fraction from the population')\n",
    "plt.yscale('log')\n",
    "plt.xticks(rotation=40)"
   ]
  },
  {
   "cell_type": "markdown",
   "metadata": {},
   "source": [
    "#### Adding the labels(response variables) to each dataset"
   ]
  },
  {
   "cell_type": "code",
   "execution_count": 12,
   "metadata": {
    "execution": {
     "iopub.execute_input": "2020-08-13T12:18:13.531685Z",
     "iopub.status.busy": "2020-08-13T12:18:13.530299Z",
     "iopub.status.idle": "2020-08-13T12:18:13.534210Z",
     "shell.execute_reply": "2020-08-13T12:18:13.534670Z"
    }
   },
   "outputs": [],
   "source": [
    "protein_feat_true_pd['lethality']=np.ones(shape=(len(protein_a_list_new)))\n",
    "protein_feat_non_true_pd['lethality']=np.zeros(shape=(len(protein_a_list_non_new)))"
   ]
  },
  {
   "cell_type": "markdown",
   "metadata": {},
   "source": [
    "#### Joining both datasets"
   ]
  },
  {
   "cell_type": "code",
   "execution_count": 13,
   "metadata": {
    "execution": {
     "iopub.execute_input": "2020-08-13T12:18:13.539306Z",
     "iopub.status.busy": "2020-08-13T12:18:13.538569Z",
     "iopub.status.idle": "2020-08-13T12:18:13.576929Z",
     "shell.execute_reply": "2020-08-13T12:18:13.576141Z"
    }
   },
   "outputs": [
    {
     "name": "stdout",
     "output_type": "stream",
     "text": [
      "The number of features are: 3026\n",
      "The number of samples are: 819\n"
     ]
    }
   ],
   "source": [
    "feature_post=pd.concat([protein_feat_true_pd,protein_feat_non_true_pd],axis=0)\n",
    "feature_post=feature_post.set_index(np.arange(0,len(protein_a_list_new)+len(protein_a_list_non_new)))\n",
    "print('The number of features are:',feature_post.shape[1])\n",
    "print('The number of samples are:',feature_post.shape[0])"
   ]
  },
  {
   "cell_type": "markdown",
   "metadata": {},
   "source": [
    "### Postprocessing and exploration of the feature matrix of both datasets"
   ]
  },
  {
   "cell_type": "code",
   "execution_count": 14,
   "metadata": {
    "execution": {
     "iopub.execute_input": "2020-08-13T12:18:13.594571Z",
     "iopub.status.busy": "2020-08-13T12:18:13.582519Z",
     "iopub.status.idle": "2020-08-13T12:18:17.139486Z",
     "shell.execute_reply": "2020-08-13T12:18:17.138665Z"
    }
   },
   "outputs": [],
   "source": [
    "mean=feature_post.T.describe().loc['mean']\n",
    "std=feature_post.T.describe().loc['std']\n",
    "lethality=feature_post['lethality']\n",
    "\n",
    "corr_keys=pd.concat([mean,std,lethality],axis=1)"
   ]
  },
  {
   "cell_type": "markdown",
   "metadata": {},
   "source": [
    "### Viz of the stats"
   ]
  },
  {
   "cell_type": "code",
   "execution_count": 15,
   "metadata": {
    "execution": {
     "iopub.execute_input": "2020-08-13T12:18:17.159187Z",
     "iopub.status.busy": "2020-08-13T12:18:17.144293Z",
     "iopub.status.idle": "2020-08-13T12:18:18.525137Z",
     "shell.execute_reply": "2020-08-13T12:18:18.525544Z"
    }
   },
   "outputs": [
    {
     "data": {
      "text/plain": [
       "Text(0.5, 1.08, 'Pairplot to see data dependencies with Lethality')"
      ]
     },
     "execution_count": 15,
     "metadata": {},
     "output_type": "execute_result"
    },
    {
     "data": {
      "image/png": "[encoded data removed]",
      "text/plain": [
       "<Figure size 412x360 with 6 Axes>"
      ]
     },
     "metadata": {
      "filenames": {
       "image/png": "/home/runner/work/jupyter-book/jupyter-book/mini_book/docs/_build/jupyter_execute/prot_domains2lethality-FEATURES-POSTPROCESSING_26_1.png"
      },
      "needs_background": "light"
     },
     "output_type": "display_data"
    }
   ],
   "source": [
    "pair=sns.pairplot(corr_keys,hue='lethality',diag_kind='kde',kind='reg',palette='colorblind')\n",
    "pair.fig.suptitle('Pairplot to see data dependencies with Lethality',y=1.08)"
   ]
  },
  {
   "cell_type": "code",
   "execution_count": 16,
   "metadata": {
    "execution": {
     "iopub.execute_input": "2020-08-13T12:18:18.536176Z",
     "iopub.status.busy": "2020-08-13T12:18:18.535640Z",
     "iopub.status.idle": "2020-08-13T12:18:18.539314Z",
     "shell.execute_reply": "2020-08-13T12:18:18.538848Z"
    }
   },
   "outputs": [],
   "source": [
    "X, y = feature_post.drop(columns=[\"lethality\"]), feature_post[\"lethality\"]"
   ]
  },
  {
   "cell_type": "code",
   "execution_count": 17,
   "metadata": {
    "execution": {
     "iopub.execute_input": "2020-08-13T12:18:18.543664Z",
     "iopub.status.busy": "2020-08-13T12:18:18.543152Z",
     "iopub.status.idle": "2020-08-13T12:18:18.764762Z",
     "shell.execute_reply": "2020-08-13T12:18:18.764249Z"
    }
   },
   "outputs": [],
   "source": [
    "from sklearn.preprocessing import StandardScaler\n",
    "scaler = StandardScaler()\n",
    "x_sl=protein_feat_true_pd.drop(columns=['lethality'])\n",
    "x_nsl=protein_feat_non_true_pd.drop(columns=['lethality'])\n",
    "\n",
    "X_sl_scaled = scaler.fit_transform(x_sl)\n",
    "X_nsl_scaled = scaler.fit_transform(x_nsl)"
   ]
  },
  {
   "cell_type": "code",
   "execution_count": 18,
   "metadata": {
    "execution": {
     "iopub.execute_input": "2020-08-13T12:18:18.769228Z",
     "iopub.status.busy": "2020-08-13T12:18:18.768608Z",
     "iopub.status.idle": "2020-08-13T12:18:18.772038Z",
     "shell.execute_reply": "2020-08-13T12:18:18.772443Z"
    }
   },
   "outputs": [
    {
     "data": {
      "text/plain": [
       "(407, 3025)"
      ]
     },
     "execution_count": 18,
     "metadata": {},
     "output_type": "execute_result"
    }
   ],
   "source": [
    "np.shape(X_sl_scaled)"
   ]
  },
  {
   "cell_type": "markdown",
   "metadata": {},
   "source": [
    "## How redundant are each of the protein domains?"
   ]
  },
  {
   "cell_type": "code",
   "execution_count": 19,
   "metadata": {
    "execution": {
     "iopub.execute_input": "2020-08-13T12:18:18.779007Z",
     "iopub.status.busy": "2020-08-13T12:18:18.778480Z",
     "iopub.status.idle": "2020-08-13T12:18:18.781828Z",
     "shell.execute_reply": "2020-08-13T12:18:18.781371Z"
    }
   },
   "outputs": [],
   "source": [
    "def PCA_component_contribution(scaled_matrix,original_data):\n",
    "    from sklearn.decomposition import PCA\n",
    "\n",
    "    model = PCA(0.95).fit(scaled_matrix)\n",
    "    ## apply dimensionality reduction to X_train\n",
    "    output_pca = model.transform(scaled_matrix)\n",
    "    \n",
    "    total=sum(model.explained_variance_)\n",
    "\n",
    "\n",
    "   \n",
    "    # number of components , that it will be the number of main axes times the number of original components \n",
    "    n_pcs= model.components_.shape[0] # the amount of non redundant protein domains \n",
    "\n",
    "    # get the index of the most important feature on EACH component\n",
    "    # LIST COMPREHENSION HERE\n",
    "    most_important = [np.abs(model.components_[i]).argmax() for i in range(n_pcs)]\n",
    "\n",
    "    initial_feature_names = original_data.columns\n",
    "    # get the names\n",
    "    most_important_names = [initial_feature_names[most_important[i]] for i in range(n_pcs)]\n",
    "    \n",
    "\n",
    "    # LIST COMPREHENSION HERE AGAIN\n",
    "    dic = {'PC{}'.format(i): most_important_names[i] for i in range(n_pcs)}\n",
    "\n",
    "    # build the dataframe\n",
    "    df = pd.DataFrame(dic.items(),columns=['pca-component','domain-number'])\n",
    "\n",
    "    return df,model.components_"
   ]
  },
  {
   "cell_type": "code",
   "execution_count": 20,
   "metadata": {
    "execution": {
     "iopub.execute_input": "2020-08-13T12:18:18.785526Z",
     "iopub.status.busy": "2020-08-13T12:18:18.785015Z",
     "iopub.status.idle": "2020-08-13T12:18:19.413093Z",
     "shell.execute_reply": "2020-08-13T12:18:19.413894Z"
    }
   },
   "outputs": [],
   "source": [
    "df_sl,components_pca_nsl=PCA_component_contribution(X_nsl_scaled,x_nsl)\n",
    "df_nsl,components_pca_sl=PCA_component_contribution(X_sl_scaled,x_sl)"
   ]
  },
  {
   "cell_type": "code",
   "execution_count": 21,
   "metadata": {
    "execution": {
     "iopub.execute_input": "2020-08-13T12:18:19.417223Z",
     "iopub.status.busy": "2020-08-13T12:18:19.416149Z",
     "iopub.status.idle": "2020-08-13T12:18:19.426839Z",
     "shell.execute_reply": "2020-08-13T12:18:19.427563Z"
    }
   },
   "outputs": [
    {
     "data": {
      "text/html": [
       "<div>\n",
       "<style scoped>\n",
       "    .dataframe tbody tr th:only-of-type {\n",
       "        vertical-align: middle;\n",
       "    }\n",
       "\n",
       "    .dataframe tbody tr th {\n",
       "        vertical-align: top;\n",
       "    }\n",
       "\n",
       "    .dataframe thead th {\n",
       "        text-align: right;\n",
       "    }\n",
       "</style>\n",
       "<table border=\"1\" class=\"dataframe\">\n",
       "  <thead>\n",
       "    <tr style=\"text-align: right;\">\n",
       "      <th></th>\n",
       "      <th>pca-component</th>\n",
       "      <th>domain-number</th>\n",
       "    </tr>\n",
       "  </thead>\n",
       "  <tbody>\n",
       "    <tr>\n",
       "      <th>0</th>\n",
       "      <td>PC0</td>\n",
       "      <td>135</td>\n",
       "    </tr>\n",
       "    <tr>\n",
       "      <th>1</th>\n",
       "      <td>PC1</td>\n",
       "      <td>2771</td>\n",
       "    </tr>\n",
       "    <tr>\n",
       "      <th>2</th>\n",
       "      <td>PC2</td>\n",
       "      <td>305</td>\n",
       "    </tr>\n",
       "    <tr>\n",
       "      <th>3</th>\n",
       "      <td>PC3</td>\n",
       "      <td>121</td>\n",
       "    </tr>\n",
       "    <tr>\n",
       "      <th>4</th>\n",
       "      <td>PC4</td>\n",
       "      <td>2</td>\n",
       "    </tr>\n",
       "  </tbody>\n",
       "</table>\n",
       "</div>"
      ],
      "text/plain": [
       "  pca-component  domain-number\n",
       "0           PC0            135\n",
       "1           PC1           2771\n",
       "2           PC2            305\n",
       "3           PC3            121\n",
       "4           PC4              2"
      ]
     },
     "execution_count": 21,
     "metadata": {},
     "output_type": "execute_result"
    }
   ],
   "source": [
    "df_sl.head()"
   ]
  },
  {
   "cell_type": "markdown",
   "metadata": {},
   "source": [
    "## which are the shared domains between nSL and SL pairs , in the PCA reduced samples"
   ]
  },
  {
   "cell_type": "code",
   "execution_count": 22,
   "metadata": {
    "execution": {
     "iopub.execute_input": "2020-08-13T12:18:19.430864Z",
     "iopub.status.busy": "2020-08-13T12:18:19.429789Z",
     "iopub.status.idle": "2020-08-13T12:18:19.462792Z",
     "shell.execute_reply": "2020-08-13T12:18:19.463547Z"
    }
   },
   "outputs": [
    {
     "data": {
      "text/html": [
       "<div>\n",
       "<style scoped>\n",
       "    .dataframe tbody tr th:only-of-type {\n",
       "        vertical-align: middle;\n",
       "    }\n",
       "\n",
       "    .dataframe tbody tr th {\n",
       "        vertical-align: top;\n",
       "    }\n",
       "\n",
       "    .dataframe thead th {\n",
       "        text-align: right;\n",
       "    }\n",
       "</style>\n",
       "<table border=\"1\" class=\"dataframe\">\n",
       "  <thead>\n",
       "    <tr style=\"text-align: right;\">\n",
       "      <th></th>\n",
       "      <th>pca-component_x</th>\n",
       "      <th>domain-number</th>\n",
       "      <th>pca-component_y</th>\n",
       "      <th>domain-description</th>\n",
       "    </tr>\n",
       "  </thead>\n",
       "  <tbody>\n",
       "    <tr>\n",
       "      <th>0</th>\n",
       "      <td>PC1</td>\n",
       "      <td>2771</td>\n",
       "      <td>PC4</td>\n",
       "      <td>Ubiq-assoc; Ubiquitin-associated domain, SWA2-...</td>\n",
       "    </tr>\n",
       "    <tr>\n",
       "      <th>1</th>\n",
       "      <td>PC2</td>\n",
       "      <td>305</td>\n",
       "      <td>PC3</td>\n",
       "      <td>Brr6_like_C_C; Brl1/Brr6 domain</td>\n",
       "    </tr>\n",
       "    <tr>\n",
       "      <th>2</th>\n",
       "      <td>PC10</td>\n",
       "      <td>926</td>\n",
       "      <td>PC26</td>\n",
       "      <td>Flp_C; Recombinase Flp protein</td>\n",
       "    </tr>\n",
       "    <tr>\n",
       "      <th>3</th>\n",
       "      <td>PC11</td>\n",
       "      <td>926</td>\n",
       "      <td>PC26</td>\n",
       "      <td>Flp_C; Recombinase Flp protein</td>\n",
       "    </tr>\n",
       "    <tr>\n",
       "      <th>4</th>\n",
       "      <td>PC19</td>\n",
       "      <td>1677</td>\n",
       "      <td>PC29</td>\n",
       "      <td>Ost5; Oligosaccharyltransferase complex subunit</td>\n",
       "    </tr>\n",
       "    <tr>\n",
       "      <th>5</th>\n",
       "      <td>PC28</td>\n",
       "      <td>669</td>\n",
       "      <td>PC68</td>\n",
       "      <td>DUF2205; Predicted coiled-coil protein (DUF2205)</td>\n",
       "    </tr>\n",
       "    <tr>\n",
       "      <th>6</th>\n",
       "      <td>PC33</td>\n",
       "      <td>428</td>\n",
       "      <td>PC196</td>\n",
       "      <td>CTP_synth_N; CTP synthase, N-terminal</td>\n",
       "    </tr>\n",
       "    <tr>\n",
       "      <th>7</th>\n",
       "      <td>PC33</td>\n",
       "      <td>428</td>\n",
       "      <td>PC203</td>\n",
       "      <td>CTP_synth_N; CTP synthase, N-terminal</td>\n",
       "    </tr>\n",
       "    <tr>\n",
       "      <th>8</th>\n",
       "      <td>PC40</td>\n",
       "      <td>773</td>\n",
       "      <td>PC38</td>\n",
       "      <td>Dynein_light; Dynein light chain, type 1/2</td>\n",
       "    </tr>\n",
       "    <tr>\n",
       "      <th>9</th>\n",
       "      <td>PC43</td>\n",
       "      <td>2150</td>\n",
       "      <td>PC172</td>\n",
       "      <td>Ribosom_S12_S23; Ribosomal protein S12/S23</td>\n",
       "    </tr>\n",
       "    <tr>\n",
       "      <th>10</th>\n",
       "      <td>PC44</td>\n",
       "      <td>108</td>\n",
       "      <td>PC51</td>\n",
       "      <td>ATG11; Autophagy-related protein 11</td>\n",
       "    </tr>\n",
       "    <tr>\n",
       "      <th>11</th>\n",
       "      <td>PC55</td>\n",
       "      <td>35</td>\n",
       "      <td>PC127</td>\n",
       "      <td>AA_permease; Amino acid permease/ SLC12A domain</td>\n",
       "    </tr>\n",
       "    <tr>\n",
       "      <th>12</th>\n",
       "      <td>PC55</td>\n",
       "      <td>35</td>\n",
       "      <td>PC129</td>\n",
       "      <td>AA_permease; Amino acid permease/ SLC12A domain</td>\n",
       "    </tr>\n",
       "    <tr>\n",
       "      <th>13</th>\n",
       "      <td>PC65</td>\n",
       "      <td>1101</td>\n",
       "      <td>PC65</td>\n",
       "      <td>HCO3_cotransp; Bicarbonate transporter, C-term...</td>\n",
       "    </tr>\n",
       "    <tr>\n",
       "      <th>14</th>\n",
       "      <td>PC67</td>\n",
       "      <td>1701</td>\n",
       "      <td>PC152</td>\n",
       "      <td>PAP_central; Poly(A) polymerase, central domain</td>\n",
       "    </tr>\n",
       "    <tr>\n",
       "      <th>15</th>\n",
       "      <td>PC67</td>\n",
       "      <td>1701</td>\n",
       "      <td>PC153</td>\n",
       "      <td>PAP_central; Poly(A) polymerase, central domain</td>\n",
       "    </tr>\n",
       "    <tr>\n",
       "      <th>16</th>\n",
       "      <td>PC68</td>\n",
       "      <td>176</td>\n",
       "      <td>PC115</td>\n",
       "      <td>Aft1_OSA; Transcription factor Aft1, osmotic s...</td>\n",
       "    </tr>\n",
       "    <tr>\n",
       "      <th>17</th>\n",
       "      <td>PC80</td>\n",
       "      <td>2936</td>\n",
       "      <td>PC89</td>\n",
       "      <td>tRNA-synt_1c; Glutamyl/glutaminyl-tRNA synthet...</td>\n",
       "    </tr>\n",
       "    <tr>\n",
       "      <th>18</th>\n",
       "      <td>PC82</td>\n",
       "      <td>1504</td>\n",
       "      <td>PC121</td>\n",
       "      <td>Mob1_phocein; MOB kinase activator family</td>\n",
       "    </tr>\n",
       "    <tr>\n",
       "      <th>19</th>\n",
       "      <td>PC93</td>\n",
       "      <td>214</td>\n",
       "      <td>PC82</td>\n",
       "      <td>Anth_synt_I_N; Anthranilate synthase component...</td>\n",
       "    </tr>\n",
       "    <tr>\n",
       "      <th>20</th>\n",
       "      <td>PC95</td>\n",
       "      <td>107</td>\n",
       "      <td>PC160</td>\n",
       "      <td>ATE_N; Arginine-tRNA-protein transferase, N-te...</td>\n",
       "    </tr>\n",
       "    <tr>\n",
       "      <th>21</th>\n",
       "      <td>PC97</td>\n",
       "      <td>843</td>\n",
       "      <td>PC123</td>\n",
       "      <td>Enolase_C; Enolase, C-terminal TIM barrel domain</td>\n",
       "    </tr>\n",
       "    <tr>\n",
       "      <th>22</th>\n",
       "      <td>PC141</td>\n",
       "      <td>85</td>\n",
       "      <td>PC75</td>\n",
       "      <td>ANAPC3</td>\n",
       "    </tr>\n",
       "    <tr>\n",
       "      <th>23</th>\n",
       "      <td>PC154</td>\n",
       "      <td>68</td>\n",
       "      <td>PC132</td>\n",
       "      <td>AIRC; PurE domain</td>\n",
       "    </tr>\n",
       "    <tr>\n",
       "      <th>24</th>\n",
       "      <td>PC159</td>\n",
       "      <td>2228</td>\n",
       "      <td>PC180</td>\n",
       "      <td>Ribosomal_S21e; Ribosomal protein S21e</td>\n",
       "    </tr>\n",
       "    <tr>\n",
       "      <th>25</th>\n",
       "      <td>PC160</td>\n",
       "      <td>2228</td>\n",
       "      <td>PC180</td>\n",
       "      <td>Ribosomal_S21e; Ribosomal protein S21e</td>\n",
       "    </tr>\n",
       "    <tr>\n",
       "      <th>26</th>\n",
       "      <td>PC175</td>\n",
       "      <td>2568</td>\n",
       "      <td>PC66</td>\n",
       "      <td>TEA; TEA/ATTS domain</td>\n",
       "    </tr>\n",
       "    <tr>\n",
       "      <th>27</th>\n",
       "      <td>PC176</td>\n",
       "      <td>832</td>\n",
       "      <td>PC32</td>\n",
       "      <td>Ecl1; Life-span regulatory factor</td>\n",
       "    </tr>\n",
       "    <tr>\n",
       "      <th>28</th>\n",
       "      <td>PC178</td>\n",
       "      <td>1969</td>\n",
       "      <td>PC138</td>\n",
       "      <td>RAI1; RAI1-like</td>\n",
       "    </tr>\n",
       "    <tr>\n",
       "      <th>29</th>\n",
       "      <td>PC180</td>\n",
       "      <td>1969</td>\n",
       "      <td>PC138</td>\n",
       "      <td>RAI1; RAI1-like</td>\n",
       "    </tr>\n",
       "    <tr>\n",
       "      <th>30</th>\n",
       "      <td>PC181</td>\n",
       "      <td>271</td>\n",
       "      <td>PC167</td>\n",
       "      <td>BLI1</td>\n",
       "    </tr>\n",
       "    <tr>\n",
       "      <th>31</th>\n",
       "      <td>PC181</td>\n",
       "      <td>271</td>\n",
       "      <td>PC168</td>\n",
       "      <td>BLI1</td>\n",
       "    </tr>\n",
       "    <tr>\n",
       "      <th>32</th>\n",
       "      <td>PC182</td>\n",
       "      <td>27</td>\n",
       "      <td>PC165</td>\n",
       "      <td>AAA_8; Dynein heavy chain, P-loop containing D...</td>\n",
       "    </tr>\n",
       "    <tr>\n",
       "      <th>33</th>\n",
       "      <td>PC183</td>\n",
       "      <td>196</td>\n",
       "      <td>PC55</td>\n",
       "      <td>Alpha-amylase_C; Alpha-amylase/branching enzym...</td>\n",
       "    </tr>\n",
       "    <tr>\n",
       "      <th>34</th>\n",
       "      <td>PC185</td>\n",
       "      <td>1340</td>\n",
       "      <td>PC213</td>\n",
       "      <td>Lysine_decarbox; LOG family</td>\n",
       "    </tr>\n",
       "    <tr>\n",
       "      <th>35</th>\n",
       "      <td>PC190</td>\n",
       "      <td>622</td>\n",
       "      <td>PC90</td>\n",
       "      <td>DNA_topoisoIV; DNA topoisomerase, type IIA, su...</td>\n",
       "    </tr>\n",
       "    <tr>\n",
       "      <th>36</th>\n",
       "      <td>PC191</td>\n",
       "      <td>2551</td>\n",
       "      <td>PC149</td>\n",
       "      <td>TAF4; Transcription initiation factor TFIID co...</td>\n",
       "    </tr>\n",
       "    <tr>\n",
       "      <th>37</th>\n",
       "      <td>PC192</td>\n",
       "      <td>2551</td>\n",
       "      <td>PC149</td>\n",
       "      <td>TAF4; Transcription initiation factor TFIID co...</td>\n",
       "    </tr>\n",
       "    <tr>\n",
       "      <th>38</th>\n",
       "      <td>PC197</td>\n",
       "      <td>760</td>\n",
       "      <td>PC24</td>\n",
       "      <td>Dopey_N; Dopey, N-terminal</td>\n",
       "    </tr>\n",
       "    <tr>\n",
       "      <th>39</th>\n",
       "      <td>PC199</td>\n",
       "      <td>132</td>\n",
       "      <td>PC146</td>\n",
       "      <td>ATP-synt_ab; ATPase, F1/V1/A1 complex, alpha/b...</td>\n",
       "    </tr>\n",
       "    <tr>\n",
       "      <th>40</th>\n",
       "      <td>PC201</td>\n",
       "      <td>2645</td>\n",
       "      <td>PC36</td>\n",
       "      <td>Tau95; Transcription factor IIIC, subunit 5</td>\n",
       "    </tr>\n",
       "    <tr>\n",
       "      <th>41</th>\n",
       "      <td>PC202</td>\n",
       "      <td>2645</td>\n",
       "      <td>PC36</td>\n",
       "      <td>Tau95; Transcription factor IIIC, subunit 5</td>\n",
       "    </tr>\n",
       "    <tr>\n",
       "      <th>42</th>\n",
       "      <td>PC221</td>\n",
       "      <td>314</td>\n",
       "      <td>PC195</td>\n",
       "      <td>CAF1A; Chromatin assembly factor 1 subunit A</td>\n",
       "    </tr>\n",
       "    <tr>\n",
       "      <th>43</th>\n",
       "      <td>PC225</td>\n",
       "      <td>247</td>\n",
       "      <td>PC69</td>\n",
       "      <td>Autophagy_act_C; Autophagy-related protein 3</td>\n",
       "    </tr>\n",
       "    <tr>\n",
       "      <th>44</th>\n",
       "      <td>PC236</td>\n",
       "      <td>247</td>\n",
       "      <td>PC69</td>\n",
       "      <td>Autophagy_act_C; Autophagy-related protein 3</td>\n",
       "    </tr>\n",
       "    <tr>\n",
       "      <th>45</th>\n",
       "      <td>PC250</td>\n",
       "      <td>1410</td>\n",
       "      <td>PC157</td>\n",
       "      <td>MTHFR; Methylenetetrahydrofolate reductase</td>\n",
       "    </tr>\n",
       "    <tr>\n",
       "      <th>46</th>\n",
       "      <td>PC264</td>\n",
       "      <td>1410</td>\n",
       "      <td>PC157</td>\n",
       "      <td>MTHFR; Methylenetetrahydrofolate reductase</td>\n",
       "    </tr>\n",
       "    <tr>\n",
       "      <th>47</th>\n",
       "      <td>PC253</td>\n",
       "      <td>1308</td>\n",
       "      <td>PC104</td>\n",
       "      <td>LTV; Low temperature viability protein</td>\n",
       "    </tr>\n",
       "    <tr>\n",
       "      <th>48</th>\n",
       "      <td>PC274</td>\n",
       "      <td>1924</td>\n",
       "      <td>PC23</td>\n",
       "      <td>Pol_alpha_B_N; DNA polymerase alpha, subunit B...</td>\n",
       "    </tr>\n",
       "    <tr>\n",
       "      <th>49</th>\n",
       "      <td>PC275</td>\n",
       "      <td>1924</td>\n",
       "      <td>PC23</td>\n",
       "      <td>Pol_alpha_B_N; DNA polymerase alpha, subunit B...</td>\n",
       "    </tr>\n",
       "  </tbody>\n",
       "</table>\n",
       "</div>"
      ],
      "text/plain": [
       "   pca-component_x  domain-number pca-component_y  \\\n",
       "0              PC1           2771             PC4   \n",
       "1              PC2            305             PC3   \n",
       "2             PC10            926            PC26   \n",
       "3             PC11            926            PC26   \n",
       "4             PC19           1677            PC29   \n",
       "5             PC28            669            PC68   \n",
       "6             PC33            428           PC196   \n",
       "7             PC33            428           PC203   \n",
       "8             PC40            773            PC38   \n",
       "9             PC43           2150           PC172   \n",
       "10            PC44            108            PC51   \n",
       "11            PC55             35           PC127   \n",
       "12            PC55             35           PC129   \n",
       "13            PC65           1101            PC65   \n",
       "14            PC67           1701           PC152   \n",
       "15            PC67           1701           PC153   \n",
       "16            PC68            176           PC115   \n",
       "17            PC80           2936            PC89   \n",
       "18            PC82           1504           PC121   \n",
       "19            PC93            214            PC82   \n",
       "20            PC95            107           PC160   \n",
       "21            PC97            843           PC123   \n",
       "22           PC141             85            PC75   \n",
       "23           PC154             68           PC132   \n",
       "24           PC159           2228           PC180   \n",
       "25           PC160           2228           PC180   \n",
       "26           PC175           2568            PC66   \n",
       "27           PC176            832            PC32   \n",
       "28           PC178           1969           PC138   \n",
       "29           PC180           1969           PC138   \n",
       "30           PC181            271           PC167   \n",
       "31           PC181            271           PC168   \n",
       "32           PC182             27           PC165   \n",
       "33           PC183            196            PC55   \n",
       "34           PC185           1340           PC213   \n",
       "35           PC190            622            PC90   \n",
       "36           PC191           2551           PC149   \n",
       "37           PC192           2551           PC149   \n",
       "38           PC197            760            PC24   \n",
       "39           PC199            132           PC146   \n",
       "40           PC201           2645            PC36   \n",
       "41           PC202           2645            PC36   \n",
       "42           PC221            314           PC195   \n",
       "43           PC225            247            PC69   \n",
       "44           PC236            247            PC69   \n",
       "45           PC250           1410           PC157   \n",
       "46           PC264           1410           PC157   \n",
       "47           PC253           1308           PC104   \n",
       "48           PC274           1924            PC23   \n",
       "49           PC275           1924            PC23   \n",
       "\n",
       "                                   domain-description  \n",
       "0   Ubiq-assoc; Ubiquitin-associated domain, SWA2-...  \n",
       "1                     Brr6_like_C_C; Brl1/Brr6 domain  \n",
       "2                      Flp_C; Recombinase Flp protein  \n",
       "3                      Flp_C; Recombinase Flp protein  \n",
       "4     Ost5; Oligosaccharyltransferase complex subunit  \n",
       "5    DUF2205; Predicted coiled-coil protein (DUF2205)  \n",
       "6               CTP_synth_N; CTP synthase, N-terminal  \n",
       "7               CTP_synth_N; CTP synthase, N-terminal  \n",
       "8          Dynein_light; Dynein light chain, type 1/2  \n",
       "9          Ribosom_S12_S23; Ribosomal protein S12/S23  \n",
       "10                ATG11; Autophagy-related protein 11  \n",
       "11    AA_permease; Amino acid permease/ SLC12A domain  \n",
       "12    AA_permease; Amino acid permease/ SLC12A domain  \n",
       "13  HCO3_cotransp; Bicarbonate transporter, C-term...  \n",
       "14    PAP_central; Poly(A) polymerase, central domain  \n",
       "15    PAP_central; Poly(A) polymerase, central domain  \n",
       "16  Aft1_OSA; Transcription factor Aft1, osmotic s...  \n",
       "17  tRNA-synt_1c; Glutamyl/glutaminyl-tRNA synthet...  \n",
       "18          Mob1_phocein; MOB kinase activator family  \n",
       "19  Anth_synt_I_N; Anthranilate synthase component...  \n",
       "20  ATE_N; Arginine-tRNA-protein transferase, N-te...  \n",
       "21   Enolase_C; Enolase, C-terminal TIM barrel domain  \n",
       "22                                             ANAPC3  \n",
       "23                                  AIRC; PurE domain  \n",
       "24             Ribosomal_S21e; Ribosomal protein S21e  \n",
       "25             Ribosomal_S21e; Ribosomal protein S21e  \n",
       "26                               TEA; TEA/ATTS domain  \n",
       "27                  Ecl1; Life-span regulatory factor  \n",
       "28                                    RAI1; RAI1-like  \n",
       "29                                    RAI1; RAI1-like  \n",
       "30                                               BLI1  \n",
       "31                                               BLI1  \n",
       "32  AAA_8; Dynein heavy chain, P-loop containing D...  \n",
       "33  Alpha-amylase_C; Alpha-amylase/branching enzym...  \n",
       "34                        Lysine_decarbox; LOG family  \n",
       "35  DNA_topoisoIV; DNA topoisomerase, type IIA, su...  \n",
       "36  TAF4; Transcription initiation factor TFIID co...  \n",
       "37  TAF4; Transcription initiation factor TFIID co...  \n",
       "38                         Dopey_N; Dopey, N-terminal  \n",
       "39  ATP-synt_ab; ATPase, F1/V1/A1 complex, alpha/b...  \n",
       "40        Tau95; Transcription factor IIIC, subunit 5  \n",
       "41        Tau95; Transcription factor IIIC, subunit 5  \n",
       "42       CAF1A; Chromatin assembly factor 1 subunit A  \n",
       "43       Autophagy_act_C; Autophagy-related protein 3  \n",
       "44       Autophagy_act_C; Autophagy-related protein 3  \n",
       "45         MTHFR; Methylenetetrahydrofolate reductase  \n",
       "46         MTHFR; Methylenetetrahydrofolate reductase  \n",
       "47             LTV; Low temperature viability protein  \n",
       "48  Pol_alpha_B_N; DNA polymerase alpha, subunit B...  \n",
       "49  Pol_alpha_B_N; DNA polymerase alpha, subunit B...  "
      ]
     },
     "execution_count": 22,
     "metadata": {},
     "output_type": "execute_result"
    }
   ],
   "source": [
    "df_shared_domains=pd.merge(df_sl,df_nsl,how='inner',on='domain-number')\n",
    "domains_name=np.unique(data_domains['domain-name'])\n",
    "domains_description=np.unique(data_domains['domain-descrip'])\n",
    "\n",
    "df_shared_domains['domain-description']=domains_description[df_shared_domains['domain-number']]\n",
    "\n",
    "\n",
    "df_shared_domains"
   ]
  },
  {
   "cell_type": "code",
   "execution_count": 23,
   "metadata": {
    "execution": {
     "iopub.execute_input": "2020-08-13T12:18:19.466936Z",
     "iopub.status.busy": "2020-08-13T12:18:19.465857Z",
     "iopub.status.idle": "2020-08-13T12:18:19.473021Z",
     "shell.execute_reply": "2020-08-13T12:18:19.473743Z"
    }
   },
   "outputs": [
    {
     "name": "stdout",
     "output_type": "stream",
     "text": [
      "The number of shared domains between SL and nSL pairs,after PCA, is =  50 out of 567 so the 8.818342151675486 %\n"
     ]
    }
   ],
   "source": [
    "print('The number of shared domains between SL and nSL pairs,after PCA, is = ',len(df_shared_domains), 'out of', len(df_sl)+len(df_nsl), 'so the',100*len(df_shared_domains)/(len(df_sl)+len(df_nsl)),'%')"
   ]
  },
  {
   "cell_type": "markdown",
   "metadata": {},
   "source": [
    "## Domains exclusive to SL"
   ]
  },
  {
   "cell_type": "code",
   "execution_count": 24,
   "metadata": {
    "execution": {
     "iopub.execute_input": "2020-08-13T12:18:19.477071Z",
     "iopub.status.busy": "2020-08-13T12:18:19.476016Z",
     "iopub.status.idle": "2020-08-13T12:18:19.506746Z",
     "shell.execute_reply": "2020-08-13T12:18:19.507526Z"
    }
   },
   "outputs": [
    {
     "data": {
      "text/html": [
       "<div>\n",
       "<style scoped>\n",
       "    .dataframe tbody tr th:only-of-type {\n",
       "        vertical-align: middle;\n",
       "    }\n",
       "\n",
       "    .dataframe tbody tr th {\n",
       "        vertical-align: top;\n",
       "    }\n",
       "\n",
       "    .dataframe thead th {\n",
       "        text-align: right;\n",
       "    }\n",
       "</style>\n",
       "<table border=\"1\" class=\"dataframe\">\n",
       "  <thead>\n",
       "    <tr style=\"text-align: right;\">\n",
       "      <th></th>\n",
       "      <th>pca-component_x</th>\n",
       "      <th>domain-number</th>\n",
       "      <th>pca-component_y</th>\n",
       "      <th>domain-description</th>\n",
       "    </tr>\n",
       "  </thead>\n",
       "  <tbody>\n",
       "    <tr>\n",
       "      <th>0</th>\n",
       "      <td>PC0</td>\n",
       "      <td>135</td>\n",
       "      <td>NaN</td>\n",
       "      <td>ATP-synt_ab_Xtn; ATPsynthase alpha/beta subuni...</td>\n",
       "    </tr>\n",
       "    <tr>\n",
       "      <th>3</th>\n",
       "      <td>PC3</td>\n",
       "      <td>121</td>\n",
       "      <td>NaN</td>\n",
       "      <td>ATP-synt; ATP synthase, F1 complex, gamma subunit</td>\n",
       "    </tr>\n",
       "    <tr>\n",
       "      <th>4</th>\n",
       "      <td>PC4</td>\n",
       "      <td>2</td>\n",
       "      <td>NaN</td>\n",
       "      <td>2-Hacid_dh; D-isomer specific 2-hydroxyacid de...</td>\n",
       "    </tr>\n",
       "    <tr>\n",
       "      <th>5</th>\n",
       "      <td>PC5</td>\n",
       "      <td>1511</td>\n",
       "      <td>NaN</td>\n",
       "      <td>Mpv17_PMP22; Mpv17/PMP22</td>\n",
       "    </tr>\n",
       "    <tr>\n",
       "      <th>6</th>\n",
       "      <td>PC6</td>\n",
       "      <td>481</td>\n",
       "      <td>NaN</td>\n",
       "      <td>Clathrin_lg_ch; Clathrin light chain</td>\n",
       "    </tr>\n",
       "    <tr>\n",
       "      <th>...</th>\n",
       "      <td>...</td>\n",
       "      <td>...</td>\n",
       "      <td>...</td>\n",
       "      <td>...</td>\n",
       "    </tr>\n",
       "    <tr>\n",
       "      <th>285</th>\n",
       "      <td>PC281</td>\n",
       "      <td>844</td>\n",
       "      <td>NaN</td>\n",
       "      <td>Enolase_N; Enolase, N-terminal</td>\n",
       "    </tr>\n",
       "    <tr>\n",
       "      <th>286</th>\n",
       "      <td>PC282</td>\n",
       "      <td>844</td>\n",
       "      <td>NaN</td>\n",
       "      <td>Enolase_N; Enolase, N-terminal</td>\n",
       "    </tr>\n",
       "    <tr>\n",
       "      <th>287</th>\n",
       "      <td>PC283</td>\n",
       "      <td>811</td>\n",
       "      <td>NaN</td>\n",
       "      <td>EPL1; Enhancer of polycomb-like, N-terminal</td>\n",
       "    </tr>\n",
       "    <tr>\n",
       "      <th>288</th>\n",
       "      <td>PC284</td>\n",
       "      <td>1025</td>\n",
       "      <td>NaN</td>\n",
       "      <td>Gal_mutarotas_2; Glycoside hydrolase family 31...</td>\n",
       "    </tr>\n",
       "    <tr>\n",
       "      <th>289</th>\n",
       "      <td>PC285</td>\n",
       "      <td>1588</td>\n",
       "      <td>NaN</td>\n",
       "      <td>NTP_transf_2; Polymerase, nucleotidyl transfer...</td>\n",
       "    </tr>\n",
       "  </tbody>\n",
       "</table>\n",
       "<p>240 rows × 4 columns</p>\n",
       "</div>"
      ],
      "text/plain": [
       "    pca-component_x  domain-number pca-component_y  \\\n",
       "0               PC0            135             NaN   \n",
       "3               PC3            121             NaN   \n",
       "4               PC4              2             NaN   \n",
       "5               PC5           1511             NaN   \n",
       "6               PC6            481             NaN   \n",
       "..              ...            ...             ...   \n",
       "285           PC281            844             NaN   \n",
       "286           PC282            844             NaN   \n",
       "287           PC283            811             NaN   \n",
       "288           PC284           1025             NaN   \n",
       "289           PC285           1588             NaN   \n",
       "\n",
       "                                    domain-description  \n",
       "0    ATP-synt_ab_Xtn; ATPsynthase alpha/beta subuni...  \n",
       "3    ATP-synt; ATP synthase, F1 complex, gamma subunit  \n",
       "4    2-Hacid_dh; D-isomer specific 2-hydroxyacid de...  \n",
       "5                             Mpv17_PMP22; Mpv17/PMP22  \n",
       "6                 Clathrin_lg_ch; Clathrin light chain  \n",
       "..                                                 ...  \n",
       "285                     Enolase_N; Enolase, N-terminal  \n",
       "286                     Enolase_N; Enolase, N-terminal  \n",
       "287        EPL1; Enhancer of polycomb-like, N-terminal  \n",
       "288  Gal_mutarotas_2; Glycoside hydrolase family 31...  \n",
       "289  NTP_transf_2; Polymerase, nucleotidyl transfer...  \n",
       "\n",
       "[240 rows x 4 columns]"
      ]
     },
     "execution_count": 24,
     "metadata": {},
     "output_type": "execute_result"
    }
   ],
   "source": [
    "df_sl_exclusive=pd.merge(df_sl,df_nsl,how='left',on='domain-number')\n",
    "\n",
    "domains_name=np.unique(data_domains['domain-name'])\n",
    "domains_description=np.unique(data_domains['domain-descrip'])\n",
    "\n",
    "df_sl_exclusive['domain-description']=domains_description[df_sl_exclusive['domain-number']]\n",
    "df_sl_exclusive[pd.isnull(df_sl_exclusive['pca-component_y'])]"
   ]
  },
  {
   "cell_type": "code",
   "execution_count": 25,
   "metadata": {
    "execution": {
     "iopub.execute_input": "2020-08-13T12:18:19.510945Z",
     "iopub.status.busy": "2020-08-13T12:18:19.509849Z",
     "iopub.status.idle": "2020-08-13T12:18:19.516974Z",
     "shell.execute_reply": "2020-08-13T12:18:19.517701Z"
    }
   },
   "outputs": [
    {
     "name": "stdout",
     "output_type": "stream",
     "text": [
      "The number of exclusive domains from SL pairs, after PCA, is =  290 out of 567 so the 51.14638447971781 %\n"
     ]
    }
   ],
   "source": [
    "print('The number of exclusive domains from SL pairs, after PCA, is = ',len(df_sl_exclusive), 'out of', len(df_sl)+len(df_nsl), 'so the',100*len(df_sl_exclusive)/(len(df_sl)+len(df_nsl)),'%')"
   ]
  },
  {
   "cell_type": "code",
   "execution_count": 26,
   "metadata": {
    "execution": {
     "iopub.execute_input": "2020-08-13T12:18:19.520977Z",
     "iopub.status.busy": "2020-08-13T12:18:19.519912Z",
     "iopub.status.idle": "2020-08-13T12:18:19.551952Z",
     "shell.execute_reply": "2020-08-13T12:18:19.551490Z"
    }
   },
   "outputs": [
    {
     "data": {
      "text/html": [
       "<div>\n",
       "<style scoped>\n",
       "    .dataframe tbody tr th:only-of-type {\n",
       "        vertical-align: middle;\n",
       "    }\n",
       "\n",
       "    .dataframe tbody tr th {\n",
       "        vertical-align: top;\n",
       "    }\n",
       "\n",
       "    .dataframe thead th {\n",
       "        text-align: right;\n",
       "    }\n",
       "</style>\n",
       "<table border=\"1\" class=\"dataframe\">\n",
       "  <thead>\n",
       "    <tr style=\"text-align: right;\">\n",
       "      <th></th>\n",
       "      <th>pca-component_x</th>\n",
       "      <th>domain-number</th>\n",
       "      <th>pca-component_y</th>\n",
       "      <th>domain-description</th>\n",
       "    </tr>\n",
       "  </thead>\n",
       "  <tbody>\n",
       "    <tr>\n",
       "      <th>0</th>\n",
       "      <td>NaN</td>\n",
       "      <td>1028</td>\n",
       "      <td>PC0</td>\n",
       "      <td>GatB_Yqey; Asn/Gln amidotransferase</td>\n",
       "    </tr>\n",
       "    <tr>\n",
       "      <th>1</th>\n",
       "      <td>NaN</td>\n",
       "      <td>1100</td>\n",
       "      <td>PC1</td>\n",
       "      <td>HBS1_N; HBS1-like protein, N-terminal</td>\n",
       "    </tr>\n",
       "    <tr>\n",
       "      <th>2</th>\n",
       "      <td>NaN</td>\n",
       "      <td>1252</td>\n",
       "      <td>PC2</td>\n",
       "      <td>JmjN; JmjN domain</td>\n",
       "    </tr>\n",
       "    <tr>\n",
       "      <th>5</th>\n",
       "      <td>NaN</td>\n",
       "      <td>268</td>\n",
       "      <td>PC5</td>\n",
       "      <td>BHD_3; Rad4 beta-hairpin domain 3</td>\n",
       "    </tr>\n",
       "    <tr>\n",
       "      <th>6</th>\n",
       "      <td>NaN</td>\n",
       "      <td>1671</td>\n",
       "      <td>PC6</td>\n",
       "      <td>Ofd1_CTDD; Oxoglutarate/iron-dependent oxygena...</td>\n",
       "    </tr>\n",
       "    <tr>\n",
       "      <th>...</th>\n",
       "      <td>...</td>\n",
       "      <td>...</td>\n",
       "      <td>...</td>\n",
       "      <td>...</td>\n",
       "    </tr>\n",
       "    <tr>\n",
       "      <th>284</th>\n",
       "      <td>NaN</td>\n",
       "      <td>1863</td>\n",
       "      <td>PC274</td>\n",
       "      <td>Peptidase_C12; Peptidase C12, ubiquitin carbox...</td>\n",
       "    </tr>\n",
       "    <tr>\n",
       "      <th>285</th>\n",
       "      <td>NaN</td>\n",
       "      <td>1499</td>\n",
       "      <td>PC275</td>\n",
       "      <td>Mmp37; Phosphatidate cytidylyltransferase, mit...</td>\n",
       "    </tr>\n",
       "    <tr>\n",
       "      <th>286</th>\n",
       "      <td>NaN</td>\n",
       "      <td>1227</td>\n",
       "      <td>PC277</td>\n",
       "      <td>I_LWEQ; I/LWEQ domain</td>\n",
       "    </tr>\n",
       "    <tr>\n",
       "      <th>287</th>\n",
       "      <td>NaN</td>\n",
       "      <td>283</td>\n",
       "      <td>PC278</td>\n",
       "      <td>BRF1; Brf1, TBP-binding domain</td>\n",
       "    </tr>\n",
       "    <tr>\n",
       "      <th>288</th>\n",
       "      <td>NaN</td>\n",
       "      <td>1294</td>\n",
       "      <td>PC279</td>\n",
       "      <td>LIAS_N; Lipoyl synthase, N-terminal</td>\n",
       "    </tr>\n",
       "  </tbody>\n",
       "</table>\n",
       "<p>239 rows × 4 columns</p>\n",
       "</div>"
      ],
      "text/plain": [
       "    pca-component_x  domain-number pca-component_y  \\\n",
       "0               NaN           1028             PC0   \n",
       "1               NaN           1100             PC1   \n",
       "2               NaN           1252             PC2   \n",
       "5               NaN            268             PC5   \n",
       "6               NaN           1671             PC6   \n",
       "..              ...            ...             ...   \n",
       "284             NaN           1863           PC274   \n",
       "285             NaN           1499           PC275   \n",
       "286             NaN           1227           PC277   \n",
       "287             NaN            283           PC278   \n",
       "288             NaN           1294           PC279   \n",
       "\n",
       "                                    domain-description  \n",
       "0                  GatB_Yqey; Asn/Gln amidotransferase  \n",
       "1                HBS1_N; HBS1-like protein, N-terminal  \n",
       "2                                    JmjN; JmjN domain  \n",
       "5                    BHD_3; Rad4 beta-hairpin domain 3  \n",
       "6    Ofd1_CTDD; Oxoglutarate/iron-dependent oxygena...  \n",
       "..                                                 ...  \n",
       "284  Peptidase_C12; Peptidase C12, ubiquitin carbox...  \n",
       "285  Mmp37; Phosphatidate cytidylyltransferase, mit...  \n",
       "286                              I_LWEQ; I/LWEQ domain  \n",
       "287                     BRF1; Brf1, TBP-binding domain  \n",
       "288                LIAS_N; Lipoyl synthase, N-terminal  \n",
       "\n",
       "[239 rows x 4 columns]"
      ]
     },
     "execution_count": 26,
     "metadata": {},
     "output_type": "execute_result"
    }
   ],
   "source": [
    "df_nsl_exclusive=pd.merge(df_sl,df_nsl,how='right',on='domain-number')\n",
    "\n",
    "domains_name=np.unique(data_domains['domain-name'])\n",
    "domains_description=np.unique(data_domains['domain-descrip'])\n",
    "\n",
    "df_nsl_exclusive['domain-description']=domains_description[df_nsl_exclusive['domain-number']]\n",
    "df_nsl_exclusive[pd.isnull(df_nsl_exclusive['pca-component_x'])]"
   ]
  },
  {
   "cell_type": "code",
   "execution_count": 27,
   "metadata": {
    "execution": {
     "iopub.execute_input": "2020-08-13T12:18:19.557840Z",
     "iopub.status.busy": "2020-08-13T12:18:19.557315Z",
     "iopub.status.idle": "2020-08-13T12:18:19.560532Z",
     "shell.execute_reply": "2020-08-13T12:18:19.560958Z"
    }
   },
   "outputs": [
    {
     "name": "stdout",
     "output_type": "stream",
     "text": [
      "The number of exclusive domains from non SL pairs, after PCA, is =  289 out of 567 so the 50.970017636684304 %\n"
     ]
    }
   ],
   "source": [
    "print('The number of exclusive domains from non SL pairs, after PCA, is = ',len(df_nsl_exclusive), 'out of', len(df_sl)+len(df_nsl), 'so the',100*len(df_nsl_exclusive)/(len(df_sl)+len(df_nsl)),'%')"
   ]
  },
  {
   "cell_type": "markdown",
   "metadata": {},
   "source": [
    "## Let see to the domains-number that get repeated after the PCA analysis , and selecting the most explanatory feature by its explained variance."
   ]
  },
  {
   "cell_type": "code",
   "execution_count": 28,
   "metadata": {
    "execution": {
     "iopub.execute_input": "2020-08-13T12:18:19.583292Z",
     "iopub.status.busy": "2020-08-13T12:18:19.582708Z",
     "iopub.status.idle": "2020-08-13T12:18:19.587094Z",
     "shell.execute_reply": "2020-08-13T12:18:19.586283Z"
    }
   },
   "outputs": [],
   "source": [
    "duplicated_features_sl=df_sl[df_sl.iloc[:,1].duplicated()]\n",
    "repeated_features_sl=pd.DataFrame()\n",
    "\n",
    "domains_name=np.unique(data_domains['domain-name'])\n",
    "domains_description=np.unique(data_domains['domain-descrip'])\n",
    "\n",
    "repeated_features_sl['domain-name']=domains_name[duplicated_features_sl.iloc[:,1]] \n",
    "repeated_features_sl['domain-description']=domains_description[duplicated_features_sl.iloc[:,1]]\n",
    "\n",
    "duplicated_features_nsl=df_nsl[df_nsl.iloc[:,1].duplicated()]\n",
    "repeated_features_nsl=pd.DataFrame()\n",
    "\n",
    "repeated_features_nsl['domain-name']=domains_name[duplicated_features_nsl.iloc[:,1]] \n",
    "repeated_features_nsl['domain-description']=domains_description[duplicated_features_nsl.iloc[:,1]]"
   ]
  },
  {
   "cell_type": "code",
   "execution_count": 29,
   "metadata": {
    "execution": {
     "iopub.execute_input": "2020-08-13T12:18:19.595985Z",
     "iopub.status.busy": "2020-08-13T12:18:19.592235Z",
     "iopub.status.idle": "2020-08-13T12:18:19.600852Z",
     "shell.execute_reply": "2020-08-13T12:18:19.600408Z"
    }
   },
   "outputs": [
    {
     "data": {
      "text/plain": [
       "((52, 4), (290, 4))"
      ]
     },
     "execution_count": 29,
     "metadata": {},
     "output_type": "execute_result"
    }
   ],
   "source": [
    "only_sl_pd=pd.merge(repeated_features_sl,repeated_features_nsl,how='left',on=['domain-name'])\n",
    "data_only_sl = only_sl_pd[pd.isnull(only_sl_pd['domain-description_y'])]\n",
    "data_only_sl['domain-description']=data_only_sl['domain-description_x']\n",
    "data_only_sl.shape,df_sl_exclusive.shape"
   ]
  },
  {
   "cell_type": "code",
   "execution_count": 30,
   "metadata": {
    "execution": {
     "iopub.execute_input": "2020-08-13T12:18:19.607720Z",
     "iopub.status.busy": "2020-08-13T12:18:19.605612Z",
     "iopub.status.idle": "2020-08-13T12:18:19.623814Z",
     "shell.execute_reply": "2020-08-13T12:18:19.623301Z"
    }
   },
   "outputs": [
    {
     "data": {
      "text/html": [
       "<div>\n",
       "<style scoped>\n",
       "    .dataframe tbody tr th:only-of-type {\n",
       "        vertical-align: middle;\n",
       "    }\n",
       "\n",
       "    .dataframe tbody tr th {\n",
       "        vertical-align: top;\n",
       "    }\n",
       "\n",
       "    .dataframe thead th {\n",
       "        text-align: right;\n",
       "    }\n",
       "</style>\n",
       "<table border=\"1\" class=\"dataframe\">\n",
       "  <thead>\n",
       "    <tr style=\"text-align: right;\">\n",
       "      <th></th>\n",
       "      <th>domain-name</th>\n",
       "      <th>domain-description_x</th>\n",
       "      <th>domain-description_y</th>\n",
       "    </tr>\n",
       "  </thead>\n",
       "  <tbody>\n",
       "    <tr>\n",
       "      <th>0</th>\n",
       "      <td>PF01028</td>\n",
       "      <td>NaN</td>\n",
       "      <td>Chitin_synth_1N; Chitin synthase N-terminal</td>\n",
       "    </tr>\n",
       "    <tr>\n",
       "      <th>1</th>\n",
       "      <td>PF00258</td>\n",
       "      <td>NaN</td>\n",
       "      <td>ATP-synt_F; ATPase, V1 complex, subunit F</td>\n",
       "    </tr>\n",
       "    <tr>\n",
       "      <th>2</th>\n",
       "      <td>PF01833</td>\n",
       "      <td>NaN</td>\n",
       "      <td>Diphthamide_syn; Diphthamide synthesis DPH1/DPH2</td>\n",
       "    </tr>\n",
       "    <tr>\n",
       "      <th>3</th>\n",
       "      <td>PF12550</td>\n",
       "      <td>NaN</td>\n",
       "      <td>Sortilin-Vps10; Sortilin, N-terminal</td>\n",
       "    </tr>\n",
       "    <tr>\n",
       "      <th>4</th>\n",
       "      <td>PF01363</td>\n",
       "      <td>NaN</td>\n",
       "      <td>DNA_RNApol_7kD; RNA polymerase archaeal subuni...</td>\n",
       "    </tr>\n",
       "    <tr>\n",
       "      <th>5</th>\n",
       "      <td>PF11916</td>\n",
       "      <td>NaN</td>\n",
       "      <td>Scramblase</td>\n",
       "    </tr>\n",
       "    <tr>\n",
       "      <th>6</th>\n",
       "      <td>PF11610</td>\n",
       "      <td>NaN</td>\n",
       "      <td>SRP54; Signal recognition particle, SRP54 subu...</td>\n",
       "    </tr>\n",
       "    <tr>\n",
       "      <th>7</th>\n",
       "      <td>PF11610</td>\n",
       "      <td>NaN</td>\n",
       "      <td>SRP54; Signal recognition particle, SRP54 subu...</td>\n",
       "    </tr>\n",
       "    <tr>\n",
       "      <th>8</th>\n",
       "      <td>PF13793</td>\n",
       "      <td>NaN</td>\n",
       "      <td>Tom37; Mitochondrial outer membrane transport ...</td>\n",
       "    </tr>\n",
       "    <tr>\n",
       "      <th>9</th>\n",
       "      <td>PF01261</td>\n",
       "      <td>NaN</td>\n",
       "      <td>DER1</td>\n",
       "    </tr>\n",
       "    <tr>\n",
       "      <th>10</th>\n",
       "      <td>PF02887</td>\n",
       "      <td>NaN</td>\n",
       "      <td>GPR_Gpa2_C; G protein-coupled receptor GPR1, C...</td>\n",
       "    </tr>\n",
       "    <tr>\n",
       "      <th>11</th>\n",
       "      <td>PF01896</td>\n",
       "      <td>NaN</td>\n",
       "      <td>Dynamin_M; Dynamin central domain</td>\n",
       "    </tr>\n",
       "    <tr>\n",
       "      <th>12</th>\n",
       "      <td>PF09139</td>\n",
       "      <td>NaN</td>\n",
       "      <td>RTP1_C1; RNA polymerase II assembly factor Rtp...</td>\n",
       "    </tr>\n",
       "    <tr>\n",
       "      <th>13</th>\n",
       "      <td>PF01399</td>\n",
       "      <td>NaN</td>\n",
       "      <td>DNA_pol_B; DNA-directed DNA polymerase, family...</td>\n",
       "    </tr>\n",
       "    <tr>\n",
       "      <th>14</th>\n",
       "      <td>PF00083</td>\n",
       "      <td>NaN</td>\n",
       "      <td>AA_permease; Amino acid permease/ SLC12A domain</td>\n",
       "    </tr>\n",
       "    <tr>\n",
       "      <th>15</th>\n",
       "      <td>PF04821</td>\n",
       "      <td>NaN</td>\n",
       "      <td>Mcl1_mid; Minichromosome loss protein Mcl1, mi...</td>\n",
       "    </tr>\n",
       "    <tr>\n",
       "      <th>16</th>\n",
       "      <td>PF04821</td>\n",
       "      <td>NaN</td>\n",
       "      <td>Mcl1_mid; Minichromosome loss protein Mcl1, mi...</td>\n",
       "    </tr>\n",
       "    <tr>\n",
       "      <th>17</th>\n",
       "      <td>PF04098</td>\n",
       "      <td>NaN</td>\n",
       "      <td>Kinetocho_Slk19; Central kinetochore-associated</td>\n",
       "    </tr>\n",
       "    <tr>\n",
       "      <th>18</th>\n",
       "      <td>PF14260</td>\n",
       "      <td>NaN</td>\n",
       "      <td>UBA; Ubiquitin-associated domain</td>\n",
       "    </tr>\n",
       "    <tr>\n",
       "      <th>19</th>\n",
       "      <td>PF01145</td>\n",
       "      <td>NaN</td>\n",
       "      <td>Coq4; Ubiquinone biosynthesis protein Coq4</td>\n",
       "    </tr>\n",
       "    <tr>\n",
       "      <th>20</th>\n",
       "      <td>PF03901</td>\n",
       "      <td>NaN</td>\n",
       "      <td>Hydrolase_like</td>\n",
       "    </tr>\n",
       "    <tr>\n",
       "      <th>21</th>\n",
       "      <td>PF04181</td>\n",
       "      <td>NaN</td>\n",
       "      <td>Leo1; Leo1-like protein</td>\n",
       "    </tr>\n",
       "    <tr>\n",
       "      <th>22</th>\n",
       "      <td>PF07064</td>\n",
       "      <td>NaN</td>\n",
       "      <td>PAP_central; Poly(A) polymerase, central domain</td>\n",
       "    </tr>\n",
       "    <tr>\n",
       "      <th>23</th>\n",
       "      <td>PF16796</td>\n",
       "      <td>NaN</td>\n",
       "      <td>fn3_2; Fibronectin type III domain, fungi</td>\n",
       "    </tr>\n",
       "    <tr>\n",
       "      <th>24</th>\n",
       "      <td>PF00566</td>\n",
       "      <td>NaN</td>\n",
       "      <td>BLI1</td>\n",
       "    </tr>\n",
       "    <tr>\n",
       "      <th>25</th>\n",
       "      <td>PF13833</td>\n",
       "      <td>NaN</td>\n",
       "      <td>Topoisom_bac; DNA topoisomerase, type IA, central</td>\n",
       "    </tr>\n",
       "    <tr>\n",
       "      <th>26</th>\n",
       "      <td>PF16797</td>\n",
       "      <td>NaN</td>\n",
       "      <td>hDGE_amylase; Glycogen debranching enzyme, glu...</td>\n",
       "    </tr>\n",
       "    <tr>\n",
       "      <th>27</th>\n",
       "      <td>PF16797</td>\n",
       "      <td>NaN</td>\n",
       "      <td>hDGE_amylase; Glycogen debranching enzyme, glu...</td>\n",
       "    </tr>\n",
       "    <tr>\n",
       "      <th>28</th>\n",
       "      <td>PF03637</td>\n",
       "      <td>NaN</td>\n",
       "      <td>HTH_44; Helix-turn-helix DNA-binding domain of...</td>\n",
       "    </tr>\n",
       "    <tr>\n",
       "      <th>29</th>\n",
       "      <td>PF00923</td>\n",
       "      <td>NaN</td>\n",
       "      <td>CTP_synth_N; CTP synthase, N-terminal</td>\n",
       "    </tr>\n",
       "    <tr>\n",
       "      <th>30</th>\n",
       "      <td>PF01412</td>\n",
       "      <td>NaN</td>\n",
       "      <td>DNA_pol_alpha_N; DNA polymerase alpha catalyti...</td>\n",
       "    </tr>\n",
       "    <tr>\n",
       "      <th>31</th>\n",
       "      <td>PF01412</td>\n",
       "      <td>NaN</td>\n",
       "      <td>DNA_pol_alpha_N; DNA polymerase alpha catalyti...</td>\n",
       "    </tr>\n",
       "    <tr>\n",
       "      <th>32</th>\n",
       "      <td>PF07690</td>\n",
       "      <td>NaN</td>\n",
       "      <td>PHD_2</td>\n",
       "    </tr>\n",
       "    <tr>\n",
       "      <th>33</th>\n",
       "      <td>PF01409</td>\n",
       "      <td>NaN</td>\n",
       "      <td>DNA_pol_B_thumb; DNA polymerase beta, thumb do...</td>\n",
       "    </tr>\n",
       "    <tr>\n",
       "      <th>34</th>\n",
       "      <td>PF02213</td>\n",
       "      <td>NaN</td>\n",
       "      <td>Erf4; Golgin subfamily A member 7/ERF4</td>\n",
       "    </tr>\n",
       "    <tr>\n",
       "      <th>35</th>\n",
       "      <td>PF08118</td>\n",
       "      <td>NaN</td>\n",
       "      <td>PRKCSH_1; Mannose-6-phosphate receptor binding...</td>\n",
       "    </tr>\n",
       "    <tr>\n",
       "      <th>36</th>\n",
       "      <td>PF08118</td>\n",
       "      <td>NaN</td>\n",
       "      <td>PRKCSH_1; Mannose-6-phosphate receptor binding...</td>\n",
       "    </tr>\n",
       "    <tr>\n",
       "      <th>37</th>\n",
       "      <td>PF13450</td>\n",
       "      <td>NaN</td>\n",
       "      <td>TRM; tRNA methyltransferase, Trm1</td>\n",
       "    </tr>\n",
       "    <tr>\n",
       "      <th>38</th>\n",
       "      <td>PF03081</td>\n",
       "      <td>NaN</td>\n",
       "      <td>Glucan_synthase; Glycosyl transferase, family 48</td>\n",
       "    </tr>\n",
       "    <tr>\n",
       "      <th>39</th>\n",
       "      <td>PF08574</td>\n",
       "      <td>NaN</td>\n",
       "      <td>Pterin_4a; Transcriptional coactivator/pterin ...</td>\n",
       "    </tr>\n",
       "    <tr>\n",
       "      <th>40</th>\n",
       "      <td>PF08737</td>\n",
       "      <td>NaN</td>\n",
       "      <td>RNase_P_pop3; RNase P, subunit Pop3</td>\n",
       "    </tr>\n",
       "    <tr>\n",
       "      <th>41</th>\n",
       "      <td>PF08737</td>\n",
       "      <td>NaN</td>\n",
       "      <td>RNase_P_pop3; RNase P, subunit Pop3</td>\n",
       "    </tr>\n",
       "    <tr>\n",
       "      <th>42</th>\n",
       "      <td>PF08569</td>\n",
       "      <td>NaN</td>\n",
       "      <td>Prp31_C; Prp31 C-terminal</td>\n",
       "    </tr>\n",
       "    <tr>\n",
       "      <th>43</th>\n",
       "      <td>PF02840</td>\n",
       "      <td>NaN</td>\n",
       "      <td>GED; Dynamin GTPase effector</td>\n",
       "    </tr>\n",
       "    <tr>\n",
       "      <th>44</th>\n",
       "      <td>PF01247</td>\n",
       "      <td>NaN</td>\n",
       "      <td>DCP2; mRNA decapping protein 2, Box A domain</td>\n",
       "    </tr>\n",
       "    <tr>\n",
       "      <th>45</th>\n",
       "      <td>PF03099</td>\n",
       "      <td>NaN</td>\n",
       "      <td>Gly_transf_sug; Glycosyltransferase, DXD sugar...</td>\n",
       "    </tr>\n",
       "    <tr>\n",
       "      <th>46</th>\n",
       "      <td>PF00789</td>\n",
       "      <td>NaN</td>\n",
       "      <td>COPI_C; Coatomer, alpha subunit, C-terminal</td>\n",
       "    </tr>\n",
       "    <tr>\n",
       "      <th>47</th>\n",
       "      <td>PF01158</td>\n",
       "      <td>NaN</td>\n",
       "      <td>Cse1; Exportin/Importin, Cse1-like</td>\n",
       "    </tr>\n",
       "    <tr>\n",
       "      <th>48</th>\n",
       "      <td>PF01201</td>\n",
       "      <td>NaN</td>\n",
       "      <td>Cytochrom_C; Cytochrome c-like domain</td>\n",
       "    </tr>\n",
       "    <tr>\n",
       "      <th>49</th>\n",
       "      <td>PF01201</td>\n",
       "      <td>NaN</td>\n",
       "      <td>Cytochrom_C; Cytochrome c-like domain</td>\n",
       "    </tr>\n",
       "    <tr>\n",
       "      <th>50</th>\n",
       "      <td>PF04062</td>\n",
       "      <td>NaN</td>\n",
       "      <td>KH_2; K Homology domain, type 2</td>\n",
       "    </tr>\n",
       "    <tr>\n",
       "      <th>51</th>\n",
       "      <td>PF03194</td>\n",
       "      <td>NaN</td>\n",
       "      <td>Glycos_trans_3N; Glycosyl transferase family 3...</td>\n",
       "    </tr>\n",
       "    <tr>\n",
       "      <th>52</th>\n",
       "      <td>PF08317</td>\n",
       "      <td>NaN</td>\n",
       "      <td>Peptidase_M48; Peptidase M48</td>\n",
       "    </tr>\n",
       "    <tr>\n",
       "      <th>53</th>\n",
       "      <td>PF03966</td>\n",
       "      <td>NaN</td>\n",
       "      <td>INSIG; Insulin-induced protein family</td>\n",
       "    </tr>\n",
       "    <tr>\n",
       "      <th>54</th>\n",
       "      <td>PF03966</td>\n",
       "      <td>NaN</td>\n",
       "      <td>INSIG; Insulin-induced protein family</td>\n",
       "    </tr>\n",
       "    <tr>\n",
       "      <th>55</th>\n",
       "      <td>PF02301</td>\n",
       "      <td>NaN</td>\n",
       "      <td>FAT; PIK-related kinase, FAT</td>\n",
       "    </tr>\n",
       "  </tbody>\n",
       "</table>\n",
       "</div>"
      ],
      "text/plain": [
       "   domain-name domain-description_x  \\\n",
       "0      PF01028                  NaN   \n",
       "1      PF00258                  NaN   \n",
       "2      PF01833                  NaN   \n",
       "3      PF12550                  NaN   \n",
       "4      PF01363                  NaN   \n",
       "5      PF11916                  NaN   \n",
       "6      PF11610                  NaN   \n",
       "7      PF11610                  NaN   \n",
       "8      PF13793                  NaN   \n",
       "9      PF01261                  NaN   \n",
       "10     PF02887                  NaN   \n",
       "11     PF01896                  NaN   \n",
       "12     PF09139                  NaN   \n",
       "13     PF01399                  NaN   \n",
       "14     PF00083                  NaN   \n",
       "15     PF04821                  NaN   \n",
       "16     PF04821                  NaN   \n",
       "17     PF04098                  NaN   \n",
       "18     PF14260                  NaN   \n",
       "19     PF01145                  NaN   \n",
       "20     PF03901                  NaN   \n",
       "21     PF04181                  NaN   \n",
       "22     PF07064                  NaN   \n",
       "23     PF16796                  NaN   \n",
       "24     PF00566                  NaN   \n",
       "25     PF13833                  NaN   \n",
       "26     PF16797                  NaN   \n",
       "27     PF16797                  NaN   \n",
       "28     PF03637                  NaN   \n",
       "29     PF00923                  NaN   \n",
       "30     PF01412                  NaN   \n",
       "31     PF01412                  NaN   \n",
       "32     PF07690                  NaN   \n",
       "33     PF01409                  NaN   \n",
       "34     PF02213                  NaN   \n",
       "35     PF08118                  NaN   \n",
       "36     PF08118                  NaN   \n",
       "37     PF13450                  NaN   \n",
       "38     PF03081                  NaN   \n",
       "39     PF08574                  NaN   \n",
       "40     PF08737                  NaN   \n",
       "41     PF08737                  NaN   \n",
       "42     PF08569                  NaN   \n",
       "43     PF02840                  NaN   \n",
       "44     PF01247                  NaN   \n",
       "45     PF03099                  NaN   \n",
       "46     PF00789                  NaN   \n",
       "47     PF01158                  NaN   \n",
       "48     PF01201                  NaN   \n",
       "49     PF01201                  NaN   \n",
       "50     PF04062                  NaN   \n",
       "51     PF03194                  NaN   \n",
       "52     PF08317                  NaN   \n",
       "53     PF03966                  NaN   \n",
       "54     PF03966                  NaN   \n",
       "55     PF02301                  NaN   \n",
       "\n",
       "                                 domain-description_y  \n",
       "0         Chitin_synth_1N; Chitin synthase N-terminal  \n",
       "1           ATP-synt_F; ATPase, V1 complex, subunit F  \n",
       "2    Diphthamide_syn; Diphthamide synthesis DPH1/DPH2  \n",
       "3                Sortilin-Vps10; Sortilin, N-terminal  \n",
       "4   DNA_RNApol_7kD; RNA polymerase archaeal subuni...  \n",
       "5                                          Scramblase  \n",
       "6   SRP54; Signal recognition particle, SRP54 subu...  \n",
       "7   SRP54; Signal recognition particle, SRP54 subu...  \n",
       "8   Tom37; Mitochondrial outer membrane transport ...  \n",
       "9                                                DER1  \n",
       "10  GPR_Gpa2_C; G protein-coupled receptor GPR1, C...  \n",
       "11                  Dynamin_M; Dynamin central domain  \n",
       "12  RTP1_C1; RNA polymerase II assembly factor Rtp...  \n",
       "13  DNA_pol_B; DNA-directed DNA polymerase, family...  \n",
       "14    AA_permease; Amino acid permease/ SLC12A domain  \n",
       "15  Mcl1_mid; Minichromosome loss protein Mcl1, mi...  \n",
       "16  Mcl1_mid; Minichromosome loss protein Mcl1, mi...  \n",
       "17    Kinetocho_Slk19; Central kinetochore-associated  \n",
       "18                   UBA; Ubiquitin-associated domain  \n",
       "19         Coq4; Ubiquinone biosynthesis protein Coq4  \n",
       "20                                     Hydrolase_like  \n",
       "21                            Leo1; Leo1-like protein  \n",
       "22    PAP_central; Poly(A) polymerase, central domain  \n",
       "23          fn3_2; Fibronectin type III domain, fungi  \n",
       "24                                               BLI1  \n",
       "25  Topoisom_bac; DNA topoisomerase, type IA, central  \n",
       "26  hDGE_amylase; Glycogen debranching enzyme, glu...  \n",
       "27  hDGE_amylase; Glycogen debranching enzyme, glu...  \n",
       "28  HTH_44; Helix-turn-helix DNA-binding domain of...  \n",
       "29              CTP_synth_N; CTP synthase, N-terminal  \n",
       "30  DNA_pol_alpha_N; DNA polymerase alpha catalyti...  \n",
       "31  DNA_pol_alpha_N; DNA polymerase alpha catalyti...  \n",
       "32                                              PHD_2  \n",
       "33  DNA_pol_B_thumb; DNA polymerase beta, thumb do...  \n",
       "34             Erf4; Golgin subfamily A member 7/ERF4  \n",
       "35  PRKCSH_1; Mannose-6-phosphate receptor binding...  \n",
       "36  PRKCSH_1; Mannose-6-phosphate receptor binding...  \n",
       "37                  TRM; tRNA methyltransferase, Trm1  \n",
       "38   Glucan_synthase; Glycosyl transferase, family 48  \n",
       "39  Pterin_4a; Transcriptional coactivator/pterin ...  \n",
       "40                RNase_P_pop3; RNase P, subunit Pop3  \n",
       "41                RNase_P_pop3; RNase P, subunit Pop3  \n",
       "42                          Prp31_C; Prp31 C-terminal  \n",
       "43                       GED; Dynamin GTPase effector  \n",
       "44       DCP2; mRNA decapping protein 2, Box A domain  \n",
       "45  Gly_transf_sug; Glycosyltransferase, DXD sugar...  \n",
       "46        COPI_C; Coatomer, alpha subunit, C-terminal  \n",
       "47                 Cse1; Exportin/Importin, Cse1-like  \n",
       "48              Cytochrom_C; Cytochrome c-like domain  \n",
       "49              Cytochrom_C; Cytochrome c-like domain  \n",
       "50                    KH_2; K Homology domain, type 2  \n",
       "51  Glycos_trans_3N; Glycosyl transferase family 3...  \n",
       "52                       Peptidase_M48; Peptidase M48  \n",
       "53              INSIG; Insulin-induced protein family  \n",
       "54              INSIG; Insulin-induced protein family  \n",
       "55                       FAT; PIK-related kinase, FAT  "
      ]
     },
     "execution_count": 30,
     "metadata": {},
     "output_type": "execute_result"
    }
   ],
   "source": [
    "only_nsl_pd=pd.merge(repeated_features_sl,repeated_features_nsl,how='right',on=['domain-name'])\n",
    "data_only_nsl = only_nsl_pd[pd.isnull(only_nsl_pd['domain-description_x'])]\n",
    "data_only_nsl"
   ]
  },
  {
   "cell_type": "code",
   "execution_count": 31,
   "metadata": {
    "execution": {
     "iopub.execute_input": "2020-08-13T12:18:19.634092Z",
     "iopub.status.busy": "2020-08-13T12:18:19.633520Z",
     "iopub.status.idle": "2020-08-13T12:18:19.637901Z",
     "shell.execute_reply": "2020-08-13T12:18:19.637459Z"
    }
   },
   "outputs": [
    {
     "data": {
      "text/html": [
       "<div>\n",
       "<style scoped>\n",
       "    .dataframe tbody tr th:only-of-type {\n",
       "        vertical-align: middle;\n",
       "    }\n",
       "\n",
       "    .dataframe tbody tr th {\n",
       "        vertical-align: top;\n",
       "    }\n",
       "\n",
       "    .dataframe thead th {\n",
       "        text-align: right;\n",
       "    }\n",
       "</style>\n",
       "<table border=\"1\" class=\"dataframe\">\n",
       "  <thead>\n",
       "    <tr style=\"text-align: right;\">\n",
       "      <th></th>\n",
       "      <th>domain-name</th>\n",
       "      <th>domain-description_x</th>\n",
       "      <th>domain-description_y</th>\n",
       "    </tr>\n",
       "  </thead>\n",
       "  <tbody>\n",
       "  </tbody>\n",
       "</table>\n",
       "</div>"
      ],
      "text/plain": [
       "Empty DataFrame\n",
       "Columns: [domain-name, domain-description_x, domain-description_y]\n",
       "Index: []"
      ]
     },
     "execution_count": 31,
     "metadata": {},
     "output_type": "execute_result"
    }
   ],
   "source": [
    "shared_domains_pd=pd.merge(repeated_features_sl,repeated_features_nsl,how='inner',on=['domain-name'])\n",
    "shared_domains_pd\n"
   ]
  },
  {
   "cell_type": "code",
   "execution_count": 32,
   "metadata": {
    "execution": {
     "iopub.execute_input": "2020-08-13T12:18:19.659442Z",
     "iopub.status.busy": "2020-08-13T12:18:19.655715Z",
     "iopub.status.idle": "2020-08-13T12:18:20.960199Z",
     "shell.execute_reply": "2020-08-13T12:18:20.959416Z"
    }
   },
   "outputs": [
    {
     "data": {
      "text/plain": [
       "(0.0, 0.2)"
      ]
     },
     "execution_count": 32,
     "metadata": {},
     "output_type": "execute_result"
    },
    {
     "data": {
      "image/png": "[encoded data removed]",
      "text/plain": [
       "<Figure size 432x288 with 1 Axes>"
      ]
     },
     "metadata": {
      "filenames": {
       "image/png": "/home/runner/work/jupyter-book/jupyter-book/mini_book/docs/_build/jupyter_execute/prot_domains2lethality-FEATURES-POSTPROCESSING_47_1.png"
      },
      "needs_background": "light"
     },
     "output_type": "display_data"
    }
   ],
   "source": [
    "a_sl=x_sl.iloc[:,np.sort(df_sl.iloc[:,1])]\n",
    "a_sl.describe().loc['mean'].hist(bins=8),\n",
    "a_sl.describe().loc['std'].hist(bins=8,alpha=0.4)\n",
    "plt.xlim([0,0.2])"
   ]
  },
  {
   "cell_type": "code",
   "execution_count": 33,
   "metadata": {
    "execution": {
     "iopub.execute_input": "2020-08-13T12:18:20.974067Z",
     "iopub.status.busy": "2020-08-13T12:18:20.964498Z",
     "iopub.status.idle": "2020-08-13T12:18:22.328240Z",
     "shell.execute_reply": "2020-08-13T12:18:22.327184Z"
    }
   },
   "outputs": [
    {
     "data": {
      "text/plain": [
       "(0.0, 0.2)"
      ]
     },
     "execution_count": 33,
     "metadata": {},
     "output_type": "execute_result"
    },
    {
     "data": {
      "image/png": "[encoded data removed]",
      "text/plain": [
       "<Figure size 432x288 with 1 Axes>"
      ]
     },
     "metadata": {
      "filenames": {
       "image/png": "/home/runner/work/jupyter-book/jupyter-book/mini_book/docs/_build/jupyter_execute/prot_domains2lethality-FEATURES-POSTPROCESSING_48_1.png"
      },
      "needs_background": "light"
     },
     "output_type": "display_data"
    }
   ],
   "source": [
    "a_nsl=x_nsl.iloc[:,np.sort(df_nsl.iloc[:,1])]\n",
    "a_nsl.describe().loc['mean'].hist(bins=8),\n",
    "a_nsl.describe().loc['std'].hist(bins=8,alpha=0.4)\n",
    "plt.xlim([0,0.2])"
   ]
  },
  {
   "cell_type": "markdown",
   "metadata": {},
   "source": [
    "### Proof of concept with *BEM1*\n",
    "\n",
    "- Gather the domains of SL and nSL pairs from BEM1\n",
    "- Check if the domains for the SL and nSL pairs are inside the most important domains after PCA."
   ]
  },
  {
   "cell_type": "code",
   "execution_count": 34,
   "metadata": {
    "execution": {
     "iopub.execute_input": "2020-08-13T12:18:22.335399Z",
     "iopub.status.busy": "2020-08-13T12:18:22.334558Z",
     "iopub.status.idle": "2020-08-13T12:18:22.338290Z",
     "shell.execute_reply": "2020-08-13T12:18:22.337862Z"
    }
   },
   "outputs": [],
   "source": [
    "domains_bem1=data_domains[data_domains['name']=='BEM1']['domain-descrip']\n",
    "sl_bem1=data_sl[data_sl['gene-query-name']=='BEM1']['gene-target-name']"
   ]
  },
  {
   "cell_type": "code",
   "execution_count": 35,
   "metadata": {
    "execution": {
     "iopub.execute_input": "2020-08-13T12:18:22.342855Z",
     "iopub.status.busy": "2020-08-13T12:18:22.342337Z",
     "iopub.status.idle": "2020-08-13T12:18:22.347412Z",
     "shell.execute_reply": "2020-08-13T12:18:22.346965Z"
    }
   },
   "outputs": [
    {
     "data": {
      "text/plain": [
       "2846      BEM2\n",
       "2847     CDC24\n",
       "5004      MSB1\n",
       "13777     SMI1\n",
       "13778     BNI1\n",
       "13779     BEM2\n",
       "14385     SKN7\n",
       "Name: gene-target-name, dtype: object"
      ]
     },
     "execution_count": 35,
     "metadata": {},
     "output_type": "execute_result"
    }
   ],
   "source": [
    "sl_bem1"
   ]
  },
  {
   "cell_type": "code",
   "execution_count": 36,
   "metadata": {
    "execution": {
     "iopub.execute_input": "2020-08-13T12:18:22.361233Z",
     "iopub.status.busy": "2020-08-13T12:18:22.360705Z",
     "iopub.status.idle": "2020-08-13T12:18:22.366261Z",
     "shell.execute_reply": "2020-08-13T12:18:22.365833Z"
    }
   },
   "outputs": [
    {
     "data": {
      "text/html": [
       "<div>\n",
       "<style scoped>\n",
       "    .dataframe tbody tr th:only-of-type {\n",
       "        vertical-align: middle;\n",
       "    }\n",
       "\n",
       "    .dataframe tbody tr th {\n",
       "        vertical-align: top;\n",
       "    }\n",
       "\n",
       "    .dataframe thead th {\n",
       "        text-align: right;\n",
       "    }\n",
       "</style>\n",
       "<table border=\"1\" class=\"dataframe\">\n",
       "  <thead>\n",
       "    <tr style=\"text-align: right;\">\n",
       "      <th></th>\n",
       "      <th>gene-query</th>\n",
       "      <th>gene-target</th>\n",
       "      <th>gene-query-name</th>\n",
       "      <th>gene-target-name</th>\n",
       "      <th>gene-query-description</th>\n",
       "      <th>gene-target-description</th>\n",
       "      <th>interaction-type</th>\n",
       "      <th>paper-source</th>\n",
       "    </tr>\n",
       "  </thead>\n",
       "  <tbody>\n",
       "    <tr>\n",
       "      <th>2846</th>\n",
       "      <td>YBR200W</td>\n",
       "      <td>YER155C</td>\n",
       "      <td>BEM1</td>\n",
       "      <td>BEM2</td>\n",
       "      <td>SRO1|phosphatidylinositol-3-phosphate-binding ...</td>\n",
       "      <td>IPL2|SUP9|TSL1|L000000168</td>\n",
       "      <td>Synthetic Lethality</td>\n",
       "      <td>Peterson J (1994)</td>\n",
       "    </tr>\n",
       "    <tr>\n",
       "      <th>2847</th>\n",
       "      <td>YBR200W</td>\n",
       "      <td>YAL041W</td>\n",
       "      <td>BEM1</td>\n",
       "      <td>CDC24</td>\n",
       "      <td>SRO1|phosphatidylinositol-3-phosphate-binding ...</td>\n",
       "      <td>CLS4|Rho family guanine nucleotide exchange fa...</td>\n",
       "      <td>Synthetic Lethality</td>\n",
       "      <td>Peterson J (1994)</td>\n",
       "    </tr>\n",
       "    <tr>\n",
       "      <th>5004</th>\n",
       "      <td>YBR200W</td>\n",
       "      <td>YOR188W</td>\n",
       "      <td>BEM1</td>\n",
       "      <td>MSB1</td>\n",
       "      <td>SRO1|phosphatidylinositol-3-phosphate-binding ...</td>\n",
       "      <td>L000001184</td>\n",
       "      <td>Synthetic Lethality</td>\n",
       "      <td>Bender A (1991)</td>\n",
       "    </tr>\n",
       "    <tr>\n",
       "      <th>13777</th>\n",
       "      <td>YBR200W</td>\n",
       "      <td>YGR229C</td>\n",
       "      <td>BEM1</td>\n",
       "      <td>SMI1</td>\n",
       "      <td>SRO1|phosphatidylinositol-3-phosphate-binding ...</td>\n",
       "      <td>KNR4|L000000909</td>\n",
       "      <td>Synthetic Lethality</td>\n",
       "      <td>Gorelik M (2011)</td>\n",
       "    </tr>\n",
       "    <tr>\n",
       "      <th>13778</th>\n",
       "      <td>YBR200W</td>\n",
       "      <td>YNL271C</td>\n",
       "      <td>BEM1</td>\n",
       "      <td>BNI1</td>\n",
       "      <td>SRO1|phosphatidylinositol-3-phosphate-binding ...</td>\n",
       "      <td>PPF3|SHE5|formin BNI1|L000000190</td>\n",
       "      <td>Synthetic Lethality</td>\n",
       "      <td>Gorelik M (2011)</td>\n",
       "    </tr>\n",
       "    <tr>\n",
       "      <th>13779</th>\n",
       "      <td>YBR200W</td>\n",
       "      <td>YER155C</td>\n",
       "      <td>BEM1</td>\n",
       "      <td>BEM2</td>\n",
       "      <td>SRO1|phosphatidylinositol-3-phosphate-binding ...</td>\n",
       "      <td>IPL2|SUP9|TSL1|L000000168</td>\n",
       "      <td>Synthetic Lethality</td>\n",
       "      <td>Gorelik M (2011)</td>\n",
       "    </tr>\n",
       "    <tr>\n",
       "      <th>14385</th>\n",
       "      <td>YBR200W</td>\n",
       "      <td>YHR206W</td>\n",
       "      <td>BEM1</td>\n",
       "      <td>SKN7</td>\n",
       "      <td>SRO1|phosphatidylinositol-3-phosphate-binding ...</td>\n",
       "      <td>BRY1|POS9|kinase-regulated stress-responsive t...</td>\n",
       "      <td>Dosage Lethality</td>\n",
       "      <td>Bouquin N (1999)</td>\n",
       "    </tr>\n",
       "  </tbody>\n",
       "</table>\n",
       "</div>"
      ],
      "text/plain": [
       "      gene-query gene-target gene-query-name gene-target-name  \\\n",
       "2846     YBR200W     YER155C            BEM1             BEM2   \n",
       "2847     YBR200W     YAL041W            BEM1            CDC24   \n",
       "5004     YBR200W     YOR188W            BEM1             MSB1   \n",
       "13777    YBR200W     YGR229C            BEM1             SMI1   \n",
       "13778    YBR200W     YNL271C            BEM1             BNI1   \n",
       "13779    YBR200W     YER155C            BEM1             BEM2   \n",
       "14385    YBR200W     YHR206W            BEM1             SKN7   \n",
       "\n",
       "                                  gene-query-description  \\\n",
       "2846   SRO1|phosphatidylinositol-3-phosphate-binding ...   \n",
       "2847   SRO1|phosphatidylinositol-3-phosphate-binding ...   \n",
       "5004   SRO1|phosphatidylinositol-3-phosphate-binding ...   \n",
       "13777  SRO1|phosphatidylinositol-3-phosphate-binding ...   \n",
       "13778  SRO1|phosphatidylinositol-3-phosphate-binding ...   \n",
       "13779  SRO1|phosphatidylinositol-3-phosphate-binding ...   \n",
       "14385  SRO1|phosphatidylinositol-3-phosphate-binding ...   \n",
       "\n",
       "                                 gene-target-description     interaction-type  \\\n",
       "2846                           IPL2|SUP9|TSL1|L000000168  Synthetic Lethality   \n",
       "2847   CLS4|Rho family guanine nucleotide exchange fa...  Synthetic Lethality   \n",
       "5004                                          L000001184  Synthetic Lethality   \n",
       "13777                                    KNR4|L000000909  Synthetic Lethality   \n",
       "13778                   PPF3|SHE5|formin BNI1|L000000190  Synthetic Lethality   \n",
       "13779                          IPL2|SUP9|TSL1|L000000168  Synthetic Lethality   \n",
       "14385  BRY1|POS9|kinase-regulated stress-responsive t...     Dosage Lethality   \n",
       "\n",
       "            paper-source  \n",
       "2846   Peterson J (1994)  \n",
       "2847   Peterson J (1994)  \n",
       "5004     Bender A (1991)  \n",
       "13777   Gorelik M (2011)  \n",
       "13778   Gorelik M (2011)  \n",
       "13779   Gorelik M (2011)  \n",
       "14385   Bouquin N (1999)  "
      ]
     },
     "execution_count": 36,
     "metadata": {},
     "output_type": "execute_result"
    }
   ],
   "source": [
    "data_sl[data_sl['gene-query-name']=='BEM1']"
   ]
  },
  {
   "cell_type": "code",
   "execution_count": null,
   "metadata": {},
   "outputs": [],
   "source": []
  }
 ],
 "metadata": {
  "jupytext": {
   "text_representation": {
    "extension": ".md",
    "format_name": "myst"
   }
  },
  "kernelspec": {
   "display_name": "Python 3",
   "language": "python",
   "name": "python3"
  },
  "language_info": {
   "codemirror_mode": {
    "name": "ipython",
    "version": 3
   },
   "file_extension": ".py",
   "mimetype": "text/x-python",
   "name": "python",
   "nbconvert_exporter": "python",
   "pygments_lexer": "ipython3",
   "version": "3.7.8"
  },
  "source_map": [
   10,
   18,
   29,
   36,
   57,
   66,
   98,
   101,
   105,
   128,
   131,
   135,
   139,
   145,
   178,
   184,
   188,
   206,
   210,
   218,
   222,
   225,
   229,
   234,
   238,
   244,
   248,
   253,
   257,
   267,
   269,
   273,
   306,
   311,
   313,
   317,
   328,
   330,
   334,
   344,
   348,
   358,
   360,
   364,
   381,
   388,
   394,
   400,
   407,
   412,
   419,
   424,
   428,
   432
  ]
 },
 "nbformat": 4,
 "nbformat_minor": 4
}