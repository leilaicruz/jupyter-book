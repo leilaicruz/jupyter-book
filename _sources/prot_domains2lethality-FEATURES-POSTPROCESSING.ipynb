{
 "cells": [
  {
   "cell_type": "markdown",
   "metadata": {},
   "source": [
    "# Feature postprocessing from paper.\n",
    "- Title:  \"Predicting yeast synthetic lethal genetic interactions using protein domains\"\n",
    "- Authors: Bo Li, Feng Luo,School of Computing,Clemson University,Clemson, SC, USA\n",
    "- e-mail: bol, luofeng@clemson.edu\n",
    "- year:2009"
   ]
  },
  {
   "cell_type": "code",
   "execution_count": 1,
   "metadata": {
    "execution": {
     "iopub.execute_input": "2020-08-13T05:53:33.032986Z",
     "iopub.status.busy": "2020-08-13T05:53:33.032138Z",
     "iopub.status.idle": "2020-08-13T05:53:33.790744Z",
     "shell.execute_reply": "2020-08-13T05:53:33.791215Z"
    }
   },
   "outputs": [],
   "source": [
    "import pandas as pd\n",
    "import numpy as np\n",
    "import matplotlib.pyplot as plt\n",
    "from collections import defaultdict \n",
    "import seaborn as sns\n",
    "import matplotlib.cm as cm\n",
    "import scipy as scipy\n",
    "import random"
   ]
  },
  {
   "cell_type": "markdown",
   "metadata": {
    "jupyter": {
     "source_hidden": true
    }
   },
   "source": [
    "### Importing datasets \n",
    "\n",
    "#### Link to the github repo where the datasets to be downloaded:\n",
    "[DOWNLOAD THE DATASETS HERE](https://github.com/leilaicruz/machine-learning-for-yeast/tree/dev_Leila/datasets-for-learning)"
   ]
  },
  {
   "cell_type": "code",
   "execution_count": 2,
   "metadata": {
    "execution": {
     "iopub.execute_input": "2020-08-13T05:53:33.799068Z",
     "iopub.status.busy": "2020-08-13T05:53:33.798107Z",
     "iopub.status.idle": "2020-08-13T05:53:41.096272Z",
     "shell.execute_reply": "2020-08-13T05:53:41.095727Z"
    }
   },
   "outputs": [],
   "source": [
    "import os\n",
    "script_dir = os.path.dirname('__file__') #<-- absolute dir the script is in\n",
    "rel_path_SL = \"datasets/data-synthetic-lethals.xlsx\"\n",
    "rel_path_nSL=\"datasets/data-positive-genetic.xlsx\"\n",
    "rel_path_domains=\"datasets/proteins-domains-from-Pfam.xlsx\"\n",
    "\n",
    "abs_file_path_SL = os.path.join(script_dir, rel_path_SL)\n",
    "abs_file_path_nSL = os.path.join(script_dir, rel_path_nSL)\n",
    "abs_file_path_domains = os.path.join(script_dir, rel_path_domains)\n",
    "\n",
    "# os.chdir('mini_book/docs/') #<-- for binder os.chdir('../')\n",
    "# os.chdir('../')\n",
    "my_path_sl= abs_file_path_SL\n",
    "my_path_non_sl=abs_file_path_nSL\n",
    "my_path_domains=abs_file_path_domains\n",
    "\n",
    "data_sl=pd.read_excel(my_path_sl,header=0)\n",
    "data_domains=pd.read_excel(my_path_domains,header=0,index_col='Unnamed: 0')\n",
    "data_domains=data_domains.dropna()\n",
    "data_nonsl=pd.read_excel(my_path_non_sl,header=0)"
   ]
  },
  {
   "cell_type": "markdown",
   "metadata": {},
   "source": [
    "## Building the feature matrix\n",
    "One matrix for true SL where each row is one pair of SL. Every raw will be a vector of 0,1 or 2 depending on the comparison with the domain list. For row i the jth element = 0 if the jth element of the domain list is not in neither protein A and B, 1, if it is in one of them and 2 if it is in both of them .\n",
    "\n",
    "### Building the list of proteins domains id per protein pair separately :\n",
    "- List of protein A: Search for the Sl/nSL database the query gene name and look in the protein domain database which protein domains id has each of those queries.\n",
    "- List of protein B: Search for the Sl/nSL database the target gene name of the previous query and look in the protein domain database which protein domains id has each of those target genes."
   ]
  },
  {
   "cell_type": "code",
   "execution_count": 3,
   "metadata": {
    "execution": {
     "iopub.execute_input": "2020-08-13T05:53:41.108065Z",
     "iopub.status.busy": "2020-08-13T05:53:41.104455Z",
     "iopub.status.idle": "2020-08-13T05:53:42.810345Z",
     "shell.execute_reply": "2020-08-13T05:53:42.809588Z"
    }
   },
   "outputs": [],
   "source": [
    "# Selecting the meaningful columns in the respective dataset\n",
    "domain_id_list=data_domains['domain-name']\n",
    "query_gene=data_sl['gene-query-name']\n",
    "target_gene=data_sl['gene-target-name']\n",
    "query_gene_nonlethal=data_nonsl['gene-query-name']\n",
    "target_gene_nonlethal=data_nonsl['gene-target-name']\n",
    "\n",
    "\n",
    "\n",
    "# Initialising the arrays\n",
    "protein_a_list=[]\n",
    "protein_b_list=[]\n",
    "protein_a_list_non=[]\n",
    "protein_b_list_non=[]\n",
    "\n",
    "population = np.arange(0,len(data_sl))\n",
    "\n",
    "# For loop for 10000 pairs sampled randomly from the SL/nSl pair list , and creating a big array of proteind domains id per protein pair\n",
    "\n",
    "for m in random.sample(list(population), 500):\n",
    "    protein_a=data_domains[data_domains['name']==query_gene[m]]\n",
    "    protein_b=data_domains[data_domains['name']==target_gene[m]]\n",
    "    protein_a_list.append(protein_a['domain-name'].tolist())\n",
    "    protein_b_list.append(protein_b['domain-name'].tolist())\n",
    "\n",
    "    protein_a_non=data_domains[data_domains['name']==query_gene_nonlethal[m]]\n",
    "    protein_b_non=data_domains[data_domains['name']==target_gene_nonlethal[m]]\n",
    "    protein_a_list_non.append(protein_a_non['domain-name'].tolist())\n",
    "    protein_b_list_non.append(protein_b_non['domain-name'].tolist())"
   ]
  },
  {
   "cell_type": "code",
   "execution_count": 4,
   "metadata": {
    "execution": {
     "iopub.execute_input": "2020-08-13T05:53:42.814540Z",
     "iopub.status.busy": "2020-08-13T05:53:42.814077Z",
     "iopub.status.idle": "2020-08-13T05:53:42.817919Z",
     "shell.execute_reply": "2020-08-13T05:53:42.818672Z"
    }
   },
   "outputs": [
    {
     "name": "stdout",
     "output_type": "stream",
     "text": [
      "We are going to analyze 500 protein pairs, out of 17871 SL protein pairs\n",
      "We are going to analyze 500 protein pairs, out of 43340 positive protein pairs\n"
     ]
    }
   ],
   "source": [
    "print('We are going to analyze',len((protein_a_list)) ,'protein pairs, out of',len(data_sl),'SL protein pairs')\n",
    "print('We are going to analyze',len((protein_a_list_non)) ,'protein pairs, out of',len(data_nonsl),'positive protein pairs')"
   ]
  },
  {
   "cell_type": "markdown",
   "metadata": {},
   "source": [
    "### Postprocessing #1:  Remove protein pairs from study if either protein in the pair does not contain any domain"
   ]
  },
  {
   "cell_type": "code",
   "execution_count": 5,
   "metadata": {
    "execution": {
     "iopub.execute_input": "2020-08-13T05:53:42.826313Z",
     "iopub.status.busy": "2020-08-13T05:53:42.825775Z",
     "iopub.status.idle": "2020-08-13T05:53:42.829565Z",
     "shell.execute_reply": "2020-08-13T05:53:42.829100Z"
    }
   },
   "outputs": [],
   "source": [
    "def remove_empty_domains(protein_list_search,protein_list_pair):\n",
    "    index=[]\n",
    "    for i in np.arange(0,len(protein_list_search)):\n",
    "        if protein_list_search[i]==[] or protein_list_pair[i]==[]:\n",
    "            index.append(i) ## index of empty values for the protein_a_list meaning they dont have any annotated domain\n",
    "\n",
    "    y=[x for x in np.arange(0,len(protein_list_search)) if x not in index] # a list with non empty values from protein_a list\n",
    "\n",
    "    protein_list_search_new=[]\n",
    "    protein_list_pair_new=[]\n",
    "    for i in y:\n",
    "        protein_list_search_new.append(protein_list_search[i])\n",
    "        protein_list_pair_new.append(protein_list_pair[i])\n",
    "    return protein_list_search_new,protein_list_pair_new\n",
    "\n",
    "## evaluating the function\n",
    "\n",
    "protein_a_list_new,protein_b_list_new=remove_empty_domains(protein_a_list,protein_b_list)\n",
    "\n",
    "protein_a_list_non_new,protein_b_list_non_new=remove_empty_domains(protein_a_list_non,protein_b_list_non)"
   ]
  },
  {
   "cell_type": "code",
   "execution_count": 6,
   "metadata": {
    "execution": {
     "iopub.execute_input": "2020-08-13T05:53:42.834064Z",
     "iopub.status.busy": "2020-08-13T05:53:42.833165Z",
     "iopub.status.idle": "2020-08-13T05:53:42.838707Z",
     "shell.execute_reply": "2020-08-13T05:53:42.838186Z"
    }
   },
   "outputs": [
    {
     "name": "stdout",
     "output_type": "stream",
     "text": [
      "The empty domain in the SL were: 61 out of 500 domains\n",
      "The empty domain in the nSL were: 89 out of 500 domains\n"
     ]
    }
   ],
   "source": [
    "print('The empty domain in the SL were:', len(protein_a_list)-len(protein_a_list_new), 'out of', len(protein_a_list),'domains')\n",
    "print('The empty domain in the nSL were:', len(protein_a_list_non)-len(protein_a_list_non_new), 'out of', len(protein_a_list_non),'domains')"
   ]
  },
  {
   "cell_type": "markdown",
   "metadata": {},
   "source": [
    "### Feature engineering: Select from each ordered indexes of domain id list which of them appear once, in both or in any of the domains of each protein pair"
   ]
  },
  {
   "cell_type": "markdown",
   "metadata": {},
   "source": [
    "#### Define function `get_indexes`"
   ]
  },
  {
   "cell_type": "code",
   "execution_count": 7,
   "metadata": {
    "execution": {
     "iopub.execute_input": "2020-08-13T05:53:42.844929Z",
     "iopub.status.busy": "2020-08-13T05:53:42.844424Z",
     "iopub.status.idle": "2020-08-13T05:53:42.849667Z",
     "shell.execute_reply": "2020-08-13T05:53:42.848977Z"
    }
   },
   "outputs": [
    {
     "data": {
      "text/plain": [
       "[1, 2]"
      ]
     },
     "execution_count": 7,
     "metadata": {},
     "output_type": "execute_result"
    }
   ],
   "source": [
    "get_indexes = lambda x, xs: [i for (y, i) in zip(xs, range(len(xs))) if x == y] # a function that give the index of whether a value appear in array or not\n",
    "a=[1,2,2,4,5,6,7,8,9,10]\n",
    "get_indexes(2,a)"
   ]
  },
  {
   "cell_type": "code",
   "execution_count": 8,
   "metadata": {
    "execution": {
     "iopub.execute_input": "2020-08-13T05:53:42.857006Z",
     "iopub.status.busy": "2020-08-13T05:53:42.856310Z",
     "iopub.status.idle": "2020-08-13T05:53:42.861259Z",
     "shell.execute_reply": "2020-08-13T05:53:42.862903Z"
    }
   },
   "outputs": [],
   "source": [
    "def feature_building(protein_a_list_new,protein_b_list_new):\n",
    "    x = np.unique(domain_id_list)\n",
    "    ## To avoid taking repeated domains from one protein of the pairs , lets reduced the domains of each protein from the pairs to their unique members\n",
    "    protein_a_list_unique=[]\n",
    "    protein_b_list_unique=[]\n",
    "    for i in np.arange(0,len(protein_a_list_new)):\n",
    "        protein_a_list_unique.append(np.unique(protein_a_list_new[i]))\n",
    "        protein_b_list_unique.append(np.unique(protein_b_list_new[i]))\n",
    "        \n",
    "    protein_feat_true=np.zeros(shape=(len(x),len(protein_a_list_unique)))\n",
    "    pair_a_b_array=[]\n",
    "    for i in np.arange(0,len(protein_a_list_unique)):\n",
    "        index_a=[]\n",
    "        \n",
    "        pair=[protein_a_list_unique[i],protein_b_list_unique[i]]\n",
    "        pair_a_b=np.concatenate(pair).ravel()\n",
    "        pair_a_b_array.append(pair_a_b)\n",
    "\n",
    "    j=0\n",
    "    for i in pair_a_b_array:  \n",
    "        array,index,counts=np.unique(i,return_index=True,return_counts=True)\n",
    "        \n",
    "        for k,m in zip(counts,array):\n",
    "            if k ==2:\n",
    "                protein_feat_true[get_indexes(m,x),j]=2\n",
    "                \n",
    "            if k==1:\n",
    "                protein_feat_true[get_indexes(m,x),j]=1\n",
    "        j=j+1\n",
    "    return protein_feat_true"
   ]
  },
  {
   "cell_type": "code",
   "execution_count": 9,
   "metadata": {
    "execution": {
     "iopub.execute_input": "2020-08-13T05:53:42.871387Z",
     "iopub.status.busy": "2020-08-13T05:53:42.870842Z",
     "iopub.status.idle": "2020-08-13T05:53:43.581789Z",
     "shell.execute_reply": "2020-08-13T05:53:43.581014Z"
    }
   },
   "outputs": [],
   "source": [
    "protein_feat_true=feature_building(protein_b_list_new=protein_b_list_new,protein_a_list_new=protein_a_list_new)\n",
    "protein_feat_true_pd=pd.DataFrame(protein_feat_true.T)\n",
    "\n",
    "protein_feat_non_true=feature_building(protein_b_list_new=protein_b_list_non_new,protein_a_list_new=protein_a_list_non_new)\n",
    "protein_feat_non_true_pd=pd.DataFrame(protein_feat_non_true.T)"
   ]
  },
  {
   "cell_type": "markdown",
   "metadata": {},
   "source": [
    "### How many ones and twos are in each dataset"
   ]
  },
  {
   "cell_type": "code",
   "execution_count": 10,
   "metadata": {
    "execution": {
     "iopub.execute_input": "2020-08-13T05:53:43.587062Z",
     "iopub.status.busy": "2020-08-13T05:53:43.586531Z",
     "iopub.status.idle": "2020-08-13T05:53:43.688090Z",
     "shell.execute_reply": "2020-08-13T05:53:43.688735Z"
    }
   },
   "outputs": [
    {
     "name": "stdout",
     "output_type": "stream",
     "text": [
      "fraction of twos in the SL array is 2.1837760500009414e-05\n",
      "fraction of ones in the SL array is 0.0010083021141211242\n",
      "fraction of twos in the PI array is 8.043272807705455e-06\n",
      "fraction of ones in the PI array is 0.0009056725181476342\n"
     ]
    }
   ],
   "source": [
    "index_2_true=protein_feat_true_pd.where(protein_feat_true_pd==2)\n",
    "index_2_true_count=index_2_true.count(axis=1).sum()\n",
    "\n",
    "index_1_true=protein_feat_true_pd.where(protein_feat_true_pd==1)\n",
    "index_1_true_count=index_1_true.count(axis=1).sum()\n",
    "\n",
    "index_2_nontrue=protein_feat_non_true_pd.where(protein_feat_non_true_pd==2)\n",
    "index_2_nontrue_count=index_2_nontrue.count(axis=1).sum()\n",
    "\n",
    "index_1_nontrue=protein_feat_non_true_pd.where(protein_feat_non_true_pd==1)\n",
    "index_1_nontrue_count=index_1_nontrue.count(axis=1).sum()\n",
    "\n",
    "\n",
    "print('fraction of twos in the SL array is',index_2_true_count/(len(protein_feat_true_pd.index)*len(protein_feat_true_pd.columns)))\n",
    "print('fraction of ones in the SL array is',index_1_true_count/(len(protein_feat_true_pd.index)*len(protein_feat_true_pd.columns)))\n",
    "print('fraction of twos in the PI array is',index_2_nontrue_count/(len(protein_feat_non_true_pd.index)*len(protein_feat_non_true_pd.columns)))\n",
    "print('fraction of ones in the PI array is',index_1_nontrue_count/(len(protein_feat_non_true_pd.index)*len(protein_feat_non_true_pd.columns)))"
   ]
  },
  {
   "cell_type": "markdown",
   "metadata": {},
   "source": [
    "#### Bar plot to visualize these numbers"
   ]
  },
  {
   "cell_type": "code",
   "execution_count": 11,
   "metadata": {
    "execution": {
     "iopub.execute_input": "2020-08-13T05:53:43.706894Z",
     "iopub.status.busy": "2020-08-13T05:53:43.706376Z",
     "iopub.status.idle": "2020-08-13T05:53:44.198938Z",
     "shell.execute_reply": "2020-08-13T05:53:44.197969Z"
    }
   },
   "outputs": [
    {
     "data": {
      "text/plain": [
       "([0, 1, 2, 3],\n",
       " [Text(0, 0, ''), Text(0, 0, ''), Text(0, 0, ''), Text(0, 0, '')])"
      ]
     },
     "execution_count": 11,
     "metadata": {},
     "output_type": "execute_result"
    },
    {
     "data": {
      "image/png": "[encoded data removed]",
      "text/plain": [
       "<Figure size 432x288 with 1 Axes>"
      ]
     },
     "metadata": {
      "filenames": {
       "image/png": "/home/runner/work/jupyter-book/jupyter-book/mini_book/docs/_build/jupyter_execute/prot_domains2lethality-FEATURES-POSTPROCESSING_18_1.png"
      },
      "needs_background": "light"
     },
     "output_type": "display_data"
    }
   ],
   "source": [
    "plt.bar(['fraction of 2 in the nSL','fraction of 1 in the nSL'],[index_2_nontrue_count/(len(protein_feat_non_true_pd.index)*len(protein_feat_non_true_pd.columns)),index_1_nontrue_count/(len(protein_feat_non_true_pd.index)*len(protein_feat_non_true_pd.columns))],alpha=0.6,color=['blue','lightblue']), \n",
    "\n",
    "plt.bar(['fraction of 2 in SL ','fraction of 1 in SL'],[index_2_true_count/(len(protein_feat_true_pd.index)*len(protein_feat_true_pd.columns)),index_1_true_count/(len(protein_feat_true_pd.index)*len(protein_feat_true_pd.columns))],alpha=0.6,color=['coral','lightcoral'])\n",
    "\n",
    "plt.ylabel('Fraction from the population')\n",
    "plt.yscale('log')\n",
    "plt.xticks(rotation=40)"
   ]
  },
  {
   "cell_type": "markdown",
   "metadata": {},
   "source": [
    "#### Adding the labels(response variables) to each dataset"
   ]
  },
  {
   "cell_type": "code",
   "execution_count": 12,
   "metadata": {
    "execution": {
     "iopub.execute_input": "2020-08-13T05:53:44.205797Z",
     "iopub.status.busy": "2020-08-13T05:53:44.204956Z",
     "iopub.status.idle": "2020-08-13T05:53:44.209051Z",
     "shell.execute_reply": "2020-08-13T05:53:44.208231Z"
    }
   },
   "outputs": [],
   "source": [
    "protein_feat_true_pd['lethality']=np.ones(shape=(len(protein_a_list_new)))\n",
    "protein_feat_non_true_pd['lethality']=np.zeros(shape=(len(protein_a_list_non_new)))"
   ]
  },
  {
   "cell_type": "markdown",
   "metadata": {},
   "source": [
    "#### Joining both datasets"
   ]
  },
  {
   "cell_type": "code",
   "execution_count": 13,
   "metadata": {
    "execution": {
     "iopub.execute_input": "2020-08-13T05:53:44.213894Z",
     "iopub.status.busy": "2020-08-13T05:53:44.213110Z",
     "iopub.status.idle": "2020-08-13T05:53:44.250847Z",
     "shell.execute_reply": "2020-08-13T05:53:44.251361Z"
    }
   },
   "outputs": [
    {
     "name": "stdout",
     "output_type": "stream",
     "text": [
      "The number of features are: 3026\n",
      "The number of samples are: 850\n"
     ]
    }
   ],
   "source": [
    "feature_post=pd.concat([protein_feat_true_pd,protein_feat_non_true_pd],axis=0)\n",
    "feature_post=feature_post.set_index(np.arange(0,len(protein_a_list_new)+len(protein_a_list_non_new)))\n",
    "print('The number of features are:',feature_post.shape[1])\n",
    "print('The number of samples are:',feature_post.shape[0])"
   ]
  },
  {
   "cell_type": "markdown",
   "metadata": {},
   "source": [
    "### Postprocessing and exploration of the feature matrix of both datasets"
   ]
  },
  {
   "cell_type": "code",
   "execution_count": 14,
   "metadata": {
    "execution": {
     "iopub.execute_input": "2020-08-13T05:53:44.268790Z",
     "iopub.status.busy": "2020-08-13T05:53:44.266625Z",
     "iopub.status.idle": "2020-08-13T05:53:48.904330Z",
     "shell.execute_reply": "2020-08-13T05:53:48.903432Z"
    }
   },
   "outputs": [],
   "source": [
    "mean=feature_post.T.describe().loc['mean']\n",
    "std=feature_post.T.describe().loc['std']\n",
    "lethality=feature_post['lethality']\n",
    "\n",
    "corr_keys=pd.concat([mean,std,lethality],axis=1)"
   ]
  },
  {
   "cell_type": "markdown",
   "metadata": {},
   "source": [
    "### Viz of the stats"
   ]
  },
  {
   "cell_type": "code",
   "execution_count": 15,
   "metadata": {
    "execution": {
     "iopub.execute_input": "2020-08-13T05:53:48.991799Z",
     "iopub.status.busy": "2020-08-13T05:53:48.929036Z",
     "iopub.status.idle": "2020-08-13T05:53:50.616077Z",
     "shell.execute_reply": "2020-08-13T05:53:50.616489Z"
    }
   },
   "outputs": [
    {
     "data": {
      "text/plain": [
       "Text(0.5, 1.08, 'Pairplot to see data dependencies with Lethality')"
      ]
     },
     "execution_count": 15,
     "metadata": {},
     "output_type": "execute_result"
    },
    {
     "data": {
      "image/png": "[encoded data removed]",
      "text/plain": [
       "<Figure size 412x360 with 6 Axes>"
      ]
     },
     "metadata": {
      "filenames": {
       "image/png": "/home/runner/work/jupyter-book/jupyter-book/mini_book/docs/_build/jupyter_execute/prot_domains2lethality-FEATURES-POSTPROCESSING_26_1.png"
      },
      "needs_background": "light"
     },
     "output_type": "display_data"
    }
   ],
   "source": [
    "pair=sns.pairplot(corr_keys,hue='lethality',diag_kind='kde',kind='reg',palette='colorblind')\n",
    "pair.fig.suptitle('Pairplot to see data dependencies with Lethality',y=1.08)"
   ]
  },
  {
   "cell_type": "code",
   "execution_count": 16,
   "metadata": {
    "execution": {
     "iopub.execute_input": "2020-08-13T05:53:50.626601Z",
     "iopub.status.busy": "2020-08-13T05:53:50.625821Z",
     "iopub.status.idle": "2020-08-13T05:53:50.629475Z",
     "shell.execute_reply": "2020-08-13T05:53:50.629091Z"
    }
   },
   "outputs": [],
   "source": [
    "X, y = feature_post.drop(columns=[\"lethality\"]), feature_post[\"lethality\"]"
   ]
  },
  {
   "cell_type": "code",
   "execution_count": 17,
   "metadata": {
    "execution": {
     "iopub.execute_input": "2020-08-13T05:53:50.633406Z",
     "iopub.status.busy": "2020-08-13T05:53:50.632944Z",
     "iopub.status.idle": "2020-08-13T05:53:50.848073Z",
     "shell.execute_reply": "2020-08-13T05:53:50.847516Z"
    }
   },
   "outputs": [],
   "source": [
    "from sklearn.preprocessing import StandardScaler\n",
    "scaler = StandardScaler()\n",
    "x_sl=protein_feat_true_pd.drop(columns=['lethality'])\n",
    "x_nsl=protein_feat_non_true_pd.drop(columns=['lethality'])\n",
    "\n",
    "X_sl_scaled = scaler.fit_transform(x_sl)\n",
    "X_nsl_scaled = scaler.fit_transform(x_nsl)"
   ]
  },
  {
   "cell_type": "code",
   "execution_count": 18,
   "metadata": {
    "execution": {
     "iopub.execute_input": "2020-08-13T05:53:50.852265Z",
     "iopub.status.busy": "2020-08-13T05:53:50.851756Z",
     "iopub.status.idle": "2020-08-13T05:53:50.857089Z",
     "shell.execute_reply": "2020-08-13T05:53:50.856596Z"
    }
   },
   "outputs": [
    {
     "data": {
      "text/plain": [
       "(439, 3025)"
      ]
     },
     "execution_count": 18,
     "metadata": {},
     "output_type": "execute_result"
    }
   ],
   "source": [
    "np.shape(X_sl_scaled)"
   ]
  },
  {
   "cell_type": "markdown",
   "metadata": {},
   "source": [
    "## How redundant are each of the protein domains?"
   ]
  },
  {
   "cell_type": "code",
   "execution_count": 19,
   "metadata": {
    "execution": {
     "iopub.execute_input": "2020-08-13T05:53:50.863057Z",
     "iopub.status.busy": "2020-08-13T05:53:50.862578Z",
     "iopub.status.idle": "2020-08-13T05:53:50.866053Z",
     "shell.execute_reply": "2020-08-13T05:53:50.866554Z"
    }
   },
   "outputs": [],
   "source": [
    "def PCA_component_contribution(scaled_matrix,original_data):\n",
    "    from sklearn.decomposition import PCA\n",
    "\n",
    "    model = PCA(0.95).fit(scaled_matrix)\n",
    "    ## apply dimensionality reduction to X_train\n",
    "    output_pca = model.transform(scaled_matrix)\n",
    "    \n",
    "    total=sum(model.explained_variance_)\n",
    "\n",
    "\n",
    "   \n",
    "    # number of components , that it will be the number of main axes times the number of original components \n",
    "    n_pcs= model.components_.shape[0] # the amount of non redundant protein domains \n",
    "\n",
    "    # get the index of the most important feature on EACH component\n",
    "    # LIST COMPREHENSION HERE\n",
    "    most_important = [np.abs(model.components_[i]).argmax() for i in range(n_pcs)]\n",
    "\n",
    "    initial_feature_names = original_data.columns\n",
    "    # get the names\n",
    "    most_important_names = [initial_feature_names[most_important[i]] for i in range(n_pcs)]\n",
    "    \n",
    "\n",
    "    # LIST COMPREHENSION HERE AGAIN\n",
    "    dic = {'PC{}'.format(i): most_important_names[i] for i in range(n_pcs)}\n",
    "\n",
    "    # build the dataframe\n",
    "    df = pd.DataFrame(dic.items(),columns=['pca-component','domain-number'])\n",
    "\n",
    "    return df,model.components_"
   ]
  },
  {
   "cell_type": "code",
   "execution_count": 20,
   "metadata": {
    "execution": {
     "iopub.execute_input": "2020-08-13T05:53:50.870381Z",
     "iopub.status.busy": "2020-08-13T05:53:50.869434Z",
     "iopub.status.idle": "2020-08-13T05:53:51.654914Z",
     "shell.execute_reply": "2020-08-13T05:53:51.655858Z"
    }
   },
   "outputs": [],
   "source": [
    "df_sl,components_pca_nsl=PCA_component_contribution(X_nsl_scaled,x_nsl)\n",
    "df_nsl,components_pca_sl=PCA_component_contribution(X_sl_scaled,x_sl)"
   ]
  },
  {
   "cell_type": "code",
   "execution_count": 21,
   "metadata": {
    "execution": {
     "iopub.execute_input": "2020-08-13T05:53:51.658805Z",
     "iopub.status.busy": "2020-08-13T05:53:51.658244Z",
     "iopub.status.idle": "2020-08-13T05:53:51.666767Z",
     "shell.execute_reply": "2020-08-13T05:53:51.667386Z"
    }
   },
   "outputs": [
    {
     "data": {
      "text/html": [
       "<div>\n",
       "<style scoped>\n",
       "    .dataframe tbody tr th:only-of-type {\n",
       "        vertical-align: middle;\n",
       "    }\n",
       "\n",
       "    .dataframe tbody tr th {\n",
       "        vertical-align: top;\n",
       "    }\n",
       "\n",
       "    .dataframe thead th {\n",
       "        text-align: right;\n",
       "    }\n",
       "</style>\n",
       "<table border=\"1\" class=\"dataframe\">\n",
       "  <thead>\n",
       "    <tr style=\"text-align: right;\">\n",
       "      <th></th>\n",
       "      <th>pca-component</th>\n",
       "      <th>domain-number</th>\n",
       "    </tr>\n",
       "  </thead>\n",
       "  <tbody>\n",
       "    <tr>\n",
       "      <th>0</th>\n",
       "      <td>PC0</td>\n",
       "      <td>540</td>\n",
       "    </tr>\n",
       "    <tr>\n",
       "      <th>1</th>\n",
       "      <td>PC1</td>\n",
       "      <td>142</td>\n",
       "    </tr>\n",
       "    <tr>\n",
       "      <th>2</th>\n",
       "      <td>PC2</td>\n",
       "      <td>1260</td>\n",
       "    </tr>\n",
       "    <tr>\n",
       "      <th>3</th>\n",
       "      <td>PC3</td>\n",
       "      <td>269</td>\n",
       "    </tr>\n",
       "    <tr>\n",
       "      <th>4</th>\n",
       "      <td>PC4</td>\n",
       "      <td>1260</td>\n",
       "    </tr>\n",
       "  </tbody>\n",
       "</table>\n",
       "</div>"
      ],
      "text/plain": [
       "  pca-component  domain-number\n",
       "0           PC0            540\n",
       "1           PC1            142\n",
       "2           PC2           1260\n",
       "3           PC3            269\n",
       "4           PC4           1260"
      ]
     },
     "execution_count": 21,
     "metadata": {},
     "output_type": "execute_result"
    }
   ],
   "source": [
    "df_sl.head()"
   ]
  },
  {
   "cell_type": "markdown",
   "metadata": {},
   "source": [
    "## which are the shared domains between nSL and SL pairs , in the PCA reduced samples"
   ]
  },
  {
   "cell_type": "code",
   "execution_count": 22,
   "metadata": {
    "execution": {
     "iopub.execute_input": "2020-08-13T05:53:51.669724Z",
     "iopub.status.busy": "2020-08-13T05:53:51.669119Z",
     "iopub.status.idle": "2020-08-13T05:53:51.696626Z",
     "shell.execute_reply": "2020-08-13T05:53:51.697116Z"
    }
   },
   "outputs": [
    {
     "data": {
      "text/html": [
       "<div>\n",
       "<style scoped>\n",
       "    .dataframe tbody tr th:only-of-type {\n",
       "        vertical-align: middle;\n",
       "    }\n",
       "\n",
       "    .dataframe tbody tr th {\n",
       "        vertical-align: top;\n",
       "    }\n",
       "\n",
       "    .dataframe thead th {\n",
       "        text-align: right;\n",
       "    }\n",
       "</style>\n",
       "<table border=\"1\" class=\"dataframe\">\n",
       "  <thead>\n",
       "    <tr style=\"text-align: right;\">\n",
       "      <th></th>\n",
       "      <th>pca-component_x</th>\n",
       "      <th>domain-number</th>\n",
       "      <th>pca-component_y</th>\n",
       "      <th>domain-description</th>\n",
       "    </tr>\n",
       "  </thead>\n",
       "  <tbody>\n",
       "    <tr>\n",
       "      <th>0</th>\n",
       "      <td>PC0</td>\n",
       "      <td>540</td>\n",
       "      <td>PC3</td>\n",
       "      <td>Cytochrome_B; Cytochrome b/b6, N-terminal</td>\n",
       "    </tr>\n",
       "    <tr>\n",
       "      <th>1</th>\n",
       "      <td>PC6</td>\n",
       "      <td>2544</td>\n",
       "      <td>PC12</td>\n",
       "      <td>Sybindin; Trafficking protein particle complex...</td>\n",
       "    </tr>\n",
       "    <tr>\n",
       "      <th>2</th>\n",
       "      <td>PC7</td>\n",
       "      <td>3</td>\n",
       "      <td>PC11</td>\n",
       "      <td>2-Hacid_dh_C; D-isomer specific 2-hydroxyacid ...</td>\n",
       "    </tr>\n",
       "    <tr>\n",
       "      <th>3</th>\n",
       "      <td>PC14</td>\n",
       "      <td>1082</td>\n",
       "      <td>PC34</td>\n",
       "      <td>Gpi1; N-acetylglucosaminyl transferase component</td>\n",
       "    </tr>\n",
       "    <tr>\n",
       "      <th>4</th>\n",
       "      <td>PC14</td>\n",
       "      <td>1082</td>\n",
       "      <td>PC35</td>\n",
       "      <td>Gpi1; N-acetylglucosaminyl transferase component</td>\n",
       "    </tr>\n",
       "    <tr>\n",
       "      <th>...</th>\n",
       "      <td>...</td>\n",
       "      <td>...</td>\n",
       "      <td>...</td>\n",
       "      <td>...</td>\n",
       "    </tr>\n",
       "    <tr>\n",
       "      <th>69</th>\n",
       "      <td>PC264</td>\n",
       "      <td>2700</td>\n",
       "      <td>PC190</td>\n",
       "      <td>Trehalose_PPase; Trehalose-phosphatase</td>\n",
       "    </tr>\n",
       "    <tr>\n",
       "      <th>70</th>\n",
       "      <td>PC267</td>\n",
       "      <td>2584</td>\n",
       "      <td>PC138</td>\n",
       "      <td>TFIIIC_sub6; Transcription factor TFIIIC, tau5...</td>\n",
       "    </tr>\n",
       "    <tr>\n",
       "      <th>71</th>\n",
       "      <td>PC267</td>\n",
       "      <td>2584</td>\n",
       "      <td>PC139</td>\n",
       "      <td>TFIIIC_sub6; Transcription factor TFIIIC, tau5...</td>\n",
       "    </tr>\n",
       "    <tr>\n",
       "      <th>72</th>\n",
       "      <td>PC271</td>\n",
       "      <td>38</td>\n",
       "      <td>PC211</td>\n",
       "      <td>ABC2_membrane; ABC-2 type transporter</td>\n",
       "    </tr>\n",
       "    <tr>\n",
       "      <th>73</th>\n",
       "      <td>PC274</td>\n",
       "      <td>0</td>\n",
       "      <td>PC49</td>\n",
       "      <td>1-cysPrx_C; Peroxiredoxin, C-terminal</td>\n",
       "    </tr>\n",
       "  </tbody>\n",
       "</table>\n",
       "<p>74 rows × 4 columns</p>\n",
       "</div>"
      ],
      "text/plain": [
       "   pca-component_x  domain-number pca-component_y  \\\n",
       "0              PC0            540             PC3   \n",
       "1              PC6           2544            PC12   \n",
       "2              PC7              3            PC11   \n",
       "3             PC14           1082            PC34   \n",
       "4             PC14           1082            PC35   \n",
       "..             ...            ...             ...   \n",
       "69           PC264           2700           PC190   \n",
       "70           PC267           2584           PC138   \n",
       "71           PC267           2584           PC139   \n",
       "72           PC271             38           PC211   \n",
       "73           PC274              0            PC49   \n",
       "\n",
       "                                   domain-description  \n",
       "0           Cytochrome_B; Cytochrome b/b6, N-terminal  \n",
       "1   Sybindin; Trafficking protein particle complex...  \n",
       "2   2-Hacid_dh_C; D-isomer specific 2-hydroxyacid ...  \n",
       "3    Gpi1; N-acetylglucosaminyl transferase component  \n",
       "4    Gpi1; N-acetylglucosaminyl transferase component  \n",
       "..                                                ...  \n",
       "69             Trehalose_PPase; Trehalose-phosphatase  \n",
       "70  TFIIIC_sub6; Transcription factor TFIIIC, tau5...  \n",
       "71  TFIIIC_sub6; Transcription factor TFIIIC, tau5...  \n",
       "72              ABC2_membrane; ABC-2 type transporter  \n",
       "73              1-cysPrx_C; Peroxiredoxin, C-terminal  \n",
       "\n",
       "[74 rows x 4 columns]"
      ]
     },
     "execution_count": 22,
     "metadata": {},
     "output_type": "execute_result"
    }
   ],
   "source": [
    "df_shared_domains=pd.merge(df_sl,df_nsl,how='inner',on='domain-number')\n",
    "domains_name=np.unique(data_domains['domain-name'])\n",
    "domains_description=np.unique(data_domains['domain-descrip'])\n",
    "\n",
    "df_shared_domains['domain-description']=domains_description[df_shared_domains['domain-number']]\n",
    "\n",
    "\n",
    "df_shared_domains"
   ]
  },
  {
   "cell_type": "code",
   "execution_count": 23,
   "metadata": {
    "execution": {
     "iopub.execute_input": "2020-08-13T05:53:51.699390Z",
     "iopub.status.busy": "2020-08-13T05:53:51.698850Z",
     "iopub.status.idle": "2020-08-13T05:53:51.704507Z",
     "shell.execute_reply": "2020-08-13T05:53:51.705046Z"
    }
   },
   "outputs": [
    {
     "name": "stdout",
     "output_type": "stream",
     "text": [
      "The number of shared domains between SL and nSL pairs,after PCA, is =  74 out of 569 so the 13.005272407732864 %\n"
     ]
    }
   ],
   "source": [
    "print('The number of shared domains between SL and nSL pairs,after PCA, is = ',len(df_shared_domains), 'out of', len(df_sl)+len(df_nsl), 'so the',100*len(df_shared_domains)/(len(df_sl)+len(df_nsl)),'%')"
   ]
  },
  {
   "cell_type": "markdown",
   "metadata": {},
   "source": [
    "## Domains exclusive to SL"
   ]
  },
  {
   "cell_type": "code",
   "execution_count": 24,
   "metadata": {
    "execution": {
     "iopub.execute_input": "2020-08-13T05:53:51.707466Z",
     "iopub.status.busy": "2020-08-13T05:53:51.706665Z",
     "iopub.status.idle": "2020-08-13T05:53:51.733795Z",
     "shell.execute_reply": "2020-08-13T05:53:51.734292Z"
    }
   },
   "outputs": [
    {
     "data": {
      "text/html": [
       "<div>\n",
       "<style scoped>\n",
       "    .dataframe tbody tr th:only-of-type {\n",
       "        vertical-align: middle;\n",
       "    }\n",
       "\n",
       "    .dataframe tbody tr th {\n",
       "        vertical-align: top;\n",
       "    }\n",
       "\n",
       "    .dataframe thead th {\n",
       "        text-align: right;\n",
       "    }\n",
       "</style>\n",
       "<table border=\"1\" class=\"dataframe\">\n",
       "  <thead>\n",
       "    <tr style=\"text-align: right;\">\n",
       "      <th></th>\n",
       "      <th>pca-component_x</th>\n",
       "      <th>domain-number</th>\n",
       "      <th>pca-component_y</th>\n",
       "      <th>domain-description</th>\n",
       "    </tr>\n",
       "  </thead>\n",
       "  <tbody>\n",
       "    <tr>\n",
       "      <th>1</th>\n",
       "      <td>PC1</td>\n",
       "      <td>142</td>\n",
       "      <td>NaN</td>\n",
       "      <td>ATP_synt_H; ATPase, V0 complex, subunit e1/e2</td>\n",
       "    </tr>\n",
       "    <tr>\n",
       "      <th>2</th>\n",
       "      <td>PC2</td>\n",
       "      <td>1260</td>\n",
       "      <td>NaN</td>\n",
       "      <td>KOW</td>\n",
       "    </tr>\n",
       "    <tr>\n",
       "      <th>3</th>\n",
       "      <td>PC3</td>\n",
       "      <td>269</td>\n",
       "      <td>NaN</td>\n",
       "      <td>BING4CT; BING4, C-terminal domain</td>\n",
       "    </tr>\n",
       "    <tr>\n",
       "      <th>4</th>\n",
       "      <td>PC4</td>\n",
       "      <td>1260</td>\n",
       "      <td>NaN</td>\n",
       "      <td>KOW</td>\n",
       "    </tr>\n",
       "    <tr>\n",
       "      <th>5</th>\n",
       "      <td>PC5</td>\n",
       "      <td>2610</td>\n",
       "      <td>NaN</td>\n",
       "      <td>TPK_B1_binding; Thiamin pyrophosphokinase, vit...</td>\n",
       "    </tr>\n",
       "    <tr>\n",
       "      <th>...</th>\n",
       "      <td>...</td>\n",
       "      <td>...</td>\n",
       "      <td>...</td>\n",
       "      <td>...</td>\n",
       "    </tr>\n",
       "    <tr>\n",
       "      <th>282</th>\n",
       "      <td>PC268</td>\n",
       "      <td>1857</td>\n",
       "      <td>NaN</td>\n",
       "      <td>Patatin; Patatin-like phospholipase domain</td>\n",
       "    </tr>\n",
       "    <tr>\n",
       "      <th>283</th>\n",
       "      <td>PC269</td>\n",
       "      <td>2691</td>\n",
       "      <td>NaN</td>\n",
       "      <td>Torus; Torus domain</td>\n",
       "    </tr>\n",
       "    <tr>\n",
       "      <th>284</th>\n",
       "      <td>PC270</td>\n",
       "      <td>1458</td>\n",
       "      <td>NaN</td>\n",
       "      <td>Mem_trans; Membrane transport protein</td>\n",
       "    </tr>\n",
       "    <tr>\n",
       "      <th>286</th>\n",
       "      <td>PC272</td>\n",
       "      <td>619</td>\n",
       "      <td>NaN</td>\n",
       "      <td>DNA_pol_phi; DNA polymerase V</td>\n",
       "    </tr>\n",
       "    <tr>\n",
       "      <th>287</th>\n",
       "      <td>PC273</td>\n",
       "      <td>819</td>\n",
       "      <td>NaN</td>\n",
       "      <td>ERO1; Endoplasmic reticulum oxidoreductin 1</td>\n",
       "    </tr>\n",
       "  </tbody>\n",
       "</table>\n",
       "<p>215 rows × 4 columns</p>\n",
       "</div>"
      ],
      "text/plain": [
       "    pca-component_x  domain-number pca-component_y  \\\n",
       "1               PC1            142             NaN   \n",
       "2               PC2           1260             NaN   \n",
       "3               PC3            269             NaN   \n",
       "4               PC4           1260             NaN   \n",
       "5               PC5           2610             NaN   \n",
       "..              ...            ...             ...   \n",
       "282           PC268           1857             NaN   \n",
       "283           PC269           2691             NaN   \n",
       "284           PC270           1458             NaN   \n",
       "286           PC272            619             NaN   \n",
       "287           PC273            819             NaN   \n",
       "\n",
       "                                    domain-description  \n",
       "1        ATP_synt_H; ATPase, V0 complex, subunit e1/e2  \n",
       "2                                                  KOW  \n",
       "3                    BING4CT; BING4, C-terminal domain  \n",
       "4                                                  KOW  \n",
       "5    TPK_B1_binding; Thiamin pyrophosphokinase, vit...  \n",
       "..                                                 ...  \n",
       "282         Patatin; Patatin-like phospholipase domain  \n",
       "283                                Torus; Torus domain  \n",
       "284              Mem_trans; Membrane transport protein  \n",
       "286                      DNA_pol_phi; DNA polymerase V  \n",
       "287        ERO1; Endoplasmic reticulum oxidoreductin 1  \n",
       "\n",
       "[215 rows x 4 columns]"
      ]
     },
     "execution_count": 24,
     "metadata": {},
     "output_type": "execute_result"
    }
   ],
   "source": [
    "df_sl_exclusive=pd.merge(df_sl,df_nsl,how='left',on='domain-number')\n",
    "\n",
    "domains_name=np.unique(data_domains['domain-name'])\n",
    "domains_description=np.unique(data_domains['domain-descrip'])\n",
    "\n",
    "df_sl_exclusive['domain-description']=domains_description[df_sl_exclusive['domain-number']]\n",
    "df_sl_exclusive[pd.isnull(df_sl_exclusive['pca-component_y'])]"
   ]
  },
  {
   "cell_type": "code",
   "execution_count": 25,
   "metadata": {
    "execution": {
     "iopub.execute_input": "2020-08-13T05:53:51.743462Z",
     "iopub.status.busy": "2020-08-13T05:53:51.742875Z",
     "iopub.status.idle": "2020-08-13T05:53:51.748325Z",
     "shell.execute_reply": "2020-08-13T05:53:51.748758Z"
    }
   },
   "outputs": [
    {
     "name": "stdout",
     "output_type": "stream",
     "text": [
      "The number of exclusive domains from SL pairs, after PCA, is =  289 out of 569 so the 50.790861159929705 %\n"
     ]
    }
   ],
   "source": [
    "print('The number of exclusive domains from SL pairs, after PCA, is = ',len(df_sl_exclusive), 'out of', len(df_sl)+len(df_nsl), 'so the',100*len(df_sl_exclusive)/(len(df_sl)+len(df_nsl)),'%')"
   ]
  },
  {
   "cell_type": "code",
   "execution_count": 26,
   "metadata": {
    "execution": {
     "iopub.execute_input": "2020-08-13T05:53:51.752045Z",
     "iopub.status.busy": "2020-08-13T05:53:51.751386Z",
     "iopub.status.idle": "2020-08-13T05:53:51.782375Z",
     "shell.execute_reply": "2020-08-13T05:53:51.783060Z"
    }
   },
   "outputs": [
    {
     "data": {
      "text/html": [
       "<div>\n",
       "<style scoped>\n",
       "    .dataframe tbody tr th:only-of-type {\n",
       "        vertical-align: middle;\n",
       "    }\n",
       "\n",
       "    .dataframe tbody tr th {\n",
       "        vertical-align: top;\n",
       "    }\n",
       "\n",
       "    .dataframe thead th {\n",
       "        text-align: right;\n",
       "    }\n",
       "</style>\n",
       "<table border=\"1\" class=\"dataframe\">\n",
       "  <thead>\n",
       "    <tr style=\"text-align: right;\">\n",
       "      <th></th>\n",
       "      <th>pca-component_x</th>\n",
       "      <th>domain-number</th>\n",
       "      <th>pca-component_y</th>\n",
       "      <th>domain-description</th>\n",
       "    </tr>\n",
       "  </thead>\n",
       "  <tbody>\n",
       "    <tr>\n",
       "      <th>0</th>\n",
       "      <td>NaN</td>\n",
       "      <td>1028</td>\n",
       "      <td>PC0</td>\n",
       "      <td>GatB_Yqey; Asn/Gln amidotransferase</td>\n",
       "    </tr>\n",
       "    <tr>\n",
       "      <th>1</th>\n",
       "      <td>NaN</td>\n",
       "      <td>305</td>\n",
       "      <td>PC1</td>\n",
       "      <td>Brr6_like_C_C; Brl1/Brr6 domain</td>\n",
       "    </tr>\n",
       "    <tr>\n",
       "      <th>2</th>\n",
       "      <td>NaN</td>\n",
       "      <td>268</td>\n",
       "      <td>PC2</td>\n",
       "      <td>BHD_3; Rad4 beta-hairpin domain 3</td>\n",
       "    </tr>\n",
       "    <tr>\n",
       "      <th>4</th>\n",
       "      <td>NaN</td>\n",
       "      <td>180</td>\n",
       "      <td>PC4</td>\n",
       "      <td>Aim21; Altered inheritance of mitochondria pro...</td>\n",
       "    </tr>\n",
       "    <tr>\n",
       "      <th>5</th>\n",
       "      <td>NaN</td>\n",
       "      <td>2113</td>\n",
       "      <td>PC5</td>\n",
       "      <td>Rav1p_C; RAVE complex protein Rav1 C-terminal</td>\n",
       "    </tr>\n",
       "    <tr>\n",
       "      <th>...</th>\n",
       "      <td>...</td>\n",
       "      <td>...</td>\n",
       "      <td>...</td>\n",
       "      <td>...</td>\n",
       "    </tr>\n",
       "    <tr>\n",
       "      <th>299</th>\n",
       "      <td>NaN</td>\n",
       "      <td>71</td>\n",
       "      <td>PC289</td>\n",
       "      <td>ALAD; Delta-aminolevulinic acid dehydratase</td>\n",
       "    </tr>\n",
       "    <tr>\n",
       "      <th>300</th>\n",
       "      <td>NaN</td>\n",
       "      <td>2077</td>\n",
       "      <td>PC290</td>\n",
       "      <td>RTP1_C2; RNA polymerase II assembly factor Rtp...</td>\n",
       "    </tr>\n",
       "    <tr>\n",
       "      <th>301</th>\n",
       "      <td>NaN</td>\n",
       "      <td>2577</td>\n",
       "      <td>PC291</td>\n",
       "      <td>TFIID_20kDa; Transcription initiation factor T...</td>\n",
       "    </tr>\n",
       "    <tr>\n",
       "      <th>302</th>\n",
       "      <td>NaN</td>\n",
       "      <td>565</td>\n",
       "      <td>PC292</td>\n",
       "      <td>DCB; Mon2, dimerisation and cyclophilin-bindin...</td>\n",
       "    </tr>\n",
       "    <tr>\n",
       "      <th>303</th>\n",
       "      <td>NaN</td>\n",
       "      <td>1816</td>\n",
       "      <td>PC293</td>\n",
       "      <td>PRKCSH_1; Mannose-6-phosphate receptor binding...</td>\n",
       "    </tr>\n",
       "  </tbody>\n",
       "</table>\n",
       "<p>230 rows × 4 columns</p>\n",
       "</div>"
      ],
      "text/plain": [
       "    pca-component_x  domain-number pca-component_y  \\\n",
       "0               NaN           1028             PC0   \n",
       "1               NaN            305             PC1   \n",
       "2               NaN            268             PC2   \n",
       "4               NaN            180             PC4   \n",
       "5               NaN           2113             PC5   \n",
       "..              ...            ...             ...   \n",
       "299             NaN             71           PC289   \n",
       "300             NaN           2077           PC290   \n",
       "301             NaN           2577           PC291   \n",
       "302             NaN            565           PC292   \n",
       "303             NaN           1816           PC293   \n",
       "\n",
       "                                    domain-description  \n",
       "0                  GatB_Yqey; Asn/Gln amidotransferase  \n",
       "1                      Brr6_like_C_C; Brl1/Brr6 domain  \n",
       "2                    BHD_3; Rad4 beta-hairpin domain 3  \n",
       "4    Aim21; Altered inheritance of mitochondria pro...  \n",
       "5        Rav1p_C; RAVE complex protein Rav1 C-terminal  \n",
       "..                                                 ...  \n",
       "299        ALAD; Delta-aminolevulinic acid dehydratase  \n",
       "300  RTP1_C2; RNA polymerase II assembly factor Rtp...  \n",
       "301  TFIID_20kDa; Transcription initiation factor T...  \n",
       "302  DCB; Mon2, dimerisation and cyclophilin-bindin...  \n",
       "303  PRKCSH_1; Mannose-6-phosphate receptor binding...  \n",
       "\n",
       "[230 rows x 4 columns]"
      ]
     },
     "execution_count": 26,
     "metadata": {},
     "output_type": "execute_result"
    }
   ],
   "source": [
    "df_nsl_exclusive=pd.merge(df_sl,df_nsl,how='right',on='domain-number')\n",
    "\n",
    "domains_name=np.unique(data_domains['domain-name'])\n",
    "domains_description=np.unique(data_domains['domain-descrip'])\n",
    "\n",
    "df_nsl_exclusive['domain-description']=domains_description[df_nsl_exclusive['domain-number']]\n",
    "df_nsl_exclusive[pd.isnull(df_nsl_exclusive['pca-component_x'])]"
   ]
  },
  {
   "cell_type": "code",
   "execution_count": 27,
   "metadata": {
    "execution": {
     "iopub.execute_input": "2020-08-13T05:53:51.789074Z",
     "iopub.status.busy": "2020-08-13T05:53:51.788256Z",
     "iopub.status.idle": "2020-08-13T05:53:51.792535Z",
     "shell.execute_reply": "2020-08-13T05:53:51.791695Z"
    }
   },
   "outputs": [
    {
     "name": "stdout",
     "output_type": "stream",
     "text": [
      "The number of exclusive domains from non SL pairs, after PCA, is =  304 out of 569 so the 53.42706502636204 %\n"
     ]
    }
   ],
   "source": [
    "print('The number of exclusive domains from non SL pairs, after PCA, is = ',len(df_nsl_exclusive), 'out of', len(df_sl)+len(df_nsl), 'so the',100*len(df_nsl_exclusive)/(len(df_sl)+len(df_nsl)),'%')"
   ]
  },
  {
   "cell_type": "markdown",
   "metadata": {},
   "source": [
    "## Let see to the domains-number that get repeated after the PCA analysis , and selecting the most explanatory feature by its explained variance."
   ]
  },
  {
   "cell_type": "code",
   "execution_count": 28,
   "metadata": {
    "execution": {
     "iopub.execute_input": "2020-08-13T05:53:51.813429Z",
     "iopub.status.busy": "2020-08-13T05:53:51.812787Z",
     "iopub.status.idle": "2020-08-13T05:53:51.816979Z",
     "shell.execute_reply": "2020-08-13T05:53:51.816487Z"
    }
   },
   "outputs": [],
   "source": [
    "duplicated_features_sl=df_sl[df_sl.iloc[:,1].duplicated()]\n",
    "repeated_features_sl=pd.DataFrame()\n",
    "\n",
    "domains_name=np.unique(data_domains['domain-name'])\n",
    "domains_description=np.unique(data_domains['domain-descrip'])\n",
    "\n",
    "repeated_features_sl['domain-name']=domains_name[duplicated_features_sl.iloc[:,1]] \n",
    "repeated_features_sl['domain-description']=domains_description[duplicated_features_sl.iloc[:,1]]\n",
    "\n",
    "duplicated_features_nsl=df_nsl[df_nsl.iloc[:,1].duplicated()]\n",
    "repeated_features_nsl=pd.DataFrame()\n",
    "\n",
    "repeated_features_nsl['domain-name']=domains_name[duplicated_features_nsl.iloc[:,1]] \n",
    "repeated_features_nsl['domain-description']=domains_description[duplicated_features_nsl.iloc[:,1]]"
   ]
  },
  {
   "cell_type": "code",
   "execution_count": 29,
   "metadata": {
    "execution": {
     "iopub.execute_input": "2020-08-13T05:53:51.827583Z",
     "iopub.status.busy": "2020-08-13T05:53:51.825302Z",
     "iopub.status.idle": "2020-08-13T05:53:51.835822Z",
     "shell.execute_reply": "2020-08-13T05:53:51.835315Z"
    }
   },
   "outputs": [
    {
     "name": "stderr",
     "output_type": "stream",
     "text": [
      "/usr/share/miniconda3/envs/wintest/lib/python3.7/site-packages/ipykernel_launcher.py:3: SettingWithCopyWarning: \n",
      "A value is trying to be set on a copy of a slice from a DataFrame.\n",
      "Try using .loc[row_indexer,col_indexer] = value instead\n",
      "\n",
      "See the caveats in the documentation: https://pandas.pydata.org/pandas-docs/stable/user_guide/indexing.html#returning-a-view-versus-a-copy\n",
      "  This is separate from the ipykernel package so we can avoid doing imports until\n"
     ]
    },
    {
     "data": {
      "text/plain": [
       "((38, 4), (289, 4))"
      ]
     },
     "execution_count": 29,
     "metadata": {},
     "output_type": "execute_result"
    }
   ],
   "source": [
    "only_sl_pd=pd.merge(repeated_features_sl,repeated_features_nsl,how='left',on=['domain-name'])\n",
    "data_only_sl = only_sl_pd[pd.isnull(only_sl_pd['domain-description_y'])]\n",
    "data_only_sl['domain-description']=data_only_sl['domain-description_x']\n",
    "data_only_sl.shape,df_sl_exclusive.shape"
   ]
  },
  {
   "cell_type": "code",
   "execution_count": 30,
   "metadata": {
    "execution": {
     "iopub.execute_input": "2020-08-13T05:53:51.855859Z",
     "iopub.status.busy": "2020-08-13T05:53:51.840789Z",
     "iopub.status.idle": "2020-08-13T05:53:51.860970Z",
     "shell.execute_reply": "2020-08-13T05:53:51.860190Z"
    }
   },
   "outputs": [
    {
     "data": {
      "text/html": [
       "<div>\n",
       "<style scoped>\n",
       "    .dataframe tbody tr th:only-of-type {\n",
       "        vertical-align: middle;\n",
       "    }\n",
       "\n",
       "    .dataframe tbody tr th {\n",
       "        vertical-align: top;\n",
       "    }\n",
       "\n",
       "    .dataframe thead th {\n",
       "        text-align: right;\n",
       "    }\n",
       "</style>\n",
       "<table border=\"1\" class=\"dataframe\">\n",
       "  <thead>\n",
       "    <tr style=\"text-align: right;\">\n",
       "      <th></th>\n",
       "      <th>domain-name</th>\n",
       "      <th>domain-description_x</th>\n",
       "      <th>domain-description_y</th>\n",
       "    </tr>\n",
       "  </thead>\n",
       "  <tbody>\n",
       "    <tr>\n",
       "      <th>0</th>\n",
       "      <td>PF01055</td>\n",
       "      <td>NaN</td>\n",
       "      <td>Chs3p; Chitin synthase III catalytic subunit</td>\n",
       "    </tr>\n",
       "    <tr>\n",
       "      <th>1</th>\n",
       "      <td>PF00013</td>\n",
       "      <td>NaN</td>\n",
       "      <td>3-HAO; 3-hydroxyanthranilic acid dioxygenase</td>\n",
       "    </tr>\n",
       "    <tr>\n",
       "      <th>2</th>\n",
       "      <td>PF00610</td>\n",
       "      <td>NaN</td>\n",
       "      <td>Beach; BEACH domain</td>\n",
       "    </tr>\n",
       "    <tr>\n",
       "      <th>3</th>\n",
       "      <td>PF03234</td>\n",
       "      <td>NaN</td>\n",
       "      <td>Gpi1; N-acetylglucosaminyl transferase component</td>\n",
       "    </tr>\n",
       "    <tr>\n",
       "      <th>4</th>\n",
       "      <td>PF00580</td>\n",
       "      <td>NaN</td>\n",
       "      <td>BRCT_2; BRCT domain</td>\n",
       "    </tr>\n",
       "    <tr>\n",
       "      <th>5</th>\n",
       "      <td>PF09757</td>\n",
       "      <td>NaN</td>\n",
       "      <td>Ribosomal_L14e; Ribosomal protein L14e domain</td>\n",
       "    </tr>\n",
       "    <tr>\n",
       "      <th>6</th>\n",
       "      <td>PF01608</td>\n",
       "      <td>NaN</td>\n",
       "      <td>DUF2781</td>\n",
       "    </tr>\n",
       "    <tr>\n",
       "      <th>7</th>\n",
       "      <td>PF06870</td>\n",
       "      <td>NaN</td>\n",
       "      <td>PA14; PA14 domain</td>\n",
       "    </tr>\n",
       "    <tr>\n",
       "      <th>8</th>\n",
       "      <td>PF10587</td>\n",
       "      <td>NaN</td>\n",
       "      <td>SHS2_Rpb7-N; RNA polymerase Rpb7, N-terminal</td>\n",
       "    </tr>\n",
       "    <tr>\n",
       "      <th>9</th>\n",
       "      <td>PF06071</td>\n",
       "      <td>NaN</td>\n",
       "      <td>Nop; Nop domain</td>\n",
       "    </tr>\n",
       "    <tr>\n",
       "      <th>10</th>\n",
       "      <td>PF09763</td>\n",
       "      <td>NaN</td>\n",
       "      <td>Ribosomal_L16; Ribosomal protein L10e/L16</td>\n",
       "    </tr>\n",
       "    <tr>\n",
       "      <th>11</th>\n",
       "      <td>PF00324</td>\n",
       "      <td>NaN</td>\n",
       "      <td>Acyl-CoA_ox_N; Acyl-coenzyme A oxidase, N-term...</td>\n",
       "    </tr>\n",
       "    <tr>\n",
       "      <th>12</th>\n",
       "      <td>PF02984</td>\n",
       "      <td>NaN</td>\n",
       "      <td>Gal4_dimer; Gal4 dimerisation domain</td>\n",
       "    </tr>\n",
       "    <tr>\n",
       "      <th>13</th>\n",
       "      <td>PF13928</td>\n",
       "      <td>NaN</td>\n",
       "      <td>Tubulin; Tubulin/FtsZ, GTPase domain</td>\n",
       "    </tr>\n",
       "    <tr>\n",
       "      <th>14</th>\n",
       "      <td>PF07544</td>\n",
       "      <td>NaN</td>\n",
       "      <td>PEX-1N; Peroxisome biogenesis factor 1, N-term...</td>\n",
       "    </tr>\n",
       "    <tr>\n",
       "      <th>15</th>\n",
       "      <td>PF07544</td>\n",
       "      <td>NaN</td>\n",
       "      <td>PEX-1N; Peroxisome biogenesis factor 1, N-term...</td>\n",
       "    </tr>\n",
       "    <tr>\n",
       "      <th>16</th>\n",
       "      <td>PF00957</td>\n",
       "      <td>NaN</td>\n",
       "      <td>Candida_ALS_N; Agglutinin-like protein, N-term...</td>\n",
       "    </tr>\n",
       "    <tr>\n",
       "      <th>17</th>\n",
       "      <td>PF01261</td>\n",
       "      <td>NaN</td>\n",
       "      <td>DER1</td>\n",
       "    </tr>\n",
       "    <tr>\n",
       "      <th>18</th>\n",
       "      <td>PF01680</td>\n",
       "      <td>NaN</td>\n",
       "      <td>DUF3605; Protein of unknown function DUF3605</td>\n",
       "    </tr>\n",
       "    <tr>\n",
       "      <th>19</th>\n",
       "      <td>PF04056</td>\n",
       "      <td>NaN</td>\n",
       "      <td>KAR9; Karyogamy protein, KAR9</td>\n",
       "    </tr>\n",
       "    <tr>\n",
       "      <th>21</th>\n",
       "      <td>PF08586</td>\n",
       "      <td>NaN</td>\n",
       "      <td>QLQ; Glutamine-Leucine-Glutamine, QLQ</td>\n",
       "    </tr>\n",
       "    <tr>\n",
       "      <th>22</th>\n",
       "      <td>PF09462</td>\n",
       "      <td>NaN</td>\n",
       "      <td>Rho_GDI; Rho protein GDP-dissociation inhibitor</td>\n",
       "    </tr>\n",
       "    <tr>\n",
       "      <th>23</th>\n",
       "      <td>PF01399</td>\n",
       "      <td>NaN</td>\n",
       "      <td>DNA_pol_B; DNA-directed DNA polymerase, family...</td>\n",
       "    </tr>\n",
       "    <tr>\n",
       "      <th>24</th>\n",
       "      <td>PF12998</td>\n",
       "      <td>NaN</td>\n",
       "      <td>TFIIIC_sub6; Transcription factor TFIIIC, tau5...</td>\n",
       "    </tr>\n",
       "    <tr>\n",
       "      <th>25</th>\n",
       "      <td>PF00742</td>\n",
       "      <td>NaN</td>\n",
       "      <td>CLU; CLU domain</td>\n",
       "    </tr>\n",
       "    <tr>\n",
       "      <th>26</th>\n",
       "      <td>PF00072</td>\n",
       "      <td>NaN</td>\n",
       "      <td>AAA_9</td>\n",
       "    </tr>\n",
       "    <tr>\n",
       "      <th>27</th>\n",
       "      <td>PF00382</td>\n",
       "      <td>NaN</td>\n",
       "      <td>Aldolase_II; Class II aldolase/adducin N-terminal</td>\n",
       "    </tr>\n",
       "    <tr>\n",
       "      <th>28</th>\n",
       "      <td>PF04055</td>\n",
       "      <td>NaN</td>\n",
       "      <td>KA1; Kinase associated domain 1 (KA1)</td>\n",
       "    </tr>\n",
       "    <tr>\n",
       "      <th>29</th>\n",
       "      <td>PF04048</td>\n",
       "      <td>NaN</td>\n",
       "      <td>Ist1; Vacuolar protein sorting-associated prot...</td>\n",
       "    </tr>\n",
       "    <tr>\n",
       "      <th>30</th>\n",
       "      <td>PF11526</td>\n",
       "      <td>NaN</td>\n",
       "      <td>SRA1; Steroid receptor RNA activator-protein/c...</td>\n",
       "    </tr>\n",
       "    <tr>\n",
       "      <th>31</th>\n",
       "      <td>PF09468</td>\n",
       "      <td>NaN</td>\n",
       "      <td>Rhomboid; Peptidase S54, rhomboid domain</td>\n",
       "    </tr>\n",
       "    <tr>\n",
       "      <th>32</th>\n",
       "      <td>PF09468</td>\n",
       "      <td>NaN</td>\n",
       "      <td>Rhomboid; Peptidase S54, rhomboid domain</td>\n",
       "    </tr>\n",
       "    <tr>\n",
       "      <th>33</th>\n",
       "      <td>PF00466</td>\n",
       "      <td>NaN</td>\n",
       "      <td>Arg_tRNA_synt_N; Arginyl tRNA synthetase N-ter...</td>\n",
       "    </tr>\n",
       "    <tr>\n",
       "      <th>35</th>\n",
       "      <td>PF04851</td>\n",
       "      <td>NaN</td>\n",
       "      <td>Med13_C; Mediator complex, subunit Med13</td>\n",
       "    </tr>\n",
       "    <tr>\n",
       "      <th>36</th>\n",
       "      <td>PF03366</td>\n",
       "      <td>NaN</td>\n",
       "      <td>HATPase_c_3</td>\n",
       "    </tr>\n",
       "    <tr>\n",
       "      <th>37</th>\n",
       "      <td>PF02144</td>\n",
       "      <td>NaN</td>\n",
       "      <td>EST1_DNA_bind; DNA/RNA-binding domain, Est1-type</td>\n",
       "    </tr>\n",
       "    <tr>\n",
       "      <th>38</th>\n",
       "      <td>PF08618</td>\n",
       "      <td>NaN</td>\n",
       "      <td>RIBIOP_C; Ribosome biogenesis protein BMS1/TSR...</td>\n",
       "    </tr>\n",
       "    <tr>\n",
       "      <th>39</th>\n",
       "      <td>PF00635</td>\n",
       "      <td>NaN</td>\n",
       "      <td>CAF1A; Chromatin assembly factor 1 subunit A</td>\n",
       "    </tr>\n",
       "    <tr>\n",
       "      <th>40</th>\n",
       "      <td>PF07955</td>\n",
       "      <td>NaN</td>\n",
       "      <td>PLA2_B; Lysophospholipase, catalytic domain</td>\n",
       "    </tr>\n",
       "    <tr>\n",
       "      <th>41</th>\n",
       "      <td>PF07955</td>\n",
       "      <td>NaN</td>\n",
       "      <td>PLA2_B; Lysophospholipase, catalytic domain</td>\n",
       "    </tr>\n",
       "    <tr>\n",
       "      <th>42</th>\n",
       "      <td>PF07955</td>\n",
       "      <td>NaN</td>\n",
       "      <td>PLA2_B; Lysophospholipase, catalytic domain</td>\n",
       "    </tr>\n",
       "    <tr>\n",
       "      <th>43</th>\n",
       "      <td>PF01214</td>\n",
       "      <td>NaN</td>\n",
       "      <td>DAO; FAD dependent oxidoreductase</td>\n",
       "    </tr>\n",
       "    <tr>\n",
       "      <th>44</th>\n",
       "      <td>PF01214</td>\n",
       "      <td>NaN</td>\n",
       "      <td>DAO; FAD dependent oxidoreductase</td>\n",
       "    </tr>\n",
       "    <tr>\n",
       "      <th>45</th>\n",
       "      <td>PF01214</td>\n",
       "      <td>NaN</td>\n",
       "      <td>DAO; FAD dependent oxidoreductase</td>\n",
       "    </tr>\n",
       "    <tr>\n",
       "      <th>47</th>\n",
       "      <td>PF08653</td>\n",
       "      <td>NaN</td>\n",
       "      <td>RNA_pol_Rpb1_2; RNA polymerase, alpha subunit</td>\n",
       "    </tr>\n",
       "    <tr>\n",
       "      <th>48</th>\n",
       "      <td>PF10075</td>\n",
       "      <td>NaN</td>\n",
       "      <td>Ribosomal_L35Ae; Ribosomal protein L35A</td>\n",
       "    </tr>\n",
       "    <tr>\n",
       "      <th>49</th>\n",
       "      <td>PF04893</td>\n",
       "      <td>NaN</td>\n",
       "      <td>Med22; Mediator of RNA polymerase II transcrip...</td>\n",
       "    </tr>\n",
       "    <tr>\n",
       "      <th>50</th>\n",
       "      <td>PF00253</td>\n",
       "      <td>NaN</td>\n",
       "      <td>ATP-synt_DE_N; ATP synthase, F1 complex, delta...</td>\n",
       "    </tr>\n",
       "    <tr>\n",
       "      <th>51</th>\n",
       "      <td>PF01217</td>\n",
       "      <td>NaN</td>\n",
       "      <td>DAP3; Ribosomal protein S23/S29, mitochondrial</td>\n",
       "    </tr>\n",
       "    <tr>\n",
       "      <th>52</th>\n",
       "      <td>PF05460</td>\n",
       "      <td>NaN</td>\n",
       "      <td>NAT; Vertebrate-like NAGS Gcn5-related N-acety...</td>\n",
       "    </tr>\n",
       "    <tr>\n",
       "      <th>53</th>\n",
       "      <td>PF08632</td>\n",
       "      <td>NaN</td>\n",
       "      <td>RMI1_N; RecQ mediated genome instability prote...</td>\n",
       "    </tr>\n",
       "    <tr>\n",
       "      <th>54</th>\n",
       "      <td>PF08314</td>\n",
       "      <td>NaN</td>\n",
       "      <td>Peptidase_M3; Peptidase M3A/M3B catalytic domain</td>\n",
       "    </tr>\n",
       "    <tr>\n",
       "      <th>55</th>\n",
       "      <td>PF02207</td>\n",
       "      <td>NaN</td>\n",
       "      <td>Enolase_N; Enolase, N-terminal</td>\n",
       "    </tr>\n",
       "    <tr>\n",
       "      <th>56</th>\n",
       "      <td>PF05282</td>\n",
       "      <td>NaN</td>\n",
       "      <td>Myotub-related; Myotubularin-like phosphatase ...</td>\n",
       "    </tr>\n",
       "    <tr>\n",
       "      <th>57</th>\n",
       "      <td>PF00266</td>\n",
       "      <td>NaN</td>\n",
       "      <td>ATP-synt_J; ATP synthase, F0 complex, subunit J</td>\n",
       "    </tr>\n",
       "    <tr>\n",
       "      <th>58</th>\n",
       "      <td>PF10340</td>\n",
       "      <td>NaN</td>\n",
       "      <td>Rif1_N; Telomere-associated protein Rif1, N-te...</td>\n",
       "    </tr>\n",
       "    <tr>\n",
       "      <th>59</th>\n",
       "      <td>PF10340</td>\n",
       "      <td>NaN</td>\n",
       "      <td>Rif1_N; Telomere-associated protein Rif1, N-te...</td>\n",
       "    </tr>\n",
       "    <tr>\n",
       "      <th>60</th>\n",
       "      <td>PF00637</td>\n",
       "      <td>NaN</td>\n",
       "      <td>CAF20; Cap-associated protein Caf20</td>\n",
       "    </tr>\n",
       "    <tr>\n",
       "      <th>61</th>\n",
       "      <td>PF04478</td>\n",
       "      <td>NaN</td>\n",
       "      <td>MCM_OB; MCM OB domain</td>\n",
       "    </tr>\n",
       "    <tr>\n",
       "      <th>62</th>\n",
       "      <td>PF01302</td>\n",
       "      <td>NaN</td>\n",
       "      <td>DJ-1_PfpI; DJ-1/PfpI</td>\n",
       "    </tr>\n",
       "  </tbody>\n",
       "</table>\n",
       "</div>"
      ],
      "text/plain": [
       "   domain-name domain-description_x  \\\n",
       "0      PF01055                  NaN   \n",
       "1      PF00013                  NaN   \n",
       "2      PF00610                  NaN   \n",
       "3      PF03234                  NaN   \n",
       "4      PF00580                  NaN   \n",
       "5      PF09757                  NaN   \n",
       "6      PF01608                  NaN   \n",
       "7      PF06870                  NaN   \n",
       "8      PF10587                  NaN   \n",
       "9      PF06071                  NaN   \n",
       "10     PF09763                  NaN   \n",
       "11     PF00324                  NaN   \n",
       "12     PF02984                  NaN   \n",
       "13     PF13928                  NaN   \n",
       "14     PF07544                  NaN   \n",
       "15     PF07544                  NaN   \n",
       "16     PF00957                  NaN   \n",
       "17     PF01261                  NaN   \n",
       "18     PF01680                  NaN   \n",
       "19     PF04056                  NaN   \n",
       "21     PF08586                  NaN   \n",
       "22     PF09462                  NaN   \n",
       "23     PF01399                  NaN   \n",
       "24     PF12998                  NaN   \n",
       "25     PF00742                  NaN   \n",
       "26     PF00072                  NaN   \n",
       "27     PF00382                  NaN   \n",
       "28     PF04055                  NaN   \n",
       "29     PF04048                  NaN   \n",
       "30     PF11526                  NaN   \n",
       "31     PF09468                  NaN   \n",
       "32     PF09468                  NaN   \n",
       "33     PF00466                  NaN   \n",
       "35     PF04851                  NaN   \n",
       "36     PF03366                  NaN   \n",
       "37     PF02144                  NaN   \n",
       "38     PF08618                  NaN   \n",
       "39     PF00635                  NaN   \n",
       "40     PF07955                  NaN   \n",
       "41     PF07955                  NaN   \n",
       "42     PF07955                  NaN   \n",
       "43     PF01214                  NaN   \n",
       "44     PF01214                  NaN   \n",
       "45     PF01214                  NaN   \n",
       "47     PF08653                  NaN   \n",
       "48     PF10075                  NaN   \n",
       "49     PF04893                  NaN   \n",
       "50     PF00253                  NaN   \n",
       "51     PF01217                  NaN   \n",
       "52     PF05460                  NaN   \n",
       "53     PF08632                  NaN   \n",
       "54     PF08314                  NaN   \n",
       "55     PF02207                  NaN   \n",
       "56     PF05282                  NaN   \n",
       "57     PF00266                  NaN   \n",
       "58     PF10340                  NaN   \n",
       "59     PF10340                  NaN   \n",
       "60     PF00637                  NaN   \n",
       "61     PF04478                  NaN   \n",
       "62     PF01302                  NaN   \n",
       "\n",
       "                                 domain-description_y  \n",
       "0        Chs3p; Chitin synthase III catalytic subunit  \n",
       "1        3-HAO; 3-hydroxyanthranilic acid dioxygenase  \n",
       "2                                 Beach; BEACH domain  \n",
       "3    Gpi1; N-acetylglucosaminyl transferase component  \n",
       "4                                 BRCT_2; BRCT domain  \n",
       "5       Ribosomal_L14e; Ribosomal protein L14e domain  \n",
       "6                                             DUF2781  \n",
       "7                                   PA14; PA14 domain  \n",
       "8        SHS2_Rpb7-N; RNA polymerase Rpb7, N-terminal  \n",
       "9                                     Nop; Nop domain  \n",
       "10          Ribosomal_L16; Ribosomal protein L10e/L16  \n",
       "11  Acyl-CoA_ox_N; Acyl-coenzyme A oxidase, N-term...  \n",
       "12               Gal4_dimer; Gal4 dimerisation domain  \n",
       "13               Tubulin; Tubulin/FtsZ, GTPase domain  \n",
       "14  PEX-1N; Peroxisome biogenesis factor 1, N-term...  \n",
       "15  PEX-1N; Peroxisome biogenesis factor 1, N-term...  \n",
       "16  Candida_ALS_N; Agglutinin-like protein, N-term...  \n",
       "17                                               DER1  \n",
       "18       DUF3605; Protein of unknown function DUF3605  \n",
       "19                      KAR9; Karyogamy protein, KAR9  \n",
       "21              QLQ; Glutamine-Leucine-Glutamine, QLQ  \n",
       "22    Rho_GDI; Rho protein GDP-dissociation inhibitor  \n",
       "23  DNA_pol_B; DNA-directed DNA polymerase, family...  \n",
       "24  TFIIIC_sub6; Transcription factor TFIIIC, tau5...  \n",
       "25                                    CLU; CLU domain  \n",
       "26                                              AAA_9  \n",
       "27  Aldolase_II; Class II aldolase/adducin N-terminal  \n",
       "28              KA1; Kinase associated domain 1 (KA1)  \n",
       "29  Ist1; Vacuolar protein sorting-associated prot...  \n",
       "30  SRA1; Steroid receptor RNA activator-protein/c...  \n",
       "31           Rhomboid; Peptidase S54, rhomboid domain  \n",
       "32           Rhomboid; Peptidase S54, rhomboid domain  \n",
       "33  Arg_tRNA_synt_N; Arginyl tRNA synthetase N-ter...  \n",
       "35           Med13_C; Mediator complex, subunit Med13  \n",
       "36                                        HATPase_c_3  \n",
       "37   EST1_DNA_bind; DNA/RNA-binding domain, Est1-type  \n",
       "38  RIBIOP_C; Ribosome biogenesis protein BMS1/TSR...  \n",
       "39       CAF1A; Chromatin assembly factor 1 subunit A  \n",
       "40        PLA2_B; Lysophospholipase, catalytic domain  \n",
       "41        PLA2_B; Lysophospholipase, catalytic domain  \n",
       "42        PLA2_B; Lysophospholipase, catalytic domain  \n",
       "43                  DAO; FAD dependent oxidoreductase  \n",
       "44                  DAO; FAD dependent oxidoreductase  \n",
       "45                  DAO; FAD dependent oxidoreductase  \n",
       "47      RNA_pol_Rpb1_2; RNA polymerase, alpha subunit  \n",
       "48            Ribosomal_L35Ae; Ribosomal protein L35A  \n",
       "49  Med22; Mediator of RNA polymerase II transcrip...  \n",
       "50  ATP-synt_DE_N; ATP synthase, F1 complex, delta...  \n",
       "51     DAP3; Ribosomal protein S23/S29, mitochondrial  \n",
       "52  NAT; Vertebrate-like NAGS Gcn5-related N-acety...  \n",
       "53  RMI1_N; RecQ mediated genome instability prote...  \n",
       "54   Peptidase_M3; Peptidase M3A/M3B catalytic domain  \n",
       "55                     Enolase_N; Enolase, N-terminal  \n",
       "56  Myotub-related; Myotubularin-like phosphatase ...  \n",
       "57    ATP-synt_J; ATP synthase, F0 complex, subunit J  \n",
       "58  Rif1_N; Telomere-associated protein Rif1, N-te...  \n",
       "59  Rif1_N; Telomere-associated protein Rif1, N-te...  \n",
       "60                CAF20; Cap-associated protein Caf20  \n",
       "61                              MCM_OB; MCM OB domain  \n",
       "62                               DJ-1_PfpI; DJ-1/PfpI  "
      ]
     },
     "execution_count": 30,
     "metadata": {},
     "output_type": "execute_result"
    }
   ],
   "source": [
    "only_nsl_pd=pd.merge(repeated_features_sl,repeated_features_nsl,how='right',on=['domain-name'])\n",
    "data_only_nsl = only_nsl_pd[pd.isnull(only_nsl_pd['domain-description_x'])]\n",
    "data_only_nsl"
   ]
  },
  {
   "cell_type": "code",
   "execution_count": 31,
   "metadata": {
    "execution": {
     "iopub.execute_input": "2020-08-13T05:53:51.871493Z",
     "iopub.status.busy": "2020-08-13T05:53:51.871001Z",
     "iopub.status.idle": "2020-08-13T05:53:51.876575Z",
     "shell.execute_reply": "2020-08-13T05:53:51.876124Z"
    }
   },
   "outputs": [
    {
     "data": {
      "text/html": [
       "<div>\n",
       "<style scoped>\n",
       "    .dataframe tbody tr th:only-of-type {\n",
       "        vertical-align: middle;\n",
       "    }\n",
       "\n",
       "    .dataframe tbody tr th {\n",
       "        vertical-align: top;\n",
       "    }\n",
       "\n",
       "    .dataframe thead th {\n",
       "        text-align: right;\n",
       "    }\n",
       "</style>\n",
       "<table border=\"1\" class=\"dataframe\">\n",
       "  <thead>\n",
       "    <tr style=\"text-align: right;\">\n",
       "      <th></th>\n",
       "      <th>domain-name</th>\n",
       "      <th>domain-description_x</th>\n",
       "      <th>domain-description_y</th>\n",
       "    </tr>\n",
       "  </thead>\n",
       "  <tbody>\n",
       "    <tr>\n",
       "      <th>0</th>\n",
       "      <td>PF04116</td>\n",
       "      <td>LCAT; Lecithin:cholesterol/phospholipid:diacyl...</td>\n",
       "      <td>LCAT; Lecithin:cholesterol/phospholipid:diacyl...</td>\n",
       "    </tr>\n",
       "    <tr>\n",
       "      <th>1</th>\n",
       "      <td>PF08737</td>\n",
       "      <td>RNase_P_pop3; RNase P, subunit Pop3</td>\n",
       "      <td>RNase_P_pop3; RNase P, subunit Pop3</td>\n",
       "    </tr>\n",
       "    <tr>\n",
       "      <th>2</th>\n",
       "      <td>PF04084</td>\n",
       "      <td>Kelch_3</td>\n",
       "      <td>Kelch_3</td>\n",
       "    </tr>\n",
       "  </tbody>\n",
       "</table>\n",
       "</div>"
      ],
      "text/plain": [
       "  domain-name                               domain-description_x  \\\n",
       "0     PF04116  LCAT; Lecithin:cholesterol/phospholipid:diacyl...   \n",
       "1     PF08737                RNase_P_pop3; RNase P, subunit Pop3   \n",
       "2     PF04084                                            Kelch_3   \n",
       "\n",
       "                                domain-description_y  \n",
       "0  LCAT; Lecithin:cholesterol/phospholipid:diacyl...  \n",
       "1                RNase_P_pop3; RNase P, subunit Pop3  \n",
       "2                                            Kelch_3  "
      ]
     },
     "execution_count": 31,
     "metadata": {},
     "output_type": "execute_result"
    }
   ],
   "source": [
    "shared_domains_pd=pd.merge(repeated_features_sl,repeated_features_nsl,how='inner',on=['domain-name'])\n",
    "shared_domains_pd\n"
   ]
  },
  {
   "cell_type": "code",
   "execution_count": 32,
   "metadata": {
    "execution": {
     "iopub.execute_input": "2020-08-13T05:53:51.931563Z",
     "iopub.status.busy": "2020-08-13T05:53:51.891820Z",
     "iopub.status.idle": "2020-08-13T05:53:53.471211Z",
     "shell.execute_reply": "2020-08-13T05:53:53.470779Z"
    }
   },
   "outputs": [
    {
     "data": {
      "text/plain": [
       "(0.0, 0.2)"
      ]
     },
     "execution_count": 32,
     "metadata": {},
     "output_type": "execute_result"
    },
    {
     "data": {
      "image/png": "[encoded data removed]",
      "text/plain": [
       "<Figure size 432x288 with 1 Axes>"
      ]
     },
     "metadata": {
      "filenames": {
       "image/png": "/home/runner/work/jupyter-book/jupyter-book/mini_book/docs/_build/jupyter_execute/prot_domains2lethality-FEATURES-POSTPROCESSING_47_1.png"
      },
      "needs_background": "light"
     },
     "output_type": "display_data"
    }
   ],
   "source": [
    "a_sl=x_sl.iloc[:,np.sort(df_sl.iloc[:,1])]\n",
    "a_sl.describe().loc['mean'].hist(bins=8),\n",
    "a_sl.describe().loc['std'].hist(bins=8,alpha=0.4)\n",
    "plt.xlim([0,0.2])"
   ]
  },
  {
   "cell_type": "code",
   "execution_count": 33,
   "metadata": {
    "execution": {
     "iopub.execute_input": "2020-08-13T05:53:53.503499Z",
     "iopub.status.busy": "2020-08-13T05:53:53.502789Z",
     "iopub.status.idle": "2020-08-13T05:53:55.148613Z",
     "shell.execute_reply": "2020-08-13T05:53:55.147984Z"
    }
   },
   "outputs": [
    {
     "data": {
      "text/plain": [
       "(0.0, 0.2)"
      ]
     },
     "execution_count": 33,
     "metadata": {},
     "output_type": "execute_result"
    },
    {
     "data": {
      "image/png": "[encoded data removed]",
      "text/plain": [
       "<Figure size 432x288 with 1 Axes>"
      ]
     },
     "metadata": {
      "filenames": {
       "image/png": "/home/runner/work/jupyter-book/jupyter-book/mini_book/docs/_build/jupyter_execute/prot_domains2lethality-FEATURES-POSTPROCESSING_48_1.png"
      },
      "needs_background": "light"
     },
     "output_type": "display_data"
    }
   ],
   "source": [
    "a_nsl=x_nsl.iloc[:,np.sort(df_nsl.iloc[:,1])]\n",
    "a_nsl.describe().loc['mean'].hist(bins=8),\n",
    "a_nsl.describe().loc['std'].hist(bins=8,alpha=0.4)\n",
    "plt.xlim([0,0.2])"
   ]
  },
  {
   "cell_type": "markdown",
   "metadata": {},
   "source": [
    "### Proof of concept with *BEM1*\n",
    "\n",
    "- Gather the domains of SL and nSL pairs from BEM1\n",
    "- Check if the domains for the SL and nSL pairs are inside the most important domains after PCA."
   ]
  },
  {
   "cell_type": "code",
   "execution_count": 34,
   "metadata": {
    "execution": {
     "iopub.execute_input": "2020-08-13T05:53:55.155311Z",
     "iopub.status.busy": "2020-08-13T05:53:55.154701Z",
     "iopub.status.idle": "2020-08-13T05:53:55.158698Z",
     "shell.execute_reply": "2020-08-13T05:53:55.157996Z"
    }
   },
   "outputs": [],
   "source": [
    "domains_bem1=data_domains[data_domains['name']=='BEM1']['domain-descrip']\n",
    "sl_bem1=data_sl[data_sl['gene-query-name']=='BEM1']['gene-target-name']"
   ]
  },
  {
   "cell_type": "code",
   "execution_count": 35,
   "metadata": {
    "execution": {
     "iopub.execute_input": "2020-08-13T05:53:55.163618Z",
     "iopub.status.busy": "2020-08-13T05:53:55.163077Z",
     "iopub.status.idle": "2020-08-13T05:53:55.168436Z",
     "shell.execute_reply": "2020-08-13T05:53:55.167980Z"
    }
   },
   "outputs": [
    {
     "data": {
      "text/plain": [
       "2846      BEM2\n",
       "2847     CDC24\n",
       "5004      MSB1\n",
       "13777     SMI1\n",
       "13778     BNI1\n",
       "13779     BEM2\n",
       "14385     SKN7\n",
       "Name: gene-target-name, dtype: object"
      ]
     },
     "execution_count": 35,
     "metadata": {},
     "output_type": "execute_result"
    }
   ],
   "source": [
    "sl_bem1"
   ]
  },
  {
   "cell_type": "code",
   "execution_count": 36,
   "metadata": {
    "execution": {
     "iopub.execute_input": "2020-08-13T05:53:55.181926Z",
     "iopub.status.busy": "2020-08-13T05:53:55.181272Z",
     "iopub.status.idle": "2020-08-13T05:53:55.186056Z",
     "shell.execute_reply": "2020-08-13T05:53:55.186920Z"
    }
   },
   "outputs": [
    {
     "data": {
      "text/html": [
       "<div>\n",
       "<style scoped>\n",
       "    .dataframe tbody tr th:only-of-type {\n",
       "        vertical-align: middle;\n",
       "    }\n",
       "\n",
       "    .dataframe tbody tr th {\n",
       "        vertical-align: top;\n",
       "    }\n",
       "\n",
       "    .dataframe thead th {\n",
       "        text-align: right;\n",
       "    }\n",
       "</style>\n",
       "<table border=\"1\" class=\"dataframe\">\n",
       "  <thead>\n",
       "    <tr style=\"text-align: right;\">\n",
       "      <th></th>\n",
       "      <th>gene-query</th>\n",
       "      <th>gene-target</th>\n",
       "      <th>gene-query-name</th>\n",
       "      <th>gene-target-name</th>\n",
       "      <th>gene-query-description</th>\n",
       "      <th>gene-target-description</th>\n",
       "      <th>interaction-type</th>\n",
       "      <th>paper-source</th>\n",
       "    </tr>\n",
       "  </thead>\n",
       "  <tbody>\n",
       "    <tr>\n",
       "      <th>2846</th>\n",
       "      <td>YBR200W</td>\n",
       "      <td>YER155C</td>\n",
       "      <td>BEM1</td>\n",
       "      <td>BEM2</td>\n",
       "      <td>SRO1|phosphatidylinositol-3-phosphate-binding ...</td>\n",
       "      <td>IPL2|SUP9|TSL1|L000000168</td>\n",
       "      <td>Synthetic Lethality</td>\n",
       "      <td>Peterson J (1994)</td>\n",
       "    </tr>\n",
       "    <tr>\n",
       "      <th>2847</th>\n",
       "      <td>YBR200W</td>\n",
       "      <td>YAL041W</td>\n",
       "      <td>BEM1</td>\n",
       "      <td>CDC24</td>\n",
       "      <td>SRO1|phosphatidylinositol-3-phosphate-binding ...</td>\n",
       "      <td>CLS4|Rho family guanine nucleotide exchange fa...</td>\n",
       "      <td>Synthetic Lethality</td>\n",
       "      <td>Peterson J (1994)</td>\n",
       "    </tr>\n",
       "    <tr>\n",
       "      <th>5004</th>\n",
       "      <td>YBR200W</td>\n",
       "      <td>YOR188W</td>\n",
       "      <td>BEM1</td>\n",
       "      <td>MSB1</td>\n",
       "      <td>SRO1|phosphatidylinositol-3-phosphate-binding ...</td>\n",
       "      <td>L000001184</td>\n",
       "      <td>Synthetic Lethality</td>\n",
       "      <td>Bender A (1991)</td>\n",
       "    </tr>\n",
       "    <tr>\n",
       "      <th>13777</th>\n",
       "      <td>YBR200W</td>\n",
       "      <td>YGR229C</td>\n",
       "      <td>BEM1</td>\n",
       "      <td>SMI1</td>\n",
       "      <td>SRO1|phosphatidylinositol-3-phosphate-binding ...</td>\n",
       "      <td>KNR4|L000000909</td>\n",
       "      <td>Synthetic Lethality</td>\n",
       "      <td>Gorelik M (2011)</td>\n",
       "    </tr>\n",
       "    <tr>\n",
       "      <th>13778</th>\n",
       "      <td>YBR200W</td>\n",
       "      <td>YNL271C</td>\n",
       "      <td>BEM1</td>\n",
       "      <td>BNI1</td>\n",
       "      <td>SRO1|phosphatidylinositol-3-phosphate-binding ...</td>\n",
       "      <td>PPF3|SHE5|formin BNI1|L000000190</td>\n",
       "      <td>Synthetic Lethality</td>\n",
       "      <td>Gorelik M (2011)</td>\n",
       "    </tr>\n",
       "    <tr>\n",
       "      <th>13779</th>\n",
       "      <td>YBR200W</td>\n",
       "      <td>YER155C</td>\n",
       "      <td>BEM1</td>\n",
       "      <td>BEM2</td>\n",
       "      <td>SRO1|phosphatidylinositol-3-phosphate-binding ...</td>\n",
       "      <td>IPL2|SUP9|TSL1|L000000168</td>\n",
       "      <td>Synthetic Lethality</td>\n",
       "      <td>Gorelik M (2011)</td>\n",
       "    </tr>\n",
       "    <tr>\n",
       "      <th>14385</th>\n",
       "      <td>YBR200W</td>\n",
       "      <td>YHR206W</td>\n",
       "      <td>BEM1</td>\n",
       "      <td>SKN7</td>\n",
       "      <td>SRO1|phosphatidylinositol-3-phosphate-binding ...</td>\n",
       "      <td>BRY1|POS9|kinase-regulated stress-responsive t...</td>\n",
       "      <td>Dosage Lethality</td>\n",
       "      <td>Bouquin N (1999)</td>\n",
       "    </tr>\n",
       "  </tbody>\n",
       "</table>\n",
       "</div>"
      ],
      "text/plain": [
       "      gene-query gene-target gene-query-name gene-target-name  \\\n",
       "2846     YBR200W     YER155C            BEM1             BEM2   \n",
       "2847     YBR200W     YAL041W            BEM1            CDC24   \n",
       "5004     YBR200W     YOR188W            BEM1             MSB1   \n",
       "13777    YBR200W     YGR229C            BEM1             SMI1   \n",
       "13778    YBR200W     YNL271C            BEM1             BNI1   \n",
       "13779    YBR200W     YER155C            BEM1             BEM2   \n",
       "14385    YBR200W     YHR206W            BEM1             SKN7   \n",
       "\n",
       "                                  gene-query-description  \\\n",
       "2846   SRO1|phosphatidylinositol-3-phosphate-binding ...   \n",
       "2847   SRO1|phosphatidylinositol-3-phosphate-binding ...   \n",
       "5004   SRO1|phosphatidylinositol-3-phosphate-binding ...   \n",
       "13777  SRO1|phosphatidylinositol-3-phosphate-binding ...   \n",
       "13778  SRO1|phosphatidylinositol-3-phosphate-binding ...   \n",
       "13779  SRO1|phosphatidylinositol-3-phosphate-binding ...   \n",
       "14385  SRO1|phosphatidylinositol-3-phosphate-binding ...   \n",
       "\n",
       "                                 gene-target-description     interaction-type  \\\n",
       "2846                           IPL2|SUP9|TSL1|L000000168  Synthetic Lethality   \n",
       "2847   CLS4|Rho family guanine nucleotide exchange fa...  Synthetic Lethality   \n",
       "5004                                          L000001184  Synthetic Lethality   \n",
       "13777                                    KNR4|L000000909  Synthetic Lethality   \n",
       "13778                   PPF3|SHE5|formin BNI1|L000000190  Synthetic Lethality   \n",
       "13779                          IPL2|SUP9|TSL1|L000000168  Synthetic Lethality   \n",
       "14385  BRY1|POS9|kinase-regulated stress-responsive t...     Dosage Lethality   \n",
       "\n",
       "            paper-source  \n",
       "2846   Peterson J (1994)  \n",
       "2847   Peterson J (1994)  \n",
       "5004     Bender A (1991)  \n",
       "13777   Gorelik M (2011)  \n",
       "13778   Gorelik M (2011)  \n",
       "13779   Gorelik M (2011)  \n",
       "14385   Bouquin N (1999)  "
      ]
     },
     "execution_count": 36,
     "metadata": {},
     "output_type": "execute_result"
    }
   ],
   "source": [
    "data_sl[data_sl['gene-query-name']=='BEM1']"
   ]
  },
  {
   "cell_type": "code",
   "execution_count": null,
   "metadata": {},
   "outputs": [],
   "source": []
  }
 ],
 "metadata": {
  "jupytext": {
   "text_representation": {
    "extension": ".md",
    "format_name": "myst"
   }
  },
  "kernelspec": {
   "display_name": "Python 3",
   "language": "python",
   "name": "python3"
  },
  "language_info": {
   "codemirror_mode": {
    "name": "ipython",
    "version": 3
   },
   "file_extension": ".py",
   "mimetype": "text/x-python",
   "name": "python",
   "nbconvert_exporter": "python",
   "pygments_lexer": "ipython3",
   "version": "3.7.8"
  },
  "source_map": [
   10,
   18,
   29,
   36,
   57,
   66,
   98,
   101,
   105,
   128,
   131,
   135,
   139,
   145,
   178,
   184,
   188,
   206,
   210,
   218,
   222,
   225,
   229,
   234,
   238,
   244,
   248,
   253,
   257,
   267,
   269,
   273,
   306,
   311,
   313,
   317,
   328,
   330,
   334,
   344,
   348,
   358,
   360,
   364,
   381,
   388,
   394,
   400,
   407,
   412,
   419,
   424,
   428,
   432
  ]
 },
 "nbformat": 4,
 "nbformat_minor": 4
}