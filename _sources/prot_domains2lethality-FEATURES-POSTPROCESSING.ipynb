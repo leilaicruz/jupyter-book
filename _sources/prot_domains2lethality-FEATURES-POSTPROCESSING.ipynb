{
 "cells": [
  {
   "cell_type": "markdown",
   "metadata": {},
   "source": [
    "# Feature postprocessing from paper.\n",
    "- Title:  \"Predicting yeast synthetic lethal genetic interactions using protein domains\"\n",
    "- Authors: Bo Li, Feng Luo,School of Computing,Clemson University,Clemson, SC, USA\n",
    "- e-mail: bol, luofeng@clemson.edu\n",
    "- year:2009"
   ]
  },
  {
   "cell_type": "code",
   "execution_count": 1,
   "metadata": {
    "execution": {
     "iopub.execute_input": "2020-08-13T20:09:17.514119Z",
     "iopub.status.busy": "2020-08-13T20:09:17.513544Z",
     "iopub.status.idle": "2020-08-13T20:09:18.202641Z",
     "shell.execute_reply": "2020-08-13T20:09:18.201747Z"
    }
   },
   "outputs": [],
   "source": [
    "import pandas as pd\n",
    "import numpy as np\n",
    "import matplotlib.pyplot as plt\n",
    "from collections import defaultdict \n",
    "import seaborn as sns\n",
    "import matplotlib.cm as cm\n",
    "import scipy as scipy\n",
    "import random"
   ]
  },
  {
   "cell_type": "markdown",
   "metadata": {
    "jupyter": {
     "source_hidden": true
    }
   },
   "source": [
    "### Importing datasets \n",
    "\n",
    "#### Link to the github repo where the datasets to be downloaded:\n",
    "[DOWNLOAD THE DATASETS HERE](https://github.com/leilaicruz/machine-learning-for-yeast/tree/dev_Leila/datasets-for-learning)"
   ]
  },
  {
   "cell_type": "code",
   "execution_count": 2,
   "metadata": {
    "execution": {
     "iopub.execute_input": "2020-08-13T20:09:18.207823Z",
     "iopub.status.busy": "2020-08-13T20:09:18.207314Z",
     "iopub.status.idle": "2020-08-13T20:09:25.223629Z",
     "shell.execute_reply": "2020-08-13T20:09:25.223132Z"
    }
   },
   "outputs": [],
   "source": [
    "import os\n",
    "script_dir = os.path.dirname('__file__') #<-- absolute dir the script is in\n",
    "rel_path_SL = \"datasets/data-synthetic-lethals.xlsx\"\n",
    "rel_path_nSL=\"datasets/data-positive-genetic.xlsx\"\n",
    "rel_path_domains=\"datasets/proteins-domains-from-Pfam.xlsx\"\n",
    "\n",
    "abs_file_path_SL = os.path.join(script_dir, rel_path_SL)\n",
    "abs_file_path_nSL = os.path.join(script_dir, rel_path_nSL)\n",
    "abs_file_path_domains = os.path.join(script_dir, rel_path_domains)\n",
    "\n",
    "# os.chdir('mini_book/docs/') #<-- for binder os.chdir('../')\n",
    "# os.chdir('../')\n",
    "my_path_sl= abs_file_path_SL\n",
    "my_path_non_sl=abs_file_path_nSL\n",
    "my_path_domains=abs_file_path_domains\n",
    "\n",
    "data_sl=pd.read_excel(my_path_sl,header=0)\n",
    "data_domains=pd.read_excel(my_path_domains,header=0,index_col='Unnamed: 0')\n",
    "data_domains=data_domains.dropna()\n",
    "data_nonsl=pd.read_excel(my_path_non_sl,header=0)"
   ]
  },
  {
   "cell_type": "markdown",
   "metadata": {},
   "source": [
    "## Building the feature matrix\n",
    "One matrix for true SL where each row is one pair of SL. Every raw will be a vector of 0,1 or 2 depending on the comparison with the domain list. For row i the jth element = 0 if the jth element of the domain list is not in neither protein A and B, 1, if it is in one of them and 2 if it is in both of them .\n",
    "\n",
    "### Building the list of proteins domains id per protein pair separately :\n",
    "- List of protein A: Search for the Sl/nSL database the query gene name and look in the protein domain database which protein domains id has each of those queries.\n",
    "- List of protein B: Search for the Sl/nSL database the target gene name of the previous query and look in the protein domain database which protein domains id has each of those target genes."
   ]
  },
  {
   "cell_type": "code",
   "execution_count": 3,
   "metadata": {
    "execution": {
     "iopub.execute_input": "2020-08-13T20:09:25.276749Z",
     "iopub.status.busy": "2020-08-13T20:09:25.230990Z",
     "iopub.status.idle": "2020-08-13T20:09:27.013714Z",
     "shell.execute_reply": "2020-08-13T20:09:27.014524Z"
    }
   },
   "outputs": [],
   "source": [
    "# Selecting the meaningful columns in the respective dataset\n",
    "domain_id_list=data_domains['domain-name']\n",
    "query_gene=data_sl['gene-query-name']\n",
    "target_gene=data_sl['gene-target-name']\n",
    "query_gene_nonlethal=data_nonsl['gene-query-name']\n",
    "target_gene_nonlethal=data_nonsl['gene-target-name']\n",
    "\n",
    "\n",
    "\n",
    "# Initialising the arrays\n",
    "protein_a_list=[]\n",
    "protein_b_list=[]\n",
    "protein_a_list_non=[]\n",
    "protein_b_list_non=[]\n",
    "\n",
    "population = np.arange(0,len(data_sl))\n",
    "\n",
    "# For loop for 10000 pairs sampled randomly from the SL/nSl pair list , and creating a big array of proteind domains id per protein pair\n",
    "\n",
    "for m in random.sample(list(population), 500):\n",
    "    protein_a=data_domains[data_domains['name']==query_gene[m]]\n",
    "    protein_b=data_domains[data_domains['name']==target_gene[m]]\n",
    "    protein_a_list.append(protein_a['domain-name'].tolist())\n",
    "    protein_b_list.append(protein_b['domain-name'].tolist())\n",
    "\n",
    "    protein_a_non=data_domains[data_domains['name']==query_gene_nonlethal[m]]\n",
    "    protein_b_non=data_domains[data_domains['name']==target_gene_nonlethal[m]]\n",
    "    protein_a_list_non.append(protein_a_non['domain-name'].tolist())\n",
    "    protein_b_list_non.append(protein_b_non['domain-name'].tolist())"
   ]
  },
  {
   "cell_type": "code",
   "execution_count": 4,
   "metadata": {
    "execution": {
     "iopub.execute_input": "2020-08-13T20:09:27.019246Z",
     "iopub.status.busy": "2020-08-13T20:09:27.017841Z",
     "iopub.status.idle": "2020-08-13T20:09:27.030583Z",
     "shell.execute_reply": "2020-08-13T20:09:27.029978Z"
    }
   },
   "outputs": [
    {
     "name": "stdout",
     "output_type": "stream",
     "text": [
      "We are going to analyze 500 protein pairs, out of 17871 SL protein pairs\n",
      "We are going to analyze 500 protein pairs, out of 43340 positive protein pairs\n"
     ]
    }
   ],
   "source": [
    "print('We are going to analyze',len((protein_a_list)) ,'protein pairs, out of',len(data_sl),'SL protein pairs')\n",
    "print('We are going to analyze',len((protein_a_list_non)) ,'protein pairs, out of',len(data_nonsl),'positive protein pairs')"
   ]
  },
  {
   "cell_type": "markdown",
   "metadata": {},
   "source": [
    "### Postprocessing #1:  Remove protein pairs from study if either protein in the pair does not contain any domain"
   ]
  },
  {
   "cell_type": "code",
   "execution_count": 5,
   "metadata": {
    "execution": {
     "iopub.execute_input": "2020-08-13T20:09:27.035398Z",
     "iopub.status.busy": "2020-08-13T20:09:27.034730Z",
     "iopub.status.idle": "2020-08-13T20:09:27.043116Z",
     "shell.execute_reply": "2020-08-13T20:09:27.043512Z"
    }
   },
   "outputs": [],
   "source": [
    "def remove_empty_domains(protein_list_search,protein_list_pair):\n",
    "    index=[]\n",
    "    for i in np.arange(0,len(protein_list_search)):\n",
    "        if protein_list_search[i]==[] or protein_list_pair[i]==[]:\n",
    "            index.append(i) ## index of empty values for the protein_a_list meaning they dont have any annotated domain\n",
    "\n",
    "    y=[x for x in np.arange(0,len(protein_list_search)) if x not in index] # a list with non empty values from protein_a list\n",
    "\n",
    "    protein_list_search_new=[]\n",
    "    protein_list_pair_new=[]\n",
    "    for i in y:\n",
    "        protein_list_search_new.append(protein_list_search[i])\n",
    "        protein_list_pair_new.append(protein_list_pair[i])\n",
    "    return protein_list_search_new,protein_list_pair_new\n",
    "\n",
    "## evaluating the function\n",
    "\n",
    "protein_a_list_new,protein_b_list_new=remove_empty_domains(protein_a_list,protein_b_list)\n",
    "\n",
    "protein_a_list_non_new,protein_b_list_non_new=remove_empty_domains(protein_a_list_non,protein_b_list_non)"
   ]
  },
  {
   "cell_type": "code",
   "execution_count": 6,
   "metadata": {
    "execution": {
     "iopub.execute_input": "2020-08-13T20:09:27.047248Z",
     "iopub.status.busy": "2020-08-13T20:09:27.046747Z",
     "iopub.status.idle": "2020-08-13T20:09:27.051028Z",
     "shell.execute_reply": "2020-08-13T20:09:27.050611Z"
    }
   },
   "outputs": [
    {
     "name": "stdout",
     "output_type": "stream",
     "text": [
      "The empty domain in the SL were: 83 out of 500 domains\n",
      "The empty domain in the nSL were: 105 out of 500 domains\n"
     ]
    }
   ],
   "source": [
    "print('The empty domain in the SL were:', len(protein_a_list)-len(protein_a_list_new), 'out of', len(protein_a_list),'domains')\n",
    "print('The empty domain in the nSL were:', len(protein_a_list_non)-len(protein_a_list_non_new), 'out of', len(protein_a_list_non),'domains')"
   ]
  },
  {
   "cell_type": "markdown",
   "metadata": {},
   "source": [
    "### Feature engineering: Select from each ordered indexes of domain id list which of them appear once, in both or in any of the domains of each protein pair"
   ]
  },
  {
   "cell_type": "markdown",
   "metadata": {},
   "source": [
    "#### Define function `get_indexes`"
   ]
  },
  {
   "cell_type": "code",
   "execution_count": 7,
   "metadata": {
    "execution": {
     "iopub.execute_input": "2020-08-13T20:09:27.056463Z",
     "iopub.status.busy": "2020-08-13T20:09:27.055958Z",
     "iopub.status.idle": "2020-08-13T20:09:27.061194Z",
     "shell.execute_reply": "2020-08-13T20:09:27.060747Z"
    }
   },
   "outputs": [
    {
     "data": {
      "text/plain": [
       "[1, 2]"
      ]
     },
     "execution_count": 7,
     "metadata": {},
     "output_type": "execute_result"
    }
   ],
   "source": [
    "get_indexes = lambda x, xs: [i for (y, i) in zip(xs, range(len(xs))) if x == y] # a function that give the index of whether a value appear in array or not\n",
    "a=[1,2,2,4,5,6,7,8,9,10]\n",
    "get_indexes(2,a)"
   ]
  },
  {
   "cell_type": "code",
   "execution_count": 8,
   "metadata": {
    "execution": {
     "iopub.execute_input": "2020-08-13T20:09:27.068422Z",
     "iopub.status.busy": "2020-08-13T20:09:27.067398Z",
     "iopub.status.idle": "2020-08-13T20:09:27.069288Z",
     "shell.execute_reply": "2020-08-13T20:09:27.069713Z"
    }
   },
   "outputs": [],
   "source": [
    "def feature_building(protein_a_list_new,protein_b_list_new):\n",
    "    x = np.unique(domain_id_list)\n",
    "    ## To avoid taking repeated domains from one protein of the pairs , lets reduced the domains of each protein from the pairs to their unique members\n",
    "    protein_a_list_unique=[]\n",
    "    protein_b_list_unique=[]\n",
    "    for i in np.arange(0,len(protein_a_list_new)):\n",
    "        protein_a_list_unique.append(np.unique(protein_a_list_new[i]))\n",
    "        protein_b_list_unique.append(np.unique(protein_b_list_new[i]))\n",
    "        \n",
    "    protein_feat_true=np.zeros(shape=(len(x),len(protein_a_list_unique)))\n",
    "    pair_a_b_array=[]\n",
    "    for i in np.arange(0,len(protein_a_list_unique)):\n",
    "        index_a=[]\n",
    "        \n",
    "        pair=[protein_a_list_unique[i],protein_b_list_unique[i]]\n",
    "        pair_a_b=np.concatenate(pair).ravel()\n",
    "        pair_a_b_array.append(pair_a_b)\n",
    "\n",
    "    j=0\n",
    "    for i in pair_a_b_array:  \n",
    "        array,index,counts=np.unique(i,return_index=True,return_counts=True)\n",
    "        \n",
    "        for k,m in zip(counts,array):\n",
    "            if k ==2:\n",
    "                protein_feat_true[get_indexes(m,x),j]=2\n",
    "                \n",
    "            if k==1:\n",
    "                protein_feat_true[get_indexes(m,x),j]=1\n",
    "        j=j+1\n",
    "    return protein_feat_true"
   ]
  },
  {
   "cell_type": "code",
   "execution_count": 9,
   "metadata": {
    "execution": {
     "iopub.execute_input": "2020-08-13T20:09:27.079600Z",
     "iopub.status.busy": "2020-08-13T20:09:27.078373Z",
     "iopub.status.idle": "2020-08-13T20:09:27.746187Z",
     "shell.execute_reply": "2020-08-13T20:09:27.746591Z"
    }
   },
   "outputs": [],
   "source": [
    "protein_feat_true=feature_building(protein_b_list_new=protein_b_list_new,protein_a_list_new=protein_a_list_new)\n",
    "protein_feat_true_pd=pd.DataFrame(protein_feat_true.T)\n",
    "\n",
    "protein_feat_non_true=feature_building(protein_b_list_new=protein_b_list_non_new,protein_a_list_new=protein_a_list_non_new)\n",
    "protein_feat_non_true_pd=pd.DataFrame(protein_feat_non_true.T)"
   ]
  },
  {
   "cell_type": "markdown",
   "metadata": {},
   "source": [
    "### How many ones and twos are in each dataset"
   ]
  },
  {
   "cell_type": "code",
   "execution_count": 10,
   "metadata": {
    "execution": {
     "iopub.execute_input": "2020-08-13T20:09:27.752117Z",
     "iopub.status.busy": "2020-08-13T20:09:27.751606Z",
     "iopub.status.idle": "2020-08-13T20:09:27.851531Z",
     "shell.execute_reply": "2020-08-13T20:09:27.852021Z"
    }
   },
   "outputs": [
    {
     "name": "stdout",
     "output_type": "stream",
     "text": [
      "fraction of twos in the SL array is 2.6953643696612957e-05\n",
      "fraction of ones in the SL array is 0.0009909427829637117\n",
      "fraction of twos in the PI array is 1.2553614394811172e-05\n",
      "fraction of ones in the PI array is 0.0009130662203159326\n"
     ]
    }
   ],
   "source": [
    "index_2_true=protein_feat_true_pd.where(protein_feat_true_pd==2)\n",
    "index_2_true_count=index_2_true.count(axis=1).sum()\n",
    "\n",
    "index_1_true=protein_feat_true_pd.where(protein_feat_true_pd==1)\n",
    "index_1_true_count=index_1_true.count(axis=1).sum()\n",
    "\n",
    "index_2_nontrue=protein_feat_non_true_pd.where(protein_feat_non_true_pd==2)\n",
    "index_2_nontrue_count=index_2_nontrue.count(axis=1).sum()\n",
    "\n",
    "index_1_nontrue=protein_feat_non_true_pd.where(protein_feat_non_true_pd==1)\n",
    "index_1_nontrue_count=index_1_nontrue.count(axis=1).sum()\n",
    "\n",
    "\n",
    "print('fraction of twos in the SL array is',index_2_true_count/(len(protein_feat_true_pd.index)*len(protein_feat_true_pd.columns)))\n",
    "print('fraction of ones in the SL array is',index_1_true_count/(len(protein_feat_true_pd.index)*len(protein_feat_true_pd.columns)))\n",
    "print('fraction of twos in the PI array is',index_2_nontrue_count/(len(protein_feat_non_true_pd.index)*len(protein_feat_non_true_pd.columns)))\n",
    "print('fraction of ones in the PI array is',index_1_nontrue_count/(len(protein_feat_non_true_pd.index)*len(protein_feat_non_true_pd.columns)))"
   ]
  },
  {
   "cell_type": "markdown",
   "metadata": {},
   "source": [
    "#### Bar plot to visualize these numbers"
   ]
  },
  {
   "cell_type": "code",
   "execution_count": 11,
   "metadata": {
    "execution": {
     "iopub.execute_input": "2020-08-13T20:09:27.871530Z",
     "iopub.status.busy": "2020-08-13T20:09:27.870946Z",
     "iopub.status.idle": "2020-08-13T20:09:28.270704Z",
     "shell.execute_reply": "2020-08-13T20:09:28.271123Z"
    }
   },
   "outputs": [
    {
     "data": {
      "text/plain": [
       "([0, 1, 2, 3],\n",
       " [Text(0, 0, ''), Text(0, 0, ''), Text(0, 0, ''), Text(0, 0, '')])"
      ]
     },
     "execution_count": 11,
     "metadata": {},
     "output_type": "execute_result"
    },
    {
     "data": {
      "image/png": "[encoded data removed]",
      "text/plain": [
       "<Figure size 432x288 with 1 Axes>"
      ]
     },
     "metadata": {
      "filenames": {
       "image/png": "/home/runner/work/jupyter-book/jupyter-book/mini_book/docs/_build/jupyter_execute/prot_domains2lethality-FEATURES-POSTPROCESSING_18_1.png"
      },
      "needs_background": "light"
     },
     "output_type": "display_data"
    }
   ],
   "source": [
    "plt.bar(['fraction of 2 in the nSL','fraction of 1 in the nSL'],[index_2_nontrue_count/(len(protein_feat_non_true_pd.index)*len(protein_feat_non_true_pd.columns)),index_1_nontrue_count/(len(protein_feat_non_true_pd.index)*len(protein_feat_non_true_pd.columns))],alpha=0.6,color=['blue','lightblue']), \n",
    "\n",
    "plt.bar(['fraction of 2 in SL ','fraction of 1 in SL'],[index_2_true_count/(len(protein_feat_true_pd.index)*len(protein_feat_true_pd.columns)),index_1_true_count/(len(protein_feat_true_pd.index)*len(protein_feat_true_pd.columns))],alpha=0.6,color=['coral','lightcoral'])\n",
    "\n",
    "plt.ylabel('Fraction from the population')\n",
    "plt.yscale('log')\n",
    "plt.xticks(rotation=40)"
   ]
  },
  {
   "cell_type": "markdown",
   "metadata": {},
   "source": [
    "#### Adding the labels(response variables) to each dataset"
   ]
  },
  {
   "cell_type": "code",
   "execution_count": 12,
   "metadata": {
    "execution": {
     "iopub.execute_input": "2020-08-13T20:09:28.276863Z",
     "iopub.status.busy": "2020-08-13T20:09:28.276364Z",
     "iopub.status.idle": "2020-08-13T20:09:28.279935Z",
     "shell.execute_reply": "2020-08-13T20:09:28.279493Z"
    }
   },
   "outputs": [],
   "source": [
    "protein_feat_true_pd['lethality']=np.ones(shape=(len(protein_a_list_new)))\n",
    "protein_feat_non_true_pd['lethality']=np.zeros(shape=(len(protein_a_list_non_new)))"
   ]
  },
  {
   "cell_type": "markdown",
   "metadata": {},
   "source": [
    "#### Joining both datasets"
   ]
  },
  {
   "cell_type": "code",
   "execution_count": 13,
   "metadata": {
    "execution": {
     "iopub.execute_input": "2020-08-13T20:09:28.283884Z",
     "iopub.status.busy": "2020-08-13T20:09:28.283388Z",
     "iopub.status.idle": "2020-08-13T20:09:28.314958Z",
     "shell.execute_reply": "2020-08-13T20:09:28.314287Z"
    }
   },
   "outputs": [
    {
     "name": "stdout",
     "output_type": "stream",
     "text": [
      "The number of features are: 3026\n",
      "The number of samples are: 812\n"
     ]
    }
   ],
   "source": [
    "feature_post=pd.concat([protein_feat_true_pd,protein_feat_non_true_pd],axis=0)\n",
    "feature_post=feature_post.set_index(np.arange(0,len(protein_a_list_new)+len(protein_a_list_non_new)))\n",
    "print('The number of features are:',feature_post.shape[1])\n",
    "print('The number of samples are:',feature_post.shape[0])"
   ]
  },
  {
   "cell_type": "markdown",
   "metadata": {},
   "source": [
    "### Postprocessing and exploration of the feature matrix of both datasets"
   ]
  },
  {
   "cell_type": "code",
   "execution_count": 14,
   "metadata": {
    "execution": {
     "iopub.execute_input": "2020-08-13T20:09:28.328847Z",
     "iopub.status.busy": "2020-08-13T20:09:28.320269Z",
     "iopub.status.idle": "2020-08-13T20:09:32.223226Z",
     "shell.execute_reply": "2020-08-13T20:09:32.222668Z"
    }
   },
   "outputs": [],
   "source": [
    "mean=feature_post.T.describe().loc['mean']\n",
    "std=feature_post.T.describe().loc['std']\n",
    "lethality=feature_post['lethality']\n",
    "\n",
    "corr_keys=pd.concat([mean,std,lethality],axis=1)"
   ]
  },
  {
   "cell_type": "markdown",
   "metadata": {},
   "source": [
    "### Viz of the stats"
   ]
  },
  {
   "cell_type": "code",
   "execution_count": 15,
   "metadata": {
    "execution": {
     "iopub.execute_input": "2020-08-13T20:09:32.308188Z",
     "iopub.status.busy": "2020-08-13T20:09:32.272766Z",
     "iopub.status.idle": "2020-08-13T20:09:33.826403Z",
     "shell.execute_reply": "2020-08-13T20:09:33.825902Z"
    }
   },
   "outputs": [
    {
     "data": {
      "text/plain": [
       "Text(0.5, 1.08, 'Pairplot to see data dependencies with Lethality')"
      ]
     },
     "execution_count": 15,
     "metadata": {},
     "output_type": "execute_result"
    },
    {
     "data": {
      "image/png": "[encoded data removed]",
      "text/plain": [
       "<Figure size 412x360 with 6 Axes>"
      ]
     },
     "metadata": {
      "filenames": {
       "image/png": "/home/runner/work/jupyter-book/jupyter-book/mini_book/docs/_build/jupyter_execute/prot_domains2lethality-FEATURES-POSTPROCESSING_26_1.png"
      },
      "needs_background": "light"
     },
     "output_type": "display_data"
    }
   ],
   "source": [
    "pair=sns.pairplot(corr_keys,hue='lethality',diag_kind='kde',kind='reg',palette='colorblind')\n",
    "pair.fig.suptitle('Pairplot to see data dependencies with Lethality',y=1.08)"
   ]
  },
  {
   "cell_type": "code",
   "execution_count": 16,
   "metadata": {
    "execution": {
     "iopub.execute_input": "2020-08-13T20:09:33.836478Z",
     "iopub.status.busy": "2020-08-13T20:09:33.830667Z",
     "iopub.status.idle": "2020-08-13T20:09:33.840287Z",
     "shell.execute_reply": "2020-08-13T20:09:33.839522Z"
    }
   },
   "outputs": [],
   "source": [
    "X, y = feature_post.drop(columns=[\"lethality\"]), feature_post[\"lethality\"]"
   ]
  },
  {
   "cell_type": "code",
   "execution_count": 17,
   "metadata": {
    "execution": {
     "iopub.execute_input": "2020-08-13T20:09:33.845202Z",
     "iopub.status.busy": "2020-08-13T20:09:33.844322Z",
     "iopub.status.idle": "2020-08-13T20:09:34.055633Z",
     "shell.execute_reply": "2020-08-13T20:09:34.054781Z"
    }
   },
   "outputs": [],
   "source": [
    "from sklearn.preprocessing import StandardScaler\n",
    "scaler = StandardScaler()\n",
    "x_sl=protein_feat_true_pd.drop(columns=['lethality'])\n",
    "x_nsl=protein_feat_non_true_pd.drop(columns=['lethality'])\n",
    "\n",
    "X_sl_scaled = scaler.fit_transform(x_sl)\n",
    "X_nsl_scaled = scaler.fit_transform(x_nsl)"
   ]
  },
  {
   "cell_type": "code",
   "execution_count": 18,
   "metadata": {
    "execution": {
     "iopub.execute_input": "2020-08-13T20:09:34.059949Z",
     "iopub.status.busy": "2020-08-13T20:09:34.059396Z",
     "iopub.status.idle": "2020-08-13T20:09:34.064876Z",
     "shell.execute_reply": "2020-08-13T20:09:34.064384Z"
    }
   },
   "outputs": [
    {
     "data": {
      "text/plain": [
       "(417, 3025)"
      ]
     },
     "execution_count": 18,
     "metadata": {},
     "output_type": "execute_result"
    }
   ],
   "source": [
    "np.shape(X_sl_scaled)"
   ]
  },
  {
   "cell_type": "markdown",
   "metadata": {},
   "source": [
    "## How redundant are each of the protein domains?"
   ]
  },
  {
   "cell_type": "code",
   "execution_count": 19,
   "metadata": {
    "execution": {
     "iopub.execute_input": "2020-08-13T20:09:34.070792Z",
     "iopub.status.busy": "2020-08-13T20:09:34.070205Z",
     "iopub.status.idle": "2020-08-13T20:09:34.073970Z",
     "shell.execute_reply": "2020-08-13T20:09:34.073511Z"
    }
   },
   "outputs": [],
   "source": [
    "def PCA_component_contribution(scaled_matrix,original_data):\n",
    "    from sklearn.decomposition import PCA\n",
    "\n",
    "    model = PCA(0.95).fit(scaled_matrix)\n",
    "    ## apply dimensionality reduction to X_train\n",
    "    output_pca = model.transform(scaled_matrix)\n",
    "    \n",
    "    total=sum(model.explained_variance_)\n",
    "\n",
    "\n",
    "   \n",
    "    # number of components , that it will be the number of main axes times the number of original components \n",
    "    n_pcs= model.components_.shape[0] # the amount of non redundant protein domains \n",
    "\n",
    "    # get the index of the most important feature on EACH component\n",
    "    # LIST COMPREHENSION HERE\n",
    "    most_important = [np.abs(model.components_[i]).argmax() for i in range(n_pcs)]\n",
    "\n",
    "    initial_feature_names = original_data.columns\n",
    "    # get the names\n",
    "    most_important_names = [initial_feature_names[most_important[i]] for i in range(n_pcs)]\n",
    "    \n",
    "\n",
    "    # LIST COMPREHENSION HERE AGAIN\n",
    "    dic = {'PC{}'.format(i): most_important_names[i] for i in range(n_pcs)}\n",
    "\n",
    "    # build the dataframe\n",
    "    df = pd.DataFrame(dic.items(),columns=['pca-component','domain-number'])\n",
    "\n",
    "    return df,model.components_"
   ]
  },
  {
   "cell_type": "code",
   "execution_count": 20,
   "metadata": {
    "execution": {
     "iopub.execute_input": "2020-08-13T20:09:34.077449Z",
     "iopub.status.busy": "2020-08-13T20:09:34.076854Z",
     "iopub.status.idle": "2020-08-13T20:09:34.677943Z",
     "shell.execute_reply": "2020-08-13T20:09:34.678429Z"
    }
   },
   "outputs": [],
   "source": [
    "df_sl,components_pca_nsl=PCA_component_contribution(X_nsl_scaled,x_nsl)\n",
    "df_nsl,components_pca_sl=PCA_component_contribution(X_sl_scaled,x_sl)"
   ]
  },
  {
   "cell_type": "code",
   "execution_count": 21,
   "metadata": {
    "execution": {
     "iopub.execute_input": "2020-08-13T20:09:34.680822Z",
     "iopub.status.busy": "2020-08-13T20:09:34.680237Z",
     "iopub.status.idle": "2020-08-13T20:09:34.688413Z",
     "shell.execute_reply": "2020-08-13T20:09:34.688922Z"
    }
   },
   "outputs": [
    {
     "data": {
      "text/html": [
       "<div>\n",
       "<style scoped>\n",
       "    .dataframe tbody tr th:only-of-type {\n",
       "        vertical-align: middle;\n",
       "    }\n",
       "\n",
       "    .dataframe tbody tr th {\n",
       "        vertical-align: top;\n",
       "    }\n",
       "\n",
       "    .dataframe thead th {\n",
       "        text-align: right;\n",
       "    }\n",
       "</style>\n",
       "<table border=\"1\" class=\"dataframe\">\n",
       "  <thead>\n",
       "    <tr style=\"text-align: right;\">\n",
       "      <th></th>\n",
       "      <th>pca-component</th>\n",
       "      <th>domain-number</th>\n",
       "    </tr>\n",
       "  </thead>\n",
       "  <tbody>\n",
       "    <tr>\n",
       "      <th>0</th>\n",
       "      <td>PC0</td>\n",
       "      <td>305</td>\n",
       "    </tr>\n",
       "    <tr>\n",
       "      <th>1</th>\n",
       "      <td>PC1</td>\n",
       "      <td>135</td>\n",
       "    </tr>\n",
       "    <tr>\n",
       "      <th>2</th>\n",
       "      <td>PC2</td>\n",
       "      <td>2233</td>\n",
       "    </tr>\n",
       "    <tr>\n",
       "      <th>3</th>\n",
       "      <td>PC3</td>\n",
       "      <td>219</td>\n",
       "    </tr>\n",
       "    <tr>\n",
       "      <th>4</th>\n",
       "      <td>PC4</td>\n",
       "      <td>242</td>\n",
       "    </tr>\n",
       "  </tbody>\n",
       "</table>\n",
       "</div>"
      ],
      "text/plain": [
       "  pca-component  domain-number\n",
       "0           PC0            305\n",
       "1           PC1            135\n",
       "2           PC2           2233\n",
       "3           PC3            219\n",
       "4           PC4            242"
      ]
     },
     "execution_count": 21,
     "metadata": {},
     "output_type": "execute_result"
    }
   ],
   "source": [
    "df_sl.head()"
   ]
  },
  {
   "cell_type": "markdown",
   "metadata": {},
   "source": [
    "## which are the shared domains between nSL and SL pairs , in the PCA reduced samples"
   ]
  },
  {
   "cell_type": "code",
   "execution_count": 22,
   "metadata": {
    "execution": {
     "iopub.execute_input": "2020-08-13T20:09:34.691199Z",
     "iopub.status.busy": "2020-08-13T20:09:34.690627Z",
     "iopub.status.idle": "2020-08-13T20:09:34.717117Z",
     "shell.execute_reply": "2020-08-13T20:09:34.717707Z"
    }
   },
   "outputs": [
    {
     "data": {
      "text/html": [
       "<div>\n",
       "<style scoped>\n",
       "    .dataframe tbody tr th:only-of-type {\n",
       "        vertical-align: middle;\n",
       "    }\n",
       "\n",
       "    .dataframe tbody tr th {\n",
       "        vertical-align: top;\n",
       "    }\n",
       "\n",
       "    .dataframe thead th {\n",
       "        text-align: right;\n",
       "    }\n",
       "</style>\n",
       "<table border=\"1\" class=\"dataframe\">\n",
       "  <thead>\n",
       "    <tr style=\"text-align: right;\">\n",
       "      <th></th>\n",
       "      <th>pca-component_x</th>\n",
       "      <th>domain-number</th>\n",
       "      <th>pca-component_y</th>\n",
       "      <th>domain-description</th>\n",
       "    </tr>\n",
       "  </thead>\n",
       "  <tbody>\n",
       "    <tr>\n",
       "      <th>0</th>\n",
       "      <td>PC0</td>\n",
       "      <td>305</td>\n",
       "      <td>PC3</td>\n",
       "      <td>Brr6_like_C_C; Brl1/Brr6 domain</td>\n",
       "    </tr>\n",
       "    <tr>\n",
       "      <th>1</th>\n",
       "      <td>PC5</td>\n",
       "      <td>3</td>\n",
       "      <td>PC5</td>\n",
       "      <td>2-Hacid_dh_C; D-isomer specific 2-hydroxyacid ...</td>\n",
       "    </tr>\n",
       "    <tr>\n",
       "      <th>2</th>\n",
       "      <td>PC6</td>\n",
       "      <td>2</td>\n",
       "      <td>PC12</td>\n",
       "      <td>2-Hacid_dh; D-isomer specific 2-hydroxyacid de...</td>\n",
       "    </tr>\n",
       "    <tr>\n",
       "      <th>3</th>\n",
       "      <td>PC11</td>\n",
       "      <td>2610</td>\n",
       "      <td>PC9</td>\n",
       "      <td>TPK_B1_binding; Thiamin pyrophosphokinase, vit...</td>\n",
       "    </tr>\n",
       "    <tr>\n",
       "      <th>4</th>\n",
       "      <td>PC12</td>\n",
       "      <td>300</td>\n",
       "      <td>PC61</td>\n",
       "      <td>BolA; BolA protein</td>\n",
       "    </tr>\n",
       "    <tr>\n",
       "      <th>...</th>\n",
       "      <td>...</td>\n",
       "      <td>...</td>\n",
       "      <td>...</td>\n",
       "      <td>...</td>\n",
       "    </tr>\n",
       "    <tr>\n",
       "      <th>56</th>\n",
       "      <td>PC257</td>\n",
       "      <td>2165</td>\n",
       "      <td>PC88</td>\n",
       "      <td>Ribosomal_L18A; Ribosomal protein 50S-L18Ae/60...</td>\n",
       "    </tr>\n",
       "    <tr>\n",
       "      <th>57</th>\n",
       "      <td>PC257</td>\n",
       "      <td>2165</td>\n",
       "      <td>PC90</td>\n",
       "      <td>Ribosomal_L18A; Ribosomal protein 50S-L18Ae/60...</td>\n",
       "    </tr>\n",
       "    <tr>\n",
       "      <th>58</th>\n",
       "      <td>PC260</td>\n",
       "      <td>2700</td>\n",
       "      <td>PC270</td>\n",
       "      <td>Trehalose_PPase; Trehalose-phosphatase</td>\n",
       "    </tr>\n",
       "    <tr>\n",
       "      <th>59</th>\n",
       "      <td>PC269</td>\n",
       "      <td>11</td>\n",
       "      <td>PC77</td>\n",
       "      <td>5-FTHF_cyc-lig; 5-formyltetrahydrofolate cyclo...</td>\n",
       "    </tr>\n",
       "    <tr>\n",
       "      <th>60</th>\n",
       "      <td>PC272</td>\n",
       "      <td>27</td>\n",
       "      <td>PC144</td>\n",
       "      <td>AAA_8; Dynein heavy chain, P-loop containing D...</td>\n",
       "    </tr>\n",
       "  </tbody>\n",
       "</table>\n",
       "<p>61 rows × 4 columns</p>\n",
       "</div>"
      ],
      "text/plain": [
       "   pca-component_x  domain-number pca-component_y  \\\n",
       "0              PC0            305             PC3   \n",
       "1              PC5              3             PC5   \n",
       "2              PC6              2            PC12   \n",
       "3             PC11           2610             PC9   \n",
       "4             PC12            300            PC61   \n",
       "..             ...            ...             ...   \n",
       "56           PC257           2165            PC88   \n",
       "57           PC257           2165            PC90   \n",
       "58           PC260           2700           PC270   \n",
       "59           PC269             11            PC77   \n",
       "60           PC272             27           PC144   \n",
       "\n",
       "                                   domain-description  \n",
       "0                     Brr6_like_C_C; Brl1/Brr6 domain  \n",
       "1   2-Hacid_dh_C; D-isomer specific 2-hydroxyacid ...  \n",
       "2   2-Hacid_dh; D-isomer specific 2-hydroxyacid de...  \n",
       "3   TPK_B1_binding; Thiamin pyrophosphokinase, vit...  \n",
       "4                                  BolA; BolA protein  \n",
       "..                                                ...  \n",
       "56  Ribosomal_L18A; Ribosomal protein 50S-L18Ae/60...  \n",
       "57  Ribosomal_L18A; Ribosomal protein 50S-L18Ae/60...  \n",
       "58             Trehalose_PPase; Trehalose-phosphatase  \n",
       "59  5-FTHF_cyc-lig; 5-formyltetrahydrofolate cyclo...  \n",
       "60  AAA_8; Dynein heavy chain, P-loop containing D...  \n",
       "\n",
       "[61 rows x 4 columns]"
      ]
     },
     "execution_count": 22,
     "metadata": {},
     "output_type": "execute_result"
    }
   ],
   "source": [
    "df_shared_domains=pd.merge(df_sl,df_nsl,how='inner',on='domain-number')\n",
    "domains_name=np.unique(data_domains['domain-name'])\n",
    "domains_description=np.unique(data_domains['domain-descrip'])\n",
    "\n",
    "df_shared_domains['domain-description']=domains_description[df_shared_domains['domain-number']]\n",
    "\n",
    "\n",
    "df_shared_domains"
   ]
  },
  {
   "cell_type": "code",
   "execution_count": 23,
   "metadata": {
    "execution": {
     "iopub.execute_input": "2020-08-13T20:09:34.721453Z",
     "iopub.status.busy": "2020-08-13T20:09:34.720856Z",
     "iopub.status.idle": "2020-08-13T20:09:34.724400Z",
     "shell.execute_reply": "2020-08-13T20:09:34.724906Z"
    }
   },
   "outputs": [
    {
     "name": "stdout",
     "output_type": "stream",
     "text": [
      "The number of shared domains between SL and nSL pairs,after PCA, is =  61 out of 554 so the 11.010830324909747 %\n"
     ]
    }
   ],
   "source": [
    "print('The number of shared domains between SL and nSL pairs,after PCA, is = ',len(df_shared_domains), 'out of', len(df_sl)+len(df_nsl), 'so the',100*len(df_shared_domains)/(len(df_sl)+len(df_nsl)),'%')"
   ]
  },
  {
   "cell_type": "markdown",
   "metadata": {},
   "source": [
    "## Domains exclusive to SL"
   ]
  },
  {
   "cell_type": "code",
   "execution_count": 24,
   "metadata": {
    "execution": {
     "iopub.execute_input": "2020-08-13T20:09:34.727153Z",
     "iopub.status.busy": "2020-08-13T20:09:34.726574Z",
     "iopub.status.idle": "2020-08-13T20:09:34.750698Z",
     "shell.execute_reply": "2020-08-13T20:09:34.751390Z"
    }
   },
   "outputs": [
    {
     "data": {
      "text/html": [
       "<div>\n",
       "<style scoped>\n",
       "    .dataframe tbody tr th:only-of-type {\n",
       "        vertical-align: middle;\n",
       "    }\n",
       "\n",
       "    .dataframe tbody tr th {\n",
       "        vertical-align: top;\n",
       "    }\n",
       "\n",
       "    .dataframe thead th {\n",
       "        text-align: right;\n",
       "    }\n",
       "</style>\n",
       "<table border=\"1\" class=\"dataframe\">\n",
       "  <thead>\n",
       "    <tr style=\"text-align: right;\">\n",
       "      <th></th>\n",
       "      <th>pca-component_x</th>\n",
       "      <th>domain-number</th>\n",
       "      <th>pca-component_y</th>\n",
       "      <th>domain-description</th>\n",
       "    </tr>\n",
       "  </thead>\n",
       "  <tbody>\n",
       "    <tr>\n",
       "      <th>1</th>\n",
       "      <td>PC1</td>\n",
       "      <td>135</td>\n",
       "      <td>NaN</td>\n",
       "      <td>ATP-synt_ab_Xtn; ATPsynthase alpha/beta subuni...</td>\n",
       "    </tr>\n",
       "    <tr>\n",
       "      <th>2</th>\n",
       "      <td>PC2</td>\n",
       "      <td>2233</td>\n",
       "      <td>NaN</td>\n",
       "      <td>Ribosomal_S27e; Ribosomal protein S27e</td>\n",
       "    </tr>\n",
       "    <tr>\n",
       "      <th>3</th>\n",
       "      <td>PC3</td>\n",
       "      <td>219</td>\n",
       "      <td>NaN</td>\n",
       "      <td>Apc15p; Anaphase-promoting complex subunit  15...</td>\n",
       "    </tr>\n",
       "    <tr>\n",
       "      <th>4</th>\n",
       "      <td>PC4</td>\n",
       "      <td>242</td>\n",
       "      <td>NaN</td>\n",
       "      <td>Atg31; Autophagy-related protein 31</td>\n",
       "    </tr>\n",
       "    <tr>\n",
       "      <th>7</th>\n",
       "      <td>PC7</td>\n",
       "      <td>1</td>\n",
       "      <td>NaN</td>\n",
       "      <td>14-3-3; 14-3-3 domain</td>\n",
       "    </tr>\n",
       "    <tr>\n",
       "      <th>...</th>\n",
       "      <td>...</td>\n",
       "      <td>...</td>\n",
       "      <td>...</td>\n",
       "      <td>...</td>\n",
       "    </tr>\n",
       "    <tr>\n",
       "      <th>281</th>\n",
       "      <td>PC270</td>\n",
       "      <td>2914</td>\n",
       "      <td>NaN</td>\n",
       "      <td>eRF1_3; eRF1 domain 3</td>\n",
       "    </tr>\n",
       "    <tr>\n",
       "      <th>282</th>\n",
       "      <td>PC271</td>\n",
       "      <td>2123</td>\n",
       "      <td>NaN</td>\n",
       "      <td>Rep_fac-A_C; Replication factor A, C-terminal</td>\n",
       "    </tr>\n",
       "    <tr>\n",
       "      <th>284</th>\n",
       "      <td>PC273</td>\n",
       "      <td>1575</td>\n",
       "      <td>NaN</td>\n",
       "      <td>NOC3p; Nucleolar complex-associated protein 3,...</td>\n",
       "    </tr>\n",
       "    <tr>\n",
       "      <th>285</th>\n",
       "      <td>PC274</td>\n",
       "      <td>695</td>\n",
       "      <td>NaN</td>\n",
       "      <td>DUF3385; Domain of unknown function DUF3385,  ...</td>\n",
       "    </tr>\n",
       "    <tr>\n",
       "      <th>286</th>\n",
       "      <td>PC275</td>\n",
       "      <td>8</td>\n",
       "      <td>NaN</td>\n",
       "      <td>3Beta_HSD; 3-beta hydroxysteroid dehydrogenase...</td>\n",
       "    </tr>\n",
       "  </tbody>\n",
       "</table>\n",
       "<p>226 rows × 4 columns</p>\n",
       "</div>"
      ],
      "text/plain": [
       "    pca-component_x  domain-number pca-component_y  \\\n",
       "1               PC1            135             NaN   \n",
       "2               PC2           2233             NaN   \n",
       "3               PC3            219             NaN   \n",
       "4               PC4            242             NaN   \n",
       "7               PC7              1             NaN   \n",
       "..              ...            ...             ...   \n",
       "281           PC270           2914             NaN   \n",
       "282           PC271           2123             NaN   \n",
       "284           PC273           1575             NaN   \n",
       "285           PC274            695             NaN   \n",
       "286           PC275              8             NaN   \n",
       "\n",
       "                                    domain-description  \n",
       "1    ATP-synt_ab_Xtn; ATPsynthase alpha/beta subuni...  \n",
       "2               Ribosomal_S27e; Ribosomal protein S27e  \n",
       "3    Apc15p; Anaphase-promoting complex subunit  15...  \n",
       "4                  Atg31; Autophagy-related protein 31  \n",
       "7                                14-3-3; 14-3-3 domain  \n",
       "..                                                 ...  \n",
       "281                              eRF1_3; eRF1 domain 3  \n",
       "282      Rep_fac-A_C; Replication factor A, C-terminal  \n",
       "284  NOC3p; Nucleolar complex-associated protein 3,...  \n",
       "285  DUF3385; Domain of unknown function DUF3385,  ...  \n",
       "286  3Beta_HSD; 3-beta hydroxysteroid dehydrogenase...  \n",
       "\n",
       "[226 rows x 4 columns]"
      ]
     },
     "execution_count": 24,
     "metadata": {},
     "output_type": "execute_result"
    }
   ],
   "source": [
    "df_sl_exclusive=pd.merge(df_sl,df_nsl,how='left',on='domain-number')\n",
    "\n",
    "domains_name=np.unique(data_domains['domain-name'])\n",
    "domains_description=np.unique(data_domains['domain-descrip'])\n",
    "\n",
    "df_sl_exclusive['domain-description']=domains_description[df_sl_exclusive['domain-number']]\n",
    "df_sl_exclusive[pd.isnull(df_sl_exclusive['pca-component_y'])]"
   ]
  },
  {
   "cell_type": "code",
   "execution_count": 25,
   "metadata": {
    "execution": {
     "iopub.execute_input": "2020-08-13T20:09:34.753781Z",
     "iopub.status.busy": "2020-08-13T20:09:34.753234Z",
     "iopub.status.idle": "2020-08-13T20:09:34.758290Z",
     "shell.execute_reply": "2020-08-13T20:09:34.758852Z"
    }
   },
   "outputs": [
    {
     "name": "stdout",
     "output_type": "stream",
     "text": [
      "The number of exclusive domains from SL pairs, after PCA, is =  287 out of 554 so the 51.805054151624546 %\n"
     ]
    }
   ],
   "source": [
    "print('The number of exclusive domains from SL pairs, after PCA, is = ',len(df_sl_exclusive), 'out of', len(df_sl)+len(df_nsl), 'so the',100*len(df_sl_exclusive)/(len(df_sl)+len(df_nsl)),'%')"
   ]
  },
  {
   "cell_type": "code",
   "execution_count": 26,
   "metadata": {
    "execution": {
     "iopub.execute_input": "2020-08-13T20:09:34.761260Z",
     "iopub.status.busy": "2020-08-13T20:09:34.760702Z",
     "iopub.status.idle": "2020-08-13T20:09:34.787825Z",
     "shell.execute_reply": "2020-08-13T20:09:34.788220Z"
    }
   },
   "outputs": [
    {
     "data": {
      "text/html": [
       "<div>\n",
       "<style scoped>\n",
       "    .dataframe tbody tr th:only-of-type {\n",
       "        vertical-align: middle;\n",
       "    }\n",
       "\n",
       "    .dataframe tbody tr th {\n",
       "        vertical-align: top;\n",
       "    }\n",
       "\n",
       "    .dataframe thead th {\n",
       "        text-align: right;\n",
       "    }\n",
       "</style>\n",
       "<table border=\"1\" class=\"dataframe\">\n",
       "  <thead>\n",
       "    <tr style=\"text-align: right;\">\n",
       "      <th></th>\n",
       "      <th>pca-component_x</th>\n",
       "      <th>domain-number</th>\n",
       "      <th>pca-component_y</th>\n",
       "      <th>domain-description</th>\n",
       "    </tr>\n",
       "  </thead>\n",
       "  <tbody>\n",
       "    <tr>\n",
       "      <th>0</th>\n",
       "      <td>NaN</td>\n",
       "      <td>308</td>\n",
       "      <td>PC0</td>\n",
       "      <td>Bul1_N; Bul1, N-terminal</td>\n",
       "    </tr>\n",
       "    <tr>\n",
       "      <th>1</th>\n",
       "      <td>NaN</td>\n",
       "      <td>268</td>\n",
       "      <td>PC1</td>\n",
       "      <td>BHD_3; Rad4 beta-hairpin domain 3</td>\n",
       "    </tr>\n",
       "    <tr>\n",
       "      <th>2</th>\n",
       "      <td>NaN</td>\n",
       "      <td>604</td>\n",
       "      <td>PC2</td>\n",
       "      <td>DNA_gyraseB; DNA topoisomerase, type IIA, subu...</td>\n",
       "    </tr>\n",
       "    <tr>\n",
       "      <th>6</th>\n",
       "      <td>NaN</td>\n",
       "      <td>1836</td>\n",
       "      <td>PC6</td>\n",
       "      <td>PTPLA; Protein-tyrosine phosphatase-like, PTPLA</td>\n",
       "    </tr>\n",
       "    <tr>\n",
       "      <th>7</th>\n",
       "      <td>NaN</td>\n",
       "      <td>757</td>\n",
       "      <td>PC7</td>\n",
       "      <td>DnaJ; DnaJ domain</td>\n",
       "    </tr>\n",
       "    <tr>\n",
       "      <th>...</th>\n",
       "      <td>...</td>\n",
       "      <td>...</td>\n",
       "      <td>...</td>\n",
       "      <td>...</td>\n",
       "    </tr>\n",
       "    <tr>\n",
       "      <th>280</th>\n",
       "      <td>NaN</td>\n",
       "      <td>431</td>\n",
       "      <td>PC271</td>\n",
       "      <td>CTU2; Cytoplasmic tRNA 2-thiolation protein 2</td>\n",
       "    </tr>\n",
       "    <tr>\n",
       "      <th>281</th>\n",
       "      <td>NaN</td>\n",
       "      <td>1903</td>\n",
       "      <td>PC272</td>\n",
       "      <td>Pex2_Pex12; Pex, N-terminal</td>\n",
       "    </tr>\n",
       "    <tr>\n",
       "      <th>282</th>\n",
       "      <td>NaN</td>\n",
       "      <td>1294</td>\n",
       "      <td>PC273</td>\n",
       "      <td>LIAS_N; Lipoyl synthase, N-terminal</td>\n",
       "    </tr>\n",
       "    <tr>\n",
       "      <th>283</th>\n",
       "      <td>NaN</td>\n",
       "      <td>2150</td>\n",
       "      <td>PC274</td>\n",
       "      <td>Ribosom_S12_S23; Ribosomal protein S12/S23</td>\n",
       "    </tr>\n",
       "    <tr>\n",
       "      <th>284</th>\n",
       "      <td>NaN</td>\n",
       "      <td>2150</td>\n",
       "      <td>PC275</td>\n",
       "      <td>Ribosom_S12_S23; Ribosomal protein S12/S23</td>\n",
       "    </tr>\n",
       "  </tbody>\n",
       "</table>\n",
       "<p>225 rows × 4 columns</p>\n",
       "</div>"
      ],
      "text/plain": [
       "    pca-component_x  domain-number pca-component_y  \\\n",
       "0               NaN            308             PC0   \n",
       "1               NaN            268             PC1   \n",
       "2               NaN            604             PC2   \n",
       "6               NaN           1836             PC6   \n",
       "7               NaN            757             PC7   \n",
       "..              ...            ...             ...   \n",
       "280             NaN            431           PC271   \n",
       "281             NaN           1903           PC272   \n",
       "282             NaN           1294           PC273   \n",
       "283             NaN           2150           PC274   \n",
       "284             NaN           2150           PC275   \n",
       "\n",
       "                                    domain-description  \n",
       "0                             Bul1_N; Bul1, N-terminal  \n",
       "1                    BHD_3; Rad4 beta-hairpin domain 3  \n",
       "2    DNA_gyraseB; DNA topoisomerase, type IIA, subu...  \n",
       "6      PTPLA; Protein-tyrosine phosphatase-like, PTPLA  \n",
       "7                                    DnaJ; DnaJ domain  \n",
       "..                                                 ...  \n",
       "280      CTU2; Cytoplasmic tRNA 2-thiolation protein 2  \n",
       "281                        Pex2_Pex12; Pex, N-terminal  \n",
       "282                LIAS_N; Lipoyl synthase, N-terminal  \n",
       "283         Ribosom_S12_S23; Ribosomal protein S12/S23  \n",
       "284         Ribosom_S12_S23; Ribosomal protein S12/S23  \n",
       "\n",
       "[225 rows x 4 columns]"
      ]
     },
     "execution_count": 26,
     "metadata": {},
     "output_type": "execute_result"
    }
   ],
   "source": [
    "df_nsl_exclusive=pd.merge(df_sl,df_nsl,how='right',on='domain-number')\n",
    "\n",
    "domains_name=np.unique(data_domains['domain-name'])\n",
    "domains_description=np.unique(data_domains['domain-descrip'])\n",
    "\n",
    "df_nsl_exclusive['domain-description']=domains_description[df_nsl_exclusive['domain-number']]\n",
    "df_nsl_exclusive[pd.isnull(df_nsl_exclusive['pca-component_x'])]"
   ]
  },
  {
   "cell_type": "code",
   "execution_count": 27,
   "metadata": {
    "execution": {
     "iopub.execute_input": "2020-08-13T20:09:34.792739Z",
     "iopub.status.busy": "2020-08-13T20:09:34.792160Z",
     "iopub.status.idle": "2020-08-13T20:09:34.794765Z",
     "shell.execute_reply": "2020-08-13T20:09:34.795176Z"
    }
   },
   "outputs": [
    {
     "name": "stdout",
     "output_type": "stream",
     "text": [
      "The number of exclusive domains from non SL pairs, after PCA, is =  286 out of 554 so the 51.624548736462096 %\n"
     ]
    }
   ],
   "source": [
    "print('The number of exclusive domains from non SL pairs, after PCA, is = ',len(df_nsl_exclusive), 'out of', len(df_sl)+len(df_nsl), 'so the',100*len(df_nsl_exclusive)/(len(df_sl)+len(df_nsl)),'%')"
   ]
  },
  {
   "cell_type": "markdown",
   "metadata": {},
   "source": [
    "## Let see to the domains-number that get repeated after the PCA analysis , and selecting the most explanatory feature by its explained variance."
   ]
  },
  {
   "cell_type": "code",
   "execution_count": 28,
   "metadata": {
    "execution": {
     "iopub.execute_input": "2020-08-13T20:09:34.814674Z",
     "iopub.status.busy": "2020-08-13T20:09:34.813426Z",
     "iopub.status.idle": "2020-08-13T20:09:34.815320Z",
     "shell.execute_reply": "2020-08-13T20:09:34.815738Z"
    }
   },
   "outputs": [],
   "source": [
    "duplicated_features_sl=df_sl[df_sl.iloc[:,1].duplicated()]\n",
    "repeated_features_sl=pd.DataFrame()\n",
    "\n",
    "domains_name=np.unique(data_domains['domain-name'])\n",
    "domains_description=np.unique(data_domains['domain-descrip'])\n",
    "\n",
    "repeated_features_sl['domain-name']=domains_name[duplicated_features_sl.iloc[:,1]] \n",
    "repeated_features_sl['domain-description']=domains_description[duplicated_features_sl.iloc[:,1]]\n",
    "\n",
    "duplicated_features_nsl=df_nsl[df_nsl.iloc[:,1].duplicated()]\n",
    "repeated_features_nsl=pd.DataFrame()\n",
    "\n",
    "repeated_features_nsl['domain-name']=domains_name[duplicated_features_nsl.iloc[:,1]] \n",
    "repeated_features_nsl['domain-description']=domains_description[duplicated_features_nsl.iloc[:,1]]"
   ]
  },
  {
   "cell_type": "code",
   "execution_count": 29,
   "metadata": {
    "execution": {
     "iopub.execute_input": "2020-08-13T20:09:34.823742Z",
     "iopub.status.busy": "2020-08-13T20:09:34.822802Z",
     "iopub.status.idle": "2020-08-13T20:09:34.828156Z",
     "shell.execute_reply": "2020-08-13T20:09:34.827688Z"
    }
   },
   "outputs": [
    {
     "name": "stderr",
     "output_type": "stream",
     "text": [
      "/usr/share/miniconda3/envs/wintest/lib/python3.7/site-packages/ipykernel_launcher.py:3: SettingWithCopyWarning: \n",
      "A value is trying to be set on a copy of a slice from a DataFrame.\n",
      "Try using .loc[row_indexer,col_indexer] = value instead\n",
      "\n",
      "See the caveats in the documentation: https://pandas.pydata.org/pandas-docs/stable/user_guide/indexing.html#returning-a-view-versus-a-copy\n",
      "  This is separate from the ipykernel package so we can avoid doing imports until\n"
     ]
    },
    {
     "data": {
      "text/plain": [
       "((35, 4), (287, 4))"
      ]
     },
     "execution_count": 29,
     "metadata": {},
     "output_type": "execute_result"
    }
   ],
   "source": [
    "only_sl_pd=pd.merge(repeated_features_sl,repeated_features_nsl,how='left',on=['domain-name'])\n",
    "data_only_sl = only_sl_pd[pd.isnull(only_sl_pd['domain-description_y'])]\n",
    "data_only_sl['domain-description']=data_only_sl['domain-description_x']\n",
    "data_only_sl.shape,df_sl_exclusive.shape"
   ]
  },
  {
   "cell_type": "code",
   "execution_count": 30,
   "metadata": {
    "execution": {
     "iopub.execute_input": "2020-08-13T20:09:34.846227Z",
     "iopub.status.busy": "2020-08-13T20:09:34.845690Z",
     "iopub.status.idle": "2020-08-13T20:09:34.848536Z",
     "shell.execute_reply": "2020-08-13T20:09:34.848961Z"
    }
   },
   "outputs": [
    {
     "data": {
      "text/html": [
       "<div>\n",
       "<style scoped>\n",
       "    .dataframe tbody tr th:only-of-type {\n",
       "        vertical-align: middle;\n",
       "    }\n",
       "\n",
       "    .dataframe tbody tr th {\n",
       "        vertical-align: top;\n",
       "    }\n",
       "\n",
       "    .dataframe thead th {\n",
       "        text-align: right;\n",
       "    }\n",
       "</style>\n",
       "<table border=\"1\" class=\"dataframe\">\n",
       "  <thead>\n",
       "    <tr style=\"text-align: right;\">\n",
       "      <th></th>\n",
       "      <th>domain-name</th>\n",
       "      <th>domain-description_x</th>\n",
       "      <th>domain-description_y</th>\n",
       "    </tr>\n",
       "  </thead>\n",
       "  <tbody>\n",
       "    <tr>\n",
       "      <th>0</th>\n",
       "      <td>PF02181</td>\n",
       "      <td>NaN</td>\n",
       "      <td>Ecl1; Life-span regulatory factor</td>\n",
       "    </tr>\n",
       "    <tr>\n",
       "      <th>1</th>\n",
       "      <td>PF01145</td>\n",
       "      <td>NaN</td>\n",
       "      <td>Coq4; Ubiquinone biosynthesis protein Coq4</td>\n",
       "    </tr>\n",
       "    <tr>\n",
       "      <th>2</th>\n",
       "      <td>PF13086</td>\n",
       "      <td>NaN</td>\n",
       "      <td>THOC7; THO complex subunit 7/Mft1</td>\n",
       "    </tr>\n",
       "    <tr>\n",
       "      <th>3</th>\n",
       "      <td>PF04055</td>\n",
       "      <td>NaN</td>\n",
       "      <td>KA1; Kinase associated domain 1 (KA1)</td>\n",
       "    </tr>\n",
       "    <tr>\n",
       "      <th>4</th>\n",
       "      <td>PF00515</td>\n",
       "      <td>NaN</td>\n",
       "      <td>BAG; BAG domain</td>\n",
       "    </tr>\n",
       "    <tr>\n",
       "      <th>5</th>\n",
       "      <td>PF00782</td>\n",
       "      <td>NaN</td>\n",
       "      <td>COG6</td>\n",
       "    </tr>\n",
       "    <tr>\n",
       "      <th>6</th>\n",
       "      <td>PF00080</td>\n",
       "      <td>NaN</td>\n",
       "      <td>AATF-Che1; AATF leucine zipper-containing domain</td>\n",
       "    </tr>\n",
       "    <tr>\n",
       "      <th>8</th>\n",
       "      <td>PF00581</td>\n",
       "      <td>NaN</td>\n",
       "      <td>BRE1; E3 ubiquitin ligase, BRE1</td>\n",
       "    </tr>\n",
       "    <tr>\n",
       "      <th>9</th>\n",
       "      <td>PF00408</td>\n",
       "      <td>NaN</td>\n",
       "      <td>Aminotran_1_2; Aminotransferase, class I/classII</td>\n",
       "    </tr>\n",
       "    <tr>\n",
       "      <th>10</th>\n",
       "      <td>PF00702</td>\n",
       "      <td>NaN</td>\n",
       "      <td>CFIA_Pcf11; Subunit of cleavage factor IA Pcf11</td>\n",
       "    </tr>\n",
       "    <tr>\n",
       "      <th>11</th>\n",
       "      <td>PF09770</td>\n",
       "      <td>NaN</td>\n",
       "      <td>Ribosomal_L18A; Ribosomal protein 50S-L18Ae/60...</td>\n",
       "    </tr>\n",
       "    <tr>\n",
       "      <th>12</th>\n",
       "      <td>PF00244</td>\n",
       "      <td>NaN</td>\n",
       "      <td>ATP-grasp; ATP-grasp fold, ATP-dependent carbo...</td>\n",
       "    </tr>\n",
       "    <tr>\n",
       "      <th>13</th>\n",
       "      <td>PF00730</td>\n",
       "      <td>NaN</td>\n",
       "      <td>CLASP_N; CLASP N-terminal domain</td>\n",
       "    </tr>\n",
       "    <tr>\n",
       "      <th>14</th>\n",
       "      <td>PF03142</td>\n",
       "      <td>NaN</td>\n",
       "      <td>Glyco_hydro_47; Glycoside hydrolase family 47</td>\n",
       "    </tr>\n",
       "    <tr>\n",
       "      <th>15</th>\n",
       "      <td>PF02383</td>\n",
       "      <td>NaN</td>\n",
       "      <td>FHA; Forkhead-associated (FHA) domain</td>\n",
       "    </tr>\n",
       "    <tr>\n",
       "      <th>16</th>\n",
       "      <td>PF00179</td>\n",
       "      <td>NaN</td>\n",
       "      <td>ANAPC3</td>\n",
       "    </tr>\n",
       "    <tr>\n",
       "      <th>17</th>\n",
       "      <td>PF02301</td>\n",
       "      <td>NaN</td>\n",
       "      <td>FAT; PIK-related kinase, FAT</td>\n",
       "    </tr>\n",
       "    <tr>\n",
       "      <th>18</th>\n",
       "      <td>PF16282</td>\n",
       "      <td>NaN</td>\n",
       "      <td>YjeF_N; YjeF N-terminal domain</td>\n",
       "    </tr>\n",
       "    <tr>\n",
       "      <th>19</th>\n",
       "      <td>PF00134</td>\n",
       "      <td>NaN</td>\n",
       "      <td>AGA2</td>\n",
       "    </tr>\n",
       "    <tr>\n",
       "      <th>20</th>\n",
       "      <td>PF12063</td>\n",
       "      <td>NaN</td>\n",
       "      <td>Sec3_C; Exocyst complex component Sec3, C-term...</td>\n",
       "    </tr>\n",
       "    <tr>\n",
       "      <th>21</th>\n",
       "      <td>PF08647</td>\n",
       "      <td>NaN</td>\n",
       "      <td>RNA_pol_L_2; DNA-directed RNA polymerase, RBP1...</td>\n",
       "    </tr>\n",
       "    <tr>\n",
       "      <th>22</th>\n",
       "      <td>PF06732</td>\n",
       "      <td>NaN</td>\n",
       "      <td>Ost4; Oligosaccaryltransferase</td>\n",
       "    </tr>\n",
       "    <tr>\n",
       "      <th>23</th>\n",
       "      <td>PF04280</td>\n",
       "      <td>NaN</td>\n",
       "      <td>LsmAD; LsmAD domain</td>\n",
       "    </tr>\n",
       "    <tr>\n",
       "      <th>24</th>\n",
       "      <td>PF01151</td>\n",
       "      <td>NaN</td>\n",
       "      <td>Cpn10; GroES chaperonin family</td>\n",
       "    </tr>\n",
       "    <tr>\n",
       "      <th>25</th>\n",
       "      <td>PF01151</td>\n",
       "      <td>NaN</td>\n",
       "      <td>Cpn10; GroES chaperonin family</td>\n",
       "    </tr>\n",
       "    <tr>\n",
       "      <th>26</th>\n",
       "      <td>PF10513</td>\n",
       "      <td>NaN</td>\n",
       "      <td>SGTA_dimer; SGTA, homodimerisation domain</td>\n",
       "    </tr>\n",
       "    <tr>\n",
       "      <th>27</th>\n",
       "      <td>PF00338</td>\n",
       "      <td>NaN</td>\n",
       "      <td>Adaptin_N; Clathrin/coatomer adaptor, adaptin-...</td>\n",
       "    </tr>\n",
       "    <tr>\n",
       "      <th>28</th>\n",
       "      <td>PF01667</td>\n",
       "      <td>NaN</td>\n",
       "      <td>DUF3591; Transcription initiation factor TFIID...</td>\n",
       "    </tr>\n",
       "    <tr>\n",
       "      <th>29</th>\n",
       "      <td>PF12009</td>\n",
       "      <td>NaN</td>\n",
       "      <td>Sec3-PIP2_bind; Exocyst complex component Sec3...</td>\n",
       "    </tr>\n",
       "    <tr>\n",
       "      <th>30</th>\n",
       "      <td>PF01423</td>\n",
       "      <td>NaN</td>\n",
       "      <td>DNA_topoisoIV; DNA topoisomerase, type IIA, su...</td>\n",
       "    </tr>\n",
       "    <tr>\n",
       "      <th>31</th>\n",
       "      <td>PF04851</td>\n",
       "      <td>NaN</td>\n",
       "      <td>Med13_C; Mediator complex, subunit Med13</td>\n",
       "    </tr>\n",
       "    <tr>\n",
       "      <th>32</th>\n",
       "      <td>PF04821</td>\n",
       "      <td>NaN</td>\n",
       "      <td>Mcl1_mid; Minichromosome loss protein Mcl1, mi...</td>\n",
       "    </tr>\n",
       "    <tr>\n",
       "      <th>33</th>\n",
       "      <td>PF01779</td>\n",
       "      <td>NaN</td>\n",
       "      <td>DUF836; Glutaredoxin-like</td>\n",
       "    </tr>\n",
       "    <tr>\n",
       "      <th>34</th>\n",
       "      <td>PF01048</td>\n",
       "      <td>NaN</td>\n",
       "      <td>Chorismate_synt; Chorismate synthase</td>\n",
       "    </tr>\n",
       "    <tr>\n",
       "      <th>35</th>\n",
       "      <td>PF01048</td>\n",
       "      <td>NaN</td>\n",
       "      <td>Chorismate_synt; Chorismate synthase</td>\n",
       "    </tr>\n",
       "    <tr>\n",
       "      <th>36</th>\n",
       "      <td>PF00327</td>\n",
       "      <td>NaN</td>\n",
       "      <td>Acyl_transf_1; Acyl transferase</td>\n",
       "    </tr>\n",
       "    <tr>\n",
       "      <th>39</th>\n",
       "      <td>PF03650</td>\n",
       "      <td>NaN</td>\n",
       "      <td>Hap4_Hap_bind; Hap4 transcription factor, hete...</td>\n",
       "    </tr>\n",
       "    <tr>\n",
       "      <th>40</th>\n",
       "      <td>PF03650</td>\n",
       "      <td>NaN</td>\n",
       "      <td>Hap4_Hap_bind; Hap4 transcription factor, hete...</td>\n",
       "    </tr>\n",
       "    <tr>\n",
       "      <th>41</th>\n",
       "      <td>PF00153</td>\n",
       "      <td>NaN</td>\n",
       "      <td>AIRC; PurE domain</td>\n",
       "    </tr>\n",
       "    <tr>\n",
       "      <th>42</th>\n",
       "      <td>PF05255</td>\n",
       "      <td>NaN</td>\n",
       "      <td>Myosin_TH1; Class I myosin tail homology domain</td>\n",
       "    </tr>\n",
       "    <tr>\n",
       "      <th>43</th>\n",
       "      <td>PF03452</td>\n",
       "      <td>NaN</td>\n",
       "      <td>HHH_5</td>\n",
       "    </tr>\n",
       "    <tr>\n",
       "      <th>44</th>\n",
       "      <td>PF08426</td>\n",
       "      <td>NaN</td>\n",
       "      <td>PfkB; Carbohydrate kinase PfkB</td>\n",
       "    </tr>\n",
       "    <tr>\n",
       "      <th>45</th>\n",
       "      <td>PF08426</td>\n",
       "      <td>NaN</td>\n",
       "      <td>PfkB; Carbohydrate kinase PfkB</td>\n",
       "    </tr>\n",
       "    <tr>\n",
       "      <th>46</th>\n",
       "      <td>PF09793</td>\n",
       "      <td>NaN</td>\n",
       "      <td>Ribosomal_L21p; Ribosomal protein L21-like</td>\n",
       "    </tr>\n",
       "    <tr>\n",
       "      <th>47</th>\n",
       "      <td>PF03850</td>\n",
       "      <td>NaN</td>\n",
       "      <td>Homoserine_dh; Homoserine dehydrogenase, catal...</td>\n",
       "    </tr>\n",
       "    <tr>\n",
       "      <th>48</th>\n",
       "      <td>PF03850</td>\n",
       "      <td>NaN</td>\n",
       "      <td>Homoserine_dh; Homoserine dehydrogenase, catal...</td>\n",
       "    </tr>\n",
       "    <tr>\n",
       "      <th>49</th>\n",
       "      <td>PF03850</td>\n",
       "      <td>NaN</td>\n",
       "      <td>Homoserine_dh; Homoserine dehydrogenase, catal...</td>\n",
       "    </tr>\n",
       "    <tr>\n",
       "      <th>50</th>\n",
       "      <td>PF01247</td>\n",
       "      <td>NaN</td>\n",
       "      <td>DCP2; mRNA decapping protein 2, Box A domain</td>\n",
       "    </tr>\n",
       "    <tr>\n",
       "      <th>51</th>\n",
       "      <td>PF02535</td>\n",
       "      <td>NaN</td>\n",
       "      <td>F_bP_aldolase; Fructose-bisphosphate aldolase,...</td>\n",
       "    </tr>\n",
       "    <tr>\n",
       "      <th>52</th>\n",
       "      <td>PF09729</td>\n",
       "      <td>NaN</td>\n",
       "      <td>Ribosomal_L10; Ribosomal protein L10P</td>\n",
       "    </tr>\n",
       "    <tr>\n",
       "      <th>53</th>\n",
       "      <td>PF04188</td>\n",
       "      <td>NaN</td>\n",
       "      <td>LeuA_dimer; 2-isopropylmalate synthase LeuA, a...</td>\n",
       "    </tr>\n",
       "    <tr>\n",
       "      <th>54</th>\n",
       "      <td>PF15227</td>\n",
       "      <td>NaN</td>\n",
       "      <td>Vac17</td>\n",
       "    </tr>\n",
       "    <tr>\n",
       "      <th>55</th>\n",
       "      <td>PF06428</td>\n",
       "      <td>NaN</td>\n",
       "      <td>OB_NTP_bind; Domain of unknown function DUF1605</td>\n",
       "    </tr>\n",
       "    <tr>\n",
       "      <th>56</th>\n",
       "      <td>PF00566</td>\n",
       "      <td>NaN</td>\n",
       "      <td>BLI1</td>\n",
       "    </tr>\n",
       "    <tr>\n",
       "      <th>57</th>\n",
       "      <td>PF09696</td>\n",
       "      <td>NaN</td>\n",
       "      <td>Ribosom_S12_S23; Ribosomal protein S12/S23</td>\n",
       "    </tr>\n",
       "    <tr>\n",
       "      <th>58</th>\n",
       "      <td>PF03366</td>\n",
       "      <td>NaN</td>\n",
       "      <td>HATPase_c_3</td>\n",
       "    </tr>\n",
       "  </tbody>\n",
       "</table>\n",
       "</div>"
      ],
      "text/plain": [
       "   domain-name domain-description_x  \\\n",
       "0      PF02181                  NaN   \n",
       "1      PF01145                  NaN   \n",
       "2      PF13086                  NaN   \n",
       "3      PF04055                  NaN   \n",
       "4      PF00515                  NaN   \n",
       "5      PF00782                  NaN   \n",
       "6      PF00080                  NaN   \n",
       "8      PF00581                  NaN   \n",
       "9      PF00408                  NaN   \n",
       "10     PF00702                  NaN   \n",
       "11     PF09770                  NaN   \n",
       "12     PF00244                  NaN   \n",
       "13     PF00730                  NaN   \n",
       "14     PF03142                  NaN   \n",
       "15     PF02383                  NaN   \n",
       "16     PF00179                  NaN   \n",
       "17     PF02301                  NaN   \n",
       "18     PF16282                  NaN   \n",
       "19     PF00134                  NaN   \n",
       "20     PF12063                  NaN   \n",
       "21     PF08647                  NaN   \n",
       "22     PF06732                  NaN   \n",
       "23     PF04280                  NaN   \n",
       "24     PF01151                  NaN   \n",
       "25     PF01151                  NaN   \n",
       "26     PF10513                  NaN   \n",
       "27     PF00338                  NaN   \n",
       "28     PF01667                  NaN   \n",
       "29     PF12009                  NaN   \n",
       "30     PF01423                  NaN   \n",
       "31     PF04851                  NaN   \n",
       "32     PF04821                  NaN   \n",
       "33     PF01779                  NaN   \n",
       "34     PF01048                  NaN   \n",
       "35     PF01048                  NaN   \n",
       "36     PF00327                  NaN   \n",
       "39     PF03650                  NaN   \n",
       "40     PF03650                  NaN   \n",
       "41     PF00153                  NaN   \n",
       "42     PF05255                  NaN   \n",
       "43     PF03452                  NaN   \n",
       "44     PF08426                  NaN   \n",
       "45     PF08426                  NaN   \n",
       "46     PF09793                  NaN   \n",
       "47     PF03850                  NaN   \n",
       "48     PF03850                  NaN   \n",
       "49     PF03850                  NaN   \n",
       "50     PF01247                  NaN   \n",
       "51     PF02535                  NaN   \n",
       "52     PF09729                  NaN   \n",
       "53     PF04188                  NaN   \n",
       "54     PF15227                  NaN   \n",
       "55     PF06428                  NaN   \n",
       "56     PF00566                  NaN   \n",
       "57     PF09696                  NaN   \n",
       "58     PF03366                  NaN   \n",
       "\n",
       "                                 domain-description_y  \n",
       "0                   Ecl1; Life-span regulatory factor  \n",
       "1          Coq4; Ubiquinone biosynthesis protein Coq4  \n",
       "2                   THOC7; THO complex subunit 7/Mft1  \n",
       "3               KA1; Kinase associated domain 1 (KA1)  \n",
       "4                                     BAG; BAG domain  \n",
       "5                                                COG6  \n",
       "6    AATF-Che1; AATF leucine zipper-containing domain  \n",
       "8                     BRE1; E3 ubiquitin ligase, BRE1  \n",
       "9    Aminotran_1_2; Aminotransferase, class I/classII  \n",
       "10    CFIA_Pcf11; Subunit of cleavage factor IA Pcf11  \n",
       "11  Ribosomal_L18A; Ribosomal protein 50S-L18Ae/60...  \n",
       "12  ATP-grasp; ATP-grasp fold, ATP-dependent carbo...  \n",
       "13                   CLASP_N; CLASP N-terminal domain  \n",
       "14      Glyco_hydro_47; Glycoside hydrolase family 47  \n",
       "15              FHA; Forkhead-associated (FHA) domain  \n",
       "16                                             ANAPC3  \n",
       "17                       FAT; PIK-related kinase, FAT  \n",
       "18                     YjeF_N; YjeF N-terminal domain  \n",
       "19                                               AGA2  \n",
       "20  Sec3_C; Exocyst complex component Sec3, C-term...  \n",
       "21  RNA_pol_L_2; DNA-directed RNA polymerase, RBP1...  \n",
       "22                     Ost4; Oligosaccaryltransferase  \n",
       "23                                LsmAD; LsmAD domain  \n",
       "24                     Cpn10; GroES chaperonin family  \n",
       "25                     Cpn10; GroES chaperonin family  \n",
       "26          SGTA_dimer; SGTA, homodimerisation domain  \n",
       "27  Adaptin_N; Clathrin/coatomer adaptor, adaptin-...  \n",
       "28  DUF3591; Transcription initiation factor TFIID...  \n",
       "29  Sec3-PIP2_bind; Exocyst complex component Sec3...  \n",
       "30  DNA_topoisoIV; DNA topoisomerase, type IIA, su...  \n",
       "31           Med13_C; Mediator complex, subunit Med13  \n",
       "32  Mcl1_mid; Minichromosome loss protein Mcl1, mi...  \n",
       "33                          DUF836; Glutaredoxin-like  \n",
       "34               Chorismate_synt; Chorismate synthase  \n",
       "35               Chorismate_synt; Chorismate synthase  \n",
       "36                    Acyl_transf_1; Acyl transferase  \n",
       "39  Hap4_Hap_bind; Hap4 transcription factor, hete...  \n",
       "40  Hap4_Hap_bind; Hap4 transcription factor, hete...  \n",
       "41                                  AIRC; PurE domain  \n",
       "42    Myosin_TH1; Class I myosin tail homology domain  \n",
       "43                                              HHH_5  \n",
       "44                     PfkB; Carbohydrate kinase PfkB  \n",
       "45                     PfkB; Carbohydrate kinase PfkB  \n",
       "46         Ribosomal_L21p; Ribosomal protein L21-like  \n",
       "47  Homoserine_dh; Homoserine dehydrogenase, catal...  \n",
       "48  Homoserine_dh; Homoserine dehydrogenase, catal...  \n",
       "49  Homoserine_dh; Homoserine dehydrogenase, catal...  \n",
       "50       DCP2; mRNA decapping protein 2, Box A domain  \n",
       "51  F_bP_aldolase; Fructose-bisphosphate aldolase,...  \n",
       "52              Ribosomal_L10; Ribosomal protein L10P  \n",
       "53  LeuA_dimer; 2-isopropylmalate synthase LeuA, a...  \n",
       "54                                              Vac17  \n",
       "55    OB_NTP_bind; Domain of unknown function DUF1605  \n",
       "56                                               BLI1  \n",
       "57         Ribosom_S12_S23; Ribosomal protein S12/S23  \n",
       "58                                        HATPase_c_3  "
      ]
     },
     "execution_count": 30,
     "metadata": {},
     "output_type": "execute_result"
    }
   ],
   "source": [
    "only_nsl_pd=pd.merge(repeated_features_sl,repeated_features_nsl,how='right',on=['domain-name'])\n",
    "data_only_nsl = only_nsl_pd[pd.isnull(only_nsl_pd['domain-description_x'])]\n",
    "data_only_nsl"
   ]
  },
  {
   "cell_type": "code",
   "execution_count": 31,
   "metadata": {
    "execution": {
     "iopub.execute_input": "2020-08-13T20:09:34.853682Z",
     "iopub.status.busy": "2020-08-13T20:09:34.853140Z",
     "iopub.status.idle": "2020-08-13T20:09:34.862099Z",
     "shell.execute_reply": "2020-08-13T20:09:34.861571Z"
    }
   },
   "outputs": [
    {
     "data": {
      "text/html": [
       "<div>\n",
       "<style scoped>\n",
       "    .dataframe tbody tr th:only-of-type {\n",
       "        vertical-align: middle;\n",
       "    }\n",
       "\n",
       "    .dataframe tbody tr th {\n",
       "        vertical-align: top;\n",
       "    }\n",
       "\n",
       "    .dataframe thead th {\n",
       "        text-align: right;\n",
       "    }\n",
       "</style>\n",
       "<table border=\"1\" class=\"dataframe\">\n",
       "  <thead>\n",
       "    <tr style=\"text-align: right;\">\n",
       "      <th></th>\n",
       "      <th>domain-name</th>\n",
       "      <th>domain-description_x</th>\n",
       "      <th>domain-description_y</th>\n",
       "    </tr>\n",
       "  </thead>\n",
       "  <tbody>\n",
       "    <tr>\n",
       "      <th>0</th>\n",
       "      <td>PF01399</td>\n",
       "      <td>DNA_pol_B; DNA-directed DNA polymerase, family...</td>\n",
       "      <td>DNA_pol_B; DNA-directed DNA polymerase, family...</td>\n",
       "    </tr>\n",
       "    <tr>\n",
       "      <th>1</th>\n",
       "      <td>PF01214</td>\n",
       "      <td>DAO; FAD dependent oxidoreductase</td>\n",
       "      <td>DAO; FAD dependent oxidoreductase</td>\n",
       "    </tr>\n",
       "    <tr>\n",
       "      <th>2</th>\n",
       "      <td>PF01214</td>\n",
       "      <td>DAO; FAD dependent oxidoreductase</td>\n",
       "      <td>DAO; FAD dependent oxidoreductase</td>\n",
       "    </tr>\n",
       "  </tbody>\n",
       "</table>\n",
       "</div>"
      ],
      "text/plain": [
       "  domain-name                               domain-description_x  \\\n",
       "0     PF01399  DNA_pol_B; DNA-directed DNA polymerase, family...   \n",
       "1     PF01214                  DAO; FAD dependent oxidoreductase   \n",
       "2     PF01214                  DAO; FAD dependent oxidoreductase   \n",
       "\n",
       "                                domain-description_y  \n",
       "0  DNA_pol_B; DNA-directed DNA polymerase, family...  \n",
       "1                  DAO; FAD dependent oxidoreductase  \n",
       "2                  DAO; FAD dependent oxidoreductase  "
      ]
     },
     "execution_count": 31,
     "metadata": {},
     "output_type": "execute_result"
    }
   ],
   "source": [
    "shared_domains_pd=pd.merge(repeated_features_sl,repeated_features_nsl,how='inner',on=['domain-name'])\n",
    "shared_domains_pd\n"
   ]
  },
  {
   "cell_type": "code",
   "execution_count": 32,
   "metadata": {
    "execution": {
     "iopub.execute_input": "2020-08-13T20:09:34.877945Z",
     "iopub.status.busy": "2020-08-13T20:09:34.865404Z",
     "iopub.status.idle": "2020-08-13T20:09:36.329252Z",
     "shell.execute_reply": "2020-08-13T20:09:36.329709Z"
    }
   },
   "outputs": [
    {
     "data": {
      "text/plain": [
       "(0.0, 0.2)"
      ]
     },
     "execution_count": 32,
     "metadata": {},
     "output_type": "execute_result"
    },
    {
     "data": {
      "image/png": "[encoded data removed]",
      "text/plain": [
       "<Figure size 432x288 with 1 Axes>"
      ]
     },
     "metadata": {
      "filenames": {
       "image/png": "/home/runner/work/jupyter-book/jupyter-book/mini_book/docs/_build/jupyter_execute/prot_domains2lethality-FEATURES-POSTPROCESSING_47_1.png"
      },
      "needs_background": "light"
     },
     "output_type": "display_data"
    }
   ],
   "source": [
    "a_sl=x_sl.iloc[:,np.sort(df_sl.iloc[:,1])]\n",
    "a_sl.describe().loc['mean'].hist(bins=8),\n",
    "a_sl.describe().loc['std'].hist(bins=8,alpha=0.4)\n",
    "plt.xlim([0,0.2])"
   ]
  },
  {
   "cell_type": "code",
   "execution_count": 33,
   "metadata": {
    "execution": {
     "iopub.execute_input": "2020-08-13T20:09:36.343174Z",
     "iopub.status.busy": "2020-08-13T20:09:36.339308Z",
     "iopub.status.idle": "2020-08-13T20:09:37.787574Z",
     "shell.execute_reply": "2020-08-13T20:09:37.786836Z"
    }
   },
   "outputs": [
    {
     "data": {
      "text/plain": [
       "(0.0, 0.2)"
      ]
     },
     "execution_count": 33,
     "metadata": {},
     "output_type": "execute_result"
    },
    {
     "data": {
      "image/png": "[encoded data removed]",
      "text/plain": [
       "<Figure size 432x288 with 1 Axes>"
      ]
     },
     "metadata": {
      "filenames": {
       "image/png": "/home/runner/work/jupyter-book/jupyter-book/mini_book/docs/_build/jupyter_execute/prot_domains2lethality-FEATURES-POSTPROCESSING_48_1.png"
      },
      "needs_background": "light"
     },
     "output_type": "display_data"
    }
   ],
   "source": [
    "a_nsl=x_nsl.iloc[:,np.sort(df_nsl.iloc[:,1])]\n",
    "a_nsl.describe().loc['mean'].hist(bins=8),\n",
    "a_nsl.describe().loc['std'].hist(bins=8,alpha=0.4)\n",
    "plt.xlim([0,0.2])"
   ]
  },
  {
   "cell_type": "markdown",
   "metadata": {},
   "source": [
    "### Proof of concept with *BEM1*\n",
    "\n",
    "- Gather the domains of SL and nSL pairs from BEM1\n",
    "- Check if the domains for the SL and nSL pairs are inside the most important domains after PCA."
   ]
  },
  {
   "cell_type": "code",
   "execution_count": 34,
   "metadata": {
    "execution": {
     "iopub.execute_input": "2020-08-13T20:09:37.793924Z",
     "iopub.status.busy": "2020-08-13T20:09:37.792247Z",
     "iopub.status.idle": "2020-08-13T20:09:37.797594Z",
     "shell.execute_reply": "2020-08-13T20:09:37.796697Z"
    }
   },
   "outputs": [],
   "source": [
    "domains_bem1=data_domains[data_domains['name']=='BEM1']['domain-descrip']\n",
    "sl_bem1=data_sl[data_sl['gene-query-name']=='BEM1']['gene-target-name']"
   ]
  },
  {
   "cell_type": "code",
   "execution_count": 35,
   "metadata": {
    "execution": {
     "iopub.execute_input": "2020-08-13T20:09:37.802010Z",
     "iopub.status.busy": "2020-08-13T20:09:37.801359Z",
     "iopub.status.idle": "2020-08-13T20:09:37.803869Z",
     "shell.execute_reply": "2020-08-13T20:09:37.804315Z"
    }
   },
   "outputs": [
    {
     "data": {
      "text/plain": [
       "2846      BEM2\n",
       "2847     CDC24\n",
       "5004      MSB1\n",
       "13777     SMI1\n",
       "13778     BNI1\n",
       "13779     BEM2\n",
       "14385     SKN7\n",
       "Name: gene-target-name, dtype: object"
      ]
     },
     "execution_count": 35,
     "metadata": {},
     "output_type": "execute_result"
    }
   ],
   "source": [
    "sl_bem1"
   ]
  },
  {
   "cell_type": "code",
   "execution_count": 36,
   "metadata": {
    "execution": {
     "iopub.execute_input": "2020-08-13T20:09:37.818584Z",
     "iopub.status.busy": "2020-08-13T20:09:37.818068Z",
     "iopub.status.idle": "2020-08-13T20:09:37.823507Z",
     "shell.execute_reply": "2020-08-13T20:09:37.822986Z"
    }
   },
   "outputs": [
    {
     "data": {
      "text/html": [
       "<div>\n",
       "<style scoped>\n",
       "    .dataframe tbody tr th:only-of-type {\n",
       "        vertical-align: middle;\n",
       "    }\n",
       "\n",
       "    .dataframe tbody tr th {\n",
       "        vertical-align: top;\n",
       "    }\n",
       "\n",
       "    .dataframe thead th {\n",
       "        text-align: right;\n",
       "    }\n",
       "</style>\n",
       "<table border=\"1\" class=\"dataframe\">\n",
       "  <thead>\n",
       "    <tr style=\"text-align: right;\">\n",
       "      <th></th>\n",
       "      <th>gene-query</th>\n",
       "      <th>gene-target</th>\n",
       "      <th>gene-query-name</th>\n",
       "      <th>gene-target-name</th>\n",
       "      <th>gene-query-description</th>\n",
       "      <th>gene-target-description</th>\n",
       "      <th>interaction-type</th>\n",
       "      <th>paper-source</th>\n",
       "    </tr>\n",
       "  </thead>\n",
       "  <tbody>\n",
       "    <tr>\n",
       "      <th>2846</th>\n",
       "      <td>YBR200W</td>\n",
       "      <td>YER155C</td>\n",
       "      <td>BEM1</td>\n",
       "      <td>BEM2</td>\n",
       "      <td>SRO1|phosphatidylinositol-3-phosphate-binding ...</td>\n",
       "      <td>IPL2|SUP9|TSL1|L000000168</td>\n",
       "      <td>Synthetic Lethality</td>\n",
       "      <td>Peterson J (1994)</td>\n",
       "    </tr>\n",
       "    <tr>\n",
       "      <th>2847</th>\n",
       "      <td>YBR200W</td>\n",
       "      <td>YAL041W</td>\n",
       "      <td>BEM1</td>\n",
       "      <td>CDC24</td>\n",
       "      <td>SRO1|phosphatidylinositol-3-phosphate-binding ...</td>\n",
       "      <td>CLS4|Rho family guanine nucleotide exchange fa...</td>\n",
       "      <td>Synthetic Lethality</td>\n",
       "      <td>Peterson J (1994)</td>\n",
       "    </tr>\n",
       "    <tr>\n",
       "      <th>5004</th>\n",
       "      <td>YBR200W</td>\n",
       "      <td>YOR188W</td>\n",
       "      <td>BEM1</td>\n",
       "      <td>MSB1</td>\n",
       "      <td>SRO1|phosphatidylinositol-3-phosphate-binding ...</td>\n",
       "      <td>L000001184</td>\n",
       "      <td>Synthetic Lethality</td>\n",
       "      <td>Bender A (1991)</td>\n",
       "    </tr>\n",
       "    <tr>\n",
       "      <th>13777</th>\n",
       "      <td>YBR200W</td>\n",
       "      <td>YGR229C</td>\n",
       "      <td>BEM1</td>\n",
       "      <td>SMI1</td>\n",
       "      <td>SRO1|phosphatidylinositol-3-phosphate-binding ...</td>\n",
       "      <td>KNR4|L000000909</td>\n",
       "      <td>Synthetic Lethality</td>\n",
       "      <td>Gorelik M (2011)</td>\n",
       "    </tr>\n",
       "    <tr>\n",
       "      <th>13778</th>\n",
       "      <td>YBR200W</td>\n",
       "      <td>YNL271C</td>\n",
       "      <td>BEM1</td>\n",
       "      <td>BNI1</td>\n",
       "      <td>SRO1|phosphatidylinositol-3-phosphate-binding ...</td>\n",
       "      <td>PPF3|SHE5|formin BNI1|L000000190</td>\n",
       "      <td>Synthetic Lethality</td>\n",
       "      <td>Gorelik M (2011)</td>\n",
       "    </tr>\n",
       "    <tr>\n",
       "      <th>13779</th>\n",
       "      <td>YBR200W</td>\n",
       "      <td>YER155C</td>\n",
       "      <td>BEM1</td>\n",
       "      <td>BEM2</td>\n",
       "      <td>SRO1|phosphatidylinositol-3-phosphate-binding ...</td>\n",
       "      <td>IPL2|SUP9|TSL1|L000000168</td>\n",
       "      <td>Synthetic Lethality</td>\n",
       "      <td>Gorelik M (2011)</td>\n",
       "    </tr>\n",
       "    <tr>\n",
       "      <th>14385</th>\n",
       "      <td>YBR200W</td>\n",
       "      <td>YHR206W</td>\n",
       "      <td>BEM1</td>\n",
       "      <td>SKN7</td>\n",
       "      <td>SRO1|phosphatidylinositol-3-phosphate-binding ...</td>\n",
       "      <td>BRY1|POS9|kinase-regulated stress-responsive t...</td>\n",
       "      <td>Dosage Lethality</td>\n",
       "      <td>Bouquin N (1999)</td>\n",
       "    </tr>\n",
       "  </tbody>\n",
       "</table>\n",
       "</div>"
      ],
      "text/plain": [
       "      gene-query gene-target gene-query-name gene-target-name  \\\n",
       "2846     YBR200W     YER155C            BEM1             BEM2   \n",
       "2847     YBR200W     YAL041W            BEM1            CDC24   \n",
       "5004     YBR200W     YOR188W            BEM1             MSB1   \n",
       "13777    YBR200W     YGR229C            BEM1             SMI1   \n",
       "13778    YBR200W     YNL271C            BEM1             BNI1   \n",
       "13779    YBR200W     YER155C            BEM1             BEM2   \n",
       "14385    YBR200W     YHR206W            BEM1             SKN7   \n",
       "\n",
       "                                  gene-query-description  \\\n",
       "2846   SRO1|phosphatidylinositol-3-phosphate-binding ...   \n",
       "2847   SRO1|phosphatidylinositol-3-phosphate-binding ...   \n",
       "5004   SRO1|phosphatidylinositol-3-phosphate-binding ...   \n",
       "13777  SRO1|phosphatidylinositol-3-phosphate-binding ...   \n",
       "13778  SRO1|phosphatidylinositol-3-phosphate-binding ...   \n",
       "13779  SRO1|phosphatidylinositol-3-phosphate-binding ...   \n",
       "14385  SRO1|phosphatidylinositol-3-phosphate-binding ...   \n",
       "\n",
       "                                 gene-target-description     interaction-type  \\\n",
       "2846                           IPL2|SUP9|TSL1|L000000168  Synthetic Lethality   \n",
       "2847   CLS4|Rho family guanine nucleotide exchange fa...  Synthetic Lethality   \n",
       "5004                                          L000001184  Synthetic Lethality   \n",
       "13777                                    KNR4|L000000909  Synthetic Lethality   \n",
       "13778                   PPF3|SHE5|formin BNI1|L000000190  Synthetic Lethality   \n",
       "13779                          IPL2|SUP9|TSL1|L000000168  Synthetic Lethality   \n",
       "14385  BRY1|POS9|kinase-regulated stress-responsive t...     Dosage Lethality   \n",
       "\n",
       "            paper-source  \n",
       "2846   Peterson J (1994)  \n",
       "2847   Peterson J (1994)  \n",
       "5004     Bender A (1991)  \n",
       "13777   Gorelik M (2011)  \n",
       "13778   Gorelik M (2011)  \n",
       "13779   Gorelik M (2011)  \n",
       "14385   Bouquin N (1999)  "
      ]
     },
     "execution_count": 36,
     "metadata": {},
     "output_type": "execute_result"
    }
   ],
   "source": [
    "data_sl[data_sl['gene-query-name']=='BEM1']"
   ]
  },
  {
   "cell_type": "code",
   "execution_count": null,
   "metadata": {},
   "outputs": [],
   "source": []
  }
 ],
 "metadata": {
  "jupytext": {
   "text_representation": {
    "extension": ".md",
    "format_name": "myst"
   }
  },
  "kernelspec": {
   "display_name": "Python 3",
   "language": "python",
   "name": "python3"
  },
  "language_info": {
   "codemirror_mode": {
    "name": "ipython",
    "version": 3
   },
   "file_extension": ".py",
   "mimetype": "text/x-python",
   "name": "python",
   "nbconvert_exporter": "python",
   "pygments_lexer": "ipython3",
   "version": "3.7.8"
  },
  "source_map": [
   10,
   18,
   29,
   36,
   57,
   66,
   98,
   101,
   105,
   128,
   131,
   135,
   139,
   145,
   178,
   184,
   188,
   206,
   210,
   218,
   222,
   225,
   229,
   234,
   238,
   244,
   248,
   253,
   257,
   267,
   269,
   273,
   306,
   311,
   313,
   317,
   328,
   330,
   334,
   344,
   348,
   358,
   360,
   364,
   381,
   388,
   394,
   400,
   407,
   412,
   419,
   424,
   428,
   432
  ]
 },
 "nbformat": 4,
 "nbformat_minor": 4
}