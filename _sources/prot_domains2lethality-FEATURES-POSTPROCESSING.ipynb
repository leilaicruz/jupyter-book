{
 "cells": [
  {
   "cell_type": "markdown",
   "metadata": {},
   "source": [
    "# Feature postprocessing from paper.\n",
    "- Title:  \"Predicting yeast synthetic lethal genetic interactions using protein domains\"\n",
    "- Authors: Bo Li, Feng Luo,School of Computing,Clemson University,Clemson, SC, USA\n",
    "- e-mail: bol, luofeng@clemson.edu\n",
    "- year:2009"
   ]
  },
  {
   "cell_type": "code",
   "execution_count": 1,
   "metadata": {
    "execution": {
     "iopub.execute_input": "2020-07-14T16:33:31.275642Z",
     "iopub.status.busy": "2020-07-14T16:33:31.274933Z",
     "iopub.status.idle": "2020-07-14T16:33:31.999802Z",
     "shell.execute_reply": "2020-07-14T16:33:31.999261Z"
    }
   },
   "outputs": [],
   "source": [
    "import pandas as pd\n",
    "import numpy as np\n",
    "import matplotlib.pyplot as plt\n",
    "from collections import defaultdict \n",
    "import seaborn as sns\n",
    "import matplotlib.cm as cm\n",
    "import scipy as scipy\n",
    "import random"
   ]
  },
  {
   "cell_type": "markdown",
   "metadata": {
    "jupyter": {
     "source_hidden": true
    }
   },
   "source": [
    "### Importing datasets \n",
    "\n",
    "#### Link to the github repo where the datasets to be downloaded:\n",
    "[DOWNLOAD THE DATASETS HERE](https://github.com/leilaicruz/machine-learning-for-yeast/tree/dev_Leila/datasets-for-learning)"
   ]
  },
  {
   "cell_type": "code",
   "execution_count": 2,
   "metadata": {
    "execution": {
     "iopub.execute_input": "2020-07-14T16:33:32.006144Z",
     "iopub.status.busy": "2020-07-14T16:33:32.005238Z",
     "iopub.status.idle": "2020-07-14T16:33:40.029662Z",
     "shell.execute_reply": "2020-07-14T16:33:40.029142Z"
    }
   },
   "outputs": [],
   "source": [
    "import os\n",
    "script_dir = os.path.dirname('__file__') #<-- absolute dir the script is in\n",
    "rel_path_SL = \"datasets/data-synthetic-lethals.xlsx\"\n",
    "rel_path_nSL=\"datasets/data-positive-genetic.xlsx\"\n",
    "rel_path_domains=\"datasets/proteins-domains-from-Pfam.xlsx\"\n",
    "\n",
    "abs_file_path_SL = os.path.join(script_dir, rel_path_SL)\n",
    "abs_file_path_nSL = os.path.join(script_dir, rel_path_nSL)\n",
    "abs_file_path_domains = os.path.join(script_dir, rel_path_domains)\n",
    "\n",
    "# os.chdir('mini_book/docs/') #<-- for binder os.chdir('../')\n",
    "# os.chdir('../')\n",
    "my_path_sl= abs_file_path_SL\n",
    "my_path_non_sl=abs_file_path_nSL\n",
    "my_path_domains=abs_file_path_domains\n",
    "\n",
    "data_sl=pd.read_excel(my_path_sl,header=0)\n",
    "data_domains=pd.read_excel(my_path_domains,header=0,index_col='Unnamed: 0')\n",
    "data_domains=data_domains.dropna()\n",
    "data_nonsl=pd.read_excel(my_path_non_sl,header=0)"
   ]
  },
  {
   "cell_type": "markdown",
   "metadata": {},
   "source": [
    "## Building the feature matrix\n",
    "One matrix for true SL where each row is one pair of SL. Every raw will be a vector of 0,1 or 2 depending on the comparison with the domain list. For row i the jth element = 0 if the jth element of the domain list is not in neither protein A and B, 1, if it is in one of them and 2 if it is in both of them .\n",
    "\n",
    "### Building the list of proteins domains id per protein pair separately :\n",
    "- List of protein A: Search for the Sl/nSL database the query gene name and look in the protein domain database which protein domains id has each of those queries.\n",
    "- List of protein B: Search for the Sl/nSL database the target gene name of the previous query and look in the protein domain database which protein domains id has each of those target genes."
   ]
  },
  {
   "cell_type": "code",
   "execution_count": 3,
   "metadata": {
    "execution": {
     "iopub.execute_input": "2020-07-14T16:33:40.046108Z",
     "iopub.status.busy": "2020-07-14T16:33:40.038934Z",
     "iopub.status.idle": "2020-07-14T16:33:42.194074Z",
     "shell.execute_reply": "2020-07-14T16:33:42.194493Z"
    }
   },
   "outputs": [],
   "source": [
    "# Selecting the meaningful columns in the respective dataset\n",
    "domain_id_list=data_domains['domain-name']\n",
    "query_gene=data_sl['gene-query-name']\n",
    "target_gene=data_sl['gene-target-name']\n",
    "query_gene_nonlethal=data_nonsl['gene-query-name']\n",
    "target_gene_nonlethal=data_nonsl['gene-target-name']\n",
    "\n",
    "\n",
    "\n",
    "# Initialising the arrays\n",
    "protein_a_list=[]\n",
    "protein_b_list=[]\n",
    "protein_a_list_non=[]\n",
    "protein_b_list_non=[]\n",
    "\n",
    "population = np.arange(0,len(data_sl))\n",
    "\n",
    "# For loop for 10000 pairs sampled randomly from the SL/nSl pair list , and creating a big array of proteind domains id per protein pair\n",
    "\n",
    "for m in random.sample(list(population), 500):\n",
    "    protein_a=data_domains[data_domains['name']==query_gene[m]]\n",
    "    protein_b=data_domains[data_domains['name']==target_gene[m]]\n",
    "    protein_a_list.append(protein_a['domain-name'].tolist())\n",
    "    protein_b_list.append(protein_b['domain-name'].tolist())\n",
    "\n",
    "    protein_a_non=data_domains[data_domains['name']==query_gene_nonlethal[m]]\n",
    "    protein_b_non=data_domains[data_domains['name']==target_gene_nonlethal[m]]\n",
    "    protein_a_list_non.append(protein_a_non['domain-name'].tolist())\n",
    "    protein_b_list_non.append(protein_b_non['domain-name'].tolist())"
   ]
  },
  {
   "cell_type": "code",
   "execution_count": 4,
   "metadata": {
    "execution": {
     "iopub.execute_input": "2020-07-14T16:33:42.200028Z",
     "iopub.status.busy": "2020-07-14T16:33:42.198171Z",
     "iopub.status.idle": "2020-07-14T16:33:42.204149Z",
     "shell.execute_reply": "2020-07-14T16:33:42.203501Z"
    }
   },
   "outputs": [
    {
     "name": "stdout",
     "output_type": "stream",
     "text": [
      "We are going to analyze 500 protein pairs, out of 17871 SL protein pairs\n",
      "We are going to analyze 500 protein pairs, out of 43340 positive protein pairs\n"
     ]
    }
   ],
   "source": [
    "print('We are going to analyze',len((protein_a_list)) ,'protein pairs, out of',len(data_sl),'SL protein pairs')\n",
    "print('We are going to analyze',len((protein_a_list_non)) ,'protein pairs, out of',len(data_nonsl),'positive protein pairs')"
   ]
  },
  {
   "cell_type": "markdown",
   "metadata": {},
   "source": [
    "### Postprocessing #1:  Remove protein pairs from study if either protein in the pair does not contain any domain"
   ]
  },
  {
   "cell_type": "code",
   "execution_count": 5,
   "metadata": {
    "execution": {
     "iopub.execute_input": "2020-07-14T16:33:42.213571Z",
     "iopub.status.busy": "2020-07-14T16:33:42.213029Z",
     "iopub.status.idle": "2020-07-14T16:33:42.216873Z",
     "shell.execute_reply": "2020-07-14T16:33:42.216372Z"
    }
   },
   "outputs": [],
   "source": [
    "def remove_empty_domains(protein_list_search,protein_list_pair):\n",
    "    index=[]\n",
    "    for i in np.arange(0,len(protein_list_search)):\n",
    "        if protein_list_search[i]==[] or protein_list_pair[i]==[]:\n",
    "            index.append(i) ## index of empty values for the protein_a_list meaning they dont have any annotated domain\n",
    "\n",
    "    y=[x for x in np.arange(0,len(protein_list_search)) if x not in index] # a list with non empty values from protein_a list\n",
    "\n",
    "    protein_list_search_new=[]\n",
    "    protein_list_pair_new=[]\n",
    "    for i in y:\n",
    "        protein_list_search_new.append(protein_list_search[i])\n",
    "        protein_list_pair_new.append(protein_list_pair[i])\n",
    "    return protein_list_search_new,protein_list_pair_new\n",
    "\n",
    "## evaluating the function\n",
    "\n",
    "protein_a_list_new,protein_b_list_new=remove_empty_domains(protein_a_list,protein_b_list)\n",
    "\n",
    "protein_a_list_non_new,protein_b_list_non_new=remove_empty_domains(protein_a_list_non,protein_b_list_non)"
   ]
  },
  {
   "cell_type": "code",
   "execution_count": 6,
   "metadata": {
    "execution": {
     "iopub.execute_input": "2020-07-14T16:33:42.223629Z",
     "iopub.status.busy": "2020-07-14T16:33:42.222869Z",
     "iopub.status.idle": "2020-07-14T16:33:42.225338Z",
     "shell.execute_reply": "2020-07-14T16:33:42.224182Z"
    }
   },
   "outputs": [
    {
     "name": "stdout",
     "output_type": "stream",
     "text": [
      "The empty domain in the SL were: 77 out of 500 domains\n",
      "The empty domain in the nSL were: 99 out of 500 domains\n"
     ]
    }
   ],
   "source": [
    "print('The empty domain in the SL were:', len(protein_a_list)-len(protein_a_list_new), 'out of', len(protein_a_list),'domains')\n",
    "print('The empty domain in the nSL were:', len(protein_a_list_non)-len(protein_a_list_non_new), 'out of', len(protein_a_list_non),'domains')"
   ]
  },
  {
   "cell_type": "markdown",
   "metadata": {},
   "source": [
    "### Feature engineering: Select from each ordered indexes of domain id list which of them appear once, in both or in any of the domains of each protein pair"
   ]
  },
  {
   "cell_type": "markdown",
   "metadata": {},
   "source": [
    "#### Define function `get_indexes`"
   ]
  },
  {
   "cell_type": "code",
   "execution_count": 7,
   "metadata": {
    "execution": {
     "iopub.execute_input": "2020-07-14T16:33:42.233044Z",
     "iopub.status.busy": "2020-07-14T16:33:42.232492Z",
     "iopub.status.idle": "2020-07-14T16:33:42.235188Z",
     "shell.execute_reply": "2020-07-14T16:33:42.235650Z"
    }
   },
   "outputs": [
    {
     "data": {
      "text/plain": [
       "[1, 2]"
      ]
     },
     "execution_count": 7,
     "metadata": {},
     "output_type": "execute_result"
    }
   ],
   "source": [
    "get_indexes = lambda x, xs: [i for (y, i) in zip(xs, range(len(xs))) if x == y] # a function that give the index of whether a value appear in array or not\n",
    "a=[1,2,2,4,5,6,7,8,9,10]\n",
    "get_indexes(2,a)"
   ]
  },
  {
   "cell_type": "code",
   "execution_count": 8,
   "metadata": {
    "execution": {
     "iopub.execute_input": "2020-07-14T16:33:42.244859Z",
     "iopub.status.busy": "2020-07-14T16:33:42.243103Z",
     "iopub.status.idle": "2020-07-14T16:33:42.247268Z",
     "shell.execute_reply": "2020-07-14T16:33:42.246797Z"
    }
   },
   "outputs": [],
   "source": [
    "def feature_building(protein_a_list_new,protein_b_list_new):\n",
    "    x = np.unique(domain_id_list)\n",
    "    ## To avoid taking repeated domains from one protein of the pairs , lets reduced the domains of each protein from the pairs to their unique members\n",
    "    protein_a_list_unique=[]\n",
    "    protein_b_list_unique=[]\n",
    "    for i in np.arange(0,len(protein_a_list_new)):\n",
    "        protein_a_list_unique.append(np.unique(protein_a_list_new[i]))\n",
    "        protein_b_list_unique.append(np.unique(protein_b_list_new[i]))\n",
    "        \n",
    "    protein_feat_true=np.zeros(shape=(len(x),len(protein_a_list_unique)))\n",
    "    pair_a_b_array=[]\n",
    "    for i in np.arange(0,len(protein_a_list_unique)):\n",
    "        index_a=[]\n",
    "        \n",
    "        pair=[protein_a_list_unique[i],protein_b_list_unique[i]]\n",
    "        pair_a_b=np.concatenate(pair).ravel()\n",
    "        pair_a_b_array.append(pair_a_b)\n",
    "\n",
    "    j=0\n",
    "    for i in pair_a_b_array:  \n",
    "        array,index,counts=np.unique(i,return_index=True,return_counts=True)\n",
    "        \n",
    "        for k,m in zip(counts,array):\n",
    "            if k ==2:\n",
    "                protein_feat_true[get_indexes(m,x),j]=2\n",
    "                \n",
    "            if k==1:\n",
    "                protein_feat_true[get_indexes(m,x),j]=1\n",
    "        j=j+1\n",
    "    return protein_feat_true"
   ]
  },
  {
   "cell_type": "code",
   "execution_count": 9,
   "metadata": {
    "execution": {
     "iopub.execute_input": "2020-07-14T16:33:42.255358Z",
     "iopub.status.busy": "2020-07-14T16:33:42.250611Z",
     "iopub.status.idle": "2020-07-14T16:33:42.979406Z",
     "shell.execute_reply": "2020-07-14T16:33:42.978778Z"
    }
   },
   "outputs": [],
   "source": [
    "protein_feat_true=feature_building(protein_b_list_new=protein_b_list_new,protein_a_list_new=protein_a_list_new)\n",
    "protein_feat_true_pd=pd.DataFrame(protein_feat_true.T)\n",
    "\n",
    "protein_feat_non_true=feature_building(protein_b_list_new=protein_b_list_non_new,protein_a_list_new=protein_a_list_non_new)\n",
    "protein_feat_non_true_pd=pd.DataFrame(protein_feat_non_true.T)"
   ]
  },
  {
   "cell_type": "markdown",
   "metadata": {},
   "source": [
    "### How many ones and twos are in each dataset"
   ]
  },
  {
   "cell_type": "code",
   "execution_count": 10,
   "metadata": {
    "execution": {
     "iopub.execute_input": "2020-07-14T16:33:42.987284Z",
     "iopub.status.busy": "2020-07-14T16:33:42.986671Z",
     "iopub.status.idle": "2020-07-14T16:33:43.081722Z",
     "shell.execute_reply": "2020-07-14T16:33:43.082288Z"
    }
   },
   "outputs": [
    {
     "name": "stdout",
     "output_type": "stream",
     "text": [
      "fraction of twos in the SL array is 2.2663775081570052e-05\n",
      "fraction of ones in the SL array is 0.0010323740304397945\n",
      "fraction of twos in the PI array is 5.770697223882443e-06\n",
      "fraction of ones in the PI array is 0.0008936336843840811\n"
     ]
    }
   ],
   "source": [
    "index_2_true=protein_feat_true_pd.where(protein_feat_true_pd==2)\n",
    "index_2_true_count=index_2_true.count(axis=1).sum()\n",
    "\n",
    "index_1_true=protein_feat_true_pd.where(protein_feat_true_pd==1)\n",
    "index_1_true_count=index_1_true.count(axis=1).sum()\n",
    "\n",
    "index_2_nontrue=protein_feat_non_true_pd.where(protein_feat_non_true_pd==2)\n",
    "index_2_nontrue_count=index_2_nontrue.count(axis=1).sum()\n",
    "\n",
    "index_1_nontrue=protein_feat_non_true_pd.where(protein_feat_non_true_pd==1)\n",
    "index_1_nontrue_count=index_1_nontrue.count(axis=1).sum()\n",
    "\n",
    "\n",
    "print('fraction of twos in the SL array is',index_2_true_count/(len(protein_feat_true_pd.index)*len(protein_feat_true_pd.columns)))\n",
    "print('fraction of ones in the SL array is',index_1_true_count/(len(protein_feat_true_pd.index)*len(protein_feat_true_pd.columns)))\n",
    "print('fraction of twos in the PI array is',index_2_nontrue_count/(len(protein_feat_non_true_pd.index)*len(protein_feat_non_true_pd.columns)))\n",
    "print('fraction of ones in the PI array is',index_1_nontrue_count/(len(protein_feat_non_true_pd.index)*len(protein_feat_non_true_pd.columns)))"
   ]
  },
  {
   "cell_type": "markdown",
   "metadata": {},
   "source": [
    "#### Bar plot to visualize these numbers"
   ]
  },
  {
   "cell_type": "code",
   "execution_count": 11,
   "metadata": {
    "execution": {
     "iopub.execute_input": "2020-07-14T16:33:43.088661Z",
     "iopub.status.busy": "2020-07-14T16:33:43.088103Z",
     "iopub.status.idle": "2020-07-14T16:33:43.542053Z",
     "shell.execute_reply": "2020-07-14T16:33:43.542604Z"
    }
   },
   "outputs": [
    {
     "data": {
      "text/plain": [
       "([0, 1, 2, 3], <a list of 4 Text major ticklabel objects>)"
      ]
     },
     "execution_count": 11,
     "metadata": {},
     "output_type": "execute_result"
    },
    {
     "data": {
      "image/png": "[encoded data removed]",
      "text/plain": [
       "<Figure size 432x288 with 1 Axes>"
      ]
     },
     "metadata": {
      "filenames": {
       "image/png": "/home/runner/work/jupyter-book/jupyter-book/mini_book/docs/_build/jupyter_execute/prot_domains2lethality-FEATURES-POSTPROCESSING_18_1.png"
      },
      "needs_background": "light"
     },
     "output_type": "display_data"
    }
   ],
   "source": [
    "plt.bar(['fraction of 2 in the nSL','fraction of 1 in the nSL'],[index_2_nontrue_count/(len(protein_feat_non_true_pd.index)*len(protein_feat_non_true_pd.columns)),index_1_nontrue_count/(len(protein_feat_non_true_pd.index)*len(protein_feat_non_true_pd.columns))],alpha=0.6,color=['blue','lightblue']), \n",
    "\n",
    "plt.bar(['fraction of 2 in SL ','fraction of 1 in SL'],[index_2_true_count/(len(protein_feat_true_pd.index)*len(protein_feat_true_pd.columns)),index_1_true_count/(len(protein_feat_true_pd.index)*len(protein_feat_true_pd.columns))],alpha=0.6,color=['coral','lightcoral'])\n",
    "\n",
    "plt.ylabel('Fraction from the population')\n",
    "plt.yscale('log')\n",
    "plt.xticks(rotation=40)"
   ]
  },
  {
   "cell_type": "markdown",
   "metadata": {},
   "source": [
    "#### Adding the labels(response variables) to each dataset"
   ]
  },
  {
   "cell_type": "code",
   "execution_count": 12,
   "metadata": {
    "execution": {
     "iopub.execute_input": "2020-07-14T16:33:43.549742Z",
     "iopub.status.busy": "2020-07-14T16:33:43.548973Z",
     "iopub.status.idle": "2020-07-14T16:33:43.551542Z",
     "shell.execute_reply": "2020-07-14T16:33:43.552124Z"
    }
   },
   "outputs": [],
   "source": [
    "protein_feat_true_pd['lethality']=np.ones(shape=(len(protein_a_list_new)))\n",
    "protein_feat_non_true_pd['lethality']=np.zeros(shape=(len(protein_a_list_non_new)))"
   ]
  },
  {
   "cell_type": "markdown",
   "metadata": {},
   "source": [
    "#### Joining both datasets"
   ]
  },
  {
   "cell_type": "code",
   "execution_count": 13,
   "metadata": {
    "execution": {
     "iopub.execute_input": "2020-07-14T16:33:43.558009Z",
     "iopub.status.busy": "2020-07-14T16:33:43.556564Z",
     "iopub.status.idle": "2020-07-14T16:33:43.597538Z",
     "shell.execute_reply": "2020-07-14T16:33:43.598046Z"
    }
   },
   "outputs": [
    {
     "name": "stdout",
     "output_type": "stream",
     "text": [
      "The number of features are: 3026\n",
      "The number of samples are: 824\n"
     ]
    }
   ],
   "source": [
    "feature_post=pd.concat([protein_feat_true_pd,protein_feat_non_true_pd],axis=0)\n",
    "feature_post=feature_post.set_index(np.arange(0,len(protein_a_list_new)+len(protein_a_list_non_new)))\n",
    "print('The number of features are:',feature_post.shape[1])\n",
    "print('The number of samples are:',feature_post.shape[0])"
   ]
  },
  {
   "cell_type": "markdown",
   "metadata": {},
   "source": [
    "### Postprocessing and exploration of the feature matrix of both datasets"
   ]
  },
  {
   "cell_type": "code",
   "execution_count": 14,
   "metadata": {
    "execution": {
     "iopub.execute_input": "2020-07-14T16:33:43.605483Z",
     "iopub.status.busy": "2020-07-14T16:33:43.604856Z",
     "iopub.status.idle": "2020-07-14T16:33:48.655459Z",
     "shell.execute_reply": "2020-07-14T16:33:48.655927Z"
    }
   },
   "outputs": [],
   "source": [
    "mean=feature_post.T.describe().loc['mean']\n",
    "std=feature_post.T.describe().loc['std']\n",
    "lethality=feature_post['lethality']\n",
    "\n",
    "corr_keys=pd.concat([mean,std,lethality],axis=1)"
   ]
  },
  {
   "cell_type": "markdown",
   "metadata": {},
   "source": [
    "### Viz of the stats"
   ]
  },
  {
   "cell_type": "code",
   "execution_count": 15,
   "metadata": {
    "execution": {
     "iopub.execute_input": "2020-07-14T16:33:48.685742Z",
     "iopub.status.busy": "2020-07-14T16:33:48.673930Z",
     "iopub.status.idle": "2020-07-14T16:33:50.597224Z",
     "shell.execute_reply": "2020-07-14T16:33:50.598006Z"
    }
   },
   "outputs": [
    {
     "data": {
      "text/plain": [
       "Text(0.5, 1.08, 'Pairplot to see data dependencies with Lethality')"
      ]
     },
     "execution_count": 15,
     "metadata": {},
     "output_type": "execute_result"
    },
    {
     "data": {
      "image/png": "[encoded data removed]",
      "text/plain": [
       "<Figure size 412x360 with 6 Axes>"
      ]
     },
     "metadata": {
      "filenames": {
       "image/png": "/home/runner/work/jupyter-book/jupyter-book/mini_book/docs/_build/jupyter_execute/prot_domains2lethality-FEATURES-POSTPROCESSING_26_1.png"
      },
      "needs_background": "light"
     },
     "output_type": "display_data"
    }
   ],
   "source": [
    "pair=sns.pairplot(corr_keys,hue='lethality',diag_kind='kde',kind='reg',palette='colorblind')\n",
    "pair.fig.suptitle('Pairplot to see data dependencies with Lethality',y=1.08)"
   ]
  },
  {
   "cell_type": "code",
   "execution_count": 16,
   "metadata": {
    "execution": {
     "iopub.execute_input": "2020-07-14T16:33:50.611753Z",
     "iopub.status.busy": "2020-07-14T16:33:50.611150Z",
     "iopub.status.idle": "2020-07-14T16:33:50.613728Z",
     "shell.execute_reply": "2020-07-14T16:33:50.614545Z"
    }
   },
   "outputs": [],
   "source": [
    "X, y = feature_post.drop(columns=[\"lethality\"]), feature_post[\"lethality\"]"
   ]
  },
  {
   "cell_type": "code",
   "execution_count": 17,
   "metadata": {
    "execution": {
     "iopub.execute_input": "2020-07-14T16:33:50.619888Z",
     "iopub.status.busy": "2020-07-14T16:33:50.619033Z",
     "iopub.status.idle": "2020-07-14T16:33:50.766060Z",
     "shell.execute_reply": "2020-07-14T16:33:50.765563Z"
    }
   },
   "outputs": [],
   "source": [
    "from sklearn.preprocessing import StandardScaler\n",
    "scaler = StandardScaler()\n",
    "x_sl=protein_feat_true_pd.drop(columns=['lethality'])\n",
    "x_nsl=protein_feat_non_true_pd.drop(columns=['lethality'])\n",
    "\n",
    "X_sl_scaled = scaler.fit_transform(x_sl)\n",
    "X_nsl_scaled = scaler.fit_transform(x_nsl)"
   ]
  },
  {
   "cell_type": "code",
   "execution_count": 18,
   "metadata": {
    "execution": {
     "iopub.execute_input": "2020-07-14T16:33:50.770725Z",
     "iopub.status.busy": "2020-07-14T16:33:50.770103Z",
     "iopub.status.idle": "2020-07-14T16:33:50.774998Z",
     "shell.execute_reply": "2020-07-14T16:33:50.775542Z"
    }
   },
   "outputs": [
    {
     "data": {
      "text/plain": [
       "(423, 3025)"
      ]
     },
     "execution_count": 18,
     "metadata": {},
     "output_type": "execute_result"
    }
   ],
   "source": [
    "np.shape(X_sl_scaled)"
   ]
  },
  {
   "cell_type": "markdown",
   "metadata": {},
   "source": [
    "## How redundant are each of the protein domains?"
   ]
  },
  {
   "cell_type": "code",
   "execution_count": 19,
   "metadata": {
    "execution": {
     "iopub.execute_input": "2020-07-14T16:33:50.783676Z",
     "iopub.status.busy": "2020-07-14T16:33:50.782555Z",
     "iopub.status.idle": "2020-07-14T16:33:50.784340Z",
     "shell.execute_reply": "2020-07-14T16:33:50.785027Z"
    }
   },
   "outputs": [],
   "source": [
    "def PCA_component_contribution(scaled_matrix,original_data):\n",
    "    from sklearn.decomposition import PCA\n",
    "\n",
    "    model = PCA(0.95).fit(scaled_matrix)\n",
    "    ## apply dimensionality reduction to X_train\n",
    "    output_pca = model.transform(scaled_matrix)\n",
    "    \n",
    "    total=sum(model.explained_variance_)\n",
    "\n",
    "\n",
    "   \n",
    "    # number of components , that it will be the number of main axes times the number of original components \n",
    "    n_pcs= model.components_.shape[0] # the amount of non redundant protein domains \n",
    "\n",
    "    # get the index of the most important feature on EACH component\n",
    "    # LIST COMPREHENSION HERE\n",
    "    most_important = [np.abs(model.components_[i]).argmax() for i in range(n_pcs)]\n",
    "\n",
    "    initial_feature_names = original_data.columns\n",
    "    # get the names\n",
    "    most_important_names = [initial_feature_names[most_important[i]] for i in range(n_pcs)]\n",
    "    \n",
    "\n",
    "    # LIST COMPREHENSION HERE AGAIN\n",
    "    dic = {'PC{}'.format(i): most_important_names[i] for i in range(n_pcs)}\n",
    "\n",
    "    # build the dataframe\n",
    "    df = pd.DataFrame(dic.items(),columns=['pca-component','domain-number'])\n",
    "\n",
    "    return df,model.components_"
   ]
  },
  {
   "cell_type": "code",
   "execution_count": 20,
   "metadata": {
    "execution": {
     "iopub.execute_input": "2020-07-14T16:33:50.788937Z",
     "iopub.status.busy": "2020-07-14T16:33:50.788224Z",
     "iopub.status.idle": "2020-07-14T16:33:51.529168Z",
     "shell.execute_reply": "2020-07-14T16:33:51.529910Z"
    }
   },
   "outputs": [],
   "source": [
    "df_sl,components_pca_nsl=PCA_component_contribution(X_nsl_scaled,x_nsl)\n",
    "df_nsl,components_pca_sl=PCA_component_contribution(X_sl_scaled,x_sl)"
   ]
  },
  {
   "cell_type": "code",
   "execution_count": 21,
   "metadata": {
    "execution": {
     "iopub.execute_input": "2020-07-14T16:33:51.533403Z",
     "iopub.status.busy": "2020-07-14T16:33:51.532151Z",
     "iopub.status.idle": "2020-07-14T16:33:51.543510Z",
     "shell.execute_reply": "2020-07-14T16:33:51.544242Z"
    }
   },
   "outputs": [
    {
     "data": {
      "text/html": [
       "<div>\n",
       "<style scoped>\n",
       "    .dataframe tbody tr th:only-of-type {\n",
       "        vertical-align: middle;\n",
       "    }\n",
       "\n",
       "    .dataframe tbody tr th {\n",
       "        vertical-align: top;\n",
       "    }\n",
       "\n",
       "    .dataframe thead th {\n",
       "        text-align: right;\n",
       "    }\n",
       "</style>\n",
       "<table border=\"1\" class=\"dataframe\">\n",
       "  <thead>\n",
       "    <tr style=\"text-align: right;\">\n",
       "      <th></th>\n",
       "      <th>pca-component</th>\n",
       "      <th>domain-number</th>\n",
       "    </tr>\n",
       "  </thead>\n",
       "  <tbody>\n",
       "    <tr>\n",
       "      <th>0</th>\n",
       "      <td>PC0</td>\n",
       "      <td>540</td>\n",
       "    </tr>\n",
       "    <tr>\n",
       "      <th>1</th>\n",
       "      <td>PC1</td>\n",
       "      <td>2771</td>\n",
       "    </tr>\n",
       "    <tr>\n",
       "      <th>2</th>\n",
       "      <td>PC2</td>\n",
       "      <td>1774</td>\n",
       "    </tr>\n",
       "    <tr>\n",
       "      <th>3</th>\n",
       "      <td>PC3</td>\n",
       "      <td>640</td>\n",
       "    </tr>\n",
       "    <tr>\n",
       "      <th>4</th>\n",
       "      <td>PC4</td>\n",
       "      <td>1519</td>\n",
       "    </tr>\n",
       "  </tbody>\n",
       "</table>\n",
       "</div>"
      ],
      "text/plain": [
       "  pca-component  domain-number\n",
       "0           PC0            540\n",
       "1           PC1           2771\n",
       "2           PC2           1774\n",
       "3           PC3            640\n",
       "4           PC4           1519"
      ]
     },
     "execution_count": 21,
     "metadata": {},
     "output_type": "execute_result"
    }
   ],
   "source": [
    "df_sl.head()"
   ]
  },
  {
   "cell_type": "markdown",
   "metadata": {},
   "source": [
    "## which are the shared domains between nSL and SL pairs , in the PCA reduced samples"
   ]
  },
  {
   "cell_type": "code",
   "execution_count": 22,
   "metadata": {
    "execution": {
     "iopub.execute_input": "2020-07-14T16:33:51.547296Z",
     "iopub.status.busy": "2020-07-14T16:33:51.546255Z",
     "iopub.status.idle": "2020-07-14T16:33:51.591671Z",
     "shell.execute_reply": "2020-07-14T16:33:51.592480Z"
    }
   },
   "outputs": [
    {
     "data": {
      "text/html": [
       "<div>\n",
       "<style scoped>\n",
       "    .dataframe tbody tr th:only-of-type {\n",
       "        vertical-align: middle;\n",
       "    }\n",
       "\n",
       "    .dataframe tbody tr th {\n",
       "        vertical-align: top;\n",
       "    }\n",
       "\n",
       "    .dataframe thead th {\n",
       "        text-align: right;\n",
       "    }\n",
       "</style>\n",
       "<table border=\"1\" class=\"dataframe\">\n",
       "  <thead>\n",
       "    <tr style=\"text-align: right;\">\n",
       "      <th></th>\n",
       "      <th>pca-component_x</th>\n",
       "      <th>domain-number</th>\n",
       "      <th>pca-component_y</th>\n",
       "      <th>domain-description</th>\n",
       "    </tr>\n",
       "  </thead>\n",
       "  <tbody>\n",
       "    <tr>\n",
       "      <th>0</th>\n",
       "      <td>PC6</td>\n",
       "      <td>202</td>\n",
       "      <td>PC70</td>\n",
       "      <td>Aminotran_1_2; Aminotransferase, class I/classII</td>\n",
       "    </tr>\n",
       "    <tr>\n",
       "      <th>1</th>\n",
       "      <td>PC22</td>\n",
       "      <td>2936</td>\n",
       "      <td>PC138</td>\n",
       "      <td>tRNA-synt_1c; Glutamyl/glutaminyl-tRNA synthet...</td>\n",
       "    </tr>\n",
       "    <tr>\n",
       "      <th>2</th>\n",
       "      <td>PC22</td>\n",
       "      <td>2936</td>\n",
       "      <td>PC163</td>\n",
       "      <td>tRNA-synt_1c; Glutamyl/glutaminyl-tRNA synthet...</td>\n",
       "    </tr>\n",
       "    <tr>\n",
       "      <th>3</th>\n",
       "      <td>PC24</td>\n",
       "      <td>652</td>\n",
       "      <td>PC136</td>\n",
       "      <td>DUF1720; Domain of unknown function DUF1720</td>\n",
       "    </tr>\n",
       "    <tr>\n",
       "      <th>4</th>\n",
       "      <td>PC25</td>\n",
       "      <td>579</td>\n",
       "      <td>PC109</td>\n",
       "      <td>DHBP_synthase; 3,4-dihydroxy-2-butanone 4-phos...</td>\n",
       "    </tr>\n",
       "    <tr>\n",
       "      <th>5</th>\n",
       "      <td>PC37</td>\n",
       "      <td>2371</td>\n",
       "      <td>PC180</td>\n",
       "      <td>SPT2; Chromatin SPT2</td>\n",
       "    </tr>\n",
       "    <tr>\n",
       "      <th>6</th>\n",
       "      <td>PC39</td>\n",
       "      <td>2125</td>\n",
       "      <td>PC126</td>\n",
       "      <td>Rer1; Retrieval of early ER protein Rer1</td>\n",
       "    </tr>\n",
       "    <tr>\n",
       "      <th>7</th>\n",
       "      <td>PC40</td>\n",
       "      <td>1745</td>\n",
       "      <td>PC240</td>\n",
       "      <td>PHM7_cyt; 10TM putative phosphate transporter,...</td>\n",
       "    </tr>\n",
       "    <tr>\n",
       "      <th>8</th>\n",
       "      <td>PC50</td>\n",
       "      <td>68</td>\n",
       "      <td>PC159</td>\n",
       "      <td>AIRC; PurE domain</td>\n",
       "    </tr>\n",
       "    <tr>\n",
       "      <th>9</th>\n",
       "      <td>PC52</td>\n",
       "      <td>599</td>\n",
       "      <td>PC44</td>\n",
       "      <td>DLIC; Dynein family light intermediate chain</td>\n",
       "    </tr>\n",
       "    <tr>\n",
       "      <th>10</th>\n",
       "      <td>PC52</td>\n",
       "      <td>599</td>\n",
       "      <td>PC45</td>\n",
       "      <td>DLIC; Dynein family light intermediate chain</td>\n",
       "    </tr>\n",
       "    <tr>\n",
       "      <th>11</th>\n",
       "      <td>PC57</td>\n",
       "      <td>1072</td>\n",
       "      <td>PC13</td>\n",
       "      <td>Glycos_transf_1; Glycosyl transferase, family 1</td>\n",
       "    </tr>\n",
       "    <tr>\n",
       "      <th>12</th>\n",
       "      <td>PC58</td>\n",
       "      <td>1635</td>\n",
       "      <td>PC185</td>\n",
       "      <td>Nrap_D5</td>\n",
       "    </tr>\n",
       "    <tr>\n",
       "      <th>13</th>\n",
       "      <td>PC63</td>\n",
       "      <td>1347</td>\n",
       "      <td>PC169</td>\n",
       "      <td>MAM33; Mitochondrial glycoprotein</td>\n",
       "    </tr>\n",
       "    <tr>\n",
       "      <th>14</th>\n",
       "      <td>PC63</td>\n",
       "      <td>1347</td>\n",
       "      <td>PC190</td>\n",
       "      <td>MAM33; Mitochondrial glycoprotein</td>\n",
       "    </tr>\n",
       "    <tr>\n",
       "      <th>15</th>\n",
       "      <td>PC72</td>\n",
       "      <td>924</td>\n",
       "      <td>PC221</td>\n",
       "      <td>Flocculin</td>\n",
       "    </tr>\n",
       "    <tr>\n",
       "      <th>16</th>\n",
       "      <td>PC74</td>\n",
       "      <td>924</td>\n",
       "      <td>PC221</td>\n",
       "      <td>Flocculin</td>\n",
       "    </tr>\n",
       "    <tr>\n",
       "      <th>17</th>\n",
       "      <td>PC75</td>\n",
       "      <td>6</td>\n",
       "      <td>PC139</td>\n",
       "      <td>2OG-FeII_Oxy_4</td>\n",
       "    </tr>\n",
       "    <tr>\n",
       "      <th>18</th>\n",
       "      <td>PC192</td>\n",
       "      <td>6</td>\n",
       "      <td>PC139</td>\n",
       "      <td>2OG-FeII_Oxy_4</td>\n",
       "    </tr>\n",
       "    <tr>\n",
       "      <th>19</th>\n",
       "      <td>PC94</td>\n",
       "      <td>1120</td>\n",
       "      <td>PC137</td>\n",
       "      <td>HIRA_B; HIRA B motif</td>\n",
       "    </tr>\n",
       "    <tr>\n",
       "      <th>20</th>\n",
       "      <td>PC103</td>\n",
       "      <td>1677</td>\n",
       "      <td>PC35</td>\n",
       "      <td>Ost5; Oligosaccharyltransferase complex subunit</td>\n",
       "    </tr>\n",
       "    <tr>\n",
       "      <th>21</th>\n",
       "      <td>PC123</td>\n",
       "      <td>381</td>\n",
       "      <td>PC145</td>\n",
       "      <td>COP-gamma_platf; Coatomer, gamma subunit, appe...</td>\n",
       "    </tr>\n",
       "    <tr>\n",
       "      <th>22</th>\n",
       "      <td>PC123</td>\n",
       "      <td>381</td>\n",
       "      <td>PC152</td>\n",
       "      <td>COP-gamma_platf; Coatomer, gamma subunit, appe...</td>\n",
       "    </tr>\n",
       "    <tr>\n",
       "      <th>23</th>\n",
       "      <td>PC125</td>\n",
       "      <td>1114</td>\n",
       "      <td>PC196</td>\n",
       "      <td>HHH_5</td>\n",
       "    </tr>\n",
       "    <tr>\n",
       "      <th>24</th>\n",
       "      <td>PC131</td>\n",
       "      <td>1550</td>\n",
       "      <td>PC243</td>\n",
       "      <td>NAD_binding_7; Sirohaem synthase, N-terminal</td>\n",
       "    </tr>\n",
       "    <tr>\n",
       "      <th>25</th>\n",
       "      <td>PC131</td>\n",
       "      <td>1550</td>\n",
       "      <td>PC254</td>\n",
       "      <td>NAD_binding_7; Sirohaem synthase, N-terminal</td>\n",
       "    </tr>\n",
       "    <tr>\n",
       "      <th>26</th>\n",
       "      <td>PC135</td>\n",
       "      <td>1046</td>\n",
       "      <td>PC98</td>\n",
       "      <td>Glyco_hydro_18; Glycoside hydrolase family 18,...</td>\n",
       "    </tr>\n",
       "    <tr>\n",
       "      <th>27</th>\n",
       "      <td>PC137</td>\n",
       "      <td>1641</td>\n",
       "      <td>PC246</td>\n",
       "      <td>Nsp1_C; Nucleoporin, NSP1-like, C-terminal</td>\n",
       "    </tr>\n",
       "    <tr>\n",
       "      <th>28</th>\n",
       "      <td>PC141</td>\n",
       "      <td>1410</td>\n",
       "      <td>PC157</td>\n",
       "      <td>MTHFR; Methylenetetrahydrofolate reductase</td>\n",
       "    </tr>\n",
       "    <tr>\n",
       "      <th>29</th>\n",
       "      <td>PC146</td>\n",
       "      <td>843</td>\n",
       "      <td>PC115</td>\n",
       "      <td>Enolase_C; Enolase, C-terminal TIM barrel domain</td>\n",
       "    </tr>\n",
       "    <tr>\n",
       "      <th>30</th>\n",
       "      <td>PC154</td>\n",
       "      <td>2165</td>\n",
       "      <td>PC122</td>\n",
       "      <td>Ribosomal_L18A; Ribosomal protein 50S-L18Ae/60...</td>\n",
       "    </tr>\n",
       "    <tr>\n",
       "      <th>31</th>\n",
       "      <td>PC159</td>\n",
       "      <td>1571</td>\n",
       "      <td>PC176</td>\n",
       "      <td>NMT1; SsuA/THI5-like</td>\n",
       "    </tr>\n",
       "    <tr>\n",
       "      <th>32</th>\n",
       "      <td>PC159</td>\n",
       "      <td>1571</td>\n",
       "      <td>PC178</td>\n",
       "      <td>NMT1; SsuA/THI5-like</td>\n",
       "    </tr>\n",
       "    <tr>\n",
       "      <th>33</th>\n",
       "      <td>PC166</td>\n",
       "      <td>1612</td>\n",
       "      <td>PC197</td>\n",
       "      <td>NifU; NIF system FeS cluster assembly, NifU, C...</td>\n",
       "    </tr>\n",
       "    <tr>\n",
       "      <th>34</th>\n",
       "      <td>PC167</td>\n",
       "      <td>1612</td>\n",
       "      <td>PC197</td>\n",
       "      <td>NifU; NIF system FeS cluster assembly, NifU, C...</td>\n",
       "    </tr>\n",
       "    <tr>\n",
       "      <th>35</th>\n",
       "      <td>PC170</td>\n",
       "      <td>140</td>\n",
       "      <td>PC216</td>\n",
       "      <td>ATP_bind_3; tRNA(Ile)-lysidine/2-thiocytidine ...</td>\n",
       "    </tr>\n",
       "    <tr>\n",
       "      <th>36</th>\n",
       "      <td>PC176</td>\n",
       "      <td>1035</td>\n",
       "      <td>PC208</td>\n",
       "      <td>Gln-synt_N; Glutamine synthetase, beta-Grasp d...</td>\n",
       "    </tr>\n",
       "    <tr>\n",
       "      <th>37</th>\n",
       "      <td>PC186</td>\n",
       "      <td>1103</td>\n",
       "      <td>PC244</td>\n",
       "      <td>HDA2-3; HDA1 complex subunit 2/3</td>\n",
       "    </tr>\n",
       "    <tr>\n",
       "      <th>38</th>\n",
       "      <td>PC193</td>\n",
       "      <td>81</td>\n",
       "      <td>PC151</td>\n",
       "      <td>AMP_N; Aminopeptidase P, N-terminal</td>\n",
       "    </tr>\n",
       "    <tr>\n",
       "      <th>39</th>\n",
       "      <td>PC195</td>\n",
       "      <td>38</td>\n",
       "      <td>PC134</td>\n",
       "      <td>ABC2_membrane; ABC-2 type transporter</td>\n",
       "    </tr>\n",
       "    <tr>\n",
       "      <th>40</th>\n",
       "      <td>PC203</td>\n",
       "      <td>107</td>\n",
       "      <td>PC135</td>\n",
       "      <td>ATE_N; Arginine-tRNA-protein transferase, N-te...</td>\n",
       "    </tr>\n",
       "    <tr>\n",
       "      <th>41</th>\n",
       "      <td>PC209</td>\n",
       "      <td>867</td>\n",
       "      <td>PC99</td>\n",
       "      <td>FAD_binding_7; Cryptochrome/DNA photolyase, FA...</td>\n",
       "    </tr>\n",
       "    <tr>\n",
       "      <th>42</th>\n",
       "      <td>PC214</td>\n",
       "      <td>2127</td>\n",
       "      <td>PC249</td>\n",
       "      <td>Response_reg; Signal transduction response reg...</td>\n",
       "    </tr>\n",
       "    <tr>\n",
       "      <th>43</th>\n",
       "      <td>PC231</td>\n",
       "      <td>2127</td>\n",
       "      <td>PC249</td>\n",
       "      <td>Response_reg; Signal transduction response reg...</td>\n",
       "    </tr>\n",
       "    <tr>\n",
       "      <th>44</th>\n",
       "      <td>PC215</td>\n",
       "      <td>2700</td>\n",
       "      <td>PC192</td>\n",
       "      <td>Trehalose_PPase; Trehalose-phosphatase</td>\n",
       "    </tr>\n",
       "    <tr>\n",
       "      <th>45</th>\n",
       "      <td>PC221</td>\n",
       "      <td>1504</td>\n",
       "      <td>PC144</td>\n",
       "      <td>Mob1_phocein; MOB kinase activator family</td>\n",
       "    </tr>\n",
       "    <tr>\n",
       "      <th>46</th>\n",
       "      <td>PC222</td>\n",
       "      <td>1352</td>\n",
       "      <td>PC202</td>\n",
       "      <td>MATalpha_HMGbox; Mating-type protein MAT alpha...</td>\n",
       "    </tr>\n",
       "    <tr>\n",
       "      <th>47</th>\n",
       "      <td>PC229</td>\n",
       "      <td>2651</td>\n",
       "      <td>PC189</td>\n",
       "      <td>Telomere_reg-2; Telomere length regulation pro...</td>\n",
       "    </tr>\n",
       "    <tr>\n",
       "      <th>48</th>\n",
       "      <td>PC229</td>\n",
       "      <td>2651</td>\n",
       "      <td>PC191</td>\n",
       "      <td>Telomere_reg-2; Telomere length regulation pro...</td>\n",
       "    </tr>\n",
       "    <tr>\n",
       "      <th>49</th>\n",
       "      <td>PC232</td>\n",
       "      <td>665</td>\n",
       "      <td>PC107</td>\n",
       "      <td>DUF202; Domain of unknown function DUF202</td>\n",
       "    </tr>\n",
       "    <tr>\n",
       "      <th>50</th>\n",
       "      <td>PC235</td>\n",
       "      <td>665</td>\n",
       "      <td>PC107</td>\n",
       "      <td>DUF202; Domain of unknown function DUF202</td>\n",
       "    </tr>\n",
       "    <tr>\n",
       "      <th>51</th>\n",
       "      <td>PC236</td>\n",
       "      <td>665</td>\n",
       "      <td>PC107</td>\n",
       "      <td>DUF202; Domain of unknown function DUF202</td>\n",
       "    </tr>\n",
       "    <tr>\n",
       "      <th>52</th>\n",
       "      <td>PC244</td>\n",
       "      <td>712</td>\n",
       "      <td>PC218</td>\n",
       "      <td>DUF3835; Domain of unknown function DUF3835</td>\n",
       "    </tr>\n",
       "    <tr>\n",
       "      <th>53</th>\n",
       "      <td>PC244</td>\n",
       "      <td>712</td>\n",
       "      <td>PC229</td>\n",
       "      <td>DUF3835; Domain of unknown function DUF3835</td>\n",
       "    </tr>\n",
       "    <tr>\n",
       "      <th>54</th>\n",
       "      <td>PC244</td>\n",
       "      <td>712</td>\n",
       "      <td>PC247</td>\n",
       "      <td>DUF3835; Domain of unknown function DUF3835</td>\n",
       "    </tr>\n",
       "    <tr>\n",
       "      <th>55</th>\n",
       "      <td>PC265</td>\n",
       "      <td>363</td>\n",
       "      <td>PC186</td>\n",
       "      <td>CLP1_P; Polyribonucleotide 5&amp;apos;-hydroxyl-ki...</td>\n",
       "    </tr>\n",
       "    <tr>\n",
       "      <th>56</th>\n",
       "      <td>PC273</td>\n",
       "      <td>1733</td>\n",
       "      <td>PC117</td>\n",
       "      <td>PGAP1; GPI inositol-deacylase PGAP1-like</td>\n",
       "    </tr>\n",
       "    <tr>\n",
       "      <th>57</th>\n",
       "      <td>PC274</td>\n",
       "      <td>1733</td>\n",
       "      <td>PC117</td>\n",
       "      <td>PGAP1; GPI inositol-deacylase PGAP1-like</td>\n",
       "    </tr>\n",
       "  </tbody>\n",
       "</table>\n",
       "</div>"
      ],
      "text/plain": [
       "   pca-component_x  domain-number pca-component_y  \\\n",
       "0              PC6            202            PC70   \n",
       "1             PC22           2936           PC138   \n",
       "2             PC22           2936           PC163   \n",
       "3             PC24            652           PC136   \n",
       "4             PC25            579           PC109   \n",
       "5             PC37           2371           PC180   \n",
       "6             PC39           2125           PC126   \n",
       "7             PC40           1745           PC240   \n",
       "8             PC50             68           PC159   \n",
       "9             PC52            599            PC44   \n",
       "10            PC52            599            PC45   \n",
       "11            PC57           1072            PC13   \n",
       "12            PC58           1635           PC185   \n",
       "13            PC63           1347           PC169   \n",
       "14            PC63           1347           PC190   \n",
       "15            PC72            924           PC221   \n",
       "16            PC74            924           PC221   \n",
       "17            PC75              6           PC139   \n",
       "18           PC192              6           PC139   \n",
       "19            PC94           1120           PC137   \n",
       "20           PC103           1677            PC35   \n",
       "21           PC123            381           PC145   \n",
       "22           PC123            381           PC152   \n",
       "23           PC125           1114           PC196   \n",
       "24           PC131           1550           PC243   \n",
       "25           PC131           1550           PC254   \n",
       "26           PC135           1046            PC98   \n",
       "27           PC137           1641           PC246   \n",
       "28           PC141           1410           PC157   \n",
       "29           PC146            843           PC115   \n",
       "30           PC154           2165           PC122   \n",
       "31           PC159           1571           PC176   \n",
       "32           PC159           1571           PC178   \n",
       "33           PC166           1612           PC197   \n",
       "34           PC167           1612           PC197   \n",
       "35           PC170            140           PC216   \n",
       "36           PC176           1035           PC208   \n",
       "37           PC186           1103           PC244   \n",
       "38           PC193             81           PC151   \n",
       "39           PC195             38           PC134   \n",
       "40           PC203            107           PC135   \n",
       "41           PC209            867            PC99   \n",
       "42           PC214           2127           PC249   \n",
       "43           PC231           2127           PC249   \n",
       "44           PC215           2700           PC192   \n",
       "45           PC221           1504           PC144   \n",
       "46           PC222           1352           PC202   \n",
       "47           PC229           2651           PC189   \n",
       "48           PC229           2651           PC191   \n",
       "49           PC232            665           PC107   \n",
       "50           PC235            665           PC107   \n",
       "51           PC236            665           PC107   \n",
       "52           PC244            712           PC218   \n",
       "53           PC244            712           PC229   \n",
       "54           PC244            712           PC247   \n",
       "55           PC265            363           PC186   \n",
       "56           PC273           1733           PC117   \n",
       "57           PC274           1733           PC117   \n",
       "\n",
       "                                   domain-description  \n",
       "0    Aminotran_1_2; Aminotransferase, class I/classII  \n",
       "1   tRNA-synt_1c; Glutamyl/glutaminyl-tRNA synthet...  \n",
       "2   tRNA-synt_1c; Glutamyl/glutaminyl-tRNA synthet...  \n",
       "3         DUF1720; Domain of unknown function DUF1720  \n",
       "4   DHBP_synthase; 3,4-dihydroxy-2-butanone 4-phos...  \n",
       "5                                SPT2; Chromatin SPT2  \n",
       "6            Rer1; Retrieval of early ER protein Rer1  \n",
       "7   PHM7_cyt; 10TM putative phosphate transporter,...  \n",
       "8                                   AIRC; PurE domain  \n",
       "9        DLIC; Dynein family light intermediate chain  \n",
       "10       DLIC; Dynein family light intermediate chain  \n",
       "11    Glycos_transf_1; Glycosyl transferase, family 1  \n",
       "12                                            Nrap_D5  \n",
       "13                  MAM33; Mitochondrial glycoprotein  \n",
       "14                  MAM33; Mitochondrial glycoprotein  \n",
       "15                                          Flocculin  \n",
       "16                                          Flocculin  \n",
       "17                                     2OG-FeII_Oxy_4  \n",
       "18                                     2OG-FeII_Oxy_4  \n",
       "19                               HIRA_B; HIRA B motif  \n",
       "20    Ost5; Oligosaccharyltransferase complex subunit  \n",
       "21  COP-gamma_platf; Coatomer, gamma subunit, appe...  \n",
       "22  COP-gamma_platf; Coatomer, gamma subunit, appe...  \n",
       "23                                              HHH_5  \n",
       "24       NAD_binding_7; Sirohaem synthase, N-terminal  \n",
       "25       NAD_binding_7; Sirohaem synthase, N-terminal  \n",
       "26  Glyco_hydro_18; Glycoside hydrolase family 18,...  \n",
       "27         Nsp1_C; Nucleoporin, NSP1-like, C-terminal  \n",
       "28         MTHFR; Methylenetetrahydrofolate reductase  \n",
       "29   Enolase_C; Enolase, C-terminal TIM barrel domain  \n",
       "30  Ribosomal_L18A; Ribosomal protein 50S-L18Ae/60...  \n",
       "31                               NMT1; SsuA/THI5-like  \n",
       "32                               NMT1; SsuA/THI5-like  \n",
       "33  NifU; NIF system FeS cluster assembly, NifU, C...  \n",
       "34  NifU; NIF system FeS cluster assembly, NifU, C...  \n",
       "35  ATP_bind_3; tRNA(Ile)-lysidine/2-thiocytidine ...  \n",
       "36  Gln-synt_N; Glutamine synthetase, beta-Grasp d...  \n",
       "37                   HDA2-3; HDA1 complex subunit 2/3  \n",
       "38                AMP_N; Aminopeptidase P, N-terminal  \n",
       "39              ABC2_membrane; ABC-2 type transporter  \n",
       "40  ATE_N; Arginine-tRNA-protein transferase, N-te...  \n",
       "41  FAD_binding_7; Cryptochrome/DNA photolyase, FA...  \n",
       "42  Response_reg; Signal transduction response reg...  \n",
       "43  Response_reg; Signal transduction response reg...  \n",
       "44             Trehalose_PPase; Trehalose-phosphatase  \n",
       "45          Mob1_phocein; MOB kinase activator family  \n",
       "46  MATalpha_HMGbox; Mating-type protein MAT alpha...  \n",
       "47  Telomere_reg-2; Telomere length regulation pro...  \n",
       "48  Telomere_reg-2; Telomere length regulation pro...  \n",
       "49          DUF202; Domain of unknown function DUF202  \n",
       "50          DUF202; Domain of unknown function DUF202  \n",
       "51          DUF202; Domain of unknown function DUF202  \n",
       "52        DUF3835; Domain of unknown function DUF3835  \n",
       "53        DUF3835; Domain of unknown function DUF3835  \n",
       "54        DUF3835; Domain of unknown function DUF3835  \n",
       "55  CLP1_P; Polyribonucleotide 5&apos;-hydroxyl-ki...  \n",
       "56           PGAP1; GPI inositol-deacylase PGAP1-like  \n",
       "57           PGAP1; GPI inositol-deacylase PGAP1-like  "
      ]
     },
     "execution_count": 22,
     "metadata": {},
     "output_type": "execute_result"
    }
   ],
   "source": [
    "df_shared_domains=pd.merge(df_sl,df_nsl,how='inner',on='domain-number')\n",
    "domains_name=np.unique(data_domains['domain-name'])\n",
    "domains_description=np.unique(data_domains['domain-descrip'])\n",
    "\n",
    "df_shared_domains['domain-description']=domains_description[df_shared_domains['domain-number']]\n",
    "\n",
    "\n",
    "df_shared_domains"
   ]
  },
  {
   "cell_type": "code",
   "execution_count": 23,
   "metadata": {
    "execution": {
     "iopub.execute_input": "2020-07-14T16:33:51.595946Z",
     "iopub.status.busy": "2020-07-14T16:33:51.594719Z",
     "iopub.status.idle": "2020-07-14T16:33:51.603015Z",
     "shell.execute_reply": "2020-07-14T16:33:51.603853Z"
    }
   },
   "outputs": [
    {
     "name": "stdout",
     "output_type": "stream",
     "text": [
      "The number of shared domains between SL and nSL pairs,after PCA, is =  58 out of 556 so the 10.431654676258994 %\n"
     ]
    }
   ],
   "source": [
    "print('The number of shared domains between SL and nSL pairs,after PCA, is = ',len(df_shared_domains), 'out of', len(df_sl)+len(df_nsl), 'so the',100*len(df_shared_domains)/(len(df_sl)+len(df_nsl)),'%')"
   ]
  },
  {
   "cell_type": "markdown",
   "metadata": {},
   "source": [
    "## Domains exclusive to SL"
   ]
  },
  {
   "cell_type": "code",
   "execution_count": 24,
   "metadata": {
    "execution": {
     "iopub.execute_input": "2020-07-14T16:33:51.607302Z",
     "iopub.status.busy": "2020-07-14T16:33:51.606182Z",
     "iopub.status.idle": "2020-07-14T16:33:51.640000Z",
     "shell.execute_reply": "2020-07-14T16:33:51.640488Z"
    }
   },
   "outputs": [
    {
     "data": {
      "text/html": [
       "<div>\n",
       "<style scoped>\n",
       "    .dataframe tbody tr th:only-of-type {\n",
       "        vertical-align: middle;\n",
       "    }\n",
       "\n",
       "    .dataframe tbody tr th {\n",
       "        vertical-align: top;\n",
       "    }\n",
       "\n",
       "    .dataframe thead th {\n",
       "        text-align: right;\n",
       "    }\n",
       "</style>\n",
       "<table border=\"1\" class=\"dataframe\">\n",
       "  <thead>\n",
       "    <tr style=\"text-align: right;\">\n",
       "      <th></th>\n",
       "      <th>pca-component_x</th>\n",
       "      <th>domain-number</th>\n",
       "      <th>pca-component_y</th>\n",
       "      <th>domain-description</th>\n",
       "    </tr>\n",
       "  </thead>\n",
       "  <tbody>\n",
       "    <tr>\n",
       "      <th>0</th>\n",
       "      <td>PC0</td>\n",
       "      <td>540</td>\n",
       "      <td>NaN</td>\n",
       "      <td>Cytochrome_B; Cytochrome b/b6, N-terminal</td>\n",
       "    </tr>\n",
       "    <tr>\n",
       "      <th>1</th>\n",
       "      <td>PC1</td>\n",
       "      <td>2771</td>\n",
       "      <td>NaN</td>\n",
       "      <td>Ubiq-assoc; Ubiquitin-associated domain, SWA2-...</td>\n",
       "    </tr>\n",
       "    <tr>\n",
       "      <th>2</th>\n",
       "      <td>PC2</td>\n",
       "      <td>1774</td>\n",
       "      <td>NaN</td>\n",
       "      <td>PIN_6; Ribonuclease, PIN domain</td>\n",
       "    </tr>\n",
       "    <tr>\n",
       "      <th>3</th>\n",
       "      <td>PC3</td>\n",
       "      <td>640</td>\n",
       "      <td>NaN</td>\n",
       "      <td>DUF155; Domain of unknown function DUF155</td>\n",
       "    </tr>\n",
       "    <tr>\n",
       "      <th>4</th>\n",
       "      <td>PC4</td>\n",
       "      <td>1519</td>\n",
       "      <td>NaN</td>\n",
       "      <td>Mtc; Tricarboxylate/iron carrier</td>\n",
       "    </tr>\n",
       "    <tr>\n",
       "      <th>...</th>\n",
       "      <td>...</td>\n",
       "      <td>...</td>\n",
       "      <td>...</td>\n",
       "      <td>...</td>\n",
       "    </tr>\n",
       "    <tr>\n",
       "      <th>278</th>\n",
       "      <td>PC269</td>\n",
       "      <td>2492</td>\n",
       "      <td>NaN</td>\n",
       "      <td>Sod_Cu; Superoxide dismutase, copper/zinc bind...</td>\n",
       "    </tr>\n",
       "    <tr>\n",
       "      <th>279</th>\n",
       "      <td>PC270</td>\n",
       "      <td>9</td>\n",
       "      <td>NaN</td>\n",
       "      <td>40S_S4_C; 40S ribosomal protein S4, C-terminal...</td>\n",
       "    </tr>\n",
       "    <tr>\n",
       "      <th>280</th>\n",
       "      <td>PC271</td>\n",
       "      <td>1192</td>\n",
       "      <td>NaN</td>\n",
       "      <td>Hydrolase_4; Serine aminopeptidase, S33</td>\n",
       "    </tr>\n",
       "    <tr>\n",
       "      <th>281</th>\n",
       "      <td>PC272</td>\n",
       "      <td>8</td>\n",
       "      <td>NaN</td>\n",
       "      <td>3Beta_HSD; 3-beta hydroxysteroid dehydrogenase...</td>\n",
       "    </tr>\n",
       "    <tr>\n",
       "      <th>284</th>\n",
       "      <td>PC275</td>\n",
       "      <td>1014</td>\n",
       "      <td>NaN</td>\n",
       "      <td>GTP_cyclohydro2; GTP cyclohydrolase II</td>\n",
       "    </tr>\n",
       "  </tbody>\n",
       "</table>\n",
       "<p>227 rows × 4 columns</p>\n",
       "</div>"
      ],
      "text/plain": [
       "    pca-component_x  domain-number pca-component_y  \\\n",
       "0               PC0            540             NaN   \n",
       "1               PC1           2771             NaN   \n",
       "2               PC2           1774             NaN   \n",
       "3               PC3            640             NaN   \n",
       "4               PC4           1519             NaN   \n",
       "..              ...            ...             ...   \n",
       "278           PC269           2492             NaN   \n",
       "279           PC270              9             NaN   \n",
       "280           PC271           1192             NaN   \n",
       "281           PC272              8             NaN   \n",
       "284           PC275           1014             NaN   \n",
       "\n",
       "                                    domain-description  \n",
       "0            Cytochrome_B; Cytochrome b/b6, N-terminal  \n",
       "1    Ubiq-assoc; Ubiquitin-associated domain, SWA2-...  \n",
       "2                      PIN_6; Ribonuclease, PIN domain  \n",
       "3            DUF155; Domain of unknown function DUF155  \n",
       "4                     Mtc; Tricarboxylate/iron carrier  \n",
       "..                                                 ...  \n",
       "278  Sod_Cu; Superoxide dismutase, copper/zinc bind...  \n",
       "279  40S_S4_C; 40S ribosomal protein S4, C-terminal...  \n",
       "280            Hydrolase_4; Serine aminopeptidase, S33  \n",
       "281  3Beta_HSD; 3-beta hydroxysteroid dehydrogenase...  \n",
       "284             GTP_cyclohydro2; GTP cyclohydrolase II  \n",
       "\n",
       "[227 rows x 4 columns]"
      ]
     },
     "execution_count": 24,
     "metadata": {},
     "output_type": "execute_result"
    }
   ],
   "source": [
    "df_sl_exclusive=pd.merge(df_sl,df_nsl,how='left',on='domain-number')\n",
    "\n",
    "domains_name=np.unique(data_domains['domain-name'])\n",
    "domains_description=np.unique(data_domains['domain-descrip'])\n",
    "\n",
    "df_sl_exclusive['domain-description']=domains_description[df_sl_exclusive['domain-number']]\n",
    "df_sl_exclusive[pd.isnull(df_sl_exclusive['pca-component_y'])]"
   ]
  },
  {
   "cell_type": "code",
   "execution_count": 25,
   "metadata": {
    "execution": {
     "iopub.execute_input": "2020-07-14T16:33:51.646403Z",
     "iopub.status.busy": "2020-07-14T16:33:51.645834Z",
     "iopub.status.idle": "2020-07-14T16:33:51.649858Z",
     "shell.execute_reply": "2020-07-14T16:33:51.649067Z"
    }
   },
   "outputs": [
    {
     "name": "stdout",
     "output_type": "stream",
     "text": [
      "The number of exclusive domains from SL pairs, after PCA, is =  285 out of 556 so the 51.2589928057554 %\n"
     ]
    }
   ],
   "source": [
    "print('The number of exclusive domains from SL pairs, after PCA, is = ',len(df_sl_exclusive), 'out of', len(df_sl)+len(df_nsl), 'so the',100*len(df_sl_exclusive)/(len(df_sl)+len(df_nsl)),'%')"
   ]
  },
  {
   "cell_type": "code",
   "execution_count": 26,
   "metadata": {
    "execution": {
     "iopub.execute_input": "2020-07-14T16:33:51.675301Z",
     "iopub.status.busy": "2020-07-14T16:33:51.674589Z",
     "iopub.status.idle": "2020-07-14T16:33:51.683530Z",
     "shell.execute_reply": "2020-07-14T16:33:51.682922Z"
    }
   },
   "outputs": [
    {
     "data": {
      "text/html": [
       "<div>\n",
       "<style scoped>\n",
       "    .dataframe tbody tr th:only-of-type {\n",
       "        vertical-align: middle;\n",
       "    }\n",
       "\n",
       "    .dataframe tbody tr th {\n",
       "        vertical-align: top;\n",
       "    }\n",
       "\n",
       "    .dataframe thead th {\n",
       "        text-align: right;\n",
       "    }\n",
       "</style>\n",
       "<table border=\"1\" class=\"dataframe\">\n",
       "  <thead>\n",
       "    <tr style=\"text-align: right;\">\n",
       "      <th></th>\n",
       "      <th>pca-component_x</th>\n",
       "      <th>domain-number</th>\n",
       "      <th>pca-component_y</th>\n",
       "      <th>domain-description</th>\n",
       "    </tr>\n",
       "  </thead>\n",
       "  <tbody>\n",
       "    <tr>\n",
       "      <th>58</th>\n",
       "      <td>NaN</td>\n",
       "      <td>1028</td>\n",
       "      <td>PC0</td>\n",
       "      <td>GatB_Yqey; Asn/Gln amidotransferase</td>\n",
       "    </tr>\n",
       "    <tr>\n",
       "      <th>59</th>\n",
       "      <td>NaN</td>\n",
       "      <td>305</td>\n",
       "      <td>PC1</td>\n",
       "      <td>Brr6_like_C_C; Brl1/Brr6 domain</td>\n",
       "    </tr>\n",
       "    <tr>\n",
       "      <th>60</th>\n",
       "      <td>NaN</td>\n",
       "      <td>340</td>\n",
       "      <td>PC2</td>\n",
       "      <td>CDC73_C; Cell division control protein 73, C-t...</td>\n",
       "    </tr>\n",
       "    <tr>\n",
       "      <th>61</th>\n",
       "      <td>NaN</td>\n",
       "      <td>287</td>\n",
       "      <td>PC3</td>\n",
       "      <td>BUD22; Bud22/Serum response factor-binding pro...</td>\n",
       "    </tr>\n",
       "    <tr>\n",
       "      <th>62</th>\n",
       "      <td>NaN</td>\n",
       "      <td>654</td>\n",
       "      <td>PC4</td>\n",
       "      <td>DUF1729; Domain of unknown function DUF1729</td>\n",
       "    </tr>\n",
       "    <tr>\n",
       "      <th>...</th>\n",
       "      <td>...</td>\n",
       "      <td>...</td>\n",
       "      <td>...</td>\n",
       "      <td>...</td>\n",
       "    </tr>\n",
       "    <tr>\n",
       "      <th>282</th>\n",
       "      <td>NaN</td>\n",
       "      <td>1285</td>\n",
       "      <td>PC275</td>\n",
       "      <td>L51_S25_CI-B8; Ribosomal protein/NADH dehydrog...</td>\n",
       "    </tr>\n",
       "    <tr>\n",
       "      <th>283</th>\n",
       "      <td>NaN</td>\n",
       "      <td>1189</td>\n",
       "      <td>PC276</td>\n",
       "      <td>Hydantoinase_A; Hydantoinase/oxoprolinase</td>\n",
       "    </tr>\n",
       "    <tr>\n",
       "      <th>284</th>\n",
       "      <td>NaN</td>\n",
       "      <td>1237</td>\n",
       "      <td>PC277</td>\n",
       "      <td>Inp1; Inheritance of peroxisomes protein 1</td>\n",
       "    </tr>\n",
       "    <tr>\n",
       "      <th>285</th>\n",
       "      <td>NaN</td>\n",
       "      <td>2916</td>\n",
       "      <td>PC278</td>\n",
       "      <td>fn3_2; Fibronectin type III domain, fungi</td>\n",
       "    </tr>\n",
       "    <tr>\n",
       "      <th>286</th>\n",
       "      <td>NaN</td>\n",
       "      <td>2916</td>\n",
       "      <td>PC279</td>\n",
       "      <td>fn3_2; Fibronectin type III domain, fungi</td>\n",
       "    </tr>\n",
       "  </tbody>\n",
       "</table>\n",
       "<p>229 rows × 4 columns</p>\n",
       "</div>"
      ],
      "text/plain": [
       "    pca-component_x  domain-number pca-component_y  \\\n",
       "58              NaN           1028             PC0   \n",
       "59              NaN            305             PC1   \n",
       "60              NaN            340             PC2   \n",
       "61              NaN            287             PC3   \n",
       "62              NaN            654             PC4   \n",
       "..              ...            ...             ...   \n",
       "282             NaN           1285           PC275   \n",
       "283             NaN           1189           PC276   \n",
       "284             NaN           1237           PC277   \n",
       "285             NaN           2916           PC278   \n",
       "286             NaN           2916           PC279   \n",
       "\n",
       "                                    domain-description  \n",
       "58                 GatB_Yqey; Asn/Gln amidotransferase  \n",
       "59                     Brr6_like_C_C; Brl1/Brr6 domain  \n",
       "60   CDC73_C; Cell division control protein 73, C-t...  \n",
       "61   BUD22; Bud22/Serum response factor-binding pro...  \n",
       "62         DUF1729; Domain of unknown function DUF1729  \n",
       "..                                                 ...  \n",
       "282  L51_S25_CI-B8; Ribosomal protein/NADH dehydrog...  \n",
       "283          Hydantoinase_A; Hydantoinase/oxoprolinase  \n",
       "284         Inp1; Inheritance of peroxisomes protein 1  \n",
       "285          fn3_2; Fibronectin type III domain, fungi  \n",
       "286          fn3_2; Fibronectin type III domain, fungi  \n",
       "\n",
       "[229 rows x 4 columns]"
      ]
     },
     "execution_count": 26,
     "metadata": {},
     "output_type": "execute_result"
    }
   ],
   "source": [
    "df_nsl_exclusive=pd.merge(df_sl,df_nsl,how='right',on='domain-number')\n",
    "\n",
    "domains_name=np.unique(data_domains['domain-name'])\n",
    "domains_description=np.unique(data_domains['domain-descrip'])\n",
    "\n",
    "df_nsl_exclusive['domain-description']=domains_description[df_nsl_exclusive['domain-number']]\n",
    "df_nsl_exclusive[pd.isnull(df_nsl_exclusive['pca-component_x'])]"
   ]
  },
  {
   "cell_type": "code",
   "execution_count": 27,
   "metadata": {
    "execution": {
     "iopub.execute_input": "2020-07-14T16:33:51.688471Z",
     "iopub.status.busy": "2020-07-14T16:33:51.687839Z",
     "iopub.status.idle": "2020-07-14T16:33:51.691953Z",
     "shell.execute_reply": "2020-07-14T16:33:51.692407Z"
    }
   },
   "outputs": [
    {
     "name": "stdout",
     "output_type": "stream",
     "text": [
      "The number of exclusive domains from non SL pairs, after PCA, is =  287 out of 556 so the 51.618705035971225 %\n"
     ]
    }
   ],
   "source": [
    "print('The number of exclusive domains from non SL pairs, after PCA, is = ',len(df_nsl_exclusive), 'out of', len(df_sl)+len(df_nsl), 'so the',100*len(df_nsl_exclusive)/(len(df_sl)+len(df_nsl)),'%')"
   ]
  },
  {
   "cell_type": "markdown",
   "metadata": {},
   "source": [
    "## Let see to the domains-number that get repeated after the PCA analysis , and selecting the most explanatory feature by its explained variance."
   ]
  },
  {
   "cell_type": "code",
   "execution_count": 28,
   "metadata": {
    "execution": {
     "iopub.execute_input": "2020-07-14T16:33:51.714088Z",
     "iopub.status.busy": "2020-07-14T16:33:51.710399Z",
     "iopub.status.idle": "2020-07-14T16:33:51.716404Z",
     "shell.execute_reply": "2020-07-14T16:33:51.715914Z"
    }
   },
   "outputs": [],
   "source": [
    "duplicated_features_sl=df_sl[df_sl.iloc[:,1].duplicated()]\n",
    "repeated_features_sl=pd.DataFrame()\n",
    "\n",
    "domains_name=np.unique(data_domains['domain-name'])\n",
    "domains_description=np.unique(data_domains['domain-descrip'])\n",
    "\n",
    "repeated_features_sl['domain-name']=domains_name[duplicated_features_sl.iloc[:,1]] \n",
    "repeated_features_sl['domain-description']=domains_description[duplicated_features_sl.iloc[:,1]]\n",
    "\n",
    "duplicated_features_nsl=df_nsl[df_nsl.iloc[:,1].duplicated()]\n",
    "repeated_features_nsl=pd.DataFrame()\n",
    "\n",
    "repeated_features_nsl['domain-name']=domains_name[duplicated_features_nsl.iloc[:,1]] \n",
    "repeated_features_nsl['domain-description']=domains_description[duplicated_features_nsl.iloc[:,1]]"
   ]
  },
  {
   "cell_type": "code",
   "execution_count": 29,
   "metadata": {
    "execution": {
     "iopub.execute_input": "2020-07-14T16:33:51.727725Z",
     "iopub.status.busy": "2020-07-14T16:33:51.726657Z",
     "iopub.status.idle": "2020-07-14T16:33:51.729604Z",
     "shell.execute_reply": "2020-07-14T16:33:51.730092Z"
    }
   },
   "outputs": [
    {
     "data": {
      "text/plain": [
       "((46, 4), (285, 4))"
      ]
     },
     "execution_count": 29,
     "metadata": {},
     "output_type": "execute_result"
    }
   ],
   "source": [
    "only_sl_pd=pd.merge(repeated_features_sl,repeated_features_nsl,how='left',on=['domain-name'])\n",
    "data_only_sl = only_sl_pd[pd.isnull(only_sl_pd['domain-description_y'])]\n",
    "data_only_sl['domain-description']=data_only_sl['domain-description_x']\n",
    "data_only_sl.shape,df_sl_exclusive.shape"
   ]
  },
  {
   "cell_type": "code",
   "execution_count": 30,
   "metadata": {
    "execution": {
     "iopub.execute_input": "2020-07-14T16:33:51.749317Z",
     "iopub.status.busy": "2020-07-14T16:33:51.748687Z",
     "iopub.status.idle": "2020-07-14T16:33:51.751844Z",
     "shell.execute_reply": "2020-07-14T16:33:51.752448Z"
    }
   },
   "outputs": [
    {
     "data": {
      "text/html": [
       "<div>\n",
       "<style scoped>\n",
       "    .dataframe tbody tr th:only-of-type {\n",
       "        vertical-align: middle;\n",
       "    }\n",
       "\n",
       "    .dataframe tbody tr th {\n",
       "        vertical-align: top;\n",
       "    }\n",
       "\n",
       "    .dataframe thead th {\n",
       "        text-align: right;\n",
       "    }\n",
       "</style>\n",
       "<table border=\"1\" class=\"dataframe\">\n",
       "  <thead>\n",
       "    <tr style=\"text-align: right;\">\n",
       "      <th></th>\n",
       "      <th>domain-name</th>\n",
       "      <th>domain-description_x</th>\n",
       "      <th>domain-description_y</th>\n",
       "    </tr>\n",
       "  </thead>\n",
       "  <tbody>\n",
       "    <tr>\n",
       "      <th>0</th>\n",
       "      <td>PF01028</td>\n",
       "      <td>NaN</td>\n",
       "      <td>Chitin_synth_1N; Chitin synthase N-terminal</td>\n",
       "    </tr>\n",
       "    <tr>\n",
       "      <th>1</th>\n",
       "      <td>PF12157</td>\n",
       "      <td>NaN</td>\n",
       "      <td>Sec7; Sec7 domain</td>\n",
       "    </tr>\n",
       "    <tr>\n",
       "      <th>2</th>\n",
       "      <td>PF01336</td>\n",
       "      <td>NaN</td>\n",
       "      <td>DLIC; Dynein family light intermediate chain</td>\n",
       "    </tr>\n",
       "    <tr>\n",
       "      <th>3</th>\n",
       "      <td>PF05397</td>\n",
       "      <td>NaN</td>\n",
       "      <td>NAP; Nucleosome assembly protein (NAP)</td>\n",
       "    </tr>\n",
       "    <tr>\n",
       "      <th>4</th>\n",
       "      <td>PF02463</td>\n",
       "      <td>NaN</td>\n",
       "      <td>FSH1; Serine hydrolase FSH</td>\n",
       "    </tr>\n",
       "    <tr>\n",
       "      <th>5</th>\n",
       "      <td>PF07970</td>\n",
       "      <td>NaN</td>\n",
       "      <td>PMT_4TMC; Protein O-mannosyl-transferase, C-te...</td>\n",
       "    </tr>\n",
       "    <tr>\n",
       "      <th>6</th>\n",
       "      <td>PF00443</td>\n",
       "      <td>NaN</td>\n",
       "      <td>Anticodon_1; Methionyl/Valyl/Leucyl/Isoleucyl-...</td>\n",
       "    </tr>\n",
       "    <tr>\n",
       "      <th>7</th>\n",
       "      <td>PF11522</td>\n",
       "      <td>NaN</td>\n",
       "      <td>SQS_PSY; Squalene/phytoene synthase</td>\n",
       "    </tr>\n",
       "    <tr>\n",
       "      <th>8</th>\n",
       "      <td>PF01131</td>\n",
       "      <td>NaN</td>\n",
       "      <td>Cohesin_load; Chromatid cohesion factor MAU2</td>\n",
       "    </tr>\n",
       "    <tr>\n",
       "      <th>9</th>\n",
       "      <td>PF01398</td>\n",
       "      <td>NaN</td>\n",
       "      <td>DNA_pol_A_exo1; 3&amp;apos;-5&amp;apos; exonuclease do...</td>\n",
       "    </tr>\n",
       "    <tr>\n",
       "      <th>10</th>\n",
       "      <td>PF03372</td>\n",
       "      <td>NaN</td>\n",
       "      <td>HCO3_cotransp; Bicarbonate transporter, C-term...</td>\n",
       "    </tr>\n",
       "    <tr>\n",
       "      <th>11</th>\n",
       "      <td>PF01909</td>\n",
       "      <td>NaN</td>\n",
       "      <td>Dynein_light; Dynein light chain, type 1/2</td>\n",
       "    </tr>\n",
       "    <tr>\n",
       "      <th>12</th>\n",
       "      <td>PF00170</td>\n",
       "      <td>NaN</td>\n",
       "      <td>AMP-binding_C; AMP-binding enzyme, C-terminal ...</td>\n",
       "    </tr>\n",
       "    <tr>\n",
       "      <th>13</th>\n",
       "      <td>PF01644</td>\n",
       "      <td>NaN</td>\n",
       "      <td>DUF3402; Protein of unknown function DUF3402</td>\n",
       "    </tr>\n",
       "    <tr>\n",
       "      <th>14</th>\n",
       "      <td>PF04051</td>\n",
       "      <td>NaN</td>\n",
       "      <td>JAB; JAB1/MPN/MOV34 metalloenzyme domain</td>\n",
       "    </tr>\n",
       "    <tr>\n",
       "      <th>15</th>\n",
       "      <td>PF13921</td>\n",
       "      <td>NaN</td>\n",
       "      <td>Trypsin_2</td>\n",
       "    </tr>\n",
       "    <tr>\n",
       "      <th>16</th>\n",
       "      <td>PF07064</td>\n",
       "      <td>NaN</td>\n",
       "      <td>PAP_central; Poly(A) polymerase, central domain</td>\n",
       "    </tr>\n",
       "    <tr>\n",
       "      <th>17</th>\n",
       "      <td>PF04478</td>\n",
       "      <td>NaN</td>\n",
       "      <td>MCM_OB; MCM OB domain</td>\n",
       "    </tr>\n",
       "    <tr>\n",
       "      <th>18</th>\n",
       "      <td>PF07904</td>\n",
       "      <td>NaN</td>\n",
       "      <td>PINIT; PINIT domain</td>\n",
       "    </tr>\n",
       "    <tr>\n",
       "      <th>19</th>\n",
       "      <td>PF00787</td>\n",
       "      <td>NaN</td>\n",
       "      <td>COP-gamma_platf; Coatomer, gamma subunit, appe...</td>\n",
       "    </tr>\n",
       "    <tr>\n",
       "      <th>20</th>\n",
       "      <td>PF12341</td>\n",
       "      <td>NaN</td>\n",
       "      <td>Sin_N; DNA-directed RNA polymerase III subunit...</td>\n",
       "    </tr>\n",
       "    <tr>\n",
       "      <th>21</th>\n",
       "      <td>PF16891</td>\n",
       "      <td>NaN</td>\n",
       "      <td>tRNA-synt_1c; Glutamyl/glutaminyl-tRNA synthet...</td>\n",
       "    </tr>\n",
       "    <tr>\n",
       "      <th>22</th>\n",
       "      <td>PF09468</td>\n",
       "      <td>NaN</td>\n",
       "      <td>Rhomboid; Peptidase S54, rhomboid domain</td>\n",
       "    </tr>\n",
       "    <tr>\n",
       "      <th>23</th>\n",
       "      <td>PF05637</td>\n",
       "      <td>NaN</td>\n",
       "      <td>NMT1; SsuA/THI5-like</td>\n",
       "    </tr>\n",
       "    <tr>\n",
       "      <th>24</th>\n",
       "      <td>PF04420</td>\n",
       "      <td>NaN</td>\n",
       "      <td>MAM33; Mitochondrial glycoprotein</td>\n",
       "    </tr>\n",
       "    <tr>\n",
       "      <th>25</th>\n",
       "      <td>PF13519</td>\n",
       "      <td>NaN</td>\n",
       "      <td>Telomere_reg-2; Telomere length regulation pro...</td>\n",
       "    </tr>\n",
       "    <tr>\n",
       "      <th>26</th>\n",
       "      <td>PF12271</td>\n",
       "      <td>NaN</td>\n",
       "      <td>Sgf11; SAGA complex, Sgf11 subunit</td>\n",
       "    </tr>\n",
       "    <tr>\n",
       "      <th>27</th>\n",
       "      <td>PF01704</td>\n",
       "      <td>NaN</td>\n",
       "      <td>DUF3835; Domain of unknown function DUF3835</td>\n",
       "    </tr>\n",
       "    <tr>\n",
       "      <th>28</th>\n",
       "      <td>PF01704</td>\n",
       "      <td>NaN</td>\n",
       "      <td>DUF3835; Domain of unknown function DUF3835</td>\n",
       "    </tr>\n",
       "    <tr>\n",
       "      <th>29</th>\n",
       "      <td>PF06437</td>\n",
       "      <td>NaN</td>\n",
       "      <td>OMPdecase; Orotidine 5&amp;apos;-phosphate decarbo...</td>\n",
       "    </tr>\n",
       "    <tr>\n",
       "      <th>30</th>\n",
       "      <td>PF06437</td>\n",
       "      <td>NaN</td>\n",
       "      <td>OMPdecase; Orotidine 5&amp;apos;-phosphate decarbo...</td>\n",
       "    </tr>\n",
       "    <tr>\n",
       "      <th>31</th>\n",
       "      <td>PF00505</td>\n",
       "      <td>NaN</td>\n",
       "      <td>B3_4; B3/B4 tRNA-binding domain</td>\n",
       "    </tr>\n",
       "    <tr>\n",
       "      <th>32</th>\n",
       "      <td>PF00505</td>\n",
       "      <td>NaN</td>\n",
       "      <td>B3_4; B3/B4 tRNA-binding domain</td>\n",
       "    </tr>\n",
       "    <tr>\n",
       "      <th>33</th>\n",
       "      <td>PF01459</td>\n",
       "      <td>NaN</td>\n",
       "      <td>DUF1077; Protein of unknown function DUF1077, ...</td>\n",
       "    </tr>\n",
       "    <tr>\n",
       "      <th>34</th>\n",
       "      <td>PF01459</td>\n",
       "      <td>NaN</td>\n",
       "      <td>DUF1077; Protein of unknown function DUF1077, ...</td>\n",
       "    </tr>\n",
       "    <tr>\n",
       "      <th>35</th>\n",
       "      <td>PF00831</td>\n",
       "      <td>NaN</td>\n",
       "      <td>COX7a</td>\n",
       "    </tr>\n",
       "    <tr>\n",
       "      <th>36</th>\n",
       "      <td>PF00237</td>\n",
       "      <td>NaN</td>\n",
       "      <td>ATG2_CAD; Autophagy-related protein 2 CAD motif</td>\n",
       "    </tr>\n",
       "    <tr>\n",
       "      <th>37</th>\n",
       "      <td>PF05383</td>\n",
       "      <td>NaN</td>\n",
       "      <td>NAD_binding_7; Sirohaem synthase, N-terminal</td>\n",
       "    </tr>\n",
       "    <tr>\n",
       "      <th>38</th>\n",
       "      <td>PF03803</td>\n",
       "      <td>NaN</td>\n",
       "      <td>His_Phos_1; Histidine phosphatase superfamily,...</td>\n",
       "    </tr>\n",
       "    <tr>\n",
       "      <th>39</th>\n",
       "      <td>PF03803</td>\n",
       "      <td>NaN</td>\n",
       "      <td>His_Phos_1; Histidine phosphatase superfamily,...</td>\n",
       "    </tr>\n",
       "    <tr>\n",
       "      <th>40</th>\n",
       "      <td>PF09439</td>\n",
       "      <td>NaN</td>\n",
       "      <td>Rep_fac_C; Replication factor C, C-terminal</td>\n",
       "    </tr>\n",
       "    <tr>\n",
       "      <th>41</th>\n",
       "      <td>PF01176</td>\n",
       "      <td>NaN</td>\n",
       "      <td>Cut8; Tethering factor for nuclear proteasome ...</td>\n",
       "    </tr>\n",
       "    <tr>\n",
       "      <th>42</th>\n",
       "      <td>PF13824</td>\n",
       "      <td>NaN</td>\n",
       "      <td>Topo_C_assoc; Topoisomerase I C-terminal domain</td>\n",
       "    </tr>\n",
       "    <tr>\n",
       "      <th>43</th>\n",
       "      <td>PF11701</td>\n",
       "      <td>NaN</td>\n",
       "      <td>SSB; Primosome PriB/single-strand DNA-binding</td>\n",
       "    </tr>\n",
       "    <tr>\n",
       "      <th>44</th>\n",
       "      <td>PF16796</td>\n",
       "      <td>NaN</td>\n",
       "      <td>fn3_2; Fibronectin type III domain, fungi</td>\n",
       "    </tr>\n",
       "  </tbody>\n",
       "</table>\n",
       "</div>"
      ],
      "text/plain": [
       "   domain-name domain-description_x  \\\n",
       "0      PF01028                  NaN   \n",
       "1      PF12157                  NaN   \n",
       "2      PF01336                  NaN   \n",
       "3      PF05397                  NaN   \n",
       "4      PF02463                  NaN   \n",
       "5      PF07970                  NaN   \n",
       "6      PF00443                  NaN   \n",
       "7      PF11522                  NaN   \n",
       "8      PF01131                  NaN   \n",
       "9      PF01398                  NaN   \n",
       "10     PF03372                  NaN   \n",
       "11     PF01909                  NaN   \n",
       "12     PF00170                  NaN   \n",
       "13     PF01644                  NaN   \n",
       "14     PF04051                  NaN   \n",
       "15     PF13921                  NaN   \n",
       "16     PF07064                  NaN   \n",
       "17     PF04478                  NaN   \n",
       "18     PF07904                  NaN   \n",
       "19     PF00787                  NaN   \n",
       "20     PF12341                  NaN   \n",
       "21     PF16891                  NaN   \n",
       "22     PF09468                  NaN   \n",
       "23     PF05637                  NaN   \n",
       "24     PF04420                  NaN   \n",
       "25     PF13519                  NaN   \n",
       "26     PF12271                  NaN   \n",
       "27     PF01704                  NaN   \n",
       "28     PF01704                  NaN   \n",
       "29     PF06437                  NaN   \n",
       "30     PF06437                  NaN   \n",
       "31     PF00505                  NaN   \n",
       "32     PF00505                  NaN   \n",
       "33     PF01459                  NaN   \n",
       "34     PF01459                  NaN   \n",
       "35     PF00831                  NaN   \n",
       "36     PF00237                  NaN   \n",
       "37     PF05383                  NaN   \n",
       "38     PF03803                  NaN   \n",
       "39     PF03803                  NaN   \n",
       "40     PF09439                  NaN   \n",
       "41     PF01176                  NaN   \n",
       "42     PF13824                  NaN   \n",
       "43     PF11701                  NaN   \n",
       "44     PF16796                  NaN   \n",
       "\n",
       "                                 domain-description_y  \n",
       "0         Chitin_synth_1N; Chitin synthase N-terminal  \n",
       "1                                   Sec7; Sec7 domain  \n",
       "2        DLIC; Dynein family light intermediate chain  \n",
       "3              NAP; Nucleosome assembly protein (NAP)  \n",
       "4                          FSH1; Serine hydrolase FSH  \n",
       "5   PMT_4TMC; Protein O-mannosyl-transferase, C-te...  \n",
       "6   Anticodon_1; Methionyl/Valyl/Leucyl/Isoleucyl-...  \n",
       "7                 SQS_PSY; Squalene/phytoene synthase  \n",
       "8        Cohesin_load; Chromatid cohesion factor MAU2  \n",
       "9   DNA_pol_A_exo1; 3&apos;-5&apos; exonuclease do...  \n",
       "10  HCO3_cotransp; Bicarbonate transporter, C-term...  \n",
       "11         Dynein_light; Dynein light chain, type 1/2  \n",
       "12  AMP-binding_C; AMP-binding enzyme, C-terminal ...  \n",
       "13       DUF3402; Protein of unknown function DUF3402  \n",
       "14           JAB; JAB1/MPN/MOV34 metalloenzyme domain  \n",
       "15                                          Trypsin_2  \n",
       "16    PAP_central; Poly(A) polymerase, central domain  \n",
       "17                              MCM_OB; MCM OB domain  \n",
       "18                                PINIT; PINIT domain  \n",
       "19  COP-gamma_platf; Coatomer, gamma subunit, appe...  \n",
       "20  Sin_N; DNA-directed RNA polymerase III subunit...  \n",
       "21  tRNA-synt_1c; Glutamyl/glutaminyl-tRNA synthet...  \n",
       "22           Rhomboid; Peptidase S54, rhomboid domain  \n",
       "23                               NMT1; SsuA/THI5-like  \n",
       "24                  MAM33; Mitochondrial glycoprotein  \n",
       "25  Telomere_reg-2; Telomere length regulation pro...  \n",
       "26                 Sgf11; SAGA complex, Sgf11 subunit  \n",
       "27        DUF3835; Domain of unknown function DUF3835  \n",
       "28        DUF3835; Domain of unknown function DUF3835  \n",
       "29  OMPdecase; Orotidine 5&apos;-phosphate decarbo...  \n",
       "30  OMPdecase; Orotidine 5&apos;-phosphate decarbo...  \n",
       "31                    B3_4; B3/B4 tRNA-binding domain  \n",
       "32                    B3_4; B3/B4 tRNA-binding domain  \n",
       "33  DUF1077; Protein of unknown function DUF1077, ...  \n",
       "34  DUF1077; Protein of unknown function DUF1077, ...  \n",
       "35                                              COX7a  \n",
       "36    ATG2_CAD; Autophagy-related protein 2 CAD motif  \n",
       "37       NAD_binding_7; Sirohaem synthase, N-terminal  \n",
       "38  His_Phos_1; Histidine phosphatase superfamily,...  \n",
       "39  His_Phos_1; Histidine phosphatase superfamily,...  \n",
       "40        Rep_fac_C; Replication factor C, C-terminal  \n",
       "41  Cut8; Tethering factor for nuclear proteasome ...  \n",
       "42    Topo_C_assoc; Topoisomerase I C-terminal domain  \n",
       "43      SSB; Primosome PriB/single-strand DNA-binding  \n",
       "44          fn3_2; Fibronectin type III domain, fungi  "
      ]
     },
     "execution_count": 30,
     "metadata": {},
     "output_type": "execute_result"
    }
   ],
   "source": [
    "only_nsl_pd=pd.merge(repeated_features_sl,repeated_features_nsl,how='right',on=['domain-name'])\n",
    "data_only_nsl = only_nsl_pd[pd.isnull(only_nsl_pd['domain-description_x'])]\n",
    "data_only_nsl"
   ]
  },
  {
   "cell_type": "code",
   "execution_count": 31,
   "metadata": {
    "execution": {
     "iopub.execute_input": "2020-07-14T16:33:51.762998Z",
     "iopub.status.busy": "2020-07-14T16:33:51.762421Z",
     "iopub.status.idle": "2020-07-14T16:33:51.764998Z",
     "shell.execute_reply": "2020-07-14T16:33:51.765466Z"
    }
   },
   "outputs": [
    {
     "data": {
      "text/html": [
       "<div>\n",
       "<style scoped>\n",
       "    .dataframe tbody tr th:only-of-type {\n",
       "        vertical-align: middle;\n",
       "    }\n",
       "\n",
       "    .dataframe tbody tr th {\n",
       "        vertical-align: top;\n",
       "    }\n",
       "\n",
       "    .dataframe thead th {\n",
       "        text-align: right;\n",
       "    }\n",
       "</style>\n",
       "<table border=\"1\" class=\"dataframe\">\n",
       "  <thead>\n",
       "    <tr style=\"text-align: right;\">\n",
       "      <th></th>\n",
       "      <th>domain-name</th>\n",
       "      <th>domain-description_x</th>\n",
       "      <th>domain-description_y</th>\n",
       "    </tr>\n",
       "  </thead>\n",
       "  <tbody>\n",
       "  </tbody>\n",
       "</table>\n",
       "</div>"
      ],
      "text/plain": [
       "Empty DataFrame\n",
       "Columns: [domain-name, domain-description_x, domain-description_y]\n",
       "Index: []"
      ]
     },
     "execution_count": 31,
     "metadata": {},
     "output_type": "execute_result"
    }
   ],
   "source": [
    "shared_domains_pd=pd.merge(repeated_features_sl,repeated_features_nsl,how='inner',on=['domain-name'])\n",
    "shared_domains_pd\n"
   ]
  },
  {
   "cell_type": "code",
   "execution_count": 32,
   "metadata": {
    "execution": {
     "iopub.execute_input": "2020-07-14T16:33:51.780010Z",
     "iopub.status.busy": "2020-07-14T16:33:51.779466Z",
     "iopub.status.idle": "2020-07-14T16:33:53.473000Z",
     "shell.execute_reply": "2020-07-14T16:33:53.473443Z"
    }
   },
   "outputs": [
    {
     "data": {
      "text/plain": [
       "(0.0, 0.2)"
      ]
     },
     "execution_count": 32,
     "metadata": {},
     "output_type": "execute_result"
    },
    {
     "data": {
      "image/png": "[encoded data removed]",
      "text/plain": [
       "<Figure size 432x288 with 1 Axes>"
      ]
     },
     "metadata": {
      "filenames": {
       "image/png": "/home/runner/work/jupyter-book/jupyter-book/mini_book/docs/_build/jupyter_execute/prot_domains2lethality-FEATURES-POSTPROCESSING_47_1.png"
      },
      "needs_background": "light"
     },
     "output_type": "display_data"
    }
   ],
   "source": [
    "a_sl=x_sl.iloc[:,np.sort(df_sl.iloc[:,1])]\n",
    "a_sl.describe().loc['mean'].hist(bins=8),\n",
    "a_sl.describe().loc['std'].hist(bins=8,alpha=0.4)\n",
    "plt.xlim([0,0.2])"
   ]
  },
  {
   "cell_type": "code",
   "execution_count": 33,
   "metadata": {
    "execution": {
     "iopub.execute_input": "2020-07-14T16:33:53.484679Z",
     "iopub.status.busy": "2020-07-14T16:33:53.482709Z",
     "iopub.status.idle": "2020-07-14T16:33:55.289775Z",
     "shell.execute_reply": "2020-07-14T16:33:55.289271Z"
    }
   },
   "outputs": [
    {
     "data": {
      "text/plain": [
       "(0.0, 0.2)"
      ]
     },
     "execution_count": 33,
     "metadata": {},
     "output_type": "execute_result"
    },
    {
     "data": {
      "image/png": "[encoded data removed]",
      "text/plain": [
       "<Figure size 432x288 with 1 Axes>"
      ]
     },
     "metadata": {
      "filenames": {
       "image/png": "/home/runner/work/jupyter-book/jupyter-book/mini_book/docs/_build/jupyter_execute/prot_domains2lethality-FEATURES-POSTPROCESSING_48_1.png"
      },
      "needs_background": "light"
     },
     "output_type": "display_data"
    }
   ],
   "source": [
    "a_nsl=x_nsl.iloc[:,np.sort(df_nsl.iloc[:,1])]\n",
    "a_nsl.describe().loc['mean'].hist(bins=8),\n",
    "a_nsl.describe().loc['std'].hist(bins=8,alpha=0.4)\n",
    "plt.xlim([0,0.2])"
   ]
  },
  {
   "cell_type": "markdown",
   "metadata": {},
   "source": [
    "### Proof of concept with *BEM1*\n",
    "\n",
    "- Gather the domains of SL and nSL pairs from BEM1\n",
    "- Check if the domains for the SL and nSL pairs are inside the most important domains after PCA."
   ]
  },
  {
   "cell_type": "code",
   "execution_count": 34,
   "metadata": {
    "execution": {
     "iopub.execute_input": "2020-07-14T16:33:55.297683Z",
     "iopub.status.busy": "2020-07-14T16:33:55.297081Z",
     "iopub.status.idle": "2020-07-14T16:33:55.301071Z",
     "shell.execute_reply": "2020-07-14T16:33:55.300319Z"
    }
   },
   "outputs": [],
   "source": [
    "domains_bem1=data_domains[data_domains['name']=='BEM1']['domain-descrip']\n",
    "sl_bem1=data_sl[data_sl['gene-query-name']=='BEM1']['gene-target-name']"
   ]
  },
  {
   "cell_type": "code",
   "execution_count": 35,
   "metadata": {
    "execution": {
     "iopub.execute_input": "2020-07-14T16:33:55.305673Z",
     "iopub.status.busy": "2020-07-14T16:33:55.304993Z",
     "iopub.status.idle": "2020-07-14T16:33:55.310844Z",
     "shell.execute_reply": "2020-07-14T16:33:55.310409Z"
    }
   },
   "outputs": [
    {
     "data": {
      "text/plain": [
       "2846      BEM2\n",
       "2847     CDC24\n",
       "5004      MSB1\n",
       "13777     SMI1\n",
       "13778     BNI1\n",
       "13779     BEM2\n",
       "14385     SKN7\n",
       "Name: gene-target-name, dtype: object"
      ]
     },
     "execution_count": 35,
     "metadata": {},
     "output_type": "execute_result"
    }
   ],
   "source": [
    "sl_bem1"
   ]
  },
  {
   "cell_type": "code",
   "execution_count": 36,
   "metadata": {
    "execution": {
     "iopub.execute_input": "2020-07-14T16:33:55.325014Z",
     "iopub.status.busy": "2020-07-14T16:33:55.324511Z",
     "iopub.status.idle": "2020-07-14T16:33:55.329561Z",
     "shell.execute_reply": "2020-07-14T16:33:55.329132Z"
    }
   },
   "outputs": [
    {
     "data": {
      "text/html": [
       "<div>\n",
       "<style scoped>\n",
       "    .dataframe tbody tr th:only-of-type {\n",
       "        vertical-align: middle;\n",
       "    }\n",
       "\n",
       "    .dataframe tbody tr th {\n",
       "        vertical-align: top;\n",
       "    }\n",
       "\n",
       "    .dataframe thead th {\n",
       "        text-align: right;\n",
       "    }\n",
       "</style>\n",
       "<table border=\"1\" class=\"dataframe\">\n",
       "  <thead>\n",
       "    <tr style=\"text-align: right;\">\n",
       "      <th></th>\n",
       "      <th>gene-query</th>\n",
       "      <th>gene-target</th>\n",
       "      <th>gene-query-name</th>\n",
       "      <th>gene-target-name</th>\n",
       "      <th>gene-query-description</th>\n",
       "      <th>gene-target-description</th>\n",
       "      <th>interaction-type</th>\n",
       "      <th>paper-source</th>\n",
       "    </tr>\n",
       "  </thead>\n",
       "  <tbody>\n",
       "    <tr>\n",
       "      <th>2846</th>\n",
       "      <td>YBR200W</td>\n",
       "      <td>YER155C</td>\n",
       "      <td>BEM1</td>\n",
       "      <td>BEM2</td>\n",
       "      <td>SRO1|phosphatidylinositol-3-phosphate-binding ...</td>\n",
       "      <td>IPL2|SUP9|TSL1|L000000168</td>\n",
       "      <td>Synthetic Lethality</td>\n",
       "      <td>Peterson J (1994)</td>\n",
       "    </tr>\n",
       "    <tr>\n",
       "      <th>2847</th>\n",
       "      <td>YBR200W</td>\n",
       "      <td>YAL041W</td>\n",
       "      <td>BEM1</td>\n",
       "      <td>CDC24</td>\n",
       "      <td>SRO1|phosphatidylinositol-3-phosphate-binding ...</td>\n",
       "      <td>CLS4|Rho family guanine nucleotide exchange fa...</td>\n",
       "      <td>Synthetic Lethality</td>\n",
       "      <td>Peterson J (1994)</td>\n",
       "    </tr>\n",
       "    <tr>\n",
       "      <th>5004</th>\n",
       "      <td>YBR200W</td>\n",
       "      <td>YOR188W</td>\n",
       "      <td>BEM1</td>\n",
       "      <td>MSB1</td>\n",
       "      <td>SRO1|phosphatidylinositol-3-phosphate-binding ...</td>\n",
       "      <td>L000001184</td>\n",
       "      <td>Synthetic Lethality</td>\n",
       "      <td>Bender A (1991)</td>\n",
       "    </tr>\n",
       "    <tr>\n",
       "      <th>13777</th>\n",
       "      <td>YBR200W</td>\n",
       "      <td>YGR229C</td>\n",
       "      <td>BEM1</td>\n",
       "      <td>SMI1</td>\n",
       "      <td>SRO1|phosphatidylinositol-3-phosphate-binding ...</td>\n",
       "      <td>KNR4|L000000909</td>\n",
       "      <td>Synthetic Lethality</td>\n",
       "      <td>Gorelik M (2011)</td>\n",
       "    </tr>\n",
       "    <tr>\n",
       "      <th>13778</th>\n",
       "      <td>YBR200W</td>\n",
       "      <td>YNL271C</td>\n",
       "      <td>BEM1</td>\n",
       "      <td>BNI1</td>\n",
       "      <td>SRO1|phosphatidylinositol-3-phosphate-binding ...</td>\n",
       "      <td>PPF3|SHE5|formin BNI1|L000000190</td>\n",
       "      <td>Synthetic Lethality</td>\n",
       "      <td>Gorelik M (2011)</td>\n",
       "    </tr>\n",
       "    <tr>\n",
       "      <th>13779</th>\n",
       "      <td>YBR200W</td>\n",
       "      <td>YER155C</td>\n",
       "      <td>BEM1</td>\n",
       "      <td>BEM2</td>\n",
       "      <td>SRO1|phosphatidylinositol-3-phosphate-binding ...</td>\n",
       "      <td>IPL2|SUP9|TSL1|L000000168</td>\n",
       "      <td>Synthetic Lethality</td>\n",
       "      <td>Gorelik M (2011)</td>\n",
       "    </tr>\n",
       "    <tr>\n",
       "      <th>14385</th>\n",
       "      <td>YBR200W</td>\n",
       "      <td>YHR206W</td>\n",
       "      <td>BEM1</td>\n",
       "      <td>SKN7</td>\n",
       "      <td>SRO1|phosphatidylinositol-3-phosphate-binding ...</td>\n",
       "      <td>BRY1|POS9|kinase-regulated stress-responsive t...</td>\n",
       "      <td>Dosage Lethality</td>\n",
       "      <td>Bouquin N (1999)</td>\n",
       "    </tr>\n",
       "  </tbody>\n",
       "</table>\n",
       "</div>"
      ],
      "text/plain": [
       "      gene-query gene-target gene-query-name gene-target-name  \\\n",
       "2846     YBR200W     YER155C            BEM1             BEM2   \n",
       "2847     YBR200W     YAL041W            BEM1            CDC24   \n",
       "5004     YBR200W     YOR188W            BEM1             MSB1   \n",
       "13777    YBR200W     YGR229C            BEM1             SMI1   \n",
       "13778    YBR200W     YNL271C            BEM1             BNI1   \n",
       "13779    YBR200W     YER155C            BEM1             BEM2   \n",
       "14385    YBR200W     YHR206W            BEM1             SKN7   \n",
       "\n",
       "                                  gene-query-description  \\\n",
       "2846   SRO1|phosphatidylinositol-3-phosphate-binding ...   \n",
       "2847   SRO1|phosphatidylinositol-3-phosphate-binding ...   \n",
       "5004   SRO1|phosphatidylinositol-3-phosphate-binding ...   \n",
       "13777  SRO1|phosphatidylinositol-3-phosphate-binding ...   \n",
       "13778  SRO1|phosphatidylinositol-3-phosphate-binding ...   \n",
       "13779  SRO1|phosphatidylinositol-3-phosphate-binding ...   \n",
       "14385  SRO1|phosphatidylinositol-3-phosphate-binding ...   \n",
       "\n",
       "                                 gene-target-description     interaction-type  \\\n",
       "2846                           IPL2|SUP9|TSL1|L000000168  Synthetic Lethality   \n",
       "2847   CLS4|Rho family guanine nucleotide exchange fa...  Synthetic Lethality   \n",
       "5004                                          L000001184  Synthetic Lethality   \n",
       "13777                                    KNR4|L000000909  Synthetic Lethality   \n",
       "13778                   PPF3|SHE5|formin BNI1|L000000190  Synthetic Lethality   \n",
       "13779                          IPL2|SUP9|TSL1|L000000168  Synthetic Lethality   \n",
       "14385  BRY1|POS9|kinase-regulated stress-responsive t...     Dosage Lethality   \n",
       "\n",
       "            paper-source  \n",
       "2846   Peterson J (1994)  \n",
       "2847   Peterson J (1994)  \n",
       "5004     Bender A (1991)  \n",
       "13777   Gorelik M (2011)  \n",
       "13778   Gorelik M (2011)  \n",
       "13779   Gorelik M (2011)  \n",
       "14385   Bouquin N (1999)  "
      ]
     },
     "execution_count": 36,
     "metadata": {},
     "output_type": "execute_result"
    }
   ],
   "source": [
    "data_sl[data_sl['gene-query-name']=='BEM1']"
   ]
  },
  {
   "cell_type": "code",
   "execution_count": null,
   "metadata": {},
   "outputs": [],
   "source": []
  }
 ],
 "metadata": {
  "jupytext": {
   "text_representation": {
    "extension": ".md",
    "format_name": "myst"
   }
  },
  "kernelspec": {
   "display_name": "Python 3",
   "language": "python",
   "name": "python3"
  },
  "language_info": {
   "codemirror_mode": {
    "name": "ipython",
    "version": 3
   },
   "file_extension": ".py",
   "mimetype": "text/x-python",
   "name": "python",
   "nbconvert_exporter": "python",
   "pygments_lexer": "ipython3",
   "version": "3.7.6"
  },
  "source_map": [
   10,
   18,
   29,
   36,
   57,
   66,
   98,
   101,
   105,
   128,
   131,
   135,
   139,
   145,
   178,
   184,
   188,
   206,
   210,
   218,
   222,
   225,
   229,
   234,
   238,
   244,
   248,
   253,
   257,
   267,
   269,
   273,
   306,
   311,
   313,
   317,
   328,
   330,
   334,
   344,
   348,
   358,
   360,
   364,
   381,
   388,
   394,
   400,
   407,
   412,
   419,
   424,
   428,
   432
  ]
 },
 "nbformat": 4,
 "nbformat_minor": 4
}