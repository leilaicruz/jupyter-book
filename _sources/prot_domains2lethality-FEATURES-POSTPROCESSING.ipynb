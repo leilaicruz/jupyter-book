{
 "cells": [
  {
   "cell_type": "markdown",
   "metadata": {},
   "source": [
    "# Feature postprocessing from paper.\n",
    "- Title:  \"Predicting yeast synthetic lethal genetic interactions using protein domains\"\n",
    "- Authors: Bo Li, Feng Luo,School of Computing,Clemson University,Clemson, SC, USA\n",
    "- e-mail: bol, luofeng@clemson.edu\n",
    "- year:2009"
   ]
  },
  {
   "cell_type": "code",
   "execution_count": 1,
   "metadata": {
    "execution": {
     "iopub.execute_input": "2020-07-20T13:35:59.161956Z",
     "iopub.status.busy": "2020-07-20T13:35:59.161329Z",
     "iopub.status.idle": "2020-07-20T13:35:59.739002Z",
     "shell.execute_reply": "2020-07-20T13:35:59.738210Z"
    }
   },
   "outputs": [],
   "source": [
    "import pandas as pd\n",
    "import numpy as np\n",
    "import matplotlib.pyplot as plt\n",
    "from collections import defaultdict \n",
    "import seaborn as sns\n",
    "import matplotlib.cm as cm\n",
    "import scipy as scipy\n",
    "import random"
   ]
  },
  {
   "cell_type": "markdown",
   "metadata": {
    "jupyter": {
     "source_hidden": true
    }
   },
   "source": [
    "### Importing datasets \n",
    "\n",
    "#### Link to the github repo where the datasets to be downloaded:\n",
    "[DOWNLOAD THE DATASETS HERE](https://github.com/leilaicruz/machine-learning-for-yeast/tree/dev_Leila/datasets-for-learning)"
   ]
  },
  {
   "cell_type": "code",
   "execution_count": 2,
   "metadata": {
    "execution": {
     "iopub.execute_input": "2020-07-20T13:35:59.744166Z",
     "iopub.status.busy": "2020-07-20T13:35:59.743762Z",
     "iopub.status.idle": "2020-07-20T13:36:05.482039Z",
     "shell.execute_reply": "2020-07-20T13:36:05.481648Z"
    }
   },
   "outputs": [],
   "source": [
    "import os\n",
    "script_dir = os.path.dirname('__file__') #<-- absolute dir the script is in\n",
    "rel_path_SL = \"datasets/data-synthetic-lethals.xlsx\"\n",
    "rel_path_nSL=\"datasets/data-positive-genetic.xlsx\"\n",
    "rel_path_domains=\"datasets/proteins-domains-from-Pfam.xlsx\"\n",
    "\n",
    "abs_file_path_SL = os.path.join(script_dir, rel_path_SL)\n",
    "abs_file_path_nSL = os.path.join(script_dir, rel_path_nSL)\n",
    "abs_file_path_domains = os.path.join(script_dir, rel_path_domains)\n",
    "\n",
    "# os.chdir('mini_book/docs/') #<-- for binder os.chdir('../')\n",
    "# os.chdir('../')\n",
    "my_path_sl= abs_file_path_SL\n",
    "my_path_non_sl=abs_file_path_nSL\n",
    "my_path_domains=abs_file_path_domains\n",
    "\n",
    "data_sl=pd.read_excel(my_path_sl,header=0)\n",
    "data_domains=pd.read_excel(my_path_domains,header=0,index_col='Unnamed: 0')\n",
    "data_domains=data_domains.dropna()\n",
    "data_nonsl=pd.read_excel(my_path_non_sl,header=0)"
   ]
  },
  {
   "cell_type": "markdown",
   "metadata": {},
   "source": [
    "## Building the feature matrix\n",
    "One matrix for true SL where each row is one pair of SL. Every raw will be a vector of 0,1 or 2 depending on the comparison with the domain list. For row i the jth element = 0 if the jth element of the domain list is not in neither protein A and B, 1, if it is in one of them and 2 if it is in both of them .\n",
    "\n",
    "### Building the list of proteins domains id per protein pair separately :\n",
    "- List of protein A: Search for the Sl/nSL database the query gene name and look in the protein domain database which protein domains id has each of those queries.\n",
    "- List of protein B: Search for the Sl/nSL database the target gene name of the previous query and look in the protein domain database which protein domains id has each of those target genes."
   ]
  },
  {
   "cell_type": "code",
   "execution_count": 3,
   "metadata": {
    "execution": {
     "iopub.execute_input": "2020-07-20T13:36:05.493280Z",
     "iopub.status.busy": "2020-07-20T13:36:05.489116Z",
     "iopub.status.idle": "2020-07-20T13:36:07.088365Z",
     "shell.execute_reply": "2020-07-20T13:36:07.087777Z"
    }
   },
   "outputs": [],
   "source": [
    "# Selecting the meaningful columns in the respective dataset\n",
    "domain_id_list=data_domains['domain-name']\n",
    "query_gene=data_sl['gene-query-name']\n",
    "target_gene=data_sl['gene-target-name']\n",
    "query_gene_nonlethal=data_nonsl['gene-query-name']\n",
    "target_gene_nonlethal=data_nonsl['gene-target-name']\n",
    "\n",
    "\n",
    "\n",
    "# Initialising the arrays\n",
    "protein_a_list=[]\n",
    "protein_b_list=[]\n",
    "protein_a_list_non=[]\n",
    "protein_b_list_non=[]\n",
    "\n",
    "population = np.arange(0,len(data_sl))\n",
    "\n",
    "# For loop for 10000 pairs sampled randomly from the SL/nSl pair list , and creating a big array of proteind domains id per protein pair\n",
    "\n",
    "for m in random.sample(list(population), 500):\n",
    "    protein_a=data_domains[data_domains['name']==query_gene[m]]\n",
    "    protein_b=data_domains[data_domains['name']==target_gene[m]]\n",
    "    protein_a_list.append(protein_a['domain-name'].tolist())\n",
    "    protein_b_list.append(protein_b['domain-name'].tolist())\n",
    "\n",
    "    protein_a_non=data_domains[data_domains['name']==query_gene_nonlethal[m]]\n",
    "    protein_b_non=data_domains[data_domains['name']==target_gene_nonlethal[m]]\n",
    "    protein_a_list_non.append(protein_a_non['domain-name'].tolist())\n",
    "    protein_b_list_non.append(protein_b_non['domain-name'].tolist())"
   ]
  },
  {
   "cell_type": "code",
   "execution_count": 4,
   "metadata": {
    "execution": {
     "iopub.execute_input": "2020-07-20T13:36:07.092568Z",
     "iopub.status.busy": "2020-07-20T13:36:07.092150Z",
     "iopub.status.idle": "2020-07-20T13:36:07.095317Z",
     "shell.execute_reply": "2020-07-20T13:36:07.095014Z"
    }
   },
   "outputs": [
    {
     "name": "stdout",
     "output_type": "stream",
     "text": [
      "We are going to analyze 500 protein pairs, out of 17871 SL protein pairs\n",
      "We are going to analyze 500 protein pairs, out of 43340 positive protein pairs\n"
     ]
    }
   ],
   "source": [
    "print('We are going to analyze',len((protein_a_list)) ,'protein pairs, out of',len(data_sl),'SL protein pairs')\n",
    "print('We are going to analyze',len((protein_a_list_non)) ,'protein pairs, out of',len(data_nonsl),'positive protein pairs')"
   ]
  },
  {
   "cell_type": "markdown",
   "metadata": {},
   "source": [
    "### Postprocessing #1:  Remove protein pairs from study if either protein in the pair does not contain any domain"
   ]
  },
  {
   "cell_type": "code",
   "execution_count": 5,
   "metadata": {
    "execution": {
     "iopub.execute_input": "2020-07-20T13:36:07.103419Z",
     "iopub.status.busy": "2020-07-20T13:36:07.102993Z",
     "iopub.status.idle": "2020-07-20T13:36:07.106000Z",
     "shell.execute_reply": "2020-07-20T13:36:07.106339Z"
    }
   },
   "outputs": [],
   "source": [
    "def remove_empty_domains(protein_list_search,protein_list_pair):\n",
    "    index=[]\n",
    "    for i in np.arange(0,len(protein_list_search)):\n",
    "        if protein_list_search[i]==[] or protein_list_pair[i]==[]:\n",
    "            index.append(i) ## index of empty values for the protein_a_list meaning they dont have any annotated domain\n",
    "\n",
    "    y=[x for x in np.arange(0,len(protein_list_search)) if x not in index] # a list with non empty values from protein_a list\n",
    "\n",
    "    protein_list_search_new=[]\n",
    "    protein_list_pair_new=[]\n",
    "    for i in y:\n",
    "        protein_list_search_new.append(protein_list_search[i])\n",
    "        protein_list_pair_new.append(protein_list_pair[i])\n",
    "    return protein_list_search_new,protein_list_pair_new\n",
    "\n",
    "## evaluating the function\n",
    "\n",
    "protein_a_list_new,protein_b_list_new=remove_empty_domains(protein_a_list,protein_b_list)\n",
    "\n",
    "protein_a_list_non_new,protein_b_list_non_new=remove_empty_domains(protein_a_list_non,protein_b_list_non)"
   ]
  },
  {
   "cell_type": "code",
   "execution_count": 6,
   "metadata": {
    "execution": {
     "iopub.execute_input": "2020-07-20T13:36:07.109553Z",
     "iopub.status.busy": "2020-07-20T13:36:07.109196Z",
     "iopub.status.idle": "2020-07-20T13:36:07.112044Z",
     "shell.execute_reply": "2020-07-20T13:36:07.111748Z"
    }
   },
   "outputs": [
    {
     "name": "stdout",
     "output_type": "stream",
     "text": [
      "The empty domain in the SL were: 77 out of 500 domains\n",
      "The empty domain in the nSL were: 90 out of 500 domains\n"
     ]
    }
   ],
   "source": [
    "print('The empty domain in the SL were:', len(protein_a_list)-len(protein_a_list_new), 'out of', len(protein_a_list),'domains')\n",
    "print('The empty domain in the nSL were:', len(protein_a_list_non)-len(protein_a_list_non_new), 'out of', len(protein_a_list_non),'domains')"
   ]
  },
  {
   "cell_type": "markdown",
   "metadata": {},
   "source": [
    "### Feature engineering: Select from each ordered indexes of domain id list which of them appear once, in both or in any of the domains of each protein pair"
   ]
  },
  {
   "cell_type": "markdown",
   "metadata": {},
   "source": [
    "#### Define function `get_indexes`"
   ]
  },
  {
   "cell_type": "code",
   "execution_count": 7,
   "metadata": {
    "execution": {
     "iopub.execute_input": "2020-07-20T13:36:07.116559Z",
     "iopub.status.busy": "2020-07-20T13:36:07.116188Z",
     "iopub.status.idle": "2020-07-20T13:36:07.119494Z",
     "shell.execute_reply": "2020-07-20T13:36:07.119198Z"
    }
   },
   "outputs": [
    {
     "data": {
      "text/plain": [
       "[1, 2]"
      ]
     },
     "execution_count": 7,
     "metadata": {},
     "output_type": "execute_result"
    }
   ],
   "source": [
    "get_indexes = lambda x, xs: [i for (y, i) in zip(xs, range(len(xs))) if x == y] # a function that give the index of whether a value appear in array or not\n",
    "a=[1,2,2,4,5,6,7,8,9,10]\n",
    "get_indexes(2,a)"
   ]
  },
  {
   "cell_type": "code",
   "execution_count": 8,
   "metadata": {
    "execution": {
     "iopub.execute_input": "2020-07-20T13:36:07.126219Z",
     "iopub.status.busy": "2020-07-20T13:36:07.125845Z",
     "iopub.status.idle": "2020-07-20T13:36:07.127615Z",
     "shell.execute_reply": "2020-07-20T13:36:07.127292Z"
    }
   },
   "outputs": [],
   "source": [
    "def feature_building(protein_a_list_new,protein_b_list_new):\n",
    "    x = np.unique(domain_id_list)\n",
    "    ## To avoid taking repeated domains from one protein of the pairs , lets reduced the domains of each protein from the pairs to their unique members\n",
    "    protein_a_list_unique=[]\n",
    "    protein_b_list_unique=[]\n",
    "    for i in np.arange(0,len(protein_a_list_new)):\n",
    "        protein_a_list_unique.append(np.unique(protein_a_list_new[i]))\n",
    "        protein_b_list_unique.append(np.unique(protein_b_list_new[i]))\n",
    "        \n",
    "    protein_feat_true=np.zeros(shape=(len(x),len(protein_a_list_unique)))\n",
    "    pair_a_b_array=[]\n",
    "    for i in np.arange(0,len(protein_a_list_unique)):\n",
    "        index_a=[]\n",
    "        \n",
    "        pair=[protein_a_list_unique[i],protein_b_list_unique[i]]\n",
    "        pair_a_b=np.concatenate(pair).ravel()\n",
    "        pair_a_b_array.append(pair_a_b)\n",
    "\n",
    "    j=0\n",
    "    for i in pair_a_b_array:  \n",
    "        array,index,counts=np.unique(i,return_index=True,return_counts=True)\n",
    "        \n",
    "        for k,m in zip(counts,array):\n",
    "            if k ==2:\n",
    "                protein_feat_true[get_indexes(m,x),j]=2\n",
    "                \n",
    "            if k==1:\n",
    "                protein_feat_true[get_indexes(m,x),j]=1\n",
    "        j=j+1\n",
    "    return protein_feat_true"
   ]
  },
  {
   "cell_type": "code",
   "execution_count": 9,
   "metadata": {
    "execution": {
     "iopub.execute_input": "2020-07-20T13:36:07.133953Z",
     "iopub.status.busy": "2020-07-20T13:36:07.133533Z",
     "iopub.status.idle": "2020-07-20T13:36:07.626178Z",
     "shell.execute_reply": "2020-07-20T13:36:07.626506Z"
    }
   },
   "outputs": [],
   "source": [
    "protein_feat_true=feature_building(protein_b_list_new=protein_b_list_new,protein_a_list_new=protein_a_list_new)\n",
    "protein_feat_true_pd=pd.DataFrame(protein_feat_true.T)\n",
    "\n",
    "protein_feat_non_true=feature_building(protein_b_list_new=protein_b_list_non_new,protein_a_list_new=protein_a_list_non_new)\n",
    "protein_feat_non_true_pd=pd.DataFrame(protein_feat_non_true.T)"
   ]
  },
  {
   "cell_type": "markdown",
   "metadata": {},
   "source": [
    "### How many ones and twos are in each dataset"
   ]
  },
  {
   "cell_type": "code",
   "execution_count": 10,
   "metadata": {
    "execution": {
     "iopub.execute_input": "2020-07-20T13:36:07.631983Z",
     "iopub.status.busy": "2020-07-20T13:36:07.631610Z",
     "iopub.status.idle": "2020-07-20T13:36:07.707629Z",
     "shell.execute_reply": "2020-07-20T13:36:07.707977Z"
    }
   },
   "outputs": [
    {
     "name": "stdout",
     "output_type": "stream",
     "text": [
      "fraction of twos in the SL array is 1.7193208682570386e-05\n",
      "fraction of ones in the SL array is 0.0010003321415313678\n",
      "fraction of twos in the PI array is 8.062890546260834e-06\n",
      "fraction of ones in the PI array is 0.0009119129207821004\n"
     ]
    }
   ],
   "source": [
    "index_2_true=protein_feat_true_pd.where(protein_feat_true_pd==2)\n",
    "index_2_true_count=index_2_true.count(axis=1).sum()\n",
    "\n",
    "index_1_true=protein_feat_true_pd.where(protein_feat_true_pd==1)\n",
    "index_1_true_count=index_1_true.count(axis=1).sum()\n",
    "\n",
    "index_2_nontrue=protein_feat_non_true_pd.where(protein_feat_non_true_pd==2)\n",
    "index_2_nontrue_count=index_2_nontrue.count(axis=1).sum()\n",
    "\n",
    "index_1_nontrue=protein_feat_non_true_pd.where(protein_feat_non_true_pd==1)\n",
    "index_1_nontrue_count=index_1_nontrue.count(axis=1).sum()\n",
    "\n",
    "\n",
    "print('fraction of twos in the SL array is',index_2_true_count/(len(protein_feat_true_pd.index)*len(protein_feat_true_pd.columns)))\n",
    "print('fraction of ones in the SL array is',index_1_true_count/(len(protein_feat_true_pd.index)*len(protein_feat_true_pd.columns)))\n",
    "print('fraction of twos in the PI array is',index_2_nontrue_count/(len(protein_feat_non_true_pd.index)*len(protein_feat_non_true_pd.columns)))\n",
    "print('fraction of ones in the PI array is',index_1_nontrue_count/(len(protein_feat_non_true_pd.index)*len(protein_feat_non_true_pd.columns)))"
   ]
  },
  {
   "cell_type": "markdown",
   "metadata": {},
   "source": [
    "#### Bar plot to visualize these numbers"
   ]
  },
  {
   "cell_type": "code",
   "execution_count": 11,
   "metadata": {
    "execution": {
     "iopub.execute_input": "2020-07-20T13:36:07.725382Z",
     "iopub.status.busy": "2020-07-20T13:36:07.724930Z",
     "iopub.status.idle": "2020-07-20T13:36:08.059127Z",
     "shell.execute_reply": "2020-07-20T13:36:08.059415Z"
    }
   },
   "outputs": [
    {
     "data": {
      "text/plain": [
       "([0, 1, 2, 3],\n",
       " [Text(0, 0, ''), Text(0, 0, ''), Text(0, 0, ''), Text(0, 0, '')])"
      ]
     },
     "execution_count": 11,
     "metadata": {},
     "output_type": "execute_result"
    },
    {
     "data": {
      "image/png": "[encoded data removed]",
      "text/plain": [
       "<Figure size 432x288 with 1 Axes>"
      ]
     },
     "metadata": {
      "filenames": {
       "image/png": "/home/runner/work/jupyter-book/jupyter-book/mini_book/docs/_build/jupyter_execute/prot_domains2lethality-FEATURES-POSTPROCESSING_18_1.png"
      },
      "needs_background": "light"
     },
     "output_type": "display_data"
    }
   ],
   "source": [
    "plt.bar(['fraction of 2 in the nSL','fraction of 1 in the nSL'],[index_2_nontrue_count/(len(protein_feat_non_true_pd.index)*len(protein_feat_non_true_pd.columns)),index_1_nontrue_count/(len(protein_feat_non_true_pd.index)*len(protein_feat_non_true_pd.columns))],alpha=0.6,color=['blue','lightblue']), \n",
    "\n",
    "plt.bar(['fraction of 2 in SL ','fraction of 1 in SL'],[index_2_true_count/(len(protein_feat_true_pd.index)*len(protein_feat_true_pd.columns)),index_1_true_count/(len(protein_feat_true_pd.index)*len(protein_feat_true_pd.columns))],alpha=0.6,color=['coral','lightcoral'])\n",
    "\n",
    "plt.ylabel('Fraction from the population')\n",
    "plt.yscale('log')\n",
    "plt.xticks(rotation=40)"
   ]
  },
  {
   "cell_type": "markdown",
   "metadata": {},
   "source": [
    "#### Adding the labels(response variables) to each dataset"
   ]
  },
  {
   "cell_type": "code",
   "execution_count": 12,
   "metadata": {
    "execution": {
     "iopub.execute_input": "2020-07-20T13:36:08.063606Z",
     "iopub.status.busy": "2020-07-20T13:36:08.062733Z",
     "iopub.status.idle": "2020-07-20T13:36:08.066854Z",
     "shell.execute_reply": "2020-07-20T13:36:08.066510Z"
    }
   },
   "outputs": [],
   "source": [
    "protein_feat_true_pd['lethality']=np.ones(shape=(len(protein_a_list_new)))\n",
    "protein_feat_non_true_pd['lethality']=np.zeros(shape=(len(protein_a_list_non_new)))"
   ]
  },
  {
   "cell_type": "markdown",
   "metadata": {},
   "source": [
    "#### Joining both datasets"
   ]
  },
  {
   "cell_type": "code",
   "execution_count": 13,
   "metadata": {
    "execution": {
     "iopub.execute_input": "2020-07-20T13:36:08.070606Z",
     "iopub.status.busy": "2020-07-20T13:36:08.070247Z",
     "iopub.status.idle": "2020-07-20T13:36:08.105074Z",
     "shell.execute_reply": "2020-07-20T13:36:08.104542Z"
    }
   },
   "outputs": [
    {
     "name": "stdout",
     "output_type": "stream",
     "text": [
      "The number of features are: 3026\n",
      "The number of samples are: 833\n"
     ]
    }
   ],
   "source": [
    "feature_post=pd.concat([protein_feat_true_pd,protein_feat_non_true_pd],axis=0)\n",
    "feature_post=feature_post.set_index(np.arange(0,len(protein_a_list_new)+len(protein_a_list_non_new)))\n",
    "print('The number of features are:',feature_post.shape[1])\n",
    "print('The number of samples are:',feature_post.shape[0])"
   ]
  },
  {
   "cell_type": "markdown",
   "metadata": {},
   "source": [
    "### Postprocessing and exploration of the feature matrix of both datasets"
   ]
  },
  {
   "cell_type": "code",
   "execution_count": 14,
   "metadata": {
    "execution": {
     "iopub.execute_input": "2020-07-20T13:36:08.111144Z",
     "iopub.status.busy": "2020-07-20T13:36:08.110728Z",
     "iopub.status.idle": "2020-07-20T13:36:11.219453Z",
     "shell.execute_reply": "2020-07-20T13:36:11.218895Z"
    }
   },
   "outputs": [],
   "source": [
    "mean=feature_post.T.describe().loc['mean']\n",
    "std=feature_post.T.describe().loc['std']\n",
    "lethality=feature_post['lethality']\n",
    "\n",
    "corr_keys=pd.concat([mean,std,lethality],axis=1)"
   ]
  },
  {
   "cell_type": "markdown",
   "metadata": {},
   "source": [
    "### Viz of the stats"
   ]
  },
  {
   "cell_type": "code",
   "execution_count": 15,
   "metadata": {
    "execution": {
     "iopub.execute_input": "2020-07-20T13:36:11.234130Z",
     "iopub.status.busy": "2020-07-20T13:36:11.233714Z",
     "iopub.status.idle": "2020-07-20T13:36:12.258534Z",
     "shell.execute_reply": "2020-07-20T13:36:12.258901Z"
    }
   },
   "outputs": [
    {
     "data": {
      "text/plain": [
       "Text(0.5, 1.08, 'Pairplot to see data dependencies with Lethality')"
      ]
     },
     "execution_count": 15,
     "metadata": {},
     "output_type": "execute_result"
    },
    {
     "data": {
      "image/png": "[encoded data removed]",
      "text/plain": [
       "<Figure size 412x360 with 6 Axes>"
      ]
     },
     "metadata": {
      "filenames": {
       "image/png": "/home/runner/work/jupyter-book/jupyter-book/mini_book/docs/_build/jupyter_execute/prot_domains2lethality-FEATURES-POSTPROCESSING_26_1.png"
      },
      "needs_background": "light"
     },
     "output_type": "display_data"
    }
   ],
   "source": [
    "pair=sns.pairplot(corr_keys,hue='lethality',diag_kind='kde',kind='reg',palette='colorblind')\n",
    "pair.fig.suptitle('Pairplot to see data dependencies with Lethality',y=1.08)"
   ]
  },
  {
   "cell_type": "code",
   "execution_count": 16,
   "metadata": {
    "execution": {
     "iopub.execute_input": "2020-07-20T13:36:12.267820Z",
     "iopub.status.busy": "2020-07-20T13:36:12.267355Z",
     "iopub.status.idle": "2020-07-20T13:36:12.270550Z",
     "shell.execute_reply": "2020-07-20T13:36:12.270129Z"
    }
   },
   "outputs": [],
   "source": [
    "X, y = feature_post.drop(columns=[\"lethality\"]), feature_post[\"lethality\"]"
   ]
  },
  {
   "cell_type": "code",
   "execution_count": 17,
   "metadata": {
    "execution": {
     "iopub.execute_input": "2020-07-20T13:36:12.274290Z",
     "iopub.status.busy": "2020-07-20T13:36:12.273664Z",
     "iopub.status.idle": "2020-07-20T13:36:12.388531Z",
     "shell.execute_reply": "2020-07-20T13:36:12.388144Z"
    }
   },
   "outputs": [],
   "source": [
    "from sklearn.preprocessing import StandardScaler\n",
    "scaler = StandardScaler()\n",
    "x_sl=protein_feat_true_pd.drop(columns=['lethality'])\n",
    "x_nsl=protein_feat_non_true_pd.drop(columns=['lethality'])\n",
    "\n",
    "X_sl_scaled = scaler.fit_transform(x_sl)\n",
    "X_nsl_scaled = scaler.fit_transform(x_nsl)"
   ]
  },
  {
   "cell_type": "code",
   "execution_count": 18,
   "metadata": {
    "execution": {
     "iopub.execute_input": "2020-07-20T13:36:12.392518Z",
     "iopub.status.busy": "2020-07-20T13:36:12.391945Z",
     "iopub.status.idle": "2020-07-20T13:36:12.395418Z",
     "shell.execute_reply": "2020-07-20T13:36:12.394712Z"
    }
   },
   "outputs": [
    {
     "data": {
      "text/plain": [
       "(423, 3025)"
      ]
     },
     "execution_count": 18,
     "metadata": {},
     "output_type": "execute_result"
    }
   ],
   "source": [
    "np.shape(X_sl_scaled)"
   ]
  },
  {
   "cell_type": "markdown",
   "metadata": {},
   "source": [
    "## How redundant are each of the protein domains?"
   ]
  },
  {
   "cell_type": "code",
   "execution_count": 19,
   "metadata": {
    "execution": {
     "iopub.execute_input": "2020-07-20T13:36:12.400823Z",
     "iopub.status.busy": "2020-07-20T13:36:12.400455Z",
     "iopub.status.idle": "2020-07-20T13:36:12.404119Z",
     "shell.execute_reply": "2020-07-20T13:36:12.403670Z"
    }
   },
   "outputs": [],
   "source": [
    "def PCA_component_contribution(scaled_matrix,original_data):\n",
    "    from sklearn.decomposition import PCA\n",
    "\n",
    "    model = PCA(0.95).fit(scaled_matrix)\n",
    "    ## apply dimensionality reduction to X_train\n",
    "    output_pca = model.transform(scaled_matrix)\n",
    "    \n",
    "    total=sum(model.explained_variance_)\n",
    "\n",
    "\n",
    "   \n",
    "    # number of components , that it will be the number of main axes times the number of original components \n",
    "    n_pcs= model.components_.shape[0] # the amount of non redundant protein domains \n",
    "\n",
    "    # get the index of the most important feature on EACH component\n",
    "    # LIST COMPREHENSION HERE\n",
    "    most_important = [np.abs(model.components_[i]).argmax() for i in range(n_pcs)]\n",
    "\n",
    "    initial_feature_names = original_data.columns\n",
    "    # get the names\n",
    "    most_important_names = [initial_feature_names[most_important[i]] for i in range(n_pcs)]\n",
    "    \n",
    "\n",
    "    # LIST COMPREHENSION HERE AGAIN\n",
    "    dic = {'PC{}'.format(i): most_important_names[i] for i in range(n_pcs)}\n",
    "\n",
    "    # build the dataframe\n",
    "    df = pd.DataFrame(dic.items(),columns=['pca-component','domain-number'])\n",
    "\n",
    "    return df,model.components_"
   ]
  },
  {
   "cell_type": "code",
   "execution_count": 20,
   "metadata": {
    "execution": {
     "iopub.execute_input": "2020-07-20T13:36:12.406907Z",
     "iopub.status.busy": "2020-07-20T13:36:12.406498Z",
     "iopub.status.idle": "2020-07-20T13:36:12.922395Z",
     "shell.execute_reply": "2020-07-20T13:36:12.922820Z"
    }
   },
   "outputs": [],
   "source": [
    "df_sl,components_pca_nsl=PCA_component_contribution(X_nsl_scaled,x_nsl)\n",
    "df_nsl,components_pca_sl=PCA_component_contribution(X_sl_scaled,x_sl)"
   ]
  },
  {
   "cell_type": "code",
   "execution_count": 21,
   "metadata": {
    "execution": {
     "iopub.execute_input": "2020-07-20T13:36:12.925121Z",
     "iopub.status.busy": "2020-07-20T13:36:12.924622Z",
     "iopub.status.idle": "2020-07-20T13:36:12.931249Z",
     "shell.execute_reply": "2020-07-20T13:36:12.931601Z"
    }
   },
   "outputs": [
    {
     "data": {
      "text/html": [
       "<div>\n",
       "<style scoped>\n",
       "    .dataframe tbody tr th:only-of-type {\n",
       "        vertical-align: middle;\n",
       "    }\n",
       "\n",
       "    .dataframe tbody tr th {\n",
       "        vertical-align: top;\n",
       "    }\n",
       "\n",
       "    .dataframe thead th {\n",
       "        text-align: right;\n",
       "    }\n",
       "</style>\n",
       "<table border=\"1\" class=\"dataframe\">\n",
       "  <thead>\n",
       "    <tr style=\"text-align: right;\">\n",
       "      <th></th>\n",
       "      <th>pca-component</th>\n",
       "      <th>domain-number</th>\n",
       "    </tr>\n",
       "  </thead>\n",
       "  <tbody>\n",
       "    <tr>\n",
       "      <th>0</th>\n",
       "      <td>PC0</td>\n",
       "      <td>135</td>\n",
       "    </tr>\n",
       "    <tr>\n",
       "      <th>1</th>\n",
       "      <td>PC1</td>\n",
       "      <td>1464</td>\n",
       "    </tr>\n",
       "    <tr>\n",
       "      <th>2</th>\n",
       "      <td>PC2</td>\n",
       "      <td>1040</td>\n",
       "    </tr>\n",
       "    <tr>\n",
       "      <th>3</th>\n",
       "      <td>PC3</td>\n",
       "      <td>467</td>\n",
       "    </tr>\n",
       "    <tr>\n",
       "      <th>4</th>\n",
       "      <td>PC4</td>\n",
       "      <td>221</td>\n",
       "    </tr>\n",
       "  </tbody>\n",
       "</table>\n",
       "</div>"
      ],
      "text/plain": [
       "  pca-component  domain-number\n",
       "0           PC0            135\n",
       "1           PC1           1464\n",
       "2           PC2           1040\n",
       "3           PC3            467\n",
       "4           PC4            221"
      ]
     },
     "execution_count": 21,
     "metadata": {},
     "output_type": "execute_result"
    }
   ],
   "source": [
    "df_sl.head()"
   ]
  },
  {
   "cell_type": "markdown",
   "metadata": {},
   "source": [
    "## which are the shared domains between nSL and SL pairs , in the PCA reduced samples"
   ]
  },
  {
   "cell_type": "code",
   "execution_count": 22,
   "metadata": {
    "execution": {
     "iopub.execute_input": "2020-07-20T13:36:12.933440Z",
     "iopub.status.busy": "2020-07-20T13:36:12.932932Z",
     "iopub.status.idle": "2020-07-20T13:36:12.956710Z",
     "shell.execute_reply": "2020-07-20T13:36:12.957157Z"
    }
   },
   "outputs": [
    {
     "data": {
      "text/html": [
       "<div>\n",
       "<style scoped>\n",
       "    .dataframe tbody tr th:only-of-type {\n",
       "        vertical-align: middle;\n",
       "    }\n",
       "\n",
       "    .dataframe tbody tr th {\n",
       "        vertical-align: top;\n",
       "    }\n",
       "\n",
       "    .dataframe thead th {\n",
       "        text-align: right;\n",
       "    }\n",
       "</style>\n",
       "<table border=\"1\" class=\"dataframe\">\n",
       "  <thead>\n",
       "    <tr style=\"text-align: right;\">\n",
       "      <th></th>\n",
       "      <th>pca-component_x</th>\n",
       "      <th>domain-number</th>\n",
       "      <th>pca-component_y</th>\n",
       "      <th>domain-description</th>\n",
       "    </tr>\n",
       "  </thead>\n",
       "  <tbody>\n",
       "    <tr>\n",
       "      <th>0</th>\n",
       "      <td>PC10</td>\n",
       "      <td>601</td>\n",
       "      <td>PC222</td>\n",
       "      <td>DMRL_synthase; Lumazine/riboflavin synthase</td>\n",
       "    </tr>\n",
       "    <tr>\n",
       "      <th>1</th>\n",
       "      <td>PC16</td>\n",
       "      <td>61</td>\n",
       "      <td>PC174</td>\n",
       "      <td>AGA2</td>\n",
       "    </tr>\n",
       "    <tr>\n",
       "      <th>2</th>\n",
       "      <td>PC23</td>\n",
       "      <td>463</td>\n",
       "      <td>PC0</td>\n",
       "      <td>Chitin_synth_1N; Chitin synthase N-terminal</td>\n",
       "    </tr>\n",
       "    <tr>\n",
       "      <th>3</th>\n",
       "      <td>PC23</td>\n",
       "      <td>463</td>\n",
       "      <td>PC187</td>\n",
       "      <td>Chitin_synth_1N; Chitin synthase N-terminal</td>\n",
       "    </tr>\n",
       "    <tr>\n",
       "      <th>4</th>\n",
       "      <td>PC38</td>\n",
       "      <td>1</td>\n",
       "      <td>PC215</td>\n",
       "      <td>14-3-3; 14-3-3 domain</td>\n",
       "    </tr>\n",
       "    <tr>\n",
       "      <th>...</th>\n",
       "      <td>...</td>\n",
       "      <td>...</td>\n",
       "      <td>...</td>\n",
       "      <td>...</td>\n",
       "    </tr>\n",
       "    <tr>\n",
       "      <th>71</th>\n",
       "      <td>PC240</td>\n",
       "      <td>1978</td>\n",
       "      <td>PC130</td>\n",
       "      <td>RFX_DNA_binding; DNA-binding RFX-type winged-h...</td>\n",
       "    </tr>\n",
       "    <tr>\n",
       "      <th>72</th>\n",
       "      <td>PC249</td>\n",
       "      <td>2438</td>\n",
       "      <td>PC163</td>\n",
       "      <td>Sec20</td>\n",
       "    </tr>\n",
       "    <tr>\n",
       "      <th>73</th>\n",
       "      <td>PC249</td>\n",
       "      <td>2438</td>\n",
       "      <td>PC274</td>\n",
       "      <td>Sec20</td>\n",
       "    </tr>\n",
       "    <tr>\n",
       "      <th>74</th>\n",
       "      <td>PC261</td>\n",
       "      <td>27</td>\n",
       "      <td>PC137</td>\n",
       "      <td>AAA_8; Dynein heavy chain, P-loop containing D...</td>\n",
       "    </tr>\n",
       "    <tr>\n",
       "      <th>75</th>\n",
       "      <td>PC266</td>\n",
       "      <td>510</td>\n",
       "      <td>PC108</td>\n",
       "      <td>Cpn10; GroES chaperonin family</td>\n",
       "    </tr>\n",
       "  </tbody>\n",
       "</table>\n",
       "<p>76 rows × 4 columns</p>\n",
       "</div>"
      ],
      "text/plain": [
       "   pca-component_x  domain-number pca-component_y  \\\n",
       "0             PC10            601           PC222   \n",
       "1             PC16             61           PC174   \n",
       "2             PC23            463             PC0   \n",
       "3             PC23            463           PC187   \n",
       "4             PC38              1           PC215   \n",
       "..             ...            ...             ...   \n",
       "71           PC240           1978           PC130   \n",
       "72           PC249           2438           PC163   \n",
       "73           PC249           2438           PC274   \n",
       "74           PC261             27           PC137   \n",
       "75           PC266            510           PC108   \n",
       "\n",
       "                                   domain-description  \n",
       "0         DMRL_synthase; Lumazine/riboflavin synthase  \n",
       "1                                                AGA2  \n",
       "2         Chitin_synth_1N; Chitin synthase N-terminal  \n",
       "3         Chitin_synth_1N; Chitin synthase N-terminal  \n",
       "4                               14-3-3; 14-3-3 domain  \n",
       "..                                                ...  \n",
       "71  RFX_DNA_binding; DNA-binding RFX-type winged-h...  \n",
       "72                                              Sec20  \n",
       "73                                              Sec20  \n",
       "74  AAA_8; Dynein heavy chain, P-loop containing D...  \n",
       "75                     Cpn10; GroES chaperonin family  \n",
       "\n",
       "[76 rows x 4 columns]"
      ]
     },
     "execution_count": 22,
     "metadata": {},
     "output_type": "execute_result"
    }
   ],
   "source": [
    "df_shared_domains=pd.merge(df_sl,df_nsl,how='inner',on='domain-number')\n",
    "domains_name=np.unique(data_domains['domain-name'])\n",
    "domains_description=np.unique(data_domains['domain-descrip'])\n",
    "\n",
    "df_shared_domains['domain-description']=domains_description[df_shared_domains['domain-number']]\n",
    "\n",
    "\n",
    "df_shared_domains"
   ]
  },
  {
   "cell_type": "code",
   "execution_count": 23,
   "metadata": {
    "execution": {
     "iopub.execute_input": "2020-07-20T13:36:12.959118Z",
     "iopub.status.busy": "2020-07-20T13:36:12.958662Z",
     "iopub.status.idle": "2020-07-20T13:36:12.963283Z",
     "shell.execute_reply": "2020-07-20T13:36:12.963738Z"
    }
   },
   "outputs": [
    {
     "name": "stdout",
     "output_type": "stream",
     "text": [
      "The number of shared domains between SL and nSL pairs,after PCA, is =  76 out of 545 so the 13.944954128440367 %\n"
     ]
    }
   ],
   "source": [
    "print('The number of shared domains between SL and nSL pairs,after PCA, is = ',len(df_shared_domains), 'out of', len(df_sl)+len(df_nsl), 'so the',100*len(df_shared_domains)/(len(df_sl)+len(df_nsl)),'%')"
   ]
  },
  {
   "cell_type": "markdown",
   "metadata": {},
   "source": [
    "## Domains exclusive to SL"
   ]
  },
  {
   "cell_type": "code",
   "execution_count": 24,
   "metadata": {
    "execution": {
     "iopub.execute_input": "2020-07-20T13:36:12.965874Z",
     "iopub.status.busy": "2020-07-20T13:36:12.965412Z",
     "iopub.status.idle": "2020-07-20T13:36:12.988817Z",
     "shell.execute_reply": "2020-07-20T13:36:12.989220Z"
    }
   },
   "outputs": [
    {
     "data": {
      "text/html": [
       "<div>\n",
       "<style scoped>\n",
       "    .dataframe tbody tr th:only-of-type {\n",
       "        vertical-align: middle;\n",
       "    }\n",
       "\n",
       "    .dataframe tbody tr th {\n",
       "        vertical-align: top;\n",
       "    }\n",
       "\n",
       "    .dataframe thead th {\n",
       "        text-align: right;\n",
       "    }\n",
       "</style>\n",
       "<table border=\"1\" class=\"dataframe\">\n",
       "  <thead>\n",
       "    <tr style=\"text-align: right;\">\n",
       "      <th></th>\n",
       "      <th>pca-component_x</th>\n",
       "      <th>domain-number</th>\n",
       "      <th>pca-component_y</th>\n",
       "      <th>domain-description</th>\n",
       "    </tr>\n",
       "  </thead>\n",
       "  <tbody>\n",
       "    <tr>\n",
       "      <th>0</th>\n",
       "      <td>PC0</td>\n",
       "      <td>135</td>\n",
       "      <td>NaN</td>\n",
       "      <td>ATP-synt_ab_Xtn; ATPsynthase alpha/beta subuni...</td>\n",
       "    </tr>\n",
       "    <tr>\n",
       "      <th>1</th>\n",
       "      <td>PC1</td>\n",
       "      <td>1464</td>\n",
       "      <td>NaN</td>\n",
       "      <td>Metallophos_2; Calcineurin-like phosphoesteras...</td>\n",
       "    </tr>\n",
       "    <tr>\n",
       "      <th>2</th>\n",
       "      <td>PC2</td>\n",
       "      <td>1040</td>\n",
       "      <td>NaN</td>\n",
       "      <td>Glucosamine_iso; Glucosamine/galactosamine-6-p...</td>\n",
       "    </tr>\n",
       "    <tr>\n",
       "      <th>3</th>\n",
       "      <td>PC3</td>\n",
       "      <td>467</td>\n",
       "      <td>NaN</td>\n",
       "      <td>Choline_transpo; Choline transporter-like</td>\n",
       "    </tr>\n",
       "    <tr>\n",
       "      <th>4</th>\n",
       "      <td>PC4</td>\n",
       "      <td>221</td>\n",
       "      <td>NaN</td>\n",
       "      <td>Apq12; Nuclear pore assembly and biogenesis pr...</td>\n",
       "    </tr>\n",
       "    <tr>\n",
       "      <th>...</th>\n",
       "      <td>...</td>\n",
       "      <td>...</td>\n",
       "      <td>...</td>\n",
       "      <td>...</td>\n",
       "    </tr>\n",
       "    <tr>\n",
       "      <th>281</th>\n",
       "      <td>PC264</td>\n",
       "      <td>677</td>\n",
       "      <td>NaN</td>\n",
       "      <td>DUF2407_C; Domain of unknown function DUF2407 ...</td>\n",
       "    </tr>\n",
       "    <tr>\n",
       "      <th>282</th>\n",
       "      <td>PC265</td>\n",
       "      <td>2651</td>\n",
       "      <td>NaN</td>\n",
       "      <td>Telomere_reg-2; Telomere length regulation pro...</td>\n",
       "    </tr>\n",
       "    <tr>\n",
       "      <th>284</th>\n",
       "      <td>PC267</td>\n",
       "      <td>903</td>\n",
       "      <td>NaN</td>\n",
       "      <td>Fe-ADH; Alcohol dehydrogenase, iron-type</td>\n",
       "    </tr>\n",
       "    <tr>\n",
       "      <th>285</th>\n",
       "      <td>PC268</td>\n",
       "      <td>903</td>\n",
       "      <td>NaN</td>\n",
       "      <td>Fe-ADH; Alcohol dehydrogenase, iron-type</td>\n",
       "    </tr>\n",
       "    <tr>\n",
       "      <th>286</th>\n",
       "      <td>PC269</td>\n",
       "      <td>1174</td>\n",
       "      <td>NaN</td>\n",
       "      <td>His_biosynth; Histidine biosynthesis</td>\n",
       "    </tr>\n",
       "  </tbody>\n",
       "</table>\n",
       "<p>211 rows × 4 columns</p>\n",
       "</div>"
      ],
      "text/plain": [
       "    pca-component_x  domain-number pca-component_y  \\\n",
       "0               PC0            135             NaN   \n",
       "1               PC1           1464             NaN   \n",
       "2               PC2           1040             NaN   \n",
       "3               PC3            467             NaN   \n",
       "4               PC4            221             NaN   \n",
       "..              ...            ...             ...   \n",
       "281           PC264            677             NaN   \n",
       "282           PC265           2651             NaN   \n",
       "284           PC267            903             NaN   \n",
       "285           PC268            903             NaN   \n",
       "286           PC269           1174             NaN   \n",
       "\n",
       "                                    domain-description  \n",
       "0    ATP-synt_ab_Xtn; ATPsynthase alpha/beta subuni...  \n",
       "1    Metallophos_2; Calcineurin-like phosphoesteras...  \n",
       "2    Glucosamine_iso; Glucosamine/galactosamine-6-p...  \n",
       "3            Choline_transpo; Choline transporter-like  \n",
       "4    Apq12; Nuclear pore assembly and biogenesis pr...  \n",
       "..                                                 ...  \n",
       "281  DUF2407_C; Domain of unknown function DUF2407 ...  \n",
       "282  Telomere_reg-2; Telomere length regulation pro...  \n",
       "284           Fe-ADH; Alcohol dehydrogenase, iron-type  \n",
       "285           Fe-ADH; Alcohol dehydrogenase, iron-type  \n",
       "286               His_biosynth; Histidine biosynthesis  \n",
       "\n",
       "[211 rows x 4 columns]"
      ]
     },
     "execution_count": 24,
     "metadata": {},
     "output_type": "execute_result"
    }
   ],
   "source": [
    "df_sl_exclusive=pd.merge(df_sl,df_nsl,how='left',on='domain-number')\n",
    "\n",
    "domains_name=np.unique(data_domains['domain-name'])\n",
    "domains_description=np.unique(data_domains['domain-descrip'])\n",
    "\n",
    "df_sl_exclusive['domain-description']=domains_description[df_sl_exclusive['domain-number']]\n",
    "df_sl_exclusive[pd.isnull(df_sl_exclusive['pca-component_y'])]"
   ]
  },
  {
   "cell_type": "code",
   "execution_count": 25,
   "metadata": {
    "execution": {
     "iopub.execute_input": "2020-07-20T13:36:12.990946Z",
     "iopub.status.busy": "2020-07-20T13:36:12.990550Z",
     "iopub.status.idle": "2020-07-20T13:36:12.994504Z",
     "shell.execute_reply": "2020-07-20T13:36:12.994901Z"
    }
   },
   "outputs": [
    {
     "name": "stdout",
     "output_type": "stream",
     "text": [
      "The number of exclusive domains from SL pairs, after PCA, is =  287 out of 545 so the 52.6605504587156 %\n"
     ]
    }
   ],
   "source": [
    "print('The number of exclusive domains from SL pairs, after PCA, is = ',len(df_sl_exclusive), 'out of', len(df_sl)+len(df_nsl), 'so the',100*len(df_sl_exclusive)/(len(df_sl)+len(df_nsl)),'%')"
   ]
  },
  {
   "cell_type": "code",
   "execution_count": 26,
   "metadata": {
    "execution": {
     "iopub.execute_input": "2020-07-20T13:36:12.997061Z",
     "iopub.status.busy": "2020-07-20T13:36:12.996599Z",
     "iopub.status.idle": "2020-07-20T13:36:13.017003Z",
     "shell.execute_reply": "2020-07-20T13:36:13.017405Z"
    }
   },
   "outputs": [
    {
     "data": {
      "text/html": [
       "<div>\n",
       "<style scoped>\n",
       "    .dataframe tbody tr th:only-of-type {\n",
       "        vertical-align: middle;\n",
       "    }\n",
       "\n",
       "    .dataframe tbody tr th {\n",
       "        vertical-align: top;\n",
       "    }\n",
       "\n",
       "    .dataframe thead th {\n",
       "        text-align: right;\n",
       "    }\n",
       "</style>\n",
       "<table border=\"1\" class=\"dataframe\">\n",
       "  <thead>\n",
       "    <tr style=\"text-align: right;\">\n",
       "      <th></th>\n",
       "      <th>pca-component_x</th>\n",
       "      <th>domain-number</th>\n",
       "      <th>pca-component_y</th>\n",
       "      <th>domain-description</th>\n",
       "    </tr>\n",
       "  </thead>\n",
       "  <tbody>\n",
       "    <tr>\n",
       "      <th>76</th>\n",
       "      <td>NaN</td>\n",
       "      <td>604</td>\n",
       "      <td>PC1</td>\n",
       "      <td>DNA_gyraseB; DNA topoisomerase, type IIA, subu...</td>\n",
       "    </tr>\n",
       "    <tr>\n",
       "      <th>77</th>\n",
       "      <td>NaN</td>\n",
       "      <td>305</td>\n",
       "      <td>PC2</td>\n",
       "      <td>Brr6_like_C_C; Brl1/Brr6 domain</td>\n",
       "    </tr>\n",
       "    <tr>\n",
       "      <th>78</th>\n",
       "      <td>NaN</td>\n",
       "      <td>339</td>\n",
       "      <td>PC3</td>\n",
       "      <td>CDC50; CDC50/LEM3 family</td>\n",
       "    </tr>\n",
       "    <tr>\n",
       "      <th>79</th>\n",
       "      <td>NaN</td>\n",
       "      <td>2113</td>\n",
       "      <td>PC4</td>\n",
       "      <td>Rav1p_C; RAVE complex protein Rav1 C-terminal</td>\n",
       "    </tr>\n",
       "    <tr>\n",
       "      <th>80</th>\n",
       "      <td>NaN</td>\n",
       "      <td>108</td>\n",
       "      <td>PC5</td>\n",
       "      <td>ATG11; Autophagy-related protein 11</td>\n",
       "    </tr>\n",
       "    <tr>\n",
       "      <th>...</th>\n",
       "      <td>...</td>\n",
       "      <td>...</td>\n",
       "      <td>...</td>\n",
       "      <td>...</td>\n",
       "    </tr>\n",
       "    <tr>\n",
       "      <th>288</th>\n",
       "      <td>NaN</td>\n",
       "      <td>622</td>\n",
       "      <td>PC268</td>\n",
       "      <td>DNA_topoisoIV; DNA topoisomerase, type IIA, su...</td>\n",
       "    </tr>\n",
       "    <tr>\n",
       "      <th>289</th>\n",
       "      <td>NaN</td>\n",
       "      <td>2480</td>\n",
       "      <td>PC269</td>\n",
       "      <td>Sin_N; DNA-directed RNA polymerase III subunit...</td>\n",
       "    </tr>\n",
       "    <tr>\n",
       "      <th>290</th>\n",
       "      <td>NaN</td>\n",
       "      <td>1712</td>\n",
       "      <td>PC270</td>\n",
       "      <td>PCRF; Peptide chain release factor</td>\n",
       "    </tr>\n",
       "    <tr>\n",
       "      <th>291</th>\n",
       "      <td>NaN</td>\n",
       "      <td>2017</td>\n",
       "      <td>PC271</td>\n",
       "      <td>RNA_pol_Rpb1_7; RNA polymerase Rpb1, domain 7</td>\n",
       "    </tr>\n",
       "    <tr>\n",
       "      <th>292</th>\n",
       "      <td>NaN</td>\n",
       "      <td>549</td>\n",
       "      <td>PC273</td>\n",
       "      <td>DAO; FAD dependent oxidoreductase</td>\n",
       "    </tr>\n",
       "  </tbody>\n",
       "</table>\n",
       "<p>217 rows × 4 columns</p>\n",
       "</div>"
      ],
      "text/plain": [
       "    pca-component_x  domain-number pca-component_y  \\\n",
       "76              NaN            604             PC1   \n",
       "77              NaN            305             PC2   \n",
       "78              NaN            339             PC3   \n",
       "79              NaN           2113             PC4   \n",
       "80              NaN            108             PC5   \n",
       "..              ...            ...             ...   \n",
       "288             NaN            622           PC268   \n",
       "289             NaN           2480           PC269   \n",
       "290             NaN           1712           PC270   \n",
       "291             NaN           2017           PC271   \n",
       "292             NaN            549           PC273   \n",
       "\n",
       "                                    domain-description  \n",
       "76   DNA_gyraseB; DNA topoisomerase, type IIA, subu...  \n",
       "77                     Brr6_like_C_C; Brl1/Brr6 domain  \n",
       "78                            CDC50; CDC50/LEM3 family  \n",
       "79       Rav1p_C; RAVE complex protein Rav1 C-terminal  \n",
       "80                 ATG11; Autophagy-related protein 11  \n",
       "..                                                 ...  \n",
       "288  DNA_topoisoIV; DNA topoisomerase, type IIA, su...  \n",
       "289  Sin_N; DNA-directed RNA polymerase III subunit...  \n",
       "290                 PCRF; Peptide chain release factor  \n",
       "291      RNA_pol_Rpb1_7; RNA polymerase Rpb1, domain 7  \n",
       "292                  DAO; FAD dependent oxidoreductase  \n",
       "\n",
       "[217 rows x 4 columns]"
      ]
     },
     "execution_count": 26,
     "metadata": {},
     "output_type": "execute_result"
    }
   ],
   "source": [
    "df_nsl_exclusive=pd.merge(df_sl,df_nsl,how='right',on='domain-number')\n",
    "\n",
    "domains_name=np.unique(data_domains['domain-name'])\n",
    "domains_description=np.unique(data_domains['domain-descrip'])\n",
    "\n",
    "df_nsl_exclusive['domain-description']=domains_description[df_nsl_exclusive['domain-number']]\n",
    "df_nsl_exclusive[pd.isnull(df_nsl_exclusive['pca-component_x'])]"
   ]
  },
  {
   "cell_type": "code",
   "execution_count": 27,
   "metadata": {
    "execution": {
     "iopub.execute_input": "2020-07-20T13:36:13.019139Z",
     "iopub.status.busy": "2020-07-20T13:36:13.018740Z",
     "iopub.status.idle": "2020-07-20T13:36:13.022365Z",
     "shell.execute_reply": "2020-07-20T13:36:13.022709Z"
    }
   },
   "outputs": [
    {
     "name": "stdout",
     "output_type": "stream",
     "text": [
      "The number of exclusive domains from non SL pairs, after PCA, is =  293 out of 545 so the 53.76146788990825 %\n"
     ]
    }
   ],
   "source": [
    "print('The number of exclusive domains from non SL pairs, after PCA, is = ',len(df_nsl_exclusive), 'out of', len(df_sl)+len(df_nsl), 'so the',100*len(df_nsl_exclusive)/(len(df_sl)+len(df_nsl)),'%')"
   ]
  },
  {
   "cell_type": "markdown",
   "metadata": {},
   "source": [
    "## Let see to the domains-number that get repeated after the PCA analysis , and selecting the most explanatory feature by its explained variance."
   ]
  },
  {
   "cell_type": "code",
   "execution_count": 28,
   "metadata": {
    "execution": {
     "iopub.execute_input": "2020-07-20T13:36:13.024270Z",
     "iopub.status.busy": "2020-07-20T13:36:13.023898Z",
     "iopub.status.idle": "2020-07-20T13:36:13.039963Z",
     "shell.execute_reply": "2020-07-20T13:36:13.040342Z"
    }
   },
   "outputs": [],
   "source": [
    "duplicated_features_sl=df_sl[df_sl.iloc[:,1].duplicated()]\n",
    "repeated_features_sl=pd.DataFrame()\n",
    "\n",
    "domains_name=np.unique(data_domains['domain-name'])\n",
    "domains_description=np.unique(data_domains['domain-descrip'])\n",
    "\n",
    "repeated_features_sl['domain-name']=domains_name[duplicated_features_sl.iloc[:,1]] \n",
    "repeated_features_sl['domain-description']=domains_description[duplicated_features_sl.iloc[:,1]]\n",
    "\n",
    "duplicated_features_nsl=df_nsl[df_nsl.iloc[:,1].duplicated()]\n",
    "repeated_features_nsl=pd.DataFrame()\n",
    "\n",
    "repeated_features_nsl['domain-name']=domains_name[duplicated_features_nsl.iloc[:,1]] \n",
    "repeated_features_nsl['domain-description']=domains_description[duplicated_features_nsl.iloc[:,1]]"
   ]
  },
  {
   "cell_type": "code",
   "execution_count": 29,
   "metadata": {
    "execution": {
     "iopub.execute_input": "2020-07-20T13:36:13.047049Z",
     "iopub.status.busy": "2020-07-20T13:36:13.046609Z",
     "iopub.status.idle": "2020-07-20T13:36:13.049769Z",
     "shell.execute_reply": "2020-07-20T13:36:13.050084Z"
    }
   },
   "outputs": [
    {
     "name": "stderr",
     "output_type": "stream",
     "text": [
      "/usr/share/miniconda3/envs/wintest/lib/python3.7/site-packages/ipykernel_launcher.py:3: SettingWithCopyWarning: \n",
      "A value is trying to be set on a copy of a slice from a DataFrame.\n",
      "Try using .loc[row_indexer,col_indexer] = value instead\n",
      "\n",
      "See the caveats in the documentation: https://pandas.pydata.org/pandas-docs/stable/user_guide/indexing.html#returning-a-view-versus-a-copy\n",
      "  This is separate from the ipykernel package so we can avoid doing imports until\n"
     ]
    },
    {
     "data": {
      "text/plain": [
       "((43, 4), (287, 4))"
      ]
     },
     "execution_count": 29,
     "metadata": {},
     "output_type": "execute_result"
    }
   ],
   "source": [
    "only_sl_pd=pd.merge(repeated_features_sl,repeated_features_nsl,how='left',on=['domain-name'])\n",
    "data_only_sl = only_sl_pd[pd.isnull(only_sl_pd['domain-description_y'])]\n",
    "data_only_sl['domain-description']=data_only_sl['domain-description_x']\n",
    "data_only_sl.shape,df_sl_exclusive.shape"
   ]
  },
  {
   "cell_type": "code",
   "execution_count": 30,
   "metadata": {
    "execution": {
     "iopub.execute_input": "2020-07-20T13:36:13.063674Z",
     "iopub.status.busy": "2020-07-20T13:36:13.063263Z",
     "iopub.status.idle": "2020-07-20T13:36:13.066595Z",
     "shell.execute_reply": "2020-07-20T13:36:13.066228Z"
    }
   },
   "outputs": [
    {
     "data": {
      "text/html": [
       "<div>\n",
       "<style scoped>\n",
       "    .dataframe tbody tr th:only-of-type {\n",
       "        vertical-align: middle;\n",
       "    }\n",
       "\n",
       "    .dataframe tbody tr th {\n",
       "        vertical-align: top;\n",
       "    }\n",
       "\n",
       "    .dataframe thead th {\n",
       "        text-align: right;\n",
       "    }\n",
       "</style>\n",
       "<table border=\"1\" class=\"dataframe\">\n",
       "  <thead>\n",
       "    <tr style=\"text-align: right;\">\n",
       "      <th></th>\n",
       "      <th>domain-name</th>\n",
       "      <th>domain-description_x</th>\n",
       "      <th>domain-description_y</th>\n",
       "    </tr>\n",
       "  </thead>\n",
       "  <tbody>\n",
       "    <tr>\n",
       "      <th>5</th>\n",
       "      <td>PF01321</td>\n",
       "      <td>NaN</td>\n",
       "      <td>DKCLD; Dyskerin-like</td>\n",
       "    </tr>\n",
       "    <tr>\n",
       "      <th>6</th>\n",
       "      <td>PF02181</td>\n",
       "      <td>NaN</td>\n",
       "      <td>Ecl1; Life-span regulatory factor</td>\n",
       "    </tr>\n",
       "    <tr>\n",
       "      <th>7</th>\n",
       "      <td>PF08647</td>\n",
       "      <td>NaN</td>\n",
       "      <td>RNA_pol_L_2; DNA-directed RNA polymerase, RBP1...</td>\n",
       "    </tr>\n",
       "    <tr>\n",
       "      <th>8</th>\n",
       "      <td>PF01853</td>\n",
       "      <td>NaN</td>\n",
       "      <td>Dopey_N; Dopey, N-terminal</td>\n",
       "    </tr>\n",
       "    <tr>\n",
       "      <th>9</th>\n",
       "      <td>PF05390</td>\n",
       "      <td>NaN</td>\n",
       "      <td>NAD_kinase; NAD kinase</td>\n",
       "    </tr>\n",
       "    <tr>\n",
       "      <th>10</th>\n",
       "      <td>PF12550</td>\n",
       "      <td>NaN</td>\n",
       "      <td>Sortilin-Vps10; Sortilin, N-terminal</td>\n",
       "    </tr>\n",
       "    <tr>\n",
       "      <th>11</th>\n",
       "      <td>PF00063</td>\n",
       "      <td>NaN</td>\n",
       "      <td>AAA_5; ATPase, dynein-related, AAA domain</td>\n",
       "    </tr>\n",
       "    <tr>\n",
       "      <th>12</th>\n",
       "      <td>PF00075</td>\n",
       "      <td>NaN</td>\n",
       "      <td>AAA_assoc_2; AAA C-terminal domain</td>\n",
       "    </tr>\n",
       "    <tr>\n",
       "      <th>13</th>\n",
       "      <td>PF02364</td>\n",
       "      <td>NaN</td>\n",
       "      <td>FDX-ACB; Ferrodoxin-fold anticodon-binding domain</td>\n",
       "    </tr>\n",
       "    <tr>\n",
       "      <th>14</th>\n",
       "      <td>PF02752</td>\n",
       "      <td>NaN</td>\n",
       "      <td>Fumble; Type II pantothenate kinase</td>\n",
       "    </tr>\n",
       "    <tr>\n",
       "      <th>15</th>\n",
       "      <td>PF09174</td>\n",
       "      <td>NaN</td>\n",
       "      <td>RVT_1; Reverse transcriptase domain</td>\n",
       "    </tr>\n",
       "    <tr>\n",
       "      <th>16</th>\n",
       "      <td>PF00012</td>\n",
       "      <td>NaN</td>\n",
       "      <td>2OG-FeII_Oxy_4</td>\n",
       "    </tr>\n",
       "    <tr>\n",
       "      <th>17</th>\n",
       "      <td>PF01000</td>\n",
       "      <td>NaN</td>\n",
       "      <td>Cdc6_C; Cdc6, C-terminal</td>\n",
       "    </tr>\n",
       "    <tr>\n",
       "      <th>18</th>\n",
       "      <td>PF08690</td>\n",
       "      <td>NaN</td>\n",
       "      <td>RNA_pol_Rpb2_7; RNA polymerase Rpb2, domain 7</td>\n",
       "    </tr>\n",
       "    <tr>\n",
       "      <th>19</th>\n",
       "      <td>PF09444</td>\n",
       "      <td>NaN</td>\n",
       "      <td>Rer1; Retrieval of early ER protein Rer1</td>\n",
       "    </tr>\n",
       "    <tr>\n",
       "      <th>20</th>\n",
       "      <td>PF02548</td>\n",
       "      <td>NaN</td>\n",
       "      <td>FeS_assembly_P; MIP18 family-like</td>\n",
       "    </tr>\n",
       "    <tr>\n",
       "      <th>21</th>\n",
       "      <td>PF08118</td>\n",
       "      <td>NaN</td>\n",
       "      <td>PRKCSH_1; Mannose-6-phosphate receptor binding...</td>\n",
       "    </tr>\n",
       "    <tr>\n",
       "      <th>22</th>\n",
       "      <td>PF00250</td>\n",
       "      <td>NaN</td>\n",
       "      <td>ATP-synt_A; ATP synthase, F0 complex, subunit A</td>\n",
       "    </tr>\n",
       "    <tr>\n",
       "      <th>23</th>\n",
       "      <td>PF04478</td>\n",
       "      <td>NaN</td>\n",
       "      <td>MCM_OB; MCM OB domain</td>\n",
       "    </tr>\n",
       "    <tr>\n",
       "      <th>24</th>\n",
       "      <td>PF00660</td>\n",
       "      <td>NaN</td>\n",
       "      <td>CDC13_N; Cell division control protein 13, N-t...</td>\n",
       "    </tr>\n",
       "    <tr>\n",
       "      <th>25</th>\n",
       "      <td>PF00660</td>\n",
       "      <td>NaN</td>\n",
       "      <td>CDC13_N; Cell division control protein 13, N-t...</td>\n",
       "    </tr>\n",
       "    <tr>\n",
       "      <th>26</th>\n",
       "      <td>PF01199</td>\n",
       "      <td>NaN</td>\n",
       "      <td>Cytochrom_B_C; Cytochrome b/b6, C-terminal</td>\n",
       "    </tr>\n",
       "    <tr>\n",
       "      <th>27</th>\n",
       "      <td>PF01115</td>\n",
       "      <td>NaN</td>\n",
       "      <td>CoaE; Dephospho-CoA kinase</td>\n",
       "    </tr>\n",
       "    <tr>\n",
       "      <th>28</th>\n",
       "      <td>PF01028</td>\n",
       "      <td>NaN</td>\n",
       "      <td>Chitin_synth_1N; Chitin synthase N-terminal</td>\n",
       "    </tr>\n",
       "    <tr>\n",
       "      <th>29</th>\n",
       "      <td>PF03179</td>\n",
       "      <td>NaN</td>\n",
       "      <td>Glycogen_syn; Glycogen synthase</td>\n",
       "    </tr>\n",
       "    <tr>\n",
       "      <th>30</th>\n",
       "      <td>PF01159</td>\n",
       "      <td>NaN</td>\n",
       "      <td>Csm1; Monopolin complex, subunit Csm1/Pcs1</td>\n",
       "    </tr>\n",
       "    <tr>\n",
       "      <th>31</th>\n",
       "      <td>PF01159</td>\n",
       "      <td>NaN</td>\n",
       "      <td>Csm1; Monopolin complex, subunit Csm1/Pcs1</td>\n",
       "    </tr>\n",
       "    <tr>\n",
       "      <th>32</th>\n",
       "      <td>PF09797</td>\n",
       "      <td>NaN</td>\n",
       "      <td>Ribosomal_L23eN; Ribosomal protein L23/L25, N-...</td>\n",
       "    </tr>\n",
       "    <tr>\n",
       "      <th>33</th>\n",
       "      <td>PF13041</td>\n",
       "      <td>NaN</td>\n",
       "      <td>THF_DHG_CYH_C; Tetrahydrofolate dehydrogenase/...</td>\n",
       "    </tr>\n",
       "    <tr>\n",
       "      <th>34</th>\n",
       "      <td>PF16679</td>\n",
       "      <td>NaN</td>\n",
       "      <td>eIF3_p135; CLU central domain</td>\n",
       "    </tr>\n",
       "    <tr>\n",
       "      <th>35</th>\n",
       "      <td>PF02845</td>\n",
       "      <td>NaN</td>\n",
       "      <td>GFD1</td>\n",
       "    </tr>\n",
       "    <tr>\n",
       "      <th>36</th>\n",
       "      <td>PF04127</td>\n",
       "      <td>NaN</td>\n",
       "      <td>LIM_bind</td>\n",
       "    </tr>\n",
       "    <tr>\n",
       "      <th>37</th>\n",
       "      <td>PF00026</td>\n",
       "      <td>NaN</td>\n",
       "      <td>60KD_IMP; Membrane insertase OXA1/ALB3/YidC</td>\n",
       "    </tr>\n",
       "    <tr>\n",
       "      <th>38</th>\n",
       "      <td>PF03297</td>\n",
       "      <td>NaN</td>\n",
       "      <td>Guanylate_cyc; Adenylyl cyclase class-3/4/guan...</td>\n",
       "    </tr>\n",
       "    <tr>\n",
       "      <th>39</th>\n",
       "      <td>PF14615</td>\n",
       "      <td>NaN</td>\n",
       "      <td>USP7_C2; Ubiquitin carboxyl-terminal hydrolase...</td>\n",
       "    </tr>\n",
       "    <tr>\n",
       "      <th>40</th>\n",
       "      <td>PF02213</td>\n",
       "      <td>NaN</td>\n",
       "      <td>Erf4; Golgin subfamily A member 7/ERF4</td>\n",
       "    </tr>\n",
       "    <tr>\n",
       "      <th>41</th>\n",
       "      <td>PF12814</td>\n",
       "      <td>NaN</td>\n",
       "      <td>TAF4; Transcription initiation factor TFIID co...</td>\n",
       "    </tr>\n",
       "    <tr>\n",
       "      <th>42</th>\n",
       "      <td>PF03800</td>\n",
       "      <td>NaN</td>\n",
       "      <td>HisG_C; Histidine biosynthesis HisG, C-terminal</td>\n",
       "    </tr>\n",
       "    <tr>\n",
       "      <th>43</th>\n",
       "      <td>PF00164</td>\n",
       "      <td>NaN</td>\n",
       "      <td>ALIX_LYPXL_bnd; ALIX V-shaped domain</td>\n",
       "    </tr>\n",
       "    <tr>\n",
       "      <th>44</th>\n",
       "      <td>PF04857</td>\n",
       "      <td>NaN</td>\n",
       "      <td>Med16; Mediator complex, subunit Med16</td>\n",
       "    </tr>\n",
       "    <tr>\n",
       "      <th>45</th>\n",
       "      <td>PF04857</td>\n",
       "      <td>NaN</td>\n",
       "      <td>Med16; Mediator complex, subunit Med16</td>\n",
       "    </tr>\n",
       "    <tr>\n",
       "      <th>46</th>\n",
       "      <td>PF09696</td>\n",
       "      <td>NaN</td>\n",
       "      <td>Ribosom_S12_S23; Ribosomal protein S12/S23</td>\n",
       "    </tr>\n",
       "    <tr>\n",
       "      <th>47</th>\n",
       "      <td>PF00268</td>\n",
       "      <td>NaN</td>\n",
       "      <td>ATP-synt_ab; ATPase, F1/V1/A1 complex, alpha/b...</td>\n",
       "    </tr>\n",
       "    <tr>\n",
       "      <th>48</th>\n",
       "      <td>PF15365</td>\n",
       "      <td>NaN</td>\n",
       "      <td>Vma12; ATPase, vacuolar ER assembly factor, Vma12</td>\n",
       "    </tr>\n",
       "    <tr>\n",
       "      <th>49</th>\n",
       "      <td>PF09340</td>\n",
       "      <td>NaN</td>\n",
       "      <td>Raptor_N; Raptor, N-terminal CASPase-like domain</td>\n",
       "    </tr>\n",
       "    <tr>\n",
       "      <th>50</th>\n",
       "      <td>PF09340</td>\n",
       "      <td>NaN</td>\n",
       "      <td>Raptor_N; Raptor, N-terminal CASPase-like domain</td>\n",
       "    </tr>\n",
       "    <tr>\n",
       "      <th>51</th>\n",
       "      <td>PF01423</td>\n",
       "      <td>NaN</td>\n",
       "      <td>DNA_topoisoIV; DNA topoisomerase, type IIA, su...</td>\n",
       "    </tr>\n",
       "    <tr>\n",
       "      <th>52</th>\n",
       "      <td>PF11976</td>\n",
       "      <td>NaN</td>\n",
       "      <td>Sec20</td>\n",
       "    </tr>\n",
       "  </tbody>\n",
       "</table>\n",
       "</div>"
      ],
      "text/plain": [
       "   domain-name domain-description_x  \\\n",
       "5      PF01321                  NaN   \n",
       "6      PF02181                  NaN   \n",
       "7      PF08647                  NaN   \n",
       "8      PF01853                  NaN   \n",
       "9      PF05390                  NaN   \n",
       "10     PF12550                  NaN   \n",
       "11     PF00063                  NaN   \n",
       "12     PF00075                  NaN   \n",
       "13     PF02364                  NaN   \n",
       "14     PF02752                  NaN   \n",
       "15     PF09174                  NaN   \n",
       "16     PF00012                  NaN   \n",
       "17     PF01000                  NaN   \n",
       "18     PF08690                  NaN   \n",
       "19     PF09444                  NaN   \n",
       "20     PF02548                  NaN   \n",
       "21     PF08118                  NaN   \n",
       "22     PF00250                  NaN   \n",
       "23     PF04478                  NaN   \n",
       "24     PF00660                  NaN   \n",
       "25     PF00660                  NaN   \n",
       "26     PF01199                  NaN   \n",
       "27     PF01115                  NaN   \n",
       "28     PF01028                  NaN   \n",
       "29     PF03179                  NaN   \n",
       "30     PF01159                  NaN   \n",
       "31     PF01159                  NaN   \n",
       "32     PF09797                  NaN   \n",
       "33     PF13041                  NaN   \n",
       "34     PF16679                  NaN   \n",
       "35     PF02845                  NaN   \n",
       "36     PF04127                  NaN   \n",
       "37     PF00026                  NaN   \n",
       "38     PF03297                  NaN   \n",
       "39     PF14615                  NaN   \n",
       "40     PF02213                  NaN   \n",
       "41     PF12814                  NaN   \n",
       "42     PF03800                  NaN   \n",
       "43     PF00164                  NaN   \n",
       "44     PF04857                  NaN   \n",
       "45     PF04857                  NaN   \n",
       "46     PF09696                  NaN   \n",
       "47     PF00268                  NaN   \n",
       "48     PF15365                  NaN   \n",
       "49     PF09340                  NaN   \n",
       "50     PF09340                  NaN   \n",
       "51     PF01423                  NaN   \n",
       "52     PF11976                  NaN   \n",
       "\n",
       "                                 domain-description_y  \n",
       "5                                DKCLD; Dyskerin-like  \n",
       "6                   Ecl1; Life-span regulatory factor  \n",
       "7   RNA_pol_L_2; DNA-directed RNA polymerase, RBP1...  \n",
       "8                          Dopey_N; Dopey, N-terminal  \n",
       "9                              NAD_kinase; NAD kinase  \n",
       "10               Sortilin-Vps10; Sortilin, N-terminal  \n",
       "11          AAA_5; ATPase, dynein-related, AAA domain  \n",
       "12                 AAA_assoc_2; AAA C-terminal domain  \n",
       "13  FDX-ACB; Ferrodoxin-fold anticodon-binding domain  \n",
       "14                Fumble; Type II pantothenate kinase  \n",
       "15                RVT_1; Reverse transcriptase domain  \n",
       "16                                     2OG-FeII_Oxy_4  \n",
       "17                           Cdc6_C; Cdc6, C-terminal  \n",
       "18      RNA_pol_Rpb2_7; RNA polymerase Rpb2, domain 7  \n",
       "19           Rer1; Retrieval of early ER protein Rer1  \n",
       "20                  FeS_assembly_P; MIP18 family-like  \n",
       "21  PRKCSH_1; Mannose-6-phosphate receptor binding...  \n",
       "22    ATP-synt_A; ATP synthase, F0 complex, subunit A  \n",
       "23                              MCM_OB; MCM OB domain  \n",
       "24  CDC13_N; Cell division control protein 13, N-t...  \n",
       "25  CDC13_N; Cell division control protein 13, N-t...  \n",
       "26         Cytochrom_B_C; Cytochrome b/b6, C-terminal  \n",
       "27                         CoaE; Dephospho-CoA kinase  \n",
       "28        Chitin_synth_1N; Chitin synthase N-terminal  \n",
       "29                    Glycogen_syn; Glycogen synthase  \n",
       "30         Csm1; Monopolin complex, subunit Csm1/Pcs1  \n",
       "31         Csm1; Monopolin complex, subunit Csm1/Pcs1  \n",
       "32  Ribosomal_L23eN; Ribosomal protein L23/L25, N-...  \n",
       "33  THF_DHG_CYH_C; Tetrahydrofolate dehydrogenase/...  \n",
       "34                      eIF3_p135; CLU central domain  \n",
       "35                                               GFD1  \n",
       "36                                           LIM_bind  \n",
       "37        60KD_IMP; Membrane insertase OXA1/ALB3/YidC  \n",
       "38  Guanylate_cyc; Adenylyl cyclase class-3/4/guan...  \n",
       "39  USP7_C2; Ubiquitin carboxyl-terminal hydrolase...  \n",
       "40             Erf4; Golgin subfamily A member 7/ERF4  \n",
       "41  TAF4; Transcription initiation factor TFIID co...  \n",
       "42    HisG_C; Histidine biosynthesis HisG, C-terminal  \n",
       "43               ALIX_LYPXL_bnd; ALIX V-shaped domain  \n",
       "44             Med16; Mediator complex, subunit Med16  \n",
       "45             Med16; Mediator complex, subunit Med16  \n",
       "46         Ribosom_S12_S23; Ribosomal protein S12/S23  \n",
       "47  ATP-synt_ab; ATPase, F1/V1/A1 complex, alpha/b...  \n",
       "48  Vma12; ATPase, vacuolar ER assembly factor, Vma12  \n",
       "49   Raptor_N; Raptor, N-terminal CASPase-like domain  \n",
       "50   Raptor_N; Raptor, N-terminal CASPase-like domain  \n",
       "51  DNA_topoisoIV; DNA topoisomerase, type IIA, su...  \n",
       "52                                              Sec20  "
      ]
     },
     "execution_count": 30,
     "metadata": {},
     "output_type": "execute_result"
    }
   ],
   "source": [
    "only_nsl_pd=pd.merge(repeated_features_sl,repeated_features_nsl,how='right',on=['domain-name'])\n",
    "data_only_nsl = only_nsl_pd[pd.isnull(only_nsl_pd['domain-description_x'])]\n",
    "data_only_nsl"
   ]
  },
  {
   "cell_type": "code",
   "execution_count": 31,
   "metadata": {
    "execution": {
     "iopub.execute_input": "2020-07-20T13:36:13.075379Z",
     "iopub.status.busy": "2020-07-20T13:36:13.075004Z",
     "iopub.status.idle": "2020-07-20T13:36:13.076939Z",
     "shell.execute_reply": "2020-07-20T13:36:13.077225Z"
    }
   },
   "outputs": [
    {
     "data": {
      "text/html": [
       "<div>\n",
       "<style scoped>\n",
       "    .dataframe tbody tr th:only-of-type {\n",
       "        vertical-align: middle;\n",
       "    }\n",
       "\n",
       "    .dataframe tbody tr th {\n",
       "        vertical-align: top;\n",
       "    }\n",
       "\n",
       "    .dataframe thead th {\n",
       "        text-align: right;\n",
       "    }\n",
       "</style>\n",
       "<table border=\"1\" class=\"dataframe\">\n",
       "  <thead>\n",
       "    <tr style=\"text-align: right;\">\n",
       "      <th></th>\n",
       "      <th>domain-name</th>\n",
       "      <th>domain-description_x</th>\n",
       "      <th>domain-description_y</th>\n",
       "    </tr>\n",
       "  </thead>\n",
       "  <tbody>\n",
       "    <tr>\n",
       "      <th>0</th>\n",
       "      <td>PF09346</td>\n",
       "      <td>RasGAP; Ras GTPase-activating protein</td>\n",
       "      <td>RasGAP; Ras GTPase-activating protein</td>\n",
       "    </tr>\n",
       "    <tr>\n",
       "      <th>1</th>\n",
       "      <td>PF09346</td>\n",
       "      <td>RasGAP; Ras GTPase-activating protein</td>\n",
       "      <td>RasGAP; Ras GTPase-activating protein</td>\n",
       "    </tr>\n",
       "    <tr>\n",
       "      <th>2</th>\n",
       "      <td>PF05172</td>\n",
       "      <td>Mnd1; Meiotic nuclear division protein 1</td>\n",
       "      <td>Mnd1; Meiotic nuclear division protein 1</td>\n",
       "    </tr>\n",
       "    <tr>\n",
       "      <th>3</th>\n",
       "      <td>PF05172</td>\n",
       "      <td>Mnd1; Meiotic nuclear division protein 1</td>\n",
       "      <td>Mnd1; Meiotic nuclear division protein 1</td>\n",
       "    </tr>\n",
       "    <tr>\n",
       "      <th>4</th>\n",
       "      <td>PF05160</td>\n",
       "      <td>MmgE_PrpD; MmgE/PrpD</td>\n",
       "      <td>MmgE_PrpD; MmgE/PrpD</td>\n",
       "    </tr>\n",
       "  </tbody>\n",
       "</table>\n",
       "</div>"
      ],
      "text/plain": [
       "  domain-name                      domain-description_x  \\\n",
       "0     PF09346     RasGAP; Ras GTPase-activating protein   \n",
       "1     PF09346     RasGAP; Ras GTPase-activating protein   \n",
       "2     PF05172  Mnd1; Meiotic nuclear division protein 1   \n",
       "3     PF05172  Mnd1; Meiotic nuclear division protein 1   \n",
       "4     PF05160                      MmgE_PrpD; MmgE/PrpD   \n",
       "\n",
       "                       domain-description_y  \n",
       "0     RasGAP; Ras GTPase-activating protein  \n",
       "1     RasGAP; Ras GTPase-activating protein  \n",
       "2  Mnd1; Meiotic nuclear division protein 1  \n",
       "3  Mnd1; Meiotic nuclear division protein 1  \n",
       "4                      MmgE_PrpD; MmgE/PrpD  "
      ]
     },
     "execution_count": 31,
     "metadata": {},
     "output_type": "execute_result"
    }
   ],
   "source": [
    "shared_domains_pd=pd.merge(repeated_features_sl,repeated_features_nsl,how='inner',on=['domain-name'])\n",
    "shared_domains_pd\n"
   ]
  },
  {
   "cell_type": "code",
   "execution_count": 32,
   "metadata": {
    "execution": {
     "iopub.execute_input": "2020-07-20T13:36:13.083472Z",
     "iopub.status.busy": "2020-07-20T13:36:13.082937Z",
     "iopub.status.idle": "2020-07-20T13:36:14.097362Z",
     "shell.execute_reply": "2020-07-20T13:36:14.096977Z"
    }
   },
   "outputs": [
    {
     "data": {
      "text/plain": [
       "(0.0, 0.2)"
      ]
     },
     "execution_count": 32,
     "metadata": {},
     "output_type": "execute_result"
    },
    {
     "data": {
      "image/png": "[encoded data removed]",
      "text/plain": [
       "<Figure size 432x288 with 1 Axes>"
      ]
     },
     "metadata": {
      "filenames": {
       "image/png": "/home/runner/work/jupyter-book/jupyter-book/mini_book/docs/_build/jupyter_execute/prot_domains2lethality-FEATURES-POSTPROCESSING_47_1.png"
      },
      "needs_background": "light"
     },
     "output_type": "display_data"
    }
   ],
   "source": [
    "a_sl=x_sl.iloc[:,np.sort(df_sl.iloc[:,1])]\n",
    "a_sl.describe().loc['mean'].hist(bins=8),\n",
    "a_sl.describe().loc['std'].hist(bins=8,alpha=0.4)\n",
    "plt.xlim([0,0.2])"
   ]
  },
  {
   "cell_type": "code",
   "execution_count": 33,
   "metadata": {
    "execution": {
     "iopub.execute_input": "2020-07-20T13:36:14.108527Z",
     "iopub.status.busy": "2020-07-20T13:36:14.104237Z",
     "iopub.status.idle": "2020-07-20T13:36:15.147888Z",
     "shell.execute_reply": "2020-07-20T13:36:15.147318Z"
    }
   },
   "outputs": [
    {
     "data": {
      "text/plain": [
       "(0.0, 0.2)"
      ]
     },
     "execution_count": 33,
     "metadata": {},
     "output_type": "execute_result"
    },
    {
     "data": {
      "image/png": "[encoded data removed]",
      "text/plain": [
       "<Figure size 432x288 with 1 Axes>"
      ]
     },
     "metadata": {
      "filenames": {
       "image/png": "/home/runner/work/jupyter-book/jupyter-book/mini_book/docs/_build/jupyter_execute/prot_domains2lethality-FEATURES-POSTPROCESSING_48_1.png"
      },
      "needs_background": "light"
     },
     "output_type": "display_data"
    }
   ],
   "source": [
    "a_nsl=x_nsl.iloc[:,np.sort(df_nsl.iloc[:,1])]\n",
    "a_nsl.describe().loc['mean'].hist(bins=8),\n",
    "a_nsl.describe().loc['std'].hist(bins=8,alpha=0.4)\n",
    "plt.xlim([0,0.2])"
   ]
  },
  {
   "cell_type": "markdown",
   "metadata": {},
   "source": [
    "### Proof of concept with *BEM1*\n",
    "\n",
    "- Gather the domains of SL and nSL pairs from BEM1\n",
    "- Check if the domains for the SL and nSL pairs are inside the most important domains after PCA."
   ]
  },
  {
   "cell_type": "code",
   "execution_count": 34,
   "metadata": {
    "execution": {
     "iopub.execute_input": "2020-07-20T13:36:15.154007Z",
     "iopub.status.busy": "2020-07-20T13:36:15.153592Z",
     "iopub.status.idle": "2020-07-20T13:36:15.156689Z",
     "shell.execute_reply": "2020-07-20T13:36:15.157212Z"
    }
   },
   "outputs": [],
   "source": [
    "domains_bem1=data_domains[data_domains['name']=='BEM1']['domain-descrip']\n",
    "sl_bem1=data_sl[data_sl['gene-query-name']=='BEM1']['gene-target-name']"
   ]
  },
  {
   "cell_type": "code",
   "execution_count": 35,
   "metadata": {
    "execution": {
     "iopub.execute_input": "2020-07-20T13:36:15.160764Z",
     "iopub.status.busy": "2020-07-20T13:36:15.160354Z",
     "iopub.status.idle": "2020-07-20T13:36:15.164497Z",
     "shell.execute_reply": "2020-07-20T13:36:15.164985Z"
    }
   },
   "outputs": [
    {
     "data": {
      "text/plain": [
       "2846      BEM2\n",
       "2847     CDC24\n",
       "5004      MSB1\n",
       "13777     SMI1\n",
       "13778     BNI1\n",
       "13779     BEM2\n",
       "14385     SKN7\n",
       "Name: gene-target-name, dtype: object"
      ]
     },
     "execution_count": 35,
     "metadata": {},
     "output_type": "execute_result"
    }
   ],
   "source": [
    "sl_bem1"
   ]
  },
  {
   "cell_type": "code",
   "execution_count": 36,
   "metadata": {
    "execution": {
     "iopub.execute_input": "2020-07-20T13:36:15.175504Z",
     "iopub.status.busy": "2020-07-20T13:36:15.175149Z",
     "iopub.status.idle": "2020-07-20T13:36:15.179497Z",
     "shell.execute_reply": "2020-07-20T13:36:15.178948Z"
    }
   },
   "outputs": [
    {
     "data": {
      "text/html": [
       "<div>\n",
       "<style scoped>\n",
       "    .dataframe tbody tr th:only-of-type {\n",
       "        vertical-align: middle;\n",
       "    }\n",
       "\n",
       "    .dataframe tbody tr th {\n",
       "        vertical-align: top;\n",
       "    }\n",
       "\n",
       "    .dataframe thead th {\n",
       "        text-align: right;\n",
       "    }\n",
       "</style>\n",
       "<table border=\"1\" class=\"dataframe\">\n",
       "  <thead>\n",
       "    <tr style=\"text-align: right;\">\n",
       "      <th></th>\n",
       "      <th>gene-query</th>\n",
       "      <th>gene-target</th>\n",
       "      <th>gene-query-name</th>\n",
       "      <th>gene-target-name</th>\n",
       "      <th>gene-query-description</th>\n",
       "      <th>gene-target-description</th>\n",
       "      <th>interaction-type</th>\n",
       "      <th>paper-source</th>\n",
       "    </tr>\n",
       "  </thead>\n",
       "  <tbody>\n",
       "    <tr>\n",
       "      <th>2846</th>\n",
       "      <td>YBR200W</td>\n",
       "      <td>YER155C</td>\n",
       "      <td>BEM1</td>\n",
       "      <td>BEM2</td>\n",
       "      <td>SRO1|phosphatidylinositol-3-phosphate-binding ...</td>\n",
       "      <td>IPL2|SUP9|TSL1|L000000168</td>\n",
       "      <td>Synthetic Lethality</td>\n",
       "      <td>Peterson J (1994)</td>\n",
       "    </tr>\n",
       "    <tr>\n",
       "      <th>2847</th>\n",
       "      <td>YBR200W</td>\n",
       "      <td>YAL041W</td>\n",
       "      <td>BEM1</td>\n",
       "      <td>CDC24</td>\n",
       "      <td>SRO1|phosphatidylinositol-3-phosphate-binding ...</td>\n",
       "      <td>CLS4|Rho family guanine nucleotide exchange fa...</td>\n",
       "      <td>Synthetic Lethality</td>\n",
       "      <td>Peterson J (1994)</td>\n",
       "    </tr>\n",
       "    <tr>\n",
       "      <th>5004</th>\n",
       "      <td>YBR200W</td>\n",
       "      <td>YOR188W</td>\n",
       "      <td>BEM1</td>\n",
       "      <td>MSB1</td>\n",
       "      <td>SRO1|phosphatidylinositol-3-phosphate-binding ...</td>\n",
       "      <td>L000001184</td>\n",
       "      <td>Synthetic Lethality</td>\n",
       "      <td>Bender A (1991)</td>\n",
       "    </tr>\n",
       "    <tr>\n",
       "      <th>13777</th>\n",
       "      <td>YBR200W</td>\n",
       "      <td>YGR229C</td>\n",
       "      <td>BEM1</td>\n",
       "      <td>SMI1</td>\n",
       "      <td>SRO1|phosphatidylinositol-3-phosphate-binding ...</td>\n",
       "      <td>KNR4|L000000909</td>\n",
       "      <td>Synthetic Lethality</td>\n",
       "      <td>Gorelik M (2011)</td>\n",
       "    </tr>\n",
       "    <tr>\n",
       "      <th>13778</th>\n",
       "      <td>YBR200W</td>\n",
       "      <td>YNL271C</td>\n",
       "      <td>BEM1</td>\n",
       "      <td>BNI1</td>\n",
       "      <td>SRO1|phosphatidylinositol-3-phosphate-binding ...</td>\n",
       "      <td>PPF3|SHE5|formin BNI1|L000000190</td>\n",
       "      <td>Synthetic Lethality</td>\n",
       "      <td>Gorelik M (2011)</td>\n",
       "    </tr>\n",
       "    <tr>\n",
       "      <th>13779</th>\n",
       "      <td>YBR200W</td>\n",
       "      <td>YER155C</td>\n",
       "      <td>BEM1</td>\n",
       "      <td>BEM2</td>\n",
       "      <td>SRO1|phosphatidylinositol-3-phosphate-binding ...</td>\n",
       "      <td>IPL2|SUP9|TSL1|L000000168</td>\n",
       "      <td>Synthetic Lethality</td>\n",
       "      <td>Gorelik M (2011)</td>\n",
       "    </tr>\n",
       "    <tr>\n",
       "      <th>14385</th>\n",
       "      <td>YBR200W</td>\n",
       "      <td>YHR206W</td>\n",
       "      <td>BEM1</td>\n",
       "      <td>SKN7</td>\n",
       "      <td>SRO1|phosphatidylinositol-3-phosphate-binding ...</td>\n",
       "      <td>BRY1|POS9|kinase-regulated stress-responsive t...</td>\n",
       "      <td>Dosage Lethality</td>\n",
       "      <td>Bouquin N (1999)</td>\n",
       "    </tr>\n",
       "  </tbody>\n",
       "</table>\n",
       "</div>"
      ],
      "text/plain": [
       "      gene-query gene-target gene-query-name gene-target-name  \\\n",
       "2846     YBR200W     YER155C            BEM1             BEM2   \n",
       "2847     YBR200W     YAL041W            BEM1            CDC24   \n",
       "5004     YBR200W     YOR188W            BEM1             MSB1   \n",
       "13777    YBR200W     YGR229C            BEM1             SMI1   \n",
       "13778    YBR200W     YNL271C            BEM1             BNI1   \n",
       "13779    YBR200W     YER155C            BEM1             BEM2   \n",
       "14385    YBR200W     YHR206W            BEM1             SKN7   \n",
       "\n",
       "                                  gene-query-description  \\\n",
       "2846   SRO1|phosphatidylinositol-3-phosphate-binding ...   \n",
       "2847   SRO1|phosphatidylinositol-3-phosphate-binding ...   \n",
       "5004   SRO1|phosphatidylinositol-3-phosphate-binding ...   \n",
       "13777  SRO1|phosphatidylinositol-3-phosphate-binding ...   \n",
       "13778  SRO1|phosphatidylinositol-3-phosphate-binding ...   \n",
       "13779  SRO1|phosphatidylinositol-3-phosphate-binding ...   \n",
       "14385  SRO1|phosphatidylinositol-3-phosphate-binding ...   \n",
       "\n",
       "                                 gene-target-description     interaction-type  \\\n",
       "2846                           IPL2|SUP9|TSL1|L000000168  Synthetic Lethality   \n",
       "2847   CLS4|Rho family guanine nucleotide exchange fa...  Synthetic Lethality   \n",
       "5004                                          L000001184  Synthetic Lethality   \n",
       "13777                                    KNR4|L000000909  Synthetic Lethality   \n",
       "13778                   PPF3|SHE5|formin BNI1|L000000190  Synthetic Lethality   \n",
       "13779                          IPL2|SUP9|TSL1|L000000168  Synthetic Lethality   \n",
       "14385  BRY1|POS9|kinase-regulated stress-responsive t...     Dosage Lethality   \n",
       "\n",
       "            paper-source  \n",
       "2846   Peterson J (1994)  \n",
       "2847   Peterson J (1994)  \n",
       "5004     Bender A (1991)  \n",
       "13777   Gorelik M (2011)  \n",
       "13778   Gorelik M (2011)  \n",
       "13779   Gorelik M (2011)  \n",
       "14385   Bouquin N (1999)  "
      ]
     },
     "execution_count": 36,
     "metadata": {},
     "output_type": "execute_result"
    }
   ],
   "source": [
    "data_sl[data_sl['gene-query-name']=='BEM1']"
   ]
  },
  {
   "cell_type": "code",
   "execution_count": null,
   "metadata": {},
   "outputs": [],
   "source": []
  }
 ],
 "metadata": {
  "jupytext": {
   "text_representation": {
    "extension": ".md",
    "format_name": "myst"
   }
  },
  "kernelspec": {
   "display_name": "Python 3",
   "language": "python",
   "name": "python3"
  },
  "language_info": {
   "codemirror_mode": {
    "name": "ipython",
    "version": 3
   },
   "file_extension": ".py",
   "mimetype": "text/x-python",
   "name": "python",
   "nbconvert_exporter": "python",
   "pygments_lexer": "ipython3",
   "version": "3.7.6"
  },
  "source_map": [
   10,
   18,
   29,
   36,
   57,
   66,
   98,
   101,
   105,
   128,
   131,
   135,
   139,
   145,
   178,
   184,
   188,
   206,
   210,
   218,
   222,
   225,
   229,
   234,
   238,
   244,
   248,
   253,
   257,
   267,
   269,
   273,
   306,
   311,
   313,
   317,
   328,
   330,
   334,
   344,
   348,
   358,
   360,
   364,
   381,
   388,
   394,
   400,
   407,
   412,
   419,
   424,
   428,
   432
  ]
 },
 "nbformat": 4,
 "nbformat_minor": 4
}