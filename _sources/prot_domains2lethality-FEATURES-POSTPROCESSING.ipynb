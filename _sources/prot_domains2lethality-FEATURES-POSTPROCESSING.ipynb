{
 "cells": [
  {
   "cell_type": "markdown",
   "metadata": {},
   "source": [
    "# Feature postprocessing from paper.\n",
    "- Title:  \"Predicting yeast synthetic lethal genetic interactions using protein domains\"\n",
    "- Authors: Bo Li, Feng Luo,School of Computing,Clemson University,Clemson, SC, USA\n",
    "- e-mail: bol, luofeng@clemson.edu\n",
    "- year:2009"
   ]
  },
  {
   "cell_type": "code",
   "execution_count": 1,
   "metadata": {
    "execution": {
     "iopub.execute_input": "2020-08-13T15:43:32.384895Z",
     "iopub.status.busy": "2020-08-13T15:43:32.384269Z",
     "iopub.status.idle": "2020-08-13T15:43:33.212617Z",
     "shell.execute_reply": "2020-08-13T15:43:33.213100Z"
    }
   },
   "outputs": [],
   "source": [
    "import pandas as pd\n",
    "import numpy as np\n",
    "import matplotlib.pyplot as plt\n",
    "from collections import defaultdict \n",
    "import seaborn as sns\n",
    "import matplotlib.cm as cm\n",
    "import scipy as scipy\n",
    "import random"
   ]
  },
  {
   "cell_type": "markdown",
   "metadata": {
    "jupyter": {
     "source_hidden": true
    }
   },
   "source": [
    "### Importing datasets \n",
    "\n",
    "#### Link to the github repo where the datasets to be downloaded:\n",
    "[DOWNLOAD THE DATASETS HERE](https://github.com/leilaicruz/machine-learning-for-yeast/tree/dev_Leila/datasets-for-learning)"
   ]
  },
  {
   "cell_type": "code",
   "execution_count": 2,
   "metadata": {
    "execution": {
     "iopub.execute_input": "2020-08-13T15:43:33.220213Z",
     "iopub.status.busy": "2020-08-13T15:43:33.218762Z",
     "iopub.status.idle": "2020-08-13T15:43:41.501315Z",
     "shell.execute_reply": "2020-08-13T15:43:41.500259Z"
    }
   },
   "outputs": [],
   "source": [
    "import os\n",
    "script_dir = os.path.dirname('__file__') #<-- absolute dir the script is in\n",
    "rel_path_SL = \"datasets/data-synthetic-lethals.xlsx\"\n",
    "rel_path_nSL=\"datasets/data-positive-genetic.xlsx\"\n",
    "rel_path_domains=\"datasets/proteins-domains-from-Pfam.xlsx\"\n",
    "\n",
    "abs_file_path_SL = os.path.join(script_dir, rel_path_SL)\n",
    "abs_file_path_nSL = os.path.join(script_dir, rel_path_nSL)\n",
    "abs_file_path_domains = os.path.join(script_dir, rel_path_domains)\n",
    "\n",
    "# os.chdir('mini_book/docs/') #<-- for binder os.chdir('../')\n",
    "# os.chdir('../')\n",
    "my_path_sl= abs_file_path_SL\n",
    "my_path_non_sl=abs_file_path_nSL\n",
    "my_path_domains=abs_file_path_domains\n",
    "\n",
    "data_sl=pd.read_excel(my_path_sl,header=0)\n",
    "data_domains=pd.read_excel(my_path_domains,header=0,index_col='Unnamed: 0')\n",
    "data_domains=data_domains.dropna()\n",
    "data_nonsl=pd.read_excel(my_path_non_sl,header=0)"
   ]
  },
  {
   "cell_type": "markdown",
   "metadata": {},
   "source": [
    "## Building the feature matrix\n",
    "One matrix for true SL where each row is one pair of SL. Every raw will be a vector of 0,1 or 2 depending on the comparison with the domain list. For row i the jth element = 0 if the jth element of the domain list is not in neither protein A and B, 1, if it is in one of them and 2 if it is in both of them .\n",
    "\n",
    "### Building the list of proteins domains id per protein pair separately :\n",
    "- List of protein A: Search for the Sl/nSL database the query gene name and look in the protein domain database which protein domains id has each of those queries.\n",
    "- List of protein B: Search for the Sl/nSL database the target gene name of the previous query and look in the protein domain database which protein domains id has each of those target genes."
   ]
  },
  {
   "cell_type": "code",
   "execution_count": 3,
   "metadata": {
    "execution": {
     "iopub.execute_input": "2020-08-13T15:43:41.515431Z",
     "iopub.status.busy": "2020-08-13T15:43:41.511104Z",
     "iopub.status.idle": "2020-08-13T15:43:43.558893Z",
     "shell.execute_reply": "2020-08-13T15:43:43.558010Z"
    }
   },
   "outputs": [],
   "source": [
    "# Selecting the meaningful columns in the respective dataset\n",
    "domain_id_list=data_domains['domain-name']\n",
    "query_gene=data_sl['gene-query-name']\n",
    "target_gene=data_sl['gene-target-name']\n",
    "query_gene_nonlethal=data_nonsl['gene-query-name']\n",
    "target_gene_nonlethal=data_nonsl['gene-target-name']\n",
    "\n",
    "\n",
    "\n",
    "# Initialising the arrays\n",
    "protein_a_list=[]\n",
    "protein_b_list=[]\n",
    "protein_a_list_non=[]\n",
    "protein_b_list_non=[]\n",
    "\n",
    "population = np.arange(0,len(data_sl))\n",
    "\n",
    "# For loop for 10000 pairs sampled randomly from the SL/nSl pair list , and creating a big array of proteind domains id per protein pair\n",
    "\n",
    "for m in random.sample(list(population), 500):\n",
    "    protein_a=data_domains[data_domains['name']==query_gene[m]]\n",
    "    protein_b=data_domains[data_domains['name']==target_gene[m]]\n",
    "    protein_a_list.append(protein_a['domain-name'].tolist())\n",
    "    protein_b_list.append(protein_b['domain-name'].tolist())\n",
    "\n",
    "    protein_a_non=data_domains[data_domains['name']==query_gene_nonlethal[m]]\n",
    "    protein_b_non=data_domains[data_domains['name']==target_gene_nonlethal[m]]\n",
    "    protein_a_list_non.append(protein_a_non['domain-name'].tolist())\n",
    "    protein_b_list_non.append(protein_b_non['domain-name'].tolist())"
   ]
  },
  {
   "cell_type": "code",
   "execution_count": 4,
   "metadata": {
    "execution": {
     "iopub.execute_input": "2020-08-13T15:43:43.564430Z",
     "iopub.status.busy": "2020-08-13T15:43:43.562888Z",
     "iopub.status.idle": "2020-08-13T15:43:43.568389Z",
     "shell.execute_reply": "2020-08-13T15:43:43.568848Z"
    }
   },
   "outputs": [
    {
     "name": "stdout",
     "output_type": "stream",
     "text": [
      "We are going to analyze 500 protein pairs, out of 17871 SL protein pairs\n",
      "We are going to analyze 500 protein pairs, out of 43340 positive protein pairs\n"
     ]
    }
   ],
   "source": [
    "print('We are going to analyze',len((protein_a_list)) ,'protein pairs, out of',len(data_sl),'SL protein pairs')\n",
    "print('We are going to analyze',len((protein_a_list_non)) ,'protein pairs, out of',len(data_nonsl),'positive protein pairs')"
   ]
  },
  {
   "cell_type": "markdown",
   "metadata": {},
   "source": [
    "### Postprocessing #1:  Remove protein pairs from study if either protein in the pair does not contain any domain"
   ]
  },
  {
   "cell_type": "code",
   "execution_count": 5,
   "metadata": {
    "execution": {
     "iopub.execute_input": "2020-08-13T15:43:43.578152Z",
     "iopub.status.busy": "2020-08-13T15:43:43.577555Z",
     "iopub.status.idle": "2020-08-13T15:43:43.582249Z",
     "shell.execute_reply": "2020-08-13T15:43:43.581505Z"
    }
   },
   "outputs": [],
   "source": [
    "def remove_empty_domains(protein_list_search,protein_list_pair):\n",
    "    index=[]\n",
    "    for i in np.arange(0,len(protein_list_search)):\n",
    "        if protein_list_search[i]==[] or protein_list_pair[i]==[]:\n",
    "            index.append(i) ## index of empty values for the protein_a_list meaning they dont have any annotated domain\n",
    "\n",
    "    y=[x for x in np.arange(0,len(protein_list_search)) if x not in index] # a list with non empty values from protein_a list\n",
    "\n",
    "    protein_list_search_new=[]\n",
    "    protein_list_pair_new=[]\n",
    "    for i in y:\n",
    "        protein_list_search_new.append(protein_list_search[i])\n",
    "        protein_list_pair_new.append(protein_list_pair[i])\n",
    "    return protein_list_search_new,protein_list_pair_new\n",
    "\n",
    "## evaluating the function\n",
    "\n",
    "protein_a_list_new,protein_b_list_new=remove_empty_domains(protein_a_list,protein_b_list)\n",
    "\n",
    "protein_a_list_non_new,protein_b_list_non_new=remove_empty_domains(protein_a_list_non,protein_b_list_non)"
   ]
  },
  {
   "cell_type": "code",
   "execution_count": 6,
   "metadata": {
    "execution": {
     "iopub.execute_input": "2020-08-13T15:43:43.586881Z",
     "iopub.status.busy": "2020-08-13T15:43:43.586322Z",
     "iopub.status.idle": "2020-08-13T15:43:43.591915Z",
     "shell.execute_reply": "2020-08-13T15:43:43.590320Z"
    }
   },
   "outputs": [
    {
     "name": "stdout",
     "output_type": "stream",
     "text": [
      "The empty domain in the SL were: 80 out of 500 domains\n",
      "The empty domain in the nSL were: 77 out of 500 domains\n"
     ]
    }
   ],
   "source": [
    "print('The empty domain in the SL were:', len(protein_a_list)-len(protein_a_list_new), 'out of', len(protein_a_list),'domains')\n",
    "print('The empty domain in the nSL were:', len(protein_a_list_non)-len(protein_a_list_non_new), 'out of', len(protein_a_list_non),'domains')"
   ]
  },
  {
   "cell_type": "markdown",
   "metadata": {},
   "source": [
    "### Feature engineering: Select from each ordered indexes of domain id list which of them appear once, in both or in any of the domains of each protein pair"
   ]
  },
  {
   "cell_type": "markdown",
   "metadata": {},
   "source": [
    "#### Define function `get_indexes`"
   ]
  },
  {
   "cell_type": "code",
   "execution_count": 7,
   "metadata": {
    "execution": {
     "iopub.execute_input": "2020-08-13T15:43:43.598534Z",
     "iopub.status.busy": "2020-08-13T15:43:43.597954Z",
     "iopub.status.idle": "2020-08-13T15:43:43.604231Z",
     "shell.execute_reply": "2020-08-13T15:43:43.603579Z"
    }
   },
   "outputs": [
    {
     "data": {
      "text/plain": [
       "[1, 2]"
      ]
     },
     "execution_count": 7,
     "metadata": {},
     "output_type": "execute_result"
    }
   ],
   "source": [
    "get_indexes = lambda x, xs: [i for (y, i) in zip(xs, range(len(xs))) if x == y] # a function that give the index of whether a value appear in array or not\n",
    "a=[1,2,2,4,5,6,7,8,9,10]\n",
    "get_indexes(2,a)"
   ]
  },
  {
   "cell_type": "code",
   "execution_count": 8,
   "metadata": {
    "execution": {
     "iopub.execute_input": "2020-08-13T15:43:43.612395Z",
     "iopub.status.busy": "2020-08-13T15:43:43.611674Z",
     "iopub.status.idle": "2020-08-13T15:43:43.616091Z",
     "shell.execute_reply": "2020-08-13T15:43:43.615479Z"
    }
   },
   "outputs": [],
   "source": [
    "def feature_building(protein_a_list_new,protein_b_list_new):\n",
    "    x = np.unique(domain_id_list)\n",
    "    ## To avoid taking repeated domains from one protein of the pairs , lets reduced the domains of each protein from the pairs to their unique members\n",
    "    protein_a_list_unique=[]\n",
    "    protein_b_list_unique=[]\n",
    "    for i in np.arange(0,len(protein_a_list_new)):\n",
    "        protein_a_list_unique.append(np.unique(protein_a_list_new[i]))\n",
    "        protein_b_list_unique.append(np.unique(protein_b_list_new[i]))\n",
    "        \n",
    "    protein_feat_true=np.zeros(shape=(len(x),len(protein_a_list_unique)))\n",
    "    pair_a_b_array=[]\n",
    "    for i in np.arange(0,len(protein_a_list_unique)):\n",
    "        index_a=[]\n",
    "        \n",
    "        pair=[protein_a_list_unique[i],protein_b_list_unique[i]]\n",
    "        pair_a_b=np.concatenate(pair).ravel()\n",
    "        pair_a_b_array.append(pair_a_b)\n",
    "\n",
    "    j=0\n",
    "    for i in pair_a_b_array:  \n",
    "        array,index,counts=np.unique(i,return_index=True,return_counts=True)\n",
    "        \n",
    "        for k,m in zip(counts,array):\n",
    "            if k ==2:\n",
    "                protein_feat_true[get_indexes(m,x),j]=2\n",
    "                \n",
    "            if k==1:\n",
    "                protein_feat_true[get_indexes(m,x),j]=1\n",
    "        j=j+1\n",
    "    return protein_feat_true"
   ]
  },
  {
   "cell_type": "code",
   "execution_count": 9,
   "metadata": {
    "execution": {
     "iopub.execute_input": "2020-08-13T15:43:43.626503Z",
     "iopub.status.busy": "2020-08-13T15:43:43.624775Z",
     "iopub.status.idle": "2020-08-13T15:43:44.458650Z",
     "shell.execute_reply": "2020-08-13T15:43:44.458085Z"
    }
   },
   "outputs": [],
   "source": [
    "protein_feat_true=feature_building(protein_b_list_new=protein_b_list_new,protein_a_list_new=protein_a_list_new)\n",
    "protein_feat_true_pd=pd.DataFrame(protein_feat_true.T)\n",
    "\n",
    "protein_feat_non_true=feature_building(protein_b_list_new=protein_b_list_non_new,protein_a_list_new=protein_a_list_non_new)\n",
    "protein_feat_non_true_pd=pd.DataFrame(protein_feat_non_true.T)"
   ]
  },
  {
   "cell_type": "markdown",
   "metadata": {},
   "source": [
    "### How many ones and twos are in each dataset"
   ]
  },
  {
   "cell_type": "code",
   "execution_count": 10,
   "metadata": {
    "execution": {
     "iopub.execute_input": "2020-08-13T15:43:44.465792Z",
     "iopub.status.busy": "2020-08-13T15:43:44.465048Z",
     "iopub.status.idle": "2020-08-13T15:43:44.589821Z",
     "shell.execute_reply": "2020-08-13T15:43:44.590302Z"
    }
   },
   "outputs": [
    {
     "name": "stdout",
     "output_type": "stream",
     "text": [
      "fraction of twos in the SL array is 2.361275088547816e-05\n",
      "fraction of ones in the SL array is 0.000994883903974813\n",
      "fraction of twos in the PI array is 4.6890569134282865e-06\n",
      "fraction of ones in the PI array is 0.0009253072309165153\n"
     ]
    }
   ],
   "source": [
    "index_2_true=protein_feat_true_pd.where(protein_feat_true_pd==2)\n",
    "index_2_true_count=index_2_true.count(axis=1).sum()\n",
    "\n",
    "index_1_true=protein_feat_true_pd.where(protein_feat_true_pd==1)\n",
    "index_1_true_count=index_1_true.count(axis=1).sum()\n",
    "\n",
    "index_2_nontrue=protein_feat_non_true_pd.where(protein_feat_non_true_pd==2)\n",
    "index_2_nontrue_count=index_2_nontrue.count(axis=1).sum()\n",
    "\n",
    "index_1_nontrue=protein_feat_non_true_pd.where(protein_feat_non_true_pd==1)\n",
    "index_1_nontrue_count=index_1_nontrue.count(axis=1).sum()\n",
    "\n",
    "\n",
    "print('fraction of twos in the SL array is',index_2_true_count/(len(protein_feat_true_pd.index)*len(protein_feat_true_pd.columns)))\n",
    "print('fraction of ones in the SL array is',index_1_true_count/(len(protein_feat_true_pd.index)*len(protein_feat_true_pd.columns)))\n",
    "print('fraction of twos in the PI array is',index_2_nontrue_count/(len(protein_feat_non_true_pd.index)*len(protein_feat_non_true_pd.columns)))\n",
    "print('fraction of ones in the PI array is',index_1_nontrue_count/(len(protein_feat_non_true_pd.index)*len(protein_feat_non_true_pd.columns)))"
   ]
  },
  {
   "cell_type": "markdown",
   "metadata": {},
   "source": [
    "#### Bar plot to visualize these numbers"
   ]
  },
  {
   "cell_type": "code",
   "execution_count": 11,
   "metadata": {
    "execution": {
     "iopub.execute_input": "2020-08-13T15:43:44.620578Z",
     "iopub.status.busy": "2020-08-13T15:43:44.611781Z",
     "iopub.status.idle": "2020-08-13T15:43:45.139286Z",
     "shell.execute_reply": "2020-08-13T15:43:45.138470Z"
    }
   },
   "outputs": [
    {
     "data": {
      "text/plain": [
       "([0, 1, 2, 3],\n",
       " [Text(0, 0, ''), Text(0, 0, ''), Text(0, 0, ''), Text(0, 0, '')])"
      ]
     },
     "execution_count": 11,
     "metadata": {},
     "output_type": "execute_result"
    },
    {
     "data": {
      "image/png": "[encoded data removed]",
      "text/plain": [
       "<Figure size 432x288 with 1 Axes>"
      ]
     },
     "metadata": {
      "filenames": {
       "image/png": "/home/runner/work/jupyter-book/jupyter-book/mini_book/docs/_build/jupyter_execute/prot_domains2lethality-FEATURES-POSTPROCESSING_18_1.png"
      },
      "needs_background": "light"
     },
     "output_type": "display_data"
    }
   ],
   "source": [
    "plt.bar(['fraction of 2 in the nSL','fraction of 1 in the nSL'],[index_2_nontrue_count/(len(protein_feat_non_true_pd.index)*len(protein_feat_non_true_pd.columns)),index_1_nontrue_count/(len(protein_feat_non_true_pd.index)*len(protein_feat_non_true_pd.columns))],alpha=0.6,color=['blue','lightblue']), \n",
    "\n",
    "plt.bar(['fraction of 2 in SL ','fraction of 1 in SL'],[index_2_true_count/(len(protein_feat_true_pd.index)*len(protein_feat_true_pd.columns)),index_1_true_count/(len(protein_feat_true_pd.index)*len(protein_feat_true_pd.columns))],alpha=0.6,color=['coral','lightcoral'])\n",
    "\n",
    "plt.ylabel('Fraction from the population')\n",
    "plt.yscale('log')\n",
    "plt.xticks(rotation=40)"
   ]
  },
  {
   "cell_type": "markdown",
   "metadata": {},
   "source": [
    "#### Adding the labels(response variables) to each dataset"
   ]
  },
  {
   "cell_type": "code",
   "execution_count": 12,
   "metadata": {
    "execution": {
     "iopub.execute_input": "2020-08-13T15:43:45.144741Z",
     "iopub.status.busy": "2020-08-13T15:43:45.143564Z",
     "iopub.status.idle": "2020-08-13T15:43:45.149272Z",
     "shell.execute_reply": "2020-08-13T15:43:45.148286Z"
    }
   },
   "outputs": [],
   "source": [
    "protein_feat_true_pd['lethality']=np.ones(shape=(len(protein_a_list_new)))\n",
    "protein_feat_non_true_pd['lethality']=np.zeros(shape=(len(protein_a_list_non_new)))"
   ]
  },
  {
   "cell_type": "markdown",
   "metadata": {},
   "source": [
    "#### Joining both datasets"
   ]
  },
  {
   "cell_type": "code",
   "execution_count": 13,
   "metadata": {
    "execution": {
     "iopub.execute_input": "2020-08-13T15:43:45.157279Z",
     "iopub.status.busy": "2020-08-13T15:43:45.156556Z",
     "iopub.status.idle": "2020-08-13T15:43:45.195513Z",
     "shell.execute_reply": "2020-08-13T15:43:45.194559Z"
    }
   },
   "outputs": [
    {
     "name": "stdout",
     "output_type": "stream",
     "text": [
      "The number of features are: 3026\n",
      "The number of samples are: 843\n"
     ]
    }
   ],
   "source": [
    "feature_post=pd.concat([protein_feat_true_pd,protein_feat_non_true_pd],axis=0)\n",
    "feature_post=feature_post.set_index(np.arange(0,len(protein_a_list_new)+len(protein_a_list_non_new)))\n",
    "print('The number of features are:',feature_post.shape[1])\n",
    "print('The number of samples are:',feature_post.shape[0])"
   ]
  },
  {
   "cell_type": "markdown",
   "metadata": {},
   "source": [
    "### Postprocessing and exploration of the feature matrix of both datasets"
   ]
  },
  {
   "cell_type": "code",
   "execution_count": 14,
   "metadata": {
    "execution": {
     "iopub.execute_input": "2020-08-13T15:43:45.213632Z",
     "iopub.status.busy": "2020-08-13T15:43:45.201615Z",
     "iopub.status.idle": "2020-08-13T15:43:49.970641Z",
     "shell.execute_reply": "2020-08-13T15:43:49.969798Z"
    }
   },
   "outputs": [],
   "source": [
    "mean=feature_post.T.describe().loc['mean']\n",
    "std=feature_post.T.describe().loc['std']\n",
    "lethality=feature_post['lethality']\n",
    "\n",
    "corr_keys=pd.concat([mean,std,lethality],axis=1)"
   ]
  },
  {
   "cell_type": "markdown",
   "metadata": {},
   "source": [
    "### Viz of the stats"
   ]
  },
  {
   "cell_type": "code",
   "execution_count": 15,
   "metadata": {
    "execution": {
     "iopub.execute_input": "2020-08-13T15:43:50.057262Z",
     "iopub.status.busy": "2020-08-13T15:43:50.010007Z",
     "iopub.status.idle": "2020-08-13T15:43:51.854094Z",
     "shell.execute_reply": "2020-08-13T15:43:51.853285Z"
    }
   },
   "outputs": [
    {
     "data": {
      "text/plain": [
       "Text(0.5, 1.08, 'Pairplot to see data dependencies with Lethality')"
      ]
     },
     "execution_count": 15,
     "metadata": {},
     "output_type": "execute_result"
    },
    {
     "data": {
      "image/png": "[encoded data removed]",
      "text/plain": [
       "<Figure size 412x360 with 6 Axes>"
      ]
     },
     "metadata": {
      "filenames": {
       "image/png": "/home/runner/work/jupyter-book/jupyter-book/mini_book/docs/_build/jupyter_execute/prot_domains2lethality-FEATURES-POSTPROCESSING_26_1.png"
      },
      "needs_background": "light"
     },
     "output_type": "display_data"
    }
   ],
   "source": [
    "pair=sns.pairplot(corr_keys,hue='lethality',diag_kind='kde',kind='reg',palette='colorblind')\n",
    "pair.fig.suptitle('Pairplot to see data dependencies with Lethality',y=1.08)"
   ]
  },
  {
   "cell_type": "code",
   "execution_count": 16,
   "metadata": {
    "execution": {
     "iopub.execute_input": "2020-08-13T15:43:51.865553Z",
     "iopub.status.busy": "2020-08-13T15:43:51.864788Z",
     "iopub.status.idle": "2020-08-13T15:43:51.868755Z",
     "shell.execute_reply": "2020-08-13T15:43:51.869267Z"
    }
   },
   "outputs": [],
   "source": [
    "X, y = feature_post.drop(columns=[\"lethality\"]), feature_post[\"lethality\"]"
   ]
  },
  {
   "cell_type": "code",
   "execution_count": 17,
   "metadata": {
    "execution": {
     "iopub.execute_input": "2020-08-13T15:43:51.874399Z",
     "iopub.status.busy": "2020-08-13T15:43:51.873388Z",
     "iopub.status.idle": "2020-08-13T15:43:52.119487Z",
     "shell.execute_reply": "2020-08-13T15:43:52.118971Z"
    }
   },
   "outputs": [],
   "source": [
    "from sklearn.preprocessing import StandardScaler\n",
    "scaler = StandardScaler()\n",
    "x_sl=protein_feat_true_pd.drop(columns=['lethality'])\n",
    "x_nsl=protein_feat_non_true_pd.drop(columns=['lethality'])\n",
    "\n",
    "X_sl_scaled = scaler.fit_transform(x_sl)\n",
    "X_nsl_scaled = scaler.fit_transform(x_nsl)"
   ]
  },
  {
   "cell_type": "code",
   "execution_count": 18,
   "metadata": {
    "execution": {
     "iopub.execute_input": "2020-08-13T15:43:52.124140Z",
     "iopub.status.busy": "2020-08-13T15:43:52.123534Z",
     "iopub.status.idle": "2020-08-13T15:43:52.129700Z",
     "shell.execute_reply": "2020-08-13T15:43:52.129218Z"
    }
   },
   "outputs": [
    {
     "data": {
      "text/plain": [
       "(420, 3025)"
      ]
     },
     "execution_count": 18,
     "metadata": {},
     "output_type": "execute_result"
    }
   ],
   "source": [
    "np.shape(X_sl_scaled)"
   ]
  },
  {
   "cell_type": "markdown",
   "metadata": {},
   "source": [
    "## How redundant are each of the protein domains?"
   ]
  },
  {
   "cell_type": "code",
   "execution_count": 19,
   "metadata": {
    "execution": {
     "iopub.execute_input": "2020-08-13T15:43:52.136075Z",
     "iopub.status.busy": "2020-08-13T15:43:52.135450Z",
     "iopub.status.idle": "2020-08-13T15:43:52.139044Z",
     "shell.execute_reply": "2020-08-13T15:43:52.139533Z"
    }
   },
   "outputs": [],
   "source": [
    "def PCA_component_contribution(scaled_matrix,original_data):\n",
    "    from sklearn.decomposition import PCA\n",
    "\n",
    "    model = PCA(0.95).fit(scaled_matrix)\n",
    "    ## apply dimensionality reduction to X_train\n",
    "    output_pca = model.transform(scaled_matrix)\n",
    "    \n",
    "    total=sum(model.explained_variance_)\n",
    "\n",
    "\n",
    "   \n",
    "    # number of components , that it will be the number of main axes times the number of original components \n",
    "    n_pcs= model.components_.shape[0] # the amount of non redundant protein domains \n",
    "\n",
    "    # get the index of the most important feature on EACH component\n",
    "    # LIST COMPREHENSION HERE\n",
    "    most_important = [np.abs(model.components_[i]).argmax() for i in range(n_pcs)]\n",
    "\n",
    "    initial_feature_names = original_data.columns\n",
    "    # get the names\n",
    "    most_important_names = [initial_feature_names[most_important[i]] for i in range(n_pcs)]\n",
    "    \n",
    "\n",
    "    # LIST COMPREHENSION HERE AGAIN\n",
    "    dic = {'PC{}'.format(i): most_important_names[i] for i in range(n_pcs)}\n",
    "\n",
    "    # build the dataframe\n",
    "    df = pd.DataFrame(dic.items(),columns=['pca-component','domain-number'])\n",
    "\n",
    "    return df,model.components_"
   ]
  },
  {
   "cell_type": "code",
   "execution_count": 20,
   "metadata": {
    "execution": {
     "iopub.execute_input": "2020-08-13T15:43:52.143464Z",
     "iopub.status.busy": "2020-08-13T15:43:52.142787Z",
     "iopub.status.idle": "2020-08-13T15:43:52.929061Z",
     "shell.execute_reply": "2020-08-13T15:43:52.929595Z"
    }
   },
   "outputs": [],
   "source": [
    "df_sl,components_pca_nsl=PCA_component_contribution(X_nsl_scaled,x_nsl)\n",
    "df_nsl,components_pca_sl=PCA_component_contribution(X_sl_scaled,x_sl)"
   ]
  },
  {
   "cell_type": "code",
   "execution_count": 21,
   "metadata": {
    "execution": {
     "iopub.execute_input": "2020-08-13T15:43:52.933097Z",
     "iopub.status.busy": "2020-08-13T15:43:52.931896Z",
     "iopub.status.idle": "2020-08-13T15:43:52.944103Z",
     "shell.execute_reply": "2020-08-13T15:43:52.944911Z"
    }
   },
   "outputs": [
    {
     "data": {
      "text/html": [
       "<div>\n",
       "<style scoped>\n",
       "    .dataframe tbody tr th:only-of-type {\n",
       "        vertical-align: middle;\n",
       "    }\n",
       "\n",
       "    .dataframe tbody tr th {\n",
       "        vertical-align: top;\n",
       "    }\n",
       "\n",
       "    .dataframe thead th {\n",
       "        text-align: right;\n",
       "    }\n",
       "</style>\n",
       "<table border=\"1\" class=\"dataframe\">\n",
       "  <thead>\n",
       "    <tr style=\"text-align: right;\">\n",
       "      <th></th>\n",
       "      <th>pca-component</th>\n",
       "      <th>domain-number</th>\n",
       "    </tr>\n",
       "  </thead>\n",
       "  <tbody>\n",
       "    <tr>\n",
       "      <th>0</th>\n",
       "      <td>PC0</td>\n",
       "      <td>305</td>\n",
       "    </tr>\n",
       "    <tr>\n",
       "      <th>1</th>\n",
       "      <td>PC1</td>\n",
       "      <td>135</td>\n",
       "    </tr>\n",
       "    <tr>\n",
       "      <th>2</th>\n",
       "      <td>PC2</td>\n",
       "      <td>957</td>\n",
       "    </tr>\n",
       "    <tr>\n",
       "      <th>3</th>\n",
       "      <td>PC3</td>\n",
       "      <td>219</td>\n",
       "    </tr>\n",
       "    <tr>\n",
       "      <th>4</th>\n",
       "      <td>PC4</td>\n",
       "      <td>269</td>\n",
       "    </tr>\n",
       "  </tbody>\n",
       "</table>\n",
       "</div>"
      ],
      "text/plain": [
       "  pca-component  domain-number\n",
       "0           PC0            305\n",
       "1           PC1            135\n",
       "2           PC2            957\n",
       "3           PC3            219\n",
       "4           PC4            269"
      ]
     },
     "execution_count": 21,
     "metadata": {},
     "output_type": "execute_result"
    }
   ],
   "source": [
    "df_sl.head()"
   ]
  },
  {
   "cell_type": "markdown",
   "metadata": {},
   "source": [
    "## which are the shared domains between nSL and SL pairs , in the PCA reduced samples"
   ]
  },
  {
   "cell_type": "code",
   "execution_count": 22,
   "metadata": {
    "execution": {
     "iopub.execute_input": "2020-08-13T15:43:52.948520Z",
     "iopub.status.busy": "2020-08-13T15:43:52.947294Z",
     "iopub.status.idle": "2020-08-13T15:43:52.983628Z",
     "shell.execute_reply": "2020-08-13T15:43:52.984558Z"
    }
   },
   "outputs": [
    {
     "data": {
      "text/html": [
       "<div>\n",
       "<style scoped>\n",
       "    .dataframe tbody tr th:only-of-type {\n",
       "        vertical-align: middle;\n",
       "    }\n",
       "\n",
       "    .dataframe tbody tr th {\n",
       "        vertical-align: top;\n",
       "    }\n",
       "\n",
       "    .dataframe thead th {\n",
       "        text-align: right;\n",
       "    }\n",
       "</style>\n",
       "<table border=\"1\" class=\"dataframe\">\n",
       "  <thead>\n",
       "    <tr style=\"text-align: right;\">\n",
       "      <th></th>\n",
       "      <th>pca-component_x</th>\n",
       "      <th>domain-number</th>\n",
       "      <th>pca-component_y</th>\n",
       "      <th>domain-description</th>\n",
       "    </tr>\n",
       "  </thead>\n",
       "  <tbody>\n",
       "    <tr>\n",
       "      <th>0</th>\n",
       "      <td>PC0</td>\n",
       "      <td>305</td>\n",
       "      <td>PC1</td>\n",
       "      <td>Brr6_like_C_C; Brl1/Brr6 domain</td>\n",
       "    </tr>\n",
       "    <tr>\n",
       "      <th>1</th>\n",
       "      <td>PC3</td>\n",
       "      <td>219</td>\n",
       "      <td>PC13</td>\n",
       "      <td>Apc15p; Anaphase-promoting complex subunit  15...</td>\n",
       "    </tr>\n",
       "    <tr>\n",
       "      <th>2</th>\n",
       "      <td>PC7</td>\n",
       "      <td>689</td>\n",
       "      <td>PC3</td>\n",
       "      <td>DUF3128; Protein of unknown function DUF3128</td>\n",
       "    </tr>\n",
       "    <tr>\n",
       "      <th>3</th>\n",
       "      <td>PC9</td>\n",
       "      <td>55</td>\n",
       "      <td>PC10</td>\n",
       "      <td>ADK</td>\n",
       "    </tr>\n",
       "    <tr>\n",
       "      <th>4</th>\n",
       "      <td>PC12</td>\n",
       "      <td>803</td>\n",
       "      <td>PC18</td>\n",
       "      <td>ELFV_dehydrog; Glutamate/phenylalanine/leucine...</td>\n",
       "    </tr>\n",
       "    <tr>\n",
       "      <th>5</th>\n",
       "      <td>PC21</td>\n",
       "      <td>1082</td>\n",
       "      <td>PC43</td>\n",
       "      <td>Gpi1; N-acetylglucosaminyl transferase component</td>\n",
       "    </tr>\n",
       "    <tr>\n",
       "      <th>6</th>\n",
       "      <td>PC21</td>\n",
       "      <td>1082</td>\n",
       "      <td>PC50</td>\n",
       "      <td>Gpi1; N-acetylglucosaminyl transferase component</td>\n",
       "    </tr>\n",
       "    <tr>\n",
       "      <th>7</th>\n",
       "      <td>PC22</td>\n",
       "      <td>1082</td>\n",
       "      <td>PC43</td>\n",
       "      <td>Gpi1; N-acetylglucosaminyl transferase component</td>\n",
       "    </tr>\n",
       "    <tr>\n",
       "      <th>8</th>\n",
       "      <td>PC22</td>\n",
       "      <td>1082</td>\n",
       "      <td>PC50</td>\n",
       "      <td>Gpi1; N-acetylglucosaminyl transferase component</td>\n",
       "    </tr>\n",
       "    <tr>\n",
       "      <th>9</th>\n",
       "      <td>PC26</td>\n",
       "      <td>2544</td>\n",
       "      <td>PC7</td>\n",
       "      <td>Sybindin; Trafficking protein particle complex...</td>\n",
       "    </tr>\n",
       "    <tr>\n",
       "      <th>10</th>\n",
       "      <td>PC30</td>\n",
       "      <td>1677</td>\n",
       "      <td>PC28</td>\n",
       "      <td>Ost5; Oligosaccharyltransferase complex subunit</td>\n",
       "    </tr>\n",
       "    <tr>\n",
       "      <th>11</th>\n",
       "      <td>PC35</td>\n",
       "      <td>2936</td>\n",
       "      <td>PC159</td>\n",
       "      <td>tRNA-synt_1c; Glutamyl/glutaminyl-tRNA synthet...</td>\n",
       "    </tr>\n",
       "    <tr>\n",
       "      <th>12</th>\n",
       "      <td>PC42</td>\n",
       "      <td>773</td>\n",
       "      <td>PC34</td>\n",
       "      <td>Dynein_light; Dynein light chain, type 1/2</td>\n",
       "    </tr>\n",
       "    <tr>\n",
       "      <th>13</th>\n",
       "      <td>PC51</td>\n",
       "      <td>214</td>\n",
       "      <td>PC32</td>\n",
       "      <td>Anth_synt_I_N; Anthranilate synthase component...</td>\n",
       "    </tr>\n",
       "    <tr>\n",
       "      <th>14</th>\n",
       "      <td>PC63</td>\n",
       "      <td>983</td>\n",
       "      <td>PC97</td>\n",
       "      <td>GHMP_kinases_N; GHMP kinase N-terminal domain</td>\n",
       "    </tr>\n",
       "    <tr>\n",
       "      <th>15</th>\n",
       "      <td>PC64</td>\n",
       "      <td>983</td>\n",
       "      <td>PC97</td>\n",
       "      <td>GHMP_kinases_N; GHMP kinase N-terminal domain</td>\n",
       "    </tr>\n",
       "    <tr>\n",
       "      <th>16</th>\n",
       "      <td>PC75</td>\n",
       "      <td>36</td>\n",
       "      <td>PC90</td>\n",
       "      <td>AA_permease_2; Amino acid/polyamine transporter I</td>\n",
       "    </tr>\n",
       "    <tr>\n",
       "      <th>17</th>\n",
       "      <td>PC78</td>\n",
       "      <td>36</td>\n",
       "      <td>PC90</td>\n",
       "      <td>AA_permease_2; Amino acid/polyamine transporter I</td>\n",
       "    </tr>\n",
       "    <tr>\n",
       "      <th>18</th>\n",
       "      <td>PC87</td>\n",
       "      <td>1086</td>\n",
       "      <td>PC197</td>\n",
       "      <td>Gti1_Pac2; Gti1/Pac2 family</td>\n",
       "    </tr>\n",
       "    <tr>\n",
       "      <th>19</th>\n",
       "      <td>PC87</td>\n",
       "      <td>1086</td>\n",
       "      <td>PC198</td>\n",
       "      <td>Gti1_Pac2; Gti1/Pac2 family</td>\n",
       "    </tr>\n",
       "    <tr>\n",
       "      <th>20</th>\n",
       "      <td>PC93</td>\n",
       "      <td>1086</td>\n",
       "      <td>PC197</td>\n",
       "      <td>Gti1_Pac2; Gti1/Pac2 family</td>\n",
       "    </tr>\n",
       "    <tr>\n",
       "      <th>21</th>\n",
       "      <td>PC93</td>\n",
       "      <td>1086</td>\n",
       "      <td>PC198</td>\n",
       "      <td>Gti1_Pac2; Gti1/Pac2 family</td>\n",
       "    </tr>\n",
       "    <tr>\n",
       "      <th>22</th>\n",
       "      <td>PC105</td>\n",
       "      <td>1504</td>\n",
       "      <td>PC154</td>\n",
       "      <td>Mob1_phocein; MOB kinase activator family</td>\n",
       "    </tr>\n",
       "    <tr>\n",
       "      <th>23</th>\n",
       "      <td>PC107</td>\n",
       "      <td>145</td>\n",
       "      <td>PC48</td>\n",
       "      <td>A_deaminase; Adenosine/AMP deaminase domain</td>\n",
       "    </tr>\n",
       "    <tr>\n",
       "      <th>24</th>\n",
       "      <td>PC107</td>\n",
       "      <td>145</td>\n",
       "      <td>PC54</td>\n",
       "      <td>A_deaminase; Adenosine/AMP deaminase domain</td>\n",
       "    </tr>\n",
       "    <tr>\n",
       "      <th>25</th>\n",
       "      <td>PC120</td>\n",
       "      <td>645</td>\n",
       "      <td>PC162</td>\n",
       "      <td>DUF1689; Protein of unknown function DUF1689</td>\n",
       "    </tr>\n",
       "    <tr>\n",
       "      <th>26</th>\n",
       "      <td>PC126</td>\n",
       "      <td>645</td>\n",
       "      <td>PC162</td>\n",
       "      <td>DUF1689; Protein of unknown function DUF1689</td>\n",
       "    </tr>\n",
       "    <tr>\n",
       "      <th>27</th>\n",
       "      <td>PC142</td>\n",
       "      <td>2478</td>\n",
       "      <td>PC24</td>\n",
       "      <td>Sin3_corepress; Histone deacetylase interactin...</td>\n",
       "    </tr>\n",
       "    <tr>\n",
       "      <th>28</th>\n",
       "      <td>PC144</td>\n",
       "      <td>2478</td>\n",
       "      <td>PC24</td>\n",
       "      <td>Sin3_corepress; Histone deacetylase interactin...</td>\n",
       "    </tr>\n",
       "    <tr>\n",
       "      <th>29</th>\n",
       "      <td>PC149</td>\n",
       "      <td>2584</td>\n",
       "      <td>PC156</td>\n",
       "      <td>TFIIIC_sub6; Transcription factor TFIIIC, tau5...</td>\n",
       "    </tr>\n",
       "    <tr>\n",
       "      <th>30</th>\n",
       "      <td>PC149</td>\n",
       "      <td>2584</td>\n",
       "      <td>PC157</td>\n",
       "      <td>TFIIIC_sub6; Transcription factor TFIIIC, tau5...</td>\n",
       "    </tr>\n",
       "    <tr>\n",
       "      <th>31</th>\n",
       "      <td>PC157</td>\n",
       "      <td>1701</td>\n",
       "      <td>PC133</td>\n",
       "      <td>PAP_central; Poly(A) polymerase, central domain</td>\n",
       "    </tr>\n",
       "    <tr>\n",
       "      <th>32</th>\n",
       "      <td>PC158</td>\n",
       "      <td>1352</td>\n",
       "      <td>PC203</td>\n",
       "      <td>MATalpha_HMGbox; Mating-type protein MAT alpha...</td>\n",
       "    </tr>\n",
       "    <tr>\n",
       "      <th>33</th>\n",
       "      <td>PC158</td>\n",
       "      <td>1352</td>\n",
       "      <td>PC213</td>\n",
       "      <td>MATalpha_HMGbox; Mating-type protein MAT alpha...</td>\n",
       "    </tr>\n",
       "    <tr>\n",
       "      <th>34</th>\n",
       "      <td>PC160</td>\n",
       "      <td>1978</td>\n",
       "      <td>PC223</td>\n",
       "      <td>RFX_DNA_binding; DNA-binding RFX-type winged-h...</td>\n",
       "    </tr>\n",
       "    <tr>\n",
       "      <th>35</th>\n",
       "      <td>PC160</td>\n",
       "      <td>1978</td>\n",
       "      <td>PC225</td>\n",
       "      <td>RFX_DNA_binding; DNA-binding RFX-type winged-h...</td>\n",
       "    </tr>\n",
       "    <tr>\n",
       "      <th>36</th>\n",
       "      <td>PC161</td>\n",
       "      <td>1978</td>\n",
       "      <td>PC223</td>\n",
       "      <td>RFX_DNA_binding; DNA-binding RFX-type winged-h...</td>\n",
       "    </tr>\n",
       "    <tr>\n",
       "      <th>37</th>\n",
       "      <td>PC161</td>\n",
       "      <td>1978</td>\n",
       "      <td>PC225</td>\n",
       "      <td>RFX_DNA_binding; DNA-binding RFX-type winged-h...</td>\n",
       "    </tr>\n",
       "    <tr>\n",
       "      <th>38</th>\n",
       "      <td>PC167</td>\n",
       "      <td>61</td>\n",
       "      <td>PC132</td>\n",
       "      <td>AGA2</td>\n",
       "    </tr>\n",
       "    <tr>\n",
       "      <th>39</th>\n",
       "      <td>PC168</td>\n",
       "      <td>622</td>\n",
       "      <td>PC199</td>\n",
       "      <td>DNA_topoisoIV; DNA topoisomerase, type IIA, su...</td>\n",
       "    </tr>\n",
       "    <tr>\n",
       "      <th>40</th>\n",
       "      <td>PC170</td>\n",
       "      <td>310</td>\n",
       "      <td>PC271</td>\n",
       "      <td>C1_1; Protein kinase C-like, phorbol ester/dia...</td>\n",
       "    </tr>\n",
       "    <tr>\n",
       "      <th>41</th>\n",
       "      <td>PC176</td>\n",
       "      <td>1568</td>\n",
       "      <td>PC192</td>\n",
       "      <td>NIR_SIR_ferr; Nitrite/Sulfite reductase ferred...</td>\n",
       "    </tr>\n",
       "    <tr>\n",
       "      <th>42</th>\n",
       "      <td>PC192</td>\n",
       "      <td>2700</td>\n",
       "      <td>PC139</td>\n",
       "      <td>Trehalose_PPase; Trehalose-phosphatase</td>\n",
       "    </tr>\n",
       "    <tr>\n",
       "      <th>43</th>\n",
       "      <td>PC209</td>\n",
       "      <td>40</td>\n",
       "      <td>PC38</td>\n",
       "      <td>ABC_membrane_2; ABC transporter type 1, transm...</td>\n",
       "    </tr>\n",
       "    <tr>\n",
       "      <th>44</th>\n",
       "      <td>PC217</td>\n",
       "      <td>1362</td>\n",
       "      <td>PC176</td>\n",
       "      <td>MDM31_MDM32; Mitochondrial distribution and mo...</td>\n",
       "    </tr>\n",
       "    <tr>\n",
       "      <th>45</th>\n",
       "      <td>PC220</td>\n",
       "      <td>2651</td>\n",
       "      <td>PC169</td>\n",
       "      <td>Telomere_reg-2; Telomere length regulation pro...</td>\n",
       "    </tr>\n",
       "    <tr>\n",
       "      <th>46</th>\n",
       "      <td>PC221</td>\n",
       "      <td>1046</td>\n",
       "      <td>PC129</td>\n",
       "      <td>Glyco_hydro_18; Glycoside hydrolase family 18,...</td>\n",
       "    </tr>\n",
       "    <tr>\n",
       "      <th>47</th>\n",
       "      <td>PC227</td>\n",
       "      <td>1046</td>\n",
       "      <td>PC129</td>\n",
       "      <td>Glyco_hydro_18; Glycoside hydrolase family 18,...</td>\n",
       "    </tr>\n",
       "    <tr>\n",
       "      <th>48</th>\n",
       "      <td>PC228</td>\n",
       "      <td>618</td>\n",
       "      <td>PC160</td>\n",
       "      <td>DNA_pol_alpha_N; DNA polymerase alpha catalyti...</td>\n",
       "    </tr>\n",
       "    <tr>\n",
       "      <th>49</th>\n",
       "      <td>PC240</td>\n",
       "      <td>450</td>\n",
       "      <td>PC145</td>\n",
       "      <td>Cation_efflux; Cation efflux protein</td>\n",
       "    </tr>\n",
       "    <tr>\n",
       "      <th>50</th>\n",
       "      <td>PC269</td>\n",
       "      <td>2916</td>\n",
       "      <td>PC219</td>\n",
       "      <td>fn3_2; Fibronectin type III domain, fungi</td>\n",
       "    </tr>\n",
       "  </tbody>\n",
       "</table>\n",
       "</div>"
      ],
      "text/plain": [
       "   pca-component_x  domain-number pca-component_y  \\\n",
       "0              PC0            305             PC1   \n",
       "1              PC3            219            PC13   \n",
       "2              PC7            689             PC3   \n",
       "3              PC9             55            PC10   \n",
       "4             PC12            803            PC18   \n",
       "5             PC21           1082            PC43   \n",
       "6             PC21           1082            PC50   \n",
       "7             PC22           1082            PC43   \n",
       "8             PC22           1082            PC50   \n",
       "9             PC26           2544             PC7   \n",
       "10            PC30           1677            PC28   \n",
       "11            PC35           2936           PC159   \n",
       "12            PC42            773            PC34   \n",
       "13            PC51            214            PC32   \n",
       "14            PC63            983            PC97   \n",
       "15            PC64            983            PC97   \n",
       "16            PC75             36            PC90   \n",
       "17            PC78             36            PC90   \n",
       "18            PC87           1086           PC197   \n",
       "19            PC87           1086           PC198   \n",
       "20            PC93           1086           PC197   \n",
       "21            PC93           1086           PC198   \n",
       "22           PC105           1504           PC154   \n",
       "23           PC107            145            PC48   \n",
       "24           PC107            145            PC54   \n",
       "25           PC120            645           PC162   \n",
       "26           PC126            645           PC162   \n",
       "27           PC142           2478            PC24   \n",
       "28           PC144           2478            PC24   \n",
       "29           PC149           2584           PC156   \n",
       "30           PC149           2584           PC157   \n",
       "31           PC157           1701           PC133   \n",
       "32           PC158           1352           PC203   \n",
       "33           PC158           1352           PC213   \n",
       "34           PC160           1978           PC223   \n",
       "35           PC160           1978           PC225   \n",
       "36           PC161           1978           PC223   \n",
       "37           PC161           1978           PC225   \n",
       "38           PC167             61           PC132   \n",
       "39           PC168            622           PC199   \n",
       "40           PC170            310           PC271   \n",
       "41           PC176           1568           PC192   \n",
       "42           PC192           2700           PC139   \n",
       "43           PC209             40            PC38   \n",
       "44           PC217           1362           PC176   \n",
       "45           PC220           2651           PC169   \n",
       "46           PC221           1046           PC129   \n",
       "47           PC227           1046           PC129   \n",
       "48           PC228            618           PC160   \n",
       "49           PC240            450           PC145   \n",
       "50           PC269           2916           PC219   \n",
       "\n",
       "                                   domain-description  \n",
       "0                     Brr6_like_C_C; Brl1/Brr6 domain  \n",
       "1   Apc15p; Anaphase-promoting complex subunit  15...  \n",
       "2        DUF3128; Protein of unknown function DUF3128  \n",
       "3                                                 ADK  \n",
       "4   ELFV_dehydrog; Glutamate/phenylalanine/leucine...  \n",
       "5    Gpi1; N-acetylglucosaminyl transferase component  \n",
       "6    Gpi1; N-acetylglucosaminyl transferase component  \n",
       "7    Gpi1; N-acetylglucosaminyl transferase component  \n",
       "8    Gpi1; N-acetylglucosaminyl transferase component  \n",
       "9   Sybindin; Trafficking protein particle complex...  \n",
       "10    Ost5; Oligosaccharyltransferase complex subunit  \n",
       "11  tRNA-synt_1c; Glutamyl/glutaminyl-tRNA synthet...  \n",
       "12         Dynein_light; Dynein light chain, type 1/2  \n",
       "13  Anth_synt_I_N; Anthranilate synthase component...  \n",
       "14      GHMP_kinases_N; GHMP kinase N-terminal domain  \n",
       "15      GHMP_kinases_N; GHMP kinase N-terminal domain  \n",
       "16  AA_permease_2; Amino acid/polyamine transporter I  \n",
       "17  AA_permease_2; Amino acid/polyamine transporter I  \n",
       "18                        Gti1_Pac2; Gti1/Pac2 family  \n",
       "19                        Gti1_Pac2; Gti1/Pac2 family  \n",
       "20                        Gti1_Pac2; Gti1/Pac2 family  \n",
       "21                        Gti1_Pac2; Gti1/Pac2 family  \n",
       "22          Mob1_phocein; MOB kinase activator family  \n",
       "23        A_deaminase; Adenosine/AMP deaminase domain  \n",
       "24        A_deaminase; Adenosine/AMP deaminase domain  \n",
       "25       DUF1689; Protein of unknown function DUF1689  \n",
       "26       DUF1689; Protein of unknown function DUF1689  \n",
       "27  Sin3_corepress; Histone deacetylase interactin...  \n",
       "28  Sin3_corepress; Histone deacetylase interactin...  \n",
       "29  TFIIIC_sub6; Transcription factor TFIIIC, tau5...  \n",
       "30  TFIIIC_sub6; Transcription factor TFIIIC, tau5...  \n",
       "31    PAP_central; Poly(A) polymerase, central domain  \n",
       "32  MATalpha_HMGbox; Mating-type protein MAT alpha...  \n",
       "33  MATalpha_HMGbox; Mating-type protein MAT alpha...  \n",
       "34  RFX_DNA_binding; DNA-binding RFX-type winged-h...  \n",
       "35  RFX_DNA_binding; DNA-binding RFX-type winged-h...  \n",
       "36  RFX_DNA_binding; DNA-binding RFX-type winged-h...  \n",
       "37  RFX_DNA_binding; DNA-binding RFX-type winged-h...  \n",
       "38                                               AGA2  \n",
       "39  DNA_topoisoIV; DNA topoisomerase, type IIA, su...  \n",
       "40  C1_1; Protein kinase C-like, phorbol ester/dia...  \n",
       "41  NIR_SIR_ferr; Nitrite/Sulfite reductase ferred...  \n",
       "42             Trehalose_PPase; Trehalose-phosphatase  \n",
       "43  ABC_membrane_2; ABC transporter type 1, transm...  \n",
       "44  MDM31_MDM32; Mitochondrial distribution and mo...  \n",
       "45  Telomere_reg-2; Telomere length regulation pro...  \n",
       "46  Glyco_hydro_18; Glycoside hydrolase family 18,...  \n",
       "47  Glyco_hydro_18; Glycoside hydrolase family 18,...  \n",
       "48  DNA_pol_alpha_N; DNA polymerase alpha catalyti...  \n",
       "49               Cation_efflux; Cation efflux protein  \n",
       "50          fn3_2; Fibronectin type III domain, fungi  "
      ]
     },
     "execution_count": 22,
     "metadata": {},
     "output_type": "execute_result"
    }
   ],
   "source": [
    "df_shared_domains=pd.merge(df_sl,df_nsl,how='inner',on='domain-number')\n",
    "domains_name=np.unique(data_domains['domain-name'])\n",
    "domains_description=np.unique(data_domains['domain-descrip'])\n",
    "\n",
    "df_shared_domains['domain-description']=domains_description[df_shared_domains['domain-number']]\n",
    "\n",
    "\n",
    "df_shared_domains"
   ]
  },
  {
   "cell_type": "code",
   "execution_count": 23,
   "metadata": {
    "execution": {
     "iopub.execute_input": "2020-08-13T15:43:52.988732Z",
     "iopub.status.busy": "2020-08-13T15:43:52.987566Z",
     "iopub.status.idle": "2020-08-13T15:43:52.995743Z",
     "shell.execute_reply": "2020-08-13T15:43:52.996619Z"
    }
   },
   "outputs": [
    {
     "name": "stdout",
     "output_type": "stream",
     "text": [
      "The number of shared domains between SL and nSL pairs,after PCA, is =  51 out of 560 so the 9.107142857142858 %\n"
     ]
    }
   ],
   "source": [
    "print('The number of shared domains between SL and nSL pairs,after PCA, is = ',len(df_shared_domains), 'out of', len(df_sl)+len(df_nsl), 'so the',100*len(df_shared_domains)/(len(df_sl)+len(df_nsl)),'%')"
   ]
  },
  {
   "cell_type": "markdown",
   "metadata": {},
   "source": [
    "## Domains exclusive to SL"
   ]
  },
  {
   "cell_type": "code",
   "execution_count": 24,
   "metadata": {
    "execution": {
     "iopub.execute_input": "2020-08-13T15:43:53.000160Z",
     "iopub.status.busy": "2020-08-13T15:43:52.998989Z",
     "iopub.status.idle": "2020-08-13T15:43:53.032873Z",
     "shell.execute_reply": "2020-08-13T15:43:53.033792Z"
    }
   },
   "outputs": [
    {
     "data": {
      "text/html": [
       "<div>\n",
       "<style scoped>\n",
       "    .dataframe tbody tr th:only-of-type {\n",
       "        vertical-align: middle;\n",
       "    }\n",
       "\n",
       "    .dataframe tbody tr th {\n",
       "        vertical-align: top;\n",
       "    }\n",
       "\n",
       "    .dataframe thead th {\n",
       "        text-align: right;\n",
       "    }\n",
       "</style>\n",
       "<table border=\"1\" class=\"dataframe\">\n",
       "  <thead>\n",
       "    <tr style=\"text-align: right;\">\n",
       "      <th></th>\n",
       "      <th>pca-component_x</th>\n",
       "      <th>domain-number</th>\n",
       "      <th>pca-component_y</th>\n",
       "      <th>domain-description</th>\n",
       "    </tr>\n",
       "  </thead>\n",
       "  <tbody>\n",
       "    <tr>\n",
       "      <th>1</th>\n",
       "      <td>PC1</td>\n",
       "      <td>135</td>\n",
       "      <td>NaN</td>\n",
       "      <td>ATP-synt_ab_Xtn; ATPsynthase alpha/beta subuni...</td>\n",
       "    </tr>\n",
       "    <tr>\n",
       "      <th>2</th>\n",
       "      <td>PC2</td>\n",
       "      <td>957</td>\n",
       "      <td>NaN</td>\n",
       "      <td>GAT; GAT domain</td>\n",
       "    </tr>\n",
       "    <tr>\n",
       "      <th>4</th>\n",
       "      <td>PC4</td>\n",
       "      <td>269</td>\n",
       "      <td>NaN</td>\n",
       "      <td>BING4CT; BING4, C-terminal domain</td>\n",
       "    </tr>\n",
       "    <tr>\n",
       "      <th>5</th>\n",
       "      <td>PC5</td>\n",
       "      <td>747</td>\n",
       "      <td>NaN</td>\n",
       "      <td>Dak1; DhaK domain</td>\n",
       "    </tr>\n",
       "    <tr>\n",
       "      <th>6</th>\n",
       "      <td>PC6</td>\n",
       "      <td>989</td>\n",
       "      <td>NaN</td>\n",
       "      <td>GLE1; GLE1-like</td>\n",
       "    </tr>\n",
       "    <tr>\n",
       "      <th>...</th>\n",
       "      <td>...</td>\n",
       "      <td>...</td>\n",
       "      <td>...</td>\n",
       "      <td>...</td>\n",
       "    </tr>\n",
       "    <tr>\n",
       "      <th>289</th>\n",
       "      <td>PC280</td>\n",
       "      <td>79</td>\n",
       "      <td>NaN</td>\n",
       "      <td>AMPK1_CBM; AMP-activated protein kinase, glyco...</td>\n",
       "    </tr>\n",
       "    <tr>\n",
       "      <th>290</th>\n",
       "      <td>PC281</td>\n",
       "      <td>2226</td>\n",
       "      <td>NaN</td>\n",
       "      <td>Ribosomal_S19e; Ribosomal protein S19e</td>\n",
       "    </tr>\n",
       "    <tr>\n",
       "      <th>291</th>\n",
       "      <td>PC282</td>\n",
       "      <td>122</td>\n",
       "      <td>NaN</td>\n",
       "      <td>ATP-synt_10; ATPase assembly factor ATP10</td>\n",
       "    </tr>\n",
       "    <tr>\n",
       "      <th>292</th>\n",
       "      <td>PC283</td>\n",
       "      <td>260</td>\n",
       "      <td>NaN</td>\n",
       "      <td>BBP1_C; Spindle pole body component Bbp1, C-te...</td>\n",
       "    </tr>\n",
       "    <tr>\n",
       "      <th>293</th>\n",
       "      <td>PC284</td>\n",
       "      <td>260</td>\n",
       "      <td>NaN</td>\n",
       "      <td>BBP1_C; Spindle pole body component Bbp1, C-te...</td>\n",
       "    </tr>\n",
       "  </tbody>\n",
       "</table>\n",
       "<p>243 rows × 4 columns</p>\n",
       "</div>"
      ],
      "text/plain": [
       "    pca-component_x  domain-number pca-component_y  \\\n",
       "1               PC1            135             NaN   \n",
       "2               PC2            957             NaN   \n",
       "4               PC4            269             NaN   \n",
       "5               PC5            747             NaN   \n",
       "6               PC6            989             NaN   \n",
       "..              ...            ...             ...   \n",
       "289           PC280             79             NaN   \n",
       "290           PC281           2226             NaN   \n",
       "291           PC282            122             NaN   \n",
       "292           PC283            260             NaN   \n",
       "293           PC284            260             NaN   \n",
       "\n",
       "                                    domain-description  \n",
       "1    ATP-synt_ab_Xtn; ATPsynthase alpha/beta subuni...  \n",
       "2                                      GAT; GAT domain  \n",
       "4                    BING4CT; BING4, C-terminal domain  \n",
       "5                                    Dak1; DhaK domain  \n",
       "6                                      GLE1; GLE1-like  \n",
       "..                                                 ...  \n",
       "289  AMPK1_CBM; AMP-activated protein kinase, glyco...  \n",
       "290             Ribosomal_S19e; Ribosomal protein S19e  \n",
       "291          ATP-synt_10; ATPase assembly factor ATP10  \n",
       "292  BBP1_C; Spindle pole body component Bbp1, C-te...  \n",
       "293  BBP1_C; Spindle pole body component Bbp1, C-te...  \n",
       "\n",
       "[243 rows x 4 columns]"
      ]
     },
     "execution_count": 24,
     "metadata": {},
     "output_type": "execute_result"
    }
   ],
   "source": [
    "df_sl_exclusive=pd.merge(df_sl,df_nsl,how='left',on='domain-number')\n",
    "\n",
    "domains_name=np.unique(data_domains['domain-name'])\n",
    "domains_description=np.unique(data_domains['domain-descrip'])\n",
    "\n",
    "df_sl_exclusive['domain-description']=domains_description[df_sl_exclusive['domain-number']]\n",
    "df_sl_exclusive[pd.isnull(df_sl_exclusive['pca-component_y'])]"
   ]
  },
  {
   "cell_type": "code",
   "execution_count": 25,
   "metadata": {
    "execution": {
     "iopub.execute_input": "2020-08-13T15:43:53.039174Z",
     "iopub.status.busy": "2020-08-13T15:43:53.036398Z",
     "iopub.status.idle": "2020-08-13T15:43:53.043689Z",
     "shell.execute_reply": "2020-08-13T15:43:53.042850Z"
    }
   },
   "outputs": [
    {
     "name": "stdout",
     "output_type": "stream",
     "text": [
      "The number of exclusive domains from SL pairs, after PCA, is =  294 out of 560 so the 52.5 %\n"
     ]
    }
   ],
   "source": [
    "print('The number of exclusive domains from SL pairs, after PCA, is = ',len(df_sl_exclusive), 'out of', len(df_sl)+len(df_nsl), 'so the',100*len(df_sl_exclusive)/(len(df_sl)+len(df_nsl)),'%')"
   ]
  },
  {
   "cell_type": "code",
   "execution_count": 26,
   "metadata": {
    "execution": {
     "iopub.execute_input": "2020-08-13T15:43:53.073088Z",
     "iopub.status.busy": "2020-08-13T15:43:53.048758Z",
     "iopub.status.idle": "2020-08-13T15:43:53.080886Z",
     "shell.execute_reply": "2020-08-13T15:43:53.080330Z"
    }
   },
   "outputs": [
    {
     "data": {
      "text/html": [
       "<div>\n",
       "<style scoped>\n",
       "    .dataframe tbody tr th:only-of-type {\n",
       "        vertical-align: middle;\n",
       "    }\n",
       "\n",
       "    .dataframe tbody tr th {\n",
       "        vertical-align: top;\n",
       "    }\n",
       "\n",
       "    .dataframe thead th {\n",
       "        text-align: right;\n",
       "    }\n",
       "</style>\n",
       "<table border=\"1\" class=\"dataframe\">\n",
       "  <thead>\n",
       "    <tr style=\"text-align: right;\">\n",
       "      <th></th>\n",
       "      <th>pca-component_x</th>\n",
       "      <th>domain-number</th>\n",
       "      <th>pca-component_y</th>\n",
       "      <th>domain-description</th>\n",
       "    </tr>\n",
       "  </thead>\n",
       "  <tbody>\n",
       "    <tr>\n",
       "      <th>0</th>\n",
       "      <td>NaN</td>\n",
       "      <td>1028</td>\n",
       "      <td>PC0</td>\n",
       "      <td>GatB_Yqey; Asn/Gln amidotransferase</td>\n",
       "    </tr>\n",
       "    <tr>\n",
       "      <th>2</th>\n",
       "      <td>NaN</td>\n",
       "      <td>308</td>\n",
       "      <td>PC2</td>\n",
       "      <td>Bul1_N; Bul1, N-terminal</td>\n",
       "    </tr>\n",
       "    <tr>\n",
       "      <th>4</th>\n",
       "      <td>NaN</td>\n",
       "      <td>142</td>\n",
       "      <td>PC4</td>\n",
       "      <td>ATP_synt_H; ATPase, V0 complex, subunit e1/e2</td>\n",
       "    </tr>\n",
       "    <tr>\n",
       "      <th>5</th>\n",
       "      <td>NaN</td>\n",
       "      <td>1055</td>\n",
       "      <td>PC5</td>\n",
       "      <td>Glyco_hydro_63N; Glycosyl hydrolase family 63,...</td>\n",
       "    </tr>\n",
       "    <tr>\n",
       "      <th>6</th>\n",
       "      <td>NaN</td>\n",
       "      <td>1055</td>\n",
       "      <td>PC6</td>\n",
       "      <td>Glyco_hydro_63N; Glycosyl hydrolase family 63,...</td>\n",
       "    </tr>\n",
       "    <tr>\n",
       "      <th>...</th>\n",
       "      <td>...</td>\n",
       "      <td>...</td>\n",
       "      <td>...</td>\n",
       "      <td>...</td>\n",
       "    </tr>\n",
       "    <tr>\n",
       "      <th>280</th>\n",
       "      <td>NaN</td>\n",
       "      <td>1993</td>\n",
       "      <td>PC268</td>\n",
       "      <td>RMI1_N; RecQ mediated genome instability prote...</td>\n",
       "    </tr>\n",
       "    <tr>\n",
       "      <th>281</th>\n",
       "      <td>NaN</td>\n",
       "      <td>1673</td>\n",
       "      <td>PC269</td>\n",
       "      <td>Opy2; Membrane anchor Opy2, N-terminal</td>\n",
       "    </tr>\n",
       "    <tr>\n",
       "      <th>283</th>\n",
       "      <td>NaN</td>\n",
       "      <td>6</td>\n",
       "      <td>PC272</td>\n",
       "      <td>2OG-FeII_Oxy_4</td>\n",
       "    </tr>\n",
       "    <tr>\n",
       "      <th>284</th>\n",
       "      <td>NaN</td>\n",
       "      <td>1021</td>\n",
       "      <td>PC273</td>\n",
       "      <td>Gal4_dimer; Gal4 dimerisation domain</td>\n",
       "    </tr>\n",
       "    <tr>\n",
       "      <th>285</th>\n",
       "      <td>NaN</td>\n",
       "      <td>1557</td>\n",
       "      <td>PC274</td>\n",
       "      <td>NAT; Vertebrate-like NAGS Gcn5-related N-acety...</td>\n",
       "    </tr>\n",
       "  </tbody>\n",
       "</table>\n",
       "<p>235 rows × 4 columns</p>\n",
       "</div>"
      ],
      "text/plain": [
       "    pca-component_x  domain-number pca-component_y  \\\n",
       "0               NaN           1028             PC0   \n",
       "2               NaN            308             PC2   \n",
       "4               NaN            142             PC4   \n",
       "5               NaN           1055             PC5   \n",
       "6               NaN           1055             PC6   \n",
       "..              ...            ...             ...   \n",
       "280             NaN           1993           PC268   \n",
       "281             NaN           1673           PC269   \n",
       "283             NaN              6           PC272   \n",
       "284             NaN           1021           PC273   \n",
       "285             NaN           1557           PC274   \n",
       "\n",
       "                                    domain-description  \n",
       "0                  GatB_Yqey; Asn/Gln amidotransferase  \n",
       "2                             Bul1_N; Bul1, N-terminal  \n",
       "4        ATP_synt_H; ATPase, V0 complex, subunit e1/e2  \n",
       "5    Glyco_hydro_63N; Glycosyl hydrolase family 63,...  \n",
       "6    Glyco_hydro_63N; Glycosyl hydrolase family 63,...  \n",
       "..                                                 ...  \n",
       "280  RMI1_N; RecQ mediated genome instability prote...  \n",
       "281             Opy2; Membrane anchor Opy2, N-terminal  \n",
       "283                                     2OG-FeII_Oxy_4  \n",
       "284               Gal4_dimer; Gal4 dimerisation domain  \n",
       "285  NAT; Vertebrate-like NAGS Gcn5-related N-acety...  \n",
       "\n",
       "[235 rows x 4 columns]"
      ]
     },
     "execution_count": 26,
     "metadata": {},
     "output_type": "execute_result"
    }
   ],
   "source": [
    "df_nsl_exclusive=pd.merge(df_sl,df_nsl,how='right',on='domain-number')\n",
    "\n",
    "domains_name=np.unique(data_domains['domain-name'])\n",
    "domains_description=np.unique(data_domains['domain-descrip'])\n",
    "\n",
    "df_nsl_exclusive['domain-description']=domains_description[df_nsl_exclusive['domain-number']]\n",
    "df_nsl_exclusive[pd.isnull(df_nsl_exclusive['pca-component_x'])]"
   ]
  },
  {
   "cell_type": "code",
   "execution_count": 27,
   "metadata": {
    "execution": {
     "iopub.execute_input": "2020-08-13T15:43:53.086509Z",
     "iopub.status.busy": "2020-08-13T15:43:53.084922Z",
     "iopub.status.idle": "2020-08-13T15:43:53.090908Z",
     "shell.execute_reply": "2020-08-13T15:43:53.090348Z"
    }
   },
   "outputs": [
    {
     "name": "stdout",
     "output_type": "stream",
     "text": [
      "The number of exclusive domains from non SL pairs, after PCA, is =  286 out of 560 so the 51.07142857142857 %\n"
     ]
    }
   ],
   "source": [
    "print('The number of exclusive domains from non SL pairs, after PCA, is = ',len(df_nsl_exclusive), 'out of', len(df_sl)+len(df_nsl), 'so the',100*len(df_nsl_exclusive)/(len(df_sl)+len(df_nsl)),'%')"
   ]
  },
  {
   "cell_type": "markdown",
   "metadata": {},
   "source": [
    "## Let see to the domains-number that get repeated after the PCA analysis , and selecting the most explanatory feature by its explained variance."
   ]
  },
  {
   "cell_type": "code",
   "execution_count": 28,
   "metadata": {
    "execution": {
     "iopub.execute_input": "2020-08-13T15:43:53.116449Z",
     "iopub.status.busy": "2020-08-13T15:43:53.115789Z",
     "iopub.status.idle": "2020-08-13T15:43:53.121052Z",
     "shell.execute_reply": "2020-08-13T15:43:53.120546Z"
    }
   },
   "outputs": [],
   "source": [
    "duplicated_features_sl=df_sl[df_sl.iloc[:,1].duplicated()]\n",
    "repeated_features_sl=pd.DataFrame()\n",
    "\n",
    "domains_name=np.unique(data_domains['domain-name'])\n",
    "domains_description=np.unique(data_domains['domain-descrip'])\n",
    "\n",
    "repeated_features_sl['domain-name']=domains_name[duplicated_features_sl.iloc[:,1]] \n",
    "repeated_features_sl['domain-description']=domains_description[duplicated_features_sl.iloc[:,1]]\n",
    "\n",
    "duplicated_features_nsl=df_nsl[df_nsl.iloc[:,1].duplicated()]\n",
    "repeated_features_nsl=pd.DataFrame()\n",
    "\n",
    "repeated_features_nsl['domain-name']=domains_name[duplicated_features_nsl.iloc[:,1]] \n",
    "repeated_features_nsl['domain-description']=domains_description[duplicated_features_nsl.iloc[:,1]]"
   ]
  },
  {
   "cell_type": "code",
   "execution_count": 29,
   "metadata": {
    "execution": {
     "iopub.execute_input": "2020-08-13T15:43:53.131615Z",
     "iopub.status.busy": "2020-08-13T15:43:53.130162Z",
     "iopub.status.idle": "2020-08-13T15:43:53.135582Z",
     "shell.execute_reply": "2020-08-13T15:43:53.136112Z"
    }
   },
   "outputs": [
    {
     "name": "stderr",
     "output_type": "stream",
     "text": [
      "/usr/share/miniconda3/envs/wintest/lib/python3.7/site-packages/ipykernel_launcher.py:3: SettingWithCopyWarning: \n",
      "A value is trying to be set on a copy of a slice from a DataFrame.\n",
      "Try using .loc[row_indexer,col_indexer] = value instead\n",
      "\n",
      "See the caveats in the documentation: https://pandas.pydata.org/pandas-docs/stable/user_guide/indexing.html#returning-a-view-versus-a-copy\n",
      "  This is separate from the ipykernel package so we can avoid doing imports until\n"
     ]
    },
    {
     "data": {
      "text/plain": [
       "((44, 4), (294, 4))"
      ]
     },
     "execution_count": 29,
     "metadata": {},
     "output_type": "execute_result"
    }
   ],
   "source": [
    "only_sl_pd=pd.merge(repeated_features_sl,repeated_features_nsl,how='left',on=['domain-name'])\n",
    "data_only_sl = only_sl_pd[pd.isnull(only_sl_pd['domain-description_y'])]\n",
    "data_only_sl['domain-description']=data_only_sl['domain-description_x']\n",
    "data_only_sl.shape,df_sl_exclusive.shape"
   ]
  },
  {
   "cell_type": "code",
   "execution_count": 30,
   "metadata": {
    "execution": {
     "iopub.execute_input": "2020-08-13T15:43:53.155603Z",
     "iopub.status.busy": "2020-08-13T15:43:53.155018Z",
     "iopub.status.idle": "2020-08-13T15:43:53.158255Z",
     "shell.execute_reply": "2020-08-13T15:43:53.158778Z"
    }
   },
   "outputs": [
    {
     "data": {
      "text/html": [
       "<div>\n",
       "<style scoped>\n",
       "    .dataframe tbody tr th:only-of-type {\n",
       "        vertical-align: middle;\n",
       "    }\n",
       "\n",
       "    .dataframe tbody tr th {\n",
       "        vertical-align: top;\n",
       "    }\n",
       "\n",
       "    .dataframe thead th {\n",
       "        text-align: right;\n",
       "    }\n",
       "</style>\n",
       "<table border=\"1\" class=\"dataframe\">\n",
       "  <thead>\n",
       "    <tr style=\"text-align: right;\">\n",
       "      <th></th>\n",
       "      <th>domain-name</th>\n",
       "      <th>domain-description_x</th>\n",
       "      <th>domain-description_y</th>\n",
       "    </tr>\n",
       "  </thead>\n",
       "  <tbody>\n",
       "    <tr>\n",
       "      <th>0</th>\n",
       "      <td>PF03144</td>\n",
       "      <td>NaN</td>\n",
       "      <td>Glyco_hydro_63N; Glycosyl hydrolase family 63,...</td>\n",
       "    </tr>\n",
       "    <tr>\n",
       "      <th>1</th>\n",
       "      <td>PF00575</td>\n",
       "      <td>NaN</td>\n",
       "      <td>BPL_N; Biotin-protein ligase, N-terminal</td>\n",
       "    </tr>\n",
       "    <tr>\n",
       "      <th>2</th>\n",
       "      <td>PF04053</td>\n",
       "      <td>NaN</td>\n",
       "      <td>JmjC; JmjC domain</td>\n",
       "    </tr>\n",
       "    <tr>\n",
       "      <th>4</th>\n",
       "      <td>PF00293</td>\n",
       "      <td>NaN</td>\n",
       "      <td>A_deaminase; Adenosine/AMP deaminase domain</td>\n",
       "    </tr>\n",
       "    <tr>\n",
       "      <th>5</th>\n",
       "      <td>PF00752</td>\n",
       "      <td>NaN</td>\n",
       "      <td>CNH; Citron homology (CNH) domain</td>\n",
       "    </tr>\n",
       "    <tr>\n",
       "      <th>6</th>\n",
       "      <td>PF01805</td>\n",
       "      <td>NaN</td>\n",
       "      <td>Dcc1; Sister chromatid cohesion protein Dcc1</td>\n",
       "    </tr>\n",
       "    <tr>\n",
       "      <th>7</th>\n",
       "      <td>PF00578</td>\n",
       "      <td>NaN</td>\n",
       "      <td>BRAP2; BRCA1-associated 2</td>\n",
       "    </tr>\n",
       "    <tr>\n",
       "      <th>8</th>\n",
       "      <td>PF04824</td>\n",
       "      <td>NaN</td>\n",
       "      <td>Mcp5_PH; Pleckstrin homology domain, Mcp5-type</td>\n",
       "    </tr>\n",
       "    <tr>\n",
       "      <th>9</th>\n",
       "      <td>PF16209</td>\n",
       "      <td>NaN</td>\n",
       "      <td>YccF; Inner membrane component domain</td>\n",
       "    </tr>\n",
       "    <tr>\n",
       "      <th>10</th>\n",
       "      <td>PF08647</td>\n",
       "      <td>NaN</td>\n",
       "      <td>RNA_pol_L_2; DNA-directed RNA polymerase, RBP1...</td>\n",
       "    </tr>\n",
       "    <tr>\n",
       "      <th>11</th>\n",
       "      <td>PF04049</td>\n",
       "      <td>NaN</td>\n",
       "      <td>Isy1; Pre-mRNA-splicing factor Isy1</td>\n",
       "    </tr>\n",
       "    <tr>\n",
       "      <th>12</th>\n",
       "      <td>PF04408</td>\n",
       "      <td>NaN</td>\n",
       "      <td>MAD; Spindle assembly checkpoint component Mad1</td>\n",
       "    </tr>\n",
       "    <tr>\n",
       "      <th>13</th>\n",
       "      <td>PF09757</td>\n",
       "      <td>NaN</td>\n",
       "      <td>Ribosomal_L14e; Ribosomal protein L14e domain</td>\n",
       "    </tr>\n",
       "    <tr>\n",
       "      <th>14</th>\n",
       "      <td>PF05093</td>\n",
       "      <td>NaN</td>\n",
       "      <td>Mis14; Kinetochore Mis14/Nsl1</td>\n",
       "    </tr>\n",
       "    <tr>\n",
       "      <th>15</th>\n",
       "      <td>PF12856</td>\n",
       "      <td>NaN</td>\n",
       "      <td>TBP; TATA-box binding protein</td>\n",
       "    </tr>\n",
       "    <tr>\n",
       "      <th>16</th>\n",
       "      <td>PF00611</td>\n",
       "      <td>NaN</td>\n",
       "      <td>Beta-Casp; Beta-Casp domain</td>\n",
       "    </tr>\n",
       "    <tr>\n",
       "      <th>17</th>\n",
       "      <td>PF06046</td>\n",
       "      <td>NaN</td>\n",
       "      <td>Nop16; Ribosome biogenesis protein Nop16</td>\n",
       "    </tr>\n",
       "    <tr>\n",
       "      <th>18</th>\n",
       "      <td>PF07575</td>\n",
       "      <td>NaN</td>\n",
       "      <td>PGK; Phosphoglycerate kinase</td>\n",
       "    </tr>\n",
       "    <tr>\n",
       "      <th>19</th>\n",
       "      <td>PF03029</td>\n",
       "      <td>NaN</td>\n",
       "      <td>Gcd10p; tRNA (adenine(58)-N(1))-methyltransfer...</td>\n",
       "    </tr>\n",
       "    <tr>\n",
       "      <th>20</th>\n",
       "      <td>PF09079</td>\n",
       "      <td>NaN</td>\n",
       "      <td>RRT14; Regulator of rDNA transcription 14</td>\n",
       "    </tr>\n",
       "    <tr>\n",
       "      <th>21</th>\n",
       "      <td>PF10644</td>\n",
       "      <td>NaN</td>\n",
       "      <td>SKN1; Beta-glucan synthesis-associated, SKN1</td>\n",
       "    </tr>\n",
       "    <tr>\n",
       "      <th>22</th>\n",
       "      <td>PF03371</td>\n",
       "      <td>NaN</td>\n",
       "      <td>HBS1_N; HBS1-like protein, N-terminal</td>\n",
       "    </tr>\n",
       "    <tr>\n",
       "      <th>23</th>\n",
       "      <td>PF09444</td>\n",
       "      <td>NaN</td>\n",
       "      <td>Rer1; Retrieval of early ER protein Rer1</td>\n",
       "    </tr>\n",
       "    <tr>\n",
       "      <th>24</th>\n",
       "      <td>PF12998</td>\n",
       "      <td>NaN</td>\n",
       "      <td>TFIIIC_sub6; Transcription factor TFIIIC, tau5...</td>\n",
       "    </tr>\n",
       "    <tr>\n",
       "      <th>25</th>\n",
       "      <td>PF03657</td>\n",
       "      <td>NaN</td>\n",
       "      <td>Hat1_N; Histone acetyl transferase HAT1 N-term...</td>\n",
       "    </tr>\n",
       "    <tr>\n",
       "      <th>26</th>\n",
       "      <td>PF04088</td>\n",
       "      <td>NaN</td>\n",
       "      <td>Kelch_5</td>\n",
       "    </tr>\n",
       "    <tr>\n",
       "      <th>27</th>\n",
       "      <td>PF09724</td>\n",
       "      <td>NaN</td>\n",
       "      <td>Ribosomal_60s</td>\n",
       "    </tr>\n",
       "    <tr>\n",
       "      <th>28</th>\n",
       "      <td>PF00568</td>\n",
       "      <td>NaN</td>\n",
       "      <td>BLM10_N; Proteasome activator Blm10, N-terminal</td>\n",
       "    </tr>\n",
       "    <tr>\n",
       "      <th>29</th>\n",
       "      <td>PF02383</td>\n",
       "      <td>NaN</td>\n",
       "      <td>FHA; Forkhead-associated (FHA) domain</td>\n",
       "    </tr>\n",
       "    <tr>\n",
       "      <th>31</th>\n",
       "      <td>PF12550</td>\n",
       "      <td>NaN</td>\n",
       "      <td>Sortilin-Vps10; Sortilin, N-terminal</td>\n",
       "    </tr>\n",
       "    <tr>\n",
       "      <th>32</th>\n",
       "      <td>PF04427</td>\n",
       "      <td>NaN</td>\n",
       "      <td>MATalpha_HMGbox; Mating-type protein MAT alpha...</td>\n",
       "    </tr>\n",
       "    <tr>\n",
       "      <th>34</th>\n",
       "      <td>PF00137</td>\n",
       "      <td>NaN</td>\n",
       "      <td>AICARFT_IMPCHas; AICARFT/IMPCHase bienzyme</td>\n",
       "    </tr>\n",
       "    <tr>\n",
       "      <th>35</th>\n",
       "      <td>PF04080</td>\n",
       "      <td>NaN</td>\n",
       "      <td>Kdo; Lipopolysaccharide kinase</td>\n",
       "    </tr>\n",
       "    <tr>\n",
       "      <th>36</th>\n",
       "      <td>PF04191</td>\n",
       "      <td>NaN</td>\n",
       "      <td>Lgl_C; Lethal giant larvae (Lgl)-like, C-termi...</td>\n",
       "    </tr>\n",
       "    <tr>\n",
       "      <th>37</th>\n",
       "      <td>PF04191</td>\n",
       "      <td>NaN</td>\n",
       "      <td>Lgl_C; Lethal giant larvae (Lgl)-like, C-termi...</td>\n",
       "    </tr>\n",
       "    <tr>\n",
       "      <th>38</th>\n",
       "      <td>PF08550</td>\n",
       "      <td>NaN</td>\n",
       "      <td>Pribosyltran_N; Ribose-phosphate pyrophosphoki...</td>\n",
       "    </tr>\n",
       "    <tr>\n",
       "      <th>39</th>\n",
       "      <td>PF08631</td>\n",
       "      <td>NaN</td>\n",
       "      <td>RLI; RNase L inhibitor RLI, possible metal-bin...</td>\n",
       "    </tr>\n",
       "    <tr>\n",
       "      <th>40</th>\n",
       "      <td>PF03142</td>\n",
       "      <td>NaN</td>\n",
       "      <td>Glyco_hydro_47; Glycoside hydrolase family 47</td>\n",
       "    </tr>\n",
       "    <tr>\n",
       "      <th>41</th>\n",
       "      <td>PF01929</td>\n",
       "      <td>NaN</td>\n",
       "      <td>EAP30</td>\n",
       "    </tr>\n",
       "    <tr>\n",
       "      <th>42</th>\n",
       "      <td>PF12451</td>\n",
       "      <td>NaN</td>\n",
       "      <td>SnAC; Snf2, ATP coupling domain</td>\n",
       "    </tr>\n",
       "    <tr>\n",
       "      <th>43</th>\n",
       "      <td>PF05719</td>\n",
       "      <td>NaN</td>\n",
       "      <td>NOT2_3_5; NOT2/NOT3/NOT5</td>\n",
       "    </tr>\n",
       "    <tr>\n",
       "      <th>44</th>\n",
       "      <td>PF05719</td>\n",
       "      <td>NaN</td>\n",
       "      <td>NOT2_3_5; NOT2/NOT3/NOT5</td>\n",
       "    </tr>\n",
       "    <tr>\n",
       "      <th>45</th>\n",
       "      <td>PF12271</td>\n",
       "      <td>NaN</td>\n",
       "      <td>Sgf11; SAGA complex, Sgf11 subunit</td>\n",
       "    </tr>\n",
       "  </tbody>\n",
       "</table>\n",
       "</div>"
      ],
      "text/plain": [
       "   domain-name domain-description_x  \\\n",
       "0      PF03144                  NaN   \n",
       "1      PF00575                  NaN   \n",
       "2      PF04053                  NaN   \n",
       "4      PF00293                  NaN   \n",
       "5      PF00752                  NaN   \n",
       "6      PF01805                  NaN   \n",
       "7      PF00578                  NaN   \n",
       "8      PF04824                  NaN   \n",
       "9      PF16209                  NaN   \n",
       "10     PF08647                  NaN   \n",
       "11     PF04049                  NaN   \n",
       "12     PF04408                  NaN   \n",
       "13     PF09757                  NaN   \n",
       "14     PF05093                  NaN   \n",
       "15     PF12856                  NaN   \n",
       "16     PF00611                  NaN   \n",
       "17     PF06046                  NaN   \n",
       "18     PF07575                  NaN   \n",
       "19     PF03029                  NaN   \n",
       "20     PF09079                  NaN   \n",
       "21     PF10644                  NaN   \n",
       "22     PF03371                  NaN   \n",
       "23     PF09444                  NaN   \n",
       "24     PF12998                  NaN   \n",
       "25     PF03657                  NaN   \n",
       "26     PF04088                  NaN   \n",
       "27     PF09724                  NaN   \n",
       "28     PF00568                  NaN   \n",
       "29     PF02383                  NaN   \n",
       "31     PF12550                  NaN   \n",
       "32     PF04427                  NaN   \n",
       "34     PF00137                  NaN   \n",
       "35     PF04080                  NaN   \n",
       "36     PF04191                  NaN   \n",
       "37     PF04191                  NaN   \n",
       "38     PF08550                  NaN   \n",
       "39     PF08631                  NaN   \n",
       "40     PF03142                  NaN   \n",
       "41     PF01929                  NaN   \n",
       "42     PF12451                  NaN   \n",
       "43     PF05719                  NaN   \n",
       "44     PF05719                  NaN   \n",
       "45     PF12271                  NaN   \n",
       "\n",
       "                                 domain-description_y  \n",
       "0   Glyco_hydro_63N; Glycosyl hydrolase family 63,...  \n",
       "1            BPL_N; Biotin-protein ligase, N-terminal  \n",
       "2                                   JmjC; JmjC domain  \n",
       "4         A_deaminase; Adenosine/AMP deaminase domain  \n",
       "5                   CNH; Citron homology (CNH) domain  \n",
       "6        Dcc1; Sister chromatid cohesion protein Dcc1  \n",
       "7                           BRAP2; BRCA1-associated 2  \n",
       "8      Mcp5_PH; Pleckstrin homology domain, Mcp5-type  \n",
       "9               YccF; Inner membrane component domain  \n",
       "10  RNA_pol_L_2; DNA-directed RNA polymerase, RBP1...  \n",
       "11                Isy1; Pre-mRNA-splicing factor Isy1  \n",
       "12    MAD; Spindle assembly checkpoint component Mad1  \n",
       "13      Ribosomal_L14e; Ribosomal protein L14e domain  \n",
       "14                      Mis14; Kinetochore Mis14/Nsl1  \n",
       "15                      TBP; TATA-box binding protein  \n",
       "16                        Beta-Casp; Beta-Casp domain  \n",
       "17           Nop16; Ribosome biogenesis protein Nop16  \n",
       "18                       PGK; Phosphoglycerate kinase  \n",
       "19  Gcd10p; tRNA (adenine(58)-N(1))-methyltransfer...  \n",
       "20          RRT14; Regulator of rDNA transcription 14  \n",
       "21       SKN1; Beta-glucan synthesis-associated, SKN1  \n",
       "22              HBS1_N; HBS1-like protein, N-terminal  \n",
       "23           Rer1; Retrieval of early ER protein Rer1  \n",
       "24  TFIIIC_sub6; Transcription factor TFIIIC, tau5...  \n",
       "25  Hat1_N; Histone acetyl transferase HAT1 N-term...  \n",
       "26                                            Kelch_5  \n",
       "27                                      Ribosomal_60s  \n",
       "28    BLM10_N; Proteasome activator Blm10, N-terminal  \n",
       "29              FHA; Forkhead-associated (FHA) domain  \n",
       "31               Sortilin-Vps10; Sortilin, N-terminal  \n",
       "32  MATalpha_HMGbox; Mating-type protein MAT alpha...  \n",
       "34         AICARFT_IMPCHas; AICARFT/IMPCHase bienzyme  \n",
       "35                     Kdo; Lipopolysaccharide kinase  \n",
       "36  Lgl_C; Lethal giant larvae (Lgl)-like, C-termi...  \n",
       "37  Lgl_C; Lethal giant larvae (Lgl)-like, C-termi...  \n",
       "38  Pribosyltran_N; Ribose-phosphate pyrophosphoki...  \n",
       "39  RLI; RNase L inhibitor RLI, possible metal-bin...  \n",
       "40      Glyco_hydro_47; Glycoside hydrolase family 47  \n",
       "41                                              EAP30  \n",
       "42                    SnAC; Snf2, ATP coupling domain  \n",
       "43                           NOT2_3_5; NOT2/NOT3/NOT5  \n",
       "44                           NOT2_3_5; NOT2/NOT3/NOT5  \n",
       "45                 Sgf11; SAGA complex, Sgf11 subunit  "
      ]
     },
     "execution_count": 30,
     "metadata": {},
     "output_type": "execute_result"
    }
   ],
   "source": [
    "only_nsl_pd=pd.merge(repeated_features_sl,repeated_features_nsl,how='right',on=['domain-name'])\n",
    "data_only_nsl = only_nsl_pd[pd.isnull(only_nsl_pd['domain-description_x'])]\n",
    "data_only_nsl"
   ]
  },
  {
   "cell_type": "code",
   "execution_count": 31,
   "metadata": {
    "execution": {
     "iopub.execute_input": "2020-08-13T15:43:53.171403Z",
     "iopub.status.busy": "2020-08-13T15:43:53.166466Z",
     "iopub.status.idle": "2020-08-13T15:43:53.173898Z",
     "shell.execute_reply": "2020-08-13T15:43:53.174406Z"
    }
   },
   "outputs": [
    {
     "data": {
      "text/html": [
       "<div>\n",
       "<style scoped>\n",
       "    .dataframe tbody tr th:only-of-type {\n",
       "        vertical-align: middle;\n",
       "    }\n",
       "\n",
       "    .dataframe tbody tr th {\n",
       "        vertical-align: top;\n",
       "    }\n",
       "\n",
       "    .dataframe thead th {\n",
       "        text-align: right;\n",
       "    }\n",
       "</style>\n",
       "<table border=\"1\" class=\"dataframe\">\n",
       "  <thead>\n",
       "    <tr style=\"text-align: right;\">\n",
       "      <th></th>\n",
       "      <th>domain-name</th>\n",
       "      <th>domain-description_x</th>\n",
       "      <th>domain-description_y</th>\n",
       "    </tr>\n",
       "  </thead>\n",
       "  <tbody>\n",
       "    <tr>\n",
       "      <th>0</th>\n",
       "      <td>PF03234</td>\n",
       "      <td>Gpi1; N-acetylglucosaminyl transferase component</td>\n",
       "      <td>Gpi1; N-acetylglucosaminyl transferase component</td>\n",
       "    </tr>\n",
       "    <tr>\n",
       "      <th>1</th>\n",
       "      <td>PF03271</td>\n",
       "      <td>Gti1_Pac2; Gti1/Pac2 family</td>\n",
       "      <td>Gti1_Pac2; Gti1/Pac2 family</td>\n",
       "    </tr>\n",
       "    <tr>\n",
       "      <th>2</th>\n",
       "      <td>PF08613</td>\n",
       "      <td>RFX_DNA_binding; DNA-binding RFX-type winged-h...</td>\n",
       "      <td>RFX_DNA_binding; DNA-binding RFX-type winged-h...</td>\n",
       "    </tr>\n",
       "  </tbody>\n",
       "</table>\n",
       "</div>"
      ],
      "text/plain": [
       "  domain-name                               domain-description_x  \\\n",
       "0     PF03234   Gpi1; N-acetylglucosaminyl transferase component   \n",
       "1     PF03271                        Gti1_Pac2; Gti1/Pac2 family   \n",
       "2     PF08613  RFX_DNA_binding; DNA-binding RFX-type winged-h...   \n",
       "\n",
       "                                domain-description_y  \n",
       "0   Gpi1; N-acetylglucosaminyl transferase component  \n",
       "1                        Gti1_Pac2; Gti1/Pac2 family  \n",
       "2  RFX_DNA_binding; DNA-binding RFX-type winged-h...  "
      ]
     },
     "execution_count": 31,
     "metadata": {},
     "output_type": "execute_result"
    }
   ],
   "source": [
    "shared_domains_pd=pd.merge(repeated_features_sl,repeated_features_nsl,how='inner',on=['domain-name'])\n",
    "shared_domains_pd\n"
   ]
  },
  {
   "cell_type": "code",
   "execution_count": 32,
   "metadata": {
    "execution": {
     "iopub.execute_input": "2020-08-13T15:43:53.195262Z",
     "iopub.status.busy": "2020-08-13T15:43:53.194641Z",
     "iopub.status.idle": "2020-08-13T15:43:54.902565Z",
     "shell.execute_reply": "2020-08-13T15:43:54.901986Z"
    }
   },
   "outputs": [
    {
     "data": {
      "text/plain": [
       "(0.0, 0.2)"
      ]
     },
     "execution_count": 32,
     "metadata": {},
     "output_type": "execute_result"
    },
    {
     "data": {
      "image/png": "[encoded data removed]",
      "text/plain": [
       "<Figure size 432x288 with 1 Axes>"
      ]
     },
     "metadata": {
      "filenames": {
       "image/png": "/home/runner/work/jupyter-book/jupyter-book/mini_book/docs/_build/jupyter_execute/prot_domains2lethality-FEATURES-POSTPROCESSING_47_1.png"
      },
      "needs_background": "light"
     },
     "output_type": "display_data"
    }
   ],
   "source": [
    "a_sl=x_sl.iloc[:,np.sort(df_sl.iloc[:,1])]\n",
    "a_sl.describe().loc['mean'].hist(bins=8),\n",
    "a_sl.describe().loc['std'].hist(bins=8,alpha=0.4)\n",
    "plt.xlim([0,0.2])"
   ]
  },
  {
   "cell_type": "code",
   "execution_count": 33,
   "metadata": {
    "execution": {
     "iopub.execute_input": "2020-08-13T15:43:54.961708Z",
     "iopub.status.busy": "2020-08-13T15:43:54.948765Z",
     "iopub.status.idle": "2020-08-13T15:43:56.639168Z",
     "shell.execute_reply": "2020-08-13T15:43:56.638631Z"
    }
   },
   "outputs": [
    {
     "data": {
      "text/plain": [
       "(0.0, 0.2)"
      ]
     },
     "execution_count": 33,
     "metadata": {},
     "output_type": "execute_result"
    },
    {
     "data": {
      "image/png": "[encoded data removed]",
      "text/plain": [
       "<Figure size 432x288 with 1 Axes>"
      ]
     },
     "metadata": {
      "filenames": {
       "image/png": "/home/runner/work/jupyter-book/jupyter-book/mini_book/docs/_build/jupyter_execute/prot_domains2lethality-FEATURES-POSTPROCESSING_48_1.png"
      },
      "needs_background": "light"
     },
     "output_type": "display_data"
    }
   ],
   "source": [
    "a_nsl=x_nsl.iloc[:,np.sort(df_nsl.iloc[:,1])]\n",
    "a_nsl.describe().loc['mean'].hist(bins=8),\n",
    "a_nsl.describe().loc['std'].hist(bins=8,alpha=0.4)\n",
    "plt.xlim([0,0.2])"
   ]
  },
  {
   "cell_type": "markdown",
   "metadata": {},
   "source": [
    "### Proof of concept with *BEM1*\n",
    "\n",
    "- Gather the domains of SL and nSL pairs from BEM1\n",
    "- Check if the domains for the SL and nSL pairs are inside the most important domains after PCA."
   ]
  },
  {
   "cell_type": "code",
   "execution_count": 34,
   "metadata": {
    "execution": {
     "iopub.execute_input": "2020-08-13T15:43:56.646593Z",
     "iopub.status.busy": "2020-08-13T15:43:56.645640Z",
     "iopub.status.idle": "2020-08-13T15:43:56.650130Z",
     "shell.execute_reply": "2020-08-13T15:43:56.649593Z"
    }
   },
   "outputs": [],
   "source": [
    "domains_bem1=data_domains[data_domains['name']=='BEM1']['domain-descrip']\n",
    "sl_bem1=data_sl[data_sl['gene-query-name']=='BEM1']['gene-target-name']"
   ]
  },
  {
   "cell_type": "code",
   "execution_count": 35,
   "metadata": {
    "execution": {
     "iopub.execute_input": "2020-08-13T15:43:56.655269Z",
     "iopub.status.busy": "2020-08-13T15:43:56.654691Z",
     "iopub.status.idle": "2020-08-13T15:43:56.660355Z",
     "shell.execute_reply": "2020-08-13T15:43:56.660952Z"
    }
   },
   "outputs": [
    {
     "data": {
      "text/plain": [
       "2846      BEM2\n",
       "2847     CDC24\n",
       "5004      MSB1\n",
       "13777     SMI1\n",
       "13778     BNI1\n",
       "13779     BEM2\n",
       "14385     SKN7\n",
       "Name: gene-target-name, dtype: object"
      ]
     },
     "execution_count": 35,
     "metadata": {},
     "output_type": "execute_result"
    }
   ],
   "source": [
    "sl_bem1"
   ]
  },
  {
   "cell_type": "code",
   "execution_count": 36,
   "metadata": {
    "execution": {
     "iopub.execute_input": "2020-08-13T15:43:56.676899Z",
     "iopub.status.busy": "2020-08-13T15:43:56.676338Z",
     "iopub.status.idle": "2020-08-13T15:43:56.682049Z",
     "shell.execute_reply": "2020-08-13T15:43:56.681538Z"
    }
   },
   "outputs": [
    {
     "data": {
      "text/html": [
       "<div>\n",
       "<style scoped>\n",
       "    .dataframe tbody tr th:only-of-type {\n",
       "        vertical-align: middle;\n",
       "    }\n",
       "\n",
       "    .dataframe tbody tr th {\n",
       "        vertical-align: top;\n",
       "    }\n",
       "\n",
       "    .dataframe thead th {\n",
       "        text-align: right;\n",
       "    }\n",
       "</style>\n",
       "<table border=\"1\" class=\"dataframe\">\n",
       "  <thead>\n",
       "    <tr style=\"text-align: right;\">\n",
       "      <th></th>\n",
       "      <th>gene-query</th>\n",
       "      <th>gene-target</th>\n",
       "      <th>gene-query-name</th>\n",
       "      <th>gene-target-name</th>\n",
       "      <th>gene-query-description</th>\n",
       "      <th>gene-target-description</th>\n",
       "      <th>interaction-type</th>\n",
       "      <th>paper-source</th>\n",
       "    </tr>\n",
       "  </thead>\n",
       "  <tbody>\n",
       "    <tr>\n",
       "      <th>2846</th>\n",
       "      <td>YBR200W</td>\n",
       "      <td>YER155C</td>\n",
       "      <td>BEM1</td>\n",
       "      <td>BEM2</td>\n",
       "      <td>SRO1|phosphatidylinositol-3-phosphate-binding ...</td>\n",
       "      <td>IPL2|SUP9|TSL1|L000000168</td>\n",
       "      <td>Synthetic Lethality</td>\n",
       "      <td>Peterson J (1994)</td>\n",
       "    </tr>\n",
       "    <tr>\n",
       "      <th>2847</th>\n",
       "      <td>YBR200W</td>\n",
       "      <td>YAL041W</td>\n",
       "      <td>BEM1</td>\n",
       "      <td>CDC24</td>\n",
       "      <td>SRO1|phosphatidylinositol-3-phosphate-binding ...</td>\n",
       "      <td>CLS4|Rho family guanine nucleotide exchange fa...</td>\n",
       "      <td>Synthetic Lethality</td>\n",
       "      <td>Peterson J (1994)</td>\n",
       "    </tr>\n",
       "    <tr>\n",
       "      <th>5004</th>\n",
       "      <td>YBR200W</td>\n",
       "      <td>YOR188W</td>\n",
       "      <td>BEM1</td>\n",
       "      <td>MSB1</td>\n",
       "      <td>SRO1|phosphatidylinositol-3-phosphate-binding ...</td>\n",
       "      <td>L000001184</td>\n",
       "      <td>Synthetic Lethality</td>\n",
       "      <td>Bender A (1991)</td>\n",
       "    </tr>\n",
       "    <tr>\n",
       "      <th>13777</th>\n",
       "      <td>YBR200W</td>\n",
       "      <td>YGR229C</td>\n",
       "      <td>BEM1</td>\n",
       "      <td>SMI1</td>\n",
       "      <td>SRO1|phosphatidylinositol-3-phosphate-binding ...</td>\n",
       "      <td>KNR4|L000000909</td>\n",
       "      <td>Synthetic Lethality</td>\n",
       "      <td>Gorelik M (2011)</td>\n",
       "    </tr>\n",
       "    <tr>\n",
       "      <th>13778</th>\n",
       "      <td>YBR200W</td>\n",
       "      <td>YNL271C</td>\n",
       "      <td>BEM1</td>\n",
       "      <td>BNI1</td>\n",
       "      <td>SRO1|phosphatidylinositol-3-phosphate-binding ...</td>\n",
       "      <td>PPF3|SHE5|formin BNI1|L000000190</td>\n",
       "      <td>Synthetic Lethality</td>\n",
       "      <td>Gorelik M (2011)</td>\n",
       "    </tr>\n",
       "    <tr>\n",
       "      <th>13779</th>\n",
       "      <td>YBR200W</td>\n",
       "      <td>YER155C</td>\n",
       "      <td>BEM1</td>\n",
       "      <td>BEM2</td>\n",
       "      <td>SRO1|phosphatidylinositol-3-phosphate-binding ...</td>\n",
       "      <td>IPL2|SUP9|TSL1|L000000168</td>\n",
       "      <td>Synthetic Lethality</td>\n",
       "      <td>Gorelik M (2011)</td>\n",
       "    </tr>\n",
       "    <tr>\n",
       "      <th>14385</th>\n",
       "      <td>YBR200W</td>\n",
       "      <td>YHR206W</td>\n",
       "      <td>BEM1</td>\n",
       "      <td>SKN7</td>\n",
       "      <td>SRO1|phosphatidylinositol-3-phosphate-binding ...</td>\n",
       "      <td>BRY1|POS9|kinase-regulated stress-responsive t...</td>\n",
       "      <td>Dosage Lethality</td>\n",
       "      <td>Bouquin N (1999)</td>\n",
       "    </tr>\n",
       "  </tbody>\n",
       "</table>\n",
       "</div>"
      ],
      "text/plain": [
       "      gene-query gene-target gene-query-name gene-target-name  \\\n",
       "2846     YBR200W     YER155C            BEM1             BEM2   \n",
       "2847     YBR200W     YAL041W            BEM1            CDC24   \n",
       "5004     YBR200W     YOR188W            BEM1             MSB1   \n",
       "13777    YBR200W     YGR229C            BEM1             SMI1   \n",
       "13778    YBR200W     YNL271C            BEM1             BNI1   \n",
       "13779    YBR200W     YER155C            BEM1             BEM2   \n",
       "14385    YBR200W     YHR206W            BEM1             SKN7   \n",
       "\n",
       "                                  gene-query-description  \\\n",
       "2846   SRO1|phosphatidylinositol-3-phosphate-binding ...   \n",
       "2847   SRO1|phosphatidylinositol-3-phosphate-binding ...   \n",
       "5004   SRO1|phosphatidylinositol-3-phosphate-binding ...   \n",
       "13777  SRO1|phosphatidylinositol-3-phosphate-binding ...   \n",
       "13778  SRO1|phosphatidylinositol-3-phosphate-binding ...   \n",
       "13779  SRO1|phosphatidylinositol-3-phosphate-binding ...   \n",
       "14385  SRO1|phosphatidylinositol-3-phosphate-binding ...   \n",
       "\n",
       "                                 gene-target-description     interaction-type  \\\n",
       "2846                           IPL2|SUP9|TSL1|L000000168  Synthetic Lethality   \n",
       "2847   CLS4|Rho family guanine nucleotide exchange fa...  Synthetic Lethality   \n",
       "5004                                          L000001184  Synthetic Lethality   \n",
       "13777                                    KNR4|L000000909  Synthetic Lethality   \n",
       "13778                   PPF3|SHE5|formin BNI1|L000000190  Synthetic Lethality   \n",
       "13779                          IPL2|SUP9|TSL1|L000000168  Synthetic Lethality   \n",
       "14385  BRY1|POS9|kinase-regulated stress-responsive t...     Dosage Lethality   \n",
       "\n",
       "            paper-source  \n",
       "2846   Peterson J (1994)  \n",
       "2847   Peterson J (1994)  \n",
       "5004     Bender A (1991)  \n",
       "13777   Gorelik M (2011)  \n",
       "13778   Gorelik M (2011)  \n",
       "13779   Gorelik M (2011)  \n",
       "14385   Bouquin N (1999)  "
      ]
     },
     "execution_count": 36,
     "metadata": {},
     "output_type": "execute_result"
    }
   ],
   "source": [
    "data_sl[data_sl['gene-query-name']=='BEM1']"
   ]
  },
  {
   "cell_type": "code",
   "execution_count": null,
   "metadata": {},
   "outputs": [],
   "source": []
  }
 ],
 "metadata": {
  "jupytext": {
   "text_representation": {
    "extension": ".md",
    "format_name": "myst"
   }
  },
  "kernelspec": {
   "display_name": "Python 3",
   "language": "python",
   "name": "python3"
  },
  "language_info": {
   "codemirror_mode": {
    "name": "ipython",
    "version": 3
   },
   "file_extension": ".py",
   "mimetype": "text/x-python",
   "name": "python",
   "nbconvert_exporter": "python",
   "pygments_lexer": "ipython3",
   "version": "3.7.8"
  },
  "source_map": [
   10,
   18,
   29,
   36,
   57,
   66,
   98,
   101,
   105,
   128,
   131,
   135,
   139,
   145,
   178,
   184,
   188,
   206,
   210,
   218,
   222,
   225,
   229,
   234,
   238,
   244,
   248,
   253,
   257,
   267,
   269,
   273,
   306,
   311,
   313,
   317,
   328,
   330,
   334,
   344,
   348,
   358,
   360,
   364,
   381,
   388,
   394,
   400,
   407,
   412,
   419,
   424,
   428,
   432
  ]
 },
 "nbformat": 4,
 "nbformat_minor": 4
}