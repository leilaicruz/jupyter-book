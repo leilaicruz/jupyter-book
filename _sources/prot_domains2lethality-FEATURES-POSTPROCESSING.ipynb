{
 "cells": [
  {
   "cell_type": "markdown",
   "metadata": {},
   "source": [
    "# Feature postprocessing from paper.\n",
    "- Title:  \"Predicting yeast synthetic lethal genetic interactions using protein domains\"\n",
    "- Authors: Bo Li, Feng Luo,School of Computing,Clemson University,Clemson, SC, USA\n",
    "- e-mail: bol, luofeng@clemson.edu\n",
    "- year:2009"
   ]
  },
  {
   "cell_type": "code",
   "execution_count": 1,
   "metadata": {
    "execution": {
     "iopub.execute_input": "2020-07-20T13:06:40.272543Z",
     "iopub.status.busy": "2020-07-20T13:06:40.271664Z",
     "iopub.status.idle": "2020-07-20T13:06:41.025150Z",
     "shell.execute_reply": "2020-07-20T13:06:41.024601Z"
    }
   },
   "outputs": [],
   "source": [
    "import pandas as pd\n",
    "import numpy as np\n",
    "import matplotlib.pyplot as plt\n",
    "from collections import defaultdict \n",
    "import seaborn as sns\n",
    "import matplotlib.cm as cm\n",
    "import scipy as scipy\n",
    "import random"
   ]
  },
  {
   "cell_type": "markdown",
   "metadata": {
    "jupyter": {
     "source_hidden": true
    }
   },
   "source": [
    "### Importing datasets \n",
    "\n",
    "#### Link to the github repo where the datasets to be downloaded:\n",
    "[DOWNLOAD THE DATASETS HERE](https://github.com/leilaicruz/machine-learning-for-yeast/tree/dev_Leila/datasets-for-learning)"
   ]
  },
  {
   "cell_type": "code",
   "execution_count": 2,
   "metadata": {
    "execution": {
     "iopub.execute_input": "2020-07-20T13:06:41.032011Z",
     "iopub.status.busy": "2020-07-20T13:06:41.031474Z",
     "iopub.status.idle": "2020-07-20T13:06:48.821225Z",
     "shell.execute_reply": "2020-07-20T13:06:48.822014Z"
    }
   },
   "outputs": [],
   "source": [
    "import os\n",
    "script_dir = os.path.dirname('__file__') #<-- absolute dir the script is in\n",
    "rel_path_SL = \"datasets/data-synthetic-lethals.xlsx\"\n",
    "rel_path_nSL=\"datasets/data-positive-genetic.xlsx\"\n",
    "rel_path_domains=\"datasets/proteins-domains-from-Pfam.xlsx\"\n",
    "\n",
    "abs_file_path_SL = os.path.join(script_dir, rel_path_SL)\n",
    "abs_file_path_nSL = os.path.join(script_dir, rel_path_nSL)\n",
    "abs_file_path_domains = os.path.join(script_dir, rel_path_domains)\n",
    "\n",
    "# os.chdir('mini_book/docs/') #<-- for binder os.chdir('../')\n",
    "# os.chdir('../')\n",
    "my_path_sl= abs_file_path_SL\n",
    "my_path_non_sl=abs_file_path_nSL\n",
    "my_path_domains=abs_file_path_domains\n",
    "\n",
    "data_sl=pd.read_excel(my_path_sl,header=0)\n",
    "data_domains=pd.read_excel(my_path_domains,header=0,index_col='Unnamed: 0')\n",
    "data_domains=data_domains.dropna()\n",
    "data_nonsl=pd.read_excel(my_path_non_sl,header=0)"
   ]
  },
  {
   "cell_type": "markdown",
   "metadata": {},
   "source": [
    "## Building the feature matrix\n",
    "One matrix for true SL where each row is one pair of SL. Every raw will be a vector of 0,1 or 2 depending on the comparison with the domain list. For row i the jth element = 0 if the jth element of the domain list is not in neither protein A and B, 1, if it is in one of them and 2 if it is in both of them .\n",
    "\n",
    "### Building the list of proteins domains id per protein pair separately :\n",
    "- List of protein A: Search for the Sl/nSL database the query gene name and look in the protein domain database which protein domains id has each of those queries.\n",
    "- List of protein B: Search for the Sl/nSL database the target gene name of the previous query and look in the protein domain database which protein domains id has each of those target genes."
   ]
  },
  {
   "cell_type": "code",
   "execution_count": 3,
   "metadata": {
    "execution": {
     "iopub.execute_input": "2020-07-20T13:06:48.838692Z",
     "iopub.status.busy": "2020-07-20T13:06:48.838146Z",
     "iopub.status.idle": "2020-07-20T13:06:50.928856Z",
     "shell.execute_reply": "2020-07-20T13:06:50.928076Z"
    }
   },
   "outputs": [],
   "source": [
    "# Selecting the meaningful columns in the respective dataset\n",
    "domain_id_list=data_domains['domain-name']\n",
    "query_gene=data_sl['gene-query-name']\n",
    "target_gene=data_sl['gene-target-name']\n",
    "query_gene_nonlethal=data_nonsl['gene-query-name']\n",
    "target_gene_nonlethal=data_nonsl['gene-target-name']\n",
    "\n",
    "\n",
    "\n",
    "# Initialising the arrays\n",
    "protein_a_list=[]\n",
    "protein_b_list=[]\n",
    "protein_a_list_non=[]\n",
    "protein_b_list_non=[]\n",
    "\n",
    "population = np.arange(0,len(data_sl))\n",
    "\n",
    "# For loop for 10000 pairs sampled randomly from the SL/nSl pair list , and creating a big array of proteind domains id per protein pair\n",
    "\n",
    "for m in random.sample(list(population), 500):\n",
    "    protein_a=data_domains[data_domains['name']==query_gene[m]]\n",
    "    protein_b=data_domains[data_domains['name']==target_gene[m]]\n",
    "    protein_a_list.append(protein_a['domain-name'].tolist())\n",
    "    protein_b_list.append(protein_b['domain-name'].tolist())\n",
    "\n",
    "    protein_a_non=data_domains[data_domains['name']==query_gene_nonlethal[m]]\n",
    "    protein_b_non=data_domains[data_domains['name']==target_gene_nonlethal[m]]\n",
    "    protein_a_list_non.append(protein_a_non['domain-name'].tolist())\n",
    "    protein_b_list_non.append(protein_b_non['domain-name'].tolist())"
   ]
  },
  {
   "cell_type": "code",
   "execution_count": 4,
   "metadata": {
    "execution": {
     "iopub.execute_input": "2020-07-20T13:06:50.935439Z",
     "iopub.status.busy": "2020-07-20T13:06:50.934904Z",
     "iopub.status.idle": "2020-07-20T13:06:50.938797Z",
     "shell.execute_reply": "2020-07-20T13:06:50.937898Z"
    }
   },
   "outputs": [
    {
     "name": "stdout",
     "output_type": "stream",
     "text": [
      "We are going to analyze 500 protein pairs, out of 17871 SL protein pairs\n",
      "We are going to analyze 500 protein pairs, out of 43340 positive protein pairs\n"
     ]
    }
   ],
   "source": [
    "print('We are going to analyze',len((protein_a_list)) ,'protein pairs, out of',len(data_sl),'SL protein pairs')\n",
    "print('We are going to analyze',len((protein_a_list_non)) ,'protein pairs, out of',len(data_nonsl),'positive protein pairs')"
   ]
  },
  {
   "cell_type": "markdown",
   "metadata": {},
   "source": [
    "### Postprocessing #1:  Remove protein pairs from study if either protein in the pair does not contain any domain"
   ]
  },
  {
   "cell_type": "code",
   "execution_count": 5,
   "metadata": {
    "execution": {
     "iopub.execute_input": "2020-07-20T13:06:50.949658Z",
     "iopub.status.busy": "2020-07-20T13:06:50.948369Z",
     "iopub.status.idle": "2020-07-20T13:06:50.950260Z",
     "shell.execute_reply": "2020-07-20T13:06:50.950675Z"
    }
   },
   "outputs": [],
   "source": [
    "def remove_empty_domains(protein_list_search,protein_list_pair):\n",
    "    index=[]\n",
    "    for i in np.arange(0,len(protein_list_search)):\n",
    "        if protein_list_search[i]==[] or protein_list_pair[i]==[]:\n",
    "            index.append(i) ## index of empty values for the protein_a_list meaning they dont have any annotated domain\n",
    "\n",
    "    y=[x for x in np.arange(0,len(protein_list_search)) if x not in index] # a list with non empty values from protein_a list\n",
    "\n",
    "    protein_list_search_new=[]\n",
    "    protein_list_pair_new=[]\n",
    "    for i in y:\n",
    "        protein_list_search_new.append(protein_list_search[i])\n",
    "        protein_list_pair_new.append(protein_list_pair[i])\n",
    "    return protein_list_search_new,protein_list_pair_new\n",
    "\n",
    "## evaluating the function\n",
    "\n",
    "protein_a_list_new,protein_b_list_new=remove_empty_domains(protein_a_list,protein_b_list)\n",
    "\n",
    "protein_a_list_non_new,protein_b_list_non_new=remove_empty_domains(protein_a_list_non,protein_b_list_non)"
   ]
  },
  {
   "cell_type": "code",
   "execution_count": 6,
   "metadata": {
    "execution": {
     "iopub.execute_input": "2020-07-20T13:06:50.957968Z",
     "iopub.status.busy": "2020-07-20T13:06:50.957006Z",
     "iopub.status.idle": "2020-07-20T13:06:50.960118Z",
     "shell.execute_reply": "2020-07-20T13:06:50.958591Z"
    }
   },
   "outputs": [
    {
     "name": "stdout",
     "output_type": "stream",
     "text": [
      "The empty domain in the SL were: 83 out of 500 domains\n",
      "The empty domain in the nSL were: 83 out of 500 domains\n"
     ]
    }
   ],
   "source": [
    "print('The empty domain in the SL were:', len(protein_a_list)-len(protein_a_list_new), 'out of', len(protein_a_list),'domains')\n",
    "print('The empty domain in the nSL were:', len(protein_a_list_non)-len(protein_a_list_non_new), 'out of', len(protein_a_list_non),'domains')"
   ]
  },
  {
   "cell_type": "markdown",
   "metadata": {},
   "source": [
    "### Feature engineering: Select from each ordered indexes of domain id list which of them appear once, in both or in any of the domains of each protein pair"
   ]
  },
  {
   "cell_type": "markdown",
   "metadata": {},
   "source": [
    "#### Define function `get_indexes`"
   ]
  },
  {
   "cell_type": "code",
   "execution_count": 7,
   "metadata": {
    "execution": {
     "iopub.execute_input": "2020-07-20T13:06:50.967351Z",
     "iopub.status.busy": "2020-07-20T13:06:50.966813Z",
     "iopub.status.idle": "2020-07-20T13:06:50.969360Z",
     "shell.execute_reply": "2020-07-20T13:06:50.969794Z"
    }
   },
   "outputs": [
    {
     "data": {
      "text/plain": [
       "[1, 2]"
      ]
     },
     "execution_count": 7,
     "metadata": {},
     "output_type": "execute_result"
    }
   ],
   "source": [
    "get_indexes = lambda x, xs: [i for (y, i) in zip(xs, range(len(xs))) if x == y] # a function that give the index of whether a value appear in array or not\n",
    "a=[1,2,2,4,5,6,7,8,9,10]\n",
    "get_indexes(2,a)"
   ]
  },
  {
   "cell_type": "code",
   "execution_count": 8,
   "metadata": {
    "execution": {
     "iopub.execute_input": "2020-07-20T13:06:50.978419Z",
     "iopub.status.busy": "2020-07-20T13:06:50.977261Z",
     "iopub.status.idle": "2020-07-20T13:06:50.980119Z",
     "shell.execute_reply": "2020-07-20T13:06:50.980516Z"
    }
   },
   "outputs": [],
   "source": [
    "def feature_building(protein_a_list_new,protein_b_list_new):\n",
    "    x = np.unique(domain_id_list)\n",
    "    ## To avoid taking repeated domains from one protein of the pairs , lets reduced the domains of each protein from the pairs to their unique members\n",
    "    protein_a_list_unique=[]\n",
    "    protein_b_list_unique=[]\n",
    "    for i in np.arange(0,len(protein_a_list_new)):\n",
    "        protein_a_list_unique.append(np.unique(protein_a_list_new[i]))\n",
    "        protein_b_list_unique.append(np.unique(protein_b_list_new[i]))\n",
    "        \n",
    "    protein_feat_true=np.zeros(shape=(len(x),len(protein_a_list_unique)))\n",
    "    pair_a_b_array=[]\n",
    "    for i in np.arange(0,len(protein_a_list_unique)):\n",
    "        index_a=[]\n",
    "        \n",
    "        pair=[protein_a_list_unique[i],protein_b_list_unique[i]]\n",
    "        pair_a_b=np.concatenate(pair).ravel()\n",
    "        pair_a_b_array.append(pair_a_b)\n",
    "\n",
    "    j=0\n",
    "    for i in pair_a_b_array:  \n",
    "        array,index,counts=np.unique(i,return_index=True,return_counts=True)\n",
    "        \n",
    "        for k,m in zip(counts,array):\n",
    "            if k ==2:\n",
    "                protein_feat_true[get_indexes(m,x),j]=2\n",
    "                \n",
    "            if k==1:\n",
    "                protein_feat_true[get_indexes(m,x),j]=1\n",
    "        j=j+1\n",
    "    return protein_feat_true"
   ]
  },
  {
   "cell_type": "code",
   "execution_count": 9,
   "metadata": {
    "execution": {
     "iopub.execute_input": "2020-07-20T13:06:50.989859Z",
     "iopub.status.busy": "2020-07-20T13:06:50.989308Z",
     "iopub.status.idle": "2020-07-20T13:06:51.643910Z",
     "shell.execute_reply": "2020-07-20T13:06:51.644349Z"
    }
   },
   "outputs": [],
   "source": [
    "protein_feat_true=feature_building(protein_b_list_new=protein_b_list_new,protein_a_list_new=protein_a_list_new)\n",
    "protein_feat_true_pd=pd.DataFrame(protein_feat_true.T)\n",
    "\n",
    "protein_feat_non_true=feature_building(protein_b_list_new=protein_b_list_non_new,protein_a_list_new=protein_a_list_non_new)\n",
    "protein_feat_non_true_pd=pd.DataFrame(protein_feat_non_true.T)"
   ]
  },
  {
   "cell_type": "markdown",
   "metadata": {},
   "source": [
    "### How many ones and twos are in each dataset"
   ]
  },
  {
   "cell_type": "code",
   "execution_count": 10,
   "metadata": {
    "execution": {
     "iopub.execute_input": "2020-07-20T13:06:51.652250Z",
     "iopub.status.busy": "2020-07-20T13:06:51.651716Z",
     "iopub.status.idle": "2020-07-20T13:06:51.746943Z",
     "shell.execute_reply": "2020-07-20T13:06:51.747349Z"
    }
   },
   "outputs": [
    {
     "name": "stdout",
     "output_type": "stream",
     "text": [
      "fraction of twos in the SL array is 2.1404364112016173e-05\n",
      "fraction of ones in the SL array is 0.0009719166815308084\n",
      "fraction of twos in the PI array is 1.189131339556454e-05\n",
      "fraction of ones in the PI array is 0.0009235586737221793\n"
     ]
    }
   ],
   "source": [
    "index_2_true=protein_feat_true_pd.where(protein_feat_true_pd==2)\n",
    "index_2_true_count=index_2_true.count(axis=1).sum()\n",
    "\n",
    "index_1_true=protein_feat_true_pd.where(protein_feat_true_pd==1)\n",
    "index_1_true_count=index_1_true.count(axis=1).sum()\n",
    "\n",
    "index_2_nontrue=protein_feat_non_true_pd.where(protein_feat_non_true_pd==2)\n",
    "index_2_nontrue_count=index_2_nontrue.count(axis=1).sum()\n",
    "\n",
    "index_1_nontrue=protein_feat_non_true_pd.where(protein_feat_non_true_pd==1)\n",
    "index_1_nontrue_count=index_1_nontrue.count(axis=1).sum()\n",
    "\n",
    "\n",
    "print('fraction of twos in the SL array is',index_2_true_count/(len(protein_feat_true_pd.index)*len(protein_feat_true_pd.columns)))\n",
    "print('fraction of ones in the SL array is',index_1_true_count/(len(protein_feat_true_pd.index)*len(protein_feat_true_pd.columns)))\n",
    "print('fraction of twos in the PI array is',index_2_nontrue_count/(len(protein_feat_non_true_pd.index)*len(protein_feat_non_true_pd.columns)))\n",
    "print('fraction of ones in the PI array is',index_1_nontrue_count/(len(protein_feat_non_true_pd.index)*len(protein_feat_non_true_pd.columns)))"
   ]
  },
  {
   "cell_type": "markdown",
   "metadata": {},
   "source": [
    "#### Bar plot to visualize these numbers"
   ]
  },
  {
   "cell_type": "code",
   "execution_count": 11,
   "metadata": {
    "execution": {
     "iopub.execute_input": "2020-07-20T13:06:51.767069Z",
     "iopub.status.busy": "2020-07-20T13:06:51.766442Z",
     "iopub.status.idle": "2020-07-20T13:06:52.191444Z",
     "shell.execute_reply": "2020-07-20T13:06:52.191961Z"
    }
   },
   "outputs": [
    {
     "data": {
      "text/plain": [
       "([0, 1, 2, 3],\n",
       " [Text(0, 0, ''), Text(0, 0, ''), Text(0, 0, ''), Text(0, 0, '')])"
      ]
     },
     "execution_count": 11,
     "metadata": {},
     "output_type": "execute_result"
    },
    {
     "data": {
      "image/png": "[encoded data removed]",
      "text/plain": [
       "<Figure size 432x288 with 1 Axes>"
      ]
     },
     "metadata": {
      "filenames": {
       "image/png": "/home/runner/work/jupyter-book/jupyter-book/mini_book/docs/_build/jupyter_execute/prot_domains2lethality-FEATURES-POSTPROCESSING_18_1.png"
      },
      "needs_background": "light"
     },
     "output_type": "display_data"
    }
   ],
   "source": [
    "plt.bar(['fraction of 2 in the nSL','fraction of 1 in the nSL'],[index_2_nontrue_count/(len(protein_feat_non_true_pd.index)*len(protein_feat_non_true_pd.columns)),index_1_nontrue_count/(len(protein_feat_non_true_pd.index)*len(protein_feat_non_true_pd.columns))],alpha=0.6,color=['blue','lightblue']), \n",
    "\n",
    "plt.bar(['fraction of 2 in SL ','fraction of 1 in SL'],[index_2_true_count/(len(protein_feat_true_pd.index)*len(protein_feat_true_pd.columns)),index_1_true_count/(len(protein_feat_true_pd.index)*len(protein_feat_true_pd.columns))],alpha=0.6,color=['coral','lightcoral'])\n",
    "\n",
    "plt.ylabel('Fraction from the population')\n",
    "plt.yscale('log')\n",
    "plt.xticks(rotation=40)"
   ]
  },
  {
   "cell_type": "markdown",
   "metadata": {},
   "source": [
    "#### Adding the labels(response variables) to each dataset"
   ]
  },
  {
   "cell_type": "code",
   "execution_count": 12,
   "metadata": {
    "execution": {
     "iopub.execute_input": "2020-07-20T13:06:52.198405Z",
     "iopub.status.busy": "2020-07-20T13:06:52.197449Z",
     "iopub.status.idle": "2020-07-20T13:06:52.201195Z",
     "shell.execute_reply": "2020-07-20T13:06:52.200734Z"
    }
   },
   "outputs": [],
   "source": [
    "protein_feat_true_pd['lethality']=np.ones(shape=(len(protein_a_list_new)))\n",
    "protein_feat_non_true_pd['lethality']=np.zeros(shape=(len(protein_a_list_non_new)))"
   ]
  },
  {
   "cell_type": "markdown",
   "metadata": {},
   "source": [
    "#### Joining both datasets"
   ]
  },
  {
   "cell_type": "code",
   "execution_count": 13,
   "metadata": {
    "execution": {
     "iopub.execute_input": "2020-07-20T13:06:52.206043Z",
     "iopub.status.busy": "2020-07-20T13:06:52.205493Z",
     "iopub.status.idle": "2020-07-20T13:06:52.242247Z",
     "shell.execute_reply": "2020-07-20T13:06:52.242766Z"
    }
   },
   "outputs": [
    {
     "name": "stdout",
     "output_type": "stream",
     "text": [
      "The number of features are: 3026\n",
      "The number of samples are: 834\n"
     ]
    }
   ],
   "source": [
    "feature_post=pd.concat([protein_feat_true_pd,protein_feat_non_true_pd],axis=0)\n",
    "feature_post=feature_post.set_index(np.arange(0,len(protein_a_list_new)+len(protein_a_list_non_new)))\n",
    "print('The number of features are:',feature_post.shape[1])\n",
    "print('The number of samples are:',feature_post.shape[0])"
   ]
  },
  {
   "cell_type": "markdown",
   "metadata": {},
   "source": [
    "### Postprocessing and exploration of the feature matrix of both datasets"
   ]
  },
  {
   "cell_type": "code",
   "execution_count": 14,
   "metadata": {
    "execution": {
     "iopub.execute_input": "2020-07-20T13:06:52.258987Z",
     "iopub.status.busy": "2020-07-20T13:06:52.247481Z",
     "iopub.status.idle": "2020-07-20T13:06:56.230357Z",
     "shell.execute_reply": "2020-07-20T13:06:56.229871Z"
    }
   },
   "outputs": [],
   "source": [
    "mean=feature_post.T.describe().loc['mean']\n",
    "std=feature_post.T.describe().loc['std']\n",
    "lethality=feature_post['lethality']\n",
    "\n",
    "corr_keys=pd.concat([mean,std,lethality],axis=1)"
   ]
  },
  {
   "cell_type": "markdown",
   "metadata": {},
   "source": [
    "### Viz of the stats"
   ]
  },
  {
   "cell_type": "code",
   "execution_count": 15,
   "metadata": {
    "execution": {
     "iopub.execute_input": "2020-07-20T13:06:56.262614Z",
     "iopub.status.busy": "2020-07-20T13:06:56.235009Z",
     "iopub.status.idle": "2020-07-20T13:06:57.571608Z",
     "shell.execute_reply": "2020-07-20T13:06:57.571152Z"
    }
   },
   "outputs": [
    {
     "data": {
      "text/plain": [
       "Text(0.5, 1.08, 'Pairplot to see data dependencies with Lethality')"
      ]
     },
     "execution_count": 15,
     "metadata": {},
     "output_type": "execute_result"
    },
    {
     "data": {
      "image/png": "[encoded data removed]",
      "text/plain": [
       "<Figure size 412x360 with 6 Axes>"
      ]
     },
     "metadata": {
      "filenames": {
       "image/png": "/home/runner/work/jupyter-book/jupyter-book/mini_book/docs/_build/jupyter_execute/prot_domains2lethality-FEATURES-POSTPROCESSING_26_1.png"
      },
      "needs_background": "light"
     },
     "output_type": "display_data"
    }
   ],
   "source": [
    "pair=sns.pairplot(corr_keys,hue='lethality',diag_kind='kde',kind='reg',palette='colorblind')\n",
    "pair.fig.suptitle('Pairplot to see data dependencies with Lethality',y=1.08)"
   ]
  },
  {
   "cell_type": "code",
   "execution_count": 16,
   "metadata": {
    "execution": {
     "iopub.execute_input": "2020-07-20T13:06:57.581882Z",
     "iopub.status.busy": "2020-07-20T13:06:57.581288Z",
     "iopub.status.idle": "2020-07-20T13:06:57.584808Z",
     "shell.execute_reply": "2020-07-20T13:06:57.584363Z"
    }
   },
   "outputs": [],
   "source": [
    "X, y = feature_post.drop(columns=[\"lethality\"]), feature_post[\"lethality\"]"
   ]
  },
  {
   "cell_type": "code",
   "execution_count": 17,
   "metadata": {
    "execution": {
     "iopub.execute_input": "2020-07-20T13:06:57.589273Z",
     "iopub.status.busy": "2020-07-20T13:06:57.588761Z",
     "iopub.status.idle": "2020-07-20T13:06:57.745359Z",
     "shell.execute_reply": "2020-07-20T13:06:57.744653Z"
    }
   },
   "outputs": [],
   "source": [
    "from sklearn.preprocessing import StandardScaler\n",
    "scaler = StandardScaler()\n",
    "x_sl=protein_feat_true_pd.drop(columns=['lethality'])\n",
    "x_nsl=protein_feat_non_true_pd.drop(columns=['lethality'])\n",
    "\n",
    "X_sl_scaled = scaler.fit_transform(x_sl)\n",
    "X_nsl_scaled = scaler.fit_transform(x_nsl)"
   ]
  },
  {
   "cell_type": "code",
   "execution_count": 18,
   "metadata": {
    "execution": {
     "iopub.execute_input": "2020-07-20T13:06:57.750163Z",
     "iopub.status.busy": "2020-07-20T13:06:57.749622Z",
     "iopub.status.idle": "2020-07-20T13:06:57.753875Z",
     "shell.execute_reply": "2020-07-20T13:06:57.753397Z"
    }
   },
   "outputs": [
    {
     "data": {
      "text/plain": [
       "(417, 3025)"
      ]
     },
     "execution_count": 18,
     "metadata": {},
     "output_type": "execute_result"
    }
   ],
   "source": [
    "np.shape(X_sl_scaled)"
   ]
  },
  {
   "cell_type": "markdown",
   "metadata": {},
   "source": [
    "## How redundant are each of the protein domains?"
   ]
  },
  {
   "cell_type": "code",
   "execution_count": 19,
   "metadata": {
    "execution": {
     "iopub.execute_input": "2020-07-20T13:06:57.762095Z",
     "iopub.status.busy": "2020-07-20T13:06:57.760980Z",
     "iopub.status.idle": "2020-07-20T13:06:57.762684Z",
     "shell.execute_reply": "2020-07-20T13:06:57.763100Z"
    }
   },
   "outputs": [],
   "source": [
    "def PCA_component_contribution(scaled_matrix,original_data):\n",
    "    from sklearn.decomposition import PCA\n",
    "\n",
    "    model = PCA(0.95).fit(scaled_matrix)\n",
    "    ## apply dimensionality reduction to X_train\n",
    "    output_pca = model.transform(scaled_matrix)\n",
    "    \n",
    "    total=sum(model.explained_variance_)\n",
    "\n",
    "\n",
    "   \n",
    "    # number of components , that it will be the number of main axes times the number of original components \n",
    "    n_pcs= model.components_.shape[0] # the amount of non redundant protein domains \n",
    "\n",
    "    # get the index of the most important feature on EACH component\n",
    "    # LIST COMPREHENSION HERE\n",
    "    most_important = [np.abs(model.components_[i]).argmax() for i in range(n_pcs)]\n",
    "\n",
    "    initial_feature_names = original_data.columns\n",
    "    # get the names\n",
    "    most_important_names = [initial_feature_names[most_important[i]] for i in range(n_pcs)]\n",
    "    \n",
    "\n",
    "    # LIST COMPREHENSION HERE AGAIN\n",
    "    dic = {'PC{}'.format(i): most_important_names[i] for i in range(n_pcs)}\n",
    "\n",
    "    # build the dataframe\n",
    "    df = pd.DataFrame(dic.items(),columns=['pca-component','domain-number'])\n",
    "\n",
    "    return df,model.components_"
   ]
  },
  {
   "cell_type": "code",
   "execution_count": 20,
   "metadata": {
    "execution": {
     "iopub.execute_input": "2020-07-20T13:06:57.766844Z",
     "iopub.status.busy": "2020-07-20T13:06:57.766332Z",
     "iopub.status.idle": "2020-07-20T13:06:58.375502Z",
     "shell.execute_reply": "2020-07-20T13:06:58.375935Z"
    }
   },
   "outputs": [],
   "source": [
    "df_sl,components_pca_nsl=PCA_component_contribution(X_nsl_scaled,x_nsl)\n",
    "df_nsl,components_pca_sl=PCA_component_contribution(X_sl_scaled,x_sl)"
   ]
  },
  {
   "cell_type": "code",
   "execution_count": 21,
   "metadata": {
    "execution": {
     "iopub.execute_input": "2020-07-20T13:06:58.378382Z",
     "iopub.status.busy": "2020-07-20T13:06:58.377870Z",
     "iopub.status.idle": "2020-07-20T13:06:58.386277Z",
     "shell.execute_reply": "2020-07-20T13:06:58.386788Z"
    }
   },
   "outputs": [
    {
     "data": {
      "text/html": [
       "<div>\n",
       "<style scoped>\n",
       "    .dataframe tbody tr th:only-of-type {\n",
       "        vertical-align: middle;\n",
       "    }\n",
       "\n",
       "    .dataframe tbody tr th {\n",
       "        vertical-align: top;\n",
       "    }\n",
       "\n",
       "    .dataframe thead th {\n",
       "        text-align: right;\n",
       "    }\n",
       "</style>\n",
       "<table border=\"1\" class=\"dataframe\">\n",
       "  <thead>\n",
       "    <tr style=\"text-align: right;\">\n",
       "      <th></th>\n",
       "      <th>pca-component</th>\n",
       "      <th>domain-number</th>\n",
       "    </tr>\n",
       "  </thead>\n",
       "  <tbody>\n",
       "    <tr>\n",
       "      <th>0</th>\n",
       "      <td>PC0</td>\n",
       "      <td>858</td>\n",
       "    </tr>\n",
       "    <tr>\n",
       "      <th>1</th>\n",
       "      <td>PC1</td>\n",
       "      <td>1519</td>\n",
       "    </tr>\n",
       "    <tr>\n",
       "      <th>2</th>\n",
       "      <td>PC2</td>\n",
       "      <td>2082</td>\n",
       "    </tr>\n",
       "    <tr>\n",
       "      <th>3</th>\n",
       "      <td>PC3</td>\n",
       "      <td>3</td>\n",
       "    </tr>\n",
       "    <tr>\n",
       "      <th>4</th>\n",
       "      <td>PC4</td>\n",
       "      <td>55</td>\n",
       "    </tr>\n",
       "  </tbody>\n",
       "</table>\n",
       "</div>"
      ],
      "text/plain": [
       "  pca-component  domain-number\n",
       "0           PC0            858\n",
       "1           PC1           1519\n",
       "2           PC2           2082\n",
       "3           PC3              3\n",
       "4           PC4             55"
      ]
     },
     "execution_count": 21,
     "metadata": {},
     "output_type": "execute_result"
    }
   ],
   "source": [
    "df_sl.head()"
   ]
  },
  {
   "cell_type": "markdown",
   "metadata": {},
   "source": [
    "## which are the shared domains between nSL and SL pairs , in the PCA reduced samples"
   ]
  },
  {
   "cell_type": "code",
   "execution_count": 22,
   "metadata": {
    "execution": {
     "iopub.execute_input": "2020-07-20T13:06:58.389016Z",
     "iopub.status.busy": "2020-07-20T13:06:58.388501Z",
     "iopub.status.idle": "2020-07-20T13:06:58.419717Z",
     "shell.execute_reply": "2020-07-20T13:06:58.419285Z"
    }
   },
   "outputs": [
    {
     "data": {
      "text/html": [
       "<div>\n",
       "<style scoped>\n",
       "    .dataframe tbody tr th:only-of-type {\n",
       "        vertical-align: middle;\n",
       "    }\n",
       "\n",
       "    .dataframe tbody tr th {\n",
       "        vertical-align: top;\n",
       "    }\n",
       "\n",
       "    .dataframe thead th {\n",
       "        text-align: right;\n",
       "    }\n",
       "</style>\n",
       "<table border=\"1\" class=\"dataframe\">\n",
       "  <thead>\n",
       "    <tr style=\"text-align: right;\">\n",
       "      <th></th>\n",
       "      <th>pca-component_x</th>\n",
       "      <th>domain-number</th>\n",
       "      <th>pca-component_y</th>\n",
       "      <th>domain-description</th>\n",
       "    </tr>\n",
       "  </thead>\n",
       "  <tbody>\n",
       "    <tr>\n",
       "      <th>0</th>\n",
       "      <td>PC3</td>\n",
       "      <td>3</td>\n",
       "      <td>PC11</td>\n",
       "      <td>2-Hacid_dh_C; D-isomer specific 2-hydroxyacid ...</td>\n",
       "    </tr>\n",
       "    <tr>\n",
       "      <th>1</th>\n",
       "      <td>PC5</td>\n",
       "      <td>144</td>\n",
       "      <td>PC44</td>\n",
       "      <td>A_deamin; Adenosine deaminase/editase</td>\n",
       "    </tr>\n",
       "    <tr>\n",
       "      <th>2</th>\n",
       "      <td>PC8</td>\n",
       "      <td>265</td>\n",
       "      <td>PC3</td>\n",
       "      <td>BCS1_N; BCS1, N-terminal</td>\n",
       "    </tr>\n",
       "    <tr>\n",
       "      <th>3</th>\n",
       "      <td>PC17</td>\n",
       "      <td>365</td>\n",
       "      <td>PC51</td>\n",
       "      <td>CLU; CLU domain</td>\n",
       "    </tr>\n",
       "    <tr>\n",
       "      <th>4</th>\n",
       "      <td>PC20</td>\n",
       "      <td>877</td>\n",
       "      <td>PC50</td>\n",
       "      <td>FF; FF domain</td>\n",
       "    </tr>\n",
       "    <tr>\n",
       "      <th>5</th>\n",
       "      <td>PC27</td>\n",
       "      <td>1106</td>\n",
       "      <td>PC46</td>\n",
       "      <td>HEAT_2</td>\n",
       "    </tr>\n",
       "    <tr>\n",
       "      <th>6</th>\n",
       "      <td>PC31</td>\n",
       "      <td>257</td>\n",
       "      <td>PC56</td>\n",
       "      <td>BAR_2; BAR domain-containing family</td>\n",
       "    </tr>\n",
       "    <tr>\n",
       "      <th>7</th>\n",
       "      <td>PC35</td>\n",
       "      <td>1130</td>\n",
       "      <td>PC59</td>\n",
       "      <td>HORMA; HORMA domain</td>\n",
       "    </tr>\n",
       "    <tr>\n",
       "      <th>8</th>\n",
       "      <td>PC35</td>\n",
       "      <td>1130</td>\n",
       "      <td>PC62</td>\n",
       "      <td>HORMA; HORMA domain</td>\n",
       "    </tr>\n",
       "    <tr>\n",
       "      <th>9</th>\n",
       "      <td>PC39</td>\n",
       "      <td>1101</td>\n",
       "      <td>PC29</td>\n",
       "      <td>HCO3_cotransp; Bicarbonate transporter, C-term...</td>\n",
       "    </tr>\n",
       "    <tr>\n",
       "      <th>10</th>\n",
       "      <td>PC39</td>\n",
       "      <td>1101</td>\n",
       "      <td>PC30</td>\n",
       "      <td>HCO3_cotransp; Bicarbonate transporter, C-term...</td>\n",
       "    </tr>\n",
       "    <tr>\n",
       "      <th>11</th>\n",
       "      <td>PC46</td>\n",
       "      <td>82</td>\n",
       "      <td>PC17</td>\n",
       "      <td>ANAPC10; APC10/DOC domain</td>\n",
       "    </tr>\n",
       "    <tr>\n",
       "      <th>12</th>\n",
       "      <td>PC51</td>\n",
       "      <td>2710</td>\n",
       "      <td>PC160</td>\n",
       "      <td>Trypsin_2</td>\n",
       "    </tr>\n",
       "    <tr>\n",
       "      <th>13</th>\n",
       "      <td>PC55</td>\n",
       "      <td>773</td>\n",
       "      <td>PC99</td>\n",
       "      <td>Dynein_light; Dynein light chain, type 1/2</td>\n",
       "    </tr>\n",
       "    <tr>\n",
       "      <th>14</th>\n",
       "      <td>PC60</td>\n",
       "      <td>2568</td>\n",
       "      <td>PC149</td>\n",
       "      <td>TEA; TEA/ATTS domain</td>\n",
       "    </tr>\n",
       "    <tr>\n",
       "      <th>15</th>\n",
       "      <td>PC61</td>\n",
       "      <td>150</td>\n",
       "      <td>PC257</td>\n",
       "      <td>Abhydrolase_3; Alpha/beta hydrolase fold-3</td>\n",
       "    </tr>\n",
       "    <tr>\n",
       "      <th>16</th>\n",
       "      <td>PC64</td>\n",
       "      <td>1054</td>\n",
       "      <td>PC132</td>\n",
       "      <td>Glyco_hydro_63; Glycosyl hydrolase family 63, ...</td>\n",
       "    </tr>\n",
       "    <tr>\n",
       "      <th>17</th>\n",
       "      <td>PC67</td>\n",
       "      <td>61</td>\n",
       "      <td>PC137</td>\n",
       "      <td>AGA2</td>\n",
       "    </tr>\n",
       "    <tr>\n",
       "      <th>18</th>\n",
       "      <td>PC73</td>\n",
       "      <td>2055</td>\n",
       "      <td>PC146</td>\n",
       "      <td>RRG8; Required for respiratory growth protein ...</td>\n",
       "    </tr>\n",
       "    <tr>\n",
       "      <th>19</th>\n",
       "      <td>PC80</td>\n",
       "      <td>778</td>\n",
       "      <td>PC158</td>\n",
       "      <td>E1_UFD; Ubiquitin-activating enzyme E1, C-term...</td>\n",
       "    </tr>\n",
       "    <tr>\n",
       "      <th>20</th>\n",
       "      <td>PC80</td>\n",
       "      <td>778</td>\n",
       "      <td>PC159</td>\n",
       "      <td>E1_UFD; Ubiquitin-activating enzyme E1, C-term...</td>\n",
       "    </tr>\n",
       "    <tr>\n",
       "      <th>21</th>\n",
       "      <td>PC82</td>\n",
       "      <td>924</td>\n",
       "      <td>PC84</td>\n",
       "      <td>Flocculin</td>\n",
       "    </tr>\n",
       "    <tr>\n",
       "      <th>22</th>\n",
       "      <td>PC82</td>\n",
       "      <td>924</td>\n",
       "      <td>PC85</td>\n",
       "      <td>Flocculin</td>\n",
       "    </tr>\n",
       "    <tr>\n",
       "      <th>23</th>\n",
       "      <td>PC87</td>\n",
       "      <td>170</td>\n",
       "      <td>PC86</td>\n",
       "      <td>AdenylateSensor; AMPK, C-terminal adenylate se...</td>\n",
       "    </tr>\n",
       "    <tr>\n",
       "      <th>24</th>\n",
       "      <td>PC88</td>\n",
       "      <td>1030</td>\n",
       "      <td>PC111</td>\n",
       "      <td>Gcn1_N; Gcn1, N-terminal</td>\n",
       "    </tr>\n",
       "    <tr>\n",
       "      <th>25</th>\n",
       "      <td>PC93</td>\n",
       "      <td>214</td>\n",
       "      <td>PC83</td>\n",
       "      <td>Anth_synt_I_N; Anthranilate synthase component...</td>\n",
       "    </tr>\n",
       "    <tr>\n",
       "      <th>26</th>\n",
       "      <td>PC96</td>\n",
       "      <td>1044</td>\n",
       "      <td>PC57</td>\n",
       "      <td>Glyco_hydro_16; Glycoside hydrolase family 16</td>\n",
       "    </tr>\n",
       "    <tr>\n",
       "      <th>27</th>\n",
       "      <td>PC98</td>\n",
       "      <td>561</td>\n",
       "      <td>PC163</td>\n",
       "      <td>DASH_Spc34; DASH complex subunit Spc34</td>\n",
       "    </tr>\n",
       "    <tr>\n",
       "      <th>28</th>\n",
       "      <td>PC105</td>\n",
       "      <td>80</td>\n",
       "      <td>PC27</td>\n",
       "      <td>AMPKBI; Association with the SNF1 complex (ASC...</td>\n",
       "    </tr>\n",
       "    <tr>\n",
       "      <th>29</th>\n",
       "      <td>PC109</td>\n",
       "      <td>41</td>\n",
       "      <td>PC169</td>\n",
       "      <td>ABC_tran; ABC transporter-like</td>\n",
       "    </tr>\n",
       "    <tr>\n",
       "      <th>30</th>\n",
       "      <td>PC118</td>\n",
       "      <td>1245</td>\n",
       "      <td>PC178</td>\n",
       "      <td>Iso_dh; Isopropylmalate dehydrogenase-like domain</td>\n",
       "    </tr>\n",
       "    <tr>\n",
       "      <th>31</th>\n",
       "      <td>PC120</td>\n",
       "      <td>1245</td>\n",
       "      <td>PC178</td>\n",
       "      <td>Iso_dh; Isopropylmalate dehydrogenase-like domain</td>\n",
       "    </tr>\n",
       "    <tr>\n",
       "      <th>32</th>\n",
       "      <td>PC127</td>\n",
       "      <td>218</td>\n",
       "      <td>PC205</td>\n",
       "      <td>Apc13p</td>\n",
       "    </tr>\n",
       "    <tr>\n",
       "      <th>33</th>\n",
       "      <td>PC144</td>\n",
       "      <td>27</td>\n",
       "      <td>PC101</td>\n",
       "      <td>AAA_8; Dynein heavy chain, P-loop containing D...</td>\n",
       "    </tr>\n",
       "    <tr>\n",
       "      <th>34</th>\n",
       "      <td>PC145</td>\n",
       "      <td>1114</td>\n",
       "      <td>PC241</td>\n",
       "      <td>HHH_5</td>\n",
       "    </tr>\n",
       "    <tr>\n",
       "      <th>35</th>\n",
       "      <td>PC146</td>\n",
       "      <td>9</td>\n",
       "      <td>PC165</td>\n",
       "      <td>40S_S4_C; 40S ribosomal protein S4, C-terminal...</td>\n",
       "    </tr>\n",
       "    <tr>\n",
       "      <th>36</th>\n",
       "      <td>PC147</td>\n",
       "      <td>363</td>\n",
       "      <td>PC154</td>\n",
       "      <td>CLP1_P; Polyribonucleotide 5&amp;apos;-hydroxyl-ki...</td>\n",
       "    </tr>\n",
       "    <tr>\n",
       "      <th>37</th>\n",
       "      <td>PC150</td>\n",
       "      <td>68</td>\n",
       "      <td>PC248</td>\n",
       "      <td>AIRC; PurE domain</td>\n",
       "    </tr>\n",
       "    <tr>\n",
       "      <th>38</th>\n",
       "      <td>PC155</td>\n",
       "      <td>376</td>\n",
       "      <td>PC109</td>\n",
       "      <td>COG2; Conserved oligomeric Golgi complex, subu...</td>\n",
       "    </tr>\n",
       "    <tr>\n",
       "      <th>39</th>\n",
       "      <td>PC159</td>\n",
       "      <td>1504</td>\n",
       "      <td>PC147</td>\n",
       "      <td>Mob1_phocein; MOB kinase activator family</td>\n",
       "    </tr>\n",
       "    <tr>\n",
       "      <th>40</th>\n",
       "      <td>PC161</td>\n",
       "      <td>1504</td>\n",
       "      <td>PC147</td>\n",
       "      <td>Mob1_phocein; MOB kinase activator family</td>\n",
       "    </tr>\n",
       "    <tr>\n",
       "      <th>41</th>\n",
       "      <td>PC166</td>\n",
       "      <td>760</td>\n",
       "      <td>PC43</td>\n",
       "      <td>Dopey_N; Dopey, N-terminal</td>\n",
       "    </tr>\n",
       "    <tr>\n",
       "      <th>42</th>\n",
       "      <td>PC169</td>\n",
       "      <td>622</td>\n",
       "      <td>PC186</td>\n",
       "      <td>DNA_topoisoIV; DNA topoisomerase, type IIA, su...</td>\n",
       "    </tr>\n",
       "    <tr>\n",
       "      <th>43</th>\n",
       "      <td>PC169</td>\n",
       "      <td>622</td>\n",
       "      <td>PC189</td>\n",
       "      <td>DNA_topoisoIV; DNA topoisomerase, type IIA, su...</td>\n",
       "    </tr>\n",
       "    <tr>\n",
       "      <th>44</th>\n",
       "      <td>PC174</td>\n",
       "      <td>622</td>\n",
       "      <td>PC186</td>\n",
       "      <td>DNA_topoisoIV; DNA topoisomerase, type IIA, su...</td>\n",
       "    </tr>\n",
       "    <tr>\n",
       "      <th>45</th>\n",
       "      <td>PC174</td>\n",
       "      <td>622</td>\n",
       "      <td>PC189</td>\n",
       "      <td>DNA_topoisoIV; DNA topoisomerase, type IIA, su...</td>\n",
       "    </tr>\n",
       "    <tr>\n",
       "      <th>46</th>\n",
       "      <td>PC185</td>\n",
       "      <td>2160</td>\n",
       "      <td>PC61</td>\n",
       "      <td>Ribosomal_L14e; Ribosomal protein L14e domain</td>\n",
       "    </tr>\n",
       "    <tr>\n",
       "      <th>47</th>\n",
       "      <td>PC201</td>\n",
       "      <td>1566</td>\n",
       "      <td>PC129</td>\n",
       "      <td>NIF; FCP1 homology domain</td>\n",
       "    </tr>\n",
       "    <tr>\n",
       "      <th>48</th>\n",
       "      <td>PC201</td>\n",
       "      <td>1566</td>\n",
       "      <td>PC131</td>\n",
       "      <td>NIF; FCP1 homology domain</td>\n",
       "    </tr>\n",
       "    <tr>\n",
       "      <th>49</th>\n",
       "      <td>PC209</td>\n",
       "      <td>1267</td>\n",
       "      <td>PC128</td>\n",
       "      <td>Kelch_3</td>\n",
       "    </tr>\n",
       "    <tr>\n",
       "      <th>50</th>\n",
       "      <td>PC221</td>\n",
       "      <td>704</td>\n",
       "      <td>PC174</td>\n",
       "      <td>DUF3543; Serine/threonine-protein kinase, C-te...</td>\n",
       "    </tr>\n",
       "    <tr>\n",
       "      <th>51</th>\n",
       "      <td>PC221</td>\n",
       "      <td>704</td>\n",
       "      <td>PC176</td>\n",
       "      <td>DUF3543; Serine/threonine-protein kinase, C-te...</td>\n",
       "    </tr>\n",
       "    <tr>\n",
       "      <th>52</th>\n",
       "      <td>PC227</td>\n",
       "      <td>1701</td>\n",
       "      <td>PC144</td>\n",
       "      <td>PAP_central; Poly(A) polymerase, central domain</td>\n",
       "    </tr>\n",
       "    <tr>\n",
       "      <th>53</th>\n",
       "      <td>PC231</td>\n",
       "      <td>1731</td>\n",
       "      <td>PC15</td>\n",
       "      <td>PFU; PLAA family ubiquitin binding, PFU</td>\n",
       "    </tr>\n",
       "    <tr>\n",
       "      <th>54</th>\n",
       "      <td>PC258</td>\n",
       "      <td>2959</td>\n",
       "      <td>PC231</td>\n",
       "      <td>ubiquitin; Ubiquitin domain</td>\n",
       "    </tr>\n",
       "    <tr>\n",
       "      <th>55</th>\n",
       "      <td>PC265</td>\n",
       "      <td>844</td>\n",
       "      <td>PC230</td>\n",
       "      <td>Enolase_N; Enolase, N-terminal</td>\n",
       "    </tr>\n",
       "    <tr>\n",
       "      <th>56</th>\n",
       "      <td>PC267</td>\n",
       "      <td>1233</td>\n",
       "      <td>PC133</td>\n",
       "      <td>Inhibitor_I9; Peptidase S8 propeptide/proteina...</td>\n",
       "    </tr>\n",
       "    <tr>\n",
       "      <th>57</th>\n",
       "      <td>PC267</td>\n",
       "      <td>1233</td>\n",
       "      <td>PC135</td>\n",
       "      <td>Inhibitor_I9; Peptidase S8 propeptide/proteina...</td>\n",
       "    </tr>\n",
       "    <tr>\n",
       "      <th>58</th>\n",
       "      <td>PC278</td>\n",
       "      <td>1046</td>\n",
       "      <td>PC151</td>\n",
       "      <td>Glyco_hydro_18; Glycoside hydrolase family 18,...</td>\n",
       "    </tr>\n",
       "  </tbody>\n",
       "</table>\n",
       "</div>"
      ],
      "text/plain": [
       "   pca-component_x  domain-number pca-component_y  \\\n",
       "0              PC3              3            PC11   \n",
       "1              PC5            144            PC44   \n",
       "2              PC8            265             PC3   \n",
       "3             PC17            365            PC51   \n",
       "4             PC20            877            PC50   \n",
       "5             PC27           1106            PC46   \n",
       "6             PC31            257            PC56   \n",
       "7             PC35           1130            PC59   \n",
       "8             PC35           1130            PC62   \n",
       "9             PC39           1101            PC29   \n",
       "10            PC39           1101            PC30   \n",
       "11            PC46             82            PC17   \n",
       "12            PC51           2710           PC160   \n",
       "13            PC55            773            PC99   \n",
       "14            PC60           2568           PC149   \n",
       "15            PC61            150           PC257   \n",
       "16            PC64           1054           PC132   \n",
       "17            PC67             61           PC137   \n",
       "18            PC73           2055           PC146   \n",
       "19            PC80            778           PC158   \n",
       "20            PC80            778           PC159   \n",
       "21            PC82            924            PC84   \n",
       "22            PC82            924            PC85   \n",
       "23            PC87            170            PC86   \n",
       "24            PC88           1030           PC111   \n",
       "25            PC93            214            PC83   \n",
       "26            PC96           1044            PC57   \n",
       "27            PC98            561           PC163   \n",
       "28           PC105             80            PC27   \n",
       "29           PC109             41           PC169   \n",
       "30           PC118           1245           PC178   \n",
       "31           PC120           1245           PC178   \n",
       "32           PC127            218           PC205   \n",
       "33           PC144             27           PC101   \n",
       "34           PC145           1114           PC241   \n",
       "35           PC146              9           PC165   \n",
       "36           PC147            363           PC154   \n",
       "37           PC150             68           PC248   \n",
       "38           PC155            376           PC109   \n",
       "39           PC159           1504           PC147   \n",
       "40           PC161           1504           PC147   \n",
       "41           PC166            760            PC43   \n",
       "42           PC169            622           PC186   \n",
       "43           PC169            622           PC189   \n",
       "44           PC174            622           PC186   \n",
       "45           PC174            622           PC189   \n",
       "46           PC185           2160            PC61   \n",
       "47           PC201           1566           PC129   \n",
       "48           PC201           1566           PC131   \n",
       "49           PC209           1267           PC128   \n",
       "50           PC221            704           PC174   \n",
       "51           PC221            704           PC176   \n",
       "52           PC227           1701           PC144   \n",
       "53           PC231           1731            PC15   \n",
       "54           PC258           2959           PC231   \n",
       "55           PC265            844           PC230   \n",
       "56           PC267           1233           PC133   \n",
       "57           PC267           1233           PC135   \n",
       "58           PC278           1046           PC151   \n",
       "\n",
       "                                   domain-description  \n",
       "0   2-Hacid_dh_C; D-isomer specific 2-hydroxyacid ...  \n",
       "1               A_deamin; Adenosine deaminase/editase  \n",
       "2                            BCS1_N; BCS1, N-terminal  \n",
       "3                                     CLU; CLU domain  \n",
       "4                                       FF; FF domain  \n",
       "5                                              HEAT_2  \n",
       "6                 BAR_2; BAR domain-containing family  \n",
       "7                                 HORMA; HORMA domain  \n",
       "8                                 HORMA; HORMA domain  \n",
       "9   HCO3_cotransp; Bicarbonate transporter, C-term...  \n",
       "10  HCO3_cotransp; Bicarbonate transporter, C-term...  \n",
       "11                          ANAPC10; APC10/DOC domain  \n",
       "12                                          Trypsin_2  \n",
       "13         Dynein_light; Dynein light chain, type 1/2  \n",
       "14                               TEA; TEA/ATTS domain  \n",
       "15         Abhydrolase_3; Alpha/beta hydrolase fold-3  \n",
       "16  Glyco_hydro_63; Glycosyl hydrolase family 63, ...  \n",
       "17                                               AGA2  \n",
       "18  RRG8; Required for respiratory growth protein ...  \n",
       "19  E1_UFD; Ubiquitin-activating enzyme E1, C-term...  \n",
       "20  E1_UFD; Ubiquitin-activating enzyme E1, C-term...  \n",
       "21                                          Flocculin  \n",
       "22                                          Flocculin  \n",
       "23  AdenylateSensor; AMPK, C-terminal adenylate se...  \n",
       "24                           Gcn1_N; Gcn1, N-terminal  \n",
       "25  Anth_synt_I_N; Anthranilate synthase component...  \n",
       "26      Glyco_hydro_16; Glycoside hydrolase family 16  \n",
       "27             DASH_Spc34; DASH complex subunit Spc34  \n",
       "28  AMPKBI; Association with the SNF1 complex (ASC...  \n",
       "29                     ABC_tran; ABC transporter-like  \n",
       "30  Iso_dh; Isopropylmalate dehydrogenase-like domain  \n",
       "31  Iso_dh; Isopropylmalate dehydrogenase-like domain  \n",
       "32                                             Apc13p  \n",
       "33  AAA_8; Dynein heavy chain, P-loop containing D...  \n",
       "34                                              HHH_5  \n",
       "35  40S_S4_C; 40S ribosomal protein S4, C-terminal...  \n",
       "36  CLP1_P; Polyribonucleotide 5&apos;-hydroxyl-ki...  \n",
       "37                                  AIRC; PurE domain  \n",
       "38  COG2; Conserved oligomeric Golgi complex, subu...  \n",
       "39          Mob1_phocein; MOB kinase activator family  \n",
       "40          Mob1_phocein; MOB kinase activator family  \n",
       "41                         Dopey_N; Dopey, N-terminal  \n",
       "42  DNA_topoisoIV; DNA topoisomerase, type IIA, su...  \n",
       "43  DNA_topoisoIV; DNA topoisomerase, type IIA, su...  \n",
       "44  DNA_topoisoIV; DNA topoisomerase, type IIA, su...  \n",
       "45  DNA_topoisoIV; DNA topoisomerase, type IIA, su...  \n",
       "46      Ribosomal_L14e; Ribosomal protein L14e domain  \n",
       "47                          NIF; FCP1 homology domain  \n",
       "48                          NIF; FCP1 homology domain  \n",
       "49                                            Kelch_3  \n",
       "50  DUF3543; Serine/threonine-protein kinase, C-te...  \n",
       "51  DUF3543; Serine/threonine-protein kinase, C-te...  \n",
       "52    PAP_central; Poly(A) polymerase, central domain  \n",
       "53            PFU; PLAA family ubiquitin binding, PFU  \n",
       "54                        ubiquitin; Ubiquitin domain  \n",
       "55                     Enolase_N; Enolase, N-terminal  \n",
       "56  Inhibitor_I9; Peptidase S8 propeptide/proteina...  \n",
       "57  Inhibitor_I9; Peptidase S8 propeptide/proteina...  \n",
       "58  Glyco_hydro_18; Glycoside hydrolase family 18,...  "
      ]
     },
     "execution_count": 22,
     "metadata": {},
     "output_type": "execute_result"
    }
   ],
   "source": [
    "df_shared_domains=pd.merge(df_sl,df_nsl,how='inner',on='domain-number')\n",
    "domains_name=np.unique(data_domains['domain-name'])\n",
    "domains_description=np.unique(data_domains['domain-descrip'])\n",
    "\n",
    "df_shared_domains['domain-description']=domains_description[df_shared_domains['domain-number']]\n",
    "\n",
    "\n",
    "df_shared_domains"
   ]
  },
  {
   "cell_type": "code",
   "execution_count": 23,
   "metadata": {
    "execution": {
     "iopub.execute_input": "2020-07-20T13:06:58.424406Z",
     "iopub.status.busy": "2020-07-20T13:06:58.423890Z",
     "iopub.status.idle": "2020-07-20T13:06:58.425936Z",
     "shell.execute_reply": "2020-07-20T13:06:58.426439Z"
    }
   },
   "outputs": [
    {
     "name": "stdout",
     "output_type": "stream",
     "text": [
      "The number of shared domains between SL and nSL pairs,after PCA, is =  59 out of 558 so the 10.57347670250896 %\n"
     ]
    }
   ],
   "source": [
    "print('The number of shared domains between SL and nSL pairs,after PCA, is = ',len(df_shared_domains), 'out of', len(df_sl)+len(df_nsl), 'so the',100*len(df_shared_domains)/(len(df_sl)+len(df_nsl)),'%')"
   ]
  },
  {
   "cell_type": "markdown",
   "metadata": {},
   "source": [
    "## Domains exclusive to SL"
   ]
  },
  {
   "cell_type": "code",
   "execution_count": 24,
   "metadata": {
    "execution": {
     "iopub.execute_input": "2020-07-20T13:06:58.428595Z",
     "iopub.status.busy": "2020-07-20T13:06:58.428092Z",
     "iopub.status.idle": "2020-07-20T13:06:58.455018Z",
     "shell.execute_reply": "2020-07-20T13:06:58.455737Z"
    }
   },
   "outputs": [
    {
     "data": {
      "text/html": [
       "<div>\n",
       "<style scoped>\n",
       "    .dataframe tbody tr th:only-of-type {\n",
       "        vertical-align: middle;\n",
       "    }\n",
       "\n",
       "    .dataframe tbody tr th {\n",
       "        vertical-align: top;\n",
       "    }\n",
       "\n",
       "    .dataframe thead th {\n",
       "        text-align: right;\n",
       "    }\n",
       "</style>\n",
       "<table border=\"1\" class=\"dataframe\">\n",
       "  <thead>\n",
       "    <tr style=\"text-align: right;\">\n",
       "      <th></th>\n",
       "      <th>pca-component_x</th>\n",
       "      <th>domain-number</th>\n",
       "      <th>pca-component_y</th>\n",
       "      <th>domain-description</th>\n",
       "    </tr>\n",
       "  </thead>\n",
       "  <tbody>\n",
       "    <tr>\n",
       "      <th>0</th>\n",
       "      <td>PC0</td>\n",
       "      <td>858</td>\n",
       "      <td>NaN</td>\n",
       "      <td>F420_oxidored; Pyrroline-5-carboxylate reducta...</td>\n",
       "    </tr>\n",
       "    <tr>\n",
       "      <th>1</th>\n",
       "      <td>PC1</td>\n",
       "      <td>1519</td>\n",
       "      <td>NaN</td>\n",
       "      <td>Mtc; Tricarboxylate/iron carrier</td>\n",
       "    </tr>\n",
       "    <tr>\n",
       "      <th>2</th>\n",
       "      <td>PC2</td>\n",
       "      <td>2082</td>\n",
       "      <td>NaN</td>\n",
       "      <td>RXT2_N; Transcriptional regulatory protein RXT...</td>\n",
       "    </tr>\n",
       "    <tr>\n",
       "      <th>4</th>\n",
       "      <td>PC4</td>\n",
       "      <td>55</td>\n",
       "      <td>NaN</td>\n",
       "      <td>ADK</td>\n",
       "    </tr>\n",
       "    <tr>\n",
       "      <th>6</th>\n",
       "      <td>PC6</td>\n",
       "      <td>993</td>\n",
       "      <td>NaN</td>\n",
       "      <td>GNAT_acetyltr_2; GNAT domain</td>\n",
       "    </tr>\n",
       "    <tr>\n",
       "      <th>...</th>\n",
       "      <td>...</td>\n",
       "      <td>...</td>\n",
       "      <td>...</td>\n",
       "      <td>...</td>\n",
       "    </tr>\n",
       "    <tr>\n",
       "      <th>286</th>\n",
       "      <td>PC277</td>\n",
       "      <td>1458</td>\n",
       "      <td>NaN</td>\n",
       "      <td>Mem_trans; Membrane transport protein</td>\n",
       "    </tr>\n",
       "    <tr>\n",
       "      <th>288</th>\n",
       "      <td>PC279</td>\n",
       "      <td>730</td>\n",
       "      <td>NaN</td>\n",
       "      <td>DUF5427; Protein of unknown function DUF5427</td>\n",
       "    </tr>\n",
       "    <tr>\n",
       "      <th>289</th>\n",
       "      <td>PC280</td>\n",
       "      <td>1411</td>\n",
       "      <td>NaN</td>\n",
       "      <td>MTS; Methyltransferase small domain</td>\n",
       "    </tr>\n",
       "    <tr>\n",
       "      <th>290</th>\n",
       "      <td>PC281</td>\n",
       "      <td>2584</td>\n",
       "      <td>NaN</td>\n",
       "      <td>TFIIIC_sub6; Transcription factor TFIIIC, tau5...</td>\n",
       "    </tr>\n",
       "    <tr>\n",
       "      <th>291</th>\n",
       "      <td>PC282</td>\n",
       "      <td>1509</td>\n",
       "      <td>NaN</td>\n",
       "      <td>Motile_Sperm; Major sperm protein (MSP) domain</td>\n",
       "    </tr>\n",
       "  </tbody>\n",
       "</table>\n",
       "<p>233 rows × 4 columns</p>\n",
       "</div>"
      ],
      "text/plain": [
       "    pca-component_x  domain-number pca-component_y  \\\n",
       "0               PC0            858             NaN   \n",
       "1               PC1           1519             NaN   \n",
       "2               PC2           2082             NaN   \n",
       "4               PC4             55             NaN   \n",
       "6               PC6            993             NaN   \n",
       "..              ...            ...             ...   \n",
       "286           PC277           1458             NaN   \n",
       "288           PC279            730             NaN   \n",
       "289           PC280           1411             NaN   \n",
       "290           PC281           2584             NaN   \n",
       "291           PC282           1509             NaN   \n",
       "\n",
       "                                    domain-description  \n",
       "0    F420_oxidored; Pyrroline-5-carboxylate reducta...  \n",
       "1                     Mtc; Tricarboxylate/iron carrier  \n",
       "2    RXT2_N; Transcriptional regulatory protein RXT...  \n",
       "4                                                  ADK  \n",
       "6                         GNAT_acetyltr_2; GNAT domain  \n",
       "..                                                 ...  \n",
       "286              Mem_trans; Membrane transport protein  \n",
       "288       DUF5427; Protein of unknown function DUF5427  \n",
       "289                MTS; Methyltransferase small domain  \n",
       "290  TFIIIC_sub6; Transcription factor TFIIIC, tau5...  \n",
       "291     Motile_Sperm; Major sperm protein (MSP) domain  \n",
       "\n",
       "[233 rows x 4 columns]"
      ]
     },
     "execution_count": 24,
     "metadata": {},
     "output_type": "execute_result"
    }
   ],
   "source": [
    "df_sl_exclusive=pd.merge(df_sl,df_nsl,how='left',on='domain-number')\n",
    "\n",
    "domains_name=np.unique(data_domains['domain-name'])\n",
    "domains_description=np.unique(data_domains['domain-descrip'])\n",
    "\n",
    "df_sl_exclusive['domain-description']=domains_description[df_sl_exclusive['domain-number']]\n",
    "df_sl_exclusive[pd.isnull(df_sl_exclusive['pca-component_y'])]"
   ]
  },
  {
   "cell_type": "code",
   "execution_count": 25,
   "metadata": {
    "execution": {
     "iopub.execute_input": "2020-07-20T13:06:58.458850Z",
     "iopub.status.busy": "2020-07-20T13:06:58.457805Z",
     "iopub.status.idle": "2020-07-20T13:06:58.464900Z",
     "shell.execute_reply": "2020-07-20T13:06:58.465692Z"
    }
   },
   "outputs": [
    {
     "name": "stdout",
     "output_type": "stream",
     "text": [
      "The number of exclusive domains from SL pairs, after PCA, is =  292 out of 558 so the 52.32974910394265 %\n"
     ]
    }
   ],
   "source": [
    "print('The number of exclusive domains from SL pairs, after PCA, is = ',len(df_sl_exclusive), 'out of', len(df_sl)+len(df_nsl), 'so the',100*len(df_sl_exclusive)/(len(df_sl)+len(df_nsl)),'%')"
   ]
  },
  {
   "cell_type": "code",
   "execution_count": 26,
   "metadata": {
    "execution": {
     "iopub.execute_input": "2020-07-20T13:06:58.468816Z",
     "iopub.status.busy": "2020-07-20T13:06:58.467774Z",
     "iopub.status.idle": "2020-07-20T13:06:58.498851Z",
     "shell.execute_reply": "2020-07-20T13:06:58.499277Z"
    }
   },
   "outputs": [
    {
     "data": {
      "text/html": [
       "<div>\n",
       "<style scoped>\n",
       "    .dataframe tbody tr th:only-of-type {\n",
       "        vertical-align: middle;\n",
       "    }\n",
       "\n",
       "    .dataframe tbody tr th {\n",
       "        vertical-align: top;\n",
       "    }\n",
       "\n",
       "    .dataframe thead th {\n",
       "        text-align: right;\n",
       "    }\n",
       "</style>\n",
       "<table border=\"1\" class=\"dataframe\">\n",
       "  <thead>\n",
       "    <tr style=\"text-align: right;\">\n",
       "      <th></th>\n",
       "      <th>pca-component_x</th>\n",
       "      <th>domain-number</th>\n",
       "      <th>pca-component_y</th>\n",
       "      <th>domain-description</th>\n",
       "    </tr>\n",
       "  </thead>\n",
       "  <tbody>\n",
       "    <tr>\n",
       "      <th>59</th>\n",
       "      <td>NaN</td>\n",
       "      <td>1028</td>\n",
       "      <td>PC0</td>\n",
       "      <td>GatB_Yqey; Asn/Gln amidotransferase</td>\n",
       "    </tr>\n",
       "    <tr>\n",
       "      <th>60</th>\n",
       "      <td>NaN</td>\n",
       "      <td>308</td>\n",
       "      <td>PC1</td>\n",
       "      <td>Bul1_N; Bul1, N-terminal</td>\n",
       "    </tr>\n",
       "    <tr>\n",
       "      <th>61</th>\n",
       "      <td>NaN</td>\n",
       "      <td>689</td>\n",
       "      <td>PC2</td>\n",
       "      <td>DUF3128; Protein of unknown function DUF3128</td>\n",
       "    </tr>\n",
       "    <tr>\n",
       "      <th>62</th>\n",
       "      <td>NaN</td>\n",
       "      <td>305</td>\n",
       "      <td>PC4</td>\n",
       "      <td>Brr6_like_C_C; Brl1/Brr6 domain</td>\n",
       "    </tr>\n",
       "    <tr>\n",
       "      <th>63</th>\n",
       "      <td>NaN</td>\n",
       "      <td>2113</td>\n",
       "      <td>PC5</td>\n",
       "      <td>Rav1p_C; RAVE complex protein Rav1 C-terminal</td>\n",
       "    </tr>\n",
       "    <tr>\n",
       "      <th>...</th>\n",
       "      <td>...</td>\n",
       "      <td>...</td>\n",
       "      <td>...</td>\n",
       "      <td>...</td>\n",
       "    </tr>\n",
       "    <tr>\n",
       "      <th>274</th>\n",
       "      <td>NaN</td>\n",
       "      <td>2700</td>\n",
       "      <td>PC270</td>\n",
       "      <td>Trehalose_PPase; Trehalose-phosphatase</td>\n",
       "    </tr>\n",
       "    <tr>\n",
       "      <th>275</th>\n",
       "      <td>NaN</td>\n",
       "      <td>763</td>\n",
       "      <td>PC271</td>\n",
       "      <td>Drc1-Sld2; DNA replication/checkpoint protein</td>\n",
       "    </tr>\n",
       "    <tr>\n",
       "      <th>276</th>\n",
       "      <td>NaN</td>\n",
       "      <td>1042</td>\n",
       "      <td>PC272</td>\n",
       "      <td>Gly_transf_sug; Glycosyltransferase, DXD sugar...</td>\n",
       "    </tr>\n",
       "    <tr>\n",
       "      <th>277</th>\n",
       "      <td>NaN</td>\n",
       "      <td>1356</td>\n",
       "      <td>PC273</td>\n",
       "      <td>MBR1; Mitochondrial biogenesis regulation prot...</td>\n",
       "    </tr>\n",
       "    <tr>\n",
       "      <th>278</th>\n",
       "      <td>NaN</td>\n",
       "      <td>1275</td>\n",
       "      <td>PC274</td>\n",
       "      <td>Kinetocho_Slk19; Central kinetochore-associated</td>\n",
       "    </tr>\n",
       "  </tbody>\n",
       "</table>\n",
       "<p>220 rows × 4 columns</p>\n",
       "</div>"
      ],
      "text/plain": [
       "    pca-component_x  domain-number pca-component_y  \\\n",
       "59              NaN           1028             PC0   \n",
       "60              NaN            308             PC1   \n",
       "61              NaN            689             PC2   \n",
       "62              NaN            305             PC4   \n",
       "63              NaN           2113             PC5   \n",
       "..              ...            ...             ...   \n",
       "274             NaN           2700           PC270   \n",
       "275             NaN            763           PC271   \n",
       "276             NaN           1042           PC272   \n",
       "277             NaN           1356           PC273   \n",
       "278             NaN           1275           PC274   \n",
       "\n",
       "                                    domain-description  \n",
       "59                 GatB_Yqey; Asn/Gln amidotransferase  \n",
       "60                            Bul1_N; Bul1, N-terminal  \n",
       "61        DUF3128; Protein of unknown function DUF3128  \n",
       "62                     Brr6_like_C_C; Brl1/Brr6 domain  \n",
       "63       Rav1p_C; RAVE complex protein Rav1 C-terminal  \n",
       "..                                                 ...  \n",
       "274             Trehalose_PPase; Trehalose-phosphatase  \n",
       "275      Drc1-Sld2; DNA replication/checkpoint protein  \n",
       "276  Gly_transf_sug; Glycosyltransferase, DXD sugar...  \n",
       "277  MBR1; Mitochondrial biogenesis regulation prot...  \n",
       "278    Kinetocho_Slk19; Central kinetochore-associated  \n",
       "\n",
       "[220 rows x 4 columns]"
      ]
     },
     "execution_count": 26,
     "metadata": {},
     "output_type": "execute_result"
    }
   ],
   "source": [
    "df_nsl_exclusive=pd.merge(df_sl,df_nsl,how='right',on='domain-number')\n",
    "\n",
    "domains_name=np.unique(data_domains['domain-name'])\n",
    "domains_description=np.unique(data_domains['domain-descrip'])\n",
    "\n",
    "df_nsl_exclusive['domain-description']=domains_description[df_nsl_exclusive['domain-number']]\n",
    "df_nsl_exclusive[pd.isnull(df_nsl_exclusive['pca-component_x'])]"
   ]
  },
  {
   "cell_type": "code",
   "execution_count": 27,
   "metadata": {
    "execution": {
     "iopub.execute_input": "2020-07-20T13:06:58.504336Z",
     "iopub.status.busy": "2020-07-20T13:06:58.503823Z",
     "iopub.status.idle": "2020-07-20T13:06:58.507835Z",
     "shell.execute_reply": "2020-07-20T13:06:58.507380Z"
    }
   },
   "outputs": [
    {
     "name": "stdout",
     "output_type": "stream",
     "text": [
      "The number of exclusive domains from non SL pairs, after PCA, is =  279 out of 558 so the 50.0 %\n"
     ]
    }
   ],
   "source": [
    "print('The number of exclusive domains from non SL pairs, after PCA, is = ',len(df_nsl_exclusive), 'out of', len(df_sl)+len(df_nsl), 'so the',100*len(df_nsl_exclusive)/(len(df_sl)+len(df_nsl)),'%')"
   ]
  },
  {
   "cell_type": "markdown",
   "metadata": {},
   "source": [
    "## Let see to the domains-number that get repeated after the PCA analysis , and selecting the most explanatory feature by its explained variance."
   ]
  },
  {
   "cell_type": "code",
   "execution_count": 28,
   "metadata": {
    "execution": {
     "iopub.execute_input": "2020-07-20T13:06:58.529823Z",
     "iopub.status.busy": "2020-07-20T13:06:58.529236Z",
     "iopub.status.idle": "2020-07-20T13:06:58.532608Z",
     "shell.execute_reply": "2020-07-20T13:06:58.531911Z"
    }
   },
   "outputs": [],
   "source": [
    "duplicated_features_sl=df_sl[df_sl.iloc[:,1].duplicated()]\n",
    "repeated_features_sl=pd.DataFrame()\n",
    "\n",
    "domains_name=np.unique(data_domains['domain-name'])\n",
    "domains_description=np.unique(data_domains['domain-descrip'])\n",
    "\n",
    "repeated_features_sl['domain-name']=domains_name[duplicated_features_sl.iloc[:,1]] \n",
    "repeated_features_sl['domain-description']=domains_description[duplicated_features_sl.iloc[:,1]]\n",
    "\n",
    "duplicated_features_nsl=df_nsl[df_nsl.iloc[:,1].duplicated()]\n",
    "repeated_features_nsl=pd.DataFrame()\n",
    "\n",
    "repeated_features_nsl['domain-name']=domains_name[duplicated_features_nsl.iloc[:,1]] \n",
    "repeated_features_nsl['domain-description']=domains_description[duplicated_features_nsl.iloc[:,1]]"
   ]
  },
  {
   "cell_type": "code",
   "execution_count": 29,
   "metadata": {
    "execution": {
     "iopub.execute_input": "2020-07-20T13:06:58.541916Z",
     "iopub.status.busy": "2020-07-20T13:06:58.538044Z",
     "iopub.status.idle": "2020-07-20T13:06:58.548564Z",
     "shell.execute_reply": "2020-07-20T13:06:58.547759Z"
    }
   },
   "outputs": [
    {
     "name": "stderr",
     "output_type": "stream",
     "text": [
      "/usr/share/miniconda3/envs/wintest/lib/python3.7/site-packages/ipykernel_launcher.py:3: SettingWithCopyWarning: \n",
      "A value is trying to be set on a copy of a slice from a DataFrame.\n",
      "Try using .loc[row_indexer,col_indexer] = value instead\n",
      "\n",
      "See the caveats in the documentation: https://pandas.pydata.org/pandas-docs/stable/user_guide/indexing.html#returning-a-view-versus-a-copy\n",
      "  This is separate from the ipykernel package so we can avoid doing imports until\n"
     ]
    },
    {
     "data": {
      "text/plain": [
       "((44, 4), (292, 4))"
      ]
     },
     "execution_count": 29,
     "metadata": {},
     "output_type": "execute_result"
    }
   ],
   "source": [
    "only_sl_pd=pd.merge(repeated_features_sl,repeated_features_nsl,how='left',on=['domain-name'])\n",
    "data_only_sl = only_sl_pd[pd.isnull(only_sl_pd['domain-description_y'])]\n",
    "data_only_sl['domain-description']=data_only_sl['domain-description_x']\n",
    "data_only_sl.shape,df_sl_exclusive.shape"
   ]
  },
  {
   "cell_type": "code",
   "execution_count": 30,
   "metadata": {
    "execution": {
     "iopub.execute_input": "2020-07-20T13:06:58.564533Z",
     "iopub.status.busy": "2020-07-20T13:06:58.564010Z",
     "iopub.status.idle": "2020-07-20T13:06:58.569800Z",
     "shell.execute_reply": "2020-07-20T13:06:58.569320Z"
    }
   },
   "outputs": [
    {
     "data": {
      "text/html": [
       "<div>\n",
       "<style scoped>\n",
       "    .dataframe tbody tr th:only-of-type {\n",
       "        vertical-align: middle;\n",
       "    }\n",
       "\n",
       "    .dataframe tbody tr th {\n",
       "        vertical-align: top;\n",
       "    }\n",
       "\n",
       "    .dataframe thead th {\n",
       "        text-align: right;\n",
       "    }\n",
       "</style>\n",
       "<table border=\"1\" class=\"dataframe\">\n",
       "  <thead>\n",
       "    <tr style=\"text-align: right;\">\n",
       "      <th></th>\n",
       "      <th>domain-name</th>\n",
       "      <th>domain-description_x</th>\n",
       "      <th>domain-description_y</th>\n",
       "    </tr>\n",
       "  </thead>\n",
       "  <tbody>\n",
       "    <tr>\n",
       "      <th>1</th>\n",
       "      <td>PF08696</td>\n",
       "      <td>NaN</td>\n",
       "      <td>RNA_pol_Rpb8; RNA polymerase, Rpb8</td>\n",
       "    </tr>\n",
       "    <tr>\n",
       "      <th>2</th>\n",
       "      <td>PF03372</td>\n",
       "      <td>NaN</td>\n",
       "      <td>HCO3_cotransp; Bicarbonate transporter, C-term...</td>\n",
       "    </tr>\n",
       "    <tr>\n",
       "      <th>3</th>\n",
       "      <td>PF13174</td>\n",
       "      <td>NaN</td>\n",
       "      <td>THUMP; THUMP domain</td>\n",
       "    </tr>\n",
       "    <tr>\n",
       "      <th>4</th>\n",
       "      <td>PF03531</td>\n",
       "      <td>NaN</td>\n",
       "      <td>HORMA; HORMA domain</td>\n",
       "    </tr>\n",
       "    <tr>\n",
       "      <th>5</th>\n",
       "      <td>PF08148</td>\n",
       "      <td>NaN</td>\n",
       "      <td>PRP21_like_P; Splicing factor 3A subunit 1</td>\n",
       "    </tr>\n",
       "    <tr>\n",
       "      <th>6</th>\n",
       "      <td>PF10451</td>\n",
       "      <td>NaN</td>\n",
       "      <td>SCO1-SenC; Copper chaperone SCO1/SenC</td>\n",
       "    </tr>\n",
       "    <tr>\n",
       "      <th>7</th>\n",
       "      <td>PF13848</td>\n",
       "      <td>NaN</td>\n",
       "      <td>Transferase</td>\n",
       "    </tr>\n",
       "    <tr>\n",
       "      <th>8</th>\n",
       "      <td>PF02666</td>\n",
       "      <td>NaN</td>\n",
       "      <td>Flocculin</td>\n",
       "    </tr>\n",
       "    <tr>\n",
       "      <th>9</th>\n",
       "      <td>PF11605</td>\n",
       "      <td>NaN</td>\n",
       "      <td>SRP40_C; SRP40, C-terminal</td>\n",
       "    </tr>\n",
       "    <tr>\n",
       "      <th>10</th>\n",
       "      <td>PF02845</td>\n",
       "      <td>NaN</td>\n",
       "      <td>GFD1</td>\n",
       "    </tr>\n",
       "    <tr>\n",
       "      <th>11</th>\n",
       "      <td>PF05615</td>\n",
       "      <td>NaN</td>\n",
       "      <td>NIR_SIR_ferr; Nitrite/Sulfite reductase ferred...</td>\n",
       "    </tr>\n",
       "    <tr>\n",
       "      <th>12</th>\n",
       "      <td>PF03874</td>\n",
       "      <td>NaN</td>\n",
       "      <td>Hydantoinase_A; Hydantoinase/oxoprolinase</td>\n",
       "    </tr>\n",
       "    <tr>\n",
       "      <th>13</th>\n",
       "      <td>PF08651</td>\n",
       "      <td>NaN</td>\n",
       "      <td>RNA_pol_Rpa2_4; DNA-directed RNA polymerase I ...</td>\n",
       "    </tr>\n",
       "    <tr>\n",
       "      <th>14</th>\n",
       "      <td>PF12341</td>\n",
       "      <td>NaN</td>\n",
       "      <td>Sin_N; DNA-directed RNA polymerase III subunit...</td>\n",
       "    </tr>\n",
       "    <tr>\n",
       "      <th>15</th>\n",
       "      <td>PF05557</td>\n",
       "      <td>NaN</td>\n",
       "      <td>NIF; FCP1 homology domain</td>\n",
       "    </tr>\n",
       "    <tr>\n",
       "      <th>16</th>\n",
       "      <td>PF04000</td>\n",
       "      <td>NaN</td>\n",
       "      <td>Inhibitor_I9; Peptidase S8 propeptide/proteina...</td>\n",
       "    </tr>\n",
       "    <tr>\n",
       "      <th>17</th>\n",
       "      <td>PF08312</td>\n",
       "      <td>NaN</td>\n",
       "      <td>Peptidase_M24_C; Peptidase M24, C-terminal domain</td>\n",
       "    </tr>\n",
       "    <tr>\n",
       "      <th>18</th>\n",
       "      <td>PF13450</td>\n",
       "      <td>NaN</td>\n",
       "      <td>TRM; tRNA methyltransferase, Trm1</td>\n",
       "    </tr>\n",
       "    <tr>\n",
       "      <th>19</th>\n",
       "      <td>PF01920</td>\n",
       "      <td>NaN</td>\n",
       "      <td>E1_UFD; Ubiquitin-activating enzyme E1, C-term...</td>\n",
       "    </tr>\n",
       "    <tr>\n",
       "      <th>20</th>\n",
       "      <td>PF08118</td>\n",
       "      <td>NaN</td>\n",
       "      <td>PRKCSH_1; Mannose-6-phosphate receptor binding...</td>\n",
       "    </tr>\n",
       "    <tr>\n",
       "      <th>21</th>\n",
       "      <td>PF00722</td>\n",
       "      <td>NaN</td>\n",
       "      <td>CIAPIN1; Anamorsin</td>\n",
       "    </tr>\n",
       "    <tr>\n",
       "      <th>22</th>\n",
       "      <td>PF01663</td>\n",
       "      <td>NaN</td>\n",
       "      <td>DUF3543; Serine/threonine-protein kinase, C-te...</td>\n",
       "    </tr>\n",
       "    <tr>\n",
       "      <th>23</th>\n",
       "      <td>PF08586</td>\n",
       "      <td>NaN</td>\n",
       "      <td>QLQ; Glutamine-Leucine-Glutamine, QLQ</td>\n",
       "    </tr>\n",
       "    <tr>\n",
       "      <th>24</th>\n",
       "      <td>PF04757</td>\n",
       "      <td>NaN</td>\n",
       "      <td>Mad3_BUB1_II; Mad3/Bub1 homology region 2</td>\n",
       "    </tr>\n",
       "    <tr>\n",
       "      <th>25</th>\n",
       "      <td>PF12709</td>\n",
       "      <td>NaN</td>\n",
       "      <td>Spt5_N; Spt5 transcription elongation factor, ...</td>\n",
       "    </tr>\n",
       "    <tr>\n",
       "      <th>26</th>\n",
       "      <td>PF01208</td>\n",
       "      <td>NaN</td>\n",
       "      <td>DAD; DAD/Ost2</td>\n",
       "    </tr>\n",
       "    <tr>\n",
       "      <th>27</th>\n",
       "      <td>PF01990</td>\n",
       "      <td>NaN</td>\n",
       "      <td>EFG_IV; Translation elongation factor EFG/EF2,...</td>\n",
       "    </tr>\n",
       "    <tr>\n",
       "      <th>28</th>\n",
       "      <td>PF10609</td>\n",
       "      <td>NaN</td>\n",
       "      <td>SIS; Sugar isomerase (SIS)</td>\n",
       "    </tr>\n",
       "    <tr>\n",
       "      <th>29</th>\n",
       "      <td>PF03915</td>\n",
       "      <td>NaN</td>\n",
       "      <td>ICL; Isocitrate lyase</td>\n",
       "    </tr>\n",
       "    <tr>\n",
       "      <th>30</th>\n",
       "      <td>PF03915</td>\n",
       "      <td>NaN</td>\n",
       "      <td>ICL; Isocitrate lyase</td>\n",
       "    </tr>\n",
       "    <tr>\n",
       "      <th>31</th>\n",
       "      <td>PF03915</td>\n",
       "      <td>NaN</td>\n",
       "      <td>ICL; Isocitrate lyase</td>\n",
       "    </tr>\n",
       "    <tr>\n",
       "      <th>32</th>\n",
       "      <td>PF00235</td>\n",
       "      <td>NaN</td>\n",
       "      <td>ATG27; Autophagy-related protein 27</td>\n",
       "    </tr>\n",
       "    <tr>\n",
       "      <th>33</th>\n",
       "      <td>PF01221</td>\n",
       "      <td>NaN</td>\n",
       "      <td>DASH_Dad1; DASH complex subunit Dad1</td>\n",
       "    </tr>\n",
       "    <tr>\n",
       "      <th>34</th>\n",
       "      <td>PF10075</td>\n",
       "      <td>NaN</td>\n",
       "      <td>Ribosomal_L35Ae; Ribosomal protein L35A</td>\n",
       "    </tr>\n",
       "    <tr>\n",
       "      <th>35</th>\n",
       "      <td>PF01849</td>\n",
       "      <td>NaN</td>\n",
       "      <td>DnaJ_C; Chaperone DnaJ, C-terminal</td>\n",
       "    </tr>\n",
       "    <tr>\n",
       "      <th>36</th>\n",
       "      <td>PF00137</td>\n",
       "      <td>NaN</td>\n",
       "      <td>AICARFT_IMPCHas; AICARFT/IMPCHase bienzyme</td>\n",
       "    </tr>\n",
       "    <tr>\n",
       "      <th>37</th>\n",
       "      <td>PF01553</td>\n",
       "      <td>NaN</td>\n",
       "      <td>DUF202; Domain of unknown function DUF202</td>\n",
       "    </tr>\n",
       "  </tbody>\n",
       "</table>\n",
       "</div>"
      ],
      "text/plain": [
       "   domain-name domain-description_x  \\\n",
       "1      PF08696                  NaN   \n",
       "2      PF03372                  NaN   \n",
       "3      PF13174                  NaN   \n",
       "4      PF03531                  NaN   \n",
       "5      PF08148                  NaN   \n",
       "6      PF10451                  NaN   \n",
       "7      PF13848                  NaN   \n",
       "8      PF02666                  NaN   \n",
       "9      PF11605                  NaN   \n",
       "10     PF02845                  NaN   \n",
       "11     PF05615                  NaN   \n",
       "12     PF03874                  NaN   \n",
       "13     PF08651                  NaN   \n",
       "14     PF12341                  NaN   \n",
       "15     PF05557                  NaN   \n",
       "16     PF04000                  NaN   \n",
       "17     PF08312                  NaN   \n",
       "18     PF13450                  NaN   \n",
       "19     PF01920                  NaN   \n",
       "20     PF08118                  NaN   \n",
       "21     PF00722                  NaN   \n",
       "22     PF01663                  NaN   \n",
       "23     PF08586                  NaN   \n",
       "24     PF04757                  NaN   \n",
       "25     PF12709                  NaN   \n",
       "26     PF01208                  NaN   \n",
       "27     PF01990                  NaN   \n",
       "28     PF10609                  NaN   \n",
       "29     PF03915                  NaN   \n",
       "30     PF03915                  NaN   \n",
       "31     PF03915                  NaN   \n",
       "32     PF00235                  NaN   \n",
       "33     PF01221                  NaN   \n",
       "34     PF10075                  NaN   \n",
       "35     PF01849                  NaN   \n",
       "36     PF00137                  NaN   \n",
       "37     PF01553                  NaN   \n",
       "\n",
       "                                 domain-description_y  \n",
       "1                  RNA_pol_Rpb8; RNA polymerase, Rpb8  \n",
       "2   HCO3_cotransp; Bicarbonate transporter, C-term...  \n",
       "3                                 THUMP; THUMP domain  \n",
       "4                                 HORMA; HORMA domain  \n",
       "5          PRP21_like_P; Splicing factor 3A subunit 1  \n",
       "6               SCO1-SenC; Copper chaperone SCO1/SenC  \n",
       "7                                         Transferase  \n",
       "8                                           Flocculin  \n",
       "9                          SRP40_C; SRP40, C-terminal  \n",
       "10                                               GFD1  \n",
       "11  NIR_SIR_ferr; Nitrite/Sulfite reductase ferred...  \n",
       "12          Hydantoinase_A; Hydantoinase/oxoprolinase  \n",
       "13  RNA_pol_Rpa2_4; DNA-directed RNA polymerase I ...  \n",
       "14  Sin_N; DNA-directed RNA polymerase III subunit...  \n",
       "15                          NIF; FCP1 homology domain  \n",
       "16  Inhibitor_I9; Peptidase S8 propeptide/proteina...  \n",
       "17  Peptidase_M24_C; Peptidase M24, C-terminal domain  \n",
       "18                  TRM; tRNA methyltransferase, Trm1  \n",
       "19  E1_UFD; Ubiquitin-activating enzyme E1, C-term...  \n",
       "20  PRKCSH_1; Mannose-6-phosphate receptor binding...  \n",
       "21                                 CIAPIN1; Anamorsin  \n",
       "22  DUF3543; Serine/threonine-protein kinase, C-te...  \n",
       "23              QLQ; Glutamine-Leucine-Glutamine, QLQ  \n",
       "24          Mad3_BUB1_II; Mad3/Bub1 homology region 2  \n",
       "25  Spt5_N; Spt5 transcription elongation factor, ...  \n",
       "26                                      DAD; DAD/Ost2  \n",
       "27  EFG_IV; Translation elongation factor EFG/EF2,...  \n",
       "28                         SIS; Sugar isomerase (SIS)  \n",
       "29                              ICL; Isocitrate lyase  \n",
       "30                              ICL; Isocitrate lyase  \n",
       "31                              ICL; Isocitrate lyase  \n",
       "32                ATG27; Autophagy-related protein 27  \n",
       "33               DASH_Dad1; DASH complex subunit Dad1  \n",
       "34            Ribosomal_L35Ae; Ribosomal protein L35A  \n",
       "35                 DnaJ_C; Chaperone DnaJ, C-terminal  \n",
       "36         AICARFT_IMPCHas; AICARFT/IMPCHase bienzyme  \n",
       "37          DUF202; Domain of unknown function DUF202  "
      ]
     },
     "execution_count": 30,
     "metadata": {},
     "output_type": "execute_result"
    }
   ],
   "source": [
    "only_nsl_pd=pd.merge(repeated_features_sl,repeated_features_nsl,how='right',on=['domain-name'])\n",
    "data_only_nsl = only_nsl_pd[pd.isnull(only_nsl_pd['domain-description_x'])]\n",
    "data_only_nsl"
   ]
  },
  {
   "cell_type": "code",
   "execution_count": 31,
   "metadata": {
    "execution": {
     "iopub.execute_input": "2020-07-20T13:06:58.579815Z",
     "iopub.status.busy": "2020-07-20T13:06:58.579292Z",
     "iopub.status.idle": "2020-07-20T13:06:58.584105Z",
     "shell.execute_reply": "2020-07-20T13:06:58.584534Z"
    }
   },
   "outputs": [
    {
     "data": {
      "text/html": [
       "<div>\n",
       "<style scoped>\n",
       "    .dataframe tbody tr th:only-of-type {\n",
       "        vertical-align: middle;\n",
       "    }\n",
       "\n",
       "    .dataframe tbody tr th {\n",
       "        vertical-align: top;\n",
       "    }\n",
       "\n",
       "    .dataframe thead th {\n",
       "        text-align: right;\n",
       "    }\n",
       "</style>\n",
       "<table border=\"1\" class=\"dataframe\">\n",
       "  <thead>\n",
       "    <tr style=\"text-align: right;\">\n",
       "      <th></th>\n",
       "      <th>domain-name</th>\n",
       "      <th>domain-description_x</th>\n",
       "      <th>domain-description_y</th>\n",
       "    </tr>\n",
       "  </thead>\n",
       "  <tbody>\n",
       "    <tr>\n",
       "      <th>0</th>\n",
       "      <td>PF01423</td>\n",
       "      <td>DNA_topoisoIV; DNA topoisomerase, type IIA, su...</td>\n",
       "      <td>DNA_topoisoIV; DNA topoisomerase, type IIA, su...</td>\n",
       "    </tr>\n",
       "  </tbody>\n",
       "</table>\n",
       "</div>"
      ],
      "text/plain": [
       "  domain-name                               domain-description_x  \\\n",
       "0     PF01423  DNA_topoisoIV; DNA topoisomerase, type IIA, su...   \n",
       "\n",
       "                                domain-description_y  \n",
       "0  DNA_topoisoIV; DNA topoisomerase, type IIA, su...  "
      ]
     },
     "execution_count": 31,
     "metadata": {},
     "output_type": "execute_result"
    }
   ],
   "source": [
    "shared_domains_pd=pd.merge(repeated_features_sl,repeated_features_nsl,how='inner',on=['domain-name'])\n",
    "shared_domains_pd\n"
   ]
  },
  {
   "cell_type": "code",
   "execution_count": 32,
   "metadata": {
    "execution": {
     "iopub.execute_input": "2020-07-20T13:06:58.597208Z",
     "iopub.status.busy": "2020-07-20T13:06:58.595015Z",
     "iopub.status.idle": "2020-07-20T13:06:59.966681Z",
     "shell.execute_reply": "2020-07-20T13:06:59.966186Z"
    }
   },
   "outputs": [
    {
     "data": {
      "text/plain": [
       "(0.0, 0.2)"
      ]
     },
     "execution_count": 32,
     "metadata": {},
     "output_type": "execute_result"
    },
    {
     "data": {
      "image/png": "[encoded data removed]",
      "text/plain": [
       "<Figure size 432x288 with 1 Axes>"
      ]
     },
     "metadata": {
      "filenames": {
       "image/png": "/home/runner/work/jupyter-book/jupyter-book/mini_book/docs/_build/jupyter_execute/prot_domains2lethality-FEATURES-POSTPROCESSING_47_1.png"
      },
      "needs_background": "light"
     },
     "output_type": "display_data"
    }
   ],
   "source": [
    "a_sl=x_sl.iloc[:,np.sort(df_sl.iloc[:,1])]\n",
    "a_sl.describe().loc['mean'].hist(bins=8),\n",
    "a_sl.describe().loc['std'].hist(bins=8,alpha=0.4)\n",
    "plt.xlim([0,0.2])"
   ]
  },
  {
   "cell_type": "code",
   "execution_count": 33,
   "metadata": {
    "execution": {
     "iopub.execute_input": "2020-07-20T13:06:59.978384Z",
     "iopub.status.busy": "2020-07-20T13:06:59.971391Z",
     "iopub.status.idle": "2020-07-20T13:07:01.352623Z",
     "shell.execute_reply": "2020-07-20T13:07:01.353336Z"
    }
   },
   "outputs": [
    {
     "data": {
      "text/plain": [
       "(0.0, 0.2)"
      ]
     },
     "execution_count": 33,
     "metadata": {},
     "output_type": "execute_result"
    },
    {
     "data": {
      "image/png": "[encoded data removed]",
      "text/plain": [
       "<Figure size 432x288 with 1 Axes>"
      ]
     },
     "metadata": {
      "filenames": {
       "image/png": "/home/runner/work/jupyter-book/jupyter-book/mini_book/docs/_build/jupyter_execute/prot_domains2lethality-FEATURES-POSTPROCESSING_48_1.png"
      },
      "needs_background": "light"
     },
     "output_type": "display_data"
    }
   ],
   "source": [
    "a_nsl=x_nsl.iloc[:,np.sort(df_nsl.iloc[:,1])]\n",
    "a_nsl.describe().loc['mean'].hist(bins=8),\n",
    "a_nsl.describe().loc['std'].hist(bins=8,alpha=0.4)\n",
    "plt.xlim([0,0.2])"
   ]
  },
  {
   "cell_type": "markdown",
   "metadata": {},
   "source": [
    "### Proof of concept with *BEM1*\n",
    "\n",
    "- Gather the domains of SL and nSL pairs from BEM1\n",
    "- Check if the domains for the SL and nSL pairs are inside the most important domains after PCA."
   ]
  },
  {
   "cell_type": "code",
   "execution_count": 34,
   "metadata": {
    "execution": {
     "iopub.execute_input": "2020-07-20T13:07:01.362034Z",
     "iopub.status.busy": "2020-07-20T13:07:01.361473Z",
     "iopub.status.idle": "2020-07-20T13:07:01.365043Z",
     "shell.execute_reply": "2020-07-20T13:07:01.364595Z"
    }
   },
   "outputs": [],
   "source": [
    "domains_bem1=data_domains[data_domains['name']=='BEM1']['domain-descrip']\n",
    "sl_bem1=data_sl[data_sl['gene-query-name']=='BEM1']['gene-target-name']"
   ]
  },
  {
   "cell_type": "code",
   "execution_count": 35,
   "metadata": {
    "execution": {
     "iopub.execute_input": "2020-07-20T13:07:01.370219Z",
     "iopub.status.busy": "2020-07-20T13:07:01.369704Z",
     "iopub.status.idle": "2020-07-20T13:07:01.374791Z",
     "shell.execute_reply": "2020-07-20T13:07:01.375212Z"
    }
   },
   "outputs": [
    {
     "data": {
      "text/plain": [
       "2846      BEM2\n",
       "2847     CDC24\n",
       "5004      MSB1\n",
       "13777     SMI1\n",
       "13778     BNI1\n",
       "13779     BEM2\n",
       "14385     SKN7\n",
       "Name: gene-target-name, dtype: object"
      ]
     },
     "execution_count": 35,
     "metadata": {},
     "output_type": "execute_result"
    }
   ],
   "source": [
    "sl_bem1"
   ]
  },
  {
   "cell_type": "code",
   "execution_count": 36,
   "metadata": {
    "execution": {
     "iopub.execute_input": "2020-07-20T13:07:01.392732Z",
     "iopub.status.busy": "2020-07-20T13:07:01.392198Z",
     "iopub.status.idle": "2020-07-20T13:07:01.400299Z",
     "shell.execute_reply": "2020-07-20T13:07:01.399841Z"
    }
   },
   "outputs": [
    {
     "data": {
      "text/html": [
       "<div>\n",
       "<style scoped>\n",
       "    .dataframe tbody tr th:only-of-type {\n",
       "        vertical-align: middle;\n",
       "    }\n",
       "\n",
       "    .dataframe tbody tr th {\n",
       "        vertical-align: top;\n",
       "    }\n",
       "\n",
       "    .dataframe thead th {\n",
       "        text-align: right;\n",
       "    }\n",
       "</style>\n",
       "<table border=\"1\" class=\"dataframe\">\n",
       "  <thead>\n",
       "    <tr style=\"text-align: right;\">\n",
       "      <th></th>\n",
       "      <th>gene-query</th>\n",
       "      <th>gene-target</th>\n",
       "      <th>gene-query-name</th>\n",
       "      <th>gene-target-name</th>\n",
       "      <th>gene-query-description</th>\n",
       "      <th>gene-target-description</th>\n",
       "      <th>interaction-type</th>\n",
       "      <th>paper-source</th>\n",
       "    </tr>\n",
       "  </thead>\n",
       "  <tbody>\n",
       "    <tr>\n",
       "      <th>2846</th>\n",
       "      <td>YBR200W</td>\n",
       "      <td>YER155C</td>\n",
       "      <td>BEM1</td>\n",
       "      <td>BEM2</td>\n",
       "      <td>SRO1|phosphatidylinositol-3-phosphate-binding ...</td>\n",
       "      <td>IPL2|SUP9|TSL1|L000000168</td>\n",
       "      <td>Synthetic Lethality</td>\n",
       "      <td>Peterson J (1994)</td>\n",
       "    </tr>\n",
       "    <tr>\n",
       "      <th>2847</th>\n",
       "      <td>YBR200W</td>\n",
       "      <td>YAL041W</td>\n",
       "      <td>BEM1</td>\n",
       "      <td>CDC24</td>\n",
       "      <td>SRO1|phosphatidylinositol-3-phosphate-binding ...</td>\n",
       "      <td>CLS4|Rho family guanine nucleotide exchange fa...</td>\n",
       "      <td>Synthetic Lethality</td>\n",
       "      <td>Peterson J (1994)</td>\n",
       "    </tr>\n",
       "    <tr>\n",
       "      <th>5004</th>\n",
       "      <td>YBR200W</td>\n",
       "      <td>YOR188W</td>\n",
       "      <td>BEM1</td>\n",
       "      <td>MSB1</td>\n",
       "      <td>SRO1|phosphatidylinositol-3-phosphate-binding ...</td>\n",
       "      <td>L000001184</td>\n",
       "      <td>Synthetic Lethality</td>\n",
       "      <td>Bender A (1991)</td>\n",
       "    </tr>\n",
       "    <tr>\n",
       "      <th>13777</th>\n",
       "      <td>YBR200W</td>\n",
       "      <td>YGR229C</td>\n",
       "      <td>BEM1</td>\n",
       "      <td>SMI1</td>\n",
       "      <td>SRO1|phosphatidylinositol-3-phosphate-binding ...</td>\n",
       "      <td>KNR4|L000000909</td>\n",
       "      <td>Synthetic Lethality</td>\n",
       "      <td>Gorelik M (2011)</td>\n",
       "    </tr>\n",
       "    <tr>\n",
       "      <th>13778</th>\n",
       "      <td>YBR200W</td>\n",
       "      <td>YNL271C</td>\n",
       "      <td>BEM1</td>\n",
       "      <td>BNI1</td>\n",
       "      <td>SRO1|phosphatidylinositol-3-phosphate-binding ...</td>\n",
       "      <td>PPF3|SHE5|formin BNI1|L000000190</td>\n",
       "      <td>Synthetic Lethality</td>\n",
       "      <td>Gorelik M (2011)</td>\n",
       "    </tr>\n",
       "    <tr>\n",
       "      <th>13779</th>\n",
       "      <td>YBR200W</td>\n",
       "      <td>YER155C</td>\n",
       "      <td>BEM1</td>\n",
       "      <td>BEM2</td>\n",
       "      <td>SRO1|phosphatidylinositol-3-phosphate-binding ...</td>\n",
       "      <td>IPL2|SUP9|TSL1|L000000168</td>\n",
       "      <td>Synthetic Lethality</td>\n",
       "      <td>Gorelik M (2011)</td>\n",
       "    </tr>\n",
       "    <tr>\n",
       "      <th>14385</th>\n",
       "      <td>YBR200W</td>\n",
       "      <td>YHR206W</td>\n",
       "      <td>BEM1</td>\n",
       "      <td>SKN7</td>\n",
       "      <td>SRO1|phosphatidylinositol-3-phosphate-binding ...</td>\n",
       "      <td>BRY1|POS9|kinase-regulated stress-responsive t...</td>\n",
       "      <td>Dosage Lethality</td>\n",
       "      <td>Bouquin N (1999)</td>\n",
       "    </tr>\n",
       "  </tbody>\n",
       "</table>\n",
       "</div>"
      ],
      "text/plain": [
       "      gene-query gene-target gene-query-name gene-target-name  \\\n",
       "2846     YBR200W     YER155C            BEM1             BEM2   \n",
       "2847     YBR200W     YAL041W            BEM1            CDC24   \n",
       "5004     YBR200W     YOR188W            BEM1             MSB1   \n",
       "13777    YBR200W     YGR229C            BEM1             SMI1   \n",
       "13778    YBR200W     YNL271C            BEM1             BNI1   \n",
       "13779    YBR200W     YER155C            BEM1             BEM2   \n",
       "14385    YBR200W     YHR206W            BEM1             SKN7   \n",
       "\n",
       "                                  gene-query-description  \\\n",
       "2846   SRO1|phosphatidylinositol-3-phosphate-binding ...   \n",
       "2847   SRO1|phosphatidylinositol-3-phosphate-binding ...   \n",
       "5004   SRO1|phosphatidylinositol-3-phosphate-binding ...   \n",
       "13777  SRO1|phosphatidylinositol-3-phosphate-binding ...   \n",
       "13778  SRO1|phosphatidylinositol-3-phosphate-binding ...   \n",
       "13779  SRO1|phosphatidylinositol-3-phosphate-binding ...   \n",
       "14385  SRO1|phosphatidylinositol-3-phosphate-binding ...   \n",
       "\n",
       "                                 gene-target-description     interaction-type  \\\n",
       "2846                           IPL2|SUP9|TSL1|L000000168  Synthetic Lethality   \n",
       "2847   CLS4|Rho family guanine nucleotide exchange fa...  Synthetic Lethality   \n",
       "5004                                          L000001184  Synthetic Lethality   \n",
       "13777                                    KNR4|L000000909  Synthetic Lethality   \n",
       "13778                   PPF3|SHE5|formin BNI1|L000000190  Synthetic Lethality   \n",
       "13779                          IPL2|SUP9|TSL1|L000000168  Synthetic Lethality   \n",
       "14385  BRY1|POS9|kinase-regulated stress-responsive t...     Dosage Lethality   \n",
       "\n",
       "            paper-source  \n",
       "2846   Peterson J (1994)  \n",
       "2847   Peterson J (1994)  \n",
       "5004     Bender A (1991)  \n",
       "13777   Gorelik M (2011)  \n",
       "13778   Gorelik M (2011)  \n",
       "13779   Gorelik M (2011)  \n",
       "14385   Bouquin N (1999)  "
      ]
     },
     "execution_count": 36,
     "metadata": {},
     "output_type": "execute_result"
    }
   ],
   "source": [
    "data_sl[data_sl['gene-query-name']=='BEM1']"
   ]
  },
  {
   "cell_type": "code",
   "execution_count": null,
   "metadata": {},
   "outputs": [],
   "source": []
  }
 ],
 "metadata": {
  "jupytext": {
   "text_representation": {
    "extension": ".md",
    "format_name": "myst"
   }
  },
  "kernelspec": {
   "display_name": "Python 3",
   "language": "python",
   "name": "python3"
  },
  "language_info": {
   "codemirror_mode": {
    "name": "ipython",
    "version": 3
   },
   "file_extension": ".py",
   "mimetype": "text/x-python",
   "name": "python",
   "nbconvert_exporter": "python",
   "pygments_lexer": "ipython3",
   "version": "3.7.6"
  },
  "source_map": [
   10,
   18,
   29,
   36,
   57,
   66,
   98,
   101,
   105,
   128,
   131,
   135,
   139,
   145,
   178,
   184,
   188,
   206,
   210,
   218,
   222,
   225,
   229,
   234,
   238,
   244,
   248,
   253,
   257,
   267,
   269,
   273,
   306,
   311,
   313,
   317,
   328,
   330,
   334,
   344,
   348,
   358,
   360,
   364,
   381,
   388,
   394,
   400,
   407,
   412,
   419,
   424,
   428,
   432
  ]
 },
 "nbformat": 4,
 "nbformat_minor": 4
}