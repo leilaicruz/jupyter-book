{
 "cells": [
  {
   "cell_type": "markdown",
   "metadata": {},
   "source": [
    "# Feature postprocessing from paper.\n",
    "- Title:  \"Predicting yeast synthetic lethal genetic interactions using protein domains\"\n",
    "- Authors: Bo Li, Feng Luo,School of Computing,Clemson University,Clemson, SC, USA\n",
    "- e-mail: bol, luofeng@clemson.edu\n",
    "- year:2009"
   ]
  },
  {
   "cell_type": "code",
   "execution_count": 1,
   "metadata": {
    "execution": {
     "iopub.execute_input": "2020-08-13T21:12:33.374996Z",
     "iopub.status.busy": "2020-08-13T21:12:33.374477Z",
     "iopub.status.idle": "2020-08-13T21:12:33.963368Z",
     "shell.execute_reply": "2020-08-13T21:12:33.962534Z"
    }
   },
   "outputs": [],
   "source": [
    "import pandas as pd\n",
    "import numpy as np\n",
    "import matplotlib.pyplot as plt\n",
    "from collections import defaultdict \n",
    "import seaborn as sns\n",
    "import matplotlib.cm as cm\n",
    "import scipy as scipy\n",
    "import random"
   ]
  },
  {
   "cell_type": "markdown",
   "metadata": {
    "jupyter": {
     "source_hidden": true
    }
   },
   "source": [
    "### Importing datasets \n",
    "\n",
    "#### Link to the github repo where the datasets to be downloaded:\n",
    "[DOWNLOAD THE DATASETS HERE](https://github.com/leilaicruz/machine-learning-for-yeast/tree/dev_Leila/datasets-for-learning)"
   ]
  },
  {
   "cell_type": "code",
   "execution_count": 2,
   "metadata": {
    "execution": {
     "iopub.execute_input": "2020-08-13T21:12:33.969562Z",
     "iopub.status.busy": "2020-08-13T21:12:33.967894Z",
     "iopub.status.idle": "2020-08-13T21:12:39.897283Z",
     "shell.execute_reply": "2020-08-13T21:12:39.896555Z"
    }
   },
   "outputs": [],
   "source": [
    "import os\n",
    "script_dir = os.path.dirname('__file__') #<-- absolute dir the script is in\n",
    "rel_path_SL = \"datasets/data-synthetic-lethals.xlsx\"\n",
    "rel_path_nSL=\"datasets/data-positive-genetic.xlsx\"\n",
    "rel_path_domains=\"datasets/proteins-domains-from-Pfam.xlsx\"\n",
    "\n",
    "abs_file_path_SL = os.path.join(script_dir, rel_path_SL)\n",
    "abs_file_path_nSL = os.path.join(script_dir, rel_path_nSL)\n",
    "abs_file_path_domains = os.path.join(script_dir, rel_path_domains)\n",
    "\n",
    "# os.chdir('mini_book/docs/') #<-- for binder os.chdir('../')\n",
    "# os.chdir('../')\n",
    "my_path_sl= abs_file_path_SL\n",
    "my_path_non_sl=abs_file_path_nSL\n",
    "my_path_domains=abs_file_path_domains\n",
    "\n",
    "data_sl=pd.read_excel(my_path_sl,header=0)\n",
    "data_domains=pd.read_excel(my_path_domains,header=0,index_col='Unnamed: 0')\n",
    "data_domains=data_domains.dropna()\n",
    "data_nonsl=pd.read_excel(my_path_non_sl,header=0)"
   ]
  },
  {
   "cell_type": "markdown",
   "metadata": {},
   "source": [
    "## Building the feature matrix\n",
    "One matrix for true SL where each row is one pair of SL. Every raw will be a vector of 0,1 or 2 depending on the comparison with the domain list. For row i the jth element = 0 if the jth element of the domain list is not in neither protein A and B, 1, if it is in one of them and 2 if it is in both of them .\n",
    "\n",
    "### Building the list of proteins domains id per protein pair separately :\n",
    "- List of protein A: Search for the Sl/nSL database the query gene name and look in the protein domain database which protein domains id has each of those queries.\n",
    "- List of protein B: Search for the Sl/nSL database the target gene name of the previous query and look in the protein domain database which protein domains id has each of those target genes."
   ]
  },
  {
   "cell_type": "code",
   "execution_count": 3,
   "metadata": {
    "execution": {
     "iopub.execute_input": "2020-08-13T21:12:39.952864Z",
     "iopub.status.busy": "2020-08-13T21:12:39.911036Z",
     "iopub.status.idle": "2020-08-13T21:12:41.424969Z",
     "shell.execute_reply": "2020-08-13T21:12:41.424547Z"
    }
   },
   "outputs": [],
   "source": [
    "# Selecting the meaningful columns in the respective dataset\n",
    "domain_id_list=data_domains['domain-name']\n",
    "query_gene=data_sl['gene-query-name']\n",
    "target_gene=data_sl['gene-target-name']\n",
    "query_gene_nonlethal=data_nonsl['gene-query-name']\n",
    "target_gene_nonlethal=data_nonsl['gene-target-name']\n",
    "\n",
    "\n",
    "\n",
    "# Initialising the arrays\n",
    "protein_a_list=[]\n",
    "protein_b_list=[]\n",
    "protein_a_list_non=[]\n",
    "protein_b_list_non=[]\n",
    "\n",
    "population = np.arange(0,len(data_sl))\n",
    "\n",
    "# For loop for 10000 pairs sampled randomly from the SL/nSl pair list , and creating a big array of proteind domains id per protein pair\n",
    "\n",
    "for m in random.sample(list(population), 500):\n",
    "    protein_a=data_domains[data_domains['name']==query_gene[m]]\n",
    "    protein_b=data_domains[data_domains['name']==target_gene[m]]\n",
    "    protein_a_list.append(protein_a['domain-name'].tolist())\n",
    "    protein_b_list.append(protein_b['domain-name'].tolist())\n",
    "\n",
    "    protein_a_non=data_domains[data_domains['name']==query_gene_nonlethal[m]]\n",
    "    protein_b_non=data_domains[data_domains['name']==target_gene_nonlethal[m]]\n",
    "    protein_a_list_non.append(protein_a_non['domain-name'].tolist())\n",
    "    protein_b_list_non.append(protein_b_non['domain-name'].tolist())"
   ]
  },
  {
   "cell_type": "code",
   "execution_count": 4,
   "metadata": {
    "execution": {
     "iopub.execute_input": "2020-08-13T21:12:41.429269Z",
     "iopub.status.busy": "2020-08-13T21:12:41.428769Z",
     "iopub.status.idle": "2020-08-13T21:12:41.434851Z",
     "shell.execute_reply": "2020-08-13T21:12:41.434067Z"
    }
   },
   "outputs": [
    {
     "name": "stdout",
     "output_type": "stream",
     "text": [
      "We are going to analyze 500 protein pairs, out of 17871 SL protein pairs\n",
      "We are going to analyze 500 protein pairs, out of 43340 positive protein pairs\n"
     ]
    }
   ],
   "source": [
    "print('We are going to analyze',len((protein_a_list)) ,'protein pairs, out of',len(data_sl),'SL protein pairs')\n",
    "print('We are going to analyze',len((protein_a_list_non)) ,'protein pairs, out of',len(data_nonsl),'positive protein pairs')"
   ]
  },
  {
   "cell_type": "markdown",
   "metadata": {},
   "source": [
    "### Postprocessing #1:  Remove protein pairs from study if either protein in the pair does not contain any domain"
   ]
  },
  {
   "cell_type": "code",
   "execution_count": 5,
   "metadata": {
    "execution": {
     "iopub.execute_input": "2020-08-13T21:12:41.444148Z",
     "iopub.status.busy": "2020-08-13T21:12:41.443662Z",
     "iopub.status.idle": "2020-08-13T21:12:41.447590Z",
     "shell.execute_reply": "2020-08-13T21:12:41.448037Z"
    }
   },
   "outputs": [],
   "source": [
    "def remove_empty_domains(protein_list_search,protein_list_pair):\n",
    "    index=[]\n",
    "    for i in np.arange(0,len(protein_list_search)):\n",
    "        if protein_list_search[i]==[] or protein_list_pair[i]==[]:\n",
    "            index.append(i) ## index of empty values for the protein_a_list meaning they dont have any annotated domain\n",
    "\n",
    "    y=[x for x in np.arange(0,len(protein_list_search)) if x not in index] # a list with non empty values from protein_a list\n",
    "\n",
    "    protein_list_search_new=[]\n",
    "    protein_list_pair_new=[]\n",
    "    for i in y:\n",
    "        protein_list_search_new.append(protein_list_search[i])\n",
    "        protein_list_pair_new.append(protein_list_pair[i])\n",
    "    return protein_list_search_new,protein_list_pair_new\n",
    "\n",
    "## evaluating the function\n",
    "\n",
    "protein_a_list_new,protein_b_list_new=remove_empty_domains(protein_a_list,protein_b_list)\n",
    "\n",
    "protein_a_list_non_new,protein_b_list_non_new=remove_empty_domains(protein_a_list_non,protein_b_list_non)"
   ]
  },
  {
   "cell_type": "code",
   "execution_count": 6,
   "metadata": {
    "execution": {
     "iopub.execute_input": "2020-08-13T21:12:41.452119Z",
     "iopub.status.busy": "2020-08-13T21:12:41.451535Z",
     "iopub.status.idle": "2020-08-13T21:12:41.454784Z",
     "shell.execute_reply": "2020-08-13T21:12:41.455175Z"
    }
   },
   "outputs": [
    {
     "name": "stdout",
     "output_type": "stream",
     "text": [
      "The empty domain in the SL were: 83 out of 500 domains\n",
      "The empty domain in the nSL were: 89 out of 500 domains\n"
     ]
    }
   ],
   "source": [
    "print('The empty domain in the SL were:', len(protein_a_list)-len(protein_a_list_new), 'out of', len(protein_a_list),'domains')\n",
    "print('The empty domain in the nSL were:', len(protein_a_list_non)-len(protein_a_list_non_new), 'out of', len(protein_a_list_non),'domains')"
   ]
  },
  {
   "cell_type": "markdown",
   "metadata": {},
   "source": [
    "### Feature engineering: Select from each ordered indexes of domain id list which of them appear once, in both or in any of the domains of each protein pair"
   ]
  },
  {
   "cell_type": "markdown",
   "metadata": {},
   "source": [
    "#### Define function `get_indexes`"
   ]
  },
  {
   "cell_type": "code",
   "execution_count": 7,
   "metadata": {
    "execution": {
     "iopub.execute_input": "2020-08-13T21:12:41.461983Z",
     "iopub.status.busy": "2020-08-13T21:12:41.460881Z",
     "iopub.status.idle": "2020-08-13T21:12:41.463617Z",
     "shell.execute_reply": "2020-08-13T21:12:41.464075Z"
    }
   },
   "outputs": [
    {
     "data": {
      "text/plain": [
       "[1, 2]"
      ]
     },
     "execution_count": 7,
     "metadata": {},
     "output_type": "execute_result"
    }
   ],
   "source": [
    "get_indexes = lambda x, xs: [i for (y, i) in zip(xs, range(len(xs))) if x == y] # a function that give the index of whether a value appear in array or not\n",
    "a=[1,2,2,4,5,6,7,8,9,10]\n",
    "get_indexes(2,a)"
   ]
  },
  {
   "cell_type": "code",
   "execution_count": 8,
   "metadata": {
    "execution": {
     "iopub.execute_input": "2020-08-13T21:12:41.472424Z",
     "iopub.status.busy": "2020-08-13T21:12:41.471116Z",
     "iopub.status.idle": "2020-08-13T21:12:41.473103Z",
     "shell.execute_reply": "2020-08-13T21:12:41.473499Z"
    }
   },
   "outputs": [],
   "source": [
    "def feature_building(protein_a_list_new,protein_b_list_new):\n",
    "    x = np.unique(domain_id_list)\n",
    "    ## To avoid taking repeated domains from one protein of the pairs , lets reduced the domains of each protein from the pairs to their unique members\n",
    "    protein_a_list_unique=[]\n",
    "    protein_b_list_unique=[]\n",
    "    for i in np.arange(0,len(protein_a_list_new)):\n",
    "        protein_a_list_unique.append(np.unique(protein_a_list_new[i]))\n",
    "        protein_b_list_unique.append(np.unique(protein_b_list_new[i]))\n",
    "        \n",
    "    protein_feat_true=np.zeros(shape=(len(x),len(protein_a_list_unique)))\n",
    "    pair_a_b_array=[]\n",
    "    for i in np.arange(0,len(protein_a_list_unique)):\n",
    "        index_a=[]\n",
    "        \n",
    "        pair=[protein_a_list_unique[i],protein_b_list_unique[i]]\n",
    "        pair_a_b=np.concatenate(pair).ravel()\n",
    "        pair_a_b_array.append(pair_a_b)\n",
    "\n",
    "    j=0\n",
    "    for i in pair_a_b_array:  \n",
    "        array,index,counts=np.unique(i,return_index=True,return_counts=True)\n",
    "        \n",
    "        for k,m in zip(counts,array):\n",
    "            if k ==2:\n",
    "                protein_feat_true[get_indexes(m,x),j]=2\n",
    "                \n",
    "            if k==1:\n",
    "                protein_feat_true[get_indexes(m,x),j]=1\n",
    "        j=j+1\n",
    "    return protein_feat_true"
   ]
  },
  {
   "cell_type": "code",
   "execution_count": 9,
   "metadata": {
    "execution": {
     "iopub.execute_input": "2020-08-13T21:12:41.483687Z",
     "iopub.status.busy": "2020-08-13T21:12:41.482038Z",
     "iopub.status.idle": "2020-08-13T21:12:42.086880Z",
     "shell.execute_reply": "2020-08-13T21:12:42.086415Z"
    }
   },
   "outputs": [],
   "source": [
    "protein_feat_true=feature_building(protein_b_list_new=protein_b_list_new,protein_a_list_new=protein_a_list_new)\n",
    "protein_feat_true_pd=pd.DataFrame(protein_feat_true.T)\n",
    "\n",
    "protein_feat_non_true=feature_building(protein_b_list_new=protein_b_list_non_new,protein_a_list_new=protein_a_list_non_new)\n",
    "protein_feat_non_true_pd=pd.DataFrame(protein_feat_non_true.T)"
   ]
  },
  {
   "cell_type": "markdown",
   "metadata": {},
   "source": [
    "### How many ones and twos are in each dataset"
   ]
  },
  {
   "cell_type": "code",
   "execution_count": 10,
   "metadata": {
    "execution": {
     "iopub.execute_input": "2020-08-13T21:12:42.091845Z",
     "iopub.status.busy": "2020-08-13T21:12:42.091316Z",
     "iopub.status.idle": "2020-08-13T21:12:42.174814Z",
     "shell.execute_reply": "2020-08-13T21:12:42.174403Z"
    }
   },
   "outputs": [
    {
     "name": "stdout",
     "output_type": "stream",
     "text": [
      "fraction of twos in the SL array is 2.536813524387102e-05\n",
      "fraction of ones in the SL array is 0.000982222486473631\n",
      "fraction of twos in the PI array is 1.1260581930787638e-05\n",
      "fraction of ones in the PI array is 0.0008855643361283706\n"
     ]
    }
   ],
   "source": [
    "index_2_true=protein_feat_true_pd.where(protein_feat_true_pd==2)\n",
    "index_2_true_count=index_2_true.count(axis=1).sum()\n",
    "\n",
    "index_1_true=protein_feat_true_pd.where(protein_feat_true_pd==1)\n",
    "index_1_true_count=index_1_true.count(axis=1).sum()\n",
    "\n",
    "index_2_nontrue=protein_feat_non_true_pd.where(protein_feat_non_true_pd==2)\n",
    "index_2_nontrue_count=index_2_nontrue.count(axis=1).sum()\n",
    "\n",
    "index_1_nontrue=protein_feat_non_true_pd.where(protein_feat_non_true_pd==1)\n",
    "index_1_nontrue_count=index_1_nontrue.count(axis=1).sum()\n",
    "\n",
    "\n",
    "print('fraction of twos in the SL array is',index_2_true_count/(len(protein_feat_true_pd.index)*len(protein_feat_true_pd.columns)))\n",
    "print('fraction of ones in the SL array is',index_1_true_count/(len(protein_feat_true_pd.index)*len(protein_feat_true_pd.columns)))\n",
    "print('fraction of twos in the PI array is',index_2_nontrue_count/(len(protein_feat_non_true_pd.index)*len(protein_feat_non_true_pd.columns)))\n",
    "print('fraction of ones in the PI array is',index_1_nontrue_count/(len(protein_feat_non_true_pd.index)*len(protein_feat_non_true_pd.columns)))"
   ]
  },
  {
   "cell_type": "markdown",
   "metadata": {},
   "source": [
    "#### Bar plot to visualize these numbers"
   ]
  },
  {
   "cell_type": "code",
   "execution_count": 11,
   "metadata": {
    "execution": {
     "iopub.execute_input": "2020-08-13T21:12:42.201827Z",
     "iopub.status.busy": "2020-08-13T21:12:42.200327Z",
     "iopub.status.idle": "2020-08-13T21:12:42.593187Z",
     "shell.execute_reply": "2020-08-13T21:12:42.592775Z"
    }
   },
   "outputs": [
    {
     "data": {
      "text/plain": [
       "([0, 1, 2, 3],\n",
       " [Text(0, 0, ''), Text(0, 0, ''), Text(0, 0, ''), Text(0, 0, '')])"
      ]
     },
     "execution_count": 11,
     "metadata": {},
     "output_type": "execute_result"
    },
    {
     "data": {
      "image/png": "[encoded data removed]",
      "text/plain": [
       "<Figure size 432x288 with 1 Axes>"
      ]
     },
     "metadata": {
      "filenames": {
       "image/png": "/home/runner/work/jupyter-book/jupyter-book/mini_book/docs/_build/jupyter_execute/prot_domains2lethality-FEATURES-POSTPROCESSING_18_1.png"
      },
      "needs_background": "light"
     },
     "output_type": "display_data"
    }
   ],
   "source": [
    "plt.bar(['fraction of 2 in the nSL','fraction of 1 in the nSL'],[index_2_nontrue_count/(len(protein_feat_non_true_pd.index)*len(protein_feat_non_true_pd.columns)),index_1_nontrue_count/(len(protein_feat_non_true_pd.index)*len(protein_feat_non_true_pd.columns))],alpha=0.6,color=['blue','lightblue']), \n",
    "\n",
    "plt.bar(['fraction of 2 in SL ','fraction of 1 in SL'],[index_2_true_count/(len(protein_feat_true_pd.index)*len(protein_feat_true_pd.columns)),index_1_true_count/(len(protein_feat_true_pd.index)*len(protein_feat_true_pd.columns))],alpha=0.6,color=['coral','lightcoral'])\n",
    "\n",
    "plt.ylabel('Fraction from the population')\n",
    "plt.yscale('log')\n",
    "plt.xticks(rotation=40)"
   ]
  },
  {
   "cell_type": "markdown",
   "metadata": {},
   "source": [
    "#### Adding the labels(response variables) to each dataset"
   ]
  },
  {
   "cell_type": "code",
   "execution_count": 12,
   "metadata": {
    "execution": {
     "iopub.execute_input": "2020-08-13T21:12:42.598075Z",
     "iopub.status.busy": "2020-08-13T21:12:42.597622Z",
     "iopub.status.idle": "2020-08-13T21:12:42.601158Z",
     "shell.execute_reply": "2020-08-13T21:12:42.600760Z"
    }
   },
   "outputs": [],
   "source": [
    "protein_feat_true_pd['lethality']=np.ones(shape=(len(protein_a_list_new)))\n",
    "protein_feat_non_true_pd['lethality']=np.zeros(shape=(len(protein_a_list_non_new)))"
   ]
  },
  {
   "cell_type": "markdown",
   "metadata": {},
   "source": [
    "#### Joining both datasets"
   ]
  },
  {
   "cell_type": "code",
   "execution_count": 13,
   "metadata": {
    "execution": {
     "iopub.execute_input": "2020-08-13T21:12:42.605063Z",
     "iopub.status.busy": "2020-08-13T21:12:42.604606Z",
     "iopub.status.idle": "2020-08-13T21:12:42.636892Z",
     "shell.execute_reply": "2020-08-13T21:12:42.636493Z"
    }
   },
   "outputs": [
    {
     "name": "stdout",
     "output_type": "stream",
     "text": [
      "The number of features are: 3026\n",
      "The number of samples are: 828\n"
     ]
    }
   ],
   "source": [
    "feature_post=pd.concat([protein_feat_true_pd,protein_feat_non_true_pd],axis=0)\n",
    "feature_post=feature_post.set_index(np.arange(0,len(protein_a_list_new)+len(protein_a_list_non_new)))\n",
    "print('The number of features are:',feature_post.shape[1])\n",
    "print('The number of samples are:',feature_post.shape[0])"
   ]
  },
  {
   "cell_type": "markdown",
   "metadata": {},
   "source": [
    "### Postprocessing and exploration of the feature matrix of both datasets"
   ]
  },
  {
   "cell_type": "code",
   "execution_count": 14,
   "metadata": {
    "execution": {
     "iopub.execute_input": "2020-08-13T21:12:42.650632Z",
     "iopub.status.busy": "2020-08-13T21:12:42.640217Z",
     "iopub.status.idle": "2020-08-13T21:12:46.707545Z",
     "shell.execute_reply": "2020-08-13T21:12:46.707139Z"
    }
   },
   "outputs": [],
   "source": [
    "mean=feature_post.T.describe().loc['mean']\n",
    "std=feature_post.T.describe().loc['std']\n",
    "lethality=feature_post['lethality']\n",
    "\n",
    "corr_keys=pd.concat([mean,std,lethality],axis=1)"
   ]
  },
  {
   "cell_type": "markdown",
   "metadata": {},
   "source": [
    "### Viz of the stats"
   ]
  },
  {
   "cell_type": "code",
   "execution_count": 15,
   "metadata": {
    "execution": {
     "iopub.execute_input": "2020-08-13T21:12:46.739527Z",
     "iopub.status.busy": "2020-08-13T21:12:46.726925Z",
     "iopub.status.idle": "2020-08-13T21:12:48.272258Z",
     "shell.execute_reply": "2020-08-13T21:12:48.271817Z"
    }
   },
   "outputs": [
    {
     "data": {
      "text/plain": [
       "Text(0.5, 1.08, 'Pairplot to see data dependencies with Lethality')"
      ]
     },
     "execution_count": 15,
     "metadata": {},
     "output_type": "execute_result"
    },
    {
     "data": {
      "image/png": "[encoded data removed]",
      "text/plain": [
       "<Figure size 412x360 with 6 Axes>"
      ]
     },
     "metadata": {
      "filenames": {
       "image/png": "/home/runner/work/jupyter-book/jupyter-book/mini_book/docs/_build/jupyter_execute/prot_domains2lethality-FEATURES-POSTPROCESSING_26_1.png"
      },
      "needs_background": "light"
     },
     "output_type": "display_data"
    }
   ],
   "source": [
    "pair=sns.pairplot(corr_keys,hue='lethality',diag_kind='kde',kind='reg',palette='colorblind')\n",
    "pair.fig.suptitle('Pairplot to see data dependencies with Lethality',y=1.08)"
   ]
  },
  {
   "cell_type": "code",
   "execution_count": 16,
   "metadata": {
    "execution": {
     "iopub.execute_input": "2020-08-13T21:12:48.280909Z",
     "iopub.status.busy": "2020-08-13T21:12:48.275810Z",
     "iopub.status.idle": "2020-08-13T21:12:48.283615Z",
     "shell.execute_reply": "2020-08-13T21:12:48.283994Z"
    }
   },
   "outputs": [],
   "source": [
    "X, y = feature_post.drop(columns=[\"lethality\"]), feature_post[\"lethality\"]"
   ]
  },
  {
   "cell_type": "code",
   "execution_count": 17,
   "metadata": {
    "execution": {
     "iopub.execute_input": "2020-08-13T21:12:48.287876Z",
     "iopub.status.busy": "2020-08-13T21:12:48.287087Z",
     "iopub.status.idle": "2020-08-13T21:12:48.462325Z",
     "shell.execute_reply": "2020-08-13T21:12:48.461532Z"
    }
   },
   "outputs": [],
   "source": [
    "from sklearn.preprocessing import StandardScaler\n",
    "scaler = StandardScaler()\n",
    "x_sl=protein_feat_true_pd.drop(columns=['lethality'])\n",
    "x_nsl=protein_feat_non_true_pd.drop(columns=['lethality'])\n",
    "\n",
    "X_sl_scaled = scaler.fit_transform(x_sl)\n",
    "X_nsl_scaled = scaler.fit_transform(x_nsl)"
   ]
  },
  {
   "cell_type": "code",
   "execution_count": 18,
   "metadata": {
    "execution": {
     "iopub.execute_input": "2020-08-13T21:12:48.465722Z",
     "iopub.status.busy": "2020-08-13T21:12:48.465265Z",
     "iopub.status.idle": "2020-08-13T21:12:48.469791Z",
     "shell.execute_reply": "2020-08-13T21:12:48.469396Z"
    }
   },
   "outputs": [
    {
     "data": {
      "text/plain": [
       "(417, 3025)"
      ]
     },
     "execution_count": 18,
     "metadata": {},
     "output_type": "execute_result"
    }
   ],
   "source": [
    "np.shape(X_sl_scaled)"
   ]
  },
  {
   "cell_type": "markdown",
   "metadata": {},
   "source": [
    "## How redundant are each of the protein domains?"
   ]
  },
  {
   "cell_type": "code",
   "execution_count": 19,
   "metadata": {
    "execution": {
     "iopub.execute_input": "2020-08-13T21:12:48.475169Z",
     "iopub.status.busy": "2020-08-13T21:12:48.474364Z",
     "iopub.status.idle": "2020-08-13T21:12:48.476447Z",
     "shell.execute_reply": "2020-08-13T21:12:48.475978Z"
    }
   },
   "outputs": [],
   "source": [
    "def PCA_component_contribution(scaled_matrix,original_data):\n",
    "    from sklearn.decomposition import PCA\n",
    "\n",
    "    model = PCA(0.95).fit(scaled_matrix)\n",
    "    ## apply dimensionality reduction to X_train\n",
    "    output_pca = model.transform(scaled_matrix)\n",
    "    \n",
    "    total=sum(model.explained_variance_)\n",
    "\n",
    "\n",
    "   \n",
    "    # number of components , that it will be the number of main axes times the number of original components \n",
    "    n_pcs= model.components_.shape[0] # the amount of non redundant protein domains \n",
    "\n",
    "    # get the index of the most important feature on EACH component\n",
    "    # LIST COMPREHENSION HERE\n",
    "    most_important = [np.abs(model.components_[i]).argmax() for i in range(n_pcs)]\n",
    "\n",
    "    initial_feature_names = original_data.columns\n",
    "    # get the names\n",
    "    most_important_names = [initial_feature_names[most_important[i]] for i in range(n_pcs)]\n",
    "    \n",
    "\n",
    "    # LIST COMPREHENSION HERE AGAIN\n",
    "    dic = {'PC{}'.format(i): most_important_names[i] for i in range(n_pcs)}\n",
    "\n",
    "    # build the dataframe\n",
    "    df = pd.DataFrame(dic.items(),columns=['pca-component','domain-number'])\n",
    "\n",
    "    return df,model.components_"
   ]
  },
  {
   "cell_type": "code",
   "execution_count": 20,
   "metadata": {
    "execution": {
     "iopub.execute_input": "2020-08-13T21:12:48.479514Z",
     "iopub.status.busy": "2020-08-13T21:12:48.479065Z",
     "iopub.status.idle": "2020-08-13T21:12:49.122142Z",
     "shell.execute_reply": "2020-08-13T21:12:49.122791Z"
    }
   },
   "outputs": [],
   "source": [
    "df_sl,components_pca_nsl=PCA_component_contribution(X_nsl_scaled,x_nsl)\n",
    "df_nsl,components_pca_sl=PCA_component_contribution(X_sl_scaled,x_sl)"
   ]
  },
  {
   "cell_type": "code",
   "execution_count": 21,
   "metadata": {
    "execution": {
     "iopub.execute_input": "2020-08-13T21:12:49.125933Z",
     "iopub.status.busy": "2020-08-13T21:12:49.125037Z",
     "iopub.status.idle": "2020-08-13T21:12:49.134144Z",
     "shell.execute_reply": "2020-08-13T21:12:49.134814Z"
    }
   },
   "outputs": [
    {
     "data": {
      "text/html": [
       "<div>\n",
       "<style scoped>\n",
       "    .dataframe tbody tr th:only-of-type {\n",
       "        vertical-align: middle;\n",
       "    }\n",
       "\n",
       "    .dataframe tbody tr th {\n",
       "        vertical-align: top;\n",
       "    }\n",
       "\n",
       "    .dataframe thead th {\n",
       "        text-align: right;\n",
       "    }\n",
       "</style>\n",
       "<table border=\"1\" class=\"dataframe\">\n",
       "  <thead>\n",
       "    <tr style=\"text-align: right;\">\n",
       "      <th></th>\n",
       "      <th>pca-component</th>\n",
       "      <th>domain-number</th>\n",
       "    </tr>\n",
       "  </thead>\n",
       "  <tbody>\n",
       "    <tr>\n",
       "      <th>0</th>\n",
       "      <td>PC0</td>\n",
       "      <td>305</td>\n",
       "    </tr>\n",
       "    <tr>\n",
       "      <th>1</th>\n",
       "      <td>PC1</td>\n",
       "      <td>135</td>\n",
       "    </tr>\n",
       "    <tr>\n",
       "      <th>2</th>\n",
       "      <td>PC2</td>\n",
       "      <td>229</td>\n",
       "    </tr>\n",
       "    <tr>\n",
       "      <th>3</th>\n",
       "      <td>PC3</td>\n",
       "      <td>242</td>\n",
       "    </tr>\n",
       "    <tr>\n",
       "      <th>4</th>\n",
       "      <td>PC4</td>\n",
       "      <td>1671</td>\n",
       "    </tr>\n",
       "  </tbody>\n",
       "</table>\n",
       "</div>"
      ],
      "text/plain": [
       "  pca-component  domain-number\n",
       "0           PC0            305\n",
       "1           PC1            135\n",
       "2           PC2            229\n",
       "3           PC3            242\n",
       "4           PC4           1671"
      ]
     },
     "execution_count": 21,
     "metadata": {},
     "output_type": "execute_result"
    }
   ],
   "source": [
    "df_sl.head()"
   ]
  },
  {
   "cell_type": "markdown",
   "metadata": {},
   "source": [
    "## which are the shared domains between nSL and SL pairs , in the PCA reduced samples"
   ]
  },
  {
   "cell_type": "code",
   "execution_count": 22,
   "metadata": {
    "execution": {
     "iopub.execute_input": "2020-08-13T21:12:49.137463Z",
     "iopub.status.busy": "2020-08-13T21:12:49.136556Z",
     "iopub.status.idle": "2020-08-13T21:12:49.160719Z",
     "shell.execute_reply": "2020-08-13T21:12:49.161371Z"
    }
   },
   "outputs": [
    {
     "data": {
      "text/html": [
       "<div>\n",
       "<style scoped>\n",
       "    .dataframe tbody tr th:only-of-type {\n",
       "        vertical-align: middle;\n",
       "    }\n",
       "\n",
       "    .dataframe tbody tr th {\n",
       "        vertical-align: top;\n",
       "    }\n",
       "\n",
       "    .dataframe thead th {\n",
       "        text-align: right;\n",
       "    }\n",
       "</style>\n",
       "<table border=\"1\" class=\"dataframe\">\n",
       "  <thead>\n",
       "    <tr style=\"text-align: right;\">\n",
       "      <th></th>\n",
       "      <th>pca-component_x</th>\n",
       "      <th>domain-number</th>\n",
       "      <th>pca-component_y</th>\n",
       "      <th>domain-description</th>\n",
       "    </tr>\n",
       "  </thead>\n",
       "  <tbody>\n",
       "    <tr>\n",
       "      <th>0</th>\n",
       "      <td>PC0</td>\n",
       "      <td>305</td>\n",
       "      <td>PC0</td>\n",
       "      <td>Brr6_like_C_C; Brl1/Brr6 domain</td>\n",
       "    </tr>\n",
       "    <tr>\n",
       "      <th>1</th>\n",
       "      <td>PC9</td>\n",
       "      <td>463</td>\n",
       "      <td>PC18</td>\n",
       "      <td>Chitin_synth_1N; Chitin synthase N-terminal</td>\n",
       "    </tr>\n",
       "    <tr>\n",
       "      <th>2</th>\n",
       "      <td>PC10</td>\n",
       "      <td>1836</td>\n",
       "      <td>PC32</td>\n",
       "      <td>PTPLA; Protein-tyrosine phosphatase-like, PTPLA</td>\n",
       "    </tr>\n",
       "    <tr>\n",
       "      <th>3</th>\n",
       "      <td>PC11</td>\n",
       "      <td>188</td>\n",
       "      <td>PC268</td>\n",
       "      <td>Aldose_epim; Aldose 1-/Glucose-6-phosphate 1-e...</td>\n",
       "    </tr>\n",
       "    <tr>\n",
       "      <th>4</th>\n",
       "      <td>PC12</td>\n",
       "      <td>59</td>\n",
       "      <td>PC45</td>\n",
       "      <td>AFG1_ATPase; ATPase, AFG1-like</td>\n",
       "    </tr>\n",
       "    <tr>\n",
       "      <th>...</th>\n",
       "      <td>...</td>\n",
       "      <td>...</td>\n",
       "      <td>...</td>\n",
       "      <td>...</td>\n",
       "    </tr>\n",
       "    <tr>\n",
       "      <th>62</th>\n",
       "      <td>PC254</td>\n",
       "      <td>1046</td>\n",
       "      <td>PC170</td>\n",
       "      <td>Glyco_hydro_18; Glycoside hydrolase family 18,...</td>\n",
       "    </tr>\n",
       "    <tr>\n",
       "      <th>63</th>\n",
       "      <td>PC269</td>\n",
       "      <td>1097</td>\n",
       "      <td>PC171</td>\n",
       "      <td>HATPase_c_3</td>\n",
       "    </tr>\n",
       "    <tr>\n",
       "      <th>64</th>\n",
       "      <td>PC270</td>\n",
       "      <td>1966</td>\n",
       "      <td>PC274</td>\n",
       "      <td>R3H; R3H domain</td>\n",
       "    </tr>\n",
       "    <tr>\n",
       "      <th>65</th>\n",
       "      <td>PC281</td>\n",
       "      <td>1048</td>\n",
       "      <td>PC266</td>\n",
       "      <td>Glyco_hydro_31; Glycoside hydrolase family 31</td>\n",
       "    </tr>\n",
       "    <tr>\n",
       "      <th>66</th>\n",
       "      <td>PC282</td>\n",
       "      <td>1352</td>\n",
       "      <td>PC265</td>\n",
       "      <td>MATalpha_HMGbox; Mating-type protein MAT alpha...</td>\n",
       "    </tr>\n",
       "  </tbody>\n",
       "</table>\n",
       "<p>67 rows × 4 columns</p>\n",
       "</div>"
      ],
      "text/plain": [
       "   pca-component_x  domain-number pca-component_y  \\\n",
       "0              PC0            305             PC0   \n",
       "1              PC9            463            PC18   \n",
       "2             PC10           1836            PC32   \n",
       "3             PC11            188           PC268   \n",
       "4             PC12             59            PC45   \n",
       "..             ...            ...             ...   \n",
       "62           PC254           1046           PC170   \n",
       "63           PC269           1097           PC171   \n",
       "64           PC270           1966           PC274   \n",
       "65           PC281           1048           PC266   \n",
       "66           PC282           1352           PC265   \n",
       "\n",
       "                                   domain-description  \n",
       "0                     Brr6_like_C_C; Brl1/Brr6 domain  \n",
       "1         Chitin_synth_1N; Chitin synthase N-terminal  \n",
       "2     PTPLA; Protein-tyrosine phosphatase-like, PTPLA  \n",
       "3   Aldose_epim; Aldose 1-/Glucose-6-phosphate 1-e...  \n",
       "4                      AFG1_ATPase; ATPase, AFG1-like  \n",
       "..                                                ...  \n",
       "62  Glyco_hydro_18; Glycoside hydrolase family 18,...  \n",
       "63                                        HATPase_c_3  \n",
       "64                                    R3H; R3H domain  \n",
       "65      Glyco_hydro_31; Glycoside hydrolase family 31  \n",
       "66  MATalpha_HMGbox; Mating-type protein MAT alpha...  \n",
       "\n",
       "[67 rows x 4 columns]"
      ]
     },
     "execution_count": 22,
     "metadata": {},
     "output_type": "execute_result"
    }
   ],
   "source": [
    "df_shared_domains=pd.merge(df_sl,df_nsl,how='inner',on='domain-number')\n",
    "domains_name=np.unique(data_domains['domain-name'])\n",
    "domains_description=np.unique(data_domains['domain-descrip'])\n",
    "\n",
    "df_shared_domains['domain-description']=domains_description[df_shared_domains['domain-number']]\n",
    "\n",
    "\n",
    "df_shared_domains"
   ]
  },
  {
   "cell_type": "code",
   "execution_count": 23,
   "metadata": {
    "execution": {
     "iopub.execute_input": "2020-08-13T21:12:49.164250Z",
     "iopub.status.busy": "2020-08-13T21:12:49.163140Z",
     "iopub.status.idle": "2020-08-13T21:12:49.169539Z",
     "shell.execute_reply": "2020-08-13T21:12:49.170165Z"
    }
   },
   "outputs": [
    {
     "name": "stdout",
     "output_type": "stream",
     "text": [
      "The number of shared domains between SL and nSL pairs,after PCA, is =  67 out of 563 so the 11.900532859680284 %\n"
     ]
    }
   ],
   "source": [
    "print('The number of shared domains between SL and nSL pairs,after PCA, is = ',len(df_shared_domains), 'out of', len(df_sl)+len(df_nsl), 'so the',100*len(df_shared_domains)/(len(df_sl)+len(df_nsl)),'%')"
   ]
  },
  {
   "cell_type": "markdown",
   "metadata": {},
   "source": [
    "## Domains exclusive to SL"
   ]
  },
  {
   "cell_type": "code",
   "execution_count": 24,
   "metadata": {
    "execution": {
     "iopub.execute_input": "2020-08-13T21:12:49.172916Z",
     "iopub.status.busy": "2020-08-13T21:12:49.171938Z",
     "iopub.status.idle": "2020-08-13T21:12:49.196217Z",
     "shell.execute_reply": "2020-08-13T21:12:49.196888Z"
    }
   },
   "outputs": [
    {
     "data": {
      "text/html": [
       "<div>\n",
       "<style scoped>\n",
       "    .dataframe tbody tr th:only-of-type {\n",
       "        vertical-align: middle;\n",
       "    }\n",
       "\n",
       "    .dataframe tbody tr th {\n",
       "        vertical-align: top;\n",
       "    }\n",
       "\n",
       "    .dataframe thead th {\n",
       "        text-align: right;\n",
       "    }\n",
       "</style>\n",
       "<table border=\"1\" class=\"dataframe\">\n",
       "  <thead>\n",
       "    <tr style=\"text-align: right;\">\n",
       "      <th></th>\n",
       "      <th>pca-component_x</th>\n",
       "      <th>domain-number</th>\n",
       "      <th>pca-component_y</th>\n",
       "      <th>domain-description</th>\n",
       "    </tr>\n",
       "  </thead>\n",
       "  <tbody>\n",
       "    <tr>\n",
       "      <th>1</th>\n",
       "      <td>PC1</td>\n",
       "      <td>135</td>\n",
       "      <td>NaN</td>\n",
       "      <td>ATP-synt_ab_Xtn; ATPsynthase alpha/beta subuni...</td>\n",
       "    </tr>\n",
       "    <tr>\n",
       "      <th>2</th>\n",
       "      <td>PC2</td>\n",
       "      <td>229</td>\n",
       "      <td>NaN</td>\n",
       "      <td>Arginase; Ureohydrolase</td>\n",
       "    </tr>\n",
       "    <tr>\n",
       "      <th>3</th>\n",
       "      <td>PC3</td>\n",
       "      <td>242</td>\n",
       "      <td>NaN</td>\n",
       "      <td>Atg31; Autophagy-related protein 31</td>\n",
       "    </tr>\n",
       "    <tr>\n",
       "      <th>4</th>\n",
       "      <td>PC4</td>\n",
       "      <td>1671</td>\n",
       "      <td>NaN</td>\n",
       "      <td>Ofd1_CTDD; Oxoglutarate/iron-dependent oxygena...</td>\n",
       "    </tr>\n",
       "    <tr>\n",
       "      <th>5</th>\n",
       "      <td>PC5</td>\n",
       "      <td>1055</td>\n",
       "      <td>NaN</td>\n",
       "      <td>Glyco_hydro_63N; Glycosyl hydrolase family 63,...</td>\n",
       "    </tr>\n",
       "    <tr>\n",
       "      <th>...</th>\n",
       "      <td>...</td>\n",
       "      <td>...</td>\n",
       "      <td>...</td>\n",
       "      <td>...</td>\n",
       "    </tr>\n",
       "    <tr>\n",
       "      <th>284</th>\n",
       "      <td>PC276</td>\n",
       "      <td>684</td>\n",
       "      <td>NaN</td>\n",
       "      <td>DUF2611; Protein of unknown function DUF2611</td>\n",
       "    </tr>\n",
       "    <tr>\n",
       "      <th>285</th>\n",
       "      <td>PC277</td>\n",
       "      <td>2098</td>\n",
       "      <td>NaN</td>\n",
       "      <td>Rad9_Rad53_bind; Rad9-like Rad53-binding domai...</td>\n",
       "    </tr>\n",
       "    <tr>\n",
       "      <th>286</th>\n",
       "      <td>PC278</td>\n",
       "      <td>613</td>\n",
       "      <td>NaN</td>\n",
       "      <td>DNA_pol_B; DNA-directed DNA polymerase, family...</td>\n",
       "    </tr>\n",
       "    <tr>\n",
       "      <th>287</th>\n",
       "      <td>PC279</td>\n",
       "      <td>2098</td>\n",
       "      <td>NaN</td>\n",
       "      <td>Rad9_Rad53_bind; Rad9-like Rad53-binding domai...</td>\n",
       "    </tr>\n",
       "    <tr>\n",
       "      <th>288</th>\n",
       "      <td>PC280</td>\n",
       "      <td>314</td>\n",
       "      <td>NaN</td>\n",
       "      <td>CAF1A; Chromatin assembly factor 1 subunit A</td>\n",
       "    </tr>\n",
       "  </tbody>\n",
       "</table>\n",
       "<p>224 rows × 4 columns</p>\n",
       "</div>"
      ],
      "text/plain": [
       "    pca-component_x  domain-number pca-component_y  \\\n",
       "1               PC1            135             NaN   \n",
       "2               PC2            229             NaN   \n",
       "3               PC3            242             NaN   \n",
       "4               PC4           1671             NaN   \n",
       "5               PC5           1055             NaN   \n",
       "..              ...            ...             ...   \n",
       "284           PC276            684             NaN   \n",
       "285           PC277           2098             NaN   \n",
       "286           PC278            613             NaN   \n",
       "287           PC279           2098             NaN   \n",
       "288           PC280            314             NaN   \n",
       "\n",
       "                                    domain-description  \n",
       "1    ATP-synt_ab_Xtn; ATPsynthase alpha/beta subuni...  \n",
       "2                              Arginase; Ureohydrolase  \n",
       "3                  Atg31; Autophagy-related protein 31  \n",
       "4    Ofd1_CTDD; Oxoglutarate/iron-dependent oxygena...  \n",
       "5    Glyco_hydro_63N; Glycosyl hydrolase family 63,...  \n",
       "..                                                 ...  \n",
       "284       DUF2611; Protein of unknown function DUF2611  \n",
       "285  Rad9_Rad53_bind; Rad9-like Rad53-binding domai...  \n",
       "286  DNA_pol_B; DNA-directed DNA polymerase, family...  \n",
       "287  Rad9_Rad53_bind; Rad9-like Rad53-binding domai...  \n",
       "288       CAF1A; Chromatin assembly factor 1 subunit A  \n",
       "\n",
       "[224 rows x 4 columns]"
      ]
     },
     "execution_count": 24,
     "metadata": {},
     "output_type": "execute_result"
    }
   ],
   "source": [
    "df_sl_exclusive=pd.merge(df_sl,df_nsl,how='left',on='domain-number')\n",
    "\n",
    "domains_name=np.unique(data_domains['domain-name'])\n",
    "domains_description=np.unique(data_domains['domain-descrip'])\n",
    "\n",
    "df_sl_exclusive['domain-description']=domains_description[df_sl_exclusive['domain-number']]\n",
    "df_sl_exclusive[pd.isnull(df_sl_exclusive['pca-component_y'])]"
   ]
  },
  {
   "cell_type": "code",
   "execution_count": 25,
   "metadata": {
    "execution": {
     "iopub.execute_input": "2020-08-13T21:12:49.199566Z",
     "iopub.status.busy": "2020-08-13T21:12:49.198641Z",
     "iopub.status.idle": "2020-08-13T21:12:49.204894Z",
     "shell.execute_reply": "2020-08-13T21:12:49.205503Z"
    }
   },
   "outputs": [
    {
     "name": "stdout",
     "output_type": "stream",
     "text": [
      "The number of exclusive domains from SL pairs, after PCA, is =  291 out of 563 so the 51.68738898756661 %\n"
     ]
    }
   ],
   "source": [
    "print('The number of exclusive domains from SL pairs, after PCA, is = ',len(df_sl_exclusive), 'out of', len(df_sl)+len(df_nsl), 'so the',100*len(df_sl_exclusive)/(len(df_sl)+len(df_nsl)),'%')"
   ]
  },
  {
   "cell_type": "code",
   "execution_count": 26,
   "metadata": {
    "execution": {
     "iopub.execute_input": "2020-08-13T21:12:49.208079Z",
     "iopub.status.busy": "2020-08-13T21:12:49.207185Z",
     "iopub.status.idle": "2020-08-13T21:12:49.231552Z",
     "shell.execute_reply": "2020-08-13T21:12:49.231943Z"
    }
   },
   "outputs": [
    {
     "data": {
      "text/html": [
       "<div>\n",
       "<style scoped>\n",
       "    .dataframe tbody tr th:only-of-type {\n",
       "        vertical-align: middle;\n",
       "    }\n",
       "\n",
       "    .dataframe tbody tr th {\n",
       "        vertical-align: top;\n",
       "    }\n",
       "\n",
       "    .dataframe thead th {\n",
       "        text-align: right;\n",
       "    }\n",
       "</style>\n",
       "<table border=\"1\" class=\"dataframe\">\n",
       "  <thead>\n",
       "    <tr style=\"text-align: right;\">\n",
       "      <th></th>\n",
       "      <th>pca-component_x</th>\n",
       "      <th>domain-number</th>\n",
       "      <th>pca-component_y</th>\n",
       "      <th>domain-description</th>\n",
       "    </tr>\n",
       "  </thead>\n",
       "  <tbody>\n",
       "    <tr>\n",
       "      <th>1</th>\n",
       "      <td>NaN</td>\n",
       "      <td>599</td>\n",
       "      <td>PC1</td>\n",
       "      <td>DLIC; Dynein family light intermediate chain</td>\n",
       "    </tr>\n",
       "    <tr>\n",
       "      <th>2</th>\n",
       "      <td>NaN</td>\n",
       "      <td>989</td>\n",
       "      <td>PC2</td>\n",
       "      <td>GLE1; GLE1-like</td>\n",
       "    </tr>\n",
       "    <tr>\n",
       "      <th>3</th>\n",
       "      <td>NaN</td>\n",
       "      <td>2113</td>\n",
       "      <td>PC3</td>\n",
       "      <td>Rav1p_C; RAVE complex protein Rav1 C-terminal</td>\n",
       "    </tr>\n",
       "    <tr>\n",
       "      <th>4</th>\n",
       "      <td>NaN</td>\n",
       "      <td>308</td>\n",
       "      <td>PC4</td>\n",
       "      <td>Bul1_N; Bul1, N-terminal</td>\n",
       "    </tr>\n",
       "    <tr>\n",
       "      <th>5</th>\n",
       "      <td>NaN</td>\n",
       "      <td>76</td>\n",
       "      <td>PC5</td>\n",
       "      <td>ALS_ss_C; Acetolactate synthase, small subunit...</td>\n",
       "    </tr>\n",
       "    <tr>\n",
       "      <th>...</th>\n",
       "      <td>...</td>\n",
       "      <td>...</td>\n",
       "      <td>...</td>\n",
       "      <td>...</td>\n",
       "    </tr>\n",
       "    <tr>\n",
       "      <th>282</th>\n",
       "      <td>NaN</td>\n",
       "      <td>2204</td>\n",
       "      <td>PC272</td>\n",
       "      <td>Ribosomal_L41; Ribosomal protein L41</td>\n",
       "    </tr>\n",
       "    <tr>\n",
       "      <th>283</th>\n",
       "      <td>NaN</td>\n",
       "      <td>2007</td>\n",
       "      <td>PC273</td>\n",
       "      <td>RNA_pol_L_2; DNA-directed RNA polymerase, RBP1...</td>\n",
       "    </tr>\n",
       "    <tr>\n",
       "      <th>285</th>\n",
       "      <td>NaN</td>\n",
       "      <td>1367</td>\n",
       "      <td>PC275</td>\n",
       "      <td>MGS; Methylglyoxal synthase-like domain</td>\n",
       "    </tr>\n",
       "    <tr>\n",
       "      <th>286</th>\n",
       "      <td>NaN</td>\n",
       "      <td>1086</td>\n",
       "      <td>PC276</td>\n",
       "      <td>Gti1_Pac2; Gti1/Pac2 family</td>\n",
       "    </tr>\n",
       "    <tr>\n",
       "      <th>289</th>\n",
       "      <td>NaN</td>\n",
       "      <td>2712</td>\n",
       "      <td>PC278</td>\n",
       "      <td>Tubulin; Tubulin/FtsZ, GTPase domain</td>\n",
       "    </tr>\n",
       "  </tbody>\n",
       "</table>\n",
       "<p>224 rows × 4 columns</p>\n",
       "</div>"
      ],
      "text/plain": [
       "    pca-component_x  domain-number pca-component_y  \\\n",
       "1               NaN            599             PC1   \n",
       "2               NaN            989             PC2   \n",
       "3               NaN           2113             PC3   \n",
       "4               NaN            308             PC4   \n",
       "5               NaN             76             PC5   \n",
       "..              ...            ...             ...   \n",
       "282             NaN           2204           PC272   \n",
       "283             NaN           2007           PC273   \n",
       "285             NaN           1367           PC275   \n",
       "286             NaN           1086           PC276   \n",
       "289             NaN           2712           PC278   \n",
       "\n",
       "                                    domain-description  \n",
       "1         DLIC; Dynein family light intermediate chain  \n",
       "2                                      GLE1; GLE1-like  \n",
       "3        Rav1p_C; RAVE complex protein Rav1 C-terminal  \n",
       "4                             Bul1_N; Bul1, N-terminal  \n",
       "5    ALS_ss_C; Acetolactate synthase, small subunit...  \n",
       "..                                                 ...  \n",
       "282               Ribosomal_L41; Ribosomal protein L41  \n",
       "283  RNA_pol_L_2; DNA-directed RNA polymerase, RBP1...  \n",
       "285            MGS; Methylglyoxal synthase-like domain  \n",
       "286                        Gti1_Pac2; Gti1/Pac2 family  \n",
       "289               Tubulin; Tubulin/FtsZ, GTPase domain  \n",
       "\n",
       "[224 rows x 4 columns]"
      ]
     },
     "execution_count": 26,
     "metadata": {},
     "output_type": "execute_result"
    }
   ],
   "source": [
    "df_nsl_exclusive=pd.merge(df_sl,df_nsl,how='right',on='domain-number')\n",
    "\n",
    "domains_name=np.unique(data_domains['domain-name'])\n",
    "domains_description=np.unique(data_domains['domain-descrip'])\n",
    "\n",
    "df_nsl_exclusive['domain-description']=domains_description[df_nsl_exclusive['domain-number']]\n",
    "df_nsl_exclusive[pd.isnull(df_nsl_exclusive['pca-component_x'])]"
   ]
  },
  {
   "cell_type": "code",
   "execution_count": 27,
   "metadata": {
    "execution": {
     "iopub.execute_input": "2020-08-13T21:12:49.235892Z",
     "iopub.status.busy": "2020-08-13T21:12:49.235429Z",
     "iopub.status.idle": "2020-08-13T21:12:49.239379Z",
     "shell.execute_reply": "2020-08-13T21:12:49.239761Z"
    }
   },
   "outputs": [
    {
     "name": "stdout",
     "output_type": "stream",
     "text": [
      "The number of exclusive domains from non SL pairs, after PCA, is =  291 out of 563 so the 51.68738898756661 %\n"
     ]
    }
   ],
   "source": [
    "print('The number of exclusive domains from non SL pairs, after PCA, is = ',len(df_nsl_exclusive), 'out of', len(df_sl)+len(df_nsl), 'so the',100*len(df_nsl_exclusive)/(len(df_sl)+len(df_nsl)),'%')"
   ]
  },
  {
   "cell_type": "markdown",
   "metadata": {},
   "source": [
    "## Let see to the domains-number that get repeated after the PCA analysis , and selecting the most explanatory feature by its explained variance."
   ]
  },
  {
   "cell_type": "code",
   "execution_count": 28,
   "metadata": {
    "execution": {
     "iopub.execute_input": "2020-08-13T21:12:49.253528Z",
     "iopub.status.busy": "2020-08-13T21:12:49.251198Z",
     "iopub.status.idle": "2020-08-13T21:12:49.257851Z",
     "shell.execute_reply": "2020-08-13T21:12:49.258621Z"
    }
   },
   "outputs": [],
   "source": [
    "duplicated_features_sl=df_sl[df_sl.iloc[:,1].duplicated()]\n",
    "repeated_features_sl=pd.DataFrame()\n",
    "\n",
    "domains_name=np.unique(data_domains['domain-name'])\n",
    "domains_description=np.unique(data_domains['domain-descrip'])\n",
    "\n",
    "repeated_features_sl['domain-name']=domains_name[duplicated_features_sl.iloc[:,1]] \n",
    "repeated_features_sl['domain-description']=domains_description[duplicated_features_sl.iloc[:,1]]\n",
    "\n",
    "duplicated_features_nsl=df_nsl[df_nsl.iloc[:,1].duplicated()]\n",
    "repeated_features_nsl=pd.DataFrame()\n",
    "\n",
    "repeated_features_nsl['domain-name']=domains_name[duplicated_features_nsl.iloc[:,1]] \n",
    "repeated_features_nsl['domain-description']=domains_description[duplicated_features_nsl.iloc[:,1]]"
   ]
  },
  {
   "cell_type": "code",
   "execution_count": 29,
   "metadata": {
    "execution": {
     "iopub.execute_input": "2020-08-13T21:12:49.265953Z",
     "iopub.status.busy": "2020-08-13T21:12:49.265230Z",
     "iopub.status.idle": "2020-08-13T21:12:49.271842Z",
     "shell.execute_reply": "2020-08-13T21:12:49.271434Z"
    }
   },
   "outputs": [
    {
     "name": "stderr",
     "output_type": "stream",
     "text": [
      "/usr/share/miniconda3/envs/wintest/lib/python3.7/site-packages/ipykernel_launcher.py:3: SettingWithCopyWarning: \n",
      "A value is trying to be set on a copy of a slice from a DataFrame.\n",
      "Try using .loc[row_indexer,col_indexer] = value instead\n",
      "\n",
      "See the caveats in the documentation: https://pandas.pydata.org/pandas-docs/stable/user_guide/indexing.html#returning-a-view-versus-a-copy\n",
      "  This is separate from the ipykernel package so we can avoid doing imports until\n"
     ]
    },
    {
     "data": {
      "text/plain": [
       "((43, 4), (291, 4))"
      ]
     },
     "execution_count": 29,
     "metadata": {},
     "output_type": "execute_result"
    }
   ],
   "source": [
    "only_sl_pd=pd.merge(repeated_features_sl,repeated_features_nsl,how='left',on=['domain-name'])\n",
    "data_only_sl = only_sl_pd[pd.isnull(only_sl_pd['domain-description_y'])]\n",
    "data_only_sl['domain-description']=data_only_sl['domain-description_x']\n",
    "data_only_sl.shape,df_sl_exclusive.shape"
   ]
  },
  {
   "cell_type": "code",
   "execution_count": 30,
   "metadata": {
    "execution": {
     "iopub.execute_input": "2020-08-13T21:12:49.286161Z",
     "iopub.status.busy": "2020-08-13T21:12:49.285704Z",
     "iopub.status.idle": "2020-08-13T21:12:49.290647Z",
     "shell.execute_reply": "2020-08-13T21:12:49.291003Z"
    }
   },
   "outputs": [
    {
     "data": {
      "text/html": [
       "<div>\n",
       "<style scoped>\n",
       "    .dataframe tbody tr th:only-of-type {\n",
       "        vertical-align: middle;\n",
       "    }\n",
       "\n",
       "    .dataframe tbody tr th {\n",
       "        vertical-align: top;\n",
       "    }\n",
       "\n",
       "    .dataframe thead th {\n",
       "        text-align: right;\n",
       "    }\n",
       "</style>\n",
       "<table border=\"1\" class=\"dataframe\">\n",
       "  <thead>\n",
       "    <tr style=\"text-align: right;\">\n",
       "      <th></th>\n",
       "      <th>domain-name</th>\n",
       "      <th>domain-description_x</th>\n",
       "      <th>domain-description_y</th>\n",
       "    </tr>\n",
       "  </thead>\n",
       "  <tbody>\n",
       "    <tr>\n",
       "      <th>0</th>\n",
       "      <td>PF00205</td>\n",
       "      <td>NaN</td>\n",
       "      <td>APS_kinase</td>\n",
       "    </tr>\n",
       "    <tr>\n",
       "      <th>1</th>\n",
       "      <td>PF02854</td>\n",
       "      <td>NaN</td>\n",
       "      <td>GHMP_kinases_N; GHMP kinase N-terminal domain</td>\n",
       "    </tr>\n",
       "    <tr>\n",
       "      <th>2</th>\n",
       "      <td>PF00856</td>\n",
       "      <td>NaN</td>\n",
       "      <td>CRAL_TRIO; CRAL-TRIO lipid binding domain</td>\n",
       "    </tr>\n",
       "    <tr>\n",
       "      <th>3</th>\n",
       "      <td>PF00549</td>\n",
       "      <td>NaN</td>\n",
       "      <td>BCDHK_Adom3; Branched-chain alpha-ketoacid deh...</td>\n",
       "    </tr>\n",
       "    <tr>\n",
       "      <th>4</th>\n",
       "      <td>PF02883</td>\n",
       "      <td>NaN</td>\n",
       "      <td>GPI2; Phosphatidylinositol N-acetylglucosaminy...</td>\n",
       "    </tr>\n",
       "    <tr>\n",
       "      <th>5</th>\n",
       "      <td>PF00249</td>\n",
       "      <td>NaN</td>\n",
       "      <td>ATP-synt_10; ATPase assembly factor ATP10</td>\n",
       "    </tr>\n",
       "    <tr>\n",
       "      <th>6</th>\n",
       "      <td>PF00650</td>\n",
       "      <td>NaN</td>\n",
       "      <td>CBFB_NFYA; Nuclear transcription factor Y subu...</td>\n",
       "    </tr>\n",
       "    <tr>\n",
       "      <th>7</th>\n",
       "      <td>PF00578</td>\n",
       "      <td>NaN</td>\n",
       "      <td>BRAP2; BRCA1-associated 2</td>\n",
       "    </tr>\n",
       "    <tr>\n",
       "      <th>8</th>\n",
       "      <td>PF01846</td>\n",
       "      <td>NaN</td>\n",
       "      <td>DnaJ; DnaJ domain</td>\n",
       "    </tr>\n",
       "    <tr>\n",
       "      <th>9</th>\n",
       "      <td>PF03943</td>\n",
       "      <td>NaN</td>\n",
       "      <td>IGPS; Indole-3-glycerol phosphate synthase</td>\n",
       "    </tr>\n",
       "    <tr>\n",
       "      <th>10</th>\n",
       "      <td>PF00696</td>\n",
       "      <td>NaN</td>\n",
       "      <td>CENP-T_C</td>\n",
       "    </tr>\n",
       "    <tr>\n",
       "      <th>11</th>\n",
       "      <td>PF09494</td>\n",
       "      <td>NaN</td>\n",
       "      <td>RibD_C; Bacterial bifunctional deaminase-reduc...</td>\n",
       "    </tr>\n",
       "    <tr>\n",
       "      <th>12</th>\n",
       "      <td>PF09494</td>\n",
       "      <td>NaN</td>\n",
       "      <td>RibD_C; Bacterial bifunctional deaminase-reduc...</td>\n",
       "    </tr>\n",
       "    <tr>\n",
       "      <th>13</th>\n",
       "      <td>PF08738</td>\n",
       "      <td>NaN</td>\n",
       "      <td>RNase_T; Exonuclease, RNase T/DNA polymerase III</td>\n",
       "    </tr>\n",
       "    <tr>\n",
       "      <th>15</th>\n",
       "      <td>PF00118</td>\n",
       "      <td>NaN</td>\n",
       "      <td>AD; Anticodon-binding domain</td>\n",
       "    </tr>\n",
       "    <tr>\n",
       "      <th>16</th>\n",
       "      <td>PF05064</td>\n",
       "      <td>NaN</td>\n",
       "      <td>Mis12; Centromere protein Mis12</td>\n",
       "    </tr>\n",
       "    <tr>\n",
       "      <th>17</th>\n",
       "      <td>PF05890</td>\n",
       "      <td>NaN</td>\n",
       "      <td>Ndc80_HEC; Kinetochore protein Ndc80</td>\n",
       "    </tr>\n",
       "    <tr>\n",
       "      <th>18</th>\n",
       "      <td>PF00013</td>\n",
       "      <td>NaN</td>\n",
       "      <td>3-HAO; 3-hydroxyanthranilic acid dioxygenase</td>\n",
       "    </tr>\n",
       "    <tr>\n",
       "      <th>19</th>\n",
       "      <td>PF05557</td>\n",
       "      <td>NaN</td>\n",
       "      <td>NIF; FCP1 homology domain</td>\n",
       "    </tr>\n",
       "    <tr>\n",
       "      <th>20</th>\n",
       "      <td>PF04912</td>\n",
       "      <td>NaN</td>\n",
       "      <td>Med4; Mediator complex, subunit Med4</td>\n",
       "    </tr>\n",
       "    <tr>\n",
       "      <th>21</th>\n",
       "      <td>PF00172</td>\n",
       "      <td>NaN</td>\n",
       "      <td>AMPKBI; Association with the SNF1 complex (ASC...</td>\n",
       "    </tr>\n",
       "    <tr>\n",
       "      <th>22</th>\n",
       "      <td>PF02291</td>\n",
       "      <td>NaN</td>\n",
       "      <td>FAD_binding_7; Cryptochrome/DNA photolyase, FA...</td>\n",
       "    </tr>\n",
       "    <tr>\n",
       "      <th>23</th>\n",
       "      <td>PF02291</td>\n",
       "      <td>NaN</td>\n",
       "      <td>FAD_binding_7; Cryptochrome/DNA photolyase, FA...</td>\n",
       "    </tr>\n",
       "    <tr>\n",
       "      <th>24</th>\n",
       "      <td>PF12090</td>\n",
       "      <td>NaN</td>\n",
       "      <td>Sec61_beta; Protein transport protein SecG/Sec...</td>\n",
       "    </tr>\n",
       "    <tr>\n",
       "      <th>25</th>\n",
       "      <td>PF01529</td>\n",
       "      <td>NaN</td>\n",
       "      <td>DUF1752; Protein of unknown function DUF1752, ...</td>\n",
       "    </tr>\n",
       "    <tr>\n",
       "      <th>26</th>\n",
       "      <td>PF04818</td>\n",
       "      <td>NaN</td>\n",
       "      <td>MatE; Multi antimicrobial extrusion protein</td>\n",
       "    </tr>\n",
       "    <tr>\n",
       "      <th>27</th>\n",
       "      <td>PF11957</td>\n",
       "      <td>NaN</td>\n",
       "      <td>Sec16; Sec16, central conserved domain</td>\n",
       "    </tr>\n",
       "    <tr>\n",
       "      <th>28</th>\n",
       "      <td>PF02205</td>\n",
       "      <td>NaN</td>\n",
       "      <td>Enolase_C; Enolase, C-terminal TIM barrel domain</td>\n",
       "    </tr>\n",
       "    <tr>\n",
       "      <th>29</th>\n",
       "      <td>PF09724</td>\n",
       "      <td>NaN</td>\n",
       "      <td>Ribosomal_60s</td>\n",
       "    </tr>\n",
       "    <tr>\n",
       "      <th>30</th>\n",
       "      <td>PF07647</td>\n",
       "      <td>NaN</td>\n",
       "      <td>PGM_PMM_III; Alpha-D-phosphohexomutase, alpha/...</td>\n",
       "    </tr>\n",
       "    <tr>\n",
       "      <th>31</th>\n",
       "      <td>PF03637</td>\n",
       "      <td>NaN</td>\n",
       "      <td>HTH_44; Helix-turn-helix DNA-binding domain of...</td>\n",
       "    </tr>\n",
       "    <tr>\n",
       "      <th>32</th>\n",
       "      <td>PF00155</td>\n",
       "      <td>NaN</td>\n",
       "      <td>AIRS; PurM-like, N-terminal domain</td>\n",
       "    </tr>\n",
       "    <tr>\n",
       "      <th>33</th>\n",
       "      <td>PF12756</td>\n",
       "      <td>NaN</td>\n",
       "      <td>Succ_DH_flav_C; Fumarate reductase/succinate d...</td>\n",
       "    </tr>\n",
       "    <tr>\n",
       "      <th>34</th>\n",
       "      <td>PF01912</td>\n",
       "      <td>NaN</td>\n",
       "      <td>E1_4HB; Ubiquitin-activating enzyme E1, four-h...</td>\n",
       "    </tr>\n",
       "    <tr>\n",
       "      <th>35</th>\n",
       "      <td>PF12348</td>\n",
       "      <td>NaN</td>\n",
       "      <td>Sir1; Sir1, ORC-binding domain</td>\n",
       "    </tr>\n",
       "    <tr>\n",
       "      <th>36</th>\n",
       "      <td>PF00083</td>\n",
       "      <td>NaN</td>\n",
       "      <td>AA_permease; Amino acid permease/ SLC12A domain</td>\n",
       "    </tr>\n",
       "    <tr>\n",
       "      <th>37</th>\n",
       "      <td>PF00083</td>\n",
       "      <td>NaN</td>\n",
       "      <td>AA_permease; Amino acid permease/ SLC12A domain</td>\n",
       "    </tr>\n",
       "    <tr>\n",
       "      <th>38</th>\n",
       "      <td>PF03452</td>\n",
       "      <td>NaN</td>\n",
       "      <td>HHH_5</td>\n",
       "    </tr>\n",
       "    <tr>\n",
       "      <th>39</th>\n",
       "      <td>PF12719</td>\n",
       "      <td>NaN</td>\n",
       "      <td>Ste5; Scaffold protein Ste5, Fus3-binding domain</td>\n",
       "    </tr>\n",
       "    <tr>\n",
       "      <th>40</th>\n",
       "      <td>PF02076</td>\n",
       "      <td>NaN</td>\n",
       "      <td>EMP24_GP25L; GOLD domain</td>\n",
       "    </tr>\n",
       "    <tr>\n",
       "      <th>41</th>\n",
       "      <td>PF12998</td>\n",
       "      <td>NaN</td>\n",
       "      <td>TFIIIC_sub6; Transcription factor TFIIIC, tau5...</td>\n",
       "    </tr>\n",
       "    <tr>\n",
       "      <th>42</th>\n",
       "      <td>PF00956</td>\n",
       "      <td>NaN</td>\n",
       "      <td>Calreticulin; Calreticulin/calnexin</td>\n",
       "    </tr>\n",
       "    <tr>\n",
       "      <th>43</th>\n",
       "      <td>PF00399</td>\n",
       "      <td>NaN</td>\n",
       "      <td>Alpha_adaptinC2; Clathrin adaptor, alpha/beta/...</td>\n",
       "    </tr>\n",
       "    <tr>\n",
       "      <th>44</th>\n",
       "      <td>PF00399</td>\n",
       "      <td>NaN</td>\n",
       "      <td>Alpha_adaptinC2; Clathrin adaptor, alpha/beta/...</td>\n",
       "    </tr>\n",
       "  </tbody>\n",
       "</table>\n",
       "</div>"
      ],
      "text/plain": [
       "   domain-name domain-description_x  \\\n",
       "0      PF00205                  NaN   \n",
       "1      PF02854                  NaN   \n",
       "2      PF00856                  NaN   \n",
       "3      PF00549                  NaN   \n",
       "4      PF02883                  NaN   \n",
       "5      PF00249                  NaN   \n",
       "6      PF00650                  NaN   \n",
       "7      PF00578                  NaN   \n",
       "8      PF01846                  NaN   \n",
       "9      PF03943                  NaN   \n",
       "10     PF00696                  NaN   \n",
       "11     PF09494                  NaN   \n",
       "12     PF09494                  NaN   \n",
       "13     PF08738                  NaN   \n",
       "15     PF00118                  NaN   \n",
       "16     PF05064                  NaN   \n",
       "17     PF05890                  NaN   \n",
       "18     PF00013                  NaN   \n",
       "19     PF05557                  NaN   \n",
       "20     PF04912                  NaN   \n",
       "21     PF00172                  NaN   \n",
       "22     PF02291                  NaN   \n",
       "23     PF02291                  NaN   \n",
       "24     PF12090                  NaN   \n",
       "25     PF01529                  NaN   \n",
       "26     PF04818                  NaN   \n",
       "27     PF11957                  NaN   \n",
       "28     PF02205                  NaN   \n",
       "29     PF09724                  NaN   \n",
       "30     PF07647                  NaN   \n",
       "31     PF03637                  NaN   \n",
       "32     PF00155                  NaN   \n",
       "33     PF12756                  NaN   \n",
       "34     PF01912                  NaN   \n",
       "35     PF12348                  NaN   \n",
       "36     PF00083                  NaN   \n",
       "37     PF00083                  NaN   \n",
       "38     PF03452                  NaN   \n",
       "39     PF12719                  NaN   \n",
       "40     PF02076                  NaN   \n",
       "41     PF12998                  NaN   \n",
       "42     PF00956                  NaN   \n",
       "43     PF00399                  NaN   \n",
       "44     PF00399                  NaN   \n",
       "\n",
       "                                 domain-description_y  \n",
       "0                                          APS_kinase  \n",
       "1       GHMP_kinases_N; GHMP kinase N-terminal domain  \n",
       "2           CRAL_TRIO; CRAL-TRIO lipid binding domain  \n",
       "3   BCDHK_Adom3; Branched-chain alpha-ketoacid deh...  \n",
       "4   GPI2; Phosphatidylinositol N-acetylglucosaminy...  \n",
       "5           ATP-synt_10; ATPase assembly factor ATP10  \n",
       "6   CBFB_NFYA; Nuclear transcription factor Y subu...  \n",
       "7                           BRAP2; BRCA1-associated 2  \n",
       "8                                   DnaJ; DnaJ domain  \n",
       "9          IGPS; Indole-3-glycerol phosphate synthase  \n",
       "10                                           CENP-T_C  \n",
       "11  RibD_C; Bacterial bifunctional deaminase-reduc...  \n",
       "12  RibD_C; Bacterial bifunctional deaminase-reduc...  \n",
       "13   RNase_T; Exonuclease, RNase T/DNA polymerase III  \n",
       "15                       AD; Anticodon-binding domain  \n",
       "16                    Mis12; Centromere protein Mis12  \n",
       "17               Ndc80_HEC; Kinetochore protein Ndc80  \n",
       "18       3-HAO; 3-hydroxyanthranilic acid dioxygenase  \n",
       "19                          NIF; FCP1 homology domain  \n",
       "20               Med4; Mediator complex, subunit Med4  \n",
       "21  AMPKBI; Association with the SNF1 complex (ASC...  \n",
       "22  FAD_binding_7; Cryptochrome/DNA photolyase, FA...  \n",
       "23  FAD_binding_7; Cryptochrome/DNA photolyase, FA...  \n",
       "24  Sec61_beta; Protein transport protein SecG/Sec...  \n",
       "25  DUF1752; Protein of unknown function DUF1752, ...  \n",
       "26        MatE; Multi antimicrobial extrusion protein  \n",
       "27             Sec16; Sec16, central conserved domain  \n",
       "28   Enolase_C; Enolase, C-terminal TIM barrel domain  \n",
       "29                                      Ribosomal_60s  \n",
       "30  PGM_PMM_III; Alpha-D-phosphohexomutase, alpha/...  \n",
       "31  HTH_44; Helix-turn-helix DNA-binding domain of...  \n",
       "32                 AIRS; PurM-like, N-terminal domain  \n",
       "33  Succ_DH_flav_C; Fumarate reductase/succinate d...  \n",
       "34  E1_4HB; Ubiquitin-activating enzyme E1, four-h...  \n",
       "35                     Sir1; Sir1, ORC-binding domain  \n",
       "36    AA_permease; Amino acid permease/ SLC12A domain  \n",
       "37    AA_permease; Amino acid permease/ SLC12A domain  \n",
       "38                                              HHH_5  \n",
       "39   Ste5; Scaffold protein Ste5, Fus3-binding domain  \n",
       "40                           EMP24_GP25L; GOLD domain  \n",
       "41  TFIIIC_sub6; Transcription factor TFIIIC, tau5...  \n",
       "42                Calreticulin; Calreticulin/calnexin  \n",
       "43  Alpha_adaptinC2; Clathrin adaptor, alpha/beta/...  \n",
       "44  Alpha_adaptinC2; Clathrin adaptor, alpha/beta/...  "
      ]
     },
     "execution_count": 30,
     "metadata": {},
     "output_type": "execute_result"
    }
   ],
   "source": [
    "only_nsl_pd=pd.merge(repeated_features_sl,repeated_features_nsl,how='right',on=['domain-name'])\n",
    "data_only_nsl = only_nsl_pd[pd.isnull(only_nsl_pd['domain-description_x'])]\n",
    "data_only_nsl"
   ]
  },
  {
   "cell_type": "code",
   "execution_count": 31,
   "metadata": {
    "execution": {
     "iopub.execute_input": "2020-08-13T21:12:49.299718Z",
     "iopub.status.busy": "2020-08-13T21:12:49.299262Z",
     "iopub.status.idle": "2020-08-13T21:12:49.304549Z",
     "shell.execute_reply": "2020-08-13T21:12:49.303599Z"
    }
   },
   "outputs": [
    {
     "data": {
      "text/html": [
       "<div>\n",
       "<style scoped>\n",
       "    .dataframe tbody tr th:only-of-type {\n",
       "        vertical-align: middle;\n",
       "    }\n",
       "\n",
       "    .dataframe tbody tr th {\n",
       "        vertical-align: top;\n",
       "    }\n",
       "\n",
       "    .dataframe thead th {\n",
       "        text-align: right;\n",
       "    }\n",
       "</style>\n",
       "<table border=\"1\" class=\"dataframe\">\n",
       "  <thead>\n",
       "    <tr style=\"text-align: right;\">\n",
       "      <th></th>\n",
       "      <th>domain-name</th>\n",
       "      <th>domain-description_x</th>\n",
       "      <th>domain-description_y</th>\n",
       "    </tr>\n",
       "  </thead>\n",
       "  <tbody>\n",
       "    <tr>\n",
       "      <th>0</th>\n",
       "      <td>PF05669</td>\n",
       "      <td>NOC3p; Nucleolar complex-associated protein 3,...</td>\n",
       "      <td>NOC3p; Nucleolar complex-associated protein 3,...</td>\n",
       "    </tr>\n",
       "  </tbody>\n",
       "</table>\n",
       "</div>"
      ],
      "text/plain": [
       "  domain-name                               domain-description_x  \\\n",
       "0     PF05669  NOC3p; Nucleolar complex-associated protein 3,...   \n",
       "\n",
       "                                domain-description_y  \n",
       "0  NOC3p; Nucleolar complex-associated protein 3,...  "
      ]
     },
     "execution_count": 31,
     "metadata": {},
     "output_type": "execute_result"
    }
   ],
   "source": [
    "shared_domains_pd=pd.merge(repeated_features_sl,repeated_features_nsl,how='inner',on=['domain-name'])\n",
    "shared_domains_pd\n"
   ]
  },
  {
   "cell_type": "code",
   "execution_count": 32,
   "metadata": {
    "execution": {
     "iopub.execute_input": "2020-08-13T21:12:49.316752Z",
     "iopub.status.busy": "2020-08-13T21:12:49.308760Z",
     "iopub.status.idle": "2020-08-13T21:12:50.760608Z",
     "shell.execute_reply": "2020-08-13T21:12:50.759955Z"
    }
   },
   "outputs": [
    {
     "data": {
      "text/plain": [
       "(0.0, 0.2)"
      ]
     },
     "execution_count": 32,
     "metadata": {},
     "output_type": "execute_result"
    },
    {
     "data": {
      "image/png": "[encoded data removed]",
      "text/plain": [
       "<Figure size 432x288 with 1 Axes>"
      ]
     },
     "metadata": {
      "filenames": {
       "image/png": "/home/runner/work/jupyter-book/jupyter-book/mini_book/docs/_build/jupyter_execute/prot_domains2lethality-FEATURES-POSTPROCESSING_47_1.png"
      },
      "needs_background": "light"
     },
     "output_type": "display_data"
    }
   ],
   "source": [
    "a_sl=x_sl.iloc[:,np.sort(df_sl.iloc[:,1])]\n",
    "a_sl.describe().loc['mean'].hist(bins=8),\n",
    "a_sl.describe().loc['std'].hist(bins=8,alpha=0.4)\n",
    "plt.xlim([0,0.2])"
   ]
  },
  {
   "cell_type": "code",
   "execution_count": 33,
   "metadata": {
    "execution": {
     "iopub.execute_input": "2020-08-13T21:12:50.770504Z",
     "iopub.status.busy": "2020-08-13T21:12:50.767589Z",
     "iopub.status.idle": "2020-08-13T21:12:52.321248Z",
     "shell.execute_reply": "2020-08-13T21:12:52.320562Z"
    }
   },
   "outputs": [
    {
     "data": {
      "text/plain": [
       "(0.0, 0.2)"
      ]
     },
     "execution_count": 33,
     "metadata": {},
     "output_type": "execute_result"
    },
    {
     "data": {
      "image/png": "[encoded data removed]",
      "text/plain": [
       "<Figure size 432x288 with 1 Axes>"
      ]
     },
     "metadata": {
      "filenames": {
       "image/png": "/home/runner/work/jupyter-book/jupyter-book/mini_book/docs/_build/jupyter_execute/prot_domains2lethality-FEATURES-POSTPROCESSING_48_1.png"
      },
      "needs_background": "light"
     },
     "output_type": "display_data"
    }
   ],
   "source": [
    "a_nsl=x_nsl.iloc[:,np.sort(df_nsl.iloc[:,1])]\n",
    "a_nsl.describe().loc['mean'].hist(bins=8),\n",
    "a_nsl.describe().loc['std'].hist(bins=8,alpha=0.4)\n",
    "plt.xlim([0,0.2])"
   ]
  },
  {
   "cell_type": "markdown",
   "metadata": {},
   "source": [
    "### Proof of concept with *BEM1*\n",
    "\n",
    "- Gather the domains of SL and nSL pairs from BEM1\n",
    "- Check if the domains for the SL and nSL pairs are inside the most important domains after PCA."
   ]
  },
  {
   "cell_type": "code",
   "execution_count": 34,
   "metadata": {
    "execution": {
     "iopub.execute_input": "2020-08-13T21:12:52.327091Z",
     "iopub.status.busy": "2020-08-13T21:12:52.326385Z",
     "iopub.status.idle": "2020-08-13T21:12:52.329548Z",
     "shell.execute_reply": "2020-08-13T21:12:52.330105Z"
    }
   },
   "outputs": [],
   "source": [
    "domains_bem1=data_domains[data_domains['name']=='BEM1']['domain-descrip']\n",
    "sl_bem1=data_sl[data_sl['gene-query-name']=='BEM1']['gene-target-name']"
   ]
  },
  {
   "cell_type": "code",
   "execution_count": 35,
   "metadata": {
    "execution": {
     "iopub.execute_input": "2020-08-13T21:12:52.333946Z",
     "iopub.status.busy": "2020-08-13T21:12:52.333482Z",
     "iopub.status.idle": "2020-08-13T21:12:52.338819Z",
     "shell.execute_reply": "2020-08-13T21:12:52.338096Z"
    }
   },
   "outputs": [
    {
     "data": {
      "text/plain": [
       "2846      BEM2\n",
       "2847     CDC24\n",
       "5004      MSB1\n",
       "13777     SMI1\n",
       "13778     BNI1\n",
       "13779     BEM2\n",
       "14385     SKN7\n",
       "Name: gene-target-name, dtype: object"
      ]
     },
     "execution_count": 35,
     "metadata": {},
     "output_type": "execute_result"
    }
   ],
   "source": [
    "sl_bem1"
   ]
  },
  {
   "cell_type": "code",
   "execution_count": 36,
   "metadata": {
    "execution": {
     "iopub.execute_input": "2020-08-13T21:12:52.349905Z",
     "iopub.status.busy": "2020-08-13T21:12:52.349459Z",
     "iopub.status.idle": "2020-08-13T21:12:52.354968Z",
     "shell.execute_reply": "2020-08-13T21:12:52.355416Z"
    }
   },
   "outputs": [
    {
     "data": {
      "text/html": [
       "<div>\n",
       "<style scoped>\n",
       "    .dataframe tbody tr th:only-of-type {\n",
       "        vertical-align: middle;\n",
       "    }\n",
       "\n",
       "    .dataframe tbody tr th {\n",
       "        vertical-align: top;\n",
       "    }\n",
       "\n",
       "    .dataframe thead th {\n",
       "        text-align: right;\n",
       "    }\n",
       "</style>\n",
       "<table border=\"1\" class=\"dataframe\">\n",
       "  <thead>\n",
       "    <tr style=\"text-align: right;\">\n",
       "      <th></th>\n",
       "      <th>gene-query</th>\n",
       "      <th>gene-target</th>\n",
       "      <th>gene-query-name</th>\n",
       "      <th>gene-target-name</th>\n",
       "      <th>gene-query-description</th>\n",
       "      <th>gene-target-description</th>\n",
       "      <th>interaction-type</th>\n",
       "      <th>paper-source</th>\n",
       "    </tr>\n",
       "  </thead>\n",
       "  <tbody>\n",
       "    <tr>\n",
       "      <th>2846</th>\n",
       "      <td>YBR200W</td>\n",
       "      <td>YER155C</td>\n",
       "      <td>BEM1</td>\n",
       "      <td>BEM2</td>\n",
       "      <td>SRO1|phosphatidylinositol-3-phosphate-binding ...</td>\n",
       "      <td>IPL2|SUP9|TSL1|L000000168</td>\n",
       "      <td>Synthetic Lethality</td>\n",
       "      <td>Peterson J (1994)</td>\n",
       "    </tr>\n",
       "    <tr>\n",
       "      <th>2847</th>\n",
       "      <td>YBR200W</td>\n",
       "      <td>YAL041W</td>\n",
       "      <td>BEM1</td>\n",
       "      <td>CDC24</td>\n",
       "      <td>SRO1|phosphatidylinositol-3-phosphate-binding ...</td>\n",
       "      <td>CLS4|Rho family guanine nucleotide exchange fa...</td>\n",
       "      <td>Synthetic Lethality</td>\n",
       "      <td>Peterson J (1994)</td>\n",
       "    </tr>\n",
       "    <tr>\n",
       "      <th>5004</th>\n",
       "      <td>YBR200W</td>\n",
       "      <td>YOR188W</td>\n",
       "      <td>BEM1</td>\n",
       "      <td>MSB1</td>\n",
       "      <td>SRO1|phosphatidylinositol-3-phosphate-binding ...</td>\n",
       "      <td>L000001184</td>\n",
       "      <td>Synthetic Lethality</td>\n",
       "      <td>Bender A (1991)</td>\n",
       "    </tr>\n",
       "    <tr>\n",
       "      <th>13777</th>\n",
       "      <td>YBR200W</td>\n",
       "      <td>YGR229C</td>\n",
       "      <td>BEM1</td>\n",
       "      <td>SMI1</td>\n",
       "      <td>SRO1|phosphatidylinositol-3-phosphate-binding ...</td>\n",
       "      <td>KNR4|L000000909</td>\n",
       "      <td>Synthetic Lethality</td>\n",
       "      <td>Gorelik M (2011)</td>\n",
       "    </tr>\n",
       "    <tr>\n",
       "      <th>13778</th>\n",
       "      <td>YBR200W</td>\n",
       "      <td>YNL271C</td>\n",
       "      <td>BEM1</td>\n",
       "      <td>BNI1</td>\n",
       "      <td>SRO1|phosphatidylinositol-3-phosphate-binding ...</td>\n",
       "      <td>PPF3|SHE5|formin BNI1|L000000190</td>\n",
       "      <td>Synthetic Lethality</td>\n",
       "      <td>Gorelik M (2011)</td>\n",
       "    </tr>\n",
       "    <tr>\n",
       "      <th>13779</th>\n",
       "      <td>YBR200W</td>\n",
       "      <td>YER155C</td>\n",
       "      <td>BEM1</td>\n",
       "      <td>BEM2</td>\n",
       "      <td>SRO1|phosphatidylinositol-3-phosphate-binding ...</td>\n",
       "      <td>IPL2|SUP9|TSL1|L000000168</td>\n",
       "      <td>Synthetic Lethality</td>\n",
       "      <td>Gorelik M (2011)</td>\n",
       "    </tr>\n",
       "    <tr>\n",
       "      <th>14385</th>\n",
       "      <td>YBR200W</td>\n",
       "      <td>YHR206W</td>\n",
       "      <td>BEM1</td>\n",
       "      <td>SKN7</td>\n",
       "      <td>SRO1|phosphatidylinositol-3-phosphate-binding ...</td>\n",
       "      <td>BRY1|POS9|kinase-regulated stress-responsive t...</td>\n",
       "      <td>Dosage Lethality</td>\n",
       "      <td>Bouquin N (1999)</td>\n",
       "    </tr>\n",
       "  </tbody>\n",
       "</table>\n",
       "</div>"
      ],
      "text/plain": [
       "      gene-query gene-target gene-query-name gene-target-name  \\\n",
       "2846     YBR200W     YER155C            BEM1             BEM2   \n",
       "2847     YBR200W     YAL041W            BEM1            CDC24   \n",
       "5004     YBR200W     YOR188W            BEM1             MSB1   \n",
       "13777    YBR200W     YGR229C            BEM1             SMI1   \n",
       "13778    YBR200W     YNL271C            BEM1             BNI1   \n",
       "13779    YBR200W     YER155C            BEM1             BEM2   \n",
       "14385    YBR200W     YHR206W            BEM1             SKN7   \n",
       "\n",
       "                                  gene-query-description  \\\n",
       "2846   SRO1|phosphatidylinositol-3-phosphate-binding ...   \n",
       "2847   SRO1|phosphatidylinositol-3-phosphate-binding ...   \n",
       "5004   SRO1|phosphatidylinositol-3-phosphate-binding ...   \n",
       "13777  SRO1|phosphatidylinositol-3-phosphate-binding ...   \n",
       "13778  SRO1|phosphatidylinositol-3-phosphate-binding ...   \n",
       "13779  SRO1|phosphatidylinositol-3-phosphate-binding ...   \n",
       "14385  SRO1|phosphatidylinositol-3-phosphate-binding ...   \n",
       "\n",
       "                                 gene-target-description     interaction-type  \\\n",
       "2846                           IPL2|SUP9|TSL1|L000000168  Synthetic Lethality   \n",
       "2847   CLS4|Rho family guanine nucleotide exchange fa...  Synthetic Lethality   \n",
       "5004                                          L000001184  Synthetic Lethality   \n",
       "13777                                    KNR4|L000000909  Synthetic Lethality   \n",
       "13778                   PPF3|SHE5|formin BNI1|L000000190  Synthetic Lethality   \n",
       "13779                          IPL2|SUP9|TSL1|L000000168  Synthetic Lethality   \n",
       "14385  BRY1|POS9|kinase-regulated stress-responsive t...     Dosage Lethality   \n",
       "\n",
       "            paper-source  \n",
       "2846   Peterson J (1994)  \n",
       "2847   Peterson J (1994)  \n",
       "5004     Bender A (1991)  \n",
       "13777   Gorelik M (2011)  \n",
       "13778   Gorelik M (2011)  \n",
       "13779   Gorelik M (2011)  \n",
       "14385   Bouquin N (1999)  "
      ]
     },
     "execution_count": 36,
     "metadata": {},
     "output_type": "execute_result"
    }
   ],
   "source": [
    "data_sl[data_sl['gene-query-name']=='BEM1']"
   ]
  },
  {
   "cell_type": "code",
   "execution_count": null,
   "metadata": {},
   "outputs": [],
   "source": []
  }
 ],
 "metadata": {
  "jupytext": {
   "text_representation": {
    "extension": ".md",
    "format_name": "myst"
   }
  },
  "kernelspec": {
   "display_name": "Python 3",
   "language": "python",
   "name": "python3"
  },
  "language_info": {
   "codemirror_mode": {
    "name": "ipython",
    "version": 3
   },
   "file_extension": ".py",
   "mimetype": "text/x-python",
   "name": "python",
   "nbconvert_exporter": "python",
   "pygments_lexer": "ipython3",
   "version": "3.7.8"
  },
  "source_map": [
   10,
   18,
   29,
   36,
   57,
   66,
   98,
   101,
   105,
   128,
   131,
   135,
   139,
   145,
   178,
   184,
   188,
   206,
   210,
   218,
   222,
   225,
   229,
   234,
   238,
   244,
   248,
   253,
   257,
   267,
   269,
   273,
   306,
   311,
   313,
   317,
   328,
   330,
   334,
   344,
   348,
   358,
   360,
   364,
   381,
   388,
   394,
   400,
   407,
   412,
   419,
   424,
   428,
   432
  ]
 },
 "nbformat": 4,
 "nbformat_minor": 4
}