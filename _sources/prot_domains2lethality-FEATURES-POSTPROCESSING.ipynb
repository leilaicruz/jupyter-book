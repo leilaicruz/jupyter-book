{
 "cells": [
  {
   "cell_type": "markdown",
   "metadata": {},
   "source": [
    "# Feature postprocessing from paper.\n",
    "- Title:  \"Predicting yeast synthetic lethal genetic interactions using protein domains\"\n",
    "- Authors: Bo Li, Feng Luo,School of Computing,Clemson University,Clemson, SC, USA\n",
    "- e-mail: bol, luofeng@clemson.edu\n",
    "- year:2009"
   ]
  },
  {
   "cell_type": "code",
   "execution_count": 1,
   "metadata": {
    "execution": {
     "iopub.execute_input": "2020-07-14T06:25:23.688989Z",
     "iopub.status.busy": "2020-07-14T06:25:23.688365Z",
     "iopub.status.idle": "2020-07-14T06:25:24.503916Z",
     "shell.execute_reply": "2020-07-14T06:25:24.503374Z"
    }
   },
   "outputs": [],
   "source": [
    "import pandas as pd\n",
    "import numpy as np\n",
    "import matplotlib.pyplot as plt\n",
    "from collections import defaultdict \n",
    "import seaborn as sns\n",
    "import matplotlib.cm as cm\n",
    "import scipy as scipy\n",
    "import random"
   ]
  },
  {
   "cell_type": "markdown",
   "metadata": {
    "jupyter": {
     "source_hidden": true
    }
   },
   "source": [
    "### Importing datasets \n",
    "\n",
    "#### Link to the github repo where the datasets to be downloaded:\n",
    "[DOWNLOAD THE DATASETS HERE](https://github.com/leilaicruz/machine-learning-for-yeast/tree/dev_Leila/datasets-for-learning)"
   ]
  },
  {
   "cell_type": "code",
   "execution_count": 2,
   "metadata": {
    "execution": {
     "iopub.execute_input": "2020-07-14T06:25:24.511773Z",
     "iopub.status.busy": "2020-07-14T06:25:24.510437Z",
     "iopub.status.idle": "2020-07-14T06:25:32.911624Z",
     "shell.execute_reply": "2020-07-14T06:25:32.911012Z"
    }
   },
   "outputs": [],
   "source": [
    "import os\n",
    "script_dir = os.path.dirname('__file__') #<-- absolute dir the script is in\n",
    "rel_path_SL = \"datasets/data-synthetic-lethals.xlsx\"\n",
    "rel_path_nSL=\"datasets/data-positive-genetic.xlsx\"\n",
    "rel_path_domains=\"datasets/proteins-domains-from-Pfam.xlsx\"\n",
    "\n",
    "abs_file_path_SL = os.path.join(script_dir, rel_path_SL)\n",
    "abs_file_path_nSL = os.path.join(script_dir, rel_path_nSL)\n",
    "abs_file_path_domains = os.path.join(script_dir, rel_path_domains)\n",
    "\n",
    "# os.chdir('mini_book/docs/') #<-- for binder os.chdir('../')\n",
    "# os.chdir('../')\n",
    "my_path_sl= abs_file_path_SL\n",
    "my_path_non_sl=abs_file_path_nSL\n",
    "my_path_domains=abs_file_path_domains\n",
    "\n",
    "data_sl=pd.read_excel(my_path_sl,header=0)\n",
    "data_domains=pd.read_excel(my_path_domains,header=0,index_col='Unnamed: 0')\n",
    "data_domains=data_domains.dropna()\n",
    "data_nonsl=pd.read_excel(my_path_non_sl,header=0)"
   ]
  },
  {
   "cell_type": "markdown",
   "metadata": {},
   "source": [
    "## Building the feature matrix\n",
    "One matrix for true SL where each row is one pair of SL. Every raw will be a vector of 0,1 or 2 depending on the comparison with the domain list. For row i the jth element = 0 if the jth element of the domain list is not in neither protein A and B, 1, if it is in one of them and 2 if it is in both of them .\n",
    "\n",
    "### Building the list of proteins domains id per protein pair separately :\n",
    "- List of protein A: Search for the Sl/nSL database the query gene name and look in the protein domain database which protein domains id has each of those queries.\n",
    "- List of protein B: Search for the Sl/nSL database the target gene name of the previous query and look in the protein domain database which protein domains id has each of those target genes."
   ]
  },
  {
   "cell_type": "code",
   "execution_count": 3,
   "metadata": {
    "execution": {
     "iopub.execute_input": "2020-07-14T06:25:32.930876Z",
     "iopub.status.busy": "2020-07-14T06:25:32.930225Z",
     "iopub.status.idle": "2020-07-14T06:25:35.290691Z",
     "shell.execute_reply": "2020-07-14T06:25:35.290024Z"
    }
   },
   "outputs": [],
   "source": [
    "# Selecting the meaningful columns in the respective dataset\n",
    "domain_id_list=data_domains['domain-name']\n",
    "query_gene=data_sl['gene-query-name']\n",
    "target_gene=data_sl['gene-target-name']\n",
    "query_gene_nonlethal=data_nonsl['gene-query-name']\n",
    "target_gene_nonlethal=data_nonsl['gene-target-name']\n",
    "\n",
    "\n",
    "\n",
    "# Initialising the arrays\n",
    "protein_a_list=[]\n",
    "protein_b_list=[]\n",
    "protein_a_list_non=[]\n",
    "protein_b_list_non=[]\n",
    "\n",
    "population = np.arange(0,len(data_sl))\n",
    "\n",
    "# For loop for 10000 pairs sampled randomly from the SL/nSl pair list , and creating a big array of proteind domains id per protein pair\n",
    "\n",
    "for m in random.sample(list(population), 500):\n",
    "    protein_a=data_domains[data_domains['name']==query_gene[m]]\n",
    "    protein_b=data_domains[data_domains['name']==target_gene[m]]\n",
    "    protein_a_list.append(protein_a['domain-name'].tolist())\n",
    "    protein_b_list.append(protein_b['domain-name'].tolist())\n",
    "\n",
    "    protein_a_non=data_domains[data_domains['name']==query_gene_nonlethal[m]]\n",
    "    protein_b_non=data_domains[data_domains['name']==target_gene_nonlethal[m]]\n",
    "    protein_a_list_non.append(protein_a_non['domain-name'].tolist())\n",
    "    protein_b_list_non.append(protein_b_non['domain-name'].tolist())"
   ]
  },
  {
   "cell_type": "code",
   "execution_count": 4,
   "metadata": {
    "execution": {
     "iopub.execute_input": "2020-07-14T06:25:35.297902Z",
     "iopub.status.busy": "2020-07-14T06:25:35.297169Z",
     "iopub.status.idle": "2020-07-14T06:25:35.301129Z",
     "shell.execute_reply": "2020-07-14T06:25:35.300579Z"
    }
   },
   "outputs": [
    {
     "name": "stdout",
     "output_type": "stream",
     "text": [
      "We are going to analyze 500 protein pairs, out of 17871 SL protein pairs\n",
      "We are going to analyze 500 protein pairs, out of 43340 positive protein pairs\n"
     ]
    }
   ],
   "source": [
    "print('We are going to analyze',len((protein_a_list)) ,'protein pairs, out of',len(data_sl),'SL protein pairs')\n",
    "print('We are going to analyze',len((protein_a_list_non)) ,'protein pairs, out of',len(data_nonsl),'positive protein pairs')"
   ]
  },
  {
   "cell_type": "markdown",
   "metadata": {},
   "source": [
    "### Postprocessing #1:  Remove protein pairs from study if either protein in the pair does not contain any domain"
   ]
  },
  {
   "cell_type": "code",
   "execution_count": 5,
   "metadata": {
    "execution": {
     "iopub.execute_input": "2020-07-14T06:25:35.312420Z",
     "iopub.status.busy": "2020-07-14T06:25:35.311814Z",
     "iopub.status.idle": "2020-07-14T06:25:35.316226Z",
     "shell.execute_reply": "2020-07-14T06:25:35.315441Z"
    }
   },
   "outputs": [],
   "source": [
    "def remove_empty_domains(protein_list_search,protein_list_pair):\n",
    "    index=[]\n",
    "    for i in np.arange(0,len(protein_list_search)):\n",
    "        if protein_list_search[i]==[] or protein_list_pair[i]==[]:\n",
    "            index.append(i) ## index of empty values for the protein_a_list meaning they dont have any annotated domain\n",
    "\n",
    "    y=[x for x in np.arange(0,len(protein_list_search)) if x not in index] # a list with non empty values from protein_a list\n",
    "\n",
    "    protein_list_search_new=[]\n",
    "    protein_list_pair_new=[]\n",
    "    for i in y:\n",
    "        protein_list_search_new.append(protein_list_search[i])\n",
    "        protein_list_pair_new.append(protein_list_pair[i])\n",
    "    return protein_list_search_new,protein_list_pair_new\n",
    "\n",
    "## evaluating the function\n",
    "\n",
    "protein_a_list_new,protein_b_list_new=remove_empty_domains(protein_a_list,protein_b_list)\n",
    "\n",
    "protein_a_list_non_new,protein_b_list_non_new=remove_empty_domains(protein_a_list_non,protein_b_list_non)"
   ]
  },
  {
   "cell_type": "code",
   "execution_count": 6,
   "metadata": {
    "execution": {
     "iopub.execute_input": "2020-07-14T06:25:35.323835Z",
     "iopub.status.busy": "2020-07-14T06:25:35.323080Z",
     "iopub.status.idle": "2020-07-14T06:25:35.326387Z",
     "shell.execute_reply": "2020-07-14T06:25:35.324919Z"
    }
   },
   "outputs": [
    {
     "name": "stdout",
     "output_type": "stream",
     "text": [
      "The empty domain in the SL were: 98 out of 500 domains\n",
      "The empty domain in the nSL were: 84 out of 500 domains\n"
     ]
    }
   ],
   "source": [
    "print('The empty domain in the SL were:', len(protein_a_list)-len(protein_a_list_new), 'out of', len(protein_a_list),'domains')\n",
    "print('The empty domain in the nSL were:', len(protein_a_list_non)-len(protein_a_list_non_new), 'out of', len(protein_a_list_non),'domains')"
   ]
  },
  {
   "cell_type": "markdown",
   "metadata": {},
   "source": [
    "### Feature engineering: Select from each ordered indexes of domain id list which of them appear once, in both or in any of the domains of each protein pair"
   ]
  },
  {
   "cell_type": "markdown",
   "metadata": {},
   "source": [
    "#### Define function `get_indexes`"
   ]
  },
  {
   "cell_type": "code",
   "execution_count": 7,
   "metadata": {
    "execution": {
     "iopub.execute_input": "2020-07-14T06:25:35.335591Z",
     "iopub.status.busy": "2020-07-14T06:25:35.333863Z",
     "iopub.status.idle": "2020-07-14T06:25:35.338514Z",
     "shell.execute_reply": "2020-07-14T06:25:35.338000Z"
    }
   },
   "outputs": [
    {
     "data": {
      "text/plain": [
       "[1, 2]"
      ]
     },
     "execution_count": 7,
     "metadata": {},
     "output_type": "execute_result"
    }
   ],
   "source": [
    "get_indexes = lambda x, xs: [i for (y, i) in zip(xs, range(len(xs))) if x == y] # a function that give the index of whether a value appear in array or not\n",
    "a=[1,2,2,4,5,6,7,8,9,10]\n",
    "get_indexes(2,a)"
   ]
  },
  {
   "cell_type": "code",
   "execution_count": 8,
   "metadata": {
    "execution": {
     "iopub.execute_input": "2020-07-14T06:25:35.349108Z",
     "iopub.status.busy": "2020-07-14T06:25:35.347711Z",
     "iopub.status.idle": "2020-07-14T06:25:35.350044Z",
     "shell.execute_reply": "2020-07-14T06:25:35.350716Z"
    }
   },
   "outputs": [],
   "source": [
    "def feature_building(protein_a_list_new,protein_b_list_new):\n",
    "    x = np.unique(domain_id_list)\n",
    "    ## To avoid taking repeated domains from one protein of the pairs , lets reduced the domains of each protein from the pairs to their unique members\n",
    "    protein_a_list_unique=[]\n",
    "    protein_b_list_unique=[]\n",
    "    for i in np.arange(0,len(protein_a_list_new)):\n",
    "        protein_a_list_unique.append(np.unique(protein_a_list_new[i]))\n",
    "        protein_b_list_unique.append(np.unique(protein_b_list_new[i]))\n",
    "        \n",
    "    protein_feat_true=np.zeros(shape=(len(x),len(protein_a_list_unique)))\n",
    "    pair_a_b_array=[]\n",
    "    for i in np.arange(0,len(protein_a_list_unique)):\n",
    "        index_a=[]\n",
    "        \n",
    "        pair=[protein_a_list_unique[i],protein_b_list_unique[i]]\n",
    "        pair_a_b=np.concatenate(pair).ravel()\n",
    "        pair_a_b_array.append(pair_a_b)\n",
    "\n",
    "    j=0\n",
    "    for i in pair_a_b_array:  \n",
    "        array,index,counts=np.unique(i,return_index=True,return_counts=True)\n",
    "        \n",
    "        for k,m in zip(counts,array):\n",
    "            if k ==2:\n",
    "                protein_feat_true[get_indexes(m,x),j]=2\n",
    "                \n",
    "            if k==1:\n",
    "                protein_feat_true[get_indexes(m,x),j]=1\n",
    "        j=j+1\n",
    "    return protein_feat_true"
   ]
  },
  {
   "cell_type": "code",
   "execution_count": 9,
   "metadata": {
    "execution": {
     "iopub.execute_input": "2020-07-14T06:25:35.361052Z",
     "iopub.status.busy": "2020-07-14T06:25:35.360455Z",
     "iopub.status.idle": "2020-07-14T06:25:36.199512Z",
     "shell.execute_reply": "2020-07-14T06:25:36.198548Z"
    }
   },
   "outputs": [],
   "source": [
    "protein_feat_true=feature_building(protein_b_list_new=protein_b_list_new,protein_a_list_new=protein_a_list_new)\n",
    "protein_feat_true_pd=pd.DataFrame(protein_feat_true.T)\n",
    "\n",
    "protein_feat_non_true=feature_building(protein_b_list_new=protein_b_list_non_new,protein_a_list_new=protein_a_list_non_new)\n",
    "protein_feat_non_true_pd=pd.DataFrame(protein_feat_non_true.T)"
   ]
  },
  {
   "cell_type": "markdown",
   "metadata": {},
   "source": [
    "### How many ones and twos are in each dataset"
   ]
  },
  {
   "cell_type": "code",
   "execution_count": 10,
   "metadata": {
    "execution": {
     "iopub.execute_input": "2020-07-14T06:25:36.208023Z",
     "iopub.status.busy": "2020-07-14T06:25:36.207085Z",
     "iopub.status.idle": "2020-07-14T06:25:36.305620Z",
     "shell.execute_reply": "2020-07-14T06:25:36.305019Z"
    }
   },
   "outputs": [
    {
     "name": "stdout",
     "output_type": "stream",
     "text": [
      "fraction of twos in the SL array is 1.9736030590847416e-05\n",
      "fraction of ones in the SL array is 0.0010024258870934583\n",
      "fraction of twos in the PI array is 9.535918626827717e-06\n",
      "fraction of ones in the PI array is 0.0009067069294342022\n"
     ]
    }
   ],
   "source": [
    "index_2_true=protein_feat_true_pd.where(protein_feat_true_pd==2)\n",
    "index_2_true_count=index_2_true.count(axis=1).sum()\n",
    "\n",
    "index_1_true=protein_feat_true_pd.where(protein_feat_true_pd==1)\n",
    "index_1_true_count=index_1_true.count(axis=1).sum()\n",
    "\n",
    "index_2_nontrue=protein_feat_non_true_pd.where(protein_feat_non_true_pd==2)\n",
    "index_2_nontrue_count=index_2_nontrue.count(axis=1).sum()\n",
    "\n",
    "index_1_nontrue=protein_feat_non_true_pd.where(protein_feat_non_true_pd==1)\n",
    "index_1_nontrue_count=index_1_nontrue.count(axis=1).sum()\n",
    "\n",
    "\n",
    "print('fraction of twos in the SL array is',index_2_true_count/(len(protein_feat_true_pd.index)*len(protein_feat_true_pd.columns)))\n",
    "print('fraction of ones in the SL array is',index_1_true_count/(len(protein_feat_true_pd.index)*len(protein_feat_true_pd.columns)))\n",
    "print('fraction of twos in the PI array is',index_2_nontrue_count/(len(protein_feat_non_true_pd.index)*len(protein_feat_non_true_pd.columns)))\n",
    "print('fraction of ones in the PI array is',index_1_nontrue_count/(len(protein_feat_non_true_pd.index)*len(protein_feat_non_true_pd.columns)))"
   ]
  },
  {
   "cell_type": "markdown",
   "metadata": {},
   "source": [
    "#### Bar plot to visualize these numbers"
   ]
  },
  {
   "cell_type": "code",
   "execution_count": 11,
   "metadata": {
    "execution": {
     "iopub.execute_input": "2020-07-14T06:25:36.320742Z",
     "iopub.status.busy": "2020-07-14T06:25:36.312312Z",
     "iopub.status.idle": "2020-07-14T06:25:36.820485Z",
     "shell.execute_reply": "2020-07-14T06:25:36.819538Z"
    }
   },
   "outputs": [
    {
     "data": {
      "text/plain": [
       "([0, 1, 2, 3], <a list of 4 Text major ticklabel objects>)"
      ]
     },
     "execution_count": 11,
     "metadata": {},
     "output_type": "execute_result"
    },
    {
     "data": {
      "image/png": "[encoded data removed]",
      "text/plain": [
       "<Figure size 432x288 with 1 Axes>"
      ]
     },
     "metadata": {
      "filenames": {
       "image/png": "/home/runner/work/jupyter-book/jupyter-book/mini_book/docs/_build/jupyter_execute/prot_domains2lethality-FEATURES-POSTPROCESSING_18_1.png"
      },
      "needs_background": "light"
     },
     "output_type": "display_data"
    }
   ],
   "source": [
    "plt.bar(['fraction of 2 in the nSL','fraction of 1 in the nSL'],[index_2_nontrue_count/(len(protein_feat_non_true_pd.index)*len(protein_feat_non_true_pd.columns)),index_1_nontrue_count/(len(protein_feat_non_true_pd.index)*len(protein_feat_non_true_pd.columns))],alpha=0.6,color=['blue','lightblue']), \n",
    "\n",
    "plt.bar(['fraction of 2 in SL ','fraction of 1 in SL'],[index_2_true_count/(len(protein_feat_true_pd.index)*len(protein_feat_true_pd.columns)),index_1_true_count/(len(protein_feat_true_pd.index)*len(protein_feat_true_pd.columns))],alpha=0.6,color=['coral','lightcoral'])\n",
    "\n",
    "plt.ylabel('Fraction from the population')\n",
    "plt.yscale('log')\n",
    "plt.xticks(rotation=40)"
   ]
  },
  {
   "cell_type": "markdown",
   "metadata": {},
   "source": [
    "#### Adding the labels(response variables) to each dataset"
   ]
  },
  {
   "cell_type": "code",
   "execution_count": 12,
   "metadata": {
    "execution": {
     "iopub.execute_input": "2020-07-14T06:25:36.828977Z",
     "iopub.status.busy": "2020-07-14T06:25:36.826511Z",
     "iopub.status.idle": "2020-07-14T06:25:36.831731Z",
     "shell.execute_reply": "2020-07-14T06:25:36.832247Z"
    }
   },
   "outputs": [],
   "source": [
    "protein_feat_true_pd['lethality']=np.ones(shape=(len(protein_a_list_new)))\n",
    "protein_feat_non_true_pd['lethality']=np.zeros(shape=(len(protein_a_list_non_new)))"
   ]
  },
  {
   "cell_type": "markdown",
   "metadata": {},
   "source": [
    "#### Joining both datasets"
   ]
  },
  {
   "cell_type": "code",
   "execution_count": 13,
   "metadata": {
    "execution": {
     "iopub.execute_input": "2020-07-14T06:25:36.838388Z",
     "iopub.status.busy": "2020-07-14T06:25:36.837609Z",
     "iopub.status.idle": "2020-07-14T06:25:36.885234Z",
     "shell.execute_reply": "2020-07-14T06:25:36.885826Z"
    }
   },
   "outputs": [
    {
     "name": "stdout",
     "output_type": "stream",
     "text": [
      "The number of features are: 3026\n",
      "The number of samples are: 818\n"
     ]
    }
   ],
   "source": [
    "feature_post=pd.concat([protein_feat_true_pd,protein_feat_non_true_pd],axis=0)\n",
    "feature_post=feature_post.set_index(np.arange(0,len(protein_a_list_new)+len(protein_a_list_non_new)))\n",
    "print('The number of features are:',feature_post.shape[1])\n",
    "print('The number of samples are:',feature_post.shape[0])"
   ]
  },
  {
   "cell_type": "markdown",
   "metadata": {},
   "source": [
    "### Postprocessing and exploration of the feature matrix of both datasets"
   ]
  },
  {
   "cell_type": "code",
   "execution_count": 14,
   "metadata": {
    "execution": {
     "iopub.execute_input": "2020-07-14T06:25:36.894038Z",
     "iopub.status.busy": "2020-07-14T06:25:36.891525Z",
     "iopub.status.idle": "2020-07-14T06:25:42.140351Z",
     "shell.execute_reply": "2020-07-14T06:25:42.139683Z"
    }
   },
   "outputs": [],
   "source": [
    "mean=feature_post.T.describe().loc['mean']\n",
    "std=feature_post.T.describe().loc['std']\n",
    "lethality=feature_post['lethality']\n",
    "\n",
    "corr_keys=pd.concat([mean,std,lethality],axis=1)"
   ]
  },
  {
   "cell_type": "markdown",
   "metadata": {},
   "source": [
    "### Viz of the stats"
   ]
  },
  {
   "cell_type": "code",
   "execution_count": 15,
   "metadata": {
    "execution": {
     "iopub.execute_input": "2020-07-14T06:25:42.172177Z",
     "iopub.status.busy": "2020-07-14T06:25:42.156849Z",
     "iopub.status.idle": "2020-07-14T06:25:44.149123Z",
     "shell.execute_reply": "2020-07-14T06:25:44.149612Z"
    }
   },
   "outputs": [
    {
     "data": {
      "text/plain": [
       "Text(0.5, 1.08, 'Pairplot to see data dependencies with Lethality')"
      ]
     },
     "execution_count": 15,
     "metadata": {},
     "output_type": "execute_result"
    },
    {
     "data": {
      "image/png": "[encoded data removed]",
      "text/plain": [
       "<Figure size 412x360 with 6 Axes>"
      ]
     },
     "metadata": {
      "filenames": {
       "image/png": "/home/runner/work/jupyter-book/jupyter-book/mini_book/docs/_build/jupyter_execute/prot_domains2lethality-FEATURES-POSTPROCESSING_26_1.png"
      },
      "needs_background": "light"
     },
     "output_type": "display_data"
    }
   ],
   "source": [
    "pair=sns.pairplot(corr_keys,hue='lethality',diag_kind='kde',kind='reg',palette='colorblind')\n",
    "pair.fig.suptitle('Pairplot to see data dependencies with Lethality',y=1.08)"
   ]
  },
  {
   "cell_type": "code",
   "execution_count": 16,
   "metadata": {
    "execution": {
     "iopub.execute_input": "2020-07-14T06:25:44.161528Z",
     "iopub.status.busy": "2020-07-14T06:25:44.160487Z",
     "iopub.status.idle": "2020-07-14T06:25:44.164162Z",
     "shell.execute_reply": "2020-07-14T06:25:44.164650Z"
    }
   },
   "outputs": [],
   "source": [
    "X, y = feature_post.drop(columns=[\"lethality\"]), feature_post[\"lethality\"]"
   ]
  },
  {
   "cell_type": "code",
   "execution_count": 17,
   "metadata": {
    "execution": {
     "iopub.execute_input": "2020-07-14T06:25:44.170355Z",
     "iopub.status.busy": "2020-07-14T06:25:44.169106Z",
     "iopub.status.idle": "2020-07-14T06:25:44.325835Z",
     "shell.execute_reply": "2020-07-14T06:25:44.326524Z"
    }
   },
   "outputs": [],
   "source": [
    "from sklearn.preprocessing import StandardScaler\n",
    "scaler = StandardScaler()\n",
    "x_sl=protein_feat_true_pd.drop(columns=['lethality'])\n",
    "x_nsl=protein_feat_non_true_pd.drop(columns=['lethality'])\n",
    "\n",
    "X_sl_scaled = scaler.fit_transform(x_sl)\n",
    "X_nsl_scaled = scaler.fit_transform(x_nsl)"
   ]
  },
  {
   "cell_type": "code",
   "execution_count": 18,
   "metadata": {
    "execution": {
     "iopub.execute_input": "2020-07-14T06:25:44.332213Z",
     "iopub.status.busy": "2020-07-14T06:25:44.331599Z",
     "iopub.status.idle": "2020-07-14T06:25:44.334789Z",
     "shell.execute_reply": "2020-07-14T06:25:44.335319Z"
    }
   },
   "outputs": [
    {
     "data": {
      "text/plain": [
       "(402, 3025)"
      ]
     },
     "execution_count": 18,
     "metadata": {},
     "output_type": "execute_result"
    }
   ],
   "source": [
    "np.shape(X_sl_scaled)"
   ]
  },
  {
   "cell_type": "markdown",
   "metadata": {},
   "source": [
    "## How redundant are each of the protein domains?"
   ]
  },
  {
   "cell_type": "code",
   "execution_count": 19,
   "metadata": {
    "execution": {
     "iopub.execute_input": "2020-07-14T06:25:44.344429Z",
     "iopub.status.busy": "2020-07-14T06:25:44.343264Z",
     "iopub.status.idle": "2020-07-14T06:25:44.345382Z",
     "shell.execute_reply": "2020-07-14T06:25:44.345983Z"
    }
   },
   "outputs": [],
   "source": [
    "def PCA_component_contribution(scaled_matrix,original_data):\n",
    "    from sklearn.decomposition import PCA\n",
    "\n",
    "    model = PCA(0.95).fit(scaled_matrix)\n",
    "    ## apply dimensionality reduction to X_train\n",
    "    output_pca = model.transform(scaled_matrix)\n",
    "    \n",
    "    total=sum(model.explained_variance_)\n",
    "\n",
    "\n",
    "   \n",
    "    # number of components , that it will be the number of main axes times the number of original components \n",
    "    n_pcs= model.components_.shape[0] # the amount of non redundant protein domains \n",
    "\n",
    "    # get the index of the most important feature on EACH component\n",
    "    # LIST COMPREHENSION HERE\n",
    "    most_important = [np.abs(model.components_[i]).argmax() for i in range(n_pcs)]\n",
    "\n",
    "    initial_feature_names = original_data.columns\n",
    "    # get the names\n",
    "    most_important_names = [initial_feature_names[most_important[i]] for i in range(n_pcs)]\n",
    "    \n",
    "\n",
    "    # LIST COMPREHENSION HERE AGAIN\n",
    "    dic = {'PC{}'.format(i): most_important_names[i] for i in range(n_pcs)}\n",
    "\n",
    "    # build the dataframe\n",
    "    df = pd.DataFrame(dic.items(),columns=['pca-component','domain-number'])\n",
    "\n",
    "    return df,model.components_"
   ]
  },
  {
   "cell_type": "code",
   "execution_count": 20,
   "metadata": {
    "execution": {
     "iopub.execute_input": "2020-07-14T06:25:44.350727Z",
     "iopub.status.busy": "2020-07-14T06:25:44.349727Z",
     "iopub.status.idle": "2020-07-14T06:25:45.107814Z",
     "shell.execute_reply": "2020-07-14T06:25:45.108372Z"
    }
   },
   "outputs": [],
   "source": [
    "df_sl,components_pca_nsl=PCA_component_contribution(X_nsl_scaled,x_nsl)\n",
    "df_nsl,components_pca_sl=PCA_component_contribution(X_sl_scaled,x_sl)"
   ]
  },
  {
   "cell_type": "code",
   "execution_count": 21,
   "metadata": {
    "execution": {
     "iopub.execute_input": "2020-07-14T06:25:45.116608Z",
     "iopub.status.busy": "2020-07-14T06:25:45.113973Z",
     "iopub.status.idle": "2020-07-14T06:25:45.121200Z",
     "shell.execute_reply": "2020-07-14T06:25:45.122044Z"
    }
   },
   "outputs": [
    {
     "data": {
      "text/html": [
       "<div>\n",
       "<style scoped>\n",
       "    .dataframe tbody tr th:only-of-type {\n",
       "        vertical-align: middle;\n",
       "    }\n",
       "\n",
       "    .dataframe tbody tr th {\n",
       "        vertical-align: top;\n",
       "    }\n",
       "\n",
       "    .dataframe thead th {\n",
       "        text-align: right;\n",
       "    }\n",
       "</style>\n",
       "<table border=\"1\" class=\"dataframe\">\n",
       "  <thead>\n",
       "    <tr style=\"text-align: right;\">\n",
       "      <th></th>\n",
       "      <th>pca-component</th>\n",
       "      <th>domain-number</th>\n",
       "    </tr>\n",
       "  </thead>\n",
       "  <tbody>\n",
       "    <tr>\n",
       "      <th>0</th>\n",
       "      <td>PC0</td>\n",
       "      <td>135</td>\n",
       "    </tr>\n",
       "    <tr>\n",
       "      <th>1</th>\n",
       "      <td>PC1</td>\n",
       "      <td>142</td>\n",
       "    </tr>\n",
       "    <tr>\n",
       "      <th>2</th>\n",
       "      <td>PC2</td>\n",
       "      <td>305</td>\n",
       "    </tr>\n",
       "    <tr>\n",
       "      <th>3</th>\n",
       "      <td>PC3</td>\n",
       "      <td>221</td>\n",
       "    </tr>\n",
       "    <tr>\n",
       "      <th>4</th>\n",
       "      <td>PC4</td>\n",
       "      <td>689</td>\n",
       "    </tr>\n",
       "  </tbody>\n",
       "</table>\n",
       "</div>"
      ],
      "text/plain": [
       "  pca-component  domain-number\n",
       "0           PC0            135\n",
       "1           PC1            142\n",
       "2           PC2            305\n",
       "3           PC3            221\n",
       "4           PC4            689"
      ]
     },
     "execution_count": 21,
     "metadata": {},
     "output_type": "execute_result"
    }
   ],
   "source": [
    "df_sl.head()"
   ]
  },
  {
   "cell_type": "markdown",
   "metadata": {},
   "source": [
    "## which are the shared domains between nSL and SL pairs , in the PCA reduced samples"
   ]
  },
  {
   "cell_type": "code",
   "execution_count": 22,
   "metadata": {
    "execution": {
     "iopub.execute_input": "2020-07-14T06:25:45.128548Z",
     "iopub.status.busy": "2020-07-14T06:25:45.127948Z",
     "iopub.status.idle": "2020-07-14T06:25:45.160993Z",
     "shell.execute_reply": "2020-07-14T06:25:45.161845Z"
    }
   },
   "outputs": [
    {
     "data": {
      "text/html": [
       "<div>\n",
       "<style scoped>\n",
       "    .dataframe tbody tr th:only-of-type {\n",
       "        vertical-align: middle;\n",
       "    }\n",
       "\n",
       "    .dataframe tbody tr th {\n",
       "        vertical-align: top;\n",
       "    }\n",
       "\n",
       "    .dataframe thead th {\n",
       "        text-align: right;\n",
       "    }\n",
       "</style>\n",
       "<table border=\"1\" class=\"dataframe\">\n",
       "  <thead>\n",
       "    <tr style=\"text-align: right;\">\n",
       "      <th></th>\n",
       "      <th>pca-component_x</th>\n",
       "      <th>domain-number</th>\n",
       "      <th>pca-component_y</th>\n",
       "      <th>domain-description</th>\n",
       "    </tr>\n",
       "  </thead>\n",
       "  <tbody>\n",
       "    <tr>\n",
       "      <th>0</th>\n",
       "      <td>PC6</td>\n",
       "      <td>257</td>\n",
       "      <td>PC23</td>\n",
       "      <td>BAR_2; BAR domain-containing family</td>\n",
       "    </tr>\n",
       "    <tr>\n",
       "      <th>1</th>\n",
       "      <td>PC10</td>\n",
       "      <td>3</td>\n",
       "      <td>PC17</td>\n",
       "      <td>2-Hacid_dh_C; D-isomer specific 2-hydroxyacid ...</td>\n",
       "    </tr>\n",
       "    <tr>\n",
       "      <th>2</th>\n",
       "      <td>PC24</td>\n",
       "      <td>1824</td>\n",
       "      <td>PC67</td>\n",
       "      <td>PRP21_like_P; Splicing factor 3A subunit 1</td>\n",
       "    </tr>\n",
       "    <tr>\n",
       "      <th>3</th>\n",
       "      <td>PC28</td>\n",
       "      <td>341</td>\n",
       "      <td>PC19</td>\n",
       "      <td>CDP-OH_P_transf; CDP-alcohol phosphatidyltrans...</td>\n",
       "    </tr>\n",
       "    <tr>\n",
       "      <th>4</th>\n",
       "      <td>PC29</td>\n",
       "      <td>876</td>\n",
       "      <td>PC40</td>\n",
       "      <td>FDX-ACB; Ferrodoxin-fold anticodon-binding domain</td>\n",
       "    </tr>\n",
       "    <tr>\n",
       "      <th>5</th>\n",
       "      <td>PC36</td>\n",
       "      <td>983</td>\n",
       "      <td>PC28</td>\n",
       "      <td>GHMP_kinases_N; GHMP kinase N-terminal domain</td>\n",
       "    </tr>\n",
       "    <tr>\n",
       "      <th>6</th>\n",
       "      <td>PC40</td>\n",
       "      <td>983</td>\n",
       "      <td>PC28</td>\n",
       "      <td>GHMP_kinases_N; GHMP kinase N-terminal domain</td>\n",
       "    </tr>\n",
       "    <tr>\n",
       "      <th>7</th>\n",
       "      <td>PC64</td>\n",
       "      <td>2007</td>\n",
       "      <td>PC73</td>\n",
       "      <td>RNA_pol_L_2; DNA-directed RNA polymerase, RBP1...</td>\n",
       "    </tr>\n",
       "    <tr>\n",
       "      <th>8</th>\n",
       "      <td>PC64</td>\n",
       "      <td>2007</td>\n",
       "      <td>PC74</td>\n",
       "      <td>RNA_pol_L_2; DNA-directed RNA polymerase, RBP1...</td>\n",
       "    </tr>\n",
       "    <tr>\n",
       "      <th>9</th>\n",
       "      <td>PC69</td>\n",
       "      <td>824</td>\n",
       "      <td>PC153</td>\n",
       "      <td>ETF; Electron transfer flavoprotein, alpha/bet...</td>\n",
       "    </tr>\n",
       "    <tr>\n",
       "      <th>10</th>\n",
       "      <td>PC71</td>\n",
       "      <td>696</td>\n",
       "      <td>PC61</td>\n",
       "      <td>DUF3402; Protein of unknown function DUF3402</td>\n",
       "    </tr>\n",
       "    <tr>\n",
       "      <th>11</th>\n",
       "      <td>PC78</td>\n",
       "      <td>1169</td>\n",
       "      <td>PC92</td>\n",
       "      <td>HisG; ATP phosphoribosyltransferase, catalytic...</td>\n",
       "    </tr>\n",
       "    <tr>\n",
       "      <th>12</th>\n",
       "      <td>PC79</td>\n",
       "      <td>118</td>\n",
       "      <td>PC172</td>\n",
       "      <td>ATP-grasp; ATP-grasp fold, ATP-dependent carbo...</td>\n",
       "    </tr>\n",
       "    <tr>\n",
       "      <th>13</th>\n",
       "      <td>PC79</td>\n",
       "      <td>118</td>\n",
       "      <td>PC179</td>\n",
       "      <td>ATP-grasp; ATP-grasp fold, ATP-dependent carbo...</td>\n",
       "    </tr>\n",
       "    <tr>\n",
       "      <th>14</th>\n",
       "      <td>PC79</td>\n",
       "      <td>118</td>\n",
       "      <td>PC181</td>\n",
       "      <td>ATP-grasp; ATP-grasp fold, ATP-dependent carbo...</td>\n",
       "    </tr>\n",
       "    <tr>\n",
       "      <th>15</th>\n",
       "      <td>PC84</td>\n",
       "      <td>6</td>\n",
       "      <td>PC115</td>\n",
       "      <td>2OG-FeII_Oxy_4</td>\n",
       "    </tr>\n",
       "    <tr>\n",
       "      <th>16</th>\n",
       "      <td>PC87</td>\n",
       "      <td>281</td>\n",
       "      <td>PC50</td>\n",
       "      <td>BRCT_2; BRCT domain</td>\n",
       "    </tr>\n",
       "    <tr>\n",
       "      <th>17</th>\n",
       "      <td>PC88</td>\n",
       "      <td>281</td>\n",
       "      <td>PC50</td>\n",
       "      <td>BRCT_2; BRCT domain</td>\n",
       "    </tr>\n",
       "    <tr>\n",
       "      <th>18</th>\n",
       "      <td>PC96</td>\n",
       "      <td>2056</td>\n",
       "      <td>PC263</td>\n",
       "      <td>RRM; RNA-binding domain, putative</td>\n",
       "    </tr>\n",
       "    <tr>\n",
       "      <th>19</th>\n",
       "      <td>PC110</td>\n",
       "      <td>1267</td>\n",
       "      <td>PC158</td>\n",
       "      <td>Kelch_3</td>\n",
       "    </tr>\n",
       "    <tr>\n",
       "      <th>20</th>\n",
       "      <td>PC110</td>\n",
       "      <td>1267</td>\n",
       "      <td>PC159</td>\n",
       "      <td>Kelch_3</td>\n",
       "    </tr>\n",
       "    <tr>\n",
       "      <th>21</th>\n",
       "      <td>PC120</td>\n",
       "      <td>2700</td>\n",
       "      <td>PC222</td>\n",
       "      <td>Trehalose_PPase; Trehalose-phosphatase</td>\n",
       "    </tr>\n",
       "    <tr>\n",
       "      <th>22</th>\n",
       "      <td>PC123</td>\n",
       "      <td>1449</td>\n",
       "      <td>PC63</td>\n",
       "      <td>Med4; Mediator complex, subunit Med4</td>\n",
       "    </tr>\n",
       "    <tr>\n",
       "      <th>23</th>\n",
       "      <td>PC123</td>\n",
       "      <td>1449</td>\n",
       "      <td>PC64</td>\n",
       "      <td>Med4; Mediator complex, subunit Med4</td>\n",
       "    </tr>\n",
       "    <tr>\n",
       "      <th>24</th>\n",
       "      <td>PC134</td>\n",
       "      <td>818</td>\n",
       "      <td>PC187</td>\n",
       "      <td>ERGIC_N</td>\n",
       "    </tr>\n",
       "    <tr>\n",
       "      <th>25</th>\n",
       "      <td>PC136</td>\n",
       "      <td>1035</td>\n",
       "      <td>PC100</td>\n",
       "      <td>Gln-synt_N; Glutamine synthetase, beta-Grasp d...</td>\n",
       "    </tr>\n",
       "    <tr>\n",
       "      <th>26</th>\n",
       "      <td>PC136</td>\n",
       "      <td>1035</td>\n",
       "      <td>PC107</td>\n",
       "      <td>Gln-synt_N; Glutamine synthetase, beta-Grasp d...</td>\n",
       "    </tr>\n",
       "    <tr>\n",
       "      <th>27</th>\n",
       "      <td>PC137</td>\n",
       "      <td>56</td>\n",
       "      <td>PC12</td>\n",
       "      <td>ADK_lid; Adenylate kinase, active site lid domain</td>\n",
       "    </tr>\n",
       "    <tr>\n",
       "      <th>28</th>\n",
       "      <td>PC138</td>\n",
       "      <td>380</td>\n",
       "      <td>PC65</td>\n",
       "      <td>COMPASS-Shg1</td>\n",
       "    </tr>\n",
       "    <tr>\n",
       "      <th>29</th>\n",
       "      <td>PC148</td>\n",
       "      <td>843</td>\n",
       "      <td>PC259</td>\n",
       "      <td>Enolase_C; Enolase, C-terminal TIM barrel domain</td>\n",
       "    </tr>\n",
       "    <tr>\n",
       "      <th>30</th>\n",
       "      <td>PC151</td>\n",
       "      <td>2025</td>\n",
       "      <td>PC130</td>\n",
       "      <td>RNA_pol_Rpb2_7; RNA polymerase Rpb2, domain 7</td>\n",
       "    </tr>\n",
       "    <tr>\n",
       "      <th>31</th>\n",
       "      <td>PC170</td>\n",
       "      <td>613</td>\n",
       "      <td>PC123</td>\n",
       "      <td>DNA_pol_B; DNA-directed DNA polymerase, family...</td>\n",
       "    </tr>\n",
       "    <tr>\n",
       "      <th>32</th>\n",
       "      <td>PC171</td>\n",
       "      <td>618</td>\n",
       "      <td>PC175</td>\n",
       "      <td>DNA_pol_alpha_N; DNA polymerase alpha catalyti...</td>\n",
       "    </tr>\n",
       "    <tr>\n",
       "      <th>33</th>\n",
       "      <td>PC176</td>\n",
       "      <td>510</td>\n",
       "      <td>PC94</td>\n",
       "      <td>Cpn10; GroES chaperonin family</td>\n",
       "    </tr>\n",
       "    <tr>\n",
       "      <th>34</th>\n",
       "      <td>PC182</td>\n",
       "      <td>32</td>\n",
       "      <td>PC127</td>\n",
       "      <td>AATF-Che1; AATF leucine zipper-containing domain</td>\n",
       "    </tr>\n",
       "    <tr>\n",
       "      <th>35</th>\n",
       "      <td>PC192</td>\n",
       "      <td>321</td>\n",
       "      <td>PC70</td>\n",
       "      <td>CASP_C; CASP, C-terminal</td>\n",
       "    </tr>\n",
       "    <tr>\n",
       "      <th>36</th>\n",
       "      <td>PC209</td>\n",
       "      <td>161</td>\n",
       "      <td>PC151</td>\n",
       "      <td>Acyl-CoA_ox_N; Acyl-coenzyme A oxidase, N-term...</td>\n",
       "    </tr>\n",
       "    <tr>\n",
       "      <th>37</th>\n",
       "      <td>PC276</td>\n",
       "      <td>161</td>\n",
       "      <td>PC151</td>\n",
       "      <td>Acyl-CoA_ox_N; Acyl-coenzyme A oxidase, N-term...</td>\n",
       "    </tr>\n",
       "    <tr>\n",
       "      <th>38</th>\n",
       "      <td>PC210</td>\n",
       "      <td>1352</td>\n",
       "      <td>PC129</td>\n",
       "      <td>MATalpha_HMGbox; Mating-type protein MAT alpha...</td>\n",
       "    </tr>\n",
       "    <tr>\n",
       "      <th>39</th>\n",
       "      <td>PC210</td>\n",
       "      <td>1352</td>\n",
       "      <td>PC132</td>\n",
       "      <td>MATalpha_HMGbox; Mating-type protein MAT alpha...</td>\n",
       "    </tr>\n",
       "    <tr>\n",
       "      <th>40</th>\n",
       "      <td>PC228</td>\n",
       "      <td>2568</td>\n",
       "      <td>PC148</td>\n",
       "      <td>TEA; TEA/ATTS domain</td>\n",
       "    </tr>\n",
       "    <tr>\n",
       "      <th>41</th>\n",
       "      <td>PC235</td>\n",
       "      <td>1745</td>\n",
       "      <td>PC220</td>\n",
       "      <td>PHM7_cyt; 10TM putative phosphate transporter,...</td>\n",
       "    </tr>\n",
       "    <tr>\n",
       "      <th>42</th>\n",
       "      <td>PC235</td>\n",
       "      <td>1745</td>\n",
       "      <td>PC241</td>\n",
       "      <td>PHM7_cyt; 10TM putative phosphate transporter,...</td>\n",
       "    </tr>\n",
       "    <tr>\n",
       "      <th>43</th>\n",
       "      <td>PC245</td>\n",
       "      <td>1745</td>\n",
       "      <td>PC220</td>\n",
       "      <td>PHM7_cyt; 10TM putative phosphate transporter,...</td>\n",
       "    </tr>\n",
       "    <tr>\n",
       "      <th>44</th>\n",
       "      <td>PC245</td>\n",
       "      <td>1745</td>\n",
       "      <td>PC241</td>\n",
       "      <td>PHM7_cyt; 10TM putative phosphate transporter,...</td>\n",
       "    </tr>\n",
       "    <tr>\n",
       "      <th>45</th>\n",
       "      <td>PC248</td>\n",
       "      <td>1745</td>\n",
       "      <td>PC220</td>\n",
       "      <td>PHM7_cyt; 10TM putative phosphate transporter,...</td>\n",
       "    </tr>\n",
       "    <tr>\n",
       "      <th>46</th>\n",
       "      <td>PC248</td>\n",
       "      <td>1745</td>\n",
       "      <td>PC241</td>\n",
       "      <td>PHM7_cyt; 10TM putative phosphate transporter,...</td>\n",
       "    </tr>\n",
       "    <tr>\n",
       "      <th>47</th>\n",
       "      <td>PC236</td>\n",
       "      <td>1013</td>\n",
       "      <td>PC91</td>\n",
       "      <td>GTP_EFTU_D3; Translation elongation factor EFT...</td>\n",
       "    </tr>\n",
       "    <tr>\n",
       "      <th>48</th>\n",
       "      <td>PC236</td>\n",
       "      <td>1013</td>\n",
       "      <td>PC96</td>\n",
       "      <td>GTP_EFTU_D3; Translation elongation factor EFT...</td>\n",
       "    </tr>\n",
       "    <tr>\n",
       "      <th>49</th>\n",
       "      <td>PC236</td>\n",
       "      <td>1013</td>\n",
       "      <td>PC98</td>\n",
       "      <td>GTP_EFTU_D3; Translation elongation factor EFT...</td>\n",
       "    </tr>\n",
       "    <tr>\n",
       "      <th>50</th>\n",
       "      <td>PC239</td>\n",
       "      <td>1013</td>\n",
       "      <td>PC91</td>\n",
       "      <td>GTP_EFTU_D3; Translation elongation factor EFT...</td>\n",
       "    </tr>\n",
       "    <tr>\n",
       "      <th>51</th>\n",
       "      <td>PC239</td>\n",
       "      <td>1013</td>\n",
       "      <td>PC96</td>\n",
       "      <td>GTP_EFTU_D3; Translation elongation factor EFT...</td>\n",
       "    </tr>\n",
       "    <tr>\n",
       "      <th>52</th>\n",
       "      <td>PC239</td>\n",
       "      <td>1013</td>\n",
       "      <td>PC98</td>\n",
       "      <td>GTP_EFTU_D3; Translation elongation factor EFT...</td>\n",
       "    </tr>\n",
       "    <tr>\n",
       "      <th>53</th>\n",
       "      <td>PC237</td>\n",
       "      <td>2483</td>\n",
       "      <td>PC264</td>\n",
       "      <td>Sirohm_synth_M; Siroheme synthase, central domain</td>\n",
       "    </tr>\n",
       "    <tr>\n",
       "      <th>54</th>\n",
       "      <td>PC242</td>\n",
       "      <td>867</td>\n",
       "      <td>PC126</td>\n",
       "      <td>FAD_binding_7; Cryptochrome/DNA photolyase, FA...</td>\n",
       "    </tr>\n",
       "    <tr>\n",
       "      <th>55</th>\n",
       "      <td>PC275</td>\n",
       "      <td>1728</td>\n",
       "      <td>PC207</td>\n",
       "      <td>PEX-1N; Peroxisome biogenesis factor 1, N-term...</td>\n",
       "    </tr>\n",
       "  </tbody>\n",
       "</table>\n",
       "</div>"
      ],
      "text/plain": [
       "   pca-component_x  domain-number pca-component_y  \\\n",
       "0              PC6            257            PC23   \n",
       "1             PC10              3            PC17   \n",
       "2             PC24           1824            PC67   \n",
       "3             PC28            341            PC19   \n",
       "4             PC29            876            PC40   \n",
       "5             PC36            983            PC28   \n",
       "6             PC40            983            PC28   \n",
       "7             PC64           2007            PC73   \n",
       "8             PC64           2007            PC74   \n",
       "9             PC69            824           PC153   \n",
       "10            PC71            696            PC61   \n",
       "11            PC78           1169            PC92   \n",
       "12            PC79            118           PC172   \n",
       "13            PC79            118           PC179   \n",
       "14            PC79            118           PC181   \n",
       "15            PC84              6           PC115   \n",
       "16            PC87            281            PC50   \n",
       "17            PC88            281            PC50   \n",
       "18            PC96           2056           PC263   \n",
       "19           PC110           1267           PC158   \n",
       "20           PC110           1267           PC159   \n",
       "21           PC120           2700           PC222   \n",
       "22           PC123           1449            PC63   \n",
       "23           PC123           1449            PC64   \n",
       "24           PC134            818           PC187   \n",
       "25           PC136           1035           PC100   \n",
       "26           PC136           1035           PC107   \n",
       "27           PC137             56            PC12   \n",
       "28           PC138            380            PC65   \n",
       "29           PC148            843           PC259   \n",
       "30           PC151           2025           PC130   \n",
       "31           PC170            613           PC123   \n",
       "32           PC171            618           PC175   \n",
       "33           PC176            510            PC94   \n",
       "34           PC182             32           PC127   \n",
       "35           PC192            321            PC70   \n",
       "36           PC209            161           PC151   \n",
       "37           PC276            161           PC151   \n",
       "38           PC210           1352           PC129   \n",
       "39           PC210           1352           PC132   \n",
       "40           PC228           2568           PC148   \n",
       "41           PC235           1745           PC220   \n",
       "42           PC235           1745           PC241   \n",
       "43           PC245           1745           PC220   \n",
       "44           PC245           1745           PC241   \n",
       "45           PC248           1745           PC220   \n",
       "46           PC248           1745           PC241   \n",
       "47           PC236           1013            PC91   \n",
       "48           PC236           1013            PC96   \n",
       "49           PC236           1013            PC98   \n",
       "50           PC239           1013            PC91   \n",
       "51           PC239           1013            PC96   \n",
       "52           PC239           1013            PC98   \n",
       "53           PC237           2483           PC264   \n",
       "54           PC242            867           PC126   \n",
       "55           PC275           1728           PC207   \n",
       "\n",
       "                                   domain-description  \n",
       "0                 BAR_2; BAR domain-containing family  \n",
       "1   2-Hacid_dh_C; D-isomer specific 2-hydroxyacid ...  \n",
       "2          PRP21_like_P; Splicing factor 3A subunit 1  \n",
       "3   CDP-OH_P_transf; CDP-alcohol phosphatidyltrans...  \n",
       "4   FDX-ACB; Ferrodoxin-fold anticodon-binding domain  \n",
       "5       GHMP_kinases_N; GHMP kinase N-terminal domain  \n",
       "6       GHMP_kinases_N; GHMP kinase N-terminal domain  \n",
       "7   RNA_pol_L_2; DNA-directed RNA polymerase, RBP1...  \n",
       "8   RNA_pol_L_2; DNA-directed RNA polymerase, RBP1...  \n",
       "9   ETF; Electron transfer flavoprotein, alpha/bet...  \n",
       "10       DUF3402; Protein of unknown function DUF3402  \n",
       "11  HisG; ATP phosphoribosyltransferase, catalytic...  \n",
       "12  ATP-grasp; ATP-grasp fold, ATP-dependent carbo...  \n",
       "13  ATP-grasp; ATP-grasp fold, ATP-dependent carbo...  \n",
       "14  ATP-grasp; ATP-grasp fold, ATP-dependent carbo...  \n",
       "15                                     2OG-FeII_Oxy_4  \n",
       "16                                BRCT_2; BRCT domain  \n",
       "17                                BRCT_2; BRCT domain  \n",
       "18                  RRM; RNA-binding domain, putative  \n",
       "19                                            Kelch_3  \n",
       "20                                            Kelch_3  \n",
       "21             Trehalose_PPase; Trehalose-phosphatase  \n",
       "22               Med4; Mediator complex, subunit Med4  \n",
       "23               Med4; Mediator complex, subunit Med4  \n",
       "24                                            ERGIC_N  \n",
       "25  Gln-synt_N; Glutamine synthetase, beta-Grasp d...  \n",
       "26  Gln-synt_N; Glutamine synthetase, beta-Grasp d...  \n",
       "27  ADK_lid; Adenylate kinase, active site lid domain  \n",
       "28                                       COMPASS-Shg1  \n",
       "29   Enolase_C; Enolase, C-terminal TIM barrel domain  \n",
       "30      RNA_pol_Rpb2_7; RNA polymerase Rpb2, domain 7  \n",
       "31  DNA_pol_B; DNA-directed DNA polymerase, family...  \n",
       "32  DNA_pol_alpha_N; DNA polymerase alpha catalyti...  \n",
       "33                     Cpn10; GroES chaperonin family  \n",
       "34   AATF-Che1; AATF leucine zipper-containing domain  \n",
       "35                           CASP_C; CASP, C-terminal  \n",
       "36  Acyl-CoA_ox_N; Acyl-coenzyme A oxidase, N-term...  \n",
       "37  Acyl-CoA_ox_N; Acyl-coenzyme A oxidase, N-term...  \n",
       "38  MATalpha_HMGbox; Mating-type protein MAT alpha...  \n",
       "39  MATalpha_HMGbox; Mating-type protein MAT alpha...  \n",
       "40                               TEA; TEA/ATTS domain  \n",
       "41  PHM7_cyt; 10TM putative phosphate transporter,...  \n",
       "42  PHM7_cyt; 10TM putative phosphate transporter,...  \n",
       "43  PHM7_cyt; 10TM putative phosphate transporter,...  \n",
       "44  PHM7_cyt; 10TM putative phosphate transporter,...  \n",
       "45  PHM7_cyt; 10TM putative phosphate transporter,...  \n",
       "46  PHM7_cyt; 10TM putative phosphate transporter,...  \n",
       "47  GTP_EFTU_D3; Translation elongation factor EFT...  \n",
       "48  GTP_EFTU_D3; Translation elongation factor EFT...  \n",
       "49  GTP_EFTU_D3; Translation elongation factor EFT...  \n",
       "50  GTP_EFTU_D3; Translation elongation factor EFT...  \n",
       "51  GTP_EFTU_D3; Translation elongation factor EFT...  \n",
       "52  GTP_EFTU_D3; Translation elongation factor EFT...  \n",
       "53  Sirohm_synth_M; Siroheme synthase, central domain  \n",
       "54  FAD_binding_7; Cryptochrome/DNA photolyase, FA...  \n",
       "55  PEX-1N; Peroxisome biogenesis factor 1, N-term...  "
      ]
     },
     "execution_count": 22,
     "metadata": {},
     "output_type": "execute_result"
    }
   ],
   "source": [
    "df_shared_domains=pd.merge(df_sl,df_nsl,how='inner',on='domain-number')\n",
    "domains_name=np.unique(data_domains['domain-name'])\n",
    "domains_description=np.unique(data_domains['domain-descrip'])\n",
    "\n",
    "df_shared_domains['domain-description']=domains_description[df_shared_domains['domain-number']]\n",
    "\n",
    "\n",
    "df_shared_domains"
   ]
  },
  {
   "cell_type": "code",
   "execution_count": 23,
   "metadata": {
    "execution": {
     "iopub.execute_input": "2020-07-14T06:25:45.167720Z",
     "iopub.status.busy": "2020-07-14T06:25:45.166288Z",
     "iopub.status.idle": "2020-07-14T06:25:45.171386Z",
     "shell.execute_reply": "2020-07-14T06:25:45.172254Z"
    }
   },
   "outputs": [
    {
     "name": "stdout",
     "output_type": "stream",
     "text": [
      "The number of shared domains between SL and nSL pairs,after PCA, is =  56 out of 546 so the 10.256410256410257 %\n"
     ]
    }
   ],
   "source": [
    "print('The number of shared domains between SL and nSL pairs,after PCA, is = ',len(df_shared_domains), 'out of', len(df_sl)+len(df_nsl), 'so the',100*len(df_shared_domains)/(len(df_sl)+len(df_nsl)),'%')"
   ]
  },
  {
   "cell_type": "markdown",
   "metadata": {},
   "source": [
    "## Domains exclusive to SL"
   ]
  },
  {
   "cell_type": "code",
   "execution_count": 24,
   "metadata": {
    "execution": {
     "iopub.execute_input": "2020-07-14T06:25:45.178585Z",
     "iopub.status.busy": "2020-07-14T06:25:45.177878Z",
     "iopub.status.idle": "2020-07-14T06:25:45.206692Z",
     "shell.execute_reply": "2020-07-14T06:25:45.207521Z"
    }
   },
   "outputs": [
    {
     "data": {
      "text/html": [
       "<div>\n",
       "<style scoped>\n",
       "    .dataframe tbody tr th:only-of-type {\n",
       "        vertical-align: middle;\n",
       "    }\n",
       "\n",
       "    .dataframe tbody tr th {\n",
       "        vertical-align: top;\n",
       "    }\n",
       "\n",
       "    .dataframe thead th {\n",
       "        text-align: right;\n",
       "    }\n",
       "</style>\n",
       "<table border=\"1\" class=\"dataframe\">\n",
       "  <thead>\n",
       "    <tr style=\"text-align: right;\">\n",
       "      <th></th>\n",
       "      <th>pca-component_x</th>\n",
       "      <th>domain-number</th>\n",
       "      <th>pca-component_y</th>\n",
       "      <th>domain-description</th>\n",
       "    </tr>\n",
       "  </thead>\n",
       "  <tbody>\n",
       "    <tr>\n",
       "      <th>0</th>\n",
       "      <td>PC0</td>\n",
       "      <td>135</td>\n",
       "      <td>NaN</td>\n",
       "      <td>ATP-synt_ab_Xtn; ATPsynthase alpha/beta subuni...</td>\n",
       "    </tr>\n",
       "    <tr>\n",
       "      <th>1</th>\n",
       "      <td>PC1</td>\n",
       "      <td>142</td>\n",
       "      <td>NaN</td>\n",
       "      <td>ATP_synt_H; ATPase, V0 complex, subunit e1/e2</td>\n",
       "    </tr>\n",
       "    <tr>\n",
       "      <th>2</th>\n",
       "      <td>PC2</td>\n",
       "      <td>305</td>\n",
       "      <td>NaN</td>\n",
       "      <td>Brr6_like_C_C; Brl1/Brr6 domain</td>\n",
       "    </tr>\n",
       "    <tr>\n",
       "      <th>3</th>\n",
       "      <td>PC3</td>\n",
       "      <td>221</td>\n",
       "      <td>NaN</td>\n",
       "      <td>Apq12; Nuclear pore assembly and biogenesis pr...</td>\n",
       "    </tr>\n",
       "    <tr>\n",
       "      <th>4</th>\n",
       "      <td>PC4</td>\n",
       "      <td>689</td>\n",
       "      <td>NaN</td>\n",
       "      <td>DUF3128; Protein of unknown function DUF3128</td>\n",
       "    </tr>\n",
       "    <tr>\n",
       "      <th>...</th>\n",
       "      <td>...</td>\n",
       "      <td>...</td>\n",
       "      <td>...</td>\n",
       "      <td>...</td>\n",
       "    </tr>\n",
       "    <tr>\n",
       "      <th>287</th>\n",
       "      <td>PC273</td>\n",
       "      <td>2492</td>\n",
       "      <td>NaN</td>\n",
       "      <td>Sod_Cu; Superoxide dismutase, copper/zinc bind...</td>\n",
       "    </tr>\n",
       "    <tr>\n",
       "      <th>288</th>\n",
       "      <td>PC274</td>\n",
       "      <td>2492</td>\n",
       "      <td>NaN</td>\n",
       "      <td>Sod_Cu; Superoxide dismutase, copper/zinc bind...</td>\n",
       "    </tr>\n",
       "    <tr>\n",
       "      <th>291</th>\n",
       "      <td>PC277</td>\n",
       "      <td>290</td>\n",
       "      <td>NaN</td>\n",
       "      <td>Band_7; Band 7 domain</td>\n",
       "    </tr>\n",
       "    <tr>\n",
       "      <th>292</th>\n",
       "      <td>PC278</td>\n",
       "      <td>1046</td>\n",
       "      <td>NaN</td>\n",
       "      <td>Glyco_hydro_18; Glycoside hydrolase family 18,...</td>\n",
       "    </tr>\n",
       "    <tr>\n",
       "      <th>293</th>\n",
       "      <td>PC279</td>\n",
       "      <td>819</td>\n",
       "      <td>NaN</td>\n",
       "      <td>ERO1; Endoplasmic reticulum oxidoreductin 1</td>\n",
       "    </tr>\n",
       "  </tbody>\n",
       "</table>\n",
       "<p>238 rows × 4 columns</p>\n",
       "</div>"
      ],
      "text/plain": [
       "    pca-component_x  domain-number pca-component_y  \\\n",
       "0               PC0            135             NaN   \n",
       "1               PC1            142             NaN   \n",
       "2               PC2            305             NaN   \n",
       "3               PC3            221             NaN   \n",
       "4               PC4            689             NaN   \n",
       "..              ...            ...             ...   \n",
       "287           PC273           2492             NaN   \n",
       "288           PC274           2492             NaN   \n",
       "291           PC277            290             NaN   \n",
       "292           PC278           1046             NaN   \n",
       "293           PC279            819             NaN   \n",
       "\n",
       "                                    domain-description  \n",
       "0    ATP-synt_ab_Xtn; ATPsynthase alpha/beta subuni...  \n",
       "1        ATP_synt_H; ATPase, V0 complex, subunit e1/e2  \n",
       "2                      Brr6_like_C_C; Brl1/Brr6 domain  \n",
       "3    Apq12; Nuclear pore assembly and biogenesis pr...  \n",
       "4         DUF3128; Protein of unknown function DUF3128  \n",
       "..                                                 ...  \n",
       "287  Sod_Cu; Superoxide dismutase, copper/zinc bind...  \n",
       "288  Sod_Cu; Superoxide dismutase, copper/zinc bind...  \n",
       "291                              Band_7; Band 7 domain  \n",
       "292  Glyco_hydro_18; Glycoside hydrolase family 18,...  \n",
       "293        ERO1; Endoplasmic reticulum oxidoreductin 1  \n",
       "\n",
       "[238 rows x 4 columns]"
      ]
     },
     "execution_count": 24,
     "metadata": {},
     "output_type": "execute_result"
    }
   ],
   "source": [
    "df_sl_exclusive=pd.merge(df_sl,df_nsl,how='left',on='domain-number')\n",
    "\n",
    "domains_name=np.unique(data_domains['domain-name'])\n",
    "domains_description=np.unique(data_domains['domain-descrip'])\n",
    "\n",
    "df_sl_exclusive['domain-description']=domains_description[df_sl_exclusive['domain-number']]\n",
    "df_sl_exclusive[pd.isnull(df_sl_exclusive['pca-component_y'])]"
   ]
  },
  {
   "cell_type": "code",
   "execution_count": 25,
   "metadata": {
    "execution": {
     "iopub.execute_input": "2020-07-14T06:25:45.213022Z",
     "iopub.status.busy": "2020-07-14T06:25:45.212394Z",
     "iopub.status.idle": "2020-07-14T06:25:45.216873Z",
     "shell.execute_reply": "2020-07-14T06:25:45.217359Z"
    }
   },
   "outputs": [
    {
     "name": "stdout",
     "output_type": "stream",
     "text": [
      "The number of exclusive domains from SL pairs, after PCA, is =  294 out of 546 so the 53.84615384615385 %\n"
     ]
    }
   ],
   "source": [
    "print('The number of exclusive domains from SL pairs, after PCA, is = ',len(df_sl_exclusive), 'out of', len(df_sl)+len(df_nsl), 'so the',100*len(df_sl_exclusive)/(len(df_sl)+len(df_nsl)),'%')"
   ]
  },
  {
   "cell_type": "code",
   "execution_count": 26,
   "metadata": {
    "execution": {
     "iopub.execute_input": "2020-07-14T06:25:45.224106Z",
     "iopub.status.busy": "2020-07-14T06:25:45.222927Z",
     "iopub.status.idle": "2020-07-14T06:25:45.253570Z",
     "shell.execute_reply": "2020-07-14T06:25:45.252706Z"
    }
   },
   "outputs": [
    {
     "data": {
      "text/html": [
       "<div>\n",
       "<style scoped>\n",
       "    .dataframe tbody tr th:only-of-type {\n",
       "        vertical-align: middle;\n",
       "    }\n",
       "\n",
       "    .dataframe tbody tr th {\n",
       "        vertical-align: top;\n",
       "    }\n",
       "\n",
       "    .dataframe thead th {\n",
       "        text-align: right;\n",
       "    }\n",
       "</style>\n",
       "<table border=\"1\" class=\"dataframe\">\n",
       "  <thead>\n",
       "    <tr style=\"text-align: right;\">\n",
       "      <th></th>\n",
       "      <th>pca-component_x</th>\n",
       "      <th>domain-number</th>\n",
       "      <th>pca-component_y</th>\n",
       "      <th>domain-description</th>\n",
       "    </tr>\n",
       "  </thead>\n",
       "  <tbody>\n",
       "    <tr>\n",
       "      <th>56</th>\n",
       "      <td>NaN</td>\n",
       "      <td>1028</td>\n",
       "      <td>PC0</td>\n",
       "      <td>GatB_Yqey; Asn/Gln amidotransferase</td>\n",
       "    </tr>\n",
       "    <tr>\n",
       "      <th>57</th>\n",
       "      <td>NaN</td>\n",
       "      <td>1252</td>\n",
       "      <td>PC1</td>\n",
       "      <td>JmjN; JmjN domain</td>\n",
       "    </tr>\n",
       "    <tr>\n",
       "      <th>58</th>\n",
       "      <td>NaN</td>\n",
       "      <td>2233</td>\n",
       "      <td>PC2</td>\n",
       "      <td>Ribosomal_S27e; Ribosomal protein S27e</td>\n",
       "    </tr>\n",
       "    <tr>\n",
       "      <th>59</th>\n",
       "      <td>NaN</td>\n",
       "      <td>464</td>\n",
       "      <td>PC3</td>\n",
       "      <td>Chitin_synth_2</td>\n",
       "    </tr>\n",
       "    <tr>\n",
       "      <th>60</th>\n",
       "      <td>NaN</td>\n",
       "      <td>134</td>\n",
       "      <td>PC4</td>\n",
       "      <td>ATP-synt_ab_N; ATPase, F1/V1/A1 complex, alpha...</td>\n",
       "    </tr>\n",
       "    <tr>\n",
       "      <th>...</th>\n",
       "      <td>...</td>\n",
       "      <td>...</td>\n",
       "      <td>...</td>\n",
       "      <td>...</td>\n",
       "    </tr>\n",
       "    <tr>\n",
       "      <th>271</th>\n",
       "      <td>NaN</td>\n",
       "      <td>2950</td>\n",
       "      <td>PC256</td>\n",
       "      <td>tRNA_bind; tRNA-binding domain</td>\n",
       "    </tr>\n",
       "    <tr>\n",
       "      <th>272</th>\n",
       "      <td>NaN</td>\n",
       "      <td>71</td>\n",
       "      <td>PC257</td>\n",
       "      <td>ALAD; Delta-aminolevulinic acid dehydratase</td>\n",
       "    </tr>\n",
       "    <tr>\n",
       "      <th>273</th>\n",
       "      <td>NaN</td>\n",
       "      <td>561</td>\n",
       "      <td>PC260</td>\n",
       "      <td>DASH_Spc34; DASH complex subunit Spc34</td>\n",
       "    </tr>\n",
       "    <tr>\n",
       "      <th>274</th>\n",
       "      <td>NaN</td>\n",
       "      <td>80</td>\n",
       "      <td>PC261</td>\n",
       "      <td>AMPKBI; Association with the SNF1 complex (ASC...</td>\n",
       "    </tr>\n",
       "    <tr>\n",
       "      <th>275</th>\n",
       "      <td>NaN</td>\n",
       "      <td>1996</td>\n",
       "      <td>PC265</td>\n",
       "      <td>RNA_Me_trans; RNA methyltransferase TK0422/Sfm1</td>\n",
       "    </tr>\n",
       "  </tbody>\n",
       "</table>\n",
       "<p>220 rows × 4 columns</p>\n",
       "</div>"
      ],
      "text/plain": [
       "    pca-component_x  domain-number pca-component_y  \\\n",
       "56              NaN           1028             PC0   \n",
       "57              NaN           1252             PC1   \n",
       "58              NaN           2233             PC2   \n",
       "59              NaN            464             PC3   \n",
       "60              NaN            134             PC4   \n",
       "..              ...            ...             ...   \n",
       "271             NaN           2950           PC256   \n",
       "272             NaN             71           PC257   \n",
       "273             NaN            561           PC260   \n",
       "274             NaN             80           PC261   \n",
       "275             NaN           1996           PC265   \n",
       "\n",
       "                                    domain-description  \n",
       "56                 GatB_Yqey; Asn/Gln amidotransferase  \n",
       "57                                   JmjN; JmjN domain  \n",
       "58              Ribosomal_S27e; Ribosomal protein S27e  \n",
       "59                                      Chitin_synth_2  \n",
       "60   ATP-synt_ab_N; ATPase, F1/V1/A1 complex, alpha...  \n",
       "..                                                 ...  \n",
       "271                     tRNA_bind; tRNA-binding domain  \n",
       "272        ALAD; Delta-aminolevulinic acid dehydratase  \n",
       "273             DASH_Spc34; DASH complex subunit Spc34  \n",
       "274  AMPKBI; Association with the SNF1 complex (ASC...  \n",
       "275    RNA_Me_trans; RNA methyltransferase TK0422/Sfm1  \n",
       "\n",
       "[220 rows x 4 columns]"
      ]
     },
     "execution_count": 26,
     "metadata": {},
     "output_type": "execute_result"
    }
   ],
   "source": [
    "df_nsl_exclusive=pd.merge(df_sl,df_nsl,how='right',on='domain-number')\n",
    "\n",
    "domains_name=np.unique(data_domains['domain-name'])\n",
    "domains_description=np.unique(data_domains['domain-descrip'])\n",
    "\n",
    "df_nsl_exclusive['domain-description']=domains_description[df_nsl_exclusive['domain-number']]\n",
    "df_nsl_exclusive[pd.isnull(df_nsl_exclusive['pca-component_x'])]"
   ]
  },
  {
   "cell_type": "code",
   "execution_count": 27,
   "metadata": {
    "execution": {
     "iopub.execute_input": "2020-07-14T06:25:45.259247Z",
     "iopub.status.busy": "2020-07-14T06:25:45.258455Z",
     "iopub.status.idle": "2020-07-14T06:25:45.264036Z",
     "shell.execute_reply": "2020-07-14T06:25:45.263413Z"
    }
   },
   "outputs": [
    {
     "name": "stdout",
     "output_type": "stream",
     "text": [
      "The number of exclusive domains from non SL pairs, after PCA, is =  276 out of 546 so the 50.54945054945055 %\n"
     ]
    }
   ],
   "source": [
    "print('The number of exclusive domains from non SL pairs, after PCA, is = ',len(df_nsl_exclusive), 'out of', len(df_sl)+len(df_nsl), 'so the',100*len(df_nsl_exclusive)/(len(df_sl)+len(df_nsl)),'%')"
   ]
  },
  {
   "cell_type": "markdown",
   "metadata": {},
   "source": [
    "## Let see to the domains-number that get repeated after the PCA analysis , and selecting the most explanatory feature by its explained variance."
   ]
  },
  {
   "cell_type": "code",
   "execution_count": 28,
   "metadata": {
    "execution": {
     "iopub.execute_input": "2020-07-14T06:25:45.284302Z",
     "iopub.status.busy": "2020-07-14T06:25:45.283599Z",
     "iopub.status.idle": "2020-07-14T06:25:45.290382Z",
     "shell.execute_reply": "2020-07-14T06:25:45.289769Z"
    }
   },
   "outputs": [],
   "source": [
    "duplicated_features_sl=df_sl[df_sl.iloc[:,1].duplicated()]\n",
    "repeated_features_sl=pd.DataFrame()\n",
    "\n",
    "domains_name=np.unique(data_domains['domain-name'])\n",
    "domains_description=np.unique(data_domains['domain-descrip'])\n",
    "\n",
    "repeated_features_sl['domain-name']=domains_name[duplicated_features_sl.iloc[:,1]] \n",
    "repeated_features_sl['domain-description']=domains_description[duplicated_features_sl.iloc[:,1]]\n",
    "\n",
    "duplicated_features_nsl=df_nsl[df_nsl.iloc[:,1].duplicated()]\n",
    "repeated_features_nsl=pd.DataFrame()\n",
    "\n",
    "repeated_features_nsl['domain-name']=domains_name[duplicated_features_nsl.iloc[:,1]] \n",
    "repeated_features_nsl['domain-description']=domains_description[duplicated_features_nsl.iloc[:,1]]"
   ]
  },
  {
   "cell_type": "code",
   "execution_count": 29,
   "metadata": {
    "execution": {
     "iopub.execute_input": "2020-07-14T06:25:45.302562Z",
     "iopub.status.busy": "2020-07-14T06:25:45.301853Z",
     "iopub.status.idle": "2020-07-14T06:25:45.307137Z",
     "shell.execute_reply": "2020-07-14T06:25:45.307626Z"
    }
   },
   "outputs": [
    {
     "name": "stderr",
     "output_type": "stream",
     "text": [
      "/usr/share/miniconda3/envs/wintest/lib/python3.7/site-packages/ipykernel_launcher.py:3: SettingWithCopyWarning: \n",
      "A value is trying to be set on a copy of a slice from a DataFrame.\n",
      "Try using .loc[row_indexer,col_indexer] = value instead\n",
      "\n",
      "See the caveats in the documentation: https://pandas.pydata.org/pandas-docs/stable/user_guide/indexing.html#returning-a-view-versus-a-copy\n",
      "  This is separate from the ipykernel package so we can avoid doing imports until\n"
     ]
    },
    {
     "data": {
      "text/plain": [
       "((40, 4), (294, 4))"
      ]
     },
     "execution_count": 29,
     "metadata": {},
     "output_type": "execute_result"
    }
   ],
   "source": [
    "only_sl_pd=pd.merge(repeated_features_sl,repeated_features_nsl,how='left',on=['domain-name'])\n",
    "data_only_sl = only_sl_pd[pd.isnull(only_sl_pd['domain-description_y'])]\n",
    "data_only_sl['domain-description']=data_only_sl['domain-description_x']\n",
    "data_only_sl.shape,df_sl_exclusive.shape"
   ]
  },
  {
   "cell_type": "code",
   "execution_count": 30,
   "metadata": {
    "execution": {
     "iopub.execute_input": "2020-07-14T06:25:45.329024Z",
     "iopub.status.busy": "2020-07-14T06:25:45.328418Z",
     "iopub.status.idle": "2020-07-14T06:25:45.331470Z",
     "shell.execute_reply": "2020-07-14T06:25:45.332211Z"
    }
   },
   "outputs": [
    {
     "data": {
      "text/html": [
       "<div>\n",
       "<style scoped>\n",
       "    .dataframe tbody tr th:only-of-type {\n",
       "        vertical-align: middle;\n",
       "    }\n",
       "\n",
       "    .dataframe tbody tr th {\n",
       "        vertical-align: top;\n",
       "    }\n",
       "\n",
       "    .dataframe thead th {\n",
       "        text-align: right;\n",
       "    }\n",
       "</style>\n",
       "<table border=\"1\" class=\"dataframe\">\n",
       "  <thead>\n",
       "    <tr style=\"text-align: right;\">\n",
       "      <th></th>\n",
       "      <th>domain-name</th>\n",
       "      <th>domain-description_x</th>\n",
       "      <th>domain-description_y</th>\n",
       "    </tr>\n",
       "  </thead>\n",
       "  <tbody>\n",
       "    <tr>\n",
       "      <th>4</th>\n",
       "      <td>PF16891</td>\n",
       "      <td>NaN</td>\n",
       "      <td>tRNA-synt_1c; Glutamyl/glutaminyl-tRNA synthet...</td>\n",
       "    </tr>\n",
       "    <tr>\n",
       "      <th>5</th>\n",
       "      <td>PF08171</td>\n",
       "      <td>NaN</td>\n",
       "      <td>PTPLA; Protein-tyrosine phosphatase-like, PTPLA</td>\n",
       "    </tr>\n",
       "    <tr>\n",
       "      <th>6</th>\n",
       "      <td>PF03439</td>\n",
       "      <td>NaN</td>\n",
       "      <td>HEM4; Tetrapyrrole biosynthesis, uroporphyrino...</td>\n",
       "    </tr>\n",
       "    <tr>\n",
       "      <th>7</th>\n",
       "      <td>PF05390</td>\n",
       "      <td>NaN</td>\n",
       "      <td>NAD_kinase; NAD kinase</td>\n",
       "    </tr>\n",
       "    <tr>\n",
       "      <th>8</th>\n",
       "      <td>PF08662</td>\n",
       "      <td>NaN</td>\n",
       "      <td>RNA_pol_Rpb2_2; RNA polymerase Rpb2, domain 2</td>\n",
       "    </tr>\n",
       "    <tr>\n",
       "      <th>9</th>\n",
       "      <td>PF04912</td>\n",
       "      <td>NaN</td>\n",
       "      <td>Med4; Mediator complex, subunit Med4</td>\n",
       "    </tr>\n",
       "    <tr>\n",
       "      <th>10</th>\n",
       "      <td>PF08647</td>\n",
       "      <td>NaN</td>\n",
       "      <td>RNA_pol_L_2; DNA-directed RNA polymerase, RBP1...</td>\n",
       "    </tr>\n",
       "    <tr>\n",
       "      <th>11</th>\n",
       "      <td>PF08355</td>\n",
       "      <td>NaN</td>\n",
       "      <td>Peroxin-22; Peroxisome assembly protein 22</td>\n",
       "    </tr>\n",
       "    <tr>\n",
       "      <th>12</th>\n",
       "      <td>PF01585</td>\n",
       "      <td>NaN</td>\n",
       "      <td>DUF2407; Domain of unknown function DUF2407 N-...</td>\n",
       "    </tr>\n",
       "    <tr>\n",
       "      <th>13</th>\n",
       "      <td>PF01585</td>\n",
       "      <td>NaN</td>\n",
       "      <td>DUF2407; Domain of unknown function DUF2407 N-...</td>\n",
       "    </tr>\n",
       "    <tr>\n",
       "      <th>14</th>\n",
       "      <td>PF03062</td>\n",
       "      <td>NaN</td>\n",
       "      <td>Gln-synt_N; Glutamine synthetase, beta-Grasp d...</td>\n",
       "    </tr>\n",
       "    <tr>\n",
       "      <th>15</th>\n",
       "      <td>PF04091</td>\n",
       "      <td>NaN</td>\n",
       "      <td>Ketoacyl-synt_C; Beta-ketoacyl synthase, C-ter...</td>\n",
       "    </tr>\n",
       "    <tr>\n",
       "      <th>16</th>\n",
       "      <td>PF12569</td>\n",
       "      <td>NaN</td>\n",
       "      <td>Sortilin_C; Sortilin, C-terminal</td>\n",
       "    </tr>\n",
       "    <tr>\n",
       "      <th>17</th>\n",
       "      <td>PF03876</td>\n",
       "      <td>NaN</td>\n",
       "      <td>Hydantoinase_B; Hydantoinase B/oxoprolinase</td>\n",
       "    </tr>\n",
       "    <tr>\n",
       "      <th>18</th>\n",
       "      <td>PF12937</td>\n",
       "      <td>NaN</td>\n",
       "      <td>TFIIF_alpha; Transcription initiation factor I...</td>\n",
       "    </tr>\n",
       "    <tr>\n",
       "      <th>19</th>\n",
       "      <td>PF04427</td>\n",
       "      <td>NaN</td>\n",
       "      <td>MATalpha_HMGbox; Mating-type protein MAT alpha...</td>\n",
       "    </tr>\n",
       "    <tr>\n",
       "      <th>20</th>\n",
       "      <td>PF08214</td>\n",
       "      <td>NaN</td>\n",
       "      <td>PXA; Phox-associated domain</td>\n",
       "    </tr>\n",
       "    <tr>\n",
       "      <th>21</th>\n",
       "      <td>PF16282</td>\n",
       "      <td>NaN</td>\n",
       "      <td>YjeF_N; YjeF N-terminal domain</td>\n",
       "    </tr>\n",
       "    <tr>\n",
       "      <th>22</th>\n",
       "      <td>PF02996</td>\n",
       "      <td>NaN</td>\n",
       "      <td>Gal_mutarotas_2; Glycoside hydrolase family 31...</td>\n",
       "    </tr>\n",
       "    <tr>\n",
       "      <th>23</th>\n",
       "      <td>PF04084</td>\n",
       "      <td>NaN</td>\n",
       "      <td>Kelch_3</td>\n",
       "    </tr>\n",
       "    <tr>\n",
       "      <th>24</th>\n",
       "      <td>PF04051</td>\n",
       "      <td>NaN</td>\n",
       "      <td>JAB; JAB1/MPN/MOV34 metalloenzyme domain</td>\n",
       "    </tr>\n",
       "    <tr>\n",
       "      <th>25</th>\n",
       "      <td>PF09346</td>\n",
       "      <td>NaN</td>\n",
       "      <td>RasGAP; Ras GTPase-activating protein</td>\n",
       "    </tr>\n",
       "    <tr>\n",
       "      <th>26</th>\n",
       "      <td>PF12550</td>\n",
       "      <td>NaN</td>\n",
       "      <td>Sortilin-Vps10; Sortilin, N-terminal</td>\n",
       "    </tr>\n",
       "    <tr>\n",
       "      <th>27</th>\n",
       "      <td>PF04088</td>\n",
       "      <td>NaN</td>\n",
       "      <td>Kelch_5</td>\n",
       "    </tr>\n",
       "    <tr>\n",
       "      <th>28</th>\n",
       "      <td>PF10193</td>\n",
       "      <td>NaN</td>\n",
       "      <td>Ribosomal_L4; Ribosomal protein L4/L1e</td>\n",
       "    </tr>\n",
       "    <tr>\n",
       "      <th>29</th>\n",
       "      <td>PF00244</td>\n",
       "      <td>NaN</td>\n",
       "      <td>ATP-grasp; ATP-grasp fold, ATP-dependent carbo...</td>\n",
       "    </tr>\n",
       "    <tr>\n",
       "      <th>30</th>\n",
       "      <td>PF00244</td>\n",
       "      <td>NaN</td>\n",
       "      <td>ATP-grasp; ATP-grasp fold, ATP-dependent carbo...</td>\n",
       "    </tr>\n",
       "    <tr>\n",
       "      <th>31</th>\n",
       "      <td>PF00076</td>\n",
       "      <td>NaN</td>\n",
       "      <td>AAR2; A1 cistron-splicing factor, AAR2</td>\n",
       "    </tr>\n",
       "    <tr>\n",
       "      <th>32</th>\n",
       "      <td>PF02441</td>\n",
       "      <td>NaN</td>\n",
       "      <td>FMN_dh; FMN-dependent dehydrogenase</td>\n",
       "    </tr>\n",
       "    <tr>\n",
       "      <th>33</th>\n",
       "      <td>PF08114</td>\n",
       "      <td>NaN</td>\n",
       "      <td>PRKCSH; Glucosidase II beta subunit-like</td>\n",
       "    </tr>\n",
       "    <tr>\n",
       "      <th>34</th>\n",
       "      <td>PF00166</td>\n",
       "      <td>NaN</td>\n",
       "      <td>ALO; D-arabinono-1,4-lactone oxidase</td>\n",
       "    </tr>\n",
       "    <tr>\n",
       "      <th>35</th>\n",
       "      <td>PF00166</td>\n",
       "      <td>NaN</td>\n",
       "      <td>ALO; D-arabinono-1,4-lactone oxidase</td>\n",
       "    </tr>\n",
       "    <tr>\n",
       "      <th>36</th>\n",
       "      <td>PF00166</td>\n",
       "      <td>NaN</td>\n",
       "      <td>ALO; D-arabinono-1,4-lactone oxidase</td>\n",
       "    </tr>\n",
       "    <tr>\n",
       "      <th>37</th>\n",
       "      <td>PF01073</td>\n",
       "      <td>NaN</td>\n",
       "      <td>Clathrin; Clathrin, heavy chain/VPS, 7-fold re...</td>\n",
       "    </tr>\n",
       "    <tr>\n",
       "      <th>38</th>\n",
       "      <td>PF01073</td>\n",
       "      <td>NaN</td>\n",
       "      <td>Clathrin; Clathrin, heavy chain/VPS, 7-fold re...</td>\n",
       "    </tr>\n",
       "    <tr>\n",
       "      <th>39</th>\n",
       "      <td>PF04281</td>\n",
       "      <td>NaN</td>\n",
       "      <td>Lsm_interact; LSM-interacting domain</td>\n",
       "    </tr>\n",
       "    <tr>\n",
       "      <th>40</th>\n",
       "      <td>PF05383</td>\n",
       "      <td>NaN</td>\n",
       "      <td>NAD_binding_7; Sirohaem synthase, N-terminal</td>\n",
       "    </tr>\n",
       "    <tr>\n",
       "      <th>41</th>\n",
       "      <td>PF04511</td>\n",
       "      <td>NaN</td>\n",
       "      <td>MIF4G; MIF4G-like, type 3</td>\n",
       "    </tr>\n",
       "    <tr>\n",
       "      <th>42</th>\n",
       "      <td>PF00318</td>\n",
       "      <td>NaN</td>\n",
       "      <td>Aconitase_C; Aconitase A/isopropylmalate dehyd...</td>\n",
       "    </tr>\n",
       "    <tr>\n",
       "      <th>43</th>\n",
       "      <td>PF07817</td>\n",
       "      <td>NaN</td>\n",
       "      <td>PIG-L; N-acetylglucosaminyl phosphatidylinosit...</td>\n",
       "    </tr>\n",
       "    <tr>\n",
       "      <th>44</th>\n",
       "      <td>PF07817</td>\n",
       "      <td>NaN</td>\n",
       "      <td>PIG-L; N-acetylglucosaminyl phosphatidylinosit...</td>\n",
       "    </tr>\n",
       "    <tr>\n",
       "      <th>45</th>\n",
       "      <td>PF08729</td>\n",
       "      <td>NaN</td>\n",
       "      <td>RNase_HII; Ribonuclease HII/HIII domain</td>\n",
       "    </tr>\n",
       "    <tr>\n",
       "      <th>46</th>\n",
       "      <td>PF07491</td>\n",
       "      <td>NaN</td>\n",
       "      <td>PD40; WD40-like Beta Propeller</td>\n",
       "    </tr>\n",
       "    <tr>\n",
       "      <th>47</th>\n",
       "      <td>PF00241</td>\n",
       "      <td>NaN</td>\n",
       "      <td>ATP-cone; ATP-cone domain</td>\n",
       "    </tr>\n",
       "    <tr>\n",
       "      <th>48</th>\n",
       "      <td>PF01015</td>\n",
       "      <td>NaN</td>\n",
       "      <td>Ceramidase</td>\n",
       "    </tr>\n",
       "    <tr>\n",
       "      <th>49</th>\n",
       "      <td>PF01221</td>\n",
       "      <td>NaN</td>\n",
       "      <td>DASH_Dad1; DASH complex subunit Dad1</td>\n",
       "    </tr>\n",
       "    <tr>\n",
       "      <th>50</th>\n",
       "      <td>PF06699</td>\n",
       "      <td>NaN</td>\n",
       "      <td>Opy2; Membrane anchor Opy2, N-terminal</td>\n",
       "    </tr>\n",
       "    <tr>\n",
       "      <th>51</th>\n",
       "      <td>PF01853</td>\n",
       "      <td>NaN</td>\n",
       "      <td>Dopey_N; Dopey, N-terminal</td>\n",
       "    </tr>\n",
       "  </tbody>\n",
       "</table>\n",
       "</div>"
      ],
      "text/plain": [
       "   domain-name domain-description_x  \\\n",
       "4      PF16891                  NaN   \n",
       "5      PF08171                  NaN   \n",
       "6      PF03439                  NaN   \n",
       "7      PF05390                  NaN   \n",
       "8      PF08662                  NaN   \n",
       "9      PF04912                  NaN   \n",
       "10     PF08647                  NaN   \n",
       "11     PF08355                  NaN   \n",
       "12     PF01585                  NaN   \n",
       "13     PF01585                  NaN   \n",
       "14     PF03062                  NaN   \n",
       "15     PF04091                  NaN   \n",
       "16     PF12569                  NaN   \n",
       "17     PF03876                  NaN   \n",
       "18     PF12937                  NaN   \n",
       "19     PF04427                  NaN   \n",
       "20     PF08214                  NaN   \n",
       "21     PF16282                  NaN   \n",
       "22     PF02996                  NaN   \n",
       "23     PF04084                  NaN   \n",
       "24     PF04051                  NaN   \n",
       "25     PF09346                  NaN   \n",
       "26     PF12550                  NaN   \n",
       "27     PF04088                  NaN   \n",
       "28     PF10193                  NaN   \n",
       "29     PF00244                  NaN   \n",
       "30     PF00244                  NaN   \n",
       "31     PF00076                  NaN   \n",
       "32     PF02441                  NaN   \n",
       "33     PF08114                  NaN   \n",
       "34     PF00166                  NaN   \n",
       "35     PF00166                  NaN   \n",
       "36     PF00166                  NaN   \n",
       "37     PF01073                  NaN   \n",
       "38     PF01073                  NaN   \n",
       "39     PF04281                  NaN   \n",
       "40     PF05383                  NaN   \n",
       "41     PF04511                  NaN   \n",
       "42     PF00318                  NaN   \n",
       "43     PF07817                  NaN   \n",
       "44     PF07817                  NaN   \n",
       "45     PF08729                  NaN   \n",
       "46     PF07491                  NaN   \n",
       "47     PF00241                  NaN   \n",
       "48     PF01015                  NaN   \n",
       "49     PF01221                  NaN   \n",
       "50     PF06699                  NaN   \n",
       "51     PF01853                  NaN   \n",
       "\n",
       "                                 domain-description_y  \n",
       "4   tRNA-synt_1c; Glutamyl/glutaminyl-tRNA synthet...  \n",
       "5     PTPLA; Protein-tyrosine phosphatase-like, PTPLA  \n",
       "6   HEM4; Tetrapyrrole biosynthesis, uroporphyrino...  \n",
       "7                              NAD_kinase; NAD kinase  \n",
       "8       RNA_pol_Rpb2_2; RNA polymerase Rpb2, domain 2  \n",
       "9                Med4; Mediator complex, subunit Med4  \n",
       "10  RNA_pol_L_2; DNA-directed RNA polymerase, RBP1...  \n",
       "11         Peroxin-22; Peroxisome assembly protein 22  \n",
       "12  DUF2407; Domain of unknown function DUF2407 N-...  \n",
       "13  DUF2407; Domain of unknown function DUF2407 N-...  \n",
       "14  Gln-synt_N; Glutamine synthetase, beta-Grasp d...  \n",
       "15  Ketoacyl-synt_C; Beta-ketoacyl synthase, C-ter...  \n",
       "16                   Sortilin_C; Sortilin, C-terminal  \n",
       "17        Hydantoinase_B; Hydantoinase B/oxoprolinase  \n",
       "18  TFIIF_alpha; Transcription initiation factor I...  \n",
       "19  MATalpha_HMGbox; Mating-type protein MAT alpha...  \n",
       "20                        PXA; Phox-associated domain  \n",
       "21                     YjeF_N; YjeF N-terminal domain  \n",
       "22  Gal_mutarotas_2; Glycoside hydrolase family 31...  \n",
       "23                                            Kelch_3  \n",
       "24           JAB; JAB1/MPN/MOV34 metalloenzyme domain  \n",
       "25              RasGAP; Ras GTPase-activating protein  \n",
       "26               Sortilin-Vps10; Sortilin, N-terminal  \n",
       "27                                            Kelch_5  \n",
       "28             Ribosomal_L4; Ribosomal protein L4/L1e  \n",
       "29  ATP-grasp; ATP-grasp fold, ATP-dependent carbo...  \n",
       "30  ATP-grasp; ATP-grasp fold, ATP-dependent carbo...  \n",
       "31             AAR2; A1 cistron-splicing factor, AAR2  \n",
       "32                FMN_dh; FMN-dependent dehydrogenase  \n",
       "33           PRKCSH; Glucosidase II beta subunit-like  \n",
       "34               ALO; D-arabinono-1,4-lactone oxidase  \n",
       "35               ALO; D-arabinono-1,4-lactone oxidase  \n",
       "36               ALO; D-arabinono-1,4-lactone oxidase  \n",
       "37  Clathrin; Clathrin, heavy chain/VPS, 7-fold re...  \n",
       "38  Clathrin; Clathrin, heavy chain/VPS, 7-fold re...  \n",
       "39               Lsm_interact; LSM-interacting domain  \n",
       "40       NAD_binding_7; Sirohaem synthase, N-terminal  \n",
       "41                          MIF4G; MIF4G-like, type 3  \n",
       "42  Aconitase_C; Aconitase A/isopropylmalate dehyd...  \n",
       "43  PIG-L; N-acetylglucosaminyl phosphatidylinosit...  \n",
       "44  PIG-L; N-acetylglucosaminyl phosphatidylinosit...  \n",
       "45            RNase_HII; Ribonuclease HII/HIII domain  \n",
       "46                     PD40; WD40-like Beta Propeller  \n",
       "47                          ATP-cone; ATP-cone domain  \n",
       "48                                         Ceramidase  \n",
       "49               DASH_Dad1; DASH complex subunit Dad1  \n",
       "50             Opy2; Membrane anchor Opy2, N-terminal  \n",
       "51                         Dopey_N; Dopey, N-terminal  "
      ]
     },
     "execution_count": 30,
     "metadata": {},
     "output_type": "execute_result"
    }
   ],
   "source": [
    "only_nsl_pd=pd.merge(repeated_features_sl,repeated_features_nsl,how='right',on=['domain-name'])\n",
    "data_only_nsl = only_nsl_pd[pd.isnull(only_nsl_pd['domain-description_x'])]\n",
    "data_only_nsl"
   ]
  },
  {
   "cell_type": "code",
   "execution_count": 31,
   "metadata": {
    "execution": {
     "iopub.execute_input": "2020-07-14T06:25:45.345724Z",
     "iopub.status.busy": "2020-07-14T06:25:45.345127Z",
     "iopub.status.idle": "2020-07-14T06:25:45.348186Z",
     "shell.execute_reply": "2020-07-14T06:25:45.348636Z"
    }
   },
   "outputs": [
    {
     "data": {
      "text/html": [
       "<div>\n",
       "<style scoped>\n",
       "    .dataframe tbody tr th:only-of-type {\n",
       "        vertical-align: middle;\n",
       "    }\n",
       "\n",
       "    .dataframe tbody tr th {\n",
       "        vertical-align: top;\n",
       "    }\n",
       "\n",
       "    .dataframe thead th {\n",
       "        text-align: right;\n",
       "    }\n",
       "</style>\n",
       "<table border=\"1\" class=\"dataframe\">\n",
       "  <thead>\n",
       "    <tr style=\"text-align: right;\">\n",
       "      <th></th>\n",
       "      <th>domain-name</th>\n",
       "      <th>domain-description_x</th>\n",
       "      <th>domain-description_y</th>\n",
       "    </tr>\n",
       "  </thead>\n",
       "  <tbody>\n",
       "    <tr>\n",
       "      <th>0</th>\n",
       "      <td>PF02936</td>\n",
       "      <td>GTP_EFTU_D3; Translation elongation factor EFT...</td>\n",
       "      <td>GTP_EFTU_D3; Translation elongation factor EFT...</td>\n",
       "    </tr>\n",
       "    <tr>\n",
       "      <th>1</th>\n",
       "      <td>PF02936</td>\n",
       "      <td>GTP_EFTU_D3; Translation elongation factor EFT...</td>\n",
       "      <td>GTP_EFTU_D3; Translation elongation factor EFT...</td>\n",
       "    </tr>\n",
       "    <tr>\n",
       "      <th>2</th>\n",
       "      <td>PF07716</td>\n",
       "      <td>PHM7_cyt; 10TM putative phosphate transporter,...</td>\n",
       "      <td>PHM7_cyt; 10TM putative phosphate transporter,...</td>\n",
       "    </tr>\n",
       "    <tr>\n",
       "      <th>3</th>\n",
       "      <td>PF07716</td>\n",
       "      <td>PHM7_cyt; 10TM putative phosphate transporter,...</td>\n",
       "      <td>PHM7_cyt; 10TM putative phosphate transporter,...</td>\n",
       "    </tr>\n",
       "  </tbody>\n",
       "</table>\n",
       "</div>"
      ],
      "text/plain": [
       "  domain-name                               domain-description_x  \\\n",
       "0     PF02936  GTP_EFTU_D3; Translation elongation factor EFT...   \n",
       "1     PF02936  GTP_EFTU_D3; Translation elongation factor EFT...   \n",
       "2     PF07716  PHM7_cyt; 10TM putative phosphate transporter,...   \n",
       "3     PF07716  PHM7_cyt; 10TM putative phosphate transporter,...   \n",
       "\n",
       "                                domain-description_y  \n",
       "0  GTP_EFTU_D3; Translation elongation factor EFT...  \n",
       "1  GTP_EFTU_D3; Translation elongation factor EFT...  \n",
       "2  PHM7_cyt; 10TM putative phosphate transporter,...  \n",
       "3  PHM7_cyt; 10TM putative phosphate transporter,...  "
      ]
     },
     "execution_count": 31,
     "metadata": {},
     "output_type": "execute_result"
    }
   ],
   "source": [
    "shared_domains_pd=pd.merge(repeated_features_sl,repeated_features_nsl,how='inner',on=['domain-name'])\n",
    "shared_domains_pd\n"
   ]
  },
  {
   "cell_type": "code",
   "execution_count": 32,
   "metadata": {
    "execution": {
     "iopub.execute_input": "2020-07-14T06:25:45.365351Z",
     "iopub.status.busy": "2020-07-14T06:25:45.363472Z",
     "iopub.status.idle": "2020-07-14T06:25:47.210338Z",
     "shell.execute_reply": "2020-07-14T06:25:47.209639Z"
    }
   },
   "outputs": [
    {
     "data": {
      "text/plain": [
       "(0.0, 0.2)"
      ]
     },
     "execution_count": 32,
     "metadata": {},
     "output_type": "execute_result"
    },
    {
     "data": {
      "image/png": "[encoded data removed]",
      "text/plain": [
       "<Figure size 432x288 with 1 Axes>"
      ]
     },
     "metadata": {
      "filenames": {
       "image/png": "/home/runner/work/jupyter-book/jupyter-book/mini_book/docs/_build/jupyter_execute/prot_domains2lethality-FEATURES-POSTPROCESSING_47_1.png"
      },
      "needs_background": "light"
     },
     "output_type": "display_data"
    }
   ],
   "source": [
    "a_sl=x_sl.iloc[:,np.sort(df_sl.iloc[:,1])]\n",
    "a_sl.describe().loc['mean'].hist(bins=8),\n",
    "a_sl.describe().loc['std'].hist(bins=8,alpha=0.4)\n",
    "plt.xlim([0,0.2])"
   ]
  },
  {
   "cell_type": "code",
   "execution_count": 33,
   "metadata": {
    "execution": {
     "iopub.execute_input": "2020-07-14T06:25:47.237348Z",
     "iopub.status.busy": "2020-07-14T06:25:47.215558Z",
     "iopub.status.idle": "2020-07-14T06:25:48.976972Z",
     "shell.execute_reply": "2020-07-14T06:25:48.976321Z"
    }
   },
   "outputs": [
    {
     "data": {
      "text/plain": [
       "(0.0, 0.2)"
      ]
     },
     "execution_count": 33,
     "metadata": {},
     "output_type": "execute_result"
    },
    {
     "data": {
      "image/png": "[encoded data removed]",
      "text/plain": [
       "<Figure size 432x288 with 1 Axes>"
      ]
     },
     "metadata": {
      "filenames": {
       "image/png": "/home/runner/work/jupyter-book/jupyter-book/mini_book/docs/_build/jupyter_execute/prot_domains2lethality-FEATURES-POSTPROCESSING_48_1.png"
      },
      "needs_background": "light"
     },
     "output_type": "display_data"
    }
   ],
   "source": [
    "a_nsl=x_nsl.iloc[:,np.sort(df_nsl.iloc[:,1])]\n",
    "a_nsl.describe().loc['mean'].hist(bins=8),\n",
    "a_nsl.describe().loc['std'].hist(bins=8,alpha=0.4)\n",
    "plt.xlim([0,0.2])"
   ]
  },
  {
   "cell_type": "markdown",
   "metadata": {},
   "source": [
    "### Proof of concept with *BEM1*\n",
    "\n",
    "- Gather the domains of SL and nSL pairs from BEM1\n",
    "- Check if the domains for the SL and nSL pairs are inside the most important domains after PCA."
   ]
  },
  {
   "cell_type": "code",
   "execution_count": 34,
   "metadata": {
    "execution": {
     "iopub.execute_input": "2020-07-14T06:25:48.985626Z",
     "iopub.status.busy": "2020-07-14T06:25:48.984940Z",
     "iopub.status.idle": "2020-07-14T06:25:48.989305Z",
     "shell.execute_reply": "2020-07-14T06:25:48.988678Z"
    }
   },
   "outputs": [],
   "source": [
    "domains_bem1=data_domains[data_domains['name']=='BEM1']['domain-descrip']\n",
    "sl_bem1=data_sl[data_sl['gene-query-name']=='BEM1']['gene-target-name']"
   ]
  },
  {
   "cell_type": "code",
   "execution_count": 35,
   "metadata": {
    "execution": {
     "iopub.execute_input": "2020-07-14T06:25:48.994426Z",
     "iopub.status.busy": "2020-07-14T06:25:48.993807Z",
     "iopub.status.idle": "2020-07-14T06:25:48.999916Z",
     "shell.execute_reply": "2020-07-14T06:25:48.999357Z"
    }
   },
   "outputs": [
    {
     "data": {
      "text/plain": [
       "2846      BEM2\n",
       "2847     CDC24\n",
       "5004      MSB1\n",
       "13777     SMI1\n",
       "13778     BNI1\n",
       "13779     BEM2\n",
       "14385     SKN7\n",
       "Name: gene-target-name, dtype: object"
      ]
     },
     "execution_count": 35,
     "metadata": {},
     "output_type": "execute_result"
    }
   ],
   "source": [
    "sl_bem1"
   ]
  },
  {
   "cell_type": "code",
   "execution_count": 36,
   "metadata": {
    "execution": {
     "iopub.execute_input": "2020-07-14T06:25:49.016572Z",
     "iopub.status.busy": "2020-07-14T06:25:49.015634Z",
     "iopub.status.idle": "2020-07-14T06:25:49.020685Z",
     "shell.execute_reply": "2020-07-14T06:25:49.021307Z"
    }
   },
   "outputs": [
    {
     "data": {
      "text/html": [
       "<div>\n",
       "<style scoped>\n",
       "    .dataframe tbody tr th:only-of-type {\n",
       "        vertical-align: middle;\n",
       "    }\n",
       "\n",
       "    .dataframe tbody tr th {\n",
       "        vertical-align: top;\n",
       "    }\n",
       "\n",
       "    .dataframe thead th {\n",
       "        text-align: right;\n",
       "    }\n",
       "</style>\n",
       "<table border=\"1\" class=\"dataframe\">\n",
       "  <thead>\n",
       "    <tr style=\"text-align: right;\">\n",
       "      <th></th>\n",
       "      <th>gene-query</th>\n",
       "      <th>gene-target</th>\n",
       "      <th>gene-query-name</th>\n",
       "      <th>gene-target-name</th>\n",
       "      <th>gene-query-description</th>\n",
       "      <th>gene-target-description</th>\n",
       "      <th>interaction-type</th>\n",
       "      <th>paper-source</th>\n",
       "    </tr>\n",
       "  </thead>\n",
       "  <tbody>\n",
       "    <tr>\n",
       "      <th>2846</th>\n",
       "      <td>YBR200W</td>\n",
       "      <td>YER155C</td>\n",
       "      <td>BEM1</td>\n",
       "      <td>BEM2</td>\n",
       "      <td>SRO1|phosphatidylinositol-3-phosphate-binding ...</td>\n",
       "      <td>IPL2|SUP9|TSL1|L000000168</td>\n",
       "      <td>Synthetic Lethality</td>\n",
       "      <td>Peterson J (1994)</td>\n",
       "    </tr>\n",
       "    <tr>\n",
       "      <th>2847</th>\n",
       "      <td>YBR200W</td>\n",
       "      <td>YAL041W</td>\n",
       "      <td>BEM1</td>\n",
       "      <td>CDC24</td>\n",
       "      <td>SRO1|phosphatidylinositol-3-phosphate-binding ...</td>\n",
       "      <td>CLS4|Rho family guanine nucleotide exchange fa...</td>\n",
       "      <td>Synthetic Lethality</td>\n",
       "      <td>Peterson J (1994)</td>\n",
       "    </tr>\n",
       "    <tr>\n",
       "      <th>5004</th>\n",
       "      <td>YBR200W</td>\n",
       "      <td>YOR188W</td>\n",
       "      <td>BEM1</td>\n",
       "      <td>MSB1</td>\n",
       "      <td>SRO1|phosphatidylinositol-3-phosphate-binding ...</td>\n",
       "      <td>L000001184</td>\n",
       "      <td>Synthetic Lethality</td>\n",
       "      <td>Bender A (1991)</td>\n",
       "    </tr>\n",
       "    <tr>\n",
       "      <th>13777</th>\n",
       "      <td>YBR200W</td>\n",
       "      <td>YGR229C</td>\n",
       "      <td>BEM1</td>\n",
       "      <td>SMI1</td>\n",
       "      <td>SRO1|phosphatidylinositol-3-phosphate-binding ...</td>\n",
       "      <td>KNR4|L000000909</td>\n",
       "      <td>Synthetic Lethality</td>\n",
       "      <td>Gorelik M (2011)</td>\n",
       "    </tr>\n",
       "    <tr>\n",
       "      <th>13778</th>\n",
       "      <td>YBR200W</td>\n",
       "      <td>YNL271C</td>\n",
       "      <td>BEM1</td>\n",
       "      <td>BNI1</td>\n",
       "      <td>SRO1|phosphatidylinositol-3-phosphate-binding ...</td>\n",
       "      <td>PPF3|SHE5|formin BNI1|L000000190</td>\n",
       "      <td>Synthetic Lethality</td>\n",
       "      <td>Gorelik M (2011)</td>\n",
       "    </tr>\n",
       "    <tr>\n",
       "      <th>13779</th>\n",
       "      <td>YBR200W</td>\n",
       "      <td>YER155C</td>\n",
       "      <td>BEM1</td>\n",
       "      <td>BEM2</td>\n",
       "      <td>SRO1|phosphatidylinositol-3-phosphate-binding ...</td>\n",
       "      <td>IPL2|SUP9|TSL1|L000000168</td>\n",
       "      <td>Synthetic Lethality</td>\n",
       "      <td>Gorelik M (2011)</td>\n",
       "    </tr>\n",
       "    <tr>\n",
       "      <th>14385</th>\n",
       "      <td>YBR200W</td>\n",
       "      <td>YHR206W</td>\n",
       "      <td>BEM1</td>\n",
       "      <td>SKN7</td>\n",
       "      <td>SRO1|phosphatidylinositol-3-phosphate-binding ...</td>\n",
       "      <td>BRY1|POS9|kinase-regulated stress-responsive t...</td>\n",
       "      <td>Dosage Lethality</td>\n",
       "      <td>Bouquin N (1999)</td>\n",
       "    </tr>\n",
       "  </tbody>\n",
       "</table>\n",
       "</div>"
      ],
      "text/plain": [
       "      gene-query gene-target gene-query-name gene-target-name  \\\n",
       "2846     YBR200W     YER155C            BEM1             BEM2   \n",
       "2847     YBR200W     YAL041W            BEM1            CDC24   \n",
       "5004     YBR200W     YOR188W            BEM1             MSB1   \n",
       "13777    YBR200W     YGR229C            BEM1             SMI1   \n",
       "13778    YBR200W     YNL271C            BEM1             BNI1   \n",
       "13779    YBR200W     YER155C            BEM1             BEM2   \n",
       "14385    YBR200W     YHR206W            BEM1             SKN7   \n",
       "\n",
       "                                  gene-query-description  \\\n",
       "2846   SRO1|phosphatidylinositol-3-phosphate-binding ...   \n",
       "2847   SRO1|phosphatidylinositol-3-phosphate-binding ...   \n",
       "5004   SRO1|phosphatidylinositol-3-phosphate-binding ...   \n",
       "13777  SRO1|phosphatidylinositol-3-phosphate-binding ...   \n",
       "13778  SRO1|phosphatidylinositol-3-phosphate-binding ...   \n",
       "13779  SRO1|phosphatidylinositol-3-phosphate-binding ...   \n",
       "14385  SRO1|phosphatidylinositol-3-phosphate-binding ...   \n",
       "\n",
       "                                 gene-target-description     interaction-type  \\\n",
       "2846                           IPL2|SUP9|TSL1|L000000168  Synthetic Lethality   \n",
       "2847   CLS4|Rho family guanine nucleotide exchange fa...  Synthetic Lethality   \n",
       "5004                                          L000001184  Synthetic Lethality   \n",
       "13777                                    KNR4|L000000909  Synthetic Lethality   \n",
       "13778                   PPF3|SHE5|formin BNI1|L000000190  Synthetic Lethality   \n",
       "13779                          IPL2|SUP9|TSL1|L000000168  Synthetic Lethality   \n",
       "14385  BRY1|POS9|kinase-regulated stress-responsive t...     Dosage Lethality   \n",
       "\n",
       "            paper-source  \n",
       "2846   Peterson J (1994)  \n",
       "2847   Peterson J (1994)  \n",
       "5004     Bender A (1991)  \n",
       "13777   Gorelik M (2011)  \n",
       "13778   Gorelik M (2011)  \n",
       "13779   Gorelik M (2011)  \n",
       "14385   Bouquin N (1999)  "
      ]
     },
     "execution_count": 36,
     "metadata": {},
     "output_type": "execute_result"
    }
   ],
   "source": [
    "data_sl[data_sl['gene-query-name']=='BEM1']"
   ]
  },
  {
   "cell_type": "code",
   "execution_count": null,
   "metadata": {},
   "outputs": [],
   "source": []
  }
 ],
 "metadata": {
  "jupytext": {
   "text_representation": {
    "extension": ".md",
    "format_name": "myst"
   }
  },
  "kernelspec": {
   "display_name": "Python 3",
   "language": "python",
   "name": "python3"
  },
  "language_info": {
   "codemirror_mode": {
    "name": "ipython",
    "version": 3
   },
   "file_extension": ".py",
   "mimetype": "text/x-python",
   "name": "python",
   "nbconvert_exporter": "python",
   "pygments_lexer": "ipython3",
   "version": "3.7.6"
  },
  "source_map": [
   10,
   18,
   29,
   36,
   57,
   66,
   98,
   101,
   105,
   128,
   131,
   135,
   139,
   145,
   178,
   184,
   188,
   206,
   210,
   218,
   222,
   225,
   229,
   234,
   238,
   244,
   248,
   253,
   257,
   267,
   269,
   273,
   306,
   311,
   313,
   317,
   328,
   330,
   334,
   344,
   348,
   358,
   360,
   364,
   381,
   388,
   394,
   400,
   407,
   412,
   419,
   424,
   428,
   432
  ]
 },
 "nbformat": 4,
 "nbformat_minor": 4
}