{
 "cells": [
  {
   "cell_type": "markdown",
   "metadata": {},
   "source": [
    "# Feature postprocessing from paper.\n",
    "- Title:  \"Predicting yeast synthetic lethal genetic interactions using protein domains\"\n",
    "- Authors: Bo Li, Feng Luo,School of Computing,Clemson University,Clemson, SC, USA\n",
    "- e-mail: bol, luofeng@clemson.edu\n",
    "- year:2009"
   ]
  },
  {
   "cell_type": "code",
   "execution_count": 1,
   "metadata": {
    "execution": {
     "iopub.execute_input": "2020-07-23T22:20:34.795695Z",
     "iopub.status.busy": "2020-07-23T22:20:34.795038Z",
     "iopub.status.idle": "2020-07-23T22:20:35.607592Z",
     "shell.execute_reply": "2020-07-23T22:20:35.608112Z"
    }
   },
   "outputs": [],
   "source": [
    "import pandas as pd\n",
    "import numpy as np\n",
    "import matplotlib.pyplot as plt\n",
    "from collections import defaultdict \n",
    "import seaborn as sns\n",
    "import matplotlib.cm as cm\n",
    "import scipy as scipy\n",
    "import random"
   ]
  },
  {
   "cell_type": "markdown",
   "metadata": {
    "jupyter": {
     "source_hidden": true
    }
   },
   "source": [
    "### Importing datasets \n",
    "\n",
    "#### Link to the github repo where the datasets to be downloaded:\n",
    "[DOWNLOAD THE DATASETS HERE](https://github.com/leilaicruz/machine-learning-for-yeast/tree/dev_Leila/datasets-for-learning)"
   ]
  },
  {
   "cell_type": "code",
   "execution_count": 2,
   "metadata": {
    "execution": {
     "iopub.execute_input": "2020-07-23T22:20:35.615737Z",
     "iopub.status.busy": "2020-07-23T22:20:35.614613Z",
     "iopub.status.idle": "2020-07-23T22:20:43.748827Z",
     "shell.execute_reply": "2020-07-23T22:20:43.748248Z"
    }
   },
   "outputs": [],
   "source": [
    "import os\n",
    "script_dir = os.path.dirname('__file__') #<-- absolute dir the script is in\n",
    "rel_path_SL = \"datasets/data-synthetic-lethals.xlsx\"\n",
    "rel_path_nSL=\"datasets/data-positive-genetic.xlsx\"\n",
    "rel_path_domains=\"datasets/proteins-domains-from-Pfam.xlsx\"\n",
    "\n",
    "abs_file_path_SL = os.path.join(script_dir, rel_path_SL)\n",
    "abs_file_path_nSL = os.path.join(script_dir, rel_path_nSL)\n",
    "abs_file_path_domains = os.path.join(script_dir, rel_path_domains)\n",
    "\n",
    "# os.chdir('mini_book/docs/') #<-- for binder os.chdir('../')\n",
    "# os.chdir('../')\n",
    "my_path_sl= abs_file_path_SL\n",
    "my_path_non_sl=abs_file_path_nSL\n",
    "my_path_domains=abs_file_path_domains\n",
    "\n",
    "data_sl=pd.read_excel(my_path_sl,header=0)\n",
    "data_domains=pd.read_excel(my_path_domains,header=0,index_col='Unnamed: 0')\n",
    "data_domains=data_domains.dropna()\n",
    "data_nonsl=pd.read_excel(my_path_non_sl,header=0)"
   ]
  },
  {
   "cell_type": "markdown",
   "metadata": {},
   "source": [
    "## Building the feature matrix\n",
    "One matrix for true SL where each row is one pair of SL. Every raw will be a vector of 0,1 or 2 depending on the comparison with the domain list. For row i the jth element = 0 if the jth element of the domain list is not in neither protein A and B, 1, if it is in one of them and 2 if it is in both of them .\n",
    "\n",
    "### Building the list of proteins domains id per protein pair separately :\n",
    "- List of protein A: Search for the Sl/nSL database the query gene name and look in the protein domain database which protein domains id has each of those queries.\n",
    "- List of protein B: Search for the Sl/nSL database the target gene name of the previous query and look in the protein domain database which protein domains id has each of those target genes."
   ]
  },
  {
   "cell_type": "code",
   "execution_count": 3,
   "metadata": {
    "execution": {
     "iopub.execute_input": "2020-07-23T22:20:43.766801Z",
     "iopub.status.busy": "2020-07-23T22:20:43.766108Z",
     "iopub.status.idle": "2020-07-23T22:20:46.122572Z",
     "shell.execute_reply": "2020-07-23T22:20:46.123474Z"
    }
   },
   "outputs": [],
   "source": [
    "# Selecting the meaningful columns in the respective dataset\n",
    "domain_id_list=data_domains['domain-name']\n",
    "query_gene=data_sl['gene-query-name']\n",
    "target_gene=data_sl['gene-target-name']\n",
    "query_gene_nonlethal=data_nonsl['gene-query-name']\n",
    "target_gene_nonlethal=data_nonsl['gene-target-name']\n",
    "\n",
    "\n",
    "\n",
    "# Initialising the arrays\n",
    "protein_a_list=[]\n",
    "protein_b_list=[]\n",
    "protein_a_list_non=[]\n",
    "protein_b_list_non=[]\n",
    "\n",
    "population = np.arange(0,len(data_sl))\n",
    "\n",
    "# For loop for 10000 pairs sampled randomly from the SL/nSl pair list , and creating a big array of proteind domains id per protein pair\n",
    "\n",
    "for m in random.sample(list(population), 500):\n",
    "    protein_a=data_domains[data_domains['name']==query_gene[m]]\n",
    "    protein_b=data_domains[data_domains['name']==target_gene[m]]\n",
    "    protein_a_list.append(protein_a['domain-name'].tolist())\n",
    "    protein_b_list.append(protein_b['domain-name'].tolist())\n",
    "\n",
    "    protein_a_non=data_domains[data_domains['name']==query_gene_nonlethal[m]]\n",
    "    protein_b_non=data_domains[data_domains['name']==target_gene_nonlethal[m]]\n",
    "    protein_a_list_non.append(protein_a_non['domain-name'].tolist())\n",
    "    protein_b_list_non.append(protein_b_non['domain-name'].tolist())"
   ]
  },
  {
   "cell_type": "code",
   "execution_count": 4,
   "metadata": {
    "execution": {
     "iopub.execute_input": "2020-07-23T22:20:46.129514Z",
     "iopub.status.busy": "2020-07-23T22:20:46.128867Z",
     "iopub.status.idle": "2020-07-23T22:20:46.133551Z",
     "shell.execute_reply": "2020-07-23T22:20:46.135053Z"
    }
   },
   "outputs": [
    {
     "name": "stdout",
     "output_type": "stream",
     "text": [
      "We are going to analyze 500 protein pairs, out of 17871 SL protein pairs\n",
      "We are going to analyze 500 protein pairs, out of 43340 positive protein pairs\n"
     ]
    }
   ],
   "source": [
    "print('We are going to analyze',len((protein_a_list)) ,'protein pairs, out of',len(data_sl),'SL protein pairs')\n",
    "print('We are going to analyze',len((protein_a_list_non)) ,'protein pairs, out of',len(data_nonsl),'positive protein pairs')"
   ]
  },
  {
   "cell_type": "markdown",
   "metadata": {},
   "source": [
    "### Postprocessing #1:  Remove protein pairs from study if either protein in the pair does not contain any domain"
   ]
  },
  {
   "cell_type": "code",
   "execution_count": 5,
   "metadata": {
    "execution": {
     "iopub.execute_input": "2020-07-23T22:20:46.138071Z",
     "iopub.status.busy": "2020-07-23T22:20:46.137412Z",
     "iopub.status.idle": "2020-07-23T22:20:46.149225Z",
     "shell.execute_reply": "2020-07-23T22:20:46.149881Z"
    }
   },
   "outputs": [],
   "source": [
    "def remove_empty_domains(protein_list_search,protein_list_pair):\n",
    "    index=[]\n",
    "    for i in np.arange(0,len(protein_list_search)):\n",
    "        if protein_list_search[i]==[] or protein_list_pair[i]==[]:\n",
    "            index.append(i) ## index of empty values for the protein_a_list meaning they dont have any annotated domain\n",
    "\n",
    "    y=[x for x in np.arange(0,len(protein_list_search)) if x not in index] # a list with non empty values from protein_a list\n",
    "\n",
    "    protein_list_search_new=[]\n",
    "    protein_list_pair_new=[]\n",
    "    for i in y:\n",
    "        protein_list_search_new.append(protein_list_search[i])\n",
    "        protein_list_pair_new.append(protein_list_pair[i])\n",
    "    return protein_list_search_new,protein_list_pair_new\n",
    "\n",
    "## evaluating the function\n",
    "\n",
    "protein_a_list_new,protein_b_list_new=remove_empty_domains(protein_a_list,protein_b_list)\n",
    "\n",
    "protein_a_list_non_new,protein_b_list_non_new=remove_empty_domains(protein_a_list_non,protein_b_list_non)"
   ]
  },
  {
   "cell_type": "code",
   "execution_count": 6,
   "metadata": {
    "execution": {
     "iopub.execute_input": "2020-07-23T22:20:46.157029Z",
     "iopub.status.busy": "2020-07-23T22:20:46.156384Z",
     "iopub.status.idle": "2020-07-23T22:20:46.159415Z",
     "shell.execute_reply": "2020-07-23T22:20:46.159940Z"
    }
   },
   "outputs": [
    {
     "name": "stdout",
     "output_type": "stream",
     "text": [
      "The empty domain in the SL were: 99 out of 500 domains\n",
      "The empty domain in the nSL were: 93 out of 500 domains\n"
     ]
    }
   ],
   "source": [
    "print('The empty domain in the SL were:', len(protein_a_list)-len(protein_a_list_new), 'out of', len(protein_a_list),'domains')\n",
    "print('The empty domain in the nSL were:', len(protein_a_list_non)-len(protein_a_list_non_new), 'out of', len(protein_a_list_non),'domains')"
   ]
  },
  {
   "cell_type": "markdown",
   "metadata": {},
   "source": [
    "### Feature engineering: Select from each ordered indexes of domain id list which of them appear once, in both or in any of the domains of each protein pair"
   ]
  },
  {
   "cell_type": "markdown",
   "metadata": {},
   "source": [
    "#### Define function `get_indexes`"
   ]
  },
  {
   "cell_type": "code",
   "execution_count": 7,
   "metadata": {
    "execution": {
     "iopub.execute_input": "2020-07-23T22:20:46.168970Z",
     "iopub.status.busy": "2020-07-23T22:20:46.168323Z",
     "iopub.status.idle": "2020-07-23T22:20:46.171949Z",
     "shell.execute_reply": "2020-07-23T22:20:46.172476Z"
    }
   },
   "outputs": [
    {
     "data": {
      "text/plain": [
       "[1, 2]"
      ]
     },
     "execution_count": 7,
     "metadata": {},
     "output_type": "execute_result"
    }
   ],
   "source": [
    "get_indexes = lambda x, xs: [i for (y, i) in zip(xs, range(len(xs))) if x == y] # a function that give the index of whether a value appear in array or not\n",
    "a=[1,2,2,4,5,6,7,8,9,10]\n",
    "get_indexes(2,a)"
   ]
  },
  {
   "cell_type": "code",
   "execution_count": 8,
   "metadata": {
    "execution": {
     "iopub.execute_input": "2020-07-23T22:20:46.182257Z",
     "iopub.status.busy": "2020-07-23T22:20:46.174805Z",
     "iopub.status.idle": "2020-07-23T22:20:46.184973Z",
     "shell.execute_reply": "2020-07-23T22:20:46.184451Z"
    }
   },
   "outputs": [],
   "source": [
    "def feature_building(protein_a_list_new,protein_b_list_new):\n",
    "    x = np.unique(domain_id_list)\n",
    "    ## To avoid taking repeated domains from one protein of the pairs , lets reduced the domains of each protein from the pairs to their unique members\n",
    "    protein_a_list_unique=[]\n",
    "    protein_b_list_unique=[]\n",
    "    for i in np.arange(0,len(protein_a_list_new)):\n",
    "        protein_a_list_unique.append(np.unique(protein_a_list_new[i]))\n",
    "        protein_b_list_unique.append(np.unique(protein_b_list_new[i]))\n",
    "        \n",
    "    protein_feat_true=np.zeros(shape=(len(x),len(protein_a_list_unique)))\n",
    "    pair_a_b_array=[]\n",
    "    for i in np.arange(0,len(protein_a_list_unique)):\n",
    "        index_a=[]\n",
    "        \n",
    "        pair=[protein_a_list_unique[i],protein_b_list_unique[i]]\n",
    "        pair_a_b=np.concatenate(pair).ravel()\n",
    "        pair_a_b_array.append(pair_a_b)\n",
    "\n",
    "    j=0\n",
    "    for i in pair_a_b_array:  \n",
    "        array,index,counts=np.unique(i,return_index=True,return_counts=True)\n",
    "        \n",
    "        for k,m in zip(counts,array):\n",
    "            if k ==2:\n",
    "                protein_feat_true[get_indexes(m,x),j]=2\n",
    "                \n",
    "            if k==1:\n",
    "                protein_feat_true[get_indexes(m,x),j]=1\n",
    "        j=j+1\n",
    "    return protein_feat_true"
   ]
  },
  {
   "cell_type": "code",
   "execution_count": 9,
   "metadata": {
    "execution": {
     "iopub.execute_input": "2020-07-23T22:20:46.199836Z",
     "iopub.status.busy": "2020-07-23T22:20:46.199226Z",
     "iopub.status.idle": "2020-07-23T22:20:46.980567Z",
     "shell.execute_reply": "2020-07-23T22:20:46.979702Z"
    }
   },
   "outputs": [],
   "source": [
    "protein_feat_true=feature_building(protein_b_list_new=protein_b_list_new,protein_a_list_new=protein_a_list_new)\n",
    "protein_feat_true_pd=pd.DataFrame(protein_feat_true.T)\n",
    "\n",
    "protein_feat_non_true=feature_building(protein_b_list_new=protein_b_list_non_new,protein_a_list_new=protein_a_list_non_new)\n",
    "protein_feat_non_true_pd=pd.DataFrame(protein_feat_non_true.T)"
   ]
  },
  {
   "cell_type": "markdown",
   "metadata": {},
   "source": [
    "### How many ones and twos are in each dataset"
   ]
  },
  {
   "cell_type": "code",
   "execution_count": 10,
   "metadata": {
    "execution": {
     "iopub.execute_input": "2020-07-23T22:20:46.988778Z",
     "iopub.status.busy": "2020-07-23T22:20:46.987456Z",
     "iopub.status.idle": "2020-07-23T22:20:47.089687Z",
     "shell.execute_reply": "2020-07-23T22:20:47.089195Z"
    }
   },
   "outputs": [
    {
     "name": "stdout",
     "output_type": "stream",
     "text": [
      "fraction of twos in the SL array is 2.6380330166319738e-05\n",
      "fraction of ones in the SL array is 0.0009801941427423177\n",
      "fraction of twos in the PI array is 1.2183483257863424e-05\n",
      "fraction of ones in the PI array is 0.000888582045606839\n"
     ]
    }
   ],
   "source": [
    "index_2_true=protein_feat_true_pd.where(protein_feat_true_pd==2)\n",
    "index_2_true_count=index_2_true.count(axis=1).sum()\n",
    "\n",
    "index_1_true=protein_feat_true_pd.where(protein_feat_true_pd==1)\n",
    "index_1_true_count=index_1_true.count(axis=1).sum()\n",
    "\n",
    "index_2_nontrue=protein_feat_non_true_pd.where(protein_feat_non_true_pd==2)\n",
    "index_2_nontrue_count=index_2_nontrue.count(axis=1).sum()\n",
    "\n",
    "index_1_nontrue=protein_feat_non_true_pd.where(protein_feat_non_true_pd==1)\n",
    "index_1_nontrue_count=index_1_nontrue.count(axis=1).sum()\n",
    "\n",
    "\n",
    "print('fraction of twos in the SL array is',index_2_true_count/(len(protein_feat_true_pd.index)*len(protein_feat_true_pd.columns)))\n",
    "print('fraction of ones in the SL array is',index_1_true_count/(len(protein_feat_true_pd.index)*len(protein_feat_true_pd.columns)))\n",
    "print('fraction of twos in the PI array is',index_2_nontrue_count/(len(protein_feat_non_true_pd.index)*len(protein_feat_non_true_pd.columns)))\n",
    "print('fraction of ones in the PI array is',index_1_nontrue_count/(len(protein_feat_non_true_pd.index)*len(protein_feat_non_true_pd.columns)))"
   ]
  },
  {
   "cell_type": "markdown",
   "metadata": {},
   "source": [
    "#### Bar plot to visualize these numbers"
   ]
  },
  {
   "cell_type": "code",
   "execution_count": 11,
   "metadata": {
    "execution": {
     "iopub.execute_input": "2020-07-23T22:20:47.110989Z",
     "iopub.status.busy": "2020-07-23T22:20:47.110330Z",
     "iopub.status.idle": "2020-07-23T22:20:47.636011Z",
     "shell.execute_reply": "2020-07-23T22:20:47.636542Z"
    }
   },
   "outputs": [
    {
     "data": {
      "text/plain": [
       "([0, 1, 2, 3],\n",
       " [Text(0, 0, ''), Text(0, 0, ''), Text(0, 0, ''), Text(0, 0, '')])"
      ]
     },
     "execution_count": 11,
     "metadata": {},
     "output_type": "execute_result"
    },
    {
     "data": {
      "image/png": "[encoded data removed]",
      "text/plain": [
       "<Figure size 432x288 with 1 Axes>"
      ]
     },
     "metadata": {
      "filenames": {
       "image/png": "/home/runner/work/jupyter-book/jupyter-book/mini_book/docs/_build/jupyter_execute/prot_domains2lethality-FEATURES-POSTPROCESSING_18_1.png"
      },
      "needs_background": "light"
     },
     "output_type": "display_data"
    }
   ],
   "source": [
    "plt.bar(['fraction of 2 in the nSL','fraction of 1 in the nSL'],[index_2_nontrue_count/(len(protein_feat_non_true_pd.index)*len(protein_feat_non_true_pd.columns)),index_1_nontrue_count/(len(protein_feat_non_true_pd.index)*len(protein_feat_non_true_pd.columns))],alpha=0.6,color=['blue','lightblue']), \n",
    "\n",
    "plt.bar(['fraction of 2 in SL ','fraction of 1 in SL'],[index_2_true_count/(len(protein_feat_true_pd.index)*len(protein_feat_true_pd.columns)),index_1_true_count/(len(protein_feat_true_pd.index)*len(protein_feat_true_pd.columns))],alpha=0.6,color=['coral','lightcoral'])\n",
    "\n",
    "plt.ylabel('Fraction from the population')\n",
    "plt.yscale('log')\n",
    "plt.xticks(rotation=40)"
   ]
  },
  {
   "cell_type": "markdown",
   "metadata": {},
   "source": [
    "#### Adding the labels(response variables) to each dataset"
   ]
  },
  {
   "cell_type": "code",
   "execution_count": 12,
   "metadata": {
    "execution": {
     "iopub.execute_input": "2020-07-23T22:20:47.643018Z",
     "iopub.status.busy": "2020-07-23T22:20:47.640628Z",
     "iopub.status.idle": "2020-07-23T22:20:47.645483Z",
     "shell.execute_reply": "2020-07-23T22:20:47.646012Z"
    }
   },
   "outputs": [],
   "source": [
    "protein_feat_true_pd['lethality']=np.ones(shape=(len(protein_a_list_new)))\n",
    "protein_feat_non_true_pd['lethality']=np.zeros(shape=(len(protein_a_list_non_new)))"
   ]
  },
  {
   "cell_type": "markdown",
   "metadata": {},
   "source": [
    "#### Joining both datasets"
   ]
  },
  {
   "cell_type": "code",
   "execution_count": 13,
   "metadata": {
    "execution": {
     "iopub.execute_input": "2020-07-23T22:20:47.652088Z",
     "iopub.status.busy": "2020-07-23T22:20:47.651134Z",
     "iopub.status.idle": "2020-07-23T22:20:47.687810Z",
     "shell.execute_reply": "2020-07-23T22:20:47.688572Z"
    }
   },
   "outputs": [
    {
     "name": "stdout",
     "output_type": "stream",
     "text": [
      "The number of features are: 3026\n",
      "The number of samples are: 808\n"
     ]
    }
   ],
   "source": [
    "feature_post=pd.concat([protein_feat_true_pd,protein_feat_non_true_pd],axis=0)\n",
    "feature_post=feature_post.set_index(np.arange(0,len(protein_a_list_new)+len(protein_a_list_non_new)))\n",
    "print('The number of features are:',feature_post.shape[1])\n",
    "print('The number of samples are:',feature_post.shape[0])"
   ]
  },
  {
   "cell_type": "markdown",
   "metadata": {},
   "source": [
    "### Postprocessing and exploration of the feature matrix of both datasets"
   ]
  },
  {
   "cell_type": "code",
   "execution_count": 14,
   "metadata": {
    "execution": {
     "iopub.execute_input": "2020-07-23T22:20:47.691316Z",
     "iopub.status.busy": "2020-07-23T22:20:47.690642Z",
     "iopub.status.idle": "2020-07-23T22:20:52.465081Z",
     "shell.execute_reply": "2020-07-23T22:20:52.464522Z"
    }
   },
   "outputs": [],
   "source": [
    "mean=feature_post.T.describe().loc['mean']\n",
    "std=feature_post.T.describe().loc['std']\n",
    "lethality=feature_post['lethality']\n",
    "\n",
    "corr_keys=pd.concat([mean,std,lethality],axis=1)"
   ]
  },
  {
   "cell_type": "markdown",
   "metadata": {},
   "source": [
    "### Viz of the stats"
   ]
  },
  {
   "cell_type": "code",
   "execution_count": 15,
   "metadata": {
    "execution": {
     "iopub.execute_input": "2020-07-23T22:20:52.554926Z",
     "iopub.status.busy": "2020-07-23T22:20:52.546556Z",
     "iopub.status.idle": "2020-07-23T22:20:54.167383Z",
     "shell.execute_reply": "2020-07-23T22:20:54.167886Z"
    }
   },
   "outputs": [
    {
     "data": {
      "text/plain": [
       "Text(0.5, 1.08, 'Pairplot to see data dependencies with Lethality')"
      ]
     },
     "execution_count": 15,
     "metadata": {},
     "output_type": "execute_result"
    },
    {
     "data": {
      "image/png": "[encoded data removed]",
      "text/plain": [
       "<Figure size 412x360 with 6 Axes>"
      ]
     },
     "metadata": {
      "filenames": {
       "image/png": "/home/runner/work/jupyter-book/jupyter-book/mini_book/docs/_build/jupyter_execute/prot_domains2lethality-FEATURES-POSTPROCESSING_26_1.png"
      },
      "needs_background": "light"
     },
     "output_type": "display_data"
    }
   ],
   "source": [
    "pair=sns.pairplot(corr_keys,hue='lethality',diag_kind='kde',kind='reg',palette='colorblind')\n",
    "pair.fig.suptitle('Pairplot to see data dependencies with Lethality',y=1.08)"
   ]
  },
  {
   "cell_type": "code",
   "execution_count": 16,
   "metadata": {
    "execution": {
     "iopub.execute_input": "2020-07-23T22:20:54.179850Z",
     "iopub.status.busy": "2020-07-23T22:20:54.178955Z",
     "iopub.status.idle": "2020-07-23T22:20:54.182334Z",
     "shell.execute_reply": "2020-07-23T22:20:54.182948Z"
    }
   },
   "outputs": [],
   "source": [
    "X, y = feature_post.drop(columns=[\"lethality\"]), feature_post[\"lethality\"]"
   ]
  },
  {
   "cell_type": "code",
   "execution_count": 17,
   "metadata": {
    "execution": {
     "iopub.execute_input": "2020-07-23T22:20:54.188803Z",
     "iopub.status.busy": "2020-07-23T22:20:54.187468Z",
     "iopub.status.idle": "2020-07-23T22:20:54.366152Z",
     "shell.execute_reply": "2020-07-23T22:20:54.365568Z"
    }
   },
   "outputs": [],
   "source": [
    "from sklearn.preprocessing import StandardScaler\n",
    "scaler = StandardScaler()\n",
    "x_sl=protein_feat_true_pd.drop(columns=['lethality'])\n",
    "x_nsl=protein_feat_non_true_pd.drop(columns=['lethality'])\n",
    "\n",
    "X_sl_scaled = scaler.fit_transform(x_sl)\n",
    "X_nsl_scaled = scaler.fit_transform(x_nsl)"
   ]
  },
  {
   "cell_type": "code",
   "execution_count": 18,
   "metadata": {
    "execution": {
     "iopub.execute_input": "2020-07-23T22:20:54.371359Z",
     "iopub.status.busy": "2020-07-23T22:20:54.370733Z",
     "iopub.status.idle": "2020-07-23T22:20:54.377333Z",
     "shell.execute_reply": "2020-07-23T22:20:54.375909Z"
    }
   },
   "outputs": [
    {
     "data": {
      "text/plain": [
       "(401, 3025)"
      ]
     },
     "execution_count": 18,
     "metadata": {},
     "output_type": "execute_result"
    }
   ],
   "source": [
    "np.shape(X_sl_scaled)"
   ]
  },
  {
   "cell_type": "markdown",
   "metadata": {},
   "source": [
    "## How redundant are each of the protein domains?"
   ]
  },
  {
   "cell_type": "code",
   "execution_count": 19,
   "metadata": {
    "execution": {
     "iopub.execute_input": "2020-07-23T22:20:54.386211Z",
     "iopub.status.busy": "2020-07-23T22:20:54.385580Z",
     "iopub.status.idle": "2020-07-23T22:20:54.389189Z",
     "shell.execute_reply": "2020-07-23T22:20:54.389678Z"
    }
   },
   "outputs": [],
   "source": [
    "def PCA_component_contribution(scaled_matrix,original_data):\n",
    "    from sklearn.decomposition import PCA\n",
    "\n",
    "    model = PCA(0.95).fit(scaled_matrix)\n",
    "    ## apply dimensionality reduction to X_train\n",
    "    output_pca = model.transform(scaled_matrix)\n",
    "    \n",
    "    total=sum(model.explained_variance_)\n",
    "\n",
    "\n",
    "   \n",
    "    # number of components , that it will be the number of main axes times the number of original components \n",
    "    n_pcs= model.components_.shape[0] # the amount of non redundant protein domains \n",
    "\n",
    "    # get the index of the most important feature on EACH component\n",
    "    # LIST COMPREHENSION HERE\n",
    "    most_important = [np.abs(model.components_[i]).argmax() for i in range(n_pcs)]\n",
    "\n",
    "    initial_feature_names = original_data.columns\n",
    "    # get the names\n",
    "    most_important_names = [initial_feature_names[most_important[i]] for i in range(n_pcs)]\n",
    "    \n",
    "\n",
    "    # LIST COMPREHENSION HERE AGAIN\n",
    "    dic = {'PC{}'.format(i): most_important_names[i] for i in range(n_pcs)}\n",
    "\n",
    "    # build the dataframe\n",
    "    df = pd.DataFrame(dic.items(),columns=['pca-component','domain-number'])\n",
    "\n",
    "    return df,model.components_"
   ]
  },
  {
   "cell_type": "code",
   "execution_count": 20,
   "metadata": {
    "execution": {
     "iopub.execute_input": "2020-07-23T22:20:54.393844Z",
     "iopub.status.busy": "2020-07-23T22:20:54.393224Z",
     "iopub.status.idle": "2020-07-23T22:20:55.089954Z",
     "shell.execute_reply": "2020-07-23T22:20:55.090481Z"
    }
   },
   "outputs": [],
   "source": [
    "df_sl,components_pca_nsl=PCA_component_contribution(X_nsl_scaled,x_nsl)\n",
    "df_nsl,components_pca_sl=PCA_component_contribution(X_sl_scaled,x_sl)"
   ]
  },
  {
   "cell_type": "code",
   "execution_count": 21,
   "metadata": {
    "execution": {
     "iopub.execute_input": "2020-07-23T22:20:55.096785Z",
     "iopub.status.busy": "2020-07-23T22:20:55.096233Z",
     "iopub.status.idle": "2020-07-23T22:20:55.102302Z",
     "shell.execute_reply": "2020-07-23T22:20:55.102947Z"
    }
   },
   "outputs": [
    {
     "data": {
      "text/html": [
       "<div>\n",
       "<style scoped>\n",
       "    .dataframe tbody tr th:only-of-type {\n",
       "        vertical-align: middle;\n",
       "    }\n",
       "\n",
       "    .dataframe tbody tr th {\n",
       "        vertical-align: top;\n",
       "    }\n",
       "\n",
       "    .dataframe thead th {\n",
       "        text-align: right;\n",
       "    }\n",
       "</style>\n",
       "<table border=\"1\" class=\"dataframe\">\n",
       "  <thead>\n",
       "    <tr style=\"text-align: right;\">\n",
       "      <th></th>\n",
       "      <th>pca-component</th>\n",
       "      <th>domain-number</th>\n",
       "    </tr>\n",
       "  </thead>\n",
       "  <tbody>\n",
       "    <tr>\n",
       "      <th>0</th>\n",
       "      <td>PC0</td>\n",
       "      <td>447</td>\n",
       "    </tr>\n",
       "    <tr>\n",
       "      <th>1</th>\n",
       "      <td>PC1</td>\n",
       "      <td>165</td>\n",
       "    </tr>\n",
       "    <tr>\n",
       "      <th>2</th>\n",
       "      <td>PC2</td>\n",
       "      <td>989</td>\n",
       "    </tr>\n",
       "    <tr>\n",
       "      <th>3</th>\n",
       "      <td>PC3</td>\n",
       "      <td>1260</td>\n",
       "    </tr>\n",
       "    <tr>\n",
       "      <th>4</th>\n",
       "      <td>PC4</td>\n",
       "      <td>2905</td>\n",
       "    </tr>\n",
       "  </tbody>\n",
       "</table>\n",
       "</div>"
      ],
      "text/plain": [
       "  pca-component  domain-number\n",
       "0           PC0            447\n",
       "1           PC1            165\n",
       "2           PC2            989\n",
       "3           PC3           1260\n",
       "4           PC4           2905"
      ]
     },
     "execution_count": 21,
     "metadata": {},
     "output_type": "execute_result"
    }
   ],
   "source": [
    "df_sl.head()"
   ]
  },
  {
   "cell_type": "markdown",
   "metadata": {},
   "source": [
    "## which are the shared domains between nSL and SL pairs , in the PCA reduced samples"
   ]
  },
  {
   "cell_type": "code",
   "execution_count": 22,
   "metadata": {
    "execution": {
     "iopub.execute_input": "2020-07-23T22:20:55.109060Z",
     "iopub.status.busy": "2020-07-23T22:20:55.108502Z",
     "iopub.status.idle": "2020-07-23T22:20:55.139358Z",
     "shell.execute_reply": "2020-07-23T22:20:55.139926Z"
    }
   },
   "outputs": [
    {
     "data": {
      "text/html": [
       "<div>\n",
       "<style scoped>\n",
       "    .dataframe tbody tr th:only-of-type {\n",
       "        vertical-align: middle;\n",
       "    }\n",
       "\n",
       "    .dataframe tbody tr th {\n",
       "        vertical-align: top;\n",
       "    }\n",
       "\n",
       "    .dataframe thead th {\n",
       "        text-align: right;\n",
       "    }\n",
       "</style>\n",
       "<table border=\"1\" class=\"dataframe\">\n",
       "  <thead>\n",
       "    <tr style=\"text-align: right;\">\n",
       "      <th></th>\n",
       "      <th>pca-component_x</th>\n",
       "      <th>domain-number</th>\n",
       "      <th>pca-component_y</th>\n",
       "      <th>domain-description</th>\n",
       "    </tr>\n",
       "  </thead>\n",
       "  <tbody>\n",
       "    <tr>\n",
       "      <th>0</th>\n",
       "      <td>PC8</td>\n",
       "      <td>1055</td>\n",
       "      <td>PC3</td>\n",
       "      <td>Glyco_hydro_63N; Glycosyl hydrolase family 63,...</td>\n",
       "    </tr>\n",
       "    <tr>\n",
       "      <th>1</th>\n",
       "      <td>PC11</td>\n",
       "      <td>347</td>\n",
       "      <td>PC48</td>\n",
       "      <td>CENP-T_C</td>\n",
       "    </tr>\n",
       "    <tr>\n",
       "      <th>2</th>\n",
       "      <td>PC17</td>\n",
       "      <td>926</td>\n",
       "      <td>PC28</td>\n",
       "      <td>Flp_C; Recombinase Flp protein</td>\n",
       "    </tr>\n",
       "    <tr>\n",
       "      <th>3</th>\n",
       "      <td>PC18</td>\n",
       "      <td>2544</td>\n",
       "      <td>PC20</td>\n",
       "      <td>Sybindin; Trafficking protein particle complex...</td>\n",
       "    </tr>\n",
       "    <tr>\n",
       "      <th>4</th>\n",
       "      <td>PC21</td>\n",
       "      <td>602</td>\n",
       "      <td>PC37</td>\n",
       "      <td>DNA_RNApol_7kD; RNA polymerase archaeal subuni...</td>\n",
       "    </tr>\n",
       "    <tr>\n",
       "      <th>5</th>\n",
       "      <td>PC22</td>\n",
       "      <td>488</td>\n",
       "      <td>PC29</td>\n",
       "      <td>Cnd1_N; Condensin complex subunit 1, N-terminal</td>\n",
       "    </tr>\n",
       "    <tr>\n",
       "      <th>6</th>\n",
       "      <td>PC34</td>\n",
       "      <td>1344</td>\n",
       "      <td>PC89</td>\n",
       "      <td>MAD; Spindle assembly checkpoint component Mad1</td>\n",
       "    </tr>\n",
       "    <tr>\n",
       "      <th>7</th>\n",
       "      <td>PC34</td>\n",
       "      <td>1344</td>\n",
       "      <td>PC90</td>\n",
       "      <td>MAD; Spindle assembly checkpoint component Mad1</td>\n",
       "    </tr>\n",
       "    <tr>\n",
       "      <th>8</th>\n",
       "      <td>PC40</td>\n",
       "      <td>200</td>\n",
       "      <td>PC172</td>\n",
       "      <td>Amidohydro_1; Amidohydrolase-related</td>\n",
       "    </tr>\n",
       "    <tr>\n",
       "      <th>9</th>\n",
       "      <td>PC41</td>\n",
       "      <td>1498</td>\n",
       "      <td>PC145</td>\n",
       "      <td>MmgE_PrpD; MmgE/PrpD</td>\n",
       "    </tr>\n",
       "    <tr>\n",
       "      <th>10</th>\n",
       "      <td>PC44</td>\n",
       "      <td>69</td>\n",
       "      <td>PC167</td>\n",
       "      <td>AIRS; PurM-like, N-terminal domain</td>\n",
       "    </tr>\n",
       "    <tr>\n",
       "      <th>11</th>\n",
       "      <td>PC46</td>\n",
       "      <td>629</td>\n",
       "      <td>PC78</td>\n",
       "      <td>DSHCT; ATP-dependent RNA helicase Ski2, C-term...</td>\n",
       "    </tr>\n",
       "    <tr>\n",
       "      <th>12</th>\n",
       "      <td>PC47</td>\n",
       "      <td>629</td>\n",
       "      <td>PC78</td>\n",
       "      <td>DSHCT; ATP-dependent RNA helicase Ski2, C-term...</td>\n",
       "    </tr>\n",
       "    <tr>\n",
       "      <th>13</th>\n",
       "      <td>PC50</td>\n",
       "      <td>773</td>\n",
       "      <td>PC184</td>\n",
       "      <td>Dynein_light; Dynein light chain, type 1/2</td>\n",
       "    </tr>\n",
       "    <tr>\n",
       "      <th>14</th>\n",
       "      <td>PC51</td>\n",
       "      <td>773</td>\n",
       "      <td>PC184</td>\n",
       "      <td>Dynein_light; Dynein light chain, type 1/2</td>\n",
       "    </tr>\n",
       "    <tr>\n",
       "      <th>15</th>\n",
       "      <td>PC57</td>\n",
       "      <td>510</td>\n",
       "      <td>PC99</td>\n",
       "      <td>Cpn10; GroES chaperonin family</td>\n",
       "    </tr>\n",
       "    <tr>\n",
       "      <th>16</th>\n",
       "      <td>PC57</td>\n",
       "      <td>510</td>\n",
       "      <td>PC105</td>\n",
       "      <td>Cpn10; GroES chaperonin family</td>\n",
       "    </tr>\n",
       "    <tr>\n",
       "      <th>17</th>\n",
       "      <td>PC58</td>\n",
       "      <td>510</td>\n",
       "      <td>PC99</td>\n",
       "      <td>Cpn10; GroES chaperonin family</td>\n",
       "    </tr>\n",
       "    <tr>\n",
       "      <th>18</th>\n",
       "      <td>PC58</td>\n",
       "      <td>510</td>\n",
       "      <td>PC105</td>\n",
       "      <td>Cpn10; GroES chaperonin family</td>\n",
       "    </tr>\n",
       "    <tr>\n",
       "      <th>19</th>\n",
       "      <td>PC61</td>\n",
       "      <td>224</td>\n",
       "      <td>PC233</td>\n",
       "      <td>Arb2; Arb2 domain</td>\n",
       "    </tr>\n",
       "    <tr>\n",
       "      <th>20</th>\n",
       "      <td>PC63</td>\n",
       "      <td>892</td>\n",
       "      <td>PC30</td>\n",
       "      <td>FSH1; Serine hydrolase FSH</td>\n",
       "    </tr>\n",
       "    <tr>\n",
       "      <th>21</th>\n",
       "      <td>PC74</td>\n",
       "      <td>1729</td>\n",
       "      <td>PC86</td>\n",
       "      <td>PEX11; Peroxisomal biogenesis factor 11</td>\n",
       "    </tr>\n",
       "    <tr>\n",
       "      <th>22</th>\n",
       "      <td>PC74</td>\n",
       "      <td>1729</td>\n",
       "      <td>PC91</td>\n",
       "      <td>PEX11; Peroxisomal biogenesis factor 11</td>\n",
       "    </tr>\n",
       "    <tr>\n",
       "      <th>23</th>\n",
       "      <td>PC77</td>\n",
       "      <td>2662</td>\n",
       "      <td>PC71</td>\n",
       "      <td>Thioredoxin; Thioredoxin domain</td>\n",
       "    </tr>\n",
       "    <tr>\n",
       "      <th>24</th>\n",
       "      <td>PC77</td>\n",
       "      <td>2662</td>\n",
       "      <td>PC72</td>\n",
       "      <td>Thioredoxin; Thioredoxin domain</td>\n",
       "    </tr>\n",
       "    <tr>\n",
       "      <th>25</th>\n",
       "      <td>PC78</td>\n",
       "      <td>2662</td>\n",
       "      <td>PC71</td>\n",
       "      <td>Thioredoxin; Thioredoxin domain</td>\n",
       "    </tr>\n",
       "    <tr>\n",
       "      <th>26</th>\n",
       "      <td>PC78</td>\n",
       "      <td>2662</td>\n",
       "      <td>PC72</td>\n",
       "      <td>Thioredoxin; Thioredoxin domain</td>\n",
       "    </tr>\n",
       "    <tr>\n",
       "      <th>27</th>\n",
       "      <td>PC94</td>\n",
       "      <td>2759</td>\n",
       "      <td>PC221</td>\n",
       "      <td>UPF0220; Uncharacterised protein family UPF0220</td>\n",
       "    </tr>\n",
       "    <tr>\n",
       "      <th>28</th>\n",
       "      <td>PC136</td>\n",
       "      <td>2759</td>\n",
       "      <td>PC221</td>\n",
       "      <td>UPF0220; Uncharacterised protein family UPF0220</td>\n",
       "    </tr>\n",
       "    <tr>\n",
       "      <th>29</th>\n",
       "      <td>PC99</td>\n",
       "      <td>6</td>\n",
       "      <td>PC190</td>\n",
       "      <td>2OG-FeII_Oxy_4</td>\n",
       "    </tr>\n",
       "    <tr>\n",
       "      <th>30</th>\n",
       "      <td>PC99</td>\n",
       "      <td>6</td>\n",
       "      <td>PC191</td>\n",
       "      <td>2OG-FeII_Oxy_4</td>\n",
       "    </tr>\n",
       "    <tr>\n",
       "      <th>31</th>\n",
       "      <td>PC99</td>\n",
       "      <td>6</td>\n",
       "      <td>PC192</td>\n",
       "      <td>2OG-FeII_Oxy_4</td>\n",
       "    </tr>\n",
       "    <tr>\n",
       "      <th>32</th>\n",
       "      <td>PC99</td>\n",
       "      <td>6</td>\n",
       "      <td>PC194</td>\n",
       "      <td>2OG-FeII_Oxy_4</td>\n",
       "    </tr>\n",
       "    <tr>\n",
       "      <th>33</th>\n",
       "      <td>PC105</td>\n",
       "      <td>2107</td>\n",
       "      <td>PC22</td>\n",
       "      <td>RasGAP; Ras GTPase-activating protein</td>\n",
       "    </tr>\n",
       "    <tr>\n",
       "      <th>34</th>\n",
       "      <td>PC110</td>\n",
       "      <td>1859</td>\n",
       "      <td>PC238</td>\n",
       "      <td>Pcc1; CTAG/Pcc1 family</td>\n",
       "    </tr>\n",
       "    <tr>\n",
       "      <th>35</th>\n",
       "      <td>PC114</td>\n",
       "      <td>1410</td>\n",
       "      <td>PC130</td>\n",
       "      <td>MTHFR; Methylenetetrahydrofolate reductase</td>\n",
       "    </tr>\n",
       "    <tr>\n",
       "      <th>36</th>\n",
       "      <td>PC121</td>\n",
       "      <td>275</td>\n",
       "      <td>PC51</td>\n",
       "      <td>BP28CT; BP28, C-terminal domain</td>\n",
       "    </tr>\n",
       "    <tr>\n",
       "      <th>37</th>\n",
       "      <td>PC126</td>\n",
       "      <td>622</td>\n",
       "      <td>PC118</td>\n",
       "      <td>DNA_topoisoIV; DNA topoisomerase, type IIA, su...</td>\n",
       "    </tr>\n",
       "    <tr>\n",
       "      <th>38</th>\n",
       "      <td>PC126</td>\n",
       "      <td>622</td>\n",
       "      <td>PC120</td>\n",
       "      <td>DNA_topoisoIV; DNA topoisomerase, type IIA, su...</td>\n",
       "    </tr>\n",
       "    <tr>\n",
       "      <th>39</th>\n",
       "      <td>PC129</td>\n",
       "      <td>1389</td>\n",
       "      <td>PC69</td>\n",
       "      <td>MOR2-PAG1_mid; Cell morphogenesis central region</td>\n",
       "    </tr>\n",
       "    <tr>\n",
       "      <th>40</th>\n",
       "      <td>PC138</td>\n",
       "      <td>2150</td>\n",
       "      <td>PC163</td>\n",
       "      <td>Ribosom_S12_S23; Ribosomal protein S12/S23</td>\n",
       "    </tr>\n",
       "    <tr>\n",
       "      <th>41</th>\n",
       "      <td>PC145</td>\n",
       "      <td>34</td>\n",
       "      <td>PC58</td>\n",
       "      <td>AA_kinase; Aspartate/glutamate/uridylate kinase</td>\n",
       "    </tr>\n",
       "    <tr>\n",
       "      <th>42</th>\n",
       "      <td>PC151</td>\n",
       "      <td>1701</td>\n",
       "      <td>PC178</td>\n",
       "      <td>PAP_central; Poly(A) polymerase, central domain</td>\n",
       "    </tr>\n",
       "    <tr>\n",
       "      <th>43</th>\n",
       "      <td>PC166</td>\n",
       "      <td>799</td>\n",
       "      <td>PC153</td>\n",
       "      <td>EF_assoc_1; EF hand associated, type-1</td>\n",
       "    </tr>\n",
       "    <tr>\n",
       "      <th>44</th>\n",
       "      <td>PC166</td>\n",
       "      <td>799</td>\n",
       "      <td>PC154</td>\n",
       "      <td>EF_assoc_1; EF hand associated, type-1</td>\n",
       "    </tr>\n",
       "    <tr>\n",
       "      <th>45</th>\n",
       "      <td>PC170</td>\n",
       "      <td>2916</td>\n",
       "      <td>PC182</td>\n",
       "      <td>fn3_2; Fibronectin type III domain, fungi</td>\n",
       "    </tr>\n",
       "    <tr>\n",
       "      <th>46</th>\n",
       "      <td>PC173</td>\n",
       "      <td>2916</td>\n",
       "      <td>PC182</td>\n",
       "      <td>fn3_2; Fibronectin type III domain, fungi</td>\n",
       "    </tr>\n",
       "    <tr>\n",
       "      <th>47</th>\n",
       "      <td>PC175</td>\n",
       "      <td>778</td>\n",
       "      <td>PC148</td>\n",
       "      <td>E1_UFD; Ubiquitin-activating enzyme E1, C-term...</td>\n",
       "    </tr>\n",
       "    <tr>\n",
       "      <th>48</th>\n",
       "      <td>PC175</td>\n",
       "      <td>778</td>\n",
       "      <td>PC151</td>\n",
       "      <td>E1_UFD; Ubiquitin-activating enzyme E1, C-term...</td>\n",
       "    </tr>\n",
       "    <tr>\n",
       "      <th>49</th>\n",
       "      <td>PC180</td>\n",
       "      <td>237</td>\n",
       "      <td>PC159</td>\n",
       "      <td>Asn_synthase; Asparagine synthase</td>\n",
       "    </tr>\n",
       "    <tr>\n",
       "      <th>50</th>\n",
       "      <td>PC180</td>\n",
       "      <td>237</td>\n",
       "      <td>PC162</td>\n",
       "      <td>Asn_synthase; Asparagine synthase</td>\n",
       "    </tr>\n",
       "    <tr>\n",
       "      <th>51</th>\n",
       "      <td>PC182</td>\n",
       "      <td>237</td>\n",
       "      <td>PC159</td>\n",
       "      <td>Asn_synthase; Asparagine synthase</td>\n",
       "    </tr>\n",
       "    <tr>\n",
       "      <th>52</th>\n",
       "      <td>PC182</td>\n",
       "      <td>237</td>\n",
       "      <td>PC162</td>\n",
       "      <td>Asn_synthase; Asparagine synthase</td>\n",
       "    </tr>\n",
       "    <tr>\n",
       "      <th>53</th>\n",
       "      <td>PC183</td>\n",
       "      <td>9</td>\n",
       "      <td>PC173</td>\n",
       "      <td>40S_S4_C; 40S ribosomal protein S4, C-terminal...</td>\n",
       "    </tr>\n",
       "    <tr>\n",
       "      <th>54</th>\n",
       "      <td>PC191</td>\n",
       "      <td>2165</td>\n",
       "      <td>PC100</td>\n",
       "      <td>Ribosomal_L18A; Ribosomal protein 50S-L18Ae/60...</td>\n",
       "    </tr>\n",
       "    <tr>\n",
       "      <th>55</th>\n",
       "      <td>PC275</td>\n",
       "      <td>2165</td>\n",
       "      <td>PC100</td>\n",
       "      <td>Ribosomal_L18A; Ribosomal protein 50S-L18Ae/60...</td>\n",
       "    </tr>\n",
       "    <tr>\n",
       "      <th>56</th>\n",
       "      <td>PC256</td>\n",
       "      <td>1089</td>\n",
       "      <td>PC117</td>\n",
       "      <td>Guanylate_kin; Guanylate kinase/L-type calcium...</td>\n",
       "    </tr>\n",
       "    <tr>\n",
       "      <th>57</th>\n",
       "      <td>PC265</td>\n",
       "      <td>1189</td>\n",
       "      <td>PC102</td>\n",
       "      <td>Hydantoinase_A; Hydantoinase/oxoprolinase</td>\n",
       "    </tr>\n",
       "    <tr>\n",
       "      <th>58</th>\n",
       "      <td>PC265</td>\n",
       "      <td>1189</td>\n",
       "      <td>PC103</td>\n",
       "      <td>Hydantoinase_A; Hydantoinase/oxoprolinase</td>\n",
       "    </tr>\n",
       "    <tr>\n",
       "      <th>59</th>\n",
       "      <td>PC269</td>\n",
       "      <td>1301</td>\n",
       "      <td>PC111</td>\n",
       "      <td>LRR_4; Leucine rich repeat 4</td>\n",
       "    </tr>\n",
       "  </tbody>\n",
       "</table>\n",
       "</div>"
      ],
      "text/plain": [
       "   pca-component_x  domain-number pca-component_y  \\\n",
       "0              PC8           1055             PC3   \n",
       "1             PC11            347            PC48   \n",
       "2             PC17            926            PC28   \n",
       "3             PC18           2544            PC20   \n",
       "4             PC21            602            PC37   \n",
       "5             PC22            488            PC29   \n",
       "6             PC34           1344            PC89   \n",
       "7             PC34           1344            PC90   \n",
       "8             PC40            200           PC172   \n",
       "9             PC41           1498           PC145   \n",
       "10            PC44             69           PC167   \n",
       "11            PC46            629            PC78   \n",
       "12            PC47            629            PC78   \n",
       "13            PC50            773           PC184   \n",
       "14            PC51            773           PC184   \n",
       "15            PC57            510            PC99   \n",
       "16            PC57            510           PC105   \n",
       "17            PC58            510            PC99   \n",
       "18            PC58            510           PC105   \n",
       "19            PC61            224           PC233   \n",
       "20            PC63            892            PC30   \n",
       "21            PC74           1729            PC86   \n",
       "22            PC74           1729            PC91   \n",
       "23            PC77           2662            PC71   \n",
       "24            PC77           2662            PC72   \n",
       "25            PC78           2662            PC71   \n",
       "26            PC78           2662            PC72   \n",
       "27            PC94           2759           PC221   \n",
       "28           PC136           2759           PC221   \n",
       "29            PC99              6           PC190   \n",
       "30            PC99              6           PC191   \n",
       "31            PC99              6           PC192   \n",
       "32            PC99              6           PC194   \n",
       "33           PC105           2107            PC22   \n",
       "34           PC110           1859           PC238   \n",
       "35           PC114           1410           PC130   \n",
       "36           PC121            275            PC51   \n",
       "37           PC126            622           PC118   \n",
       "38           PC126            622           PC120   \n",
       "39           PC129           1389            PC69   \n",
       "40           PC138           2150           PC163   \n",
       "41           PC145             34            PC58   \n",
       "42           PC151           1701           PC178   \n",
       "43           PC166            799           PC153   \n",
       "44           PC166            799           PC154   \n",
       "45           PC170           2916           PC182   \n",
       "46           PC173           2916           PC182   \n",
       "47           PC175            778           PC148   \n",
       "48           PC175            778           PC151   \n",
       "49           PC180            237           PC159   \n",
       "50           PC180            237           PC162   \n",
       "51           PC182            237           PC159   \n",
       "52           PC182            237           PC162   \n",
       "53           PC183              9           PC173   \n",
       "54           PC191           2165           PC100   \n",
       "55           PC275           2165           PC100   \n",
       "56           PC256           1089           PC117   \n",
       "57           PC265           1189           PC102   \n",
       "58           PC265           1189           PC103   \n",
       "59           PC269           1301           PC111   \n",
       "\n",
       "                                   domain-description  \n",
       "0   Glyco_hydro_63N; Glycosyl hydrolase family 63,...  \n",
       "1                                            CENP-T_C  \n",
       "2                      Flp_C; Recombinase Flp protein  \n",
       "3   Sybindin; Trafficking protein particle complex...  \n",
       "4   DNA_RNApol_7kD; RNA polymerase archaeal subuni...  \n",
       "5     Cnd1_N; Condensin complex subunit 1, N-terminal  \n",
       "6     MAD; Spindle assembly checkpoint component Mad1  \n",
       "7     MAD; Spindle assembly checkpoint component Mad1  \n",
       "8                Amidohydro_1; Amidohydrolase-related  \n",
       "9                                MmgE_PrpD; MmgE/PrpD  \n",
       "10                 AIRS; PurM-like, N-terminal domain  \n",
       "11  DSHCT; ATP-dependent RNA helicase Ski2, C-term...  \n",
       "12  DSHCT; ATP-dependent RNA helicase Ski2, C-term...  \n",
       "13         Dynein_light; Dynein light chain, type 1/2  \n",
       "14         Dynein_light; Dynein light chain, type 1/2  \n",
       "15                     Cpn10; GroES chaperonin family  \n",
       "16                     Cpn10; GroES chaperonin family  \n",
       "17                     Cpn10; GroES chaperonin family  \n",
       "18                     Cpn10; GroES chaperonin family  \n",
       "19                                  Arb2; Arb2 domain  \n",
       "20                         FSH1; Serine hydrolase FSH  \n",
       "21            PEX11; Peroxisomal biogenesis factor 11  \n",
       "22            PEX11; Peroxisomal biogenesis factor 11  \n",
       "23                    Thioredoxin; Thioredoxin domain  \n",
       "24                    Thioredoxin; Thioredoxin domain  \n",
       "25                    Thioredoxin; Thioredoxin domain  \n",
       "26                    Thioredoxin; Thioredoxin domain  \n",
       "27    UPF0220; Uncharacterised protein family UPF0220  \n",
       "28    UPF0220; Uncharacterised protein family UPF0220  \n",
       "29                                     2OG-FeII_Oxy_4  \n",
       "30                                     2OG-FeII_Oxy_4  \n",
       "31                                     2OG-FeII_Oxy_4  \n",
       "32                                     2OG-FeII_Oxy_4  \n",
       "33              RasGAP; Ras GTPase-activating protein  \n",
       "34                             Pcc1; CTAG/Pcc1 family  \n",
       "35         MTHFR; Methylenetetrahydrofolate reductase  \n",
       "36                    BP28CT; BP28, C-terminal domain  \n",
       "37  DNA_topoisoIV; DNA topoisomerase, type IIA, su...  \n",
       "38  DNA_topoisoIV; DNA topoisomerase, type IIA, su...  \n",
       "39   MOR2-PAG1_mid; Cell morphogenesis central region  \n",
       "40         Ribosom_S12_S23; Ribosomal protein S12/S23  \n",
       "41    AA_kinase; Aspartate/glutamate/uridylate kinase  \n",
       "42    PAP_central; Poly(A) polymerase, central domain  \n",
       "43             EF_assoc_1; EF hand associated, type-1  \n",
       "44             EF_assoc_1; EF hand associated, type-1  \n",
       "45          fn3_2; Fibronectin type III domain, fungi  \n",
       "46          fn3_2; Fibronectin type III domain, fungi  \n",
       "47  E1_UFD; Ubiquitin-activating enzyme E1, C-term...  \n",
       "48  E1_UFD; Ubiquitin-activating enzyme E1, C-term...  \n",
       "49                  Asn_synthase; Asparagine synthase  \n",
       "50                  Asn_synthase; Asparagine synthase  \n",
       "51                  Asn_synthase; Asparagine synthase  \n",
       "52                  Asn_synthase; Asparagine synthase  \n",
       "53  40S_S4_C; 40S ribosomal protein S4, C-terminal...  \n",
       "54  Ribosomal_L18A; Ribosomal protein 50S-L18Ae/60...  \n",
       "55  Ribosomal_L18A; Ribosomal protein 50S-L18Ae/60...  \n",
       "56  Guanylate_kin; Guanylate kinase/L-type calcium...  \n",
       "57          Hydantoinase_A; Hydantoinase/oxoprolinase  \n",
       "58          Hydantoinase_A; Hydantoinase/oxoprolinase  \n",
       "59                       LRR_4; Leucine rich repeat 4  "
      ]
     },
     "execution_count": 22,
     "metadata": {},
     "output_type": "execute_result"
    }
   ],
   "source": [
    "df_shared_domains=pd.merge(df_sl,df_nsl,how='inner',on='domain-number')\n",
    "domains_name=np.unique(data_domains['domain-name'])\n",
    "domains_description=np.unique(data_domains['domain-descrip'])\n",
    "\n",
    "df_shared_domains['domain-description']=domains_description[df_shared_domains['domain-number']]\n",
    "\n",
    "\n",
    "df_shared_domains"
   ]
  },
  {
   "cell_type": "code",
   "execution_count": 23,
   "metadata": {
    "execution": {
     "iopub.execute_input": "2020-07-23T22:20:55.142386Z",
     "iopub.status.busy": "2020-07-23T22:20:55.141794Z",
     "iopub.status.idle": "2020-07-23T22:20:55.147331Z",
     "shell.execute_reply": "2020-07-23T22:20:55.147900Z"
    }
   },
   "outputs": [
    {
     "name": "stdout",
     "output_type": "stream",
     "text": [
      "The number of shared domains between SL and nSL pairs,after PCA, is =  60 out of 540 so the 11.11111111111111 %\n"
     ]
    }
   ],
   "source": [
    "print('The number of shared domains between SL and nSL pairs,after PCA, is = ',len(df_shared_domains), 'out of', len(df_sl)+len(df_nsl), 'so the',100*len(df_shared_domains)/(len(df_sl)+len(df_nsl)),'%')"
   ]
  },
  {
   "cell_type": "markdown",
   "metadata": {},
   "source": [
    "## Domains exclusive to SL"
   ]
  },
  {
   "cell_type": "code",
   "execution_count": 24,
   "metadata": {
    "execution": {
     "iopub.execute_input": "2020-07-23T22:20:55.150242Z",
     "iopub.status.busy": "2020-07-23T22:20:55.149678Z",
     "iopub.status.idle": "2020-07-23T22:20:55.178316Z",
     "shell.execute_reply": "2020-07-23T22:20:55.179077Z"
    }
   },
   "outputs": [
    {
     "data": {
      "text/html": [
       "<div>\n",
       "<style scoped>\n",
       "    .dataframe tbody tr th:only-of-type {\n",
       "        vertical-align: middle;\n",
       "    }\n",
       "\n",
       "    .dataframe tbody tr th {\n",
       "        vertical-align: top;\n",
       "    }\n",
       "\n",
       "    .dataframe thead th {\n",
       "        text-align: right;\n",
       "    }\n",
       "</style>\n",
       "<table border=\"1\" class=\"dataframe\">\n",
       "  <thead>\n",
       "    <tr style=\"text-align: right;\">\n",
       "      <th></th>\n",
       "      <th>pca-component_x</th>\n",
       "      <th>domain-number</th>\n",
       "      <th>pca-component_y</th>\n",
       "      <th>domain-description</th>\n",
       "    </tr>\n",
       "  </thead>\n",
       "  <tbody>\n",
       "    <tr>\n",
       "      <th>0</th>\n",
       "      <td>PC0</td>\n",
       "      <td>447</td>\n",
       "      <td>NaN</td>\n",
       "      <td>Cation_ATPase</td>\n",
       "    </tr>\n",
       "    <tr>\n",
       "      <th>1</th>\n",
       "      <td>PC1</td>\n",
       "      <td>165</td>\n",
       "      <td>NaN</td>\n",
       "      <td>Acyltransferase; Phospholipid/glycerol acyltra...</td>\n",
       "    </tr>\n",
       "    <tr>\n",
       "      <th>2</th>\n",
       "      <td>PC2</td>\n",
       "      <td>989</td>\n",
       "      <td>NaN</td>\n",
       "      <td>GLE1; GLE1-like</td>\n",
       "    </tr>\n",
       "    <tr>\n",
       "      <th>3</th>\n",
       "      <td>PC3</td>\n",
       "      <td>1260</td>\n",
       "      <td>NaN</td>\n",
       "      <td>KOW</td>\n",
       "    </tr>\n",
       "    <tr>\n",
       "      <th>4</th>\n",
       "      <td>PC4</td>\n",
       "      <td>2905</td>\n",
       "      <td>NaN</td>\n",
       "      <td>eIF-6; Translation initiation factor IF6</td>\n",
       "    </tr>\n",
       "    <tr>\n",
       "      <th>...</th>\n",
       "      <td>...</td>\n",
       "      <td>...</td>\n",
       "      <td>...</td>\n",
       "      <td>...</td>\n",
       "    </tr>\n",
       "    <tr>\n",
       "      <th>285</th>\n",
       "      <td>PC270</td>\n",
       "      <td>1365</td>\n",
       "      <td>NaN</td>\n",
       "      <td>MF_alpha; Mating factor alpha, C-terminal repeat</td>\n",
       "    </tr>\n",
       "    <tr>\n",
       "      <th>286</th>\n",
       "      <td>PC271</td>\n",
       "      <td>2492</td>\n",
       "      <td>NaN</td>\n",
       "      <td>Sod_Cu; Superoxide dismutase, copper/zinc bind...</td>\n",
       "    </tr>\n",
       "    <tr>\n",
       "      <th>287</th>\n",
       "      <td>PC272</td>\n",
       "      <td>691</td>\n",
       "      <td>NaN</td>\n",
       "      <td>DUF3294; Protein of unknown function DUF3294</td>\n",
       "    </tr>\n",
       "    <tr>\n",
       "      <th>288</th>\n",
       "      <td>PC273</td>\n",
       "      <td>161</td>\n",
       "      <td>NaN</td>\n",
       "      <td>Acyl-CoA_ox_N; Acyl-coenzyme A oxidase, N-term...</td>\n",
       "    </tr>\n",
       "    <tr>\n",
       "      <th>289</th>\n",
       "      <td>PC274</td>\n",
       "      <td>1418</td>\n",
       "      <td>NaN</td>\n",
       "      <td>Mak16; Mak16 protein</td>\n",
       "    </tr>\n",
       "  </tbody>\n",
       "</table>\n",
       "<p>231 rows × 4 columns</p>\n",
       "</div>"
      ],
      "text/plain": [
       "    pca-component_x  domain-number pca-component_y  \\\n",
       "0               PC0            447             NaN   \n",
       "1               PC1            165             NaN   \n",
       "2               PC2            989             NaN   \n",
       "3               PC3           1260             NaN   \n",
       "4               PC4           2905             NaN   \n",
       "..              ...            ...             ...   \n",
       "285           PC270           1365             NaN   \n",
       "286           PC271           2492             NaN   \n",
       "287           PC272            691             NaN   \n",
       "288           PC273            161             NaN   \n",
       "289           PC274           1418             NaN   \n",
       "\n",
       "                                    domain-description  \n",
       "0                                        Cation_ATPase  \n",
       "1    Acyltransferase; Phospholipid/glycerol acyltra...  \n",
       "2                                      GLE1; GLE1-like  \n",
       "3                                                  KOW  \n",
       "4             eIF-6; Translation initiation factor IF6  \n",
       "..                                                 ...  \n",
       "285   MF_alpha; Mating factor alpha, C-terminal repeat  \n",
       "286  Sod_Cu; Superoxide dismutase, copper/zinc bind...  \n",
       "287       DUF3294; Protein of unknown function DUF3294  \n",
       "288  Acyl-CoA_ox_N; Acyl-coenzyme A oxidase, N-term...  \n",
       "289                               Mak16; Mak16 protein  \n",
       "\n",
       "[231 rows x 4 columns]"
      ]
     },
     "execution_count": 24,
     "metadata": {},
     "output_type": "execute_result"
    }
   ],
   "source": [
    "df_sl_exclusive=pd.merge(df_sl,df_nsl,how='left',on='domain-number')\n",
    "\n",
    "domains_name=np.unique(data_domains['domain-name'])\n",
    "domains_description=np.unique(data_domains['domain-descrip'])\n",
    "\n",
    "df_sl_exclusive['domain-description']=domains_description[df_sl_exclusive['domain-number']]\n",
    "df_sl_exclusive[pd.isnull(df_sl_exclusive['pca-component_y'])]"
   ]
  },
  {
   "cell_type": "code",
   "execution_count": 25,
   "metadata": {
    "execution": {
     "iopub.execute_input": "2020-07-23T22:20:55.182395Z",
     "iopub.status.busy": "2020-07-23T22:20:55.181303Z",
     "iopub.status.idle": "2020-07-23T22:20:55.188990Z",
     "shell.execute_reply": "2020-07-23T22:20:55.189720Z"
    }
   },
   "outputs": [
    {
     "name": "stdout",
     "output_type": "stream",
     "text": [
      "The number of exclusive domains from SL pairs, after PCA, is =  291 out of 540 so the 53.888888888888886 %\n"
     ]
    }
   ],
   "source": [
    "print('The number of exclusive domains from SL pairs, after PCA, is = ',len(df_sl_exclusive), 'out of', len(df_sl)+len(df_nsl), 'so the',100*len(df_sl_exclusive)/(len(df_sl)+len(df_nsl)),'%')"
   ]
  },
  {
   "cell_type": "code",
   "execution_count": 26,
   "metadata": {
    "execution": {
     "iopub.execute_input": "2020-07-23T22:20:55.196830Z",
     "iopub.status.busy": "2020-07-23T22:20:55.195538Z",
     "iopub.status.idle": "2020-07-23T22:20:55.226016Z",
     "shell.execute_reply": "2020-07-23T22:20:55.226748Z"
    }
   },
   "outputs": [
    {
     "data": {
      "text/html": [
       "<div>\n",
       "<style scoped>\n",
       "    .dataframe tbody tr th:only-of-type {\n",
       "        vertical-align: middle;\n",
       "    }\n",
       "\n",
       "    .dataframe tbody tr th {\n",
       "        vertical-align: top;\n",
       "    }\n",
       "\n",
       "    .dataframe thead th {\n",
       "        text-align: right;\n",
       "    }\n",
       "</style>\n",
       "<table border=\"1\" class=\"dataframe\">\n",
       "  <thead>\n",
       "    <tr style=\"text-align: right;\">\n",
       "      <th></th>\n",
       "      <th>pca-component_x</th>\n",
       "      <th>domain-number</th>\n",
       "      <th>pca-component_y</th>\n",
       "      <th>domain-description</th>\n",
       "    </tr>\n",
       "  </thead>\n",
       "  <tbody>\n",
       "    <tr>\n",
       "      <th>60</th>\n",
       "      <td>NaN</td>\n",
       "      <td>1028</td>\n",
       "      <td>PC0</td>\n",
       "      <td>GatB_Yqey; Asn/Gln amidotransferase</td>\n",
       "    </tr>\n",
       "    <tr>\n",
       "      <th>61</th>\n",
       "      <td>NaN</td>\n",
       "      <td>305</td>\n",
       "      <td>PC1</td>\n",
       "      <td>Brr6_like_C_C; Brl1/Brr6 domain</td>\n",
       "    </tr>\n",
       "    <tr>\n",
       "      <th>62</th>\n",
       "      <td>NaN</td>\n",
       "      <td>268</td>\n",
       "      <td>PC2</td>\n",
       "      <td>BHD_3; Rad4 beta-hairpin domain 3</td>\n",
       "    </tr>\n",
       "    <tr>\n",
       "      <th>63</th>\n",
       "      <td>NaN</td>\n",
       "      <td>2113</td>\n",
       "      <td>PC4</td>\n",
       "      <td>Rav1p_C; RAVE complex protein Rav1 C-terminal</td>\n",
       "    </tr>\n",
       "    <tr>\n",
       "      <th>64</th>\n",
       "      <td>NaN</td>\n",
       "      <td>308</td>\n",
       "      <td>PC5</td>\n",
       "      <td>Bul1_N; Bul1, N-terminal</td>\n",
       "    </tr>\n",
       "    <tr>\n",
       "      <th>...</th>\n",
       "      <td>...</td>\n",
       "      <td>...</td>\n",
       "      <td>...</td>\n",
       "      <td>...</td>\n",
       "    </tr>\n",
       "    <tr>\n",
       "      <th>270</th>\n",
       "      <td>NaN</td>\n",
       "      <td>1911</td>\n",
       "      <td>PC259</td>\n",
       "      <td>Phosducin; Phosducin, thioredoxin-like domain</td>\n",
       "    </tr>\n",
       "    <tr>\n",
       "      <th>271</th>\n",
       "      <td>NaN</td>\n",
       "      <td>3</td>\n",
       "      <td>PC260</td>\n",
       "      <td>2-Hacid_dh_C; D-isomer specific 2-hydroxyacid ...</td>\n",
       "    </tr>\n",
       "    <tr>\n",
       "      <th>272</th>\n",
       "      <td>NaN</td>\n",
       "      <td>2208</td>\n",
       "      <td>PC261</td>\n",
       "      <td>Ribosomal_L5; Ribosomal protein L5, N-terminal</td>\n",
       "    </tr>\n",
       "    <tr>\n",
       "      <th>273</th>\n",
       "      <td>NaN</td>\n",
       "      <td>107</td>\n",
       "      <td>PC262</td>\n",
       "      <td>ATE_N; Arginine-tRNA-protein transferase, N-te...</td>\n",
       "    </tr>\n",
       "    <tr>\n",
       "      <th>274</th>\n",
       "      <td>NaN</td>\n",
       "      <td>1033</td>\n",
       "      <td>PC263</td>\n",
       "      <td>Git3; Glucose receptor Git3, N-terminal</td>\n",
       "    </tr>\n",
       "  </tbody>\n",
       "</table>\n",
       "<p>215 rows × 4 columns</p>\n",
       "</div>"
      ],
      "text/plain": [
       "    pca-component_x  domain-number pca-component_y  \\\n",
       "60              NaN           1028             PC0   \n",
       "61              NaN            305             PC1   \n",
       "62              NaN            268             PC2   \n",
       "63              NaN           2113             PC4   \n",
       "64              NaN            308             PC5   \n",
       "..              ...            ...             ...   \n",
       "270             NaN           1911           PC259   \n",
       "271             NaN              3           PC260   \n",
       "272             NaN           2208           PC261   \n",
       "273             NaN            107           PC262   \n",
       "274             NaN           1033           PC263   \n",
       "\n",
       "                                    domain-description  \n",
       "60                 GatB_Yqey; Asn/Gln amidotransferase  \n",
       "61                     Brr6_like_C_C; Brl1/Brr6 domain  \n",
       "62                   BHD_3; Rad4 beta-hairpin domain 3  \n",
       "63       Rav1p_C; RAVE complex protein Rav1 C-terminal  \n",
       "64                            Bul1_N; Bul1, N-terminal  \n",
       "..                                                 ...  \n",
       "270      Phosducin; Phosducin, thioredoxin-like domain  \n",
       "271  2-Hacid_dh_C; D-isomer specific 2-hydroxyacid ...  \n",
       "272     Ribosomal_L5; Ribosomal protein L5, N-terminal  \n",
       "273  ATE_N; Arginine-tRNA-protein transferase, N-te...  \n",
       "274            Git3; Glucose receptor Git3, N-terminal  \n",
       "\n",
       "[215 rows x 4 columns]"
      ]
     },
     "execution_count": 26,
     "metadata": {},
     "output_type": "execute_result"
    }
   ],
   "source": [
    "df_nsl_exclusive=pd.merge(df_sl,df_nsl,how='right',on='domain-number')\n",
    "\n",
    "domains_name=np.unique(data_domains['domain-name'])\n",
    "domains_description=np.unique(data_domains['domain-descrip'])\n",
    "\n",
    "df_nsl_exclusive['domain-description']=domains_description[df_nsl_exclusive['domain-number']]\n",
    "df_nsl_exclusive[pd.isnull(df_nsl_exclusive['pca-component_x'])]"
   ]
  },
  {
   "cell_type": "code",
   "execution_count": 27,
   "metadata": {
    "execution": {
     "iopub.execute_input": "2020-07-23T22:20:55.231601Z",
     "iopub.status.busy": "2020-07-23T22:20:55.231045Z",
     "iopub.status.idle": "2020-07-23T22:20:55.236429Z",
     "shell.execute_reply": "2020-07-23T22:20:55.235864Z"
    }
   },
   "outputs": [
    {
     "name": "stdout",
     "output_type": "stream",
     "text": [
      "The number of exclusive domains from non SL pairs, after PCA, is =  275 out of 540 so the 50.925925925925924 %\n"
     ]
    }
   ],
   "source": [
    "print('The number of exclusive domains from non SL pairs, after PCA, is = ',len(df_nsl_exclusive), 'out of', len(df_sl)+len(df_nsl), 'so the',100*len(df_nsl_exclusive)/(len(df_sl)+len(df_nsl)),'%')"
   ]
  },
  {
   "cell_type": "markdown",
   "metadata": {},
   "source": [
    "## Let see to the domains-number that get repeated after the PCA analysis , and selecting the most explanatory feature by its explained variance."
   ]
  },
  {
   "cell_type": "code",
   "execution_count": 28,
   "metadata": {
    "execution": {
     "iopub.execute_input": "2020-07-23T22:20:55.249499Z",
     "iopub.status.busy": "2020-07-23T22:20:55.248906Z",
     "iopub.status.idle": "2020-07-23T22:20:55.261747Z",
     "shell.execute_reply": "2020-07-23T22:20:55.261249Z"
    }
   },
   "outputs": [],
   "source": [
    "duplicated_features_sl=df_sl[df_sl.iloc[:,1].duplicated()]\n",
    "repeated_features_sl=pd.DataFrame()\n",
    "\n",
    "domains_name=np.unique(data_domains['domain-name'])\n",
    "domains_description=np.unique(data_domains['domain-descrip'])\n",
    "\n",
    "repeated_features_sl['domain-name']=domains_name[duplicated_features_sl.iloc[:,1]] \n",
    "repeated_features_sl['domain-description']=domains_description[duplicated_features_sl.iloc[:,1]]\n",
    "\n",
    "duplicated_features_nsl=df_nsl[df_nsl.iloc[:,1].duplicated()]\n",
    "repeated_features_nsl=pd.DataFrame()\n",
    "\n",
    "repeated_features_nsl['domain-name']=domains_name[duplicated_features_nsl.iloc[:,1]] \n",
    "repeated_features_nsl['domain-description']=domains_description[duplicated_features_nsl.iloc[:,1]]"
   ]
  },
  {
   "cell_type": "code",
   "execution_count": 29,
   "metadata": {
    "execution": {
     "iopub.execute_input": "2020-07-23T22:20:55.270630Z",
     "iopub.status.busy": "2020-07-23T22:20:55.269267Z",
     "iopub.status.idle": "2020-07-23T22:20:55.277475Z",
     "shell.execute_reply": "2020-07-23T22:20:55.277961Z"
    }
   },
   "outputs": [
    {
     "name": "stderr",
     "output_type": "stream",
     "text": [
      "/usr/share/miniconda3/envs/wintest/lib/python3.7/site-packages/ipykernel_launcher.py:3: SettingWithCopyWarning: \n",
      "A value is trying to be set on a copy of a slice from a DataFrame.\n",
      "Try using .loc[row_indexer,col_indexer] = value instead\n",
      "\n",
      "See the caveats in the documentation: https://pandas.pydata.org/pandas-docs/stable/user_guide/indexing.html#returning-a-view-versus-a-copy\n",
      "  This is separate from the ipykernel package so we can avoid doing imports until\n"
     ]
    },
    {
     "data": {
      "text/plain": [
       "((44, 4), (291, 4))"
      ]
     },
     "execution_count": 29,
     "metadata": {},
     "output_type": "execute_result"
    }
   ],
   "source": [
    "only_sl_pd=pd.merge(repeated_features_sl,repeated_features_nsl,how='left',on=['domain-name'])\n",
    "data_only_sl = only_sl_pd[pd.isnull(only_sl_pd['domain-description_y'])]\n",
    "data_only_sl['domain-description']=data_only_sl['domain-description_x']\n",
    "data_only_sl.shape,df_sl_exclusive.shape"
   ]
  },
  {
   "cell_type": "code",
   "execution_count": 30,
   "metadata": {
    "execution": {
     "iopub.execute_input": "2020-07-23T22:20:55.298916Z",
     "iopub.status.busy": "2020-07-23T22:20:55.298270Z",
     "iopub.status.idle": "2020-07-23T22:20:55.304274Z",
     "shell.execute_reply": "2020-07-23T22:20:55.303732Z"
    }
   },
   "outputs": [
    {
     "data": {
      "text/html": [
       "<div>\n",
       "<style scoped>\n",
       "    .dataframe tbody tr th:only-of-type {\n",
       "        vertical-align: middle;\n",
       "    }\n",
       "\n",
       "    .dataframe tbody tr th {\n",
       "        vertical-align: top;\n",
       "    }\n",
       "\n",
       "    .dataframe thead th {\n",
       "        text-align: right;\n",
       "    }\n",
       "</style>\n",
       "<table border=\"1\" class=\"dataframe\">\n",
       "  <thead>\n",
       "    <tr style=\"text-align: right;\">\n",
       "      <th></th>\n",
       "      <th>domain-name</th>\n",
       "      <th>domain-description_x</th>\n",
       "      <th>domain-description_y</th>\n",
       "    </tr>\n",
       "  </thead>\n",
       "  <tbody>\n",
       "    <tr>\n",
       "      <th>3</th>\n",
       "      <td>PF00578</td>\n",
       "      <td>NaN</td>\n",
       "      <td>BRAP2; BRCA1-associated 2</td>\n",
       "    </tr>\n",
       "    <tr>\n",
       "      <th>4</th>\n",
       "      <td>PF03372</td>\n",
       "      <td>NaN</td>\n",
       "      <td>HCO3_cotransp; Bicarbonate transporter, C-term...</td>\n",
       "    </tr>\n",
       "    <tr>\n",
       "      <th>5</th>\n",
       "      <td>PF12157</td>\n",
       "      <td>NaN</td>\n",
       "      <td>Sec7; Sec7 domain</td>\n",
       "    </tr>\n",
       "    <tr>\n",
       "      <th>6</th>\n",
       "      <td>PF00091</td>\n",
       "      <td>NaN</td>\n",
       "      <td>ABC1; UbiB domain</td>\n",
       "    </tr>\n",
       "    <tr>\n",
       "      <th>7</th>\n",
       "      <td>PF01608</td>\n",
       "      <td>NaN</td>\n",
       "      <td>DUF2781</td>\n",
       "    </tr>\n",
       "    <tr>\n",
       "      <th>8</th>\n",
       "      <td>PF11831</td>\n",
       "      <td>NaN</td>\n",
       "      <td>Sad1_UNC; SUN domain</td>\n",
       "    </tr>\n",
       "    <tr>\n",
       "      <th>9</th>\n",
       "      <td>PF03177</td>\n",
       "      <td>NaN</td>\n",
       "      <td>Glyco_transf_4; Glycosyltransferase subfamily ...</td>\n",
       "    </tr>\n",
       "    <tr>\n",
       "      <th>10</th>\n",
       "      <td>PF14260</td>\n",
       "      <td>NaN</td>\n",
       "      <td>UBA; Ubiquitin-associated domain</td>\n",
       "    </tr>\n",
       "    <tr>\n",
       "      <th>11</th>\n",
       "      <td>PF08518</td>\n",
       "      <td>NaN</td>\n",
       "      <td>Polyketide_cyc; Coenzyme Q-binding protein COQ...</td>\n",
       "    </tr>\n",
       "    <tr>\n",
       "      <th>12</th>\n",
       "      <td>PF02765</td>\n",
       "      <td>NaN</td>\n",
       "      <td>Fun_ATP-synt_8; ATP synthase protein 8, fungi</td>\n",
       "    </tr>\n",
       "    <tr>\n",
       "      <th>13</th>\n",
       "      <td>PF02765</td>\n",
       "      <td>NaN</td>\n",
       "      <td>Fun_ATP-synt_8; ATP synthase protein 8, fungi</td>\n",
       "    </tr>\n",
       "    <tr>\n",
       "      <th>14</th>\n",
       "      <td>PF04408</td>\n",
       "      <td>NaN</td>\n",
       "      <td>MAD; Spindle assembly checkpoint component Mad1</td>\n",
       "    </tr>\n",
       "    <tr>\n",
       "      <th>15</th>\n",
       "      <td>PF07557</td>\n",
       "      <td>NaN</td>\n",
       "      <td>PEX11; Peroxisomal biogenesis factor 11</td>\n",
       "    </tr>\n",
       "    <tr>\n",
       "      <th>16</th>\n",
       "      <td>PF03909</td>\n",
       "      <td>NaN</td>\n",
       "      <td>IBN_N; Importin-beta, N-terminal domain</td>\n",
       "    </tr>\n",
       "    <tr>\n",
       "      <th>17</th>\n",
       "      <td>PF04423</td>\n",
       "      <td>NaN</td>\n",
       "      <td>MARVEL; Marvel domain</td>\n",
       "    </tr>\n",
       "    <tr>\n",
       "      <th>18</th>\n",
       "      <td>PF03874</td>\n",
       "      <td>NaN</td>\n",
       "      <td>Hydantoinase_A; Hydantoinase/oxoprolinase</td>\n",
       "    </tr>\n",
       "    <tr>\n",
       "      <th>19</th>\n",
       "      <td>PF03256</td>\n",
       "      <td>NaN</td>\n",
       "      <td>Gsf2; Glucose signalling factor 2</td>\n",
       "    </tr>\n",
       "    <tr>\n",
       "      <th>20</th>\n",
       "      <td>PF12271</td>\n",
       "      <td>NaN</td>\n",
       "      <td>Sgf11; SAGA complex, Sgf11 subunit</td>\n",
       "    </tr>\n",
       "    <tr>\n",
       "      <th>21</th>\n",
       "      <td>PF12271</td>\n",
       "      <td>NaN</td>\n",
       "      <td>Sgf11; SAGA complex, Sgf11 subunit</td>\n",
       "    </tr>\n",
       "    <tr>\n",
       "      <th>22</th>\n",
       "      <td>PF08638</td>\n",
       "      <td>NaN</td>\n",
       "      <td>RNA_lig_T4_1; RNA ligase T4  Rnl1, N-terminal</td>\n",
       "    </tr>\n",
       "    <tr>\n",
       "      <th>23</th>\n",
       "      <td>PF01423</td>\n",
       "      <td>NaN</td>\n",
       "      <td>DNA_topoisoIV; DNA topoisomerase, type IIA, su...</td>\n",
       "    </tr>\n",
       "    <tr>\n",
       "      <th>24</th>\n",
       "      <td>PF02364</td>\n",
       "      <td>NaN</td>\n",
       "      <td>FDX-ACB; Ferrodoxin-fold anticodon-binding domain</td>\n",
       "    </tr>\n",
       "    <tr>\n",
       "      <th>25</th>\n",
       "      <td>PF06428</td>\n",
       "      <td>NaN</td>\n",
       "      <td>OB_NTP_bind; Domain of unknown function DUF1605</td>\n",
       "    </tr>\n",
       "    <tr>\n",
       "      <th>26</th>\n",
       "      <td>PF06428</td>\n",
       "      <td>NaN</td>\n",
       "      <td>OB_NTP_bind; Domain of unknown function DUF1605</td>\n",
       "    </tr>\n",
       "    <tr>\n",
       "      <th>27</th>\n",
       "      <td>PF04098</td>\n",
       "      <td>NaN</td>\n",
       "      <td>Kinetocho_Slk19; Central kinetochore-associated</td>\n",
       "    </tr>\n",
       "    <tr>\n",
       "      <th>28</th>\n",
       "      <td>PF00515</td>\n",
       "      <td>NaN</td>\n",
       "      <td>BAG; BAG domain</td>\n",
       "    </tr>\n",
       "    <tr>\n",
       "      <th>29</th>\n",
       "      <td>PF01920</td>\n",
       "      <td>NaN</td>\n",
       "      <td>E1_UFD; Ubiquitin-activating enzyme E1, C-term...</td>\n",
       "    </tr>\n",
       "    <tr>\n",
       "      <th>30</th>\n",
       "      <td>PF01992</td>\n",
       "      <td>NaN</td>\n",
       "      <td>EF_assoc_1; EF hand associated, type-1</td>\n",
       "    </tr>\n",
       "    <tr>\n",
       "      <th>31</th>\n",
       "      <td>PF16717</td>\n",
       "      <td>NaN</td>\n",
       "      <td>eIF3_subunit; Eukaryotic translation initiatio...</td>\n",
       "    </tr>\n",
       "    <tr>\n",
       "      <th>32</th>\n",
       "      <td>PF02259</td>\n",
       "      <td>NaN</td>\n",
       "      <td>F420_oxidored; Pyrroline-5-carboxylate reducta...</td>\n",
       "    </tr>\n",
       "    <tr>\n",
       "      <th>33</th>\n",
       "      <td>PF03215</td>\n",
       "      <td>NaN</td>\n",
       "      <td>Glyoxalase; Glyoxalase/fosfomycin resistance/d...</td>\n",
       "    </tr>\n",
       "    <tr>\n",
       "      <th>34</th>\n",
       "      <td>PF00012</td>\n",
       "      <td>NaN</td>\n",
       "      <td>2OG-FeII_Oxy_4</td>\n",
       "    </tr>\n",
       "    <tr>\n",
       "      <th>35</th>\n",
       "      <td>PF00012</td>\n",
       "      <td>NaN</td>\n",
       "      <td>2OG-FeII_Oxy_4</td>\n",
       "    </tr>\n",
       "    <tr>\n",
       "      <th>36</th>\n",
       "      <td>PF00012</td>\n",
       "      <td>NaN</td>\n",
       "      <td>2OG-FeII_Oxy_4</td>\n",
       "    </tr>\n",
       "    <tr>\n",
       "      <th>37</th>\n",
       "      <td>PF01412</td>\n",
       "      <td>NaN</td>\n",
       "      <td>DNA_pol_alpha_N; DNA polymerase alpha catalyti...</td>\n",
       "    </tr>\n",
       "    <tr>\n",
       "      <th>38</th>\n",
       "      <td>PF00352</td>\n",
       "      <td>NaN</td>\n",
       "      <td>AhpC-TSA; Alkyl hydroperoxide reductase subuni...</td>\n",
       "    </tr>\n",
       "    <tr>\n",
       "      <th>39</th>\n",
       "      <td>PF00171</td>\n",
       "      <td>NaN</td>\n",
       "      <td>AMPK1_CBM; AMP-activated protein kinase, glyco...</td>\n",
       "    </tr>\n",
       "    <tr>\n",
       "      <th>40</th>\n",
       "      <td>PF08550</td>\n",
       "      <td>NaN</td>\n",
       "      <td>Pribosyltran_N; Ribose-phosphate pyrophosphoki...</td>\n",
       "    </tr>\n",
       "    <tr>\n",
       "      <th>41</th>\n",
       "      <td>PF08550</td>\n",
       "      <td>NaN</td>\n",
       "      <td>Pribosyltran_N; Ribose-phosphate pyrophosphoki...</td>\n",
       "    </tr>\n",
       "    <tr>\n",
       "      <th>42</th>\n",
       "      <td>PF01158</td>\n",
       "      <td>NaN</td>\n",
       "      <td>Cse1; Exportin/Importin, Cse1-like</td>\n",
       "    </tr>\n",
       "    <tr>\n",
       "      <th>43</th>\n",
       "      <td>PF17058</td>\n",
       "      <td>NaN</td>\n",
       "      <td>zf-C2H2_4</td>\n",
       "    </tr>\n",
       "    <tr>\n",
       "      <th>44</th>\n",
       "      <td>PF17058</td>\n",
       "      <td>NaN</td>\n",
       "      <td>zf-C2H2_4</td>\n",
       "    </tr>\n",
       "    <tr>\n",
       "      <th>45</th>\n",
       "      <td>PF02213</td>\n",
       "      <td>NaN</td>\n",
       "      <td>Erf4; Golgin subfamily A member 7/ERF4</td>\n",
       "    </tr>\n",
       "    <tr>\n",
       "      <th>46</th>\n",
       "      <td>PF02229</td>\n",
       "      <td>NaN</td>\n",
       "      <td>Exo_endo_phos; Endonuclease/exonuclease/phosph...</td>\n",
       "    </tr>\n",
       "    <tr>\n",
       "      <th>47</th>\n",
       "      <td>PF03800</td>\n",
       "      <td>NaN</td>\n",
       "      <td>HisG_C; Histidine biosynthesis HisG, C-terminal</td>\n",
       "    </tr>\n",
       "    <tr>\n",
       "      <th>48</th>\n",
       "      <td>PF11544</td>\n",
       "      <td>NaN</td>\n",
       "      <td>SRI; SRI, Set2 Rpb1 interacting</td>\n",
       "    </tr>\n",
       "    <tr>\n",
       "      <th>49</th>\n",
       "      <td>PF06058</td>\n",
       "      <td>NaN</td>\n",
       "      <td>Nop52; Nucleolar, Nop52</td>\n",
       "    </tr>\n",
       "    <tr>\n",
       "      <th>50</th>\n",
       "      <td>PF05916</td>\n",
       "      <td>NaN</td>\n",
       "      <td>Neugrin; Neugrin/Rrg9</td>\n",
       "    </tr>\n",
       "    <tr>\n",
       "      <th>51</th>\n",
       "      <td>PF06087</td>\n",
       "      <td>NaN</td>\n",
       "      <td>NopRA1; Nucleolar pre-ribosomal-associated pro...</td>\n",
       "    </tr>\n",
       "    <tr>\n",
       "      <th>52</th>\n",
       "      <td>PF04893</td>\n",
       "      <td>NaN</td>\n",
       "      <td>Med22; Mediator of RNA polymerase II transcrip...</td>\n",
       "    </tr>\n",
       "  </tbody>\n",
       "</table>\n",
       "</div>"
      ],
      "text/plain": [
       "   domain-name domain-description_x  \\\n",
       "3      PF00578                  NaN   \n",
       "4      PF03372                  NaN   \n",
       "5      PF12157                  NaN   \n",
       "6      PF00091                  NaN   \n",
       "7      PF01608                  NaN   \n",
       "8      PF11831                  NaN   \n",
       "9      PF03177                  NaN   \n",
       "10     PF14260                  NaN   \n",
       "11     PF08518                  NaN   \n",
       "12     PF02765                  NaN   \n",
       "13     PF02765                  NaN   \n",
       "14     PF04408                  NaN   \n",
       "15     PF07557                  NaN   \n",
       "16     PF03909                  NaN   \n",
       "17     PF04423                  NaN   \n",
       "18     PF03874                  NaN   \n",
       "19     PF03256                  NaN   \n",
       "20     PF12271                  NaN   \n",
       "21     PF12271                  NaN   \n",
       "22     PF08638                  NaN   \n",
       "23     PF01423                  NaN   \n",
       "24     PF02364                  NaN   \n",
       "25     PF06428                  NaN   \n",
       "26     PF06428                  NaN   \n",
       "27     PF04098                  NaN   \n",
       "28     PF00515                  NaN   \n",
       "29     PF01920                  NaN   \n",
       "30     PF01992                  NaN   \n",
       "31     PF16717                  NaN   \n",
       "32     PF02259                  NaN   \n",
       "33     PF03215                  NaN   \n",
       "34     PF00012                  NaN   \n",
       "35     PF00012                  NaN   \n",
       "36     PF00012                  NaN   \n",
       "37     PF01412                  NaN   \n",
       "38     PF00352                  NaN   \n",
       "39     PF00171                  NaN   \n",
       "40     PF08550                  NaN   \n",
       "41     PF08550                  NaN   \n",
       "42     PF01158                  NaN   \n",
       "43     PF17058                  NaN   \n",
       "44     PF17058                  NaN   \n",
       "45     PF02213                  NaN   \n",
       "46     PF02229                  NaN   \n",
       "47     PF03800                  NaN   \n",
       "48     PF11544                  NaN   \n",
       "49     PF06058                  NaN   \n",
       "50     PF05916                  NaN   \n",
       "51     PF06087                  NaN   \n",
       "52     PF04893                  NaN   \n",
       "\n",
       "                                 domain-description_y  \n",
       "3                           BRAP2; BRCA1-associated 2  \n",
       "4   HCO3_cotransp; Bicarbonate transporter, C-term...  \n",
       "5                                   Sec7; Sec7 domain  \n",
       "6                                   ABC1; UbiB domain  \n",
       "7                                             DUF2781  \n",
       "8                                Sad1_UNC; SUN domain  \n",
       "9   Glyco_transf_4; Glycosyltransferase subfamily ...  \n",
       "10                   UBA; Ubiquitin-associated domain  \n",
       "11  Polyketide_cyc; Coenzyme Q-binding protein COQ...  \n",
       "12      Fun_ATP-synt_8; ATP synthase protein 8, fungi  \n",
       "13      Fun_ATP-synt_8; ATP synthase protein 8, fungi  \n",
       "14    MAD; Spindle assembly checkpoint component Mad1  \n",
       "15            PEX11; Peroxisomal biogenesis factor 11  \n",
       "16            IBN_N; Importin-beta, N-terminal domain  \n",
       "17                              MARVEL; Marvel domain  \n",
       "18          Hydantoinase_A; Hydantoinase/oxoprolinase  \n",
       "19                  Gsf2; Glucose signalling factor 2  \n",
       "20                 Sgf11; SAGA complex, Sgf11 subunit  \n",
       "21                 Sgf11; SAGA complex, Sgf11 subunit  \n",
       "22      RNA_lig_T4_1; RNA ligase T4  Rnl1, N-terminal  \n",
       "23  DNA_topoisoIV; DNA topoisomerase, type IIA, su...  \n",
       "24  FDX-ACB; Ferrodoxin-fold anticodon-binding domain  \n",
       "25    OB_NTP_bind; Domain of unknown function DUF1605  \n",
       "26    OB_NTP_bind; Domain of unknown function DUF1605  \n",
       "27    Kinetocho_Slk19; Central kinetochore-associated  \n",
       "28                                    BAG; BAG domain  \n",
       "29  E1_UFD; Ubiquitin-activating enzyme E1, C-term...  \n",
       "30             EF_assoc_1; EF hand associated, type-1  \n",
       "31  eIF3_subunit; Eukaryotic translation initiatio...  \n",
       "32  F420_oxidored; Pyrroline-5-carboxylate reducta...  \n",
       "33  Glyoxalase; Glyoxalase/fosfomycin resistance/d...  \n",
       "34                                     2OG-FeII_Oxy_4  \n",
       "35                                     2OG-FeII_Oxy_4  \n",
       "36                                     2OG-FeII_Oxy_4  \n",
       "37  DNA_pol_alpha_N; DNA polymerase alpha catalyti...  \n",
       "38  AhpC-TSA; Alkyl hydroperoxide reductase subuni...  \n",
       "39  AMPK1_CBM; AMP-activated protein kinase, glyco...  \n",
       "40  Pribosyltran_N; Ribose-phosphate pyrophosphoki...  \n",
       "41  Pribosyltran_N; Ribose-phosphate pyrophosphoki...  \n",
       "42                 Cse1; Exportin/Importin, Cse1-like  \n",
       "43                                          zf-C2H2_4  \n",
       "44                                          zf-C2H2_4  \n",
       "45             Erf4; Golgin subfamily A member 7/ERF4  \n",
       "46  Exo_endo_phos; Endonuclease/exonuclease/phosph...  \n",
       "47    HisG_C; Histidine biosynthesis HisG, C-terminal  \n",
       "48                    SRI; SRI, Set2 Rpb1 interacting  \n",
       "49                            Nop52; Nucleolar, Nop52  \n",
       "50                              Neugrin; Neugrin/Rrg9  \n",
       "51  NopRA1; Nucleolar pre-ribosomal-associated pro...  \n",
       "52  Med22; Mediator of RNA polymerase II transcrip...  "
      ]
     },
     "execution_count": 30,
     "metadata": {},
     "output_type": "execute_result"
    }
   ],
   "source": [
    "only_nsl_pd=pd.merge(repeated_features_sl,repeated_features_nsl,how='right',on=['domain-name'])\n",
    "data_only_nsl = only_nsl_pd[pd.isnull(only_nsl_pd['domain-description_x'])]\n",
    "data_only_nsl"
   ]
  },
  {
   "cell_type": "code",
   "execution_count": 31,
   "metadata": {
    "execution": {
     "iopub.execute_input": "2020-07-23T22:20:55.316552Z",
     "iopub.status.busy": "2020-07-23T22:20:55.315956Z",
     "iopub.status.idle": "2020-07-23T22:20:55.318865Z",
     "shell.execute_reply": "2020-07-23T22:20:55.319358Z"
    }
   },
   "outputs": [
    {
     "data": {
      "text/html": [
       "<div>\n",
       "<style scoped>\n",
       "    .dataframe tbody tr th:only-of-type {\n",
       "        vertical-align: middle;\n",
       "    }\n",
       "\n",
       "    .dataframe tbody tr th {\n",
       "        vertical-align: top;\n",
       "    }\n",
       "\n",
       "    .dataframe thead th {\n",
       "        text-align: right;\n",
       "    }\n",
       "</style>\n",
       "<table border=\"1\" class=\"dataframe\">\n",
       "  <thead>\n",
       "    <tr style=\"text-align: right;\">\n",
       "      <th></th>\n",
       "      <th>domain-name</th>\n",
       "      <th>domain-description_x</th>\n",
       "      <th>domain-description_y</th>\n",
       "    </tr>\n",
       "  </thead>\n",
       "  <tbody>\n",
       "    <tr>\n",
       "      <th>0</th>\n",
       "      <td>PF01151</td>\n",
       "      <td>Cpn10; GroES chaperonin family</td>\n",
       "      <td>Cpn10; GroES chaperonin family</td>\n",
       "    </tr>\n",
       "    <tr>\n",
       "      <th>1</th>\n",
       "      <td>PF13606</td>\n",
       "      <td>Thioredoxin; Thioredoxin domain</td>\n",
       "      <td>Thioredoxin; Thioredoxin domain</td>\n",
       "    </tr>\n",
       "    <tr>\n",
       "      <th>2</th>\n",
       "      <td>PF00481</td>\n",
       "      <td>Asn_synthase; Asparagine synthase</td>\n",
       "      <td>Asn_synthase; Asparagine synthase</td>\n",
       "    </tr>\n",
       "  </tbody>\n",
       "</table>\n",
       "</div>"
      ],
      "text/plain": [
       "  domain-name               domain-description_x  \\\n",
       "0     PF01151     Cpn10; GroES chaperonin family   \n",
       "1     PF13606    Thioredoxin; Thioredoxin domain   \n",
       "2     PF00481  Asn_synthase; Asparagine synthase   \n",
       "\n",
       "                domain-description_y  \n",
       "0     Cpn10; GroES chaperonin family  \n",
       "1    Thioredoxin; Thioredoxin domain  \n",
       "2  Asn_synthase; Asparagine synthase  "
      ]
     },
     "execution_count": 31,
     "metadata": {},
     "output_type": "execute_result"
    }
   ],
   "source": [
    "shared_domains_pd=pd.merge(repeated_features_sl,repeated_features_nsl,how='inner',on=['domain-name'])\n",
    "shared_domains_pd\n"
   ]
  },
  {
   "cell_type": "code",
   "execution_count": 32,
   "metadata": {
    "execution": {
     "iopub.execute_input": "2020-07-23T22:20:55.330375Z",
     "iopub.status.busy": "2020-07-23T22:20:55.326742Z",
     "iopub.status.idle": "2020-07-23T22:20:57.025271Z",
     "shell.execute_reply": "2020-07-23T22:20:57.024773Z"
    }
   },
   "outputs": [
    {
     "data": {
      "text/plain": [
       "(0.0, 0.2)"
      ]
     },
     "execution_count": 32,
     "metadata": {},
     "output_type": "execute_result"
    },
    {
     "data": {
      "image/png": "[encoded data removed]",
      "text/plain": [
       "<Figure size 432x288 with 1 Axes>"
      ]
     },
     "metadata": {
      "filenames": {
       "image/png": "/home/runner/work/jupyter-book/jupyter-book/mini_book/docs/_build/jupyter_execute/prot_domains2lethality-FEATURES-POSTPROCESSING_47_1.png"
      },
      "needs_background": "light"
     },
     "output_type": "display_data"
    }
   ],
   "source": [
    "a_sl=x_sl.iloc[:,np.sort(df_sl.iloc[:,1])]\n",
    "a_sl.describe().loc['mean'].hist(bins=8),\n",
    "a_sl.describe().loc['std'].hist(bins=8,alpha=0.4)\n",
    "plt.xlim([0,0.2])"
   ]
  },
  {
   "cell_type": "code",
   "execution_count": 33,
   "metadata": {
    "execution": {
     "iopub.execute_input": "2020-07-23T22:20:57.043432Z",
     "iopub.status.busy": "2020-07-23T22:20:57.036883Z",
     "iopub.status.idle": "2020-07-23T22:20:58.603582Z",
     "shell.execute_reply": "2020-07-23T22:20:58.602999Z"
    }
   },
   "outputs": [
    {
     "data": {
      "text/plain": [
       "(0.0, 0.2)"
      ]
     },
     "execution_count": 33,
     "metadata": {},
     "output_type": "execute_result"
    },
    {
     "data": {
      "image/png": "[encoded data removed]",
      "text/plain": [
       "<Figure size 432x288 with 1 Axes>"
      ]
     },
     "metadata": {
      "filenames": {
       "image/png": "/home/runner/work/jupyter-book/jupyter-book/mini_book/docs/_build/jupyter_execute/prot_domains2lethality-FEATURES-POSTPROCESSING_48_1.png"
      },
      "needs_background": "light"
     },
     "output_type": "display_data"
    }
   ],
   "source": [
    "a_nsl=x_nsl.iloc[:,np.sort(df_nsl.iloc[:,1])]\n",
    "a_nsl.describe().loc['mean'].hist(bins=8),\n",
    "a_nsl.describe().loc['std'].hist(bins=8,alpha=0.4)\n",
    "plt.xlim([0,0.2])"
   ]
  },
  {
   "cell_type": "markdown",
   "metadata": {},
   "source": [
    "### Proof of concept with *BEM1*\n",
    "\n",
    "- Gather the domains of SL and nSL pairs from BEM1\n",
    "- Check if the domains for the SL and nSL pairs are inside the most important domains after PCA."
   ]
  },
  {
   "cell_type": "code",
   "execution_count": 34,
   "metadata": {
    "execution": {
     "iopub.execute_input": "2020-07-23T22:20:58.612007Z",
     "iopub.status.busy": "2020-07-23T22:20:58.611382Z",
     "iopub.status.idle": "2020-07-23T22:20:58.615587Z",
     "shell.execute_reply": "2020-07-23T22:20:58.615059Z"
    }
   },
   "outputs": [],
   "source": [
    "domains_bem1=data_domains[data_domains['name']=='BEM1']['domain-descrip']\n",
    "sl_bem1=data_sl[data_sl['gene-query-name']=='BEM1']['gene-target-name']"
   ]
  },
  {
   "cell_type": "code",
   "execution_count": 35,
   "metadata": {
    "execution": {
     "iopub.execute_input": "2020-07-23T22:20:58.620933Z",
     "iopub.status.busy": "2020-07-23T22:20:58.620336Z",
     "iopub.status.idle": "2020-07-23T22:20:58.625966Z",
     "shell.execute_reply": "2020-07-23T22:20:58.625451Z"
    }
   },
   "outputs": [
    {
     "data": {
      "text/plain": [
       "2846      BEM2\n",
       "2847     CDC24\n",
       "5004      MSB1\n",
       "13777     SMI1\n",
       "13778     BNI1\n",
       "13779     BEM2\n",
       "14385     SKN7\n",
       "Name: gene-target-name, dtype: object"
      ]
     },
     "execution_count": 35,
     "metadata": {},
     "output_type": "execute_result"
    }
   ],
   "source": [
    "sl_bem1"
   ]
  },
  {
   "cell_type": "code",
   "execution_count": 36,
   "metadata": {
    "execution": {
     "iopub.execute_input": "2020-07-23T22:20:58.642995Z",
     "iopub.status.busy": "2020-07-23T22:20:58.641935Z",
     "iopub.status.idle": "2020-07-23T22:20:58.646144Z",
     "shell.execute_reply": "2020-07-23T22:20:58.646619Z"
    }
   },
   "outputs": [
    {
     "data": {
      "text/html": [
       "<div>\n",
       "<style scoped>\n",
       "    .dataframe tbody tr th:only-of-type {\n",
       "        vertical-align: middle;\n",
       "    }\n",
       "\n",
       "    .dataframe tbody tr th {\n",
       "        vertical-align: top;\n",
       "    }\n",
       "\n",
       "    .dataframe thead th {\n",
       "        text-align: right;\n",
       "    }\n",
       "</style>\n",
       "<table border=\"1\" class=\"dataframe\">\n",
       "  <thead>\n",
       "    <tr style=\"text-align: right;\">\n",
       "      <th></th>\n",
       "      <th>gene-query</th>\n",
       "      <th>gene-target</th>\n",
       "      <th>gene-query-name</th>\n",
       "      <th>gene-target-name</th>\n",
       "      <th>gene-query-description</th>\n",
       "      <th>gene-target-description</th>\n",
       "      <th>interaction-type</th>\n",
       "      <th>paper-source</th>\n",
       "    </tr>\n",
       "  </thead>\n",
       "  <tbody>\n",
       "    <tr>\n",
       "      <th>2846</th>\n",
       "      <td>YBR200W</td>\n",
       "      <td>YER155C</td>\n",
       "      <td>BEM1</td>\n",
       "      <td>BEM2</td>\n",
       "      <td>SRO1|phosphatidylinositol-3-phosphate-binding ...</td>\n",
       "      <td>IPL2|SUP9|TSL1|L000000168</td>\n",
       "      <td>Synthetic Lethality</td>\n",
       "      <td>Peterson J (1994)</td>\n",
       "    </tr>\n",
       "    <tr>\n",
       "      <th>2847</th>\n",
       "      <td>YBR200W</td>\n",
       "      <td>YAL041W</td>\n",
       "      <td>BEM1</td>\n",
       "      <td>CDC24</td>\n",
       "      <td>SRO1|phosphatidylinositol-3-phosphate-binding ...</td>\n",
       "      <td>CLS4|Rho family guanine nucleotide exchange fa...</td>\n",
       "      <td>Synthetic Lethality</td>\n",
       "      <td>Peterson J (1994)</td>\n",
       "    </tr>\n",
       "    <tr>\n",
       "      <th>5004</th>\n",
       "      <td>YBR200W</td>\n",
       "      <td>YOR188W</td>\n",
       "      <td>BEM1</td>\n",
       "      <td>MSB1</td>\n",
       "      <td>SRO1|phosphatidylinositol-3-phosphate-binding ...</td>\n",
       "      <td>L000001184</td>\n",
       "      <td>Synthetic Lethality</td>\n",
       "      <td>Bender A (1991)</td>\n",
       "    </tr>\n",
       "    <tr>\n",
       "      <th>13777</th>\n",
       "      <td>YBR200W</td>\n",
       "      <td>YGR229C</td>\n",
       "      <td>BEM1</td>\n",
       "      <td>SMI1</td>\n",
       "      <td>SRO1|phosphatidylinositol-3-phosphate-binding ...</td>\n",
       "      <td>KNR4|L000000909</td>\n",
       "      <td>Synthetic Lethality</td>\n",
       "      <td>Gorelik M (2011)</td>\n",
       "    </tr>\n",
       "    <tr>\n",
       "      <th>13778</th>\n",
       "      <td>YBR200W</td>\n",
       "      <td>YNL271C</td>\n",
       "      <td>BEM1</td>\n",
       "      <td>BNI1</td>\n",
       "      <td>SRO1|phosphatidylinositol-3-phosphate-binding ...</td>\n",
       "      <td>PPF3|SHE5|formin BNI1|L000000190</td>\n",
       "      <td>Synthetic Lethality</td>\n",
       "      <td>Gorelik M (2011)</td>\n",
       "    </tr>\n",
       "    <tr>\n",
       "      <th>13779</th>\n",
       "      <td>YBR200W</td>\n",
       "      <td>YER155C</td>\n",
       "      <td>BEM1</td>\n",
       "      <td>BEM2</td>\n",
       "      <td>SRO1|phosphatidylinositol-3-phosphate-binding ...</td>\n",
       "      <td>IPL2|SUP9|TSL1|L000000168</td>\n",
       "      <td>Synthetic Lethality</td>\n",
       "      <td>Gorelik M (2011)</td>\n",
       "    </tr>\n",
       "    <tr>\n",
       "      <th>14385</th>\n",
       "      <td>YBR200W</td>\n",
       "      <td>YHR206W</td>\n",
       "      <td>BEM1</td>\n",
       "      <td>SKN7</td>\n",
       "      <td>SRO1|phosphatidylinositol-3-phosphate-binding ...</td>\n",
       "      <td>BRY1|POS9|kinase-regulated stress-responsive t...</td>\n",
       "      <td>Dosage Lethality</td>\n",
       "      <td>Bouquin N (1999)</td>\n",
       "    </tr>\n",
       "  </tbody>\n",
       "</table>\n",
       "</div>"
      ],
      "text/plain": [
       "      gene-query gene-target gene-query-name gene-target-name  \\\n",
       "2846     YBR200W     YER155C            BEM1             BEM2   \n",
       "2847     YBR200W     YAL041W            BEM1            CDC24   \n",
       "5004     YBR200W     YOR188W            BEM1             MSB1   \n",
       "13777    YBR200W     YGR229C            BEM1             SMI1   \n",
       "13778    YBR200W     YNL271C            BEM1             BNI1   \n",
       "13779    YBR200W     YER155C            BEM1             BEM2   \n",
       "14385    YBR200W     YHR206W            BEM1             SKN7   \n",
       "\n",
       "                                  gene-query-description  \\\n",
       "2846   SRO1|phosphatidylinositol-3-phosphate-binding ...   \n",
       "2847   SRO1|phosphatidylinositol-3-phosphate-binding ...   \n",
       "5004   SRO1|phosphatidylinositol-3-phosphate-binding ...   \n",
       "13777  SRO1|phosphatidylinositol-3-phosphate-binding ...   \n",
       "13778  SRO1|phosphatidylinositol-3-phosphate-binding ...   \n",
       "13779  SRO1|phosphatidylinositol-3-phosphate-binding ...   \n",
       "14385  SRO1|phosphatidylinositol-3-phosphate-binding ...   \n",
       "\n",
       "                                 gene-target-description     interaction-type  \\\n",
       "2846                           IPL2|SUP9|TSL1|L000000168  Synthetic Lethality   \n",
       "2847   CLS4|Rho family guanine nucleotide exchange fa...  Synthetic Lethality   \n",
       "5004                                          L000001184  Synthetic Lethality   \n",
       "13777                                    KNR4|L000000909  Synthetic Lethality   \n",
       "13778                   PPF3|SHE5|formin BNI1|L000000190  Synthetic Lethality   \n",
       "13779                          IPL2|SUP9|TSL1|L000000168  Synthetic Lethality   \n",
       "14385  BRY1|POS9|kinase-regulated stress-responsive t...     Dosage Lethality   \n",
       "\n",
       "            paper-source  \n",
       "2846   Peterson J (1994)  \n",
       "2847   Peterson J (1994)  \n",
       "5004     Bender A (1991)  \n",
       "13777   Gorelik M (2011)  \n",
       "13778   Gorelik M (2011)  \n",
       "13779   Gorelik M (2011)  \n",
       "14385   Bouquin N (1999)  "
      ]
     },
     "execution_count": 36,
     "metadata": {},
     "output_type": "execute_result"
    }
   ],
   "source": [
    "data_sl[data_sl['gene-query-name']=='BEM1']"
   ]
  },
  {
   "cell_type": "code",
   "execution_count": null,
   "metadata": {},
   "outputs": [],
   "source": []
  }
 ],
 "metadata": {
  "jupytext": {
   "text_representation": {
    "extension": ".md",
    "format_name": "myst"
   }
  },
  "kernelspec": {
   "display_name": "Python 3",
   "language": "python",
   "name": "python3"
  },
  "language_info": {
   "codemirror_mode": {
    "name": "ipython",
    "version": 3
   },
   "file_extension": ".py",
   "mimetype": "text/x-python",
   "name": "python",
   "nbconvert_exporter": "python",
   "pygments_lexer": "ipython3",
   "version": "3.7.8"
  },
  "source_map": [
   10,
   18,
   29,
   36,
   57,
   66,
   98,
   101,
   105,
   128,
   131,
   135,
   139,
   145,
   178,
   184,
   188,
   206,
   210,
   218,
   222,
   225,
   229,
   234,
   238,
   244,
   248,
   253,
   257,
   267,
   269,
   273,
   306,
   311,
   313,
   317,
   328,
   330,
   334,
   344,
   348,
   358,
   360,
   364,
   381,
   388,
   394,
   400,
   407,
   412,
   419,
   424,
   428,
   432
  ]
 },
 "nbformat": 4,
 "nbformat_minor": 4
}