{
 "cells": [
  {
   "cell_type": "markdown",
   "metadata": {},
   "source": [
    "# Feature postprocessing from paper.\n",
    "- Title:  \"Predicting yeast synthetic lethal genetic interactions using protein domains\"\n",
    "- Authors: Bo Li, Feng Luo,School of Computing,Clemson University,Clemson, SC, USA\n",
    "- e-mail: bol, luofeng@clemson.edu\n",
    "- year:2009"
   ]
  },
  {
   "cell_type": "code",
   "execution_count": 1,
   "metadata": {
    "execution": {
     "iopub.execute_input": "2020-07-22T17:48:17.684339Z",
     "iopub.status.busy": "2020-07-22T17:48:17.683765Z",
     "iopub.status.idle": "2020-07-22T17:48:18.521982Z",
     "shell.execute_reply": "2020-07-22T17:48:18.522454Z"
    }
   },
   "outputs": [],
   "source": [
    "import pandas as pd\n",
    "import numpy as np\n",
    "import matplotlib.pyplot as plt\n",
    "from collections import defaultdict \n",
    "import seaborn as sns\n",
    "import matplotlib.cm as cm\n",
    "import scipy as scipy\n",
    "import random"
   ]
  },
  {
   "cell_type": "markdown",
   "metadata": {
    "jupyter": {
     "source_hidden": true
    }
   },
   "source": [
    "### Importing datasets \n",
    "\n",
    "#### Link to the github repo where the datasets to be downloaded:\n",
    "[DOWNLOAD THE DATASETS HERE](https://github.com/leilaicruz/machine-learning-for-yeast/tree/dev_Leila/datasets-for-learning)"
   ]
  },
  {
   "cell_type": "code",
   "execution_count": 2,
   "metadata": {
    "execution": {
     "iopub.execute_input": "2020-07-22T17:48:18.530846Z",
     "iopub.status.busy": "2020-07-22T17:48:18.529474Z",
     "iopub.status.idle": "2020-07-22T17:48:26.639961Z",
     "shell.execute_reply": "2020-07-22T17:48:26.640511Z"
    }
   },
   "outputs": [],
   "source": [
    "import os\n",
    "script_dir = os.path.dirname('__file__') #<-- absolute dir the script is in\n",
    "rel_path_SL = \"datasets/data-synthetic-lethals.xlsx\"\n",
    "rel_path_nSL=\"datasets/data-positive-genetic.xlsx\"\n",
    "rel_path_domains=\"datasets/proteins-domains-from-Pfam.xlsx\"\n",
    "\n",
    "abs_file_path_SL = os.path.join(script_dir, rel_path_SL)\n",
    "abs_file_path_nSL = os.path.join(script_dir, rel_path_nSL)\n",
    "abs_file_path_domains = os.path.join(script_dir, rel_path_domains)\n",
    "\n",
    "# os.chdir('mini_book/docs/') #<-- for binder os.chdir('../')\n",
    "# os.chdir('../')\n",
    "my_path_sl= abs_file_path_SL\n",
    "my_path_non_sl=abs_file_path_nSL\n",
    "my_path_domains=abs_file_path_domains\n",
    "\n",
    "data_sl=pd.read_excel(my_path_sl,header=0)\n",
    "data_domains=pd.read_excel(my_path_domains,header=0,index_col='Unnamed: 0')\n",
    "data_domains=data_domains.dropna()\n",
    "data_nonsl=pd.read_excel(my_path_non_sl,header=0)"
   ]
  },
  {
   "cell_type": "markdown",
   "metadata": {},
   "source": [
    "## Building the feature matrix\n",
    "One matrix for true SL where each row is one pair of SL. Every raw will be a vector of 0,1 or 2 depending on the comparison with the domain list. For row i the jth element = 0 if the jth element of the domain list is not in neither protein A and B, 1, if it is in one of them and 2 if it is in both of them .\n",
    "\n",
    "### Building the list of proteins domains id per protein pair separately :\n",
    "- List of protein A: Search for the Sl/nSL database the query gene name and look in the protein domain database which protein domains id has each of those queries.\n",
    "- List of protein B: Search for the Sl/nSL database the target gene name of the previous query and look in the protein domain database which protein domains id has each of those target genes."
   ]
  },
  {
   "cell_type": "code",
   "execution_count": 3,
   "metadata": {
    "execution": {
     "iopub.execute_input": "2020-07-22T17:48:26.659611Z",
     "iopub.status.busy": "2020-07-22T17:48:26.658892Z",
     "iopub.status.idle": "2020-07-22T17:48:28.949043Z",
     "shell.execute_reply": "2020-07-22T17:48:28.948537Z"
    }
   },
   "outputs": [],
   "source": [
    "# Selecting the meaningful columns in the respective dataset\n",
    "domain_id_list=data_domains['domain-name']\n",
    "query_gene=data_sl['gene-query-name']\n",
    "target_gene=data_sl['gene-target-name']\n",
    "query_gene_nonlethal=data_nonsl['gene-query-name']\n",
    "target_gene_nonlethal=data_nonsl['gene-target-name']\n",
    "\n",
    "\n",
    "\n",
    "# Initialising the arrays\n",
    "protein_a_list=[]\n",
    "protein_b_list=[]\n",
    "protein_a_list_non=[]\n",
    "protein_b_list_non=[]\n",
    "\n",
    "population = np.arange(0,len(data_sl))\n",
    "\n",
    "# For loop for 10000 pairs sampled randomly from the SL/nSl pair list , and creating a big array of proteind domains id per protein pair\n",
    "\n",
    "for m in random.sample(list(population), 500):\n",
    "    protein_a=data_domains[data_domains['name']==query_gene[m]]\n",
    "    protein_b=data_domains[data_domains['name']==target_gene[m]]\n",
    "    protein_a_list.append(protein_a['domain-name'].tolist())\n",
    "    protein_b_list.append(protein_b['domain-name'].tolist())\n",
    "\n",
    "    protein_a_non=data_domains[data_domains['name']==query_gene_nonlethal[m]]\n",
    "    protein_b_non=data_domains[data_domains['name']==target_gene_nonlethal[m]]\n",
    "    protein_a_list_non.append(protein_a_non['domain-name'].tolist())\n",
    "    protein_b_list_non.append(protein_b_non['domain-name'].tolist())"
   ]
  },
  {
   "cell_type": "code",
   "execution_count": 4,
   "metadata": {
    "execution": {
     "iopub.execute_input": "2020-07-22T17:48:28.954378Z",
     "iopub.status.busy": "2020-07-22T17:48:28.953827Z",
     "iopub.status.idle": "2020-07-22T17:48:28.958600Z",
     "shell.execute_reply": "2020-07-22T17:48:28.958013Z"
    }
   },
   "outputs": [
    {
     "name": "stdout",
     "output_type": "stream",
     "text": [
      "We are going to analyze 500 protein pairs, out of 17871 SL protein pairs\n",
      "We are going to analyze 500 protein pairs, out of 43340 positive protein pairs\n"
     ]
    }
   ],
   "source": [
    "print('We are going to analyze',len((protein_a_list)) ,'protein pairs, out of',len(data_sl),'SL protein pairs')\n",
    "print('We are going to analyze',len((protein_a_list_non)) ,'protein pairs, out of',len(data_nonsl),'positive protein pairs')"
   ]
  },
  {
   "cell_type": "markdown",
   "metadata": {},
   "source": [
    "### Postprocessing #1:  Remove protein pairs from study if either protein in the pair does not contain any domain"
   ]
  },
  {
   "cell_type": "code",
   "execution_count": 5,
   "metadata": {
    "execution": {
     "iopub.execute_input": "2020-07-22T17:48:28.971060Z",
     "iopub.status.busy": "2020-07-22T17:48:28.970471Z",
     "iopub.status.idle": "2020-07-22T17:48:28.973877Z",
     "shell.execute_reply": "2020-07-22T17:48:28.974383Z"
    }
   },
   "outputs": [],
   "source": [
    "def remove_empty_domains(protein_list_search,protein_list_pair):\n",
    "    index=[]\n",
    "    for i in np.arange(0,len(protein_list_search)):\n",
    "        if protein_list_search[i]==[] or protein_list_pair[i]==[]:\n",
    "            index.append(i) ## index of empty values for the protein_a_list meaning they dont have any annotated domain\n",
    "\n",
    "    y=[x for x in np.arange(0,len(protein_list_search)) if x not in index] # a list with non empty values from protein_a list\n",
    "\n",
    "    protein_list_search_new=[]\n",
    "    protein_list_pair_new=[]\n",
    "    for i in y:\n",
    "        protein_list_search_new.append(protein_list_search[i])\n",
    "        protein_list_pair_new.append(protein_list_pair[i])\n",
    "    return protein_list_search_new,protein_list_pair_new\n",
    "\n",
    "## evaluating the function\n",
    "\n",
    "protein_a_list_new,protein_b_list_new=remove_empty_domains(protein_a_list,protein_b_list)\n",
    "\n",
    "protein_a_list_non_new,protein_b_list_non_new=remove_empty_domains(protein_a_list_non,protein_b_list_non)"
   ]
  },
  {
   "cell_type": "code",
   "execution_count": 6,
   "metadata": {
    "execution": {
     "iopub.execute_input": "2020-07-22T17:48:28.982602Z",
     "iopub.status.busy": "2020-07-22T17:48:28.981931Z",
     "iopub.status.idle": "2020-07-22T17:48:28.984536Z",
     "shell.execute_reply": "2020-07-22T17:48:28.983161Z"
    }
   },
   "outputs": [
    {
     "name": "stdout",
     "output_type": "stream",
     "text": [
      "The empty domain in the SL were: 76 out of 500 domains\n",
      "The empty domain in the nSL were: 101 out of 500 domains\n"
     ]
    }
   ],
   "source": [
    "print('The empty domain in the SL were:', len(protein_a_list)-len(protein_a_list_new), 'out of', len(protein_a_list),'domains')\n",
    "print('The empty domain in the nSL were:', len(protein_a_list_non)-len(protein_a_list_non_new), 'out of', len(protein_a_list_non),'domains')"
   ]
  },
  {
   "cell_type": "markdown",
   "metadata": {},
   "source": [
    "### Feature engineering: Select from each ordered indexes of domain id list which of them appear once, in both or in any of the domains of each protein pair"
   ]
  },
  {
   "cell_type": "markdown",
   "metadata": {},
   "source": [
    "#### Define function `get_indexes`"
   ]
  },
  {
   "cell_type": "code",
   "execution_count": 7,
   "metadata": {
    "execution": {
     "iopub.execute_input": "2020-07-22T17:48:28.992340Z",
     "iopub.status.busy": "2020-07-22T17:48:28.991775Z",
     "iopub.status.idle": "2020-07-22T17:48:28.993992Z",
     "shell.execute_reply": "2020-07-22T17:48:28.994496Z"
    }
   },
   "outputs": [
    {
     "data": {
      "text/plain": [
       "[1, 2]"
      ]
     },
     "execution_count": 7,
     "metadata": {},
     "output_type": "execute_result"
    }
   ],
   "source": [
    "get_indexes = lambda x, xs: [i for (y, i) in zip(xs, range(len(xs))) if x == y] # a function that give the index of whether a value appear in array or not\n",
    "a=[1,2,2,4,5,6,7,8,9,10]\n",
    "get_indexes(2,a)"
   ]
  },
  {
   "cell_type": "code",
   "execution_count": 8,
   "metadata": {
    "execution": {
     "iopub.execute_input": "2020-07-22T17:48:28.997305Z",
     "iopub.status.busy": "2020-07-22T17:48:28.996646Z",
     "iopub.status.idle": "2020-07-22T17:48:29.006972Z",
     "shell.execute_reply": "2020-07-22T17:48:29.007474Z"
    }
   },
   "outputs": [],
   "source": [
    "def feature_building(protein_a_list_new,protein_b_list_new):\n",
    "    x = np.unique(domain_id_list)\n",
    "    ## To avoid taking repeated domains from one protein of the pairs , lets reduced the domains of each protein from the pairs to their unique members\n",
    "    protein_a_list_unique=[]\n",
    "    protein_b_list_unique=[]\n",
    "    for i in np.arange(0,len(protein_a_list_new)):\n",
    "        protein_a_list_unique.append(np.unique(protein_a_list_new[i]))\n",
    "        protein_b_list_unique.append(np.unique(protein_b_list_new[i]))\n",
    "        \n",
    "    protein_feat_true=np.zeros(shape=(len(x),len(protein_a_list_unique)))\n",
    "    pair_a_b_array=[]\n",
    "    for i in np.arange(0,len(protein_a_list_unique)):\n",
    "        index_a=[]\n",
    "        \n",
    "        pair=[protein_a_list_unique[i],protein_b_list_unique[i]]\n",
    "        pair_a_b=np.concatenate(pair).ravel()\n",
    "        pair_a_b_array.append(pair_a_b)\n",
    "\n",
    "    j=0\n",
    "    for i in pair_a_b_array:  \n",
    "        array,index,counts=np.unique(i,return_index=True,return_counts=True)\n",
    "        \n",
    "        for k,m in zip(counts,array):\n",
    "            if k ==2:\n",
    "                protein_feat_true[get_indexes(m,x),j]=2\n",
    "                \n",
    "            if k==1:\n",
    "                protein_feat_true[get_indexes(m,x),j]=1\n",
    "        j=j+1\n",
    "    return protein_feat_true"
   ]
  },
  {
   "cell_type": "code",
   "execution_count": 9,
   "metadata": {
    "execution": {
     "iopub.execute_input": "2020-07-22T17:48:29.019613Z",
     "iopub.status.busy": "2020-07-22T17:48:29.019004Z",
     "iopub.status.idle": "2020-07-22T17:48:29.808052Z",
     "shell.execute_reply": "2020-07-22T17:48:29.807086Z"
    }
   },
   "outputs": [],
   "source": [
    "protein_feat_true=feature_building(protein_b_list_new=protein_b_list_new,protein_a_list_new=protein_a_list_new)\n",
    "protein_feat_true_pd=pd.DataFrame(protein_feat_true.T)\n",
    "\n",
    "protein_feat_non_true=feature_building(protein_b_list_new=protein_b_list_non_new,protein_a_list_new=protein_a_list_non_new)\n",
    "protein_feat_non_true_pd=pd.DataFrame(protein_feat_non_true.T)"
   ]
  },
  {
   "cell_type": "markdown",
   "metadata": {},
   "source": [
    "### How many ones and twos are in each dataset"
   ]
  },
  {
   "cell_type": "code",
   "execution_count": 10,
   "metadata": {
    "execution": {
     "iopub.execute_input": "2020-07-22T17:48:29.816208Z",
     "iopub.status.busy": "2020-07-22T17:48:29.815432Z",
     "iopub.status.idle": "2020-07-22T17:48:29.917194Z",
     "shell.execute_reply": "2020-07-22T17:48:29.918120Z"
    }
   },
   "outputs": [
    {
     "name": "stdout",
     "output_type": "stream",
     "text": [
      "fraction of twos in the SL array is 1.4033993450803056e-05\n",
      "fraction of ones in the SL array is 0.0010096678621549977\n",
      "fraction of twos in the PI array is 6.628140599432465e-06\n",
      "fraction of ones in the PI array is 0.000925454131195758\n"
     ]
    }
   ],
   "source": [
    "index_2_true=protein_feat_true_pd.where(protein_feat_true_pd==2)\n",
    "index_2_true_count=index_2_true.count(axis=1).sum()\n",
    "\n",
    "index_1_true=protein_feat_true_pd.where(protein_feat_true_pd==1)\n",
    "index_1_true_count=index_1_true.count(axis=1).sum()\n",
    "\n",
    "index_2_nontrue=protein_feat_non_true_pd.where(protein_feat_non_true_pd==2)\n",
    "index_2_nontrue_count=index_2_nontrue.count(axis=1).sum()\n",
    "\n",
    "index_1_nontrue=protein_feat_non_true_pd.where(protein_feat_non_true_pd==1)\n",
    "index_1_nontrue_count=index_1_nontrue.count(axis=1).sum()\n",
    "\n",
    "\n",
    "print('fraction of twos in the SL array is',index_2_true_count/(len(protein_feat_true_pd.index)*len(protein_feat_true_pd.columns)))\n",
    "print('fraction of ones in the SL array is',index_1_true_count/(len(protein_feat_true_pd.index)*len(protein_feat_true_pd.columns)))\n",
    "print('fraction of twos in the PI array is',index_2_nontrue_count/(len(protein_feat_non_true_pd.index)*len(protein_feat_non_true_pd.columns)))\n",
    "print('fraction of ones in the PI array is',index_1_nontrue_count/(len(protein_feat_non_true_pd.index)*len(protein_feat_non_true_pd.columns)))"
   ]
  },
  {
   "cell_type": "markdown",
   "metadata": {},
   "source": [
    "#### Bar plot to visualize these numbers"
   ]
  },
  {
   "cell_type": "code",
   "execution_count": 11,
   "metadata": {
    "execution": {
     "iopub.execute_input": "2020-07-22T17:48:29.959453Z",
     "iopub.status.busy": "2020-07-22T17:48:29.944570Z",
     "iopub.status.idle": "2020-07-22T17:48:30.476219Z",
     "shell.execute_reply": "2020-07-22T17:48:30.475732Z"
    }
   },
   "outputs": [
    {
     "data": {
      "text/plain": [
       "([0, 1, 2, 3],\n",
       " [Text(0, 0, ''), Text(0, 0, ''), Text(0, 0, ''), Text(0, 0, '')])"
      ]
     },
     "execution_count": 11,
     "metadata": {},
     "output_type": "execute_result"
    },
    {
     "data": {
      "image/png": "[encoded data removed]",
      "text/plain": [
       "<Figure size 432x288 with 1 Axes>"
      ]
     },
     "metadata": {
      "filenames": {
       "image/png": "/home/runner/work/jupyter-book/jupyter-book/mini_book/docs/_build/jupyter_execute/prot_domains2lethality-FEATURES-POSTPROCESSING_18_1.png"
      },
      "needs_background": "light"
     },
     "output_type": "display_data"
    }
   ],
   "source": [
    "plt.bar(['fraction of 2 in the nSL','fraction of 1 in the nSL'],[index_2_nontrue_count/(len(protein_feat_non_true_pd.index)*len(protein_feat_non_true_pd.columns)),index_1_nontrue_count/(len(protein_feat_non_true_pd.index)*len(protein_feat_non_true_pd.columns))],alpha=0.6,color=['blue','lightblue']), \n",
    "\n",
    "plt.bar(['fraction of 2 in SL ','fraction of 1 in SL'],[index_2_true_count/(len(protein_feat_true_pd.index)*len(protein_feat_true_pd.columns)),index_1_true_count/(len(protein_feat_true_pd.index)*len(protein_feat_true_pd.columns))],alpha=0.6,color=['coral','lightcoral'])\n",
    "\n",
    "plt.ylabel('Fraction from the population')\n",
    "plt.yscale('log')\n",
    "plt.xticks(rotation=40)"
   ]
  },
  {
   "cell_type": "markdown",
   "metadata": {},
   "source": [
    "#### Adding the labels(response variables) to each dataset"
   ]
  },
  {
   "cell_type": "code",
   "execution_count": 12,
   "metadata": {
    "execution": {
     "iopub.execute_input": "2020-07-22T17:48:30.482851Z",
     "iopub.status.busy": "2020-07-22T17:48:30.480481Z",
     "iopub.status.idle": "2020-07-22T17:48:30.486197Z",
     "shell.execute_reply": "2020-07-22T17:48:30.485702Z"
    }
   },
   "outputs": [],
   "source": [
    "protein_feat_true_pd['lethality']=np.ones(shape=(len(protein_a_list_new)))\n",
    "protein_feat_non_true_pd['lethality']=np.zeros(shape=(len(protein_a_list_non_new)))"
   ]
  },
  {
   "cell_type": "markdown",
   "metadata": {},
   "source": [
    "#### Joining both datasets"
   ]
  },
  {
   "cell_type": "code",
   "execution_count": 13,
   "metadata": {
    "execution": {
     "iopub.execute_input": "2020-07-22T17:48:30.491346Z",
     "iopub.status.busy": "2020-07-22T17:48:30.490760Z",
     "iopub.status.idle": "2020-07-22T17:48:30.532075Z",
     "shell.execute_reply": "2020-07-22T17:48:30.532973Z"
    }
   },
   "outputs": [
    {
     "name": "stdout",
     "output_type": "stream",
     "text": [
      "The number of features are: 3026\n",
      "The number of samples are: 823\n"
     ]
    }
   ],
   "source": [
    "feature_post=pd.concat([protein_feat_true_pd,protein_feat_non_true_pd],axis=0)\n",
    "feature_post=feature_post.set_index(np.arange(0,len(protein_a_list_new)+len(protein_a_list_non_new)))\n",
    "print('The number of features are:',feature_post.shape[1])\n",
    "print('The number of samples are:',feature_post.shape[0])"
   ]
  },
  {
   "cell_type": "markdown",
   "metadata": {},
   "source": [
    "### Postprocessing and exploration of the feature matrix of both datasets"
   ]
  },
  {
   "cell_type": "code",
   "execution_count": 14,
   "metadata": {
    "execution": {
     "iopub.execute_input": "2020-07-22T17:48:30.552353Z",
     "iopub.status.busy": "2020-07-22T17:48:30.551390Z",
     "iopub.status.idle": "2020-07-22T17:48:35.607596Z",
     "shell.execute_reply": "2020-07-22T17:48:35.607052Z"
    }
   },
   "outputs": [],
   "source": [
    "mean=feature_post.T.describe().loc['mean']\n",
    "std=feature_post.T.describe().loc['std']\n",
    "lethality=feature_post['lethality']\n",
    "\n",
    "corr_keys=pd.concat([mean,std,lethality],axis=1)"
   ]
  },
  {
   "cell_type": "markdown",
   "metadata": {},
   "source": [
    "### Viz of the stats"
   ]
  },
  {
   "cell_type": "code",
   "execution_count": 15,
   "metadata": {
    "execution": {
     "iopub.execute_input": "2020-07-22T17:48:35.693618Z",
     "iopub.status.busy": "2020-07-22T17:48:35.629841Z",
     "iopub.status.idle": "2020-07-22T17:48:37.364353Z",
     "shell.execute_reply": "2020-07-22T17:48:37.363805Z"
    }
   },
   "outputs": [
    {
     "data": {
      "text/plain": [
       "Text(0.5, 1.08, 'Pairplot to see data dependencies with Lethality')"
      ]
     },
     "execution_count": 15,
     "metadata": {},
     "output_type": "execute_result"
    },
    {
     "data": {
      "image/png": "[encoded data removed]",
      "text/plain": [
       "<Figure size 412x360 with 6 Axes>"
      ]
     },
     "metadata": {
      "filenames": {
       "image/png": "/home/runner/work/jupyter-book/jupyter-book/mini_book/docs/_build/jupyter_execute/prot_domains2lethality-FEATURES-POSTPROCESSING_26_1.png"
      },
      "needs_background": "light"
     },
     "output_type": "display_data"
    }
   ],
   "source": [
    "pair=sns.pairplot(corr_keys,hue='lethality',diag_kind='kde',kind='reg',palette='colorblind')\n",
    "pair.fig.suptitle('Pairplot to see data dependencies with Lethality',y=1.08)"
   ]
  },
  {
   "cell_type": "code",
   "execution_count": 16,
   "metadata": {
    "execution": {
     "iopub.execute_input": "2020-07-22T17:48:37.375538Z",
     "iopub.status.busy": "2020-07-22T17:48:37.369181Z",
     "iopub.status.idle": "2020-07-22T17:48:37.379251Z",
     "shell.execute_reply": "2020-07-22T17:48:37.378704Z"
    }
   },
   "outputs": [],
   "source": [
    "X, y = feature_post.drop(columns=[\"lethality\"]), feature_post[\"lethality\"]"
   ]
  },
  {
   "cell_type": "code",
   "execution_count": 17,
   "metadata": {
    "execution": {
     "iopub.execute_input": "2020-07-22T17:48:37.384676Z",
     "iopub.status.busy": "2020-07-22T17:48:37.384033Z",
     "iopub.status.idle": "2020-07-22T17:48:37.548708Z",
     "shell.execute_reply": "2020-07-22T17:48:37.548161Z"
    }
   },
   "outputs": [],
   "source": [
    "from sklearn.preprocessing import StandardScaler\n",
    "scaler = StandardScaler()\n",
    "x_sl=protein_feat_true_pd.drop(columns=['lethality'])\n",
    "x_nsl=protein_feat_non_true_pd.drop(columns=['lethality'])\n",
    "\n",
    "X_sl_scaled = scaler.fit_transform(x_sl)\n",
    "X_nsl_scaled = scaler.fit_transform(x_nsl)"
   ]
  },
  {
   "cell_type": "code",
   "execution_count": 18,
   "metadata": {
    "execution": {
     "iopub.execute_input": "2020-07-22T17:48:37.553265Z",
     "iopub.status.busy": "2020-07-22T17:48:37.552586Z",
     "iopub.status.idle": "2020-07-22T17:48:37.559362Z",
     "shell.execute_reply": "2020-07-22T17:48:37.558804Z"
    }
   },
   "outputs": [
    {
     "data": {
      "text/plain": [
       "(424, 3025)"
      ]
     },
     "execution_count": 18,
     "metadata": {},
     "output_type": "execute_result"
    }
   ],
   "source": [
    "np.shape(X_sl_scaled)"
   ]
  },
  {
   "cell_type": "markdown",
   "metadata": {},
   "source": [
    "## How redundant are each of the protein domains?"
   ]
  },
  {
   "cell_type": "code",
   "execution_count": 19,
   "metadata": {
    "execution": {
     "iopub.execute_input": "2020-07-22T17:48:37.568752Z",
     "iopub.status.busy": "2020-07-22T17:48:37.566806Z",
     "iopub.status.idle": "2020-07-22T17:48:37.569481Z",
     "shell.execute_reply": "2020-07-22T17:48:37.570277Z"
    }
   },
   "outputs": [],
   "source": [
    "def PCA_component_contribution(scaled_matrix,original_data):\n",
    "    from sklearn.decomposition import PCA\n",
    "\n",
    "    model = PCA(0.95).fit(scaled_matrix)\n",
    "    ## apply dimensionality reduction to X_train\n",
    "    output_pca = model.transform(scaled_matrix)\n",
    "    \n",
    "    total=sum(model.explained_variance_)\n",
    "\n",
    "\n",
    "   \n",
    "    # number of components , that it will be the number of main axes times the number of original components \n",
    "    n_pcs= model.components_.shape[0] # the amount of non redundant protein domains \n",
    "\n",
    "    # get the index of the most important feature on EACH component\n",
    "    # LIST COMPREHENSION HERE\n",
    "    most_important = [np.abs(model.components_[i]).argmax() for i in range(n_pcs)]\n",
    "\n",
    "    initial_feature_names = original_data.columns\n",
    "    # get the names\n",
    "    most_important_names = [initial_feature_names[most_important[i]] for i in range(n_pcs)]\n",
    "    \n",
    "\n",
    "    # LIST COMPREHENSION HERE AGAIN\n",
    "    dic = {'PC{}'.format(i): most_important_names[i] for i in range(n_pcs)}\n",
    "\n",
    "    # build the dataframe\n",
    "    df = pd.DataFrame(dic.items(),columns=['pca-component','domain-number'])\n",
    "\n",
    "    return df,model.components_"
   ]
  },
  {
   "cell_type": "code",
   "execution_count": 20,
   "metadata": {
    "execution": {
     "iopub.execute_input": "2020-07-22T17:48:37.574676Z",
     "iopub.status.busy": "2020-07-22T17:48:37.574133Z",
     "iopub.status.idle": "2020-07-22T17:48:38.324285Z",
     "shell.execute_reply": "2020-07-22T17:48:38.324777Z"
    }
   },
   "outputs": [],
   "source": [
    "df_sl,components_pca_nsl=PCA_component_contribution(X_nsl_scaled,x_nsl)\n",
    "df_nsl,components_pca_sl=PCA_component_contribution(X_sl_scaled,x_sl)"
   ]
  },
  {
   "cell_type": "code",
   "execution_count": 21,
   "metadata": {
    "execution": {
     "iopub.execute_input": "2020-07-22T17:48:38.327456Z",
     "iopub.status.busy": "2020-07-22T17:48:38.326895Z",
     "iopub.status.idle": "2020-07-22T17:48:38.335519Z",
     "shell.execute_reply": "2020-07-22T17:48:38.336099Z"
    }
   },
   "outputs": [
    {
     "data": {
      "text/html": [
       "<div>\n",
       "<style scoped>\n",
       "    .dataframe tbody tr th:only-of-type {\n",
       "        vertical-align: middle;\n",
       "    }\n",
       "\n",
       "    .dataframe tbody tr th {\n",
       "        vertical-align: top;\n",
       "    }\n",
       "\n",
       "    .dataframe thead th {\n",
       "        text-align: right;\n",
       "    }\n",
       "</style>\n",
       "<table border=\"1\" class=\"dataframe\">\n",
       "  <thead>\n",
       "    <tr style=\"text-align: right;\">\n",
       "      <th></th>\n",
       "      <th>pca-component</th>\n",
       "      <th>domain-number</th>\n",
       "    </tr>\n",
       "  </thead>\n",
       "  <tbody>\n",
       "    <tr>\n",
       "      <th>0</th>\n",
       "      <td>PC0</td>\n",
       "      <td>540</td>\n",
       "    </tr>\n",
       "    <tr>\n",
       "      <th>1</th>\n",
       "      <td>PC1</td>\n",
       "      <td>2771</td>\n",
       "    </tr>\n",
       "    <tr>\n",
       "      <th>2</th>\n",
       "      <td>PC2</td>\n",
       "      <td>192</td>\n",
       "    </tr>\n",
       "    <tr>\n",
       "      <th>3</th>\n",
       "      <td>PC3</td>\n",
       "      <td>242</td>\n",
       "    </tr>\n",
       "    <tr>\n",
       "      <th>4</th>\n",
       "      <td>PC4</td>\n",
       "      <td>142</td>\n",
       "    </tr>\n",
       "  </tbody>\n",
       "</table>\n",
       "</div>"
      ],
      "text/plain": [
       "  pca-component  domain-number\n",
       "0           PC0            540\n",
       "1           PC1           2771\n",
       "2           PC2            192\n",
       "3           PC3            242\n",
       "4           PC4            142"
      ]
     },
     "execution_count": 21,
     "metadata": {},
     "output_type": "execute_result"
    }
   ],
   "source": [
    "df_sl.head()"
   ]
  },
  {
   "cell_type": "markdown",
   "metadata": {},
   "source": [
    "## which are the shared domains between nSL and SL pairs , in the PCA reduced samples"
   ]
  },
  {
   "cell_type": "code",
   "execution_count": 22,
   "metadata": {
    "execution": {
     "iopub.execute_input": "2020-07-22T17:48:38.338863Z",
     "iopub.status.busy": "2020-07-22T17:48:38.338245Z",
     "iopub.status.idle": "2020-07-22T17:48:38.373664Z",
     "shell.execute_reply": "2020-07-22T17:48:38.374165Z"
    }
   },
   "outputs": [
    {
     "data": {
      "text/html": [
       "<div>\n",
       "<style scoped>\n",
       "    .dataframe tbody tr th:only-of-type {\n",
       "        vertical-align: middle;\n",
       "    }\n",
       "\n",
       "    .dataframe tbody tr th {\n",
       "        vertical-align: top;\n",
       "    }\n",
       "\n",
       "    .dataframe thead th {\n",
       "        text-align: right;\n",
       "    }\n",
       "</style>\n",
       "<table border=\"1\" class=\"dataframe\">\n",
       "  <thead>\n",
       "    <tr style=\"text-align: right;\">\n",
       "      <th></th>\n",
       "      <th>pca-component_x</th>\n",
       "      <th>domain-number</th>\n",
       "      <th>pca-component_y</th>\n",
       "      <th>domain-description</th>\n",
       "    </tr>\n",
       "  </thead>\n",
       "  <tbody>\n",
       "    <tr>\n",
       "      <th>0</th>\n",
       "      <td>PC2</td>\n",
       "      <td>192</td>\n",
       "      <td>PC93</td>\n",
       "      <td>Alkyl_sulf_C; Alkyl sulfatase, C-terminal</td>\n",
       "    </tr>\n",
       "    <tr>\n",
       "      <th>1</th>\n",
       "      <td>PC7</td>\n",
       "      <td>58</td>\n",
       "      <td>PC27</td>\n",
       "      <td>AEP1; ATPase expression protein 1</td>\n",
       "    </tr>\n",
       "    <tr>\n",
       "      <th>2</th>\n",
       "      <td>PC15</td>\n",
       "      <td>183</td>\n",
       "      <td>PC24</td>\n",
       "      <td>Alb1; Ribosome biogenesis protein Alb1</td>\n",
       "    </tr>\n",
       "    <tr>\n",
       "      <th>3</th>\n",
       "      <td>PC17</td>\n",
       "      <td>24</td>\n",
       "      <td>PC131</td>\n",
       "      <td>AAA_5; ATPase, dynein-related, AAA domain</td>\n",
       "    </tr>\n",
       "    <tr>\n",
       "      <th>4</th>\n",
       "      <td>PC26</td>\n",
       "      <td>877</td>\n",
       "      <td>PC39</td>\n",
       "      <td>FF; FF domain</td>\n",
       "    </tr>\n",
       "    <tr>\n",
       "      <th>5</th>\n",
       "      <td>PC26</td>\n",
       "      <td>877</td>\n",
       "      <td>PC40</td>\n",
       "      <td>FF; FF domain</td>\n",
       "    </tr>\n",
       "    <tr>\n",
       "      <th>6</th>\n",
       "      <td>PC27</td>\n",
       "      <td>926</td>\n",
       "      <td>PC6</td>\n",
       "      <td>Flp_C; Recombinase Flp protein</td>\n",
       "    </tr>\n",
       "    <tr>\n",
       "      <th>7</th>\n",
       "      <td>PC38</td>\n",
       "      <td>274</td>\n",
       "      <td>PC14</td>\n",
       "      <td>BOP1NT; BOP1, N-terminal domain</td>\n",
       "    </tr>\n",
       "    <tr>\n",
       "      <th>8</th>\n",
       "      <td>PC41</td>\n",
       "      <td>488</td>\n",
       "      <td>PC49</td>\n",
       "      <td>Cnd1_N; Condensin complex subunit 1, N-terminal</td>\n",
       "    </tr>\n",
       "    <tr>\n",
       "      <th>9</th>\n",
       "      <td>PC42</td>\n",
       "      <td>488</td>\n",
       "      <td>PC49</td>\n",
       "      <td>Cnd1_N; Condensin complex subunit 1, N-terminal</td>\n",
       "    </tr>\n",
       "    <tr>\n",
       "      <th>10</th>\n",
       "      <td>PC43</td>\n",
       "      <td>1677</td>\n",
       "      <td>PC52</td>\n",
       "      <td>Ost5; Oligosaccharyltransferase complex subunit</td>\n",
       "    </tr>\n",
       "    <tr>\n",
       "      <th>11</th>\n",
       "      <td>PC43</td>\n",
       "      <td>1677</td>\n",
       "      <td>PC53</td>\n",
       "      <td>Ost5; Oligosaccharyltransferase complex subunit</td>\n",
       "    </tr>\n",
       "    <tr>\n",
       "      <th>12</th>\n",
       "      <td>PC47</td>\n",
       "      <td>937</td>\n",
       "      <td>PC58</td>\n",
       "      <td>Frag1; Frag1/DRAM/Sfk1</td>\n",
       "    </tr>\n",
       "    <tr>\n",
       "      <th>13</th>\n",
       "      <td>PC48</td>\n",
       "      <td>139</td>\n",
       "      <td>PC157</td>\n",
       "      <td>ATP_bind_1; GPN-loop GTPase</td>\n",
       "    </tr>\n",
       "    <tr>\n",
       "      <th>14</th>\n",
       "      <td>PC48</td>\n",
       "      <td>139</td>\n",
       "      <td>PC158</td>\n",
       "      <td>ATP_bind_1; GPN-loop GTPase</td>\n",
       "    </tr>\n",
       "    <tr>\n",
       "      <th>15</th>\n",
       "      <td>PC48</td>\n",
       "      <td>139</td>\n",
       "      <td>PC159</td>\n",
       "      <td>ATP_bind_1; GPN-loop GTPase</td>\n",
       "    </tr>\n",
       "    <tr>\n",
       "      <th>16</th>\n",
       "      <td>PC48</td>\n",
       "      <td>139</td>\n",
       "      <td>PC160</td>\n",
       "      <td>ATP_bind_1; GPN-loop GTPase</td>\n",
       "    </tr>\n",
       "    <tr>\n",
       "      <th>17</th>\n",
       "      <td>PC54</td>\n",
       "      <td>1</td>\n",
       "      <td>PC213</td>\n",
       "      <td>14-3-3; 14-3-3 domain</td>\n",
       "    </tr>\n",
       "    <tr>\n",
       "      <th>18</th>\n",
       "      <td>PC54</td>\n",
       "      <td>1</td>\n",
       "      <td>PC245</td>\n",
       "      <td>14-3-3; 14-3-3 domain</td>\n",
       "    </tr>\n",
       "    <tr>\n",
       "      <th>19</th>\n",
       "      <td>PC60</td>\n",
       "      <td>379</td>\n",
       "      <td>PC74</td>\n",
       "      <td>COG6</td>\n",
       "    </tr>\n",
       "    <tr>\n",
       "      <th>20</th>\n",
       "      <td>PC62</td>\n",
       "      <td>6</td>\n",
       "      <td>PC136</td>\n",
       "      <td>2OG-FeII_Oxy_4</td>\n",
       "    </tr>\n",
       "    <tr>\n",
       "      <th>21</th>\n",
       "      <td>PC76</td>\n",
       "      <td>384</td>\n",
       "      <td>PC207</td>\n",
       "      <td>COPI_assoc; Golgi apparatus membrane protein T...</td>\n",
       "    </tr>\n",
       "    <tr>\n",
       "      <th>22</th>\n",
       "      <td>PC78</td>\n",
       "      <td>381</td>\n",
       "      <td>PC169</td>\n",
       "      <td>COP-gamma_platf; Coatomer, gamma subunit, appe...</td>\n",
       "    </tr>\n",
       "    <tr>\n",
       "      <th>23</th>\n",
       "      <td>PC87</td>\n",
       "      <td>1169</td>\n",
       "      <td>PC48</td>\n",
       "      <td>HisG; ATP phosphoribosyltransferase, catalytic...</td>\n",
       "    </tr>\n",
       "    <tr>\n",
       "      <th>24</th>\n",
       "      <td>PC98</td>\n",
       "      <td>390</td>\n",
       "      <td>PC47</td>\n",
       "      <td>COX17; Cytochrome c oxidase copper chaperone</td>\n",
       "    </tr>\n",
       "    <tr>\n",
       "      <th>25</th>\n",
       "      <td>PC107</td>\n",
       "      <td>443</td>\n",
       "      <td>PC102</td>\n",
       "      <td>Carbpep_Y_N; Propeptide, carboxypeptidase Y</td>\n",
       "    </tr>\n",
       "    <tr>\n",
       "      <th>26</th>\n",
       "      <td>PC117</td>\n",
       "      <td>443</td>\n",
       "      <td>PC102</td>\n",
       "      <td>Carbpep_Y_N; Propeptide, carboxypeptidase Y</td>\n",
       "    </tr>\n",
       "    <tr>\n",
       "      <th>27</th>\n",
       "      <td>PC123</td>\n",
       "      <td>2056</td>\n",
       "      <td>PC263</td>\n",
       "      <td>RRM; RNA-binding domain, putative</td>\n",
       "    </tr>\n",
       "    <tr>\n",
       "      <th>28</th>\n",
       "      <td>PC136</td>\n",
       "      <td>2561</td>\n",
       "      <td>PC242</td>\n",
       "      <td>TB2_DP1_HVA22; TB2/DP1/HVA22-related protein</td>\n",
       "    </tr>\n",
       "    <tr>\n",
       "      <th>29</th>\n",
       "      <td>PC139</td>\n",
       "      <td>1048</td>\n",
       "      <td>PC127</td>\n",
       "      <td>Glyco_hydro_31; Glycoside hydrolase family 31</td>\n",
       "    </tr>\n",
       "    <tr>\n",
       "      <th>30</th>\n",
       "      <td>PC139</td>\n",
       "      <td>1048</td>\n",
       "      <td>PC128</td>\n",
       "      <td>Glyco_hydro_31; Glycoside hydrolase family 31</td>\n",
       "    </tr>\n",
       "    <tr>\n",
       "      <th>31</th>\n",
       "      <td>PC141</td>\n",
       "      <td>1340</td>\n",
       "      <td>PC256</td>\n",
       "      <td>Lysine_decarbox; LOG family</td>\n",
       "    </tr>\n",
       "    <tr>\n",
       "      <th>32</th>\n",
       "      <td>PC143</td>\n",
       "      <td>2165</td>\n",
       "      <td>PC164</td>\n",
       "      <td>Ribosomal_L18A; Ribosomal protein 50S-L18Ae/60...</td>\n",
       "    </tr>\n",
       "    <tr>\n",
       "      <th>33</th>\n",
       "      <td>PC143</td>\n",
       "      <td>2165</td>\n",
       "      <td>PC171</td>\n",
       "      <td>Ribosomal_L18A; Ribosomal protein 50S-L18Ae/60...</td>\n",
       "    </tr>\n",
       "    <tr>\n",
       "      <th>34</th>\n",
       "      <td>PC157</td>\n",
       "      <td>1672</td>\n",
       "      <td>PC226</td>\n",
       "      <td>Opi1; Transcription factor Opi1</td>\n",
       "    </tr>\n",
       "    <tr>\n",
       "      <th>35</th>\n",
       "      <td>PC158</td>\n",
       "      <td>1672</td>\n",
       "      <td>PC226</td>\n",
       "      <td>Opi1; Transcription factor Opi1</td>\n",
       "    </tr>\n",
       "    <tr>\n",
       "      <th>36</th>\n",
       "      <td>PC161</td>\n",
       "      <td>407</td>\n",
       "      <td>PC56</td>\n",
       "      <td>CPSase_L_D2; Carbamoyl-phosphate synthetase la...</td>\n",
       "    </tr>\n",
       "    <tr>\n",
       "      <th>37</th>\n",
       "      <td>PC161</td>\n",
       "      <td>407</td>\n",
       "      <td>PC57</td>\n",
       "      <td>CPSase_L_D2; Carbamoyl-phosphate synthetase la...</td>\n",
       "    </tr>\n",
       "    <tr>\n",
       "      <th>38</th>\n",
       "      <td>PC167</td>\n",
       "      <td>68</td>\n",
       "      <td>PC205</td>\n",
       "      <td>AIRC; PurE domain</td>\n",
       "    </tr>\n",
       "    <tr>\n",
       "      <th>39</th>\n",
       "      <td>PC168</td>\n",
       "      <td>68</td>\n",
       "      <td>PC205</td>\n",
       "      <td>AIRC; PurE domain</td>\n",
       "    </tr>\n",
       "    <tr>\n",
       "      <th>40</th>\n",
       "      <td>PC180</td>\n",
       "      <td>2042</td>\n",
       "      <td>PC178</td>\n",
       "      <td>RNase_P_p30; RNase P subunit p30</td>\n",
       "    </tr>\n",
       "    <tr>\n",
       "      <th>41</th>\n",
       "      <td>PC181</td>\n",
       "      <td>2042</td>\n",
       "      <td>PC178</td>\n",
       "      <td>RNase_P_p30; RNase P subunit p30</td>\n",
       "    </tr>\n",
       "    <tr>\n",
       "      <th>42</th>\n",
       "      <td>PC184</td>\n",
       "      <td>1063</td>\n",
       "      <td>PC221</td>\n",
       "      <td>Glyco_transf_20; Glycosyl transferase, family 20</td>\n",
       "    </tr>\n",
       "    <tr>\n",
       "      <th>43</th>\n",
       "      <td>PC184</td>\n",
       "      <td>1063</td>\n",
       "      <td>PC228</td>\n",
       "      <td>Glyco_transf_20; Glycosyl transferase, family 20</td>\n",
       "    </tr>\n",
       "    <tr>\n",
       "      <th>44</th>\n",
       "      <td>PC199</td>\n",
       "      <td>109</td>\n",
       "      <td>PC253</td>\n",
       "      <td>ATG13; Autophagy-related protein 13</td>\n",
       "    </tr>\n",
       "    <tr>\n",
       "      <th>45</th>\n",
       "      <td>PC201</td>\n",
       "      <td>2043</td>\n",
       "      <td>PC165</td>\n",
       "      <td>RNase_P_pop3; RNase P, subunit Pop3</td>\n",
       "    </tr>\n",
       "    <tr>\n",
       "      <th>46</th>\n",
       "      <td>PC211</td>\n",
       "      <td>1571</td>\n",
       "      <td>PC239</td>\n",
       "      <td>NMT1; SsuA/THI5-like</td>\n",
       "    </tr>\n",
       "    <tr>\n",
       "      <th>47</th>\n",
       "      <td>PC219</td>\n",
       "      <td>161</td>\n",
       "      <td>PC89</td>\n",
       "      <td>Acyl-CoA_ox_N; Acyl-coenzyme A oxidase, N-term...</td>\n",
       "    </tr>\n",
       "    <tr>\n",
       "      <th>48</th>\n",
       "      <td>PC219</td>\n",
       "      <td>161</td>\n",
       "      <td>PC97</td>\n",
       "      <td>Acyl-CoA_ox_N; Acyl-coenzyme A oxidase, N-term...</td>\n",
       "    </tr>\n",
       "    <tr>\n",
       "      <th>49</th>\n",
       "      <td>PC228</td>\n",
       "      <td>1000</td>\n",
       "      <td>PC105</td>\n",
       "      <td>GRASP55_65; GRASP55/65 PDZ-like domain</td>\n",
       "    </tr>\n",
       "    <tr>\n",
       "      <th>50</th>\n",
       "      <td>PC251</td>\n",
       "      <td>1000</td>\n",
       "      <td>PC105</td>\n",
       "      <td>GRASP55_65; GRASP55/65 PDZ-like domain</td>\n",
       "    </tr>\n",
       "    <tr>\n",
       "      <th>51</th>\n",
       "      <td>PC236</td>\n",
       "      <td>2151</td>\n",
       "      <td>PC258</td>\n",
       "      <td>Ribosomal_60s</td>\n",
       "    </tr>\n",
       "    <tr>\n",
       "      <th>52</th>\n",
       "      <td>PC241</td>\n",
       "      <td>36</td>\n",
       "      <td>PC54</td>\n",
       "      <td>AA_permease_2; Amino acid/polyamine transporter I</td>\n",
       "    </tr>\n",
       "    <tr>\n",
       "      <th>53</th>\n",
       "      <td>PC256</td>\n",
       "      <td>622</td>\n",
       "      <td>PC254</td>\n",
       "      <td>DNA_topoisoIV; DNA topoisomerase, type IIA, su...</td>\n",
       "    </tr>\n",
       "  </tbody>\n",
       "</table>\n",
       "</div>"
      ],
      "text/plain": [
       "   pca-component_x  domain-number pca-component_y  \\\n",
       "0              PC2            192            PC93   \n",
       "1              PC7             58            PC27   \n",
       "2             PC15            183            PC24   \n",
       "3             PC17             24           PC131   \n",
       "4             PC26            877            PC39   \n",
       "5             PC26            877            PC40   \n",
       "6             PC27            926             PC6   \n",
       "7             PC38            274            PC14   \n",
       "8             PC41            488            PC49   \n",
       "9             PC42            488            PC49   \n",
       "10            PC43           1677            PC52   \n",
       "11            PC43           1677            PC53   \n",
       "12            PC47            937            PC58   \n",
       "13            PC48            139           PC157   \n",
       "14            PC48            139           PC158   \n",
       "15            PC48            139           PC159   \n",
       "16            PC48            139           PC160   \n",
       "17            PC54              1           PC213   \n",
       "18            PC54              1           PC245   \n",
       "19            PC60            379            PC74   \n",
       "20            PC62              6           PC136   \n",
       "21            PC76            384           PC207   \n",
       "22            PC78            381           PC169   \n",
       "23            PC87           1169            PC48   \n",
       "24            PC98            390            PC47   \n",
       "25           PC107            443           PC102   \n",
       "26           PC117            443           PC102   \n",
       "27           PC123           2056           PC263   \n",
       "28           PC136           2561           PC242   \n",
       "29           PC139           1048           PC127   \n",
       "30           PC139           1048           PC128   \n",
       "31           PC141           1340           PC256   \n",
       "32           PC143           2165           PC164   \n",
       "33           PC143           2165           PC171   \n",
       "34           PC157           1672           PC226   \n",
       "35           PC158           1672           PC226   \n",
       "36           PC161            407            PC56   \n",
       "37           PC161            407            PC57   \n",
       "38           PC167             68           PC205   \n",
       "39           PC168             68           PC205   \n",
       "40           PC180           2042           PC178   \n",
       "41           PC181           2042           PC178   \n",
       "42           PC184           1063           PC221   \n",
       "43           PC184           1063           PC228   \n",
       "44           PC199            109           PC253   \n",
       "45           PC201           2043           PC165   \n",
       "46           PC211           1571           PC239   \n",
       "47           PC219            161            PC89   \n",
       "48           PC219            161            PC97   \n",
       "49           PC228           1000           PC105   \n",
       "50           PC251           1000           PC105   \n",
       "51           PC236           2151           PC258   \n",
       "52           PC241             36            PC54   \n",
       "53           PC256            622           PC254   \n",
       "\n",
       "                                   domain-description  \n",
       "0           Alkyl_sulf_C; Alkyl sulfatase, C-terminal  \n",
       "1                   AEP1; ATPase expression protein 1  \n",
       "2              Alb1; Ribosome biogenesis protein Alb1  \n",
       "3           AAA_5; ATPase, dynein-related, AAA domain  \n",
       "4                                       FF; FF domain  \n",
       "5                                       FF; FF domain  \n",
       "6                      Flp_C; Recombinase Flp protein  \n",
       "7                     BOP1NT; BOP1, N-terminal domain  \n",
       "8     Cnd1_N; Condensin complex subunit 1, N-terminal  \n",
       "9     Cnd1_N; Condensin complex subunit 1, N-terminal  \n",
       "10    Ost5; Oligosaccharyltransferase complex subunit  \n",
       "11    Ost5; Oligosaccharyltransferase complex subunit  \n",
       "12                             Frag1; Frag1/DRAM/Sfk1  \n",
       "13                        ATP_bind_1; GPN-loop GTPase  \n",
       "14                        ATP_bind_1; GPN-loop GTPase  \n",
       "15                        ATP_bind_1; GPN-loop GTPase  \n",
       "16                        ATP_bind_1; GPN-loop GTPase  \n",
       "17                              14-3-3; 14-3-3 domain  \n",
       "18                              14-3-3; 14-3-3 domain  \n",
       "19                                               COG6  \n",
       "20                                     2OG-FeII_Oxy_4  \n",
       "21  COPI_assoc; Golgi apparatus membrane protein T...  \n",
       "22  COP-gamma_platf; Coatomer, gamma subunit, appe...  \n",
       "23  HisG; ATP phosphoribosyltransferase, catalytic...  \n",
       "24       COX17; Cytochrome c oxidase copper chaperone  \n",
       "25        Carbpep_Y_N; Propeptide, carboxypeptidase Y  \n",
       "26        Carbpep_Y_N; Propeptide, carboxypeptidase Y  \n",
       "27                  RRM; RNA-binding domain, putative  \n",
       "28       TB2_DP1_HVA22; TB2/DP1/HVA22-related protein  \n",
       "29      Glyco_hydro_31; Glycoside hydrolase family 31  \n",
       "30      Glyco_hydro_31; Glycoside hydrolase family 31  \n",
       "31                        Lysine_decarbox; LOG family  \n",
       "32  Ribosomal_L18A; Ribosomal protein 50S-L18Ae/60...  \n",
       "33  Ribosomal_L18A; Ribosomal protein 50S-L18Ae/60...  \n",
       "34                    Opi1; Transcription factor Opi1  \n",
       "35                    Opi1; Transcription factor Opi1  \n",
       "36  CPSase_L_D2; Carbamoyl-phosphate synthetase la...  \n",
       "37  CPSase_L_D2; Carbamoyl-phosphate synthetase la...  \n",
       "38                                  AIRC; PurE domain  \n",
       "39                                  AIRC; PurE domain  \n",
       "40                   RNase_P_p30; RNase P subunit p30  \n",
       "41                   RNase_P_p30; RNase P subunit p30  \n",
       "42   Glyco_transf_20; Glycosyl transferase, family 20  \n",
       "43   Glyco_transf_20; Glycosyl transferase, family 20  \n",
       "44                ATG13; Autophagy-related protein 13  \n",
       "45                RNase_P_pop3; RNase P, subunit Pop3  \n",
       "46                               NMT1; SsuA/THI5-like  \n",
       "47  Acyl-CoA_ox_N; Acyl-coenzyme A oxidase, N-term...  \n",
       "48  Acyl-CoA_ox_N; Acyl-coenzyme A oxidase, N-term...  \n",
       "49             GRASP55_65; GRASP55/65 PDZ-like domain  \n",
       "50             GRASP55_65; GRASP55/65 PDZ-like domain  \n",
       "51                                      Ribosomal_60s  \n",
       "52  AA_permease_2; Amino acid/polyamine transporter I  \n",
       "53  DNA_topoisoIV; DNA topoisomerase, type IIA, su...  "
      ]
     },
     "execution_count": 22,
     "metadata": {},
     "output_type": "execute_result"
    }
   ],
   "source": [
    "df_shared_domains=pd.merge(df_sl,df_nsl,how='inner',on='domain-number')\n",
    "domains_name=np.unique(data_domains['domain-name'])\n",
    "domains_description=np.unique(data_domains['domain-descrip'])\n",
    "\n",
    "df_shared_domains['domain-description']=domains_description[df_shared_domains['domain-number']]\n",
    "\n",
    "\n",
    "df_shared_domains"
   ]
  },
  {
   "cell_type": "code",
   "execution_count": 23,
   "metadata": {
    "execution": {
     "iopub.execute_input": "2020-07-22T17:48:38.379413Z",
     "iopub.status.busy": "2020-07-22T17:48:38.378841Z",
     "iopub.status.idle": "2020-07-22T17:48:38.382210Z",
     "shell.execute_reply": "2020-07-22T17:48:38.382665Z"
    }
   },
   "outputs": [
    {
     "name": "stdout",
     "output_type": "stream",
     "text": [
      "The number of shared domains between SL and nSL pairs,after PCA, is =  54 out of 536 so the 10.074626865671641 %\n"
     ]
    }
   ],
   "source": [
    "print('The number of shared domains between SL and nSL pairs,after PCA, is = ',len(df_shared_domains), 'out of', len(df_sl)+len(df_nsl), 'so the',100*len(df_shared_domains)/(len(df_sl)+len(df_nsl)),'%')"
   ]
  },
  {
   "cell_type": "markdown",
   "metadata": {},
   "source": [
    "## Domains exclusive to SL"
   ]
  },
  {
   "cell_type": "code",
   "execution_count": 24,
   "metadata": {
    "execution": {
     "iopub.execute_input": "2020-07-22T17:48:38.388857Z",
     "iopub.status.busy": "2020-07-22T17:48:38.388233Z",
     "iopub.status.idle": "2020-07-22T17:48:38.415340Z",
     "shell.execute_reply": "2020-07-22T17:48:38.416095Z"
    }
   },
   "outputs": [
    {
     "data": {
      "text/html": [
       "<div>\n",
       "<style scoped>\n",
       "    .dataframe tbody tr th:only-of-type {\n",
       "        vertical-align: middle;\n",
       "    }\n",
       "\n",
       "    .dataframe tbody tr th {\n",
       "        vertical-align: top;\n",
       "    }\n",
       "\n",
       "    .dataframe thead th {\n",
       "        text-align: right;\n",
       "    }\n",
       "</style>\n",
       "<table border=\"1\" class=\"dataframe\">\n",
       "  <thead>\n",
       "    <tr style=\"text-align: right;\">\n",
       "      <th></th>\n",
       "      <th>pca-component_x</th>\n",
       "      <th>domain-number</th>\n",
       "      <th>pca-component_y</th>\n",
       "      <th>domain-description</th>\n",
       "    </tr>\n",
       "  </thead>\n",
       "  <tbody>\n",
       "    <tr>\n",
       "      <th>0</th>\n",
       "      <td>PC0</td>\n",
       "      <td>540</td>\n",
       "      <td>NaN</td>\n",
       "      <td>Cytochrome_B; Cytochrome b/b6, N-terminal</td>\n",
       "    </tr>\n",
       "    <tr>\n",
       "      <th>1</th>\n",
       "      <td>PC1</td>\n",
       "      <td>2771</td>\n",
       "      <td>NaN</td>\n",
       "      <td>Ubiq-assoc; Ubiquitin-associated domain, SWA2-...</td>\n",
       "    </tr>\n",
       "    <tr>\n",
       "      <th>3</th>\n",
       "      <td>PC3</td>\n",
       "      <td>242</td>\n",
       "      <td>NaN</td>\n",
       "      <td>Atg31; Autophagy-related protein 31</td>\n",
       "    </tr>\n",
       "    <tr>\n",
       "      <th>4</th>\n",
       "      <td>PC4</td>\n",
       "      <td>142</td>\n",
       "      <td>NaN</td>\n",
       "      <td>ATP_synt_H; ATPase, V0 complex, subunit e1/e2</td>\n",
       "    </tr>\n",
       "    <tr>\n",
       "      <th>5</th>\n",
       "      <td>PC5</td>\n",
       "      <td>349</td>\n",
       "      <td>NaN</td>\n",
       "      <td>CFEM; Extracellular membrane protein, CFEM domain</td>\n",
       "    </tr>\n",
       "    <tr>\n",
       "      <th>...</th>\n",
       "      <td>...</td>\n",
       "      <td>...</td>\n",
       "      <td>...</td>\n",
       "      <td>...</td>\n",
       "    </tr>\n",
       "    <tr>\n",
       "      <th>275</th>\n",
       "      <td>PC264</td>\n",
       "      <td>200</td>\n",
       "      <td>NaN</td>\n",
       "      <td>Amidohydro_1; Amidohydrolase-related</td>\n",
       "    </tr>\n",
       "    <tr>\n",
       "      <th>276</th>\n",
       "      <td>PC265</td>\n",
       "      <td>619</td>\n",
       "      <td>NaN</td>\n",
       "      <td>DNA_pol_phi; DNA polymerase V</td>\n",
       "    </tr>\n",
       "    <tr>\n",
       "      <th>277</th>\n",
       "      <td>PC266</td>\n",
       "      <td>122</td>\n",
       "      <td>NaN</td>\n",
       "      <td>ATP-synt_10; ATPase assembly factor ATP10</td>\n",
       "    </tr>\n",
       "    <tr>\n",
       "      <th>278</th>\n",
       "      <td>PC267</td>\n",
       "      <td>1582</td>\n",
       "      <td>NaN</td>\n",
       "      <td>NPCC; Nuclear pore complex component</td>\n",
       "    </tr>\n",
       "    <tr>\n",
       "      <th>279</th>\n",
       "      <td>PC268</td>\n",
       "      <td>568</td>\n",
       "      <td>NaN</td>\n",
       "      <td>DDE_1; DDE superfamily endonuclease domain</td>\n",
       "    </tr>\n",
       "  </tbody>\n",
       "</table>\n",
       "<p>226 rows × 4 columns</p>\n",
       "</div>"
      ],
      "text/plain": [
       "    pca-component_x  domain-number pca-component_y  \\\n",
       "0               PC0            540             NaN   \n",
       "1               PC1           2771             NaN   \n",
       "3               PC3            242             NaN   \n",
       "4               PC4            142             NaN   \n",
       "5               PC5            349             NaN   \n",
       "..              ...            ...             ...   \n",
       "275           PC264            200             NaN   \n",
       "276           PC265            619             NaN   \n",
       "277           PC266            122             NaN   \n",
       "278           PC267           1582             NaN   \n",
       "279           PC268            568             NaN   \n",
       "\n",
       "                                    domain-description  \n",
       "0            Cytochrome_B; Cytochrome b/b6, N-terminal  \n",
       "1    Ubiq-assoc; Ubiquitin-associated domain, SWA2-...  \n",
       "3                  Atg31; Autophagy-related protein 31  \n",
       "4        ATP_synt_H; ATPase, V0 complex, subunit e1/e2  \n",
       "5    CFEM; Extracellular membrane protein, CFEM domain  \n",
       "..                                                 ...  \n",
       "275               Amidohydro_1; Amidohydrolase-related  \n",
       "276                      DNA_pol_phi; DNA polymerase V  \n",
       "277          ATP-synt_10; ATPase assembly factor ATP10  \n",
       "278               NPCC; Nuclear pore complex component  \n",
       "279         DDE_1; DDE superfamily endonuclease domain  \n",
       "\n",
       "[226 rows x 4 columns]"
      ]
     },
     "execution_count": 24,
     "metadata": {},
     "output_type": "execute_result"
    }
   ],
   "source": [
    "df_sl_exclusive=pd.merge(df_sl,df_nsl,how='left',on='domain-number')\n",
    "\n",
    "domains_name=np.unique(data_domains['domain-name'])\n",
    "domains_description=np.unique(data_domains['domain-descrip'])\n",
    "\n",
    "df_sl_exclusive['domain-description']=domains_description[df_sl_exclusive['domain-number']]\n",
    "df_sl_exclusive[pd.isnull(df_sl_exclusive['pca-component_y'])]"
   ]
  },
  {
   "cell_type": "code",
   "execution_count": 25,
   "metadata": {
    "execution": {
     "iopub.execute_input": "2020-07-22T17:48:38.418718Z",
     "iopub.status.busy": "2020-07-22T17:48:38.418085Z",
     "iopub.status.idle": "2020-07-22T17:48:38.424161Z",
     "shell.execute_reply": "2020-07-22T17:48:38.424784Z"
    }
   },
   "outputs": [
    {
     "name": "stdout",
     "output_type": "stream",
     "text": [
      "The number of exclusive domains from SL pairs, after PCA, is =  280 out of 536 so the 52.23880597014925 %\n"
     ]
    }
   ],
   "source": [
    "print('The number of exclusive domains from SL pairs, after PCA, is = ',len(df_sl_exclusive), 'out of', len(df_sl)+len(df_nsl), 'so the',100*len(df_sl_exclusive)/(len(df_sl)+len(df_nsl)),'%')"
   ]
  },
  {
   "cell_type": "code",
   "execution_count": 26,
   "metadata": {
    "execution": {
     "iopub.execute_input": "2020-07-22T17:48:38.427431Z",
     "iopub.status.busy": "2020-07-22T17:48:38.426836Z",
     "iopub.status.idle": "2020-07-22T17:48:38.459711Z",
     "shell.execute_reply": "2020-07-22T17:48:38.459232Z"
    }
   },
   "outputs": [
    {
     "data": {
      "text/html": [
       "<div>\n",
       "<style scoped>\n",
       "    .dataframe tbody tr th:only-of-type {\n",
       "        vertical-align: middle;\n",
       "    }\n",
       "\n",
       "    .dataframe tbody tr th {\n",
       "        vertical-align: top;\n",
       "    }\n",
       "\n",
       "    .dataframe thead th {\n",
       "        text-align: right;\n",
       "    }\n",
       "</style>\n",
       "<table border=\"1\" class=\"dataframe\">\n",
       "  <thead>\n",
       "    <tr style=\"text-align: right;\">\n",
       "      <th></th>\n",
       "      <th>pca-component_x</th>\n",
       "      <th>domain-number</th>\n",
       "      <th>pca-component_y</th>\n",
       "      <th>domain-description</th>\n",
       "    </tr>\n",
       "  </thead>\n",
       "  <tbody>\n",
       "    <tr>\n",
       "      <th>54</th>\n",
       "      <td>NaN</td>\n",
       "      <td>308</td>\n",
       "      <td>PC0</td>\n",
       "      <td>Bul1_N; Bul1, N-terminal</td>\n",
       "    </tr>\n",
       "    <tr>\n",
       "      <th>55</th>\n",
       "      <td>NaN</td>\n",
       "      <td>428</td>\n",
       "      <td>PC1</td>\n",
       "      <td>CTP_synth_N; CTP synthase, N-terminal</td>\n",
       "    </tr>\n",
       "    <tr>\n",
       "      <th>56</th>\n",
       "      <td>NaN</td>\n",
       "      <td>180</td>\n",
       "      <td>PC2</td>\n",
       "      <td>Aim21; Altered inheritance of mitochondria pro...</td>\n",
       "    </tr>\n",
       "    <tr>\n",
       "      <th>57</th>\n",
       "      <td>NaN</td>\n",
       "      <td>2113</td>\n",
       "      <td>PC3</td>\n",
       "      <td>Rav1p_C; RAVE complex protein Rav1 C-terminal</td>\n",
       "    </tr>\n",
       "    <tr>\n",
       "      <th>58</th>\n",
       "      <td>NaN</td>\n",
       "      <td>2057</td>\n",
       "      <td>PC4</td>\n",
       "      <td>RRM_1; RNA recognition motif domain</td>\n",
       "    </tr>\n",
       "    <tr>\n",
       "      <th>...</th>\n",
       "      <td>...</td>\n",
       "      <td>...</td>\n",
       "      <td>...</td>\n",
       "      <td>...</td>\n",
       "    </tr>\n",
       "    <tr>\n",
       "      <th>268</th>\n",
       "      <td>NaN</td>\n",
       "      <td>2483</td>\n",
       "      <td>PC259</td>\n",
       "      <td>Sirohm_synth_M; Siroheme synthase, central domain</td>\n",
       "    </tr>\n",
       "    <tr>\n",
       "      <th>269</th>\n",
       "      <td>NaN</td>\n",
       "      <td>211</td>\n",
       "      <td>PC260</td>\n",
       "      <td>Ank_5</td>\n",
       "    </tr>\n",
       "    <tr>\n",
       "      <th>270</th>\n",
       "      <td>NaN</td>\n",
       "      <td>211</td>\n",
       "      <td>PC262</td>\n",
       "      <td>Ank_5</td>\n",
       "    </tr>\n",
       "    <tr>\n",
       "      <th>271</th>\n",
       "      <td>NaN</td>\n",
       "      <td>343</td>\n",
       "      <td>PC261</td>\n",
       "      <td>CENP-C_C; Mif2/CENP-C cupin domain</td>\n",
       "    </tr>\n",
       "    <tr>\n",
       "      <th>272</th>\n",
       "      <td>NaN</td>\n",
       "      <td>2107</td>\n",
       "      <td>PC266</td>\n",
       "      <td>RasGAP; Ras GTPase-activating protein</td>\n",
       "    </tr>\n",
       "  </tbody>\n",
       "</table>\n",
       "<p>219 rows × 4 columns</p>\n",
       "</div>"
      ],
      "text/plain": [
       "    pca-component_x  domain-number pca-component_y  \\\n",
       "54              NaN            308             PC0   \n",
       "55              NaN            428             PC1   \n",
       "56              NaN            180             PC2   \n",
       "57              NaN           2113             PC3   \n",
       "58              NaN           2057             PC4   \n",
       "..              ...            ...             ...   \n",
       "268             NaN           2483           PC259   \n",
       "269             NaN            211           PC260   \n",
       "270             NaN            211           PC262   \n",
       "271             NaN            343           PC261   \n",
       "272             NaN           2107           PC266   \n",
       "\n",
       "                                    domain-description  \n",
       "54                            Bul1_N; Bul1, N-terminal  \n",
       "55               CTP_synth_N; CTP synthase, N-terminal  \n",
       "56   Aim21; Altered inheritance of mitochondria pro...  \n",
       "57       Rav1p_C; RAVE complex protein Rav1 C-terminal  \n",
       "58                 RRM_1; RNA recognition motif domain  \n",
       "..                                                 ...  \n",
       "268  Sirohm_synth_M; Siroheme synthase, central domain  \n",
       "269                                              Ank_5  \n",
       "270                                              Ank_5  \n",
       "271                 CENP-C_C; Mif2/CENP-C cupin domain  \n",
       "272              RasGAP; Ras GTPase-activating protein  \n",
       "\n",
       "[219 rows x 4 columns]"
      ]
     },
     "execution_count": 26,
     "metadata": {},
     "output_type": "execute_result"
    }
   ],
   "source": [
    "df_nsl_exclusive=pd.merge(df_sl,df_nsl,how='right',on='domain-number')\n",
    "\n",
    "domains_name=np.unique(data_domains['domain-name'])\n",
    "domains_description=np.unique(data_domains['domain-descrip'])\n",
    "\n",
    "df_nsl_exclusive['domain-description']=domains_description[df_nsl_exclusive['domain-number']]\n",
    "df_nsl_exclusive[pd.isnull(df_nsl_exclusive['pca-component_x'])]"
   ]
  },
  {
   "cell_type": "code",
   "execution_count": 27,
   "metadata": {
    "execution": {
     "iopub.execute_input": "2020-07-22T17:48:38.464878Z",
     "iopub.status.busy": "2020-07-22T17:48:38.464228Z",
     "iopub.status.idle": "2020-07-22T17:48:38.469811Z",
     "shell.execute_reply": "2020-07-22T17:48:38.469133Z"
    }
   },
   "outputs": [
    {
     "name": "stdout",
     "output_type": "stream",
     "text": [
      "The number of exclusive domains from non SL pairs, after PCA, is =  273 out of 536 so the 50.93283582089552 %\n"
     ]
    }
   ],
   "source": [
    "print('The number of exclusive domains from non SL pairs, after PCA, is = ',len(df_nsl_exclusive), 'out of', len(df_sl)+len(df_nsl), 'so the',100*len(df_nsl_exclusive)/(len(df_sl)+len(df_nsl)),'%')"
   ]
  },
  {
   "cell_type": "markdown",
   "metadata": {},
   "source": [
    "## Let see to the domains-number that get repeated after the PCA analysis , and selecting the most explanatory feature by its explained variance."
   ]
  },
  {
   "cell_type": "code",
   "execution_count": 28,
   "metadata": {
    "execution": {
     "iopub.execute_input": "2020-07-22T17:48:38.489978Z",
     "iopub.status.busy": "2020-07-22T17:48:38.477136Z",
     "iopub.status.idle": "2020-07-22T17:48:38.496366Z",
     "shell.execute_reply": "2020-07-22T17:48:38.495787Z"
    }
   },
   "outputs": [],
   "source": [
    "duplicated_features_sl=df_sl[df_sl.iloc[:,1].duplicated()]\n",
    "repeated_features_sl=pd.DataFrame()\n",
    "\n",
    "domains_name=np.unique(data_domains['domain-name'])\n",
    "domains_description=np.unique(data_domains['domain-descrip'])\n",
    "\n",
    "repeated_features_sl['domain-name']=domains_name[duplicated_features_sl.iloc[:,1]] \n",
    "repeated_features_sl['domain-description']=domains_description[duplicated_features_sl.iloc[:,1]]\n",
    "\n",
    "duplicated_features_nsl=df_nsl[df_nsl.iloc[:,1].duplicated()]\n",
    "repeated_features_nsl=pd.DataFrame()\n",
    "\n",
    "repeated_features_nsl['domain-name']=domains_name[duplicated_features_nsl.iloc[:,1]] \n",
    "repeated_features_nsl['domain-description']=domains_description[duplicated_features_nsl.iloc[:,1]]"
   ]
  },
  {
   "cell_type": "code",
   "execution_count": 29,
   "metadata": {
    "execution": {
     "iopub.execute_input": "2020-07-22T17:48:38.507765Z",
     "iopub.status.busy": "2020-07-22T17:48:38.504579Z",
     "iopub.status.idle": "2020-07-22T17:48:38.510892Z",
     "shell.execute_reply": "2020-07-22T17:48:38.511440Z"
    }
   },
   "outputs": [
    {
     "data": {
      "text/plain": [
       "((45, 4), (280, 4))"
      ]
     },
     "execution_count": 29,
     "metadata": {},
     "output_type": "execute_result"
    }
   ],
   "source": [
    "only_sl_pd=pd.merge(repeated_features_sl,repeated_features_nsl,how='left',on=['domain-name'])\n",
    "data_only_sl = only_sl_pd[pd.isnull(only_sl_pd['domain-description_y'])]\n",
    "data_only_sl['domain-description']=data_only_sl['domain-description_x']\n",
    "data_only_sl.shape,df_sl_exclusive.shape"
   ]
  },
  {
   "cell_type": "code",
   "execution_count": 30,
   "metadata": {
    "execution": {
     "iopub.execute_input": "2020-07-22T17:48:38.532110Z",
     "iopub.status.busy": "2020-07-22T17:48:38.531509Z",
     "iopub.status.idle": "2020-07-22T17:48:38.534920Z",
     "shell.execute_reply": "2020-07-22T17:48:38.535421Z"
    }
   },
   "outputs": [
    {
     "data": {
      "text/html": [
       "<div>\n",
       "<style scoped>\n",
       "    .dataframe tbody tr th:only-of-type {\n",
       "        vertical-align: middle;\n",
       "    }\n",
       "\n",
       "    .dataframe tbody tr th {\n",
       "        vertical-align: top;\n",
       "    }\n",
       "\n",
       "    .dataframe thead th {\n",
       "        text-align: right;\n",
       "    }\n",
       "</style>\n",
       "<table border=\"1\" class=\"dataframe\">\n",
       "  <thead>\n",
       "    <tr style=\"text-align: right;\">\n",
       "      <th></th>\n",
       "      <th>domain-name</th>\n",
       "      <th>domain-description_x</th>\n",
       "      <th>domain-description_y</th>\n",
       "    </tr>\n",
       "  </thead>\n",
       "  <tbody>\n",
       "    <tr>\n",
       "      <th>0</th>\n",
       "      <td>PF00136</td>\n",
       "      <td>NaN</td>\n",
       "      <td>AHSA1; Activator of Hsp90 ATPase homologue 1-like</td>\n",
       "    </tr>\n",
       "    <tr>\n",
       "      <th>1</th>\n",
       "      <td>PF09280</td>\n",
       "      <td>NaN</td>\n",
       "      <td>Rad50_zn_hook; RAD50, zinc hook</td>\n",
       "    </tr>\n",
       "    <tr>\n",
       "      <th>2</th>\n",
       "      <td>PF02366</td>\n",
       "      <td>NaN</td>\n",
       "      <td>FF; FF domain</td>\n",
       "    </tr>\n",
       "    <tr>\n",
       "      <th>3</th>\n",
       "      <td>PF01833</td>\n",
       "      <td>NaN</td>\n",
       "      <td>Diphthamide_syn; Diphthamide synthesis DPH1/DPH2</td>\n",
       "    </tr>\n",
       "    <tr>\n",
       "      <th>4</th>\n",
       "      <td>PF06733</td>\n",
       "      <td>NaN</td>\n",
       "      <td>Ost5; Oligosaccharyltransferase complex subunit</td>\n",
       "    </tr>\n",
       "    <tr>\n",
       "      <th>5</th>\n",
       "      <td>PF00850</td>\n",
       "      <td>NaN</td>\n",
       "      <td>CPSase_L_D2; Carbamoyl-phosphate synthetase la...</td>\n",
       "    </tr>\n",
       "    <tr>\n",
       "      <th>6</th>\n",
       "      <td>PF08662</td>\n",
       "      <td>NaN</td>\n",
       "      <td>RNA_pol_Rpb2_2; RNA polymerase Rpb2, domain 2</td>\n",
       "    </tr>\n",
       "    <tr>\n",
       "      <th>7</th>\n",
       "      <td>PF04869</td>\n",
       "      <td>NaN</td>\n",
       "      <td>Med17; Mediator complex, subunit Med17</td>\n",
       "    </tr>\n",
       "    <tr>\n",
       "      <th>8</th>\n",
       "      <td>PF04869</td>\n",
       "      <td>NaN</td>\n",
       "      <td>Med17; Mediator complex, subunit Med17</td>\n",
       "    </tr>\n",
       "    <tr>\n",
       "      <th>9</th>\n",
       "      <td>PF00324</td>\n",
       "      <td>NaN</td>\n",
       "      <td>Acyl-CoA_ox_N; Acyl-coenzyme A oxidase, N-term...</td>\n",
       "    </tr>\n",
       "    <tr>\n",
       "      <th>10</th>\n",
       "      <td>PF03876</td>\n",
       "      <td>NaN</td>\n",
       "      <td>Hydantoinase_B; Hydantoinase B/oxoprolinase</td>\n",
       "    </tr>\n",
       "    <tr>\n",
       "      <th>11</th>\n",
       "      <td>PF06645</td>\n",
       "      <td>NaN</td>\n",
       "      <td>OTU; OTU domain</td>\n",
       "    </tr>\n",
       "    <tr>\n",
       "      <th>12</th>\n",
       "      <td>PF03198</td>\n",
       "      <td>NaN</td>\n",
       "      <td>Glycos_transf_1; Glycosyl transferase, family 1</td>\n",
       "    </tr>\n",
       "    <tr>\n",
       "      <th>13</th>\n",
       "      <td>PF09337</td>\n",
       "      <td>NaN</td>\n",
       "      <td>Rap1_C; TRF2-interacting telomeric protein/Rap...</td>\n",
       "    </tr>\n",
       "    <tr>\n",
       "      <th>14</th>\n",
       "      <td>PF03177</td>\n",
       "      <td>NaN</td>\n",
       "      <td>Glyco_transf_4; Glycosyltransferase subfamily ...</td>\n",
       "    </tr>\n",
       "    <tr>\n",
       "      <th>15</th>\n",
       "      <td>PF01213</td>\n",
       "      <td>NaN</td>\n",
       "      <td>DALR_1; DALR anticodon binding</td>\n",
       "    </tr>\n",
       "    <tr>\n",
       "      <th>16</th>\n",
       "      <td>PF03126</td>\n",
       "      <td>NaN</td>\n",
       "      <td>Glyco_hydro_31; Glycoside hydrolase family 31</td>\n",
       "    </tr>\n",
       "    <tr>\n",
       "      <th>17</th>\n",
       "      <td>PF10429</td>\n",
       "      <td>NaN</td>\n",
       "      <td>SAPS; SIT4 phosphatase-associated protein family</td>\n",
       "    </tr>\n",
       "    <tr>\n",
       "      <th>18</th>\n",
       "      <td>PF12718</td>\n",
       "      <td>NaN</td>\n",
       "      <td>Ste50p-SAM; Ste50, sterile alpha motif</td>\n",
       "    </tr>\n",
       "    <tr>\n",
       "      <th>19</th>\n",
       "      <td>PF10407</td>\n",
       "      <td>NaN</td>\n",
       "      <td>SAICAR_synt; SAICAR synthetase/ADE2, N-terminal</td>\n",
       "    </tr>\n",
       "    <tr>\n",
       "      <th>20</th>\n",
       "      <td>PF05557</td>\n",
       "      <td>NaN</td>\n",
       "      <td>NIF; FCP1 homology domain</td>\n",
       "    </tr>\n",
       "    <tr>\n",
       "      <th>21</th>\n",
       "      <td>PF11719</td>\n",
       "      <td>NaN</td>\n",
       "      <td>SUA5; Putative GTP-binding controlling metal-b...</td>\n",
       "    </tr>\n",
       "    <tr>\n",
       "      <th>22</th>\n",
       "      <td>PF02223</td>\n",
       "      <td>NaN</td>\n",
       "      <td>Exo70; Exocyst complex component Exo70</td>\n",
       "    </tr>\n",
       "    <tr>\n",
       "      <th>23</th>\n",
       "      <td>PF02223</td>\n",
       "      <td>NaN</td>\n",
       "      <td>Exo70; Exocyst complex component Exo70</td>\n",
       "    </tr>\n",
       "    <tr>\n",
       "      <th>24</th>\n",
       "      <td>PF00067</td>\n",
       "      <td>NaN</td>\n",
       "      <td>AAA_6</td>\n",
       "    </tr>\n",
       "    <tr>\n",
       "      <th>25</th>\n",
       "      <td>PF00282</td>\n",
       "      <td>NaN</td>\n",
       "      <td>ATP_bind_1; GPN-loop GTPase</td>\n",
       "    </tr>\n",
       "    <tr>\n",
       "      <th>26</th>\n",
       "      <td>PF00282</td>\n",
       "      <td>NaN</td>\n",
       "      <td>ATP_bind_1; GPN-loop GTPase</td>\n",
       "    </tr>\n",
       "    <tr>\n",
       "      <th>27</th>\n",
       "      <td>PF00282</td>\n",
       "      <td>NaN</td>\n",
       "      <td>ATP_bind_1; GPN-loop GTPase</td>\n",
       "    </tr>\n",
       "    <tr>\n",
       "      <th>28</th>\n",
       "      <td>PF12709</td>\n",
       "      <td>NaN</td>\n",
       "      <td>Spt5_N; Spt5 transcription elongation factor, ...</td>\n",
       "    </tr>\n",
       "    <tr>\n",
       "      <th>29</th>\n",
       "      <td>PF09770</td>\n",
       "      <td>NaN</td>\n",
       "      <td>Ribosomal_L18A; Ribosomal protein 50S-L18Ae/60...</td>\n",
       "    </tr>\n",
       "    <tr>\n",
       "      <th>30</th>\n",
       "      <td>PF12814</td>\n",
       "      <td>NaN</td>\n",
       "      <td>TAF4; Transcription initiation factor TFIID co...</td>\n",
       "    </tr>\n",
       "    <tr>\n",
       "      <th>31</th>\n",
       "      <td>PF12814</td>\n",
       "      <td>NaN</td>\n",
       "      <td>TAF4; Transcription initiation factor TFIID co...</td>\n",
       "    </tr>\n",
       "    <tr>\n",
       "      <th>32</th>\n",
       "      <td>PF09295</td>\n",
       "      <td>NaN</td>\n",
       "      <td>Rad52_Rad22; DNA repair protein Rad52/59/22</td>\n",
       "    </tr>\n",
       "    <tr>\n",
       "      <th>33</th>\n",
       "      <td>PF00581</td>\n",
       "      <td>NaN</td>\n",
       "      <td>BRE1; E3 ubiquitin ligase, BRE1</td>\n",
       "    </tr>\n",
       "    <tr>\n",
       "      <th>34</th>\n",
       "      <td>PF00581</td>\n",
       "      <td>NaN</td>\n",
       "      <td>BRE1; E3 ubiquitin ligase, BRE1</td>\n",
       "    </tr>\n",
       "    <tr>\n",
       "      <th>35</th>\n",
       "      <td>PF16796</td>\n",
       "      <td>NaN</td>\n",
       "      <td>fn3_2; Fibronectin type III domain, fungi</td>\n",
       "    </tr>\n",
       "    <tr>\n",
       "      <th>36</th>\n",
       "      <td>PF07393</td>\n",
       "      <td>NaN</td>\n",
       "      <td>PCRF; Peptide chain release factor</td>\n",
       "    </tr>\n",
       "    <tr>\n",
       "      <th>37</th>\n",
       "      <td>PF08550</td>\n",
       "      <td>NaN</td>\n",
       "      <td>Pribosyltran_N; Ribose-phosphate pyrophosphoki...</td>\n",
       "    </tr>\n",
       "    <tr>\n",
       "      <th>38</th>\n",
       "      <td>PF01992</td>\n",
       "      <td>NaN</td>\n",
       "      <td>EF_assoc_1; EF hand associated, type-1</td>\n",
       "    </tr>\n",
       "    <tr>\n",
       "      <th>39</th>\n",
       "      <td>PF03162</td>\n",
       "      <td>NaN</td>\n",
       "      <td>Glyco_transf_20; Glycosyl transferase, family 20</td>\n",
       "    </tr>\n",
       "    <tr>\n",
       "      <th>40</th>\n",
       "      <td>PF05047</td>\n",
       "      <td>NaN</td>\n",
       "      <td>Microtub_bd; Spindle pole body-associated prot...</td>\n",
       "    </tr>\n",
       "    <tr>\n",
       "      <th>41</th>\n",
       "      <td>PF05047</td>\n",
       "      <td>NaN</td>\n",
       "      <td>Microtub_bd; Spindle pole body-associated prot...</td>\n",
       "    </tr>\n",
       "    <tr>\n",
       "      <th>42</th>\n",
       "      <td>PF00300</td>\n",
       "      <td>NaN</td>\n",
       "      <td>Abhydrolase_3; Alpha/beta hydrolase fold-3</td>\n",
       "    </tr>\n",
       "    <tr>\n",
       "      <th>43</th>\n",
       "      <td>PF08690</td>\n",
       "      <td>NaN</td>\n",
       "      <td>RNA_pol_Rpb2_7; RNA polymerase Rpb2, domain 7</td>\n",
       "    </tr>\n",
       "    <tr>\n",
       "      <th>44</th>\n",
       "      <td>PF08690</td>\n",
       "      <td>NaN</td>\n",
       "      <td>RNA_pol_Rpb2_7; RNA polymerase Rpb2, domain 7</td>\n",
       "    </tr>\n",
       "    <tr>\n",
       "      <th>45</th>\n",
       "      <td>PF08690</td>\n",
       "      <td>NaN</td>\n",
       "      <td>RNA_pol_Rpb2_7; RNA polymerase Rpb2, domain 7</td>\n",
       "    </tr>\n",
       "    <tr>\n",
       "      <th>46</th>\n",
       "      <td>PF02077</td>\n",
       "      <td>NaN</td>\n",
       "      <td>EMP70; Nonaspanin (TM9SF)</td>\n",
       "    </tr>\n",
       "    <tr>\n",
       "      <th>47</th>\n",
       "      <td>PF12451</td>\n",
       "      <td>NaN</td>\n",
       "      <td>SnAC; Snf2, ATP coupling domain</td>\n",
       "    </tr>\n",
       "    <tr>\n",
       "      <th>48</th>\n",
       "      <td>PF00005</td>\n",
       "      <td>NaN</td>\n",
       "      <td>14-3-3; 14-3-3 domain</td>\n",
       "    </tr>\n",
       "    <tr>\n",
       "      <th>49</th>\n",
       "      <td>PF00433</td>\n",
       "      <td>NaN</td>\n",
       "      <td>Ank_5</td>\n",
       "    </tr>\n",
       "    <tr>\n",
       "      <th>50</th>\n",
       "      <td>PF08660</td>\n",
       "      <td>NaN</td>\n",
       "      <td>RNA_pol_Rpb1_R; RNA polymerase II, heptapeptid...</td>\n",
       "    </tr>\n",
       "  </tbody>\n",
       "</table>\n",
       "</div>"
      ],
      "text/plain": [
       "   domain-name domain-description_x  \\\n",
       "0      PF00136                  NaN   \n",
       "1      PF09280                  NaN   \n",
       "2      PF02366                  NaN   \n",
       "3      PF01833                  NaN   \n",
       "4      PF06733                  NaN   \n",
       "5      PF00850                  NaN   \n",
       "6      PF08662                  NaN   \n",
       "7      PF04869                  NaN   \n",
       "8      PF04869                  NaN   \n",
       "9      PF00324                  NaN   \n",
       "10     PF03876                  NaN   \n",
       "11     PF06645                  NaN   \n",
       "12     PF03198                  NaN   \n",
       "13     PF09337                  NaN   \n",
       "14     PF03177                  NaN   \n",
       "15     PF01213                  NaN   \n",
       "16     PF03126                  NaN   \n",
       "17     PF10429                  NaN   \n",
       "18     PF12718                  NaN   \n",
       "19     PF10407                  NaN   \n",
       "20     PF05557                  NaN   \n",
       "21     PF11719                  NaN   \n",
       "22     PF02223                  NaN   \n",
       "23     PF02223                  NaN   \n",
       "24     PF00067                  NaN   \n",
       "25     PF00282                  NaN   \n",
       "26     PF00282                  NaN   \n",
       "27     PF00282                  NaN   \n",
       "28     PF12709                  NaN   \n",
       "29     PF09770                  NaN   \n",
       "30     PF12814                  NaN   \n",
       "31     PF12814                  NaN   \n",
       "32     PF09295                  NaN   \n",
       "33     PF00581                  NaN   \n",
       "34     PF00581                  NaN   \n",
       "35     PF16796                  NaN   \n",
       "36     PF07393                  NaN   \n",
       "37     PF08550                  NaN   \n",
       "38     PF01992                  NaN   \n",
       "39     PF03162                  NaN   \n",
       "40     PF05047                  NaN   \n",
       "41     PF05047                  NaN   \n",
       "42     PF00300                  NaN   \n",
       "43     PF08690                  NaN   \n",
       "44     PF08690                  NaN   \n",
       "45     PF08690                  NaN   \n",
       "46     PF02077                  NaN   \n",
       "47     PF12451                  NaN   \n",
       "48     PF00005                  NaN   \n",
       "49     PF00433                  NaN   \n",
       "50     PF08660                  NaN   \n",
       "\n",
       "                                 domain-description_y  \n",
       "0   AHSA1; Activator of Hsp90 ATPase homologue 1-like  \n",
       "1                     Rad50_zn_hook; RAD50, zinc hook  \n",
       "2                                       FF; FF domain  \n",
       "3    Diphthamide_syn; Diphthamide synthesis DPH1/DPH2  \n",
       "4     Ost5; Oligosaccharyltransferase complex subunit  \n",
       "5   CPSase_L_D2; Carbamoyl-phosphate synthetase la...  \n",
       "6       RNA_pol_Rpb2_2; RNA polymerase Rpb2, domain 2  \n",
       "7              Med17; Mediator complex, subunit Med17  \n",
       "8              Med17; Mediator complex, subunit Med17  \n",
       "9   Acyl-CoA_ox_N; Acyl-coenzyme A oxidase, N-term...  \n",
       "10        Hydantoinase_B; Hydantoinase B/oxoprolinase  \n",
       "11                                    OTU; OTU domain  \n",
       "12    Glycos_transf_1; Glycosyl transferase, family 1  \n",
       "13  Rap1_C; TRF2-interacting telomeric protein/Rap...  \n",
       "14  Glyco_transf_4; Glycosyltransferase subfamily ...  \n",
       "15                     DALR_1; DALR anticodon binding  \n",
       "16      Glyco_hydro_31; Glycoside hydrolase family 31  \n",
       "17   SAPS; SIT4 phosphatase-associated protein family  \n",
       "18             Ste50p-SAM; Ste50, sterile alpha motif  \n",
       "19    SAICAR_synt; SAICAR synthetase/ADE2, N-terminal  \n",
       "20                          NIF; FCP1 homology domain  \n",
       "21  SUA5; Putative GTP-binding controlling metal-b...  \n",
       "22             Exo70; Exocyst complex component Exo70  \n",
       "23             Exo70; Exocyst complex component Exo70  \n",
       "24                                              AAA_6  \n",
       "25                        ATP_bind_1; GPN-loop GTPase  \n",
       "26                        ATP_bind_1; GPN-loop GTPase  \n",
       "27                        ATP_bind_1; GPN-loop GTPase  \n",
       "28  Spt5_N; Spt5 transcription elongation factor, ...  \n",
       "29  Ribosomal_L18A; Ribosomal protein 50S-L18Ae/60...  \n",
       "30  TAF4; Transcription initiation factor TFIID co...  \n",
       "31  TAF4; Transcription initiation factor TFIID co...  \n",
       "32        Rad52_Rad22; DNA repair protein Rad52/59/22  \n",
       "33                    BRE1; E3 ubiquitin ligase, BRE1  \n",
       "34                    BRE1; E3 ubiquitin ligase, BRE1  \n",
       "35          fn3_2; Fibronectin type III domain, fungi  \n",
       "36                 PCRF; Peptide chain release factor  \n",
       "37  Pribosyltran_N; Ribose-phosphate pyrophosphoki...  \n",
       "38             EF_assoc_1; EF hand associated, type-1  \n",
       "39   Glyco_transf_20; Glycosyl transferase, family 20  \n",
       "40  Microtub_bd; Spindle pole body-associated prot...  \n",
       "41  Microtub_bd; Spindle pole body-associated prot...  \n",
       "42         Abhydrolase_3; Alpha/beta hydrolase fold-3  \n",
       "43      RNA_pol_Rpb2_7; RNA polymerase Rpb2, domain 7  \n",
       "44      RNA_pol_Rpb2_7; RNA polymerase Rpb2, domain 7  \n",
       "45      RNA_pol_Rpb2_7; RNA polymerase Rpb2, domain 7  \n",
       "46                          EMP70; Nonaspanin (TM9SF)  \n",
       "47                    SnAC; Snf2, ATP coupling domain  \n",
       "48                              14-3-3; 14-3-3 domain  \n",
       "49                                              Ank_5  \n",
       "50  RNA_pol_Rpb1_R; RNA polymerase II, heptapeptid...  "
      ]
     },
     "execution_count": 30,
     "metadata": {},
     "output_type": "execute_result"
    }
   ],
   "source": [
    "only_nsl_pd=pd.merge(repeated_features_sl,repeated_features_nsl,how='right',on=['domain-name'])\n",
    "data_only_nsl = only_nsl_pd[pd.isnull(only_nsl_pd['domain-description_x'])]\n",
    "data_only_nsl"
   ]
  },
  {
   "cell_type": "code",
   "execution_count": 31,
   "metadata": {
    "execution": {
     "iopub.execute_input": "2020-07-22T17:48:38.545818Z",
     "iopub.status.busy": "2020-07-22T17:48:38.545257Z",
     "iopub.status.idle": "2020-07-22T17:48:38.550081Z",
     "shell.execute_reply": "2020-07-22T17:48:38.549538Z"
    }
   },
   "outputs": [
    {
     "data": {
      "text/html": [
       "<div>\n",
       "<style scoped>\n",
       "    .dataframe tbody tr th:only-of-type {\n",
       "        vertical-align: middle;\n",
       "    }\n",
       "\n",
       "    .dataframe tbody tr th {\n",
       "        vertical-align: top;\n",
       "    }\n",
       "\n",
       "    .dataframe thead th {\n",
       "        text-align: right;\n",
       "    }\n",
       "</style>\n",
       "<table border=\"1\" class=\"dataframe\">\n",
       "  <thead>\n",
       "    <tr style=\"text-align: right;\">\n",
       "      <th></th>\n",
       "      <th>domain-name</th>\n",
       "      <th>domain-description_x</th>\n",
       "      <th>domain-description_y</th>\n",
       "    </tr>\n",
       "  </thead>\n",
       "  <tbody>\n",
       "  </tbody>\n",
       "</table>\n",
       "</div>"
      ],
      "text/plain": [
       "Empty DataFrame\n",
       "Columns: [domain-name, domain-description_x, domain-description_y]\n",
       "Index: []"
      ]
     },
     "execution_count": 31,
     "metadata": {},
     "output_type": "execute_result"
    }
   ],
   "source": [
    "shared_domains_pd=pd.merge(repeated_features_sl,repeated_features_nsl,how='inner',on=['domain-name'])\n",
    "shared_domains_pd\n"
   ]
  },
  {
   "cell_type": "code",
   "execution_count": 32,
   "metadata": {
    "execution": {
     "iopub.execute_input": "2020-07-22T17:48:38.572962Z",
     "iopub.status.busy": "2020-07-22T17:48:38.572299Z",
     "iopub.status.idle": "2020-07-22T17:48:40.297649Z",
     "shell.execute_reply": "2020-07-22T17:48:40.298173Z"
    }
   },
   "outputs": [
    {
     "data": {
      "text/plain": [
       "(0.0, 0.2)"
      ]
     },
     "execution_count": 32,
     "metadata": {},
     "output_type": "execute_result"
    },
    {
     "data": {
      "image/png": "[encoded data removed]",
      "text/plain": [
       "<Figure size 432x288 with 1 Axes>"
      ]
     },
     "metadata": {
      "filenames": {
       "image/png": "/home/runner/work/jupyter-book/jupyter-book/mini_book/docs/_build/jupyter_execute/prot_domains2lethality-FEATURES-POSTPROCESSING_47_1.png"
      },
      "needs_background": "light"
     },
     "output_type": "display_data"
    }
   ],
   "source": [
    "a_sl=x_sl.iloc[:,np.sort(df_sl.iloc[:,1])]\n",
    "a_sl.describe().loc['mean'].hist(bins=8),\n",
    "a_sl.describe().loc['std'].hist(bins=8,alpha=0.4)\n",
    "plt.xlim([0,0.2])"
   ]
  },
  {
   "cell_type": "code",
   "execution_count": 33,
   "metadata": {
    "execution": {
     "iopub.execute_input": "2020-07-22T17:48:40.308909Z",
     "iopub.status.busy": "2020-07-22T17:48:40.308310Z",
     "iopub.status.idle": "2020-07-22T17:48:42.015992Z",
     "shell.execute_reply": "2020-07-22T17:48:42.016476Z"
    }
   },
   "outputs": [
    {
     "data": {
      "text/plain": [
       "(0.0, 0.2)"
      ]
     },
     "execution_count": 33,
     "metadata": {},
     "output_type": "execute_result"
    },
    {
     "data": {
      "image/png": "[encoded data removed]",
      "text/plain": [
       "<Figure size 432x288 with 1 Axes>"
      ]
     },
     "metadata": {
      "filenames": {
       "image/png": "/home/runner/work/jupyter-book/jupyter-book/mini_book/docs/_build/jupyter_execute/prot_domains2lethality-FEATURES-POSTPROCESSING_48_1.png"
      },
      "needs_background": "light"
     },
     "output_type": "display_data"
    }
   ],
   "source": [
    "a_nsl=x_nsl.iloc[:,np.sort(df_nsl.iloc[:,1])]\n",
    "a_nsl.describe().loc['mean'].hist(bins=8),\n",
    "a_nsl.describe().loc['std'].hist(bins=8,alpha=0.4)\n",
    "plt.xlim([0,0.2])"
   ]
  },
  {
   "cell_type": "markdown",
   "metadata": {},
   "source": [
    "### Proof of concept with *BEM1*\n",
    "\n",
    "- Gather the domains of SL and nSL pairs from BEM1\n",
    "- Check if the domains for the SL and nSL pairs are inside the most important domains after PCA."
   ]
  },
  {
   "cell_type": "code",
   "execution_count": 34,
   "metadata": {
    "execution": {
     "iopub.execute_input": "2020-07-22T17:48:42.024292Z",
     "iopub.status.busy": "2020-07-22T17:48:42.023681Z",
     "iopub.status.idle": "2020-07-22T17:48:42.027926Z",
     "shell.execute_reply": "2020-07-22T17:48:42.027306Z"
    }
   },
   "outputs": [],
   "source": [
    "domains_bem1=data_domains[data_domains['name']=='BEM1']['domain-descrip']\n",
    "sl_bem1=data_sl[data_sl['gene-query-name']=='BEM1']['gene-target-name']"
   ]
  },
  {
   "cell_type": "code",
   "execution_count": 35,
   "metadata": {
    "execution": {
     "iopub.execute_input": "2020-07-22T17:48:42.033357Z",
     "iopub.status.busy": "2020-07-22T17:48:42.032363Z",
     "iopub.status.idle": "2020-07-22T17:48:42.038259Z",
     "shell.execute_reply": "2020-07-22T17:48:42.037724Z"
    }
   },
   "outputs": [
    {
     "data": {
      "text/plain": [
       "2846      BEM2\n",
       "2847     CDC24\n",
       "5004      MSB1\n",
       "13777     SMI1\n",
       "13778     BNI1\n",
       "13779     BEM2\n",
       "14385     SKN7\n",
       "Name: gene-target-name, dtype: object"
      ]
     },
     "execution_count": 35,
     "metadata": {},
     "output_type": "execute_result"
    }
   ],
   "source": [
    "sl_bem1"
   ]
  },
  {
   "cell_type": "code",
   "execution_count": 36,
   "metadata": {
    "execution": {
     "iopub.execute_input": "2020-07-22T17:48:42.053581Z",
     "iopub.status.busy": "2020-07-22T17:48:42.047823Z",
     "iopub.status.idle": "2020-07-22T17:48:42.057606Z",
     "shell.execute_reply": "2020-07-22T17:48:42.056695Z"
    }
   },
   "outputs": [
    {
     "data": {
      "text/html": [
       "<div>\n",
       "<style scoped>\n",
       "    .dataframe tbody tr th:only-of-type {\n",
       "        vertical-align: middle;\n",
       "    }\n",
       "\n",
       "    .dataframe tbody tr th {\n",
       "        vertical-align: top;\n",
       "    }\n",
       "\n",
       "    .dataframe thead th {\n",
       "        text-align: right;\n",
       "    }\n",
       "</style>\n",
       "<table border=\"1\" class=\"dataframe\">\n",
       "  <thead>\n",
       "    <tr style=\"text-align: right;\">\n",
       "      <th></th>\n",
       "      <th>gene-query</th>\n",
       "      <th>gene-target</th>\n",
       "      <th>gene-query-name</th>\n",
       "      <th>gene-target-name</th>\n",
       "      <th>gene-query-description</th>\n",
       "      <th>gene-target-description</th>\n",
       "      <th>interaction-type</th>\n",
       "      <th>paper-source</th>\n",
       "    </tr>\n",
       "  </thead>\n",
       "  <tbody>\n",
       "    <tr>\n",
       "      <th>2846</th>\n",
       "      <td>YBR200W</td>\n",
       "      <td>YER155C</td>\n",
       "      <td>BEM1</td>\n",
       "      <td>BEM2</td>\n",
       "      <td>SRO1|phosphatidylinositol-3-phosphate-binding ...</td>\n",
       "      <td>IPL2|SUP9|TSL1|L000000168</td>\n",
       "      <td>Synthetic Lethality</td>\n",
       "      <td>Peterson J (1994)</td>\n",
       "    </tr>\n",
       "    <tr>\n",
       "      <th>2847</th>\n",
       "      <td>YBR200W</td>\n",
       "      <td>YAL041W</td>\n",
       "      <td>BEM1</td>\n",
       "      <td>CDC24</td>\n",
       "      <td>SRO1|phosphatidylinositol-3-phosphate-binding ...</td>\n",
       "      <td>CLS4|Rho family guanine nucleotide exchange fa...</td>\n",
       "      <td>Synthetic Lethality</td>\n",
       "      <td>Peterson J (1994)</td>\n",
       "    </tr>\n",
       "    <tr>\n",
       "      <th>5004</th>\n",
       "      <td>YBR200W</td>\n",
       "      <td>YOR188W</td>\n",
       "      <td>BEM1</td>\n",
       "      <td>MSB1</td>\n",
       "      <td>SRO1|phosphatidylinositol-3-phosphate-binding ...</td>\n",
       "      <td>L000001184</td>\n",
       "      <td>Synthetic Lethality</td>\n",
       "      <td>Bender A (1991)</td>\n",
       "    </tr>\n",
       "    <tr>\n",
       "      <th>13777</th>\n",
       "      <td>YBR200W</td>\n",
       "      <td>YGR229C</td>\n",
       "      <td>BEM1</td>\n",
       "      <td>SMI1</td>\n",
       "      <td>SRO1|phosphatidylinositol-3-phosphate-binding ...</td>\n",
       "      <td>KNR4|L000000909</td>\n",
       "      <td>Synthetic Lethality</td>\n",
       "      <td>Gorelik M (2011)</td>\n",
       "    </tr>\n",
       "    <tr>\n",
       "      <th>13778</th>\n",
       "      <td>YBR200W</td>\n",
       "      <td>YNL271C</td>\n",
       "      <td>BEM1</td>\n",
       "      <td>BNI1</td>\n",
       "      <td>SRO1|phosphatidylinositol-3-phosphate-binding ...</td>\n",
       "      <td>PPF3|SHE5|formin BNI1|L000000190</td>\n",
       "      <td>Synthetic Lethality</td>\n",
       "      <td>Gorelik M (2011)</td>\n",
       "    </tr>\n",
       "    <tr>\n",
       "      <th>13779</th>\n",
       "      <td>YBR200W</td>\n",
       "      <td>YER155C</td>\n",
       "      <td>BEM1</td>\n",
       "      <td>BEM2</td>\n",
       "      <td>SRO1|phosphatidylinositol-3-phosphate-binding ...</td>\n",
       "      <td>IPL2|SUP9|TSL1|L000000168</td>\n",
       "      <td>Synthetic Lethality</td>\n",
       "      <td>Gorelik M (2011)</td>\n",
       "    </tr>\n",
       "    <tr>\n",
       "      <th>14385</th>\n",
       "      <td>YBR200W</td>\n",
       "      <td>YHR206W</td>\n",
       "      <td>BEM1</td>\n",
       "      <td>SKN7</td>\n",
       "      <td>SRO1|phosphatidylinositol-3-phosphate-binding ...</td>\n",
       "      <td>BRY1|POS9|kinase-regulated stress-responsive t...</td>\n",
       "      <td>Dosage Lethality</td>\n",
       "      <td>Bouquin N (1999)</td>\n",
       "    </tr>\n",
       "  </tbody>\n",
       "</table>\n",
       "</div>"
      ],
      "text/plain": [
       "      gene-query gene-target gene-query-name gene-target-name  \\\n",
       "2846     YBR200W     YER155C            BEM1             BEM2   \n",
       "2847     YBR200W     YAL041W            BEM1            CDC24   \n",
       "5004     YBR200W     YOR188W            BEM1             MSB1   \n",
       "13777    YBR200W     YGR229C            BEM1             SMI1   \n",
       "13778    YBR200W     YNL271C            BEM1             BNI1   \n",
       "13779    YBR200W     YER155C            BEM1             BEM2   \n",
       "14385    YBR200W     YHR206W            BEM1             SKN7   \n",
       "\n",
       "                                  gene-query-description  \\\n",
       "2846   SRO1|phosphatidylinositol-3-phosphate-binding ...   \n",
       "2847   SRO1|phosphatidylinositol-3-phosphate-binding ...   \n",
       "5004   SRO1|phosphatidylinositol-3-phosphate-binding ...   \n",
       "13777  SRO1|phosphatidylinositol-3-phosphate-binding ...   \n",
       "13778  SRO1|phosphatidylinositol-3-phosphate-binding ...   \n",
       "13779  SRO1|phosphatidylinositol-3-phosphate-binding ...   \n",
       "14385  SRO1|phosphatidylinositol-3-phosphate-binding ...   \n",
       "\n",
       "                                 gene-target-description     interaction-type  \\\n",
       "2846                           IPL2|SUP9|TSL1|L000000168  Synthetic Lethality   \n",
       "2847   CLS4|Rho family guanine nucleotide exchange fa...  Synthetic Lethality   \n",
       "5004                                          L000001184  Synthetic Lethality   \n",
       "13777                                    KNR4|L000000909  Synthetic Lethality   \n",
       "13778                   PPF3|SHE5|formin BNI1|L000000190  Synthetic Lethality   \n",
       "13779                          IPL2|SUP9|TSL1|L000000168  Synthetic Lethality   \n",
       "14385  BRY1|POS9|kinase-regulated stress-responsive t...     Dosage Lethality   \n",
       "\n",
       "            paper-source  \n",
       "2846   Peterson J (1994)  \n",
       "2847   Peterson J (1994)  \n",
       "5004     Bender A (1991)  \n",
       "13777   Gorelik M (2011)  \n",
       "13778   Gorelik M (2011)  \n",
       "13779   Gorelik M (2011)  \n",
       "14385   Bouquin N (1999)  "
      ]
     },
     "execution_count": 36,
     "metadata": {},
     "output_type": "execute_result"
    }
   ],
   "source": [
    "data_sl[data_sl['gene-query-name']=='BEM1']"
   ]
  },
  {
   "cell_type": "code",
   "execution_count": null,
   "metadata": {},
   "outputs": [],
   "source": []
  }
 ],
 "metadata": {
  "jupytext": {
   "text_representation": {
    "extension": ".md",
    "format_name": "myst"
   }
  },
  "kernelspec": {
   "display_name": "Python 3",
   "language": "python",
   "name": "python3"
  },
  "language_info": {
   "codemirror_mode": {
    "name": "ipython",
    "version": 3
   },
   "file_extension": ".py",
   "mimetype": "text/x-python",
   "name": "python",
   "nbconvert_exporter": "python",
   "pygments_lexer": "ipython3",
   "version": "3.7.6"
  },
  "source_map": [
   10,
   18,
   29,
   36,
   57,
   66,
   98,
   101,
   105,
   128,
   131,
   135,
   139,
   145,
   178,
   184,
   188,
   206,
   210,
   218,
   222,
   225,
   229,
   234,
   238,
   244,
   248,
   253,
   257,
   267,
   269,
   273,
   306,
   311,
   313,
   317,
   328,
   330,
   334,
   344,
   348,
   358,
   360,
   364,
   381,
   388,
   394,
   400,
   407,
   412,
   419,
   424,
   428,
   432
  ]
 },
 "nbformat": 4,
 "nbformat_minor": 4
}