{
 "cells": [
  {
   "cell_type": "markdown",
   "metadata": {},
   "source": [
    "# Feature postprocessing from paper.\n",
    "- Title:  \"Predicting yeast synthetic lethal genetic interactions using protein domains\"\n",
    "- Authors: Bo Li, Feng Luo,School of Computing,Clemson University,Clemson, SC, USA\n",
    "- e-mail: bol, luofeng@clemson.edu\n",
    "- year:2009"
   ]
  },
  {
   "cell_type": "code",
   "execution_count": 1,
   "metadata": {
    "execution": {
     "iopub.execute_input": "2020-07-22T14:38:48.581335Z",
     "iopub.status.busy": "2020-07-22T14:38:48.580725Z",
     "iopub.status.idle": "2020-07-22T14:38:49.391702Z",
     "shell.execute_reply": "2020-07-22T14:38:49.391175Z"
    }
   },
   "outputs": [],
   "source": [
    "import pandas as pd\n",
    "import numpy as np\n",
    "import matplotlib.pyplot as plt\n",
    "from collections import defaultdict \n",
    "import seaborn as sns\n",
    "import matplotlib.cm as cm\n",
    "import scipy as scipy\n",
    "import random"
   ]
  },
  {
   "cell_type": "markdown",
   "metadata": {
    "jupyter": {
     "source_hidden": true
    }
   },
   "source": [
    "### Importing datasets \n",
    "\n",
    "#### Link to the github repo where the datasets to be downloaded:\n",
    "[DOWNLOAD THE DATASETS HERE](https://github.com/leilaicruz/machine-learning-for-yeast/tree/dev_Leila/datasets-for-learning)"
   ]
  },
  {
   "cell_type": "code",
   "execution_count": 2,
   "metadata": {
    "execution": {
     "iopub.execute_input": "2020-07-22T14:38:49.399716Z",
     "iopub.status.busy": "2020-07-22T14:38:49.398465Z",
     "iopub.status.idle": "2020-07-22T14:38:57.395418Z",
     "shell.execute_reply": "2020-07-22T14:38:57.394349Z"
    }
   },
   "outputs": [],
   "source": [
    "import os\n",
    "script_dir = os.path.dirname('__file__') #<-- absolute dir the script is in\n",
    "rel_path_SL = \"datasets/data-synthetic-lethals.xlsx\"\n",
    "rel_path_nSL=\"datasets/data-positive-genetic.xlsx\"\n",
    "rel_path_domains=\"datasets/proteins-domains-from-Pfam.xlsx\"\n",
    "\n",
    "abs_file_path_SL = os.path.join(script_dir, rel_path_SL)\n",
    "abs_file_path_nSL = os.path.join(script_dir, rel_path_nSL)\n",
    "abs_file_path_domains = os.path.join(script_dir, rel_path_domains)\n",
    "\n",
    "# os.chdir('mini_book/docs/') #<-- for binder os.chdir('../')\n",
    "# os.chdir('../')\n",
    "my_path_sl= abs_file_path_SL\n",
    "my_path_non_sl=abs_file_path_nSL\n",
    "my_path_domains=abs_file_path_domains\n",
    "\n",
    "data_sl=pd.read_excel(my_path_sl,header=0)\n",
    "data_domains=pd.read_excel(my_path_domains,header=0,index_col='Unnamed: 0')\n",
    "data_domains=data_domains.dropna()\n",
    "data_nonsl=pd.read_excel(my_path_non_sl,header=0)"
   ]
  },
  {
   "cell_type": "markdown",
   "metadata": {},
   "source": [
    "## Building the feature matrix\n",
    "One matrix for true SL where each row is one pair of SL. Every raw will be a vector of 0,1 or 2 depending on the comparison with the domain list. For row i the jth element = 0 if the jth element of the domain list is not in neither protein A and B, 1, if it is in one of them and 2 if it is in both of them .\n",
    "\n",
    "### Building the list of proteins domains id per protein pair separately :\n",
    "- List of protein A: Search for the Sl/nSL database the query gene name and look in the protein domain database which protein domains id has each of those queries.\n",
    "- List of protein B: Search for the Sl/nSL database the target gene name of the previous query and look in the protein domain database which protein domains id has each of those target genes."
   ]
  },
  {
   "cell_type": "code",
   "execution_count": 3,
   "metadata": {
    "execution": {
     "iopub.execute_input": "2020-07-22T14:38:57.413623Z",
     "iopub.status.busy": "2020-07-22T14:38:57.410684Z",
     "iopub.status.idle": "2020-07-22T14:38:59.493250Z",
     "shell.execute_reply": "2020-07-22T14:38:59.491832Z"
    }
   },
   "outputs": [],
   "source": [
    "# Selecting the meaningful columns in the respective dataset\n",
    "domain_id_list=data_domains['domain-name']\n",
    "query_gene=data_sl['gene-query-name']\n",
    "target_gene=data_sl['gene-target-name']\n",
    "query_gene_nonlethal=data_nonsl['gene-query-name']\n",
    "target_gene_nonlethal=data_nonsl['gene-target-name']\n",
    "\n",
    "\n",
    "\n",
    "# Initialising the arrays\n",
    "protein_a_list=[]\n",
    "protein_b_list=[]\n",
    "protein_a_list_non=[]\n",
    "protein_b_list_non=[]\n",
    "\n",
    "population = np.arange(0,len(data_sl))\n",
    "\n",
    "# For loop for 10000 pairs sampled randomly from the SL/nSl pair list , and creating a big array of proteind domains id per protein pair\n",
    "\n",
    "for m in random.sample(list(population), 500):\n",
    "    protein_a=data_domains[data_domains['name']==query_gene[m]]\n",
    "    protein_b=data_domains[data_domains['name']==target_gene[m]]\n",
    "    protein_a_list.append(protein_a['domain-name'].tolist())\n",
    "    protein_b_list.append(protein_b['domain-name'].tolist())\n",
    "\n",
    "    protein_a_non=data_domains[data_domains['name']==query_gene_nonlethal[m]]\n",
    "    protein_b_non=data_domains[data_domains['name']==target_gene_nonlethal[m]]\n",
    "    protein_a_list_non.append(protein_a_non['domain-name'].tolist())\n",
    "    protein_b_list_non.append(protein_b_non['domain-name'].tolist())"
   ]
  },
  {
   "cell_type": "code",
   "execution_count": 4,
   "metadata": {
    "execution": {
     "iopub.execute_input": "2020-07-22T14:38:59.498868Z",
     "iopub.status.busy": "2020-07-22T14:38:59.498310Z",
     "iopub.status.idle": "2020-07-22T14:38:59.500509Z",
     "shell.execute_reply": "2020-07-22T14:38:59.501028Z"
    }
   },
   "outputs": [
    {
     "name": "stdout",
     "output_type": "stream",
     "text": [
      "We are going to analyze 500 protein pairs, out of 17871 SL protein pairs\n",
      "We are going to analyze 500 protein pairs, out of 43340 positive protein pairs\n"
     ]
    }
   ],
   "source": [
    "print('We are going to analyze',len((protein_a_list)) ,'protein pairs, out of',len(data_sl),'SL protein pairs')\n",
    "print('We are going to analyze',len((protein_a_list_non)) ,'protein pairs, out of',len(data_nonsl),'positive protein pairs')"
   ]
  },
  {
   "cell_type": "markdown",
   "metadata": {},
   "source": [
    "### Postprocessing #1:  Remove protein pairs from study if either protein in the pair does not contain any domain"
   ]
  },
  {
   "cell_type": "code",
   "execution_count": 5,
   "metadata": {
    "execution": {
     "iopub.execute_input": "2020-07-22T14:38:59.511034Z",
     "iopub.status.busy": "2020-07-22T14:38:59.510540Z",
     "iopub.status.idle": "2020-07-22T14:38:59.513832Z",
     "shell.execute_reply": "2020-07-22T14:38:59.513408Z"
    }
   },
   "outputs": [],
   "source": [
    "def remove_empty_domains(protein_list_search,protein_list_pair):\n",
    "    index=[]\n",
    "    for i in np.arange(0,len(protein_list_search)):\n",
    "        if protein_list_search[i]==[] or protein_list_pair[i]==[]:\n",
    "            index.append(i) ## index of empty values for the protein_a_list meaning they dont have any annotated domain\n",
    "\n",
    "    y=[x for x in np.arange(0,len(protein_list_search)) if x not in index] # a list with non empty values from protein_a list\n",
    "\n",
    "    protein_list_search_new=[]\n",
    "    protein_list_pair_new=[]\n",
    "    for i in y:\n",
    "        protein_list_search_new.append(protein_list_search[i])\n",
    "        protein_list_pair_new.append(protein_list_pair[i])\n",
    "    return protein_list_search_new,protein_list_pair_new\n",
    "\n",
    "## evaluating the function\n",
    "\n",
    "protein_a_list_new,protein_b_list_new=remove_empty_domains(protein_a_list,protein_b_list)\n",
    "\n",
    "protein_a_list_non_new,protein_b_list_non_new=remove_empty_domains(protein_a_list_non,protein_b_list_non)"
   ]
  },
  {
   "cell_type": "code",
   "execution_count": 6,
   "metadata": {
    "execution": {
     "iopub.execute_input": "2020-07-22T14:38:59.520747Z",
     "iopub.status.busy": "2020-07-22T14:38:59.519263Z",
     "iopub.status.idle": "2020-07-22T14:38:59.522752Z",
     "shell.execute_reply": "2020-07-22T14:38:59.522298Z"
    }
   },
   "outputs": [
    {
     "name": "stdout",
     "output_type": "stream",
     "text": [
      "The empty domain in the SL were: 90 out of 500 domains\n",
      "The empty domain in the nSL were: 83 out of 500 domains\n"
     ]
    }
   ],
   "source": [
    "print('The empty domain in the SL were:', len(protein_a_list)-len(protein_a_list_new), 'out of', len(protein_a_list),'domains')\n",
    "print('The empty domain in the nSL were:', len(protein_a_list_non)-len(protein_a_list_non_new), 'out of', len(protein_a_list_non),'domains')"
   ]
  },
  {
   "cell_type": "markdown",
   "metadata": {},
   "source": [
    "### Feature engineering: Select from each ordered indexes of domain id list which of them appear once, in both or in any of the domains of each protein pair"
   ]
  },
  {
   "cell_type": "markdown",
   "metadata": {},
   "source": [
    "#### Define function `get_indexes`"
   ]
  },
  {
   "cell_type": "code",
   "execution_count": 7,
   "metadata": {
    "execution": {
     "iopub.execute_input": "2020-07-22T14:38:59.529873Z",
     "iopub.status.busy": "2020-07-22T14:38:59.529387Z",
     "iopub.status.idle": "2020-07-22T14:38:59.532139Z",
     "shell.execute_reply": "2020-07-22T14:38:59.532560Z"
    }
   },
   "outputs": [
    {
     "data": {
      "text/plain": [
       "[1, 2]"
      ]
     },
     "execution_count": 7,
     "metadata": {},
     "output_type": "execute_result"
    }
   ],
   "source": [
    "get_indexes = lambda x, xs: [i for (y, i) in zip(xs, range(len(xs))) if x == y] # a function that give the index of whether a value appear in array or not\n",
    "a=[1,2,2,4,5,6,7,8,9,10]\n",
    "get_indexes(2,a)"
   ]
  },
  {
   "cell_type": "code",
   "execution_count": 8,
   "metadata": {
    "execution": {
     "iopub.execute_input": "2020-07-22T14:38:59.541201Z",
     "iopub.status.busy": "2020-07-22T14:38:59.540670Z",
     "iopub.status.idle": "2020-07-22T14:38:59.544243Z",
     "shell.execute_reply": "2020-07-22T14:38:59.543824Z"
    }
   },
   "outputs": [],
   "source": [
    "def feature_building(protein_a_list_new,protein_b_list_new):\n",
    "    x = np.unique(domain_id_list)\n",
    "    ## To avoid taking repeated domains from one protein of the pairs , lets reduced the domains of each protein from the pairs to their unique members\n",
    "    protein_a_list_unique=[]\n",
    "    protein_b_list_unique=[]\n",
    "    for i in np.arange(0,len(protein_a_list_new)):\n",
    "        protein_a_list_unique.append(np.unique(protein_a_list_new[i]))\n",
    "        protein_b_list_unique.append(np.unique(protein_b_list_new[i]))\n",
    "        \n",
    "    protein_feat_true=np.zeros(shape=(len(x),len(protein_a_list_unique)))\n",
    "    pair_a_b_array=[]\n",
    "    for i in np.arange(0,len(protein_a_list_unique)):\n",
    "        index_a=[]\n",
    "        \n",
    "        pair=[protein_a_list_unique[i],protein_b_list_unique[i]]\n",
    "        pair_a_b=np.concatenate(pair).ravel()\n",
    "        pair_a_b_array.append(pair_a_b)\n",
    "\n",
    "    j=0\n",
    "    for i in pair_a_b_array:  \n",
    "        array,index,counts=np.unique(i,return_index=True,return_counts=True)\n",
    "        \n",
    "        for k,m in zip(counts,array):\n",
    "            if k ==2:\n",
    "                protein_feat_true[get_indexes(m,x),j]=2\n",
    "                \n",
    "            if k==1:\n",
    "                protein_feat_true[get_indexes(m,x),j]=1\n",
    "        j=j+1\n",
    "    return protein_feat_true"
   ]
  },
  {
   "cell_type": "code",
   "execution_count": 9,
   "metadata": {
    "execution": {
     "iopub.execute_input": "2020-07-22T14:38:59.553943Z",
     "iopub.status.busy": "2020-07-22T14:38:59.552608Z",
     "iopub.status.idle": "2020-07-22T14:39:00.188434Z",
     "shell.execute_reply": "2020-07-22T14:39:00.187881Z"
    }
   },
   "outputs": [],
   "source": [
    "protein_feat_true=feature_building(protein_b_list_new=protein_b_list_new,protein_a_list_new=protein_a_list_new)\n",
    "protein_feat_true_pd=pd.DataFrame(protein_feat_true.T)\n",
    "\n",
    "protein_feat_non_true=feature_building(protein_b_list_new=protein_b_list_non_new,protein_a_list_new=protein_a_list_non_new)\n",
    "protein_feat_non_true_pd=pd.DataFrame(protein_feat_non_true.T)"
   ]
  },
  {
   "cell_type": "markdown",
   "metadata": {},
   "source": [
    "### How many ones and twos are in each dataset"
   ]
  },
  {
   "cell_type": "code",
   "execution_count": 10,
   "metadata": {
    "execution": {
     "iopub.execute_input": "2020-07-22T14:39:00.195991Z",
     "iopub.status.busy": "2020-07-22T14:39:00.195486Z",
     "iopub.status.idle": "2020-07-22T14:39:00.314538Z",
     "shell.execute_reply": "2020-07-22T14:39:00.313973Z"
    }
   },
   "outputs": [
    {
     "name": "stdout",
     "output_type": "stream",
     "text": [
      "fraction of twos in the SL array is 2.096351542027817e-05\n",
      "fraction of ones in the SL array is 0.001043338036686152\n",
      "fraction of twos in the PI array is 3.9637711318548465e-06\n",
      "fraction of ones in the PI array is 0.000903739818062905\n"
     ]
    }
   ],
   "source": [
    "index_2_true=protein_feat_true_pd.where(protein_feat_true_pd==2)\n",
    "index_2_true_count=index_2_true.count(axis=1).sum()\n",
    "\n",
    "index_1_true=protein_feat_true_pd.where(protein_feat_true_pd==1)\n",
    "index_1_true_count=index_1_true.count(axis=1).sum()\n",
    "\n",
    "index_2_nontrue=protein_feat_non_true_pd.where(protein_feat_non_true_pd==2)\n",
    "index_2_nontrue_count=index_2_nontrue.count(axis=1).sum()\n",
    "\n",
    "index_1_nontrue=protein_feat_non_true_pd.where(protein_feat_non_true_pd==1)\n",
    "index_1_nontrue_count=index_1_nontrue.count(axis=1).sum()\n",
    "\n",
    "\n",
    "print('fraction of twos in the SL array is',index_2_true_count/(len(protein_feat_true_pd.index)*len(protein_feat_true_pd.columns)))\n",
    "print('fraction of ones in the SL array is',index_1_true_count/(len(protein_feat_true_pd.index)*len(protein_feat_true_pd.columns)))\n",
    "print('fraction of twos in the PI array is',index_2_nontrue_count/(len(protein_feat_non_true_pd.index)*len(protein_feat_non_true_pd.columns)))\n",
    "print('fraction of ones in the PI array is',index_1_nontrue_count/(len(protein_feat_non_true_pd.index)*len(protein_feat_non_true_pd.columns)))"
   ]
  },
  {
   "cell_type": "markdown",
   "metadata": {},
   "source": [
    "#### Bar plot to visualize these numbers"
   ]
  },
  {
   "cell_type": "code",
   "execution_count": 11,
   "metadata": {
    "execution": {
     "iopub.execute_input": "2020-07-22T14:39:00.344374Z",
     "iopub.status.busy": "2020-07-22T14:39:00.333273Z",
     "iopub.status.idle": "2020-07-22T14:39:00.781231Z",
     "shell.execute_reply": "2020-07-22T14:39:00.780494Z"
    }
   },
   "outputs": [
    {
     "data": {
      "text/plain": [
       "([0, 1, 2, 3],\n",
       " [Text(0, 0, ''), Text(0, 0, ''), Text(0, 0, ''), Text(0, 0, '')])"
      ]
     },
     "execution_count": 11,
     "metadata": {},
     "output_type": "execute_result"
    },
    {
     "data": {
      "image/png": "[encoded data removed]",
      "text/plain": [
       "<Figure size 432x288 with 1 Axes>"
      ]
     },
     "metadata": {
      "filenames": {
       "image/png": "/home/runner/work/jupyter-book/jupyter-book/mini_book/docs/_build/jupyter_execute/prot_domains2lethality-FEATURES-POSTPROCESSING_18_1.png"
      },
      "needs_background": "light"
     },
     "output_type": "display_data"
    }
   ],
   "source": [
    "plt.bar(['fraction of 2 in the nSL','fraction of 1 in the nSL'],[index_2_nontrue_count/(len(protein_feat_non_true_pd.index)*len(protein_feat_non_true_pd.columns)),index_1_nontrue_count/(len(protein_feat_non_true_pd.index)*len(protein_feat_non_true_pd.columns))],alpha=0.6,color=['blue','lightblue']), \n",
    "\n",
    "plt.bar(['fraction of 2 in SL ','fraction of 1 in SL'],[index_2_true_count/(len(protein_feat_true_pd.index)*len(protein_feat_true_pd.columns)),index_1_true_count/(len(protein_feat_true_pd.index)*len(protein_feat_true_pd.columns))],alpha=0.6,color=['coral','lightcoral'])\n",
    "\n",
    "plt.ylabel('Fraction from the population')\n",
    "plt.yscale('log')\n",
    "plt.xticks(rotation=40)"
   ]
  },
  {
   "cell_type": "markdown",
   "metadata": {},
   "source": [
    "#### Adding the labels(response variables) to each dataset"
   ]
  },
  {
   "cell_type": "code",
   "execution_count": 12,
   "metadata": {
    "execution": {
     "iopub.execute_input": "2020-07-22T14:39:00.787926Z",
     "iopub.status.busy": "2020-07-22T14:39:00.786748Z",
     "iopub.status.idle": "2020-07-22T14:39:00.791237Z",
     "shell.execute_reply": "2020-07-22T14:39:00.790461Z"
    }
   },
   "outputs": [],
   "source": [
    "protein_feat_true_pd['lethality']=np.ones(shape=(len(protein_a_list_new)))\n",
    "protein_feat_non_true_pd['lethality']=np.zeros(shape=(len(protein_a_list_non_new)))"
   ]
  },
  {
   "cell_type": "markdown",
   "metadata": {},
   "source": [
    "#### Joining both datasets"
   ]
  },
  {
   "cell_type": "code",
   "execution_count": 13,
   "metadata": {
    "execution": {
     "iopub.execute_input": "2020-07-22T14:39:00.796520Z",
     "iopub.status.busy": "2020-07-22T14:39:00.795772Z",
     "iopub.status.idle": "2020-07-22T14:39:00.848845Z",
     "shell.execute_reply": "2020-07-22T14:39:00.848368Z"
    }
   },
   "outputs": [
    {
     "name": "stdout",
     "output_type": "stream",
     "text": [
      "The number of features are: 3026\n",
      "The number of samples are: 827\n"
     ]
    }
   ],
   "source": [
    "feature_post=pd.concat([protein_feat_true_pd,protein_feat_non_true_pd],axis=0)\n",
    "feature_post=feature_post.set_index(np.arange(0,len(protein_a_list_new)+len(protein_a_list_non_new)))\n",
    "print('The number of features are:',feature_post.shape[1])\n",
    "print('The number of samples are:',feature_post.shape[0])"
   ]
  },
  {
   "cell_type": "markdown",
   "metadata": {},
   "source": [
    "### Postprocessing and exploration of the feature matrix of both datasets"
   ]
  },
  {
   "cell_type": "code",
   "execution_count": 14,
   "metadata": {
    "execution": {
     "iopub.execute_input": "2020-07-22T14:39:00.868723Z",
     "iopub.status.busy": "2020-07-22T14:39:00.855614Z",
     "iopub.status.idle": "2020-07-22T14:39:04.775144Z",
     "shell.execute_reply": "2020-07-22T14:39:04.774635Z"
    }
   },
   "outputs": [],
   "source": [
    "mean=feature_post.T.describe().loc['mean']\n",
    "std=feature_post.T.describe().loc['std']\n",
    "lethality=feature_post['lethality']\n",
    "\n",
    "corr_keys=pd.concat([mean,std,lethality],axis=1)"
   ]
  },
  {
   "cell_type": "markdown",
   "metadata": {},
   "source": [
    "### Viz of the stats"
   ]
  },
  {
   "cell_type": "code",
   "execution_count": 15,
   "metadata": {
    "execution": {
     "iopub.execute_input": "2020-07-22T14:39:04.828439Z",
     "iopub.status.busy": "2020-07-22T14:39:04.803522Z",
     "iopub.status.idle": "2020-07-22T14:39:06.200006Z",
     "shell.execute_reply": "2020-07-22T14:39:06.200748Z"
    }
   },
   "outputs": [
    {
     "data": {
      "text/plain": [
       "Text(0.5, 1.08, 'Pairplot to see data dependencies with Lethality')"
      ]
     },
     "execution_count": 15,
     "metadata": {},
     "output_type": "execute_result"
    },
    {
     "data": {
      "image/png": "[encoded data removed]",
      "text/plain": [
       "<Figure size 412x360 with 6 Axes>"
      ]
     },
     "metadata": {
      "filenames": {
       "image/png": "/home/runner/work/jupyter-book/jupyter-book/mini_book/docs/_build/jupyter_execute/prot_domains2lethality-FEATURES-POSTPROCESSING_26_1.png"
      },
      "needs_background": "light"
     },
     "output_type": "display_data"
    }
   ],
   "source": [
    "pair=sns.pairplot(corr_keys,hue='lethality',diag_kind='kde',kind='reg',palette='colorblind')\n",
    "pair.fig.suptitle('Pairplot to see data dependencies with Lethality',y=1.08)"
   ]
  },
  {
   "cell_type": "code",
   "execution_count": 16,
   "metadata": {
    "execution": {
     "iopub.execute_input": "2020-07-22T14:39:06.207348Z",
     "iopub.status.busy": "2020-07-22T14:39:06.205816Z",
     "iopub.status.idle": "2020-07-22T14:39:06.219286Z",
     "shell.execute_reply": "2020-07-22T14:39:06.220074Z"
    }
   },
   "outputs": [],
   "source": [
    "X, y = feature_post.drop(columns=[\"lethality\"]), feature_post[\"lethality\"]"
   ]
  },
  {
   "cell_type": "code",
   "execution_count": 17,
   "metadata": {
    "execution": {
     "iopub.execute_input": "2020-07-22T14:39:06.232028Z",
     "iopub.status.busy": "2020-07-22T14:39:06.231496Z",
     "iopub.status.idle": "2020-07-22T14:39:06.399282Z",
     "shell.execute_reply": "2020-07-22T14:39:06.400247Z"
    }
   },
   "outputs": [],
   "source": [
    "from sklearn.preprocessing import StandardScaler\n",
    "scaler = StandardScaler()\n",
    "x_sl=protein_feat_true_pd.drop(columns=['lethality'])\n",
    "x_nsl=protein_feat_non_true_pd.drop(columns=['lethality'])\n",
    "\n",
    "X_sl_scaled = scaler.fit_transform(x_sl)\n",
    "X_nsl_scaled = scaler.fit_transform(x_nsl)"
   ]
  },
  {
   "cell_type": "code",
   "execution_count": 18,
   "metadata": {
    "execution": {
     "iopub.execute_input": "2020-07-22T14:39:06.403947Z",
     "iopub.status.busy": "2020-07-22T14:39:06.402866Z",
     "iopub.status.idle": "2020-07-22T14:39:06.409927Z",
     "shell.execute_reply": "2020-07-22T14:39:06.410694Z"
    }
   },
   "outputs": [
    {
     "data": {
      "text/plain": [
       "(410, 3025)"
      ]
     },
     "execution_count": 18,
     "metadata": {},
     "output_type": "execute_result"
    }
   ],
   "source": [
    "np.shape(X_sl_scaled)"
   ]
  },
  {
   "cell_type": "markdown",
   "metadata": {},
   "source": [
    "## How redundant are each of the protein domains?"
   ]
  },
  {
   "cell_type": "code",
   "execution_count": 19,
   "metadata": {
    "execution": {
     "iopub.execute_input": "2020-07-22T14:39:06.414048Z",
     "iopub.status.busy": "2020-07-22T14:39:06.413046Z",
     "iopub.status.idle": "2020-07-22T14:39:06.421725Z",
     "shell.execute_reply": "2020-07-22T14:39:06.422825Z"
    }
   },
   "outputs": [],
   "source": [
    "def PCA_component_contribution(scaled_matrix,original_data):\n",
    "    from sklearn.decomposition import PCA\n",
    "\n",
    "    model = PCA(0.95).fit(scaled_matrix)\n",
    "    ## apply dimensionality reduction to X_train\n",
    "    output_pca = model.transform(scaled_matrix)\n",
    "    \n",
    "    total=sum(model.explained_variance_)\n",
    "\n",
    "\n",
    "   \n",
    "    # number of components , that it will be the number of main axes times the number of original components \n",
    "    n_pcs= model.components_.shape[0] # the amount of non redundant protein domains \n",
    "\n",
    "    # get the index of the most important feature on EACH component\n",
    "    # LIST COMPREHENSION HERE\n",
    "    most_important = [np.abs(model.components_[i]).argmax() for i in range(n_pcs)]\n",
    "\n",
    "    initial_feature_names = original_data.columns\n",
    "    # get the names\n",
    "    most_important_names = [initial_feature_names[most_important[i]] for i in range(n_pcs)]\n",
    "    \n",
    "\n",
    "    # LIST COMPREHENSION HERE AGAIN\n",
    "    dic = {'PC{}'.format(i): most_important_names[i] for i in range(n_pcs)}\n",
    "\n",
    "    # build the dataframe\n",
    "    df = pd.DataFrame(dic.items(),columns=['pca-component','domain-number'])\n",
    "\n",
    "    return df,model.components_"
   ]
  },
  {
   "cell_type": "code",
   "execution_count": 20,
   "metadata": {
    "execution": {
     "iopub.execute_input": "2020-07-22T14:39:06.426148Z",
     "iopub.status.busy": "2020-07-22T14:39:06.425096Z",
     "iopub.status.idle": "2020-07-22T14:39:07.177214Z",
     "shell.execute_reply": "2020-07-22T14:39:07.178142Z"
    }
   },
   "outputs": [],
   "source": [
    "df_sl,components_pca_nsl=PCA_component_contribution(X_nsl_scaled,x_nsl)\n",
    "df_nsl,components_pca_sl=PCA_component_contribution(X_sl_scaled,x_sl)"
   ]
  },
  {
   "cell_type": "code",
   "execution_count": 21,
   "metadata": {
    "execution": {
     "iopub.execute_input": "2020-07-22T14:39:07.182035Z",
     "iopub.status.busy": "2020-07-22T14:39:07.180979Z",
     "iopub.status.idle": "2020-07-22T14:39:07.192724Z",
     "shell.execute_reply": "2020-07-22T14:39:07.193452Z"
    }
   },
   "outputs": [
    {
     "data": {
      "text/html": [
       "<div>\n",
       "<style scoped>\n",
       "    .dataframe tbody tr th:only-of-type {\n",
       "        vertical-align: middle;\n",
       "    }\n",
       "\n",
       "    .dataframe tbody tr th {\n",
       "        vertical-align: top;\n",
       "    }\n",
       "\n",
       "    .dataframe thead th {\n",
       "        text-align: right;\n",
       "    }\n",
       "</style>\n",
       "<table border=\"1\" class=\"dataframe\">\n",
       "  <thead>\n",
       "    <tr style=\"text-align: right;\">\n",
       "      <th></th>\n",
       "      <th>pca-component</th>\n",
       "      <th>domain-number</th>\n",
       "    </tr>\n",
       "  </thead>\n",
       "  <tbody>\n",
       "    <tr>\n",
       "      <th>0</th>\n",
       "      <td>PC0</td>\n",
       "      <td>305</td>\n",
       "    </tr>\n",
       "    <tr>\n",
       "      <th>1</th>\n",
       "      <td>PC1</td>\n",
       "      <td>561</td>\n",
       "    </tr>\n",
       "    <tr>\n",
       "      <th>2</th>\n",
       "      <td>PC2</td>\n",
       "      <td>221</td>\n",
       "    </tr>\n",
       "    <tr>\n",
       "      <th>3</th>\n",
       "      <td>PC3</td>\n",
       "      <td>467</td>\n",
       "    </tr>\n",
       "    <tr>\n",
       "      <th>4</th>\n",
       "      <td>PC4</td>\n",
       "      <td>1616</td>\n",
       "    </tr>\n",
       "  </tbody>\n",
       "</table>\n",
       "</div>"
      ],
      "text/plain": [
       "  pca-component  domain-number\n",
       "0           PC0            305\n",
       "1           PC1            561\n",
       "2           PC2            221\n",
       "3           PC3            467\n",
       "4           PC4           1616"
      ]
     },
     "execution_count": 21,
     "metadata": {},
     "output_type": "execute_result"
    }
   ],
   "source": [
    "df_sl.head()"
   ]
  },
  {
   "cell_type": "markdown",
   "metadata": {},
   "source": [
    "## which are the shared domains between nSL and SL pairs , in the PCA reduced samples"
   ]
  },
  {
   "cell_type": "code",
   "execution_count": 22,
   "metadata": {
    "execution": {
     "iopub.execute_input": "2020-07-22T14:39:07.196717Z",
     "iopub.status.busy": "2020-07-22T14:39:07.195676Z",
     "iopub.status.idle": "2020-07-22T14:39:07.227090Z",
     "shell.execute_reply": "2020-07-22T14:39:07.227806Z"
    }
   },
   "outputs": [
    {
     "data": {
      "text/html": [
       "<div>\n",
       "<style scoped>\n",
       "    .dataframe tbody tr th:only-of-type {\n",
       "        vertical-align: middle;\n",
       "    }\n",
       "\n",
       "    .dataframe tbody tr th {\n",
       "        vertical-align: top;\n",
       "    }\n",
       "\n",
       "    .dataframe thead th {\n",
       "        text-align: right;\n",
       "    }\n",
       "</style>\n",
       "<table border=\"1\" class=\"dataframe\">\n",
       "  <thead>\n",
       "    <tr style=\"text-align: right;\">\n",
       "      <th></th>\n",
       "      <th>pca-component_x</th>\n",
       "      <th>domain-number</th>\n",
       "      <th>pca-component_y</th>\n",
       "      <th>domain-description</th>\n",
       "    </tr>\n",
       "  </thead>\n",
       "  <tbody>\n",
       "    <tr>\n",
       "      <th>0</th>\n",
       "      <td>PC7</td>\n",
       "      <td>134</td>\n",
       "      <td>PC5</td>\n",
       "      <td>ATP-synt_ab_N; ATPase, F1/V1/A1 complex, alpha...</td>\n",
       "    </tr>\n",
       "    <tr>\n",
       "      <th>1</th>\n",
       "      <td>PC8</td>\n",
       "      <td>463</td>\n",
       "      <td>PC17</td>\n",
       "      <td>Chitin_synth_1N; Chitin synthase N-terminal</td>\n",
       "    </tr>\n",
       "    <tr>\n",
       "      <th>2</th>\n",
       "      <td>PC9</td>\n",
       "      <td>678</td>\n",
       "      <td>PC183</td>\n",
       "      <td>DUF2408; Uncharacterised protein family UPF0662</td>\n",
       "    </tr>\n",
       "    <tr>\n",
       "      <th>3</th>\n",
       "      <td>PC13</td>\n",
       "      <td>1082</td>\n",
       "      <td>PC12</td>\n",
       "      <td>Gpi1; N-acetylglucosaminyl transferase component</td>\n",
       "    </tr>\n",
       "    <tr>\n",
       "      <th>4</th>\n",
       "      <td>PC16</td>\n",
       "      <td>51</td>\n",
       "      <td>PC190</td>\n",
       "      <td>AD; Anticodon-binding domain</td>\n",
       "    </tr>\n",
       "    <tr>\n",
       "      <th>...</th>\n",
       "      <td>...</td>\n",
       "      <td>...</td>\n",
       "      <td>...</td>\n",
       "      <td>...</td>\n",
       "    </tr>\n",
       "    <tr>\n",
       "      <th>66</th>\n",
       "      <td>PC255</td>\n",
       "      <td>2537</td>\n",
       "      <td>PC90</td>\n",
       "      <td>SurE; Survival protein SurE-like phosphatase/n...</td>\n",
       "    </tr>\n",
       "    <tr>\n",
       "      <th>67</th>\n",
       "      <td>PC266</td>\n",
       "      <td>671</td>\n",
       "      <td>PC220</td>\n",
       "      <td>DUF2347; Protein of unknown function DUF2347</td>\n",
       "    </tr>\n",
       "    <tr>\n",
       "      <th>68</th>\n",
       "      <td>PC272</td>\n",
       "      <td>310</td>\n",
       "      <td>PC166</td>\n",
       "      <td>C1_1; Protein kinase C-like, phorbol ester/dia...</td>\n",
       "    </tr>\n",
       "    <tr>\n",
       "      <th>69</th>\n",
       "      <td>PC272</td>\n",
       "      <td>310</td>\n",
       "      <td>PC167</td>\n",
       "      <td>C1_1; Protein kinase C-like, phorbol ester/dia...</td>\n",
       "    </tr>\n",
       "    <tr>\n",
       "      <th>70</th>\n",
       "      <td>PC273</td>\n",
       "      <td>80</td>\n",
       "      <td>PC54</td>\n",
       "      <td>AMPKBI; Association with the SNF1 complex (ASC...</td>\n",
       "    </tr>\n",
       "  </tbody>\n",
       "</table>\n",
       "<p>71 rows × 4 columns</p>\n",
       "</div>"
      ],
      "text/plain": [
       "   pca-component_x  domain-number pca-component_y  \\\n",
       "0              PC7            134             PC5   \n",
       "1              PC8            463            PC17   \n",
       "2              PC9            678           PC183   \n",
       "3             PC13           1082            PC12   \n",
       "4             PC16             51           PC190   \n",
       "..             ...            ...             ...   \n",
       "66           PC255           2537            PC90   \n",
       "67           PC266            671           PC220   \n",
       "68           PC272            310           PC166   \n",
       "69           PC272            310           PC167   \n",
       "70           PC273             80            PC54   \n",
       "\n",
       "                                   domain-description  \n",
       "0   ATP-synt_ab_N; ATPase, F1/V1/A1 complex, alpha...  \n",
       "1         Chitin_synth_1N; Chitin synthase N-terminal  \n",
       "2     DUF2408; Uncharacterised protein family UPF0662  \n",
       "3    Gpi1; N-acetylglucosaminyl transferase component  \n",
       "4                        AD; Anticodon-binding domain  \n",
       "..                                                ...  \n",
       "66  SurE; Survival protein SurE-like phosphatase/n...  \n",
       "67       DUF2347; Protein of unknown function DUF2347  \n",
       "68  C1_1; Protein kinase C-like, phorbol ester/dia...  \n",
       "69  C1_1; Protein kinase C-like, phorbol ester/dia...  \n",
       "70  AMPKBI; Association with the SNF1 complex (ASC...  \n",
       "\n",
       "[71 rows x 4 columns]"
      ]
     },
     "execution_count": 22,
     "metadata": {},
     "output_type": "execute_result"
    }
   ],
   "source": [
    "df_shared_domains=pd.merge(df_sl,df_nsl,how='inner',on='domain-number')\n",
    "domains_name=np.unique(data_domains['domain-name'])\n",
    "domains_description=np.unique(data_domains['domain-descrip'])\n",
    "\n",
    "df_shared_domains['domain-description']=domains_description[df_shared_domains['domain-number']]\n",
    "\n",
    "\n",
    "df_shared_domains"
   ]
  },
  {
   "cell_type": "code",
   "execution_count": 23,
   "metadata": {
    "execution": {
     "iopub.execute_input": "2020-07-22T14:39:07.231098Z",
     "iopub.status.busy": "2020-07-22T14:39:07.230017Z",
     "iopub.status.idle": "2020-07-22T14:39:07.237558Z",
     "shell.execute_reply": "2020-07-22T14:39:07.238302Z"
    }
   },
   "outputs": [
    {
     "name": "stdout",
     "output_type": "stream",
     "text": [
      "The number of shared domains between SL and nSL pairs,after PCA, is =  71 out of 562 so the 12.633451957295375 %\n"
     ]
    }
   ],
   "source": [
    "print('The number of shared domains between SL and nSL pairs,after PCA, is = ',len(df_shared_domains), 'out of', len(df_sl)+len(df_nsl), 'so the',100*len(df_shared_domains)/(len(df_sl)+len(df_nsl)),'%')"
   ]
  },
  {
   "cell_type": "markdown",
   "metadata": {},
   "source": [
    "## Domains exclusive to SL"
   ]
  },
  {
   "cell_type": "code",
   "execution_count": 24,
   "metadata": {
    "execution": {
     "iopub.execute_input": "2020-07-22T14:39:07.241521Z",
     "iopub.status.busy": "2020-07-22T14:39:07.240480Z",
     "iopub.status.idle": "2020-07-22T14:39:07.271960Z",
     "shell.execute_reply": "2020-07-22T14:39:07.272711Z"
    }
   },
   "outputs": [
    {
     "data": {
      "text/html": [
       "<div>\n",
       "<style scoped>\n",
       "    .dataframe tbody tr th:only-of-type {\n",
       "        vertical-align: middle;\n",
       "    }\n",
       "\n",
       "    .dataframe tbody tr th {\n",
       "        vertical-align: top;\n",
       "    }\n",
       "\n",
       "    .dataframe thead th {\n",
       "        text-align: right;\n",
       "    }\n",
       "</style>\n",
       "<table border=\"1\" class=\"dataframe\">\n",
       "  <thead>\n",
       "    <tr style=\"text-align: right;\">\n",
       "      <th></th>\n",
       "      <th>pca-component_x</th>\n",
       "      <th>domain-number</th>\n",
       "      <th>pca-component_y</th>\n",
       "      <th>domain-description</th>\n",
       "    </tr>\n",
       "  </thead>\n",
       "  <tbody>\n",
       "    <tr>\n",
       "      <th>0</th>\n",
       "      <td>PC0</td>\n",
       "      <td>305</td>\n",
       "      <td>NaN</td>\n",
       "      <td>Brr6_like_C_C; Brl1/Brr6 domain</td>\n",
       "    </tr>\n",
       "    <tr>\n",
       "      <th>1</th>\n",
       "      <td>PC1</td>\n",
       "      <td>561</td>\n",
       "      <td>NaN</td>\n",
       "      <td>DASH_Spc34; DASH complex subunit Spc34</td>\n",
       "    </tr>\n",
       "    <tr>\n",
       "      <th>2</th>\n",
       "      <td>PC2</td>\n",
       "      <td>221</td>\n",
       "      <td>NaN</td>\n",
       "      <td>Apq12; Nuclear pore assembly and biogenesis pr...</td>\n",
       "    </tr>\n",
       "    <tr>\n",
       "      <th>3</th>\n",
       "      <td>PC3</td>\n",
       "      <td>467</td>\n",
       "      <td>NaN</td>\n",
       "      <td>Choline_transpo; Choline transporter-like</td>\n",
       "    </tr>\n",
       "    <tr>\n",
       "      <th>4</th>\n",
       "      <td>PC4</td>\n",
       "      <td>1616</td>\n",
       "      <td>NaN</td>\n",
       "      <td>Nnf1; Polyamine-modulated factor 1/Kinetochore...</td>\n",
       "    </tr>\n",
       "    <tr>\n",
       "      <th>...</th>\n",
       "      <td>...</td>\n",
       "      <td>...</td>\n",
       "      <td>...</td>\n",
       "      <td>...</td>\n",
       "    </tr>\n",
       "    <tr>\n",
       "      <th>291</th>\n",
       "      <td>PC275</td>\n",
       "      <td>212</td>\n",
       "      <td>NaN</td>\n",
       "      <td>Anoctamin</td>\n",
       "    </tr>\n",
       "    <tr>\n",
       "      <th>292</th>\n",
       "      <td>PC276</td>\n",
       "      <td>1189</td>\n",
       "      <td>NaN</td>\n",
       "      <td>Hydantoinase_A; Hydantoinase/oxoprolinase</td>\n",
       "    </tr>\n",
       "    <tr>\n",
       "      <th>293</th>\n",
       "      <td>PC277</td>\n",
       "      <td>35</td>\n",
       "      <td>NaN</td>\n",
       "      <td>AA_permease; Amino acid permease/ SLC12A domain</td>\n",
       "    </tr>\n",
       "    <tr>\n",
       "      <th>294</th>\n",
       "      <td>PC278</td>\n",
       "      <td>2123</td>\n",
       "      <td>NaN</td>\n",
       "      <td>Rep_fac-A_C; Replication factor A, C-terminal</td>\n",
       "    </tr>\n",
       "    <tr>\n",
       "      <th>295</th>\n",
       "      <td>PC279</td>\n",
       "      <td>2448</td>\n",
       "      <td>NaN</td>\n",
       "      <td>Sec5</td>\n",
       "    </tr>\n",
       "  </tbody>\n",
       "</table>\n",
       "<p>225 rows × 4 columns</p>\n",
       "</div>"
      ],
      "text/plain": [
       "    pca-component_x  domain-number pca-component_y  \\\n",
       "0               PC0            305             NaN   \n",
       "1               PC1            561             NaN   \n",
       "2               PC2            221             NaN   \n",
       "3               PC3            467             NaN   \n",
       "4               PC4           1616             NaN   \n",
       "..              ...            ...             ...   \n",
       "291           PC275            212             NaN   \n",
       "292           PC276           1189             NaN   \n",
       "293           PC277             35             NaN   \n",
       "294           PC278           2123             NaN   \n",
       "295           PC279           2448             NaN   \n",
       "\n",
       "                                    domain-description  \n",
       "0                      Brr6_like_C_C; Brl1/Brr6 domain  \n",
       "1               DASH_Spc34; DASH complex subunit Spc34  \n",
       "2    Apq12; Nuclear pore assembly and biogenesis pr...  \n",
       "3            Choline_transpo; Choline transporter-like  \n",
       "4    Nnf1; Polyamine-modulated factor 1/Kinetochore...  \n",
       "..                                                 ...  \n",
       "291                                          Anoctamin  \n",
       "292          Hydantoinase_A; Hydantoinase/oxoprolinase  \n",
       "293    AA_permease; Amino acid permease/ SLC12A domain  \n",
       "294      Rep_fac-A_C; Replication factor A, C-terminal  \n",
       "295                                               Sec5  \n",
       "\n",
       "[225 rows x 4 columns]"
      ]
     },
     "execution_count": 24,
     "metadata": {},
     "output_type": "execute_result"
    }
   ],
   "source": [
    "df_sl_exclusive=pd.merge(df_sl,df_nsl,how='left',on='domain-number')\n",
    "\n",
    "domains_name=np.unique(data_domains['domain-name'])\n",
    "domains_description=np.unique(data_domains['domain-descrip'])\n",
    "\n",
    "df_sl_exclusive['domain-description']=domains_description[df_sl_exclusive['domain-number']]\n",
    "df_sl_exclusive[pd.isnull(df_sl_exclusive['pca-component_y'])]"
   ]
  },
  {
   "cell_type": "code",
   "execution_count": 25,
   "metadata": {
    "execution": {
     "iopub.execute_input": "2020-07-22T14:39:07.276129Z",
     "iopub.status.busy": "2020-07-22T14:39:07.275066Z",
     "iopub.status.idle": "2020-07-22T14:39:07.282659Z",
     "shell.execute_reply": "2020-07-22T14:39:07.283394Z"
    }
   },
   "outputs": [
    {
     "name": "stdout",
     "output_type": "stream",
     "text": [
      "The number of exclusive domains from SL pairs, after PCA, is =  296 out of 562 so the 52.669039145907476 %\n"
     ]
    }
   ],
   "source": [
    "print('The number of exclusive domains from SL pairs, after PCA, is = ',len(df_sl_exclusive), 'out of', len(df_sl)+len(df_nsl), 'so the',100*len(df_sl_exclusive)/(len(df_sl)+len(df_nsl)),'%')"
   ]
  },
  {
   "cell_type": "code",
   "execution_count": 26,
   "metadata": {
    "execution": {
     "iopub.execute_input": "2020-07-22T14:39:07.286685Z",
     "iopub.status.busy": "2020-07-22T14:39:07.285612Z",
     "iopub.status.idle": "2020-07-22T14:39:07.320196Z",
     "shell.execute_reply": "2020-07-22T14:39:07.320660Z"
    }
   },
   "outputs": [
    {
     "data": {
      "text/html": [
       "<div>\n",
       "<style scoped>\n",
       "    .dataframe tbody tr th:only-of-type {\n",
       "        vertical-align: middle;\n",
       "    }\n",
       "\n",
       "    .dataframe tbody tr th {\n",
       "        vertical-align: top;\n",
       "    }\n",
       "\n",
       "    .dataframe thead th {\n",
       "        text-align: right;\n",
       "    }\n",
       "</style>\n",
       "<table border=\"1\" class=\"dataframe\">\n",
       "  <thead>\n",
       "    <tr style=\"text-align: right;\">\n",
       "      <th></th>\n",
       "      <th>pca-component_x</th>\n",
       "      <th>domain-number</th>\n",
       "      <th>pca-component_y</th>\n",
       "      <th>domain-description</th>\n",
       "    </tr>\n",
       "  </thead>\n",
       "  <tbody>\n",
       "    <tr>\n",
       "      <th>71</th>\n",
       "      <td>NaN</td>\n",
       "      <td>1028</td>\n",
       "      <td>PC0</td>\n",
       "      <td>GatB_Yqey; Asn/Gln amidotransferase</td>\n",
       "    </tr>\n",
       "    <tr>\n",
       "      <th>72</th>\n",
       "      <td>NaN</td>\n",
       "      <td>1464</td>\n",
       "      <td>PC1</td>\n",
       "      <td>Metallophos_2; Calcineurin-like phosphoesteras...</td>\n",
       "    </tr>\n",
       "    <tr>\n",
       "      <th>73</th>\n",
       "      <td>NaN</td>\n",
       "      <td>1811</td>\n",
       "      <td>PC2</td>\n",
       "      <td>PRAI; N-(5&amp;apos;phosphoribosyl) anthranilate i...</td>\n",
       "    </tr>\n",
       "    <tr>\n",
       "      <th>74</th>\n",
       "      <td>NaN</td>\n",
       "      <td>2610</td>\n",
       "      <td>PC3</td>\n",
       "      <td>TPK_B1_binding; Thiamin pyrophosphokinase, vit...</td>\n",
       "    </tr>\n",
       "    <tr>\n",
       "      <th>75</th>\n",
       "      <td>NaN</td>\n",
       "      <td>2</td>\n",
       "      <td>PC6</td>\n",
       "      <td>2-Hacid_dh; D-isomer specific 2-hydroxyacid de...</td>\n",
       "    </tr>\n",
       "    <tr>\n",
       "      <th>...</th>\n",
       "      <td>...</td>\n",
       "      <td>...</td>\n",
       "      <td>...</td>\n",
       "      <td>...</td>\n",
       "    </tr>\n",
       "    <tr>\n",
       "      <th>289</th>\n",
       "      <td>NaN</td>\n",
       "      <td>1712</td>\n",
       "      <td>PC270</td>\n",
       "      <td>PCRF; Peptide chain release factor</td>\n",
       "    </tr>\n",
       "    <tr>\n",
       "      <th>290</th>\n",
       "      <td>NaN</td>\n",
       "      <td>809</td>\n",
       "      <td>PC271</td>\n",
       "      <td>ENTH; ENTH  domain</td>\n",
       "    </tr>\n",
       "    <tr>\n",
       "      <th>291</th>\n",
       "      <td>NaN</td>\n",
       "      <td>493</td>\n",
       "      <td>PC272</td>\n",
       "      <td>Coa1; Cytochrome oxidase assembly protein 1</td>\n",
       "    </tr>\n",
       "    <tr>\n",
       "      <th>292</th>\n",
       "      <td>NaN</td>\n",
       "      <td>1029</td>\n",
       "      <td>PC273</td>\n",
       "      <td>Gcd10p; tRNA (adenine(58)-N(1))-methyltransfer...</td>\n",
       "    </tr>\n",
       "    <tr>\n",
       "      <th>293</th>\n",
       "      <td>NaN</td>\n",
       "      <td>2700</td>\n",
       "      <td>PC278</td>\n",
       "      <td>Trehalose_PPase; Trehalose-phosphatase</td>\n",
       "    </tr>\n",
       "  </tbody>\n",
       "</table>\n",
       "<p>223 rows × 4 columns</p>\n",
       "</div>"
      ],
      "text/plain": [
       "    pca-component_x  domain-number pca-component_y  \\\n",
       "71              NaN           1028             PC0   \n",
       "72              NaN           1464             PC1   \n",
       "73              NaN           1811             PC2   \n",
       "74              NaN           2610             PC3   \n",
       "75              NaN              2             PC6   \n",
       "..              ...            ...             ...   \n",
       "289             NaN           1712           PC270   \n",
       "290             NaN            809           PC271   \n",
       "291             NaN            493           PC272   \n",
       "292             NaN           1029           PC273   \n",
       "293             NaN           2700           PC278   \n",
       "\n",
       "                                    domain-description  \n",
       "71                 GatB_Yqey; Asn/Gln amidotransferase  \n",
       "72   Metallophos_2; Calcineurin-like phosphoesteras...  \n",
       "73   PRAI; N-(5&apos;phosphoribosyl) anthranilate i...  \n",
       "74   TPK_B1_binding; Thiamin pyrophosphokinase, vit...  \n",
       "75   2-Hacid_dh; D-isomer specific 2-hydroxyacid de...  \n",
       "..                                                 ...  \n",
       "289                 PCRF; Peptide chain release factor  \n",
       "290                                 ENTH; ENTH  domain  \n",
       "291        Coa1; Cytochrome oxidase assembly protein 1  \n",
       "292  Gcd10p; tRNA (adenine(58)-N(1))-methyltransfer...  \n",
       "293             Trehalose_PPase; Trehalose-phosphatase  \n",
       "\n",
       "[223 rows x 4 columns]"
      ]
     },
     "execution_count": 26,
     "metadata": {},
     "output_type": "execute_result"
    }
   ],
   "source": [
    "df_nsl_exclusive=pd.merge(df_sl,df_nsl,how='right',on='domain-number')\n",
    "\n",
    "domains_name=np.unique(data_domains['domain-name'])\n",
    "domains_description=np.unique(data_domains['domain-descrip'])\n",
    "\n",
    "df_nsl_exclusive['domain-description']=domains_description[df_nsl_exclusive['domain-number']]\n",
    "df_nsl_exclusive[pd.isnull(df_nsl_exclusive['pca-component_x'])]"
   ]
  },
  {
   "cell_type": "code",
   "execution_count": 27,
   "metadata": {
    "execution": {
     "iopub.execute_input": "2020-07-22T14:39:07.326138Z",
     "iopub.status.busy": "2020-07-22T14:39:07.325227Z",
     "iopub.status.idle": "2020-07-22T14:39:07.330048Z",
     "shell.execute_reply": "2020-07-22T14:39:07.330494Z"
    }
   },
   "outputs": [
    {
     "name": "stdout",
     "output_type": "stream",
     "text": [
      "The number of exclusive domains from non SL pairs, after PCA, is =  294 out of 562 so the 52.313167259786475 %\n"
     ]
    }
   ],
   "source": [
    "print('The number of exclusive domains from non SL pairs, after PCA, is = ',len(df_nsl_exclusive), 'out of', len(df_sl)+len(df_nsl), 'so the',100*len(df_nsl_exclusive)/(len(df_sl)+len(df_nsl)),'%')"
   ]
  },
  {
   "cell_type": "markdown",
   "metadata": {},
   "source": [
    "## Let see to the domains-number that get repeated after the PCA analysis , and selecting the most explanatory feature by its explained variance."
   ]
  },
  {
   "cell_type": "code",
   "execution_count": 28,
   "metadata": {
    "execution": {
     "iopub.execute_input": "2020-07-22T14:39:07.352761Z",
     "iopub.status.busy": "2020-07-22T14:39:07.352230Z",
     "iopub.status.idle": "2020-07-22T14:39:07.355687Z",
     "shell.execute_reply": "2020-07-22T14:39:07.355232Z"
    }
   },
   "outputs": [],
   "source": [
    "duplicated_features_sl=df_sl[df_sl.iloc[:,1].duplicated()]\n",
    "repeated_features_sl=pd.DataFrame()\n",
    "\n",
    "domains_name=np.unique(data_domains['domain-name'])\n",
    "domains_description=np.unique(data_domains['domain-descrip'])\n",
    "\n",
    "repeated_features_sl['domain-name']=domains_name[duplicated_features_sl.iloc[:,1]] \n",
    "repeated_features_sl['domain-description']=domains_description[duplicated_features_sl.iloc[:,1]]\n",
    "\n",
    "duplicated_features_nsl=df_nsl[df_nsl.iloc[:,1].duplicated()]\n",
    "repeated_features_nsl=pd.DataFrame()\n",
    "\n",
    "repeated_features_nsl['domain-name']=domains_name[duplicated_features_nsl.iloc[:,1]] \n",
    "repeated_features_nsl['domain-description']=domains_description[duplicated_features_nsl.iloc[:,1]]"
   ]
  },
  {
   "cell_type": "code",
   "execution_count": 29,
   "metadata": {
    "execution": {
     "iopub.execute_input": "2020-07-22T14:39:07.365592Z",
     "iopub.status.busy": "2020-07-22T14:39:07.364323Z",
     "iopub.status.idle": "2020-07-22T14:39:07.370890Z",
     "shell.execute_reply": "2020-07-22T14:39:07.371291Z"
    }
   },
   "outputs": [
    {
     "name": "stderr",
     "output_type": "stream",
     "text": [
      "/usr/share/miniconda3/envs/wintest/lib/python3.7/site-packages/ipykernel_launcher.py:3: SettingWithCopyWarning: \n",
      "A value is trying to be set on a copy of a slice from a DataFrame.\n",
      "Try using .loc[row_indexer,col_indexer] = value instead\n",
      "\n",
      "See the caveats in the documentation: https://pandas.pydata.org/pandas-docs/stable/user_guide/indexing.html#returning-a-view-versus-a-copy\n",
      "  This is separate from the ipykernel package so we can avoid doing imports until\n"
     ]
    },
    {
     "data": {
      "text/plain": [
       "((44, 4), (296, 4))"
      ]
     },
     "execution_count": 29,
     "metadata": {},
     "output_type": "execute_result"
    }
   ],
   "source": [
    "only_sl_pd=pd.merge(repeated_features_sl,repeated_features_nsl,how='left',on=['domain-name'])\n",
    "data_only_sl = only_sl_pd[pd.isnull(only_sl_pd['domain-description_y'])]\n",
    "data_only_sl['domain-description']=data_only_sl['domain-description_x']\n",
    "data_only_sl.shape,df_sl_exclusive.shape"
   ]
  },
  {
   "cell_type": "code",
   "execution_count": 30,
   "metadata": {
    "execution": {
     "iopub.execute_input": "2020-07-22T14:39:07.390509Z",
     "iopub.status.busy": "2020-07-22T14:39:07.389934Z",
     "iopub.status.idle": "2020-07-22T14:39:07.395463Z",
     "shell.execute_reply": "2020-07-22T14:39:07.395858Z"
    }
   },
   "outputs": [
    {
     "data": {
      "text/html": [
       "<div>\n",
       "<style scoped>\n",
       "    .dataframe tbody tr th:only-of-type {\n",
       "        vertical-align: middle;\n",
       "    }\n",
       "\n",
       "    .dataframe tbody tr th {\n",
       "        vertical-align: top;\n",
       "    }\n",
       "\n",
       "    .dataframe thead th {\n",
       "        text-align: right;\n",
       "    }\n",
       "</style>\n",
       "<table border=\"1\" class=\"dataframe\">\n",
       "  <thead>\n",
       "    <tr style=\"text-align: right;\">\n",
       "      <th></th>\n",
       "      <th>domain-name</th>\n",
       "      <th>domain-description_x</th>\n",
       "      <th>domain-description_y</th>\n",
       "    </tr>\n",
       "  </thead>\n",
       "  <tbody>\n",
       "    <tr>\n",
       "      <th>3</th>\n",
       "      <td>PF01213</td>\n",
       "      <td>NaN</td>\n",
       "      <td>DALR_1; DALR anticodon binding</td>\n",
       "    </tr>\n",
       "    <tr>\n",
       "      <th>4</th>\n",
       "      <td>PF00493</td>\n",
       "      <td>NaN</td>\n",
       "      <td>Autophagy_C; Autophagy-related protein 3, C-te...</td>\n",
       "    </tr>\n",
       "    <tr>\n",
       "      <th>5</th>\n",
       "      <td>PF13921</td>\n",
       "      <td>NaN</td>\n",
       "      <td>Trypsin_2</td>\n",
       "    </tr>\n",
       "    <tr>\n",
       "      <th>6</th>\n",
       "      <td>PF00633</td>\n",
       "      <td>NaN</td>\n",
       "      <td>CAF1; Ribonuclease CAF1</td>\n",
       "    </tr>\n",
       "    <tr>\n",
       "      <th>7</th>\n",
       "      <td>PF01608</td>\n",
       "      <td>NaN</td>\n",
       "      <td>DUF2781</td>\n",
       "    </tr>\n",
       "    <tr>\n",
       "      <th>8</th>\n",
       "      <td>PF01131</td>\n",
       "      <td>NaN</td>\n",
       "      <td>Cohesin_load; Chromatid cohesion factor MAU2</td>\n",
       "    </tr>\n",
       "    <tr>\n",
       "      <th>9</th>\n",
       "      <td>PF09763</td>\n",
       "      <td>NaN</td>\n",
       "      <td>Ribosomal_L16; Ribosomal protein L10e/L16</td>\n",
       "    </tr>\n",
       "    <tr>\n",
       "      <th>10</th>\n",
       "      <td>PF00888</td>\n",
       "      <td>NaN</td>\n",
       "      <td>CS; CS domain</td>\n",
       "    </tr>\n",
       "    <tr>\n",
       "      <th>11</th>\n",
       "      <td>PF00071</td>\n",
       "      <td>NaN</td>\n",
       "      <td>AAA_8; Dynein heavy chain, P-loop containing D...</td>\n",
       "    </tr>\n",
       "    <tr>\n",
       "      <th>12</th>\n",
       "      <td>PF07557</td>\n",
       "      <td>NaN</td>\n",
       "      <td>PEX11; Peroxisomal biogenesis factor 11</td>\n",
       "    </tr>\n",
       "    <tr>\n",
       "      <th>13</th>\n",
       "      <td>PF02656</td>\n",
       "      <td>NaN</td>\n",
       "      <td>Flo11; Uncharacterised domain Flo11-reatedl, N...</td>\n",
       "    </tr>\n",
       "    <tr>\n",
       "      <th>14</th>\n",
       "      <td>PF12767</td>\n",
       "      <td>NaN</td>\n",
       "      <td>SurE; Survival protein SurE-like phosphatase/n...</td>\n",
       "    </tr>\n",
       "    <tr>\n",
       "      <th>15</th>\n",
       "      <td>PF12171</td>\n",
       "      <td>NaN</td>\n",
       "      <td>Sec7_N; Guanine nucleotide exchange factor, N-...</td>\n",
       "    </tr>\n",
       "    <tr>\n",
       "      <th>16</th>\n",
       "      <td>PF03985</td>\n",
       "      <td>NaN</td>\n",
       "      <td>I_LWEQ; I/LWEQ domain</td>\n",
       "    </tr>\n",
       "    <tr>\n",
       "      <th>17</th>\n",
       "      <td>PF10428</td>\n",
       "      <td>NaN</td>\n",
       "      <td>SAP; SAP domain</td>\n",
       "    </tr>\n",
       "    <tr>\n",
       "      <th>18</th>\n",
       "      <td>PF00581</td>\n",
       "      <td>NaN</td>\n",
       "      <td>BRE1; E3 ubiquitin ligase, BRE1</td>\n",
       "    </tr>\n",
       "    <tr>\n",
       "      <th>19</th>\n",
       "      <td>PF07904</td>\n",
       "      <td>NaN</td>\n",
       "      <td>PINIT; PINIT domain</td>\n",
       "    </tr>\n",
       "    <tr>\n",
       "      <th>20</th>\n",
       "      <td>PF07904</td>\n",
       "      <td>NaN</td>\n",
       "      <td>PINIT; PINIT domain</td>\n",
       "    </tr>\n",
       "    <tr>\n",
       "      <th>21</th>\n",
       "      <td>PF06246</td>\n",
       "      <td>NaN</td>\n",
       "      <td>Nro1; Negative regulator of Ofd1/Enhancer of t...</td>\n",
       "    </tr>\n",
       "    <tr>\n",
       "      <th>22</th>\n",
       "      <td>PF06246</td>\n",
       "      <td>NaN</td>\n",
       "      <td>Nro1; Negative regulator of Ofd1/Enhancer of t...</td>\n",
       "    </tr>\n",
       "    <tr>\n",
       "      <th>23</th>\n",
       "      <td>PF00156</td>\n",
       "      <td>NaN</td>\n",
       "      <td>AIRS_C; AIR synthase-related protein, C-termin...</td>\n",
       "    </tr>\n",
       "    <tr>\n",
       "      <th>24</th>\n",
       "      <td>PF01851</td>\n",
       "      <td>NaN</td>\n",
       "      <td>DnaJ_CXXCXGXG; Heat shock protein DnaJ, cystei...</td>\n",
       "    </tr>\n",
       "    <tr>\n",
       "      <th>25</th>\n",
       "      <td>PF08598</td>\n",
       "      <td>NaN</td>\n",
       "      <td>RAI1; RAI1-like</td>\n",
       "    </tr>\n",
       "    <tr>\n",
       "      <th>26</th>\n",
       "      <td>PF09346</td>\n",
       "      <td>NaN</td>\n",
       "      <td>RasGAP; Ras GTPase-activating protein</td>\n",
       "    </tr>\n",
       "    <tr>\n",
       "      <th>27</th>\n",
       "      <td>PF04488</td>\n",
       "      <td>NaN</td>\n",
       "      <td>MDM31_MDM32; Mitochondrial distribution and mo...</td>\n",
       "    </tr>\n",
       "    <tr>\n",
       "      <th>28</th>\n",
       "      <td>PF09494</td>\n",
       "      <td>NaN</td>\n",
       "      <td>RibD_C; Bacterial bifunctional deaminase-reduc...</td>\n",
       "    </tr>\n",
       "    <tr>\n",
       "      <th>29</th>\n",
       "      <td>PF02902</td>\n",
       "      <td>NaN</td>\n",
       "      <td>GSHPx; Glutathione peroxidase</td>\n",
       "    </tr>\n",
       "    <tr>\n",
       "      <th>30</th>\n",
       "      <td>PF09337</td>\n",
       "      <td>NaN</td>\n",
       "      <td>Rap1_C; TRF2-interacting telomeric protein/Rap...</td>\n",
       "    </tr>\n",
       "    <tr>\n",
       "      <th>31</th>\n",
       "      <td>PF00628</td>\n",
       "      <td>NaN</td>\n",
       "      <td>C1_1; Protein kinase C-like, phorbol ester/dia...</td>\n",
       "    </tr>\n",
       "    <tr>\n",
       "      <th>32</th>\n",
       "      <td>PF03074</td>\n",
       "      <td>NaN</td>\n",
       "      <td>Glu_syn_central; Glutamate synthase, central-N</td>\n",
       "    </tr>\n",
       "    <tr>\n",
       "      <th>33</th>\n",
       "      <td>PF08585</td>\n",
       "      <td>NaN</td>\n",
       "      <td>QCR10; Cytochrome b-c1 complex subunit 10, fungi</td>\n",
       "    </tr>\n",
       "    <tr>\n",
       "      <th>34</th>\n",
       "      <td>PF00096</td>\n",
       "      <td>NaN</td>\n",
       "      <td>ABC2_membrane; ABC-2 type transporter</td>\n",
       "    </tr>\n",
       "    <tr>\n",
       "      <th>35</th>\n",
       "      <td>PF01588</td>\n",
       "      <td>NaN</td>\n",
       "      <td>DUF2407_C; Domain of unknown function DUF2407 ...</td>\n",
       "    </tr>\n",
       "    <tr>\n",
       "      <th>36</th>\n",
       "      <td>PF14938</td>\n",
       "      <td>NaN</td>\n",
       "      <td>Vac14_Fab1_bd; Vacuole morphology and inherita...</td>\n",
       "    </tr>\n",
       "    <tr>\n",
       "      <th>37</th>\n",
       "      <td>PF05922</td>\n",
       "      <td>NaN</td>\n",
       "      <td>Nfu_N; Scaffold protein Nfu/NifU, N-terminal</td>\n",
       "    </tr>\n",
       "    <tr>\n",
       "      <th>38</th>\n",
       "      <td>PF04062</td>\n",
       "      <td>NaN</td>\n",
       "      <td>KH_2; K Homology domain, type 2</td>\n",
       "    </tr>\n",
       "    <tr>\n",
       "      <th>39</th>\n",
       "      <td>PF01423</td>\n",
       "      <td>NaN</td>\n",
       "      <td>DNA_topoisoIV; DNA topoisomerase, type IIA, su...</td>\n",
       "    </tr>\n",
       "    <tr>\n",
       "      <th>40</th>\n",
       "      <td>PF08245</td>\n",
       "      <td>NaN</td>\n",
       "      <td>Peptidase_C12; Peptidase C12, ubiquitin carbox...</td>\n",
       "    </tr>\n",
       "    <tr>\n",
       "      <th>41</th>\n",
       "      <td>PF01239</td>\n",
       "      <td>NaN</td>\n",
       "      <td>DBP10CT; DBP10, C-terminal</td>\n",
       "    </tr>\n",
       "    <tr>\n",
       "      <th>42</th>\n",
       "      <td>PF05615</td>\n",
       "      <td>NaN</td>\n",
       "      <td>NIR_SIR_ferr; Nitrite/Sulfite reductase ferred...</td>\n",
       "    </tr>\n",
       "    <tr>\n",
       "      <th>43</th>\n",
       "      <td>PF00186</td>\n",
       "      <td>NaN</td>\n",
       "      <td>ANAPC9; Anaphase-promoting complex, subunit 9</td>\n",
       "    </tr>\n",
       "    <tr>\n",
       "      <th>44</th>\n",
       "      <td>PF00186</td>\n",
       "      <td>NaN</td>\n",
       "      <td>ANAPC9; Anaphase-promoting complex, subunit 9</td>\n",
       "    </tr>\n",
       "    <tr>\n",
       "      <th>45</th>\n",
       "      <td>PF01465</td>\n",
       "      <td>NaN</td>\n",
       "      <td>DUF1115; Domain of unknown function DUF1115</td>\n",
       "    </tr>\n",
       "    <tr>\n",
       "      <th>46</th>\n",
       "      <td>PF01159</td>\n",
       "      <td>NaN</td>\n",
       "      <td>Csm1; Monopolin complex, subunit Csm1/Pcs1</td>\n",
       "    </tr>\n",
       "    <tr>\n",
       "      <th>47</th>\n",
       "      <td>PF00332</td>\n",
       "      <td>NaN</td>\n",
       "      <td>Ad_cyc_g-alpha; Adenylate cyclase G-alpha binding</td>\n",
       "    </tr>\n",
       "    <tr>\n",
       "      <th>48</th>\n",
       "      <td>PF00332</td>\n",
       "      <td>NaN</td>\n",
       "      <td>Ad_cyc_g-alpha; Adenylate cyclase G-alpha binding</td>\n",
       "    </tr>\n",
       "    <tr>\n",
       "      <th>49</th>\n",
       "      <td>PF08632</td>\n",
       "      <td>NaN</td>\n",
       "      <td>RMI1_N; RecQ mediated genome instability prote...</td>\n",
       "    </tr>\n",
       "    <tr>\n",
       "      <th>50</th>\n",
       "      <td>PF00428</td>\n",
       "      <td>NaN</td>\n",
       "      <td>Ank_3; Ankyrin repeat</td>\n",
       "    </tr>\n",
       "    <tr>\n",
       "      <th>51</th>\n",
       "      <td>PF08149</td>\n",
       "      <td>NaN</td>\n",
       "      <td>PRP38; Pre-mRNA-splicing factor 38</td>\n",
       "    </tr>\n",
       "    <tr>\n",
       "      <th>52</th>\n",
       "      <td>PF02966</td>\n",
       "      <td>NaN</td>\n",
       "      <td>GXGXG; Glutamate synthase, alpha subunit, C-te...</td>\n",
       "    </tr>\n",
       "    <tr>\n",
       "      <th>53</th>\n",
       "      <td>PF00856</td>\n",
       "      <td>NaN</td>\n",
       "      <td>CRAL_TRIO; CRAL-TRIO lipid binding domain</td>\n",
       "    </tr>\n",
       "    <tr>\n",
       "      <th>54</th>\n",
       "      <td>PF03215</td>\n",
       "      <td>NaN</td>\n",
       "      <td>Glyoxalase; Glyoxalase/fosfomycin resistance/d...</td>\n",
       "    </tr>\n",
       "    <tr>\n",
       "      <th>55</th>\n",
       "      <td>PF04420</td>\n",
       "      <td>NaN</td>\n",
       "      <td>MAM33; Mitochondrial glycoprotein</td>\n",
       "    </tr>\n",
       "    <tr>\n",
       "      <th>56</th>\n",
       "      <td>PF09724</td>\n",
       "      <td>NaN</td>\n",
       "      <td>Ribosomal_60s</td>\n",
       "    </tr>\n",
       "  </tbody>\n",
       "</table>\n",
       "</div>"
      ],
      "text/plain": [
       "   domain-name domain-description_x  \\\n",
       "3      PF01213                  NaN   \n",
       "4      PF00493                  NaN   \n",
       "5      PF13921                  NaN   \n",
       "6      PF00633                  NaN   \n",
       "7      PF01608                  NaN   \n",
       "8      PF01131                  NaN   \n",
       "9      PF09763                  NaN   \n",
       "10     PF00888                  NaN   \n",
       "11     PF00071                  NaN   \n",
       "12     PF07557                  NaN   \n",
       "13     PF02656                  NaN   \n",
       "14     PF12767                  NaN   \n",
       "15     PF12171                  NaN   \n",
       "16     PF03985                  NaN   \n",
       "17     PF10428                  NaN   \n",
       "18     PF00581                  NaN   \n",
       "19     PF07904                  NaN   \n",
       "20     PF07904                  NaN   \n",
       "21     PF06246                  NaN   \n",
       "22     PF06246                  NaN   \n",
       "23     PF00156                  NaN   \n",
       "24     PF01851                  NaN   \n",
       "25     PF08598                  NaN   \n",
       "26     PF09346                  NaN   \n",
       "27     PF04488                  NaN   \n",
       "28     PF09494                  NaN   \n",
       "29     PF02902                  NaN   \n",
       "30     PF09337                  NaN   \n",
       "31     PF00628                  NaN   \n",
       "32     PF03074                  NaN   \n",
       "33     PF08585                  NaN   \n",
       "34     PF00096                  NaN   \n",
       "35     PF01588                  NaN   \n",
       "36     PF14938                  NaN   \n",
       "37     PF05922                  NaN   \n",
       "38     PF04062                  NaN   \n",
       "39     PF01423                  NaN   \n",
       "40     PF08245                  NaN   \n",
       "41     PF01239                  NaN   \n",
       "42     PF05615                  NaN   \n",
       "43     PF00186                  NaN   \n",
       "44     PF00186                  NaN   \n",
       "45     PF01465                  NaN   \n",
       "46     PF01159                  NaN   \n",
       "47     PF00332                  NaN   \n",
       "48     PF00332                  NaN   \n",
       "49     PF08632                  NaN   \n",
       "50     PF00428                  NaN   \n",
       "51     PF08149                  NaN   \n",
       "52     PF02966                  NaN   \n",
       "53     PF00856                  NaN   \n",
       "54     PF03215                  NaN   \n",
       "55     PF04420                  NaN   \n",
       "56     PF09724                  NaN   \n",
       "\n",
       "                                 domain-description_y  \n",
       "3                      DALR_1; DALR anticodon binding  \n",
       "4   Autophagy_C; Autophagy-related protein 3, C-te...  \n",
       "5                                           Trypsin_2  \n",
       "6                             CAF1; Ribonuclease CAF1  \n",
       "7                                             DUF2781  \n",
       "8        Cohesin_load; Chromatid cohesion factor MAU2  \n",
       "9           Ribosomal_L16; Ribosomal protein L10e/L16  \n",
       "10                                      CS; CS domain  \n",
       "11  AAA_8; Dynein heavy chain, P-loop containing D...  \n",
       "12            PEX11; Peroxisomal biogenesis factor 11  \n",
       "13  Flo11; Uncharacterised domain Flo11-reatedl, N...  \n",
       "14  SurE; Survival protein SurE-like phosphatase/n...  \n",
       "15  Sec7_N; Guanine nucleotide exchange factor, N-...  \n",
       "16                              I_LWEQ; I/LWEQ domain  \n",
       "17                                    SAP; SAP domain  \n",
       "18                    BRE1; E3 ubiquitin ligase, BRE1  \n",
       "19                                PINIT; PINIT domain  \n",
       "20                                PINIT; PINIT domain  \n",
       "21  Nro1; Negative regulator of Ofd1/Enhancer of t...  \n",
       "22  Nro1; Negative regulator of Ofd1/Enhancer of t...  \n",
       "23  AIRS_C; AIR synthase-related protein, C-termin...  \n",
       "24  DnaJ_CXXCXGXG; Heat shock protein DnaJ, cystei...  \n",
       "25                                    RAI1; RAI1-like  \n",
       "26              RasGAP; Ras GTPase-activating protein  \n",
       "27  MDM31_MDM32; Mitochondrial distribution and mo...  \n",
       "28  RibD_C; Bacterial bifunctional deaminase-reduc...  \n",
       "29                      GSHPx; Glutathione peroxidase  \n",
       "30  Rap1_C; TRF2-interacting telomeric protein/Rap...  \n",
       "31  C1_1; Protein kinase C-like, phorbol ester/dia...  \n",
       "32     Glu_syn_central; Glutamate synthase, central-N  \n",
       "33   QCR10; Cytochrome b-c1 complex subunit 10, fungi  \n",
       "34              ABC2_membrane; ABC-2 type transporter  \n",
       "35  DUF2407_C; Domain of unknown function DUF2407 ...  \n",
       "36  Vac14_Fab1_bd; Vacuole morphology and inherita...  \n",
       "37       Nfu_N; Scaffold protein Nfu/NifU, N-terminal  \n",
       "38                    KH_2; K Homology domain, type 2  \n",
       "39  DNA_topoisoIV; DNA topoisomerase, type IIA, su...  \n",
       "40  Peptidase_C12; Peptidase C12, ubiquitin carbox...  \n",
       "41                         DBP10CT; DBP10, C-terminal  \n",
       "42  NIR_SIR_ferr; Nitrite/Sulfite reductase ferred...  \n",
       "43      ANAPC9; Anaphase-promoting complex, subunit 9  \n",
       "44      ANAPC9; Anaphase-promoting complex, subunit 9  \n",
       "45        DUF1115; Domain of unknown function DUF1115  \n",
       "46         Csm1; Monopolin complex, subunit Csm1/Pcs1  \n",
       "47  Ad_cyc_g-alpha; Adenylate cyclase G-alpha binding  \n",
       "48  Ad_cyc_g-alpha; Adenylate cyclase G-alpha binding  \n",
       "49  RMI1_N; RecQ mediated genome instability prote...  \n",
       "50                              Ank_3; Ankyrin repeat  \n",
       "51                 PRP38; Pre-mRNA-splicing factor 38  \n",
       "52  GXGXG; Glutamate synthase, alpha subunit, C-te...  \n",
       "53          CRAL_TRIO; CRAL-TRIO lipid binding domain  \n",
       "54  Glyoxalase; Glyoxalase/fosfomycin resistance/d...  \n",
       "55                  MAM33; Mitochondrial glycoprotein  \n",
       "56                                      Ribosomal_60s  "
      ]
     },
     "execution_count": 30,
     "metadata": {},
     "output_type": "execute_result"
    }
   ],
   "source": [
    "only_nsl_pd=pd.merge(repeated_features_sl,repeated_features_nsl,how='right',on=['domain-name'])\n",
    "data_only_nsl = only_nsl_pd[pd.isnull(only_nsl_pd['domain-description_x'])]\n",
    "data_only_nsl"
   ]
  },
  {
   "cell_type": "code",
   "execution_count": 31,
   "metadata": {
    "execution": {
     "iopub.execute_input": "2020-07-22T14:39:07.407903Z",
     "iopub.status.busy": "2020-07-22T14:39:07.407195Z",
     "iopub.status.idle": "2020-07-22T14:39:07.410008Z",
     "shell.execute_reply": "2020-07-22T14:39:07.410443Z"
    }
   },
   "outputs": [
    {
     "data": {
      "text/html": [
       "<div>\n",
       "<style scoped>\n",
       "    .dataframe tbody tr th:only-of-type {\n",
       "        vertical-align: middle;\n",
       "    }\n",
       "\n",
       "    .dataframe tbody tr th {\n",
       "        vertical-align: top;\n",
       "    }\n",
       "\n",
       "    .dataframe thead th {\n",
       "        text-align: right;\n",
       "    }\n",
       "</style>\n",
       "<table border=\"1\" class=\"dataframe\">\n",
       "  <thead>\n",
       "    <tr style=\"text-align: right;\">\n",
       "      <th></th>\n",
       "      <th>domain-name</th>\n",
       "      <th>domain-description_x</th>\n",
       "      <th>domain-description_y</th>\n",
       "    </tr>\n",
       "  </thead>\n",
       "  <tbody>\n",
       "    <tr>\n",
       "      <th>0</th>\n",
       "      <td>PF00512</td>\n",
       "      <td>B5; tRNA synthetase, B5-domain</td>\n",
       "      <td>B5; tRNA synthetase, B5-domain</td>\n",
       "    </tr>\n",
       "    <tr>\n",
       "      <th>1</th>\n",
       "      <td>PF00501</td>\n",
       "      <td>Avl9; AVL9/DENND6 domain</td>\n",
       "      <td>Avl9; AVL9/DENND6 domain</td>\n",
       "    </tr>\n",
       "    <tr>\n",
       "      <th>2</th>\n",
       "      <td>PF00501</td>\n",
       "      <td>Avl9; AVL9/DENND6 domain</td>\n",
       "      <td>Avl9; AVL9/DENND6 domain</td>\n",
       "    </tr>\n",
       "  </tbody>\n",
       "</table>\n",
       "</div>"
      ],
      "text/plain": [
       "  domain-name            domain-description_x            domain-description_y\n",
       "0     PF00512  B5; tRNA synthetase, B5-domain  B5; tRNA synthetase, B5-domain\n",
       "1     PF00501        Avl9; AVL9/DENND6 domain        Avl9; AVL9/DENND6 domain\n",
       "2     PF00501        Avl9; AVL9/DENND6 domain        Avl9; AVL9/DENND6 domain"
      ]
     },
     "execution_count": 31,
     "metadata": {},
     "output_type": "execute_result"
    }
   ],
   "source": [
    "shared_domains_pd=pd.merge(repeated_features_sl,repeated_features_nsl,how='inner',on=['domain-name'])\n",
    "shared_domains_pd\n"
   ]
  },
  {
   "cell_type": "code",
   "execution_count": 32,
   "metadata": {
    "execution": {
     "iopub.execute_input": "2020-07-22T14:39:07.419232Z",
     "iopub.status.busy": "2020-07-22T14:39:07.414897Z",
     "iopub.status.idle": "2020-07-22T14:39:08.759230Z",
     "shell.execute_reply": "2020-07-22T14:39:08.758769Z"
    }
   },
   "outputs": [
    {
     "data": {
      "text/plain": [
       "(0.0, 0.2)"
      ]
     },
     "execution_count": 32,
     "metadata": {},
     "output_type": "execute_result"
    },
    {
     "data": {
      "image/png": "[encoded data removed]",
      "text/plain": [
       "<Figure size 432x288 with 1 Axes>"
      ]
     },
     "metadata": {
      "filenames": {
       "image/png": "/home/runner/work/jupyter-book/jupyter-book/mini_book/docs/_build/jupyter_execute/prot_domains2lethality-FEATURES-POSTPROCESSING_47_1.png"
      },
      "needs_background": "light"
     },
     "output_type": "display_data"
    }
   ],
   "source": [
    "a_sl=x_sl.iloc[:,np.sort(df_sl.iloc[:,1])]\n",
    "a_sl.describe().loc['mean'].hist(bins=8),\n",
    "a_sl.describe().loc['std'].hist(bins=8,alpha=0.4)\n",
    "plt.xlim([0,0.2])"
   ]
  },
  {
   "cell_type": "code",
   "execution_count": 33,
   "metadata": {
    "execution": {
     "iopub.execute_input": "2020-07-22T14:39:08.775227Z",
     "iopub.status.busy": "2020-07-22T14:39:08.773352Z",
     "iopub.status.idle": "2020-07-22T14:39:10.072275Z",
     "shell.execute_reply": "2020-07-22T14:39:10.072755Z"
    }
   },
   "outputs": [
    {
     "data": {
      "text/plain": [
       "(0.0, 0.2)"
      ]
     },
     "execution_count": 33,
     "metadata": {},
     "output_type": "execute_result"
    },
    {
     "data": {
      "image/png": "[encoded data removed]",
      "text/plain": [
       "<Figure size 432x288 with 1 Axes>"
      ]
     },
     "metadata": {
      "filenames": {
       "image/png": "/home/runner/work/jupyter-book/jupyter-book/mini_book/docs/_build/jupyter_execute/prot_domains2lethality-FEATURES-POSTPROCESSING_48_1.png"
      },
      "needs_background": "light"
     },
     "output_type": "display_data"
    }
   ],
   "source": [
    "a_nsl=x_nsl.iloc[:,np.sort(df_nsl.iloc[:,1])]\n",
    "a_nsl.describe().loc['mean'].hist(bins=8),\n",
    "a_nsl.describe().loc['std'].hist(bins=8,alpha=0.4)\n",
    "plt.xlim([0,0.2])"
   ]
  },
  {
   "cell_type": "markdown",
   "metadata": {},
   "source": [
    "### Proof of concept with *BEM1*\n",
    "\n",
    "- Gather the domains of SL and nSL pairs from BEM1\n",
    "- Check if the domains for the SL and nSL pairs are inside the most important domains after PCA."
   ]
  },
  {
   "cell_type": "code",
   "execution_count": 34,
   "metadata": {
    "execution": {
     "iopub.execute_input": "2020-07-22T14:39:10.081644Z",
     "iopub.status.busy": "2020-07-22T14:39:10.081122Z",
     "iopub.status.idle": "2020-07-22T14:39:10.085276Z",
     "shell.execute_reply": "2020-07-22T14:39:10.084575Z"
    }
   },
   "outputs": [],
   "source": [
    "domains_bem1=data_domains[data_domains['name']=='BEM1']['domain-descrip']\n",
    "sl_bem1=data_sl[data_sl['gene-query-name']=='BEM1']['gene-target-name']"
   ]
  },
  {
   "cell_type": "code",
   "execution_count": 35,
   "metadata": {
    "execution": {
     "iopub.execute_input": "2020-07-22T14:39:10.090071Z",
     "iopub.status.busy": "2020-07-22T14:39:10.089595Z",
     "iopub.status.idle": "2020-07-22T14:39:10.094933Z",
     "shell.execute_reply": "2020-07-22T14:39:10.094210Z"
    }
   },
   "outputs": [
    {
     "data": {
      "text/plain": [
       "2846      BEM2\n",
       "2847     CDC24\n",
       "5004      MSB1\n",
       "13777     SMI1\n",
       "13778     BNI1\n",
       "13779     BEM2\n",
       "14385     SKN7\n",
       "Name: gene-target-name, dtype: object"
      ]
     },
     "execution_count": 35,
     "metadata": {},
     "output_type": "execute_result"
    }
   ],
   "source": [
    "sl_bem1"
   ]
  },
  {
   "cell_type": "code",
   "execution_count": 36,
   "metadata": {
    "execution": {
     "iopub.execute_input": "2020-07-22T14:39:10.108792Z",
     "iopub.status.busy": "2020-07-22T14:39:10.107997Z",
     "iopub.status.idle": "2020-07-22T14:39:10.113722Z",
     "shell.execute_reply": "2020-07-22T14:39:10.113396Z"
    }
   },
   "outputs": [
    {
     "data": {
      "text/html": [
       "<div>\n",
       "<style scoped>\n",
       "    .dataframe tbody tr th:only-of-type {\n",
       "        vertical-align: middle;\n",
       "    }\n",
       "\n",
       "    .dataframe tbody tr th {\n",
       "        vertical-align: top;\n",
       "    }\n",
       "\n",
       "    .dataframe thead th {\n",
       "        text-align: right;\n",
       "    }\n",
       "</style>\n",
       "<table border=\"1\" class=\"dataframe\">\n",
       "  <thead>\n",
       "    <tr style=\"text-align: right;\">\n",
       "      <th></th>\n",
       "      <th>gene-query</th>\n",
       "      <th>gene-target</th>\n",
       "      <th>gene-query-name</th>\n",
       "      <th>gene-target-name</th>\n",
       "      <th>gene-query-description</th>\n",
       "      <th>gene-target-description</th>\n",
       "      <th>interaction-type</th>\n",
       "      <th>paper-source</th>\n",
       "    </tr>\n",
       "  </thead>\n",
       "  <tbody>\n",
       "    <tr>\n",
       "      <th>2846</th>\n",
       "      <td>YBR200W</td>\n",
       "      <td>YER155C</td>\n",
       "      <td>BEM1</td>\n",
       "      <td>BEM2</td>\n",
       "      <td>SRO1|phosphatidylinositol-3-phosphate-binding ...</td>\n",
       "      <td>IPL2|SUP9|TSL1|L000000168</td>\n",
       "      <td>Synthetic Lethality</td>\n",
       "      <td>Peterson J (1994)</td>\n",
       "    </tr>\n",
       "    <tr>\n",
       "      <th>2847</th>\n",
       "      <td>YBR200W</td>\n",
       "      <td>YAL041W</td>\n",
       "      <td>BEM1</td>\n",
       "      <td>CDC24</td>\n",
       "      <td>SRO1|phosphatidylinositol-3-phosphate-binding ...</td>\n",
       "      <td>CLS4|Rho family guanine nucleotide exchange fa...</td>\n",
       "      <td>Synthetic Lethality</td>\n",
       "      <td>Peterson J (1994)</td>\n",
       "    </tr>\n",
       "    <tr>\n",
       "      <th>5004</th>\n",
       "      <td>YBR200W</td>\n",
       "      <td>YOR188W</td>\n",
       "      <td>BEM1</td>\n",
       "      <td>MSB1</td>\n",
       "      <td>SRO1|phosphatidylinositol-3-phosphate-binding ...</td>\n",
       "      <td>L000001184</td>\n",
       "      <td>Synthetic Lethality</td>\n",
       "      <td>Bender A (1991)</td>\n",
       "    </tr>\n",
       "    <tr>\n",
       "      <th>13777</th>\n",
       "      <td>YBR200W</td>\n",
       "      <td>YGR229C</td>\n",
       "      <td>BEM1</td>\n",
       "      <td>SMI1</td>\n",
       "      <td>SRO1|phosphatidylinositol-3-phosphate-binding ...</td>\n",
       "      <td>KNR4|L000000909</td>\n",
       "      <td>Synthetic Lethality</td>\n",
       "      <td>Gorelik M (2011)</td>\n",
       "    </tr>\n",
       "    <tr>\n",
       "      <th>13778</th>\n",
       "      <td>YBR200W</td>\n",
       "      <td>YNL271C</td>\n",
       "      <td>BEM1</td>\n",
       "      <td>BNI1</td>\n",
       "      <td>SRO1|phosphatidylinositol-3-phosphate-binding ...</td>\n",
       "      <td>PPF3|SHE5|formin BNI1|L000000190</td>\n",
       "      <td>Synthetic Lethality</td>\n",
       "      <td>Gorelik M (2011)</td>\n",
       "    </tr>\n",
       "    <tr>\n",
       "      <th>13779</th>\n",
       "      <td>YBR200W</td>\n",
       "      <td>YER155C</td>\n",
       "      <td>BEM1</td>\n",
       "      <td>BEM2</td>\n",
       "      <td>SRO1|phosphatidylinositol-3-phosphate-binding ...</td>\n",
       "      <td>IPL2|SUP9|TSL1|L000000168</td>\n",
       "      <td>Synthetic Lethality</td>\n",
       "      <td>Gorelik M (2011)</td>\n",
       "    </tr>\n",
       "    <tr>\n",
       "      <th>14385</th>\n",
       "      <td>YBR200W</td>\n",
       "      <td>YHR206W</td>\n",
       "      <td>BEM1</td>\n",
       "      <td>SKN7</td>\n",
       "      <td>SRO1|phosphatidylinositol-3-phosphate-binding ...</td>\n",
       "      <td>BRY1|POS9|kinase-regulated stress-responsive t...</td>\n",
       "      <td>Dosage Lethality</td>\n",
       "      <td>Bouquin N (1999)</td>\n",
       "    </tr>\n",
       "  </tbody>\n",
       "</table>\n",
       "</div>"
      ],
      "text/plain": [
       "      gene-query gene-target gene-query-name gene-target-name  \\\n",
       "2846     YBR200W     YER155C            BEM1             BEM2   \n",
       "2847     YBR200W     YAL041W            BEM1            CDC24   \n",
       "5004     YBR200W     YOR188W            BEM1             MSB1   \n",
       "13777    YBR200W     YGR229C            BEM1             SMI1   \n",
       "13778    YBR200W     YNL271C            BEM1             BNI1   \n",
       "13779    YBR200W     YER155C            BEM1             BEM2   \n",
       "14385    YBR200W     YHR206W            BEM1             SKN7   \n",
       "\n",
       "                                  gene-query-description  \\\n",
       "2846   SRO1|phosphatidylinositol-3-phosphate-binding ...   \n",
       "2847   SRO1|phosphatidylinositol-3-phosphate-binding ...   \n",
       "5004   SRO1|phosphatidylinositol-3-phosphate-binding ...   \n",
       "13777  SRO1|phosphatidylinositol-3-phosphate-binding ...   \n",
       "13778  SRO1|phosphatidylinositol-3-phosphate-binding ...   \n",
       "13779  SRO1|phosphatidylinositol-3-phosphate-binding ...   \n",
       "14385  SRO1|phosphatidylinositol-3-phosphate-binding ...   \n",
       "\n",
       "                                 gene-target-description     interaction-type  \\\n",
       "2846                           IPL2|SUP9|TSL1|L000000168  Synthetic Lethality   \n",
       "2847   CLS4|Rho family guanine nucleotide exchange fa...  Synthetic Lethality   \n",
       "5004                                          L000001184  Synthetic Lethality   \n",
       "13777                                    KNR4|L000000909  Synthetic Lethality   \n",
       "13778                   PPF3|SHE5|formin BNI1|L000000190  Synthetic Lethality   \n",
       "13779                          IPL2|SUP9|TSL1|L000000168  Synthetic Lethality   \n",
       "14385  BRY1|POS9|kinase-regulated stress-responsive t...     Dosage Lethality   \n",
       "\n",
       "            paper-source  \n",
       "2846   Peterson J (1994)  \n",
       "2847   Peterson J (1994)  \n",
       "5004     Bender A (1991)  \n",
       "13777   Gorelik M (2011)  \n",
       "13778   Gorelik M (2011)  \n",
       "13779   Gorelik M (2011)  \n",
       "14385   Bouquin N (1999)  "
      ]
     },
     "execution_count": 36,
     "metadata": {},
     "output_type": "execute_result"
    }
   ],
   "source": [
    "data_sl[data_sl['gene-query-name']=='BEM1']"
   ]
  },
  {
   "cell_type": "code",
   "execution_count": null,
   "metadata": {},
   "outputs": [],
   "source": []
  }
 ],
 "metadata": {
  "jupytext": {
   "text_representation": {
    "extension": ".md",
    "format_name": "myst"
   }
  },
  "kernelspec": {
   "display_name": "Python 3",
   "language": "python",
   "name": "python3"
  },
  "language_info": {
   "codemirror_mode": {
    "name": "ipython",
    "version": 3
   },
   "file_extension": ".py",
   "mimetype": "text/x-python",
   "name": "python",
   "nbconvert_exporter": "python",
   "pygments_lexer": "ipython3",
   "version": "3.7.6"
  },
  "source_map": [
   10,
   18,
   29,
   36,
   57,
   66,
   98,
   101,
   105,
   128,
   131,
   135,
   139,
   145,
   178,
   184,
   188,
   206,
   210,
   218,
   222,
   225,
   229,
   234,
   238,
   244,
   248,
   253,
   257,
   267,
   269,
   273,
   306,
   311,
   313,
   317,
   328,
   330,
   334,
   344,
   348,
   358,
   360,
   364,
   381,
   388,
   394,
   400,
   407,
   412,
   419,
   424,
   428,
   432
  ]
 },
 "nbformat": 4,
 "nbformat_minor": 4
}