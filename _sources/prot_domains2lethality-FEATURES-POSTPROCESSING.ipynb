{
 "cells": [
  {
   "cell_type": "markdown",
   "metadata": {},
   "source": [
    "# Feature postprocessing from paper.\n",
    "- Title:  \"Predicting yeast synthetic lethal genetic interactions using protein domains\"\n",
    "- Authors: Bo Li, Feng Luo,School of Computing,Clemson University,Clemson, SC, USA\n",
    "- e-mail: bol, luofeng@clemson.edu\n",
    "- year:2009"
   ]
  },
  {
   "cell_type": "code",
   "execution_count": 1,
   "metadata": {
    "execution": {
     "iopub.execute_input": "2020-08-13T00:43:59.171383Z",
     "iopub.status.busy": "2020-08-13T00:43:59.170422Z",
     "iopub.status.idle": "2020-08-13T00:43:59.998872Z",
     "shell.execute_reply": "2020-08-13T00:43:59.997878Z"
    }
   },
   "outputs": [],
   "source": [
    "import pandas as pd\n",
    "import numpy as np\n",
    "import matplotlib.pyplot as plt\n",
    "from collections import defaultdict \n",
    "import seaborn as sns\n",
    "import matplotlib.cm as cm\n",
    "import scipy as scipy\n",
    "import random"
   ]
  },
  {
   "cell_type": "markdown",
   "metadata": {
    "jupyter": {
     "source_hidden": true
    }
   },
   "source": [
    "### Importing datasets \n",
    "\n",
    "#### Link to the github repo where the datasets to be downloaded:\n",
    "[DOWNLOAD THE DATASETS HERE](https://github.com/leilaicruz/machine-learning-for-yeast/tree/dev_Leila/datasets-for-learning)"
   ]
  },
  {
   "cell_type": "code",
   "execution_count": 2,
   "metadata": {
    "execution": {
     "iopub.execute_input": "2020-08-13T00:44:00.005874Z",
     "iopub.status.busy": "2020-08-13T00:44:00.004918Z",
     "iopub.status.idle": "2020-08-13T00:44:07.712734Z",
     "shell.execute_reply": "2020-08-13T00:44:07.712187Z"
    }
   },
   "outputs": [],
   "source": [
    "import os\n",
    "script_dir = os.path.dirname('__file__') #<-- absolute dir the script is in\n",
    "rel_path_SL = \"datasets/data-synthetic-lethals.xlsx\"\n",
    "rel_path_nSL=\"datasets/data-positive-genetic.xlsx\"\n",
    "rel_path_domains=\"datasets/proteins-domains-from-Pfam.xlsx\"\n",
    "\n",
    "abs_file_path_SL = os.path.join(script_dir, rel_path_SL)\n",
    "abs_file_path_nSL = os.path.join(script_dir, rel_path_nSL)\n",
    "abs_file_path_domains = os.path.join(script_dir, rel_path_domains)\n",
    "\n",
    "# os.chdir('mini_book/docs/') #<-- for binder os.chdir('../')\n",
    "# os.chdir('../')\n",
    "my_path_sl= abs_file_path_SL\n",
    "my_path_non_sl=abs_file_path_nSL\n",
    "my_path_domains=abs_file_path_domains\n",
    "\n",
    "data_sl=pd.read_excel(my_path_sl,header=0)\n",
    "data_domains=pd.read_excel(my_path_domains,header=0,index_col='Unnamed: 0')\n",
    "data_domains=data_domains.dropna()\n",
    "data_nonsl=pd.read_excel(my_path_non_sl,header=0)"
   ]
  },
  {
   "cell_type": "markdown",
   "metadata": {},
   "source": [
    "## Building the feature matrix\n",
    "One matrix for true SL where each row is one pair of SL. Every raw will be a vector of 0,1 or 2 depending on the comparison with the domain list. For row i the jth element = 0 if the jth element of the domain list is not in neither protein A and B, 1, if it is in one of them and 2 if it is in both of them .\n",
    "\n",
    "### Building the list of proteins domains id per protein pair separately :\n",
    "- List of protein A: Search for the Sl/nSL database the query gene name and look in the protein domain database which protein domains id has each of those queries.\n",
    "- List of protein B: Search for the Sl/nSL database the target gene name of the previous query and look in the protein domain database which protein domains id has each of those target genes."
   ]
  },
  {
   "cell_type": "code",
   "execution_count": 3,
   "metadata": {
    "execution": {
     "iopub.execute_input": "2020-08-13T00:44:08.886375Z",
     "iopub.status.busy": "2020-08-13T00:44:08.605252Z",
     "iopub.status.idle": "2020-08-13T00:44:09.447555Z",
     "shell.execute_reply": "2020-08-13T00:44:09.446431Z"
    }
   },
   "outputs": [],
   "source": [
    "# Selecting the meaningful columns in the respective dataset\n",
    "domain_id_list=data_domains['domain-name']\n",
    "query_gene=data_sl['gene-query-name']\n",
    "target_gene=data_sl['gene-target-name']\n",
    "query_gene_nonlethal=data_nonsl['gene-query-name']\n",
    "target_gene_nonlethal=data_nonsl['gene-target-name']\n",
    "\n",
    "\n",
    "\n",
    "# Initialising the arrays\n",
    "protein_a_list=[]\n",
    "protein_b_list=[]\n",
    "protein_a_list_non=[]\n",
    "protein_b_list_non=[]\n",
    "\n",
    "population = np.arange(0,len(data_sl))\n",
    "\n",
    "# For loop for 10000 pairs sampled randomly from the SL/nSl pair list , and creating a big array of proteind domains id per protein pair\n",
    "\n",
    "for m in random.sample(list(population), 500):\n",
    "    protein_a=data_domains[data_domains['name']==query_gene[m]]\n",
    "    protein_b=data_domains[data_domains['name']==target_gene[m]]\n",
    "    protein_a_list.append(protein_a['domain-name'].tolist())\n",
    "    protein_b_list.append(protein_b['domain-name'].tolist())\n",
    "\n",
    "    protein_a_non=data_domains[data_domains['name']==query_gene_nonlethal[m]]\n",
    "    protein_b_non=data_domains[data_domains['name']==target_gene_nonlethal[m]]\n",
    "    protein_a_list_non.append(protein_a_non['domain-name'].tolist())\n",
    "    protein_b_list_non.append(protein_b_non['domain-name'].tolist())"
   ]
  },
  {
   "cell_type": "code",
   "execution_count": 4,
   "metadata": {
    "execution": {
     "iopub.execute_input": "2020-08-13T00:44:09.452079Z",
     "iopub.status.busy": "2020-08-13T00:44:09.451263Z",
     "iopub.status.idle": "2020-08-13T00:44:09.454977Z",
     "shell.execute_reply": "2020-08-13T00:44:09.455289Z"
    }
   },
   "outputs": [
    {
     "name": "stdout",
     "output_type": "stream",
     "text": [
      "We are going to analyze 500 protein pairs, out of 17871 SL protein pairs\n",
      "We are going to analyze 500 protein pairs, out of 43340 positive protein pairs\n"
     ]
    }
   ],
   "source": [
    "print('We are going to analyze',len((protein_a_list)) ,'protein pairs, out of',len(data_sl),'SL protein pairs')\n",
    "print('We are going to analyze',len((protein_a_list_non)) ,'protein pairs, out of',len(data_nonsl),'positive protein pairs')"
   ]
  },
  {
   "cell_type": "markdown",
   "metadata": {},
   "source": [
    "### Postprocessing #1:  Remove protein pairs from study if either protein in the pair does not contain any domain"
   ]
  },
  {
   "cell_type": "code",
   "execution_count": 5,
   "metadata": {
    "execution": {
     "iopub.execute_input": "2020-08-13T00:44:09.462390Z",
     "iopub.status.busy": "2020-08-13T00:44:09.461972Z",
     "iopub.status.idle": "2020-08-13T00:44:09.465303Z",
     "shell.execute_reply": "2020-08-13T00:44:09.464846Z"
    }
   },
   "outputs": [],
   "source": [
    "def remove_empty_domains(protein_list_search,protein_list_pair):\n",
    "    index=[]\n",
    "    for i in np.arange(0,len(protein_list_search)):\n",
    "        if protein_list_search[i]==[] or protein_list_pair[i]==[]:\n",
    "            index.append(i) ## index of empty values for the protein_a_list meaning they dont have any annotated domain\n",
    "\n",
    "    y=[x for x in np.arange(0,len(protein_list_search)) if x not in index] # a list with non empty values from protein_a list\n",
    "\n",
    "    protein_list_search_new=[]\n",
    "    protein_list_pair_new=[]\n",
    "    for i in y:\n",
    "        protein_list_search_new.append(protein_list_search[i])\n",
    "        protein_list_pair_new.append(protein_list_pair[i])\n",
    "    return protein_list_search_new,protein_list_pair_new\n",
    "\n",
    "## evaluating the function\n",
    "\n",
    "protein_a_list_new,protein_b_list_new=remove_empty_domains(protein_a_list,protein_b_list)\n",
    "\n",
    "protein_a_list_non_new,protein_b_list_non_new=remove_empty_domains(protein_a_list_non,protein_b_list_non)"
   ]
  },
  {
   "cell_type": "code",
   "execution_count": 6,
   "metadata": {
    "execution": {
     "iopub.execute_input": "2020-08-13T00:44:09.469276Z",
     "iopub.status.busy": "2020-08-13T00:44:09.468784Z",
     "iopub.status.idle": "2020-08-13T00:44:09.472557Z",
     "shell.execute_reply": "2020-08-13T00:44:09.472175Z"
    }
   },
   "outputs": [
    {
     "name": "stdout",
     "output_type": "stream",
     "text": [
      "The empty domain in the SL were: 68 out of 500 domains\n",
      "The empty domain in the nSL were: 77 out of 500 domains\n"
     ]
    }
   ],
   "source": [
    "print('The empty domain in the SL were:', len(protein_a_list)-len(protein_a_list_new), 'out of', len(protein_a_list),'domains')\n",
    "print('The empty domain in the nSL were:', len(protein_a_list_non)-len(protein_a_list_non_new), 'out of', len(protein_a_list_non),'domains')"
   ]
  },
  {
   "cell_type": "markdown",
   "metadata": {},
   "source": [
    "### Feature engineering: Select from each ordered indexes of domain id list which of them appear once, in both or in any of the domains of each protein pair"
   ]
  },
  {
   "cell_type": "markdown",
   "metadata": {},
   "source": [
    "#### Define function `get_indexes`"
   ]
  },
  {
   "cell_type": "code",
   "execution_count": 7,
   "metadata": {
    "execution": {
     "iopub.execute_input": "2020-08-13T00:44:09.478090Z",
     "iopub.status.busy": "2020-08-13T00:44:09.477622Z",
     "iopub.status.idle": "2020-08-13T00:44:09.482267Z",
     "shell.execute_reply": "2020-08-13T00:44:09.481856Z"
    }
   },
   "outputs": [
    {
     "data": {
      "text/plain": [
       "[1, 2]"
      ]
     },
     "execution_count": 7,
     "metadata": {},
     "output_type": "execute_result"
    }
   ],
   "source": [
    "get_indexes = lambda x, xs: [i for (y, i) in zip(xs, range(len(xs))) if x == y] # a function that give the index of whether a value appear in array or not\n",
    "a=[1,2,2,4,5,6,7,8,9,10]\n",
    "get_indexes(2,a)"
   ]
  },
  {
   "cell_type": "code",
   "execution_count": 8,
   "metadata": {
    "execution": {
     "iopub.execute_input": "2020-08-13T00:44:09.489919Z",
     "iopub.status.busy": "2020-08-13T00:44:09.488843Z",
     "iopub.status.idle": "2020-08-13T00:44:09.490574Z",
     "shell.execute_reply": "2020-08-13T00:44:09.490979Z"
    }
   },
   "outputs": [],
   "source": [
    "def feature_building(protein_a_list_new,protein_b_list_new):\n",
    "    x = np.unique(domain_id_list)\n",
    "    ## To avoid taking repeated domains from one protein of the pairs , lets reduced the domains of each protein from the pairs to their unique members\n",
    "    protein_a_list_unique=[]\n",
    "    protein_b_list_unique=[]\n",
    "    for i in np.arange(0,len(protein_a_list_new)):\n",
    "        protein_a_list_unique.append(np.unique(protein_a_list_new[i]))\n",
    "        protein_b_list_unique.append(np.unique(protein_b_list_new[i]))\n",
    "        \n",
    "    protein_feat_true=np.zeros(shape=(len(x),len(protein_a_list_unique)))\n",
    "    pair_a_b_array=[]\n",
    "    for i in np.arange(0,len(protein_a_list_unique)):\n",
    "        index_a=[]\n",
    "        \n",
    "        pair=[protein_a_list_unique[i],protein_b_list_unique[i]]\n",
    "        pair_a_b=np.concatenate(pair).ravel()\n",
    "        pair_a_b_array.append(pair_a_b)\n",
    "\n",
    "    j=0\n",
    "    for i in pair_a_b_array:  \n",
    "        array,index,counts=np.unique(i,return_index=True,return_counts=True)\n",
    "        \n",
    "        for k,m in zip(counts,array):\n",
    "            if k ==2:\n",
    "                protein_feat_true[get_indexes(m,x),j]=2\n",
    "                \n",
    "            if k==1:\n",
    "                protein_feat_true[get_indexes(m,x),j]=1\n",
    "        j=j+1\n",
    "    return protein_feat_true"
   ]
  },
  {
   "cell_type": "code",
   "execution_count": 9,
   "metadata": {
    "execution": {
     "iopub.execute_input": "2020-08-13T00:44:09.499416Z",
     "iopub.status.busy": "2020-08-13T00:44:09.498884Z",
     "iopub.status.idle": "2020-08-13T00:44:10.047212Z",
     "shell.execute_reply": "2020-08-13T00:44:10.046686Z"
    }
   },
   "outputs": [],
   "source": [
    "protein_feat_true=feature_building(protein_b_list_new=protein_b_list_new,protein_a_list_new=protein_a_list_new)\n",
    "protein_feat_true_pd=pd.DataFrame(protein_feat_true.T)\n",
    "\n",
    "protein_feat_non_true=feature_building(protein_b_list_new=protein_b_list_non_new,protein_a_list_new=protein_a_list_non_new)\n",
    "protein_feat_non_true_pd=pd.DataFrame(protein_feat_non_true.T)"
   ]
  },
  {
   "cell_type": "markdown",
   "metadata": {},
   "source": [
    "### How many ones and twos are in each dataset"
   ]
  },
  {
   "cell_type": "code",
   "execution_count": 10,
   "metadata": {
    "execution": {
     "iopub.execute_input": "2020-08-13T00:44:10.053215Z",
     "iopub.status.busy": "2020-08-13T00:44:10.052613Z",
     "iopub.status.idle": "2020-08-13T00:44:10.150056Z",
     "shell.execute_reply": "2020-08-13T00:44:10.149567Z"
    }
   },
   "outputs": [
    {
     "name": "stdout",
     "output_type": "stream",
     "text": [
      "fraction of twos in the SL array is 2.219161310070401e-05\n",
      "fraction of ones in the SL array is 0.0009840832568105296\n",
      "fraction of twos in the PI array is 3.1260379422855246e-06\n",
      "fraction of ones in the PI array is 0.0009198366645175156\n"
     ]
    }
   ],
   "source": [
    "index_2_true=protein_feat_true_pd.where(protein_feat_true_pd==2)\n",
    "index_2_true_count=index_2_true.count(axis=1).sum()\n",
    "\n",
    "index_1_true=protein_feat_true_pd.where(protein_feat_true_pd==1)\n",
    "index_1_true_count=index_1_true.count(axis=1).sum()\n",
    "\n",
    "index_2_nontrue=protein_feat_non_true_pd.where(protein_feat_non_true_pd==2)\n",
    "index_2_nontrue_count=index_2_nontrue.count(axis=1).sum()\n",
    "\n",
    "index_1_nontrue=protein_feat_non_true_pd.where(protein_feat_non_true_pd==1)\n",
    "index_1_nontrue_count=index_1_nontrue.count(axis=1).sum()\n",
    "\n",
    "\n",
    "print('fraction of twos in the SL array is',index_2_true_count/(len(protein_feat_true_pd.index)*len(protein_feat_true_pd.columns)))\n",
    "print('fraction of ones in the SL array is',index_1_true_count/(len(protein_feat_true_pd.index)*len(protein_feat_true_pd.columns)))\n",
    "print('fraction of twos in the PI array is',index_2_nontrue_count/(len(protein_feat_non_true_pd.index)*len(protein_feat_non_true_pd.columns)))\n",
    "print('fraction of ones in the PI array is',index_1_nontrue_count/(len(protein_feat_non_true_pd.index)*len(protein_feat_non_true_pd.columns)))"
   ]
  },
  {
   "cell_type": "markdown",
   "metadata": {},
   "source": [
    "#### Bar plot to visualize these numbers"
   ]
  },
  {
   "cell_type": "code",
   "execution_count": 11,
   "metadata": {
    "execution": {
     "iopub.execute_input": "2020-08-13T00:44:10.167201Z",
     "iopub.status.busy": "2020-08-13T00:44:10.165361Z",
     "iopub.status.idle": "2020-08-13T00:44:10.640212Z",
     "shell.execute_reply": "2020-08-13T00:44:10.639401Z"
    }
   },
   "outputs": [
    {
     "data": {
      "text/plain": [
       "([0, 1, 2, 3],\n",
       " [Text(0, 0, ''), Text(0, 0, ''), Text(0, 0, ''), Text(0, 0, '')])"
      ]
     },
     "execution_count": 11,
     "metadata": {},
     "output_type": "execute_result"
    },
    {
     "data": {
      "image/png": "[encoded data removed]",
      "text/plain": [
       "<Figure size 432x288 with 1 Axes>"
      ]
     },
     "metadata": {
      "filenames": {
       "image/png": "/home/runner/work/jupyter-book/jupyter-book/mini_book/docs/_build/jupyter_execute/prot_domains2lethality-FEATURES-POSTPROCESSING_18_1.png"
      },
      "needs_background": "light"
     },
     "output_type": "display_data"
    }
   ],
   "source": [
    "plt.bar(['fraction of 2 in the nSL','fraction of 1 in the nSL'],[index_2_nontrue_count/(len(protein_feat_non_true_pd.index)*len(protein_feat_non_true_pd.columns)),index_1_nontrue_count/(len(protein_feat_non_true_pd.index)*len(protein_feat_non_true_pd.columns))],alpha=0.6,color=['blue','lightblue']), \n",
    "\n",
    "plt.bar(['fraction of 2 in SL ','fraction of 1 in SL'],[index_2_true_count/(len(protein_feat_true_pd.index)*len(protein_feat_true_pd.columns)),index_1_true_count/(len(protein_feat_true_pd.index)*len(protein_feat_true_pd.columns))],alpha=0.6,color=['coral','lightcoral'])\n",
    "\n",
    "plt.ylabel('Fraction from the population')\n",
    "plt.yscale('log')\n",
    "plt.xticks(rotation=40)"
   ]
  },
  {
   "cell_type": "markdown",
   "metadata": {},
   "source": [
    "#### Adding the labels(response variables) to each dataset"
   ]
  },
  {
   "cell_type": "code",
   "execution_count": 12,
   "metadata": {
    "execution": {
     "iopub.execute_input": "2020-08-13T00:44:10.647653Z",
     "iopub.status.busy": "2020-08-13T00:44:10.647044Z",
     "iopub.status.idle": "2020-08-13T00:44:10.651482Z",
     "shell.execute_reply": "2020-08-13T00:44:10.650647Z"
    }
   },
   "outputs": [],
   "source": [
    "protein_feat_true_pd['lethality']=np.ones(shape=(len(protein_a_list_new)))\n",
    "protein_feat_non_true_pd['lethality']=np.zeros(shape=(len(protein_a_list_non_new)))"
   ]
  },
  {
   "cell_type": "markdown",
   "metadata": {},
   "source": [
    "#### Joining both datasets"
   ]
  },
  {
   "cell_type": "code",
   "execution_count": 13,
   "metadata": {
    "execution": {
     "iopub.execute_input": "2020-08-13T00:44:10.656820Z",
     "iopub.status.busy": "2020-08-13T00:44:10.656224Z",
     "iopub.status.idle": "2020-08-13T00:44:10.706794Z",
     "shell.execute_reply": "2020-08-13T00:44:10.707324Z"
    }
   },
   "outputs": [
    {
     "name": "stdout",
     "output_type": "stream",
     "text": [
      "The number of features are: 3026\n",
      "The number of samples are: 855\n"
     ]
    }
   ],
   "source": [
    "feature_post=pd.concat([protein_feat_true_pd,protein_feat_non_true_pd],axis=0)\n",
    "feature_post=feature_post.set_index(np.arange(0,len(protein_a_list_new)+len(protein_a_list_non_new)))\n",
    "print('The number of features are:',feature_post.shape[1])\n",
    "print('The number of samples are:',feature_post.shape[0])"
   ]
  },
  {
   "cell_type": "markdown",
   "metadata": {},
   "source": [
    "### Postprocessing and exploration of the feature matrix of both datasets"
   ]
  },
  {
   "cell_type": "code",
   "execution_count": 14,
   "metadata": {
    "execution": {
     "iopub.execute_input": "2020-08-13T00:44:10.730448Z",
     "iopub.status.busy": "2020-08-13T00:44:10.728841Z",
     "iopub.status.idle": "2020-08-13T00:44:14.518303Z",
     "shell.execute_reply": "2020-08-13T00:44:14.517744Z"
    }
   },
   "outputs": [],
   "source": [
    "mean=feature_post.T.describe().loc['mean']\n",
    "std=feature_post.T.describe().loc['std']\n",
    "lethality=feature_post['lethality']\n",
    "\n",
    "corr_keys=pd.concat([mean,std,lethality],axis=1)"
   ]
  },
  {
   "cell_type": "markdown",
   "metadata": {},
   "source": [
    "### Viz of the stats"
   ]
  },
  {
   "cell_type": "code",
   "execution_count": 15,
   "metadata": {
    "execution": {
     "iopub.execute_input": "2020-08-13T00:44:14.536738Z",
     "iopub.status.busy": "2020-08-13T00:44:14.534653Z",
     "iopub.status.idle": "2020-08-13T00:44:15.863044Z",
     "shell.execute_reply": "2020-08-13T00:44:15.862539Z"
    }
   },
   "outputs": [
    {
     "data": {
      "text/plain": [
       "Text(0.5, 1.08, 'Pairplot to see data dependencies with Lethality')"
      ]
     },
     "execution_count": 15,
     "metadata": {},
     "output_type": "execute_result"
    },
    {
     "data": {
      "image/png": "[encoded data removed]",
      "text/plain": [
       "<Figure size 412x360 with 6 Axes>"
      ]
     },
     "metadata": {
      "filenames": {
       "image/png": "/home/runner/work/jupyter-book/jupyter-book/mini_book/docs/_build/jupyter_execute/prot_domains2lethality-FEATURES-POSTPROCESSING_26_1.png"
      },
      "needs_background": "light"
     },
     "output_type": "display_data"
    }
   ],
   "source": [
    "pair=sns.pairplot(corr_keys,hue='lethality',diag_kind='kde',kind='reg',palette='colorblind')\n",
    "pair.fig.suptitle('Pairplot to see data dependencies with Lethality',y=1.08)"
   ]
  },
  {
   "cell_type": "code",
   "execution_count": 16,
   "metadata": {
    "execution": {
     "iopub.execute_input": "2020-08-13T00:44:15.873809Z",
     "iopub.status.busy": "2020-08-13T00:44:15.873173Z",
     "iopub.status.idle": "2020-08-13T00:44:15.876683Z",
     "shell.execute_reply": "2020-08-13T00:44:15.877175Z"
    }
   },
   "outputs": [],
   "source": [
    "X, y = feature_post.drop(columns=[\"lethality\"]), feature_post[\"lethality\"]"
   ]
  },
  {
   "cell_type": "code",
   "execution_count": 17,
   "metadata": {
    "execution": {
     "iopub.execute_input": "2020-08-13T00:44:15.881918Z",
     "iopub.status.busy": "2020-08-13T00:44:15.880858Z",
     "iopub.status.idle": "2020-08-13T00:44:16.089804Z",
     "shell.execute_reply": "2020-08-13T00:44:16.090750Z"
    }
   },
   "outputs": [],
   "source": [
    "from sklearn.preprocessing import StandardScaler\n",
    "scaler = StandardScaler()\n",
    "x_sl=protein_feat_true_pd.drop(columns=['lethality'])\n",
    "x_nsl=protein_feat_non_true_pd.drop(columns=['lethality'])\n",
    "\n",
    "X_sl_scaled = scaler.fit_transform(x_sl)\n",
    "X_nsl_scaled = scaler.fit_transform(x_nsl)"
   ]
  },
  {
   "cell_type": "code",
   "execution_count": 18,
   "metadata": {
    "execution": {
     "iopub.execute_input": "2020-08-13T00:44:16.095159Z",
     "iopub.status.busy": "2020-08-13T00:44:16.094442Z",
     "iopub.status.idle": "2020-08-13T00:44:16.099034Z",
     "shell.execute_reply": "2020-08-13T00:44:16.098664Z"
    }
   },
   "outputs": [
    {
     "data": {
      "text/plain": [
       "(432, 3025)"
      ]
     },
     "execution_count": 18,
     "metadata": {},
     "output_type": "execute_result"
    }
   ],
   "source": [
    "np.shape(X_sl_scaled)"
   ]
  },
  {
   "cell_type": "markdown",
   "metadata": {},
   "source": [
    "## How redundant are each of the protein domains?"
   ]
  },
  {
   "cell_type": "code",
   "execution_count": 19,
   "metadata": {
    "execution": {
     "iopub.execute_input": "2020-08-13T00:44:16.104764Z",
     "iopub.status.busy": "2020-08-13T00:44:16.104213Z",
     "iopub.status.idle": "2020-08-13T00:44:16.106940Z",
     "shell.execute_reply": "2020-08-13T00:44:16.107465Z"
    }
   },
   "outputs": [],
   "source": [
    "def PCA_component_contribution(scaled_matrix,original_data):\n",
    "    from sklearn.decomposition import PCA\n",
    "\n",
    "    model = PCA(0.95).fit(scaled_matrix)\n",
    "    ## apply dimensionality reduction to X_train\n",
    "    output_pca = model.transform(scaled_matrix)\n",
    "    \n",
    "    total=sum(model.explained_variance_)\n",
    "\n",
    "\n",
    "   \n",
    "    # number of components , that it will be the number of main axes times the number of original components \n",
    "    n_pcs= model.components_.shape[0] # the amount of non redundant protein domains \n",
    "\n",
    "    # get the index of the most important feature on EACH component\n",
    "    # LIST COMPREHENSION HERE\n",
    "    most_important = [np.abs(model.components_[i]).argmax() for i in range(n_pcs)]\n",
    "\n",
    "    initial_feature_names = original_data.columns\n",
    "    # get the names\n",
    "    most_important_names = [initial_feature_names[most_important[i]] for i in range(n_pcs)]\n",
    "    \n",
    "\n",
    "    # LIST COMPREHENSION HERE AGAIN\n",
    "    dic = {'PC{}'.format(i): most_important_names[i] for i in range(n_pcs)}\n",
    "\n",
    "    # build the dataframe\n",
    "    df = pd.DataFrame(dic.items(),columns=['pca-component','domain-number'])\n",
    "\n",
    "    return df,model.components_"
   ]
  },
  {
   "cell_type": "code",
   "execution_count": 20,
   "metadata": {
    "execution": {
     "iopub.execute_input": "2020-08-13T00:44:16.110949Z",
     "iopub.status.busy": "2020-08-13T00:44:16.110121Z",
     "iopub.status.idle": "2020-08-13T00:44:16.681853Z",
     "shell.execute_reply": "2020-08-13T00:44:16.682279Z"
    }
   },
   "outputs": [],
   "source": [
    "df_sl,components_pca_nsl=PCA_component_contribution(X_nsl_scaled,x_nsl)\n",
    "df_nsl,components_pca_sl=PCA_component_contribution(X_sl_scaled,x_sl)"
   ]
  },
  {
   "cell_type": "code",
   "execution_count": 21,
   "metadata": {
    "execution": {
     "iopub.execute_input": "2020-08-13T00:44:16.685536Z",
     "iopub.status.busy": "2020-08-13T00:44:16.684528Z",
     "iopub.status.idle": "2020-08-13T00:44:16.693827Z",
     "shell.execute_reply": "2020-08-13T00:44:16.694417Z"
    }
   },
   "outputs": [
    {
     "data": {
      "text/html": [
       "<div>\n",
       "<style scoped>\n",
       "    .dataframe tbody tr th:only-of-type {\n",
       "        vertical-align: middle;\n",
       "    }\n",
       "\n",
       "    .dataframe tbody tr th {\n",
       "        vertical-align: top;\n",
       "    }\n",
       "\n",
       "    .dataframe thead th {\n",
       "        text-align: right;\n",
       "    }\n",
       "</style>\n",
       "<table border=\"1\" class=\"dataframe\">\n",
       "  <thead>\n",
       "    <tr style=\"text-align: right;\">\n",
       "      <th></th>\n",
       "      <th>pca-component</th>\n",
       "      <th>domain-number</th>\n",
       "    </tr>\n",
       "  </thead>\n",
       "  <tbody>\n",
       "    <tr>\n",
       "      <th>0</th>\n",
       "      <td>PC0</td>\n",
       "      <td>305</td>\n",
       "    </tr>\n",
       "    <tr>\n",
       "      <th>1</th>\n",
       "      <td>PC1</td>\n",
       "      <td>135</td>\n",
       "    </tr>\n",
       "    <tr>\n",
       "      <th>2</th>\n",
       "      <td>PC2</td>\n",
       "      <td>858</td>\n",
       "    </tr>\n",
       "    <tr>\n",
       "      <th>3</th>\n",
       "      <td>PC3</td>\n",
       "      <td>1616</td>\n",
       "    </tr>\n",
       "    <tr>\n",
       "      <th>4</th>\n",
       "      <td>PC4</td>\n",
       "      <td>2</td>\n",
       "    </tr>\n",
       "  </tbody>\n",
       "</table>\n",
       "</div>"
      ],
      "text/plain": [
       "  pca-component  domain-number\n",
       "0           PC0            305\n",
       "1           PC1            135\n",
       "2           PC2            858\n",
       "3           PC3           1616\n",
       "4           PC4              2"
      ]
     },
     "execution_count": 21,
     "metadata": {},
     "output_type": "execute_result"
    }
   ],
   "source": [
    "df_sl.head()"
   ]
  },
  {
   "cell_type": "markdown",
   "metadata": {},
   "source": [
    "## which are the shared domains between nSL and SL pairs , in the PCA reduced samples"
   ]
  },
  {
   "cell_type": "code",
   "execution_count": 22,
   "metadata": {
    "execution": {
     "iopub.execute_input": "2020-08-13T00:44:16.697324Z",
     "iopub.status.busy": "2020-08-13T00:44:16.696370Z",
     "iopub.status.idle": "2020-08-13T00:44:16.722381Z",
     "shell.execute_reply": "2020-08-13T00:44:16.722947Z"
    }
   },
   "outputs": [
    {
     "data": {
      "text/html": [
       "<div>\n",
       "<style scoped>\n",
       "    .dataframe tbody tr th:only-of-type {\n",
       "        vertical-align: middle;\n",
       "    }\n",
       "\n",
       "    .dataframe tbody tr th {\n",
       "        vertical-align: top;\n",
       "    }\n",
       "\n",
       "    .dataframe thead th {\n",
       "        text-align: right;\n",
       "    }\n",
       "</style>\n",
       "<table border=\"1\" class=\"dataframe\">\n",
       "  <thead>\n",
       "    <tr style=\"text-align: right;\">\n",
       "      <th></th>\n",
       "      <th>pca-component_x</th>\n",
       "      <th>domain-number</th>\n",
       "      <th>pca-component_y</th>\n",
       "      <th>domain-description</th>\n",
       "    </tr>\n",
       "  </thead>\n",
       "  <tbody>\n",
       "    <tr>\n",
       "      <th>0</th>\n",
       "      <td>PC4</td>\n",
       "      <td>2</td>\n",
       "      <td>PC74</td>\n",
       "      <td>2-Hacid_dh; D-isomer specific 2-hydroxyacid de...</td>\n",
       "    </tr>\n",
       "    <tr>\n",
       "      <th>1</th>\n",
       "      <td>PC8</td>\n",
       "      <td>265</td>\n",
       "      <td>PC262</td>\n",
       "      <td>BCS1_N; BCS1, N-terminal</td>\n",
       "    </tr>\n",
       "    <tr>\n",
       "      <th>2</th>\n",
       "      <td>PC9</td>\n",
       "      <td>832</td>\n",
       "      <td>PC19</td>\n",
       "      <td>Ecl1; Life-span regulatory factor</td>\n",
       "    </tr>\n",
       "    <tr>\n",
       "      <th>3</th>\n",
       "      <td>PC12</td>\n",
       "      <td>274</td>\n",
       "      <td>PC13</td>\n",
       "      <td>BOP1NT; BOP1, N-terminal domain</td>\n",
       "    </tr>\n",
       "    <tr>\n",
       "      <th>4</th>\n",
       "      <td>PC15</td>\n",
       "      <td>10</td>\n",
       "      <td>PC38</td>\n",
       "      <td>4HBT; Thioesterase domain</td>\n",
       "    </tr>\n",
       "    <tr>\n",
       "      <th>5</th>\n",
       "      <td>PC23</td>\n",
       "      <td>463</td>\n",
       "      <td>PC30</td>\n",
       "      <td>Chitin_synth_1N; Chitin synthase N-terminal</td>\n",
       "    </tr>\n",
       "    <tr>\n",
       "      <th>6</th>\n",
       "      <td>PC24</td>\n",
       "      <td>463</td>\n",
       "      <td>PC30</td>\n",
       "      <td>Chitin_synth_1N; Chitin synthase N-terminal</td>\n",
       "    </tr>\n",
       "    <tr>\n",
       "      <th>7</th>\n",
       "      <td>PC43</td>\n",
       "      <td>281</td>\n",
       "      <td>PC45</td>\n",
       "      <td>BRCT_2; BRCT domain</td>\n",
       "    </tr>\n",
       "    <tr>\n",
       "      <th>8</th>\n",
       "      <td>PC71</td>\n",
       "      <td>1836</td>\n",
       "      <td>PC27</td>\n",
       "      <td>PTPLA; Protein-tyrosine phosphatase-like, PTPLA</td>\n",
       "    </tr>\n",
       "    <tr>\n",
       "      <th>9</th>\n",
       "      <td>PC71</td>\n",
       "      <td>1836</td>\n",
       "      <td>PC28</td>\n",
       "      <td>PTPLA; Protein-tyrosine phosphatase-like, PTPLA</td>\n",
       "    </tr>\n",
       "    <tr>\n",
       "      <th>10</th>\n",
       "      <td>PC73</td>\n",
       "      <td>410</td>\n",
       "      <td>PC23</td>\n",
       "      <td>CRAL_TRIO; CRAL-TRIO lipid binding domain</td>\n",
       "    </tr>\n",
       "    <tr>\n",
       "      <th>11</th>\n",
       "      <td>PC74</td>\n",
       "      <td>1</td>\n",
       "      <td>PC87</td>\n",
       "      <td>14-3-3; 14-3-3 domain</td>\n",
       "    </tr>\n",
       "    <tr>\n",
       "      <th>12</th>\n",
       "      <td>PC74</td>\n",
       "      <td>1</td>\n",
       "      <td>PC88</td>\n",
       "      <td>14-3-3; 14-3-3 domain</td>\n",
       "    </tr>\n",
       "    <tr>\n",
       "      <th>13</th>\n",
       "      <td>PC81</td>\n",
       "      <td>2266</td>\n",
       "      <td>PC148</td>\n",
       "      <td>Rrp15p; Ribosomal RNA-processing protein 15</td>\n",
       "    </tr>\n",
       "    <tr>\n",
       "      <th>14</th>\n",
       "      <td>PC84</td>\n",
       "      <td>2266</td>\n",
       "      <td>PC148</td>\n",
       "      <td>Rrp15p; Ribosomal RNA-processing protein 15</td>\n",
       "    </tr>\n",
       "    <tr>\n",
       "      <th>15</th>\n",
       "      <td>PC102</td>\n",
       "      <td>1072</td>\n",
       "      <td>PC82</td>\n",
       "      <td>Glycos_transf_1; Glycosyl transferase, family 1</td>\n",
       "    </tr>\n",
       "    <tr>\n",
       "      <th>16</th>\n",
       "      <td>PC103</td>\n",
       "      <td>780</td>\n",
       "      <td>PC8</td>\n",
       "      <td>E3_binding; E3-binding domain</td>\n",
       "    </tr>\n",
       "    <tr>\n",
       "      <th>17</th>\n",
       "      <td>PC104</td>\n",
       "      <td>65</td>\n",
       "      <td>PC56</td>\n",
       "      <td>AIM3; Altered inheritance of mitochondria prot...</td>\n",
       "    </tr>\n",
       "    <tr>\n",
       "      <th>18</th>\n",
       "      <td>PC105</td>\n",
       "      <td>1217</td>\n",
       "      <td>PC69</td>\n",
       "      <td>IMS_C; DNA polymerase, Y-family, little finger...</td>\n",
       "    </tr>\n",
       "    <tr>\n",
       "      <th>19</th>\n",
       "      <td>PC112</td>\n",
       "      <td>41</td>\n",
       "      <td>PC110</td>\n",
       "      <td>ABC_tran; ABC transporter-like</td>\n",
       "    </tr>\n",
       "    <tr>\n",
       "      <th>20</th>\n",
       "      <td>PC131</td>\n",
       "      <td>1663</td>\n",
       "      <td>PC92</td>\n",
       "      <td>ORC5_C; Origin recognition complex, subunit 5</td>\n",
       "    </tr>\n",
       "    <tr>\n",
       "      <th>21</th>\n",
       "      <td>PC141</td>\n",
       "      <td>4</td>\n",
       "      <td>PC209</td>\n",
       "      <td>2-oxoacid_dh; 2-oxoacid dehydrogenase acyltran...</td>\n",
       "    </tr>\n",
       "    <tr>\n",
       "      <th>22</th>\n",
       "      <td>PC142</td>\n",
       "      <td>2371</td>\n",
       "      <td>PC150</td>\n",
       "      <td>SPT2; Chromatin SPT2</td>\n",
       "    </tr>\n",
       "    <tr>\n",
       "      <th>23</th>\n",
       "      <td>PC145</td>\n",
       "      <td>1745</td>\n",
       "      <td>PC255</td>\n",
       "      <td>PHM7_cyt; 10TM putative phosphate transporter,...</td>\n",
       "    </tr>\n",
       "    <tr>\n",
       "      <th>24</th>\n",
       "      <td>PC157</td>\n",
       "      <td>412</td>\n",
       "      <td>PC53</td>\n",
       "      <td>CRAL_TRIO_N; CRAL/TRIO, N-terminal domain</td>\n",
       "    </tr>\n",
       "    <tr>\n",
       "      <th>25</th>\n",
       "      <td>PC163</td>\n",
       "      <td>1061</td>\n",
       "      <td>PC80</td>\n",
       "      <td>Glyco_tran_28_C; Glycosyl transferase, family ...</td>\n",
       "    </tr>\n",
       "    <tr>\n",
       "      <th>26</th>\n",
       "      <td>PC178</td>\n",
       "      <td>2359</td>\n",
       "      <td>PC158</td>\n",
       "      <td>SOG2; RAM signalling pathway, SOG2</td>\n",
       "    </tr>\n",
       "    <tr>\n",
       "      <th>27</th>\n",
       "      <td>PC180</td>\n",
       "      <td>1772</td>\n",
       "      <td>PC289</td>\n",
       "      <td>PINIT; PINIT domain</td>\n",
       "    </tr>\n",
       "    <tr>\n",
       "      <th>28</th>\n",
       "      <td>PC183</td>\n",
       "      <td>363</td>\n",
       "      <td>PC204</td>\n",
       "      <td>CLP1_P; Polyribonucleotide 5&amp;apos;-hydroxyl-ki...</td>\n",
       "    </tr>\n",
       "    <tr>\n",
       "      <th>29</th>\n",
       "      <td>PC186</td>\n",
       "      <td>161</td>\n",
       "      <td>PC94</td>\n",
       "      <td>Acyl-CoA_ox_N; Acyl-coenzyme A oxidase, N-term...</td>\n",
       "    </tr>\n",
       "    <tr>\n",
       "      <th>30</th>\n",
       "      <td>PC195</td>\n",
       "      <td>432</td>\n",
       "      <td>PC112</td>\n",
       "      <td>CT_A_B; Carboxyltransferase domain, subdomain ...</td>\n",
       "    </tr>\n",
       "    <tr>\n",
       "      <th>31</th>\n",
       "      <td>PC195</td>\n",
       "      <td>432</td>\n",
       "      <td>PC116</td>\n",
       "      <td>CT_A_B; Carboxyltransferase domain, subdomain ...</td>\n",
       "    </tr>\n",
       "    <tr>\n",
       "      <th>32</th>\n",
       "      <td>PC197</td>\n",
       "      <td>30</td>\n",
       "      <td>PC127</td>\n",
       "      <td>AAR2; A1 cistron-splicing factor, AAR2</td>\n",
       "    </tr>\n",
       "    <tr>\n",
       "      <th>33</th>\n",
       "      <td>PC225</td>\n",
       "      <td>1492</td>\n",
       "      <td>PC182</td>\n",
       "      <td>MitMem_reg; Rpn11/EIF3F, C-terminal</td>\n",
       "    </tr>\n",
       "    <tr>\n",
       "      <th>34</th>\n",
       "      <td>PC231</td>\n",
       "      <td>2043</td>\n",
       "      <td>PC186</td>\n",
       "      <td>RNase_P_pop3; RNase P, subunit Pop3</td>\n",
       "    </tr>\n",
       "    <tr>\n",
       "      <th>35</th>\n",
       "      <td>PC249</td>\n",
       "      <td>2667</td>\n",
       "      <td>PC253</td>\n",
       "      <td>ThrE; Putative threonine/serine exporter</td>\n",
       "    </tr>\n",
       "    <tr>\n",
       "      <th>36</th>\n",
       "      <td>PC249</td>\n",
       "      <td>2667</td>\n",
       "      <td>PC264</td>\n",
       "      <td>ThrE; Putative threonine/serine exporter</td>\n",
       "    </tr>\n",
       "    <tr>\n",
       "      <th>37</th>\n",
       "      <td>PC249</td>\n",
       "      <td>2667</td>\n",
       "      <td>PC274</td>\n",
       "      <td>ThrE; Putative threonine/serine exporter</td>\n",
       "    </tr>\n",
       "    <tr>\n",
       "      <th>38</th>\n",
       "      <td>PC263</td>\n",
       "      <td>1784</td>\n",
       "      <td>PC216</td>\n",
       "      <td>PMP1_2; Plasma membrane ATPase proteolipid</td>\n",
       "    </tr>\n",
       "    <tr>\n",
       "      <th>39</th>\n",
       "      <td>PC270</td>\n",
       "      <td>1500</td>\n",
       "      <td>PC172</td>\n",
       "      <td>Mnd1; Meiotic nuclear division protein 1</td>\n",
       "    </tr>\n",
       "    <tr>\n",
       "      <th>40</th>\n",
       "      <td>PC275</td>\n",
       "      <td>1500</td>\n",
       "      <td>PC172</td>\n",
       "      <td>Mnd1; Meiotic nuclear division protein 1</td>\n",
       "    </tr>\n",
       "    <tr>\n",
       "      <th>41</th>\n",
       "      <td>PC271</td>\n",
       "      <td>379</td>\n",
       "      <td>PC64</td>\n",
       "      <td>COG6</td>\n",
       "    </tr>\n",
       "    <tr>\n",
       "      <th>42</th>\n",
       "      <td>PC271</td>\n",
       "      <td>379</td>\n",
       "      <td>PC72</td>\n",
       "      <td>COG6</td>\n",
       "    </tr>\n",
       "    <tr>\n",
       "      <th>43</th>\n",
       "      <td>PC276</td>\n",
       "      <td>379</td>\n",
       "      <td>PC64</td>\n",
       "      <td>COG6</td>\n",
       "    </tr>\n",
       "    <tr>\n",
       "      <th>44</th>\n",
       "      <td>PC276</td>\n",
       "      <td>379</td>\n",
       "      <td>PC72</td>\n",
       "      <td>COG6</td>\n",
       "    </tr>\n",
       "    <tr>\n",
       "      <th>45</th>\n",
       "      <td>PC279</td>\n",
       "      <td>107</td>\n",
       "      <td>PC139</td>\n",
       "      <td>ATE_N; Arginine-tRNA-protein transferase, N-te...</td>\n",
       "    </tr>\n",
       "    <tr>\n",
       "      <th>46</th>\n",
       "      <td>PC280</td>\n",
       "      <td>568</td>\n",
       "      <td>PC260</td>\n",
       "      <td>DDE_1; DDE superfamily endonuclease domain</td>\n",
       "    </tr>\n",
       "  </tbody>\n",
       "</table>\n",
       "</div>"
      ],
      "text/plain": [
       "   pca-component_x  domain-number pca-component_y  \\\n",
       "0              PC4              2            PC74   \n",
       "1              PC8            265           PC262   \n",
       "2              PC9            832            PC19   \n",
       "3             PC12            274            PC13   \n",
       "4             PC15             10            PC38   \n",
       "5             PC23            463            PC30   \n",
       "6             PC24            463            PC30   \n",
       "7             PC43            281            PC45   \n",
       "8             PC71           1836            PC27   \n",
       "9             PC71           1836            PC28   \n",
       "10            PC73            410            PC23   \n",
       "11            PC74              1            PC87   \n",
       "12            PC74              1            PC88   \n",
       "13            PC81           2266           PC148   \n",
       "14            PC84           2266           PC148   \n",
       "15           PC102           1072            PC82   \n",
       "16           PC103            780             PC8   \n",
       "17           PC104             65            PC56   \n",
       "18           PC105           1217            PC69   \n",
       "19           PC112             41           PC110   \n",
       "20           PC131           1663            PC92   \n",
       "21           PC141              4           PC209   \n",
       "22           PC142           2371           PC150   \n",
       "23           PC145           1745           PC255   \n",
       "24           PC157            412            PC53   \n",
       "25           PC163           1061            PC80   \n",
       "26           PC178           2359           PC158   \n",
       "27           PC180           1772           PC289   \n",
       "28           PC183            363           PC204   \n",
       "29           PC186            161            PC94   \n",
       "30           PC195            432           PC112   \n",
       "31           PC195            432           PC116   \n",
       "32           PC197             30           PC127   \n",
       "33           PC225           1492           PC182   \n",
       "34           PC231           2043           PC186   \n",
       "35           PC249           2667           PC253   \n",
       "36           PC249           2667           PC264   \n",
       "37           PC249           2667           PC274   \n",
       "38           PC263           1784           PC216   \n",
       "39           PC270           1500           PC172   \n",
       "40           PC275           1500           PC172   \n",
       "41           PC271            379            PC64   \n",
       "42           PC271            379            PC72   \n",
       "43           PC276            379            PC64   \n",
       "44           PC276            379            PC72   \n",
       "45           PC279            107           PC139   \n",
       "46           PC280            568           PC260   \n",
       "\n",
       "                                   domain-description  \n",
       "0   2-Hacid_dh; D-isomer specific 2-hydroxyacid de...  \n",
       "1                            BCS1_N; BCS1, N-terminal  \n",
       "2                   Ecl1; Life-span regulatory factor  \n",
       "3                     BOP1NT; BOP1, N-terminal domain  \n",
       "4                           4HBT; Thioesterase domain  \n",
       "5         Chitin_synth_1N; Chitin synthase N-terminal  \n",
       "6         Chitin_synth_1N; Chitin synthase N-terminal  \n",
       "7                                 BRCT_2; BRCT domain  \n",
       "8     PTPLA; Protein-tyrosine phosphatase-like, PTPLA  \n",
       "9     PTPLA; Protein-tyrosine phosphatase-like, PTPLA  \n",
       "10          CRAL_TRIO; CRAL-TRIO lipid binding domain  \n",
       "11                              14-3-3; 14-3-3 domain  \n",
       "12                              14-3-3; 14-3-3 domain  \n",
       "13        Rrp15p; Ribosomal RNA-processing protein 15  \n",
       "14        Rrp15p; Ribosomal RNA-processing protein 15  \n",
       "15    Glycos_transf_1; Glycosyl transferase, family 1  \n",
       "16                      E3_binding; E3-binding domain  \n",
       "17  AIM3; Altered inheritance of mitochondria prot...  \n",
       "18  IMS_C; DNA polymerase, Y-family, little finger...  \n",
       "19                     ABC_tran; ABC transporter-like  \n",
       "20      ORC5_C; Origin recognition complex, subunit 5  \n",
       "21  2-oxoacid_dh; 2-oxoacid dehydrogenase acyltran...  \n",
       "22                               SPT2; Chromatin SPT2  \n",
       "23  PHM7_cyt; 10TM putative phosphate transporter,...  \n",
       "24          CRAL_TRIO_N; CRAL/TRIO, N-terminal domain  \n",
       "25  Glyco_tran_28_C; Glycosyl transferase, family ...  \n",
       "26                 SOG2; RAM signalling pathway, SOG2  \n",
       "27                                PINIT; PINIT domain  \n",
       "28  CLP1_P; Polyribonucleotide 5&apos;-hydroxyl-ki...  \n",
       "29  Acyl-CoA_ox_N; Acyl-coenzyme A oxidase, N-term...  \n",
       "30  CT_A_B; Carboxyltransferase domain, subdomain ...  \n",
       "31  CT_A_B; Carboxyltransferase domain, subdomain ...  \n",
       "32             AAR2; A1 cistron-splicing factor, AAR2  \n",
       "33                MitMem_reg; Rpn11/EIF3F, C-terminal  \n",
       "34                RNase_P_pop3; RNase P, subunit Pop3  \n",
       "35           ThrE; Putative threonine/serine exporter  \n",
       "36           ThrE; Putative threonine/serine exporter  \n",
       "37           ThrE; Putative threonine/serine exporter  \n",
       "38         PMP1_2; Plasma membrane ATPase proteolipid  \n",
       "39           Mnd1; Meiotic nuclear division protein 1  \n",
       "40           Mnd1; Meiotic nuclear division protein 1  \n",
       "41                                               COG6  \n",
       "42                                               COG6  \n",
       "43                                               COG6  \n",
       "44                                               COG6  \n",
       "45  ATE_N; Arginine-tRNA-protein transferase, N-te...  \n",
       "46         DDE_1; DDE superfamily endonuclease domain  "
      ]
     },
     "execution_count": 22,
     "metadata": {},
     "output_type": "execute_result"
    }
   ],
   "source": [
    "df_shared_domains=pd.merge(df_sl,df_nsl,how='inner',on='domain-number')\n",
    "domains_name=np.unique(data_domains['domain-name'])\n",
    "domains_description=np.unique(data_domains['domain-descrip'])\n",
    "\n",
    "df_shared_domains['domain-description']=domains_description[df_shared_domains['domain-number']]\n",
    "\n",
    "\n",
    "df_shared_domains"
   ]
  },
  {
   "cell_type": "code",
   "execution_count": 23,
   "metadata": {
    "execution": {
     "iopub.execute_input": "2020-08-13T00:44:16.725510Z",
     "iopub.status.busy": "2020-08-13T00:44:16.724593Z",
     "iopub.status.idle": "2020-08-13T00:44:16.730910Z",
     "shell.execute_reply": "2020-08-13T00:44:16.731502Z"
    }
   },
   "outputs": [
    {
     "name": "stdout",
     "output_type": "stream",
     "text": [
      "The number of shared domains between SL and nSL pairs,after PCA, is =  47 out of 584 so the 8.047945205479452 %\n"
     ]
    }
   ],
   "source": [
    "print('The number of shared domains between SL and nSL pairs,after PCA, is = ',len(df_shared_domains), 'out of', len(df_sl)+len(df_nsl), 'so the',100*len(df_shared_domains)/(len(df_sl)+len(df_nsl)),'%')"
   ]
  },
  {
   "cell_type": "markdown",
   "metadata": {},
   "source": [
    "## Domains exclusive to SL"
   ]
  },
  {
   "cell_type": "code",
   "execution_count": 24,
   "metadata": {
    "execution": {
     "iopub.execute_input": "2020-08-13T00:44:16.734074Z",
     "iopub.status.busy": "2020-08-13T00:44:16.733189Z",
     "iopub.status.idle": "2020-08-13T00:44:16.756784Z",
     "shell.execute_reply": "2020-08-13T00:44:16.757469Z"
    }
   },
   "outputs": [
    {
     "data": {
      "text/html": [
       "<div>\n",
       "<style scoped>\n",
       "    .dataframe tbody tr th:only-of-type {\n",
       "        vertical-align: middle;\n",
       "    }\n",
       "\n",
       "    .dataframe tbody tr th {\n",
       "        vertical-align: top;\n",
       "    }\n",
       "\n",
       "    .dataframe thead th {\n",
       "        text-align: right;\n",
       "    }\n",
       "</style>\n",
       "<table border=\"1\" class=\"dataframe\">\n",
       "  <thead>\n",
       "    <tr style=\"text-align: right;\">\n",
       "      <th></th>\n",
       "      <th>pca-component_x</th>\n",
       "      <th>domain-number</th>\n",
       "      <th>pca-component_y</th>\n",
       "      <th>domain-description</th>\n",
       "    </tr>\n",
       "  </thead>\n",
       "  <tbody>\n",
       "    <tr>\n",
       "      <th>0</th>\n",
       "      <td>PC0</td>\n",
       "      <td>305</td>\n",
       "      <td>NaN</td>\n",
       "      <td>Brr6_like_C_C; Brl1/Brr6 domain</td>\n",
       "    </tr>\n",
       "    <tr>\n",
       "      <th>1</th>\n",
       "      <td>PC1</td>\n",
       "      <td>135</td>\n",
       "      <td>NaN</td>\n",
       "      <td>ATP-synt_ab_Xtn; ATPsynthase alpha/beta subuni...</td>\n",
       "    </tr>\n",
       "    <tr>\n",
       "      <th>2</th>\n",
       "      <td>PC2</td>\n",
       "      <td>858</td>\n",
       "      <td>NaN</td>\n",
       "      <td>F420_oxidored; Pyrroline-5-carboxylate reducta...</td>\n",
       "    </tr>\n",
       "    <tr>\n",
       "      <th>3</th>\n",
       "      <td>PC3</td>\n",
       "      <td>1616</td>\n",
       "      <td>NaN</td>\n",
       "      <td>Nnf1; Polyamine-modulated factor 1/Kinetochore...</td>\n",
       "    </tr>\n",
       "    <tr>\n",
       "      <th>5</th>\n",
       "      <td>PC5</td>\n",
       "      <td>2082</td>\n",
       "      <td>NaN</td>\n",
       "      <td>RXT2_N; Transcriptional regulatory protein RXT...</td>\n",
       "    </tr>\n",
       "    <tr>\n",
       "      <th>...</th>\n",
       "      <td>...</td>\n",
       "      <td>...</td>\n",
       "      <td>...</td>\n",
       "      <td>...</td>\n",
       "    </tr>\n",
       "    <tr>\n",
       "      <th>295</th>\n",
       "      <td>PC288</td>\n",
       "      <td>592</td>\n",
       "      <td>NaN</td>\n",
       "      <td>DIL; Dilute domain</td>\n",
       "    </tr>\n",
       "    <tr>\n",
       "      <th>296</th>\n",
       "      <td>PC289</td>\n",
       "      <td>310</td>\n",
       "      <td>NaN</td>\n",
       "      <td>C1_1; Protein kinase C-like, phorbol ester/dia...</td>\n",
       "    </tr>\n",
       "    <tr>\n",
       "      <th>297</th>\n",
       "      <td>PC290</td>\n",
       "      <td>2532</td>\n",
       "      <td>NaN</td>\n",
       "      <td>Succ_DH_flav_C; Fumarate reductase/succinate d...</td>\n",
       "    </tr>\n",
       "    <tr>\n",
       "      <th>298</th>\n",
       "      <td>PC291</td>\n",
       "      <td>1587</td>\n",
       "      <td>NaN</td>\n",
       "      <td>NTF2; Nuclear transport factor 2</td>\n",
       "    </tr>\n",
       "    <tr>\n",
       "      <th>299</th>\n",
       "      <td>PC292</td>\n",
       "      <td>1587</td>\n",
       "      <td>NaN</td>\n",
       "      <td>NTF2; Nuclear transport factor 2</td>\n",
       "    </tr>\n",
       "  </tbody>\n",
       "</table>\n",
       "<p>253 rows × 4 columns</p>\n",
       "</div>"
      ],
      "text/plain": [
       "    pca-component_x  domain-number pca-component_y  \\\n",
       "0               PC0            305             NaN   \n",
       "1               PC1            135             NaN   \n",
       "2               PC2            858             NaN   \n",
       "3               PC3           1616             NaN   \n",
       "5               PC5           2082             NaN   \n",
       "..              ...            ...             ...   \n",
       "295           PC288            592             NaN   \n",
       "296           PC289            310             NaN   \n",
       "297           PC290           2532             NaN   \n",
       "298           PC291           1587             NaN   \n",
       "299           PC292           1587             NaN   \n",
       "\n",
       "                                    domain-description  \n",
       "0                      Brr6_like_C_C; Brl1/Brr6 domain  \n",
       "1    ATP-synt_ab_Xtn; ATPsynthase alpha/beta subuni...  \n",
       "2    F420_oxidored; Pyrroline-5-carboxylate reducta...  \n",
       "3    Nnf1; Polyamine-modulated factor 1/Kinetochore...  \n",
       "5    RXT2_N; Transcriptional regulatory protein RXT...  \n",
       "..                                                 ...  \n",
       "295                                 DIL; Dilute domain  \n",
       "296  C1_1; Protein kinase C-like, phorbol ester/dia...  \n",
       "297  Succ_DH_flav_C; Fumarate reductase/succinate d...  \n",
       "298                   NTF2; Nuclear transport factor 2  \n",
       "299                   NTF2; Nuclear transport factor 2  \n",
       "\n",
       "[253 rows x 4 columns]"
      ]
     },
     "execution_count": 24,
     "metadata": {},
     "output_type": "execute_result"
    }
   ],
   "source": [
    "df_sl_exclusive=pd.merge(df_sl,df_nsl,how='left',on='domain-number')\n",
    "\n",
    "domains_name=np.unique(data_domains['domain-name'])\n",
    "domains_description=np.unique(data_domains['domain-descrip'])\n",
    "\n",
    "df_sl_exclusive['domain-description']=domains_description[df_sl_exclusive['domain-number']]\n",
    "df_sl_exclusive[pd.isnull(df_sl_exclusive['pca-component_y'])]"
   ]
  },
  {
   "cell_type": "code",
   "execution_count": 25,
   "metadata": {
    "execution": {
     "iopub.execute_input": "2020-08-13T00:44:16.760328Z",
     "iopub.status.busy": "2020-08-13T00:44:16.759413Z",
     "iopub.status.idle": "2020-08-13T00:44:16.766367Z",
     "shell.execute_reply": "2020-08-13T00:44:16.766928Z"
    }
   },
   "outputs": [
    {
     "name": "stdout",
     "output_type": "stream",
     "text": [
      "The number of exclusive domains from SL pairs, after PCA, is =  300 out of 584 so the 51.36986301369863 %\n"
     ]
    }
   ],
   "source": [
    "print('The number of exclusive domains from SL pairs, after PCA, is = ',len(df_sl_exclusive), 'out of', len(df_sl)+len(df_nsl), 'so the',100*len(df_sl_exclusive)/(len(df_sl)+len(df_nsl)),'%')"
   ]
  },
  {
   "cell_type": "code",
   "execution_count": 26,
   "metadata": {
    "execution": {
     "iopub.execute_input": "2020-08-13T00:44:16.769347Z",
     "iopub.status.busy": "2020-08-13T00:44:16.768520Z",
     "iopub.status.idle": "2020-08-13T00:44:16.792051Z",
     "shell.execute_reply": "2020-08-13T00:44:16.792737Z"
    }
   },
   "outputs": [
    {
     "data": {
      "text/html": [
       "<div>\n",
       "<style scoped>\n",
       "    .dataframe tbody tr th:only-of-type {\n",
       "        vertical-align: middle;\n",
       "    }\n",
       "\n",
       "    .dataframe tbody tr th {\n",
       "        vertical-align: top;\n",
       "    }\n",
       "\n",
       "    .dataframe thead th {\n",
       "        text-align: right;\n",
       "    }\n",
       "</style>\n",
       "<table border=\"1\" class=\"dataframe\">\n",
       "  <thead>\n",
       "    <tr style=\"text-align: right;\">\n",
       "      <th></th>\n",
       "      <th>pca-component_x</th>\n",
       "      <th>domain-number</th>\n",
       "      <th>pca-component_y</th>\n",
       "      <th>domain-description</th>\n",
       "    </tr>\n",
       "  </thead>\n",
       "  <tbody>\n",
       "    <tr>\n",
       "      <th>0</th>\n",
       "      <td>NaN</td>\n",
       "      <td>1028</td>\n",
       "      <td>PC0</td>\n",
       "      <td>GatB_Yqey; Asn/Gln amidotransferase</td>\n",
       "    </tr>\n",
       "    <tr>\n",
       "      <th>1</th>\n",
       "      <td>NaN</td>\n",
       "      <td>2771</td>\n",
       "      <td>PC1</td>\n",
       "      <td>Ubiq-assoc; Ubiquitin-associated domain, SWA2-...</td>\n",
       "    </tr>\n",
       "    <tr>\n",
       "      <th>2</th>\n",
       "      <td>NaN</td>\n",
       "      <td>1175</td>\n",
       "      <td>PC2</td>\n",
       "      <td>Hist_deacetyl; Histone deacetylase domain</td>\n",
       "    </tr>\n",
       "    <tr>\n",
       "      <th>3</th>\n",
       "      <td>NaN</td>\n",
       "      <td>2113</td>\n",
       "      <td>PC3</td>\n",
       "      <td>Rav1p_C; RAVE complex protein Rav1 C-terminal</td>\n",
       "    </tr>\n",
       "    <tr>\n",
       "      <th>4</th>\n",
       "      <td>NaN</td>\n",
       "      <td>55</td>\n",
       "      <td>PC4</td>\n",
       "      <td>ADK</td>\n",
       "    </tr>\n",
       "    <tr>\n",
       "      <th>...</th>\n",
       "      <td>...</td>\n",
       "      <td>...</td>\n",
       "      <td>...</td>\n",
       "      <td>...</td>\n",
       "    </tr>\n",
       "    <tr>\n",
       "      <th>290</th>\n",
       "      <td>NaN</td>\n",
       "      <td>425</td>\n",
       "      <td>PC281</td>\n",
       "      <td>CTD</td>\n",
       "    </tr>\n",
       "    <tr>\n",
       "      <th>291</th>\n",
       "      <td>NaN</td>\n",
       "      <td>1245</td>\n",
       "      <td>PC283</td>\n",
       "      <td>Iso_dh; Isopropylmalate dehydrogenase-like domain</td>\n",
       "    </tr>\n",
       "    <tr>\n",
       "      <th>292</th>\n",
       "      <td>NaN</td>\n",
       "      <td>1002</td>\n",
       "      <td>PC286</td>\n",
       "      <td>GSHPx; Glutathione peroxidase</td>\n",
       "    </tr>\n",
       "    <tr>\n",
       "      <th>293</th>\n",
       "      <td>NaN</td>\n",
       "      <td>110</td>\n",
       "      <td>PC287</td>\n",
       "      <td>ATG16; Autophagy-related protein 16</td>\n",
       "    </tr>\n",
       "    <tr>\n",
       "      <th>294</th>\n",
       "      <td>NaN</td>\n",
       "      <td>595</td>\n",
       "      <td>PC288</td>\n",
       "      <td>DJ-1_PfpI; DJ-1/PfpI</td>\n",
       "    </tr>\n",
       "  </tbody>\n",
       "</table>\n",
       "<p>249 rows × 4 columns</p>\n",
       "</div>"
      ],
      "text/plain": [
       "    pca-component_x  domain-number pca-component_y  \\\n",
       "0               NaN           1028             PC0   \n",
       "1               NaN           2771             PC1   \n",
       "2               NaN           1175             PC2   \n",
       "3               NaN           2113             PC3   \n",
       "4               NaN             55             PC4   \n",
       "..              ...            ...             ...   \n",
       "290             NaN            425           PC281   \n",
       "291             NaN           1245           PC283   \n",
       "292             NaN           1002           PC286   \n",
       "293             NaN            110           PC287   \n",
       "294             NaN            595           PC288   \n",
       "\n",
       "                                    domain-description  \n",
       "0                  GatB_Yqey; Asn/Gln amidotransferase  \n",
       "1    Ubiq-assoc; Ubiquitin-associated domain, SWA2-...  \n",
       "2            Hist_deacetyl; Histone deacetylase domain  \n",
       "3        Rav1p_C; RAVE complex protein Rav1 C-terminal  \n",
       "4                                                  ADK  \n",
       "..                                                 ...  \n",
       "290                                                CTD  \n",
       "291  Iso_dh; Isopropylmalate dehydrogenase-like domain  \n",
       "292                      GSHPx; Glutathione peroxidase  \n",
       "293                ATG16; Autophagy-related protein 16  \n",
       "294                               DJ-1_PfpI; DJ-1/PfpI  \n",
       "\n",
       "[249 rows x 4 columns]"
      ]
     },
     "execution_count": 26,
     "metadata": {},
     "output_type": "execute_result"
    }
   ],
   "source": [
    "df_nsl_exclusive=pd.merge(df_sl,df_nsl,how='right',on='domain-number')\n",
    "\n",
    "domains_name=np.unique(data_domains['domain-name'])\n",
    "domains_description=np.unique(data_domains['domain-descrip'])\n",
    "\n",
    "df_nsl_exclusive['domain-description']=domains_description[df_nsl_exclusive['domain-number']]\n",
    "df_nsl_exclusive[pd.isnull(df_nsl_exclusive['pca-component_x'])]"
   ]
  },
  {
   "cell_type": "code",
   "execution_count": 27,
   "metadata": {
    "execution": {
     "iopub.execute_input": "2020-08-13T00:44:16.795264Z",
     "iopub.status.busy": "2020-08-13T00:44:16.794455Z",
     "iopub.status.idle": "2020-08-13T00:44:16.800021Z",
     "shell.execute_reply": "2020-08-13T00:44:16.800584Z"
    }
   },
   "outputs": [
    {
     "name": "stdout",
     "output_type": "stream",
     "text": [
      "The number of exclusive domains from non SL pairs, after PCA, is =  296 out of 584 so the 50.68493150684932 %\n"
     ]
    }
   ],
   "source": [
    "print('The number of exclusive domains from non SL pairs, after PCA, is = ',len(df_nsl_exclusive), 'out of', len(df_sl)+len(df_nsl), 'so the',100*len(df_nsl_exclusive)/(len(df_sl)+len(df_nsl)),'%')"
   ]
  },
  {
   "cell_type": "markdown",
   "metadata": {},
   "source": [
    "## Let see to the domains-number that get repeated after the PCA analysis , and selecting the most explanatory feature by its explained variance."
   ]
  },
  {
   "cell_type": "code",
   "execution_count": 28,
   "metadata": {
    "execution": {
     "iopub.execute_input": "2020-08-13T00:44:16.803219Z",
     "iopub.status.busy": "2020-08-13T00:44:16.802300Z",
     "iopub.status.idle": "2020-08-13T00:44:16.819974Z",
     "shell.execute_reply": "2020-08-13T00:44:16.820391Z"
    }
   },
   "outputs": [],
   "source": [
    "duplicated_features_sl=df_sl[df_sl.iloc[:,1].duplicated()]\n",
    "repeated_features_sl=pd.DataFrame()\n",
    "\n",
    "domains_name=np.unique(data_domains['domain-name'])\n",
    "domains_description=np.unique(data_domains['domain-descrip'])\n",
    "\n",
    "repeated_features_sl['domain-name']=domains_name[duplicated_features_sl.iloc[:,1]] \n",
    "repeated_features_sl['domain-description']=domains_description[duplicated_features_sl.iloc[:,1]]\n",
    "\n",
    "duplicated_features_nsl=df_nsl[df_nsl.iloc[:,1].duplicated()]\n",
    "repeated_features_nsl=pd.DataFrame()\n",
    "\n",
    "repeated_features_nsl['domain-name']=domains_name[duplicated_features_nsl.iloc[:,1]] \n",
    "repeated_features_nsl['domain-description']=domains_description[duplicated_features_nsl.iloc[:,1]]"
   ]
  },
  {
   "cell_type": "code",
   "execution_count": 29,
   "metadata": {
    "execution": {
     "iopub.execute_input": "2020-08-13T00:44:16.829148Z",
     "iopub.status.busy": "2020-08-13T00:44:16.827338Z",
     "iopub.status.idle": "2020-08-13T00:44:16.834097Z",
     "shell.execute_reply": "2020-08-13T00:44:16.833739Z"
    }
   },
   "outputs": [
    {
     "name": "stderr",
     "output_type": "stream",
     "text": [
      "/usr/share/miniconda3/envs/wintest/lib/python3.7/site-packages/ipykernel_launcher.py:3: SettingWithCopyWarning: \n",
      "A value is trying to be set on a copy of a slice from a DataFrame.\n",
      "Try using .loc[row_indexer,col_indexer] = value instead\n",
      "\n",
      "See the caveats in the documentation: https://pandas.pydata.org/pandas-docs/stable/user_guide/indexing.html#returning-a-view-versus-a-copy\n",
      "  This is separate from the ipykernel package so we can avoid doing imports until\n"
     ]
    },
    {
     "data": {
      "text/plain": [
       "((52, 4), (300, 4))"
      ]
     },
     "execution_count": 29,
     "metadata": {},
     "output_type": "execute_result"
    }
   ],
   "source": [
    "only_sl_pd=pd.merge(repeated_features_sl,repeated_features_nsl,how='left',on=['domain-name'])\n",
    "data_only_sl = only_sl_pd[pd.isnull(only_sl_pd['domain-description_y'])]\n",
    "data_only_sl['domain-description']=data_only_sl['domain-description_x']\n",
    "data_only_sl.shape,df_sl_exclusive.shape"
   ]
  },
  {
   "cell_type": "code",
   "execution_count": 30,
   "metadata": {
    "execution": {
     "iopub.execute_input": "2020-08-13T00:44:16.849061Z",
     "iopub.status.busy": "2020-08-13T00:44:16.848605Z",
     "iopub.status.idle": "2020-08-13T00:44:16.853471Z",
     "shell.execute_reply": "2020-08-13T00:44:16.852839Z"
    }
   },
   "outputs": [
    {
     "data": {
      "text/html": [
       "<div>\n",
       "<style scoped>\n",
       "    .dataframe tbody tr th:only-of-type {\n",
       "        vertical-align: middle;\n",
       "    }\n",
       "\n",
       "    .dataframe tbody tr th {\n",
       "        vertical-align: top;\n",
       "    }\n",
       "\n",
       "    .dataframe thead th {\n",
       "        text-align: right;\n",
       "    }\n",
       "</style>\n",
       "<table border=\"1\" class=\"dataframe\">\n",
       "  <thead>\n",
       "    <tr style=\"text-align: right;\">\n",
       "      <th></th>\n",
       "      <th>domain-name</th>\n",
       "      <th>domain-description_x</th>\n",
       "      <th>domain-description_y</th>\n",
       "    </tr>\n",
       "  </thead>\n",
       "  <tbody>\n",
       "    <tr>\n",
       "      <th>0</th>\n",
       "      <td>PF08171</td>\n",
       "      <td>NaN</td>\n",
       "      <td>PTPLA; Protein-tyrosine phosphatase-like, PTPLA</td>\n",
       "    </tr>\n",
       "    <tr>\n",
       "      <th>1</th>\n",
       "      <td>PF12726</td>\n",
       "      <td>NaN</td>\n",
       "      <td>Steroid_dh; 3-oxo-5-alpha-steroid 4-dehydrogen...</td>\n",
       "    </tr>\n",
       "    <tr>\n",
       "      <th>2</th>\n",
       "      <td>PF08647</td>\n",
       "      <td>NaN</td>\n",
       "      <td>RNA_pol_L_2; DNA-directed RNA polymerase, RBP1...</td>\n",
       "    </tr>\n",
       "    <tr>\n",
       "      <th>3</th>\n",
       "      <td>PF02366</td>\n",
       "      <td>NaN</td>\n",
       "      <td>FF; FF domain</td>\n",
       "    </tr>\n",
       "    <tr>\n",
       "      <th>4</th>\n",
       "      <td>PF01000</td>\n",
       "      <td>NaN</td>\n",
       "      <td>Cdc6_C; Cdc6, C-terminal</td>\n",
       "    </tr>\n",
       "    <tr>\n",
       "      <th>5</th>\n",
       "      <td>PF00425</td>\n",
       "      <td>NaN</td>\n",
       "      <td>Ank_2; Ankyrin repeat-containing domain</td>\n",
       "    </tr>\n",
       "    <tr>\n",
       "      <th>7</th>\n",
       "      <td>PF09402</td>\n",
       "      <td>NaN</td>\n",
       "      <td>Rbsn; Rabenosyn, Rab binding domain</td>\n",
       "    </tr>\n",
       "    <tr>\n",
       "      <th>8</th>\n",
       "      <td>PF00005</td>\n",
       "      <td>NaN</td>\n",
       "      <td>14-3-3; 14-3-3 domain</td>\n",
       "    </tr>\n",
       "    <tr>\n",
       "      <th>9</th>\n",
       "      <td>PF00160</td>\n",
       "      <td>NaN</td>\n",
       "      <td>ALAD; Delta-aminolevulinic acid dehydratase</td>\n",
       "    </tr>\n",
       "    <tr>\n",
       "      <th>10</th>\n",
       "      <td>PF01073</td>\n",
       "      <td>NaN</td>\n",
       "      <td>Clathrin; Clathrin, heavy chain/VPS, 7-fold re...</td>\n",
       "    </tr>\n",
       "    <tr>\n",
       "      <th>11</th>\n",
       "      <td>PF00929</td>\n",
       "      <td>NaN</td>\n",
       "      <td>CT_A_B; Carboxyltransferase domain, subdomain ...</td>\n",
       "    </tr>\n",
       "    <tr>\n",
       "      <th>12</th>\n",
       "      <td>PF06246</td>\n",
       "      <td>NaN</td>\n",
       "      <td>Nro1; Negative regulator of Ofd1/Enhancer of t...</td>\n",
       "    </tr>\n",
       "    <tr>\n",
       "      <th>13</th>\n",
       "      <td>PF06246</td>\n",
       "      <td>NaN</td>\n",
       "      <td>Nro1; Negative regulator of Ofd1/Enhancer of t...</td>\n",
       "    </tr>\n",
       "    <tr>\n",
       "      <th>14</th>\n",
       "      <td>PF01092</td>\n",
       "      <td>NaN</td>\n",
       "      <td>Cnd1; Condensin complex subunit 1, C-terminal</td>\n",
       "    </tr>\n",
       "    <tr>\n",
       "      <th>15</th>\n",
       "      <td>PF01092</td>\n",
       "      <td>NaN</td>\n",
       "      <td>Cnd1; Condensin complex subunit 1, C-terminal</td>\n",
       "    </tr>\n",
       "    <tr>\n",
       "      <th>16</th>\n",
       "      <td>PF02892</td>\n",
       "      <td>NaN</td>\n",
       "      <td>GRASP55_65; GRASP55/65 PDZ-like domain</td>\n",
       "    </tr>\n",
       "    <tr>\n",
       "      <th>17</th>\n",
       "      <td>PF04670</td>\n",
       "      <td>NaN</td>\n",
       "      <td>MRG; MRG domain</td>\n",
       "    </tr>\n",
       "    <tr>\n",
       "      <th>18</th>\n",
       "      <td>PF00025</td>\n",
       "      <td>NaN</td>\n",
       "      <td>5-FTHF_cyc-lig; 5-formyltetrahydrofolate cyclo...</td>\n",
       "    </tr>\n",
       "    <tr>\n",
       "      <th>19</th>\n",
       "      <td>PF02747</td>\n",
       "      <td>NaN</td>\n",
       "      <td>FtsH_ext; Peptidase M41, FtsH extracellular</td>\n",
       "    </tr>\n",
       "    <tr>\n",
       "      <th>20</th>\n",
       "      <td>PF13409</td>\n",
       "      <td>NaN</td>\n",
       "      <td>TPR_7; Tetratricopeptide repeat</td>\n",
       "    </tr>\n",
       "    <tr>\n",
       "      <th>21</th>\n",
       "      <td>PF00133</td>\n",
       "      <td>NaN</td>\n",
       "      <td>AFT; Iron-regulated transcriptional activator AFT</td>\n",
       "    </tr>\n",
       "    <tr>\n",
       "      <th>22</th>\n",
       "      <td>PF04190</td>\n",
       "      <td>NaN</td>\n",
       "      <td>Lge1</td>\n",
       "    </tr>\n",
       "    <tr>\n",
       "      <th>23</th>\n",
       "      <td>PF12719</td>\n",
       "      <td>NaN</td>\n",
       "      <td>Ste5; Scaffold protein Ste5, Fus3-binding domain</td>\n",
       "    </tr>\n",
       "    <tr>\n",
       "      <th>24</th>\n",
       "      <td>PF12719</td>\n",
       "      <td>NaN</td>\n",
       "      <td>Ste5; Scaffold protein Ste5, Fus3-binding domain</td>\n",
       "    </tr>\n",
       "    <tr>\n",
       "      <th>25</th>\n",
       "      <td>PF12330</td>\n",
       "      <td>NaN</td>\n",
       "      <td>Sin3_corepress; Histone deacetylase interactin...</td>\n",
       "    </tr>\n",
       "    <tr>\n",
       "      <th>26</th>\n",
       "      <td>PF02150</td>\n",
       "      <td>NaN</td>\n",
       "      <td>EXOSC1; Exosome complex component CSL4</td>\n",
       "    </tr>\n",
       "    <tr>\n",
       "      <th>27</th>\n",
       "      <td>PF09757</td>\n",
       "      <td>NaN</td>\n",
       "      <td>Ribosomal_L14e; Ribosomal protein L14e domain</td>\n",
       "    </tr>\n",
       "    <tr>\n",
       "      <th>28</th>\n",
       "      <td>PF14523</td>\n",
       "      <td>NaN</td>\n",
       "      <td>UNC-50</td>\n",
       "    </tr>\n",
       "    <tr>\n",
       "      <th>29</th>\n",
       "      <td>PF11957</td>\n",
       "      <td>NaN</td>\n",
       "      <td>Sec16; Sec16, central conserved domain</td>\n",
       "    </tr>\n",
       "    <tr>\n",
       "      <th>30</th>\n",
       "      <td>PF08605</td>\n",
       "      <td>NaN</td>\n",
       "      <td>RCR; Chitin synthesis regulation, Congo red re...</td>\n",
       "    </tr>\n",
       "    <tr>\n",
       "      <th>31</th>\n",
       "      <td>PF14475</td>\n",
       "      <td>NaN</td>\n",
       "      <td>UDPGT; UDP-glucuronosyl/UDP-glucosyltransferase</td>\n",
       "    </tr>\n",
       "    <tr>\n",
       "      <th>32</th>\n",
       "      <td>PF00412</td>\n",
       "      <td>NaN</td>\n",
       "      <td>Aminotran_5; Aminotransferase class V domain</td>\n",
       "    </tr>\n",
       "    <tr>\n",
       "      <th>33</th>\n",
       "      <td>PF10429</td>\n",
       "      <td>NaN</td>\n",
       "      <td>SAPS; SIT4 phosphatase-associated protein family</td>\n",
       "    </tr>\n",
       "    <tr>\n",
       "      <th>34</th>\n",
       "      <td>PF04762</td>\n",
       "      <td>NaN</td>\n",
       "      <td>Mak16; Mak16 protein</td>\n",
       "    </tr>\n",
       "    <tr>\n",
       "      <th>35</th>\n",
       "      <td>PF00704</td>\n",
       "      <td>NaN</td>\n",
       "      <td>CGI-121; CGI121/TPRKB</td>\n",
       "    </tr>\n",
       "    <tr>\n",
       "      <th>36</th>\n",
       "      <td>PF11051</td>\n",
       "      <td>NaN</td>\n",
       "      <td>SNARE_assoc; SNARE associated Golgi protein</td>\n",
       "    </tr>\n",
       "    <tr>\n",
       "      <th>37</th>\n",
       "      <td>PF09598</td>\n",
       "      <td>NaN</td>\n",
       "      <td>Ribonucleas_3_3; Ribonuclease III domain</td>\n",
       "    </tr>\n",
       "    <tr>\n",
       "      <th>38</th>\n",
       "      <td>PF00428</td>\n",
       "      <td>NaN</td>\n",
       "      <td>Ank_3; Ankyrin repeat</td>\n",
       "    </tr>\n",
       "    <tr>\n",
       "      <th>39</th>\n",
       "      <td>PF00428</td>\n",
       "      <td>NaN</td>\n",
       "      <td>Ank_3; Ankyrin repeat</td>\n",
       "    </tr>\n",
       "    <tr>\n",
       "      <th>40</th>\n",
       "      <td>PF02204</td>\n",
       "      <td>NaN</td>\n",
       "      <td>Endosulfine; Endosulphine</td>\n",
       "    </tr>\n",
       "    <tr>\n",
       "      <th>41</th>\n",
       "      <td>PF15454</td>\n",
       "      <td>NaN</td>\n",
       "      <td>Vps35; Vacuolar protein sorting-associated pro...</td>\n",
       "    </tr>\n",
       "    <tr>\n",
       "      <th>42</th>\n",
       "      <td>PF13639</td>\n",
       "      <td>NaN</td>\n",
       "      <td>ThrE; Putative threonine/serine exporter</td>\n",
       "    </tr>\n",
       "    <tr>\n",
       "      <th>43</th>\n",
       "      <td>PF13639</td>\n",
       "      <td>NaN</td>\n",
       "      <td>ThrE; Putative threonine/serine exporter</td>\n",
       "    </tr>\n",
       "    <tr>\n",
       "      <th>44</th>\n",
       "      <td>PF04757</td>\n",
       "      <td>NaN</td>\n",
       "      <td>Mad3_BUB1_II; Mad3/Bub1 homology region 2</td>\n",
       "    </tr>\n",
       "    <tr>\n",
       "      <th>45</th>\n",
       "      <td>PF04757</td>\n",
       "      <td>NaN</td>\n",
       "      <td>Mad3_BUB1_II; Mad3/Bub1 homology region 2</td>\n",
       "    </tr>\n",
       "    <tr>\n",
       "      <th>46</th>\n",
       "      <td>PF08586</td>\n",
       "      <td>NaN</td>\n",
       "      <td>QLQ; Glutamine-Leucine-Glutamine, QLQ</td>\n",
       "    </tr>\n",
       "    <tr>\n",
       "      <th>47</th>\n",
       "      <td>PF02137</td>\n",
       "      <td>NaN</td>\n",
       "      <td>ER_lumen_recept; ER lumen protein retaining re...</td>\n",
       "    </tr>\n",
       "    <tr>\n",
       "      <th>48</th>\n",
       "      <td>PF09335</td>\n",
       "      <td>NaN</td>\n",
       "      <td>Ran_BP1; Ran binding domain</td>\n",
       "    </tr>\n",
       "    <tr>\n",
       "      <th>49</th>\n",
       "      <td>PF03152</td>\n",
       "      <td>NaN</td>\n",
       "      <td>Glyco_hydro_72; Glucanosyltransferase</td>\n",
       "    </tr>\n",
       "    <tr>\n",
       "      <th>50</th>\n",
       "      <td>PF03152</td>\n",
       "      <td>NaN</td>\n",
       "      <td>Glyco_hydro_72; Glucanosyltransferase</td>\n",
       "    </tr>\n",
       "    <tr>\n",
       "      <th>51</th>\n",
       "      <td>PF05251</td>\n",
       "      <td>NaN</td>\n",
       "      <td>Myb_DNA-bind_6</td>\n",
       "    </tr>\n",
       "    <tr>\n",
       "      <th>52</th>\n",
       "      <td>PF01920</td>\n",
       "      <td>NaN</td>\n",
       "      <td>E1_UFD; Ubiquitin-activating enzyme E1, C-term...</td>\n",
       "    </tr>\n",
       "  </tbody>\n",
       "</table>\n",
       "</div>"
      ],
      "text/plain": [
       "   domain-name domain-description_x  \\\n",
       "0      PF08171                  NaN   \n",
       "1      PF12726                  NaN   \n",
       "2      PF08647                  NaN   \n",
       "3      PF02366                  NaN   \n",
       "4      PF01000                  NaN   \n",
       "5      PF00425                  NaN   \n",
       "7      PF09402                  NaN   \n",
       "8      PF00005                  NaN   \n",
       "9      PF00160                  NaN   \n",
       "10     PF01073                  NaN   \n",
       "11     PF00929                  NaN   \n",
       "12     PF06246                  NaN   \n",
       "13     PF06246                  NaN   \n",
       "14     PF01092                  NaN   \n",
       "15     PF01092                  NaN   \n",
       "16     PF02892                  NaN   \n",
       "17     PF04670                  NaN   \n",
       "18     PF00025                  NaN   \n",
       "19     PF02747                  NaN   \n",
       "20     PF13409                  NaN   \n",
       "21     PF00133                  NaN   \n",
       "22     PF04190                  NaN   \n",
       "23     PF12719                  NaN   \n",
       "24     PF12719                  NaN   \n",
       "25     PF12330                  NaN   \n",
       "26     PF02150                  NaN   \n",
       "27     PF09757                  NaN   \n",
       "28     PF14523                  NaN   \n",
       "29     PF11957                  NaN   \n",
       "30     PF08605                  NaN   \n",
       "31     PF14475                  NaN   \n",
       "32     PF00412                  NaN   \n",
       "33     PF10429                  NaN   \n",
       "34     PF04762                  NaN   \n",
       "35     PF00704                  NaN   \n",
       "36     PF11051                  NaN   \n",
       "37     PF09598                  NaN   \n",
       "38     PF00428                  NaN   \n",
       "39     PF00428                  NaN   \n",
       "40     PF02204                  NaN   \n",
       "41     PF15454                  NaN   \n",
       "42     PF13639                  NaN   \n",
       "43     PF13639                  NaN   \n",
       "44     PF04757                  NaN   \n",
       "45     PF04757                  NaN   \n",
       "46     PF08586                  NaN   \n",
       "47     PF02137                  NaN   \n",
       "48     PF09335                  NaN   \n",
       "49     PF03152                  NaN   \n",
       "50     PF03152                  NaN   \n",
       "51     PF05251                  NaN   \n",
       "52     PF01920                  NaN   \n",
       "\n",
       "                                 domain-description_y  \n",
       "0     PTPLA; Protein-tyrosine phosphatase-like, PTPLA  \n",
       "1   Steroid_dh; 3-oxo-5-alpha-steroid 4-dehydrogen...  \n",
       "2   RNA_pol_L_2; DNA-directed RNA polymerase, RBP1...  \n",
       "3                                       FF; FF domain  \n",
       "4                            Cdc6_C; Cdc6, C-terminal  \n",
       "5             Ank_2; Ankyrin repeat-containing domain  \n",
       "7                 Rbsn; Rabenosyn, Rab binding domain  \n",
       "8                               14-3-3; 14-3-3 domain  \n",
       "9         ALAD; Delta-aminolevulinic acid dehydratase  \n",
       "10  Clathrin; Clathrin, heavy chain/VPS, 7-fold re...  \n",
       "11  CT_A_B; Carboxyltransferase domain, subdomain ...  \n",
       "12  Nro1; Negative regulator of Ofd1/Enhancer of t...  \n",
       "13  Nro1; Negative regulator of Ofd1/Enhancer of t...  \n",
       "14      Cnd1; Condensin complex subunit 1, C-terminal  \n",
       "15      Cnd1; Condensin complex subunit 1, C-terminal  \n",
       "16             GRASP55_65; GRASP55/65 PDZ-like domain  \n",
       "17                                    MRG; MRG domain  \n",
       "18  5-FTHF_cyc-lig; 5-formyltetrahydrofolate cyclo...  \n",
       "19        FtsH_ext; Peptidase M41, FtsH extracellular  \n",
       "20                    TPR_7; Tetratricopeptide repeat  \n",
       "21  AFT; Iron-regulated transcriptional activator AFT  \n",
       "22                                               Lge1  \n",
       "23   Ste5; Scaffold protein Ste5, Fus3-binding domain  \n",
       "24   Ste5; Scaffold protein Ste5, Fus3-binding domain  \n",
       "25  Sin3_corepress; Histone deacetylase interactin...  \n",
       "26             EXOSC1; Exosome complex component CSL4  \n",
       "27      Ribosomal_L14e; Ribosomal protein L14e domain  \n",
       "28                                             UNC-50  \n",
       "29             Sec16; Sec16, central conserved domain  \n",
       "30  RCR; Chitin synthesis regulation, Congo red re...  \n",
       "31    UDPGT; UDP-glucuronosyl/UDP-glucosyltransferase  \n",
       "32       Aminotran_5; Aminotransferase class V domain  \n",
       "33   SAPS; SIT4 phosphatase-associated protein family  \n",
       "34                               Mak16; Mak16 protein  \n",
       "35                              CGI-121; CGI121/TPRKB  \n",
       "36        SNARE_assoc; SNARE associated Golgi protein  \n",
       "37           Ribonucleas_3_3; Ribonuclease III domain  \n",
       "38                              Ank_3; Ankyrin repeat  \n",
       "39                              Ank_3; Ankyrin repeat  \n",
       "40                          Endosulfine; Endosulphine  \n",
       "41  Vps35; Vacuolar protein sorting-associated pro...  \n",
       "42           ThrE; Putative threonine/serine exporter  \n",
       "43           ThrE; Putative threonine/serine exporter  \n",
       "44          Mad3_BUB1_II; Mad3/Bub1 homology region 2  \n",
       "45          Mad3_BUB1_II; Mad3/Bub1 homology region 2  \n",
       "46              QLQ; Glutamine-Leucine-Glutamine, QLQ  \n",
       "47  ER_lumen_recept; ER lumen protein retaining re...  \n",
       "48                        Ran_BP1; Ran binding domain  \n",
       "49              Glyco_hydro_72; Glucanosyltransferase  \n",
       "50              Glyco_hydro_72; Glucanosyltransferase  \n",
       "51                                     Myb_DNA-bind_6  \n",
       "52  E1_UFD; Ubiquitin-activating enzyme E1, C-term...  "
      ]
     },
     "execution_count": 30,
     "metadata": {},
     "output_type": "execute_result"
    }
   ],
   "source": [
    "only_nsl_pd=pd.merge(repeated_features_sl,repeated_features_nsl,how='right',on=['domain-name'])\n",
    "data_only_nsl = only_nsl_pd[pd.isnull(only_nsl_pd['domain-description_x'])]\n",
    "data_only_nsl"
   ]
  },
  {
   "cell_type": "code",
   "execution_count": 31,
   "metadata": {
    "execution": {
     "iopub.execute_input": "2020-08-13T00:44:16.861713Z",
     "iopub.status.busy": "2020-08-13T00:44:16.861302Z",
     "iopub.status.idle": "2020-08-13T00:44:16.865337Z",
     "shell.execute_reply": "2020-08-13T00:44:16.865677Z"
    }
   },
   "outputs": [
    {
     "data": {
      "text/html": [
       "<div>\n",
       "<style scoped>\n",
       "    .dataframe tbody tr th:only-of-type {\n",
       "        vertical-align: middle;\n",
       "    }\n",
       "\n",
       "    .dataframe tbody tr th {\n",
       "        vertical-align: top;\n",
       "    }\n",
       "\n",
       "    .dataframe thead th {\n",
       "        text-align: right;\n",
       "    }\n",
       "</style>\n",
       "<table border=\"1\" class=\"dataframe\">\n",
       "  <thead>\n",
       "    <tr style=\"text-align: right;\">\n",
       "      <th></th>\n",
       "      <th>domain-name</th>\n",
       "      <th>domain-description_x</th>\n",
       "      <th>domain-description_y</th>\n",
       "    </tr>\n",
       "  </thead>\n",
       "  <tbody>\n",
       "    <tr>\n",
       "      <th>0</th>\n",
       "      <td>PF00782</td>\n",
       "      <td>COG6</td>\n",
       "      <td>COG6</td>\n",
       "    </tr>\n",
       "  </tbody>\n",
       "</table>\n",
       "</div>"
      ],
      "text/plain": [
       "  domain-name domain-description_x domain-description_y\n",
       "0     PF00782                 COG6                 COG6"
      ]
     },
     "execution_count": 31,
     "metadata": {},
     "output_type": "execute_result"
    }
   ],
   "source": [
    "shared_domains_pd=pd.merge(repeated_features_sl,repeated_features_nsl,how='inner',on=['domain-name'])\n",
    "shared_domains_pd\n"
   ]
  },
  {
   "cell_type": "code",
   "execution_count": 32,
   "metadata": {
    "execution": {
     "iopub.execute_input": "2020-08-13T00:44:16.880618Z",
     "iopub.status.busy": "2020-08-13T00:44:16.874888Z",
     "iopub.status.idle": "2020-08-13T00:44:18.182149Z",
     "shell.execute_reply": "2020-08-13T00:44:18.182626Z"
    }
   },
   "outputs": [
    {
     "data": {
      "text/plain": [
       "(0.0, 0.2)"
      ]
     },
     "execution_count": 32,
     "metadata": {},
     "output_type": "execute_result"
    },
    {
     "data": {
      "image/png": "[encoded data removed]",
      "text/plain": [
       "<Figure size 432x288 with 1 Axes>"
      ]
     },
     "metadata": {
      "filenames": {
       "image/png": "/home/runner/work/jupyter-book/jupyter-book/mini_book/docs/_build/jupyter_execute/prot_domains2lethality-FEATURES-POSTPROCESSING_47_1.png"
      },
      "needs_background": "light"
     },
     "output_type": "display_data"
    }
   ],
   "source": [
    "a_sl=x_sl.iloc[:,np.sort(df_sl.iloc[:,1])]\n",
    "a_sl.describe().loc['mean'].hist(bins=8),\n",
    "a_sl.describe().loc['std'].hist(bins=8,alpha=0.4)\n",
    "plt.xlim([0,0.2])"
   ]
  },
  {
   "cell_type": "code",
   "execution_count": 33,
   "metadata": {
    "execution": {
     "iopub.execute_input": "2020-08-13T00:44:18.199986Z",
     "iopub.status.busy": "2020-08-13T00:44:18.196699Z",
     "iopub.status.idle": "2020-08-13T00:44:19.704926Z",
     "shell.execute_reply": "2020-08-13T00:44:19.704430Z"
    }
   },
   "outputs": [
    {
     "data": {
      "text/plain": [
       "(0.0, 0.2)"
      ]
     },
     "execution_count": 33,
     "metadata": {},
     "output_type": "execute_result"
    },
    {
     "data": {
      "image/png": "[encoded data removed]",
      "text/plain": [
       "<Figure size 432x288 with 1 Axes>"
      ]
     },
     "metadata": {
      "filenames": {
       "image/png": "/home/runner/work/jupyter-book/jupyter-book/mini_book/docs/_build/jupyter_execute/prot_domains2lethality-FEATURES-POSTPROCESSING_48_1.png"
      },
      "needs_background": "light"
     },
     "output_type": "display_data"
    }
   ],
   "source": [
    "a_nsl=x_nsl.iloc[:,np.sort(df_nsl.iloc[:,1])]\n",
    "a_nsl.describe().loc['mean'].hist(bins=8),\n",
    "a_nsl.describe().loc['std'].hist(bins=8,alpha=0.4)\n",
    "plt.xlim([0,0.2])"
   ]
  },
  {
   "cell_type": "markdown",
   "metadata": {},
   "source": [
    "### Proof of concept with *BEM1*\n",
    "\n",
    "- Gather the domains of SL and nSL pairs from BEM1\n",
    "- Check if the domains for the SL and nSL pairs are inside the most important domains after PCA."
   ]
  },
  {
   "cell_type": "code",
   "execution_count": 34,
   "metadata": {
    "execution": {
     "iopub.execute_input": "2020-08-13T00:44:19.712413Z",
     "iopub.status.busy": "2020-08-13T00:44:19.711884Z",
     "iopub.status.idle": "2020-08-13T00:44:19.713874Z",
     "shell.execute_reply": "2020-08-13T00:44:19.714315Z"
    }
   },
   "outputs": [],
   "source": [
    "domains_bem1=data_domains[data_domains['name']=='BEM1']['domain-descrip']\n",
    "sl_bem1=data_sl[data_sl['gene-query-name']=='BEM1']['gene-target-name']"
   ]
  },
  {
   "cell_type": "code",
   "execution_count": 35,
   "metadata": {
    "execution": {
     "iopub.execute_input": "2020-08-13T00:44:19.719450Z",
     "iopub.status.busy": "2020-08-13T00:44:19.718716Z",
     "iopub.status.idle": "2020-08-13T00:44:19.721159Z",
     "shell.execute_reply": "2020-08-13T00:44:19.721573Z"
    }
   },
   "outputs": [
    {
     "data": {
      "text/plain": [
       "2846      BEM2\n",
       "2847     CDC24\n",
       "5004      MSB1\n",
       "13777     SMI1\n",
       "13778     BNI1\n",
       "13779     BEM2\n",
       "14385     SKN7\n",
       "Name: gene-target-name, dtype: object"
      ]
     },
     "execution_count": 35,
     "metadata": {},
     "output_type": "execute_result"
    }
   ],
   "source": [
    "sl_bem1"
   ]
  },
  {
   "cell_type": "code",
   "execution_count": 36,
   "metadata": {
    "execution": {
     "iopub.execute_input": "2020-08-13T00:44:19.735433Z",
     "iopub.status.busy": "2020-08-13T00:44:19.734904Z",
     "iopub.status.idle": "2020-08-13T00:44:19.737466Z",
     "shell.execute_reply": "2020-08-13T00:44:19.737870Z"
    }
   },
   "outputs": [
    {
     "data": {
      "text/html": [
       "<div>\n",
       "<style scoped>\n",
       "    .dataframe tbody tr th:only-of-type {\n",
       "        vertical-align: middle;\n",
       "    }\n",
       "\n",
       "    .dataframe tbody tr th {\n",
       "        vertical-align: top;\n",
       "    }\n",
       "\n",
       "    .dataframe thead th {\n",
       "        text-align: right;\n",
       "    }\n",
       "</style>\n",
       "<table border=\"1\" class=\"dataframe\">\n",
       "  <thead>\n",
       "    <tr style=\"text-align: right;\">\n",
       "      <th></th>\n",
       "      <th>gene-query</th>\n",
       "      <th>gene-target</th>\n",
       "      <th>gene-query-name</th>\n",
       "      <th>gene-target-name</th>\n",
       "      <th>gene-query-description</th>\n",
       "      <th>gene-target-description</th>\n",
       "      <th>interaction-type</th>\n",
       "      <th>paper-source</th>\n",
       "    </tr>\n",
       "  </thead>\n",
       "  <tbody>\n",
       "    <tr>\n",
       "      <th>2846</th>\n",
       "      <td>YBR200W</td>\n",
       "      <td>YER155C</td>\n",
       "      <td>BEM1</td>\n",
       "      <td>BEM2</td>\n",
       "      <td>SRO1|phosphatidylinositol-3-phosphate-binding ...</td>\n",
       "      <td>IPL2|SUP9|TSL1|L000000168</td>\n",
       "      <td>Synthetic Lethality</td>\n",
       "      <td>Peterson J (1994)</td>\n",
       "    </tr>\n",
       "    <tr>\n",
       "      <th>2847</th>\n",
       "      <td>YBR200W</td>\n",
       "      <td>YAL041W</td>\n",
       "      <td>BEM1</td>\n",
       "      <td>CDC24</td>\n",
       "      <td>SRO1|phosphatidylinositol-3-phosphate-binding ...</td>\n",
       "      <td>CLS4|Rho family guanine nucleotide exchange fa...</td>\n",
       "      <td>Synthetic Lethality</td>\n",
       "      <td>Peterson J (1994)</td>\n",
       "    </tr>\n",
       "    <tr>\n",
       "      <th>5004</th>\n",
       "      <td>YBR200W</td>\n",
       "      <td>YOR188W</td>\n",
       "      <td>BEM1</td>\n",
       "      <td>MSB1</td>\n",
       "      <td>SRO1|phosphatidylinositol-3-phosphate-binding ...</td>\n",
       "      <td>L000001184</td>\n",
       "      <td>Synthetic Lethality</td>\n",
       "      <td>Bender A (1991)</td>\n",
       "    </tr>\n",
       "    <tr>\n",
       "      <th>13777</th>\n",
       "      <td>YBR200W</td>\n",
       "      <td>YGR229C</td>\n",
       "      <td>BEM1</td>\n",
       "      <td>SMI1</td>\n",
       "      <td>SRO1|phosphatidylinositol-3-phosphate-binding ...</td>\n",
       "      <td>KNR4|L000000909</td>\n",
       "      <td>Synthetic Lethality</td>\n",
       "      <td>Gorelik M (2011)</td>\n",
       "    </tr>\n",
       "    <tr>\n",
       "      <th>13778</th>\n",
       "      <td>YBR200W</td>\n",
       "      <td>YNL271C</td>\n",
       "      <td>BEM1</td>\n",
       "      <td>BNI1</td>\n",
       "      <td>SRO1|phosphatidylinositol-3-phosphate-binding ...</td>\n",
       "      <td>PPF3|SHE5|formin BNI1|L000000190</td>\n",
       "      <td>Synthetic Lethality</td>\n",
       "      <td>Gorelik M (2011)</td>\n",
       "    </tr>\n",
       "    <tr>\n",
       "      <th>13779</th>\n",
       "      <td>YBR200W</td>\n",
       "      <td>YER155C</td>\n",
       "      <td>BEM1</td>\n",
       "      <td>BEM2</td>\n",
       "      <td>SRO1|phosphatidylinositol-3-phosphate-binding ...</td>\n",
       "      <td>IPL2|SUP9|TSL1|L000000168</td>\n",
       "      <td>Synthetic Lethality</td>\n",
       "      <td>Gorelik M (2011)</td>\n",
       "    </tr>\n",
       "    <tr>\n",
       "      <th>14385</th>\n",
       "      <td>YBR200W</td>\n",
       "      <td>YHR206W</td>\n",
       "      <td>BEM1</td>\n",
       "      <td>SKN7</td>\n",
       "      <td>SRO1|phosphatidylinositol-3-phosphate-binding ...</td>\n",
       "      <td>BRY1|POS9|kinase-regulated stress-responsive t...</td>\n",
       "      <td>Dosage Lethality</td>\n",
       "      <td>Bouquin N (1999)</td>\n",
       "    </tr>\n",
       "  </tbody>\n",
       "</table>\n",
       "</div>"
      ],
      "text/plain": [
       "      gene-query gene-target gene-query-name gene-target-name  \\\n",
       "2846     YBR200W     YER155C            BEM1             BEM2   \n",
       "2847     YBR200W     YAL041W            BEM1            CDC24   \n",
       "5004     YBR200W     YOR188W            BEM1             MSB1   \n",
       "13777    YBR200W     YGR229C            BEM1             SMI1   \n",
       "13778    YBR200W     YNL271C            BEM1             BNI1   \n",
       "13779    YBR200W     YER155C            BEM1             BEM2   \n",
       "14385    YBR200W     YHR206W            BEM1             SKN7   \n",
       "\n",
       "                                  gene-query-description  \\\n",
       "2846   SRO1|phosphatidylinositol-3-phosphate-binding ...   \n",
       "2847   SRO1|phosphatidylinositol-3-phosphate-binding ...   \n",
       "5004   SRO1|phosphatidylinositol-3-phosphate-binding ...   \n",
       "13777  SRO1|phosphatidylinositol-3-phosphate-binding ...   \n",
       "13778  SRO1|phosphatidylinositol-3-phosphate-binding ...   \n",
       "13779  SRO1|phosphatidylinositol-3-phosphate-binding ...   \n",
       "14385  SRO1|phosphatidylinositol-3-phosphate-binding ...   \n",
       "\n",
       "                                 gene-target-description     interaction-type  \\\n",
       "2846                           IPL2|SUP9|TSL1|L000000168  Synthetic Lethality   \n",
       "2847   CLS4|Rho family guanine nucleotide exchange fa...  Synthetic Lethality   \n",
       "5004                                          L000001184  Synthetic Lethality   \n",
       "13777                                    KNR4|L000000909  Synthetic Lethality   \n",
       "13778                   PPF3|SHE5|formin BNI1|L000000190  Synthetic Lethality   \n",
       "13779                          IPL2|SUP9|TSL1|L000000168  Synthetic Lethality   \n",
       "14385  BRY1|POS9|kinase-regulated stress-responsive t...     Dosage Lethality   \n",
       "\n",
       "            paper-source  \n",
       "2846   Peterson J (1994)  \n",
       "2847   Peterson J (1994)  \n",
       "5004     Bender A (1991)  \n",
       "13777   Gorelik M (2011)  \n",
       "13778   Gorelik M (2011)  \n",
       "13779   Gorelik M (2011)  \n",
       "14385   Bouquin N (1999)  "
      ]
     },
     "execution_count": 36,
     "metadata": {},
     "output_type": "execute_result"
    }
   ],
   "source": [
    "data_sl[data_sl['gene-query-name']=='BEM1']"
   ]
  },
  {
   "cell_type": "code",
   "execution_count": null,
   "metadata": {},
   "outputs": [],
   "source": []
  }
 ],
 "metadata": {
  "jupytext": {
   "text_representation": {
    "extension": ".md",
    "format_name": "myst"
   }
  },
  "kernelspec": {
   "display_name": "Python 3",
   "language": "python",
   "name": "python3"
  },
  "language_info": {
   "codemirror_mode": {
    "name": "ipython",
    "version": 3
   },
   "file_extension": ".py",
   "mimetype": "text/x-python",
   "name": "python",
   "nbconvert_exporter": "python",
   "pygments_lexer": "ipython3",
   "version": "3.7.8"
  },
  "source_map": [
   10,
   18,
   29,
   36,
   57,
   66,
   98,
   101,
   105,
   128,
   131,
   135,
   139,
   145,
   178,
   184,
   188,
   206,
   210,
   218,
   222,
   225,
   229,
   234,
   238,
   244,
   248,
   253,
   257,
   267,
   269,
   273,
   306,
   311,
   313,
   317,
   328,
   330,
   334,
   344,
   348,
   358,
   360,
   364,
   381,
   388,
   394,
   400,
   407,
   412,
   419,
   424,
   428,
   432
  ]
 },
 "nbformat": 4,
 "nbformat_minor": 4
}