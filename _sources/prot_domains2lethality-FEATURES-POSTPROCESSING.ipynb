{
 "cells": [
  {
   "cell_type": "markdown",
   "metadata": {},
   "source": [
    "# Feature postprocessing from paper.\n",
    "- Title:  \"Predicting yeast synthetic lethal genetic interactions using protein domains\"\n",
    "- Authors: Bo Li, Feng Luo,School of Computing,Clemson University,Clemson, SC, USA\n",
    "- e-mail: bol, luofeng@clemson.edu\n",
    "- year:2009"
   ]
  },
  {
   "cell_type": "code",
   "execution_count": 1,
   "metadata": {
    "execution": {
     "iopub.execute_input": "2020-08-13T12:12:28.103436Z",
     "iopub.status.busy": "2020-08-13T12:12:28.101691Z",
     "iopub.status.idle": "2020-08-13T12:12:28.803922Z",
     "shell.execute_reply": "2020-08-13T12:12:28.802879Z"
    }
   },
   "outputs": [],
   "source": [
    "import pandas as pd\n",
    "import numpy as np\n",
    "import matplotlib.pyplot as plt\n",
    "from collections import defaultdict \n",
    "import seaborn as sns\n",
    "import matplotlib.cm as cm\n",
    "import scipy as scipy\n",
    "import random"
   ]
  },
  {
   "cell_type": "markdown",
   "metadata": {
    "jupyter": {
     "source_hidden": true
    }
   },
   "source": [
    "### Importing datasets \n",
    "\n",
    "#### Link to the github repo where the datasets to be downloaded:\n",
    "[DOWNLOAD THE DATASETS HERE](https://github.com/leilaicruz/machine-learning-for-yeast/tree/dev_Leila/datasets-for-learning)"
   ]
  },
  {
   "cell_type": "code",
   "execution_count": 2,
   "metadata": {
    "execution": {
     "iopub.execute_input": "2020-08-13T12:12:28.811051Z",
     "iopub.status.busy": "2020-08-13T12:12:28.810521Z",
     "iopub.status.idle": "2020-08-13T12:12:35.539012Z",
     "shell.execute_reply": "2020-08-13T12:12:35.538037Z"
    }
   },
   "outputs": [],
   "source": [
    "import os\n",
    "script_dir = os.path.dirname('__file__') #<-- absolute dir the script is in\n",
    "rel_path_SL = \"datasets/data-synthetic-lethals.xlsx\"\n",
    "rel_path_nSL=\"datasets/data-positive-genetic.xlsx\"\n",
    "rel_path_domains=\"datasets/proteins-domains-from-Pfam.xlsx\"\n",
    "\n",
    "abs_file_path_SL = os.path.join(script_dir, rel_path_SL)\n",
    "abs_file_path_nSL = os.path.join(script_dir, rel_path_nSL)\n",
    "abs_file_path_domains = os.path.join(script_dir, rel_path_domains)\n",
    "\n",
    "# os.chdir('mini_book/docs/') #<-- for binder os.chdir('../')\n",
    "# os.chdir('../')\n",
    "my_path_sl= abs_file_path_SL\n",
    "my_path_non_sl=abs_file_path_nSL\n",
    "my_path_domains=abs_file_path_domains\n",
    "\n",
    "data_sl=pd.read_excel(my_path_sl,header=0)\n",
    "data_domains=pd.read_excel(my_path_domains,header=0,index_col='Unnamed: 0')\n",
    "data_domains=data_domains.dropna()\n",
    "data_nonsl=pd.read_excel(my_path_non_sl,header=0)"
   ]
  },
  {
   "cell_type": "markdown",
   "metadata": {},
   "source": [
    "## Building the feature matrix\n",
    "One matrix for true SL where each row is one pair of SL. Every raw will be a vector of 0,1 or 2 depending on the comparison with the domain list. For row i the jth element = 0 if the jth element of the domain list is not in neither protein A and B, 1, if it is in one of them and 2 if it is in both of them .\n",
    "\n",
    "### Building the list of proteins domains id per protein pair separately :\n",
    "- List of protein A: Search for the Sl/nSL database the query gene name and look in the protein domain database which protein domains id has each of those queries.\n",
    "- List of protein B: Search for the Sl/nSL database the target gene name of the previous query and look in the protein domain database which protein domains id has each of those target genes."
   ]
  },
  {
   "cell_type": "code",
   "execution_count": 3,
   "metadata": {
    "execution": {
     "iopub.execute_input": "2020-08-13T12:12:35.620629Z",
     "iopub.status.busy": "2020-08-13T12:12:35.550014Z",
     "iopub.status.idle": "2020-08-13T12:12:37.191234Z",
     "shell.execute_reply": "2020-08-13T12:12:37.190023Z"
    }
   },
   "outputs": [],
   "source": [
    "# Selecting the meaningful columns in the respective dataset\n",
    "domain_id_list=data_domains['domain-name']\n",
    "query_gene=data_sl['gene-query-name']\n",
    "target_gene=data_sl['gene-target-name']\n",
    "query_gene_nonlethal=data_nonsl['gene-query-name']\n",
    "target_gene_nonlethal=data_nonsl['gene-target-name']\n",
    "\n",
    "\n",
    "\n",
    "# Initialising the arrays\n",
    "protein_a_list=[]\n",
    "protein_b_list=[]\n",
    "protein_a_list_non=[]\n",
    "protein_b_list_non=[]\n",
    "\n",
    "population = np.arange(0,len(data_sl))\n",
    "\n",
    "# For loop for 10000 pairs sampled randomly from the SL/nSl pair list , and creating a big array of proteind domains id per protein pair\n",
    "\n",
    "for m in random.sample(list(population), 500):\n",
    "    protein_a=data_domains[data_domains['name']==query_gene[m]]\n",
    "    protein_b=data_domains[data_domains['name']==target_gene[m]]\n",
    "    protein_a_list.append(protein_a['domain-name'].tolist())\n",
    "    protein_b_list.append(protein_b['domain-name'].tolist())\n",
    "\n",
    "    protein_a_non=data_domains[data_domains['name']==query_gene_nonlethal[m]]\n",
    "    protein_b_non=data_domains[data_domains['name']==target_gene_nonlethal[m]]\n",
    "    protein_a_list_non.append(protein_a_non['domain-name'].tolist())\n",
    "    protein_b_list_non.append(protein_b_non['domain-name'].tolist())"
   ]
  },
  {
   "cell_type": "code",
   "execution_count": 4,
   "metadata": {
    "execution": {
     "iopub.execute_input": "2020-08-13T12:12:37.195192Z",
     "iopub.status.busy": "2020-08-13T12:12:37.194708Z",
     "iopub.status.idle": "2020-08-13T12:12:37.198500Z",
     "shell.execute_reply": "2020-08-13T12:12:37.198906Z"
    }
   },
   "outputs": [
    {
     "name": "stdout",
     "output_type": "stream",
     "text": [
      "We are going to analyze 500 protein pairs, out of 17871 SL protein pairs\n",
      "We are going to analyze 500 protein pairs, out of 43340 positive protein pairs\n"
     ]
    }
   ],
   "source": [
    "print('We are going to analyze',len((protein_a_list)) ,'protein pairs, out of',len(data_sl),'SL protein pairs')\n",
    "print('We are going to analyze',len((protein_a_list_non)) ,'protein pairs, out of',len(data_nonsl),'positive protein pairs')"
   ]
  },
  {
   "cell_type": "markdown",
   "metadata": {},
   "source": [
    "### Postprocessing #1:  Remove protein pairs from study if either protein in the pair does not contain any domain"
   ]
  },
  {
   "cell_type": "code",
   "execution_count": 5,
   "metadata": {
    "execution": {
     "iopub.execute_input": "2020-08-13T12:12:37.207046Z",
     "iopub.status.busy": "2020-08-13T12:12:37.206547Z",
     "iopub.status.idle": "2020-08-13T12:12:37.209842Z",
     "shell.execute_reply": "2020-08-13T12:12:37.209489Z"
    }
   },
   "outputs": [],
   "source": [
    "def remove_empty_domains(protein_list_search,protein_list_pair):\n",
    "    index=[]\n",
    "    for i in np.arange(0,len(protein_list_search)):\n",
    "        if protein_list_search[i]==[] or protein_list_pair[i]==[]:\n",
    "            index.append(i) ## index of empty values for the protein_a_list meaning they dont have any annotated domain\n",
    "\n",
    "    y=[x for x in np.arange(0,len(protein_list_search)) if x not in index] # a list with non empty values from protein_a list\n",
    "\n",
    "    protein_list_search_new=[]\n",
    "    protein_list_pair_new=[]\n",
    "    for i in y:\n",
    "        protein_list_search_new.append(protein_list_search[i])\n",
    "        protein_list_pair_new.append(protein_list_pair[i])\n",
    "    return protein_list_search_new,protein_list_pair_new\n",
    "\n",
    "## evaluating the function\n",
    "\n",
    "protein_a_list_new,protein_b_list_new=remove_empty_domains(protein_a_list,protein_b_list)\n",
    "\n",
    "protein_a_list_non_new,protein_b_list_non_new=remove_empty_domains(protein_a_list_non,protein_b_list_non)"
   ]
  },
  {
   "cell_type": "code",
   "execution_count": 6,
   "metadata": {
    "execution": {
     "iopub.execute_input": "2020-08-13T12:12:37.213220Z",
     "iopub.status.busy": "2020-08-13T12:12:37.212794Z",
     "iopub.status.idle": "2020-08-13T12:12:37.216727Z",
     "shell.execute_reply": "2020-08-13T12:12:37.216378Z"
    }
   },
   "outputs": [
    {
     "name": "stdout",
     "output_type": "stream",
     "text": [
      "The empty domain in the SL were: 83 out of 500 domains\n",
      "The empty domain in the nSL were: 101 out of 500 domains\n"
     ]
    }
   ],
   "source": [
    "print('The empty domain in the SL were:', len(protein_a_list)-len(protein_a_list_new), 'out of', len(protein_a_list),'domains')\n",
    "print('The empty domain in the nSL were:', len(protein_a_list_non)-len(protein_a_list_non_new), 'out of', len(protein_a_list_non),'domains')"
   ]
  },
  {
   "cell_type": "markdown",
   "metadata": {},
   "source": [
    "### Feature engineering: Select from each ordered indexes of domain id list which of them appear once, in both or in any of the domains of each protein pair"
   ]
  },
  {
   "cell_type": "markdown",
   "metadata": {},
   "source": [
    "#### Define function `get_indexes`"
   ]
  },
  {
   "cell_type": "code",
   "execution_count": 7,
   "metadata": {
    "execution": {
     "iopub.execute_input": "2020-08-13T12:12:37.222800Z",
     "iopub.status.busy": "2020-08-13T12:12:37.221921Z",
     "iopub.status.idle": "2020-08-13T12:12:37.227279Z",
     "shell.execute_reply": "2020-08-13T12:12:37.226610Z"
    }
   },
   "outputs": [
    {
     "data": {
      "text/plain": [
       "[1, 2]"
      ]
     },
     "execution_count": 7,
     "metadata": {},
     "output_type": "execute_result"
    }
   ],
   "source": [
    "get_indexes = lambda x, xs: [i for (y, i) in zip(xs, range(len(xs))) if x == y] # a function that give the index of whether a value appear in array or not\n",
    "a=[1,2,2,4,5,6,7,8,9,10]\n",
    "get_indexes(2,a)"
   ]
  },
  {
   "cell_type": "code",
   "execution_count": 8,
   "metadata": {
    "execution": {
     "iopub.execute_input": "2020-08-13T12:12:37.233963Z",
     "iopub.status.busy": "2020-08-13T12:12:37.233434Z",
     "iopub.status.idle": "2020-08-13T12:12:37.236933Z",
     "shell.execute_reply": "2020-08-13T12:12:37.236510Z"
    }
   },
   "outputs": [],
   "source": [
    "def feature_building(protein_a_list_new,protein_b_list_new):\n",
    "    x = np.unique(domain_id_list)\n",
    "    ## To avoid taking repeated domains from one protein of the pairs , lets reduced the domains of each protein from the pairs to their unique members\n",
    "    protein_a_list_unique=[]\n",
    "    protein_b_list_unique=[]\n",
    "    for i in np.arange(0,len(protein_a_list_new)):\n",
    "        protein_a_list_unique.append(np.unique(protein_a_list_new[i]))\n",
    "        protein_b_list_unique.append(np.unique(protein_b_list_new[i]))\n",
    "        \n",
    "    protein_feat_true=np.zeros(shape=(len(x),len(protein_a_list_unique)))\n",
    "    pair_a_b_array=[]\n",
    "    for i in np.arange(0,len(protein_a_list_unique)):\n",
    "        index_a=[]\n",
    "        \n",
    "        pair=[protein_a_list_unique[i],protein_b_list_unique[i]]\n",
    "        pair_a_b=np.concatenate(pair).ravel()\n",
    "        pair_a_b_array.append(pair_a_b)\n",
    "\n",
    "    j=0\n",
    "    for i in pair_a_b_array:  \n",
    "        array,index,counts=np.unique(i,return_index=True,return_counts=True)\n",
    "        \n",
    "        for k,m in zip(counts,array):\n",
    "            if k ==2:\n",
    "                protein_feat_true[get_indexes(m,x),j]=2\n",
    "                \n",
    "            if k==1:\n",
    "                protein_feat_true[get_indexes(m,x),j]=1\n",
    "        j=j+1\n",
    "    return protein_feat_true"
   ]
  },
  {
   "cell_type": "code",
   "execution_count": 9,
   "metadata": {
    "execution": {
     "iopub.execute_input": "2020-08-13T12:12:37.245077Z",
     "iopub.status.busy": "2020-08-13T12:12:37.244591Z",
     "iopub.status.idle": "2020-08-13T12:12:37.827538Z",
     "shell.execute_reply": "2020-08-13T12:12:37.826570Z"
    }
   },
   "outputs": [],
   "source": [
    "protein_feat_true=feature_building(protein_b_list_new=protein_b_list_new,protein_a_list_new=protein_a_list_new)\n",
    "protein_feat_true_pd=pd.DataFrame(protein_feat_true.T)\n",
    "\n",
    "protein_feat_non_true=feature_building(protein_b_list_new=protein_b_list_non_new,protein_a_list_new=protein_a_list_non_new)\n",
    "protein_feat_non_true_pd=pd.DataFrame(protein_feat_non_true.T)"
   ]
  },
  {
   "cell_type": "markdown",
   "metadata": {},
   "source": [
    "### How many ones and twos are in each dataset"
   ]
  },
  {
   "cell_type": "code",
   "execution_count": 10,
   "metadata": {
    "execution": {
     "iopub.execute_input": "2020-08-13T12:12:37.833575Z",
     "iopub.status.busy": "2020-08-13T12:12:37.833065Z",
     "iopub.status.idle": "2020-08-13T12:12:37.938725Z",
     "shell.execute_reply": "2020-08-13T12:12:37.938092Z"
    }
   },
   "outputs": [
    {
     "name": "stdout",
     "output_type": "stream",
     "text": [
      "fraction of twos in the SL array is 1.8233347206532293e-05\n",
      "fraction of ones in the SL array is 0.0010519848583942764\n",
      "fraction of twos in the PI array is 1.2427763623935872e-05\n",
      "fraction of ones in the PI array is 0.0009213115433211127\n"
     ]
    }
   ],
   "source": [
    "index_2_true=protein_feat_true_pd.where(protein_feat_true_pd==2)\n",
    "index_2_true_count=index_2_true.count(axis=1).sum()\n",
    "\n",
    "index_1_true=protein_feat_true_pd.where(protein_feat_true_pd==1)\n",
    "index_1_true_count=index_1_true.count(axis=1).sum()\n",
    "\n",
    "index_2_nontrue=protein_feat_non_true_pd.where(protein_feat_non_true_pd==2)\n",
    "index_2_nontrue_count=index_2_nontrue.count(axis=1).sum()\n",
    "\n",
    "index_1_nontrue=protein_feat_non_true_pd.where(protein_feat_non_true_pd==1)\n",
    "index_1_nontrue_count=index_1_nontrue.count(axis=1).sum()\n",
    "\n",
    "\n",
    "print('fraction of twos in the SL array is',index_2_true_count/(len(protein_feat_true_pd.index)*len(protein_feat_true_pd.columns)))\n",
    "print('fraction of ones in the SL array is',index_1_true_count/(len(protein_feat_true_pd.index)*len(protein_feat_true_pd.columns)))\n",
    "print('fraction of twos in the PI array is',index_2_nontrue_count/(len(protein_feat_non_true_pd.index)*len(protein_feat_non_true_pd.columns)))\n",
    "print('fraction of ones in the PI array is',index_1_nontrue_count/(len(protein_feat_non_true_pd.index)*len(protein_feat_non_true_pd.columns)))"
   ]
  },
  {
   "cell_type": "markdown",
   "metadata": {},
   "source": [
    "#### Bar plot to visualize these numbers"
   ]
  },
  {
   "cell_type": "code",
   "execution_count": 11,
   "metadata": {
    "execution": {
     "iopub.execute_input": "2020-08-13T12:12:37.957692Z",
     "iopub.status.busy": "2020-08-13T12:12:37.953709Z",
     "iopub.status.idle": "2020-08-13T12:12:38.342666Z",
     "shell.execute_reply": "2020-08-13T12:12:38.341825Z"
    }
   },
   "outputs": [
    {
     "data": {
      "text/plain": [
       "([0, 1, 2, 3],\n",
       " [Text(0, 0, ''), Text(0, 0, ''), Text(0, 0, ''), Text(0, 0, '')])"
      ]
     },
     "execution_count": 11,
     "metadata": {},
     "output_type": "execute_result"
    },
    {
     "data": {
      "image/png": "[encoded data removed]",
      "text/plain": [
       "<Figure size 432x288 with 1 Axes>"
      ]
     },
     "metadata": {
      "filenames": {
       "image/png": "/home/runner/work/jupyter-book/jupyter-book/mini_book/docs/_build/jupyter_execute/prot_domains2lethality-FEATURES-POSTPROCESSING_18_1.png"
      },
      "needs_background": "light"
     },
     "output_type": "display_data"
    }
   ],
   "source": [
    "plt.bar(['fraction of 2 in the nSL','fraction of 1 in the nSL'],[index_2_nontrue_count/(len(protein_feat_non_true_pd.index)*len(protein_feat_non_true_pd.columns)),index_1_nontrue_count/(len(protein_feat_non_true_pd.index)*len(protein_feat_non_true_pd.columns))],alpha=0.6,color=['blue','lightblue']), \n",
    "\n",
    "plt.bar(['fraction of 2 in SL ','fraction of 1 in SL'],[index_2_true_count/(len(protein_feat_true_pd.index)*len(protein_feat_true_pd.columns)),index_1_true_count/(len(protein_feat_true_pd.index)*len(protein_feat_true_pd.columns))],alpha=0.6,color=['coral','lightcoral'])\n",
    "\n",
    "plt.ylabel('Fraction from the population')\n",
    "plt.yscale('log')\n",
    "plt.xticks(rotation=40)"
   ]
  },
  {
   "cell_type": "markdown",
   "metadata": {},
   "source": [
    "#### Adding the labels(response variables) to each dataset"
   ]
  },
  {
   "cell_type": "code",
   "execution_count": 12,
   "metadata": {
    "execution": {
     "iopub.execute_input": "2020-08-13T12:12:38.348005Z",
     "iopub.status.busy": "2020-08-13T12:12:38.347582Z",
     "iopub.status.idle": "2020-08-13T12:12:38.351343Z",
     "shell.execute_reply": "2020-08-13T12:12:38.350743Z"
    }
   },
   "outputs": [],
   "source": [
    "protein_feat_true_pd['lethality']=np.ones(shape=(len(protein_a_list_new)))\n",
    "protein_feat_non_true_pd['lethality']=np.zeros(shape=(len(protein_a_list_non_new)))"
   ]
  },
  {
   "cell_type": "markdown",
   "metadata": {},
   "source": [
    "#### Joining both datasets"
   ]
  },
  {
   "cell_type": "code",
   "execution_count": 13,
   "metadata": {
    "execution": {
     "iopub.execute_input": "2020-08-13T12:12:38.354963Z",
     "iopub.status.busy": "2020-08-13T12:12:38.354480Z",
     "iopub.status.idle": "2020-08-13T12:12:38.393432Z",
     "shell.execute_reply": "2020-08-13T12:12:38.391797Z"
    }
   },
   "outputs": [
    {
     "name": "stdout",
     "output_type": "stream",
     "text": [
      "The number of features are: 3026\n",
      "The number of samples are: 816\n"
     ]
    }
   ],
   "source": [
    "feature_post=pd.concat([protein_feat_true_pd,protein_feat_non_true_pd],axis=0)\n",
    "feature_post=feature_post.set_index(np.arange(0,len(protein_a_list_new)+len(protein_a_list_non_new)))\n",
    "print('The number of features are:',feature_post.shape[1])\n",
    "print('The number of samples are:',feature_post.shape[0])"
   ]
  },
  {
   "cell_type": "markdown",
   "metadata": {},
   "source": [
    "### Postprocessing and exploration of the feature matrix of both datasets"
   ]
  },
  {
   "cell_type": "code",
   "execution_count": 14,
   "metadata": {
    "execution": {
     "iopub.execute_input": "2020-08-13T12:12:38.398574Z",
     "iopub.status.busy": "2020-08-13T12:12:38.396748Z",
     "iopub.status.idle": "2020-08-13T12:12:41.526293Z",
     "shell.execute_reply": "2020-08-13T12:12:41.525280Z"
    }
   },
   "outputs": [],
   "source": [
    "mean=feature_post.T.describe().loc['mean']\n",
    "std=feature_post.T.describe().loc['std']\n",
    "lethality=feature_post['lethality']\n",
    "\n",
    "corr_keys=pd.concat([mean,std,lethality],axis=1)"
   ]
  },
  {
   "cell_type": "markdown",
   "metadata": {},
   "source": [
    "### Viz of the stats"
   ]
  },
  {
   "cell_type": "code",
   "execution_count": 15,
   "metadata": {
    "execution": {
     "iopub.execute_input": "2020-08-13T12:12:41.569751Z",
     "iopub.status.busy": "2020-08-13T12:12:41.543354Z",
     "iopub.status.idle": "2020-08-13T12:12:42.709013Z",
     "shell.execute_reply": "2020-08-13T12:12:42.708618Z"
    }
   },
   "outputs": [
    {
     "data": {
      "text/plain": [
       "Text(0.5, 1.08, 'Pairplot to see data dependencies with Lethality')"
      ]
     },
     "execution_count": 15,
     "metadata": {},
     "output_type": "execute_result"
    },
    {
     "data": {
      "image/png": "[encoded data removed]",
      "text/plain": [
       "<Figure size 412x360 with 6 Axes>"
      ]
     },
     "metadata": {
      "filenames": {
       "image/png": "/home/runner/work/jupyter-book/jupyter-book/mini_book/docs/_build/jupyter_execute/prot_domains2lethality-FEATURES-POSTPROCESSING_26_1.png"
      },
      "needs_background": "light"
     },
     "output_type": "display_data"
    }
   ],
   "source": [
    "pair=sns.pairplot(corr_keys,hue='lethality',diag_kind='kde',kind='reg',palette='colorblind')\n",
    "pair.fig.suptitle('Pairplot to see data dependencies with Lethality',y=1.08)"
   ]
  },
  {
   "cell_type": "code",
   "execution_count": 16,
   "metadata": {
    "execution": {
     "iopub.execute_input": "2020-08-13T12:12:42.717910Z",
     "iopub.status.busy": "2020-08-13T12:12:42.717397Z",
     "iopub.status.idle": "2020-08-13T12:12:42.721341Z",
     "shell.execute_reply": "2020-08-13T12:12:42.720637Z"
    }
   },
   "outputs": [],
   "source": [
    "X, y = feature_post.drop(columns=[\"lethality\"]), feature_post[\"lethality\"]"
   ]
  },
  {
   "cell_type": "code",
   "execution_count": 17,
   "metadata": {
    "execution": {
     "iopub.execute_input": "2020-08-13T12:12:42.725590Z",
     "iopub.status.busy": "2020-08-13T12:12:42.724671Z",
     "iopub.status.idle": "2020-08-13T12:12:42.916985Z",
     "shell.execute_reply": "2020-08-13T12:12:42.917812Z"
    }
   },
   "outputs": [],
   "source": [
    "from sklearn.preprocessing import StandardScaler\n",
    "scaler = StandardScaler()\n",
    "x_sl=protein_feat_true_pd.drop(columns=['lethality'])\n",
    "x_nsl=protein_feat_non_true_pd.drop(columns=['lethality'])\n",
    "\n",
    "X_sl_scaled = scaler.fit_transform(x_sl)\n",
    "X_nsl_scaled = scaler.fit_transform(x_nsl)"
   ]
  },
  {
   "cell_type": "code",
   "execution_count": 18,
   "metadata": {
    "execution": {
     "iopub.execute_input": "2020-08-13T12:12:42.921543Z",
     "iopub.status.busy": "2020-08-13T12:12:42.920990Z",
     "iopub.status.idle": "2020-08-13T12:12:42.923350Z",
     "shell.execute_reply": "2020-08-13T12:12:42.923765Z"
    }
   },
   "outputs": [
    {
     "data": {
      "text/plain": [
       "(417, 3025)"
      ]
     },
     "execution_count": 18,
     "metadata": {},
     "output_type": "execute_result"
    }
   ],
   "source": [
    "np.shape(X_sl_scaled)"
   ]
  },
  {
   "cell_type": "markdown",
   "metadata": {},
   "source": [
    "## How redundant are each of the protein domains?"
   ]
  },
  {
   "cell_type": "code",
   "execution_count": 19,
   "metadata": {
    "execution": {
     "iopub.execute_input": "2020-08-13T12:12:42.929309Z",
     "iopub.status.busy": "2020-08-13T12:12:42.928862Z",
     "iopub.status.idle": "2020-08-13T12:12:42.931706Z",
     "shell.execute_reply": "2020-08-13T12:12:42.932104Z"
    }
   },
   "outputs": [],
   "source": [
    "def PCA_component_contribution(scaled_matrix,original_data):\n",
    "    from sklearn.decomposition import PCA\n",
    "\n",
    "    model = PCA(0.95).fit(scaled_matrix)\n",
    "    ## apply dimensionality reduction to X_train\n",
    "    output_pca = model.transform(scaled_matrix)\n",
    "    \n",
    "    total=sum(model.explained_variance_)\n",
    "\n",
    "\n",
    "   \n",
    "    # number of components , that it will be the number of main axes times the number of original components \n",
    "    n_pcs= model.components_.shape[0] # the amount of non redundant protein domains \n",
    "\n",
    "    # get the index of the most important feature on EACH component\n",
    "    # LIST COMPREHENSION HERE\n",
    "    most_important = [np.abs(model.components_[i]).argmax() for i in range(n_pcs)]\n",
    "\n",
    "    initial_feature_names = original_data.columns\n",
    "    # get the names\n",
    "    most_important_names = [initial_feature_names[most_important[i]] for i in range(n_pcs)]\n",
    "    \n",
    "\n",
    "    # LIST COMPREHENSION HERE AGAIN\n",
    "    dic = {'PC{}'.format(i): most_important_names[i] for i in range(n_pcs)}\n",
    "\n",
    "    # build the dataframe\n",
    "    df = pd.DataFrame(dic.items(),columns=['pca-component','domain-number'])\n",
    "\n",
    "    return df,model.components_"
   ]
  },
  {
   "cell_type": "code",
   "execution_count": 20,
   "metadata": {
    "execution": {
     "iopub.execute_input": "2020-08-13T12:12:42.935518Z",
     "iopub.status.busy": "2020-08-13T12:12:42.934649Z",
     "iopub.status.idle": "2020-08-13T12:12:43.459480Z",
     "shell.execute_reply": "2020-08-13T12:12:43.459909Z"
    }
   },
   "outputs": [],
   "source": [
    "df_sl,components_pca_nsl=PCA_component_contribution(X_nsl_scaled,x_nsl)\n",
    "df_nsl,components_pca_sl=PCA_component_contribution(X_sl_scaled,x_sl)"
   ]
  },
  {
   "cell_type": "code",
   "execution_count": 21,
   "metadata": {
    "execution": {
     "iopub.execute_input": "2020-08-13T12:12:43.462915Z",
     "iopub.status.busy": "2020-08-13T12:12:43.461895Z",
     "iopub.status.idle": "2020-08-13T12:12:43.472449Z",
     "shell.execute_reply": "2020-08-13T12:12:43.473175Z"
    }
   },
   "outputs": [
    {
     "data": {
      "text/html": [
       "<div>\n",
       "<style scoped>\n",
       "    .dataframe tbody tr th:only-of-type {\n",
       "        vertical-align: middle;\n",
       "    }\n",
       "\n",
       "    .dataframe tbody tr th {\n",
       "        vertical-align: top;\n",
       "    }\n",
       "\n",
       "    .dataframe thead th {\n",
       "        text-align: right;\n",
       "    }\n",
       "</style>\n",
       "<table border=\"1\" class=\"dataframe\">\n",
       "  <thead>\n",
       "    <tr style=\"text-align: right;\">\n",
       "      <th></th>\n",
       "      <th>pca-component</th>\n",
       "      <th>domain-number</th>\n",
       "    </tr>\n",
       "  </thead>\n",
       "  <tbody>\n",
       "    <tr>\n",
       "      <th>0</th>\n",
       "      <td>PC0</td>\n",
       "      <td>1028</td>\n",
       "    </tr>\n",
       "    <tr>\n",
       "      <th>1</th>\n",
       "      <td>PC1</td>\n",
       "      <td>264</td>\n",
       "    </tr>\n",
       "    <tr>\n",
       "      <th>2</th>\n",
       "      <td>PC2</td>\n",
       "      <td>165</td>\n",
       "    </tr>\n",
       "    <tr>\n",
       "      <th>3</th>\n",
       "      <td>PC3</td>\n",
       "      <td>540</td>\n",
       "    </tr>\n",
       "    <tr>\n",
       "      <th>4</th>\n",
       "      <td>PC4</td>\n",
       "      <td>242</td>\n",
       "    </tr>\n",
       "  </tbody>\n",
       "</table>\n",
       "</div>"
      ],
      "text/plain": [
       "  pca-component  domain-number\n",
       "0           PC0           1028\n",
       "1           PC1            264\n",
       "2           PC2            165\n",
       "3           PC3            540\n",
       "4           PC4            242"
      ]
     },
     "execution_count": 21,
     "metadata": {},
     "output_type": "execute_result"
    }
   ],
   "source": [
    "df_sl.head()"
   ]
  },
  {
   "cell_type": "markdown",
   "metadata": {},
   "source": [
    "## which are the shared domains between nSL and SL pairs , in the PCA reduced samples"
   ]
  },
  {
   "cell_type": "code",
   "execution_count": 22,
   "metadata": {
    "execution": {
     "iopub.execute_input": "2020-08-13T12:12:43.476266Z",
     "iopub.status.busy": "2020-08-13T12:12:43.475236Z",
     "iopub.status.idle": "2020-08-13T12:12:43.503240Z",
     "shell.execute_reply": "2020-08-13T12:12:43.503907Z"
    }
   },
   "outputs": [
    {
     "data": {
      "text/html": [
       "<div>\n",
       "<style scoped>\n",
       "    .dataframe tbody tr th:only-of-type {\n",
       "        vertical-align: middle;\n",
       "    }\n",
       "\n",
       "    .dataframe tbody tr th {\n",
       "        vertical-align: top;\n",
       "    }\n",
       "\n",
       "    .dataframe thead th {\n",
       "        text-align: right;\n",
       "    }\n",
       "</style>\n",
       "<table border=\"1\" class=\"dataframe\">\n",
       "  <thead>\n",
       "    <tr style=\"text-align: right;\">\n",
       "      <th></th>\n",
       "      <th>pca-component_x</th>\n",
       "      <th>domain-number</th>\n",
       "      <th>pca-component_y</th>\n",
       "      <th>domain-description</th>\n",
       "    </tr>\n",
       "  </thead>\n",
       "  <tbody>\n",
       "    <tr>\n",
       "      <th>0</th>\n",
       "      <td>PC2</td>\n",
       "      <td>165</td>\n",
       "      <td>PC51</td>\n",
       "      <td>Acyltransferase; Phospholipid/glycerol acyltra...</td>\n",
       "    </tr>\n",
       "    <tr>\n",
       "      <th>1</th>\n",
       "      <td>PC3</td>\n",
       "      <td>540</td>\n",
       "      <td>PC1</td>\n",
       "      <td>Cytochrome_B; Cytochrome b/b6, N-terminal</td>\n",
       "    </tr>\n",
       "    <tr>\n",
       "      <th>2</th>\n",
       "      <td>PC7</td>\n",
       "      <td>55</td>\n",
       "      <td>PC15</td>\n",
       "      <td>ADK</td>\n",
       "    </tr>\n",
       "    <tr>\n",
       "      <th>3</th>\n",
       "      <td>PC12</td>\n",
       "      <td>881</td>\n",
       "      <td>PC157</td>\n",
       "      <td>FHA; Forkhead-associated (FHA) domain</td>\n",
       "    </tr>\n",
       "    <tr>\n",
       "      <th>4</th>\n",
       "      <td>PC14</td>\n",
       "      <td>983</td>\n",
       "      <td>PC5</td>\n",
       "      <td>GHMP_kinases_N; GHMP kinase N-terminal domain</td>\n",
       "    </tr>\n",
       "    <tr>\n",
       "      <th>5</th>\n",
       "      <td>PC16</td>\n",
       "      <td>602</td>\n",
       "      <td>PC85</td>\n",
       "      <td>DNA_RNApol_7kD; RNA polymerase archaeal subuni...</td>\n",
       "    </tr>\n",
       "    <tr>\n",
       "      <th>6</th>\n",
       "      <td>PC32</td>\n",
       "      <td>2544</td>\n",
       "      <td>PC28</td>\n",
       "      <td>Sybindin; Trafficking protein particle complex...</td>\n",
       "    </tr>\n",
       "    <tr>\n",
       "      <th>7</th>\n",
       "      <td>PC34</td>\n",
       "      <td>2544</td>\n",
       "      <td>PC28</td>\n",
       "      <td>Sybindin; Trafficking protein particle complex...</td>\n",
       "    </tr>\n",
       "    <tr>\n",
       "      <th>8</th>\n",
       "      <td>PC39</td>\n",
       "      <td>1585</td>\n",
       "      <td>PC59</td>\n",
       "      <td>NPR3; Nitrogen permease regulator 3</td>\n",
       "    </tr>\n",
       "    <tr>\n",
       "      <th>9</th>\n",
       "      <td>PC49</td>\n",
       "      <td>1275</td>\n",
       "      <td>PC96</td>\n",
       "      <td>Kinetocho_Slk19; Central kinetochore-associated</td>\n",
       "    </tr>\n",
       "    <tr>\n",
       "      <th>10</th>\n",
       "      <td>PC52</td>\n",
       "      <td>1275</td>\n",
       "      <td>PC96</td>\n",
       "      <td>Kinetocho_Slk19; Central kinetochore-associated</td>\n",
       "    </tr>\n",
       "    <tr>\n",
       "      <th>11</th>\n",
       "      <td>PC53</td>\n",
       "      <td>1598</td>\n",
       "      <td>PC255</td>\n",
       "      <td>Na_Ca_ex; Sodium/calcium exchanger membrane re...</td>\n",
       "    </tr>\n",
       "    <tr>\n",
       "      <th>12</th>\n",
       "      <td>PC54</td>\n",
       "      <td>1265</td>\n",
       "      <td>PC194</td>\n",
       "      <td>Kei1; Protein of unknown function DUF1753, Golgi</td>\n",
       "    </tr>\n",
       "    <tr>\n",
       "      <th>13</th>\n",
       "      <td>PC55</td>\n",
       "      <td>1265</td>\n",
       "      <td>PC194</td>\n",
       "      <td>Kei1; Protein of unknown function DUF1753, Golgi</td>\n",
       "    </tr>\n",
       "    <tr>\n",
       "      <th>14</th>\n",
       "      <td>PC59</td>\n",
       "      <td>625</td>\n",
       "      <td>PC155</td>\n",
       "      <td>DRE2_N; Fe-S cluster assembly protein Dre2, N-...</td>\n",
       "    </tr>\n",
       "    <tr>\n",
       "      <th>15</th>\n",
       "      <td>PC82</td>\n",
       "      <td>684</td>\n",
       "      <td>PC36</td>\n",
       "      <td>DUF2611; Protein of unknown function DUF2611</td>\n",
       "    </tr>\n",
       "    <tr>\n",
       "      <th>16</th>\n",
       "      <td>PC85</td>\n",
       "      <td>1836</td>\n",
       "      <td>PC31</td>\n",
       "      <td>PTPLA; Protein-tyrosine phosphatase-like, PTPLA</td>\n",
       "    </tr>\n",
       "    <tr>\n",
       "      <th>17</th>\n",
       "      <td>PC89</td>\n",
       "      <td>619</td>\n",
       "      <td>PC99</td>\n",
       "      <td>DNA_pol_phi; DNA polymerase V</td>\n",
       "    </tr>\n",
       "    <tr>\n",
       "      <th>18</th>\n",
       "      <td>PC89</td>\n",
       "      <td>619</td>\n",
       "      <td>PC104</td>\n",
       "      <td>DNA_pol_phi; DNA polymerase V</td>\n",
       "    </tr>\n",
       "    <tr>\n",
       "      <th>19</th>\n",
       "      <td>PC104</td>\n",
       "      <td>619</td>\n",
       "      <td>PC99</td>\n",
       "      <td>DNA_pol_phi; DNA polymerase V</td>\n",
       "    </tr>\n",
       "    <tr>\n",
       "      <th>20</th>\n",
       "      <td>PC104</td>\n",
       "      <td>619</td>\n",
       "      <td>PC104</td>\n",
       "      <td>DNA_pol_phi; DNA polymerase V</td>\n",
       "    </tr>\n",
       "    <tr>\n",
       "      <th>21</th>\n",
       "      <td>PC115</td>\n",
       "      <td>843</td>\n",
       "      <td>PC90</td>\n",
       "      <td>Enolase_C; Enolase, C-terminal TIM barrel domain</td>\n",
       "    </tr>\n",
       "    <tr>\n",
       "      <th>22</th>\n",
       "      <td>PC118</td>\n",
       "      <td>1738</td>\n",
       "      <td>PC199</td>\n",
       "      <td>PGM_PMM_III; Alpha-D-phosphohexomutase, alpha/...</td>\n",
       "    </tr>\n",
       "    <tr>\n",
       "      <th>23</th>\n",
       "      <td>PC118</td>\n",
       "      <td>1738</td>\n",
       "      <td>PC200</td>\n",
       "      <td>PGM_PMM_III; Alpha-D-phosphohexomutase, alpha/...</td>\n",
       "    </tr>\n",
       "    <tr>\n",
       "      <th>24</th>\n",
       "      <td>PC123</td>\n",
       "      <td>665</td>\n",
       "      <td>PC98</td>\n",
       "      <td>DUF202; Domain of unknown function DUF202</td>\n",
       "    </tr>\n",
       "    <tr>\n",
       "      <th>25</th>\n",
       "      <td>PC135</td>\n",
       "      <td>68</td>\n",
       "      <td>PC228</td>\n",
       "      <td>AIRC; PurE domain</td>\n",
       "    </tr>\n",
       "    <tr>\n",
       "      <th>26</th>\n",
       "      <td>PC145</td>\n",
       "      <td>40</td>\n",
       "      <td>PC241</td>\n",
       "      <td>ABC_membrane_2; ABC transporter type 1, transm...</td>\n",
       "    </tr>\n",
       "    <tr>\n",
       "      <th>27</th>\n",
       "      <td>PC146</td>\n",
       "      <td>1857</td>\n",
       "      <td>PC232</td>\n",
       "      <td>Patatin; Patatin-like phospholipase domain</td>\n",
       "    </tr>\n",
       "    <tr>\n",
       "      <th>28</th>\n",
       "      <td>PC146</td>\n",
       "      <td>1857</td>\n",
       "      <td>PC239</td>\n",
       "      <td>Patatin; Patatin-like phospholipase domain</td>\n",
       "    </tr>\n",
       "    <tr>\n",
       "      <th>29</th>\n",
       "      <td>PC153</td>\n",
       "      <td>2526</td>\n",
       "      <td>PC150</td>\n",
       "      <td>Stm1_N; Stm1-like, N-terminal</td>\n",
       "    </tr>\n",
       "    <tr>\n",
       "      <th>30</th>\n",
       "      <td>PC161</td>\n",
       "      <td>2244</td>\n",
       "      <td>PC234</td>\n",
       "      <td>Ribosomal_S6e; Ribosomal protein S6e</td>\n",
       "    </tr>\n",
       "    <tr>\n",
       "      <th>31</th>\n",
       "      <td>PC181</td>\n",
       "      <td>107</td>\n",
       "      <td>PC198</td>\n",
       "      <td>ATE_N; Arginine-tRNA-protein transferase, N-te...</td>\n",
       "    </tr>\n",
       "    <tr>\n",
       "      <th>32</th>\n",
       "      <td>PC184</td>\n",
       "      <td>1048</td>\n",
       "      <td>PC224</td>\n",
       "      <td>Glyco_hydro_31; Glycoside hydrolase family 31</td>\n",
       "    </tr>\n",
       "    <tr>\n",
       "      <th>33</th>\n",
       "      <td>PC184</td>\n",
       "      <td>1048</td>\n",
       "      <td>PC254</td>\n",
       "      <td>Glyco_hydro_31; Glycoside hydrolase family 31</td>\n",
       "    </tr>\n",
       "    <tr>\n",
       "      <th>34</th>\n",
       "      <td>PC210</td>\n",
       "      <td>181</td>\n",
       "      <td>PC181</td>\n",
       "      <td>AlaDh_PNT_N; Alanine dehydrogenase/pyridine nu...</td>\n",
       "    </tr>\n",
       "    <tr>\n",
       "      <th>35</th>\n",
       "      <td>PC215</td>\n",
       "      <td>2125</td>\n",
       "      <td>PC154</td>\n",
       "      <td>Rer1; Retrieval of early ER protein Rer1</td>\n",
       "    </tr>\n",
       "    <tr>\n",
       "      <th>36</th>\n",
       "      <td>PC228</td>\n",
       "      <td>2478</td>\n",
       "      <td>PC191</td>\n",
       "      <td>Sin3_corepress; Histone deacetylase interactin...</td>\n",
       "    </tr>\n",
       "    <tr>\n",
       "      <th>37</th>\n",
       "      <td>PC231</td>\n",
       "      <td>590</td>\n",
       "      <td>PC253</td>\n",
       "      <td>DHquinase_I; 3-dehydroquinate dehydratase type I</td>\n",
       "    </tr>\n",
       "    <tr>\n",
       "      <th>38</th>\n",
       "      <td>PC243</td>\n",
       "      <td>590</td>\n",
       "      <td>PC253</td>\n",
       "      <td>DHquinase_I; 3-dehydroquinate dehydratase type I</td>\n",
       "    </tr>\n",
       "    <tr>\n",
       "      <th>39</th>\n",
       "      <td>PC250</td>\n",
       "      <td>590</td>\n",
       "      <td>PC253</td>\n",
       "      <td>DHquinase_I; 3-dehydroquinate dehydratase type I</td>\n",
       "    </tr>\n",
       "    <tr>\n",
       "      <th>40</th>\n",
       "      <td>PC242</td>\n",
       "      <td>379</td>\n",
       "      <td>PC75</td>\n",
       "      <td>COG6</td>\n",
       "    </tr>\n",
       "    <tr>\n",
       "      <th>41</th>\n",
       "      <td>PC242</td>\n",
       "      <td>379</td>\n",
       "      <td>PC78</td>\n",
       "      <td>COG6</td>\n",
       "    </tr>\n",
       "    <tr>\n",
       "      <th>42</th>\n",
       "      <td>PC249</td>\n",
       "      <td>1151</td>\n",
       "      <td>PC215</td>\n",
       "      <td>Hap4_Hap_bind; Hap4 transcription factor, hete...</td>\n",
       "    </tr>\n",
       "    <tr>\n",
       "      <th>43</th>\n",
       "      <td>PC249</td>\n",
       "      <td>1151</td>\n",
       "      <td>PC222</td>\n",
       "      <td>Hap4_Hap_bind; Hap4 transcription factor, hete...</td>\n",
       "    </tr>\n",
       "    <tr>\n",
       "      <th>44</th>\n",
       "      <td>PC254</td>\n",
       "      <td>161</td>\n",
       "      <td>PC61</td>\n",
       "      <td>Acyl-CoA_ox_N; Acyl-coenzyme A oxidase, N-term...</td>\n",
       "    </tr>\n",
       "    <tr>\n",
       "      <th>45</th>\n",
       "      <td>PC263</td>\n",
       "      <td>283</td>\n",
       "      <td>PC58</td>\n",
       "      <td>BRF1; Brf1, TBP-binding domain</td>\n",
       "    </tr>\n",
       "  </tbody>\n",
       "</table>\n",
       "</div>"
      ],
      "text/plain": [
       "   pca-component_x  domain-number pca-component_y  \\\n",
       "0              PC2            165            PC51   \n",
       "1              PC3            540             PC1   \n",
       "2              PC7             55            PC15   \n",
       "3             PC12            881           PC157   \n",
       "4             PC14            983             PC5   \n",
       "5             PC16            602            PC85   \n",
       "6             PC32           2544            PC28   \n",
       "7             PC34           2544            PC28   \n",
       "8             PC39           1585            PC59   \n",
       "9             PC49           1275            PC96   \n",
       "10            PC52           1275            PC96   \n",
       "11            PC53           1598           PC255   \n",
       "12            PC54           1265           PC194   \n",
       "13            PC55           1265           PC194   \n",
       "14            PC59            625           PC155   \n",
       "15            PC82            684            PC36   \n",
       "16            PC85           1836            PC31   \n",
       "17            PC89            619            PC99   \n",
       "18            PC89            619           PC104   \n",
       "19           PC104            619            PC99   \n",
       "20           PC104            619           PC104   \n",
       "21           PC115            843            PC90   \n",
       "22           PC118           1738           PC199   \n",
       "23           PC118           1738           PC200   \n",
       "24           PC123            665            PC98   \n",
       "25           PC135             68           PC228   \n",
       "26           PC145             40           PC241   \n",
       "27           PC146           1857           PC232   \n",
       "28           PC146           1857           PC239   \n",
       "29           PC153           2526           PC150   \n",
       "30           PC161           2244           PC234   \n",
       "31           PC181            107           PC198   \n",
       "32           PC184           1048           PC224   \n",
       "33           PC184           1048           PC254   \n",
       "34           PC210            181           PC181   \n",
       "35           PC215           2125           PC154   \n",
       "36           PC228           2478           PC191   \n",
       "37           PC231            590           PC253   \n",
       "38           PC243            590           PC253   \n",
       "39           PC250            590           PC253   \n",
       "40           PC242            379            PC75   \n",
       "41           PC242            379            PC78   \n",
       "42           PC249           1151           PC215   \n",
       "43           PC249           1151           PC222   \n",
       "44           PC254            161            PC61   \n",
       "45           PC263            283            PC58   \n",
       "\n",
       "                                   domain-description  \n",
       "0   Acyltransferase; Phospholipid/glycerol acyltra...  \n",
       "1           Cytochrome_B; Cytochrome b/b6, N-terminal  \n",
       "2                                                 ADK  \n",
       "3               FHA; Forkhead-associated (FHA) domain  \n",
       "4       GHMP_kinases_N; GHMP kinase N-terminal domain  \n",
       "5   DNA_RNApol_7kD; RNA polymerase archaeal subuni...  \n",
       "6   Sybindin; Trafficking protein particle complex...  \n",
       "7   Sybindin; Trafficking protein particle complex...  \n",
       "8                 NPR3; Nitrogen permease regulator 3  \n",
       "9     Kinetocho_Slk19; Central kinetochore-associated  \n",
       "10    Kinetocho_Slk19; Central kinetochore-associated  \n",
       "11  Na_Ca_ex; Sodium/calcium exchanger membrane re...  \n",
       "12   Kei1; Protein of unknown function DUF1753, Golgi  \n",
       "13   Kei1; Protein of unknown function DUF1753, Golgi  \n",
       "14  DRE2_N; Fe-S cluster assembly protein Dre2, N-...  \n",
       "15       DUF2611; Protein of unknown function DUF2611  \n",
       "16    PTPLA; Protein-tyrosine phosphatase-like, PTPLA  \n",
       "17                      DNA_pol_phi; DNA polymerase V  \n",
       "18                      DNA_pol_phi; DNA polymerase V  \n",
       "19                      DNA_pol_phi; DNA polymerase V  \n",
       "20                      DNA_pol_phi; DNA polymerase V  \n",
       "21   Enolase_C; Enolase, C-terminal TIM barrel domain  \n",
       "22  PGM_PMM_III; Alpha-D-phosphohexomutase, alpha/...  \n",
       "23  PGM_PMM_III; Alpha-D-phosphohexomutase, alpha/...  \n",
       "24          DUF202; Domain of unknown function DUF202  \n",
       "25                                  AIRC; PurE domain  \n",
       "26  ABC_membrane_2; ABC transporter type 1, transm...  \n",
       "27         Patatin; Patatin-like phospholipase domain  \n",
       "28         Patatin; Patatin-like phospholipase domain  \n",
       "29                      Stm1_N; Stm1-like, N-terminal  \n",
       "30               Ribosomal_S6e; Ribosomal protein S6e  \n",
       "31  ATE_N; Arginine-tRNA-protein transferase, N-te...  \n",
       "32      Glyco_hydro_31; Glycoside hydrolase family 31  \n",
       "33      Glyco_hydro_31; Glycoside hydrolase family 31  \n",
       "34  AlaDh_PNT_N; Alanine dehydrogenase/pyridine nu...  \n",
       "35           Rer1; Retrieval of early ER protein Rer1  \n",
       "36  Sin3_corepress; Histone deacetylase interactin...  \n",
       "37   DHquinase_I; 3-dehydroquinate dehydratase type I  \n",
       "38   DHquinase_I; 3-dehydroquinate dehydratase type I  \n",
       "39   DHquinase_I; 3-dehydroquinate dehydratase type I  \n",
       "40                                               COG6  \n",
       "41                                               COG6  \n",
       "42  Hap4_Hap_bind; Hap4 transcription factor, hete...  \n",
       "43  Hap4_Hap_bind; Hap4 transcription factor, hete...  \n",
       "44  Acyl-CoA_ox_N; Acyl-coenzyme A oxidase, N-term...  \n",
       "45                     BRF1; Brf1, TBP-binding domain  "
      ]
     },
     "execution_count": 22,
     "metadata": {},
     "output_type": "execute_result"
    }
   ],
   "source": [
    "df_shared_domains=pd.merge(df_sl,df_nsl,how='inner',on='domain-number')\n",
    "domains_name=np.unique(data_domains['domain-name'])\n",
    "domains_description=np.unique(data_domains['domain-descrip'])\n",
    "\n",
    "df_shared_domains['domain-description']=domains_description[df_shared_domains['domain-number']]\n",
    "\n",
    "\n",
    "df_shared_domains"
   ]
  },
  {
   "cell_type": "code",
   "execution_count": 23,
   "metadata": {
    "execution": {
     "iopub.execute_input": "2020-08-13T12:12:43.506838Z",
     "iopub.status.busy": "2020-08-13T12:12:43.505883Z",
     "iopub.status.idle": "2020-08-13T12:12:43.512205Z",
     "shell.execute_reply": "2020-08-13T12:12:43.512913Z"
    }
   },
   "outputs": [
    {
     "name": "stdout",
     "output_type": "stream",
     "text": [
      "The number of shared domains between SL and nSL pairs,after PCA, is =  46 out of 541 so the 8.502772643253234 %\n"
     ]
    }
   ],
   "source": [
    "print('The number of shared domains between SL and nSL pairs,after PCA, is = ',len(df_shared_domains), 'out of', len(df_sl)+len(df_nsl), 'so the',100*len(df_shared_domains)/(len(df_sl)+len(df_nsl)),'%')"
   ]
  },
  {
   "cell_type": "markdown",
   "metadata": {},
   "source": [
    "## Domains exclusive to SL"
   ]
  },
  {
   "cell_type": "code",
   "execution_count": 24,
   "metadata": {
    "execution": {
     "iopub.execute_input": "2020-08-13T12:12:43.515915Z",
     "iopub.status.busy": "2020-08-13T12:12:43.514837Z",
     "iopub.status.idle": "2020-08-13T12:12:43.541414Z",
     "shell.execute_reply": "2020-08-13T12:12:43.542110Z"
    }
   },
   "outputs": [
    {
     "data": {
      "text/html": [
       "<div>\n",
       "<style scoped>\n",
       "    .dataframe tbody tr th:only-of-type {\n",
       "        vertical-align: middle;\n",
       "    }\n",
       "\n",
       "    .dataframe tbody tr th {\n",
       "        vertical-align: top;\n",
       "    }\n",
       "\n",
       "    .dataframe thead th {\n",
       "        text-align: right;\n",
       "    }\n",
       "</style>\n",
       "<table border=\"1\" class=\"dataframe\">\n",
       "  <thead>\n",
       "    <tr style=\"text-align: right;\">\n",
       "      <th></th>\n",
       "      <th>pca-component_x</th>\n",
       "      <th>domain-number</th>\n",
       "      <th>pca-component_y</th>\n",
       "      <th>domain-description</th>\n",
       "    </tr>\n",
       "  </thead>\n",
       "  <tbody>\n",
       "    <tr>\n",
       "      <th>0</th>\n",
       "      <td>PC0</td>\n",
       "      <td>1028</td>\n",
       "      <td>NaN</td>\n",
       "      <td>GatB_Yqey; Asn/Gln amidotransferase</td>\n",
       "    </tr>\n",
       "    <tr>\n",
       "      <th>1</th>\n",
       "      <td>PC1</td>\n",
       "      <td>264</td>\n",
       "      <td>NaN</td>\n",
       "      <td>BCNT; BCNT-C domain</td>\n",
       "    </tr>\n",
       "    <tr>\n",
       "      <th>4</th>\n",
       "      <td>PC4</td>\n",
       "      <td>242</td>\n",
       "      <td>NaN</td>\n",
       "      <td>Atg31; Autophagy-related protein 31</td>\n",
       "    </tr>\n",
       "    <tr>\n",
       "      <th>5</th>\n",
       "      <td>PC5</td>\n",
       "      <td>463</td>\n",
       "      <td>NaN</td>\n",
       "      <td>Chitin_synth_1N; Chitin synthase N-terminal</td>\n",
       "    </tr>\n",
       "    <tr>\n",
       "      <th>6</th>\n",
       "      <td>PC6</td>\n",
       "      <td>129</td>\n",
       "      <td>NaN</td>\n",
       "      <td>ATP-synt_F; ATPase, V1 complex, subunit F</td>\n",
       "    </tr>\n",
       "    <tr>\n",
       "      <th>...</th>\n",
       "      <td>...</td>\n",
       "      <td>...</td>\n",
       "      <td>...</td>\n",
       "      <td>...</td>\n",
       "    </tr>\n",
       "    <tr>\n",
       "      <th>276</th>\n",
       "      <td>PC269</td>\n",
       "      <td>212</td>\n",
       "      <td>NaN</td>\n",
       "      <td>Anoctamin</td>\n",
       "    </tr>\n",
       "    <tr>\n",
       "      <th>277</th>\n",
       "      <td>PC270</td>\n",
       "      <td>1236</td>\n",
       "      <td>NaN</td>\n",
       "      <td>Inositol_P; Inositol monophosphatase-like</td>\n",
       "    </tr>\n",
       "    <tr>\n",
       "      <th>278</th>\n",
       "      <td>PC271</td>\n",
       "      <td>2025</td>\n",
       "      <td>NaN</td>\n",
       "      <td>RNA_pol_Rpb2_7; RNA polymerase Rpb2, domain 7</td>\n",
       "    </tr>\n",
       "    <tr>\n",
       "      <th>279</th>\n",
       "      <td>PC272</td>\n",
       "      <td>2584</td>\n",
       "      <td>NaN</td>\n",
       "      <td>TFIIIC_sub6; Transcription factor TFIIIC, tau5...</td>\n",
       "    </tr>\n",
       "    <tr>\n",
       "      <th>280</th>\n",
       "      <td>PC273</td>\n",
       "      <td>2155</td>\n",
       "      <td>NaN</td>\n",
       "      <td>Ribosomal_L12; Ribosomal protein L7/L12, C-ter...</td>\n",
       "    </tr>\n",
       "  </tbody>\n",
       "</table>\n",
       "<p>235 rows × 4 columns</p>\n",
       "</div>"
      ],
      "text/plain": [
       "    pca-component_x  domain-number pca-component_y  \\\n",
       "0               PC0           1028             NaN   \n",
       "1               PC1            264             NaN   \n",
       "4               PC4            242             NaN   \n",
       "5               PC5            463             NaN   \n",
       "6               PC6            129             NaN   \n",
       "..              ...            ...             ...   \n",
       "276           PC269            212             NaN   \n",
       "277           PC270           1236             NaN   \n",
       "278           PC271           2025             NaN   \n",
       "279           PC272           2584             NaN   \n",
       "280           PC273           2155             NaN   \n",
       "\n",
       "                                    domain-description  \n",
       "0                  GatB_Yqey; Asn/Gln amidotransferase  \n",
       "1                                  BCNT; BCNT-C domain  \n",
       "4                  Atg31; Autophagy-related protein 31  \n",
       "5          Chitin_synth_1N; Chitin synthase N-terminal  \n",
       "6            ATP-synt_F; ATPase, V1 complex, subunit F  \n",
       "..                                                 ...  \n",
       "276                                          Anoctamin  \n",
       "277          Inositol_P; Inositol monophosphatase-like  \n",
       "278      RNA_pol_Rpb2_7; RNA polymerase Rpb2, domain 7  \n",
       "279  TFIIIC_sub6; Transcription factor TFIIIC, tau5...  \n",
       "280  Ribosomal_L12; Ribosomal protein L7/L12, C-ter...  \n",
       "\n",
       "[235 rows x 4 columns]"
      ]
     },
     "execution_count": 24,
     "metadata": {},
     "output_type": "execute_result"
    }
   ],
   "source": [
    "df_sl_exclusive=pd.merge(df_sl,df_nsl,how='left',on='domain-number')\n",
    "\n",
    "domains_name=np.unique(data_domains['domain-name'])\n",
    "domains_description=np.unique(data_domains['domain-descrip'])\n",
    "\n",
    "df_sl_exclusive['domain-description']=domains_description[df_sl_exclusive['domain-number']]\n",
    "df_sl_exclusive[pd.isnull(df_sl_exclusive['pca-component_y'])]"
   ]
  },
  {
   "cell_type": "code",
   "execution_count": 25,
   "metadata": {
    "execution": {
     "iopub.execute_input": "2020-08-13T12:12:43.544706Z",
     "iopub.status.busy": "2020-08-13T12:12:43.543855Z",
     "iopub.status.idle": "2020-08-13T12:12:43.550012Z",
     "shell.execute_reply": "2020-08-13T12:12:43.550703Z"
    }
   },
   "outputs": [
    {
     "name": "stdout",
     "output_type": "stream",
     "text": [
      "The number of exclusive domains from SL pairs, after PCA, is =  281 out of 541 so the 51.940850277264325 %\n"
     ]
    }
   ],
   "source": [
    "print('The number of exclusive domains from SL pairs, after PCA, is = ',len(df_sl_exclusive), 'out of', len(df_sl)+len(df_nsl), 'so the',100*len(df_sl_exclusive)/(len(df_sl)+len(df_nsl)),'%')"
   ]
  },
  {
   "cell_type": "code",
   "execution_count": 26,
   "metadata": {
    "execution": {
     "iopub.execute_input": "2020-08-13T12:12:43.553323Z",
     "iopub.status.busy": "2020-08-13T12:12:43.552421Z",
     "iopub.status.idle": "2020-08-13T12:12:43.577576Z",
     "shell.execute_reply": "2020-08-13T12:12:43.578276Z"
    }
   },
   "outputs": [
    {
     "data": {
      "text/html": [
       "<div>\n",
       "<style scoped>\n",
       "    .dataframe tbody tr th:only-of-type {\n",
       "        vertical-align: middle;\n",
       "    }\n",
       "\n",
       "    .dataframe tbody tr th {\n",
       "        vertical-align: top;\n",
       "    }\n",
       "\n",
       "    .dataframe thead th {\n",
       "        text-align: right;\n",
       "    }\n",
       "</style>\n",
       "<table border=\"1\" class=\"dataframe\">\n",
       "  <thead>\n",
       "    <tr style=\"text-align: right;\">\n",
       "      <th></th>\n",
       "      <th>pca-component_x</th>\n",
       "      <th>domain-number</th>\n",
       "      <th>pca-component_y</th>\n",
       "      <th>domain-description</th>\n",
       "    </tr>\n",
       "  </thead>\n",
       "  <tbody>\n",
       "    <tr>\n",
       "      <th>0</th>\n",
       "      <td>NaN</td>\n",
       "      <td>1811</td>\n",
       "      <td>PC0</td>\n",
       "      <td>PRAI; N-(5&amp;apos;phosphoribosyl) anthranilate i...</td>\n",
       "    </tr>\n",
       "    <tr>\n",
       "      <th>2</th>\n",
       "      <td>NaN</td>\n",
       "      <td>1252</td>\n",
       "      <td>PC2</td>\n",
       "      <td>JmjN; JmjN domain</td>\n",
       "    </tr>\n",
       "    <tr>\n",
       "      <th>3</th>\n",
       "      <td>NaN</td>\n",
       "      <td>308</td>\n",
       "      <td>PC3</td>\n",
       "      <td>Bul1_N; Bul1, N-terminal</td>\n",
       "    </tr>\n",
       "    <tr>\n",
       "      <th>4</th>\n",
       "      <td>NaN</td>\n",
       "      <td>2771</td>\n",
       "      <td>PC4</td>\n",
       "      <td>Ubiq-assoc; Ubiquitin-associated domain, SWA2-...</td>\n",
       "    </tr>\n",
       "    <tr>\n",
       "      <th>6</th>\n",
       "      <td>NaN</td>\n",
       "      <td>2113</td>\n",
       "      <td>PC6</td>\n",
       "      <td>Rav1p_C; RAVE complex protein Rav1 C-terminal</td>\n",
       "    </tr>\n",
       "    <tr>\n",
       "      <th>...</th>\n",
       "      <td>...</td>\n",
       "      <td>...</td>\n",
       "      <td>...</td>\n",
       "      <td>...</td>\n",
       "    </tr>\n",
       "    <tr>\n",
       "      <th>269</th>\n",
       "      <td>NaN</td>\n",
       "      <td>566</td>\n",
       "      <td>PC261</td>\n",
       "      <td>DCP1; mRNA-decapping enzyme subunit 1</td>\n",
       "    </tr>\n",
       "    <tr>\n",
       "      <th>270</th>\n",
       "      <td>NaN</td>\n",
       "      <td>255</td>\n",
       "      <td>PC262</td>\n",
       "      <td>BAH; Bromo adjacent homology (BAH) domain</td>\n",
       "    </tr>\n",
       "    <tr>\n",
       "      <th>271</th>\n",
       "      <td>NaN</td>\n",
       "      <td>85</td>\n",
       "      <td>PC264</td>\n",
       "      <td>ANAPC3</td>\n",
       "    </tr>\n",
       "    <tr>\n",
       "      <th>272</th>\n",
       "      <td>NaN</td>\n",
       "      <td>1076</td>\n",
       "      <td>PC265</td>\n",
       "      <td>Glyoxalase; Glyoxalase/fosfomycin resistance/d...</td>\n",
       "    </tr>\n",
       "    <tr>\n",
       "      <th>273</th>\n",
       "      <td>NaN</td>\n",
       "      <td>1244</td>\n",
       "      <td>PC266</td>\n",
       "      <td>Ish1; Putative stress-responsive protein</td>\n",
       "    </tr>\n",
       "  </tbody>\n",
       "</table>\n",
       "<p>228 rows × 4 columns</p>\n",
       "</div>"
      ],
      "text/plain": [
       "    pca-component_x  domain-number pca-component_y  \\\n",
       "0               NaN           1811             PC0   \n",
       "2               NaN           1252             PC2   \n",
       "3               NaN            308             PC3   \n",
       "4               NaN           2771             PC4   \n",
       "6               NaN           2113             PC6   \n",
       "..              ...            ...             ...   \n",
       "269             NaN            566           PC261   \n",
       "270             NaN            255           PC262   \n",
       "271             NaN             85           PC264   \n",
       "272             NaN           1076           PC265   \n",
       "273             NaN           1244           PC266   \n",
       "\n",
       "                                    domain-description  \n",
       "0    PRAI; N-(5&apos;phosphoribosyl) anthranilate i...  \n",
       "2                                    JmjN; JmjN domain  \n",
       "3                             Bul1_N; Bul1, N-terminal  \n",
       "4    Ubiq-assoc; Ubiquitin-associated domain, SWA2-...  \n",
       "6        Rav1p_C; RAVE complex protein Rav1 C-terminal  \n",
       "..                                                 ...  \n",
       "269              DCP1; mRNA-decapping enzyme subunit 1  \n",
       "270          BAH; Bromo adjacent homology (BAH) domain  \n",
       "271                                             ANAPC3  \n",
       "272  Glyoxalase; Glyoxalase/fosfomycin resistance/d...  \n",
       "273           Ish1; Putative stress-responsive protein  \n",
       "\n",
       "[228 rows x 4 columns]"
      ]
     },
     "execution_count": 26,
     "metadata": {},
     "output_type": "execute_result"
    }
   ],
   "source": [
    "df_nsl_exclusive=pd.merge(df_sl,df_nsl,how='right',on='domain-number')\n",
    "\n",
    "domains_name=np.unique(data_domains['domain-name'])\n",
    "domains_description=np.unique(data_domains['domain-descrip'])\n",
    "\n",
    "df_nsl_exclusive['domain-description']=domains_description[df_nsl_exclusive['domain-number']]\n",
    "df_nsl_exclusive[pd.isnull(df_nsl_exclusive['pca-component_x'])]"
   ]
  },
  {
   "cell_type": "code",
   "execution_count": 27,
   "metadata": {
    "execution": {
     "iopub.execute_input": "2020-08-13T12:12:43.581373Z",
     "iopub.status.busy": "2020-08-13T12:12:43.580353Z",
     "iopub.status.idle": "2020-08-13T12:12:43.592843Z",
     "shell.execute_reply": "2020-08-13T12:12:43.587270Z"
    }
   },
   "outputs": [
    {
     "name": "stdout",
     "output_type": "stream",
     "text": [
      "The number of exclusive domains from non SL pairs, after PCA, is =  274 out of 541 so the 50.64695009242144 %\n"
     ]
    }
   ],
   "source": [
    "print('The number of exclusive domains from non SL pairs, after PCA, is = ',len(df_nsl_exclusive), 'out of', len(df_sl)+len(df_nsl), 'so the',100*len(df_nsl_exclusive)/(len(df_sl)+len(df_nsl)),'%')"
   ]
  },
  {
   "cell_type": "markdown",
   "metadata": {},
   "source": [
    "## Let see to the domains-number that get repeated after the PCA analysis , and selecting the most explanatory feature by its explained variance."
   ]
  },
  {
   "cell_type": "code",
   "execution_count": 28,
   "metadata": {
    "execution": {
     "iopub.execute_input": "2020-08-13T12:12:43.612843Z",
     "iopub.status.busy": "2020-08-13T12:12:43.612189Z",
     "iopub.status.idle": "2020-08-13T12:12:43.615743Z",
     "shell.execute_reply": "2020-08-13T12:12:43.616229Z"
    }
   },
   "outputs": [],
   "source": [
    "duplicated_features_sl=df_sl[df_sl.iloc[:,1].duplicated()]\n",
    "repeated_features_sl=pd.DataFrame()\n",
    "\n",
    "domains_name=np.unique(data_domains['domain-name'])\n",
    "domains_description=np.unique(data_domains['domain-descrip'])\n",
    "\n",
    "repeated_features_sl['domain-name']=domains_name[duplicated_features_sl.iloc[:,1]] \n",
    "repeated_features_sl['domain-description']=domains_description[duplicated_features_sl.iloc[:,1]]\n",
    "\n",
    "duplicated_features_nsl=df_nsl[df_nsl.iloc[:,1].duplicated()]\n",
    "repeated_features_nsl=pd.DataFrame()\n",
    "\n",
    "repeated_features_nsl['domain-name']=domains_name[duplicated_features_nsl.iloc[:,1]] \n",
    "repeated_features_nsl['domain-description']=domains_description[duplicated_features_nsl.iloc[:,1]]"
   ]
  },
  {
   "cell_type": "code",
   "execution_count": 29,
   "metadata": {
    "execution": {
     "iopub.execute_input": "2020-08-13T12:12:43.624618Z",
     "iopub.status.busy": "2020-08-13T12:12:43.624085Z",
     "iopub.status.idle": "2020-08-13T12:12:43.630477Z",
     "shell.execute_reply": "2020-08-13T12:12:43.630870Z"
    }
   },
   "outputs": [
    {
     "name": "stderr",
     "output_type": "stream",
     "text": [
      "/usr/share/miniconda3/envs/wintest/lib/python3.7/site-packages/ipykernel_launcher.py:3: SettingWithCopyWarning: \n",
      "A value is trying to be set on a copy of a slice from a DataFrame.\n",
      "Try using .loc[row_indexer,col_indexer] = value instead\n",
      "\n",
      "See the caveats in the documentation: https://pandas.pydata.org/pandas-docs/stable/user_guide/indexing.html#returning-a-view-versus-a-copy\n",
      "  This is separate from the ipykernel package so we can avoid doing imports until\n"
     ]
    },
    {
     "data": {
      "text/plain": [
       "((47, 4), (281, 4))"
      ]
     },
     "execution_count": 29,
     "metadata": {},
     "output_type": "execute_result"
    }
   ],
   "source": [
    "only_sl_pd=pd.merge(repeated_features_sl,repeated_features_nsl,how='left',on=['domain-name'])\n",
    "data_only_sl = only_sl_pd[pd.isnull(only_sl_pd['domain-description_y'])]\n",
    "data_only_sl['domain-description']=data_only_sl['domain-description_x']\n",
    "data_only_sl.shape,df_sl_exclusive.shape"
   ]
  },
  {
   "cell_type": "code",
   "execution_count": 30,
   "metadata": {
    "execution": {
     "iopub.execute_input": "2020-08-13T12:12:43.648032Z",
     "iopub.status.busy": "2020-08-13T12:12:43.647418Z",
     "iopub.status.idle": "2020-08-13T12:12:43.653646Z",
     "shell.execute_reply": "2020-08-13T12:12:43.654116Z"
    }
   },
   "outputs": [
    {
     "data": {
      "text/html": [
       "<div>\n",
       "<style scoped>\n",
       "    .dataframe tbody tr th:only-of-type {\n",
       "        vertical-align: middle;\n",
       "    }\n",
       "\n",
       "    .dataframe tbody tr th {\n",
       "        vertical-align: top;\n",
       "    }\n",
       "\n",
       "    .dataframe thead th {\n",
       "        text-align: right;\n",
       "    }\n",
       "</style>\n",
       "<table border=\"1\" class=\"dataframe\">\n",
       "  <thead>\n",
       "    <tr style=\"text-align: right;\">\n",
       "      <th></th>\n",
       "      <th>domain-name</th>\n",
       "      <th>domain-description_x</th>\n",
       "      <th>domain-description_y</th>\n",
       "    </tr>\n",
       "  </thead>\n",
       "  <tbody>\n",
       "    <tr>\n",
       "      <th>0</th>\n",
       "      <td>PF02037</td>\n",
       "      <td>NaN</td>\n",
       "      <td>ELFV_dehydrog; Glutamate/phenylalanine/leucine...</td>\n",
       "    </tr>\n",
       "    <tr>\n",
       "      <th>1</th>\n",
       "      <td>PF13193</td>\n",
       "      <td>NaN</td>\n",
       "      <td>TIMELESS; Timeless protein</td>\n",
       "    </tr>\n",
       "    <tr>\n",
       "      <th>2</th>\n",
       "      <td>PF06733</td>\n",
       "      <td>NaN</td>\n",
       "      <td>Ost5; Oligosaccharyltransferase complex subunit</td>\n",
       "    </tr>\n",
       "    <tr>\n",
       "      <th>3</th>\n",
       "      <td>PF04494</td>\n",
       "      <td>NaN</td>\n",
       "      <td>MFA1_2</td>\n",
       "    </tr>\n",
       "    <tr>\n",
       "      <th>4</th>\n",
       "      <td>PF03439</td>\n",
       "      <td>NaN</td>\n",
       "      <td>HEM4; Tetrapyrrole biosynthesis, uroporphyrino...</td>\n",
       "    </tr>\n",
       "    <tr>\n",
       "      <th>5</th>\n",
       "      <td>PF00056</td>\n",
       "      <td>NaN</td>\n",
       "      <td>AAA_2; ATPase, AAA-type, core</td>\n",
       "    </tr>\n",
       "    <tr>\n",
       "      <th>6</th>\n",
       "      <td>PF12157</td>\n",
       "      <td>NaN</td>\n",
       "      <td>Sec7; Sec7 domain</td>\n",
       "    </tr>\n",
       "    <tr>\n",
       "      <th>7</th>\n",
       "      <td>PF11951</td>\n",
       "      <td>NaN</td>\n",
       "      <td>Sec15; Exocyst complex component EXOC6/Sec15</td>\n",
       "    </tr>\n",
       "    <tr>\n",
       "      <th>8</th>\n",
       "      <td>PF07557</td>\n",
       "      <td>NaN</td>\n",
       "      <td>PEX11; Peroxisomal biogenesis factor 11</td>\n",
       "    </tr>\n",
       "    <tr>\n",
       "      <th>9</th>\n",
       "      <td>PF07557</td>\n",
       "      <td>NaN</td>\n",
       "      <td>PEX11; Peroxisomal biogenesis factor 11</td>\n",
       "    </tr>\n",
       "    <tr>\n",
       "      <th>10</th>\n",
       "      <td>PF00782</td>\n",
       "      <td>NaN</td>\n",
       "      <td>COG6</td>\n",
       "    </tr>\n",
       "    <tr>\n",
       "      <th>11</th>\n",
       "      <td>PF08771</td>\n",
       "      <td>NaN</td>\n",
       "      <td>RPOL_N; DNA-directed RNA polymerase, N-terminal</td>\n",
       "    </tr>\n",
       "    <tr>\n",
       "      <th>12</th>\n",
       "      <td>PF12937</td>\n",
       "      <td>NaN</td>\n",
       "      <td>TFIIF_alpha; Transcription initiation factor I...</td>\n",
       "    </tr>\n",
       "    <tr>\n",
       "      <th>13</th>\n",
       "      <td>PF00268</td>\n",
       "      <td>NaN</td>\n",
       "      <td>ATP-synt_ab; ATPase, F1/V1/A1 complex, alpha/b...</td>\n",
       "    </tr>\n",
       "    <tr>\n",
       "      <th>14</th>\n",
       "      <td>PF04574</td>\n",
       "      <td>NaN</td>\n",
       "      <td>MMS1_N</td>\n",
       "    </tr>\n",
       "    <tr>\n",
       "      <th>15</th>\n",
       "      <td>PF05032</td>\n",
       "      <td>NaN</td>\n",
       "      <td>MgsA_C; MgsA AAA+ ATPase C-terminal</td>\n",
       "    </tr>\n",
       "    <tr>\n",
       "      <th>17</th>\n",
       "      <td>PF01412</td>\n",
       "      <td>NaN</td>\n",
       "      <td>DNA_pol_alpha_N; DNA polymerase alpha catalyti...</td>\n",
       "    </tr>\n",
       "    <tr>\n",
       "      <th>18</th>\n",
       "      <td>PF01608</td>\n",
       "      <td>NaN</td>\n",
       "      <td>DUF2781</td>\n",
       "    </tr>\n",
       "    <tr>\n",
       "      <th>19</th>\n",
       "      <td>PF05383</td>\n",
       "      <td>NaN</td>\n",
       "      <td>NAD_binding_7; Sirohaem synthase, N-terminal</td>\n",
       "    </tr>\n",
       "    <tr>\n",
       "      <th>20</th>\n",
       "      <td>PF05625</td>\n",
       "      <td>NaN</td>\n",
       "      <td>NMD3</td>\n",
       "    </tr>\n",
       "    <tr>\n",
       "      <th>21</th>\n",
       "      <td>PF05625</td>\n",
       "      <td>NaN</td>\n",
       "      <td>NMD3</td>\n",
       "    </tr>\n",
       "    <tr>\n",
       "      <th>22</th>\n",
       "      <td>PF02150</td>\n",
       "      <td>NaN</td>\n",
       "      <td>EXOSC1; Exosome complex component CSL4</td>\n",
       "    </tr>\n",
       "    <tr>\n",
       "      <th>23</th>\n",
       "      <td>PF01652</td>\n",
       "      <td>NaN</td>\n",
       "      <td>DUF3453; Symplekin/Pta1, N-terminal</td>\n",
       "    </tr>\n",
       "    <tr>\n",
       "      <th>24</th>\n",
       "      <td>PF02269</td>\n",
       "      <td>NaN</td>\n",
       "      <td>FAD-oxidase_C; FAD-linked oxidase, C-terminal</td>\n",
       "    </tr>\n",
       "    <tr>\n",
       "      <th>25</th>\n",
       "      <td>PF10487</td>\n",
       "      <td>NaN</td>\n",
       "      <td>SF1-HH; Splicing factor 1, helix-hairpin domain</td>\n",
       "    </tr>\n",
       "    <tr>\n",
       "      <th>26</th>\n",
       "      <td>PF03194</td>\n",
       "      <td>NaN</td>\n",
       "      <td>Glycos_trans_3N; Glycosyl transferase family 3...</td>\n",
       "    </tr>\n",
       "    <tr>\n",
       "      <th>27</th>\n",
       "      <td>PF03194</td>\n",
       "      <td>NaN</td>\n",
       "      <td>Glycos_trans_3N; Glycosyl transferase family 3...</td>\n",
       "    </tr>\n",
       "    <tr>\n",
       "      <th>28</th>\n",
       "      <td>PF07393</td>\n",
       "      <td>NaN</td>\n",
       "      <td>PCRF; Peptide chain release factor</td>\n",
       "    </tr>\n",
       "    <tr>\n",
       "      <th>29</th>\n",
       "      <td>PF04084</td>\n",
       "      <td>NaN</td>\n",
       "      <td>Kelch_3</td>\n",
       "    </tr>\n",
       "    <tr>\n",
       "      <th>30</th>\n",
       "      <td>PF03114</td>\n",
       "      <td>NaN</td>\n",
       "      <td>Glyco_hydro_18; Glycoside hydrolase family 18,...</td>\n",
       "    </tr>\n",
       "    <tr>\n",
       "      <th>31</th>\n",
       "      <td>PF03985</td>\n",
       "      <td>NaN</td>\n",
       "      <td>I_LWEQ; I/LWEQ domain</td>\n",
       "    </tr>\n",
       "    <tr>\n",
       "      <th>32</th>\n",
       "      <td>PF12718</td>\n",
       "      <td>NaN</td>\n",
       "      <td>Ste50p-SAM; Ste50, sterile alpha motif</td>\n",
       "    </tr>\n",
       "    <tr>\n",
       "      <th>33</th>\n",
       "      <td>PF00166</td>\n",
       "      <td>NaN</td>\n",
       "      <td>ALO; D-arabinono-1,4-lactone oxidase</td>\n",
       "    </tr>\n",
       "    <tr>\n",
       "      <th>34</th>\n",
       "      <td>PF03715</td>\n",
       "      <td>NaN</td>\n",
       "      <td>Helicase_C_3; Helicase XPB/Ssl2, N-terminal do...</td>\n",
       "    </tr>\n",
       "    <tr>\n",
       "      <th>35</th>\n",
       "      <td>PF03715</td>\n",
       "      <td>NaN</td>\n",
       "      <td>Helicase_C_3; Helicase XPB/Ssl2, N-terminal do...</td>\n",
       "    </tr>\n",
       "    <tr>\n",
       "      <th>36</th>\n",
       "      <td>PF05839</td>\n",
       "      <td>NaN</td>\n",
       "      <td>NUP214</td>\n",
       "    </tr>\n",
       "    <tr>\n",
       "      <th>37</th>\n",
       "      <td>PF05839</td>\n",
       "      <td>NaN</td>\n",
       "      <td>NUP214</td>\n",
       "    </tr>\n",
       "    <tr>\n",
       "      <th>38</th>\n",
       "      <td>PF15460</td>\n",
       "      <td>NaN</td>\n",
       "      <td>Vps39_1; Vacuolar sorting protein 39/Transform...</td>\n",
       "    </tr>\n",
       "    <tr>\n",
       "      <th>39</th>\n",
       "      <td>PF09295</td>\n",
       "      <td>NaN</td>\n",
       "      <td>Rad52_Rad22; DNA repair protein Rad52/59/22</td>\n",
       "    </tr>\n",
       "    <tr>\n",
       "      <th>40</th>\n",
       "      <td>PF07647</td>\n",
       "      <td>NaN</td>\n",
       "      <td>PGM_PMM_III; Alpha-D-phosphohexomutase, alpha/...</td>\n",
       "    </tr>\n",
       "    <tr>\n",
       "      <th>41</th>\n",
       "      <td>PF00227</td>\n",
       "      <td>NaN</td>\n",
       "      <td>ATG13; Autophagy-related protein 13</td>\n",
       "    </tr>\n",
       "    <tr>\n",
       "      <th>42</th>\n",
       "      <td>PF04818</td>\n",
       "      <td>NaN</td>\n",
       "      <td>MatE; Multi antimicrobial extrusion protein</td>\n",
       "    </tr>\n",
       "    <tr>\n",
       "      <th>43</th>\n",
       "      <td>PF04893</td>\n",
       "      <td>NaN</td>\n",
       "      <td>Med22; Mediator of RNA polymerase II transcrip...</td>\n",
       "    </tr>\n",
       "    <tr>\n",
       "      <th>44</th>\n",
       "      <td>PF04048</td>\n",
       "      <td>NaN</td>\n",
       "      <td>Ist1; Vacuolar protein sorting-associated prot...</td>\n",
       "    </tr>\n",
       "    <tr>\n",
       "      <th>45</th>\n",
       "      <td>PF03650</td>\n",
       "      <td>NaN</td>\n",
       "      <td>Hap4_Hap_bind; Hap4 transcription factor, hete...</td>\n",
       "    </tr>\n",
       "    <tr>\n",
       "      <th>46</th>\n",
       "      <td>PF00838</td>\n",
       "      <td>NaN</td>\n",
       "      <td>CPSF73-100_C; Pre-mRNA 3&amp;apos;-end-processing ...</td>\n",
       "    </tr>\n",
       "    <tr>\n",
       "      <th>47</th>\n",
       "      <td>PF08238</td>\n",
       "      <td>NaN</td>\n",
       "      <td>Patatin; Patatin-like phospholipase domain</td>\n",
       "    </tr>\n",
       "    <tr>\n",
       "      <th>48</th>\n",
       "      <td>PF00241</td>\n",
       "      <td>NaN</td>\n",
       "      <td>ATP-cone; ATP-cone domain</td>\n",
       "    </tr>\n",
       "    <tr>\n",
       "      <th>49</th>\n",
       "      <td>PF10193</td>\n",
       "      <td>NaN</td>\n",
       "      <td>Ribosomal_L4; Ribosomal protein L4/L1e</td>\n",
       "    </tr>\n",
       "    <tr>\n",
       "      <th>50</th>\n",
       "      <td>PF01176</td>\n",
       "      <td>NaN</td>\n",
       "      <td>Cut8; Tethering factor for nuclear proteasome ...</td>\n",
       "    </tr>\n",
       "    <tr>\n",
       "      <th>51</th>\n",
       "      <td>PF09597</td>\n",
       "      <td>NaN</td>\n",
       "      <td>Ribonuc_red_sm; Ribonucleotide reductase small...</td>\n",
       "    </tr>\n",
       "    <tr>\n",
       "      <th>52</th>\n",
       "      <td>PF01157</td>\n",
       "      <td>NaN</td>\n",
       "      <td>Creatinase_N_2</td>\n",
       "    </tr>\n",
       "    <tr>\n",
       "      <th>53</th>\n",
       "      <td>PF03126</td>\n",
       "      <td>NaN</td>\n",
       "      <td>Glyco_hydro_31; Glycoside hydrolase family 31</td>\n",
       "    </tr>\n",
       "    <tr>\n",
       "      <th>54</th>\n",
       "      <td>PF01912</td>\n",
       "      <td>NaN</td>\n",
       "      <td>E1_4HB; Ubiquitin-activating enzyme E1, four-h...</td>\n",
       "    </tr>\n",
       "    <tr>\n",
       "      <th>55</th>\n",
       "      <td>PF08245</td>\n",
       "      <td>NaN</td>\n",
       "      <td>Peptidase_C12; Peptidase C12, ubiquitin carbox...</td>\n",
       "    </tr>\n",
       "    <tr>\n",
       "      <th>56</th>\n",
       "      <td>PF10333</td>\n",
       "      <td>NaN</td>\n",
       "      <td>Ribosomal_S8e; Ribosomal protein S8e/ribosomal...</td>\n",
       "    </tr>\n",
       "  </tbody>\n",
       "</table>\n",
       "</div>"
      ],
      "text/plain": [
       "   domain-name domain-description_x  \\\n",
       "0      PF02037                  NaN   \n",
       "1      PF13193                  NaN   \n",
       "2      PF06733                  NaN   \n",
       "3      PF04494                  NaN   \n",
       "4      PF03439                  NaN   \n",
       "5      PF00056                  NaN   \n",
       "6      PF12157                  NaN   \n",
       "7      PF11951                  NaN   \n",
       "8      PF07557                  NaN   \n",
       "9      PF07557                  NaN   \n",
       "10     PF00782                  NaN   \n",
       "11     PF08771                  NaN   \n",
       "12     PF12937                  NaN   \n",
       "13     PF00268                  NaN   \n",
       "14     PF04574                  NaN   \n",
       "15     PF05032                  NaN   \n",
       "17     PF01412                  NaN   \n",
       "18     PF01608                  NaN   \n",
       "19     PF05383                  NaN   \n",
       "20     PF05625                  NaN   \n",
       "21     PF05625                  NaN   \n",
       "22     PF02150                  NaN   \n",
       "23     PF01652                  NaN   \n",
       "24     PF02269                  NaN   \n",
       "25     PF10487                  NaN   \n",
       "26     PF03194                  NaN   \n",
       "27     PF03194                  NaN   \n",
       "28     PF07393                  NaN   \n",
       "29     PF04084                  NaN   \n",
       "30     PF03114                  NaN   \n",
       "31     PF03985                  NaN   \n",
       "32     PF12718                  NaN   \n",
       "33     PF00166                  NaN   \n",
       "34     PF03715                  NaN   \n",
       "35     PF03715                  NaN   \n",
       "36     PF05839                  NaN   \n",
       "37     PF05839                  NaN   \n",
       "38     PF15460                  NaN   \n",
       "39     PF09295                  NaN   \n",
       "40     PF07647                  NaN   \n",
       "41     PF00227                  NaN   \n",
       "42     PF04818                  NaN   \n",
       "43     PF04893                  NaN   \n",
       "44     PF04048                  NaN   \n",
       "45     PF03650                  NaN   \n",
       "46     PF00838                  NaN   \n",
       "47     PF08238                  NaN   \n",
       "48     PF00241                  NaN   \n",
       "49     PF10193                  NaN   \n",
       "50     PF01176                  NaN   \n",
       "51     PF09597                  NaN   \n",
       "52     PF01157                  NaN   \n",
       "53     PF03126                  NaN   \n",
       "54     PF01912                  NaN   \n",
       "55     PF08245                  NaN   \n",
       "56     PF10333                  NaN   \n",
       "\n",
       "                                 domain-description_y  \n",
       "0   ELFV_dehydrog; Glutamate/phenylalanine/leucine...  \n",
       "1                          TIMELESS; Timeless protein  \n",
       "2     Ost5; Oligosaccharyltransferase complex subunit  \n",
       "3                                              MFA1_2  \n",
       "4   HEM4; Tetrapyrrole biosynthesis, uroporphyrino...  \n",
       "5                       AAA_2; ATPase, AAA-type, core  \n",
       "6                                   Sec7; Sec7 domain  \n",
       "7        Sec15; Exocyst complex component EXOC6/Sec15  \n",
       "8             PEX11; Peroxisomal biogenesis factor 11  \n",
       "9             PEX11; Peroxisomal biogenesis factor 11  \n",
       "10                                               COG6  \n",
       "11    RPOL_N; DNA-directed RNA polymerase, N-terminal  \n",
       "12  TFIIF_alpha; Transcription initiation factor I...  \n",
       "13  ATP-synt_ab; ATPase, F1/V1/A1 complex, alpha/b...  \n",
       "14                                             MMS1_N  \n",
       "15                MgsA_C; MgsA AAA+ ATPase C-terminal  \n",
       "17  DNA_pol_alpha_N; DNA polymerase alpha catalyti...  \n",
       "18                                            DUF2781  \n",
       "19       NAD_binding_7; Sirohaem synthase, N-terminal  \n",
       "20                                               NMD3  \n",
       "21                                               NMD3  \n",
       "22             EXOSC1; Exosome complex component CSL4  \n",
       "23                DUF3453; Symplekin/Pta1, N-terminal  \n",
       "24      FAD-oxidase_C; FAD-linked oxidase, C-terminal  \n",
       "25    SF1-HH; Splicing factor 1, helix-hairpin domain  \n",
       "26  Glycos_trans_3N; Glycosyl transferase family 3...  \n",
       "27  Glycos_trans_3N; Glycosyl transferase family 3...  \n",
       "28                 PCRF; Peptide chain release factor  \n",
       "29                                            Kelch_3  \n",
       "30  Glyco_hydro_18; Glycoside hydrolase family 18,...  \n",
       "31                              I_LWEQ; I/LWEQ domain  \n",
       "32             Ste50p-SAM; Ste50, sterile alpha motif  \n",
       "33               ALO; D-arabinono-1,4-lactone oxidase  \n",
       "34  Helicase_C_3; Helicase XPB/Ssl2, N-terminal do...  \n",
       "35  Helicase_C_3; Helicase XPB/Ssl2, N-terminal do...  \n",
       "36                                             NUP214  \n",
       "37                                             NUP214  \n",
       "38  Vps39_1; Vacuolar sorting protein 39/Transform...  \n",
       "39        Rad52_Rad22; DNA repair protein Rad52/59/22  \n",
       "40  PGM_PMM_III; Alpha-D-phosphohexomutase, alpha/...  \n",
       "41                ATG13; Autophagy-related protein 13  \n",
       "42        MatE; Multi antimicrobial extrusion protein  \n",
       "43  Med22; Mediator of RNA polymerase II transcrip...  \n",
       "44  Ist1; Vacuolar protein sorting-associated prot...  \n",
       "45  Hap4_Hap_bind; Hap4 transcription factor, hete...  \n",
       "46  CPSF73-100_C; Pre-mRNA 3&apos;-end-processing ...  \n",
       "47         Patatin; Patatin-like phospholipase domain  \n",
       "48                          ATP-cone; ATP-cone domain  \n",
       "49             Ribosomal_L4; Ribosomal protein L4/L1e  \n",
       "50  Cut8; Tethering factor for nuclear proteasome ...  \n",
       "51  Ribonuc_red_sm; Ribonucleotide reductase small...  \n",
       "52                                     Creatinase_N_2  \n",
       "53      Glyco_hydro_31; Glycoside hydrolase family 31  \n",
       "54  E1_4HB; Ubiquitin-activating enzyme E1, four-h...  \n",
       "55  Peptidase_C12; Peptidase C12, ubiquitin carbox...  \n",
       "56  Ribosomal_S8e; Ribosomal protein S8e/ribosomal...  "
      ]
     },
     "execution_count": 30,
     "metadata": {},
     "output_type": "execute_result"
    }
   ],
   "source": [
    "only_nsl_pd=pd.merge(repeated_features_sl,repeated_features_nsl,how='right',on=['domain-name'])\n",
    "data_only_nsl = only_nsl_pd[pd.isnull(only_nsl_pd['domain-description_x'])]\n",
    "data_only_nsl"
   ]
  },
  {
   "cell_type": "code",
   "execution_count": 31,
   "metadata": {
    "execution": {
     "iopub.execute_input": "2020-08-13T12:12:43.665004Z",
     "iopub.status.busy": "2020-08-13T12:12:43.664506Z",
     "iopub.status.idle": "2020-08-13T12:12:43.669346Z",
     "shell.execute_reply": "2020-08-13T12:12:43.668939Z"
    }
   },
   "outputs": [
    {
     "data": {
      "text/html": [
       "<div>\n",
       "<style scoped>\n",
       "    .dataframe tbody tr th:only-of-type {\n",
       "        vertical-align: middle;\n",
       "    }\n",
       "\n",
       "    .dataframe tbody tr th {\n",
       "        vertical-align: top;\n",
       "    }\n",
       "\n",
       "    .dataframe thead th {\n",
       "        text-align: right;\n",
       "    }\n",
       "</style>\n",
       "<table border=\"1\" class=\"dataframe\">\n",
       "  <thead>\n",
       "    <tr style=\"text-align: right;\">\n",
       "      <th></th>\n",
       "      <th>domain-name</th>\n",
       "      <th>domain-description_x</th>\n",
       "      <th>domain-description_y</th>\n",
       "    </tr>\n",
       "  </thead>\n",
       "  <tbody>\n",
       "    <tr>\n",
       "      <th>0</th>\n",
       "      <td>PF01416</td>\n",
       "      <td>DNA_pol_phi; DNA polymerase V</td>\n",
       "      <td>DNA_pol_phi; DNA polymerase V</td>\n",
       "    </tr>\n",
       "  </tbody>\n",
       "</table>\n",
       "</div>"
      ],
      "text/plain": [
       "  domain-name           domain-description_x           domain-description_y\n",
       "0     PF01416  DNA_pol_phi; DNA polymerase V  DNA_pol_phi; DNA polymerase V"
      ]
     },
     "execution_count": 31,
     "metadata": {},
     "output_type": "execute_result"
    }
   ],
   "source": [
    "shared_domains_pd=pd.merge(repeated_features_sl,repeated_features_nsl,how='inner',on=['domain-name'])\n",
    "shared_domains_pd\n"
   ]
  },
  {
   "cell_type": "code",
   "execution_count": 32,
   "metadata": {
    "execution": {
     "iopub.execute_input": "2020-08-13T12:12:43.684444Z",
     "iopub.status.busy": "2020-08-13T12:12:43.682490Z",
     "iopub.status.idle": "2020-08-13T12:12:44.780049Z",
     "shell.execute_reply": "2020-08-13T12:12:44.779599Z"
    }
   },
   "outputs": [
    {
     "data": {
      "text/plain": [
       "(0.0, 0.2)"
      ]
     },
     "execution_count": 32,
     "metadata": {},
     "output_type": "execute_result"
    },
    {
     "data": {
      "image/png": "[encoded data removed]",
      "text/plain": [
       "<Figure size 432x288 with 1 Axes>"
      ]
     },
     "metadata": {
      "filenames": {
       "image/png": "/home/runner/work/jupyter-book/jupyter-book/mini_book/docs/_build/jupyter_execute/prot_domains2lethality-FEATURES-POSTPROCESSING_47_1.png"
      },
      "needs_background": "light"
     },
     "output_type": "display_data"
    }
   ],
   "source": [
    "a_sl=x_sl.iloc[:,np.sort(df_sl.iloc[:,1])]\n",
    "a_sl.describe().loc['mean'].hist(bins=8),\n",
    "a_sl.describe().loc['std'].hist(bins=8,alpha=0.4)\n",
    "plt.xlim([0,0.2])"
   ]
  },
  {
   "cell_type": "code",
   "execution_count": 33,
   "metadata": {
    "execution": {
     "iopub.execute_input": "2020-08-13T12:12:44.789176Z",
     "iopub.status.busy": "2020-08-13T12:12:44.787198Z",
     "iopub.status.idle": "2020-08-13T12:12:45.882288Z",
     "shell.execute_reply": "2020-08-13T12:12:45.882923Z"
    }
   },
   "outputs": [
    {
     "data": {
      "text/plain": [
       "(0.0, 0.2)"
      ]
     },
     "execution_count": 33,
     "metadata": {},
     "output_type": "execute_result"
    },
    {
     "data": {
      "image/png": "[encoded data removed]",
      "text/plain": [
       "<Figure size 432x288 with 1 Axes>"
      ]
     },
     "metadata": {
      "filenames": {
       "image/png": "/home/runner/work/jupyter-book/jupyter-book/mini_book/docs/_build/jupyter_execute/prot_domains2lethality-FEATURES-POSTPROCESSING_48_1.png"
      },
      "needs_background": "light"
     },
     "output_type": "display_data"
    }
   ],
   "source": [
    "a_nsl=x_nsl.iloc[:,np.sort(df_nsl.iloc[:,1])]\n",
    "a_nsl.describe().loc['mean'].hist(bins=8),\n",
    "a_nsl.describe().loc['std'].hist(bins=8,alpha=0.4)\n",
    "plt.xlim([0,0.2])"
   ]
  },
  {
   "cell_type": "markdown",
   "metadata": {},
   "source": [
    "### Proof of concept with *BEM1*\n",
    "\n",
    "- Gather the domains of SL and nSL pairs from BEM1\n",
    "- Check if the domains for the SL and nSL pairs are inside the most important domains after PCA."
   ]
  },
  {
   "cell_type": "code",
   "execution_count": 34,
   "metadata": {
    "execution": {
     "iopub.execute_input": "2020-08-13T12:12:45.889075Z",
     "iopub.status.busy": "2020-08-13T12:12:45.888652Z",
     "iopub.status.idle": "2020-08-13T12:12:45.892911Z",
     "shell.execute_reply": "2020-08-13T12:12:45.892009Z"
    }
   },
   "outputs": [],
   "source": [
    "domains_bem1=data_domains[data_domains['name']=='BEM1']['domain-descrip']\n",
    "sl_bem1=data_sl[data_sl['gene-query-name']=='BEM1']['gene-target-name']"
   ]
  },
  {
   "cell_type": "code",
   "execution_count": 35,
   "metadata": {
    "execution": {
     "iopub.execute_input": "2020-08-13T12:12:45.896949Z",
     "iopub.status.busy": "2020-08-13T12:12:45.896457Z",
     "iopub.status.idle": "2020-08-13T12:12:45.899217Z",
     "shell.execute_reply": "2020-08-13T12:12:45.898662Z"
    }
   },
   "outputs": [
    {
     "data": {
      "text/plain": [
       "2846      BEM2\n",
       "2847     CDC24\n",
       "5004      MSB1\n",
       "13777     SMI1\n",
       "13778     BNI1\n",
       "13779     BEM2\n",
       "14385     SKN7\n",
       "Name: gene-target-name, dtype: object"
      ]
     },
     "execution_count": 35,
     "metadata": {},
     "output_type": "execute_result"
    }
   ],
   "source": [
    "sl_bem1"
   ]
  },
  {
   "cell_type": "code",
   "execution_count": 36,
   "metadata": {
    "execution": {
     "iopub.execute_input": "2020-08-13T12:12:45.912001Z",
     "iopub.status.busy": "2020-08-13T12:12:45.911445Z",
     "iopub.status.idle": "2020-08-13T12:12:45.913923Z",
     "shell.execute_reply": "2020-08-13T12:12:45.914330Z"
    }
   },
   "outputs": [
    {
     "data": {
      "text/html": [
       "<div>\n",
       "<style scoped>\n",
       "    .dataframe tbody tr th:only-of-type {\n",
       "        vertical-align: middle;\n",
       "    }\n",
       "\n",
       "    .dataframe tbody tr th {\n",
       "        vertical-align: top;\n",
       "    }\n",
       "\n",
       "    .dataframe thead th {\n",
       "        text-align: right;\n",
       "    }\n",
       "</style>\n",
       "<table border=\"1\" class=\"dataframe\">\n",
       "  <thead>\n",
       "    <tr style=\"text-align: right;\">\n",
       "      <th></th>\n",
       "      <th>gene-query</th>\n",
       "      <th>gene-target</th>\n",
       "      <th>gene-query-name</th>\n",
       "      <th>gene-target-name</th>\n",
       "      <th>gene-query-description</th>\n",
       "      <th>gene-target-description</th>\n",
       "      <th>interaction-type</th>\n",
       "      <th>paper-source</th>\n",
       "    </tr>\n",
       "  </thead>\n",
       "  <tbody>\n",
       "    <tr>\n",
       "      <th>2846</th>\n",
       "      <td>YBR200W</td>\n",
       "      <td>YER155C</td>\n",
       "      <td>BEM1</td>\n",
       "      <td>BEM2</td>\n",
       "      <td>SRO1|phosphatidylinositol-3-phosphate-binding ...</td>\n",
       "      <td>IPL2|SUP9|TSL1|L000000168</td>\n",
       "      <td>Synthetic Lethality</td>\n",
       "      <td>Peterson J (1994)</td>\n",
       "    </tr>\n",
       "    <tr>\n",
       "      <th>2847</th>\n",
       "      <td>YBR200W</td>\n",
       "      <td>YAL041W</td>\n",
       "      <td>BEM1</td>\n",
       "      <td>CDC24</td>\n",
       "      <td>SRO1|phosphatidylinositol-3-phosphate-binding ...</td>\n",
       "      <td>CLS4|Rho family guanine nucleotide exchange fa...</td>\n",
       "      <td>Synthetic Lethality</td>\n",
       "      <td>Peterson J (1994)</td>\n",
       "    </tr>\n",
       "    <tr>\n",
       "      <th>5004</th>\n",
       "      <td>YBR200W</td>\n",
       "      <td>YOR188W</td>\n",
       "      <td>BEM1</td>\n",
       "      <td>MSB1</td>\n",
       "      <td>SRO1|phosphatidylinositol-3-phosphate-binding ...</td>\n",
       "      <td>L000001184</td>\n",
       "      <td>Synthetic Lethality</td>\n",
       "      <td>Bender A (1991)</td>\n",
       "    </tr>\n",
       "    <tr>\n",
       "      <th>13777</th>\n",
       "      <td>YBR200W</td>\n",
       "      <td>YGR229C</td>\n",
       "      <td>BEM1</td>\n",
       "      <td>SMI1</td>\n",
       "      <td>SRO1|phosphatidylinositol-3-phosphate-binding ...</td>\n",
       "      <td>KNR4|L000000909</td>\n",
       "      <td>Synthetic Lethality</td>\n",
       "      <td>Gorelik M (2011)</td>\n",
       "    </tr>\n",
       "    <tr>\n",
       "      <th>13778</th>\n",
       "      <td>YBR200W</td>\n",
       "      <td>YNL271C</td>\n",
       "      <td>BEM1</td>\n",
       "      <td>BNI1</td>\n",
       "      <td>SRO1|phosphatidylinositol-3-phosphate-binding ...</td>\n",
       "      <td>PPF3|SHE5|formin BNI1|L000000190</td>\n",
       "      <td>Synthetic Lethality</td>\n",
       "      <td>Gorelik M (2011)</td>\n",
       "    </tr>\n",
       "    <tr>\n",
       "      <th>13779</th>\n",
       "      <td>YBR200W</td>\n",
       "      <td>YER155C</td>\n",
       "      <td>BEM1</td>\n",
       "      <td>BEM2</td>\n",
       "      <td>SRO1|phosphatidylinositol-3-phosphate-binding ...</td>\n",
       "      <td>IPL2|SUP9|TSL1|L000000168</td>\n",
       "      <td>Synthetic Lethality</td>\n",
       "      <td>Gorelik M (2011)</td>\n",
       "    </tr>\n",
       "    <tr>\n",
       "      <th>14385</th>\n",
       "      <td>YBR200W</td>\n",
       "      <td>YHR206W</td>\n",
       "      <td>BEM1</td>\n",
       "      <td>SKN7</td>\n",
       "      <td>SRO1|phosphatidylinositol-3-phosphate-binding ...</td>\n",
       "      <td>BRY1|POS9|kinase-regulated stress-responsive t...</td>\n",
       "      <td>Dosage Lethality</td>\n",
       "      <td>Bouquin N (1999)</td>\n",
       "    </tr>\n",
       "  </tbody>\n",
       "</table>\n",
       "</div>"
      ],
      "text/plain": [
       "      gene-query gene-target gene-query-name gene-target-name  \\\n",
       "2846     YBR200W     YER155C            BEM1             BEM2   \n",
       "2847     YBR200W     YAL041W            BEM1            CDC24   \n",
       "5004     YBR200W     YOR188W            BEM1             MSB1   \n",
       "13777    YBR200W     YGR229C            BEM1             SMI1   \n",
       "13778    YBR200W     YNL271C            BEM1             BNI1   \n",
       "13779    YBR200W     YER155C            BEM1             BEM2   \n",
       "14385    YBR200W     YHR206W            BEM1             SKN7   \n",
       "\n",
       "                                  gene-query-description  \\\n",
       "2846   SRO1|phosphatidylinositol-3-phosphate-binding ...   \n",
       "2847   SRO1|phosphatidylinositol-3-phosphate-binding ...   \n",
       "5004   SRO1|phosphatidylinositol-3-phosphate-binding ...   \n",
       "13777  SRO1|phosphatidylinositol-3-phosphate-binding ...   \n",
       "13778  SRO1|phosphatidylinositol-3-phosphate-binding ...   \n",
       "13779  SRO1|phosphatidylinositol-3-phosphate-binding ...   \n",
       "14385  SRO1|phosphatidylinositol-3-phosphate-binding ...   \n",
       "\n",
       "                                 gene-target-description     interaction-type  \\\n",
       "2846                           IPL2|SUP9|TSL1|L000000168  Synthetic Lethality   \n",
       "2847   CLS4|Rho family guanine nucleotide exchange fa...  Synthetic Lethality   \n",
       "5004                                          L000001184  Synthetic Lethality   \n",
       "13777                                    KNR4|L000000909  Synthetic Lethality   \n",
       "13778                   PPF3|SHE5|formin BNI1|L000000190  Synthetic Lethality   \n",
       "13779                          IPL2|SUP9|TSL1|L000000168  Synthetic Lethality   \n",
       "14385  BRY1|POS9|kinase-regulated stress-responsive t...     Dosage Lethality   \n",
       "\n",
       "            paper-source  \n",
       "2846   Peterson J (1994)  \n",
       "2847   Peterson J (1994)  \n",
       "5004     Bender A (1991)  \n",
       "13777   Gorelik M (2011)  \n",
       "13778   Gorelik M (2011)  \n",
       "13779   Gorelik M (2011)  \n",
       "14385   Bouquin N (1999)  "
      ]
     },
     "execution_count": 36,
     "metadata": {},
     "output_type": "execute_result"
    }
   ],
   "source": [
    "data_sl[data_sl['gene-query-name']=='BEM1']"
   ]
  },
  {
   "cell_type": "code",
   "execution_count": null,
   "metadata": {},
   "outputs": [],
   "source": []
  }
 ],
 "metadata": {
  "jupytext": {
   "text_representation": {
    "extension": ".md",
    "format_name": "myst"
   }
  },
  "kernelspec": {
   "display_name": "Python 3",
   "language": "python",
   "name": "python3"
  },
  "language_info": {
   "codemirror_mode": {
    "name": "ipython",
    "version": 3
   },
   "file_extension": ".py",
   "mimetype": "text/x-python",
   "name": "python",
   "nbconvert_exporter": "python",
   "pygments_lexer": "ipython3",
   "version": "3.7.8"
  },
  "source_map": [
   10,
   18,
   29,
   36,
   57,
   66,
   98,
   101,
   105,
   128,
   131,
   135,
   139,
   145,
   178,
   184,
   188,
   206,
   210,
   218,
   222,
   225,
   229,
   234,
   238,
   244,
   248,
   253,
   257,
   267,
   269,
   273,
   306,
   311,
   313,
   317,
   328,
   330,
   334,
   344,
   348,
   358,
   360,
   364,
   381,
   388,
   394,
   400,
   407,
   412,
   419,
   424,
   428,
   432
  ]
 },
 "nbformat": 4,
 "nbformat_minor": 4
}