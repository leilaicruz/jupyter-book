{
 "cells": [
  {
   "cell_type": "markdown",
   "metadata": {},
   "source": [
    "# Feature postprocessing from paper.\n",
    "- Title:  \"Predicting yeast synthetic lethal genetic interactions using protein domains\"\n",
    "- Authors: Bo Li, Feng Luo,School of Computing,Clemson University,Clemson, SC, USA\n",
    "- e-mail: bol, luofeng@clemson.edu\n",
    "- year:2009"
   ]
  },
  {
   "cell_type": "code",
   "execution_count": 1,
   "metadata": {
    "execution": {
     "iopub.execute_input": "2020-07-17T11:38:35.712986Z",
     "iopub.status.busy": "2020-07-17T11:38:35.712333Z",
     "iopub.status.idle": "2020-07-17T11:38:36.467875Z",
     "shell.execute_reply": "2020-07-17T11:38:36.466909Z"
    }
   },
   "outputs": [],
   "source": [
    "import pandas as pd\n",
    "import numpy as np\n",
    "import matplotlib.pyplot as plt\n",
    "from collections import defaultdict \n",
    "import seaborn as sns\n",
    "import matplotlib.cm as cm\n",
    "import scipy as scipy\n",
    "import random"
   ]
  },
  {
   "cell_type": "markdown",
   "metadata": {
    "jupyter": {
     "source_hidden": true
    }
   },
   "source": [
    "### Importing datasets \n",
    "\n",
    "#### Link to the github repo where the datasets to be downloaded:\n",
    "[DOWNLOAD THE DATASETS HERE](https://github.com/leilaicruz/machine-learning-for-yeast/tree/dev_Leila/datasets-for-learning)"
   ]
  },
  {
   "cell_type": "code",
   "execution_count": 2,
   "metadata": {
    "execution": {
     "iopub.execute_input": "2020-07-17T11:38:36.475050Z",
     "iopub.status.busy": "2020-07-17T11:38:36.474388Z",
     "iopub.status.idle": "2020-07-17T11:38:44.578988Z",
     "shell.execute_reply": "2020-07-17T11:38:44.578103Z"
    }
   },
   "outputs": [],
   "source": [
    "import os\n",
    "script_dir = os.path.dirname('__file__') #<-- absolute dir the script is in\n",
    "rel_path_SL = \"datasets/data-synthetic-lethals.xlsx\"\n",
    "rel_path_nSL=\"datasets/data-positive-genetic.xlsx\"\n",
    "rel_path_domains=\"datasets/proteins-domains-from-Pfam.xlsx\"\n",
    "\n",
    "abs_file_path_SL = os.path.join(script_dir, rel_path_SL)\n",
    "abs_file_path_nSL = os.path.join(script_dir, rel_path_nSL)\n",
    "abs_file_path_domains = os.path.join(script_dir, rel_path_domains)\n",
    "\n",
    "# os.chdir('mini_book/docs/') #<-- for binder os.chdir('../')\n",
    "# os.chdir('../')\n",
    "my_path_sl= abs_file_path_SL\n",
    "my_path_non_sl=abs_file_path_nSL\n",
    "my_path_domains=abs_file_path_domains\n",
    "\n",
    "data_sl=pd.read_excel(my_path_sl,header=0)\n",
    "data_domains=pd.read_excel(my_path_domains,header=0,index_col='Unnamed: 0')\n",
    "data_domains=data_domains.dropna()\n",
    "data_nonsl=pd.read_excel(my_path_non_sl,header=0)"
   ]
  },
  {
   "cell_type": "markdown",
   "metadata": {},
   "source": [
    "## Building the feature matrix\n",
    "One matrix for true SL where each row is one pair of SL. Every raw will be a vector of 0,1 or 2 depending on the comparison with the domain list. For row i the jth element = 0 if the jth element of the domain list is not in neither protein A and B, 1, if it is in one of them and 2 if it is in both of them .\n",
    "\n",
    "### Building the list of proteins domains id per protein pair separately :\n",
    "- List of protein A: Search for the Sl/nSL database the query gene name and look in the protein domain database which protein domains id has each of those queries.\n",
    "- List of protein B: Search for the Sl/nSL database the target gene name of the previous query and look in the protein domain database which protein domains id has each of those target genes."
   ]
  },
  {
   "cell_type": "code",
   "execution_count": 3,
   "metadata": {
    "execution": {
     "iopub.execute_input": "2020-07-17T11:38:44.596331Z",
     "iopub.status.busy": "2020-07-17T11:38:44.593391Z",
     "iopub.status.idle": "2020-07-17T11:38:46.939574Z",
     "shell.execute_reply": "2020-07-17T11:38:46.938965Z"
    }
   },
   "outputs": [],
   "source": [
    "# Selecting the meaningful columns in the respective dataset\n",
    "domain_id_list=data_domains['domain-name']\n",
    "query_gene=data_sl['gene-query-name']\n",
    "target_gene=data_sl['gene-target-name']\n",
    "query_gene_nonlethal=data_nonsl['gene-query-name']\n",
    "target_gene_nonlethal=data_nonsl['gene-target-name']\n",
    "\n",
    "\n",
    "\n",
    "# Initialising the arrays\n",
    "protein_a_list=[]\n",
    "protein_b_list=[]\n",
    "protein_a_list_non=[]\n",
    "protein_b_list_non=[]\n",
    "\n",
    "population = np.arange(0,len(data_sl))\n",
    "\n",
    "# For loop for 10000 pairs sampled randomly from the SL/nSl pair list , and creating a big array of proteind domains id per protein pair\n",
    "\n",
    "for m in random.sample(list(population), 500):\n",
    "    protein_a=data_domains[data_domains['name']==query_gene[m]]\n",
    "    protein_b=data_domains[data_domains['name']==target_gene[m]]\n",
    "    protein_a_list.append(protein_a['domain-name'].tolist())\n",
    "    protein_b_list.append(protein_b['domain-name'].tolist())\n",
    "\n",
    "    protein_a_non=data_domains[data_domains['name']==query_gene_nonlethal[m]]\n",
    "    protein_b_non=data_domains[data_domains['name']==target_gene_nonlethal[m]]\n",
    "    protein_a_list_non.append(protein_a_non['domain-name'].tolist())\n",
    "    protein_b_list_non.append(protein_b_non['domain-name'].tolist())"
   ]
  },
  {
   "cell_type": "code",
   "execution_count": 4,
   "metadata": {
    "execution": {
     "iopub.execute_input": "2020-07-17T11:38:46.944792Z",
     "iopub.status.busy": "2020-07-17T11:38:46.943331Z",
     "iopub.status.idle": "2020-07-17T11:38:46.949177Z",
     "shell.execute_reply": "2020-07-17T11:38:46.948670Z"
    }
   },
   "outputs": [
    {
     "name": "stdout",
     "output_type": "stream",
     "text": [
      "We are going to analyze 500 protein pairs, out of 17871 SL protein pairs\n",
      "We are going to analyze 500 protein pairs, out of 43340 positive protein pairs\n"
     ]
    }
   ],
   "source": [
    "print('We are going to analyze',len((protein_a_list)) ,'protein pairs, out of',len(data_sl),'SL protein pairs')\n",
    "print('We are going to analyze',len((protein_a_list_non)) ,'protein pairs, out of',len(data_nonsl),'positive protein pairs')"
   ]
  },
  {
   "cell_type": "markdown",
   "metadata": {},
   "source": [
    "### Postprocessing #1:  Remove protein pairs from study if either protein in the pair does not contain any domain"
   ]
  },
  {
   "cell_type": "code",
   "execution_count": 5,
   "metadata": {
    "execution": {
     "iopub.execute_input": "2020-07-17T11:38:46.958607Z",
     "iopub.status.busy": "2020-07-17T11:38:46.958030Z",
     "iopub.status.idle": "2020-07-17T11:38:46.961781Z",
     "shell.execute_reply": "2020-07-17T11:38:46.962480Z"
    }
   },
   "outputs": [],
   "source": [
    "def remove_empty_domains(protein_list_search,protein_list_pair):\n",
    "    index=[]\n",
    "    for i in np.arange(0,len(protein_list_search)):\n",
    "        if protein_list_search[i]==[] or protein_list_pair[i]==[]:\n",
    "            index.append(i) ## index of empty values for the protein_a_list meaning they dont have any annotated domain\n",
    "\n",
    "    y=[x for x in np.arange(0,len(protein_list_search)) if x not in index] # a list with non empty values from protein_a list\n",
    "\n",
    "    protein_list_search_new=[]\n",
    "    protein_list_pair_new=[]\n",
    "    for i in y:\n",
    "        protein_list_search_new.append(protein_list_search[i])\n",
    "        protein_list_pair_new.append(protein_list_pair[i])\n",
    "    return protein_list_search_new,protein_list_pair_new\n",
    "\n",
    "## evaluating the function\n",
    "\n",
    "protein_a_list_new,protein_b_list_new=remove_empty_domains(protein_a_list,protein_b_list)\n",
    "\n",
    "protein_a_list_non_new,protein_b_list_non_new=remove_empty_domains(protein_a_list_non,protein_b_list_non)"
   ]
  },
  {
   "cell_type": "code",
   "execution_count": 6,
   "metadata": {
    "execution": {
     "iopub.execute_input": "2020-07-17T11:38:46.968544Z",
     "iopub.status.busy": "2020-07-17T11:38:46.967162Z",
     "iopub.status.idle": "2020-07-17T11:38:46.973371Z",
     "shell.execute_reply": "2020-07-17T11:38:46.974111Z"
    }
   },
   "outputs": [
    {
     "name": "stdout",
     "output_type": "stream",
     "text": [
      "The empty domain in the SL were: 76 out of 500 domains\n",
      "The empty domain in the nSL were: 86 out of 500 domains\n"
     ]
    }
   ],
   "source": [
    "print('The empty domain in the SL were:', len(protein_a_list)-len(protein_a_list_new), 'out of', len(protein_a_list),'domains')\n",
    "print('The empty domain in the nSL were:', len(protein_a_list_non)-len(protein_a_list_non_new), 'out of', len(protein_a_list_non),'domains')"
   ]
  },
  {
   "cell_type": "markdown",
   "metadata": {},
   "source": [
    "### Feature engineering: Select from each ordered indexes of domain id list which of them appear once, in both or in any of the domains of each protein pair"
   ]
  },
  {
   "cell_type": "markdown",
   "metadata": {},
   "source": [
    "#### Define function `get_indexes`"
   ]
  },
  {
   "cell_type": "code",
   "execution_count": 7,
   "metadata": {
    "execution": {
     "iopub.execute_input": "2020-07-17T11:38:46.981388Z",
     "iopub.status.busy": "2020-07-17T11:38:46.980754Z",
     "iopub.status.idle": "2020-07-17T11:38:46.986038Z",
     "shell.execute_reply": "2020-07-17T11:38:46.986535Z"
    }
   },
   "outputs": [
    {
     "data": {
      "text/plain": [
       "[1, 2]"
      ]
     },
     "execution_count": 7,
     "metadata": {},
     "output_type": "execute_result"
    }
   ],
   "source": [
    "get_indexes = lambda x, xs: [i for (y, i) in zip(xs, range(len(xs))) if x == y] # a function that give the index of whether a value appear in array or not\n",
    "a=[1,2,2,4,5,6,7,8,9,10]\n",
    "get_indexes(2,a)"
   ]
  },
  {
   "cell_type": "code",
   "execution_count": 8,
   "metadata": {
    "execution": {
     "iopub.execute_input": "2020-07-17T11:38:46.995113Z",
     "iopub.status.busy": "2020-07-17T11:38:46.994536Z",
     "iopub.status.idle": "2020-07-17T11:38:46.998971Z",
     "shell.execute_reply": "2020-07-17T11:38:46.997812Z"
    }
   },
   "outputs": [],
   "source": [
    "def feature_building(protein_a_list_new,protein_b_list_new):\n",
    "    x = np.unique(domain_id_list)\n",
    "    ## To avoid taking repeated domains from one protein of the pairs , lets reduced the domains of each protein from the pairs to their unique members\n",
    "    protein_a_list_unique=[]\n",
    "    protein_b_list_unique=[]\n",
    "    for i in np.arange(0,len(protein_a_list_new)):\n",
    "        protein_a_list_unique.append(np.unique(protein_a_list_new[i]))\n",
    "        protein_b_list_unique.append(np.unique(protein_b_list_new[i]))\n",
    "        \n",
    "    protein_feat_true=np.zeros(shape=(len(x),len(protein_a_list_unique)))\n",
    "    pair_a_b_array=[]\n",
    "    for i in np.arange(0,len(protein_a_list_unique)):\n",
    "        index_a=[]\n",
    "        \n",
    "        pair=[protein_a_list_unique[i],protein_b_list_unique[i]]\n",
    "        pair_a_b=np.concatenate(pair).ravel()\n",
    "        pair_a_b_array.append(pair_a_b)\n",
    "\n",
    "    j=0\n",
    "    for i in pair_a_b_array:  \n",
    "        array,index,counts=np.unique(i,return_index=True,return_counts=True)\n",
    "        \n",
    "        for k,m in zip(counts,array):\n",
    "            if k ==2:\n",
    "                protein_feat_true[get_indexes(m,x),j]=2\n",
    "                \n",
    "            if k==1:\n",
    "                protein_feat_true[get_indexes(m,x),j]=1\n",
    "        j=j+1\n",
    "    return protein_feat_true"
   ]
  },
  {
   "cell_type": "code",
   "execution_count": 9,
   "metadata": {
    "execution": {
     "iopub.execute_input": "2020-07-17T11:38:47.009310Z",
     "iopub.status.busy": "2020-07-17T11:38:47.007934Z",
     "iopub.status.idle": "2020-07-17T11:38:47.822270Z",
     "shell.execute_reply": "2020-07-17T11:38:47.821677Z"
    }
   },
   "outputs": [],
   "source": [
    "protein_feat_true=feature_building(protein_b_list_new=protein_b_list_new,protein_a_list_new=protein_a_list_new)\n",
    "protein_feat_true_pd=pd.DataFrame(protein_feat_true.T)\n",
    "\n",
    "protein_feat_non_true=feature_building(protein_b_list_new=protein_b_list_non_new,protein_a_list_new=protein_a_list_non_new)\n",
    "protein_feat_non_true_pd=pd.DataFrame(protein_feat_non_true.T)"
   ]
  },
  {
   "cell_type": "markdown",
   "metadata": {},
   "source": [
    "### How many ones and twos are in each dataset"
   ]
  },
  {
   "cell_type": "code",
   "execution_count": 10,
   "metadata": {
    "execution": {
     "iopub.execute_input": "2020-07-17T11:38:47.832223Z",
     "iopub.status.busy": "2020-07-17T11:38:47.831087Z",
     "iopub.status.idle": "2020-07-17T11:38:47.934955Z",
     "shell.execute_reply": "2020-07-17T11:38:47.934136Z"
    }
   },
   "outputs": [
    {
     "name": "stdout",
     "output_type": "stream",
     "text": [
      "fraction of twos in the SL array is 4.288164665523156e-05\n",
      "fraction of ones in the SL array is 0.0009979728676126618\n",
      "fraction of twos in the PI array is 5.589491755499661e-06\n",
      "fraction of ones in the PI array is 0.0009238631373018725\n"
     ]
    }
   ],
   "source": [
    "index_2_true=protein_feat_true_pd.where(protein_feat_true_pd==2)\n",
    "index_2_true_count=index_2_true.count(axis=1).sum()\n",
    "\n",
    "index_1_true=protein_feat_true_pd.where(protein_feat_true_pd==1)\n",
    "index_1_true_count=index_1_true.count(axis=1).sum()\n",
    "\n",
    "index_2_nontrue=protein_feat_non_true_pd.where(protein_feat_non_true_pd==2)\n",
    "index_2_nontrue_count=index_2_nontrue.count(axis=1).sum()\n",
    "\n",
    "index_1_nontrue=protein_feat_non_true_pd.where(protein_feat_non_true_pd==1)\n",
    "index_1_nontrue_count=index_1_nontrue.count(axis=1).sum()\n",
    "\n",
    "\n",
    "print('fraction of twos in the SL array is',index_2_true_count/(len(protein_feat_true_pd.index)*len(protein_feat_true_pd.columns)))\n",
    "print('fraction of ones in the SL array is',index_1_true_count/(len(protein_feat_true_pd.index)*len(protein_feat_true_pd.columns)))\n",
    "print('fraction of twos in the PI array is',index_2_nontrue_count/(len(protein_feat_non_true_pd.index)*len(protein_feat_non_true_pd.columns)))\n",
    "print('fraction of ones in the PI array is',index_1_nontrue_count/(len(protein_feat_non_true_pd.index)*len(protein_feat_non_true_pd.columns)))"
   ]
  },
  {
   "cell_type": "markdown",
   "metadata": {},
   "source": [
    "#### Bar plot to visualize these numbers"
   ]
  },
  {
   "cell_type": "code",
   "execution_count": 11,
   "metadata": {
    "execution": {
     "iopub.execute_input": "2020-07-17T11:38:47.954357Z",
     "iopub.status.busy": "2020-07-17T11:38:47.940884Z",
     "iopub.status.idle": "2020-07-17T11:38:48.379061Z",
     "shell.execute_reply": "2020-07-17T11:38:48.377789Z"
    }
   },
   "outputs": [
    {
     "data": {
      "text/plain": [
       "([0, 1, 2, 3], <a list of 4 Text major ticklabel objects>)"
      ]
     },
     "execution_count": 11,
     "metadata": {},
     "output_type": "execute_result"
    },
    {
     "data": {
      "image/png": "[encoded data removed]",
      "text/plain": [
       "<Figure size 432x288 with 1 Axes>"
      ]
     },
     "metadata": {
      "filenames": {
       "image/png": "/home/runner/work/jupyter-book/jupyter-book/mini_book/docs/_build/jupyter_execute/prot_domains2lethality-FEATURES-POSTPROCESSING_18_1.png"
      },
      "needs_background": "light"
     },
     "output_type": "display_data"
    }
   ],
   "source": [
    "plt.bar(['fraction of 2 in the nSL','fraction of 1 in the nSL'],[index_2_nontrue_count/(len(protein_feat_non_true_pd.index)*len(protein_feat_non_true_pd.columns)),index_1_nontrue_count/(len(protein_feat_non_true_pd.index)*len(protein_feat_non_true_pd.columns))],alpha=0.6,color=['blue','lightblue']), \n",
    "\n",
    "plt.bar(['fraction of 2 in SL ','fraction of 1 in SL'],[index_2_true_count/(len(protein_feat_true_pd.index)*len(protein_feat_true_pd.columns)),index_1_true_count/(len(protein_feat_true_pd.index)*len(protein_feat_true_pd.columns))],alpha=0.6,color=['coral','lightcoral'])\n",
    "\n",
    "plt.ylabel('Fraction from the population')\n",
    "plt.yscale('log')\n",
    "plt.xticks(rotation=40)"
   ]
  },
  {
   "cell_type": "markdown",
   "metadata": {},
   "source": [
    "#### Adding the labels(response variables) to each dataset"
   ]
  },
  {
   "cell_type": "code",
   "execution_count": 12,
   "metadata": {
    "execution": {
     "iopub.execute_input": "2020-07-17T11:38:48.386266Z",
     "iopub.status.busy": "2020-07-17T11:38:48.384275Z",
     "iopub.status.idle": "2020-07-17T11:38:48.389177Z",
     "shell.execute_reply": "2020-07-17T11:38:48.390627Z"
    }
   },
   "outputs": [],
   "source": [
    "protein_feat_true_pd['lethality']=np.ones(shape=(len(protein_a_list_new)))\n",
    "protein_feat_non_true_pd['lethality']=np.zeros(shape=(len(protein_a_list_non_new)))"
   ]
  },
  {
   "cell_type": "markdown",
   "metadata": {},
   "source": [
    "#### Joining both datasets"
   ]
  },
  {
   "cell_type": "code",
   "execution_count": 13,
   "metadata": {
    "execution": {
     "iopub.execute_input": "2020-07-17T11:38:48.396442Z",
     "iopub.status.busy": "2020-07-17T11:38:48.395591Z",
     "iopub.status.idle": "2020-07-17T11:38:48.434596Z",
     "shell.execute_reply": "2020-07-17T11:38:48.433747Z"
    }
   },
   "outputs": [
    {
     "name": "stdout",
     "output_type": "stream",
     "text": [
      "The number of features are: 3026\n",
      "The number of samples are: 838\n"
     ]
    }
   ],
   "source": [
    "feature_post=pd.concat([protein_feat_true_pd,protein_feat_non_true_pd],axis=0)\n",
    "feature_post=feature_post.set_index(np.arange(0,len(protein_a_list_new)+len(protein_a_list_non_new)))\n",
    "print('The number of features are:',feature_post.shape[1])\n",
    "print('The number of samples are:',feature_post.shape[0])"
   ]
  },
  {
   "cell_type": "markdown",
   "metadata": {},
   "source": [
    "### Postprocessing and exploration of the feature matrix of both datasets"
   ]
  },
  {
   "cell_type": "code",
   "execution_count": 14,
   "metadata": {
    "execution": {
     "iopub.execute_input": "2020-07-17T11:38:48.440128Z",
     "iopub.status.busy": "2020-07-17T11:38:48.439501Z",
     "iopub.status.idle": "2020-07-17T11:38:53.352731Z",
     "shell.execute_reply": "2020-07-17T11:38:53.352159Z"
    }
   },
   "outputs": [],
   "source": [
    "mean=feature_post.T.describe().loc['mean']\n",
    "std=feature_post.T.describe().loc['std']\n",
    "lethality=feature_post['lethality']\n",
    "\n",
    "corr_keys=pd.concat([mean,std,lethality],axis=1)"
   ]
  },
  {
   "cell_type": "markdown",
   "metadata": {},
   "source": [
    "### Viz of the stats"
   ]
  },
  {
   "cell_type": "code",
   "execution_count": 15,
   "metadata": {
    "execution": {
     "iopub.execute_input": "2020-07-17T11:38:53.378272Z",
     "iopub.status.busy": "2020-07-17T11:38:53.357676Z",
     "iopub.status.idle": "2020-07-17T11:38:55.241864Z",
     "shell.execute_reply": "2020-07-17T11:38:55.242341Z"
    }
   },
   "outputs": [
    {
     "data": {
      "text/plain": [
       "Text(0.5, 1.08, 'Pairplot to see data dependencies with Lethality')"
      ]
     },
     "execution_count": 15,
     "metadata": {},
     "output_type": "execute_result"
    },
    {
     "data": {
      "image/png": "[encoded data removed]",
      "text/plain": [
       "<Figure size 412x360 with 6 Axes>"
      ]
     },
     "metadata": {
      "filenames": {
       "image/png": "/home/runner/work/jupyter-book/jupyter-book/mini_book/docs/_build/jupyter_execute/prot_domains2lethality-FEATURES-POSTPROCESSING_26_1.png"
      },
      "needs_background": "light"
     },
     "output_type": "display_data"
    }
   ],
   "source": [
    "pair=sns.pairplot(corr_keys,hue='lethality',diag_kind='kde',kind='reg',palette='colorblind')\n",
    "pair.fig.suptitle('Pairplot to see data dependencies with Lethality',y=1.08)"
   ]
  },
  {
   "cell_type": "code",
   "execution_count": 16,
   "metadata": {
    "execution": {
     "iopub.execute_input": "2020-07-17T11:38:55.253331Z",
     "iopub.status.busy": "2020-07-17T11:38:55.247251Z",
     "iopub.status.idle": "2020-07-17T11:38:55.256381Z",
     "shell.execute_reply": "2020-07-17T11:38:55.256828Z"
    }
   },
   "outputs": [],
   "source": [
    "X, y = feature_post.drop(columns=[\"lethality\"]), feature_post[\"lethality\"]"
   ]
  },
  {
   "cell_type": "code",
   "execution_count": 17,
   "metadata": {
    "execution": {
     "iopub.execute_input": "2020-07-17T11:38:55.263486Z",
     "iopub.status.busy": "2020-07-17T11:38:55.262206Z",
     "iopub.status.idle": "2020-07-17T11:38:55.430789Z",
     "shell.execute_reply": "2020-07-17T11:38:55.431326Z"
    }
   },
   "outputs": [],
   "source": [
    "from sklearn.preprocessing import StandardScaler\n",
    "scaler = StandardScaler()\n",
    "x_sl=protein_feat_true_pd.drop(columns=['lethality'])\n",
    "x_nsl=protein_feat_non_true_pd.drop(columns=['lethality'])\n",
    "\n",
    "X_sl_scaled = scaler.fit_transform(x_sl)\n",
    "X_nsl_scaled = scaler.fit_transform(x_nsl)"
   ]
  },
  {
   "cell_type": "code",
   "execution_count": 18,
   "metadata": {
    "execution": {
     "iopub.execute_input": "2020-07-17T11:38:55.436923Z",
     "iopub.status.busy": "2020-07-17T11:38:55.436266Z",
     "iopub.status.idle": "2020-07-17T11:38:55.439232Z",
     "shell.execute_reply": "2020-07-17T11:38:55.439759Z"
    }
   },
   "outputs": [
    {
     "data": {
      "text/plain": [
       "(424, 3025)"
      ]
     },
     "execution_count": 18,
     "metadata": {},
     "output_type": "execute_result"
    }
   ],
   "source": [
    "np.shape(X_sl_scaled)"
   ]
  },
  {
   "cell_type": "markdown",
   "metadata": {},
   "source": [
    "## How redundant are each of the protein domains?"
   ]
  },
  {
   "cell_type": "code",
   "execution_count": 19,
   "metadata": {
    "execution": {
     "iopub.execute_input": "2020-07-17T11:38:55.448903Z",
     "iopub.status.busy": "2020-07-17T11:38:55.447471Z",
     "iopub.status.idle": "2020-07-17T11:38:55.449601Z",
     "shell.execute_reply": "2020-07-17T11:38:55.450118Z"
    }
   },
   "outputs": [],
   "source": [
    "def PCA_component_contribution(scaled_matrix,original_data):\n",
    "    from sklearn.decomposition import PCA\n",
    "\n",
    "    model = PCA(0.95).fit(scaled_matrix)\n",
    "    ## apply dimensionality reduction to X_train\n",
    "    output_pca = model.transform(scaled_matrix)\n",
    "    \n",
    "    total=sum(model.explained_variance_)\n",
    "\n",
    "\n",
    "   \n",
    "    # number of components , that it will be the number of main axes times the number of original components \n",
    "    n_pcs= model.components_.shape[0] # the amount of non redundant protein domains \n",
    "\n",
    "    # get the index of the most important feature on EACH component\n",
    "    # LIST COMPREHENSION HERE\n",
    "    most_important = [np.abs(model.components_[i]).argmax() for i in range(n_pcs)]\n",
    "\n",
    "    initial_feature_names = original_data.columns\n",
    "    # get the names\n",
    "    most_important_names = [initial_feature_names[most_important[i]] for i in range(n_pcs)]\n",
    "    \n",
    "\n",
    "    # LIST COMPREHENSION HERE AGAIN\n",
    "    dic = {'PC{}'.format(i): most_important_names[i] for i in range(n_pcs)}\n",
    "\n",
    "    # build the dataframe\n",
    "    df = pd.DataFrame(dic.items(),columns=['pca-component','domain-number'])\n",
    "\n",
    "    return df,model.components_"
   ]
  },
  {
   "cell_type": "code",
   "execution_count": 20,
   "metadata": {
    "execution": {
     "iopub.execute_input": "2020-07-17T11:38:55.454279Z",
     "iopub.status.busy": "2020-07-17T11:38:55.453655Z",
     "iopub.status.idle": "2020-07-17T11:38:56.146540Z",
     "shell.execute_reply": "2020-07-17T11:38:56.147305Z"
    }
   },
   "outputs": [],
   "source": [
    "df_sl,components_pca_nsl=PCA_component_contribution(X_nsl_scaled,x_nsl)\n",
    "df_nsl,components_pca_sl=PCA_component_contribution(X_sl_scaled,x_sl)"
   ]
  },
  {
   "cell_type": "code",
   "execution_count": 21,
   "metadata": {
    "execution": {
     "iopub.execute_input": "2020-07-17T11:38:56.150445Z",
     "iopub.status.busy": "2020-07-17T11:38:56.149388Z",
     "iopub.status.idle": "2020-07-17T11:38:56.160982Z",
     "shell.execute_reply": "2020-07-17T11:38:56.161729Z"
    }
   },
   "outputs": [
    {
     "data": {
      "text/html": [
       "<div>\n",
       "<style scoped>\n",
       "    .dataframe tbody tr th:only-of-type {\n",
       "        vertical-align: middle;\n",
       "    }\n",
       "\n",
       "    .dataframe tbody tr th {\n",
       "        vertical-align: top;\n",
       "    }\n",
       "\n",
       "    .dataframe thead th {\n",
       "        text-align: right;\n",
       "    }\n",
       "</style>\n",
       "<table border=\"1\" class=\"dataframe\">\n",
       "  <thead>\n",
       "    <tr style=\"text-align: right;\">\n",
       "      <th></th>\n",
       "      <th>pca-component</th>\n",
       "      <th>domain-number</th>\n",
       "    </tr>\n",
       "  </thead>\n",
       "  <tbody>\n",
       "    <tr>\n",
       "      <th>0</th>\n",
       "      <td>PC0</td>\n",
       "      <td>221</td>\n",
       "    </tr>\n",
       "    <tr>\n",
       "      <th>1</th>\n",
       "      <td>PC1</td>\n",
       "      <td>340</td>\n",
       "    </tr>\n",
       "    <tr>\n",
       "      <th>2</th>\n",
       "      <td>PC2</td>\n",
       "      <td>305</td>\n",
       "    </tr>\n",
       "    <tr>\n",
       "      <th>3</th>\n",
       "      <td>PC3</td>\n",
       "      <td>229</td>\n",
       "    </tr>\n",
       "    <tr>\n",
       "      <th>4</th>\n",
       "      <td>PC4</td>\n",
       "      <td>1179</td>\n",
       "    </tr>\n",
       "  </tbody>\n",
       "</table>\n",
       "</div>"
      ],
      "text/plain": [
       "  pca-component  domain-number\n",
       "0           PC0            221\n",
       "1           PC1            340\n",
       "2           PC2            305\n",
       "3           PC3            229\n",
       "4           PC4           1179"
      ]
     },
     "execution_count": 21,
     "metadata": {},
     "output_type": "execute_result"
    }
   ],
   "source": [
    "df_sl.head()"
   ]
  },
  {
   "cell_type": "markdown",
   "metadata": {},
   "source": [
    "## which are the shared domains between nSL and SL pairs , in the PCA reduced samples"
   ]
  },
  {
   "cell_type": "code",
   "execution_count": 22,
   "metadata": {
    "execution": {
     "iopub.execute_input": "2020-07-17T11:38:56.164858Z",
     "iopub.status.busy": "2020-07-17T11:38:56.163797Z",
     "iopub.status.idle": "2020-07-17T11:38:56.204408Z",
     "shell.execute_reply": "2020-07-17T11:38:56.205161Z"
    }
   },
   "outputs": [
    {
     "data": {
      "text/html": [
       "<div>\n",
       "<style scoped>\n",
       "    .dataframe tbody tr th:only-of-type {\n",
       "        vertical-align: middle;\n",
       "    }\n",
       "\n",
       "    .dataframe tbody tr th {\n",
       "        vertical-align: top;\n",
       "    }\n",
       "\n",
       "    .dataframe thead th {\n",
       "        text-align: right;\n",
       "    }\n",
       "</style>\n",
       "<table border=\"1\" class=\"dataframe\">\n",
       "  <thead>\n",
       "    <tr style=\"text-align: right;\">\n",
       "      <th></th>\n",
       "      <th>pca-component_x</th>\n",
       "      <th>domain-number</th>\n",
       "      <th>pca-component_y</th>\n",
       "      <th>domain-description</th>\n",
       "    </tr>\n",
       "  </thead>\n",
       "  <tbody>\n",
       "    <tr>\n",
       "      <th>0</th>\n",
       "      <td>PC2</td>\n",
       "      <td>305</td>\n",
       "      <td>PC1</td>\n",
       "      <td>Brr6_like_C_C; Brl1/Brr6 domain</td>\n",
       "    </tr>\n",
       "    <tr>\n",
       "      <th>1</th>\n",
       "      <td>PC12</td>\n",
       "      <td>122</td>\n",
       "      <td>PC49</td>\n",
       "      <td>ATP-synt_10; ATPase assembly factor ATP10</td>\n",
       "    </tr>\n",
       "    <tr>\n",
       "      <th>2</th>\n",
       "      <td>PC12</td>\n",
       "      <td>122</td>\n",
       "      <td>PC52</td>\n",
       "      <td>ATP-synt_10; ATPase assembly factor ATP10</td>\n",
       "    </tr>\n",
       "    <tr>\n",
       "      <th>3</th>\n",
       "      <td>PC15</td>\n",
       "      <td>344</td>\n",
       "      <td>PC12</td>\n",
       "      <td>CENP-N; Centromere protein Chl4/mis15/CENP-N</td>\n",
       "    </tr>\n",
       "    <tr>\n",
       "      <th>4</th>\n",
       "      <td>PC18</td>\n",
       "      <td>476</td>\n",
       "      <td>PC29</td>\n",
       "      <td>Citrate_synt; Citrate synthase</td>\n",
       "    </tr>\n",
       "    <tr>\n",
       "      <th>5</th>\n",
       "      <td>PC23</td>\n",
       "      <td>983</td>\n",
       "      <td>PC37</td>\n",
       "      <td>GHMP_kinases_N; GHMP kinase N-terminal domain</td>\n",
       "    </tr>\n",
       "    <tr>\n",
       "      <th>6</th>\n",
       "      <td>PC23</td>\n",
       "      <td>983</td>\n",
       "      <td>PC38</td>\n",
       "      <td>GHMP_kinases_N; GHMP kinase N-terminal domain</td>\n",
       "    </tr>\n",
       "    <tr>\n",
       "      <th>7</th>\n",
       "      <td>PC29</td>\n",
       "      <td>2544</td>\n",
       "      <td>PC15</td>\n",
       "      <td>Sybindin; Trafficking protein particle complex...</td>\n",
       "    </tr>\n",
       "    <tr>\n",
       "      <th>8</th>\n",
       "      <td>PC30</td>\n",
       "      <td>926</td>\n",
       "      <td>PC19</td>\n",
       "      <td>Flp_C; Recombinase Flp protein</td>\n",
       "    </tr>\n",
       "    <tr>\n",
       "      <th>9</th>\n",
       "      <td>PC31</td>\n",
       "      <td>11</td>\n",
       "      <td>PC161</td>\n",
       "      <td>5-FTHF_cyc-lig; 5-formyltetrahydrofolate cyclo...</td>\n",
       "    </tr>\n",
       "    <tr>\n",
       "      <th>10</th>\n",
       "      <td>PC31</td>\n",
       "      <td>11</td>\n",
       "      <td>PC178</td>\n",
       "      <td>5-FTHF_cyc-lig; 5-formyltetrahydrofolate cyclo...</td>\n",
       "    </tr>\n",
       "    <tr>\n",
       "      <th>11</th>\n",
       "      <td>PC31</td>\n",
       "      <td>11</td>\n",
       "      <td>PC180</td>\n",
       "      <td>5-FTHF_cyc-lig; 5-formyltetrahydrofolate cyclo...</td>\n",
       "    </tr>\n",
       "    <tr>\n",
       "      <th>12</th>\n",
       "      <td>PC37</td>\n",
       "      <td>2875</td>\n",
       "      <td>PC69</td>\n",
       "      <td>YchF-GTPase_C; Domain of unknown function DUF933</td>\n",
       "    </tr>\n",
       "    <tr>\n",
       "      <th>13</th>\n",
       "      <td>PC41</td>\n",
       "      <td>773</td>\n",
       "      <td>PC44</td>\n",
       "      <td>Dynein_light; Dynein light chain, type 1/2</td>\n",
       "    </tr>\n",
       "    <tr>\n",
       "      <th>14</th>\n",
       "      <td>PC41</td>\n",
       "      <td>773</td>\n",
       "      <td>PC46</td>\n",
       "      <td>Dynein_light; Dynein light chain, type 1/2</td>\n",
       "    </tr>\n",
       "    <tr>\n",
       "      <th>15</th>\n",
       "      <td>PC49</td>\n",
       "      <td>194</td>\n",
       "      <td>PC120</td>\n",
       "      <td>Allantoicase; Allantoicase domain</td>\n",
       "    </tr>\n",
       "    <tr>\n",
       "      <th>16</th>\n",
       "      <td>PC49</td>\n",
       "      <td>194</td>\n",
       "      <td>PC132</td>\n",
       "      <td>Allantoicase; Allantoicase domain</td>\n",
       "    </tr>\n",
       "    <tr>\n",
       "      <th>17</th>\n",
       "      <td>PC53</td>\n",
       "      <td>215</td>\n",
       "      <td>PC135</td>\n",
       "      <td>Anticodon_1; Methionyl/Valyl/Leucyl/Isoleucyl-...</td>\n",
       "    </tr>\n",
       "    <tr>\n",
       "      <th>18</th>\n",
       "      <td>PC63</td>\n",
       "      <td>271</td>\n",
       "      <td>PC138</td>\n",
       "      <td>BLI1</td>\n",
       "    </tr>\n",
       "    <tr>\n",
       "      <th>19</th>\n",
       "      <td>PC64</td>\n",
       "      <td>2937</td>\n",
       "      <td>PC54</td>\n",
       "      <td>tRNA-synt_1c_C; Glutamyl/glutaminyl-tRNA synth...</td>\n",
       "    </tr>\n",
       "    <tr>\n",
       "      <th>20</th>\n",
       "      <td>PC69</td>\n",
       "      <td>1106</td>\n",
       "      <td>PC104</td>\n",
       "      <td>HEAT_2</td>\n",
       "    </tr>\n",
       "    <tr>\n",
       "      <th>21</th>\n",
       "      <td>PC73</td>\n",
       "      <td>440</td>\n",
       "      <td>PC115</td>\n",
       "      <td>Candida_ALS_N; Agglutinin-like protein, N-term...</td>\n",
       "    </tr>\n",
       "    <tr>\n",
       "      <th>22</th>\n",
       "      <td>PC94</td>\n",
       "      <td>61</td>\n",
       "      <td>PC64</td>\n",
       "      <td>AGA2</td>\n",
       "    </tr>\n",
       "    <tr>\n",
       "      <th>23</th>\n",
       "      <td>PC111</td>\n",
       "      <td>712</td>\n",
       "      <td>PC181</td>\n",
       "      <td>DUF3835; Domain of unknown function DUF3835</td>\n",
       "    </tr>\n",
       "    <tr>\n",
       "      <th>24</th>\n",
       "      <td>PC119</td>\n",
       "      <td>279</td>\n",
       "      <td>PC62</td>\n",
       "      <td>BRAP2; BRCA1-associated 2</td>\n",
       "    </tr>\n",
       "    <tr>\n",
       "      <th>25</th>\n",
       "      <td>PC121</td>\n",
       "      <td>539</td>\n",
       "      <td>PC223</td>\n",
       "      <td>Cytochrom_C; Cytochrome c-like domain</td>\n",
       "    </tr>\n",
       "    <tr>\n",
       "      <th>26</th>\n",
       "      <td>PC127</td>\n",
       "      <td>1449</td>\n",
       "      <td>PC129</td>\n",
       "      <td>Med4; Mediator complex, subunit Med4</td>\n",
       "    </tr>\n",
       "    <tr>\n",
       "      <th>27</th>\n",
       "      <td>PC128</td>\n",
       "      <td>1623</td>\n",
       "      <td>PC219</td>\n",
       "      <td>Nop53; Ribosome biogenesis protein Nop53/GLTSCR2</td>\n",
       "    </tr>\n",
       "    <tr>\n",
       "      <th>28</th>\n",
       "      <td>PC128</td>\n",
       "      <td>1623</td>\n",
       "      <td>PC242</td>\n",
       "      <td>Nop53; Ribosome biogenesis protein Nop53/GLTSCR2</td>\n",
       "    </tr>\n",
       "    <tr>\n",
       "      <th>29</th>\n",
       "      <td>PC129</td>\n",
       "      <td>1623</td>\n",
       "      <td>PC219</td>\n",
       "      <td>Nop53; Ribosome biogenesis protein Nop53/GLTSCR2</td>\n",
       "    </tr>\n",
       "    <tr>\n",
       "      <th>30</th>\n",
       "      <td>PC129</td>\n",
       "      <td>1623</td>\n",
       "      <td>PC242</td>\n",
       "      <td>Nop53; Ribosome biogenesis protein Nop53/GLTSCR2</td>\n",
       "    </tr>\n",
       "    <tr>\n",
       "      <th>31</th>\n",
       "      <td>PC133</td>\n",
       "      <td>68</td>\n",
       "      <td>PC198</td>\n",
       "      <td>AIRC; PurE domain</td>\n",
       "    </tr>\n",
       "    <tr>\n",
       "      <th>32</th>\n",
       "      <td>PC134</td>\n",
       "      <td>68</td>\n",
       "      <td>PC198</td>\n",
       "      <td>AIRC; PurE domain</td>\n",
       "    </tr>\n",
       "    <tr>\n",
       "      <th>33</th>\n",
       "      <td>PC140</td>\n",
       "      <td>407</td>\n",
       "      <td>PC146</td>\n",
       "      <td>CPSase_L_D2; Carbamoyl-phosphate synthetase la...</td>\n",
       "    </tr>\n",
       "    <tr>\n",
       "      <th>34</th>\n",
       "      <td>PC142</td>\n",
       "      <td>2228</td>\n",
       "      <td>PC261</td>\n",
       "      <td>Ribosomal_S21e; Ribosomal protein S21e</td>\n",
       "    </tr>\n",
       "    <tr>\n",
       "      <th>35</th>\n",
       "      <td>PC142</td>\n",
       "      <td>2228</td>\n",
       "      <td>PC262</td>\n",
       "      <td>Ribosomal_S21e; Ribosomal protein S21e</td>\n",
       "    </tr>\n",
       "    <tr>\n",
       "      <th>36</th>\n",
       "      <td>PC144</td>\n",
       "      <td>410</td>\n",
       "      <td>PC58</td>\n",
       "      <td>CRAL_TRIO; CRAL-TRIO lipid binding domain</td>\n",
       "    </tr>\n",
       "    <tr>\n",
       "      <th>37</th>\n",
       "      <td>PC144</td>\n",
       "      <td>410</td>\n",
       "      <td>PC59</td>\n",
       "      <td>CRAL_TRIO; CRAL-TRIO lipid binding domain</td>\n",
       "    </tr>\n",
       "    <tr>\n",
       "      <th>38</th>\n",
       "      <td>PC145</td>\n",
       "      <td>310</td>\n",
       "      <td>PC253</td>\n",
       "      <td>C1_1; Protein kinase C-like, phorbol ester/dia...</td>\n",
       "    </tr>\n",
       "    <tr>\n",
       "      <th>39</th>\n",
       "      <td>PC152</td>\n",
       "      <td>2359</td>\n",
       "      <td>PC121</td>\n",
       "      <td>SOG2; RAM signalling pathway, SOG2</td>\n",
       "    </tr>\n",
       "    <tr>\n",
       "      <th>40</th>\n",
       "      <td>PC154</td>\n",
       "      <td>42</td>\n",
       "      <td>PC199</td>\n",
       "      <td>ABC_tran_Xtn; ABC-transporter extension domain</td>\n",
       "    </tr>\n",
       "    <tr>\n",
       "      <th>41</th>\n",
       "      <td>PC155</td>\n",
       "      <td>778</td>\n",
       "      <td>PC148</td>\n",
       "      <td>E1_UFD; Ubiquitin-activating enzyme E1, C-term...</td>\n",
       "    </tr>\n",
       "    <tr>\n",
       "      <th>42</th>\n",
       "      <td>PC160</td>\n",
       "      <td>622</td>\n",
       "      <td>PC114</td>\n",
       "      <td>DNA_topoisoIV; DNA topoisomerase, type IIA, su...</td>\n",
       "    </tr>\n",
       "    <tr>\n",
       "      <th>43</th>\n",
       "      <td>PC162</td>\n",
       "      <td>2025</td>\n",
       "      <td>PC193</td>\n",
       "      <td>RNA_pol_Rpb2_7; RNA polymerase Rpb2, domain 7</td>\n",
       "    </tr>\n",
       "    <tr>\n",
       "      <th>44</th>\n",
       "      <td>PC164</td>\n",
       "      <td>376</td>\n",
       "      <td>PC162</td>\n",
       "      <td>COG2; Conserved oligomeric Golgi complex, subu...</td>\n",
       "    </tr>\n",
       "    <tr>\n",
       "      <th>45</th>\n",
       "      <td>PC164</td>\n",
       "      <td>376</td>\n",
       "      <td>PC163</td>\n",
       "      <td>COG2; Conserved oligomeric Golgi complex, subu...</td>\n",
       "    </tr>\n",
       "    <tr>\n",
       "      <th>46</th>\n",
       "      <td>PC169</td>\n",
       "      <td>1498</td>\n",
       "      <td>PC150</td>\n",
       "      <td>MmgE_PrpD; MmgE/PrpD</td>\n",
       "    </tr>\n",
       "    <tr>\n",
       "      <th>47</th>\n",
       "      <td>PC169</td>\n",
       "      <td>1498</td>\n",
       "      <td>PC151</td>\n",
       "      <td>MmgE_PrpD; MmgE/PrpD</td>\n",
       "    </tr>\n",
       "    <tr>\n",
       "      <th>48</th>\n",
       "      <td>PC171</td>\n",
       "      <td>2916</td>\n",
       "      <td>PC191</td>\n",
       "      <td>fn3_2; Fibronectin type III domain, fungi</td>\n",
       "    </tr>\n",
       "    <tr>\n",
       "      <th>49</th>\n",
       "      <td>PC171</td>\n",
       "      <td>2916</td>\n",
       "      <td>PC259</td>\n",
       "      <td>fn3_2; Fibronectin type III domain, fungi</td>\n",
       "    </tr>\n",
       "    <tr>\n",
       "      <th>50</th>\n",
       "      <td>PC184</td>\n",
       "      <td>1450</td>\n",
       "      <td>PC110</td>\n",
       "      <td>Med5; Mediator complex, subunit Med5, fungi</td>\n",
       "    </tr>\n",
       "    <tr>\n",
       "      <th>51</th>\n",
       "      <td>PC202</td>\n",
       "      <td>22</td>\n",
       "      <td>PC86</td>\n",
       "      <td>AAA_26</td>\n",
       "    </tr>\n",
       "    <tr>\n",
       "      <th>52</th>\n",
       "      <td>PC203</td>\n",
       "      <td>1701</td>\n",
       "      <td>PC87</td>\n",
       "      <td>PAP_central; Poly(A) polymerase, central domain</td>\n",
       "    </tr>\n",
       "    <tr>\n",
       "      <th>53</th>\n",
       "      <td>PC212</td>\n",
       "      <td>1061</td>\n",
       "      <td>PC183</td>\n",
       "      <td>Glyco_tran_28_C; Glycosyl transferase, family ...</td>\n",
       "    </tr>\n",
       "    <tr>\n",
       "      <th>54</th>\n",
       "      <td>PC217</td>\n",
       "      <td>356</td>\n",
       "      <td>PC256</td>\n",
       "      <td>CHZ; Histone chaperone domain CHZ</td>\n",
       "    </tr>\n",
       "    <tr>\n",
       "      <th>55</th>\n",
       "      <td>PC219</td>\n",
       "      <td>356</td>\n",
       "      <td>PC256</td>\n",
       "      <td>CHZ; Histone chaperone domain CHZ</td>\n",
       "    </tr>\n",
       "    <tr>\n",
       "      <th>56</th>\n",
       "      <td>PC280</td>\n",
       "      <td>161</td>\n",
       "      <td>PC122</td>\n",
       "      <td>Acyl-CoA_ox_N; Acyl-coenzyme A oxidase, N-term...</td>\n",
       "    </tr>\n",
       "    <tr>\n",
       "      <th>57</th>\n",
       "      <td>PC280</td>\n",
       "      <td>161</td>\n",
       "      <td>PC123</td>\n",
       "      <td>Acyl-CoA_ox_N; Acyl-coenzyme A oxidase, N-term...</td>\n",
       "    </tr>\n",
       "  </tbody>\n",
       "</table>\n",
       "</div>"
      ],
      "text/plain": [
       "   pca-component_x  domain-number pca-component_y  \\\n",
       "0              PC2            305             PC1   \n",
       "1             PC12            122            PC49   \n",
       "2             PC12            122            PC52   \n",
       "3             PC15            344            PC12   \n",
       "4             PC18            476            PC29   \n",
       "5             PC23            983            PC37   \n",
       "6             PC23            983            PC38   \n",
       "7             PC29           2544            PC15   \n",
       "8             PC30            926            PC19   \n",
       "9             PC31             11           PC161   \n",
       "10            PC31             11           PC178   \n",
       "11            PC31             11           PC180   \n",
       "12            PC37           2875            PC69   \n",
       "13            PC41            773            PC44   \n",
       "14            PC41            773            PC46   \n",
       "15            PC49            194           PC120   \n",
       "16            PC49            194           PC132   \n",
       "17            PC53            215           PC135   \n",
       "18            PC63            271           PC138   \n",
       "19            PC64           2937            PC54   \n",
       "20            PC69           1106           PC104   \n",
       "21            PC73            440           PC115   \n",
       "22            PC94             61            PC64   \n",
       "23           PC111            712           PC181   \n",
       "24           PC119            279            PC62   \n",
       "25           PC121            539           PC223   \n",
       "26           PC127           1449           PC129   \n",
       "27           PC128           1623           PC219   \n",
       "28           PC128           1623           PC242   \n",
       "29           PC129           1623           PC219   \n",
       "30           PC129           1623           PC242   \n",
       "31           PC133             68           PC198   \n",
       "32           PC134             68           PC198   \n",
       "33           PC140            407           PC146   \n",
       "34           PC142           2228           PC261   \n",
       "35           PC142           2228           PC262   \n",
       "36           PC144            410            PC58   \n",
       "37           PC144            410            PC59   \n",
       "38           PC145            310           PC253   \n",
       "39           PC152           2359           PC121   \n",
       "40           PC154             42           PC199   \n",
       "41           PC155            778           PC148   \n",
       "42           PC160            622           PC114   \n",
       "43           PC162           2025           PC193   \n",
       "44           PC164            376           PC162   \n",
       "45           PC164            376           PC163   \n",
       "46           PC169           1498           PC150   \n",
       "47           PC169           1498           PC151   \n",
       "48           PC171           2916           PC191   \n",
       "49           PC171           2916           PC259   \n",
       "50           PC184           1450           PC110   \n",
       "51           PC202             22            PC86   \n",
       "52           PC203           1701            PC87   \n",
       "53           PC212           1061           PC183   \n",
       "54           PC217            356           PC256   \n",
       "55           PC219            356           PC256   \n",
       "56           PC280            161           PC122   \n",
       "57           PC280            161           PC123   \n",
       "\n",
       "                                   domain-description  \n",
       "0                     Brr6_like_C_C; Brl1/Brr6 domain  \n",
       "1           ATP-synt_10; ATPase assembly factor ATP10  \n",
       "2           ATP-synt_10; ATPase assembly factor ATP10  \n",
       "3        CENP-N; Centromere protein Chl4/mis15/CENP-N  \n",
       "4                      Citrate_synt; Citrate synthase  \n",
       "5       GHMP_kinases_N; GHMP kinase N-terminal domain  \n",
       "6       GHMP_kinases_N; GHMP kinase N-terminal domain  \n",
       "7   Sybindin; Trafficking protein particle complex...  \n",
       "8                      Flp_C; Recombinase Flp protein  \n",
       "9   5-FTHF_cyc-lig; 5-formyltetrahydrofolate cyclo...  \n",
       "10  5-FTHF_cyc-lig; 5-formyltetrahydrofolate cyclo...  \n",
       "11  5-FTHF_cyc-lig; 5-formyltetrahydrofolate cyclo...  \n",
       "12   YchF-GTPase_C; Domain of unknown function DUF933  \n",
       "13         Dynein_light; Dynein light chain, type 1/2  \n",
       "14         Dynein_light; Dynein light chain, type 1/2  \n",
       "15                  Allantoicase; Allantoicase domain  \n",
       "16                  Allantoicase; Allantoicase domain  \n",
       "17  Anticodon_1; Methionyl/Valyl/Leucyl/Isoleucyl-...  \n",
       "18                                               BLI1  \n",
       "19  tRNA-synt_1c_C; Glutamyl/glutaminyl-tRNA synth...  \n",
       "20                                             HEAT_2  \n",
       "21  Candida_ALS_N; Agglutinin-like protein, N-term...  \n",
       "22                                               AGA2  \n",
       "23        DUF3835; Domain of unknown function DUF3835  \n",
       "24                          BRAP2; BRCA1-associated 2  \n",
       "25              Cytochrom_C; Cytochrome c-like domain  \n",
       "26               Med4; Mediator complex, subunit Med4  \n",
       "27   Nop53; Ribosome biogenesis protein Nop53/GLTSCR2  \n",
       "28   Nop53; Ribosome biogenesis protein Nop53/GLTSCR2  \n",
       "29   Nop53; Ribosome biogenesis protein Nop53/GLTSCR2  \n",
       "30   Nop53; Ribosome biogenesis protein Nop53/GLTSCR2  \n",
       "31                                  AIRC; PurE domain  \n",
       "32                                  AIRC; PurE domain  \n",
       "33  CPSase_L_D2; Carbamoyl-phosphate synthetase la...  \n",
       "34             Ribosomal_S21e; Ribosomal protein S21e  \n",
       "35             Ribosomal_S21e; Ribosomal protein S21e  \n",
       "36          CRAL_TRIO; CRAL-TRIO lipid binding domain  \n",
       "37          CRAL_TRIO; CRAL-TRIO lipid binding domain  \n",
       "38  C1_1; Protein kinase C-like, phorbol ester/dia...  \n",
       "39                 SOG2; RAM signalling pathway, SOG2  \n",
       "40     ABC_tran_Xtn; ABC-transporter extension domain  \n",
       "41  E1_UFD; Ubiquitin-activating enzyme E1, C-term...  \n",
       "42  DNA_topoisoIV; DNA topoisomerase, type IIA, su...  \n",
       "43      RNA_pol_Rpb2_7; RNA polymerase Rpb2, domain 7  \n",
       "44  COG2; Conserved oligomeric Golgi complex, subu...  \n",
       "45  COG2; Conserved oligomeric Golgi complex, subu...  \n",
       "46                               MmgE_PrpD; MmgE/PrpD  \n",
       "47                               MmgE_PrpD; MmgE/PrpD  \n",
       "48          fn3_2; Fibronectin type III domain, fungi  \n",
       "49          fn3_2; Fibronectin type III domain, fungi  \n",
       "50        Med5; Mediator complex, subunit Med5, fungi  \n",
       "51                                             AAA_26  \n",
       "52    PAP_central; Poly(A) polymerase, central domain  \n",
       "53  Glyco_tran_28_C; Glycosyl transferase, family ...  \n",
       "54                  CHZ; Histone chaperone domain CHZ  \n",
       "55                  CHZ; Histone chaperone domain CHZ  \n",
       "56  Acyl-CoA_ox_N; Acyl-coenzyme A oxidase, N-term...  \n",
       "57  Acyl-CoA_ox_N; Acyl-coenzyme A oxidase, N-term...  "
      ]
     },
     "execution_count": 22,
     "metadata": {},
     "output_type": "execute_result"
    }
   ],
   "source": [
    "df_shared_domains=pd.merge(df_sl,df_nsl,how='inner',on='domain-number')\n",
    "domains_name=np.unique(data_domains['domain-name'])\n",
    "domains_description=np.unique(data_domains['domain-descrip'])\n",
    "\n",
    "df_shared_domains['domain-description']=domains_description[df_shared_domains['domain-number']]\n",
    "\n",
    "\n",
    "df_shared_domains"
   ]
  },
  {
   "cell_type": "code",
   "execution_count": 23,
   "metadata": {
    "execution": {
     "iopub.execute_input": "2020-07-17T11:38:56.208483Z",
     "iopub.status.busy": "2020-07-17T11:38:56.207424Z",
     "iopub.status.idle": "2020-07-17T11:38:56.216451Z",
     "shell.execute_reply": "2020-07-17T11:38:56.217190Z"
    }
   },
   "outputs": [
    {
     "name": "stdout",
     "output_type": "stream",
     "text": [
      "The number of shared domains between SL and nSL pairs,after PCA, is =  58 out of 556 so the 10.431654676258994 %\n"
     ]
    }
   ],
   "source": [
    "print('The number of shared domains between SL and nSL pairs,after PCA, is = ',len(df_shared_domains), 'out of', len(df_sl)+len(df_nsl), 'so the',100*len(df_shared_domains)/(len(df_sl)+len(df_nsl)),'%')"
   ]
  },
  {
   "cell_type": "markdown",
   "metadata": {},
   "source": [
    "## Domains exclusive to SL"
   ]
  },
  {
   "cell_type": "code",
   "execution_count": 24,
   "metadata": {
    "execution": {
     "iopub.execute_input": "2020-07-17T11:38:56.220329Z",
     "iopub.status.busy": "2020-07-17T11:38:56.219256Z",
     "iopub.status.idle": "2020-07-17T11:38:56.260010Z",
     "shell.execute_reply": "2020-07-17T11:38:56.259431Z"
    }
   },
   "outputs": [
    {
     "data": {
      "text/html": [
       "<div>\n",
       "<style scoped>\n",
       "    .dataframe tbody tr th:only-of-type {\n",
       "        vertical-align: middle;\n",
       "    }\n",
       "\n",
       "    .dataframe tbody tr th {\n",
       "        vertical-align: top;\n",
       "    }\n",
       "\n",
       "    .dataframe thead th {\n",
       "        text-align: right;\n",
       "    }\n",
       "</style>\n",
       "<table border=\"1\" class=\"dataframe\">\n",
       "  <thead>\n",
       "    <tr style=\"text-align: right;\">\n",
       "      <th></th>\n",
       "      <th>pca-component_x</th>\n",
       "      <th>domain-number</th>\n",
       "      <th>pca-component_y</th>\n",
       "      <th>domain-description</th>\n",
       "    </tr>\n",
       "  </thead>\n",
       "  <tbody>\n",
       "    <tr>\n",
       "      <th>0</th>\n",
       "      <td>PC0</td>\n",
       "      <td>221</td>\n",
       "      <td>NaN</td>\n",
       "      <td>Apq12; Nuclear pore assembly and biogenesis pr...</td>\n",
       "    </tr>\n",
       "    <tr>\n",
       "      <th>1</th>\n",
       "      <td>PC1</td>\n",
       "      <td>340</td>\n",
       "      <td>NaN</td>\n",
       "      <td>CDC73_C; Cell division control protein 73, C-t...</td>\n",
       "    </tr>\n",
       "    <tr>\n",
       "      <th>3</th>\n",
       "      <td>PC3</td>\n",
       "      <td>229</td>\n",
       "      <td>NaN</td>\n",
       "      <td>Arginase; Ureohydrolase</td>\n",
       "    </tr>\n",
       "    <tr>\n",
       "      <th>4</th>\n",
       "      <td>PC4</td>\n",
       "      <td>1179</td>\n",
       "      <td>NaN</td>\n",
       "      <td>HlyIII; AdipoR/Haemolysin-III-related</td>\n",
       "    </tr>\n",
       "    <tr>\n",
       "      <th>5</th>\n",
       "      <td>PC5</td>\n",
       "      <td>1519</td>\n",
       "      <td>NaN</td>\n",
       "      <td>Mtc; Tricarboxylate/iron carrier</td>\n",
       "    </tr>\n",
       "    <tr>\n",
       "      <th>...</th>\n",
       "      <td>...</td>\n",
       "      <td>...</td>\n",
       "      <td>...</td>\n",
       "      <td>...</td>\n",
       "    </tr>\n",
       "    <tr>\n",
       "      <th>288</th>\n",
       "      <td>PC275</td>\n",
       "      <td>1917</td>\n",
       "      <td>NaN</td>\n",
       "      <td>Pil1; Eisosome component PIL1/LSP1</td>\n",
       "    </tr>\n",
       "    <tr>\n",
       "      <th>289</th>\n",
       "      <td>PC276</td>\n",
       "      <td>358</td>\n",
       "      <td>NaN</td>\n",
       "      <td>CKS; Cyclin-dependent kinase, regulatory subunit</td>\n",
       "    </tr>\n",
       "    <tr>\n",
       "      <th>290</th>\n",
       "      <td>PC277</td>\n",
       "      <td>363</td>\n",
       "      <td>NaN</td>\n",
       "      <td>CLP1_P; Polyribonucleotide 5&amp;apos;-hydroxyl-ki...</td>\n",
       "    </tr>\n",
       "    <tr>\n",
       "      <th>291</th>\n",
       "      <td>PC278</td>\n",
       "      <td>2435</td>\n",
       "      <td>NaN</td>\n",
       "      <td>Sec16_C; Ancestral coatomer element 1, Sec16/S...</td>\n",
       "    </tr>\n",
       "    <tr>\n",
       "      <th>292</th>\n",
       "      <td>PC279</td>\n",
       "      <td>704</td>\n",
       "      <td>NaN</td>\n",
       "      <td>DUF3543; Serine/threonine-protein kinase, C-te...</td>\n",
       "    </tr>\n",
       "  </tbody>\n",
       "</table>\n",
       "<p>237 rows × 4 columns</p>\n",
       "</div>"
      ],
      "text/plain": [
       "    pca-component_x  domain-number pca-component_y  \\\n",
       "0               PC0            221             NaN   \n",
       "1               PC1            340             NaN   \n",
       "3               PC3            229             NaN   \n",
       "4               PC4           1179             NaN   \n",
       "5               PC5           1519             NaN   \n",
       "..              ...            ...             ...   \n",
       "288           PC275           1917             NaN   \n",
       "289           PC276            358             NaN   \n",
       "290           PC277            363             NaN   \n",
       "291           PC278           2435             NaN   \n",
       "292           PC279            704             NaN   \n",
       "\n",
       "                                    domain-description  \n",
       "0    Apq12; Nuclear pore assembly and biogenesis pr...  \n",
       "1    CDC73_C; Cell division control protein 73, C-t...  \n",
       "3                              Arginase; Ureohydrolase  \n",
       "4                HlyIII; AdipoR/Haemolysin-III-related  \n",
       "5                     Mtc; Tricarboxylate/iron carrier  \n",
       "..                                                 ...  \n",
       "288                 Pil1; Eisosome component PIL1/LSP1  \n",
       "289   CKS; Cyclin-dependent kinase, regulatory subunit  \n",
       "290  CLP1_P; Polyribonucleotide 5&apos;-hydroxyl-ki...  \n",
       "291  Sec16_C; Ancestral coatomer element 1, Sec16/S...  \n",
       "292  DUF3543; Serine/threonine-protein kinase, C-te...  \n",
       "\n",
       "[237 rows x 4 columns]"
      ]
     },
     "execution_count": 24,
     "metadata": {},
     "output_type": "execute_result"
    }
   ],
   "source": [
    "df_sl_exclusive=pd.merge(df_sl,df_nsl,how='left',on='domain-number')\n",
    "\n",
    "domains_name=np.unique(data_domains['domain-name'])\n",
    "domains_description=np.unique(data_domains['domain-descrip'])\n",
    "\n",
    "df_sl_exclusive['domain-description']=domains_description[df_sl_exclusive['domain-number']]\n",
    "df_sl_exclusive[pd.isnull(df_sl_exclusive['pca-component_y'])]"
   ]
  },
  {
   "cell_type": "code",
   "execution_count": 25,
   "metadata": {
    "execution": {
     "iopub.execute_input": "2020-07-17T11:38:56.265842Z",
     "iopub.status.busy": "2020-07-17T11:38:56.265169Z",
     "iopub.status.idle": "2020-07-17T11:38:56.270596Z",
     "shell.execute_reply": "2020-07-17T11:38:56.271119Z"
    }
   },
   "outputs": [
    {
     "name": "stdout",
     "output_type": "stream",
     "text": [
      "The number of exclusive domains from SL pairs, after PCA, is =  295 out of 556 so the 53.05755395683453 %\n"
     ]
    }
   ],
   "source": [
    "print('The number of exclusive domains from SL pairs, after PCA, is = ',len(df_sl_exclusive), 'out of', len(df_sl)+len(df_nsl), 'so the',100*len(df_sl_exclusive)/(len(df_sl)+len(df_nsl)),'%')"
   ]
  },
  {
   "cell_type": "code",
   "execution_count": 26,
   "metadata": {
    "execution": {
     "iopub.execute_input": "2020-07-17T11:38:56.301058Z",
     "iopub.status.busy": "2020-07-17T11:38:56.276785Z",
     "iopub.status.idle": "2020-07-17T11:38:56.306193Z",
     "shell.execute_reply": "2020-07-17T11:38:56.306669Z"
    }
   },
   "outputs": [
    {
     "data": {
      "text/html": [
       "<div>\n",
       "<style scoped>\n",
       "    .dataframe tbody tr th:only-of-type {\n",
       "        vertical-align: middle;\n",
       "    }\n",
       "\n",
       "    .dataframe tbody tr th {\n",
       "        vertical-align: top;\n",
       "    }\n",
       "\n",
       "    .dataframe thead th {\n",
       "        text-align: right;\n",
       "    }\n",
       "</style>\n",
       "<table border=\"1\" class=\"dataframe\">\n",
       "  <thead>\n",
       "    <tr style=\"text-align: right;\">\n",
       "      <th></th>\n",
       "      <th>pca-component_x</th>\n",
       "      <th>domain-number</th>\n",
       "      <th>pca-component_y</th>\n",
       "      <th>domain-description</th>\n",
       "    </tr>\n",
       "  </thead>\n",
       "  <tbody>\n",
       "    <tr>\n",
       "      <th>58</th>\n",
       "      <td>NaN</td>\n",
       "      <td>1028</td>\n",
       "      <td>PC0</td>\n",
       "      <td>GatB_Yqey; Asn/Gln amidotransferase</td>\n",
       "    </tr>\n",
       "    <tr>\n",
       "      <th>59</th>\n",
       "      <td>NaN</td>\n",
       "      <td>308</td>\n",
       "      <td>PC2</td>\n",
       "      <td>Bul1_N; Bul1, N-terminal</td>\n",
       "    </tr>\n",
       "    <tr>\n",
       "      <th>60</th>\n",
       "      <td>NaN</td>\n",
       "      <td>1811</td>\n",
       "      <td>PC3</td>\n",
       "      <td>PRAI; N-(5&amp;apos;phosphoribosyl) anthranilate i...</td>\n",
       "    </tr>\n",
       "    <tr>\n",
       "      <th>61</th>\n",
       "      <td>NaN</td>\n",
       "      <td>2</td>\n",
       "      <td>PC4</td>\n",
       "      <td>2-Hacid_dh; D-isomer specific 2-hydroxyacid de...</td>\n",
       "    </tr>\n",
       "    <tr>\n",
       "      <th>62</th>\n",
       "      <td>NaN</td>\n",
       "      <td>268</td>\n",
       "      <td>PC5</td>\n",
       "      <td>BHD_3; Rad4 beta-hairpin domain 3</td>\n",
       "    </tr>\n",
       "    <tr>\n",
       "      <th>...</th>\n",
       "      <td>...</td>\n",
       "      <td>...</td>\n",
       "      <td>...</td>\n",
       "      <td>...</td>\n",
       "    </tr>\n",
       "    <tr>\n",
       "      <th>274</th>\n",
       "      <td>NaN</td>\n",
       "      <td>329</td>\n",
       "      <td>PC271</td>\n",
       "      <td>CBS; CBS domain</td>\n",
       "    </tr>\n",
       "    <tr>\n",
       "      <th>275</th>\n",
       "      <td>NaN</td>\n",
       "      <td>1723</td>\n",
       "      <td>PC270</td>\n",
       "      <td>PEMT; Phospholipid methyltransferase</td>\n",
       "    </tr>\n",
       "    <tr>\n",
       "      <th>276</th>\n",
       "      <td>NaN</td>\n",
       "      <td>1418</td>\n",
       "      <td>PC272</td>\n",
       "      <td>Mak16; Mak16 protein</td>\n",
       "    </tr>\n",
       "    <tr>\n",
       "      <th>277</th>\n",
       "      <td>NaN</td>\n",
       "      <td>40</td>\n",
       "      <td>PC273</td>\n",
       "      <td>ABC_membrane_2; ABC transporter type 1, transm...</td>\n",
       "    </tr>\n",
       "    <tr>\n",
       "      <th>278</th>\n",
       "      <td>NaN</td>\n",
       "      <td>1962</td>\n",
       "      <td>PC274</td>\n",
       "      <td>QCR10; Cytochrome b-c1 complex subunit 10, fungi</td>\n",
       "    </tr>\n",
       "  </tbody>\n",
       "</table>\n",
       "<p>221 rows × 4 columns</p>\n",
       "</div>"
      ],
      "text/plain": [
       "    pca-component_x  domain-number pca-component_y  \\\n",
       "58              NaN           1028             PC0   \n",
       "59              NaN            308             PC2   \n",
       "60              NaN           1811             PC3   \n",
       "61              NaN              2             PC4   \n",
       "62              NaN            268             PC5   \n",
       "..              ...            ...             ...   \n",
       "274             NaN            329           PC271   \n",
       "275             NaN           1723           PC270   \n",
       "276             NaN           1418           PC272   \n",
       "277             NaN             40           PC273   \n",
       "278             NaN           1962           PC274   \n",
       "\n",
       "                                    domain-description  \n",
       "58                 GatB_Yqey; Asn/Gln amidotransferase  \n",
       "59                            Bul1_N; Bul1, N-terminal  \n",
       "60   PRAI; N-(5&apos;phosphoribosyl) anthranilate i...  \n",
       "61   2-Hacid_dh; D-isomer specific 2-hydroxyacid de...  \n",
       "62                   BHD_3; Rad4 beta-hairpin domain 3  \n",
       "..                                                 ...  \n",
       "274                                    CBS; CBS domain  \n",
       "275               PEMT; Phospholipid methyltransferase  \n",
       "276                               Mak16; Mak16 protein  \n",
       "277  ABC_membrane_2; ABC transporter type 1, transm...  \n",
       "278   QCR10; Cytochrome b-c1 complex subunit 10, fungi  \n",
       "\n",
       "[221 rows x 4 columns]"
      ]
     },
     "execution_count": 26,
     "metadata": {},
     "output_type": "execute_result"
    }
   ],
   "source": [
    "df_nsl_exclusive=pd.merge(df_sl,df_nsl,how='right',on='domain-number')\n",
    "\n",
    "domains_name=np.unique(data_domains['domain-name'])\n",
    "domains_description=np.unique(data_domains['domain-descrip'])\n",
    "\n",
    "df_nsl_exclusive['domain-description']=domains_description[df_nsl_exclusive['domain-number']]\n",
    "df_nsl_exclusive[pd.isnull(df_nsl_exclusive['pca-component_x'])]"
   ]
  },
  {
   "cell_type": "code",
   "execution_count": 27,
   "metadata": {
    "execution": {
     "iopub.execute_input": "2020-07-17T11:38:56.312328Z",
     "iopub.status.busy": "2020-07-17T11:38:56.311765Z",
     "iopub.status.idle": "2020-07-17T11:38:56.316373Z",
     "shell.execute_reply": "2020-07-17T11:38:56.315877Z"
    }
   },
   "outputs": [
    {
     "name": "stdout",
     "output_type": "stream",
     "text": [
      "The number of exclusive domains from non SL pairs, after PCA, is =  279 out of 556 so the 50.17985611510792 %\n"
     ]
    }
   ],
   "source": [
    "print('The number of exclusive domains from non SL pairs, after PCA, is = ',len(df_nsl_exclusive), 'out of', len(df_sl)+len(df_nsl), 'so the',100*len(df_nsl_exclusive)/(len(df_sl)+len(df_nsl)),'%')"
   ]
  },
  {
   "cell_type": "markdown",
   "metadata": {},
   "source": [
    "## Let see to the domains-number that get repeated after the PCA analysis , and selecting the most explanatory feature by its explained variance."
   ]
  },
  {
   "cell_type": "code",
   "execution_count": 28,
   "metadata": {
    "execution": {
     "iopub.execute_input": "2020-07-17T11:38:56.330194Z",
     "iopub.status.busy": "2020-07-17T11:38:56.322341Z",
     "iopub.status.idle": "2020-07-17T11:38:56.344505Z",
     "shell.execute_reply": "2020-07-17T11:38:56.344031Z"
    }
   },
   "outputs": [],
   "source": [
    "duplicated_features_sl=df_sl[df_sl.iloc[:,1].duplicated()]\n",
    "repeated_features_sl=pd.DataFrame()\n",
    "\n",
    "domains_name=np.unique(data_domains['domain-name'])\n",
    "domains_description=np.unique(data_domains['domain-descrip'])\n",
    "\n",
    "repeated_features_sl['domain-name']=domains_name[duplicated_features_sl.iloc[:,1]] \n",
    "repeated_features_sl['domain-description']=domains_description[duplicated_features_sl.iloc[:,1]]\n",
    "\n",
    "duplicated_features_nsl=df_nsl[df_nsl.iloc[:,1].duplicated()]\n",
    "repeated_features_nsl=pd.DataFrame()\n",
    "\n",
    "repeated_features_nsl['domain-name']=domains_name[duplicated_features_nsl.iloc[:,1]] \n",
    "repeated_features_nsl['domain-description']=domains_description[duplicated_features_nsl.iloc[:,1]]"
   ]
  },
  {
   "cell_type": "code",
   "execution_count": 29,
   "metadata": {
    "execution": {
     "iopub.execute_input": "2020-07-17T11:38:56.355197Z",
     "iopub.status.busy": "2020-07-17T11:38:56.353056Z",
     "iopub.status.idle": "2020-07-17T11:38:56.360751Z",
     "shell.execute_reply": "2020-07-17T11:38:56.361194Z"
    }
   },
   "outputs": [
    {
     "name": "stderr",
     "output_type": "stream",
     "text": [
      "/usr/share/miniconda3/envs/wintest/lib/python3.7/site-packages/ipykernel_launcher.py:3: SettingWithCopyWarning: \n",
      "A value is trying to be set on a copy of a slice from a DataFrame.\n",
      "Try using .loc[row_indexer,col_indexer] = value instead\n",
      "\n",
      "See the caveats in the documentation: https://pandas.pydata.org/pandas-docs/stable/user_guide/indexing.html#returning-a-view-versus-a-copy\n",
      "  This is separate from the ipykernel package so we can avoid doing imports until\n"
     ]
    },
    {
     "data": {
      "text/plain": [
       "((39, 4), (295, 4))"
      ]
     },
     "execution_count": 29,
     "metadata": {},
     "output_type": "execute_result"
    }
   ],
   "source": [
    "only_sl_pd=pd.merge(repeated_features_sl,repeated_features_nsl,how='left',on=['domain-name'])\n",
    "data_only_sl = only_sl_pd[pd.isnull(only_sl_pd['domain-description_y'])]\n",
    "data_only_sl['domain-description']=data_only_sl['domain-description_x']\n",
    "data_only_sl.shape,df_sl_exclusive.shape"
   ]
  },
  {
   "cell_type": "code",
   "execution_count": 30,
   "metadata": {
    "execution": {
     "iopub.execute_input": "2020-07-17T11:38:56.381887Z",
     "iopub.status.busy": "2020-07-17T11:38:56.381321Z",
     "iopub.status.idle": "2020-07-17T11:38:56.387030Z",
     "shell.execute_reply": "2020-07-17T11:38:56.387496Z"
    }
   },
   "outputs": [
    {
     "data": {
      "text/html": [
       "<div>\n",
       "<style scoped>\n",
       "    .dataframe tbody tr th:only-of-type {\n",
       "        vertical-align: middle;\n",
       "    }\n",
       "\n",
       "    .dataframe tbody tr th {\n",
       "        vertical-align: top;\n",
       "    }\n",
       "\n",
       "    .dataframe thead th {\n",
       "        text-align: right;\n",
       "    }\n",
       "</style>\n",
       "<table border=\"1\" class=\"dataframe\">\n",
       "  <thead>\n",
       "    <tr style=\"text-align: right;\">\n",
       "      <th></th>\n",
       "      <th>domain-name</th>\n",
       "      <th>domain-description_x</th>\n",
       "      <th>domain-description_y</th>\n",
       "    </tr>\n",
       "  </thead>\n",
       "  <tbody>\n",
       "    <tr>\n",
       "      <th>1</th>\n",
       "      <td>PF00684</td>\n",
       "      <td>NaN</td>\n",
       "      <td>CDP-OH_P_transf; CDP-alcohol phosphatidyltrans...</td>\n",
       "    </tr>\n",
       "    <tr>\n",
       "      <th>2</th>\n",
       "      <td>PF13361</td>\n",
       "      <td>NaN</td>\n",
       "      <td>TPR_17</td>\n",
       "    </tr>\n",
       "    <tr>\n",
       "      <th>3</th>\n",
       "      <td>PF02854</td>\n",
       "      <td>NaN</td>\n",
       "      <td>GHMP_kinases_N; GHMP kinase N-terminal domain</td>\n",
       "    </tr>\n",
       "    <tr>\n",
       "      <th>4</th>\n",
       "      <td>PF01909</td>\n",
       "      <td>NaN</td>\n",
       "      <td>Dynein_light; Dynein light chain, type 1/2</td>\n",
       "    </tr>\n",
       "    <tr>\n",
       "      <th>5</th>\n",
       "      <td>PF00249</td>\n",
       "      <td>NaN</td>\n",
       "      <td>ATP-synt_10; ATPase assembly factor ATP10</td>\n",
       "    </tr>\n",
       "    <tr>\n",
       "      <th>6</th>\n",
       "      <td>PF00856</td>\n",
       "      <td>NaN</td>\n",
       "      <td>CRAL_TRIO; CRAL-TRIO lipid binding domain</td>\n",
       "    </tr>\n",
       "    <tr>\n",
       "      <th>7</th>\n",
       "      <td>PF00752</td>\n",
       "      <td>NaN</td>\n",
       "      <td>CNH; Citron homology (CNH) domain</td>\n",
       "    </tr>\n",
       "    <tr>\n",
       "      <th>8</th>\n",
       "      <td>PF03874</td>\n",
       "      <td>NaN</td>\n",
       "      <td>Hydantoinase_A; Hydantoinase/oxoprolinase</td>\n",
       "    </tr>\n",
       "    <tr>\n",
       "      <th>9</th>\n",
       "      <td>PF04423</td>\n",
       "      <td>NaN</td>\n",
       "      <td>MARVEL; Marvel domain</td>\n",
       "    </tr>\n",
       "    <tr>\n",
       "      <th>10</th>\n",
       "      <td>PF03656</td>\n",
       "      <td>NaN</td>\n",
       "      <td>Haspin_kinase</td>\n",
       "    </tr>\n",
       "    <tr>\n",
       "      <th>11</th>\n",
       "      <td>PF04628</td>\n",
       "      <td>NaN</td>\n",
       "      <td>MPC; Mitochondrial pyruvate carrier</td>\n",
       "    </tr>\n",
       "    <tr>\n",
       "      <th>12</th>\n",
       "      <td>PF02383</td>\n",
       "      <td>NaN</td>\n",
       "      <td>FHA; Forkhead-associated (FHA) domain</td>\n",
       "    </tr>\n",
       "    <tr>\n",
       "      <th>13</th>\n",
       "      <td>PF07926</td>\n",
       "      <td>NaN</td>\n",
       "      <td>PIP5K; Phosphatidylinositol-4-phosphate 5-kina...</td>\n",
       "    </tr>\n",
       "    <tr>\n",
       "      <th>14</th>\n",
       "      <td>PF00281</td>\n",
       "      <td>NaN</td>\n",
       "      <td>ATP13; ATPase expression protein 2, mitochondrial</td>\n",
       "    </tr>\n",
       "    <tr>\n",
       "      <th>15</th>\n",
       "      <td>PF02223</td>\n",
       "      <td>NaN</td>\n",
       "      <td>Exo70; Exocyst complex component Exo70</td>\n",
       "    </tr>\n",
       "    <tr>\n",
       "      <th>16</th>\n",
       "      <td>PF00324</td>\n",
       "      <td>NaN</td>\n",
       "      <td>Acyl-CoA_ox_N; Acyl-coenzyme A oxidase, N-term...</td>\n",
       "    </tr>\n",
       "    <tr>\n",
       "      <th>17</th>\n",
       "      <td>PF02291</td>\n",
       "      <td>NaN</td>\n",
       "      <td>FAD_binding_7; Cryptochrome/DNA photolyase, FA...</td>\n",
       "    </tr>\n",
       "    <tr>\n",
       "      <th>18</th>\n",
       "      <td>PF00393</td>\n",
       "      <td>NaN</td>\n",
       "      <td>Allantoicase; Allantoicase domain</td>\n",
       "    </tr>\n",
       "    <tr>\n",
       "      <th>19</th>\n",
       "      <td>PF12894</td>\n",
       "      <td>NaN</td>\n",
       "      <td>TEA; TEA/ATTS domain</td>\n",
       "    </tr>\n",
       "    <tr>\n",
       "      <th>20</th>\n",
       "      <td>PF12894</td>\n",
       "      <td>NaN</td>\n",
       "      <td>TEA; TEA/ATTS domain</td>\n",
       "    </tr>\n",
       "    <tr>\n",
       "      <th>21</th>\n",
       "      <td>PF00639</td>\n",
       "      <td>NaN</td>\n",
       "      <td>CAP_C; Adenylate cyclase-associated CAP, C-ter...</td>\n",
       "    </tr>\n",
       "    <tr>\n",
       "      <th>22</th>\n",
       "      <td>PF00639</td>\n",
       "      <td>NaN</td>\n",
       "      <td>CAP_C; Adenylate cyclase-associated CAP, C-ter...</td>\n",
       "    </tr>\n",
       "    <tr>\n",
       "      <th>23</th>\n",
       "      <td>PF16282</td>\n",
       "      <td>NaN</td>\n",
       "      <td>YjeF_N; YjeF N-terminal domain</td>\n",
       "    </tr>\n",
       "    <tr>\n",
       "      <th>24</th>\n",
       "      <td>PF05285</td>\n",
       "      <td>NaN</td>\n",
       "      <td>N-SET; COMPASS complex Set1 subunit, N-SET domain</td>\n",
       "    </tr>\n",
       "    <tr>\n",
       "      <th>25</th>\n",
       "      <td>PF05160</td>\n",
       "      <td>NaN</td>\n",
       "      <td>MmgE_PrpD; MmgE/PrpD</td>\n",
       "    </tr>\n",
       "    <tr>\n",
       "      <th>26</th>\n",
       "      <td>PF03998</td>\n",
       "      <td>NaN</td>\n",
       "      <td>Img2; Ribosomal protein L49/IMG2</td>\n",
       "    </tr>\n",
       "    <tr>\n",
       "      <th>27</th>\n",
       "      <td>PF03998</td>\n",
       "      <td>NaN</td>\n",
       "      <td>Img2; Ribosomal protein L49/IMG2</td>\n",
       "    </tr>\n",
       "    <tr>\n",
       "      <th>28</th>\n",
       "      <td>PF00773</td>\n",
       "      <td>NaN</td>\n",
       "      <td>COG2; Conserved oligomeric Golgi complex, subu...</td>\n",
       "    </tr>\n",
       "    <tr>\n",
       "      <th>29</th>\n",
       "      <td>PF14304</td>\n",
       "      <td>NaN</td>\n",
       "      <td>UBA_3; Ubiquitin-conjugating enzyme, C-termina...</td>\n",
       "    </tr>\n",
       "    <tr>\n",
       "      <th>30</th>\n",
       "      <td>PF12726</td>\n",
       "      <td>NaN</td>\n",
       "      <td>Steroid_dh; 3-oxo-5-alpha-steroid 4-dehydrogen...</td>\n",
       "    </tr>\n",
       "    <tr>\n",
       "      <th>31</th>\n",
       "      <td>PF00025</td>\n",
       "      <td>NaN</td>\n",
       "      <td>5-FTHF_cyc-lig; 5-formyltetrahydrofolate cyclo...</td>\n",
       "    </tr>\n",
       "    <tr>\n",
       "      <th>32</th>\n",
       "      <td>PF00025</td>\n",
       "      <td>NaN</td>\n",
       "      <td>5-FTHF_cyc-lig; 5-formyltetrahydrofolate cyclo...</td>\n",
       "    </tr>\n",
       "    <tr>\n",
       "      <th>33</th>\n",
       "      <td>PF04190</td>\n",
       "      <td>NaN</td>\n",
       "      <td>Lge1</td>\n",
       "    </tr>\n",
       "    <tr>\n",
       "      <th>34</th>\n",
       "      <td>PF12814</td>\n",
       "      <td>NaN</td>\n",
       "      <td>TAF4; Transcription initiation factor TFIID co...</td>\n",
       "    </tr>\n",
       "    <tr>\n",
       "      <th>35</th>\n",
       "      <td>PF12814</td>\n",
       "      <td>NaN</td>\n",
       "      <td>TAF4; Transcription initiation factor TFIID co...</td>\n",
       "    </tr>\n",
       "    <tr>\n",
       "      <th>36</th>\n",
       "      <td>PF00026</td>\n",
       "      <td>NaN</td>\n",
       "      <td>60KD_IMP; Membrane insertase OXA1/ALB3/YidC</td>\n",
       "    </tr>\n",
       "    <tr>\n",
       "      <th>37</th>\n",
       "      <td>PF06747</td>\n",
       "      <td>NaN</td>\n",
       "      <td>Oxidored_FMN; NADH:flavin oxidoreductase/NADH ...</td>\n",
       "    </tr>\n",
       "    <tr>\n",
       "      <th>38</th>\n",
       "      <td>PF01172</td>\n",
       "      <td>NaN</td>\n",
       "      <td>Cullin_Nedd8; Cullin protein, neddylation domain</td>\n",
       "    </tr>\n",
       "    <tr>\n",
       "      <th>39</th>\n",
       "      <td>PF01090</td>\n",
       "      <td>NaN</td>\n",
       "      <td>Cmc1; Cytochrome c oxidase biogenesis protein ...</td>\n",
       "    </tr>\n",
       "    <tr>\n",
       "      <th>40</th>\n",
       "      <td>PF04177</td>\n",
       "      <td>NaN</td>\n",
       "      <td>Ldh_1_C; Lactate/malate dehydrogenase, C-terminal</td>\n",
       "    </tr>\n",
       "    <tr>\n",
       "      <th>41</th>\n",
       "      <td>PF01253</td>\n",
       "      <td>NaN</td>\n",
       "      <td>DEAD; DEAD/DEAH box helicase domain</td>\n",
       "    </tr>\n",
       "    <tr>\n",
       "      <th>42</th>\n",
       "      <td>PF09335</td>\n",
       "      <td>NaN</td>\n",
       "      <td>Ran_BP1; Ran binding domain</td>\n",
       "    </tr>\n",
       "    <tr>\n",
       "      <th>43</th>\n",
       "      <td>PF09335</td>\n",
       "      <td>NaN</td>\n",
       "      <td>Ran_BP1; Ran binding domain</td>\n",
       "    </tr>\n",
       "    <tr>\n",
       "      <th>44</th>\n",
       "      <td>PF00514</td>\n",
       "      <td>NaN</td>\n",
       "      <td>BAF1_ABF1</td>\n",
       "    </tr>\n",
       "    <tr>\n",
       "      <th>45</th>\n",
       "      <td>PF00514</td>\n",
       "      <td>NaN</td>\n",
       "      <td>BAF1_ABF1</td>\n",
       "    </tr>\n",
       "    <tr>\n",
       "      <th>46</th>\n",
       "      <td>PF12709</td>\n",
       "      <td>NaN</td>\n",
       "      <td>Spt5_N; Spt5 transcription elongation factor, ...</td>\n",
       "    </tr>\n",
       "    <tr>\n",
       "      <th>47</th>\n",
       "      <td>PF08202</td>\n",
       "      <td>NaN</td>\n",
       "      <td>PUA_2; ATP-sulfurylase PUA-like domain</td>\n",
       "    </tr>\n",
       "    <tr>\n",
       "      <th>48</th>\n",
       "      <td>PF08202</td>\n",
       "      <td>NaN</td>\n",
       "      <td>PUA_2; ATP-sulfurylase PUA-like domain</td>\n",
       "    </tr>\n",
       "    <tr>\n",
       "      <th>49</th>\n",
       "      <td>PF13945</td>\n",
       "      <td>NaN</td>\n",
       "      <td>Tup_N; Transcriptional repressor Tup1, N-terminal</td>\n",
       "    </tr>\n",
       "    <tr>\n",
       "      <th>50</th>\n",
       "      <td>PF03357</td>\n",
       "      <td>NaN</td>\n",
       "      <td>HAND; ISWI, HAND domain</td>\n",
       "    </tr>\n",
       "    <tr>\n",
       "      <th>51</th>\n",
       "      <td>PF10375</td>\n",
       "      <td>NaN</td>\n",
       "      <td>RsfS</td>\n",
       "    </tr>\n",
       "    <tr>\n",
       "      <th>52</th>\n",
       "      <td>PF14570</td>\n",
       "      <td>NaN</td>\n",
       "      <td>UPF0121; TMEM33/Pom33 family</td>\n",
       "    </tr>\n",
       "    <tr>\n",
       "      <th>53</th>\n",
       "      <td>PF16796</td>\n",
       "      <td>NaN</td>\n",
       "      <td>fn3_2; Fibronectin type III domain, fungi</td>\n",
       "    </tr>\n",
       "    <tr>\n",
       "      <th>54</th>\n",
       "      <td>PF10281</td>\n",
       "      <td>NaN</td>\n",
       "      <td>Ribosomal_S21e; Ribosomal protein S21e</td>\n",
       "    </tr>\n",
       "    <tr>\n",
       "      <th>55</th>\n",
       "      <td>PF10104</td>\n",
       "      <td>NaN</td>\n",
       "      <td>Ribosomal_L36; Ribosomal protein L36</td>\n",
       "    </tr>\n",
       "    <tr>\n",
       "      <th>56</th>\n",
       "      <td>PF11488</td>\n",
       "      <td>NaN</td>\n",
       "      <td>SPT2; Chromatin SPT2</td>\n",
       "    </tr>\n",
       "    <tr>\n",
       "      <th>57</th>\n",
       "      <td>PF00659</td>\n",
       "      <td>NaN</td>\n",
       "      <td>CBS; CBS domain</td>\n",
       "    </tr>\n",
       "  </tbody>\n",
       "</table>\n",
       "</div>"
      ],
      "text/plain": [
       "   domain-name domain-description_x  \\\n",
       "1      PF00684                  NaN   \n",
       "2      PF13361                  NaN   \n",
       "3      PF02854                  NaN   \n",
       "4      PF01909                  NaN   \n",
       "5      PF00249                  NaN   \n",
       "6      PF00856                  NaN   \n",
       "7      PF00752                  NaN   \n",
       "8      PF03874                  NaN   \n",
       "9      PF04423                  NaN   \n",
       "10     PF03656                  NaN   \n",
       "11     PF04628                  NaN   \n",
       "12     PF02383                  NaN   \n",
       "13     PF07926                  NaN   \n",
       "14     PF00281                  NaN   \n",
       "15     PF02223                  NaN   \n",
       "16     PF00324                  NaN   \n",
       "17     PF02291                  NaN   \n",
       "18     PF00393                  NaN   \n",
       "19     PF12894                  NaN   \n",
       "20     PF12894                  NaN   \n",
       "21     PF00639                  NaN   \n",
       "22     PF00639                  NaN   \n",
       "23     PF16282                  NaN   \n",
       "24     PF05285                  NaN   \n",
       "25     PF05160                  NaN   \n",
       "26     PF03998                  NaN   \n",
       "27     PF03998                  NaN   \n",
       "28     PF00773                  NaN   \n",
       "29     PF14304                  NaN   \n",
       "30     PF12726                  NaN   \n",
       "31     PF00025                  NaN   \n",
       "32     PF00025                  NaN   \n",
       "33     PF04190                  NaN   \n",
       "34     PF12814                  NaN   \n",
       "35     PF12814                  NaN   \n",
       "36     PF00026                  NaN   \n",
       "37     PF06747                  NaN   \n",
       "38     PF01172                  NaN   \n",
       "39     PF01090                  NaN   \n",
       "40     PF04177                  NaN   \n",
       "41     PF01253                  NaN   \n",
       "42     PF09335                  NaN   \n",
       "43     PF09335                  NaN   \n",
       "44     PF00514                  NaN   \n",
       "45     PF00514                  NaN   \n",
       "46     PF12709                  NaN   \n",
       "47     PF08202                  NaN   \n",
       "48     PF08202                  NaN   \n",
       "49     PF13945                  NaN   \n",
       "50     PF03357                  NaN   \n",
       "51     PF10375                  NaN   \n",
       "52     PF14570                  NaN   \n",
       "53     PF16796                  NaN   \n",
       "54     PF10281                  NaN   \n",
       "55     PF10104                  NaN   \n",
       "56     PF11488                  NaN   \n",
       "57     PF00659                  NaN   \n",
       "\n",
       "                                 domain-description_y  \n",
       "1   CDP-OH_P_transf; CDP-alcohol phosphatidyltrans...  \n",
       "2                                              TPR_17  \n",
       "3       GHMP_kinases_N; GHMP kinase N-terminal domain  \n",
       "4          Dynein_light; Dynein light chain, type 1/2  \n",
       "5           ATP-synt_10; ATPase assembly factor ATP10  \n",
       "6           CRAL_TRIO; CRAL-TRIO lipid binding domain  \n",
       "7                   CNH; Citron homology (CNH) domain  \n",
       "8           Hydantoinase_A; Hydantoinase/oxoprolinase  \n",
       "9                               MARVEL; Marvel domain  \n",
       "10                                      Haspin_kinase  \n",
       "11                MPC; Mitochondrial pyruvate carrier  \n",
       "12              FHA; Forkhead-associated (FHA) domain  \n",
       "13  PIP5K; Phosphatidylinositol-4-phosphate 5-kina...  \n",
       "14  ATP13; ATPase expression protein 2, mitochondrial  \n",
       "15             Exo70; Exocyst complex component Exo70  \n",
       "16  Acyl-CoA_ox_N; Acyl-coenzyme A oxidase, N-term...  \n",
       "17  FAD_binding_7; Cryptochrome/DNA photolyase, FA...  \n",
       "18                  Allantoicase; Allantoicase domain  \n",
       "19                               TEA; TEA/ATTS domain  \n",
       "20                               TEA; TEA/ATTS domain  \n",
       "21  CAP_C; Adenylate cyclase-associated CAP, C-ter...  \n",
       "22  CAP_C; Adenylate cyclase-associated CAP, C-ter...  \n",
       "23                     YjeF_N; YjeF N-terminal domain  \n",
       "24  N-SET; COMPASS complex Set1 subunit, N-SET domain  \n",
       "25                               MmgE_PrpD; MmgE/PrpD  \n",
       "26                   Img2; Ribosomal protein L49/IMG2  \n",
       "27                   Img2; Ribosomal protein L49/IMG2  \n",
       "28  COG2; Conserved oligomeric Golgi complex, subu...  \n",
       "29  UBA_3; Ubiquitin-conjugating enzyme, C-termina...  \n",
       "30  Steroid_dh; 3-oxo-5-alpha-steroid 4-dehydrogen...  \n",
       "31  5-FTHF_cyc-lig; 5-formyltetrahydrofolate cyclo...  \n",
       "32  5-FTHF_cyc-lig; 5-formyltetrahydrofolate cyclo...  \n",
       "33                                               Lge1  \n",
       "34  TAF4; Transcription initiation factor TFIID co...  \n",
       "35  TAF4; Transcription initiation factor TFIID co...  \n",
       "36        60KD_IMP; Membrane insertase OXA1/ALB3/YidC  \n",
       "37  Oxidored_FMN; NADH:flavin oxidoreductase/NADH ...  \n",
       "38   Cullin_Nedd8; Cullin protein, neddylation domain  \n",
       "39  Cmc1; Cytochrome c oxidase biogenesis protein ...  \n",
       "40  Ldh_1_C; Lactate/malate dehydrogenase, C-terminal  \n",
       "41                DEAD; DEAD/DEAH box helicase domain  \n",
       "42                        Ran_BP1; Ran binding domain  \n",
       "43                        Ran_BP1; Ran binding domain  \n",
       "44                                          BAF1_ABF1  \n",
       "45                                          BAF1_ABF1  \n",
       "46  Spt5_N; Spt5 transcription elongation factor, ...  \n",
       "47             PUA_2; ATP-sulfurylase PUA-like domain  \n",
       "48             PUA_2; ATP-sulfurylase PUA-like domain  \n",
       "49  Tup_N; Transcriptional repressor Tup1, N-terminal  \n",
       "50                            HAND; ISWI, HAND domain  \n",
       "51                                               RsfS  \n",
       "52                       UPF0121; TMEM33/Pom33 family  \n",
       "53          fn3_2; Fibronectin type III domain, fungi  \n",
       "54             Ribosomal_S21e; Ribosomal protein S21e  \n",
       "55               Ribosomal_L36; Ribosomal protein L36  \n",
       "56                               SPT2; Chromatin SPT2  \n",
       "57                                    CBS; CBS domain  "
      ]
     },
     "execution_count": 30,
     "metadata": {},
     "output_type": "execute_result"
    }
   ],
   "source": [
    "only_nsl_pd=pd.merge(repeated_features_sl,repeated_features_nsl,how='right',on=['domain-name'])\n",
    "data_only_nsl = only_nsl_pd[pd.isnull(only_nsl_pd['domain-description_x'])]\n",
    "data_only_nsl"
   ]
  },
  {
   "cell_type": "code",
   "execution_count": 31,
   "metadata": {
    "execution": {
     "iopub.execute_input": "2020-07-17T11:38:56.398046Z",
     "iopub.status.busy": "2020-07-17T11:38:56.397480Z",
     "iopub.status.idle": "2020-07-17T11:38:56.402917Z",
     "shell.execute_reply": "2020-07-17T11:38:56.402418Z"
    }
   },
   "outputs": [
    {
     "data": {
      "text/html": [
       "<div>\n",
       "<style scoped>\n",
       "    .dataframe tbody tr th:only-of-type {\n",
       "        vertical-align: middle;\n",
       "    }\n",
       "\n",
       "    .dataframe tbody tr th {\n",
       "        vertical-align: top;\n",
       "    }\n",
       "\n",
       "    .dataframe thead th {\n",
       "        text-align: right;\n",
       "    }\n",
       "</style>\n",
       "<table border=\"1\" class=\"dataframe\">\n",
       "  <thead>\n",
       "    <tr style=\"text-align: right;\">\n",
       "      <th></th>\n",
       "      <th>domain-name</th>\n",
       "      <th>domain-description_x</th>\n",
       "      <th>domain-description_y</th>\n",
       "    </tr>\n",
       "  </thead>\n",
       "  <tbody>\n",
       "    <tr>\n",
       "      <th>0</th>\n",
       "      <td>PF06068</td>\n",
       "      <td>Nop53; Ribosome biogenesis protein Nop53/GLTSCR2</td>\n",
       "      <td>Nop53; Ribosome biogenesis protein Nop53/GLTSCR2</td>\n",
       "    </tr>\n",
       "  </tbody>\n",
       "</table>\n",
       "</div>"
      ],
      "text/plain": [
       "  domain-name                              domain-description_x  \\\n",
       "0     PF06068  Nop53; Ribosome biogenesis protein Nop53/GLTSCR2   \n",
       "\n",
       "                               domain-description_y  \n",
       "0  Nop53; Ribosome biogenesis protein Nop53/GLTSCR2  "
      ]
     },
     "execution_count": 31,
     "metadata": {},
     "output_type": "execute_result"
    }
   ],
   "source": [
    "shared_domains_pd=pd.merge(repeated_features_sl,repeated_features_nsl,how='inner',on=['domain-name'])\n",
    "shared_domains_pd\n"
   ]
  },
  {
   "cell_type": "code",
   "execution_count": 32,
   "metadata": {
    "execution": {
     "iopub.execute_input": "2020-07-17T11:38:56.411071Z",
     "iopub.status.busy": "2020-07-17T11:38:56.406957Z",
     "iopub.status.idle": "2020-07-17T11:38:58.086765Z",
     "shell.execute_reply": "2020-07-17T11:38:58.085616Z"
    }
   },
   "outputs": [
    {
     "data": {
      "text/plain": [
       "(0.0, 0.2)"
      ]
     },
     "execution_count": 32,
     "metadata": {},
     "output_type": "execute_result"
    },
    {
     "data": {
      "image/png": "[encoded data removed]",
      "text/plain": [
       "<Figure size 432x288 with 1 Axes>"
      ]
     },
     "metadata": {
      "filenames": {
       "image/png": "/home/runner/work/jupyter-book/jupyter-book/mini_book/docs/_build/jupyter_execute/prot_domains2lethality-FEATURES-POSTPROCESSING_47_1.png"
      },
      "needs_background": "light"
     },
     "output_type": "display_data"
    }
   ],
   "source": [
    "a_sl=x_sl.iloc[:,np.sort(df_sl.iloc[:,1])]\n",
    "a_sl.describe().loc['mean'].hist(bins=8),\n",
    "a_sl.describe().loc['std'].hist(bins=8,alpha=0.4)\n",
    "plt.xlim([0,0.2])"
   ]
  },
  {
   "cell_type": "code",
   "execution_count": 33,
   "metadata": {
    "execution": {
     "iopub.execute_input": "2020-07-17T11:38:58.096369Z",
     "iopub.status.busy": "2020-07-17T11:38:58.092811Z",
     "iopub.status.idle": "2020-07-17T11:38:59.866012Z",
     "shell.execute_reply": "2020-07-17T11:38:59.866543Z"
    }
   },
   "outputs": [
    {
     "data": {
      "text/plain": [
       "(0.0, 0.2)"
      ]
     },
     "execution_count": 33,
     "metadata": {},
     "output_type": "execute_result"
    },
    {
     "data": {
      "image/png": "[encoded data removed]",
      "text/plain": [
       "<Figure size 432x288 with 1 Axes>"
      ]
     },
     "metadata": {
      "filenames": {
       "image/png": "/home/runner/work/jupyter-book/jupyter-book/mini_book/docs/_build/jupyter_execute/prot_domains2lethality-FEATURES-POSTPROCESSING_48_1.png"
      },
      "needs_background": "light"
     },
     "output_type": "display_data"
    }
   ],
   "source": [
    "a_nsl=x_nsl.iloc[:,np.sort(df_nsl.iloc[:,1])]\n",
    "a_nsl.describe().loc['mean'].hist(bins=8),\n",
    "a_nsl.describe().loc['std'].hist(bins=8,alpha=0.4)\n",
    "plt.xlim([0,0.2])"
   ]
  },
  {
   "cell_type": "markdown",
   "metadata": {},
   "source": [
    "### Proof of concept with *BEM1*\n",
    "\n",
    "- Gather the domains of SL and nSL pairs from BEM1\n",
    "- Check if the domains for the SL and nSL pairs are inside the most important domains after PCA."
   ]
  },
  {
   "cell_type": "code",
   "execution_count": 34,
   "metadata": {
    "execution": {
     "iopub.execute_input": "2020-07-17T11:38:59.876130Z",
     "iopub.status.busy": "2020-07-17T11:38:59.875499Z",
     "iopub.status.idle": "2020-07-17T11:38:59.879468Z",
     "shell.execute_reply": "2020-07-17T11:38:59.878890Z"
    }
   },
   "outputs": [],
   "source": [
    "domains_bem1=data_domains[data_domains['name']=='BEM1']['domain-descrip']\n",
    "sl_bem1=data_sl[data_sl['gene-query-name']=='BEM1']['gene-target-name']"
   ]
  },
  {
   "cell_type": "code",
   "execution_count": 35,
   "metadata": {
    "execution": {
     "iopub.execute_input": "2020-07-17T11:38:59.885299Z",
     "iopub.status.busy": "2020-07-17T11:38:59.884666Z",
     "iopub.status.idle": "2020-07-17T11:38:59.887674Z",
     "shell.execute_reply": "2020-07-17T11:38:59.888237Z"
    }
   },
   "outputs": [
    {
     "data": {
      "text/plain": [
       "2846      BEM2\n",
       "2847     CDC24\n",
       "5004      MSB1\n",
       "13777     SMI1\n",
       "13778     BNI1\n",
       "13779     BEM2\n",
       "14385     SKN7\n",
       "Name: gene-target-name, dtype: object"
      ]
     },
     "execution_count": 35,
     "metadata": {},
     "output_type": "execute_result"
    }
   ],
   "source": [
    "sl_bem1"
   ]
  },
  {
   "cell_type": "code",
   "execution_count": 36,
   "metadata": {
    "execution": {
     "iopub.execute_input": "2020-07-17T11:38:59.904969Z",
     "iopub.status.busy": "2020-07-17T11:38:59.892888Z",
     "iopub.status.idle": "2020-07-17T11:38:59.907479Z",
     "shell.execute_reply": "2020-07-17T11:38:59.908003Z"
    }
   },
   "outputs": [
    {
     "data": {
      "text/html": [
       "<div>\n",
       "<style scoped>\n",
       "    .dataframe tbody tr th:only-of-type {\n",
       "        vertical-align: middle;\n",
       "    }\n",
       "\n",
       "    .dataframe tbody tr th {\n",
       "        vertical-align: top;\n",
       "    }\n",
       "\n",
       "    .dataframe thead th {\n",
       "        text-align: right;\n",
       "    }\n",
       "</style>\n",
       "<table border=\"1\" class=\"dataframe\">\n",
       "  <thead>\n",
       "    <tr style=\"text-align: right;\">\n",
       "      <th></th>\n",
       "      <th>gene-query</th>\n",
       "      <th>gene-target</th>\n",
       "      <th>gene-query-name</th>\n",
       "      <th>gene-target-name</th>\n",
       "      <th>gene-query-description</th>\n",
       "      <th>gene-target-description</th>\n",
       "      <th>interaction-type</th>\n",
       "      <th>paper-source</th>\n",
       "    </tr>\n",
       "  </thead>\n",
       "  <tbody>\n",
       "    <tr>\n",
       "      <th>2846</th>\n",
       "      <td>YBR200W</td>\n",
       "      <td>YER155C</td>\n",
       "      <td>BEM1</td>\n",
       "      <td>BEM2</td>\n",
       "      <td>SRO1|phosphatidylinositol-3-phosphate-binding ...</td>\n",
       "      <td>IPL2|SUP9|TSL1|L000000168</td>\n",
       "      <td>Synthetic Lethality</td>\n",
       "      <td>Peterson J (1994)</td>\n",
       "    </tr>\n",
       "    <tr>\n",
       "      <th>2847</th>\n",
       "      <td>YBR200W</td>\n",
       "      <td>YAL041W</td>\n",
       "      <td>BEM1</td>\n",
       "      <td>CDC24</td>\n",
       "      <td>SRO1|phosphatidylinositol-3-phosphate-binding ...</td>\n",
       "      <td>CLS4|Rho family guanine nucleotide exchange fa...</td>\n",
       "      <td>Synthetic Lethality</td>\n",
       "      <td>Peterson J (1994)</td>\n",
       "    </tr>\n",
       "    <tr>\n",
       "      <th>5004</th>\n",
       "      <td>YBR200W</td>\n",
       "      <td>YOR188W</td>\n",
       "      <td>BEM1</td>\n",
       "      <td>MSB1</td>\n",
       "      <td>SRO1|phosphatidylinositol-3-phosphate-binding ...</td>\n",
       "      <td>L000001184</td>\n",
       "      <td>Synthetic Lethality</td>\n",
       "      <td>Bender A (1991)</td>\n",
       "    </tr>\n",
       "    <tr>\n",
       "      <th>13777</th>\n",
       "      <td>YBR200W</td>\n",
       "      <td>YGR229C</td>\n",
       "      <td>BEM1</td>\n",
       "      <td>SMI1</td>\n",
       "      <td>SRO1|phosphatidylinositol-3-phosphate-binding ...</td>\n",
       "      <td>KNR4|L000000909</td>\n",
       "      <td>Synthetic Lethality</td>\n",
       "      <td>Gorelik M (2011)</td>\n",
       "    </tr>\n",
       "    <tr>\n",
       "      <th>13778</th>\n",
       "      <td>YBR200W</td>\n",
       "      <td>YNL271C</td>\n",
       "      <td>BEM1</td>\n",
       "      <td>BNI1</td>\n",
       "      <td>SRO1|phosphatidylinositol-3-phosphate-binding ...</td>\n",
       "      <td>PPF3|SHE5|formin BNI1|L000000190</td>\n",
       "      <td>Synthetic Lethality</td>\n",
       "      <td>Gorelik M (2011)</td>\n",
       "    </tr>\n",
       "    <tr>\n",
       "      <th>13779</th>\n",
       "      <td>YBR200W</td>\n",
       "      <td>YER155C</td>\n",
       "      <td>BEM1</td>\n",
       "      <td>BEM2</td>\n",
       "      <td>SRO1|phosphatidylinositol-3-phosphate-binding ...</td>\n",
       "      <td>IPL2|SUP9|TSL1|L000000168</td>\n",
       "      <td>Synthetic Lethality</td>\n",
       "      <td>Gorelik M (2011)</td>\n",
       "    </tr>\n",
       "    <tr>\n",
       "      <th>14385</th>\n",
       "      <td>YBR200W</td>\n",
       "      <td>YHR206W</td>\n",
       "      <td>BEM1</td>\n",
       "      <td>SKN7</td>\n",
       "      <td>SRO1|phosphatidylinositol-3-phosphate-binding ...</td>\n",
       "      <td>BRY1|POS9|kinase-regulated stress-responsive t...</td>\n",
       "      <td>Dosage Lethality</td>\n",
       "      <td>Bouquin N (1999)</td>\n",
       "    </tr>\n",
       "  </tbody>\n",
       "</table>\n",
       "</div>"
      ],
      "text/plain": [
       "      gene-query gene-target gene-query-name gene-target-name  \\\n",
       "2846     YBR200W     YER155C            BEM1             BEM2   \n",
       "2847     YBR200W     YAL041W            BEM1            CDC24   \n",
       "5004     YBR200W     YOR188W            BEM1             MSB1   \n",
       "13777    YBR200W     YGR229C            BEM1             SMI1   \n",
       "13778    YBR200W     YNL271C            BEM1             BNI1   \n",
       "13779    YBR200W     YER155C            BEM1             BEM2   \n",
       "14385    YBR200W     YHR206W            BEM1             SKN7   \n",
       "\n",
       "                                  gene-query-description  \\\n",
       "2846   SRO1|phosphatidylinositol-3-phosphate-binding ...   \n",
       "2847   SRO1|phosphatidylinositol-3-phosphate-binding ...   \n",
       "5004   SRO1|phosphatidylinositol-3-phosphate-binding ...   \n",
       "13777  SRO1|phosphatidylinositol-3-phosphate-binding ...   \n",
       "13778  SRO1|phosphatidylinositol-3-phosphate-binding ...   \n",
       "13779  SRO1|phosphatidylinositol-3-phosphate-binding ...   \n",
       "14385  SRO1|phosphatidylinositol-3-phosphate-binding ...   \n",
       "\n",
       "                                 gene-target-description     interaction-type  \\\n",
       "2846                           IPL2|SUP9|TSL1|L000000168  Synthetic Lethality   \n",
       "2847   CLS4|Rho family guanine nucleotide exchange fa...  Synthetic Lethality   \n",
       "5004                                          L000001184  Synthetic Lethality   \n",
       "13777                                    KNR4|L000000909  Synthetic Lethality   \n",
       "13778                   PPF3|SHE5|formin BNI1|L000000190  Synthetic Lethality   \n",
       "13779                          IPL2|SUP9|TSL1|L000000168  Synthetic Lethality   \n",
       "14385  BRY1|POS9|kinase-regulated stress-responsive t...     Dosage Lethality   \n",
       "\n",
       "            paper-source  \n",
       "2846   Peterson J (1994)  \n",
       "2847   Peterson J (1994)  \n",
       "5004     Bender A (1991)  \n",
       "13777   Gorelik M (2011)  \n",
       "13778   Gorelik M (2011)  \n",
       "13779   Gorelik M (2011)  \n",
       "14385   Bouquin N (1999)  "
      ]
     },
     "execution_count": 36,
     "metadata": {},
     "output_type": "execute_result"
    }
   ],
   "source": [
    "data_sl[data_sl['gene-query-name']=='BEM1']"
   ]
  },
  {
   "cell_type": "code",
   "execution_count": null,
   "metadata": {},
   "outputs": [],
   "source": []
  }
 ],
 "metadata": {
  "jupytext": {
   "text_representation": {
    "extension": ".md",
    "format_name": "myst"
   }
  },
  "kernelspec": {
   "display_name": "Python 3",
   "language": "python",
   "name": "python3"
  },
  "language_info": {
   "codemirror_mode": {
    "name": "ipython",
    "version": 3
   },
   "file_extension": ".py",
   "mimetype": "text/x-python",
   "name": "python",
   "nbconvert_exporter": "python",
   "pygments_lexer": "ipython3",
   "version": "3.7.6"
  },
  "source_map": [
   10,
   18,
   29,
   36,
   57,
   66,
   98,
   101,
   105,
   128,
   131,
   135,
   139,
   145,
   178,
   184,
   188,
   206,
   210,
   218,
   222,
   225,
   229,
   234,
   238,
   244,
   248,
   253,
   257,
   267,
   269,
   273,
   306,
   311,
   313,
   317,
   328,
   330,
   334,
   344,
   348,
   358,
   360,
   364,
   381,
   388,
   394,
   400,
   407,
   412,
   419,
   424,
   428,
   432
  ]
 },
 "nbformat": 4,
 "nbformat_minor": 4
}