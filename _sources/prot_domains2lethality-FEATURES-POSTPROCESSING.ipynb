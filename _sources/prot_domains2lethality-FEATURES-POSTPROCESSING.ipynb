{
 "cells": [
  {
   "cell_type": "markdown",
   "metadata": {},
   "source": [
    "# Feature postprocessing from paper.\n",
    "- Title:  \"Predicting yeast synthetic lethal genetic interactions using protein domains\"\n",
    "- Authors: Bo Li, Feng Luo,School of Computing,Clemson University,Clemson, SC, USA\n",
    "- e-mail: bol, luofeng@clemson.edu\n",
    "- year:2009"
   ]
  },
  {
   "cell_type": "code",
   "execution_count": 1,
   "metadata": {
    "execution": {
     "iopub.execute_input": "2020-08-13T07:28:06.012533Z",
     "iopub.status.busy": "2020-08-13T07:28:06.011927Z",
     "iopub.status.idle": "2020-08-13T07:28:06.717988Z",
     "shell.execute_reply": "2020-08-13T07:28:06.717225Z"
    }
   },
   "outputs": [],
   "source": [
    "import pandas as pd\n",
    "import numpy as np\n",
    "import matplotlib.pyplot as plt\n",
    "from collections import defaultdict \n",
    "import seaborn as sns\n",
    "import matplotlib.cm as cm\n",
    "import scipy as scipy\n",
    "import random"
   ]
  },
  {
   "cell_type": "markdown",
   "metadata": {
    "jupyter": {
     "source_hidden": true
    }
   },
   "source": [
    "### Importing datasets \n",
    "\n",
    "#### Link to the github repo where the datasets to be downloaded:\n",
    "[DOWNLOAD THE DATASETS HERE](https://github.com/leilaicruz/machine-learning-for-yeast/tree/dev_Leila/datasets-for-learning)"
   ]
  },
  {
   "cell_type": "code",
   "execution_count": 2,
   "metadata": {
    "execution": {
     "iopub.execute_input": "2020-08-13T07:28:06.723540Z",
     "iopub.status.busy": "2020-08-13T07:28:06.722986Z",
     "iopub.status.idle": "2020-08-13T07:28:13.654491Z",
     "shell.execute_reply": "2020-08-13T07:28:13.653474Z"
    }
   },
   "outputs": [],
   "source": [
    "import os\n",
    "script_dir = os.path.dirname('__file__') #<-- absolute dir the script is in\n",
    "rel_path_SL = \"datasets/data-synthetic-lethals.xlsx\"\n",
    "rel_path_nSL=\"datasets/data-positive-genetic.xlsx\"\n",
    "rel_path_domains=\"datasets/proteins-domains-from-Pfam.xlsx\"\n",
    "\n",
    "abs_file_path_SL = os.path.join(script_dir, rel_path_SL)\n",
    "abs_file_path_nSL = os.path.join(script_dir, rel_path_nSL)\n",
    "abs_file_path_domains = os.path.join(script_dir, rel_path_domains)\n",
    "\n",
    "# os.chdir('mini_book/docs/') #<-- for binder os.chdir('../')\n",
    "# os.chdir('../')\n",
    "my_path_sl= abs_file_path_SL\n",
    "my_path_non_sl=abs_file_path_nSL\n",
    "my_path_domains=abs_file_path_domains\n",
    "\n",
    "data_sl=pd.read_excel(my_path_sl,header=0)\n",
    "data_domains=pd.read_excel(my_path_domains,header=0,index_col='Unnamed: 0')\n",
    "data_domains=data_domains.dropna()\n",
    "data_nonsl=pd.read_excel(my_path_non_sl,header=0)"
   ]
  },
  {
   "cell_type": "markdown",
   "metadata": {},
   "source": [
    "## Building the feature matrix\n",
    "One matrix for true SL where each row is one pair of SL. Every raw will be a vector of 0,1 or 2 depending on the comparison with the domain list. For row i the jth element = 0 if the jth element of the domain list is not in neither protein A and B, 1, if it is in one of them and 2 if it is in both of them .\n",
    "\n",
    "### Building the list of proteins domains id per protein pair separately :\n",
    "- List of protein A: Search for the Sl/nSL database the query gene name and look in the protein domain database which protein domains id has each of those queries.\n",
    "- List of protein B: Search for the Sl/nSL database the target gene name of the previous query and look in the protein domain database which protein domains id has each of those target genes."
   ]
  },
  {
   "cell_type": "code",
   "execution_count": 3,
   "metadata": {
    "execution": {
     "iopub.execute_input": "2020-08-13T07:28:13.773408Z",
     "iopub.status.busy": "2020-08-13T07:28:13.662245Z",
     "iopub.status.idle": "2020-08-13T07:28:15.350058Z",
     "shell.execute_reply": "2020-08-13T07:28:15.349261Z"
    }
   },
   "outputs": [],
   "source": [
    "# Selecting the meaningful columns in the respective dataset\n",
    "domain_id_list=data_domains['domain-name']\n",
    "query_gene=data_sl['gene-query-name']\n",
    "target_gene=data_sl['gene-target-name']\n",
    "query_gene_nonlethal=data_nonsl['gene-query-name']\n",
    "target_gene_nonlethal=data_nonsl['gene-target-name']\n",
    "\n",
    "\n",
    "\n",
    "# Initialising the arrays\n",
    "protein_a_list=[]\n",
    "protein_b_list=[]\n",
    "protein_a_list_non=[]\n",
    "protein_b_list_non=[]\n",
    "\n",
    "population = np.arange(0,len(data_sl))\n",
    "\n",
    "# For loop for 10000 pairs sampled randomly from the SL/nSl pair list , and creating a big array of proteind domains id per protein pair\n",
    "\n",
    "for m in random.sample(list(population), 500):\n",
    "    protein_a=data_domains[data_domains['name']==query_gene[m]]\n",
    "    protein_b=data_domains[data_domains['name']==target_gene[m]]\n",
    "    protein_a_list.append(protein_a['domain-name'].tolist())\n",
    "    protein_b_list.append(protein_b['domain-name'].tolist())\n",
    "\n",
    "    protein_a_non=data_domains[data_domains['name']==query_gene_nonlethal[m]]\n",
    "    protein_b_non=data_domains[data_domains['name']==target_gene_nonlethal[m]]\n",
    "    protein_a_list_non.append(protein_a_non['domain-name'].tolist())\n",
    "    protein_b_list_non.append(protein_b_non['domain-name'].tolist())"
   ]
  },
  {
   "cell_type": "code",
   "execution_count": 4,
   "metadata": {
    "execution": {
     "iopub.execute_input": "2020-08-13T07:28:15.354351Z",
     "iopub.status.busy": "2020-08-13T07:28:15.353828Z",
     "iopub.status.idle": "2020-08-13T07:28:15.358351Z",
     "shell.execute_reply": "2020-08-13T07:28:15.357762Z"
    }
   },
   "outputs": [
    {
     "name": "stdout",
     "output_type": "stream",
     "text": [
      "We are going to analyze 500 protein pairs, out of 17871 SL protein pairs\n",
      "We are going to analyze 500 protein pairs, out of 43340 positive protein pairs\n"
     ]
    }
   ],
   "source": [
    "print('We are going to analyze',len((protein_a_list)) ,'protein pairs, out of',len(data_sl),'SL protein pairs')\n",
    "print('We are going to analyze',len((protein_a_list_non)) ,'protein pairs, out of',len(data_nonsl),'positive protein pairs')"
   ]
  },
  {
   "cell_type": "markdown",
   "metadata": {},
   "source": [
    "### Postprocessing #1:  Remove protein pairs from study if either protein in the pair does not contain any domain"
   ]
  },
  {
   "cell_type": "code",
   "execution_count": 5,
   "metadata": {
    "execution": {
     "iopub.execute_input": "2020-08-13T07:28:15.366564Z",
     "iopub.status.busy": "2020-08-13T07:28:15.365937Z",
     "iopub.status.idle": "2020-08-13T07:28:15.369674Z",
     "shell.execute_reply": "2020-08-13T07:28:15.370066Z"
    }
   },
   "outputs": [],
   "source": [
    "def remove_empty_domains(protein_list_search,protein_list_pair):\n",
    "    index=[]\n",
    "    for i in np.arange(0,len(protein_list_search)):\n",
    "        if protein_list_search[i]==[] or protein_list_pair[i]==[]:\n",
    "            index.append(i) ## index of empty values for the protein_a_list meaning they dont have any annotated domain\n",
    "\n",
    "    y=[x for x in np.arange(0,len(protein_list_search)) if x not in index] # a list with non empty values from protein_a list\n",
    "\n",
    "    protein_list_search_new=[]\n",
    "    protein_list_pair_new=[]\n",
    "    for i in y:\n",
    "        protein_list_search_new.append(protein_list_search[i])\n",
    "        protein_list_pair_new.append(protein_list_pair[i])\n",
    "    return protein_list_search_new,protein_list_pair_new\n",
    "\n",
    "## evaluating the function\n",
    "\n",
    "protein_a_list_new,protein_b_list_new=remove_empty_domains(protein_a_list,protein_b_list)\n",
    "\n",
    "protein_a_list_non_new,protein_b_list_non_new=remove_empty_domains(protein_a_list_non,protein_b_list_non)"
   ]
  },
  {
   "cell_type": "code",
   "execution_count": 6,
   "metadata": {
    "execution": {
     "iopub.execute_input": "2020-08-13T07:28:15.374520Z",
     "iopub.status.busy": "2020-08-13T07:28:15.373751Z",
     "iopub.status.idle": "2020-08-13T07:28:15.379359Z",
     "shell.execute_reply": "2020-08-13T07:28:15.378482Z"
    }
   },
   "outputs": [
    {
     "name": "stdout",
     "output_type": "stream",
     "text": [
      "The empty domain in the SL were: 86 out of 500 domains\n",
      "The empty domain in the nSL were: 87 out of 500 domains\n"
     ]
    }
   ],
   "source": [
    "print('The empty domain in the SL were:', len(protein_a_list)-len(protein_a_list_new), 'out of', len(protein_a_list),'domains')\n",
    "print('The empty domain in the nSL were:', len(protein_a_list_non)-len(protein_a_list_non_new), 'out of', len(protein_a_list_non),'domains')"
   ]
  },
  {
   "cell_type": "markdown",
   "metadata": {},
   "source": [
    "### Feature engineering: Select from each ordered indexes of domain id list which of them appear once, in both or in any of the domains of each protein pair"
   ]
  },
  {
   "cell_type": "markdown",
   "metadata": {},
   "source": [
    "#### Define function `get_indexes`"
   ]
  },
  {
   "cell_type": "code",
   "execution_count": 7,
   "metadata": {
    "execution": {
     "iopub.execute_input": "2020-08-13T07:28:15.386170Z",
     "iopub.status.busy": "2020-08-13T07:28:15.385683Z",
     "iopub.status.idle": "2020-08-13T07:28:15.392189Z",
     "shell.execute_reply": "2020-08-13T07:28:15.391301Z"
    }
   },
   "outputs": [
    {
     "data": {
      "text/plain": [
       "[1, 2]"
      ]
     },
     "execution_count": 7,
     "metadata": {},
     "output_type": "execute_result"
    }
   ],
   "source": [
    "get_indexes = lambda x, xs: [i for (y, i) in zip(xs, range(len(xs))) if x == y] # a function that give the index of whether a value appear in array or not\n",
    "a=[1,2,2,4,5,6,7,8,9,10]\n",
    "get_indexes(2,a)"
   ]
  },
  {
   "cell_type": "code",
   "execution_count": 8,
   "metadata": {
    "execution": {
     "iopub.execute_input": "2020-08-13T07:28:15.400380Z",
     "iopub.status.busy": "2020-08-13T07:28:15.399514Z",
     "iopub.status.idle": "2020-08-13T07:28:15.403957Z",
     "shell.execute_reply": "2020-08-13T07:28:15.403439Z"
    }
   },
   "outputs": [],
   "source": [
    "def feature_building(protein_a_list_new,protein_b_list_new):\n",
    "    x = np.unique(domain_id_list)\n",
    "    ## To avoid taking repeated domains from one protein of the pairs , lets reduced the domains of each protein from the pairs to their unique members\n",
    "    protein_a_list_unique=[]\n",
    "    protein_b_list_unique=[]\n",
    "    for i in np.arange(0,len(protein_a_list_new)):\n",
    "        protein_a_list_unique.append(np.unique(protein_a_list_new[i]))\n",
    "        protein_b_list_unique.append(np.unique(protein_b_list_new[i]))\n",
    "        \n",
    "    protein_feat_true=np.zeros(shape=(len(x),len(protein_a_list_unique)))\n",
    "    pair_a_b_array=[]\n",
    "    for i in np.arange(0,len(protein_a_list_unique)):\n",
    "        index_a=[]\n",
    "        \n",
    "        pair=[protein_a_list_unique[i],protein_b_list_unique[i]]\n",
    "        pair_a_b=np.concatenate(pair).ravel()\n",
    "        pair_a_b_array.append(pair_a_b)\n",
    "\n",
    "    j=0\n",
    "    for i in pair_a_b_array:  \n",
    "        array,index,counts=np.unique(i,return_index=True,return_counts=True)\n",
    "        \n",
    "        for k,m in zip(counts,array):\n",
    "            if k ==2:\n",
    "                protein_feat_true[get_indexes(m,x),j]=2\n",
    "                \n",
    "            if k==1:\n",
    "                protein_feat_true[get_indexes(m,x),j]=1\n",
    "        j=j+1\n",
    "    return protein_feat_true"
   ]
  },
  {
   "cell_type": "code",
   "execution_count": 9,
   "metadata": {
    "execution": {
     "iopub.execute_input": "2020-08-13T07:28:15.411843Z",
     "iopub.status.busy": "2020-08-13T07:28:15.410960Z",
     "iopub.status.idle": "2020-08-13T07:28:16.105915Z",
     "shell.execute_reply": "2020-08-13T07:28:16.105189Z"
    }
   },
   "outputs": [],
   "source": [
    "protein_feat_true=feature_building(protein_b_list_new=protein_b_list_new,protein_a_list_new=protein_a_list_new)\n",
    "protein_feat_true_pd=pd.DataFrame(protein_feat_true.T)\n",
    "\n",
    "protein_feat_non_true=feature_building(protein_b_list_new=protein_b_list_non_new,protein_a_list_new=protein_a_list_non_new)\n",
    "protein_feat_non_true_pd=pd.DataFrame(protein_feat_non_true.T)"
   ]
  },
  {
   "cell_type": "markdown",
   "metadata": {},
   "source": [
    "### How many ones and twos are in each dataset"
   ]
  },
  {
   "cell_type": "code",
   "execution_count": 10,
   "metadata": {
    "execution": {
     "iopub.execute_input": "2020-08-13T07:28:16.111881Z",
     "iopub.status.busy": "2020-08-13T07:28:16.111194Z",
     "iopub.status.idle": "2020-08-13T07:28:16.206162Z",
     "shell.execute_reply": "2020-08-13T07:28:16.206558Z"
    }
   },
   "outputs": [
    {
     "name": "stdout",
     "output_type": "stream",
     "text": [
      "fraction of twos in the SL array is 1.2775981155427795e-05\n",
      "fraction of ones in the SL array is 0.0010324589771230088\n",
      "fraction of twos in the PI array is 7.203890100654353e-06\n",
      "fraction of ones in the PI array is 0.0009060892882156365\n"
     ]
    }
   ],
   "source": [
    "index_2_true=protein_feat_true_pd.where(protein_feat_true_pd==2)\n",
    "index_2_true_count=index_2_true.count(axis=1).sum()\n",
    "\n",
    "index_1_true=protein_feat_true_pd.where(protein_feat_true_pd==1)\n",
    "index_1_true_count=index_1_true.count(axis=1).sum()\n",
    "\n",
    "index_2_nontrue=protein_feat_non_true_pd.where(protein_feat_non_true_pd==2)\n",
    "index_2_nontrue_count=index_2_nontrue.count(axis=1).sum()\n",
    "\n",
    "index_1_nontrue=protein_feat_non_true_pd.where(protein_feat_non_true_pd==1)\n",
    "index_1_nontrue_count=index_1_nontrue.count(axis=1).sum()\n",
    "\n",
    "\n",
    "print('fraction of twos in the SL array is',index_2_true_count/(len(protein_feat_true_pd.index)*len(protein_feat_true_pd.columns)))\n",
    "print('fraction of ones in the SL array is',index_1_true_count/(len(protein_feat_true_pd.index)*len(protein_feat_true_pd.columns)))\n",
    "print('fraction of twos in the PI array is',index_2_nontrue_count/(len(protein_feat_non_true_pd.index)*len(protein_feat_non_true_pd.columns)))\n",
    "print('fraction of ones in the PI array is',index_1_nontrue_count/(len(protein_feat_non_true_pd.index)*len(protein_feat_non_true_pd.columns)))"
   ]
  },
  {
   "cell_type": "markdown",
   "metadata": {},
   "source": [
    "#### Bar plot to visualize these numbers"
   ]
  },
  {
   "cell_type": "code",
   "execution_count": 11,
   "metadata": {
    "execution": {
     "iopub.execute_input": "2020-08-13T07:28:16.229541Z",
     "iopub.status.busy": "2020-08-13T07:28:16.212427Z",
     "iopub.status.idle": "2020-08-13T07:28:16.720984Z",
     "shell.execute_reply": "2020-08-13T07:28:16.721653Z"
    }
   },
   "outputs": [
    {
     "data": {
      "text/plain": [
       "([0, 1, 2, 3],\n",
       " [Text(0, 0, ''), Text(0, 0, ''), Text(0, 0, ''), Text(0, 0, '')])"
      ]
     },
     "execution_count": 11,
     "metadata": {},
     "output_type": "execute_result"
    },
    {
     "data": {
      "image/png": "[encoded data removed]",
      "text/plain": [
       "<Figure size 432x288 with 1 Axes>"
      ]
     },
     "metadata": {
      "filenames": {
       "image/png": "/home/runner/work/jupyter-book/jupyter-book/mini_book/docs/_build/jupyter_execute/prot_domains2lethality-FEATURES-POSTPROCESSING_18_1.png"
      },
      "needs_background": "light"
     },
     "output_type": "display_data"
    }
   ],
   "source": [
    "plt.bar(['fraction of 2 in the nSL','fraction of 1 in the nSL'],[index_2_nontrue_count/(len(protein_feat_non_true_pd.index)*len(protein_feat_non_true_pd.columns)),index_1_nontrue_count/(len(protein_feat_non_true_pd.index)*len(protein_feat_non_true_pd.columns))],alpha=0.6,color=['blue','lightblue']), \n",
    "\n",
    "plt.bar(['fraction of 2 in SL ','fraction of 1 in SL'],[index_2_true_count/(len(protein_feat_true_pd.index)*len(protein_feat_true_pd.columns)),index_1_true_count/(len(protein_feat_true_pd.index)*len(protein_feat_true_pd.columns))],alpha=0.6,color=['coral','lightcoral'])\n",
    "\n",
    "plt.ylabel('Fraction from the population')\n",
    "plt.yscale('log')\n",
    "plt.xticks(rotation=40)"
   ]
  },
  {
   "cell_type": "markdown",
   "metadata": {},
   "source": [
    "#### Adding the labels(response variables) to each dataset"
   ]
  },
  {
   "cell_type": "code",
   "execution_count": 12,
   "metadata": {
    "execution": {
     "iopub.execute_input": "2020-08-13T07:28:16.727857Z",
     "iopub.status.busy": "2020-08-13T07:28:16.726734Z",
     "iopub.status.idle": "2020-08-13T07:28:16.731220Z",
     "shell.execute_reply": "2020-08-13T07:28:16.730423Z"
    }
   },
   "outputs": [],
   "source": [
    "protein_feat_true_pd['lethality']=np.ones(shape=(len(protein_a_list_new)))\n",
    "protein_feat_non_true_pd['lethality']=np.zeros(shape=(len(protein_a_list_non_new)))"
   ]
  },
  {
   "cell_type": "markdown",
   "metadata": {},
   "source": [
    "#### Joining both datasets"
   ]
  },
  {
   "cell_type": "code",
   "execution_count": 13,
   "metadata": {
    "execution": {
     "iopub.execute_input": "2020-08-13T07:28:16.735851Z",
     "iopub.status.busy": "2020-08-13T07:28:16.734824Z",
     "iopub.status.idle": "2020-08-13T07:28:16.772916Z",
     "shell.execute_reply": "2020-08-13T07:28:16.773378Z"
    }
   },
   "outputs": [
    {
     "name": "stdout",
     "output_type": "stream",
     "text": [
      "The number of features are: 3026\n",
      "The number of samples are: 827\n"
     ]
    }
   ],
   "source": [
    "feature_post=pd.concat([protein_feat_true_pd,protein_feat_non_true_pd],axis=0)\n",
    "feature_post=feature_post.set_index(np.arange(0,len(protein_a_list_new)+len(protein_a_list_non_new)))\n",
    "print('The number of features are:',feature_post.shape[1])\n",
    "print('The number of samples are:',feature_post.shape[0])"
   ]
  },
  {
   "cell_type": "markdown",
   "metadata": {},
   "source": [
    "### Postprocessing and exploration of the feature matrix of both datasets"
   ]
  },
  {
   "cell_type": "code",
   "execution_count": 14,
   "metadata": {
    "execution": {
     "iopub.execute_input": "2020-08-13T07:28:16.791833Z",
     "iopub.status.busy": "2020-08-13T07:28:16.788854Z",
     "iopub.status.idle": "2020-08-13T07:28:21.130279Z",
     "shell.execute_reply": "2020-08-13T07:28:21.129417Z"
    }
   },
   "outputs": [],
   "source": [
    "mean=feature_post.T.describe().loc['mean']\n",
    "std=feature_post.T.describe().loc['std']\n",
    "lethality=feature_post['lethality']\n",
    "\n",
    "corr_keys=pd.concat([mean,std,lethality],axis=1)"
   ]
  },
  {
   "cell_type": "markdown",
   "metadata": {},
   "source": [
    "### Viz of the stats"
   ]
  },
  {
   "cell_type": "code",
   "execution_count": 15,
   "metadata": {
    "execution": {
     "iopub.execute_input": "2020-08-13T07:28:21.151125Z",
     "iopub.status.busy": "2020-08-13T07:28:21.150057Z",
     "iopub.status.idle": "2020-08-13T07:28:22.811965Z",
     "shell.execute_reply": "2020-08-13T07:28:22.811422Z"
    }
   },
   "outputs": [
    {
     "data": {
      "text/plain": [
       "Text(0.5, 1.08, 'Pairplot to see data dependencies with Lethality')"
      ]
     },
     "execution_count": 15,
     "metadata": {},
     "output_type": "execute_result"
    },
    {
     "data": {
      "image/png": "[encoded data removed]",
      "text/plain": [
       "<Figure size 412x360 with 6 Axes>"
      ]
     },
     "metadata": {
      "filenames": {
       "image/png": "/home/runner/work/jupyter-book/jupyter-book/mini_book/docs/_build/jupyter_execute/prot_domains2lethality-FEATURES-POSTPROCESSING_26_1.png"
      },
      "needs_background": "light"
     },
     "output_type": "display_data"
    }
   ],
   "source": [
    "pair=sns.pairplot(corr_keys,hue='lethality',diag_kind='kde',kind='reg',palette='colorblind')\n",
    "pair.fig.suptitle('Pairplot to see data dependencies with Lethality',y=1.08)"
   ]
  },
  {
   "cell_type": "code",
   "execution_count": 16,
   "metadata": {
    "execution": {
     "iopub.execute_input": "2020-08-13T07:28:22.823202Z",
     "iopub.status.busy": "2020-08-13T07:28:22.822506Z",
     "iopub.status.idle": "2020-08-13T07:28:22.826468Z",
     "shell.execute_reply": "2020-08-13T07:28:22.826002Z"
    }
   },
   "outputs": [],
   "source": [
    "X, y = feature_post.drop(columns=[\"lethality\"]), feature_post[\"lethality\"]"
   ]
  },
  {
   "cell_type": "code",
   "execution_count": 17,
   "metadata": {
    "execution": {
     "iopub.execute_input": "2020-08-13T07:28:22.830564Z",
     "iopub.status.busy": "2020-08-13T07:28:22.830006Z",
     "iopub.status.idle": "2020-08-13T07:28:23.040364Z",
     "shell.execute_reply": "2020-08-13T07:28:23.039939Z"
    }
   },
   "outputs": [],
   "source": [
    "from sklearn.preprocessing import StandardScaler\n",
    "scaler = StandardScaler()\n",
    "x_sl=protein_feat_true_pd.drop(columns=['lethality'])\n",
    "x_nsl=protein_feat_non_true_pd.drop(columns=['lethality'])\n",
    "\n",
    "X_sl_scaled = scaler.fit_transform(x_sl)\n",
    "X_nsl_scaled = scaler.fit_transform(x_nsl)"
   ]
  },
  {
   "cell_type": "code",
   "execution_count": 18,
   "metadata": {
    "execution": {
     "iopub.execute_input": "2020-08-13T07:28:23.045399Z",
     "iopub.status.busy": "2020-08-13T07:28:23.044922Z",
     "iopub.status.idle": "2020-08-13T07:28:23.047459Z",
     "shell.execute_reply": "2020-08-13T07:28:23.047943Z"
    }
   },
   "outputs": [
    {
     "data": {
      "text/plain": [
       "(414, 3025)"
      ]
     },
     "execution_count": 18,
     "metadata": {},
     "output_type": "execute_result"
    }
   ],
   "source": [
    "np.shape(X_sl_scaled)"
   ]
  },
  {
   "cell_type": "markdown",
   "metadata": {},
   "source": [
    "## How redundant are each of the protein domains?"
   ]
  },
  {
   "cell_type": "code",
   "execution_count": 19,
   "metadata": {
    "execution": {
     "iopub.execute_input": "2020-08-13T07:28:23.055058Z",
     "iopub.status.busy": "2020-08-13T07:28:23.053507Z",
     "iopub.status.idle": "2020-08-13T07:28:23.055902Z",
     "shell.execute_reply": "2020-08-13T07:28:23.056515Z"
    }
   },
   "outputs": [],
   "source": [
    "def PCA_component_contribution(scaled_matrix,original_data):\n",
    "    from sklearn.decomposition import PCA\n",
    "\n",
    "    model = PCA(0.95).fit(scaled_matrix)\n",
    "    ## apply dimensionality reduction to X_train\n",
    "    output_pca = model.transform(scaled_matrix)\n",
    "    \n",
    "    total=sum(model.explained_variance_)\n",
    "\n",
    "\n",
    "   \n",
    "    # number of components , that it will be the number of main axes times the number of original components \n",
    "    n_pcs= model.components_.shape[0] # the amount of non redundant protein domains \n",
    "\n",
    "    # get the index of the most important feature on EACH component\n",
    "    # LIST COMPREHENSION HERE\n",
    "    most_important = [np.abs(model.components_[i]).argmax() for i in range(n_pcs)]\n",
    "\n",
    "    initial_feature_names = original_data.columns\n",
    "    # get the names\n",
    "    most_important_names = [initial_feature_names[most_important[i]] for i in range(n_pcs)]\n",
    "    \n",
    "\n",
    "    # LIST COMPREHENSION HERE AGAIN\n",
    "    dic = {'PC{}'.format(i): most_important_names[i] for i in range(n_pcs)}\n",
    "\n",
    "    # build the dataframe\n",
    "    df = pd.DataFrame(dic.items(),columns=['pca-component','domain-number'])\n",
    "\n",
    "    return df,model.components_"
   ]
  },
  {
   "cell_type": "code",
   "execution_count": 20,
   "metadata": {
    "execution": {
     "iopub.execute_input": "2020-08-13T07:28:23.060794Z",
     "iopub.status.busy": "2020-08-13T07:28:23.060195Z",
     "iopub.status.idle": "2020-08-13T07:28:23.797807Z",
     "shell.execute_reply": "2020-08-13T07:28:23.798509Z"
    }
   },
   "outputs": [],
   "source": [
    "df_sl,components_pca_nsl=PCA_component_contribution(X_nsl_scaled,x_nsl)\n",
    "df_nsl,components_pca_sl=PCA_component_contribution(X_sl_scaled,x_sl)"
   ]
  },
  {
   "cell_type": "code",
   "execution_count": 21,
   "metadata": {
    "execution": {
     "iopub.execute_input": "2020-08-13T07:28:23.801532Z",
     "iopub.status.busy": "2020-08-13T07:28:23.800474Z",
     "iopub.status.idle": "2020-08-13T07:28:23.811082Z",
     "shell.execute_reply": "2020-08-13T07:28:23.811901Z"
    }
   },
   "outputs": [
    {
     "data": {
      "text/html": [
       "<div>\n",
       "<style scoped>\n",
       "    .dataframe tbody tr th:only-of-type {\n",
       "        vertical-align: middle;\n",
       "    }\n",
       "\n",
       "    .dataframe tbody tr th {\n",
       "        vertical-align: top;\n",
       "    }\n",
       "\n",
       "    .dataframe thead th {\n",
       "        text-align: right;\n",
       "    }\n",
       "</style>\n",
       "<table border=\"1\" class=\"dataframe\">\n",
       "  <thead>\n",
       "    <tr style=\"text-align: right;\">\n",
       "      <th></th>\n",
       "      <th>pca-component</th>\n",
       "      <th>domain-number</th>\n",
       "    </tr>\n",
       "  </thead>\n",
       "  <tbody>\n",
       "    <tr>\n",
       "      <th>0</th>\n",
       "      <td>PC0</td>\n",
       "      <td>135</td>\n",
       "    </tr>\n",
       "    <tr>\n",
       "      <th>1</th>\n",
       "      <td>PC1</td>\n",
       "      <td>142</td>\n",
       "    </tr>\n",
       "    <tr>\n",
       "      <th>2</th>\n",
       "      <td>PC2</td>\n",
       "      <td>834</td>\n",
       "    </tr>\n",
       "    <tr>\n",
       "      <th>3</th>\n",
       "      <td>PC3</td>\n",
       "      <td>221</td>\n",
       "    </tr>\n",
       "    <tr>\n",
       "      <th>4</th>\n",
       "      <td>PC4</td>\n",
       "      <td>229</td>\n",
       "    </tr>\n",
       "  </tbody>\n",
       "</table>\n",
       "</div>"
      ],
      "text/plain": [
       "  pca-component  domain-number\n",
       "0           PC0            135\n",
       "1           PC1            142\n",
       "2           PC2            834\n",
       "3           PC3            221\n",
       "4           PC4            229"
      ]
     },
     "execution_count": 21,
     "metadata": {},
     "output_type": "execute_result"
    }
   ],
   "source": [
    "df_sl.head()"
   ]
  },
  {
   "cell_type": "markdown",
   "metadata": {},
   "source": [
    "## which are the shared domains between nSL and SL pairs , in the PCA reduced samples"
   ]
  },
  {
   "cell_type": "code",
   "execution_count": 22,
   "metadata": {
    "execution": {
     "iopub.execute_input": "2020-08-13T07:28:23.814862Z",
     "iopub.status.busy": "2020-08-13T07:28:23.813837Z",
     "iopub.status.idle": "2020-08-13T07:28:23.844917Z",
     "shell.execute_reply": "2020-08-13T07:28:23.845588Z"
    }
   },
   "outputs": [
    {
     "data": {
      "text/html": [
       "<div>\n",
       "<style scoped>\n",
       "    .dataframe tbody tr th:only-of-type {\n",
       "        vertical-align: middle;\n",
       "    }\n",
       "\n",
       "    .dataframe tbody tr th {\n",
       "        vertical-align: top;\n",
       "    }\n",
       "\n",
       "    .dataframe thead th {\n",
       "        text-align: right;\n",
       "    }\n",
       "</style>\n",
       "<table border=\"1\" class=\"dataframe\">\n",
       "  <thead>\n",
       "    <tr style=\"text-align: right;\">\n",
       "      <th></th>\n",
       "      <th>pca-component_x</th>\n",
       "      <th>domain-number</th>\n",
       "      <th>pca-component_y</th>\n",
       "      <th>domain-description</th>\n",
       "    </tr>\n",
       "  </thead>\n",
       "  <tbody>\n",
       "    <tr>\n",
       "      <th>0</th>\n",
       "      <td>PC3</td>\n",
       "      <td>221</td>\n",
       "      <td>PC18</td>\n",
       "      <td>Apq12; Nuclear pore assembly and biogenesis pr...</td>\n",
       "    </tr>\n",
       "    <tr>\n",
       "      <th>1</th>\n",
       "      <td>PC6</td>\n",
       "      <td>1055</td>\n",
       "      <td>PC5</td>\n",
       "      <td>Glyco_hydro_63N; Glycosyl hydrolase family 63,...</td>\n",
       "    </tr>\n",
       "    <tr>\n",
       "      <th>2</th>\n",
       "      <td>PC13</td>\n",
       "      <td>55</td>\n",
       "      <td>PC7</td>\n",
       "      <td>ADK</td>\n",
       "    </tr>\n",
       "    <tr>\n",
       "      <th>3</th>\n",
       "      <td>PC19</td>\n",
       "      <td>602</td>\n",
       "      <td>PC73</td>\n",
       "      <td>DNA_RNApol_7kD; RNA polymerase archaeal subuni...</td>\n",
       "    </tr>\n",
       "    <tr>\n",
       "      <th>4</th>\n",
       "      <td>PC34</td>\n",
       "      <td>983</td>\n",
       "      <td>PC27</td>\n",
       "      <td>GHMP_kinases_N; GHMP kinase N-terminal domain</td>\n",
       "    </tr>\n",
       "    <tr>\n",
       "      <th>5</th>\n",
       "      <td>PC39</td>\n",
       "      <td>194</td>\n",
       "      <td>PC9</td>\n",
       "      <td>Allantoicase; Allantoicase domain</td>\n",
       "    </tr>\n",
       "    <tr>\n",
       "      <th>6</th>\n",
       "      <td>PC40</td>\n",
       "      <td>165</td>\n",
       "      <td>PC20</td>\n",
       "      <td>Acyltransferase; Phospholipid/glycerol acyltra...</td>\n",
       "    </tr>\n",
       "    <tr>\n",
       "      <th>7</th>\n",
       "      <td>PC51</td>\n",
       "      <td>1903</td>\n",
       "      <td>PC40</td>\n",
       "      <td>Pex2_Pex12; Pex, N-terminal</td>\n",
       "    </tr>\n",
       "    <tr>\n",
       "      <th>8</th>\n",
       "      <td>PC53</td>\n",
       "      <td>1253</td>\n",
       "      <td>PC55</td>\n",
       "      <td>KA1; Kinase associated domain 1 (KA1)</td>\n",
       "    </tr>\n",
       "    <tr>\n",
       "      <th>9</th>\n",
       "      <td>PC58</td>\n",
       "      <td>2324</td>\n",
       "      <td>PC83</td>\n",
       "      <td>SHR-BD; Vacuolar protein sorting-associated pr...</td>\n",
       "    </tr>\n",
       "    <tr>\n",
       "      <th>10</th>\n",
       "      <td>PC69</td>\n",
       "      <td>1072</td>\n",
       "      <td>PC68</td>\n",
       "      <td>Glycos_transf_1; Glycosyl transferase, family 1</td>\n",
       "    </tr>\n",
       "    <tr>\n",
       "      <th>11</th>\n",
       "      <td>PC81</td>\n",
       "      <td>844</td>\n",
       "      <td>PC266</td>\n",
       "      <td>Enolase_N; Enolase, N-terminal</td>\n",
       "    </tr>\n",
       "    <tr>\n",
       "      <th>12</th>\n",
       "      <td>PC81</td>\n",
       "      <td>844</td>\n",
       "      <td>PC272</td>\n",
       "      <td>Enolase_N; Enolase, N-terminal</td>\n",
       "    </tr>\n",
       "    <tr>\n",
       "      <th>13</th>\n",
       "      <td>PC83</td>\n",
       "      <td>419</td>\n",
       "      <td>PC37</td>\n",
       "      <td>CS; CS domain</td>\n",
       "    </tr>\n",
       "    <tr>\n",
       "      <th>14</th>\n",
       "      <td>PC85</td>\n",
       "      <td>444</td>\n",
       "      <td>PC94</td>\n",
       "      <td>Carn_acyltransf; Acyltransferase ChoActase/COT...</td>\n",
       "    </tr>\n",
       "    <tr>\n",
       "      <th>15</th>\n",
       "      <td>PC86</td>\n",
       "      <td>254</td>\n",
       "      <td>PC30</td>\n",
       "      <td>BAG; BAG domain</td>\n",
       "    </tr>\n",
       "    <tr>\n",
       "      <th>16</th>\n",
       "      <td>PC93</td>\n",
       "      <td>2160</td>\n",
       "      <td>PC121</td>\n",
       "      <td>Ribosomal_L14e; Ribosomal protein L14e domain</td>\n",
       "    </tr>\n",
       "    <tr>\n",
       "      <th>17</th>\n",
       "      <td>PC97</td>\n",
       "      <td>1014</td>\n",
       "      <td>PC210</td>\n",
       "      <td>GTP_cyclohydro2; GTP cyclohydrolase II</td>\n",
       "    </tr>\n",
       "    <tr>\n",
       "      <th>18</th>\n",
       "      <td>PC100</td>\n",
       "      <td>685</td>\n",
       "      <td>PC175</td>\n",
       "      <td>DUF2722; Protein of unknown function DUF2722</td>\n",
       "    </tr>\n",
       "    <tr>\n",
       "      <th>19</th>\n",
       "      <td>PC102</td>\n",
       "      <td>685</td>\n",
       "      <td>PC175</td>\n",
       "      <td>DUF2722; Protein of unknown function DUF2722</td>\n",
       "    </tr>\n",
       "    <tr>\n",
       "      <th>20</th>\n",
       "      <td>PC104</td>\n",
       "      <td>118</td>\n",
       "      <td>PC201</td>\n",
       "      <td>ATP-grasp; ATP-grasp fold, ATP-dependent carbo...</td>\n",
       "    </tr>\n",
       "    <tr>\n",
       "      <th>21</th>\n",
       "      <td>PC121</td>\n",
       "      <td>1836</td>\n",
       "      <td>PC122</td>\n",
       "      <td>PTPLA; Protein-tyrosine phosphatase-like, PTPLA</td>\n",
       "    </tr>\n",
       "    <tr>\n",
       "      <th>22</th>\n",
       "      <td>PC126</td>\n",
       "      <td>1237</td>\n",
       "      <td>PC129</td>\n",
       "      <td>Inp1; Inheritance of peroxisomes protein 1</td>\n",
       "    </tr>\n",
       "    <tr>\n",
       "      <th>23</th>\n",
       "      <td>PC126</td>\n",
       "      <td>1237</td>\n",
       "      <td>PC130</td>\n",
       "      <td>Inp1; Inheritance of peroxisomes protein 1</td>\n",
       "    </tr>\n",
       "    <tr>\n",
       "      <th>24</th>\n",
       "      <td>PC132</td>\n",
       "      <td>1728</td>\n",
       "      <td>PC174</td>\n",
       "      <td>PEX-1N; Peroxisome biogenesis factor 1, N-term...</td>\n",
       "    </tr>\n",
       "    <tr>\n",
       "      <th>25</th>\n",
       "      <td>PC141</td>\n",
       "      <td>68</td>\n",
       "      <td>PC189</td>\n",
       "      <td>AIRC; PurE domain</td>\n",
       "    </tr>\n",
       "    <tr>\n",
       "      <th>26</th>\n",
       "      <td>PC142</td>\n",
       "      <td>1745</td>\n",
       "      <td>PC216</td>\n",
       "      <td>PHM7_cyt; 10TM putative phosphate transporter,...</td>\n",
       "    </tr>\n",
       "    <tr>\n",
       "      <th>27</th>\n",
       "      <td>PC143</td>\n",
       "      <td>1233</td>\n",
       "      <td>PC114</td>\n",
       "      <td>Inhibitor_I9; Peptidase S8 propeptide/proteina...</td>\n",
       "    </tr>\n",
       "    <tr>\n",
       "      <th>28</th>\n",
       "      <td>PC143</td>\n",
       "      <td>1233</td>\n",
       "      <td>PC116</td>\n",
       "      <td>Inhibitor_I9; Peptidase S8 propeptide/proteina...</td>\n",
       "    </tr>\n",
       "    <tr>\n",
       "      <th>29</th>\n",
       "      <td>PC149</td>\n",
       "      <td>1743</td>\n",
       "      <td>PC237</td>\n",
       "      <td>PHD_2</td>\n",
       "    </tr>\n",
       "    <tr>\n",
       "      <th>30</th>\n",
       "      <td>PC149</td>\n",
       "      <td>1743</td>\n",
       "      <td>PC239</td>\n",
       "      <td>PHD_2</td>\n",
       "    </tr>\n",
       "    <tr>\n",
       "      <th>31</th>\n",
       "      <td>PC153</td>\n",
       "      <td>1391</td>\n",
       "      <td>PC267</td>\n",
       "      <td>MPC; Mitochondrial pyruvate carrier</td>\n",
       "    </tr>\n",
       "    <tr>\n",
       "      <th>32</th>\n",
       "      <td>PC154</td>\n",
       "      <td>299</td>\n",
       "      <td>PC184</td>\n",
       "      <td>Bmt2; 25S rRNA (adenine(2142)-N(1))-methyltran...</td>\n",
       "    </tr>\n",
       "    <tr>\n",
       "      <th>33</th>\n",
       "      <td>PC154</td>\n",
       "      <td>299</td>\n",
       "      <td>PC190</td>\n",
       "      <td>Bmt2; 25S rRNA (adenine(2142)-N(1))-methyltran...</td>\n",
       "    </tr>\n",
       "    <tr>\n",
       "      <th>34</th>\n",
       "      <td>PC154</td>\n",
       "      <td>299</td>\n",
       "      <td>PC208</td>\n",
       "      <td>Bmt2; 25S rRNA (adenine(2142)-N(1))-methyltran...</td>\n",
       "    </tr>\n",
       "    <tr>\n",
       "      <th>35</th>\n",
       "      <td>PC162</td>\n",
       "      <td>9</td>\n",
       "      <td>PC156</td>\n",
       "      <td>40S_S4_C; 40S ribosomal protein S4, C-terminal...</td>\n",
       "    </tr>\n",
       "    <tr>\n",
       "      <th>36</th>\n",
       "      <td>PC164</td>\n",
       "      <td>819</td>\n",
       "      <td>PC48</td>\n",
       "      <td>ERO1; Endoplasmic reticulum oxidoreductin 1</td>\n",
       "    </tr>\n",
       "    <tr>\n",
       "      <th>37</th>\n",
       "      <td>PC170</td>\n",
       "      <td>27</td>\n",
       "      <td>PC171</td>\n",
       "      <td>AAA_8; Dynein heavy chain, P-loop containing D...</td>\n",
       "    </tr>\n",
       "    <tr>\n",
       "      <th>38</th>\n",
       "      <td>PC170</td>\n",
       "      <td>27</td>\n",
       "      <td>PC173</td>\n",
       "      <td>AAA_8; Dynein heavy chain, P-loop containing D...</td>\n",
       "    </tr>\n",
       "    <tr>\n",
       "      <th>39</th>\n",
       "      <td>PC171</td>\n",
       "      <td>376</td>\n",
       "      <td>PC195</td>\n",
       "      <td>COG2; Conserved oligomeric Golgi complex, subu...</td>\n",
       "    </tr>\n",
       "    <tr>\n",
       "      <th>40</th>\n",
       "      <td>PC173</td>\n",
       "      <td>192</td>\n",
       "      <td>PC107</td>\n",
       "      <td>Alkyl_sulf_C; Alkyl sulfatase, C-terminal</td>\n",
       "    </tr>\n",
       "    <tr>\n",
       "      <th>41</th>\n",
       "      <td>PC195</td>\n",
       "      <td>1389</td>\n",
       "      <td>PC160</td>\n",
       "      <td>MOR2-PAG1_mid; Cell morphogenesis central region</td>\n",
       "    </tr>\n",
       "    <tr>\n",
       "      <th>42</th>\n",
       "      <td>PC201</td>\n",
       "      <td>2107</td>\n",
       "      <td>PC155</td>\n",
       "      <td>RasGAP; Ras GTPase-activating protein</td>\n",
       "    </tr>\n",
       "    <tr>\n",
       "      <th>43</th>\n",
       "      <td>PC209</td>\n",
       "      <td>1035</td>\n",
       "      <td>PC191</td>\n",
       "      <td>Gln-synt_N; Glutamine synthetase, beta-Grasp d...</td>\n",
       "    </tr>\n",
       "    <tr>\n",
       "      <th>44</th>\n",
       "      <td>PC209</td>\n",
       "      <td>1035</td>\n",
       "      <td>PC204</td>\n",
       "      <td>Gln-synt_N; Glutamine synthetase, beta-Grasp d...</td>\n",
       "    </tr>\n",
       "    <tr>\n",
       "      <th>45</th>\n",
       "      <td>PC210</td>\n",
       "      <td>2572</td>\n",
       "      <td>PC240</td>\n",
       "      <td>TFIIA_gamma_C; Transcription initiation factor...</td>\n",
       "    </tr>\n",
       "    <tr>\n",
       "      <th>46</th>\n",
       "      <td>PC210</td>\n",
       "      <td>2572</td>\n",
       "      <td>PC270</td>\n",
       "      <td>TFIIA_gamma_C; Transcription initiation factor...</td>\n",
       "    </tr>\n",
       "    <tr>\n",
       "      <th>47</th>\n",
       "      <td>PC212</td>\n",
       "      <td>2572</td>\n",
       "      <td>PC240</td>\n",
       "      <td>TFIIA_gamma_C; Transcription initiation factor...</td>\n",
       "    </tr>\n",
       "    <tr>\n",
       "      <th>48</th>\n",
       "      <td>PC212</td>\n",
       "      <td>2572</td>\n",
       "      <td>PC270</td>\n",
       "      <td>TFIIA_gamma_C; Transcription initiation factor...</td>\n",
       "    </tr>\n",
       "    <tr>\n",
       "      <th>49</th>\n",
       "      <td>PC211</td>\n",
       "      <td>1571</td>\n",
       "      <td>PC183</td>\n",
       "      <td>NMT1; SsuA/THI5-like</td>\n",
       "    </tr>\n",
       "    <tr>\n",
       "      <th>50</th>\n",
       "      <td>PC219</td>\n",
       "      <td>2651</td>\n",
       "      <td>PC192</td>\n",
       "      <td>Telomere_reg-2; Telomere length regulation pro...</td>\n",
       "    </tr>\n",
       "    <tr>\n",
       "      <th>51</th>\n",
       "      <td>PC222</td>\n",
       "      <td>2819</td>\n",
       "      <td>PC187</td>\n",
       "      <td>Vhr1; Transcription factor Vhr</td>\n",
       "    </tr>\n",
       "    <tr>\n",
       "      <th>52</th>\n",
       "      <td>PC222</td>\n",
       "      <td>2819</td>\n",
       "      <td>PC188</td>\n",
       "      <td>Vhr1; Transcription factor Vhr</td>\n",
       "    </tr>\n",
       "    <tr>\n",
       "      <th>53</th>\n",
       "      <td>PC237</td>\n",
       "      <td>1982</td>\n",
       "      <td>PC238</td>\n",
       "      <td>RIBIOP_C; Ribosome biogenesis protein BMS1/TSR...</td>\n",
       "    </tr>\n",
       "    <tr>\n",
       "      <th>54</th>\n",
       "      <td>PC273</td>\n",
       "      <td>1982</td>\n",
       "      <td>PC238</td>\n",
       "      <td>RIBIOP_C; Ribosome biogenesis protein BMS1/TSR...</td>\n",
       "    </tr>\n",
       "    <tr>\n",
       "      <th>55</th>\n",
       "      <td>PC274</td>\n",
       "      <td>1982</td>\n",
       "      <td>PC238</td>\n",
       "      <td>RIBIOP_C; Ribosome biogenesis protein BMS1/TSR...</td>\n",
       "    </tr>\n",
       "    <tr>\n",
       "      <th>56</th>\n",
       "      <td>PC279</td>\n",
       "      <td>843</td>\n",
       "      <td>PC98</td>\n",
       "      <td>Enolase_C; Enolase, C-terminal TIM barrel domain</td>\n",
       "    </tr>\n",
       "    <tr>\n",
       "      <th>57</th>\n",
       "      <td>PC280</td>\n",
       "      <td>1582</td>\n",
       "      <td>PC254</td>\n",
       "      <td>NPCC; Nuclear pore complex component</td>\n",
       "    </tr>\n",
       "    <tr>\n",
       "      <th>58</th>\n",
       "      <td>PC281</td>\n",
       "      <td>2126</td>\n",
       "      <td>PC241</td>\n",
       "      <td>ResIII; Helicase/UvrB, N-terminal</td>\n",
       "    </tr>\n",
       "  </tbody>\n",
       "</table>\n",
       "</div>"
      ],
      "text/plain": [
       "   pca-component_x  domain-number pca-component_y  \\\n",
       "0              PC3            221            PC18   \n",
       "1              PC6           1055             PC5   \n",
       "2             PC13             55             PC7   \n",
       "3             PC19            602            PC73   \n",
       "4             PC34            983            PC27   \n",
       "5             PC39            194             PC9   \n",
       "6             PC40            165            PC20   \n",
       "7             PC51           1903            PC40   \n",
       "8             PC53           1253            PC55   \n",
       "9             PC58           2324            PC83   \n",
       "10            PC69           1072            PC68   \n",
       "11            PC81            844           PC266   \n",
       "12            PC81            844           PC272   \n",
       "13            PC83            419            PC37   \n",
       "14            PC85            444            PC94   \n",
       "15            PC86            254            PC30   \n",
       "16            PC93           2160           PC121   \n",
       "17            PC97           1014           PC210   \n",
       "18           PC100            685           PC175   \n",
       "19           PC102            685           PC175   \n",
       "20           PC104            118           PC201   \n",
       "21           PC121           1836           PC122   \n",
       "22           PC126           1237           PC129   \n",
       "23           PC126           1237           PC130   \n",
       "24           PC132           1728           PC174   \n",
       "25           PC141             68           PC189   \n",
       "26           PC142           1745           PC216   \n",
       "27           PC143           1233           PC114   \n",
       "28           PC143           1233           PC116   \n",
       "29           PC149           1743           PC237   \n",
       "30           PC149           1743           PC239   \n",
       "31           PC153           1391           PC267   \n",
       "32           PC154            299           PC184   \n",
       "33           PC154            299           PC190   \n",
       "34           PC154            299           PC208   \n",
       "35           PC162              9           PC156   \n",
       "36           PC164            819            PC48   \n",
       "37           PC170             27           PC171   \n",
       "38           PC170             27           PC173   \n",
       "39           PC171            376           PC195   \n",
       "40           PC173            192           PC107   \n",
       "41           PC195           1389           PC160   \n",
       "42           PC201           2107           PC155   \n",
       "43           PC209           1035           PC191   \n",
       "44           PC209           1035           PC204   \n",
       "45           PC210           2572           PC240   \n",
       "46           PC210           2572           PC270   \n",
       "47           PC212           2572           PC240   \n",
       "48           PC212           2572           PC270   \n",
       "49           PC211           1571           PC183   \n",
       "50           PC219           2651           PC192   \n",
       "51           PC222           2819           PC187   \n",
       "52           PC222           2819           PC188   \n",
       "53           PC237           1982           PC238   \n",
       "54           PC273           1982           PC238   \n",
       "55           PC274           1982           PC238   \n",
       "56           PC279            843            PC98   \n",
       "57           PC280           1582           PC254   \n",
       "58           PC281           2126           PC241   \n",
       "\n",
       "                                   domain-description  \n",
       "0   Apq12; Nuclear pore assembly and biogenesis pr...  \n",
       "1   Glyco_hydro_63N; Glycosyl hydrolase family 63,...  \n",
       "2                                                 ADK  \n",
       "3   DNA_RNApol_7kD; RNA polymerase archaeal subuni...  \n",
       "4       GHMP_kinases_N; GHMP kinase N-terminal domain  \n",
       "5                   Allantoicase; Allantoicase domain  \n",
       "6   Acyltransferase; Phospholipid/glycerol acyltra...  \n",
       "7                         Pex2_Pex12; Pex, N-terminal  \n",
       "8               KA1; Kinase associated domain 1 (KA1)  \n",
       "9   SHR-BD; Vacuolar protein sorting-associated pr...  \n",
       "10    Glycos_transf_1; Glycosyl transferase, family 1  \n",
       "11                     Enolase_N; Enolase, N-terminal  \n",
       "12                     Enolase_N; Enolase, N-terminal  \n",
       "13                                      CS; CS domain  \n",
       "14  Carn_acyltransf; Acyltransferase ChoActase/COT...  \n",
       "15                                    BAG; BAG domain  \n",
       "16      Ribosomal_L14e; Ribosomal protein L14e domain  \n",
       "17             GTP_cyclohydro2; GTP cyclohydrolase II  \n",
       "18       DUF2722; Protein of unknown function DUF2722  \n",
       "19       DUF2722; Protein of unknown function DUF2722  \n",
       "20  ATP-grasp; ATP-grasp fold, ATP-dependent carbo...  \n",
       "21    PTPLA; Protein-tyrosine phosphatase-like, PTPLA  \n",
       "22         Inp1; Inheritance of peroxisomes protein 1  \n",
       "23         Inp1; Inheritance of peroxisomes protein 1  \n",
       "24  PEX-1N; Peroxisome biogenesis factor 1, N-term...  \n",
       "25                                  AIRC; PurE domain  \n",
       "26  PHM7_cyt; 10TM putative phosphate transporter,...  \n",
       "27  Inhibitor_I9; Peptidase S8 propeptide/proteina...  \n",
       "28  Inhibitor_I9; Peptidase S8 propeptide/proteina...  \n",
       "29                                              PHD_2  \n",
       "30                                              PHD_2  \n",
       "31                MPC; Mitochondrial pyruvate carrier  \n",
       "32  Bmt2; 25S rRNA (adenine(2142)-N(1))-methyltran...  \n",
       "33  Bmt2; 25S rRNA (adenine(2142)-N(1))-methyltran...  \n",
       "34  Bmt2; 25S rRNA (adenine(2142)-N(1))-methyltran...  \n",
       "35  40S_S4_C; 40S ribosomal protein S4, C-terminal...  \n",
       "36        ERO1; Endoplasmic reticulum oxidoreductin 1  \n",
       "37  AAA_8; Dynein heavy chain, P-loop containing D...  \n",
       "38  AAA_8; Dynein heavy chain, P-loop containing D...  \n",
       "39  COG2; Conserved oligomeric Golgi complex, subu...  \n",
       "40          Alkyl_sulf_C; Alkyl sulfatase, C-terminal  \n",
       "41   MOR2-PAG1_mid; Cell morphogenesis central region  \n",
       "42              RasGAP; Ras GTPase-activating protein  \n",
       "43  Gln-synt_N; Glutamine synthetase, beta-Grasp d...  \n",
       "44  Gln-synt_N; Glutamine synthetase, beta-Grasp d...  \n",
       "45  TFIIA_gamma_C; Transcription initiation factor...  \n",
       "46  TFIIA_gamma_C; Transcription initiation factor...  \n",
       "47  TFIIA_gamma_C; Transcription initiation factor...  \n",
       "48  TFIIA_gamma_C; Transcription initiation factor...  \n",
       "49                               NMT1; SsuA/THI5-like  \n",
       "50  Telomere_reg-2; Telomere length regulation pro...  \n",
       "51                     Vhr1; Transcription factor Vhr  \n",
       "52                     Vhr1; Transcription factor Vhr  \n",
       "53  RIBIOP_C; Ribosome biogenesis protein BMS1/TSR...  \n",
       "54  RIBIOP_C; Ribosome biogenesis protein BMS1/TSR...  \n",
       "55  RIBIOP_C; Ribosome biogenesis protein BMS1/TSR...  \n",
       "56   Enolase_C; Enolase, C-terminal TIM barrel domain  \n",
       "57               NPCC; Nuclear pore complex component  \n",
       "58                  ResIII; Helicase/UvrB, N-terminal  "
      ]
     },
     "execution_count": 22,
     "metadata": {},
     "output_type": "execute_result"
    }
   ],
   "source": [
    "df_shared_domains=pd.merge(df_sl,df_nsl,how='inner',on='domain-number')\n",
    "domains_name=np.unique(data_domains['domain-name'])\n",
    "domains_description=np.unique(data_domains['domain-descrip'])\n",
    "\n",
    "df_shared_domains['domain-description']=domains_description[df_shared_domains['domain-number']]\n",
    "\n",
    "\n",
    "df_shared_domains"
   ]
  },
  {
   "cell_type": "code",
   "execution_count": 23,
   "metadata": {
    "execution": {
     "iopub.execute_input": "2020-08-13T07:28:23.849029Z",
     "iopub.status.busy": "2020-08-13T07:28:23.847971Z",
     "iopub.status.idle": "2020-08-13T07:28:23.855440Z",
     "shell.execute_reply": "2020-08-13T07:28:23.856235Z"
    }
   },
   "outputs": [
    {
     "name": "stdout",
     "output_type": "stream",
     "text": [
      "The number of shared domains between SL and nSL pairs,after PCA, is =  59 out of 560 so the 10.535714285714286 %\n"
     ]
    }
   ],
   "source": [
    "print('The number of shared domains between SL and nSL pairs,after PCA, is = ',len(df_shared_domains), 'out of', len(df_sl)+len(df_nsl), 'so the',100*len(df_shared_domains)/(len(df_sl)+len(df_nsl)),'%')"
   ]
  },
  {
   "cell_type": "markdown",
   "metadata": {},
   "source": [
    "## Domains exclusive to SL"
   ]
  },
  {
   "cell_type": "code",
   "execution_count": 24,
   "metadata": {
    "execution": {
     "iopub.execute_input": "2020-08-13T07:28:23.859431Z",
     "iopub.status.busy": "2020-08-13T07:28:23.858359Z",
     "iopub.status.idle": "2020-08-13T07:28:23.885612Z",
     "shell.execute_reply": "2020-08-13T07:28:23.886386Z"
    }
   },
   "outputs": [
    {
     "data": {
      "text/html": [
       "<div>\n",
       "<style scoped>\n",
       "    .dataframe tbody tr th:only-of-type {\n",
       "        vertical-align: middle;\n",
       "    }\n",
       "\n",
       "    .dataframe tbody tr th {\n",
       "        vertical-align: top;\n",
       "    }\n",
       "\n",
       "    .dataframe thead th {\n",
       "        text-align: right;\n",
       "    }\n",
       "</style>\n",
       "<table border=\"1\" class=\"dataframe\">\n",
       "  <thead>\n",
       "    <tr style=\"text-align: right;\">\n",
       "      <th></th>\n",
       "      <th>pca-component_x</th>\n",
       "      <th>domain-number</th>\n",
       "      <th>pca-component_y</th>\n",
       "      <th>domain-description</th>\n",
       "    </tr>\n",
       "  </thead>\n",
       "  <tbody>\n",
       "    <tr>\n",
       "      <th>0</th>\n",
       "      <td>PC0</td>\n",
       "      <td>135</td>\n",
       "      <td>NaN</td>\n",
       "      <td>ATP-synt_ab_Xtn; ATPsynthase alpha/beta subuni...</td>\n",
       "    </tr>\n",
       "    <tr>\n",
       "      <th>1</th>\n",
       "      <td>PC1</td>\n",
       "      <td>142</td>\n",
       "      <td>NaN</td>\n",
       "      <td>ATP_synt_H; ATPase, V0 complex, subunit e1/e2</td>\n",
       "    </tr>\n",
       "    <tr>\n",
       "      <th>2</th>\n",
       "      <td>PC2</td>\n",
       "      <td>834</td>\n",
       "      <td>NaN</td>\n",
       "      <td>Efg1; rRNA-processing protein Efg1</td>\n",
       "    </tr>\n",
       "    <tr>\n",
       "      <th>4</th>\n",
       "      <td>PC4</td>\n",
       "      <td>229</td>\n",
       "      <td>NaN</td>\n",
       "      <td>Arginase; Ureohydrolase</td>\n",
       "    </tr>\n",
       "    <tr>\n",
       "      <th>5</th>\n",
       "      <td>PC5</td>\n",
       "      <td>129</td>\n",
       "      <td>NaN</td>\n",
       "      <td>ATP-synt_F; ATPase, V1 complex, subunit F</td>\n",
       "    </tr>\n",
       "    <tr>\n",
       "      <th>...</th>\n",
       "      <td>...</td>\n",
       "      <td>...</td>\n",
       "      <td>...</td>\n",
       "      <td>...</td>\n",
       "    </tr>\n",
       "    <tr>\n",
       "      <th>286</th>\n",
       "      <td>PC275</td>\n",
       "      <td>2553</td>\n",
       "      <td>NaN</td>\n",
       "      <td>TAF8_C; Transcription factor TFIID, subunit 8,...</td>\n",
       "    </tr>\n",
       "    <tr>\n",
       "      <th>287</th>\n",
       "      <td>PC276</td>\n",
       "      <td>390</td>\n",
       "      <td>NaN</td>\n",
       "      <td>COX17; Cytochrome c oxidase copper chaperone</td>\n",
       "    </tr>\n",
       "    <tr>\n",
       "      <th>288</th>\n",
       "      <td>PC277</td>\n",
       "      <td>2518</td>\n",
       "      <td>NaN</td>\n",
       "      <td>Ssu72; RNA polymerase II subunit A</td>\n",
       "    </tr>\n",
       "    <tr>\n",
       "      <th>289</th>\n",
       "      <td>PC278</td>\n",
       "      <td>1386</td>\n",
       "      <td>NaN</td>\n",
       "      <td>MNE1; Mitochondrial splicing apparatus compone...</td>\n",
       "    </tr>\n",
       "    <tr>\n",
       "      <th>293</th>\n",
       "      <td>PC282</td>\n",
       "      <td>1570</td>\n",
       "      <td>NaN</td>\n",
       "      <td>NMD3</td>\n",
       "    </tr>\n",
       "  </tbody>\n",
       "</table>\n",
       "<p>235 rows × 4 columns</p>\n",
       "</div>"
      ],
      "text/plain": [
       "    pca-component_x  domain-number pca-component_y  \\\n",
       "0               PC0            135             NaN   \n",
       "1               PC1            142             NaN   \n",
       "2               PC2            834             NaN   \n",
       "4               PC4            229             NaN   \n",
       "5               PC5            129             NaN   \n",
       "..              ...            ...             ...   \n",
       "286           PC275           2553             NaN   \n",
       "287           PC276            390             NaN   \n",
       "288           PC277           2518             NaN   \n",
       "289           PC278           1386             NaN   \n",
       "293           PC282           1570             NaN   \n",
       "\n",
       "                                    domain-description  \n",
       "0    ATP-synt_ab_Xtn; ATPsynthase alpha/beta subuni...  \n",
       "1        ATP_synt_H; ATPase, V0 complex, subunit e1/e2  \n",
       "2                   Efg1; rRNA-processing protein Efg1  \n",
       "4                              Arginase; Ureohydrolase  \n",
       "5            ATP-synt_F; ATPase, V1 complex, subunit F  \n",
       "..                                                 ...  \n",
       "286  TAF8_C; Transcription factor TFIID, subunit 8,...  \n",
       "287       COX17; Cytochrome c oxidase copper chaperone  \n",
       "288                 Ssu72; RNA polymerase II subunit A  \n",
       "289  MNE1; Mitochondrial splicing apparatus compone...  \n",
       "293                                               NMD3  \n",
       "\n",
       "[235 rows x 4 columns]"
      ]
     },
     "execution_count": 24,
     "metadata": {},
     "output_type": "execute_result"
    }
   ],
   "source": [
    "df_sl_exclusive=pd.merge(df_sl,df_nsl,how='left',on='domain-number')\n",
    "\n",
    "domains_name=np.unique(data_domains['domain-name'])\n",
    "domains_description=np.unique(data_domains['domain-descrip'])\n",
    "\n",
    "df_sl_exclusive['domain-description']=domains_description[df_sl_exclusive['domain-number']]\n",
    "df_sl_exclusive[pd.isnull(df_sl_exclusive['pca-component_y'])]"
   ]
  },
  {
   "cell_type": "code",
   "execution_count": 25,
   "metadata": {
    "execution": {
     "iopub.execute_input": "2020-08-13T07:28:23.890043Z",
     "iopub.status.busy": "2020-08-13T07:28:23.888821Z",
     "iopub.status.idle": "2020-08-13T07:28:23.896451Z",
     "shell.execute_reply": "2020-08-13T07:28:23.897197Z"
    }
   },
   "outputs": [
    {
     "name": "stdout",
     "output_type": "stream",
     "text": [
      "The number of exclusive domains from SL pairs, after PCA, is =  294 out of 560 so the 52.5 %\n"
     ]
    }
   ],
   "source": [
    "print('The number of exclusive domains from SL pairs, after PCA, is = ',len(df_sl_exclusive), 'out of', len(df_sl)+len(df_nsl), 'so the',100*len(df_sl_exclusive)/(len(df_sl)+len(df_nsl)),'%')"
   ]
  },
  {
   "cell_type": "code",
   "execution_count": 26,
   "metadata": {
    "execution": {
     "iopub.execute_input": "2020-08-13T07:28:23.900588Z",
     "iopub.status.busy": "2020-08-13T07:28:23.899443Z",
     "iopub.status.idle": "2020-08-13T07:28:23.928371Z",
     "shell.execute_reply": "2020-08-13T07:28:23.927940Z"
    }
   },
   "outputs": [
    {
     "data": {
      "text/html": [
       "<div>\n",
       "<style scoped>\n",
       "    .dataframe tbody tr th:only-of-type {\n",
       "        vertical-align: middle;\n",
       "    }\n",
       "\n",
       "    .dataframe tbody tr th {\n",
       "        vertical-align: top;\n",
       "    }\n",
       "\n",
       "    .dataframe thead th {\n",
       "        text-align: right;\n",
       "    }\n",
       "</style>\n",
       "<table border=\"1\" class=\"dataframe\">\n",
       "  <thead>\n",
       "    <tr style=\"text-align: right;\">\n",
       "      <th></th>\n",
       "      <th>pca-component_x</th>\n",
       "      <th>domain-number</th>\n",
       "      <th>pca-component_y</th>\n",
       "      <th>domain-description</th>\n",
       "    </tr>\n",
       "  </thead>\n",
       "  <tbody>\n",
       "    <tr>\n",
       "      <th>0</th>\n",
       "      <td>NaN</td>\n",
       "      <td>1028</td>\n",
       "      <td>PC0</td>\n",
       "      <td>GatB_Yqey; Asn/Gln amidotransferase</td>\n",
       "    </tr>\n",
       "    <tr>\n",
       "      <th>1</th>\n",
       "      <td>NaN</td>\n",
       "      <td>305</td>\n",
       "      <td>PC1</td>\n",
       "      <td>Brr6_like_C_C; Brl1/Brr6 domain</td>\n",
       "    </tr>\n",
       "    <tr>\n",
       "      <th>2</th>\n",
       "      <td>NaN</td>\n",
       "      <td>1252</td>\n",
       "      <td>PC2</td>\n",
       "      <td>JmjN; JmjN domain</td>\n",
       "    </tr>\n",
       "    <tr>\n",
       "      <th>3</th>\n",
       "      <td>NaN</td>\n",
       "      <td>2113</td>\n",
       "      <td>PC3</td>\n",
       "      <td>Rav1p_C; RAVE complex protein Rav1 C-terminal</td>\n",
       "    </tr>\n",
       "    <tr>\n",
       "      <th>4</th>\n",
       "      <td>NaN</td>\n",
       "      <td>308</td>\n",
       "      <td>PC4</td>\n",
       "      <td>Bul1_N; Bul1, N-terminal</td>\n",
       "    </tr>\n",
       "    <tr>\n",
       "      <th>...</th>\n",
       "      <td>...</td>\n",
       "      <td>...</td>\n",
       "      <td>...</td>\n",
       "      <td>...</td>\n",
       "    </tr>\n",
       "    <tr>\n",
       "      <th>277</th>\n",
       "      <td>NaN</td>\n",
       "      <td>2537</td>\n",
       "      <td>PC271</td>\n",
       "      <td>SurE; Survival protein SurE-like phosphatase/n...</td>\n",
       "    </tr>\n",
       "    <tr>\n",
       "      <th>278</th>\n",
       "      <td>NaN</td>\n",
       "      <td>934</td>\n",
       "      <td>PC273</td>\n",
       "      <td>Folliculin</td>\n",
       "    </tr>\n",
       "    <tr>\n",
       "      <th>279</th>\n",
       "      <td>NaN</td>\n",
       "      <td>934</td>\n",
       "      <td>PC276</td>\n",
       "      <td>Folliculin</td>\n",
       "    </tr>\n",
       "    <tr>\n",
       "      <th>280</th>\n",
       "      <td>NaN</td>\n",
       "      <td>2316</td>\n",
       "      <td>PC274</td>\n",
       "      <td>SGTA_dimer; SGTA, homodimerisation domain</td>\n",
       "    </tr>\n",
       "    <tr>\n",
       "      <th>281</th>\n",
       "      <td>NaN</td>\n",
       "      <td>123</td>\n",
       "      <td>PC275</td>\n",
       "      <td>ATP-synt_A; ATP synthase, F0 complex, subunit A</td>\n",
       "    </tr>\n",
       "  </tbody>\n",
       "</table>\n",
       "<p>223 rows × 4 columns</p>\n",
       "</div>"
      ],
      "text/plain": [
       "    pca-component_x  domain-number pca-component_y  \\\n",
       "0               NaN           1028             PC0   \n",
       "1               NaN            305             PC1   \n",
       "2               NaN           1252             PC2   \n",
       "3               NaN           2113             PC3   \n",
       "4               NaN            308             PC4   \n",
       "..              ...            ...             ...   \n",
       "277             NaN           2537           PC271   \n",
       "278             NaN            934           PC273   \n",
       "279             NaN            934           PC276   \n",
       "280             NaN           2316           PC274   \n",
       "281             NaN            123           PC275   \n",
       "\n",
       "                                    domain-description  \n",
       "0                  GatB_Yqey; Asn/Gln amidotransferase  \n",
       "1                      Brr6_like_C_C; Brl1/Brr6 domain  \n",
       "2                                    JmjN; JmjN domain  \n",
       "3        Rav1p_C; RAVE complex protein Rav1 C-terminal  \n",
       "4                             Bul1_N; Bul1, N-terminal  \n",
       "..                                                 ...  \n",
       "277  SurE; Survival protein SurE-like phosphatase/n...  \n",
       "278                                         Folliculin  \n",
       "279                                         Folliculin  \n",
       "280          SGTA_dimer; SGTA, homodimerisation domain  \n",
       "281    ATP-synt_A; ATP synthase, F0 complex, subunit A  \n",
       "\n",
       "[223 rows x 4 columns]"
      ]
     },
     "execution_count": 26,
     "metadata": {},
     "output_type": "execute_result"
    }
   ],
   "source": [
    "df_nsl_exclusive=pd.merge(df_sl,df_nsl,how='right',on='domain-number')\n",
    "\n",
    "domains_name=np.unique(data_domains['domain-name'])\n",
    "domains_description=np.unique(data_domains['domain-descrip'])\n",
    "\n",
    "df_nsl_exclusive['domain-description']=domains_description[df_nsl_exclusive['domain-number']]\n",
    "df_nsl_exclusive[pd.isnull(df_nsl_exclusive['pca-component_x'])]"
   ]
  },
  {
   "cell_type": "code",
   "execution_count": 27,
   "metadata": {
    "execution": {
     "iopub.execute_input": "2020-08-13T07:28:23.933011Z",
     "iopub.status.busy": "2020-08-13T07:28:23.932298Z",
     "iopub.status.idle": "2020-08-13T07:28:23.937624Z",
     "shell.execute_reply": "2020-08-13T07:28:23.937221Z"
    }
   },
   "outputs": [
    {
     "name": "stdout",
     "output_type": "stream",
     "text": [
      "The number of exclusive domains from non SL pairs, after PCA, is =  282 out of 560 so the 50.357142857142854 %\n"
     ]
    }
   ],
   "source": [
    "print('The number of exclusive domains from non SL pairs, after PCA, is = ',len(df_nsl_exclusive), 'out of', len(df_sl)+len(df_nsl), 'so the',100*len(df_nsl_exclusive)/(len(df_sl)+len(df_nsl)),'%')"
   ]
  },
  {
   "cell_type": "markdown",
   "metadata": {},
   "source": [
    "## Let see to the domains-number that get repeated after the PCA analysis , and selecting the most explanatory feature by its explained variance."
   ]
  },
  {
   "cell_type": "code",
   "execution_count": 28,
   "metadata": {
    "execution": {
     "iopub.execute_input": "2020-08-13T07:28:23.955889Z",
     "iopub.status.busy": "2020-08-13T07:28:23.955320Z",
     "iopub.status.idle": "2020-08-13T07:28:23.959104Z",
     "shell.execute_reply": "2020-08-13T07:28:23.958341Z"
    }
   },
   "outputs": [],
   "source": [
    "duplicated_features_sl=df_sl[df_sl.iloc[:,1].duplicated()]\n",
    "repeated_features_sl=pd.DataFrame()\n",
    "\n",
    "domains_name=np.unique(data_domains['domain-name'])\n",
    "domains_description=np.unique(data_domains['domain-descrip'])\n",
    "\n",
    "repeated_features_sl['domain-name']=domains_name[duplicated_features_sl.iloc[:,1]] \n",
    "repeated_features_sl['domain-description']=domains_description[duplicated_features_sl.iloc[:,1]]\n",
    "\n",
    "duplicated_features_nsl=df_nsl[df_nsl.iloc[:,1].duplicated()]\n",
    "repeated_features_nsl=pd.DataFrame()\n",
    "\n",
    "repeated_features_nsl['domain-name']=domains_name[duplicated_features_nsl.iloc[:,1]] \n",
    "repeated_features_nsl['domain-description']=domains_description[duplicated_features_nsl.iloc[:,1]]"
   ]
  },
  {
   "cell_type": "code",
   "execution_count": 29,
   "metadata": {
    "execution": {
     "iopub.execute_input": "2020-08-13T07:28:23.968118Z",
     "iopub.status.busy": "2020-08-13T07:28:23.966238Z",
     "iopub.status.idle": "2020-08-13T07:28:23.974408Z",
     "shell.execute_reply": "2020-08-13T07:28:23.973568Z"
    }
   },
   "outputs": [
    {
     "name": "stderr",
     "output_type": "stream",
     "text": [
      "/usr/share/miniconda3/envs/wintest/lib/python3.7/site-packages/ipykernel_launcher.py:3: SettingWithCopyWarning: \n",
      "A value is trying to be set on a copy of a slice from a DataFrame.\n",
      "Try using .loc[row_indexer,col_indexer] = value instead\n",
      "\n",
      "See the caveats in the documentation: https://pandas.pydata.org/pandas-docs/stable/user_guide/indexing.html#returning-a-view-versus-a-copy\n",
      "  This is separate from the ipykernel package so we can avoid doing imports until\n"
     ]
    },
    {
     "data": {
      "text/plain": [
       "((45, 4), (294, 4))"
      ]
     },
     "execution_count": 29,
     "metadata": {},
     "output_type": "execute_result"
    }
   ],
   "source": [
    "only_sl_pd=pd.merge(repeated_features_sl,repeated_features_nsl,how='left',on=['domain-name'])\n",
    "data_only_sl = only_sl_pd[pd.isnull(only_sl_pd['domain-description_y'])]\n",
    "data_only_sl['domain-description']=data_only_sl['domain-description_x']\n",
    "data_only_sl.shape,df_sl_exclusive.shape"
   ]
  },
  {
   "cell_type": "code",
   "execution_count": 30,
   "metadata": {
    "execution": {
     "iopub.execute_input": "2020-08-13T07:28:23.981383Z",
     "iopub.status.busy": "2020-08-13T07:28:23.978861Z",
     "iopub.status.idle": "2020-08-13T07:28:23.996060Z",
     "shell.execute_reply": "2020-08-13T07:28:23.995557Z"
    }
   },
   "outputs": [
    {
     "data": {
      "text/html": [
       "<div>\n",
       "<style scoped>\n",
       "    .dataframe tbody tr th:only-of-type {\n",
       "        vertical-align: middle;\n",
       "    }\n",
       "\n",
       "    .dataframe tbody tr th {\n",
       "        vertical-align: top;\n",
       "    }\n",
       "\n",
       "    .dataframe thead th {\n",
       "        text-align: right;\n",
       "    }\n",
       "</style>\n",
       "<table border=\"1\" class=\"dataframe\">\n",
       "  <thead>\n",
       "    <tr style=\"text-align: right;\">\n",
       "      <th></th>\n",
       "      <th>domain-name</th>\n",
       "      <th>domain-description_x</th>\n",
       "      <th>domain-description_y</th>\n",
       "    </tr>\n",
       "  </thead>\n",
       "  <tbody>\n",
       "    <tr>\n",
       "      <th>0</th>\n",
       "      <td>PF00085</td>\n",
       "      <td>NaN</td>\n",
       "      <td>AA_permease_2; Amino acid/polyamine transporter I</td>\n",
       "    </tr>\n",
       "    <tr>\n",
       "      <th>1</th>\n",
       "      <td>PF02463</td>\n",
       "      <td>NaN</td>\n",
       "      <td>FSH1; Serine hydrolase FSH</td>\n",
       "    </tr>\n",
       "    <tr>\n",
       "      <th>2</th>\n",
       "      <td>PF00206</td>\n",
       "      <td>NaN</td>\n",
       "      <td>AP_endonuc_2; Xylose isomerase-like, TIM barre...</td>\n",
       "    </tr>\n",
       "    <tr>\n",
       "      <th>3</th>\n",
       "      <td>PF01853</td>\n",
       "      <td>NaN</td>\n",
       "      <td>Dopey_N; Dopey, N-terminal</td>\n",
       "    </tr>\n",
       "    <tr>\n",
       "      <th>4</th>\n",
       "      <td>PF06733</td>\n",
       "      <td>NaN</td>\n",
       "      <td>Ost5; Oligosaccharyltransferase complex subunit</td>\n",
       "    </tr>\n",
       "    <tr>\n",
       "      <th>5</th>\n",
       "      <td>PF00172</td>\n",
       "      <td>NaN</td>\n",
       "      <td>AMPKBI; Association with the SNF1 complex (ASC...</td>\n",
       "    </tr>\n",
       "    <tr>\n",
       "      <th>6</th>\n",
       "      <td>PF16891</td>\n",
       "      <td>NaN</td>\n",
       "      <td>tRNA-synt_1c; Glutamyl/glutaminyl-tRNA synthet...</td>\n",
       "    </tr>\n",
       "    <tr>\n",
       "      <th>7</th>\n",
       "      <td>PF00780</td>\n",
       "      <td>NaN</td>\n",
       "      <td>COG4; Conserved oligomeric Golgi complex, subu...</td>\n",
       "    </tr>\n",
       "    <tr>\n",
       "      <th>8</th>\n",
       "      <td>PF00982</td>\n",
       "      <td>NaN</td>\n",
       "      <td>Catalase; Catalase core domain</td>\n",
       "    </tr>\n",
       "    <tr>\n",
       "      <th>9</th>\n",
       "      <td>PF00288</td>\n",
       "      <td>NaN</td>\n",
       "      <td>ATP_sub_h; ATP synthase, F0 complex, subunit H</td>\n",
       "    </tr>\n",
       "    <tr>\n",
       "      <th>10</th>\n",
       "      <td>PF04756</td>\n",
       "      <td>NaN</td>\n",
       "      <td>Mad3_BUB1_I; Mad3/Bub1 homology region 1</td>\n",
       "    </tr>\n",
       "    <tr>\n",
       "      <th>11</th>\n",
       "      <td>PF01822</td>\n",
       "      <td>NaN</td>\n",
       "      <td>Diphthami_syn_2; Diphthamide synthase domain</td>\n",
       "    </tr>\n",
       "    <tr>\n",
       "      <th>12</th>\n",
       "      <td>PF01680</td>\n",
       "      <td>NaN</td>\n",
       "      <td>DUF3605; Protein of unknown function DUF3605</td>\n",
       "    </tr>\n",
       "    <tr>\n",
       "      <th>13</th>\n",
       "      <td>PF04000</td>\n",
       "      <td>NaN</td>\n",
       "      <td>Inhibitor_I9; Peptidase S8 propeptide/proteina...</td>\n",
       "    </tr>\n",
       "    <tr>\n",
       "      <th>14</th>\n",
       "      <td>PF05238</td>\n",
       "      <td>NaN</td>\n",
       "      <td>Myb_Cef; Pre-mRNA splicing factor component Cd...</td>\n",
       "    </tr>\n",
       "    <tr>\n",
       "      <th>15</th>\n",
       "      <td>PF01145</td>\n",
       "      <td>NaN</td>\n",
       "      <td>Coq4; Ubiquinone biosynthesis protein Coq4</td>\n",
       "    </tr>\n",
       "    <tr>\n",
       "      <th>16</th>\n",
       "      <td>PF04912</td>\n",
       "      <td>NaN</td>\n",
       "      <td>Med4; Mediator complex, subunit Med4</td>\n",
       "    </tr>\n",
       "    <tr>\n",
       "      <th>17</th>\n",
       "      <td>PF01491</td>\n",
       "      <td>NaN</td>\n",
       "      <td>DUF1689; Protein of unknown function DUF1689</td>\n",
       "    </tr>\n",
       "    <tr>\n",
       "      <th>18</th>\n",
       "      <td>PF04005</td>\n",
       "      <td>NaN</td>\n",
       "      <td>Inp1; Inheritance of peroxisomes protein 1</td>\n",
       "    </tr>\n",
       "    <tr>\n",
       "      <th>19</th>\n",
       "      <td>PF04421</td>\n",
       "      <td>NaN</td>\n",
       "      <td>MAP65_ASE1</td>\n",
       "    </tr>\n",
       "    <tr>\n",
       "      <th>20</th>\n",
       "      <td>PF00995</td>\n",
       "      <td>NaN</td>\n",
       "      <td>Cation_efflux; Cation efflux protein</td>\n",
       "    </tr>\n",
       "    <tr>\n",
       "      <th>21</th>\n",
       "      <td>PF00628</td>\n",
       "      <td>NaN</td>\n",
       "      <td>C1_1; Protein kinase C-like, phorbol ester/dia...</td>\n",
       "    </tr>\n",
       "    <tr>\n",
       "      <th>22</th>\n",
       "      <td>PF16843</td>\n",
       "      <td>NaN</td>\n",
       "      <td>malic; Malic enzyme, N-terminal domain</td>\n",
       "    </tr>\n",
       "    <tr>\n",
       "      <th>23</th>\n",
       "      <td>PF17123</td>\n",
       "      <td>NaN</td>\n",
       "      <td>zf-DNA_Pol; Zinc finger, DNA-directed DNA poly...</td>\n",
       "    </tr>\n",
       "    <tr>\n",
       "      <th>24</th>\n",
       "      <td>PF14475</td>\n",
       "      <td>NaN</td>\n",
       "      <td>UDPGT; UDP-glucuronosyl/UDP-glucosyltransferase</td>\n",
       "    </tr>\n",
       "    <tr>\n",
       "      <th>25</th>\n",
       "      <td>PF17052</td>\n",
       "      <td>NaN</td>\n",
       "      <td>zf-C2H2</td>\n",
       "    </tr>\n",
       "    <tr>\n",
       "      <th>26</th>\n",
       "      <td>PF00071</td>\n",
       "      <td>NaN</td>\n",
       "      <td>AAA_8; Dynein heavy chain, P-loop containing D...</td>\n",
       "    </tr>\n",
       "    <tr>\n",
       "      <th>27</th>\n",
       "      <td>PF15341</td>\n",
       "      <td>NaN</td>\n",
       "      <td>Vhr1; Transcription factor Vhr</td>\n",
       "    </tr>\n",
       "    <tr>\n",
       "      <th>28</th>\n",
       "      <td>PF00616</td>\n",
       "      <td>NaN</td>\n",
       "      <td>Bmt2; 25S rRNA (adenine(2142)-N(1))-methyltran...</td>\n",
       "    </tr>\n",
       "    <tr>\n",
       "      <th>29</th>\n",
       "      <td>PF00616</td>\n",
       "      <td>NaN</td>\n",
       "      <td>Bmt2; 25S rRNA (adenine(2142)-N(1))-methyltran...</td>\n",
       "    </tr>\n",
       "    <tr>\n",
       "      <th>30</th>\n",
       "      <td>PF00443</td>\n",
       "      <td>NaN</td>\n",
       "      <td>Anticodon_1; Methionyl/Valyl/Leucyl/Isoleucyl-...</td>\n",
       "    </tr>\n",
       "    <tr>\n",
       "      <th>31</th>\n",
       "      <td>PF03062</td>\n",
       "      <td>NaN</td>\n",
       "      <td>Gln-synt_N; Glutamine synthetase, beta-Grasp d...</td>\n",
       "    </tr>\n",
       "    <tr>\n",
       "      <th>32</th>\n",
       "      <td>PF04045</td>\n",
       "      <td>NaN</td>\n",
       "      <td>Iso_dh; Isopropylmalate dehydrogenase-like domain</td>\n",
       "    </tr>\n",
       "    <tr>\n",
       "      <th>33</th>\n",
       "      <td>PF01151</td>\n",
       "      <td>NaN</td>\n",
       "      <td>Cpn10; GroES chaperonin family</td>\n",
       "    </tr>\n",
       "    <tr>\n",
       "      <th>34</th>\n",
       "      <td>PF01425</td>\n",
       "      <td>NaN</td>\n",
       "      <td>DPPIV_N; Dipeptidylpeptidase IV, N-terminal do...</td>\n",
       "    </tr>\n",
       "    <tr>\n",
       "      <th>35</th>\n",
       "      <td>PF11704</td>\n",
       "      <td>NaN</td>\n",
       "      <td>SSF; Sodium/solute symporter</td>\n",
       "    </tr>\n",
       "    <tr>\n",
       "      <th>36</th>\n",
       "      <td>PF04176</td>\n",
       "      <td>NaN</td>\n",
       "      <td>Las1; Las1-like</td>\n",
       "    </tr>\n",
       "    <tr>\n",
       "      <th>37</th>\n",
       "      <td>PF02096</td>\n",
       "      <td>NaN</td>\n",
       "      <td>ENTH; ENTH  domain</td>\n",
       "    </tr>\n",
       "    <tr>\n",
       "      <th>38</th>\n",
       "      <td>PF02096</td>\n",
       "      <td>NaN</td>\n",
       "      <td>ENTH; ENTH  domain</td>\n",
       "    </tr>\n",
       "    <tr>\n",
       "      <th>39</th>\n",
       "      <td>PF02096</td>\n",
       "      <td>NaN</td>\n",
       "      <td>ENTH; ENTH  domain</td>\n",
       "    </tr>\n",
       "    <tr>\n",
       "      <th>40</th>\n",
       "      <td>PF07690</td>\n",
       "      <td>NaN</td>\n",
       "      <td>PHD_2</td>\n",
       "    </tr>\n",
       "    <tr>\n",
       "      <th>41</th>\n",
       "      <td>PF12550</td>\n",
       "      <td>NaN</td>\n",
       "      <td>Sortilin-Vps10; Sortilin, N-terminal</td>\n",
       "    </tr>\n",
       "    <tr>\n",
       "      <th>42</th>\n",
       "      <td>PF00957</td>\n",
       "      <td>NaN</td>\n",
       "      <td>Candida_ALS_N; Agglutinin-like protein, N-term...</td>\n",
       "    </tr>\n",
       "    <tr>\n",
       "      <th>43</th>\n",
       "      <td>PF04499</td>\n",
       "      <td>NaN</td>\n",
       "      <td>MF_alpha; Mating factor alpha, C-terminal repeat</td>\n",
       "    </tr>\n",
       "    <tr>\n",
       "      <th>44</th>\n",
       "      <td>PF01172</td>\n",
       "      <td>NaN</td>\n",
       "      <td>Cullin_Nedd8; Cullin protein, neddylation domain</td>\n",
       "    </tr>\n",
       "    <tr>\n",
       "      <th>45</th>\n",
       "      <td>PF00709</td>\n",
       "      <td>NaN</td>\n",
       "      <td>CHCH</td>\n",
       "    </tr>\n",
       "    <tr>\n",
       "      <th>46</th>\n",
       "      <td>PF02338</td>\n",
       "      <td>NaN</td>\n",
       "      <td>FA_hydroxylase; Fatty acid hydroxylase</td>\n",
       "    </tr>\n",
       "    <tr>\n",
       "      <th>47</th>\n",
       "      <td>PF02338</td>\n",
       "      <td>NaN</td>\n",
       "      <td>FA_hydroxylase; Fatty acid hydroxylase</td>\n",
       "    </tr>\n",
       "    <tr>\n",
       "      <th>49</th>\n",
       "      <td>PF02207</td>\n",
       "      <td>NaN</td>\n",
       "      <td>Enolase_N; Enolase, N-terminal</td>\n",
       "    </tr>\n",
       "    <tr>\n",
       "      <th>50</th>\n",
       "      <td>PF02732</td>\n",
       "      <td>NaN</td>\n",
       "      <td>Folliculin</td>\n",
       "    </tr>\n",
       "  </tbody>\n",
       "</table>\n",
       "</div>"
      ],
      "text/plain": [
       "   domain-name domain-description_x  \\\n",
       "0      PF00085                  NaN   \n",
       "1      PF02463                  NaN   \n",
       "2      PF00206                  NaN   \n",
       "3      PF01853                  NaN   \n",
       "4      PF06733                  NaN   \n",
       "5      PF00172                  NaN   \n",
       "6      PF16891                  NaN   \n",
       "7      PF00780                  NaN   \n",
       "8      PF00982                  NaN   \n",
       "9      PF00288                  NaN   \n",
       "10     PF04756                  NaN   \n",
       "11     PF01822                  NaN   \n",
       "12     PF01680                  NaN   \n",
       "13     PF04000                  NaN   \n",
       "14     PF05238                  NaN   \n",
       "15     PF01145                  NaN   \n",
       "16     PF04912                  NaN   \n",
       "17     PF01491                  NaN   \n",
       "18     PF04005                  NaN   \n",
       "19     PF04421                  NaN   \n",
       "20     PF00995                  NaN   \n",
       "21     PF00628                  NaN   \n",
       "22     PF16843                  NaN   \n",
       "23     PF17123                  NaN   \n",
       "24     PF14475                  NaN   \n",
       "25     PF17052                  NaN   \n",
       "26     PF00071                  NaN   \n",
       "27     PF15341                  NaN   \n",
       "28     PF00616                  NaN   \n",
       "29     PF00616                  NaN   \n",
       "30     PF00443                  NaN   \n",
       "31     PF03062                  NaN   \n",
       "32     PF04045                  NaN   \n",
       "33     PF01151                  NaN   \n",
       "34     PF01425                  NaN   \n",
       "35     PF11704                  NaN   \n",
       "36     PF04176                  NaN   \n",
       "37     PF02096                  NaN   \n",
       "38     PF02096                  NaN   \n",
       "39     PF02096                  NaN   \n",
       "40     PF07690                  NaN   \n",
       "41     PF12550                  NaN   \n",
       "42     PF00957                  NaN   \n",
       "43     PF04499                  NaN   \n",
       "44     PF01172                  NaN   \n",
       "45     PF00709                  NaN   \n",
       "46     PF02338                  NaN   \n",
       "47     PF02338                  NaN   \n",
       "49     PF02207                  NaN   \n",
       "50     PF02732                  NaN   \n",
       "\n",
       "                                 domain-description_y  \n",
       "0   AA_permease_2; Amino acid/polyamine transporter I  \n",
       "1                          FSH1; Serine hydrolase FSH  \n",
       "2   AP_endonuc_2; Xylose isomerase-like, TIM barre...  \n",
       "3                          Dopey_N; Dopey, N-terminal  \n",
       "4     Ost5; Oligosaccharyltransferase complex subunit  \n",
       "5   AMPKBI; Association with the SNF1 complex (ASC...  \n",
       "6   tRNA-synt_1c; Glutamyl/glutaminyl-tRNA synthet...  \n",
       "7   COG4; Conserved oligomeric Golgi complex, subu...  \n",
       "8                      Catalase; Catalase core domain  \n",
       "9      ATP_sub_h; ATP synthase, F0 complex, subunit H  \n",
       "10           Mad3_BUB1_I; Mad3/Bub1 homology region 1  \n",
       "11       Diphthami_syn_2; Diphthamide synthase domain  \n",
       "12       DUF3605; Protein of unknown function DUF3605  \n",
       "13  Inhibitor_I9; Peptidase S8 propeptide/proteina...  \n",
       "14  Myb_Cef; Pre-mRNA splicing factor component Cd...  \n",
       "15         Coq4; Ubiquinone biosynthesis protein Coq4  \n",
       "16               Med4; Mediator complex, subunit Med4  \n",
       "17       DUF1689; Protein of unknown function DUF1689  \n",
       "18         Inp1; Inheritance of peroxisomes protein 1  \n",
       "19                                         MAP65_ASE1  \n",
       "20               Cation_efflux; Cation efflux protein  \n",
       "21  C1_1; Protein kinase C-like, phorbol ester/dia...  \n",
       "22             malic; Malic enzyme, N-terminal domain  \n",
       "23  zf-DNA_Pol; Zinc finger, DNA-directed DNA poly...  \n",
       "24    UDPGT; UDP-glucuronosyl/UDP-glucosyltransferase  \n",
       "25                                            zf-C2H2  \n",
       "26  AAA_8; Dynein heavy chain, P-loop containing D...  \n",
       "27                     Vhr1; Transcription factor Vhr  \n",
       "28  Bmt2; 25S rRNA (adenine(2142)-N(1))-methyltran...  \n",
       "29  Bmt2; 25S rRNA (adenine(2142)-N(1))-methyltran...  \n",
       "30  Anticodon_1; Methionyl/Valyl/Leucyl/Isoleucyl-...  \n",
       "31  Gln-synt_N; Glutamine synthetase, beta-Grasp d...  \n",
       "32  Iso_dh; Isopropylmalate dehydrogenase-like domain  \n",
       "33                     Cpn10; GroES chaperonin family  \n",
       "34  DPPIV_N; Dipeptidylpeptidase IV, N-terminal do...  \n",
       "35                       SSF; Sodium/solute symporter  \n",
       "36                                    Las1; Las1-like  \n",
       "37                                 ENTH; ENTH  domain  \n",
       "38                                 ENTH; ENTH  domain  \n",
       "39                                 ENTH; ENTH  domain  \n",
       "40                                              PHD_2  \n",
       "41               Sortilin-Vps10; Sortilin, N-terminal  \n",
       "42  Candida_ALS_N; Agglutinin-like protein, N-term...  \n",
       "43   MF_alpha; Mating factor alpha, C-terminal repeat  \n",
       "44   Cullin_Nedd8; Cullin protein, neddylation domain  \n",
       "45                                               CHCH  \n",
       "46             FA_hydroxylase; Fatty acid hydroxylase  \n",
       "47             FA_hydroxylase; Fatty acid hydroxylase  \n",
       "49                     Enolase_N; Enolase, N-terminal  \n",
       "50                                         Folliculin  "
      ]
     },
     "execution_count": 30,
     "metadata": {},
     "output_type": "execute_result"
    }
   ],
   "source": [
    "only_nsl_pd=pd.merge(repeated_features_sl,repeated_features_nsl,how='right',on=['domain-name'])\n",
    "data_only_nsl = only_nsl_pd[pd.isnull(only_nsl_pd['domain-description_x'])]\n",
    "data_only_nsl"
   ]
  },
  {
   "cell_type": "code",
   "execution_count": 31,
   "metadata": {
    "execution": {
     "iopub.execute_input": "2020-08-13T07:28:24.005587Z",
     "iopub.status.busy": "2020-08-13T07:28:23.999937Z",
     "iopub.status.idle": "2020-08-13T07:28:24.010472Z",
     "shell.execute_reply": "2020-08-13T07:28:24.009826Z"
    }
   },
   "outputs": [
    {
     "data": {
      "text/html": [
       "<div>\n",
       "<style scoped>\n",
       "    .dataframe tbody tr th:only-of-type {\n",
       "        vertical-align: middle;\n",
       "    }\n",
       "\n",
       "    .dataframe tbody tr th {\n",
       "        vertical-align: top;\n",
       "    }\n",
       "\n",
       "    .dataframe thead th {\n",
       "        text-align: right;\n",
       "    }\n",
       "</style>\n",
       "<table border=\"1\" class=\"dataframe\">\n",
       "  <thead>\n",
       "    <tr style=\"text-align: right;\">\n",
       "      <th></th>\n",
       "      <th>domain-name</th>\n",
       "      <th>domain-description_x</th>\n",
       "      <th>domain-description_y</th>\n",
       "    </tr>\n",
       "  </thead>\n",
       "  <tbody>\n",
       "    <tr>\n",
       "      <th>0</th>\n",
       "      <td>PF12921</td>\n",
       "      <td>TFIIA_gamma_C; Transcription initiation factor...</td>\n",
       "      <td>TFIIA_gamma_C; Transcription initiation factor...</td>\n",
       "    </tr>\n",
       "  </tbody>\n",
       "</table>\n",
       "</div>"
      ],
      "text/plain": [
       "  domain-name                               domain-description_x  \\\n",
       "0     PF12921  TFIIA_gamma_C; Transcription initiation factor...   \n",
       "\n",
       "                                domain-description_y  \n",
       "0  TFIIA_gamma_C; Transcription initiation factor...  "
      ]
     },
     "execution_count": 31,
     "metadata": {},
     "output_type": "execute_result"
    }
   ],
   "source": [
    "shared_domains_pd=pd.merge(repeated_features_sl,repeated_features_nsl,how='inner',on=['domain-name'])\n",
    "shared_domains_pd\n"
   ]
  },
  {
   "cell_type": "code",
   "execution_count": 32,
   "metadata": {
    "execution": {
     "iopub.execute_input": "2020-08-13T07:28:24.036380Z",
     "iopub.status.busy": "2020-08-13T07:28:24.016020Z",
     "iopub.status.idle": "2020-08-13T07:28:25.570510Z",
     "shell.execute_reply": "2020-08-13T07:28:25.569277Z"
    }
   },
   "outputs": [
    {
     "data": {
      "text/plain": [
       "(0.0, 0.2)"
      ]
     },
     "execution_count": 32,
     "metadata": {},
     "output_type": "execute_result"
    },
    {
     "data": {
      "image/png": "[encoded data removed]",
      "text/plain": [
       "<Figure size 432x288 with 1 Axes>"
      ]
     },
     "metadata": {
      "filenames": {
       "image/png": "/home/runner/work/jupyter-book/jupyter-book/mini_book/docs/_build/jupyter_execute/prot_domains2lethality-FEATURES-POSTPROCESSING_47_1.png"
      },
      "needs_background": "light"
     },
     "output_type": "display_data"
    }
   ],
   "source": [
    "a_sl=x_sl.iloc[:,np.sort(df_sl.iloc[:,1])]\n",
    "a_sl.describe().loc['mean'].hist(bins=8),\n",
    "a_sl.describe().loc['std'].hist(bins=8,alpha=0.4)\n",
    "plt.xlim([0,0.2])"
   ]
  },
  {
   "cell_type": "code",
   "execution_count": 33,
   "metadata": {
    "execution": {
     "iopub.execute_input": "2020-08-13T07:28:25.576746Z",
     "iopub.status.busy": "2020-08-13T07:28:25.576042Z",
     "iopub.status.idle": "2020-08-13T07:28:27.189061Z",
     "shell.execute_reply": "2020-08-13T07:28:27.188591Z"
    }
   },
   "outputs": [
    {
     "data": {
      "text/plain": [
       "(0.0, 0.2)"
      ]
     },
     "execution_count": 33,
     "metadata": {},
     "output_type": "execute_result"
    },
    {
     "data": {
      "image/png": "[encoded data removed]",
      "text/plain": [
       "<Figure size 432x288 with 1 Axes>"
      ]
     },
     "metadata": {
      "filenames": {
       "image/png": "/home/runner/work/jupyter-book/jupyter-book/mini_book/docs/_build/jupyter_execute/prot_domains2lethality-FEATURES-POSTPROCESSING_48_1.png"
      },
      "needs_background": "light"
     },
     "output_type": "display_data"
    }
   ],
   "source": [
    "a_nsl=x_nsl.iloc[:,np.sort(df_nsl.iloc[:,1])]\n",
    "a_nsl.describe().loc['mean'].hist(bins=8),\n",
    "a_nsl.describe().loc['std'].hist(bins=8,alpha=0.4)\n",
    "plt.xlim([0,0.2])"
   ]
  },
  {
   "cell_type": "markdown",
   "metadata": {},
   "source": [
    "### Proof of concept with *BEM1*\n",
    "\n",
    "- Gather the domains of SL and nSL pairs from BEM1\n",
    "- Check if the domains for the SL and nSL pairs are inside the most important domains after PCA."
   ]
  },
  {
   "cell_type": "code",
   "execution_count": 34,
   "metadata": {
    "execution": {
     "iopub.execute_input": "2020-08-13T07:28:27.195931Z",
     "iopub.status.busy": "2020-08-13T07:28:27.195435Z",
     "iopub.status.idle": "2020-08-13T07:28:27.199701Z",
     "shell.execute_reply": "2020-08-13T07:28:27.199273Z"
    }
   },
   "outputs": [],
   "source": [
    "domains_bem1=data_domains[data_domains['name']=='BEM1']['domain-descrip']\n",
    "sl_bem1=data_sl[data_sl['gene-query-name']=='BEM1']['gene-target-name']"
   ]
  },
  {
   "cell_type": "code",
   "execution_count": 35,
   "metadata": {
    "execution": {
     "iopub.execute_input": "2020-08-13T07:28:27.204397Z",
     "iopub.status.busy": "2020-08-13T07:28:27.203817Z",
     "iopub.status.idle": "2020-08-13T07:28:27.209781Z",
     "shell.execute_reply": "2020-08-13T07:28:27.209241Z"
    }
   },
   "outputs": [
    {
     "data": {
      "text/plain": [
       "2846      BEM2\n",
       "2847     CDC24\n",
       "5004      MSB1\n",
       "13777     SMI1\n",
       "13778     BNI1\n",
       "13779     BEM2\n",
       "14385     SKN7\n",
       "Name: gene-target-name, dtype: object"
      ]
     },
     "execution_count": 35,
     "metadata": {},
     "output_type": "execute_result"
    }
   ],
   "source": [
    "sl_bem1"
   ]
  },
  {
   "cell_type": "code",
   "execution_count": 36,
   "metadata": {
    "execution": {
     "iopub.execute_input": "2020-08-13T07:28:27.224083Z",
     "iopub.status.busy": "2020-08-13T07:28:27.223568Z",
     "iopub.status.idle": "2020-08-13T07:28:27.226349Z",
     "shell.execute_reply": "2020-08-13T07:28:27.226750Z"
    }
   },
   "outputs": [
    {
     "data": {
      "text/html": [
       "<div>\n",
       "<style scoped>\n",
       "    .dataframe tbody tr th:only-of-type {\n",
       "        vertical-align: middle;\n",
       "    }\n",
       "\n",
       "    .dataframe tbody tr th {\n",
       "        vertical-align: top;\n",
       "    }\n",
       "\n",
       "    .dataframe thead th {\n",
       "        text-align: right;\n",
       "    }\n",
       "</style>\n",
       "<table border=\"1\" class=\"dataframe\">\n",
       "  <thead>\n",
       "    <tr style=\"text-align: right;\">\n",
       "      <th></th>\n",
       "      <th>gene-query</th>\n",
       "      <th>gene-target</th>\n",
       "      <th>gene-query-name</th>\n",
       "      <th>gene-target-name</th>\n",
       "      <th>gene-query-description</th>\n",
       "      <th>gene-target-description</th>\n",
       "      <th>interaction-type</th>\n",
       "      <th>paper-source</th>\n",
       "    </tr>\n",
       "  </thead>\n",
       "  <tbody>\n",
       "    <tr>\n",
       "      <th>2846</th>\n",
       "      <td>YBR200W</td>\n",
       "      <td>YER155C</td>\n",
       "      <td>BEM1</td>\n",
       "      <td>BEM2</td>\n",
       "      <td>SRO1|phosphatidylinositol-3-phosphate-binding ...</td>\n",
       "      <td>IPL2|SUP9|TSL1|L000000168</td>\n",
       "      <td>Synthetic Lethality</td>\n",
       "      <td>Peterson J (1994)</td>\n",
       "    </tr>\n",
       "    <tr>\n",
       "      <th>2847</th>\n",
       "      <td>YBR200W</td>\n",
       "      <td>YAL041W</td>\n",
       "      <td>BEM1</td>\n",
       "      <td>CDC24</td>\n",
       "      <td>SRO1|phosphatidylinositol-3-phosphate-binding ...</td>\n",
       "      <td>CLS4|Rho family guanine nucleotide exchange fa...</td>\n",
       "      <td>Synthetic Lethality</td>\n",
       "      <td>Peterson J (1994)</td>\n",
       "    </tr>\n",
       "    <tr>\n",
       "      <th>5004</th>\n",
       "      <td>YBR200W</td>\n",
       "      <td>YOR188W</td>\n",
       "      <td>BEM1</td>\n",
       "      <td>MSB1</td>\n",
       "      <td>SRO1|phosphatidylinositol-3-phosphate-binding ...</td>\n",
       "      <td>L000001184</td>\n",
       "      <td>Synthetic Lethality</td>\n",
       "      <td>Bender A (1991)</td>\n",
       "    </tr>\n",
       "    <tr>\n",
       "      <th>13777</th>\n",
       "      <td>YBR200W</td>\n",
       "      <td>YGR229C</td>\n",
       "      <td>BEM1</td>\n",
       "      <td>SMI1</td>\n",
       "      <td>SRO1|phosphatidylinositol-3-phosphate-binding ...</td>\n",
       "      <td>KNR4|L000000909</td>\n",
       "      <td>Synthetic Lethality</td>\n",
       "      <td>Gorelik M (2011)</td>\n",
       "    </tr>\n",
       "    <tr>\n",
       "      <th>13778</th>\n",
       "      <td>YBR200W</td>\n",
       "      <td>YNL271C</td>\n",
       "      <td>BEM1</td>\n",
       "      <td>BNI1</td>\n",
       "      <td>SRO1|phosphatidylinositol-3-phosphate-binding ...</td>\n",
       "      <td>PPF3|SHE5|formin BNI1|L000000190</td>\n",
       "      <td>Synthetic Lethality</td>\n",
       "      <td>Gorelik M (2011)</td>\n",
       "    </tr>\n",
       "    <tr>\n",
       "      <th>13779</th>\n",
       "      <td>YBR200W</td>\n",
       "      <td>YER155C</td>\n",
       "      <td>BEM1</td>\n",
       "      <td>BEM2</td>\n",
       "      <td>SRO1|phosphatidylinositol-3-phosphate-binding ...</td>\n",
       "      <td>IPL2|SUP9|TSL1|L000000168</td>\n",
       "      <td>Synthetic Lethality</td>\n",
       "      <td>Gorelik M (2011)</td>\n",
       "    </tr>\n",
       "    <tr>\n",
       "      <th>14385</th>\n",
       "      <td>YBR200W</td>\n",
       "      <td>YHR206W</td>\n",
       "      <td>BEM1</td>\n",
       "      <td>SKN7</td>\n",
       "      <td>SRO1|phosphatidylinositol-3-phosphate-binding ...</td>\n",
       "      <td>BRY1|POS9|kinase-regulated stress-responsive t...</td>\n",
       "      <td>Dosage Lethality</td>\n",
       "      <td>Bouquin N (1999)</td>\n",
       "    </tr>\n",
       "  </tbody>\n",
       "</table>\n",
       "</div>"
      ],
      "text/plain": [
       "      gene-query gene-target gene-query-name gene-target-name  \\\n",
       "2846     YBR200W     YER155C            BEM1             BEM2   \n",
       "2847     YBR200W     YAL041W            BEM1            CDC24   \n",
       "5004     YBR200W     YOR188W            BEM1             MSB1   \n",
       "13777    YBR200W     YGR229C            BEM1             SMI1   \n",
       "13778    YBR200W     YNL271C            BEM1             BNI1   \n",
       "13779    YBR200W     YER155C            BEM1             BEM2   \n",
       "14385    YBR200W     YHR206W            BEM1             SKN7   \n",
       "\n",
       "                                  gene-query-description  \\\n",
       "2846   SRO1|phosphatidylinositol-3-phosphate-binding ...   \n",
       "2847   SRO1|phosphatidylinositol-3-phosphate-binding ...   \n",
       "5004   SRO1|phosphatidylinositol-3-phosphate-binding ...   \n",
       "13777  SRO1|phosphatidylinositol-3-phosphate-binding ...   \n",
       "13778  SRO1|phosphatidylinositol-3-phosphate-binding ...   \n",
       "13779  SRO1|phosphatidylinositol-3-phosphate-binding ...   \n",
       "14385  SRO1|phosphatidylinositol-3-phosphate-binding ...   \n",
       "\n",
       "                                 gene-target-description     interaction-type  \\\n",
       "2846                           IPL2|SUP9|TSL1|L000000168  Synthetic Lethality   \n",
       "2847   CLS4|Rho family guanine nucleotide exchange fa...  Synthetic Lethality   \n",
       "5004                                          L000001184  Synthetic Lethality   \n",
       "13777                                    KNR4|L000000909  Synthetic Lethality   \n",
       "13778                   PPF3|SHE5|formin BNI1|L000000190  Synthetic Lethality   \n",
       "13779                          IPL2|SUP9|TSL1|L000000168  Synthetic Lethality   \n",
       "14385  BRY1|POS9|kinase-regulated stress-responsive t...     Dosage Lethality   \n",
       "\n",
       "            paper-source  \n",
       "2846   Peterson J (1994)  \n",
       "2847   Peterson J (1994)  \n",
       "5004     Bender A (1991)  \n",
       "13777   Gorelik M (2011)  \n",
       "13778   Gorelik M (2011)  \n",
       "13779   Gorelik M (2011)  \n",
       "14385   Bouquin N (1999)  "
      ]
     },
     "execution_count": 36,
     "metadata": {},
     "output_type": "execute_result"
    }
   ],
   "source": [
    "data_sl[data_sl['gene-query-name']=='BEM1']"
   ]
  },
  {
   "cell_type": "code",
   "execution_count": null,
   "metadata": {},
   "outputs": [],
   "source": []
  }
 ],
 "metadata": {
  "jupytext": {
   "text_representation": {
    "extension": ".md",
    "format_name": "myst"
   }
  },
  "kernelspec": {
   "display_name": "Python 3",
   "language": "python",
   "name": "python3"
  },
  "language_info": {
   "codemirror_mode": {
    "name": "ipython",
    "version": 3
   },
   "file_extension": ".py",
   "mimetype": "text/x-python",
   "name": "python",
   "nbconvert_exporter": "python",
   "pygments_lexer": "ipython3",
   "version": "3.7.8"
  },
  "source_map": [
   10,
   18,
   29,
   36,
   57,
   66,
   98,
   101,
   105,
   128,
   131,
   135,
   139,
   145,
   178,
   184,
   188,
   206,
   210,
   218,
   222,
   225,
   229,
   234,
   238,
   244,
   248,
   253,
   257,
   267,
   269,
   273,
   306,
   311,
   313,
   317,
   328,
   330,
   334,
   344,
   348,
   358,
   360,
   364,
   381,
   388,
   394,
   400,
   407,
   412,
   419,
   424,
   428,
   432
  ]
 },
 "nbformat": 4,
 "nbformat_minor": 4
}