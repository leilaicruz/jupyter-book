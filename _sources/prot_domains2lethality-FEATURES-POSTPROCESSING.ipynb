{
 "cells": [
  {
   "cell_type": "markdown",
   "metadata": {},
   "source": [
    "# Feature postprocessing from paper.\n",
    "- Title:  \"Predicting yeast synthetic lethal genetic interactions using protein domains\"\n",
    "- Authors: Bo Li, Feng Luo,School of Computing,Clemson University,Clemson, SC, USA\n",
    "- e-mail: bol, luofeng@clemson.edu\n",
    "- year:2009"
   ]
  },
  {
   "cell_type": "code",
   "execution_count": 1,
   "metadata": {
    "execution": {
     "iopub.execute_input": "2020-07-23T13:44:40.384866Z",
     "iopub.status.busy": "2020-07-23T13:44:40.384308Z",
     "iopub.status.idle": "2020-07-23T13:44:41.204596Z",
     "shell.execute_reply": "2020-07-23T13:44:41.204020Z"
    }
   },
   "outputs": [],
   "source": [
    "import pandas as pd\n",
    "import numpy as np\n",
    "import matplotlib.pyplot as plt\n",
    "from collections import defaultdict \n",
    "import seaborn as sns\n",
    "import matplotlib.cm as cm\n",
    "import scipy as scipy\n",
    "import random"
   ]
  },
  {
   "cell_type": "markdown",
   "metadata": {
    "jupyter": {
     "source_hidden": true
    }
   },
   "source": [
    "### Importing datasets \n",
    "\n",
    "#### Link to the github repo where the datasets to be downloaded:\n",
    "[DOWNLOAD THE DATASETS HERE](https://github.com/leilaicruz/machine-learning-for-yeast/tree/dev_Leila/datasets-for-learning)"
   ]
  },
  {
   "cell_type": "code",
   "execution_count": 2,
   "metadata": {
    "execution": {
     "iopub.execute_input": "2020-07-23T13:44:41.211896Z",
     "iopub.status.busy": "2020-07-23T13:44:41.211244Z",
     "iopub.status.idle": "2020-07-23T13:44:49.628939Z",
     "shell.execute_reply": "2020-07-23T13:44:49.629426Z"
    }
   },
   "outputs": [],
   "source": [
    "import os\n",
    "script_dir = os.path.dirname('__file__') #<-- absolute dir the script is in\n",
    "rel_path_SL = \"datasets/data-synthetic-lethals.xlsx\"\n",
    "rel_path_nSL=\"datasets/data-positive-genetic.xlsx\"\n",
    "rel_path_domains=\"datasets/proteins-domains-from-Pfam.xlsx\"\n",
    "\n",
    "abs_file_path_SL = os.path.join(script_dir, rel_path_SL)\n",
    "abs_file_path_nSL = os.path.join(script_dir, rel_path_nSL)\n",
    "abs_file_path_domains = os.path.join(script_dir, rel_path_domains)\n",
    "\n",
    "# os.chdir('mini_book/docs/') #<-- for binder os.chdir('../')\n",
    "# os.chdir('../')\n",
    "my_path_sl= abs_file_path_SL\n",
    "my_path_non_sl=abs_file_path_nSL\n",
    "my_path_domains=abs_file_path_domains\n",
    "\n",
    "data_sl=pd.read_excel(my_path_sl,header=0)\n",
    "data_domains=pd.read_excel(my_path_domains,header=0,index_col='Unnamed: 0')\n",
    "data_domains=data_domains.dropna()\n",
    "data_nonsl=pd.read_excel(my_path_non_sl,header=0)"
   ]
  },
  {
   "cell_type": "markdown",
   "metadata": {},
   "source": [
    "## Building the feature matrix\n",
    "One matrix for true SL where each row is one pair of SL. Every raw will be a vector of 0,1 or 2 depending on the comparison with the domain list. For row i the jth element = 0 if the jth element of the domain list is not in neither protein A and B, 1, if it is in one of them and 2 if it is in both of them .\n",
    "\n",
    "### Building the list of proteins domains id per protein pair separately :\n",
    "- List of protein A: Search for the Sl/nSL database the query gene name and look in the protein domain database which protein domains id has each of those queries.\n",
    "- List of protein B: Search for the Sl/nSL database the target gene name of the previous query and look in the protein domain database which protein domains id has each of those target genes."
   ]
  },
  {
   "cell_type": "code",
   "execution_count": 3,
   "metadata": {
    "execution": {
     "iopub.execute_input": "2020-07-23T13:44:49.646300Z",
     "iopub.status.busy": "2020-07-23T13:44:49.645725Z",
     "iopub.status.idle": "2020-07-23T13:44:51.898616Z",
     "shell.execute_reply": "2020-07-23T13:44:51.897662Z"
    }
   },
   "outputs": [],
   "source": [
    "# Selecting the meaningful columns in the respective dataset\n",
    "domain_id_list=data_domains['domain-name']\n",
    "query_gene=data_sl['gene-query-name']\n",
    "target_gene=data_sl['gene-target-name']\n",
    "query_gene_nonlethal=data_nonsl['gene-query-name']\n",
    "target_gene_nonlethal=data_nonsl['gene-target-name']\n",
    "\n",
    "\n",
    "\n",
    "# Initialising the arrays\n",
    "protein_a_list=[]\n",
    "protein_b_list=[]\n",
    "protein_a_list_non=[]\n",
    "protein_b_list_non=[]\n",
    "\n",
    "population = np.arange(0,len(data_sl))\n",
    "\n",
    "# For loop for 10000 pairs sampled randomly from the SL/nSl pair list , and creating a big array of proteind domains id per protein pair\n",
    "\n",
    "for m in random.sample(list(population), 500):\n",
    "    protein_a=data_domains[data_domains['name']==query_gene[m]]\n",
    "    protein_b=data_domains[data_domains['name']==target_gene[m]]\n",
    "    protein_a_list.append(protein_a['domain-name'].tolist())\n",
    "    protein_b_list.append(protein_b['domain-name'].tolist())\n",
    "\n",
    "    protein_a_non=data_domains[data_domains['name']==query_gene_nonlethal[m]]\n",
    "    protein_b_non=data_domains[data_domains['name']==target_gene_nonlethal[m]]\n",
    "    protein_a_list_non.append(protein_a_non['domain-name'].tolist())\n",
    "    protein_b_list_non.append(protein_b_non['domain-name'].tolist())"
   ]
  },
  {
   "cell_type": "code",
   "execution_count": 4,
   "metadata": {
    "execution": {
     "iopub.execute_input": "2020-07-23T13:44:51.904116Z",
     "iopub.status.busy": "2020-07-23T13:44:51.903565Z",
     "iopub.status.idle": "2020-07-23T13:44:51.907687Z",
     "shell.execute_reply": "2020-07-23T13:44:51.907243Z"
    }
   },
   "outputs": [
    {
     "name": "stdout",
     "output_type": "stream",
     "text": [
      "We are going to analyze 500 protein pairs, out of 17871 SL protein pairs\n",
      "We are going to analyze 500 protein pairs, out of 43340 positive protein pairs\n"
     ]
    }
   ],
   "source": [
    "print('We are going to analyze',len((protein_a_list)) ,'protein pairs, out of',len(data_sl),'SL protein pairs')\n",
    "print('We are going to analyze',len((protein_a_list_non)) ,'protein pairs, out of',len(data_nonsl),'positive protein pairs')"
   ]
  },
  {
   "cell_type": "markdown",
   "metadata": {},
   "source": [
    "### Postprocessing #1:  Remove protein pairs from study if either protein in the pair does not contain any domain"
   ]
  },
  {
   "cell_type": "code",
   "execution_count": 5,
   "metadata": {
    "execution": {
     "iopub.execute_input": "2020-07-23T13:44:51.918863Z",
     "iopub.status.busy": "2020-07-23T13:44:51.917555Z",
     "iopub.status.idle": "2020-07-23T13:44:51.919498Z",
     "shell.execute_reply": "2020-07-23T13:44:51.919929Z"
    }
   },
   "outputs": [],
   "source": [
    "def remove_empty_domains(protein_list_search,protein_list_pair):\n",
    "    index=[]\n",
    "    for i in np.arange(0,len(protein_list_search)):\n",
    "        if protein_list_search[i]==[] or protein_list_pair[i]==[]:\n",
    "            index.append(i) ## index of empty values for the protein_a_list meaning they dont have any annotated domain\n",
    "\n",
    "    y=[x for x in np.arange(0,len(protein_list_search)) if x not in index] # a list with non empty values from protein_a list\n",
    "\n",
    "    protein_list_search_new=[]\n",
    "    protein_list_pair_new=[]\n",
    "    for i in y:\n",
    "        protein_list_search_new.append(protein_list_search[i])\n",
    "        protein_list_pair_new.append(protein_list_pair[i])\n",
    "    return protein_list_search_new,protein_list_pair_new\n",
    "\n",
    "## evaluating the function\n",
    "\n",
    "protein_a_list_new,protein_b_list_new=remove_empty_domains(protein_a_list,protein_b_list)\n",
    "\n",
    "protein_a_list_non_new,protein_b_list_non_new=remove_empty_domains(protein_a_list_non,protein_b_list_non)"
   ]
  },
  {
   "cell_type": "code",
   "execution_count": 6,
   "metadata": {
    "execution": {
     "iopub.execute_input": "2020-07-23T13:44:51.926110Z",
     "iopub.status.busy": "2020-07-23T13:44:51.925056Z",
     "iopub.status.idle": "2020-07-23T13:44:51.927866Z",
     "shell.execute_reply": "2020-07-23T13:44:51.927408Z"
    }
   },
   "outputs": [
    {
     "name": "stdout",
     "output_type": "stream",
     "text": [
      "The empty domain in the SL were: 88 out of 500 domains\n",
      "The empty domain in the nSL were: 86 out of 500 domains\n"
     ]
    }
   ],
   "source": [
    "print('The empty domain in the SL were:', len(protein_a_list)-len(protein_a_list_new), 'out of', len(protein_a_list),'domains')\n",
    "print('The empty domain in the nSL were:', len(protein_a_list_non)-len(protein_a_list_non_new), 'out of', len(protein_a_list_non),'domains')"
   ]
  },
  {
   "cell_type": "markdown",
   "metadata": {},
   "source": [
    "### Feature engineering: Select from each ordered indexes of domain id list which of them appear once, in both or in any of the domains of each protein pair"
   ]
  },
  {
   "cell_type": "markdown",
   "metadata": {},
   "source": [
    "#### Define function `get_indexes`"
   ]
  },
  {
   "cell_type": "code",
   "execution_count": 7,
   "metadata": {
    "execution": {
     "iopub.execute_input": "2020-07-23T13:44:51.936152Z",
     "iopub.status.busy": "2020-07-23T13:44:51.934678Z",
     "iopub.status.idle": "2020-07-23T13:44:51.938505Z",
     "shell.execute_reply": "2020-07-23T13:44:51.937982Z"
    }
   },
   "outputs": [
    {
     "data": {
      "text/plain": [
       "[1, 2]"
      ]
     },
     "execution_count": 7,
     "metadata": {},
     "output_type": "execute_result"
    }
   ],
   "source": [
    "get_indexes = lambda x, xs: [i for (y, i) in zip(xs, range(len(xs))) if x == y] # a function that give the index of whether a value appear in array or not\n",
    "a=[1,2,2,4,5,6,7,8,9,10]\n",
    "get_indexes(2,a)"
   ]
  },
  {
   "cell_type": "code",
   "execution_count": 8,
   "metadata": {
    "execution": {
     "iopub.execute_input": "2020-07-23T13:44:51.949052Z",
     "iopub.status.busy": "2020-07-23T13:44:51.947702Z",
     "iopub.status.idle": "2020-07-23T13:44:51.949654Z",
     "shell.execute_reply": "2020-07-23T13:44:51.950082Z"
    }
   },
   "outputs": [],
   "source": [
    "def feature_building(protein_a_list_new,protein_b_list_new):\n",
    "    x = np.unique(domain_id_list)\n",
    "    ## To avoid taking repeated domains from one protein of the pairs , lets reduced the domains of each protein from the pairs to their unique members\n",
    "    protein_a_list_unique=[]\n",
    "    protein_b_list_unique=[]\n",
    "    for i in np.arange(0,len(protein_a_list_new)):\n",
    "        protein_a_list_unique.append(np.unique(protein_a_list_new[i]))\n",
    "        protein_b_list_unique.append(np.unique(protein_b_list_new[i]))\n",
    "        \n",
    "    protein_feat_true=np.zeros(shape=(len(x),len(protein_a_list_unique)))\n",
    "    pair_a_b_array=[]\n",
    "    for i in np.arange(0,len(protein_a_list_unique)):\n",
    "        index_a=[]\n",
    "        \n",
    "        pair=[protein_a_list_unique[i],protein_b_list_unique[i]]\n",
    "        pair_a_b=np.concatenate(pair).ravel()\n",
    "        pair_a_b_array.append(pair_a_b)\n",
    "\n",
    "    j=0\n",
    "    for i in pair_a_b_array:  \n",
    "        array,index,counts=np.unique(i,return_index=True,return_counts=True)\n",
    "        \n",
    "        for k,m in zip(counts,array):\n",
    "            if k ==2:\n",
    "                protein_feat_true[get_indexes(m,x),j]=2\n",
    "                \n",
    "            if k==1:\n",
    "                protein_feat_true[get_indexes(m,x),j]=1\n",
    "        j=j+1\n",
    "    return protein_feat_true"
   ]
  },
  {
   "cell_type": "code",
   "execution_count": 9,
   "metadata": {
    "execution": {
     "iopub.execute_input": "2020-07-23T13:44:51.959294Z",
     "iopub.status.busy": "2020-07-23T13:44:51.958739Z",
     "iopub.status.idle": "2020-07-23T13:44:52.655625Z",
     "shell.execute_reply": "2020-07-23T13:44:52.655042Z"
    }
   },
   "outputs": [],
   "source": [
    "protein_feat_true=feature_building(protein_b_list_new=protein_b_list_new,protein_a_list_new=protein_a_list_new)\n",
    "protein_feat_true_pd=pd.DataFrame(protein_feat_true.T)\n",
    "\n",
    "protein_feat_non_true=feature_building(protein_b_list_new=protein_b_list_non_new,protein_a_list_new=protein_a_list_non_new)\n",
    "protein_feat_non_true_pd=pd.DataFrame(protein_feat_non_true.T)"
   ]
  },
  {
   "cell_type": "markdown",
   "metadata": {},
   "source": [
    "### How many ones and twos are in each dataset"
   ]
  },
  {
   "cell_type": "code",
   "execution_count": 10,
   "metadata": {
    "execution": {
     "iopub.execute_input": "2020-07-23T13:44:52.664114Z",
     "iopub.status.busy": "2020-07-23T13:44:52.663554Z",
     "iopub.status.idle": "2020-07-23T13:44:52.773102Z",
     "shell.execute_reply": "2020-07-23T13:44:52.772600Z"
    }
   },
   "outputs": [
    {
     "name": "stdout",
     "output_type": "stream",
     "text": [
      "fraction of twos in the SL array is 2.3268875872582844e-05\n",
      "fraction of ones in the SL array is 0.0009885260370697264\n",
      "fraction of twos in the PI array is 7.984988222142372e-06\n",
      "fraction of ones in the PI array is 0.0009446241066794427\n"
     ]
    }
   ],
   "source": [
    "index_2_true=protein_feat_true_pd.where(protein_feat_true_pd==2)\n",
    "index_2_true_count=index_2_true.count(axis=1).sum()\n",
    "\n",
    "index_1_true=protein_feat_true_pd.where(protein_feat_true_pd==1)\n",
    "index_1_true_count=index_1_true.count(axis=1).sum()\n",
    "\n",
    "index_2_nontrue=protein_feat_non_true_pd.where(protein_feat_non_true_pd==2)\n",
    "index_2_nontrue_count=index_2_nontrue.count(axis=1).sum()\n",
    "\n",
    "index_1_nontrue=protein_feat_non_true_pd.where(protein_feat_non_true_pd==1)\n",
    "index_1_nontrue_count=index_1_nontrue.count(axis=1).sum()\n",
    "\n",
    "\n",
    "print('fraction of twos in the SL array is',index_2_true_count/(len(protein_feat_true_pd.index)*len(protein_feat_true_pd.columns)))\n",
    "print('fraction of ones in the SL array is',index_1_true_count/(len(protein_feat_true_pd.index)*len(protein_feat_true_pd.columns)))\n",
    "print('fraction of twos in the PI array is',index_2_nontrue_count/(len(protein_feat_non_true_pd.index)*len(protein_feat_non_true_pd.columns)))\n",
    "print('fraction of ones in the PI array is',index_1_nontrue_count/(len(protein_feat_non_true_pd.index)*len(protein_feat_non_true_pd.columns)))"
   ]
  },
  {
   "cell_type": "markdown",
   "metadata": {},
   "source": [
    "#### Bar plot to visualize these numbers"
   ]
  },
  {
   "cell_type": "code",
   "execution_count": 11,
   "metadata": {
    "execution": {
     "iopub.execute_input": "2020-07-23T13:44:52.794209Z",
     "iopub.status.busy": "2020-07-23T13:44:52.780519Z",
     "iopub.status.idle": "2020-07-23T13:44:53.302490Z",
     "shell.execute_reply": "2020-07-23T13:44:53.301968Z"
    }
   },
   "outputs": [
    {
     "data": {
      "text/plain": [
       "([0, 1, 2, 3],\n",
       " [Text(0, 0, ''), Text(0, 0, ''), Text(0, 0, ''), Text(0, 0, '')])"
      ]
     },
     "execution_count": 11,
     "metadata": {},
     "output_type": "execute_result"
    },
    {
     "data": {
      "image/png": "[encoded data removed]",
      "text/plain": [
       "<Figure size 432x288 with 1 Axes>"
      ]
     },
     "metadata": {
      "filenames": {
       "image/png": "/home/runner/work/jupyter-book/jupyter-book/mini_book/docs/_build/jupyter_execute/prot_domains2lethality-FEATURES-POSTPROCESSING_18_1.png"
      },
      "needs_background": "light"
     },
     "output_type": "display_data"
    }
   ],
   "source": [
    "plt.bar(['fraction of 2 in the nSL','fraction of 1 in the nSL'],[index_2_nontrue_count/(len(protein_feat_non_true_pd.index)*len(protein_feat_non_true_pd.columns)),index_1_nontrue_count/(len(protein_feat_non_true_pd.index)*len(protein_feat_non_true_pd.columns))],alpha=0.6,color=['blue','lightblue']), \n",
    "\n",
    "plt.bar(['fraction of 2 in SL ','fraction of 1 in SL'],[index_2_true_count/(len(protein_feat_true_pd.index)*len(protein_feat_true_pd.columns)),index_1_true_count/(len(protein_feat_true_pd.index)*len(protein_feat_true_pd.columns))],alpha=0.6,color=['coral','lightcoral'])\n",
    "\n",
    "plt.ylabel('Fraction from the population')\n",
    "plt.yscale('log')\n",
    "plt.xticks(rotation=40)"
   ]
  },
  {
   "cell_type": "markdown",
   "metadata": {},
   "source": [
    "#### Adding the labels(response variables) to each dataset"
   ]
  },
  {
   "cell_type": "code",
   "execution_count": 12,
   "metadata": {
    "execution": {
     "iopub.execute_input": "2020-07-23T13:44:53.308917Z",
     "iopub.status.busy": "2020-07-23T13:44:53.307930Z",
     "iopub.status.idle": "2020-07-23T13:44:53.311453Z",
     "shell.execute_reply": "2020-07-23T13:44:53.310982Z"
    }
   },
   "outputs": [],
   "source": [
    "protein_feat_true_pd['lethality']=np.ones(shape=(len(protein_a_list_new)))\n",
    "protein_feat_non_true_pd['lethality']=np.zeros(shape=(len(protein_a_list_non_new)))"
   ]
  },
  {
   "cell_type": "markdown",
   "metadata": {},
   "source": [
    "#### Joining both datasets"
   ]
  },
  {
   "cell_type": "code",
   "execution_count": 13,
   "metadata": {
    "execution": {
     "iopub.execute_input": "2020-07-23T13:44:53.316338Z",
     "iopub.status.busy": "2020-07-23T13:44:53.315807Z",
     "iopub.status.idle": "2020-07-23T13:44:53.351970Z",
     "shell.execute_reply": "2020-07-23T13:44:53.352412Z"
    }
   },
   "outputs": [
    {
     "name": "stdout",
     "output_type": "stream",
     "text": [
      "The number of features are: 3026\n",
      "The number of samples are: 826\n"
     ]
    }
   ],
   "source": [
    "feature_post=pd.concat([protein_feat_true_pd,protein_feat_non_true_pd],axis=0)\n",
    "feature_post=feature_post.set_index(np.arange(0,len(protein_a_list_new)+len(protein_a_list_non_new)))\n",
    "print('The number of features are:',feature_post.shape[1])\n",
    "print('The number of samples are:',feature_post.shape[0])"
   ]
  },
  {
   "cell_type": "markdown",
   "metadata": {},
   "source": [
    "### Postprocessing and exploration of the feature matrix of both datasets"
   ]
  },
  {
   "cell_type": "code",
   "execution_count": 14,
   "metadata": {
    "execution": {
     "iopub.execute_input": "2020-07-23T13:44:53.369685Z",
     "iopub.status.busy": "2020-07-23T13:44:53.369104Z",
     "iopub.status.idle": "2020-07-23T13:44:57.601049Z",
     "shell.execute_reply": "2020-07-23T13:44:57.600522Z"
    }
   },
   "outputs": [],
   "source": [
    "mean=feature_post.T.describe().loc['mean']\n",
    "std=feature_post.T.describe().loc['std']\n",
    "lethality=feature_post['lethality']\n",
    "\n",
    "corr_keys=pd.concat([mean,std,lethality],axis=1)"
   ]
  },
  {
   "cell_type": "markdown",
   "metadata": {},
   "source": [
    "### Viz of the stats"
   ]
  },
  {
   "cell_type": "code",
   "execution_count": 15,
   "metadata": {
    "execution": {
     "iopub.execute_input": "2020-07-23T13:44:57.622589Z",
     "iopub.status.busy": "2020-07-23T13:44:57.620732Z",
     "iopub.status.idle": "2020-07-23T13:44:59.030550Z",
     "shell.execute_reply": "2020-07-23T13:44:59.029477Z"
    }
   },
   "outputs": [
    {
     "data": {
      "text/plain": [
       "Text(0.5, 1.08, 'Pairplot to see data dependencies with Lethality')"
      ]
     },
     "execution_count": 15,
     "metadata": {},
     "output_type": "execute_result"
    },
    {
     "data": {
      "image/png": "[encoded data removed]",
      "text/plain": [
       "<Figure size 412x360 with 6 Axes>"
      ]
     },
     "metadata": {
      "filenames": {
       "image/png": "/home/runner/work/jupyter-book/jupyter-book/mini_book/docs/_build/jupyter_execute/prot_domains2lethality-FEATURES-POSTPROCESSING_26_1.png"
      },
      "needs_background": "light"
     },
     "output_type": "display_data"
    }
   ],
   "source": [
    "pair=sns.pairplot(corr_keys,hue='lethality',diag_kind='kde',kind='reg',palette='colorblind')\n",
    "pair.fig.suptitle('Pairplot to see data dependencies with Lethality',y=1.08)"
   ]
  },
  {
   "cell_type": "code",
   "execution_count": 16,
   "metadata": {
    "execution": {
     "iopub.execute_input": "2020-07-23T13:44:59.040267Z",
     "iopub.status.busy": "2020-07-23T13:44:59.034451Z",
     "iopub.status.idle": "2020-07-23T13:44:59.044091Z",
     "shell.execute_reply": "2020-07-23T13:44:59.044527Z"
    }
   },
   "outputs": [],
   "source": [
    "X, y = feature_post.drop(columns=[\"lethality\"]), feature_post[\"lethality\"]"
   ]
  },
  {
   "cell_type": "code",
   "execution_count": 17,
   "metadata": {
    "execution": {
     "iopub.execute_input": "2020-07-23T13:44:59.050849Z",
     "iopub.status.busy": "2020-07-23T13:44:59.049564Z",
     "iopub.status.idle": "2020-07-23T13:44:59.217983Z",
     "shell.execute_reply": "2020-07-23T13:44:59.218472Z"
    }
   },
   "outputs": [],
   "source": [
    "from sklearn.preprocessing import StandardScaler\n",
    "scaler = StandardScaler()\n",
    "x_sl=protein_feat_true_pd.drop(columns=['lethality'])\n",
    "x_nsl=protein_feat_non_true_pd.drop(columns=['lethality'])\n",
    "\n",
    "X_sl_scaled = scaler.fit_transform(x_sl)\n",
    "X_nsl_scaled = scaler.fit_transform(x_nsl)"
   ]
  },
  {
   "cell_type": "code",
   "execution_count": 18,
   "metadata": {
    "execution": {
     "iopub.execute_input": "2020-07-23T13:44:59.223383Z",
     "iopub.status.busy": "2020-07-23T13:44:59.222811Z",
     "iopub.status.idle": "2020-07-23T13:44:59.227940Z",
     "shell.execute_reply": "2020-07-23T13:44:59.228378Z"
    }
   },
   "outputs": [
    {
     "data": {
      "text/plain": [
       "(412, 3025)"
      ]
     },
     "execution_count": 18,
     "metadata": {},
     "output_type": "execute_result"
    }
   ],
   "source": [
    "np.shape(X_sl_scaled)"
   ]
  },
  {
   "cell_type": "markdown",
   "metadata": {},
   "source": [
    "## How redundant are each of the protein domains?"
   ]
  },
  {
   "cell_type": "code",
   "execution_count": 19,
   "metadata": {
    "execution": {
     "iopub.execute_input": "2020-07-23T13:44:59.236246Z",
     "iopub.status.busy": "2020-07-23T13:44:59.235584Z",
     "iopub.status.idle": "2020-07-23T13:44:59.239445Z",
     "shell.execute_reply": "2020-07-23T13:44:59.238964Z"
    }
   },
   "outputs": [],
   "source": [
    "def PCA_component_contribution(scaled_matrix,original_data):\n",
    "    from sklearn.decomposition import PCA\n",
    "\n",
    "    model = PCA(0.95).fit(scaled_matrix)\n",
    "    ## apply dimensionality reduction to X_train\n",
    "    output_pca = model.transform(scaled_matrix)\n",
    "    \n",
    "    total=sum(model.explained_variance_)\n",
    "\n",
    "\n",
    "   \n",
    "    # number of components , that it will be the number of main axes times the number of original components \n",
    "    n_pcs= model.components_.shape[0] # the amount of non redundant protein domains \n",
    "\n",
    "    # get the index of the most important feature on EACH component\n",
    "    # LIST COMPREHENSION HERE\n",
    "    most_important = [np.abs(model.components_[i]).argmax() for i in range(n_pcs)]\n",
    "\n",
    "    initial_feature_names = original_data.columns\n",
    "    # get the names\n",
    "    most_important_names = [initial_feature_names[most_important[i]] for i in range(n_pcs)]\n",
    "    \n",
    "\n",
    "    # LIST COMPREHENSION HERE AGAIN\n",
    "    dic = {'PC{}'.format(i): most_important_names[i] for i in range(n_pcs)}\n",
    "\n",
    "    # build the dataframe\n",
    "    df = pd.DataFrame(dic.items(),columns=['pca-component','domain-number'])\n",
    "\n",
    "    return df,model.components_"
   ]
  },
  {
   "cell_type": "code",
   "execution_count": 20,
   "metadata": {
    "execution": {
     "iopub.execute_input": "2020-07-23T13:44:59.243907Z",
     "iopub.status.busy": "2020-07-23T13:44:59.242840Z",
     "iopub.status.idle": "2020-07-23T13:44:59.845766Z",
     "shell.execute_reply": "2020-07-23T13:44:59.846582Z"
    }
   },
   "outputs": [],
   "source": [
    "df_sl,components_pca_nsl=PCA_component_contribution(X_nsl_scaled,x_nsl)\n",
    "df_nsl,components_pca_sl=PCA_component_contribution(X_sl_scaled,x_sl)"
   ]
  },
  {
   "cell_type": "code",
   "execution_count": 21,
   "metadata": {
    "execution": {
     "iopub.execute_input": "2020-07-23T13:44:59.849925Z",
     "iopub.status.busy": "2020-07-23T13:44:59.848770Z",
     "iopub.status.idle": "2020-07-23T13:44:59.859585Z",
     "shell.execute_reply": "2020-07-23T13:44:59.860342Z"
    }
   },
   "outputs": [
    {
     "data": {
      "text/html": [
       "<div>\n",
       "<style scoped>\n",
       "    .dataframe tbody tr th:only-of-type {\n",
       "        vertical-align: middle;\n",
       "    }\n",
       "\n",
       "    .dataframe tbody tr th {\n",
       "        vertical-align: top;\n",
       "    }\n",
       "\n",
       "    .dataframe thead th {\n",
       "        text-align: right;\n",
       "    }\n",
       "</style>\n",
       "<table border=\"1\" class=\"dataframe\">\n",
       "  <thead>\n",
       "    <tr style=\"text-align: right;\">\n",
       "      <th></th>\n",
       "      <th>pca-component</th>\n",
       "      <th>domain-number</th>\n",
       "    </tr>\n",
       "  </thead>\n",
       "  <tbody>\n",
       "    <tr>\n",
       "      <th>0</th>\n",
       "      <td>PC0</td>\n",
       "      <td>305</td>\n",
       "    </tr>\n",
       "    <tr>\n",
       "      <th>1</th>\n",
       "      <td>PC1</td>\n",
       "      <td>142</td>\n",
       "    </tr>\n",
       "    <tr>\n",
       "      <th>2</th>\n",
       "      <td>PC2</td>\n",
       "      <td>2771</td>\n",
       "    </tr>\n",
       "    <tr>\n",
       "      <th>3</th>\n",
       "      <td>PC3</td>\n",
       "      <td>135</td>\n",
       "    </tr>\n",
       "    <tr>\n",
       "      <th>4</th>\n",
       "      <td>PC4</td>\n",
       "      <td>423</td>\n",
       "    </tr>\n",
       "  </tbody>\n",
       "</table>\n",
       "</div>"
      ],
      "text/plain": [
       "  pca-component  domain-number\n",
       "0           PC0            305\n",
       "1           PC1            142\n",
       "2           PC2           2771\n",
       "3           PC3            135\n",
       "4           PC4            423"
      ]
     },
     "execution_count": 21,
     "metadata": {},
     "output_type": "execute_result"
    }
   ],
   "source": [
    "df_sl.head()"
   ]
  },
  {
   "cell_type": "markdown",
   "metadata": {},
   "source": [
    "## which are the shared domains between nSL and SL pairs , in the PCA reduced samples"
   ]
  },
  {
   "cell_type": "code",
   "execution_count": 22,
   "metadata": {
    "execution": {
     "iopub.execute_input": "2020-07-23T13:44:59.863539Z",
     "iopub.status.busy": "2020-07-23T13:44:59.862463Z",
     "iopub.status.idle": "2020-07-23T13:44:59.897305Z",
     "shell.execute_reply": "2020-07-23T13:44:59.898073Z"
    }
   },
   "outputs": [
    {
     "data": {
      "text/html": [
       "<div>\n",
       "<style scoped>\n",
       "    .dataframe tbody tr th:only-of-type {\n",
       "        vertical-align: middle;\n",
       "    }\n",
       "\n",
       "    .dataframe tbody tr th {\n",
       "        vertical-align: top;\n",
       "    }\n",
       "\n",
       "    .dataframe thead th {\n",
       "        text-align: right;\n",
       "    }\n",
       "</style>\n",
       "<table border=\"1\" class=\"dataframe\">\n",
       "  <thead>\n",
       "    <tr style=\"text-align: right;\">\n",
       "      <th></th>\n",
       "      <th>pca-component_x</th>\n",
       "      <th>domain-number</th>\n",
       "      <th>pca-component_y</th>\n",
       "      <th>domain-description</th>\n",
       "    </tr>\n",
       "  </thead>\n",
       "  <tbody>\n",
       "    <tr>\n",
       "      <th>0</th>\n",
       "      <td>PC9</td>\n",
       "      <td>55</td>\n",
       "      <td>PC94</td>\n",
       "      <td>ADK</td>\n",
       "    </tr>\n",
       "    <tr>\n",
       "      <th>1</th>\n",
       "      <td>PC10</td>\n",
       "      <td>488</td>\n",
       "      <td>PC34</td>\n",
       "      <td>Cnd1_N; Condensin complex subunit 1, N-terminal</td>\n",
       "    </tr>\n",
       "    <tr>\n",
       "      <th>2</th>\n",
       "      <td>PC11</td>\n",
       "      <td>3</td>\n",
       "      <td>PC4</td>\n",
       "      <td>2-Hacid_dh_C; D-isomer specific 2-hydroxyacid ...</td>\n",
       "    </tr>\n",
       "    <tr>\n",
       "      <th>3</th>\n",
       "      <td>PC24</td>\n",
       "      <td>87</td>\n",
       "      <td>PC77</td>\n",
       "      <td>ANAPC4_WD40; Anaphase-promoting complex subuni...</td>\n",
       "    </tr>\n",
       "    <tr>\n",
       "      <th>4</th>\n",
       "      <td>PC28</td>\n",
       "      <td>300</td>\n",
       "      <td>PC48</td>\n",
       "      <td>BolA; BolA protein</td>\n",
       "    </tr>\n",
       "    <tr>\n",
       "      <th>5</th>\n",
       "      <td>PC33</td>\n",
       "      <td>2113</td>\n",
       "      <td>PC3</td>\n",
       "      <td>Rav1p_C; RAVE complex protein Rav1 C-terminal</td>\n",
       "    </tr>\n",
       "    <tr>\n",
       "      <th>6</th>\n",
       "      <td>PC35</td>\n",
       "      <td>773</td>\n",
       "      <td>PC44</td>\n",
       "      <td>Dynein_light; Dynein light chain, type 1/2</td>\n",
       "    </tr>\n",
       "    <tr>\n",
       "      <th>7</th>\n",
       "      <td>PC36</td>\n",
       "      <td>629</td>\n",
       "      <td>PC113</td>\n",
       "      <td>DSHCT; ATP-dependent RNA helicase Ski2, C-term...</td>\n",
       "    </tr>\n",
       "    <tr>\n",
       "      <th>8</th>\n",
       "      <td>PC42</td>\n",
       "      <td>2427</td>\n",
       "      <td>PC74</td>\n",
       "      <td>Scramblase</td>\n",
       "    </tr>\n",
       "    <tr>\n",
       "      <th>9</th>\n",
       "      <td>PC54</td>\n",
       "      <td>410</td>\n",
       "      <td>PC62</td>\n",
       "      <td>CRAL_TRIO; CRAL-TRIO lipid binding domain</td>\n",
       "    </tr>\n",
       "    <tr>\n",
       "      <th>10</th>\n",
       "      <td>PC60</td>\n",
       "      <td>2388</td>\n",
       "      <td>PC95</td>\n",
       "      <td>SRP72; Signal recognition particle, SRP72 subu...</td>\n",
       "    </tr>\n",
       "    <tr>\n",
       "      <th>11</th>\n",
       "      <td>PC71</td>\n",
       "      <td>440</td>\n",
       "      <td>PC102</td>\n",
       "      <td>Candida_ALS_N; Agglutinin-like protein, N-term...</td>\n",
       "    </tr>\n",
       "    <tr>\n",
       "      <th>12</th>\n",
       "      <td>PC72</td>\n",
       "      <td>440</td>\n",
       "      <td>PC102</td>\n",
       "      <td>Candida_ALS_N; Agglutinin-like protein, N-term...</td>\n",
       "    </tr>\n",
       "    <tr>\n",
       "      <th>13</th>\n",
       "      <td>PC73</td>\n",
       "      <td>299</td>\n",
       "      <td>PC222</td>\n",
       "      <td>Bmt2; 25S rRNA (adenine(2142)-N(1))-methyltran...</td>\n",
       "    </tr>\n",
       "    <tr>\n",
       "      <th>14</th>\n",
       "      <td>PC75</td>\n",
       "      <td>983</td>\n",
       "      <td>PC13</td>\n",
       "      <td>GHMP_kinases_N; GHMP kinase N-terminal domain</td>\n",
       "    </tr>\n",
       "    <tr>\n",
       "      <th>15</th>\n",
       "      <td>PC75</td>\n",
       "      <td>983</td>\n",
       "      <td>PC16</td>\n",
       "      <td>GHMP_kinases_N; GHMP kinase N-terminal domain</td>\n",
       "    </tr>\n",
       "    <tr>\n",
       "      <th>16</th>\n",
       "      <td>PC86</td>\n",
       "      <td>754</td>\n",
       "      <td>PC43</td>\n",
       "      <td>Diphthamide_syn; Diphthamide synthesis DPH1/DPH2</td>\n",
       "    </tr>\n",
       "    <tr>\n",
       "      <th>17</th>\n",
       "      <td>PC99</td>\n",
       "      <td>1733</td>\n",
       "      <td>PC139</td>\n",
       "      <td>PGAP1; GPI inositol-deacylase PGAP1-like</td>\n",
       "    </tr>\n",
       "    <tr>\n",
       "      <th>18</th>\n",
       "      <td>PC99</td>\n",
       "      <td>1733</td>\n",
       "      <td>PC182</td>\n",
       "      <td>PGAP1; GPI inositol-deacylase PGAP1-like</td>\n",
       "    </tr>\n",
       "    <tr>\n",
       "      <th>19</th>\n",
       "      <td>PC106</td>\n",
       "      <td>2150</td>\n",
       "      <td>PC112</td>\n",
       "      <td>Ribosom_S12_S23; Ribosomal protein S12/S23</td>\n",
       "    </tr>\n",
       "    <tr>\n",
       "      <th>20</th>\n",
       "      <td>PC108</td>\n",
       "      <td>365</td>\n",
       "      <td>PC132</td>\n",
       "      <td>CLU; CLU domain</td>\n",
       "    </tr>\n",
       "    <tr>\n",
       "      <th>21</th>\n",
       "      <td>PC123</td>\n",
       "      <td>1294</td>\n",
       "      <td>PC151</td>\n",
       "      <td>LIAS_N; Lipoyl synthase, N-terminal</td>\n",
       "    </tr>\n",
       "    <tr>\n",
       "      <th>22</th>\n",
       "      <td>PC125</td>\n",
       "      <td>1294</td>\n",
       "      <td>PC151</td>\n",
       "      <td>LIAS_N; Lipoyl synthase, N-terminal</td>\n",
       "    </tr>\n",
       "    <tr>\n",
       "      <th>23</th>\n",
       "      <td>PC128</td>\n",
       "      <td>1015</td>\n",
       "      <td>PC253</td>\n",
       "      <td>GTP_cyclohydroI; GTP cyclohydrolase I domain</td>\n",
       "    </tr>\n",
       "    <tr>\n",
       "      <th>24</th>\n",
       "      <td>PC128</td>\n",
       "      <td>1015</td>\n",
       "      <td>PC255</td>\n",
       "      <td>GTP_cyclohydroI; GTP cyclohydrolase I domain</td>\n",
       "    </tr>\n",
       "    <tr>\n",
       "      <th>25</th>\n",
       "      <td>PC130</td>\n",
       "      <td>1015</td>\n",
       "      <td>PC253</td>\n",
       "      <td>GTP_cyclohydroI; GTP cyclohydrolase I domain</td>\n",
       "    </tr>\n",
       "    <tr>\n",
       "      <th>26</th>\n",
       "      <td>PC130</td>\n",
       "      <td>1015</td>\n",
       "      <td>PC255</td>\n",
       "      <td>GTP_cyclohydroI; GTP cyclohydrolase I domain</td>\n",
       "    </tr>\n",
       "    <tr>\n",
       "      <th>27</th>\n",
       "      <td>PC134</td>\n",
       "      <td>892</td>\n",
       "      <td>PC20</td>\n",
       "      <td>FSH1; Serine hydrolase FSH</td>\n",
       "    </tr>\n",
       "    <tr>\n",
       "      <th>28</th>\n",
       "      <td>PC136</td>\n",
       "      <td>861</td>\n",
       "      <td>PC114</td>\n",
       "      <td>FAD-oxidase_C; FAD-linked oxidase, C-terminal</td>\n",
       "    </tr>\n",
       "    <tr>\n",
       "      <th>29</th>\n",
       "      <td>PC137</td>\n",
       "      <td>1347</td>\n",
       "      <td>PC241</td>\n",
       "      <td>MAM33; Mitochondrial glycoprotein</td>\n",
       "    </tr>\n",
       "    <tr>\n",
       "      <th>30</th>\n",
       "      <td>PC139</td>\n",
       "      <td>1046</td>\n",
       "      <td>PC116</td>\n",
       "      <td>Glyco_hydro_18; Glycoside hydrolase family 18,...</td>\n",
       "    </tr>\n",
       "    <tr>\n",
       "      <th>31</th>\n",
       "      <td>PC143</td>\n",
       "      <td>11</td>\n",
       "      <td>PC128</td>\n",
       "      <td>5-FTHF_cyc-lig; 5-formyltetrahydrofolate cyclo...</td>\n",
       "    </tr>\n",
       "    <tr>\n",
       "      <th>32</th>\n",
       "      <td>PC153</td>\n",
       "      <td>1194</td>\n",
       "      <td>PC148</td>\n",
       "      <td>Hydrolase_like</td>\n",
       "    </tr>\n",
       "    <tr>\n",
       "      <th>33</th>\n",
       "      <td>PC171</td>\n",
       "      <td>1531</td>\n",
       "      <td>PC159</td>\n",
       "      <td>Myb_Cef; Pre-mRNA splicing factor component Cd...</td>\n",
       "    </tr>\n",
       "    <tr>\n",
       "      <th>34</th>\n",
       "      <td>PC183</td>\n",
       "      <td>6</td>\n",
       "      <td>PC231</td>\n",
       "      <td>2OG-FeII_Oxy_4</td>\n",
       "    </tr>\n",
       "    <tr>\n",
       "      <th>35</th>\n",
       "      <td>PC194</td>\n",
       "      <td>1418</td>\n",
       "      <td>PC160</td>\n",
       "      <td>Mak16; Mak16 protein</td>\n",
       "    </tr>\n",
       "    <tr>\n",
       "      <th>36</th>\n",
       "      <td>PC204</td>\n",
       "      <td>141</td>\n",
       "      <td>PC163</td>\n",
       "      <td>ATP_sub_h; ATP synthase, F0 complex, subunit H</td>\n",
       "    </tr>\n",
       "    <tr>\n",
       "      <th>37</th>\n",
       "      <td>PC205</td>\n",
       "      <td>583</td>\n",
       "      <td>PC254</td>\n",
       "      <td>DHH; DDH domain</td>\n",
       "    </tr>\n",
       "    <tr>\n",
       "      <th>38</th>\n",
       "      <td>PC206</td>\n",
       "      <td>439</td>\n",
       "      <td>PC211</td>\n",
       "      <td>Calreticulin; Calreticulin/calnexin</td>\n",
       "    </tr>\n",
       "    <tr>\n",
       "      <th>39</th>\n",
       "      <td>PC212</td>\n",
       "      <td>439</td>\n",
       "      <td>PC211</td>\n",
       "      <td>Calreticulin; Calreticulin/calnexin</td>\n",
       "    </tr>\n",
       "    <tr>\n",
       "      <th>40</th>\n",
       "      <td>PC208</td>\n",
       "      <td>2133</td>\n",
       "      <td>PC193</td>\n",
       "      <td>Rho_GDI; Rho protein GDP-dissociation inhibitor</td>\n",
       "    </tr>\n",
       "    <tr>\n",
       "      <th>41</th>\n",
       "      <td>PC208</td>\n",
       "      <td>2133</td>\n",
       "      <td>PC244</td>\n",
       "      <td>Rho_GDI; Rho protein GDP-dissociation inhibitor</td>\n",
       "    </tr>\n",
       "    <tr>\n",
       "      <th>42</th>\n",
       "      <td>PC267</td>\n",
       "      <td>2133</td>\n",
       "      <td>PC193</td>\n",
       "      <td>Rho_GDI; Rho protein GDP-dissociation inhibitor</td>\n",
       "    </tr>\n",
       "    <tr>\n",
       "      <th>43</th>\n",
       "      <td>PC267</td>\n",
       "      <td>2133</td>\n",
       "      <td>PC244</td>\n",
       "      <td>Rho_GDI; Rho protein GDP-dissociation inhibitor</td>\n",
       "    </tr>\n",
       "    <tr>\n",
       "      <th>44</th>\n",
       "      <td>PC209</td>\n",
       "      <td>35</td>\n",
       "      <td>PC188</td>\n",
       "      <td>AA_permease; Amino acid permease/ SLC12A domain</td>\n",
       "    </tr>\n",
       "    <tr>\n",
       "      <th>45</th>\n",
       "      <td>PC277</td>\n",
       "      <td>35</td>\n",
       "      <td>PC188</td>\n",
       "      <td>AA_permease; Amino acid permease/ SLC12A domain</td>\n",
       "    </tr>\n",
       "    <tr>\n",
       "      <th>46</th>\n",
       "      <td>PC219</td>\n",
       "      <td>1103</td>\n",
       "      <td>PC207</td>\n",
       "      <td>HDA2-3; HDA1 complex subunit 2/3</td>\n",
       "    </tr>\n",
       "    <tr>\n",
       "      <th>47</th>\n",
       "      <td>PC219</td>\n",
       "      <td>1103</td>\n",
       "      <td>PC248</td>\n",
       "      <td>HDA2-3; HDA1 complex subunit 2/3</td>\n",
       "    </tr>\n",
       "    <tr>\n",
       "      <th>48</th>\n",
       "      <td>PC226</td>\n",
       "      <td>2478</td>\n",
       "      <td>PC190</td>\n",
       "      <td>Sin3_corepress; Histone deacetylase interactin...</td>\n",
       "    </tr>\n",
       "    <tr>\n",
       "      <th>49</th>\n",
       "      <td>PC232</td>\n",
       "      <td>2478</td>\n",
       "      <td>PC190</td>\n",
       "      <td>Sin3_corepress; Histone deacetylase interactin...</td>\n",
       "    </tr>\n",
       "    <tr>\n",
       "      <th>50</th>\n",
       "      <td>PC229</td>\n",
       "      <td>250</td>\n",
       "      <td>PC257</td>\n",
       "      <td>B3_4; B3/B4 tRNA-binding domain</td>\n",
       "    </tr>\n",
       "    <tr>\n",
       "      <th>51</th>\n",
       "      <td>PC231</td>\n",
       "      <td>69</td>\n",
       "      <td>PC105</td>\n",
       "      <td>AIRS; PurM-like, N-terminal domain</td>\n",
       "    </tr>\n",
       "    <tr>\n",
       "      <th>52</th>\n",
       "      <td>PC256</td>\n",
       "      <td>924</td>\n",
       "      <td>PC158</td>\n",
       "      <td>Flocculin</td>\n",
       "    </tr>\n",
       "    <tr>\n",
       "      <th>53</th>\n",
       "      <td>PC264</td>\n",
       "      <td>1182</td>\n",
       "      <td>PC246</td>\n",
       "      <td>Homeobox; Homeobox domain</td>\n",
       "    </tr>\n",
       "    <tr>\n",
       "      <th>54</th>\n",
       "      <td>PC268</td>\n",
       "      <td>363</td>\n",
       "      <td>PC121</td>\n",
       "      <td>CLP1_P; Polyribonucleotide 5&amp;apos;-hydroxyl-ki...</td>\n",
       "    </tr>\n",
       "    <tr>\n",
       "      <th>55</th>\n",
       "      <td>PC268</td>\n",
       "      <td>363</td>\n",
       "      <td>PC122</td>\n",
       "      <td>CLP1_P; Polyribonucleotide 5&amp;apos;-hydroxyl-ki...</td>\n",
       "    </tr>\n",
       "    <tr>\n",
       "      <th>56</th>\n",
       "      <td>PC269</td>\n",
       "      <td>38</td>\n",
       "      <td>PC174</td>\n",
       "      <td>ABC2_membrane; ABC-2 type transporter</td>\n",
       "    </tr>\n",
       "    <tr>\n",
       "      <th>57</th>\n",
       "      <td>PC280</td>\n",
       "      <td>2136</td>\n",
       "      <td>PC189</td>\n",
       "      <td>RibD_C; Bacterial bifunctional deaminase-reduc...</td>\n",
       "    </tr>\n",
       "  </tbody>\n",
       "</table>\n",
       "</div>"
      ],
      "text/plain": [
       "   pca-component_x  domain-number pca-component_y  \\\n",
       "0              PC9             55            PC94   \n",
       "1             PC10            488            PC34   \n",
       "2             PC11              3             PC4   \n",
       "3             PC24             87            PC77   \n",
       "4             PC28            300            PC48   \n",
       "5             PC33           2113             PC3   \n",
       "6             PC35            773            PC44   \n",
       "7             PC36            629           PC113   \n",
       "8             PC42           2427            PC74   \n",
       "9             PC54            410            PC62   \n",
       "10            PC60           2388            PC95   \n",
       "11            PC71            440           PC102   \n",
       "12            PC72            440           PC102   \n",
       "13            PC73            299           PC222   \n",
       "14            PC75            983            PC13   \n",
       "15            PC75            983            PC16   \n",
       "16            PC86            754            PC43   \n",
       "17            PC99           1733           PC139   \n",
       "18            PC99           1733           PC182   \n",
       "19           PC106           2150           PC112   \n",
       "20           PC108            365           PC132   \n",
       "21           PC123           1294           PC151   \n",
       "22           PC125           1294           PC151   \n",
       "23           PC128           1015           PC253   \n",
       "24           PC128           1015           PC255   \n",
       "25           PC130           1015           PC253   \n",
       "26           PC130           1015           PC255   \n",
       "27           PC134            892            PC20   \n",
       "28           PC136            861           PC114   \n",
       "29           PC137           1347           PC241   \n",
       "30           PC139           1046           PC116   \n",
       "31           PC143             11           PC128   \n",
       "32           PC153           1194           PC148   \n",
       "33           PC171           1531           PC159   \n",
       "34           PC183              6           PC231   \n",
       "35           PC194           1418           PC160   \n",
       "36           PC204            141           PC163   \n",
       "37           PC205            583           PC254   \n",
       "38           PC206            439           PC211   \n",
       "39           PC212            439           PC211   \n",
       "40           PC208           2133           PC193   \n",
       "41           PC208           2133           PC244   \n",
       "42           PC267           2133           PC193   \n",
       "43           PC267           2133           PC244   \n",
       "44           PC209             35           PC188   \n",
       "45           PC277             35           PC188   \n",
       "46           PC219           1103           PC207   \n",
       "47           PC219           1103           PC248   \n",
       "48           PC226           2478           PC190   \n",
       "49           PC232           2478           PC190   \n",
       "50           PC229            250           PC257   \n",
       "51           PC231             69           PC105   \n",
       "52           PC256            924           PC158   \n",
       "53           PC264           1182           PC246   \n",
       "54           PC268            363           PC121   \n",
       "55           PC268            363           PC122   \n",
       "56           PC269             38           PC174   \n",
       "57           PC280           2136           PC189   \n",
       "\n",
       "                                   domain-description  \n",
       "0                                                 ADK  \n",
       "1     Cnd1_N; Condensin complex subunit 1, N-terminal  \n",
       "2   2-Hacid_dh_C; D-isomer specific 2-hydroxyacid ...  \n",
       "3   ANAPC4_WD40; Anaphase-promoting complex subuni...  \n",
       "4                                  BolA; BolA protein  \n",
       "5       Rav1p_C; RAVE complex protein Rav1 C-terminal  \n",
       "6          Dynein_light; Dynein light chain, type 1/2  \n",
       "7   DSHCT; ATP-dependent RNA helicase Ski2, C-term...  \n",
       "8                                          Scramblase  \n",
       "9           CRAL_TRIO; CRAL-TRIO lipid binding domain  \n",
       "10  SRP72; Signal recognition particle, SRP72 subu...  \n",
       "11  Candida_ALS_N; Agglutinin-like protein, N-term...  \n",
       "12  Candida_ALS_N; Agglutinin-like protein, N-term...  \n",
       "13  Bmt2; 25S rRNA (adenine(2142)-N(1))-methyltran...  \n",
       "14      GHMP_kinases_N; GHMP kinase N-terminal domain  \n",
       "15      GHMP_kinases_N; GHMP kinase N-terminal domain  \n",
       "16   Diphthamide_syn; Diphthamide synthesis DPH1/DPH2  \n",
       "17           PGAP1; GPI inositol-deacylase PGAP1-like  \n",
       "18           PGAP1; GPI inositol-deacylase PGAP1-like  \n",
       "19         Ribosom_S12_S23; Ribosomal protein S12/S23  \n",
       "20                                    CLU; CLU domain  \n",
       "21                LIAS_N; Lipoyl synthase, N-terminal  \n",
       "22                LIAS_N; Lipoyl synthase, N-terminal  \n",
       "23       GTP_cyclohydroI; GTP cyclohydrolase I domain  \n",
       "24       GTP_cyclohydroI; GTP cyclohydrolase I domain  \n",
       "25       GTP_cyclohydroI; GTP cyclohydrolase I domain  \n",
       "26       GTP_cyclohydroI; GTP cyclohydrolase I domain  \n",
       "27                         FSH1; Serine hydrolase FSH  \n",
       "28      FAD-oxidase_C; FAD-linked oxidase, C-terminal  \n",
       "29                  MAM33; Mitochondrial glycoprotein  \n",
       "30  Glyco_hydro_18; Glycoside hydrolase family 18,...  \n",
       "31  5-FTHF_cyc-lig; 5-formyltetrahydrofolate cyclo...  \n",
       "32                                     Hydrolase_like  \n",
       "33  Myb_Cef; Pre-mRNA splicing factor component Cd...  \n",
       "34                                     2OG-FeII_Oxy_4  \n",
       "35                               Mak16; Mak16 protein  \n",
       "36     ATP_sub_h; ATP synthase, F0 complex, subunit H  \n",
       "37                                    DHH; DDH domain  \n",
       "38                Calreticulin; Calreticulin/calnexin  \n",
       "39                Calreticulin; Calreticulin/calnexin  \n",
       "40    Rho_GDI; Rho protein GDP-dissociation inhibitor  \n",
       "41    Rho_GDI; Rho protein GDP-dissociation inhibitor  \n",
       "42    Rho_GDI; Rho protein GDP-dissociation inhibitor  \n",
       "43    Rho_GDI; Rho protein GDP-dissociation inhibitor  \n",
       "44    AA_permease; Amino acid permease/ SLC12A domain  \n",
       "45    AA_permease; Amino acid permease/ SLC12A domain  \n",
       "46                   HDA2-3; HDA1 complex subunit 2/3  \n",
       "47                   HDA2-3; HDA1 complex subunit 2/3  \n",
       "48  Sin3_corepress; Histone deacetylase interactin...  \n",
       "49  Sin3_corepress; Histone deacetylase interactin...  \n",
       "50                    B3_4; B3/B4 tRNA-binding domain  \n",
       "51                 AIRS; PurM-like, N-terminal domain  \n",
       "52                                          Flocculin  \n",
       "53                          Homeobox; Homeobox domain  \n",
       "54  CLP1_P; Polyribonucleotide 5&apos;-hydroxyl-ki...  \n",
       "55  CLP1_P; Polyribonucleotide 5&apos;-hydroxyl-ki...  \n",
       "56              ABC2_membrane; ABC-2 type transporter  \n",
       "57  RibD_C; Bacterial bifunctional deaminase-reduc...  "
      ]
     },
     "execution_count": 22,
     "metadata": {},
     "output_type": "execute_result"
    }
   ],
   "source": [
    "df_shared_domains=pd.merge(df_sl,df_nsl,how='inner',on='domain-number')\n",
    "domains_name=np.unique(data_domains['domain-name'])\n",
    "domains_description=np.unique(data_domains['domain-descrip'])\n",
    "\n",
    "df_shared_domains['domain-description']=domains_description[df_shared_domains['domain-number']]\n",
    "\n",
    "\n",
    "df_shared_domains"
   ]
  },
  {
   "cell_type": "code",
   "execution_count": 23,
   "metadata": {
    "execution": {
     "iopub.execute_input": "2020-07-23T13:44:59.901479Z",
     "iopub.status.busy": "2020-07-23T13:44:59.900356Z",
     "iopub.status.idle": "2020-07-23T13:44:59.908748Z",
     "shell.execute_reply": "2020-07-23T13:44:59.909766Z"
    }
   },
   "outputs": [
    {
     "name": "stdout",
     "output_type": "stream",
     "text": [
      "The number of shared domains between SL and nSL pairs,after PCA, is =  58 out of 550 so the 10.545454545454545 %\n"
     ]
    }
   ],
   "source": [
    "print('The number of shared domains between SL and nSL pairs,after PCA, is = ',len(df_shared_domains), 'out of', len(df_sl)+len(df_nsl), 'so the',100*len(df_shared_domains)/(len(df_sl)+len(df_nsl)),'%')"
   ]
  },
  {
   "cell_type": "markdown",
   "metadata": {},
   "source": [
    "## Domains exclusive to SL"
   ]
  },
  {
   "cell_type": "code",
   "execution_count": 24,
   "metadata": {
    "execution": {
     "iopub.execute_input": "2020-07-23T13:44:59.913471Z",
     "iopub.status.busy": "2020-07-23T13:44:59.912184Z",
     "iopub.status.idle": "2020-07-23T13:44:59.945046Z",
     "shell.execute_reply": "2020-07-23T13:44:59.945916Z"
    }
   },
   "outputs": [
    {
     "data": {
      "text/html": [
       "<div>\n",
       "<style scoped>\n",
       "    .dataframe tbody tr th:only-of-type {\n",
       "        vertical-align: middle;\n",
       "    }\n",
       "\n",
       "    .dataframe tbody tr th {\n",
       "        vertical-align: top;\n",
       "    }\n",
       "\n",
       "    .dataframe thead th {\n",
       "        text-align: right;\n",
       "    }\n",
       "</style>\n",
       "<table border=\"1\" class=\"dataframe\">\n",
       "  <thead>\n",
       "    <tr style=\"text-align: right;\">\n",
       "      <th></th>\n",
       "      <th>pca-component_x</th>\n",
       "      <th>domain-number</th>\n",
       "      <th>pca-component_y</th>\n",
       "      <th>domain-description</th>\n",
       "    </tr>\n",
       "  </thead>\n",
       "  <tbody>\n",
       "    <tr>\n",
       "      <th>0</th>\n",
       "      <td>PC0</td>\n",
       "      <td>305</td>\n",
       "      <td>NaN</td>\n",
       "      <td>Brr6_like_C_C; Brl1/Brr6 domain</td>\n",
       "    </tr>\n",
       "    <tr>\n",
       "      <th>1</th>\n",
       "      <td>PC1</td>\n",
       "      <td>142</td>\n",
       "      <td>NaN</td>\n",
       "      <td>ATP_synt_H; ATPase, V0 complex, subunit e1/e2</td>\n",
       "    </tr>\n",
       "    <tr>\n",
       "      <th>2</th>\n",
       "      <td>PC2</td>\n",
       "      <td>2771</td>\n",
       "      <td>NaN</td>\n",
       "      <td>Ubiq-assoc; Ubiquitin-associated domain, SWA2-...</td>\n",
       "    </tr>\n",
       "    <tr>\n",
       "      <th>3</th>\n",
       "      <td>PC3</td>\n",
       "      <td>135</td>\n",
       "      <td>NaN</td>\n",
       "      <td>ATP-synt_ab_Xtn; ATPsynthase alpha/beta subuni...</td>\n",
       "    </tr>\n",
       "    <tr>\n",
       "      <th>4</th>\n",
       "      <td>PC4</td>\n",
       "      <td>423</td>\n",
       "      <td>NaN</td>\n",
       "      <td>CSTF2_hinge; Cleavage stimulation factor subun...</td>\n",
       "    </tr>\n",
       "    <tr>\n",
       "      <th>...</th>\n",
       "      <td>...</td>\n",
       "      <td>...</td>\n",
       "      <td>...</td>\n",
       "      <td>...</td>\n",
       "    </tr>\n",
       "    <tr>\n",
       "      <th>286</th>\n",
       "      <td>PC278</td>\n",
       "      <td>118</td>\n",
       "      <td>NaN</td>\n",
       "      <td>ATP-grasp; ATP-grasp fold, ATP-dependent carbo...</td>\n",
       "    </tr>\n",
       "    <tr>\n",
       "      <th>287</th>\n",
       "      <td>PC279</td>\n",
       "      <td>1498</td>\n",
       "      <td>NaN</td>\n",
       "      <td>MmgE_PrpD; MmgE/PrpD</td>\n",
       "    </tr>\n",
       "    <tr>\n",
       "      <th>289</th>\n",
       "      <td>PC281</td>\n",
       "      <td>1477</td>\n",
       "      <td>NaN</td>\n",
       "      <td>Methyltransf_34; Putative SAM-dependent methyl...</td>\n",
       "    </tr>\n",
       "    <tr>\n",
       "      <th>290</th>\n",
       "      <td>PC282</td>\n",
       "      <td>2171</td>\n",
       "      <td>NaN</td>\n",
       "      <td>Ribosomal_L21p; Ribosomal protein L21-like</td>\n",
       "    </tr>\n",
       "    <tr>\n",
       "      <th>291</th>\n",
       "      <td>PC283</td>\n",
       "      <td>1127</td>\n",
       "      <td>NaN</td>\n",
       "      <td>HMG_CoA_synt_C; Hydroxymethylglutaryl-coenzyme...</td>\n",
       "    </tr>\n",
       "  </tbody>\n",
       "</table>\n",
       "<p>234 rows × 4 columns</p>\n",
       "</div>"
      ],
      "text/plain": [
       "    pca-component_x  domain-number pca-component_y  \\\n",
       "0               PC0            305             NaN   \n",
       "1               PC1            142             NaN   \n",
       "2               PC2           2771             NaN   \n",
       "3               PC3            135             NaN   \n",
       "4               PC4            423             NaN   \n",
       "..              ...            ...             ...   \n",
       "286           PC278            118             NaN   \n",
       "287           PC279           1498             NaN   \n",
       "289           PC281           1477             NaN   \n",
       "290           PC282           2171             NaN   \n",
       "291           PC283           1127             NaN   \n",
       "\n",
       "                                    domain-description  \n",
       "0                      Brr6_like_C_C; Brl1/Brr6 domain  \n",
       "1        ATP_synt_H; ATPase, V0 complex, subunit e1/e2  \n",
       "2    Ubiq-assoc; Ubiquitin-associated domain, SWA2-...  \n",
       "3    ATP-synt_ab_Xtn; ATPsynthase alpha/beta subuni...  \n",
       "4    CSTF2_hinge; Cleavage stimulation factor subun...  \n",
       "..                                                 ...  \n",
       "286  ATP-grasp; ATP-grasp fold, ATP-dependent carbo...  \n",
       "287                               MmgE_PrpD; MmgE/PrpD  \n",
       "289  Methyltransf_34; Putative SAM-dependent methyl...  \n",
       "290         Ribosomal_L21p; Ribosomal protein L21-like  \n",
       "291  HMG_CoA_synt_C; Hydroxymethylglutaryl-coenzyme...  \n",
       "\n",
       "[234 rows x 4 columns]"
      ]
     },
     "execution_count": 24,
     "metadata": {},
     "output_type": "execute_result"
    }
   ],
   "source": [
    "df_sl_exclusive=pd.merge(df_sl,df_nsl,how='left',on='domain-number')\n",
    "\n",
    "domains_name=np.unique(data_domains['domain-name'])\n",
    "domains_description=np.unique(data_domains['domain-descrip'])\n",
    "\n",
    "df_sl_exclusive['domain-description']=domains_description[df_sl_exclusive['domain-number']]\n",
    "df_sl_exclusive[pd.isnull(df_sl_exclusive['pca-component_y'])]"
   ]
  },
  {
   "cell_type": "code",
   "execution_count": 25,
   "metadata": {
    "execution": {
     "iopub.execute_input": "2020-07-23T13:44:59.949993Z",
     "iopub.status.busy": "2020-07-23T13:44:59.948687Z",
     "iopub.status.idle": "2020-07-23T13:44:59.956573Z",
     "shell.execute_reply": "2020-07-23T13:44:59.957383Z"
    }
   },
   "outputs": [
    {
     "name": "stdout",
     "output_type": "stream",
     "text": [
      "The number of exclusive domains from SL pairs, after PCA, is =  292 out of 550 so the 53.09090909090909 %\n"
     ]
    }
   ],
   "source": [
    "print('The number of exclusive domains from SL pairs, after PCA, is = ',len(df_sl_exclusive), 'out of', len(df_sl)+len(df_nsl), 'so the',100*len(df_sl_exclusive)/(len(df_sl)+len(df_nsl)),'%')"
   ]
  },
  {
   "cell_type": "code",
   "execution_count": 26,
   "metadata": {
    "execution": {
     "iopub.execute_input": "2020-07-23T13:44:59.960712Z",
     "iopub.status.busy": "2020-07-23T13:44:59.959506Z",
     "iopub.status.idle": "2020-07-23T13:44:59.994468Z",
     "shell.execute_reply": "2020-07-23T13:44:59.993966Z"
    }
   },
   "outputs": [
    {
     "data": {
      "text/html": [
       "<div>\n",
       "<style scoped>\n",
       "    .dataframe tbody tr th:only-of-type {\n",
       "        vertical-align: middle;\n",
       "    }\n",
       "\n",
       "    .dataframe tbody tr th {\n",
       "        vertical-align: top;\n",
       "    }\n",
       "\n",
       "    .dataframe thead th {\n",
       "        text-align: right;\n",
       "    }\n",
       "</style>\n",
       "<table border=\"1\" class=\"dataframe\">\n",
       "  <thead>\n",
       "    <tr style=\"text-align: right;\">\n",
       "      <th></th>\n",
       "      <th>pca-component_x</th>\n",
       "      <th>domain-number</th>\n",
       "      <th>pca-component_y</th>\n",
       "      <th>domain-description</th>\n",
       "    </tr>\n",
       "  </thead>\n",
       "  <tbody>\n",
       "    <tr>\n",
       "      <th>58</th>\n",
       "      <td>NaN</td>\n",
       "      <td>1028</td>\n",
       "      <td>PC0</td>\n",
       "      <td>GatB_Yqey; Asn/Gln amidotransferase</td>\n",
       "    </tr>\n",
       "    <tr>\n",
       "      <th>59</th>\n",
       "      <td>NaN</td>\n",
       "      <td>1110</td>\n",
       "      <td>PC1</td>\n",
       "      <td>HEM4; Tetrapyrrole biosynthesis, uroporphyrino...</td>\n",
       "    </tr>\n",
       "    <tr>\n",
       "      <th>60</th>\n",
       "      <td>NaN</td>\n",
       "      <td>1811</td>\n",
       "      <td>PC2</td>\n",
       "      <td>PRAI; N-(5&amp;apos;phosphoribosyl) anthranilate i...</td>\n",
       "    </tr>\n",
       "    <tr>\n",
       "      <th>61</th>\n",
       "      <td>NaN</td>\n",
       "      <td>604</td>\n",
       "      <td>PC5</td>\n",
       "      <td>DNA_gyraseB; DNA topoisomerase, type IIA, subu...</td>\n",
       "    </tr>\n",
       "    <tr>\n",
       "      <th>62</th>\n",
       "      <td>NaN</td>\n",
       "      <td>274</td>\n",
       "      <td>PC6</td>\n",
       "      <td>BOP1NT; BOP1, N-terminal domain</td>\n",
       "    </tr>\n",
       "    <tr>\n",
       "      <th>...</th>\n",
       "      <td>...</td>\n",
       "      <td>...</td>\n",
       "      <td>...</td>\n",
       "      <td>...</td>\n",
       "    </tr>\n",
       "    <tr>\n",
       "      <th>270</th>\n",
       "      <td>NaN</td>\n",
       "      <td>1340</td>\n",
       "      <td>PC261</td>\n",
       "      <td>Lysine_decarbox; LOG family</td>\n",
       "    </tr>\n",
       "    <tr>\n",
       "      <th>271</th>\n",
       "      <td>NaN</td>\n",
       "      <td>2151</td>\n",
       "      <td>PC262</td>\n",
       "      <td>Ribosomal_60s</td>\n",
       "    </tr>\n",
       "    <tr>\n",
       "      <th>272</th>\n",
       "      <td>NaN</td>\n",
       "      <td>2151</td>\n",
       "      <td>PC264</td>\n",
       "      <td>Ribosomal_60s</td>\n",
       "    </tr>\n",
       "    <tr>\n",
       "      <th>273</th>\n",
       "      <td>NaN</td>\n",
       "      <td>206</td>\n",
       "      <td>PC263</td>\n",
       "      <td>Ammonium_transp; Ammonium transporter AmtB-lik...</td>\n",
       "    </tr>\n",
       "    <tr>\n",
       "      <th>274</th>\n",
       "      <td>NaN</td>\n",
       "      <td>206</td>\n",
       "      <td>PC265</td>\n",
       "      <td>Ammonium_transp; Ammonium transporter AmtB-lik...</td>\n",
       "    </tr>\n",
       "  </tbody>\n",
       "</table>\n",
       "<p>217 rows × 4 columns</p>\n",
       "</div>"
      ],
      "text/plain": [
       "    pca-component_x  domain-number pca-component_y  \\\n",
       "58              NaN           1028             PC0   \n",
       "59              NaN           1110             PC1   \n",
       "60              NaN           1811             PC2   \n",
       "61              NaN            604             PC5   \n",
       "62              NaN            274             PC6   \n",
       "..              ...            ...             ...   \n",
       "270             NaN           1340           PC261   \n",
       "271             NaN           2151           PC262   \n",
       "272             NaN           2151           PC264   \n",
       "273             NaN            206           PC263   \n",
       "274             NaN            206           PC265   \n",
       "\n",
       "                                    domain-description  \n",
       "58                 GatB_Yqey; Asn/Gln amidotransferase  \n",
       "59   HEM4; Tetrapyrrole biosynthesis, uroporphyrino...  \n",
       "60   PRAI; N-(5&apos;phosphoribosyl) anthranilate i...  \n",
       "61   DNA_gyraseB; DNA topoisomerase, type IIA, subu...  \n",
       "62                     BOP1NT; BOP1, N-terminal domain  \n",
       "..                                                 ...  \n",
       "270                        Lysine_decarbox; LOG family  \n",
       "271                                      Ribosomal_60s  \n",
       "272                                      Ribosomal_60s  \n",
       "273  Ammonium_transp; Ammonium transporter AmtB-lik...  \n",
       "274  Ammonium_transp; Ammonium transporter AmtB-lik...  \n",
       "\n",
       "[217 rows x 4 columns]"
      ]
     },
     "execution_count": 26,
     "metadata": {},
     "output_type": "execute_result"
    }
   ],
   "source": [
    "df_nsl_exclusive=pd.merge(df_sl,df_nsl,how='right',on='domain-number')\n",
    "\n",
    "domains_name=np.unique(data_domains['domain-name'])\n",
    "domains_description=np.unique(data_domains['domain-descrip'])\n",
    "\n",
    "df_nsl_exclusive['domain-description']=domains_description[df_nsl_exclusive['domain-number']]\n",
    "df_nsl_exclusive[pd.isnull(df_nsl_exclusive['pca-component_x'])]"
   ]
  },
  {
   "cell_type": "code",
   "execution_count": 27,
   "metadata": {
    "execution": {
     "iopub.execute_input": "2020-07-23T13:44:59.999849Z",
     "iopub.status.busy": "2020-07-23T13:44:59.999307Z",
     "iopub.status.idle": "2020-07-23T13:45:00.003961Z",
     "shell.execute_reply": "2020-07-23T13:45:00.003434Z"
    }
   },
   "outputs": [
    {
     "name": "stdout",
     "output_type": "stream",
     "text": [
      "The number of exclusive domains from non SL pairs, after PCA, is =  275 out of 550 so the 50.0 %\n"
     ]
    }
   ],
   "source": [
    "print('The number of exclusive domains from non SL pairs, after PCA, is = ',len(df_nsl_exclusive), 'out of', len(df_sl)+len(df_nsl), 'so the',100*len(df_nsl_exclusive)/(len(df_sl)+len(df_nsl)),'%')"
   ]
  },
  {
   "cell_type": "markdown",
   "metadata": {},
   "source": [
    "## Let see to the domains-number that get repeated after the PCA analysis , and selecting the most explanatory feature by its explained variance."
   ]
  },
  {
   "cell_type": "code",
   "execution_count": 28,
   "metadata": {
    "execution": {
     "iopub.execute_input": "2020-07-23T13:45:00.028331Z",
     "iopub.status.busy": "2020-07-23T13:45:00.023512Z",
     "iopub.status.idle": "2020-07-23T13:45:00.030734Z",
     "shell.execute_reply": "2020-07-23T13:45:00.030146Z"
    }
   },
   "outputs": [],
   "source": [
    "duplicated_features_sl=df_sl[df_sl.iloc[:,1].duplicated()]\n",
    "repeated_features_sl=pd.DataFrame()\n",
    "\n",
    "domains_name=np.unique(data_domains['domain-name'])\n",
    "domains_description=np.unique(data_domains['domain-descrip'])\n",
    "\n",
    "repeated_features_sl['domain-name']=domains_name[duplicated_features_sl.iloc[:,1]] \n",
    "repeated_features_sl['domain-description']=domains_description[duplicated_features_sl.iloc[:,1]]\n",
    "\n",
    "duplicated_features_nsl=df_nsl[df_nsl.iloc[:,1].duplicated()]\n",
    "repeated_features_nsl=pd.DataFrame()\n",
    "\n",
    "repeated_features_nsl['domain-name']=domains_name[duplicated_features_nsl.iloc[:,1]] \n",
    "repeated_features_nsl['domain-description']=domains_description[duplicated_features_nsl.iloc[:,1]]"
   ]
  },
  {
   "cell_type": "code",
   "execution_count": 29,
   "metadata": {
    "execution": {
     "iopub.execute_input": "2020-07-23T13:45:00.041405Z",
     "iopub.status.busy": "2020-07-23T13:45:00.040315Z",
     "iopub.status.idle": "2020-07-23T13:45:00.048938Z",
     "shell.execute_reply": "2020-07-23T13:45:00.048490Z"
    }
   },
   "outputs": [
    {
     "name": "stderr",
     "output_type": "stream",
     "text": [
      "/usr/share/miniconda3/envs/wintest/lib/python3.7/site-packages/ipykernel_launcher.py:3: SettingWithCopyWarning: \n",
      "A value is trying to be set on a copy of a slice from a DataFrame.\n",
      "Try using .loc[row_indexer,col_indexer] = value instead\n",
      "\n",
      "See the caveats in the documentation: https://pandas.pydata.org/pandas-docs/stable/user_guide/indexing.html#returning-a-view-versus-a-copy\n",
      "  This is separate from the ipykernel package so we can avoid doing imports until\n"
     ]
    },
    {
     "data": {
      "text/plain": [
       "((37, 4), (292, 4))"
      ]
     },
     "execution_count": 29,
     "metadata": {},
     "output_type": "execute_result"
    }
   ],
   "source": [
    "only_sl_pd=pd.merge(repeated_features_sl,repeated_features_nsl,how='left',on=['domain-name'])\n",
    "data_only_sl = only_sl_pd[pd.isnull(only_sl_pd['domain-description_y'])]\n",
    "data_only_sl['domain-description']=data_only_sl['domain-description_x']\n",
    "data_only_sl.shape,df_sl_exclusive.shape"
   ]
  },
  {
   "cell_type": "code",
   "execution_count": 30,
   "metadata": {
    "execution": {
     "iopub.execute_input": "2020-07-23T13:45:00.071818Z",
     "iopub.status.busy": "2020-07-23T13:45:00.055305Z",
     "iopub.status.idle": "2020-07-23T13:45:00.075459Z",
     "shell.execute_reply": "2020-07-23T13:45:00.075901Z"
    }
   },
   "outputs": [
    {
     "data": {
      "text/html": [
       "<div>\n",
       "<style scoped>\n",
       "    .dataframe tbody tr th:only-of-type {\n",
       "        vertical-align: middle;\n",
       "    }\n",
       "\n",
       "    .dataframe tbody tr th {\n",
       "        vertical-align: top;\n",
       "    }\n",
       "\n",
       "    .dataframe thead th {\n",
       "        text-align: right;\n",
       "    }\n",
       "</style>\n",
       "<table border=\"1\" class=\"dataframe\">\n",
       "  <thead>\n",
       "    <tr style=\"text-align: right;\">\n",
       "      <th></th>\n",
       "      <th>domain-name</th>\n",
       "      <th>domain-description_x</th>\n",
       "      <th>domain-description_y</th>\n",
       "    </tr>\n",
       "  </thead>\n",
       "  <tbody>\n",
       "    <tr>\n",
       "      <th>2</th>\n",
       "      <td>PF02854</td>\n",
       "      <td>NaN</td>\n",
       "      <td>GHMP_kinases_N; GHMP kinase N-terminal domain</td>\n",
       "    </tr>\n",
       "    <tr>\n",
       "      <th>3</th>\n",
       "      <td>PF07569</td>\n",
       "      <td>NaN</td>\n",
       "      <td>PFU; PLAA family ubiquitin binding, PFU</td>\n",
       "    </tr>\n",
       "    <tr>\n",
       "      <th>4</th>\n",
       "      <td>PF00888</td>\n",
       "      <td>NaN</td>\n",
       "      <td>CS; CS domain</td>\n",
       "    </tr>\n",
       "    <tr>\n",
       "      <th>5</th>\n",
       "      <td>PF04096</td>\n",
       "      <td>NaN</td>\n",
       "      <td>Kin17_mid; DNA/RNA-binding protein Kin17, cons...</td>\n",
       "    </tr>\n",
       "    <tr>\n",
       "      <th>6</th>\n",
       "      <td>PF05739</td>\n",
       "      <td>NaN</td>\n",
       "      <td>NPCC; Nuclear pore complex component</td>\n",
       "    </tr>\n",
       "    <tr>\n",
       "      <th>7</th>\n",
       "      <td>PF00627</td>\n",
       "      <td>NaN</td>\n",
       "      <td>Bystin</td>\n",
       "    </tr>\n",
       "    <tr>\n",
       "      <th>8</th>\n",
       "      <td>PF14821</td>\n",
       "      <td>NaN</td>\n",
       "      <td>V-SNARE_C</td>\n",
       "    </tr>\n",
       "    <tr>\n",
       "      <th>9</th>\n",
       "      <td>PF09757</td>\n",
       "      <td>NaN</td>\n",
       "      <td>Ribosomal_L14e; Ribosomal protein L14e domain</td>\n",
       "    </tr>\n",
       "    <tr>\n",
       "      <th>10</th>\n",
       "      <td>PF01483</td>\n",
       "      <td>NaN</td>\n",
       "      <td>DUF155; Domain of unknown function DUF155</td>\n",
       "    </tr>\n",
       "    <tr>\n",
       "      <th>11</th>\n",
       "      <td>PF00650</td>\n",
       "      <td>NaN</td>\n",
       "      <td>CBFB_NFYA; Nuclear transcription factor Y subu...</td>\n",
       "    </tr>\n",
       "    <tr>\n",
       "      <th>12</th>\n",
       "      <td>PF13831</td>\n",
       "      <td>NaN</td>\n",
       "      <td>Topoisom_I; DNA topoisomerase I, catalytic cor...</td>\n",
       "    </tr>\n",
       "    <tr>\n",
       "      <th>13</th>\n",
       "      <td>PF07718</td>\n",
       "      <td>NaN</td>\n",
       "      <td>PHO4; Phosphate transporter</td>\n",
       "    </tr>\n",
       "    <tr>\n",
       "      <th>14</th>\n",
       "      <td>PF08647</td>\n",
       "      <td>NaN</td>\n",
       "      <td>RNA_pol_L_2; DNA-directed RNA polymerase, RBP1...</td>\n",
       "    </tr>\n",
       "    <tr>\n",
       "      <th>15</th>\n",
       "      <td>PF10471</td>\n",
       "      <td>NaN</td>\n",
       "      <td>SET; SET domain</td>\n",
       "    </tr>\n",
       "    <tr>\n",
       "      <th>16</th>\n",
       "      <td>PF03943</td>\n",
       "      <td>NaN</td>\n",
       "      <td>IGPS; Indole-3-glycerol phosphate synthase</td>\n",
       "    </tr>\n",
       "    <tr>\n",
       "      <th>17</th>\n",
       "      <td>PF04051</td>\n",
       "      <td>NaN</td>\n",
       "      <td>JAB; JAB1/MPN/MOV34 metalloenzyme domain</td>\n",
       "    </tr>\n",
       "    <tr>\n",
       "      <th>18</th>\n",
       "      <td>PF04912</td>\n",
       "      <td>NaN</td>\n",
       "      <td>Med4; Mediator complex, subunit Med4</td>\n",
       "    </tr>\n",
       "    <tr>\n",
       "      <th>19</th>\n",
       "      <td>PF00735</td>\n",
       "      <td>NaN</td>\n",
       "      <td>CLP1_P; Polyribonucleotide 5&amp;apos;-hydroxyl-ki...</td>\n",
       "    </tr>\n",
       "    <tr>\n",
       "      <th>20</th>\n",
       "      <td>PF04979</td>\n",
       "      <td>NaN</td>\n",
       "      <td>Met_10; SAM-dependent methyltransferase TRM5/T...</td>\n",
       "    </tr>\n",
       "    <tr>\n",
       "      <th>21</th>\n",
       "      <td>PF04136</td>\n",
       "      <td>NaN</td>\n",
       "      <td>LRR_4; Leucine rich repeat 4</td>\n",
       "    </tr>\n",
       "    <tr>\n",
       "      <th>22</th>\n",
       "      <td>PF04136</td>\n",
       "      <td>NaN</td>\n",
       "      <td>LRR_4; Leucine rich repeat 4</td>\n",
       "    </tr>\n",
       "    <tr>\n",
       "      <th>23</th>\n",
       "      <td>PF07491</td>\n",
       "      <td>NaN</td>\n",
       "      <td>PD40; WD40-like Beta Propeller</td>\n",
       "    </tr>\n",
       "    <tr>\n",
       "      <th>24</th>\n",
       "      <td>PF00466</td>\n",
       "      <td>NaN</td>\n",
       "      <td>Arg_tRNA_synt_N; Arginyl tRNA synthetase N-ter...</td>\n",
       "    </tr>\n",
       "    <tr>\n",
       "      <th>25</th>\n",
       "      <td>PF01221</td>\n",
       "      <td>NaN</td>\n",
       "      <td>DASH_Dad1; DASH complex subunit Dad1</td>\n",
       "    </tr>\n",
       "    <tr>\n",
       "      <th>26</th>\n",
       "      <td>PF12326</td>\n",
       "      <td>NaN</td>\n",
       "      <td>Shikimate_dh_N; Shikimate dehydrogenase substr...</td>\n",
       "    </tr>\n",
       "    <tr>\n",
       "      <th>27</th>\n",
       "      <td>PF00832</td>\n",
       "      <td>NaN</td>\n",
       "      <td>CPDase; 2&amp;apos;,3&amp;apos;-cyclic-nucleotide 3&amp;ap...</td>\n",
       "    </tr>\n",
       "    <tr>\n",
       "      <th>28</th>\n",
       "      <td>PF00620</td>\n",
       "      <td>NaN</td>\n",
       "      <td>Brix; Brix domain</td>\n",
       "    </tr>\n",
       "    <tr>\n",
       "      <th>29</th>\n",
       "      <td>PF12451</td>\n",
       "      <td>NaN</td>\n",
       "      <td>SnAC; Snf2, ATP coupling domain</td>\n",
       "    </tr>\n",
       "    <tr>\n",
       "      <th>30</th>\n",
       "      <td>PF07572</td>\n",
       "      <td>NaN</td>\n",
       "      <td>PGAP1; GPI inositol-deacylase PGAP1-like</td>\n",
       "    </tr>\n",
       "    <tr>\n",
       "      <th>31</th>\n",
       "      <td>PF02301</td>\n",
       "      <td>NaN</td>\n",
       "      <td>FAT; PIK-related kinase, FAT</td>\n",
       "    </tr>\n",
       "    <tr>\n",
       "      <th>32</th>\n",
       "      <td>PF03540</td>\n",
       "      <td>NaN</td>\n",
       "      <td>HPIH; HMG-CoA reductase, N-terminal domain</td>\n",
       "    </tr>\n",
       "    <tr>\n",
       "      <th>33</th>\n",
       "      <td>PF05615</td>\n",
       "      <td>NaN</td>\n",
       "      <td>NIR_SIR_ferr; Nitrite/Sulfite reductase ferred...</td>\n",
       "    </tr>\n",
       "    <tr>\n",
       "      <th>34</th>\n",
       "      <td>PF05615</td>\n",
       "      <td>NaN</td>\n",
       "      <td>NIR_SIR_ferr; Nitrite/Sulfite reductase ferred...</td>\n",
       "    </tr>\n",
       "    <tr>\n",
       "      <th>35</th>\n",
       "      <td>PF05615</td>\n",
       "      <td>NaN</td>\n",
       "      <td>NIR_SIR_ferr; Nitrite/Sulfite reductase ferred...</td>\n",
       "    </tr>\n",
       "    <tr>\n",
       "      <th>36</th>\n",
       "      <td>PF03054</td>\n",
       "      <td>NaN</td>\n",
       "      <td>Git3; Glucose receptor Git3, N-terminal</td>\n",
       "    </tr>\n",
       "    <tr>\n",
       "      <th>37</th>\n",
       "      <td>PF02374</td>\n",
       "      <td>NaN</td>\n",
       "      <td>FGGY_N; Carbohydrate kinase, FGGY, N-terminal</td>\n",
       "    </tr>\n",
       "    <tr>\n",
       "      <th>38</th>\n",
       "      <td>PF16818</td>\n",
       "      <td>NaN</td>\n",
       "      <td>ketoacyl-synt; Beta-ketoacyl synthase, N-terminal</td>\n",
       "    </tr>\n",
       "    <tr>\n",
       "      <th>39</th>\n",
       "      <td>PF02516</td>\n",
       "      <td>NaN</td>\n",
       "      <td>FUSC_2</td>\n",
       "    </tr>\n",
       "    <tr>\n",
       "      <th>40</th>\n",
       "      <td>PF00677</td>\n",
       "      <td>NaN</td>\n",
       "      <td>CDC4_D; Cell division control protein 4, dimer...</td>\n",
       "    </tr>\n",
       "    <tr>\n",
       "      <th>41</th>\n",
       "      <td>PF01435</td>\n",
       "      <td>NaN</td>\n",
       "      <td>DSPc; Dual specificity phosphatase, catalytic ...</td>\n",
       "    </tr>\n",
       "    <tr>\n",
       "      <th>42</th>\n",
       "      <td>PF03381</td>\n",
       "      <td>NaN</td>\n",
       "      <td>HDA2-3; HDA1 complex subunit 2/3</td>\n",
       "    </tr>\n",
       "    <tr>\n",
       "      <th>43</th>\n",
       "      <td>PF03357</td>\n",
       "      <td>NaN</td>\n",
       "      <td>HAND; ISWI, HAND domain</td>\n",
       "    </tr>\n",
       "    <tr>\n",
       "      <th>44</th>\n",
       "      <td>PF12856</td>\n",
       "      <td>NaN</td>\n",
       "      <td>TBP; TATA-box binding protein</td>\n",
       "    </tr>\n",
       "    <tr>\n",
       "      <th>45</th>\n",
       "      <td>PF00687</td>\n",
       "      <td>NaN</td>\n",
       "      <td>CDT1_C; DNA replication factor Cdt1, C-terminal</td>\n",
       "    </tr>\n",
       "    <tr>\n",
       "      <th>46</th>\n",
       "      <td>PF08118</td>\n",
       "      <td>NaN</td>\n",
       "      <td>PRKCSH_1; Mannose-6-phosphate receptor binding...</td>\n",
       "    </tr>\n",
       "    <tr>\n",
       "      <th>47</th>\n",
       "      <td>PF09724</td>\n",
       "      <td>NaN</td>\n",
       "      <td>Ribosomal_60s</td>\n",
       "    </tr>\n",
       "    <tr>\n",
       "      <th>48</th>\n",
       "      <td>PF00415</td>\n",
       "      <td>NaN</td>\n",
       "      <td>Ammonium_transp; Ammonium transporter AmtB-lik...</td>\n",
       "    </tr>\n",
       "  </tbody>\n",
       "</table>\n",
       "</div>"
      ],
      "text/plain": [
       "   domain-name domain-description_x  \\\n",
       "2      PF02854                  NaN   \n",
       "3      PF07569                  NaN   \n",
       "4      PF00888                  NaN   \n",
       "5      PF04096                  NaN   \n",
       "6      PF05739                  NaN   \n",
       "7      PF00627                  NaN   \n",
       "8      PF14821                  NaN   \n",
       "9      PF09757                  NaN   \n",
       "10     PF01483                  NaN   \n",
       "11     PF00650                  NaN   \n",
       "12     PF13831                  NaN   \n",
       "13     PF07718                  NaN   \n",
       "14     PF08647                  NaN   \n",
       "15     PF10471                  NaN   \n",
       "16     PF03943                  NaN   \n",
       "17     PF04051                  NaN   \n",
       "18     PF04912                  NaN   \n",
       "19     PF00735                  NaN   \n",
       "20     PF04979                  NaN   \n",
       "21     PF04136                  NaN   \n",
       "22     PF04136                  NaN   \n",
       "23     PF07491                  NaN   \n",
       "24     PF00466                  NaN   \n",
       "25     PF01221                  NaN   \n",
       "26     PF12326                  NaN   \n",
       "27     PF00832                  NaN   \n",
       "28     PF00620                  NaN   \n",
       "29     PF12451                  NaN   \n",
       "30     PF07572                  NaN   \n",
       "31     PF02301                  NaN   \n",
       "32     PF03540                  NaN   \n",
       "33     PF05615                  NaN   \n",
       "34     PF05615                  NaN   \n",
       "35     PF05615                  NaN   \n",
       "36     PF03054                  NaN   \n",
       "37     PF02374                  NaN   \n",
       "38     PF16818                  NaN   \n",
       "39     PF02516                  NaN   \n",
       "40     PF00677                  NaN   \n",
       "41     PF01435                  NaN   \n",
       "42     PF03381                  NaN   \n",
       "43     PF03357                  NaN   \n",
       "44     PF12856                  NaN   \n",
       "45     PF00687                  NaN   \n",
       "46     PF08118                  NaN   \n",
       "47     PF09724                  NaN   \n",
       "48     PF00415                  NaN   \n",
       "\n",
       "                                 domain-description_y  \n",
       "2       GHMP_kinases_N; GHMP kinase N-terminal domain  \n",
       "3             PFU; PLAA family ubiquitin binding, PFU  \n",
       "4                                       CS; CS domain  \n",
       "5   Kin17_mid; DNA/RNA-binding protein Kin17, cons...  \n",
       "6                NPCC; Nuclear pore complex component  \n",
       "7                                              Bystin  \n",
       "8                                           V-SNARE_C  \n",
       "9       Ribosomal_L14e; Ribosomal protein L14e domain  \n",
       "10          DUF155; Domain of unknown function DUF155  \n",
       "11  CBFB_NFYA; Nuclear transcription factor Y subu...  \n",
       "12  Topoisom_I; DNA topoisomerase I, catalytic cor...  \n",
       "13                        PHO4; Phosphate transporter  \n",
       "14  RNA_pol_L_2; DNA-directed RNA polymerase, RBP1...  \n",
       "15                                    SET; SET domain  \n",
       "16         IGPS; Indole-3-glycerol phosphate synthase  \n",
       "17           JAB; JAB1/MPN/MOV34 metalloenzyme domain  \n",
       "18               Med4; Mediator complex, subunit Med4  \n",
       "19  CLP1_P; Polyribonucleotide 5&apos;-hydroxyl-ki...  \n",
       "20  Met_10; SAM-dependent methyltransferase TRM5/T...  \n",
       "21                       LRR_4; Leucine rich repeat 4  \n",
       "22                       LRR_4; Leucine rich repeat 4  \n",
       "23                     PD40; WD40-like Beta Propeller  \n",
       "24  Arg_tRNA_synt_N; Arginyl tRNA synthetase N-ter...  \n",
       "25               DASH_Dad1; DASH complex subunit Dad1  \n",
       "26  Shikimate_dh_N; Shikimate dehydrogenase substr...  \n",
       "27  CPDase; 2&apos;,3&apos;-cyclic-nucleotide 3&ap...  \n",
       "28                                  Brix; Brix domain  \n",
       "29                    SnAC; Snf2, ATP coupling domain  \n",
       "30           PGAP1; GPI inositol-deacylase PGAP1-like  \n",
       "31                       FAT; PIK-related kinase, FAT  \n",
       "32         HPIH; HMG-CoA reductase, N-terminal domain  \n",
       "33  NIR_SIR_ferr; Nitrite/Sulfite reductase ferred...  \n",
       "34  NIR_SIR_ferr; Nitrite/Sulfite reductase ferred...  \n",
       "35  NIR_SIR_ferr; Nitrite/Sulfite reductase ferred...  \n",
       "36            Git3; Glucose receptor Git3, N-terminal  \n",
       "37      FGGY_N; Carbohydrate kinase, FGGY, N-terminal  \n",
       "38  ketoacyl-synt; Beta-ketoacyl synthase, N-terminal  \n",
       "39                                             FUSC_2  \n",
       "40  CDC4_D; Cell division control protein 4, dimer...  \n",
       "41  DSPc; Dual specificity phosphatase, catalytic ...  \n",
       "42                   HDA2-3; HDA1 complex subunit 2/3  \n",
       "43                            HAND; ISWI, HAND domain  \n",
       "44                      TBP; TATA-box binding protein  \n",
       "45    CDT1_C; DNA replication factor Cdt1, C-terminal  \n",
       "46  PRKCSH_1; Mannose-6-phosphate receptor binding...  \n",
       "47                                      Ribosomal_60s  \n",
       "48  Ammonium_transp; Ammonium transporter AmtB-lik...  "
      ]
     },
     "execution_count": 30,
     "metadata": {},
     "output_type": "execute_result"
    }
   ],
   "source": [
    "only_nsl_pd=pd.merge(repeated_features_sl,repeated_features_nsl,how='right',on=['domain-name'])\n",
    "data_only_nsl = only_nsl_pd[pd.isnull(only_nsl_pd['domain-description_x'])]\n",
    "data_only_nsl"
   ]
  },
  {
   "cell_type": "code",
   "execution_count": 31,
   "metadata": {
    "execution": {
     "iopub.execute_input": "2020-07-23T13:45:00.087661Z",
     "iopub.status.busy": "2020-07-23T13:45:00.087069Z",
     "iopub.status.idle": "2020-07-23T13:45:00.090027Z",
     "shell.execute_reply": "2020-07-23T13:45:00.090469Z"
    }
   },
   "outputs": [
    {
     "data": {
      "text/html": [
       "<div>\n",
       "<style scoped>\n",
       "    .dataframe tbody tr th:only-of-type {\n",
       "        vertical-align: middle;\n",
       "    }\n",
       "\n",
       "    .dataframe tbody tr th {\n",
       "        vertical-align: top;\n",
       "    }\n",
       "\n",
       "    .dataframe thead th {\n",
       "        text-align: right;\n",
       "    }\n",
       "</style>\n",
       "<table border=\"1\" class=\"dataframe\">\n",
       "  <thead>\n",
       "    <tr style=\"text-align: right;\">\n",
       "      <th></th>\n",
       "      <th>domain-name</th>\n",
       "      <th>domain-description_x</th>\n",
       "      <th>domain-description_y</th>\n",
       "    </tr>\n",
       "  </thead>\n",
       "  <tbody>\n",
       "    <tr>\n",
       "      <th>0</th>\n",
       "      <td>PF02940</td>\n",
       "      <td>GTP_cyclohydroI; GTP cyclohydrolase I domain</td>\n",
       "      <td>GTP_cyclohydroI; GTP cyclohydrolase I domain</td>\n",
       "    </tr>\n",
       "    <tr>\n",
       "      <th>1</th>\n",
       "      <td>PF09462</td>\n",
       "      <td>Rho_GDI; Rho protein GDP-dissociation inhibitor</td>\n",
       "      <td>Rho_GDI; Rho protein GDP-dissociation inhibitor</td>\n",
       "    </tr>\n",
       "  </tbody>\n",
       "</table>\n",
       "</div>"
      ],
      "text/plain": [
       "  domain-name                             domain-description_x  \\\n",
       "0     PF02940     GTP_cyclohydroI; GTP cyclohydrolase I domain   \n",
       "1     PF09462  Rho_GDI; Rho protein GDP-dissociation inhibitor   \n",
       "\n",
       "                              domain-description_y  \n",
       "0     GTP_cyclohydroI; GTP cyclohydrolase I domain  \n",
       "1  Rho_GDI; Rho protein GDP-dissociation inhibitor  "
      ]
     },
     "execution_count": 31,
     "metadata": {},
     "output_type": "execute_result"
    }
   ],
   "source": [
    "shared_domains_pd=pd.merge(repeated_features_sl,repeated_features_nsl,how='inner',on=['domain-name'])\n",
    "shared_domains_pd\n"
   ]
  },
  {
   "cell_type": "code",
   "execution_count": 32,
   "metadata": {
    "execution": {
     "iopub.execute_input": "2020-07-23T13:45:00.105993Z",
     "iopub.status.busy": "2020-07-23T13:45:00.103664Z",
     "iopub.status.idle": "2020-07-23T13:45:01.654798Z",
     "shell.execute_reply": "2020-07-23T13:45:01.654157Z"
    }
   },
   "outputs": [
    {
     "data": {
      "text/plain": [
       "(0.0, 0.2)"
      ]
     },
     "execution_count": 32,
     "metadata": {},
     "output_type": "execute_result"
    },
    {
     "data": {
      "image/png": "[encoded data removed]",
      "text/plain": [
       "<Figure size 432x288 with 1 Axes>"
      ]
     },
     "metadata": {
      "filenames": {
       "image/png": "/home/runner/work/jupyter-book/jupyter-book/mini_book/docs/_build/jupyter_execute/prot_domains2lethality-FEATURES-POSTPROCESSING_47_1.png"
      },
      "needs_background": "light"
     },
     "output_type": "display_data"
    }
   ],
   "source": [
    "a_sl=x_sl.iloc[:,np.sort(df_sl.iloc[:,1])]\n",
    "a_sl.describe().loc['mean'].hist(bins=8),\n",
    "a_sl.describe().loc['std'].hist(bins=8,alpha=0.4)\n",
    "plt.xlim([0,0.2])"
   ]
  },
  {
   "cell_type": "code",
   "execution_count": 33,
   "metadata": {
    "execution": {
     "iopub.execute_input": "2020-07-23T13:45:01.666700Z",
     "iopub.status.busy": "2020-07-23T13:45:01.666041Z",
     "iopub.status.idle": "2020-07-23T13:45:03.034846Z",
     "shell.execute_reply": "2020-07-23T13:45:03.035378Z"
    }
   },
   "outputs": [
    {
     "data": {
      "text/plain": [
       "(0.0, 0.2)"
      ]
     },
     "execution_count": 33,
     "metadata": {},
     "output_type": "execute_result"
    },
    {
     "data": {
      "image/png": "[encoded data removed]",
      "text/plain": [
       "<Figure size 432x288 with 1 Axes>"
      ]
     },
     "metadata": {
      "filenames": {
       "image/png": "/home/runner/work/jupyter-book/jupyter-book/mini_book/docs/_build/jupyter_execute/prot_domains2lethality-FEATURES-POSTPROCESSING_48_1.png"
      },
      "needs_background": "light"
     },
     "output_type": "display_data"
    }
   ],
   "source": [
    "a_nsl=x_nsl.iloc[:,np.sort(df_nsl.iloc[:,1])]\n",
    "a_nsl.describe().loc['mean'].hist(bins=8),\n",
    "a_nsl.describe().loc['std'].hist(bins=8,alpha=0.4)\n",
    "plt.xlim([0,0.2])"
   ]
  },
  {
   "cell_type": "markdown",
   "metadata": {},
   "source": [
    "### Proof of concept with *BEM1*\n",
    "\n",
    "- Gather the domains of SL and nSL pairs from BEM1\n",
    "- Check if the domains for the SL and nSL pairs are inside the most important domains after PCA."
   ]
  },
  {
   "cell_type": "code",
   "execution_count": 34,
   "metadata": {
    "execution": {
     "iopub.execute_input": "2020-07-23T13:45:03.042863Z",
     "iopub.status.busy": "2020-07-23T13:45:03.041862Z",
     "iopub.status.idle": "2020-07-23T13:45:03.045722Z",
     "shell.execute_reply": "2020-07-23T13:45:03.045256Z"
    }
   },
   "outputs": [],
   "source": [
    "domains_bem1=data_domains[data_domains['name']=='BEM1']['domain-descrip']\n",
    "sl_bem1=data_sl[data_sl['gene-query-name']=='BEM1']['gene-target-name']"
   ]
  },
  {
   "cell_type": "code",
   "execution_count": 35,
   "metadata": {
    "execution": {
     "iopub.execute_input": "2020-07-23T13:45:03.050565Z",
     "iopub.status.busy": "2020-07-23T13:45:03.050039Z",
     "iopub.status.idle": "2020-07-23T13:45:03.054719Z",
     "shell.execute_reply": "2020-07-23T13:45:03.055311Z"
    }
   },
   "outputs": [
    {
     "data": {
      "text/plain": [
       "2846      BEM2\n",
       "2847     CDC24\n",
       "5004      MSB1\n",
       "13777     SMI1\n",
       "13778     BNI1\n",
       "13779     BEM2\n",
       "14385     SKN7\n",
       "Name: gene-target-name, dtype: object"
      ]
     },
     "execution_count": 35,
     "metadata": {},
     "output_type": "execute_result"
    }
   ],
   "source": [
    "sl_bem1"
   ]
  },
  {
   "cell_type": "code",
   "execution_count": 36,
   "metadata": {
    "execution": {
     "iopub.execute_input": "2020-07-23T13:45:03.069503Z",
     "iopub.status.busy": "2020-07-23T13:45:03.068976Z",
     "iopub.status.idle": "2020-07-23T13:45:03.073976Z",
     "shell.execute_reply": "2020-07-23T13:45:03.074390Z"
    }
   },
   "outputs": [
    {
     "data": {
      "text/html": [
       "<div>\n",
       "<style scoped>\n",
       "    .dataframe tbody tr th:only-of-type {\n",
       "        vertical-align: middle;\n",
       "    }\n",
       "\n",
       "    .dataframe tbody tr th {\n",
       "        vertical-align: top;\n",
       "    }\n",
       "\n",
       "    .dataframe thead th {\n",
       "        text-align: right;\n",
       "    }\n",
       "</style>\n",
       "<table border=\"1\" class=\"dataframe\">\n",
       "  <thead>\n",
       "    <tr style=\"text-align: right;\">\n",
       "      <th></th>\n",
       "      <th>gene-query</th>\n",
       "      <th>gene-target</th>\n",
       "      <th>gene-query-name</th>\n",
       "      <th>gene-target-name</th>\n",
       "      <th>gene-query-description</th>\n",
       "      <th>gene-target-description</th>\n",
       "      <th>interaction-type</th>\n",
       "      <th>paper-source</th>\n",
       "    </tr>\n",
       "  </thead>\n",
       "  <tbody>\n",
       "    <tr>\n",
       "      <th>2846</th>\n",
       "      <td>YBR200W</td>\n",
       "      <td>YER155C</td>\n",
       "      <td>BEM1</td>\n",
       "      <td>BEM2</td>\n",
       "      <td>SRO1|phosphatidylinositol-3-phosphate-binding ...</td>\n",
       "      <td>IPL2|SUP9|TSL1|L000000168</td>\n",
       "      <td>Synthetic Lethality</td>\n",
       "      <td>Peterson J (1994)</td>\n",
       "    </tr>\n",
       "    <tr>\n",
       "      <th>2847</th>\n",
       "      <td>YBR200W</td>\n",
       "      <td>YAL041W</td>\n",
       "      <td>BEM1</td>\n",
       "      <td>CDC24</td>\n",
       "      <td>SRO1|phosphatidylinositol-3-phosphate-binding ...</td>\n",
       "      <td>CLS4|Rho family guanine nucleotide exchange fa...</td>\n",
       "      <td>Synthetic Lethality</td>\n",
       "      <td>Peterson J (1994)</td>\n",
       "    </tr>\n",
       "    <tr>\n",
       "      <th>5004</th>\n",
       "      <td>YBR200W</td>\n",
       "      <td>YOR188W</td>\n",
       "      <td>BEM1</td>\n",
       "      <td>MSB1</td>\n",
       "      <td>SRO1|phosphatidylinositol-3-phosphate-binding ...</td>\n",
       "      <td>L000001184</td>\n",
       "      <td>Synthetic Lethality</td>\n",
       "      <td>Bender A (1991)</td>\n",
       "    </tr>\n",
       "    <tr>\n",
       "      <th>13777</th>\n",
       "      <td>YBR200W</td>\n",
       "      <td>YGR229C</td>\n",
       "      <td>BEM1</td>\n",
       "      <td>SMI1</td>\n",
       "      <td>SRO1|phosphatidylinositol-3-phosphate-binding ...</td>\n",
       "      <td>KNR4|L000000909</td>\n",
       "      <td>Synthetic Lethality</td>\n",
       "      <td>Gorelik M (2011)</td>\n",
       "    </tr>\n",
       "    <tr>\n",
       "      <th>13778</th>\n",
       "      <td>YBR200W</td>\n",
       "      <td>YNL271C</td>\n",
       "      <td>BEM1</td>\n",
       "      <td>BNI1</td>\n",
       "      <td>SRO1|phosphatidylinositol-3-phosphate-binding ...</td>\n",
       "      <td>PPF3|SHE5|formin BNI1|L000000190</td>\n",
       "      <td>Synthetic Lethality</td>\n",
       "      <td>Gorelik M (2011)</td>\n",
       "    </tr>\n",
       "    <tr>\n",
       "      <th>13779</th>\n",
       "      <td>YBR200W</td>\n",
       "      <td>YER155C</td>\n",
       "      <td>BEM1</td>\n",
       "      <td>BEM2</td>\n",
       "      <td>SRO1|phosphatidylinositol-3-phosphate-binding ...</td>\n",
       "      <td>IPL2|SUP9|TSL1|L000000168</td>\n",
       "      <td>Synthetic Lethality</td>\n",
       "      <td>Gorelik M (2011)</td>\n",
       "    </tr>\n",
       "    <tr>\n",
       "      <th>14385</th>\n",
       "      <td>YBR200W</td>\n",
       "      <td>YHR206W</td>\n",
       "      <td>BEM1</td>\n",
       "      <td>SKN7</td>\n",
       "      <td>SRO1|phosphatidylinositol-3-phosphate-binding ...</td>\n",
       "      <td>BRY1|POS9|kinase-regulated stress-responsive t...</td>\n",
       "      <td>Dosage Lethality</td>\n",
       "      <td>Bouquin N (1999)</td>\n",
       "    </tr>\n",
       "  </tbody>\n",
       "</table>\n",
       "</div>"
      ],
      "text/plain": [
       "      gene-query gene-target gene-query-name gene-target-name  \\\n",
       "2846     YBR200W     YER155C            BEM1             BEM2   \n",
       "2847     YBR200W     YAL041W            BEM1            CDC24   \n",
       "5004     YBR200W     YOR188W            BEM1             MSB1   \n",
       "13777    YBR200W     YGR229C            BEM1             SMI1   \n",
       "13778    YBR200W     YNL271C            BEM1             BNI1   \n",
       "13779    YBR200W     YER155C            BEM1             BEM2   \n",
       "14385    YBR200W     YHR206W            BEM1             SKN7   \n",
       "\n",
       "                                  gene-query-description  \\\n",
       "2846   SRO1|phosphatidylinositol-3-phosphate-binding ...   \n",
       "2847   SRO1|phosphatidylinositol-3-phosphate-binding ...   \n",
       "5004   SRO1|phosphatidylinositol-3-phosphate-binding ...   \n",
       "13777  SRO1|phosphatidylinositol-3-phosphate-binding ...   \n",
       "13778  SRO1|phosphatidylinositol-3-phosphate-binding ...   \n",
       "13779  SRO1|phosphatidylinositol-3-phosphate-binding ...   \n",
       "14385  SRO1|phosphatidylinositol-3-phosphate-binding ...   \n",
       "\n",
       "                                 gene-target-description     interaction-type  \\\n",
       "2846                           IPL2|SUP9|TSL1|L000000168  Synthetic Lethality   \n",
       "2847   CLS4|Rho family guanine nucleotide exchange fa...  Synthetic Lethality   \n",
       "5004                                          L000001184  Synthetic Lethality   \n",
       "13777                                    KNR4|L000000909  Synthetic Lethality   \n",
       "13778                   PPF3|SHE5|formin BNI1|L000000190  Synthetic Lethality   \n",
       "13779                          IPL2|SUP9|TSL1|L000000168  Synthetic Lethality   \n",
       "14385  BRY1|POS9|kinase-regulated stress-responsive t...     Dosage Lethality   \n",
       "\n",
       "            paper-source  \n",
       "2846   Peterson J (1994)  \n",
       "2847   Peterson J (1994)  \n",
       "5004     Bender A (1991)  \n",
       "13777   Gorelik M (2011)  \n",
       "13778   Gorelik M (2011)  \n",
       "13779   Gorelik M (2011)  \n",
       "14385   Bouquin N (1999)  "
      ]
     },
     "execution_count": 36,
     "metadata": {},
     "output_type": "execute_result"
    }
   ],
   "source": [
    "data_sl[data_sl['gene-query-name']=='BEM1']"
   ]
  },
  {
   "cell_type": "code",
   "execution_count": null,
   "metadata": {},
   "outputs": [],
   "source": []
  }
 ],
 "metadata": {
  "jupytext": {
   "text_representation": {
    "extension": ".md",
    "format_name": "myst"
   }
  },
  "kernelspec": {
   "display_name": "Python 3",
   "language": "python",
   "name": "python3"
  },
  "language_info": {
   "codemirror_mode": {
    "name": "ipython",
    "version": 3
   },
   "file_extension": ".py",
   "mimetype": "text/x-python",
   "name": "python",
   "nbconvert_exporter": "python",
   "pygments_lexer": "ipython3",
   "version": "3.7.8"
  },
  "source_map": [
   10,
   18,
   29,
   36,
   57,
   66,
   98,
   101,
   105,
   128,
   131,
   135,
   139,
   145,
   178,
   184,
   188,
   206,
   210,
   218,
   222,
   225,
   229,
   234,
   238,
   244,
   248,
   253,
   257,
   267,
   269,
   273,
   306,
   311,
   313,
   317,
   328,
   330,
   334,
   344,
   348,
   358,
   360,
   364,
   381,
   388,
   394,
   400,
   407,
   412,
   419,
   424,
   428,
   432
  ]
 },
 "nbformat": 4,
 "nbformat_minor": 4
}