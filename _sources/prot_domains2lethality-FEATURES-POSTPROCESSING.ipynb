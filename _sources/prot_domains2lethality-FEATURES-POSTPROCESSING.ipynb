{
 "cells": [
  {
   "cell_type": "markdown",
   "metadata": {},
   "source": [
    "# Feature postprocessing from paper.\n",
    "- Title:  \"Predicting yeast synthetic lethal genetic interactions using protein domains\"\n",
    "- Authors: Bo Li, Feng Luo,School of Computing,Clemson University,Clemson, SC, USA\n",
    "- e-mail: bol, luofeng@clemson.edu\n",
    "- year:2009"
   ]
  },
  {
   "cell_type": "code",
   "execution_count": 1,
   "metadata": {
    "execution": {
     "iopub.execute_input": "2020-08-13T18:09:54.153290Z",
     "iopub.status.busy": "2020-08-13T18:09:54.152761Z",
     "iopub.status.idle": "2020-08-13T18:09:54.891874Z",
     "shell.execute_reply": "2020-08-13T18:09:54.891241Z"
    }
   },
   "outputs": [],
   "source": [
    "import pandas as pd\n",
    "import numpy as np\n",
    "import matplotlib.pyplot as plt\n",
    "from collections import defaultdict \n",
    "import seaborn as sns\n",
    "import matplotlib.cm as cm\n",
    "import scipy as scipy\n",
    "import random"
   ]
  },
  {
   "cell_type": "markdown",
   "metadata": {
    "jupyter": {
     "source_hidden": true
    }
   },
   "source": [
    "### Importing datasets \n",
    "\n",
    "#### Link to the github repo where the datasets to be downloaded:\n",
    "[DOWNLOAD THE DATASETS HERE](https://github.com/leilaicruz/machine-learning-for-yeast/tree/dev_Leila/datasets-for-learning)"
   ]
  },
  {
   "cell_type": "code",
   "execution_count": 2,
   "metadata": {
    "execution": {
     "iopub.execute_input": "2020-08-13T18:09:54.898899Z",
     "iopub.status.busy": "2020-08-13T18:09:54.897317Z",
     "iopub.status.idle": "2020-08-13T18:10:02.506682Z",
     "shell.execute_reply": "2020-08-13T18:10:02.506110Z"
    }
   },
   "outputs": [],
   "source": [
    "import os\n",
    "script_dir = os.path.dirname('__file__') #<-- absolute dir the script is in\n",
    "rel_path_SL = \"datasets/data-synthetic-lethals.xlsx\"\n",
    "rel_path_nSL=\"datasets/data-positive-genetic.xlsx\"\n",
    "rel_path_domains=\"datasets/proteins-domains-from-Pfam.xlsx\"\n",
    "\n",
    "abs_file_path_SL = os.path.join(script_dir, rel_path_SL)\n",
    "abs_file_path_nSL = os.path.join(script_dir, rel_path_nSL)\n",
    "abs_file_path_domains = os.path.join(script_dir, rel_path_domains)\n",
    "\n",
    "# os.chdir('mini_book/docs/') #<-- for binder os.chdir('../')\n",
    "# os.chdir('../')\n",
    "my_path_sl= abs_file_path_SL\n",
    "my_path_non_sl=abs_file_path_nSL\n",
    "my_path_domains=abs_file_path_domains\n",
    "\n",
    "data_sl=pd.read_excel(my_path_sl,header=0)\n",
    "data_domains=pd.read_excel(my_path_domains,header=0,index_col='Unnamed: 0')\n",
    "data_domains=data_domains.dropna()\n",
    "data_nonsl=pd.read_excel(my_path_non_sl,header=0)"
   ]
  },
  {
   "cell_type": "markdown",
   "metadata": {},
   "source": [
    "## Building the feature matrix\n",
    "One matrix for true SL where each row is one pair of SL. Every raw will be a vector of 0,1 or 2 depending on the comparison with the domain list. For row i the jth element = 0 if the jth element of the domain list is not in neither protein A and B, 1, if it is in one of them and 2 if it is in both of them .\n",
    "\n",
    "### Building the list of proteins domains id per protein pair separately :\n",
    "- List of protein A: Search for the Sl/nSL database the query gene name and look in the protein domain database which protein domains id has each of those queries.\n",
    "- List of protein B: Search for the Sl/nSL database the target gene name of the previous query and look in the protein domain database which protein domains id has each of those target genes."
   ]
  },
  {
   "cell_type": "code",
   "execution_count": 3,
   "metadata": {
    "execution": {
     "iopub.execute_input": "2020-08-13T18:10:03.030964Z",
     "iopub.status.busy": "2020-08-13T18:10:02.518493Z",
     "iopub.status.idle": "2020-08-13T18:10:04.399766Z",
     "shell.execute_reply": "2020-08-13T18:10:04.400193Z"
    }
   },
   "outputs": [],
   "source": [
    "# Selecting the meaningful columns in the respective dataset\n",
    "domain_id_list=data_domains['domain-name']\n",
    "query_gene=data_sl['gene-query-name']\n",
    "target_gene=data_sl['gene-target-name']\n",
    "query_gene_nonlethal=data_nonsl['gene-query-name']\n",
    "target_gene_nonlethal=data_nonsl['gene-target-name']\n",
    "\n",
    "\n",
    "\n",
    "# Initialising the arrays\n",
    "protein_a_list=[]\n",
    "protein_b_list=[]\n",
    "protein_a_list_non=[]\n",
    "protein_b_list_non=[]\n",
    "\n",
    "population = np.arange(0,len(data_sl))\n",
    "\n",
    "# For loop for 10000 pairs sampled randomly from the SL/nSl pair list , and creating a big array of proteind domains id per protein pair\n",
    "\n",
    "for m in random.sample(list(population), 500):\n",
    "    protein_a=data_domains[data_domains['name']==query_gene[m]]\n",
    "    protein_b=data_domains[data_domains['name']==target_gene[m]]\n",
    "    protein_a_list.append(protein_a['domain-name'].tolist())\n",
    "    protein_b_list.append(protein_b['domain-name'].tolist())\n",
    "\n",
    "    protein_a_non=data_domains[data_domains['name']==query_gene_nonlethal[m]]\n",
    "    protein_b_non=data_domains[data_domains['name']==target_gene_nonlethal[m]]\n",
    "    protein_a_list_non.append(protein_a_non['domain-name'].tolist())\n",
    "    protein_b_list_non.append(protein_b_non['domain-name'].tolist())"
   ]
  },
  {
   "cell_type": "code",
   "execution_count": 4,
   "metadata": {
    "execution": {
     "iopub.execute_input": "2020-08-13T18:10:04.405418Z",
     "iopub.status.busy": "2020-08-13T18:10:04.404880Z",
     "iopub.status.idle": "2020-08-13T18:10:04.409508Z",
     "shell.execute_reply": "2020-08-13T18:10:04.409066Z"
    }
   },
   "outputs": [
    {
     "name": "stdout",
     "output_type": "stream",
     "text": [
      "We are going to analyze 500 protein pairs, out of 17871 SL protein pairs\n",
      "We are going to analyze 500 protein pairs, out of 43340 positive protein pairs\n"
     ]
    }
   ],
   "source": [
    "print('We are going to analyze',len((protein_a_list)) ,'protein pairs, out of',len(data_sl),'SL protein pairs')\n",
    "print('We are going to analyze',len((protein_a_list_non)) ,'protein pairs, out of',len(data_nonsl),'positive protein pairs')"
   ]
  },
  {
   "cell_type": "markdown",
   "metadata": {},
   "source": [
    "### Postprocessing #1:  Remove protein pairs from study if either protein in the pair does not contain any domain"
   ]
  },
  {
   "cell_type": "code",
   "execution_count": 5,
   "metadata": {
    "execution": {
     "iopub.execute_input": "2020-08-13T18:10:04.418342Z",
     "iopub.status.busy": "2020-08-13T18:10:04.417732Z",
     "iopub.status.idle": "2020-08-13T18:10:04.421149Z",
     "shell.execute_reply": "2020-08-13T18:10:04.420729Z"
    }
   },
   "outputs": [],
   "source": [
    "def remove_empty_domains(protein_list_search,protein_list_pair):\n",
    "    index=[]\n",
    "    for i in np.arange(0,len(protein_list_search)):\n",
    "        if protein_list_search[i]==[] or protein_list_pair[i]==[]:\n",
    "            index.append(i) ## index of empty values for the protein_a_list meaning they dont have any annotated domain\n",
    "\n",
    "    y=[x for x in np.arange(0,len(protein_list_search)) if x not in index] # a list with non empty values from protein_a list\n",
    "\n",
    "    protein_list_search_new=[]\n",
    "    protein_list_pair_new=[]\n",
    "    for i in y:\n",
    "        protein_list_search_new.append(protein_list_search[i])\n",
    "        protein_list_pair_new.append(protein_list_pair[i])\n",
    "    return protein_list_search_new,protein_list_pair_new\n",
    "\n",
    "## evaluating the function\n",
    "\n",
    "protein_a_list_new,protein_b_list_new=remove_empty_domains(protein_a_list,protein_b_list)\n",
    "\n",
    "protein_a_list_non_new,protein_b_list_non_new=remove_empty_domains(protein_a_list_non,protein_b_list_non)"
   ]
  },
  {
   "cell_type": "code",
   "execution_count": 6,
   "metadata": {
    "execution": {
     "iopub.execute_input": "2020-08-13T18:10:04.431234Z",
     "iopub.status.busy": "2020-08-13T18:10:04.430520Z",
     "iopub.status.idle": "2020-08-13T18:10:04.432812Z",
     "shell.execute_reply": "2020-08-13T18:10:04.431707Z"
    }
   },
   "outputs": [
    {
     "name": "stdout",
     "output_type": "stream",
     "text": [
      "The empty domain in the SL were: 80 out of 500 domains\n",
      "The empty domain in the nSL were: 96 out of 500 domains\n"
     ]
    }
   ],
   "source": [
    "print('The empty domain in the SL were:', len(protein_a_list)-len(protein_a_list_new), 'out of', len(protein_a_list),'domains')\n",
    "print('The empty domain in the nSL were:', len(protein_a_list_non)-len(protein_a_list_non_new), 'out of', len(protein_a_list_non),'domains')"
   ]
  },
  {
   "cell_type": "markdown",
   "metadata": {},
   "source": [
    "### Feature engineering: Select from each ordered indexes of domain id list which of them appear once, in both or in any of the domains of each protein pair"
   ]
  },
  {
   "cell_type": "markdown",
   "metadata": {},
   "source": [
    "#### Define function `get_indexes`"
   ]
  },
  {
   "cell_type": "code",
   "execution_count": 7,
   "metadata": {
    "execution": {
     "iopub.execute_input": "2020-08-13T18:10:04.443875Z",
     "iopub.status.busy": "2020-08-13T18:10:04.443077Z",
     "iopub.status.idle": "2020-08-13T18:10:04.446093Z",
     "shell.execute_reply": "2020-08-13T18:10:04.446571Z"
    }
   },
   "outputs": [
    {
     "data": {
      "text/plain": [
       "[1, 2]"
      ]
     },
     "execution_count": 7,
     "metadata": {},
     "output_type": "execute_result"
    }
   ],
   "source": [
    "get_indexes = lambda x, xs: [i for (y, i) in zip(xs, range(len(xs))) if x == y] # a function that give the index of whether a value appear in array or not\n",
    "a=[1,2,2,4,5,6,7,8,9,10]\n",
    "get_indexes(2,a)"
   ]
  },
  {
   "cell_type": "code",
   "execution_count": 8,
   "metadata": {
    "execution": {
     "iopub.execute_input": "2020-08-13T18:10:04.455375Z",
     "iopub.status.busy": "2020-08-13T18:10:04.454322Z",
     "iopub.status.idle": "2020-08-13T18:10:04.456884Z",
     "shell.execute_reply": "2020-08-13T18:10:04.457315Z"
    }
   },
   "outputs": [],
   "source": [
    "def feature_building(protein_a_list_new,protein_b_list_new):\n",
    "    x = np.unique(domain_id_list)\n",
    "    ## To avoid taking repeated domains from one protein of the pairs , lets reduced the domains of each protein from the pairs to their unique members\n",
    "    protein_a_list_unique=[]\n",
    "    protein_b_list_unique=[]\n",
    "    for i in np.arange(0,len(protein_a_list_new)):\n",
    "        protein_a_list_unique.append(np.unique(protein_a_list_new[i]))\n",
    "        protein_b_list_unique.append(np.unique(protein_b_list_new[i]))\n",
    "        \n",
    "    protein_feat_true=np.zeros(shape=(len(x),len(protein_a_list_unique)))\n",
    "    pair_a_b_array=[]\n",
    "    for i in np.arange(0,len(protein_a_list_unique)):\n",
    "        index_a=[]\n",
    "        \n",
    "        pair=[protein_a_list_unique[i],protein_b_list_unique[i]]\n",
    "        pair_a_b=np.concatenate(pair).ravel()\n",
    "        pair_a_b_array.append(pair_a_b)\n",
    "\n",
    "    j=0\n",
    "    for i in pair_a_b_array:  \n",
    "        array,index,counts=np.unique(i,return_index=True,return_counts=True)\n",
    "        \n",
    "        for k,m in zip(counts,array):\n",
    "            if k ==2:\n",
    "                protein_feat_true[get_indexes(m,x),j]=2\n",
    "                \n",
    "            if k==1:\n",
    "                protein_feat_true[get_indexes(m,x),j]=1\n",
    "        j=j+1\n",
    "    return protein_feat_true"
   ]
  },
  {
   "cell_type": "code",
   "execution_count": 9,
   "metadata": {
    "execution": {
     "iopub.execute_input": "2020-08-13T18:10:04.466333Z",
     "iopub.status.busy": "2020-08-13T18:10:04.465791Z",
     "iopub.status.idle": "2020-08-13T18:10:05.133284Z",
     "shell.execute_reply": "2020-08-13T18:10:05.133767Z"
    }
   },
   "outputs": [],
   "source": [
    "protein_feat_true=feature_building(protein_b_list_new=protein_b_list_new,protein_a_list_new=protein_a_list_new)\n",
    "protein_feat_true_pd=pd.DataFrame(protein_feat_true.T)\n",
    "\n",
    "protein_feat_non_true=feature_building(protein_b_list_new=protein_b_list_non_new,protein_a_list_new=protein_a_list_non_new)\n",
    "protein_feat_non_true_pd=pd.DataFrame(protein_feat_non_true.T)"
   ]
  },
  {
   "cell_type": "markdown",
   "metadata": {},
   "source": [
    "### How many ones and twos are in each dataset"
   ]
  },
  {
   "cell_type": "code",
   "execution_count": 10,
   "metadata": {
    "execution": {
     "iopub.execute_input": "2020-08-13T18:10:05.140037Z",
     "iopub.status.busy": "2020-08-13T18:10:05.139514Z",
     "iopub.status.idle": "2020-08-13T18:10:05.251401Z",
     "shell.execute_reply": "2020-08-13T18:10:05.250931Z"
    }
   },
   "outputs": [
    {
     "name": "stdout",
     "output_type": "stream",
     "text": [
      "fraction of twos in the SL array is 1.810310901219992e-05\n",
      "fraction of ones in the SL array is 0.0010098386462022825\n",
      "fraction of twos in the PI array is 1.6365272890925457e-06\n",
      "fraction of ones in the PI array is 0.0009295475002045659\n"
     ]
    }
   ],
   "source": [
    "index_2_true=protein_feat_true_pd.where(protein_feat_true_pd==2)\n",
    "index_2_true_count=index_2_true.count(axis=1).sum()\n",
    "\n",
    "index_1_true=protein_feat_true_pd.where(protein_feat_true_pd==1)\n",
    "index_1_true_count=index_1_true.count(axis=1).sum()\n",
    "\n",
    "index_2_nontrue=protein_feat_non_true_pd.where(protein_feat_non_true_pd==2)\n",
    "index_2_nontrue_count=index_2_nontrue.count(axis=1).sum()\n",
    "\n",
    "index_1_nontrue=protein_feat_non_true_pd.where(protein_feat_non_true_pd==1)\n",
    "index_1_nontrue_count=index_1_nontrue.count(axis=1).sum()\n",
    "\n",
    "\n",
    "print('fraction of twos in the SL array is',index_2_true_count/(len(protein_feat_true_pd.index)*len(protein_feat_true_pd.columns)))\n",
    "print('fraction of ones in the SL array is',index_1_true_count/(len(protein_feat_true_pd.index)*len(protein_feat_true_pd.columns)))\n",
    "print('fraction of twos in the PI array is',index_2_nontrue_count/(len(protein_feat_non_true_pd.index)*len(protein_feat_non_true_pd.columns)))\n",
    "print('fraction of ones in the PI array is',index_1_nontrue_count/(len(protein_feat_non_true_pd.index)*len(protein_feat_non_true_pd.columns)))"
   ]
  },
  {
   "cell_type": "markdown",
   "metadata": {},
   "source": [
    "#### Bar plot to visualize these numbers"
   ]
  },
  {
   "cell_type": "code",
   "execution_count": 11,
   "metadata": {
    "execution": {
     "iopub.execute_input": "2020-08-13T18:10:05.263985Z",
     "iopub.status.busy": "2020-08-13T18:10:05.257373Z",
     "iopub.status.idle": "2020-08-13T18:10:05.694776Z",
     "shell.execute_reply": "2020-08-13T18:10:05.694283Z"
    }
   },
   "outputs": [
    {
     "data": {
      "text/plain": [
       "([0, 1, 2, 3],\n",
       " [Text(0, 0, ''), Text(0, 0, ''), Text(0, 0, ''), Text(0, 0, '')])"
      ]
     },
     "execution_count": 11,
     "metadata": {},
     "output_type": "execute_result"
    },
    {
     "data": {
      "image/png": "[encoded data removed]",
      "text/plain": [
       "<Figure size 432x288 with 1 Axes>"
      ]
     },
     "metadata": {
      "filenames": {
       "image/png": "/home/runner/work/jupyter-book/jupyter-book/mini_book/docs/_build/jupyter_execute/prot_domains2lethality-FEATURES-POSTPROCESSING_18_1.png"
      },
      "needs_background": "light"
     },
     "output_type": "display_data"
    }
   ],
   "source": [
    "plt.bar(['fraction of 2 in the nSL','fraction of 1 in the nSL'],[index_2_nontrue_count/(len(protein_feat_non_true_pd.index)*len(protein_feat_non_true_pd.columns)),index_1_nontrue_count/(len(protein_feat_non_true_pd.index)*len(protein_feat_non_true_pd.columns))],alpha=0.6,color=['blue','lightblue']), \n",
    "\n",
    "plt.bar(['fraction of 2 in SL ','fraction of 1 in SL'],[index_2_true_count/(len(protein_feat_true_pd.index)*len(protein_feat_true_pd.columns)),index_1_true_count/(len(protein_feat_true_pd.index)*len(protein_feat_true_pd.columns))],alpha=0.6,color=['coral','lightcoral'])\n",
    "\n",
    "plt.ylabel('Fraction from the population')\n",
    "plt.yscale('log')\n",
    "plt.xticks(rotation=40)"
   ]
  },
  {
   "cell_type": "markdown",
   "metadata": {},
   "source": [
    "#### Adding the labels(response variables) to each dataset"
   ]
  },
  {
   "cell_type": "code",
   "execution_count": 12,
   "metadata": {
    "execution": {
     "iopub.execute_input": "2020-08-13T18:10:05.700976Z",
     "iopub.status.busy": "2020-08-13T18:10:05.700467Z",
     "iopub.status.idle": "2020-08-13T18:10:05.704068Z",
     "shell.execute_reply": "2020-08-13T18:10:05.703391Z"
    }
   },
   "outputs": [],
   "source": [
    "protein_feat_true_pd['lethality']=np.ones(shape=(len(protein_a_list_new)))\n",
    "protein_feat_non_true_pd['lethality']=np.zeros(shape=(len(protein_a_list_non_new)))"
   ]
  },
  {
   "cell_type": "markdown",
   "metadata": {},
   "source": [
    "#### Joining both datasets"
   ]
  },
  {
   "cell_type": "code",
   "execution_count": 13,
   "metadata": {
    "execution": {
     "iopub.execute_input": "2020-08-13T18:10:05.708660Z",
     "iopub.status.busy": "2020-08-13T18:10:05.708191Z",
     "iopub.status.idle": "2020-08-13T18:10:05.748458Z",
     "shell.execute_reply": "2020-08-13T18:10:05.747381Z"
    }
   },
   "outputs": [
    {
     "name": "stdout",
     "output_type": "stream",
     "text": [
      "The number of features are: 3026\n",
      "The number of samples are: 824\n"
     ]
    }
   ],
   "source": [
    "feature_post=pd.concat([protein_feat_true_pd,protein_feat_non_true_pd],axis=0)\n",
    "feature_post=feature_post.set_index(np.arange(0,len(protein_a_list_new)+len(protein_a_list_non_new)))\n",
    "print('The number of features are:',feature_post.shape[1])\n",
    "print('The number of samples are:',feature_post.shape[0])"
   ]
  },
  {
   "cell_type": "markdown",
   "metadata": {},
   "source": [
    "### Postprocessing and exploration of the feature matrix of both datasets"
   ]
  },
  {
   "cell_type": "code",
   "execution_count": 14,
   "metadata": {
    "execution": {
     "iopub.execute_input": "2020-08-13T18:10:05.764352Z",
     "iopub.status.busy": "2020-08-13T18:10:05.763089Z",
     "iopub.status.idle": "2020-08-13T18:10:09.195181Z",
     "shell.execute_reply": "2020-08-13T18:10:09.195669Z"
    }
   },
   "outputs": [],
   "source": [
    "mean=feature_post.T.describe().loc['mean']\n",
    "std=feature_post.T.describe().loc['std']\n",
    "lethality=feature_post['lethality']\n",
    "\n",
    "corr_keys=pd.concat([mean,std,lethality],axis=1)"
   ]
  },
  {
   "cell_type": "markdown",
   "metadata": {},
   "source": [
    "### Viz of the stats"
   ]
  },
  {
   "cell_type": "code",
   "execution_count": 15,
   "metadata": {
    "execution": {
     "iopub.execute_input": "2020-08-13T18:10:09.242168Z",
     "iopub.status.busy": "2020-08-13T18:10:09.241223Z",
     "iopub.status.idle": "2020-08-13T18:10:10.483169Z",
     "shell.execute_reply": "2020-08-13T18:10:10.482695Z"
    }
   },
   "outputs": [
    {
     "data": {
      "text/plain": [
       "Text(0.5, 1.08, 'Pairplot to see data dependencies with Lethality')"
      ]
     },
     "execution_count": 15,
     "metadata": {},
     "output_type": "execute_result"
    },
    {
     "data": {
      "image/png": "[encoded data removed]",
      "text/plain": [
       "<Figure size 412x360 with 6 Axes>"
      ]
     },
     "metadata": {
      "filenames": {
       "image/png": "/home/runner/work/jupyter-book/jupyter-book/mini_book/docs/_build/jupyter_execute/prot_domains2lethality-FEATURES-POSTPROCESSING_26_1.png"
      },
      "needs_background": "light"
     },
     "output_type": "display_data"
    }
   ],
   "source": [
    "pair=sns.pairplot(corr_keys,hue='lethality',diag_kind='kde',kind='reg',palette='colorblind')\n",
    "pair.fig.suptitle('Pairplot to see data dependencies with Lethality',y=1.08)"
   ]
  },
  {
   "cell_type": "code",
   "execution_count": 16,
   "metadata": {
    "execution": {
     "iopub.execute_input": "2020-08-13T18:10:10.492765Z",
     "iopub.status.busy": "2020-08-13T18:10:10.492247Z",
     "iopub.status.idle": "2020-08-13T18:10:10.495463Z",
     "shell.execute_reply": "2020-08-13T18:10:10.495864Z"
    }
   },
   "outputs": [],
   "source": [
    "X, y = feature_post.drop(columns=[\"lethality\"]), feature_post[\"lethality\"]"
   ]
  },
  {
   "cell_type": "code",
   "execution_count": 17,
   "metadata": {
    "execution": {
     "iopub.execute_input": "2020-08-13T18:10:10.500265Z",
     "iopub.status.busy": "2020-08-13T18:10:10.499755Z",
     "iopub.status.idle": "2020-08-13T18:10:10.713887Z",
     "shell.execute_reply": "2020-08-13T18:10:10.713100Z"
    }
   },
   "outputs": [],
   "source": [
    "from sklearn.preprocessing import StandardScaler\n",
    "scaler = StandardScaler()\n",
    "x_sl=protein_feat_true_pd.drop(columns=['lethality'])\n",
    "x_nsl=protein_feat_non_true_pd.drop(columns=['lethality'])\n",
    "\n",
    "X_sl_scaled = scaler.fit_transform(x_sl)\n",
    "X_nsl_scaled = scaler.fit_transform(x_nsl)"
   ]
  },
  {
   "cell_type": "code",
   "execution_count": 18,
   "metadata": {
    "execution": {
     "iopub.execute_input": "2020-08-13T18:10:10.718035Z",
     "iopub.status.busy": "2020-08-13T18:10:10.717530Z",
     "iopub.status.idle": "2020-08-13T18:10:10.722491Z",
     "shell.execute_reply": "2020-08-13T18:10:10.722069Z"
    }
   },
   "outputs": [
    {
     "data": {
      "text/plain": [
       "(420, 3025)"
      ]
     },
     "execution_count": 18,
     "metadata": {},
     "output_type": "execute_result"
    }
   ],
   "source": [
    "np.shape(X_sl_scaled)"
   ]
  },
  {
   "cell_type": "markdown",
   "metadata": {},
   "source": [
    "## How redundant are each of the protein domains?"
   ]
  },
  {
   "cell_type": "code",
   "execution_count": 19,
   "metadata": {
    "execution": {
     "iopub.execute_input": "2020-08-13T18:10:10.728200Z",
     "iopub.status.busy": "2020-08-13T18:10:10.727686Z",
     "iopub.status.idle": "2020-08-13T18:10:10.731411Z",
     "shell.execute_reply": "2020-08-13T18:10:10.730958Z"
    }
   },
   "outputs": [],
   "source": [
    "def PCA_component_contribution(scaled_matrix,original_data):\n",
    "    from sklearn.decomposition import PCA\n",
    "\n",
    "    model = PCA(0.95).fit(scaled_matrix)\n",
    "    ## apply dimensionality reduction to X_train\n",
    "    output_pca = model.transform(scaled_matrix)\n",
    "    \n",
    "    total=sum(model.explained_variance_)\n",
    "\n",
    "\n",
    "   \n",
    "    # number of components , that it will be the number of main axes times the number of original components \n",
    "    n_pcs= model.components_.shape[0] # the amount of non redundant protein domains \n",
    "\n",
    "    # get the index of the most important feature on EACH component\n",
    "    # LIST COMPREHENSION HERE\n",
    "    most_important = [np.abs(model.components_[i]).argmax() for i in range(n_pcs)]\n",
    "\n",
    "    initial_feature_names = original_data.columns\n",
    "    # get the names\n",
    "    most_important_names = [initial_feature_names[most_important[i]] for i in range(n_pcs)]\n",
    "    \n",
    "\n",
    "    # LIST COMPREHENSION HERE AGAIN\n",
    "    dic = {'PC{}'.format(i): most_important_names[i] for i in range(n_pcs)}\n",
    "\n",
    "    # build the dataframe\n",
    "    df = pd.DataFrame(dic.items(),columns=['pca-component','domain-number'])\n",
    "\n",
    "    return df,model.components_"
   ]
  },
  {
   "cell_type": "code",
   "execution_count": 20,
   "metadata": {
    "execution": {
     "iopub.execute_input": "2020-08-13T18:10:10.734778Z",
     "iopub.status.busy": "2020-08-13T18:10:10.734291Z",
     "iopub.status.idle": "2020-08-13T18:10:11.308384Z",
     "shell.execute_reply": "2020-08-13T18:10:11.309484Z"
    }
   },
   "outputs": [],
   "source": [
    "df_sl,components_pca_nsl=PCA_component_contribution(X_nsl_scaled,x_nsl)\n",
    "df_nsl,components_pca_sl=PCA_component_contribution(X_sl_scaled,x_sl)"
   ]
  },
  {
   "cell_type": "code",
   "execution_count": 21,
   "metadata": {
    "execution": {
     "iopub.execute_input": "2020-08-13T18:10:11.312727Z",
     "iopub.status.busy": "2020-08-13T18:10:11.311681Z",
     "iopub.status.idle": "2020-08-13T18:10:11.322033Z",
     "shell.execute_reply": "2020-08-13T18:10:11.322757Z"
    }
   },
   "outputs": [
    {
     "data": {
      "text/html": [
       "<div>\n",
       "<style scoped>\n",
       "    .dataframe tbody tr th:only-of-type {\n",
       "        vertical-align: middle;\n",
       "    }\n",
       "\n",
       "    .dataframe tbody tr th {\n",
       "        vertical-align: top;\n",
       "    }\n",
       "\n",
       "    .dataframe thead th {\n",
       "        text-align: right;\n",
       "    }\n",
       "</style>\n",
       "<table border=\"1\" class=\"dataframe\">\n",
       "  <thead>\n",
       "    <tr style=\"text-align: right;\">\n",
       "      <th></th>\n",
       "      <th>pca-component</th>\n",
       "      <th>domain-number</th>\n",
       "    </tr>\n",
       "  </thead>\n",
       "  <tbody>\n",
       "    <tr>\n",
       "      <th>0</th>\n",
       "      <td>PC0</td>\n",
       "      <td>142</td>\n",
       "    </tr>\n",
       "    <tr>\n",
       "      <th>1</th>\n",
       "      <td>PC1</td>\n",
       "      <td>1425</td>\n",
       "    </tr>\n",
       "    <tr>\n",
       "      <th>2</th>\n",
       "      <td>PC2</td>\n",
       "      <td>834</td>\n",
       "    </tr>\n",
       "    <tr>\n",
       "      <th>3</th>\n",
       "      <td>PC3</td>\n",
       "      <td>219</td>\n",
       "    </tr>\n",
       "    <tr>\n",
       "      <th>4</th>\n",
       "      <td>PC4</td>\n",
       "      <td>2082</td>\n",
       "    </tr>\n",
       "  </tbody>\n",
       "</table>\n",
       "</div>"
      ],
      "text/plain": [
       "  pca-component  domain-number\n",
       "0           PC0            142\n",
       "1           PC1           1425\n",
       "2           PC2            834\n",
       "3           PC3            219\n",
       "4           PC4           2082"
      ]
     },
     "execution_count": 21,
     "metadata": {},
     "output_type": "execute_result"
    }
   ],
   "source": [
    "df_sl.head()"
   ]
  },
  {
   "cell_type": "markdown",
   "metadata": {},
   "source": [
    "## which are the shared domains between nSL and SL pairs , in the PCA reduced samples"
   ]
  },
  {
   "cell_type": "code",
   "execution_count": 22,
   "metadata": {
    "execution": {
     "iopub.execute_input": "2020-08-13T18:10:11.325772Z",
     "iopub.status.busy": "2020-08-13T18:10:11.324778Z",
     "iopub.status.idle": "2020-08-13T18:10:11.354148Z",
     "shell.execute_reply": "2020-08-13T18:10:11.354864Z"
    }
   },
   "outputs": [
    {
     "data": {
      "text/html": [
       "<div>\n",
       "<style scoped>\n",
       "    .dataframe tbody tr th:only-of-type {\n",
       "        vertical-align: middle;\n",
       "    }\n",
       "\n",
       "    .dataframe tbody tr th {\n",
       "        vertical-align: top;\n",
       "    }\n",
       "\n",
       "    .dataframe thead th {\n",
       "        text-align: right;\n",
       "    }\n",
       "</style>\n",
       "<table border=\"1\" class=\"dataframe\">\n",
       "  <thead>\n",
       "    <tr style=\"text-align: right;\">\n",
       "      <th></th>\n",
       "      <th>pca-component_x</th>\n",
       "      <th>domain-number</th>\n",
       "      <th>pca-component_y</th>\n",
       "      <th>domain-description</th>\n",
       "    </tr>\n",
       "  </thead>\n",
       "  <tbody>\n",
       "    <tr>\n",
       "      <th>0</th>\n",
       "      <td>PC11</td>\n",
       "      <td>926</td>\n",
       "      <td>PC26</td>\n",
       "      <td>Flp_C; Recombinase Flp protein</td>\n",
       "    </tr>\n",
       "    <tr>\n",
       "      <th>1</th>\n",
       "      <td>PC12</td>\n",
       "      <td>926</td>\n",
       "      <td>PC26</td>\n",
       "      <td>Flp_C; Recombinase Flp protein</td>\n",
       "    </tr>\n",
       "    <tr>\n",
       "      <th>2</th>\n",
       "      <td>PC25</td>\n",
       "      <td>309</td>\n",
       "      <td>PC54</td>\n",
       "      <td>Bystin</td>\n",
       "    </tr>\n",
       "    <tr>\n",
       "      <th>3</th>\n",
       "      <td>PC28</td>\n",
       "      <td>773</td>\n",
       "      <td>PC69</td>\n",
       "      <td>Dynein_light; Dynein light chain, type 1/2</td>\n",
       "    </tr>\n",
       "    <tr>\n",
       "      <th>4</th>\n",
       "      <td>PC34</td>\n",
       "      <td>843</td>\n",
       "      <td>PC100</td>\n",
       "      <td>Enolase_C; Enolase, C-terminal TIM barrel domain</td>\n",
       "    </tr>\n",
       "    <tr>\n",
       "      <th>5</th>\n",
       "      <td>PC35</td>\n",
       "      <td>843</td>\n",
       "      <td>PC100</td>\n",
       "      <td>Enolase_C; Enolase, C-terminal TIM barrel domain</td>\n",
       "    </tr>\n",
       "    <tr>\n",
       "      <th>6</th>\n",
       "      <td>PC37</td>\n",
       "      <td>100</td>\n",
       "      <td>PC43</td>\n",
       "      <td>AP_endonuc_2; Xylose isomerase-like, TIM barre...</td>\n",
       "    </tr>\n",
       "    <tr>\n",
       "      <th>7</th>\n",
       "      <td>PC38</td>\n",
       "      <td>100</td>\n",
       "      <td>PC43</td>\n",
       "      <td>AP_endonuc_2; Xylose isomerase-like, TIM barre...</td>\n",
       "    </tr>\n",
       "    <tr>\n",
       "      <th>8</th>\n",
       "      <td>PC41</td>\n",
       "      <td>1041</td>\n",
       "      <td>PC84</td>\n",
       "      <td>Glutaredoxin</td>\n",
       "    </tr>\n",
       "    <tr>\n",
       "      <th>9</th>\n",
       "      <td>PC46</td>\n",
       "      <td>2610</td>\n",
       "      <td>PC9</td>\n",
       "      <td>TPK_B1_binding; Thiamin pyrophosphokinase, vit...</td>\n",
       "    </tr>\n",
       "    <tr>\n",
       "      <th>10</th>\n",
       "      <td>PC57</td>\n",
       "      <td>1106</td>\n",
       "      <td>PC60</td>\n",
       "      <td>HEAT_2</td>\n",
       "    </tr>\n",
       "    <tr>\n",
       "      <th>11</th>\n",
       "      <td>PC69</td>\n",
       "      <td>2321</td>\n",
       "      <td>PC53</td>\n",
       "      <td>SHE3; SWI5-dependent HO expression protein 3</td>\n",
       "    </tr>\n",
       "    <tr>\n",
       "      <th>12</th>\n",
       "      <td>PC70</td>\n",
       "      <td>2710</td>\n",
       "      <td>PC129</td>\n",
       "      <td>Trypsin_2</td>\n",
       "    </tr>\n",
       "    <tr>\n",
       "      <th>13</th>\n",
       "      <td>PC90</td>\n",
       "      <td>898</td>\n",
       "      <td>PC33</td>\n",
       "      <td>F_actin_cap_B; F-actin-capping protein subunit...</td>\n",
       "    </tr>\n",
       "    <tr>\n",
       "      <th>14</th>\n",
       "      <td>PC90</td>\n",
       "      <td>898</td>\n",
       "      <td>PC35</td>\n",
       "      <td>F_actin_cap_B; F-actin-capping protein subunit...</td>\n",
       "    </tr>\n",
       "    <tr>\n",
       "      <th>15</th>\n",
       "      <td>PC94</td>\n",
       "      <td>613</td>\n",
       "      <td>PC91</td>\n",
       "      <td>DNA_pol_B; DNA-directed DNA polymerase, family...</td>\n",
       "    </tr>\n",
       "    <tr>\n",
       "      <th>16</th>\n",
       "      <td>PC98</td>\n",
       "      <td>903</td>\n",
       "      <td>PC178</td>\n",
       "      <td>Fe-ADH; Alcohol dehydrogenase, iron-type</td>\n",
       "    </tr>\n",
       "    <tr>\n",
       "      <th>17</th>\n",
       "      <td>PC101</td>\n",
       "      <td>1030</td>\n",
       "      <td>PC255</td>\n",
       "      <td>Gcn1_N; Gcn1, N-terminal</td>\n",
       "    </tr>\n",
       "    <tr>\n",
       "      <th>18</th>\n",
       "      <td>PC103</td>\n",
       "      <td>1030</td>\n",
       "      <td>PC255</td>\n",
       "      <td>Gcn1_N; Gcn1, N-terminal</td>\n",
       "    </tr>\n",
       "    <tr>\n",
       "      <th>19</th>\n",
       "      <td>PC104</td>\n",
       "      <td>271</td>\n",
       "      <td>PC102</td>\n",
       "      <td>BLI1</td>\n",
       "    </tr>\n",
       "    <tr>\n",
       "      <th>20</th>\n",
       "      <td>PC111</td>\n",
       "      <td>379</td>\n",
       "      <td>PC65</td>\n",
       "      <td>COG6</td>\n",
       "    </tr>\n",
       "    <tr>\n",
       "      <th>21</th>\n",
       "      <td>PC111</td>\n",
       "      <td>379</td>\n",
       "      <td>PC66</td>\n",
       "      <td>COG6</td>\n",
       "    </tr>\n",
       "    <tr>\n",
       "      <th>22</th>\n",
       "      <td>PC128</td>\n",
       "      <td>299</td>\n",
       "      <td>PC252</td>\n",
       "      <td>Bmt2; 25S rRNA (adenine(2142)-N(1))-methyltran...</td>\n",
       "    </tr>\n",
       "    <tr>\n",
       "      <th>23</th>\n",
       "      <td>PC129</td>\n",
       "      <td>299</td>\n",
       "      <td>PC252</td>\n",
       "      <td>Bmt2; 25S rRNA (adenine(2142)-N(1))-methyltran...</td>\n",
       "    </tr>\n",
       "    <tr>\n",
       "      <th>24</th>\n",
       "      <td>PC147</td>\n",
       "      <td>310</td>\n",
       "      <td>PC93</td>\n",
       "      <td>C1_1; Protein kinase C-like, phorbol ester/dia...</td>\n",
       "    </tr>\n",
       "    <tr>\n",
       "      <th>25</th>\n",
       "      <td>PC147</td>\n",
       "      <td>310</td>\n",
       "      <td>PC94</td>\n",
       "      <td>C1_1; Protein kinase C-like, phorbol ester/dia...</td>\n",
       "    </tr>\n",
       "    <tr>\n",
       "      <th>26</th>\n",
       "      <td>PC159</td>\n",
       "      <td>1092</td>\n",
       "      <td>PC148</td>\n",
       "      <td>HAD_2; HAD-like domain</td>\n",
       "    </tr>\n",
       "    <tr>\n",
       "      <th>27</th>\n",
       "      <td>PC159</td>\n",
       "      <td>1092</td>\n",
       "      <td>PC149</td>\n",
       "      <td>HAD_2; HAD-like domain</td>\n",
       "    </tr>\n",
       "    <tr>\n",
       "      <th>28</th>\n",
       "      <td>PC162</td>\n",
       "      <td>68</td>\n",
       "      <td>PC186</td>\n",
       "      <td>AIRC; PurE domain</td>\n",
       "    </tr>\n",
       "    <tr>\n",
       "      <th>29</th>\n",
       "      <td>PC164</td>\n",
       "      <td>1701</td>\n",
       "      <td>PC97</td>\n",
       "      <td>PAP_central; Poly(A) polymerase, central domain</td>\n",
       "    </tr>\n",
       "    <tr>\n",
       "      <th>30</th>\n",
       "      <td>PC165</td>\n",
       "      <td>1325</td>\n",
       "      <td>PC239</td>\n",
       "      <td>Lgl_C; Lethal giant larvae (Lgl)-like, C-termi...</td>\n",
       "    </tr>\n",
       "    <tr>\n",
       "      <th>31</th>\n",
       "      <td>PC184</td>\n",
       "      <td>1390</td>\n",
       "      <td>PC198</td>\n",
       "      <td>MOZ_SAS; Histone acetyltransferase domain, MYS...</td>\n",
       "    </tr>\n",
       "    <tr>\n",
       "      <th>32</th>\n",
       "      <td>PC202</td>\n",
       "      <td>228</td>\n",
       "      <td>PC165</td>\n",
       "      <td>Arg_tRNA_synt_N; Arginyl tRNA synthetase N-ter...</td>\n",
       "    </tr>\n",
       "    <tr>\n",
       "      <th>33</th>\n",
       "      <td>PC271</td>\n",
       "      <td>228</td>\n",
       "      <td>PC165</td>\n",
       "      <td>Arg_tRNA_synt_N; Arginyl tRNA synthetase N-ter...</td>\n",
       "    </tr>\n",
       "    <tr>\n",
       "      <th>34</th>\n",
       "      <td>PC209</td>\n",
       "      <td>1571</td>\n",
       "      <td>PC151</td>\n",
       "      <td>NMT1; SsuA/THI5-like</td>\n",
       "    </tr>\n",
       "    <tr>\n",
       "      <th>35</th>\n",
       "      <td>PC209</td>\n",
       "      <td>1571</td>\n",
       "      <td>PC171</td>\n",
       "      <td>NMT1; SsuA/THI5-like</td>\n",
       "    </tr>\n",
       "    <tr>\n",
       "      <th>36</th>\n",
       "      <td>PC213</td>\n",
       "      <td>237</td>\n",
       "      <td>PC25</td>\n",
       "      <td>Asn_synthase; Asparagine synthase</td>\n",
       "    </tr>\n",
       "    <tr>\n",
       "      <th>37</th>\n",
       "      <td>PC218</td>\n",
       "      <td>237</td>\n",
       "      <td>PC25</td>\n",
       "      <td>Asn_synthase; Asparagine synthase</td>\n",
       "    </tr>\n",
       "    <tr>\n",
       "      <th>38</th>\n",
       "      <td>PC216</td>\n",
       "      <td>27</td>\n",
       "      <td>PC147</td>\n",
       "      <td>AAA_8; Dynein heavy chain, P-loop containing D...</td>\n",
       "    </tr>\n",
       "    <tr>\n",
       "      <th>39</th>\n",
       "      <td>PC227</td>\n",
       "      <td>595</td>\n",
       "      <td>PC132</td>\n",
       "      <td>DJ-1_PfpI; DJ-1/PfpI</td>\n",
       "    </tr>\n",
       "    <tr>\n",
       "      <th>40</th>\n",
       "      <td>PC228</td>\n",
       "      <td>38</td>\n",
       "      <td>PC155</td>\n",
       "      <td>ABC2_membrane; ABC-2 type transporter</td>\n",
       "    </tr>\n",
       "    <tr>\n",
       "      <th>41</th>\n",
       "      <td>PC228</td>\n",
       "      <td>38</td>\n",
       "      <td>PC176</td>\n",
       "      <td>ABC2_membrane; ABC-2 type transporter</td>\n",
       "    </tr>\n",
       "    <tr>\n",
       "      <th>42</th>\n",
       "      <td>PC228</td>\n",
       "      <td>38</td>\n",
       "      <td>PC260</td>\n",
       "      <td>ABC2_membrane; ABC-2 type transporter</td>\n",
       "    </tr>\n",
       "    <tr>\n",
       "      <th>43</th>\n",
       "      <td>PC243</td>\n",
       "      <td>1793</td>\n",
       "      <td>PC263</td>\n",
       "      <td>POC1; Proteasome chaperone 1, fungi</td>\n",
       "    </tr>\n",
       "    <tr>\n",
       "      <th>44</th>\n",
       "      <td>PC266</td>\n",
       "      <td>1793</td>\n",
       "      <td>PC263</td>\n",
       "      <td>POC1; Proteasome chaperone 1, fungi</td>\n",
       "    </tr>\n",
       "    <tr>\n",
       "      <th>45</th>\n",
       "      <td>PC247</td>\n",
       "      <td>529</td>\n",
       "      <td>PC160</td>\n",
       "      <td>CybS</td>\n",
       "    </tr>\n",
       "    <tr>\n",
       "      <th>46</th>\n",
       "      <td>PC247</td>\n",
       "      <td>529</td>\n",
       "      <td>PC166</td>\n",
       "      <td>CybS</td>\n",
       "    </tr>\n",
       "    <tr>\n",
       "      <th>47</th>\n",
       "      <td>PC247</td>\n",
       "      <td>529</td>\n",
       "      <td>PC267</td>\n",
       "      <td>CybS</td>\n",
       "    </tr>\n",
       "  </tbody>\n",
       "</table>\n",
       "</div>"
      ],
      "text/plain": [
       "   pca-component_x  domain-number pca-component_y  \\\n",
       "0             PC11            926            PC26   \n",
       "1             PC12            926            PC26   \n",
       "2             PC25            309            PC54   \n",
       "3             PC28            773            PC69   \n",
       "4             PC34            843           PC100   \n",
       "5             PC35            843           PC100   \n",
       "6             PC37            100            PC43   \n",
       "7             PC38            100            PC43   \n",
       "8             PC41           1041            PC84   \n",
       "9             PC46           2610             PC9   \n",
       "10            PC57           1106            PC60   \n",
       "11            PC69           2321            PC53   \n",
       "12            PC70           2710           PC129   \n",
       "13            PC90            898            PC33   \n",
       "14            PC90            898            PC35   \n",
       "15            PC94            613            PC91   \n",
       "16            PC98            903           PC178   \n",
       "17           PC101           1030           PC255   \n",
       "18           PC103           1030           PC255   \n",
       "19           PC104            271           PC102   \n",
       "20           PC111            379            PC65   \n",
       "21           PC111            379            PC66   \n",
       "22           PC128            299           PC252   \n",
       "23           PC129            299           PC252   \n",
       "24           PC147            310            PC93   \n",
       "25           PC147            310            PC94   \n",
       "26           PC159           1092           PC148   \n",
       "27           PC159           1092           PC149   \n",
       "28           PC162             68           PC186   \n",
       "29           PC164           1701            PC97   \n",
       "30           PC165           1325           PC239   \n",
       "31           PC184           1390           PC198   \n",
       "32           PC202            228           PC165   \n",
       "33           PC271            228           PC165   \n",
       "34           PC209           1571           PC151   \n",
       "35           PC209           1571           PC171   \n",
       "36           PC213            237            PC25   \n",
       "37           PC218            237            PC25   \n",
       "38           PC216             27           PC147   \n",
       "39           PC227            595           PC132   \n",
       "40           PC228             38           PC155   \n",
       "41           PC228             38           PC176   \n",
       "42           PC228             38           PC260   \n",
       "43           PC243           1793           PC263   \n",
       "44           PC266           1793           PC263   \n",
       "45           PC247            529           PC160   \n",
       "46           PC247            529           PC166   \n",
       "47           PC247            529           PC267   \n",
       "\n",
       "                                   domain-description  \n",
       "0                      Flp_C; Recombinase Flp protein  \n",
       "1                      Flp_C; Recombinase Flp protein  \n",
       "2                                              Bystin  \n",
       "3          Dynein_light; Dynein light chain, type 1/2  \n",
       "4    Enolase_C; Enolase, C-terminal TIM barrel domain  \n",
       "5    Enolase_C; Enolase, C-terminal TIM barrel domain  \n",
       "6   AP_endonuc_2; Xylose isomerase-like, TIM barre...  \n",
       "7   AP_endonuc_2; Xylose isomerase-like, TIM barre...  \n",
       "8                                        Glutaredoxin  \n",
       "9   TPK_B1_binding; Thiamin pyrophosphokinase, vit...  \n",
       "10                                             HEAT_2  \n",
       "11       SHE3; SWI5-dependent HO expression protein 3  \n",
       "12                                          Trypsin_2  \n",
       "13  F_actin_cap_B; F-actin-capping protein subunit...  \n",
       "14  F_actin_cap_B; F-actin-capping protein subunit...  \n",
       "15  DNA_pol_B; DNA-directed DNA polymerase, family...  \n",
       "16           Fe-ADH; Alcohol dehydrogenase, iron-type  \n",
       "17                           Gcn1_N; Gcn1, N-terminal  \n",
       "18                           Gcn1_N; Gcn1, N-terminal  \n",
       "19                                               BLI1  \n",
       "20                                               COG6  \n",
       "21                                               COG6  \n",
       "22  Bmt2; 25S rRNA (adenine(2142)-N(1))-methyltran...  \n",
       "23  Bmt2; 25S rRNA (adenine(2142)-N(1))-methyltran...  \n",
       "24  C1_1; Protein kinase C-like, phorbol ester/dia...  \n",
       "25  C1_1; Protein kinase C-like, phorbol ester/dia...  \n",
       "26                             HAD_2; HAD-like domain  \n",
       "27                             HAD_2; HAD-like domain  \n",
       "28                                  AIRC; PurE domain  \n",
       "29    PAP_central; Poly(A) polymerase, central domain  \n",
       "30  Lgl_C; Lethal giant larvae (Lgl)-like, C-termi...  \n",
       "31  MOZ_SAS; Histone acetyltransferase domain, MYS...  \n",
       "32  Arg_tRNA_synt_N; Arginyl tRNA synthetase N-ter...  \n",
       "33  Arg_tRNA_synt_N; Arginyl tRNA synthetase N-ter...  \n",
       "34                               NMT1; SsuA/THI5-like  \n",
       "35                               NMT1; SsuA/THI5-like  \n",
       "36                  Asn_synthase; Asparagine synthase  \n",
       "37                  Asn_synthase; Asparagine synthase  \n",
       "38  AAA_8; Dynein heavy chain, P-loop containing D...  \n",
       "39                               DJ-1_PfpI; DJ-1/PfpI  \n",
       "40              ABC2_membrane; ABC-2 type transporter  \n",
       "41              ABC2_membrane; ABC-2 type transporter  \n",
       "42              ABC2_membrane; ABC-2 type transporter  \n",
       "43                POC1; Proteasome chaperone 1, fungi  \n",
       "44                POC1; Proteasome chaperone 1, fungi  \n",
       "45                                               CybS  \n",
       "46                                               CybS  \n",
       "47                                               CybS  "
      ]
     },
     "execution_count": 22,
     "metadata": {},
     "output_type": "execute_result"
    }
   ],
   "source": [
    "df_shared_domains=pd.merge(df_sl,df_nsl,how='inner',on='domain-number')\n",
    "domains_name=np.unique(data_domains['domain-name'])\n",
    "domains_description=np.unique(data_domains['domain-descrip'])\n",
    "\n",
    "df_shared_domains['domain-description']=domains_description[df_shared_domains['domain-number']]\n",
    "\n",
    "\n",
    "df_shared_domains"
   ]
  },
  {
   "cell_type": "code",
   "execution_count": 23,
   "metadata": {
    "execution": {
     "iopub.execute_input": "2020-08-13T18:10:11.357809Z",
     "iopub.status.busy": "2020-08-13T18:10:11.356892Z",
     "iopub.status.idle": "2020-08-13T18:10:11.363228Z",
     "shell.execute_reply": "2020-08-13T18:10:11.363862Z"
    }
   },
   "outputs": [
    {
     "name": "stdout",
     "output_type": "stream",
     "text": [
      "The number of shared domains between SL and nSL pairs,after PCA, is =  48 out of 544 so the 8.823529411764707 %\n"
     ]
    }
   ],
   "source": [
    "print('The number of shared domains between SL and nSL pairs,after PCA, is = ',len(df_shared_domains), 'out of', len(df_sl)+len(df_nsl), 'so the',100*len(df_shared_domains)/(len(df_sl)+len(df_nsl)),'%')"
   ]
  },
  {
   "cell_type": "markdown",
   "metadata": {},
   "source": [
    "## Domains exclusive to SL"
   ]
  },
  {
   "cell_type": "code",
   "execution_count": 24,
   "metadata": {
    "execution": {
     "iopub.execute_input": "2020-08-13T18:10:11.366654Z",
     "iopub.status.busy": "2020-08-13T18:10:11.365681Z",
     "iopub.status.idle": "2020-08-13T18:10:11.393575Z",
     "shell.execute_reply": "2020-08-13T18:10:11.394226Z"
    }
   },
   "outputs": [
    {
     "data": {
      "text/html": [
       "<div>\n",
       "<style scoped>\n",
       "    .dataframe tbody tr th:only-of-type {\n",
       "        vertical-align: middle;\n",
       "    }\n",
       "\n",
       "    .dataframe tbody tr th {\n",
       "        vertical-align: top;\n",
       "    }\n",
       "\n",
       "    .dataframe thead th {\n",
       "        text-align: right;\n",
       "    }\n",
       "</style>\n",
       "<table border=\"1\" class=\"dataframe\">\n",
       "  <thead>\n",
       "    <tr style=\"text-align: right;\">\n",
       "      <th></th>\n",
       "      <th>pca-component_x</th>\n",
       "      <th>domain-number</th>\n",
       "      <th>pca-component_y</th>\n",
       "      <th>domain-description</th>\n",
       "    </tr>\n",
       "  </thead>\n",
       "  <tbody>\n",
       "    <tr>\n",
       "      <th>0</th>\n",
       "      <td>PC0</td>\n",
       "      <td>142</td>\n",
       "      <td>NaN</td>\n",
       "      <td>ATP_synt_H; ATPase, V0 complex, subunit e1/e2</td>\n",
       "    </tr>\n",
       "    <tr>\n",
       "      <th>1</th>\n",
       "      <td>PC1</td>\n",
       "      <td>1425</td>\n",
       "      <td>NaN</td>\n",
       "      <td>Mannosyl_trans; Mannosyltransferase, DXD</td>\n",
       "    </tr>\n",
       "    <tr>\n",
       "      <th>2</th>\n",
       "      <td>PC2</td>\n",
       "      <td>834</td>\n",
       "      <td>NaN</td>\n",
       "      <td>Efg1; rRNA-processing protein Efg1</td>\n",
       "    </tr>\n",
       "    <tr>\n",
       "      <th>3</th>\n",
       "      <td>PC3</td>\n",
       "      <td>219</td>\n",
       "      <td>NaN</td>\n",
       "      <td>Apc15p; Anaphase-promoting complex subunit  15...</td>\n",
       "    </tr>\n",
       "    <tr>\n",
       "      <th>4</th>\n",
       "      <td>PC4</td>\n",
       "      <td>2082</td>\n",
       "      <td>NaN</td>\n",
       "      <td>RXT2_N; Transcriptional regulatory protein RXT...</td>\n",
       "    </tr>\n",
       "    <tr>\n",
       "      <th>...</th>\n",
       "      <td>...</td>\n",
       "      <td>...</td>\n",
       "      <td>...</td>\n",
       "      <td>...</td>\n",
       "    </tr>\n",
       "    <tr>\n",
       "      <th>279</th>\n",
       "      <td>PC270</td>\n",
       "      <td>2914</td>\n",
       "      <td>NaN</td>\n",
       "      <td>eRF1_3; eRF1 domain 3</td>\n",
       "    </tr>\n",
       "    <tr>\n",
       "      <th>281</th>\n",
       "      <td>PC272</td>\n",
       "      <td>706</td>\n",
       "      <td>NaN</td>\n",
       "      <td>DUF3602; Protein of unknown function DUF3602</td>\n",
       "    </tr>\n",
       "    <tr>\n",
       "      <th>282</th>\n",
       "      <td>PC273</td>\n",
       "      <td>1504</td>\n",
       "      <td>NaN</td>\n",
       "      <td>Mob1_phocein; MOB kinase activator family</td>\n",
       "    </tr>\n",
       "    <tr>\n",
       "      <th>283</th>\n",
       "      <td>PC274</td>\n",
       "      <td>181</td>\n",
       "      <td>NaN</td>\n",
       "      <td>AlaDh_PNT_N; Alanine dehydrogenase/pyridine nu...</td>\n",
       "    </tr>\n",
       "    <tr>\n",
       "      <th>284</th>\n",
       "      <td>PC275</td>\n",
       "      <td>706</td>\n",
       "      <td>NaN</td>\n",
       "      <td>DUF3602; Protein of unknown function DUF3602</td>\n",
       "    </tr>\n",
       "  </tbody>\n",
       "</table>\n",
       "<p>237 rows × 4 columns</p>\n",
       "</div>"
      ],
      "text/plain": [
       "    pca-component_x  domain-number pca-component_y  \\\n",
       "0               PC0            142             NaN   \n",
       "1               PC1           1425             NaN   \n",
       "2               PC2            834             NaN   \n",
       "3               PC3            219             NaN   \n",
       "4               PC4           2082             NaN   \n",
       "..              ...            ...             ...   \n",
       "279           PC270           2914             NaN   \n",
       "281           PC272            706             NaN   \n",
       "282           PC273           1504             NaN   \n",
       "283           PC274            181             NaN   \n",
       "284           PC275            706             NaN   \n",
       "\n",
       "                                    domain-description  \n",
       "0        ATP_synt_H; ATPase, V0 complex, subunit e1/e2  \n",
       "1             Mannosyl_trans; Mannosyltransferase, DXD  \n",
       "2                   Efg1; rRNA-processing protein Efg1  \n",
       "3    Apc15p; Anaphase-promoting complex subunit  15...  \n",
       "4    RXT2_N; Transcriptional regulatory protein RXT...  \n",
       "..                                                 ...  \n",
       "279                              eRF1_3; eRF1 domain 3  \n",
       "281       DUF3602; Protein of unknown function DUF3602  \n",
       "282          Mob1_phocein; MOB kinase activator family  \n",
       "283  AlaDh_PNT_N; Alanine dehydrogenase/pyridine nu...  \n",
       "284       DUF3602; Protein of unknown function DUF3602  \n",
       "\n",
       "[237 rows x 4 columns]"
      ]
     },
     "execution_count": 24,
     "metadata": {},
     "output_type": "execute_result"
    }
   ],
   "source": [
    "df_sl_exclusive=pd.merge(df_sl,df_nsl,how='left',on='domain-number')\n",
    "\n",
    "domains_name=np.unique(data_domains['domain-name'])\n",
    "domains_description=np.unique(data_domains['domain-descrip'])\n",
    "\n",
    "df_sl_exclusive['domain-description']=domains_description[df_sl_exclusive['domain-number']]\n",
    "df_sl_exclusive[pd.isnull(df_sl_exclusive['pca-component_y'])]"
   ]
  },
  {
   "cell_type": "code",
   "execution_count": 25,
   "metadata": {
    "execution": {
     "iopub.execute_input": "2020-08-13T18:10:11.397094Z",
     "iopub.status.busy": "2020-08-13T18:10:11.396135Z",
     "iopub.status.idle": "2020-08-13T18:10:11.402756Z",
     "shell.execute_reply": "2020-08-13T18:10:11.403421Z"
    }
   },
   "outputs": [
    {
     "name": "stdout",
     "output_type": "stream",
     "text": [
      "The number of exclusive domains from SL pairs, after PCA, is =  285 out of 544 so the 52.38970588235294 %\n"
     ]
    }
   ],
   "source": [
    "print('The number of exclusive domains from SL pairs, after PCA, is = ',len(df_sl_exclusive), 'out of', len(df_sl)+len(df_nsl), 'so the',100*len(df_sl_exclusive)/(len(df_sl)+len(df_nsl)),'%')"
   ]
  },
  {
   "cell_type": "code",
   "execution_count": 26,
   "metadata": {
    "execution": {
     "iopub.execute_input": "2020-08-13T18:10:11.406440Z",
     "iopub.status.busy": "2020-08-13T18:10:11.405375Z",
     "iopub.status.idle": "2020-08-13T18:10:11.437173Z",
     "shell.execute_reply": "2020-08-13T18:10:11.436356Z"
    }
   },
   "outputs": [
    {
     "data": {
      "text/html": [
       "<div>\n",
       "<style scoped>\n",
       "    .dataframe tbody tr th:only-of-type {\n",
       "        vertical-align: middle;\n",
       "    }\n",
       "\n",
       "    .dataframe tbody tr th {\n",
       "        vertical-align: top;\n",
       "    }\n",
       "\n",
       "    .dataframe thead th {\n",
       "        text-align: right;\n",
       "    }\n",
       "</style>\n",
       "<table border=\"1\" class=\"dataframe\">\n",
       "  <thead>\n",
       "    <tr style=\"text-align: right;\">\n",
       "      <th></th>\n",
       "      <th>pca-component_x</th>\n",
       "      <th>domain-number</th>\n",
       "      <th>pca-component_y</th>\n",
       "      <th>domain-description</th>\n",
       "    </tr>\n",
       "  </thead>\n",
       "  <tbody>\n",
       "    <tr>\n",
       "      <th>0</th>\n",
       "      <td>NaN</td>\n",
       "      <td>305</td>\n",
       "      <td>PC0</td>\n",
       "      <td>Brr6_like_C_C; Brl1/Brr6 domain</td>\n",
       "    </tr>\n",
       "    <tr>\n",
       "      <th>1</th>\n",
       "      <td>NaN</td>\n",
       "      <td>1028</td>\n",
       "      <td>PC1</td>\n",
       "      <td>GatB_Yqey; Asn/Gln amidotransferase</td>\n",
       "    </tr>\n",
       "    <tr>\n",
       "      <th>2</th>\n",
       "      <td>NaN</td>\n",
       "      <td>1373</td>\n",
       "      <td>PC2</td>\n",
       "      <td>MIS13; Kinetochore-associated protein Dsn1/Mis13</td>\n",
       "    </tr>\n",
       "    <tr>\n",
       "      <th>3</th>\n",
       "      <td>NaN</td>\n",
       "      <td>540</td>\n",
       "      <td>PC3</td>\n",
       "      <td>Cytochrome_B; Cytochrome b/b6, N-terminal</td>\n",
       "    </tr>\n",
       "    <tr>\n",
       "      <th>4</th>\n",
       "      <td>NaN</td>\n",
       "      <td>689</td>\n",
       "      <td>PC4</td>\n",
       "      <td>DUF3128; Protein of unknown function DUF3128</td>\n",
       "    </tr>\n",
       "    <tr>\n",
       "      <th>...</th>\n",
       "      <td>...</td>\n",
       "      <td>...</td>\n",
       "      <td>...</td>\n",
       "      <td>...</td>\n",
       "    </tr>\n",
       "    <tr>\n",
       "      <th>269</th>\n",
       "      <td>NaN</td>\n",
       "      <td>1367</td>\n",
       "      <td>PC257</td>\n",
       "      <td>MGS; Methylglyoxal synthase-like domain</td>\n",
       "    </tr>\n",
       "    <tr>\n",
       "      <th>270</th>\n",
       "      <td>NaN</td>\n",
       "      <td>1966</td>\n",
       "      <td>PC258</td>\n",
       "      <td>R3H; R3H domain</td>\n",
       "    </tr>\n",
       "    <tr>\n",
       "      <th>271</th>\n",
       "      <td>NaN</td>\n",
       "      <td>12</td>\n",
       "      <td>PC261</td>\n",
       "      <td>60KD_IMP; Membrane insertase OXA1/ALB3/YidC</td>\n",
       "    </tr>\n",
       "    <tr>\n",
       "      <th>272</th>\n",
       "      <td>NaN</td>\n",
       "      <td>12</td>\n",
       "      <td>PC262</td>\n",
       "      <td>60KD_IMP; Membrane insertase OXA1/ALB3/YidC</td>\n",
       "    </tr>\n",
       "    <tr>\n",
       "      <th>275</th>\n",
       "      <td>NaN</td>\n",
       "      <td>381</td>\n",
       "      <td>PC264</td>\n",
       "      <td>COP-gamma_platf; Coatomer, gamma subunit, appe...</td>\n",
       "    </tr>\n",
       "  </tbody>\n",
       "</table>\n",
       "<p>228 rows × 4 columns</p>\n",
       "</div>"
      ],
      "text/plain": [
       "    pca-component_x  domain-number pca-component_y  \\\n",
       "0               NaN            305             PC0   \n",
       "1               NaN           1028             PC1   \n",
       "2               NaN           1373             PC2   \n",
       "3               NaN            540             PC3   \n",
       "4               NaN            689             PC4   \n",
       "..              ...            ...             ...   \n",
       "269             NaN           1367           PC257   \n",
       "270             NaN           1966           PC258   \n",
       "271             NaN             12           PC261   \n",
       "272             NaN             12           PC262   \n",
       "275             NaN            381           PC264   \n",
       "\n",
       "                                    domain-description  \n",
       "0                      Brr6_like_C_C; Brl1/Brr6 domain  \n",
       "1                  GatB_Yqey; Asn/Gln amidotransferase  \n",
       "2     MIS13; Kinetochore-associated protein Dsn1/Mis13  \n",
       "3            Cytochrome_B; Cytochrome b/b6, N-terminal  \n",
       "4         DUF3128; Protein of unknown function DUF3128  \n",
       "..                                                 ...  \n",
       "269            MGS; Methylglyoxal synthase-like domain  \n",
       "270                                    R3H; R3H domain  \n",
       "271        60KD_IMP; Membrane insertase OXA1/ALB3/YidC  \n",
       "272        60KD_IMP; Membrane insertase OXA1/ALB3/YidC  \n",
       "275  COP-gamma_platf; Coatomer, gamma subunit, appe...  \n",
       "\n",
       "[228 rows x 4 columns]"
      ]
     },
     "execution_count": 26,
     "metadata": {},
     "output_type": "execute_result"
    }
   ],
   "source": [
    "df_nsl_exclusive=pd.merge(df_sl,df_nsl,how='right',on='domain-number')\n",
    "\n",
    "domains_name=np.unique(data_domains['domain-name'])\n",
    "domains_description=np.unique(data_domains['domain-descrip'])\n",
    "\n",
    "df_nsl_exclusive['domain-description']=domains_description[df_nsl_exclusive['domain-number']]\n",
    "df_nsl_exclusive[pd.isnull(df_nsl_exclusive['pca-component_x'])]"
   ]
  },
  {
   "cell_type": "code",
   "execution_count": 27,
   "metadata": {
    "execution": {
     "iopub.execute_input": "2020-08-13T18:10:11.441691Z",
     "iopub.status.busy": "2020-08-13T18:10:11.440282Z",
     "iopub.status.idle": "2020-08-13T18:10:11.444239Z",
     "shell.execute_reply": "2020-08-13T18:10:11.444657Z"
    }
   },
   "outputs": [
    {
     "name": "stdout",
     "output_type": "stream",
     "text": [
      "The number of exclusive domains from non SL pairs, after PCA, is =  276 out of 544 so the 50.73529411764706 %\n"
     ]
    }
   ],
   "source": [
    "print('The number of exclusive domains from non SL pairs, after PCA, is = ',len(df_nsl_exclusive), 'out of', len(df_sl)+len(df_nsl), 'so the',100*len(df_nsl_exclusive)/(len(df_sl)+len(df_nsl)),'%')"
   ]
  },
  {
   "cell_type": "markdown",
   "metadata": {},
   "source": [
    "## Let see to the domains-number that get repeated after the PCA analysis , and selecting the most explanatory feature by its explained variance."
   ]
  },
  {
   "cell_type": "code",
   "execution_count": 28,
   "metadata": {
    "execution": {
     "iopub.execute_input": "2020-08-13T18:10:11.465302Z",
     "iopub.status.busy": "2020-08-13T18:10:11.464109Z",
     "iopub.status.idle": "2020-08-13T18:10:11.465882Z",
     "shell.execute_reply": "2020-08-13T18:10:11.466320Z"
    }
   },
   "outputs": [],
   "source": [
    "duplicated_features_sl=df_sl[df_sl.iloc[:,1].duplicated()]\n",
    "repeated_features_sl=pd.DataFrame()\n",
    "\n",
    "domains_name=np.unique(data_domains['domain-name'])\n",
    "domains_description=np.unique(data_domains['domain-descrip'])\n",
    "\n",
    "repeated_features_sl['domain-name']=domains_name[duplicated_features_sl.iloc[:,1]] \n",
    "repeated_features_sl['domain-description']=domains_description[duplicated_features_sl.iloc[:,1]]\n",
    "\n",
    "duplicated_features_nsl=df_nsl[df_nsl.iloc[:,1].duplicated()]\n",
    "repeated_features_nsl=pd.DataFrame()\n",
    "\n",
    "repeated_features_nsl['domain-name']=domains_name[duplicated_features_nsl.iloc[:,1]] \n",
    "repeated_features_nsl['domain-description']=domains_description[duplicated_features_nsl.iloc[:,1]]"
   ]
  },
  {
   "cell_type": "code",
   "execution_count": 29,
   "metadata": {
    "execution": {
     "iopub.execute_input": "2020-08-13T18:10:11.474153Z",
     "iopub.status.busy": "2020-08-13T18:10:11.470847Z",
     "iopub.status.idle": "2020-08-13T18:10:11.477571Z",
     "shell.execute_reply": "2020-08-13T18:10:11.477036Z"
    }
   },
   "outputs": [
    {
     "data": {
      "text/plain": [
       "((50, 4), (285, 4))"
      ]
     },
     "execution_count": 29,
     "metadata": {},
     "output_type": "execute_result"
    }
   ],
   "source": [
    "only_sl_pd=pd.merge(repeated_features_sl,repeated_features_nsl,how='left',on=['domain-name'])\n",
    "data_only_sl = only_sl_pd[pd.isnull(only_sl_pd['domain-description_y'])]\n",
    "data_only_sl['domain-description']=data_only_sl['domain-description_x']\n",
    "data_only_sl.shape,df_sl_exclusive.shape"
   ]
  },
  {
   "cell_type": "code",
   "execution_count": 30,
   "metadata": {
    "execution": {
     "iopub.execute_input": "2020-08-13T18:10:11.495256Z",
     "iopub.status.busy": "2020-08-13T18:10:11.494211Z",
     "iopub.status.idle": "2020-08-13T18:10:11.497627Z",
     "shell.execute_reply": "2020-08-13T18:10:11.498062Z"
    }
   },
   "outputs": [
    {
     "data": {
      "text/html": [
       "<div>\n",
       "<style scoped>\n",
       "    .dataframe tbody tr th:only-of-type {\n",
       "        vertical-align: middle;\n",
       "    }\n",
       "\n",
       "    .dataframe tbody tr th {\n",
       "        vertical-align: top;\n",
       "    }\n",
       "\n",
       "    .dataframe thead th {\n",
       "        text-align: right;\n",
       "    }\n",
       "</style>\n",
       "<table border=\"1\" class=\"dataframe\">\n",
       "  <thead>\n",
       "    <tr style=\"text-align: right;\">\n",
       "      <th></th>\n",
       "      <th>domain-name</th>\n",
       "      <th>domain-description_x</th>\n",
       "      <th>domain-description_y</th>\n",
       "    </tr>\n",
       "  </thead>\n",
       "  <tbody>\n",
       "    <tr>\n",
       "      <th>0</th>\n",
       "      <td>PF02359</td>\n",
       "      <td>NaN</td>\n",
       "      <td>FDF; FDF domain</td>\n",
       "    </tr>\n",
       "    <tr>\n",
       "      <th>1</th>\n",
       "      <td>PF02518</td>\n",
       "      <td>NaN</td>\n",
       "      <td>F_actin_cap_B; F-actin-capping protein subunit...</td>\n",
       "    </tr>\n",
       "    <tr>\n",
       "      <th>2</th>\n",
       "      <td>PF08423</td>\n",
       "      <td>NaN</td>\n",
       "      <td>Pex2_Pex12; Pex, N-terminal</td>\n",
       "    </tr>\n",
       "    <tr>\n",
       "      <th>3</th>\n",
       "      <td>PF13606</td>\n",
       "      <td>NaN</td>\n",
       "      <td>Thioredoxin; Thioredoxin domain</td>\n",
       "    </tr>\n",
       "    <tr>\n",
       "      <th>4</th>\n",
       "      <td>PF11916</td>\n",
       "      <td>NaN</td>\n",
       "      <td>Scramblase</td>\n",
       "    </tr>\n",
       "    <tr>\n",
       "      <th>5</th>\n",
       "      <td>PF00782</td>\n",
       "      <td>NaN</td>\n",
       "      <td>COG6</td>\n",
       "    </tr>\n",
       "    <tr>\n",
       "      <th>6</th>\n",
       "      <td>PF01466</td>\n",
       "      <td>NaN</td>\n",
       "      <td>DUF1242; Protein kish</td>\n",
       "    </tr>\n",
       "    <tr>\n",
       "      <th>7</th>\n",
       "      <td>PF01833</td>\n",
       "      <td>NaN</td>\n",
       "      <td>Diphthamide_syn; Diphthamide synthesis DPH1/DPH2</td>\n",
       "    </tr>\n",
       "    <tr>\n",
       "      <th>8</th>\n",
       "      <td>PF03256</td>\n",
       "      <td>NaN</td>\n",
       "      <td>Gsf2; Glucose signalling factor 2</td>\n",
       "    </tr>\n",
       "    <tr>\n",
       "      <th>9</th>\n",
       "      <td>PF03256</td>\n",
       "      <td>NaN</td>\n",
       "      <td>Gsf2; Glucose signalling factor 2</td>\n",
       "    </tr>\n",
       "    <tr>\n",
       "      <th>10</th>\n",
       "      <td>PF08587</td>\n",
       "      <td>NaN</td>\n",
       "      <td>QRPTase_C; Quinolinate phosphoribosyl transfer...</td>\n",
       "    </tr>\n",
       "    <tr>\n",
       "      <th>11</th>\n",
       "      <td>PF00628</td>\n",
       "      <td>NaN</td>\n",
       "      <td>C1_1; Protein kinase C-like, phorbol ester/dia...</td>\n",
       "    </tr>\n",
       "    <tr>\n",
       "      <th>12</th>\n",
       "      <td>PF03715</td>\n",
       "      <td>NaN</td>\n",
       "      <td>Helicase_C_3; Helicase XPB/Ssl2, N-terminal do...</td>\n",
       "    </tr>\n",
       "    <tr>\n",
       "      <th>13</th>\n",
       "      <td>PF02291</td>\n",
       "      <td>NaN</td>\n",
       "      <td>FAD_binding_7; Cryptochrome/DNA photolyase, FA...</td>\n",
       "    </tr>\n",
       "    <tr>\n",
       "      <th>14</th>\n",
       "      <td>PF07575</td>\n",
       "      <td>NaN</td>\n",
       "      <td>PGK; Phosphoglycerate kinase</td>\n",
       "    </tr>\n",
       "    <tr>\n",
       "      <th>15</th>\n",
       "      <td>PF00717</td>\n",
       "      <td>NaN</td>\n",
       "      <td>CHS5_N; Chitin biosynthesis protein Chs5, N-te...</td>\n",
       "    </tr>\n",
       "    <tr>\n",
       "      <th>16</th>\n",
       "      <td>PF00025</td>\n",
       "      <td>NaN</td>\n",
       "      <td>5-FTHF_cyc-lig; 5-formyltetrahydrofolate cyclo...</td>\n",
       "    </tr>\n",
       "    <tr>\n",
       "      <th>17</th>\n",
       "      <td>PF00646</td>\n",
       "      <td>NaN</td>\n",
       "      <td>CASP_C; CASP, C-terminal</td>\n",
       "    </tr>\n",
       "    <tr>\n",
       "      <th>18</th>\n",
       "      <td>PF03126</td>\n",
       "      <td>NaN</td>\n",
       "      <td>Glyco_hydro_31; Glycoside hydrolase family 31</td>\n",
       "    </tr>\n",
       "    <tr>\n",
       "      <th>19</th>\n",
       "      <td>PF03126</td>\n",
       "      <td>NaN</td>\n",
       "      <td>Glyco_hydro_31; Glycoside hydrolase family 31</td>\n",
       "    </tr>\n",
       "    <tr>\n",
       "      <th>20</th>\n",
       "      <td>PF03345</td>\n",
       "      <td>NaN</td>\n",
       "      <td>HAD_2; HAD-like domain</td>\n",
       "    </tr>\n",
       "    <tr>\n",
       "      <th>21</th>\n",
       "      <td>PF10452</td>\n",
       "      <td>NaN</td>\n",
       "      <td>SDA1; SDA1 domain</td>\n",
       "    </tr>\n",
       "    <tr>\n",
       "      <th>22</th>\n",
       "      <td>PF01189</td>\n",
       "      <td>NaN</td>\n",
       "      <td>CybS</td>\n",
       "    </tr>\n",
       "    <tr>\n",
       "      <th>23</th>\n",
       "      <td>PF01189</td>\n",
       "      <td>NaN</td>\n",
       "      <td>CybS</td>\n",
       "    </tr>\n",
       "    <tr>\n",
       "      <th>24</th>\n",
       "      <td>PF05637</td>\n",
       "      <td>NaN</td>\n",
       "      <td>NMT1; SsuA/THI5-like</td>\n",
       "    </tr>\n",
       "    <tr>\n",
       "      <th>25</th>\n",
       "      <td>PF00096</td>\n",
       "      <td>NaN</td>\n",
       "      <td>ABC2_membrane; ABC-2 type transporter</td>\n",
       "    </tr>\n",
       "    <tr>\n",
       "      <th>26</th>\n",
       "      <td>PF00096</td>\n",
       "      <td>NaN</td>\n",
       "      <td>ABC2_membrane; ABC-2 type transporter</td>\n",
       "    </tr>\n",
       "    <tr>\n",
       "      <th>27</th>\n",
       "      <td>PF01704</td>\n",
       "      <td>NaN</td>\n",
       "      <td>DUF3835; Domain of unknown function DUF3835</td>\n",
       "    </tr>\n",
       "    <tr>\n",
       "      <th>28</th>\n",
       "      <td>PF01704</td>\n",
       "      <td>NaN</td>\n",
       "      <td>DUF3835; Domain of unknown function DUF3835</td>\n",
       "    </tr>\n",
       "    <tr>\n",
       "      <th>29</th>\n",
       "      <td>PF00076</td>\n",
       "      <td>NaN</td>\n",
       "      <td>AAR2; A1 cistron-splicing factor, AAR2</td>\n",
       "    </tr>\n",
       "    <tr>\n",
       "      <th>30</th>\n",
       "      <td>PF01025</td>\n",
       "      <td>NaN</td>\n",
       "      <td>Chalcone_2; Chalcone isomerase</td>\n",
       "    </tr>\n",
       "    <tr>\n",
       "      <th>31</th>\n",
       "      <td>PF04568</td>\n",
       "      <td>NaN</td>\n",
       "      <td>MMR_HSR1_Xtn; GTP binding protein, second domain</td>\n",
       "    </tr>\n",
       "    <tr>\n",
       "      <th>32</th>\n",
       "      <td>PF05224</td>\n",
       "      <td>NaN</td>\n",
       "      <td>MutS_IV; DNA mismatch repair protein MutS, clamp</td>\n",
       "    </tr>\n",
       "    <tr>\n",
       "      <th>33</th>\n",
       "      <td>PF00635</td>\n",
       "      <td>NaN</td>\n",
       "      <td>CAF1A; Chromatin assembly factor 1 subunit A</td>\n",
       "    </tr>\n",
       "    <tr>\n",
       "      <th>34</th>\n",
       "      <td>PF04182</td>\n",
       "      <td>NaN</td>\n",
       "      <td>LepA_C; GTP-binding protein LepA, C-terminal</td>\n",
       "    </tr>\n",
       "    <tr>\n",
       "      <th>35</th>\n",
       "      <td>PF07817</td>\n",
       "      <td>NaN</td>\n",
       "      <td>PIG-L; N-acetylglucosaminyl phosphatidylinosit...</td>\n",
       "    </tr>\n",
       "    <tr>\n",
       "      <th>36</th>\n",
       "      <td>PF05172</td>\n",
       "      <td>NaN</td>\n",
       "      <td>Mnd1; Meiotic nuclear division protein 1</td>\n",
       "    </tr>\n",
       "    <tr>\n",
       "      <th>37</th>\n",
       "      <td>PF01287</td>\n",
       "      <td>NaN</td>\n",
       "      <td>DHquinase_I; 3-dehydroquinate dehydratase type I</td>\n",
       "    </tr>\n",
       "    <tr>\n",
       "      <th>38</th>\n",
       "      <td>PF01287</td>\n",
       "      <td>NaN</td>\n",
       "      <td>DHquinase_I; 3-dehydroquinate dehydratase type I</td>\n",
       "    </tr>\n",
       "    <tr>\n",
       "      <th>39</th>\n",
       "      <td>PF02732</td>\n",
       "      <td>NaN</td>\n",
       "      <td>Folliculin</td>\n",
       "    </tr>\n",
       "    <tr>\n",
       "      <th>40</th>\n",
       "      <td>PF02732</td>\n",
       "      <td>NaN</td>\n",
       "      <td>Folliculin</td>\n",
       "    </tr>\n",
       "    <tr>\n",
       "      <th>41</th>\n",
       "      <td>PF08580</td>\n",
       "      <td>NaN</td>\n",
       "      <td>Pyr_redox_dim; Pyridine nucleotide-disulphide ...</td>\n",
       "    </tr>\n",
       "    <tr>\n",
       "      <th>42</th>\n",
       "      <td>PF07200</td>\n",
       "      <td>NaN</td>\n",
       "      <td>PBD; CRIB domain</td>\n",
       "    </tr>\n",
       "    <tr>\n",
       "      <th>43</th>\n",
       "      <td>PF00459</td>\n",
       "      <td>NaN</td>\n",
       "      <td>ArAE_2; Brefeldin A sensitivity protein-relate...</td>\n",
       "    </tr>\n",
       "    <tr>\n",
       "      <th>44</th>\n",
       "      <td>PF07960</td>\n",
       "      <td>NaN</td>\n",
       "      <td>PMI_typeI; Mannose-6-phosphate isomerase, type I</td>\n",
       "    </tr>\n",
       "    <tr>\n",
       "      <th>45</th>\n",
       "      <td>PF03909</td>\n",
       "      <td>NaN</td>\n",
       "      <td>IBN_N; Importin-beta, N-terminal domain</td>\n",
       "    </tr>\n",
       "    <tr>\n",
       "      <th>46</th>\n",
       "      <td>PF09420</td>\n",
       "      <td>NaN</td>\n",
       "      <td>Redoxin</td>\n",
       "    </tr>\n",
       "    <tr>\n",
       "      <th>47</th>\n",
       "      <td>PF13419</td>\n",
       "      <td>NaN</td>\n",
       "      <td>TRAM; TRAM domain</td>\n",
       "    </tr>\n",
       "    <tr>\n",
       "      <th>48</th>\n",
       "      <td>PF12550</td>\n",
       "      <td>NaN</td>\n",
       "      <td>Sortilin-Vps10; Sortilin, N-terminal</td>\n",
       "    </tr>\n",
       "    <tr>\n",
       "      <th>49</th>\n",
       "      <td>PF00026</td>\n",
       "      <td>NaN</td>\n",
       "      <td>60KD_IMP; Membrane insertase OXA1/ALB3/YidC</td>\n",
       "    </tr>\n",
       "    <tr>\n",
       "      <th>50</th>\n",
       "      <td>PF04729</td>\n",
       "      <td>NaN</td>\n",
       "      <td>MTHFR; Methylenetetrahydrofolate reductase</td>\n",
       "    </tr>\n",
       "    <tr>\n",
       "      <th>51</th>\n",
       "      <td>PF08245</td>\n",
       "      <td>NaN</td>\n",
       "      <td>Peptidase_C12; Peptidase C12, ubiquitin carbox...</td>\n",
       "    </tr>\n",
       "  </tbody>\n",
       "</table>\n",
       "</div>"
      ],
      "text/plain": [
       "   domain-name domain-description_x  \\\n",
       "0      PF02359                  NaN   \n",
       "1      PF02518                  NaN   \n",
       "2      PF08423                  NaN   \n",
       "3      PF13606                  NaN   \n",
       "4      PF11916                  NaN   \n",
       "5      PF00782                  NaN   \n",
       "6      PF01466                  NaN   \n",
       "7      PF01833                  NaN   \n",
       "8      PF03256                  NaN   \n",
       "9      PF03256                  NaN   \n",
       "10     PF08587                  NaN   \n",
       "11     PF00628                  NaN   \n",
       "12     PF03715                  NaN   \n",
       "13     PF02291                  NaN   \n",
       "14     PF07575                  NaN   \n",
       "15     PF00717                  NaN   \n",
       "16     PF00025                  NaN   \n",
       "17     PF00646                  NaN   \n",
       "18     PF03126                  NaN   \n",
       "19     PF03126                  NaN   \n",
       "20     PF03345                  NaN   \n",
       "21     PF10452                  NaN   \n",
       "22     PF01189                  NaN   \n",
       "23     PF01189                  NaN   \n",
       "24     PF05637                  NaN   \n",
       "25     PF00096                  NaN   \n",
       "26     PF00096                  NaN   \n",
       "27     PF01704                  NaN   \n",
       "28     PF01704                  NaN   \n",
       "29     PF00076                  NaN   \n",
       "30     PF01025                  NaN   \n",
       "31     PF04568                  NaN   \n",
       "32     PF05224                  NaN   \n",
       "33     PF00635                  NaN   \n",
       "34     PF04182                  NaN   \n",
       "35     PF07817                  NaN   \n",
       "36     PF05172                  NaN   \n",
       "37     PF01287                  NaN   \n",
       "38     PF01287                  NaN   \n",
       "39     PF02732                  NaN   \n",
       "40     PF02732                  NaN   \n",
       "41     PF08580                  NaN   \n",
       "42     PF07200                  NaN   \n",
       "43     PF00459                  NaN   \n",
       "44     PF07960                  NaN   \n",
       "45     PF03909                  NaN   \n",
       "46     PF09420                  NaN   \n",
       "47     PF13419                  NaN   \n",
       "48     PF12550                  NaN   \n",
       "49     PF00026                  NaN   \n",
       "50     PF04729                  NaN   \n",
       "51     PF08245                  NaN   \n",
       "\n",
       "                                 domain-description_y  \n",
       "0                                     FDF; FDF domain  \n",
       "1   F_actin_cap_B; F-actin-capping protein subunit...  \n",
       "2                         Pex2_Pex12; Pex, N-terminal  \n",
       "3                     Thioredoxin; Thioredoxin domain  \n",
       "4                                          Scramblase  \n",
       "5                                                COG6  \n",
       "6                               DUF1242; Protein kish  \n",
       "7    Diphthamide_syn; Diphthamide synthesis DPH1/DPH2  \n",
       "8                   Gsf2; Glucose signalling factor 2  \n",
       "9                   Gsf2; Glucose signalling factor 2  \n",
       "10  QRPTase_C; Quinolinate phosphoribosyl transfer...  \n",
       "11  C1_1; Protein kinase C-like, phorbol ester/dia...  \n",
       "12  Helicase_C_3; Helicase XPB/Ssl2, N-terminal do...  \n",
       "13  FAD_binding_7; Cryptochrome/DNA photolyase, FA...  \n",
       "14                       PGK; Phosphoglycerate kinase  \n",
       "15  CHS5_N; Chitin biosynthesis protein Chs5, N-te...  \n",
       "16  5-FTHF_cyc-lig; 5-formyltetrahydrofolate cyclo...  \n",
       "17                           CASP_C; CASP, C-terminal  \n",
       "18      Glyco_hydro_31; Glycoside hydrolase family 31  \n",
       "19      Glyco_hydro_31; Glycoside hydrolase family 31  \n",
       "20                             HAD_2; HAD-like domain  \n",
       "21                                  SDA1; SDA1 domain  \n",
       "22                                               CybS  \n",
       "23                                               CybS  \n",
       "24                               NMT1; SsuA/THI5-like  \n",
       "25              ABC2_membrane; ABC-2 type transporter  \n",
       "26              ABC2_membrane; ABC-2 type transporter  \n",
       "27        DUF3835; Domain of unknown function DUF3835  \n",
       "28        DUF3835; Domain of unknown function DUF3835  \n",
       "29             AAR2; A1 cistron-splicing factor, AAR2  \n",
       "30                     Chalcone_2; Chalcone isomerase  \n",
       "31   MMR_HSR1_Xtn; GTP binding protein, second domain  \n",
       "32   MutS_IV; DNA mismatch repair protein MutS, clamp  \n",
       "33       CAF1A; Chromatin assembly factor 1 subunit A  \n",
       "34       LepA_C; GTP-binding protein LepA, C-terminal  \n",
       "35  PIG-L; N-acetylglucosaminyl phosphatidylinosit...  \n",
       "36           Mnd1; Meiotic nuclear division protein 1  \n",
       "37   DHquinase_I; 3-dehydroquinate dehydratase type I  \n",
       "38   DHquinase_I; 3-dehydroquinate dehydratase type I  \n",
       "39                                         Folliculin  \n",
       "40                                         Folliculin  \n",
       "41  Pyr_redox_dim; Pyridine nucleotide-disulphide ...  \n",
       "42                                   PBD; CRIB domain  \n",
       "43  ArAE_2; Brefeldin A sensitivity protein-relate...  \n",
       "44   PMI_typeI; Mannose-6-phosphate isomerase, type I  \n",
       "45            IBN_N; Importin-beta, N-terminal domain  \n",
       "46                                            Redoxin  \n",
       "47                                  TRAM; TRAM domain  \n",
       "48               Sortilin-Vps10; Sortilin, N-terminal  \n",
       "49        60KD_IMP; Membrane insertase OXA1/ALB3/YidC  \n",
       "50         MTHFR; Methylenetetrahydrofolate reductase  \n",
       "51  Peptidase_C12; Peptidase C12, ubiquitin carbox...  "
      ]
     },
     "execution_count": 30,
     "metadata": {},
     "output_type": "execute_result"
    }
   ],
   "source": [
    "only_nsl_pd=pd.merge(repeated_features_sl,repeated_features_nsl,how='right',on=['domain-name'])\n",
    "data_only_nsl = only_nsl_pd[pd.isnull(only_nsl_pd['domain-description_x'])]\n",
    "data_only_nsl"
   ]
  },
  {
   "cell_type": "code",
   "execution_count": 31,
   "metadata": {
    "execution": {
     "iopub.execute_input": "2020-08-13T18:10:11.507177Z",
     "iopub.status.busy": "2020-08-13T18:10:11.506675Z",
     "iopub.status.idle": "2020-08-13T18:10:11.509177Z",
     "shell.execute_reply": "2020-08-13T18:10:11.509590Z"
    }
   },
   "outputs": [
    {
     "data": {
      "text/html": [
       "<div>\n",
       "<style scoped>\n",
       "    .dataframe tbody tr th:only-of-type {\n",
       "        vertical-align: middle;\n",
       "    }\n",
       "\n",
       "    .dataframe tbody tr th {\n",
       "        vertical-align: top;\n",
       "    }\n",
       "\n",
       "    .dataframe thead th {\n",
       "        text-align: right;\n",
       "    }\n",
       "</style>\n",
       "<table border=\"1\" class=\"dataframe\">\n",
       "  <thead>\n",
       "    <tr style=\"text-align: right;\">\n",
       "      <th></th>\n",
       "      <th>domain-name</th>\n",
       "      <th>domain-description_x</th>\n",
       "      <th>domain-description_y</th>\n",
       "    </tr>\n",
       "  </thead>\n",
       "  <tbody>\n",
       "  </tbody>\n",
       "</table>\n",
       "</div>"
      ],
      "text/plain": [
       "Empty DataFrame\n",
       "Columns: [domain-name, domain-description_x, domain-description_y]\n",
       "Index: []"
      ]
     },
     "execution_count": 31,
     "metadata": {},
     "output_type": "execute_result"
    }
   ],
   "source": [
    "shared_domains_pd=pd.merge(repeated_features_sl,repeated_features_nsl,how='inner',on=['domain-name'])\n",
    "shared_domains_pd\n"
   ]
  },
  {
   "cell_type": "code",
   "execution_count": 32,
   "metadata": {
    "execution": {
     "iopub.execute_input": "2020-08-13T18:10:11.519293Z",
     "iopub.status.busy": "2020-08-13T18:10:11.513332Z",
     "iopub.status.idle": "2020-08-13T18:10:12.683160Z",
     "shell.execute_reply": "2020-08-13T18:10:12.682710Z"
    }
   },
   "outputs": [
    {
     "data": {
      "text/plain": [
       "(0.0, 0.2)"
      ]
     },
     "execution_count": 32,
     "metadata": {},
     "output_type": "execute_result"
    },
    {
     "data": {
      "image/png": "[encoded data removed]",
      "text/plain": [
       "<Figure size 432x288 with 1 Axes>"
      ]
     },
     "metadata": {
      "filenames": {
       "image/png": "/home/runner/work/jupyter-book/jupyter-book/mini_book/docs/_build/jupyter_execute/prot_domains2lethality-FEATURES-POSTPROCESSING_47_1.png"
      },
      "needs_background": "light"
     },
     "output_type": "display_data"
    }
   ],
   "source": [
    "a_sl=x_sl.iloc[:,np.sort(df_sl.iloc[:,1])]\n",
    "a_sl.describe().loc['mean'].hist(bins=8),\n",
    "a_sl.describe().loc['std'].hist(bins=8,alpha=0.4)\n",
    "plt.xlim([0,0.2])"
   ]
  },
  {
   "cell_type": "code",
   "execution_count": 33,
   "metadata": {
    "execution": {
     "iopub.execute_input": "2020-08-13T18:10:12.687904Z",
     "iopub.status.busy": "2020-08-13T18:10:12.687391Z",
     "iopub.status.idle": "2020-08-13T18:10:13.817343Z",
     "shell.execute_reply": "2020-08-13T18:10:13.816641Z"
    }
   },
   "outputs": [
    {
     "data": {
      "text/plain": [
       "(0.0, 0.2)"
      ]
     },
     "execution_count": 33,
     "metadata": {},
     "output_type": "execute_result"
    },
    {
     "data": {
      "image/png": "[encoded data removed]",
      "text/plain": [
       "<Figure size 432x288 with 1 Axes>"
      ]
     },
     "metadata": {
      "filenames": {
       "image/png": "/home/runner/work/jupyter-book/jupyter-book/mini_book/docs/_build/jupyter_execute/prot_domains2lethality-FEATURES-POSTPROCESSING_48_1.png"
      },
      "needs_background": "light"
     },
     "output_type": "display_data"
    }
   ],
   "source": [
    "a_nsl=x_nsl.iloc[:,np.sort(df_nsl.iloc[:,1])]\n",
    "a_nsl.describe().loc['mean'].hist(bins=8),\n",
    "a_nsl.describe().loc['std'].hist(bins=8,alpha=0.4)\n",
    "plt.xlim([0,0.2])"
   ]
  },
  {
   "cell_type": "markdown",
   "metadata": {},
   "source": [
    "### Proof of concept with *BEM1*\n",
    "\n",
    "- Gather the domains of SL and nSL pairs from BEM1\n",
    "- Check if the domains for the SL and nSL pairs are inside the most important domains after PCA."
   ]
  },
  {
   "cell_type": "code",
   "execution_count": 34,
   "metadata": {
    "execution": {
     "iopub.execute_input": "2020-08-13T18:10:13.824105Z",
     "iopub.status.busy": "2020-08-13T18:10:13.823573Z",
     "iopub.status.idle": "2020-08-13T18:10:13.826782Z",
     "shell.execute_reply": "2020-08-13T18:10:13.826392Z"
    }
   },
   "outputs": [],
   "source": [
    "domains_bem1=data_domains[data_domains['name']=='BEM1']['domain-descrip']\n",
    "sl_bem1=data_sl[data_sl['gene-query-name']=='BEM1']['gene-target-name']"
   ]
  },
  {
   "cell_type": "code",
   "execution_count": 35,
   "metadata": {
    "execution": {
     "iopub.execute_input": "2020-08-13T18:10:13.830975Z",
     "iopub.status.busy": "2020-08-13T18:10:13.830456Z",
     "iopub.status.idle": "2020-08-13T18:10:13.835200Z",
     "shell.execute_reply": "2020-08-13T18:10:13.834786Z"
    }
   },
   "outputs": [
    {
     "data": {
      "text/plain": [
       "2846      BEM2\n",
       "2847     CDC24\n",
       "5004      MSB1\n",
       "13777     SMI1\n",
       "13778     BNI1\n",
       "13779     BEM2\n",
       "14385     SKN7\n",
       "Name: gene-target-name, dtype: object"
      ]
     },
     "execution_count": 35,
     "metadata": {},
     "output_type": "execute_result"
    }
   ],
   "source": [
    "sl_bem1"
   ]
  },
  {
   "cell_type": "code",
   "execution_count": 36,
   "metadata": {
    "execution": {
     "iopub.execute_input": "2020-08-13T18:10:13.847737Z",
     "iopub.status.busy": "2020-08-13T18:10:13.847230Z",
     "iopub.status.idle": "2020-08-13T18:10:13.852031Z",
     "shell.execute_reply": "2020-08-13T18:10:13.851615Z"
    }
   },
   "outputs": [
    {
     "data": {
      "text/html": [
       "<div>\n",
       "<style scoped>\n",
       "    .dataframe tbody tr th:only-of-type {\n",
       "        vertical-align: middle;\n",
       "    }\n",
       "\n",
       "    .dataframe tbody tr th {\n",
       "        vertical-align: top;\n",
       "    }\n",
       "\n",
       "    .dataframe thead th {\n",
       "        text-align: right;\n",
       "    }\n",
       "</style>\n",
       "<table border=\"1\" class=\"dataframe\">\n",
       "  <thead>\n",
       "    <tr style=\"text-align: right;\">\n",
       "      <th></th>\n",
       "      <th>gene-query</th>\n",
       "      <th>gene-target</th>\n",
       "      <th>gene-query-name</th>\n",
       "      <th>gene-target-name</th>\n",
       "      <th>gene-query-description</th>\n",
       "      <th>gene-target-description</th>\n",
       "      <th>interaction-type</th>\n",
       "      <th>paper-source</th>\n",
       "    </tr>\n",
       "  </thead>\n",
       "  <tbody>\n",
       "    <tr>\n",
       "      <th>2846</th>\n",
       "      <td>YBR200W</td>\n",
       "      <td>YER155C</td>\n",
       "      <td>BEM1</td>\n",
       "      <td>BEM2</td>\n",
       "      <td>SRO1|phosphatidylinositol-3-phosphate-binding ...</td>\n",
       "      <td>IPL2|SUP9|TSL1|L000000168</td>\n",
       "      <td>Synthetic Lethality</td>\n",
       "      <td>Peterson J (1994)</td>\n",
       "    </tr>\n",
       "    <tr>\n",
       "      <th>2847</th>\n",
       "      <td>YBR200W</td>\n",
       "      <td>YAL041W</td>\n",
       "      <td>BEM1</td>\n",
       "      <td>CDC24</td>\n",
       "      <td>SRO1|phosphatidylinositol-3-phosphate-binding ...</td>\n",
       "      <td>CLS4|Rho family guanine nucleotide exchange fa...</td>\n",
       "      <td>Synthetic Lethality</td>\n",
       "      <td>Peterson J (1994)</td>\n",
       "    </tr>\n",
       "    <tr>\n",
       "      <th>5004</th>\n",
       "      <td>YBR200W</td>\n",
       "      <td>YOR188W</td>\n",
       "      <td>BEM1</td>\n",
       "      <td>MSB1</td>\n",
       "      <td>SRO1|phosphatidylinositol-3-phosphate-binding ...</td>\n",
       "      <td>L000001184</td>\n",
       "      <td>Synthetic Lethality</td>\n",
       "      <td>Bender A (1991)</td>\n",
       "    </tr>\n",
       "    <tr>\n",
       "      <th>13777</th>\n",
       "      <td>YBR200W</td>\n",
       "      <td>YGR229C</td>\n",
       "      <td>BEM1</td>\n",
       "      <td>SMI1</td>\n",
       "      <td>SRO1|phosphatidylinositol-3-phosphate-binding ...</td>\n",
       "      <td>KNR4|L000000909</td>\n",
       "      <td>Synthetic Lethality</td>\n",
       "      <td>Gorelik M (2011)</td>\n",
       "    </tr>\n",
       "    <tr>\n",
       "      <th>13778</th>\n",
       "      <td>YBR200W</td>\n",
       "      <td>YNL271C</td>\n",
       "      <td>BEM1</td>\n",
       "      <td>BNI1</td>\n",
       "      <td>SRO1|phosphatidylinositol-3-phosphate-binding ...</td>\n",
       "      <td>PPF3|SHE5|formin BNI1|L000000190</td>\n",
       "      <td>Synthetic Lethality</td>\n",
       "      <td>Gorelik M (2011)</td>\n",
       "    </tr>\n",
       "    <tr>\n",
       "      <th>13779</th>\n",
       "      <td>YBR200W</td>\n",
       "      <td>YER155C</td>\n",
       "      <td>BEM1</td>\n",
       "      <td>BEM2</td>\n",
       "      <td>SRO1|phosphatidylinositol-3-phosphate-binding ...</td>\n",
       "      <td>IPL2|SUP9|TSL1|L000000168</td>\n",
       "      <td>Synthetic Lethality</td>\n",
       "      <td>Gorelik M (2011)</td>\n",
       "    </tr>\n",
       "    <tr>\n",
       "      <th>14385</th>\n",
       "      <td>YBR200W</td>\n",
       "      <td>YHR206W</td>\n",
       "      <td>BEM1</td>\n",
       "      <td>SKN7</td>\n",
       "      <td>SRO1|phosphatidylinositol-3-phosphate-binding ...</td>\n",
       "      <td>BRY1|POS9|kinase-regulated stress-responsive t...</td>\n",
       "      <td>Dosage Lethality</td>\n",
       "      <td>Bouquin N (1999)</td>\n",
       "    </tr>\n",
       "  </tbody>\n",
       "</table>\n",
       "</div>"
      ],
      "text/plain": [
       "      gene-query gene-target gene-query-name gene-target-name  \\\n",
       "2846     YBR200W     YER155C            BEM1             BEM2   \n",
       "2847     YBR200W     YAL041W            BEM1            CDC24   \n",
       "5004     YBR200W     YOR188W            BEM1             MSB1   \n",
       "13777    YBR200W     YGR229C            BEM1             SMI1   \n",
       "13778    YBR200W     YNL271C            BEM1             BNI1   \n",
       "13779    YBR200W     YER155C            BEM1             BEM2   \n",
       "14385    YBR200W     YHR206W            BEM1             SKN7   \n",
       "\n",
       "                                  gene-query-description  \\\n",
       "2846   SRO1|phosphatidylinositol-3-phosphate-binding ...   \n",
       "2847   SRO1|phosphatidylinositol-3-phosphate-binding ...   \n",
       "5004   SRO1|phosphatidylinositol-3-phosphate-binding ...   \n",
       "13777  SRO1|phosphatidylinositol-3-phosphate-binding ...   \n",
       "13778  SRO1|phosphatidylinositol-3-phosphate-binding ...   \n",
       "13779  SRO1|phosphatidylinositol-3-phosphate-binding ...   \n",
       "14385  SRO1|phosphatidylinositol-3-phosphate-binding ...   \n",
       "\n",
       "                                 gene-target-description     interaction-type  \\\n",
       "2846                           IPL2|SUP9|TSL1|L000000168  Synthetic Lethality   \n",
       "2847   CLS4|Rho family guanine nucleotide exchange fa...  Synthetic Lethality   \n",
       "5004                                          L000001184  Synthetic Lethality   \n",
       "13777                                    KNR4|L000000909  Synthetic Lethality   \n",
       "13778                   PPF3|SHE5|formin BNI1|L000000190  Synthetic Lethality   \n",
       "13779                          IPL2|SUP9|TSL1|L000000168  Synthetic Lethality   \n",
       "14385  BRY1|POS9|kinase-regulated stress-responsive t...     Dosage Lethality   \n",
       "\n",
       "            paper-source  \n",
       "2846   Peterson J (1994)  \n",
       "2847   Peterson J (1994)  \n",
       "5004     Bender A (1991)  \n",
       "13777   Gorelik M (2011)  \n",
       "13778   Gorelik M (2011)  \n",
       "13779   Gorelik M (2011)  \n",
       "14385   Bouquin N (1999)  "
      ]
     },
     "execution_count": 36,
     "metadata": {},
     "output_type": "execute_result"
    }
   ],
   "source": [
    "data_sl[data_sl['gene-query-name']=='BEM1']"
   ]
  },
  {
   "cell_type": "code",
   "execution_count": null,
   "metadata": {},
   "outputs": [],
   "source": []
  }
 ],
 "metadata": {
  "jupytext": {
   "text_representation": {
    "extension": ".md",
    "format_name": "myst"
   }
  },
  "kernelspec": {
   "display_name": "Python 3",
   "language": "python",
   "name": "python3"
  },
  "language_info": {
   "codemirror_mode": {
    "name": "ipython",
    "version": 3
   },
   "file_extension": ".py",
   "mimetype": "text/x-python",
   "name": "python",
   "nbconvert_exporter": "python",
   "pygments_lexer": "ipython3",
   "version": "3.7.8"
  },
  "source_map": [
   10,
   18,
   29,
   36,
   57,
   66,
   98,
   101,
   105,
   128,
   131,
   135,
   139,
   145,
   178,
   184,
   188,
   206,
   210,
   218,
   222,
   225,
   229,
   234,
   238,
   244,
   248,
   253,
   257,
   267,
   269,
   273,
   306,
   311,
   313,
   317,
   328,
   330,
   334,
   344,
   348,
   358,
   360,
   364,
   381,
   388,
   394,
   400,
   407,
   412,
   419,
   424,
   428,
   432
  ]
 },
 "nbformat": 4,
 "nbformat_minor": 4
}