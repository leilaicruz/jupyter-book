{
 "cells": [
  {
   "cell_type": "markdown",
   "metadata": {},
   "source": [
    "# Feature postprocessing from paper.\n",
    "- Title:  \"Predicting yeast synthetic lethal genetic interactions using protein domains\"\n",
    "- Authors: Bo Li, Feng Luo,School of Computing,Clemson University,Clemson, SC, USA\n",
    "- e-mail: bol, luofeng@clemson.edu\n",
    "- year:2009"
   ]
  },
  {
   "cell_type": "code",
   "execution_count": 1,
   "metadata": {
    "execution": {
     "iopub.execute_input": "2020-07-20T09:49:36.949974Z",
     "iopub.status.busy": "2020-07-20T09:49:36.949431Z",
     "iopub.status.idle": "2020-07-20T09:49:37.673543Z",
     "shell.execute_reply": "2020-07-20T09:49:37.672972Z"
    }
   },
   "outputs": [],
   "source": [
    "import pandas as pd\n",
    "import numpy as np\n",
    "import matplotlib.pyplot as plt\n",
    "from collections import defaultdict \n",
    "import seaborn as sns\n",
    "import matplotlib.cm as cm\n",
    "import scipy as scipy\n",
    "import random"
   ]
  },
  {
   "cell_type": "markdown",
   "metadata": {
    "jupyter": {
     "source_hidden": true
    }
   },
   "source": [
    "### Importing datasets \n",
    "\n",
    "#### Link to the github repo where the datasets to be downloaded:\n",
    "[DOWNLOAD THE DATASETS HERE](https://github.com/leilaicruz/machine-learning-for-yeast/tree/dev_Leila/datasets-for-learning)"
   ]
  },
  {
   "cell_type": "code",
   "execution_count": 2,
   "metadata": {
    "execution": {
     "iopub.execute_input": "2020-07-20T09:49:37.681000Z",
     "iopub.status.busy": "2020-07-20T09:49:37.679996Z",
     "iopub.status.idle": "2020-07-20T09:49:45.254918Z",
     "shell.execute_reply": "2020-07-20T09:49:45.254109Z"
    }
   },
   "outputs": [],
   "source": [
    "import os\n",
    "script_dir = os.path.dirname('__file__') #<-- absolute dir the script is in\n",
    "rel_path_SL = \"datasets/data-synthetic-lethals.xlsx\"\n",
    "rel_path_nSL=\"datasets/data-positive-genetic.xlsx\"\n",
    "rel_path_domains=\"datasets/proteins-domains-from-Pfam.xlsx\"\n",
    "\n",
    "abs_file_path_SL = os.path.join(script_dir, rel_path_SL)\n",
    "abs_file_path_nSL = os.path.join(script_dir, rel_path_nSL)\n",
    "abs_file_path_domains = os.path.join(script_dir, rel_path_domains)\n",
    "\n",
    "# os.chdir('mini_book/docs/') #<-- for binder os.chdir('../')\n",
    "# os.chdir('../')\n",
    "my_path_sl= abs_file_path_SL\n",
    "my_path_non_sl=abs_file_path_nSL\n",
    "my_path_domains=abs_file_path_domains\n",
    "\n",
    "data_sl=pd.read_excel(my_path_sl,header=0)\n",
    "data_domains=pd.read_excel(my_path_domains,header=0,index_col='Unnamed: 0')\n",
    "data_domains=data_domains.dropna()\n",
    "data_nonsl=pd.read_excel(my_path_non_sl,header=0)"
   ]
  },
  {
   "cell_type": "markdown",
   "metadata": {},
   "source": [
    "## Building the feature matrix\n",
    "One matrix for true SL where each row is one pair of SL. Every raw will be a vector of 0,1 or 2 depending on the comparison with the domain list. For row i the jth element = 0 if the jth element of the domain list is not in neither protein A and B, 1, if it is in one of them and 2 if it is in both of them .\n",
    "\n",
    "### Building the list of proteins domains id per protein pair separately :\n",
    "- List of protein A: Search for the Sl/nSL database the query gene name and look in the protein domain database which protein domains id has each of those queries.\n",
    "- List of protein B: Search for the Sl/nSL database the target gene name of the previous query and look in the protein domain database which protein domains id has each of those target genes."
   ]
  },
  {
   "cell_type": "code",
   "execution_count": 3,
   "metadata": {
    "execution": {
     "iopub.execute_input": "2020-07-20T09:49:45.270240Z",
     "iopub.status.busy": "2020-07-20T09:49:45.269656Z",
     "iopub.status.idle": "2020-07-20T09:49:47.388951Z",
     "shell.execute_reply": "2020-07-20T09:49:47.388007Z"
    }
   },
   "outputs": [],
   "source": [
    "# Selecting the meaningful columns in the respective dataset\n",
    "domain_id_list=data_domains['domain-name']\n",
    "query_gene=data_sl['gene-query-name']\n",
    "target_gene=data_sl['gene-target-name']\n",
    "query_gene_nonlethal=data_nonsl['gene-query-name']\n",
    "target_gene_nonlethal=data_nonsl['gene-target-name']\n",
    "\n",
    "\n",
    "\n",
    "# Initialising the arrays\n",
    "protein_a_list=[]\n",
    "protein_b_list=[]\n",
    "protein_a_list_non=[]\n",
    "protein_b_list_non=[]\n",
    "\n",
    "population = np.arange(0,len(data_sl))\n",
    "\n",
    "# For loop for 10000 pairs sampled randomly from the SL/nSl pair list , and creating a big array of proteind domains id per protein pair\n",
    "\n",
    "for m in random.sample(list(population), 500):\n",
    "    protein_a=data_domains[data_domains['name']==query_gene[m]]\n",
    "    protein_b=data_domains[data_domains['name']==target_gene[m]]\n",
    "    protein_a_list.append(protein_a['domain-name'].tolist())\n",
    "    protein_b_list.append(protein_b['domain-name'].tolist())\n",
    "\n",
    "    protein_a_non=data_domains[data_domains['name']==query_gene_nonlethal[m]]\n",
    "    protein_b_non=data_domains[data_domains['name']==target_gene_nonlethal[m]]\n",
    "    protein_a_list_non.append(protein_a_non['domain-name'].tolist())\n",
    "    protein_b_list_non.append(protein_b_non['domain-name'].tolist())"
   ]
  },
  {
   "cell_type": "code",
   "execution_count": 4,
   "metadata": {
    "execution": {
     "iopub.execute_input": "2020-07-20T09:49:47.393774Z",
     "iopub.status.busy": "2020-07-20T09:49:47.393238Z",
     "iopub.status.idle": "2020-07-20T09:49:47.397142Z",
     "shell.execute_reply": "2020-07-20T09:49:47.396638Z"
    }
   },
   "outputs": [
    {
     "name": "stdout",
     "output_type": "stream",
     "text": [
      "We are going to analyze 500 protein pairs, out of 17871 SL protein pairs\n",
      "We are going to analyze 500 protein pairs, out of 43340 positive protein pairs\n"
     ]
    }
   ],
   "source": [
    "print('We are going to analyze',len((protein_a_list)) ,'protein pairs, out of',len(data_sl),'SL protein pairs')\n",
    "print('We are going to analyze',len((protein_a_list_non)) ,'protein pairs, out of',len(data_nonsl),'positive protein pairs')"
   ]
  },
  {
   "cell_type": "markdown",
   "metadata": {},
   "source": [
    "### Postprocessing #1:  Remove protein pairs from study if either protein in the pair does not contain any domain"
   ]
  },
  {
   "cell_type": "code",
   "execution_count": 5,
   "metadata": {
    "execution": {
     "iopub.execute_input": "2020-07-20T09:49:47.406592Z",
     "iopub.status.busy": "2020-07-20T09:49:47.406079Z",
     "iopub.status.idle": "2020-07-20T09:49:47.409553Z",
     "shell.execute_reply": "2020-07-20T09:49:47.409124Z"
    }
   },
   "outputs": [],
   "source": [
    "def remove_empty_domains(protein_list_search,protein_list_pair):\n",
    "    index=[]\n",
    "    for i in np.arange(0,len(protein_list_search)):\n",
    "        if protein_list_search[i]==[] or protein_list_pair[i]==[]:\n",
    "            index.append(i) ## index of empty values for the protein_a_list meaning they dont have any annotated domain\n",
    "\n",
    "    y=[x for x in np.arange(0,len(protein_list_search)) if x not in index] # a list with non empty values from protein_a list\n",
    "\n",
    "    protein_list_search_new=[]\n",
    "    protein_list_pair_new=[]\n",
    "    for i in y:\n",
    "        protein_list_search_new.append(protein_list_search[i])\n",
    "        protein_list_pair_new.append(protein_list_pair[i])\n",
    "    return protein_list_search_new,protein_list_pair_new\n",
    "\n",
    "## evaluating the function\n",
    "\n",
    "protein_a_list_new,protein_b_list_new=remove_empty_domains(protein_a_list,protein_b_list)\n",
    "\n",
    "protein_a_list_non_new,protein_b_list_non_new=remove_empty_domains(protein_a_list_non,protein_b_list_non)"
   ]
  },
  {
   "cell_type": "code",
   "execution_count": 6,
   "metadata": {
    "execution": {
     "iopub.execute_input": "2020-07-20T09:49:47.416012Z",
     "iopub.status.busy": "2020-07-20T09:49:47.414635Z",
     "iopub.status.idle": "2020-07-20T09:49:47.417651Z",
     "shell.execute_reply": "2020-07-20T09:49:47.417217Z"
    }
   },
   "outputs": [
    {
     "name": "stdout",
     "output_type": "stream",
     "text": [
      "The empty domain in the SL were: 79 out of 500 domains\n",
      "The empty domain in the nSL were: 75 out of 500 domains\n"
     ]
    }
   ],
   "source": [
    "print('The empty domain in the SL were:', len(protein_a_list)-len(protein_a_list_new), 'out of', len(protein_a_list),'domains')\n",
    "print('The empty domain in the nSL were:', len(protein_a_list_non)-len(protein_a_list_non_new), 'out of', len(protein_a_list_non),'domains')"
   ]
  },
  {
   "cell_type": "markdown",
   "metadata": {},
   "source": [
    "### Feature engineering: Select from each ordered indexes of domain id list which of them appear once, in both or in any of the domains of each protein pair"
   ]
  },
  {
   "cell_type": "markdown",
   "metadata": {},
   "source": [
    "#### Define function `get_indexes`"
   ]
  },
  {
   "cell_type": "code",
   "execution_count": 7,
   "metadata": {
    "execution": {
     "iopub.execute_input": "2020-07-20T09:49:47.424606Z",
     "iopub.status.busy": "2020-07-20T09:49:47.424077Z",
     "iopub.status.idle": "2020-07-20T09:49:47.426707Z",
     "shell.execute_reply": "2020-07-20T09:49:47.427103Z"
    }
   },
   "outputs": [
    {
     "data": {
      "text/plain": [
       "[1, 2]"
      ]
     },
     "execution_count": 7,
     "metadata": {},
     "output_type": "execute_result"
    }
   ],
   "source": [
    "get_indexes = lambda x, xs: [i for (y, i) in zip(xs, range(len(xs))) if x == y] # a function that give the index of whether a value appear in array or not\n",
    "a=[1,2,2,4,5,6,7,8,9,10]\n",
    "get_indexes(2,a)"
   ]
  },
  {
   "cell_type": "code",
   "execution_count": 8,
   "metadata": {
    "execution": {
     "iopub.execute_input": "2020-07-20T09:49:47.435661Z",
     "iopub.status.busy": "2020-07-20T09:49:47.434534Z",
     "iopub.status.idle": "2020-07-20T09:49:47.437845Z",
     "shell.execute_reply": "2020-07-20T09:49:47.437335Z"
    }
   },
   "outputs": [],
   "source": [
    "def feature_building(protein_a_list_new,protein_b_list_new):\n",
    "    x = np.unique(domain_id_list)\n",
    "    ## To avoid taking repeated domains from one protein of the pairs , lets reduced the domains of each protein from the pairs to their unique members\n",
    "    protein_a_list_unique=[]\n",
    "    protein_b_list_unique=[]\n",
    "    for i in np.arange(0,len(protein_a_list_new)):\n",
    "        protein_a_list_unique.append(np.unique(protein_a_list_new[i]))\n",
    "        protein_b_list_unique.append(np.unique(protein_b_list_new[i]))\n",
    "        \n",
    "    protein_feat_true=np.zeros(shape=(len(x),len(protein_a_list_unique)))\n",
    "    pair_a_b_array=[]\n",
    "    for i in np.arange(0,len(protein_a_list_unique)):\n",
    "        index_a=[]\n",
    "        \n",
    "        pair=[protein_a_list_unique[i],protein_b_list_unique[i]]\n",
    "        pair_a_b=np.concatenate(pair).ravel()\n",
    "        pair_a_b_array.append(pair_a_b)\n",
    "\n",
    "    j=0\n",
    "    for i in pair_a_b_array:  \n",
    "        array,index,counts=np.unique(i,return_index=True,return_counts=True)\n",
    "        \n",
    "        for k,m in zip(counts,array):\n",
    "            if k ==2:\n",
    "                protein_feat_true[get_indexes(m,x),j]=2\n",
    "                \n",
    "            if k==1:\n",
    "                protein_feat_true[get_indexes(m,x),j]=1\n",
    "        j=j+1\n",
    "    return protein_feat_true"
   ]
  },
  {
   "cell_type": "code",
   "execution_count": 9,
   "metadata": {
    "execution": {
     "iopub.execute_input": "2020-07-20T09:49:47.447137Z",
     "iopub.status.busy": "2020-07-20T09:49:47.446620Z",
     "iopub.status.idle": "2020-07-20T09:49:48.126700Z",
     "shell.execute_reply": "2020-07-20T09:49:48.126168Z"
    }
   },
   "outputs": [],
   "source": [
    "protein_feat_true=feature_building(protein_b_list_new=protein_b_list_new,protein_a_list_new=protein_a_list_new)\n",
    "protein_feat_true_pd=pd.DataFrame(protein_feat_true.T)\n",
    "\n",
    "protein_feat_non_true=feature_building(protein_b_list_new=protein_b_list_non_new,protein_a_list_new=protein_a_list_non_new)\n",
    "protein_feat_non_true_pd=pd.DataFrame(protein_feat_non_true.T)"
   ]
  },
  {
   "cell_type": "markdown",
   "metadata": {},
   "source": [
    "### How many ones and twos are in each dataset"
   ]
  },
  {
   "cell_type": "code",
   "execution_count": 10,
   "metadata": {
    "execution": {
     "iopub.execute_input": "2020-07-20T09:49:48.134184Z",
     "iopub.status.busy": "2020-07-20T09:49:48.133655Z",
     "iopub.status.idle": "2020-07-20T09:49:48.226876Z",
     "shell.execute_reply": "2020-07-20T09:49:48.226298Z"
    }
   },
   "outputs": [
    {
     "name": "stdout",
     "output_type": "stream",
     "text": [
      "fraction of twos in the SL array is 2.6697552070041814e-05\n",
      "fraction of ones in the SL array is 0.0009995877583871538\n",
      "fraction of twos in the PI array is 1.166747690811862e-05\n",
      "fraction of ones in the PI array is 0.0009240641711229946\n"
     ]
    }
   ],
   "source": [
    "index_2_true=protein_feat_true_pd.where(protein_feat_true_pd==2)\n",
    "index_2_true_count=index_2_true.count(axis=1).sum()\n",
    "\n",
    "index_1_true=protein_feat_true_pd.where(protein_feat_true_pd==1)\n",
    "index_1_true_count=index_1_true.count(axis=1).sum()\n",
    "\n",
    "index_2_nontrue=protein_feat_non_true_pd.where(protein_feat_non_true_pd==2)\n",
    "index_2_nontrue_count=index_2_nontrue.count(axis=1).sum()\n",
    "\n",
    "index_1_nontrue=protein_feat_non_true_pd.where(protein_feat_non_true_pd==1)\n",
    "index_1_nontrue_count=index_1_nontrue.count(axis=1).sum()\n",
    "\n",
    "\n",
    "print('fraction of twos in the SL array is',index_2_true_count/(len(protein_feat_true_pd.index)*len(protein_feat_true_pd.columns)))\n",
    "print('fraction of ones in the SL array is',index_1_true_count/(len(protein_feat_true_pd.index)*len(protein_feat_true_pd.columns)))\n",
    "print('fraction of twos in the PI array is',index_2_nontrue_count/(len(protein_feat_non_true_pd.index)*len(protein_feat_non_true_pd.columns)))\n",
    "print('fraction of ones in the PI array is',index_1_nontrue_count/(len(protein_feat_non_true_pd.index)*len(protein_feat_non_true_pd.columns)))"
   ]
  },
  {
   "cell_type": "markdown",
   "metadata": {},
   "source": [
    "#### Bar plot to visualize these numbers"
   ]
  },
  {
   "cell_type": "code",
   "execution_count": 11,
   "metadata": {
    "execution": {
     "iopub.execute_input": "2020-07-20T09:49:48.245062Z",
     "iopub.status.busy": "2020-07-20T09:49:48.244584Z",
     "iopub.status.idle": "2020-07-20T09:49:48.665245Z",
     "shell.execute_reply": "2020-07-20T09:49:48.665930Z"
    }
   },
   "outputs": [
    {
     "data": {
      "text/plain": [
       "([0, 1, 2, 3],\n",
       " [Text(0, 0, ''), Text(0, 0, ''), Text(0, 0, ''), Text(0, 0, '')])"
      ]
     },
     "execution_count": 11,
     "metadata": {},
     "output_type": "execute_result"
    },
    {
     "data": {
      "image/png": "[encoded data removed]",
      "text/plain": [
       "<Figure size 432x288 with 1 Axes>"
      ]
     },
     "metadata": {
      "filenames": {
       "image/png": "/home/runner/work/jupyter-book/jupyter-book/mini_book/docs/_build/jupyter_execute/prot_domains2lethality-FEATURES-POSTPROCESSING_18_1.png"
      },
      "needs_background": "light"
     },
     "output_type": "display_data"
    }
   ],
   "source": [
    "plt.bar(['fraction of 2 in the nSL','fraction of 1 in the nSL'],[index_2_nontrue_count/(len(protein_feat_non_true_pd.index)*len(protein_feat_non_true_pd.columns)),index_1_nontrue_count/(len(protein_feat_non_true_pd.index)*len(protein_feat_non_true_pd.columns))],alpha=0.6,color=['blue','lightblue']), \n",
    "\n",
    "plt.bar(['fraction of 2 in SL ','fraction of 1 in SL'],[index_2_true_count/(len(protein_feat_true_pd.index)*len(protein_feat_true_pd.columns)),index_1_true_count/(len(protein_feat_true_pd.index)*len(protein_feat_true_pd.columns))],alpha=0.6,color=['coral','lightcoral'])\n",
    "\n",
    "plt.ylabel('Fraction from the population')\n",
    "plt.yscale('log')\n",
    "plt.xticks(rotation=40)"
   ]
  },
  {
   "cell_type": "markdown",
   "metadata": {},
   "source": [
    "#### Adding the labels(response variables) to each dataset"
   ]
  },
  {
   "cell_type": "code",
   "execution_count": 12,
   "metadata": {
    "execution": {
     "iopub.execute_input": "2020-07-20T09:49:48.671027Z",
     "iopub.status.busy": "2020-07-20T09:49:48.670522Z",
     "iopub.status.idle": "2020-07-20T09:49:48.673631Z",
     "shell.execute_reply": "2020-07-20T09:49:48.674020Z"
    }
   },
   "outputs": [],
   "source": [
    "protein_feat_true_pd['lethality']=np.ones(shape=(len(protein_a_list_new)))\n",
    "protein_feat_non_true_pd['lethality']=np.zeros(shape=(len(protein_a_list_non_new)))"
   ]
  },
  {
   "cell_type": "markdown",
   "metadata": {},
   "source": [
    "#### Joining both datasets"
   ]
  },
  {
   "cell_type": "code",
   "execution_count": 13,
   "metadata": {
    "execution": {
     "iopub.execute_input": "2020-07-20T09:49:48.678590Z",
     "iopub.status.busy": "2020-07-20T09:49:48.678071Z",
     "iopub.status.idle": "2020-07-20T09:49:48.715743Z",
     "shell.execute_reply": "2020-07-20T09:49:48.716493Z"
    }
   },
   "outputs": [
    {
     "name": "stdout",
     "output_type": "stream",
     "text": [
      "The number of features are: 3026\n",
      "The number of samples are: 846\n"
     ]
    }
   ],
   "source": [
    "feature_post=pd.concat([protein_feat_true_pd,protein_feat_non_true_pd],axis=0)\n",
    "feature_post=feature_post.set_index(np.arange(0,len(protein_a_list_new)+len(protein_a_list_non_new)))\n",
    "print('The number of features are:',feature_post.shape[1])\n",
    "print('The number of samples are:',feature_post.shape[0])"
   ]
  },
  {
   "cell_type": "markdown",
   "metadata": {},
   "source": [
    "### Postprocessing and exploration of the feature matrix of both datasets"
   ]
  },
  {
   "cell_type": "code",
   "execution_count": 14,
   "metadata": {
    "execution": {
     "iopub.execute_input": "2020-07-20T09:49:48.732748Z",
     "iopub.status.busy": "2020-07-20T09:49:48.722780Z",
     "iopub.status.idle": "2020-07-20T09:49:52.696732Z",
     "shell.execute_reply": "2020-07-20T09:49:52.695711Z"
    }
   },
   "outputs": [],
   "source": [
    "mean=feature_post.T.describe().loc['mean']\n",
    "std=feature_post.T.describe().loc['std']\n",
    "lethality=feature_post['lethality']\n",
    "\n",
    "corr_keys=pd.concat([mean,std,lethality],axis=1)"
   ]
  },
  {
   "cell_type": "markdown",
   "metadata": {},
   "source": [
    "### Viz of the stats"
   ]
  },
  {
   "cell_type": "code",
   "execution_count": 15,
   "metadata": {
    "execution": {
     "iopub.execute_input": "2020-07-20T09:49:52.774464Z",
     "iopub.status.busy": "2020-07-20T09:49:52.760333Z",
     "iopub.status.idle": "2020-07-20T09:49:54.026951Z",
     "shell.execute_reply": "2020-07-20T09:49:54.027368Z"
    }
   },
   "outputs": [
    {
     "data": {
      "text/plain": [
       "Text(0.5, 1.08, 'Pairplot to see data dependencies with Lethality')"
      ]
     },
     "execution_count": 15,
     "metadata": {},
     "output_type": "execute_result"
    },
    {
     "data": {
      "image/png": "[encoded data removed]",
      "text/plain": [
       "<Figure size 412x360 with 6 Axes>"
      ]
     },
     "metadata": {
      "filenames": {
       "image/png": "/home/runner/work/jupyter-book/jupyter-book/mini_book/docs/_build/jupyter_execute/prot_domains2lethality-FEATURES-POSTPROCESSING_26_1.png"
      },
      "needs_background": "light"
     },
     "output_type": "display_data"
    }
   ],
   "source": [
    "pair=sns.pairplot(corr_keys,hue='lethality',diag_kind='kde',kind='reg',palette='colorblind')\n",
    "pair.fig.suptitle('Pairplot to see data dependencies with Lethality',y=1.08)"
   ]
  },
  {
   "cell_type": "code",
   "execution_count": 16,
   "metadata": {
    "execution": {
     "iopub.execute_input": "2020-07-20T09:49:54.037154Z",
     "iopub.status.busy": "2020-07-20T09:49:54.036675Z",
     "iopub.status.idle": "2020-07-20T09:49:54.040947Z",
     "shell.execute_reply": "2020-07-20T09:49:54.040545Z"
    }
   },
   "outputs": [],
   "source": [
    "X, y = feature_post.drop(columns=[\"lethality\"]), feature_post[\"lethality\"]"
   ]
  },
  {
   "cell_type": "code",
   "execution_count": 17,
   "metadata": {
    "execution": {
     "iopub.execute_input": "2020-07-20T09:49:54.045614Z",
     "iopub.status.busy": "2020-07-20T09:49:54.044803Z",
     "iopub.status.idle": "2020-07-20T09:49:54.190967Z",
     "shell.execute_reply": "2020-07-20T09:49:54.190458Z"
    }
   },
   "outputs": [],
   "source": [
    "from sklearn.preprocessing import StandardScaler\n",
    "scaler = StandardScaler()\n",
    "x_sl=protein_feat_true_pd.drop(columns=['lethality'])\n",
    "x_nsl=protein_feat_non_true_pd.drop(columns=['lethality'])\n",
    "\n",
    "X_sl_scaled = scaler.fit_transform(x_sl)\n",
    "X_nsl_scaled = scaler.fit_transform(x_nsl)"
   ]
  },
  {
   "cell_type": "code",
   "execution_count": 18,
   "metadata": {
    "execution": {
     "iopub.execute_input": "2020-07-20T09:49:54.195474Z",
     "iopub.status.busy": "2020-07-20T09:49:54.194955Z",
     "iopub.status.idle": "2020-07-20T09:49:54.200541Z",
     "shell.execute_reply": "2020-07-20T09:49:54.200099Z"
    }
   },
   "outputs": [
    {
     "data": {
      "text/plain": [
       "(421, 3025)"
      ]
     },
     "execution_count": 18,
     "metadata": {},
     "output_type": "execute_result"
    }
   ],
   "source": [
    "np.shape(X_sl_scaled)"
   ]
  },
  {
   "cell_type": "markdown",
   "metadata": {},
   "source": [
    "## How redundant are each of the protein domains?"
   ]
  },
  {
   "cell_type": "code",
   "execution_count": 19,
   "metadata": {
    "execution": {
     "iopub.execute_input": "2020-07-20T09:49:54.208160Z",
     "iopub.status.busy": "2020-07-20T09:49:54.207600Z",
     "iopub.status.idle": "2020-07-20T09:49:54.211014Z",
     "shell.execute_reply": "2020-07-20T09:49:54.210552Z"
    }
   },
   "outputs": [],
   "source": [
    "def PCA_component_contribution(scaled_matrix,original_data):\n",
    "    from sklearn.decomposition import PCA\n",
    "\n",
    "    model = PCA(0.95).fit(scaled_matrix)\n",
    "    ## apply dimensionality reduction to X_train\n",
    "    output_pca = model.transform(scaled_matrix)\n",
    "    \n",
    "    total=sum(model.explained_variance_)\n",
    "\n",
    "\n",
    "   \n",
    "    # number of components , that it will be the number of main axes times the number of original components \n",
    "    n_pcs= model.components_.shape[0] # the amount of non redundant protein domains \n",
    "\n",
    "    # get the index of the most important feature on EACH component\n",
    "    # LIST COMPREHENSION HERE\n",
    "    most_important = [np.abs(model.components_[i]).argmax() for i in range(n_pcs)]\n",
    "\n",
    "    initial_feature_names = original_data.columns\n",
    "    # get the names\n",
    "    most_important_names = [initial_feature_names[most_important[i]] for i in range(n_pcs)]\n",
    "    \n",
    "\n",
    "    # LIST COMPREHENSION HERE AGAIN\n",
    "    dic = {'PC{}'.format(i): most_important_names[i] for i in range(n_pcs)}\n",
    "\n",
    "    # build the dataframe\n",
    "    df = pd.DataFrame(dic.items(),columns=['pca-component','domain-number'])\n",
    "\n",
    "    return df,model.components_"
   ]
  },
  {
   "cell_type": "code",
   "execution_count": 20,
   "metadata": {
    "execution": {
     "iopub.execute_input": "2020-07-20T09:49:54.214250Z",
     "iopub.status.busy": "2020-07-20T09:49:54.213763Z",
     "iopub.status.idle": "2020-07-20T09:49:54.794304Z",
     "shell.execute_reply": "2020-07-20T09:49:54.794733Z"
    }
   },
   "outputs": [],
   "source": [
    "df_sl,components_pca_nsl=PCA_component_contribution(X_nsl_scaled,x_nsl)\n",
    "df_nsl,components_pca_sl=PCA_component_contribution(X_sl_scaled,x_sl)"
   ]
  },
  {
   "cell_type": "code",
   "execution_count": 21,
   "metadata": {
    "execution": {
     "iopub.execute_input": "2020-07-20T09:49:54.797038Z",
     "iopub.status.busy": "2020-07-20T09:49:54.796561Z",
     "iopub.status.idle": "2020-07-20T09:49:54.804295Z",
     "shell.execute_reply": "2020-07-20T09:49:54.804807Z"
    }
   },
   "outputs": [
    {
     "data": {
      "text/html": [
       "<div>\n",
       "<style scoped>\n",
       "    .dataframe tbody tr th:only-of-type {\n",
       "        vertical-align: middle;\n",
       "    }\n",
       "\n",
       "    .dataframe tbody tr th {\n",
       "        vertical-align: top;\n",
       "    }\n",
       "\n",
       "    .dataframe thead th {\n",
       "        text-align: right;\n",
       "    }\n",
       "</style>\n",
       "<table border=\"1\" class=\"dataframe\">\n",
       "  <thead>\n",
       "    <tr style=\"text-align: right;\">\n",
       "      <th></th>\n",
       "      <th>pca-component</th>\n",
       "      <th>domain-number</th>\n",
       "    </tr>\n",
       "  </thead>\n",
       "  <tbody>\n",
       "    <tr>\n",
       "      <th>0</th>\n",
       "      <td>PC0</td>\n",
       "      <td>540</td>\n",
       "    </tr>\n",
       "    <tr>\n",
       "      <th>1</th>\n",
       "      <td>PC1</td>\n",
       "      <td>89</td>\n",
       "    </tr>\n",
       "    <tr>\n",
       "      <th>2</th>\n",
       "      <td>PC2</td>\n",
       "      <td>142</td>\n",
       "    </tr>\n",
       "    <tr>\n",
       "      <th>3</th>\n",
       "      <td>PC3</td>\n",
       "      <td>117</td>\n",
       "    </tr>\n",
       "    <tr>\n",
       "      <th>4</th>\n",
       "      <td>PC4</td>\n",
       "      <td>689</td>\n",
       "    </tr>\n",
       "  </tbody>\n",
       "</table>\n",
       "</div>"
      ],
      "text/plain": [
       "  pca-component  domain-number\n",
       "0           PC0            540\n",
       "1           PC1             89\n",
       "2           PC2            142\n",
       "3           PC3            117\n",
       "4           PC4            689"
      ]
     },
     "execution_count": 21,
     "metadata": {},
     "output_type": "execute_result"
    }
   ],
   "source": [
    "df_sl.head()"
   ]
  },
  {
   "cell_type": "markdown",
   "metadata": {},
   "source": [
    "## which are the shared domains between nSL and SL pairs , in the PCA reduced samples"
   ]
  },
  {
   "cell_type": "code",
   "execution_count": 22,
   "metadata": {
    "execution": {
     "iopub.execute_input": "2020-07-20T09:49:54.806829Z",
     "iopub.status.busy": "2020-07-20T09:49:54.806358Z",
     "iopub.status.idle": "2020-07-20T09:49:54.837371Z",
     "shell.execute_reply": "2020-07-20T09:49:54.837885Z"
    }
   },
   "outputs": [
    {
     "data": {
      "text/html": [
       "<div>\n",
       "<style scoped>\n",
       "    .dataframe tbody tr th:only-of-type {\n",
       "        vertical-align: middle;\n",
       "    }\n",
       "\n",
       "    .dataframe tbody tr th {\n",
       "        vertical-align: top;\n",
       "    }\n",
       "\n",
       "    .dataframe thead th {\n",
       "        text-align: right;\n",
       "    }\n",
       "</style>\n",
       "<table border=\"1\" class=\"dataframe\">\n",
       "  <thead>\n",
       "    <tr style=\"text-align: right;\">\n",
       "      <th></th>\n",
       "      <th>pca-component_x</th>\n",
       "      <th>domain-number</th>\n",
       "      <th>pca-component_y</th>\n",
       "      <th>domain-description</th>\n",
       "    </tr>\n",
       "  </thead>\n",
       "  <tbody>\n",
       "    <tr>\n",
       "      <th>0</th>\n",
       "      <td>PC9</td>\n",
       "      <td>3</td>\n",
       "      <td>PC8</td>\n",
       "      <td>2-Hacid_dh_C; D-isomer specific 2-hydroxyacid ...</td>\n",
       "    </tr>\n",
       "    <tr>\n",
       "      <th>1</th>\n",
       "      <td>PC13</td>\n",
       "      <td>55</td>\n",
       "      <td>PC12</td>\n",
       "      <td>ADK</td>\n",
       "    </tr>\n",
       "    <tr>\n",
       "      <th>2</th>\n",
       "      <td>PC14</td>\n",
       "      <td>926</td>\n",
       "      <td>PC17</td>\n",
       "      <td>Flp_C; Recombinase Flp protein</td>\n",
       "    </tr>\n",
       "    <tr>\n",
       "      <th>3</th>\n",
       "      <td>PC16</td>\n",
       "      <td>76</td>\n",
       "      <td>PC11</td>\n",
       "      <td>ALS_ss_C; Acetolactate synthase, small subunit...</td>\n",
       "    </tr>\n",
       "    <tr>\n",
       "      <th>4</th>\n",
       "      <td>PC22</td>\n",
       "      <td>488</td>\n",
       "      <td>PC35</td>\n",
       "      <td>Cnd1_N; Condensin complex subunit 1, N-terminal</td>\n",
       "    </tr>\n",
       "    <tr>\n",
       "      <th>5</th>\n",
       "      <td>PC27</td>\n",
       "      <td>265</td>\n",
       "      <td>PC10</td>\n",
       "      <td>BCS1_N; BCS1, N-terminal</td>\n",
       "    </tr>\n",
       "    <tr>\n",
       "      <th>6</th>\n",
       "      <td>PC34</td>\n",
       "      <td>1677</td>\n",
       "      <td>PC37</td>\n",
       "      <td>Ost5; Oligosaccharyltransferase complex subunit</td>\n",
       "    </tr>\n",
       "    <tr>\n",
       "      <th>7</th>\n",
       "      <td>PC41</td>\n",
       "      <td>65</td>\n",
       "      <td>PC43</td>\n",
       "      <td>AIM3; Altered inheritance of mitochondria prot...</td>\n",
       "    </tr>\n",
       "    <tr>\n",
       "      <th>8</th>\n",
       "      <td>PC45</td>\n",
       "      <td>379</td>\n",
       "      <td>PC77</td>\n",
       "      <td>COG6</td>\n",
       "    </tr>\n",
       "    <tr>\n",
       "      <th>9</th>\n",
       "      <td>PC52</td>\n",
       "      <td>1344</td>\n",
       "      <td>PC96</td>\n",
       "      <td>MAD; Spindle assembly checkpoint component Mad1</td>\n",
       "    </tr>\n",
       "    <tr>\n",
       "      <th>10</th>\n",
       "      <td>PC53</td>\n",
       "      <td>1344</td>\n",
       "      <td>PC96</td>\n",
       "      <td>MAD; Spindle assembly checkpoint component Mad1</td>\n",
       "    </tr>\n",
       "    <tr>\n",
       "      <th>11</th>\n",
       "      <td>PC57</td>\n",
       "      <td>145</td>\n",
       "      <td>PC76</td>\n",
       "      <td>A_deaminase; Adenosine/AMP deaminase domain</td>\n",
       "    </tr>\n",
       "    <tr>\n",
       "      <th>12</th>\n",
       "      <td>PC57</td>\n",
       "      <td>145</td>\n",
       "      <td>PC158</td>\n",
       "      <td>A_deaminase; Adenosine/AMP deaminase domain</td>\n",
       "    </tr>\n",
       "    <tr>\n",
       "      <th>13</th>\n",
       "      <td>PC58</td>\n",
       "      <td>145</td>\n",
       "      <td>PC76</td>\n",
       "      <td>A_deaminase; Adenosine/AMP deaminase domain</td>\n",
       "    </tr>\n",
       "    <tr>\n",
       "      <th>14</th>\n",
       "      <td>PC58</td>\n",
       "      <td>145</td>\n",
       "      <td>PC158</td>\n",
       "      <td>A_deaminase; Adenosine/AMP deaminase domain</td>\n",
       "    </tr>\n",
       "    <tr>\n",
       "      <th>15</th>\n",
       "      <td>PC67</td>\n",
       "      <td>2324</td>\n",
       "      <td>PC93</td>\n",
       "      <td>SHR-BD; Vacuolar protein sorting-associated pr...</td>\n",
       "    </tr>\n",
       "    <tr>\n",
       "      <th>16</th>\n",
       "      <td>PC92</td>\n",
       "      <td>2875</td>\n",
       "      <td>PC56</td>\n",
       "      <td>YchF-GTPase_C; Domain of unknown function DUF933</td>\n",
       "    </tr>\n",
       "    <tr>\n",
       "      <th>17</th>\n",
       "      <td>PC93</td>\n",
       "      <td>2321</td>\n",
       "      <td>PC102</td>\n",
       "      <td>SHE3; SWI5-dependent HO expression protein 3</td>\n",
       "    </tr>\n",
       "    <tr>\n",
       "      <th>18</th>\n",
       "      <td>PC95</td>\n",
       "      <td>446</td>\n",
       "      <td>PC64</td>\n",
       "      <td>Catalase; Catalase core domain</td>\n",
       "    </tr>\n",
       "    <tr>\n",
       "      <th>19</th>\n",
       "      <td>PC96</td>\n",
       "      <td>77</td>\n",
       "      <td>PC21</td>\n",
       "      <td>AMP-binding; AMP-dependent synthetase/ligase</td>\n",
       "    </tr>\n",
       "    <tr>\n",
       "      <th>20</th>\n",
       "      <td>PC99</td>\n",
       "      <td>1101</td>\n",
       "      <td>PC44</td>\n",
       "      <td>HCO3_cotransp; Bicarbonate transporter, C-term...</td>\n",
       "    </tr>\n",
       "    <tr>\n",
       "      <th>21</th>\n",
       "      <td>PC102</td>\n",
       "      <td>612</td>\n",
       "      <td>PC82</td>\n",
       "      <td>DNA_pol_A_exo1; 3&amp;apos;-5&amp;apos; exonuclease do...</td>\n",
       "    </tr>\n",
       "    <tr>\n",
       "      <th>22</th>\n",
       "      <td>PC111</td>\n",
       "      <td>80</td>\n",
       "      <td>PC99</td>\n",
       "      <td>AMPKBI; Association with the SNF1 complex (ASC...</td>\n",
       "    </tr>\n",
       "    <tr>\n",
       "      <th>23</th>\n",
       "      <td>PC113</td>\n",
       "      <td>2125</td>\n",
       "      <td>PC149</td>\n",
       "      <td>Rer1; Retrieval of early ER protein Rer1</td>\n",
       "    </tr>\n",
       "    <tr>\n",
       "      <th>24</th>\n",
       "      <td>PC120</td>\n",
       "      <td>876</td>\n",
       "      <td>PC65</td>\n",
       "      <td>FDX-ACB; Ferrodoxin-fold anticodon-binding domain</td>\n",
       "    </tr>\n",
       "    <tr>\n",
       "      <th>25</th>\n",
       "      <td>PC121</td>\n",
       "      <td>1267</td>\n",
       "      <td>PC209</td>\n",
       "      <td>Kelch_3</td>\n",
       "    </tr>\n",
       "    <tr>\n",
       "      <th>26</th>\n",
       "      <td>PC136</td>\n",
       "      <td>1267</td>\n",
       "      <td>PC209</td>\n",
       "      <td>Kelch_3</td>\n",
       "    </tr>\n",
       "    <tr>\n",
       "      <th>27</th>\n",
       "      <td>PC126</td>\n",
       "      <td>1627</td>\n",
       "      <td>PC51</td>\n",
       "      <td>Not3; CCR4-Not complex component, Not N-termin...</td>\n",
       "    </tr>\n",
       "    <tr>\n",
       "      <th>28</th>\n",
       "      <td>PC143</td>\n",
       "      <td>1627</td>\n",
       "      <td>PC51</td>\n",
       "      <td>Not3; CCR4-Not complex component, Not N-termin...</td>\n",
       "    </tr>\n",
       "    <tr>\n",
       "      <th>29</th>\n",
       "      <td>PC160</td>\n",
       "      <td>1035</td>\n",
       "      <td>PC119</td>\n",
       "      <td>Gln-synt_N; Glutamine synthetase, beta-Grasp d...</td>\n",
       "    </tr>\n",
       "    <tr>\n",
       "      <th>30</th>\n",
       "      <td>PC161</td>\n",
       "      <td>1612</td>\n",
       "      <td>PC160</td>\n",
       "      <td>NifU; NIF system FeS cluster assembly, NifU, C...</td>\n",
       "    </tr>\n",
       "    <tr>\n",
       "      <th>31</th>\n",
       "      <td>PC166</td>\n",
       "      <td>1612</td>\n",
       "      <td>PC160</td>\n",
       "      <td>NifU; NIF system FeS cluster assembly, NifU, C...</td>\n",
       "    </tr>\n",
       "    <tr>\n",
       "      <th>32</th>\n",
       "      <td>PC164</td>\n",
       "      <td>4</td>\n",
       "      <td>PC205</td>\n",
       "      <td>2-oxoacid_dh; 2-oxoacid dehydrogenase acyltran...</td>\n",
       "    </tr>\n",
       "    <tr>\n",
       "      <th>33</th>\n",
       "      <td>PC205</td>\n",
       "      <td>376</td>\n",
       "      <td>PC144</td>\n",
       "      <td>COG2; Conserved oligomeric Golgi complex, subu...</td>\n",
       "    </tr>\n",
       "    <tr>\n",
       "      <th>34</th>\n",
       "      <td>PC207</td>\n",
       "      <td>2094</td>\n",
       "      <td>PC203</td>\n",
       "      <td>Rad52_Rad22; DNA repair protein Rad52/59/22</td>\n",
       "    </tr>\n",
       "    <tr>\n",
       "      <th>35</th>\n",
       "      <td>PC211</td>\n",
       "      <td>1362</td>\n",
       "      <td>PC98</td>\n",
       "      <td>MDM31_MDM32; Mitochondrial distribution and mo...</td>\n",
       "    </tr>\n",
       "    <tr>\n",
       "      <th>36</th>\n",
       "      <td>PC212</td>\n",
       "      <td>1362</td>\n",
       "      <td>PC98</td>\n",
       "      <td>MDM31_MDM32; Mitochondrial distribution and mo...</td>\n",
       "    </tr>\n",
       "    <tr>\n",
       "      <th>37</th>\n",
       "      <td>PC229</td>\n",
       "      <td>247</td>\n",
       "      <td>PC157</td>\n",
       "      <td>Autophagy_act_C; Autophagy-related protein 3</td>\n",
       "    </tr>\n",
       "    <tr>\n",
       "      <th>38</th>\n",
       "      <td>PC233</td>\n",
       "      <td>1733</td>\n",
       "      <td>PC138</td>\n",
       "      <td>PGAP1; GPI inositol-deacylase PGAP1-like</td>\n",
       "    </tr>\n",
       "    <tr>\n",
       "      <th>39</th>\n",
       "      <td>PC241</td>\n",
       "      <td>760</td>\n",
       "      <td>PC137</td>\n",
       "      <td>Dopey_N; Dopey, N-terminal</td>\n",
       "    </tr>\n",
       "    <tr>\n",
       "      <th>40</th>\n",
       "      <td>PC244</td>\n",
       "      <td>1046</td>\n",
       "      <td>PC61</td>\n",
       "      <td>Glyco_hydro_18; Glycoside hydrolase family 18,...</td>\n",
       "    </tr>\n",
       "    <tr>\n",
       "      <th>41</th>\n",
       "      <td>PC282</td>\n",
       "      <td>1046</td>\n",
       "      <td>PC61</td>\n",
       "      <td>Glyco_hydro_18; Glycoside hydrolase family 18,...</td>\n",
       "    </tr>\n",
       "    <tr>\n",
       "      <th>42</th>\n",
       "      <td>PC246</td>\n",
       "      <td>2150</td>\n",
       "      <td>PC191</td>\n",
       "      <td>Ribosom_S12_S23; Ribosomal protein S12/S23</td>\n",
       "    </tr>\n",
       "    <tr>\n",
       "      <th>43</th>\n",
       "      <td>PC246</td>\n",
       "      <td>2150</td>\n",
       "      <td>PC195</td>\n",
       "      <td>Ribosom_S12_S23; Ribosomal protein S12/S23</td>\n",
       "    </tr>\n",
       "    <tr>\n",
       "      <th>44</th>\n",
       "      <td>PC247</td>\n",
       "      <td>2150</td>\n",
       "      <td>PC191</td>\n",
       "      <td>Ribosom_S12_S23; Ribosomal protein S12/S23</td>\n",
       "    </tr>\n",
       "    <tr>\n",
       "      <th>45</th>\n",
       "      <td>PC247</td>\n",
       "      <td>2150</td>\n",
       "      <td>PC195</td>\n",
       "      <td>Ribosom_S12_S23; Ribosomal protein S12/S23</td>\n",
       "    </tr>\n",
       "    <tr>\n",
       "      <th>46</th>\n",
       "      <td>PC249</td>\n",
       "      <td>1959</td>\n",
       "      <td>PC164</td>\n",
       "      <td>Pyr_redox_dim; Pyridine nucleotide-disulphide ...</td>\n",
       "    </tr>\n",
       "    <tr>\n",
       "      <th>47</th>\n",
       "      <td>PC258</td>\n",
       "      <td>1394</td>\n",
       "      <td>PC230</td>\n",
       "      <td>MPS2; Monopolar spindle protein 2</td>\n",
       "    </tr>\n",
       "    <tr>\n",
       "      <th>48</th>\n",
       "      <td>PC264</td>\n",
       "      <td>2516</td>\n",
       "      <td>PC186</td>\n",
       "      <td>Spt5_N; Spt5 transcription elongation factor, ...</td>\n",
       "    </tr>\n",
       "    <tr>\n",
       "      <th>49</th>\n",
       "      <td>PC267</td>\n",
       "      <td>2516</td>\n",
       "      <td>PC186</td>\n",
       "      <td>Spt5_N; Spt5 transcription elongation factor, ...</td>\n",
       "    </tr>\n",
       "    <tr>\n",
       "      <th>50</th>\n",
       "      <td>PC284</td>\n",
       "      <td>237</td>\n",
       "      <td>PC214</td>\n",
       "      <td>Asn_synthase; Asparagine synthase</td>\n",
       "    </tr>\n",
       "    <tr>\n",
       "      <th>51</th>\n",
       "      <td>PC284</td>\n",
       "      <td>237</td>\n",
       "      <td>PC224</td>\n",
       "      <td>Asn_synthase; Asparagine synthase</td>\n",
       "    </tr>\n",
       "    <tr>\n",
       "      <th>52</th>\n",
       "      <td>PC288</td>\n",
       "      <td>9</td>\n",
       "      <td>PC172</td>\n",
       "      <td>40S_S4_C; 40S ribosomal protein S4, C-terminal...</td>\n",
       "    </tr>\n",
       "    <tr>\n",
       "      <th>53</th>\n",
       "      <td>PC294</td>\n",
       "      <td>2814</td>\n",
       "      <td>PC194</td>\n",
       "      <td>Vac17</td>\n",
       "    </tr>\n",
       "    <tr>\n",
       "      <th>54</th>\n",
       "      <td>PC297</td>\n",
       "      <td>2814</td>\n",
       "      <td>PC194</td>\n",
       "      <td>Vac17</td>\n",
       "    </tr>\n",
       "  </tbody>\n",
       "</table>\n",
       "</div>"
      ],
      "text/plain": [
       "   pca-component_x  domain-number pca-component_y  \\\n",
       "0              PC9              3             PC8   \n",
       "1             PC13             55            PC12   \n",
       "2             PC14            926            PC17   \n",
       "3             PC16             76            PC11   \n",
       "4             PC22            488            PC35   \n",
       "5             PC27            265            PC10   \n",
       "6             PC34           1677            PC37   \n",
       "7             PC41             65            PC43   \n",
       "8             PC45            379            PC77   \n",
       "9             PC52           1344            PC96   \n",
       "10            PC53           1344            PC96   \n",
       "11            PC57            145            PC76   \n",
       "12            PC57            145           PC158   \n",
       "13            PC58            145            PC76   \n",
       "14            PC58            145           PC158   \n",
       "15            PC67           2324            PC93   \n",
       "16            PC92           2875            PC56   \n",
       "17            PC93           2321           PC102   \n",
       "18            PC95            446            PC64   \n",
       "19            PC96             77            PC21   \n",
       "20            PC99           1101            PC44   \n",
       "21           PC102            612            PC82   \n",
       "22           PC111             80            PC99   \n",
       "23           PC113           2125           PC149   \n",
       "24           PC120            876            PC65   \n",
       "25           PC121           1267           PC209   \n",
       "26           PC136           1267           PC209   \n",
       "27           PC126           1627            PC51   \n",
       "28           PC143           1627            PC51   \n",
       "29           PC160           1035           PC119   \n",
       "30           PC161           1612           PC160   \n",
       "31           PC166           1612           PC160   \n",
       "32           PC164              4           PC205   \n",
       "33           PC205            376           PC144   \n",
       "34           PC207           2094           PC203   \n",
       "35           PC211           1362            PC98   \n",
       "36           PC212           1362            PC98   \n",
       "37           PC229            247           PC157   \n",
       "38           PC233           1733           PC138   \n",
       "39           PC241            760           PC137   \n",
       "40           PC244           1046            PC61   \n",
       "41           PC282           1046            PC61   \n",
       "42           PC246           2150           PC191   \n",
       "43           PC246           2150           PC195   \n",
       "44           PC247           2150           PC191   \n",
       "45           PC247           2150           PC195   \n",
       "46           PC249           1959           PC164   \n",
       "47           PC258           1394           PC230   \n",
       "48           PC264           2516           PC186   \n",
       "49           PC267           2516           PC186   \n",
       "50           PC284            237           PC214   \n",
       "51           PC284            237           PC224   \n",
       "52           PC288              9           PC172   \n",
       "53           PC294           2814           PC194   \n",
       "54           PC297           2814           PC194   \n",
       "\n",
       "                                   domain-description  \n",
       "0   2-Hacid_dh_C; D-isomer specific 2-hydroxyacid ...  \n",
       "1                                                 ADK  \n",
       "2                      Flp_C; Recombinase Flp protein  \n",
       "3   ALS_ss_C; Acetolactate synthase, small subunit...  \n",
       "4     Cnd1_N; Condensin complex subunit 1, N-terminal  \n",
       "5                            BCS1_N; BCS1, N-terminal  \n",
       "6     Ost5; Oligosaccharyltransferase complex subunit  \n",
       "7   AIM3; Altered inheritance of mitochondria prot...  \n",
       "8                                                COG6  \n",
       "9     MAD; Spindle assembly checkpoint component Mad1  \n",
       "10    MAD; Spindle assembly checkpoint component Mad1  \n",
       "11        A_deaminase; Adenosine/AMP deaminase domain  \n",
       "12        A_deaminase; Adenosine/AMP deaminase domain  \n",
       "13        A_deaminase; Adenosine/AMP deaminase domain  \n",
       "14        A_deaminase; Adenosine/AMP deaminase domain  \n",
       "15  SHR-BD; Vacuolar protein sorting-associated pr...  \n",
       "16   YchF-GTPase_C; Domain of unknown function DUF933  \n",
       "17       SHE3; SWI5-dependent HO expression protein 3  \n",
       "18                     Catalase; Catalase core domain  \n",
       "19       AMP-binding; AMP-dependent synthetase/ligase  \n",
       "20  HCO3_cotransp; Bicarbonate transporter, C-term...  \n",
       "21  DNA_pol_A_exo1; 3&apos;-5&apos; exonuclease do...  \n",
       "22  AMPKBI; Association with the SNF1 complex (ASC...  \n",
       "23           Rer1; Retrieval of early ER protein Rer1  \n",
       "24  FDX-ACB; Ferrodoxin-fold anticodon-binding domain  \n",
       "25                                            Kelch_3  \n",
       "26                                            Kelch_3  \n",
       "27  Not3; CCR4-Not complex component, Not N-termin...  \n",
       "28  Not3; CCR4-Not complex component, Not N-termin...  \n",
       "29  Gln-synt_N; Glutamine synthetase, beta-Grasp d...  \n",
       "30  NifU; NIF system FeS cluster assembly, NifU, C...  \n",
       "31  NifU; NIF system FeS cluster assembly, NifU, C...  \n",
       "32  2-oxoacid_dh; 2-oxoacid dehydrogenase acyltran...  \n",
       "33  COG2; Conserved oligomeric Golgi complex, subu...  \n",
       "34        Rad52_Rad22; DNA repair protein Rad52/59/22  \n",
       "35  MDM31_MDM32; Mitochondrial distribution and mo...  \n",
       "36  MDM31_MDM32; Mitochondrial distribution and mo...  \n",
       "37       Autophagy_act_C; Autophagy-related protein 3  \n",
       "38           PGAP1; GPI inositol-deacylase PGAP1-like  \n",
       "39                         Dopey_N; Dopey, N-terminal  \n",
       "40  Glyco_hydro_18; Glycoside hydrolase family 18,...  \n",
       "41  Glyco_hydro_18; Glycoside hydrolase family 18,...  \n",
       "42         Ribosom_S12_S23; Ribosomal protein S12/S23  \n",
       "43         Ribosom_S12_S23; Ribosomal protein S12/S23  \n",
       "44         Ribosom_S12_S23; Ribosomal protein S12/S23  \n",
       "45         Ribosom_S12_S23; Ribosomal protein S12/S23  \n",
       "46  Pyr_redox_dim; Pyridine nucleotide-disulphide ...  \n",
       "47                  MPS2; Monopolar spindle protein 2  \n",
       "48  Spt5_N; Spt5 transcription elongation factor, ...  \n",
       "49  Spt5_N; Spt5 transcription elongation factor, ...  \n",
       "50                  Asn_synthase; Asparagine synthase  \n",
       "51                  Asn_synthase; Asparagine synthase  \n",
       "52  40S_S4_C; 40S ribosomal protein S4, C-terminal...  \n",
       "53                                              Vac17  \n",
       "54                                              Vac17  "
      ]
     },
     "execution_count": 22,
     "metadata": {},
     "output_type": "execute_result"
    }
   ],
   "source": [
    "df_shared_domains=pd.merge(df_sl,df_nsl,how='inner',on='domain-number')\n",
    "domains_name=np.unique(data_domains['domain-name'])\n",
    "domains_description=np.unique(data_domains['domain-descrip'])\n",
    "\n",
    "df_shared_domains['domain-description']=domains_description[df_shared_domains['domain-number']]\n",
    "\n",
    "\n",
    "df_shared_domains"
   ]
  },
  {
   "cell_type": "code",
   "execution_count": 23,
   "metadata": {
    "execution": {
     "iopub.execute_input": "2020-07-20T09:49:54.840103Z",
     "iopub.status.busy": "2020-07-20T09:49:54.839586Z",
     "iopub.status.idle": "2020-07-20T09:49:54.846538Z",
     "shell.execute_reply": "2020-07-20T09:49:54.847033Z"
    }
   },
   "outputs": [
    {
     "name": "stdout",
     "output_type": "stream",
     "text": [
      "The number of shared domains between SL and nSL pairs,after PCA, is =  55 out of 575 so the 9.565217391304348 %\n"
     ]
    }
   ],
   "source": [
    "print('The number of shared domains between SL and nSL pairs,after PCA, is = ',len(df_shared_domains), 'out of', len(df_sl)+len(df_nsl), 'so the',100*len(df_shared_domains)/(len(df_sl)+len(df_nsl)),'%')"
   ]
  },
  {
   "cell_type": "markdown",
   "metadata": {},
   "source": [
    "## Domains exclusive to SL"
   ]
  },
  {
   "cell_type": "code",
   "execution_count": 24,
   "metadata": {
    "execution": {
     "iopub.execute_input": "2020-07-20T09:49:54.849204Z",
     "iopub.status.busy": "2020-07-20T09:49:54.848705Z",
     "iopub.status.idle": "2020-07-20T09:49:54.876281Z",
     "shell.execute_reply": "2020-07-20T09:49:54.876739Z"
    }
   },
   "outputs": [
    {
     "data": {
      "text/html": [
       "<div>\n",
       "<style scoped>\n",
       "    .dataframe tbody tr th:only-of-type {\n",
       "        vertical-align: middle;\n",
       "    }\n",
       "\n",
       "    .dataframe tbody tr th {\n",
       "        vertical-align: top;\n",
       "    }\n",
       "\n",
       "    .dataframe thead th {\n",
       "        text-align: right;\n",
       "    }\n",
       "</style>\n",
       "<table border=\"1\" class=\"dataframe\">\n",
       "  <thead>\n",
       "    <tr style=\"text-align: right;\">\n",
       "      <th></th>\n",
       "      <th>pca-component_x</th>\n",
       "      <th>domain-number</th>\n",
       "      <th>pca-component_y</th>\n",
       "      <th>domain-description</th>\n",
       "    </tr>\n",
       "  </thead>\n",
       "  <tbody>\n",
       "    <tr>\n",
       "      <th>0</th>\n",
       "      <td>PC0</td>\n",
       "      <td>540</td>\n",
       "      <td>NaN</td>\n",
       "      <td>Cytochrome_B; Cytochrome b/b6, N-terminal</td>\n",
       "    </tr>\n",
       "    <tr>\n",
       "      <th>1</th>\n",
       "      <td>PC1</td>\n",
       "      <td>89</td>\n",
       "      <td>NaN</td>\n",
       "      <td>ANAPC8; Cdc23</td>\n",
       "    </tr>\n",
       "    <tr>\n",
       "      <th>2</th>\n",
       "      <td>PC2</td>\n",
       "      <td>142</td>\n",
       "      <td>NaN</td>\n",
       "      <td>ATP_synt_H; ATPase, V0 complex, subunit e1/e2</td>\n",
       "    </tr>\n",
       "    <tr>\n",
       "      <th>3</th>\n",
       "      <td>PC3</td>\n",
       "      <td>117</td>\n",
       "      <td>NaN</td>\n",
       "      <td>ATP-cone; ATP-cone domain</td>\n",
       "    </tr>\n",
       "    <tr>\n",
       "      <th>4</th>\n",
       "      <td>PC4</td>\n",
       "      <td>689</td>\n",
       "      <td>NaN</td>\n",
       "      <td>DUF3128; Protein of unknown function DUF3128</td>\n",
       "    </tr>\n",
       "    <tr>\n",
       "      <th>...</th>\n",
       "      <td>...</td>\n",
       "      <td>...</td>\n",
       "      <td>...</td>\n",
       "      <td>...</td>\n",
       "    </tr>\n",
       "    <tr>\n",
       "      <th>296</th>\n",
       "      <td>PC291</td>\n",
       "      <td>215</td>\n",
       "      <td>NaN</td>\n",
       "      <td>Anticodon_1; Methionyl/Valyl/Leucyl/Isoleucyl-...</td>\n",
       "    </tr>\n",
       "    <tr>\n",
       "      <th>297</th>\n",
       "      <td>PC292</td>\n",
       "      <td>708</td>\n",
       "      <td>NaN</td>\n",
       "      <td>DUF3767; Cox20/FAM36A</td>\n",
       "    </tr>\n",
       "    <tr>\n",
       "      <th>298</th>\n",
       "      <td>PC293</td>\n",
       "      <td>422</td>\n",
       "      <td>NaN</td>\n",
       "      <td>CSN8_PSD8_EIF3K; CSN8/PSMD8/EIF3K</td>\n",
       "    </tr>\n",
       "    <tr>\n",
       "      <th>300</th>\n",
       "      <td>PC295</td>\n",
       "      <td>491</td>\n",
       "      <td>NaN</td>\n",
       "      <td>Cnl2_NKP2; Kinetochore subunit NKP2</td>\n",
       "    </tr>\n",
       "    <tr>\n",
       "      <th>301</th>\n",
       "      <td>PC296</td>\n",
       "      <td>2025</td>\n",
       "      <td>NaN</td>\n",
       "      <td>RNA_pol_Rpb2_7; RNA polymerase Rpb2, domain 7</td>\n",
       "    </tr>\n",
       "  </tbody>\n",
       "</table>\n",
       "<p>248 rows × 4 columns</p>\n",
       "</div>"
      ],
      "text/plain": [
       "    pca-component_x  domain-number pca-component_y  \\\n",
       "0               PC0            540             NaN   \n",
       "1               PC1             89             NaN   \n",
       "2               PC2            142             NaN   \n",
       "3               PC3            117             NaN   \n",
       "4               PC4            689             NaN   \n",
       "..              ...            ...             ...   \n",
       "296           PC291            215             NaN   \n",
       "297           PC292            708             NaN   \n",
       "298           PC293            422             NaN   \n",
       "300           PC295            491             NaN   \n",
       "301           PC296           2025             NaN   \n",
       "\n",
       "                                    domain-description  \n",
       "0            Cytochrome_B; Cytochrome b/b6, N-terminal  \n",
       "1                                        ANAPC8; Cdc23  \n",
       "2        ATP_synt_H; ATPase, V0 complex, subunit e1/e2  \n",
       "3                            ATP-cone; ATP-cone domain  \n",
       "4         DUF3128; Protein of unknown function DUF3128  \n",
       "..                                                 ...  \n",
       "296  Anticodon_1; Methionyl/Valyl/Leucyl/Isoleucyl-...  \n",
       "297                              DUF3767; Cox20/FAM36A  \n",
       "298                  CSN8_PSD8_EIF3K; CSN8/PSMD8/EIF3K  \n",
       "300                Cnl2_NKP2; Kinetochore subunit NKP2  \n",
       "301      RNA_pol_Rpb2_7; RNA polymerase Rpb2, domain 7  \n",
       "\n",
       "[248 rows x 4 columns]"
      ]
     },
     "execution_count": 24,
     "metadata": {},
     "output_type": "execute_result"
    }
   ],
   "source": [
    "df_sl_exclusive=pd.merge(df_sl,df_nsl,how='left',on='domain-number')\n",
    "\n",
    "domains_name=np.unique(data_domains['domain-name'])\n",
    "domains_description=np.unique(data_domains['domain-descrip'])\n",
    "\n",
    "df_sl_exclusive['domain-description']=domains_description[df_sl_exclusive['domain-number']]\n",
    "df_sl_exclusive[pd.isnull(df_sl_exclusive['pca-component_y'])]"
   ]
  },
  {
   "cell_type": "code",
   "execution_count": 25,
   "metadata": {
    "execution": {
     "iopub.execute_input": "2020-07-20T09:49:54.878743Z",
     "iopub.status.busy": "2020-07-20T09:49:54.878281Z",
     "iopub.status.idle": "2020-07-20T09:49:54.883094Z",
     "shell.execute_reply": "2020-07-20T09:49:54.883557Z"
    }
   },
   "outputs": [
    {
     "name": "stdout",
     "output_type": "stream",
     "text": [
      "The number of exclusive domains from SL pairs, after PCA, is =  303 out of 575 so the 52.69565217391305 %\n"
     ]
    }
   ],
   "source": [
    "print('The number of exclusive domains from SL pairs, after PCA, is = ',len(df_sl_exclusive), 'out of', len(df_sl)+len(df_nsl), 'so the',100*len(df_sl_exclusive)/(len(df_sl)+len(df_nsl)),'%')"
   ]
  },
  {
   "cell_type": "code",
   "execution_count": 26,
   "metadata": {
    "execution": {
     "iopub.execute_input": "2020-07-20T09:49:54.888784Z",
     "iopub.status.busy": "2020-07-20T09:49:54.888261Z",
     "iopub.status.idle": "2020-07-20T09:49:54.914968Z",
     "shell.execute_reply": "2020-07-20T09:49:54.915692Z"
    }
   },
   "outputs": [
    {
     "data": {
      "text/html": [
       "<div>\n",
       "<style scoped>\n",
       "    .dataframe tbody tr th:only-of-type {\n",
       "        vertical-align: middle;\n",
       "    }\n",
       "\n",
       "    .dataframe tbody tr th {\n",
       "        vertical-align: top;\n",
       "    }\n",
       "\n",
       "    .dataframe thead th {\n",
       "        text-align: right;\n",
       "    }\n",
       "</style>\n",
       "<table border=\"1\" class=\"dataframe\">\n",
       "  <thead>\n",
       "    <tr style=\"text-align: right;\">\n",
       "      <th></th>\n",
       "      <th>pca-component_x</th>\n",
       "      <th>domain-number</th>\n",
       "      <th>pca-component_y</th>\n",
       "      <th>domain-description</th>\n",
       "    </tr>\n",
       "  </thead>\n",
       "  <tbody>\n",
       "    <tr>\n",
       "      <th>55</th>\n",
       "      <td>NaN</td>\n",
       "      <td>1028</td>\n",
       "      <td>PC0</td>\n",
       "      <td>GatB_Yqey; Asn/Gln amidotransferase</td>\n",
       "    </tr>\n",
       "    <tr>\n",
       "      <th>56</th>\n",
       "      <td>NaN</td>\n",
       "      <td>998</td>\n",
       "      <td>PC1</td>\n",
       "      <td>GRAB; GRIP-related Arf-binding domain</td>\n",
       "    </tr>\n",
       "    <tr>\n",
       "      <th>57</th>\n",
       "      <td>NaN</td>\n",
       "      <td>1252</td>\n",
       "      <td>PC2</td>\n",
       "      <td>JmjN; JmjN domain</td>\n",
       "    </tr>\n",
       "    <tr>\n",
       "      <th>58</th>\n",
       "      <td>NaN</td>\n",
       "      <td>385</td>\n",
       "      <td>PC3</td>\n",
       "      <td>COQ7; Ubiquinone biosynthesis protein Coq7</td>\n",
       "    </tr>\n",
       "    <tr>\n",
       "      <th>59</th>\n",
       "      <td>NaN</td>\n",
       "      <td>308</td>\n",
       "      <td>PC4</td>\n",
       "      <td>Bul1_N; Bul1, N-terminal</td>\n",
       "    </tr>\n",
       "    <tr>\n",
       "      <th>...</th>\n",
       "      <td>...</td>\n",
       "      <td>...</td>\n",
       "      <td>...</td>\n",
       "      <td>...</td>\n",
       "    </tr>\n",
       "    <tr>\n",
       "      <th>284</th>\n",
       "      <td>NaN</td>\n",
       "      <td>282</td>\n",
       "      <td>PC271</td>\n",
       "      <td>BRE1; E3 ubiquitin ligase, BRE1</td>\n",
       "    </tr>\n",
       "    <tr>\n",
       "      <th>285</th>\n",
       "      <td>NaN</td>\n",
       "      <td>2160</td>\n",
       "      <td>PC272</td>\n",
       "      <td>Ribosomal_L14e; Ribosomal protein L14e domain</td>\n",
       "    </tr>\n",
       "    <tr>\n",
       "      <th>286</th>\n",
       "      <td>NaN</td>\n",
       "      <td>1814</td>\n",
       "      <td>PC274</td>\n",
       "      <td>PRKCSH-like; Glucosidase II beta subunit, N-te...</td>\n",
       "    </tr>\n",
       "    <tr>\n",
       "      <th>287</th>\n",
       "      <td>NaN</td>\n",
       "      <td>2107</td>\n",
       "      <td>PC275</td>\n",
       "      <td>RasGAP; Ras GTPase-activating protein</td>\n",
       "    </tr>\n",
       "    <tr>\n",
       "      <th>288</th>\n",
       "      <td>NaN</td>\n",
       "      <td>6</td>\n",
       "      <td>PC276</td>\n",
       "      <td>2OG-FeII_Oxy_4</td>\n",
       "    </tr>\n",
       "  </tbody>\n",
       "</table>\n",
       "<p>234 rows × 4 columns</p>\n",
       "</div>"
      ],
      "text/plain": [
       "    pca-component_x  domain-number pca-component_y  \\\n",
       "55              NaN           1028             PC0   \n",
       "56              NaN            998             PC1   \n",
       "57              NaN           1252             PC2   \n",
       "58              NaN            385             PC3   \n",
       "59              NaN            308             PC4   \n",
       "..              ...            ...             ...   \n",
       "284             NaN            282           PC271   \n",
       "285             NaN           2160           PC272   \n",
       "286             NaN           1814           PC274   \n",
       "287             NaN           2107           PC275   \n",
       "288             NaN              6           PC276   \n",
       "\n",
       "                                    domain-description  \n",
       "55                 GatB_Yqey; Asn/Gln amidotransferase  \n",
       "56               GRAB; GRIP-related Arf-binding domain  \n",
       "57                                   JmjN; JmjN domain  \n",
       "58          COQ7; Ubiquinone biosynthesis protein Coq7  \n",
       "59                            Bul1_N; Bul1, N-terminal  \n",
       "..                                                 ...  \n",
       "284                    BRE1; E3 ubiquitin ligase, BRE1  \n",
       "285      Ribosomal_L14e; Ribosomal protein L14e domain  \n",
       "286  PRKCSH-like; Glucosidase II beta subunit, N-te...  \n",
       "287              RasGAP; Ras GTPase-activating protein  \n",
       "288                                     2OG-FeII_Oxy_4  \n",
       "\n",
       "[234 rows x 4 columns]"
      ]
     },
     "execution_count": 26,
     "metadata": {},
     "output_type": "execute_result"
    }
   ],
   "source": [
    "df_nsl_exclusive=pd.merge(df_sl,df_nsl,how='right',on='domain-number')\n",
    "\n",
    "domains_name=np.unique(data_domains['domain-name'])\n",
    "domains_description=np.unique(data_domains['domain-descrip'])\n",
    "\n",
    "df_nsl_exclusive['domain-description']=domains_description[df_nsl_exclusive['domain-number']]\n",
    "df_nsl_exclusive[pd.isnull(df_nsl_exclusive['pca-component_x'])]"
   ]
  },
  {
   "cell_type": "code",
   "execution_count": 27,
   "metadata": {
    "execution": {
     "iopub.execute_input": "2020-07-20T09:49:54.920123Z",
     "iopub.status.busy": "2020-07-20T09:49:54.919594Z",
     "iopub.status.idle": "2020-07-20T09:49:54.923213Z",
     "shell.execute_reply": "2020-07-20T09:49:54.922793Z"
    }
   },
   "outputs": [
    {
     "name": "stdout",
     "output_type": "stream",
     "text": [
      "The number of exclusive domains from non SL pairs, after PCA, is =  289 out of 575 so the 50.26086956521739 %\n"
     ]
    }
   ],
   "source": [
    "print('The number of exclusive domains from non SL pairs, after PCA, is = ',len(df_nsl_exclusive), 'out of', len(df_sl)+len(df_nsl), 'so the',100*len(df_nsl_exclusive)/(len(df_sl)+len(df_nsl)),'%')"
   ]
  },
  {
   "cell_type": "markdown",
   "metadata": {},
   "source": [
    "## Let see to the domains-number that get repeated after the PCA analysis , and selecting the most explanatory feature by its explained variance."
   ]
  },
  {
   "cell_type": "code",
   "execution_count": 28,
   "metadata": {
    "execution": {
     "iopub.execute_input": "2020-07-20T09:49:54.944530Z",
     "iopub.status.busy": "2020-07-20T09:49:54.943139Z",
     "iopub.status.idle": "2020-07-20T09:49:54.945135Z",
     "shell.execute_reply": "2020-07-20T09:49:54.945517Z"
    }
   },
   "outputs": [],
   "source": [
    "duplicated_features_sl=df_sl[df_sl.iloc[:,1].duplicated()]\n",
    "repeated_features_sl=pd.DataFrame()\n",
    "\n",
    "domains_name=np.unique(data_domains['domain-name'])\n",
    "domains_description=np.unique(data_domains['domain-descrip'])\n",
    "\n",
    "repeated_features_sl['domain-name']=domains_name[duplicated_features_sl.iloc[:,1]] \n",
    "repeated_features_sl['domain-description']=domains_description[duplicated_features_sl.iloc[:,1]]\n",
    "\n",
    "duplicated_features_nsl=df_nsl[df_nsl.iloc[:,1].duplicated()]\n",
    "repeated_features_nsl=pd.DataFrame()\n",
    "\n",
    "repeated_features_nsl['domain-name']=domains_name[duplicated_features_nsl.iloc[:,1]] \n",
    "repeated_features_nsl['domain-description']=domains_description[duplicated_features_nsl.iloc[:,1]]"
   ]
  },
  {
   "cell_type": "code",
   "execution_count": 29,
   "metadata": {
    "execution": {
     "iopub.execute_input": "2020-07-20T09:49:54.955425Z",
     "iopub.status.busy": "2020-07-20T09:49:54.954930Z",
     "iopub.status.idle": "2020-07-20T09:49:54.958625Z",
     "shell.execute_reply": "2020-07-20T09:49:54.958155Z"
    }
   },
   "outputs": [
    {
     "name": "stderr",
     "output_type": "stream",
     "text": [
      "/usr/share/miniconda3/envs/wintest/lib/python3.7/site-packages/ipykernel_launcher.py:3: SettingWithCopyWarning: \n",
      "A value is trying to be set on a copy of a slice from a DataFrame.\n",
      "Try using .loc[row_indexer,col_indexer] = value instead\n",
      "\n",
      "See the caveats in the documentation: https://pandas.pydata.org/pandas-docs/stable/user_guide/indexing.html#returning-a-view-versus-a-copy\n",
      "  This is separate from the ipykernel package so we can avoid doing imports until\n"
     ]
    },
    {
     "data": {
      "text/plain": [
       "((53, 4), (303, 4))"
      ]
     },
     "execution_count": 29,
     "metadata": {},
     "output_type": "execute_result"
    }
   ],
   "source": [
    "only_sl_pd=pd.merge(repeated_features_sl,repeated_features_nsl,how='left',on=['domain-name'])\n",
    "data_only_sl = only_sl_pd[pd.isnull(only_sl_pd['domain-description_y'])]\n",
    "data_only_sl['domain-description']=data_only_sl['domain-description_x']\n",
    "data_only_sl.shape,df_sl_exclusive.shape"
   ]
  },
  {
   "cell_type": "code",
   "execution_count": 30,
   "metadata": {
    "execution": {
     "iopub.execute_input": "2020-07-20T09:49:54.976544Z",
     "iopub.status.busy": "2020-07-20T09:49:54.975842Z",
     "iopub.status.idle": "2020-07-20T09:49:54.978659Z",
     "shell.execute_reply": "2020-07-20T09:49:54.979069Z"
    }
   },
   "outputs": [
    {
     "data": {
      "text/html": [
       "<div>\n",
       "<style scoped>\n",
       "    .dataframe tbody tr th:only-of-type {\n",
       "        vertical-align: middle;\n",
       "    }\n",
       "\n",
       "    .dataframe tbody tr th {\n",
       "        vertical-align: top;\n",
       "    }\n",
       "\n",
       "    .dataframe thead th {\n",
       "        text-align: right;\n",
       "    }\n",
       "</style>\n",
       "<table border=\"1\" class=\"dataframe\">\n",
       "  <thead>\n",
       "    <tr style=\"text-align: right;\">\n",
       "      <th></th>\n",
       "      <th>domain-name</th>\n",
       "      <th>domain-description_x</th>\n",
       "      <th>domain-description_y</th>\n",
       "    </tr>\n",
       "  </thead>\n",
       "  <tbody>\n",
       "    <tr>\n",
       "      <th>2</th>\n",
       "      <td>PF08418</td>\n",
       "      <td>NaN</td>\n",
       "      <td>Pex24p; Peroxin domain</td>\n",
       "    </tr>\n",
       "    <tr>\n",
       "      <th>3</th>\n",
       "      <td>PF02463</td>\n",
       "      <td>NaN</td>\n",
       "      <td>FSH1; Serine hydrolase FSH</td>\n",
       "    </tr>\n",
       "    <tr>\n",
       "      <th>4</th>\n",
       "      <td>PF00117</td>\n",
       "      <td>NaN</td>\n",
       "      <td>ACT_7; GATS-like  ACT domain</td>\n",
       "    </tr>\n",
       "    <tr>\n",
       "      <th>5</th>\n",
       "      <td>PF09336</td>\n",
       "      <td>NaN</td>\n",
       "      <td>Rap1-DNA-bind; Rap1, DNA-binding domain</td>\n",
       "    </tr>\n",
       "    <tr>\n",
       "      <th>6</th>\n",
       "      <td>PF01588</td>\n",
       "      <td>NaN</td>\n",
       "      <td>DUF2407_C; Domain of unknown function DUF2407 ...</td>\n",
       "    </tr>\n",
       "    <tr>\n",
       "      <th>7</th>\n",
       "      <td>PF00752</td>\n",
       "      <td>NaN</td>\n",
       "      <td>CNH; Citron homology (CNH) domain</td>\n",
       "    </tr>\n",
       "    <tr>\n",
       "      <th>8</th>\n",
       "      <td>PF04423</td>\n",
       "      <td>NaN</td>\n",
       "      <td>MARVEL; Marvel domain</td>\n",
       "    </tr>\n",
       "    <tr>\n",
       "      <th>9</th>\n",
       "      <td>PF04065</td>\n",
       "      <td>NaN</td>\n",
       "      <td>KOW</td>\n",
       "    </tr>\n",
       "    <tr>\n",
       "      <th>10</th>\n",
       "      <td>PF05390</td>\n",
       "      <td>NaN</td>\n",
       "      <td>NAD_kinase; NAD kinase</td>\n",
       "    </tr>\n",
       "    <tr>\n",
       "      <th>11</th>\n",
       "      <td>PF01565</td>\n",
       "      <td>NaN</td>\n",
       "      <td>DUF2340; Uncharacterised protein family UPF0538</td>\n",
       "    </tr>\n",
       "    <tr>\n",
       "      <th>12</th>\n",
       "      <td>PF04095</td>\n",
       "      <td>NaN</td>\n",
       "      <td>KilA-N; KilA, N-terminal/APSES-type HTH, DNA-b...</td>\n",
       "    </tr>\n",
       "    <tr>\n",
       "      <th>13</th>\n",
       "      <td>PF14681</td>\n",
       "      <td>NaN</td>\n",
       "      <td>Uso1_p115_head; Vesicle tethering protein Uso1...</td>\n",
       "    </tr>\n",
       "    <tr>\n",
       "      <th>14</th>\n",
       "      <td>PF01896</td>\n",
       "      <td>NaN</td>\n",
       "      <td>Dynamin_M; Dynamin central domain</td>\n",
       "    </tr>\n",
       "    <tr>\n",
       "      <th>15</th>\n",
       "      <td>PF05843</td>\n",
       "      <td>NaN</td>\n",
       "      <td>Na_Ca_ex; Sodium/calcium exchanger membrane re...</td>\n",
       "    </tr>\n",
       "    <tr>\n",
       "      <th>16</th>\n",
       "      <td>PF02902</td>\n",
       "      <td>NaN</td>\n",
       "      <td>GSHPx; Glutathione peroxidase</td>\n",
       "    </tr>\n",
       "    <tr>\n",
       "      <th>17</th>\n",
       "      <td>PF04383</td>\n",
       "      <td>NaN</td>\n",
       "      <td>Lysine_decarbox; LOG family</td>\n",
       "    </tr>\n",
       "    <tr>\n",
       "      <th>18</th>\n",
       "      <td>PF00806</td>\n",
       "      <td>NaN</td>\n",
       "      <td>COX17; Cytochrome c oxidase copper chaperone</td>\n",
       "    </tr>\n",
       "    <tr>\n",
       "      <th>19</th>\n",
       "      <td>PF07743</td>\n",
       "      <td>NaN</td>\n",
       "      <td>PH_TFIIH; TFIIH p62 subunit, N-terminal</td>\n",
       "    </tr>\n",
       "    <tr>\n",
       "      <th>20</th>\n",
       "      <td>PF06732</td>\n",
       "      <td>NaN</td>\n",
       "      <td>Ost4; Oligosaccaryltransferase</td>\n",
       "    </tr>\n",
       "    <tr>\n",
       "      <th>21</th>\n",
       "      <td>PF08118</td>\n",
       "      <td>NaN</td>\n",
       "      <td>PRKCSH_1; Mannose-6-phosphate receptor binding...</td>\n",
       "    </tr>\n",
       "    <tr>\n",
       "      <th>22</th>\n",
       "      <td>PF12937</td>\n",
       "      <td>NaN</td>\n",
       "      <td>TFIIF_alpha; Transcription initiation factor I...</td>\n",
       "    </tr>\n",
       "    <tr>\n",
       "      <th>23</th>\n",
       "      <td>PF12735</td>\n",
       "      <td>NaN</td>\n",
       "      <td>Sterol-sensing; Sterol-sensing domain</td>\n",
       "    </tr>\n",
       "    <tr>\n",
       "      <th>24</th>\n",
       "      <td>PF16997</td>\n",
       "      <td>NaN</td>\n",
       "      <td>ubiquitin; Ubiquitin domain</td>\n",
       "    </tr>\n",
       "    <tr>\n",
       "      <th>25</th>\n",
       "      <td>PF09288</td>\n",
       "      <td>NaN</td>\n",
       "      <td>Rad51; DNA recombination and repair protein Ra...</td>\n",
       "    </tr>\n",
       "    <tr>\n",
       "      <th>26</th>\n",
       "      <td>PF17052</td>\n",
       "      <td>NaN</td>\n",
       "      <td>zf-C2H2</td>\n",
       "    </tr>\n",
       "    <tr>\n",
       "      <th>27</th>\n",
       "      <td>PF17052</td>\n",
       "      <td>NaN</td>\n",
       "      <td>zf-C2H2</td>\n",
       "    </tr>\n",
       "    <tr>\n",
       "      <th>28</th>\n",
       "      <td>PF12539</td>\n",
       "      <td>NaN</td>\n",
       "      <td>Sof1; Sof1-like protein</td>\n",
       "    </tr>\n",
       "    <tr>\n",
       "      <th>29</th>\n",
       "      <td>PF12054</td>\n",
       "      <td>NaN</td>\n",
       "      <td>Sec39; Sec39 domain</td>\n",
       "    </tr>\n",
       "    <tr>\n",
       "      <th>30</th>\n",
       "      <td>PF17235</td>\n",
       "      <td>NaN</td>\n",
       "      <td>zf-NPL4; NPL4, zinc-binding putative</td>\n",
       "    </tr>\n",
       "    <tr>\n",
       "      <th>31</th>\n",
       "      <td>PF17235</td>\n",
       "      <td>NaN</td>\n",
       "      <td>zf-NPL4; NPL4, zinc-binding putative</td>\n",
       "    </tr>\n",
       "    <tr>\n",
       "      <th>32</th>\n",
       "      <td>PF00481</td>\n",
       "      <td>NaN</td>\n",
       "      <td>Asn_synthase; Asparagine synthase</td>\n",
       "    </tr>\n",
       "    <tr>\n",
       "      <th>33</th>\n",
       "      <td>PF00332</td>\n",
       "      <td>NaN</td>\n",
       "      <td>Ad_cyc_g-alpha; Adenylate cyclase G-alpha binding</td>\n",
       "    </tr>\n",
       "    <tr>\n",
       "      <th>34</th>\n",
       "      <td>PF00121</td>\n",
       "      <td>NaN</td>\n",
       "      <td>ADH_zinc_N_2</td>\n",
       "    </tr>\n",
       "    <tr>\n",
       "      <th>35</th>\n",
       "      <td>PF00572</td>\n",
       "      <td>NaN</td>\n",
       "      <td>BPL_C; Biotin protein ligase, C-terminal</td>\n",
       "    </tr>\n",
       "    <tr>\n",
       "      <th>36</th>\n",
       "      <td>PF07964</td>\n",
       "      <td>NaN</td>\n",
       "      <td>PMSR; Peptide methionine sulphoxide reductase ...</td>\n",
       "    </tr>\n",
       "    <tr>\n",
       "      <th>37</th>\n",
       "      <td>PF07964</td>\n",
       "      <td>NaN</td>\n",
       "      <td>PMSR; Peptide methionine sulphoxide reductase ...</td>\n",
       "    </tr>\n",
       "    <tr>\n",
       "      <th>38</th>\n",
       "      <td>PF09753</td>\n",
       "      <td>NaN</td>\n",
       "      <td>Ribosomal_L13e; Ribosomal protein L13e</td>\n",
       "    </tr>\n",
       "    <tr>\n",
       "      <th>39</th>\n",
       "      <td>PF00616</td>\n",
       "      <td>NaN</td>\n",
       "      <td>Bmt2; 25S rRNA (adenine(2142)-N(1))-methyltran...</td>\n",
       "    </tr>\n",
       "    <tr>\n",
       "      <th>40</th>\n",
       "      <td>PF01408</td>\n",
       "      <td>NaN</td>\n",
       "      <td>DNA_pol_B_palm; DNA polymerase beta, palm domain</td>\n",
       "    </tr>\n",
       "    <tr>\n",
       "      <th>41</th>\n",
       "      <td>PF07539</td>\n",
       "      <td>NaN</td>\n",
       "      <td>PEMT; Phospholipid methyltransferase</td>\n",
       "    </tr>\n",
       "    <tr>\n",
       "      <th>42</th>\n",
       "      <td>PF07539</td>\n",
       "      <td>NaN</td>\n",
       "      <td>PEMT; Phospholipid methyltransferase</td>\n",
       "    </tr>\n",
       "    <tr>\n",
       "      <th>43</th>\n",
       "      <td>PF07539</td>\n",
       "      <td>NaN</td>\n",
       "      <td>PEMT; Phospholipid methyltransferase</td>\n",
       "    </tr>\n",
       "    <tr>\n",
       "      <th>44</th>\n",
       "      <td>PF09797</td>\n",
       "      <td>NaN</td>\n",
       "      <td>Ribosomal_L23eN; Ribosomal protein L23/L25, N-...</td>\n",
       "    </tr>\n",
       "    <tr>\n",
       "      <th>45</th>\n",
       "      <td>PF05032</td>\n",
       "      <td>NaN</td>\n",
       "      <td>MgsA_C; MgsA AAA+ ATPase C-terminal</td>\n",
       "    </tr>\n",
       "    <tr>\n",
       "      <th>46</th>\n",
       "      <td>PF01490</td>\n",
       "      <td>NaN</td>\n",
       "      <td>DUF1687; Protein of unknown function DUF1687, ...</td>\n",
       "    </tr>\n",
       "    <tr>\n",
       "      <th>47</th>\n",
       "      <td>PF06068</td>\n",
       "      <td>NaN</td>\n",
       "      <td>Nop53; Ribosome biogenesis protein Nop53/GLTSCR2</td>\n",
       "    </tr>\n",
       "    <tr>\n",
       "      <th>48</th>\n",
       "      <td>PF12348</td>\n",
       "      <td>NaN</td>\n",
       "      <td>Sir1; Sir1, ORC-binding domain</td>\n",
       "    </tr>\n",
       "    <tr>\n",
       "      <th>49</th>\n",
       "      <td>PF03366</td>\n",
       "      <td>NaN</td>\n",
       "      <td>HATPase_c_3</td>\n",
       "    </tr>\n",
       "  </tbody>\n",
       "</table>\n",
       "</div>"
      ],
      "text/plain": [
       "   domain-name domain-description_x  \\\n",
       "2      PF08418                  NaN   \n",
       "3      PF02463                  NaN   \n",
       "4      PF00117                  NaN   \n",
       "5      PF09336                  NaN   \n",
       "6      PF01588                  NaN   \n",
       "7      PF00752                  NaN   \n",
       "8      PF04423                  NaN   \n",
       "9      PF04065                  NaN   \n",
       "10     PF05390                  NaN   \n",
       "11     PF01565                  NaN   \n",
       "12     PF04095                  NaN   \n",
       "13     PF14681                  NaN   \n",
       "14     PF01896                  NaN   \n",
       "15     PF05843                  NaN   \n",
       "16     PF02902                  NaN   \n",
       "17     PF04383                  NaN   \n",
       "18     PF00806                  NaN   \n",
       "19     PF07743                  NaN   \n",
       "20     PF06732                  NaN   \n",
       "21     PF08118                  NaN   \n",
       "22     PF12937                  NaN   \n",
       "23     PF12735                  NaN   \n",
       "24     PF16997                  NaN   \n",
       "25     PF09288                  NaN   \n",
       "26     PF17052                  NaN   \n",
       "27     PF17052                  NaN   \n",
       "28     PF12539                  NaN   \n",
       "29     PF12054                  NaN   \n",
       "30     PF17235                  NaN   \n",
       "31     PF17235                  NaN   \n",
       "32     PF00481                  NaN   \n",
       "33     PF00332                  NaN   \n",
       "34     PF00121                  NaN   \n",
       "35     PF00572                  NaN   \n",
       "36     PF07964                  NaN   \n",
       "37     PF07964                  NaN   \n",
       "38     PF09753                  NaN   \n",
       "39     PF00616                  NaN   \n",
       "40     PF01408                  NaN   \n",
       "41     PF07539                  NaN   \n",
       "42     PF07539                  NaN   \n",
       "43     PF07539                  NaN   \n",
       "44     PF09797                  NaN   \n",
       "45     PF05032                  NaN   \n",
       "46     PF01490                  NaN   \n",
       "47     PF06068                  NaN   \n",
       "48     PF12348                  NaN   \n",
       "49     PF03366                  NaN   \n",
       "\n",
       "                                 domain-description_y  \n",
       "2                              Pex24p; Peroxin domain  \n",
       "3                          FSH1; Serine hydrolase FSH  \n",
       "4                        ACT_7; GATS-like  ACT domain  \n",
       "5             Rap1-DNA-bind; Rap1, DNA-binding domain  \n",
       "6   DUF2407_C; Domain of unknown function DUF2407 ...  \n",
       "7                   CNH; Citron homology (CNH) domain  \n",
       "8                               MARVEL; Marvel domain  \n",
       "9                                                 KOW  \n",
       "10                             NAD_kinase; NAD kinase  \n",
       "11    DUF2340; Uncharacterised protein family UPF0538  \n",
       "12  KilA-N; KilA, N-terminal/APSES-type HTH, DNA-b...  \n",
       "13  Uso1_p115_head; Vesicle tethering protein Uso1...  \n",
       "14                  Dynamin_M; Dynamin central domain  \n",
       "15  Na_Ca_ex; Sodium/calcium exchanger membrane re...  \n",
       "16                      GSHPx; Glutathione peroxidase  \n",
       "17                        Lysine_decarbox; LOG family  \n",
       "18       COX17; Cytochrome c oxidase copper chaperone  \n",
       "19            PH_TFIIH; TFIIH p62 subunit, N-terminal  \n",
       "20                     Ost4; Oligosaccaryltransferase  \n",
       "21  PRKCSH_1; Mannose-6-phosphate receptor binding...  \n",
       "22  TFIIF_alpha; Transcription initiation factor I...  \n",
       "23              Sterol-sensing; Sterol-sensing domain  \n",
       "24                        ubiquitin; Ubiquitin domain  \n",
       "25  Rad51; DNA recombination and repair protein Ra...  \n",
       "26                                            zf-C2H2  \n",
       "27                                            zf-C2H2  \n",
       "28                            Sof1; Sof1-like protein  \n",
       "29                                Sec39; Sec39 domain  \n",
       "30               zf-NPL4; NPL4, zinc-binding putative  \n",
       "31               zf-NPL4; NPL4, zinc-binding putative  \n",
       "32                  Asn_synthase; Asparagine synthase  \n",
       "33  Ad_cyc_g-alpha; Adenylate cyclase G-alpha binding  \n",
       "34                                       ADH_zinc_N_2  \n",
       "35           BPL_C; Biotin protein ligase, C-terminal  \n",
       "36  PMSR; Peptide methionine sulphoxide reductase ...  \n",
       "37  PMSR; Peptide methionine sulphoxide reductase ...  \n",
       "38             Ribosomal_L13e; Ribosomal protein L13e  \n",
       "39  Bmt2; 25S rRNA (adenine(2142)-N(1))-methyltran...  \n",
       "40   DNA_pol_B_palm; DNA polymerase beta, palm domain  \n",
       "41               PEMT; Phospholipid methyltransferase  \n",
       "42               PEMT; Phospholipid methyltransferase  \n",
       "43               PEMT; Phospholipid methyltransferase  \n",
       "44  Ribosomal_L23eN; Ribosomal protein L23/L25, N-...  \n",
       "45                MgsA_C; MgsA AAA+ ATPase C-terminal  \n",
       "46  DUF1687; Protein of unknown function DUF1687, ...  \n",
       "47   Nop53; Ribosome biogenesis protein Nop53/GLTSCR2  \n",
       "48                     Sir1; Sir1, ORC-binding domain  \n",
       "49                                        HATPase_c_3  "
      ]
     },
     "execution_count": 30,
     "metadata": {},
     "output_type": "execute_result"
    }
   ],
   "source": [
    "only_nsl_pd=pd.merge(repeated_features_sl,repeated_features_nsl,how='right',on=['domain-name'])\n",
    "data_only_nsl = only_nsl_pd[pd.isnull(only_nsl_pd['domain-description_x'])]\n",
    "data_only_nsl"
   ]
  },
  {
   "cell_type": "code",
   "execution_count": 31,
   "metadata": {
    "execution": {
     "iopub.execute_input": "2020-07-20T09:49:54.990054Z",
     "iopub.status.busy": "2020-07-20T09:49:54.988484Z",
     "iopub.status.idle": "2020-07-20T09:49:54.992467Z",
     "shell.execute_reply": "2020-07-20T09:49:54.991995Z"
    }
   },
   "outputs": [
    {
     "data": {
      "text/html": [
       "<div>\n",
       "<style scoped>\n",
       "    .dataframe tbody tr th:only-of-type {\n",
       "        vertical-align: middle;\n",
       "    }\n",
       "\n",
       "    .dataframe tbody tr th {\n",
       "        vertical-align: top;\n",
       "    }\n",
       "\n",
       "    .dataframe thead th {\n",
       "        text-align: right;\n",
       "    }\n",
       "</style>\n",
       "<table border=\"1\" class=\"dataframe\">\n",
       "  <thead>\n",
       "    <tr style=\"text-align: right;\">\n",
       "      <th></th>\n",
       "      <th>domain-name</th>\n",
       "      <th>domain-description_x</th>\n",
       "      <th>domain-description_y</th>\n",
       "    </tr>\n",
       "  </thead>\n",
       "  <tbody>\n",
       "    <tr>\n",
       "      <th>0</th>\n",
       "      <td>PF00293</td>\n",
       "      <td>A_deaminase; Adenosine/AMP deaminase domain</td>\n",
       "      <td>A_deaminase; Adenosine/AMP deaminase domain</td>\n",
       "    </tr>\n",
       "    <tr>\n",
       "      <th>1</th>\n",
       "      <td>PF09696</td>\n",
       "      <td>Ribosom_S12_S23; Ribosomal protein S12/S23</td>\n",
       "      <td>Ribosom_S12_S23; Ribosomal protein S12/S23</td>\n",
       "    </tr>\n",
       "  </tbody>\n",
       "</table>\n",
       "</div>"
      ],
      "text/plain": [
       "  domain-name                         domain-description_x  \\\n",
       "0     PF00293  A_deaminase; Adenosine/AMP deaminase domain   \n",
       "1     PF09696   Ribosom_S12_S23; Ribosomal protein S12/S23   \n",
       "\n",
       "                          domain-description_y  \n",
       "0  A_deaminase; Adenosine/AMP deaminase domain  \n",
       "1   Ribosom_S12_S23; Ribosomal protein S12/S23  "
      ]
     },
     "execution_count": 31,
     "metadata": {},
     "output_type": "execute_result"
    }
   ],
   "source": [
    "shared_domains_pd=pd.merge(repeated_features_sl,repeated_features_nsl,how='inner',on=['domain-name'])\n",
    "shared_domains_pd\n"
   ]
  },
  {
   "cell_type": "code",
   "execution_count": 32,
   "metadata": {
    "execution": {
     "iopub.execute_input": "2020-07-20T09:49:55.007705Z",
     "iopub.status.busy": "2020-07-20T09:49:55.003307Z",
     "iopub.status.idle": "2020-07-20T09:49:56.414856Z",
     "shell.execute_reply": "2020-07-20T09:49:56.415266Z"
    }
   },
   "outputs": [
    {
     "data": {
      "text/plain": [
       "(0.0, 0.2)"
      ]
     },
     "execution_count": 32,
     "metadata": {},
     "output_type": "execute_result"
    },
    {
     "data": {
      "image/png": "[encoded data removed]",
      "text/plain": [
       "<Figure size 432x288 with 1 Axes>"
      ]
     },
     "metadata": {
      "filenames": {
       "image/png": "/home/runner/work/jupyter-book/jupyter-book/mini_book/docs/_build/jupyter_execute/prot_domains2lethality-FEATURES-POSTPROCESSING_47_1.png"
      },
      "needs_background": "light"
     },
     "output_type": "display_data"
    }
   ],
   "source": [
    "a_sl=x_sl.iloc[:,np.sort(df_sl.iloc[:,1])]\n",
    "a_sl.describe().loc['mean'].hist(bins=8),\n",
    "a_sl.describe().loc['std'].hist(bins=8,alpha=0.4)\n",
    "plt.xlim([0,0.2])"
   ]
  },
  {
   "cell_type": "code",
   "execution_count": 33,
   "metadata": {
    "execution": {
     "iopub.execute_input": "2020-07-20T09:49:56.430664Z",
     "iopub.status.busy": "2020-07-20T09:49:56.428520Z",
     "iopub.status.idle": "2020-07-20T09:49:57.825010Z",
     "shell.execute_reply": "2020-07-20T09:49:57.824564Z"
    }
   },
   "outputs": [
    {
     "data": {
      "text/plain": [
       "(0.0, 0.2)"
      ]
     },
     "execution_count": 33,
     "metadata": {},
     "output_type": "execute_result"
    },
    {
     "data": {
      "image/png": "[encoded data removed]",
      "text/plain": [
       "<Figure size 432x288 with 1 Axes>"
      ]
     },
     "metadata": {
      "filenames": {
       "image/png": "/home/runner/work/jupyter-book/jupyter-book/mini_book/docs/_build/jupyter_execute/prot_domains2lethality-FEATURES-POSTPROCESSING_48_1.png"
      },
      "needs_background": "light"
     },
     "output_type": "display_data"
    }
   ],
   "source": [
    "a_nsl=x_nsl.iloc[:,np.sort(df_nsl.iloc[:,1])]\n",
    "a_nsl.describe().loc['mean'].hist(bins=8),\n",
    "a_nsl.describe().loc['std'].hist(bins=8,alpha=0.4)\n",
    "plt.xlim([0,0.2])"
   ]
  },
  {
   "cell_type": "markdown",
   "metadata": {},
   "source": [
    "### Proof of concept with *BEM1*\n",
    "\n",
    "- Gather the domains of SL and nSL pairs from BEM1\n",
    "- Check if the domains for the SL and nSL pairs are inside the most important domains after PCA."
   ]
  },
  {
   "cell_type": "code",
   "execution_count": 34,
   "metadata": {
    "execution": {
     "iopub.execute_input": "2020-07-20T09:49:57.832489Z",
     "iopub.status.busy": "2020-07-20T09:49:57.831970Z",
     "iopub.status.idle": "2020-07-20T09:49:57.836101Z",
     "shell.execute_reply": "2020-07-20T09:49:57.834882Z"
    }
   },
   "outputs": [],
   "source": [
    "domains_bem1=data_domains[data_domains['name']=='BEM1']['domain-descrip']\n",
    "sl_bem1=data_sl[data_sl['gene-query-name']=='BEM1']['gene-target-name']"
   ]
  },
  {
   "cell_type": "code",
   "execution_count": 35,
   "metadata": {
    "execution": {
     "iopub.execute_input": "2020-07-20T09:49:57.840898Z",
     "iopub.status.busy": "2020-07-20T09:49:57.840392Z",
     "iopub.status.idle": "2020-07-20T09:49:57.845727Z",
     "shell.execute_reply": "2020-07-20T09:49:57.845056Z"
    }
   },
   "outputs": [
    {
     "data": {
      "text/plain": [
       "2846      BEM2\n",
       "2847     CDC24\n",
       "5004      MSB1\n",
       "13777     SMI1\n",
       "13778     BNI1\n",
       "13779     BEM2\n",
       "14385     SKN7\n",
       "Name: gene-target-name, dtype: object"
      ]
     },
     "execution_count": 35,
     "metadata": {},
     "output_type": "execute_result"
    }
   ],
   "source": [
    "sl_bem1"
   ]
  },
  {
   "cell_type": "code",
   "execution_count": 36,
   "metadata": {
    "execution": {
     "iopub.execute_input": "2020-07-20T09:49:57.858950Z",
     "iopub.status.busy": "2020-07-20T09:49:57.858481Z",
     "iopub.status.idle": "2020-07-20T09:49:57.862944Z",
     "shell.execute_reply": "2020-07-20T09:49:57.863310Z"
    }
   },
   "outputs": [
    {
     "data": {
      "text/html": [
       "<div>\n",
       "<style scoped>\n",
       "    .dataframe tbody tr th:only-of-type {\n",
       "        vertical-align: middle;\n",
       "    }\n",
       "\n",
       "    .dataframe tbody tr th {\n",
       "        vertical-align: top;\n",
       "    }\n",
       "\n",
       "    .dataframe thead th {\n",
       "        text-align: right;\n",
       "    }\n",
       "</style>\n",
       "<table border=\"1\" class=\"dataframe\">\n",
       "  <thead>\n",
       "    <tr style=\"text-align: right;\">\n",
       "      <th></th>\n",
       "      <th>gene-query</th>\n",
       "      <th>gene-target</th>\n",
       "      <th>gene-query-name</th>\n",
       "      <th>gene-target-name</th>\n",
       "      <th>gene-query-description</th>\n",
       "      <th>gene-target-description</th>\n",
       "      <th>interaction-type</th>\n",
       "      <th>paper-source</th>\n",
       "    </tr>\n",
       "  </thead>\n",
       "  <tbody>\n",
       "    <tr>\n",
       "      <th>2846</th>\n",
       "      <td>YBR200W</td>\n",
       "      <td>YER155C</td>\n",
       "      <td>BEM1</td>\n",
       "      <td>BEM2</td>\n",
       "      <td>SRO1|phosphatidylinositol-3-phosphate-binding ...</td>\n",
       "      <td>IPL2|SUP9|TSL1|L000000168</td>\n",
       "      <td>Synthetic Lethality</td>\n",
       "      <td>Peterson J (1994)</td>\n",
       "    </tr>\n",
       "    <tr>\n",
       "      <th>2847</th>\n",
       "      <td>YBR200W</td>\n",
       "      <td>YAL041W</td>\n",
       "      <td>BEM1</td>\n",
       "      <td>CDC24</td>\n",
       "      <td>SRO1|phosphatidylinositol-3-phosphate-binding ...</td>\n",
       "      <td>CLS4|Rho family guanine nucleotide exchange fa...</td>\n",
       "      <td>Synthetic Lethality</td>\n",
       "      <td>Peterson J (1994)</td>\n",
       "    </tr>\n",
       "    <tr>\n",
       "      <th>5004</th>\n",
       "      <td>YBR200W</td>\n",
       "      <td>YOR188W</td>\n",
       "      <td>BEM1</td>\n",
       "      <td>MSB1</td>\n",
       "      <td>SRO1|phosphatidylinositol-3-phosphate-binding ...</td>\n",
       "      <td>L000001184</td>\n",
       "      <td>Synthetic Lethality</td>\n",
       "      <td>Bender A (1991)</td>\n",
       "    </tr>\n",
       "    <tr>\n",
       "      <th>13777</th>\n",
       "      <td>YBR200W</td>\n",
       "      <td>YGR229C</td>\n",
       "      <td>BEM1</td>\n",
       "      <td>SMI1</td>\n",
       "      <td>SRO1|phosphatidylinositol-3-phosphate-binding ...</td>\n",
       "      <td>KNR4|L000000909</td>\n",
       "      <td>Synthetic Lethality</td>\n",
       "      <td>Gorelik M (2011)</td>\n",
       "    </tr>\n",
       "    <tr>\n",
       "      <th>13778</th>\n",
       "      <td>YBR200W</td>\n",
       "      <td>YNL271C</td>\n",
       "      <td>BEM1</td>\n",
       "      <td>BNI1</td>\n",
       "      <td>SRO1|phosphatidylinositol-3-phosphate-binding ...</td>\n",
       "      <td>PPF3|SHE5|formin BNI1|L000000190</td>\n",
       "      <td>Synthetic Lethality</td>\n",
       "      <td>Gorelik M (2011)</td>\n",
       "    </tr>\n",
       "    <tr>\n",
       "      <th>13779</th>\n",
       "      <td>YBR200W</td>\n",
       "      <td>YER155C</td>\n",
       "      <td>BEM1</td>\n",
       "      <td>BEM2</td>\n",
       "      <td>SRO1|phosphatidylinositol-3-phosphate-binding ...</td>\n",
       "      <td>IPL2|SUP9|TSL1|L000000168</td>\n",
       "      <td>Synthetic Lethality</td>\n",
       "      <td>Gorelik M (2011)</td>\n",
       "    </tr>\n",
       "    <tr>\n",
       "      <th>14385</th>\n",
       "      <td>YBR200W</td>\n",
       "      <td>YHR206W</td>\n",
       "      <td>BEM1</td>\n",
       "      <td>SKN7</td>\n",
       "      <td>SRO1|phosphatidylinositol-3-phosphate-binding ...</td>\n",
       "      <td>BRY1|POS9|kinase-regulated stress-responsive t...</td>\n",
       "      <td>Dosage Lethality</td>\n",
       "      <td>Bouquin N (1999)</td>\n",
       "    </tr>\n",
       "  </tbody>\n",
       "</table>\n",
       "</div>"
      ],
      "text/plain": [
       "      gene-query gene-target gene-query-name gene-target-name  \\\n",
       "2846     YBR200W     YER155C            BEM1             BEM2   \n",
       "2847     YBR200W     YAL041W            BEM1            CDC24   \n",
       "5004     YBR200W     YOR188W            BEM1             MSB1   \n",
       "13777    YBR200W     YGR229C            BEM1             SMI1   \n",
       "13778    YBR200W     YNL271C            BEM1             BNI1   \n",
       "13779    YBR200W     YER155C            BEM1             BEM2   \n",
       "14385    YBR200W     YHR206W            BEM1             SKN7   \n",
       "\n",
       "                                  gene-query-description  \\\n",
       "2846   SRO1|phosphatidylinositol-3-phosphate-binding ...   \n",
       "2847   SRO1|phosphatidylinositol-3-phosphate-binding ...   \n",
       "5004   SRO1|phosphatidylinositol-3-phosphate-binding ...   \n",
       "13777  SRO1|phosphatidylinositol-3-phosphate-binding ...   \n",
       "13778  SRO1|phosphatidylinositol-3-phosphate-binding ...   \n",
       "13779  SRO1|phosphatidylinositol-3-phosphate-binding ...   \n",
       "14385  SRO1|phosphatidylinositol-3-phosphate-binding ...   \n",
       "\n",
       "                                 gene-target-description     interaction-type  \\\n",
       "2846                           IPL2|SUP9|TSL1|L000000168  Synthetic Lethality   \n",
       "2847   CLS4|Rho family guanine nucleotide exchange fa...  Synthetic Lethality   \n",
       "5004                                          L000001184  Synthetic Lethality   \n",
       "13777                                    KNR4|L000000909  Synthetic Lethality   \n",
       "13778                   PPF3|SHE5|formin BNI1|L000000190  Synthetic Lethality   \n",
       "13779                          IPL2|SUP9|TSL1|L000000168  Synthetic Lethality   \n",
       "14385  BRY1|POS9|kinase-regulated stress-responsive t...     Dosage Lethality   \n",
       "\n",
       "            paper-source  \n",
       "2846   Peterson J (1994)  \n",
       "2847   Peterson J (1994)  \n",
       "5004     Bender A (1991)  \n",
       "13777   Gorelik M (2011)  \n",
       "13778   Gorelik M (2011)  \n",
       "13779   Gorelik M (2011)  \n",
       "14385   Bouquin N (1999)  "
      ]
     },
     "execution_count": 36,
     "metadata": {},
     "output_type": "execute_result"
    }
   ],
   "source": [
    "data_sl[data_sl['gene-query-name']=='BEM1']"
   ]
  },
  {
   "cell_type": "code",
   "execution_count": null,
   "metadata": {},
   "outputs": [],
   "source": []
  }
 ],
 "metadata": {
  "jupytext": {
   "text_representation": {
    "extension": ".md",
    "format_name": "myst"
   }
  },
  "kernelspec": {
   "display_name": "Python 3",
   "language": "python",
   "name": "python3"
  },
  "language_info": {
   "codemirror_mode": {
    "name": "ipython",
    "version": 3
   },
   "file_extension": ".py",
   "mimetype": "text/x-python",
   "name": "python",
   "nbconvert_exporter": "python",
   "pygments_lexer": "ipython3",
   "version": "3.7.6"
  },
  "source_map": [
   10,
   18,
   29,
   36,
   57,
   66,
   98,
   101,
   105,
   128,
   131,
   135,
   139,
   145,
   178,
   184,
   188,
   206,
   210,
   218,
   222,
   225,
   229,
   234,
   238,
   244,
   248,
   253,
   257,
   267,
   269,
   273,
   306,
   311,
   313,
   317,
   328,
   330,
   334,
   344,
   348,
   358,
   360,
   364,
   381,
   388,
   394,
   400,
   407,
   412,
   419,
   424,
   428,
   432
  ]
 },
 "nbformat": 4,
 "nbformat_minor": 4
}