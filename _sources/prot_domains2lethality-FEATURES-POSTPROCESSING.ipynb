{
 "cells": [
  {
   "cell_type": "markdown",
   "metadata": {},
   "source": [
    "# Feature postprocessing from paper.\n",
    "- Title:  \"Predicting yeast synthetic lethal genetic interactions using protein domains\"\n",
    "- Authors: Bo Li, Feng Luo,School of Computing,Clemson University,Clemson, SC, USA\n",
    "- e-mail: bol, luofeng@clemson.edu\n",
    "- year:2009"
   ]
  },
  {
   "cell_type": "code",
   "execution_count": 1,
   "metadata": {
    "execution": {
     "iopub.execute_input": "2020-07-22T18:06:29.061470Z",
     "iopub.status.busy": "2020-07-22T18:06:29.060342Z",
     "iopub.status.idle": "2020-07-22T18:06:29.682689Z",
     "shell.execute_reply": "2020-07-22T18:06:29.682082Z"
    }
   },
   "outputs": [],
   "source": [
    "import pandas as pd\n",
    "import numpy as np\n",
    "import matplotlib.pyplot as plt\n",
    "from collections import defaultdict \n",
    "import seaborn as sns\n",
    "import matplotlib.cm as cm\n",
    "import scipy as scipy\n",
    "import random"
   ]
  },
  {
   "cell_type": "markdown",
   "metadata": {
    "jupyter": {
     "source_hidden": true
    }
   },
   "source": [
    "### Importing datasets \n",
    "\n",
    "#### Link to the github repo where the datasets to be downloaded:\n",
    "[DOWNLOAD THE DATASETS HERE](https://github.com/leilaicruz/machine-learning-for-yeast/tree/dev_Leila/datasets-for-learning)"
   ]
  },
  {
   "cell_type": "code",
   "execution_count": 2,
   "metadata": {
    "execution": {
     "iopub.execute_input": "2020-07-22T18:06:29.689091Z",
     "iopub.status.busy": "2020-07-22T18:06:29.688053Z",
     "iopub.status.idle": "2020-07-22T18:06:36.093171Z",
     "shell.execute_reply": "2020-07-22T18:06:36.092716Z"
    }
   },
   "outputs": [],
   "source": [
    "import os\n",
    "script_dir = os.path.dirname('__file__') #<-- absolute dir the script is in\n",
    "rel_path_SL = \"datasets/data-synthetic-lethals.xlsx\"\n",
    "rel_path_nSL=\"datasets/data-positive-genetic.xlsx\"\n",
    "rel_path_domains=\"datasets/proteins-domains-from-Pfam.xlsx\"\n",
    "\n",
    "abs_file_path_SL = os.path.join(script_dir, rel_path_SL)\n",
    "abs_file_path_nSL = os.path.join(script_dir, rel_path_nSL)\n",
    "abs_file_path_domains = os.path.join(script_dir, rel_path_domains)\n",
    "\n",
    "# os.chdir('mini_book/docs/') #<-- for binder os.chdir('../')\n",
    "# os.chdir('../')\n",
    "my_path_sl= abs_file_path_SL\n",
    "my_path_non_sl=abs_file_path_nSL\n",
    "my_path_domains=abs_file_path_domains\n",
    "\n",
    "data_sl=pd.read_excel(my_path_sl,header=0)\n",
    "data_domains=pd.read_excel(my_path_domains,header=0,index_col='Unnamed: 0')\n",
    "data_domains=data_domains.dropna()\n",
    "data_nonsl=pd.read_excel(my_path_non_sl,header=0)"
   ]
  },
  {
   "cell_type": "markdown",
   "metadata": {},
   "source": [
    "## Building the feature matrix\n",
    "One matrix for true SL where each row is one pair of SL. Every raw will be a vector of 0,1 or 2 depending on the comparison with the domain list. For row i the jth element = 0 if the jth element of the domain list is not in neither protein A and B, 1, if it is in one of them and 2 if it is in both of them .\n",
    "\n",
    "### Building the list of proteins domains id per protein pair separately :\n",
    "- List of protein A: Search for the Sl/nSL database the query gene name and look in the protein domain database which protein domains id has each of those queries.\n",
    "- List of protein B: Search for the Sl/nSL database the target gene name of the previous query and look in the protein domain database which protein domains id has each of those target genes."
   ]
  },
  {
   "cell_type": "code",
   "execution_count": 3,
   "metadata": {
    "execution": {
     "iopub.execute_input": "2020-07-22T18:06:36.106279Z",
     "iopub.status.busy": "2020-07-22T18:06:36.103826Z",
     "iopub.status.idle": "2020-07-22T18:06:37.840154Z",
     "shell.execute_reply": "2020-07-22T18:06:37.839355Z"
    }
   },
   "outputs": [],
   "source": [
    "# Selecting the meaningful columns in the respective dataset\n",
    "domain_id_list=data_domains['domain-name']\n",
    "query_gene=data_sl['gene-query-name']\n",
    "target_gene=data_sl['gene-target-name']\n",
    "query_gene_nonlethal=data_nonsl['gene-query-name']\n",
    "target_gene_nonlethal=data_nonsl['gene-target-name']\n",
    "\n",
    "\n",
    "\n",
    "# Initialising the arrays\n",
    "protein_a_list=[]\n",
    "protein_b_list=[]\n",
    "protein_a_list_non=[]\n",
    "protein_b_list_non=[]\n",
    "\n",
    "population = np.arange(0,len(data_sl))\n",
    "\n",
    "# For loop for 10000 pairs sampled randomly from the SL/nSl pair list , and creating a big array of proteind domains id per protein pair\n",
    "\n",
    "for m in random.sample(list(population), 500):\n",
    "    protein_a=data_domains[data_domains['name']==query_gene[m]]\n",
    "    protein_b=data_domains[data_domains['name']==target_gene[m]]\n",
    "    protein_a_list.append(protein_a['domain-name'].tolist())\n",
    "    protein_b_list.append(protein_b['domain-name'].tolist())\n",
    "\n",
    "    protein_a_non=data_domains[data_domains['name']==query_gene_nonlethal[m]]\n",
    "    protein_b_non=data_domains[data_domains['name']==target_gene_nonlethal[m]]\n",
    "    protein_a_list_non.append(protein_a_non['domain-name'].tolist())\n",
    "    protein_b_list_non.append(protein_b_non['domain-name'].tolist())"
   ]
  },
  {
   "cell_type": "code",
   "execution_count": 4,
   "metadata": {
    "execution": {
     "iopub.execute_input": "2020-07-22T18:06:37.845726Z",
     "iopub.status.busy": "2020-07-22T18:06:37.845272Z",
     "iopub.status.idle": "2020-07-22T18:06:37.848703Z",
     "shell.execute_reply": "2020-07-22T18:06:37.849035Z"
    }
   },
   "outputs": [
    {
     "name": "stdout",
     "output_type": "stream",
     "text": [
      "We are going to analyze 500 protein pairs, out of 17871 SL protein pairs\n",
      "We are going to analyze 500 protein pairs, out of 43340 positive protein pairs\n"
     ]
    }
   ],
   "source": [
    "print('We are going to analyze',len((protein_a_list)) ,'protein pairs, out of',len(data_sl),'SL protein pairs')\n",
    "print('We are going to analyze',len((protein_a_list_non)) ,'protein pairs, out of',len(data_nonsl),'positive protein pairs')"
   ]
  },
  {
   "cell_type": "markdown",
   "metadata": {},
   "source": [
    "### Postprocessing #1:  Remove protein pairs from study if either protein in the pair does not contain any domain"
   ]
  },
  {
   "cell_type": "code",
   "execution_count": 5,
   "metadata": {
    "execution": {
     "iopub.execute_input": "2020-07-22T18:06:37.857522Z",
     "iopub.status.busy": "2020-07-22T18:06:37.857075Z",
     "iopub.status.idle": "2020-07-22T18:06:37.859990Z",
     "shell.execute_reply": "2020-07-22T18:06:37.859613Z"
    }
   },
   "outputs": [],
   "source": [
    "def remove_empty_domains(protein_list_search,protein_list_pair):\n",
    "    index=[]\n",
    "    for i in np.arange(0,len(protein_list_search)):\n",
    "        if protein_list_search[i]==[] or protein_list_pair[i]==[]:\n",
    "            index.append(i) ## index of empty values for the protein_a_list meaning they dont have any annotated domain\n",
    "\n",
    "    y=[x for x in np.arange(0,len(protein_list_search)) if x not in index] # a list with non empty values from protein_a list\n",
    "\n",
    "    protein_list_search_new=[]\n",
    "    protein_list_pair_new=[]\n",
    "    for i in y:\n",
    "        protein_list_search_new.append(protein_list_search[i])\n",
    "        protein_list_pair_new.append(protein_list_pair[i])\n",
    "    return protein_list_search_new,protein_list_pair_new\n",
    "\n",
    "## evaluating the function\n",
    "\n",
    "protein_a_list_new,protein_b_list_new=remove_empty_domains(protein_a_list,protein_b_list)\n",
    "\n",
    "protein_a_list_non_new,protein_b_list_non_new=remove_empty_domains(protein_a_list_non,protein_b_list_non)"
   ]
  },
  {
   "cell_type": "code",
   "execution_count": 6,
   "metadata": {
    "execution": {
     "iopub.execute_input": "2020-07-22T18:06:37.864723Z",
     "iopub.status.busy": "2020-07-22T18:06:37.864270Z",
     "iopub.status.idle": "2020-07-22T18:06:37.866411Z",
     "shell.execute_reply": "2020-07-22T18:06:37.866773Z"
    }
   },
   "outputs": [
    {
     "name": "stdout",
     "output_type": "stream",
     "text": [
      "The empty domain in the SL were: 71 out of 500 domains\n",
      "The empty domain in the nSL were: 105 out of 500 domains\n"
     ]
    }
   ],
   "source": [
    "print('The empty domain in the SL were:', len(protein_a_list)-len(protein_a_list_new), 'out of', len(protein_a_list),'domains')\n",
    "print('The empty domain in the nSL were:', len(protein_a_list_non)-len(protein_a_list_non_new), 'out of', len(protein_a_list_non),'domains')"
   ]
  },
  {
   "cell_type": "markdown",
   "metadata": {},
   "source": [
    "### Feature engineering: Select from each ordered indexes of domain id list which of them appear once, in both or in any of the domains of each protein pair"
   ]
  },
  {
   "cell_type": "markdown",
   "metadata": {},
   "source": [
    "#### Define function `get_indexes`"
   ]
  },
  {
   "cell_type": "code",
   "execution_count": 7,
   "metadata": {
    "execution": {
     "iopub.execute_input": "2020-07-22T18:06:37.872572Z",
     "iopub.status.busy": "2020-07-22T18:06:37.872125Z",
     "iopub.status.idle": "2020-07-22T18:06:37.874272Z",
     "shell.execute_reply": "2020-07-22T18:06:37.874647Z"
    }
   },
   "outputs": [
    {
     "data": {
      "text/plain": [
       "[1, 2]"
      ]
     },
     "execution_count": 7,
     "metadata": {},
     "output_type": "execute_result"
    }
   ],
   "source": [
    "get_indexes = lambda x, xs: [i for (y, i) in zip(xs, range(len(xs))) if x == y] # a function that give the index of whether a value appear in array or not\n",
    "a=[1,2,2,4,5,6,7,8,9,10]\n",
    "get_indexes(2,a)"
   ]
  },
  {
   "cell_type": "code",
   "execution_count": 8,
   "metadata": {
    "execution": {
     "iopub.execute_input": "2020-07-22T18:06:37.882399Z",
     "iopub.status.busy": "2020-07-22T18:06:37.881620Z",
     "iopub.status.idle": "2020-07-22T18:06:37.883257Z",
     "shell.execute_reply": "2020-07-22T18:06:37.883587Z"
    }
   },
   "outputs": [],
   "source": [
    "def feature_building(protein_a_list_new,protein_b_list_new):\n",
    "    x = np.unique(domain_id_list)\n",
    "    ## To avoid taking repeated domains from one protein of the pairs , lets reduced the domains of each protein from the pairs to their unique members\n",
    "    protein_a_list_unique=[]\n",
    "    protein_b_list_unique=[]\n",
    "    for i in np.arange(0,len(protein_a_list_new)):\n",
    "        protein_a_list_unique.append(np.unique(protein_a_list_new[i]))\n",
    "        protein_b_list_unique.append(np.unique(protein_b_list_new[i]))\n",
    "        \n",
    "    protein_feat_true=np.zeros(shape=(len(x),len(protein_a_list_unique)))\n",
    "    pair_a_b_array=[]\n",
    "    for i in np.arange(0,len(protein_a_list_unique)):\n",
    "        index_a=[]\n",
    "        \n",
    "        pair=[protein_a_list_unique[i],protein_b_list_unique[i]]\n",
    "        pair_a_b=np.concatenate(pair).ravel()\n",
    "        pair_a_b_array.append(pair_a_b)\n",
    "\n",
    "    j=0\n",
    "    for i in pair_a_b_array:  \n",
    "        array,index,counts=np.unique(i,return_index=True,return_counts=True)\n",
    "        \n",
    "        for k,m in zip(counts,array):\n",
    "            if k ==2:\n",
    "                protein_feat_true[get_indexes(m,x),j]=2\n",
    "                \n",
    "            if k==1:\n",
    "                protein_feat_true[get_indexes(m,x),j]=1\n",
    "        j=j+1\n",
    "    return protein_feat_true"
   ]
  },
  {
   "cell_type": "code",
   "execution_count": 9,
   "metadata": {
    "execution": {
     "iopub.execute_input": "2020-07-22T18:06:37.897352Z",
     "iopub.status.busy": "2020-07-22T18:06:37.895604Z",
     "iopub.status.idle": "2020-07-22T18:06:38.419146Z",
     "shell.execute_reply": "2020-07-22T18:06:38.418679Z"
    }
   },
   "outputs": [],
   "source": [
    "protein_feat_true=feature_building(protein_b_list_new=protein_b_list_new,protein_a_list_new=protein_a_list_new)\n",
    "protein_feat_true_pd=pd.DataFrame(protein_feat_true.T)\n",
    "\n",
    "protein_feat_non_true=feature_building(protein_b_list_new=protein_b_list_non_new,protein_a_list_new=protein_a_list_non_new)\n",
    "protein_feat_non_true_pd=pd.DataFrame(protein_feat_non_true.T)"
   ]
  },
  {
   "cell_type": "markdown",
   "metadata": {},
   "source": [
    "### How many ones and twos are in each dataset"
   ]
  },
  {
   "cell_type": "code",
   "execution_count": 10,
   "metadata": {
    "execution": {
     "iopub.execute_input": "2020-07-22T18:06:38.425476Z",
     "iopub.status.busy": "2020-07-22T18:06:38.424924Z",
     "iopub.status.idle": "2020-07-22T18:06:38.504908Z",
     "shell.execute_reply": "2020-07-22T18:06:38.505299Z"
    }
   },
   "outputs": [
    {
     "name": "stdout",
     "output_type": "stream",
     "text": [
      "fraction of twos in the SL array is 1.6182164942495523e-05\n",
      "fraction of ones in the SL array is 0.0010094588606985302\n",
      "fraction of twos in the PI array is 8.369076263207449e-06\n",
      "fraction of ones in the PI array is 0.000885448268647348\n"
     ]
    }
   ],
   "source": [
    "index_2_true=protein_feat_true_pd.where(protein_feat_true_pd==2)\n",
    "index_2_true_count=index_2_true.count(axis=1).sum()\n",
    "\n",
    "index_1_true=protein_feat_true_pd.where(protein_feat_true_pd==1)\n",
    "index_1_true_count=index_1_true.count(axis=1).sum()\n",
    "\n",
    "index_2_nontrue=protein_feat_non_true_pd.where(protein_feat_non_true_pd==2)\n",
    "index_2_nontrue_count=index_2_nontrue.count(axis=1).sum()\n",
    "\n",
    "index_1_nontrue=protein_feat_non_true_pd.where(protein_feat_non_true_pd==1)\n",
    "index_1_nontrue_count=index_1_nontrue.count(axis=1).sum()\n",
    "\n",
    "\n",
    "print('fraction of twos in the SL array is',index_2_true_count/(len(protein_feat_true_pd.index)*len(protein_feat_true_pd.columns)))\n",
    "print('fraction of ones in the SL array is',index_1_true_count/(len(protein_feat_true_pd.index)*len(protein_feat_true_pd.columns)))\n",
    "print('fraction of twos in the PI array is',index_2_nontrue_count/(len(protein_feat_non_true_pd.index)*len(protein_feat_non_true_pd.columns)))\n",
    "print('fraction of ones in the PI array is',index_1_nontrue_count/(len(protein_feat_non_true_pd.index)*len(protein_feat_non_true_pd.columns)))"
   ]
  },
  {
   "cell_type": "markdown",
   "metadata": {},
   "source": [
    "#### Bar plot to visualize these numbers"
   ]
  },
  {
   "cell_type": "code",
   "execution_count": 11,
   "metadata": {
    "execution": {
     "iopub.execute_input": "2020-07-22T18:06:38.521227Z",
     "iopub.status.busy": "2020-07-22T18:06:38.514867Z",
     "iopub.status.idle": "2020-07-22T18:06:38.883733Z",
     "shell.execute_reply": "2020-07-22T18:06:38.883338Z"
    }
   },
   "outputs": [
    {
     "data": {
      "text/plain": [
       "([0, 1, 2, 3],\n",
       " [Text(0, 0, ''), Text(0, 0, ''), Text(0, 0, ''), Text(0, 0, '')])"
      ]
     },
     "execution_count": 11,
     "metadata": {},
     "output_type": "execute_result"
    },
    {
     "data": {
      "image/png": "[encoded data removed]",
      "text/plain": [
       "<Figure size 432x288 with 1 Axes>"
      ]
     },
     "metadata": {
      "filenames": {
       "image/png": "/home/runner/work/jupyter-book/jupyter-book/mini_book/docs/_build/jupyter_execute/prot_domains2lethality-FEATURES-POSTPROCESSING_18_1.png"
      },
      "needs_background": "light"
     },
     "output_type": "display_data"
    }
   ],
   "source": [
    "plt.bar(['fraction of 2 in the nSL','fraction of 1 in the nSL'],[index_2_nontrue_count/(len(protein_feat_non_true_pd.index)*len(protein_feat_non_true_pd.columns)),index_1_nontrue_count/(len(protein_feat_non_true_pd.index)*len(protein_feat_non_true_pd.columns))],alpha=0.6,color=['blue','lightblue']), \n",
    "\n",
    "plt.bar(['fraction of 2 in SL ','fraction of 1 in SL'],[index_2_true_count/(len(protein_feat_true_pd.index)*len(protein_feat_true_pd.columns)),index_1_true_count/(len(protein_feat_true_pd.index)*len(protein_feat_true_pd.columns))],alpha=0.6,color=['coral','lightcoral'])\n",
    "\n",
    "plt.ylabel('Fraction from the population')\n",
    "plt.yscale('log')\n",
    "plt.xticks(rotation=40)"
   ]
  },
  {
   "cell_type": "markdown",
   "metadata": {},
   "source": [
    "#### Adding the labels(response variables) to each dataset"
   ]
  },
  {
   "cell_type": "code",
   "execution_count": 12,
   "metadata": {
    "execution": {
     "iopub.execute_input": "2020-07-22T18:06:38.888724Z",
     "iopub.status.busy": "2020-07-22T18:06:38.887727Z",
     "iopub.status.idle": "2020-07-22T18:06:38.890754Z",
     "shell.execute_reply": "2020-07-22T18:06:38.890375Z"
    }
   },
   "outputs": [],
   "source": [
    "protein_feat_true_pd['lethality']=np.ones(shape=(len(protein_a_list_new)))\n",
    "protein_feat_non_true_pd['lethality']=np.zeros(shape=(len(protein_a_list_non_new)))"
   ]
  },
  {
   "cell_type": "markdown",
   "metadata": {},
   "source": [
    "#### Joining both datasets"
   ]
  },
  {
   "cell_type": "code",
   "execution_count": 13,
   "metadata": {
    "execution": {
     "iopub.execute_input": "2020-07-22T18:06:38.894675Z",
     "iopub.status.busy": "2020-07-22T18:06:38.894216Z",
     "iopub.status.idle": "2020-07-22T18:06:38.926019Z",
     "shell.execute_reply": "2020-07-22T18:06:38.926483Z"
    }
   },
   "outputs": [
    {
     "name": "stdout",
     "output_type": "stream",
     "text": [
      "The number of features are: 3026\n",
      "The number of samples are: 824\n"
     ]
    }
   ],
   "source": [
    "feature_post=pd.concat([protein_feat_true_pd,protein_feat_non_true_pd],axis=0)\n",
    "feature_post=feature_post.set_index(np.arange(0,len(protein_a_list_new)+len(protein_a_list_non_new)))\n",
    "print('The number of features are:',feature_post.shape[1])\n",
    "print('The number of samples are:',feature_post.shape[0])"
   ]
  },
  {
   "cell_type": "markdown",
   "metadata": {},
   "source": [
    "### Postprocessing and exploration of the feature matrix of both datasets"
   ]
  },
  {
   "cell_type": "code",
   "execution_count": 14,
   "metadata": {
    "execution": {
     "iopub.execute_input": "2020-07-22T18:06:38.939586Z",
     "iopub.status.busy": "2020-07-22T18:06:38.931813Z",
     "iopub.status.idle": "2020-07-22T18:06:42.242815Z",
     "shell.execute_reply": "2020-07-22T18:06:42.242304Z"
    }
   },
   "outputs": [],
   "source": [
    "mean=feature_post.T.describe().loc['mean']\n",
    "std=feature_post.T.describe().loc['std']\n",
    "lethality=feature_post['lethality']\n",
    "\n",
    "corr_keys=pd.concat([mean,std,lethality],axis=1)"
   ]
  },
  {
   "cell_type": "markdown",
   "metadata": {},
   "source": [
    "### Viz of the stats"
   ]
  },
  {
   "cell_type": "code",
   "execution_count": 15,
   "metadata": {
    "execution": {
     "iopub.execute_input": "2020-07-22T18:06:42.273897Z",
     "iopub.status.busy": "2020-07-22T18:06:42.267065Z",
     "iopub.status.idle": "2020-07-22T18:06:43.367441Z",
     "shell.execute_reply": "2020-07-22T18:06:43.367011Z"
    }
   },
   "outputs": [
    {
     "data": {
      "text/plain": [
       "Text(0.5, 1.08, 'Pairplot to see data dependencies with Lethality')"
      ]
     },
     "execution_count": 15,
     "metadata": {},
     "output_type": "execute_result"
    },
    {
     "data": {
      "image/png": "[encoded data removed]",
      "text/plain": [
       "<Figure size 412x360 with 6 Axes>"
      ]
     },
     "metadata": {
      "filenames": {
       "image/png": "/home/runner/work/jupyter-book/jupyter-book/mini_book/docs/_build/jupyter_execute/prot_domains2lethality-FEATURES-POSTPROCESSING_26_1.png"
      },
      "needs_background": "light"
     },
     "output_type": "display_data"
    }
   ],
   "source": [
    "pair=sns.pairplot(corr_keys,hue='lethality',diag_kind='kde',kind='reg',palette='colorblind')\n",
    "pair.fig.suptitle('Pairplot to see data dependencies with Lethality',y=1.08)"
   ]
  },
  {
   "cell_type": "code",
   "execution_count": 16,
   "metadata": {
    "execution": {
     "iopub.execute_input": "2020-07-22T18:06:43.376162Z",
     "iopub.status.busy": "2020-07-22T18:06:43.375706Z",
     "iopub.status.idle": "2020-07-22T18:06:43.378526Z",
     "shell.execute_reply": "2020-07-22T18:06:43.378874Z"
    }
   },
   "outputs": [],
   "source": [
    "X, y = feature_post.drop(columns=[\"lethality\"]), feature_post[\"lethality\"]"
   ]
  },
  {
   "cell_type": "code",
   "execution_count": 17,
   "metadata": {
    "execution": {
     "iopub.execute_input": "2020-07-22T18:06:43.383024Z",
     "iopub.status.busy": "2020-07-22T18:06:43.382200Z",
     "iopub.status.idle": "2020-07-22T18:06:43.504812Z",
     "shell.execute_reply": "2020-07-22T18:06:43.504355Z"
    }
   },
   "outputs": [],
   "source": [
    "from sklearn.preprocessing import StandardScaler\n",
    "scaler = StandardScaler()\n",
    "x_sl=protein_feat_true_pd.drop(columns=['lethality'])\n",
    "x_nsl=protein_feat_non_true_pd.drop(columns=['lethality'])\n",
    "\n",
    "X_sl_scaled = scaler.fit_transform(x_sl)\n",
    "X_nsl_scaled = scaler.fit_transform(x_nsl)"
   ]
  },
  {
   "cell_type": "code",
   "execution_count": 18,
   "metadata": {
    "execution": {
     "iopub.execute_input": "2020-07-22T18:06:43.508348Z",
     "iopub.status.busy": "2020-07-22T18:06:43.507913Z",
     "iopub.status.idle": "2020-07-22T18:06:43.512165Z",
     "shell.execute_reply": "2020-07-22T18:06:43.511783Z"
    }
   },
   "outputs": [
    {
     "data": {
      "text/plain": [
       "(429, 3025)"
      ]
     },
     "execution_count": 18,
     "metadata": {},
     "output_type": "execute_result"
    }
   ],
   "source": [
    "np.shape(X_sl_scaled)"
   ]
  },
  {
   "cell_type": "markdown",
   "metadata": {},
   "source": [
    "## How redundant are each of the protein domains?"
   ]
  },
  {
   "cell_type": "code",
   "execution_count": 19,
   "metadata": {
    "execution": {
     "iopub.execute_input": "2020-07-22T18:06:43.518309Z",
     "iopub.status.busy": "2020-07-22T18:06:43.517863Z",
     "iopub.status.idle": "2020-07-22T18:06:43.521056Z",
     "shell.execute_reply": "2020-07-22T18:06:43.520458Z"
    }
   },
   "outputs": [],
   "source": [
    "def PCA_component_contribution(scaled_matrix,original_data):\n",
    "    from sklearn.decomposition import PCA\n",
    "\n",
    "    model = PCA(0.95).fit(scaled_matrix)\n",
    "    ## apply dimensionality reduction to X_train\n",
    "    output_pca = model.transform(scaled_matrix)\n",
    "    \n",
    "    total=sum(model.explained_variance_)\n",
    "\n",
    "\n",
    "   \n",
    "    # number of components , that it will be the number of main axes times the number of original components \n",
    "    n_pcs= model.components_.shape[0] # the amount of non redundant protein domains \n",
    "\n",
    "    # get the index of the most important feature on EACH component\n",
    "    # LIST COMPREHENSION HERE\n",
    "    most_important = [np.abs(model.components_[i]).argmax() for i in range(n_pcs)]\n",
    "\n",
    "    initial_feature_names = original_data.columns\n",
    "    # get the names\n",
    "    most_important_names = [initial_feature_names[most_important[i]] for i in range(n_pcs)]\n",
    "    \n",
    "\n",
    "    # LIST COMPREHENSION HERE AGAIN\n",
    "    dic = {'PC{}'.format(i): most_important_names[i] for i in range(n_pcs)}\n",
    "\n",
    "    # build the dataframe\n",
    "    df = pd.DataFrame(dic.items(),columns=['pca-component','domain-number'])\n",
    "\n",
    "    return df,model.components_"
   ]
  },
  {
   "cell_type": "code",
   "execution_count": 20,
   "metadata": {
    "execution": {
     "iopub.execute_input": "2020-07-22T18:06:43.524339Z",
     "iopub.status.busy": "2020-07-22T18:06:43.523905Z",
     "iopub.status.idle": "2020-07-22T18:06:44.022040Z",
     "shell.execute_reply": "2020-07-22T18:06:44.022456Z"
    }
   },
   "outputs": [],
   "source": [
    "df_sl,components_pca_nsl=PCA_component_contribution(X_nsl_scaled,x_nsl)\n",
    "df_nsl,components_pca_sl=PCA_component_contribution(X_sl_scaled,x_sl)"
   ]
  },
  {
   "cell_type": "code",
   "execution_count": 21,
   "metadata": {
    "execution": {
     "iopub.execute_input": "2020-07-22T18:06:44.027684Z",
     "iopub.status.busy": "2020-07-22T18:06:44.027245Z",
     "iopub.status.idle": "2020-07-22T18:06:44.031134Z",
     "shell.execute_reply": "2020-07-22T18:06:44.031560Z"
    }
   },
   "outputs": [
    {
     "data": {
      "text/html": [
       "<div>\n",
       "<style scoped>\n",
       "    .dataframe tbody tr th:only-of-type {\n",
       "        vertical-align: middle;\n",
       "    }\n",
       "\n",
       "    .dataframe tbody tr th {\n",
       "        vertical-align: top;\n",
       "    }\n",
       "\n",
       "    .dataframe thead th {\n",
       "        text-align: right;\n",
       "    }\n",
       "</style>\n",
       "<table border=\"1\" class=\"dataframe\">\n",
       "  <thead>\n",
       "    <tr style=\"text-align: right;\">\n",
       "      <th></th>\n",
       "      <th>pca-component</th>\n",
       "      <th>domain-number</th>\n",
       "    </tr>\n",
       "  </thead>\n",
       "  <tbody>\n",
       "    <tr>\n",
       "      <th>0</th>\n",
       "      <td>PC0</td>\n",
       "      <td>2</td>\n",
       "    </tr>\n",
       "    <tr>\n",
       "      <th>1</th>\n",
       "      <td>PC1</td>\n",
       "      <td>142</td>\n",
       "    </tr>\n",
       "    <tr>\n",
       "      <th>2</th>\n",
       "      <td>PC2</td>\n",
       "      <td>202</td>\n",
       "    </tr>\n",
       "    <tr>\n",
       "      <th>3</th>\n",
       "      <td>PC3</td>\n",
       "      <td>858</td>\n",
       "    </tr>\n",
       "    <tr>\n",
       "      <th>4</th>\n",
       "      <td>PC4</td>\n",
       "      <td>2117</td>\n",
       "    </tr>\n",
       "  </tbody>\n",
       "</table>\n",
       "</div>"
      ],
      "text/plain": [
       "  pca-component  domain-number\n",
       "0           PC0              2\n",
       "1           PC1            142\n",
       "2           PC2            202\n",
       "3           PC3            858\n",
       "4           PC4           2117"
      ]
     },
     "execution_count": 21,
     "metadata": {},
     "output_type": "execute_result"
    }
   ],
   "source": [
    "df_sl.head()"
   ]
  },
  {
   "cell_type": "markdown",
   "metadata": {},
   "source": [
    "## which are the shared domains between nSL and SL pairs , in the PCA reduced samples"
   ]
  },
  {
   "cell_type": "code",
   "execution_count": 22,
   "metadata": {
    "execution": {
     "iopub.execute_input": "2020-07-22T18:06:44.033426Z",
     "iopub.status.busy": "2020-07-22T18:06:44.032995Z",
     "iopub.status.idle": "2020-07-22T18:06:44.056269Z",
     "shell.execute_reply": "2020-07-22T18:06:44.055891Z"
    }
   },
   "outputs": [
    {
     "data": {
      "text/html": [
       "<div>\n",
       "<style scoped>\n",
       "    .dataframe tbody tr th:only-of-type {\n",
       "        vertical-align: middle;\n",
       "    }\n",
       "\n",
       "    .dataframe tbody tr th {\n",
       "        vertical-align: top;\n",
       "    }\n",
       "\n",
       "    .dataframe thead th {\n",
       "        text-align: right;\n",
       "    }\n",
       "</style>\n",
       "<table border=\"1\" class=\"dataframe\">\n",
       "  <thead>\n",
       "    <tr style=\"text-align: right;\">\n",
       "      <th></th>\n",
       "      <th>pca-component_x</th>\n",
       "      <th>domain-number</th>\n",
       "      <th>pca-component_y</th>\n",
       "      <th>domain-description</th>\n",
       "    </tr>\n",
       "  </thead>\n",
       "  <tbody>\n",
       "    <tr>\n",
       "      <th>0</th>\n",
       "      <td>PC3</td>\n",
       "      <td>858</td>\n",
       "      <td>PC16</td>\n",
       "      <td>F420_oxidored; Pyrroline-5-carboxylate reducta...</td>\n",
       "    </tr>\n",
       "    <tr>\n",
       "      <th>1</th>\n",
       "      <td>PC5</td>\n",
       "      <td>189</td>\n",
       "      <td>PC58</td>\n",
       "      <td>Alg14; Oligosaccharide biosynthesis protein Al...</td>\n",
       "    </tr>\n",
       "    <tr>\n",
       "      <th>2</th>\n",
       "      <td>PC6</td>\n",
       "      <td>875</td>\n",
       "      <td>PC52</td>\n",
       "      <td>FDF; FDF domain</td>\n",
       "    </tr>\n",
       "    <tr>\n",
       "      <th>3</th>\n",
       "      <td>PC7</td>\n",
       "      <td>3</td>\n",
       "      <td>PC47</td>\n",
       "      <td>2-Hacid_dh_C; D-isomer specific 2-hydroxyacid ...</td>\n",
       "    </tr>\n",
       "    <tr>\n",
       "      <th>4</th>\n",
       "      <td>PC24</td>\n",
       "      <td>983</td>\n",
       "      <td>PC38</td>\n",
       "      <td>GHMP_kinases_N; GHMP kinase N-terminal domain</td>\n",
       "    </tr>\n",
       "    <tr>\n",
       "      <th>...</th>\n",
       "      <td>...</td>\n",
       "      <td>...</td>\n",
       "      <td>...</td>\n",
       "      <td>...</td>\n",
       "    </tr>\n",
       "    <tr>\n",
       "      <th>66</th>\n",
       "      <td>PC262</td>\n",
       "      <td>2911</td>\n",
       "      <td>PC132</td>\n",
       "      <td>eIF_4G1; Eukaryotic translation initiation fac...</td>\n",
       "    </tr>\n",
       "    <tr>\n",
       "      <th>67</th>\n",
       "      <td>PC262</td>\n",
       "      <td>2911</td>\n",
       "      <td>PC134</td>\n",
       "      <td>eIF_4G1; Eukaryotic translation initiation fac...</td>\n",
       "    </tr>\n",
       "    <tr>\n",
       "      <th>68</th>\n",
       "      <td>PC267</td>\n",
       "      <td>1097</td>\n",
       "      <td>PC89</td>\n",
       "      <td>HATPase_c_3</td>\n",
       "    </tr>\n",
       "    <tr>\n",
       "      <th>69</th>\n",
       "      <td>PC271</td>\n",
       "      <td>1097</td>\n",
       "      <td>PC89</td>\n",
       "      <td>HATPase_c_3</td>\n",
       "    </tr>\n",
       "    <tr>\n",
       "      <th>70</th>\n",
       "      <td>PC270</td>\n",
       "      <td>221</td>\n",
       "      <td>PC10</td>\n",
       "      <td>Apq12; Nuclear pore assembly and biogenesis pr...</td>\n",
       "    </tr>\n",
       "  </tbody>\n",
       "</table>\n",
       "<p>71 rows × 4 columns</p>\n",
       "</div>"
      ],
      "text/plain": [
       "   pca-component_x  domain-number pca-component_y  \\\n",
       "0              PC3            858            PC16   \n",
       "1              PC5            189            PC58   \n",
       "2              PC6            875            PC52   \n",
       "3              PC7              3            PC47   \n",
       "4             PC24            983            PC38   \n",
       "..             ...            ...             ...   \n",
       "66           PC262           2911           PC132   \n",
       "67           PC262           2911           PC134   \n",
       "68           PC267           1097            PC89   \n",
       "69           PC271           1097            PC89   \n",
       "70           PC270            221            PC10   \n",
       "\n",
       "                                   domain-description  \n",
       "0   F420_oxidored; Pyrroline-5-carboxylate reducta...  \n",
       "1   Alg14; Oligosaccharide biosynthesis protein Al...  \n",
       "2                                     FDF; FDF domain  \n",
       "3   2-Hacid_dh_C; D-isomer specific 2-hydroxyacid ...  \n",
       "4       GHMP_kinases_N; GHMP kinase N-terminal domain  \n",
       "..                                                ...  \n",
       "66  eIF_4G1; Eukaryotic translation initiation fac...  \n",
       "67  eIF_4G1; Eukaryotic translation initiation fac...  \n",
       "68                                        HATPase_c_3  \n",
       "69                                        HATPase_c_3  \n",
       "70  Apq12; Nuclear pore assembly and biogenesis pr...  \n",
       "\n",
       "[71 rows x 4 columns]"
      ]
     },
     "execution_count": 22,
     "metadata": {},
     "output_type": "execute_result"
    }
   ],
   "source": [
    "df_shared_domains=pd.merge(df_sl,df_nsl,how='inner',on='domain-number')\n",
    "domains_name=np.unique(data_domains['domain-name'])\n",
    "domains_description=np.unique(data_domains['domain-descrip'])\n",
    "\n",
    "df_shared_domains['domain-description']=domains_description[df_shared_domains['domain-number']]\n",
    "\n",
    "\n",
    "df_shared_domains"
   ]
  },
  {
   "cell_type": "code",
   "execution_count": 23,
   "metadata": {
    "execution": {
     "iopub.execute_input": "2020-07-22T18:06:44.060159Z",
     "iopub.status.busy": "2020-07-22T18:06:44.059732Z",
     "iopub.status.idle": "2020-07-22T18:06:44.062657Z",
     "shell.execute_reply": "2020-07-22T18:06:44.063092Z"
    }
   },
   "outputs": [
    {
     "name": "stdout",
     "output_type": "stream",
     "text": [
      "The number of shared domains between SL and nSL pairs,after PCA, is =  71 out of 569 so the 12.478031634446397 %\n"
     ]
    }
   ],
   "source": [
    "print('The number of shared domains between SL and nSL pairs,after PCA, is = ',len(df_shared_domains), 'out of', len(df_sl)+len(df_nsl), 'so the',100*len(df_shared_domains)/(len(df_sl)+len(df_nsl)),'%')"
   ]
  },
  {
   "cell_type": "markdown",
   "metadata": {},
   "source": [
    "## Domains exclusive to SL"
   ]
  },
  {
   "cell_type": "code",
   "execution_count": 24,
   "metadata": {
    "execution": {
     "iopub.execute_input": "2020-07-22T18:06:44.064914Z",
     "iopub.status.busy": "2020-07-22T18:06:44.064488Z",
     "iopub.status.idle": "2020-07-22T18:06:44.086766Z",
     "shell.execute_reply": "2020-07-22T18:06:44.087188Z"
    }
   },
   "outputs": [
    {
     "data": {
      "text/html": [
       "<div>\n",
       "<style scoped>\n",
       "    .dataframe tbody tr th:only-of-type {\n",
       "        vertical-align: middle;\n",
       "    }\n",
       "\n",
       "    .dataframe tbody tr th {\n",
       "        vertical-align: top;\n",
       "    }\n",
       "\n",
       "    .dataframe thead th {\n",
       "        text-align: right;\n",
       "    }\n",
       "</style>\n",
       "<table border=\"1\" class=\"dataframe\">\n",
       "  <thead>\n",
       "    <tr style=\"text-align: right;\">\n",
       "      <th></th>\n",
       "      <th>pca-component_x</th>\n",
       "      <th>domain-number</th>\n",
       "      <th>pca-component_y</th>\n",
       "      <th>domain-description</th>\n",
       "    </tr>\n",
       "  </thead>\n",
       "  <tbody>\n",
       "    <tr>\n",
       "      <th>0</th>\n",
       "      <td>PC0</td>\n",
       "      <td>2</td>\n",
       "      <td>NaN</td>\n",
       "      <td>2-Hacid_dh; D-isomer specific 2-hydroxyacid de...</td>\n",
       "    </tr>\n",
       "    <tr>\n",
       "      <th>1</th>\n",
       "      <td>PC1</td>\n",
       "      <td>142</td>\n",
       "      <td>NaN</td>\n",
       "      <td>ATP_synt_H; ATPase, V0 complex, subunit e1/e2</td>\n",
       "    </tr>\n",
       "    <tr>\n",
       "      <th>2</th>\n",
       "      <td>PC2</td>\n",
       "      <td>202</td>\n",
       "      <td>NaN</td>\n",
       "      <td>Aminotran_1_2; Aminotransferase, class I/classII</td>\n",
       "    </tr>\n",
       "    <tr>\n",
       "      <th>4</th>\n",
       "      <td>PC4</td>\n",
       "      <td>2117</td>\n",
       "      <td>NaN</td>\n",
       "      <td>RecQ_Zn_bind; ATP-dependent DNA helicase RecQ,...</td>\n",
       "    </tr>\n",
       "    <tr>\n",
       "      <th>8</th>\n",
       "      <td>PC8</td>\n",
       "      <td>190</td>\n",
       "      <td>NaN</td>\n",
       "      <td>Alg6_Alg8; Glycosyl transferase, ALG6/ALG8</td>\n",
       "    </tr>\n",
       "    <tr>\n",
       "      <th>...</th>\n",
       "      <td>...</td>\n",
       "      <td>...</td>\n",
       "      <td>...</td>\n",
       "      <td>...</td>\n",
       "    </tr>\n",
       "    <tr>\n",
       "      <th>286</th>\n",
       "      <td>PC269</td>\n",
       "      <td>1843</td>\n",
       "      <td>NaN</td>\n",
       "      <td>PWWP; PWWP domain</td>\n",
       "    </tr>\n",
       "    <tr>\n",
       "      <th>289</th>\n",
       "      <td>PC272</td>\n",
       "      <td>1843</td>\n",
       "      <td>NaN</td>\n",
       "      <td>PWWP; PWWP domain</td>\n",
       "    </tr>\n",
       "    <tr>\n",
       "      <th>290</th>\n",
       "      <td>PC273</td>\n",
       "      <td>1977</td>\n",
       "      <td>NaN</td>\n",
       "      <td>RFC1; DNA replication factor RFC1, C-terminal</td>\n",
       "    </tr>\n",
       "    <tr>\n",
       "      <th>291</th>\n",
       "      <td>PC274</td>\n",
       "      <td>1352</td>\n",
       "      <td>NaN</td>\n",
       "      <td>MATalpha_HMGbox; Mating-type protein MAT alpha...</td>\n",
       "    </tr>\n",
       "    <tr>\n",
       "      <th>292</th>\n",
       "      <td>PC275</td>\n",
       "      <td>1708</td>\n",
       "      <td>NaN</td>\n",
       "      <td>PC4; Transcriptional coactivator p15 (PC4)</td>\n",
       "    </tr>\n",
       "  </tbody>\n",
       "</table>\n",
       "<p>222 rows × 4 columns</p>\n",
       "</div>"
      ],
      "text/plain": [
       "    pca-component_x  domain-number pca-component_y  \\\n",
       "0               PC0              2             NaN   \n",
       "1               PC1            142             NaN   \n",
       "2               PC2            202             NaN   \n",
       "4               PC4           2117             NaN   \n",
       "8               PC8            190             NaN   \n",
       "..              ...            ...             ...   \n",
       "286           PC269           1843             NaN   \n",
       "289           PC272           1843             NaN   \n",
       "290           PC273           1977             NaN   \n",
       "291           PC274           1352             NaN   \n",
       "292           PC275           1708             NaN   \n",
       "\n",
       "                                    domain-description  \n",
       "0    2-Hacid_dh; D-isomer specific 2-hydroxyacid de...  \n",
       "1        ATP_synt_H; ATPase, V0 complex, subunit e1/e2  \n",
       "2     Aminotran_1_2; Aminotransferase, class I/classII  \n",
       "4    RecQ_Zn_bind; ATP-dependent DNA helicase RecQ,...  \n",
       "8           Alg6_Alg8; Glycosyl transferase, ALG6/ALG8  \n",
       "..                                                 ...  \n",
       "286                                  PWWP; PWWP domain  \n",
       "289                                  PWWP; PWWP domain  \n",
       "290      RFC1; DNA replication factor RFC1, C-terminal  \n",
       "291  MATalpha_HMGbox; Mating-type protein MAT alpha...  \n",
       "292         PC4; Transcriptional coactivator p15 (PC4)  \n",
       "\n",
       "[222 rows x 4 columns]"
      ]
     },
     "execution_count": 24,
     "metadata": {},
     "output_type": "execute_result"
    }
   ],
   "source": [
    "df_sl_exclusive=pd.merge(df_sl,df_nsl,how='left',on='domain-number')\n",
    "\n",
    "domains_name=np.unique(data_domains['domain-name'])\n",
    "domains_description=np.unique(data_domains['domain-descrip'])\n",
    "\n",
    "df_sl_exclusive['domain-description']=domains_description[df_sl_exclusive['domain-number']]\n",
    "df_sl_exclusive[pd.isnull(df_sl_exclusive['pca-component_y'])]"
   ]
  },
  {
   "cell_type": "code",
   "execution_count": 25,
   "metadata": {
    "execution": {
     "iopub.execute_input": "2020-07-22T18:06:44.088982Z",
     "iopub.status.busy": "2020-07-22T18:06:44.088562Z",
     "iopub.status.idle": "2020-07-22T18:06:44.092664Z",
     "shell.execute_reply": "2020-07-22T18:06:44.093081Z"
    }
   },
   "outputs": [
    {
     "name": "stdout",
     "output_type": "stream",
     "text": [
      "The number of exclusive domains from SL pairs, after PCA, is =  293 out of 569 so the 51.49384885764499 %\n"
     ]
    }
   ],
   "source": [
    "print('The number of exclusive domains from SL pairs, after PCA, is = ',len(df_sl_exclusive), 'out of', len(df_sl)+len(df_nsl), 'so the',100*len(df_sl_exclusive)/(len(df_sl)+len(df_nsl)),'%')"
   ]
  },
  {
   "cell_type": "code",
   "execution_count": 26,
   "metadata": {
    "execution": {
     "iopub.execute_input": "2020-07-22T18:06:44.094904Z",
     "iopub.status.busy": "2020-07-22T18:06:44.094470Z",
     "iopub.status.idle": "2020-07-22T18:06:44.117260Z",
     "shell.execute_reply": "2020-07-22T18:06:44.117680Z"
    }
   },
   "outputs": [
    {
     "data": {
      "text/html": [
       "<div>\n",
       "<style scoped>\n",
       "    .dataframe tbody tr th:only-of-type {\n",
       "        vertical-align: middle;\n",
       "    }\n",
       "\n",
       "    .dataframe tbody tr th {\n",
       "        vertical-align: top;\n",
       "    }\n",
       "\n",
       "    .dataframe thead th {\n",
       "        text-align: right;\n",
       "    }\n",
       "</style>\n",
       "<table border=\"1\" class=\"dataframe\">\n",
       "  <thead>\n",
       "    <tr style=\"text-align: right;\">\n",
       "      <th></th>\n",
       "      <th>pca-component_x</th>\n",
       "      <th>domain-number</th>\n",
       "      <th>pca-component_y</th>\n",
       "      <th>domain-description</th>\n",
       "    </tr>\n",
       "  </thead>\n",
       "  <tbody>\n",
       "    <tr>\n",
       "      <th>71</th>\n",
       "      <td>NaN</td>\n",
       "      <td>1028</td>\n",
       "      <td>PC0</td>\n",
       "      <td>GatB_Yqey; Asn/Gln amidotransferase</td>\n",
       "    </tr>\n",
       "    <tr>\n",
       "      <th>72</th>\n",
       "      <td>NaN</td>\n",
       "      <td>305</td>\n",
       "      <td>PC1</td>\n",
       "      <td>Brr6_like_C_C; Brl1/Brr6 domain</td>\n",
       "    </tr>\n",
       "    <tr>\n",
       "      <th>73</th>\n",
       "      <td>NaN</td>\n",
       "      <td>1252</td>\n",
       "      <td>PC2</td>\n",
       "      <td>JmjN; JmjN domain</td>\n",
       "    </tr>\n",
       "    <tr>\n",
       "      <th>74</th>\n",
       "      <td>NaN</td>\n",
       "      <td>2113</td>\n",
       "      <td>PC3</td>\n",
       "      <td>Rav1p_C; RAVE complex protein Rav1 C-terminal</td>\n",
       "    </tr>\n",
       "    <tr>\n",
       "      <th>75</th>\n",
       "      <td>NaN</td>\n",
       "      <td>303</td>\n",
       "      <td>PC4</td>\n",
       "      <td>Bromo_TP; Bromodomain associated domain</td>\n",
       "    </tr>\n",
       "    <tr>\n",
       "      <th>...</th>\n",
       "      <td>...</td>\n",
       "      <td>...</td>\n",
       "      <td>...</td>\n",
       "      <td>...</td>\n",
       "    </tr>\n",
       "    <tr>\n",
       "      <th>300</th>\n",
       "      <td>NaN</td>\n",
       "      <td>2178</td>\n",
       "      <td>PC283</td>\n",
       "      <td>Ribosomal_L27; Ribosomal protein L27</td>\n",
       "    </tr>\n",
       "    <tr>\n",
       "      <th>301</th>\n",
       "      <td>NaN</td>\n",
       "      <td>1765</td>\n",
       "      <td>PC285</td>\n",
       "      <td>PIG-L; N-acetylglucosaminyl phosphatidylinosit...</td>\n",
       "    </tr>\n",
       "    <tr>\n",
       "      <th>302</th>\n",
       "      <td>NaN</td>\n",
       "      <td>1320</td>\n",
       "      <td>PC286</td>\n",
       "      <td>Leo1; Leo1-like protein</td>\n",
       "    </tr>\n",
       "    <tr>\n",
       "      <th>303</th>\n",
       "      <td>NaN</td>\n",
       "      <td>1271</td>\n",
       "      <td>PC288</td>\n",
       "      <td>Ketoacyl-synt_C; Beta-ketoacyl synthase, C-ter...</td>\n",
       "    </tr>\n",
       "    <tr>\n",
       "      <th>304</th>\n",
       "      <td>NaN</td>\n",
       "      <td>321</td>\n",
       "      <td>PC291</td>\n",
       "      <td>CASP_C; CASP, C-terminal</td>\n",
       "    </tr>\n",
       "  </tbody>\n",
       "</table>\n",
       "<p>234 rows × 4 columns</p>\n",
       "</div>"
      ],
      "text/plain": [
       "    pca-component_x  domain-number pca-component_y  \\\n",
       "71              NaN           1028             PC0   \n",
       "72              NaN            305             PC1   \n",
       "73              NaN           1252             PC2   \n",
       "74              NaN           2113             PC3   \n",
       "75              NaN            303             PC4   \n",
       "..              ...            ...             ...   \n",
       "300             NaN           2178           PC283   \n",
       "301             NaN           1765           PC285   \n",
       "302             NaN           1320           PC286   \n",
       "303             NaN           1271           PC288   \n",
       "304             NaN            321           PC291   \n",
       "\n",
       "                                    domain-description  \n",
       "71                 GatB_Yqey; Asn/Gln amidotransferase  \n",
       "72                     Brr6_like_C_C; Brl1/Brr6 domain  \n",
       "73                                   JmjN; JmjN domain  \n",
       "74       Rav1p_C; RAVE complex protein Rav1 C-terminal  \n",
       "75             Bromo_TP; Bromodomain associated domain  \n",
       "..                                                 ...  \n",
       "300               Ribosomal_L27; Ribosomal protein L27  \n",
       "301  PIG-L; N-acetylglucosaminyl phosphatidylinosit...  \n",
       "302                            Leo1; Leo1-like protein  \n",
       "303  Ketoacyl-synt_C; Beta-ketoacyl synthase, C-ter...  \n",
       "304                           CASP_C; CASP, C-terminal  \n",
       "\n",
       "[234 rows x 4 columns]"
      ]
     },
     "execution_count": 26,
     "metadata": {},
     "output_type": "execute_result"
    }
   ],
   "source": [
    "df_nsl_exclusive=pd.merge(df_sl,df_nsl,how='right',on='domain-number')\n",
    "\n",
    "domains_name=np.unique(data_domains['domain-name'])\n",
    "domains_description=np.unique(data_domains['domain-descrip'])\n",
    "\n",
    "df_nsl_exclusive['domain-description']=domains_description[df_nsl_exclusive['domain-number']]\n",
    "df_nsl_exclusive[pd.isnull(df_nsl_exclusive['pca-component_x'])]"
   ]
  },
  {
   "cell_type": "code",
   "execution_count": 27,
   "metadata": {
    "execution": {
     "iopub.execute_input": "2020-07-22T18:06:44.119517Z",
     "iopub.status.busy": "2020-07-22T18:06:44.119091Z",
     "iopub.status.idle": "2020-07-22T18:06:44.123539Z",
     "shell.execute_reply": "2020-07-22T18:06:44.123872Z"
    }
   },
   "outputs": [
    {
     "name": "stdout",
     "output_type": "stream",
     "text": [
      "The number of exclusive domains from non SL pairs, after PCA, is =  305 out of 569 so the 53.60281195079086 %\n"
     ]
    }
   ],
   "source": [
    "print('The number of exclusive domains from non SL pairs, after PCA, is = ',len(df_nsl_exclusive), 'out of', len(df_sl)+len(df_nsl), 'so the',100*len(df_nsl_exclusive)/(len(df_sl)+len(df_nsl)),'%')"
   ]
  },
  {
   "cell_type": "markdown",
   "metadata": {},
   "source": [
    "## Let see to the domains-number that get repeated after the PCA analysis , and selecting the most explanatory feature by its explained variance."
   ]
  },
  {
   "cell_type": "code",
   "execution_count": 28,
   "metadata": {
    "execution": {
     "iopub.execute_input": "2020-07-22T18:06:44.141944Z",
     "iopub.status.busy": "2020-07-22T18:06:44.141511Z",
     "iopub.status.idle": "2020-07-22T18:06:44.144080Z",
     "shell.execute_reply": "2020-07-22T18:06:44.144413Z"
    }
   },
   "outputs": [],
   "source": [
    "duplicated_features_sl=df_sl[df_sl.iloc[:,1].duplicated()]\n",
    "repeated_features_sl=pd.DataFrame()\n",
    "\n",
    "domains_name=np.unique(data_domains['domain-name'])\n",
    "domains_description=np.unique(data_domains['domain-descrip'])\n",
    "\n",
    "repeated_features_sl['domain-name']=domains_name[duplicated_features_sl.iloc[:,1]] \n",
    "repeated_features_sl['domain-description']=domains_description[duplicated_features_sl.iloc[:,1]]\n",
    "\n",
    "duplicated_features_nsl=df_nsl[df_nsl.iloc[:,1].duplicated()]\n",
    "repeated_features_nsl=pd.DataFrame()\n",
    "\n",
    "repeated_features_nsl['domain-name']=domains_name[duplicated_features_nsl.iloc[:,1]] \n",
    "repeated_features_nsl['domain-description']=domains_description[duplicated_features_nsl.iloc[:,1]]"
   ]
  },
  {
   "cell_type": "code",
   "execution_count": 29,
   "metadata": {
    "execution": {
     "iopub.execute_input": "2020-07-22T18:06:44.151405Z",
     "iopub.status.busy": "2020-07-22T18:06:44.149881Z",
     "iopub.status.idle": "2020-07-22T18:06:44.156249Z",
     "shell.execute_reply": "2020-07-22T18:06:44.155849Z"
    }
   },
   "outputs": [
    {
     "name": "stderr",
     "output_type": "stream",
     "text": [
      "/usr/share/miniconda3/envs/wintest/lib/python3.7/site-packages/ipykernel_launcher.py:3: SettingWithCopyWarning: \n",
      "A value is trying to be set on a copy of a slice from a DataFrame.\n",
      "Try using .loc[row_indexer,col_indexer] = value instead\n",
      "\n",
      "See the caveats in the documentation: https://pandas.pydata.org/pandas-docs/stable/user_guide/indexing.html#returning-a-view-versus-a-copy\n",
      "  This is separate from the ipykernel package so we can avoid doing imports until\n"
     ]
    },
    {
     "data": {
      "text/plain": [
       "((38, 4), (293, 4))"
      ]
     },
     "execution_count": 29,
     "metadata": {},
     "output_type": "execute_result"
    }
   ],
   "source": [
    "only_sl_pd=pd.merge(repeated_features_sl,repeated_features_nsl,how='left',on=['domain-name'])\n",
    "data_only_sl = only_sl_pd[pd.isnull(only_sl_pd['domain-description_y'])]\n",
    "data_only_sl['domain-description']=data_only_sl['domain-description_x']\n",
    "data_only_sl.shape,df_sl_exclusive.shape"
   ]
  },
  {
   "cell_type": "code",
   "execution_count": 30,
   "metadata": {
    "execution": {
     "iopub.execute_input": "2020-07-22T18:06:44.172343Z",
     "iopub.status.busy": "2020-07-22T18:06:44.162032Z",
     "iopub.status.idle": "2020-07-22T18:06:44.176561Z",
     "shell.execute_reply": "2020-07-22T18:06:44.176186Z"
    }
   },
   "outputs": [
    {
     "data": {
      "text/html": [
       "<div>\n",
       "<style scoped>\n",
       "    .dataframe tbody tr th:only-of-type {\n",
       "        vertical-align: middle;\n",
       "    }\n",
       "\n",
       "    .dataframe tbody tr th {\n",
       "        vertical-align: top;\n",
       "    }\n",
       "\n",
       "    .dataframe thead th {\n",
       "        text-align: right;\n",
       "    }\n",
       "</style>\n",
       "<table border=\"1\" class=\"dataframe\">\n",
       "  <thead>\n",
       "    <tr style=\"text-align: right;\">\n",
       "      <th></th>\n",
       "      <th>domain-name</th>\n",
       "      <th>domain-description_x</th>\n",
       "      <th>domain-description_y</th>\n",
       "    </tr>\n",
       "  </thead>\n",
       "  <tbody>\n",
       "    <tr>\n",
       "      <th>3</th>\n",
       "      <td>PF03439</td>\n",
       "      <td>NaN</td>\n",
       "      <td>HEM4; Tetrapyrrole biosynthesis, uroporphyrino...</td>\n",
       "    </tr>\n",
       "    <tr>\n",
       "      <th>4</th>\n",
       "      <td>PF01028</td>\n",
       "      <td>NaN</td>\n",
       "      <td>Chitin_synth_1N; Chitin synthase N-terminal</td>\n",
       "    </tr>\n",
       "    <tr>\n",
       "      <th>5</th>\n",
       "      <td>PF03835</td>\n",
       "      <td>NaN</td>\n",
       "      <td>HlyIII; AdipoR/Haemolysin-III-related</td>\n",
       "    </tr>\n",
       "    <tr>\n",
       "      <th>6</th>\n",
       "      <td>PF00355</td>\n",
       "      <td>NaN</td>\n",
       "      <td>Aim19; Altered inheritance of mitochondria pro...</td>\n",
       "    </tr>\n",
       "    <tr>\n",
       "      <th>7</th>\n",
       "      <td>PF08647</td>\n",
       "      <td>NaN</td>\n",
       "      <td>RNA_pol_L_2; DNA-directed RNA polymerase, RBP1...</td>\n",
       "    </tr>\n",
       "    <tr>\n",
       "      <th>8</th>\n",
       "      <td>PF00226</td>\n",
       "      <td>NaN</td>\n",
       "      <td>ATG11; Autophagy-related protein 11</td>\n",
       "    </tr>\n",
       "    <tr>\n",
       "      <th>9</th>\n",
       "      <td>PF08148</td>\n",
       "      <td>NaN</td>\n",
       "      <td>PRP21_like_P; Splicing factor 3A subunit 1</td>\n",
       "    </tr>\n",
       "    <tr>\n",
       "      <th>10</th>\n",
       "      <td>PF08605</td>\n",
       "      <td>NaN</td>\n",
       "      <td>RCR; Chitin synthesis regulation, Congo red re...</td>\n",
       "    </tr>\n",
       "    <tr>\n",
       "      <th>11</th>\n",
       "      <td>PF07983</td>\n",
       "      <td>NaN</td>\n",
       "      <td>PNP_phzG_C; Pyridoxine 5&amp;apos;-phosphate oxida...</td>\n",
       "    </tr>\n",
       "    <tr>\n",
       "      <th>12</th>\n",
       "      <td>PF10587</td>\n",
       "      <td>NaN</td>\n",
       "      <td>SHS2_Rpb7-N; RNA polymerase Rpb7, N-terminal</td>\n",
       "    </tr>\n",
       "    <tr>\n",
       "      <th>13</th>\n",
       "      <td>PF00564</td>\n",
       "      <td>NaN</td>\n",
       "      <td>BING4CT; BING4, C-terminal domain</td>\n",
       "    </tr>\n",
       "    <tr>\n",
       "      <th>14</th>\n",
       "      <td>PF01207</td>\n",
       "      <td>NaN</td>\n",
       "      <td>D123; Cell division cycle protein 123</td>\n",
       "    </tr>\n",
       "    <tr>\n",
       "      <th>15</th>\n",
       "      <td>PF01207</td>\n",
       "      <td>NaN</td>\n",
       "      <td>D123; Cell division cycle protein 123</td>\n",
       "    </tr>\n",
       "    <tr>\n",
       "      <th>16</th>\n",
       "      <td>PF01145</td>\n",
       "      <td>NaN</td>\n",
       "      <td>Coq4; Ubiquinone biosynthesis protein Coq4</td>\n",
       "    </tr>\n",
       "    <tr>\n",
       "      <th>17</th>\n",
       "      <td>PF00982</td>\n",
       "      <td>NaN</td>\n",
       "      <td>Catalase; Catalase core domain</td>\n",
       "    </tr>\n",
       "    <tr>\n",
       "      <th>18</th>\n",
       "      <td>PF00137</td>\n",
       "      <td>NaN</td>\n",
       "      <td>AICARFT_IMPCHas; AICARFT/IMPCHase bienzyme</td>\n",
       "    </tr>\n",
       "    <tr>\n",
       "      <th>19</th>\n",
       "      <td>PF08214</td>\n",
       "      <td>NaN</td>\n",
       "      <td>PXA; Phox-associated domain</td>\n",
       "    </tr>\n",
       "    <tr>\n",
       "      <th>20</th>\n",
       "      <td>PF08214</td>\n",
       "      <td>NaN</td>\n",
       "      <td>PXA; Phox-associated domain</td>\n",
       "    </tr>\n",
       "    <tr>\n",
       "      <th>21</th>\n",
       "      <td>PF12998</td>\n",
       "      <td>NaN</td>\n",
       "      <td>TFIIIC_sub6; Transcription factor TFIIIC, tau5...</td>\n",
       "    </tr>\n",
       "    <tr>\n",
       "      <th>22</th>\n",
       "      <td>PF05179</td>\n",
       "      <td>NaN</td>\n",
       "      <td>Mob1_phocein; MOB kinase activator family</td>\n",
       "    </tr>\n",
       "    <tr>\n",
       "      <th>23</th>\n",
       "      <td>PF05786</td>\n",
       "      <td>NaN</td>\n",
       "      <td>NTP_transferase; Nucleotidyl transferase domain</td>\n",
       "    </tr>\n",
       "    <tr>\n",
       "      <th>24</th>\n",
       "      <td>PF05786</td>\n",
       "      <td>NaN</td>\n",
       "      <td>NTP_transferase; Nucleotidyl transferase domain</td>\n",
       "    </tr>\n",
       "    <tr>\n",
       "      <th>25</th>\n",
       "      <td>PF00382</td>\n",
       "      <td>NaN</td>\n",
       "      <td>Aldolase_II; Class II aldolase/adducin N-terminal</td>\n",
       "    </tr>\n",
       "    <tr>\n",
       "      <th>26</th>\n",
       "      <td>PF00225</td>\n",
       "      <td>NaN</td>\n",
       "      <td>ATE_N; Arginine-tRNA-protein transferase, N-te...</td>\n",
       "    </tr>\n",
       "    <tr>\n",
       "      <th>27</th>\n",
       "      <td>PF01131</td>\n",
       "      <td>NaN</td>\n",
       "      <td>Cohesin_load; Chromatid cohesion factor MAU2</td>\n",
       "    </tr>\n",
       "    <tr>\n",
       "      <th>28</th>\n",
       "      <td>PF00134</td>\n",
       "      <td>NaN</td>\n",
       "      <td>AGA2</td>\n",
       "    </tr>\n",
       "    <tr>\n",
       "      <th>29</th>\n",
       "      <td>PF08738</td>\n",
       "      <td>NaN</td>\n",
       "      <td>RNase_T; Exonuclease, RNase T/DNA polymerase III</td>\n",
       "    </tr>\n",
       "    <tr>\n",
       "      <th>30</th>\n",
       "      <td>PF00587</td>\n",
       "      <td>NaN</td>\n",
       "      <td>BUD22; Bud22/Serum response factor-binding pro...</td>\n",
       "    </tr>\n",
       "    <tr>\n",
       "      <th>31</th>\n",
       "      <td>PF01926</td>\n",
       "      <td>NaN</td>\n",
       "      <td>E3_binding; E3-binding domain</td>\n",
       "    </tr>\n",
       "    <tr>\n",
       "      <th>32</th>\n",
       "      <td>PF03637</td>\n",
       "      <td>NaN</td>\n",
       "      <td>HTH_44; Helix-turn-helix DNA-binding domain of...</td>\n",
       "    </tr>\n",
       "    <tr>\n",
       "      <th>33</th>\n",
       "      <td>PF07716</td>\n",
       "      <td>NaN</td>\n",
       "      <td>PHM7_cyt; 10TM putative phosphate transporter,...</td>\n",
       "    </tr>\n",
       "    <tr>\n",
       "      <th>34</th>\n",
       "      <td>PF02953</td>\n",
       "      <td>NaN</td>\n",
       "      <td>GWT1</td>\n",
       "    </tr>\n",
       "    <tr>\n",
       "      <th>35</th>\n",
       "      <td>PF00572</td>\n",
       "      <td>NaN</td>\n",
       "      <td>BPL_C; Biotin protein ligase, C-terminal</td>\n",
       "    </tr>\n",
       "    <tr>\n",
       "      <th>36</th>\n",
       "      <td>PF04851</td>\n",
       "      <td>NaN</td>\n",
       "      <td>Med13_C; Mediator complex, subunit Med13</td>\n",
       "    </tr>\n",
       "    <tr>\n",
       "      <th>37</th>\n",
       "      <td>PF00808</td>\n",
       "      <td>NaN</td>\n",
       "      <td>COX1; Cytochrome c oxidase subunit I</td>\n",
       "    </tr>\n",
       "    <tr>\n",
       "      <th>38</th>\n",
       "      <td>PF04939</td>\n",
       "      <td>NaN</td>\n",
       "      <td>Memo; MEMO1 family</td>\n",
       "    </tr>\n",
       "    <tr>\n",
       "      <th>39</th>\n",
       "      <td>PF03914</td>\n",
       "      <td>NaN</td>\n",
       "      <td>ICE2; Protein Ice2</td>\n",
       "    </tr>\n",
       "    <tr>\n",
       "      <th>40</th>\n",
       "      <td>PF03540</td>\n",
       "      <td>NaN</td>\n",
       "      <td>HPIH; HMG-CoA reductase, N-terminal domain</td>\n",
       "    </tr>\n",
       "    <tr>\n",
       "      <th>41</th>\n",
       "      <td>PF08293</td>\n",
       "      <td>NaN</td>\n",
       "      <td>Peptidase_M16_C; Peptidase M16, C-terminal</td>\n",
       "    </tr>\n",
       "    <tr>\n",
       "      <th>42</th>\n",
       "      <td>PF08293</td>\n",
       "      <td>NaN</td>\n",
       "      <td>Peptidase_M16_C; Peptidase M16, C-terminal</td>\n",
       "    </tr>\n",
       "    <tr>\n",
       "      <th>43</th>\n",
       "      <td>PF00244</td>\n",
       "      <td>NaN</td>\n",
       "      <td>ATP-grasp; ATP-grasp fold, ATP-dependent carbo...</td>\n",
       "    </tr>\n",
       "    <tr>\n",
       "      <th>44</th>\n",
       "      <td>PF00244</td>\n",
       "      <td>NaN</td>\n",
       "      <td>ATP-grasp; ATP-grasp fold, ATP-dependent carbo...</td>\n",
       "    </tr>\n",
       "    <tr>\n",
       "      <th>45</th>\n",
       "      <td>PF00250</td>\n",
       "      <td>NaN</td>\n",
       "      <td>ATP-synt_A; ATP synthase, F0 complex, subunit A</td>\n",
       "    </tr>\n",
       "    <tr>\n",
       "      <th>46</th>\n",
       "      <td>PF12744</td>\n",
       "      <td>NaN</td>\n",
       "      <td>Stn1; CST complex subunit Stn1, N-terminal</td>\n",
       "    </tr>\n",
       "    <tr>\n",
       "      <th>47</th>\n",
       "      <td>PF04177</td>\n",
       "      <td>NaN</td>\n",
       "      <td>Ldh_1_C; Lactate/malate dehydrogenase, C-terminal</td>\n",
       "    </tr>\n",
       "    <tr>\n",
       "      <th>48</th>\n",
       "      <td>PF05739</td>\n",
       "      <td>NaN</td>\n",
       "      <td>NPCC; Nuclear pore complex component</td>\n",
       "    </tr>\n",
       "    <tr>\n",
       "      <th>49</th>\n",
       "      <td>PF00399</td>\n",
       "      <td>NaN</td>\n",
       "      <td>Alpha_adaptinC2; Clathrin adaptor, alpha/beta/...</td>\n",
       "    </tr>\n",
       "    <tr>\n",
       "      <th>50</th>\n",
       "      <td>PF04147</td>\n",
       "      <td>NaN</td>\n",
       "      <td>LSM; LSM domain, eukaryotic/archaea-type</td>\n",
       "    </tr>\n",
       "    <tr>\n",
       "      <th>51</th>\n",
       "      <td>PF03650</td>\n",
       "      <td>NaN</td>\n",
       "      <td>Hap4_Hap_bind; Hap4 transcription factor, hete...</td>\n",
       "    </tr>\n",
       "    <tr>\n",
       "      <th>52</th>\n",
       "      <td>PF04893</td>\n",
       "      <td>NaN</td>\n",
       "      <td>Med22; Mediator of RNA polymerase II transcrip...</td>\n",
       "    </tr>\n",
       "    <tr>\n",
       "      <th>53</th>\n",
       "      <td>PF04893</td>\n",
       "      <td>NaN</td>\n",
       "      <td>Med22; Mediator of RNA polymerase II transcrip...</td>\n",
       "    </tr>\n",
       "    <tr>\n",
       "      <th>54</th>\n",
       "      <td>PF03159</td>\n",
       "      <td>NaN</td>\n",
       "      <td>Glyco_tran_28_C; Glycosyl transferase, family ...</td>\n",
       "    </tr>\n",
       "    <tr>\n",
       "      <th>55</th>\n",
       "      <td>PF00083</td>\n",
       "      <td>NaN</td>\n",
       "      <td>AA_permease; Amino acid permease/ SLC12A domain</td>\n",
       "    </tr>\n",
       "    <tr>\n",
       "      <th>56</th>\n",
       "      <td>PF00083</td>\n",
       "      <td>NaN</td>\n",
       "      <td>AA_permease; Amino acid permease/ SLC12A domain</td>\n",
       "    </tr>\n",
       "    <tr>\n",
       "      <th>57</th>\n",
       "      <td>PF00465</td>\n",
       "      <td>NaN</td>\n",
       "      <td>ArgJ; Arginine biosynthesis protein ArgJ</td>\n",
       "    </tr>\n",
       "    <tr>\n",
       "      <th>58</th>\n",
       "      <td>PF12850</td>\n",
       "      <td>NaN</td>\n",
       "      <td>TB2_DP1_HVA22; TB2/DP1/HVA22-related protein</td>\n",
       "    </tr>\n",
       "    <tr>\n",
       "      <th>59</th>\n",
       "      <td>PF01036</td>\n",
       "      <td>NaN</td>\n",
       "      <td>Choline_kinase</td>\n",
       "    </tr>\n",
       "    <tr>\n",
       "      <th>60</th>\n",
       "      <td>PF05970</td>\n",
       "      <td>NaN</td>\n",
       "      <td>NifU; NIF system FeS cluster assembly, NifU, C...</td>\n",
       "    </tr>\n",
       "    <tr>\n",
       "      <th>61</th>\n",
       "      <td>PF08118</td>\n",
       "      <td>NaN</td>\n",
       "      <td>PRKCSH_1; Mannose-6-phosphate receptor binding...</td>\n",
       "    </tr>\n",
       "  </tbody>\n",
       "</table>\n",
       "</div>"
      ],
      "text/plain": [
       "   domain-name domain-description_x  \\\n",
       "3      PF03439                  NaN   \n",
       "4      PF01028                  NaN   \n",
       "5      PF03835                  NaN   \n",
       "6      PF00355                  NaN   \n",
       "7      PF08647                  NaN   \n",
       "8      PF00226                  NaN   \n",
       "9      PF08148                  NaN   \n",
       "10     PF08605                  NaN   \n",
       "11     PF07983                  NaN   \n",
       "12     PF10587                  NaN   \n",
       "13     PF00564                  NaN   \n",
       "14     PF01207                  NaN   \n",
       "15     PF01207                  NaN   \n",
       "16     PF01145                  NaN   \n",
       "17     PF00982                  NaN   \n",
       "18     PF00137                  NaN   \n",
       "19     PF08214                  NaN   \n",
       "20     PF08214                  NaN   \n",
       "21     PF12998                  NaN   \n",
       "22     PF05179                  NaN   \n",
       "23     PF05786                  NaN   \n",
       "24     PF05786                  NaN   \n",
       "25     PF00382                  NaN   \n",
       "26     PF00225                  NaN   \n",
       "27     PF01131                  NaN   \n",
       "28     PF00134                  NaN   \n",
       "29     PF08738                  NaN   \n",
       "30     PF00587                  NaN   \n",
       "31     PF01926                  NaN   \n",
       "32     PF03637                  NaN   \n",
       "33     PF07716                  NaN   \n",
       "34     PF02953                  NaN   \n",
       "35     PF00572                  NaN   \n",
       "36     PF04851                  NaN   \n",
       "37     PF00808                  NaN   \n",
       "38     PF04939                  NaN   \n",
       "39     PF03914                  NaN   \n",
       "40     PF03540                  NaN   \n",
       "41     PF08293                  NaN   \n",
       "42     PF08293                  NaN   \n",
       "43     PF00244                  NaN   \n",
       "44     PF00244                  NaN   \n",
       "45     PF00250                  NaN   \n",
       "46     PF12744                  NaN   \n",
       "47     PF04177                  NaN   \n",
       "48     PF05739                  NaN   \n",
       "49     PF00399                  NaN   \n",
       "50     PF04147                  NaN   \n",
       "51     PF03650                  NaN   \n",
       "52     PF04893                  NaN   \n",
       "53     PF04893                  NaN   \n",
       "54     PF03159                  NaN   \n",
       "55     PF00083                  NaN   \n",
       "56     PF00083                  NaN   \n",
       "57     PF00465                  NaN   \n",
       "58     PF12850                  NaN   \n",
       "59     PF01036                  NaN   \n",
       "60     PF05970                  NaN   \n",
       "61     PF08118                  NaN   \n",
       "\n",
       "                                 domain-description_y  \n",
       "3   HEM4; Tetrapyrrole biosynthesis, uroporphyrino...  \n",
       "4         Chitin_synth_1N; Chitin synthase N-terminal  \n",
       "5               HlyIII; AdipoR/Haemolysin-III-related  \n",
       "6   Aim19; Altered inheritance of mitochondria pro...  \n",
       "7   RNA_pol_L_2; DNA-directed RNA polymerase, RBP1...  \n",
       "8                 ATG11; Autophagy-related protein 11  \n",
       "9          PRP21_like_P; Splicing factor 3A subunit 1  \n",
       "10  RCR; Chitin synthesis regulation, Congo red re...  \n",
       "11  PNP_phzG_C; Pyridoxine 5&apos;-phosphate oxida...  \n",
       "12       SHS2_Rpb7-N; RNA polymerase Rpb7, N-terminal  \n",
       "13                  BING4CT; BING4, C-terminal domain  \n",
       "14              D123; Cell division cycle protein 123  \n",
       "15              D123; Cell division cycle protein 123  \n",
       "16         Coq4; Ubiquinone biosynthesis protein Coq4  \n",
       "17                     Catalase; Catalase core domain  \n",
       "18         AICARFT_IMPCHas; AICARFT/IMPCHase bienzyme  \n",
       "19                        PXA; Phox-associated domain  \n",
       "20                        PXA; Phox-associated domain  \n",
       "21  TFIIIC_sub6; Transcription factor TFIIIC, tau5...  \n",
       "22          Mob1_phocein; MOB kinase activator family  \n",
       "23    NTP_transferase; Nucleotidyl transferase domain  \n",
       "24    NTP_transferase; Nucleotidyl transferase domain  \n",
       "25  Aldolase_II; Class II aldolase/adducin N-terminal  \n",
       "26  ATE_N; Arginine-tRNA-protein transferase, N-te...  \n",
       "27       Cohesin_load; Chromatid cohesion factor MAU2  \n",
       "28                                               AGA2  \n",
       "29   RNase_T; Exonuclease, RNase T/DNA polymerase III  \n",
       "30  BUD22; Bud22/Serum response factor-binding pro...  \n",
       "31                      E3_binding; E3-binding domain  \n",
       "32  HTH_44; Helix-turn-helix DNA-binding domain of...  \n",
       "33  PHM7_cyt; 10TM putative phosphate transporter,...  \n",
       "34                                               GWT1  \n",
       "35           BPL_C; Biotin protein ligase, C-terminal  \n",
       "36           Med13_C; Mediator complex, subunit Med13  \n",
       "37               COX1; Cytochrome c oxidase subunit I  \n",
       "38                                 Memo; MEMO1 family  \n",
       "39                                 ICE2; Protein Ice2  \n",
       "40         HPIH; HMG-CoA reductase, N-terminal domain  \n",
       "41         Peptidase_M16_C; Peptidase M16, C-terminal  \n",
       "42         Peptidase_M16_C; Peptidase M16, C-terminal  \n",
       "43  ATP-grasp; ATP-grasp fold, ATP-dependent carbo...  \n",
       "44  ATP-grasp; ATP-grasp fold, ATP-dependent carbo...  \n",
       "45    ATP-synt_A; ATP synthase, F0 complex, subunit A  \n",
       "46         Stn1; CST complex subunit Stn1, N-terminal  \n",
       "47  Ldh_1_C; Lactate/malate dehydrogenase, C-terminal  \n",
       "48               NPCC; Nuclear pore complex component  \n",
       "49  Alpha_adaptinC2; Clathrin adaptor, alpha/beta/...  \n",
       "50           LSM; LSM domain, eukaryotic/archaea-type  \n",
       "51  Hap4_Hap_bind; Hap4 transcription factor, hete...  \n",
       "52  Med22; Mediator of RNA polymerase II transcrip...  \n",
       "53  Med22; Mediator of RNA polymerase II transcrip...  \n",
       "54  Glyco_tran_28_C; Glycosyl transferase, family ...  \n",
       "55    AA_permease; Amino acid permease/ SLC12A domain  \n",
       "56    AA_permease; Amino acid permease/ SLC12A domain  \n",
       "57           ArgJ; Arginine biosynthesis protein ArgJ  \n",
       "58       TB2_DP1_HVA22; TB2/DP1/HVA22-related protein  \n",
       "59                                     Choline_kinase  \n",
       "60  NifU; NIF system FeS cluster assembly, NifU, C...  \n",
       "61  PRKCSH_1; Mannose-6-phosphate receptor binding...  "
      ]
     },
     "execution_count": 30,
     "metadata": {},
     "output_type": "execute_result"
    }
   ],
   "source": [
    "only_nsl_pd=pd.merge(repeated_features_sl,repeated_features_nsl,how='right',on=['domain-name'])\n",
    "data_only_nsl = only_nsl_pd[pd.isnull(only_nsl_pd['domain-description_x'])]\n",
    "data_only_nsl"
   ]
  },
  {
   "cell_type": "code",
   "execution_count": 31,
   "metadata": {
    "execution": {
     "iopub.execute_input": "2020-07-22T18:06:44.185185Z",
     "iopub.status.busy": "2020-07-22T18:06:44.184755Z",
     "iopub.status.idle": "2020-07-22T18:06:44.189076Z",
     "shell.execute_reply": "2020-07-22T18:06:44.188409Z"
    }
   },
   "outputs": [
    {
     "data": {
      "text/html": [
       "<div>\n",
       "<style scoped>\n",
       "    .dataframe tbody tr th:only-of-type {\n",
       "        vertical-align: middle;\n",
       "    }\n",
       "\n",
       "    .dataframe tbody tr th {\n",
       "        vertical-align: top;\n",
       "    }\n",
       "\n",
       "    .dataframe thead th {\n",
       "        text-align: right;\n",
       "    }\n",
       "</style>\n",
       "<table border=\"1\" class=\"dataframe\">\n",
       "  <thead>\n",
       "    <tr style=\"text-align: right;\">\n",
       "      <th></th>\n",
       "      <th>domain-name</th>\n",
       "      <th>domain-description_x</th>\n",
       "      <th>domain-description_y</th>\n",
       "    </tr>\n",
       "  </thead>\n",
       "  <tbody>\n",
       "    <tr>\n",
       "      <th>0</th>\n",
       "      <td>PF11488</td>\n",
       "      <td>SPT2; Chromatin SPT2</td>\n",
       "      <td>SPT2; Chromatin SPT2</td>\n",
       "    </tr>\n",
       "    <tr>\n",
       "      <th>1</th>\n",
       "      <td>PF00010</td>\n",
       "      <td>2-oxoacid_dh; 2-oxoacid dehydrogenase acyltran...</td>\n",
       "      <td>2-oxoacid_dh; 2-oxoacid dehydrogenase acyltran...</td>\n",
       "    </tr>\n",
       "    <tr>\n",
       "      <th>2</th>\n",
       "      <td>PF16755</td>\n",
       "      <td>eIF_4G1; Eukaryotic translation initiation fac...</td>\n",
       "      <td>eIF_4G1; Eukaryotic translation initiation fac...</td>\n",
       "    </tr>\n",
       "  </tbody>\n",
       "</table>\n",
       "</div>"
      ],
      "text/plain": [
       "  domain-name                               domain-description_x  \\\n",
       "0     PF11488                               SPT2; Chromatin SPT2   \n",
       "1     PF00010  2-oxoacid_dh; 2-oxoacid dehydrogenase acyltran...   \n",
       "2     PF16755  eIF_4G1; Eukaryotic translation initiation fac...   \n",
       "\n",
       "                                domain-description_y  \n",
       "0                               SPT2; Chromatin SPT2  \n",
       "1  2-oxoacid_dh; 2-oxoacid dehydrogenase acyltran...  \n",
       "2  eIF_4G1; Eukaryotic translation initiation fac...  "
      ]
     },
     "execution_count": 31,
     "metadata": {},
     "output_type": "execute_result"
    }
   ],
   "source": [
    "shared_domains_pd=pd.merge(repeated_features_sl,repeated_features_nsl,how='inner',on=['domain-name'])\n",
    "shared_domains_pd\n"
   ]
  },
  {
   "cell_type": "code",
   "execution_count": 32,
   "metadata": {
    "execution": {
     "iopub.execute_input": "2020-07-22T18:06:44.197357Z",
     "iopub.status.busy": "2020-07-22T18:06:44.195687Z",
     "iopub.status.idle": "2020-07-22T18:06:45.349118Z",
     "shell.execute_reply": "2020-07-22T18:06:45.348737Z"
    }
   },
   "outputs": [
    {
     "data": {
      "text/plain": [
       "(0.0, 0.2)"
      ]
     },
     "execution_count": 32,
     "metadata": {},
     "output_type": "execute_result"
    },
    {
     "data": {
      "image/png": "[encoded data removed]",
      "text/plain": [
       "<Figure size 432x288 with 1 Axes>"
      ]
     },
     "metadata": {
      "filenames": {
       "image/png": "/home/runner/work/jupyter-book/jupyter-book/mini_book/docs/_build/jupyter_execute/prot_domains2lethality-FEATURES-POSTPROCESSING_47_1.png"
      },
      "needs_background": "light"
     },
     "output_type": "display_data"
    }
   ],
   "source": [
    "a_sl=x_sl.iloc[:,np.sort(df_sl.iloc[:,1])]\n",
    "a_sl.describe().loc['mean'].hist(bins=8),\n",
    "a_sl.describe().loc['std'].hist(bins=8,alpha=0.4)\n",
    "plt.xlim([0,0.2])"
   ]
  },
  {
   "cell_type": "code",
   "execution_count": 33,
   "metadata": {
    "execution": {
     "iopub.execute_input": "2020-07-22T18:06:45.359810Z",
     "iopub.status.busy": "2020-07-22T18:06:45.356304Z",
     "iopub.status.idle": "2020-07-22T18:06:46.568712Z",
     "shell.execute_reply": "2020-07-22T18:06:46.568302Z"
    }
   },
   "outputs": [
    {
     "data": {
      "text/plain": [
       "(0.0, 0.2)"
      ]
     },
     "execution_count": 33,
     "metadata": {},
     "output_type": "execute_result"
    },
    {
     "data": {
      "image/png": "[encoded data removed]",
      "text/plain": [
       "<Figure size 432x288 with 1 Axes>"
      ]
     },
     "metadata": {
      "filenames": {
       "image/png": "/home/runner/work/jupyter-book/jupyter-book/mini_book/docs/_build/jupyter_execute/prot_domains2lethality-FEATURES-POSTPROCESSING_48_1.png"
      },
      "needs_background": "light"
     },
     "output_type": "display_data"
    }
   ],
   "source": [
    "a_nsl=x_nsl.iloc[:,np.sort(df_nsl.iloc[:,1])]\n",
    "a_nsl.describe().loc['mean'].hist(bins=8),\n",
    "a_nsl.describe().loc['std'].hist(bins=8,alpha=0.4)\n",
    "plt.xlim([0,0.2])"
   ]
  },
  {
   "cell_type": "markdown",
   "metadata": {},
   "source": [
    "### Proof of concept with *BEM1*\n",
    "\n",
    "- Gather the domains of SL and nSL pairs from BEM1\n",
    "- Check if the domains for the SL and nSL pairs are inside the most important domains after PCA."
   ]
  },
  {
   "cell_type": "code",
   "execution_count": 34,
   "metadata": {
    "execution": {
     "iopub.execute_input": "2020-07-22T18:06:46.575285Z",
     "iopub.status.busy": "2020-07-22T18:06:46.574845Z",
     "iopub.status.idle": "2020-07-22T18:06:46.578160Z",
     "shell.execute_reply": "2020-07-22T18:06:46.577327Z"
    }
   },
   "outputs": [],
   "source": [
    "domains_bem1=data_domains[data_domains['name']=='BEM1']['domain-descrip']\n",
    "sl_bem1=data_sl[data_sl['gene-query-name']=='BEM1']['gene-target-name']"
   ]
  },
  {
   "cell_type": "code",
   "execution_count": 35,
   "metadata": {
    "execution": {
     "iopub.execute_input": "2020-07-22T18:06:46.582032Z",
     "iopub.status.busy": "2020-07-22T18:06:46.581606Z",
     "iopub.status.idle": "2020-07-22T18:06:46.586072Z",
     "shell.execute_reply": "2020-07-22T18:06:46.585699Z"
    }
   },
   "outputs": [
    {
     "data": {
      "text/plain": [
       "2846      BEM2\n",
       "2847     CDC24\n",
       "5004      MSB1\n",
       "13777     SMI1\n",
       "13778     BNI1\n",
       "13779     BEM2\n",
       "14385     SKN7\n",
       "Name: gene-target-name, dtype: object"
      ]
     },
     "execution_count": 35,
     "metadata": {},
     "output_type": "execute_result"
    }
   ],
   "source": [
    "sl_bem1"
   ]
  },
  {
   "cell_type": "code",
   "execution_count": 36,
   "metadata": {
    "execution": {
     "iopub.execute_input": "2020-07-22T18:06:46.597404Z",
     "iopub.status.busy": "2020-07-22T18:06:46.596979Z",
     "iopub.status.idle": "2020-07-22T18:06:46.603199Z",
     "shell.execute_reply": "2020-07-22T18:06:46.602822Z"
    }
   },
   "outputs": [
    {
     "data": {
      "text/html": [
       "<div>\n",
       "<style scoped>\n",
       "    .dataframe tbody tr th:only-of-type {\n",
       "        vertical-align: middle;\n",
       "    }\n",
       "\n",
       "    .dataframe tbody tr th {\n",
       "        vertical-align: top;\n",
       "    }\n",
       "\n",
       "    .dataframe thead th {\n",
       "        text-align: right;\n",
       "    }\n",
       "</style>\n",
       "<table border=\"1\" class=\"dataframe\">\n",
       "  <thead>\n",
       "    <tr style=\"text-align: right;\">\n",
       "      <th></th>\n",
       "      <th>gene-query</th>\n",
       "      <th>gene-target</th>\n",
       "      <th>gene-query-name</th>\n",
       "      <th>gene-target-name</th>\n",
       "      <th>gene-query-description</th>\n",
       "      <th>gene-target-description</th>\n",
       "      <th>interaction-type</th>\n",
       "      <th>paper-source</th>\n",
       "    </tr>\n",
       "  </thead>\n",
       "  <tbody>\n",
       "    <tr>\n",
       "      <th>2846</th>\n",
       "      <td>YBR200W</td>\n",
       "      <td>YER155C</td>\n",
       "      <td>BEM1</td>\n",
       "      <td>BEM2</td>\n",
       "      <td>SRO1|phosphatidylinositol-3-phosphate-binding ...</td>\n",
       "      <td>IPL2|SUP9|TSL1|L000000168</td>\n",
       "      <td>Synthetic Lethality</td>\n",
       "      <td>Peterson J (1994)</td>\n",
       "    </tr>\n",
       "    <tr>\n",
       "      <th>2847</th>\n",
       "      <td>YBR200W</td>\n",
       "      <td>YAL041W</td>\n",
       "      <td>BEM1</td>\n",
       "      <td>CDC24</td>\n",
       "      <td>SRO1|phosphatidylinositol-3-phosphate-binding ...</td>\n",
       "      <td>CLS4|Rho family guanine nucleotide exchange fa...</td>\n",
       "      <td>Synthetic Lethality</td>\n",
       "      <td>Peterson J (1994)</td>\n",
       "    </tr>\n",
       "    <tr>\n",
       "      <th>5004</th>\n",
       "      <td>YBR200W</td>\n",
       "      <td>YOR188W</td>\n",
       "      <td>BEM1</td>\n",
       "      <td>MSB1</td>\n",
       "      <td>SRO1|phosphatidylinositol-3-phosphate-binding ...</td>\n",
       "      <td>L000001184</td>\n",
       "      <td>Synthetic Lethality</td>\n",
       "      <td>Bender A (1991)</td>\n",
       "    </tr>\n",
       "    <tr>\n",
       "      <th>13777</th>\n",
       "      <td>YBR200W</td>\n",
       "      <td>YGR229C</td>\n",
       "      <td>BEM1</td>\n",
       "      <td>SMI1</td>\n",
       "      <td>SRO1|phosphatidylinositol-3-phosphate-binding ...</td>\n",
       "      <td>KNR4|L000000909</td>\n",
       "      <td>Synthetic Lethality</td>\n",
       "      <td>Gorelik M (2011)</td>\n",
       "    </tr>\n",
       "    <tr>\n",
       "      <th>13778</th>\n",
       "      <td>YBR200W</td>\n",
       "      <td>YNL271C</td>\n",
       "      <td>BEM1</td>\n",
       "      <td>BNI1</td>\n",
       "      <td>SRO1|phosphatidylinositol-3-phosphate-binding ...</td>\n",
       "      <td>PPF3|SHE5|formin BNI1|L000000190</td>\n",
       "      <td>Synthetic Lethality</td>\n",
       "      <td>Gorelik M (2011)</td>\n",
       "    </tr>\n",
       "    <tr>\n",
       "      <th>13779</th>\n",
       "      <td>YBR200W</td>\n",
       "      <td>YER155C</td>\n",
       "      <td>BEM1</td>\n",
       "      <td>BEM2</td>\n",
       "      <td>SRO1|phosphatidylinositol-3-phosphate-binding ...</td>\n",
       "      <td>IPL2|SUP9|TSL1|L000000168</td>\n",
       "      <td>Synthetic Lethality</td>\n",
       "      <td>Gorelik M (2011)</td>\n",
       "    </tr>\n",
       "    <tr>\n",
       "      <th>14385</th>\n",
       "      <td>YBR200W</td>\n",
       "      <td>YHR206W</td>\n",
       "      <td>BEM1</td>\n",
       "      <td>SKN7</td>\n",
       "      <td>SRO1|phosphatidylinositol-3-phosphate-binding ...</td>\n",
       "      <td>BRY1|POS9|kinase-regulated stress-responsive t...</td>\n",
       "      <td>Dosage Lethality</td>\n",
       "      <td>Bouquin N (1999)</td>\n",
       "    </tr>\n",
       "  </tbody>\n",
       "</table>\n",
       "</div>"
      ],
      "text/plain": [
       "      gene-query gene-target gene-query-name gene-target-name  \\\n",
       "2846     YBR200W     YER155C            BEM1             BEM2   \n",
       "2847     YBR200W     YAL041W            BEM1            CDC24   \n",
       "5004     YBR200W     YOR188W            BEM1             MSB1   \n",
       "13777    YBR200W     YGR229C            BEM1             SMI1   \n",
       "13778    YBR200W     YNL271C            BEM1             BNI1   \n",
       "13779    YBR200W     YER155C            BEM1             BEM2   \n",
       "14385    YBR200W     YHR206W            BEM1             SKN7   \n",
       "\n",
       "                                  gene-query-description  \\\n",
       "2846   SRO1|phosphatidylinositol-3-phosphate-binding ...   \n",
       "2847   SRO1|phosphatidylinositol-3-phosphate-binding ...   \n",
       "5004   SRO1|phosphatidylinositol-3-phosphate-binding ...   \n",
       "13777  SRO1|phosphatidylinositol-3-phosphate-binding ...   \n",
       "13778  SRO1|phosphatidylinositol-3-phosphate-binding ...   \n",
       "13779  SRO1|phosphatidylinositol-3-phosphate-binding ...   \n",
       "14385  SRO1|phosphatidylinositol-3-phosphate-binding ...   \n",
       "\n",
       "                                 gene-target-description     interaction-type  \\\n",
       "2846                           IPL2|SUP9|TSL1|L000000168  Synthetic Lethality   \n",
       "2847   CLS4|Rho family guanine nucleotide exchange fa...  Synthetic Lethality   \n",
       "5004                                          L000001184  Synthetic Lethality   \n",
       "13777                                    KNR4|L000000909  Synthetic Lethality   \n",
       "13778                   PPF3|SHE5|formin BNI1|L000000190  Synthetic Lethality   \n",
       "13779                          IPL2|SUP9|TSL1|L000000168  Synthetic Lethality   \n",
       "14385  BRY1|POS9|kinase-regulated stress-responsive t...     Dosage Lethality   \n",
       "\n",
       "            paper-source  \n",
       "2846   Peterson J (1994)  \n",
       "2847   Peterson J (1994)  \n",
       "5004     Bender A (1991)  \n",
       "13777   Gorelik M (2011)  \n",
       "13778   Gorelik M (2011)  \n",
       "13779   Gorelik M (2011)  \n",
       "14385   Bouquin N (1999)  "
      ]
     },
     "execution_count": 36,
     "metadata": {},
     "output_type": "execute_result"
    }
   ],
   "source": [
    "data_sl[data_sl['gene-query-name']=='BEM1']"
   ]
  },
  {
   "cell_type": "code",
   "execution_count": null,
   "metadata": {},
   "outputs": [],
   "source": []
  }
 ],
 "metadata": {
  "jupytext": {
   "text_representation": {
    "extension": ".md",
    "format_name": "myst"
   }
  },
  "kernelspec": {
   "display_name": "Python 3",
   "language": "python",
   "name": "python3"
  },
  "language_info": {
   "codemirror_mode": {
    "name": "ipython",
    "version": 3
   },
   "file_extension": ".py",
   "mimetype": "text/x-python",
   "name": "python",
   "nbconvert_exporter": "python",
   "pygments_lexer": "ipython3",
   "version": "3.7.6"
  },
  "source_map": [
   10,
   18,
   29,
   36,
   57,
   66,
   98,
   101,
   105,
   128,
   131,
   135,
   139,
   145,
   178,
   184,
   188,
   206,
   210,
   218,
   222,
   225,
   229,
   234,
   238,
   244,
   248,
   253,
   257,
   267,
   269,
   273,
   306,
   311,
   313,
   317,
   328,
   330,
   334,
   344,
   348,
   358,
   360,
   364,
   381,
   388,
   394,
   400,
   407,
   412,
   419,
   424,
   428,
   432
  ]
 },
 "nbformat": 4,
 "nbformat_minor": 4
}