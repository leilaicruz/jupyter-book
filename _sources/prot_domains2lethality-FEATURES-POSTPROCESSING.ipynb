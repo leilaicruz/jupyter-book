{
 "cells": [
  {
   "cell_type": "markdown",
   "metadata": {},
   "source": [
    "# Feature postprocessing from paper.\n",
    "- Title:  \"Predicting yeast synthetic lethal genetic interactions using protein domains\"\n",
    "- Authors: Bo Li, Feng Luo,School of Computing,Clemson University,Clemson, SC, USA\n",
    "- e-mail: bol, luofeng@clemson.edu\n",
    "- year:2009"
   ]
  },
  {
   "cell_type": "code",
   "execution_count": 1,
   "metadata": {
    "execution": {
     "iopub.execute_input": "2020-07-20T08:01:22.130657Z",
     "iopub.status.busy": "2020-07-20T08:01:22.130086Z",
     "iopub.status.idle": "2020-07-20T08:01:22.905727Z",
     "shell.execute_reply": "2020-07-20T08:01:22.905228Z"
    }
   },
   "outputs": [],
   "source": [
    "import pandas as pd\n",
    "import numpy as np\n",
    "import matplotlib.pyplot as plt\n",
    "from collections import defaultdict \n",
    "import seaborn as sns\n",
    "import matplotlib.cm as cm\n",
    "import scipy as scipy\n",
    "import random"
   ]
  },
  {
   "cell_type": "markdown",
   "metadata": {
    "jupyter": {
     "source_hidden": true
    }
   },
   "source": [
    "### Importing datasets \n",
    "\n",
    "#### Link to the github repo where the datasets to be downloaded:\n",
    "[DOWNLOAD THE DATASETS HERE](https://github.com/leilaicruz/machine-learning-for-yeast/tree/dev_Leila/datasets-for-learning)"
   ]
  },
  {
   "cell_type": "code",
   "execution_count": 2,
   "metadata": {
    "execution": {
     "iopub.execute_input": "2020-07-20T08:01:22.912834Z",
     "iopub.status.busy": "2020-07-20T08:01:22.911659Z",
     "iopub.status.idle": "2020-07-20T08:01:30.767941Z",
     "shell.execute_reply": "2020-07-20T08:01:30.766628Z"
    }
   },
   "outputs": [],
   "source": [
    "import os\n",
    "script_dir = os.path.dirname('__file__') #<-- absolute dir the script is in\n",
    "rel_path_SL = \"datasets/data-synthetic-lethals.xlsx\"\n",
    "rel_path_nSL=\"datasets/data-positive-genetic.xlsx\"\n",
    "rel_path_domains=\"datasets/proteins-domains-from-Pfam.xlsx\"\n",
    "\n",
    "abs_file_path_SL = os.path.join(script_dir, rel_path_SL)\n",
    "abs_file_path_nSL = os.path.join(script_dir, rel_path_nSL)\n",
    "abs_file_path_domains = os.path.join(script_dir, rel_path_domains)\n",
    "\n",
    "# os.chdir('mini_book/docs/') #<-- for binder os.chdir('../')\n",
    "# os.chdir('../')\n",
    "my_path_sl= abs_file_path_SL\n",
    "my_path_non_sl=abs_file_path_nSL\n",
    "my_path_domains=abs_file_path_domains\n",
    "\n",
    "data_sl=pd.read_excel(my_path_sl,header=0)\n",
    "data_domains=pd.read_excel(my_path_domains,header=0,index_col='Unnamed: 0')\n",
    "data_domains=data_domains.dropna()\n",
    "data_nonsl=pd.read_excel(my_path_non_sl,header=0)"
   ]
  },
  {
   "cell_type": "markdown",
   "metadata": {},
   "source": [
    "## Building the feature matrix\n",
    "One matrix for true SL where each row is one pair of SL. Every raw will be a vector of 0,1 or 2 depending on the comparison with the domain list. For row i the jth element = 0 if the jth element of the domain list is not in neither protein A and B, 1, if it is in one of them and 2 if it is in both of them .\n",
    "\n",
    "### Building the list of proteins domains id per protein pair separately :\n",
    "- List of protein A: Search for the Sl/nSL database the query gene name and look in the protein domain database which protein domains id has each of those queries.\n",
    "- List of protein B: Search for the Sl/nSL database the target gene name of the previous query and look in the protein domain database which protein domains id has each of those target genes."
   ]
  },
  {
   "cell_type": "code",
   "execution_count": 3,
   "metadata": {
    "execution": {
     "iopub.execute_input": "2020-07-20T08:01:30.780545Z",
     "iopub.status.busy": "2020-07-20T08:01:30.776011Z",
     "iopub.status.idle": "2020-07-20T08:01:32.904995Z",
     "shell.execute_reply": "2020-07-20T08:01:32.904524Z"
    }
   },
   "outputs": [],
   "source": [
    "# Selecting the meaningful columns in the respective dataset\n",
    "domain_id_list=data_domains['domain-name']\n",
    "query_gene=data_sl['gene-query-name']\n",
    "target_gene=data_sl['gene-target-name']\n",
    "query_gene_nonlethal=data_nonsl['gene-query-name']\n",
    "target_gene_nonlethal=data_nonsl['gene-target-name']\n",
    "\n",
    "\n",
    "\n",
    "# Initialising the arrays\n",
    "protein_a_list=[]\n",
    "protein_b_list=[]\n",
    "protein_a_list_non=[]\n",
    "protein_b_list_non=[]\n",
    "\n",
    "population = np.arange(0,len(data_sl))\n",
    "\n",
    "# For loop for 10000 pairs sampled randomly from the SL/nSl pair list , and creating a big array of proteind domains id per protein pair\n",
    "\n",
    "for m in random.sample(list(population), 500):\n",
    "    protein_a=data_domains[data_domains['name']==query_gene[m]]\n",
    "    protein_b=data_domains[data_domains['name']==target_gene[m]]\n",
    "    protein_a_list.append(protein_a['domain-name'].tolist())\n",
    "    protein_b_list.append(protein_b['domain-name'].tolist())\n",
    "\n",
    "    protein_a_non=data_domains[data_domains['name']==query_gene_nonlethal[m]]\n",
    "    protein_b_non=data_domains[data_domains['name']==target_gene_nonlethal[m]]\n",
    "    protein_a_list_non.append(protein_a_non['domain-name'].tolist())\n",
    "    protein_b_list_non.append(protein_b_non['domain-name'].tolist())"
   ]
  },
  {
   "cell_type": "code",
   "execution_count": 4,
   "metadata": {
    "execution": {
     "iopub.execute_input": "2020-07-20T08:01:32.912016Z",
     "iopub.status.busy": "2020-07-20T08:01:32.910534Z",
     "iopub.status.idle": "2020-07-20T08:01:32.914434Z",
     "shell.execute_reply": "2020-07-20T08:01:32.914879Z"
    }
   },
   "outputs": [
    {
     "name": "stdout",
     "output_type": "stream",
     "text": [
      "We are going to analyze 500 protein pairs, out of 17871 SL protein pairs\n",
      "We are going to analyze 500 protein pairs, out of 43340 positive protein pairs\n"
     ]
    }
   ],
   "source": [
    "print('We are going to analyze',len((protein_a_list)) ,'protein pairs, out of',len(data_sl),'SL protein pairs')\n",
    "print('We are going to analyze',len((protein_a_list_non)) ,'protein pairs, out of',len(data_nonsl),'positive protein pairs')"
   ]
  },
  {
   "cell_type": "markdown",
   "metadata": {},
   "source": [
    "### Postprocessing #1:  Remove protein pairs from study if either protein in the pair does not contain any domain"
   ]
  },
  {
   "cell_type": "code",
   "execution_count": 5,
   "metadata": {
    "execution": {
     "iopub.execute_input": "2020-07-20T08:01:32.926017Z",
     "iopub.status.busy": "2020-07-20T08:01:32.924795Z",
     "iopub.status.idle": "2020-07-20T08:01:32.926617Z",
     "shell.execute_reply": "2020-07-20T08:01:32.927025Z"
    }
   },
   "outputs": [],
   "source": [
    "def remove_empty_domains(protein_list_search,protein_list_pair):\n",
    "    index=[]\n",
    "    for i in np.arange(0,len(protein_list_search)):\n",
    "        if protein_list_search[i]==[] or protein_list_pair[i]==[]:\n",
    "            index.append(i) ## index of empty values for the protein_a_list meaning they dont have any annotated domain\n",
    "\n",
    "    y=[x for x in np.arange(0,len(protein_list_search)) if x not in index] # a list with non empty values from protein_a list\n",
    "\n",
    "    protein_list_search_new=[]\n",
    "    protein_list_pair_new=[]\n",
    "    for i in y:\n",
    "        protein_list_search_new.append(protein_list_search[i])\n",
    "        protein_list_pair_new.append(protein_list_pair[i])\n",
    "    return protein_list_search_new,protein_list_pair_new\n",
    "\n",
    "## evaluating the function\n",
    "\n",
    "protein_a_list_new,protein_b_list_new=remove_empty_domains(protein_a_list,protein_b_list)\n",
    "\n",
    "protein_a_list_non_new,protein_b_list_non_new=remove_empty_domains(protein_a_list_non,protein_b_list_non)"
   ]
  },
  {
   "cell_type": "code",
   "execution_count": 6,
   "metadata": {
    "execution": {
     "iopub.execute_input": "2020-07-20T08:01:32.933398Z",
     "iopub.status.busy": "2020-07-20T08:01:32.932127Z",
     "iopub.status.idle": "2020-07-20T08:01:32.935084Z",
     "shell.execute_reply": "2020-07-20T08:01:32.934640Z"
    }
   },
   "outputs": [
    {
     "name": "stdout",
     "output_type": "stream",
     "text": [
      "The empty domain in the SL were: 72 out of 500 domains\n",
      "The empty domain in the nSL were: 91 out of 500 domains\n"
     ]
    }
   ],
   "source": [
    "print('The empty domain in the SL were:', len(protein_a_list)-len(protein_a_list_new), 'out of', len(protein_a_list),'domains')\n",
    "print('The empty domain in the nSL were:', len(protein_a_list_non)-len(protein_a_list_non_new), 'out of', len(protein_a_list_non),'domains')"
   ]
  },
  {
   "cell_type": "markdown",
   "metadata": {},
   "source": [
    "### Feature engineering: Select from each ordered indexes of domain id list which of them appear once, in both or in any of the domains of each protein pair"
   ]
  },
  {
   "cell_type": "markdown",
   "metadata": {},
   "source": [
    "#### Define function `get_indexes`"
   ]
  },
  {
   "cell_type": "code",
   "execution_count": 7,
   "metadata": {
    "execution": {
     "iopub.execute_input": "2020-07-20T08:01:32.942066Z",
     "iopub.status.busy": "2020-07-20T08:01:32.941538Z",
     "iopub.status.idle": "2020-07-20T08:01:32.944042Z",
     "shell.execute_reply": "2020-07-20T08:01:32.944459Z"
    }
   },
   "outputs": [
    {
     "data": {
      "text/plain": [
       "[1, 2]"
      ]
     },
     "execution_count": 7,
     "metadata": {},
     "output_type": "execute_result"
    }
   ],
   "source": [
    "get_indexes = lambda x, xs: [i for (y, i) in zip(xs, range(len(xs))) if x == y] # a function that give the index of whether a value appear in array or not\n",
    "a=[1,2,2,4,5,6,7,8,9,10]\n",
    "get_indexes(2,a)"
   ]
  },
  {
   "cell_type": "code",
   "execution_count": 8,
   "metadata": {
    "execution": {
     "iopub.execute_input": "2020-07-20T08:01:32.953178Z",
     "iopub.status.busy": "2020-07-20T08:01:32.951607Z",
     "iopub.status.idle": "2020-07-20T08:01:32.955417Z",
     "shell.execute_reply": "2020-07-20T08:01:32.954846Z"
    }
   },
   "outputs": [],
   "source": [
    "def feature_building(protein_a_list_new,protein_b_list_new):\n",
    "    x = np.unique(domain_id_list)\n",
    "    ## To avoid taking repeated domains from one protein of the pairs , lets reduced the domains of each protein from the pairs to their unique members\n",
    "    protein_a_list_unique=[]\n",
    "    protein_b_list_unique=[]\n",
    "    for i in np.arange(0,len(protein_a_list_new)):\n",
    "        protein_a_list_unique.append(np.unique(protein_a_list_new[i]))\n",
    "        protein_b_list_unique.append(np.unique(protein_b_list_new[i]))\n",
    "        \n",
    "    protein_feat_true=np.zeros(shape=(len(x),len(protein_a_list_unique)))\n",
    "    pair_a_b_array=[]\n",
    "    for i in np.arange(0,len(protein_a_list_unique)):\n",
    "        index_a=[]\n",
    "        \n",
    "        pair=[protein_a_list_unique[i],protein_b_list_unique[i]]\n",
    "        pair_a_b=np.concatenate(pair).ravel()\n",
    "        pair_a_b_array.append(pair_a_b)\n",
    "\n",
    "    j=0\n",
    "    for i in pair_a_b_array:  \n",
    "        array,index,counts=np.unique(i,return_index=True,return_counts=True)\n",
    "        \n",
    "        for k,m in zip(counts,array):\n",
    "            if k ==2:\n",
    "                protein_feat_true[get_indexes(m,x),j]=2\n",
    "                \n",
    "            if k==1:\n",
    "                protein_feat_true[get_indexes(m,x),j]=1\n",
    "        j=j+1\n",
    "    return protein_feat_true"
   ]
  },
  {
   "cell_type": "code",
   "execution_count": 9,
   "metadata": {
    "execution": {
     "iopub.execute_input": "2020-07-20T08:01:32.965283Z",
     "iopub.status.busy": "2020-07-20T08:01:32.964583Z",
     "iopub.status.idle": "2020-07-20T08:01:33.641577Z",
     "shell.execute_reply": "2020-07-20T08:01:33.640861Z"
    }
   },
   "outputs": [],
   "source": [
    "protein_feat_true=feature_building(protein_b_list_new=protein_b_list_new,protein_a_list_new=protein_a_list_new)\n",
    "protein_feat_true_pd=pd.DataFrame(protein_feat_true.T)\n",
    "\n",
    "protein_feat_non_true=feature_building(protein_b_list_new=protein_b_list_non_new,protein_a_list_new=protein_a_list_non_new)\n",
    "protein_feat_non_true_pd=pd.DataFrame(protein_feat_non_true.T)"
   ]
  },
  {
   "cell_type": "markdown",
   "metadata": {},
   "source": [
    "### How many ones and twos are in each dataset"
   ]
  },
  {
   "cell_type": "code",
   "execution_count": 10,
   "metadata": {
    "execution": {
     "iopub.execute_input": "2020-07-20T08:01:33.649404Z",
     "iopub.status.busy": "2020-07-20T08:01:33.648624Z",
     "iopub.status.idle": "2020-07-20T08:01:33.758822Z",
     "shell.execute_reply": "2020-07-20T08:01:33.759562Z"
    }
   },
   "outputs": [
    {
     "name": "stdout",
     "output_type": "stream",
     "text": [
      "fraction of twos in the SL array is 2.7805669267011662e-05\n",
      "fraction of ones in the SL array is 0.000969336525836101\n",
      "fraction of twos in the PI array is 9.699125058093717e-06\n",
      "fraction of ones in the PI array is 0.0009270747034694579\n"
     ]
    }
   ],
   "source": [
    "index_2_true=protein_feat_true_pd.where(protein_feat_true_pd==2)\n",
    "index_2_true_count=index_2_true.count(axis=1).sum()\n",
    "\n",
    "index_1_true=protein_feat_true_pd.where(protein_feat_true_pd==1)\n",
    "index_1_true_count=index_1_true.count(axis=1).sum()\n",
    "\n",
    "index_2_nontrue=protein_feat_non_true_pd.where(protein_feat_non_true_pd==2)\n",
    "index_2_nontrue_count=index_2_nontrue.count(axis=1).sum()\n",
    "\n",
    "index_1_nontrue=protein_feat_non_true_pd.where(protein_feat_non_true_pd==1)\n",
    "index_1_nontrue_count=index_1_nontrue.count(axis=1).sum()\n",
    "\n",
    "\n",
    "print('fraction of twos in the SL array is',index_2_true_count/(len(protein_feat_true_pd.index)*len(protein_feat_true_pd.columns)))\n",
    "print('fraction of ones in the SL array is',index_1_true_count/(len(protein_feat_true_pd.index)*len(protein_feat_true_pd.columns)))\n",
    "print('fraction of twos in the PI array is',index_2_nontrue_count/(len(protein_feat_non_true_pd.index)*len(protein_feat_non_true_pd.columns)))\n",
    "print('fraction of ones in the PI array is',index_1_nontrue_count/(len(protein_feat_non_true_pd.index)*len(protein_feat_non_true_pd.columns)))"
   ]
  },
  {
   "cell_type": "markdown",
   "metadata": {},
   "source": [
    "#### Bar plot to visualize these numbers"
   ]
  },
  {
   "cell_type": "code",
   "execution_count": 11,
   "metadata": {
    "execution": {
     "iopub.execute_input": "2020-07-20T08:01:33.785027Z",
     "iopub.status.busy": "2020-07-20T08:01:33.782028Z",
     "iopub.status.idle": "2020-07-20T08:01:34.214073Z",
     "shell.execute_reply": "2020-07-20T08:01:34.212927Z"
    }
   },
   "outputs": [
    {
     "data": {
      "text/plain": [
       "([0, 1, 2, 3],\n",
       " [Text(0, 0, ''), Text(0, 0, ''), Text(0, 0, ''), Text(0, 0, '')])"
      ]
     },
     "execution_count": 11,
     "metadata": {},
     "output_type": "execute_result"
    },
    {
     "data": {
      "image/png": "[encoded data removed]",
      "text/plain": [
       "<Figure size 432x288 with 1 Axes>"
      ]
     },
     "metadata": {
      "filenames": {
       "image/png": "/home/runner/work/jupyter-book/jupyter-book/mini_book/docs/_build/jupyter_execute/prot_domains2lethality-FEATURES-POSTPROCESSING_18_1.png"
      },
      "needs_background": "light"
     },
     "output_type": "display_data"
    }
   ],
   "source": [
    "plt.bar(['fraction of 2 in the nSL','fraction of 1 in the nSL'],[index_2_nontrue_count/(len(protein_feat_non_true_pd.index)*len(protein_feat_non_true_pd.columns)),index_1_nontrue_count/(len(protein_feat_non_true_pd.index)*len(protein_feat_non_true_pd.columns))],alpha=0.6,color=['blue','lightblue']), \n",
    "\n",
    "plt.bar(['fraction of 2 in SL ','fraction of 1 in SL'],[index_2_true_count/(len(protein_feat_true_pd.index)*len(protein_feat_true_pd.columns)),index_1_true_count/(len(protein_feat_true_pd.index)*len(protein_feat_true_pd.columns))],alpha=0.6,color=['coral','lightcoral'])\n",
    "\n",
    "plt.ylabel('Fraction from the population')\n",
    "plt.yscale('log')\n",
    "plt.xticks(rotation=40)"
   ]
  },
  {
   "cell_type": "markdown",
   "metadata": {},
   "source": [
    "#### Adding the labels(response variables) to each dataset"
   ]
  },
  {
   "cell_type": "code",
   "execution_count": 12,
   "metadata": {
    "execution": {
     "iopub.execute_input": "2020-07-20T08:01:34.219921Z",
     "iopub.status.busy": "2020-07-20T08:01:34.218560Z",
     "iopub.status.idle": "2020-07-20T08:01:34.222701Z",
     "shell.execute_reply": "2020-07-20T08:01:34.222281Z"
    }
   },
   "outputs": [],
   "source": [
    "protein_feat_true_pd['lethality']=np.ones(shape=(len(protein_a_list_new)))\n",
    "protein_feat_non_true_pd['lethality']=np.zeros(shape=(len(protein_a_list_non_new)))"
   ]
  },
  {
   "cell_type": "markdown",
   "metadata": {},
   "source": [
    "#### Joining both datasets"
   ]
  },
  {
   "cell_type": "code",
   "execution_count": 13,
   "metadata": {
    "execution": {
     "iopub.execute_input": "2020-07-20T08:01:34.227655Z",
     "iopub.status.busy": "2020-07-20T08:01:34.226756Z",
     "iopub.status.idle": "2020-07-20T08:01:34.262794Z",
     "shell.execute_reply": "2020-07-20T08:01:34.262344Z"
    }
   },
   "outputs": [
    {
     "name": "stdout",
     "output_type": "stream",
     "text": [
      "The number of features are: 3026\n",
      "The number of samples are: 837\n"
     ]
    }
   ],
   "source": [
    "feature_post=pd.concat([protein_feat_true_pd,protein_feat_non_true_pd],axis=0)\n",
    "feature_post=feature_post.set_index(np.arange(0,len(protein_a_list_new)+len(protein_a_list_non_new)))\n",
    "print('The number of features are:',feature_post.shape[1])\n",
    "print('The number of samples are:',feature_post.shape[0])"
   ]
  },
  {
   "cell_type": "markdown",
   "metadata": {},
   "source": [
    "### Postprocessing and exploration of the feature matrix of both datasets"
   ]
  },
  {
   "cell_type": "code",
   "execution_count": 14,
   "metadata": {
    "execution": {
     "iopub.execute_input": "2020-07-20T08:01:34.269468Z",
     "iopub.status.busy": "2020-07-20T08:01:34.267784Z",
     "iopub.status.idle": "2020-07-20T08:01:38.341057Z",
     "shell.execute_reply": "2020-07-20T08:01:38.340371Z"
    }
   },
   "outputs": [],
   "source": [
    "mean=feature_post.T.describe().loc['mean']\n",
    "std=feature_post.T.describe().loc['std']\n",
    "lethality=feature_post['lethality']\n",
    "\n",
    "corr_keys=pd.concat([mean,std,lethality],axis=1)"
   ]
  },
  {
   "cell_type": "markdown",
   "metadata": {},
   "source": [
    "### Viz of the stats"
   ]
  },
  {
   "cell_type": "code",
   "execution_count": 15,
   "metadata": {
    "execution": {
     "iopub.execute_input": "2020-07-20T08:01:38.373672Z",
     "iopub.status.busy": "2020-07-20T08:01:38.359852Z",
     "iopub.status.idle": "2020-07-20T08:01:40.065807Z",
     "shell.execute_reply": "2020-07-20T08:01:40.066242Z"
    }
   },
   "outputs": [
    {
     "data": {
      "text/plain": [
       "Text(0.5, 1.08, 'Pairplot to see data dependencies with Lethality')"
      ]
     },
     "execution_count": 15,
     "metadata": {},
     "output_type": "execute_result"
    },
    {
     "data": {
      "image/png": "[encoded data removed]",
      "text/plain": [
       "<Figure size 412x360 with 6 Axes>"
      ]
     },
     "metadata": {
      "filenames": {
       "image/png": "/home/runner/work/jupyter-book/jupyter-book/mini_book/docs/_build/jupyter_execute/prot_domains2lethality-FEATURES-POSTPROCESSING_26_1.png"
      },
      "needs_background": "light"
     },
     "output_type": "display_data"
    }
   ],
   "source": [
    "pair=sns.pairplot(corr_keys,hue='lethality',diag_kind='kde',kind='reg',palette='colorblind')\n",
    "pair.fig.suptitle('Pairplot to see data dependencies with Lethality',y=1.08)"
   ]
  },
  {
   "cell_type": "code",
   "execution_count": 16,
   "metadata": {
    "execution": {
     "iopub.execute_input": "2020-07-20T08:01:40.076999Z",
     "iopub.status.busy": "2020-07-20T08:01:40.070357Z",
     "iopub.status.idle": "2020-07-20T08:01:40.080165Z",
     "shell.execute_reply": "2020-07-20T08:01:40.079681Z"
    }
   },
   "outputs": [],
   "source": [
    "X, y = feature_post.drop(columns=[\"lethality\"]), feature_post[\"lethality\"]"
   ]
  },
  {
   "cell_type": "code",
   "execution_count": 17,
   "metadata": {
    "execution": {
     "iopub.execute_input": "2020-07-20T08:01:40.085068Z",
     "iopub.status.busy": "2020-07-20T08:01:40.084309Z",
     "iopub.status.idle": "2020-07-20T08:01:40.230337Z",
     "shell.execute_reply": "2020-07-20T08:01:40.230777Z"
    }
   },
   "outputs": [],
   "source": [
    "from sklearn.preprocessing import StandardScaler\n",
    "scaler = StandardScaler()\n",
    "x_sl=protein_feat_true_pd.drop(columns=['lethality'])\n",
    "x_nsl=protein_feat_non_true_pd.drop(columns=['lethality'])\n",
    "\n",
    "X_sl_scaled = scaler.fit_transform(x_sl)\n",
    "X_nsl_scaled = scaler.fit_transform(x_nsl)"
   ]
  },
  {
   "cell_type": "code",
   "execution_count": 18,
   "metadata": {
    "execution": {
     "iopub.execute_input": "2020-07-20T08:01:40.235738Z",
     "iopub.status.busy": "2020-07-20T08:01:40.235223Z",
     "iopub.status.idle": "2020-07-20T08:01:40.240612Z",
     "shell.execute_reply": "2020-07-20T08:01:40.240188Z"
    }
   },
   "outputs": [
    {
     "data": {
      "text/plain": [
       "(428, 3025)"
      ]
     },
     "execution_count": 18,
     "metadata": {},
     "output_type": "execute_result"
    }
   ],
   "source": [
    "np.shape(X_sl_scaled)"
   ]
  },
  {
   "cell_type": "markdown",
   "metadata": {},
   "source": [
    "## How redundant are each of the protein domains?"
   ]
  },
  {
   "cell_type": "code",
   "execution_count": 19,
   "metadata": {
    "execution": {
     "iopub.execute_input": "2020-07-20T08:01:40.249485Z",
     "iopub.status.busy": "2020-07-20T08:01:40.248956Z",
     "iopub.status.idle": "2020-07-20T08:01:40.252048Z",
     "shell.execute_reply": "2020-07-20T08:01:40.252503Z"
    }
   },
   "outputs": [],
   "source": [
    "def PCA_component_contribution(scaled_matrix,original_data):\n",
    "    from sklearn.decomposition import PCA\n",
    "\n",
    "    model = PCA(0.95).fit(scaled_matrix)\n",
    "    ## apply dimensionality reduction to X_train\n",
    "    output_pca = model.transform(scaled_matrix)\n",
    "    \n",
    "    total=sum(model.explained_variance_)\n",
    "\n",
    "\n",
    "   \n",
    "    # number of components , that it will be the number of main axes times the number of original components \n",
    "    n_pcs= model.components_.shape[0] # the amount of non redundant protein domains \n",
    "\n",
    "    # get the index of the most important feature on EACH component\n",
    "    # LIST COMPREHENSION HERE\n",
    "    most_important = [np.abs(model.components_[i]).argmax() for i in range(n_pcs)]\n",
    "\n",
    "    initial_feature_names = original_data.columns\n",
    "    # get the names\n",
    "    most_important_names = [initial_feature_names[most_important[i]] for i in range(n_pcs)]\n",
    "    \n",
    "\n",
    "    # LIST COMPREHENSION HERE AGAIN\n",
    "    dic = {'PC{}'.format(i): most_important_names[i] for i in range(n_pcs)}\n",
    "\n",
    "    # build the dataframe\n",
    "    df = pd.DataFrame(dic.items(),columns=['pca-component','domain-number'])\n",
    "\n",
    "    return df,model.components_"
   ]
  },
  {
   "cell_type": "code",
   "execution_count": 20,
   "metadata": {
    "execution": {
     "iopub.execute_input": "2020-07-20T08:01:40.256649Z",
     "iopub.status.busy": "2020-07-20T08:01:40.256134Z",
     "iopub.status.idle": "2020-07-20T08:01:40.969687Z",
     "shell.execute_reply": "2020-07-20T08:01:40.970469Z"
    }
   },
   "outputs": [],
   "source": [
    "df_sl,components_pca_nsl=PCA_component_contribution(X_nsl_scaled,x_nsl)\n",
    "df_nsl,components_pca_sl=PCA_component_contribution(X_sl_scaled,x_sl)"
   ]
  },
  {
   "cell_type": "code",
   "execution_count": 21,
   "metadata": {
    "execution": {
     "iopub.execute_input": "2020-07-20T08:01:40.974378Z",
     "iopub.status.busy": "2020-07-20T08:01:40.973329Z",
     "iopub.status.idle": "2020-07-20T08:01:40.983941Z",
     "shell.execute_reply": "2020-07-20T08:01:40.984668Z"
    }
   },
   "outputs": [
    {
     "data": {
      "text/html": [
       "<div>\n",
       "<style scoped>\n",
       "    .dataframe tbody tr th:only-of-type {\n",
       "        vertical-align: middle;\n",
       "    }\n",
       "\n",
       "    .dataframe tbody tr th {\n",
       "        vertical-align: top;\n",
       "    }\n",
       "\n",
       "    .dataframe thead th {\n",
       "        text-align: right;\n",
       "    }\n",
       "</style>\n",
       "<table border=\"1\" class=\"dataframe\">\n",
       "  <thead>\n",
       "    <tr style=\"text-align: right;\">\n",
       "      <th></th>\n",
       "      <th>pca-component</th>\n",
       "      <th>domain-number</th>\n",
       "    </tr>\n",
       "  </thead>\n",
       "  <tbody>\n",
       "    <tr>\n",
       "      <th>0</th>\n",
       "      <td>PC0</td>\n",
       "      <td>142</td>\n",
       "    </tr>\n",
       "    <tr>\n",
       "      <th>1</th>\n",
       "      <td>PC1</td>\n",
       "      <td>2771</td>\n",
       "    </tr>\n",
       "    <tr>\n",
       "      <th>2</th>\n",
       "      <td>PC2</td>\n",
       "      <td>135</td>\n",
       "    </tr>\n",
       "    <tr>\n",
       "      <th>3</th>\n",
       "      <td>PC3</td>\n",
       "      <td>1464</td>\n",
       "    </tr>\n",
       "    <tr>\n",
       "      <th>4</th>\n",
       "      <td>PC4</td>\n",
       "      <td>202</td>\n",
       "    </tr>\n",
       "  </tbody>\n",
       "</table>\n",
       "</div>"
      ],
      "text/plain": [
       "  pca-component  domain-number\n",
       "0           PC0            142\n",
       "1           PC1           2771\n",
       "2           PC2            135\n",
       "3           PC3           1464\n",
       "4           PC4            202"
      ]
     },
     "execution_count": 21,
     "metadata": {},
     "output_type": "execute_result"
    }
   ],
   "source": [
    "df_sl.head()"
   ]
  },
  {
   "cell_type": "markdown",
   "metadata": {},
   "source": [
    "## which are the shared domains between nSL and SL pairs , in the PCA reduced samples"
   ]
  },
  {
   "cell_type": "code",
   "execution_count": 22,
   "metadata": {
    "execution": {
     "iopub.execute_input": "2020-07-20T08:01:40.987861Z",
     "iopub.status.busy": "2020-07-20T08:01:40.986823Z",
     "iopub.status.idle": "2020-07-20T08:01:41.017088Z",
     "shell.execute_reply": "2020-07-20T08:01:41.017809Z"
    }
   },
   "outputs": [
    {
     "data": {
      "text/html": [
       "<div>\n",
       "<style scoped>\n",
       "    .dataframe tbody tr th:only-of-type {\n",
       "        vertical-align: middle;\n",
       "    }\n",
       "\n",
       "    .dataframe tbody tr th {\n",
       "        vertical-align: top;\n",
       "    }\n",
       "\n",
       "    .dataframe thead th {\n",
       "        text-align: right;\n",
       "    }\n",
       "</style>\n",
       "<table border=\"1\" class=\"dataframe\">\n",
       "  <thead>\n",
       "    <tr style=\"text-align: right;\">\n",
       "      <th></th>\n",
       "      <th>pca-component_x</th>\n",
       "      <th>domain-number</th>\n",
       "      <th>pca-component_y</th>\n",
       "      <th>domain-description</th>\n",
       "    </tr>\n",
       "  </thead>\n",
       "  <tbody>\n",
       "    <tr>\n",
       "      <th>0</th>\n",
       "      <td>PC9</td>\n",
       "      <td>463</td>\n",
       "      <td>PC6</td>\n",
       "      <td>Chitin_synth_1N; Chitin synthase N-terminal</td>\n",
       "    </tr>\n",
       "    <tr>\n",
       "      <th>1</th>\n",
       "      <td>PC13</td>\n",
       "      <td>77</td>\n",
       "      <td>PC49</td>\n",
       "      <td>AMP-binding; AMP-dependent synthetase/ligase</td>\n",
       "    </tr>\n",
       "    <tr>\n",
       "      <th>2</th>\n",
       "      <td>PC17</td>\n",
       "      <td>274</td>\n",
       "      <td>PC39</td>\n",
       "      <td>BOP1NT; BOP1, N-terminal domain</td>\n",
       "    </tr>\n",
       "    <tr>\n",
       "      <th>3</th>\n",
       "      <td>PC19</td>\n",
       "      <td>274</td>\n",
       "      <td>PC39</td>\n",
       "      <td>BOP1NT; BOP1, N-terminal domain</td>\n",
       "    </tr>\n",
       "    <tr>\n",
       "      <th>4</th>\n",
       "      <td>PC18</td>\n",
       "      <td>1887</td>\n",
       "      <td>PC86</td>\n",
       "      <td>Peptidase_S24; Peptidase S24/S26A/S26B/S26C</td>\n",
       "    </tr>\n",
       "    <tr>\n",
       "      <th>...</th>\n",
       "      <td>...</td>\n",
       "      <td>...</td>\n",
       "      <td>...</td>\n",
       "      <td>...</td>\n",
       "    </tr>\n",
       "    <tr>\n",
       "      <th>61</th>\n",
       "      <td>PC231</td>\n",
       "      <td>1094</td>\n",
       "      <td>PC199</td>\n",
       "      <td>HAND; ISWI, HAND domain</td>\n",
       "    </tr>\n",
       "    <tr>\n",
       "      <th>62</th>\n",
       "      <td>PC244</td>\n",
       "      <td>2551</td>\n",
       "      <td>PC200</td>\n",
       "      <td>TAF4; Transcription initiation factor TFIID co...</td>\n",
       "    </tr>\n",
       "    <tr>\n",
       "      <th>63</th>\n",
       "      <td>PC247</td>\n",
       "      <td>1410</td>\n",
       "      <td>PC168</td>\n",
       "      <td>MTHFR; Methylenetetrahydrofolate reductase</td>\n",
       "    </tr>\n",
       "    <tr>\n",
       "      <th>64</th>\n",
       "      <td>PC247</td>\n",
       "      <td>1410</td>\n",
       "      <td>PC272</td>\n",
       "      <td>MTHFR; Methylenetetrahydrofolate reductase</td>\n",
       "    </tr>\n",
       "    <tr>\n",
       "      <th>65</th>\n",
       "      <td>PC256</td>\n",
       "      <td>1063</td>\n",
       "      <td>PC251</td>\n",
       "      <td>Glyco_transf_20; Glycosyl transferase, family 20</td>\n",
       "    </tr>\n",
       "  </tbody>\n",
       "</table>\n",
       "<p>66 rows × 4 columns</p>\n",
       "</div>"
      ],
      "text/plain": [
       "   pca-component_x  domain-number pca-component_y  \\\n",
       "0              PC9            463             PC6   \n",
       "1             PC13             77            PC49   \n",
       "2             PC17            274            PC39   \n",
       "3             PC19            274            PC39   \n",
       "4             PC18           1887            PC86   \n",
       "..             ...            ...             ...   \n",
       "61           PC231           1094           PC199   \n",
       "62           PC244           2551           PC200   \n",
       "63           PC247           1410           PC168   \n",
       "64           PC247           1410           PC272   \n",
       "65           PC256           1063           PC251   \n",
       "\n",
       "                                   domain-description  \n",
       "0         Chitin_synth_1N; Chitin synthase N-terminal  \n",
       "1        AMP-binding; AMP-dependent synthetase/ligase  \n",
       "2                     BOP1NT; BOP1, N-terminal domain  \n",
       "3                     BOP1NT; BOP1, N-terminal domain  \n",
       "4         Peptidase_S24; Peptidase S24/S26A/S26B/S26C  \n",
       "..                                                ...  \n",
       "61                            HAND; ISWI, HAND domain  \n",
       "62  TAF4; Transcription initiation factor TFIID co...  \n",
       "63         MTHFR; Methylenetetrahydrofolate reductase  \n",
       "64         MTHFR; Methylenetetrahydrofolate reductase  \n",
       "65   Glyco_transf_20; Glycosyl transferase, family 20  \n",
       "\n",
       "[66 rows x 4 columns]"
      ]
     },
     "execution_count": 22,
     "metadata": {},
     "output_type": "execute_result"
    }
   ],
   "source": [
    "df_shared_domains=pd.merge(df_sl,df_nsl,how='inner',on='domain-number')\n",
    "domains_name=np.unique(data_domains['domain-name'])\n",
    "domains_description=np.unique(data_domains['domain-descrip'])\n",
    "\n",
    "df_shared_domains['domain-description']=domains_description[df_shared_domains['domain-number']]\n",
    "\n",
    "\n",
    "df_shared_domains"
   ]
  },
  {
   "cell_type": "code",
   "execution_count": 23,
   "metadata": {
    "execution": {
     "iopub.execute_input": "2020-07-20T08:01:41.021079Z",
     "iopub.status.busy": "2020-07-20T08:01:41.019977Z",
     "iopub.status.idle": "2020-07-20T08:01:41.027253Z",
     "shell.execute_reply": "2020-07-20T08:01:41.027985Z"
    }
   },
   "outputs": [
    {
     "name": "stdout",
     "output_type": "stream",
     "text": [
      "The number of shared domains between SL and nSL pairs,after PCA, is =  66 out of 548 so the 12.043795620437956 %\n"
     ]
    }
   ],
   "source": [
    "print('The number of shared domains between SL and nSL pairs,after PCA, is = ',len(df_shared_domains), 'out of', len(df_sl)+len(df_nsl), 'so the',100*len(df_shared_domains)/(len(df_sl)+len(df_nsl)),'%')"
   ]
  },
  {
   "cell_type": "markdown",
   "metadata": {},
   "source": [
    "## Domains exclusive to SL"
   ]
  },
  {
   "cell_type": "code",
   "execution_count": 24,
   "metadata": {
    "execution": {
     "iopub.execute_input": "2020-07-20T08:01:41.031195Z",
     "iopub.status.busy": "2020-07-20T08:01:41.030170Z",
     "iopub.status.idle": "2020-07-20T08:01:41.060974Z",
     "shell.execute_reply": "2020-07-20T08:01:41.061696Z"
    }
   },
   "outputs": [
    {
     "data": {
      "text/html": [
       "<div>\n",
       "<style scoped>\n",
       "    .dataframe tbody tr th:only-of-type {\n",
       "        vertical-align: middle;\n",
       "    }\n",
       "\n",
       "    .dataframe tbody tr th {\n",
       "        vertical-align: top;\n",
       "    }\n",
       "\n",
       "    .dataframe thead th {\n",
       "        text-align: right;\n",
       "    }\n",
       "</style>\n",
       "<table border=\"1\" class=\"dataframe\">\n",
       "  <thead>\n",
       "    <tr style=\"text-align: right;\">\n",
       "      <th></th>\n",
       "      <th>pca-component_x</th>\n",
       "      <th>domain-number</th>\n",
       "      <th>pca-component_y</th>\n",
       "      <th>domain-description</th>\n",
       "    </tr>\n",
       "  </thead>\n",
       "  <tbody>\n",
       "    <tr>\n",
       "      <th>0</th>\n",
       "      <td>PC0</td>\n",
       "      <td>142</td>\n",
       "      <td>NaN</td>\n",
       "      <td>ATP_synt_H; ATPase, V0 complex, subunit e1/e2</td>\n",
       "    </tr>\n",
       "    <tr>\n",
       "      <th>1</th>\n",
       "      <td>PC1</td>\n",
       "      <td>2771</td>\n",
       "      <td>NaN</td>\n",
       "      <td>Ubiq-assoc; Ubiquitin-associated domain, SWA2-...</td>\n",
       "    </tr>\n",
       "    <tr>\n",
       "      <th>2</th>\n",
       "      <td>PC2</td>\n",
       "      <td>135</td>\n",
       "      <td>NaN</td>\n",
       "      <td>ATP-synt_ab_Xtn; ATPsynthase alpha/beta subuni...</td>\n",
       "    </tr>\n",
       "    <tr>\n",
       "      <th>3</th>\n",
       "      <td>PC3</td>\n",
       "      <td>1464</td>\n",
       "      <td>NaN</td>\n",
       "      <td>Metallophos_2; Calcineurin-like phosphoesteras...</td>\n",
       "    </tr>\n",
       "    <tr>\n",
       "      <th>4</th>\n",
       "      <td>PC4</td>\n",
       "      <td>202</td>\n",
       "      <td>NaN</td>\n",
       "      <td>Aminotran_1_2; Aminotransferase, class I/classII</td>\n",
       "    </tr>\n",
       "    <tr>\n",
       "      <th>...</th>\n",
       "      <td>...</td>\n",
       "      <td>...</td>\n",
       "      <td>...</td>\n",
       "      <td>...</td>\n",
       "    </tr>\n",
       "    <tr>\n",
       "      <th>285</th>\n",
       "      <td>PC268</td>\n",
       "      <td>2032</td>\n",
       "      <td>NaN</td>\n",
       "      <td>RNA_pol_Rpc4; DNA-directed RNA polymerase III ...</td>\n",
       "    </tr>\n",
       "    <tr>\n",
       "      <th>286</th>\n",
       "      <td>PC269</td>\n",
       "      <td>2302</td>\n",
       "      <td>NaN</td>\n",
       "      <td>SBF_like; Putative sodium bile acid cotransporter</td>\n",
       "    </tr>\n",
       "    <tr>\n",
       "      <th>287</th>\n",
       "      <td>PC270</td>\n",
       "      <td>1707</td>\n",
       "      <td>NaN</td>\n",
       "      <td>PBP; Phosphatidylethanolamine-binding protein</td>\n",
       "    </tr>\n",
       "    <tr>\n",
       "      <th>288</th>\n",
       "      <td>PC271</td>\n",
       "      <td>1458</td>\n",
       "      <td>NaN</td>\n",
       "      <td>Mem_trans; Membrane transport protein</td>\n",
       "    </tr>\n",
       "    <tr>\n",
       "      <th>289</th>\n",
       "      <td>PC272</td>\n",
       "      <td>1650</td>\n",
       "      <td>NaN</td>\n",
       "      <td>Nup188; Nucleoporin Nup188</td>\n",
       "    </tr>\n",
       "  </tbody>\n",
       "</table>\n",
       "<p>224 rows × 4 columns</p>\n",
       "</div>"
      ],
      "text/plain": [
       "    pca-component_x  domain-number pca-component_y  \\\n",
       "0               PC0            142             NaN   \n",
       "1               PC1           2771             NaN   \n",
       "2               PC2            135             NaN   \n",
       "3               PC3           1464             NaN   \n",
       "4               PC4            202             NaN   \n",
       "..              ...            ...             ...   \n",
       "285           PC268           2032             NaN   \n",
       "286           PC269           2302             NaN   \n",
       "287           PC270           1707             NaN   \n",
       "288           PC271           1458             NaN   \n",
       "289           PC272           1650             NaN   \n",
       "\n",
       "                                    domain-description  \n",
       "0        ATP_synt_H; ATPase, V0 complex, subunit e1/e2  \n",
       "1    Ubiq-assoc; Ubiquitin-associated domain, SWA2-...  \n",
       "2    ATP-synt_ab_Xtn; ATPsynthase alpha/beta subuni...  \n",
       "3    Metallophos_2; Calcineurin-like phosphoesteras...  \n",
       "4     Aminotran_1_2; Aminotransferase, class I/classII  \n",
       "..                                                 ...  \n",
       "285  RNA_pol_Rpc4; DNA-directed RNA polymerase III ...  \n",
       "286  SBF_like; Putative sodium bile acid cotransporter  \n",
       "287      PBP; Phosphatidylethanolamine-binding protein  \n",
       "288              Mem_trans; Membrane transport protein  \n",
       "289                         Nup188; Nucleoporin Nup188  \n",
       "\n",
       "[224 rows x 4 columns]"
      ]
     },
     "execution_count": 24,
     "metadata": {},
     "output_type": "execute_result"
    }
   ],
   "source": [
    "df_sl_exclusive=pd.merge(df_sl,df_nsl,how='left',on='domain-number')\n",
    "\n",
    "domains_name=np.unique(data_domains['domain-name'])\n",
    "domains_description=np.unique(data_domains['domain-descrip'])\n",
    "\n",
    "df_sl_exclusive['domain-description']=domains_description[df_sl_exclusive['domain-number']]\n",
    "df_sl_exclusive[pd.isnull(df_sl_exclusive['pca-component_y'])]"
   ]
  },
  {
   "cell_type": "code",
   "execution_count": 25,
   "metadata": {
    "execution": {
     "iopub.execute_input": "2020-07-20T08:01:41.064928Z",
     "iopub.status.busy": "2020-07-20T08:01:41.063802Z",
     "iopub.status.idle": "2020-07-20T08:01:41.070864Z",
     "shell.execute_reply": "2020-07-20T08:01:41.071710Z"
    }
   },
   "outputs": [
    {
     "name": "stdout",
     "output_type": "stream",
     "text": [
      "The number of exclusive domains from SL pairs, after PCA, is =  290 out of 548 so the 52.91970802919708 %\n"
     ]
    }
   ],
   "source": [
    "print('The number of exclusive domains from SL pairs, after PCA, is = ',len(df_sl_exclusive), 'out of', len(df_sl)+len(df_nsl), 'so the',100*len(df_sl_exclusive)/(len(df_sl)+len(df_nsl)),'%')"
   ]
  },
  {
   "cell_type": "code",
   "execution_count": 26,
   "metadata": {
    "execution": {
     "iopub.execute_input": "2020-07-20T08:01:41.074760Z",
     "iopub.status.busy": "2020-07-20T08:01:41.073721Z",
     "iopub.status.idle": "2020-07-20T08:01:41.106052Z",
     "shell.execute_reply": "2020-07-20T08:01:41.105164Z"
    }
   },
   "outputs": [
    {
     "data": {
      "text/html": [
       "<div>\n",
       "<style scoped>\n",
       "    .dataframe tbody tr th:only-of-type {\n",
       "        vertical-align: middle;\n",
       "    }\n",
       "\n",
       "    .dataframe tbody tr th {\n",
       "        vertical-align: top;\n",
       "    }\n",
       "\n",
       "    .dataframe thead th {\n",
       "        text-align: right;\n",
       "    }\n",
       "</style>\n",
       "<table border=\"1\" class=\"dataframe\">\n",
       "  <thead>\n",
       "    <tr style=\"text-align: right;\">\n",
       "      <th></th>\n",
       "      <th>pca-component_x</th>\n",
       "      <th>domain-number</th>\n",
       "      <th>pca-component_y</th>\n",
       "      <th>domain-description</th>\n",
       "    </tr>\n",
       "  </thead>\n",
       "  <tbody>\n",
       "    <tr>\n",
       "      <th>66</th>\n",
       "      <td>NaN</td>\n",
       "      <td>1028</td>\n",
       "      <td>PC0</td>\n",
       "      <td>GatB_Yqey; Asn/Gln amidotransferase</td>\n",
       "    </tr>\n",
       "    <tr>\n",
       "      <th>67</th>\n",
       "      <td>NaN</td>\n",
       "      <td>1373</td>\n",
       "      <td>PC2</td>\n",
       "      <td>MIS13; Kinetochore-associated protein Dsn1/Mis13</td>\n",
       "    </tr>\n",
       "    <tr>\n",
       "      <th>68</th>\n",
       "      <td>NaN</td>\n",
       "      <td>305</td>\n",
       "      <td>PC3</td>\n",
       "      <td>Brr6_like_C_C; Brl1/Brr6 domain</td>\n",
       "    </tr>\n",
       "    <tr>\n",
       "      <th>69</th>\n",
       "      <td>NaN</td>\n",
       "      <td>1252</td>\n",
       "      <td>PC4</td>\n",
       "      <td>JmjN; JmjN domain</td>\n",
       "    </tr>\n",
       "    <tr>\n",
       "      <th>70</th>\n",
       "      <td>NaN</td>\n",
       "      <td>308</td>\n",
       "      <td>PC5</td>\n",
       "      <td>Bul1_N; Bul1, N-terminal</td>\n",
       "    </tr>\n",
       "    <tr>\n",
       "      <th>...</th>\n",
       "      <td>...</td>\n",
       "      <td>...</td>\n",
       "      <td>...</td>\n",
       "      <td>...</td>\n",
       "    </tr>\n",
       "    <tr>\n",
       "      <th>278</th>\n",
       "      <td>NaN</td>\n",
       "      <td>2757</td>\n",
       "      <td>PC269</td>\n",
       "      <td>UPF0121; TMEM33/Pom33 family</td>\n",
       "    </tr>\n",
       "    <tr>\n",
       "      <th>279</th>\n",
       "      <td>NaN</td>\n",
       "      <td>2757</td>\n",
       "      <td>PC270</td>\n",
       "      <td>UPF0121; TMEM33/Pom33 family</td>\n",
       "    </tr>\n",
       "    <tr>\n",
       "      <th>280</th>\n",
       "      <td>NaN</td>\n",
       "      <td>934</td>\n",
       "      <td>PC271</td>\n",
       "      <td>Folliculin</td>\n",
       "    </tr>\n",
       "    <tr>\n",
       "      <th>281</th>\n",
       "      <td>NaN</td>\n",
       "      <td>1340</td>\n",
       "      <td>PC273</td>\n",
       "      <td>Lysine_decarbox; LOG family</td>\n",
       "    </tr>\n",
       "    <tr>\n",
       "      <th>282</th>\n",
       "      <td>NaN</td>\n",
       "      <td>1145</td>\n",
       "      <td>PC274</td>\n",
       "      <td>HTH_44; Helix-turn-helix DNA-binding domain of...</td>\n",
       "    </tr>\n",
       "  </tbody>\n",
       "</table>\n",
       "<p>217 rows × 4 columns</p>\n",
       "</div>"
      ],
      "text/plain": [
       "    pca-component_x  domain-number pca-component_y  \\\n",
       "66              NaN           1028             PC0   \n",
       "67              NaN           1373             PC2   \n",
       "68              NaN            305             PC3   \n",
       "69              NaN           1252             PC4   \n",
       "70              NaN            308             PC5   \n",
       "..              ...            ...             ...   \n",
       "278             NaN           2757           PC269   \n",
       "279             NaN           2757           PC270   \n",
       "280             NaN            934           PC271   \n",
       "281             NaN           1340           PC273   \n",
       "282             NaN           1145           PC274   \n",
       "\n",
       "                                    domain-description  \n",
       "66                 GatB_Yqey; Asn/Gln amidotransferase  \n",
       "67    MIS13; Kinetochore-associated protein Dsn1/Mis13  \n",
       "68                     Brr6_like_C_C; Brl1/Brr6 domain  \n",
       "69                                   JmjN; JmjN domain  \n",
       "70                            Bul1_N; Bul1, N-terminal  \n",
       "..                                                 ...  \n",
       "278                       UPF0121; TMEM33/Pom33 family  \n",
       "279                       UPF0121; TMEM33/Pom33 family  \n",
       "280                                         Folliculin  \n",
       "281                        Lysine_decarbox; LOG family  \n",
       "282  HTH_44; Helix-turn-helix DNA-binding domain of...  \n",
       "\n",
       "[217 rows x 4 columns]"
      ]
     },
     "execution_count": 26,
     "metadata": {},
     "output_type": "execute_result"
    }
   ],
   "source": [
    "df_nsl_exclusive=pd.merge(df_sl,df_nsl,how='right',on='domain-number')\n",
    "\n",
    "domains_name=np.unique(data_domains['domain-name'])\n",
    "domains_description=np.unique(data_domains['domain-descrip'])\n",
    "\n",
    "df_nsl_exclusive['domain-description']=domains_description[df_nsl_exclusive['domain-number']]\n",
    "df_nsl_exclusive[pd.isnull(df_nsl_exclusive['pca-component_x'])]"
   ]
  },
  {
   "cell_type": "code",
   "execution_count": 27,
   "metadata": {
    "execution": {
     "iopub.execute_input": "2020-07-20T08:01:41.113055Z",
     "iopub.status.busy": "2020-07-20T08:01:41.112464Z",
     "iopub.status.idle": "2020-07-20T08:01:41.117639Z",
     "shell.execute_reply": "2020-07-20T08:01:41.117130Z"
    }
   },
   "outputs": [
    {
     "name": "stdout",
     "output_type": "stream",
     "text": [
      "The number of exclusive domains from non SL pairs, after PCA, is =  283 out of 548 so the 51.64233576642336 %\n"
     ]
    }
   ],
   "source": [
    "print('The number of exclusive domains from non SL pairs, after PCA, is = ',len(df_nsl_exclusive), 'out of', len(df_sl)+len(df_nsl), 'so the',100*len(df_nsl_exclusive)/(len(df_sl)+len(df_nsl)),'%')"
   ]
  },
  {
   "cell_type": "markdown",
   "metadata": {},
   "source": [
    "## Let see to the domains-number that get repeated after the PCA analysis , and selecting the most explanatory feature by its explained variance."
   ]
  },
  {
   "cell_type": "code",
   "execution_count": 28,
   "metadata": {
    "execution": {
     "iopub.execute_input": "2020-07-20T08:01:41.139600Z",
     "iopub.status.busy": "2020-07-20T08:01:41.124370Z",
     "iopub.status.idle": "2020-07-20T08:01:41.142577Z",
     "shell.execute_reply": "2020-07-20T08:01:41.142128Z"
    }
   },
   "outputs": [],
   "source": [
    "duplicated_features_sl=df_sl[df_sl.iloc[:,1].duplicated()]\n",
    "repeated_features_sl=pd.DataFrame()\n",
    "\n",
    "domains_name=np.unique(data_domains['domain-name'])\n",
    "domains_description=np.unique(data_domains['domain-descrip'])\n",
    "\n",
    "repeated_features_sl['domain-name']=domains_name[duplicated_features_sl.iloc[:,1]] \n",
    "repeated_features_sl['domain-description']=domains_description[duplicated_features_sl.iloc[:,1]]\n",
    "\n",
    "duplicated_features_nsl=df_nsl[df_nsl.iloc[:,1].duplicated()]\n",
    "repeated_features_nsl=pd.DataFrame()\n",
    "\n",
    "repeated_features_nsl['domain-name']=domains_name[duplicated_features_nsl.iloc[:,1]] \n",
    "repeated_features_nsl['domain-description']=domains_description[duplicated_features_nsl.iloc[:,1]]"
   ]
  },
  {
   "cell_type": "code",
   "execution_count": 29,
   "metadata": {
    "execution": {
     "iopub.execute_input": "2020-07-20T08:01:41.151894Z",
     "iopub.status.busy": "2020-07-20T08:01:41.150865Z",
     "iopub.status.idle": "2020-07-20T08:01:41.157379Z",
     "shell.execute_reply": "2020-07-20T08:01:41.156931Z"
    }
   },
   "outputs": [
    {
     "name": "stderr",
     "output_type": "stream",
     "text": [
      "/usr/share/miniconda3/envs/wintest/lib/python3.7/site-packages/ipykernel_launcher.py:3: SettingWithCopyWarning: \n",
      "A value is trying to be set on a copy of a slice from a DataFrame.\n",
      "Try using .loc[row_indexer,col_indexer] = value instead\n",
      "\n",
      "See the caveats in the documentation: https://pandas.pydata.org/pandas-docs/stable/user_guide/indexing.html#returning-a-view-versus-a-copy\n",
      "  This is separate from the ipykernel package so we can avoid doing imports until\n"
     ]
    },
    {
     "data": {
      "text/plain": [
       "((36, 4), (290, 4))"
      ]
     },
     "execution_count": 29,
     "metadata": {},
     "output_type": "execute_result"
    }
   ],
   "source": [
    "only_sl_pd=pd.merge(repeated_features_sl,repeated_features_nsl,how='left',on=['domain-name'])\n",
    "data_only_sl = only_sl_pd[pd.isnull(only_sl_pd['domain-description_y'])]\n",
    "data_only_sl['domain-description']=data_only_sl['domain-description_x']\n",
    "data_only_sl.shape,df_sl_exclusive.shape"
   ]
  },
  {
   "cell_type": "code",
   "execution_count": 30,
   "metadata": {
    "execution": {
     "iopub.execute_input": "2020-07-20T08:01:41.182048Z",
     "iopub.status.busy": "2020-07-20T08:01:41.166208Z",
     "iopub.status.idle": "2020-07-20T08:01:41.187129Z",
     "shell.execute_reply": "2020-07-20T08:01:41.187518Z"
    }
   },
   "outputs": [
    {
     "data": {
      "text/html": [
       "<div>\n",
       "<style scoped>\n",
       "    .dataframe tbody tr th:only-of-type {\n",
       "        vertical-align: middle;\n",
       "    }\n",
       "\n",
       "    .dataframe tbody tr th {\n",
       "        vertical-align: top;\n",
       "    }\n",
       "\n",
       "    .dataframe thead th {\n",
       "        text-align: right;\n",
       "    }\n",
       "</style>\n",
       "<table border=\"1\" class=\"dataframe\">\n",
       "  <thead>\n",
       "    <tr style=\"text-align: right;\">\n",
       "      <th></th>\n",
       "      <th>domain-name</th>\n",
       "      <th>domain-description_x</th>\n",
       "      <th>domain-description_y</th>\n",
       "    </tr>\n",
       "  </thead>\n",
       "  <tbody>\n",
       "    <tr>\n",
       "      <th>1</th>\n",
       "      <td>PF00368</td>\n",
       "      <td>NaN</td>\n",
       "      <td>Alb1; Ribosome biogenesis protein Alb1</td>\n",
       "    </tr>\n",
       "    <tr>\n",
       "      <th>2</th>\n",
       "      <td>PF00780</td>\n",
       "      <td>NaN</td>\n",
       "      <td>COG4; Conserved oligomeric Golgi complex, subu...</td>\n",
       "    </tr>\n",
       "    <tr>\n",
       "      <th>3</th>\n",
       "      <td>PF03983</td>\n",
       "      <td>NaN</td>\n",
       "      <td>IU_nuc_hydro; Inosine/uridine-preferring nucle...</td>\n",
       "    </tr>\n",
       "    <tr>\n",
       "      <th>4</th>\n",
       "      <td>PF00580</td>\n",
       "      <td>NaN</td>\n",
       "      <td>BRCT_2; BRCT domain</td>\n",
       "    </tr>\n",
       "    <tr>\n",
       "      <th>5</th>\n",
       "      <td>PF16275</td>\n",
       "      <td>NaN</td>\n",
       "      <td>Yip1; Yip1 domain</td>\n",
       "    </tr>\n",
       "    <tr>\n",
       "      <th>6</th>\n",
       "      <td>PF09402</td>\n",
       "      <td>NaN</td>\n",
       "      <td>Rbsn; Rabenosyn, Rab binding domain</td>\n",
       "    </tr>\n",
       "    <tr>\n",
       "      <th>7</th>\n",
       "      <td>PF01131</td>\n",
       "      <td>NaN</td>\n",
       "      <td>Cohesin_load; Chromatid cohesion factor MAU2</td>\n",
       "    </tr>\n",
       "    <tr>\n",
       "      <th>8</th>\n",
       "      <td>PF01747</td>\n",
       "      <td>NaN</td>\n",
       "      <td>DUF5110; Domain of unknown function DUF5110</td>\n",
       "    </tr>\n",
       "    <tr>\n",
       "      <th>9</th>\n",
       "      <td>PF00498</td>\n",
       "      <td>NaN</td>\n",
       "      <td>Autophagy_act_C; Autophagy-related protein 3</td>\n",
       "    </tr>\n",
       "    <tr>\n",
       "      <th>10</th>\n",
       "      <td>PF01336</td>\n",
       "      <td>NaN</td>\n",
       "      <td>DLIC; Dynein family light intermediate chain</td>\n",
       "    </tr>\n",
       "    <tr>\n",
       "      <th>11</th>\n",
       "      <td>PF08324</td>\n",
       "      <td>NaN</td>\n",
       "      <td>Peptidase_S24; Peptidase S24/S26A/S26B/S26C</td>\n",
       "    </tr>\n",
       "    <tr>\n",
       "      <th>12</th>\n",
       "      <td>PF00202</td>\n",
       "      <td>NaN</td>\n",
       "      <td>APG6; Atg6/Beclin</td>\n",
       "    </tr>\n",
       "    <tr>\n",
       "      <th>13</th>\n",
       "      <td>PF04095</td>\n",
       "      <td>NaN</td>\n",
       "      <td>KilA-N; KilA, N-terminal/APSES-type HTH, DNA-b...</td>\n",
       "    </tr>\n",
       "    <tr>\n",
       "      <th>14</th>\n",
       "      <td>PF03587</td>\n",
       "      <td>NaN</td>\n",
       "      <td>HRXXH; Putative peptidase domain, HRXXH</td>\n",
       "    </tr>\n",
       "    <tr>\n",
       "      <th>15</th>\n",
       "      <td>PF03657</td>\n",
       "      <td>NaN</td>\n",
       "      <td>Hat1_N; Histone acetyl transferase HAT1 N-term...</td>\n",
       "    </tr>\n",
       "    <tr>\n",
       "      <th>16</th>\n",
       "      <td>PF04051</td>\n",
       "      <td>NaN</td>\n",
       "      <td>JAB; JAB1/MPN/MOV34 metalloenzyme domain</td>\n",
       "    </tr>\n",
       "    <tr>\n",
       "      <th>17</th>\n",
       "      <td>PF01603</td>\n",
       "      <td>NaN</td>\n",
       "      <td>DUF2722; Protein of unknown function DUF2722</td>\n",
       "    </tr>\n",
       "    <tr>\n",
       "      <th>18</th>\n",
       "      <td>PF14382</td>\n",
       "      <td>NaN</td>\n",
       "      <td>UCR_hinge; Ubiquinol-cytochrome C reductase hi...</td>\n",
       "    </tr>\n",
       "    <tr>\n",
       "      <th>19</th>\n",
       "      <td>PF00659</td>\n",
       "      <td>NaN</td>\n",
       "      <td>CBS; CBS domain</td>\n",
       "    </tr>\n",
       "    <tr>\n",
       "      <th>20</th>\n",
       "      <td>PF04488</td>\n",
       "      <td>NaN</td>\n",
       "      <td>MDM31_MDM32; Mitochondrial distribution and mo...</td>\n",
       "    </tr>\n",
       "    <tr>\n",
       "      <th>21</th>\n",
       "      <td>PF02301</td>\n",
       "      <td>NaN</td>\n",
       "      <td>FAT; PIK-related kinase, FAT</td>\n",
       "    </tr>\n",
       "    <tr>\n",
       "      <th>22</th>\n",
       "      <td>PF14260</td>\n",
       "      <td>NaN</td>\n",
       "      <td>UBA; Ubiquitin-associated domain</td>\n",
       "    </tr>\n",
       "    <tr>\n",
       "      <th>23</th>\n",
       "      <td>PF09444</td>\n",
       "      <td>NaN</td>\n",
       "      <td>Rer1; Retrieval of early ER protein Rer1</td>\n",
       "    </tr>\n",
       "    <tr>\n",
       "      <th>24</th>\n",
       "      <td>PF05176</td>\n",
       "      <td>NaN</td>\n",
       "      <td>Mo25; Mo25-like</td>\n",
       "    </tr>\n",
       "    <tr>\n",
       "      <th>25</th>\n",
       "      <td>PF00735</td>\n",
       "      <td>NaN</td>\n",
       "      <td>CLP1_P; Polyribonucleotide 5&amp;apos;-hydroxyl-ki...</td>\n",
       "    </tr>\n",
       "    <tr>\n",
       "      <th>26</th>\n",
       "      <td>PF03666</td>\n",
       "      <td>NaN</td>\n",
       "      <td>Helicase_C; Helicase, C-terminal</td>\n",
       "    </tr>\n",
       "    <tr>\n",
       "      <th>27</th>\n",
       "      <td>PF00012</td>\n",
       "      <td>NaN</td>\n",
       "      <td>2OG-FeII_Oxy_4</td>\n",
       "    </tr>\n",
       "    <tr>\n",
       "      <th>28</th>\n",
       "      <td>PF00481</td>\n",
       "      <td>NaN</td>\n",
       "      <td>Asn_synthase; Asparagine synthase</td>\n",
       "    </tr>\n",
       "    <tr>\n",
       "      <th>29</th>\n",
       "      <td>PF00646</td>\n",
       "      <td>NaN</td>\n",
       "      <td>CASP_C; CASP, C-terminal</td>\n",
       "    </tr>\n",
       "    <tr>\n",
       "      <th>30</th>\n",
       "      <td>PF00097</td>\n",
       "      <td>NaN</td>\n",
       "      <td>ABC_membrane; ABC transporter type 1, transmem...</td>\n",
       "    </tr>\n",
       "    <tr>\n",
       "      <th>31</th>\n",
       "      <td>PF03371</td>\n",
       "      <td>NaN</td>\n",
       "      <td>HBS1_N; HBS1-like protein, N-terminal</td>\n",
       "    </tr>\n",
       "    <tr>\n",
       "      <th>32</th>\n",
       "      <td>PF00572</td>\n",
       "      <td>NaN</td>\n",
       "      <td>BPL_C; Biotin protein ligase, C-terminal</td>\n",
       "    </tr>\n",
       "    <tr>\n",
       "      <th>33</th>\n",
       "      <td>PF17068</td>\n",
       "      <td>NaN</td>\n",
       "      <td>zf-C2HE; Aprataxin, C2HE/C2H2/C2HC zinc finger</td>\n",
       "    </tr>\n",
       "    <tr>\n",
       "      <th>34</th>\n",
       "      <td>PF17068</td>\n",
       "      <td>NaN</td>\n",
       "      <td>zf-C2HE; Aprataxin, C2HE/C2H2/C2HC zinc finger</td>\n",
       "    </tr>\n",
       "    <tr>\n",
       "      <th>35</th>\n",
       "      <td>PF10198</td>\n",
       "      <td>NaN</td>\n",
       "      <td>Ribosomal_L5; Ribosomal protein L5, N-terminal</td>\n",
       "    </tr>\n",
       "    <tr>\n",
       "      <th>36</th>\n",
       "      <td>PF11326</td>\n",
       "      <td>NaN</td>\n",
       "      <td>SPC22; Signal peptidase complex subunit 3</td>\n",
       "    </tr>\n",
       "    <tr>\n",
       "      <th>37</th>\n",
       "      <td>PF11326</td>\n",
       "      <td>NaN</td>\n",
       "      <td>SPC22; Signal peptidase complex subunit 3</td>\n",
       "    </tr>\n",
       "    <tr>\n",
       "      <th>38</th>\n",
       "      <td>PF04191</td>\n",
       "      <td>NaN</td>\n",
       "      <td>Lgl_C; Lethal giant larvae (Lgl)-like, C-termi...</td>\n",
       "    </tr>\n",
       "    <tr>\n",
       "      <th>39</th>\n",
       "      <td>PF04191</td>\n",
       "      <td>NaN</td>\n",
       "      <td>Lgl_C; Lethal giant larvae (Lgl)-like, C-termi...</td>\n",
       "    </tr>\n",
       "    <tr>\n",
       "      <th>40</th>\n",
       "      <td>PF04191</td>\n",
       "      <td>NaN</td>\n",
       "      <td>Lgl_C; Lethal giant larvae (Lgl)-like, C-termi...</td>\n",
       "    </tr>\n",
       "    <tr>\n",
       "      <th>41</th>\n",
       "      <td>PF04939</td>\n",
       "      <td>NaN</td>\n",
       "      <td>Memo; MEMO1 family</td>\n",
       "    </tr>\n",
       "    <tr>\n",
       "      <th>42</th>\n",
       "      <td>PF16818</td>\n",
       "      <td>NaN</td>\n",
       "      <td>ketoacyl-synt; Beta-ketoacyl synthase, N-terminal</td>\n",
       "    </tr>\n",
       "    <tr>\n",
       "      <th>43</th>\n",
       "      <td>PF00096</td>\n",
       "      <td>NaN</td>\n",
       "      <td>ABC2_membrane; ABC-2 type transporter</td>\n",
       "    </tr>\n",
       "    <tr>\n",
       "      <th>44</th>\n",
       "      <td>PF00285</td>\n",
       "      <td>NaN</td>\n",
       "      <td>ATP_bind_3; tRNA(Ile)-lysidine/2-thiocytidine ...</td>\n",
       "    </tr>\n",
       "    <tr>\n",
       "      <th>45</th>\n",
       "      <td>PF05291</td>\n",
       "      <td>NaN</td>\n",
       "      <td>N1221; N1221-like</td>\n",
       "    </tr>\n",
       "    <tr>\n",
       "      <th>46</th>\n",
       "      <td>PF04116</td>\n",
       "      <td>NaN</td>\n",
       "      <td>LCAT; Lecithin:cholesterol/phospholipid:diacyl...</td>\n",
       "    </tr>\n",
       "    <tr>\n",
       "      <th>47</th>\n",
       "      <td>PF08118</td>\n",
       "      <td>NaN</td>\n",
       "      <td>PRKCSH_1; Mannose-6-phosphate receptor binding...</td>\n",
       "    </tr>\n",
       "    <tr>\n",
       "      <th>48</th>\n",
       "      <td>PF14570</td>\n",
       "      <td>NaN</td>\n",
       "      <td>UPF0121; TMEM33/Pom33 family</td>\n",
       "    </tr>\n",
       "    <tr>\n",
       "      <th>49</th>\n",
       "      <td>PF04729</td>\n",
       "      <td>NaN</td>\n",
       "      <td>MTHFR; Methylenetetrahydrofolate reductase</td>\n",
       "    </tr>\n",
       "  </tbody>\n",
       "</table>\n",
       "</div>"
      ],
      "text/plain": [
       "   domain-name domain-description_x  \\\n",
       "1      PF00368                  NaN   \n",
       "2      PF00780                  NaN   \n",
       "3      PF03983                  NaN   \n",
       "4      PF00580                  NaN   \n",
       "5      PF16275                  NaN   \n",
       "6      PF09402                  NaN   \n",
       "7      PF01131                  NaN   \n",
       "8      PF01747                  NaN   \n",
       "9      PF00498                  NaN   \n",
       "10     PF01336                  NaN   \n",
       "11     PF08324                  NaN   \n",
       "12     PF00202                  NaN   \n",
       "13     PF04095                  NaN   \n",
       "14     PF03587                  NaN   \n",
       "15     PF03657                  NaN   \n",
       "16     PF04051                  NaN   \n",
       "17     PF01603                  NaN   \n",
       "18     PF14382                  NaN   \n",
       "19     PF00659                  NaN   \n",
       "20     PF04488                  NaN   \n",
       "21     PF02301                  NaN   \n",
       "22     PF14260                  NaN   \n",
       "23     PF09444                  NaN   \n",
       "24     PF05176                  NaN   \n",
       "25     PF00735                  NaN   \n",
       "26     PF03666                  NaN   \n",
       "27     PF00012                  NaN   \n",
       "28     PF00481                  NaN   \n",
       "29     PF00646                  NaN   \n",
       "30     PF00097                  NaN   \n",
       "31     PF03371                  NaN   \n",
       "32     PF00572                  NaN   \n",
       "33     PF17068                  NaN   \n",
       "34     PF17068                  NaN   \n",
       "35     PF10198                  NaN   \n",
       "36     PF11326                  NaN   \n",
       "37     PF11326                  NaN   \n",
       "38     PF04191                  NaN   \n",
       "39     PF04191                  NaN   \n",
       "40     PF04191                  NaN   \n",
       "41     PF04939                  NaN   \n",
       "42     PF16818                  NaN   \n",
       "43     PF00096                  NaN   \n",
       "44     PF00285                  NaN   \n",
       "45     PF05291                  NaN   \n",
       "46     PF04116                  NaN   \n",
       "47     PF08118                  NaN   \n",
       "48     PF14570                  NaN   \n",
       "49     PF04729                  NaN   \n",
       "\n",
       "                                 domain-description_y  \n",
       "1              Alb1; Ribosome biogenesis protein Alb1  \n",
       "2   COG4; Conserved oligomeric Golgi complex, subu...  \n",
       "3   IU_nuc_hydro; Inosine/uridine-preferring nucle...  \n",
       "4                                 BRCT_2; BRCT domain  \n",
       "5                                   Yip1; Yip1 domain  \n",
       "6                 Rbsn; Rabenosyn, Rab binding domain  \n",
       "7        Cohesin_load; Chromatid cohesion factor MAU2  \n",
       "8         DUF5110; Domain of unknown function DUF5110  \n",
       "9        Autophagy_act_C; Autophagy-related protein 3  \n",
       "10       DLIC; Dynein family light intermediate chain  \n",
       "11        Peptidase_S24; Peptidase S24/S26A/S26B/S26C  \n",
       "12                                  APG6; Atg6/Beclin  \n",
       "13  KilA-N; KilA, N-terminal/APSES-type HTH, DNA-b...  \n",
       "14            HRXXH; Putative peptidase domain, HRXXH  \n",
       "15  Hat1_N; Histone acetyl transferase HAT1 N-term...  \n",
       "16           JAB; JAB1/MPN/MOV34 metalloenzyme domain  \n",
       "17       DUF2722; Protein of unknown function DUF2722  \n",
       "18  UCR_hinge; Ubiquinol-cytochrome C reductase hi...  \n",
       "19                                    CBS; CBS domain  \n",
       "20  MDM31_MDM32; Mitochondrial distribution and mo...  \n",
       "21                       FAT; PIK-related kinase, FAT  \n",
       "22                   UBA; Ubiquitin-associated domain  \n",
       "23           Rer1; Retrieval of early ER protein Rer1  \n",
       "24                                    Mo25; Mo25-like  \n",
       "25  CLP1_P; Polyribonucleotide 5&apos;-hydroxyl-ki...  \n",
       "26                   Helicase_C; Helicase, C-terminal  \n",
       "27                                     2OG-FeII_Oxy_4  \n",
       "28                  Asn_synthase; Asparagine synthase  \n",
       "29                           CASP_C; CASP, C-terminal  \n",
       "30  ABC_membrane; ABC transporter type 1, transmem...  \n",
       "31              HBS1_N; HBS1-like protein, N-terminal  \n",
       "32           BPL_C; Biotin protein ligase, C-terminal  \n",
       "33     zf-C2HE; Aprataxin, C2HE/C2H2/C2HC zinc finger  \n",
       "34     zf-C2HE; Aprataxin, C2HE/C2H2/C2HC zinc finger  \n",
       "35     Ribosomal_L5; Ribosomal protein L5, N-terminal  \n",
       "36          SPC22; Signal peptidase complex subunit 3  \n",
       "37          SPC22; Signal peptidase complex subunit 3  \n",
       "38  Lgl_C; Lethal giant larvae (Lgl)-like, C-termi...  \n",
       "39  Lgl_C; Lethal giant larvae (Lgl)-like, C-termi...  \n",
       "40  Lgl_C; Lethal giant larvae (Lgl)-like, C-termi...  \n",
       "41                                 Memo; MEMO1 family  \n",
       "42  ketoacyl-synt; Beta-ketoacyl synthase, N-terminal  \n",
       "43              ABC2_membrane; ABC-2 type transporter  \n",
       "44  ATP_bind_3; tRNA(Ile)-lysidine/2-thiocytidine ...  \n",
       "45                                  N1221; N1221-like  \n",
       "46  LCAT; Lecithin:cholesterol/phospholipid:diacyl...  \n",
       "47  PRKCSH_1; Mannose-6-phosphate receptor binding...  \n",
       "48                       UPF0121; TMEM33/Pom33 family  \n",
       "49         MTHFR; Methylenetetrahydrofolate reductase  "
      ]
     },
     "execution_count": 30,
     "metadata": {},
     "output_type": "execute_result"
    }
   ],
   "source": [
    "only_nsl_pd=pd.merge(repeated_features_sl,repeated_features_nsl,how='right',on=['domain-name'])\n",
    "data_only_nsl = only_nsl_pd[pd.isnull(only_nsl_pd['domain-description_x'])]\n",
    "data_only_nsl"
   ]
  },
  {
   "cell_type": "code",
   "execution_count": 31,
   "metadata": {
    "execution": {
     "iopub.execute_input": "2020-07-20T08:01:41.200360Z",
     "iopub.status.busy": "2020-07-20T08:01:41.199811Z",
     "iopub.status.idle": "2020-07-20T08:01:41.205135Z",
     "shell.execute_reply": "2020-07-20T08:01:41.204672Z"
    }
   },
   "outputs": [
    {
     "data": {
      "text/html": [
       "<div>\n",
       "<style scoped>\n",
       "    .dataframe tbody tr th:only-of-type {\n",
       "        vertical-align: middle;\n",
       "    }\n",
       "\n",
       "    .dataframe tbody tr th {\n",
       "        vertical-align: top;\n",
       "    }\n",
       "\n",
       "    .dataframe thead th {\n",
       "        text-align: right;\n",
       "    }\n",
       "</style>\n",
       "<table border=\"1\" class=\"dataframe\">\n",
       "  <thead>\n",
       "    <tr style=\"text-align: right;\">\n",
       "      <th></th>\n",
       "      <th>domain-name</th>\n",
       "      <th>domain-description_x</th>\n",
       "      <th>domain-description_y</th>\n",
       "    </tr>\n",
       "  </thead>\n",
       "  <tbody>\n",
       "    <tr>\n",
       "      <th>0</th>\n",
       "      <td>PF01532</td>\n",
       "      <td>DUF1765; Uncharacterised protein family UPF0592</td>\n",
       "      <td>DUF1765; Uncharacterised protein family UPF0592</td>\n",
       "    </tr>\n",
       "  </tbody>\n",
       "</table>\n",
       "</div>"
      ],
      "text/plain": [
       "  domain-name                             domain-description_x  \\\n",
       "0     PF01532  DUF1765; Uncharacterised protein family UPF0592   \n",
       "\n",
       "                              domain-description_y  \n",
       "0  DUF1765; Uncharacterised protein family UPF0592  "
      ]
     },
     "execution_count": 31,
     "metadata": {},
     "output_type": "execute_result"
    }
   ],
   "source": [
    "shared_domains_pd=pd.merge(repeated_features_sl,repeated_features_nsl,how='inner',on=['domain-name'])\n",
    "shared_domains_pd\n"
   ]
  },
  {
   "cell_type": "code",
   "execution_count": 32,
   "metadata": {
    "execution": {
     "iopub.execute_input": "2020-07-20T08:01:41.215486Z",
     "iopub.status.busy": "2020-07-20T08:01:41.213334Z",
     "iopub.status.idle": "2020-07-20T08:01:42.630987Z",
     "shell.execute_reply": "2020-07-20T08:01:42.630529Z"
    }
   },
   "outputs": [
    {
     "data": {
      "text/plain": [
       "(0.0, 0.2)"
      ]
     },
     "execution_count": 32,
     "metadata": {},
     "output_type": "execute_result"
    },
    {
     "data": {
      "image/png": "[encoded data removed]",
      "text/plain": [
       "<Figure size 432x288 with 1 Axes>"
      ]
     },
     "metadata": {
      "filenames": {
       "image/png": "/home/runner/work/jupyter-book/jupyter-book/mini_book/docs/_build/jupyter_execute/prot_domains2lethality-FEATURES-POSTPROCESSING_47_1.png"
      },
      "needs_background": "light"
     },
     "output_type": "display_data"
    }
   ],
   "source": [
    "a_sl=x_sl.iloc[:,np.sort(df_sl.iloc[:,1])]\n",
    "a_sl.describe().loc['mean'].hist(bins=8),\n",
    "a_sl.describe().loc['std'].hist(bins=8,alpha=0.4)\n",
    "plt.xlim([0,0.2])"
   ]
  },
  {
   "cell_type": "code",
   "execution_count": 33,
   "metadata": {
    "execution": {
     "iopub.execute_input": "2020-07-20T08:01:42.644512Z",
     "iopub.status.busy": "2020-07-20T08:01:42.641765Z",
     "iopub.status.idle": "2020-07-20T08:01:44.042488Z",
     "shell.execute_reply": "2020-07-20T08:01:44.041978Z"
    }
   },
   "outputs": [
    {
     "data": {
      "text/plain": [
       "(0.0, 0.2)"
      ]
     },
     "execution_count": 33,
     "metadata": {},
     "output_type": "execute_result"
    },
    {
     "data": {
      "image/png": "[encoded data removed]",
      "text/plain": [
       "<Figure size 432x288 with 1 Axes>"
      ]
     },
     "metadata": {
      "filenames": {
       "image/png": "/home/runner/work/jupyter-book/jupyter-book/mini_book/docs/_build/jupyter_execute/prot_domains2lethality-FEATURES-POSTPROCESSING_48_1.png"
      },
      "needs_background": "light"
     },
     "output_type": "display_data"
    }
   ],
   "source": [
    "a_nsl=x_nsl.iloc[:,np.sort(df_nsl.iloc[:,1])]\n",
    "a_nsl.describe().loc['mean'].hist(bins=8),\n",
    "a_nsl.describe().loc['std'].hist(bins=8,alpha=0.4)\n",
    "plt.xlim([0,0.2])"
   ]
  },
  {
   "cell_type": "markdown",
   "metadata": {},
   "source": [
    "### Proof of concept with *BEM1*\n",
    "\n",
    "- Gather the domains of SL and nSL pairs from BEM1\n",
    "- Check if the domains for the SL and nSL pairs are inside the most important domains after PCA."
   ]
  },
  {
   "cell_type": "code",
   "execution_count": 34,
   "metadata": {
    "execution": {
     "iopub.execute_input": "2020-07-20T08:01:44.050387Z",
     "iopub.status.busy": "2020-07-20T08:01:44.049489Z",
     "iopub.status.idle": "2020-07-20T08:01:44.053219Z",
     "shell.execute_reply": "2020-07-20T08:01:44.052798Z"
    }
   },
   "outputs": [],
   "source": [
    "domains_bem1=data_domains[data_domains['name']=='BEM1']['domain-descrip']\n",
    "sl_bem1=data_sl[data_sl['gene-query-name']=='BEM1']['gene-target-name']"
   ]
  },
  {
   "cell_type": "code",
   "execution_count": 35,
   "metadata": {
    "execution": {
     "iopub.execute_input": "2020-07-20T08:01:44.057722Z",
     "iopub.status.busy": "2020-07-20T08:01:44.057217Z",
     "iopub.status.idle": "2020-07-20T08:01:44.061777Z",
     "shell.execute_reply": "2020-07-20T08:01:44.062165Z"
    }
   },
   "outputs": [
    {
     "data": {
      "text/plain": [
       "2846      BEM2\n",
       "2847     CDC24\n",
       "5004      MSB1\n",
       "13777     SMI1\n",
       "13778     BNI1\n",
       "13779     BEM2\n",
       "14385     SKN7\n",
       "Name: gene-target-name, dtype: object"
      ]
     },
     "execution_count": 35,
     "metadata": {},
     "output_type": "execute_result"
    }
   ],
   "source": [
    "sl_bem1"
   ]
  },
  {
   "cell_type": "code",
   "execution_count": 36,
   "metadata": {
    "execution": {
     "iopub.execute_input": "2020-07-20T08:01:44.076606Z",
     "iopub.status.busy": "2020-07-20T08:01:44.076067Z",
     "iopub.status.idle": "2020-07-20T08:01:44.078670Z",
     "shell.execute_reply": "2020-07-20T08:01:44.079088Z"
    }
   },
   "outputs": [
    {
     "data": {
      "text/html": [
       "<div>\n",
       "<style scoped>\n",
       "    .dataframe tbody tr th:only-of-type {\n",
       "        vertical-align: middle;\n",
       "    }\n",
       "\n",
       "    .dataframe tbody tr th {\n",
       "        vertical-align: top;\n",
       "    }\n",
       "\n",
       "    .dataframe thead th {\n",
       "        text-align: right;\n",
       "    }\n",
       "</style>\n",
       "<table border=\"1\" class=\"dataframe\">\n",
       "  <thead>\n",
       "    <tr style=\"text-align: right;\">\n",
       "      <th></th>\n",
       "      <th>gene-query</th>\n",
       "      <th>gene-target</th>\n",
       "      <th>gene-query-name</th>\n",
       "      <th>gene-target-name</th>\n",
       "      <th>gene-query-description</th>\n",
       "      <th>gene-target-description</th>\n",
       "      <th>interaction-type</th>\n",
       "      <th>paper-source</th>\n",
       "    </tr>\n",
       "  </thead>\n",
       "  <tbody>\n",
       "    <tr>\n",
       "      <th>2846</th>\n",
       "      <td>YBR200W</td>\n",
       "      <td>YER155C</td>\n",
       "      <td>BEM1</td>\n",
       "      <td>BEM2</td>\n",
       "      <td>SRO1|phosphatidylinositol-3-phosphate-binding ...</td>\n",
       "      <td>IPL2|SUP9|TSL1|L000000168</td>\n",
       "      <td>Synthetic Lethality</td>\n",
       "      <td>Peterson J (1994)</td>\n",
       "    </tr>\n",
       "    <tr>\n",
       "      <th>2847</th>\n",
       "      <td>YBR200W</td>\n",
       "      <td>YAL041W</td>\n",
       "      <td>BEM1</td>\n",
       "      <td>CDC24</td>\n",
       "      <td>SRO1|phosphatidylinositol-3-phosphate-binding ...</td>\n",
       "      <td>CLS4|Rho family guanine nucleotide exchange fa...</td>\n",
       "      <td>Synthetic Lethality</td>\n",
       "      <td>Peterson J (1994)</td>\n",
       "    </tr>\n",
       "    <tr>\n",
       "      <th>5004</th>\n",
       "      <td>YBR200W</td>\n",
       "      <td>YOR188W</td>\n",
       "      <td>BEM1</td>\n",
       "      <td>MSB1</td>\n",
       "      <td>SRO1|phosphatidylinositol-3-phosphate-binding ...</td>\n",
       "      <td>L000001184</td>\n",
       "      <td>Synthetic Lethality</td>\n",
       "      <td>Bender A (1991)</td>\n",
       "    </tr>\n",
       "    <tr>\n",
       "      <th>13777</th>\n",
       "      <td>YBR200W</td>\n",
       "      <td>YGR229C</td>\n",
       "      <td>BEM1</td>\n",
       "      <td>SMI1</td>\n",
       "      <td>SRO1|phosphatidylinositol-3-phosphate-binding ...</td>\n",
       "      <td>KNR4|L000000909</td>\n",
       "      <td>Synthetic Lethality</td>\n",
       "      <td>Gorelik M (2011)</td>\n",
       "    </tr>\n",
       "    <tr>\n",
       "      <th>13778</th>\n",
       "      <td>YBR200W</td>\n",
       "      <td>YNL271C</td>\n",
       "      <td>BEM1</td>\n",
       "      <td>BNI1</td>\n",
       "      <td>SRO1|phosphatidylinositol-3-phosphate-binding ...</td>\n",
       "      <td>PPF3|SHE5|formin BNI1|L000000190</td>\n",
       "      <td>Synthetic Lethality</td>\n",
       "      <td>Gorelik M (2011)</td>\n",
       "    </tr>\n",
       "    <tr>\n",
       "      <th>13779</th>\n",
       "      <td>YBR200W</td>\n",
       "      <td>YER155C</td>\n",
       "      <td>BEM1</td>\n",
       "      <td>BEM2</td>\n",
       "      <td>SRO1|phosphatidylinositol-3-phosphate-binding ...</td>\n",
       "      <td>IPL2|SUP9|TSL1|L000000168</td>\n",
       "      <td>Synthetic Lethality</td>\n",
       "      <td>Gorelik M (2011)</td>\n",
       "    </tr>\n",
       "    <tr>\n",
       "      <th>14385</th>\n",
       "      <td>YBR200W</td>\n",
       "      <td>YHR206W</td>\n",
       "      <td>BEM1</td>\n",
       "      <td>SKN7</td>\n",
       "      <td>SRO1|phosphatidylinositol-3-phosphate-binding ...</td>\n",
       "      <td>BRY1|POS9|kinase-regulated stress-responsive t...</td>\n",
       "      <td>Dosage Lethality</td>\n",
       "      <td>Bouquin N (1999)</td>\n",
       "    </tr>\n",
       "  </tbody>\n",
       "</table>\n",
       "</div>"
      ],
      "text/plain": [
       "      gene-query gene-target gene-query-name gene-target-name  \\\n",
       "2846     YBR200W     YER155C            BEM1             BEM2   \n",
       "2847     YBR200W     YAL041W            BEM1            CDC24   \n",
       "5004     YBR200W     YOR188W            BEM1             MSB1   \n",
       "13777    YBR200W     YGR229C            BEM1             SMI1   \n",
       "13778    YBR200W     YNL271C            BEM1             BNI1   \n",
       "13779    YBR200W     YER155C            BEM1             BEM2   \n",
       "14385    YBR200W     YHR206W            BEM1             SKN7   \n",
       "\n",
       "                                  gene-query-description  \\\n",
       "2846   SRO1|phosphatidylinositol-3-phosphate-binding ...   \n",
       "2847   SRO1|phosphatidylinositol-3-phosphate-binding ...   \n",
       "5004   SRO1|phosphatidylinositol-3-phosphate-binding ...   \n",
       "13777  SRO1|phosphatidylinositol-3-phosphate-binding ...   \n",
       "13778  SRO1|phosphatidylinositol-3-phosphate-binding ...   \n",
       "13779  SRO1|phosphatidylinositol-3-phosphate-binding ...   \n",
       "14385  SRO1|phosphatidylinositol-3-phosphate-binding ...   \n",
       "\n",
       "                                 gene-target-description     interaction-type  \\\n",
       "2846                           IPL2|SUP9|TSL1|L000000168  Synthetic Lethality   \n",
       "2847   CLS4|Rho family guanine nucleotide exchange fa...  Synthetic Lethality   \n",
       "5004                                          L000001184  Synthetic Lethality   \n",
       "13777                                    KNR4|L000000909  Synthetic Lethality   \n",
       "13778                   PPF3|SHE5|formin BNI1|L000000190  Synthetic Lethality   \n",
       "13779                          IPL2|SUP9|TSL1|L000000168  Synthetic Lethality   \n",
       "14385  BRY1|POS9|kinase-regulated stress-responsive t...     Dosage Lethality   \n",
       "\n",
       "            paper-source  \n",
       "2846   Peterson J (1994)  \n",
       "2847   Peterson J (1994)  \n",
       "5004     Bender A (1991)  \n",
       "13777   Gorelik M (2011)  \n",
       "13778   Gorelik M (2011)  \n",
       "13779   Gorelik M (2011)  \n",
       "14385   Bouquin N (1999)  "
      ]
     },
     "execution_count": 36,
     "metadata": {},
     "output_type": "execute_result"
    }
   ],
   "source": [
    "data_sl[data_sl['gene-query-name']=='BEM1']"
   ]
  },
  {
   "cell_type": "code",
   "execution_count": null,
   "metadata": {},
   "outputs": [],
   "source": []
  }
 ],
 "metadata": {
  "jupytext": {
   "text_representation": {
    "extension": ".md",
    "format_name": "myst"
   }
  },
  "kernelspec": {
   "display_name": "Python 3",
   "language": "python",
   "name": "python3"
  },
  "language_info": {
   "codemirror_mode": {
    "name": "ipython",
    "version": 3
   },
   "file_extension": ".py",
   "mimetype": "text/x-python",
   "name": "python",
   "nbconvert_exporter": "python",
   "pygments_lexer": "ipython3",
   "version": "3.7.6"
  },
  "source_map": [
   10,
   18,
   29,
   36,
   57,
   66,
   98,
   101,
   105,
   128,
   131,
   135,
   139,
   145,
   178,
   184,
   188,
   206,
   210,
   218,
   222,
   225,
   229,
   234,
   238,
   244,
   248,
   253,
   257,
   267,
   269,
   273,
   306,
   311,
   313,
   317,
   328,
   330,
   334,
   344,
   348,
   358,
   360,
   364,
   381,
   388,
   394,
   400,
   407,
   412,
   419,
   424,
   428,
   432
  ]
 },
 "nbformat": 4,
 "nbformat_minor": 4
}