{
 "cells": [
  {
   "cell_type": "markdown",
   "metadata": {},
   "source": [
    "# Feature postprocessing from paper.\n",
    "- Title:  \"Predicting yeast synthetic lethal genetic interactions using protein domains\"\n",
    "- Authors: Bo Li, Feng Luo,School of Computing,Clemson University,Clemson, SC, USA\n",
    "- e-mail: bol, luofeng@clemson.edu\n",
    "- year:2009"
   ]
  },
  {
   "cell_type": "code",
   "execution_count": 1,
   "metadata": {
    "execution": {
     "iopub.execute_input": "2020-07-14T15:16:34.766468Z",
     "iopub.status.busy": "2020-07-14T15:16:34.765936Z",
     "iopub.status.idle": "2020-07-14T15:16:35.542088Z",
     "shell.execute_reply": "2020-07-14T15:16:35.542529Z"
    }
   },
   "outputs": [],
   "source": [
    "import pandas as pd\n",
    "import numpy as np\n",
    "import matplotlib.pyplot as plt\n",
    "from collections import defaultdict \n",
    "import seaborn as sns\n",
    "import matplotlib.cm as cm\n",
    "import scipy as scipy\n",
    "import random"
   ]
  },
  {
   "cell_type": "markdown",
   "metadata": {
    "jupyter": {
     "source_hidden": true
    }
   },
   "source": [
    "### Importing datasets \n",
    "\n",
    "#### Link to the github repo where the datasets to be downloaded:\n",
    "[DOWNLOAD THE DATASETS HERE](https://github.com/leilaicruz/machine-learning-for-yeast/tree/dev_Leila/datasets-for-learning)"
   ]
  },
  {
   "cell_type": "code",
   "execution_count": 2,
   "metadata": {
    "execution": {
     "iopub.execute_input": "2020-07-14T15:16:35.550047Z",
     "iopub.status.busy": "2020-07-14T15:16:35.549408Z",
     "iopub.status.idle": "2020-07-14T15:16:43.318200Z",
     "shell.execute_reply": "2020-07-14T15:16:43.317229Z"
    }
   },
   "outputs": [],
   "source": [
    "import os\n",
    "script_dir = os.path.dirname('__file__') #<-- absolute dir the script is in\n",
    "rel_path_SL = \"datasets/data-synthetic-lethals.xlsx\"\n",
    "rel_path_nSL=\"datasets/data-positive-genetic.xlsx\"\n",
    "rel_path_domains=\"datasets/proteins-domains-from-Pfam.xlsx\"\n",
    "\n",
    "abs_file_path_SL = os.path.join(script_dir, rel_path_SL)\n",
    "abs_file_path_nSL = os.path.join(script_dir, rel_path_nSL)\n",
    "abs_file_path_domains = os.path.join(script_dir, rel_path_domains)\n",
    "\n",
    "# os.chdir('mini_book/docs/') #<-- for binder os.chdir('../')\n",
    "# os.chdir('../')\n",
    "my_path_sl= abs_file_path_SL\n",
    "my_path_non_sl=abs_file_path_nSL\n",
    "my_path_domains=abs_file_path_domains\n",
    "\n",
    "data_sl=pd.read_excel(my_path_sl,header=0)\n",
    "data_domains=pd.read_excel(my_path_domains,header=0,index_col='Unnamed: 0')\n",
    "data_domains=data_domains.dropna()\n",
    "data_nonsl=pd.read_excel(my_path_non_sl,header=0)"
   ]
  },
  {
   "cell_type": "markdown",
   "metadata": {},
   "source": [
    "## Building the feature matrix\n",
    "One matrix for true SL where each row is one pair of SL. Every raw will be a vector of 0,1 or 2 depending on the comparison with the domain list. For row i the jth element = 0 if the jth element of the domain list is not in neither protein A and B, 1, if it is in one of them and 2 if it is in both of them .\n",
    "\n",
    "### Building the list of proteins domains id per protein pair separately :\n",
    "- List of protein A: Search for the Sl/nSL database the query gene name and look in the protein domain database which protein domains id has each of those queries.\n",
    "- List of protein B: Search for the Sl/nSL database the target gene name of the previous query and look in the protein domain database which protein domains id has each of those target genes."
   ]
  },
  {
   "cell_type": "code",
   "execution_count": 3,
   "metadata": {
    "execution": {
     "iopub.execute_input": "2020-07-14T15:16:43.335704Z",
     "iopub.status.busy": "2020-07-14T15:16:43.335099Z",
     "iopub.status.idle": "2020-07-14T15:16:45.560155Z",
     "shell.execute_reply": "2020-07-14T15:16:45.559724Z"
    }
   },
   "outputs": [],
   "source": [
    "# Selecting the meaningful columns in the respective dataset\n",
    "domain_id_list=data_domains['domain-name']\n",
    "query_gene=data_sl['gene-query-name']\n",
    "target_gene=data_sl['gene-target-name']\n",
    "query_gene_nonlethal=data_nonsl['gene-query-name']\n",
    "target_gene_nonlethal=data_nonsl['gene-target-name']\n",
    "\n",
    "\n",
    "\n",
    "# Initialising the arrays\n",
    "protein_a_list=[]\n",
    "protein_b_list=[]\n",
    "protein_a_list_non=[]\n",
    "protein_b_list_non=[]\n",
    "\n",
    "population = np.arange(0,len(data_sl))\n",
    "\n",
    "# For loop for 10000 pairs sampled randomly from the SL/nSl pair list , and creating a big array of proteind domains id per protein pair\n",
    "\n",
    "for m in random.sample(list(population), 500):\n",
    "    protein_a=data_domains[data_domains['name']==query_gene[m]]\n",
    "    protein_b=data_domains[data_domains['name']==target_gene[m]]\n",
    "    protein_a_list.append(protein_a['domain-name'].tolist())\n",
    "    protein_b_list.append(protein_b['domain-name'].tolist())\n",
    "\n",
    "    protein_a_non=data_domains[data_domains['name']==query_gene_nonlethal[m]]\n",
    "    protein_b_non=data_domains[data_domains['name']==target_gene_nonlethal[m]]\n",
    "    protein_a_list_non.append(protein_a_non['domain-name'].tolist())\n",
    "    protein_b_list_non.append(protein_b_non['domain-name'].tolist())"
   ]
  },
  {
   "cell_type": "code",
   "execution_count": 4,
   "metadata": {
    "execution": {
     "iopub.execute_input": "2020-07-14T15:16:45.564956Z",
     "iopub.status.busy": "2020-07-14T15:16:45.564412Z",
     "iopub.status.idle": "2020-07-14T15:16:45.569503Z",
     "shell.execute_reply": "2020-07-14T15:16:45.568531Z"
    }
   },
   "outputs": [
    {
     "name": "stdout",
     "output_type": "stream",
     "text": [
      "We are going to analyze 500 protein pairs, out of 17871 SL protein pairs\n",
      "We are going to analyze 500 protein pairs, out of 43340 positive protein pairs\n"
     ]
    }
   ],
   "source": [
    "print('We are going to analyze',len((protein_a_list)) ,'protein pairs, out of',len(data_sl),'SL protein pairs')\n",
    "print('We are going to analyze',len((protein_a_list_non)) ,'protein pairs, out of',len(data_nonsl),'positive protein pairs')"
   ]
  },
  {
   "cell_type": "markdown",
   "metadata": {},
   "source": [
    "### Postprocessing #1:  Remove protein pairs from study if either protein in the pair does not contain any domain"
   ]
  },
  {
   "cell_type": "code",
   "execution_count": 5,
   "metadata": {
    "execution": {
     "iopub.execute_input": "2020-07-14T15:16:45.579911Z",
     "iopub.status.busy": "2020-07-14T15:16:45.579202Z",
     "iopub.status.idle": "2020-07-14T15:16:45.582894Z",
     "shell.execute_reply": "2020-07-14T15:16:45.583295Z"
    }
   },
   "outputs": [],
   "source": [
    "def remove_empty_domains(protein_list_search,protein_list_pair):\n",
    "    index=[]\n",
    "    for i in np.arange(0,len(protein_list_search)):\n",
    "        if protein_list_search[i]==[] or protein_list_pair[i]==[]:\n",
    "            index.append(i) ## index of empty values for the protein_a_list meaning they dont have any annotated domain\n",
    "\n",
    "    y=[x for x in np.arange(0,len(protein_list_search)) if x not in index] # a list with non empty values from protein_a list\n",
    "\n",
    "    protein_list_search_new=[]\n",
    "    protein_list_pair_new=[]\n",
    "    for i in y:\n",
    "        protein_list_search_new.append(protein_list_search[i])\n",
    "        protein_list_pair_new.append(protein_list_pair[i])\n",
    "    return protein_list_search_new,protein_list_pair_new\n",
    "\n",
    "## evaluating the function\n",
    "\n",
    "protein_a_list_new,protein_b_list_new=remove_empty_domains(protein_a_list,protein_b_list)\n",
    "\n",
    "protein_a_list_non_new,protein_b_list_non_new=remove_empty_domains(protein_a_list_non,protein_b_list_non)"
   ]
  },
  {
   "cell_type": "code",
   "execution_count": 6,
   "metadata": {
    "execution": {
     "iopub.execute_input": "2020-07-14T15:16:45.589241Z",
     "iopub.status.busy": "2020-07-14T15:16:45.588682Z",
     "iopub.status.idle": "2020-07-14T15:16:45.591675Z",
     "shell.execute_reply": "2020-07-14T15:16:45.591284Z"
    }
   },
   "outputs": [
    {
     "name": "stdout",
     "output_type": "stream",
     "text": [
      "The empty domain in the SL were: 87 out of 500 domains\n",
      "The empty domain in the nSL were: 97 out of 500 domains\n"
     ]
    }
   ],
   "source": [
    "print('The empty domain in the SL were:', len(protein_a_list)-len(protein_a_list_new), 'out of', len(protein_a_list),'domains')\n",
    "print('The empty domain in the nSL were:', len(protein_a_list_non)-len(protein_a_list_non_new), 'out of', len(protein_a_list_non),'domains')"
   ]
  },
  {
   "cell_type": "markdown",
   "metadata": {},
   "source": [
    "### Feature engineering: Select from each ordered indexes of domain id list which of them appear once, in both or in any of the domains of each protein pair"
   ]
  },
  {
   "cell_type": "markdown",
   "metadata": {},
   "source": [
    "#### Define function `get_indexes`"
   ]
  },
  {
   "cell_type": "code",
   "execution_count": 7,
   "metadata": {
    "execution": {
     "iopub.execute_input": "2020-07-14T15:16:45.599244Z",
     "iopub.status.busy": "2020-07-14T15:16:45.598242Z",
     "iopub.status.idle": "2020-07-14T15:16:45.600857Z",
     "shell.execute_reply": "2020-07-14T15:16:45.601258Z"
    }
   },
   "outputs": [
    {
     "data": {
      "text/plain": [
       "[1, 2]"
      ]
     },
     "execution_count": 7,
     "metadata": {},
     "output_type": "execute_result"
    }
   ],
   "source": [
    "get_indexes = lambda x, xs: [i for (y, i) in zip(xs, range(len(xs))) if x == y] # a function that give the index of whether a value appear in array or not\n",
    "a=[1,2,2,4,5,6,7,8,9,10]\n",
    "get_indexes(2,a)"
   ]
  },
  {
   "cell_type": "code",
   "execution_count": 8,
   "metadata": {
    "execution": {
     "iopub.execute_input": "2020-07-14T15:16:45.613341Z",
     "iopub.status.busy": "2020-07-14T15:16:45.611142Z",
     "iopub.status.idle": "2020-07-14T15:16:45.614284Z",
     "shell.execute_reply": "2020-07-14T15:16:45.614820Z"
    }
   },
   "outputs": [],
   "source": [
    "def feature_building(protein_a_list_new,protein_b_list_new):\n",
    "    x = np.unique(domain_id_list)\n",
    "    ## To avoid taking repeated domains from one protein of the pairs , lets reduced the domains of each protein from the pairs to their unique members\n",
    "    protein_a_list_unique=[]\n",
    "    protein_b_list_unique=[]\n",
    "    for i in np.arange(0,len(protein_a_list_new)):\n",
    "        protein_a_list_unique.append(np.unique(protein_a_list_new[i]))\n",
    "        protein_b_list_unique.append(np.unique(protein_b_list_new[i]))\n",
    "        \n",
    "    protein_feat_true=np.zeros(shape=(len(x),len(protein_a_list_unique)))\n",
    "    pair_a_b_array=[]\n",
    "    for i in np.arange(0,len(protein_a_list_unique)):\n",
    "        index_a=[]\n",
    "        \n",
    "        pair=[protein_a_list_unique[i],protein_b_list_unique[i]]\n",
    "        pair_a_b=np.concatenate(pair).ravel()\n",
    "        pair_a_b_array.append(pair_a_b)\n",
    "\n",
    "    j=0\n",
    "    for i in pair_a_b_array:  \n",
    "        array,index,counts=np.unique(i,return_index=True,return_counts=True)\n",
    "        \n",
    "        for k,m in zip(counts,array):\n",
    "            if k ==2:\n",
    "                protein_feat_true[get_indexes(m,x),j]=2\n",
    "                \n",
    "            if k==1:\n",
    "                protein_feat_true[get_indexes(m,x),j]=1\n",
    "        j=j+1\n",
    "    return protein_feat_true"
   ]
  },
  {
   "cell_type": "code",
   "execution_count": 9,
   "metadata": {
    "execution": {
     "iopub.execute_input": "2020-07-14T15:16:45.623519Z",
     "iopub.status.busy": "2020-07-14T15:16:45.622884Z",
     "iopub.status.idle": "2020-07-14T15:16:46.375566Z",
     "shell.execute_reply": "2020-07-14T15:16:46.374923Z"
    }
   },
   "outputs": [],
   "source": [
    "protein_feat_true=feature_building(protein_b_list_new=protein_b_list_new,protein_a_list_new=protein_a_list_new)\n",
    "protein_feat_true_pd=pd.DataFrame(protein_feat_true.T)\n",
    "\n",
    "protein_feat_non_true=feature_building(protein_b_list_new=protein_b_list_non_new,protein_a_list_new=protein_a_list_non_new)\n",
    "protein_feat_non_true_pd=pd.DataFrame(protein_feat_non_true.T)"
   ]
  },
  {
   "cell_type": "markdown",
   "metadata": {},
   "source": [
    "### How many ones and twos are in each dataset"
   ]
  },
  {
   "cell_type": "code",
   "execution_count": 10,
   "metadata": {
    "execution": {
     "iopub.execute_input": "2020-07-14T15:16:46.383701Z",
     "iopub.status.busy": "2020-07-14T15:16:46.383183Z",
     "iopub.status.idle": "2020-07-14T15:16:46.475785Z",
     "shell.execute_reply": "2020-07-14T15:16:46.475055Z"
    }
   },
   "outputs": [
    {
     "name": "stdout",
     "output_type": "stream",
     "text": [
      "fraction of twos in the SL array is 2.8815560402617412e-05\n",
      "fraction of ones in the SL array is 0.0009925359694234887\n",
      "fraction of twos in the PI array is 3.281176301704161e-06\n",
      "fraction of ones in the PI array is 0.0008777146607058631\n"
     ]
    }
   ],
   "source": [
    "index_2_true=protein_feat_true_pd.where(protein_feat_true_pd==2)\n",
    "index_2_true_count=index_2_true.count(axis=1).sum()\n",
    "\n",
    "index_1_true=protein_feat_true_pd.where(protein_feat_true_pd==1)\n",
    "index_1_true_count=index_1_true.count(axis=1).sum()\n",
    "\n",
    "index_2_nontrue=protein_feat_non_true_pd.where(protein_feat_non_true_pd==2)\n",
    "index_2_nontrue_count=index_2_nontrue.count(axis=1).sum()\n",
    "\n",
    "index_1_nontrue=protein_feat_non_true_pd.where(protein_feat_non_true_pd==1)\n",
    "index_1_nontrue_count=index_1_nontrue.count(axis=1).sum()\n",
    "\n",
    "\n",
    "print('fraction of twos in the SL array is',index_2_true_count/(len(protein_feat_true_pd.index)*len(protein_feat_true_pd.columns)))\n",
    "print('fraction of ones in the SL array is',index_1_true_count/(len(protein_feat_true_pd.index)*len(protein_feat_true_pd.columns)))\n",
    "print('fraction of twos in the PI array is',index_2_nontrue_count/(len(protein_feat_non_true_pd.index)*len(protein_feat_non_true_pd.columns)))\n",
    "print('fraction of ones in the PI array is',index_1_nontrue_count/(len(protein_feat_non_true_pd.index)*len(protein_feat_non_true_pd.columns)))"
   ]
  },
  {
   "cell_type": "markdown",
   "metadata": {},
   "source": [
    "#### Bar plot to visualize these numbers"
   ]
  },
  {
   "cell_type": "code",
   "execution_count": 11,
   "metadata": {
    "execution": {
     "iopub.execute_input": "2020-07-14T15:16:46.484027Z",
     "iopub.status.busy": "2020-07-14T15:16:46.483503Z",
     "iopub.status.idle": "2020-07-14T15:16:46.943306Z",
     "shell.execute_reply": "2020-07-14T15:16:46.942757Z"
    }
   },
   "outputs": [
    {
     "data": {
      "text/plain": [
       "([0, 1, 2, 3], <a list of 4 Text major ticklabel objects>)"
      ]
     },
     "execution_count": 11,
     "metadata": {},
     "output_type": "execute_result"
    },
    {
     "data": {
      "image/png": "[encoded data removed]",
      "text/plain": [
       "<Figure size 432x288 with 1 Axes>"
      ]
     },
     "metadata": {
      "filenames": {
       "image/png": "/home/runner/work/jupyter-book/jupyter-book/mini_book/docs/_build/jupyter_execute/prot_domains2lethality-FEATURES-POSTPROCESSING_18_1.png"
      },
      "needs_background": "light"
     },
     "output_type": "display_data"
    }
   ],
   "source": [
    "plt.bar(['fraction of 2 in the nSL','fraction of 1 in the nSL'],[index_2_nontrue_count/(len(protein_feat_non_true_pd.index)*len(protein_feat_non_true_pd.columns)),index_1_nontrue_count/(len(protein_feat_non_true_pd.index)*len(protein_feat_non_true_pd.columns))],alpha=0.6,color=['blue','lightblue']), \n",
    "\n",
    "plt.bar(['fraction of 2 in SL ','fraction of 1 in SL'],[index_2_true_count/(len(protein_feat_true_pd.index)*len(protein_feat_true_pd.columns)),index_1_true_count/(len(protein_feat_true_pd.index)*len(protein_feat_true_pd.columns))],alpha=0.6,color=['coral','lightcoral'])\n",
    "\n",
    "plt.ylabel('Fraction from the population')\n",
    "plt.yscale('log')\n",
    "plt.xticks(rotation=40)"
   ]
  },
  {
   "cell_type": "markdown",
   "metadata": {},
   "source": [
    "#### Adding the labels(response variables) to each dataset"
   ]
  },
  {
   "cell_type": "code",
   "execution_count": 12,
   "metadata": {
    "execution": {
     "iopub.execute_input": "2020-07-14T15:16:46.948715Z",
     "iopub.status.busy": "2020-07-14T15:16:46.947328Z",
     "iopub.status.idle": "2020-07-14T15:16:46.952087Z",
     "shell.execute_reply": "2020-07-14T15:16:46.951642Z"
    }
   },
   "outputs": [],
   "source": [
    "protein_feat_true_pd['lethality']=np.ones(shape=(len(protein_a_list_new)))\n",
    "protein_feat_non_true_pd['lethality']=np.zeros(shape=(len(protein_a_list_non_new)))"
   ]
  },
  {
   "cell_type": "markdown",
   "metadata": {},
   "source": [
    "#### Joining both datasets"
   ]
  },
  {
   "cell_type": "code",
   "execution_count": 13,
   "metadata": {
    "execution": {
     "iopub.execute_input": "2020-07-14T15:16:46.958010Z",
     "iopub.status.busy": "2020-07-14T15:16:46.957242Z",
     "iopub.status.idle": "2020-07-14T15:16:46.996366Z",
     "shell.execute_reply": "2020-07-14T15:16:46.996866Z"
    }
   },
   "outputs": [
    {
     "name": "stdout",
     "output_type": "stream",
     "text": [
      "The number of features are: 3026\n",
      "The number of samples are: 816\n"
     ]
    }
   ],
   "source": [
    "feature_post=pd.concat([protein_feat_true_pd,protein_feat_non_true_pd],axis=0)\n",
    "feature_post=feature_post.set_index(np.arange(0,len(protein_a_list_new)+len(protein_a_list_non_new)))\n",
    "print('The number of features are:',feature_post.shape[1])\n",
    "print('The number of samples are:',feature_post.shape[0])"
   ]
  },
  {
   "cell_type": "markdown",
   "metadata": {},
   "source": [
    "### Postprocessing and exploration of the feature matrix of both datasets"
   ]
  },
  {
   "cell_type": "code",
   "execution_count": 14,
   "metadata": {
    "execution": {
     "iopub.execute_input": "2020-07-14T15:16:47.013500Z",
     "iopub.status.busy": "2020-07-14T15:16:47.003362Z",
     "iopub.status.idle": "2020-07-14T15:16:51.979160Z",
     "shell.execute_reply": "2020-07-14T15:16:51.978697Z"
    }
   },
   "outputs": [],
   "source": [
    "mean=feature_post.T.describe().loc['mean']\n",
    "std=feature_post.T.describe().loc['std']\n",
    "lethality=feature_post['lethality']\n",
    "\n",
    "corr_keys=pd.concat([mean,std,lethality],axis=1)"
   ]
  },
  {
   "cell_type": "markdown",
   "metadata": {},
   "source": [
    "### Viz of the stats"
   ]
  },
  {
   "cell_type": "code",
   "execution_count": 15,
   "metadata": {
    "execution": {
     "iopub.execute_input": "2020-07-14T15:16:51.983889Z",
     "iopub.status.busy": "2020-07-14T15:16:51.982806Z",
     "iopub.status.idle": "2020-07-14T15:16:53.936128Z",
     "shell.execute_reply": "2020-07-14T15:16:53.936593Z"
    }
   },
   "outputs": [
    {
     "data": {
      "text/plain": [
       "Text(0.5, 1.08, 'Pairplot to see data dependencies with Lethality')"
      ]
     },
     "execution_count": 15,
     "metadata": {},
     "output_type": "execute_result"
    },
    {
     "data": {
      "image/png": "[encoded data removed]",
      "text/plain": [
       "<Figure size 412x360 with 6 Axes>"
      ]
     },
     "metadata": {
      "filenames": {
       "image/png": "/home/runner/work/jupyter-book/jupyter-book/mini_book/docs/_build/jupyter_execute/prot_domains2lethality-FEATURES-POSTPROCESSING_26_1.png"
      },
      "needs_background": "light"
     },
     "output_type": "display_data"
    }
   ],
   "source": [
    "pair=sns.pairplot(corr_keys,hue='lethality',diag_kind='kde',kind='reg',palette='colorblind')\n",
    "pair.fig.suptitle('Pairplot to see data dependencies with Lethality',y=1.08)"
   ]
  },
  {
   "cell_type": "code",
   "execution_count": 16,
   "metadata": {
    "execution": {
     "iopub.execute_input": "2020-07-14T15:16:53.949205Z",
     "iopub.status.busy": "2020-07-14T15:16:53.948598Z",
     "iopub.status.idle": "2020-07-14T15:16:53.952110Z",
     "shell.execute_reply": "2020-07-14T15:16:53.952555Z"
    }
   },
   "outputs": [],
   "source": [
    "X, y = feature_post.drop(columns=[\"lethality\"]), feature_post[\"lethality\"]"
   ]
  },
  {
   "cell_type": "code",
   "execution_count": 17,
   "metadata": {
    "execution": {
     "iopub.execute_input": "2020-07-14T15:16:53.957361Z",
     "iopub.status.busy": "2020-07-14T15:16:53.956852Z",
     "iopub.status.idle": "2020-07-14T15:16:54.110409Z",
     "shell.execute_reply": "2020-07-14T15:16:54.110910Z"
    }
   },
   "outputs": [],
   "source": [
    "from sklearn.preprocessing import StandardScaler\n",
    "scaler = StandardScaler()\n",
    "x_sl=protein_feat_true_pd.drop(columns=['lethality'])\n",
    "x_nsl=protein_feat_non_true_pd.drop(columns=['lethality'])\n",
    "\n",
    "X_sl_scaled = scaler.fit_transform(x_sl)\n",
    "X_nsl_scaled = scaler.fit_transform(x_nsl)"
   ]
  },
  {
   "cell_type": "code",
   "execution_count": 18,
   "metadata": {
    "execution": {
     "iopub.execute_input": "2020-07-14T15:16:54.116428Z",
     "iopub.status.busy": "2020-07-14T15:16:54.115824Z",
     "iopub.status.idle": "2020-07-14T15:16:54.119456Z",
     "shell.execute_reply": "2020-07-14T15:16:54.118942Z"
    }
   },
   "outputs": [
    {
     "data": {
      "text/plain": [
       "(413, 3025)"
      ]
     },
     "execution_count": 18,
     "metadata": {},
     "output_type": "execute_result"
    }
   ],
   "source": [
    "np.shape(X_sl_scaled)"
   ]
  },
  {
   "cell_type": "markdown",
   "metadata": {},
   "source": [
    "## How redundant are each of the protein domains?"
   ]
  },
  {
   "cell_type": "code",
   "execution_count": 19,
   "metadata": {
    "execution": {
     "iopub.execute_input": "2020-07-14T15:16:54.127868Z",
     "iopub.status.busy": "2020-07-14T15:16:54.126630Z",
     "iopub.status.idle": "2020-07-14T15:16:54.128634Z",
     "shell.execute_reply": "2020-07-14T15:16:54.129116Z"
    }
   },
   "outputs": [],
   "source": [
    "def PCA_component_contribution(scaled_matrix,original_data):\n",
    "    from sklearn.decomposition import PCA\n",
    "\n",
    "    model = PCA(0.95).fit(scaled_matrix)\n",
    "    ## apply dimensionality reduction to X_train\n",
    "    output_pca = model.transform(scaled_matrix)\n",
    "    \n",
    "    total=sum(model.explained_variance_)\n",
    "\n",
    "\n",
    "   \n",
    "    # number of components , that it will be the number of main axes times the number of original components \n",
    "    n_pcs= model.components_.shape[0] # the amount of non redundant protein domains \n",
    "\n",
    "    # get the index of the most important feature on EACH component\n",
    "    # LIST COMPREHENSION HERE\n",
    "    most_important = [np.abs(model.components_[i]).argmax() for i in range(n_pcs)]\n",
    "\n",
    "    initial_feature_names = original_data.columns\n",
    "    # get the names\n",
    "    most_important_names = [initial_feature_names[most_important[i]] for i in range(n_pcs)]\n",
    "    \n",
    "\n",
    "    # LIST COMPREHENSION HERE AGAIN\n",
    "    dic = {'PC{}'.format(i): most_important_names[i] for i in range(n_pcs)}\n",
    "\n",
    "    # build the dataframe\n",
    "    df = pd.DataFrame(dic.items(),columns=['pca-component','domain-number'])\n",
    "\n",
    "    return df,model.components_"
   ]
  },
  {
   "cell_type": "code",
   "execution_count": 20,
   "metadata": {
    "execution": {
     "iopub.execute_input": "2020-07-14T15:16:54.133254Z",
     "iopub.status.busy": "2020-07-14T15:16:54.132620Z",
     "iopub.status.idle": "2020-07-14T15:16:54.906545Z",
     "shell.execute_reply": "2020-07-14T15:16:54.907172Z"
    }
   },
   "outputs": [],
   "source": [
    "df_sl,components_pca_nsl=PCA_component_contribution(X_nsl_scaled,x_nsl)\n",
    "df_nsl,components_pca_sl=PCA_component_contribution(X_sl_scaled,x_sl)"
   ]
  },
  {
   "cell_type": "code",
   "execution_count": 21,
   "metadata": {
    "execution": {
     "iopub.execute_input": "2020-07-14T15:16:54.909866Z",
     "iopub.status.busy": "2020-07-14T15:16:54.909296Z",
     "iopub.status.idle": "2020-07-14T15:16:54.916892Z",
     "shell.execute_reply": "2020-07-14T15:16:54.917543Z"
    }
   },
   "outputs": [
    {
     "data": {
      "text/html": [
       "<div>\n",
       "<style scoped>\n",
       "    .dataframe tbody tr th:only-of-type {\n",
       "        vertical-align: middle;\n",
       "    }\n",
       "\n",
       "    .dataframe tbody tr th {\n",
       "        vertical-align: top;\n",
       "    }\n",
       "\n",
       "    .dataframe thead th {\n",
       "        text-align: right;\n",
       "    }\n",
       "</style>\n",
       "<table border=\"1\" class=\"dataframe\">\n",
       "  <thead>\n",
       "    <tr style=\"text-align: right;\">\n",
       "      <th></th>\n",
       "      <th>pca-component</th>\n",
       "      <th>domain-number</th>\n",
       "    </tr>\n",
       "  </thead>\n",
       "  <tbody>\n",
       "    <tr>\n",
       "      <th>0</th>\n",
       "      <td>PC0</td>\n",
       "      <td>540</td>\n",
       "    </tr>\n",
       "    <tr>\n",
       "      <th>1</th>\n",
       "      <td>PC1</td>\n",
       "      <td>2771</td>\n",
       "    </tr>\n",
       "    <tr>\n",
       "      <th>2</th>\n",
       "      <td>PC2</td>\n",
       "      <td>242</td>\n",
       "    </tr>\n",
       "    <tr>\n",
       "      <th>3</th>\n",
       "      <td>PC3</td>\n",
       "      <td>2</td>\n",
       "    </tr>\n",
       "    <tr>\n",
       "      <th>4</th>\n",
       "      <td>PC4</td>\n",
       "      <td>274</td>\n",
       "    </tr>\n",
       "  </tbody>\n",
       "</table>\n",
       "</div>"
      ],
      "text/plain": [
       "  pca-component  domain-number\n",
       "0           PC0            540\n",
       "1           PC1           2771\n",
       "2           PC2            242\n",
       "3           PC3              2\n",
       "4           PC4            274"
      ]
     },
     "execution_count": 21,
     "metadata": {},
     "output_type": "execute_result"
    }
   ],
   "source": [
    "df_sl.head()"
   ]
  },
  {
   "cell_type": "markdown",
   "metadata": {},
   "source": [
    "## which are the shared domains between nSL and SL pairs , in the PCA reduced samples"
   ]
  },
  {
   "cell_type": "code",
   "execution_count": 22,
   "metadata": {
    "execution": {
     "iopub.execute_input": "2020-07-14T15:16:54.930572Z",
     "iopub.status.busy": "2020-07-14T15:16:54.923002Z",
     "iopub.status.idle": "2020-07-14T15:16:54.950142Z",
     "shell.execute_reply": "2020-07-14T15:16:54.950844Z"
    }
   },
   "outputs": [
    {
     "data": {
      "text/html": [
       "<div>\n",
       "<style scoped>\n",
       "    .dataframe tbody tr th:only-of-type {\n",
       "        vertical-align: middle;\n",
       "    }\n",
       "\n",
       "    .dataframe tbody tr th {\n",
       "        vertical-align: top;\n",
       "    }\n",
       "\n",
       "    .dataframe thead th {\n",
       "        text-align: right;\n",
       "    }\n",
       "</style>\n",
       "<table border=\"1\" class=\"dataframe\">\n",
       "  <thead>\n",
       "    <tr style=\"text-align: right;\">\n",
       "      <th></th>\n",
       "      <th>pca-component_x</th>\n",
       "      <th>domain-number</th>\n",
       "      <th>pca-component_y</th>\n",
       "      <th>domain-description</th>\n",
       "    </tr>\n",
       "  </thead>\n",
       "  <tbody>\n",
       "    <tr>\n",
       "      <th>0</th>\n",
       "      <td>PC1</td>\n",
       "      <td>2771</td>\n",
       "      <td>PC1</td>\n",
       "      <td>Ubiq-assoc; Ubiquitin-associated domain, SWA2-...</td>\n",
       "    </tr>\n",
       "    <tr>\n",
       "      <th>1</th>\n",
       "      <td>PC2</td>\n",
       "      <td>242</td>\n",
       "      <td>PC2</td>\n",
       "      <td>Atg31; Autophagy-related protein 31</td>\n",
       "    </tr>\n",
       "    <tr>\n",
       "      <th>2</th>\n",
       "      <td>PC4</td>\n",
       "      <td>274</td>\n",
       "      <td>PC42</td>\n",
       "      <td>BOP1NT; BOP1, N-terminal domain</td>\n",
       "    </tr>\n",
       "    <tr>\n",
       "      <th>3</th>\n",
       "      <td>PC7</td>\n",
       "      <td>946</td>\n",
       "      <td>PC21</td>\n",
       "      <td>Fungal_trans_2; Fungal transcription factor</td>\n",
       "    </tr>\n",
       "    <tr>\n",
       "      <th>4</th>\n",
       "      <td>PC11</td>\n",
       "      <td>488</td>\n",
       "      <td>PC26</td>\n",
       "      <td>Cnd1_N; Condensin complex subunit 1, N-terminal</td>\n",
       "    </tr>\n",
       "    <tr>\n",
       "      <th>5</th>\n",
       "      <td>PC13</td>\n",
       "      <td>55</td>\n",
       "      <td>PC4</td>\n",
       "      <td>ADK</td>\n",
       "    </tr>\n",
       "    <tr>\n",
       "      <th>6</th>\n",
       "      <td>PC17</td>\n",
       "      <td>926</td>\n",
       "      <td>PC9</td>\n",
       "      <td>Flp_C; Recombinase Flp protein</td>\n",
       "    </tr>\n",
       "    <tr>\n",
       "      <th>7</th>\n",
       "      <td>PC20</td>\n",
       "      <td>440</td>\n",
       "      <td>PC77</td>\n",
       "      <td>Candida_ALS_N; Agglutinin-like protein, N-term...</td>\n",
       "    </tr>\n",
       "    <tr>\n",
       "      <th>8</th>\n",
       "      <td>PC31</td>\n",
       "      <td>773</td>\n",
       "      <td>PC44</td>\n",
       "      <td>Dynein_light; Dynein light chain, type 1/2</td>\n",
       "    </tr>\n",
       "    <tr>\n",
       "      <th>9</th>\n",
       "      <td>PC36</td>\n",
       "      <td>892</td>\n",
       "      <td>PC30</td>\n",
       "      <td>FSH1; Serine hydrolase FSH</td>\n",
       "    </tr>\n",
       "    <tr>\n",
       "      <th>10</th>\n",
       "      <td>PC37</td>\n",
       "      <td>36</td>\n",
       "      <td>PC84</td>\n",
       "      <td>AA_permease_2; Amino acid/polyamine transporter I</td>\n",
       "    </tr>\n",
       "    <tr>\n",
       "      <th>11</th>\n",
       "      <td>PC37</td>\n",
       "      <td>36</td>\n",
       "      <td>PC85</td>\n",
       "      <td>AA_permease_2; Amino acid/polyamine transporter I</td>\n",
       "    </tr>\n",
       "    <tr>\n",
       "      <th>12</th>\n",
       "      <td>PC38</td>\n",
       "      <td>1275</td>\n",
       "      <td>PC141</td>\n",
       "      <td>Kinetocho_Slk19; Central kinetochore-associated</td>\n",
       "    </tr>\n",
       "    <tr>\n",
       "      <th>13</th>\n",
       "      <td>PC49</td>\n",
       "      <td>1887</td>\n",
       "      <td>PC112</td>\n",
       "      <td>Peptidase_S24; Peptidase S24/S26A/S26B/S26C</td>\n",
       "    </tr>\n",
       "    <tr>\n",
       "      <th>14</th>\n",
       "      <td>PC51</td>\n",
       "      <td>747</td>\n",
       "      <td>PC66</td>\n",
       "      <td>Dak1; DhaK domain</td>\n",
       "    </tr>\n",
       "    <tr>\n",
       "      <th>15</th>\n",
       "      <td>PC51</td>\n",
       "      <td>747</td>\n",
       "      <td>PC67</td>\n",
       "      <td>Dak1; DhaK domain</td>\n",
       "    </tr>\n",
       "    <tr>\n",
       "      <th>16</th>\n",
       "      <td>PC58</td>\n",
       "      <td>1836</td>\n",
       "      <td>PC28</td>\n",
       "      <td>PTPLA; Protein-tyrosine phosphatase-like, PTPLA</td>\n",
       "    </tr>\n",
       "    <tr>\n",
       "      <th>17</th>\n",
       "      <td>PC59</td>\n",
       "      <td>1836</td>\n",
       "      <td>PC28</td>\n",
       "      <td>PTPLA; Protein-tyrosine phosphatase-like, PTPLA</td>\n",
       "    </tr>\n",
       "    <tr>\n",
       "      <th>18</th>\n",
       "      <td>PC66</td>\n",
       "      <td>1106</td>\n",
       "      <td>PC86</td>\n",
       "      <td>HEAT_2</td>\n",
       "    </tr>\n",
       "    <tr>\n",
       "      <th>19</th>\n",
       "      <td>PC69</td>\n",
       "      <td>396</td>\n",
       "      <td>PC54</td>\n",
       "      <td>COX5A; Cytochrome c oxidase, subunit Va/VI</td>\n",
       "    </tr>\n",
       "    <tr>\n",
       "      <th>20</th>\n",
       "      <td>PC78</td>\n",
       "      <td>876</td>\n",
       "      <td>PC68</td>\n",
       "      <td>FDX-ACB; Ferrodoxin-fold anticodon-binding domain</td>\n",
       "    </tr>\n",
       "    <tr>\n",
       "      <th>21</th>\n",
       "      <td>PC90</td>\n",
       "      <td>2007</td>\n",
       "      <td>PC40</td>\n",
       "      <td>RNA_pol_L_2; DNA-directed RNA polymerase, RBP1...</td>\n",
       "    </tr>\n",
       "    <tr>\n",
       "      <th>22</th>\n",
       "      <td>PC114</td>\n",
       "      <td>2007</td>\n",
       "      <td>PC40</td>\n",
       "      <td>RNA_pol_L_2; DNA-directed RNA polymerase, RBP1...</td>\n",
       "    </tr>\n",
       "    <tr>\n",
       "      <th>23</th>\n",
       "      <td>PC104</td>\n",
       "      <td>1386</td>\n",
       "      <td>PC165</td>\n",
       "      <td>MNE1; Mitochondrial splicing apparatus compone...</td>\n",
       "    </tr>\n",
       "    <tr>\n",
       "      <th>24</th>\n",
       "      <td>PC104</td>\n",
       "      <td>1386</td>\n",
       "      <td>PC211</td>\n",
       "      <td>MNE1; Mitochondrial splicing apparatus compone...</td>\n",
       "    </tr>\n",
       "    <tr>\n",
       "      <th>25</th>\n",
       "      <td>PC120</td>\n",
       "      <td>1386</td>\n",
       "      <td>PC165</td>\n",
       "      <td>MNE1; Mitochondrial splicing apparatus compone...</td>\n",
       "    </tr>\n",
       "    <tr>\n",
       "      <th>26</th>\n",
       "      <td>PC120</td>\n",
       "      <td>1386</td>\n",
       "      <td>PC211</td>\n",
       "      <td>MNE1; Mitochondrial splicing apparatus compone...</td>\n",
       "    </tr>\n",
       "    <tr>\n",
       "      <th>27</th>\n",
       "      <td>PC144</td>\n",
       "      <td>844</td>\n",
       "      <td>PC169</td>\n",
       "      <td>Enolase_N; Enolase, N-terminal</td>\n",
       "    </tr>\n",
       "    <tr>\n",
       "      <th>28</th>\n",
       "      <td>PC165</td>\n",
       "      <td>71</td>\n",
       "      <td>PC83</td>\n",
       "      <td>ALAD; Delta-aminolevulinic acid dehydratase</td>\n",
       "    </tr>\n",
       "    <tr>\n",
       "      <th>29</th>\n",
       "      <td>PC173</td>\n",
       "      <td>1365</td>\n",
       "      <td>PC197</td>\n",
       "      <td>MF_alpha; Mating factor alpha, C-terminal repeat</td>\n",
       "    </tr>\n",
       "    <tr>\n",
       "      <th>30</th>\n",
       "      <td>PC186</td>\n",
       "      <td>1365</td>\n",
       "      <td>PC197</td>\n",
       "      <td>MF_alpha; Mating factor alpha, C-terminal repeat</td>\n",
       "    </tr>\n",
       "    <tr>\n",
       "      <th>31</th>\n",
       "      <td>PC177</td>\n",
       "      <td>1101</td>\n",
       "      <td>PC81</td>\n",
       "      <td>HCO3_cotransp; Bicarbonate transporter, C-term...</td>\n",
       "    </tr>\n",
       "    <tr>\n",
       "      <th>32</th>\n",
       "      <td>PC192</td>\n",
       "      <td>2916</td>\n",
       "      <td>PC195</td>\n",
       "      <td>fn3_2; Fibronectin type III domain, fungi</td>\n",
       "    </tr>\n",
       "    <tr>\n",
       "      <th>33</th>\n",
       "      <td>PC193</td>\n",
       "      <td>2916</td>\n",
       "      <td>PC195</td>\n",
       "      <td>fn3_2; Fibronectin type III domain, fungi</td>\n",
       "    </tr>\n",
       "    <tr>\n",
       "      <th>34</th>\n",
       "      <td>PC199</td>\n",
       "      <td>2150</td>\n",
       "      <td>PC180</td>\n",
       "      <td>Ribosom_S12_S23; Ribosomal protein S12/S23</td>\n",
       "    </tr>\n",
       "    <tr>\n",
       "      <th>35</th>\n",
       "      <td>PC217</td>\n",
       "      <td>27</td>\n",
       "      <td>PC136</td>\n",
       "      <td>AAA_8; Dynein heavy chain, P-loop containing D...</td>\n",
       "    </tr>\n",
       "    <tr>\n",
       "      <th>36</th>\n",
       "      <td>PC218</td>\n",
       "      <td>27</td>\n",
       "      <td>PC136</td>\n",
       "      <td>AAA_8; Dynein heavy chain, P-loop containing D...</td>\n",
       "    </tr>\n",
       "    <tr>\n",
       "      <th>37</th>\n",
       "      <td>PC227</td>\n",
       "      <td>2197</td>\n",
       "      <td>PC223</td>\n",
       "      <td>Ribosomal_L37; Ribosomal protein L37, mitochon...</td>\n",
       "    </tr>\n",
       "    <tr>\n",
       "      <th>38</th>\n",
       "      <td>PC245</td>\n",
       "      <td>1733</td>\n",
       "      <td>PC210</td>\n",
       "      <td>PGAP1; GPI inositol-deacylase PGAP1-like</td>\n",
       "    </tr>\n",
       "    <tr>\n",
       "      <th>39</th>\n",
       "      <td>PC249</td>\n",
       "      <td>1623</td>\n",
       "      <td>PC151</td>\n",
       "      <td>Nop53; Ribosome biogenesis protein Nop53/GLTSCR2</td>\n",
       "    </tr>\n",
       "    <tr>\n",
       "      <th>40</th>\n",
       "      <td>PC257</td>\n",
       "      <td>1444</td>\n",
       "      <td>PC220</td>\n",
       "      <td>Med22; Mediator of RNA polymerase II transcrip...</td>\n",
       "    </tr>\n",
       "  </tbody>\n",
       "</table>\n",
       "</div>"
      ],
      "text/plain": [
       "   pca-component_x  domain-number pca-component_y  \\\n",
       "0              PC1           2771             PC1   \n",
       "1              PC2            242             PC2   \n",
       "2              PC4            274            PC42   \n",
       "3              PC7            946            PC21   \n",
       "4             PC11            488            PC26   \n",
       "5             PC13             55             PC4   \n",
       "6             PC17            926             PC9   \n",
       "7             PC20            440            PC77   \n",
       "8             PC31            773            PC44   \n",
       "9             PC36            892            PC30   \n",
       "10            PC37             36            PC84   \n",
       "11            PC37             36            PC85   \n",
       "12            PC38           1275           PC141   \n",
       "13            PC49           1887           PC112   \n",
       "14            PC51            747            PC66   \n",
       "15            PC51            747            PC67   \n",
       "16            PC58           1836            PC28   \n",
       "17            PC59           1836            PC28   \n",
       "18            PC66           1106            PC86   \n",
       "19            PC69            396            PC54   \n",
       "20            PC78            876            PC68   \n",
       "21            PC90           2007            PC40   \n",
       "22           PC114           2007            PC40   \n",
       "23           PC104           1386           PC165   \n",
       "24           PC104           1386           PC211   \n",
       "25           PC120           1386           PC165   \n",
       "26           PC120           1386           PC211   \n",
       "27           PC144            844           PC169   \n",
       "28           PC165             71            PC83   \n",
       "29           PC173           1365           PC197   \n",
       "30           PC186           1365           PC197   \n",
       "31           PC177           1101            PC81   \n",
       "32           PC192           2916           PC195   \n",
       "33           PC193           2916           PC195   \n",
       "34           PC199           2150           PC180   \n",
       "35           PC217             27           PC136   \n",
       "36           PC218             27           PC136   \n",
       "37           PC227           2197           PC223   \n",
       "38           PC245           1733           PC210   \n",
       "39           PC249           1623           PC151   \n",
       "40           PC257           1444           PC220   \n",
       "\n",
       "                                   domain-description  \n",
       "0   Ubiq-assoc; Ubiquitin-associated domain, SWA2-...  \n",
       "1                 Atg31; Autophagy-related protein 31  \n",
       "2                     BOP1NT; BOP1, N-terminal domain  \n",
       "3         Fungal_trans_2; Fungal transcription factor  \n",
       "4     Cnd1_N; Condensin complex subunit 1, N-terminal  \n",
       "5                                                 ADK  \n",
       "6                      Flp_C; Recombinase Flp protein  \n",
       "7   Candida_ALS_N; Agglutinin-like protein, N-term...  \n",
       "8          Dynein_light; Dynein light chain, type 1/2  \n",
       "9                          FSH1; Serine hydrolase FSH  \n",
       "10  AA_permease_2; Amino acid/polyamine transporter I  \n",
       "11  AA_permease_2; Amino acid/polyamine transporter I  \n",
       "12    Kinetocho_Slk19; Central kinetochore-associated  \n",
       "13        Peptidase_S24; Peptidase S24/S26A/S26B/S26C  \n",
       "14                                  Dak1; DhaK domain  \n",
       "15                                  Dak1; DhaK domain  \n",
       "16    PTPLA; Protein-tyrosine phosphatase-like, PTPLA  \n",
       "17    PTPLA; Protein-tyrosine phosphatase-like, PTPLA  \n",
       "18                                             HEAT_2  \n",
       "19         COX5A; Cytochrome c oxidase, subunit Va/VI  \n",
       "20  FDX-ACB; Ferrodoxin-fold anticodon-binding domain  \n",
       "21  RNA_pol_L_2; DNA-directed RNA polymerase, RBP1...  \n",
       "22  RNA_pol_L_2; DNA-directed RNA polymerase, RBP1...  \n",
       "23  MNE1; Mitochondrial splicing apparatus compone...  \n",
       "24  MNE1; Mitochondrial splicing apparatus compone...  \n",
       "25  MNE1; Mitochondrial splicing apparatus compone...  \n",
       "26  MNE1; Mitochondrial splicing apparatus compone...  \n",
       "27                     Enolase_N; Enolase, N-terminal  \n",
       "28        ALAD; Delta-aminolevulinic acid dehydratase  \n",
       "29   MF_alpha; Mating factor alpha, C-terminal repeat  \n",
       "30   MF_alpha; Mating factor alpha, C-terminal repeat  \n",
       "31  HCO3_cotransp; Bicarbonate transporter, C-term...  \n",
       "32          fn3_2; Fibronectin type III domain, fungi  \n",
       "33          fn3_2; Fibronectin type III domain, fungi  \n",
       "34         Ribosom_S12_S23; Ribosomal protein S12/S23  \n",
       "35  AAA_8; Dynein heavy chain, P-loop containing D...  \n",
       "36  AAA_8; Dynein heavy chain, P-loop containing D...  \n",
       "37  Ribosomal_L37; Ribosomal protein L37, mitochon...  \n",
       "38           PGAP1; GPI inositol-deacylase PGAP1-like  \n",
       "39   Nop53; Ribosome biogenesis protein Nop53/GLTSCR2  \n",
       "40  Med22; Mediator of RNA polymerase II transcrip...  "
      ]
     },
     "execution_count": 22,
     "metadata": {},
     "output_type": "execute_result"
    }
   ],
   "source": [
    "df_shared_domains=pd.merge(df_sl,df_nsl,how='inner',on='domain-number')\n",
    "domains_name=np.unique(data_domains['domain-name'])\n",
    "domains_description=np.unique(data_domains['domain-descrip'])\n",
    "\n",
    "df_shared_domains['domain-description']=domains_description[df_shared_domains['domain-number']]\n",
    "\n",
    "\n",
    "df_shared_domains"
   ]
  },
  {
   "cell_type": "code",
   "execution_count": 23,
   "metadata": {
    "execution": {
     "iopub.execute_input": "2020-07-14T15:16:54.953319Z",
     "iopub.status.busy": "2020-07-14T15:16:54.952675Z",
     "iopub.status.idle": "2020-07-14T15:16:54.957982Z",
     "shell.execute_reply": "2020-07-14T15:16:54.958582Z"
    }
   },
   "outputs": [
    {
     "name": "stdout",
     "output_type": "stream",
     "text": [
      "The number of shared domains between SL and nSL pairs,after PCA, is =  41 out of 553 so the 7.414104882459313 %\n"
     ]
    }
   ],
   "source": [
    "print('The number of shared domains between SL and nSL pairs,after PCA, is = ',len(df_shared_domains), 'out of', len(df_sl)+len(df_nsl), 'so the',100*len(df_shared_domains)/(len(df_sl)+len(df_nsl)),'%')"
   ]
  },
  {
   "cell_type": "markdown",
   "metadata": {},
   "source": [
    "## Domains exclusive to SL"
   ]
  },
  {
   "cell_type": "code",
   "execution_count": 24,
   "metadata": {
    "execution": {
     "iopub.execute_input": "2020-07-14T15:16:54.960781Z",
     "iopub.status.busy": "2020-07-14T15:16:54.960281Z",
     "iopub.status.idle": "2020-07-14T15:16:54.988618Z",
     "shell.execute_reply": "2020-07-14T15:16:54.989147Z"
    }
   },
   "outputs": [
    {
     "data": {
      "text/html": [
       "<div>\n",
       "<style scoped>\n",
       "    .dataframe tbody tr th:only-of-type {\n",
       "        vertical-align: middle;\n",
       "    }\n",
       "\n",
       "    .dataframe tbody tr th {\n",
       "        vertical-align: top;\n",
       "    }\n",
       "\n",
       "    .dataframe thead th {\n",
       "        text-align: right;\n",
       "    }\n",
       "</style>\n",
       "<table border=\"1\" class=\"dataframe\">\n",
       "  <thead>\n",
       "    <tr style=\"text-align: right;\">\n",
       "      <th></th>\n",
       "      <th>pca-component_x</th>\n",
       "      <th>domain-number</th>\n",
       "      <th>pca-component_y</th>\n",
       "      <th>domain-description</th>\n",
       "    </tr>\n",
       "  </thead>\n",
       "  <tbody>\n",
       "    <tr>\n",
       "      <th>0</th>\n",
       "      <td>PC0</td>\n",
       "      <td>540</td>\n",
       "      <td>NaN</td>\n",
       "      <td>Cytochrome_B; Cytochrome b/b6, N-terminal</td>\n",
       "    </tr>\n",
       "    <tr>\n",
       "      <th>3</th>\n",
       "      <td>PC3</td>\n",
       "      <td>2</td>\n",
       "      <td>NaN</td>\n",
       "      <td>2-Hacid_dh; D-isomer specific 2-hydroxyacid de...</td>\n",
       "    </tr>\n",
       "    <tr>\n",
       "      <th>5</th>\n",
       "      <td>PC5</td>\n",
       "      <td>134</td>\n",
       "      <td>NaN</td>\n",
       "      <td>ATP-synt_ab_N; ATPase, F1/V1/A1 complex, alpha...</td>\n",
       "    </tr>\n",
       "    <tr>\n",
       "      <th>6</th>\n",
       "      <td>PC6</td>\n",
       "      <td>1055</td>\n",
       "      <td>NaN</td>\n",
       "      <td>Glyco_hydro_63N; Glycosyl hydrolase family 63,...</td>\n",
       "    </tr>\n",
       "    <tr>\n",
       "      <th>8</th>\n",
       "      <td>PC8</td>\n",
       "      <td>746</td>\n",
       "      <td>NaN</td>\n",
       "      <td>DWNN; DWNN domain</td>\n",
       "    </tr>\n",
       "    <tr>\n",
       "      <th>...</th>\n",
       "      <td>...</td>\n",
       "      <td>...</td>\n",
       "      <td>...</td>\n",
       "      <td>...</td>\n",
       "    </tr>\n",
       "    <tr>\n",
       "      <th>272</th>\n",
       "      <td>PC268</td>\n",
       "      <td>2978</td>\n",
       "      <td>NaN</td>\n",
       "      <td>zf-C4pol; C4-type zinc-finger of DNA polymeras...</td>\n",
       "    </tr>\n",
       "    <tr>\n",
       "      <th>273</th>\n",
       "      <td>PC269</td>\n",
       "      <td>310</td>\n",
       "      <td>NaN</td>\n",
       "      <td>C1_1; Protein kinase C-like, phorbol ester/dia...</td>\n",
       "    </tr>\n",
       "    <tr>\n",
       "      <th>274</th>\n",
       "      <td>PC270</td>\n",
       "      <td>181</td>\n",
       "      <td>NaN</td>\n",
       "      <td>AlaDh_PNT_N; Alanine dehydrogenase/pyridine nu...</td>\n",
       "    </tr>\n",
       "    <tr>\n",
       "      <th>275</th>\n",
       "      <td>PC271</td>\n",
       "      <td>2978</td>\n",
       "      <td>NaN</td>\n",
       "      <td>zf-C4pol; C4-type zinc-finger of DNA polymeras...</td>\n",
       "    </tr>\n",
       "    <tr>\n",
       "      <th>276</th>\n",
       "      <td>PC272</td>\n",
       "      <td>181</td>\n",
       "      <td>NaN</td>\n",
       "      <td>AlaDh_PNT_N; Alanine dehydrogenase/pyridine nu...</td>\n",
       "    </tr>\n",
       "  </tbody>\n",
       "</table>\n",
       "<p>236 rows × 4 columns</p>\n",
       "</div>"
      ],
      "text/plain": [
       "    pca-component_x  domain-number pca-component_y  \\\n",
       "0               PC0            540             NaN   \n",
       "3               PC3              2             NaN   \n",
       "5               PC5            134             NaN   \n",
       "6               PC6           1055             NaN   \n",
       "8               PC8            746             NaN   \n",
       "..              ...            ...             ...   \n",
       "272           PC268           2978             NaN   \n",
       "273           PC269            310             NaN   \n",
       "274           PC270            181             NaN   \n",
       "275           PC271           2978             NaN   \n",
       "276           PC272            181             NaN   \n",
       "\n",
       "                                    domain-description  \n",
       "0            Cytochrome_B; Cytochrome b/b6, N-terminal  \n",
       "3    2-Hacid_dh; D-isomer specific 2-hydroxyacid de...  \n",
       "5    ATP-synt_ab_N; ATPase, F1/V1/A1 complex, alpha...  \n",
       "6    Glyco_hydro_63N; Glycosyl hydrolase family 63,...  \n",
       "8                                    DWNN; DWNN domain  \n",
       "..                                                 ...  \n",
       "272  zf-C4pol; C4-type zinc-finger of DNA polymeras...  \n",
       "273  C1_1; Protein kinase C-like, phorbol ester/dia...  \n",
       "274  AlaDh_PNT_N; Alanine dehydrogenase/pyridine nu...  \n",
       "275  zf-C4pol; C4-type zinc-finger of DNA polymeras...  \n",
       "276  AlaDh_PNT_N; Alanine dehydrogenase/pyridine nu...  \n",
       "\n",
       "[236 rows x 4 columns]"
      ]
     },
     "execution_count": 24,
     "metadata": {},
     "output_type": "execute_result"
    }
   ],
   "source": [
    "df_sl_exclusive=pd.merge(df_sl,df_nsl,how='left',on='domain-number')\n",
    "\n",
    "domains_name=np.unique(data_domains['domain-name'])\n",
    "domains_description=np.unique(data_domains['domain-descrip'])\n",
    "\n",
    "df_sl_exclusive['domain-description']=domains_description[df_sl_exclusive['domain-number']]\n",
    "df_sl_exclusive[pd.isnull(df_sl_exclusive['pca-component_y'])]"
   ]
  },
  {
   "cell_type": "code",
   "execution_count": 25,
   "metadata": {
    "execution": {
     "iopub.execute_input": "2020-07-14T15:16:54.993047Z",
     "iopub.status.busy": "2020-07-14T15:16:54.992448Z",
     "iopub.status.idle": "2020-07-14T15:16:54.996118Z",
     "shell.execute_reply": "2020-07-14T15:16:54.996742Z"
    }
   },
   "outputs": [
    {
     "name": "stdout",
     "output_type": "stream",
     "text": [
      "The number of exclusive domains from SL pairs, after PCA, is =  277 out of 553 so the 50.09041591320072 %\n"
     ]
    }
   ],
   "source": [
    "print('The number of exclusive domains from SL pairs, after PCA, is = ',len(df_sl_exclusive), 'out of', len(df_sl)+len(df_nsl), 'so the',100*len(df_sl_exclusive)/(len(df_sl)+len(df_nsl)),'%')"
   ]
  },
  {
   "cell_type": "code",
   "execution_count": 26,
   "metadata": {
    "execution": {
     "iopub.execute_input": "2020-07-14T15:16:54.999164Z",
     "iopub.status.busy": "2020-07-14T15:16:54.998528Z",
     "iopub.status.idle": "2020-07-14T15:16:55.032654Z",
     "shell.execute_reply": "2020-07-14T15:16:55.033163Z"
    }
   },
   "outputs": [
    {
     "data": {
      "text/html": [
       "<div>\n",
       "<style scoped>\n",
       "    .dataframe tbody tr th:only-of-type {\n",
       "        vertical-align: middle;\n",
       "    }\n",
       "\n",
       "    .dataframe tbody tr th {\n",
       "        vertical-align: top;\n",
       "    }\n",
       "\n",
       "    .dataframe thead th {\n",
       "        text-align: right;\n",
       "    }\n",
       "</style>\n",
       "<table border=\"1\" class=\"dataframe\">\n",
       "  <thead>\n",
       "    <tr style=\"text-align: right;\">\n",
       "      <th></th>\n",
       "      <th>pca-component_x</th>\n",
       "      <th>domain-number</th>\n",
       "      <th>pca-component_y</th>\n",
       "      <th>domain-description</th>\n",
       "    </tr>\n",
       "  </thead>\n",
       "  <tbody>\n",
       "    <tr>\n",
       "      <th>41</th>\n",
       "      <td>NaN</td>\n",
       "      <td>1028</td>\n",
       "      <td>PC0</td>\n",
       "      <td>GatB_Yqey; Asn/Gln amidotransferase</td>\n",
       "    </tr>\n",
       "    <tr>\n",
       "      <th>42</th>\n",
       "      <td>NaN</td>\n",
       "      <td>2113</td>\n",
       "      <td>PC3</td>\n",
       "      <td>Rav1p_C; RAVE complex protein Rav1 C-terminal</td>\n",
       "    </tr>\n",
       "    <tr>\n",
       "      <th>43</th>\n",
       "      <td>NaN</td>\n",
       "      <td>2113</td>\n",
       "      <td>PC6</td>\n",
       "      <td>Rav1p_C; RAVE complex protein Rav1 C-terminal</td>\n",
       "    </tr>\n",
       "    <tr>\n",
       "      <th>44</th>\n",
       "      <td>NaN</td>\n",
       "      <td>303</td>\n",
       "      <td>PC5</td>\n",
       "      <td>Bromo_TP; Bromodomain associated domain</td>\n",
       "    </tr>\n",
       "    <tr>\n",
       "      <th>45</th>\n",
       "      <td>NaN</td>\n",
       "      <td>383</td>\n",
       "      <td>PC7</td>\n",
       "      <td>COPI_C; Coatomer, alpha subunit, C-terminal</td>\n",
       "    </tr>\n",
       "    <tr>\n",
       "      <th>...</th>\n",
       "      <td>...</td>\n",
       "      <td>...</td>\n",
       "      <td>...</td>\n",
       "      <td>...</td>\n",
       "    </tr>\n",
       "    <tr>\n",
       "      <th>282</th>\n",
       "      <td>NaN</td>\n",
       "      <td>1712</td>\n",
       "      <td>PC266</td>\n",
       "      <td>PCRF; Peptide chain release factor</td>\n",
       "    </tr>\n",
       "    <tr>\n",
       "      <th>283</th>\n",
       "      <td>NaN</td>\n",
       "      <td>2271</td>\n",
       "      <td>PC269</td>\n",
       "      <td>RsfS</td>\n",
       "    </tr>\n",
       "    <tr>\n",
       "      <th>284</th>\n",
       "      <td>NaN</td>\n",
       "      <td>1641</td>\n",
       "      <td>PC273</td>\n",
       "      <td>Nsp1_C; Nucleoporin, NSP1-like, C-terminal</td>\n",
       "    </tr>\n",
       "    <tr>\n",
       "      <th>285</th>\n",
       "      <td>NaN</td>\n",
       "      <td>618</td>\n",
       "      <td>PC278</td>\n",
       "      <td>DNA_pol_alpha_N; DNA polymerase alpha catalyti...</td>\n",
       "    </tr>\n",
       "    <tr>\n",
       "      <th>286</th>\n",
       "      <td>NaN</td>\n",
       "      <td>553</td>\n",
       "      <td>PC279</td>\n",
       "      <td>DASH_Dad1; DASH complex subunit Dad1</td>\n",
       "    </tr>\n",
       "  </tbody>\n",
       "</table>\n",
       "<p>246 rows × 4 columns</p>\n",
       "</div>"
      ],
      "text/plain": [
       "    pca-component_x  domain-number pca-component_y  \\\n",
       "41              NaN           1028             PC0   \n",
       "42              NaN           2113             PC3   \n",
       "43              NaN           2113             PC6   \n",
       "44              NaN            303             PC5   \n",
       "45              NaN            383             PC7   \n",
       "..              ...            ...             ...   \n",
       "282             NaN           1712           PC266   \n",
       "283             NaN           2271           PC269   \n",
       "284             NaN           1641           PC273   \n",
       "285             NaN            618           PC278   \n",
       "286             NaN            553           PC279   \n",
       "\n",
       "                                    domain-description  \n",
       "41                 GatB_Yqey; Asn/Gln amidotransferase  \n",
       "42       Rav1p_C; RAVE complex protein Rav1 C-terminal  \n",
       "43       Rav1p_C; RAVE complex protein Rav1 C-terminal  \n",
       "44             Bromo_TP; Bromodomain associated domain  \n",
       "45         COPI_C; Coatomer, alpha subunit, C-terminal  \n",
       "..                                                 ...  \n",
       "282                 PCRF; Peptide chain release factor  \n",
       "283                                               RsfS  \n",
       "284         Nsp1_C; Nucleoporin, NSP1-like, C-terminal  \n",
       "285  DNA_pol_alpha_N; DNA polymerase alpha catalyti...  \n",
       "286               DASH_Dad1; DASH complex subunit Dad1  \n",
       "\n",
       "[246 rows x 4 columns]"
      ]
     },
     "execution_count": 26,
     "metadata": {},
     "output_type": "execute_result"
    }
   ],
   "source": [
    "df_nsl_exclusive=pd.merge(df_sl,df_nsl,how='right',on='domain-number')\n",
    "\n",
    "domains_name=np.unique(data_domains['domain-name'])\n",
    "domains_description=np.unique(data_domains['domain-descrip'])\n",
    "\n",
    "df_nsl_exclusive['domain-description']=domains_description[df_nsl_exclusive['domain-number']]\n",
    "df_nsl_exclusive[pd.isnull(df_nsl_exclusive['pca-component_x'])]"
   ]
  },
  {
   "cell_type": "code",
   "execution_count": 27,
   "metadata": {
    "execution": {
     "iopub.execute_input": "2020-07-14T15:16:55.038199Z",
     "iopub.status.busy": "2020-07-14T15:16:55.037559Z",
     "iopub.status.idle": "2020-07-14T15:16:55.043378Z",
     "shell.execute_reply": "2020-07-14T15:16:55.042943Z"
    }
   },
   "outputs": [
    {
     "name": "stdout",
     "output_type": "stream",
     "text": [
      "The number of exclusive domains from non SL pairs, after PCA, is =  287 out of 553 so the 51.89873417721519 %\n"
     ]
    }
   ],
   "source": [
    "print('The number of exclusive domains from non SL pairs, after PCA, is = ',len(df_nsl_exclusive), 'out of', len(df_sl)+len(df_nsl), 'so the',100*len(df_nsl_exclusive)/(len(df_sl)+len(df_nsl)),'%')"
   ]
  },
  {
   "cell_type": "markdown",
   "metadata": {},
   "source": [
    "## Let see to the domains-number that get repeated after the PCA analysis , and selecting the most explanatory feature by its explained variance."
   ]
  },
  {
   "cell_type": "code",
   "execution_count": 28,
   "metadata": {
    "execution": {
     "iopub.execute_input": "2020-07-14T15:16:55.067439Z",
     "iopub.status.busy": "2020-07-14T15:16:55.064075Z",
     "iopub.status.idle": "2020-07-14T15:16:55.070755Z",
     "shell.execute_reply": "2020-07-14T15:16:55.070258Z"
    }
   },
   "outputs": [],
   "source": [
    "duplicated_features_sl=df_sl[df_sl.iloc[:,1].duplicated()]\n",
    "repeated_features_sl=pd.DataFrame()\n",
    "\n",
    "domains_name=np.unique(data_domains['domain-name'])\n",
    "domains_description=np.unique(data_domains['domain-descrip'])\n",
    "\n",
    "repeated_features_sl['domain-name']=domains_name[duplicated_features_sl.iloc[:,1]] \n",
    "repeated_features_sl['domain-description']=domains_description[duplicated_features_sl.iloc[:,1]]\n",
    "\n",
    "duplicated_features_nsl=df_nsl[df_nsl.iloc[:,1].duplicated()]\n",
    "repeated_features_nsl=pd.DataFrame()\n",
    "\n",
    "repeated_features_nsl['domain-name']=domains_name[duplicated_features_nsl.iloc[:,1]] \n",
    "repeated_features_nsl['domain-description']=domains_description[duplicated_features_nsl.iloc[:,1]]"
   ]
  },
  {
   "cell_type": "code",
   "execution_count": 29,
   "metadata": {
    "execution": {
     "iopub.execute_input": "2020-07-14T15:16:55.081666Z",
     "iopub.status.busy": "2020-07-14T15:16:55.075675Z",
     "iopub.status.idle": "2020-07-14T15:16:55.085553Z",
     "shell.execute_reply": "2020-07-14T15:16:55.084977Z"
    }
   },
   "outputs": [
    {
     "name": "stderr",
     "output_type": "stream",
     "text": [
      "/usr/share/miniconda3/envs/wintest/lib/python3.7/site-packages/ipykernel_launcher.py:3: SettingWithCopyWarning: \n",
      "A value is trying to be set on a copy of a slice from a DataFrame.\n",
      "Try using .loc[row_indexer,col_indexer] = value instead\n",
      "\n",
      "See the caveats in the documentation: https://pandas.pydata.org/pandas-docs/stable/user_guide/indexing.html#returning-a-view-versus-a-copy\n",
      "  This is separate from the ipykernel package so we can avoid doing imports until\n"
     ]
    },
    {
     "data": {
      "text/plain": [
       "((49, 4), (277, 4))"
      ]
     },
     "execution_count": 29,
     "metadata": {},
     "output_type": "execute_result"
    }
   ],
   "source": [
    "only_sl_pd=pd.merge(repeated_features_sl,repeated_features_nsl,how='left',on=['domain-name'])\n",
    "data_only_sl = only_sl_pd[pd.isnull(only_sl_pd['domain-description_y'])]\n",
    "data_only_sl['domain-description']=data_only_sl['domain-description_x']\n",
    "data_only_sl.shape,df_sl_exclusive.shape"
   ]
  },
  {
   "cell_type": "code",
   "execution_count": 30,
   "metadata": {
    "execution": {
     "iopub.execute_input": "2020-07-14T15:16:55.106404Z",
     "iopub.status.busy": "2020-07-14T15:16:55.105745Z",
     "iopub.status.idle": "2020-07-14T15:16:55.109533Z",
     "shell.execute_reply": "2020-07-14T15:16:55.108840Z"
    }
   },
   "outputs": [
    {
     "data": {
      "text/html": [
       "<div>\n",
       "<style scoped>\n",
       "    .dataframe tbody tr th:only-of-type {\n",
       "        vertical-align: middle;\n",
       "    }\n",
       "\n",
       "    .dataframe tbody tr th {\n",
       "        vertical-align: top;\n",
       "    }\n",
       "\n",
       "    .dataframe thead th {\n",
       "        text-align: right;\n",
       "    }\n",
       "</style>\n",
       "<table border=\"1\" class=\"dataframe\">\n",
       "  <thead>\n",
       "    <tr style=\"text-align: right;\">\n",
       "      <th></th>\n",
       "      <th>domain-name</th>\n",
       "      <th>domain-description_x</th>\n",
       "      <th>domain-description_y</th>\n",
       "    </tr>\n",
       "  </thead>\n",
       "  <tbody>\n",
       "    <tr>\n",
       "      <th>1</th>\n",
       "      <td>PF09382</td>\n",
       "      <td>NaN</td>\n",
       "      <td>Rav1p_C; RAVE complex protein Rav1 C-terminal</td>\n",
       "    </tr>\n",
       "    <tr>\n",
       "      <th>2</th>\n",
       "      <td>PF06733</td>\n",
       "      <td>NaN</td>\n",
       "      <td>Ost5; Oligosaccharyltransferase complex subunit</td>\n",
       "    </tr>\n",
       "    <tr>\n",
       "      <th>3</th>\n",
       "      <td>PF04408</td>\n",
       "      <td>NaN</td>\n",
       "      <td>MAD; Spindle assembly checkpoint component Mad1</td>\n",
       "    </tr>\n",
       "    <tr>\n",
       "      <th>4</th>\n",
       "      <td>PF00009</td>\n",
       "      <td>NaN</td>\n",
       "      <td>2-Hacid_dh_C; D-isomer specific 2-hydroxyacid ...</td>\n",
       "    </tr>\n",
       "    <tr>\n",
       "      <th>5</th>\n",
       "      <td>PF00249</td>\n",
       "      <td>NaN</td>\n",
       "      <td>ATP-synt_10; ATPase assembly factor ATP10</td>\n",
       "    </tr>\n",
       "    <tr>\n",
       "      <th>6</th>\n",
       "      <td>PF05008</td>\n",
       "      <td>NaN</td>\n",
       "      <td>Methyltransf_23</td>\n",
       "    </tr>\n",
       "    <tr>\n",
       "      <th>7</th>\n",
       "      <td>PF04423</td>\n",
       "      <td>NaN</td>\n",
       "      <td>MARVEL; Marvel domain</td>\n",
       "    </tr>\n",
       "    <tr>\n",
       "      <th>8</th>\n",
       "      <td>PF01798</td>\n",
       "      <td>NaN</td>\n",
       "      <td>Dak1; DhaK domain</td>\n",
       "    </tr>\n",
       "    <tr>\n",
       "      <th>9</th>\n",
       "      <td>PF00856</td>\n",
       "      <td>NaN</td>\n",
       "      <td>CRAL_TRIO; CRAL-TRIO lipid binding domain</td>\n",
       "    </tr>\n",
       "    <tr>\n",
       "      <th>10</th>\n",
       "      <td>PF00856</td>\n",
       "      <td>NaN</td>\n",
       "      <td>CRAL_TRIO; CRAL-TRIO lipid binding domain</td>\n",
       "    </tr>\n",
       "    <tr>\n",
       "      <th>11</th>\n",
       "      <td>PF03097</td>\n",
       "      <td>NaN</td>\n",
       "      <td>Glutaredoxin</td>\n",
       "    </tr>\n",
       "    <tr>\n",
       "      <th>12</th>\n",
       "      <td>PF00085</td>\n",
       "      <td>NaN</td>\n",
       "      <td>AA_permease_2; Amino acid/polyamine transporter I</td>\n",
       "    </tr>\n",
       "    <tr>\n",
       "      <th>13</th>\n",
       "      <td>PF05871</td>\n",
       "      <td>NaN</td>\n",
       "      <td>Nab2; Nuclear abundant poly(A) RNA-binding pro...</td>\n",
       "    </tr>\n",
       "    <tr>\n",
       "      <th>14</th>\n",
       "      <td>PF03874</td>\n",
       "      <td>NaN</td>\n",
       "      <td>Hydantoinase_A; Hydantoinase/oxoprolinase</td>\n",
       "    </tr>\n",
       "    <tr>\n",
       "      <th>15</th>\n",
       "      <td>PF02840</td>\n",
       "      <td>NaN</td>\n",
       "      <td>GED; Dynamin GTPase effector</td>\n",
       "    </tr>\n",
       "    <tr>\n",
       "      <th>16</th>\n",
       "      <td>PF01261</td>\n",
       "      <td>NaN</td>\n",
       "      <td>DER1</td>\n",
       "    </tr>\n",
       "    <tr>\n",
       "      <th>17</th>\n",
       "      <td>PF00241</td>\n",
       "      <td>NaN</td>\n",
       "      <td>ATP-cone; ATP-cone domain</td>\n",
       "    </tr>\n",
       "    <tr>\n",
       "      <th>18</th>\n",
       "      <td>PF00307</td>\n",
       "      <td>NaN</td>\n",
       "      <td>AcetylCoA_hyd_C; Acetyl-CoA hydrolase/transfer...</td>\n",
       "    </tr>\n",
       "    <tr>\n",
       "      <th>19</th>\n",
       "      <td>PF08264</td>\n",
       "      <td>NaN</td>\n",
       "      <td>Peptidase_C13; Peptidase C13, legumain</td>\n",
       "    </tr>\n",
       "    <tr>\n",
       "      <th>20</th>\n",
       "      <td>PF10296</td>\n",
       "      <td>NaN</td>\n",
       "      <td>Ribosomal_S2; Ribosomal protein S2</td>\n",
       "    </tr>\n",
       "    <tr>\n",
       "      <th>21</th>\n",
       "      <td>PF09346</td>\n",
       "      <td>NaN</td>\n",
       "      <td>RasGAP; Ras GTPase-activating protein</td>\n",
       "    </tr>\n",
       "    <tr>\n",
       "      <th>22</th>\n",
       "      <td>PF00828</td>\n",
       "      <td>NaN</td>\n",
       "      <td>COX6A; Cytochrome c oxidase, subunit VIa</td>\n",
       "    </tr>\n",
       "    <tr>\n",
       "      <th>23</th>\n",
       "      <td>PF00828</td>\n",
       "      <td>NaN</td>\n",
       "      <td>COX6A; Cytochrome c oxidase, subunit VIa</td>\n",
       "    </tr>\n",
       "    <tr>\n",
       "      <th>24</th>\n",
       "      <td>PF10744</td>\n",
       "      <td>NaN</td>\n",
       "      <td>SLD3; DNA replication regulator Sld3</td>\n",
       "    </tr>\n",
       "    <tr>\n",
       "      <th>25</th>\n",
       "      <td>PF01541</td>\n",
       "      <td>NaN</td>\n",
       "      <td>DUF1899; Domain of unknown function DUF1899</td>\n",
       "    </tr>\n",
       "    <tr>\n",
       "      <th>26</th>\n",
       "      <td>PF00682</td>\n",
       "      <td>NaN</td>\n",
       "      <td>CDC73_C; Cell division control protein 73, C-t...</td>\n",
       "    </tr>\n",
       "    <tr>\n",
       "      <th>27</th>\n",
       "      <td>PF08313</td>\n",
       "      <td>NaN</td>\n",
       "      <td>Peptidase_M28; Peptidase M28</td>\n",
       "    </tr>\n",
       "    <tr>\n",
       "      <th>28</th>\n",
       "      <td>PF13694</td>\n",
       "      <td>NaN</td>\n",
       "      <td>Thymidylate_kin</td>\n",
       "    </tr>\n",
       "    <tr>\n",
       "      <th>29</th>\n",
       "      <td>PF13694</td>\n",
       "      <td>NaN</td>\n",
       "      <td>Thymidylate_kin</td>\n",
       "    </tr>\n",
       "    <tr>\n",
       "      <th>30</th>\n",
       "      <td>PF03357</td>\n",
       "      <td>NaN</td>\n",
       "      <td>HAND; ISWI, HAND domain</td>\n",
       "    </tr>\n",
       "    <tr>\n",
       "      <th>31</th>\n",
       "      <td>PF13245</td>\n",
       "      <td>NaN</td>\n",
       "      <td>TP6A_N; Spo11/DNA topoisomerase VI, subunit A,...</td>\n",
       "    </tr>\n",
       "    <tr>\n",
       "      <th>32</th>\n",
       "      <td>PF02441</td>\n",
       "      <td>NaN</td>\n",
       "      <td>FMN_dh; FMN-dependent dehydrogenase</td>\n",
       "    </tr>\n",
       "    <tr>\n",
       "      <th>33</th>\n",
       "      <td>PF04699</td>\n",
       "      <td>NaN</td>\n",
       "      <td>MRP-S33; Ribosomal protein S27/S33, mitochondrial</td>\n",
       "    </tr>\n",
       "    <tr>\n",
       "      <th>34</th>\n",
       "      <td>PF04699</td>\n",
       "      <td>NaN</td>\n",
       "      <td>MRP-S33; Ribosomal protein S27/S33, mitochondrial</td>\n",
       "    </tr>\n",
       "    <tr>\n",
       "      <th>35</th>\n",
       "      <td>PF10310</td>\n",
       "      <td>NaN</td>\n",
       "      <td>Ribosomal_S6; Ribosomal protein S6</td>\n",
       "    </tr>\n",
       "    <tr>\n",
       "      <th>36</th>\n",
       "      <td>PF01900</td>\n",
       "      <td>NaN</td>\n",
       "      <td>Dynamin_N; Dynamin superfamily</td>\n",
       "    </tr>\n",
       "    <tr>\n",
       "      <th>37</th>\n",
       "      <td>PF12701</td>\n",
       "      <td>NaN</td>\n",
       "      <td>Spt4; Spt4/RpoE2 zinc finger</td>\n",
       "    </tr>\n",
       "    <tr>\n",
       "      <th>38</th>\n",
       "      <td>PF12718</td>\n",
       "      <td>NaN</td>\n",
       "      <td>Ste50p-SAM; Ste50, sterile alpha motif</td>\n",
       "    </tr>\n",
       "    <tr>\n",
       "      <th>39</th>\n",
       "      <td>PF12718</td>\n",
       "      <td>NaN</td>\n",
       "      <td>Ste50p-SAM; Ste50, sterile alpha motif</td>\n",
       "    </tr>\n",
       "    <tr>\n",
       "      <th>40</th>\n",
       "      <td>PF04118</td>\n",
       "      <td>NaN</td>\n",
       "      <td>LCM; Methyltransferase Ppm1/Ppm2/Tcmp</td>\n",
       "    </tr>\n",
       "    <tr>\n",
       "      <th>41</th>\n",
       "      <td>PF04118</td>\n",
       "      <td>NaN</td>\n",
       "      <td>LCM; Methyltransferase Ppm1/Ppm2/Tcmp</td>\n",
       "    </tr>\n",
       "    <tr>\n",
       "      <th>42</th>\n",
       "      <td>PF04118</td>\n",
       "      <td>NaN</td>\n",
       "      <td>LCM; Methyltransferase Ppm1/Ppm2/Tcmp</td>\n",
       "    </tr>\n",
       "    <tr>\n",
       "      <th>43</th>\n",
       "      <td>PF10273</td>\n",
       "      <td>NaN</td>\n",
       "      <td>Ribosomal_S19; Ribosomal protein S19/S15</td>\n",
       "    </tr>\n",
       "    <tr>\n",
       "      <th>44</th>\n",
       "      <td>PF04707</td>\n",
       "      <td>NaN</td>\n",
       "      <td>MRP_L53; Ribosomal protein L53, mitochondrial</td>\n",
       "    </tr>\n",
       "    <tr>\n",
       "      <th>45</th>\n",
       "      <td>PF10471</td>\n",
       "      <td>NaN</td>\n",
       "      <td>SET; SET domain</td>\n",
       "    </tr>\n",
       "    <tr>\n",
       "      <th>46</th>\n",
       "      <td>PF08539</td>\n",
       "      <td>NaN</td>\n",
       "      <td>Prefoldin; Prefoldin alpha-like</td>\n",
       "    </tr>\n",
       "    <tr>\n",
       "      <th>47</th>\n",
       "      <td>PF08539</td>\n",
       "      <td>NaN</td>\n",
       "      <td>Prefoldin; Prefoldin alpha-like</td>\n",
       "    </tr>\n",
       "    <tr>\n",
       "      <th>48</th>\n",
       "      <td>PF00324</td>\n",
       "      <td>NaN</td>\n",
       "      <td>Acyl-CoA_ox_N; Acyl-coenzyme A oxidase, N-term...</td>\n",
       "    </tr>\n",
       "    <tr>\n",
       "      <th>49</th>\n",
       "      <td>PF00324</td>\n",
       "      <td>NaN</td>\n",
       "      <td>Acyl-CoA_ox_N; Acyl-coenzyme A oxidase, N-term...</td>\n",
       "    </tr>\n",
       "    <tr>\n",
       "      <th>50</th>\n",
       "      <td>PF09420</td>\n",
       "      <td>NaN</td>\n",
       "      <td>Redoxin</td>\n",
       "    </tr>\n",
       "    <tr>\n",
       "      <th>51</th>\n",
       "      <td>PF03568</td>\n",
       "      <td>NaN</td>\n",
       "      <td>HRI1; Protein Hri1</td>\n",
       "    </tr>\n",
       "    <tr>\n",
       "      <th>52</th>\n",
       "      <td>PF00164</td>\n",
       "      <td>NaN</td>\n",
       "      <td>ALIX_LYPXL_bnd; ALIX V-shaped domain</td>\n",
       "    </tr>\n",
       "    <tr>\n",
       "      <th>53</th>\n",
       "      <td>PF01868</td>\n",
       "      <td>NaN</td>\n",
       "      <td>Dpy-30; Dpy-30 motif</td>\n",
       "    </tr>\n",
       "    <tr>\n",
       "      <th>54</th>\n",
       "      <td>PF00810</td>\n",
       "      <td>NaN</td>\n",
       "      <td>COX2_TM; Cytochrome C oxidase subunit II, tran...</td>\n",
       "    </tr>\n",
       "    <tr>\n",
       "      <th>55</th>\n",
       "      <td>PF12735</td>\n",
       "      <td>NaN</td>\n",
       "      <td>Sterol-sensing; Sterol-sensing domain</td>\n",
       "    </tr>\n",
       "    <tr>\n",
       "      <th>56</th>\n",
       "      <td>PF01585</td>\n",
       "      <td>NaN</td>\n",
       "      <td>DUF2407; Domain of unknown function DUF2407 N-...</td>\n",
       "    </tr>\n",
       "  </tbody>\n",
       "</table>\n",
       "</div>"
      ],
      "text/plain": [
       "   domain-name domain-description_x  \\\n",
       "1      PF09382                  NaN   \n",
       "2      PF06733                  NaN   \n",
       "3      PF04408                  NaN   \n",
       "4      PF00009                  NaN   \n",
       "5      PF00249                  NaN   \n",
       "6      PF05008                  NaN   \n",
       "7      PF04423                  NaN   \n",
       "8      PF01798                  NaN   \n",
       "9      PF00856                  NaN   \n",
       "10     PF00856                  NaN   \n",
       "11     PF03097                  NaN   \n",
       "12     PF00085                  NaN   \n",
       "13     PF05871                  NaN   \n",
       "14     PF03874                  NaN   \n",
       "15     PF02840                  NaN   \n",
       "16     PF01261                  NaN   \n",
       "17     PF00241                  NaN   \n",
       "18     PF00307                  NaN   \n",
       "19     PF08264                  NaN   \n",
       "20     PF10296                  NaN   \n",
       "21     PF09346                  NaN   \n",
       "22     PF00828                  NaN   \n",
       "23     PF00828                  NaN   \n",
       "24     PF10744                  NaN   \n",
       "25     PF01541                  NaN   \n",
       "26     PF00682                  NaN   \n",
       "27     PF08313                  NaN   \n",
       "28     PF13694                  NaN   \n",
       "29     PF13694                  NaN   \n",
       "30     PF03357                  NaN   \n",
       "31     PF13245                  NaN   \n",
       "32     PF02441                  NaN   \n",
       "33     PF04699                  NaN   \n",
       "34     PF04699                  NaN   \n",
       "35     PF10310                  NaN   \n",
       "36     PF01900                  NaN   \n",
       "37     PF12701                  NaN   \n",
       "38     PF12718                  NaN   \n",
       "39     PF12718                  NaN   \n",
       "40     PF04118                  NaN   \n",
       "41     PF04118                  NaN   \n",
       "42     PF04118                  NaN   \n",
       "43     PF10273                  NaN   \n",
       "44     PF04707                  NaN   \n",
       "45     PF10471                  NaN   \n",
       "46     PF08539                  NaN   \n",
       "47     PF08539                  NaN   \n",
       "48     PF00324                  NaN   \n",
       "49     PF00324                  NaN   \n",
       "50     PF09420                  NaN   \n",
       "51     PF03568                  NaN   \n",
       "52     PF00164                  NaN   \n",
       "53     PF01868                  NaN   \n",
       "54     PF00810                  NaN   \n",
       "55     PF12735                  NaN   \n",
       "56     PF01585                  NaN   \n",
       "\n",
       "                                 domain-description_y  \n",
       "1       Rav1p_C; RAVE complex protein Rav1 C-terminal  \n",
       "2     Ost5; Oligosaccharyltransferase complex subunit  \n",
       "3     MAD; Spindle assembly checkpoint component Mad1  \n",
       "4   2-Hacid_dh_C; D-isomer specific 2-hydroxyacid ...  \n",
       "5           ATP-synt_10; ATPase assembly factor ATP10  \n",
       "6                                     Methyltransf_23  \n",
       "7                               MARVEL; Marvel domain  \n",
       "8                                   Dak1; DhaK domain  \n",
       "9           CRAL_TRIO; CRAL-TRIO lipid binding domain  \n",
       "10          CRAL_TRIO; CRAL-TRIO lipid binding domain  \n",
       "11                                       Glutaredoxin  \n",
       "12  AA_permease_2; Amino acid/polyamine transporter I  \n",
       "13  Nab2; Nuclear abundant poly(A) RNA-binding pro...  \n",
       "14          Hydantoinase_A; Hydantoinase/oxoprolinase  \n",
       "15                       GED; Dynamin GTPase effector  \n",
       "16                                               DER1  \n",
       "17                          ATP-cone; ATP-cone domain  \n",
       "18  AcetylCoA_hyd_C; Acetyl-CoA hydrolase/transfer...  \n",
       "19             Peptidase_C13; Peptidase C13, legumain  \n",
       "20                 Ribosomal_S2; Ribosomal protein S2  \n",
       "21              RasGAP; Ras GTPase-activating protein  \n",
       "22           COX6A; Cytochrome c oxidase, subunit VIa  \n",
       "23           COX6A; Cytochrome c oxidase, subunit VIa  \n",
       "24               SLD3; DNA replication regulator Sld3  \n",
       "25        DUF1899; Domain of unknown function DUF1899  \n",
       "26  CDC73_C; Cell division control protein 73, C-t...  \n",
       "27                       Peptidase_M28; Peptidase M28  \n",
       "28                                    Thymidylate_kin  \n",
       "29                                    Thymidylate_kin  \n",
       "30                            HAND; ISWI, HAND domain  \n",
       "31  TP6A_N; Spo11/DNA topoisomerase VI, subunit A,...  \n",
       "32                FMN_dh; FMN-dependent dehydrogenase  \n",
       "33  MRP-S33; Ribosomal protein S27/S33, mitochondrial  \n",
       "34  MRP-S33; Ribosomal protein S27/S33, mitochondrial  \n",
       "35                 Ribosomal_S6; Ribosomal protein S6  \n",
       "36                     Dynamin_N; Dynamin superfamily  \n",
       "37                       Spt4; Spt4/RpoE2 zinc finger  \n",
       "38             Ste50p-SAM; Ste50, sterile alpha motif  \n",
       "39             Ste50p-SAM; Ste50, sterile alpha motif  \n",
       "40              LCM; Methyltransferase Ppm1/Ppm2/Tcmp  \n",
       "41              LCM; Methyltransferase Ppm1/Ppm2/Tcmp  \n",
       "42              LCM; Methyltransferase Ppm1/Ppm2/Tcmp  \n",
       "43           Ribosomal_S19; Ribosomal protein S19/S15  \n",
       "44      MRP_L53; Ribosomal protein L53, mitochondrial  \n",
       "45                                    SET; SET domain  \n",
       "46                    Prefoldin; Prefoldin alpha-like  \n",
       "47                    Prefoldin; Prefoldin alpha-like  \n",
       "48  Acyl-CoA_ox_N; Acyl-coenzyme A oxidase, N-term...  \n",
       "49  Acyl-CoA_ox_N; Acyl-coenzyme A oxidase, N-term...  \n",
       "50                                            Redoxin  \n",
       "51                                 HRI1; Protein Hri1  \n",
       "52               ALIX_LYPXL_bnd; ALIX V-shaped domain  \n",
       "53                               Dpy-30; Dpy-30 motif  \n",
       "54  COX2_TM; Cytochrome C oxidase subunit II, tran...  \n",
       "55              Sterol-sensing; Sterol-sensing domain  \n",
       "56  DUF2407; Domain of unknown function DUF2407 N-...  "
      ]
     },
     "execution_count": 30,
     "metadata": {},
     "output_type": "execute_result"
    }
   ],
   "source": [
    "only_nsl_pd=pd.merge(repeated_features_sl,repeated_features_nsl,how='right',on=['domain-name'])\n",
    "data_only_nsl = only_nsl_pd[pd.isnull(only_nsl_pd['domain-description_x'])]\n",
    "data_only_nsl"
   ]
  },
  {
   "cell_type": "code",
   "execution_count": 31,
   "metadata": {
    "execution": {
     "iopub.execute_input": "2020-07-14T15:16:55.122191Z",
     "iopub.status.busy": "2020-07-14T15:16:55.118443Z",
     "iopub.status.idle": "2020-07-14T15:16:55.126956Z",
     "shell.execute_reply": "2020-07-14T15:16:55.126434Z"
    }
   },
   "outputs": [
    {
     "data": {
      "text/html": [
       "<div>\n",
       "<style scoped>\n",
       "    .dataframe tbody tr th:only-of-type {\n",
       "        vertical-align: middle;\n",
       "    }\n",
       "\n",
       "    .dataframe tbody tr th {\n",
       "        vertical-align: top;\n",
       "    }\n",
       "\n",
       "    .dataframe thead th {\n",
       "        text-align: right;\n",
       "    }\n",
       "</style>\n",
       "<table border=\"1\" class=\"dataframe\">\n",
       "  <thead>\n",
       "    <tr style=\"text-align: right;\">\n",
       "      <th></th>\n",
       "      <th>domain-name</th>\n",
       "      <th>domain-description_x</th>\n",
       "      <th>domain-description_y</th>\n",
       "    </tr>\n",
       "  </thead>\n",
       "  <tbody>\n",
       "    <tr>\n",
       "      <th>0</th>\n",
       "      <td>PF04603</td>\n",
       "      <td>MNE1; Mitochondrial splicing apparatus compone...</td>\n",
       "      <td>MNE1; Mitochondrial splicing apparatus compone...</td>\n",
       "    </tr>\n",
       "  </tbody>\n",
       "</table>\n",
       "</div>"
      ],
      "text/plain": [
       "  domain-name                               domain-description_x  \\\n",
       "0     PF04603  MNE1; Mitochondrial splicing apparatus compone...   \n",
       "\n",
       "                                domain-description_y  \n",
       "0  MNE1; Mitochondrial splicing apparatus compone...  "
      ]
     },
     "execution_count": 31,
     "metadata": {},
     "output_type": "execute_result"
    }
   ],
   "source": [
    "shared_domains_pd=pd.merge(repeated_features_sl,repeated_features_nsl,how='inner',on=['domain-name'])\n",
    "shared_domains_pd\n"
   ]
  },
  {
   "cell_type": "code",
   "execution_count": 32,
   "metadata": {
    "execution": {
     "iopub.execute_input": "2020-07-14T15:16:55.136860Z",
     "iopub.status.busy": "2020-07-14T15:16:55.132025Z",
     "iopub.status.idle": "2020-07-14T15:16:56.813791Z",
     "shell.execute_reply": "2020-07-14T15:16:56.812910Z"
    }
   },
   "outputs": [
    {
     "data": {
      "text/plain": [
       "(0.0, 0.2)"
      ]
     },
     "execution_count": 32,
     "metadata": {},
     "output_type": "execute_result"
    },
    {
     "data": {
      "image/png": "[encoded data removed]",
      "text/plain": [
       "<Figure size 432x288 with 1 Axes>"
      ]
     },
     "metadata": {
      "filenames": {
       "image/png": "/home/runner/work/jupyter-book/jupyter-book/mini_book/docs/_build/jupyter_execute/prot_domains2lethality-FEATURES-POSTPROCESSING_47_1.png"
      },
      "needs_background": "light"
     },
     "output_type": "display_data"
    }
   ],
   "source": [
    "a_sl=x_sl.iloc[:,np.sort(df_sl.iloc[:,1])]\n",
    "a_sl.describe().loc['mean'].hist(bins=8),\n",
    "a_sl.describe().loc['std'].hist(bins=8,alpha=0.4)\n",
    "plt.xlim([0,0.2])"
   ]
  },
  {
   "cell_type": "code",
   "execution_count": 33,
   "metadata": {
    "execution": {
     "iopub.execute_input": "2020-07-14T15:16:56.823746Z",
     "iopub.status.busy": "2020-07-14T15:16:56.822566Z",
     "iopub.status.idle": "2020-07-14T15:16:58.611207Z",
     "shell.execute_reply": "2020-07-14T15:16:58.612040Z"
    }
   },
   "outputs": [
    {
     "data": {
      "text/plain": [
       "(0.0, 0.2)"
      ]
     },
     "execution_count": 33,
     "metadata": {},
     "output_type": "execute_result"
    },
    {
     "data": {
      "image/png": "[encoded data removed]",
      "text/plain": [
       "<Figure size 432x288 with 1 Axes>"
      ]
     },
     "metadata": {
      "filenames": {
       "image/png": "/home/runner/work/jupyter-book/jupyter-book/mini_book/docs/_build/jupyter_execute/prot_domains2lethality-FEATURES-POSTPROCESSING_48_1.png"
      },
      "needs_background": "light"
     },
     "output_type": "display_data"
    }
   ],
   "source": [
    "a_nsl=x_nsl.iloc[:,np.sort(df_nsl.iloc[:,1])]\n",
    "a_nsl.describe().loc['mean'].hist(bins=8),\n",
    "a_nsl.describe().loc['std'].hist(bins=8,alpha=0.4)\n",
    "plt.xlim([0,0.2])"
   ]
  },
  {
   "cell_type": "markdown",
   "metadata": {},
   "source": [
    "### Proof of concept with *BEM1*\n",
    "\n",
    "- Gather the domains of SL and nSL pairs from BEM1\n",
    "- Check if the domains for the SL and nSL pairs are inside the most important domains after PCA."
   ]
  },
  {
   "cell_type": "code",
   "execution_count": 34,
   "metadata": {
    "execution": {
     "iopub.execute_input": "2020-07-14T15:16:58.620583Z",
     "iopub.status.busy": "2020-07-14T15:16:58.620090Z",
     "iopub.status.idle": "2020-07-14T15:16:58.623936Z",
     "shell.execute_reply": "2020-07-14T15:16:58.623083Z"
    }
   },
   "outputs": [],
   "source": [
    "domains_bem1=data_domains[data_domains['name']=='BEM1']['domain-descrip']\n",
    "sl_bem1=data_sl[data_sl['gene-query-name']=='BEM1']['gene-target-name']"
   ]
  },
  {
   "cell_type": "code",
   "execution_count": 35,
   "metadata": {
    "execution": {
     "iopub.execute_input": "2020-07-14T15:16:58.629017Z",
     "iopub.status.busy": "2020-07-14T15:16:58.628413Z",
     "iopub.status.idle": "2020-07-14T15:16:58.634677Z",
     "shell.execute_reply": "2020-07-14T15:16:58.634096Z"
    }
   },
   "outputs": [
    {
     "data": {
      "text/plain": [
       "2846      BEM2\n",
       "2847     CDC24\n",
       "5004      MSB1\n",
       "13777     SMI1\n",
       "13778     BNI1\n",
       "13779     BEM2\n",
       "14385     SKN7\n",
       "Name: gene-target-name, dtype: object"
      ]
     },
     "execution_count": 35,
     "metadata": {},
     "output_type": "execute_result"
    }
   ],
   "source": [
    "sl_bem1"
   ]
  },
  {
   "cell_type": "code",
   "execution_count": 36,
   "metadata": {
    "execution": {
     "iopub.execute_input": "2020-07-14T15:16:58.649319Z",
     "iopub.status.busy": "2020-07-14T15:16:58.643603Z",
     "iopub.status.idle": "2020-07-14T15:16:58.654616Z",
     "shell.execute_reply": "2020-07-14T15:16:58.654189Z"
    }
   },
   "outputs": [
    {
     "data": {
      "text/html": [
       "<div>\n",
       "<style scoped>\n",
       "    .dataframe tbody tr th:only-of-type {\n",
       "        vertical-align: middle;\n",
       "    }\n",
       "\n",
       "    .dataframe tbody tr th {\n",
       "        vertical-align: top;\n",
       "    }\n",
       "\n",
       "    .dataframe thead th {\n",
       "        text-align: right;\n",
       "    }\n",
       "</style>\n",
       "<table border=\"1\" class=\"dataframe\">\n",
       "  <thead>\n",
       "    <tr style=\"text-align: right;\">\n",
       "      <th></th>\n",
       "      <th>gene-query</th>\n",
       "      <th>gene-target</th>\n",
       "      <th>gene-query-name</th>\n",
       "      <th>gene-target-name</th>\n",
       "      <th>gene-query-description</th>\n",
       "      <th>gene-target-description</th>\n",
       "      <th>interaction-type</th>\n",
       "      <th>paper-source</th>\n",
       "    </tr>\n",
       "  </thead>\n",
       "  <tbody>\n",
       "    <tr>\n",
       "      <th>2846</th>\n",
       "      <td>YBR200W</td>\n",
       "      <td>YER155C</td>\n",
       "      <td>BEM1</td>\n",
       "      <td>BEM2</td>\n",
       "      <td>SRO1|phosphatidylinositol-3-phosphate-binding ...</td>\n",
       "      <td>IPL2|SUP9|TSL1|L000000168</td>\n",
       "      <td>Synthetic Lethality</td>\n",
       "      <td>Peterson J (1994)</td>\n",
       "    </tr>\n",
       "    <tr>\n",
       "      <th>2847</th>\n",
       "      <td>YBR200W</td>\n",
       "      <td>YAL041W</td>\n",
       "      <td>BEM1</td>\n",
       "      <td>CDC24</td>\n",
       "      <td>SRO1|phosphatidylinositol-3-phosphate-binding ...</td>\n",
       "      <td>CLS4|Rho family guanine nucleotide exchange fa...</td>\n",
       "      <td>Synthetic Lethality</td>\n",
       "      <td>Peterson J (1994)</td>\n",
       "    </tr>\n",
       "    <tr>\n",
       "      <th>5004</th>\n",
       "      <td>YBR200W</td>\n",
       "      <td>YOR188W</td>\n",
       "      <td>BEM1</td>\n",
       "      <td>MSB1</td>\n",
       "      <td>SRO1|phosphatidylinositol-3-phosphate-binding ...</td>\n",
       "      <td>L000001184</td>\n",
       "      <td>Synthetic Lethality</td>\n",
       "      <td>Bender A (1991)</td>\n",
       "    </tr>\n",
       "    <tr>\n",
       "      <th>13777</th>\n",
       "      <td>YBR200W</td>\n",
       "      <td>YGR229C</td>\n",
       "      <td>BEM1</td>\n",
       "      <td>SMI1</td>\n",
       "      <td>SRO1|phosphatidylinositol-3-phosphate-binding ...</td>\n",
       "      <td>KNR4|L000000909</td>\n",
       "      <td>Synthetic Lethality</td>\n",
       "      <td>Gorelik M (2011)</td>\n",
       "    </tr>\n",
       "    <tr>\n",
       "      <th>13778</th>\n",
       "      <td>YBR200W</td>\n",
       "      <td>YNL271C</td>\n",
       "      <td>BEM1</td>\n",
       "      <td>BNI1</td>\n",
       "      <td>SRO1|phosphatidylinositol-3-phosphate-binding ...</td>\n",
       "      <td>PPF3|SHE5|formin BNI1|L000000190</td>\n",
       "      <td>Synthetic Lethality</td>\n",
       "      <td>Gorelik M (2011)</td>\n",
       "    </tr>\n",
       "    <tr>\n",
       "      <th>13779</th>\n",
       "      <td>YBR200W</td>\n",
       "      <td>YER155C</td>\n",
       "      <td>BEM1</td>\n",
       "      <td>BEM2</td>\n",
       "      <td>SRO1|phosphatidylinositol-3-phosphate-binding ...</td>\n",
       "      <td>IPL2|SUP9|TSL1|L000000168</td>\n",
       "      <td>Synthetic Lethality</td>\n",
       "      <td>Gorelik M (2011)</td>\n",
       "    </tr>\n",
       "    <tr>\n",
       "      <th>14385</th>\n",
       "      <td>YBR200W</td>\n",
       "      <td>YHR206W</td>\n",
       "      <td>BEM1</td>\n",
       "      <td>SKN7</td>\n",
       "      <td>SRO1|phosphatidylinositol-3-phosphate-binding ...</td>\n",
       "      <td>BRY1|POS9|kinase-regulated stress-responsive t...</td>\n",
       "      <td>Dosage Lethality</td>\n",
       "      <td>Bouquin N (1999)</td>\n",
       "    </tr>\n",
       "  </tbody>\n",
       "</table>\n",
       "</div>"
      ],
      "text/plain": [
       "      gene-query gene-target gene-query-name gene-target-name  \\\n",
       "2846     YBR200W     YER155C            BEM1             BEM2   \n",
       "2847     YBR200W     YAL041W            BEM1            CDC24   \n",
       "5004     YBR200W     YOR188W            BEM1             MSB1   \n",
       "13777    YBR200W     YGR229C            BEM1             SMI1   \n",
       "13778    YBR200W     YNL271C            BEM1             BNI1   \n",
       "13779    YBR200W     YER155C            BEM1             BEM2   \n",
       "14385    YBR200W     YHR206W            BEM1             SKN7   \n",
       "\n",
       "                                  gene-query-description  \\\n",
       "2846   SRO1|phosphatidylinositol-3-phosphate-binding ...   \n",
       "2847   SRO1|phosphatidylinositol-3-phosphate-binding ...   \n",
       "5004   SRO1|phosphatidylinositol-3-phosphate-binding ...   \n",
       "13777  SRO1|phosphatidylinositol-3-phosphate-binding ...   \n",
       "13778  SRO1|phosphatidylinositol-3-phosphate-binding ...   \n",
       "13779  SRO1|phosphatidylinositol-3-phosphate-binding ...   \n",
       "14385  SRO1|phosphatidylinositol-3-phosphate-binding ...   \n",
       "\n",
       "                                 gene-target-description     interaction-type  \\\n",
       "2846                           IPL2|SUP9|TSL1|L000000168  Synthetic Lethality   \n",
       "2847   CLS4|Rho family guanine nucleotide exchange fa...  Synthetic Lethality   \n",
       "5004                                          L000001184  Synthetic Lethality   \n",
       "13777                                    KNR4|L000000909  Synthetic Lethality   \n",
       "13778                   PPF3|SHE5|formin BNI1|L000000190  Synthetic Lethality   \n",
       "13779                          IPL2|SUP9|TSL1|L000000168  Synthetic Lethality   \n",
       "14385  BRY1|POS9|kinase-regulated stress-responsive t...     Dosage Lethality   \n",
       "\n",
       "            paper-source  \n",
       "2846   Peterson J (1994)  \n",
       "2847   Peterson J (1994)  \n",
       "5004     Bender A (1991)  \n",
       "13777   Gorelik M (2011)  \n",
       "13778   Gorelik M (2011)  \n",
       "13779   Gorelik M (2011)  \n",
       "14385   Bouquin N (1999)  "
      ]
     },
     "execution_count": 36,
     "metadata": {},
     "output_type": "execute_result"
    }
   ],
   "source": [
    "data_sl[data_sl['gene-query-name']=='BEM1']"
   ]
  },
  {
   "cell_type": "code",
   "execution_count": null,
   "metadata": {},
   "outputs": [],
   "source": []
  }
 ],
 "metadata": {
  "jupytext": {
   "text_representation": {
    "extension": ".md",
    "format_name": "myst"
   }
  },
  "kernelspec": {
   "display_name": "Python 3",
   "language": "python",
   "name": "python3"
  },
  "language_info": {
   "codemirror_mode": {
    "name": "ipython",
    "version": 3
   },
   "file_extension": ".py",
   "mimetype": "text/x-python",
   "name": "python",
   "nbconvert_exporter": "python",
   "pygments_lexer": "ipython3",
   "version": "3.7.6"
  },
  "source_map": [
   10,
   18,
   29,
   36,
   57,
   66,
   98,
   101,
   105,
   128,
   131,
   135,
   139,
   145,
   178,
   184,
   188,
   206,
   210,
   218,
   222,
   225,
   229,
   234,
   238,
   244,
   248,
   253,
   257,
   267,
   269,
   273,
   306,
   311,
   313,
   317,
   328,
   330,
   334,
   344,
   348,
   358,
   360,
   364,
   381,
   388,
   394,
   400,
   407,
   412,
   419,
   424,
   428,
   432
  ]
 },
 "nbformat": 4,
 "nbformat_minor": 4
}