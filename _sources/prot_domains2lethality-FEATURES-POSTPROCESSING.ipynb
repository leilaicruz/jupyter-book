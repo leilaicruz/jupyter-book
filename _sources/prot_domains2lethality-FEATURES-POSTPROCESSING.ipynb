{
 "cells": [
  {
   "cell_type": "markdown",
   "metadata": {},
   "source": [
    "# Feature postprocessing from paper.\n",
    "- Title:  \"Predicting yeast synthetic lethal genetic interactions using protein domains\"\n",
    "- Authors: Bo Li, Feng Luo,School of Computing,Clemson University,Clemson, SC, USA\n",
    "- e-mail: bol, luofeng@clemson.edu\n",
    "- year:2009"
   ]
  },
  {
   "cell_type": "code",
   "execution_count": 1,
   "metadata": {
    "execution": {
     "iopub.execute_input": "2020-07-14T19:45:44.362450Z",
     "iopub.status.busy": "2020-07-14T19:45:44.361887Z",
     "iopub.status.idle": "2020-07-14T19:45:45.127975Z",
     "shell.execute_reply": "2020-07-14T19:45:45.126995Z"
    }
   },
   "outputs": [],
   "source": [
    "import pandas as pd\n",
    "import numpy as np\n",
    "import matplotlib.pyplot as plt\n",
    "from collections import defaultdict \n",
    "import seaborn as sns\n",
    "import matplotlib.cm as cm\n",
    "import scipy as scipy\n",
    "import random"
   ]
  },
  {
   "cell_type": "markdown",
   "metadata": {
    "jupyter": {
     "source_hidden": true
    }
   },
   "source": [
    "### Importing datasets \n",
    "\n",
    "#### Link to the github repo where the datasets to be downloaded:\n",
    "[DOWNLOAD THE DATASETS HERE](https://github.com/leilaicruz/machine-learning-for-yeast/tree/dev_Leila/datasets-for-learning)"
   ]
  },
  {
   "cell_type": "code",
   "execution_count": 2,
   "metadata": {
    "execution": {
     "iopub.execute_input": "2020-07-14T19:45:45.135363Z",
     "iopub.status.busy": "2020-07-14T19:45:45.134226Z",
     "iopub.status.idle": "2020-07-14T19:45:52.309152Z",
     "shell.execute_reply": "2020-07-14T19:45:52.308002Z"
    }
   },
   "outputs": [],
   "source": [
    "import os\n",
    "script_dir = os.path.dirname('__file__') #<-- absolute dir the script is in\n",
    "rel_path_SL = \"datasets/data-synthetic-lethals.xlsx\"\n",
    "rel_path_nSL=\"datasets/data-positive-genetic.xlsx\"\n",
    "rel_path_domains=\"datasets/proteins-domains-from-Pfam.xlsx\"\n",
    "\n",
    "abs_file_path_SL = os.path.join(script_dir, rel_path_SL)\n",
    "abs_file_path_nSL = os.path.join(script_dir, rel_path_nSL)\n",
    "abs_file_path_domains = os.path.join(script_dir, rel_path_domains)\n",
    "\n",
    "# os.chdir('mini_book/docs/') #<-- for binder os.chdir('../')\n",
    "# os.chdir('../')\n",
    "my_path_sl= abs_file_path_SL\n",
    "my_path_non_sl=abs_file_path_nSL\n",
    "my_path_domains=abs_file_path_domains\n",
    "\n",
    "data_sl=pd.read_excel(my_path_sl,header=0)\n",
    "data_domains=pd.read_excel(my_path_domains,header=0,index_col='Unnamed: 0')\n",
    "data_domains=data_domains.dropna()\n",
    "data_nonsl=pd.read_excel(my_path_non_sl,header=0)"
   ]
  },
  {
   "cell_type": "markdown",
   "metadata": {},
   "source": [
    "## Building the feature matrix\n",
    "One matrix for true SL where each row is one pair of SL. Every raw will be a vector of 0,1 or 2 depending on the comparison with the domain list. For row i the jth element = 0 if the jth element of the domain list is not in neither protein A and B, 1, if it is in one of them and 2 if it is in both of them .\n",
    "\n",
    "### Building the list of proteins domains id per protein pair separately :\n",
    "- List of protein A: Search for the Sl/nSL database the query gene name and look in the protein domain database which protein domains id has each of those queries.\n",
    "- List of protein B: Search for the Sl/nSL database the target gene name of the previous query and look in the protein domain database which protein domains id has each of those target genes."
   ]
  },
  {
   "cell_type": "code",
   "execution_count": 3,
   "metadata": {
    "execution": {
     "iopub.execute_input": "2020-07-14T19:45:52.326451Z",
     "iopub.status.busy": "2020-07-14T19:45:52.325824Z",
     "iopub.status.idle": "2020-07-14T19:45:54.208305Z",
     "shell.execute_reply": "2020-07-14T19:45:54.207360Z"
    }
   },
   "outputs": [],
   "source": [
    "# Selecting the meaningful columns in the respective dataset\n",
    "domain_id_list=data_domains['domain-name']\n",
    "query_gene=data_sl['gene-query-name']\n",
    "target_gene=data_sl['gene-target-name']\n",
    "query_gene_nonlethal=data_nonsl['gene-query-name']\n",
    "target_gene_nonlethal=data_nonsl['gene-target-name']\n",
    "\n",
    "\n",
    "\n",
    "# Initialising the arrays\n",
    "protein_a_list=[]\n",
    "protein_b_list=[]\n",
    "protein_a_list_non=[]\n",
    "protein_b_list_non=[]\n",
    "\n",
    "population = np.arange(0,len(data_sl))\n",
    "\n",
    "# For loop for 10000 pairs sampled randomly from the SL/nSl pair list , and creating a big array of proteind domains id per protein pair\n",
    "\n",
    "for m in random.sample(list(population), 500):\n",
    "    protein_a=data_domains[data_domains['name']==query_gene[m]]\n",
    "    protein_b=data_domains[data_domains['name']==target_gene[m]]\n",
    "    protein_a_list.append(protein_a['domain-name'].tolist())\n",
    "    protein_b_list.append(protein_b['domain-name'].tolist())\n",
    "\n",
    "    protein_a_non=data_domains[data_domains['name']==query_gene_nonlethal[m]]\n",
    "    protein_b_non=data_domains[data_domains['name']==target_gene_nonlethal[m]]\n",
    "    protein_a_list_non.append(protein_a_non['domain-name'].tolist())\n",
    "    protein_b_list_non.append(protein_b_non['domain-name'].tolist())"
   ]
  },
  {
   "cell_type": "code",
   "execution_count": 4,
   "metadata": {
    "execution": {
     "iopub.execute_input": "2020-07-14T19:45:54.213850Z",
     "iopub.status.busy": "2020-07-14T19:45:54.213332Z",
     "iopub.status.idle": "2020-07-14T19:45:54.218271Z",
     "shell.execute_reply": "2020-07-14T19:45:54.217781Z"
    }
   },
   "outputs": [
    {
     "name": "stdout",
     "output_type": "stream",
     "text": [
      "We are going to analyze 500 protein pairs, out of 17871 SL protein pairs\n",
      "We are going to analyze 500 protein pairs, out of 43340 positive protein pairs\n"
     ]
    }
   ],
   "source": [
    "print('We are going to analyze',len((protein_a_list)) ,'protein pairs, out of',len(data_sl),'SL protein pairs')\n",
    "print('We are going to analyze',len((protein_a_list_non)) ,'protein pairs, out of',len(data_nonsl),'positive protein pairs')"
   ]
  },
  {
   "cell_type": "markdown",
   "metadata": {},
   "source": [
    "### Postprocessing #1:  Remove protein pairs from study if either protein in the pair does not contain any domain"
   ]
  },
  {
   "cell_type": "code",
   "execution_count": 5,
   "metadata": {
    "execution": {
     "iopub.execute_input": "2020-07-14T19:45:54.228080Z",
     "iopub.status.busy": "2020-07-14T19:45:54.227533Z",
     "iopub.status.idle": "2020-07-14T19:45:54.231616Z",
     "shell.execute_reply": "2020-07-14T19:45:54.231157Z"
    }
   },
   "outputs": [],
   "source": [
    "def remove_empty_domains(protein_list_search,protein_list_pair):\n",
    "    index=[]\n",
    "    for i in np.arange(0,len(protein_list_search)):\n",
    "        if protein_list_search[i]==[] or protein_list_pair[i]==[]:\n",
    "            index.append(i) ## index of empty values for the protein_a_list meaning they dont have any annotated domain\n",
    "\n",
    "    y=[x for x in np.arange(0,len(protein_list_search)) if x not in index] # a list with non empty values from protein_a list\n",
    "\n",
    "    protein_list_search_new=[]\n",
    "    protein_list_pair_new=[]\n",
    "    for i in y:\n",
    "        protein_list_search_new.append(protein_list_search[i])\n",
    "        protein_list_pair_new.append(protein_list_pair[i])\n",
    "    return protein_list_search_new,protein_list_pair_new\n",
    "\n",
    "## evaluating the function\n",
    "\n",
    "protein_a_list_new,protein_b_list_new=remove_empty_domains(protein_a_list,protein_b_list)\n",
    "\n",
    "protein_a_list_non_new,protein_b_list_non_new=remove_empty_domains(protein_a_list_non,protein_b_list_non)"
   ]
  },
  {
   "cell_type": "code",
   "execution_count": 6,
   "metadata": {
    "execution": {
     "iopub.execute_input": "2020-07-14T19:45:54.237220Z",
     "iopub.status.busy": "2020-07-14T19:45:54.236029Z",
     "iopub.status.idle": "2020-07-14T19:45:54.241970Z",
     "shell.execute_reply": "2020-07-14T19:45:54.240818Z"
    }
   },
   "outputs": [
    {
     "name": "stdout",
     "output_type": "stream",
     "text": [
      "The empty domain in the SL were: 78 out of 500 domains\n",
      "The empty domain in the nSL were: 83 out of 500 domains\n"
     ]
    }
   ],
   "source": [
    "print('The empty domain in the SL were:', len(protein_a_list)-len(protein_a_list_new), 'out of', len(protein_a_list),'domains')\n",
    "print('The empty domain in the nSL were:', len(protein_a_list_non)-len(protein_a_list_non_new), 'out of', len(protein_a_list_non),'domains')"
   ]
  },
  {
   "cell_type": "markdown",
   "metadata": {},
   "source": [
    "### Feature engineering: Select from each ordered indexes of domain id list which of them appear once, in both or in any of the domains of each protein pair"
   ]
  },
  {
   "cell_type": "markdown",
   "metadata": {},
   "source": [
    "#### Define function `get_indexes`"
   ]
  },
  {
   "cell_type": "code",
   "execution_count": 7,
   "metadata": {
    "execution": {
     "iopub.execute_input": "2020-07-14T19:45:54.248885Z",
     "iopub.status.busy": "2020-07-14T19:45:54.248297Z",
     "iopub.status.idle": "2020-07-14T19:45:54.253877Z",
     "shell.execute_reply": "2020-07-14T19:45:54.253445Z"
    }
   },
   "outputs": [
    {
     "data": {
      "text/plain": [
       "[1, 2]"
      ]
     },
     "execution_count": 7,
     "metadata": {},
     "output_type": "execute_result"
    }
   ],
   "source": [
    "get_indexes = lambda x, xs: [i for (y, i) in zip(xs, range(len(xs))) if x == y] # a function that give the index of whether a value appear in array or not\n",
    "a=[1,2,2,4,5,6,7,8,9,10]\n",
    "get_indexes(2,a)"
   ]
  },
  {
   "cell_type": "code",
   "execution_count": 8,
   "metadata": {
    "execution": {
     "iopub.execute_input": "2020-07-14T19:45:54.263004Z",
     "iopub.status.busy": "2020-07-14T19:45:54.262457Z",
     "iopub.status.idle": "2020-07-14T19:45:54.266753Z",
     "shell.execute_reply": "2020-07-14T19:45:54.266327Z"
    }
   },
   "outputs": [],
   "source": [
    "def feature_building(protein_a_list_new,protein_b_list_new):\n",
    "    x = np.unique(domain_id_list)\n",
    "    ## To avoid taking repeated domains from one protein of the pairs , lets reduced the domains of each protein from the pairs to their unique members\n",
    "    protein_a_list_unique=[]\n",
    "    protein_b_list_unique=[]\n",
    "    for i in np.arange(0,len(protein_a_list_new)):\n",
    "        protein_a_list_unique.append(np.unique(protein_a_list_new[i]))\n",
    "        protein_b_list_unique.append(np.unique(protein_b_list_new[i]))\n",
    "        \n",
    "    protein_feat_true=np.zeros(shape=(len(x),len(protein_a_list_unique)))\n",
    "    pair_a_b_array=[]\n",
    "    for i in np.arange(0,len(protein_a_list_unique)):\n",
    "        index_a=[]\n",
    "        \n",
    "        pair=[protein_a_list_unique[i],protein_b_list_unique[i]]\n",
    "        pair_a_b=np.concatenate(pair).ravel()\n",
    "        pair_a_b_array.append(pair_a_b)\n",
    "\n",
    "    j=0\n",
    "    for i in pair_a_b_array:  \n",
    "        array,index,counts=np.unique(i,return_index=True,return_counts=True)\n",
    "        \n",
    "        for k,m in zip(counts,array):\n",
    "            if k ==2:\n",
    "                protein_feat_true[get_indexes(m,x),j]=2\n",
    "                \n",
    "            if k==1:\n",
    "                protein_feat_true[get_indexes(m,x),j]=1\n",
    "        j=j+1\n",
    "    return protein_feat_true"
   ]
  },
  {
   "cell_type": "code",
   "execution_count": 9,
   "metadata": {
    "execution": {
     "iopub.execute_input": "2020-07-14T19:45:54.283385Z",
     "iopub.status.busy": "2020-07-14T19:45:54.277837Z",
     "iopub.status.idle": "2020-07-14T19:45:54.890201Z",
     "shell.execute_reply": "2020-07-14T19:45:54.889660Z"
    }
   },
   "outputs": [],
   "source": [
    "protein_feat_true=feature_building(protein_b_list_new=protein_b_list_new,protein_a_list_new=protein_a_list_new)\n",
    "protein_feat_true_pd=pd.DataFrame(protein_feat_true.T)\n",
    "\n",
    "protein_feat_non_true=feature_building(protein_b_list_new=protein_b_list_non_new,protein_a_list_new=protein_a_list_non_new)\n",
    "protein_feat_non_true_pd=pd.DataFrame(protein_feat_non_true.T)"
   ]
  },
  {
   "cell_type": "markdown",
   "metadata": {},
   "source": [
    "### How many ones and twos are in each dataset"
   ]
  },
  {
   "cell_type": "code",
   "execution_count": 10,
   "metadata": {
    "execution": {
     "iopub.execute_input": "2020-07-14T19:45:54.899311Z",
     "iopub.status.busy": "2020-07-14T19:45:54.897772Z",
     "iopub.status.idle": "2020-07-14T19:45:55.007018Z",
     "shell.execute_reply": "2020-07-14T19:45:55.007376Z"
    }
   },
   "outputs": [
    {
     "name": "stdout",
     "output_type": "stream",
     "text": [
      "fraction of twos in the SL array is 2.663428772864361e-05\n",
      "fraction of ones in the SL array is 0.0009533508284046845\n",
      "fraction of twos in the PI array is 8.720296490080662e-06\n",
      "fraction of ones in the PI array is 0.0009132528687793566\n"
     ]
    }
   ],
   "source": [
    "index_2_true=protein_feat_true_pd.where(protein_feat_true_pd==2)\n",
    "index_2_true_count=index_2_true.count(axis=1).sum()\n",
    "\n",
    "index_1_true=protein_feat_true_pd.where(protein_feat_true_pd==1)\n",
    "index_1_true_count=index_1_true.count(axis=1).sum()\n",
    "\n",
    "index_2_nontrue=protein_feat_non_true_pd.where(protein_feat_non_true_pd==2)\n",
    "index_2_nontrue_count=index_2_nontrue.count(axis=1).sum()\n",
    "\n",
    "index_1_nontrue=protein_feat_non_true_pd.where(protein_feat_non_true_pd==1)\n",
    "index_1_nontrue_count=index_1_nontrue.count(axis=1).sum()\n",
    "\n",
    "\n",
    "print('fraction of twos in the SL array is',index_2_true_count/(len(protein_feat_true_pd.index)*len(protein_feat_true_pd.columns)))\n",
    "print('fraction of ones in the SL array is',index_1_true_count/(len(protein_feat_true_pd.index)*len(protein_feat_true_pd.columns)))\n",
    "print('fraction of twos in the PI array is',index_2_nontrue_count/(len(protein_feat_non_true_pd.index)*len(protein_feat_non_true_pd.columns)))\n",
    "print('fraction of ones in the PI array is',index_1_nontrue_count/(len(protein_feat_non_true_pd.index)*len(protein_feat_non_true_pd.columns)))"
   ]
  },
  {
   "cell_type": "markdown",
   "metadata": {},
   "source": [
    "#### Bar plot to visualize these numbers"
   ]
  },
  {
   "cell_type": "code",
   "execution_count": 11,
   "metadata": {
    "execution": {
     "iopub.execute_input": "2020-07-14T19:45:55.029991Z",
     "iopub.status.busy": "2020-07-14T19:45:55.026094Z",
     "iopub.status.idle": "2020-07-14T19:45:55.378541Z",
     "shell.execute_reply": "2020-07-14T19:45:55.378071Z"
    }
   },
   "outputs": [
    {
     "data": {
      "text/plain": [
       "([0, 1, 2, 3], <a list of 4 Text major ticklabel objects>)"
      ]
     },
     "execution_count": 11,
     "metadata": {},
     "output_type": "execute_result"
    },
    {
     "data": {
      "image/png": "[encoded data removed]",
      "text/plain": [
       "<Figure size 432x288 with 1 Axes>"
      ]
     },
     "metadata": {
      "filenames": {
       "image/png": "/home/runner/work/jupyter-book/jupyter-book/mini_book/docs/_build/jupyter_execute/prot_domains2lethality-FEATURES-POSTPROCESSING_18_1.png"
      },
      "needs_background": "light"
     },
     "output_type": "display_data"
    }
   ],
   "source": [
    "plt.bar(['fraction of 2 in the nSL','fraction of 1 in the nSL'],[index_2_nontrue_count/(len(protein_feat_non_true_pd.index)*len(protein_feat_non_true_pd.columns)),index_1_nontrue_count/(len(protein_feat_non_true_pd.index)*len(protein_feat_non_true_pd.columns))],alpha=0.6,color=['blue','lightblue']), \n",
    "\n",
    "plt.bar(['fraction of 2 in SL ','fraction of 1 in SL'],[index_2_true_count/(len(protein_feat_true_pd.index)*len(protein_feat_true_pd.columns)),index_1_true_count/(len(protein_feat_true_pd.index)*len(protein_feat_true_pd.columns))],alpha=0.6,color=['coral','lightcoral'])\n",
    "\n",
    "plt.ylabel('Fraction from the population')\n",
    "plt.yscale('log')\n",
    "plt.xticks(rotation=40)"
   ]
  },
  {
   "cell_type": "markdown",
   "metadata": {},
   "source": [
    "#### Adding the labels(response variables) to each dataset"
   ]
  },
  {
   "cell_type": "code",
   "execution_count": 12,
   "metadata": {
    "execution": {
     "iopub.execute_input": "2020-07-14T19:45:55.384783Z",
     "iopub.status.busy": "2020-07-14T19:45:55.383671Z",
     "iopub.status.idle": "2020-07-14T19:45:55.387778Z",
     "shell.execute_reply": "2020-07-14T19:45:55.388174Z"
    }
   },
   "outputs": [],
   "source": [
    "protein_feat_true_pd['lethality']=np.ones(shape=(len(protein_a_list_new)))\n",
    "protein_feat_non_true_pd['lethality']=np.zeros(shape=(len(protein_a_list_non_new)))"
   ]
  },
  {
   "cell_type": "markdown",
   "metadata": {},
   "source": [
    "#### Joining both datasets"
   ]
  },
  {
   "cell_type": "code",
   "execution_count": 13,
   "metadata": {
    "execution": {
     "iopub.execute_input": "2020-07-14T19:45:55.393523Z",
     "iopub.status.busy": "2020-07-14T19:45:55.392999Z",
     "iopub.status.idle": "2020-07-14T19:45:55.436748Z",
     "shell.execute_reply": "2020-07-14T19:45:55.436146Z"
    }
   },
   "outputs": [
    {
     "name": "stdout",
     "output_type": "stream",
     "text": [
      "The number of features are: 3026\n",
      "The number of samples are: 839\n"
     ]
    }
   ],
   "source": [
    "feature_post=pd.concat([protein_feat_true_pd,protein_feat_non_true_pd],axis=0)\n",
    "feature_post=feature_post.set_index(np.arange(0,len(protein_a_list_new)+len(protein_a_list_non_new)))\n",
    "print('The number of features are:',feature_post.shape[1])\n",
    "print('The number of samples are:',feature_post.shape[0])"
   ]
  },
  {
   "cell_type": "markdown",
   "metadata": {},
   "source": [
    "### Postprocessing and exploration of the feature matrix of both datasets"
   ]
  },
  {
   "cell_type": "code",
   "execution_count": 14,
   "metadata": {
    "execution": {
     "iopub.execute_input": "2020-07-14T19:45:55.444089Z",
     "iopub.status.busy": "2020-07-14T19:45:55.443565Z",
     "iopub.status.idle": "2020-07-14T19:45:59.395679Z",
     "shell.execute_reply": "2020-07-14T19:45:59.395172Z"
    }
   },
   "outputs": [],
   "source": [
    "mean=feature_post.T.describe().loc['mean']\n",
    "std=feature_post.T.describe().loc['std']\n",
    "lethality=feature_post['lethality']\n",
    "\n",
    "corr_keys=pd.concat([mean,std,lethality],axis=1)"
   ]
  },
  {
   "cell_type": "markdown",
   "metadata": {},
   "source": [
    "### Viz of the stats"
   ]
  },
  {
   "cell_type": "code",
   "execution_count": 15,
   "metadata": {
    "execution": {
     "iopub.execute_input": "2020-07-14T19:45:59.441270Z",
     "iopub.status.busy": "2020-07-14T19:45:59.431655Z",
     "iopub.status.idle": "2020-07-14T19:46:00.883767Z",
     "shell.execute_reply": "2020-07-14T19:46:00.883310Z"
    }
   },
   "outputs": [
    {
     "data": {
      "text/plain": [
       "Text(0.5, 1.08, 'Pairplot to see data dependencies with Lethality')"
      ]
     },
     "execution_count": 15,
     "metadata": {},
     "output_type": "execute_result"
    },
    {
     "data": {
      "image/png": "[encoded data removed]",
      "text/plain": [
       "<Figure size 412x360 with 6 Axes>"
      ]
     },
     "metadata": {
      "filenames": {
       "image/png": "/home/runner/work/jupyter-book/jupyter-book/mini_book/docs/_build/jupyter_execute/prot_domains2lethality-FEATURES-POSTPROCESSING_26_1.png"
      },
      "needs_background": "light"
     },
     "output_type": "display_data"
    }
   ],
   "source": [
    "pair=sns.pairplot(corr_keys,hue='lethality',diag_kind='kde',kind='reg',palette='colorblind')\n",
    "pair.fig.suptitle('Pairplot to see data dependencies with Lethality',y=1.08)"
   ]
  },
  {
   "cell_type": "code",
   "execution_count": 16,
   "metadata": {
    "execution": {
     "iopub.execute_input": "2020-07-14T19:46:00.894867Z",
     "iopub.status.busy": "2020-07-14T19:46:00.893810Z",
     "iopub.status.idle": "2020-07-14T19:46:00.898135Z",
     "shell.execute_reply": "2020-07-14T19:46:00.897701Z"
    }
   },
   "outputs": [],
   "source": [
    "X, y = feature_post.drop(columns=[\"lethality\"]), feature_post[\"lethality\"]"
   ]
  },
  {
   "cell_type": "code",
   "execution_count": 17,
   "metadata": {
    "execution": {
     "iopub.execute_input": "2020-07-14T19:46:00.903289Z",
     "iopub.status.busy": "2020-07-14T19:46:00.902751Z",
     "iopub.status.idle": "2020-07-14T19:46:01.058374Z",
     "shell.execute_reply": "2020-07-14T19:46:01.057920Z"
    }
   },
   "outputs": [],
   "source": [
    "from sklearn.preprocessing import StandardScaler\n",
    "scaler = StandardScaler()\n",
    "x_sl=protein_feat_true_pd.drop(columns=['lethality'])\n",
    "x_nsl=protein_feat_non_true_pd.drop(columns=['lethality'])\n",
    "\n",
    "X_sl_scaled = scaler.fit_transform(x_sl)\n",
    "X_nsl_scaled = scaler.fit_transform(x_nsl)"
   ]
  },
  {
   "cell_type": "code",
   "execution_count": 18,
   "metadata": {
    "execution": {
     "iopub.execute_input": "2020-07-14T19:46:01.063906Z",
     "iopub.status.busy": "2020-07-14T19:46:01.063337Z",
     "iopub.status.idle": "2020-07-14T19:46:01.066195Z",
     "shell.execute_reply": "2020-07-14T19:46:01.066584Z"
    }
   },
   "outputs": [
    {
     "data": {
      "text/plain": [
       "(422, 3025)"
      ]
     },
     "execution_count": 18,
     "metadata": {},
     "output_type": "execute_result"
    }
   ],
   "source": [
    "np.shape(X_sl_scaled)"
   ]
  },
  {
   "cell_type": "markdown",
   "metadata": {},
   "source": [
    "## How redundant are each of the protein domains?"
   ]
  },
  {
   "cell_type": "code",
   "execution_count": 19,
   "metadata": {
    "execution": {
     "iopub.execute_input": "2020-07-14T19:46:01.075071Z",
     "iopub.status.busy": "2020-07-14T19:46:01.074494Z",
     "iopub.status.idle": "2020-07-14T19:46:01.078823Z",
     "shell.execute_reply": "2020-07-14T19:46:01.078373Z"
    }
   },
   "outputs": [],
   "source": [
    "def PCA_component_contribution(scaled_matrix,original_data):\n",
    "    from sklearn.decomposition import PCA\n",
    "\n",
    "    model = PCA(0.95).fit(scaled_matrix)\n",
    "    ## apply dimensionality reduction to X_train\n",
    "    output_pca = model.transform(scaled_matrix)\n",
    "    \n",
    "    total=sum(model.explained_variance_)\n",
    "\n",
    "\n",
    "   \n",
    "    # number of components , that it will be the number of main axes times the number of original components \n",
    "    n_pcs= model.components_.shape[0] # the amount of non redundant protein domains \n",
    "\n",
    "    # get the index of the most important feature on EACH component\n",
    "    # LIST COMPREHENSION HERE\n",
    "    most_important = [np.abs(model.components_[i]).argmax() for i in range(n_pcs)]\n",
    "\n",
    "    initial_feature_names = original_data.columns\n",
    "    # get the names\n",
    "    most_important_names = [initial_feature_names[most_important[i]] for i in range(n_pcs)]\n",
    "    \n",
    "\n",
    "    # LIST COMPREHENSION HERE AGAIN\n",
    "    dic = {'PC{}'.format(i): most_important_names[i] for i in range(n_pcs)}\n",
    "\n",
    "    # build the dataframe\n",
    "    df = pd.DataFrame(dic.items(),columns=['pca-component','domain-number'])\n",
    "\n",
    "    return df,model.components_"
   ]
  },
  {
   "cell_type": "code",
   "execution_count": 20,
   "metadata": {
    "execution": {
     "iopub.execute_input": "2020-07-14T19:46:01.083585Z",
     "iopub.status.busy": "2020-07-14T19:46:01.082628Z",
     "iopub.status.idle": "2020-07-14T19:46:01.822767Z",
     "shell.execute_reply": "2020-07-14T19:46:01.823208Z"
    }
   },
   "outputs": [],
   "source": [
    "df_sl,components_pca_nsl=PCA_component_contribution(X_nsl_scaled,x_nsl)\n",
    "df_nsl,components_pca_sl=PCA_component_contribution(X_sl_scaled,x_sl)"
   ]
  },
  {
   "cell_type": "code",
   "execution_count": 21,
   "metadata": {
    "execution": {
     "iopub.execute_input": "2020-07-14T19:46:01.826520Z",
     "iopub.status.busy": "2020-07-14T19:46:01.825324Z",
     "iopub.status.idle": "2020-07-14T19:46:01.836559Z",
     "shell.execute_reply": "2020-07-14T19:46:01.837302Z"
    }
   },
   "outputs": [
    {
     "data": {
      "text/html": [
       "<div>\n",
       "<style scoped>\n",
       "    .dataframe tbody tr th:only-of-type {\n",
       "        vertical-align: middle;\n",
       "    }\n",
       "\n",
       "    .dataframe tbody tr th {\n",
       "        vertical-align: top;\n",
       "    }\n",
       "\n",
       "    .dataframe thead th {\n",
       "        text-align: right;\n",
       "    }\n",
       "</style>\n",
       "<table border=\"1\" class=\"dataframe\">\n",
       "  <thead>\n",
       "    <tr style=\"text-align: right;\">\n",
       "      <th></th>\n",
       "      <th>pca-component</th>\n",
       "      <th>domain-number</th>\n",
       "    </tr>\n",
       "  </thead>\n",
       "  <tbody>\n",
       "    <tr>\n",
       "      <th>0</th>\n",
       "      <td>PC0</td>\n",
       "      <td>142</td>\n",
       "    </tr>\n",
       "    <tr>\n",
       "      <th>1</th>\n",
       "      <td>PC1</td>\n",
       "      <td>229</td>\n",
       "    </tr>\n",
       "    <tr>\n",
       "      <th>2</th>\n",
       "      <td>PC2</td>\n",
       "      <td>141</td>\n",
       "    </tr>\n",
       "    <tr>\n",
       "      <th>3</th>\n",
       "      <td>PC3</td>\n",
       "      <td>926</td>\n",
       "    </tr>\n",
       "    <tr>\n",
       "      <th>4</th>\n",
       "      <td>PC4</td>\n",
       "      <td>926</td>\n",
       "    </tr>\n",
       "  </tbody>\n",
       "</table>\n",
       "</div>"
      ],
      "text/plain": [
       "  pca-component  domain-number\n",
       "0           PC0            142\n",
       "1           PC1            229\n",
       "2           PC2            141\n",
       "3           PC3            926\n",
       "4           PC4            926"
      ]
     },
     "execution_count": 21,
     "metadata": {},
     "output_type": "execute_result"
    }
   ],
   "source": [
    "df_sl.head()"
   ]
  },
  {
   "cell_type": "markdown",
   "metadata": {},
   "source": [
    "## which are the shared domains between nSL and SL pairs , in the PCA reduced samples"
   ]
  },
  {
   "cell_type": "code",
   "execution_count": 22,
   "metadata": {
    "execution": {
     "iopub.execute_input": "2020-07-14T19:46:01.840899Z",
     "iopub.status.busy": "2020-07-14T19:46:01.839795Z",
     "iopub.status.idle": "2020-07-14T19:46:01.871605Z",
     "shell.execute_reply": "2020-07-14T19:46:01.872357Z"
    }
   },
   "outputs": [
    {
     "data": {
      "text/html": [
       "<div>\n",
       "<style scoped>\n",
       "    .dataframe tbody tr th:only-of-type {\n",
       "        vertical-align: middle;\n",
       "    }\n",
       "\n",
       "    .dataframe tbody tr th {\n",
       "        vertical-align: top;\n",
       "    }\n",
       "\n",
       "    .dataframe thead th {\n",
       "        text-align: right;\n",
       "    }\n",
       "</style>\n",
       "<table border=\"1\" class=\"dataframe\">\n",
       "  <thead>\n",
       "    <tr style=\"text-align: right;\">\n",
       "      <th></th>\n",
       "      <th>pca-component_x</th>\n",
       "      <th>domain-number</th>\n",
       "      <th>pca-component_y</th>\n",
       "      <th>domain-description</th>\n",
       "    </tr>\n",
       "  </thead>\n",
       "  <tbody>\n",
       "    <tr>\n",
       "      <th>0</th>\n",
       "      <td>PC3</td>\n",
       "      <td>926</td>\n",
       "      <td>PC32</td>\n",
       "      <td>Flp_C; Recombinase Flp protein</td>\n",
       "    </tr>\n",
       "    <tr>\n",
       "      <th>1</th>\n",
       "      <td>PC4</td>\n",
       "      <td>926</td>\n",
       "      <td>PC32</td>\n",
       "      <td>Flp_C; Recombinase Flp protein</td>\n",
       "    </tr>\n",
       "    <tr>\n",
       "      <th>2</th>\n",
       "      <td>PC12</td>\n",
       "      <td>2082</td>\n",
       "      <td>PC27</td>\n",
       "      <td>RXT2_N; Transcriptional regulatory protein RXT...</td>\n",
       "    </tr>\n",
       "    <tr>\n",
       "      <th>3</th>\n",
       "      <td>PC15</td>\n",
       "      <td>47</td>\n",
       "      <td>PC108</td>\n",
       "      <td>ACOX; Acyl-CoA oxidase, C-terminal</td>\n",
       "    </tr>\n",
       "    <tr>\n",
       "      <th>4</th>\n",
       "      <td>PC26</td>\n",
       "      <td>2544</td>\n",
       "      <td>PC11</td>\n",
       "      <td>Sybindin; Trafficking protein particle complex...</td>\n",
       "    </tr>\n",
       "    <tr>\n",
       "      <th>5</th>\n",
       "      <td>PC29</td>\n",
       "      <td>2700</td>\n",
       "      <td>PC275</td>\n",
       "      <td>Trehalose_PPase; Trehalose-phosphatase</td>\n",
       "    </tr>\n",
       "    <tr>\n",
       "      <th>6</th>\n",
       "      <td>PC43</td>\n",
       "      <td>494</td>\n",
       "      <td>PC172</td>\n",
       "      <td>CoaE; Dephospho-CoA kinase</td>\n",
       "    </tr>\n",
       "    <tr>\n",
       "      <th>7</th>\n",
       "      <td>PC43</td>\n",
       "      <td>494</td>\n",
       "      <td>PC176</td>\n",
       "      <td>CoaE; Dephospho-CoA kinase</td>\n",
       "    </tr>\n",
       "    <tr>\n",
       "      <th>8</th>\n",
       "      <td>PC52</td>\n",
       "      <td>625</td>\n",
       "      <td>PC78</td>\n",
       "      <td>DRE2_N; Fe-S cluster assembly protein Dre2, N-...</td>\n",
       "    </tr>\n",
       "    <tr>\n",
       "      <th>9</th>\n",
       "      <td>PC68</td>\n",
       "      <td>61</td>\n",
       "      <td>PC157</td>\n",
       "      <td>AGA2</td>\n",
       "    </tr>\n",
       "    <tr>\n",
       "      <th>10</th>\n",
       "      <td>PC69</td>\n",
       "      <td>1347</td>\n",
       "      <td>PC130</td>\n",
       "      <td>MAM33; Mitochondrial glycoprotein</td>\n",
       "    </tr>\n",
       "    <tr>\n",
       "      <th>11</th>\n",
       "      <td>PC89</td>\n",
       "      <td>876</td>\n",
       "      <td>PC69</td>\n",
       "      <td>FDX-ACB; Ferrodoxin-fold anticodon-binding domain</td>\n",
       "    </tr>\n",
       "    <tr>\n",
       "      <th>12</th>\n",
       "      <td>PC103</td>\n",
       "      <td>27</td>\n",
       "      <td>PC145</td>\n",
       "      <td>AAA_8; Dynein heavy chain, P-loop containing D...</td>\n",
       "    </tr>\n",
       "    <tr>\n",
       "      <th>13</th>\n",
       "      <td>PC176</td>\n",
       "      <td>27</td>\n",
       "      <td>PC145</td>\n",
       "      <td>AAA_8; Dynein heavy chain, P-loop containing D...</td>\n",
       "    </tr>\n",
       "    <tr>\n",
       "      <th>14</th>\n",
       "      <td>PC107</td>\n",
       "      <td>1072</td>\n",
       "      <td>PC56</td>\n",
       "      <td>Glycos_transf_1; Glycosyl transferase, family 1</td>\n",
       "    </tr>\n",
       "    <tr>\n",
       "      <th>15</th>\n",
       "      <td>PC107</td>\n",
       "      <td>1072</td>\n",
       "      <td>PC57</td>\n",
       "      <td>Glycos_transf_1; Glycosyl transferase, family 1</td>\n",
       "    </tr>\n",
       "    <tr>\n",
       "      <th>16</th>\n",
       "      <td>PC112</td>\n",
       "      <td>1073</td>\n",
       "      <td>PC16</td>\n",
       "      <td>Glycos_transf_2; Glycosyltransferase 2-like</td>\n",
       "    </tr>\n",
       "    <tr>\n",
       "      <th>17</th>\n",
       "      <td>PC115</td>\n",
       "      <td>1073</td>\n",
       "      <td>PC16</td>\n",
       "      <td>Glycos_transf_2; Glycosyltransferase 2-like</td>\n",
       "    </tr>\n",
       "    <tr>\n",
       "      <th>18</th>\n",
       "      <td>PC116</td>\n",
       "      <td>1014</td>\n",
       "      <td>PC211</td>\n",
       "      <td>GTP_cyclohydro2; GTP cyclohydrolase II</td>\n",
       "    </tr>\n",
       "    <tr>\n",
       "      <th>19</th>\n",
       "      <td>PC126</td>\n",
       "      <td>1014</td>\n",
       "      <td>PC211</td>\n",
       "      <td>GTP_cyclohydro2; GTP cyclohydrolase II</td>\n",
       "    </tr>\n",
       "    <tr>\n",
       "      <th>20</th>\n",
       "      <td>PC127</td>\n",
       "      <td>1014</td>\n",
       "      <td>PC211</td>\n",
       "      <td>GTP_cyclohydro2; GTP cyclohydrolase II</td>\n",
       "    </tr>\n",
       "    <tr>\n",
       "      <th>21</th>\n",
       "      <td>PC118</td>\n",
       "      <td>1227</td>\n",
       "      <td>PC243</td>\n",
       "      <td>I_LWEQ; I/LWEQ domain</td>\n",
       "    </tr>\n",
       "    <tr>\n",
       "      <th>22</th>\n",
       "      <td>PC122</td>\n",
       "      <td>38</td>\n",
       "      <td>PC234</td>\n",
       "      <td>ABC2_membrane; ABC-2 type transporter</td>\n",
       "    </tr>\n",
       "    <tr>\n",
       "      <th>23</th>\n",
       "      <td>PC122</td>\n",
       "      <td>38</td>\n",
       "      <td>PC241</td>\n",
       "      <td>ABC2_membrane; ABC-2 type transporter</td>\n",
       "    </tr>\n",
       "    <tr>\n",
       "      <th>24</th>\n",
       "      <td>PC140</td>\n",
       "      <td>881</td>\n",
       "      <td>PC231</td>\n",
       "      <td>FHA; Forkhead-associated (FHA) domain</td>\n",
       "    </tr>\n",
       "    <tr>\n",
       "      <th>25</th>\n",
       "      <td>PC140</td>\n",
       "      <td>881</td>\n",
       "      <td>PC270</td>\n",
       "      <td>FHA; Forkhead-associated (FHA) domain</td>\n",
       "    </tr>\n",
       "    <tr>\n",
       "      <th>26</th>\n",
       "      <td>PC142</td>\n",
       "      <td>1585</td>\n",
       "      <td>PC77</td>\n",
       "      <td>NPR3; Nitrogen permease regulator 3</td>\n",
       "    </tr>\n",
       "    <tr>\n",
       "      <th>27</th>\n",
       "      <td>PC143</td>\n",
       "      <td>1504</td>\n",
       "      <td>PC117</td>\n",
       "      <td>Mob1_phocein; MOB kinase activator family</td>\n",
       "    </tr>\n",
       "    <tr>\n",
       "      <th>28</th>\n",
       "      <td>PC156</td>\n",
       "      <td>363</td>\n",
       "      <td>PC196</td>\n",
       "      <td>CLP1_P; Polyribonucleotide 5&amp;apos;-hydroxyl-ki...</td>\n",
       "    </tr>\n",
       "    <tr>\n",
       "      <th>29</th>\n",
       "      <td>PC156</td>\n",
       "      <td>363</td>\n",
       "      <td>PC197</td>\n",
       "      <td>CLP1_P; Polyribonucleotide 5&amp;apos;-hydroxyl-ki...</td>\n",
       "    </tr>\n",
       "    <tr>\n",
       "      <th>30</th>\n",
       "      <td>PC161</td>\n",
       "      <td>1720</td>\n",
       "      <td>PC61</td>\n",
       "      <td>PDT; Prephenate dehydratase</td>\n",
       "    </tr>\n",
       "    <tr>\n",
       "      <th>31</th>\n",
       "      <td>PC163</td>\n",
       "      <td>310</td>\n",
       "      <td>PC79</td>\n",
       "      <td>C1_1; Protein kinase C-like, phorbol ester/dia...</td>\n",
       "    </tr>\n",
       "    <tr>\n",
       "      <th>32</th>\n",
       "      <td>PC177</td>\n",
       "      <td>844</td>\n",
       "      <td>PC186</td>\n",
       "      <td>Enolase_N; Enolase, N-terminal</td>\n",
       "    </tr>\n",
       "    <tr>\n",
       "      <th>33</th>\n",
       "      <td>PC180</td>\n",
       "      <td>161</td>\n",
       "      <td>PC62</td>\n",
       "      <td>Acyl-CoA_ox_N; Acyl-coenzyme A oxidase, N-term...</td>\n",
       "    </tr>\n",
       "    <tr>\n",
       "      <th>34</th>\n",
       "      <td>PC189</td>\n",
       "      <td>30</td>\n",
       "      <td>PC133</td>\n",
       "      <td>AAR2; A1 cistron-splicing factor, AAR2</td>\n",
       "    </tr>\n",
       "    <tr>\n",
       "      <th>35</th>\n",
       "      <td>PC189</td>\n",
       "      <td>30</td>\n",
       "      <td>PC134</td>\n",
       "      <td>AAR2; A1 cistron-splicing factor, AAR2</td>\n",
       "    </tr>\n",
       "    <tr>\n",
       "      <th>36</th>\n",
       "      <td>PC205</td>\n",
       "      <td>2025</td>\n",
       "      <td>PC118</td>\n",
       "      <td>RNA_pol_Rpb2_7; RNA polymerase Rpb2, domain 7</td>\n",
       "    </tr>\n",
       "    <tr>\n",
       "      <th>37</th>\n",
       "      <td>PC221</td>\n",
       "      <td>112</td>\n",
       "      <td>PC257</td>\n",
       "      <td>ATG22; Autophagy-related protein 22-like</td>\n",
       "    </tr>\n",
       "    <tr>\n",
       "      <th>38</th>\n",
       "      <td>PC232</td>\n",
       "      <td>1233</td>\n",
       "      <td>PC182</td>\n",
       "      <td>Inhibitor_I9; Peptidase S8 propeptide/proteina...</td>\n",
       "    </tr>\n",
       "    <tr>\n",
       "      <th>39</th>\n",
       "      <td>PC233</td>\n",
       "      <td>271</td>\n",
       "      <td>PC273</td>\n",
       "      <td>BLI1</td>\n",
       "    </tr>\n",
       "    <tr>\n",
       "      <th>40</th>\n",
       "      <td>PC249</td>\n",
       "      <td>1340</td>\n",
       "      <td>PC179</td>\n",
       "      <td>Lysine_decarbox; LOG family</td>\n",
       "    </tr>\n",
       "    <tr>\n",
       "      <th>41</th>\n",
       "      <td>PC249</td>\n",
       "      <td>1340</td>\n",
       "      <td>PC283</td>\n",
       "      <td>Lysine_decarbox; LOG family</td>\n",
       "    </tr>\n",
       "    <tr>\n",
       "      <th>42</th>\n",
       "      <td>PC254</td>\n",
       "      <td>1568</td>\n",
       "      <td>PC91</td>\n",
       "      <td>NIR_SIR_ferr; Nitrite/Sulfite reductase ferred...</td>\n",
       "    </tr>\n",
       "    <tr>\n",
       "      <th>43</th>\n",
       "      <td>PC254</td>\n",
       "      <td>1568</td>\n",
       "      <td>PC94</td>\n",
       "      <td>NIR_SIR_ferr; Nitrite/Sulfite reductase ferred...</td>\n",
       "    </tr>\n",
       "    <tr>\n",
       "      <th>44</th>\n",
       "      <td>PC263</td>\n",
       "      <td>2759</td>\n",
       "      <td>PC131</td>\n",
       "      <td>UPF0220; Uncharacterised protein family UPF0220</td>\n",
       "    </tr>\n",
       "    <tr>\n",
       "      <th>45</th>\n",
       "      <td>PC278</td>\n",
       "      <td>242</td>\n",
       "      <td>PC2</td>\n",
       "      <td>Atg31; Autophagy-related protein 31</td>\n",
       "    </tr>\n",
       "  </tbody>\n",
       "</table>\n",
       "</div>"
      ],
      "text/plain": [
       "   pca-component_x  domain-number pca-component_y  \\\n",
       "0              PC3            926            PC32   \n",
       "1              PC4            926            PC32   \n",
       "2             PC12           2082            PC27   \n",
       "3             PC15             47           PC108   \n",
       "4             PC26           2544            PC11   \n",
       "5             PC29           2700           PC275   \n",
       "6             PC43            494           PC172   \n",
       "7             PC43            494           PC176   \n",
       "8             PC52            625            PC78   \n",
       "9             PC68             61           PC157   \n",
       "10            PC69           1347           PC130   \n",
       "11            PC89            876            PC69   \n",
       "12           PC103             27           PC145   \n",
       "13           PC176             27           PC145   \n",
       "14           PC107           1072            PC56   \n",
       "15           PC107           1072            PC57   \n",
       "16           PC112           1073            PC16   \n",
       "17           PC115           1073            PC16   \n",
       "18           PC116           1014           PC211   \n",
       "19           PC126           1014           PC211   \n",
       "20           PC127           1014           PC211   \n",
       "21           PC118           1227           PC243   \n",
       "22           PC122             38           PC234   \n",
       "23           PC122             38           PC241   \n",
       "24           PC140            881           PC231   \n",
       "25           PC140            881           PC270   \n",
       "26           PC142           1585            PC77   \n",
       "27           PC143           1504           PC117   \n",
       "28           PC156            363           PC196   \n",
       "29           PC156            363           PC197   \n",
       "30           PC161           1720            PC61   \n",
       "31           PC163            310            PC79   \n",
       "32           PC177            844           PC186   \n",
       "33           PC180            161            PC62   \n",
       "34           PC189             30           PC133   \n",
       "35           PC189             30           PC134   \n",
       "36           PC205           2025           PC118   \n",
       "37           PC221            112           PC257   \n",
       "38           PC232           1233           PC182   \n",
       "39           PC233            271           PC273   \n",
       "40           PC249           1340           PC179   \n",
       "41           PC249           1340           PC283   \n",
       "42           PC254           1568            PC91   \n",
       "43           PC254           1568            PC94   \n",
       "44           PC263           2759           PC131   \n",
       "45           PC278            242             PC2   \n",
       "\n",
       "                                   domain-description  \n",
       "0                      Flp_C; Recombinase Flp protein  \n",
       "1                      Flp_C; Recombinase Flp protein  \n",
       "2   RXT2_N; Transcriptional regulatory protein RXT...  \n",
       "3                  ACOX; Acyl-CoA oxidase, C-terminal  \n",
       "4   Sybindin; Trafficking protein particle complex...  \n",
       "5              Trehalose_PPase; Trehalose-phosphatase  \n",
       "6                          CoaE; Dephospho-CoA kinase  \n",
       "7                          CoaE; Dephospho-CoA kinase  \n",
       "8   DRE2_N; Fe-S cluster assembly protein Dre2, N-...  \n",
       "9                                                AGA2  \n",
       "10                  MAM33; Mitochondrial glycoprotein  \n",
       "11  FDX-ACB; Ferrodoxin-fold anticodon-binding domain  \n",
       "12  AAA_8; Dynein heavy chain, P-loop containing D...  \n",
       "13  AAA_8; Dynein heavy chain, P-loop containing D...  \n",
       "14    Glycos_transf_1; Glycosyl transferase, family 1  \n",
       "15    Glycos_transf_1; Glycosyl transferase, family 1  \n",
       "16        Glycos_transf_2; Glycosyltransferase 2-like  \n",
       "17        Glycos_transf_2; Glycosyltransferase 2-like  \n",
       "18             GTP_cyclohydro2; GTP cyclohydrolase II  \n",
       "19             GTP_cyclohydro2; GTP cyclohydrolase II  \n",
       "20             GTP_cyclohydro2; GTP cyclohydrolase II  \n",
       "21                              I_LWEQ; I/LWEQ domain  \n",
       "22              ABC2_membrane; ABC-2 type transporter  \n",
       "23              ABC2_membrane; ABC-2 type transporter  \n",
       "24              FHA; Forkhead-associated (FHA) domain  \n",
       "25              FHA; Forkhead-associated (FHA) domain  \n",
       "26                NPR3; Nitrogen permease regulator 3  \n",
       "27          Mob1_phocein; MOB kinase activator family  \n",
       "28  CLP1_P; Polyribonucleotide 5&apos;-hydroxyl-ki...  \n",
       "29  CLP1_P; Polyribonucleotide 5&apos;-hydroxyl-ki...  \n",
       "30                        PDT; Prephenate dehydratase  \n",
       "31  C1_1; Protein kinase C-like, phorbol ester/dia...  \n",
       "32                     Enolase_N; Enolase, N-terminal  \n",
       "33  Acyl-CoA_ox_N; Acyl-coenzyme A oxidase, N-term...  \n",
       "34             AAR2; A1 cistron-splicing factor, AAR2  \n",
       "35             AAR2; A1 cistron-splicing factor, AAR2  \n",
       "36      RNA_pol_Rpb2_7; RNA polymerase Rpb2, domain 7  \n",
       "37           ATG22; Autophagy-related protein 22-like  \n",
       "38  Inhibitor_I9; Peptidase S8 propeptide/proteina...  \n",
       "39                                               BLI1  \n",
       "40                        Lysine_decarbox; LOG family  \n",
       "41                        Lysine_decarbox; LOG family  \n",
       "42  NIR_SIR_ferr; Nitrite/Sulfite reductase ferred...  \n",
       "43  NIR_SIR_ferr; Nitrite/Sulfite reductase ferred...  \n",
       "44    UPF0220; Uncharacterised protein family UPF0220  \n",
       "45                Atg31; Autophagy-related protein 31  "
      ]
     },
     "execution_count": 22,
     "metadata": {},
     "output_type": "execute_result"
    }
   ],
   "source": [
    "df_shared_domains=pd.merge(df_sl,df_nsl,how='inner',on='domain-number')\n",
    "domains_name=np.unique(data_domains['domain-name'])\n",
    "domains_description=np.unique(data_domains['domain-descrip'])\n",
    "\n",
    "df_shared_domains['domain-description']=domains_description[df_shared_domains['domain-number']]\n",
    "\n",
    "\n",
    "df_shared_domains"
   ]
  },
  {
   "cell_type": "code",
   "execution_count": 23,
   "metadata": {
    "execution": {
     "iopub.execute_input": "2020-07-14T19:46:01.876253Z",
     "iopub.status.busy": "2020-07-14T19:46:01.874947Z",
     "iopub.status.idle": "2020-07-14T19:46:01.883054Z",
     "shell.execute_reply": "2020-07-14T19:46:01.883800Z"
    }
   },
   "outputs": [
    {
     "name": "stdout",
     "output_type": "stream",
     "text": [
      "The number of shared domains between SL and nSL pairs,after PCA, is =  46 out of 568 so the 8.098591549295774 %\n"
     ]
    }
   ],
   "source": [
    "print('The number of shared domains between SL and nSL pairs,after PCA, is = ',len(df_shared_domains), 'out of', len(df_sl)+len(df_nsl), 'so the',100*len(df_shared_domains)/(len(df_sl)+len(df_nsl)),'%')"
   ]
  },
  {
   "cell_type": "markdown",
   "metadata": {},
   "source": [
    "## Domains exclusive to SL"
   ]
  },
  {
   "cell_type": "code",
   "execution_count": 24,
   "metadata": {
    "execution": {
     "iopub.execute_input": "2020-07-14T19:46:01.887236Z",
     "iopub.status.busy": "2020-07-14T19:46:01.886131Z",
     "iopub.status.idle": "2020-07-14T19:46:01.915878Z",
     "shell.execute_reply": "2020-07-14T19:46:01.916656Z"
    }
   },
   "outputs": [
    {
     "data": {
      "text/html": [
       "<div>\n",
       "<style scoped>\n",
       "    .dataframe tbody tr th:only-of-type {\n",
       "        vertical-align: middle;\n",
       "    }\n",
       "\n",
       "    .dataframe tbody tr th {\n",
       "        vertical-align: top;\n",
       "    }\n",
       "\n",
       "    .dataframe thead th {\n",
       "        text-align: right;\n",
       "    }\n",
       "</style>\n",
       "<table border=\"1\" class=\"dataframe\">\n",
       "  <thead>\n",
       "    <tr style=\"text-align: right;\">\n",
       "      <th></th>\n",
       "      <th>pca-component_x</th>\n",
       "      <th>domain-number</th>\n",
       "      <th>pca-component_y</th>\n",
       "      <th>domain-description</th>\n",
       "    </tr>\n",
       "  </thead>\n",
       "  <tbody>\n",
       "    <tr>\n",
       "      <th>0</th>\n",
       "      <td>PC0</td>\n",
       "      <td>142</td>\n",
       "      <td>NaN</td>\n",
       "      <td>ATP_synt_H; ATPase, V0 complex, subunit e1/e2</td>\n",
       "    </tr>\n",
       "    <tr>\n",
       "      <th>1</th>\n",
       "      <td>PC1</td>\n",
       "      <td>229</td>\n",
       "      <td>NaN</td>\n",
       "      <td>Arginase; Ureohydrolase</td>\n",
       "    </tr>\n",
       "    <tr>\n",
       "      <th>2</th>\n",
       "      <td>PC2</td>\n",
       "      <td>141</td>\n",
       "      <td>NaN</td>\n",
       "      <td>ATP_sub_h; ATP synthase, F0 complex, subunit H</td>\n",
       "    </tr>\n",
       "    <tr>\n",
       "      <th>5</th>\n",
       "      <td>PC5</td>\n",
       "      <td>689</td>\n",
       "      <td>NaN</td>\n",
       "      <td>DUF3128; Protein of unknown function DUF3128</td>\n",
       "    </tr>\n",
       "    <tr>\n",
       "      <th>6</th>\n",
       "      <td>PC6</td>\n",
       "      <td>1179</td>\n",
       "      <td>NaN</td>\n",
       "      <td>HlyIII; AdipoR/Haemolysin-III-related</td>\n",
       "    </tr>\n",
       "    <tr>\n",
       "      <th>...</th>\n",
       "      <td>...</td>\n",
       "      <td>...</td>\n",
       "      <td>...</td>\n",
       "      <td>...</td>\n",
       "    </tr>\n",
       "    <tr>\n",
       "      <th>284</th>\n",
       "      <td>PC276</td>\n",
       "      <td>2492</td>\n",
       "      <td>NaN</td>\n",
       "      <td>Sod_Cu; Superoxide dismutase, copper/zinc bind...</td>\n",
       "    </tr>\n",
       "    <tr>\n",
       "      <th>285</th>\n",
       "      <td>PC277</td>\n",
       "      <td>2492</td>\n",
       "      <td>NaN</td>\n",
       "      <td>Sod_Cu; Superoxide dismutase, copper/zinc bind...</td>\n",
       "    </tr>\n",
       "    <tr>\n",
       "      <th>287</th>\n",
       "      <td>PC279</td>\n",
       "      <td>2279</td>\n",
       "      <td>NaN</td>\n",
       "      <td>S-methyl_trans; Homocysteine-binding domain</td>\n",
       "    </tr>\n",
       "    <tr>\n",
       "      <th>288</th>\n",
       "      <td>PC280</td>\n",
       "      <td>1743</td>\n",
       "      <td>NaN</td>\n",
       "      <td>PHD_2</td>\n",
       "    </tr>\n",
       "    <tr>\n",
       "      <th>289</th>\n",
       "      <td>PC281</td>\n",
       "      <td>2163</td>\n",
       "      <td>NaN</td>\n",
       "      <td>Ribosomal_L17; Ribosomal protein L17</td>\n",
       "    </tr>\n",
       "  </tbody>\n",
       "</table>\n",
       "<p>244 rows × 4 columns</p>\n",
       "</div>"
      ],
      "text/plain": [
       "    pca-component_x  domain-number pca-component_y  \\\n",
       "0               PC0            142             NaN   \n",
       "1               PC1            229             NaN   \n",
       "2               PC2            141             NaN   \n",
       "5               PC5            689             NaN   \n",
       "6               PC6           1179             NaN   \n",
       "..              ...            ...             ...   \n",
       "284           PC276           2492             NaN   \n",
       "285           PC277           2492             NaN   \n",
       "287           PC279           2279             NaN   \n",
       "288           PC280           1743             NaN   \n",
       "289           PC281           2163             NaN   \n",
       "\n",
       "                                    domain-description  \n",
       "0        ATP_synt_H; ATPase, V0 complex, subunit e1/e2  \n",
       "1                              Arginase; Ureohydrolase  \n",
       "2       ATP_sub_h; ATP synthase, F0 complex, subunit H  \n",
       "5         DUF3128; Protein of unknown function DUF3128  \n",
       "6                HlyIII; AdipoR/Haemolysin-III-related  \n",
       "..                                                 ...  \n",
       "284  Sod_Cu; Superoxide dismutase, copper/zinc bind...  \n",
       "285  Sod_Cu; Superoxide dismutase, copper/zinc bind...  \n",
       "287        S-methyl_trans; Homocysteine-binding domain  \n",
       "288                                              PHD_2  \n",
       "289               Ribosomal_L17; Ribosomal protein L17  \n",
       "\n",
       "[244 rows x 4 columns]"
      ]
     },
     "execution_count": 24,
     "metadata": {},
     "output_type": "execute_result"
    }
   ],
   "source": [
    "df_sl_exclusive=pd.merge(df_sl,df_nsl,how='left',on='domain-number')\n",
    "\n",
    "domains_name=np.unique(data_domains['domain-name'])\n",
    "domains_description=np.unique(data_domains['domain-descrip'])\n",
    "\n",
    "df_sl_exclusive['domain-description']=domains_description[df_sl_exclusive['domain-number']]\n",
    "df_sl_exclusive[pd.isnull(df_sl_exclusive['pca-component_y'])]"
   ]
  },
  {
   "cell_type": "code",
   "execution_count": 25,
   "metadata": {
    "execution": {
     "iopub.execute_input": "2020-07-14T19:46:01.919895Z",
     "iopub.status.busy": "2020-07-14T19:46:01.919119Z",
     "iopub.status.idle": "2020-07-14T19:46:01.926585Z",
     "shell.execute_reply": "2020-07-14T19:46:01.926124Z"
    }
   },
   "outputs": [
    {
     "name": "stdout",
     "output_type": "stream",
     "text": [
      "The number of exclusive domains from SL pairs, after PCA, is =  290 out of 568 so the 51.056338028169016 %\n"
     ]
    }
   ],
   "source": [
    "print('The number of exclusive domains from SL pairs, after PCA, is = ',len(df_sl_exclusive), 'out of', len(df_sl)+len(df_nsl), 'so the',100*len(df_sl_exclusive)/(len(df_sl)+len(df_nsl)),'%')"
   ]
  },
  {
   "cell_type": "code",
   "execution_count": 26,
   "metadata": {
    "execution": {
     "iopub.execute_input": "2020-07-14T19:46:01.956923Z",
     "iopub.status.busy": "2020-07-14T19:46:01.932755Z",
     "iopub.status.idle": "2020-07-14T19:46:01.960646Z",
     "shell.execute_reply": "2020-07-14T19:46:01.959889Z"
    }
   },
   "outputs": [
    {
     "data": {
      "text/html": [
       "<div>\n",
       "<style scoped>\n",
       "    .dataframe tbody tr th:only-of-type {\n",
       "        vertical-align: middle;\n",
       "    }\n",
       "\n",
       "    .dataframe tbody tr th {\n",
       "        vertical-align: top;\n",
       "    }\n",
       "\n",
       "    .dataframe thead th {\n",
       "        text-align: right;\n",
       "    }\n",
       "</style>\n",
       "<table border=\"1\" class=\"dataframe\">\n",
       "  <thead>\n",
       "    <tr style=\"text-align: right;\">\n",
       "      <th></th>\n",
       "      <th>pca-component_x</th>\n",
       "      <th>domain-number</th>\n",
       "      <th>pca-component_y</th>\n",
       "      <th>domain-description</th>\n",
       "    </tr>\n",
       "  </thead>\n",
       "  <tbody>\n",
       "    <tr>\n",
       "      <th>46</th>\n",
       "      <td>NaN</td>\n",
       "      <td>305</td>\n",
       "      <td>PC0</td>\n",
       "      <td>Brr6_like_C_C; Brl1/Brr6 domain</td>\n",
       "    </tr>\n",
       "    <tr>\n",
       "      <th>47</th>\n",
       "      <td>NaN</td>\n",
       "      <td>268</td>\n",
       "      <td>PC1</td>\n",
       "      <td>BHD_3; Rad4 beta-hairpin domain 3</td>\n",
       "    </tr>\n",
       "    <tr>\n",
       "      <th>48</th>\n",
       "      <td>NaN</td>\n",
       "      <td>76</td>\n",
       "      <td>PC3</td>\n",
       "      <td>ALS_ss_C; Acetolactate synthase, small subunit...</td>\n",
       "    </tr>\n",
       "    <tr>\n",
       "      <th>49</th>\n",
       "      <td>NaN</td>\n",
       "      <td>346</td>\n",
       "      <td>PC4</td>\n",
       "      <td>CENP-S; CENP-S/Mhf1</td>\n",
       "    </tr>\n",
       "    <tr>\n",
       "      <th>50</th>\n",
       "      <td>NaN</td>\n",
       "      <td>2113</td>\n",
       "      <td>PC5</td>\n",
       "      <td>Rav1p_C; RAVE complex protein Rav1 C-terminal</td>\n",
       "    </tr>\n",
       "    <tr>\n",
       "      <th>...</th>\n",
       "      <td>...</td>\n",
       "      <td>...</td>\n",
       "      <td>...</td>\n",
       "      <td>...</td>\n",
       "    </tr>\n",
       "    <tr>\n",
       "      <th>286</th>\n",
       "      <td>NaN</td>\n",
       "      <td>2012</td>\n",
       "      <td>PC278</td>\n",
       "      <td>RNA_pol_Rpb1_2; RNA polymerase, alpha subunit</td>\n",
       "    </tr>\n",
       "    <tr>\n",
       "      <th>287</th>\n",
       "      <td>NaN</td>\n",
       "      <td>263</td>\n",
       "      <td>PC280</td>\n",
       "      <td>BCIP; BCP1 family</td>\n",
       "    </tr>\n",
       "    <tr>\n",
       "      <th>288</th>\n",
       "      <td>NaN</td>\n",
       "      <td>1085</td>\n",
       "      <td>PC282</td>\n",
       "      <td>Gsf2; Glucose signalling factor 2</td>\n",
       "    </tr>\n",
       "    <tr>\n",
       "      <th>289</th>\n",
       "      <td>NaN</td>\n",
       "      <td>2450</td>\n",
       "      <td>PC284</td>\n",
       "      <td>Sec62; Translocation protein Sec62</td>\n",
       "    </tr>\n",
       "    <tr>\n",
       "      <th>290</th>\n",
       "      <td>NaN</td>\n",
       "      <td>1285</td>\n",
       "      <td>PC285</td>\n",
       "      <td>L51_S25_CI-B8; Ribosomal protein/NADH dehydrog...</td>\n",
       "    </tr>\n",
       "  </tbody>\n",
       "</table>\n",
       "<p>245 rows × 4 columns</p>\n",
       "</div>"
      ],
      "text/plain": [
       "    pca-component_x  domain-number pca-component_y  \\\n",
       "46              NaN            305             PC0   \n",
       "47              NaN            268             PC1   \n",
       "48              NaN             76             PC3   \n",
       "49              NaN            346             PC4   \n",
       "50              NaN           2113             PC5   \n",
       "..              ...            ...             ...   \n",
       "286             NaN           2012           PC278   \n",
       "287             NaN            263           PC280   \n",
       "288             NaN           1085           PC282   \n",
       "289             NaN           2450           PC284   \n",
       "290             NaN           1285           PC285   \n",
       "\n",
       "                                    domain-description  \n",
       "46                     Brr6_like_C_C; Brl1/Brr6 domain  \n",
       "47                   BHD_3; Rad4 beta-hairpin domain 3  \n",
       "48   ALS_ss_C; Acetolactate synthase, small subunit...  \n",
       "49                                 CENP-S; CENP-S/Mhf1  \n",
       "50       Rav1p_C; RAVE complex protein Rav1 C-terminal  \n",
       "..                                                 ...  \n",
       "286      RNA_pol_Rpb1_2; RNA polymerase, alpha subunit  \n",
       "287                                  BCIP; BCP1 family  \n",
       "288                  Gsf2; Glucose signalling factor 2  \n",
       "289                 Sec62; Translocation protein Sec62  \n",
       "290  L51_S25_CI-B8; Ribosomal protein/NADH dehydrog...  \n",
       "\n",
       "[245 rows x 4 columns]"
      ]
     },
     "execution_count": 26,
     "metadata": {},
     "output_type": "execute_result"
    }
   ],
   "source": [
    "df_nsl_exclusive=pd.merge(df_sl,df_nsl,how='right',on='domain-number')\n",
    "\n",
    "domains_name=np.unique(data_domains['domain-name'])\n",
    "domains_description=np.unique(data_domains['domain-descrip'])\n",
    "\n",
    "df_nsl_exclusive['domain-description']=domains_description[df_nsl_exclusive['domain-number']]\n",
    "df_nsl_exclusive[pd.isnull(df_nsl_exclusive['pca-component_x'])]"
   ]
  },
  {
   "cell_type": "code",
   "execution_count": 27,
   "metadata": {
    "execution": {
     "iopub.execute_input": "2020-07-14T19:46:01.965318Z",
     "iopub.status.busy": "2020-07-14T19:46:01.964810Z",
     "iopub.status.idle": "2020-07-14T19:46:01.970829Z",
     "shell.execute_reply": "2020-07-14T19:46:01.970371Z"
    }
   },
   "outputs": [
    {
     "name": "stdout",
     "output_type": "stream",
     "text": [
      "The number of exclusive domains from non SL pairs, after PCA, is =  291 out of 568 so the 51.232394366197184 %\n"
     ]
    }
   ],
   "source": [
    "print('The number of exclusive domains from non SL pairs, after PCA, is = ',len(df_nsl_exclusive), 'out of', len(df_sl)+len(df_nsl), 'so the',100*len(df_nsl_exclusive)/(len(df_sl)+len(df_nsl)),'%')"
   ]
  },
  {
   "cell_type": "markdown",
   "metadata": {},
   "source": [
    "## Let see to the domains-number that get repeated after the PCA analysis , and selecting the most explanatory feature by its explained variance."
   ]
  },
  {
   "cell_type": "code",
   "execution_count": 28,
   "metadata": {
    "execution": {
     "iopub.execute_input": "2020-07-14T19:46:01.993091Z",
     "iopub.status.busy": "2020-07-14T19:46:01.992536Z",
     "iopub.status.idle": "2020-07-14T19:46:01.995671Z",
     "shell.execute_reply": "2020-07-14T19:46:01.995201Z"
    }
   },
   "outputs": [],
   "source": [
    "duplicated_features_sl=df_sl[df_sl.iloc[:,1].duplicated()]\n",
    "repeated_features_sl=pd.DataFrame()\n",
    "\n",
    "domains_name=np.unique(data_domains['domain-name'])\n",
    "domains_description=np.unique(data_domains['domain-descrip'])\n",
    "\n",
    "repeated_features_sl['domain-name']=domains_name[duplicated_features_sl.iloc[:,1]] \n",
    "repeated_features_sl['domain-description']=domains_description[duplicated_features_sl.iloc[:,1]]\n",
    "\n",
    "duplicated_features_nsl=df_nsl[df_nsl.iloc[:,1].duplicated()]\n",
    "repeated_features_nsl=pd.DataFrame()\n",
    "\n",
    "repeated_features_nsl['domain-name']=domains_name[duplicated_features_nsl.iloc[:,1]] \n",
    "repeated_features_nsl['domain-description']=domains_description[duplicated_features_nsl.iloc[:,1]]"
   ]
  },
  {
   "cell_type": "code",
   "execution_count": 29,
   "metadata": {
    "execution": {
     "iopub.execute_input": "2020-07-14T19:46:02.006307Z",
     "iopub.status.busy": "2020-07-14T19:46:02.001824Z",
     "iopub.status.idle": "2020-07-14T19:46:02.011852Z",
     "shell.execute_reply": "2020-07-14T19:46:02.012245Z"
    }
   },
   "outputs": [
    {
     "data": {
      "text/plain": [
       "((42, 4), (290, 4))"
      ]
     },
     "execution_count": 29,
     "metadata": {},
     "output_type": "execute_result"
    }
   ],
   "source": [
    "only_sl_pd=pd.merge(repeated_features_sl,repeated_features_nsl,how='left',on=['domain-name'])\n",
    "data_only_sl = only_sl_pd[pd.isnull(only_sl_pd['domain-description_y'])]\n",
    "data_only_sl['domain-description']=data_only_sl['domain-description_x']\n",
    "data_only_sl.shape,df_sl_exclusive.shape"
   ]
  },
  {
   "cell_type": "code",
   "execution_count": 30,
   "metadata": {
    "execution": {
     "iopub.execute_input": "2020-07-14T19:46:02.032091Z",
     "iopub.status.busy": "2020-07-14T19:46:02.031534Z",
     "iopub.status.idle": "2020-07-14T19:46:02.038724Z",
     "shell.execute_reply": "2020-07-14T19:46:02.038254Z"
    }
   },
   "outputs": [
    {
     "data": {
      "text/html": [
       "<div>\n",
       "<style scoped>\n",
       "    .dataframe tbody tr th:only-of-type {\n",
       "        vertical-align: middle;\n",
       "    }\n",
       "\n",
       "    .dataframe tbody tr th {\n",
       "        vertical-align: top;\n",
       "    }\n",
       "\n",
       "    .dataframe thead th {\n",
       "        text-align: right;\n",
       "    }\n",
       "</style>\n",
       "<table border=\"1\" class=\"dataframe\">\n",
       "  <thead>\n",
       "    <tr style=\"text-align: right;\">\n",
       "      <th></th>\n",
       "      <th>domain-name</th>\n",
       "      <th>domain-description_x</th>\n",
       "      <th>domain-description_y</th>\n",
       "    </tr>\n",
       "  </thead>\n",
       "  <tbody>\n",
       "    <tr>\n",
       "      <th>0</th>\n",
       "      <td>PF00639</td>\n",
       "      <td>NaN</td>\n",
       "      <td>CAP_C; Adenylate cyclase-associated CAP, C-ter...</td>\n",
       "    </tr>\n",
       "    <tr>\n",
       "      <th>1</th>\n",
       "      <td>PF06733</td>\n",
       "      <td>NaN</td>\n",
       "      <td>Ost5; Oligosaccharyltransferase complex subunit</td>\n",
       "    </tr>\n",
       "    <tr>\n",
       "      <th>2</th>\n",
       "      <td>PF12931</td>\n",
       "      <td>NaN</td>\n",
       "      <td>TFIID_30kDa; Transcription initiation factor T...</td>\n",
       "    </tr>\n",
       "    <tr>\n",
       "      <th>3</th>\n",
       "      <td>PF00782</td>\n",
       "      <td>NaN</td>\n",
       "      <td>COG6</td>\n",
       "    </tr>\n",
       "    <tr>\n",
       "      <th>4</th>\n",
       "      <td>PF00118</td>\n",
       "      <td>NaN</td>\n",
       "      <td>AD; Anticodon-binding domain</td>\n",
       "    </tr>\n",
       "    <tr>\n",
       "      <th>5</th>\n",
       "      <td>PF03198</td>\n",
       "      <td>NaN</td>\n",
       "      <td>Glycos_transf_1; Glycosyl transferase, family 1</td>\n",
       "    </tr>\n",
       "    <tr>\n",
       "      <th>6</th>\n",
       "      <td>PF04096</td>\n",
       "      <td>NaN</td>\n",
       "      <td>Kin17_mid; DNA/RNA-binding protein Kin17, cons...</td>\n",
       "    </tr>\n",
       "    <tr>\n",
       "      <th>7</th>\n",
       "      <td>PF01131</td>\n",
       "      <td>NaN</td>\n",
       "      <td>Cohesin_load; Chromatid cohesion factor MAU2</td>\n",
       "    </tr>\n",
       "    <tr>\n",
       "      <th>8</th>\n",
       "      <td>PF01909</td>\n",
       "      <td>NaN</td>\n",
       "      <td>Dynein_light; Dynein light chain, type 1/2</td>\n",
       "    </tr>\n",
       "    <tr>\n",
       "      <th>9</th>\n",
       "      <td>PF10513</td>\n",
       "      <td>NaN</td>\n",
       "      <td>SGTA_dimer; SGTA, homodimerisation domain</td>\n",
       "    </tr>\n",
       "    <tr>\n",
       "      <th>10</th>\n",
       "      <td>PF00888</td>\n",
       "      <td>NaN</td>\n",
       "      <td>CS; CS domain</td>\n",
       "    </tr>\n",
       "    <tr>\n",
       "      <th>11</th>\n",
       "      <td>PF05615</td>\n",
       "      <td>NaN</td>\n",
       "      <td>NIR_SIR_ferr; Nitrite/Sulfite reductase ferred...</td>\n",
       "    </tr>\n",
       "    <tr>\n",
       "      <th>12</th>\n",
       "      <td>PF05786</td>\n",
       "      <td>NaN</td>\n",
       "      <td>NTP_transferase; Nucleotidyl transferase domain</td>\n",
       "    </tr>\n",
       "    <tr>\n",
       "      <th>13</th>\n",
       "      <td>PF13928</td>\n",
       "      <td>NaN</td>\n",
       "      <td>Tubulin; Tubulin/FtsZ, GTPase domain</td>\n",
       "    </tr>\n",
       "    <tr>\n",
       "      <th>14</th>\n",
       "      <td>PF04573</td>\n",
       "      <td>NaN</td>\n",
       "      <td>MMS19_N</td>\n",
       "    </tr>\n",
       "    <tr>\n",
       "      <th>15</th>\n",
       "      <td>PF13793</td>\n",
       "      <td>NaN</td>\n",
       "      <td>Tom37; Mitochondrial outer membrane transport ...</td>\n",
       "    </tr>\n",
       "    <tr>\n",
       "      <th>16</th>\n",
       "      <td>PF05557</td>\n",
       "      <td>NaN</td>\n",
       "      <td>NIF; FCP1 homology domain</td>\n",
       "    </tr>\n",
       "    <tr>\n",
       "      <th>17</th>\n",
       "      <td>PF09346</td>\n",
       "      <td>NaN</td>\n",
       "      <td>RasGAP; Ras GTPase-activating protein</td>\n",
       "    </tr>\n",
       "    <tr>\n",
       "      <th>18</th>\n",
       "      <td>PF09346</td>\n",
       "      <td>NaN</td>\n",
       "      <td>RasGAP; Ras GTPase-activating protein</td>\n",
       "    </tr>\n",
       "    <tr>\n",
       "      <th>19</th>\n",
       "      <td>PF10568</td>\n",
       "      <td>NaN</td>\n",
       "      <td>SHQ1; SHQ1 protein</td>\n",
       "    </tr>\n",
       "    <tr>\n",
       "      <th>20</th>\n",
       "      <td>PF00076</td>\n",
       "      <td>NaN</td>\n",
       "      <td>AAR2; A1 cistron-splicing factor, AAR2</td>\n",
       "    </tr>\n",
       "    <tr>\n",
       "      <th>21</th>\n",
       "      <td>PF10487</td>\n",
       "      <td>NaN</td>\n",
       "      <td>SF1-HH; Splicing factor 1, helix-hairpin domain</td>\n",
       "    </tr>\n",
       "    <tr>\n",
       "      <th>22</th>\n",
       "      <td>PF09462</td>\n",
       "      <td>NaN</td>\n",
       "      <td>Rho_GDI; Rho protein GDP-dissociation inhibitor</td>\n",
       "    </tr>\n",
       "    <tr>\n",
       "      <th>23</th>\n",
       "      <td>PF06046</td>\n",
       "      <td>NaN</td>\n",
       "      <td>Nop16; Ribosome biogenesis protein Nop16</td>\n",
       "    </tr>\n",
       "    <tr>\n",
       "      <th>24</th>\n",
       "      <td>PF04622</td>\n",
       "      <td>NaN</td>\n",
       "      <td>MOR2-PAG1_mid; Cell morphogenesis central region</td>\n",
       "    </tr>\n",
       "    <tr>\n",
       "      <th>25</th>\n",
       "      <td>PF00241</td>\n",
       "      <td>NaN</td>\n",
       "      <td>ATP-cone; ATP-cone domain</td>\n",
       "    </tr>\n",
       "    <tr>\n",
       "      <th>26</th>\n",
       "      <td>PF01544</td>\n",
       "      <td>NaN</td>\n",
       "      <td>DUF1981; Sec7, C-terminal</td>\n",
       "    </tr>\n",
       "    <tr>\n",
       "      <th>27</th>\n",
       "      <td>PF08626</td>\n",
       "      <td>NaN</td>\n",
       "      <td>RINT1_TIP1; RINT-1/Tip20</td>\n",
       "    </tr>\n",
       "    <tr>\n",
       "      <th>28</th>\n",
       "      <td>PF06093</td>\n",
       "      <td>NaN</td>\n",
       "      <td>Not3; CCR4-Not complex component, Not N-termin...</td>\n",
       "    </tr>\n",
       "    <tr>\n",
       "      <th>29</th>\n",
       "      <td>PF01115</td>\n",
       "      <td>NaN</td>\n",
       "      <td>CoaE; Dephospho-CoA kinase</td>\n",
       "    </tr>\n",
       "    <tr>\n",
       "      <th>30</th>\n",
       "      <td>PF05970</td>\n",
       "      <td>NaN</td>\n",
       "      <td>NifU; NIF system FeS cluster assembly, NifU, C...</td>\n",
       "    </tr>\n",
       "    <tr>\n",
       "      <th>31</th>\n",
       "      <td>PF06839</td>\n",
       "      <td>NaN</td>\n",
       "      <td>P21-Arc; Actin-related protein 2/3 complex sub...</td>\n",
       "    </tr>\n",
       "    <tr>\n",
       "      <th>32</th>\n",
       "      <td>PF17098</td>\n",
       "      <td>NaN</td>\n",
       "      <td>zf-CCHC; Zinc finger, CCHC-type</td>\n",
       "    </tr>\n",
       "    <tr>\n",
       "      <th>33</th>\n",
       "      <td>PF13245</td>\n",
       "      <td>NaN</td>\n",
       "      <td>TP6A_N; Spo11/DNA topoisomerase VI, subunit A,...</td>\n",
       "    </tr>\n",
       "    <tr>\n",
       "      <th>34</th>\n",
       "      <td>PF00735</td>\n",
       "      <td>NaN</td>\n",
       "      <td>CLP1_P; Polyribonucleotide 5&amp;apos;-hydroxyl-ki...</td>\n",
       "    </tr>\n",
       "    <tr>\n",
       "      <th>35</th>\n",
       "      <td>PF02996</td>\n",
       "      <td>NaN</td>\n",
       "      <td>Gal_mutarotas_2; Glycoside hydrolase family 31...</td>\n",
       "    </tr>\n",
       "    <tr>\n",
       "      <th>36</th>\n",
       "      <td>PF08317</td>\n",
       "      <td>NaN</td>\n",
       "      <td>Peptidase_M48; Peptidase M48</td>\n",
       "    </tr>\n",
       "    <tr>\n",
       "      <th>37</th>\n",
       "      <td>PF01218</td>\n",
       "      <td>NaN</td>\n",
       "      <td>DASH_Ask1; DASH complex subunit Ask1</td>\n",
       "    </tr>\n",
       "    <tr>\n",
       "      <th>38</th>\n",
       "      <td>PF03915</td>\n",
       "      <td>NaN</td>\n",
       "      <td>ICL; Isocitrate lyase</td>\n",
       "    </tr>\n",
       "    <tr>\n",
       "      <th>39</th>\n",
       "      <td>PF03915</td>\n",
       "      <td>NaN</td>\n",
       "      <td>ICL; Isocitrate lyase</td>\n",
       "    </tr>\n",
       "    <tr>\n",
       "      <th>40</th>\n",
       "      <td>PF00687</td>\n",
       "      <td>NaN</td>\n",
       "      <td>CDT1_C; DNA replication factor Cdt1, C-terminal</td>\n",
       "    </tr>\n",
       "    <tr>\n",
       "      <th>41</th>\n",
       "      <td>PF00096</td>\n",
       "      <td>NaN</td>\n",
       "      <td>ABC2_membrane; ABC-2 type transporter</td>\n",
       "    </tr>\n",
       "    <tr>\n",
       "      <th>42</th>\n",
       "      <td>PF03694</td>\n",
       "      <td>NaN</td>\n",
       "      <td>Helicase_C_2; ATP-dependent helicase, C-terminal</td>\n",
       "    </tr>\n",
       "    <tr>\n",
       "      <th>43</th>\n",
       "      <td>PF03694</td>\n",
       "      <td>NaN</td>\n",
       "      <td>Helicase_C_2; ATP-dependent helicase, C-terminal</td>\n",
       "    </tr>\n",
       "    <tr>\n",
       "      <th>44</th>\n",
       "      <td>PF01036</td>\n",
       "      <td>NaN</td>\n",
       "      <td>Choline_kinase</td>\n",
       "    </tr>\n",
       "    <tr>\n",
       "      <th>45</th>\n",
       "      <td>PF00793</td>\n",
       "      <td>NaN</td>\n",
       "      <td>COQ9</td>\n",
       "    </tr>\n",
       "    <tr>\n",
       "      <th>46</th>\n",
       "      <td>PF00571</td>\n",
       "      <td>NaN</td>\n",
       "      <td>BP28CT; BP28, C-terminal domain</td>\n",
       "    </tr>\n",
       "    <tr>\n",
       "      <th>47</th>\n",
       "      <td>PF00571</td>\n",
       "      <td>NaN</td>\n",
       "      <td>BP28CT; BP28, C-terminal domain</td>\n",
       "    </tr>\n",
       "    <tr>\n",
       "      <th>48</th>\n",
       "      <td>PF03911</td>\n",
       "      <td>NaN</td>\n",
       "      <td>IBR; IBR domain</td>\n",
       "    </tr>\n",
       "    <tr>\n",
       "      <th>49</th>\n",
       "      <td>PF00399</td>\n",
       "      <td>NaN</td>\n",
       "      <td>Alpha_adaptinC2; Clathrin adaptor, alpha/beta/...</td>\n",
       "    </tr>\n",
       "    <tr>\n",
       "      <th>50</th>\n",
       "      <td>PF08293</td>\n",
       "      <td>NaN</td>\n",
       "      <td>Peptidase_M16_C; Peptidase M16, C-terminal</td>\n",
       "    </tr>\n",
       "    <tr>\n",
       "      <th>51</th>\n",
       "      <td>PF01885</td>\n",
       "      <td>NaN</td>\n",
       "      <td>Dus; tRNA-dihydrouridine synthase</td>\n",
       "    </tr>\n",
       "    <tr>\n",
       "      <th>52</th>\n",
       "      <td>PF08612</td>\n",
       "      <td>NaN</td>\n",
       "      <td>RFC1; DNA replication factor RFC1, C-terminal</td>\n",
       "    </tr>\n",
       "    <tr>\n",
       "      <th>53</th>\n",
       "      <td>PF17097</td>\n",
       "      <td>NaN</td>\n",
       "      <td>zf-CCCH_2</td>\n",
       "    </tr>\n",
       "    <tr>\n",
       "      <th>54</th>\n",
       "      <td>PF02383</td>\n",
       "      <td>NaN</td>\n",
       "      <td>FHA; Forkhead-associated (FHA) domain</td>\n",
       "    </tr>\n",
       "    <tr>\n",
       "      <th>55</th>\n",
       "      <td>PF08654</td>\n",
       "      <td>NaN</td>\n",
       "      <td>RNA_pol_Rpb1_3; RNA polymerase Rpb1, domain 3</td>\n",
       "    </tr>\n",
       "    <tr>\n",
       "      <th>56</th>\n",
       "      <td>PF14634</td>\n",
       "      <td>NaN</td>\n",
       "      <td>Ubiquitin_2; Ubiquitin domain</td>\n",
       "    </tr>\n",
       "    <tr>\n",
       "      <th>57</th>\n",
       "      <td>PF04383</td>\n",
       "      <td>NaN</td>\n",
       "      <td>Lysine_decarbox; LOG family</td>\n",
       "    </tr>\n",
       "  </tbody>\n",
       "</table>\n",
       "</div>"
      ],
      "text/plain": [
       "   domain-name domain-description_x  \\\n",
       "0      PF00639                  NaN   \n",
       "1      PF06733                  NaN   \n",
       "2      PF12931                  NaN   \n",
       "3      PF00782                  NaN   \n",
       "4      PF00118                  NaN   \n",
       "5      PF03198                  NaN   \n",
       "6      PF04096                  NaN   \n",
       "7      PF01131                  NaN   \n",
       "8      PF01909                  NaN   \n",
       "9      PF10513                  NaN   \n",
       "10     PF00888                  NaN   \n",
       "11     PF05615                  NaN   \n",
       "12     PF05786                  NaN   \n",
       "13     PF13928                  NaN   \n",
       "14     PF04573                  NaN   \n",
       "15     PF13793                  NaN   \n",
       "16     PF05557                  NaN   \n",
       "17     PF09346                  NaN   \n",
       "18     PF09346                  NaN   \n",
       "19     PF10568                  NaN   \n",
       "20     PF00076                  NaN   \n",
       "21     PF10487                  NaN   \n",
       "22     PF09462                  NaN   \n",
       "23     PF06046                  NaN   \n",
       "24     PF04622                  NaN   \n",
       "25     PF00241                  NaN   \n",
       "26     PF01544                  NaN   \n",
       "27     PF08626                  NaN   \n",
       "28     PF06093                  NaN   \n",
       "29     PF01115                  NaN   \n",
       "30     PF05970                  NaN   \n",
       "31     PF06839                  NaN   \n",
       "32     PF17098                  NaN   \n",
       "33     PF13245                  NaN   \n",
       "34     PF00735                  NaN   \n",
       "35     PF02996                  NaN   \n",
       "36     PF08317                  NaN   \n",
       "37     PF01218                  NaN   \n",
       "38     PF03915                  NaN   \n",
       "39     PF03915                  NaN   \n",
       "40     PF00687                  NaN   \n",
       "41     PF00096                  NaN   \n",
       "42     PF03694                  NaN   \n",
       "43     PF03694                  NaN   \n",
       "44     PF01036                  NaN   \n",
       "45     PF00793                  NaN   \n",
       "46     PF00571                  NaN   \n",
       "47     PF00571                  NaN   \n",
       "48     PF03911                  NaN   \n",
       "49     PF00399                  NaN   \n",
       "50     PF08293                  NaN   \n",
       "51     PF01885                  NaN   \n",
       "52     PF08612                  NaN   \n",
       "53     PF17097                  NaN   \n",
       "54     PF02383                  NaN   \n",
       "55     PF08654                  NaN   \n",
       "56     PF14634                  NaN   \n",
       "57     PF04383                  NaN   \n",
       "\n",
       "                                 domain-description_y  \n",
       "0   CAP_C; Adenylate cyclase-associated CAP, C-ter...  \n",
       "1     Ost5; Oligosaccharyltransferase complex subunit  \n",
       "2   TFIID_30kDa; Transcription initiation factor T...  \n",
       "3                                                COG6  \n",
       "4                        AD; Anticodon-binding domain  \n",
       "5     Glycos_transf_1; Glycosyl transferase, family 1  \n",
       "6   Kin17_mid; DNA/RNA-binding protein Kin17, cons...  \n",
       "7        Cohesin_load; Chromatid cohesion factor MAU2  \n",
       "8          Dynein_light; Dynein light chain, type 1/2  \n",
       "9           SGTA_dimer; SGTA, homodimerisation domain  \n",
       "10                                      CS; CS domain  \n",
       "11  NIR_SIR_ferr; Nitrite/Sulfite reductase ferred...  \n",
       "12    NTP_transferase; Nucleotidyl transferase domain  \n",
       "13               Tubulin; Tubulin/FtsZ, GTPase domain  \n",
       "14                                            MMS19_N  \n",
       "15  Tom37; Mitochondrial outer membrane transport ...  \n",
       "16                          NIF; FCP1 homology domain  \n",
       "17              RasGAP; Ras GTPase-activating protein  \n",
       "18              RasGAP; Ras GTPase-activating protein  \n",
       "19                                 SHQ1; SHQ1 protein  \n",
       "20             AAR2; A1 cistron-splicing factor, AAR2  \n",
       "21    SF1-HH; Splicing factor 1, helix-hairpin domain  \n",
       "22    Rho_GDI; Rho protein GDP-dissociation inhibitor  \n",
       "23           Nop16; Ribosome biogenesis protein Nop16  \n",
       "24   MOR2-PAG1_mid; Cell morphogenesis central region  \n",
       "25                          ATP-cone; ATP-cone domain  \n",
       "26                          DUF1981; Sec7, C-terminal  \n",
       "27                           RINT1_TIP1; RINT-1/Tip20  \n",
       "28  Not3; CCR4-Not complex component, Not N-termin...  \n",
       "29                         CoaE; Dephospho-CoA kinase  \n",
       "30  NifU; NIF system FeS cluster assembly, NifU, C...  \n",
       "31  P21-Arc; Actin-related protein 2/3 complex sub...  \n",
       "32                    zf-CCHC; Zinc finger, CCHC-type  \n",
       "33  TP6A_N; Spo11/DNA topoisomerase VI, subunit A,...  \n",
       "34  CLP1_P; Polyribonucleotide 5&apos;-hydroxyl-ki...  \n",
       "35  Gal_mutarotas_2; Glycoside hydrolase family 31...  \n",
       "36                       Peptidase_M48; Peptidase M48  \n",
       "37               DASH_Ask1; DASH complex subunit Ask1  \n",
       "38                              ICL; Isocitrate lyase  \n",
       "39                              ICL; Isocitrate lyase  \n",
       "40    CDT1_C; DNA replication factor Cdt1, C-terminal  \n",
       "41              ABC2_membrane; ABC-2 type transporter  \n",
       "42   Helicase_C_2; ATP-dependent helicase, C-terminal  \n",
       "43   Helicase_C_2; ATP-dependent helicase, C-terminal  \n",
       "44                                     Choline_kinase  \n",
       "45                                               COQ9  \n",
       "46                    BP28CT; BP28, C-terminal domain  \n",
       "47                    BP28CT; BP28, C-terminal domain  \n",
       "48                                    IBR; IBR domain  \n",
       "49  Alpha_adaptinC2; Clathrin adaptor, alpha/beta/...  \n",
       "50         Peptidase_M16_C; Peptidase M16, C-terminal  \n",
       "51                  Dus; tRNA-dihydrouridine synthase  \n",
       "52      RFC1; DNA replication factor RFC1, C-terminal  \n",
       "53                                          zf-CCCH_2  \n",
       "54              FHA; Forkhead-associated (FHA) domain  \n",
       "55      RNA_pol_Rpb1_3; RNA polymerase Rpb1, domain 3  \n",
       "56                      Ubiquitin_2; Ubiquitin domain  \n",
       "57                        Lysine_decarbox; LOG family  "
      ]
     },
     "execution_count": 30,
     "metadata": {},
     "output_type": "execute_result"
    }
   ],
   "source": [
    "only_nsl_pd=pd.merge(repeated_features_sl,repeated_features_nsl,how='right',on=['domain-name'])\n",
    "data_only_nsl = only_nsl_pd[pd.isnull(only_nsl_pd['domain-description_x'])]\n",
    "data_only_nsl"
   ]
  },
  {
   "cell_type": "code",
   "execution_count": 31,
   "metadata": {
    "execution": {
     "iopub.execute_input": "2020-07-14T19:46:02.050359Z",
     "iopub.status.busy": "2020-07-14T19:46:02.049755Z",
     "iopub.status.idle": "2020-07-14T19:46:02.052618Z",
     "shell.execute_reply": "2020-07-14T19:46:02.053038Z"
    }
   },
   "outputs": [
    {
     "data": {
      "text/html": [
       "<div>\n",
       "<style scoped>\n",
       "    .dataframe tbody tr th:only-of-type {\n",
       "        vertical-align: middle;\n",
       "    }\n",
       "\n",
       "    .dataframe tbody tr th {\n",
       "        vertical-align: top;\n",
       "    }\n",
       "\n",
       "    .dataframe thead th {\n",
       "        text-align: right;\n",
       "    }\n",
       "</style>\n",
       "<table border=\"1\" class=\"dataframe\">\n",
       "  <thead>\n",
       "    <tr style=\"text-align: right;\">\n",
       "      <th></th>\n",
       "      <th>domain-name</th>\n",
       "      <th>domain-description_x</th>\n",
       "      <th>domain-description_y</th>\n",
       "    </tr>\n",
       "  </thead>\n",
       "  <tbody>\n",
       "  </tbody>\n",
       "</table>\n",
       "</div>"
      ],
      "text/plain": [
       "Empty DataFrame\n",
       "Columns: [domain-name, domain-description_x, domain-description_y]\n",
       "Index: []"
      ]
     },
     "execution_count": 31,
     "metadata": {},
     "output_type": "execute_result"
    }
   ],
   "source": [
    "shared_domains_pd=pd.merge(repeated_features_sl,repeated_features_nsl,how='inner',on=['domain-name'])\n",
    "shared_domains_pd\n"
   ]
  },
  {
   "cell_type": "code",
   "execution_count": 32,
   "metadata": {
    "execution": {
     "iopub.execute_input": "2020-07-14T19:46:02.069051Z",
     "iopub.status.busy": "2020-07-14T19:46:02.064473Z",
     "iopub.status.idle": "2020-07-14T19:46:03.386942Z",
     "shell.execute_reply": "2020-07-14T19:46:03.386478Z"
    }
   },
   "outputs": [
    {
     "data": {
      "text/plain": [
       "(0.0, 0.2)"
      ]
     },
     "execution_count": 32,
     "metadata": {},
     "output_type": "execute_result"
    },
    {
     "data": {
      "image/png": "[encoded data removed]",
      "text/plain": [
       "<Figure size 432x288 with 1 Axes>"
      ]
     },
     "metadata": {
      "filenames": {
       "image/png": "/home/runner/work/jupyter-book/jupyter-book/mini_book/docs/_build/jupyter_execute/prot_domains2lethality-FEATURES-POSTPROCESSING_47_1.png"
      },
      "needs_background": "light"
     },
     "output_type": "display_data"
    }
   ],
   "source": [
    "a_sl=x_sl.iloc[:,np.sort(df_sl.iloc[:,1])]\n",
    "a_sl.describe().loc['mean'].hist(bins=8),\n",
    "a_sl.describe().loc['std'].hist(bins=8,alpha=0.4)\n",
    "plt.xlim([0,0.2])"
   ]
  },
  {
   "cell_type": "code",
   "execution_count": 33,
   "metadata": {
    "execution": {
     "iopub.execute_input": "2020-07-14T19:46:03.402950Z",
     "iopub.status.busy": "2020-07-14T19:46:03.398434Z",
     "iopub.status.idle": "2020-07-14T19:46:04.775516Z",
     "shell.execute_reply": "2020-07-14T19:46:04.775046Z"
    }
   },
   "outputs": [
    {
     "data": {
      "text/plain": [
       "(0.0, 0.2)"
      ]
     },
     "execution_count": 33,
     "metadata": {},
     "output_type": "execute_result"
    },
    {
     "data": {
      "image/png": "[encoded data removed]",
      "text/plain": [
       "<Figure size 432x288 with 1 Axes>"
      ]
     },
     "metadata": {
      "filenames": {
       "image/png": "/home/runner/work/jupyter-book/jupyter-book/mini_book/docs/_build/jupyter_execute/prot_domains2lethality-FEATURES-POSTPROCESSING_48_1.png"
      },
      "needs_background": "light"
     },
     "output_type": "display_data"
    }
   ],
   "source": [
    "a_nsl=x_nsl.iloc[:,np.sort(df_nsl.iloc[:,1])]\n",
    "a_nsl.describe().loc['mean'].hist(bins=8),\n",
    "a_nsl.describe().loc['std'].hist(bins=8,alpha=0.4)\n",
    "plt.xlim([0,0.2])"
   ]
  },
  {
   "cell_type": "markdown",
   "metadata": {},
   "source": [
    "### Proof of concept with *BEM1*\n",
    "\n",
    "- Gather the domains of SL and nSL pairs from BEM1\n",
    "- Check if the domains for the SL and nSL pairs are inside the most important domains after PCA."
   ]
  },
  {
   "cell_type": "code",
   "execution_count": 34,
   "metadata": {
    "execution": {
     "iopub.execute_input": "2020-07-14T19:46:04.783438Z",
     "iopub.status.busy": "2020-07-14T19:46:04.782906Z",
     "iopub.status.idle": "2020-07-14T19:46:04.786802Z",
     "shell.execute_reply": "2020-07-14T19:46:04.786349Z"
    }
   },
   "outputs": [],
   "source": [
    "domains_bem1=data_domains[data_domains['name']=='BEM1']['domain-descrip']\n",
    "sl_bem1=data_sl[data_sl['gene-query-name']=='BEM1']['gene-target-name']"
   ]
  },
  {
   "cell_type": "code",
   "execution_count": 35,
   "metadata": {
    "execution": {
     "iopub.execute_input": "2020-07-14T19:46:04.792022Z",
     "iopub.status.busy": "2020-07-14T19:46:04.791498Z",
     "iopub.status.idle": "2020-07-14T19:46:04.796301Z",
     "shell.execute_reply": "2020-07-14T19:46:04.795868Z"
    }
   },
   "outputs": [
    {
     "data": {
      "text/plain": [
       "2846      BEM2\n",
       "2847     CDC24\n",
       "5004      MSB1\n",
       "13777     SMI1\n",
       "13778     BNI1\n",
       "13779     BEM2\n",
       "14385     SKN7\n",
       "Name: gene-target-name, dtype: object"
      ]
     },
     "execution_count": 35,
     "metadata": {},
     "output_type": "execute_result"
    }
   ],
   "source": [
    "sl_bem1"
   ]
  },
  {
   "cell_type": "code",
   "execution_count": 36,
   "metadata": {
    "execution": {
     "iopub.execute_input": "2020-07-14T19:46:04.811291Z",
     "iopub.status.busy": "2020-07-14T19:46:04.810639Z",
     "iopub.status.idle": "2020-07-14T19:46:04.813532Z",
     "shell.execute_reply": "2020-07-14T19:46:04.813921Z"
    }
   },
   "outputs": [
    {
     "data": {
      "text/html": [
       "<div>\n",
       "<style scoped>\n",
       "    .dataframe tbody tr th:only-of-type {\n",
       "        vertical-align: middle;\n",
       "    }\n",
       "\n",
       "    .dataframe tbody tr th {\n",
       "        vertical-align: top;\n",
       "    }\n",
       "\n",
       "    .dataframe thead th {\n",
       "        text-align: right;\n",
       "    }\n",
       "</style>\n",
       "<table border=\"1\" class=\"dataframe\">\n",
       "  <thead>\n",
       "    <tr style=\"text-align: right;\">\n",
       "      <th></th>\n",
       "      <th>gene-query</th>\n",
       "      <th>gene-target</th>\n",
       "      <th>gene-query-name</th>\n",
       "      <th>gene-target-name</th>\n",
       "      <th>gene-query-description</th>\n",
       "      <th>gene-target-description</th>\n",
       "      <th>interaction-type</th>\n",
       "      <th>paper-source</th>\n",
       "    </tr>\n",
       "  </thead>\n",
       "  <tbody>\n",
       "    <tr>\n",
       "      <th>2846</th>\n",
       "      <td>YBR200W</td>\n",
       "      <td>YER155C</td>\n",
       "      <td>BEM1</td>\n",
       "      <td>BEM2</td>\n",
       "      <td>SRO1|phosphatidylinositol-3-phosphate-binding ...</td>\n",
       "      <td>IPL2|SUP9|TSL1|L000000168</td>\n",
       "      <td>Synthetic Lethality</td>\n",
       "      <td>Peterson J (1994)</td>\n",
       "    </tr>\n",
       "    <tr>\n",
       "      <th>2847</th>\n",
       "      <td>YBR200W</td>\n",
       "      <td>YAL041W</td>\n",
       "      <td>BEM1</td>\n",
       "      <td>CDC24</td>\n",
       "      <td>SRO1|phosphatidylinositol-3-phosphate-binding ...</td>\n",
       "      <td>CLS4|Rho family guanine nucleotide exchange fa...</td>\n",
       "      <td>Synthetic Lethality</td>\n",
       "      <td>Peterson J (1994)</td>\n",
       "    </tr>\n",
       "    <tr>\n",
       "      <th>5004</th>\n",
       "      <td>YBR200W</td>\n",
       "      <td>YOR188W</td>\n",
       "      <td>BEM1</td>\n",
       "      <td>MSB1</td>\n",
       "      <td>SRO1|phosphatidylinositol-3-phosphate-binding ...</td>\n",
       "      <td>L000001184</td>\n",
       "      <td>Synthetic Lethality</td>\n",
       "      <td>Bender A (1991)</td>\n",
       "    </tr>\n",
       "    <tr>\n",
       "      <th>13777</th>\n",
       "      <td>YBR200W</td>\n",
       "      <td>YGR229C</td>\n",
       "      <td>BEM1</td>\n",
       "      <td>SMI1</td>\n",
       "      <td>SRO1|phosphatidylinositol-3-phosphate-binding ...</td>\n",
       "      <td>KNR4|L000000909</td>\n",
       "      <td>Synthetic Lethality</td>\n",
       "      <td>Gorelik M (2011)</td>\n",
       "    </tr>\n",
       "    <tr>\n",
       "      <th>13778</th>\n",
       "      <td>YBR200W</td>\n",
       "      <td>YNL271C</td>\n",
       "      <td>BEM1</td>\n",
       "      <td>BNI1</td>\n",
       "      <td>SRO1|phosphatidylinositol-3-phosphate-binding ...</td>\n",
       "      <td>PPF3|SHE5|formin BNI1|L000000190</td>\n",
       "      <td>Synthetic Lethality</td>\n",
       "      <td>Gorelik M (2011)</td>\n",
       "    </tr>\n",
       "    <tr>\n",
       "      <th>13779</th>\n",
       "      <td>YBR200W</td>\n",
       "      <td>YER155C</td>\n",
       "      <td>BEM1</td>\n",
       "      <td>BEM2</td>\n",
       "      <td>SRO1|phosphatidylinositol-3-phosphate-binding ...</td>\n",
       "      <td>IPL2|SUP9|TSL1|L000000168</td>\n",
       "      <td>Synthetic Lethality</td>\n",
       "      <td>Gorelik M (2011)</td>\n",
       "    </tr>\n",
       "    <tr>\n",
       "      <th>14385</th>\n",
       "      <td>YBR200W</td>\n",
       "      <td>YHR206W</td>\n",
       "      <td>BEM1</td>\n",
       "      <td>SKN7</td>\n",
       "      <td>SRO1|phosphatidylinositol-3-phosphate-binding ...</td>\n",
       "      <td>BRY1|POS9|kinase-regulated stress-responsive t...</td>\n",
       "      <td>Dosage Lethality</td>\n",
       "      <td>Bouquin N (1999)</td>\n",
       "    </tr>\n",
       "  </tbody>\n",
       "</table>\n",
       "</div>"
      ],
      "text/plain": [
       "      gene-query gene-target gene-query-name gene-target-name  \\\n",
       "2846     YBR200W     YER155C            BEM1             BEM2   \n",
       "2847     YBR200W     YAL041W            BEM1            CDC24   \n",
       "5004     YBR200W     YOR188W            BEM1             MSB1   \n",
       "13777    YBR200W     YGR229C            BEM1             SMI1   \n",
       "13778    YBR200W     YNL271C            BEM1             BNI1   \n",
       "13779    YBR200W     YER155C            BEM1             BEM2   \n",
       "14385    YBR200W     YHR206W            BEM1             SKN7   \n",
       "\n",
       "                                  gene-query-description  \\\n",
       "2846   SRO1|phosphatidylinositol-3-phosphate-binding ...   \n",
       "2847   SRO1|phosphatidylinositol-3-phosphate-binding ...   \n",
       "5004   SRO1|phosphatidylinositol-3-phosphate-binding ...   \n",
       "13777  SRO1|phosphatidylinositol-3-phosphate-binding ...   \n",
       "13778  SRO1|phosphatidylinositol-3-phosphate-binding ...   \n",
       "13779  SRO1|phosphatidylinositol-3-phosphate-binding ...   \n",
       "14385  SRO1|phosphatidylinositol-3-phosphate-binding ...   \n",
       "\n",
       "                                 gene-target-description     interaction-type  \\\n",
       "2846                           IPL2|SUP9|TSL1|L000000168  Synthetic Lethality   \n",
       "2847   CLS4|Rho family guanine nucleotide exchange fa...  Synthetic Lethality   \n",
       "5004                                          L000001184  Synthetic Lethality   \n",
       "13777                                    KNR4|L000000909  Synthetic Lethality   \n",
       "13778                   PPF3|SHE5|formin BNI1|L000000190  Synthetic Lethality   \n",
       "13779                          IPL2|SUP9|TSL1|L000000168  Synthetic Lethality   \n",
       "14385  BRY1|POS9|kinase-regulated stress-responsive t...     Dosage Lethality   \n",
       "\n",
       "            paper-source  \n",
       "2846   Peterson J (1994)  \n",
       "2847   Peterson J (1994)  \n",
       "5004     Bender A (1991)  \n",
       "13777   Gorelik M (2011)  \n",
       "13778   Gorelik M (2011)  \n",
       "13779   Gorelik M (2011)  \n",
       "14385   Bouquin N (1999)  "
      ]
     },
     "execution_count": 36,
     "metadata": {},
     "output_type": "execute_result"
    }
   ],
   "source": [
    "data_sl[data_sl['gene-query-name']=='BEM1']"
   ]
  },
  {
   "cell_type": "code",
   "execution_count": null,
   "metadata": {},
   "outputs": [],
   "source": []
  }
 ],
 "metadata": {
  "jupytext": {
   "text_representation": {
    "extension": ".md",
    "format_name": "myst"
   }
  },
  "kernelspec": {
   "display_name": "Python 3",
   "language": "python",
   "name": "python3"
  },
  "language_info": {
   "codemirror_mode": {
    "name": "ipython",
    "version": 3
   },
   "file_extension": ".py",
   "mimetype": "text/x-python",
   "name": "python",
   "nbconvert_exporter": "python",
   "pygments_lexer": "ipython3",
   "version": "3.7.6"
  },
  "source_map": [
   10,
   18,
   29,
   36,
   57,
   66,
   98,
   101,
   105,
   128,
   131,
   135,
   139,
   145,
   178,
   184,
   188,
   206,
   210,
   218,
   222,
   225,
   229,
   234,
   238,
   244,
   248,
   253,
   257,
   267,
   269,
   273,
   306,
   311,
   313,
   317,
   328,
   330,
   334,
   344,
   348,
   358,
   360,
   364,
   381,
   388,
   394,
   400,
   407,
   412,
   419,
   424,
   428,
   432
  ]
 },
 "nbformat": 4,
 "nbformat_minor": 4
}