{
 "cells": [
  {
   "cell_type": "markdown",
   "metadata": {},
   "source": [
    "# Feature postprocessing from paper.\n",
    "- Title:  \"Predicting yeast synthetic lethal genetic interactions using protein domains\"\n",
    "- Authors: Bo Li, Feng Luo,School of Computing,Clemson University,Clemson, SC, USA\n",
    "- e-mail: bol, luofeng@clemson.edu\n",
    "- year:2009"
   ]
  },
  {
   "cell_type": "code",
   "execution_count": 1,
   "metadata": {
    "execution": {
     "iopub.execute_input": "2020-07-14T22:13:16.548542Z",
     "iopub.status.busy": "2020-07-14T22:13:16.542054Z",
     "iopub.status.idle": "2020-07-14T22:13:17.374392Z",
     "shell.execute_reply": "2020-07-14T22:13:17.373506Z"
    }
   },
   "outputs": [],
   "source": [
    "import pandas as pd\n",
    "import numpy as np\n",
    "import matplotlib.pyplot as plt\n",
    "from collections import defaultdict \n",
    "import seaborn as sns\n",
    "import matplotlib.cm as cm\n",
    "import scipy as scipy\n",
    "import random"
   ]
  },
  {
   "cell_type": "markdown",
   "metadata": {
    "jupyter": {
     "source_hidden": true
    }
   },
   "source": [
    "### Importing datasets \n",
    "\n",
    "#### Link to the github repo where the datasets to be downloaded:\n",
    "[DOWNLOAD THE DATASETS HERE](https://github.com/leilaicruz/machine-learning-for-yeast/tree/dev_Leila/datasets-for-learning)"
   ]
  },
  {
   "cell_type": "code",
   "execution_count": 2,
   "metadata": {
    "execution": {
     "iopub.execute_input": "2020-07-14T22:13:17.382336Z",
     "iopub.status.busy": "2020-07-14T22:13:17.381750Z",
     "iopub.status.idle": "2020-07-14T22:13:25.461943Z",
     "shell.execute_reply": "2020-07-14T22:13:25.461038Z"
    }
   },
   "outputs": [],
   "source": [
    "import os\n",
    "script_dir = os.path.dirname('__file__') #<-- absolute dir the script is in\n",
    "rel_path_SL = \"datasets/data-synthetic-lethals.xlsx\"\n",
    "rel_path_nSL=\"datasets/data-positive-genetic.xlsx\"\n",
    "rel_path_domains=\"datasets/proteins-domains-from-Pfam.xlsx\"\n",
    "\n",
    "abs_file_path_SL = os.path.join(script_dir, rel_path_SL)\n",
    "abs_file_path_nSL = os.path.join(script_dir, rel_path_nSL)\n",
    "abs_file_path_domains = os.path.join(script_dir, rel_path_domains)\n",
    "\n",
    "# os.chdir('mini_book/docs/') #<-- for binder os.chdir('../')\n",
    "# os.chdir('../')\n",
    "my_path_sl= abs_file_path_SL\n",
    "my_path_non_sl=abs_file_path_nSL\n",
    "my_path_domains=abs_file_path_domains\n",
    "\n",
    "data_sl=pd.read_excel(my_path_sl,header=0)\n",
    "data_domains=pd.read_excel(my_path_domains,header=0,index_col='Unnamed: 0')\n",
    "data_domains=data_domains.dropna()\n",
    "data_nonsl=pd.read_excel(my_path_non_sl,header=0)"
   ]
  },
  {
   "cell_type": "markdown",
   "metadata": {},
   "source": [
    "## Building the feature matrix\n",
    "One matrix for true SL where each row is one pair of SL. Every raw will be a vector of 0,1 or 2 depending on the comparison with the domain list. For row i the jth element = 0 if the jth element of the domain list is not in neither protein A and B, 1, if it is in one of them and 2 if it is in both of them .\n",
    "\n",
    "### Building the list of proteins domains id per protein pair separately :\n",
    "- List of protein A: Search for the Sl/nSL database the query gene name and look in the protein domain database which protein domains id has each of those queries.\n",
    "- List of protein B: Search for the Sl/nSL database the target gene name of the previous query and look in the protein domain database which protein domains id has each of those target genes."
   ]
  },
  {
   "cell_type": "code",
   "execution_count": 3,
   "metadata": {
    "execution": {
     "iopub.execute_input": "2020-07-14T22:13:25.481939Z",
     "iopub.status.busy": "2020-07-14T22:13:25.480784Z",
     "iopub.status.idle": "2020-07-14T22:13:27.803485Z",
     "shell.execute_reply": "2020-07-14T22:13:27.803940Z"
    }
   },
   "outputs": [],
   "source": [
    "# Selecting the meaningful columns in the respective dataset\n",
    "domain_id_list=data_domains['domain-name']\n",
    "query_gene=data_sl['gene-query-name']\n",
    "target_gene=data_sl['gene-target-name']\n",
    "query_gene_nonlethal=data_nonsl['gene-query-name']\n",
    "target_gene_nonlethal=data_nonsl['gene-target-name']\n",
    "\n",
    "\n",
    "\n",
    "# Initialising the arrays\n",
    "protein_a_list=[]\n",
    "protein_b_list=[]\n",
    "protein_a_list_non=[]\n",
    "protein_b_list_non=[]\n",
    "\n",
    "population = np.arange(0,len(data_sl))\n",
    "\n",
    "# For loop for 10000 pairs sampled randomly from the SL/nSl pair list , and creating a big array of proteind domains id per protein pair\n",
    "\n",
    "for m in random.sample(list(population), 500):\n",
    "    protein_a=data_domains[data_domains['name']==query_gene[m]]\n",
    "    protein_b=data_domains[data_domains['name']==target_gene[m]]\n",
    "    protein_a_list.append(protein_a['domain-name'].tolist())\n",
    "    protein_b_list.append(protein_b['domain-name'].tolist())\n",
    "\n",
    "    protein_a_non=data_domains[data_domains['name']==query_gene_nonlethal[m]]\n",
    "    protein_b_non=data_domains[data_domains['name']==target_gene_nonlethal[m]]\n",
    "    protein_a_list_non.append(protein_a_non['domain-name'].tolist())\n",
    "    protein_b_list_non.append(protein_b_non['domain-name'].tolist())"
   ]
  },
  {
   "cell_type": "code",
   "execution_count": 4,
   "metadata": {
    "execution": {
     "iopub.execute_input": "2020-07-14T22:13:27.809299Z",
     "iopub.status.busy": "2020-07-14T22:13:27.807956Z",
     "iopub.status.idle": "2020-07-14T22:13:27.813510Z",
     "shell.execute_reply": "2020-07-14T22:13:27.813016Z"
    }
   },
   "outputs": [
    {
     "name": "stdout",
     "output_type": "stream",
     "text": [
      "We are going to analyze 500 protein pairs, out of 17871 SL protein pairs\n",
      "We are going to analyze 500 protein pairs, out of 43340 positive protein pairs\n"
     ]
    }
   ],
   "source": [
    "print('We are going to analyze',len((protein_a_list)) ,'protein pairs, out of',len(data_sl),'SL protein pairs')\n",
    "print('We are going to analyze',len((protein_a_list_non)) ,'protein pairs, out of',len(data_nonsl),'positive protein pairs')"
   ]
  },
  {
   "cell_type": "markdown",
   "metadata": {},
   "source": [
    "### Postprocessing #1:  Remove protein pairs from study if either protein in the pair does not contain any domain"
   ]
  },
  {
   "cell_type": "code",
   "execution_count": 5,
   "metadata": {
    "execution": {
     "iopub.execute_input": "2020-07-14T22:13:27.824532Z",
     "iopub.status.busy": "2020-07-14T22:13:27.823962Z",
     "iopub.status.idle": "2020-07-14T22:13:27.827680Z",
     "shell.execute_reply": "2020-07-14T22:13:27.827185Z"
    }
   },
   "outputs": [],
   "source": [
    "def remove_empty_domains(protein_list_search,protein_list_pair):\n",
    "    index=[]\n",
    "    for i in np.arange(0,len(protein_list_search)):\n",
    "        if protein_list_search[i]==[] or protein_list_pair[i]==[]:\n",
    "            index.append(i) ## index of empty values for the protein_a_list meaning they dont have any annotated domain\n",
    "\n",
    "    y=[x for x in np.arange(0,len(protein_list_search)) if x not in index] # a list with non empty values from protein_a list\n",
    "\n",
    "    protein_list_search_new=[]\n",
    "    protein_list_pair_new=[]\n",
    "    for i in y:\n",
    "        protein_list_search_new.append(protein_list_search[i])\n",
    "        protein_list_pair_new.append(protein_list_pair[i])\n",
    "    return protein_list_search_new,protein_list_pair_new\n",
    "\n",
    "## evaluating the function\n",
    "\n",
    "protein_a_list_new,protein_b_list_new=remove_empty_domains(protein_a_list,protein_b_list)\n",
    "\n",
    "protein_a_list_non_new,protein_b_list_non_new=remove_empty_domains(protein_a_list_non,protein_b_list_non)"
   ]
  },
  {
   "cell_type": "code",
   "execution_count": 6,
   "metadata": {
    "execution": {
     "iopub.execute_input": "2020-07-14T22:13:27.835105Z",
     "iopub.status.busy": "2020-07-14T22:13:27.834545Z",
     "iopub.status.idle": "2020-07-14T22:13:27.837456Z",
     "shell.execute_reply": "2020-07-14T22:13:27.837956Z"
    }
   },
   "outputs": [
    {
     "name": "stdout",
     "output_type": "stream",
     "text": [
      "The empty domain in the SL were: 81 out of 500 domains\n",
      "The empty domain in the nSL were: 87 out of 500 domains\n"
     ]
    }
   ],
   "source": [
    "print('The empty domain in the SL were:', len(protein_a_list)-len(protein_a_list_new), 'out of', len(protein_a_list),'domains')\n",
    "print('The empty domain in the nSL were:', len(protein_a_list_non)-len(protein_a_list_non_new), 'out of', len(protein_a_list_non),'domains')"
   ]
  },
  {
   "cell_type": "markdown",
   "metadata": {},
   "source": [
    "### Feature engineering: Select from each ordered indexes of domain id list which of them appear once, in both or in any of the domains of each protein pair"
   ]
  },
  {
   "cell_type": "markdown",
   "metadata": {},
   "source": [
    "#### Define function `get_indexes`"
   ]
  },
  {
   "cell_type": "code",
   "execution_count": 7,
   "metadata": {
    "execution": {
     "iopub.execute_input": "2020-07-14T22:13:27.845802Z",
     "iopub.status.busy": "2020-07-14T22:13:27.845232Z",
     "iopub.status.idle": "2020-07-14T22:13:27.848104Z",
     "shell.execute_reply": "2020-07-14T22:13:27.848569Z"
    }
   },
   "outputs": [
    {
     "data": {
      "text/plain": [
       "[1, 2]"
      ]
     },
     "execution_count": 7,
     "metadata": {},
     "output_type": "execute_result"
    }
   ],
   "source": [
    "get_indexes = lambda x, xs: [i for (y, i) in zip(xs, range(len(xs))) if x == y] # a function that give the index of whether a value appear in array or not\n",
    "a=[1,2,2,4,5,6,7,8,9,10]\n",
    "get_indexes(2,a)"
   ]
  },
  {
   "cell_type": "code",
   "execution_count": 8,
   "metadata": {
    "execution": {
     "iopub.execute_input": "2020-07-14T22:13:27.859199Z",
     "iopub.status.busy": "2020-07-14T22:13:27.857976Z",
     "iopub.status.idle": "2020-07-14T22:13:27.859894Z",
     "shell.execute_reply": "2020-07-14T22:13:27.860392Z"
    }
   },
   "outputs": [],
   "source": [
    "def feature_building(protein_a_list_new,protein_b_list_new):\n",
    "    x = np.unique(domain_id_list)\n",
    "    ## To avoid taking repeated domains from one protein of the pairs , lets reduced the domains of each protein from the pairs to their unique members\n",
    "    protein_a_list_unique=[]\n",
    "    protein_b_list_unique=[]\n",
    "    for i in np.arange(0,len(protein_a_list_new)):\n",
    "        protein_a_list_unique.append(np.unique(protein_a_list_new[i]))\n",
    "        protein_b_list_unique.append(np.unique(protein_b_list_new[i]))\n",
    "        \n",
    "    protein_feat_true=np.zeros(shape=(len(x),len(protein_a_list_unique)))\n",
    "    pair_a_b_array=[]\n",
    "    for i in np.arange(0,len(protein_a_list_unique)):\n",
    "        index_a=[]\n",
    "        \n",
    "        pair=[protein_a_list_unique[i],protein_b_list_unique[i]]\n",
    "        pair_a_b=np.concatenate(pair).ravel()\n",
    "        pair_a_b_array.append(pair_a_b)\n",
    "\n",
    "    j=0\n",
    "    for i in pair_a_b_array:  \n",
    "        array,index,counts=np.unique(i,return_index=True,return_counts=True)\n",
    "        \n",
    "        for k,m in zip(counts,array):\n",
    "            if k ==2:\n",
    "                protein_feat_true[get_indexes(m,x),j]=2\n",
    "                \n",
    "            if k==1:\n",
    "                protein_feat_true[get_indexes(m,x),j]=1\n",
    "        j=j+1\n",
    "    return protein_feat_true"
   ]
  },
  {
   "cell_type": "code",
   "execution_count": 9,
   "metadata": {
    "execution": {
     "iopub.execute_input": "2020-07-14T22:13:27.870786Z",
     "iopub.status.busy": "2020-07-14T22:13:27.870208Z",
     "iopub.status.idle": "2020-07-14T22:13:28.633366Z",
     "shell.execute_reply": "2020-07-14T22:13:28.632458Z"
    }
   },
   "outputs": [],
   "source": [
    "protein_feat_true=feature_building(protein_b_list_new=protein_b_list_new,protein_a_list_new=protein_a_list_new)\n",
    "protein_feat_true_pd=pd.DataFrame(protein_feat_true.T)\n",
    "\n",
    "protein_feat_non_true=feature_building(protein_b_list_new=protein_b_list_non_new,protein_a_list_new=protein_a_list_non_new)\n",
    "protein_feat_non_true_pd=pd.DataFrame(protein_feat_non_true.T)"
   ]
  },
  {
   "cell_type": "markdown",
   "metadata": {},
   "source": [
    "### How many ones and twos are in each dataset"
   ]
  },
  {
   "cell_type": "code",
   "execution_count": 10,
   "metadata": {
    "execution": {
     "iopub.execute_input": "2020-07-14T22:13:28.641328Z",
     "iopub.status.busy": "2020-07-14T22:13:28.640702Z",
     "iopub.status.idle": "2020-07-14T22:13:28.741452Z",
     "shell.execute_reply": "2020-07-14T22:13:28.740906Z"
    }
   },
   "outputs": [
    {
     "name": "stdout",
     "output_type": "stream",
     "text": [
      "fraction of twos in the SL array is 3.234777806268368e-05\n",
      "fraction of ones in the SL array is 0.0009783230438470186\n",
      "fraction of twos in the PI array is 4.0021611670301966e-06\n",
      "fraction of ones in the PI array is 0.000898885398114982\n"
     ]
    }
   ],
   "source": [
    "index_2_true=protein_feat_true_pd.where(protein_feat_true_pd==2)\n",
    "index_2_true_count=index_2_true.count(axis=1).sum()\n",
    "\n",
    "index_1_true=protein_feat_true_pd.where(protein_feat_true_pd==1)\n",
    "index_1_true_count=index_1_true.count(axis=1).sum()\n",
    "\n",
    "index_2_nontrue=protein_feat_non_true_pd.where(protein_feat_non_true_pd==2)\n",
    "index_2_nontrue_count=index_2_nontrue.count(axis=1).sum()\n",
    "\n",
    "index_1_nontrue=protein_feat_non_true_pd.where(protein_feat_non_true_pd==1)\n",
    "index_1_nontrue_count=index_1_nontrue.count(axis=1).sum()\n",
    "\n",
    "\n",
    "print('fraction of twos in the SL array is',index_2_true_count/(len(protein_feat_true_pd.index)*len(protein_feat_true_pd.columns)))\n",
    "print('fraction of ones in the SL array is',index_1_true_count/(len(protein_feat_true_pd.index)*len(protein_feat_true_pd.columns)))\n",
    "print('fraction of twos in the PI array is',index_2_nontrue_count/(len(protein_feat_non_true_pd.index)*len(protein_feat_non_true_pd.columns)))\n",
    "print('fraction of ones in the PI array is',index_1_nontrue_count/(len(protein_feat_non_true_pd.index)*len(protein_feat_non_true_pd.columns)))"
   ]
  },
  {
   "cell_type": "markdown",
   "metadata": {},
   "source": [
    "#### Bar plot to visualize these numbers"
   ]
  },
  {
   "cell_type": "code",
   "execution_count": 11,
   "metadata": {
    "execution": {
     "iopub.execute_input": "2020-07-14T22:13:28.748274Z",
     "iopub.status.busy": "2020-07-14T22:13:28.747688Z",
     "iopub.status.idle": "2020-07-14T22:13:29.186280Z",
     "shell.execute_reply": "2020-07-14T22:13:29.185470Z"
    }
   },
   "outputs": [
    {
     "data": {
      "text/plain": [
       "([0, 1, 2, 3], <a list of 4 Text major ticklabel objects>)"
      ]
     },
     "execution_count": 11,
     "metadata": {},
     "output_type": "execute_result"
    },
    {
     "data": {
      "image/png": "[encoded data removed]",
      "text/plain": [
       "<Figure size 432x288 with 1 Axes>"
      ]
     },
     "metadata": {
      "filenames": {
       "image/png": "/home/runner/work/jupyter-book/jupyter-book/mini_book/docs/_build/jupyter_execute/prot_domains2lethality-FEATURES-POSTPROCESSING_18_1.png"
      },
      "needs_background": "light"
     },
     "output_type": "display_data"
    }
   ],
   "source": [
    "plt.bar(['fraction of 2 in the nSL','fraction of 1 in the nSL'],[index_2_nontrue_count/(len(protein_feat_non_true_pd.index)*len(protein_feat_non_true_pd.columns)),index_1_nontrue_count/(len(protein_feat_non_true_pd.index)*len(protein_feat_non_true_pd.columns))],alpha=0.6,color=['blue','lightblue']), \n",
    "\n",
    "plt.bar(['fraction of 2 in SL ','fraction of 1 in SL'],[index_2_true_count/(len(protein_feat_true_pd.index)*len(protein_feat_true_pd.columns)),index_1_true_count/(len(protein_feat_true_pd.index)*len(protein_feat_true_pd.columns))],alpha=0.6,color=['coral','lightcoral'])\n",
    "\n",
    "plt.ylabel('Fraction from the population')\n",
    "plt.yscale('log')\n",
    "plt.xticks(rotation=40)"
   ]
  },
  {
   "cell_type": "markdown",
   "metadata": {},
   "source": [
    "#### Adding the labels(response variables) to each dataset"
   ]
  },
  {
   "cell_type": "code",
   "execution_count": 12,
   "metadata": {
    "execution": {
     "iopub.execute_input": "2020-07-14T22:13:29.193631Z",
     "iopub.status.busy": "2020-07-14T22:13:29.191865Z",
     "iopub.status.idle": "2020-07-14T22:13:29.197444Z",
     "shell.execute_reply": "2020-07-14T22:13:29.196842Z"
    }
   },
   "outputs": [],
   "source": [
    "protein_feat_true_pd['lethality']=np.ones(shape=(len(protein_a_list_new)))\n",
    "protein_feat_non_true_pd['lethality']=np.zeros(shape=(len(protein_a_list_non_new)))"
   ]
  },
  {
   "cell_type": "markdown",
   "metadata": {},
   "source": [
    "#### Joining both datasets"
   ]
  },
  {
   "cell_type": "code",
   "execution_count": 13,
   "metadata": {
    "execution": {
     "iopub.execute_input": "2020-07-14T22:13:29.202640Z",
     "iopub.status.busy": "2020-07-14T22:13:29.201814Z",
     "iopub.status.idle": "2020-07-14T22:13:29.242597Z",
     "shell.execute_reply": "2020-07-14T22:13:29.241751Z"
    }
   },
   "outputs": [
    {
     "name": "stdout",
     "output_type": "stream",
     "text": [
      "The number of features are: 3026\n",
      "The number of samples are: 832\n"
     ]
    }
   ],
   "source": [
    "feature_post=pd.concat([protein_feat_true_pd,protein_feat_non_true_pd],axis=0)\n",
    "feature_post=feature_post.set_index(np.arange(0,len(protein_a_list_new)+len(protein_a_list_non_new)))\n",
    "print('The number of features are:',feature_post.shape[1])\n",
    "print('The number of samples are:',feature_post.shape[0])"
   ]
  },
  {
   "cell_type": "markdown",
   "metadata": {},
   "source": [
    "### Postprocessing and exploration of the feature matrix of both datasets"
   ]
  },
  {
   "cell_type": "code",
   "execution_count": 14,
   "metadata": {
    "execution": {
     "iopub.execute_input": "2020-07-14T22:13:29.259669Z",
     "iopub.status.busy": "2020-07-14T22:13:29.249028Z",
     "iopub.status.idle": "2020-07-14T22:13:34.041259Z",
     "shell.execute_reply": "2020-07-14T22:13:34.040716Z"
    }
   },
   "outputs": [],
   "source": [
    "mean=feature_post.T.describe().loc['mean']\n",
    "std=feature_post.T.describe().loc['std']\n",
    "lethality=feature_post['lethality']\n",
    "\n",
    "corr_keys=pd.concat([mean,std,lethality],axis=1)"
   ]
  },
  {
   "cell_type": "markdown",
   "metadata": {},
   "source": [
    "### Viz of the stats"
   ]
  },
  {
   "cell_type": "code",
   "execution_count": 15,
   "metadata": {
    "execution": {
     "iopub.execute_input": "2020-07-14T22:13:34.070333Z",
     "iopub.status.busy": "2020-07-14T22:13:34.057541Z",
     "iopub.status.idle": "2020-07-14T22:13:35.952646Z",
     "shell.execute_reply": "2020-07-14T22:13:35.952070Z"
    }
   },
   "outputs": [
    {
     "data": {
      "text/plain": [
       "Text(0.5, 1.08, 'Pairplot to see data dependencies with Lethality')"
      ]
     },
     "execution_count": 15,
     "metadata": {},
     "output_type": "execute_result"
    },
    {
     "data": {
      "image/png": "[encoded data removed]",
      "text/plain": [
       "<Figure size 412x360 with 6 Axes>"
      ]
     },
     "metadata": {
      "filenames": {
       "image/png": "/home/runner/work/jupyter-book/jupyter-book/mini_book/docs/_build/jupyter_execute/prot_domains2lethality-FEATURES-POSTPROCESSING_26_1.png"
      },
      "needs_background": "light"
     },
     "output_type": "display_data"
    }
   ],
   "source": [
    "pair=sns.pairplot(corr_keys,hue='lethality',diag_kind='kde',kind='reg',palette='colorblind')\n",
    "pair.fig.suptitle('Pairplot to see data dependencies with Lethality',y=1.08)"
   ]
  },
  {
   "cell_type": "code",
   "execution_count": 16,
   "metadata": {
    "execution": {
     "iopub.execute_input": "2020-07-14T22:13:35.970597Z",
     "iopub.status.busy": "2020-07-14T22:13:35.970005Z",
     "iopub.status.idle": "2020-07-14T22:13:35.973932Z",
     "shell.execute_reply": "2020-07-14T22:13:35.973136Z"
    }
   },
   "outputs": [],
   "source": [
    "X, y = feature_post.drop(columns=[\"lethality\"]), feature_post[\"lethality\"]"
   ]
  },
  {
   "cell_type": "code",
   "execution_count": 17,
   "metadata": {
    "execution": {
     "iopub.execute_input": "2020-07-14T22:13:35.978833Z",
     "iopub.status.busy": "2020-07-14T22:13:35.978248Z",
     "iopub.status.idle": "2020-07-14T22:13:36.140919Z",
     "shell.execute_reply": "2020-07-14T22:13:36.140050Z"
    }
   },
   "outputs": [],
   "source": [
    "from sklearn.preprocessing import StandardScaler\n",
    "scaler = StandardScaler()\n",
    "x_sl=protein_feat_true_pd.drop(columns=['lethality'])\n",
    "x_nsl=protein_feat_non_true_pd.drop(columns=['lethality'])\n",
    "\n",
    "X_sl_scaled = scaler.fit_transform(x_sl)\n",
    "X_nsl_scaled = scaler.fit_transform(x_nsl)"
   ]
  },
  {
   "cell_type": "code",
   "execution_count": 18,
   "metadata": {
    "execution": {
     "iopub.execute_input": "2020-07-14T22:13:36.145499Z",
     "iopub.status.busy": "2020-07-14T22:13:36.144893Z",
     "iopub.status.idle": "2020-07-14T22:13:36.149815Z",
     "shell.execute_reply": "2020-07-14T22:13:36.150325Z"
    }
   },
   "outputs": [
    {
     "data": {
      "text/plain": [
       "(419, 3025)"
      ]
     },
     "execution_count": 18,
     "metadata": {},
     "output_type": "execute_result"
    }
   ],
   "source": [
    "np.shape(X_sl_scaled)"
   ]
  },
  {
   "cell_type": "markdown",
   "metadata": {},
   "source": [
    "## How redundant are each of the protein domains?"
   ]
  },
  {
   "cell_type": "code",
   "execution_count": 19,
   "metadata": {
    "execution": {
     "iopub.execute_input": "2020-07-14T22:13:36.158971Z",
     "iopub.status.busy": "2020-07-14T22:13:36.157685Z",
     "iopub.status.idle": "2020-07-14T22:13:36.159689Z",
     "shell.execute_reply": "2020-07-14T22:13:36.160169Z"
    }
   },
   "outputs": [],
   "source": [
    "def PCA_component_contribution(scaled_matrix,original_data):\n",
    "    from sklearn.decomposition import PCA\n",
    "\n",
    "    model = PCA(0.95).fit(scaled_matrix)\n",
    "    ## apply dimensionality reduction to X_train\n",
    "    output_pca = model.transform(scaled_matrix)\n",
    "    \n",
    "    total=sum(model.explained_variance_)\n",
    "\n",
    "\n",
    "   \n",
    "    # number of components , that it will be the number of main axes times the number of original components \n",
    "    n_pcs= model.components_.shape[0] # the amount of non redundant protein domains \n",
    "\n",
    "    # get the index of the most important feature on EACH component\n",
    "    # LIST COMPREHENSION HERE\n",
    "    most_important = [np.abs(model.components_[i]).argmax() for i in range(n_pcs)]\n",
    "\n",
    "    initial_feature_names = original_data.columns\n",
    "    # get the names\n",
    "    most_important_names = [initial_feature_names[most_important[i]] for i in range(n_pcs)]\n",
    "    \n",
    "\n",
    "    # LIST COMPREHENSION HERE AGAIN\n",
    "    dic = {'PC{}'.format(i): most_important_names[i] for i in range(n_pcs)}\n",
    "\n",
    "    # build the dataframe\n",
    "    df = pd.DataFrame(dic.items(),columns=['pca-component','domain-number'])\n",
    "\n",
    "    return df,model.components_"
   ]
  },
  {
   "cell_type": "code",
   "execution_count": 20,
   "metadata": {
    "execution": {
     "iopub.execute_input": "2020-07-14T22:13:36.164343Z",
     "iopub.status.busy": "2020-07-14T22:13:36.163767Z",
     "iopub.status.idle": "2020-07-14T22:13:36.852968Z",
     "shell.execute_reply": "2020-07-14T22:13:36.853494Z"
    }
   },
   "outputs": [],
   "source": [
    "df_sl,components_pca_nsl=PCA_component_contribution(X_nsl_scaled,x_nsl)\n",
    "df_nsl,components_pca_sl=PCA_component_contribution(X_sl_scaled,x_sl)"
   ]
  },
  {
   "cell_type": "code",
   "execution_count": 21,
   "metadata": {
    "execution": {
     "iopub.execute_input": "2020-07-14T22:13:36.859547Z",
     "iopub.status.busy": "2020-07-14T22:13:36.858974Z",
     "iopub.status.idle": "2020-07-14T22:13:36.865647Z",
     "shell.execute_reply": "2020-07-14T22:13:36.865134Z"
    }
   },
   "outputs": [
    {
     "data": {
      "text/html": [
       "<div>\n",
       "<style scoped>\n",
       "    .dataframe tbody tr th:only-of-type {\n",
       "        vertical-align: middle;\n",
       "    }\n",
       "\n",
       "    .dataframe tbody tr th {\n",
       "        vertical-align: top;\n",
       "    }\n",
       "\n",
       "    .dataframe thead th {\n",
       "        text-align: right;\n",
       "    }\n",
       "</style>\n",
       "<table border=\"1\" class=\"dataframe\">\n",
       "  <thead>\n",
       "    <tr style=\"text-align: right;\">\n",
       "      <th></th>\n",
       "      <th>pca-component</th>\n",
       "      <th>domain-number</th>\n",
       "    </tr>\n",
       "  </thead>\n",
       "  <tbody>\n",
       "    <tr>\n",
       "      <th>0</th>\n",
       "      <td>PC0</td>\n",
       "      <td>275</td>\n",
       "    </tr>\n",
       "    <tr>\n",
       "      <th>1</th>\n",
       "      <td>PC1</td>\n",
       "      <td>2771</td>\n",
       "    </tr>\n",
       "    <tr>\n",
       "      <th>2</th>\n",
       "      <td>PC2</td>\n",
       "      <td>467</td>\n",
       "    </tr>\n",
       "    <tr>\n",
       "      <th>3</th>\n",
       "      <td>PC3</td>\n",
       "      <td>2071</td>\n",
       "    </tr>\n",
       "    <tr>\n",
       "      <th>4</th>\n",
       "      <td>PC4</td>\n",
       "      <td>989</td>\n",
       "    </tr>\n",
       "  </tbody>\n",
       "</table>\n",
       "</div>"
      ],
      "text/plain": [
       "  pca-component  domain-number\n",
       "0           PC0            275\n",
       "1           PC1           2771\n",
       "2           PC2            467\n",
       "3           PC3           2071\n",
       "4           PC4            989"
      ]
     },
     "execution_count": 21,
     "metadata": {},
     "output_type": "execute_result"
    }
   ],
   "source": [
    "df_sl.head()"
   ]
  },
  {
   "cell_type": "markdown",
   "metadata": {},
   "source": [
    "## which are the shared domains between nSL and SL pairs , in the PCA reduced samples"
   ]
  },
  {
   "cell_type": "code",
   "execution_count": 22,
   "metadata": {
    "execution": {
     "iopub.execute_input": "2020-07-14T22:13:36.871444Z",
     "iopub.status.busy": "2020-07-14T22:13:36.870868Z",
     "iopub.status.idle": "2020-07-14T22:13:36.902179Z",
     "shell.execute_reply": "2020-07-14T22:13:36.902765Z"
    }
   },
   "outputs": [
    {
     "data": {
      "text/html": [
       "<div>\n",
       "<style scoped>\n",
       "    .dataframe tbody tr th:only-of-type {\n",
       "        vertical-align: middle;\n",
       "    }\n",
       "\n",
       "    .dataframe tbody tr th {\n",
       "        vertical-align: top;\n",
       "    }\n",
       "\n",
       "    .dataframe thead th {\n",
       "        text-align: right;\n",
       "    }\n",
       "</style>\n",
       "<table border=\"1\" class=\"dataframe\">\n",
       "  <thead>\n",
       "    <tr style=\"text-align: right;\">\n",
       "      <th></th>\n",
       "      <th>pca-component_x</th>\n",
       "      <th>domain-number</th>\n",
       "      <th>pca-component_y</th>\n",
       "      <th>domain-description</th>\n",
       "    </tr>\n",
       "  </thead>\n",
       "  <tbody>\n",
       "    <tr>\n",
       "      <th>0</th>\n",
       "      <td>PC3</td>\n",
       "      <td>2071</td>\n",
       "      <td>PC35</td>\n",
       "      <td>RSN1_TM; Calcium permeable stress-gated cation...</td>\n",
       "    </tr>\n",
       "    <tr>\n",
       "      <th>1</th>\n",
       "      <td>PC6</td>\n",
       "      <td>875</td>\n",
       "      <td>PC25</td>\n",
       "      <td>FDF; FDF domain</td>\n",
       "    </tr>\n",
       "    <tr>\n",
       "      <th>2</th>\n",
       "      <td>PC8</td>\n",
       "      <td>602</td>\n",
       "      <td>PC26</td>\n",
       "      <td>DNA_RNApol_7kD; RNA polymerase archaeal subuni...</td>\n",
       "    </tr>\n",
       "    <tr>\n",
       "      <th>3</th>\n",
       "      <td>PC9</td>\n",
       "      <td>463</td>\n",
       "      <td>PC27</td>\n",
       "      <td>Chitin_synth_1N; Chitin synthase N-terminal</td>\n",
       "    </tr>\n",
       "    <tr>\n",
       "      <th>4</th>\n",
       "      <td>PC10</td>\n",
       "      <td>463</td>\n",
       "      <td>PC27</td>\n",
       "      <td>Chitin_synth_1N; Chitin synthase N-terminal</td>\n",
       "    </tr>\n",
       "    <tr>\n",
       "      <th>5</th>\n",
       "      <td>PC18</td>\n",
       "      <td>2544</td>\n",
       "      <td>PC6</td>\n",
       "      <td>Sybindin; Trafficking protein particle complex...</td>\n",
       "    </tr>\n",
       "    <tr>\n",
       "      <th>6</th>\n",
       "      <td>PC32</td>\n",
       "      <td>1267</td>\n",
       "      <td>PC112</td>\n",
       "      <td>Kelch_3</td>\n",
       "    </tr>\n",
       "    <tr>\n",
       "      <th>7</th>\n",
       "      <td>PC42</td>\n",
       "      <td>876</td>\n",
       "      <td>PC34</td>\n",
       "      <td>FDX-ACB; Ferrodoxin-fold anticodon-binding domain</td>\n",
       "    </tr>\n",
       "    <tr>\n",
       "      <th>8</th>\n",
       "      <td>PC51</td>\n",
       "      <td>1289</td>\n",
       "      <td>PC125</td>\n",
       "      <td>LCAT; Lecithin:cholesterol/phospholipid:diacyl...</td>\n",
       "    </tr>\n",
       "    <tr>\n",
       "      <th>9</th>\n",
       "      <td>PC52</td>\n",
       "      <td>1289</td>\n",
       "      <td>PC125</td>\n",
       "      <td>LCAT; Lecithin:cholesterol/phospholipid:diacyl...</td>\n",
       "    </tr>\n",
       "    <tr>\n",
       "      <th>10</th>\n",
       "      <td>PC53</td>\n",
       "      <td>1072</td>\n",
       "      <td>PC23</td>\n",
       "      <td>Glycos_transf_1; Glycosyl transferase, family 1</td>\n",
       "    </tr>\n",
       "    <tr>\n",
       "      <th>11</th>\n",
       "      <td>PC58</td>\n",
       "      <td>773</td>\n",
       "      <td>PC42</td>\n",
       "      <td>Dynein_light; Dynein light chain, type 1/2</td>\n",
       "    </tr>\n",
       "    <tr>\n",
       "      <th>12</th>\n",
       "      <td>PC61</td>\n",
       "      <td>170</td>\n",
       "      <td>PC79</td>\n",
       "      <td>AdenylateSensor; AMPK, C-terminal adenylate se...</td>\n",
       "    </tr>\n",
       "    <tr>\n",
       "      <th>13</th>\n",
       "      <td>PC64</td>\n",
       "      <td>170</td>\n",
       "      <td>PC79</td>\n",
       "      <td>AdenylateSensor; AMPK, C-terminal adenylate se...</td>\n",
       "    </tr>\n",
       "    <tr>\n",
       "      <th>14</th>\n",
       "      <td>PC73</td>\n",
       "      <td>696</td>\n",
       "      <td>PC63</td>\n",
       "      <td>DUF3402; Protein of unknown function DUF3402</td>\n",
       "    </tr>\n",
       "    <tr>\n",
       "      <th>15</th>\n",
       "      <td>PC73</td>\n",
       "      <td>696</td>\n",
       "      <td>PC69</td>\n",
       "      <td>DUF3402; Protein of unknown function DUF3402</td>\n",
       "    </tr>\n",
       "    <tr>\n",
       "      <th>16</th>\n",
       "      <td>PC76</td>\n",
       "      <td>841</td>\n",
       "      <td>PC64</td>\n",
       "      <td>Endonuclease_NS; DNA/RNA non-specific endonucl...</td>\n",
       "    </tr>\n",
       "    <tr>\n",
       "      <th>17</th>\n",
       "      <td>PC76</td>\n",
       "      <td>841</td>\n",
       "      <td>PC65</td>\n",
       "      <td>Endonuclease_NS; DNA/RNA non-specific endonucl...</td>\n",
       "    </tr>\n",
       "    <tr>\n",
       "      <th>18</th>\n",
       "      <td>PC82</td>\n",
       "      <td>380</td>\n",
       "      <td>PC122</td>\n",
       "      <td>COMPASS-Shg1</td>\n",
       "    </tr>\n",
       "    <tr>\n",
       "      <th>19</th>\n",
       "      <td>PC89</td>\n",
       "      <td>350</td>\n",
       "      <td>PC19</td>\n",
       "      <td>CFIA_Pcf11; Subunit of cleavage factor IA Pcf11</td>\n",
       "    </tr>\n",
       "    <tr>\n",
       "      <th>20</th>\n",
       "      <td>PC90</td>\n",
       "      <td>410</td>\n",
       "      <td>PC22</td>\n",
       "      <td>CRAL_TRIO; CRAL-TRIO lipid binding domain</td>\n",
       "    </tr>\n",
       "    <tr>\n",
       "      <th>21</th>\n",
       "      <td>PC92</td>\n",
       "      <td>410</td>\n",
       "      <td>PC22</td>\n",
       "      <td>CRAL_TRIO; CRAL-TRIO lipid binding domain</td>\n",
       "    </tr>\n",
       "    <tr>\n",
       "      <th>22</th>\n",
       "      <td>PC91</td>\n",
       "      <td>39</td>\n",
       "      <td>PC189</td>\n",
       "      <td>ABC_membrane; ABC transporter type 1, transmem...</td>\n",
       "    </tr>\n",
       "    <tr>\n",
       "      <th>23</th>\n",
       "      <td>PC94</td>\n",
       "      <td>39</td>\n",
       "      <td>PC189</td>\n",
       "      <td>ABC_membrane; ABC transporter type 1, transmem...</td>\n",
       "    </tr>\n",
       "    <tr>\n",
       "      <th>24</th>\n",
       "      <td>PC99</td>\n",
       "      <td>65</td>\n",
       "      <td>PC60</td>\n",
       "      <td>AIM3; Altered inheritance of mitochondria prot...</td>\n",
       "    </tr>\n",
       "    <tr>\n",
       "      <th>25</th>\n",
       "      <td>PC116</td>\n",
       "      <td>554</td>\n",
       "      <td>PC102</td>\n",
       "      <td>DASH_Dad2; DASH complex subunit Dad2</td>\n",
       "    </tr>\n",
       "    <tr>\n",
       "      <th>26</th>\n",
       "      <td>PC138</td>\n",
       "      <td>109</td>\n",
       "      <td>PC159</td>\n",
       "      <td>ATG13; Autophagy-related protein 13</td>\n",
       "    </tr>\n",
       "    <tr>\n",
       "      <th>27</th>\n",
       "      <td>PC152</td>\n",
       "      <td>1731</td>\n",
       "      <td>PC28</td>\n",
       "      <td>PFU; PLAA family ubiquitin binding, PFU</td>\n",
       "    </tr>\n",
       "    <tr>\n",
       "      <th>28</th>\n",
       "      <td>PC158</td>\n",
       "      <td>843</td>\n",
       "      <td>PC179</td>\n",
       "      <td>Enolase_C; Enolase, C-terminal TIM barrel domain</td>\n",
       "    </tr>\n",
       "    <tr>\n",
       "      <th>29</th>\n",
       "      <td>PC159</td>\n",
       "      <td>6</td>\n",
       "      <td>PC141</td>\n",
       "      <td>2OG-FeII_Oxy_4</td>\n",
       "    </tr>\n",
       "    <tr>\n",
       "      <th>30</th>\n",
       "      <td>PC164</td>\n",
       "      <td>2371</td>\n",
       "      <td>PC174</td>\n",
       "      <td>SPT2; Chromatin SPT2</td>\n",
       "    </tr>\n",
       "    <tr>\n",
       "      <th>31</th>\n",
       "      <td>PC166</td>\n",
       "      <td>407</td>\n",
       "      <td>PC77</td>\n",
       "      <td>CPSase_L_D2; Carbamoyl-phosphate synthetase la...</td>\n",
       "    </tr>\n",
       "    <tr>\n",
       "      <th>32</th>\n",
       "      <td>PC169</td>\n",
       "      <td>407</td>\n",
       "      <td>PC77</td>\n",
       "      <td>CPSase_L_D2; Carbamoyl-phosphate synthetase la...</td>\n",
       "    </tr>\n",
       "    <tr>\n",
       "      <th>33</th>\n",
       "      <td>PC175</td>\n",
       "      <td>1745</td>\n",
       "      <td>PC165</td>\n",
       "      <td>PHM7_cyt; 10TM putative phosphate transporter,...</td>\n",
       "    </tr>\n",
       "    <tr>\n",
       "      <th>34</th>\n",
       "      <td>PC188</td>\n",
       "      <td>1745</td>\n",
       "      <td>PC165</td>\n",
       "      <td>PHM7_cyt; 10TM putative phosphate transporter,...</td>\n",
       "    </tr>\n",
       "    <tr>\n",
       "      <th>35</th>\n",
       "      <td>PC176</td>\n",
       "      <td>1233</td>\n",
       "      <td>PC139</td>\n",
       "      <td>Inhibitor_I9; Peptidase S8 propeptide/proteina...</td>\n",
       "    </tr>\n",
       "    <tr>\n",
       "      <th>36</th>\n",
       "      <td>PC177</td>\n",
       "      <td>1365</td>\n",
       "      <td>PC269</td>\n",
       "      <td>MF_alpha; Mating factor alpha, C-terminal repeat</td>\n",
       "    </tr>\n",
       "    <tr>\n",
       "      <th>37</th>\n",
       "      <td>PC277</td>\n",
       "      <td>1365</td>\n",
       "      <td>PC269</td>\n",
       "      <td>MF_alpha; Mating factor alpha, C-terminal repeat</td>\n",
       "    </tr>\n",
       "    <tr>\n",
       "      <th>38</th>\n",
       "      <td>PC186</td>\n",
       "      <td>778</td>\n",
       "      <td>PC95</td>\n",
       "      <td>E1_UFD; Ubiquitin-activating enzyme E1, C-term...</td>\n",
       "    </tr>\n",
       "    <tr>\n",
       "      <th>39</th>\n",
       "      <td>PC192</td>\n",
       "      <td>2165</td>\n",
       "      <td>PC176</td>\n",
       "      <td>Ribosomal_L18A; Ribosomal protein 50S-L18Ae/60...</td>\n",
       "    </tr>\n",
       "    <tr>\n",
       "      <th>40</th>\n",
       "      <td>PC204</td>\n",
       "      <td>672</td>\n",
       "      <td>PC235</td>\n",
       "      <td>DUF2370; NEDD4/Bsd2</td>\n",
       "    </tr>\n",
       "    <tr>\n",
       "      <th>41</th>\n",
       "      <td>PC204</td>\n",
       "      <td>672</td>\n",
       "      <td>PC253</td>\n",
       "      <td>DUF2370; NEDD4/Bsd2</td>\n",
       "    </tr>\n",
       "    <tr>\n",
       "      <th>42</th>\n",
       "      <td>PC204</td>\n",
       "      <td>672</td>\n",
       "      <td>PC256</td>\n",
       "      <td>DUF2370; NEDD4/Bsd2</td>\n",
       "    </tr>\n",
       "    <tr>\n",
       "      <th>43</th>\n",
       "      <td>PC218</td>\n",
       "      <td>2651</td>\n",
       "      <td>PC87</td>\n",
       "      <td>Telomere_reg-2; Telomere length regulation pro...</td>\n",
       "    </tr>\n",
       "    <tr>\n",
       "      <th>44</th>\n",
       "      <td>PC218</td>\n",
       "      <td>2651</td>\n",
       "      <td>PC91</td>\n",
       "      <td>Telomere_reg-2; Telomere length regulation pro...</td>\n",
       "    </tr>\n",
       "    <tr>\n",
       "      <th>45</th>\n",
       "      <td>PC222</td>\n",
       "      <td>118</td>\n",
       "      <td>PC201</td>\n",
       "      <td>ATP-grasp; ATP-grasp fold, ATP-dependent carbo...</td>\n",
       "    </tr>\n",
       "    <tr>\n",
       "      <th>46</th>\n",
       "      <td>PC231</td>\n",
       "      <td>1295</td>\n",
       "      <td>PC147</td>\n",
       "      <td>LIM; Zinc finger, LIM-type</td>\n",
       "    </tr>\n",
       "    <tr>\n",
       "      <th>47</th>\n",
       "      <td>PC234</td>\n",
       "      <td>1504</td>\n",
       "      <td>PC145</td>\n",
       "      <td>Mob1_phocein; MOB kinase activator family</td>\n",
       "    </tr>\n",
       "    <tr>\n",
       "      <th>48</th>\n",
       "      <td>PC242</td>\n",
       "      <td>718</td>\n",
       "      <td>PC118</td>\n",
       "      <td>DUF4187; Domain of unknown function DUF4187</td>\n",
       "    </tr>\n",
       "    <tr>\n",
       "      <th>49</th>\n",
       "      <td>PC257</td>\n",
       "      <td>386</td>\n",
       "      <td>PC236</td>\n",
       "      <td>COQ9</td>\n",
       "    </tr>\n",
       "    <tr>\n",
       "      <th>50</th>\n",
       "      <td>PC257</td>\n",
       "      <td>386</td>\n",
       "      <td>PC250</td>\n",
       "      <td>COQ9</td>\n",
       "    </tr>\n",
       "    <tr>\n",
       "      <th>51</th>\n",
       "      <td>PC257</td>\n",
       "      <td>386</td>\n",
       "      <td>PC255</td>\n",
       "      <td>COQ9</td>\n",
       "    </tr>\n",
       "    <tr>\n",
       "      <th>52</th>\n",
       "      <td>PC268</td>\n",
       "      <td>85</td>\n",
       "      <td>PC157</td>\n",
       "      <td>ANAPC3</td>\n",
       "    </tr>\n",
       "    <tr>\n",
       "      <th>53</th>\n",
       "      <td>PC276</td>\n",
       "      <td>2936</td>\n",
       "      <td>PC38</td>\n",
       "      <td>tRNA-synt_1c; Glutamyl/glutaminyl-tRNA synthet...</td>\n",
       "    </tr>\n",
       "  </tbody>\n",
       "</table>\n",
       "</div>"
      ],
      "text/plain": [
       "   pca-component_x  domain-number pca-component_y  \\\n",
       "0              PC3           2071            PC35   \n",
       "1              PC6            875            PC25   \n",
       "2              PC8            602            PC26   \n",
       "3              PC9            463            PC27   \n",
       "4             PC10            463            PC27   \n",
       "5             PC18           2544             PC6   \n",
       "6             PC32           1267           PC112   \n",
       "7             PC42            876            PC34   \n",
       "8             PC51           1289           PC125   \n",
       "9             PC52           1289           PC125   \n",
       "10            PC53           1072            PC23   \n",
       "11            PC58            773            PC42   \n",
       "12            PC61            170            PC79   \n",
       "13            PC64            170            PC79   \n",
       "14            PC73            696            PC63   \n",
       "15            PC73            696            PC69   \n",
       "16            PC76            841            PC64   \n",
       "17            PC76            841            PC65   \n",
       "18            PC82            380           PC122   \n",
       "19            PC89            350            PC19   \n",
       "20            PC90            410            PC22   \n",
       "21            PC92            410            PC22   \n",
       "22            PC91             39           PC189   \n",
       "23            PC94             39           PC189   \n",
       "24            PC99             65            PC60   \n",
       "25           PC116            554           PC102   \n",
       "26           PC138            109           PC159   \n",
       "27           PC152           1731            PC28   \n",
       "28           PC158            843           PC179   \n",
       "29           PC159              6           PC141   \n",
       "30           PC164           2371           PC174   \n",
       "31           PC166            407            PC77   \n",
       "32           PC169            407            PC77   \n",
       "33           PC175           1745           PC165   \n",
       "34           PC188           1745           PC165   \n",
       "35           PC176           1233           PC139   \n",
       "36           PC177           1365           PC269   \n",
       "37           PC277           1365           PC269   \n",
       "38           PC186            778            PC95   \n",
       "39           PC192           2165           PC176   \n",
       "40           PC204            672           PC235   \n",
       "41           PC204            672           PC253   \n",
       "42           PC204            672           PC256   \n",
       "43           PC218           2651            PC87   \n",
       "44           PC218           2651            PC91   \n",
       "45           PC222            118           PC201   \n",
       "46           PC231           1295           PC147   \n",
       "47           PC234           1504           PC145   \n",
       "48           PC242            718           PC118   \n",
       "49           PC257            386           PC236   \n",
       "50           PC257            386           PC250   \n",
       "51           PC257            386           PC255   \n",
       "52           PC268             85           PC157   \n",
       "53           PC276           2936            PC38   \n",
       "\n",
       "                                   domain-description  \n",
       "0   RSN1_TM; Calcium permeable stress-gated cation...  \n",
       "1                                     FDF; FDF domain  \n",
       "2   DNA_RNApol_7kD; RNA polymerase archaeal subuni...  \n",
       "3         Chitin_synth_1N; Chitin synthase N-terminal  \n",
       "4         Chitin_synth_1N; Chitin synthase N-terminal  \n",
       "5   Sybindin; Trafficking protein particle complex...  \n",
       "6                                             Kelch_3  \n",
       "7   FDX-ACB; Ferrodoxin-fold anticodon-binding domain  \n",
       "8   LCAT; Lecithin:cholesterol/phospholipid:diacyl...  \n",
       "9   LCAT; Lecithin:cholesterol/phospholipid:diacyl...  \n",
       "10    Glycos_transf_1; Glycosyl transferase, family 1  \n",
       "11         Dynein_light; Dynein light chain, type 1/2  \n",
       "12  AdenylateSensor; AMPK, C-terminal adenylate se...  \n",
       "13  AdenylateSensor; AMPK, C-terminal adenylate se...  \n",
       "14       DUF3402; Protein of unknown function DUF3402  \n",
       "15       DUF3402; Protein of unknown function DUF3402  \n",
       "16  Endonuclease_NS; DNA/RNA non-specific endonucl...  \n",
       "17  Endonuclease_NS; DNA/RNA non-specific endonucl...  \n",
       "18                                       COMPASS-Shg1  \n",
       "19    CFIA_Pcf11; Subunit of cleavage factor IA Pcf11  \n",
       "20          CRAL_TRIO; CRAL-TRIO lipid binding domain  \n",
       "21          CRAL_TRIO; CRAL-TRIO lipid binding domain  \n",
       "22  ABC_membrane; ABC transporter type 1, transmem...  \n",
       "23  ABC_membrane; ABC transporter type 1, transmem...  \n",
       "24  AIM3; Altered inheritance of mitochondria prot...  \n",
       "25               DASH_Dad2; DASH complex subunit Dad2  \n",
       "26                ATG13; Autophagy-related protein 13  \n",
       "27            PFU; PLAA family ubiquitin binding, PFU  \n",
       "28   Enolase_C; Enolase, C-terminal TIM barrel domain  \n",
       "29                                     2OG-FeII_Oxy_4  \n",
       "30                               SPT2; Chromatin SPT2  \n",
       "31  CPSase_L_D2; Carbamoyl-phosphate synthetase la...  \n",
       "32  CPSase_L_D2; Carbamoyl-phosphate synthetase la...  \n",
       "33  PHM7_cyt; 10TM putative phosphate transporter,...  \n",
       "34  PHM7_cyt; 10TM putative phosphate transporter,...  \n",
       "35  Inhibitor_I9; Peptidase S8 propeptide/proteina...  \n",
       "36   MF_alpha; Mating factor alpha, C-terminal repeat  \n",
       "37   MF_alpha; Mating factor alpha, C-terminal repeat  \n",
       "38  E1_UFD; Ubiquitin-activating enzyme E1, C-term...  \n",
       "39  Ribosomal_L18A; Ribosomal protein 50S-L18Ae/60...  \n",
       "40                                DUF2370; NEDD4/Bsd2  \n",
       "41                                DUF2370; NEDD4/Bsd2  \n",
       "42                                DUF2370; NEDD4/Bsd2  \n",
       "43  Telomere_reg-2; Telomere length regulation pro...  \n",
       "44  Telomere_reg-2; Telomere length regulation pro...  \n",
       "45  ATP-grasp; ATP-grasp fold, ATP-dependent carbo...  \n",
       "46                         LIM; Zinc finger, LIM-type  \n",
       "47          Mob1_phocein; MOB kinase activator family  \n",
       "48        DUF4187; Domain of unknown function DUF4187  \n",
       "49                                               COQ9  \n",
       "50                                               COQ9  \n",
       "51                                               COQ9  \n",
       "52                                             ANAPC3  \n",
       "53  tRNA-synt_1c; Glutamyl/glutaminyl-tRNA synthet...  "
      ]
     },
     "execution_count": 22,
     "metadata": {},
     "output_type": "execute_result"
    }
   ],
   "source": [
    "df_shared_domains=pd.merge(df_sl,df_nsl,how='inner',on='domain-number')\n",
    "domains_name=np.unique(data_domains['domain-name'])\n",
    "domains_description=np.unique(data_domains['domain-descrip'])\n",
    "\n",
    "df_shared_domains['domain-description']=domains_description[df_shared_domains['domain-number']]\n",
    "\n",
    "\n",
    "df_shared_domains"
   ]
  },
  {
   "cell_type": "code",
   "execution_count": 23,
   "metadata": {
    "execution": {
     "iopub.execute_input": "2020-07-14T22:13:36.905225Z",
     "iopub.status.busy": "2020-07-14T22:13:36.904638Z",
     "iopub.status.idle": "2020-07-14T22:13:36.910333Z",
     "shell.execute_reply": "2020-07-14T22:13:36.910902Z"
    }
   },
   "outputs": [
    {
     "name": "stdout",
     "output_type": "stream",
     "text": [
      "The number of shared domains between SL and nSL pairs,after PCA, is =  54 out of 555 so the 9.72972972972973 %\n"
     ]
    }
   ],
   "source": [
    "print('The number of shared domains between SL and nSL pairs,after PCA, is = ',len(df_shared_domains), 'out of', len(df_sl)+len(df_nsl), 'so the',100*len(df_shared_domains)/(len(df_sl)+len(df_nsl)),'%')"
   ]
  },
  {
   "cell_type": "markdown",
   "metadata": {},
   "source": [
    "## Domains exclusive to SL"
   ]
  },
  {
   "cell_type": "code",
   "execution_count": 24,
   "metadata": {
    "execution": {
     "iopub.execute_input": "2020-07-14T22:13:36.913299Z",
     "iopub.status.busy": "2020-07-14T22:13:36.912705Z",
     "iopub.status.idle": "2020-07-14T22:13:36.950554Z",
     "shell.execute_reply": "2020-07-14T22:13:36.949909Z"
    }
   },
   "outputs": [
    {
     "data": {
      "text/html": [
       "<div>\n",
       "<style scoped>\n",
       "    .dataframe tbody tr th:only-of-type {\n",
       "        vertical-align: middle;\n",
       "    }\n",
       "\n",
       "    .dataframe tbody tr th {\n",
       "        vertical-align: top;\n",
       "    }\n",
       "\n",
       "    .dataframe thead th {\n",
       "        text-align: right;\n",
       "    }\n",
       "</style>\n",
       "<table border=\"1\" class=\"dataframe\">\n",
       "  <thead>\n",
       "    <tr style=\"text-align: right;\">\n",
       "      <th></th>\n",
       "      <th>pca-component_x</th>\n",
       "      <th>domain-number</th>\n",
       "      <th>pca-component_y</th>\n",
       "      <th>domain-description</th>\n",
       "    </tr>\n",
       "  </thead>\n",
       "  <tbody>\n",
       "    <tr>\n",
       "      <th>0</th>\n",
       "      <td>PC0</td>\n",
       "      <td>275</td>\n",
       "      <td>NaN</td>\n",
       "      <td>BP28CT; BP28, C-terminal domain</td>\n",
       "    </tr>\n",
       "    <tr>\n",
       "      <th>1</th>\n",
       "      <td>PC1</td>\n",
       "      <td>2771</td>\n",
       "      <td>NaN</td>\n",
       "      <td>Ubiq-assoc; Ubiquitin-associated domain, SWA2-...</td>\n",
       "    </tr>\n",
       "    <tr>\n",
       "      <th>2</th>\n",
       "      <td>PC2</td>\n",
       "      <td>467</td>\n",
       "      <td>NaN</td>\n",
       "      <td>Choline_transpo; Choline transporter-like</td>\n",
       "    </tr>\n",
       "    <tr>\n",
       "      <th>4</th>\n",
       "      <td>PC4</td>\n",
       "      <td>989</td>\n",
       "      <td>NaN</td>\n",
       "      <td>GLE1; GLE1-like</td>\n",
       "    </tr>\n",
       "    <tr>\n",
       "      <th>5</th>\n",
       "      <td>PC5</td>\n",
       "      <td>211</td>\n",
       "      <td>NaN</td>\n",
       "      <td>Ank_5</td>\n",
       "    </tr>\n",
       "    <tr>\n",
       "      <th>...</th>\n",
       "      <td>...</td>\n",
       "      <td>...</td>\n",
       "      <td>...</td>\n",
       "      <td>...</td>\n",
       "    </tr>\n",
       "    <tr>\n",
       "      <th>278</th>\n",
       "      <td>PC271</td>\n",
       "      <td>737</td>\n",
       "      <td>NaN</td>\n",
       "      <td>DUF775; Domain of unknown function DUF775</td>\n",
       "    </tr>\n",
       "    <tr>\n",
       "      <th>279</th>\n",
       "      <td>PC272</td>\n",
       "      <td>1260</td>\n",
       "      <td>NaN</td>\n",
       "      <td>KOW</td>\n",
       "    </tr>\n",
       "    <tr>\n",
       "      <th>280</th>\n",
       "      <td>PC273</td>\n",
       "      <td>2077</td>\n",
       "      <td>NaN</td>\n",
       "      <td>RTP1_C2; RNA polymerase II assembly factor Rtp...</td>\n",
       "    </tr>\n",
       "    <tr>\n",
       "      <th>281</th>\n",
       "      <td>PC274</td>\n",
       "      <td>2077</td>\n",
       "      <td>NaN</td>\n",
       "      <td>RTP1_C2; RNA polymerase II assembly factor Rtp...</td>\n",
       "    </tr>\n",
       "    <tr>\n",
       "      <th>282</th>\n",
       "      <td>PC275</td>\n",
       "      <td>737</td>\n",
       "      <td>NaN</td>\n",
       "      <td>DUF775; Domain of unknown function DUF775</td>\n",
       "    </tr>\n",
       "  </tbody>\n",
       "</table>\n",
       "<p>231 rows × 4 columns</p>\n",
       "</div>"
      ],
      "text/plain": [
       "    pca-component_x  domain-number pca-component_y  \\\n",
       "0               PC0            275             NaN   \n",
       "1               PC1           2771             NaN   \n",
       "2               PC2            467             NaN   \n",
       "4               PC4            989             NaN   \n",
       "5               PC5            211             NaN   \n",
       "..              ...            ...             ...   \n",
       "278           PC271            737             NaN   \n",
       "279           PC272           1260             NaN   \n",
       "280           PC273           2077             NaN   \n",
       "281           PC274           2077             NaN   \n",
       "282           PC275            737             NaN   \n",
       "\n",
       "                                    domain-description  \n",
       "0                      BP28CT; BP28, C-terminal domain  \n",
       "1    Ubiq-assoc; Ubiquitin-associated domain, SWA2-...  \n",
       "2            Choline_transpo; Choline transporter-like  \n",
       "4                                      GLE1; GLE1-like  \n",
       "5                                                Ank_5  \n",
       "..                                                 ...  \n",
       "278          DUF775; Domain of unknown function DUF775  \n",
       "279                                                KOW  \n",
       "280  RTP1_C2; RNA polymerase II assembly factor Rtp...  \n",
       "281  RTP1_C2; RNA polymerase II assembly factor Rtp...  \n",
       "282          DUF775; Domain of unknown function DUF775  \n",
       "\n",
       "[231 rows x 4 columns]"
      ]
     },
     "execution_count": 24,
     "metadata": {},
     "output_type": "execute_result"
    }
   ],
   "source": [
    "df_sl_exclusive=pd.merge(df_sl,df_nsl,how='left',on='domain-number')\n",
    "\n",
    "domains_name=np.unique(data_domains['domain-name'])\n",
    "domains_description=np.unique(data_domains['domain-descrip'])\n",
    "\n",
    "df_sl_exclusive['domain-description']=domains_description[df_sl_exclusive['domain-number']]\n",
    "df_sl_exclusive[pd.isnull(df_sl_exclusive['pca-component_y'])]"
   ]
  },
  {
   "cell_type": "code",
   "execution_count": 25,
   "metadata": {
    "execution": {
     "iopub.execute_input": "2020-07-14T22:13:36.955221Z",
     "iopub.status.busy": "2020-07-14T22:13:36.954644Z",
     "iopub.status.idle": "2020-07-14T22:13:36.958073Z",
     "shell.execute_reply": "2020-07-14T22:13:36.957562Z"
    }
   },
   "outputs": [
    {
     "name": "stdout",
     "output_type": "stream",
     "text": [
      "The number of exclusive domains from SL pairs, after PCA, is =  285 out of 555 so the 51.351351351351354 %\n"
     ]
    }
   ],
   "source": [
    "print('The number of exclusive domains from SL pairs, after PCA, is = ',len(df_sl_exclusive), 'out of', len(df_sl)+len(df_nsl), 'so the',100*len(df_sl_exclusive)/(len(df_sl)+len(df_nsl)),'%')"
   ]
  },
  {
   "cell_type": "code",
   "execution_count": 26,
   "metadata": {
    "execution": {
     "iopub.execute_input": "2020-07-14T22:13:36.976923Z",
     "iopub.status.busy": "2020-07-14T22:13:36.963541Z",
     "iopub.status.idle": "2020-07-14T22:13:36.995257Z",
     "shell.execute_reply": "2020-07-14T22:13:36.994763Z"
    }
   },
   "outputs": [
    {
     "data": {
      "text/html": [
       "<div>\n",
       "<style scoped>\n",
       "    .dataframe tbody tr th:only-of-type {\n",
       "        vertical-align: middle;\n",
       "    }\n",
       "\n",
       "    .dataframe tbody tr th {\n",
       "        vertical-align: top;\n",
       "    }\n",
       "\n",
       "    .dataframe thead th {\n",
       "        text-align: right;\n",
       "    }\n",
       "</style>\n",
       "<table border=\"1\" class=\"dataframe\">\n",
       "  <thead>\n",
       "    <tr style=\"text-align: right;\">\n",
       "      <th></th>\n",
       "      <th>pca-component_x</th>\n",
       "      <th>domain-number</th>\n",
       "      <th>pca-component_y</th>\n",
       "      <th>domain-description</th>\n",
       "    </tr>\n",
       "  </thead>\n",
       "  <tbody>\n",
       "    <tr>\n",
       "      <th>54</th>\n",
       "      <td>NaN</td>\n",
       "      <td>268</td>\n",
       "      <td>PC0</td>\n",
       "      <td>BHD_3; Rad4 beta-hairpin domain 3</td>\n",
       "    </tr>\n",
       "    <tr>\n",
       "      <th>55</th>\n",
       "      <td>NaN</td>\n",
       "      <td>1227</td>\n",
       "      <td>PC1</td>\n",
       "      <td>I_LWEQ; I/LWEQ domain</td>\n",
       "    </tr>\n",
       "    <tr>\n",
       "      <th>56</th>\n",
       "      <td>NaN</td>\n",
       "      <td>1252</td>\n",
       "      <td>PC2</td>\n",
       "      <td>JmjN; JmjN domain</td>\n",
       "    </tr>\n",
       "    <tr>\n",
       "      <th>57</th>\n",
       "      <td>NaN</td>\n",
       "      <td>3</td>\n",
       "      <td>PC3</td>\n",
       "      <td>2-Hacid_dh_C; D-isomer specific 2-hydroxyacid ...</td>\n",
       "    </tr>\n",
       "    <tr>\n",
       "      <th>58</th>\n",
       "      <td>NaN</td>\n",
       "      <td>2113</td>\n",
       "      <td>PC4</td>\n",
       "      <td>Rav1p_C; RAVE complex protein Rav1 C-terminal</td>\n",
       "    </tr>\n",
       "    <tr>\n",
       "      <th>...</th>\n",
       "      <td>...</td>\n",
       "      <td>...</td>\n",
       "      <td>...</td>\n",
       "      <td>...</td>\n",
       "    </tr>\n",
       "    <tr>\n",
       "      <th>280</th>\n",
       "      <td>NaN</td>\n",
       "      <td>113</td>\n",
       "      <td>PC268</td>\n",
       "      <td>ATG27; Autophagy-related protein 27</td>\n",
       "    </tr>\n",
       "    <tr>\n",
       "      <th>281</th>\n",
       "      <td>NaN</td>\n",
       "      <td>667</td>\n",
       "      <td>PC270</td>\n",
       "      <td>DUF2183; Domain of unknown function DUF2183</td>\n",
       "    </tr>\n",
       "    <tr>\n",
       "      <th>282</th>\n",
       "      <td>NaN</td>\n",
       "      <td>1868</td>\n",
       "      <td>PC274</td>\n",
       "      <td>Peptidase_C50</td>\n",
       "    </tr>\n",
       "    <tr>\n",
       "      <th>283</th>\n",
       "      <td>NaN</td>\n",
       "      <td>1303</td>\n",
       "      <td>PC275</td>\n",
       "      <td>LRR_8; Leucine-rich repeat</td>\n",
       "    </tr>\n",
       "    <tr>\n",
       "      <th>284</th>\n",
       "      <td>NaN</td>\n",
       "      <td>622</td>\n",
       "      <td>PC276</td>\n",
       "      <td>DNA_topoisoIV; DNA topoisomerase, type IIA, su...</td>\n",
       "    </tr>\n",
       "  </tbody>\n",
       "</table>\n",
       "<p>231 rows × 4 columns</p>\n",
       "</div>"
      ],
      "text/plain": [
       "    pca-component_x  domain-number pca-component_y  \\\n",
       "54              NaN            268             PC0   \n",
       "55              NaN           1227             PC1   \n",
       "56              NaN           1252             PC2   \n",
       "57              NaN              3             PC3   \n",
       "58              NaN           2113             PC4   \n",
       "..              ...            ...             ...   \n",
       "280             NaN            113           PC268   \n",
       "281             NaN            667           PC270   \n",
       "282             NaN           1868           PC274   \n",
       "283             NaN           1303           PC275   \n",
       "284             NaN            622           PC276   \n",
       "\n",
       "                                    domain-description  \n",
       "54                   BHD_3; Rad4 beta-hairpin domain 3  \n",
       "55                               I_LWEQ; I/LWEQ domain  \n",
       "56                                   JmjN; JmjN domain  \n",
       "57   2-Hacid_dh_C; D-isomer specific 2-hydroxyacid ...  \n",
       "58       Rav1p_C; RAVE complex protein Rav1 C-terminal  \n",
       "..                                                 ...  \n",
       "280                ATG27; Autophagy-related protein 27  \n",
       "281        DUF2183; Domain of unknown function DUF2183  \n",
       "282                                      Peptidase_C50  \n",
       "283                         LRR_8; Leucine-rich repeat  \n",
       "284  DNA_topoisoIV; DNA topoisomerase, type IIA, su...  \n",
       "\n",
       "[231 rows x 4 columns]"
      ]
     },
     "execution_count": 26,
     "metadata": {},
     "output_type": "execute_result"
    }
   ],
   "source": [
    "df_nsl_exclusive=pd.merge(df_sl,df_nsl,how='right',on='domain-number')\n",
    "\n",
    "domains_name=np.unique(data_domains['domain-name'])\n",
    "domains_description=np.unique(data_domains['domain-descrip'])\n",
    "\n",
    "df_nsl_exclusive['domain-description']=domains_description[df_nsl_exclusive['domain-number']]\n",
    "df_nsl_exclusive[pd.isnull(df_nsl_exclusive['pca-component_x'])]"
   ]
  },
  {
   "cell_type": "code",
   "execution_count": 27,
   "metadata": {
    "execution": {
     "iopub.execute_input": "2020-07-14T22:13:37.000102Z",
     "iopub.status.busy": "2020-07-14T22:13:36.999168Z",
     "iopub.status.idle": "2020-07-14T22:13:37.004068Z",
     "shell.execute_reply": "2020-07-14T22:13:37.003476Z"
    }
   },
   "outputs": [
    {
     "name": "stdout",
     "output_type": "stream",
     "text": [
      "The number of exclusive domains from non SL pairs, after PCA, is =  285 out of 555 so the 51.351351351351354 %\n"
     ]
    }
   ],
   "source": [
    "print('The number of exclusive domains from non SL pairs, after PCA, is = ',len(df_nsl_exclusive), 'out of', len(df_sl)+len(df_nsl), 'so the',100*len(df_nsl_exclusive)/(len(df_sl)+len(df_nsl)),'%')"
   ]
  },
  {
   "cell_type": "markdown",
   "metadata": {},
   "source": [
    "## Let see to the domains-number that get repeated after the PCA analysis , and selecting the most explanatory feature by its explained variance."
   ]
  },
  {
   "cell_type": "code",
   "execution_count": 28,
   "metadata": {
    "execution": {
     "iopub.execute_input": "2020-07-14T22:13:37.024076Z",
     "iopub.status.busy": "2020-07-14T22:13:37.010368Z",
     "iopub.status.idle": "2020-07-14T22:13:37.029842Z",
     "shell.execute_reply": "2020-07-14T22:13:37.029003Z"
    }
   },
   "outputs": [],
   "source": [
    "duplicated_features_sl=df_sl[df_sl.iloc[:,1].duplicated()]\n",
    "repeated_features_sl=pd.DataFrame()\n",
    "\n",
    "domains_name=np.unique(data_domains['domain-name'])\n",
    "domains_description=np.unique(data_domains['domain-descrip'])\n",
    "\n",
    "repeated_features_sl['domain-name']=domains_name[duplicated_features_sl.iloc[:,1]] \n",
    "repeated_features_sl['domain-description']=domains_description[duplicated_features_sl.iloc[:,1]]\n",
    "\n",
    "duplicated_features_nsl=df_nsl[df_nsl.iloc[:,1].duplicated()]\n",
    "repeated_features_nsl=pd.DataFrame()\n",
    "\n",
    "repeated_features_nsl['domain-name']=domains_name[duplicated_features_nsl.iloc[:,1]] \n",
    "repeated_features_nsl['domain-description']=domains_description[duplicated_features_nsl.iloc[:,1]]"
   ]
  },
  {
   "cell_type": "code",
   "execution_count": 29,
   "metadata": {
    "execution": {
     "iopub.execute_input": "2020-07-14T22:13:37.041217Z",
     "iopub.status.busy": "2020-07-14T22:13:37.036848Z",
     "iopub.status.idle": "2020-07-14T22:13:37.045490Z",
     "shell.execute_reply": "2020-07-14T22:13:37.046163Z"
    }
   },
   "outputs": [
    {
     "data": {
      "text/plain": [
       "((53, 4), (285, 4))"
      ]
     },
     "execution_count": 29,
     "metadata": {},
     "output_type": "execute_result"
    }
   ],
   "source": [
    "only_sl_pd=pd.merge(repeated_features_sl,repeated_features_nsl,how='left',on=['domain-name'])\n",
    "data_only_sl = only_sl_pd[pd.isnull(only_sl_pd['domain-description_y'])]\n",
    "data_only_sl['domain-description']=data_only_sl['domain-description_x']\n",
    "data_only_sl.shape,df_sl_exclusive.shape"
   ]
  },
  {
   "cell_type": "code",
   "execution_count": 30,
   "metadata": {
    "execution": {
     "iopub.execute_input": "2020-07-14T22:13:37.066955Z",
     "iopub.status.busy": "2020-07-14T22:13:37.066356Z",
     "iopub.status.idle": "2020-07-14T22:13:37.072399Z",
     "shell.execute_reply": "2020-07-14T22:13:37.071668Z"
    }
   },
   "outputs": [
    {
     "data": {
      "text/html": [
       "<div>\n",
       "<style scoped>\n",
       "    .dataframe tbody tr th:only-of-type {\n",
       "        vertical-align: middle;\n",
       "    }\n",
       "\n",
       "    .dataframe tbody tr th {\n",
       "        vertical-align: top;\n",
       "    }\n",
       "\n",
       "    .dataframe thead th {\n",
       "        text-align: right;\n",
       "    }\n",
       "</style>\n",
       "<table border=\"1\" class=\"dataframe\">\n",
       "  <thead>\n",
       "    <tr style=\"text-align: right;\">\n",
       "      <th></th>\n",
       "      <th>domain-name</th>\n",
       "      <th>domain-description_x</th>\n",
       "      <th>domain-description_y</th>\n",
       "    </tr>\n",
       "  </thead>\n",
       "  <tbody>\n",
       "    <tr>\n",
       "      <th>0</th>\n",
       "      <td>PF03439</td>\n",
       "      <td>NaN</td>\n",
       "      <td>HEM4; Tetrapyrrole biosynthesis, uroporphyrino...</td>\n",
       "    </tr>\n",
       "    <tr>\n",
       "      <th>1</th>\n",
       "      <td>PF02775</td>\n",
       "      <td>NaN</td>\n",
       "      <td>G-patch; G-patch domain</td>\n",
       "    </tr>\n",
       "    <tr>\n",
       "      <th>2</th>\n",
       "      <td>PF00067</td>\n",
       "      <td>NaN</td>\n",
       "      <td>AAA_6</td>\n",
       "    </tr>\n",
       "    <tr>\n",
       "      <th>3</th>\n",
       "      <td>PF05390</td>\n",
       "      <td>NaN</td>\n",
       "      <td>NAD_kinase; NAD kinase</td>\n",
       "    </tr>\n",
       "    <tr>\n",
       "      <th>4</th>\n",
       "      <td>PF02201</td>\n",
       "      <td>NaN</td>\n",
       "      <td>Endonuclease_NS; DNA/RNA non-specific endonucl...</td>\n",
       "    </tr>\n",
       "    <tr>\n",
       "      <th>5</th>\n",
       "      <td>PF01644</td>\n",
       "      <td>NaN</td>\n",
       "      <td>DUF3402; Protein of unknown function DUF3402</td>\n",
       "    </tr>\n",
       "    <tr>\n",
       "      <th>6</th>\n",
       "      <td>PF03097</td>\n",
       "      <td>NaN</td>\n",
       "      <td>Glutaredoxin</td>\n",
       "    </tr>\n",
       "    <tr>\n",
       "      <th>7</th>\n",
       "      <td>PF09402</td>\n",
       "      <td>NaN</td>\n",
       "      <td>Rbsn; Rabenosyn, Rab binding domain</td>\n",
       "    </tr>\n",
       "    <tr>\n",
       "      <th>8</th>\n",
       "      <td>PF09337</td>\n",
       "      <td>NaN</td>\n",
       "      <td>Rap1_C; TRF2-interacting telomeric protein/Rap...</td>\n",
       "    </tr>\n",
       "    <tr>\n",
       "      <th>9</th>\n",
       "      <td>PF03947</td>\n",
       "      <td>NaN</td>\n",
       "      <td>IKI3; Elongator complex subunit Iki3</td>\n",
       "    </tr>\n",
       "    <tr>\n",
       "      <th>10</th>\n",
       "      <td>PF13519</td>\n",
       "      <td>NaN</td>\n",
       "      <td>Telomere_reg-2; Telomere length regulation pro...</td>\n",
       "    </tr>\n",
       "    <tr>\n",
       "      <th>11</th>\n",
       "      <td>PF14520</td>\n",
       "      <td>NaN</td>\n",
       "      <td>UMP1</td>\n",
       "    </tr>\n",
       "    <tr>\n",
       "      <th>12</th>\n",
       "      <td>PF06046</td>\n",
       "      <td>NaN</td>\n",
       "      <td>Nop16; Ribosome biogenesis protein Nop16</td>\n",
       "    </tr>\n",
       "    <tr>\n",
       "      <th>13</th>\n",
       "      <td>PF01156</td>\n",
       "      <td>NaN</td>\n",
       "      <td>Creatinase_N; Creatinase, N-terminal</td>\n",
       "    </tr>\n",
       "    <tr>\n",
       "      <th>14</th>\n",
       "      <td>PF05839</td>\n",
       "      <td>NaN</td>\n",
       "      <td>NUP214</td>\n",
       "    </tr>\n",
       "    <tr>\n",
       "      <th>15</th>\n",
       "      <td>PF05839</td>\n",
       "      <td>NaN</td>\n",
       "      <td>NUP214</td>\n",
       "    </tr>\n",
       "    <tr>\n",
       "      <th>16</th>\n",
       "      <td>PF01833</td>\n",
       "      <td>NaN</td>\n",
       "      <td>Diphthamide_syn; Diphthamide synthesis DPH1/DPH2</td>\n",
       "    </tr>\n",
       "    <tr>\n",
       "      <th>17</th>\n",
       "      <td>PF02450</td>\n",
       "      <td>NaN</td>\n",
       "      <td>FMN_red; NADPH-dependent FMN reductase-like</td>\n",
       "    </tr>\n",
       "    <tr>\n",
       "      <th>18</th>\n",
       "      <td>PF00389</td>\n",
       "      <td>NaN</td>\n",
       "      <td>Alkyl_sulf_C; Alkyl sulfatase, C-terminal</td>\n",
       "    </tr>\n",
       "    <tr>\n",
       "      <th>19</th>\n",
       "      <td>PF10487</td>\n",
       "      <td>NaN</td>\n",
       "      <td>SF1-HH; Splicing factor 1, helix-hairpin domain</td>\n",
       "    </tr>\n",
       "    <tr>\n",
       "      <th>20</th>\n",
       "      <td>PF01302</td>\n",
       "      <td>NaN</td>\n",
       "      <td>DJ-1_PfpI; DJ-1/PfpI</td>\n",
       "    </tr>\n",
       "    <tr>\n",
       "      <th>21</th>\n",
       "      <td>PF04821</td>\n",
       "      <td>NaN</td>\n",
       "      <td>Mcl1_mid; Minichromosome loss protein Mcl1, mi...</td>\n",
       "    </tr>\n",
       "    <tr>\n",
       "      <th>22</th>\n",
       "      <td>PF12090</td>\n",
       "      <td>NaN</td>\n",
       "      <td>Sec61_beta; Protein transport protein SecG/Sec...</td>\n",
       "    </tr>\n",
       "    <tr>\n",
       "      <th>23</th>\n",
       "      <td>PF07064</td>\n",
       "      <td>NaN</td>\n",
       "      <td>PAP_central; Poly(A) polymerase, central domain</td>\n",
       "    </tr>\n",
       "    <tr>\n",
       "      <th>24</th>\n",
       "      <td>PF07064</td>\n",
       "      <td>NaN</td>\n",
       "      <td>PAP_central; Poly(A) polymerase, central domain</td>\n",
       "    </tr>\n",
       "    <tr>\n",
       "      <th>25</th>\n",
       "      <td>PF00226</td>\n",
       "      <td>NaN</td>\n",
       "      <td>ATG11; Autophagy-related protein 11</td>\n",
       "    </tr>\n",
       "    <tr>\n",
       "      <th>26</th>\n",
       "      <td>PF11976</td>\n",
       "      <td>NaN</td>\n",
       "      <td>Sec20</td>\n",
       "    </tr>\n",
       "    <tr>\n",
       "      <th>27</th>\n",
       "      <td>PF04383</td>\n",
       "      <td>NaN</td>\n",
       "      <td>Lysine_decarbox; LOG family</td>\n",
       "    </tr>\n",
       "    <tr>\n",
       "      <th>28</th>\n",
       "      <td>PF00022</td>\n",
       "      <td>NaN</td>\n",
       "      <td>40S_S4_C; 40S ribosomal protein S4, C-terminal...</td>\n",
       "    </tr>\n",
       "    <tr>\n",
       "      <th>29</th>\n",
       "      <td>PF00076</td>\n",
       "      <td>NaN</td>\n",
       "      <td>AAR2; A1 cistron-splicing factor, AAR2</td>\n",
       "    </tr>\n",
       "    <tr>\n",
       "      <th>30</th>\n",
       "      <td>PF02386</td>\n",
       "      <td>NaN</td>\n",
       "      <td>FIN1</td>\n",
       "    </tr>\n",
       "    <tr>\n",
       "      <th>31</th>\n",
       "      <td>PF02386</td>\n",
       "      <td>NaN</td>\n",
       "      <td>FIN1</td>\n",
       "    </tr>\n",
       "    <tr>\n",
       "      <th>32</th>\n",
       "      <td>PF09597</td>\n",
       "      <td>NaN</td>\n",
       "      <td>Ribonuc_red_sm; Ribonucleotide reductase small...</td>\n",
       "    </tr>\n",
       "    <tr>\n",
       "      <th>33</th>\n",
       "      <td>PF08569</td>\n",
       "      <td>NaN</td>\n",
       "      <td>Prp31_C; Prp31 C-terminal</td>\n",
       "    </tr>\n",
       "    <tr>\n",
       "      <th>34</th>\n",
       "      <td>PF09696</td>\n",
       "      <td>NaN</td>\n",
       "      <td>Ribosom_S12_S23; Ribosomal protein S12/S23</td>\n",
       "    </tr>\n",
       "    <tr>\n",
       "      <th>35</th>\n",
       "      <td>PF00411</td>\n",
       "      <td>NaN</td>\n",
       "      <td>Aminotran_4; Aminotransferase class IV</td>\n",
       "    </tr>\n",
       "    <tr>\n",
       "      <th>36</th>\n",
       "      <td>PF00411</td>\n",
       "      <td>NaN</td>\n",
       "      <td>Aminotran_4; Aminotransferase class IV</td>\n",
       "    </tr>\n",
       "    <tr>\n",
       "      <th>37</th>\n",
       "      <td>PF00411</td>\n",
       "      <td>NaN</td>\n",
       "      <td>Aminotran_4; Aminotransferase class IV</td>\n",
       "    </tr>\n",
       "    <tr>\n",
       "      <th>38</th>\n",
       "      <td>PF01679</td>\n",
       "      <td>NaN</td>\n",
       "      <td>DUF3602; Protein of unknown function DUF3602</td>\n",
       "    </tr>\n",
       "    <tr>\n",
       "      <th>39</th>\n",
       "      <td>PF17096</td>\n",
       "      <td>NaN</td>\n",
       "      <td>zf-CCCH; Zinc finger, CCCH-type</td>\n",
       "    </tr>\n",
       "    <tr>\n",
       "      <th>40</th>\n",
       "      <td>PF03031</td>\n",
       "      <td>NaN</td>\n",
       "      <td>Gcn1_N; Gcn1, N-terminal</td>\n",
       "    </tr>\n",
       "    <tr>\n",
       "      <th>41</th>\n",
       "      <td>PF03095</td>\n",
       "      <td>NaN</td>\n",
       "      <td>Glucosamine_iso; Glucosamine/galactosamine-6-p...</td>\n",
       "    </tr>\n",
       "    <tr>\n",
       "      <th>42</th>\n",
       "      <td>PF02441</td>\n",
       "      <td>NaN</td>\n",
       "      <td>FMN_dh; FMN-dependent dehydrogenase</td>\n",
       "    </tr>\n",
       "    <tr>\n",
       "      <th>43</th>\n",
       "      <td>PF02441</td>\n",
       "      <td>NaN</td>\n",
       "      <td>FMN_dh; FMN-dependent dehydrogenase</td>\n",
       "    </tr>\n",
       "    <tr>\n",
       "      <th>44</th>\n",
       "      <td>PF04893</td>\n",
       "      <td>NaN</td>\n",
       "      <td>Med22; Mediator of RNA polymerase II transcrip...</td>\n",
       "    </tr>\n",
       "    <tr>\n",
       "      <th>45</th>\n",
       "      <td>PF01746</td>\n",
       "      <td>NaN</td>\n",
       "      <td>DUF4782; VASt domain</td>\n",
       "    </tr>\n",
       "    <tr>\n",
       "      <th>46</th>\n",
       "      <td>PF12352</td>\n",
       "      <td>NaN</td>\n",
       "      <td>Skp1_POZ; SKP1 component, POZ domain</td>\n",
       "    </tr>\n",
       "    <tr>\n",
       "      <th>47</th>\n",
       "      <td>PF00793</td>\n",
       "      <td>NaN</td>\n",
       "      <td>COQ9</td>\n",
       "    </tr>\n",
       "    <tr>\n",
       "      <th>48</th>\n",
       "      <td>PF00793</td>\n",
       "      <td>NaN</td>\n",
       "      <td>COQ9</td>\n",
       "    </tr>\n",
       "    <tr>\n",
       "      <th>49</th>\n",
       "      <td>PF01627</td>\n",
       "      <td>NaN</td>\n",
       "      <td>DUF3294; Protein of unknown function DUF3294</td>\n",
       "    </tr>\n",
       "    <tr>\n",
       "      <th>50</th>\n",
       "      <td>PF01569</td>\n",
       "      <td>NaN</td>\n",
       "      <td>DUF2370; NEDD4/Bsd2</td>\n",
       "    </tr>\n",
       "    <tr>\n",
       "      <th>51</th>\n",
       "      <td>PF01569</td>\n",
       "      <td>NaN</td>\n",
       "      <td>DUF2370; NEDD4/Bsd2</td>\n",
       "    </tr>\n",
       "    <tr>\n",
       "      <th>52</th>\n",
       "      <td>PF10336</td>\n",
       "      <td>NaN</td>\n",
       "      <td>Ribul_P_3_epim; Ribulose-phosphate 3-epimerase...</td>\n",
       "    </tr>\n",
       "    <tr>\n",
       "      <th>53</th>\n",
       "      <td>PF10336</td>\n",
       "      <td>NaN</td>\n",
       "      <td>Ribul_P_3_epim; Ribulose-phosphate 3-epimerase...</td>\n",
       "    </tr>\n",
       "    <tr>\n",
       "      <th>54</th>\n",
       "      <td>PF17076</td>\n",
       "      <td>NaN</td>\n",
       "      <td>zf-C3HC4_2</td>\n",
       "    </tr>\n",
       "    <tr>\n",
       "      <th>55</th>\n",
       "      <td>PF00646</td>\n",
       "      <td>NaN</td>\n",
       "      <td>CASP_C; CASP, C-terminal</td>\n",
       "    </tr>\n",
       "  </tbody>\n",
       "</table>\n",
       "</div>"
      ],
      "text/plain": [
       "   domain-name domain-description_x  \\\n",
       "0      PF03439                  NaN   \n",
       "1      PF02775                  NaN   \n",
       "2      PF00067                  NaN   \n",
       "3      PF05390                  NaN   \n",
       "4      PF02201                  NaN   \n",
       "5      PF01644                  NaN   \n",
       "6      PF03097                  NaN   \n",
       "7      PF09402                  NaN   \n",
       "8      PF09337                  NaN   \n",
       "9      PF03947                  NaN   \n",
       "10     PF13519                  NaN   \n",
       "11     PF14520                  NaN   \n",
       "12     PF06046                  NaN   \n",
       "13     PF01156                  NaN   \n",
       "14     PF05839                  NaN   \n",
       "15     PF05839                  NaN   \n",
       "16     PF01833                  NaN   \n",
       "17     PF02450                  NaN   \n",
       "18     PF00389                  NaN   \n",
       "19     PF10487                  NaN   \n",
       "20     PF01302                  NaN   \n",
       "21     PF04821                  NaN   \n",
       "22     PF12090                  NaN   \n",
       "23     PF07064                  NaN   \n",
       "24     PF07064                  NaN   \n",
       "25     PF00226                  NaN   \n",
       "26     PF11976                  NaN   \n",
       "27     PF04383                  NaN   \n",
       "28     PF00022                  NaN   \n",
       "29     PF00076                  NaN   \n",
       "30     PF02386                  NaN   \n",
       "31     PF02386                  NaN   \n",
       "32     PF09597                  NaN   \n",
       "33     PF08569                  NaN   \n",
       "34     PF09696                  NaN   \n",
       "35     PF00411                  NaN   \n",
       "36     PF00411                  NaN   \n",
       "37     PF00411                  NaN   \n",
       "38     PF01679                  NaN   \n",
       "39     PF17096                  NaN   \n",
       "40     PF03031                  NaN   \n",
       "41     PF03095                  NaN   \n",
       "42     PF02441                  NaN   \n",
       "43     PF02441                  NaN   \n",
       "44     PF04893                  NaN   \n",
       "45     PF01746                  NaN   \n",
       "46     PF12352                  NaN   \n",
       "47     PF00793                  NaN   \n",
       "48     PF00793                  NaN   \n",
       "49     PF01627                  NaN   \n",
       "50     PF01569                  NaN   \n",
       "51     PF01569                  NaN   \n",
       "52     PF10336                  NaN   \n",
       "53     PF10336                  NaN   \n",
       "54     PF17076                  NaN   \n",
       "55     PF00646                  NaN   \n",
       "\n",
       "                                 domain-description_y  \n",
       "0   HEM4; Tetrapyrrole biosynthesis, uroporphyrino...  \n",
       "1                             G-patch; G-patch domain  \n",
       "2                                               AAA_6  \n",
       "3                              NAD_kinase; NAD kinase  \n",
       "4   Endonuclease_NS; DNA/RNA non-specific endonucl...  \n",
       "5        DUF3402; Protein of unknown function DUF3402  \n",
       "6                                        Glutaredoxin  \n",
       "7                 Rbsn; Rabenosyn, Rab binding domain  \n",
       "8   Rap1_C; TRF2-interacting telomeric protein/Rap...  \n",
       "9                IKI3; Elongator complex subunit Iki3  \n",
       "10  Telomere_reg-2; Telomere length regulation pro...  \n",
       "11                                               UMP1  \n",
       "12           Nop16; Ribosome biogenesis protein Nop16  \n",
       "13               Creatinase_N; Creatinase, N-terminal  \n",
       "14                                             NUP214  \n",
       "15                                             NUP214  \n",
       "16   Diphthamide_syn; Diphthamide synthesis DPH1/DPH2  \n",
       "17        FMN_red; NADPH-dependent FMN reductase-like  \n",
       "18          Alkyl_sulf_C; Alkyl sulfatase, C-terminal  \n",
       "19    SF1-HH; Splicing factor 1, helix-hairpin domain  \n",
       "20                               DJ-1_PfpI; DJ-1/PfpI  \n",
       "21  Mcl1_mid; Minichromosome loss protein Mcl1, mi...  \n",
       "22  Sec61_beta; Protein transport protein SecG/Sec...  \n",
       "23    PAP_central; Poly(A) polymerase, central domain  \n",
       "24    PAP_central; Poly(A) polymerase, central domain  \n",
       "25                ATG11; Autophagy-related protein 11  \n",
       "26                                              Sec20  \n",
       "27                        Lysine_decarbox; LOG family  \n",
       "28  40S_S4_C; 40S ribosomal protein S4, C-terminal...  \n",
       "29             AAR2; A1 cistron-splicing factor, AAR2  \n",
       "30                                               FIN1  \n",
       "31                                               FIN1  \n",
       "32  Ribonuc_red_sm; Ribonucleotide reductase small...  \n",
       "33                          Prp31_C; Prp31 C-terminal  \n",
       "34         Ribosom_S12_S23; Ribosomal protein S12/S23  \n",
       "35             Aminotran_4; Aminotransferase class IV  \n",
       "36             Aminotran_4; Aminotransferase class IV  \n",
       "37             Aminotran_4; Aminotransferase class IV  \n",
       "38       DUF3602; Protein of unknown function DUF3602  \n",
       "39                    zf-CCCH; Zinc finger, CCCH-type  \n",
       "40                           Gcn1_N; Gcn1, N-terminal  \n",
       "41  Glucosamine_iso; Glucosamine/galactosamine-6-p...  \n",
       "42                FMN_dh; FMN-dependent dehydrogenase  \n",
       "43                FMN_dh; FMN-dependent dehydrogenase  \n",
       "44  Med22; Mediator of RNA polymerase II transcrip...  \n",
       "45                               DUF4782; VASt domain  \n",
       "46               Skp1_POZ; SKP1 component, POZ domain  \n",
       "47                                               COQ9  \n",
       "48                                               COQ9  \n",
       "49       DUF3294; Protein of unknown function DUF3294  \n",
       "50                                DUF2370; NEDD4/Bsd2  \n",
       "51                                DUF2370; NEDD4/Bsd2  \n",
       "52  Ribul_P_3_epim; Ribulose-phosphate 3-epimerase...  \n",
       "53  Ribul_P_3_epim; Ribulose-phosphate 3-epimerase...  \n",
       "54                                         zf-C3HC4_2  \n",
       "55                           CASP_C; CASP, C-terminal  "
      ]
     },
     "execution_count": 30,
     "metadata": {},
     "output_type": "execute_result"
    }
   ],
   "source": [
    "only_nsl_pd=pd.merge(repeated_features_sl,repeated_features_nsl,how='right',on=['domain-name'])\n",
    "data_only_nsl = only_nsl_pd[pd.isnull(only_nsl_pd['domain-description_x'])]\n",
    "data_only_nsl"
   ]
  },
  {
   "cell_type": "code",
   "execution_count": 31,
   "metadata": {
    "execution": {
     "iopub.execute_input": "2020-07-14T22:13:37.084167Z",
     "iopub.status.busy": "2020-07-14T22:13:37.083576Z",
     "iopub.status.idle": "2020-07-14T22:13:37.089537Z",
     "shell.execute_reply": "2020-07-14T22:13:37.088995Z"
    }
   },
   "outputs": [
    {
     "data": {
      "text/html": [
       "<div>\n",
       "<style scoped>\n",
       "    .dataframe tbody tr th:only-of-type {\n",
       "        vertical-align: middle;\n",
       "    }\n",
       "\n",
       "    .dataframe tbody tr th {\n",
       "        vertical-align: top;\n",
       "    }\n",
       "\n",
       "    .dataframe thead th {\n",
       "        text-align: right;\n",
       "    }\n",
       "</style>\n",
       "<table border=\"1\" class=\"dataframe\">\n",
       "  <thead>\n",
       "    <tr style=\"text-align: right;\">\n",
       "      <th></th>\n",
       "      <th>domain-name</th>\n",
       "      <th>domain-description_x</th>\n",
       "      <th>domain-description_y</th>\n",
       "    </tr>\n",
       "  </thead>\n",
       "  <tbody>\n",
       "  </tbody>\n",
       "</table>\n",
       "</div>"
      ],
      "text/plain": [
       "Empty DataFrame\n",
       "Columns: [domain-name, domain-description_x, domain-description_y]\n",
       "Index: []"
      ]
     },
     "execution_count": 31,
     "metadata": {},
     "output_type": "execute_result"
    }
   ],
   "source": [
    "shared_domains_pd=pd.merge(repeated_features_sl,repeated_features_nsl,how='inner',on=['domain-name'])\n",
    "shared_domains_pd\n"
   ]
  },
  {
   "cell_type": "code",
   "execution_count": 32,
   "metadata": {
    "execution": {
     "iopub.execute_input": "2020-07-14T22:13:37.101030Z",
     "iopub.status.busy": "2020-07-14T22:13:37.098508Z",
     "iopub.status.idle": "2020-07-14T22:13:38.772761Z",
     "shell.execute_reply": "2020-07-14T22:13:38.773312Z"
    }
   },
   "outputs": [
    {
     "data": {
      "text/plain": [
       "(0.0, 0.2)"
      ]
     },
     "execution_count": 32,
     "metadata": {},
     "output_type": "execute_result"
    },
    {
     "data": {
      "image/png": "[encoded data removed]",
      "text/plain": [
       "<Figure size 432x288 with 1 Axes>"
      ]
     },
     "metadata": {
      "filenames": {
       "image/png": "/home/runner/work/jupyter-book/jupyter-book/mini_book/docs/_build/jupyter_execute/prot_domains2lethality-FEATURES-POSTPROCESSING_47_1.png"
      },
      "needs_background": "light"
     },
     "output_type": "display_data"
    }
   ],
   "source": [
    "a_sl=x_sl.iloc[:,np.sort(df_sl.iloc[:,1])]\n",
    "a_sl.describe().loc['mean'].hist(bins=8),\n",
    "a_sl.describe().loc['std'].hist(bins=8,alpha=0.4)\n",
    "plt.xlim([0,0.2])"
   ]
  },
  {
   "cell_type": "code",
   "execution_count": 33,
   "metadata": {
    "execution": {
     "iopub.execute_input": "2020-07-14T22:13:38.793884Z",
     "iopub.status.busy": "2020-07-14T22:13:38.785496Z",
     "iopub.status.idle": "2020-07-14T22:13:40.571338Z",
     "shell.execute_reply": "2020-07-14T22:13:40.570811Z"
    }
   },
   "outputs": [
    {
     "data": {
      "text/plain": [
       "(0.0, 0.2)"
      ]
     },
     "execution_count": 33,
     "metadata": {},
     "output_type": "execute_result"
    },
    {
     "data": {
      "image/png": "[encoded data removed]",
      "text/plain": [
       "<Figure size 432x288 with 1 Axes>"
      ]
     },
     "metadata": {
      "filenames": {
       "image/png": "/home/runner/work/jupyter-book/jupyter-book/mini_book/docs/_build/jupyter_execute/prot_domains2lethality-FEATURES-POSTPROCESSING_48_1.png"
      },
      "needs_background": "light"
     },
     "output_type": "display_data"
    }
   ],
   "source": [
    "a_nsl=x_nsl.iloc[:,np.sort(df_nsl.iloc[:,1])]\n",
    "a_nsl.describe().loc['mean'].hist(bins=8),\n",
    "a_nsl.describe().loc['std'].hist(bins=8,alpha=0.4)\n",
    "plt.xlim([0,0.2])"
   ]
  },
  {
   "cell_type": "markdown",
   "metadata": {},
   "source": [
    "### Proof of concept with *BEM1*\n",
    "\n",
    "- Gather the domains of SL and nSL pairs from BEM1\n",
    "- Check if the domains for the SL and nSL pairs are inside the most important domains after PCA."
   ]
  },
  {
   "cell_type": "code",
   "execution_count": 34,
   "metadata": {
    "execution": {
     "iopub.execute_input": "2020-07-14T22:13:40.579377Z",
     "iopub.status.busy": "2020-07-14T22:13:40.578554Z",
     "iopub.status.idle": "2020-07-14T22:13:40.583534Z",
     "shell.execute_reply": "2020-07-14T22:13:40.582811Z"
    }
   },
   "outputs": [],
   "source": [
    "domains_bem1=data_domains[data_domains['name']=='BEM1']['domain-descrip']\n",
    "sl_bem1=data_sl[data_sl['gene-query-name']=='BEM1']['gene-target-name']"
   ]
  },
  {
   "cell_type": "code",
   "execution_count": 35,
   "metadata": {
    "execution": {
     "iopub.execute_input": "2020-07-14T22:13:40.588300Z",
     "iopub.status.busy": "2020-07-14T22:13:40.587491Z",
     "iopub.status.idle": "2020-07-14T22:13:40.593031Z",
     "shell.execute_reply": "2020-07-14T22:13:40.592556Z"
    }
   },
   "outputs": [
    {
     "data": {
      "text/plain": [
       "2846      BEM2\n",
       "2847     CDC24\n",
       "5004      MSB1\n",
       "13777     SMI1\n",
       "13778     BNI1\n",
       "13779     BEM2\n",
       "14385     SKN7\n",
       "Name: gene-target-name, dtype: object"
      ]
     },
     "execution_count": 35,
     "metadata": {},
     "output_type": "execute_result"
    }
   ],
   "source": [
    "sl_bem1"
   ]
  },
  {
   "cell_type": "code",
   "execution_count": 36,
   "metadata": {
    "execution": {
     "iopub.execute_input": "2020-07-14T22:13:40.607198Z",
     "iopub.status.busy": "2020-07-14T22:13:40.597380Z",
     "iopub.status.idle": "2020-07-14T22:13:40.611647Z",
     "shell.execute_reply": "2020-07-14T22:13:40.612127Z"
    }
   },
   "outputs": [
    {
     "data": {
      "text/html": [
       "<div>\n",
       "<style scoped>\n",
       "    .dataframe tbody tr th:only-of-type {\n",
       "        vertical-align: middle;\n",
       "    }\n",
       "\n",
       "    .dataframe tbody tr th {\n",
       "        vertical-align: top;\n",
       "    }\n",
       "\n",
       "    .dataframe thead th {\n",
       "        text-align: right;\n",
       "    }\n",
       "</style>\n",
       "<table border=\"1\" class=\"dataframe\">\n",
       "  <thead>\n",
       "    <tr style=\"text-align: right;\">\n",
       "      <th></th>\n",
       "      <th>gene-query</th>\n",
       "      <th>gene-target</th>\n",
       "      <th>gene-query-name</th>\n",
       "      <th>gene-target-name</th>\n",
       "      <th>gene-query-description</th>\n",
       "      <th>gene-target-description</th>\n",
       "      <th>interaction-type</th>\n",
       "      <th>paper-source</th>\n",
       "    </tr>\n",
       "  </thead>\n",
       "  <tbody>\n",
       "    <tr>\n",
       "      <th>2846</th>\n",
       "      <td>YBR200W</td>\n",
       "      <td>YER155C</td>\n",
       "      <td>BEM1</td>\n",
       "      <td>BEM2</td>\n",
       "      <td>SRO1|phosphatidylinositol-3-phosphate-binding ...</td>\n",
       "      <td>IPL2|SUP9|TSL1|L000000168</td>\n",
       "      <td>Synthetic Lethality</td>\n",
       "      <td>Peterson J (1994)</td>\n",
       "    </tr>\n",
       "    <tr>\n",
       "      <th>2847</th>\n",
       "      <td>YBR200W</td>\n",
       "      <td>YAL041W</td>\n",
       "      <td>BEM1</td>\n",
       "      <td>CDC24</td>\n",
       "      <td>SRO1|phosphatidylinositol-3-phosphate-binding ...</td>\n",
       "      <td>CLS4|Rho family guanine nucleotide exchange fa...</td>\n",
       "      <td>Synthetic Lethality</td>\n",
       "      <td>Peterson J (1994)</td>\n",
       "    </tr>\n",
       "    <tr>\n",
       "      <th>5004</th>\n",
       "      <td>YBR200W</td>\n",
       "      <td>YOR188W</td>\n",
       "      <td>BEM1</td>\n",
       "      <td>MSB1</td>\n",
       "      <td>SRO1|phosphatidylinositol-3-phosphate-binding ...</td>\n",
       "      <td>L000001184</td>\n",
       "      <td>Synthetic Lethality</td>\n",
       "      <td>Bender A (1991)</td>\n",
       "    </tr>\n",
       "    <tr>\n",
       "      <th>13777</th>\n",
       "      <td>YBR200W</td>\n",
       "      <td>YGR229C</td>\n",
       "      <td>BEM1</td>\n",
       "      <td>SMI1</td>\n",
       "      <td>SRO1|phosphatidylinositol-3-phosphate-binding ...</td>\n",
       "      <td>KNR4|L000000909</td>\n",
       "      <td>Synthetic Lethality</td>\n",
       "      <td>Gorelik M (2011)</td>\n",
       "    </tr>\n",
       "    <tr>\n",
       "      <th>13778</th>\n",
       "      <td>YBR200W</td>\n",
       "      <td>YNL271C</td>\n",
       "      <td>BEM1</td>\n",
       "      <td>BNI1</td>\n",
       "      <td>SRO1|phosphatidylinositol-3-phosphate-binding ...</td>\n",
       "      <td>PPF3|SHE5|formin BNI1|L000000190</td>\n",
       "      <td>Synthetic Lethality</td>\n",
       "      <td>Gorelik M (2011)</td>\n",
       "    </tr>\n",
       "    <tr>\n",
       "      <th>13779</th>\n",
       "      <td>YBR200W</td>\n",
       "      <td>YER155C</td>\n",
       "      <td>BEM1</td>\n",
       "      <td>BEM2</td>\n",
       "      <td>SRO1|phosphatidylinositol-3-phosphate-binding ...</td>\n",
       "      <td>IPL2|SUP9|TSL1|L000000168</td>\n",
       "      <td>Synthetic Lethality</td>\n",
       "      <td>Gorelik M (2011)</td>\n",
       "    </tr>\n",
       "    <tr>\n",
       "      <th>14385</th>\n",
       "      <td>YBR200W</td>\n",
       "      <td>YHR206W</td>\n",
       "      <td>BEM1</td>\n",
       "      <td>SKN7</td>\n",
       "      <td>SRO1|phosphatidylinositol-3-phosphate-binding ...</td>\n",
       "      <td>BRY1|POS9|kinase-regulated stress-responsive t...</td>\n",
       "      <td>Dosage Lethality</td>\n",
       "      <td>Bouquin N (1999)</td>\n",
       "    </tr>\n",
       "  </tbody>\n",
       "</table>\n",
       "</div>"
      ],
      "text/plain": [
       "      gene-query gene-target gene-query-name gene-target-name  \\\n",
       "2846     YBR200W     YER155C            BEM1             BEM2   \n",
       "2847     YBR200W     YAL041W            BEM1            CDC24   \n",
       "5004     YBR200W     YOR188W            BEM1             MSB1   \n",
       "13777    YBR200W     YGR229C            BEM1             SMI1   \n",
       "13778    YBR200W     YNL271C            BEM1             BNI1   \n",
       "13779    YBR200W     YER155C            BEM1             BEM2   \n",
       "14385    YBR200W     YHR206W            BEM1             SKN7   \n",
       "\n",
       "                                  gene-query-description  \\\n",
       "2846   SRO1|phosphatidylinositol-3-phosphate-binding ...   \n",
       "2847   SRO1|phosphatidylinositol-3-phosphate-binding ...   \n",
       "5004   SRO1|phosphatidylinositol-3-phosphate-binding ...   \n",
       "13777  SRO1|phosphatidylinositol-3-phosphate-binding ...   \n",
       "13778  SRO1|phosphatidylinositol-3-phosphate-binding ...   \n",
       "13779  SRO1|phosphatidylinositol-3-phosphate-binding ...   \n",
       "14385  SRO1|phosphatidylinositol-3-phosphate-binding ...   \n",
       "\n",
       "                                 gene-target-description     interaction-type  \\\n",
       "2846                           IPL2|SUP9|TSL1|L000000168  Synthetic Lethality   \n",
       "2847   CLS4|Rho family guanine nucleotide exchange fa...  Synthetic Lethality   \n",
       "5004                                          L000001184  Synthetic Lethality   \n",
       "13777                                    KNR4|L000000909  Synthetic Lethality   \n",
       "13778                   PPF3|SHE5|formin BNI1|L000000190  Synthetic Lethality   \n",
       "13779                          IPL2|SUP9|TSL1|L000000168  Synthetic Lethality   \n",
       "14385  BRY1|POS9|kinase-regulated stress-responsive t...     Dosage Lethality   \n",
       "\n",
       "            paper-source  \n",
       "2846   Peterson J (1994)  \n",
       "2847   Peterson J (1994)  \n",
       "5004     Bender A (1991)  \n",
       "13777   Gorelik M (2011)  \n",
       "13778   Gorelik M (2011)  \n",
       "13779   Gorelik M (2011)  \n",
       "14385   Bouquin N (1999)  "
      ]
     },
     "execution_count": 36,
     "metadata": {},
     "output_type": "execute_result"
    }
   ],
   "source": [
    "data_sl[data_sl['gene-query-name']=='BEM1']"
   ]
  },
  {
   "cell_type": "code",
   "execution_count": null,
   "metadata": {},
   "outputs": [],
   "source": []
  }
 ],
 "metadata": {
  "jupytext": {
   "text_representation": {
    "extension": ".md",
    "format_name": "myst"
   }
  },
  "kernelspec": {
   "display_name": "Python 3",
   "language": "python",
   "name": "python3"
  },
  "language_info": {
   "codemirror_mode": {
    "name": "ipython",
    "version": 3
   },
   "file_extension": ".py",
   "mimetype": "text/x-python",
   "name": "python",
   "nbconvert_exporter": "python",
   "pygments_lexer": "ipython3",
   "version": "3.7.6"
  },
  "source_map": [
   10,
   18,
   29,
   36,
   57,
   66,
   98,
   101,
   105,
   128,
   131,
   135,
   139,
   145,
   178,
   184,
   188,
   206,
   210,
   218,
   222,
   225,
   229,
   234,
   238,
   244,
   248,
   253,
   257,
   267,
   269,
   273,
   306,
   311,
   313,
   317,
   328,
   330,
   334,
   344,
   348,
   358,
   360,
   364,
   381,
   388,
   394,
   400,
   407,
   412,
   419,
   424,
   428,
   432
  ]
 },
 "nbformat": 4,
 "nbformat_minor": 4
}