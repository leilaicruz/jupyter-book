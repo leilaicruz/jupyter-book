{
 "cells": [
  {
   "cell_type": "markdown",
   "metadata": {},
   "source": [
    "# Feature postprocessing from paper.\n",
    "- Title:  \"Predicting yeast synthetic lethal genetic interactions using protein domains\"\n",
    "- Authors: Bo Li, Feng Luo,School of Computing,Clemson University,Clemson, SC, USA\n",
    "- e-mail: bol, luofeng@clemson.edu\n",
    "- year:2009"
   ]
  },
  {
   "cell_type": "code",
   "execution_count": 1,
   "metadata": {
    "execution": {
     "iopub.execute_input": "2020-07-14T09:36:12.761422Z",
     "iopub.status.busy": "2020-07-14T09:36:12.760857Z",
     "iopub.status.idle": "2020-07-14T09:36:13.491863Z",
     "shell.execute_reply": "2020-07-14T09:36:13.491351Z"
    }
   },
   "outputs": [],
   "source": [
    "import pandas as pd\n",
    "import numpy as np\n",
    "import matplotlib.pyplot as plt\n",
    "from collections import defaultdict \n",
    "import seaborn as sns\n",
    "import matplotlib.cm as cm\n",
    "import scipy as scipy\n",
    "import random"
   ]
  },
  {
   "cell_type": "markdown",
   "metadata": {
    "jupyter": {
     "source_hidden": true
    }
   },
   "source": [
    "### Importing datasets \n",
    "\n",
    "#### Link to the github repo where the datasets to be downloaded:\n",
    "[DOWNLOAD THE DATASETS HERE](https://github.com/leilaicruz/machine-learning-for-yeast/tree/dev_Leila/datasets-for-learning)"
   ]
  },
  {
   "cell_type": "code",
   "execution_count": 2,
   "metadata": {
    "execution": {
     "iopub.execute_input": "2020-07-14T09:36:13.498634Z",
     "iopub.status.busy": "2020-07-14T09:36:13.498089Z",
     "iopub.status.idle": "2020-07-14T09:36:21.301199Z",
     "shell.execute_reply": "2020-07-14T09:36:21.300500Z"
    }
   },
   "outputs": [],
   "source": [
    "import os\n",
    "script_dir = os.path.dirname('__file__') #<-- absolute dir the script is in\n",
    "rel_path_SL = \"datasets/data-synthetic-lethals.xlsx\"\n",
    "rel_path_nSL=\"datasets/data-positive-genetic.xlsx\"\n",
    "rel_path_domains=\"datasets/proteins-domains-from-Pfam.xlsx\"\n",
    "\n",
    "abs_file_path_SL = os.path.join(script_dir, rel_path_SL)\n",
    "abs_file_path_nSL = os.path.join(script_dir, rel_path_nSL)\n",
    "abs_file_path_domains = os.path.join(script_dir, rel_path_domains)\n",
    "\n",
    "# os.chdir('mini_book/docs/') #<-- for binder os.chdir('../')\n",
    "# os.chdir('../')\n",
    "my_path_sl= abs_file_path_SL\n",
    "my_path_non_sl=abs_file_path_nSL\n",
    "my_path_domains=abs_file_path_domains\n",
    "\n",
    "data_sl=pd.read_excel(my_path_sl,header=0)\n",
    "data_domains=pd.read_excel(my_path_domains,header=0,index_col='Unnamed: 0')\n",
    "data_domains=data_domains.dropna()\n",
    "data_nonsl=pd.read_excel(my_path_non_sl,header=0)"
   ]
  },
  {
   "cell_type": "markdown",
   "metadata": {},
   "source": [
    "## Building the feature matrix\n",
    "One matrix for true SL where each row is one pair of SL. Every raw will be a vector of 0,1 or 2 depending on the comparison with the domain list. For row i the jth element = 0 if the jth element of the domain list is not in neither protein A and B, 1, if it is in one of them and 2 if it is in both of them .\n",
    "\n",
    "### Building the list of proteins domains id per protein pair separately :\n",
    "- List of protein A: Search for the Sl/nSL database the query gene name and look in the protein domain database which protein domains id has each of those queries.\n",
    "- List of protein B: Search for the Sl/nSL database the target gene name of the previous query and look in the protein domain database which protein domains id has each of those target genes."
   ]
  },
  {
   "cell_type": "code",
   "execution_count": 3,
   "metadata": {
    "execution": {
     "iopub.execute_input": "2020-07-14T09:36:21.317203Z",
     "iopub.status.busy": "2020-07-14T09:36:21.316648Z",
     "iopub.status.idle": "2020-07-14T09:36:23.454224Z",
     "shell.execute_reply": "2020-07-14T09:36:23.453256Z"
    }
   },
   "outputs": [],
   "source": [
    "# Selecting the meaningful columns in the respective dataset\n",
    "domain_id_list=data_domains['domain-name']\n",
    "query_gene=data_sl['gene-query-name']\n",
    "target_gene=data_sl['gene-target-name']\n",
    "query_gene_nonlethal=data_nonsl['gene-query-name']\n",
    "target_gene_nonlethal=data_nonsl['gene-target-name']\n",
    "\n",
    "\n",
    "\n",
    "# Initialising the arrays\n",
    "protein_a_list=[]\n",
    "protein_b_list=[]\n",
    "protein_a_list_non=[]\n",
    "protein_b_list_non=[]\n",
    "\n",
    "population = np.arange(0,len(data_sl))\n",
    "\n",
    "# For loop for 10000 pairs sampled randomly from the SL/nSl pair list , and creating a big array of proteind domains id per protein pair\n",
    "\n",
    "for m in random.sample(list(population), 500):\n",
    "    protein_a=data_domains[data_domains['name']==query_gene[m]]\n",
    "    protein_b=data_domains[data_domains['name']==target_gene[m]]\n",
    "    protein_a_list.append(protein_a['domain-name'].tolist())\n",
    "    protein_b_list.append(protein_b['domain-name'].tolist())\n",
    "\n",
    "    protein_a_non=data_domains[data_domains['name']==query_gene_nonlethal[m]]\n",
    "    protein_b_non=data_domains[data_domains['name']==target_gene_nonlethal[m]]\n",
    "    protein_a_list_non.append(protein_a_non['domain-name'].tolist())\n",
    "    protein_b_list_non.append(protein_b_non['domain-name'].tolist())"
   ]
  },
  {
   "cell_type": "code",
   "execution_count": 4,
   "metadata": {
    "execution": {
     "iopub.execute_input": "2020-07-14T09:36:23.459489Z",
     "iopub.status.busy": "2020-07-14T09:36:23.458959Z",
     "iopub.status.idle": "2020-07-14T09:36:23.463997Z",
     "shell.execute_reply": "2020-07-14T09:36:23.463106Z"
    }
   },
   "outputs": [
    {
     "name": "stdout",
     "output_type": "stream",
     "text": [
      "We are going to analyze 500 protein pairs, out of 17871 SL protein pairs\n",
      "We are going to analyze 500 protein pairs, out of 43340 positive protein pairs\n"
     ]
    }
   ],
   "source": [
    "print('We are going to analyze',len((protein_a_list)) ,'protein pairs, out of',len(data_sl),'SL protein pairs')\n",
    "print('We are going to analyze',len((protein_a_list_non)) ,'protein pairs, out of',len(data_nonsl),'positive protein pairs')"
   ]
  },
  {
   "cell_type": "markdown",
   "metadata": {},
   "source": [
    "### Postprocessing #1:  Remove protein pairs from study if either protein in the pair does not contain any domain"
   ]
  },
  {
   "cell_type": "code",
   "execution_count": 5,
   "metadata": {
    "execution": {
     "iopub.execute_input": "2020-07-14T09:36:23.473506Z",
     "iopub.status.busy": "2020-07-14T09:36:23.472980Z",
     "iopub.status.idle": "2020-07-14T09:36:23.476480Z",
     "shell.execute_reply": "2020-07-14T09:36:23.476037Z"
    }
   },
   "outputs": [],
   "source": [
    "def remove_empty_domains(protein_list_search,protein_list_pair):\n",
    "    index=[]\n",
    "    for i in np.arange(0,len(protein_list_search)):\n",
    "        if protein_list_search[i]==[] or protein_list_pair[i]==[]:\n",
    "            index.append(i) ## index of empty values for the protein_a_list meaning they dont have any annotated domain\n",
    "\n",
    "    y=[x for x in np.arange(0,len(protein_list_search)) if x not in index] # a list with non empty values from protein_a list\n",
    "\n",
    "    protein_list_search_new=[]\n",
    "    protein_list_pair_new=[]\n",
    "    for i in y:\n",
    "        protein_list_search_new.append(protein_list_search[i])\n",
    "        protein_list_pair_new.append(protein_list_pair[i])\n",
    "    return protein_list_search_new,protein_list_pair_new\n",
    "\n",
    "## evaluating the function\n",
    "\n",
    "protein_a_list_new,protein_b_list_new=remove_empty_domains(protein_a_list,protein_b_list)\n",
    "\n",
    "protein_a_list_non_new,protein_b_list_non_new=remove_empty_domains(protein_a_list_non,protein_b_list_non)"
   ]
  },
  {
   "cell_type": "code",
   "execution_count": 6,
   "metadata": {
    "execution": {
     "iopub.execute_input": "2020-07-14T09:36:23.481031Z",
     "iopub.status.busy": "2020-07-14T09:36:23.480520Z",
     "iopub.status.idle": "2020-07-14T09:36:23.484098Z",
     "shell.execute_reply": "2020-07-14T09:36:23.484516Z"
    }
   },
   "outputs": [
    {
     "name": "stdout",
     "output_type": "stream",
     "text": [
      "The empty domain in the SL were: 73 out of 500 domains\n",
      "The empty domain in the nSL were: 84 out of 500 domains\n"
     ]
    }
   ],
   "source": [
    "print('The empty domain in the SL were:', len(protein_a_list)-len(protein_a_list_new), 'out of', len(protein_a_list),'domains')\n",
    "print('The empty domain in the nSL were:', len(protein_a_list_non)-len(protein_a_list_non_new), 'out of', len(protein_a_list_non),'domains')"
   ]
  },
  {
   "cell_type": "markdown",
   "metadata": {},
   "source": [
    "### Feature engineering: Select from each ordered indexes of domain id list which of them appear once, in both or in any of the domains of each protein pair"
   ]
  },
  {
   "cell_type": "markdown",
   "metadata": {},
   "source": [
    "#### Define function `get_indexes`"
   ]
  },
  {
   "cell_type": "code",
   "execution_count": 7,
   "metadata": {
    "execution": {
     "iopub.execute_input": "2020-07-14T09:36:23.490975Z",
     "iopub.status.busy": "2020-07-14T09:36:23.490446Z",
     "iopub.status.idle": "2020-07-14T09:36:23.495433Z",
     "shell.execute_reply": "2020-07-14T09:36:23.494976Z"
    }
   },
   "outputs": [
    {
     "data": {
      "text/plain": [
       "[1, 2]"
      ]
     },
     "execution_count": 7,
     "metadata": {},
     "output_type": "execute_result"
    }
   ],
   "source": [
    "get_indexes = lambda x, xs: [i for (y, i) in zip(xs, range(len(xs))) if x == y] # a function that give the index of whether a value appear in array or not\n",
    "a=[1,2,2,4,5,6,7,8,9,10]\n",
    "get_indexes(2,a)"
   ]
  },
  {
   "cell_type": "code",
   "execution_count": 8,
   "metadata": {
    "execution": {
     "iopub.execute_input": "2020-07-14T09:36:23.503521Z",
     "iopub.status.busy": "2020-07-14T09:36:23.502713Z",
     "iopub.status.idle": "2020-07-14T09:36:23.506107Z",
     "shell.execute_reply": "2020-07-14T09:36:23.506502Z"
    }
   },
   "outputs": [],
   "source": [
    "def feature_building(protein_a_list_new,protein_b_list_new):\n",
    "    x = np.unique(domain_id_list)\n",
    "    ## To avoid taking repeated domains from one protein of the pairs , lets reduced the domains of each protein from the pairs to their unique members\n",
    "    protein_a_list_unique=[]\n",
    "    protein_b_list_unique=[]\n",
    "    for i in np.arange(0,len(protein_a_list_new)):\n",
    "        protein_a_list_unique.append(np.unique(protein_a_list_new[i]))\n",
    "        protein_b_list_unique.append(np.unique(protein_b_list_new[i]))\n",
    "        \n",
    "    protein_feat_true=np.zeros(shape=(len(x),len(protein_a_list_unique)))\n",
    "    pair_a_b_array=[]\n",
    "    for i in np.arange(0,len(protein_a_list_unique)):\n",
    "        index_a=[]\n",
    "        \n",
    "        pair=[protein_a_list_unique[i],protein_b_list_unique[i]]\n",
    "        pair_a_b=np.concatenate(pair).ravel()\n",
    "        pair_a_b_array.append(pair_a_b)\n",
    "\n",
    "    j=0\n",
    "    for i in pair_a_b_array:  \n",
    "        array,index,counts=np.unique(i,return_index=True,return_counts=True)\n",
    "        \n",
    "        for k,m in zip(counts,array):\n",
    "            if k ==2:\n",
    "                protein_feat_true[get_indexes(m,x),j]=2\n",
    "                \n",
    "            if k==1:\n",
    "                protein_feat_true[get_indexes(m,x),j]=1\n",
    "        j=j+1\n",
    "    return protein_feat_true"
   ]
  },
  {
   "cell_type": "code",
   "execution_count": 9,
   "metadata": {
    "execution": {
     "iopub.execute_input": "2020-07-14T09:36:23.515467Z",
     "iopub.status.busy": "2020-07-14T09:36:23.514672Z",
     "iopub.status.idle": "2020-07-14T09:36:24.200693Z",
     "shell.execute_reply": "2020-07-14T09:36:24.199678Z"
    }
   },
   "outputs": [],
   "source": [
    "protein_feat_true=feature_building(protein_b_list_new=protein_b_list_new,protein_a_list_new=protein_a_list_new)\n",
    "protein_feat_true_pd=pd.DataFrame(protein_feat_true.T)\n",
    "\n",
    "protein_feat_non_true=feature_building(protein_b_list_new=protein_b_list_non_new,protein_a_list_new=protein_a_list_non_new)\n",
    "protein_feat_non_true_pd=pd.DataFrame(protein_feat_non_true.T)"
   ]
  },
  {
   "cell_type": "markdown",
   "metadata": {},
   "source": [
    "### How many ones and twos are in each dataset"
   ]
  },
  {
   "cell_type": "code",
   "execution_count": 10,
   "metadata": {
    "execution": {
     "iopub.execute_input": "2020-07-14T09:36:24.208398Z",
     "iopub.status.busy": "2020-07-14T09:36:24.207252Z",
     "iopub.status.idle": "2020-07-14T09:36:24.311165Z",
     "shell.execute_reply": "2020-07-14T09:36:24.310271Z"
    }
   },
   "outputs": [
    {
     "name": "stdout",
     "output_type": "stream",
     "text": [
      "fraction of twos in the SL array is 2.8644976484022685e-05\n",
      "fraction of ones in the SL array is 0.0010172837594596164\n",
      "fraction of twos in the PI array is 8.741258741258741e-06\n",
      "fraction of ones in the PI array is 0.0008852511125238398\n"
     ]
    }
   ],
   "source": [
    "index_2_true=protein_feat_true_pd.where(protein_feat_true_pd==2)\n",
    "index_2_true_count=index_2_true.count(axis=1).sum()\n",
    "\n",
    "index_1_true=protein_feat_true_pd.where(protein_feat_true_pd==1)\n",
    "index_1_true_count=index_1_true.count(axis=1).sum()\n",
    "\n",
    "index_2_nontrue=protein_feat_non_true_pd.where(protein_feat_non_true_pd==2)\n",
    "index_2_nontrue_count=index_2_nontrue.count(axis=1).sum()\n",
    "\n",
    "index_1_nontrue=protein_feat_non_true_pd.where(protein_feat_non_true_pd==1)\n",
    "index_1_nontrue_count=index_1_nontrue.count(axis=1).sum()\n",
    "\n",
    "\n",
    "print('fraction of twos in the SL array is',index_2_true_count/(len(protein_feat_true_pd.index)*len(protein_feat_true_pd.columns)))\n",
    "print('fraction of ones in the SL array is',index_1_true_count/(len(protein_feat_true_pd.index)*len(protein_feat_true_pd.columns)))\n",
    "print('fraction of twos in the PI array is',index_2_nontrue_count/(len(protein_feat_non_true_pd.index)*len(protein_feat_non_true_pd.columns)))\n",
    "print('fraction of ones in the PI array is',index_1_nontrue_count/(len(protein_feat_non_true_pd.index)*len(protein_feat_non_true_pd.columns)))"
   ]
  },
  {
   "cell_type": "markdown",
   "metadata": {},
   "source": [
    "#### Bar plot to visualize these numbers"
   ]
  },
  {
   "cell_type": "code",
   "execution_count": 11,
   "metadata": {
    "execution": {
     "iopub.execute_input": "2020-07-14T09:36:24.328000Z",
     "iopub.status.busy": "2020-07-14T09:36:24.326556Z",
     "iopub.status.idle": "2020-07-14T09:36:24.693843Z",
     "shell.execute_reply": "2020-07-14T09:36:24.694427Z"
    }
   },
   "outputs": [
    {
     "data": {
      "text/plain": [
       "([0, 1, 2, 3], <a list of 4 Text major ticklabel objects>)"
      ]
     },
     "execution_count": 11,
     "metadata": {},
     "output_type": "execute_result"
    },
    {
     "data": {
      "image/png": "[encoded data removed]",
      "text/plain": [
       "<Figure size 432x288 with 1 Axes>"
      ]
     },
     "metadata": {
      "filenames": {
       "image/png": "/home/runner/work/jupyter-book/jupyter-book/mini_book/docs/_build/jupyter_execute/prot_domains2lethality-FEATURES-POSTPROCESSING_18_1.png"
      },
      "needs_background": "light"
     },
     "output_type": "display_data"
    }
   ],
   "source": [
    "plt.bar(['fraction of 2 in the nSL','fraction of 1 in the nSL'],[index_2_nontrue_count/(len(protein_feat_non_true_pd.index)*len(protein_feat_non_true_pd.columns)),index_1_nontrue_count/(len(protein_feat_non_true_pd.index)*len(protein_feat_non_true_pd.columns))],alpha=0.6,color=['blue','lightblue']), \n",
    "\n",
    "plt.bar(['fraction of 2 in SL ','fraction of 1 in SL'],[index_2_true_count/(len(protein_feat_true_pd.index)*len(protein_feat_true_pd.columns)),index_1_true_count/(len(protein_feat_true_pd.index)*len(protein_feat_true_pd.columns))],alpha=0.6,color=['coral','lightcoral'])\n",
    "\n",
    "plt.ylabel('Fraction from the population')\n",
    "plt.yscale('log')\n",
    "plt.xticks(rotation=40)"
   ]
  },
  {
   "cell_type": "markdown",
   "metadata": {},
   "source": [
    "#### Adding the labels(response variables) to each dataset"
   ]
  },
  {
   "cell_type": "code",
   "execution_count": 12,
   "metadata": {
    "execution": {
     "iopub.execute_input": "2020-07-14T09:36:24.699392Z",
     "iopub.status.busy": "2020-07-14T09:36:24.698390Z",
     "iopub.status.idle": "2020-07-14T09:36:24.703784Z",
     "shell.execute_reply": "2020-07-14T09:36:24.702928Z"
    }
   },
   "outputs": [],
   "source": [
    "protein_feat_true_pd['lethality']=np.ones(shape=(len(protein_a_list_new)))\n",
    "protein_feat_non_true_pd['lethality']=np.zeros(shape=(len(protein_a_list_non_new)))"
   ]
  },
  {
   "cell_type": "markdown",
   "metadata": {},
   "source": [
    "#### Joining both datasets"
   ]
  },
  {
   "cell_type": "code",
   "execution_count": 13,
   "metadata": {
    "execution": {
     "iopub.execute_input": "2020-07-14T09:36:24.708682Z",
     "iopub.status.busy": "2020-07-14T09:36:24.708169Z",
     "iopub.status.idle": "2020-07-14T09:36:24.749715Z",
     "shell.execute_reply": "2020-07-14T09:36:24.749186Z"
    }
   },
   "outputs": [
    {
     "name": "stdout",
     "output_type": "stream",
     "text": [
      "The number of features are: 3026\n",
      "The number of samples are: 843\n"
     ]
    }
   ],
   "source": [
    "feature_post=pd.concat([protein_feat_true_pd,protein_feat_non_true_pd],axis=0)\n",
    "feature_post=feature_post.set_index(np.arange(0,len(protein_a_list_new)+len(protein_a_list_non_new)))\n",
    "print('The number of features are:',feature_post.shape[1])\n",
    "print('The number of samples are:',feature_post.shape[0])"
   ]
  },
  {
   "cell_type": "markdown",
   "metadata": {},
   "source": [
    "### Postprocessing and exploration of the feature matrix of both datasets"
   ]
  },
  {
   "cell_type": "code",
   "execution_count": 14,
   "metadata": {
    "execution": {
     "iopub.execute_input": "2020-07-14T09:36:24.766498Z",
     "iopub.status.busy": "2020-07-14T09:36:24.755881Z",
     "iopub.status.idle": "2020-07-14T09:36:28.875070Z",
     "shell.execute_reply": "2020-07-14T09:36:28.874054Z"
    }
   },
   "outputs": [],
   "source": [
    "mean=feature_post.T.describe().loc['mean']\n",
    "std=feature_post.T.describe().loc['std']\n",
    "lethality=feature_post['lethality']\n",
    "\n",
    "corr_keys=pd.concat([mean,std,lethality],axis=1)"
   ]
  },
  {
   "cell_type": "markdown",
   "metadata": {},
   "source": [
    "### Viz of the stats"
   ]
  },
  {
   "cell_type": "code",
   "execution_count": 15,
   "metadata": {
    "execution": {
     "iopub.execute_input": "2020-07-14T09:36:28.885099Z",
     "iopub.status.busy": "2020-07-14T09:36:28.883339Z",
     "iopub.status.idle": "2020-07-14T09:36:30.425559Z",
     "shell.execute_reply": "2020-07-14T09:36:30.425993Z"
    }
   },
   "outputs": [
    {
     "data": {
      "text/plain": [
       "Text(0.5, 1.08, 'Pairplot to see data dependencies with Lethality')"
      ]
     },
     "execution_count": 15,
     "metadata": {},
     "output_type": "execute_result"
    },
    {
     "data": {
      "image/png": "[encoded data removed]",
      "text/plain": [
       "<Figure size 412x360 with 6 Axes>"
      ]
     },
     "metadata": {
      "filenames": {
       "image/png": "/home/runner/work/jupyter-book/jupyter-book/mini_book/docs/_build/jupyter_execute/prot_domains2lethality-FEATURES-POSTPROCESSING_26_1.png"
      },
      "needs_background": "light"
     },
     "output_type": "display_data"
    }
   ],
   "source": [
    "pair=sns.pairplot(corr_keys,hue='lethality',diag_kind='kde',kind='reg',palette='colorblind')\n",
    "pair.fig.suptitle('Pairplot to see data dependencies with Lethality',y=1.08)"
   ]
  },
  {
   "cell_type": "code",
   "execution_count": 16,
   "metadata": {
    "execution": {
     "iopub.execute_input": "2020-07-14T09:36:30.436637Z",
     "iopub.status.busy": "2020-07-14T09:36:30.436090Z",
     "iopub.status.idle": "2020-07-14T09:36:30.438563Z",
     "shell.execute_reply": "2020-07-14T09:36:30.438139Z"
    }
   },
   "outputs": [],
   "source": [
    "X, y = feature_post.drop(columns=[\"lethality\"]), feature_post[\"lethality\"]"
   ]
  },
  {
   "cell_type": "code",
   "execution_count": 17,
   "metadata": {
    "execution": {
     "iopub.execute_input": "2020-07-14T09:36:30.443029Z",
     "iopub.status.busy": "2020-07-14T09:36:30.442503Z",
     "iopub.status.idle": "2020-07-14T09:36:30.601664Z",
     "shell.execute_reply": "2020-07-14T09:36:30.601199Z"
    }
   },
   "outputs": [],
   "source": [
    "from sklearn.preprocessing import StandardScaler\n",
    "scaler = StandardScaler()\n",
    "x_sl=protein_feat_true_pd.drop(columns=['lethality'])\n",
    "x_nsl=protein_feat_non_true_pd.drop(columns=['lethality'])\n",
    "\n",
    "X_sl_scaled = scaler.fit_transform(x_sl)\n",
    "X_nsl_scaled = scaler.fit_transform(x_nsl)"
   ]
  },
  {
   "cell_type": "code",
   "execution_count": 18,
   "metadata": {
    "execution": {
     "iopub.execute_input": "2020-07-14T09:36:30.607188Z",
     "iopub.status.busy": "2020-07-14T09:36:30.606117Z",
     "iopub.status.idle": "2020-07-14T09:36:30.610928Z",
     "shell.execute_reply": "2020-07-14T09:36:30.610461Z"
    }
   },
   "outputs": [
    {
     "data": {
      "text/plain": [
       "(427, 3025)"
      ]
     },
     "execution_count": 18,
     "metadata": {},
     "output_type": "execute_result"
    }
   ],
   "source": [
    "np.shape(X_sl_scaled)"
   ]
  },
  {
   "cell_type": "markdown",
   "metadata": {},
   "source": [
    "## How redundant are each of the protein domains?"
   ]
  },
  {
   "cell_type": "code",
   "execution_count": 19,
   "metadata": {
    "execution": {
     "iopub.execute_input": "2020-07-14T09:36:30.619246Z",
     "iopub.status.busy": "2020-07-14T09:36:30.617917Z",
     "iopub.status.idle": "2020-07-14T09:36:30.619908Z",
     "shell.execute_reply": "2020-07-14T09:36:30.620383Z"
    }
   },
   "outputs": [],
   "source": [
    "def PCA_component_contribution(scaled_matrix,original_data):\n",
    "    from sklearn.decomposition import PCA\n",
    "\n",
    "    model = PCA(0.95).fit(scaled_matrix)\n",
    "    ## apply dimensionality reduction to X_train\n",
    "    output_pca = model.transform(scaled_matrix)\n",
    "    \n",
    "    total=sum(model.explained_variance_)\n",
    "\n",
    "\n",
    "   \n",
    "    # number of components , that it will be the number of main axes times the number of original components \n",
    "    n_pcs= model.components_.shape[0] # the amount of non redundant protein domains \n",
    "\n",
    "    # get the index of the most important feature on EACH component\n",
    "    # LIST COMPREHENSION HERE\n",
    "    most_important = [np.abs(model.components_[i]).argmax() for i in range(n_pcs)]\n",
    "\n",
    "    initial_feature_names = original_data.columns\n",
    "    # get the names\n",
    "    most_important_names = [initial_feature_names[most_important[i]] for i in range(n_pcs)]\n",
    "    \n",
    "\n",
    "    # LIST COMPREHENSION HERE AGAIN\n",
    "    dic = {'PC{}'.format(i): most_important_names[i] for i in range(n_pcs)}\n",
    "\n",
    "    # build the dataframe\n",
    "    df = pd.DataFrame(dic.items(),columns=['pca-component','domain-number'])\n",
    "\n",
    "    return df,model.components_"
   ]
  },
  {
   "cell_type": "code",
   "execution_count": 20,
   "metadata": {
    "execution": {
     "iopub.execute_input": "2020-07-14T09:36:30.624150Z",
     "iopub.status.busy": "2020-07-14T09:36:30.623586Z",
     "iopub.status.idle": "2020-07-14T09:36:31.285584Z",
     "shell.execute_reply": "2020-07-14T09:36:31.286405Z"
    }
   },
   "outputs": [],
   "source": [
    "df_sl,components_pca_nsl=PCA_component_contribution(X_nsl_scaled,x_nsl)\n",
    "df_nsl,components_pca_sl=PCA_component_contribution(X_sl_scaled,x_sl)"
   ]
  },
  {
   "cell_type": "code",
   "execution_count": 21,
   "metadata": {
    "execution": {
     "iopub.execute_input": "2020-07-14T09:36:31.289684Z",
     "iopub.status.busy": "2020-07-14T09:36:31.288646Z",
     "iopub.status.idle": "2020-07-14T09:36:31.299328Z",
     "shell.execute_reply": "2020-07-14T09:36:31.300121Z"
    }
   },
   "outputs": [
    {
     "data": {
      "text/html": [
       "<div>\n",
       "<style scoped>\n",
       "    .dataframe tbody tr th:only-of-type {\n",
       "        vertical-align: middle;\n",
       "    }\n",
       "\n",
       "    .dataframe tbody tr th {\n",
       "        vertical-align: top;\n",
       "    }\n",
       "\n",
       "    .dataframe thead th {\n",
       "        text-align: right;\n",
       "    }\n",
       "</style>\n",
       "<table border=\"1\" class=\"dataframe\">\n",
       "  <thead>\n",
       "    <tr style=\"text-align: right;\">\n",
       "      <th></th>\n",
       "      <th>pca-component</th>\n",
       "      <th>domain-number</th>\n",
       "    </tr>\n",
       "  </thead>\n",
       "  <tbody>\n",
       "    <tr>\n",
       "      <th>0</th>\n",
       "      <td>PC0</td>\n",
       "      <td>135</td>\n",
       "    </tr>\n",
       "    <tr>\n",
       "      <th>1</th>\n",
       "      <td>PC1</td>\n",
       "      <td>687</td>\n",
       "    </tr>\n",
       "    <tr>\n",
       "      <th>2</th>\n",
       "      <td>PC2</td>\n",
       "      <td>341</td>\n",
       "    </tr>\n",
       "    <tr>\n",
       "      <th>3</th>\n",
       "      <td>PC3</td>\n",
       "      <td>1354</td>\n",
       "    </tr>\n",
       "    <tr>\n",
       "      <th>4</th>\n",
       "      <td>PC4</td>\n",
       "      <td>858</td>\n",
       "    </tr>\n",
       "  </tbody>\n",
       "</table>\n",
       "</div>"
      ],
      "text/plain": [
       "  pca-component  domain-number\n",
       "0           PC0            135\n",
       "1           PC1            687\n",
       "2           PC2            341\n",
       "3           PC3           1354\n",
       "4           PC4            858"
      ]
     },
     "execution_count": 21,
     "metadata": {},
     "output_type": "execute_result"
    }
   ],
   "source": [
    "df_sl.head()"
   ]
  },
  {
   "cell_type": "markdown",
   "metadata": {},
   "source": [
    "## which are the shared domains between nSL and SL pairs , in the PCA reduced samples"
   ]
  },
  {
   "cell_type": "code",
   "execution_count": 22,
   "metadata": {
    "execution": {
     "iopub.execute_input": "2020-07-14T09:36:31.303607Z",
     "iopub.status.busy": "2020-07-14T09:36:31.302412Z",
     "iopub.status.idle": "2020-07-14T09:36:31.338289Z",
     "shell.execute_reply": "2020-07-14T09:36:31.339045Z"
    }
   },
   "outputs": [
    {
     "data": {
      "text/html": [
       "<div>\n",
       "<style scoped>\n",
       "    .dataframe tbody tr th:only-of-type {\n",
       "        vertical-align: middle;\n",
       "    }\n",
       "\n",
       "    .dataframe tbody tr th {\n",
       "        vertical-align: top;\n",
       "    }\n",
       "\n",
       "    .dataframe thead th {\n",
       "        text-align: right;\n",
       "    }\n",
       "</style>\n",
       "<table border=\"1\" class=\"dataframe\">\n",
       "  <thead>\n",
       "    <tr style=\"text-align: right;\">\n",
       "      <th></th>\n",
       "      <th>pca-component_x</th>\n",
       "      <th>domain-number</th>\n",
       "      <th>pca-component_y</th>\n",
       "      <th>domain-description</th>\n",
       "    </tr>\n",
       "  </thead>\n",
       "  <tbody>\n",
       "    <tr>\n",
       "      <th>0</th>\n",
       "      <td>PC4</td>\n",
       "      <td>858</td>\n",
       "      <td>PC2</td>\n",
       "      <td>F420_oxidored; Pyrroline-5-carboxylate reducta...</td>\n",
       "    </tr>\n",
       "    <tr>\n",
       "      <th>1</th>\n",
       "      <td>PC11</td>\n",
       "      <td>1677</td>\n",
       "      <td>PC64</td>\n",
       "      <td>Ost5; Oligosaccharyltransferase complex subunit</td>\n",
       "    </tr>\n",
       "    <tr>\n",
       "      <th>2</th>\n",
       "      <td>PC50</td>\n",
       "      <td>983</td>\n",
       "      <td>PC82</td>\n",
       "      <td>GHMP_kinases_N; GHMP kinase N-terminal domain</td>\n",
       "    </tr>\n",
       "    <tr>\n",
       "      <th>3</th>\n",
       "      <td>PC50</td>\n",
       "      <td>983</td>\n",
       "      <td>PC83</td>\n",
       "      <td>GHMP_kinases_N; GHMP kinase N-terminal domain</td>\n",
       "    </tr>\n",
       "    <tr>\n",
       "      <th>4</th>\n",
       "      <td>PC59</td>\n",
       "      <td>161</td>\n",
       "      <td>PC71</td>\n",
       "      <td>Acyl-CoA_ox_N; Acyl-coenzyme A oxidase, N-term...</td>\n",
       "    </tr>\n",
       "    <tr>\n",
       "      <th>5</th>\n",
       "      <td>PC61</td>\n",
       "      <td>747</td>\n",
       "      <td>PC73</td>\n",
       "      <td>Dak1; DhaK domain</td>\n",
       "    </tr>\n",
       "    <tr>\n",
       "      <th>6</th>\n",
       "      <td>PC61</td>\n",
       "      <td>747</td>\n",
       "      <td>PC74</td>\n",
       "      <td>Dak1; DhaK domain</td>\n",
       "    </tr>\n",
       "    <tr>\n",
       "      <th>7</th>\n",
       "      <td>PC65</td>\n",
       "      <td>1041</td>\n",
       "      <td>PC94</td>\n",
       "      <td>Glutaredoxin</td>\n",
       "    </tr>\n",
       "    <tr>\n",
       "      <th>8</th>\n",
       "      <td>PC68</td>\n",
       "      <td>1253</td>\n",
       "      <td>PC87</td>\n",
       "      <td>KA1; Kinase associated domain 1 (KA1)</td>\n",
       "    </tr>\n",
       "    <tr>\n",
       "      <th>9</th>\n",
       "      <td>PC69</td>\n",
       "      <td>1253</td>\n",
       "      <td>PC87</td>\n",
       "      <td>KA1; Kinase associated domain 1 (KA1)</td>\n",
       "    </tr>\n",
       "    <tr>\n",
       "      <th>10</th>\n",
       "      <td>PC70</td>\n",
       "      <td>51</td>\n",
       "      <td>PC197</td>\n",
       "      <td>AD; Anticodon-binding domain</td>\n",
       "    </tr>\n",
       "    <tr>\n",
       "      <th>11</th>\n",
       "      <td>PC77</td>\n",
       "      <td>2007</td>\n",
       "      <td>PC41</td>\n",
       "      <td>RNA_pol_L_2; DNA-directed RNA polymerase, RBP1...</td>\n",
       "    </tr>\n",
       "    <tr>\n",
       "      <th>12</th>\n",
       "      <td>PC81</td>\n",
       "      <td>444</td>\n",
       "      <td>PC45</td>\n",
       "      <td>Carn_acyltransf; Acyltransferase ChoActase/COT...</td>\n",
       "    </tr>\n",
       "    <tr>\n",
       "      <th>13</th>\n",
       "      <td>PC90</td>\n",
       "      <td>28</td>\n",
       "      <td>PC120</td>\n",
       "      <td>AAA_9</td>\n",
       "    </tr>\n",
       "    <tr>\n",
       "      <th>14</th>\n",
       "      <td>PC108</td>\n",
       "      <td>4</td>\n",
       "      <td>PC200</td>\n",
       "      <td>2-oxoacid_dh; 2-oxoacid dehydrogenase acyltran...</td>\n",
       "    </tr>\n",
       "    <tr>\n",
       "      <th>15</th>\n",
       "      <td>PC108</td>\n",
       "      <td>4</td>\n",
       "      <td>PC201</td>\n",
       "      <td>2-oxoacid_dh; 2-oxoacid dehydrogenase acyltran...</td>\n",
       "    </tr>\n",
       "    <tr>\n",
       "      <th>16</th>\n",
       "      <td>PC109</td>\n",
       "      <td>1114</td>\n",
       "      <td>PC117</td>\n",
       "      <td>HHH_5</td>\n",
       "    </tr>\n",
       "    <tr>\n",
       "      <th>17</th>\n",
       "      <td>PC110</td>\n",
       "      <td>760</td>\n",
       "      <td>PC52</td>\n",
       "      <td>Dopey_N; Dopey, N-terminal</td>\n",
       "    </tr>\n",
       "    <tr>\n",
       "      <th>18</th>\n",
       "      <td>PC118</td>\n",
       "      <td>1803</td>\n",
       "      <td>PC102</td>\n",
       "      <td>PPP5; PPP domain</td>\n",
       "    </tr>\n",
       "    <tr>\n",
       "      <th>19</th>\n",
       "      <td>PC127</td>\n",
       "      <td>156</td>\n",
       "      <td>PC253</td>\n",
       "      <td>Acetyltransf_1; GNAT domain</td>\n",
       "    </tr>\n",
       "    <tr>\n",
       "      <th>20</th>\n",
       "      <td>PC137</td>\n",
       "      <td>1903</td>\n",
       "      <td>PC55</td>\n",
       "      <td>Pex2_Pex12; Pex, N-terminal</td>\n",
       "    </tr>\n",
       "    <tr>\n",
       "      <th>21</th>\n",
       "      <td>PC140</td>\n",
       "      <td>376</td>\n",
       "      <td>PC8</td>\n",
       "      <td>COG2; Conserved oligomeric Golgi complex, subu...</td>\n",
       "    </tr>\n",
       "    <tr>\n",
       "      <th>22</th>\n",
       "      <td>PC146</td>\n",
       "      <td>934</td>\n",
       "      <td>PC204</td>\n",
       "      <td>Folliculin</td>\n",
       "    </tr>\n",
       "    <tr>\n",
       "      <th>23</th>\n",
       "      <td>PC150</td>\n",
       "      <td>2584</td>\n",
       "      <td>PC155</td>\n",
       "      <td>TFIIIC_sub6; Transcription factor TFIIIC, tau5...</td>\n",
       "    </tr>\n",
       "    <tr>\n",
       "      <th>24</th>\n",
       "      <td>PC151</td>\n",
       "      <td>85</td>\n",
       "      <td>PC151</td>\n",
       "      <td>ANAPC3</td>\n",
       "    </tr>\n",
       "    <tr>\n",
       "      <th>25</th>\n",
       "      <td>PC162</td>\n",
       "      <td>381</td>\n",
       "      <td>PC66</td>\n",
       "      <td>COP-gamma_platf; Coatomer, gamma subunit, appe...</td>\n",
       "    </tr>\n",
       "    <tr>\n",
       "      <th>26</th>\n",
       "      <td>PC166</td>\n",
       "      <td>1582</td>\n",
       "      <td>PC122</td>\n",
       "      <td>NPCC; Nuclear pore complex component</td>\n",
       "    </tr>\n",
       "    <tr>\n",
       "      <th>27</th>\n",
       "      <td>PC168</td>\n",
       "      <td>11</td>\n",
       "      <td>PC158</td>\n",
       "      <td>5-FTHF_cyc-lig; 5-formyltetrahydrofolate cyclo...</td>\n",
       "    </tr>\n",
       "    <tr>\n",
       "      <th>28</th>\n",
       "      <td>PC176</td>\n",
       "      <td>1362</td>\n",
       "      <td>PC218</td>\n",
       "      <td>MDM31_MDM32; Mitochondrial distribution and mo...</td>\n",
       "    </tr>\n",
       "    <tr>\n",
       "      <th>29</th>\n",
       "      <td>PC177</td>\n",
       "      <td>1362</td>\n",
       "      <td>PC218</td>\n",
       "      <td>MDM31_MDM32; Mitochondrial distribution and mo...</td>\n",
       "    </tr>\n",
       "    <tr>\n",
       "      <th>30</th>\n",
       "      <td>PC183</td>\n",
       "      <td>27</td>\n",
       "      <td>PC156</td>\n",
       "      <td>AAA_8; Dynein heavy chain, P-loop containing D...</td>\n",
       "    </tr>\n",
       "    <tr>\n",
       "      <th>31</th>\n",
       "      <td>PC199</td>\n",
       "      <td>769</td>\n",
       "      <td>PC105</td>\n",
       "      <td>Dynamin_M; Dynamin central domain</td>\n",
       "    </tr>\n",
       "    <tr>\n",
       "      <th>32</th>\n",
       "      <td>PC199</td>\n",
       "      <td>769</td>\n",
       "      <td>PC115</td>\n",
       "      <td>Dynamin_M; Dynamin central domain</td>\n",
       "    </tr>\n",
       "    <tr>\n",
       "      <th>33</th>\n",
       "      <td>PC205</td>\n",
       "      <td>1037</td>\n",
       "      <td>PC147</td>\n",
       "      <td>Glu_syn_central; Glutamate synthase, central-N</td>\n",
       "    </tr>\n",
       "    <tr>\n",
       "      <th>34</th>\n",
       "      <td>PC206</td>\n",
       "      <td>1037</td>\n",
       "      <td>PC147</td>\n",
       "      <td>Glu_syn_central; Glutamate synthase, central-N</td>\n",
       "    </tr>\n",
       "    <tr>\n",
       "      <th>35</th>\n",
       "      <td>PC213</td>\n",
       "      <td>2151</td>\n",
       "      <td>PC267</td>\n",
       "      <td>Ribosomal_60s</td>\n",
       "    </tr>\n",
       "    <tr>\n",
       "      <th>36</th>\n",
       "      <td>PC217</td>\n",
       "      <td>2480</td>\n",
       "      <td>PC172</td>\n",
       "      <td>Sin_N; DNA-directed RNA polymerase III subunit...</td>\n",
       "    </tr>\n",
       "    <tr>\n",
       "      <th>37</th>\n",
       "      <td>PC218</td>\n",
       "      <td>2480</td>\n",
       "      <td>PC172</td>\n",
       "      <td>Sin_N; DNA-directed RNA polymerase III subunit...</td>\n",
       "    </tr>\n",
       "    <tr>\n",
       "      <th>38</th>\n",
       "      <td>PC220</td>\n",
       "      <td>889</td>\n",
       "      <td>PC110</td>\n",
       "      <td>FMO-like; Flavin monooxygenase-like</td>\n",
       "    </tr>\n",
       "    <tr>\n",
       "      <th>39</th>\n",
       "      <td>PC222</td>\n",
       "      <td>86</td>\n",
       "      <td>PC112</td>\n",
       "      <td>ANAPC4; Anaphase-promoting complex subunit 4 l...</td>\n",
       "    </tr>\n",
       "    <tr>\n",
       "      <th>40</th>\n",
       "      <td>PC234</td>\n",
       "      <td>1733</td>\n",
       "      <td>PC182</td>\n",
       "      <td>PGAP1; GPI inositol-deacylase PGAP1-like</td>\n",
       "    </tr>\n",
       "    <tr>\n",
       "      <th>41</th>\n",
       "      <td>PC234</td>\n",
       "      <td>1733</td>\n",
       "      <td>PC196</td>\n",
       "      <td>PGAP1; GPI inositol-deacylase PGAP1-like</td>\n",
       "    </tr>\n",
       "    <tr>\n",
       "      <th>42</th>\n",
       "      <td>PC240</td>\n",
       "      <td>25</td>\n",
       "      <td>PC268</td>\n",
       "      <td>AAA_6</td>\n",
       "    </tr>\n",
       "    <tr>\n",
       "      <th>43</th>\n",
       "      <td>PC240</td>\n",
       "      <td>25</td>\n",
       "      <td>PC269</td>\n",
       "      <td>AAA_6</td>\n",
       "    </tr>\n",
       "    <tr>\n",
       "      <th>44</th>\n",
       "      <td>PC253</td>\n",
       "      <td>890</td>\n",
       "      <td>PC237</td>\n",
       "      <td>FMP23</td>\n",
       "    </tr>\n",
       "    <tr>\n",
       "      <th>45</th>\n",
       "      <td>PC253</td>\n",
       "      <td>890</td>\n",
       "      <td>PC254</td>\n",
       "      <td>FMP23</td>\n",
       "    </tr>\n",
       "    <tr>\n",
       "      <th>46</th>\n",
       "      <td>PC263</td>\n",
       "      <td>1422</td>\n",
       "      <td>PC229</td>\n",
       "      <td>Mannitol_dh_C; Mannitol dehydrogenase, C-terminal</td>\n",
       "    </tr>\n",
       "  </tbody>\n",
       "</table>\n",
       "</div>"
      ],
      "text/plain": [
       "   pca-component_x  domain-number pca-component_y  \\\n",
       "0              PC4            858             PC2   \n",
       "1             PC11           1677            PC64   \n",
       "2             PC50            983            PC82   \n",
       "3             PC50            983            PC83   \n",
       "4             PC59            161            PC71   \n",
       "5             PC61            747            PC73   \n",
       "6             PC61            747            PC74   \n",
       "7             PC65           1041            PC94   \n",
       "8             PC68           1253            PC87   \n",
       "9             PC69           1253            PC87   \n",
       "10            PC70             51           PC197   \n",
       "11            PC77           2007            PC41   \n",
       "12            PC81            444            PC45   \n",
       "13            PC90             28           PC120   \n",
       "14           PC108              4           PC200   \n",
       "15           PC108              4           PC201   \n",
       "16           PC109           1114           PC117   \n",
       "17           PC110            760            PC52   \n",
       "18           PC118           1803           PC102   \n",
       "19           PC127            156           PC253   \n",
       "20           PC137           1903            PC55   \n",
       "21           PC140            376             PC8   \n",
       "22           PC146            934           PC204   \n",
       "23           PC150           2584           PC155   \n",
       "24           PC151             85           PC151   \n",
       "25           PC162            381            PC66   \n",
       "26           PC166           1582           PC122   \n",
       "27           PC168             11           PC158   \n",
       "28           PC176           1362           PC218   \n",
       "29           PC177           1362           PC218   \n",
       "30           PC183             27           PC156   \n",
       "31           PC199            769           PC105   \n",
       "32           PC199            769           PC115   \n",
       "33           PC205           1037           PC147   \n",
       "34           PC206           1037           PC147   \n",
       "35           PC213           2151           PC267   \n",
       "36           PC217           2480           PC172   \n",
       "37           PC218           2480           PC172   \n",
       "38           PC220            889           PC110   \n",
       "39           PC222             86           PC112   \n",
       "40           PC234           1733           PC182   \n",
       "41           PC234           1733           PC196   \n",
       "42           PC240             25           PC268   \n",
       "43           PC240             25           PC269   \n",
       "44           PC253            890           PC237   \n",
       "45           PC253            890           PC254   \n",
       "46           PC263           1422           PC229   \n",
       "\n",
       "                                   domain-description  \n",
       "0   F420_oxidored; Pyrroline-5-carboxylate reducta...  \n",
       "1     Ost5; Oligosaccharyltransferase complex subunit  \n",
       "2       GHMP_kinases_N; GHMP kinase N-terminal domain  \n",
       "3       GHMP_kinases_N; GHMP kinase N-terminal domain  \n",
       "4   Acyl-CoA_ox_N; Acyl-coenzyme A oxidase, N-term...  \n",
       "5                                   Dak1; DhaK domain  \n",
       "6                                   Dak1; DhaK domain  \n",
       "7                                        Glutaredoxin  \n",
       "8               KA1; Kinase associated domain 1 (KA1)  \n",
       "9               KA1; Kinase associated domain 1 (KA1)  \n",
       "10                       AD; Anticodon-binding domain  \n",
       "11  RNA_pol_L_2; DNA-directed RNA polymerase, RBP1...  \n",
       "12  Carn_acyltransf; Acyltransferase ChoActase/COT...  \n",
       "13                                              AAA_9  \n",
       "14  2-oxoacid_dh; 2-oxoacid dehydrogenase acyltran...  \n",
       "15  2-oxoacid_dh; 2-oxoacid dehydrogenase acyltran...  \n",
       "16                                              HHH_5  \n",
       "17                         Dopey_N; Dopey, N-terminal  \n",
       "18                                   PPP5; PPP domain  \n",
       "19                        Acetyltransf_1; GNAT domain  \n",
       "20                        Pex2_Pex12; Pex, N-terminal  \n",
       "21  COG2; Conserved oligomeric Golgi complex, subu...  \n",
       "22                                         Folliculin  \n",
       "23  TFIIIC_sub6; Transcription factor TFIIIC, tau5...  \n",
       "24                                             ANAPC3  \n",
       "25  COP-gamma_platf; Coatomer, gamma subunit, appe...  \n",
       "26               NPCC; Nuclear pore complex component  \n",
       "27  5-FTHF_cyc-lig; 5-formyltetrahydrofolate cyclo...  \n",
       "28  MDM31_MDM32; Mitochondrial distribution and mo...  \n",
       "29  MDM31_MDM32; Mitochondrial distribution and mo...  \n",
       "30  AAA_8; Dynein heavy chain, P-loop containing D...  \n",
       "31                  Dynamin_M; Dynamin central domain  \n",
       "32                  Dynamin_M; Dynamin central domain  \n",
       "33     Glu_syn_central; Glutamate synthase, central-N  \n",
       "34     Glu_syn_central; Glutamate synthase, central-N  \n",
       "35                                      Ribosomal_60s  \n",
       "36  Sin_N; DNA-directed RNA polymerase III subunit...  \n",
       "37  Sin_N; DNA-directed RNA polymerase III subunit...  \n",
       "38                FMO-like; Flavin monooxygenase-like  \n",
       "39  ANAPC4; Anaphase-promoting complex subunit 4 l...  \n",
       "40           PGAP1; GPI inositol-deacylase PGAP1-like  \n",
       "41           PGAP1; GPI inositol-deacylase PGAP1-like  \n",
       "42                                              AAA_6  \n",
       "43                                              AAA_6  \n",
       "44                                              FMP23  \n",
       "45                                              FMP23  \n",
       "46  Mannitol_dh_C; Mannitol dehydrogenase, C-terminal  "
      ]
     },
     "execution_count": 22,
     "metadata": {},
     "output_type": "execute_result"
    }
   ],
   "source": [
    "df_shared_domains=pd.merge(df_sl,df_nsl,how='inner',on='domain-number')\n",
    "domains_name=np.unique(data_domains['domain-name'])\n",
    "domains_description=np.unique(data_domains['domain-descrip'])\n",
    "\n",
    "df_shared_domains['domain-description']=domains_description[df_shared_domains['domain-number']]\n",
    "\n",
    "\n",
    "df_shared_domains"
   ]
  },
  {
   "cell_type": "code",
   "execution_count": 23,
   "metadata": {
    "execution": {
     "iopub.execute_input": "2020-07-14T09:36:31.342480Z",
     "iopub.status.busy": "2020-07-14T09:36:31.341371Z",
     "iopub.status.idle": "2020-07-14T09:36:31.349312Z",
     "shell.execute_reply": "2020-07-14T09:36:31.350079Z"
    }
   },
   "outputs": [
    {
     "name": "stdout",
     "output_type": "stream",
     "text": [
      "The number of shared domains between SL and nSL pairs,after PCA, is =  47 out of 554 so the 8.483754512635379 %\n"
     ]
    }
   ],
   "source": [
    "print('The number of shared domains between SL and nSL pairs,after PCA, is = ',len(df_shared_domains), 'out of', len(df_sl)+len(df_nsl), 'so the',100*len(df_shared_domains)/(len(df_sl)+len(df_nsl)),'%')"
   ]
  },
  {
   "cell_type": "markdown",
   "metadata": {},
   "source": [
    "## Domains exclusive to SL"
   ]
  },
  {
   "cell_type": "code",
   "execution_count": 24,
   "metadata": {
    "execution": {
     "iopub.execute_input": "2020-07-14T09:36:31.353779Z",
     "iopub.status.busy": "2020-07-14T09:36:31.352504Z",
     "iopub.status.idle": "2020-07-14T09:36:31.384488Z",
     "shell.execute_reply": "2020-07-14T09:36:31.385169Z"
    }
   },
   "outputs": [
    {
     "data": {
      "text/html": [
       "<div>\n",
       "<style scoped>\n",
       "    .dataframe tbody tr th:only-of-type {\n",
       "        vertical-align: middle;\n",
       "    }\n",
       "\n",
       "    .dataframe tbody tr th {\n",
       "        vertical-align: top;\n",
       "    }\n",
       "\n",
       "    .dataframe thead th {\n",
       "        text-align: right;\n",
       "    }\n",
       "</style>\n",
       "<table border=\"1\" class=\"dataframe\">\n",
       "  <thead>\n",
       "    <tr style=\"text-align: right;\">\n",
       "      <th></th>\n",
       "      <th>pca-component_x</th>\n",
       "      <th>domain-number</th>\n",
       "      <th>pca-component_y</th>\n",
       "      <th>domain-description</th>\n",
       "    </tr>\n",
       "  </thead>\n",
       "  <tbody>\n",
       "    <tr>\n",
       "      <th>0</th>\n",
       "      <td>PC0</td>\n",
       "      <td>135</td>\n",
       "      <td>NaN</td>\n",
       "      <td>ATP-synt_ab_Xtn; ATPsynthase alpha/beta subuni...</td>\n",
       "    </tr>\n",
       "    <tr>\n",
       "      <th>1</th>\n",
       "      <td>PC1</td>\n",
       "      <td>687</td>\n",
       "      <td>NaN</td>\n",
       "      <td>DUF2838; Protein of unknown function DUF2838</td>\n",
       "    </tr>\n",
       "    <tr>\n",
       "      <th>2</th>\n",
       "      <td>PC2</td>\n",
       "      <td>341</td>\n",
       "      <td>NaN</td>\n",
       "      <td>CDP-OH_P_transf; CDP-alcohol phosphatidyltrans...</td>\n",
       "    </tr>\n",
       "    <tr>\n",
       "      <th>3</th>\n",
       "      <td>PC3</td>\n",
       "      <td>1354</td>\n",
       "      <td>NaN</td>\n",
       "      <td>MBF1; Multiprotein bridging factor 1, N-terminal</td>\n",
       "    </tr>\n",
       "    <tr>\n",
       "      <th>5</th>\n",
       "      <td>PC5</td>\n",
       "      <td>3</td>\n",
       "      <td>NaN</td>\n",
       "      <td>2-Hacid_dh_C; D-isomer specific 2-hydroxyacid ...</td>\n",
       "    </tr>\n",
       "    <tr>\n",
       "      <th>...</th>\n",
       "      <td>...</td>\n",
       "      <td>...</td>\n",
       "      <td>...</td>\n",
       "      <td>...</td>\n",
       "    </tr>\n",
       "    <tr>\n",
       "      <th>279</th>\n",
       "      <td>PC272</td>\n",
       "      <td>539</td>\n",
       "      <td>NaN</td>\n",
       "      <td>Cytochrom_C; Cytochrome c-like domain</td>\n",
       "    </tr>\n",
       "    <tr>\n",
       "      <th>280</th>\n",
       "      <td>PC273</td>\n",
       "      <td>754</td>\n",
       "      <td>NaN</td>\n",
       "      <td>Diphthamide_syn; Diphthamide synthesis DPH1/DPH2</td>\n",
       "    </tr>\n",
       "    <tr>\n",
       "      <th>281</th>\n",
       "      <td>PC274</td>\n",
       "      <td>911</td>\n",
       "      <td>NaN</td>\n",
       "      <td>Fer4_20; Dihydroprymidine dehydrogenase domain II</td>\n",
       "    </tr>\n",
       "    <tr>\n",
       "      <th>282</th>\n",
       "      <td>PC275</td>\n",
       "      <td>911</td>\n",
       "      <td>NaN</td>\n",
       "      <td>Fer4_20; Dihydroprymidine dehydrogenase domain II</td>\n",
       "    </tr>\n",
       "    <tr>\n",
       "      <th>283</th>\n",
       "      <td>PC276</td>\n",
       "      <td>493</td>\n",
       "      <td>NaN</td>\n",
       "      <td>Coa1; Cytochrome oxidase assembly protein 1</td>\n",
       "    </tr>\n",
       "  </tbody>\n",
       "</table>\n",
       "<p>237 rows × 4 columns</p>\n",
       "</div>"
      ],
      "text/plain": [
       "    pca-component_x  domain-number pca-component_y  \\\n",
       "0               PC0            135             NaN   \n",
       "1               PC1            687             NaN   \n",
       "2               PC2            341             NaN   \n",
       "3               PC3           1354             NaN   \n",
       "5               PC5              3             NaN   \n",
       "..              ...            ...             ...   \n",
       "279           PC272            539             NaN   \n",
       "280           PC273            754             NaN   \n",
       "281           PC274            911             NaN   \n",
       "282           PC275            911             NaN   \n",
       "283           PC276            493             NaN   \n",
       "\n",
       "                                    domain-description  \n",
       "0    ATP-synt_ab_Xtn; ATPsynthase alpha/beta subuni...  \n",
       "1         DUF2838; Protein of unknown function DUF2838  \n",
       "2    CDP-OH_P_transf; CDP-alcohol phosphatidyltrans...  \n",
       "3     MBF1; Multiprotein bridging factor 1, N-terminal  \n",
       "5    2-Hacid_dh_C; D-isomer specific 2-hydroxyacid ...  \n",
       "..                                                 ...  \n",
       "279              Cytochrom_C; Cytochrome c-like domain  \n",
       "280   Diphthamide_syn; Diphthamide synthesis DPH1/DPH2  \n",
       "281  Fer4_20; Dihydroprymidine dehydrogenase domain II  \n",
       "282  Fer4_20; Dihydroprymidine dehydrogenase domain II  \n",
       "283        Coa1; Cytochrome oxidase assembly protein 1  \n",
       "\n",
       "[237 rows x 4 columns]"
      ]
     },
     "execution_count": 24,
     "metadata": {},
     "output_type": "execute_result"
    }
   ],
   "source": [
    "df_sl_exclusive=pd.merge(df_sl,df_nsl,how='left',on='domain-number')\n",
    "\n",
    "domains_name=np.unique(data_domains['domain-name'])\n",
    "domains_description=np.unique(data_domains['domain-descrip'])\n",
    "\n",
    "df_sl_exclusive['domain-description']=domains_description[df_sl_exclusive['domain-number']]\n",
    "df_sl_exclusive[pd.isnull(df_sl_exclusive['pca-component_y'])]"
   ]
  },
  {
   "cell_type": "code",
   "execution_count": 25,
   "metadata": {
    "execution": {
     "iopub.execute_input": "2020-07-14T09:36:31.388247Z",
     "iopub.status.busy": "2020-07-14T09:36:31.387267Z",
     "iopub.status.idle": "2020-07-14T09:36:31.394118Z",
     "shell.execute_reply": "2020-07-14T09:36:31.394816Z"
    }
   },
   "outputs": [
    {
     "name": "stdout",
     "output_type": "stream",
     "text": [
      "The number of exclusive domains from SL pairs, after PCA, is =  284 out of 554 so the 51.26353790613718 %\n"
     ]
    }
   ],
   "source": [
    "print('The number of exclusive domains from SL pairs, after PCA, is = ',len(df_sl_exclusive), 'out of', len(df_sl)+len(df_nsl), 'so the',100*len(df_sl_exclusive)/(len(df_sl)+len(df_nsl)),'%')"
   ]
  },
  {
   "cell_type": "code",
   "execution_count": 26,
   "metadata": {
    "execution": {
     "iopub.execute_input": "2020-07-14T09:36:31.398186Z",
     "iopub.status.busy": "2020-07-14T09:36:31.397025Z",
     "iopub.status.idle": "2020-07-14T09:36:31.430997Z",
     "shell.execute_reply": "2020-07-14T09:36:31.429971Z"
    }
   },
   "outputs": [
    {
     "data": {
      "text/html": [
       "<div>\n",
       "<style scoped>\n",
       "    .dataframe tbody tr th:only-of-type {\n",
       "        vertical-align: middle;\n",
       "    }\n",
       "\n",
       "    .dataframe tbody tr th {\n",
       "        vertical-align: top;\n",
       "    }\n",
       "\n",
       "    .dataframe thead th {\n",
       "        text-align: right;\n",
       "    }\n",
       "</style>\n",
       "<table border=\"1\" class=\"dataframe\">\n",
       "  <thead>\n",
       "    <tr style=\"text-align: right;\">\n",
       "      <th></th>\n",
       "      <th>pca-component_x</th>\n",
       "      <th>domain-number</th>\n",
       "      <th>pca-component_y</th>\n",
       "      <th>domain-description</th>\n",
       "    </tr>\n",
       "  </thead>\n",
       "  <tbody>\n",
       "    <tr>\n",
       "      <th>47</th>\n",
       "      <td>NaN</td>\n",
       "      <td>1028</td>\n",
       "      <td>PC0</td>\n",
       "      <td>GatB_Yqey; Asn/Gln amidotransferase</td>\n",
       "    </tr>\n",
       "    <tr>\n",
       "      <th>48</th>\n",
       "      <td>NaN</td>\n",
       "      <td>305</td>\n",
       "      <td>PC1</td>\n",
       "      <td>Brr6_like_C_C; Brl1/Brr6 domain</td>\n",
       "    </tr>\n",
       "    <tr>\n",
       "      <th>49</th>\n",
       "      <td>NaN</td>\n",
       "      <td>2113</td>\n",
       "      <td>PC3</td>\n",
       "      <td>Rav1p_C; RAVE complex protein Rav1 C-terminal</td>\n",
       "    </tr>\n",
       "    <tr>\n",
       "      <th>50</th>\n",
       "      <td>NaN</td>\n",
       "      <td>604</td>\n",
       "      <td>PC4</td>\n",
       "      <td>DNA_gyraseB; DNA topoisomerase, type IIA, subu...</td>\n",
       "    </tr>\n",
       "    <tr>\n",
       "      <th>51</th>\n",
       "      <td>NaN</td>\n",
       "      <td>350</td>\n",
       "      <td>PC5</td>\n",
       "      <td>CFIA_Pcf11; Subunit of cleavage factor IA Pcf11</td>\n",
       "    </tr>\n",
       "    <tr>\n",
       "      <th>...</th>\n",
       "      <td>...</td>\n",
       "      <td>...</td>\n",
       "      <td>...</td>\n",
       "      <td>...</td>\n",
       "    </tr>\n",
       "    <tr>\n",
       "      <th>276</th>\n",
       "      <td>NaN</td>\n",
       "      <td>6</td>\n",
       "      <td>PC272</td>\n",
       "      <td>2OG-FeII_Oxy_4</td>\n",
       "    </tr>\n",
       "    <tr>\n",
       "      <th>277</th>\n",
       "      <td>NaN</td>\n",
       "      <td>6</td>\n",
       "      <td>PC273</td>\n",
       "      <td>2OG-FeII_Oxy_4</td>\n",
       "    </tr>\n",
       "    <tr>\n",
       "      <th>278</th>\n",
       "      <td>NaN</td>\n",
       "      <td>2125</td>\n",
       "      <td>PC274</td>\n",
       "      <td>Rer1; Retrieval of early ER protein Rer1</td>\n",
       "    </tr>\n",
       "    <tr>\n",
       "      <th>279</th>\n",
       "      <td>NaN</td>\n",
       "      <td>2135</td>\n",
       "      <td>PC275</td>\n",
       "      <td>Rhomboid; Peptidase S54, rhomboid domain</td>\n",
       "    </tr>\n",
       "    <tr>\n",
       "      <th>280</th>\n",
       "      <td>NaN</td>\n",
       "      <td>122</td>\n",
       "      <td>PC276</td>\n",
       "      <td>ATP-synt_10; ATPase assembly factor ATP10</td>\n",
       "    </tr>\n",
       "  </tbody>\n",
       "</table>\n",
       "<p>234 rows × 4 columns</p>\n",
       "</div>"
      ],
      "text/plain": [
       "    pca-component_x  domain-number pca-component_y  \\\n",
       "47              NaN           1028             PC0   \n",
       "48              NaN            305             PC1   \n",
       "49              NaN           2113             PC3   \n",
       "50              NaN            604             PC4   \n",
       "51              NaN            350             PC5   \n",
       "..              ...            ...             ...   \n",
       "276             NaN              6           PC272   \n",
       "277             NaN              6           PC273   \n",
       "278             NaN           2125           PC274   \n",
       "279             NaN           2135           PC275   \n",
       "280             NaN            122           PC276   \n",
       "\n",
       "                                    domain-description  \n",
       "47                 GatB_Yqey; Asn/Gln amidotransferase  \n",
       "48                     Brr6_like_C_C; Brl1/Brr6 domain  \n",
       "49       Rav1p_C; RAVE complex protein Rav1 C-terminal  \n",
       "50   DNA_gyraseB; DNA topoisomerase, type IIA, subu...  \n",
       "51     CFIA_Pcf11; Subunit of cleavage factor IA Pcf11  \n",
       "..                                                 ...  \n",
       "276                                     2OG-FeII_Oxy_4  \n",
       "277                                     2OG-FeII_Oxy_4  \n",
       "278           Rer1; Retrieval of early ER protein Rer1  \n",
       "279           Rhomboid; Peptidase S54, rhomboid domain  \n",
       "280          ATP-synt_10; ATPase assembly factor ATP10  \n",
       "\n",
       "[234 rows x 4 columns]"
      ]
     },
     "execution_count": 26,
     "metadata": {},
     "output_type": "execute_result"
    }
   ],
   "source": [
    "df_nsl_exclusive=pd.merge(df_sl,df_nsl,how='right',on='domain-number')\n",
    "\n",
    "domains_name=np.unique(data_domains['domain-name'])\n",
    "domains_description=np.unique(data_domains['domain-descrip'])\n",
    "\n",
    "df_nsl_exclusive['domain-description']=domains_description[df_nsl_exclusive['domain-number']]\n",
    "df_nsl_exclusive[pd.isnull(df_nsl_exclusive['pca-component_x'])]"
   ]
  },
  {
   "cell_type": "code",
   "execution_count": 27,
   "metadata": {
    "execution": {
     "iopub.execute_input": "2020-07-14T09:36:31.436449Z",
     "iopub.status.busy": "2020-07-14T09:36:31.435858Z",
     "iopub.status.idle": "2020-07-14T09:36:31.440743Z",
     "shell.execute_reply": "2020-07-14T09:36:31.440298Z"
    }
   },
   "outputs": [
    {
     "name": "stdout",
     "output_type": "stream",
     "text": [
      "The number of exclusive domains from non SL pairs, after PCA, is =  281 out of 554 so the 50.72202166064982 %\n"
     ]
    }
   ],
   "source": [
    "print('The number of exclusive domains from non SL pairs, after PCA, is = ',len(df_nsl_exclusive), 'out of', len(df_sl)+len(df_nsl), 'so the',100*len(df_nsl_exclusive)/(len(df_sl)+len(df_nsl)),'%')"
   ]
  },
  {
   "cell_type": "markdown",
   "metadata": {},
   "source": [
    "## Let see to the domains-number that get repeated after the PCA analysis , and selecting the most explanatory feature by its explained variance."
   ]
  },
  {
   "cell_type": "code",
   "execution_count": 28,
   "metadata": {
    "execution": {
     "iopub.execute_input": "2020-07-14T09:36:31.463625Z",
     "iopub.status.busy": "2020-07-14T09:36:31.462969Z",
     "iopub.status.idle": "2020-07-14T09:36:31.466931Z",
     "shell.execute_reply": "2020-07-14T09:36:31.466282Z"
    }
   },
   "outputs": [],
   "source": [
    "duplicated_features_sl=df_sl[df_sl.iloc[:,1].duplicated()]\n",
    "repeated_features_sl=pd.DataFrame()\n",
    "\n",
    "domains_name=np.unique(data_domains['domain-name'])\n",
    "domains_description=np.unique(data_domains['domain-descrip'])\n",
    "\n",
    "repeated_features_sl['domain-name']=domains_name[duplicated_features_sl.iloc[:,1]] \n",
    "repeated_features_sl['domain-description']=domains_description[duplicated_features_sl.iloc[:,1]]\n",
    "\n",
    "duplicated_features_nsl=df_nsl[df_nsl.iloc[:,1].duplicated()]\n",
    "repeated_features_nsl=pd.DataFrame()\n",
    "\n",
    "repeated_features_nsl['domain-name']=domains_name[duplicated_features_nsl.iloc[:,1]] \n",
    "repeated_features_nsl['domain-description']=domains_description[duplicated_features_nsl.iloc[:,1]]"
   ]
  },
  {
   "cell_type": "code",
   "execution_count": 29,
   "metadata": {
    "execution": {
     "iopub.execute_input": "2020-07-14T09:36:31.477202Z",
     "iopub.status.busy": "2020-07-14T09:36:31.476668Z",
     "iopub.status.idle": "2020-07-14T09:36:31.479403Z",
     "shell.execute_reply": "2020-07-14T09:36:31.479866Z"
    }
   },
   "outputs": [
    {
     "data": {
      "text/plain": [
       "((41, 4), (284, 4))"
      ]
     },
     "execution_count": 29,
     "metadata": {},
     "output_type": "execute_result"
    }
   ],
   "source": [
    "only_sl_pd=pd.merge(repeated_features_sl,repeated_features_nsl,how='left',on=['domain-name'])\n",
    "data_only_sl = only_sl_pd[pd.isnull(only_sl_pd['domain-description_y'])]\n",
    "data_only_sl['domain-description']=data_only_sl['domain-description_x']\n",
    "data_only_sl.shape,df_sl_exclusive.shape"
   ]
  },
  {
   "cell_type": "code",
   "execution_count": 30,
   "metadata": {
    "execution": {
     "iopub.execute_input": "2020-07-14T09:36:31.497358Z",
     "iopub.status.busy": "2020-07-14T09:36:31.486733Z",
     "iopub.status.idle": "2020-07-14T09:36:31.499600Z",
     "shell.execute_reply": "2020-07-14T09:36:31.500014Z"
    }
   },
   "outputs": [
    {
     "data": {
      "text/html": [
       "<div>\n",
       "<style scoped>\n",
       "    .dataframe tbody tr th:only-of-type {\n",
       "        vertical-align: middle;\n",
       "    }\n",
       "\n",
       "    .dataframe tbody tr th {\n",
       "        vertical-align: top;\n",
       "    }\n",
       "\n",
       "    .dataframe thead th {\n",
       "        text-align: right;\n",
       "    }\n",
       "</style>\n",
       "<table border=\"1\" class=\"dataframe\">\n",
       "  <thead>\n",
       "    <tr style=\"text-align: right;\">\n",
       "      <th></th>\n",
       "      <th>domain-name</th>\n",
       "      <th>domain-description_x</th>\n",
       "      <th>domain-description_y</th>\n",
       "    </tr>\n",
       "  </thead>\n",
       "  <tbody>\n",
       "    <tr>\n",
       "      <th>0</th>\n",
       "      <td>PF00627</td>\n",
       "      <td>NaN</td>\n",
       "      <td>Bystin</td>\n",
       "    </tr>\n",
       "    <tr>\n",
       "      <th>1</th>\n",
       "      <td>PF09079</td>\n",
       "      <td>NaN</td>\n",
       "      <td>RRT14; Regulator of rDNA transcription 14</td>\n",
       "    </tr>\n",
       "    <tr>\n",
       "      <th>2</th>\n",
       "      <td>PF03399</td>\n",
       "      <td>NaN</td>\n",
       "      <td>HEAT_2</td>\n",
       "    </tr>\n",
       "    <tr>\n",
       "      <th>3</th>\n",
       "      <td>PF01798</td>\n",
       "      <td>NaN</td>\n",
       "      <td>Dak1; DhaK domain</td>\n",
       "    </tr>\n",
       "    <tr>\n",
       "      <th>4</th>\n",
       "      <td>PF02854</td>\n",
       "      <td>NaN</td>\n",
       "      <td>GHMP_kinases_N; GHMP kinase N-terminal domain</td>\n",
       "    </tr>\n",
       "    <tr>\n",
       "      <th>5</th>\n",
       "      <td>PF02364</td>\n",
       "      <td>NaN</td>\n",
       "      <td>FDX-ACB; Ferrodoxin-fold anticodon-binding domain</td>\n",
       "    </tr>\n",
       "    <tr>\n",
       "      <th>6</th>\n",
       "      <td>PF14382</td>\n",
       "      <td>NaN</td>\n",
       "      <td>UCR_hinge; Ubiquinol-cytochrome C reductase hi...</td>\n",
       "    </tr>\n",
       "    <tr>\n",
       "      <th>7</th>\n",
       "      <td>PF01138</td>\n",
       "      <td>NaN</td>\n",
       "      <td>Copper-fist; Copper fist DNA-binding domain</td>\n",
       "    </tr>\n",
       "    <tr>\n",
       "      <th>8</th>\n",
       "      <td>PF01066</td>\n",
       "      <td>NaN</td>\n",
       "      <td>CitMHS; Citrate transporter-like domain</td>\n",
       "    </tr>\n",
       "    <tr>\n",
       "      <th>9</th>\n",
       "      <td>PF01066</td>\n",
       "      <td>NaN</td>\n",
       "      <td>CitMHS; Citrate transporter-like domain</td>\n",
       "    </tr>\n",
       "    <tr>\n",
       "      <th>10</th>\n",
       "      <td>PF01896</td>\n",
       "      <td>NaN</td>\n",
       "      <td>Dynamin_M; Dynamin central domain</td>\n",
       "    </tr>\n",
       "    <tr>\n",
       "      <th>11</th>\n",
       "      <td>PF08655</td>\n",
       "      <td>NaN</td>\n",
       "      <td>RNA_pol_Rpb1_4; RNA polymerase Rpb1, domain 4</td>\n",
       "    </tr>\n",
       "    <tr>\n",
       "      <th>12</th>\n",
       "      <td>PF02291</td>\n",
       "      <td>NaN</td>\n",
       "      <td>FAD_binding_7; Cryptochrome/DNA photolyase, FA...</td>\n",
       "    </tr>\n",
       "    <tr>\n",
       "      <th>13</th>\n",
       "      <td>PF04048</td>\n",
       "      <td>NaN</td>\n",
       "      <td>Ist1; Vacuolar protein sorting-associated prot...</td>\n",
       "    </tr>\n",
       "    <tr>\n",
       "      <th>14</th>\n",
       "      <td>PF02902</td>\n",
       "      <td>NaN</td>\n",
       "      <td>GSHPx; Glutathione peroxidase</td>\n",
       "    </tr>\n",
       "    <tr>\n",
       "      <th>15</th>\n",
       "      <td>PF00348</td>\n",
       "      <td>NaN</td>\n",
       "      <td>Afi1; Arf3-interacting protein 1, N-terminal d...</td>\n",
       "    </tr>\n",
       "    <tr>\n",
       "      <th>16</th>\n",
       "      <td>PF11214</td>\n",
       "      <td>NaN</td>\n",
       "      <td>SOG2; RAM signalling pathway, SOG2</td>\n",
       "    </tr>\n",
       "    <tr>\n",
       "      <th>17</th>\n",
       "      <td>PF00828</td>\n",
       "      <td>NaN</td>\n",
       "      <td>COX6A; Cytochrome c oxidase, subunit VIa</td>\n",
       "    </tr>\n",
       "    <tr>\n",
       "      <th>18</th>\n",
       "      <td>PF00828</td>\n",
       "      <td>NaN</td>\n",
       "      <td>COX6A; Cytochrome c oxidase, subunit VIa</td>\n",
       "    </tr>\n",
       "    <tr>\n",
       "      <th>19</th>\n",
       "      <td>PF07962</td>\n",
       "      <td>NaN</td>\n",
       "      <td>PMP1_2; Plasma membrane ATPase proteolipid</td>\n",
       "    </tr>\n",
       "    <tr>\n",
       "      <th>20</th>\n",
       "      <td>PF04004</td>\n",
       "      <td>NaN</td>\n",
       "      <td>Inositol_P; Inositol monophosphatase-like</td>\n",
       "    </tr>\n",
       "    <tr>\n",
       "      <th>21</th>\n",
       "      <td>PF04821</td>\n",
       "      <td>NaN</td>\n",
       "      <td>Mcl1_mid; Minichromosome loss protein Mcl1, mi...</td>\n",
       "    </tr>\n",
       "    <tr>\n",
       "      <th>22</th>\n",
       "      <td>PF15511</td>\n",
       "      <td>NaN</td>\n",
       "      <td>Vps51</td>\n",
       "    </tr>\n",
       "    <tr>\n",
       "      <th>23</th>\n",
       "      <td>PF07572</td>\n",
       "      <td>NaN</td>\n",
       "      <td>PGAP1; GPI inositol-deacylase PGAP1-like</td>\n",
       "    </tr>\n",
       "    <tr>\n",
       "      <th>24</th>\n",
       "      <td>PF00010</td>\n",
       "      <td>NaN</td>\n",
       "      <td>2-oxoacid_dh; 2-oxoacid dehydrogenase acyltran...</td>\n",
       "    </tr>\n",
       "    <tr>\n",
       "      <th>25</th>\n",
       "      <td>PF03371</td>\n",
       "      <td>NaN</td>\n",
       "      <td>HBS1_N; HBS1-like protein, N-terminal</td>\n",
       "    </tr>\n",
       "    <tr>\n",
       "      <th>26</th>\n",
       "      <td>PF01459</td>\n",
       "      <td>NaN</td>\n",
       "      <td>DUF1077; Protein of unknown function DUF1077, ...</td>\n",
       "    </tr>\n",
       "    <tr>\n",
       "      <th>27</th>\n",
       "      <td>PF01459</td>\n",
       "      <td>NaN</td>\n",
       "      <td>DUF1077; Protein of unknown function DUF1077, ...</td>\n",
       "    </tr>\n",
       "    <tr>\n",
       "      <th>28</th>\n",
       "      <td>PF03981</td>\n",
       "      <td>NaN</td>\n",
       "      <td>IQ; IQ motif, EF-hand binding site</td>\n",
       "    </tr>\n",
       "    <tr>\n",
       "      <th>29</th>\n",
       "      <td>PF03501</td>\n",
       "      <td>NaN</td>\n",
       "      <td>HMGL-like; Pyruvate carboxyltransferase</td>\n",
       "    </tr>\n",
       "    <tr>\n",
       "      <th>30</th>\n",
       "      <td>PF03637</td>\n",
       "      <td>NaN</td>\n",
       "      <td>HTH_44; Helix-turn-helix DNA-binding domain of...</td>\n",
       "    </tr>\n",
       "    <tr>\n",
       "      <th>31</th>\n",
       "      <td>PF11051</td>\n",
       "      <td>NaN</td>\n",
       "      <td>SNARE_assoc; SNARE associated Golgi protein</td>\n",
       "    </tr>\n",
       "    <tr>\n",
       "      <th>32</th>\n",
       "      <td>PF01822</td>\n",
       "      <td>NaN</td>\n",
       "      <td>Diphthami_syn_2; Diphthamide synthase domain</td>\n",
       "    </tr>\n",
       "    <tr>\n",
       "      <th>33</th>\n",
       "      <td>PF01822</td>\n",
       "      <td>NaN</td>\n",
       "      <td>Diphthami_syn_2; Diphthamide synthase domain</td>\n",
       "    </tr>\n",
       "    <tr>\n",
       "      <th>34</th>\n",
       "      <td>PF02167</td>\n",
       "      <td>NaN</td>\n",
       "      <td>EamA; EamA domain</td>\n",
       "    </tr>\n",
       "    <tr>\n",
       "      <th>35</th>\n",
       "      <td>PF01246</td>\n",
       "      <td>NaN</td>\n",
       "      <td>DCP1; mRNA-decapping enzyme subunit 1</td>\n",
       "    </tr>\n",
       "    <tr>\n",
       "      <th>36</th>\n",
       "      <td>PF01246</td>\n",
       "      <td>NaN</td>\n",
       "      <td>DCP1; mRNA-decapping enzyme subunit 1</td>\n",
       "    </tr>\n",
       "    <tr>\n",
       "      <th>37</th>\n",
       "      <td>PF01246</td>\n",
       "      <td>NaN</td>\n",
       "      <td>DCP1; mRNA-decapping enzyme subunit 1</td>\n",
       "    </tr>\n",
       "    <tr>\n",
       "      <th>38</th>\n",
       "      <td>PF02458</td>\n",
       "      <td>NaN</td>\n",
       "      <td>FMP23</td>\n",
       "    </tr>\n",
       "    <tr>\n",
       "      <th>39</th>\n",
       "      <td>PF12850</td>\n",
       "      <td>NaN</td>\n",
       "      <td>TB2_DP1_HVA22; TB2/DP1/HVA22-related protein</td>\n",
       "    </tr>\n",
       "    <tr>\n",
       "      <th>40</th>\n",
       "      <td>PF12709</td>\n",
       "      <td>NaN</td>\n",
       "      <td>Spt5_N; Spt5 transcription elongation factor, ...</td>\n",
       "    </tr>\n",
       "    <tr>\n",
       "      <th>41</th>\n",
       "      <td>PF08294</td>\n",
       "      <td>NaN</td>\n",
       "      <td>Peptidase_M16_M; Peptidase M16, middle/third d...</td>\n",
       "    </tr>\n",
       "    <tr>\n",
       "      <th>42</th>\n",
       "      <td>PF00067</td>\n",
       "      <td>NaN</td>\n",
       "      <td>AAA_6</td>\n",
       "    </tr>\n",
       "    <tr>\n",
       "      <th>43</th>\n",
       "      <td>PF00012</td>\n",
       "      <td>NaN</td>\n",
       "      <td>2OG-FeII_Oxy_4</td>\n",
       "    </tr>\n",
       "  </tbody>\n",
       "</table>\n",
       "</div>"
      ],
      "text/plain": [
       "   domain-name domain-description_x  \\\n",
       "0      PF00627                  NaN   \n",
       "1      PF09079                  NaN   \n",
       "2      PF03399                  NaN   \n",
       "3      PF01798                  NaN   \n",
       "4      PF02854                  NaN   \n",
       "5      PF02364                  NaN   \n",
       "6      PF14382                  NaN   \n",
       "7      PF01138                  NaN   \n",
       "8      PF01066                  NaN   \n",
       "9      PF01066                  NaN   \n",
       "10     PF01896                  NaN   \n",
       "11     PF08655                  NaN   \n",
       "12     PF02291                  NaN   \n",
       "13     PF04048                  NaN   \n",
       "14     PF02902                  NaN   \n",
       "15     PF00348                  NaN   \n",
       "16     PF11214                  NaN   \n",
       "17     PF00828                  NaN   \n",
       "18     PF00828                  NaN   \n",
       "19     PF07962                  NaN   \n",
       "20     PF04004                  NaN   \n",
       "21     PF04821                  NaN   \n",
       "22     PF15511                  NaN   \n",
       "23     PF07572                  NaN   \n",
       "24     PF00010                  NaN   \n",
       "25     PF03371                  NaN   \n",
       "26     PF01459                  NaN   \n",
       "27     PF01459                  NaN   \n",
       "28     PF03981                  NaN   \n",
       "29     PF03501                  NaN   \n",
       "30     PF03637                  NaN   \n",
       "31     PF11051                  NaN   \n",
       "32     PF01822                  NaN   \n",
       "33     PF01822                  NaN   \n",
       "34     PF02167                  NaN   \n",
       "35     PF01246                  NaN   \n",
       "36     PF01246                  NaN   \n",
       "37     PF01246                  NaN   \n",
       "38     PF02458                  NaN   \n",
       "39     PF12850                  NaN   \n",
       "40     PF12709                  NaN   \n",
       "41     PF08294                  NaN   \n",
       "42     PF00067                  NaN   \n",
       "43     PF00012                  NaN   \n",
       "\n",
       "                                 domain-description_y  \n",
       "0                                              Bystin  \n",
       "1           RRT14; Regulator of rDNA transcription 14  \n",
       "2                                              HEAT_2  \n",
       "3                                   Dak1; DhaK domain  \n",
       "4       GHMP_kinases_N; GHMP kinase N-terminal domain  \n",
       "5   FDX-ACB; Ferrodoxin-fold anticodon-binding domain  \n",
       "6   UCR_hinge; Ubiquinol-cytochrome C reductase hi...  \n",
       "7         Copper-fist; Copper fist DNA-binding domain  \n",
       "8             CitMHS; Citrate transporter-like domain  \n",
       "9             CitMHS; Citrate transporter-like domain  \n",
       "10                  Dynamin_M; Dynamin central domain  \n",
       "11      RNA_pol_Rpb1_4; RNA polymerase Rpb1, domain 4  \n",
       "12  FAD_binding_7; Cryptochrome/DNA photolyase, FA...  \n",
       "13  Ist1; Vacuolar protein sorting-associated prot...  \n",
       "14                      GSHPx; Glutathione peroxidase  \n",
       "15  Afi1; Arf3-interacting protein 1, N-terminal d...  \n",
       "16                 SOG2; RAM signalling pathway, SOG2  \n",
       "17           COX6A; Cytochrome c oxidase, subunit VIa  \n",
       "18           COX6A; Cytochrome c oxidase, subunit VIa  \n",
       "19         PMP1_2; Plasma membrane ATPase proteolipid  \n",
       "20          Inositol_P; Inositol monophosphatase-like  \n",
       "21  Mcl1_mid; Minichromosome loss protein Mcl1, mi...  \n",
       "22                                              Vps51  \n",
       "23           PGAP1; GPI inositol-deacylase PGAP1-like  \n",
       "24  2-oxoacid_dh; 2-oxoacid dehydrogenase acyltran...  \n",
       "25              HBS1_N; HBS1-like protein, N-terminal  \n",
       "26  DUF1077; Protein of unknown function DUF1077, ...  \n",
       "27  DUF1077; Protein of unknown function DUF1077, ...  \n",
       "28                 IQ; IQ motif, EF-hand binding site  \n",
       "29            HMGL-like; Pyruvate carboxyltransferase  \n",
       "30  HTH_44; Helix-turn-helix DNA-binding domain of...  \n",
       "31        SNARE_assoc; SNARE associated Golgi protein  \n",
       "32       Diphthami_syn_2; Diphthamide synthase domain  \n",
       "33       Diphthami_syn_2; Diphthamide synthase domain  \n",
       "34                                  EamA; EamA domain  \n",
       "35              DCP1; mRNA-decapping enzyme subunit 1  \n",
       "36              DCP1; mRNA-decapping enzyme subunit 1  \n",
       "37              DCP1; mRNA-decapping enzyme subunit 1  \n",
       "38                                              FMP23  \n",
       "39       TB2_DP1_HVA22; TB2/DP1/HVA22-related protein  \n",
       "40  Spt5_N; Spt5 transcription elongation factor, ...  \n",
       "41  Peptidase_M16_M; Peptidase M16, middle/third d...  \n",
       "42                                              AAA_6  \n",
       "43                                     2OG-FeII_Oxy_4  "
      ]
     },
     "execution_count": 30,
     "metadata": {},
     "output_type": "execute_result"
    }
   ],
   "source": [
    "only_nsl_pd=pd.merge(repeated_features_sl,repeated_features_nsl,how='right',on=['domain-name'])\n",
    "data_only_nsl = only_nsl_pd[pd.isnull(only_nsl_pd['domain-description_x'])]\n",
    "data_only_nsl"
   ]
  },
  {
   "cell_type": "code",
   "execution_count": 31,
   "metadata": {
    "execution": {
     "iopub.execute_input": "2020-07-14T09:36:31.509206Z",
     "iopub.status.busy": "2020-07-14T09:36:31.504141Z",
     "iopub.status.idle": "2020-07-14T09:36:31.511549Z",
     "shell.execute_reply": "2020-07-14T09:36:31.512046Z"
    }
   },
   "outputs": [
    {
     "data": {
      "text/html": [
       "<div>\n",
       "<style scoped>\n",
       "    .dataframe tbody tr th:only-of-type {\n",
       "        vertical-align: middle;\n",
       "    }\n",
       "\n",
       "    .dataframe tbody tr th {\n",
       "        vertical-align: top;\n",
       "    }\n",
       "\n",
       "    .dataframe thead th {\n",
       "        text-align: right;\n",
       "    }\n",
       "</style>\n",
       "<table border=\"1\" class=\"dataframe\">\n",
       "  <thead>\n",
       "    <tr style=\"text-align: right;\">\n",
       "      <th></th>\n",
       "      <th>domain-name</th>\n",
       "      <th>domain-description_x</th>\n",
       "      <th>domain-description_y</th>\n",
       "    </tr>\n",
       "  </thead>\n",
       "  <tbody>\n",
       "  </tbody>\n",
       "</table>\n",
       "</div>"
      ],
      "text/plain": [
       "Empty DataFrame\n",
       "Columns: [domain-name, domain-description_x, domain-description_y]\n",
       "Index: []"
      ]
     },
     "execution_count": 31,
     "metadata": {},
     "output_type": "execute_result"
    }
   ],
   "source": [
    "shared_domains_pd=pd.merge(repeated_features_sl,repeated_features_nsl,how='inner',on=['domain-name'])\n",
    "shared_domains_pd\n"
   ]
  },
  {
   "cell_type": "code",
   "execution_count": 32,
   "metadata": {
    "execution": {
     "iopub.execute_input": "2020-07-14T09:36:31.519589Z",
     "iopub.status.busy": "2020-07-14T09:36:31.519014Z",
     "iopub.status.idle": "2020-07-14T09:36:32.874998Z",
     "shell.execute_reply": "2020-07-14T09:36:32.875719Z"
    }
   },
   "outputs": [
    {
     "data": {
      "text/plain": [
       "(0.0, 0.2)"
      ]
     },
     "execution_count": 32,
     "metadata": {},
     "output_type": "execute_result"
    },
    {
     "data": {
      "image/png": "[encoded data removed]",
      "text/plain": [
       "<Figure size 432x288 with 1 Axes>"
      ]
     },
     "metadata": {
      "filenames": {
       "image/png": "/home/runner/work/jupyter-book/jupyter-book/mini_book/docs/_build/jupyter_execute/prot_domains2lethality-FEATURES-POSTPROCESSING_47_1.png"
      },
      "needs_background": "light"
     },
     "output_type": "display_data"
    }
   ],
   "source": [
    "a_sl=x_sl.iloc[:,np.sort(df_sl.iloc[:,1])]\n",
    "a_sl.describe().loc['mean'].hist(bins=8),\n",
    "a_sl.describe().loc['std'].hist(bins=8,alpha=0.4)\n",
    "plt.xlim([0,0.2])"
   ]
  },
  {
   "cell_type": "code",
   "execution_count": 33,
   "metadata": {
    "execution": {
     "iopub.execute_input": "2020-07-14T09:36:32.885244Z",
     "iopub.status.busy": "2020-07-14T09:36:32.884729Z",
     "iopub.status.idle": "2020-07-14T09:36:34.317269Z",
     "shell.execute_reply": "2020-07-14T09:36:34.316792Z"
    }
   },
   "outputs": [
    {
     "data": {
      "text/plain": [
       "(0.0, 0.2)"
      ]
     },
     "execution_count": 33,
     "metadata": {},
     "output_type": "execute_result"
    },
    {
     "data": {
      "image/png": "[encoded data removed]",
      "text/plain": [
       "<Figure size 432x288 with 1 Axes>"
      ]
     },
     "metadata": {
      "filenames": {
       "image/png": "/home/runner/work/jupyter-book/jupyter-book/mini_book/docs/_build/jupyter_execute/prot_domains2lethality-FEATURES-POSTPROCESSING_48_1.png"
      },
      "needs_background": "light"
     },
     "output_type": "display_data"
    }
   ],
   "source": [
    "a_nsl=x_nsl.iloc[:,np.sort(df_nsl.iloc[:,1])]\n",
    "a_nsl.describe().loc['mean'].hist(bins=8),\n",
    "a_nsl.describe().loc['std'].hist(bins=8,alpha=0.4)\n",
    "plt.xlim([0,0.2])"
   ]
  },
  {
   "cell_type": "markdown",
   "metadata": {},
   "source": [
    "### Proof of concept with *BEM1*\n",
    "\n",
    "- Gather the domains of SL and nSL pairs from BEM1\n",
    "- Check if the domains for the SL and nSL pairs are inside the most important domains after PCA."
   ]
  },
  {
   "cell_type": "code",
   "execution_count": 34,
   "metadata": {
    "execution": {
     "iopub.execute_input": "2020-07-14T09:36:34.325313Z",
     "iopub.status.busy": "2020-07-14T09:36:34.324794Z",
     "iopub.status.idle": "2020-07-14T09:36:34.328406Z",
     "shell.execute_reply": "2020-07-14T09:36:34.327885Z"
    }
   },
   "outputs": [],
   "source": [
    "domains_bem1=data_domains[data_domains['name']=='BEM1']['domain-descrip']\n",
    "sl_bem1=data_sl[data_sl['gene-query-name']=='BEM1']['gene-target-name']"
   ]
  },
  {
   "cell_type": "code",
   "execution_count": 35,
   "metadata": {
    "execution": {
     "iopub.execute_input": "2020-07-14T09:36:34.333896Z",
     "iopub.status.busy": "2020-07-14T09:36:34.333407Z",
     "iopub.status.idle": "2020-07-14T09:36:34.340026Z",
     "shell.execute_reply": "2020-07-14T09:36:34.339580Z"
    }
   },
   "outputs": [
    {
     "data": {
      "text/plain": [
       "2846      BEM2\n",
       "2847     CDC24\n",
       "5004      MSB1\n",
       "13777     SMI1\n",
       "13778     BNI1\n",
       "13779     BEM2\n",
       "14385     SKN7\n",
       "Name: gene-target-name, dtype: object"
      ]
     },
     "execution_count": 35,
     "metadata": {},
     "output_type": "execute_result"
    }
   ],
   "source": [
    "sl_bem1"
   ]
  },
  {
   "cell_type": "code",
   "execution_count": 36,
   "metadata": {
    "execution": {
     "iopub.execute_input": "2020-07-14T09:36:34.363331Z",
     "iopub.status.busy": "2020-07-14T09:36:34.362782Z",
     "iopub.status.idle": "2020-07-14T09:36:34.368117Z",
     "shell.execute_reply": "2020-07-14T09:36:34.367674Z"
    }
   },
   "outputs": [
    {
     "data": {
      "text/html": [
       "<div>\n",
       "<style scoped>\n",
       "    .dataframe tbody tr th:only-of-type {\n",
       "        vertical-align: middle;\n",
       "    }\n",
       "\n",
       "    .dataframe tbody tr th {\n",
       "        vertical-align: top;\n",
       "    }\n",
       "\n",
       "    .dataframe thead th {\n",
       "        text-align: right;\n",
       "    }\n",
       "</style>\n",
       "<table border=\"1\" class=\"dataframe\">\n",
       "  <thead>\n",
       "    <tr style=\"text-align: right;\">\n",
       "      <th></th>\n",
       "      <th>gene-query</th>\n",
       "      <th>gene-target</th>\n",
       "      <th>gene-query-name</th>\n",
       "      <th>gene-target-name</th>\n",
       "      <th>gene-query-description</th>\n",
       "      <th>gene-target-description</th>\n",
       "      <th>interaction-type</th>\n",
       "      <th>paper-source</th>\n",
       "    </tr>\n",
       "  </thead>\n",
       "  <tbody>\n",
       "    <tr>\n",
       "      <th>2846</th>\n",
       "      <td>YBR200W</td>\n",
       "      <td>YER155C</td>\n",
       "      <td>BEM1</td>\n",
       "      <td>BEM2</td>\n",
       "      <td>SRO1|phosphatidylinositol-3-phosphate-binding ...</td>\n",
       "      <td>IPL2|SUP9|TSL1|L000000168</td>\n",
       "      <td>Synthetic Lethality</td>\n",
       "      <td>Peterson J (1994)</td>\n",
       "    </tr>\n",
       "    <tr>\n",
       "      <th>2847</th>\n",
       "      <td>YBR200W</td>\n",
       "      <td>YAL041W</td>\n",
       "      <td>BEM1</td>\n",
       "      <td>CDC24</td>\n",
       "      <td>SRO1|phosphatidylinositol-3-phosphate-binding ...</td>\n",
       "      <td>CLS4|Rho family guanine nucleotide exchange fa...</td>\n",
       "      <td>Synthetic Lethality</td>\n",
       "      <td>Peterson J (1994)</td>\n",
       "    </tr>\n",
       "    <tr>\n",
       "      <th>5004</th>\n",
       "      <td>YBR200W</td>\n",
       "      <td>YOR188W</td>\n",
       "      <td>BEM1</td>\n",
       "      <td>MSB1</td>\n",
       "      <td>SRO1|phosphatidylinositol-3-phosphate-binding ...</td>\n",
       "      <td>L000001184</td>\n",
       "      <td>Synthetic Lethality</td>\n",
       "      <td>Bender A (1991)</td>\n",
       "    </tr>\n",
       "    <tr>\n",
       "      <th>13777</th>\n",
       "      <td>YBR200W</td>\n",
       "      <td>YGR229C</td>\n",
       "      <td>BEM1</td>\n",
       "      <td>SMI1</td>\n",
       "      <td>SRO1|phosphatidylinositol-3-phosphate-binding ...</td>\n",
       "      <td>KNR4|L000000909</td>\n",
       "      <td>Synthetic Lethality</td>\n",
       "      <td>Gorelik M (2011)</td>\n",
       "    </tr>\n",
       "    <tr>\n",
       "      <th>13778</th>\n",
       "      <td>YBR200W</td>\n",
       "      <td>YNL271C</td>\n",
       "      <td>BEM1</td>\n",
       "      <td>BNI1</td>\n",
       "      <td>SRO1|phosphatidylinositol-3-phosphate-binding ...</td>\n",
       "      <td>PPF3|SHE5|formin BNI1|L000000190</td>\n",
       "      <td>Synthetic Lethality</td>\n",
       "      <td>Gorelik M (2011)</td>\n",
       "    </tr>\n",
       "    <tr>\n",
       "      <th>13779</th>\n",
       "      <td>YBR200W</td>\n",
       "      <td>YER155C</td>\n",
       "      <td>BEM1</td>\n",
       "      <td>BEM2</td>\n",
       "      <td>SRO1|phosphatidylinositol-3-phosphate-binding ...</td>\n",
       "      <td>IPL2|SUP9|TSL1|L000000168</td>\n",
       "      <td>Synthetic Lethality</td>\n",
       "      <td>Gorelik M (2011)</td>\n",
       "    </tr>\n",
       "    <tr>\n",
       "      <th>14385</th>\n",
       "      <td>YBR200W</td>\n",
       "      <td>YHR206W</td>\n",
       "      <td>BEM1</td>\n",
       "      <td>SKN7</td>\n",
       "      <td>SRO1|phosphatidylinositol-3-phosphate-binding ...</td>\n",
       "      <td>BRY1|POS9|kinase-regulated stress-responsive t...</td>\n",
       "      <td>Dosage Lethality</td>\n",
       "      <td>Bouquin N (1999)</td>\n",
       "    </tr>\n",
       "  </tbody>\n",
       "</table>\n",
       "</div>"
      ],
      "text/plain": [
       "      gene-query gene-target gene-query-name gene-target-name  \\\n",
       "2846     YBR200W     YER155C            BEM1             BEM2   \n",
       "2847     YBR200W     YAL041W            BEM1            CDC24   \n",
       "5004     YBR200W     YOR188W            BEM1             MSB1   \n",
       "13777    YBR200W     YGR229C            BEM1             SMI1   \n",
       "13778    YBR200W     YNL271C            BEM1             BNI1   \n",
       "13779    YBR200W     YER155C            BEM1             BEM2   \n",
       "14385    YBR200W     YHR206W            BEM1             SKN7   \n",
       "\n",
       "                                  gene-query-description  \\\n",
       "2846   SRO1|phosphatidylinositol-3-phosphate-binding ...   \n",
       "2847   SRO1|phosphatidylinositol-3-phosphate-binding ...   \n",
       "5004   SRO1|phosphatidylinositol-3-phosphate-binding ...   \n",
       "13777  SRO1|phosphatidylinositol-3-phosphate-binding ...   \n",
       "13778  SRO1|phosphatidylinositol-3-phosphate-binding ...   \n",
       "13779  SRO1|phosphatidylinositol-3-phosphate-binding ...   \n",
       "14385  SRO1|phosphatidylinositol-3-phosphate-binding ...   \n",
       "\n",
       "                                 gene-target-description     interaction-type  \\\n",
       "2846                           IPL2|SUP9|TSL1|L000000168  Synthetic Lethality   \n",
       "2847   CLS4|Rho family guanine nucleotide exchange fa...  Synthetic Lethality   \n",
       "5004                                          L000001184  Synthetic Lethality   \n",
       "13777                                    KNR4|L000000909  Synthetic Lethality   \n",
       "13778                   PPF3|SHE5|formin BNI1|L000000190  Synthetic Lethality   \n",
       "13779                          IPL2|SUP9|TSL1|L000000168  Synthetic Lethality   \n",
       "14385  BRY1|POS9|kinase-regulated stress-responsive t...     Dosage Lethality   \n",
       "\n",
       "            paper-source  \n",
       "2846   Peterson J (1994)  \n",
       "2847   Peterson J (1994)  \n",
       "5004     Bender A (1991)  \n",
       "13777   Gorelik M (2011)  \n",
       "13778   Gorelik M (2011)  \n",
       "13779   Gorelik M (2011)  \n",
       "14385   Bouquin N (1999)  "
      ]
     },
     "execution_count": 36,
     "metadata": {},
     "output_type": "execute_result"
    }
   ],
   "source": [
    "data_sl[data_sl['gene-query-name']=='BEM1']"
   ]
  },
  {
   "cell_type": "code",
   "execution_count": null,
   "metadata": {},
   "outputs": [],
   "source": []
  }
 ],
 "metadata": {
  "jupytext": {
   "text_representation": {
    "extension": ".md",
    "format_name": "myst"
   }
  },
  "kernelspec": {
   "display_name": "Python 3",
   "language": "python",
   "name": "python3"
  },
  "language_info": {
   "codemirror_mode": {
    "name": "ipython",
    "version": 3
   },
   "file_extension": ".py",
   "mimetype": "text/x-python",
   "name": "python",
   "nbconvert_exporter": "python",
   "pygments_lexer": "ipython3",
   "version": "3.7.6"
  },
  "source_map": [
   10,
   18,
   29,
   36,
   57,
   66,
   98,
   101,
   105,
   128,
   131,
   135,
   139,
   145,
   178,
   184,
   188,
   206,
   210,
   218,
   222,
   225,
   229,
   234,
   238,
   244,
   248,
   253,
   257,
   267,
   269,
   273,
   306,
   311,
   313,
   317,
   328,
   330,
   334,
   344,
   348,
   358,
   360,
   364,
   381,
   388,
   394,
   400,
   407,
   412,
   419,
   424,
   428,
   432
  ]
 },
 "nbformat": 4,
 "nbformat_minor": 4
}