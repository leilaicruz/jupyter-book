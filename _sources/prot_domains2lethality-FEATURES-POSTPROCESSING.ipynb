{
 "cells": [
  {
   "cell_type": "markdown",
   "metadata": {},
   "source": [
    "# Feature postprocessing from paper.\n",
    "- Title:  \"Predicting yeast synthetic lethal genetic interactions using protein domains\"\n",
    "- Authors: Bo Li, Feng Luo,School of Computing,Clemson University,Clemson, SC, USA\n",
    "- e-mail: bol, luofeng@clemson.edu\n",
    "- year:2009"
   ]
  },
  {
   "cell_type": "code",
   "execution_count": 1,
   "metadata": {
    "execution": {
     "iopub.execute_input": "2020-07-22T20:27:43.861381Z",
     "iopub.status.busy": "2020-07-22T20:27:43.860896Z",
     "iopub.status.idle": "2020-07-22T20:27:44.493681Z",
     "shell.execute_reply": "2020-07-22T20:27:44.494102Z"
    }
   },
   "outputs": [],
   "source": [
    "import pandas as pd\n",
    "import numpy as np\n",
    "import matplotlib.pyplot as plt\n",
    "from collections import defaultdict \n",
    "import seaborn as sns\n",
    "import matplotlib.cm as cm\n",
    "import scipy as scipy\n",
    "import random"
   ]
  },
  {
   "cell_type": "markdown",
   "metadata": {
    "jupyter": {
     "source_hidden": true
    }
   },
   "source": [
    "### Importing datasets \n",
    "\n",
    "#### Link to the github repo where the datasets to be downloaded:\n",
    "[DOWNLOAD THE DATASETS HERE](https://github.com/leilaicruz/machine-learning-for-yeast/tree/dev_Leila/datasets-for-learning)"
   ]
  },
  {
   "cell_type": "code",
   "execution_count": 2,
   "metadata": {
    "execution": {
     "iopub.execute_input": "2020-07-22T20:27:44.499843Z",
     "iopub.status.busy": "2020-07-22T20:27:44.499368Z",
     "iopub.status.idle": "2020-07-22T20:27:50.609272Z",
     "shell.execute_reply": "2020-07-22T20:27:50.608803Z"
    }
   },
   "outputs": [],
   "source": [
    "import os\n",
    "script_dir = os.path.dirname('__file__') #<-- absolute dir the script is in\n",
    "rel_path_SL = \"datasets/data-synthetic-lethals.xlsx\"\n",
    "rel_path_nSL=\"datasets/data-positive-genetic.xlsx\"\n",
    "rel_path_domains=\"datasets/proteins-domains-from-Pfam.xlsx\"\n",
    "\n",
    "abs_file_path_SL = os.path.join(script_dir, rel_path_SL)\n",
    "abs_file_path_nSL = os.path.join(script_dir, rel_path_nSL)\n",
    "abs_file_path_domains = os.path.join(script_dir, rel_path_domains)\n",
    "\n",
    "# os.chdir('mini_book/docs/') #<-- for binder os.chdir('../')\n",
    "# os.chdir('../')\n",
    "my_path_sl= abs_file_path_SL\n",
    "my_path_non_sl=abs_file_path_nSL\n",
    "my_path_domains=abs_file_path_domains\n",
    "\n",
    "data_sl=pd.read_excel(my_path_sl,header=0)\n",
    "data_domains=pd.read_excel(my_path_domains,header=0,index_col='Unnamed: 0')\n",
    "data_domains=data_domains.dropna()\n",
    "data_nonsl=pd.read_excel(my_path_non_sl,header=0)"
   ]
  },
  {
   "cell_type": "markdown",
   "metadata": {},
   "source": [
    "## Building the feature matrix\n",
    "One matrix for true SL where each row is one pair of SL. Every raw will be a vector of 0,1 or 2 depending on the comparison with the domain list. For row i the jth element = 0 if the jth element of the domain list is not in neither protein A and B, 1, if it is in one of them and 2 if it is in both of them .\n",
    "\n",
    "### Building the list of proteins domains id per protein pair separately :\n",
    "- List of protein A: Search for the Sl/nSL database the query gene name and look in the protein domain database which protein domains id has each of those queries.\n",
    "- List of protein B: Search for the Sl/nSL database the target gene name of the previous query and look in the protein domain database which protein domains id has each of those target genes."
   ]
  },
  {
   "cell_type": "code",
   "execution_count": 3,
   "metadata": {
    "execution": {
     "iopub.execute_input": "2020-07-22T20:27:50.623215Z",
     "iopub.status.busy": "2020-07-22T20:27:50.616674Z",
     "iopub.status.idle": "2020-07-22T20:27:52.415523Z",
     "shell.execute_reply": "2020-07-22T20:27:52.414706Z"
    }
   },
   "outputs": [],
   "source": [
    "# Selecting the meaningful columns in the respective dataset\n",
    "domain_id_list=data_domains['domain-name']\n",
    "query_gene=data_sl['gene-query-name']\n",
    "target_gene=data_sl['gene-target-name']\n",
    "query_gene_nonlethal=data_nonsl['gene-query-name']\n",
    "target_gene_nonlethal=data_nonsl['gene-target-name']\n",
    "\n",
    "\n",
    "\n",
    "# Initialising the arrays\n",
    "protein_a_list=[]\n",
    "protein_b_list=[]\n",
    "protein_a_list_non=[]\n",
    "protein_b_list_non=[]\n",
    "\n",
    "population = np.arange(0,len(data_sl))\n",
    "\n",
    "# For loop for 10000 pairs sampled randomly from the SL/nSl pair list , and creating a big array of proteind domains id per protein pair\n",
    "\n",
    "for m in random.sample(list(population), 500):\n",
    "    protein_a=data_domains[data_domains['name']==query_gene[m]]\n",
    "    protein_b=data_domains[data_domains['name']==target_gene[m]]\n",
    "    protein_a_list.append(protein_a['domain-name'].tolist())\n",
    "    protein_b_list.append(protein_b['domain-name'].tolist())\n",
    "\n",
    "    protein_a_non=data_domains[data_domains['name']==query_gene_nonlethal[m]]\n",
    "    protein_b_non=data_domains[data_domains['name']==target_gene_nonlethal[m]]\n",
    "    protein_a_list_non.append(protein_a_non['domain-name'].tolist())\n",
    "    protein_b_list_non.append(protein_b_non['domain-name'].tolist())"
   ]
  },
  {
   "cell_type": "code",
   "execution_count": 4,
   "metadata": {
    "execution": {
     "iopub.execute_input": "2020-07-22T20:27:52.420048Z",
     "iopub.status.busy": "2020-07-22T20:27:52.419115Z",
     "iopub.status.idle": "2020-07-22T20:27:52.423562Z",
     "shell.execute_reply": "2020-07-22T20:27:52.423976Z"
    }
   },
   "outputs": [
    {
     "name": "stdout",
     "output_type": "stream",
     "text": [
      "We are going to analyze 500 protein pairs, out of 17871 SL protein pairs\n",
      "We are going to analyze 500 protein pairs, out of 43340 positive protein pairs\n"
     ]
    }
   ],
   "source": [
    "print('We are going to analyze',len((protein_a_list)) ,'protein pairs, out of',len(data_sl),'SL protein pairs')\n",
    "print('We are going to analyze',len((protein_a_list_non)) ,'protein pairs, out of',len(data_nonsl),'positive protein pairs')"
   ]
  },
  {
   "cell_type": "markdown",
   "metadata": {},
   "source": [
    "### Postprocessing #1:  Remove protein pairs from study if either protein in the pair does not contain any domain"
   ]
  },
  {
   "cell_type": "code",
   "execution_count": 5,
   "metadata": {
    "execution": {
     "iopub.execute_input": "2020-07-22T20:27:52.433029Z",
     "iopub.status.busy": "2020-07-22T20:27:52.432442Z",
     "iopub.status.idle": "2020-07-22T20:27:52.435682Z",
     "shell.execute_reply": "2020-07-22T20:27:52.436059Z"
    }
   },
   "outputs": [],
   "source": [
    "def remove_empty_domains(protein_list_search,protein_list_pair):\n",
    "    index=[]\n",
    "    for i in np.arange(0,len(protein_list_search)):\n",
    "        if protein_list_search[i]==[] or protein_list_pair[i]==[]:\n",
    "            index.append(i) ## index of empty values for the protein_a_list meaning they dont have any annotated domain\n",
    "\n",
    "    y=[x for x in np.arange(0,len(protein_list_search)) if x not in index] # a list with non empty values from protein_a list\n",
    "\n",
    "    protein_list_search_new=[]\n",
    "    protein_list_pair_new=[]\n",
    "    for i in y:\n",
    "        protein_list_search_new.append(protein_list_search[i])\n",
    "        protein_list_pair_new.append(protein_list_pair[i])\n",
    "    return protein_list_search_new,protein_list_pair_new\n",
    "\n",
    "## evaluating the function\n",
    "\n",
    "protein_a_list_new,protein_b_list_new=remove_empty_domains(protein_a_list,protein_b_list)\n",
    "\n",
    "protein_a_list_non_new,protein_b_list_non_new=remove_empty_domains(protein_a_list_non,protein_b_list_non)"
   ]
  },
  {
   "cell_type": "code",
   "execution_count": 6,
   "metadata": {
    "execution": {
     "iopub.execute_input": "2020-07-22T20:27:52.440164Z",
     "iopub.status.busy": "2020-07-22T20:27:52.439284Z",
     "iopub.status.idle": "2020-07-22T20:27:52.443536Z",
     "shell.execute_reply": "2020-07-22T20:27:52.442678Z"
    }
   },
   "outputs": [
    {
     "name": "stdout",
     "output_type": "stream",
     "text": [
      "The empty domain in the SL were: 77 out of 500 domains\n",
      "The empty domain in the nSL were: 90 out of 500 domains\n"
     ]
    }
   ],
   "source": [
    "print('The empty domain in the SL were:', len(protein_a_list)-len(protein_a_list_new), 'out of', len(protein_a_list),'domains')\n",
    "print('The empty domain in the nSL were:', len(protein_a_list_non)-len(protein_a_list_non_new), 'out of', len(protein_a_list_non),'domains')"
   ]
  },
  {
   "cell_type": "markdown",
   "metadata": {},
   "source": [
    "### Feature engineering: Select from each ordered indexes of domain id list which of them appear once, in both or in any of the domains of each protein pair"
   ]
  },
  {
   "cell_type": "markdown",
   "metadata": {},
   "source": [
    "#### Define function `get_indexes`"
   ]
  },
  {
   "cell_type": "code",
   "execution_count": 7,
   "metadata": {
    "execution": {
     "iopub.execute_input": "2020-07-22T20:27:52.449607Z",
     "iopub.status.busy": "2020-07-22T20:27:52.449127Z",
     "iopub.status.idle": "2020-07-22T20:27:52.453429Z",
     "shell.execute_reply": "2020-07-22T20:27:52.453832Z"
    }
   },
   "outputs": [
    {
     "data": {
      "text/plain": [
       "[1, 2]"
      ]
     },
     "execution_count": 7,
     "metadata": {},
     "output_type": "execute_result"
    }
   ],
   "source": [
    "get_indexes = lambda x, xs: [i for (y, i) in zip(xs, range(len(xs))) if x == y] # a function that give the index of whether a value appear in array or not\n",
    "a=[1,2,2,4,5,6,7,8,9,10]\n",
    "get_indexes(2,a)"
   ]
  },
  {
   "cell_type": "code",
   "execution_count": 8,
   "metadata": {
    "execution": {
     "iopub.execute_input": "2020-07-22T20:27:52.461640Z",
     "iopub.status.busy": "2020-07-22T20:27:52.460958Z",
     "iopub.status.idle": "2020-07-22T20:27:52.464563Z",
     "shell.execute_reply": "2020-07-22T20:27:52.465329Z"
    }
   },
   "outputs": [],
   "source": [
    "def feature_building(protein_a_list_new,protein_b_list_new):\n",
    "    x = np.unique(domain_id_list)\n",
    "    ## To avoid taking repeated domains from one protein of the pairs , lets reduced the domains of each protein from the pairs to their unique members\n",
    "    protein_a_list_unique=[]\n",
    "    protein_b_list_unique=[]\n",
    "    for i in np.arange(0,len(protein_a_list_new)):\n",
    "        protein_a_list_unique.append(np.unique(protein_a_list_new[i]))\n",
    "        protein_b_list_unique.append(np.unique(protein_b_list_new[i]))\n",
    "        \n",
    "    protein_feat_true=np.zeros(shape=(len(x),len(protein_a_list_unique)))\n",
    "    pair_a_b_array=[]\n",
    "    for i in np.arange(0,len(protein_a_list_unique)):\n",
    "        index_a=[]\n",
    "        \n",
    "        pair=[protein_a_list_unique[i],protein_b_list_unique[i]]\n",
    "        pair_a_b=np.concatenate(pair).ravel()\n",
    "        pair_a_b_array.append(pair_a_b)\n",
    "\n",
    "    j=0\n",
    "    for i in pair_a_b_array:  \n",
    "        array,index,counts=np.unique(i,return_index=True,return_counts=True)\n",
    "        \n",
    "        for k,m in zip(counts,array):\n",
    "            if k ==2:\n",
    "                protein_feat_true[get_indexes(m,x),j]=2\n",
    "                \n",
    "            if k==1:\n",
    "                protein_feat_true[get_indexes(m,x),j]=1\n",
    "        j=j+1\n",
    "    return protein_feat_true"
   ]
  },
  {
   "cell_type": "code",
   "execution_count": 9,
   "metadata": {
    "execution": {
     "iopub.execute_input": "2020-07-22T20:27:52.473794Z",
     "iopub.status.busy": "2020-07-22T20:27:52.472914Z",
     "iopub.status.idle": "2020-07-22T20:27:53.112659Z",
     "shell.execute_reply": "2020-07-22T20:27:53.111634Z"
    }
   },
   "outputs": [],
   "source": [
    "protein_feat_true=feature_building(protein_b_list_new=protein_b_list_new,protein_a_list_new=protein_a_list_new)\n",
    "protein_feat_true_pd=pd.DataFrame(protein_feat_true.T)\n",
    "\n",
    "protein_feat_non_true=feature_building(protein_b_list_new=protein_b_list_non_new,protein_a_list_new=protein_a_list_non_new)\n",
    "protein_feat_non_true_pd=pd.DataFrame(protein_feat_non_true.T)"
   ]
  },
  {
   "cell_type": "markdown",
   "metadata": {},
   "source": [
    "### How many ones and twos are in each dataset"
   ]
  },
  {
   "cell_type": "code",
   "execution_count": 10,
   "metadata": {
    "execution": {
     "iopub.execute_input": "2020-07-22T20:27:53.119799Z",
     "iopub.status.busy": "2020-07-22T20:27:53.118850Z",
     "iopub.status.idle": "2020-07-22T20:27:53.197377Z",
     "shell.execute_reply": "2020-07-22T20:27:53.196728Z"
    }
   },
   "outputs": [
    {
     "name": "stdout",
     "output_type": "stream",
     "text": [
      "fraction of twos in the SL array is 2.6571322509426957e-05\n",
      "fraction of ones in the SL array is 0.0009972061035890822\n",
      "fraction of twos in the PI array is 1.612578109252167e-06\n",
      "fraction of ones in the PI array is 0.0009490022172949002\n"
     ]
    }
   ],
   "source": [
    "index_2_true=protein_feat_true_pd.where(protein_feat_true_pd==2)\n",
    "index_2_true_count=index_2_true.count(axis=1).sum()\n",
    "\n",
    "index_1_true=protein_feat_true_pd.where(protein_feat_true_pd==1)\n",
    "index_1_true_count=index_1_true.count(axis=1).sum()\n",
    "\n",
    "index_2_nontrue=protein_feat_non_true_pd.where(protein_feat_non_true_pd==2)\n",
    "index_2_nontrue_count=index_2_nontrue.count(axis=1).sum()\n",
    "\n",
    "index_1_nontrue=protein_feat_non_true_pd.where(protein_feat_non_true_pd==1)\n",
    "index_1_nontrue_count=index_1_nontrue.count(axis=1).sum()\n",
    "\n",
    "\n",
    "print('fraction of twos in the SL array is',index_2_true_count/(len(protein_feat_true_pd.index)*len(protein_feat_true_pd.columns)))\n",
    "print('fraction of ones in the SL array is',index_1_true_count/(len(protein_feat_true_pd.index)*len(protein_feat_true_pd.columns)))\n",
    "print('fraction of twos in the PI array is',index_2_nontrue_count/(len(protein_feat_non_true_pd.index)*len(protein_feat_non_true_pd.columns)))\n",
    "print('fraction of ones in the PI array is',index_1_nontrue_count/(len(protein_feat_non_true_pd.index)*len(protein_feat_non_true_pd.columns)))"
   ]
  },
  {
   "cell_type": "markdown",
   "metadata": {},
   "source": [
    "#### Bar plot to visualize these numbers"
   ]
  },
  {
   "cell_type": "code",
   "execution_count": 11,
   "metadata": {
    "execution": {
     "iopub.execute_input": "2020-07-22T20:27:53.221345Z",
     "iopub.status.busy": "2020-07-22T20:27:53.218315Z",
     "iopub.status.idle": "2020-07-22T20:27:53.657624Z",
     "shell.execute_reply": "2020-07-22T20:27:53.658294Z"
    }
   },
   "outputs": [
    {
     "data": {
      "text/plain": [
       "([0, 1, 2, 3],\n",
       " [Text(0, 0, ''), Text(0, 0, ''), Text(0, 0, ''), Text(0, 0, '')])"
      ]
     },
     "execution_count": 11,
     "metadata": {},
     "output_type": "execute_result"
    },
    {
     "data": {
      "image/png": "[encoded data removed]",
      "text/plain": [
       "<Figure size 432x288 with 1 Axes>"
      ]
     },
     "metadata": {
      "filenames": {
       "image/png": "/home/runner/work/jupyter-book/jupyter-book/mini_book/docs/_build/jupyter_execute/prot_domains2lethality-FEATURES-POSTPROCESSING_18_1.png"
      },
      "needs_background": "light"
     },
     "output_type": "display_data"
    }
   ],
   "source": [
    "plt.bar(['fraction of 2 in the nSL','fraction of 1 in the nSL'],[index_2_nontrue_count/(len(protein_feat_non_true_pd.index)*len(protein_feat_non_true_pd.columns)),index_1_nontrue_count/(len(protein_feat_non_true_pd.index)*len(protein_feat_non_true_pd.columns))],alpha=0.6,color=['blue','lightblue']), \n",
    "\n",
    "plt.bar(['fraction of 2 in SL ','fraction of 1 in SL'],[index_2_true_count/(len(protein_feat_true_pd.index)*len(protein_feat_true_pd.columns)),index_1_true_count/(len(protein_feat_true_pd.index)*len(protein_feat_true_pd.columns))],alpha=0.6,color=['coral','lightcoral'])\n",
    "\n",
    "plt.ylabel('Fraction from the population')\n",
    "plt.yscale('log')\n",
    "plt.xticks(rotation=40)"
   ]
  },
  {
   "cell_type": "markdown",
   "metadata": {},
   "source": [
    "#### Adding the labels(response variables) to each dataset"
   ]
  },
  {
   "cell_type": "code",
   "execution_count": 12,
   "metadata": {
    "execution": {
     "iopub.execute_input": "2020-07-22T20:27:53.664386Z",
     "iopub.status.busy": "2020-07-22T20:27:53.662048Z",
     "iopub.status.idle": "2020-07-22T20:27:53.666912Z",
     "shell.execute_reply": "2020-07-22T20:27:53.667602Z"
    }
   },
   "outputs": [],
   "source": [
    "protein_feat_true_pd['lethality']=np.ones(shape=(len(protein_a_list_new)))\n",
    "protein_feat_non_true_pd['lethality']=np.zeros(shape=(len(protein_a_list_non_new)))"
   ]
  },
  {
   "cell_type": "markdown",
   "metadata": {},
   "source": [
    "#### Joining both datasets"
   ]
  },
  {
   "cell_type": "code",
   "execution_count": 13,
   "metadata": {
    "execution": {
     "iopub.execute_input": "2020-07-22T20:27:53.672413Z",
     "iopub.status.busy": "2020-07-22T20:27:53.671716Z",
     "iopub.status.idle": "2020-07-22T20:27:53.706066Z",
     "shell.execute_reply": "2020-07-22T20:27:53.706432Z"
    }
   },
   "outputs": [
    {
     "name": "stdout",
     "output_type": "stream",
     "text": [
      "The number of features are: 3026\n",
      "The number of samples are: 833\n"
     ]
    }
   ],
   "source": [
    "feature_post=pd.concat([protein_feat_true_pd,protein_feat_non_true_pd],axis=0)\n",
    "feature_post=feature_post.set_index(np.arange(0,len(protein_a_list_new)+len(protein_a_list_non_new)))\n",
    "print('The number of features are:',feature_post.shape[1])\n",
    "print('The number of samples are:',feature_post.shape[0])"
   ]
  },
  {
   "cell_type": "markdown",
   "metadata": {},
   "source": [
    "### Postprocessing and exploration of the feature matrix of both datasets"
   ]
  },
  {
   "cell_type": "code",
   "execution_count": 14,
   "metadata": {
    "execution": {
     "iopub.execute_input": "2020-07-22T20:27:53.720514Z",
     "iopub.status.busy": "2020-07-22T20:27:53.712431Z",
     "iopub.status.idle": "2020-07-22T20:27:58.610305Z",
     "shell.execute_reply": "2020-07-22T20:27:58.609505Z"
    }
   },
   "outputs": [],
   "source": [
    "mean=feature_post.T.describe().loc['mean']\n",
    "std=feature_post.T.describe().loc['std']\n",
    "lethality=feature_post['lethality']\n",
    "\n",
    "corr_keys=pd.concat([mean,std,lethality],axis=1)"
   ]
  },
  {
   "cell_type": "markdown",
   "metadata": {},
   "source": [
    "### Viz of the stats"
   ]
  },
  {
   "cell_type": "code",
   "execution_count": 15,
   "metadata": {
    "execution": {
     "iopub.execute_input": "2020-07-22T20:27:58.629459Z",
     "iopub.status.busy": "2020-07-22T20:27:58.625222Z",
     "iopub.status.idle": "2020-07-22T20:28:00.307051Z",
     "shell.execute_reply": "2020-07-22T20:28:00.305936Z"
    }
   },
   "outputs": [
    {
     "data": {
      "text/plain": [
       "Text(0.5, 1.08, 'Pairplot to see data dependencies with Lethality')"
      ]
     },
     "execution_count": 15,
     "metadata": {},
     "output_type": "execute_result"
    },
    {
     "data": {
      "image/png": "[encoded data removed]",
      "text/plain": [
       "<Figure size 412x360 with 6 Axes>"
      ]
     },
     "metadata": {
      "filenames": {
       "image/png": "/home/runner/work/jupyter-book/jupyter-book/mini_book/docs/_build/jupyter_execute/prot_domains2lethality-FEATURES-POSTPROCESSING_26_1.png"
      },
      "needs_background": "light"
     },
     "output_type": "display_data"
    }
   ],
   "source": [
    "pair=sns.pairplot(corr_keys,hue='lethality',diag_kind='kde',kind='reg',palette='colorblind')\n",
    "pair.fig.suptitle('Pairplot to see data dependencies with Lethality',y=1.08)"
   ]
  },
  {
   "cell_type": "code",
   "execution_count": 16,
   "metadata": {
    "execution": {
     "iopub.execute_input": "2020-07-22T20:28:00.317312Z",
     "iopub.status.busy": "2020-07-22T20:28:00.316808Z",
     "iopub.status.idle": "2020-07-22T20:28:00.320813Z",
     "shell.execute_reply": "2020-07-22T20:28:00.319835Z"
    }
   },
   "outputs": [],
   "source": [
    "X, y = feature_post.drop(columns=[\"lethality\"]), feature_post[\"lethality\"]"
   ]
  },
  {
   "cell_type": "code",
   "execution_count": 17,
   "metadata": {
    "execution": {
     "iopub.execute_input": "2020-07-22T20:28:00.325215Z",
     "iopub.status.busy": "2020-07-22T20:28:00.324490Z",
     "iopub.status.idle": "2020-07-22T20:28:00.452976Z",
     "shell.execute_reply": "2020-07-22T20:28:00.453415Z"
    }
   },
   "outputs": [],
   "source": [
    "from sklearn.preprocessing import StandardScaler\n",
    "scaler = StandardScaler()\n",
    "x_sl=protein_feat_true_pd.drop(columns=['lethality'])\n",
    "x_nsl=protein_feat_non_true_pd.drop(columns=['lethality'])\n",
    "\n",
    "X_sl_scaled = scaler.fit_transform(x_sl)\n",
    "X_nsl_scaled = scaler.fit_transform(x_nsl)"
   ]
  },
  {
   "cell_type": "code",
   "execution_count": 18,
   "metadata": {
    "execution": {
     "iopub.execute_input": "2020-07-22T20:28:00.457387Z",
     "iopub.status.busy": "2020-07-22T20:28:00.456849Z",
     "iopub.status.idle": "2020-07-22T20:28:00.462011Z",
     "shell.execute_reply": "2020-07-22T20:28:00.461574Z"
    }
   },
   "outputs": [
    {
     "data": {
      "text/plain": [
       "(423, 3025)"
      ]
     },
     "execution_count": 18,
     "metadata": {},
     "output_type": "execute_result"
    }
   ],
   "source": [
    "np.shape(X_sl_scaled)"
   ]
  },
  {
   "cell_type": "markdown",
   "metadata": {},
   "source": [
    "## How redundant are each of the protein domains?"
   ]
  },
  {
   "cell_type": "code",
   "execution_count": 19,
   "metadata": {
    "execution": {
     "iopub.execute_input": "2020-07-22T20:28:00.468398Z",
     "iopub.status.busy": "2020-07-22T20:28:00.467903Z",
     "iopub.status.idle": "2020-07-22T20:28:00.470859Z",
     "shell.execute_reply": "2020-07-22T20:28:00.471253Z"
    }
   },
   "outputs": [],
   "source": [
    "def PCA_component_contribution(scaled_matrix,original_data):\n",
    "    from sklearn.decomposition import PCA\n",
    "\n",
    "    model = PCA(0.95).fit(scaled_matrix)\n",
    "    ## apply dimensionality reduction to X_train\n",
    "    output_pca = model.transform(scaled_matrix)\n",
    "    \n",
    "    total=sum(model.explained_variance_)\n",
    "\n",
    "\n",
    "   \n",
    "    # number of components , that it will be the number of main axes times the number of original components \n",
    "    n_pcs= model.components_.shape[0] # the amount of non redundant protein domains \n",
    "\n",
    "    # get the index of the most important feature on EACH component\n",
    "    # LIST COMPREHENSION HERE\n",
    "    most_important = [np.abs(model.components_[i]).argmax() for i in range(n_pcs)]\n",
    "\n",
    "    initial_feature_names = original_data.columns\n",
    "    # get the names\n",
    "    most_important_names = [initial_feature_names[most_important[i]] for i in range(n_pcs)]\n",
    "    \n",
    "\n",
    "    # LIST COMPREHENSION HERE AGAIN\n",
    "    dic = {'PC{}'.format(i): most_important_names[i] for i in range(n_pcs)}\n",
    "\n",
    "    # build the dataframe\n",
    "    df = pd.DataFrame(dic.items(),columns=['pca-component','domain-number'])\n",
    "\n",
    "    return df,model.components_"
   ]
  },
  {
   "cell_type": "code",
   "execution_count": 20,
   "metadata": {
    "execution": {
     "iopub.execute_input": "2020-07-22T20:28:00.474621Z",
     "iopub.status.busy": "2020-07-22T20:28:00.474134Z",
     "iopub.status.idle": "2020-07-22T20:28:01.228563Z",
     "shell.execute_reply": "2020-07-22T20:28:01.229229Z"
    }
   },
   "outputs": [],
   "source": [
    "df_sl,components_pca_nsl=PCA_component_contribution(X_nsl_scaled,x_nsl)\n",
    "df_nsl,components_pca_sl=PCA_component_contribution(X_sl_scaled,x_sl)"
   ]
  },
  {
   "cell_type": "code",
   "execution_count": 21,
   "metadata": {
    "execution": {
     "iopub.execute_input": "2020-07-22T20:28:01.232353Z",
     "iopub.status.busy": "2020-07-22T20:28:01.231328Z",
     "iopub.status.idle": "2020-07-22T20:28:01.241503Z",
     "shell.execute_reply": "2020-07-22T20:28:01.242653Z"
    }
   },
   "outputs": [
    {
     "data": {
      "text/html": [
       "<div>\n",
       "<style scoped>\n",
       "    .dataframe tbody tr th:only-of-type {\n",
       "        vertical-align: middle;\n",
       "    }\n",
       "\n",
       "    .dataframe tbody tr th {\n",
       "        vertical-align: top;\n",
       "    }\n",
       "\n",
       "    .dataframe thead th {\n",
       "        text-align: right;\n",
       "    }\n",
       "</style>\n",
       "<table border=\"1\" class=\"dataframe\">\n",
       "  <thead>\n",
       "    <tr style=\"text-align: right;\">\n",
       "      <th></th>\n",
       "      <th>pca-component</th>\n",
       "      <th>domain-number</th>\n",
       "    </tr>\n",
       "  </thead>\n",
       "  <tbody>\n",
       "    <tr>\n",
       "      <th>0</th>\n",
       "      <td>PC0</td>\n",
       "      <td>305</td>\n",
       "    </tr>\n",
       "    <tr>\n",
       "      <th>1</th>\n",
       "      <td>PC1</td>\n",
       "      <td>689</td>\n",
       "    </tr>\n",
       "    <tr>\n",
       "      <th>2</th>\n",
       "      <td>PC2</td>\n",
       "      <td>481</td>\n",
       "    </tr>\n",
       "    <tr>\n",
       "      <th>3</th>\n",
       "      <td>PC3</td>\n",
       "      <td>1417</td>\n",
       "    </tr>\n",
       "    <tr>\n",
       "      <th>4</th>\n",
       "      <td>PC4</td>\n",
       "      <td>301</td>\n",
       "    </tr>\n",
       "  </tbody>\n",
       "</table>\n",
       "</div>"
      ],
      "text/plain": [
       "  pca-component  domain-number\n",
       "0           PC0            305\n",
       "1           PC1            689\n",
       "2           PC2            481\n",
       "3           PC3           1417\n",
       "4           PC4            301"
      ]
     },
     "execution_count": 21,
     "metadata": {},
     "output_type": "execute_result"
    }
   ],
   "source": [
    "df_sl.head()"
   ]
  },
  {
   "cell_type": "markdown",
   "metadata": {},
   "source": [
    "## which are the shared domains between nSL and SL pairs , in the PCA reduced samples"
   ]
  },
  {
   "cell_type": "code",
   "execution_count": 22,
   "metadata": {
    "execution": {
     "iopub.execute_input": "2020-07-22T20:28:01.246682Z",
     "iopub.status.busy": "2020-07-22T20:28:01.245513Z",
     "iopub.status.idle": "2020-07-22T20:28:01.277051Z",
     "shell.execute_reply": "2020-07-22T20:28:01.277774Z"
    }
   },
   "outputs": [
    {
     "data": {
      "text/html": [
       "<div>\n",
       "<style scoped>\n",
       "    .dataframe tbody tr th:only-of-type {\n",
       "        vertical-align: middle;\n",
       "    }\n",
       "\n",
       "    .dataframe tbody tr th {\n",
       "        vertical-align: top;\n",
       "    }\n",
       "\n",
       "    .dataframe thead th {\n",
       "        text-align: right;\n",
       "    }\n",
       "</style>\n",
       "<table border=\"1\" class=\"dataframe\">\n",
       "  <thead>\n",
       "    <tr style=\"text-align: right;\">\n",
       "      <th></th>\n",
       "      <th>pca-component_x</th>\n",
       "      <th>domain-number</th>\n",
       "      <th>pca-component_y</th>\n",
       "      <th>domain-description</th>\n",
       "    </tr>\n",
       "  </thead>\n",
       "  <tbody>\n",
       "    <tr>\n",
       "      <th>0</th>\n",
       "      <td>PC10</td>\n",
       "      <td>875</td>\n",
       "      <td>PC57</td>\n",
       "      <td>FDF; FDF domain</td>\n",
       "    </tr>\n",
       "    <tr>\n",
       "      <th>1</th>\n",
       "      <td>PC18</td>\n",
       "      <td>1253</td>\n",
       "      <td>PC59</td>\n",
       "      <td>KA1; Kinase associated domain 1 (KA1)</td>\n",
       "    </tr>\n",
       "    <tr>\n",
       "      <th>2</th>\n",
       "      <td>PC20</td>\n",
       "      <td>926</td>\n",
       "      <td>PC19</td>\n",
       "      <td>Flp_C; Recombinase Flp protein</td>\n",
       "    </tr>\n",
       "    <tr>\n",
       "      <th>3</th>\n",
       "      <td>PC20</td>\n",
       "      <td>926</td>\n",
       "      <td>PC20</td>\n",
       "      <td>Flp_C; Recombinase Flp protein</td>\n",
       "    </tr>\n",
       "    <tr>\n",
       "      <th>4</th>\n",
       "      <td>PC22</td>\n",
       "      <td>1043</td>\n",
       "      <td>PC8</td>\n",
       "      <td>Glyco_hydro_15; Glycoside hydrolase family 15/...</td>\n",
       "    </tr>\n",
       "    <tr>\n",
       "      <th>5</th>\n",
       "      <td>PC39</td>\n",
       "      <td>842</td>\n",
       "      <td>PC144</td>\n",
       "      <td>Endosulfine; Endosulphine</td>\n",
       "    </tr>\n",
       "    <tr>\n",
       "      <th>6</th>\n",
       "      <td>PC40</td>\n",
       "      <td>420</td>\n",
       "      <td>PC173</td>\n",
       "      <td>CSG2; Mannosyl phosphorylinositol ceramide syn...</td>\n",
       "    </tr>\n",
       "    <tr>\n",
       "      <th>7</th>\n",
       "      <td>PC43</td>\n",
       "      <td>502</td>\n",
       "      <td>PC87</td>\n",
       "      <td>Cohesin_load; Chromatid cohesion factor MAU2</td>\n",
       "    </tr>\n",
       "    <tr>\n",
       "      <th>8</th>\n",
       "      <td>PC45</td>\n",
       "      <td>982</td>\n",
       "      <td>PC84</td>\n",
       "      <td>GHMP_kinases_C; GHMP kinase, C-terminal domain</td>\n",
       "    </tr>\n",
       "    <tr>\n",
       "      <th>9</th>\n",
       "      <td>PC54</td>\n",
       "      <td>629</td>\n",
       "      <td>PC99</td>\n",
       "      <td>DSHCT; ATP-dependent RNA helicase Ski2, C-term...</td>\n",
       "    </tr>\n",
       "    <tr>\n",
       "      <th>10</th>\n",
       "      <td>PC57</td>\n",
       "      <td>299</td>\n",
       "      <td>PC285</td>\n",
       "      <td>Bmt2; 25S rRNA (adenine(2142)-N(1))-methyltran...</td>\n",
       "    </tr>\n",
       "    <tr>\n",
       "      <th>11</th>\n",
       "      <td>PC58</td>\n",
       "      <td>722</td>\n",
       "      <td>PC271</td>\n",
       "      <td>DUF4448; Protein of unknown function DUF4448</td>\n",
       "    </tr>\n",
       "    <tr>\n",
       "      <th>12</th>\n",
       "      <td>PC90</td>\n",
       "      <td>446</td>\n",
       "      <td>PC229</td>\n",
       "      <td>Catalase; Catalase core domain</td>\n",
       "    </tr>\n",
       "    <tr>\n",
       "      <th>13</th>\n",
       "      <td>PC102</td>\n",
       "      <td>1449</td>\n",
       "      <td>PC202</td>\n",
       "      <td>Med4; Mediator complex, subunit Med4</td>\n",
       "    </tr>\n",
       "    <tr>\n",
       "      <th>14</th>\n",
       "      <td>PC104</td>\n",
       "      <td>360</td>\n",
       "      <td>PC167</td>\n",
       "      <td>CLASP_N; CLASP N-terminal domain</td>\n",
       "    </tr>\n",
       "    <tr>\n",
       "      <th>15</th>\n",
       "      <td>PC112</td>\n",
       "      <td>68</td>\n",
       "      <td>PC141</td>\n",
       "      <td>AIRC; PurE domain</td>\n",
       "    </tr>\n",
       "    <tr>\n",
       "      <th>16</th>\n",
       "      <td>PC116</td>\n",
       "      <td>1325</td>\n",
       "      <td>PC224</td>\n",
       "      <td>Lgl_C; Lethal giant larvae (Lgl)-like, C-termi...</td>\n",
       "    </tr>\n",
       "    <tr>\n",
       "      <th>17</th>\n",
       "      <td>PC116</td>\n",
       "      <td>1325</td>\n",
       "      <td>PC236</td>\n",
       "      <td>Lgl_C; Lethal giant larvae (Lgl)-like, C-termi...</td>\n",
       "    </tr>\n",
       "    <tr>\n",
       "      <th>18</th>\n",
       "      <td>PC117</td>\n",
       "      <td>1325</td>\n",
       "      <td>PC224</td>\n",
       "      <td>Lgl_C; Lethal giant larvae (Lgl)-like, C-termi...</td>\n",
       "    </tr>\n",
       "    <tr>\n",
       "      <th>19</th>\n",
       "      <td>PC117</td>\n",
       "      <td>1325</td>\n",
       "      <td>PC236</td>\n",
       "      <td>Lgl_C; Lethal giant larvae (Lgl)-like, C-termi...</td>\n",
       "    </tr>\n",
       "    <tr>\n",
       "      <th>20</th>\n",
       "      <td>PC128</td>\n",
       "      <td>1672</td>\n",
       "      <td>PC183</td>\n",
       "      <td>Opi1; Transcription factor Opi1</td>\n",
       "    </tr>\n",
       "    <tr>\n",
       "      <th>21</th>\n",
       "      <td>PC132</td>\n",
       "      <td>310</td>\n",
       "      <td>PC184</td>\n",
       "      <td>C1_1; Protein kinase C-like, phorbol ester/dia...</td>\n",
       "    </tr>\n",
       "    <tr>\n",
       "      <th>22</th>\n",
       "      <td>PC136</td>\n",
       "      <td>1114</td>\n",
       "      <td>PC111</td>\n",
       "      <td>HHH_5</td>\n",
       "    </tr>\n",
       "    <tr>\n",
       "      <th>23</th>\n",
       "      <td>PC142</td>\n",
       "      <td>1570</td>\n",
       "      <td>PC196</td>\n",
       "      <td>NMD3</td>\n",
       "    </tr>\n",
       "    <tr>\n",
       "      <th>24</th>\n",
       "      <td>PC143</td>\n",
       "      <td>1347</td>\n",
       "      <td>PC118</td>\n",
       "      <td>MAM33; Mitochondrial glycoprotein</td>\n",
       "    </tr>\n",
       "    <tr>\n",
       "      <th>25</th>\n",
       "      <td>PC144</td>\n",
       "      <td>85</td>\n",
       "      <td>PC166</td>\n",
       "      <td>ANAPC3</td>\n",
       "    </tr>\n",
       "    <tr>\n",
       "      <th>26</th>\n",
       "      <td>PC146</td>\n",
       "      <td>583</td>\n",
       "      <td>PC51</td>\n",
       "      <td>DHH; DDH domain</td>\n",
       "    </tr>\n",
       "    <tr>\n",
       "      <th>27</th>\n",
       "      <td>PC146</td>\n",
       "      <td>583</td>\n",
       "      <td>PC52</td>\n",
       "      <td>DHH; DDH domain</td>\n",
       "    </tr>\n",
       "    <tr>\n",
       "      <th>28</th>\n",
       "      <td>PC158</td>\n",
       "      <td>1072</td>\n",
       "      <td>PC96</td>\n",
       "      <td>Glycos_transf_1; Glycosyl transferase, family 1</td>\n",
       "    </tr>\n",
       "    <tr>\n",
       "      <th>29</th>\n",
       "      <td>PC161</td>\n",
       "      <td>499</td>\n",
       "      <td>PC238</td>\n",
       "      <td>Coatomer_g_Cpla; Coatomer subunit gamma, C-ter...</td>\n",
       "    </tr>\n",
       "    <tr>\n",
       "      <th>30</th>\n",
       "      <td>PC161</td>\n",
       "      <td>499</td>\n",
       "      <td>PC258</td>\n",
       "      <td>Coatomer_g_Cpla; Coatomer subunit gamma, C-ter...</td>\n",
       "    </tr>\n",
       "    <tr>\n",
       "      <th>31</th>\n",
       "      <td>PC165</td>\n",
       "      <td>1701</td>\n",
       "      <td>PC150</td>\n",
       "      <td>PAP_central; Poly(A) polymerase, central domain</td>\n",
       "    </tr>\n",
       "    <tr>\n",
       "      <th>32</th>\n",
       "      <td>PC167</td>\n",
       "      <td>2178</td>\n",
       "      <td>PC217</td>\n",
       "      <td>Ribosomal_L27; Ribosomal protein L27</td>\n",
       "    </tr>\n",
       "    <tr>\n",
       "      <th>33</th>\n",
       "      <td>PC172</td>\n",
       "      <td>1852</td>\n",
       "      <td>PC239</td>\n",
       "      <td>Pam17; Mitochondrial import protein Pam17</td>\n",
       "    </tr>\n",
       "    <tr>\n",
       "      <th>34</th>\n",
       "      <td>PC172</td>\n",
       "      <td>1852</td>\n",
       "      <td>PC270</td>\n",
       "      <td>Pam17; Mitochondrial import protein Pam17</td>\n",
       "    </tr>\n",
       "    <tr>\n",
       "      <th>35</th>\n",
       "      <td>PC172</td>\n",
       "      <td>1852</td>\n",
       "      <td>PC275</td>\n",
       "      <td>Pam17; Mitochondrial import protein Pam17</td>\n",
       "    </tr>\n",
       "    <tr>\n",
       "      <th>36</th>\n",
       "      <td>PC193</td>\n",
       "      <td>1389</td>\n",
       "      <td>PC209</td>\n",
       "      <td>MOR2-PAG1_mid; Cell morphogenesis central region</td>\n",
       "    </tr>\n",
       "    <tr>\n",
       "      <th>37</th>\n",
       "      <td>PC195</td>\n",
       "      <td>2042</td>\n",
       "      <td>PC177</td>\n",
       "      <td>RNase_P_p30; RNase P subunit p30</td>\n",
       "    </tr>\n",
       "    <tr>\n",
       "      <th>38</th>\n",
       "      <td>PC198</td>\n",
       "      <td>4</td>\n",
       "      <td>PC269</td>\n",
       "      <td>2-oxoacid_dh; 2-oxoacid dehydrogenase acyltran...</td>\n",
       "    </tr>\n",
       "    <tr>\n",
       "      <th>39</th>\n",
       "      <td>PC206</td>\n",
       "      <td>63</td>\n",
       "      <td>PC278</td>\n",
       "      <td>AICARFT_IMPCHas; AICARFT/IMPCHase bienzyme</td>\n",
       "    </tr>\n",
       "    <tr>\n",
       "      <th>40</th>\n",
       "      <td>PC225</td>\n",
       "      <td>9</td>\n",
       "      <td>PC128</td>\n",
       "      <td>40S_S4_C; 40S ribosomal protein S4, C-terminal...</td>\n",
       "    </tr>\n",
       "    <tr>\n",
       "      <th>41</th>\n",
       "      <td>PC244</td>\n",
       "      <td>410</td>\n",
       "      <td>PC42</td>\n",
       "      <td>CRAL_TRIO; CRAL-TRIO lipid binding domain</td>\n",
       "    </tr>\n",
       "    <tr>\n",
       "      <th>42</th>\n",
       "      <td>PC246</td>\n",
       "      <td>1688</td>\n",
       "      <td>PC110</td>\n",
       "      <td>PA14; PA14 domain</td>\n",
       "    </tr>\n",
       "    <tr>\n",
       "      <th>43</th>\n",
       "      <td>PC252</td>\n",
       "      <td>1688</td>\n",
       "      <td>PC110</td>\n",
       "      <td>PA14; PA14 domain</td>\n",
       "    </tr>\n",
       "    <tr>\n",
       "      <th>44</th>\n",
       "      <td>PC255</td>\n",
       "      <td>468</td>\n",
       "      <td>PC264</td>\n",
       "      <td>Chorein_N; Vacuolar protein sorting-associated...</td>\n",
       "    </tr>\n",
       "    <tr>\n",
       "      <th>45</th>\n",
       "      <td>PC261</td>\n",
       "      <td>468</td>\n",
       "      <td>PC264</td>\n",
       "      <td>Chorein_N; Vacuolar protein sorting-associated...</td>\n",
       "    </tr>\n",
       "    <tr>\n",
       "      <th>46</th>\n",
       "      <td>PC262</td>\n",
       "      <td>2221</td>\n",
       "      <td>PC225</td>\n",
       "      <td>Ribosomal_S17; Ribosomal protein S17/S11</td>\n",
       "    </tr>\n",
       "    <tr>\n",
       "      <th>47</th>\n",
       "      <td>PC262</td>\n",
       "      <td>2221</td>\n",
       "      <td>PC259</td>\n",
       "      <td>Ribosomal_S17; Ribosomal protein S17/S11</td>\n",
       "    </tr>\n",
       "    <tr>\n",
       "      <th>48</th>\n",
       "      <td>PC264</td>\n",
       "      <td>1037</td>\n",
       "      <td>PC113</td>\n",
       "      <td>Glu_syn_central; Glutamate synthase, central-N</td>\n",
       "    </tr>\n",
       "    <tr>\n",
       "      <th>49</th>\n",
       "      <td>PC274</td>\n",
       "      <td>1352</td>\n",
       "      <td>PC115</td>\n",
       "      <td>MATalpha_HMGbox; Mating-type protein MAT alpha...</td>\n",
       "    </tr>\n",
       "  </tbody>\n",
       "</table>\n",
       "</div>"
      ],
      "text/plain": [
       "   pca-component_x  domain-number pca-component_y  \\\n",
       "0             PC10            875            PC57   \n",
       "1             PC18           1253            PC59   \n",
       "2             PC20            926            PC19   \n",
       "3             PC20            926            PC20   \n",
       "4             PC22           1043             PC8   \n",
       "5             PC39            842           PC144   \n",
       "6             PC40            420           PC173   \n",
       "7             PC43            502            PC87   \n",
       "8             PC45            982            PC84   \n",
       "9             PC54            629            PC99   \n",
       "10            PC57            299           PC285   \n",
       "11            PC58            722           PC271   \n",
       "12            PC90            446           PC229   \n",
       "13           PC102           1449           PC202   \n",
       "14           PC104            360           PC167   \n",
       "15           PC112             68           PC141   \n",
       "16           PC116           1325           PC224   \n",
       "17           PC116           1325           PC236   \n",
       "18           PC117           1325           PC224   \n",
       "19           PC117           1325           PC236   \n",
       "20           PC128           1672           PC183   \n",
       "21           PC132            310           PC184   \n",
       "22           PC136           1114           PC111   \n",
       "23           PC142           1570           PC196   \n",
       "24           PC143           1347           PC118   \n",
       "25           PC144             85           PC166   \n",
       "26           PC146            583            PC51   \n",
       "27           PC146            583            PC52   \n",
       "28           PC158           1072            PC96   \n",
       "29           PC161            499           PC238   \n",
       "30           PC161            499           PC258   \n",
       "31           PC165           1701           PC150   \n",
       "32           PC167           2178           PC217   \n",
       "33           PC172           1852           PC239   \n",
       "34           PC172           1852           PC270   \n",
       "35           PC172           1852           PC275   \n",
       "36           PC193           1389           PC209   \n",
       "37           PC195           2042           PC177   \n",
       "38           PC198              4           PC269   \n",
       "39           PC206             63           PC278   \n",
       "40           PC225              9           PC128   \n",
       "41           PC244            410            PC42   \n",
       "42           PC246           1688           PC110   \n",
       "43           PC252           1688           PC110   \n",
       "44           PC255            468           PC264   \n",
       "45           PC261            468           PC264   \n",
       "46           PC262           2221           PC225   \n",
       "47           PC262           2221           PC259   \n",
       "48           PC264           1037           PC113   \n",
       "49           PC274           1352           PC115   \n",
       "\n",
       "                                   domain-description  \n",
       "0                                     FDF; FDF domain  \n",
       "1               KA1; Kinase associated domain 1 (KA1)  \n",
       "2                      Flp_C; Recombinase Flp protein  \n",
       "3                      Flp_C; Recombinase Flp protein  \n",
       "4   Glyco_hydro_15; Glycoside hydrolase family 15/...  \n",
       "5                           Endosulfine; Endosulphine  \n",
       "6   CSG2; Mannosyl phosphorylinositol ceramide syn...  \n",
       "7        Cohesin_load; Chromatid cohesion factor MAU2  \n",
       "8      GHMP_kinases_C; GHMP kinase, C-terminal domain  \n",
       "9   DSHCT; ATP-dependent RNA helicase Ski2, C-term...  \n",
       "10  Bmt2; 25S rRNA (adenine(2142)-N(1))-methyltran...  \n",
       "11       DUF4448; Protein of unknown function DUF4448  \n",
       "12                     Catalase; Catalase core domain  \n",
       "13               Med4; Mediator complex, subunit Med4  \n",
       "14                   CLASP_N; CLASP N-terminal domain  \n",
       "15                                  AIRC; PurE domain  \n",
       "16  Lgl_C; Lethal giant larvae (Lgl)-like, C-termi...  \n",
       "17  Lgl_C; Lethal giant larvae (Lgl)-like, C-termi...  \n",
       "18  Lgl_C; Lethal giant larvae (Lgl)-like, C-termi...  \n",
       "19  Lgl_C; Lethal giant larvae (Lgl)-like, C-termi...  \n",
       "20                    Opi1; Transcription factor Opi1  \n",
       "21  C1_1; Protein kinase C-like, phorbol ester/dia...  \n",
       "22                                              HHH_5  \n",
       "23                                               NMD3  \n",
       "24                  MAM33; Mitochondrial glycoprotein  \n",
       "25                                             ANAPC3  \n",
       "26                                    DHH; DDH domain  \n",
       "27                                    DHH; DDH domain  \n",
       "28    Glycos_transf_1; Glycosyl transferase, family 1  \n",
       "29  Coatomer_g_Cpla; Coatomer subunit gamma, C-ter...  \n",
       "30  Coatomer_g_Cpla; Coatomer subunit gamma, C-ter...  \n",
       "31    PAP_central; Poly(A) polymerase, central domain  \n",
       "32               Ribosomal_L27; Ribosomal protein L27  \n",
       "33          Pam17; Mitochondrial import protein Pam17  \n",
       "34          Pam17; Mitochondrial import protein Pam17  \n",
       "35          Pam17; Mitochondrial import protein Pam17  \n",
       "36   MOR2-PAG1_mid; Cell morphogenesis central region  \n",
       "37                   RNase_P_p30; RNase P subunit p30  \n",
       "38  2-oxoacid_dh; 2-oxoacid dehydrogenase acyltran...  \n",
       "39         AICARFT_IMPCHas; AICARFT/IMPCHase bienzyme  \n",
       "40  40S_S4_C; 40S ribosomal protein S4, C-terminal...  \n",
       "41          CRAL_TRIO; CRAL-TRIO lipid binding domain  \n",
       "42                                  PA14; PA14 domain  \n",
       "43                                  PA14; PA14 domain  \n",
       "44  Chorein_N; Vacuolar protein sorting-associated...  \n",
       "45  Chorein_N; Vacuolar protein sorting-associated...  \n",
       "46           Ribosomal_S17; Ribosomal protein S17/S11  \n",
       "47           Ribosomal_S17; Ribosomal protein S17/S11  \n",
       "48     Glu_syn_central; Glutamate synthase, central-N  \n",
       "49  MATalpha_HMGbox; Mating-type protein MAT alpha...  "
      ]
     },
     "execution_count": 22,
     "metadata": {},
     "output_type": "execute_result"
    }
   ],
   "source": [
    "df_shared_domains=pd.merge(df_sl,df_nsl,how='inner',on='domain-number')\n",
    "domains_name=np.unique(data_domains['domain-name'])\n",
    "domains_description=np.unique(data_domains['domain-descrip'])\n",
    "\n",
    "df_shared_domains['domain-description']=domains_description[df_shared_domains['domain-number']]\n",
    "\n",
    "\n",
    "df_shared_domains"
   ]
  },
  {
   "cell_type": "code",
   "execution_count": 23,
   "metadata": {
    "execution": {
     "iopub.execute_input": "2020-07-22T20:28:01.280969Z",
     "iopub.status.busy": "2020-07-22T20:28:01.279964Z",
     "iopub.status.idle": "2020-07-22T20:28:01.287005Z",
     "shell.execute_reply": "2020-07-22T20:28:01.287825Z"
    }
   },
   "outputs": [
    {
     "name": "stdout",
     "output_type": "stream",
     "text": [
      "The number of shared domains between SL and nSL pairs,after PCA, is =  50 out of 570 so the 8.771929824561404 %\n"
     ]
    }
   ],
   "source": [
    "print('The number of shared domains between SL and nSL pairs,after PCA, is = ',len(df_shared_domains), 'out of', len(df_sl)+len(df_nsl), 'so the',100*len(df_shared_domains)/(len(df_sl)+len(df_nsl)),'%')"
   ]
  },
  {
   "cell_type": "markdown",
   "metadata": {},
   "source": [
    "## Domains exclusive to SL"
   ]
  },
  {
   "cell_type": "code",
   "execution_count": 24,
   "metadata": {
    "execution": {
     "iopub.execute_input": "2020-07-22T20:28:01.291076Z",
     "iopub.status.busy": "2020-07-22T20:28:01.289996Z",
     "iopub.status.idle": "2020-07-22T20:28:01.326973Z",
     "shell.execute_reply": "2020-07-22T20:28:01.327730Z"
    }
   },
   "outputs": [
    {
     "data": {
      "text/html": [
       "<div>\n",
       "<style scoped>\n",
       "    .dataframe tbody tr th:only-of-type {\n",
       "        vertical-align: middle;\n",
       "    }\n",
       "\n",
       "    .dataframe tbody tr th {\n",
       "        vertical-align: top;\n",
       "    }\n",
       "\n",
       "    .dataframe thead th {\n",
       "        text-align: right;\n",
       "    }\n",
       "</style>\n",
       "<table border=\"1\" class=\"dataframe\">\n",
       "  <thead>\n",
       "    <tr style=\"text-align: right;\">\n",
       "      <th></th>\n",
       "      <th>pca-component_x</th>\n",
       "      <th>domain-number</th>\n",
       "      <th>pca-component_y</th>\n",
       "      <th>domain-description</th>\n",
       "    </tr>\n",
       "  </thead>\n",
       "  <tbody>\n",
       "    <tr>\n",
       "      <th>0</th>\n",
       "      <td>PC0</td>\n",
       "      <td>305</td>\n",
       "      <td>NaN</td>\n",
       "      <td>Brr6_like_C_C; Brl1/Brr6 domain</td>\n",
       "    </tr>\n",
       "    <tr>\n",
       "      <th>1</th>\n",
       "      <td>PC1</td>\n",
       "      <td>689</td>\n",
       "      <td>NaN</td>\n",
       "      <td>DUF3128; Protein of unknown function DUF3128</td>\n",
       "    </tr>\n",
       "    <tr>\n",
       "      <th>2</th>\n",
       "      <td>PC2</td>\n",
       "      <td>481</td>\n",
       "      <td>NaN</td>\n",
       "      <td>Clathrin_lg_ch; Clathrin light chain</td>\n",
       "    </tr>\n",
       "    <tr>\n",
       "      <th>3</th>\n",
       "      <td>PC3</td>\n",
       "      <td>1417</td>\n",
       "      <td>NaN</td>\n",
       "      <td>Mak10; NatC N(alpha)-terminal acetyltransferas...</td>\n",
       "    </tr>\n",
       "    <tr>\n",
       "      <th>4</th>\n",
       "      <td>PC4</td>\n",
       "      <td>301</td>\n",
       "      <td>NaN</td>\n",
       "      <td>Bot1p; Ribosomal protein S35, mitochondrial</td>\n",
       "    </tr>\n",
       "    <tr>\n",
       "      <th>...</th>\n",
       "      <td>...</td>\n",
       "      <td>...</td>\n",
       "      <td>...</td>\n",
       "      <td>...</td>\n",
       "    </tr>\n",
       "    <tr>\n",
       "      <th>287</th>\n",
       "      <td>PC279</td>\n",
       "      <td>2492</td>\n",
       "      <td>NaN</td>\n",
       "      <td>Sod_Cu; Superoxide dismutase, copper/zinc bind...</td>\n",
       "    </tr>\n",
       "    <tr>\n",
       "      <th>288</th>\n",
       "      <td>PC280</td>\n",
       "      <td>2371</td>\n",
       "      <td>NaN</td>\n",
       "      <td>SPT2; Chromatin SPT2</td>\n",
       "    </tr>\n",
       "    <tr>\n",
       "      <th>289</th>\n",
       "      <td>PC281</td>\n",
       "      <td>1089</td>\n",
       "      <td>NaN</td>\n",
       "      <td>Guanylate_kin; Guanylate kinase/L-type calcium...</td>\n",
       "    </tr>\n",
       "    <tr>\n",
       "      <th>290</th>\n",
       "      <td>PC282</td>\n",
       "      <td>1542</td>\n",
       "      <td>NaN</td>\n",
       "      <td>NAD_Gly3P_dh_C; Glycerol-3-phosphate dehydroge...</td>\n",
       "    </tr>\n",
       "    <tr>\n",
       "      <th>291</th>\n",
       "      <td>PC283</td>\n",
       "      <td>2125</td>\n",
       "      <td>NaN</td>\n",
       "      <td>Rer1; Retrieval of early ER protein Rer1</td>\n",
       "    </tr>\n",
       "  </tbody>\n",
       "</table>\n",
       "<p>242 rows × 4 columns</p>\n",
       "</div>"
      ],
      "text/plain": [
       "    pca-component_x  domain-number pca-component_y  \\\n",
       "0               PC0            305             NaN   \n",
       "1               PC1            689             NaN   \n",
       "2               PC2            481             NaN   \n",
       "3               PC3           1417             NaN   \n",
       "4               PC4            301             NaN   \n",
       "..              ...            ...             ...   \n",
       "287           PC279           2492             NaN   \n",
       "288           PC280           2371             NaN   \n",
       "289           PC281           1089             NaN   \n",
       "290           PC282           1542             NaN   \n",
       "291           PC283           2125             NaN   \n",
       "\n",
       "                                    domain-description  \n",
       "0                      Brr6_like_C_C; Brl1/Brr6 domain  \n",
       "1         DUF3128; Protein of unknown function DUF3128  \n",
       "2                 Clathrin_lg_ch; Clathrin light chain  \n",
       "3    Mak10; NatC N(alpha)-terminal acetyltransferas...  \n",
       "4          Bot1p; Ribosomal protein S35, mitochondrial  \n",
       "..                                                 ...  \n",
       "287  Sod_Cu; Superoxide dismutase, copper/zinc bind...  \n",
       "288                               SPT2; Chromatin SPT2  \n",
       "289  Guanylate_kin; Guanylate kinase/L-type calcium...  \n",
       "290  NAD_Gly3P_dh_C; Glycerol-3-phosphate dehydroge...  \n",
       "291           Rer1; Retrieval of early ER protein Rer1  \n",
       "\n",
       "[242 rows x 4 columns]"
      ]
     },
     "execution_count": 24,
     "metadata": {},
     "output_type": "execute_result"
    }
   ],
   "source": [
    "df_sl_exclusive=pd.merge(df_sl,df_nsl,how='left',on='domain-number')\n",
    "\n",
    "domains_name=np.unique(data_domains['domain-name'])\n",
    "domains_description=np.unique(data_domains['domain-descrip'])\n",
    "\n",
    "df_sl_exclusive['domain-description']=domains_description[df_sl_exclusive['domain-number']]\n",
    "df_sl_exclusive[pd.isnull(df_sl_exclusive['pca-component_y'])]"
   ]
  },
  {
   "cell_type": "code",
   "execution_count": 25,
   "metadata": {
    "execution": {
     "iopub.execute_input": "2020-07-22T20:28:01.331035Z",
     "iopub.status.busy": "2020-07-22T20:28:01.329888Z",
     "iopub.status.idle": "2020-07-22T20:28:01.337797Z",
     "shell.execute_reply": "2020-07-22T20:28:01.338184Z"
    }
   },
   "outputs": [
    {
     "name": "stdout",
     "output_type": "stream",
     "text": [
      "The number of exclusive domains from SL pairs, after PCA, is =  292 out of 570 so the 51.228070175438596 %\n"
     ]
    }
   ],
   "source": [
    "print('The number of exclusive domains from SL pairs, after PCA, is = ',len(df_sl_exclusive), 'out of', len(df_sl)+len(df_nsl), 'so the',100*len(df_sl_exclusive)/(len(df_sl)+len(df_nsl)),'%')"
   ]
  },
  {
   "cell_type": "code",
   "execution_count": 26,
   "metadata": {
    "execution": {
     "iopub.execute_input": "2020-07-22T20:28:01.344687Z",
     "iopub.status.busy": "2020-07-22T20:28:01.343525Z",
     "iopub.status.idle": "2020-07-22T20:28:01.372215Z",
     "shell.execute_reply": "2020-07-22T20:28:01.371728Z"
    }
   },
   "outputs": [
    {
     "data": {
      "text/html": [
       "<div>\n",
       "<style scoped>\n",
       "    .dataframe tbody tr th:only-of-type {\n",
       "        vertical-align: middle;\n",
       "    }\n",
       "\n",
       "    .dataframe tbody tr th {\n",
       "        vertical-align: top;\n",
       "    }\n",
       "\n",
       "    .dataframe thead th {\n",
       "        text-align: right;\n",
       "    }\n",
       "</style>\n",
       "<table border=\"1\" class=\"dataframe\">\n",
       "  <thead>\n",
       "    <tr style=\"text-align: right;\">\n",
       "      <th></th>\n",
       "      <th>pca-component_x</th>\n",
       "      <th>domain-number</th>\n",
       "      <th>pca-component_y</th>\n",
       "      <th>domain-description</th>\n",
       "    </tr>\n",
       "  </thead>\n",
       "  <tbody>\n",
       "    <tr>\n",
       "      <th>50</th>\n",
       "      <td>NaN</td>\n",
       "      <td>1028</td>\n",
       "      <td>PC0</td>\n",
       "      <td>GatB_Yqey; Asn/Gln amidotransferase</td>\n",
       "    </tr>\n",
       "    <tr>\n",
       "      <th>51</th>\n",
       "      <td>NaN</td>\n",
       "      <td>135</td>\n",
       "      <td>PC1</td>\n",
       "      <td>ATP-synt_ab_Xtn; ATPsynthase alpha/beta subuni...</td>\n",
       "    </tr>\n",
       "    <tr>\n",
       "      <th>52</th>\n",
       "      <td>NaN</td>\n",
       "      <td>1175</td>\n",
       "      <td>PC2</td>\n",
       "      <td>Hist_deacetyl; Histone deacetylase domain</td>\n",
       "    </tr>\n",
       "    <tr>\n",
       "      <th>53</th>\n",
       "      <td>NaN</td>\n",
       "      <td>463</td>\n",
       "      <td>PC3</td>\n",
       "      <td>Chitin_synth_1N; Chitin synthase N-terminal</td>\n",
       "    </tr>\n",
       "    <tr>\n",
       "      <th>54</th>\n",
       "      <td>NaN</td>\n",
       "      <td>2113</td>\n",
       "      <td>PC4</td>\n",
       "      <td>Rav1p_C; RAVE complex protein Rav1 C-terminal</td>\n",
       "    </tr>\n",
       "    <tr>\n",
       "      <th>...</th>\n",
       "      <td>...</td>\n",
       "      <td>...</td>\n",
       "      <td>...</td>\n",
       "      <td>...</td>\n",
       "    </tr>\n",
       "    <tr>\n",
       "      <th>285</th>\n",
       "      <td>NaN</td>\n",
       "      <td>2480</td>\n",
       "      <td>PC280</td>\n",
       "      <td>Sin_N; DNA-directed RNA polymerase III subunit...</td>\n",
       "    </tr>\n",
       "    <tr>\n",
       "      <th>286</th>\n",
       "      <td>NaN</td>\n",
       "      <td>887</td>\n",
       "      <td>PC281</td>\n",
       "      <td>FMN_dh; FMN-dependent dehydrogenase</td>\n",
       "    </tr>\n",
       "    <tr>\n",
       "      <th>287</th>\n",
       "      <td>NaN</td>\n",
       "      <td>778</td>\n",
       "      <td>PC282</td>\n",
       "      <td>E1_UFD; Ubiquitin-activating enzyme E1, C-term...</td>\n",
       "    </tr>\n",
       "    <tr>\n",
       "      <th>288</th>\n",
       "      <td>NaN</td>\n",
       "      <td>11</td>\n",
       "      <td>PC283</td>\n",
       "      <td>5-FTHF_cyc-lig; 5-formyltetrahydrofolate cyclo...</td>\n",
       "    </tr>\n",
       "    <tr>\n",
       "      <th>289</th>\n",
       "      <td>NaN</td>\n",
       "      <td>11</td>\n",
       "      <td>PC284</td>\n",
       "      <td>5-FTHF_cyc-lig; 5-formyltetrahydrofolate cyclo...</td>\n",
       "    </tr>\n",
       "  </tbody>\n",
       "</table>\n",
       "<p>240 rows × 4 columns</p>\n",
       "</div>"
      ],
      "text/plain": [
       "    pca-component_x  domain-number pca-component_y  \\\n",
       "50              NaN           1028             PC0   \n",
       "51              NaN            135             PC1   \n",
       "52              NaN           1175             PC2   \n",
       "53              NaN            463             PC3   \n",
       "54              NaN           2113             PC4   \n",
       "..              ...            ...             ...   \n",
       "285             NaN           2480           PC280   \n",
       "286             NaN            887           PC281   \n",
       "287             NaN            778           PC282   \n",
       "288             NaN             11           PC283   \n",
       "289             NaN             11           PC284   \n",
       "\n",
       "                                    domain-description  \n",
       "50                 GatB_Yqey; Asn/Gln amidotransferase  \n",
       "51   ATP-synt_ab_Xtn; ATPsynthase alpha/beta subuni...  \n",
       "52           Hist_deacetyl; Histone deacetylase domain  \n",
       "53         Chitin_synth_1N; Chitin synthase N-terminal  \n",
       "54       Rav1p_C; RAVE complex protein Rav1 C-terminal  \n",
       "..                                                 ...  \n",
       "285  Sin_N; DNA-directed RNA polymerase III subunit...  \n",
       "286                FMN_dh; FMN-dependent dehydrogenase  \n",
       "287  E1_UFD; Ubiquitin-activating enzyme E1, C-term...  \n",
       "288  5-FTHF_cyc-lig; 5-formyltetrahydrofolate cyclo...  \n",
       "289  5-FTHF_cyc-lig; 5-formyltetrahydrofolate cyclo...  \n",
       "\n",
       "[240 rows x 4 columns]"
      ]
     },
     "execution_count": 26,
     "metadata": {},
     "output_type": "execute_result"
    }
   ],
   "source": [
    "df_nsl_exclusive=pd.merge(df_sl,df_nsl,how='right',on='domain-number')\n",
    "\n",
    "domains_name=np.unique(data_domains['domain-name'])\n",
    "domains_description=np.unique(data_domains['domain-descrip'])\n",
    "\n",
    "df_nsl_exclusive['domain-description']=domains_description[df_nsl_exclusive['domain-number']]\n",
    "df_nsl_exclusive[pd.isnull(df_nsl_exclusive['pca-component_x'])]"
   ]
  },
  {
   "cell_type": "code",
   "execution_count": 27,
   "metadata": {
    "execution": {
     "iopub.execute_input": "2020-07-22T20:28:01.376935Z",
     "iopub.status.busy": "2020-07-22T20:28:01.376429Z",
     "iopub.status.idle": "2020-07-22T20:28:01.380786Z",
     "shell.execute_reply": "2020-07-22T20:28:01.380360Z"
    }
   },
   "outputs": [
    {
     "name": "stdout",
     "output_type": "stream",
     "text": [
      "The number of exclusive domains from non SL pairs, after PCA, is =  290 out of 570 so the 50.87719298245614 %\n"
     ]
    }
   ],
   "source": [
    "print('The number of exclusive domains from non SL pairs, after PCA, is = ',len(df_nsl_exclusive), 'out of', len(df_sl)+len(df_nsl), 'so the',100*len(df_nsl_exclusive)/(len(df_sl)+len(df_nsl)),'%')"
   ]
  },
  {
   "cell_type": "markdown",
   "metadata": {},
   "source": [
    "## Let see to the domains-number that get repeated after the PCA analysis , and selecting the most explanatory feature by its explained variance."
   ]
  },
  {
   "cell_type": "code",
   "execution_count": 28,
   "metadata": {
    "execution": {
     "iopub.execute_input": "2020-07-22T20:28:01.400110Z",
     "iopub.status.busy": "2020-07-22T20:28:01.391085Z",
     "iopub.status.idle": "2020-07-22T20:28:01.403178Z",
     "shell.execute_reply": "2020-07-22T20:28:01.402756Z"
    }
   },
   "outputs": [],
   "source": [
    "duplicated_features_sl=df_sl[df_sl.iloc[:,1].duplicated()]\n",
    "repeated_features_sl=pd.DataFrame()\n",
    "\n",
    "domains_name=np.unique(data_domains['domain-name'])\n",
    "domains_description=np.unique(data_domains['domain-descrip'])\n",
    "\n",
    "repeated_features_sl['domain-name']=domains_name[duplicated_features_sl.iloc[:,1]] \n",
    "repeated_features_sl['domain-description']=domains_description[duplicated_features_sl.iloc[:,1]]\n",
    "\n",
    "duplicated_features_nsl=df_nsl[df_nsl.iloc[:,1].duplicated()]\n",
    "repeated_features_nsl=pd.DataFrame()\n",
    "\n",
    "repeated_features_nsl['domain-name']=domains_name[duplicated_features_nsl.iloc[:,1]] \n",
    "repeated_features_nsl['domain-description']=domains_description[duplicated_features_nsl.iloc[:,1]]"
   ]
  },
  {
   "cell_type": "code",
   "execution_count": 29,
   "metadata": {
    "execution": {
     "iopub.execute_input": "2020-07-22T20:28:01.412560Z",
     "iopub.status.busy": "2020-07-22T20:28:01.411468Z",
     "iopub.status.idle": "2020-07-22T20:28:01.418341Z",
     "shell.execute_reply": "2020-07-22T20:28:01.417880Z"
    }
   },
   "outputs": [
    {
     "name": "stderr",
     "output_type": "stream",
     "text": [
      "/usr/share/miniconda3/envs/wintest/lib/python3.7/site-packages/ipykernel_launcher.py:3: SettingWithCopyWarning: \n",
      "A value is trying to be set on a copy of a slice from a DataFrame.\n",
      "Try using .loc[row_indexer,col_indexer] = value instead\n",
      "\n",
      "See the caveats in the documentation: https://pandas.pydata.org/pandas-docs/stable/user_guide/indexing.html#returning-a-view-versus-a-copy\n",
      "  This is separate from the ipykernel package so we can avoid doing imports until\n"
     ]
    },
    {
     "data": {
      "text/plain": [
       "((37, 4), (292, 4))"
      ]
     },
     "execution_count": 29,
     "metadata": {},
     "output_type": "execute_result"
    }
   ],
   "source": [
    "only_sl_pd=pd.merge(repeated_features_sl,repeated_features_nsl,how='left',on=['domain-name'])\n",
    "data_only_sl = only_sl_pd[pd.isnull(only_sl_pd['domain-description_y'])]\n",
    "data_only_sl['domain-description']=data_only_sl['domain-description_x']\n",
    "data_only_sl.shape,df_sl_exclusive.shape"
   ]
  },
  {
   "cell_type": "code",
   "execution_count": 30,
   "metadata": {
    "execution": {
     "iopub.execute_input": "2020-07-22T20:28:01.435516Z",
     "iopub.status.busy": "2020-07-22T20:28:01.434937Z",
     "iopub.status.idle": "2020-07-22T20:28:01.440248Z",
     "shell.execute_reply": "2020-07-22T20:28:01.439765Z"
    }
   },
   "outputs": [
    {
     "data": {
      "text/html": [
       "<div>\n",
       "<style scoped>\n",
       "    .dataframe tbody tr th:only-of-type {\n",
       "        vertical-align: middle;\n",
       "    }\n",
       "\n",
       "    .dataframe tbody tr th {\n",
       "        vertical-align: top;\n",
       "    }\n",
       "\n",
       "    .dataframe thead th {\n",
       "        text-align: right;\n",
       "    }\n",
       "</style>\n",
       "<table border=\"1\" class=\"dataframe\">\n",
       "  <thead>\n",
       "    <tr style=\"text-align: right;\">\n",
       "      <th></th>\n",
       "      <th>domain-name</th>\n",
       "      <th>domain-description_x</th>\n",
       "      <th>domain-description_y</th>\n",
       "    </tr>\n",
       "  </thead>\n",
       "  <tbody>\n",
       "    <tr>\n",
       "      <th>1</th>\n",
       "      <td>PF02671</td>\n",
       "      <td>NaN</td>\n",
       "      <td>Flp_C; Recombinase Flp protein</td>\n",
       "    </tr>\n",
       "    <tr>\n",
       "      <th>2</th>\n",
       "      <td>PF08696</td>\n",
       "      <td>NaN</td>\n",
       "      <td>RNA_pol_Rpb8; RNA polymerase, Rpb8</td>\n",
       "    </tr>\n",
       "    <tr>\n",
       "      <th>3</th>\n",
       "      <td>PF00613</td>\n",
       "      <td>NaN</td>\n",
       "      <td>Biotin_carb_C; Biotin carboxylase, C-terminal</td>\n",
       "    </tr>\n",
       "    <tr>\n",
       "      <th>4</th>\n",
       "      <td>PF09757</td>\n",
       "      <td>NaN</td>\n",
       "      <td>Ribosomal_L14e; Ribosomal protein L14e domain</td>\n",
       "    </tr>\n",
       "    <tr>\n",
       "      <th>5</th>\n",
       "      <td>PF01269</td>\n",
       "      <td>NaN</td>\n",
       "      <td>DHH; DDH domain</td>\n",
       "    </tr>\n",
       "    <tr>\n",
       "      <th>6</th>\n",
       "      <td>PF01608</td>\n",
       "      <td>NaN</td>\n",
       "      <td>DUF2781</td>\n",
       "    </tr>\n",
       "    <tr>\n",
       "      <th>7</th>\n",
       "      <td>PF06978</td>\n",
       "      <td>NaN</td>\n",
       "      <td>PAP2; Phosphatidic acid phosphatase type 2/hal...</td>\n",
       "    </tr>\n",
       "    <tr>\n",
       "      <th>8</th>\n",
       "      <td>PF04042</td>\n",
       "      <td>NaN</td>\n",
       "      <td>Ish1; Putative stress-responsive protein</td>\n",
       "    </tr>\n",
       "    <tr>\n",
       "      <th>9</th>\n",
       "      <td>PF05008</td>\n",
       "      <td>NaN</td>\n",
       "      <td>Methyltransf_23</td>\n",
       "    </tr>\n",
       "    <tr>\n",
       "      <th>10</th>\n",
       "      <td>PF02201</td>\n",
       "      <td>NaN</td>\n",
       "      <td>Endonuclease_NS; DNA/RNA non-specific endonucl...</td>\n",
       "    </tr>\n",
       "    <tr>\n",
       "      <th>11</th>\n",
       "      <td>PF00160</td>\n",
       "      <td>NaN</td>\n",
       "      <td>ALAD; Delta-aminolevulinic acid dehydratase</td>\n",
       "    </tr>\n",
       "    <tr>\n",
       "      <th>12</th>\n",
       "      <td>PF00808</td>\n",
       "      <td>NaN</td>\n",
       "      <td>COX1; Cytochrome c oxidase subunit I</td>\n",
       "    </tr>\n",
       "    <tr>\n",
       "      <th>13</th>\n",
       "      <td>PF05839</td>\n",
       "      <td>NaN</td>\n",
       "      <td>NUP214</td>\n",
       "    </tr>\n",
       "    <tr>\n",
       "      <th>14</th>\n",
       "      <td>PF01808</td>\n",
       "      <td>NaN</td>\n",
       "      <td>DcpS; Scavenger mRNA decapping enzyme DcpS/DCS2</td>\n",
       "    </tr>\n",
       "    <tr>\n",
       "      <th>15</th>\n",
       "      <td>PF09346</td>\n",
       "      <td>NaN</td>\n",
       "      <td>RasGAP; Ras GTPase-activating protein</td>\n",
       "    </tr>\n",
       "    <tr>\n",
       "      <th>16</th>\n",
       "      <td>PF04065</td>\n",
       "      <td>NaN</td>\n",
       "      <td>KOW</td>\n",
       "    </tr>\n",
       "    <tr>\n",
       "      <th>17</th>\n",
       "      <td>PF02291</td>\n",
       "      <td>NaN</td>\n",
       "      <td>FAD_binding_7; Cryptochrome/DNA photolyase, FA...</td>\n",
       "    </tr>\n",
       "    <tr>\n",
       "      <th>18</th>\n",
       "      <td>PF08512</td>\n",
       "      <td>NaN</td>\n",
       "      <td>Pol_alpha_B_N; DNA polymerase alpha, subunit B...</td>\n",
       "    </tr>\n",
       "    <tr>\n",
       "      <th>19</th>\n",
       "      <td>PF04056</td>\n",
       "      <td>NaN</td>\n",
       "      <td>KAR9; Karyogamy protein, KAR9</td>\n",
       "    </tr>\n",
       "    <tr>\n",
       "      <th>20</th>\n",
       "      <td>PF07817</td>\n",
       "      <td>NaN</td>\n",
       "      <td>PIG-L; N-acetylglucosaminyl phosphatidylinosit...</td>\n",
       "    </tr>\n",
       "    <tr>\n",
       "      <th>21</th>\n",
       "      <td>PF17058</td>\n",
       "      <td>NaN</td>\n",
       "      <td>zf-C2H2_4</td>\n",
       "    </tr>\n",
       "    <tr>\n",
       "      <th>22</th>\n",
       "      <td>PF08953</td>\n",
       "      <td>NaN</td>\n",
       "      <td>RRM_occluded; Occluded RNA-recognition motif</td>\n",
       "    </tr>\n",
       "    <tr>\n",
       "      <th>23</th>\n",
       "      <td>PF00568</td>\n",
       "      <td>NaN</td>\n",
       "      <td>BLM10_N; Proteasome activator Blm10, N-terminal</td>\n",
       "    </tr>\n",
       "    <tr>\n",
       "      <th>24</th>\n",
       "      <td>PF04116</td>\n",
       "      <td>NaN</td>\n",
       "      <td>LCAT; Lecithin:cholesterol/phospholipid:diacyl...</td>\n",
       "    </tr>\n",
       "    <tr>\n",
       "      <th>25</th>\n",
       "      <td>PF08605</td>\n",
       "      <td>NaN</td>\n",
       "      <td>RCR; Chitin synthesis regulation, Congo red re...</td>\n",
       "    </tr>\n",
       "    <tr>\n",
       "      <th>26</th>\n",
       "      <td>PF01585</td>\n",
       "      <td>NaN</td>\n",
       "      <td>DUF2407; Domain of unknown function DUF2407 N-...</td>\n",
       "    </tr>\n",
       "    <tr>\n",
       "      <th>27</th>\n",
       "      <td>PF09724</td>\n",
       "      <td>NaN</td>\n",
       "      <td>Ribosomal_60s</td>\n",
       "    </tr>\n",
       "    <tr>\n",
       "      <th>28</th>\n",
       "      <td>PF04082</td>\n",
       "      <td>NaN</td>\n",
       "      <td>Kei1; Protein of unknown function DUF1753, Golgi</td>\n",
       "    </tr>\n",
       "    <tr>\n",
       "      <th>29</th>\n",
       "      <td>PF00615</td>\n",
       "      <td>NaN</td>\n",
       "      <td>Biotin_lipoyl; Biotin/lipoyl attachment</td>\n",
       "    </tr>\n",
       "    <tr>\n",
       "      <th>30</th>\n",
       "      <td>PF01230</td>\n",
       "      <td>NaN</td>\n",
       "      <td>DASH_Dam1; DASH complex subunit Dam1</td>\n",
       "    </tr>\n",
       "    <tr>\n",
       "      <th>31</th>\n",
       "      <td>PF00083</td>\n",
       "      <td>NaN</td>\n",
       "      <td>AA_permease; Amino acid permease/ SLC12A domain</td>\n",
       "    </tr>\n",
       "    <tr>\n",
       "      <th>32</th>\n",
       "      <td>PF12701</td>\n",
       "      <td>NaN</td>\n",
       "      <td>Spt4; Spt4/RpoE2 zinc finger</td>\n",
       "    </tr>\n",
       "    <tr>\n",
       "      <th>33</th>\n",
       "      <td>PF05129</td>\n",
       "      <td>NaN</td>\n",
       "      <td>MitMem_reg; Rpn11/EIF3F, C-terminal</td>\n",
       "    </tr>\n",
       "    <tr>\n",
       "      <th>34</th>\n",
       "      <td>PF13519</td>\n",
       "      <td>NaN</td>\n",
       "      <td>Telomere_reg-2; Telomere length regulation pro...</td>\n",
       "    </tr>\n",
       "    <tr>\n",
       "      <th>35</th>\n",
       "      <td>PF05916</td>\n",
       "      <td>NaN</td>\n",
       "      <td>Neugrin; Neugrin/Rrg9</td>\n",
       "    </tr>\n",
       "    <tr>\n",
       "      <th>36</th>\n",
       "      <td>PF05871</td>\n",
       "      <td>NaN</td>\n",
       "      <td>Nab2; Nuclear abundant poly(A) RNA-binding pro...</td>\n",
       "    </tr>\n",
       "    <tr>\n",
       "      <th>37</th>\n",
       "      <td>PF04893</td>\n",
       "      <td>NaN</td>\n",
       "      <td>Med22; Mediator of RNA polymerase II transcrip...</td>\n",
       "    </tr>\n",
       "    <tr>\n",
       "      <th>38</th>\n",
       "      <td>PF01125</td>\n",
       "      <td>NaN</td>\n",
       "      <td>Coatomer_g_Cpla; Coatomer subunit gamma, C-ter...</td>\n",
       "    </tr>\n",
       "    <tr>\n",
       "      <th>39</th>\n",
       "      <td>PF10256</td>\n",
       "      <td>NaN</td>\n",
       "      <td>Ribosomal_S17; Ribosomal protein S17/S11</td>\n",
       "    </tr>\n",
       "    <tr>\n",
       "      <th>40</th>\n",
       "      <td>PF17056</td>\n",
       "      <td>NaN</td>\n",
       "      <td>zf-C2H2_3; N-acetyltransferase ESCO, zinc-finger</td>\n",
       "    </tr>\n",
       "    <tr>\n",
       "      <th>41</th>\n",
       "      <td>PF03388</td>\n",
       "      <td>NaN</td>\n",
       "      <td>HD_3; HD domain</td>\n",
       "    </tr>\n",
       "    <tr>\n",
       "      <th>42</th>\n",
       "      <td>PF09439</td>\n",
       "      <td>NaN</td>\n",
       "      <td>Rep_fac_C; Replication factor C, C-terminal</td>\n",
       "    </tr>\n",
       "    <tr>\n",
       "      <th>43</th>\n",
       "      <td>PF06624</td>\n",
       "      <td>NaN</td>\n",
       "      <td>OST3_OST6; Oligosaccharyl transferase complex,...</td>\n",
       "    </tr>\n",
       "    <tr>\n",
       "      <th>44</th>\n",
       "      <td>PF10104</td>\n",
       "      <td>NaN</td>\n",
       "      <td>Ribosomal_L36; Ribosomal protein L36</td>\n",
       "    </tr>\n",
       "    <tr>\n",
       "      <th>45</th>\n",
       "      <td>PF08229</td>\n",
       "      <td>NaN</td>\n",
       "      <td>Pam17; Mitochondrial import protein Pam17</td>\n",
       "    </tr>\n",
       "    <tr>\n",
       "      <th>46</th>\n",
       "      <td>PF08229</td>\n",
       "      <td>NaN</td>\n",
       "      <td>Pam17; Mitochondrial import protein Pam17</td>\n",
       "    </tr>\n",
       "    <tr>\n",
       "      <th>47</th>\n",
       "      <td>PF12348</td>\n",
       "      <td>NaN</td>\n",
       "      <td>Sir1; Sir1, ORC-binding domain</td>\n",
       "    </tr>\n",
       "    <tr>\n",
       "      <th>48</th>\n",
       "      <td>PF00025</td>\n",
       "      <td>NaN</td>\n",
       "      <td>5-FTHF_cyc-lig; 5-formyltetrahydrofolate cyclo...</td>\n",
       "    </tr>\n",
       "  </tbody>\n",
       "</table>\n",
       "</div>"
      ],
      "text/plain": [
       "   domain-name domain-description_x  \\\n",
       "1      PF02671                  NaN   \n",
       "2      PF08696                  NaN   \n",
       "3      PF00613                  NaN   \n",
       "4      PF09757                  NaN   \n",
       "5      PF01269                  NaN   \n",
       "6      PF01608                  NaN   \n",
       "7      PF06978                  NaN   \n",
       "8      PF04042                  NaN   \n",
       "9      PF05008                  NaN   \n",
       "10     PF02201                  NaN   \n",
       "11     PF00160                  NaN   \n",
       "12     PF00808                  NaN   \n",
       "13     PF05839                  NaN   \n",
       "14     PF01808                  NaN   \n",
       "15     PF09346                  NaN   \n",
       "16     PF04065                  NaN   \n",
       "17     PF02291                  NaN   \n",
       "18     PF08512                  NaN   \n",
       "19     PF04056                  NaN   \n",
       "20     PF07817                  NaN   \n",
       "21     PF17058                  NaN   \n",
       "22     PF08953                  NaN   \n",
       "23     PF00568                  NaN   \n",
       "24     PF04116                  NaN   \n",
       "25     PF08605                  NaN   \n",
       "26     PF01585                  NaN   \n",
       "27     PF09724                  NaN   \n",
       "28     PF04082                  NaN   \n",
       "29     PF00615                  NaN   \n",
       "30     PF01230                  NaN   \n",
       "31     PF00083                  NaN   \n",
       "32     PF12701                  NaN   \n",
       "33     PF05129                  NaN   \n",
       "34     PF13519                  NaN   \n",
       "35     PF05916                  NaN   \n",
       "36     PF05871                  NaN   \n",
       "37     PF04893                  NaN   \n",
       "38     PF01125                  NaN   \n",
       "39     PF10256                  NaN   \n",
       "40     PF17056                  NaN   \n",
       "41     PF03388                  NaN   \n",
       "42     PF09439                  NaN   \n",
       "43     PF06624                  NaN   \n",
       "44     PF10104                  NaN   \n",
       "45     PF08229                  NaN   \n",
       "46     PF08229                  NaN   \n",
       "47     PF12348                  NaN   \n",
       "48     PF00025                  NaN   \n",
       "\n",
       "                                 domain-description_y  \n",
       "1                      Flp_C; Recombinase Flp protein  \n",
       "2                  RNA_pol_Rpb8; RNA polymerase, Rpb8  \n",
       "3       Biotin_carb_C; Biotin carboxylase, C-terminal  \n",
       "4       Ribosomal_L14e; Ribosomal protein L14e domain  \n",
       "5                                     DHH; DDH domain  \n",
       "6                                             DUF2781  \n",
       "7   PAP2; Phosphatidic acid phosphatase type 2/hal...  \n",
       "8            Ish1; Putative stress-responsive protein  \n",
       "9                                     Methyltransf_23  \n",
       "10  Endonuclease_NS; DNA/RNA non-specific endonucl...  \n",
       "11        ALAD; Delta-aminolevulinic acid dehydratase  \n",
       "12               COX1; Cytochrome c oxidase subunit I  \n",
       "13                                             NUP214  \n",
       "14    DcpS; Scavenger mRNA decapping enzyme DcpS/DCS2  \n",
       "15              RasGAP; Ras GTPase-activating protein  \n",
       "16                                                KOW  \n",
       "17  FAD_binding_7; Cryptochrome/DNA photolyase, FA...  \n",
       "18  Pol_alpha_B_N; DNA polymerase alpha, subunit B...  \n",
       "19                      KAR9; Karyogamy protein, KAR9  \n",
       "20  PIG-L; N-acetylglucosaminyl phosphatidylinosit...  \n",
       "21                                          zf-C2H2_4  \n",
       "22       RRM_occluded; Occluded RNA-recognition motif  \n",
       "23    BLM10_N; Proteasome activator Blm10, N-terminal  \n",
       "24  LCAT; Lecithin:cholesterol/phospholipid:diacyl...  \n",
       "25  RCR; Chitin synthesis regulation, Congo red re...  \n",
       "26  DUF2407; Domain of unknown function DUF2407 N-...  \n",
       "27                                      Ribosomal_60s  \n",
       "28   Kei1; Protein of unknown function DUF1753, Golgi  \n",
       "29            Biotin_lipoyl; Biotin/lipoyl attachment  \n",
       "30               DASH_Dam1; DASH complex subunit Dam1  \n",
       "31    AA_permease; Amino acid permease/ SLC12A domain  \n",
       "32                       Spt4; Spt4/RpoE2 zinc finger  \n",
       "33                MitMem_reg; Rpn11/EIF3F, C-terminal  \n",
       "34  Telomere_reg-2; Telomere length regulation pro...  \n",
       "35                              Neugrin; Neugrin/Rrg9  \n",
       "36  Nab2; Nuclear abundant poly(A) RNA-binding pro...  \n",
       "37  Med22; Mediator of RNA polymerase II transcrip...  \n",
       "38  Coatomer_g_Cpla; Coatomer subunit gamma, C-ter...  \n",
       "39           Ribosomal_S17; Ribosomal protein S17/S11  \n",
       "40   zf-C2H2_3; N-acetyltransferase ESCO, zinc-finger  \n",
       "41                                    HD_3; HD domain  \n",
       "42        Rep_fac_C; Replication factor C, C-terminal  \n",
       "43  OST3_OST6; Oligosaccharyl transferase complex,...  \n",
       "44               Ribosomal_L36; Ribosomal protein L36  \n",
       "45          Pam17; Mitochondrial import protein Pam17  \n",
       "46          Pam17; Mitochondrial import protein Pam17  \n",
       "47                     Sir1; Sir1, ORC-binding domain  \n",
       "48  5-FTHF_cyc-lig; 5-formyltetrahydrofolate cyclo...  "
      ]
     },
     "execution_count": 30,
     "metadata": {},
     "output_type": "execute_result"
    }
   ],
   "source": [
    "only_nsl_pd=pd.merge(repeated_features_sl,repeated_features_nsl,how='right',on=['domain-name'])\n",
    "data_only_nsl = only_nsl_pd[pd.isnull(only_nsl_pd['domain-description_x'])]\n",
    "data_only_nsl"
   ]
  },
  {
   "cell_type": "code",
   "execution_count": 31,
   "metadata": {
    "execution": {
     "iopub.execute_input": "2020-07-22T20:28:01.450050Z",
     "iopub.status.busy": "2020-07-22T20:28:01.449570Z",
     "iopub.status.idle": "2020-07-22T20:28:01.454204Z",
     "shell.execute_reply": "2020-07-22T20:28:01.454612Z"
    }
   },
   "outputs": [
    {
     "data": {
      "text/html": [
       "<div>\n",
       "<style scoped>\n",
       "    .dataframe tbody tr th:only-of-type {\n",
       "        vertical-align: middle;\n",
       "    }\n",
       "\n",
       "    .dataframe tbody tr th {\n",
       "        vertical-align: top;\n",
       "    }\n",
       "\n",
       "    .dataframe thead th {\n",
       "        text-align: right;\n",
       "    }\n",
       "</style>\n",
       "<table border=\"1\" class=\"dataframe\">\n",
       "  <thead>\n",
       "    <tr style=\"text-align: right;\">\n",
       "      <th></th>\n",
       "      <th>domain-name</th>\n",
       "      <th>domain-description_x</th>\n",
       "      <th>domain-description_y</th>\n",
       "    </tr>\n",
       "  </thead>\n",
       "  <tbody>\n",
       "    <tr>\n",
       "      <th>0</th>\n",
       "      <td>PF04191</td>\n",
       "      <td>Lgl_C; Lethal giant larvae (Lgl)-like, C-termi...</td>\n",
       "      <td>Lgl_C; Lethal giant larvae (Lgl)-like, C-termi...</td>\n",
       "    </tr>\n",
       "  </tbody>\n",
       "</table>\n",
       "</div>"
      ],
      "text/plain": [
       "  domain-name                               domain-description_x  \\\n",
       "0     PF04191  Lgl_C; Lethal giant larvae (Lgl)-like, C-termi...   \n",
       "\n",
       "                                domain-description_y  \n",
       "0  Lgl_C; Lethal giant larvae (Lgl)-like, C-termi...  "
      ]
     },
     "execution_count": 31,
     "metadata": {},
     "output_type": "execute_result"
    }
   ],
   "source": [
    "shared_domains_pd=pd.merge(repeated_features_sl,repeated_features_nsl,how='inner',on=['domain-name'])\n",
    "shared_domains_pd\n"
   ]
  },
  {
   "cell_type": "code",
   "execution_count": 32,
   "metadata": {
    "execution": {
     "iopub.execute_input": "2020-07-22T20:28:01.478521Z",
     "iopub.status.busy": "2020-07-22T20:28:01.478001Z",
     "iopub.status.idle": "2020-07-22T20:28:03.116149Z",
     "shell.execute_reply": "2020-07-22T20:28:03.116529Z"
    }
   },
   "outputs": [
    {
     "data": {
      "text/plain": [
       "(0.0, 0.2)"
      ]
     },
     "execution_count": 32,
     "metadata": {},
     "output_type": "execute_result"
    },
    {
     "data": {
      "image/png": "[encoded data removed]",
      "text/plain": [
       "<Figure size 432x288 with 1 Axes>"
      ]
     },
     "metadata": {
      "filenames": {
       "image/png": "/home/runner/work/jupyter-book/jupyter-book/mini_book/docs/_build/jupyter_execute/prot_domains2lethality-FEATURES-POSTPROCESSING_47_1.png"
      },
      "needs_background": "light"
     },
     "output_type": "display_data"
    }
   ],
   "source": [
    "a_sl=x_sl.iloc[:,np.sort(df_sl.iloc[:,1])]\n",
    "a_sl.describe().loc['mean'].hist(bins=8),\n",
    "a_sl.describe().loc['std'].hist(bins=8,alpha=0.4)\n",
    "plt.xlim([0,0.2])"
   ]
  },
  {
   "cell_type": "code",
   "execution_count": 33,
   "metadata": {
    "execution": {
     "iopub.execute_input": "2020-07-22T20:28:03.141424Z",
     "iopub.status.busy": "2020-07-22T20:28:03.121150Z",
     "iopub.status.idle": "2020-07-22T20:28:04.751781Z",
     "shell.execute_reply": "2020-07-22T20:28:04.751128Z"
    }
   },
   "outputs": [
    {
     "data": {
      "text/plain": [
       "(0.0, 0.2)"
      ]
     },
     "execution_count": 33,
     "metadata": {},
     "output_type": "execute_result"
    },
    {
     "data": {
      "image/png": "[encoded data removed]",
      "text/plain": [
       "<Figure size 432x288 with 1 Axes>"
      ]
     },
     "metadata": {
      "filenames": {
       "image/png": "/home/runner/work/jupyter-book/jupyter-book/mini_book/docs/_build/jupyter_execute/prot_domains2lethality-FEATURES-POSTPROCESSING_48_1.png"
      },
      "needs_background": "light"
     },
     "output_type": "display_data"
    }
   ],
   "source": [
    "a_nsl=x_nsl.iloc[:,np.sort(df_nsl.iloc[:,1])]\n",
    "a_nsl.describe().loc['mean'].hist(bins=8),\n",
    "a_nsl.describe().loc['std'].hist(bins=8,alpha=0.4)\n",
    "plt.xlim([0,0.2])"
   ]
  },
  {
   "cell_type": "markdown",
   "metadata": {},
   "source": [
    "### Proof of concept with *BEM1*\n",
    "\n",
    "- Gather the domains of SL and nSL pairs from BEM1\n",
    "- Check if the domains for the SL and nSL pairs are inside the most important domains after PCA."
   ]
  },
  {
   "cell_type": "code",
   "execution_count": 34,
   "metadata": {
    "execution": {
     "iopub.execute_input": "2020-07-22T20:28:04.759234Z",
     "iopub.status.busy": "2020-07-22T20:28:04.758330Z",
     "iopub.status.idle": "2020-07-22T20:28:04.762491Z",
     "shell.execute_reply": "2020-07-22T20:28:04.762905Z"
    }
   },
   "outputs": [],
   "source": [
    "domains_bem1=data_domains[data_domains['name']=='BEM1']['domain-descrip']\n",
    "sl_bem1=data_sl[data_sl['gene-query-name']=='BEM1']['gene-target-name']"
   ]
  },
  {
   "cell_type": "code",
   "execution_count": 35,
   "metadata": {
    "execution": {
     "iopub.execute_input": "2020-07-22T20:28:04.768557Z",
     "iopub.status.busy": "2020-07-22T20:28:04.768042Z",
     "iopub.status.idle": "2020-07-22T20:28:04.772901Z",
     "shell.execute_reply": "2020-07-22T20:28:04.773404Z"
    }
   },
   "outputs": [
    {
     "data": {
      "text/plain": [
       "2846      BEM2\n",
       "2847     CDC24\n",
       "5004      MSB1\n",
       "13777     SMI1\n",
       "13778     BNI1\n",
       "13779     BEM2\n",
       "14385     SKN7\n",
       "Name: gene-target-name, dtype: object"
      ]
     },
     "execution_count": 35,
     "metadata": {},
     "output_type": "execute_result"
    }
   ],
   "source": [
    "sl_bem1"
   ]
  },
  {
   "cell_type": "code",
   "execution_count": 36,
   "metadata": {
    "execution": {
     "iopub.execute_input": "2020-07-22T20:28:04.786077Z",
     "iopub.status.busy": "2020-07-22T20:28:04.781173Z",
     "iopub.status.idle": "2020-07-22T20:28:04.791506Z",
     "shell.execute_reply": "2020-07-22T20:28:04.791037Z"
    }
   },
   "outputs": [
    {
     "data": {
      "text/html": [
       "<div>\n",
       "<style scoped>\n",
       "    .dataframe tbody tr th:only-of-type {\n",
       "        vertical-align: middle;\n",
       "    }\n",
       "\n",
       "    .dataframe tbody tr th {\n",
       "        vertical-align: top;\n",
       "    }\n",
       "\n",
       "    .dataframe thead th {\n",
       "        text-align: right;\n",
       "    }\n",
       "</style>\n",
       "<table border=\"1\" class=\"dataframe\">\n",
       "  <thead>\n",
       "    <tr style=\"text-align: right;\">\n",
       "      <th></th>\n",
       "      <th>gene-query</th>\n",
       "      <th>gene-target</th>\n",
       "      <th>gene-query-name</th>\n",
       "      <th>gene-target-name</th>\n",
       "      <th>gene-query-description</th>\n",
       "      <th>gene-target-description</th>\n",
       "      <th>interaction-type</th>\n",
       "      <th>paper-source</th>\n",
       "    </tr>\n",
       "  </thead>\n",
       "  <tbody>\n",
       "    <tr>\n",
       "      <th>2846</th>\n",
       "      <td>YBR200W</td>\n",
       "      <td>YER155C</td>\n",
       "      <td>BEM1</td>\n",
       "      <td>BEM2</td>\n",
       "      <td>SRO1|phosphatidylinositol-3-phosphate-binding ...</td>\n",
       "      <td>IPL2|SUP9|TSL1|L000000168</td>\n",
       "      <td>Synthetic Lethality</td>\n",
       "      <td>Peterson J (1994)</td>\n",
       "    </tr>\n",
       "    <tr>\n",
       "      <th>2847</th>\n",
       "      <td>YBR200W</td>\n",
       "      <td>YAL041W</td>\n",
       "      <td>BEM1</td>\n",
       "      <td>CDC24</td>\n",
       "      <td>SRO1|phosphatidylinositol-3-phosphate-binding ...</td>\n",
       "      <td>CLS4|Rho family guanine nucleotide exchange fa...</td>\n",
       "      <td>Synthetic Lethality</td>\n",
       "      <td>Peterson J (1994)</td>\n",
       "    </tr>\n",
       "    <tr>\n",
       "      <th>5004</th>\n",
       "      <td>YBR200W</td>\n",
       "      <td>YOR188W</td>\n",
       "      <td>BEM1</td>\n",
       "      <td>MSB1</td>\n",
       "      <td>SRO1|phosphatidylinositol-3-phosphate-binding ...</td>\n",
       "      <td>L000001184</td>\n",
       "      <td>Synthetic Lethality</td>\n",
       "      <td>Bender A (1991)</td>\n",
       "    </tr>\n",
       "    <tr>\n",
       "      <th>13777</th>\n",
       "      <td>YBR200W</td>\n",
       "      <td>YGR229C</td>\n",
       "      <td>BEM1</td>\n",
       "      <td>SMI1</td>\n",
       "      <td>SRO1|phosphatidylinositol-3-phosphate-binding ...</td>\n",
       "      <td>KNR4|L000000909</td>\n",
       "      <td>Synthetic Lethality</td>\n",
       "      <td>Gorelik M (2011)</td>\n",
       "    </tr>\n",
       "    <tr>\n",
       "      <th>13778</th>\n",
       "      <td>YBR200W</td>\n",
       "      <td>YNL271C</td>\n",
       "      <td>BEM1</td>\n",
       "      <td>BNI1</td>\n",
       "      <td>SRO1|phosphatidylinositol-3-phosphate-binding ...</td>\n",
       "      <td>PPF3|SHE5|formin BNI1|L000000190</td>\n",
       "      <td>Synthetic Lethality</td>\n",
       "      <td>Gorelik M (2011)</td>\n",
       "    </tr>\n",
       "    <tr>\n",
       "      <th>13779</th>\n",
       "      <td>YBR200W</td>\n",
       "      <td>YER155C</td>\n",
       "      <td>BEM1</td>\n",
       "      <td>BEM2</td>\n",
       "      <td>SRO1|phosphatidylinositol-3-phosphate-binding ...</td>\n",
       "      <td>IPL2|SUP9|TSL1|L000000168</td>\n",
       "      <td>Synthetic Lethality</td>\n",
       "      <td>Gorelik M (2011)</td>\n",
       "    </tr>\n",
       "    <tr>\n",
       "      <th>14385</th>\n",
       "      <td>YBR200W</td>\n",
       "      <td>YHR206W</td>\n",
       "      <td>BEM1</td>\n",
       "      <td>SKN7</td>\n",
       "      <td>SRO1|phosphatidylinositol-3-phosphate-binding ...</td>\n",
       "      <td>BRY1|POS9|kinase-regulated stress-responsive t...</td>\n",
       "      <td>Dosage Lethality</td>\n",
       "      <td>Bouquin N (1999)</td>\n",
       "    </tr>\n",
       "  </tbody>\n",
       "</table>\n",
       "</div>"
      ],
      "text/plain": [
       "      gene-query gene-target gene-query-name gene-target-name  \\\n",
       "2846     YBR200W     YER155C            BEM1             BEM2   \n",
       "2847     YBR200W     YAL041W            BEM1            CDC24   \n",
       "5004     YBR200W     YOR188W            BEM1             MSB1   \n",
       "13777    YBR200W     YGR229C            BEM1             SMI1   \n",
       "13778    YBR200W     YNL271C            BEM1             BNI1   \n",
       "13779    YBR200W     YER155C            BEM1             BEM2   \n",
       "14385    YBR200W     YHR206W            BEM1             SKN7   \n",
       "\n",
       "                                  gene-query-description  \\\n",
       "2846   SRO1|phosphatidylinositol-3-phosphate-binding ...   \n",
       "2847   SRO1|phosphatidylinositol-3-phosphate-binding ...   \n",
       "5004   SRO1|phosphatidylinositol-3-phosphate-binding ...   \n",
       "13777  SRO1|phosphatidylinositol-3-phosphate-binding ...   \n",
       "13778  SRO1|phosphatidylinositol-3-phosphate-binding ...   \n",
       "13779  SRO1|phosphatidylinositol-3-phosphate-binding ...   \n",
       "14385  SRO1|phosphatidylinositol-3-phosphate-binding ...   \n",
       "\n",
       "                                 gene-target-description     interaction-type  \\\n",
       "2846                           IPL2|SUP9|TSL1|L000000168  Synthetic Lethality   \n",
       "2847   CLS4|Rho family guanine nucleotide exchange fa...  Synthetic Lethality   \n",
       "5004                                          L000001184  Synthetic Lethality   \n",
       "13777                                    KNR4|L000000909  Synthetic Lethality   \n",
       "13778                   PPF3|SHE5|formin BNI1|L000000190  Synthetic Lethality   \n",
       "13779                          IPL2|SUP9|TSL1|L000000168  Synthetic Lethality   \n",
       "14385  BRY1|POS9|kinase-regulated stress-responsive t...     Dosage Lethality   \n",
       "\n",
       "            paper-source  \n",
       "2846   Peterson J (1994)  \n",
       "2847   Peterson J (1994)  \n",
       "5004     Bender A (1991)  \n",
       "13777   Gorelik M (2011)  \n",
       "13778   Gorelik M (2011)  \n",
       "13779   Gorelik M (2011)  \n",
       "14385   Bouquin N (1999)  "
      ]
     },
     "execution_count": 36,
     "metadata": {},
     "output_type": "execute_result"
    }
   ],
   "source": [
    "data_sl[data_sl['gene-query-name']=='BEM1']"
   ]
  },
  {
   "cell_type": "code",
   "execution_count": null,
   "metadata": {},
   "outputs": [],
   "source": []
  }
 ],
 "metadata": {
  "jupytext": {
   "text_representation": {
    "extension": ".md",
    "format_name": "myst"
   }
  },
  "kernelspec": {
   "display_name": "Python 3",
   "language": "python",
   "name": "python3"
  },
  "language_info": {
   "codemirror_mode": {
    "name": "ipython",
    "version": 3
   },
   "file_extension": ".py",
   "mimetype": "text/x-python",
   "name": "python",
   "nbconvert_exporter": "python",
   "pygments_lexer": "ipython3",
   "version": "3.7.6"
  },
  "source_map": [
   10,
   18,
   29,
   36,
   57,
   66,
   98,
   101,
   105,
   128,
   131,
   135,
   139,
   145,
   178,
   184,
   188,
   206,
   210,
   218,
   222,
   225,
   229,
   234,
   238,
   244,
   248,
   253,
   257,
   267,
   269,
   273,
   306,
   311,
   313,
   317,
   328,
   330,
   334,
   344,
   348,
   358,
   360,
   364,
   381,
   388,
   394,
   400,
   407,
   412,
   419,
   424,
   428,
   432
  ]
 },
 "nbformat": 4,
 "nbformat_minor": 4
}