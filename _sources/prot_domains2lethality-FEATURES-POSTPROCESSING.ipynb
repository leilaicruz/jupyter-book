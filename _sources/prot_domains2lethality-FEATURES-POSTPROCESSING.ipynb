{
 "cells": [
  {
   "cell_type": "markdown",
   "metadata": {},
   "source": [
    "# Feature postprocessing from paper.\n",
    "- Title:  \"Predicting yeast synthetic lethal genetic interactions using protein domains\"\n",
    "- Authors: Bo Li, Feng Luo,School of Computing,Clemson University,Clemson, SC, USA\n",
    "- e-mail: bol, luofeng@clemson.edu\n",
    "- year:2009"
   ]
  },
  {
   "cell_type": "code",
   "execution_count": 1,
   "metadata": {
    "execution": {
     "iopub.execute_input": "2020-08-14T08:36:25.443490Z",
     "iopub.status.busy": "2020-08-14T08:36:25.442737Z",
     "iopub.status.idle": "2020-08-14T08:36:26.142134Z",
     "shell.execute_reply": "2020-08-14T08:36:26.141172Z"
    }
   },
   "outputs": [],
   "source": [
    "import pandas as pd\n",
    "import numpy as np\n",
    "import matplotlib.pyplot as plt\n",
    "from collections import defaultdict \n",
    "import seaborn as sns\n",
    "import matplotlib.cm as cm\n",
    "import scipy as scipy\n",
    "import random"
   ]
  },
  {
   "cell_type": "markdown",
   "metadata": {
    "jupyter": {
     "source_hidden": true
    }
   },
   "source": [
    "### Importing datasets \n",
    "\n",
    "#### Link to the github repo where the datasets to be downloaded:\n",
    "[DOWNLOAD THE DATASETS HERE](https://github.com/leilaicruz/machine-learning-for-yeast/tree/dev_Leila/datasets-for-learning)"
   ]
  },
  {
   "cell_type": "code",
   "execution_count": 2,
   "metadata": {
    "execution": {
     "iopub.execute_input": "2020-08-14T08:36:26.148690Z",
     "iopub.status.busy": "2020-08-14T08:36:26.148153Z",
     "iopub.status.idle": "2020-08-14T08:36:33.501201Z",
     "shell.execute_reply": "2020-08-14T08:36:33.501719Z"
    }
   },
   "outputs": [],
   "source": [
    "import os\n",
    "script_dir = os.path.dirname('__file__') #<-- absolute dir the script is in\n",
    "rel_path_SL = \"datasets/data-synthetic-lethals.xlsx\"\n",
    "rel_path_nSL=\"datasets/data-positive-genetic.xlsx\"\n",
    "rel_path_domains=\"datasets/proteins-domains-from-Pfam.xlsx\"\n",
    "\n",
    "abs_file_path_SL = os.path.join(script_dir, rel_path_SL)\n",
    "abs_file_path_nSL = os.path.join(script_dir, rel_path_nSL)\n",
    "abs_file_path_domains = os.path.join(script_dir, rel_path_domains)\n",
    "\n",
    "# os.chdir('mini_book/docs/') #<-- for binder os.chdir('../')\n",
    "# os.chdir('../')\n",
    "my_path_sl= abs_file_path_SL\n",
    "my_path_non_sl=abs_file_path_nSL\n",
    "my_path_domains=abs_file_path_domains\n",
    "\n",
    "data_sl=pd.read_excel(my_path_sl,header=0)\n",
    "data_domains=pd.read_excel(my_path_domains,header=0,index_col='Unnamed: 0')\n",
    "data_domains=data_domains.dropna()\n",
    "data_nonsl=pd.read_excel(my_path_non_sl,header=0)"
   ]
  },
  {
   "cell_type": "markdown",
   "metadata": {},
   "source": [
    "## Building the feature matrix\n",
    "One matrix for true SL where each row is one pair of SL. Every raw will be a vector of 0,1 or 2 depending on the comparison with the domain list. For row i the jth element = 0 if the jth element of the domain list is not in neither protein A and B, 1, if it is in one of them and 2 if it is in both of them .\n",
    "\n",
    "### Building the list of proteins domains id per protein pair separately :\n",
    "- List of protein A: Search for the Sl/nSL database the query gene name and look in the protein domain database which protein domains id has each of those queries.\n",
    "- List of protein B: Search for the Sl/nSL database the target gene name of the previous query and look in the protein domain database which protein domains id has each of those target genes."
   ]
  },
  {
   "cell_type": "code",
   "execution_count": 3,
   "metadata": {
    "execution": {
     "iopub.execute_input": "2020-08-14T08:36:33.601553Z",
     "iopub.status.busy": "2020-08-14T08:36:33.574398Z",
     "iopub.status.idle": "2020-08-14T08:36:35.303277Z",
     "shell.execute_reply": "2020-08-14T08:36:35.302787Z"
    }
   },
   "outputs": [],
   "source": [
    "# Selecting the meaningful columns in the respective dataset\n",
    "domain_id_list=data_domains['domain-name']\n",
    "query_gene=data_sl['gene-query-name']\n",
    "target_gene=data_sl['gene-target-name']\n",
    "query_gene_nonlethal=data_nonsl['gene-query-name']\n",
    "target_gene_nonlethal=data_nonsl['gene-target-name']\n",
    "\n",
    "\n",
    "\n",
    "# Initialising the arrays\n",
    "protein_a_list=[]\n",
    "protein_b_list=[]\n",
    "protein_a_list_non=[]\n",
    "protein_b_list_non=[]\n",
    "\n",
    "population = np.arange(0,len(data_sl))\n",
    "\n",
    "# For loop for 10000 pairs sampled randomly from the SL/nSl pair list , and creating a big array of proteind domains id per protein pair\n",
    "\n",
    "for m in random.sample(list(population), 500):\n",
    "    protein_a=data_domains[data_domains['name']==query_gene[m]]\n",
    "    protein_b=data_domains[data_domains['name']==target_gene[m]]\n",
    "    protein_a_list.append(protein_a['domain-name'].tolist())\n",
    "    protein_b_list.append(protein_b['domain-name'].tolist())\n",
    "\n",
    "    protein_a_non=data_domains[data_domains['name']==query_gene_nonlethal[m]]\n",
    "    protein_b_non=data_domains[data_domains['name']==target_gene_nonlethal[m]]\n",
    "    protein_a_list_non.append(protein_a_non['domain-name'].tolist())\n",
    "    protein_b_list_non.append(protein_b_non['domain-name'].tolist())"
   ]
  },
  {
   "cell_type": "code",
   "execution_count": 4,
   "metadata": {
    "execution": {
     "iopub.execute_input": "2020-08-14T08:36:35.307386Z",
     "iopub.status.busy": "2020-08-14T08:36:35.306852Z",
     "iopub.status.idle": "2020-08-14T08:36:35.311695Z",
     "shell.execute_reply": "2020-08-14T08:36:35.310947Z"
    }
   },
   "outputs": [
    {
     "name": "stdout",
     "output_type": "stream",
     "text": [
      "We are going to analyze 500 protein pairs, out of 17871 SL protein pairs\n",
      "We are going to analyze 500 protein pairs, out of 43340 positive protein pairs\n"
     ]
    }
   ],
   "source": [
    "print('We are going to analyze',len((protein_a_list)) ,'protein pairs, out of',len(data_sl),'SL protein pairs')\n",
    "print('We are going to analyze',len((protein_a_list_non)) ,'protein pairs, out of',len(data_nonsl),'positive protein pairs')"
   ]
  },
  {
   "cell_type": "markdown",
   "metadata": {},
   "source": [
    "### Postprocessing #1:  Remove protein pairs from study if either protein in the pair does not contain any domain"
   ]
  },
  {
   "cell_type": "code",
   "execution_count": 5,
   "metadata": {
    "execution": {
     "iopub.execute_input": "2020-08-14T08:36:35.319749Z",
     "iopub.status.busy": "2020-08-14T08:36:35.319219Z",
     "iopub.status.idle": "2020-08-14T08:36:35.322403Z",
     "shell.execute_reply": "2020-08-14T08:36:35.321983Z"
    }
   },
   "outputs": [],
   "source": [
    "def remove_empty_domains(protein_list_search,protein_list_pair):\n",
    "    index=[]\n",
    "    for i in np.arange(0,len(protein_list_search)):\n",
    "        if protein_list_search[i]==[] or protein_list_pair[i]==[]:\n",
    "            index.append(i) ## index of empty values for the protein_a_list meaning they dont have any annotated domain\n",
    "\n",
    "    y=[x for x in np.arange(0,len(protein_list_search)) if x not in index] # a list with non empty values from protein_a list\n",
    "\n",
    "    protein_list_search_new=[]\n",
    "    protein_list_pair_new=[]\n",
    "    for i in y:\n",
    "        protein_list_search_new.append(protein_list_search[i])\n",
    "        protein_list_pair_new.append(protein_list_pair[i])\n",
    "    return protein_list_search_new,protein_list_pair_new\n",
    "\n",
    "## evaluating the function\n",
    "\n",
    "protein_a_list_new,protein_b_list_new=remove_empty_domains(protein_a_list,protein_b_list)\n",
    "\n",
    "protein_a_list_non_new,protein_b_list_non_new=remove_empty_domains(protein_a_list_non,protein_b_list_non)"
   ]
  },
  {
   "cell_type": "code",
   "execution_count": 6,
   "metadata": {
    "execution": {
     "iopub.execute_input": "2020-08-14T08:36:35.326413Z",
     "iopub.status.busy": "2020-08-14T08:36:35.325902Z",
     "iopub.status.idle": "2020-08-14T08:36:35.329663Z",
     "shell.execute_reply": "2020-08-14T08:36:35.330029Z"
    }
   },
   "outputs": [
    {
     "name": "stdout",
     "output_type": "stream",
     "text": [
      "The empty domain in the SL were: 82 out of 500 domains\n",
      "The empty domain in the nSL were: 95 out of 500 domains\n"
     ]
    }
   ],
   "source": [
    "print('The empty domain in the SL were:', len(protein_a_list)-len(protein_a_list_new), 'out of', len(protein_a_list),'domains')\n",
    "print('The empty domain in the nSL were:', len(protein_a_list_non)-len(protein_a_list_non_new), 'out of', len(protein_a_list_non),'domains')"
   ]
  },
  {
   "cell_type": "markdown",
   "metadata": {},
   "source": [
    "### Feature engineering: Select from each ordered indexes of domain id list which of them appear once, in both or in any of the domains of each protein pair"
   ]
  },
  {
   "cell_type": "markdown",
   "metadata": {},
   "source": [
    "#### Define function `get_indexes`"
   ]
  },
  {
   "cell_type": "code",
   "execution_count": 7,
   "metadata": {
    "execution": {
     "iopub.execute_input": "2020-08-14T08:36:35.335758Z",
     "iopub.status.busy": "2020-08-14T08:36:35.335287Z",
     "iopub.status.idle": "2020-08-14T08:36:35.339191Z",
     "shell.execute_reply": "2020-08-14T08:36:35.338761Z"
    }
   },
   "outputs": [
    {
     "data": {
      "text/plain": [
       "[1, 2]"
      ]
     },
     "execution_count": 7,
     "metadata": {},
     "output_type": "execute_result"
    }
   ],
   "source": [
    "get_indexes = lambda x, xs: [i for (y, i) in zip(xs, range(len(xs))) if x == y] # a function that give the index of whether a value appear in array or not\n",
    "a=[1,2,2,4,5,6,7,8,9,10]\n",
    "get_indexes(2,a)"
   ]
  },
  {
   "cell_type": "code",
   "execution_count": 8,
   "metadata": {
    "execution": {
     "iopub.execute_input": "2020-08-14T08:36:35.346123Z",
     "iopub.status.busy": "2020-08-14T08:36:35.345276Z",
     "iopub.status.idle": "2020-08-14T08:36:35.346680Z",
     "shell.execute_reply": "2020-08-14T08:36:35.347095Z"
    }
   },
   "outputs": [],
   "source": [
    "def feature_building(protein_a_list_new,protein_b_list_new):\n",
    "    x = np.unique(domain_id_list)\n",
    "    ## To avoid taking repeated domains from one protein of the pairs , lets reduced the domains of each protein from the pairs to their unique members\n",
    "    protein_a_list_unique=[]\n",
    "    protein_b_list_unique=[]\n",
    "    for i in np.arange(0,len(protein_a_list_new)):\n",
    "        protein_a_list_unique.append(np.unique(protein_a_list_new[i]))\n",
    "        protein_b_list_unique.append(np.unique(protein_b_list_new[i]))\n",
    "        \n",
    "    protein_feat_true=np.zeros(shape=(len(x),len(protein_a_list_unique)))\n",
    "    pair_a_b_array=[]\n",
    "    for i in np.arange(0,len(protein_a_list_unique)):\n",
    "        index_a=[]\n",
    "        \n",
    "        pair=[protein_a_list_unique[i],protein_b_list_unique[i]]\n",
    "        pair_a_b=np.concatenate(pair).ravel()\n",
    "        pair_a_b_array.append(pair_a_b)\n",
    "\n",
    "    j=0\n",
    "    for i in pair_a_b_array:  \n",
    "        array,index,counts=np.unique(i,return_index=True,return_counts=True)\n",
    "        \n",
    "        for k,m in zip(counts,array):\n",
    "            if k ==2:\n",
    "                protein_feat_true[get_indexes(m,x),j]=2\n",
    "                \n",
    "            if k==1:\n",
    "                protein_feat_true[get_indexes(m,x),j]=1\n",
    "        j=j+1\n",
    "    return protein_feat_true"
   ]
  },
  {
   "cell_type": "code",
   "execution_count": 9,
   "metadata": {
    "execution": {
     "iopub.execute_input": "2020-08-14T08:36:35.355497Z",
     "iopub.status.busy": "2020-08-14T08:36:35.354966Z",
     "iopub.status.idle": "2020-08-14T08:36:35.969963Z",
     "shell.execute_reply": "2020-08-14T08:36:35.969394Z"
    }
   },
   "outputs": [],
   "source": [
    "protein_feat_true=feature_building(protein_b_list_new=protein_b_list_new,protein_a_list_new=protein_a_list_new)\n",
    "protein_feat_true_pd=pd.DataFrame(protein_feat_true.T)\n",
    "\n",
    "protein_feat_non_true=feature_building(protein_b_list_new=protein_b_list_non_new,protein_a_list_new=protein_a_list_non_new)\n",
    "protein_feat_non_true_pd=pd.DataFrame(protein_feat_non_true.T)"
   ]
  },
  {
   "cell_type": "markdown",
   "metadata": {},
   "source": [
    "### How many ones and twos are in each dataset"
   ]
  },
  {
   "cell_type": "code",
   "execution_count": 10,
   "metadata": {
    "execution": {
     "iopub.execute_input": "2020-08-14T08:36:35.976228Z",
     "iopub.status.busy": "2020-08-14T08:36:35.975690Z",
     "iopub.status.idle": "2020-08-14T08:36:36.083031Z",
     "shell.execute_reply": "2020-08-14T08:36:36.083442Z"
    }
   },
   "outputs": [
    {
     "name": "stdout",
     "output_type": "stream",
     "text": [
      "fraction of twos in the SL array is 1.8189726758669776e-05\n",
      "fraction of ones in the SL array is 0.0009664280912649769\n",
      "fraction of twos in the PI array is 5.713702683399653e-06\n",
      "fraction of ones in the PI array is 0.0009329660238751148\n"
     ]
    }
   ],
   "source": [
    "index_2_true=protein_feat_true_pd.where(protein_feat_true_pd==2)\n",
    "index_2_true_count=index_2_true.count(axis=1).sum()\n",
    "\n",
    "index_1_true=protein_feat_true_pd.where(protein_feat_true_pd==1)\n",
    "index_1_true_count=index_1_true.count(axis=1).sum()\n",
    "\n",
    "index_2_nontrue=protein_feat_non_true_pd.where(protein_feat_non_true_pd==2)\n",
    "index_2_nontrue_count=index_2_nontrue.count(axis=1).sum()\n",
    "\n",
    "index_1_nontrue=protein_feat_non_true_pd.where(protein_feat_non_true_pd==1)\n",
    "index_1_nontrue_count=index_1_nontrue.count(axis=1).sum()\n",
    "\n",
    "\n",
    "print('fraction of twos in the SL array is',index_2_true_count/(len(protein_feat_true_pd.index)*len(protein_feat_true_pd.columns)))\n",
    "print('fraction of ones in the SL array is',index_1_true_count/(len(protein_feat_true_pd.index)*len(protein_feat_true_pd.columns)))\n",
    "print('fraction of twos in the PI array is',index_2_nontrue_count/(len(protein_feat_non_true_pd.index)*len(protein_feat_non_true_pd.columns)))\n",
    "print('fraction of ones in the PI array is',index_1_nontrue_count/(len(protein_feat_non_true_pd.index)*len(protein_feat_non_true_pd.columns)))"
   ]
  },
  {
   "cell_type": "markdown",
   "metadata": {},
   "source": [
    "#### Bar plot to visualize these numbers"
   ]
  },
  {
   "cell_type": "code",
   "execution_count": 11,
   "metadata": {
    "execution": {
     "iopub.execute_input": "2020-08-14T08:36:36.103801Z",
     "iopub.status.busy": "2020-08-14T08:36:36.100713Z",
     "iopub.status.idle": "2020-08-14T08:36:36.520525Z",
     "shell.execute_reply": "2020-08-14T08:36:36.520919Z"
    }
   },
   "outputs": [
    {
     "data": {
      "text/plain": [
       "([0, 1, 2, 3],\n",
       " [Text(0, 0, ''), Text(0, 0, ''), Text(0, 0, ''), Text(0, 0, '')])"
      ]
     },
     "execution_count": 11,
     "metadata": {},
     "output_type": "execute_result"
    },
    {
     "data": {
      "image/png": "[encoded data removed]",
      "text/plain": [
       "<Figure size 432x288 with 1 Axes>"
      ]
     },
     "metadata": {
      "filenames": {
       "image/png": "/home/runner/work/jupyter-book/jupyter-book/mini_book/docs/_build/jupyter_execute/prot_domains2lethality-FEATURES-POSTPROCESSING_18_1.png"
      },
      "needs_background": "light"
     },
     "output_type": "display_data"
    }
   ],
   "source": [
    "plt.bar(['fraction of 2 in the nSL','fraction of 1 in the nSL'],[index_2_nontrue_count/(len(protein_feat_non_true_pd.index)*len(protein_feat_non_true_pd.columns)),index_1_nontrue_count/(len(protein_feat_non_true_pd.index)*len(protein_feat_non_true_pd.columns))],alpha=0.6,color=['blue','lightblue']), \n",
    "\n",
    "plt.bar(['fraction of 2 in SL ','fraction of 1 in SL'],[index_2_true_count/(len(protein_feat_true_pd.index)*len(protein_feat_true_pd.columns)),index_1_true_count/(len(protein_feat_true_pd.index)*len(protein_feat_true_pd.columns))],alpha=0.6,color=['coral','lightcoral'])\n",
    "\n",
    "plt.ylabel('Fraction from the population')\n",
    "plt.yscale('log')\n",
    "plt.xticks(rotation=40)"
   ]
  },
  {
   "cell_type": "markdown",
   "metadata": {},
   "source": [
    "#### Adding the labels(response variables) to each dataset"
   ]
  },
  {
   "cell_type": "code",
   "execution_count": 12,
   "metadata": {
    "execution": {
     "iopub.execute_input": "2020-08-14T08:36:36.526940Z",
     "iopub.status.busy": "2020-08-14T08:36:36.526400Z",
     "iopub.status.idle": "2020-08-14T08:36:36.528344Z",
     "shell.execute_reply": "2020-08-14T08:36:36.528689Z"
    }
   },
   "outputs": [],
   "source": [
    "protein_feat_true_pd['lethality']=np.ones(shape=(len(protein_a_list_new)))\n",
    "protein_feat_non_true_pd['lethality']=np.zeros(shape=(len(protein_a_list_non_new)))"
   ]
  },
  {
   "cell_type": "markdown",
   "metadata": {},
   "source": [
    "#### Joining both datasets"
   ]
  },
  {
   "cell_type": "code",
   "execution_count": 13,
   "metadata": {
    "execution": {
     "iopub.execute_input": "2020-08-14T08:36:36.532666Z",
     "iopub.status.busy": "2020-08-14T08:36:36.532140Z",
     "iopub.status.idle": "2020-08-14T08:36:36.569074Z",
     "shell.execute_reply": "2020-08-14T08:36:36.569856Z"
    }
   },
   "outputs": [
    {
     "name": "stdout",
     "output_type": "stream",
     "text": [
      "The number of features are: 3026\n",
      "The number of samples are: 823\n"
     ]
    }
   ],
   "source": [
    "feature_post=pd.concat([protein_feat_true_pd,protein_feat_non_true_pd],axis=0)\n",
    "feature_post=feature_post.set_index(np.arange(0,len(protein_a_list_new)+len(protein_a_list_non_new)))\n",
    "print('The number of features are:',feature_post.shape[1])\n",
    "print('The number of samples are:',feature_post.shape[0])"
   ]
  },
  {
   "cell_type": "markdown",
   "metadata": {},
   "source": [
    "### Postprocessing and exploration of the feature matrix of both datasets"
   ]
  },
  {
   "cell_type": "code",
   "execution_count": 14,
   "metadata": {
    "execution": {
     "iopub.execute_input": "2020-08-14T08:36:36.584535Z",
     "iopub.status.busy": "2020-08-14T08:36:36.575401Z",
     "iopub.status.idle": "2020-08-14T08:36:39.957204Z",
     "shell.execute_reply": "2020-08-14T08:36:39.956591Z"
    }
   },
   "outputs": [],
   "source": [
    "mean=feature_post.T.describe().loc['mean']\n",
    "std=feature_post.T.describe().loc['std']\n",
    "lethality=feature_post['lethality']\n",
    "\n",
    "corr_keys=pd.concat([mean,std,lethality],axis=1)"
   ]
  },
  {
   "cell_type": "markdown",
   "metadata": {},
   "source": [
    "### Viz of the stats"
   ]
  },
  {
   "cell_type": "code",
   "execution_count": 15,
   "metadata": {
    "execution": {
     "iopub.execute_input": "2020-08-14T08:36:39.987966Z",
     "iopub.status.busy": "2020-08-14T08:36:39.975377Z",
     "iopub.status.idle": "2020-08-14T08:36:41.283992Z",
     "shell.execute_reply": "2020-08-14T08:36:41.283308Z"
    }
   },
   "outputs": [
    {
     "data": {
      "text/plain": [
       "Text(0.5, 1.08, 'Pairplot to see data dependencies with Lethality')"
      ]
     },
     "execution_count": 15,
     "metadata": {},
     "output_type": "execute_result"
    },
    {
     "data": {
      "image/png": "[encoded data removed]",
      "text/plain": [
       "<Figure size 412x360 with 6 Axes>"
      ]
     },
     "metadata": {
      "filenames": {
       "image/png": "/home/runner/work/jupyter-book/jupyter-book/mini_book/docs/_build/jupyter_execute/prot_domains2lethality-FEATURES-POSTPROCESSING_26_1.png"
      },
      "needs_background": "light"
     },
     "output_type": "display_data"
    }
   ],
   "source": [
    "pair=sns.pairplot(corr_keys,hue='lethality',diag_kind='kde',kind='reg',palette='colorblind')\n",
    "pair.fig.suptitle('Pairplot to see data dependencies with Lethality',y=1.08)"
   ]
  },
  {
   "cell_type": "code",
   "execution_count": 16,
   "metadata": {
    "execution": {
     "iopub.execute_input": "2020-08-14T08:36:41.293214Z",
     "iopub.status.busy": "2020-08-14T08:36:41.287489Z",
     "iopub.status.idle": "2020-08-14T08:36:41.296163Z",
     "shell.execute_reply": "2020-08-14T08:36:41.295426Z"
    }
   },
   "outputs": [],
   "source": [
    "X, y = feature_post.drop(columns=[\"lethality\"]), feature_post[\"lethality\"]"
   ]
  },
  {
   "cell_type": "code",
   "execution_count": 17,
   "metadata": {
    "execution": {
     "iopub.execute_input": "2020-08-14T08:36:41.300076Z",
     "iopub.status.busy": "2020-08-14T08:36:41.299556Z",
     "iopub.status.idle": "2020-08-14T08:36:41.520437Z",
     "shell.execute_reply": "2020-08-14T08:36:41.519880Z"
    }
   },
   "outputs": [],
   "source": [
    "from sklearn.preprocessing import StandardScaler\n",
    "scaler = StandardScaler()\n",
    "x_sl=protein_feat_true_pd.drop(columns=['lethality'])\n",
    "x_nsl=protein_feat_non_true_pd.drop(columns=['lethality'])\n",
    "\n",
    "X_sl_scaled = scaler.fit_transform(x_sl)\n",
    "X_nsl_scaled = scaler.fit_transform(x_nsl)"
   ]
  },
  {
   "cell_type": "code",
   "execution_count": 18,
   "metadata": {
    "execution": {
     "iopub.execute_input": "2020-08-14T08:36:41.524978Z",
     "iopub.status.busy": "2020-08-14T08:36:41.524361Z",
     "iopub.status.idle": "2020-08-14T08:36:41.529730Z",
     "shell.execute_reply": "2020-08-14T08:36:41.529286Z"
    }
   },
   "outputs": [
    {
     "data": {
      "text/plain": [
       "(418, 3025)"
      ]
     },
     "execution_count": 18,
     "metadata": {},
     "output_type": "execute_result"
    }
   ],
   "source": [
    "np.shape(X_sl_scaled)"
   ]
  },
  {
   "cell_type": "markdown",
   "metadata": {},
   "source": [
    "## How redundant are each of the protein domains?"
   ]
  },
  {
   "cell_type": "code",
   "execution_count": 19,
   "metadata": {
    "execution": {
     "iopub.execute_input": "2020-08-14T08:36:41.536753Z",
     "iopub.status.busy": "2020-08-14T08:36:41.535786Z",
     "iopub.status.idle": "2020-08-14T08:36:41.537796Z",
     "shell.execute_reply": "2020-08-14T08:36:41.538304Z"
    }
   },
   "outputs": [],
   "source": [
    "def PCA_component_contribution(scaled_matrix,original_data):\n",
    "    from sklearn.decomposition import PCA\n",
    "\n",
    "    model = PCA(0.95).fit(scaled_matrix)\n",
    "    ## apply dimensionality reduction to X_train\n",
    "    output_pca = model.transform(scaled_matrix)\n",
    "    \n",
    "    total=sum(model.explained_variance_)\n",
    "\n",
    "\n",
    "   \n",
    "    # number of components , that it will be the number of main axes times the number of original components \n",
    "    n_pcs= model.components_.shape[0] # the amount of non redundant protein domains \n",
    "\n",
    "    # get the index of the most important feature on EACH component\n",
    "    # LIST COMPREHENSION HERE\n",
    "    most_important = [np.abs(model.components_[i]).argmax() for i in range(n_pcs)]\n",
    "\n",
    "    initial_feature_names = original_data.columns\n",
    "    # get the names\n",
    "    most_important_names = [initial_feature_names[most_important[i]] for i in range(n_pcs)]\n",
    "    \n",
    "\n",
    "    # LIST COMPREHENSION HERE AGAIN\n",
    "    dic = {'PC{}'.format(i): most_important_names[i] for i in range(n_pcs)}\n",
    "\n",
    "    # build the dataframe\n",
    "    df = pd.DataFrame(dic.items(),columns=['pca-component','domain-number'])\n",
    "\n",
    "    return df,model.components_"
   ]
  },
  {
   "cell_type": "code",
   "execution_count": 20,
   "metadata": {
    "execution": {
     "iopub.execute_input": "2020-08-14T08:36:41.541860Z",
     "iopub.status.busy": "2020-08-14T08:36:41.541337Z",
     "iopub.status.idle": "2020-08-14T08:36:42.110449Z",
     "shell.execute_reply": "2020-08-14T08:36:42.111187Z"
    }
   },
   "outputs": [],
   "source": [
    "df_sl,components_pca_nsl=PCA_component_contribution(X_nsl_scaled,x_nsl)\n",
    "df_nsl,components_pca_sl=PCA_component_contribution(X_sl_scaled,x_sl)"
   ]
  },
  {
   "cell_type": "code",
   "execution_count": 21,
   "metadata": {
    "execution": {
     "iopub.execute_input": "2020-08-14T08:36:42.114295Z",
     "iopub.status.busy": "2020-08-14T08:36:42.113256Z",
     "iopub.status.idle": "2020-08-14T08:36:42.123486Z",
     "shell.execute_reply": "2020-08-14T08:36:42.124081Z"
    }
   },
   "outputs": [
    {
     "data": {
      "text/html": [
       "<div>\n",
       "<style scoped>\n",
       "    .dataframe tbody tr th:only-of-type {\n",
       "        vertical-align: middle;\n",
       "    }\n",
       "\n",
       "    .dataframe tbody tr th {\n",
       "        vertical-align: top;\n",
       "    }\n",
       "\n",
       "    .dataframe thead th {\n",
       "        text-align: right;\n",
       "    }\n",
       "</style>\n",
       "<table border=\"1\" class=\"dataframe\">\n",
       "  <thead>\n",
       "    <tr style=\"text-align: right;\">\n",
       "      <th></th>\n",
       "      <th>pca-component</th>\n",
       "      <th>domain-number</th>\n",
       "    </tr>\n",
       "  </thead>\n",
       "  <tbody>\n",
       "    <tr>\n",
       "      <th>0</th>\n",
       "      <td>PC0</td>\n",
       "      <td>1464</td>\n",
       "    </tr>\n",
       "    <tr>\n",
       "      <th>1</th>\n",
       "      <td>PC1</td>\n",
       "      <td>540</td>\n",
       "    </tr>\n",
       "    <tr>\n",
       "      <th>2</th>\n",
       "      <td>PC2</td>\n",
       "      <td>89</td>\n",
       "    </tr>\n",
       "    <tr>\n",
       "      <th>3</th>\n",
       "      <td>PC3</td>\n",
       "      <td>2233</td>\n",
       "    </tr>\n",
       "    <tr>\n",
       "      <th>4</th>\n",
       "      <td>PC4</td>\n",
       "      <td>2771</td>\n",
       "    </tr>\n",
       "  </tbody>\n",
       "</table>\n",
       "</div>"
      ],
      "text/plain": [
       "  pca-component  domain-number\n",
       "0           PC0           1464\n",
       "1           PC1            540\n",
       "2           PC2             89\n",
       "3           PC3           2233\n",
       "4           PC4           2771"
      ]
     },
     "execution_count": 21,
     "metadata": {},
     "output_type": "execute_result"
    }
   ],
   "source": [
    "df_sl.head()"
   ]
  },
  {
   "cell_type": "markdown",
   "metadata": {},
   "source": [
    "## which are the shared domains between nSL and SL pairs , in the PCA reduced samples"
   ]
  },
  {
   "cell_type": "code",
   "execution_count": 22,
   "metadata": {
    "execution": {
     "iopub.execute_input": "2020-08-14T08:36:42.127020Z",
     "iopub.status.busy": "2020-08-14T08:36:42.126045Z",
     "iopub.status.idle": "2020-08-14T08:36:42.153638Z",
     "shell.execute_reply": "2020-08-14T08:36:42.154273Z"
    }
   },
   "outputs": [
    {
     "data": {
      "text/html": [
       "<div>\n",
       "<style scoped>\n",
       "    .dataframe tbody tr th:only-of-type {\n",
       "        vertical-align: middle;\n",
       "    }\n",
       "\n",
       "    .dataframe tbody tr th {\n",
       "        vertical-align: top;\n",
       "    }\n",
       "\n",
       "    .dataframe thead th {\n",
       "        text-align: right;\n",
       "    }\n",
       "</style>\n",
       "<table border=\"1\" class=\"dataframe\">\n",
       "  <thead>\n",
       "    <tr style=\"text-align: right;\">\n",
       "      <th></th>\n",
       "      <th>pca-component_x</th>\n",
       "      <th>domain-number</th>\n",
       "      <th>pca-component_y</th>\n",
       "      <th>domain-description</th>\n",
       "    </tr>\n",
       "  </thead>\n",
       "  <tbody>\n",
       "    <tr>\n",
       "      <th>0</th>\n",
       "      <td>PC5</td>\n",
       "      <td>221</td>\n",
       "      <td>PC25</td>\n",
       "      <td>Apq12; Nuclear pore assembly and biogenesis pr...</td>\n",
       "    </tr>\n",
       "    <tr>\n",
       "      <th>1</th>\n",
       "      <td>PC5</td>\n",
       "      <td>221</td>\n",
       "      <td>PC26</td>\n",
       "      <td>Apq12; Nuclear pore assembly and biogenesis pr...</td>\n",
       "    </tr>\n",
       "    <tr>\n",
       "      <th>2</th>\n",
       "      <td>PC12</td>\n",
       "      <td>926</td>\n",
       "      <td>PC16</td>\n",
       "      <td>Flp_C; Recombinase Flp protein</td>\n",
       "    </tr>\n",
       "    <tr>\n",
       "      <th>3</th>\n",
       "      <td>PC17</td>\n",
       "      <td>1804</td>\n",
       "      <td>PC28</td>\n",
       "      <td>PPR_2; Pentatricopeptide repeat</td>\n",
       "    </tr>\n",
       "    <tr>\n",
       "      <th>4</th>\n",
       "      <td>PC18</td>\n",
       "      <td>407</td>\n",
       "      <td>PC148</td>\n",
       "      <td>CPSase_L_D2; Carbamoyl-phosphate synthetase la...</td>\n",
       "    </tr>\n",
       "    <tr>\n",
       "      <th>...</th>\n",
       "      <td>...</td>\n",
       "      <td>...</td>\n",
       "      <td>...</td>\n",
       "      <td>...</td>\n",
       "    </tr>\n",
       "    <tr>\n",
       "      <th>56</th>\n",
       "      <td>PC262</td>\n",
       "      <td>1575</td>\n",
       "      <td>PC192</td>\n",
       "      <td>NOC3p; Nucleolar complex-associated protein 3,...</td>\n",
       "    </tr>\n",
       "    <tr>\n",
       "      <th>57</th>\n",
       "      <td>PC262</td>\n",
       "      <td>1575</td>\n",
       "      <td>PC194</td>\n",
       "      <td>NOC3p; Nucleolar complex-associated protein 3,...</td>\n",
       "    </tr>\n",
       "    <tr>\n",
       "      <th>58</th>\n",
       "      <td>PC267</td>\n",
       "      <td>881</td>\n",
       "      <td>PC119</td>\n",
       "      <td>FHA; Forkhead-associated (FHA) domain</td>\n",
       "    </tr>\n",
       "    <tr>\n",
       "      <th>59</th>\n",
       "      <td>PC267</td>\n",
       "      <td>881</td>\n",
       "      <td>PC120</td>\n",
       "      <td>FHA; Forkhead-associated (FHA) domain</td>\n",
       "    </tr>\n",
       "    <tr>\n",
       "      <th>60</th>\n",
       "      <td>PC280</td>\n",
       "      <td>2025</td>\n",
       "      <td>PC152</td>\n",
       "      <td>RNA_pol_Rpb2_7; RNA polymerase Rpb2, domain 7</td>\n",
       "    </tr>\n",
       "  </tbody>\n",
       "</table>\n",
       "<p>61 rows × 4 columns</p>\n",
       "</div>"
      ],
      "text/plain": [
       "   pca-component_x  domain-number pca-component_y  \\\n",
       "0              PC5            221            PC25   \n",
       "1              PC5            221            PC26   \n",
       "2             PC12            926            PC16   \n",
       "3             PC17           1804            PC28   \n",
       "4             PC18            407           PC148   \n",
       "..             ...            ...             ...   \n",
       "56           PC262           1575           PC192   \n",
       "57           PC262           1575           PC194   \n",
       "58           PC267            881           PC119   \n",
       "59           PC267            881           PC120   \n",
       "60           PC280           2025           PC152   \n",
       "\n",
       "                                   domain-description  \n",
       "0   Apq12; Nuclear pore assembly and biogenesis pr...  \n",
       "1   Apq12; Nuclear pore assembly and biogenesis pr...  \n",
       "2                      Flp_C; Recombinase Flp protein  \n",
       "3                     PPR_2; Pentatricopeptide repeat  \n",
       "4   CPSase_L_D2; Carbamoyl-phosphate synthetase la...  \n",
       "..                                                ...  \n",
       "56  NOC3p; Nucleolar complex-associated protein 3,...  \n",
       "57  NOC3p; Nucleolar complex-associated protein 3,...  \n",
       "58              FHA; Forkhead-associated (FHA) domain  \n",
       "59              FHA; Forkhead-associated (FHA) domain  \n",
       "60      RNA_pol_Rpb2_7; RNA polymerase Rpb2, domain 7  \n",
       "\n",
       "[61 rows x 4 columns]"
      ]
     },
     "execution_count": 22,
     "metadata": {},
     "output_type": "execute_result"
    }
   ],
   "source": [
    "df_shared_domains=pd.merge(df_sl,df_nsl,how='inner',on='domain-number')\n",
    "domains_name=np.unique(data_domains['domain-name'])\n",
    "domains_description=np.unique(data_domains['domain-descrip'])\n",
    "\n",
    "df_shared_domains['domain-description']=domains_description[df_shared_domains['domain-number']]\n",
    "\n",
    "\n",
    "df_shared_domains"
   ]
  },
  {
   "cell_type": "code",
   "execution_count": 23,
   "metadata": {
    "execution": {
     "iopub.execute_input": "2020-08-14T08:36:42.157094Z",
     "iopub.status.busy": "2020-08-14T08:36:42.156126Z",
     "iopub.status.idle": "2020-08-14T08:36:42.162904Z",
     "shell.execute_reply": "2020-08-14T08:36:42.163682Z"
    }
   },
   "outputs": [
    {
     "name": "stdout",
     "output_type": "stream",
     "text": [
      "The number of shared domains between SL and nSL pairs,after PCA, is =  61 out of 556 so the 10.971223021582734 %\n"
     ]
    }
   ],
   "source": [
    "print('The number of shared domains between SL and nSL pairs,after PCA, is = ',len(df_shared_domains), 'out of', len(df_sl)+len(df_nsl), 'so the',100*len(df_shared_domains)/(len(df_sl)+len(df_nsl)),'%')"
   ]
  },
  {
   "cell_type": "markdown",
   "metadata": {},
   "source": [
    "## Domains exclusive to SL"
   ]
  },
  {
   "cell_type": "code",
   "execution_count": 24,
   "metadata": {
    "execution": {
     "iopub.execute_input": "2020-08-14T08:36:42.166643Z",
     "iopub.status.busy": "2020-08-14T08:36:42.165656Z",
     "iopub.status.idle": "2020-08-14T08:36:42.192850Z",
     "shell.execute_reply": "2020-08-14T08:36:42.193595Z"
    }
   },
   "outputs": [
    {
     "data": {
      "text/html": [
       "<div>\n",
       "<style scoped>\n",
       "    .dataframe tbody tr th:only-of-type {\n",
       "        vertical-align: middle;\n",
       "    }\n",
       "\n",
       "    .dataframe tbody tr th {\n",
       "        vertical-align: top;\n",
       "    }\n",
       "\n",
       "    .dataframe thead th {\n",
       "        text-align: right;\n",
       "    }\n",
       "</style>\n",
       "<table border=\"1\" class=\"dataframe\">\n",
       "  <thead>\n",
       "    <tr style=\"text-align: right;\">\n",
       "      <th></th>\n",
       "      <th>pca-component_x</th>\n",
       "      <th>domain-number</th>\n",
       "      <th>pca-component_y</th>\n",
       "      <th>domain-description</th>\n",
       "    </tr>\n",
       "  </thead>\n",
       "  <tbody>\n",
       "    <tr>\n",
       "      <th>0</th>\n",
       "      <td>PC0</td>\n",
       "      <td>1464</td>\n",
       "      <td>NaN</td>\n",
       "      <td>Metallophos_2; Calcineurin-like phosphoesteras...</td>\n",
       "    </tr>\n",
       "    <tr>\n",
       "      <th>1</th>\n",
       "      <td>PC1</td>\n",
       "      <td>540</td>\n",
       "      <td>NaN</td>\n",
       "      <td>Cytochrome_B; Cytochrome b/b6, N-terminal</td>\n",
       "    </tr>\n",
       "    <tr>\n",
       "      <th>2</th>\n",
       "      <td>PC2</td>\n",
       "      <td>89</td>\n",
       "      <td>NaN</td>\n",
       "      <td>ANAPC8; Cdc23</td>\n",
       "    </tr>\n",
       "    <tr>\n",
       "      <th>3</th>\n",
       "      <td>PC3</td>\n",
       "      <td>2233</td>\n",
       "      <td>NaN</td>\n",
       "      <td>Ribosomal_S27e; Ribosomal protein S27e</td>\n",
       "    </tr>\n",
       "    <tr>\n",
       "      <th>4</th>\n",
       "      <td>PC4</td>\n",
       "      <td>2771</td>\n",
       "      <td>NaN</td>\n",
       "      <td>Ubiq-assoc; Ubiquitin-associated domain, SWA2-...</td>\n",
       "    </tr>\n",
       "    <tr>\n",
       "      <th>...</th>\n",
       "      <td>...</td>\n",
       "      <td>...</td>\n",
       "      <td>...</td>\n",
       "      <td>...</td>\n",
       "    </tr>\n",
       "    <tr>\n",
       "      <th>285</th>\n",
       "      <td>PC275</td>\n",
       "      <td>2575</td>\n",
       "      <td>NaN</td>\n",
       "      <td>TFIID-18kDa; Transcription initiation factor I...</td>\n",
       "    </tr>\n",
       "    <tr>\n",
       "      <th>286</th>\n",
       "      <td>PC276</td>\n",
       "      <td>1977</td>\n",
       "      <td>NaN</td>\n",
       "      <td>RFC1; DNA replication factor RFC1, C-terminal</td>\n",
       "    </tr>\n",
       "    <tr>\n",
       "      <th>287</th>\n",
       "      <td>PC277</td>\n",
       "      <td>2355</td>\n",
       "      <td>NaN</td>\n",
       "      <td>SNF2_N; SNF2-related, N-terminal domain</td>\n",
       "    </tr>\n",
       "    <tr>\n",
       "      <th>288</th>\n",
       "      <td>PC278</td>\n",
       "      <td>273</td>\n",
       "      <td>NaN</td>\n",
       "      <td>BLM10_mid; Proteasome activator Blm10, mid region</td>\n",
       "    </tr>\n",
       "    <tr>\n",
       "      <th>289</th>\n",
       "      <td>PC279</td>\n",
       "      <td>1674</td>\n",
       "      <td>NaN</td>\n",
       "      <td>Orn_Arg_deC_N; Orn/DAP/Arg decarboxylase 2, N-...</td>\n",
       "    </tr>\n",
       "  </tbody>\n",
       "</table>\n",
       "<p>230 rows × 4 columns</p>\n",
       "</div>"
      ],
      "text/plain": [
       "    pca-component_x  domain-number pca-component_y  \\\n",
       "0               PC0           1464             NaN   \n",
       "1               PC1            540             NaN   \n",
       "2               PC2             89             NaN   \n",
       "3               PC3           2233             NaN   \n",
       "4               PC4           2771             NaN   \n",
       "..              ...            ...             ...   \n",
       "285           PC275           2575             NaN   \n",
       "286           PC276           1977             NaN   \n",
       "287           PC277           2355             NaN   \n",
       "288           PC278            273             NaN   \n",
       "289           PC279           1674             NaN   \n",
       "\n",
       "                                    domain-description  \n",
       "0    Metallophos_2; Calcineurin-like phosphoesteras...  \n",
       "1            Cytochrome_B; Cytochrome b/b6, N-terminal  \n",
       "2                                        ANAPC8; Cdc23  \n",
       "3               Ribosomal_S27e; Ribosomal protein S27e  \n",
       "4    Ubiq-assoc; Ubiquitin-associated domain, SWA2-...  \n",
       "..                                                 ...  \n",
       "285  TFIID-18kDa; Transcription initiation factor I...  \n",
       "286      RFC1; DNA replication factor RFC1, C-terminal  \n",
       "287            SNF2_N; SNF2-related, N-terminal domain  \n",
       "288  BLM10_mid; Proteasome activator Blm10, mid region  \n",
       "289  Orn_Arg_deC_N; Orn/DAP/Arg decarboxylase 2, N-...  \n",
       "\n",
       "[230 rows x 4 columns]"
      ]
     },
     "execution_count": 24,
     "metadata": {},
     "output_type": "execute_result"
    }
   ],
   "source": [
    "df_sl_exclusive=pd.merge(df_sl,df_nsl,how='left',on='domain-number')\n",
    "\n",
    "domains_name=np.unique(data_domains['domain-name'])\n",
    "domains_description=np.unique(data_domains['domain-descrip'])\n",
    "\n",
    "df_sl_exclusive['domain-description']=domains_description[df_sl_exclusive['domain-number']]\n",
    "df_sl_exclusive[pd.isnull(df_sl_exclusive['pca-component_y'])]"
   ]
  },
  {
   "cell_type": "code",
   "execution_count": 25,
   "metadata": {
    "execution": {
     "iopub.execute_input": "2020-08-14T08:36:42.196525Z",
     "iopub.status.busy": "2020-08-14T08:36:42.195545Z",
     "iopub.status.idle": "2020-08-14T08:36:42.202124Z",
     "shell.execute_reply": "2020-08-14T08:36:42.202805Z"
    }
   },
   "outputs": [
    {
     "name": "stdout",
     "output_type": "stream",
     "text": [
      "The number of exclusive domains from SL pairs, after PCA, is =  291 out of 556 so the 52.33812949640288 %\n"
     ]
    }
   ],
   "source": [
    "print('The number of exclusive domains from SL pairs, after PCA, is = ',len(df_sl_exclusive), 'out of', len(df_sl)+len(df_nsl), 'so the',100*len(df_sl_exclusive)/(len(df_sl)+len(df_nsl)),'%')"
   ]
  },
  {
   "cell_type": "code",
   "execution_count": 26,
   "metadata": {
    "execution": {
     "iopub.execute_input": "2020-08-14T08:36:42.205631Z",
     "iopub.status.busy": "2020-08-14T08:36:42.204654Z",
     "iopub.status.idle": "2020-08-14T08:36:42.231867Z",
     "shell.execute_reply": "2020-08-14T08:36:42.232538Z"
    }
   },
   "outputs": [
    {
     "data": {
      "text/html": [
       "<div>\n",
       "<style scoped>\n",
       "    .dataframe tbody tr th:only-of-type {\n",
       "        vertical-align: middle;\n",
       "    }\n",
       "\n",
       "    .dataframe tbody tr th {\n",
       "        vertical-align: top;\n",
       "    }\n",
       "\n",
       "    .dataframe thead th {\n",
       "        text-align: right;\n",
       "    }\n",
       "</style>\n",
       "<table border=\"1\" class=\"dataframe\">\n",
       "  <thead>\n",
       "    <tr style=\"text-align: right;\">\n",
       "      <th></th>\n",
       "      <th>pca-component_x</th>\n",
       "      <th>domain-number</th>\n",
       "      <th>pca-component_y</th>\n",
       "      <th>domain-description</th>\n",
       "    </tr>\n",
       "  </thead>\n",
       "  <tbody>\n",
       "    <tr>\n",
       "      <th>0</th>\n",
       "      <td>NaN</td>\n",
       "      <td>1028</td>\n",
       "      <td>PC0</td>\n",
       "      <td>GatB_Yqey; Asn/Gln amidotransferase</td>\n",
       "    </tr>\n",
       "    <tr>\n",
       "      <th>1</th>\n",
       "      <td>NaN</td>\n",
       "      <td>1425</td>\n",
       "      <td>PC1</td>\n",
       "      <td>Mannosyl_trans; Mannosyltransferase, DXD</td>\n",
       "    </tr>\n",
       "    <tr>\n",
       "      <th>2</th>\n",
       "      <td>NaN</td>\n",
       "      <td>1252</td>\n",
       "      <td>PC2</td>\n",
       "      <td>JmjN; JmjN domain</td>\n",
       "    </tr>\n",
       "    <tr>\n",
       "      <th>3</th>\n",
       "      <td>NaN</td>\n",
       "      <td>2113</td>\n",
       "      <td>PC3</td>\n",
       "      <td>Rav1p_C; RAVE complex protein Rav1 C-terminal</td>\n",
       "    </tr>\n",
       "    <tr>\n",
       "      <th>4</th>\n",
       "      <td>NaN</td>\n",
       "      <td>509</td>\n",
       "      <td>PC4</td>\n",
       "      <td>Cornichon</td>\n",
       "    </tr>\n",
       "    <tr>\n",
       "      <th>...</th>\n",
       "      <td>...</td>\n",
       "      <td>...</td>\n",
       "      <td>...</td>\n",
       "      <td>...</td>\n",
       "    </tr>\n",
       "    <tr>\n",
       "      <th>278</th>\n",
       "      <td>NaN</td>\n",
       "      <td>2371</td>\n",
       "      <td>PC264</td>\n",
       "      <td>SPT2; Chromatin SPT2</td>\n",
       "    </tr>\n",
       "    <tr>\n",
       "      <th>279</th>\n",
       "      <td>NaN</td>\n",
       "      <td>2653</td>\n",
       "      <td>PC266</td>\n",
       "      <td>Tfb4; TFIIH subunit Tfb4/p34</td>\n",
       "    </tr>\n",
       "    <tr>\n",
       "      <th>282</th>\n",
       "      <td>NaN</td>\n",
       "      <td>177</td>\n",
       "      <td>PC268</td>\n",
       "      <td>Aha1_N; Activator of Hsp90 ATPase, N-terminal</td>\n",
       "    </tr>\n",
       "    <tr>\n",
       "      <th>283</th>\n",
       "      <td>NaN</td>\n",
       "      <td>2660</td>\n",
       "      <td>PC272</td>\n",
       "      <td>Thiolase_C; Thiolase, C-terminal</td>\n",
       "    </tr>\n",
       "    <tr>\n",
       "      <th>285</th>\n",
       "      <td>NaN</td>\n",
       "      <td>1230</td>\n",
       "      <td>PC274</td>\n",
       "      <td>IlvN; Acetohydroxy acid isomeroreductase, NADP...</td>\n",
       "    </tr>\n",
       "  </tbody>\n",
       "</table>\n",
       "<p>225 rows × 4 columns</p>\n",
       "</div>"
      ],
      "text/plain": [
       "    pca-component_x  domain-number pca-component_y  \\\n",
       "0               NaN           1028             PC0   \n",
       "1               NaN           1425             PC1   \n",
       "2               NaN           1252             PC2   \n",
       "3               NaN           2113             PC3   \n",
       "4               NaN            509             PC4   \n",
       "..              ...            ...             ...   \n",
       "278             NaN           2371           PC264   \n",
       "279             NaN           2653           PC266   \n",
       "282             NaN            177           PC268   \n",
       "283             NaN           2660           PC272   \n",
       "285             NaN           1230           PC274   \n",
       "\n",
       "                                    domain-description  \n",
       "0                  GatB_Yqey; Asn/Gln amidotransferase  \n",
       "1             Mannosyl_trans; Mannosyltransferase, DXD  \n",
       "2                                    JmjN; JmjN domain  \n",
       "3        Rav1p_C; RAVE complex protein Rav1 C-terminal  \n",
       "4                                            Cornichon  \n",
       "..                                                 ...  \n",
       "278                               SPT2; Chromatin SPT2  \n",
       "279                       Tfb4; TFIIH subunit Tfb4/p34  \n",
       "282      Aha1_N; Activator of Hsp90 ATPase, N-terminal  \n",
       "283                   Thiolase_C; Thiolase, C-terminal  \n",
       "285  IlvN; Acetohydroxy acid isomeroreductase, NADP...  \n",
       "\n",
       "[225 rows x 4 columns]"
      ]
     },
     "execution_count": 26,
     "metadata": {},
     "output_type": "execute_result"
    }
   ],
   "source": [
    "df_nsl_exclusive=pd.merge(df_sl,df_nsl,how='right',on='domain-number')\n",
    "\n",
    "domains_name=np.unique(data_domains['domain-name'])\n",
    "domains_description=np.unique(data_domains['domain-descrip'])\n",
    "\n",
    "df_nsl_exclusive['domain-description']=domains_description[df_nsl_exclusive['domain-number']]\n",
    "df_nsl_exclusive[pd.isnull(df_nsl_exclusive['pca-component_x'])]"
   ]
  },
  {
   "cell_type": "code",
   "execution_count": 27,
   "metadata": {
    "execution": {
     "iopub.execute_input": "2020-08-14T08:36:42.236227Z",
     "iopub.status.busy": "2020-08-14T08:36:42.235714Z",
     "iopub.status.idle": "2020-08-14T08:36:42.239923Z",
     "shell.execute_reply": "2020-08-14T08:36:42.239441Z"
    }
   },
   "outputs": [
    {
     "name": "stdout",
     "output_type": "stream",
     "text": [
      "The number of exclusive domains from non SL pairs, after PCA, is =  286 out of 556 so the 51.43884892086331 %\n"
     ]
    }
   ],
   "source": [
    "print('The number of exclusive domains from non SL pairs, after PCA, is = ',len(df_nsl_exclusive), 'out of', len(df_sl)+len(df_nsl), 'so the',100*len(df_nsl_exclusive)/(len(df_sl)+len(df_nsl)),'%')"
   ]
  },
  {
   "cell_type": "markdown",
   "metadata": {},
   "source": [
    "## Let see to the domains-number that get repeated after the PCA analysis , and selecting the most explanatory feature by its explained variance."
   ]
  },
  {
   "cell_type": "code",
   "execution_count": 28,
   "metadata": {
    "execution": {
     "iopub.execute_input": "2020-08-14T08:36:42.260007Z",
     "iopub.status.busy": "2020-08-14T08:36:42.258852Z",
     "iopub.status.idle": "2020-08-14T08:36:42.260603Z",
     "shell.execute_reply": "2020-08-14T08:36:42.261026Z"
    }
   },
   "outputs": [],
   "source": [
    "duplicated_features_sl=df_sl[df_sl.iloc[:,1].duplicated()]\n",
    "repeated_features_sl=pd.DataFrame()\n",
    "\n",
    "domains_name=np.unique(data_domains['domain-name'])\n",
    "domains_description=np.unique(data_domains['domain-descrip'])\n",
    "\n",
    "repeated_features_sl['domain-name']=domains_name[duplicated_features_sl.iloc[:,1]] \n",
    "repeated_features_sl['domain-description']=domains_description[duplicated_features_sl.iloc[:,1]]\n",
    "\n",
    "duplicated_features_nsl=df_nsl[df_nsl.iloc[:,1].duplicated()]\n",
    "repeated_features_nsl=pd.DataFrame()\n",
    "\n",
    "repeated_features_nsl['domain-name']=domains_name[duplicated_features_nsl.iloc[:,1]] \n",
    "repeated_features_nsl['domain-description']=domains_description[duplicated_features_nsl.iloc[:,1]]"
   ]
  },
  {
   "cell_type": "code",
   "execution_count": 29,
   "metadata": {
    "execution": {
     "iopub.execute_input": "2020-08-14T08:36:42.269124Z",
     "iopub.status.busy": "2020-08-14T08:36:42.267924Z",
     "iopub.status.idle": "2020-08-14T08:36:42.272356Z",
     "shell.execute_reply": "2020-08-14T08:36:42.272772Z"
    }
   },
   "outputs": [
    {
     "name": "stderr",
     "output_type": "stream",
     "text": [
      "/usr/share/miniconda3/envs/wintest/lib/python3.7/site-packages/ipykernel_launcher.py:3: SettingWithCopyWarning: \n",
      "A value is trying to be set on a copy of a slice from a DataFrame.\n",
      "Try using .loc[row_indexer,col_indexer] = value instead\n",
      "\n",
      "See the caveats in the documentation: https://pandas.pydata.org/pandas-docs/stable/user_guide/indexing.html#returning-a-view-versus-a-copy\n",
      "  This is separate from the ipykernel package so we can avoid doing imports until\n"
     ]
    },
    {
     "data": {
      "text/plain": [
       "((35, 4), (291, 4))"
      ]
     },
     "execution_count": 29,
     "metadata": {},
     "output_type": "execute_result"
    }
   ],
   "source": [
    "only_sl_pd=pd.merge(repeated_features_sl,repeated_features_nsl,how='left',on=['domain-name'])\n",
    "data_only_sl = only_sl_pd[pd.isnull(only_sl_pd['domain-description_y'])]\n",
    "data_only_sl['domain-description']=data_only_sl['domain-description_x']\n",
    "data_only_sl.shape,df_sl_exclusive.shape"
   ]
  },
  {
   "cell_type": "code",
   "execution_count": 30,
   "metadata": {
    "execution": {
     "iopub.execute_input": "2020-08-14T08:36:42.289189Z",
     "iopub.status.busy": "2020-08-14T08:36:42.288485Z",
     "iopub.status.idle": "2020-08-14T08:36:42.291788Z",
     "shell.execute_reply": "2020-08-14T08:36:42.292284Z"
    }
   },
   "outputs": [
    {
     "data": {
      "text/html": [
       "<div>\n",
       "<style scoped>\n",
       "    .dataframe tbody tr th:only-of-type {\n",
       "        vertical-align: middle;\n",
       "    }\n",
       "\n",
       "    .dataframe tbody tr th {\n",
       "        vertical-align: top;\n",
       "    }\n",
       "\n",
       "    .dataframe thead th {\n",
       "        text-align: right;\n",
       "    }\n",
       "</style>\n",
       "<table border=\"1\" class=\"dataframe\">\n",
       "  <thead>\n",
       "    <tr style=\"text-align: right;\">\n",
       "      <th></th>\n",
       "      <th>domain-name</th>\n",
       "      <th>domain-description_x</th>\n",
       "      <th>domain-description_y</th>\n",
       "    </tr>\n",
       "  </thead>\n",
       "  <tbody>\n",
       "    <tr>\n",
       "      <th>0</th>\n",
       "      <td>PF03198</td>\n",
       "      <td>NaN</td>\n",
       "      <td>Glycos_transf_1; Glycosyl transferase, family 1</td>\n",
       "    </tr>\n",
       "    <tr>\n",
       "      <th>1</th>\n",
       "      <td>PF00023</td>\n",
       "      <td>NaN</td>\n",
       "      <td>4HBT; Thioesterase domain</td>\n",
       "    </tr>\n",
       "    <tr>\n",
       "      <th>2</th>\n",
       "      <td>PF00454</td>\n",
       "      <td>NaN</td>\n",
       "      <td>Apq12; Nuclear pore assembly and biogenesis pr...</td>\n",
       "    </tr>\n",
       "    <tr>\n",
       "      <th>3</th>\n",
       "      <td>PF11262</td>\n",
       "      <td>NaN</td>\n",
       "      <td>SPA</td>\n",
       "    </tr>\n",
       "    <tr>\n",
       "      <th>4</th>\n",
       "      <td>PF00035</td>\n",
       "      <td>NaN</td>\n",
       "      <td>AAA_12</td>\n",
       "    </tr>\n",
       "    <tr>\n",
       "      <th>5</th>\n",
       "      <td>PF00156</td>\n",
       "      <td>NaN</td>\n",
       "      <td>AIRS_C; AIR synthase-related protein, C-termin...</td>\n",
       "    </tr>\n",
       "    <tr>\n",
       "      <th>6</th>\n",
       "      <td>PF04055</td>\n",
       "      <td>NaN</td>\n",
       "      <td>KA1; Kinase associated domain 1 (KA1)</td>\n",
       "    </tr>\n",
       "    <tr>\n",
       "      <th>7</th>\n",
       "      <td>PF00650</td>\n",
       "      <td>NaN</td>\n",
       "      <td>CBFB_NFYA; Nuclear transcription factor Y subu...</td>\n",
       "    </tr>\n",
       "    <tr>\n",
       "      <th>8</th>\n",
       "      <td>PF03366</td>\n",
       "      <td>NaN</td>\n",
       "      <td>HATPase_c_3</td>\n",
       "    </tr>\n",
       "    <tr>\n",
       "      <th>9</th>\n",
       "      <td>PF03366</td>\n",
       "      <td>NaN</td>\n",
       "      <td>HATPase_c_3</td>\n",
       "    </tr>\n",
       "    <tr>\n",
       "      <th>10</th>\n",
       "      <td>PF00515</td>\n",
       "      <td>NaN</td>\n",
       "      <td>BAG; BAG domain</td>\n",
       "    </tr>\n",
       "    <tr>\n",
       "      <th>11</th>\n",
       "      <td>PF01459</td>\n",
       "      <td>NaN</td>\n",
       "      <td>DUF1077; Protein of unknown function DUF1077, ...</td>\n",
       "    </tr>\n",
       "    <tr>\n",
       "      <th>12</th>\n",
       "      <td>PF07962</td>\n",
       "      <td>NaN</td>\n",
       "      <td>PMP1_2; Plasma membrane ATPase proteolipid</td>\n",
       "    </tr>\n",
       "    <tr>\n",
       "      <th>13</th>\n",
       "      <td>PF00660</td>\n",
       "      <td>NaN</td>\n",
       "      <td>CDC13_N; Cell division control protein 13, N-t...</td>\n",
       "    </tr>\n",
       "    <tr>\n",
       "      <th>14</th>\n",
       "      <td>PF01163</td>\n",
       "      <td>NaN</td>\n",
       "      <td>Ctf8; Chromosome transmission fidelity protein 8</td>\n",
       "    </tr>\n",
       "    <tr>\n",
       "      <th>15</th>\n",
       "      <td>PF03985</td>\n",
       "      <td>NaN</td>\n",
       "      <td>I_LWEQ; I/LWEQ domain</td>\n",
       "    </tr>\n",
       "    <tr>\n",
       "      <th>16</th>\n",
       "      <td>PF12937</td>\n",
       "      <td>NaN</td>\n",
       "      <td>TFIIF_alpha; Transcription initiation factor I...</td>\n",
       "    </tr>\n",
       "    <tr>\n",
       "      <th>17</th>\n",
       "      <td>PF13519</td>\n",
       "      <td>NaN</td>\n",
       "      <td>Telomere_reg-2; Telomere length regulation pro...</td>\n",
       "    </tr>\n",
       "    <tr>\n",
       "      <th>18</th>\n",
       "      <td>PF02383</td>\n",
       "      <td>NaN</td>\n",
       "      <td>FHA; Forkhead-associated (FHA) domain</td>\n",
       "    </tr>\n",
       "    <tr>\n",
       "      <th>19</th>\n",
       "      <td>PF00498</td>\n",
       "      <td>NaN</td>\n",
       "      <td>Autophagy_act_C; Autophagy-related protein 3</td>\n",
       "    </tr>\n",
       "    <tr>\n",
       "      <th>20</th>\n",
       "      <td>PF08286</td>\n",
       "      <td>NaN</td>\n",
       "      <td>Peptidase_C50</td>\n",
       "    </tr>\n",
       "    <tr>\n",
       "      <th>21</th>\n",
       "      <td>PF08286</td>\n",
       "      <td>NaN</td>\n",
       "      <td>Peptidase_C50</td>\n",
       "    </tr>\n",
       "    <tr>\n",
       "      <th>22</th>\n",
       "      <td>PF04893</td>\n",
       "      <td>NaN</td>\n",
       "      <td>Med22; Mediator of RNA polymerase II transcrip...</td>\n",
       "    </tr>\n",
       "    <tr>\n",
       "      <th>23</th>\n",
       "      <td>PF01388</td>\n",
       "      <td>NaN</td>\n",
       "      <td>DNA_pol3_delta2</td>\n",
       "    </tr>\n",
       "    <tr>\n",
       "      <th>24</th>\n",
       "      <td>PF03343</td>\n",
       "      <td>NaN</td>\n",
       "      <td>HAD</td>\n",
       "    </tr>\n",
       "    <tr>\n",
       "      <th>25</th>\n",
       "      <td>PF12271</td>\n",
       "      <td>NaN</td>\n",
       "      <td>Sgf11; SAGA complex, Sgf11 subunit</td>\n",
       "    </tr>\n",
       "    <tr>\n",
       "      <th>26</th>\n",
       "      <td>PF08731</td>\n",
       "      <td>NaN</td>\n",
       "      <td>RNase_PH_C; Exoribonuclease, phosphorolytic do...</td>\n",
       "    </tr>\n",
       "    <tr>\n",
       "      <th>27</th>\n",
       "      <td>PF08731</td>\n",
       "      <td>NaN</td>\n",
       "      <td>RNase_PH_C; Exoribonuclease, phosphorolytic do...</td>\n",
       "    </tr>\n",
       "    <tr>\n",
       "      <th>28</th>\n",
       "      <td>PF08585</td>\n",
       "      <td>NaN</td>\n",
       "      <td>QCR10; Cytochrome b-c1 complex subunit 10, fungi</td>\n",
       "    </tr>\n",
       "    <tr>\n",
       "      <th>29</th>\n",
       "      <td>PF08585</td>\n",
       "      <td>NaN</td>\n",
       "      <td>QCR10; Cytochrome b-c1 complex subunit 10, fungi</td>\n",
       "    </tr>\n",
       "    <tr>\n",
       "      <th>30</th>\n",
       "      <td>PF01434</td>\n",
       "      <td>NaN</td>\n",
       "      <td>DSHCT; ATP-dependent RNA helicase Ski2, C-term...</td>\n",
       "    </tr>\n",
       "    <tr>\n",
       "      <th>31</th>\n",
       "      <td>PF00097</td>\n",
       "      <td>NaN</td>\n",
       "      <td>ABC_membrane; ABC transporter type 1, transmem...</td>\n",
       "    </tr>\n",
       "    <tr>\n",
       "      <th>32</th>\n",
       "      <td>PF12767</td>\n",
       "      <td>NaN</td>\n",
       "      <td>SurE; Survival protein SurE-like phosphatase/n...</td>\n",
       "    </tr>\n",
       "    <tr>\n",
       "      <th>33</th>\n",
       "      <td>PF12767</td>\n",
       "      <td>NaN</td>\n",
       "      <td>SurE; Survival protein SurE-like phosphatase/n...</td>\n",
       "    </tr>\n",
       "    <tr>\n",
       "      <th>34</th>\n",
       "      <td>PF05176</td>\n",
       "      <td>NaN</td>\n",
       "      <td>Mo25; Mo25-like</td>\n",
       "    </tr>\n",
       "    <tr>\n",
       "      <th>35</th>\n",
       "      <td>PF08801</td>\n",
       "      <td>NaN</td>\n",
       "      <td>RRM; RNA-binding domain, putative</td>\n",
       "    </tr>\n",
       "    <tr>\n",
       "      <th>39</th>\n",
       "      <td>PF00561</td>\n",
       "      <td>NaN</td>\n",
       "      <td>BHD_1; Rad4 beta-hairpin domain 1</td>\n",
       "    </tr>\n",
       "    <tr>\n",
       "      <th>40</th>\n",
       "      <td>PF01227</td>\n",
       "      <td>NaN</td>\n",
       "      <td>DASH_Dad4; DASH complex subunit Dad4</td>\n",
       "    </tr>\n",
       "    <tr>\n",
       "      <th>41</th>\n",
       "      <td>PF06728</td>\n",
       "      <td>NaN</td>\n",
       "      <td>Orn_DAP_Arg_deC; Orn/DAP/Arg decarboxylase 2, ...</td>\n",
       "    </tr>\n",
       "    <tr>\n",
       "      <th>42</th>\n",
       "      <td>PF13450</td>\n",
       "      <td>NaN</td>\n",
       "      <td>TRM; tRNA methyltransferase, Trm1</td>\n",
       "    </tr>\n",
       "    <tr>\n",
       "      <th>43</th>\n",
       "      <td>PF12796</td>\n",
       "      <td>NaN</td>\n",
       "      <td>Syja_N; SAC domain</td>\n",
       "    </tr>\n",
       "    <tr>\n",
       "      <th>44</th>\n",
       "      <td>PF02939</td>\n",
       "      <td>NaN</td>\n",
       "      <td>GTP_cyclohydro2; GTP cyclohydrolase II</td>\n",
       "    </tr>\n",
       "    <tr>\n",
       "      <th>45</th>\n",
       "      <td>PF00250</td>\n",
       "      <td>NaN</td>\n",
       "      <td>ATP-synt_A; ATP synthase, F0 complex, subunit A</td>\n",
       "    </tr>\n",
       "    <tr>\n",
       "      <th>46</th>\n",
       "      <td>PF10104</td>\n",
       "      <td>NaN</td>\n",
       "      <td>Ribosomal_L36; Ribosomal protein L36</td>\n",
       "    </tr>\n",
       "    <tr>\n",
       "      <th>47</th>\n",
       "      <td>PF09801</td>\n",
       "      <td>NaN</td>\n",
       "      <td>Ribosomal_L26; Ribosomal protein L26/L24, euka...</td>\n",
       "    </tr>\n",
       "    <tr>\n",
       "      <th>48</th>\n",
       "      <td>PF03062</td>\n",
       "      <td>NaN</td>\n",
       "      <td>Gln-synt_N; Glutamine synthetase, beta-Grasp d...</td>\n",
       "    </tr>\n",
       "  </tbody>\n",
       "</table>\n",
       "</div>"
      ],
      "text/plain": [
       "   domain-name domain-description_x  \\\n",
       "0      PF03198                  NaN   \n",
       "1      PF00023                  NaN   \n",
       "2      PF00454                  NaN   \n",
       "3      PF11262                  NaN   \n",
       "4      PF00035                  NaN   \n",
       "5      PF00156                  NaN   \n",
       "6      PF04055                  NaN   \n",
       "7      PF00650                  NaN   \n",
       "8      PF03366                  NaN   \n",
       "9      PF03366                  NaN   \n",
       "10     PF00515                  NaN   \n",
       "11     PF01459                  NaN   \n",
       "12     PF07962                  NaN   \n",
       "13     PF00660                  NaN   \n",
       "14     PF01163                  NaN   \n",
       "15     PF03985                  NaN   \n",
       "16     PF12937                  NaN   \n",
       "17     PF13519                  NaN   \n",
       "18     PF02383                  NaN   \n",
       "19     PF00498                  NaN   \n",
       "20     PF08286                  NaN   \n",
       "21     PF08286                  NaN   \n",
       "22     PF04893                  NaN   \n",
       "23     PF01388                  NaN   \n",
       "24     PF03343                  NaN   \n",
       "25     PF12271                  NaN   \n",
       "26     PF08731                  NaN   \n",
       "27     PF08731                  NaN   \n",
       "28     PF08585                  NaN   \n",
       "29     PF08585                  NaN   \n",
       "30     PF01434                  NaN   \n",
       "31     PF00097                  NaN   \n",
       "32     PF12767                  NaN   \n",
       "33     PF12767                  NaN   \n",
       "34     PF05176                  NaN   \n",
       "35     PF08801                  NaN   \n",
       "39     PF00561                  NaN   \n",
       "40     PF01227                  NaN   \n",
       "41     PF06728                  NaN   \n",
       "42     PF13450                  NaN   \n",
       "43     PF12796                  NaN   \n",
       "44     PF02939                  NaN   \n",
       "45     PF00250                  NaN   \n",
       "46     PF10104                  NaN   \n",
       "47     PF09801                  NaN   \n",
       "48     PF03062                  NaN   \n",
       "\n",
       "                                 domain-description_y  \n",
       "0     Glycos_transf_1; Glycosyl transferase, family 1  \n",
       "1                           4HBT; Thioesterase domain  \n",
       "2   Apq12; Nuclear pore assembly and biogenesis pr...  \n",
       "3                                                 SPA  \n",
       "4                                              AAA_12  \n",
       "5   AIRS_C; AIR synthase-related protein, C-termin...  \n",
       "6               KA1; Kinase associated domain 1 (KA1)  \n",
       "7   CBFB_NFYA; Nuclear transcription factor Y subu...  \n",
       "8                                         HATPase_c_3  \n",
       "9                                         HATPase_c_3  \n",
       "10                                    BAG; BAG domain  \n",
       "11  DUF1077; Protein of unknown function DUF1077, ...  \n",
       "12         PMP1_2; Plasma membrane ATPase proteolipid  \n",
       "13  CDC13_N; Cell division control protein 13, N-t...  \n",
       "14   Ctf8; Chromosome transmission fidelity protein 8  \n",
       "15                              I_LWEQ; I/LWEQ domain  \n",
       "16  TFIIF_alpha; Transcription initiation factor I...  \n",
       "17  Telomere_reg-2; Telomere length regulation pro...  \n",
       "18              FHA; Forkhead-associated (FHA) domain  \n",
       "19       Autophagy_act_C; Autophagy-related protein 3  \n",
       "20                                      Peptidase_C50  \n",
       "21                                      Peptidase_C50  \n",
       "22  Med22; Mediator of RNA polymerase II transcrip...  \n",
       "23                                    DNA_pol3_delta2  \n",
       "24                                                HAD  \n",
       "25                 Sgf11; SAGA complex, Sgf11 subunit  \n",
       "26  RNase_PH_C; Exoribonuclease, phosphorolytic do...  \n",
       "27  RNase_PH_C; Exoribonuclease, phosphorolytic do...  \n",
       "28   QCR10; Cytochrome b-c1 complex subunit 10, fungi  \n",
       "29   QCR10; Cytochrome b-c1 complex subunit 10, fungi  \n",
       "30  DSHCT; ATP-dependent RNA helicase Ski2, C-term...  \n",
       "31  ABC_membrane; ABC transporter type 1, transmem...  \n",
       "32  SurE; Survival protein SurE-like phosphatase/n...  \n",
       "33  SurE; Survival protein SurE-like phosphatase/n...  \n",
       "34                                    Mo25; Mo25-like  \n",
       "35                  RRM; RNA-binding domain, putative  \n",
       "39                  BHD_1; Rad4 beta-hairpin domain 1  \n",
       "40               DASH_Dad4; DASH complex subunit Dad4  \n",
       "41  Orn_DAP_Arg_deC; Orn/DAP/Arg decarboxylase 2, ...  \n",
       "42                  TRM; tRNA methyltransferase, Trm1  \n",
       "43                                 Syja_N; SAC domain  \n",
       "44             GTP_cyclohydro2; GTP cyclohydrolase II  \n",
       "45    ATP-synt_A; ATP synthase, F0 complex, subunit A  \n",
       "46               Ribosomal_L36; Ribosomal protein L36  \n",
       "47  Ribosomal_L26; Ribosomal protein L26/L24, euka...  \n",
       "48  Gln-synt_N; Glutamine synthetase, beta-Grasp d...  "
      ]
     },
     "execution_count": 30,
     "metadata": {},
     "output_type": "execute_result"
    }
   ],
   "source": [
    "only_nsl_pd=pd.merge(repeated_features_sl,repeated_features_nsl,how='right',on=['domain-name'])\n",
    "data_only_nsl = only_nsl_pd[pd.isnull(only_nsl_pd['domain-description_x'])]\n",
    "data_only_nsl"
   ]
  },
  {
   "cell_type": "code",
   "execution_count": 31,
   "metadata": {
    "execution": {
     "iopub.execute_input": "2020-08-14T08:36:42.302817Z",
     "iopub.status.busy": "2020-08-14T08:36:42.296495Z",
     "iopub.status.idle": "2020-08-14T08:36:42.304921Z",
     "shell.execute_reply": "2020-08-14T08:36:42.305427Z"
    }
   },
   "outputs": [
    {
     "data": {
      "text/html": [
       "<div>\n",
       "<style scoped>\n",
       "    .dataframe tbody tr th:only-of-type {\n",
       "        vertical-align: middle;\n",
       "    }\n",
       "\n",
       "    .dataframe tbody tr th {\n",
       "        vertical-align: top;\n",
       "    }\n",
       "\n",
       "    .dataframe thead th {\n",
       "        text-align: right;\n",
       "    }\n",
       "</style>\n",
       "<table border=\"1\" class=\"dataframe\">\n",
       "  <thead>\n",
       "    <tr style=\"text-align: right;\">\n",
       "      <th></th>\n",
       "      <th>domain-name</th>\n",
       "      <th>domain-description_x</th>\n",
       "      <th>domain-description_y</th>\n",
       "    </tr>\n",
       "  </thead>\n",
       "  <tbody>\n",
       "    <tr>\n",
       "      <th>0</th>\n",
       "      <td>PF08214</td>\n",
       "      <td>PXA; Phox-associated domain</td>\n",
       "      <td>PXA; Phox-associated domain</td>\n",
       "    </tr>\n",
       "    <tr>\n",
       "      <th>1</th>\n",
       "      <td>PF05669</td>\n",
       "      <td>NOC3p; Nucleolar complex-associated protein 3,...</td>\n",
       "      <td>NOC3p; Nucleolar complex-associated protein 3,...</td>\n",
       "    </tr>\n",
       "    <tr>\n",
       "      <th>2</th>\n",
       "      <td>PF05669</td>\n",
       "      <td>NOC3p; Nucleolar complex-associated protein 3,...</td>\n",
       "      <td>NOC3p; Nucleolar complex-associated protein 3,...</td>\n",
       "    </tr>\n",
       "  </tbody>\n",
       "</table>\n",
       "</div>"
      ],
      "text/plain": [
       "  domain-name                               domain-description_x  \\\n",
       "0     PF08214                        PXA; Phox-associated domain   \n",
       "1     PF05669  NOC3p; Nucleolar complex-associated protein 3,...   \n",
       "2     PF05669  NOC3p; Nucleolar complex-associated protein 3,...   \n",
       "\n",
       "                                domain-description_y  \n",
       "0                        PXA; Phox-associated domain  \n",
       "1  NOC3p; Nucleolar complex-associated protein 3,...  \n",
       "2  NOC3p; Nucleolar complex-associated protein 3,...  "
      ]
     },
     "execution_count": 31,
     "metadata": {},
     "output_type": "execute_result"
    }
   ],
   "source": [
    "shared_domains_pd=pd.merge(repeated_features_sl,repeated_features_nsl,how='inner',on=['domain-name'])\n",
    "shared_domains_pd\n"
   ]
  },
  {
   "cell_type": "code",
   "execution_count": 32,
   "metadata": {
    "execution": {
     "iopub.execute_input": "2020-08-14T08:36:42.325395Z",
     "iopub.status.busy": "2020-08-14T08:36:42.319675Z",
     "iopub.status.idle": "2020-08-14T08:36:43.555644Z",
     "shell.execute_reply": "2020-08-14T08:36:43.554954Z"
    }
   },
   "outputs": [
    {
     "data": {
      "text/plain": [
       "(0.0, 0.2)"
      ]
     },
     "execution_count": 32,
     "metadata": {},
     "output_type": "execute_result"
    },
    {
     "data": {
      "image/png": "[encoded data removed]",
      "text/plain": [
       "<Figure size 432x288 with 1 Axes>"
      ]
     },
     "metadata": {
      "filenames": {
       "image/png": "/home/runner/work/jupyter-book/jupyter-book/mini_book/docs/_build/jupyter_execute/prot_domains2lethality-FEATURES-POSTPROCESSING_47_1.png"
      },
      "needs_background": "light"
     },
     "output_type": "display_data"
    }
   ],
   "source": [
    "a_sl=x_sl.iloc[:,np.sort(df_sl.iloc[:,1])]\n",
    "a_sl.describe().loc['mean'].hist(bins=8),\n",
    "a_sl.describe().loc['std'].hist(bins=8,alpha=0.4)\n",
    "plt.xlim([0,0.2])"
   ]
  },
  {
   "cell_type": "code",
   "execution_count": 33,
   "metadata": {
    "execution": {
     "iopub.execute_input": "2020-08-14T08:36:43.563900Z",
     "iopub.status.busy": "2020-08-14T08:36:43.559510Z",
     "iopub.status.idle": "2020-08-14T08:36:44.829819Z",
     "shell.execute_reply": "2020-08-14T08:36:44.829337Z"
    }
   },
   "outputs": [
    {
     "data": {
      "text/plain": [
       "(0.0, 0.2)"
      ]
     },
     "execution_count": 33,
     "metadata": {},
     "output_type": "execute_result"
    },
    {
     "data": {
      "image/png": "[encoded data removed]",
      "text/plain": [
       "<Figure size 432x288 with 1 Axes>"
      ]
     },
     "metadata": {
      "filenames": {
       "image/png": "/home/runner/work/jupyter-book/jupyter-book/mini_book/docs/_build/jupyter_execute/prot_domains2lethality-FEATURES-POSTPROCESSING_48_1.png"
      },
      "needs_background": "light"
     },
     "output_type": "display_data"
    }
   ],
   "source": [
    "a_nsl=x_nsl.iloc[:,np.sort(df_nsl.iloc[:,1])]\n",
    "a_nsl.describe().loc['mean'].hist(bins=8),\n",
    "a_nsl.describe().loc['std'].hist(bins=8,alpha=0.4)\n",
    "plt.xlim([0,0.2])"
   ]
  },
  {
   "cell_type": "markdown",
   "metadata": {},
   "source": [
    "### Proof of concept with *BEM1*\n",
    "\n",
    "- Gather the domains of SL and nSL pairs from BEM1\n",
    "- Check if the domains for the SL and nSL pairs are inside the most important domains after PCA."
   ]
  },
  {
   "cell_type": "code",
   "execution_count": 34,
   "metadata": {
    "execution": {
     "iopub.execute_input": "2020-08-14T08:36:44.836925Z",
     "iopub.status.busy": "2020-08-14T08:36:44.836019Z",
     "iopub.status.idle": "2020-08-14T08:36:44.839355Z",
     "shell.execute_reply": "2020-08-14T08:36:44.839751Z"
    }
   },
   "outputs": [],
   "source": [
    "domains_bem1=data_domains[data_domains['name']=='BEM1']['domain-descrip']\n",
    "sl_bem1=data_sl[data_sl['gene-query-name']=='BEM1']['gene-target-name']"
   ]
  },
  {
   "cell_type": "code",
   "execution_count": 35,
   "metadata": {
    "execution": {
     "iopub.execute_input": "2020-08-14T08:36:44.844059Z",
     "iopub.status.busy": "2020-08-14T08:36:44.843598Z",
     "iopub.status.idle": "2020-08-14T08:36:44.847754Z",
     "shell.execute_reply": "2020-08-14T08:36:44.847326Z"
    }
   },
   "outputs": [
    {
     "data": {
      "text/plain": [
       "2846      BEM2\n",
       "2847     CDC24\n",
       "5004      MSB1\n",
       "13777     SMI1\n",
       "13778     BNI1\n",
       "13779     BEM2\n",
       "14385     SKN7\n",
       "Name: gene-target-name, dtype: object"
      ]
     },
     "execution_count": 35,
     "metadata": {},
     "output_type": "execute_result"
    }
   ],
   "source": [
    "sl_bem1"
   ]
  },
  {
   "cell_type": "code",
   "execution_count": 36,
   "metadata": {
    "execution": {
     "iopub.execute_input": "2020-08-14T08:36:44.859877Z",
     "iopub.status.busy": "2020-08-14T08:36:44.855305Z",
     "iopub.status.idle": "2020-08-14T08:36:44.864543Z",
     "shell.execute_reply": "2020-08-14T08:36:44.864942Z"
    }
   },
   "outputs": [
    {
     "data": {
      "text/html": [
       "<div>\n",
       "<style scoped>\n",
       "    .dataframe tbody tr th:only-of-type {\n",
       "        vertical-align: middle;\n",
       "    }\n",
       "\n",
       "    .dataframe tbody tr th {\n",
       "        vertical-align: top;\n",
       "    }\n",
       "\n",
       "    .dataframe thead th {\n",
       "        text-align: right;\n",
       "    }\n",
       "</style>\n",
       "<table border=\"1\" class=\"dataframe\">\n",
       "  <thead>\n",
       "    <tr style=\"text-align: right;\">\n",
       "      <th></th>\n",
       "      <th>gene-query</th>\n",
       "      <th>gene-target</th>\n",
       "      <th>gene-query-name</th>\n",
       "      <th>gene-target-name</th>\n",
       "      <th>gene-query-description</th>\n",
       "      <th>gene-target-description</th>\n",
       "      <th>interaction-type</th>\n",
       "      <th>paper-source</th>\n",
       "    </tr>\n",
       "  </thead>\n",
       "  <tbody>\n",
       "    <tr>\n",
       "      <th>2846</th>\n",
       "      <td>YBR200W</td>\n",
       "      <td>YER155C</td>\n",
       "      <td>BEM1</td>\n",
       "      <td>BEM2</td>\n",
       "      <td>SRO1|phosphatidylinositol-3-phosphate-binding ...</td>\n",
       "      <td>IPL2|SUP9|TSL1|L000000168</td>\n",
       "      <td>Synthetic Lethality</td>\n",
       "      <td>Peterson J (1994)</td>\n",
       "    </tr>\n",
       "    <tr>\n",
       "      <th>2847</th>\n",
       "      <td>YBR200W</td>\n",
       "      <td>YAL041W</td>\n",
       "      <td>BEM1</td>\n",
       "      <td>CDC24</td>\n",
       "      <td>SRO1|phosphatidylinositol-3-phosphate-binding ...</td>\n",
       "      <td>CLS4|Rho family guanine nucleotide exchange fa...</td>\n",
       "      <td>Synthetic Lethality</td>\n",
       "      <td>Peterson J (1994)</td>\n",
       "    </tr>\n",
       "    <tr>\n",
       "      <th>5004</th>\n",
       "      <td>YBR200W</td>\n",
       "      <td>YOR188W</td>\n",
       "      <td>BEM1</td>\n",
       "      <td>MSB1</td>\n",
       "      <td>SRO1|phosphatidylinositol-3-phosphate-binding ...</td>\n",
       "      <td>L000001184</td>\n",
       "      <td>Synthetic Lethality</td>\n",
       "      <td>Bender A (1991)</td>\n",
       "    </tr>\n",
       "    <tr>\n",
       "      <th>13777</th>\n",
       "      <td>YBR200W</td>\n",
       "      <td>YGR229C</td>\n",
       "      <td>BEM1</td>\n",
       "      <td>SMI1</td>\n",
       "      <td>SRO1|phosphatidylinositol-3-phosphate-binding ...</td>\n",
       "      <td>KNR4|L000000909</td>\n",
       "      <td>Synthetic Lethality</td>\n",
       "      <td>Gorelik M (2011)</td>\n",
       "    </tr>\n",
       "    <tr>\n",
       "      <th>13778</th>\n",
       "      <td>YBR200W</td>\n",
       "      <td>YNL271C</td>\n",
       "      <td>BEM1</td>\n",
       "      <td>BNI1</td>\n",
       "      <td>SRO1|phosphatidylinositol-3-phosphate-binding ...</td>\n",
       "      <td>PPF3|SHE5|formin BNI1|L000000190</td>\n",
       "      <td>Synthetic Lethality</td>\n",
       "      <td>Gorelik M (2011)</td>\n",
       "    </tr>\n",
       "    <tr>\n",
       "      <th>13779</th>\n",
       "      <td>YBR200W</td>\n",
       "      <td>YER155C</td>\n",
       "      <td>BEM1</td>\n",
       "      <td>BEM2</td>\n",
       "      <td>SRO1|phosphatidylinositol-3-phosphate-binding ...</td>\n",
       "      <td>IPL2|SUP9|TSL1|L000000168</td>\n",
       "      <td>Synthetic Lethality</td>\n",
       "      <td>Gorelik M (2011)</td>\n",
       "    </tr>\n",
       "    <tr>\n",
       "      <th>14385</th>\n",
       "      <td>YBR200W</td>\n",
       "      <td>YHR206W</td>\n",
       "      <td>BEM1</td>\n",
       "      <td>SKN7</td>\n",
       "      <td>SRO1|phosphatidylinositol-3-phosphate-binding ...</td>\n",
       "      <td>BRY1|POS9|kinase-regulated stress-responsive t...</td>\n",
       "      <td>Dosage Lethality</td>\n",
       "      <td>Bouquin N (1999)</td>\n",
       "    </tr>\n",
       "  </tbody>\n",
       "</table>\n",
       "</div>"
      ],
      "text/plain": [
       "      gene-query gene-target gene-query-name gene-target-name  \\\n",
       "2846     YBR200W     YER155C            BEM1             BEM2   \n",
       "2847     YBR200W     YAL041W            BEM1            CDC24   \n",
       "5004     YBR200W     YOR188W            BEM1             MSB1   \n",
       "13777    YBR200W     YGR229C            BEM1             SMI1   \n",
       "13778    YBR200W     YNL271C            BEM1             BNI1   \n",
       "13779    YBR200W     YER155C            BEM1             BEM2   \n",
       "14385    YBR200W     YHR206W            BEM1             SKN7   \n",
       "\n",
       "                                  gene-query-description  \\\n",
       "2846   SRO1|phosphatidylinositol-3-phosphate-binding ...   \n",
       "2847   SRO1|phosphatidylinositol-3-phosphate-binding ...   \n",
       "5004   SRO1|phosphatidylinositol-3-phosphate-binding ...   \n",
       "13777  SRO1|phosphatidylinositol-3-phosphate-binding ...   \n",
       "13778  SRO1|phosphatidylinositol-3-phosphate-binding ...   \n",
       "13779  SRO1|phosphatidylinositol-3-phosphate-binding ...   \n",
       "14385  SRO1|phosphatidylinositol-3-phosphate-binding ...   \n",
       "\n",
       "                                 gene-target-description     interaction-type  \\\n",
       "2846                           IPL2|SUP9|TSL1|L000000168  Synthetic Lethality   \n",
       "2847   CLS4|Rho family guanine nucleotide exchange fa...  Synthetic Lethality   \n",
       "5004                                          L000001184  Synthetic Lethality   \n",
       "13777                                    KNR4|L000000909  Synthetic Lethality   \n",
       "13778                   PPF3|SHE5|formin BNI1|L000000190  Synthetic Lethality   \n",
       "13779                          IPL2|SUP9|TSL1|L000000168  Synthetic Lethality   \n",
       "14385  BRY1|POS9|kinase-regulated stress-responsive t...     Dosage Lethality   \n",
       "\n",
       "            paper-source  \n",
       "2846   Peterson J (1994)  \n",
       "2847   Peterson J (1994)  \n",
       "5004     Bender A (1991)  \n",
       "13777   Gorelik M (2011)  \n",
       "13778   Gorelik M (2011)  \n",
       "13779   Gorelik M (2011)  \n",
       "14385   Bouquin N (1999)  "
      ]
     },
     "execution_count": 36,
     "metadata": {},
     "output_type": "execute_result"
    }
   ],
   "source": [
    "data_sl[data_sl['gene-query-name']=='BEM1']"
   ]
  },
  {
   "cell_type": "code",
   "execution_count": null,
   "metadata": {},
   "outputs": [],
   "source": []
  }
 ],
 "metadata": {
  "jupytext": {
   "text_representation": {
    "extension": ".md",
    "format_name": "myst"
   }
  },
  "kernelspec": {
   "display_name": "Python 3",
   "language": "python",
   "name": "python3"
  },
  "language_info": {
   "codemirror_mode": {
    "name": "ipython",
    "version": 3
   },
   "file_extension": ".py",
   "mimetype": "text/x-python",
   "name": "python",
   "nbconvert_exporter": "python",
   "pygments_lexer": "ipython3",
   "version": "3.7.8"
  },
  "source_map": [
   10,
   18,
   29,
   36,
   57,
   66,
   98,
   101,
   105,
   128,
   131,
   135,
   139,
   145,
   178,
   184,
   188,
   206,
   210,
   218,
   222,
   225,
   229,
   234,
   238,
   244,
   248,
   253,
   257,
   267,
   269,
   273,
   306,
   311,
   313,
   317,
   328,
   330,
   334,
   344,
   348,
   358,
   360,
   364,
   381,
   388,
   394,
   400,
   407,
   412,
   419,
   424,
   428,
   432
  ]
 },
 "nbformat": 4,
 "nbformat_minor": 4
}