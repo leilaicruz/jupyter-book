{
 "cells": [
  {
   "cell_type": "markdown",
   "metadata": {},
   "source": [
    "# Feature postprocessing from paper.\n",
    "- Title:  \"Predicting yeast synthetic lethal genetic interactions using protein domains\"\n",
    "- Authors: Bo Li, Feng Luo,School of Computing,Clemson University,Clemson, SC, USA\n",
    "- e-mail: bol, luofeng@clemson.edu\n",
    "- year:2009"
   ]
  },
  {
   "cell_type": "code",
   "execution_count": 1,
   "metadata": {
    "execution": {
     "iopub.execute_input": "2020-07-17T11:09:36.966136Z",
     "iopub.status.busy": "2020-07-17T11:09:36.965045Z",
     "iopub.status.idle": "2020-07-17T11:09:37.726504Z",
     "shell.execute_reply": "2020-07-17T11:09:37.725955Z"
    }
   },
   "outputs": [],
   "source": [
    "import pandas as pd\n",
    "import numpy as np\n",
    "import matplotlib.pyplot as plt\n",
    "from collections import defaultdict \n",
    "import seaborn as sns\n",
    "import matplotlib.cm as cm\n",
    "import scipy as scipy\n",
    "import random"
   ]
  },
  {
   "cell_type": "markdown",
   "metadata": {
    "jupyter": {
     "source_hidden": true
    }
   },
   "source": [
    "### Importing datasets \n",
    "\n",
    "#### Link to the github repo where the datasets to be downloaded:\n",
    "[DOWNLOAD THE DATASETS HERE](https://github.com/leilaicruz/machine-learning-for-yeast/tree/dev_Leila/datasets-for-learning)"
   ]
  },
  {
   "cell_type": "code",
   "execution_count": 2,
   "metadata": {
    "execution": {
     "iopub.execute_input": "2020-07-17T11:09:37.733663Z",
     "iopub.status.busy": "2020-07-17T11:09:37.733026Z",
     "iopub.status.idle": "2020-07-17T11:09:44.980999Z",
     "shell.execute_reply": "2020-07-17T11:09:44.980459Z"
    }
   },
   "outputs": [],
   "source": [
    "import os\n",
    "script_dir = os.path.dirname('__file__') #<-- absolute dir the script is in\n",
    "rel_path_SL = \"datasets/data-synthetic-lethals.xlsx\"\n",
    "rel_path_nSL=\"datasets/data-positive-genetic.xlsx\"\n",
    "rel_path_domains=\"datasets/proteins-domains-from-Pfam.xlsx\"\n",
    "\n",
    "abs_file_path_SL = os.path.join(script_dir, rel_path_SL)\n",
    "abs_file_path_nSL = os.path.join(script_dir, rel_path_nSL)\n",
    "abs_file_path_domains = os.path.join(script_dir, rel_path_domains)\n",
    "\n",
    "# os.chdir('mini_book/docs/') #<-- for binder os.chdir('../')\n",
    "# os.chdir('../')\n",
    "my_path_sl= abs_file_path_SL\n",
    "my_path_non_sl=abs_file_path_nSL\n",
    "my_path_domains=abs_file_path_domains\n",
    "\n",
    "data_sl=pd.read_excel(my_path_sl,header=0)\n",
    "data_domains=pd.read_excel(my_path_domains,header=0,index_col='Unnamed: 0')\n",
    "data_domains=data_domains.dropna()\n",
    "data_nonsl=pd.read_excel(my_path_non_sl,header=0)"
   ]
  },
  {
   "cell_type": "markdown",
   "metadata": {},
   "source": [
    "## Building the feature matrix\n",
    "One matrix for true SL where each row is one pair of SL. Every raw will be a vector of 0,1 or 2 depending on the comparison with the domain list. For row i the jth element = 0 if the jth element of the domain list is not in neither protein A and B, 1, if it is in one of them and 2 if it is in both of them .\n",
    "\n",
    "### Building the list of proteins domains id per protein pair separately :\n",
    "- List of protein A: Search for the Sl/nSL database the query gene name and look in the protein domain database which protein domains id has each of those queries.\n",
    "- List of protein B: Search for the Sl/nSL database the target gene name of the previous query and look in the protein domain database which protein domains id has each of those target genes."
   ]
  },
  {
   "cell_type": "code",
   "execution_count": 3,
   "metadata": {
    "execution": {
     "iopub.execute_input": "2020-07-17T11:09:44.998061Z",
     "iopub.status.busy": "2020-07-17T11:09:44.997445Z",
     "iopub.status.idle": "2020-07-17T11:09:47.097333Z",
     "shell.execute_reply": "2020-07-17T11:09:47.096781Z"
    }
   },
   "outputs": [],
   "source": [
    "# Selecting the meaningful columns in the respective dataset\n",
    "domain_id_list=data_domains['domain-name']\n",
    "query_gene=data_sl['gene-query-name']\n",
    "target_gene=data_sl['gene-target-name']\n",
    "query_gene_nonlethal=data_nonsl['gene-query-name']\n",
    "target_gene_nonlethal=data_nonsl['gene-target-name']\n",
    "\n",
    "\n",
    "\n",
    "# Initialising the arrays\n",
    "protein_a_list=[]\n",
    "protein_b_list=[]\n",
    "protein_a_list_non=[]\n",
    "protein_b_list_non=[]\n",
    "\n",
    "population = np.arange(0,len(data_sl))\n",
    "\n",
    "# For loop for 10000 pairs sampled randomly from the SL/nSl pair list , and creating a big array of proteind domains id per protein pair\n",
    "\n",
    "for m in random.sample(list(population), 500):\n",
    "    protein_a=data_domains[data_domains['name']==query_gene[m]]\n",
    "    protein_b=data_domains[data_domains['name']==target_gene[m]]\n",
    "    protein_a_list.append(protein_a['domain-name'].tolist())\n",
    "    protein_b_list.append(protein_b['domain-name'].tolist())\n",
    "\n",
    "    protein_a_non=data_domains[data_domains['name']==query_gene_nonlethal[m]]\n",
    "    protein_b_non=data_domains[data_domains['name']==target_gene_nonlethal[m]]\n",
    "    protein_a_list_non.append(protein_a_non['domain-name'].tolist())\n",
    "    protein_b_list_non.append(protein_b_non['domain-name'].tolist())"
   ]
  },
  {
   "cell_type": "code",
   "execution_count": 4,
   "metadata": {
    "execution": {
     "iopub.execute_input": "2020-07-17T11:09:47.102491Z",
     "iopub.status.busy": "2020-07-17T11:09:47.101935Z",
     "iopub.status.idle": "2020-07-17T11:09:47.107060Z",
     "shell.execute_reply": "2020-07-17T11:09:47.106534Z"
    }
   },
   "outputs": [
    {
     "name": "stdout",
     "output_type": "stream",
     "text": [
      "We are going to analyze 500 protein pairs, out of 17871 SL protein pairs\n",
      "We are going to analyze 500 protein pairs, out of 43340 positive protein pairs\n"
     ]
    }
   ],
   "source": [
    "print('We are going to analyze',len((protein_a_list)) ,'protein pairs, out of',len(data_sl),'SL protein pairs')\n",
    "print('We are going to analyze',len((protein_a_list_non)) ,'protein pairs, out of',len(data_nonsl),'positive protein pairs')"
   ]
  },
  {
   "cell_type": "markdown",
   "metadata": {},
   "source": [
    "### Postprocessing #1:  Remove protein pairs from study if either protein in the pair does not contain any domain"
   ]
  },
  {
   "cell_type": "code",
   "execution_count": 5,
   "metadata": {
    "execution": {
     "iopub.execute_input": "2020-07-17T11:09:47.117604Z",
     "iopub.status.busy": "2020-07-17T11:09:47.117004Z",
     "iopub.status.idle": "2020-07-17T11:09:47.120566Z",
     "shell.execute_reply": "2020-07-17T11:09:47.120068Z"
    }
   },
   "outputs": [],
   "source": [
    "def remove_empty_domains(protein_list_search,protein_list_pair):\n",
    "    index=[]\n",
    "    for i in np.arange(0,len(protein_list_search)):\n",
    "        if protein_list_search[i]==[] or protein_list_pair[i]==[]:\n",
    "            index.append(i) ## index of empty values for the protein_a_list meaning they dont have any annotated domain\n",
    "\n",
    "    y=[x for x in np.arange(0,len(protein_list_search)) if x not in index] # a list with non empty values from protein_a list\n",
    "\n",
    "    protein_list_search_new=[]\n",
    "    protein_list_pair_new=[]\n",
    "    for i in y:\n",
    "        protein_list_search_new.append(protein_list_search[i])\n",
    "        protein_list_pair_new.append(protein_list_pair[i])\n",
    "    return protein_list_search_new,protein_list_pair_new\n",
    "\n",
    "## evaluating the function\n",
    "\n",
    "protein_a_list_new,protein_b_list_new=remove_empty_domains(protein_a_list,protein_b_list)\n",
    "\n",
    "protein_a_list_non_new,protein_b_list_non_new=remove_empty_domains(protein_a_list_non,protein_b_list_non)"
   ]
  },
  {
   "cell_type": "code",
   "execution_count": 6,
   "metadata": {
    "execution": {
     "iopub.execute_input": "2020-07-17T11:09:47.125348Z",
     "iopub.status.busy": "2020-07-17T11:09:47.124345Z",
     "iopub.status.idle": "2020-07-17T11:09:47.129715Z",
     "shell.execute_reply": "2020-07-17T11:09:47.129129Z"
    }
   },
   "outputs": [
    {
     "name": "stdout",
     "output_type": "stream",
     "text": [
      "The empty domain in the SL were: 86 out of 500 domains\n",
      "The empty domain in the nSL were: 87 out of 500 domains\n"
     ]
    }
   ],
   "source": [
    "print('The empty domain in the SL were:', len(protein_a_list)-len(protein_a_list_new), 'out of', len(protein_a_list),'domains')\n",
    "print('The empty domain in the nSL were:', len(protein_a_list_non)-len(protein_a_list_non_new), 'out of', len(protein_a_list_non),'domains')"
   ]
  },
  {
   "cell_type": "markdown",
   "metadata": {},
   "source": [
    "### Feature engineering: Select from each ordered indexes of domain id list which of them appear once, in both or in any of the domains of each protein pair"
   ]
  },
  {
   "cell_type": "markdown",
   "metadata": {},
   "source": [
    "#### Define function `get_indexes`"
   ]
  },
  {
   "cell_type": "code",
   "execution_count": 7,
   "metadata": {
    "execution": {
     "iopub.execute_input": "2020-07-17T11:09:47.136464Z",
     "iopub.status.busy": "2020-07-17T11:09:47.135887Z",
     "iopub.status.idle": "2020-07-17T11:09:47.141683Z",
     "shell.execute_reply": "2020-07-17T11:09:47.140793Z"
    }
   },
   "outputs": [
    {
     "data": {
      "text/plain": [
       "[1, 2]"
      ]
     },
     "execution_count": 7,
     "metadata": {},
     "output_type": "execute_result"
    }
   ],
   "source": [
    "get_indexes = lambda x, xs: [i for (y, i) in zip(xs, range(len(xs))) if x == y] # a function that give the index of whether a value appear in array or not\n",
    "a=[1,2,2,4,5,6,7,8,9,10]\n",
    "get_indexes(2,a)"
   ]
  },
  {
   "cell_type": "code",
   "execution_count": 8,
   "metadata": {
    "execution": {
     "iopub.execute_input": "2020-07-17T11:09:47.149942Z",
     "iopub.status.busy": "2020-07-17T11:09:47.149046Z",
     "iopub.status.idle": "2020-07-17T11:09:47.153029Z",
     "shell.execute_reply": "2020-07-17T11:09:47.152567Z"
    }
   },
   "outputs": [],
   "source": [
    "def feature_building(protein_a_list_new,protein_b_list_new):\n",
    "    x = np.unique(domain_id_list)\n",
    "    ## To avoid taking repeated domains from one protein of the pairs , lets reduced the domains of each protein from the pairs to their unique members\n",
    "    protein_a_list_unique=[]\n",
    "    protein_b_list_unique=[]\n",
    "    for i in np.arange(0,len(protein_a_list_new)):\n",
    "        protein_a_list_unique.append(np.unique(protein_a_list_new[i]))\n",
    "        protein_b_list_unique.append(np.unique(protein_b_list_new[i]))\n",
    "        \n",
    "    protein_feat_true=np.zeros(shape=(len(x),len(protein_a_list_unique)))\n",
    "    pair_a_b_array=[]\n",
    "    for i in np.arange(0,len(protein_a_list_unique)):\n",
    "        index_a=[]\n",
    "        \n",
    "        pair=[protein_a_list_unique[i],protein_b_list_unique[i]]\n",
    "        pair_a_b=np.concatenate(pair).ravel()\n",
    "        pair_a_b_array.append(pair_a_b)\n",
    "\n",
    "    j=0\n",
    "    for i in pair_a_b_array:  \n",
    "        array,index,counts=np.unique(i,return_index=True,return_counts=True)\n",
    "        \n",
    "        for k,m in zip(counts,array):\n",
    "            if k ==2:\n",
    "                protein_feat_true[get_indexes(m,x),j]=2\n",
    "                \n",
    "            if k==1:\n",
    "                protein_feat_true[get_indexes(m,x),j]=1\n",
    "        j=j+1\n",
    "    return protein_feat_true"
   ]
  },
  {
   "cell_type": "code",
   "execution_count": 9,
   "metadata": {
    "execution": {
     "iopub.execute_input": "2020-07-17T11:09:47.162052Z",
     "iopub.status.busy": "2020-07-17T11:09:47.161428Z",
     "iopub.status.idle": "2020-07-17T11:09:47.862680Z",
     "shell.execute_reply": "2020-07-17T11:09:47.862223Z"
    }
   },
   "outputs": [],
   "source": [
    "protein_feat_true=feature_building(protein_b_list_new=protein_b_list_new,protein_a_list_new=protein_a_list_new)\n",
    "protein_feat_true_pd=pd.DataFrame(protein_feat_true.T)\n",
    "\n",
    "protein_feat_non_true=feature_building(protein_b_list_new=protein_b_list_non_new,protein_a_list_new=protein_a_list_non_new)\n",
    "protein_feat_non_true_pd=pd.DataFrame(protein_feat_non_true.T)"
   ]
  },
  {
   "cell_type": "markdown",
   "metadata": {},
   "source": [
    "### How many ones and twos are in each dataset"
   ]
  },
  {
   "cell_type": "code",
   "execution_count": 10,
   "metadata": {
    "execution": {
     "iopub.execute_input": "2020-07-17T11:09:47.869288Z",
     "iopub.status.busy": "2020-07-17T11:09:47.868773Z",
     "iopub.status.idle": "2020-07-17T11:09:47.962311Z",
     "shell.execute_reply": "2020-07-17T11:09:47.961836Z"
    }
   },
   "outputs": [
    {
     "name": "stdout",
     "output_type": "stream",
     "text": [
      "fraction of twos in the SL array is 2.3954964666427117e-05\n",
      "fraction of ones in the SL array is 0.0009542060925460135\n",
      "fraction of twos in the PI array is 8.804754567466431e-06\n",
      "fraction of ones in the PI array is 0.0008940828047145459\n"
     ]
    }
   ],
   "source": [
    "index_2_true=protein_feat_true_pd.where(protein_feat_true_pd==2)\n",
    "index_2_true_count=index_2_true.count(axis=1).sum()\n",
    "\n",
    "index_1_true=protein_feat_true_pd.where(protein_feat_true_pd==1)\n",
    "index_1_true_count=index_1_true.count(axis=1).sum()\n",
    "\n",
    "index_2_nontrue=protein_feat_non_true_pd.where(protein_feat_non_true_pd==2)\n",
    "index_2_nontrue_count=index_2_nontrue.count(axis=1).sum()\n",
    "\n",
    "index_1_nontrue=protein_feat_non_true_pd.where(protein_feat_non_true_pd==1)\n",
    "index_1_nontrue_count=index_1_nontrue.count(axis=1).sum()\n",
    "\n",
    "\n",
    "print('fraction of twos in the SL array is',index_2_true_count/(len(protein_feat_true_pd.index)*len(protein_feat_true_pd.columns)))\n",
    "print('fraction of ones in the SL array is',index_1_true_count/(len(protein_feat_true_pd.index)*len(protein_feat_true_pd.columns)))\n",
    "print('fraction of twos in the PI array is',index_2_nontrue_count/(len(protein_feat_non_true_pd.index)*len(protein_feat_non_true_pd.columns)))\n",
    "print('fraction of ones in the PI array is',index_1_nontrue_count/(len(protein_feat_non_true_pd.index)*len(protein_feat_non_true_pd.columns)))"
   ]
  },
  {
   "cell_type": "markdown",
   "metadata": {},
   "source": [
    "#### Bar plot to visualize these numbers"
   ]
  },
  {
   "cell_type": "code",
   "execution_count": 11,
   "metadata": {
    "execution": {
     "iopub.execute_input": "2020-07-17T11:09:47.983914Z",
     "iopub.status.busy": "2020-07-17T11:09:47.982421Z",
     "iopub.status.idle": "2020-07-17T11:09:48.412542Z",
     "shell.execute_reply": "2020-07-17T11:09:48.412083Z"
    }
   },
   "outputs": [
    {
     "data": {
      "text/plain": [
       "([0, 1, 2, 3], <a list of 4 Text major ticklabel objects>)"
      ]
     },
     "execution_count": 11,
     "metadata": {},
     "output_type": "execute_result"
    },
    {
     "data": {
      "image/png": "[encoded data removed]",
      "text/plain": [
       "<Figure size 432x288 with 1 Axes>"
      ]
     },
     "metadata": {
      "filenames": {
       "image/png": "/home/runner/work/jupyter-book/jupyter-book/mini_book/docs/_build/jupyter_execute/prot_domains2lethality-FEATURES-POSTPROCESSING_18_1.png"
      },
      "needs_background": "light"
     },
     "output_type": "display_data"
    }
   ],
   "source": [
    "plt.bar(['fraction of 2 in the nSL','fraction of 1 in the nSL'],[index_2_nontrue_count/(len(protein_feat_non_true_pd.index)*len(protein_feat_non_true_pd.columns)),index_1_nontrue_count/(len(protein_feat_non_true_pd.index)*len(protein_feat_non_true_pd.columns))],alpha=0.6,color=['blue','lightblue']), \n",
    "\n",
    "plt.bar(['fraction of 2 in SL ','fraction of 1 in SL'],[index_2_true_count/(len(protein_feat_true_pd.index)*len(protein_feat_true_pd.columns)),index_1_true_count/(len(protein_feat_true_pd.index)*len(protein_feat_true_pd.columns))],alpha=0.6,color=['coral','lightcoral'])\n",
    "\n",
    "plt.ylabel('Fraction from the population')\n",
    "plt.yscale('log')\n",
    "plt.xticks(rotation=40)"
   ]
  },
  {
   "cell_type": "markdown",
   "metadata": {},
   "source": [
    "#### Adding the labels(response variables) to each dataset"
   ]
  },
  {
   "cell_type": "code",
   "execution_count": 12,
   "metadata": {
    "execution": {
     "iopub.execute_input": "2020-07-17T11:09:48.417288Z",
     "iopub.status.busy": "2020-07-17T11:09:48.416147Z",
     "iopub.status.idle": "2020-07-17T11:09:48.421374Z",
     "shell.execute_reply": "2020-07-17T11:09:48.420930Z"
    }
   },
   "outputs": [],
   "source": [
    "protein_feat_true_pd['lethality']=np.ones(shape=(len(protein_a_list_new)))\n",
    "protein_feat_non_true_pd['lethality']=np.zeros(shape=(len(protein_a_list_non_new)))"
   ]
  },
  {
   "cell_type": "markdown",
   "metadata": {},
   "source": [
    "#### Joining both datasets"
   ]
  },
  {
   "cell_type": "code",
   "execution_count": 13,
   "metadata": {
    "execution": {
     "iopub.execute_input": "2020-07-17T11:09:48.428990Z",
     "iopub.status.busy": "2020-07-17T11:09:48.425951Z",
     "iopub.status.idle": "2020-07-17T11:09:48.474702Z",
     "shell.execute_reply": "2020-07-17T11:09:48.474234Z"
    }
   },
   "outputs": [
    {
     "name": "stdout",
     "output_type": "stream",
     "text": [
      "The number of features are: 3026\n",
      "The number of samples are: 827\n"
     ]
    }
   ],
   "source": [
    "feature_post=pd.concat([protein_feat_true_pd,protein_feat_non_true_pd],axis=0)\n",
    "feature_post=feature_post.set_index(np.arange(0,len(protein_a_list_new)+len(protein_a_list_non_new)))\n",
    "print('The number of features are:',feature_post.shape[1])\n",
    "print('The number of samples are:',feature_post.shape[0])"
   ]
  },
  {
   "cell_type": "markdown",
   "metadata": {},
   "source": [
    "### Postprocessing and exploration of the feature matrix of both datasets"
   ]
  },
  {
   "cell_type": "code",
   "execution_count": 14,
   "metadata": {
    "execution": {
     "iopub.execute_input": "2020-07-17T11:09:48.495905Z",
     "iopub.status.busy": "2020-07-17T11:09:48.491997Z",
     "iopub.status.idle": "2020-07-17T11:09:53.513063Z",
     "shell.execute_reply": "2020-07-17T11:09:53.512562Z"
    }
   },
   "outputs": [],
   "source": [
    "mean=feature_post.T.describe().loc['mean']\n",
    "std=feature_post.T.describe().loc['std']\n",
    "lethality=feature_post['lethality']\n",
    "\n",
    "corr_keys=pd.concat([mean,std,lethality],axis=1)"
   ]
  },
  {
   "cell_type": "markdown",
   "metadata": {},
   "source": [
    "### Viz of the stats"
   ]
  },
  {
   "cell_type": "code",
   "execution_count": 15,
   "metadata": {
    "execution": {
     "iopub.execute_input": "2020-07-17T11:09:53.530473Z",
     "iopub.status.busy": "2020-07-17T11:09:53.528733Z",
     "iopub.status.idle": "2020-07-17T11:09:55.528310Z",
     "shell.execute_reply": "2020-07-17T11:09:55.529015Z"
    }
   },
   "outputs": [
    {
     "data": {
      "text/plain": [
       "Text(0.5, 1.08, 'Pairplot to see data dependencies with Lethality')"
      ]
     },
     "execution_count": 15,
     "metadata": {},
     "output_type": "execute_result"
    },
    {
     "data": {
      "image/png": "[encoded data removed]",
      "text/plain": [
       "<Figure size 412x360 with 6 Axes>"
      ]
     },
     "metadata": {
      "filenames": {
       "image/png": "/home/runner/work/jupyter-book/jupyter-book/mini_book/docs/_build/jupyter_execute/prot_domains2lethality-FEATURES-POSTPROCESSING_26_1.png"
      },
      "needs_background": "light"
     },
     "output_type": "display_data"
    }
   ],
   "source": [
    "pair=sns.pairplot(corr_keys,hue='lethality',diag_kind='kde',kind='reg',palette='colorblind')\n",
    "pair.fig.suptitle('Pairplot to see data dependencies with Lethality',y=1.08)"
   ]
  },
  {
   "cell_type": "code",
   "execution_count": 16,
   "metadata": {
    "execution": {
     "iopub.execute_input": "2020-07-17T11:09:55.541600Z",
     "iopub.status.busy": "2020-07-17T11:09:55.540941Z",
     "iopub.status.idle": "2020-07-17T11:09:55.544635Z",
     "shell.execute_reply": "2020-07-17T11:09:55.545095Z"
    }
   },
   "outputs": [],
   "source": [
    "X, y = feature_post.drop(columns=[\"lethality\"]), feature_post[\"lethality\"]"
   ]
  },
  {
   "cell_type": "code",
   "execution_count": 17,
   "metadata": {
    "execution": {
     "iopub.execute_input": "2020-07-17T11:09:55.549891Z",
     "iopub.status.busy": "2020-07-17T11:09:55.549313Z",
     "iopub.status.idle": "2020-07-17T11:09:55.704553Z",
     "shell.execute_reply": "2020-07-17T11:09:55.704021Z"
    }
   },
   "outputs": [],
   "source": [
    "from sklearn.preprocessing import StandardScaler\n",
    "scaler = StandardScaler()\n",
    "x_sl=protein_feat_true_pd.drop(columns=['lethality'])\n",
    "x_nsl=protein_feat_non_true_pd.drop(columns=['lethality'])\n",
    "\n",
    "X_sl_scaled = scaler.fit_transform(x_sl)\n",
    "X_nsl_scaled = scaler.fit_transform(x_nsl)"
   ]
  },
  {
   "cell_type": "code",
   "execution_count": 18,
   "metadata": {
    "execution": {
     "iopub.execute_input": "2020-07-17T11:09:55.709386Z",
     "iopub.status.busy": "2020-07-17T11:09:55.708811Z",
     "iopub.status.idle": "2020-07-17T11:09:55.714403Z",
     "shell.execute_reply": "2020-07-17T11:09:55.713938Z"
    }
   },
   "outputs": [
    {
     "data": {
      "text/plain": [
       "(414, 3025)"
      ]
     },
     "execution_count": 18,
     "metadata": {},
     "output_type": "execute_result"
    }
   ],
   "source": [
    "np.shape(X_sl_scaled)"
   ]
  },
  {
   "cell_type": "markdown",
   "metadata": {},
   "source": [
    "## How redundant are each of the protein domains?"
   ]
  },
  {
   "cell_type": "code",
   "execution_count": 19,
   "metadata": {
    "execution": {
     "iopub.execute_input": "2020-07-17T11:09:55.722904Z",
     "iopub.status.busy": "2020-07-17T11:09:55.721644Z",
     "iopub.status.idle": "2020-07-17T11:09:55.723516Z",
     "shell.execute_reply": "2020-07-17T11:09:55.723985Z"
    }
   },
   "outputs": [],
   "source": [
    "def PCA_component_contribution(scaled_matrix,original_data):\n",
    "    from sklearn.decomposition import PCA\n",
    "\n",
    "    model = PCA(0.95).fit(scaled_matrix)\n",
    "    ## apply dimensionality reduction to X_train\n",
    "    output_pca = model.transform(scaled_matrix)\n",
    "    \n",
    "    total=sum(model.explained_variance_)\n",
    "\n",
    "\n",
    "   \n",
    "    # number of components , that it will be the number of main axes times the number of original components \n",
    "    n_pcs= model.components_.shape[0] # the amount of non redundant protein domains \n",
    "\n",
    "    # get the index of the most important feature on EACH component\n",
    "    # LIST COMPREHENSION HERE\n",
    "    most_important = [np.abs(model.components_[i]).argmax() for i in range(n_pcs)]\n",
    "\n",
    "    initial_feature_names = original_data.columns\n",
    "    # get the names\n",
    "    most_important_names = [initial_feature_names[most_important[i]] for i in range(n_pcs)]\n",
    "    \n",
    "\n",
    "    # LIST COMPREHENSION HERE AGAIN\n",
    "    dic = {'PC{}'.format(i): most_important_names[i] for i in range(n_pcs)}\n",
    "\n",
    "    # build the dataframe\n",
    "    df = pd.DataFrame(dic.items(),columns=['pca-component','domain-number'])\n",
    "\n",
    "    return df,model.components_"
   ]
  },
  {
   "cell_type": "code",
   "execution_count": 20,
   "metadata": {
    "execution": {
     "iopub.execute_input": "2020-07-17T11:09:55.727817Z",
     "iopub.status.busy": "2020-07-17T11:09:55.727252Z",
     "iopub.status.idle": "2020-07-17T11:09:56.488849Z",
     "shell.execute_reply": "2020-07-17T11:09:56.489337Z"
    }
   },
   "outputs": [],
   "source": [
    "df_sl,components_pca_nsl=PCA_component_contribution(X_nsl_scaled,x_nsl)\n",
    "df_nsl,components_pca_sl=PCA_component_contribution(X_sl_scaled,x_sl)"
   ]
  },
  {
   "cell_type": "code",
   "execution_count": 21,
   "metadata": {
    "execution": {
     "iopub.execute_input": "2020-07-17T11:09:56.496786Z",
     "iopub.status.busy": "2020-07-17T11:09:56.494371Z",
     "iopub.status.idle": "2020-07-17T11:09:56.500981Z",
     "shell.execute_reply": "2020-07-17T11:09:56.501437Z"
    }
   },
   "outputs": [
    {
     "data": {
      "text/html": [
       "<div>\n",
       "<style scoped>\n",
       "    .dataframe tbody tr th:only-of-type {\n",
       "        vertical-align: middle;\n",
       "    }\n",
       "\n",
       "    .dataframe tbody tr th {\n",
       "        vertical-align: top;\n",
       "    }\n",
       "\n",
       "    .dataframe thead th {\n",
       "        text-align: right;\n",
       "    }\n",
       "</style>\n",
       "<table border=\"1\" class=\"dataframe\">\n",
       "  <thead>\n",
       "    <tr style=\"text-align: right;\">\n",
       "      <th></th>\n",
       "      <th>pca-component</th>\n",
       "      <th>domain-number</th>\n",
       "    </tr>\n",
       "  </thead>\n",
       "  <tbody>\n",
       "    <tr>\n",
       "      <th>0</th>\n",
       "      <td>PC0</td>\n",
       "      <td>50</td>\n",
       "    </tr>\n",
       "    <tr>\n",
       "      <th>1</th>\n",
       "      <td>PC1</td>\n",
       "      <td>135</td>\n",
       "    </tr>\n",
       "    <tr>\n",
       "      <th>2</th>\n",
       "      <td>PC2</td>\n",
       "      <td>221</td>\n",
       "    </tr>\n",
       "    <tr>\n",
       "      <th>3</th>\n",
       "      <td>PC3</td>\n",
       "      <td>1055</td>\n",
       "    </tr>\n",
       "    <tr>\n",
       "      <th>4</th>\n",
       "      <td>PC4</td>\n",
       "      <td>834</td>\n",
       "    </tr>\n",
       "  </tbody>\n",
       "</table>\n",
       "</div>"
      ],
      "text/plain": [
       "  pca-component  domain-number\n",
       "0           PC0             50\n",
       "1           PC1            135\n",
       "2           PC2            221\n",
       "3           PC3           1055\n",
       "4           PC4            834"
      ]
     },
     "execution_count": 21,
     "metadata": {},
     "output_type": "execute_result"
    }
   ],
   "source": [
    "df_sl.head()"
   ]
  },
  {
   "cell_type": "markdown",
   "metadata": {},
   "source": [
    "## which are the shared domains between nSL and SL pairs , in the PCA reduced samples"
   ]
  },
  {
   "cell_type": "code",
   "execution_count": 22,
   "metadata": {
    "execution": {
     "iopub.execute_input": "2020-07-17T11:09:56.513338Z",
     "iopub.status.busy": "2020-07-17T11:09:56.506294Z",
     "iopub.status.idle": "2020-07-17T11:09:56.541178Z",
     "shell.execute_reply": "2020-07-17T11:09:56.541738Z"
    }
   },
   "outputs": [
    {
     "data": {
      "text/html": [
       "<div>\n",
       "<style scoped>\n",
       "    .dataframe tbody tr th:only-of-type {\n",
       "        vertical-align: middle;\n",
       "    }\n",
       "\n",
       "    .dataframe tbody tr th {\n",
       "        vertical-align: top;\n",
       "    }\n",
       "\n",
       "    .dataframe thead th {\n",
       "        text-align: right;\n",
       "    }\n",
       "</style>\n",
       "<table border=\"1\" class=\"dataframe\">\n",
       "  <thead>\n",
       "    <tr style=\"text-align: right;\">\n",
       "      <th></th>\n",
       "      <th>pca-component_x</th>\n",
       "      <th>domain-number</th>\n",
       "      <th>pca-component_y</th>\n",
       "      <th>domain-description</th>\n",
       "    </tr>\n",
       "  </thead>\n",
       "  <tbody>\n",
       "    <tr>\n",
       "      <th>0</th>\n",
       "      <td>PC7</td>\n",
       "      <td>350</td>\n",
       "      <td>PC98</td>\n",
       "      <td>CFIA_Pcf11; Subunit of cleavage factor IA Pcf11</td>\n",
       "    </tr>\n",
       "    <tr>\n",
       "      <th>1</th>\n",
       "      <td>PC16</td>\n",
       "      <td>989</td>\n",
       "      <td>PC25</td>\n",
       "      <td>GLE1; GLE1-like</td>\n",
       "    </tr>\n",
       "    <tr>\n",
       "      <th>2</th>\n",
       "      <td>PC18</td>\n",
       "      <td>300</td>\n",
       "      <td>PC37</td>\n",
       "      <td>BolA; BolA protein</td>\n",
       "    </tr>\n",
       "    <tr>\n",
       "      <th>3</th>\n",
       "      <td>PC27</td>\n",
       "      <td>1347</td>\n",
       "      <td>PC173</td>\n",
       "      <td>MAM33; Mitochondrial glycoprotein</td>\n",
       "    </tr>\n",
       "    <tr>\n",
       "      <th>4</th>\n",
       "      <td>PC29</td>\n",
       "      <td>463</td>\n",
       "      <td>PC20</td>\n",
       "      <td>Chitin_synth_1N; Chitin synthase N-terminal</td>\n",
       "    </tr>\n",
       "    <tr>\n",
       "      <th>5</th>\n",
       "      <td>PC38</td>\n",
       "      <td>2150</td>\n",
       "      <td>PC101</td>\n",
       "      <td>Ribosom_S12_S23; Ribosomal protein S12/S23</td>\n",
       "    </tr>\n",
       "    <tr>\n",
       "      <th>6</th>\n",
       "      <td>PC41</td>\n",
       "      <td>1977</td>\n",
       "      <td>PC240</td>\n",
       "      <td>RFC1; DNA replication factor RFC1, C-terminal</td>\n",
       "    </tr>\n",
       "    <tr>\n",
       "      <th>7</th>\n",
       "      <td>PC46</td>\n",
       "      <td>257</td>\n",
       "      <td>PC36</td>\n",
       "      <td>BAR_2; BAR domain-containing family</td>\n",
       "    </tr>\n",
       "    <tr>\n",
       "      <th>8</th>\n",
       "      <td>PC47</td>\n",
       "      <td>381</td>\n",
       "      <td>PC193</td>\n",
       "      <td>COP-gamma_platf; Coatomer, gamma subunit, appe...</td>\n",
       "    </tr>\n",
       "    <tr>\n",
       "      <th>9</th>\n",
       "      <td>PC48</td>\n",
       "      <td>2519</td>\n",
       "      <td>PC79</td>\n",
       "      <td>Stb3; Sin3 binding protein</td>\n",
       "    </tr>\n",
       "    <tr>\n",
       "      <th>10</th>\n",
       "      <td>PC51</td>\n",
       "      <td>2662</td>\n",
       "      <td>PC59</td>\n",
       "      <td>Thioredoxin; Thioredoxin domain</td>\n",
       "    </tr>\n",
       "    <tr>\n",
       "      <th>11</th>\n",
       "      <td>PC57</td>\n",
       "      <td>196</td>\n",
       "      <td>PC16</td>\n",
       "      <td>Alpha-amylase_C; Alpha-amylase/branching enzym...</td>\n",
       "    </tr>\n",
       "    <tr>\n",
       "      <th>12</th>\n",
       "      <td>PC59</td>\n",
       "      <td>196</td>\n",
       "      <td>PC16</td>\n",
       "      <td>Alpha-amylase_C; Alpha-amylase/branching enzym...</td>\n",
       "    </tr>\n",
       "    <tr>\n",
       "      <th>13</th>\n",
       "      <td>PC58</td>\n",
       "      <td>1226</td>\n",
       "      <td>PC63</td>\n",
       "      <td>IU_nuc_hydro; Inosine/uridine-preferring nucle...</td>\n",
       "    </tr>\n",
       "    <tr>\n",
       "      <th>14</th>\n",
       "      <td>PC64</td>\n",
       "      <td>1585</td>\n",
       "      <td>PC80</td>\n",
       "      <td>NPR3; Nitrogen permease regulator 3</td>\n",
       "    </tr>\n",
       "    <tr>\n",
       "      <th>15</th>\n",
       "      <td>PC64</td>\n",
       "      <td>1585</td>\n",
       "      <td>PC81</td>\n",
       "      <td>NPR3; Nitrogen permease regulator 3</td>\n",
       "    </tr>\n",
       "    <tr>\n",
       "      <th>16</th>\n",
       "      <td>PC65</td>\n",
       "      <td>1344</td>\n",
       "      <td>PC127</td>\n",
       "      <td>MAD; Spindle assembly checkpoint component Mad1</td>\n",
       "    </tr>\n",
       "    <tr>\n",
       "      <th>17</th>\n",
       "      <td>PC69</td>\n",
       "      <td>407</td>\n",
       "      <td>PC71</td>\n",
       "      <td>CPSase_L_D2; Carbamoyl-phosphate synthetase la...</td>\n",
       "    </tr>\n",
       "    <tr>\n",
       "      <th>18</th>\n",
       "      <td>PC74</td>\n",
       "      <td>410</td>\n",
       "      <td>PC42</td>\n",
       "      <td>CRAL_TRIO; CRAL-TRIO lipid binding domain</td>\n",
       "    </tr>\n",
       "    <tr>\n",
       "      <th>19</th>\n",
       "      <td>PC80</td>\n",
       "      <td>6</td>\n",
       "      <td>PC163</td>\n",
       "      <td>2OG-FeII_Oxy_4</td>\n",
       "    </tr>\n",
       "    <tr>\n",
       "      <th>20</th>\n",
       "      <td>PC80</td>\n",
       "      <td>6</td>\n",
       "      <td>PC164</td>\n",
       "      <td>2OG-FeII_Oxy_4</td>\n",
       "    </tr>\n",
       "    <tr>\n",
       "      <th>21</th>\n",
       "      <td>PC81</td>\n",
       "      <td>1376</td>\n",
       "      <td>PC18</td>\n",
       "      <td>MKT1_N; Temperature dependent protein affectin...</td>\n",
       "    </tr>\n",
       "    <tr>\n",
       "      <th>22</th>\n",
       "      <td>PC81</td>\n",
       "      <td>1376</td>\n",
       "      <td>PC19</td>\n",
       "      <td>MKT1_N; Temperature dependent protein affectin...</td>\n",
       "    </tr>\n",
       "    <tr>\n",
       "      <th>23</th>\n",
       "      <td>PC82</td>\n",
       "      <td>35</td>\n",
       "      <td>PC224</td>\n",
       "      <td>AA_permease; Amino acid permease/ SLC12A domain</td>\n",
       "    </tr>\n",
       "    <tr>\n",
       "      <th>24</th>\n",
       "      <td>PC82</td>\n",
       "      <td>35</td>\n",
       "      <td>PC228</td>\n",
       "      <td>AA_permease; Amino acid permease/ SLC12A domain</td>\n",
       "    </tr>\n",
       "    <tr>\n",
       "      <th>25</th>\n",
       "      <td>PC82</td>\n",
       "      <td>35</td>\n",
       "      <td>PC249</td>\n",
       "      <td>AA_permease; Amino acid permease/ SLC12A domain</td>\n",
       "    </tr>\n",
       "    <tr>\n",
       "      <th>26</th>\n",
       "      <td>PC88</td>\n",
       "      <td>1046</td>\n",
       "      <td>PC82</td>\n",
       "      <td>Glyco_hydro_18; Glycoside hydrolase family 18,...</td>\n",
       "    </tr>\n",
       "    <tr>\n",
       "      <th>27</th>\n",
       "      <td>PC90</td>\n",
       "      <td>1106</td>\n",
       "      <td>PC121</td>\n",
       "      <td>HEAT_2</td>\n",
       "    </tr>\n",
       "    <tr>\n",
       "      <th>28</th>\n",
       "      <td>PC92</td>\n",
       "      <td>109</td>\n",
       "      <td>PC84</td>\n",
       "      <td>ATG13; Autophagy-related protein 13</td>\n",
       "    </tr>\n",
       "    <tr>\n",
       "      <th>29</th>\n",
       "      <td>PC96</td>\n",
       "      <td>11</td>\n",
       "      <td>PC123</td>\n",
       "      <td>5-FTHF_cyc-lig; 5-formyltetrahydrofolate cyclo...</td>\n",
       "    </tr>\n",
       "    <tr>\n",
       "      <th>30</th>\n",
       "      <td>PC106</td>\n",
       "      <td>63</td>\n",
       "      <td>PC207</td>\n",
       "      <td>AICARFT_IMPCHas; AICARFT/IMPCHase bienzyme</td>\n",
       "    </tr>\n",
       "    <tr>\n",
       "      <th>31</th>\n",
       "      <td>PC110</td>\n",
       "      <td>63</td>\n",
       "      <td>PC207</td>\n",
       "      <td>AICARFT_IMPCHas; AICARFT/IMPCHase bienzyme</td>\n",
       "    </tr>\n",
       "    <tr>\n",
       "      <th>32</th>\n",
       "      <td>PC127</td>\n",
       "      <td>590</td>\n",
       "      <td>PC231</td>\n",
       "      <td>DHquinase_I; 3-dehydroquinate dehydratase type I</td>\n",
       "    </tr>\n",
       "    <tr>\n",
       "      <th>33</th>\n",
       "      <td>PC128</td>\n",
       "      <td>139</td>\n",
       "      <td>PC143</td>\n",
       "      <td>ATP_bind_1; GPN-loop GTPase</td>\n",
       "    </tr>\n",
       "    <tr>\n",
       "      <th>34</th>\n",
       "      <td>PC135</td>\n",
       "      <td>2651</td>\n",
       "      <td>PC168</td>\n",
       "      <td>Telomere_reg-2; Telomere length regulation pro...</td>\n",
       "    </tr>\n",
       "    <tr>\n",
       "      <th>35</th>\n",
       "      <td>PC136</td>\n",
       "      <td>1852</td>\n",
       "      <td>PC192</td>\n",
       "      <td>Pam17; Mitochondrial import protein Pam17</td>\n",
       "    </tr>\n",
       "    <tr>\n",
       "      <th>36</th>\n",
       "      <td>PC137</td>\n",
       "      <td>1233</td>\n",
       "      <td>PC258</td>\n",
       "      <td>Inhibitor_I9; Peptidase S8 propeptide/proteina...</td>\n",
       "    </tr>\n",
       "    <tr>\n",
       "      <th>37</th>\n",
       "      <td>PC142</td>\n",
       "      <td>507</td>\n",
       "      <td>PC276</td>\n",
       "      <td>Coq4; Ubiquinone biosynthesis protein Coq4</td>\n",
       "    </tr>\n",
       "    <tr>\n",
       "      <th>38</th>\n",
       "      <td>PC143</td>\n",
       "      <td>507</td>\n",
       "      <td>PC276</td>\n",
       "      <td>Coq4; Ubiquinone biosynthesis protein Coq4</td>\n",
       "    </tr>\n",
       "    <tr>\n",
       "      <th>39</th>\n",
       "      <td>PC147</td>\n",
       "      <td>122</td>\n",
       "      <td>PC45</td>\n",
       "      <td>ATP-synt_10; ATPase assembly factor ATP10</td>\n",
       "    </tr>\n",
       "    <tr>\n",
       "      <th>40</th>\n",
       "      <td>PC149</td>\n",
       "      <td>68</td>\n",
       "      <td>PC195</td>\n",
       "      <td>AIRC; PurE domain</td>\n",
       "    </tr>\n",
       "    <tr>\n",
       "      <th>41</th>\n",
       "      <td>PC167</td>\n",
       "      <td>1969</td>\n",
       "      <td>PC174</td>\n",
       "      <td>RAI1; RAI1-like</td>\n",
       "    </tr>\n",
       "    <tr>\n",
       "      <th>42</th>\n",
       "      <td>PC169</td>\n",
       "      <td>2917</td>\n",
       "      <td>PC122</td>\n",
       "      <td>hDGE_amylase; Glycogen debranching enzyme, glu...</td>\n",
       "    </tr>\n",
       "    <tr>\n",
       "      <th>43</th>\n",
       "      <td>PC169</td>\n",
       "      <td>2917</td>\n",
       "      <td>PC128</td>\n",
       "      <td>hDGE_amylase; Glycogen debranching enzyme, glu...</td>\n",
       "    </tr>\n",
       "    <tr>\n",
       "      <th>44</th>\n",
       "      <td>PC171</td>\n",
       "      <td>310</td>\n",
       "      <td>PC201</td>\n",
       "      <td>C1_1; Protein kinase C-like, phorbol ester/dia...</td>\n",
       "    </tr>\n",
       "    <tr>\n",
       "      <th>45</th>\n",
       "      <td>PC191</td>\n",
       "      <td>71</td>\n",
       "      <td>PC135</td>\n",
       "      <td>ALAD; Delta-aminolevulinic acid dehydratase</td>\n",
       "    </tr>\n",
       "    <tr>\n",
       "      <th>46</th>\n",
       "      <td>PC197</td>\n",
       "      <td>1250</td>\n",
       "      <td>PC120</td>\n",
       "      <td>JAB; JAB1/MPN/MOV34 metalloenzyme domain</td>\n",
       "    </tr>\n",
       "    <tr>\n",
       "      <th>47</th>\n",
       "      <td>PC200</td>\n",
       "      <td>2223</td>\n",
       "      <td>PC241</td>\n",
       "      <td>Ribosomal_S17e; Ribosomal protein S17e</td>\n",
       "    </tr>\n",
       "    <tr>\n",
       "      <th>48</th>\n",
       "      <td>PC200</td>\n",
       "      <td>2223</td>\n",
       "      <td>PC242</td>\n",
       "      <td>Ribosomal_S17e; Ribosomal protein S17e</td>\n",
       "    </tr>\n",
       "    <tr>\n",
       "      <th>49</th>\n",
       "      <td>PC287</td>\n",
       "      <td>2223</td>\n",
       "      <td>PC241</td>\n",
       "      <td>Ribosomal_S17e; Ribosomal protein S17e</td>\n",
       "    </tr>\n",
       "    <tr>\n",
       "      <th>50</th>\n",
       "      <td>PC287</td>\n",
       "      <td>2223</td>\n",
       "      <td>PC242</td>\n",
       "      <td>Ribosomal_S17e; Ribosomal protein S17e</td>\n",
       "    </tr>\n",
       "    <tr>\n",
       "      <th>51</th>\n",
       "      <td>PC222</td>\n",
       "      <td>1570</td>\n",
       "      <td>PC160</td>\n",
       "      <td>NMD3</td>\n",
       "    </tr>\n",
       "    <tr>\n",
       "      <th>52</th>\n",
       "      <td>PC234</td>\n",
       "      <td>1612</td>\n",
       "      <td>PC261</td>\n",
       "      <td>NifU; NIF system FeS cluster assembly, NifU, C...</td>\n",
       "    </tr>\n",
       "    <tr>\n",
       "      <th>53</th>\n",
       "      <td>PC241</td>\n",
       "      <td>785</td>\n",
       "      <td>PC169</td>\n",
       "      <td>ECM11; Extracellular mutant protein 11, C-term...</td>\n",
       "    </tr>\n",
       "    <tr>\n",
       "      <th>54</th>\n",
       "      <td>PC255</td>\n",
       "      <td>475</td>\n",
       "      <td>PC100</td>\n",
       "      <td>CitMHS; Citrate transporter-like domain</td>\n",
       "    </tr>\n",
       "    <tr>\n",
       "      <th>55</th>\n",
       "      <td>PC255</td>\n",
       "      <td>475</td>\n",
       "      <td>PC111</td>\n",
       "      <td>CitMHS; Citrate transporter-like domain</td>\n",
       "    </tr>\n",
       "    <tr>\n",
       "      <th>56</th>\n",
       "      <td>PC280</td>\n",
       "      <td>283</td>\n",
       "      <td>PC29</td>\n",
       "      <td>BRF1; Brf1, TBP-binding domain</td>\n",
       "    </tr>\n",
       "    <tr>\n",
       "      <th>57</th>\n",
       "      <td>PC280</td>\n",
       "      <td>283</td>\n",
       "      <td>PC34</td>\n",
       "      <td>BRF1; Brf1, TBP-binding domain</td>\n",
       "    </tr>\n",
       "  </tbody>\n",
       "</table>\n",
       "</div>"
      ],
      "text/plain": [
       "   pca-component_x  domain-number pca-component_y  \\\n",
       "0              PC7            350            PC98   \n",
       "1             PC16            989            PC25   \n",
       "2             PC18            300            PC37   \n",
       "3             PC27           1347           PC173   \n",
       "4             PC29            463            PC20   \n",
       "5             PC38           2150           PC101   \n",
       "6             PC41           1977           PC240   \n",
       "7             PC46            257            PC36   \n",
       "8             PC47            381           PC193   \n",
       "9             PC48           2519            PC79   \n",
       "10            PC51           2662            PC59   \n",
       "11            PC57            196            PC16   \n",
       "12            PC59            196            PC16   \n",
       "13            PC58           1226            PC63   \n",
       "14            PC64           1585            PC80   \n",
       "15            PC64           1585            PC81   \n",
       "16            PC65           1344           PC127   \n",
       "17            PC69            407            PC71   \n",
       "18            PC74            410            PC42   \n",
       "19            PC80              6           PC163   \n",
       "20            PC80              6           PC164   \n",
       "21            PC81           1376            PC18   \n",
       "22            PC81           1376            PC19   \n",
       "23            PC82             35           PC224   \n",
       "24            PC82             35           PC228   \n",
       "25            PC82             35           PC249   \n",
       "26            PC88           1046            PC82   \n",
       "27            PC90           1106           PC121   \n",
       "28            PC92            109            PC84   \n",
       "29            PC96             11           PC123   \n",
       "30           PC106             63           PC207   \n",
       "31           PC110             63           PC207   \n",
       "32           PC127            590           PC231   \n",
       "33           PC128            139           PC143   \n",
       "34           PC135           2651           PC168   \n",
       "35           PC136           1852           PC192   \n",
       "36           PC137           1233           PC258   \n",
       "37           PC142            507           PC276   \n",
       "38           PC143            507           PC276   \n",
       "39           PC147            122            PC45   \n",
       "40           PC149             68           PC195   \n",
       "41           PC167           1969           PC174   \n",
       "42           PC169           2917           PC122   \n",
       "43           PC169           2917           PC128   \n",
       "44           PC171            310           PC201   \n",
       "45           PC191             71           PC135   \n",
       "46           PC197           1250           PC120   \n",
       "47           PC200           2223           PC241   \n",
       "48           PC200           2223           PC242   \n",
       "49           PC287           2223           PC241   \n",
       "50           PC287           2223           PC242   \n",
       "51           PC222           1570           PC160   \n",
       "52           PC234           1612           PC261   \n",
       "53           PC241            785           PC169   \n",
       "54           PC255            475           PC100   \n",
       "55           PC255            475           PC111   \n",
       "56           PC280            283            PC29   \n",
       "57           PC280            283            PC34   \n",
       "\n",
       "                                   domain-description  \n",
       "0     CFIA_Pcf11; Subunit of cleavage factor IA Pcf11  \n",
       "1                                     GLE1; GLE1-like  \n",
       "2                                  BolA; BolA protein  \n",
       "3                   MAM33; Mitochondrial glycoprotein  \n",
       "4         Chitin_synth_1N; Chitin synthase N-terminal  \n",
       "5          Ribosom_S12_S23; Ribosomal protein S12/S23  \n",
       "6       RFC1; DNA replication factor RFC1, C-terminal  \n",
       "7                 BAR_2; BAR domain-containing family  \n",
       "8   COP-gamma_platf; Coatomer, gamma subunit, appe...  \n",
       "9                          Stb3; Sin3 binding protein  \n",
       "10                    Thioredoxin; Thioredoxin domain  \n",
       "11  Alpha-amylase_C; Alpha-amylase/branching enzym...  \n",
       "12  Alpha-amylase_C; Alpha-amylase/branching enzym...  \n",
       "13  IU_nuc_hydro; Inosine/uridine-preferring nucle...  \n",
       "14                NPR3; Nitrogen permease regulator 3  \n",
       "15                NPR3; Nitrogen permease regulator 3  \n",
       "16    MAD; Spindle assembly checkpoint component Mad1  \n",
       "17  CPSase_L_D2; Carbamoyl-phosphate synthetase la...  \n",
       "18          CRAL_TRIO; CRAL-TRIO lipid binding domain  \n",
       "19                                     2OG-FeII_Oxy_4  \n",
       "20                                     2OG-FeII_Oxy_4  \n",
       "21  MKT1_N; Temperature dependent protein affectin...  \n",
       "22  MKT1_N; Temperature dependent protein affectin...  \n",
       "23    AA_permease; Amino acid permease/ SLC12A domain  \n",
       "24    AA_permease; Amino acid permease/ SLC12A domain  \n",
       "25    AA_permease; Amino acid permease/ SLC12A domain  \n",
       "26  Glyco_hydro_18; Glycoside hydrolase family 18,...  \n",
       "27                                             HEAT_2  \n",
       "28                ATG13; Autophagy-related protein 13  \n",
       "29  5-FTHF_cyc-lig; 5-formyltetrahydrofolate cyclo...  \n",
       "30         AICARFT_IMPCHas; AICARFT/IMPCHase bienzyme  \n",
       "31         AICARFT_IMPCHas; AICARFT/IMPCHase bienzyme  \n",
       "32   DHquinase_I; 3-dehydroquinate dehydratase type I  \n",
       "33                        ATP_bind_1; GPN-loop GTPase  \n",
       "34  Telomere_reg-2; Telomere length regulation pro...  \n",
       "35          Pam17; Mitochondrial import protein Pam17  \n",
       "36  Inhibitor_I9; Peptidase S8 propeptide/proteina...  \n",
       "37         Coq4; Ubiquinone biosynthesis protein Coq4  \n",
       "38         Coq4; Ubiquinone biosynthesis protein Coq4  \n",
       "39          ATP-synt_10; ATPase assembly factor ATP10  \n",
       "40                                  AIRC; PurE domain  \n",
       "41                                    RAI1; RAI1-like  \n",
       "42  hDGE_amylase; Glycogen debranching enzyme, glu...  \n",
       "43  hDGE_amylase; Glycogen debranching enzyme, glu...  \n",
       "44  C1_1; Protein kinase C-like, phorbol ester/dia...  \n",
       "45        ALAD; Delta-aminolevulinic acid dehydratase  \n",
       "46           JAB; JAB1/MPN/MOV34 metalloenzyme domain  \n",
       "47             Ribosomal_S17e; Ribosomal protein S17e  \n",
       "48             Ribosomal_S17e; Ribosomal protein S17e  \n",
       "49             Ribosomal_S17e; Ribosomal protein S17e  \n",
       "50             Ribosomal_S17e; Ribosomal protein S17e  \n",
       "51                                               NMD3  \n",
       "52  NifU; NIF system FeS cluster assembly, NifU, C...  \n",
       "53  ECM11; Extracellular mutant protein 11, C-term...  \n",
       "54            CitMHS; Citrate transporter-like domain  \n",
       "55            CitMHS; Citrate transporter-like domain  \n",
       "56                     BRF1; Brf1, TBP-binding domain  \n",
       "57                     BRF1; Brf1, TBP-binding domain  "
      ]
     },
     "execution_count": 22,
     "metadata": {},
     "output_type": "execute_result"
    }
   ],
   "source": [
    "df_shared_domains=pd.merge(df_sl,df_nsl,how='inner',on='domain-number')\n",
    "domains_name=np.unique(data_domains['domain-name'])\n",
    "domains_description=np.unique(data_domains['domain-descrip'])\n",
    "\n",
    "df_shared_domains['domain-description']=domains_description[df_shared_domains['domain-number']]\n",
    "\n",
    "\n",
    "df_shared_domains"
   ]
  },
  {
   "cell_type": "code",
   "execution_count": 23,
   "metadata": {
    "execution": {
     "iopub.execute_input": "2020-07-17T11:09:56.546664Z",
     "iopub.status.busy": "2020-07-17T11:09:56.546102Z",
     "iopub.status.idle": "2020-07-17T11:09:56.550242Z",
     "shell.execute_reply": "2020-07-17T11:09:56.550912Z"
    }
   },
   "outputs": [
    {
     "name": "stdout",
     "output_type": "stream",
     "text": [
      "The number of shared domains between SL and nSL pairs,after PCA, is =  58 out of 568 so the 10.211267605633802 %\n"
     ]
    }
   ],
   "source": [
    "print('The number of shared domains between SL and nSL pairs,after PCA, is = ',len(df_shared_domains), 'out of', len(df_sl)+len(df_nsl), 'so the',100*len(df_shared_domains)/(len(df_sl)+len(df_nsl)),'%')"
   ]
  },
  {
   "cell_type": "markdown",
   "metadata": {},
   "source": [
    "## Domains exclusive to SL"
   ]
  },
  {
   "cell_type": "code",
   "execution_count": 24,
   "metadata": {
    "execution": {
     "iopub.execute_input": "2020-07-17T11:09:56.556788Z",
     "iopub.status.busy": "2020-07-17T11:09:56.555988Z",
     "iopub.status.idle": "2020-07-17T11:09:56.584036Z",
     "shell.execute_reply": "2020-07-17T11:09:56.584760Z"
    }
   },
   "outputs": [
    {
     "data": {
      "text/html": [
       "<div>\n",
       "<style scoped>\n",
       "    .dataframe tbody tr th:only-of-type {\n",
       "        vertical-align: middle;\n",
       "    }\n",
       "\n",
       "    .dataframe tbody tr th {\n",
       "        vertical-align: top;\n",
       "    }\n",
       "\n",
       "    .dataframe thead th {\n",
       "        text-align: right;\n",
       "    }\n",
       "</style>\n",
       "<table border=\"1\" class=\"dataframe\">\n",
       "  <thead>\n",
       "    <tr style=\"text-align: right;\">\n",
       "      <th></th>\n",
       "      <th>pca-component_x</th>\n",
       "      <th>domain-number</th>\n",
       "      <th>pca-component_y</th>\n",
       "      <th>domain-description</th>\n",
       "    </tr>\n",
       "  </thead>\n",
       "  <tbody>\n",
       "    <tr>\n",
       "      <th>0</th>\n",
       "      <td>PC0</td>\n",
       "      <td>50</td>\n",
       "      <td>NaN</td>\n",
       "      <td>ACT_7; GATS-like  ACT domain</td>\n",
       "    </tr>\n",
       "    <tr>\n",
       "      <th>1</th>\n",
       "      <td>PC1</td>\n",
       "      <td>135</td>\n",
       "      <td>NaN</td>\n",
       "      <td>ATP-synt_ab_Xtn; ATPsynthase alpha/beta subuni...</td>\n",
       "    </tr>\n",
       "    <tr>\n",
       "      <th>2</th>\n",
       "      <td>PC2</td>\n",
       "      <td>221</td>\n",
       "      <td>NaN</td>\n",
       "      <td>Apq12; Nuclear pore assembly and biogenesis pr...</td>\n",
       "    </tr>\n",
       "    <tr>\n",
       "      <th>3</th>\n",
       "      <td>PC3</td>\n",
       "      <td>1055</td>\n",
       "      <td>NaN</td>\n",
       "      <td>Glyco_hydro_63N; Glycosyl hydrolase family 63,...</td>\n",
       "    </tr>\n",
       "    <tr>\n",
       "      <th>4</th>\n",
       "      <td>PC4</td>\n",
       "      <td>834</td>\n",
       "      <td>NaN</td>\n",
       "      <td>Efg1; rRNA-processing protein Efg1</td>\n",
       "    </tr>\n",
       "    <tr>\n",
       "      <th>...</th>\n",
       "      <td>...</td>\n",
       "      <td>...</td>\n",
       "      <td>...</td>\n",
       "      <td>...</td>\n",
       "    </tr>\n",
       "    <tr>\n",
       "      <th>293</th>\n",
       "      <td>PC284</td>\n",
       "      <td>672</td>\n",
       "      <td>NaN</td>\n",
       "      <td>DUF2370; NEDD4/Bsd2</td>\n",
       "    </tr>\n",
       "    <tr>\n",
       "      <th>294</th>\n",
       "      <td>PC285</td>\n",
       "      <td>422</td>\n",
       "      <td>NaN</td>\n",
       "      <td>CSN8_PSD8_EIF3K; CSN8/PSMD8/EIF3K</td>\n",
       "    </tr>\n",
       "    <tr>\n",
       "      <th>295</th>\n",
       "      <td>PC286</td>\n",
       "      <td>216</td>\n",
       "      <td>NaN</td>\n",
       "      <td>ApbA; Ketopantoate reductase, N-terminal domain</td>\n",
       "    </tr>\n",
       "    <tr>\n",
       "      <th>298</th>\n",
       "      <td>PC288</td>\n",
       "      <td>1422</td>\n",
       "      <td>NaN</td>\n",
       "      <td>Mannitol_dh_C; Mannitol dehydrogenase, C-terminal</td>\n",
       "    </tr>\n",
       "    <tr>\n",
       "      <th>299</th>\n",
       "      <td>PC289</td>\n",
       "      <td>401</td>\n",
       "      <td>NaN</td>\n",
       "      <td>COX7a</td>\n",
       "    </tr>\n",
       "  </tbody>\n",
       "</table>\n",
       "<p>242 rows × 4 columns</p>\n",
       "</div>"
      ],
      "text/plain": [
       "    pca-component_x  domain-number pca-component_y  \\\n",
       "0               PC0             50             NaN   \n",
       "1               PC1            135             NaN   \n",
       "2               PC2            221             NaN   \n",
       "3               PC3           1055             NaN   \n",
       "4               PC4            834             NaN   \n",
       "..              ...            ...             ...   \n",
       "293           PC284            672             NaN   \n",
       "294           PC285            422             NaN   \n",
       "295           PC286            216             NaN   \n",
       "298           PC288           1422             NaN   \n",
       "299           PC289            401             NaN   \n",
       "\n",
       "                                    domain-description  \n",
       "0                         ACT_7; GATS-like  ACT domain  \n",
       "1    ATP-synt_ab_Xtn; ATPsynthase alpha/beta subuni...  \n",
       "2    Apq12; Nuclear pore assembly and biogenesis pr...  \n",
       "3    Glyco_hydro_63N; Glycosyl hydrolase family 63,...  \n",
       "4                   Efg1; rRNA-processing protein Efg1  \n",
       "..                                                 ...  \n",
       "293                                DUF2370; NEDD4/Bsd2  \n",
       "294                  CSN8_PSD8_EIF3K; CSN8/PSMD8/EIF3K  \n",
       "295    ApbA; Ketopantoate reductase, N-terminal domain  \n",
       "298  Mannitol_dh_C; Mannitol dehydrogenase, C-terminal  \n",
       "299                                              COX7a  \n",
       "\n",
       "[242 rows x 4 columns]"
      ]
     },
     "execution_count": 24,
     "metadata": {},
     "output_type": "execute_result"
    }
   ],
   "source": [
    "df_sl_exclusive=pd.merge(df_sl,df_nsl,how='left',on='domain-number')\n",
    "\n",
    "domains_name=np.unique(data_domains['domain-name'])\n",
    "domains_description=np.unique(data_domains['domain-descrip'])\n",
    "\n",
    "df_sl_exclusive['domain-description']=domains_description[df_sl_exclusive['domain-number']]\n",
    "df_sl_exclusive[pd.isnull(df_sl_exclusive['pca-component_y'])]"
   ]
  },
  {
   "cell_type": "code",
   "execution_count": 25,
   "metadata": {
    "execution": {
     "iopub.execute_input": "2020-07-17T11:09:56.589866Z",
     "iopub.status.busy": "2020-07-17T11:09:56.589292Z",
     "iopub.status.idle": "2020-07-17T11:09:56.593208Z",
     "shell.execute_reply": "2020-07-17T11:09:56.593953Z"
    }
   },
   "outputs": [
    {
     "name": "stdout",
     "output_type": "stream",
     "text": [
      "The number of exclusive domains from SL pairs, after PCA, is =  300 out of 568 so the 52.816901408450704 %\n"
     ]
    }
   ],
   "source": [
    "print('The number of exclusive domains from SL pairs, after PCA, is = ',len(df_sl_exclusive), 'out of', len(df_sl)+len(df_nsl), 'so the',100*len(df_sl_exclusive)/(len(df_sl)+len(df_nsl)),'%')"
   ]
  },
  {
   "cell_type": "code",
   "execution_count": 26,
   "metadata": {
    "execution": {
     "iopub.execute_input": "2020-07-17T11:09:56.626075Z",
     "iopub.status.busy": "2020-07-17T11:09:56.600313Z",
     "iopub.status.idle": "2020-07-17T11:09:56.632784Z",
     "shell.execute_reply": "2020-07-17T11:09:56.632228Z"
    }
   },
   "outputs": [
    {
     "data": {
      "text/html": [
       "<div>\n",
       "<style scoped>\n",
       "    .dataframe tbody tr th:only-of-type {\n",
       "        vertical-align: middle;\n",
       "    }\n",
       "\n",
       "    .dataframe tbody tr th {\n",
       "        vertical-align: top;\n",
       "    }\n",
       "\n",
       "    .dataframe thead th {\n",
       "        text-align: right;\n",
       "    }\n",
       "</style>\n",
       "<table border=\"1\" class=\"dataframe\">\n",
       "  <thead>\n",
       "    <tr style=\"text-align: right;\">\n",
       "      <th></th>\n",
       "      <th>pca-component_x</th>\n",
       "      <th>domain-number</th>\n",
       "      <th>pca-component_y</th>\n",
       "      <th>domain-description</th>\n",
       "    </tr>\n",
       "  </thead>\n",
       "  <tbody>\n",
       "    <tr>\n",
       "      <th>58</th>\n",
       "      <td>NaN</td>\n",
       "      <td>1028</td>\n",
       "      <td>PC0</td>\n",
       "      <td>GatB_Yqey; Asn/Gln amidotransferase</td>\n",
       "    </tr>\n",
       "    <tr>\n",
       "      <th>59</th>\n",
       "      <td>NaN</td>\n",
       "      <td>1425</td>\n",
       "      <td>PC1</td>\n",
       "      <td>Mannosyl_trans; Mannosyltransferase, DXD</td>\n",
       "    </tr>\n",
       "    <tr>\n",
       "      <th>60</th>\n",
       "      <td>NaN</td>\n",
       "      <td>540</td>\n",
       "      <td>PC2</td>\n",
       "      <td>Cytochrome_B; Cytochrome b/b6, N-terminal</td>\n",
       "    </tr>\n",
       "    <tr>\n",
       "      <th>61</th>\n",
       "      <td>NaN</td>\n",
       "      <td>2113</td>\n",
       "      <td>PC3</td>\n",
       "      <td>Rav1p_C; RAVE complex protein Rav1 C-terminal</td>\n",
       "    </tr>\n",
       "    <tr>\n",
       "      <th>62</th>\n",
       "      <td>NaN</td>\n",
       "      <td>305</td>\n",
       "      <td>PC4</td>\n",
       "      <td>Brr6_like_C_C; Brl1/Brr6 domain</td>\n",
       "    </tr>\n",
       "    <tr>\n",
       "      <th>...</th>\n",
       "      <td>...</td>\n",
       "      <td>...</td>\n",
       "      <td>...</td>\n",
       "      <td>...</td>\n",
       "    </tr>\n",
       "    <tr>\n",
       "      <th>278</th>\n",
       "      <td>NaN</td>\n",
       "      <td>2936</td>\n",
       "      <td>PC271</td>\n",
       "      <td>tRNA-synt_1c; Glutamyl/glutaminyl-tRNA synthet...</td>\n",
       "    </tr>\n",
       "    <tr>\n",
       "      <th>279</th>\n",
       "      <td>NaN</td>\n",
       "      <td>363</td>\n",
       "      <td>PC272</td>\n",
       "      <td>CLP1_P; Polyribonucleotide 5&amp;apos;-hydroxyl-ki...</td>\n",
       "    </tr>\n",
       "    <tr>\n",
       "      <th>280</th>\n",
       "      <td>NaN</td>\n",
       "      <td>1019</td>\n",
       "      <td>PC274</td>\n",
       "      <td>G_glu_transpept; Gamma-glutamyltranspeptidase</td>\n",
       "    </tr>\n",
       "    <tr>\n",
       "      <th>281</th>\n",
       "      <td>NaN</td>\n",
       "      <td>112</td>\n",
       "      <td>PC275</td>\n",
       "      <td>ATG22; Autophagy-related protein 22-like</td>\n",
       "    </tr>\n",
       "    <tr>\n",
       "      <th>282</th>\n",
       "      <td>NaN</td>\n",
       "      <td>2056</td>\n",
       "      <td>PC277</td>\n",
       "      <td>RRM; RNA-binding domain, putative</td>\n",
       "    </tr>\n",
       "  </tbody>\n",
       "</table>\n",
       "<p>225 rows × 4 columns</p>\n",
       "</div>"
      ],
      "text/plain": [
       "    pca-component_x  domain-number pca-component_y  \\\n",
       "58              NaN           1028             PC0   \n",
       "59              NaN           1425             PC1   \n",
       "60              NaN            540             PC2   \n",
       "61              NaN           2113             PC3   \n",
       "62              NaN            305             PC4   \n",
       "..              ...            ...             ...   \n",
       "278             NaN           2936           PC271   \n",
       "279             NaN            363           PC272   \n",
       "280             NaN           1019           PC274   \n",
       "281             NaN            112           PC275   \n",
       "282             NaN           2056           PC277   \n",
       "\n",
       "                                    domain-description  \n",
       "58                 GatB_Yqey; Asn/Gln amidotransferase  \n",
       "59            Mannosyl_trans; Mannosyltransferase, DXD  \n",
       "60           Cytochrome_B; Cytochrome b/b6, N-terminal  \n",
       "61       Rav1p_C; RAVE complex protein Rav1 C-terminal  \n",
       "62                     Brr6_like_C_C; Brl1/Brr6 domain  \n",
       "..                                                 ...  \n",
       "278  tRNA-synt_1c; Glutamyl/glutaminyl-tRNA synthet...  \n",
       "279  CLP1_P; Polyribonucleotide 5&apos;-hydroxyl-ki...  \n",
       "280      G_glu_transpept; Gamma-glutamyltranspeptidase  \n",
       "281           ATG22; Autophagy-related protein 22-like  \n",
       "282                  RRM; RNA-binding domain, putative  \n",
       "\n",
       "[225 rows x 4 columns]"
      ]
     },
     "execution_count": 26,
     "metadata": {},
     "output_type": "execute_result"
    }
   ],
   "source": [
    "df_nsl_exclusive=pd.merge(df_sl,df_nsl,how='right',on='domain-number')\n",
    "\n",
    "domains_name=np.unique(data_domains['domain-name'])\n",
    "domains_description=np.unique(data_domains['domain-descrip'])\n",
    "\n",
    "df_nsl_exclusive['domain-description']=domains_description[df_nsl_exclusive['domain-number']]\n",
    "df_nsl_exclusive[pd.isnull(df_nsl_exclusive['pca-component_x'])]"
   ]
  },
  {
   "cell_type": "code",
   "execution_count": 27,
   "metadata": {
    "execution": {
     "iopub.execute_input": "2020-07-17T11:09:56.637318Z",
     "iopub.status.busy": "2020-07-17T11:09:56.636743Z",
     "iopub.status.idle": "2020-07-17T11:09:56.640713Z",
     "shell.execute_reply": "2020-07-17T11:09:56.639868Z"
    }
   },
   "outputs": [
    {
     "name": "stdout",
     "output_type": "stream",
     "text": [
      "The number of exclusive domains from non SL pairs, after PCA, is =  283 out of 568 so the 49.82394366197183 %\n"
     ]
    }
   ],
   "source": [
    "print('The number of exclusive domains from non SL pairs, after PCA, is = ',len(df_nsl_exclusive), 'out of', len(df_sl)+len(df_nsl), 'so the',100*len(df_nsl_exclusive)/(len(df_sl)+len(df_nsl)),'%')"
   ]
  },
  {
   "cell_type": "markdown",
   "metadata": {},
   "source": [
    "## Let see to the domains-number that get repeated after the PCA analysis , and selecting the most explanatory feature by its explained variance."
   ]
  },
  {
   "cell_type": "code",
   "execution_count": 28,
   "metadata": {
    "execution": {
     "iopub.execute_input": "2020-07-17T11:09:56.663407Z",
     "iopub.status.busy": "2020-07-17T11:09:56.661372Z",
     "iopub.status.idle": "2020-07-17T11:09:56.666821Z",
     "shell.execute_reply": "2020-07-17T11:09:56.666077Z"
    }
   },
   "outputs": [],
   "source": [
    "duplicated_features_sl=df_sl[df_sl.iloc[:,1].duplicated()]\n",
    "repeated_features_sl=pd.DataFrame()\n",
    "\n",
    "domains_name=np.unique(data_domains['domain-name'])\n",
    "domains_description=np.unique(data_domains['domain-descrip'])\n",
    "\n",
    "repeated_features_sl['domain-name']=domains_name[duplicated_features_sl.iloc[:,1]] \n",
    "repeated_features_sl['domain-description']=domains_description[duplicated_features_sl.iloc[:,1]]\n",
    "\n",
    "duplicated_features_nsl=df_nsl[df_nsl.iloc[:,1].duplicated()]\n",
    "repeated_features_nsl=pd.DataFrame()\n",
    "\n",
    "repeated_features_nsl['domain-name']=domains_name[duplicated_features_nsl.iloc[:,1]] \n",
    "repeated_features_nsl['domain-description']=domains_description[duplicated_features_nsl.iloc[:,1]]"
   ]
  },
  {
   "cell_type": "code",
   "execution_count": 29,
   "metadata": {
    "execution": {
     "iopub.execute_input": "2020-07-17T11:09:56.673114Z",
     "iopub.status.busy": "2020-07-17T11:09:56.672563Z",
     "iopub.status.idle": "2020-07-17T11:09:56.683435Z",
     "shell.execute_reply": "2020-07-17T11:09:56.682868Z"
    }
   },
   "outputs": [
    {
     "name": "stderr",
     "output_type": "stream",
     "text": [
      "/usr/share/miniconda3/envs/wintest/lib/python3.7/site-packages/ipykernel_launcher.py:3: SettingWithCopyWarning: \n",
      "A value is trying to be set on a copy of a slice from a DataFrame.\n",
      "Try using .loc[row_indexer,col_indexer] = value instead\n",
      "\n",
      "See the caveats in the documentation: https://pandas.pydata.org/pandas-docs/stable/user_guide/indexing.html#returning-a-view-versus-a-copy\n",
      "  This is separate from the ipykernel package so we can avoid doing imports until\n"
     ]
    },
    {
     "data": {
      "text/plain": [
       "((39, 4), (300, 4))"
      ]
     },
     "execution_count": 29,
     "metadata": {},
     "output_type": "execute_result"
    }
   ],
   "source": [
    "only_sl_pd=pd.merge(repeated_features_sl,repeated_features_nsl,how='left',on=['domain-name'])\n",
    "data_only_sl = only_sl_pd[pd.isnull(only_sl_pd['domain-description_y'])]\n",
    "data_only_sl['domain-description']=data_only_sl['domain-description_x']\n",
    "data_only_sl.shape,df_sl_exclusive.shape"
   ]
  },
  {
   "cell_type": "code",
   "execution_count": 30,
   "metadata": {
    "execution": {
     "iopub.execute_input": "2020-07-17T11:09:56.702575Z",
     "iopub.status.busy": "2020-07-17T11:09:56.702011Z",
     "iopub.status.idle": "2020-07-17T11:09:56.708132Z",
     "shell.execute_reply": "2020-07-17T11:09:56.707628Z"
    }
   },
   "outputs": [
    {
     "data": {
      "text/html": [
       "<div>\n",
       "<style scoped>\n",
       "    .dataframe tbody tr th:only-of-type {\n",
       "        vertical-align: middle;\n",
       "    }\n",
       "\n",
       "    .dataframe tbody tr th {\n",
       "        vertical-align: top;\n",
       "    }\n",
       "\n",
       "    .dataframe thead th {\n",
       "        text-align: right;\n",
       "    }\n",
       "</style>\n",
       "<table border=\"1\" class=\"dataframe\">\n",
       "  <thead>\n",
       "    <tr style=\"text-align: right;\">\n",
       "      <th></th>\n",
       "      <th>domain-name</th>\n",
       "      <th>domain-description_x</th>\n",
       "      <th>domain-description_y</th>\n",
       "    </tr>\n",
       "  </thead>\n",
       "  <tbody>\n",
       "    <tr>\n",
       "      <th>1</th>\n",
       "      <td>PF04564</td>\n",
       "      <td>NaN</td>\n",
       "      <td>MKT1_N; Temperature dependent protein affectin...</td>\n",
       "    </tr>\n",
       "    <tr>\n",
       "      <th>2</th>\n",
       "      <td>PF00583</td>\n",
       "      <td>NaN</td>\n",
       "      <td>BRF1; Brf1, TBP-binding domain</td>\n",
       "    </tr>\n",
       "    <tr>\n",
       "      <th>3</th>\n",
       "      <td>PF12157</td>\n",
       "      <td>NaN</td>\n",
       "      <td>Sec7; Sec7 domain</td>\n",
       "    </tr>\n",
       "    <tr>\n",
       "      <th>4</th>\n",
       "      <td>PF12157</td>\n",
       "      <td>NaN</td>\n",
       "      <td>Sec7; Sec7 domain</td>\n",
       "    </tr>\n",
       "    <tr>\n",
       "      <th>5</th>\n",
       "      <td>PF12002</td>\n",
       "      <td>NaN</td>\n",
       "      <td>Sec2p; GDP/GTP exchange factor Sec2, N-terminal</td>\n",
       "    </tr>\n",
       "    <tr>\n",
       "      <th>6</th>\n",
       "      <td>PF00098</td>\n",
       "      <td>NaN</td>\n",
       "      <td>ABC_membrane_2; ABC transporter type 1, transm...</td>\n",
       "    </tr>\n",
       "    <tr>\n",
       "      <th>7</th>\n",
       "      <td>PF00125</td>\n",
       "      <td>NaN</td>\n",
       "      <td>ADK_lid; Adenylate kinase, active site lid domain</td>\n",
       "    </tr>\n",
       "    <tr>\n",
       "      <th>8</th>\n",
       "      <td>PF04100</td>\n",
       "      <td>NaN</td>\n",
       "      <td>Kre28; Spindle pole body component Kre28</td>\n",
       "    </tr>\n",
       "    <tr>\n",
       "      <th>9</th>\n",
       "      <td>PF05764</td>\n",
       "      <td>NaN</td>\n",
       "      <td>NPR3; Nitrogen permease regulator 3</td>\n",
       "    </tr>\n",
       "    <tr>\n",
       "      <th>10</th>\n",
       "      <td>PF01435</td>\n",
       "      <td>NaN</td>\n",
       "      <td>DSPc; Dual specificity phosphatase, catalytic ...</td>\n",
       "    </tr>\n",
       "    <tr>\n",
       "      <th>11</th>\n",
       "      <td>PF03935</td>\n",
       "      <td>NaN</td>\n",
       "      <td>IF-2B; Initiation factor 2B-related</td>\n",
       "    </tr>\n",
       "    <tr>\n",
       "      <th>12</th>\n",
       "      <td>PF03727</td>\n",
       "      <td>NaN</td>\n",
       "      <td>Heme_oxygenase; Haem oxygenase-like</td>\n",
       "    </tr>\n",
       "    <tr>\n",
       "      <th>13</th>\n",
       "      <td>PF05843</td>\n",
       "      <td>NaN</td>\n",
       "      <td>Na_Ca_ex; Sodium/calcium exchanger membrane re...</td>\n",
       "    </tr>\n",
       "    <tr>\n",
       "      <th>14</th>\n",
       "      <td>PF01066</td>\n",
       "      <td>NaN</td>\n",
       "      <td>CitMHS; Citrate transporter-like domain</td>\n",
       "    </tr>\n",
       "    <tr>\n",
       "      <th>15</th>\n",
       "      <td>PF02666</td>\n",
       "      <td>NaN</td>\n",
       "      <td>Flocculin</td>\n",
       "    </tr>\n",
       "    <tr>\n",
       "      <th>16</th>\n",
       "      <td>PF00613</td>\n",
       "      <td>NaN</td>\n",
       "      <td>Biotin_carb_C; Biotin carboxylase, C-terminal</td>\n",
       "    </tr>\n",
       "    <tr>\n",
       "      <th>17</th>\n",
       "      <td>PF16797</td>\n",
       "      <td>NaN</td>\n",
       "      <td>hDGE_amylase; Glycogen debranching enzyme, glu...</td>\n",
       "    </tr>\n",
       "    <tr>\n",
       "      <th>18</th>\n",
       "      <td>PF12894</td>\n",
       "      <td>NaN</td>\n",
       "      <td>TEA; TEA/ATTS domain</td>\n",
       "    </tr>\n",
       "    <tr>\n",
       "      <th>19</th>\n",
       "      <td>PF12348</td>\n",
       "      <td>NaN</td>\n",
       "      <td>Sir1; Sir1, ORC-binding domain</td>\n",
       "    </tr>\n",
       "    <tr>\n",
       "      <th>20</th>\n",
       "      <td>PF01991</td>\n",
       "      <td>NaN</td>\n",
       "      <td>EFTUD2; 116kDa U5 small nuclear ribonucleoprot...</td>\n",
       "    </tr>\n",
       "    <tr>\n",
       "      <th>21</th>\n",
       "      <td>PF04427</td>\n",
       "      <td>NaN</td>\n",
       "      <td>MATalpha_HMGbox; Mating-type protein MAT alpha...</td>\n",
       "    </tr>\n",
       "    <tr>\n",
       "      <th>22</th>\n",
       "      <td>PF03650</td>\n",
       "      <td>NaN</td>\n",
       "      <td>Hap4_Hap_bind; Hap4 transcription factor, hete...</td>\n",
       "    </tr>\n",
       "    <tr>\n",
       "      <th>23</th>\n",
       "      <td>PF05557</td>\n",
       "      <td>NaN</td>\n",
       "      <td>NIF; FCP1 homology domain</td>\n",
       "    </tr>\n",
       "    <tr>\n",
       "      <th>24</th>\n",
       "      <td>PF01388</td>\n",
       "      <td>NaN</td>\n",
       "      <td>DNA_pol3_delta2</td>\n",
       "    </tr>\n",
       "    <tr>\n",
       "      <th>25</th>\n",
       "      <td>PF06058</td>\n",
       "      <td>NaN</td>\n",
       "      <td>Nop52; Nucleolar, Nop52</td>\n",
       "    </tr>\n",
       "    <tr>\n",
       "      <th>26</th>\n",
       "      <td>PF06058</td>\n",
       "      <td>NaN</td>\n",
       "      <td>Nop52; Nucleolar, Nop52</td>\n",
       "    </tr>\n",
       "    <tr>\n",
       "      <th>27</th>\n",
       "      <td>PF00012</td>\n",
       "      <td>NaN</td>\n",
       "      <td>2OG-FeII_Oxy_4</td>\n",
       "    </tr>\n",
       "    <tr>\n",
       "      <th>28</th>\n",
       "      <td>PF03031</td>\n",
       "      <td>NaN</td>\n",
       "      <td>Gcn1_N; Gcn1, N-terminal</td>\n",
       "    </tr>\n",
       "    <tr>\n",
       "      <th>29</th>\n",
       "      <td>PF00627</td>\n",
       "      <td>NaN</td>\n",
       "      <td>Bystin</td>\n",
       "    </tr>\n",
       "    <tr>\n",
       "      <th>30</th>\n",
       "      <td>PF01423</td>\n",
       "      <td>NaN</td>\n",
       "      <td>DNA_topoisoIV; DNA topoisomerase, type IIA, su...</td>\n",
       "    </tr>\n",
       "    <tr>\n",
       "      <th>31</th>\n",
       "      <td>PF05783</td>\n",
       "      <td>NaN</td>\n",
       "      <td>NTP_transf_2; Polymerase, nucleotidyl transfer...</td>\n",
       "    </tr>\n",
       "    <tr>\n",
       "      <th>32</th>\n",
       "      <td>PF04981</td>\n",
       "      <td>NaN</td>\n",
       "      <td>Metallophos; Calcineurin-like phosphoesterase ...</td>\n",
       "    </tr>\n",
       "    <tr>\n",
       "      <th>33</th>\n",
       "      <td>PF09494</td>\n",
       "      <td>NaN</td>\n",
       "      <td>RibD_C; Bacterial bifunctional deaminase-reduc...</td>\n",
       "    </tr>\n",
       "    <tr>\n",
       "      <th>34</th>\n",
       "      <td>PF09494</td>\n",
       "      <td>NaN</td>\n",
       "      <td>RibD_C; Bacterial bifunctional deaminase-reduc...</td>\n",
       "    </tr>\n",
       "    <tr>\n",
       "      <th>35</th>\n",
       "      <td>PF06068</td>\n",
       "      <td>NaN</td>\n",
       "      <td>Nop53; Ribosome biogenesis protein Nop53/GLTSCR2</td>\n",
       "    </tr>\n",
       "    <tr>\n",
       "      <th>36</th>\n",
       "      <td>PF00010</td>\n",
       "      <td>NaN</td>\n",
       "      <td>2-oxoacid_dh; 2-oxoacid dehydrogenase acyltran...</td>\n",
       "    </tr>\n",
       "    <tr>\n",
       "      <th>37</th>\n",
       "      <td>PF09138</td>\n",
       "      <td>NaN</td>\n",
       "      <td>RTC_insert; RNA 3&amp;apos;-terminal phosphate cyc...</td>\n",
       "    </tr>\n",
       "    <tr>\n",
       "      <th>38</th>\n",
       "      <td>PF00083</td>\n",
       "      <td>NaN</td>\n",
       "      <td>AA_permease; Amino acid permease/ SLC12A domain</td>\n",
       "    </tr>\n",
       "    <tr>\n",
       "      <th>39</th>\n",
       "      <td>PF00083</td>\n",
       "      <td>NaN</td>\n",
       "      <td>AA_permease; Amino acid permease/ SLC12A domain</td>\n",
       "    </tr>\n",
       "    <tr>\n",
       "      <th>40</th>\n",
       "      <td>PF00920</td>\n",
       "      <td>NaN</td>\n",
       "      <td>CTK3_C; CTD kinase subunit gamma Ctk3, C-terminal</td>\n",
       "    </tr>\n",
       "    <tr>\n",
       "      <th>41</th>\n",
       "      <td>PF05032</td>\n",
       "      <td>NaN</td>\n",
       "      <td>MgsA_C; MgsA AAA+ ATPase C-terminal</td>\n",
       "    </tr>\n",
       "    <tr>\n",
       "      <th>42</th>\n",
       "      <td>PF00436</td>\n",
       "      <td>NaN</td>\n",
       "      <td>Anoctamin</td>\n",
       "    </tr>\n",
       "    <tr>\n",
       "      <th>43</th>\n",
       "      <td>PF10181</td>\n",
       "      <td>NaN</td>\n",
       "      <td>Ribosomal_L39; Ribosomal protein L39e</td>\n",
       "    </tr>\n",
       "    <tr>\n",
       "      <th>44</th>\n",
       "      <td>PF10181</td>\n",
       "      <td>NaN</td>\n",
       "      <td>Ribosomal_L39; Ribosomal protein L39e</td>\n",
       "    </tr>\n",
       "    <tr>\n",
       "      <th>45</th>\n",
       "      <td>PF00572</td>\n",
       "      <td>NaN</td>\n",
       "      <td>BPL_C; Biotin protein ligase, C-terminal</td>\n",
       "    </tr>\n",
       "    <tr>\n",
       "      <th>46</th>\n",
       "      <td>PF02186</td>\n",
       "      <td>NaN</td>\n",
       "      <td>Eisosome1; Eisosome protein 1</td>\n",
       "    </tr>\n",
       "    <tr>\n",
       "      <th>47</th>\n",
       "      <td>PF04925</td>\n",
       "      <td>NaN</td>\n",
       "      <td>Med6; Mediator complex, subunit Med6</td>\n",
       "    </tr>\n",
       "    <tr>\n",
       "      <th>48</th>\n",
       "      <td>PF05291</td>\n",
       "      <td>NaN</td>\n",
       "      <td>N1221; N1221-like</td>\n",
       "    </tr>\n",
       "    <tr>\n",
       "      <th>49</th>\n",
       "      <td>PF14876</td>\n",
       "      <td>NaN</td>\n",
       "      <td>VPS53_C; Vacuolar protein sorting-associated p...</td>\n",
       "    </tr>\n",
       "    <tr>\n",
       "      <th>50</th>\n",
       "      <td>PF01176</td>\n",
       "      <td>NaN</td>\n",
       "      <td>Cut8; Tethering factor for nuclear proteasome ...</td>\n",
       "    </tr>\n",
       "    <tr>\n",
       "      <th>51</th>\n",
       "      <td>PF09439</td>\n",
       "      <td>NaN</td>\n",
       "      <td>Rep_fac_C; Replication factor C, C-terminal</td>\n",
       "    </tr>\n",
       "    <tr>\n",
       "      <th>52</th>\n",
       "      <td>PF05348</td>\n",
       "      <td>NaN</td>\n",
       "      <td>NAD_binding_3; Aspartate/homoserine dehydrogen...</td>\n",
       "    </tr>\n",
       "  </tbody>\n",
       "</table>\n",
       "</div>"
      ],
      "text/plain": [
       "   domain-name domain-description_x  \\\n",
       "1      PF04564                  NaN   \n",
       "2      PF00583                  NaN   \n",
       "3      PF12157                  NaN   \n",
       "4      PF12157                  NaN   \n",
       "5      PF12002                  NaN   \n",
       "6      PF00098                  NaN   \n",
       "7      PF00125                  NaN   \n",
       "8      PF04100                  NaN   \n",
       "9      PF05764                  NaN   \n",
       "10     PF01435                  NaN   \n",
       "11     PF03935                  NaN   \n",
       "12     PF03727                  NaN   \n",
       "13     PF05843                  NaN   \n",
       "14     PF01066                  NaN   \n",
       "15     PF02666                  NaN   \n",
       "16     PF00613                  NaN   \n",
       "17     PF16797                  NaN   \n",
       "18     PF12894                  NaN   \n",
       "19     PF12348                  NaN   \n",
       "20     PF01991                  NaN   \n",
       "21     PF04427                  NaN   \n",
       "22     PF03650                  NaN   \n",
       "23     PF05557                  NaN   \n",
       "24     PF01388                  NaN   \n",
       "25     PF06058                  NaN   \n",
       "26     PF06058                  NaN   \n",
       "27     PF00012                  NaN   \n",
       "28     PF03031                  NaN   \n",
       "29     PF00627                  NaN   \n",
       "30     PF01423                  NaN   \n",
       "31     PF05783                  NaN   \n",
       "32     PF04981                  NaN   \n",
       "33     PF09494                  NaN   \n",
       "34     PF09494                  NaN   \n",
       "35     PF06068                  NaN   \n",
       "36     PF00010                  NaN   \n",
       "37     PF09138                  NaN   \n",
       "38     PF00083                  NaN   \n",
       "39     PF00083                  NaN   \n",
       "40     PF00920                  NaN   \n",
       "41     PF05032                  NaN   \n",
       "42     PF00436                  NaN   \n",
       "43     PF10181                  NaN   \n",
       "44     PF10181                  NaN   \n",
       "45     PF00572                  NaN   \n",
       "46     PF02186                  NaN   \n",
       "47     PF04925                  NaN   \n",
       "48     PF05291                  NaN   \n",
       "49     PF14876                  NaN   \n",
       "50     PF01176                  NaN   \n",
       "51     PF09439                  NaN   \n",
       "52     PF05348                  NaN   \n",
       "\n",
       "                                 domain-description_y  \n",
       "1   MKT1_N; Temperature dependent protein affectin...  \n",
       "2                      BRF1; Brf1, TBP-binding domain  \n",
       "3                                   Sec7; Sec7 domain  \n",
       "4                                   Sec7; Sec7 domain  \n",
       "5     Sec2p; GDP/GTP exchange factor Sec2, N-terminal  \n",
       "6   ABC_membrane_2; ABC transporter type 1, transm...  \n",
       "7   ADK_lid; Adenylate kinase, active site lid domain  \n",
       "8            Kre28; Spindle pole body component Kre28  \n",
       "9                 NPR3; Nitrogen permease regulator 3  \n",
       "10  DSPc; Dual specificity phosphatase, catalytic ...  \n",
       "11                IF-2B; Initiation factor 2B-related  \n",
       "12                Heme_oxygenase; Haem oxygenase-like  \n",
       "13  Na_Ca_ex; Sodium/calcium exchanger membrane re...  \n",
       "14            CitMHS; Citrate transporter-like domain  \n",
       "15                                          Flocculin  \n",
       "16      Biotin_carb_C; Biotin carboxylase, C-terminal  \n",
       "17  hDGE_amylase; Glycogen debranching enzyme, glu...  \n",
       "18                               TEA; TEA/ATTS domain  \n",
       "19                     Sir1; Sir1, ORC-binding domain  \n",
       "20  EFTUD2; 116kDa U5 small nuclear ribonucleoprot...  \n",
       "21  MATalpha_HMGbox; Mating-type protein MAT alpha...  \n",
       "22  Hap4_Hap_bind; Hap4 transcription factor, hete...  \n",
       "23                          NIF; FCP1 homology domain  \n",
       "24                                    DNA_pol3_delta2  \n",
       "25                            Nop52; Nucleolar, Nop52  \n",
       "26                            Nop52; Nucleolar, Nop52  \n",
       "27                                     2OG-FeII_Oxy_4  \n",
       "28                           Gcn1_N; Gcn1, N-terminal  \n",
       "29                                             Bystin  \n",
       "30  DNA_topoisoIV; DNA topoisomerase, type IIA, su...  \n",
       "31  NTP_transf_2; Polymerase, nucleotidyl transfer...  \n",
       "32  Metallophos; Calcineurin-like phosphoesterase ...  \n",
       "33  RibD_C; Bacterial bifunctional deaminase-reduc...  \n",
       "34  RibD_C; Bacterial bifunctional deaminase-reduc...  \n",
       "35   Nop53; Ribosome biogenesis protein Nop53/GLTSCR2  \n",
       "36  2-oxoacid_dh; 2-oxoacid dehydrogenase acyltran...  \n",
       "37  RTC_insert; RNA 3&apos;-terminal phosphate cyc...  \n",
       "38    AA_permease; Amino acid permease/ SLC12A domain  \n",
       "39    AA_permease; Amino acid permease/ SLC12A domain  \n",
       "40  CTK3_C; CTD kinase subunit gamma Ctk3, C-terminal  \n",
       "41                MgsA_C; MgsA AAA+ ATPase C-terminal  \n",
       "42                                          Anoctamin  \n",
       "43              Ribosomal_L39; Ribosomal protein L39e  \n",
       "44              Ribosomal_L39; Ribosomal protein L39e  \n",
       "45           BPL_C; Biotin protein ligase, C-terminal  \n",
       "46                      Eisosome1; Eisosome protein 1  \n",
       "47               Med6; Mediator complex, subunit Med6  \n",
       "48                                  N1221; N1221-like  \n",
       "49  VPS53_C; Vacuolar protein sorting-associated p...  \n",
       "50  Cut8; Tethering factor for nuclear proteasome ...  \n",
       "51        Rep_fac_C; Replication factor C, C-terminal  \n",
       "52  NAD_binding_3; Aspartate/homoserine dehydrogen...  "
      ]
     },
     "execution_count": 30,
     "metadata": {},
     "output_type": "execute_result"
    }
   ],
   "source": [
    "only_nsl_pd=pd.merge(repeated_features_sl,repeated_features_nsl,how='right',on=['domain-name'])\n",
    "data_only_nsl = only_nsl_pd[pd.isnull(only_nsl_pd['domain-description_x'])]\n",
    "data_only_nsl"
   ]
  },
  {
   "cell_type": "code",
   "execution_count": 31,
   "metadata": {
    "execution": {
     "iopub.execute_input": "2020-07-17T11:09:56.719914Z",
     "iopub.status.busy": "2020-07-17T11:09:56.719355Z",
     "iopub.status.idle": "2020-07-17T11:09:56.725575Z",
     "shell.execute_reply": "2020-07-17T11:09:56.725072Z"
    }
   },
   "outputs": [
    {
     "data": {
      "text/html": [
       "<div>\n",
       "<style scoped>\n",
       "    .dataframe tbody tr th:only-of-type {\n",
       "        vertical-align: middle;\n",
       "    }\n",
       "\n",
       "    .dataframe tbody tr th {\n",
       "        vertical-align: top;\n",
       "    }\n",
       "\n",
       "    .dataframe thead th {\n",
       "        text-align: right;\n",
       "    }\n",
       "</style>\n",
       "<table border=\"1\" class=\"dataframe\">\n",
       "  <thead>\n",
       "    <tr style=\"text-align: right;\">\n",
       "      <th></th>\n",
       "      <th>domain-name</th>\n",
       "      <th>domain-description_x</th>\n",
       "      <th>domain-description_y</th>\n",
       "    </tr>\n",
       "  </thead>\n",
       "  <tbody>\n",
       "    <tr>\n",
       "      <th>0</th>\n",
       "      <td>PF10261</td>\n",
       "      <td>Ribosomal_S17e; Ribosomal protein S17e</td>\n",
       "      <td>Ribosomal_S17e; Ribosomal protein S17e</td>\n",
       "    </tr>\n",
       "  </tbody>\n",
       "</table>\n",
       "</div>"
      ],
      "text/plain": [
       "  domain-name                    domain-description_x  \\\n",
       "0     PF10261  Ribosomal_S17e; Ribosomal protein S17e   \n",
       "\n",
       "                     domain-description_y  \n",
       "0  Ribosomal_S17e; Ribosomal protein S17e  "
      ]
     },
     "execution_count": 31,
     "metadata": {},
     "output_type": "execute_result"
    }
   ],
   "source": [
    "shared_domains_pd=pd.merge(repeated_features_sl,repeated_features_nsl,how='inner',on=['domain-name'])\n",
    "shared_domains_pd\n"
   ]
  },
  {
   "cell_type": "code",
   "execution_count": 32,
   "metadata": {
    "execution": {
     "iopub.execute_input": "2020-07-17T11:09:56.739047Z",
     "iopub.status.busy": "2020-07-17T11:09:56.737327Z",
     "iopub.status.idle": "2020-07-17T11:09:58.522637Z",
     "shell.execute_reply": "2020-07-17T11:09:58.521924Z"
    }
   },
   "outputs": [
    {
     "data": {
      "text/plain": [
       "(0.0, 0.2)"
      ]
     },
     "execution_count": 32,
     "metadata": {},
     "output_type": "execute_result"
    },
    {
     "data": {
      "image/png": "[encoded data removed]",
      "text/plain": [
       "<Figure size 432x288 with 1 Axes>"
      ]
     },
     "metadata": {
      "filenames": {
       "image/png": "/home/runner/work/jupyter-book/jupyter-book/mini_book/docs/_build/jupyter_execute/prot_domains2lethality-FEATURES-POSTPROCESSING_47_1.png"
      },
      "needs_background": "light"
     },
     "output_type": "display_data"
    }
   ],
   "source": [
    "a_sl=x_sl.iloc[:,np.sort(df_sl.iloc[:,1])]\n",
    "a_sl.describe().loc['mean'].hist(bins=8),\n",
    "a_sl.describe().loc['std'].hist(bins=8,alpha=0.4)\n",
    "plt.xlim([0,0.2])"
   ]
  },
  {
   "cell_type": "code",
   "execution_count": 33,
   "metadata": {
    "execution": {
     "iopub.execute_input": "2020-07-17T11:09:58.538405Z",
     "iopub.status.busy": "2020-07-17T11:09:58.534934Z",
     "iopub.status.idle": "2020-07-17T11:10:00.339451Z",
     "shell.execute_reply": "2020-07-17T11:10:00.338971Z"
    }
   },
   "outputs": [
    {
     "data": {
      "text/plain": [
       "(0.0, 0.2)"
      ]
     },
     "execution_count": 33,
     "metadata": {},
     "output_type": "execute_result"
    },
    {
     "data": {
      "image/png": "[encoded data removed]",
      "text/plain": [
       "<Figure size 432x288 with 1 Axes>"
      ]
     },
     "metadata": {
      "filenames": {
       "image/png": "/home/runner/work/jupyter-book/jupyter-book/mini_book/docs/_build/jupyter_execute/prot_domains2lethality-FEATURES-POSTPROCESSING_48_1.png"
      },
      "needs_background": "light"
     },
     "output_type": "display_data"
    }
   ],
   "source": [
    "a_nsl=x_nsl.iloc[:,np.sort(df_nsl.iloc[:,1])]\n",
    "a_nsl.describe().loc['mean'].hist(bins=8),\n",
    "a_nsl.describe().loc['std'].hist(bins=8,alpha=0.4)\n",
    "plt.xlim([0,0.2])"
   ]
  },
  {
   "cell_type": "markdown",
   "metadata": {},
   "source": [
    "### Proof of concept with *BEM1*\n",
    "\n",
    "- Gather the domains of SL and nSL pairs from BEM1\n",
    "- Check if the domains for the SL and nSL pairs are inside the most important domains after PCA."
   ]
  },
  {
   "cell_type": "code",
   "execution_count": 34,
   "metadata": {
    "execution": {
     "iopub.execute_input": "2020-07-17T11:10:00.347629Z",
     "iopub.status.busy": "2020-07-17T11:10:00.347113Z",
     "iopub.status.idle": "2020-07-17T11:10:00.350250Z",
     "shell.execute_reply": "2020-07-17T11:10:00.350941Z"
    }
   },
   "outputs": [],
   "source": [
    "domains_bem1=data_domains[data_domains['name']=='BEM1']['domain-descrip']\n",
    "sl_bem1=data_sl[data_sl['gene-query-name']=='BEM1']['gene-target-name']"
   ]
  },
  {
   "cell_type": "code",
   "execution_count": 35,
   "metadata": {
    "execution": {
     "iopub.execute_input": "2020-07-17T11:10:00.355821Z",
     "iopub.status.busy": "2020-07-17T11:10:00.355002Z",
     "iopub.status.idle": "2020-07-17T11:10:00.360413Z",
     "shell.execute_reply": "2020-07-17T11:10:00.360857Z"
    }
   },
   "outputs": [
    {
     "data": {
      "text/plain": [
       "2846      BEM2\n",
       "2847     CDC24\n",
       "5004      MSB1\n",
       "13777     SMI1\n",
       "13778     BNI1\n",
       "13779     BEM2\n",
       "14385     SKN7\n",
       "Name: gene-target-name, dtype: object"
      ]
     },
     "execution_count": 35,
     "metadata": {},
     "output_type": "execute_result"
    }
   ],
   "source": [
    "sl_bem1"
   ]
  },
  {
   "cell_type": "code",
   "execution_count": 36,
   "metadata": {
    "execution": {
     "iopub.execute_input": "2020-07-17T11:10:00.376535Z",
     "iopub.status.busy": "2020-07-17T11:10:00.375973Z",
     "iopub.status.idle": "2020-07-17T11:10:00.382121Z",
     "shell.execute_reply": "2020-07-17T11:10:00.381619Z"
    }
   },
   "outputs": [
    {
     "data": {
      "text/html": [
       "<div>\n",
       "<style scoped>\n",
       "    .dataframe tbody tr th:only-of-type {\n",
       "        vertical-align: middle;\n",
       "    }\n",
       "\n",
       "    .dataframe tbody tr th {\n",
       "        vertical-align: top;\n",
       "    }\n",
       "\n",
       "    .dataframe thead th {\n",
       "        text-align: right;\n",
       "    }\n",
       "</style>\n",
       "<table border=\"1\" class=\"dataframe\">\n",
       "  <thead>\n",
       "    <tr style=\"text-align: right;\">\n",
       "      <th></th>\n",
       "      <th>gene-query</th>\n",
       "      <th>gene-target</th>\n",
       "      <th>gene-query-name</th>\n",
       "      <th>gene-target-name</th>\n",
       "      <th>gene-query-description</th>\n",
       "      <th>gene-target-description</th>\n",
       "      <th>interaction-type</th>\n",
       "      <th>paper-source</th>\n",
       "    </tr>\n",
       "  </thead>\n",
       "  <tbody>\n",
       "    <tr>\n",
       "      <th>2846</th>\n",
       "      <td>YBR200W</td>\n",
       "      <td>YER155C</td>\n",
       "      <td>BEM1</td>\n",
       "      <td>BEM2</td>\n",
       "      <td>SRO1|phosphatidylinositol-3-phosphate-binding ...</td>\n",
       "      <td>IPL2|SUP9|TSL1|L000000168</td>\n",
       "      <td>Synthetic Lethality</td>\n",
       "      <td>Peterson J (1994)</td>\n",
       "    </tr>\n",
       "    <tr>\n",
       "      <th>2847</th>\n",
       "      <td>YBR200W</td>\n",
       "      <td>YAL041W</td>\n",
       "      <td>BEM1</td>\n",
       "      <td>CDC24</td>\n",
       "      <td>SRO1|phosphatidylinositol-3-phosphate-binding ...</td>\n",
       "      <td>CLS4|Rho family guanine nucleotide exchange fa...</td>\n",
       "      <td>Synthetic Lethality</td>\n",
       "      <td>Peterson J (1994)</td>\n",
       "    </tr>\n",
       "    <tr>\n",
       "      <th>5004</th>\n",
       "      <td>YBR200W</td>\n",
       "      <td>YOR188W</td>\n",
       "      <td>BEM1</td>\n",
       "      <td>MSB1</td>\n",
       "      <td>SRO1|phosphatidylinositol-3-phosphate-binding ...</td>\n",
       "      <td>L000001184</td>\n",
       "      <td>Synthetic Lethality</td>\n",
       "      <td>Bender A (1991)</td>\n",
       "    </tr>\n",
       "    <tr>\n",
       "      <th>13777</th>\n",
       "      <td>YBR200W</td>\n",
       "      <td>YGR229C</td>\n",
       "      <td>BEM1</td>\n",
       "      <td>SMI1</td>\n",
       "      <td>SRO1|phosphatidylinositol-3-phosphate-binding ...</td>\n",
       "      <td>KNR4|L000000909</td>\n",
       "      <td>Synthetic Lethality</td>\n",
       "      <td>Gorelik M (2011)</td>\n",
       "    </tr>\n",
       "    <tr>\n",
       "      <th>13778</th>\n",
       "      <td>YBR200W</td>\n",
       "      <td>YNL271C</td>\n",
       "      <td>BEM1</td>\n",
       "      <td>BNI1</td>\n",
       "      <td>SRO1|phosphatidylinositol-3-phosphate-binding ...</td>\n",
       "      <td>PPF3|SHE5|formin BNI1|L000000190</td>\n",
       "      <td>Synthetic Lethality</td>\n",
       "      <td>Gorelik M (2011)</td>\n",
       "    </tr>\n",
       "    <tr>\n",
       "      <th>13779</th>\n",
       "      <td>YBR200W</td>\n",
       "      <td>YER155C</td>\n",
       "      <td>BEM1</td>\n",
       "      <td>BEM2</td>\n",
       "      <td>SRO1|phosphatidylinositol-3-phosphate-binding ...</td>\n",
       "      <td>IPL2|SUP9|TSL1|L000000168</td>\n",
       "      <td>Synthetic Lethality</td>\n",
       "      <td>Gorelik M (2011)</td>\n",
       "    </tr>\n",
       "    <tr>\n",
       "      <th>14385</th>\n",
       "      <td>YBR200W</td>\n",
       "      <td>YHR206W</td>\n",
       "      <td>BEM1</td>\n",
       "      <td>SKN7</td>\n",
       "      <td>SRO1|phosphatidylinositol-3-phosphate-binding ...</td>\n",
       "      <td>BRY1|POS9|kinase-regulated stress-responsive t...</td>\n",
       "      <td>Dosage Lethality</td>\n",
       "      <td>Bouquin N (1999)</td>\n",
       "    </tr>\n",
       "  </tbody>\n",
       "</table>\n",
       "</div>"
      ],
      "text/plain": [
       "      gene-query gene-target gene-query-name gene-target-name  \\\n",
       "2846     YBR200W     YER155C            BEM1             BEM2   \n",
       "2847     YBR200W     YAL041W            BEM1            CDC24   \n",
       "5004     YBR200W     YOR188W            BEM1             MSB1   \n",
       "13777    YBR200W     YGR229C            BEM1             SMI1   \n",
       "13778    YBR200W     YNL271C            BEM1             BNI1   \n",
       "13779    YBR200W     YER155C            BEM1             BEM2   \n",
       "14385    YBR200W     YHR206W            BEM1             SKN7   \n",
       "\n",
       "                                  gene-query-description  \\\n",
       "2846   SRO1|phosphatidylinositol-3-phosphate-binding ...   \n",
       "2847   SRO1|phosphatidylinositol-3-phosphate-binding ...   \n",
       "5004   SRO1|phosphatidylinositol-3-phosphate-binding ...   \n",
       "13777  SRO1|phosphatidylinositol-3-phosphate-binding ...   \n",
       "13778  SRO1|phosphatidylinositol-3-phosphate-binding ...   \n",
       "13779  SRO1|phosphatidylinositol-3-phosphate-binding ...   \n",
       "14385  SRO1|phosphatidylinositol-3-phosphate-binding ...   \n",
       "\n",
       "                                 gene-target-description     interaction-type  \\\n",
       "2846                           IPL2|SUP9|TSL1|L000000168  Synthetic Lethality   \n",
       "2847   CLS4|Rho family guanine nucleotide exchange fa...  Synthetic Lethality   \n",
       "5004                                          L000001184  Synthetic Lethality   \n",
       "13777                                    KNR4|L000000909  Synthetic Lethality   \n",
       "13778                   PPF3|SHE5|formin BNI1|L000000190  Synthetic Lethality   \n",
       "13779                          IPL2|SUP9|TSL1|L000000168  Synthetic Lethality   \n",
       "14385  BRY1|POS9|kinase-regulated stress-responsive t...     Dosage Lethality   \n",
       "\n",
       "            paper-source  \n",
       "2846   Peterson J (1994)  \n",
       "2847   Peterson J (1994)  \n",
       "5004     Bender A (1991)  \n",
       "13777   Gorelik M (2011)  \n",
       "13778   Gorelik M (2011)  \n",
       "13779   Gorelik M (2011)  \n",
       "14385   Bouquin N (1999)  "
      ]
     },
     "execution_count": 36,
     "metadata": {},
     "output_type": "execute_result"
    }
   ],
   "source": [
    "data_sl[data_sl['gene-query-name']=='BEM1']"
   ]
  },
  {
   "cell_type": "code",
   "execution_count": null,
   "metadata": {},
   "outputs": [],
   "source": []
  }
 ],
 "metadata": {
  "jupytext": {
   "text_representation": {
    "extension": ".md",
    "format_name": "myst"
   }
  },
  "kernelspec": {
   "display_name": "Python 3",
   "language": "python",
   "name": "python3"
  },
  "language_info": {
   "codemirror_mode": {
    "name": "ipython",
    "version": 3
   },
   "file_extension": ".py",
   "mimetype": "text/x-python",
   "name": "python",
   "nbconvert_exporter": "python",
   "pygments_lexer": "ipython3",
   "version": "3.7.6"
  },
  "source_map": [
   10,
   18,
   29,
   36,
   57,
   66,
   98,
   101,
   105,
   128,
   131,
   135,
   139,
   145,
   178,
   184,
   188,
   206,
   210,
   218,
   222,
   225,
   229,
   234,
   238,
   244,
   248,
   253,
   257,
   267,
   269,
   273,
   306,
   311,
   313,
   317,
   328,
   330,
   334,
   344,
   348,
   358,
   360,
   364,
   381,
   388,
   394,
   400,
   407,
   412,
   419,
   424,
   428,
   432
  ]
 },
 "nbformat": 4,
 "nbformat_minor": 4
}