{
 "cells": [
  {
   "cell_type": "markdown",
   "metadata": {},
   "source": [
    "# Feature postprocessing from paper.\n",
    "- Title:  \"Predicting yeast synthetic lethal genetic interactions using protein domains\"\n",
    "- Authors: Bo Li, Feng Luo,School of Computing,Clemson University,Clemson, SC, USA\n",
    "- e-mail: bol, luofeng@clemson.edu\n",
    "- year:2009"
   ]
  },
  {
   "cell_type": "code",
   "execution_count": 1,
   "metadata": {
    "execution": {
     "iopub.execute_input": "2020-07-14T11:03:56.179739Z",
     "iopub.status.busy": "2020-07-14T11:03:56.178347Z",
     "iopub.status.idle": "2020-07-14T11:03:56.932508Z",
     "shell.execute_reply": "2020-07-14T11:03:56.931892Z"
    }
   },
   "outputs": [],
   "source": [
    "import pandas as pd\n",
    "import numpy as np\n",
    "import matplotlib.pyplot as plt\n",
    "from collections import defaultdict \n",
    "import seaborn as sns\n",
    "import matplotlib.cm as cm\n",
    "import scipy as scipy\n",
    "import random"
   ]
  },
  {
   "cell_type": "markdown",
   "metadata": {
    "jupyter": {
     "source_hidden": true
    }
   },
   "source": [
    "### Importing datasets \n",
    "\n",
    "#### Link to the github repo where the datasets to be downloaded:\n",
    "[DOWNLOAD THE DATASETS HERE](https://github.com/leilaicruz/machine-learning-for-yeast/tree/dev_Leila/datasets-for-learning)"
   ]
  },
  {
   "cell_type": "code",
   "execution_count": 2,
   "metadata": {
    "execution": {
     "iopub.execute_input": "2020-07-14T11:03:56.939182Z",
     "iopub.status.busy": "2020-07-14T11:03:56.938458Z",
     "iopub.status.idle": "2020-07-14T11:04:04.533995Z",
     "shell.execute_reply": "2020-07-14T11:04:04.532949Z"
    }
   },
   "outputs": [],
   "source": [
    "import os\n",
    "script_dir = os.path.dirname('__file__') #<-- absolute dir the script is in\n",
    "rel_path_SL = \"datasets/data-synthetic-lethals.xlsx\"\n",
    "rel_path_nSL=\"datasets/data-positive-genetic.xlsx\"\n",
    "rel_path_domains=\"datasets/proteins-domains-from-Pfam.xlsx\"\n",
    "\n",
    "abs_file_path_SL = os.path.join(script_dir, rel_path_SL)\n",
    "abs_file_path_nSL = os.path.join(script_dir, rel_path_nSL)\n",
    "abs_file_path_domains = os.path.join(script_dir, rel_path_domains)\n",
    "\n",
    "# os.chdir('mini_book/docs/') #<-- for binder os.chdir('../')\n",
    "# os.chdir('../')\n",
    "my_path_sl= abs_file_path_SL\n",
    "my_path_non_sl=abs_file_path_nSL\n",
    "my_path_domains=abs_file_path_domains\n",
    "\n",
    "data_sl=pd.read_excel(my_path_sl,header=0)\n",
    "data_domains=pd.read_excel(my_path_domains,header=0,index_col='Unnamed: 0')\n",
    "data_domains=data_domains.dropna()\n",
    "data_nonsl=pd.read_excel(my_path_non_sl,header=0)"
   ]
  },
  {
   "cell_type": "markdown",
   "metadata": {},
   "source": [
    "## Building the feature matrix\n",
    "One matrix for true SL where each row is one pair of SL. Every raw will be a vector of 0,1 or 2 depending on the comparison with the domain list. For row i the jth element = 0 if the jth element of the domain list is not in neither protein A and B, 1, if it is in one of them and 2 if it is in both of them .\n",
    "\n",
    "### Building the list of proteins domains id per protein pair separately :\n",
    "- List of protein A: Search for the Sl/nSL database the query gene name and look in the protein domain database which protein domains id has each of those queries.\n",
    "- List of protein B: Search for the Sl/nSL database the target gene name of the previous query and look in the protein domain database which protein domains id has each of those target genes."
   ]
  },
  {
   "cell_type": "code",
   "execution_count": 3,
   "metadata": {
    "execution": {
     "iopub.execute_input": "2020-07-14T11:04:04.550326Z",
     "iopub.status.busy": "2020-07-14T11:04:04.547336Z",
     "iopub.status.idle": "2020-07-14T11:04:06.787967Z",
     "shell.execute_reply": "2020-07-14T11:04:06.787479Z"
    }
   },
   "outputs": [],
   "source": [
    "# Selecting the meaningful columns in the respective dataset\n",
    "domain_id_list=data_domains['domain-name']\n",
    "query_gene=data_sl['gene-query-name']\n",
    "target_gene=data_sl['gene-target-name']\n",
    "query_gene_nonlethal=data_nonsl['gene-query-name']\n",
    "target_gene_nonlethal=data_nonsl['gene-target-name']\n",
    "\n",
    "\n",
    "\n",
    "# Initialising the arrays\n",
    "protein_a_list=[]\n",
    "protein_b_list=[]\n",
    "protein_a_list_non=[]\n",
    "protein_b_list_non=[]\n",
    "\n",
    "population = np.arange(0,len(data_sl))\n",
    "\n",
    "# For loop for 10000 pairs sampled randomly from the SL/nSl pair list , and creating a big array of proteind domains id per protein pair\n",
    "\n",
    "for m in random.sample(list(population), 500):\n",
    "    protein_a=data_domains[data_domains['name']==query_gene[m]]\n",
    "    protein_b=data_domains[data_domains['name']==target_gene[m]]\n",
    "    protein_a_list.append(protein_a['domain-name'].tolist())\n",
    "    protein_b_list.append(protein_b['domain-name'].tolist())\n",
    "\n",
    "    protein_a_non=data_domains[data_domains['name']==query_gene_nonlethal[m]]\n",
    "    protein_b_non=data_domains[data_domains['name']==target_gene_nonlethal[m]]\n",
    "    protein_a_list_non.append(protein_a_non['domain-name'].tolist())\n",
    "    protein_b_list_non.append(protein_b_non['domain-name'].tolist())"
   ]
  },
  {
   "cell_type": "code",
   "execution_count": 4,
   "metadata": {
    "execution": {
     "iopub.execute_input": "2020-07-14T11:04:06.794173Z",
     "iopub.status.busy": "2020-07-14T11:04:06.793625Z",
     "iopub.status.idle": "2020-07-14T11:04:06.799315Z",
     "shell.execute_reply": "2020-07-14T11:04:06.799763Z"
    }
   },
   "outputs": [
    {
     "name": "stdout",
     "output_type": "stream",
     "text": [
      "We are going to analyze 500 protein pairs, out of 17871 SL protein pairs\n",
      "We are going to analyze 500 protein pairs, out of 43340 positive protein pairs\n"
     ]
    }
   ],
   "source": [
    "print('We are going to analyze',len((protein_a_list)) ,'protein pairs, out of',len(data_sl),'SL protein pairs')\n",
    "print('We are going to analyze',len((protein_a_list_non)) ,'protein pairs, out of',len(data_nonsl),'positive protein pairs')"
   ]
  },
  {
   "cell_type": "markdown",
   "metadata": {},
   "source": [
    "### Postprocessing #1:  Remove protein pairs from study if either protein in the pair does not contain any domain"
   ]
  },
  {
   "cell_type": "code",
   "execution_count": 5,
   "metadata": {
    "execution": {
     "iopub.execute_input": "2020-07-14T11:04:06.809329Z",
     "iopub.status.busy": "2020-07-14T11:04:06.808743Z",
     "iopub.status.idle": "2020-07-14T11:04:06.812397Z",
     "shell.execute_reply": "2020-07-14T11:04:06.813117Z"
    }
   },
   "outputs": [],
   "source": [
    "def remove_empty_domains(protein_list_search,protein_list_pair):\n",
    "    index=[]\n",
    "    for i in np.arange(0,len(protein_list_search)):\n",
    "        if protein_list_search[i]==[] or protein_list_pair[i]==[]:\n",
    "            index.append(i) ## index of empty values for the protein_a_list meaning they dont have any annotated domain\n",
    "\n",
    "    y=[x for x in np.arange(0,len(protein_list_search)) if x not in index] # a list with non empty values from protein_a list\n",
    "\n",
    "    protein_list_search_new=[]\n",
    "    protein_list_pair_new=[]\n",
    "    for i in y:\n",
    "        protein_list_search_new.append(protein_list_search[i])\n",
    "        protein_list_pair_new.append(protein_list_pair[i])\n",
    "    return protein_list_search_new,protein_list_pair_new\n",
    "\n",
    "## evaluating the function\n",
    "\n",
    "protein_a_list_new,protein_b_list_new=remove_empty_domains(protein_a_list,protein_b_list)\n",
    "\n",
    "protein_a_list_non_new,protein_b_list_non_new=remove_empty_domains(protein_a_list_non,protein_b_list_non)"
   ]
  },
  {
   "cell_type": "code",
   "execution_count": 6,
   "metadata": {
    "execution": {
     "iopub.execute_input": "2020-07-14T11:04:06.817803Z",
     "iopub.status.busy": "2020-07-14T11:04:06.817173Z",
     "iopub.status.idle": "2020-07-14T11:04:06.823168Z",
     "shell.execute_reply": "2020-07-14T11:04:06.822625Z"
    }
   },
   "outputs": [
    {
     "name": "stdout",
     "output_type": "stream",
     "text": [
      "The empty domain in the SL were: 79 out of 500 domains\n",
      "The empty domain in the nSL were: 88 out of 500 domains\n"
     ]
    }
   ],
   "source": [
    "print('The empty domain in the SL were:', len(protein_a_list)-len(protein_a_list_new), 'out of', len(protein_a_list),'domains')\n",
    "print('The empty domain in the nSL were:', len(protein_a_list_non)-len(protein_a_list_non_new), 'out of', len(protein_a_list_non),'domains')"
   ]
  },
  {
   "cell_type": "markdown",
   "metadata": {},
   "source": [
    "### Feature engineering: Select from each ordered indexes of domain id list which of them appear once, in both or in any of the domains of each protein pair"
   ]
  },
  {
   "cell_type": "markdown",
   "metadata": {},
   "source": [
    "#### Define function `get_indexes`"
   ]
  },
  {
   "cell_type": "code",
   "execution_count": 7,
   "metadata": {
    "execution": {
     "iopub.execute_input": "2020-07-14T11:04:06.829698Z",
     "iopub.status.busy": "2020-07-14T11:04:06.829058Z",
     "iopub.status.idle": "2020-07-14T11:04:06.834514Z",
     "shell.execute_reply": "2020-07-14T11:04:06.834978Z"
    }
   },
   "outputs": [
    {
     "data": {
      "text/plain": [
       "[1, 2]"
      ]
     },
     "execution_count": 7,
     "metadata": {},
     "output_type": "execute_result"
    }
   ],
   "source": [
    "get_indexes = lambda x, xs: [i for (y, i) in zip(xs, range(len(xs))) if x == y] # a function that give the index of whether a value appear in array or not\n",
    "a=[1,2,2,4,5,6,7,8,9,10]\n",
    "get_indexes(2,a)"
   ]
  },
  {
   "cell_type": "code",
   "execution_count": 8,
   "metadata": {
    "execution": {
     "iopub.execute_input": "2020-07-14T11:04:06.844413Z",
     "iopub.status.busy": "2020-07-14T11:04:06.842383Z",
     "iopub.status.idle": "2020-07-14T11:04:06.847330Z",
     "shell.execute_reply": "2020-07-14T11:04:06.847789Z"
    }
   },
   "outputs": [],
   "source": [
    "def feature_building(protein_a_list_new,protein_b_list_new):\n",
    "    x = np.unique(domain_id_list)\n",
    "    ## To avoid taking repeated domains from one protein of the pairs , lets reduced the domains of each protein from the pairs to their unique members\n",
    "    protein_a_list_unique=[]\n",
    "    protein_b_list_unique=[]\n",
    "    for i in np.arange(0,len(protein_a_list_new)):\n",
    "        protein_a_list_unique.append(np.unique(protein_a_list_new[i]))\n",
    "        protein_b_list_unique.append(np.unique(protein_b_list_new[i]))\n",
    "        \n",
    "    protein_feat_true=np.zeros(shape=(len(x),len(protein_a_list_unique)))\n",
    "    pair_a_b_array=[]\n",
    "    for i in np.arange(0,len(protein_a_list_unique)):\n",
    "        index_a=[]\n",
    "        \n",
    "        pair=[protein_a_list_unique[i],protein_b_list_unique[i]]\n",
    "        pair_a_b=np.concatenate(pair).ravel()\n",
    "        pair_a_b_array.append(pair_a_b)\n",
    "\n",
    "    j=0\n",
    "    for i in pair_a_b_array:  \n",
    "        array,index,counts=np.unique(i,return_index=True,return_counts=True)\n",
    "        \n",
    "        for k,m in zip(counts,array):\n",
    "            if k ==2:\n",
    "                protein_feat_true[get_indexes(m,x),j]=2\n",
    "                \n",
    "            if k==1:\n",
    "                protein_feat_true[get_indexes(m,x),j]=1\n",
    "        j=j+1\n",
    "    return protein_feat_true"
   ]
  },
  {
   "cell_type": "code",
   "execution_count": 9,
   "metadata": {
    "execution": {
     "iopub.execute_input": "2020-07-14T11:04:06.857838Z",
     "iopub.status.busy": "2020-07-14T11:04:06.856039Z",
     "iopub.status.idle": "2020-07-14T11:04:07.619773Z",
     "shell.execute_reply": "2020-07-14T11:04:07.618843Z"
    }
   },
   "outputs": [],
   "source": [
    "protein_feat_true=feature_building(protein_b_list_new=protein_b_list_new,protein_a_list_new=protein_a_list_new)\n",
    "protein_feat_true_pd=pd.DataFrame(protein_feat_true.T)\n",
    "\n",
    "protein_feat_non_true=feature_building(protein_b_list_new=protein_b_list_non_new,protein_a_list_new=protein_a_list_non_new)\n",
    "protein_feat_non_true_pd=pd.DataFrame(protein_feat_non_true.T)"
   ]
  },
  {
   "cell_type": "markdown",
   "metadata": {},
   "source": [
    "### How many ones and twos are in each dataset"
   ]
  },
  {
   "cell_type": "code",
   "execution_count": 10,
   "metadata": {
    "execution": {
     "iopub.execute_input": "2020-07-14T11:04:07.627324Z",
     "iopub.status.busy": "2020-07-14T11:04:07.626412Z",
     "iopub.status.idle": "2020-07-14T11:04:07.716254Z",
     "shell.execute_reply": "2020-07-14T11:04:07.715370Z"
    }
   },
   "outputs": [
    {
     "name": "stdout",
     "output_type": "stream",
     "text": [
      "fraction of twos in the SL array is 2.198621935179914e-05\n",
      "fraction of ones in the SL array is 0.001015292200781296\n",
      "fraction of twos in the PI array is 1.4442750541603146e-05\n",
      "fraction of ones in the PI array is 0.0008890315333386826\n"
     ]
    }
   ],
   "source": [
    "index_2_true=protein_feat_true_pd.where(protein_feat_true_pd==2)\n",
    "index_2_true_count=index_2_true.count(axis=1).sum()\n",
    "\n",
    "index_1_true=protein_feat_true_pd.where(protein_feat_true_pd==1)\n",
    "index_1_true_count=index_1_true.count(axis=1).sum()\n",
    "\n",
    "index_2_nontrue=protein_feat_non_true_pd.where(protein_feat_non_true_pd==2)\n",
    "index_2_nontrue_count=index_2_nontrue.count(axis=1).sum()\n",
    "\n",
    "index_1_nontrue=protein_feat_non_true_pd.where(protein_feat_non_true_pd==1)\n",
    "index_1_nontrue_count=index_1_nontrue.count(axis=1).sum()\n",
    "\n",
    "\n",
    "print('fraction of twos in the SL array is',index_2_true_count/(len(protein_feat_true_pd.index)*len(protein_feat_true_pd.columns)))\n",
    "print('fraction of ones in the SL array is',index_1_true_count/(len(protein_feat_true_pd.index)*len(protein_feat_true_pd.columns)))\n",
    "print('fraction of twos in the PI array is',index_2_nontrue_count/(len(protein_feat_non_true_pd.index)*len(protein_feat_non_true_pd.columns)))\n",
    "print('fraction of ones in the PI array is',index_1_nontrue_count/(len(protein_feat_non_true_pd.index)*len(protein_feat_non_true_pd.columns)))"
   ]
  },
  {
   "cell_type": "markdown",
   "metadata": {},
   "source": [
    "#### Bar plot to visualize these numbers"
   ]
  },
  {
   "cell_type": "code",
   "execution_count": 11,
   "metadata": {
    "execution": {
     "iopub.execute_input": "2020-07-14T11:04:07.723248Z",
     "iopub.status.busy": "2020-07-14T11:04:07.722629Z",
     "iopub.status.idle": "2020-07-14T11:04:08.122618Z",
     "shell.execute_reply": "2020-07-14T11:04:08.123103Z"
    }
   },
   "outputs": [
    {
     "data": {
      "text/plain": [
       "([0, 1, 2, 3], <a list of 4 Text major ticklabel objects>)"
      ]
     },
     "execution_count": 11,
     "metadata": {},
     "output_type": "execute_result"
    },
    {
     "data": {
      "image/png": "[encoded data removed]",
      "text/plain": [
       "<Figure size 432x288 with 1 Axes>"
      ]
     },
     "metadata": {
      "filenames": {
       "image/png": "/home/runner/work/jupyter-book/jupyter-book/mini_book/docs/_build/jupyter_execute/prot_domains2lethality-FEATURES-POSTPROCESSING_18_1.png"
      },
      "needs_background": "light"
     },
     "output_type": "display_data"
    }
   ],
   "source": [
    "plt.bar(['fraction of 2 in the nSL','fraction of 1 in the nSL'],[index_2_nontrue_count/(len(protein_feat_non_true_pd.index)*len(protein_feat_non_true_pd.columns)),index_1_nontrue_count/(len(protein_feat_non_true_pd.index)*len(protein_feat_non_true_pd.columns))],alpha=0.6,color=['blue','lightblue']), \n",
    "\n",
    "plt.bar(['fraction of 2 in SL ','fraction of 1 in SL'],[index_2_true_count/(len(protein_feat_true_pd.index)*len(protein_feat_true_pd.columns)),index_1_true_count/(len(protein_feat_true_pd.index)*len(protein_feat_true_pd.columns))],alpha=0.6,color=['coral','lightcoral'])\n",
    "\n",
    "plt.ylabel('Fraction from the population')\n",
    "plt.yscale('log')\n",
    "plt.xticks(rotation=40)"
   ]
  },
  {
   "cell_type": "markdown",
   "metadata": {},
   "source": [
    "#### Adding the labels(response variables) to each dataset"
   ]
  },
  {
   "cell_type": "code",
   "execution_count": 12,
   "metadata": {
    "execution": {
     "iopub.execute_input": "2020-07-14T11:04:08.129373Z",
     "iopub.status.busy": "2020-07-14T11:04:08.128261Z",
     "iopub.status.idle": "2020-07-14T11:04:08.132371Z",
     "shell.execute_reply": "2020-07-14T11:04:08.131869Z"
    }
   },
   "outputs": [],
   "source": [
    "protein_feat_true_pd['lethality']=np.ones(shape=(len(protein_a_list_new)))\n",
    "protein_feat_non_true_pd['lethality']=np.zeros(shape=(len(protein_a_list_non_new)))"
   ]
  },
  {
   "cell_type": "markdown",
   "metadata": {},
   "source": [
    "#### Joining both datasets"
   ]
  },
  {
   "cell_type": "code",
   "execution_count": 13,
   "metadata": {
    "execution": {
     "iopub.execute_input": "2020-07-14T11:04:08.137072Z",
     "iopub.status.busy": "2020-07-14T11:04:08.136330Z",
     "iopub.status.idle": "2020-07-14T11:04:08.172834Z",
     "shell.execute_reply": "2020-07-14T11:04:08.172181Z"
    }
   },
   "outputs": [
    {
     "name": "stdout",
     "output_type": "stream",
     "text": [
      "The number of features are: 3026\n",
      "The number of samples are: 833\n"
     ]
    }
   ],
   "source": [
    "feature_post=pd.concat([protein_feat_true_pd,protein_feat_non_true_pd],axis=0)\n",
    "feature_post=feature_post.set_index(np.arange(0,len(protein_a_list_new)+len(protein_a_list_non_new)))\n",
    "print('The number of features are:',feature_post.shape[1])\n",
    "print('The number of samples are:',feature_post.shape[0])"
   ]
  },
  {
   "cell_type": "markdown",
   "metadata": {},
   "source": [
    "### Postprocessing and exploration of the feature matrix of both datasets"
   ]
  },
  {
   "cell_type": "code",
   "execution_count": 14,
   "metadata": {
    "execution": {
     "iopub.execute_input": "2020-07-14T11:04:08.188258Z",
     "iopub.status.busy": "2020-07-14T11:04:08.177575Z",
     "iopub.status.idle": "2020-07-14T11:04:13.432714Z",
     "shell.execute_reply": "2020-07-14T11:04:13.431725Z"
    }
   },
   "outputs": [],
   "source": [
    "mean=feature_post.T.describe().loc['mean']\n",
    "std=feature_post.T.describe().loc['std']\n",
    "lethality=feature_post['lethality']\n",
    "\n",
    "corr_keys=pd.concat([mean,std,lethality],axis=1)"
   ]
  },
  {
   "cell_type": "markdown",
   "metadata": {},
   "source": [
    "### Viz of the stats"
   ]
  },
  {
   "cell_type": "code",
   "execution_count": 15,
   "metadata": {
    "execution": {
     "iopub.execute_input": "2020-07-14T11:04:13.448699Z",
     "iopub.status.busy": "2020-07-14T11:04:13.442854Z",
     "iopub.status.idle": "2020-07-14T11:04:15.375103Z",
     "shell.execute_reply": "2020-07-14T11:04:15.375897Z"
    }
   },
   "outputs": [
    {
     "data": {
      "text/plain": [
       "Text(0.5, 1.08, 'Pairplot to see data dependencies with Lethality')"
      ]
     },
     "execution_count": 15,
     "metadata": {},
     "output_type": "execute_result"
    },
    {
     "data": {
      "image/png": "[encoded data removed]",
      "text/plain": [
       "<Figure size 412x360 with 6 Axes>"
      ]
     },
     "metadata": {
      "filenames": {
       "image/png": "/home/runner/work/jupyter-book/jupyter-book/mini_book/docs/_build/jupyter_execute/prot_domains2lethality-FEATURES-POSTPROCESSING_26_1.png"
      },
      "needs_background": "light"
     },
     "output_type": "display_data"
    }
   ],
   "source": [
    "pair=sns.pairplot(corr_keys,hue='lethality',diag_kind='kde',kind='reg',palette='colorblind')\n",
    "pair.fig.suptitle('Pairplot to see data dependencies with Lethality',y=1.08)"
   ]
  },
  {
   "cell_type": "code",
   "execution_count": 16,
   "metadata": {
    "execution": {
     "iopub.execute_input": "2020-07-14T11:04:15.387857Z",
     "iopub.status.busy": "2020-07-14T11:04:15.380778Z",
     "iopub.status.idle": "2020-07-14T11:04:15.391741Z",
     "shell.execute_reply": "2020-07-14T11:04:15.390904Z"
    }
   },
   "outputs": [],
   "source": [
    "X, y = feature_post.drop(columns=[\"lethality\"]), feature_post[\"lethality\"]"
   ]
  },
  {
   "cell_type": "code",
   "execution_count": 17,
   "metadata": {
    "execution": {
     "iopub.execute_input": "2020-07-14T11:04:15.397018Z",
     "iopub.status.busy": "2020-07-14T11:04:15.396030Z",
     "iopub.status.idle": "2020-07-14T11:04:15.534145Z",
     "shell.execute_reply": "2020-07-14T11:04:15.533590Z"
    }
   },
   "outputs": [],
   "source": [
    "from sklearn.preprocessing import StandardScaler\n",
    "scaler = StandardScaler()\n",
    "x_sl=protein_feat_true_pd.drop(columns=['lethality'])\n",
    "x_nsl=protein_feat_non_true_pd.drop(columns=['lethality'])\n",
    "\n",
    "X_sl_scaled = scaler.fit_transform(x_sl)\n",
    "X_nsl_scaled = scaler.fit_transform(x_nsl)"
   ]
  },
  {
   "cell_type": "code",
   "execution_count": 18,
   "metadata": {
    "execution": {
     "iopub.execute_input": "2020-07-14T11:04:15.539329Z",
     "iopub.status.busy": "2020-07-14T11:04:15.538505Z",
     "iopub.status.idle": "2020-07-14T11:04:15.541476Z",
     "shell.execute_reply": "2020-07-14T11:04:15.541986Z"
    }
   },
   "outputs": [
    {
     "data": {
      "text/plain": [
       "(421, 3025)"
      ]
     },
     "execution_count": 18,
     "metadata": {},
     "output_type": "execute_result"
    }
   ],
   "source": [
    "np.shape(X_sl_scaled)"
   ]
  },
  {
   "cell_type": "markdown",
   "metadata": {},
   "source": [
    "## How redundant are each of the protein domains?"
   ]
  },
  {
   "cell_type": "code",
   "execution_count": 19,
   "metadata": {
    "execution": {
     "iopub.execute_input": "2020-07-14T11:04:15.551771Z",
     "iopub.status.busy": "2020-07-14T11:04:15.551138Z",
     "iopub.status.idle": "2020-07-14T11:04:15.552961Z",
     "shell.execute_reply": "2020-07-14T11:04:15.552338Z"
    }
   },
   "outputs": [],
   "source": [
    "def PCA_component_contribution(scaled_matrix,original_data):\n",
    "    from sklearn.decomposition import PCA\n",
    "\n",
    "    model = PCA(0.95).fit(scaled_matrix)\n",
    "    ## apply dimensionality reduction to X_train\n",
    "    output_pca = model.transform(scaled_matrix)\n",
    "    \n",
    "    total=sum(model.explained_variance_)\n",
    "\n",
    "\n",
    "   \n",
    "    # number of components , that it will be the number of main axes times the number of original components \n",
    "    n_pcs= model.components_.shape[0] # the amount of non redundant protein domains \n",
    "\n",
    "    # get the index of the most important feature on EACH component\n",
    "    # LIST COMPREHENSION HERE\n",
    "    most_important = [np.abs(model.components_[i]).argmax() for i in range(n_pcs)]\n",
    "\n",
    "    initial_feature_names = original_data.columns\n",
    "    # get the names\n",
    "    most_important_names = [initial_feature_names[most_important[i]] for i in range(n_pcs)]\n",
    "    \n",
    "\n",
    "    # LIST COMPREHENSION HERE AGAIN\n",
    "    dic = {'PC{}'.format(i): most_important_names[i] for i in range(n_pcs)}\n",
    "\n",
    "    # build the dataframe\n",
    "    df = pd.DataFrame(dic.items(),columns=['pca-component','domain-number'])\n",
    "\n",
    "    return df,model.components_"
   ]
  },
  {
   "cell_type": "code",
   "execution_count": 20,
   "metadata": {
    "execution": {
     "iopub.execute_input": "2020-07-14T11:04:15.556687Z",
     "iopub.status.busy": "2020-07-14T11:04:15.556033Z",
     "iopub.status.idle": "2020-07-14T11:04:16.291204Z",
     "shell.execute_reply": "2020-07-14T11:04:16.291601Z"
    }
   },
   "outputs": [],
   "source": [
    "df_sl,components_pca_nsl=PCA_component_contribution(X_nsl_scaled,x_nsl)\n",
    "df_nsl,components_pca_sl=PCA_component_contribution(X_sl_scaled,x_sl)"
   ]
  },
  {
   "cell_type": "code",
   "execution_count": 21,
   "metadata": {
    "execution": {
     "iopub.execute_input": "2020-07-14T11:04:16.293598Z",
     "iopub.status.busy": "2020-07-14T11:04:16.293144Z",
     "iopub.status.idle": "2020-07-14T11:04:16.300034Z",
     "shell.execute_reply": "2020-07-14T11:04:16.300676Z"
    }
   },
   "outputs": [
    {
     "data": {
      "text/html": [
       "<div>\n",
       "<style scoped>\n",
       "    .dataframe tbody tr th:only-of-type {\n",
       "        vertical-align: middle;\n",
       "    }\n",
       "\n",
       "    .dataframe tbody tr th {\n",
       "        vertical-align: top;\n",
       "    }\n",
       "\n",
       "    .dataframe thead th {\n",
       "        text-align: right;\n",
       "    }\n",
       "</style>\n",
       "<table border=\"1\" class=\"dataframe\">\n",
       "  <thead>\n",
       "    <tr style=\"text-align: right;\">\n",
       "      <th></th>\n",
       "      <th>pca-component</th>\n",
       "      <th>domain-number</th>\n",
       "    </tr>\n",
       "  </thead>\n",
       "  <tbody>\n",
       "    <tr>\n",
       "      <th>0</th>\n",
       "      <td>PC0</td>\n",
       "      <td>1028</td>\n",
       "    </tr>\n",
       "    <tr>\n",
       "      <th>1</th>\n",
       "      <td>PC1</td>\n",
       "      <td>540</td>\n",
       "    </tr>\n",
       "    <tr>\n",
       "      <th>2</th>\n",
       "      <td>PC2</td>\n",
       "      <td>180</td>\n",
       "    </tr>\n",
       "    <tr>\n",
       "      <th>3</th>\n",
       "      <td>PC3</td>\n",
       "      <td>242</td>\n",
       "    </tr>\n",
       "    <tr>\n",
       "      <th>4</th>\n",
       "      <td>PC4</td>\n",
       "      <td>2428</td>\n",
       "    </tr>\n",
       "  </tbody>\n",
       "</table>\n",
       "</div>"
      ],
      "text/plain": [
       "  pca-component  domain-number\n",
       "0           PC0           1028\n",
       "1           PC1            540\n",
       "2           PC2            180\n",
       "3           PC3            242\n",
       "4           PC4           2428"
      ]
     },
     "execution_count": 21,
     "metadata": {},
     "output_type": "execute_result"
    }
   ],
   "source": [
    "df_sl.head()"
   ]
  },
  {
   "cell_type": "markdown",
   "metadata": {},
   "source": [
    "## which are the shared domains between nSL and SL pairs , in the PCA reduced samples"
   ]
  },
  {
   "cell_type": "code",
   "execution_count": 22,
   "metadata": {
    "execution": {
     "iopub.execute_input": "2020-07-14T11:04:16.305529Z",
     "iopub.status.busy": "2020-07-14T11:04:16.305082Z",
     "iopub.status.idle": "2020-07-14T11:04:16.328899Z",
     "shell.execute_reply": "2020-07-14T11:04:16.329296Z"
    }
   },
   "outputs": [
    {
     "data": {
      "text/html": [
       "<div>\n",
       "<style scoped>\n",
       "    .dataframe tbody tr th:only-of-type {\n",
       "        vertical-align: middle;\n",
       "    }\n",
       "\n",
       "    .dataframe tbody tr th {\n",
       "        vertical-align: top;\n",
       "    }\n",
       "\n",
       "    .dataframe thead th {\n",
       "        text-align: right;\n",
       "    }\n",
       "</style>\n",
       "<table border=\"1\" class=\"dataframe\">\n",
       "  <thead>\n",
       "    <tr style=\"text-align: right;\">\n",
       "      <th></th>\n",
       "      <th>pca-component_x</th>\n",
       "      <th>domain-number</th>\n",
       "      <th>pca-component_y</th>\n",
       "      <th>domain-description</th>\n",
       "    </tr>\n",
       "  </thead>\n",
       "  <tbody>\n",
       "    <tr>\n",
       "      <th>0</th>\n",
       "      <td>PC0</td>\n",
       "      <td>1028</td>\n",
       "      <td>PC0</td>\n",
       "      <td>GatB_Yqey; Asn/Gln amidotransferase</td>\n",
       "    </tr>\n",
       "    <tr>\n",
       "      <th>1</th>\n",
       "      <td>PC6</td>\n",
       "      <td>602</td>\n",
       "      <td>PC50</td>\n",
       "      <td>DNA_RNApol_7kD; RNA polymerase archaeal subuni...</td>\n",
       "    </tr>\n",
       "    <tr>\n",
       "      <th>2</th>\n",
       "      <td>PC10</td>\n",
       "      <td>2082</td>\n",
       "      <td>PC24</td>\n",
       "      <td>RXT2_N; Transcriptional regulatory protein RXT...</td>\n",
       "    </tr>\n",
       "    <tr>\n",
       "      <th>3</th>\n",
       "      <td>PC15</td>\n",
       "      <td>877</td>\n",
       "      <td>PC38</td>\n",
       "      <td>FF; FF domain</td>\n",
       "    </tr>\n",
       "    <tr>\n",
       "      <th>4</th>\n",
       "      <td>PC18</td>\n",
       "      <td>55</td>\n",
       "      <td>PC7</td>\n",
       "      <td>ADK</td>\n",
       "    </tr>\n",
       "    <tr>\n",
       "      <th>5</th>\n",
       "      <td>PC21</td>\n",
       "      <td>47</td>\n",
       "      <td>PC116</td>\n",
       "      <td>ACOX; Acyl-CoA oxidase, C-terminal</td>\n",
       "    </tr>\n",
       "    <tr>\n",
       "      <th>6</th>\n",
       "      <td>PC22</td>\n",
       "      <td>926</td>\n",
       "      <td>PC14</td>\n",
       "      <td>Flp_C; Recombinase Flp protein</td>\n",
       "    </tr>\n",
       "    <tr>\n",
       "      <th>7</th>\n",
       "      <td>PC22</td>\n",
       "      <td>926</td>\n",
       "      <td>PC15</td>\n",
       "      <td>Flp_C; Recombinase Flp protein</td>\n",
       "    </tr>\n",
       "    <tr>\n",
       "      <th>8</th>\n",
       "      <td>PC30</td>\n",
       "      <td>463</td>\n",
       "      <td>PC20</td>\n",
       "      <td>Chitin_synth_1N; Chitin synthase N-terminal</td>\n",
       "    </tr>\n",
       "    <tr>\n",
       "      <th>9</th>\n",
       "      <td>PC34</td>\n",
       "      <td>2875</td>\n",
       "      <td>PC39</td>\n",
       "      <td>YchF-GTPase_C; Domain of unknown function DUF933</td>\n",
       "    </tr>\n",
       "    <tr>\n",
       "      <th>10</th>\n",
       "      <td>PC36</td>\n",
       "      <td>1677</td>\n",
       "      <td>PC49</td>\n",
       "      <td>Ost5; Oligosaccharyltransferase complex subunit</td>\n",
       "    </tr>\n",
       "    <tr>\n",
       "      <th>11</th>\n",
       "      <td>PC37</td>\n",
       "      <td>1677</td>\n",
       "      <td>PC49</td>\n",
       "      <td>Ost5; Oligosaccharyltransferase complex subunit</td>\n",
       "    </tr>\n",
       "    <tr>\n",
       "      <th>12</th>\n",
       "      <td>PC46</td>\n",
       "      <td>561</td>\n",
       "      <td>PC77</td>\n",
       "      <td>DASH_Spc34; DASH complex subunit Spc34</td>\n",
       "    </tr>\n",
       "    <tr>\n",
       "      <th>13</th>\n",
       "      <td>PC57</td>\n",
       "      <td>841</td>\n",
       "      <td>PC143</td>\n",
       "      <td>Endonuclease_NS; DNA/RNA non-specific endonucl...</td>\n",
       "    </tr>\n",
       "    <tr>\n",
       "      <th>14</th>\n",
       "      <td>PC59</td>\n",
       "      <td>1106</td>\n",
       "      <td>PC61</td>\n",
       "      <td>HEAT_2</td>\n",
       "    </tr>\n",
       "    <tr>\n",
       "      <th>15</th>\n",
       "      <td>PC60</td>\n",
       "      <td>363</td>\n",
       "      <td>PC207</td>\n",
       "      <td>CLP1_P; Polyribonucleotide 5&amp;apos;-hydroxyl-ki...</td>\n",
       "    </tr>\n",
       "    <tr>\n",
       "      <th>16</th>\n",
       "      <td>PC63</td>\n",
       "      <td>215</td>\n",
       "      <td>PC145</td>\n",
       "      <td>Anticodon_1; Methionyl/Valyl/Leucyl/Isoleucyl-...</td>\n",
       "    </tr>\n",
       "    <tr>\n",
       "      <th>17</th>\n",
       "      <td>PC73</td>\n",
       "      <td>747</td>\n",
       "      <td>PC6</td>\n",
       "      <td>Dak1; DhaK domain</td>\n",
       "    </tr>\n",
       "    <tr>\n",
       "      <th>18</th>\n",
       "      <td>PC74</td>\n",
       "      <td>61</td>\n",
       "      <td>PC126</td>\n",
       "      <td>AGA2</td>\n",
       "    </tr>\n",
       "    <tr>\n",
       "      <th>19</th>\n",
       "      <td>PC74</td>\n",
       "      <td>61</td>\n",
       "      <td>PC132</td>\n",
       "      <td>AGA2</td>\n",
       "    </tr>\n",
       "    <tr>\n",
       "      <th>20</th>\n",
       "      <td>PC75</td>\n",
       "      <td>1044</td>\n",
       "      <td>PC124</td>\n",
       "      <td>Glyco_hydro_16; Glycoside hydrolase family 16</td>\n",
       "    </tr>\n",
       "    <tr>\n",
       "      <th>21</th>\n",
       "      <td>PC81</td>\n",
       "      <td>1046</td>\n",
       "      <td>PC90</td>\n",
       "      <td>Glyco_hydro_18; Glycoside hydrolase family 18,...</td>\n",
       "    </tr>\n",
       "    <tr>\n",
       "      <th>22</th>\n",
       "      <td>PC82</td>\n",
       "      <td>2007</td>\n",
       "      <td>PC17</td>\n",
       "      <td>RNA_pol_L_2; DNA-directed RNA polymerase, RBP1...</td>\n",
       "    </tr>\n",
       "    <tr>\n",
       "      <th>23</th>\n",
       "      <td>PC92</td>\n",
       "      <td>630</td>\n",
       "      <td>PC87</td>\n",
       "      <td>DSPc; Dual specificity phosphatase, catalytic ...</td>\n",
       "    </tr>\n",
       "    <tr>\n",
       "      <th>24</th>\n",
       "      <td>PC96</td>\n",
       "      <td>1340</td>\n",
       "      <td>PC135</td>\n",
       "      <td>Lysine_decarbox; LOG family</td>\n",
       "    </tr>\n",
       "    <tr>\n",
       "      <th>25</th>\n",
       "      <td>PC96</td>\n",
       "      <td>1340</td>\n",
       "      <td>PC136</td>\n",
       "      <td>Lysine_decarbox; LOG family</td>\n",
       "    </tr>\n",
       "    <tr>\n",
       "      <th>26</th>\n",
       "      <td>PC99</td>\n",
       "      <td>1275</td>\n",
       "      <td>PC146</td>\n",
       "      <td>Kinetocho_Slk19; Central kinetochore-associated</td>\n",
       "    </tr>\n",
       "    <tr>\n",
       "      <th>27</th>\n",
       "      <td>PC100</td>\n",
       "      <td>613</td>\n",
       "      <td>PC213</td>\n",
       "      <td>DNA_pol_B; DNA-directed DNA polymerase, family...</td>\n",
       "    </tr>\n",
       "    <tr>\n",
       "      <th>28</th>\n",
       "      <td>PC100</td>\n",
       "      <td>613</td>\n",
       "      <td>PC251</td>\n",
       "      <td>DNA_pol_B; DNA-directed DNA polymerase, family...</td>\n",
       "    </tr>\n",
       "    <tr>\n",
       "      <th>29</th>\n",
       "      <td>PC105</td>\n",
       "      <td>2125</td>\n",
       "      <td>PC144</td>\n",
       "      <td>Rer1; Retrieval of early ER protein Rer1</td>\n",
       "    </tr>\n",
       "    <tr>\n",
       "      <th>30</th>\n",
       "      <td>PC111</td>\n",
       "      <td>63</td>\n",
       "      <td>PC203</td>\n",
       "      <td>AICARFT_IMPCHas; AICARFT/IMPCHase bienzyme</td>\n",
       "    </tr>\n",
       "    <tr>\n",
       "      <th>31</th>\n",
       "      <td>PC117</td>\n",
       "      <td>1265</td>\n",
       "      <td>PC130</td>\n",
       "      <td>Kei1; Protein of unknown function DUF1753, Golgi</td>\n",
       "    </tr>\n",
       "    <tr>\n",
       "      <th>32</th>\n",
       "      <td>PC126</td>\n",
       "      <td>1325</td>\n",
       "      <td>PC176</td>\n",
       "      <td>Lgl_C; Lethal giant larvae (Lgl)-like, C-termi...</td>\n",
       "    </tr>\n",
       "    <tr>\n",
       "      <th>33</th>\n",
       "      <td>PC126</td>\n",
       "      <td>1325</td>\n",
       "      <td>PC183</td>\n",
       "      <td>Lgl_C; Lethal giant larvae (Lgl)-like, C-termi...</td>\n",
       "    </tr>\n",
       "    <tr>\n",
       "      <th>34</th>\n",
       "      <td>PC129</td>\n",
       "      <td>1325</td>\n",
       "      <td>PC176</td>\n",
       "      <td>Lgl_C; Lethal giant larvae (Lgl)-like, C-termi...</td>\n",
       "    </tr>\n",
       "    <tr>\n",
       "      <th>35</th>\n",
       "      <td>PC129</td>\n",
       "      <td>1325</td>\n",
       "      <td>PC183</td>\n",
       "      <td>Lgl_C; Lethal giant larvae (Lgl)-like, C-termi...</td>\n",
       "    </tr>\n",
       "    <tr>\n",
       "      <th>36</th>\n",
       "      <td>PC127</td>\n",
       "      <td>9</td>\n",
       "      <td>PC98</td>\n",
       "      <td>40S_S4_C; 40S ribosomal protein S4, C-terminal...</td>\n",
       "    </tr>\n",
       "    <tr>\n",
       "      <th>37</th>\n",
       "      <td>PC132</td>\n",
       "      <td>2936</td>\n",
       "      <td>PC62</td>\n",
       "      <td>tRNA-synt_1c; Glutamyl/glutaminyl-tRNA synthet...</td>\n",
       "    </tr>\n",
       "    <tr>\n",
       "      <th>38</th>\n",
       "      <td>PC132</td>\n",
       "      <td>2936</td>\n",
       "      <td>PC159</td>\n",
       "      <td>tRNA-synt_1c; Glutamyl/glutaminyl-tRNA synthet...</td>\n",
       "    </tr>\n",
       "    <tr>\n",
       "      <th>39</th>\n",
       "      <td>PC141</td>\n",
       "      <td>25</td>\n",
       "      <td>PC99</td>\n",
       "      <td>AAA_6</td>\n",
       "    </tr>\n",
       "    <tr>\n",
       "      <th>40</th>\n",
       "      <td>PC148</td>\n",
       "      <td>1838</td>\n",
       "      <td>PC125</td>\n",
       "      <td>PTS_2-RNA; Phosphotransferase KptA/Tpt1</td>\n",
       "    </tr>\n",
       "    <tr>\n",
       "      <th>41</th>\n",
       "      <td>PC156</td>\n",
       "      <td>879</td>\n",
       "      <td>PC232</td>\n",
       "      <td>FGGY_N; Carbohydrate kinase, FGGY, N-terminal</td>\n",
       "    </tr>\n",
       "    <tr>\n",
       "      <th>42</th>\n",
       "      <td>PC157</td>\n",
       "      <td>175</td>\n",
       "      <td>PC215</td>\n",
       "      <td>Afi1; Arf3-interacting protein 1, N-terminal d...</td>\n",
       "    </tr>\n",
       "    <tr>\n",
       "      <th>43</th>\n",
       "      <td>PC158</td>\n",
       "      <td>175</td>\n",
       "      <td>PC215</td>\n",
       "      <td>Afi1; Arf3-interacting protein 1, N-terminal d...</td>\n",
       "    </tr>\n",
       "    <tr>\n",
       "      <th>44</th>\n",
       "      <td>PC168</td>\n",
       "      <td>778</td>\n",
       "      <td>PC155</td>\n",
       "      <td>E1_UFD; Ubiquitin-activating enzyme E1, C-term...</td>\n",
       "    </tr>\n",
       "    <tr>\n",
       "      <th>45</th>\n",
       "      <td>PC176</td>\n",
       "      <td>2244</td>\n",
       "      <td>PC209</td>\n",
       "      <td>Ribosomal_S6e; Ribosomal protein S6e</td>\n",
       "    </tr>\n",
       "    <tr>\n",
       "      <th>46</th>\n",
       "      <td>PC177</td>\n",
       "      <td>2244</td>\n",
       "      <td>PC209</td>\n",
       "      <td>Ribosomal_S6e; Ribosomal protein S6e</td>\n",
       "    </tr>\n",
       "    <tr>\n",
       "      <th>47</th>\n",
       "      <td>PC185</td>\n",
       "      <td>618</td>\n",
       "      <td>PC160</td>\n",
       "      <td>DNA_pol_alpha_N; DNA polymerase alpha catalyti...</td>\n",
       "    </tr>\n",
       "    <tr>\n",
       "      <th>48</th>\n",
       "      <td>PC225</td>\n",
       "      <td>1637</td>\n",
       "      <td>PC115</td>\n",
       "      <td>Nro1; Negative regulator of Ofd1/Enhancer of t...</td>\n",
       "    </tr>\n",
       "    <tr>\n",
       "      <th>49</th>\n",
       "      <td>PC225</td>\n",
       "      <td>1637</td>\n",
       "      <td>PC117</td>\n",
       "      <td>Nro1; Negative regulator of Ofd1/Enhancer of t...</td>\n",
       "    </tr>\n",
       "    <tr>\n",
       "      <th>50</th>\n",
       "      <td>PC231</td>\n",
       "      <td>1637</td>\n",
       "      <td>PC115</td>\n",
       "      <td>Nro1; Negative regulator of Ofd1/Enhancer of t...</td>\n",
       "    </tr>\n",
       "    <tr>\n",
       "      <th>51</th>\n",
       "      <td>PC231</td>\n",
       "      <td>1637</td>\n",
       "      <td>PC117</td>\n",
       "      <td>Nro1; Negative regulator of Ofd1/Enhancer of t...</td>\n",
       "    </tr>\n",
       "    <tr>\n",
       "      <th>52</th>\n",
       "      <td>PC228</td>\n",
       "      <td>450</td>\n",
       "      <td>PC100</td>\n",
       "      <td>Cation_efflux; Cation efflux protein</td>\n",
       "    </tr>\n",
       "    <tr>\n",
       "      <th>53</th>\n",
       "      <td>PC233</td>\n",
       "      <td>36</td>\n",
       "      <td>PC53</td>\n",
       "      <td>AA_permease_2; Amino acid/polyamine transporter I</td>\n",
       "    </tr>\n",
       "    <tr>\n",
       "      <th>54</th>\n",
       "      <td>PC242</td>\n",
       "      <td>36</td>\n",
       "      <td>PC53</td>\n",
       "      <td>AA_permease_2; Amino acid/polyamine transporter I</td>\n",
       "    </tr>\n",
       "    <tr>\n",
       "      <th>55</th>\n",
       "      <td>PC252</td>\n",
       "      <td>487</td>\n",
       "      <td>PC165</td>\n",
       "      <td>Cnd1; Condensin complex subunit 1, C-terminal</td>\n",
       "    </tr>\n",
       "    <tr>\n",
       "      <th>56</th>\n",
       "      <td>PC269</td>\n",
       "      <td>2371</td>\n",
       "      <td>PC269</td>\n",
       "      <td>SPT2; Chromatin SPT2</td>\n",
       "    </tr>\n",
       "    <tr>\n",
       "      <th>57</th>\n",
       "      <td>PC270</td>\n",
       "      <td>583</td>\n",
       "      <td>PC86</td>\n",
       "      <td>DHH; DDH domain</td>\n",
       "    </tr>\n",
       "  </tbody>\n",
       "</table>\n",
       "</div>"
      ],
      "text/plain": [
       "   pca-component_x  domain-number pca-component_y  \\\n",
       "0              PC0           1028             PC0   \n",
       "1              PC6            602            PC50   \n",
       "2             PC10           2082            PC24   \n",
       "3             PC15            877            PC38   \n",
       "4             PC18             55             PC7   \n",
       "5             PC21             47           PC116   \n",
       "6             PC22            926            PC14   \n",
       "7             PC22            926            PC15   \n",
       "8             PC30            463            PC20   \n",
       "9             PC34           2875            PC39   \n",
       "10            PC36           1677            PC49   \n",
       "11            PC37           1677            PC49   \n",
       "12            PC46            561            PC77   \n",
       "13            PC57            841           PC143   \n",
       "14            PC59           1106            PC61   \n",
       "15            PC60            363           PC207   \n",
       "16            PC63            215           PC145   \n",
       "17            PC73            747             PC6   \n",
       "18            PC74             61           PC126   \n",
       "19            PC74             61           PC132   \n",
       "20            PC75           1044           PC124   \n",
       "21            PC81           1046            PC90   \n",
       "22            PC82           2007            PC17   \n",
       "23            PC92            630            PC87   \n",
       "24            PC96           1340           PC135   \n",
       "25            PC96           1340           PC136   \n",
       "26            PC99           1275           PC146   \n",
       "27           PC100            613           PC213   \n",
       "28           PC100            613           PC251   \n",
       "29           PC105           2125           PC144   \n",
       "30           PC111             63           PC203   \n",
       "31           PC117           1265           PC130   \n",
       "32           PC126           1325           PC176   \n",
       "33           PC126           1325           PC183   \n",
       "34           PC129           1325           PC176   \n",
       "35           PC129           1325           PC183   \n",
       "36           PC127              9            PC98   \n",
       "37           PC132           2936            PC62   \n",
       "38           PC132           2936           PC159   \n",
       "39           PC141             25            PC99   \n",
       "40           PC148           1838           PC125   \n",
       "41           PC156            879           PC232   \n",
       "42           PC157            175           PC215   \n",
       "43           PC158            175           PC215   \n",
       "44           PC168            778           PC155   \n",
       "45           PC176           2244           PC209   \n",
       "46           PC177           2244           PC209   \n",
       "47           PC185            618           PC160   \n",
       "48           PC225           1637           PC115   \n",
       "49           PC225           1637           PC117   \n",
       "50           PC231           1637           PC115   \n",
       "51           PC231           1637           PC117   \n",
       "52           PC228            450           PC100   \n",
       "53           PC233             36            PC53   \n",
       "54           PC242             36            PC53   \n",
       "55           PC252            487           PC165   \n",
       "56           PC269           2371           PC269   \n",
       "57           PC270            583            PC86   \n",
       "\n",
       "                                   domain-description  \n",
       "0                 GatB_Yqey; Asn/Gln amidotransferase  \n",
       "1   DNA_RNApol_7kD; RNA polymerase archaeal subuni...  \n",
       "2   RXT2_N; Transcriptional regulatory protein RXT...  \n",
       "3                                       FF; FF domain  \n",
       "4                                                 ADK  \n",
       "5                  ACOX; Acyl-CoA oxidase, C-terminal  \n",
       "6                      Flp_C; Recombinase Flp protein  \n",
       "7                      Flp_C; Recombinase Flp protein  \n",
       "8         Chitin_synth_1N; Chitin synthase N-terminal  \n",
       "9    YchF-GTPase_C; Domain of unknown function DUF933  \n",
       "10    Ost5; Oligosaccharyltransferase complex subunit  \n",
       "11    Ost5; Oligosaccharyltransferase complex subunit  \n",
       "12             DASH_Spc34; DASH complex subunit Spc34  \n",
       "13  Endonuclease_NS; DNA/RNA non-specific endonucl...  \n",
       "14                                             HEAT_2  \n",
       "15  CLP1_P; Polyribonucleotide 5&apos;-hydroxyl-ki...  \n",
       "16  Anticodon_1; Methionyl/Valyl/Leucyl/Isoleucyl-...  \n",
       "17                                  Dak1; DhaK domain  \n",
       "18                                               AGA2  \n",
       "19                                               AGA2  \n",
       "20      Glyco_hydro_16; Glycoside hydrolase family 16  \n",
       "21  Glyco_hydro_18; Glycoside hydrolase family 18,...  \n",
       "22  RNA_pol_L_2; DNA-directed RNA polymerase, RBP1...  \n",
       "23  DSPc; Dual specificity phosphatase, catalytic ...  \n",
       "24                        Lysine_decarbox; LOG family  \n",
       "25                        Lysine_decarbox; LOG family  \n",
       "26    Kinetocho_Slk19; Central kinetochore-associated  \n",
       "27  DNA_pol_B; DNA-directed DNA polymerase, family...  \n",
       "28  DNA_pol_B; DNA-directed DNA polymerase, family...  \n",
       "29           Rer1; Retrieval of early ER protein Rer1  \n",
       "30         AICARFT_IMPCHas; AICARFT/IMPCHase bienzyme  \n",
       "31   Kei1; Protein of unknown function DUF1753, Golgi  \n",
       "32  Lgl_C; Lethal giant larvae (Lgl)-like, C-termi...  \n",
       "33  Lgl_C; Lethal giant larvae (Lgl)-like, C-termi...  \n",
       "34  Lgl_C; Lethal giant larvae (Lgl)-like, C-termi...  \n",
       "35  Lgl_C; Lethal giant larvae (Lgl)-like, C-termi...  \n",
       "36  40S_S4_C; 40S ribosomal protein S4, C-terminal...  \n",
       "37  tRNA-synt_1c; Glutamyl/glutaminyl-tRNA synthet...  \n",
       "38  tRNA-synt_1c; Glutamyl/glutaminyl-tRNA synthet...  \n",
       "39                                              AAA_6  \n",
       "40            PTS_2-RNA; Phosphotransferase KptA/Tpt1  \n",
       "41      FGGY_N; Carbohydrate kinase, FGGY, N-terminal  \n",
       "42  Afi1; Arf3-interacting protein 1, N-terminal d...  \n",
       "43  Afi1; Arf3-interacting protein 1, N-terminal d...  \n",
       "44  E1_UFD; Ubiquitin-activating enzyme E1, C-term...  \n",
       "45               Ribosomal_S6e; Ribosomal protein S6e  \n",
       "46               Ribosomal_S6e; Ribosomal protein S6e  \n",
       "47  DNA_pol_alpha_N; DNA polymerase alpha catalyti...  \n",
       "48  Nro1; Negative regulator of Ofd1/Enhancer of t...  \n",
       "49  Nro1; Negative regulator of Ofd1/Enhancer of t...  \n",
       "50  Nro1; Negative regulator of Ofd1/Enhancer of t...  \n",
       "51  Nro1; Negative regulator of Ofd1/Enhancer of t...  \n",
       "52               Cation_efflux; Cation efflux protein  \n",
       "53  AA_permease_2; Amino acid/polyamine transporter I  \n",
       "54  AA_permease_2; Amino acid/polyamine transporter I  \n",
       "55      Cnd1; Condensin complex subunit 1, C-terminal  \n",
       "56                               SPT2; Chromatin SPT2  \n",
       "57                                    DHH; DDH domain  "
      ]
     },
     "execution_count": 22,
     "metadata": {},
     "output_type": "execute_result"
    }
   ],
   "source": [
    "df_shared_domains=pd.merge(df_sl,df_nsl,how='inner',on='domain-number')\n",
    "domains_name=np.unique(data_domains['domain-name'])\n",
    "domains_description=np.unique(data_domains['domain-descrip'])\n",
    "\n",
    "df_shared_domains['domain-description']=domains_description[df_shared_domains['domain-number']]\n",
    "\n",
    "\n",
    "df_shared_domains"
   ]
  },
  {
   "cell_type": "code",
   "execution_count": 23,
   "metadata": {
    "execution": {
     "iopub.execute_input": "2020-07-14T11:04:16.331105Z",
     "iopub.status.busy": "2020-07-14T11:04:16.330664Z",
     "iopub.status.idle": "2020-07-14T11:04:16.334940Z",
     "shell.execute_reply": "2020-07-14T11:04:16.335377Z"
    }
   },
   "outputs": [
    {
     "name": "stdout",
     "output_type": "stream",
     "text": [
      "The number of shared domains between SL and nSL pairs,after PCA, is =  58 out of 552 so the 10.507246376811594 %\n"
     ]
    }
   ],
   "source": [
    "print('The number of shared domains between SL and nSL pairs,after PCA, is = ',len(df_shared_domains), 'out of', len(df_sl)+len(df_nsl), 'so the',100*len(df_shared_domains)/(len(df_sl)+len(df_nsl)),'%')"
   ]
  },
  {
   "cell_type": "markdown",
   "metadata": {},
   "source": [
    "## Domains exclusive to SL"
   ]
  },
  {
   "cell_type": "code",
   "execution_count": 24,
   "metadata": {
    "execution": {
     "iopub.execute_input": "2020-07-14T11:04:16.337661Z",
     "iopub.status.busy": "2020-07-14T11:04:16.337053Z",
     "iopub.status.idle": "2020-07-14T11:04:16.359607Z",
     "shell.execute_reply": "2020-07-14T11:04:16.360049Z"
    }
   },
   "outputs": [
    {
     "data": {
      "text/html": [
       "<div>\n",
       "<style scoped>\n",
       "    .dataframe tbody tr th:only-of-type {\n",
       "        vertical-align: middle;\n",
       "    }\n",
       "\n",
       "    .dataframe tbody tr th {\n",
       "        vertical-align: top;\n",
       "    }\n",
       "\n",
       "    .dataframe thead th {\n",
       "        text-align: right;\n",
       "    }\n",
       "</style>\n",
       "<table border=\"1\" class=\"dataframe\">\n",
       "  <thead>\n",
       "    <tr style=\"text-align: right;\">\n",
       "      <th></th>\n",
       "      <th>pca-component_x</th>\n",
       "      <th>domain-number</th>\n",
       "      <th>pca-component_y</th>\n",
       "      <th>domain-description</th>\n",
       "    </tr>\n",
       "  </thead>\n",
       "  <tbody>\n",
       "    <tr>\n",
       "      <th>1</th>\n",
       "      <td>PC1</td>\n",
       "      <td>540</td>\n",
       "      <td>NaN</td>\n",
       "      <td>Cytochrome_B; Cytochrome b/b6, N-terminal</td>\n",
       "    </tr>\n",
       "    <tr>\n",
       "      <th>2</th>\n",
       "      <td>PC2</td>\n",
       "      <td>180</td>\n",
       "      <td>NaN</td>\n",
       "      <td>Aim21; Altered inheritance of mitochondria pro...</td>\n",
       "    </tr>\n",
       "    <tr>\n",
       "      <th>3</th>\n",
       "      <td>PC3</td>\n",
       "      <td>242</td>\n",
       "      <td>NaN</td>\n",
       "      <td>Atg31; Autophagy-related protein 31</td>\n",
       "    </tr>\n",
       "    <tr>\n",
       "      <th>4</th>\n",
       "      <td>PC4</td>\n",
       "      <td>2428</td>\n",
       "      <td>NaN</td>\n",
       "      <td>Scs3p; Fat storage-inducing transmembrane protein</td>\n",
       "    </tr>\n",
       "    <tr>\n",
       "      <th>5</th>\n",
       "      <td>PC5</td>\n",
       "      <td>328</td>\n",
       "      <td>NaN</td>\n",
       "      <td>CBM_48; Glycoside hydrolase, family 13, N-term...</td>\n",
       "    </tr>\n",
       "    <tr>\n",
       "      <th>...</th>\n",
       "      <td>...</td>\n",
       "      <td>...</td>\n",
       "      <td>...</td>\n",
       "      <td>...</td>\n",
       "    </tr>\n",
       "    <tr>\n",
       "      <th>276</th>\n",
       "      <td>PC267</td>\n",
       "      <td>140</td>\n",
       "      <td>NaN</td>\n",
       "      <td>ATP_bind_3; tRNA(Ile)-lysidine/2-thiocytidine ...</td>\n",
       "    </tr>\n",
       "    <tr>\n",
       "      <th>277</th>\n",
       "      <td>PC268</td>\n",
       "      <td>1182</td>\n",
       "      <td>NaN</td>\n",
       "      <td>Homeobox; Homeobox domain</td>\n",
       "    </tr>\n",
       "    <tr>\n",
       "      <th>280</th>\n",
       "      <td>PC271</td>\n",
       "      <td>1310</td>\n",
       "      <td>NaN</td>\n",
       "      <td>La; La-type HTH domain</td>\n",
       "    </tr>\n",
       "    <tr>\n",
       "      <th>281</th>\n",
       "      <td>PC272</td>\n",
       "      <td>248</td>\n",
       "      <td>NaN</td>\n",
       "      <td>Avl9; AVL9/DENND6 domain</td>\n",
       "    </tr>\n",
       "    <tr>\n",
       "      <th>282</th>\n",
       "      <td>PC273</td>\n",
       "      <td>1162</td>\n",
       "      <td>NaN</td>\n",
       "      <td>Heme_oxygenase; Haem oxygenase-like</td>\n",
       "    </tr>\n",
       "  </tbody>\n",
       "</table>\n",
       "<p>225 rows × 4 columns</p>\n",
       "</div>"
      ],
      "text/plain": [
       "    pca-component_x  domain-number pca-component_y  \\\n",
       "1               PC1            540             NaN   \n",
       "2               PC2            180             NaN   \n",
       "3               PC3            242             NaN   \n",
       "4               PC4           2428             NaN   \n",
       "5               PC5            328             NaN   \n",
       "..              ...            ...             ...   \n",
       "276           PC267            140             NaN   \n",
       "277           PC268           1182             NaN   \n",
       "280           PC271           1310             NaN   \n",
       "281           PC272            248             NaN   \n",
       "282           PC273           1162             NaN   \n",
       "\n",
       "                                    domain-description  \n",
       "1            Cytochrome_B; Cytochrome b/b6, N-terminal  \n",
       "2    Aim21; Altered inheritance of mitochondria pro...  \n",
       "3                  Atg31; Autophagy-related protein 31  \n",
       "4    Scs3p; Fat storage-inducing transmembrane protein  \n",
       "5    CBM_48; Glycoside hydrolase, family 13, N-term...  \n",
       "..                                                 ...  \n",
       "276  ATP_bind_3; tRNA(Ile)-lysidine/2-thiocytidine ...  \n",
       "277                          Homeobox; Homeobox domain  \n",
       "280                             La; La-type HTH domain  \n",
       "281                           Avl9; AVL9/DENND6 domain  \n",
       "282                Heme_oxygenase; Haem oxygenase-like  \n",
       "\n",
       "[225 rows x 4 columns]"
      ]
     },
     "execution_count": 24,
     "metadata": {},
     "output_type": "execute_result"
    }
   ],
   "source": [
    "df_sl_exclusive=pd.merge(df_sl,df_nsl,how='left',on='domain-number')\n",
    "\n",
    "domains_name=np.unique(data_domains['domain-name'])\n",
    "domains_description=np.unique(data_domains['domain-descrip'])\n",
    "\n",
    "df_sl_exclusive['domain-description']=domains_description[df_sl_exclusive['domain-number']]\n",
    "df_sl_exclusive[pd.isnull(df_sl_exclusive['pca-component_y'])]"
   ]
  },
  {
   "cell_type": "code",
   "execution_count": 25,
   "metadata": {
    "execution": {
     "iopub.execute_input": "2020-07-14T11:04:16.361872Z",
     "iopub.status.busy": "2020-07-14T11:04:16.361431Z",
     "iopub.status.idle": "2020-07-14T11:04:16.365683Z",
     "shell.execute_reply": "2020-07-14T11:04:16.366121Z"
    }
   },
   "outputs": [
    {
     "name": "stdout",
     "output_type": "stream",
     "text": [
      "The number of exclusive domains from SL pairs, after PCA, is =  283 out of 552 so the 51.268115942028984 %\n"
     ]
    }
   ],
   "source": [
    "print('The number of exclusive domains from SL pairs, after PCA, is = ',len(df_sl_exclusive), 'out of', len(df_sl)+len(df_nsl), 'so the',100*len(df_sl_exclusive)/(len(df_sl)+len(df_nsl)),'%')"
   ]
  },
  {
   "cell_type": "code",
   "execution_count": 26,
   "metadata": {
    "execution": {
     "iopub.execute_input": "2020-07-14T11:04:16.368257Z",
     "iopub.status.busy": "2020-07-14T11:04:16.367791Z",
     "iopub.status.idle": "2020-07-14T11:04:16.392992Z",
     "shell.execute_reply": "2020-07-14T11:04:16.393454Z"
    }
   },
   "outputs": [
    {
     "data": {
      "text/html": [
       "<div>\n",
       "<style scoped>\n",
       "    .dataframe tbody tr th:only-of-type {\n",
       "        vertical-align: middle;\n",
       "    }\n",
       "\n",
       "    .dataframe tbody tr th {\n",
       "        vertical-align: top;\n",
       "    }\n",
       "\n",
       "    .dataframe thead th {\n",
       "        text-align: right;\n",
       "    }\n",
       "</style>\n",
       "<table border=\"1\" class=\"dataframe\">\n",
       "  <thead>\n",
       "    <tr style=\"text-align: right;\">\n",
       "      <th></th>\n",
       "      <th>pca-component_x</th>\n",
       "      <th>domain-number</th>\n",
       "      <th>pca-component_y</th>\n",
       "      <th>domain-description</th>\n",
       "    </tr>\n",
       "  </thead>\n",
       "  <tbody>\n",
       "    <tr>\n",
       "      <th>58</th>\n",
       "      <td>NaN</td>\n",
       "      <td>305</td>\n",
       "      <td>PC1</td>\n",
       "      <td>Brr6_like_C_C; Brl1/Brr6 domain</td>\n",
       "    </tr>\n",
       "    <tr>\n",
       "      <th>59</th>\n",
       "      <td>NaN</td>\n",
       "      <td>1811</td>\n",
       "      <td>PC2</td>\n",
       "      <td>PRAI; N-(5&amp;apos;phosphoribosyl) anthranilate i...</td>\n",
       "    </tr>\n",
       "    <tr>\n",
       "      <th>60</th>\n",
       "      <td>NaN</td>\n",
       "      <td>2</td>\n",
       "      <td>PC3</td>\n",
       "      <td>2-Hacid_dh; D-isomer specific 2-hydroxyacid de...</td>\n",
       "    </tr>\n",
       "    <tr>\n",
       "      <th>61</th>\n",
       "      <td>NaN</td>\n",
       "      <td>2113</td>\n",
       "      <td>PC4</td>\n",
       "      <td>Rav1p_C; RAVE complex protein Rav1 C-terminal</td>\n",
       "    </tr>\n",
       "    <tr>\n",
       "      <th>62</th>\n",
       "      <td>NaN</td>\n",
       "      <td>211</td>\n",
       "      <td>PC5</td>\n",
       "      <td>Ank_5</td>\n",
       "    </tr>\n",
       "    <tr>\n",
       "      <th>...</th>\n",
       "      <td>...</td>\n",
       "      <td>...</td>\n",
       "      <td>...</td>\n",
       "      <td>...</td>\n",
       "    </tr>\n",
       "    <tr>\n",
       "      <th>281</th>\n",
       "      <td>NaN</td>\n",
       "      <td>2551</td>\n",
       "      <td>PC271</td>\n",
       "      <td>TAF4; Transcription initiation factor TFIID co...</td>\n",
       "    </tr>\n",
       "    <tr>\n",
       "      <th>282</th>\n",
       "      <td>NaN</td>\n",
       "      <td>2271</td>\n",
       "      <td>PC272</td>\n",
       "      <td>RsfS</td>\n",
       "    </tr>\n",
       "    <tr>\n",
       "      <th>283</th>\n",
       "      <td>NaN</td>\n",
       "      <td>2271</td>\n",
       "      <td>PC273</td>\n",
       "      <td>RsfS</td>\n",
       "    </tr>\n",
       "    <tr>\n",
       "      <th>284</th>\n",
       "      <td>NaN</td>\n",
       "      <td>620</td>\n",
       "      <td>PC275</td>\n",
       "      <td>DNA_primase_S; DNA primase, small subunit</td>\n",
       "    </tr>\n",
       "    <tr>\n",
       "      <th>285</th>\n",
       "      <td>NaN</td>\n",
       "      <td>2316</td>\n",
       "      <td>PC276</td>\n",
       "      <td>SGTA_dimer; SGTA, homodimerisation domain</td>\n",
       "    </tr>\n",
       "  </tbody>\n",
       "</table>\n",
       "<p>228 rows × 4 columns</p>\n",
       "</div>"
      ],
      "text/plain": [
       "    pca-component_x  domain-number pca-component_y  \\\n",
       "58              NaN            305             PC1   \n",
       "59              NaN           1811             PC2   \n",
       "60              NaN              2             PC3   \n",
       "61              NaN           2113             PC4   \n",
       "62              NaN            211             PC5   \n",
       "..              ...            ...             ...   \n",
       "281             NaN           2551           PC271   \n",
       "282             NaN           2271           PC272   \n",
       "283             NaN           2271           PC273   \n",
       "284             NaN            620           PC275   \n",
       "285             NaN           2316           PC276   \n",
       "\n",
       "                                    domain-description  \n",
       "58                     Brr6_like_C_C; Brl1/Brr6 domain  \n",
       "59   PRAI; N-(5&apos;phosphoribosyl) anthranilate i...  \n",
       "60   2-Hacid_dh; D-isomer specific 2-hydroxyacid de...  \n",
       "61       Rav1p_C; RAVE complex protein Rav1 C-terminal  \n",
       "62                                               Ank_5  \n",
       "..                                                 ...  \n",
       "281  TAF4; Transcription initiation factor TFIID co...  \n",
       "282                                               RsfS  \n",
       "283                                               RsfS  \n",
       "284          DNA_primase_S; DNA primase, small subunit  \n",
       "285          SGTA_dimer; SGTA, homodimerisation domain  \n",
       "\n",
       "[228 rows x 4 columns]"
      ]
     },
     "execution_count": 26,
     "metadata": {},
     "output_type": "execute_result"
    }
   ],
   "source": [
    "df_nsl_exclusive=pd.merge(df_sl,df_nsl,how='right',on='domain-number')\n",
    "\n",
    "domains_name=np.unique(data_domains['domain-name'])\n",
    "domains_description=np.unique(data_domains['domain-descrip'])\n",
    "\n",
    "df_nsl_exclusive['domain-description']=domains_description[df_nsl_exclusive['domain-number']]\n",
    "df_nsl_exclusive[pd.isnull(df_nsl_exclusive['pca-component_x'])]"
   ]
  },
  {
   "cell_type": "code",
   "execution_count": 27,
   "metadata": {
    "execution": {
     "iopub.execute_input": "2020-07-14T11:04:16.395438Z",
     "iopub.status.busy": "2020-07-14T11:04:16.394980Z",
     "iopub.status.idle": "2020-07-14T11:04:16.399935Z",
     "shell.execute_reply": "2020-07-14T11:04:16.400509Z"
    }
   },
   "outputs": [
    {
     "name": "stdout",
     "output_type": "stream",
     "text": [
      "The number of exclusive domains from non SL pairs, after PCA, is =  286 out of 552 so the 51.81159420289855 %\n"
     ]
    }
   ],
   "source": [
    "print('The number of exclusive domains from non SL pairs, after PCA, is = ',len(df_nsl_exclusive), 'out of', len(df_sl)+len(df_nsl), 'so the',100*len(df_nsl_exclusive)/(len(df_sl)+len(df_nsl)),'%')"
   ]
  },
  {
   "cell_type": "markdown",
   "metadata": {},
   "source": [
    "## Let see to the domains-number that get repeated after the PCA analysis , and selecting the most explanatory feature by its explained variance."
   ]
  },
  {
   "cell_type": "code",
   "execution_count": 28,
   "metadata": {
    "execution": {
     "iopub.execute_input": "2020-07-14T11:04:16.420815Z",
     "iopub.status.busy": "2020-07-14T11:04:16.420322Z",
     "iopub.status.idle": "2020-07-14T11:04:16.424626Z",
     "shell.execute_reply": "2020-07-14T11:04:16.423922Z"
    }
   },
   "outputs": [],
   "source": [
    "duplicated_features_sl=df_sl[df_sl.iloc[:,1].duplicated()]\n",
    "repeated_features_sl=pd.DataFrame()\n",
    "\n",
    "domains_name=np.unique(data_domains['domain-name'])\n",
    "domains_description=np.unique(data_domains['domain-descrip'])\n",
    "\n",
    "repeated_features_sl['domain-name']=domains_name[duplicated_features_sl.iloc[:,1]] \n",
    "repeated_features_sl['domain-description']=domains_description[duplicated_features_sl.iloc[:,1]]\n",
    "\n",
    "duplicated_features_nsl=df_nsl[df_nsl.iloc[:,1].duplicated()]\n",
    "repeated_features_nsl=pd.DataFrame()\n",
    "\n",
    "repeated_features_nsl['domain-name']=domains_name[duplicated_features_nsl.iloc[:,1]] \n",
    "repeated_features_nsl['domain-description']=domains_description[duplicated_features_nsl.iloc[:,1]]"
   ]
  },
  {
   "cell_type": "code",
   "execution_count": 29,
   "metadata": {
    "execution": {
     "iopub.execute_input": "2020-07-14T11:04:16.434476Z",
     "iopub.status.busy": "2020-07-14T11:04:16.433427Z",
     "iopub.status.idle": "2020-07-14T11:04:16.439830Z",
     "shell.execute_reply": "2020-07-14T11:04:16.439342Z"
    }
   },
   "outputs": [
    {
     "name": "stderr",
     "output_type": "stream",
     "text": [
      "/usr/share/miniconda3/envs/wintest/lib/python3.7/site-packages/ipykernel_launcher.py:3: SettingWithCopyWarning: \n",
      "A value is trying to be set on a copy of a slice from a DataFrame.\n",
      "Try using .loc[row_indexer,col_indexer] = value instead\n",
      "\n",
      "See the caveats in the documentation: https://pandas.pydata.org/pandas-docs/stable/user_guide/indexing.html#returning-a-view-versus-a-copy\n",
      "  This is separate from the ipykernel package so we can avoid doing imports until\n"
     ]
    },
    {
     "data": {
      "text/plain": [
       "((32, 4), (283, 4))"
      ]
     },
     "execution_count": 29,
     "metadata": {},
     "output_type": "execute_result"
    }
   ],
   "source": [
    "only_sl_pd=pd.merge(repeated_features_sl,repeated_features_nsl,how='left',on=['domain-name'])\n",
    "data_only_sl = only_sl_pd[pd.isnull(only_sl_pd['domain-description_y'])]\n",
    "data_only_sl['domain-description']=data_only_sl['domain-description_x']\n",
    "data_only_sl.shape,df_sl_exclusive.shape"
   ]
  },
  {
   "cell_type": "code",
   "execution_count": 30,
   "metadata": {
    "execution": {
     "iopub.execute_input": "2020-07-14T11:04:16.459339Z",
     "iopub.status.busy": "2020-07-14T11:04:16.448322Z",
     "iopub.status.idle": "2020-07-14T11:04:16.464571Z",
     "shell.execute_reply": "2020-07-14T11:04:16.464082Z"
    }
   },
   "outputs": [
    {
     "data": {
      "text/html": [
       "<div>\n",
       "<style scoped>\n",
       "    .dataframe tbody tr th:only-of-type {\n",
       "        vertical-align: middle;\n",
       "    }\n",
       "\n",
       "    .dataframe tbody tr th {\n",
       "        vertical-align: top;\n",
       "    }\n",
       "\n",
       "    .dataframe thead th {\n",
       "        text-align: right;\n",
       "    }\n",
       "</style>\n",
       "<table border=\"1\" class=\"dataframe\">\n",
       "  <thead>\n",
       "    <tr style=\"text-align: right;\">\n",
       "      <th></th>\n",
       "      <th>domain-name</th>\n",
       "      <th>domain-description_x</th>\n",
       "      <th>domain-description_y</th>\n",
       "    </tr>\n",
       "  </thead>\n",
       "  <tbody>\n",
       "    <tr>\n",
       "      <th>2</th>\n",
       "      <td>PF00515</td>\n",
       "      <td>NaN</td>\n",
       "      <td>BAG; BAG domain</td>\n",
       "    </tr>\n",
       "    <tr>\n",
       "      <th>3</th>\n",
       "      <td>PF02671</td>\n",
       "      <td>NaN</td>\n",
       "      <td>Flp_C; Recombinase Flp protein</td>\n",
       "    </tr>\n",
       "    <tr>\n",
       "      <th>4</th>\n",
       "      <td>PF02463</td>\n",
       "      <td>NaN</td>\n",
       "      <td>FSH1; Serine hydrolase FSH</td>\n",
       "    </tr>\n",
       "    <tr>\n",
       "      <th>5</th>\n",
       "      <td>PF00136</td>\n",
       "      <td>NaN</td>\n",
       "      <td>AHSA1; Activator of Hsp90 ATPase homologue 1-like</td>\n",
       "    </tr>\n",
       "    <tr>\n",
       "      <th>6</th>\n",
       "      <td>PF00705</td>\n",
       "      <td>NaN</td>\n",
       "      <td>CH; Calponin homology domain</td>\n",
       "    </tr>\n",
       "    <tr>\n",
       "      <th>7</th>\n",
       "      <td>PF01553</td>\n",
       "      <td>NaN</td>\n",
       "      <td>DUF202; Domain of unknown function DUF202</td>\n",
       "    </tr>\n",
       "    <tr>\n",
       "      <th>8</th>\n",
       "      <td>PF05391</td>\n",
       "      <td>NaN</td>\n",
       "      <td>NAD_synthase; NAD/GMP synthase</td>\n",
       "    </tr>\n",
       "    <tr>\n",
       "      <th>9</th>\n",
       "      <td>PF08783</td>\n",
       "      <td>NaN</td>\n",
       "      <td>RQC; RQC domain</td>\n",
       "    </tr>\n",
       "    <tr>\n",
       "      <th>10</th>\n",
       "      <td>PF02364</td>\n",
       "      <td>NaN</td>\n",
       "      <td>FDX-ACB; Ferrodoxin-fold anticodon-binding domain</td>\n",
       "    </tr>\n",
       "    <tr>\n",
       "      <th>11</th>\n",
       "      <td>PF01909</td>\n",
       "      <td>NaN</td>\n",
       "      <td>Dynein_light; Dynein light chain, type 1/2</td>\n",
       "    </tr>\n",
       "    <tr>\n",
       "      <th>12</th>\n",
       "      <td>PF13921</td>\n",
       "      <td>NaN</td>\n",
       "      <td>Trypsin_2</td>\n",
       "    </tr>\n",
       "    <tr>\n",
       "      <th>13</th>\n",
       "      <td>PF00856</td>\n",
       "      <td>NaN</td>\n",
       "      <td>CRAL_TRIO; CRAL-TRIO lipid binding domain</td>\n",
       "    </tr>\n",
       "    <tr>\n",
       "      <th>14</th>\n",
       "      <td>PF03876</td>\n",
       "      <td>NaN</td>\n",
       "      <td>Hydantoinase_B; Hydantoinase B/oxoprolinase</td>\n",
       "    </tr>\n",
       "    <tr>\n",
       "      <th>15</th>\n",
       "      <td>PF05739</td>\n",
       "      <td>NaN</td>\n",
       "      <td>NPCC; Nuclear pore complex component</td>\n",
       "    </tr>\n",
       "    <tr>\n",
       "      <th>16</th>\n",
       "      <td>PF00676</td>\n",
       "      <td>NaN</td>\n",
       "      <td>CDC48_N; CDC48, N-terminal subdomain</td>\n",
       "    </tr>\n",
       "    <tr>\n",
       "      <th>17</th>\n",
       "      <td>PF00324</td>\n",
       "      <td>NaN</td>\n",
       "      <td>Acyl-CoA_ox_N; Acyl-coenzyme A oxidase, N-term...</td>\n",
       "    </tr>\n",
       "    <tr>\n",
       "      <th>18</th>\n",
       "      <td>PF10176</td>\n",
       "      <td>NaN</td>\n",
       "      <td>Ribosomal_L38e; Ribosomal protein L38e</td>\n",
       "    </tr>\n",
       "    <tr>\n",
       "      <th>19</th>\n",
       "      <td>PF05615</td>\n",
       "      <td>NaN</td>\n",
       "      <td>NIR_SIR_ferr; Nitrite/Sulfite reductase ferred...</td>\n",
       "    </tr>\n",
       "    <tr>\n",
       "      <th>20</th>\n",
       "      <td>PF00134</td>\n",
       "      <td>NaN</td>\n",
       "      <td>AGA2</td>\n",
       "    </tr>\n",
       "    <tr>\n",
       "      <th>21</th>\n",
       "      <td>PF04383</td>\n",
       "      <td>NaN</td>\n",
       "      <td>Lysine_decarbox; LOG family</td>\n",
       "    </tr>\n",
       "    <tr>\n",
       "      <th>22</th>\n",
       "      <td>PF03999</td>\n",
       "      <td>NaN</td>\n",
       "      <td>Inhibitor_I34; Protease A inhibitor IA3</td>\n",
       "    </tr>\n",
       "    <tr>\n",
       "      <th>23</th>\n",
       "      <td>PF14304</td>\n",
       "      <td>NaN</td>\n",
       "      <td>UBA_3; Ubiquitin-conjugating enzyme, C-termina...</td>\n",
       "    </tr>\n",
       "    <tr>\n",
       "      <th>24</th>\n",
       "      <td>PF05557</td>\n",
       "      <td>NaN</td>\n",
       "      <td>NIF; FCP1 homology domain</td>\n",
       "    </tr>\n",
       "    <tr>\n",
       "      <th>25</th>\n",
       "      <td>PF16891</td>\n",
       "      <td>NaN</td>\n",
       "      <td>tRNA-synt_1c; Glutamyl/glutaminyl-tRNA synthet...</td>\n",
       "    </tr>\n",
       "    <tr>\n",
       "      <th>26</th>\n",
       "      <td>PF11719</td>\n",
       "      <td>NaN</td>\n",
       "      <td>SUA5; Putative GTP-binding controlling metal-b...</td>\n",
       "    </tr>\n",
       "    <tr>\n",
       "      <th>27</th>\n",
       "      <td>PF11719</td>\n",
       "      <td>NaN</td>\n",
       "      <td>SUA5; Putative GTP-binding controlling metal-b...</td>\n",
       "    </tr>\n",
       "    <tr>\n",
       "      <th>28</th>\n",
       "      <td>PF08580</td>\n",
       "      <td>NaN</td>\n",
       "      <td>Pyr_redox_dim; Pyridine nucleotide-disulphide ...</td>\n",
       "    </tr>\n",
       "    <tr>\n",
       "      <th>29</th>\n",
       "      <td>PF10104</td>\n",
       "      <td>NaN</td>\n",
       "      <td>Ribosomal_L36; Ribosomal protein L36</td>\n",
       "    </tr>\n",
       "    <tr>\n",
       "      <th>30</th>\n",
       "      <td>PF02200</td>\n",
       "      <td>NaN</td>\n",
       "      <td>End3; Actin cytoskeleton-regulatory complex pr...</td>\n",
       "    </tr>\n",
       "    <tr>\n",
       "      <th>31</th>\n",
       "      <td>PF02200</td>\n",
       "      <td>NaN</td>\n",
       "      <td>End3; Actin cytoskeleton-regulatory complex pr...</td>\n",
       "    </tr>\n",
       "    <tr>\n",
       "      <th>32</th>\n",
       "      <td>PF02953</td>\n",
       "      <td>NaN</td>\n",
       "      <td>GWT1</td>\n",
       "    </tr>\n",
       "    <tr>\n",
       "      <th>33</th>\n",
       "      <td>PF02541</td>\n",
       "      <td>NaN</td>\n",
       "      <td>Fe-ADH; Alcohol dehydrogenase, iron-type</td>\n",
       "    </tr>\n",
       "    <tr>\n",
       "      <th>34</th>\n",
       "      <td>PF07228</td>\n",
       "      <td>NaN</td>\n",
       "      <td>PBP; Phosphatidylethanolamine-binding protein</td>\n",
       "    </tr>\n",
       "    <tr>\n",
       "      <th>35</th>\n",
       "      <td>PF07228</td>\n",
       "      <td>NaN</td>\n",
       "      <td>PBP; Phosphatidylethanolamine-binding protein</td>\n",
       "    </tr>\n",
       "    <tr>\n",
       "      <th>36</th>\n",
       "      <td>PF04129</td>\n",
       "      <td>NaN</td>\n",
       "      <td>LMWPc; Phosphotyrosine protein phosphatase I s...</td>\n",
       "    </tr>\n",
       "    <tr>\n",
       "      <th>37</th>\n",
       "      <td>PF01223</td>\n",
       "      <td>NaN</td>\n",
       "      <td>DASH_Dad3; DASH complex subunit Dad3</td>\n",
       "    </tr>\n",
       "    <tr>\n",
       "      <th>38</th>\n",
       "      <td>PF00244</td>\n",
       "      <td>NaN</td>\n",
       "      <td>ATP-grasp; ATP-grasp fold, ATP-dependent carbo...</td>\n",
       "    </tr>\n",
       "    <tr>\n",
       "      <th>39</th>\n",
       "      <td>PF02991</td>\n",
       "      <td>NaN</td>\n",
       "      <td>GalP_UDP_transf; Galactose-1-phosphate uridyl ...</td>\n",
       "    </tr>\n",
       "    <tr>\n",
       "      <th>40</th>\n",
       "      <td>PF13519</td>\n",
       "      <td>NaN</td>\n",
       "      <td>Telomere_reg-2; Telomere length regulation pro...</td>\n",
       "    </tr>\n",
       "    <tr>\n",
       "      <th>41</th>\n",
       "      <td>PF13519</td>\n",
       "      <td>NaN</td>\n",
       "      <td>Telomere_reg-2; Telomere length regulation pro...</td>\n",
       "    </tr>\n",
       "    <tr>\n",
       "      <th>42</th>\n",
       "      <td>PF09073</td>\n",
       "      <td>NaN</td>\n",
       "      <td>RRP7; Ribosomal RNA-processing protein 7</td>\n",
       "    </tr>\n",
       "    <tr>\n",
       "      <th>43</th>\n",
       "      <td>PF09073</td>\n",
       "      <td>NaN</td>\n",
       "      <td>RRP7; Ribosomal RNA-processing protein 7</td>\n",
       "    </tr>\n",
       "    <tr>\n",
       "      <th>44</th>\n",
       "      <td>PF09073</td>\n",
       "      <td>NaN</td>\n",
       "      <td>RRP7; Ribosomal RNA-processing protein 7</td>\n",
       "    </tr>\n",
       "    <tr>\n",
       "      <th>45</th>\n",
       "      <td>PF06398</td>\n",
       "      <td>NaN</td>\n",
       "      <td>Nucleoporin_FG; Nucleoporin FG repeat</td>\n",
       "    </tr>\n",
       "    <tr>\n",
       "      <th>46</th>\n",
       "      <td>PF05132</td>\n",
       "      <td>NaN</td>\n",
       "      <td>Mito_carr; Mitochondrial substrate/solute carrier</td>\n",
       "    </tr>\n",
       "    <tr>\n",
       "      <th>47</th>\n",
       "      <td>PF05132</td>\n",
       "      <td>NaN</td>\n",
       "      <td>Mito_carr; Mitochondrial substrate/solute carrier</td>\n",
       "    </tr>\n",
       "    <tr>\n",
       "      <th>48</th>\n",
       "      <td>PF00155</td>\n",
       "      <td>NaN</td>\n",
       "      <td>AIRS; PurM-like, N-terminal domain</td>\n",
       "    </tr>\n",
       "    <tr>\n",
       "      <th>49</th>\n",
       "      <td>PF01399</td>\n",
       "      <td>NaN</td>\n",
       "      <td>DNA_pol_B; DNA-directed DNA polymerase, family...</td>\n",
       "    </tr>\n",
       "    <tr>\n",
       "      <th>50</th>\n",
       "      <td>PF00171</td>\n",
       "      <td>NaN</td>\n",
       "      <td>AMPK1_CBM; AMP-activated protein kinase, glyco...</td>\n",
       "    </tr>\n",
       "    <tr>\n",
       "      <th>51</th>\n",
       "      <td>PF04722</td>\n",
       "      <td>NaN</td>\n",
       "      <td>MTCP1; Mature-T-Cell Proliferation I type</td>\n",
       "    </tr>\n",
       "    <tr>\n",
       "      <th>52</th>\n",
       "      <td>PF12921</td>\n",
       "      <td>NaN</td>\n",
       "      <td>TFIIA_gamma_C; Transcription initiation factor...</td>\n",
       "    </tr>\n",
       "    <tr>\n",
       "      <th>53</th>\n",
       "      <td>PF02666</td>\n",
       "      <td>NaN</td>\n",
       "      <td>Flocculin</td>\n",
       "    </tr>\n",
       "    <tr>\n",
       "      <th>54</th>\n",
       "      <td>PF10375</td>\n",
       "      <td>NaN</td>\n",
       "      <td>RsfS</td>\n",
       "    </tr>\n",
       "    <tr>\n",
       "      <th>55</th>\n",
       "      <td>PF00646</td>\n",
       "      <td>NaN</td>\n",
       "      <td>CASP_C; CASP, C-terminal</td>\n",
       "    </tr>\n",
       "    <tr>\n",
       "      <th>56</th>\n",
       "      <td>PF08598</td>\n",
       "      <td>NaN</td>\n",
       "      <td>RAI1; RAI1-like</td>\n",
       "    </tr>\n",
       "  </tbody>\n",
       "</table>\n",
       "</div>"
      ],
      "text/plain": [
       "   domain-name domain-description_x  \\\n",
       "2      PF00515                  NaN   \n",
       "3      PF02671                  NaN   \n",
       "4      PF02463                  NaN   \n",
       "5      PF00136                  NaN   \n",
       "6      PF00705                  NaN   \n",
       "7      PF01553                  NaN   \n",
       "8      PF05391                  NaN   \n",
       "9      PF08783                  NaN   \n",
       "10     PF02364                  NaN   \n",
       "11     PF01909                  NaN   \n",
       "12     PF13921                  NaN   \n",
       "13     PF00856                  NaN   \n",
       "14     PF03876                  NaN   \n",
       "15     PF05739                  NaN   \n",
       "16     PF00676                  NaN   \n",
       "17     PF00324                  NaN   \n",
       "18     PF10176                  NaN   \n",
       "19     PF05615                  NaN   \n",
       "20     PF00134                  NaN   \n",
       "21     PF04383                  NaN   \n",
       "22     PF03999                  NaN   \n",
       "23     PF14304                  NaN   \n",
       "24     PF05557                  NaN   \n",
       "25     PF16891                  NaN   \n",
       "26     PF11719                  NaN   \n",
       "27     PF11719                  NaN   \n",
       "28     PF08580                  NaN   \n",
       "29     PF10104                  NaN   \n",
       "30     PF02200                  NaN   \n",
       "31     PF02200                  NaN   \n",
       "32     PF02953                  NaN   \n",
       "33     PF02541                  NaN   \n",
       "34     PF07228                  NaN   \n",
       "35     PF07228                  NaN   \n",
       "36     PF04129                  NaN   \n",
       "37     PF01223                  NaN   \n",
       "38     PF00244                  NaN   \n",
       "39     PF02991                  NaN   \n",
       "40     PF13519                  NaN   \n",
       "41     PF13519                  NaN   \n",
       "42     PF09073                  NaN   \n",
       "43     PF09073                  NaN   \n",
       "44     PF09073                  NaN   \n",
       "45     PF06398                  NaN   \n",
       "46     PF05132                  NaN   \n",
       "47     PF05132                  NaN   \n",
       "48     PF00155                  NaN   \n",
       "49     PF01399                  NaN   \n",
       "50     PF00171                  NaN   \n",
       "51     PF04722                  NaN   \n",
       "52     PF12921                  NaN   \n",
       "53     PF02666                  NaN   \n",
       "54     PF10375                  NaN   \n",
       "55     PF00646                  NaN   \n",
       "56     PF08598                  NaN   \n",
       "\n",
       "                                 domain-description_y  \n",
       "2                                     BAG; BAG domain  \n",
       "3                      Flp_C; Recombinase Flp protein  \n",
       "4                          FSH1; Serine hydrolase FSH  \n",
       "5   AHSA1; Activator of Hsp90 ATPase homologue 1-like  \n",
       "6                        CH; Calponin homology domain  \n",
       "7           DUF202; Domain of unknown function DUF202  \n",
       "8                      NAD_synthase; NAD/GMP synthase  \n",
       "9                                     RQC; RQC domain  \n",
       "10  FDX-ACB; Ferrodoxin-fold anticodon-binding domain  \n",
       "11         Dynein_light; Dynein light chain, type 1/2  \n",
       "12                                          Trypsin_2  \n",
       "13          CRAL_TRIO; CRAL-TRIO lipid binding domain  \n",
       "14        Hydantoinase_B; Hydantoinase B/oxoprolinase  \n",
       "15               NPCC; Nuclear pore complex component  \n",
       "16               CDC48_N; CDC48, N-terminal subdomain  \n",
       "17  Acyl-CoA_ox_N; Acyl-coenzyme A oxidase, N-term...  \n",
       "18             Ribosomal_L38e; Ribosomal protein L38e  \n",
       "19  NIR_SIR_ferr; Nitrite/Sulfite reductase ferred...  \n",
       "20                                               AGA2  \n",
       "21                        Lysine_decarbox; LOG family  \n",
       "22            Inhibitor_I34; Protease A inhibitor IA3  \n",
       "23  UBA_3; Ubiquitin-conjugating enzyme, C-termina...  \n",
       "24                          NIF; FCP1 homology domain  \n",
       "25  tRNA-synt_1c; Glutamyl/glutaminyl-tRNA synthet...  \n",
       "26  SUA5; Putative GTP-binding controlling metal-b...  \n",
       "27  SUA5; Putative GTP-binding controlling metal-b...  \n",
       "28  Pyr_redox_dim; Pyridine nucleotide-disulphide ...  \n",
       "29               Ribosomal_L36; Ribosomal protein L36  \n",
       "30  End3; Actin cytoskeleton-regulatory complex pr...  \n",
       "31  End3; Actin cytoskeleton-regulatory complex pr...  \n",
       "32                                               GWT1  \n",
       "33           Fe-ADH; Alcohol dehydrogenase, iron-type  \n",
       "34      PBP; Phosphatidylethanolamine-binding protein  \n",
       "35      PBP; Phosphatidylethanolamine-binding protein  \n",
       "36  LMWPc; Phosphotyrosine protein phosphatase I s...  \n",
       "37               DASH_Dad3; DASH complex subunit Dad3  \n",
       "38  ATP-grasp; ATP-grasp fold, ATP-dependent carbo...  \n",
       "39  GalP_UDP_transf; Galactose-1-phosphate uridyl ...  \n",
       "40  Telomere_reg-2; Telomere length regulation pro...  \n",
       "41  Telomere_reg-2; Telomere length regulation pro...  \n",
       "42           RRP7; Ribosomal RNA-processing protein 7  \n",
       "43           RRP7; Ribosomal RNA-processing protein 7  \n",
       "44           RRP7; Ribosomal RNA-processing protein 7  \n",
       "45              Nucleoporin_FG; Nucleoporin FG repeat  \n",
       "46  Mito_carr; Mitochondrial substrate/solute carrier  \n",
       "47  Mito_carr; Mitochondrial substrate/solute carrier  \n",
       "48                 AIRS; PurM-like, N-terminal domain  \n",
       "49  DNA_pol_B; DNA-directed DNA polymerase, family...  \n",
       "50  AMPK1_CBM; AMP-activated protein kinase, glyco...  \n",
       "51          MTCP1; Mature-T-Cell Proliferation I type  \n",
       "52  TFIIA_gamma_C; Transcription initiation factor...  \n",
       "53                                          Flocculin  \n",
       "54                                               RsfS  \n",
       "55                           CASP_C; CASP, C-terminal  \n",
       "56                                    RAI1; RAI1-like  "
      ]
     },
     "execution_count": 30,
     "metadata": {},
     "output_type": "execute_result"
    }
   ],
   "source": [
    "only_nsl_pd=pd.merge(repeated_features_sl,repeated_features_nsl,how='right',on=['domain-name'])\n",
    "data_only_nsl = only_nsl_pd[pd.isnull(only_nsl_pd['domain-description_x'])]\n",
    "data_only_nsl"
   ]
  },
  {
   "cell_type": "code",
   "execution_count": 31,
   "metadata": {
    "execution": {
     "iopub.execute_input": "2020-07-14T11:04:16.473933Z",
     "iopub.status.busy": "2020-07-14T11:04:16.468424Z",
     "iopub.status.idle": "2020-07-14T11:04:16.486986Z",
     "shell.execute_reply": "2020-07-14T11:04:16.487404Z"
    }
   },
   "outputs": [
    {
     "data": {
      "text/html": [
       "<div>\n",
       "<style scoped>\n",
       "    .dataframe tbody tr th:only-of-type {\n",
       "        vertical-align: middle;\n",
       "    }\n",
       "\n",
       "    .dataframe tbody tr th {\n",
       "        vertical-align: top;\n",
       "    }\n",
       "\n",
       "    .dataframe thead th {\n",
       "        text-align: right;\n",
       "    }\n",
       "</style>\n",
       "<table border=\"1\" class=\"dataframe\">\n",
       "  <thead>\n",
       "    <tr style=\"text-align: right;\">\n",
       "      <th></th>\n",
       "      <th>domain-name</th>\n",
       "      <th>domain-description_x</th>\n",
       "      <th>domain-description_y</th>\n",
       "    </tr>\n",
       "  </thead>\n",
       "  <tbody>\n",
       "    <tr>\n",
       "      <th>0</th>\n",
       "      <td>PF04191</td>\n",
       "      <td>Lgl_C; Lethal giant larvae (Lgl)-like, C-termi...</td>\n",
       "      <td>Lgl_C; Lethal giant larvae (Lgl)-like, C-termi...</td>\n",
       "    </tr>\n",
       "    <tr>\n",
       "      <th>1</th>\n",
       "      <td>PF06246</td>\n",
       "      <td>Nro1; Negative regulator of Ofd1/Enhancer of t...</td>\n",
       "      <td>Nro1; Negative regulator of Ofd1/Enhancer of t...</td>\n",
       "    </tr>\n",
       "  </tbody>\n",
       "</table>\n",
       "</div>"
      ],
      "text/plain": [
       "  domain-name                               domain-description_x  \\\n",
       "0     PF04191  Lgl_C; Lethal giant larvae (Lgl)-like, C-termi...   \n",
       "1     PF06246  Nro1; Negative regulator of Ofd1/Enhancer of t...   \n",
       "\n",
       "                                domain-description_y  \n",
       "0  Lgl_C; Lethal giant larvae (Lgl)-like, C-termi...  \n",
       "1  Nro1; Negative regulator of Ofd1/Enhancer of t...  "
      ]
     },
     "execution_count": 31,
     "metadata": {},
     "output_type": "execute_result"
    }
   ],
   "source": [
    "shared_domains_pd=pd.merge(repeated_features_sl,repeated_features_nsl,how='inner',on=['domain-name'])\n",
    "shared_domains_pd\n"
   ]
  },
  {
   "cell_type": "code",
   "execution_count": 32,
   "metadata": {
    "execution": {
     "iopub.execute_input": "2020-07-14T11:04:16.491801Z",
     "iopub.status.busy": "2020-07-14T11:04:16.491338Z",
     "iopub.status.idle": "2020-07-14T11:04:18.010444Z",
     "shell.execute_reply": "2020-07-14T11:04:18.009505Z"
    }
   },
   "outputs": [
    {
     "data": {
      "text/plain": [
       "(0.0, 0.2)"
      ]
     },
     "execution_count": 32,
     "metadata": {},
     "output_type": "execute_result"
    },
    {
     "data": {
      "image/png": "[encoded data removed]",
      "text/plain": [
       "<Figure size 432x288 with 1 Axes>"
      ]
     },
     "metadata": {
      "filenames": {
       "image/png": "/home/runner/work/jupyter-book/jupyter-book/mini_book/docs/_build/jupyter_execute/prot_domains2lethality-FEATURES-POSTPROCESSING_47_1.png"
      },
      "needs_background": "light"
     },
     "output_type": "display_data"
    }
   ],
   "source": [
    "a_sl=x_sl.iloc[:,np.sort(df_sl.iloc[:,1])]\n",
    "a_sl.describe().loc['mean'].hist(bins=8),\n",
    "a_sl.describe().loc['std'].hist(bins=8,alpha=0.4)\n",
    "plt.xlim([0,0.2])"
   ]
  },
  {
   "cell_type": "code",
   "execution_count": 33,
   "metadata": {
    "execution": {
     "iopub.execute_input": "2020-07-14T11:04:18.034534Z",
     "iopub.status.busy": "2020-07-14T11:04:18.024465Z",
     "iopub.status.idle": "2020-07-14T11:04:19.648053Z",
     "shell.execute_reply": "2020-07-14T11:04:19.646850Z"
    }
   },
   "outputs": [
    {
     "data": {
      "text/plain": [
       "(0.0, 0.2)"
      ]
     },
     "execution_count": 33,
     "metadata": {},
     "output_type": "execute_result"
    },
    {
     "data": {
      "image/png": "[encoded data removed]",
      "text/plain": [
       "<Figure size 432x288 with 1 Axes>"
      ]
     },
     "metadata": {
      "filenames": {
       "image/png": "/home/runner/work/jupyter-book/jupyter-book/mini_book/docs/_build/jupyter_execute/prot_domains2lethality-FEATURES-POSTPROCESSING_48_1.png"
      },
      "needs_background": "light"
     },
     "output_type": "display_data"
    }
   ],
   "source": [
    "a_nsl=x_nsl.iloc[:,np.sort(df_nsl.iloc[:,1])]\n",
    "a_nsl.describe().loc['mean'].hist(bins=8),\n",
    "a_nsl.describe().loc['std'].hist(bins=8,alpha=0.4)\n",
    "plt.xlim([0,0.2])"
   ]
  },
  {
   "cell_type": "markdown",
   "metadata": {},
   "source": [
    "### Proof of concept with *BEM1*\n",
    "\n",
    "- Gather the domains of SL and nSL pairs from BEM1\n",
    "- Check if the domains for the SL and nSL pairs are inside the most important domains after PCA."
   ]
  },
  {
   "cell_type": "code",
   "execution_count": 34,
   "metadata": {
    "execution": {
     "iopub.execute_input": "2020-07-14T11:04:19.654728Z",
     "iopub.status.busy": "2020-07-14T11:04:19.652845Z",
     "iopub.status.idle": "2020-07-14T11:04:19.657109Z",
     "shell.execute_reply": "2020-07-14T11:04:19.657749Z"
    }
   },
   "outputs": [],
   "source": [
    "domains_bem1=data_domains[data_domains['name']=='BEM1']['domain-descrip']\n",
    "sl_bem1=data_sl[data_sl['gene-query-name']=='BEM1']['gene-target-name']"
   ]
  },
  {
   "cell_type": "code",
   "execution_count": 35,
   "metadata": {
    "execution": {
     "iopub.execute_input": "2020-07-14T11:04:19.661908Z",
     "iopub.status.busy": "2020-07-14T11:04:19.661435Z",
     "iopub.status.idle": "2020-07-14T11:04:19.666377Z",
     "shell.execute_reply": "2020-07-14T11:04:19.665964Z"
    }
   },
   "outputs": [
    {
     "data": {
      "text/plain": [
       "2846      BEM2\n",
       "2847     CDC24\n",
       "5004      MSB1\n",
       "13777     SMI1\n",
       "13778     BNI1\n",
       "13779     BEM2\n",
       "14385     SKN7\n",
       "Name: gene-target-name, dtype: object"
      ]
     },
     "execution_count": 35,
     "metadata": {},
     "output_type": "execute_result"
    }
   ],
   "source": [
    "sl_bem1"
   ]
  },
  {
   "cell_type": "code",
   "execution_count": 36,
   "metadata": {
    "execution": {
     "iopub.execute_input": "2020-07-14T11:04:19.678926Z",
     "iopub.status.busy": "2020-07-14T11:04:19.678401Z",
     "iopub.status.idle": "2020-07-14T11:04:19.682884Z",
     "shell.execute_reply": "2020-07-14T11:04:19.683279Z"
    }
   },
   "outputs": [
    {
     "data": {
      "text/html": [
       "<div>\n",
       "<style scoped>\n",
       "    .dataframe tbody tr th:only-of-type {\n",
       "        vertical-align: middle;\n",
       "    }\n",
       "\n",
       "    .dataframe tbody tr th {\n",
       "        vertical-align: top;\n",
       "    }\n",
       "\n",
       "    .dataframe thead th {\n",
       "        text-align: right;\n",
       "    }\n",
       "</style>\n",
       "<table border=\"1\" class=\"dataframe\">\n",
       "  <thead>\n",
       "    <tr style=\"text-align: right;\">\n",
       "      <th></th>\n",
       "      <th>gene-query</th>\n",
       "      <th>gene-target</th>\n",
       "      <th>gene-query-name</th>\n",
       "      <th>gene-target-name</th>\n",
       "      <th>gene-query-description</th>\n",
       "      <th>gene-target-description</th>\n",
       "      <th>interaction-type</th>\n",
       "      <th>paper-source</th>\n",
       "    </tr>\n",
       "  </thead>\n",
       "  <tbody>\n",
       "    <tr>\n",
       "      <th>2846</th>\n",
       "      <td>YBR200W</td>\n",
       "      <td>YER155C</td>\n",
       "      <td>BEM1</td>\n",
       "      <td>BEM2</td>\n",
       "      <td>SRO1|phosphatidylinositol-3-phosphate-binding ...</td>\n",
       "      <td>IPL2|SUP9|TSL1|L000000168</td>\n",
       "      <td>Synthetic Lethality</td>\n",
       "      <td>Peterson J (1994)</td>\n",
       "    </tr>\n",
       "    <tr>\n",
       "      <th>2847</th>\n",
       "      <td>YBR200W</td>\n",
       "      <td>YAL041W</td>\n",
       "      <td>BEM1</td>\n",
       "      <td>CDC24</td>\n",
       "      <td>SRO1|phosphatidylinositol-3-phosphate-binding ...</td>\n",
       "      <td>CLS4|Rho family guanine nucleotide exchange fa...</td>\n",
       "      <td>Synthetic Lethality</td>\n",
       "      <td>Peterson J (1994)</td>\n",
       "    </tr>\n",
       "    <tr>\n",
       "      <th>5004</th>\n",
       "      <td>YBR200W</td>\n",
       "      <td>YOR188W</td>\n",
       "      <td>BEM1</td>\n",
       "      <td>MSB1</td>\n",
       "      <td>SRO1|phosphatidylinositol-3-phosphate-binding ...</td>\n",
       "      <td>L000001184</td>\n",
       "      <td>Synthetic Lethality</td>\n",
       "      <td>Bender A (1991)</td>\n",
       "    </tr>\n",
       "    <tr>\n",
       "      <th>13777</th>\n",
       "      <td>YBR200W</td>\n",
       "      <td>YGR229C</td>\n",
       "      <td>BEM1</td>\n",
       "      <td>SMI1</td>\n",
       "      <td>SRO1|phosphatidylinositol-3-phosphate-binding ...</td>\n",
       "      <td>KNR4|L000000909</td>\n",
       "      <td>Synthetic Lethality</td>\n",
       "      <td>Gorelik M (2011)</td>\n",
       "    </tr>\n",
       "    <tr>\n",
       "      <th>13778</th>\n",
       "      <td>YBR200W</td>\n",
       "      <td>YNL271C</td>\n",
       "      <td>BEM1</td>\n",
       "      <td>BNI1</td>\n",
       "      <td>SRO1|phosphatidylinositol-3-phosphate-binding ...</td>\n",
       "      <td>PPF3|SHE5|formin BNI1|L000000190</td>\n",
       "      <td>Synthetic Lethality</td>\n",
       "      <td>Gorelik M (2011)</td>\n",
       "    </tr>\n",
       "    <tr>\n",
       "      <th>13779</th>\n",
       "      <td>YBR200W</td>\n",
       "      <td>YER155C</td>\n",
       "      <td>BEM1</td>\n",
       "      <td>BEM2</td>\n",
       "      <td>SRO1|phosphatidylinositol-3-phosphate-binding ...</td>\n",
       "      <td>IPL2|SUP9|TSL1|L000000168</td>\n",
       "      <td>Synthetic Lethality</td>\n",
       "      <td>Gorelik M (2011)</td>\n",
       "    </tr>\n",
       "    <tr>\n",
       "      <th>14385</th>\n",
       "      <td>YBR200W</td>\n",
       "      <td>YHR206W</td>\n",
       "      <td>BEM1</td>\n",
       "      <td>SKN7</td>\n",
       "      <td>SRO1|phosphatidylinositol-3-phosphate-binding ...</td>\n",
       "      <td>BRY1|POS9|kinase-regulated stress-responsive t...</td>\n",
       "      <td>Dosage Lethality</td>\n",
       "      <td>Bouquin N (1999)</td>\n",
       "    </tr>\n",
       "  </tbody>\n",
       "</table>\n",
       "</div>"
      ],
      "text/plain": [
       "      gene-query gene-target gene-query-name gene-target-name  \\\n",
       "2846     YBR200W     YER155C            BEM1             BEM2   \n",
       "2847     YBR200W     YAL041W            BEM1            CDC24   \n",
       "5004     YBR200W     YOR188W            BEM1             MSB1   \n",
       "13777    YBR200W     YGR229C            BEM1             SMI1   \n",
       "13778    YBR200W     YNL271C            BEM1             BNI1   \n",
       "13779    YBR200W     YER155C            BEM1             BEM2   \n",
       "14385    YBR200W     YHR206W            BEM1             SKN7   \n",
       "\n",
       "                                  gene-query-description  \\\n",
       "2846   SRO1|phosphatidylinositol-3-phosphate-binding ...   \n",
       "2847   SRO1|phosphatidylinositol-3-phosphate-binding ...   \n",
       "5004   SRO1|phosphatidylinositol-3-phosphate-binding ...   \n",
       "13777  SRO1|phosphatidylinositol-3-phosphate-binding ...   \n",
       "13778  SRO1|phosphatidylinositol-3-phosphate-binding ...   \n",
       "13779  SRO1|phosphatidylinositol-3-phosphate-binding ...   \n",
       "14385  SRO1|phosphatidylinositol-3-phosphate-binding ...   \n",
       "\n",
       "                                 gene-target-description     interaction-type  \\\n",
       "2846                           IPL2|SUP9|TSL1|L000000168  Synthetic Lethality   \n",
       "2847   CLS4|Rho family guanine nucleotide exchange fa...  Synthetic Lethality   \n",
       "5004                                          L000001184  Synthetic Lethality   \n",
       "13777                                    KNR4|L000000909  Synthetic Lethality   \n",
       "13778                   PPF3|SHE5|formin BNI1|L000000190  Synthetic Lethality   \n",
       "13779                          IPL2|SUP9|TSL1|L000000168  Synthetic Lethality   \n",
       "14385  BRY1|POS9|kinase-regulated stress-responsive t...     Dosage Lethality   \n",
       "\n",
       "            paper-source  \n",
       "2846   Peterson J (1994)  \n",
       "2847   Peterson J (1994)  \n",
       "5004     Bender A (1991)  \n",
       "13777   Gorelik M (2011)  \n",
       "13778   Gorelik M (2011)  \n",
       "13779   Gorelik M (2011)  \n",
       "14385   Bouquin N (1999)  "
      ]
     },
     "execution_count": 36,
     "metadata": {},
     "output_type": "execute_result"
    }
   ],
   "source": [
    "data_sl[data_sl['gene-query-name']=='BEM1']"
   ]
  },
  {
   "cell_type": "code",
   "execution_count": null,
   "metadata": {},
   "outputs": [],
   "source": []
  }
 ],
 "metadata": {
  "jupytext": {
   "text_representation": {
    "extension": ".md",
    "format_name": "myst"
   }
  },
  "kernelspec": {
   "display_name": "Python 3",
   "language": "python",
   "name": "python3"
  },
  "language_info": {
   "codemirror_mode": {
    "name": "ipython",
    "version": 3
   },
   "file_extension": ".py",
   "mimetype": "text/x-python",
   "name": "python",
   "nbconvert_exporter": "python",
   "pygments_lexer": "ipython3",
   "version": "3.7.6"
  },
  "source_map": [
   10,
   18,
   29,
   36,
   57,
   66,
   98,
   101,
   105,
   128,
   131,
   135,
   139,
   145,
   178,
   184,
   188,
   206,
   210,
   218,
   222,
   225,
   229,
   234,
   238,
   244,
   248,
   253,
   257,
   267,
   269,
   273,
   306,
   311,
   313,
   317,
   328,
   330,
   334,
   344,
   348,
   358,
   360,
   364,
   381,
   388,
   394,
   400,
   407,
   412,
   419,
   424,
   428,
   432
  ]
 },
 "nbformat": 4,
 "nbformat_minor": 4
}