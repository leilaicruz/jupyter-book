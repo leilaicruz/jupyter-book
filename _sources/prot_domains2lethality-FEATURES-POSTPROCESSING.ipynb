{
 "cells": [
  {
   "cell_type": "markdown",
   "metadata": {},
   "source": [
    "# Feature postprocessing from paper.\n",
    "- Title:  \"Predicting yeast synthetic lethal genetic interactions using protein domains\"\n",
    "- Authors: Bo Li, Feng Luo,School of Computing,Clemson University,Clemson, SC, USA\n",
    "- e-mail: bol, luofeng@clemson.edu\n",
    "- year:2009"
   ]
  },
  {
   "cell_type": "code",
   "execution_count": 1,
   "metadata": {
    "execution": {
     "iopub.execute_input": "2020-07-24T03:11:57.329447Z",
     "iopub.status.busy": "2020-07-24T03:11:57.328830Z",
     "iopub.status.idle": "2020-07-24T03:11:58.165464Z",
     "shell.execute_reply": "2020-07-24T03:11:58.164686Z"
    }
   },
   "outputs": [],
   "source": [
    "import pandas as pd\n",
    "import numpy as np\n",
    "import matplotlib.pyplot as plt\n",
    "from collections import defaultdict \n",
    "import seaborn as sns\n",
    "import matplotlib.cm as cm\n",
    "import scipy as scipy\n",
    "import random"
   ]
  },
  {
   "cell_type": "markdown",
   "metadata": {
    "jupyter": {
     "source_hidden": true
    }
   },
   "source": [
    "### Importing datasets \n",
    "\n",
    "#### Link to the github repo where the datasets to be downloaded:\n",
    "[DOWNLOAD THE DATASETS HERE](https://github.com/leilaicruz/machine-learning-for-yeast/tree/dev_Leila/datasets-for-learning)"
   ]
  },
  {
   "cell_type": "code",
   "execution_count": 2,
   "metadata": {
    "execution": {
     "iopub.execute_input": "2020-07-24T03:11:58.173590Z",
     "iopub.status.busy": "2020-07-24T03:11:58.172298Z",
     "iopub.status.idle": "2020-07-24T03:12:06.488432Z",
     "shell.execute_reply": "2020-07-24T03:12:06.488977Z"
    }
   },
   "outputs": [],
   "source": [
    "import os\n",
    "script_dir = os.path.dirname('__file__') #<-- absolute dir the script is in\n",
    "rel_path_SL = \"datasets/data-synthetic-lethals.xlsx\"\n",
    "rel_path_nSL=\"datasets/data-positive-genetic.xlsx\"\n",
    "rel_path_domains=\"datasets/proteins-domains-from-Pfam.xlsx\"\n",
    "\n",
    "abs_file_path_SL = os.path.join(script_dir, rel_path_SL)\n",
    "abs_file_path_nSL = os.path.join(script_dir, rel_path_nSL)\n",
    "abs_file_path_domains = os.path.join(script_dir, rel_path_domains)\n",
    "\n",
    "# os.chdir('mini_book/docs/') #<-- for binder os.chdir('../')\n",
    "# os.chdir('../')\n",
    "my_path_sl= abs_file_path_SL\n",
    "my_path_non_sl=abs_file_path_nSL\n",
    "my_path_domains=abs_file_path_domains\n",
    "\n",
    "data_sl=pd.read_excel(my_path_sl,header=0)\n",
    "data_domains=pd.read_excel(my_path_domains,header=0,index_col='Unnamed: 0')\n",
    "data_domains=data_domains.dropna()\n",
    "data_nonsl=pd.read_excel(my_path_non_sl,header=0)"
   ]
  },
  {
   "cell_type": "markdown",
   "metadata": {},
   "source": [
    "## Building the feature matrix\n",
    "One matrix for true SL where each row is one pair of SL. Every raw will be a vector of 0,1 or 2 depending on the comparison with the domain list. For row i the jth element = 0 if the jth element of the domain list is not in neither protein A and B, 1, if it is in one of them and 2 if it is in both of them .\n",
    "\n",
    "### Building the list of proteins domains id per protein pair separately :\n",
    "- List of protein A: Search for the Sl/nSL database the query gene name and look in the protein domain database which protein domains id has each of those queries.\n",
    "- List of protein B: Search for the Sl/nSL database the target gene name of the previous query and look in the protein domain database which protein domains id has each of those target genes."
   ]
  },
  {
   "cell_type": "code",
   "execution_count": 3,
   "metadata": {
    "execution": {
     "iopub.execute_input": "2020-07-24T03:12:06.507446Z",
     "iopub.status.busy": "2020-07-24T03:12:06.506772Z",
     "iopub.status.idle": "2020-07-24T03:12:08.871004Z",
     "shell.execute_reply": "2020-07-24T03:12:08.871484Z"
    }
   },
   "outputs": [],
   "source": [
    "# Selecting the meaningful columns in the respective dataset\n",
    "domain_id_list=data_domains['domain-name']\n",
    "query_gene=data_sl['gene-query-name']\n",
    "target_gene=data_sl['gene-target-name']\n",
    "query_gene_nonlethal=data_nonsl['gene-query-name']\n",
    "target_gene_nonlethal=data_nonsl['gene-target-name']\n",
    "\n",
    "\n",
    "\n",
    "# Initialising the arrays\n",
    "protein_a_list=[]\n",
    "protein_b_list=[]\n",
    "protein_a_list_non=[]\n",
    "protein_b_list_non=[]\n",
    "\n",
    "population = np.arange(0,len(data_sl))\n",
    "\n",
    "# For loop for 10000 pairs sampled randomly from the SL/nSl pair list , and creating a big array of proteind domains id per protein pair\n",
    "\n",
    "for m in random.sample(list(population), 500):\n",
    "    protein_a=data_domains[data_domains['name']==query_gene[m]]\n",
    "    protein_b=data_domains[data_domains['name']==target_gene[m]]\n",
    "    protein_a_list.append(protein_a['domain-name'].tolist())\n",
    "    protein_b_list.append(protein_b['domain-name'].tolist())\n",
    "\n",
    "    protein_a_non=data_domains[data_domains['name']==query_gene_nonlethal[m]]\n",
    "    protein_b_non=data_domains[data_domains['name']==target_gene_nonlethal[m]]\n",
    "    protein_a_list_non.append(protein_a_non['domain-name'].tolist())\n",
    "    protein_b_list_non.append(protein_b_non['domain-name'].tolist())"
   ]
  },
  {
   "cell_type": "code",
   "execution_count": 4,
   "metadata": {
    "execution": {
     "iopub.execute_input": "2020-07-24T03:12:08.877745Z",
     "iopub.status.busy": "2020-07-24T03:12:08.875997Z",
     "iopub.status.idle": "2020-07-24T03:12:08.882752Z",
     "shell.execute_reply": "2020-07-24T03:12:08.881798Z"
    }
   },
   "outputs": [
    {
     "name": "stdout",
     "output_type": "stream",
     "text": [
      "We are going to analyze 500 protein pairs, out of 17871 SL protein pairs\n",
      "We are going to analyze 500 protein pairs, out of 43340 positive protein pairs\n"
     ]
    }
   ],
   "source": [
    "print('We are going to analyze',len((protein_a_list)) ,'protein pairs, out of',len(data_sl),'SL protein pairs')\n",
    "print('We are going to analyze',len((protein_a_list_non)) ,'protein pairs, out of',len(data_nonsl),'positive protein pairs')"
   ]
  },
  {
   "cell_type": "markdown",
   "metadata": {},
   "source": [
    "### Postprocessing #1:  Remove protein pairs from study if either protein in the pair does not contain any domain"
   ]
  },
  {
   "cell_type": "code",
   "execution_count": 5,
   "metadata": {
    "execution": {
     "iopub.execute_input": "2020-07-24T03:12:08.894669Z",
     "iopub.status.busy": "2020-07-24T03:12:08.893967Z",
     "iopub.status.idle": "2020-07-24T03:12:08.897873Z",
     "shell.execute_reply": "2020-07-24T03:12:08.898361Z"
    }
   },
   "outputs": [],
   "source": [
    "def remove_empty_domains(protein_list_search,protein_list_pair):\n",
    "    index=[]\n",
    "    for i in np.arange(0,len(protein_list_search)):\n",
    "        if protein_list_search[i]==[] or protein_list_pair[i]==[]:\n",
    "            index.append(i) ## index of empty values for the protein_a_list meaning they dont have any annotated domain\n",
    "\n",
    "    y=[x for x in np.arange(0,len(protein_list_search)) if x not in index] # a list with non empty values from protein_a list\n",
    "\n",
    "    protein_list_search_new=[]\n",
    "    protein_list_pair_new=[]\n",
    "    for i in y:\n",
    "        protein_list_search_new.append(protein_list_search[i])\n",
    "        protein_list_pair_new.append(protein_list_pair[i])\n",
    "    return protein_list_search_new,protein_list_pair_new\n",
    "\n",
    "## evaluating the function\n",
    "\n",
    "protein_a_list_new,protein_b_list_new=remove_empty_domains(protein_a_list,protein_b_list)\n",
    "\n",
    "protein_a_list_non_new,protein_b_list_non_new=remove_empty_domains(protein_a_list_non,protein_b_list_non)"
   ]
  },
  {
   "cell_type": "code",
   "execution_count": 6,
   "metadata": {
    "execution": {
     "iopub.execute_input": "2020-07-24T03:12:08.905643Z",
     "iopub.status.busy": "2020-07-24T03:12:08.904706Z",
     "iopub.status.idle": "2020-07-24T03:12:08.907455Z",
     "shell.execute_reply": "2020-07-24T03:12:08.906235Z"
    }
   },
   "outputs": [
    {
     "name": "stdout",
     "output_type": "stream",
     "text": [
      "The empty domain in the SL were: 81 out of 500 domains\n",
      "The empty domain in the nSL were: 81 out of 500 domains\n"
     ]
    }
   ],
   "source": [
    "print('The empty domain in the SL were:', len(protein_a_list)-len(protein_a_list_new), 'out of', len(protein_a_list),'domains')\n",
    "print('The empty domain in the nSL were:', len(protein_a_list_non)-len(protein_a_list_non_new), 'out of', len(protein_a_list_non),'domains')"
   ]
  },
  {
   "cell_type": "markdown",
   "metadata": {},
   "source": [
    "### Feature engineering: Select from each ordered indexes of domain id list which of them appear once, in both or in any of the domains of each protein pair"
   ]
  },
  {
   "cell_type": "markdown",
   "metadata": {},
   "source": [
    "#### Define function `get_indexes`"
   ]
  },
  {
   "cell_type": "code",
   "execution_count": 7,
   "metadata": {
    "execution": {
     "iopub.execute_input": "2020-07-24T03:12:08.917333Z",
     "iopub.status.busy": "2020-07-24T03:12:08.915424Z",
     "iopub.status.idle": "2020-07-24T03:12:08.920567Z",
     "shell.execute_reply": "2020-07-24T03:12:08.919607Z"
    }
   },
   "outputs": [
    {
     "data": {
      "text/plain": [
       "[1, 2]"
      ]
     },
     "execution_count": 7,
     "metadata": {},
     "output_type": "execute_result"
    }
   ],
   "source": [
    "get_indexes = lambda x, xs: [i for (y, i) in zip(xs, range(len(xs))) if x == y] # a function that give the index of whether a value appear in array or not\n",
    "a=[1,2,2,4,5,6,7,8,9,10]\n",
    "get_indexes(2,a)"
   ]
  },
  {
   "cell_type": "code",
   "execution_count": 8,
   "metadata": {
    "execution": {
     "iopub.execute_input": "2020-07-24T03:12:08.930618Z",
     "iopub.status.busy": "2020-07-24T03:12:08.928058Z",
     "iopub.status.idle": "2020-07-24T03:12:08.933040Z",
     "shell.execute_reply": "2020-07-24T03:12:08.932548Z"
    }
   },
   "outputs": [],
   "source": [
    "def feature_building(protein_a_list_new,protein_b_list_new):\n",
    "    x = np.unique(domain_id_list)\n",
    "    ## To avoid taking repeated domains from one protein of the pairs , lets reduced the domains of each protein from the pairs to their unique members\n",
    "    protein_a_list_unique=[]\n",
    "    protein_b_list_unique=[]\n",
    "    for i in np.arange(0,len(protein_a_list_new)):\n",
    "        protein_a_list_unique.append(np.unique(protein_a_list_new[i]))\n",
    "        protein_b_list_unique.append(np.unique(protein_b_list_new[i]))\n",
    "        \n",
    "    protein_feat_true=np.zeros(shape=(len(x),len(protein_a_list_unique)))\n",
    "    pair_a_b_array=[]\n",
    "    for i in np.arange(0,len(protein_a_list_unique)):\n",
    "        index_a=[]\n",
    "        \n",
    "        pair=[protein_a_list_unique[i],protein_b_list_unique[i]]\n",
    "        pair_a_b=np.concatenate(pair).ravel()\n",
    "        pair_a_b_array.append(pair_a_b)\n",
    "\n",
    "    j=0\n",
    "    for i in pair_a_b_array:  \n",
    "        array,index,counts=np.unique(i,return_index=True,return_counts=True)\n",
    "        \n",
    "        for k,m in zip(counts,array):\n",
    "            if k ==2:\n",
    "                protein_feat_true[get_indexes(m,x),j]=2\n",
    "                \n",
    "            if k==1:\n",
    "                protein_feat_true[get_indexes(m,x),j]=1\n",
    "        j=j+1\n",
    "    return protein_feat_true"
   ]
  },
  {
   "cell_type": "code",
   "execution_count": 9,
   "metadata": {
    "execution": {
     "iopub.execute_input": "2020-07-24T03:12:08.943956Z",
     "iopub.status.busy": "2020-07-24T03:12:08.943375Z",
     "iopub.status.idle": "2020-07-24T03:12:09.809187Z",
     "shell.execute_reply": "2020-07-24T03:12:09.809647Z"
    }
   },
   "outputs": [],
   "source": [
    "protein_feat_true=feature_building(protein_b_list_new=protein_b_list_new,protein_a_list_new=protein_a_list_new)\n",
    "protein_feat_true_pd=pd.DataFrame(protein_feat_true.T)\n",
    "\n",
    "protein_feat_non_true=feature_building(protein_b_list_new=protein_b_list_non_new,protein_a_list_new=protein_a_list_non_new)\n",
    "protein_feat_non_true_pd=pd.DataFrame(protein_feat_non_true.T)"
   ]
  },
  {
   "cell_type": "markdown",
   "metadata": {},
   "source": [
    "### How many ones and twos are in each dataset"
   ]
  },
  {
   "cell_type": "code",
   "execution_count": 10,
   "metadata": {
    "execution": {
     "iopub.execute_input": "2020-07-24T03:12:09.823838Z",
     "iopub.status.busy": "2020-07-24T03:12:09.823222Z",
     "iopub.status.idle": "2020-07-24T03:12:09.929477Z",
     "shell.execute_reply": "2020-07-24T03:12:09.928629Z"
    }
   },
   "outputs": [
    {
     "name": "stdout",
     "output_type": "stream",
     "text": [
      "fraction of twos in the SL array is 1.8146314522968893e-05\n",
      "fraction of ones in the SL array is 0.0010217164046628139\n",
      "fraction of twos in the PI array is 8.678672163159036e-06\n",
      "fraction of ones in the PI array is 0.000937296593621176\n"
     ]
    }
   ],
   "source": [
    "index_2_true=protein_feat_true_pd.where(protein_feat_true_pd==2)\n",
    "index_2_true_count=index_2_true.count(axis=1).sum()\n",
    "\n",
    "index_1_true=protein_feat_true_pd.where(protein_feat_true_pd==1)\n",
    "index_1_true_count=index_1_true.count(axis=1).sum()\n",
    "\n",
    "index_2_nontrue=protein_feat_non_true_pd.where(protein_feat_non_true_pd==2)\n",
    "index_2_nontrue_count=index_2_nontrue.count(axis=1).sum()\n",
    "\n",
    "index_1_nontrue=protein_feat_non_true_pd.where(protein_feat_non_true_pd==1)\n",
    "index_1_nontrue_count=index_1_nontrue.count(axis=1).sum()\n",
    "\n",
    "\n",
    "print('fraction of twos in the SL array is',index_2_true_count/(len(protein_feat_true_pd.index)*len(protein_feat_true_pd.columns)))\n",
    "print('fraction of ones in the SL array is',index_1_true_count/(len(protein_feat_true_pd.index)*len(protein_feat_true_pd.columns)))\n",
    "print('fraction of twos in the PI array is',index_2_nontrue_count/(len(protein_feat_non_true_pd.index)*len(protein_feat_non_true_pd.columns)))\n",
    "print('fraction of ones in the PI array is',index_1_nontrue_count/(len(protein_feat_non_true_pd.index)*len(protein_feat_non_true_pd.columns)))"
   ]
  },
  {
   "cell_type": "markdown",
   "metadata": {},
   "source": [
    "#### Bar plot to visualize these numbers"
   ]
  },
  {
   "cell_type": "code",
   "execution_count": 11,
   "metadata": {
    "execution": {
     "iopub.execute_input": "2020-07-24T03:12:09.954132Z",
     "iopub.status.busy": "2020-07-24T03:12:09.946405Z",
     "iopub.status.idle": "2020-07-24T03:12:10.485924Z",
     "shell.execute_reply": "2020-07-24T03:12:10.486511Z"
    }
   },
   "outputs": [
    {
     "data": {
      "text/plain": [
       "([0, 1, 2, 3],\n",
       " [Text(0, 0, ''), Text(0, 0, ''), Text(0, 0, ''), Text(0, 0, '')])"
      ]
     },
     "execution_count": 11,
     "metadata": {},
     "output_type": "execute_result"
    },
    {
     "data": {
      "image/png": "[encoded data removed]",
      "text/plain": [
       "<Figure size 432x288 with 1 Axes>"
      ]
     },
     "metadata": {
      "filenames": {
       "image/png": "/home/runner/work/jupyter-book/jupyter-book/mini_book/docs/_build/jupyter_execute/prot_domains2lethality-FEATURES-POSTPROCESSING_18_1.png"
      },
      "needs_background": "light"
     },
     "output_type": "display_data"
    }
   ],
   "source": [
    "plt.bar(['fraction of 2 in the nSL','fraction of 1 in the nSL'],[index_2_nontrue_count/(len(protein_feat_non_true_pd.index)*len(protein_feat_non_true_pd.columns)),index_1_nontrue_count/(len(protein_feat_non_true_pd.index)*len(protein_feat_non_true_pd.columns))],alpha=0.6,color=['blue','lightblue']), \n",
    "\n",
    "plt.bar(['fraction of 2 in SL ','fraction of 1 in SL'],[index_2_true_count/(len(protein_feat_true_pd.index)*len(protein_feat_true_pd.columns)),index_1_true_count/(len(protein_feat_true_pd.index)*len(protein_feat_true_pd.columns))],alpha=0.6,color=['coral','lightcoral'])\n",
    "\n",
    "plt.ylabel('Fraction from the population')\n",
    "plt.yscale('log')\n",
    "plt.xticks(rotation=40)"
   ]
  },
  {
   "cell_type": "markdown",
   "metadata": {},
   "source": [
    "#### Adding the labels(response variables) to each dataset"
   ]
  },
  {
   "cell_type": "code",
   "execution_count": 12,
   "metadata": {
    "execution": {
     "iopub.execute_input": "2020-07-24T03:12:10.493730Z",
     "iopub.status.busy": "2020-07-24T03:12:10.490905Z",
     "iopub.status.idle": "2020-07-24T03:12:10.497201Z",
     "shell.execute_reply": "2020-07-24T03:12:10.496710Z"
    }
   },
   "outputs": [],
   "source": [
    "protein_feat_true_pd['lethality']=np.ones(shape=(len(protein_a_list_new)))\n",
    "protein_feat_non_true_pd['lethality']=np.zeros(shape=(len(protein_a_list_non_new)))"
   ]
  },
  {
   "cell_type": "markdown",
   "metadata": {},
   "source": [
    "#### Joining both datasets"
   ]
  },
  {
   "cell_type": "code",
   "execution_count": 13,
   "metadata": {
    "execution": {
     "iopub.execute_input": "2020-07-24T03:12:10.503180Z",
     "iopub.status.busy": "2020-07-24T03:12:10.502572Z",
     "iopub.status.idle": "2020-07-24T03:12:10.546703Z",
     "shell.execute_reply": "2020-07-24T03:12:10.546165Z"
    }
   },
   "outputs": [
    {
     "name": "stdout",
     "output_type": "stream",
     "text": [
      "The number of features are: 3026\n",
      "The number of samples are: 838\n"
     ]
    }
   ],
   "source": [
    "feature_post=pd.concat([protein_feat_true_pd,protein_feat_non_true_pd],axis=0)\n",
    "feature_post=feature_post.set_index(np.arange(0,len(protein_a_list_new)+len(protein_a_list_non_new)))\n",
    "print('The number of features are:',feature_post.shape[1])\n",
    "print('The number of samples are:',feature_post.shape[0])"
   ]
  },
  {
   "cell_type": "markdown",
   "metadata": {},
   "source": [
    "### Postprocessing and exploration of the feature matrix of both datasets"
   ]
  },
  {
   "cell_type": "code",
   "execution_count": 14,
   "metadata": {
    "execution": {
     "iopub.execute_input": "2020-07-24T03:12:10.563838Z",
     "iopub.status.busy": "2020-07-24T03:12:10.562858Z",
     "iopub.status.idle": "2020-07-24T03:12:15.904707Z",
     "shell.execute_reply": "2020-07-24T03:12:15.905207Z"
    }
   },
   "outputs": [],
   "source": [
    "mean=feature_post.T.describe().loc['mean']\n",
    "std=feature_post.T.describe().loc['std']\n",
    "lethality=feature_post['lethality']\n",
    "\n",
    "corr_keys=pd.concat([mean,std,lethality],axis=1)"
   ]
  },
  {
   "cell_type": "markdown",
   "metadata": {},
   "source": [
    "### Viz of the stats"
   ]
  },
  {
   "cell_type": "code",
   "execution_count": 15,
   "metadata": {
    "execution": {
     "iopub.execute_input": "2020-07-24T03:12:15.946483Z",
     "iopub.status.busy": "2020-07-24T03:12:15.939516Z",
     "iopub.status.idle": "2020-07-24T03:12:17.749028Z",
     "shell.execute_reply": "2020-07-24T03:12:17.749561Z"
    }
   },
   "outputs": [
    {
     "data": {
      "text/plain": [
       "Text(0.5, 1.08, 'Pairplot to see data dependencies with Lethality')"
      ]
     },
     "execution_count": 15,
     "metadata": {},
     "output_type": "execute_result"
    },
    {
     "data": {
      "image/png": "[encoded data removed]",
      "text/plain": [
       "<Figure size 412x360 with 6 Axes>"
      ]
     },
     "metadata": {
      "filenames": {
       "image/png": "/home/runner/work/jupyter-book/jupyter-book/mini_book/docs/_build/jupyter_execute/prot_domains2lethality-FEATURES-POSTPROCESSING_26_1.png"
      },
      "needs_background": "light"
     },
     "output_type": "display_data"
    }
   ],
   "source": [
    "pair=sns.pairplot(corr_keys,hue='lethality',diag_kind='kde',kind='reg',palette='colorblind')\n",
    "pair.fig.suptitle('Pairplot to see data dependencies with Lethality',y=1.08)"
   ]
  },
  {
   "cell_type": "code",
   "execution_count": 16,
   "metadata": {
    "execution": {
     "iopub.execute_input": "2020-07-24T03:12:17.761798Z",
     "iopub.status.busy": "2020-07-24T03:12:17.761150Z",
     "iopub.status.idle": "2020-07-24T03:12:17.765464Z",
     "shell.execute_reply": "2020-07-24T03:12:17.764914Z"
    }
   },
   "outputs": [],
   "source": [
    "X, y = feature_post.drop(columns=[\"lethality\"]), feature_post[\"lethality\"]"
   ]
  },
  {
   "cell_type": "code",
   "execution_count": 17,
   "metadata": {
    "execution": {
     "iopub.execute_input": "2020-07-24T03:12:17.771160Z",
     "iopub.status.busy": "2020-07-24T03:12:17.770102Z",
     "iopub.status.idle": "2020-07-24T03:12:17.930478Z",
     "shell.execute_reply": "2020-07-24T03:12:17.929543Z"
    }
   },
   "outputs": [],
   "source": [
    "from sklearn.preprocessing import StandardScaler\n",
    "scaler = StandardScaler()\n",
    "x_sl=protein_feat_true_pd.drop(columns=['lethality'])\n",
    "x_nsl=protein_feat_non_true_pd.drop(columns=['lethality'])\n",
    "\n",
    "X_sl_scaled = scaler.fit_transform(x_sl)\n",
    "X_nsl_scaled = scaler.fit_transform(x_nsl)"
   ]
  },
  {
   "cell_type": "code",
   "execution_count": 18,
   "metadata": {
    "execution": {
     "iopub.execute_input": "2020-07-24T03:12:17.935249Z",
     "iopub.status.busy": "2020-07-24T03:12:17.934622Z",
     "iopub.status.idle": "2020-07-24T03:12:17.940257Z",
     "shell.execute_reply": "2020-07-24T03:12:17.939745Z"
    }
   },
   "outputs": [
    {
     "data": {
      "text/plain": [
       "(419, 3025)"
      ]
     },
     "execution_count": 18,
     "metadata": {},
     "output_type": "execute_result"
    }
   ],
   "source": [
    "np.shape(X_sl_scaled)"
   ]
  },
  {
   "cell_type": "markdown",
   "metadata": {},
   "source": [
    "## How redundant are each of the protein domains?"
   ]
  },
  {
   "cell_type": "code",
   "execution_count": 19,
   "metadata": {
    "execution": {
     "iopub.execute_input": "2020-07-24T03:12:17.949680Z",
     "iopub.status.busy": "2020-07-24T03:12:17.948964Z",
     "iopub.status.idle": "2020-07-24T03:12:17.953889Z",
     "shell.execute_reply": "2020-07-24T03:12:17.953190Z"
    }
   },
   "outputs": [],
   "source": [
    "def PCA_component_contribution(scaled_matrix,original_data):\n",
    "    from sklearn.decomposition import PCA\n",
    "\n",
    "    model = PCA(0.95).fit(scaled_matrix)\n",
    "    ## apply dimensionality reduction to X_train\n",
    "    output_pca = model.transform(scaled_matrix)\n",
    "    \n",
    "    total=sum(model.explained_variance_)\n",
    "\n",
    "\n",
    "   \n",
    "    # number of components , that it will be the number of main axes times the number of original components \n",
    "    n_pcs= model.components_.shape[0] # the amount of non redundant protein domains \n",
    "\n",
    "    # get the index of the most important feature on EACH component\n",
    "    # LIST COMPREHENSION HERE\n",
    "    most_important = [np.abs(model.components_[i]).argmax() for i in range(n_pcs)]\n",
    "\n",
    "    initial_feature_names = original_data.columns\n",
    "    # get the names\n",
    "    most_important_names = [initial_feature_names[most_important[i]] for i in range(n_pcs)]\n",
    "    \n",
    "\n",
    "    # LIST COMPREHENSION HERE AGAIN\n",
    "    dic = {'PC{}'.format(i): most_important_names[i] for i in range(n_pcs)}\n",
    "\n",
    "    # build the dataframe\n",
    "    df = pd.DataFrame(dic.items(),columns=['pca-component','domain-number'])\n",
    "\n",
    "    return df,model.components_"
   ]
  },
  {
   "cell_type": "code",
   "execution_count": 20,
   "metadata": {
    "execution": {
     "iopub.execute_input": "2020-07-24T03:12:17.958316Z",
     "iopub.status.busy": "2020-07-24T03:12:17.957543Z",
     "iopub.status.idle": "2020-07-24T03:12:18.720048Z",
     "shell.execute_reply": "2020-07-24T03:12:18.720611Z"
    }
   },
   "outputs": [],
   "source": [
    "df_sl,components_pca_nsl=PCA_component_contribution(X_nsl_scaled,x_nsl)\n",
    "df_nsl,components_pca_sl=PCA_component_contribution(X_sl_scaled,x_sl)"
   ]
  },
  {
   "cell_type": "code",
   "execution_count": 21,
   "metadata": {
    "execution": {
     "iopub.execute_input": "2020-07-24T03:12:18.723492Z",
     "iopub.status.busy": "2020-07-24T03:12:18.722680Z",
     "iopub.status.idle": "2020-07-24T03:12:18.732518Z",
     "shell.execute_reply": "2020-07-24T03:12:18.731996Z"
    }
   },
   "outputs": [
    {
     "data": {
      "text/html": [
       "<div>\n",
       "<style scoped>\n",
       "    .dataframe tbody tr th:only-of-type {\n",
       "        vertical-align: middle;\n",
       "    }\n",
       "\n",
       "    .dataframe tbody tr th {\n",
       "        vertical-align: top;\n",
       "    }\n",
       "\n",
       "    .dataframe thead th {\n",
       "        text-align: right;\n",
       "    }\n",
       "</style>\n",
       "<table border=\"1\" class=\"dataframe\">\n",
       "  <thead>\n",
       "    <tr style=\"text-align: right;\">\n",
       "      <th></th>\n",
       "      <th>pca-component</th>\n",
       "      <th>domain-number</th>\n",
       "    </tr>\n",
       "  </thead>\n",
       "  <tbody>\n",
       "    <tr>\n",
       "      <th>0</th>\n",
       "      <td>PC0</td>\n",
       "      <td>2233</td>\n",
       "    </tr>\n",
       "    <tr>\n",
       "      <th>1</th>\n",
       "      <td>PC1</td>\n",
       "      <td>340</td>\n",
       "    </tr>\n",
       "    <tr>\n",
       "      <th>2</th>\n",
       "      <td>PC2</td>\n",
       "      <td>540</td>\n",
       "    </tr>\n",
       "    <tr>\n",
       "      <th>3</th>\n",
       "      <td>PC3</td>\n",
       "      <td>423</td>\n",
       "    </tr>\n",
       "    <tr>\n",
       "      <th>4</th>\n",
       "      <td>PC4</td>\n",
       "      <td>1887</td>\n",
       "    </tr>\n",
       "  </tbody>\n",
       "</table>\n",
       "</div>"
      ],
      "text/plain": [
       "  pca-component  domain-number\n",
       "0           PC0           2233\n",
       "1           PC1            340\n",
       "2           PC2            540\n",
       "3           PC3            423\n",
       "4           PC4           1887"
      ]
     },
     "execution_count": 21,
     "metadata": {},
     "output_type": "execute_result"
    }
   ],
   "source": [
    "df_sl.head()"
   ]
  },
  {
   "cell_type": "markdown",
   "metadata": {},
   "source": [
    "## which are the shared domains between nSL and SL pairs , in the PCA reduced samples"
   ]
  },
  {
   "cell_type": "code",
   "execution_count": 22,
   "metadata": {
    "execution": {
     "iopub.execute_input": "2020-07-24T03:12:18.738489Z",
     "iopub.status.busy": "2020-07-24T03:12:18.737889Z",
     "iopub.status.idle": "2020-07-24T03:12:18.770256Z",
     "shell.execute_reply": "2020-07-24T03:12:18.770818Z"
    }
   },
   "outputs": [
    {
     "data": {
      "text/html": [
       "<div>\n",
       "<style scoped>\n",
       "    .dataframe tbody tr th:only-of-type {\n",
       "        vertical-align: middle;\n",
       "    }\n",
       "\n",
       "    .dataframe tbody tr th {\n",
       "        vertical-align: top;\n",
       "    }\n",
       "\n",
       "    .dataframe thead th {\n",
       "        text-align: right;\n",
       "    }\n",
       "</style>\n",
       "<table border=\"1\" class=\"dataframe\">\n",
       "  <thead>\n",
       "    <tr style=\"text-align: right;\">\n",
       "      <th></th>\n",
       "      <th>pca-component_x</th>\n",
       "      <th>domain-number</th>\n",
       "      <th>pca-component_y</th>\n",
       "      <th>domain-description</th>\n",
       "    </tr>\n",
       "  </thead>\n",
       "  <tbody>\n",
       "    <tr>\n",
       "      <th>0</th>\n",
       "      <td>PC13</td>\n",
       "      <td>463</td>\n",
       "      <td>PC19</td>\n",
       "      <td>Chitin_synth_1N; Chitin synthase N-terminal</td>\n",
       "    </tr>\n",
       "    <tr>\n",
       "      <th>1</th>\n",
       "      <td>PC17</td>\n",
       "      <td>488</td>\n",
       "      <td>PC24</td>\n",
       "      <td>Cnd1_N; Condensin complex subunit 1, N-terminal</td>\n",
       "    </tr>\n",
       "    <tr>\n",
       "      <th>2</th>\n",
       "      <td>PC20</td>\n",
       "      <td>83</td>\n",
       "      <td>PC17</td>\n",
       "      <td>ANAPC1; Anaphase-promoting complex subunit 1</td>\n",
       "    </tr>\n",
       "    <tr>\n",
       "      <th>3</th>\n",
       "      <td>PC31</td>\n",
       "      <td>696</td>\n",
       "      <td>PC128</td>\n",
       "      <td>DUF3402; Protein of unknown function DUF3402</td>\n",
       "    </tr>\n",
       "    <tr>\n",
       "      <th>4</th>\n",
       "      <td>PC37</td>\n",
       "      <td>877</td>\n",
       "      <td>PC12</td>\n",
       "      <td>FF; FF domain</td>\n",
       "    </tr>\n",
       "    <tr>\n",
       "      <th>5</th>\n",
       "      <td>PC38</td>\n",
       "      <td>464</td>\n",
       "      <td>PC69</td>\n",
       "      <td>Chitin_synth_2</td>\n",
       "    </tr>\n",
       "    <tr>\n",
       "      <th>6</th>\n",
       "      <td>PC39</td>\n",
       "      <td>2</td>\n",
       "      <td>PC6</td>\n",
       "      <td>2-Hacid_dh; D-isomer specific 2-hydroxyacid de...</td>\n",
       "    </tr>\n",
       "    <tr>\n",
       "      <th>7</th>\n",
       "      <td>PC40</td>\n",
       "      <td>1253</td>\n",
       "      <td>PC55</td>\n",
       "      <td>KA1; Kinase associated domain 1 (KA1)</td>\n",
       "    </tr>\n",
       "    <tr>\n",
       "      <th>8</th>\n",
       "      <td>PC40</td>\n",
       "      <td>1253</td>\n",
       "      <td>PC59</td>\n",
       "      <td>KA1; Kinase associated domain 1 (KA1)</td>\n",
       "    </tr>\n",
       "    <tr>\n",
       "      <th>9</th>\n",
       "      <td>PC41</td>\n",
       "      <td>926</td>\n",
       "      <td>PC22</td>\n",
       "      <td>Flp_C; Recombinase Flp protein</td>\n",
       "    </tr>\n",
       "    <tr>\n",
       "      <th>10</th>\n",
       "      <td>PC41</td>\n",
       "      <td>926</td>\n",
       "      <td>PC23</td>\n",
       "      <td>Flp_C; Recombinase Flp protein</td>\n",
       "    </tr>\n",
       "    <tr>\n",
       "      <th>11</th>\n",
       "      <td>PC42</td>\n",
       "      <td>1836</td>\n",
       "      <td>PC5</td>\n",
       "      <td>PTPLA; Protein-tyrosine phosphatase-like, PTPLA</td>\n",
       "    </tr>\n",
       "    <tr>\n",
       "      <th>12</th>\n",
       "      <td>PC47</td>\n",
       "      <td>625</td>\n",
       "      <td>PC204</td>\n",
       "      <td>DRE2_N; Fe-S cluster assembly protein Dre2, N-...</td>\n",
       "    </tr>\n",
       "    <tr>\n",
       "      <th>13</th>\n",
       "      <td>PC49</td>\n",
       "      <td>161</td>\n",
       "      <td>PC94</td>\n",
       "      <td>Acyl-CoA_ox_N; Acyl-coenzyme A oxidase, N-term...</td>\n",
       "    </tr>\n",
       "    <tr>\n",
       "      <th>14</th>\n",
       "      <td>PC50</td>\n",
       "      <td>2323</td>\n",
       "      <td>PC99</td>\n",
       "      <td>SHQ1; SHQ1 protein</td>\n",
       "    </tr>\n",
       "    <tr>\n",
       "      <th>15</th>\n",
       "      <td>PC57</td>\n",
       "      <td>275</td>\n",
       "      <td>PC232</td>\n",
       "      <td>BP28CT; BP28, C-terminal domain</td>\n",
       "    </tr>\n",
       "    <tr>\n",
       "      <th>16</th>\n",
       "      <td>PC78</td>\n",
       "      <td>339</td>\n",
       "      <td>PC54</td>\n",
       "      <td>CDC50; CDC50/LEM3 family</td>\n",
       "    </tr>\n",
       "    <tr>\n",
       "      <th>17</th>\n",
       "      <td>PC80</td>\n",
       "      <td>68</td>\n",
       "      <td>PC105</td>\n",
       "      <td>AIRC; PurE domain</td>\n",
       "    </tr>\n",
       "    <tr>\n",
       "      <th>18</th>\n",
       "      <td>PC85</td>\n",
       "      <td>247</td>\n",
       "      <td>PC91</td>\n",
       "      <td>Autophagy_act_C; Autophagy-related protein 3</td>\n",
       "    </tr>\n",
       "    <tr>\n",
       "      <th>19</th>\n",
       "      <td>PC85</td>\n",
       "      <td>247</td>\n",
       "      <td>PC101</td>\n",
       "      <td>Autophagy_act_C; Autophagy-related protein 3</td>\n",
       "    </tr>\n",
       "    <tr>\n",
       "      <th>20</th>\n",
       "      <td>PC93</td>\n",
       "      <td>599</td>\n",
       "      <td>PC74</td>\n",
       "      <td>DLIC; Dynein family light intermediate chain</td>\n",
       "    </tr>\n",
       "    <tr>\n",
       "      <th>21</th>\n",
       "      <td>PC95</td>\n",
       "      <td>237</td>\n",
       "      <td>PC206</td>\n",
       "      <td>Asn_synthase; Asparagine synthase</td>\n",
       "    </tr>\n",
       "    <tr>\n",
       "      <th>22</th>\n",
       "      <td>PC96</td>\n",
       "      <td>237</td>\n",
       "      <td>PC206</td>\n",
       "      <td>Asn_synthase; Asparagine synthase</td>\n",
       "    </tr>\n",
       "    <tr>\n",
       "      <th>23</th>\n",
       "      <td>PC97</td>\n",
       "      <td>410</td>\n",
       "      <td>PC46</td>\n",
       "      <td>CRAL_TRIO; CRAL-TRIO lipid binding domain</td>\n",
       "    </tr>\n",
       "    <tr>\n",
       "      <th>24</th>\n",
       "      <td>PC97</td>\n",
       "      <td>410</td>\n",
       "      <td>PC47</td>\n",
       "      <td>CRAL_TRIO; CRAL-TRIO lipid binding domain</td>\n",
       "    </tr>\n",
       "    <tr>\n",
       "      <th>25</th>\n",
       "      <td>PC103</td>\n",
       "      <td>81</td>\n",
       "      <td>PC70</td>\n",
       "      <td>AMP_N; Aminopeptidase P, N-terminal</td>\n",
       "    </tr>\n",
       "    <tr>\n",
       "      <th>26</th>\n",
       "      <td>PC103</td>\n",
       "      <td>81</td>\n",
       "      <td>PC71</td>\n",
       "      <td>AMP_N; Aminopeptidase P, N-terminal</td>\n",
       "    </tr>\n",
       "    <tr>\n",
       "      <th>27</th>\n",
       "      <td>PC117</td>\n",
       "      <td>526</td>\n",
       "      <td>PC113</td>\n",
       "      <td>CwfJ_C_1; Cwf19-like, C-terminal domain-1</td>\n",
       "    </tr>\n",
       "    <tr>\n",
       "      <th>28</th>\n",
       "      <td>PC117</td>\n",
       "      <td>526</td>\n",
       "      <td>PC120</td>\n",
       "      <td>CwfJ_C_1; Cwf19-like, C-terminal domain-1</td>\n",
       "    </tr>\n",
       "    <tr>\n",
       "      <th>29</th>\n",
       "      <td>PC119</td>\n",
       "      <td>1040</td>\n",
       "      <td>PC164</td>\n",
       "      <td>Glucosamine_iso; Glucosamine/galactosamine-6-p...</td>\n",
       "    </tr>\n",
       "    <tr>\n",
       "      <th>30</th>\n",
       "      <td>PC119</td>\n",
       "      <td>1040</td>\n",
       "      <td>PC165</td>\n",
       "      <td>Glucosamine_iso; Glucosamine/galactosamine-6-p...</td>\n",
       "    </tr>\n",
       "    <tr>\n",
       "      <th>31</th>\n",
       "      <td>PC119</td>\n",
       "      <td>1040</td>\n",
       "      <td>PC166</td>\n",
       "      <td>Glucosamine_iso; Glucosamine/galactosamine-6-p...</td>\n",
       "    </tr>\n",
       "    <tr>\n",
       "      <th>32</th>\n",
       "      <td>PC121</td>\n",
       "      <td>745</td>\n",
       "      <td>PC216</td>\n",
       "      <td>DUP; Yeast membrane protein DUP/COS</td>\n",
       "    </tr>\n",
       "    <tr>\n",
       "      <th>33</th>\n",
       "      <td>PC129</td>\n",
       "      <td>745</td>\n",
       "      <td>PC216</td>\n",
       "      <td>DUP; Yeast membrane protein DUP/COS</td>\n",
       "    </tr>\n",
       "    <tr>\n",
       "      <th>34</th>\n",
       "      <td>PC126</td>\n",
       "      <td>118</td>\n",
       "      <td>PC174</td>\n",
       "      <td>ATP-grasp; ATP-grasp fold, ATP-dependent carbo...</td>\n",
       "    </tr>\n",
       "    <tr>\n",
       "      <th>35</th>\n",
       "      <td>PC134</td>\n",
       "      <td>65</td>\n",
       "      <td>PC48</td>\n",
       "      <td>AIM3; Altered inheritance of mitochondria prot...</td>\n",
       "    </tr>\n",
       "    <tr>\n",
       "      <th>36</th>\n",
       "      <td>PC164</td>\n",
       "      <td>672</td>\n",
       "      <td>PC256</td>\n",
       "      <td>DUF2370; NEDD4/Bsd2</td>\n",
       "    </tr>\n",
       "    <tr>\n",
       "      <th>37</th>\n",
       "      <td>PC170</td>\n",
       "      <td>1411</td>\n",
       "      <td>PC20</td>\n",
       "      <td>MTS; Methyltransferase small domain</td>\n",
       "    </tr>\n",
       "    <tr>\n",
       "      <th>38</th>\n",
       "      <td>PC176</td>\n",
       "      <td>100</td>\n",
       "      <td>PC57</td>\n",
       "      <td>AP_endonuc_2; Xylose isomerase-like, TIM barre...</td>\n",
       "    </tr>\n",
       "    <tr>\n",
       "      <th>39</th>\n",
       "      <td>PC200</td>\n",
       "      <td>9</td>\n",
       "      <td>PC78</td>\n",
       "      <td>40S_S4_C; 40S ribosomal protein S4, C-terminal...</td>\n",
       "    </tr>\n",
       "    <tr>\n",
       "      <th>40</th>\n",
       "      <td>PC202</td>\n",
       "      <td>1103</td>\n",
       "      <td>PC263</td>\n",
       "      <td>HDA2-3; HDA1 complex subunit 2/3</td>\n",
       "    </tr>\n",
       "    <tr>\n",
       "      <th>41</th>\n",
       "      <td>PC232</td>\n",
       "      <td>1030</td>\n",
       "      <td>PC137</td>\n",
       "      <td>Gcn1_N; Gcn1, N-terminal</td>\n",
       "    </tr>\n",
       "    <tr>\n",
       "      <th>42</th>\n",
       "      <td>PC232</td>\n",
       "      <td>1030</td>\n",
       "      <td>PC138</td>\n",
       "      <td>Gcn1_N; Gcn1, N-terminal</td>\n",
       "    </tr>\n",
       "    <tr>\n",
       "      <th>43</th>\n",
       "      <td>PC234</td>\n",
       "      <td>363</td>\n",
       "      <td>PC280</td>\n",
       "      <td>CLP1_P; Polyribonucleotide 5&amp;apos;-hydroxyl-ki...</td>\n",
       "    </tr>\n",
       "    <tr>\n",
       "      <th>44</th>\n",
       "      <td>PC239</td>\n",
       "      <td>491</td>\n",
       "      <td>PC224</td>\n",
       "      <td>Cnl2_NKP2; Kinetochore subunit NKP2</td>\n",
       "    </tr>\n",
       "    <tr>\n",
       "      <th>45</th>\n",
       "      <td>PC240</td>\n",
       "      <td>2165</td>\n",
       "      <td>PC271</td>\n",
       "      <td>Ribosomal_L18A; Ribosomal protein 50S-L18Ae/60...</td>\n",
       "    </tr>\n",
       "    <tr>\n",
       "      <th>46</th>\n",
       "      <td>PC240</td>\n",
       "      <td>2165</td>\n",
       "      <td>PC273</td>\n",
       "      <td>Ribosomal_L18A; Ribosomal protein 50S-L18Ae/60...</td>\n",
       "    </tr>\n",
       "    <tr>\n",
       "      <th>47</th>\n",
       "      <td>PC254</td>\n",
       "      <td>1048</td>\n",
       "      <td>PC133</td>\n",
       "      <td>Glyco_hydro_31; Glycoside hydrolase family 31</td>\n",
       "    </tr>\n",
       "    <tr>\n",
       "      <th>48</th>\n",
       "      <td>PC270</td>\n",
       "      <td>2952</td>\n",
       "      <td>PC185</td>\n",
       "      <td>tRNA_int_end_N2; tRNA-splicing endonuclease, s...</td>\n",
       "    </tr>\n",
       "    <tr>\n",
       "      <th>49</th>\n",
       "      <td>PC274</td>\n",
       "      <td>85</td>\n",
       "      <td>PC144</td>\n",
       "      <td>ANAPC3</td>\n",
       "    </tr>\n",
       "    <tr>\n",
       "      <th>50</th>\n",
       "      <td>PC283</td>\n",
       "      <td>85</td>\n",
       "      <td>PC144</td>\n",
       "      <td>ANAPC3</td>\n",
       "    </tr>\n",
       "    <tr>\n",
       "      <th>51</th>\n",
       "      <td>PC276</td>\n",
       "      <td>1701</td>\n",
       "      <td>PC141</td>\n",
       "      <td>PAP_central; Poly(A) polymerase, central domain</td>\n",
       "    </tr>\n",
       "    <tr>\n",
       "      <th>52</th>\n",
       "      <td>PC280</td>\n",
       "      <td>1857</td>\n",
       "      <td>PC214</td>\n",
       "      <td>Patatin; Patatin-like phospholipase domain</td>\n",
       "    </tr>\n",
       "    <tr>\n",
       "      <th>53</th>\n",
       "      <td>PC281</td>\n",
       "      <td>819</td>\n",
       "      <td>PC219</td>\n",
       "      <td>ERO1; Endoplasmic reticulum oxidoreductin 1</td>\n",
       "    </tr>\n",
       "  </tbody>\n",
       "</table>\n",
       "</div>"
      ],
      "text/plain": [
       "   pca-component_x  domain-number pca-component_y  \\\n",
       "0             PC13            463            PC19   \n",
       "1             PC17            488            PC24   \n",
       "2             PC20             83            PC17   \n",
       "3             PC31            696           PC128   \n",
       "4             PC37            877            PC12   \n",
       "5             PC38            464            PC69   \n",
       "6             PC39              2             PC6   \n",
       "7             PC40           1253            PC55   \n",
       "8             PC40           1253            PC59   \n",
       "9             PC41            926            PC22   \n",
       "10            PC41            926            PC23   \n",
       "11            PC42           1836             PC5   \n",
       "12            PC47            625           PC204   \n",
       "13            PC49            161            PC94   \n",
       "14            PC50           2323            PC99   \n",
       "15            PC57            275           PC232   \n",
       "16            PC78            339            PC54   \n",
       "17            PC80             68           PC105   \n",
       "18            PC85            247            PC91   \n",
       "19            PC85            247           PC101   \n",
       "20            PC93            599            PC74   \n",
       "21            PC95            237           PC206   \n",
       "22            PC96            237           PC206   \n",
       "23            PC97            410            PC46   \n",
       "24            PC97            410            PC47   \n",
       "25           PC103             81            PC70   \n",
       "26           PC103             81            PC71   \n",
       "27           PC117            526           PC113   \n",
       "28           PC117            526           PC120   \n",
       "29           PC119           1040           PC164   \n",
       "30           PC119           1040           PC165   \n",
       "31           PC119           1040           PC166   \n",
       "32           PC121            745           PC216   \n",
       "33           PC129            745           PC216   \n",
       "34           PC126            118           PC174   \n",
       "35           PC134             65            PC48   \n",
       "36           PC164            672           PC256   \n",
       "37           PC170           1411            PC20   \n",
       "38           PC176            100            PC57   \n",
       "39           PC200              9            PC78   \n",
       "40           PC202           1103           PC263   \n",
       "41           PC232           1030           PC137   \n",
       "42           PC232           1030           PC138   \n",
       "43           PC234            363           PC280   \n",
       "44           PC239            491           PC224   \n",
       "45           PC240           2165           PC271   \n",
       "46           PC240           2165           PC273   \n",
       "47           PC254           1048           PC133   \n",
       "48           PC270           2952           PC185   \n",
       "49           PC274             85           PC144   \n",
       "50           PC283             85           PC144   \n",
       "51           PC276           1701           PC141   \n",
       "52           PC280           1857           PC214   \n",
       "53           PC281            819           PC219   \n",
       "\n",
       "                                   domain-description  \n",
       "0         Chitin_synth_1N; Chitin synthase N-terminal  \n",
       "1     Cnd1_N; Condensin complex subunit 1, N-terminal  \n",
       "2        ANAPC1; Anaphase-promoting complex subunit 1  \n",
       "3        DUF3402; Protein of unknown function DUF3402  \n",
       "4                                       FF; FF domain  \n",
       "5                                      Chitin_synth_2  \n",
       "6   2-Hacid_dh; D-isomer specific 2-hydroxyacid de...  \n",
       "7               KA1; Kinase associated domain 1 (KA1)  \n",
       "8               KA1; Kinase associated domain 1 (KA1)  \n",
       "9                      Flp_C; Recombinase Flp protein  \n",
       "10                     Flp_C; Recombinase Flp protein  \n",
       "11    PTPLA; Protein-tyrosine phosphatase-like, PTPLA  \n",
       "12  DRE2_N; Fe-S cluster assembly protein Dre2, N-...  \n",
       "13  Acyl-CoA_ox_N; Acyl-coenzyme A oxidase, N-term...  \n",
       "14                                 SHQ1; SHQ1 protein  \n",
       "15                    BP28CT; BP28, C-terminal domain  \n",
       "16                           CDC50; CDC50/LEM3 family  \n",
       "17                                  AIRC; PurE domain  \n",
       "18       Autophagy_act_C; Autophagy-related protein 3  \n",
       "19       Autophagy_act_C; Autophagy-related protein 3  \n",
       "20       DLIC; Dynein family light intermediate chain  \n",
       "21                  Asn_synthase; Asparagine synthase  \n",
       "22                  Asn_synthase; Asparagine synthase  \n",
       "23          CRAL_TRIO; CRAL-TRIO lipid binding domain  \n",
       "24          CRAL_TRIO; CRAL-TRIO lipid binding domain  \n",
       "25                AMP_N; Aminopeptidase P, N-terminal  \n",
       "26                AMP_N; Aminopeptidase P, N-terminal  \n",
       "27          CwfJ_C_1; Cwf19-like, C-terminal domain-1  \n",
       "28          CwfJ_C_1; Cwf19-like, C-terminal domain-1  \n",
       "29  Glucosamine_iso; Glucosamine/galactosamine-6-p...  \n",
       "30  Glucosamine_iso; Glucosamine/galactosamine-6-p...  \n",
       "31  Glucosamine_iso; Glucosamine/galactosamine-6-p...  \n",
       "32                DUP; Yeast membrane protein DUP/COS  \n",
       "33                DUP; Yeast membrane protein DUP/COS  \n",
       "34  ATP-grasp; ATP-grasp fold, ATP-dependent carbo...  \n",
       "35  AIM3; Altered inheritance of mitochondria prot...  \n",
       "36                                DUF2370; NEDD4/Bsd2  \n",
       "37                MTS; Methyltransferase small domain  \n",
       "38  AP_endonuc_2; Xylose isomerase-like, TIM barre...  \n",
       "39  40S_S4_C; 40S ribosomal protein S4, C-terminal...  \n",
       "40                   HDA2-3; HDA1 complex subunit 2/3  \n",
       "41                           Gcn1_N; Gcn1, N-terminal  \n",
       "42                           Gcn1_N; Gcn1, N-terminal  \n",
       "43  CLP1_P; Polyribonucleotide 5&apos;-hydroxyl-ki...  \n",
       "44                Cnl2_NKP2; Kinetochore subunit NKP2  \n",
       "45  Ribosomal_L18A; Ribosomal protein 50S-L18Ae/60...  \n",
       "46  Ribosomal_L18A; Ribosomal protein 50S-L18Ae/60...  \n",
       "47      Glyco_hydro_31; Glycoside hydrolase family 31  \n",
       "48  tRNA_int_end_N2; tRNA-splicing endonuclease, s...  \n",
       "49                                             ANAPC3  \n",
       "50                                             ANAPC3  \n",
       "51    PAP_central; Poly(A) polymerase, central domain  \n",
       "52         Patatin; Patatin-like phospholipase domain  \n",
       "53        ERO1; Endoplasmic reticulum oxidoreductin 1  "
      ]
     },
     "execution_count": 22,
     "metadata": {},
     "output_type": "execute_result"
    }
   ],
   "source": [
    "df_shared_domains=pd.merge(df_sl,df_nsl,how='inner',on='domain-number')\n",
    "domains_name=np.unique(data_domains['domain-name'])\n",
    "domains_description=np.unique(data_domains['domain-descrip'])\n",
    "\n",
    "df_shared_domains['domain-description']=domains_description[df_shared_domains['domain-number']]\n",
    "\n",
    "\n",
    "df_shared_domains"
   ]
  },
  {
   "cell_type": "code",
   "execution_count": 23,
   "metadata": {
    "execution": {
     "iopub.execute_input": "2020-07-24T03:12:18.776005Z",
     "iopub.status.busy": "2020-07-24T03:12:18.774729Z",
     "iopub.status.idle": "2020-07-24T03:12:18.779891Z",
     "shell.execute_reply": "2020-07-24T03:12:18.779413Z"
    }
   },
   "outputs": [
    {
     "name": "stdout",
     "output_type": "stream",
     "text": [
      "The number of shared domains between SL and nSL pairs,after PCA, is =  54 out of 569 so the 9.490333919156415 %\n"
     ]
    }
   ],
   "source": [
    "print('The number of shared domains between SL and nSL pairs,after PCA, is = ',len(df_shared_domains), 'out of', len(df_sl)+len(df_nsl), 'so the',100*len(df_shared_domains)/(len(df_sl)+len(df_nsl)),'%')"
   ]
  },
  {
   "cell_type": "markdown",
   "metadata": {},
   "source": [
    "## Domains exclusive to SL"
   ]
  },
  {
   "cell_type": "code",
   "execution_count": 24,
   "metadata": {
    "execution": {
     "iopub.execute_input": "2020-07-24T03:12:18.792510Z",
     "iopub.status.busy": "2020-07-24T03:12:18.785065Z",
     "iopub.status.idle": "2020-07-24T03:12:18.814746Z",
     "shell.execute_reply": "2020-07-24T03:12:18.815346Z"
    }
   },
   "outputs": [
    {
     "data": {
      "text/html": [
       "<div>\n",
       "<style scoped>\n",
       "    .dataframe tbody tr th:only-of-type {\n",
       "        vertical-align: middle;\n",
       "    }\n",
       "\n",
       "    .dataframe tbody tr th {\n",
       "        vertical-align: top;\n",
       "    }\n",
       "\n",
       "    .dataframe thead th {\n",
       "        text-align: right;\n",
       "    }\n",
       "</style>\n",
       "<table border=\"1\" class=\"dataframe\">\n",
       "  <thead>\n",
       "    <tr style=\"text-align: right;\">\n",
       "      <th></th>\n",
       "      <th>pca-component_x</th>\n",
       "      <th>domain-number</th>\n",
       "      <th>pca-component_y</th>\n",
       "      <th>domain-description</th>\n",
       "    </tr>\n",
       "  </thead>\n",
       "  <tbody>\n",
       "    <tr>\n",
       "      <th>0</th>\n",
       "      <td>PC0</td>\n",
       "      <td>2233</td>\n",
       "      <td>NaN</td>\n",
       "      <td>Ribosomal_S27e; Ribosomal protein S27e</td>\n",
       "    </tr>\n",
       "    <tr>\n",
       "      <th>1</th>\n",
       "      <td>PC1</td>\n",
       "      <td>340</td>\n",
       "      <td>NaN</td>\n",
       "      <td>CDC73_C; Cell division control protein 73, C-t...</td>\n",
       "    </tr>\n",
       "    <tr>\n",
       "      <th>2</th>\n",
       "      <td>PC2</td>\n",
       "      <td>540</td>\n",
       "      <td>NaN</td>\n",
       "      <td>Cytochrome_B; Cytochrome b/b6, N-terminal</td>\n",
       "    </tr>\n",
       "    <tr>\n",
       "      <th>3</th>\n",
       "      <td>PC3</td>\n",
       "      <td>423</td>\n",
       "      <td>NaN</td>\n",
       "      <td>CSTF2_hinge; Cleavage stimulation factor subun...</td>\n",
       "    </tr>\n",
       "    <tr>\n",
       "      <th>4</th>\n",
       "      <td>PC4</td>\n",
       "      <td>1887</td>\n",
       "      <td>NaN</td>\n",
       "      <td>Peptidase_S24; Peptidase S24/S26A/S26B/S26C</td>\n",
       "    </tr>\n",
       "    <tr>\n",
       "      <th>...</th>\n",
       "      <td>...</td>\n",
       "      <td>...</td>\n",
       "      <td>...</td>\n",
       "      <td>...</td>\n",
       "    </tr>\n",
       "    <tr>\n",
       "      <th>287</th>\n",
       "      <td>PC277</td>\n",
       "      <td>1480</td>\n",
       "      <td>NaN</td>\n",
       "      <td>Methyltransf_PK; Alpha-N-methyltransferase NTM1</td>\n",
       "    </tr>\n",
       "    <tr>\n",
       "      <th>288</th>\n",
       "      <td>PC278</td>\n",
       "      <td>2641</td>\n",
       "      <td>NaN</td>\n",
       "      <td>TRP_N; ML-like domain</td>\n",
       "    </tr>\n",
       "    <tr>\n",
       "      <th>289</th>\n",
       "      <td>PC279</td>\n",
       "      <td>475</td>\n",
       "      <td>NaN</td>\n",
       "      <td>CitMHS; Citrate transporter-like domain</td>\n",
       "    </tr>\n",
       "    <tr>\n",
       "      <th>292</th>\n",
       "      <td>PC282</td>\n",
       "      <td>1327</td>\n",
       "      <td>NaN</td>\n",
       "      <td>Ligase_CoA; ATP-citrate lyase/succinyl-CoA ligase</td>\n",
       "    </tr>\n",
       "    <tr>\n",
       "      <th>294</th>\n",
       "      <td>PC284</td>\n",
       "      <td>407</td>\n",
       "      <td>NaN</td>\n",
       "      <td>CPSase_L_D2; Carbamoyl-phosphate synthetase la...</td>\n",
       "    </tr>\n",
       "  </tbody>\n",
       "</table>\n",
       "<p>241 rows × 4 columns</p>\n",
       "</div>"
      ],
      "text/plain": [
       "    pca-component_x  domain-number pca-component_y  \\\n",
       "0               PC0           2233             NaN   \n",
       "1               PC1            340             NaN   \n",
       "2               PC2            540             NaN   \n",
       "3               PC3            423             NaN   \n",
       "4               PC4           1887             NaN   \n",
       "..              ...            ...             ...   \n",
       "287           PC277           1480             NaN   \n",
       "288           PC278           2641             NaN   \n",
       "289           PC279            475             NaN   \n",
       "292           PC282           1327             NaN   \n",
       "294           PC284            407             NaN   \n",
       "\n",
       "                                    domain-description  \n",
       "0               Ribosomal_S27e; Ribosomal protein S27e  \n",
       "1    CDC73_C; Cell division control protein 73, C-t...  \n",
       "2            Cytochrome_B; Cytochrome b/b6, N-terminal  \n",
       "3    CSTF2_hinge; Cleavage stimulation factor subun...  \n",
       "4          Peptidase_S24; Peptidase S24/S26A/S26B/S26C  \n",
       "..                                                 ...  \n",
       "287    Methyltransf_PK; Alpha-N-methyltransferase NTM1  \n",
       "288                              TRP_N; ML-like domain  \n",
       "289            CitMHS; Citrate transporter-like domain  \n",
       "292  Ligase_CoA; ATP-citrate lyase/succinyl-CoA ligase  \n",
       "294  CPSase_L_D2; Carbamoyl-phosphate synthetase la...  \n",
       "\n",
       "[241 rows x 4 columns]"
      ]
     },
     "execution_count": 24,
     "metadata": {},
     "output_type": "execute_result"
    }
   ],
   "source": [
    "df_sl_exclusive=pd.merge(df_sl,df_nsl,how='left',on='domain-number')\n",
    "\n",
    "domains_name=np.unique(data_domains['domain-name'])\n",
    "domains_description=np.unique(data_domains['domain-descrip'])\n",
    "\n",
    "df_sl_exclusive['domain-description']=domains_description[df_sl_exclusive['domain-number']]\n",
    "df_sl_exclusive[pd.isnull(df_sl_exclusive['pca-component_y'])]"
   ]
  },
  {
   "cell_type": "code",
   "execution_count": 25,
   "metadata": {
    "execution": {
     "iopub.execute_input": "2020-07-24T03:12:18.822780Z",
     "iopub.status.busy": "2020-07-24T03:12:18.822161Z",
     "iopub.status.idle": "2020-07-24T03:12:18.827034Z",
     "shell.execute_reply": "2020-07-24T03:12:18.826140Z"
    }
   },
   "outputs": [
    {
     "name": "stdout",
     "output_type": "stream",
     "text": [
      "The number of exclusive domains from SL pairs, after PCA, is =  295 out of 569 so the 51.845342706502635 %\n"
     ]
    }
   ],
   "source": [
    "print('The number of exclusive domains from SL pairs, after PCA, is = ',len(df_sl_exclusive), 'out of', len(df_sl)+len(df_nsl), 'so the',100*len(df_sl_exclusive)/(len(df_sl)+len(df_nsl)),'%')"
   ]
  },
  {
   "cell_type": "code",
   "execution_count": 26,
   "metadata": {
    "execution": {
     "iopub.execute_input": "2020-07-24T03:12:18.859091Z",
     "iopub.status.busy": "2020-07-24T03:12:18.832989Z",
     "iopub.status.idle": "2020-07-24T03:12:18.864297Z",
     "shell.execute_reply": "2020-07-24T03:12:18.864958Z"
    }
   },
   "outputs": [
    {
     "data": {
      "text/html": [
       "<div>\n",
       "<style scoped>\n",
       "    .dataframe tbody tr th:only-of-type {\n",
       "        vertical-align: middle;\n",
       "    }\n",
       "\n",
       "    .dataframe tbody tr th {\n",
       "        vertical-align: top;\n",
       "    }\n",
       "\n",
       "    .dataframe thead th {\n",
       "        text-align: right;\n",
       "    }\n",
       "</style>\n",
       "<table border=\"1\" class=\"dataframe\">\n",
       "  <thead>\n",
       "    <tr style=\"text-align: right;\">\n",
       "      <th></th>\n",
       "      <th>pca-component_x</th>\n",
       "      <th>domain-number</th>\n",
       "      <th>pca-component_y</th>\n",
       "      <th>domain-description</th>\n",
       "    </tr>\n",
       "  </thead>\n",
       "  <tbody>\n",
       "    <tr>\n",
       "      <th>54</th>\n",
       "      <td>NaN</td>\n",
       "      <td>1464</td>\n",
       "      <td>PC0</td>\n",
       "      <td>Metallophos_2; Calcineurin-like phosphoesteras...</td>\n",
       "    </tr>\n",
       "    <tr>\n",
       "      <th>55</th>\n",
       "      <td>NaN</td>\n",
       "      <td>1811</td>\n",
       "      <td>PC1</td>\n",
       "      <td>PRAI; N-(5&amp;apos;phosphoribosyl) anthranilate i...</td>\n",
       "    </tr>\n",
       "    <tr>\n",
       "      <th>56</th>\n",
       "      <td>NaN</td>\n",
       "      <td>2610</td>\n",
       "      <td>PC2</td>\n",
       "      <td>TPK_B1_binding; Thiamin pyrophosphokinase, vit...</td>\n",
       "    </tr>\n",
       "    <tr>\n",
       "      <th>57</th>\n",
       "      <td>NaN</td>\n",
       "      <td>1252</td>\n",
       "      <td>PC3</td>\n",
       "      <td>JmjN; JmjN domain</td>\n",
       "    </tr>\n",
       "    <tr>\n",
       "      <th>58</th>\n",
       "      <td>NaN</td>\n",
       "      <td>2113</td>\n",
       "      <td>PC4</td>\n",
       "      <td>Rav1p_C; RAVE complex protein Rav1 C-terminal</td>\n",
       "    </tr>\n",
       "    <tr>\n",
       "      <th>...</th>\n",
       "      <td>...</td>\n",
       "      <td>...</td>\n",
       "      <td>...</td>\n",
       "      <td>...</td>\n",
       "    </tr>\n",
       "    <tr>\n",
       "      <th>282</th>\n",
       "      <td>NaN</td>\n",
       "      <td>2568</td>\n",
       "      <td>PC277</td>\n",
       "      <td>TEA; TEA/ATTS domain</td>\n",
       "    </tr>\n",
       "    <tr>\n",
       "      <th>283</th>\n",
       "      <td>NaN</td>\n",
       "      <td>2043</td>\n",
       "      <td>PC279</td>\n",
       "      <td>RNase_P_pop3; RNase P, subunit Pop3</td>\n",
       "    </tr>\n",
       "    <tr>\n",
       "      <th>284</th>\n",
       "      <td>NaN</td>\n",
       "      <td>1097</td>\n",
       "      <td>PC281</td>\n",
       "      <td>HATPase_c_3</td>\n",
       "    </tr>\n",
       "    <tr>\n",
       "      <th>285</th>\n",
       "      <td>NaN</td>\n",
       "      <td>175</td>\n",
       "      <td>PC282</td>\n",
       "      <td>Afi1; Arf3-interacting protein 1, N-terminal d...</td>\n",
       "    </tr>\n",
       "    <tr>\n",
       "      <th>286</th>\n",
       "      <td>NaN</td>\n",
       "      <td>454</td>\n",
       "      <td>PC283</td>\n",
       "      <td>Cellulase; Glycoside hydrolase, family 5</td>\n",
       "    </tr>\n",
       "  </tbody>\n",
       "</table>\n",
       "<p>233 rows × 4 columns</p>\n",
       "</div>"
      ],
      "text/plain": [
       "    pca-component_x  domain-number pca-component_y  \\\n",
       "54              NaN           1464             PC0   \n",
       "55              NaN           1811             PC1   \n",
       "56              NaN           2610             PC2   \n",
       "57              NaN           1252             PC3   \n",
       "58              NaN           2113             PC4   \n",
       "..              ...            ...             ...   \n",
       "282             NaN           2568           PC277   \n",
       "283             NaN           2043           PC279   \n",
       "284             NaN           1097           PC281   \n",
       "285             NaN            175           PC282   \n",
       "286             NaN            454           PC283   \n",
       "\n",
       "                                    domain-description  \n",
       "54   Metallophos_2; Calcineurin-like phosphoesteras...  \n",
       "55   PRAI; N-(5&apos;phosphoribosyl) anthranilate i...  \n",
       "56   TPK_B1_binding; Thiamin pyrophosphokinase, vit...  \n",
       "57                                   JmjN; JmjN domain  \n",
       "58       Rav1p_C; RAVE complex protein Rav1 C-terminal  \n",
       "..                                                 ...  \n",
       "282                               TEA; TEA/ATTS domain  \n",
       "283                RNase_P_pop3; RNase P, subunit Pop3  \n",
       "284                                        HATPase_c_3  \n",
       "285  Afi1; Arf3-interacting protein 1, N-terminal d...  \n",
       "286           Cellulase; Glycoside hydrolase, family 5  \n",
       "\n",
       "[233 rows x 4 columns]"
      ]
     },
     "execution_count": 26,
     "metadata": {},
     "output_type": "execute_result"
    }
   ],
   "source": [
    "df_nsl_exclusive=pd.merge(df_sl,df_nsl,how='right',on='domain-number')\n",
    "\n",
    "domains_name=np.unique(data_domains['domain-name'])\n",
    "domains_description=np.unique(data_domains['domain-descrip'])\n",
    "\n",
    "df_nsl_exclusive['domain-description']=domains_description[df_nsl_exclusive['domain-number']]\n",
    "df_nsl_exclusive[pd.isnull(df_nsl_exclusive['pca-component_x'])]"
   ]
  },
  {
   "cell_type": "code",
   "execution_count": 27,
   "metadata": {
    "execution": {
     "iopub.execute_input": "2020-07-24T03:12:18.870193Z",
     "iopub.status.busy": "2020-07-24T03:12:18.869531Z",
     "iopub.status.idle": "2020-07-24T03:12:18.874649Z",
     "shell.execute_reply": "2020-07-24T03:12:18.873996Z"
    }
   },
   "outputs": [
    {
     "name": "stdout",
     "output_type": "stream",
     "text": [
      "The number of exclusive domains from non SL pairs, after PCA, is =  287 out of 569 so the 50.439367311072054 %\n"
     ]
    }
   ],
   "source": [
    "print('The number of exclusive domains from non SL pairs, after PCA, is = ',len(df_nsl_exclusive), 'out of', len(df_sl)+len(df_nsl), 'so the',100*len(df_nsl_exclusive)/(len(df_sl)+len(df_nsl)),'%')"
   ]
  },
  {
   "cell_type": "markdown",
   "metadata": {},
   "source": [
    "## Let see to the domains-number that get repeated after the PCA analysis , and selecting the most explanatory feature by its explained variance."
   ]
  },
  {
   "cell_type": "code",
   "execution_count": 28,
   "metadata": {
    "execution": {
     "iopub.execute_input": "2020-07-24T03:12:18.900413Z",
     "iopub.status.busy": "2020-07-24T03:12:18.899231Z",
     "iopub.status.idle": "2020-07-24T03:12:18.903699Z",
     "shell.execute_reply": "2020-07-24T03:12:18.904603Z"
    }
   },
   "outputs": [],
   "source": [
    "duplicated_features_sl=df_sl[df_sl.iloc[:,1].duplicated()]\n",
    "repeated_features_sl=pd.DataFrame()\n",
    "\n",
    "domains_name=np.unique(data_domains['domain-name'])\n",
    "domains_description=np.unique(data_domains['domain-descrip'])\n",
    "\n",
    "repeated_features_sl['domain-name']=domains_name[duplicated_features_sl.iloc[:,1]] \n",
    "repeated_features_sl['domain-description']=domains_description[duplicated_features_sl.iloc[:,1]]\n",
    "\n",
    "duplicated_features_nsl=df_nsl[df_nsl.iloc[:,1].duplicated()]\n",
    "repeated_features_nsl=pd.DataFrame()\n",
    "\n",
    "repeated_features_nsl['domain-name']=domains_name[duplicated_features_nsl.iloc[:,1]] \n",
    "repeated_features_nsl['domain-description']=domains_description[duplicated_features_nsl.iloc[:,1]]"
   ]
  },
  {
   "cell_type": "code",
   "execution_count": 29,
   "metadata": {
    "execution": {
     "iopub.execute_input": "2020-07-24T03:12:18.916354Z",
     "iopub.status.busy": "2020-07-24T03:12:18.913474Z",
     "iopub.status.idle": "2020-07-24T03:12:18.921702Z",
     "shell.execute_reply": "2020-07-24T03:12:18.920677Z"
    }
   },
   "outputs": [
    {
     "data": {
      "text/plain": [
       "((44, 4), (295, 4))"
      ]
     },
     "execution_count": 29,
     "metadata": {},
     "output_type": "execute_result"
    }
   ],
   "source": [
    "only_sl_pd=pd.merge(repeated_features_sl,repeated_features_nsl,how='left',on=['domain-name'])\n",
    "data_only_sl = only_sl_pd[pd.isnull(only_sl_pd['domain-description_y'])]\n",
    "data_only_sl['domain-description']=data_only_sl['domain-description_x']\n",
    "data_only_sl.shape,df_sl_exclusive.shape"
   ]
  },
  {
   "cell_type": "code",
   "execution_count": 30,
   "metadata": {
    "execution": {
     "iopub.execute_input": "2020-07-24T03:12:18.930589Z",
     "iopub.status.busy": "2020-07-24T03:12:18.926751Z",
     "iopub.status.idle": "2020-07-24T03:12:18.949215Z",
     "shell.execute_reply": "2020-07-24T03:12:18.948552Z"
    }
   },
   "outputs": [
    {
     "data": {
      "text/html": [
       "<div>\n",
       "<style scoped>\n",
       "    .dataframe tbody tr th:only-of-type {\n",
       "        vertical-align: middle;\n",
       "    }\n",
       "\n",
       "    .dataframe tbody tr th {\n",
       "        vertical-align: top;\n",
       "    }\n",
       "\n",
       "    .dataframe thead th {\n",
       "        text-align: right;\n",
       "    }\n",
       "</style>\n",
       "<table border=\"1\" class=\"dataframe\">\n",
       "  <thead>\n",
       "    <tr style=\"text-align: right;\">\n",
       "      <th></th>\n",
       "      <th>domain-name</th>\n",
       "      <th>domain-description_x</th>\n",
       "      <th>domain-description_y</th>\n",
       "    </tr>\n",
       "  </thead>\n",
       "  <tbody>\n",
       "    <tr>\n",
       "      <th>0</th>\n",
       "      <td>PF02671</td>\n",
       "      <td>NaN</td>\n",
       "      <td>Flp_C; Recombinase Flp protein</td>\n",
       "    </tr>\n",
       "    <tr>\n",
       "      <th>1</th>\n",
       "      <td>PF02747</td>\n",
       "      <td>NaN</td>\n",
       "      <td>FtsH_ext; Peptidase M41, FtsH extracellular</td>\n",
       "    </tr>\n",
       "    <tr>\n",
       "      <th>2</th>\n",
       "      <td>PF00249</td>\n",
       "      <td>NaN</td>\n",
       "      <td>ATP-synt_10; ATPase assembly factor ATP10</td>\n",
       "    </tr>\n",
       "    <tr>\n",
       "      <th>3</th>\n",
       "      <td>PF00817</td>\n",
       "      <td>NaN</td>\n",
       "      <td>COX5A; Cytochrome c oxidase, subunit Va/VI</td>\n",
       "    </tr>\n",
       "    <tr>\n",
       "      <th>4</th>\n",
       "      <td>PF00856</td>\n",
       "      <td>NaN</td>\n",
       "      <td>CRAL_TRIO; CRAL-TRIO lipid binding domain</td>\n",
       "    </tr>\n",
       "    <tr>\n",
       "      <th>5</th>\n",
       "      <td>PF16275</td>\n",
       "      <td>NaN</td>\n",
       "      <td>Yip1; Yip1 domain</td>\n",
       "    </tr>\n",
       "    <tr>\n",
       "      <th>6</th>\n",
       "      <td>PF04055</td>\n",
       "      <td>NaN</td>\n",
       "      <td>KA1; Kinase associated domain 1 (KA1)</td>\n",
       "    </tr>\n",
       "    <tr>\n",
       "      <th>7</th>\n",
       "      <td>PF04851</td>\n",
       "      <td>NaN</td>\n",
       "      <td>Med13_C; Mediator complex, subunit Med13</td>\n",
       "    </tr>\n",
       "    <tr>\n",
       "      <th>8</th>\n",
       "      <td>PF00091</td>\n",
       "      <td>NaN</td>\n",
       "      <td>ABC1; UbiB domain</td>\n",
       "    </tr>\n",
       "    <tr>\n",
       "      <th>9</th>\n",
       "      <td>PF00173</td>\n",
       "      <td>NaN</td>\n",
       "      <td>AMP_N; Aminopeptidase P, N-terminal</td>\n",
       "    </tr>\n",
       "    <tr>\n",
       "      <th>10</th>\n",
       "      <td>PF01237</td>\n",
       "      <td>NaN</td>\n",
       "      <td>DASH_Spc34; DASH complex subunit Spc34</td>\n",
       "    </tr>\n",
       "    <tr>\n",
       "      <th>11</th>\n",
       "      <td>PF01237</td>\n",
       "      <td>NaN</td>\n",
       "      <td>DASH_Spc34; DASH complex subunit Spc34</td>\n",
       "    </tr>\n",
       "    <tr>\n",
       "      <th>12</th>\n",
       "      <td>PF10559</td>\n",
       "      <td>NaN</td>\n",
       "      <td>SHE3; SWI5-dependent HO expression protein 3</td>\n",
       "    </tr>\n",
       "    <tr>\n",
       "      <th>13</th>\n",
       "      <td>PF03399</td>\n",
       "      <td>NaN</td>\n",
       "      <td>HEAT_2</td>\n",
       "    </tr>\n",
       "    <tr>\n",
       "      <th>14</th>\n",
       "      <td>PF00498</td>\n",
       "      <td>NaN</td>\n",
       "      <td>Autophagy_act_C; Autophagy-related protein 3</td>\n",
       "    </tr>\n",
       "    <tr>\n",
       "      <th>15</th>\n",
       "      <td>PF09135</td>\n",
       "      <td>NaN</td>\n",
       "      <td>RTC; RNA 3&amp;apos;-terminal phosphate cyclase do...</td>\n",
       "    </tr>\n",
       "    <tr>\n",
       "      <th>16</th>\n",
       "      <td>PF02550</td>\n",
       "      <td>NaN</td>\n",
       "      <td>Fe_hyd_lg_C; Iron hydrogenase, large subunit, ...</td>\n",
       "    </tr>\n",
       "    <tr>\n",
       "      <th>17</th>\n",
       "      <td>PF01180</td>\n",
       "      <td>NaN</td>\n",
       "      <td>CwfJ_C_1; Cwf19-like, C-terminal domain-1</td>\n",
       "    </tr>\n",
       "    <tr>\n",
       "      <th>18</th>\n",
       "      <td>PF02724</td>\n",
       "      <td>NaN</td>\n",
       "      <td>Fmp27_WPPW; FMP27, WPPW  domain</td>\n",
       "    </tr>\n",
       "    <tr>\n",
       "      <th>19</th>\n",
       "      <td>PF03343</td>\n",
       "      <td>NaN</td>\n",
       "      <td>HAD</td>\n",
       "    </tr>\n",
       "    <tr>\n",
       "      <th>20</th>\n",
       "      <td>PF03343</td>\n",
       "      <td>NaN</td>\n",
       "      <td>HAD</td>\n",
       "    </tr>\n",
       "    <tr>\n",
       "      <th>21</th>\n",
       "      <td>PF01833</td>\n",
       "      <td>NaN</td>\n",
       "      <td>Diphthamide_syn; Diphthamide synthesis DPH1/DPH2</td>\n",
       "    </tr>\n",
       "    <tr>\n",
       "      <th>22</th>\n",
       "      <td>PF06870</td>\n",
       "      <td>NaN</td>\n",
       "      <td>PA14; PA14 domain</td>\n",
       "    </tr>\n",
       "    <tr>\n",
       "      <th>23</th>\n",
       "      <td>PF03031</td>\n",
       "      <td>NaN</td>\n",
       "      <td>Gcn1_N; Gcn1, N-terminal</td>\n",
       "    </tr>\n",
       "    <tr>\n",
       "      <th>24</th>\n",
       "      <td>PF03935</td>\n",
       "      <td>NaN</td>\n",
       "      <td>IF-2B; Initiation factor 2B-related</td>\n",
       "    </tr>\n",
       "    <tr>\n",
       "      <th>25</th>\n",
       "      <td>PF08241</td>\n",
       "      <td>NaN</td>\n",
       "      <td>Pcc1; CTAG/Pcc1 family</td>\n",
       "    </tr>\n",
       "    <tr>\n",
       "      <th>26</th>\n",
       "      <td>PF00225</td>\n",
       "      <td>NaN</td>\n",
       "      <td>ATE_N; Arginine-tRNA-protein transferase, N-te...</td>\n",
       "    </tr>\n",
       "    <tr>\n",
       "      <th>27</th>\n",
       "      <td>PF00928</td>\n",
       "      <td>NaN</td>\n",
       "      <td>CTU2; Cytoplasmic tRNA 2-thiolation protein 2</td>\n",
       "    </tr>\n",
       "    <tr>\n",
       "      <th>28</th>\n",
       "      <td>PF04048</td>\n",
       "      <td>NaN</td>\n",
       "      <td>Ist1; Vacuolar protein sorting-associated prot...</td>\n",
       "    </tr>\n",
       "    <tr>\n",
       "      <th>29</th>\n",
       "      <td>PF08657</td>\n",
       "      <td>NaN</td>\n",
       "      <td>RNA_pol_Rpb1_6; RNA polymerase Rpb1, domain 6</td>\n",
       "    </tr>\n",
       "    <tr>\n",
       "      <th>30</th>\n",
       "      <td>PF03095</td>\n",
       "      <td>NaN</td>\n",
       "      <td>Glucosamine_iso; Glucosamine/galactosamine-6-p...</td>\n",
       "    </tr>\n",
       "    <tr>\n",
       "      <th>31</th>\n",
       "      <td>PF03095</td>\n",
       "      <td>NaN</td>\n",
       "      <td>Glucosamine_iso; Glucosamine/galactosamine-6-p...</td>\n",
       "    </tr>\n",
       "    <tr>\n",
       "      <th>32</th>\n",
       "      <td>PF05179</td>\n",
       "      <td>NaN</td>\n",
       "      <td>Mob1_phocein; MOB kinase activator family</td>\n",
       "    </tr>\n",
       "    <tr>\n",
       "      <th>33</th>\n",
       "      <td>PF04051</td>\n",
       "      <td>NaN</td>\n",
       "      <td>JAB; JAB1/MPN/MOV34 metalloenzyme domain</td>\n",
       "    </tr>\n",
       "    <tr>\n",
       "      <th>34</th>\n",
       "      <td>PF11701</td>\n",
       "      <td>NaN</td>\n",
       "      <td>SSB; Primosome PriB/single-strand DNA-binding</td>\n",
       "    </tr>\n",
       "    <tr>\n",
       "      <th>35</th>\n",
       "      <td>PF11701</td>\n",
       "      <td>NaN</td>\n",
       "      <td>SSB; Primosome PriB/single-strand DNA-binding</td>\n",
       "    </tr>\n",
       "    <tr>\n",
       "      <th>36</th>\n",
       "      <td>PF12090</td>\n",
       "      <td>NaN</td>\n",
       "      <td>Sec61_beta; Protein transport protein SecG/Sec...</td>\n",
       "    </tr>\n",
       "    <tr>\n",
       "      <th>37</th>\n",
       "      <td>PF01434</td>\n",
       "      <td>NaN</td>\n",
       "      <td>DSHCT; ATP-dependent RNA helicase Ski2, C-term...</td>\n",
       "    </tr>\n",
       "    <tr>\n",
       "      <th>38</th>\n",
       "      <td>PF09748</td>\n",
       "      <td>NaN</td>\n",
       "      <td>Ribosomal_L12_N; Ribosomal protein L7/L12, oli...</td>\n",
       "    </tr>\n",
       "    <tr>\n",
       "      <th>39</th>\n",
       "      <td>PF02902</td>\n",
       "      <td>NaN</td>\n",
       "      <td>GSHPx; Glutathione peroxidase</td>\n",
       "    </tr>\n",
       "    <tr>\n",
       "      <th>40</th>\n",
       "      <td>PF17052</td>\n",
       "      <td>NaN</td>\n",
       "      <td>zf-C2H2</td>\n",
       "    </tr>\n",
       "    <tr>\n",
       "      <th>41</th>\n",
       "      <td>PF08426</td>\n",
       "      <td>NaN</td>\n",
       "      <td>PfkB; Carbohydrate kinase PfkB</td>\n",
       "    </tr>\n",
       "    <tr>\n",
       "      <th>42</th>\n",
       "      <td>PF00318</td>\n",
       "      <td>NaN</td>\n",
       "      <td>Aconitase_C; Aconitase A/isopropylmalate dehyd...</td>\n",
       "    </tr>\n",
       "    <tr>\n",
       "      <th>43</th>\n",
       "      <td>PF11544</td>\n",
       "      <td>NaN</td>\n",
       "      <td>SRI; SRI, Set2 Rpb1 interacting</td>\n",
       "    </tr>\n",
       "    <tr>\n",
       "      <th>44</th>\n",
       "      <td>PF01227</td>\n",
       "      <td>NaN</td>\n",
       "      <td>DASH_Dad4; DASH complex subunit Dad4</td>\n",
       "    </tr>\n",
       "    <tr>\n",
       "      <th>45</th>\n",
       "      <td>PF11766</td>\n",
       "      <td>NaN</td>\n",
       "      <td>SURF4; Surfeit locus 4</td>\n",
       "    </tr>\n",
       "    <tr>\n",
       "      <th>46</th>\n",
       "      <td>PF08689</td>\n",
       "      <td>NaN</td>\n",
       "      <td>RNA_pol_Rpb2_6; DNA-directed RNA polymerase, s...</td>\n",
       "    </tr>\n",
       "    <tr>\n",
       "      <th>47</th>\n",
       "      <td>PF01544</td>\n",
       "      <td>NaN</td>\n",
       "      <td>DUF1981; Sec7, C-terminal</td>\n",
       "    </tr>\n",
       "    <tr>\n",
       "      <th>48</th>\n",
       "      <td>PF00137</td>\n",
       "      <td>NaN</td>\n",
       "      <td>AICARFT_IMPCHas; AICARFT/IMPCHase bienzyme</td>\n",
       "    </tr>\n",
       "    <tr>\n",
       "      <th>49</th>\n",
       "      <td>PF12756</td>\n",
       "      <td>NaN</td>\n",
       "      <td>Succ_DH_flav_C; Fumarate reductase/succinate d...</td>\n",
       "    </tr>\n",
       "    <tr>\n",
       "      <th>50</th>\n",
       "      <td>PF02840</td>\n",
       "      <td>NaN</td>\n",
       "      <td>GED; Dynamin GTPase effector</td>\n",
       "    </tr>\n",
       "    <tr>\n",
       "      <th>51</th>\n",
       "      <td>PF02840</td>\n",
       "      <td>NaN</td>\n",
       "      <td>GED; Dynamin GTPase effector</td>\n",
       "    </tr>\n",
       "    <tr>\n",
       "      <th>52</th>\n",
       "      <td>PF03915</td>\n",
       "      <td>NaN</td>\n",
       "      <td>ICL; Isocitrate lyase</td>\n",
       "    </tr>\n",
       "    <tr>\n",
       "      <th>53</th>\n",
       "      <td>PF01159</td>\n",
       "      <td>NaN</td>\n",
       "      <td>Csm1; Monopolin complex, subunit Csm1/Pcs1</td>\n",
       "    </tr>\n",
       "    <tr>\n",
       "      <th>54</th>\n",
       "      <td>PF09770</td>\n",
       "      <td>NaN</td>\n",
       "      <td>Ribosomal_L18A; Ribosomal protein 50S-L18Ae/60...</td>\n",
       "    </tr>\n",
       "    <tr>\n",
       "      <th>55</th>\n",
       "      <td>PF00248</td>\n",
       "      <td>NaN</td>\n",
       "      <td>ATP-synt; ATP synthase, F1 complex, gamma subunit</td>\n",
       "    </tr>\n",
       "    <tr>\n",
       "      <th>56</th>\n",
       "      <td>PF12054</td>\n",
       "      <td>NaN</td>\n",
       "      <td>Sec39; Sec39 domain</td>\n",
       "    </tr>\n",
       "  </tbody>\n",
       "</table>\n",
       "</div>"
      ],
      "text/plain": [
       "   domain-name domain-description_x  \\\n",
       "0      PF02671                  NaN   \n",
       "1      PF02747                  NaN   \n",
       "2      PF00249                  NaN   \n",
       "3      PF00817                  NaN   \n",
       "4      PF00856                  NaN   \n",
       "5      PF16275                  NaN   \n",
       "6      PF04055                  NaN   \n",
       "7      PF04851                  NaN   \n",
       "8      PF00091                  NaN   \n",
       "9      PF00173                  NaN   \n",
       "10     PF01237                  NaN   \n",
       "11     PF01237                  NaN   \n",
       "12     PF10559                  NaN   \n",
       "13     PF03399                  NaN   \n",
       "14     PF00498                  NaN   \n",
       "15     PF09135                  NaN   \n",
       "16     PF02550                  NaN   \n",
       "17     PF01180                  NaN   \n",
       "18     PF02724                  NaN   \n",
       "19     PF03343                  NaN   \n",
       "20     PF03343                  NaN   \n",
       "21     PF01833                  NaN   \n",
       "22     PF06870                  NaN   \n",
       "23     PF03031                  NaN   \n",
       "24     PF03935                  NaN   \n",
       "25     PF08241                  NaN   \n",
       "26     PF00225                  NaN   \n",
       "27     PF00928                  NaN   \n",
       "28     PF04048                  NaN   \n",
       "29     PF08657                  NaN   \n",
       "30     PF03095                  NaN   \n",
       "31     PF03095                  NaN   \n",
       "32     PF05179                  NaN   \n",
       "33     PF04051                  NaN   \n",
       "34     PF11701                  NaN   \n",
       "35     PF11701                  NaN   \n",
       "36     PF12090                  NaN   \n",
       "37     PF01434                  NaN   \n",
       "38     PF09748                  NaN   \n",
       "39     PF02902                  NaN   \n",
       "40     PF17052                  NaN   \n",
       "41     PF08426                  NaN   \n",
       "42     PF00318                  NaN   \n",
       "43     PF11544                  NaN   \n",
       "44     PF01227                  NaN   \n",
       "45     PF11766                  NaN   \n",
       "46     PF08689                  NaN   \n",
       "47     PF01544                  NaN   \n",
       "48     PF00137                  NaN   \n",
       "49     PF12756                  NaN   \n",
       "50     PF02840                  NaN   \n",
       "51     PF02840                  NaN   \n",
       "52     PF03915                  NaN   \n",
       "53     PF01159                  NaN   \n",
       "54     PF09770                  NaN   \n",
       "55     PF00248                  NaN   \n",
       "56     PF12054                  NaN   \n",
       "\n",
       "                                 domain-description_y  \n",
       "0                      Flp_C; Recombinase Flp protein  \n",
       "1         FtsH_ext; Peptidase M41, FtsH extracellular  \n",
       "2           ATP-synt_10; ATPase assembly factor ATP10  \n",
       "3          COX5A; Cytochrome c oxidase, subunit Va/VI  \n",
       "4           CRAL_TRIO; CRAL-TRIO lipid binding domain  \n",
       "5                                   Yip1; Yip1 domain  \n",
       "6               KA1; Kinase associated domain 1 (KA1)  \n",
       "7            Med13_C; Mediator complex, subunit Med13  \n",
       "8                                   ABC1; UbiB domain  \n",
       "9                 AMP_N; Aminopeptidase P, N-terminal  \n",
       "10             DASH_Spc34; DASH complex subunit Spc34  \n",
       "11             DASH_Spc34; DASH complex subunit Spc34  \n",
       "12       SHE3; SWI5-dependent HO expression protein 3  \n",
       "13                                             HEAT_2  \n",
       "14       Autophagy_act_C; Autophagy-related protein 3  \n",
       "15  RTC; RNA 3&apos;-terminal phosphate cyclase do...  \n",
       "16  Fe_hyd_lg_C; Iron hydrogenase, large subunit, ...  \n",
       "17          CwfJ_C_1; Cwf19-like, C-terminal domain-1  \n",
       "18                    Fmp27_WPPW; FMP27, WPPW  domain  \n",
       "19                                                HAD  \n",
       "20                                                HAD  \n",
       "21   Diphthamide_syn; Diphthamide synthesis DPH1/DPH2  \n",
       "22                                  PA14; PA14 domain  \n",
       "23                           Gcn1_N; Gcn1, N-terminal  \n",
       "24                IF-2B; Initiation factor 2B-related  \n",
       "25                             Pcc1; CTAG/Pcc1 family  \n",
       "26  ATE_N; Arginine-tRNA-protein transferase, N-te...  \n",
       "27      CTU2; Cytoplasmic tRNA 2-thiolation protein 2  \n",
       "28  Ist1; Vacuolar protein sorting-associated prot...  \n",
       "29      RNA_pol_Rpb1_6; RNA polymerase Rpb1, domain 6  \n",
       "30  Glucosamine_iso; Glucosamine/galactosamine-6-p...  \n",
       "31  Glucosamine_iso; Glucosamine/galactosamine-6-p...  \n",
       "32          Mob1_phocein; MOB kinase activator family  \n",
       "33           JAB; JAB1/MPN/MOV34 metalloenzyme domain  \n",
       "34      SSB; Primosome PriB/single-strand DNA-binding  \n",
       "35      SSB; Primosome PriB/single-strand DNA-binding  \n",
       "36  Sec61_beta; Protein transport protein SecG/Sec...  \n",
       "37  DSHCT; ATP-dependent RNA helicase Ski2, C-term...  \n",
       "38  Ribosomal_L12_N; Ribosomal protein L7/L12, oli...  \n",
       "39                      GSHPx; Glutathione peroxidase  \n",
       "40                                            zf-C2H2  \n",
       "41                     PfkB; Carbohydrate kinase PfkB  \n",
       "42  Aconitase_C; Aconitase A/isopropylmalate dehyd...  \n",
       "43                    SRI; SRI, Set2 Rpb1 interacting  \n",
       "44               DASH_Dad4; DASH complex subunit Dad4  \n",
       "45                             SURF4; Surfeit locus 4  \n",
       "46  RNA_pol_Rpb2_6; DNA-directed RNA polymerase, s...  \n",
       "47                          DUF1981; Sec7, C-terminal  \n",
       "48         AICARFT_IMPCHas; AICARFT/IMPCHase bienzyme  \n",
       "49  Succ_DH_flav_C; Fumarate reductase/succinate d...  \n",
       "50                       GED; Dynamin GTPase effector  \n",
       "51                       GED; Dynamin GTPase effector  \n",
       "52                              ICL; Isocitrate lyase  \n",
       "53         Csm1; Monopolin complex, subunit Csm1/Pcs1  \n",
       "54  Ribosomal_L18A; Ribosomal protein 50S-L18Ae/60...  \n",
       "55  ATP-synt; ATP synthase, F1 complex, gamma subunit  \n",
       "56                                Sec39; Sec39 domain  "
      ]
     },
     "execution_count": 30,
     "metadata": {},
     "output_type": "execute_result"
    }
   ],
   "source": [
    "only_nsl_pd=pd.merge(repeated_features_sl,repeated_features_nsl,how='right',on=['domain-name'])\n",
    "data_only_nsl = only_nsl_pd[pd.isnull(only_nsl_pd['domain-description_x'])]\n",
    "data_only_nsl"
   ]
  },
  {
   "cell_type": "code",
   "execution_count": 31,
   "metadata": {
    "execution": {
     "iopub.execute_input": "2020-07-24T03:12:18.960293Z",
     "iopub.status.busy": "2020-07-24T03:12:18.959547Z",
     "iopub.status.idle": "2020-07-24T03:12:18.968776Z",
     "shell.execute_reply": "2020-07-24T03:12:18.968269Z"
    }
   },
   "outputs": [
    {
     "data": {
      "text/html": [
       "<div>\n",
       "<style scoped>\n",
       "    .dataframe tbody tr th:only-of-type {\n",
       "        vertical-align: middle;\n",
       "    }\n",
       "\n",
       "    .dataframe tbody tr th {\n",
       "        vertical-align: top;\n",
       "    }\n",
       "\n",
       "    .dataframe thead th {\n",
       "        text-align: right;\n",
       "    }\n",
       "</style>\n",
       "<table border=\"1\" class=\"dataframe\">\n",
       "  <thead>\n",
       "    <tr style=\"text-align: right;\">\n",
       "      <th></th>\n",
       "      <th>domain-name</th>\n",
       "      <th>domain-description_x</th>\n",
       "      <th>domain-description_y</th>\n",
       "    </tr>\n",
       "  </thead>\n",
       "  <tbody>\n",
       "  </tbody>\n",
       "</table>\n",
       "</div>"
      ],
      "text/plain": [
       "Empty DataFrame\n",
       "Columns: [domain-name, domain-description_x, domain-description_y]\n",
       "Index: []"
      ]
     },
     "execution_count": 31,
     "metadata": {},
     "output_type": "execute_result"
    }
   ],
   "source": [
    "shared_domains_pd=pd.merge(repeated_features_sl,repeated_features_nsl,how='inner',on=['domain-name'])\n",
    "shared_domains_pd\n"
   ]
  },
  {
   "cell_type": "code",
   "execution_count": 32,
   "metadata": {
    "execution": {
     "iopub.execute_input": "2020-07-24T03:12:19.001662Z",
     "iopub.status.busy": "2020-07-24T03:12:18.978848Z",
     "iopub.status.idle": "2020-07-24T03:12:20.818091Z",
     "shell.execute_reply": "2020-07-24T03:12:20.816721Z"
    }
   },
   "outputs": [
    {
     "data": {
      "text/plain": [
       "(0.0, 0.2)"
      ]
     },
     "execution_count": 32,
     "metadata": {},
     "output_type": "execute_result"
    },
    {
     "data": {
      "image/png": "[encoded data removed]",
      "text/plain": [
       "<Figure size 432x288 with 1 Axes>"
      ]
     },
     "metadata": {
      "filenames": {
       "image/png": "/home/runner/work/jupyter-book/jupyter-book/mini_book/docs/_build/jupyter_execute/prot_domains2lethality-FEATURES-POSTPROCESSING_47_1.png"
      },
      "needs_background": "light"
     },
     "output_type": "display_data"
    }
   ],
   "source": [
    "a_sl=x_sl.iloc[:,np.sort(df_sl.iloc[:,1])]\n",
    "a_sl.describe().loc['mean'].hist(bins=8),\n",
    "a_sl.describe().loc['std'].hist(bins=8,alpha=0.4)\n",
    "plt.xlim([0,0.2])"
   ]
  },
  {
   "cell_type": "code",
   "execution_count": 33,
   "metadata": {
    "execution": {
     "iopub.execute_input": "2020-07-24T03:12:20.835442Z",
     "iopub.status.busy": "2020-07-24T03:12:20.827340Z",
     "iopub.status.idle": "2020-07-24T03:12:22.691671Z",
     "shell.execute_reply": "2020-07-24T03:12:22.691152Z"
    }
   },
   "outputs": [
    {
     "data": {
      "text/plain": [
       "(0.0, 0.2)"
      ]
     },
     "execution_count": 33,
     "metadata": {},
     "output_type": "execute_result"
    },
    {
     "data": {
      "image/png": "[encoded data removed]",
      "text/plain": [
       "<Figure size 432x288 with 1 Axes>"
      ]
     },
     "metadata": {
      "filenames": {
       "image/png": "/home/runner/work/jupyter-book/jupyter-book/mini_book/docs/_build/jupyter_execute/prot_domains2lethality-FEATURES-POSTPROCESSING_48_1.png"
      },
      "needs_background": "light"
     },
     "output_type": "display_data"
    }
   ],
   "source": [
    "a_nsl=x_nsl.iloc[:,np.sort(df_nsl.iloc[:,1])]\n",
    "a_nsl.describe().loc['mean'].hist(bins=8),\n",
    "a_nsl.describe().loc['std'].hist(bins=8,alpha=0.4)\n",
    "plt.xlim([0,0.2])"
   ]
  },
  {
   "cell_type": "markdown",
   "metadata": {},
   "source": [
    "### Proof of concept with *BEM1*\n",
    "\n",
    "- Gather the domains of SL and nSL pairs from BEM1\n",
    "- Check if the domains for the SL and nSL pairs are inside the most important domains after PCA."
   ]
  },
  {
   "cell_type": "code",
   "execution_count": 34,
   "metadata": {
    "execution": {
     "iopub.execute_input": "2020-07-24T03:12:22.700121Z",
     "iopub.status.busy": "2020-07-24T03:12:22.699496Z",
     "iopub.status.idle": "2020-07-24T03:12:22.703178Z",
     "shell.execute_reply": "2020-07-24T03:12:22.703671Z"
    }
   },
   "outputs": [],
   "source": [
    "domains_bem1=data_domains[data_domains['name']=='BEM1']['domain-descrip']\n",
    "sl_bem1=data_sl[data_sl['gene-query-name']=='BEM1']['gene-target-name']"
   ]
  },
  {
   "cell_type": "code",
   "execution_count": 35,
   "metadata": {
    "execution": {
     "iopub.execute_input": "2020-07-24T03:12:22.708793Z",
     "iopub.status.busy": "2020-07-24T03:12:22.708220Z",
     "iopub.status.idle": "2020-07-24T03:12:22.713780Z",
     "shell.execute_reply": "2020-07-24T03:12:22.714772Z"
    }
   },
   "outputs": [
    {
     "data": {
      "text/plain": [
       "2846      BEM2\n",
       "2847     CDC24\n",
       "5004      MSB1\n",
       "13777     SMI1\n",
       "13778     BNI1\n",
       "13779     BEM2\n",
       "14385     SKN7\n",
       "Name: gene-target-name, dtype: object"
      ]
     },
     "execution_count": 35,
     "metadata": {},
     "output_type": "execute_result"
    }
   ],
   "source": [
    "sl_bem1"
   ]
  },
  {
   "cell_type": "code",
   "execution_count": 36,
   "metadata": {
    "execution": {
     "iopub.execute_input": "2020-07-24T03:12:22.730324Z",
     "iopub.status.busy": "2020-07-24T03:12:22.729669Z",
     "iopub.status.idle": "2020-07-24T03:12:22.735669Z",
     "shell.execute_reply": "2020-07-24T03:12:22.735131Z"
    }
   },
   "outputs": [
    {
     "data": {
      "text/html": [
       "<div>\n",
       "<style scoped>\n",
       "    .dataframe tbody tr th:only-of-type {\n",
       "        vertical-align: middle;\n",
       "    }\n",
       "\n",
       "    .dataframe tbody tr th {\n",
       "        vertical-align: top;\n",
       "    }\n",
       "\n",
       "    .dataframe thead th {\n",
       "        text-align: right;\n",
       "    }\n",
       "</style>\n",
       "<table border=\"1\" class=\"dataframe\">\n",
       "  <thead>\n",
       "    <tr style=\"text-align: right;\">\n",
       "      <th></th>\n",
       "      <th>gene-query</th>\n",
       "      <th>gene-target</th>\n",
       "      <th>gene-query-name</th>\n",
       "      <th>gene-target-name</th>\n",
       "      <th>gene-query-description</th>\n",
       "      <th>gene-target-description</th>\n",
       "      <th>interaction-type</th>\n",
       "      <th>paper-source</th>\n",
       "    </tr>\n",
       "  </thead>\n",
       "  <tbody>\n",
       "    <tr>\n",
       "      <th>2846</th>\n",
       "      <td>YBR200W</td>\n",
       "      <td>YER155C</td>\n",
       "      <td>BEM1</td>\n",
       "      <td>BEM2</td>\n",
       "      <td>SRO1|phosphatidylinositol-3-phosphate-binding ...</td>\n",
       "      <td>IPL2|SUP9|TSL1|L000000168</td>\n",
       "      <td>Synthetic Lethality</td>\n",
       "      <td>Peterson J (1994)</td>\n",
       "    </tr>\n",
       "    <tr>\n",
       "      <th>2847</th>\n",
       "      <td>YBR200W</td>\n",
       "      <td>YAL041W</td>\n",
       "      <td>BEM1</td>\n",
       "      <td>CDC24</td>\n",
       "      <td>SRO1|phosphatidylinositol-3-phosphate-binding ...</td>\n",
       "      <td>CLS4|Rho family guanine nucleotide exchange fa...</td>\n",
       "      <td>Synthetic Lethality</td>\n",
       "      <td>Peterson J (1994)</td>\n",
       "    </tr>\n",
       "    <tr>\n",
       "      <th>5004</th>\n",
       "      <td>YBR200W</td>\n",
       "      <td>YOR188W</td>\n",
       "      <td>BEM1</td>\n",
       "      <td>MSB1</td>\n",
       "      <td>SRO1|phosphatidylinositol-3-phosphate-binding ...</td>\n",
       "      <td>L000001184</td>\n",
       "      <td>Synthetic Lethality</td>\n",
       "      <td>Bender A (1991)</td>\n",
       "    </tr>\n",
       "    <tr>\n",
       "      <th>13777</th>\n",
       "      <td>YBR200W</td>\n",
       "      <td>YGR229C</td>\n",
       "      <td>BEM1</td>\n",
       "      <td>SMI1</td>\n",
       "      <td>SRO1|phosphatidylinositol-3-phosphate-binding ...</td>\n",
       "      <td>KNR4|L000000909</td>\n",
       "      <td>Synthetic Lethality</td>\n",
       "      <td>Gorelik M (2011)</td>\n",
       "    </tr>\n",
       "    <tr>\n",
       "      <th>13778</th>\n",
       "      <td>YBR200W</td>\n",
       "      <td>YNL271C</td>\n",
       "      <td>BEM1</td>\n",
       "      <td>BNI1</td>\n",
       "      <td>SRO1|phosphatidylinositol-3-phosphate-binding ...</td>\n",
       "      <td>PPF3|SHE5|formin BNI1|L000000190</td>\n",
       "      <td>Synthetic Lethality</td>\n",
       "      <td>Gorelik M (2011)</td>\n",
       "    </tr>\n",
       "    <tr>\n",
       "      <th>13779</th>\n",
       "      <td>YBR200W</td>\n",
       "      <td>YER155C</td>\n",
       "      <td>BEM1</td>\n",
       "      <td>BEM2</td>\n",
       "      <td>SRO1|phosphatidylinositol-3-phosphate-binding ...</td>\n",
       "      <td>IPL2|SUP9|TSL1|L000000168</td>\n",
       "      <td>Synthetic Lethality</td>\n",
       "      <td>Gorelik M (2011)</td>\n",
       "    </tr>\n",
       "    <tr>\n",
       "      <th>14385</th>\n",
       "      <td>YBR200W</td>\n",
       "      <td>YHR206W</td>\n",
       "      <td>BEM1</td>\n",
       "      <td>SKN7</td>\n",
       "      <td>SRO1|phosphatidylinositol-3-phosphate-binding ...</td>\n",
       "      <td>BRY1|POS9|kinase-regulated stress-responsive t...</td>\n",
       "      <td>Dosage Lethality</td>\n",
       "      <td>Bouquin N (1999)</td>\n",
       "    </tr>\n",
       "  </tbody>\n",
       "</table>\n",
       "</div>"
      ],
      "text/plain": [
       "      gene-query gene-target gene-query-name gene-target-name  \\\n",
       "2846     YBR200W     YER155C            BEM1             BEM2   \n",
       "2847     YBR200W     YAL041W            BEM1            CDC24   \n",
       "5004     YBR200W     YOR188W            BEM1             MSB1   \n",
       "13777    YBR200W     YGR229C            BEM1             SMI1   \n",
       "13778    YBR200W     YNL271C            BEM1             BNI1   \n",
       "13779    YBR200W     YER155C            BEM1             BEM2   \n",
       "14385    YBR200W     YHR206W            BEM1             SKN7   \n",
       "\n",
       "                                  gene-query-description  \\\n",
       "2846   SRO1|phosphatidylinositol-3-phosphate-binding ...   \n",
       "2847   SRO1|phosphatidylinositol-3-phosphate-binding ...   \n",
       "5004   SRO1|phosphatidylinositol-3-phosphate-binding ...   \n",
       "13777  SRO1|phosphatidylinositol-3-phosphate-binding ...   \n",
       "13778  SRO1|phosphatidylinositol-3-phosphate-binding ...   \n",
       "13779  SRO1|phosphatidylinositol-3-phosphate-binding ...   \n",
       "14385  SRO1|phosphatidylinositol-3-phosphate-binding ...   \n",
       "\n",
       "                                 gene-target-description     interaction-type  \\\n",
       "2846                           IPL2|SUP9|TSL1|L000000168  Synthetic Lethality   \n",
       "2847   CLS4|Rho family guanine nucleotide exchange fa...  Synthetic Lethality   \n",
       "5004                                          L000001184  Synthetic Lethality   \n",
       "13777                                    KNR4|L000000909  Synthetic Lethality   \n",
       "13778                   PPF3|SHE5|formin BNI1|L000000190  Synthetic Lethality   \n",
       "13779                          IPL2|SUP9|TSL1|L000000168  Synthetic Lethality   \n",
       "14385  BRY1|POS9|kinase-regulated stress-responsive t...     Dosage Lethality   \n",
       "\n",
       "            paper-source  \n",
       "2846   Peterson J (1994)  \n",
       "2847   Peterson J (1994)  \n",
       "5004     Bender A (1991)  \n",
       "13777   Gorelik M (2011)  \n",
       "13778   Gorelik M (2011)  \n",
       "13779   Gorelik M (2011)  \n",
       "14385   Bouquin N (1999)  "
      ]
     },
     "execution_count": 36,
     "metadata": {},
     "output_type": "execute_result"
    }
   ],
   "source": [
    "data_sl[data_sl['gene-query-name']=='BEM1']"
   ]
  },
  {
   "cell_type": "code",
   "execution_count": null,
   "metadata": {},
   "outputs": [],
   "source": []
  }
 ],
 "metadata": {
  "jupytext": {
   "text_representation": {
    "extension": ".md",
    "format_name": "myst"
   }
  },
  "kernelspec": {
   "display_name": "Python 3",
   "language": "python",
   "name": "python3"
  },
  "language_info": {
   "codemirror_mode": {
    "name": "ipython",
    "version": 3
   },
   "file_extension": ".py",
   "mimetype": "text/x-python",
   "name": "python",
   "nbconvert_exporter": "python",
   "pygments_lexer": "ipython3",
   "version": "3.7.8"
  },
  "source_map": [
   10,
   18,
   29,
   36,
   57,
   66,
   98,
   101,
   105,
   128,
   131,
   135,
   139,
   145,
   178,
   184,
   188,
   206,
   210,
   218,
   222,
   225,
   229,
   234,
   238,
   244,
   248,
   253,
   257,
   267,
   269,
   273,
   306,
   311,
   313,
   317,
   328,
   330,
   334,
   344,
   348,
   358,
   360,
   364,
   381,
   388,
   394,
   400,
   407,
   412,
   419,
   424,
   428,
   432
  ]
 },
 "nbformat": 4,
 "nbformat_minor": 4
}