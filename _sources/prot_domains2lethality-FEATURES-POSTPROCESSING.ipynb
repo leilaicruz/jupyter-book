{
 "cells": [
  {
   "cell_type": "markdown",
   "metadata": {},
   "source": [
    "# Feature postprocessing from paper.\n",
    "- Title:  \"Predicting yeast synthetic lethal genetic interactions using protein domains\"\n",
    "- Authors: Bo Li, Feng Luo,School of Computing,Clemson University,Clemson, SC, USA\n",
    "- e-mail: bol, luofeng@clemson.edu\n",
    "- year:2009"
   ]
  },
  {
   "cell_type": "code",
   "execution_count": 1,
   "metadata": {
    "execution": {
     "iopub.execute_input": "2020-07-14T11:09:42.200621Z",
     "iopub.status.busy": "2020-07-14T11:09:42.199859Z",
     "iopub.status.idle": "2020-07-14T11:09:42.926609Z",
     "shell.execute_reply": "2020-07-14T11:09:42.925649Z"
    }
   },
   "outputs": [],
   "source": [
    "import pandas as pd\n",
    "import numpy as np\n",
    "import matplotlib.pyplot as plt\n",
    "from collections import defaultdict \n",
    "import seaborn as sns\n",
    "import matplotlib.cm as cm\n",
    "import scipy as scipy\n",
    "import random"
   ]
  },
  {
   "cell_type": "markdown",
   "metadata": {
    "jupyter": {
     "source_hidden": true
    }
   },
   "source": [
    "### Importing datasets \n",
    "\n",
    "#### Link to the github repo where the datasets to be downloaded:\n",
    "[DOWNLOAD THE DATASETS HERE](https://github.com/leilaicruz/machine-learning-for-yeast/tree/dev_Leila/datasets-for-learning)"
   ]
  },
  {
   "cell_type": "code",
   "execution_count": 2,
   "metadata": {
    "execution": {
     "iopub.execute_input": "2020-07-14T11:09:42.933458Z",
     "iopub.status.busy": "2020-07-14T11:09:42.932541Z",
     "iopub.status.idle": "2020-07-14T11:09:50.433158Z",
     "shell.execute_reply": "2020-07-14T11:09:50.432604Z"
    }
   },
   "outputs": [],
   "source": [
    "import os\n",
    "script_dir = os.path.dirname('__file__') #<-- absolute dir the script is in\n",
    "rel_path_SL = \"datasets/data-synthetic-lethals.xlsx\"\n",
    "rel_path_nSL=\"datasets/data-positive-genetic.xlsx\"\n",
    "rel_path_domains=\"datasets/proteins-domains-from-Pfam.xlsx\"\n",
    "\n",
    "abs_file_path_SL = os.path.join(script_dir, rel_path_SL)\n",
    "abs_file_path_nSL = os.path.join(script_dir, rel_path_nSL)\n",
    "abs_file_path_domains = os.path.join(script_dir, rel_path_domains)\n",
    "\n",
    "# os.chdir('mini_book/docs/') #<-- for binder os.chdir('../')\n",
    "# os.chdir('../')\n",
    "my_path_sl= abs_file_path_SL\n",
    "my_path_non_sl=abs_file_path_nSL\n",
    "my_path_domains=abs_file_path_domains\n",
    "\n",
    "data_sl=pd.read_excel(my_path_sl,header=0)\n",
    "data_domains=pd.read_excel(my_path_domains,header=0,index_col='Unnamed: 0')\n",
    "data_domains=data_domains.dropna()\n",
    "data_nonsl=pd.read_excel(my_path_non_sl,header=0)"
   ]
  },
  {
   "cell_type": "markdown",
   "metadata": {},
   "source": [
    "## Building the feature matrix\n",
    "One matrix for true SL where each row is one pair of SL. Every raw will be a vector of 0,1 or 2 depending on the comparison with the domain list. For row i the jth element = 0 if the jth element of the domain list is not in neither protein A and B, 1, if it is in one of them and 2 if it is in both of them .\n",
    "\n",
    "### Building the list of proteins domains id per protein pair separately :\n",
    "- List of protein A: Search for the Sl/nSL database the query gene name and look in the protein domain database which protein domains id has each of those queries.\n",
    "- List of protein B: Search for the Sl/nSL database the target gene name of the previous query and look in the protein domain database which protein domains id has each of those target genes."
   ]
  },
  {
   "cell_type": "code",
   "execution_count": 3,
   "metadata": {
    "execution": {
     "iopub.execute_input": "2020-07-14T11:09:50.448547Z",
     "iopub.status.busy": "2020-07-14T11:09:50.447967Z",
     "iopub.status.idle": "2020-07-14T11:09:52.499493Z",
     "shell.execute_reply": "2020-07-14T11:09:52.498451Z"
    }
   },
   "outputs": [],
   "source": [
    "# Selecting the meaningful columns in the respective dataset\n",
    "domain_id_list=data_domains['domain-name']\n",
    "query_gene=data_sl['gene-query-name']\n",
    "target_gene=data_sl['gene-target-name']\n",
    "query_gene_nonlethal=data_nonsl['gene-query-name']\n",
    "target_gene_nonlethal=data_nonsl['gene-target-name']\n",
    "\n",
    "\n",
    "\n",
    "# Initialising the arrays\n",
    "protein_a_list=[]\n",
    "protein_b_list=[]\n",
    "protein_a_list_non=[]\n",
    "protein_b_list_non=[]\n",
    "\n",
    "population = np.arange(0,len(data_sl))\n",
    "\n",
    "# For loop for 10000 pairs sampled randomly from the SL/nSl pair list , and creating a big array of proteind domains id per protein pair\n",
    "\n",
    "for m in random.sample(list(population), 500):\n",
    "    protein_a=data_domains[data_domains['name']==query_gene[m]]\n",
    "    protein_b=data_domains[data_domains['name']==target_gene[m]]\n",
    "    protein_a_list.append(protein_a['domain-name'].tolist())\n",
    "    protein_b_list.append(protein_b['domain-name'].tolist())\n",
    "\n",
    "    protein_a_non=data_domains[data_domains['name']==query_gene_nonlethal[m]]\n",
    "    protein_b_non=data_domains[data_domains['name']==target_gene_nonlethal[m]]\n",
    "    protein_a_list_non.append(protein_a_non['domain-name'].tolist())\n",
    "    protein_b_list_non.append(protein_b_non['domain-name'].tolist())"
   ]
  },
  {
   "cell_type": "code",
   "execution_count": 4,
   "metadata": {
    "execution": {
     "iopub.execute_input": "2020-07-14T11:09:52.504767Z",
     "iopub.status.busy": "2020-07-14T11:09:52.504223Z",
     "iopub.status.idle": "2020-07-14T11:09:52.508369Z",
     "shell.execute_reply": "2020-07-14T11:09:52.507840Z"
    }
   },
   "outputs": [
    {
     "name": "stdout",
     "output_type": "stream",
     "text": [
      "We are going to analyze 500 protein pairs, out of 17871 SL protein pairs\n",
      "We are going to analyze 500 protein pairs, out of 43340 positive protein pairs\n"
     ]
    }
   ],
   "source": [
    "print('We are going to analyze',len((protein_a_list)) ,'protein pairs, out of',len(data_sl),'SL protein pairs')\n",
    "print('We are going to analyze',len((protein_a_list_non)) ,'protein pairs, out of',len(data_nonsl),'positive protein pairs')"
   ]
  },
  {
   "cell_type": "markdown",
   "metadata": {},
   "source": [
    "### Postprocessing #1:  Remove protein pairs from study if either protein in the pair does not contain any domain"
   ]
  },
  {
   "cell_type": "code",
   "execution_count": 5,
   "metadata": {
    "execution": {
     "iopub.execute_input": "2020-07-14T11:09:52.517944Z",
     "iopub.status.busy": "2020-07-14T11:09:52.517416Z",
     "iopub.status.idle": "2020-07-14T11:09:52.520893Z",
     "shell.execute_reply": "2020-07-14T11:09:52.520471Z"
    }
   },
   "outputs": [],
   "source": [
    "def remove_empty_domains(protein_list_search,protein_list_pair):\n",
    "    index=[]\n",
    "    for i in np.arange(0,len(protein_list_search)):\n",
    "        if protein_list_search[i]==[] or protein_list_pair[i]==[]:\n",
    "            index.append(i) ## index of empty values for the protein_a_list meaning they dont have any annotated domain\n",
    "\n",
    "    y=[x for x in np.arange(0,len(protein_list_search)) if x not in index] # a list with non empty values from protein_a list\n",
    "\n",
    "    protein_list_search_new=[]\n",
    "    protein_list_pair_new=[]\n",
    "    for i in y:\n",
    "        protein_list_search_new.append(protein_list_search[i])\n",
    "        protein_list_pair_new.append(protein_list_pair[i])\n",
    "    return protein_list_search_new,protein_list_pair_new\n",
    "\n",
    "## evaluating the function\n",
    "\n",
    "protein_a_list_new,protein_b_list_new=remove_empty_domains(protein_a_list,protein_b_list)\n",
    "\n",
    "protein_a_list_non_new,protein_b_list_non_new=remove_empty_domains(protein_a_list_non,protein_b_list_non)"
   ]
  },
  {
   "cell_type": "code",
   "execution_count": 6,
   "metadata": {
    "execution": {
     "iopub.execute_input": "2020-07-14T11:09:52.527106Z",
     "iopub.status.busy": "2020-07-14T11:09:52.526396Z",
     "iopub.status.idle": "2020-07-14T11:09:52.528766Z",
     "shell.execute_reply": "2020-07-14T11:09:52.527583Z"
    }
   },
   "outputs": [
    {
     "name": "stdout",
     "output_type": "stream",
     "text": [
      "The empty domain in the SL were: 80 out of 500 domains\n",
      "The empty domain in the nSL were: 85 out of 500 domains\n"
     ]
    }
   ],
   "source": [
    "print('The empty domain in the SL were:', len(protein_a_list)-len(protein_a_list_new), 'out of', len(protein_a_list),'domains')\n",
    "print('The empty domain in the nSL were:', len(protein_a_list_non)-len(protein_a_list_non_new), 'out of', len(protein_a_list_non),'domains')"
   ]
  },
  {
   "cell_type": "markdown",
   "metadata": {},
   "source": [
    "### Feature engineering: Select from each ordered indexes of domain id list which of them appear once, in both or in any of the domains of each protein pair"
   ]
  },
  {
   "cell_type": "markdown",
   "metadata": {},
   "source": [
    "#### Define function `get_indexes`"
   ]
  },
  {
   "cell_type": "code",
   "execution_count": 7,
   "metadata": {
    "execution": {
     "iopub.execute_input": "2020-07-14T11:09:52.535680Z",
     "iopub.status.busy": "2020-07-14T11:09:52.535145Z",
     "iopub.status.idle": "2020-07-14T11:09:52.537719Z",
     "shell.execute_reply": "2020-07-14T11:09:52.538131Z"
    }
   },
   "outputs": [
    {
     "data": {
      "text/plain": [
       "[1, 2]"
      ]
     },
     "execution_count": 7,
     "metadata": {},
     "output_type": "execute_result"
    }
   ],
   "source": [
    "get_indexes = lambda x, xs: [i for (y, i) in zip(xs, range(len(xs))) if x == y] # a function that give the index of whether a value appear in array or not\n",
    "a=[1,2,2,4,5,6,7,8,9,10]\n",
    "get_indexes(2,a)"
   ]
  },
  {
   "cell_type": "code",
   "execution_count": 8,
   "metadata": {
    "execution": {
     "iopub.execute_input": "2020-07-14T11:09:52.547663Z",
     "iopub.status.busy": "2020-07-14T11:09:52.546400Z",
     "iopub.status.idle": "2020-07-14T11:09:52.548533Z",
     "shell.execute_reply": "2020-07-14T11:09:52.548989Z"
    }
   },
   "outputs": [],
   "source": [
    "def feature_building(protein_a_list_new,protein_b_list_new):\n",
    "    x = np.unique(domain_id_list)\n",
    "    ## To avoid taking repeated domains from one protein of the pairs , lets reduced the domains of each protein from the pairs to their unique members\n",
    "    protein_a_list_unique=[]\n",
    "    protein_b_list_unique=[]\n",
    "    for i in np.arange(0,len(protein_a_list_new)):\n",
    "        protein_a_list_unique.append(np.unique(protein_a_list_new[i]))\n",
    "        protein_b_list_unique.append(np.unique(protein_b_list_new[i]))\n",
    "        \n",
    "    protein_feat_true=np.zeros(shape=(len(x),len(protein_a_list_unique)))\n",
    "    pair_a_b_array=[]\n",
    "    for i in np.arange(0,len(protein_a_list_unique)):\n",
    "        index_a=[]\n",
    "        \n",
    "        pair=[protein_a_list_unique[i],protein_b_list_unique[i]]\n",
    "        pair_a_b=np.concatenate(pair).ravel()\n",
    "        pair_a_b_array.append(pair_a_b)\n",
    "\n",
    "    j=0\n",
    "    for i in pair_a_b_array:  \n",
    "        array,index,counts=np.unique(i,return_index=True,return_counts=True)\n",
    "        \n",
    "        for k,m in zip(counts,array):\n",
    "            if k ==2:\n",
    "                protein_feat_true[get_indexes(m,x),j]=2\n",
    "                \n",
    "            if k==1:\n",
    "                protein_feat_true[get_indexes(m,x),j]=1\n",
    "        j=j+1\n",
    "    return protein_feat_true"
   ]
  },
  {
   "cell_type": "code",
   "execution_count": 9,
   "metadata": {
    "execution": {
     "iopub.execute_input": "2020-07-14T11:09:52.557726Z",
     "iopub.status.busy": "2020-07-14T11:09:52.557209Z",
     "iopub.status.idle": "2020-07-14T11:09:53.225959Z",
     "shell.execute_reply": "2020-07-14T11:09:53.225129Z"
    }
   },
   "outputs": [],
   "source": [
    "protein_feat_true=feature_building(protein_b_list_new=protein_b_list_new,protein_a_list_new=protein_a_list_new)\n",
    "protein_feat_true_pd=pd.DataFrame(protein_feat_true.T)\n",
    "\n",
    "protein_feat_non_true=feature_building(protein_b_list_new=protein_b_list_non_new,protein_a_list_new=protein_a_list_non_new)\n",
    "protein_feat_non_true_pd=pd.DataFrame(protein_feat_non_true.T)"
   ]
  },
  {
   "cell_type": "markdown",
   "metadata": {},
   "source": [
    "### How many ones and twos are in each dataset"
   ]
  },
  {
   "cell_type": "code",
   "execution_count": 10,
   "metadata": {
    "execution": {
     "iopub.execute_input": "2020-07-14T11:09:53.233925Z",
     "iopub.status.busy": "2020-07-14T11:09:53.233231Z",
     "iopub.status.idle": "2020-07-14T11:09:53.331996Z",
     "shell.execute_reply": "2020-07-14T11:09:53.332409Z"
    }
   },
   "outputs": [
    {
     "name": "stdout",
     "output_type": "stream",
     "text": [
      "fraction of twos in the SL array is 2.2825659189295552e-05\n",
      "fraction of ones in the SL array is 0.001031090121999213\n",
      "fraction of twos in the PI array is 4.779448372000398e-06\n",
      "fraction of ones in the PI array is 0.0009487205018420791\n"
     ]
    }
   ],
   "source": [
    "index_2_true=protein_feat_true_pd.where(protein_feat_true_pd==2)\n",
    "index_2_true_count=index_2_true.count(axis=1).sum()\n",
    "\n",
    "index_1_true=protein_feat_true_pd.where(protein_feat_true_pd==1)\n",
    "index_1_true_count=index_1_true.count(axis=1).sum()\n",
    "\n",
    "index_2_nontrue=protein_feat_non_true_pd.where(protein_feat_non_true_pd==2)\n",
    "index_2_nontrue_count=index_2_nontrue.count(axis=1).sum()\n",
    "\n",
    "index_1_nontrue=protein_feat_non_true_pd.where(protein_feat_non_true_pd==1)\n",
    "index_1_nontrue_count=index_1_nontrue.count(axis=1).sum()\n",
    "\n",
    "\n",
    "print('fraction of twos in the SL array is',index_2_true_count/(len(protein_feat_true_pd.index)*len(protein_feat_true_pd.columns)))\n",
    "print('fraction of ones in the SL array is',index_1_true_count/(len(protein_feat_true_pd.index)*len(protein_feat_true_pd.columns)))\n",
    "print('fraction of twos in the PI array is',index_2_nontrue_count/(len(protein_feat_non_true_pd.index)*len(protein_feat_non_true_pd.columns)))\n",
    "print('fraction of ones in the PI array is',index_1_nontrue_count/(len(protein_feat_non_true_pd.index)*len(protein_feat_non_true_pd.columns)))"
   ]
  },
  {
   "cell_type": "markdown",
   "metadata": {},
   "source": [
    "#### Bar plot to visualize these numbers"
   ]
  },
  {
   "cell_type": "code",
   "execution_count": 11,
   "metadata": {
    "execution": {
     "iopub.execute_input": "2020-07-14T11:09:53.348058Z",
     "iopub.status.busy": "2020-07-14T11:09:53.339581Z",
     "iopub.status.idle": "2020-07-14T11:09:53.716697Z",
     "shell.execute_reply": "2020-07-14T11:09:53.717117Z"
    }
   },
   "outputs": [
    {
     "data": {
      "text/plain": [
       "([0, 1, 2, 3], <a list of 4 Text major ticklabel objects>)"
      ]
     },
     "execution_count": 11,
     "metadata": {},
     "output_type": "execute_result"
    },
    {
     "data": {
      "image/png": "[encoded data removed]",
      "text/plain": [
       "<Figure size 432x288 with 1 Axes>"
      ]
     },
     "metadata": {
      "filenames": {
       "image/png": "/home/runner/work/jupyter-book/jupyter-book/mini_book/docs/_build/jupyter_execute/prot_domains2lethality-FEATURES-POSTPROCESSING_18_1.png"
      },
      "needs_background": "light"
     },
     "output_type": "display_data"
    }
   ],
   "source": [
    "plt.bar(['fraction of 2 in the nSL','fraction of 1 in the nSL'],[index_2_nontrue_count/(len(protein_feat_non_true_pd.index)*len(protein_feat_non_true_pd.columns)),index_1_nontrue_count/(len(protein_feat_non_true_pd.index)*len(protein_feat_non_true_pd.columns))],alpha=0.6,color=['blue','lightblue']), \n",
    "\n",
    "plt.bar(['fraction of 2 in SL ','fraction of 1 in SL'],[index_2_true_count/(len(protein_feat_true_pd.index)*len(protein_feat_true_pd.columns)),index_1_true_count/(len(protein_feat_true_pd.index)*len(protein_feat_true_pd.columns))],alpha=0.6,color=['coral','lightcoral'])\n",
    "\n",
    "plt.ylabel('Fraction from the population')\n",
    "plt.yscale('log')\n",
    "plt.xticks(rotation=40)"
   ]
  },
  {
   "cell_type": "markdown",
   "metadata": {},
   "source": [
    "#### Adding the labels(response variables) to each dataset"
   ]
  },
  {
   "cell_type": "code",
   "execution_count": 12,
   "metadata": {
    "execution": {
     "iopub.execute_input": "2020-07-14T11:09:53.721736Z",
     "iopub.status.busy": "2020-07-14T11:09:53.720730Z",
     "iopub.status.idle": "2020-07-14T11:09:53.725370Z",
     "shell.execute_reply": "2020-07-14T11:09:53.724840Z"
    }
   },
   "outputs": [],
   "source": [
    "protein_feat_true_pd['lethality']=np.ones(shape=(len(protein_a_list_new)))\n",
    "protein_feat_non_true_pd['lethality']=np.zeros(shape=(len(protein_a_list_non_new)))"
   ]
  },
  {
   "cell_type": "markdown",
   "metadata": {},
   "source": [
    "#### Joining both datasets"
   ]
  },
  {
   "cell_type": "code",
   "execution_count": 13,
   "metadata": {
    "execution": {
     "iopub.execute_input": "2020-07-14T11:09:53.729875Z",
     "iopub.status.busy": "2020-07-14T11:09:53.729363Z",
     "iopub.status.idle": "2020-07-14T11:09:53.765372Z",
     "shell.execute_reply": "2020-07-14T11:09:53.765764Z"
    }
   },
   "outputs": [
    {
     "name": "stdout",
     "output_type": "stream",
     "text": [
      "The number of features are: 3026\n",
      "The number of samples are: 835\n"
     ]
    }
   ],
   "source": [
    "feature_post=pd.concat([protein_feat_true_pd,protein_feat_non_true_pd],axis=0)\n",
    "feature_post=feature_post.set_index(np.arange(0,len(protein_a_list_new)+len(protein_a_list_non_new)))\n",
    "print('The number of features are:',feature_post.shape[1])\n",
    "print('The number of samples are:',feature_post.shape[0])"
   ]
  },
  {
   "cell_type": "markdown",
   "metadata": {},
   "source": [
    "### Postprocessing and exploration of the feature matrix of both datasets"
   ]
  },
  {
   "cell_type": "code",
   "execution_count": 14,
   "metadata": {
    "execution": {
     "iopub.execute_input": "2020-07-14T11:09:53.771203Z",
     "iopub.status.busy": "2020-07-14T11:09:53.770690Z",
     "iopub.status.idle": "2020-07-14T11:09:57.656010Z",
     "shell.execute_reply": "2020-07-14T11:09:57.654853Z"
    }
   },
   "outputs": [],
   "source": [
    "mean=feature_post.T.describe().loc['mean']\n",
    "std=feature_post.T.describe().loc['std']\n",
    "lethality=feature_post['lethality']\n",
    "\n",
    "corr_keys=pd.concat([mean,std,lethality],axis=1)"
   ]
  },
  {
   "cell_type": "markdown",
   "metadata": {},
   "source": [
    "### Viz of the stats"
   ]
  },
  {
   "cell_type": "code",
   "execution_count": 15,
   "metadata": {
    "execution": {
     "iopub.execute_input": "2020-07-14T11:09:57.669563Z",
     "iopub.status.busy": "2020-07-14T11:09:57.668565Z",
     "iopub.status.idle": "2020-07-14T11:09:59.097729Z",
     "shell.execute_reply": "2020-07-14T11:09:59.097181Z"
    }
   },
   "outputs": [
    {
     "data": {
      "text/plain": [
       "Text(0.5, 1.08, 'Pairplot to see data dependencies with Lethality')"
      ]
     },
     "execution_count": 15,
     "metadata": {},
     "output_type": "execute_result"
    },
    {
     "data": {
      "image/png": "[encoded data removed]",
      "text/plain": [
       "<Figure size 412x360 with 6 Axes>"
      ]
     },
     "metadata": {
      "filenames": {
       "image/png": "/home/runner/work/jupyter-book/jupyter-book/mini_book/docs/_build/jupyter_execute/prot_domains2lethality-FEATURES-POSTPROCESSING_26_1.png"
      },
      "needs_background": "light"
     },
     "output_type": "display_data"
    }
   ],
   "source": [
    "pair=sns.pairplot(corr_keys,hue='lethality',diag_kind='kde',kind='reg',palette='colorblind')\n",
    "pair.fig.suptitle('Pairplot to see data dependencies with Lethality',y=1.08)"
   ]
  },
  {
   "cell_type": "code",
   "execution_count": 16,
   "metadata": {
    "execution": {
     "iopub.execute_input": "2020-07-14T11:09:59.107903Z",
     "iopub.status.busy": "2020-07-14T11:09:59.107382Z",
     "iopub.status.idle": "2020-07-14T11:09:59.110278Z",
     "shell.execute_reply": "2020-07-14T11:09:59.110610Z"
    }
   },
   "outputs": [],
   "source": [
    "X, y = feature_post.drop(columns=[\"lethality\"]), feature_post[\"lethality\"]"
   ]
  },
  {
   "cell_type": "code",
   "execution_count": 17,
   "metadata": {
    "execution": {
     "iopub.execute_input": "2020-07-14T11:09:59.115282Z",
     "iopub.status.busy": "2020-07-14T11:09:59.114807Z",
     "iopub.status.idle": "2020-07-14T11:09:59.252486Z",
     "shell.execute_reply": "2020-07-14T11:09:59.253220Z"
    }
   },
   "outputs": [],
   "source": [
    "from sklearn.preprocessing import StandardScaler\n",
    "scaler = StandardScaler()\n",
    "x_sl=protein_feat_true_pd.drop(columns=['lethality'])\n",
    "x_nsl=protein_feat_non_true_pd.drop(columns=['lethality'])\n",
    "\n",
    "X_sl_scaled = scaler.fit_transform(x_sl)\n",
    "X_nsl_scaled = scaler.fit_transform(x_nsl)"
   ]
  },
  {
   "cell_type": "code",
   "execution_count": 18,
   "metadata": {
    "execution": {
     "iopub.execute_input": "2020-07-14T11:09:59.260186Z",
     "iopub.status.busy": "2020-07-14T11:09:59.258972Z",
     "iopub.status.idle": "2020-07-14T11:09:59.262174Z",
     "shell.execute_reply": "2020-07-14T11:09:59.261701Z"
    }
   },
   "outputs": [
    {
     "data": {
      "text/plain": [
       "(420, 3025)"
      ]
     },
     "execution_count": 18,
     "metadata": {},
     "output_type": "execute_result"
    }
   ],
   "source": [
    "np.shape(X_sl_scaled)"
   ]
  },
  {
   "cell_type": "markdown",
   "metadata": {},
   "source": [
    "## How redundant are each of the protein domains?"
   ]
  },
  {
   "cell_type": "code",
   "execution_count": 19,
   "metadata": {
    "execution": {
     "iopub.execute_input": "2020-07-14T11:09:59.270193Z",
     "iopub.status.busy": "2020-07-14T11:09:59.269069Z",
     "iopub.status.idle": "2020-07-14T11:09:59.270975Z",
     "shell.execute_reply": "2020-07-14T11:09:59.271623Z"
    }
   },
   "outputs": [],
   "source": [
    "def PCA_component_contribution(scaled_matrix,original_data):\n",
    "    from sklearn.decomposition import PCA\n",
    "\n",
    "    model = PCA(0.95).fit(scaled_matrix)\n",
    "    ## apply dimensionality reduction to X_train\n",
    "    output_pca = model.transform(scaled_matrix)\n",
    "    \n",
    "    total=sum(model.explained_variance_)\n",
    "\n",
    "\n",
    "   \n",
    "    # number of components , that it will be the number of main axes times the number of original components \n",
    "    n_pcs= model.components_.shape[0] # the amount of non redundant protein domains \n",
    "\n",
    "    # get the index of the most important feature on EACH component\n",
    "    # LIST COMPREHENSION HERE\n",
    "    most_important = [np.abs(model.components_[i]).argmax() for i in range(n_pcs)]\n",
    "\n",
    "    initial_feature_names = original_data.columns\n",
    "    # get the names\n",
    "    most_important_names = [initial_feature_names[most_important[i]] for i in range(n_pcs)]\n",
    "    \n",
    "\n",
    "    # LIST COMPREHENSION HERE AGAIN\n",
    "    dic = {'PC{}'.format(i): most_important_names[i] for i in range(n_pcs)}\n",
    "\n",
    "    # build the dataframe\n",
    "    df = pd.DataFrame(dic.items(),columns=['pca-component','domain-number'])\n",
    "\n",
    "    return df,model.components_"
   ]
  },
  {
   "cell_type": "code",
   "execution_count": 20,
   "metadata": {
    "execution": {
     "iopub.execute_input": "2020-07-14T11:09:59.275238Z",
     "iopub.status.busy": "2020-07-14T11:09:59.274722Z",
     "iopub.status.idle": "2020-07-14T11:09:59.907771Z",
     "shell.execute_reply": "2020-07-14T11:09:59.908231Z"
    }
   },
   "outputs": [],
   "source": [
    "df_sl,components_pca_nsl=PCA_component_contribution(X_nsl_scaled,x_nsl)\n",
    "df_nsl,components_pca_sl=PCA_component_contribution(X_sl_scaled,x_sl)"
   ]
  },
  {
   "cell_type": "code",
   "execution_count": 21,
   "metadata": {
    "execution": {
     "iopub.execute_input": "2020-07-14T11:09:59.913286Z",
     "iopub.status.busy": "2020-07-14T11:09:59.912753Z",
     "iopub.status.idle": "2020-07-14T11:09:59.918203Z",
     "shell.execute_reply": "2020-07-14T11:09:59.918572Z"
    }
   },
   "outputs": [
    {
     "data": {
      "text/html": [
       "<div>\n",
       "<style scoped>\n",
       "    .dataframe tbody tr th:only-of-type {\n",
       "        vertical-align: middle;\n",
       "    }\n",
       "\n",
       "    .dataframe tbody tr th {\n",
       "        vertical-align: top;\n",
       "    }\n",
       "\n",
       "    .dataframe thead th {\n",
       "        text-align: right;\n",
       "    }\n",
       "</style>\n",
       "<table border=\"1\" class=\"dataframe\">\n",
       "  <thead>\n",
       "    <tr style=\"text-align: right;\">\n",
       "      <th></th>\n",
       "      <th>pca-component</th>\n",
       "      <th>domain-number</th>\n",
       "    </tr>\n",
       "  </thead>\n",
       "  <tbody>\n",
       "    <tr>\n",
       "      <th>0</th>\n",
       "      <td>PC0</td>\n",
       "      <td>20</td>\n",
       "    </tr>\n",
       "    <tr>\n",
       "      <th>1</th>\n",
       "      <td>PC1</td>\n",
       "      <td>958</td>\n",
       "    </tr>\n",
       "    <tr>\n",
       "      <th>2</th>\n",
       "      <td>PC2</td>\n",
       "      <td>540</td>\n",
       "    </tr>\n",
       "    <tr>\n",
       "      <th>3</th>\n",
       "      <td>PC3</td>\n",
       "      <td>312</td>\n",
       "    </tr>\n",
       "    <tr>\n",
       "      <th>4</th>\n",
       "      <td>PC4</td>\n",
       "      <td>89</td>\n",
       "    </tr>\n",
       "  </tbody>\n",
       "</table>\n",
       "</div>"
      ],
      "text/plain": [
       "  pca-component  domain-number\n",
       "0           PC0             20\n",
       "1           PC1            958\n",
       "2           PC2            540\n",
       "3           PC3            312\n",
       "4           PC4             89"
      ]
     },
     "execution_count": 21,
     "metadata": {},
     "output_type": "execute_result"
    }
   ],
   "source": [
    "df_sl.head()"
   ]
  },
  {
   "cell_type": "markdown",
   "metadata": {},
   "source": [
    "## which are the shared domains between nSL and SL pairs , in the PCA reduced samples"
   ]
  },
  {
   "cell_type": "code",
   "execution_count": 22,
   "metadata": {
    "execution": {
     "iopub.execute_input": "2020-07-14T11:09:59.920648Z",
     "iopub.status.busy": "2020-07-14T11:09:59.920176Z",
     "iopub.status.idle": "2020-07-14T11:09:59.949801Z",
     "shell.execute_reply": "2020-07-14T11:09:59.950280Z"
    }
   },
   "outputs": [
    {
     "data": {
      "text/html": [
       "<div>\n",
       "<style scoped>\n",
       "    .dataframe tbody tr th:only-of-type {\n",
       "        vertical-align: middle;\n",
       "    }\n",
       "\n",
       "    .dataframe tbody tr th {\n",
       "        vertical-align: top;\n",
       "    }\n",
       "\n",
       "    .dataframe thead th {\n",
       "        text-align: right;\n",
       "    }\n",
       "</style>\n",
       "<table border=\"1\" class=\"dataframe\">\n",
       "  <thead>\n",
       "    <tr style=\"text-align: right;\">\n",
       "      <th></th>\n",
       "      <th>pca-component_x</th>\n",
       "      <th>domain-number</th>\n",
       "      <th>pca-component_y</th>\n",
       "      <th>domain-description</th>\n",
       "    </tr>\n",
       "  </thead>\n",
       "  <tbody>\n",
       "    <tr>\n",
       "      <th>0</th>\n",
       "      <td>PC8</td>\n",
       "      <td>926</td>\n",
       "      <td>PC24</td>\n",
       "      <td>Flp_C; Recombinase Flp protein</td>\n",
       "    </tr>\n",
       "    <tr>\n",
       "      <th>1</th>\n",
       "      <td>PC11</td>\n",
       "      <td>55</td>\n",
       "      <td>PC14</td>\n",
       "      <td>ADK</td>\n",
       "    </tr>\n",
       "    <tr>\n",
       "      <th>2</th>\n",
       "      <td>PC21</td>\n",
       "      <td>384</td>\n",
       "      <td>PC16</td>\n",
       "      <td>COPI_assoc; Golgi apparatus membrane protein T...</td>\n",
       "    </tr>\n",
       "    <tr>\n",
       "      <th>3</th>\n",
       "      <td>PC23</td>\n",
       "      <td>83</td>\n",
       "      <td>PC31</td>\n",
       "      <td>ANAPC1; Anaphase-promoting complex subunit 1</td>\n",
       "    </tr>\n",
       "    <tr>\n",
       "      <th>4</th>\n",
       "      <td>PC32</td>\n",
       "      <td>983</td>\n",
       "      <td>PC92</td>\n",
       "      <td>GHMP_kinases_N; GHMP kinase N-terminal domain</td>\n",
       "    </tr>\n",
       "    <tr>\n",
       "      <th>5</th>\n",
       "      <td>PC42</td>\n",
       "      <td>616</td>\n",
       "      <td>PC218</td>\n",
       "      <td>DNA_pol_B_thumb; DNA polymerase beta, thumb do...</td>\n",
       "    </tr>\n",
       "    <tr>\n",
       "      <th>6</th>\n",
       "      <td>PC48</td>\n",
       "      <td>164</td>\n",
       "      <td>PC44</td>\n",
       "      <td>Acyltransf_C; Acyltransferase, C-terminal domain</td>\n",
       "    </tr>\n",
       "    <tr>\n",
       "      <th>7</th>\n",
       "      <td>PC59</td>\n",
       "      <td>1903</td>\n",
       "      <td>PC37</td>\n",
       "      <td>Pex2_Pex12; Pex, N-terminal</td>\n",
       "    </tr>\n",
       "    <tr>\n",
       "      <th>8</th>\n",
       "      <td>PC59</td>\n",
       "      <td>1903</td>\n",
       "      <td>PC39</td>\n",
       "      <td>Pex2_Pex12; Pex, N-terminal</td>\n",
       "    </tr>\n",
       "    <tr>\n",
       "      <th>9</th>\n",
       "      <td>PC63</td>\n",
       "      <td>410</td>\n",
       "      <td>PC33</td>\n",
       "      <td>CRAL_TRIO; CRAL-TRIO lipid binding domain</td>\n",
       "    </tr>\n",
       "    <tr>\n",
       "      <th>10</th>\n",
       "      <td>PC64</td>\n",
       "      <td>68</td>\n",
       "      <td>PC141</td>\n",
       "      <td>AIRC; PurE domain</td>\n",
       "    </tr>\n",
       "    <tr>\n",
       "      <th>11</th>\n",
       "      <td>PC64</td>\n",
       "      <td>68</td>\n",
       "      <td>PC143</td>\n",
       "      <td>AIRC; PurE domain</td>\n",
       "    </tr>\n",
       "    <tr>\n",
       "      <th>12</th>\n",
       "      <td>PC65</td>\n",
       "      <td>1857</td>\n",
       "      <td>PC110</td>\n",
       "      <td>Patatin; Patatin-like phospholipase domain</td>\n",
       "    </tr>\n",
       "    <tr>\n",
       "      <th>13</th>\n",
       "      <td>PC72</td>\n",
       "      <td>1169</td>\n",
       "      <td>PC108</td>\n",
       "      <td>HisG; ATP phosphoribosyltransferase, catalytic...</td>\n",
       "    </tr>\n",
       "    <tr>\n",
       "      <th>14</th>\n",
       "      <td>PC75</td>\n",
       "      <td>773</td>\n",
       "      <td>PC41</td>\n",
       "      <td>Dynein_light; Dynein light chain, type 1/2</td>\n",
       "    </tr>\n",
       "    <tr>\n",
       "      <th>15</th>\n",
       "      <td>PC75</td>\n",
       "      <td>773</td>\n",
       "      <td>PC48</td>\n",
       "      <td>Dynein_light; Dynein light chain, type 1/2</td>\n",
       "    </tr>\n",
       "    <tr>\n",
       "      <th>16</th>\n",
       "      <td>PC84</td>\n",
       "      <td>1836</td>\n",
       "      <td>PC55</td>\n",
       "      <td>PTPLA; Protein-tyrosine phosphatase-like, PTPLA</td>\n",
       "    </tr>\n",
       "    <tr>\n",
       "      <th>17</th>\n",
       "      <td>PC95</td>\n",
       "      <td>612</td>\n",
       "      <td>PC138</td>\n",
       "      <td>DNA_pol_A_exo1; 3&amp;apos;-5&amp;apos; exonuclease do...</td>\n",
       "    </tr>\n",
       "    <tr>\n",
       "      <th>18</th>\n",
       "      <td>PC100</td>\n",
       "      <td>310</td>\n",
       "      <td>PC267</td>\n",
       "      <td>C1_1; Protein kinase C-like, phorbol ester/dia...</td>\n",
       "    </tr>\n",
       "    <tr>\n",
       "      <th>19</th>\n",
       "      <td>PC103</td>\n",
       "      <td>376</td>\n",
       "      <td>PC130</td>\n",
       "      <td>COG2; Conserved oligomeric Golgi complex, subu...</td>\n",
       "    </tr>\n",
       "    <tr>\n",
       "      <th>20</th>\n",
       "      <td>PC105</td>\n",
       "      <td>924</td>\n",
       "      <td>PC193</td>\n",
       "      <td>Flocculin</td>\n",
       "    </tr>\n",
       "    <tr>\n",
       "      <th>21</th>\n",
       "      <td>PC105</td>\n",
       "      <td>924</td>\n",
       "      <td>PC195</td>\n",
       "      <td>Flocculin</td>\n",
       "    </tr>\n",
       "    <tr>\n",
       "      <th>22</th>\n",
       "      <td>PC114</td>\n",
       "      <td>887</td>\n",
       "      <td>PC244</td>\n",
       "      <td>FMN_dh; FMN-dependent dehydrogenase</td>\n",
       "    </tr>\n",
       "    <tr>\n",
       "      <th>23</th>\n",
       "      <td>PC124</td>\n",
       "      <td>887</td>\n",
       "      <td>PC244</td>\n",
       "      <td>FMN_dh; FMN-dependent dehydrogenase</td>\n",
       "    </tr>\n",
       "    <tr>\n",
       "      <th>24</th>\n",
       "      <td>PC131</td>\n",
       "      <td>1924</td>\n",
       "      <td>PC7</td>\n",
       "      <td>Pol_alpha_B_N; DNA polymerase alpha, subunit B...</td>\n",
       "    </tr>\n",
       "    <tr>\n",
       "      <th>25</th>\n",
       "      <td>PC132</td>\n",
       "      <td>1924</td>\n",
       "      <td>PC7</td>\n",
       "      <td>Pol_alpha_B_N; DNA polymerase alpha, subunit B...</td>\n",
       "    </tr>\n",
       "    <tr>\n",
       "      <th>26</th>\n",
       "      <td>PC135</td>\n",
       "      <td>1046</td>\n",
       "      <td>PC132</td>\n",
       "      <td>Glyco_hydro_18; Glycoside hydrolase family 18,...</td>\n",
       "    </tr>\n",
       "    <tr>\n",
       "      <th>27</th>\n",
       "      <td>PC139</td>\n",
       "      <td>629</td>\n",
       "      <td>PC54</td>\n",
       "      <td>DSHCT; ATP-dependent RNA helicase Ski2, C-term...</td>\n",
       "    </tr>\n",
       "    <tr>\n",
       "      <th>28</th>\n",
       "      <td>PC140</td>\n",
       "      <td>1701</td>\n",
       "      <td>PC155</td>\n",
       "      <td>PAP_central; Poly(A) polymerase, central domain</td>\n",
       "    </tr>\n",
       "    <tr>\n",
       "      <th>29</th>\n",
       "      <td>PC140</td>\n",
       "      <td>1701</td>\n",
       "      <td>PC156</td>\n",
       "      <td>PAP_central; Poly(A) polymerase, central domain</td>\n",
       "    </tr>\n",
       "    <tr>\n",
       "      <th>30</th>\n",
       "      <td>PC169</td>\n",
       "      <td>1701</td>\n",
       "      <td>PC155</td>\n",
       "      <td>PAP_central; Poly(A) polymerase, central domain</td>\n",
       "    </tr>\n",
       "    <tr>\n",
       "      <th>31</th>\n",
       "      <td>PC169</td>\n",
       "      <td>1701</td>\n",
       "      <td>PC156</td>\n",
       "      <td>PAP_central; Poly(A) polymerase, central domain</td>\n",
       "    </tr>\n",
       "    <tr>\n",
       "      <th>32</th>\n",
       "      <td>PC141</td>\n",
       "      <td>161</td>\n",
       "      <td>PC202</td>\n",
       "      <td>Acyl-CoA_ox_N; Acyl-coenzyme A oxidase, N-term...</td>\n",
       "    </tr>\n",
       "    <tr>\n",
       "      <th>33</th>\n",
       "      <td>PC143</td>\n",
       "      <td>27</td>\n",
       "      <td>PC74</td>\n",
       "      <td>AAA_8; Dynein heavy chain, P-loop containing D...</td>\n",
       "    </tr>\n",
       "    <tr>\n",
       "      <th>34</th>\n",
       "      <td>PC144</td>\n",
       "      <td>247</td>\n",
       "      <td>PC30</td>\n",
       "      <td>Autophagy_act_C; Autophagy-related protein 3</td>\n",
       "    </tr>\n",
       "    <tr>\n",
       "      <th>35</th>\n",
       "      <td>PC154</td>\n",
       "      <td>6</td>\n",
       "      <td>PC257</td>\n",
       "      <td>2OG-FeII_Oxy_4</td>\n",
       "    </tr>\n",
       "    <tr>\n",
       "      <th>36</th>\n",
       "      <td>PC168</td>\n",
       "      <td>622</td>\n",
       "      <td>PC150</td>\n",
       "      <td>DNA_topoisoIV; DNA topoisomerase, type IIA, su...</td>\n",
       "    </tr>\n",
       "    <tr>\n",
       "      <th>37</th>\n",
       "      <td>PC173</td>\n",
       "      <td>118</td>\n",
       "      <td>PC228</td>\n",
       "      <td>ATP-grasp; ATP-grasp fold, ATP-dependent carbo...</td>\n",
       "    </tr>\n",
       "    <tr>\n",
       "      <th>38</th>\n",
       "      <td>PC180</td>\n",
       "      <td>868</td>\n",
       "      <td>PC100</td>\n",
       "      <td>FAD_binding_8; FAD-binding 8</td>\n",
       "    </tr>\n",
       "    <tr>\n",
       "      <th>39</th>\n",
       "      <td>PC189</td>\n",
       "      <td>1233</td>\n",
       "      <td>PC151</td>\n",
       "      <td>Inhibitor_I9; Peptidase S8 propeptide/proteina...</td>\n",
       "    </tr>\n",
       "    <tr>\n",
       "      <th>40</th>\n",
       "      <td>PC221</td>\n",
       "      <td>1233</td>\n",
       "      <td>PC151</td>\n",
       "      <td>Inhibitor_I9; Peptidase S8 propeptide/proteina...</td>\n",
       "    </tr>\n",
       "    <tr>\n",
       "      <th>41</th>\n",
       "      <td>PC190</td>\n",
       "      <td>432</td>\n",
       "      <td>PC82</td>\n",
       "      <td>CT_A_B; Carboxyltransferase domain, subdomain ...</td>\n",
       "    </tr>\n",
       "    <tr>\n",
       "      <th>42</th>\n",
       "      <td>PC191</td>\n",
       "      <td>432</td>\n",
       "      <td>PC82</td>\n",
       "      <td>CT_A_B; Carboxyltransferase domain, subdomain ...</td>\n",
       "    </tr>\n",
       "    <tr>\n",
       "      <th>43</th>\n",
       "      <td>PC210</td>\n",
       "      <td>2150</td>\n",
       "      <td>PC196</td>\n",
       "      <td>Ribosom_S12_S23; Ribosomal protein S12/S23</td>\n",
       "    </tr>\n",
       "    <tr>\n",
       "      <th>44</th>\n",
       "      <td>PC225</td>\n",
       "      <td>1612</td>\n",
       "      <td>PC200</td>\n",
       "      <td>NifU; NIF system FeS cluster assembly, NifU, C...</td>\n",
       "    </tr>\n",
       "    <tr>\n",
       "      <th>45</th>\n",
       "      <td>PC232</td>\n",
       "      <td>1570</td>\n",
       "      <td>PC85</td>\n",
       "      <td>NMD3</td>\n",
       "    </tr>\n",
       "    <tr>\n",
       "      <th>46</th>\n",
       "      <td>PC236</td>\n",
       "      <td>1295</td>\n",
       "      <td>PC205</td>\n",
       "      <td>LIM; Zinc finger, LIM-type</td>\n",
       "    </tr>\n",
       "    <tr>\n",
       "      <th>47</th>\n",
       "      <td>PC237</td>\n",
       "      <td>1295</td>\n",
       "      <td>PC205</td>\n",
       "      <td>LIM; Zinc finger, LIM-type</td>\n",
       "    </tr>\n",
       "    <tr>\n",
       "      <th>48</th>\n",
       "      <td>PC240</td>\n",
       "      <td>2025</td>\n",
       "      <td>PC104</td>\n",
       "      <td>RNA_pol_Rpb2_7; RNA polymerase Rpb2, domain 7</td>\n",
       "    </tr>\n",
       "    <tr>\n",
       "      <th>49</th>\n",
       "      <td>PC247</td>\n",
       "      <td>282</td>\n",
       "      <td>PC188</td>\n",
       "      <td>BRE1; E3 ubiquitin ligase, BRE1</td>\n",
       "    </tr>\n",
       "    <tr>\n",
       "      <th>50</th>\n",
       "      <td>PC273</td>\n",
       "      <td>35</td>\n",
       "      <td>PC95</td>\n",
       "      <td>AA_permease; Amino acid permease/ SLC12A domain</td>\n",
       "    </tr>\n",
       "    <tr>\n",
       "      <th>51</th>\n",
       "      <td>PC276</td>\n",
       "      <td>181</td>\n",
       "      <td>PC256</td>\n",
       "      <td>AlaDh_PNT_N; Alanine dehydrogenase/pyridine nu...</td>\n",
       "    </tr>\n",
       "    <tr>\n",
       "      <th>52</th>\n",
       "      <td>PC277</td>\n",
       "      <td>2478</td>\n",
       "      <td>PC181</td>\n",
       "      <td>Sin3_corepress; Histone deacetylase interactin...</td>\n",
       "    </tr>\n",
       "  </tbody>\n",
       "</table>\n",
       "</div>"
      ],
      "text/plain": [
       "   pca-component_x  domain-number pca-component_y  \\\n",
       "0              PC8            926            PC24   \n",
       "1             PC11             55            PC14   \n",
       "2             PC21            384            PC16   \n",
       "3             PC23             83            PC31   \n",
       "4             PC32            983            PC92   \n",
       "5             PC42            616           PC218   \n",
       "6             PC48            164            PC44   \n",
       "7             PC59           1903            PC37   \n",
       "8             PC59           1903            PC39   \n",
       "9             PC63            410            PC33   \n",
       "10            PC64             68           PC141   \n",
       "11            PC64             68           PC143   \n",
       "12            PC65           1857           PC110   \n",
       "13            PC72           1169           PC108   \n",
       "14            PC75            773            PC41   \n",
       "15            PC75            773            PC48   \n",
       "16            PC84           1836            PC55   \n",
       "17            PC95            612           PC138   \n",
       "18           PC100            310           PC267   \n",
       "19           PC103            376           PC130   \n",
       "20           PC105            924           PC193   \n",
       "21           PC105            924           PC195   \n",
       "22           PC114            887           PC244   \n",
       "23           PC124            887           PC244   \n",
       "24           PC131           1924             PC7   \n",
       "25           PC132           1924             PC7   \n",
       "26           PC135           1046           PC132   \n",
       "27           PC139            629            PC54   \n",
       "28           PC140           1701           PC155   \n",
       "29           PC140           1701           PC156   \n",
       "30           PC169           1701           PC155   \n",
       "31           PC169           1701           PC156   \n",
       "32           PC141            161           PC202   \n",
       "33           PC143             27            PC74   \n",
       "34           PC144            247            PC30   \n",
       "35           PC154              6           PC257   \n",
       "36           PC168            622           PC150   \n",
       "37           PC173            118           PC228   \n",
       "38           PC180            868           PC100   \n",
       "39           PC189           1233           PC151   \n",
       "40           PC221           1233           PC151   \n",
       "41           PC190            432            PC82   \n",
       "42           PC191            432            PC82   \n",
       "43           PC210           2150           PC196   \n",
       "44           PC225           1612           PC200   \n",
       "45           PC232           1570            PC85   \n",
       "46           PC236           1295           PC205   \n",
       "47           PC237           1295           PC205   \n",
       "48           PC240           2025           PC104   \n",
       "49           PC247            282           PC188   \n",
       "50           PC273             35            PC95   \n",
       "51           PC276            181           PC256   \n",
       "52           PC277           2478           PC181   \n",
       "\n",
       "                                   domain-description  \n",
       "0                      Flp_C; Recombinase Flp protein  \n",
       "1                                                 ADK  \n",
       "2   COPI_assoc; Golgi apparatus membrane protein T...  \n",
       "3        ANAPC1; Anaphase-promoting complex subunit 1  \n",
       "4       GHMP_kinases_N; GHMP kinase N-terminal domain  \n",
       "5   DNA_pol_B_thumb; DNA polymerase beta, thumb do...  \n",
       "6    Acyltransf_C; Acyltransferase, C-terminal domain  \n",
       "7                         Pex2_Pex12; Pex, N-terminal  \n",
       "8                         Pex2_Pex12; Pex, N-terminal  \n",
       "9           CRAL_TRIO; CRAL-TRIO lipid binding domain  \n",
       "10                                  AIRC; PurE domain  \n",
       "11                                  AIRC; PurE domain  \n",
       "12         Patatin; Patatin-like phospholipase domain  \n",
       "13  HisG; ATP phosphoribosyltransferase, catalytic...  \n",
       "14         Dynein_light; Dynein light chain, type 1/2  \n",
       "15         Dynein_light; Dynein light chain, type 1/2  \n",
       "16    PTPLA; Protein-tyrosine phosphatase-like, PTPLA  \n",
       "17  DNA_pol_A_exo1; 3&apos;-5&apos; exonuclease do...  \n",
       "18  C1_1; Protein kinase C-like, phorbol ester/dia...  \n",
       "19  COG2; Conserved oligomeric Golgi complex, subu...  \n",
       "20                                          Flocculin  \n",
       "21                                          Flocculin  \n",
       "22                FMN_dh; FMN-dependent dehydrogenase  \n",
       "23                FMN_dh; FMN-dependent dehydrogenase  \n",
       "24  Pol_alpha_B_N; DNA polymerase alpha, subunit B...  \n",
       "25  Pol_alpha_B_N; DNA polymerase alpha, subunit B...  \n",
       "26  Glyco_hydro_18; Glycoside hydrolase family 18,...  \n",
       "27  DSHCT; ATP-dependent RNA helicase Ski2, C-term...  \n",
       "28    PAP_central; Poly(A) polymerase, central domain  \n",
       "29    PAP_central; Poly(A) polymerase, central domain  \n",
       "30    PAP_central; Poly(A) polymerase, central domain  \n",
       "31    PAP_central; Poly(A) polymerase, central domain  \n",
       "32  Acyl-CoA_ox_N; Acyl-coenzyme A oxidase, N-term...  \n",
       "33  AAA_8; Dynein heavy chain, P-loop containing D...  \n",
       "34       Autophagy_act_C; Autophagy-related protein 3  \n",
       "35                                     2OG-FeII_Oxy_4  \n",
       "36  DNA_topoisoIV; DNA topoisomerase, type IIA, su...  \n",
       "37  ATP-grasp; ATP-grasp fold, ATP-dependent carbo...  \n",
       "38                       FAD_binding_8; FAD-binding 8  \n",
       "39  Inhibitor_I9; Peptidase S8 propeptide/proteina...  \n",
       "40  Inhibitor_I9; Peptidase S8 propeptide/proteina...  \n",
       "41  CT_A_B; Carboxyltransferase domain, subdomain ...  \n",
       "42  CT_A_B; Carboxyltransferase domain, subdomain ...  \n",
       "43         Ribosom_S12_S23; Ribosomal protein S12/S23  \n",
       "44  NifU; NIF system FeS cluster assembly, NifU, C...  \n",
       "45                                               NMD3  \n",
       "46                         LIM; Zinc finger, LIM-type  \n",
       "47                         LIM; Zinc finger, LIM-type  \n",
       "48      RNA_pol_Rpb2_7; RNA polymerase Rpb2, domain 7  \n",
       "49                    BRE1; E3 ubiquitin ligase, BRE1  \n",
       "50    AA_permease; Amino acid permease/ SLC12A domain  \n",
       "51  AlaDh_PNT_N; Alanine dehydrogenase/pyridine nu...  \n",
       "52  Sin3_corepress; Histone deacetylase interactin...  "
      ]
     },
     "execution_count": 22,
     "metadata": {},
     "output_type": "execute_result"
    }
   ],
   "source": [
    "df_shared_domains=pd.merge(df_sl,df_nsl,how='inner',on='domain-number')\n",
    "domains_name=np.unique(data_domains['domain-name'])\n",
    "domains_description=np.unique(data_domains['domain-descrip'])\n",
    "\n",
    "df_shared_domains['domain-description']=domains_description[df_shared_domains['domain-number']]\n",
    "\n",
    "\n",
    "df_shared_domains"
   ]
  },
  {
   "cell_type": "code",
   "execution_count": 23,
   "metadata": {
    "execution": {
     "iopub.execute_input": "2020-07-14T11:09:59.952237Z",
     "iopub.status.busy": "2020-07-14T11:09:59.951783Z",
     "iopub.status.idle": "2020-07-14T11:09:59.956399Z",
     "shell.execute_reply": "2020-07-14T11:09:59.956938Z"
    }
   },
   "outputs": [
    {
     "name": "stdout",
     "output_type": "stream",
     "text": [
      "The number of shared domains between SL and nSL pairs,after PCA, is =  53 out of 553 so the 9.584086799276673 %\n"
     ]
    }
   ],
   "source": [
    "print('The number of shared domains between SL and nSL pairs,after PCA, is = ',len(df_shared_domains), 'out of', len(df_sl)+len(df_nsl), 'so the',100*len(df_shared_domains)/(len(df_sl)+len(df_nsl)),'%')"
   ]
  },
  {
   "cell_type": "markdown",
   "metadata": {},
   "source": [
    "## Domains exclusive to SL"
   ]
  },
  {
   "cell_type": "code",
   "execution_count": 24,
   "metadata": {
    "execution": {
     "iopub.execute_input": "2020-07-14T11:09:59.959097Z",
     "iopub.status.busy": "2020-07-14T11:09:59.958598Z",
     "iopub.status.idle": "2020-07-14T11:09:59.983439Z",
     "shell.execute_reply": "2020-07-14T11:09:59.983964Z"
    }
   },
   "outputs": [
    {
     "data": {
      "text/html": [
       "<div>\n",
       "<style scoped>\n",
       "    .dataframe tbody tr th:only-of-type {\n",
       "        vertical-align: middle;\n",
       "    }\n",
       "\n",
       "    .dataframe tbody tr th {\n",
       "        vertical-align: top;\n",
       "    }\n",
       "\n",
       "    .dataframe thead th {\n",
       "        text-align: right;\n",
       "    }\n",
       "</style>\n",
       "<table border=\"1\" class=\"dataframe\">\n",
       "  <thead>\n",
       "    <tr style=\"text-align: right;\">\n",
       "      <th></th>\n",
       "      <th>pca-component_x</th>\n",
       "      <th>domain-number</th>\n",
       "      <th>pca-component_y</th>\n",
       "      <th>domain-description</th>\n",
       "    </tr>\n",
       "  </thead>\n",
       "  <tbody>\n",
       "    <tr>\n",
       "      <th>0</th>\n",
       "      <td>PC0</td>\n",
       "      <td>20</td>\n",
       "      <td>NaN</td>\n",
       "      <td>AAA_22; AAA+ ATPase domain</td>\n",
       "    </tr>\n",
       "    <tr>\n",
       "      <th>1</th>\n",
       "      <td>PC1</td>\n",
       "      <td>958</td>\n",
       "      <td>NaN</td>\n",
       "      <td>GATA; Zinc finger, GATA-type</td>\n",
       "    </tr>\n",
       "    <tr>\n",
       "      <th>2</th>\n",
       "      <td>PC2</td>\n",
       "      <td>540</td>\n",
       "      <td>NaN</td>\n",
       "      <td>Cytochrome_B; Cytochrome b/b6, N-terminal</td>\n",
       "    </tr>\n",
       "    <tr>\n",
       "      <th>3</th>\n",
       "      <td>PC3</td>\n",
       "      <td>312</td>\n",
       "      <td>NaN</td>\n",
       "      <td>C2; C2 domain</td>\n",
       "    </tr>\n",
       "    <tr>\n",
       "      <th>4</th>\n",
       "      <td>PC4</td>\n",
       "      <td>89</td>\n",
       "      <td>NaN</td>\n",
       "      <td>ANAPC8; Cdc23</td>\n",
       "    </tr>\n",
       "    <tr>\n",
       "      <th>...</th>\n",
       "      <td>...</td>\n",
       "      <td>...</td>\n",
       "      <td>...</td>\n",
       "      <td>...</td>\n",
       "    </tr>\n",
       "    <tr>\n",
       "      <th>281</th>\n",
       "      <td>PC275</td>\n",
       "      <td>1190</td>\n",
       "      <td>NaN</td>\n",
       "      <td>Hydantoinase_B; Hydantoinase B/oxoprolinase</td>\n",
       "    </tr>\n",
       "    <tr>\n",
       "      <th>284</th>\n",
       "      <td>PC278</td>\n",
       "      <td>499</td>\n",
       "      <td>NaN</td>\n",
       "      <td>Coatomer_g_Cpla; Coatomer subunit gamma, C-ter...</td>\n",
       "    </tr>\n",
       "    <tr>\n",
       "      <th>285</th>\n",
       "      <td>PC279</td>\n",
       "      <td>672</td>\n",
       "      <td>NaN</td>\n",
       "      <td>DUF2370; NEDD4/Bsd2</td>\n",
       "    </tr>\n",
       "    <tr>\n",
       "      <th>286</th>\n",
       "      <td>PC280</td>\n",
       "      <td>2244</td>\n",
       "      <td>NaN</td>\n",
       "      <td>Ribosomal_S6e; Ribosomal protein S6e</td>\n",
       "    </tr>\n",
       "    <tr>\n",
       "      <th>287</th>\n",
       "      <td>PC281</td>\n",
       "      <td>2648</td>\n",
       "      <td>NaN</td>\n",
       "      <td>Tcp11; T-complex 11</td>\n",
       "    </tr>\n",
       "  </tbody>\n",
       "</table>\n",
       "<p>235 rows × 4 columns</p>\n",
       "</div>"
      ],
      "text/plain": [
       "    pca-component_x  domain-number pca-component_y  \\\n",
       "0               PC0             20             NaN   \n",
       "1               PC1            958             NaN   \n",
       "2               PC2            540             NaN   \n",
       "3               PC3            312             NaN   \n",
       "4               PC4             89             NaN   \n",
       "..              ...            ...             ...   \n",
       "281           PC275           1190             NaN   \n",
       "284           PC278            499             NaN   \n",
       "285           PC279            672             NaN   \n",
       "286           PC280           2244             NaN   \n",
       "287           PC281           2648             NaN   \n",
       "\n",
       "                                    domain-description  \n",
       "0                           AAA_22; AAA+ ATPase domain  \n",
       "1                         GATA; Zinc finger, GATA-type  \n",
       "2            Cytochrome_B; Cytochrome b/b6, N-terminal  \n",
       "3                                        C2; C2 domain  \n",
       "4                                        ANAPC8; Cdc23  \n",
       "..                                                 ...  \n",
       "281        Hydantoinase_B; Hydantoinase B/oxoprolinase  \n",
       "284  Coatomer_g_Cpla; Coatomer subunit gamma, C-ter...  \n",
       "285                                DUF2370; NEDD4/Bsd2  \n",
       "286               Ribosomal_S6e; Ribosomal protein S6e  \n",
       "287                                Tcp11; T-complex 11  \n",
       "\n",
       "[235 rows x 4 columns]"
      ]
     },
     "execution_count": 24,
     "metadata": {},
     "output_type": "execute_result"
    }
   ],
   "source": [
    "df_sl_exclusive=pd.merge(df_sl,df_nsl,how='left',on='domain-number')\n",
    "\n",
    "domains_name=np.unique(data_domains['domain-name'])\n",
    "domains_description=np.unique(data_domains['domain-descrip'])\n",
    "\n",
    "df_sl_exclusive['domain-description']=domains_description[df_sl_exclusive['domain-number']]\n",
    "df_sl_exclusive[pd.isnull(df_sl_exclusive['pca-component_y'])]"
   ]
  },
  {
   "cell_type": "code",
   "execution_count": 25,
   "metadata": {
    "execution": {
     "iopub.execute_input": "2020-07-14T11:09:59.987671Z",
     "iopub.status.busy": "2020-07-14T11:09:59.987151Z",
     "iopub.status.idle": "2020-07-14T11:09:59.990138Z",
     "shell.execute_reply": "2020-07-14T11:09:59.990593Z"
    }
   },
   "outputs": [
    {
     "name": "stdout",
     "output_type": "stream",
     "text": [
      "The number of exclusive domains from SL pairs, after PCA, is =  288 out of 553 so the 52.079566003616634 %\n"
     ]
    }
   ],
   "source": [
    "print('The number of exclusive domains from SL pairs, after PCA, is = ',len(df_sl_exclusive), 'out of', len(df_sl)+len(df_nsl), 'so the',100*len(df_sl_exclusive)/(len(df_sl)+len(df_nsl)),'%')"
   ]
  },
  {
   "cell_type": "code",
   "execution_count": 26,
   "metadata": {
    "execution": {
     "iopub.execute_input": "2020-07-14T11:09:59.992570Z",
     "iopub.status.busy": "2020-07-14T11:09:59.992056Z",
     "iopub.status.idle": "2020-07-14T11:10:00.018086Z",
     "shell.execute_reply": "2020-07-14T11:10:00.018584Z"
    }
   },
   "outputs": [
    {
     "data": {
      "text/html": [
       "<div>\n",
       "<style scoped>\n",
       "    .dataframe tbody tr th:only-of-type {\n",
       "        vertical-align: middle;\n",
       "    }\n",
       "\n",
       "    .dataframe tbody tr th {\n",
       "        vertical-align: top;\n",
       "    }\n",
       "\n",
       "    .dataframe thead th {\n",
       "        text-align: right;\n",
       "    }\n",
       "</style>\n",
       "<table border=\"1\" class=\"dataframe\">\n",
       "  <thead>\n",
       "    <tr style=\"text-align: right;\">\n",
       "      <th></th>\n",
       "      <th>pca-component_x</th>\n",
       "      <th>domain-number</th>\n",
       "      <th>pca-component_y</th>\n",
       "      <th>domain-description</th>\n",
       "    </tr>\n",
       "  </thead>\n",
       "  <tbody>\n",
       "    <tr>\n",
       "      <th>53</th>\n",
       "      <td>NaN</td>\n",
       "      <td>1028</td>\n",
       "      <td>PC0</td>\n",
       "      <td>GatB_Yqey; Asn/Gln amidotransferase</td>\n",
       "    </tr>\n",
       "    <tr>\n",
       "      <th>54</th>\n",
       "      <td>NaN</td>\n",
       "      <td>305</td>\n",
       "      <td>PC1</td>\n",
       "      <td>Brr6_like_C_C; Brl1/Brr6 domain</td>\n",
       "    </tr>\n",
       "    <tr>\n",
       "      <th>55</th>\n",
       "      <td>NaN</td>\n",
       "      <td>135</td>\n",
       "      <td>PC2</td>\n",
       "      <td>ATP-synt_ab_Xtn; ATPsynthase alpha/beta subuni...</td>\n",
       "    </tr>\n",
       "    <tr>\n",
       "      <th>56</th>\n",
       "      <td>NaN</td>\n",
       "      <td>1252</td>\n",
       "      <td>PC3</td>\n",
       "      <td>JmjN; JmjN domain</td>\n",
       "    </tr>\n",
       "    <tr>\n",
       "      <th>57</th>\n",
       "      <td>NaN</td>\n",
       "      <td>242</td>\n",
       "      <td>PC4</td>\n",
       "      <td>Atg31; Autophagy-related protein 31</td>\n",
       "    </tr>\n",
       "    <tr>\n",
       "      <th>...</th>\n",
       "      <td>...</td>\n",
       "      <td>...</td>\n",
       "      <td>...</td>\n",
       "      <td>...</td>\n",
       "    </tr>\n",
       "    <tr>\n",
       "      <th>273</th>\n",
       "      <td>NaN</td>\n",
       "      <td>1130</td>\n",
       "      <td>PC263</td>\n",
       "      <td>HORMA; HORMA domain</td>\n",
       "    </tr>\n",
       "    <tr>\n",
       "      <th>274</th>\n",
       "      <td>NaN</td>\n",
       "      <td>2094</td>\n",
       "      <td>PC265</td>\n",
       "      <td>Rad52_Rad22; DNA repair protein Rad52/59/22</td>\n",
       "    </tr>\n",
       "    <tr>\n",
       "      <th>275</th>\n",
       "      <td>NaN</td>\n",
       "      <td>581</td>\n",
       "      <td>PC268</td>\n",
       "      <td>DHC_N2; Dynein heavy chain, domain-2</td>\n",
       "    </tr>\n",
       "    <tr>\n",
       "      <th>276</th>\n",
       "      <td>NaN</td>\n",
       "      <td>122</td>\n",
       "      <td>PC269</td>\n",
       "      <td>ATP-synt_10; ATPase assembly factor ATP10</td>\n",
       "    </tr>\n",
       "    <tr>\n",
       "      <th>277</th>\n",
       "      <td>NaN</td>\n",
       "      <td>122</td>\n",
       "      <td>PC270</td>\n",
       "      <td>ATP-synt_10; ATPase assembly factor ATP10</td>\n",
       "    </tr>\n",
       "  </tbody>\n",
       "</table>\n",
       "<p>225 rows × 4 columns</p>\n",
       "</div>"
      ],
      "text/plain": [
       "    pca-component_x  domain-number pca-component_y  \\\n",
       "53              NaN           1028             PC0   \n",
       "54              NaN            305             PC1   \n",
       "55              NaN            135             PC2   \n",
       "56              NaN           1252             PC3   \n",
       "57              NaN            242             PC4   \n",
       "..              ...            ...             ...   \n",
       "273             NaN           1130           PC263   \n",
       "274             NaN           2094           PC265   \n",
       "275             NaN            581           PC268   \n",
       "276             NaN            122           PC269   \n",
       "277             NaN            122           PC270   \n",
       "\n",
       "                                    domain-description  \n",
       "53                 GatB_Yqey; Asn/Gln amidotransferase  \n",
       "54                     Brr6_like_C_C; Brl1/Brr6 domain  \n",
       "55   ATP-synt_ab_Xtn; ATPsynthase alpha/beta subuni...  \n",
       "56                                   JmjN; JmjN domain  \n",
       "57                 Atg31; Autophagy-related protein 31  \n",
       "..                                                 ...  \n",
       "273                                HORMA; HORMA domain  \n",
       "274        Rad52_Rad22; DNA repair protein Rad52/59/22  \n",
       "275               DHC_N2; Dynein heavy chain, domain-2  \n",
       "276          ATP-synt_10; ATPase assembly factor ATP10  \n",
       "277          ATP-synt_10; ATPase assembly factor ATP10  \n",
       "\n",
       "[225 rows x 4 columns]"
      ]
     },
     "execution_count": 26,
     "metadata": {},
     "output_type": "execute_result"
    }
   ],
   "source": [
    "df_nsl_exclusive=pd.merge(df_sl,df_nsl,how='right',on='domain-number')\n",
    "\n",
    "domains_name=np.unique(data_domains['domain-name'])\n",
    "domains_description=np.unique(data_domains['domain-descrip'])\n",
    "\n",
    "df_nsl_exclusive['domain-description']=domains_description[df_nsl_exclusive['domain-number']]\n",
    "df_nsl_exclusive[pd.isnull(df_nsl_exclusive['pca-component_x'])]"
   ]
  },
  {
   "cell_type": "code",
   "execution_count": 27,
   "metadata": {
    "execution": {
     "iopub.execute_input": "2020-07-14T11:10:00.020840Z",
     "iopub.status.busy": "2020-07-14T11:10:00.020359Z",
     "iopub.status.idle": "2020-07-14T11:10:00.024998Z",
     "shell.execute_reply": "2020-07-14T11:10:00.025492Z"
    }
   },
   "outputs": [
    {
     "name": "stdout",
     "output_type": "stream",
     "text": [
      "The number of exclusive domains from non SL pairs, after PCA, is =  278 out of 553 so the 50.27124773960217 %\n"
     ]
    }
   ],
   "source": [
    "print('The number of exclusive domains from non SL pairs, after PCA, is = ',len(df_nsl_exclusive), 'out of', len(df_sl)+len(df_nsl), 'so the',100*len(df_nsl_exclusive)/(len(df_sl)+len(df_nsl)),'%')"
   ]
  },
  {
   "cell_type": "markdown",
   "metadata": {},
   "source": [
    "## Let see to the domains-number that get repeated after the PCA analysis , and selecting the most explanatory feature by its explained variance."
   ]
  },
  {
   "cell_type": "code",
   "execution_count": 28,
   "metadata": {
    "execution": {
     "iopub.execute_input": "2020-07-14T11:10:00.027640Z",
     "iopub.status.busy": "2020-07-14T11:10:00.027129Z",
     "iopub.status.idle": "2020-07-14T11:10:00.048722Z",
     "shell.execute_reply": "2020-07-14T11:10:00.048298Z"
    }
   },
   "outputs": [],
   "source": [
    "duplicated_features_sl=df_sl[df_sl.iloc[:,1].duplicated()]\n",
    "repeated_features_sl=pd.DataFrame()\n",
    "\n",
    "domains_name=np.unique(data_domains['domain-name'])\n",
    "domains_description=np.unique(data_domains['domain-descrip'])\n",
    "\n",
    "repeated_features_sl['domain-name']=domains_name[duplicated_features_sl.iloc[:,1]] \n",
    "repeated_features_sl['domain-description']=domains_description[duplicated_features_sl.iloc[:,1]]\n",
    "\n",
    "duplicated_features_nsl=df_nsl[df_nsl.iloc[:,1].duplicated()]\n",
    "repeated_features_nsl=pd.DataFrame()\n",
    "\n",
    "repeated_features_nsl['domain-name']=domains_name[duplicated_features_nsl.iloc[:,1]] \n",
    "repeated_features_nsl['domain-description']=domains_description[duplicated_features_nsl.iloc[:,1]]"
   ]
  },
  {
   "cell_type": "code",
   "execution_count": 29,
   "metadata": {
    "execution": {
     "iopub.execute_input": "2020-07-14T11:10:00.057238Z",
     "iopub.status.busy": "2020-07-14T11:10:00.056720Z",
     "iopub.status.idle": "2020-07-14T11:10:00.062048Z",
     "shell.execute_reply": "2020-07-14T11:10:00.062440Z"
    }
   },
   "outputs": [
    {
     "name": "stderr",
     "output_type": "stream",
     "text": [
      "/usr/share/miniconda3/envs/wintest/lib/python3.7/site-packages/ipykernel_launcher.py:3: SettingWithCopyWarning: \n",
      "A value is trying to be set on a copy of a slice from a DataFrame.\n",
      "Try using .loc[row_indexer,col_indexer] = value instead\n",
      "\n",
      "See the caveats in the documentation: https://pandas.pydata.org/pandas-docs/stable/user_guide/indexing.html#returning-a-view-versus-a-copy\n",
      "  This is separate from the ipykernel package so we can avoid doing imports until\n"
     ]
    },
    {
     "data": {
      "text/plain": [
       "((35, 4), (288, 4))"
      ]
     },
     "execution_count": 29,
     "metadata": {},
     "output_type": "execute_result"
    }
   ],
   "source": [
    "only_sl_pd=pd.merge(repeated_features_sl,repeated_features_nsl,how='left',on=['domain-name'])\n",
    "data_only_sl = only_sl_pd[pd.isnull(only_sl_pd['domain-description_y'])]\n",
    "data_only_sl['domain-description']=data_only_sl['domain-description_x']\n",
    "data_only_sl.shape,df_sl_exclusive.shape"
   ]
  },
  {
   "cell_type": "code",
   "execution_count": 30,
   "metadata": {
    "execution": {
     "iopub.execute_input": "2020-07-14T11:10:00.080036Z",
     "iopub.status.busy": "2020-07-14T11:10:00.066851Z",
     "iopub.status.idle": "2020-07-14T11:10:00.082546Z",
     "shell.execute_reply": "2020-07-14T11:10:00.082964Z"
    }
   },
   "outputs": [
    {
     "data": {
      "text/html": [
       "<div>\n",
       "<style scoped>\n",
       "    .dataframe tbody tr th:only-of-type {\n",
       "        vertical-align: middle;\n",
       "    }\n",
       "\n",
       "    .dataframe tbody tr th {\n",
       "        vertical-align: top;\n",
       "    }\n",
       "\n",
       "    .dataframe thead th {\n",
       "        text-align: right;\n",
       "    }\n",
       "</style>\n",
       "<table border=\"1\" class=\"dataframe\">\n",
       "  <thead>\n",
       "    <tr style=\"text-align: right;\">\n",
       "      <th></th>\n",
       "      <th>domain-name</th>\n",
       "      <th>domain-description_x</th>\n",
       "      <th>domain-description_y</th>\n",
       "    </tr>\n",
       "  </thead>\n",
       "  <tbody>\n",
       "    <tr>\n",
       "      <th>1</th>\n",
       "      <td>PF02874</td>\n",
       "      <td>NaN</td>\n",
       "      <td>GLE1; GLE1-like</td>\n",
       "    </tr>\n",
       "    <tr>\n",
       "      <th>2</th>\n",
       "      <td>PF11262</td>\n",
       "      <td>NaN</td>\n",
       "      <td>SPA</td>\n",
       "    </tr>\n",
       "    <tr>\n",
       "      <th>3</th>\n",
       "      <td>PF08423</td>\n",
       "      <td>NaN</td>\n",
       "      <td>Pex2_Pex12; Pex, N-terminal</td>\n",
       "    </tr>\n",
       "    <tr>\n",
       "      <th>4</th>\n",
       "      <td>PF01909</td>\n",
       "      <td>NaN</td>\n",
       "      <td>Dynein_light; Dynein light chain, type 1/2</td>\n",
       "    </tr>\n",
       "    <tr>\n",
       "      <th>5</th>\n",
       "      <td>PF00403</td>\n",
       "      <td>NaN</td>\n",
       "      <td>Amidohydro_1; Amidohydrolase-related</td>\n",
       "    </tr>\n",
       "    <tr>\n",
       "      <th>6</th>\n",
       "      <td>PF00613</td>\n",
       "      <td>NaN</td>\n",
       "      <td>Biotin_carb_C; Biotin carboxylase, C-terminal</td>\n",
       "    </tr>\n",
       "    <tr>\n",
       "      <th>7</th>\n",
       "      <td>PF04095</td>\n",
       "      <td>NaN</td>\n",
       "      <td>KilA-N; KilA, N-terminal/APSES-type HTH, DNA-b...</td>\n",
       "    </tr>\n",
       "    <tr>\n",
       "      <th>8</th>\n",
       "      <td>PF08375</td>\n",
       "      <td>NaN</td>\n",
       "      <td>Pet100; Protein Pet100</td>\n",
       "    </tr>\n",
       "    <tr>\n",
       "      <th>9</th>\n",
       "      <td>PF08457</td>\n",
       "      <td>NaN</td>\n",
       "      <td>Phos_pyr_kin; Pyridoxamine kinase/Phosphomethy...</td>\n",
       "    </tr>\n",
       "    <tr>\n",
       "      <th>10</th>\n",
       "      <td>PF02146</td>\n",
       "      <td>NaN</td>\n",
       "      <td>ETF; Electron transfer flavoprotein, alpha/bet...</td>\n",
       "    </tr>\n",
       "    <tr>\n",
       "      <th>11</th>\n",
       "      <td>PF08226</td>\n",
       "      <td>NaN</td>\n",
       "      <td>Pal1; Pal1 cell morphology</td>\n",
       "    </tr>\n",
       "    <tr>\n",
       "      <th>12</th>\n",
       "      <td>PF05764</td>\n",
       "      <td>NaN</td>\n",
       "      <td>NPR3; Nitrogen permease regulator 3</td>\n",
       "    </tr>\n",
       "    <tr>\n",
       "      <th>13</th>\n",
       "      <td>PF00682</td>\n",
       "      <td>NaN</td>\n",
       "      <td>CDC73_C; Cell division control protein 73, C-t...</td>\n",
       "    </tr>\n",
       "    <tr>\n",
       "      <th>14</th>\n",
       "      <td>PF00638</td>\n",
       "      <td>NaN</td>\n",
       "      <td>CAP; CAP domain</td>\n",
       "    </tr>\n",
       "    <tr>\n",
       "      <th>15</th>\n",
       "      <td>PF11789</td>\n",
       "      <td>NaN</td>\n",
       "      <td>SWIRM; SWIRM domain</td>\n",
       "    </tr>\n",
       "    <tr>\n",
       "      <th>16</th>\n",
       "      <td>PF02205</td>\n",
       "      <td>NaN</td>\n",
       "      <td>Enolase_C; Enolase, C-terminal TIM barrel domain</td>\n",
       "    </tr>\n",
       "    <tr>\n",
       "      <th>17</th>\n",
       "      <td>PF01412</td>\n",
       "      <td>NaN</td>\n",
       "      <td>DNA_pol_alpha_N; DNA polymerase alpha catalyti...</td>\n",
       "    </tr>\n",
       "    <tr>\n",
       "      <th>18</th>\n",
       "      <td>PF00153</td>\n",
       "      <td>NaN</td>\n",
       "      <td>AIRC; PurE domain</td>\n",
       "    </tr>\n",
       "    <tr>\n",
       "      <th>19</th>\n",
       "      <td>PF08585</td>\n",
       "      <td>NaN</td>\n",
       "      <td>QCR10; Cytochrome b-c1 complex subunit 10, fungi</td>\n",
       "    </tr>\n",
       "    <tr>\n",
       "      <th>20</th>\n",
       "      <td>PF04857</td>\n",
       "      <td>NaN</td>\n",
       "      <td>Med16; Mediator complex, subunit Med16</td>\n",
       "    </tr>\n",
       "    <tr>\n",
       "      <th>21</th>\n",
       "      <td>PF04062</td>\n",
       "      <td>NaN</td>\n",
       "      <td>KH_2; K Homology domain, type 2</td>\n",
       "    </tr>\n",
       "    <tr>\n",
       "      <th>22</th>\n",
       "      <td>PF10296</td>\n",
       "      <td>NaN</td>\n",
       "      <td>Ribosomal_S2; Ribosomal protein S2</td>\n",
       "    </tr>\n",
       "    <tr>\n",
       "      <th>23</th>\n",
       "      <td>PF10296</td>\n",
       "      <td>NaN</td>\n",
       "      <td>Ribosomal_S2; Ribosomal protein S2</td>\n",
       "    </tr>\n",
       "    <tr>\n",
       "      <th>24</th>\n",
       "      <td>PF08638</td>\n",
       "      <td>NaN</td>\n",
       "      <td>RNA_lig_T4_1; RNA ligase T4  Rnl1, N-terminal</td>\n",
       "    </tr>\n",
       "    <tr>\n",
       "      <th>25</th>\n",
       "      <td>PF02970</td>\n",
       "      <td>NaN</td>\n",
       "      <td>G_glu_transpept; Gamma-glutamyltranspeptidase</td>\n",
       "    </tr>\n",
       "    <tr>\n",
       "      <th>26</th>\n",
       "      <td>PF00611</td>\n",
       "      <td>NaN</td>\n",
       "      <td>Beta-Casp; Beta-Casp domain</td>\n",
       "    </tr>\n",
       "    <tr>\n",
       "      <th>27</th>\n",
       "      <td>PF00013</td>\n",
       "      <td>NaN</td>\n",
       "      <td>3-HAO; 3-hydroxyanthranilic acid dioxygenase</td>\n",
       "    </tr>\n",
       "    <tr>\n",
       "      <th>28</th>\n",
       "      <td>PF00013</td>\n",
       "      <td>NaN</td>\n",
       "      <td>3-HAO; 3-hydroxyanthranilic acid dioxygenase</td>\n",
       "    </tr>\n",
       "    <tr>\n",
       "      <th>29</th>\n",
       "      <td>PF02666</td>\n",
       "      <td>NaN</td>\n",
       "      <td>Flocculin</td>\n",
       "    </tr>\n",
       "    <tr>\n",
       "      <th>30</th>\n",
       "      <td>PF01090</td>\n",
       "      <td>NaN</td>\n",
       "      <td>Cmc1; Cytochrome c oxidase biogenesis protein ...</td>\n",
       "    </tr>\n",
       "    <tr>\n",
       "      <th>31</th>\n",
       "      <td>PF05739</td>\n",
       "      <td>NaN</td>\n",
       "      <td>NPCC; Nuclear pore complex component</td>\n",
       "    </tr>\n",
       "    <tr>\n",
       "      <th>32</th>\n",
       "      <td>PF08598</td>\n",
       "      <td>NaN</td>\n",
       "      <td>RAI1; RAI1-like</td>\n",
       "    </tr>\n",
       "    <tr>\n",
       "      <th>33</th>\n",
       "      <td>PF03501</td>\n",
       "      <td>NaN</td>\n",
       "      <td>HMGL-like; Pyruvate carboxyltransferase</td>\n",
       "    </tr>\n",
       "    <tr>\n",
       "      <th>34</th>\n",
       "      <td>PF01541</td>\n",
       "      <td>NaN</td>\n",
       "      <td>DUF1899; Domain of unknown function DUF1899</td>\n",
       "    </tr>\n",
       "    <tr>\n",
       "      <th>35</th>\n",
       "      <td>PF01459</td>\n",
       "      <td>NaN</td>\n",
       "      <td>DUF1077; Protein of unknown function DUF1077, ...</td>\n",
       "    </tr>\n",
       "    <tr>\n",
       "      <th>36</th>\n",
       "      <td>PF11704</td>\n",
       "      <td>NaN</td>\n",
       "      <td>SSF; Sodium/solute symporter</td>\n",
       "    </tr>\n",
       "    <tr>\n",
       "      <th>37</th>\n",
       "      <td>PF06026</td>\n",
       "      <td>NaN</td>\n",
       "      <td>Nop14; Nucleolar protein 14</td>\n",
       "    </tr>\n",
       "    <tr>\n",
       "      <th>38</th>\n",
       "      <td>PF01599</td>\n",
       "      <td>NaN</td>\n",
       "      <td>DUF2439; Domain of unknown function DUF2439</td>\n",
       "    </tr>\n",
       "    <tr>\n",
       "      <th>39</th>\n",
       "      <td>PF01599</td>\n",
       "      <td>NaN</td>\n",
       "      <td>DUF2439; Domain of unknown function DUF2439</td>\n",
       "    </tr>\n",
       "    <tr>\n",
       "      <th>40</th>\n",
       "      <td>PF01159</td>\n",
       "      <td>NaN</td>\n",
       "      <td>Csm1; Monopolin complex, subunit Csm1/Pcs1</td>\n",
       "    </tr>\n",
       "    <tr>\n",
       "      <th>41</th>\n",
       "      <td>PF07690</td>\n",
       "      <td>NaN</td>\n",
       "      <td>PHD_2</td>\n",
       "    </tr>\n",
       "    <tr>\n",
       "      <th>42</th>\n",
       "      <td>PF07690</td>\n",
       "      <td>NaN</td>\n",
       "      <td>PHD_2</td>\n",
       "    </tr>\n",
       "    <tr>\n",
       "      <th>43</th>\n",
       "      <td>PF11544</td>\n",
       "      <td>NaN</td>\n",
       "      <td>SRI; SRI, Set2 Rpb1 interacting</td>\n",
       "    </tr>\n",
       "    <tr>\n",
       "      <th>44</th>\n",
       "      <td>PF12719</td>\n",
       "      <td>NaN</td>\n",
       "      <td>Ste5; Scaffold protein Ste5, Fus3-binding domain</td>\n",
       "    </tr>\n",
       "    <tr>\n",
       "      <th>45</th>\n",
       "      <td>PF12719</td>\n",
       "      <td>NaN</td>\n",
       "      <td>Ste5; Scaffold protein Ste5, Fus3-binding domain</td>\n",
       "    </tr>\n",
       "    <tr>\n",
       "      <th>46</th>\n",
       "      <td>PF10680</td>\n",
       "      <td>NaN</td>\n",
       "      <td>SLAC1; Voltage-dependent anion channel</td>\n",
       "    </tr>\n",
       "    <tr>\n",
       "      <th>47</th>\n",
       "      <td>PF12850</td>\n",
       "      <td>NaN</td>\n",
       "      <td>TB2_DP1_HVA22; TB2/DP1/HVA22-related protein</td>\n",
       "    </tr>\n",
       "    <tr>\n",
       "      <th>48</th>\n",
       "      <td>PF02724</td>\n",
       "      <td>NaN</td>\n",
       "      <td>Fmp27_WPPW; FMP27, WPPW  domain</td>\n",
       "    </tr>\n",
       "    <tr>\n",
       "      <th>49</th>\n",
       "      <td>PF04157</td>\n",
       "      <td>NaN</td>\n",
       "      <td>Lactamase_B; Metallo-beta-lactamase</td>\n",
       "    </tr>\n",
       "    <tr>\n",
       "      <th>50</th>\n",
       "      <td>PF00288</td>\n",
       "      <td>NaN</td>\n",
       "      <td>ATP_sub_h; ATP synthase, F0 complex, subunit H</td>\n",
       "    </tr>\n",
       "    <tr>\n",
       "      <th>51</th>\n",
       "      <td>PF00249</td>\n",
       "      <td>NaN</td>\n",
       "      <td>ATP-synt_10; ATPase assembly factor ATP10</td>\n",
       "    </tr>\n",
       "  </tbody>\n",
       "</table>\n",
       "</div>"
      ],
      "text/plain": [
       "   domain-name domain-description_x  \\\n",
       "1      PF02874                  NaN   \n",
       "2      PF11262                  NaN   \n",
       "3      PF08423                  NaN   \n",
       "4      PF01909                  NaN   \n",
       "5      PF00403                  NaN   \n",
       "6      PF00613                  NaN   \n",
       "7      PF04095                  NaN   \n",
       "8      PF08375                  NaN   \n",
       "9      PF08457                  NaN   \n",
       "10     PF02146                  NaN   \n",
       "11     PF08226                  NaN   \n",
       "12     PF05764                  NaN   \n",
       "13     PF00682                  NaN   \n",
       "14     PF00638                  NaN   \n",
       "15     PF11789                  NaN   \n",
       "16     PF02205                  NaN   \n",
       "17     PF01412                  NaN   \n",
       "18     PF00153                  NaN   \n",
       "19     PF08585                  NaN   \n",
       "20     PF04857                  NaN   \n",
       "21     PF04062                  NaN   \n",
       "22     PF10296                  NaN   \n",
       "23     PF10296                  NaN   \n",
       "24     PF08638                  NaN   \n",
       "25     PF02970                  NaN   \n",
       "26     PF00611                  NaN   \n",
       "27     PF00013                  NaN   \n",
       "28     PF00013                  NaN   \n",
       "29     PF02666                  NaN   \n",
       "30     PF01090                  NaN   \n",
       "31     PF05739                  NaN   \n",
       "32     PF08598                  NaN   \n",
       "33     PF03501                  NaN   \n",
       "34     PF01541                  NaN   \n",
       "35     PF01459                  NaN   \n",
       "36     PF11704                  NaN   \n",
       "37     PF06026                  NaN   \n",
       "38     PF01599                  NaN   \n",
       "39     PF01599                  NaN   \n",
       "40     PF01159                  NaN   \n",
       "41     PF07690                  NaN   \n",
       "42     PF07690                  NaN   \n",
       "43     PF11544                  NaN   \n",
       "44     PF12719                  NaN   \n",
       "45     PF12719                  NaN   \n",
       "46     PF10680                  NaN   \n",
       "47     PF12850                  NaN   \n",
       "48     PF02724                  NaN   \n",
       "49     PF04157                  NaN   \n",
       "50     PF00288                  NaN   \n",
       "51     PF00249                  NaN   \n",
       "\n",
       "                                 domain-description_y  \n",
       "1                                     GLE1; GLE1-like  \n",
       "2                                                 SPA  \n",
       "3                         Pex2_Pex12; Pex, N-terminal  \n",
       "4          Dynein_light; Dynein light chain, type 1/2  \n",
       "5                Amidohydro_1; Amidohydrolase-related  \n",
       "6       Biotin_carb_C; Biotin carboxylase, C-terminal  \n",
       "7   KilA-N; KilA, N-terminal/APSES-type HTH, DNA-b...  \n",
       "8                              Pet100; Protein Pet100  \n",
       "9   Phos_pyr_kin; Pyridoxamine kinase/Phosphomethy...  \n",
       "10  ETF; Electron transfer flavoprotein, alpha/bet...  \n",
       "11                         Pal1; Pal1 cell morphology  \n",
       "12                NPR3; Nitrogen permease regulator 3  \n",
       "13  CDC73_C; Cell division control protein 73, C-t...  \n",
       "14                                    CAP; CAP domain  \n",
       "15                                SWIRM; SWIRM domain  \n",
       "16   Enolase_C; Enolase, C-terminal TIM barrel domain  \n",
       "17  DNA_pol_alpha_N; DNA polymerase alpha catalyti...  \n",
       "18                                  AIRC; PurE domain  \n",
       "19   QCR10; Cytochrome b-c1 complex subunit 10, fungi  \n",
       "20             Med16; Mediator complex, subunit Med16  \n",
       "21                    KH_2; K Homology domain, type 2  \n",
       "22                 Ribosomal_S2; Ribosomal protein S2  \n",
       "23                 Ribosomal_S2; Ribosomal protein S2  \n",
       "24      RNA_lig_T4_1; RNA ligase T4  Rnl1, N-terminal  \n",
       "25      G_glu_transpept; Gamma-glutamyltranspeptidase  \n",
       "26                        Beta-Casp; Beta-Casp domain  \n",
       "27       3-HAO; 3-hydroxyanthranilic acid dioxygenase  \n",
       "28       3-HAO; 3-hydroxyanthranilic acid dioxygenase  \n",
       "29                                          Flocculin  \n",
       "30  Cmc1; Cytochrome c oxidase biogenesis protein ...  \n",
       "31               NPCC; Nuclear pore complex component  \n",
       "32                                    RAI1; RAI1-like  \n",
       "33            HMGL-like; Pyruvate carboxyltransferase  \n",
       "34        DUF1899; Domain of unknown function DUF1899  \n",
       "35  DUF1077; Protein of unknown function DUF1077, ...  \n",
       "36                       SSF; Sodium/solute symporter  \n",
       "37                        Nop14; Nucleolar protein 14  \n",
       "38        DUF2439; Domain of unknown function DUF2439  \n",
       "39        DUF2439; Domain of unknown function DUF2439  \n",
       "40         Csm1; Monopolin complex, subunit Csm1/Pcs1  \n",
       "41                                              PHD_2  \n",
       "42                                              PHD_2  \n",
       "43                    SRI; SRI, Set2 Rpb1 interacting  \n",
       "44   Ste5; Scaffold protein Ste5, Fus3-binding domain  \n",
       "45   Ste5; Scaffold protein Ste5, Fus3-binding domain  \n",
       "46             SLAC1; Voltage-dependent anion channel  \n",
       "47       TB2_DP1_HVA22; TB2/DP1/HVA22-related protein  \n",
       "48                    Fmp27_WPPW; FMP27, WPPW  domain  \n",
       "49                Lactamase_B; Metallo-beta-lactamase  \n",
       "50     ATP_sub_h; ATP synthase, F0 complex, subunit H  \n",
       "51          ATP-synt_10; ATPase assembly factor ATP10  "
      ]
     },
     "execution_count": 30,
     "metadata": {},
     "output_type": "execute_result"
    }
   ],
   "source": [
    "only_nsl_pd=pd.merge(repeated_features_sl,repeated_features_nsl,how='right',on=['domain-name'])\n",
    "data_only_nsl = only_nsl_pd[pd.isnull(only_nsl_pd['domain-description_x'])]\n",
    "data_only_nsl"
   ]
  },
  {
   "cell_type": "code",
   "execution_count": 31,
   "metadata": {
    "execution": {
     "iopub.execute_input": "2020-07-14T11:10:00.093595Z",
     "iopub.status.busy": "2020-07-14T11:10:00.093061Z",
     "iopub.status.idle": "2020-07-14T11:10:00.095694Z",
     "shell.execute_reply": "2020-07-14T11:10:00.096107Z"
    }
   },
   "outputs": [
    {
     "data": {
      "text/html": [
       "<div>\n",
       "<style scoped>\n",
       "    .dataframe tbody tr th:only-of-type {\n",
       "        vertical-align: middle;\n",
       "    }\n",
       "\n",
       "    .dataframe tbody tr th {\n",
       "        vertical-align: top;\n",
       "    }\n",
       "\n",
       "    .dataframe thead th {\n",
       "        text-align: right;\n",
       "    }\n",
       "</style>\n",
       "<table border=\"1\" class=\"dataframe\">\n",
       "  <thead>\n",
       "    <tr style=\"text-align: right;\">\n",
       "      <th></th>\n",
       "      <th>domain-name</th>\n",
       "      <th>domain-description_x</th>\n",
       "      <th>domain-description_y</th>\n",
       "    </tr>\n",
       "  </thead>\n",
       "  <tbody>\n",
       "    <tr>\n",
       "      <th>0</th>\n",
       "      <td>PF07064</td>\n",
       "      <td>PAP_central; Poly(A) polymerase, central domain</td>\n",
       "      <td>PAP_central; Poly(A) polymerase, central domain</td>\n",
       "    </tr>\n",
       "  </tbody>\n",
       "</table>\n",
       "</div>"
      ],
      "text/plain": [
       "  domain-name                             domain-description_x  \\\n",
       "0     PF07064  PAP_central; Poly(A) polymerase, central domain   \n",
       "\n",
       "                              domain-description_y  \n",
       "0  PAP_central; Poly(A) polymerase, central domain  "
      ]
     },
     "execution_count": 31,
     "metadata": {},
     "output_type": "execute_result"
    }
   ],
   "source": [
    "shared_domains_pd=pd.merge(repeated_features_sl,repeated_features_nsl,how='inner',on=['domain-name'])\n",
    "shared_domains_pd\n"
   ]
  },
  {
   "cell_type": "code",
   "execution_count": 32,
   "metadata": {
    "execution": {
     "iopub.execute_input": "2020-07-14T11:10:00.106143Z",
     "iopub.status.busy": "2020-07-14T11:10:00.104085Z",
     "iopub.status.idle": "2020-07-14T11:10:01.406387Z",
     "shell.execute_reply": "2020-07-14T11:10:01.407129Z"
    }
   },
   "outputs": [
    {
     "data": {
      "text/plain": [
       "(0.0, 0.2)"
      ]
     },
     "execution_count": 32,
     "metadata": {},
     "output_type": "execute_result"
    },
    {
     "data": {
      "image/png": "[encoded data removed]",
      "text/plain": [
       "<Figure size 432x288 with 1 Axes>"
      ]
     },
     "metadata": {
      "filenames": {
       "image/png": "/home/runner/work/jupyter-book/jupyter-book/mini_book/docs/_build/jupyter_execute/prot_domains2lethality-FEATURES-POSTPROCESSING_47_1.png"
      },
      "needs_background": "light"
     },
     "output_type": "display_data"
    }
   ],
   "source": [
    "a_sl=x_sl.iloc[:,np.sort(df_sl.iloc[:,1])]\n",
    "a_sl.describe().loc['mean'].hist(bins=8),\n",
    "a_sl.describe().loc['std'].hist(bins=8,alpha=0.4)\n",
    "plt.xlim([0,0.2])"
   ]
  },
  {
   "cell_type": "code",
   "execution_count": 33,
   "metadata": {
    "execution": {
     "iopub.execute_input": "2020-07-14T11:10:01.420164Z",
     "iopub.status.busy": "2020-07-14T11:10:01.412035Z",
     "iopub.status.idle": "2020-07-14T11:10:02.710496Z",
     "shell.execute_reply": "2020-07-14T11:10:02.710959Z"
    }
   },
   "outputs": [
    {
     "data": {
      "text/plain": [
       "(0.0, 0.2)"
      ]
     },
     "execution_count": 33,
     "metadata": {},
     "output_type": "execute_result"
    },
    {
     "data": {
      "image/png": "[encoded data removed]",
      "text/plain": [
       "<Figure size 432x288 with 1 Axes>"
      ]
     },
     "metadata": {
      "filenames": {
       "image/png": "/home/runner/work/jupyter-book/jupyter-book/mini_book/docs/_build/jupyter_execute/prot_domains2lethality-FEATURES-POSTPROCESSING_48_1.png"
      },
      "needs_background": "light"
     },
     "output_type": "display_data"
    }
   ],
   "source": [
    "a_nsl=x_nsl.iloc[:,np.sort(df_nsl.iloc[:,1])]\n",
    "a_nsl.describe().loc['mean'].hist(bins=8),\n",
    "a_nsl.describe().loc['std'].hist(bins=8,alpha=0.4)\n",
    "plt.xlim([0,0.2])"
   ]
  },
  {
   "cell_type": "markdown",
   "metadata": {},
   "source": [
    "### Proof of concept with *BEM1*\n",
    "\n",
    "- Gather the domains of SL and nSL pairs from BEM1\n",
    "- Check if the domains for the SL and nSL pairs are inside the most important domains after PCA."
   ]
  },
  {
   "cell_type": "code",
   "execution_count": 34,
   "metadata": {
    "execution": {
     "iopub.execute_input": "2020-07-14T11:10:02.719304Z",
     "iopub.status.busy": "2020-07-14T11:10:02.718152Z",
     "iopub.status.idle": "2020-07-14T11:10:02.719908Z",
     "shell.execute_reply": "2020-07-14T11:10:02.720355Z"
    }
   },
   "outputs": [],
   "source": [
    "domains_bem1=data_domains[data_domains['name']=='BEM1']['domain-descrip']\n",
    "sl_bem1=data_sl[data_sl['gene-query-name']=='BEM1']['gene-target-name']"
   ]
  },
  {
   "cell_type": "code",
   "execution_count": 35,
   "metadata": {
    "execution": {
     "iopub.execute_input": "2020-07-14T11:10:02.725378Z",
     "iopub.status.busy": "2020-07-14T11:10:02.724845Z",
     "iopub.status.idle": "2020-07-14T11:10:02.727280Z",
     "shell.execute_reply": "2020-07-14T11:10:02.727689Z"
    }
   },
   "outputs": [
    {
     "data": {
      "text/plain": [
       "2846      BEM2\n",
       "2847     CDC24\n",
       "5004      MSB1\n",
       "13777     SMI1\n",
       "13778     BNI1\n",
       "13779     BEM2\n",
       "14385     SKN7\n",
       "Name: gene-target-name, dtype: object"
      ]
     },
     "execution_count": 35,
     "metadata": {},
     "output_type": "execute_result"
    }
   ],
   "source": [
    "sl_bem1"
   ]
  },
  {
   "cell_type": "code",
   "execution_count": 36,
   "metadata": {
    "execution": {
     "iopub.execute_input": "2020-07-14T11:10:02.741324Z",
     "iopub.status.busy": "2020-07-14T11:10:02.735399Z",
     "iopub.status.idle": "2020-07-14T11:10:02.743357Z",
     "shell.execute_reply": "2020-07-14T11:10:02.743740Z"
    }
   },
   "outputs": [
    {
     "data": {
      "text/html": [
       "<div>\n",
       "<style scoped>\n",
       "    .dataframe tbody tr th:only-of-type {\n",
       "        vertical-align: middle;\n",
       "    }\n",
       "\n",
       "    .dataframe tbody tr th {\n",
       "        vertical-align: top;\n",
       "    }\n",
       "\n",
       "    .dataframe thead th {\n",
       "        text-align: right;\n",
       "    }\n",
       "</style>\n",
       "<table border=\"1\" class=\"dataframe\">\n",
       "  <thead>\n",
       "    <tr style=\"text-align: right;\">\n",
       "      <th></th>\n",
       "      <th>gene-query</th>\n",
       "      <th>gene-target</th>\n",
       "      <th>gene-query-name</th>\n",
       "      <th>gene-target-name</th>\n",
       "      <th>gene-query-description</th>\n",
       "      <th>gene-target-description</th>\n",
       "      <th>interaction-type</th>\n",
       "      <th>paper-source</th>\n",
       "    </tr>\n",
       "  </thead>\n",
       "  <tbody>\n",
       "    <tr>\n",
       "      <th>2846</th>\n",
       "      <td>YBR200W</td>\n",
       "      <td>YER155C</td>\n",
       "      <td>BEM1</td>\n",
       "      <td>BEM2</td>\n",
       "      <td>SRO1|phosphatidylinositol-3-phosphate-binding ...</td>\n",
       "      <td>IPL2|SUP9|TSL1|L000000168</td>\n",
       "      <td>Synthetic Lethality</td>\n",
       "      <td>Peterson J (1994)</td>\n",
       "    </tr>\n",
       "    <tr>\n",
       "      <th>2847</th>\n",
       "      <td>YBR200W</td>\n",
       "      <td>YAL041W</td>\n",
       "      <td>BEM1</td>\n",
       "      <td>CDC24</td>\n",
       "      <td>SRO1|phosphatidylinositol-3-phosphate-binding ...</td>\n",
       "      <td>CLS4|Rho family guanine nucleotide exchange fa...</td>\n",
       "      <td>Synthetic Lethality</td>\n",
       "      <td>Peterson J (1994)</td>\n",
       "    </tr>\n",
       "    <tr>\n",
       "      <th>5004</th>\n",
       "      <td>YBR200W</td>\n",
       "      <td>YOR188W</td>\n",
       "      <td>BEM1</td>\n",
       "      <td>MSB1</td>\n",
       "      <td>SRO1|phosphatidylinositol-3-phosphate-binding ...</td>\n",
       "      <td>L000001184</td>\n",
       "      <td>Synthetic Lethality</td>\n",
       "      <td>Bender A (1991)</td>\n",
       "    </tr>\n",
       "    <tr>\n",
       "      <th>13777</th>\n",
       "      <td>YBR200W</td>\n",
       "      <td>YGR229C</td>\n",
       "      <td>BEM1</td>\n",
       "      <td>SMI1</td>\n",
       "      <td>SRO1|phosphatidylinositol-3-phosphate-binding ...</td>\n",
       "      <td>KNR4|L000000909</td>\n",
       "      <td>Synthetic Lethality</td>\n",
       "      <td>Gorelik M (2011)</td>\n",
       "    </tr>\n",
       "    <tr>\n",
       "      <th>13778</th>\n",
       "      <td>YBR200W</td>\n",
       "      <td>YNL271C</td>\n",
       "      <td>BEM1</td>\n",
       "      <td>BNI1</td>\n",
       "      <td>SRO1|phosphatidylinositol-3-phosphate-binding ...</td>\n",
       "      <td>PPF3|SHE5|formin BNI1|L000000190</td>\n",
       "      <td>Synthetic Lethality</td>\n",
       "      <td>Gorelik M (2011)</td>\n",
       "    </tr>\n",
       "    <tr>\n",
       "      <th>13779</th>\n",
       "      <td>YBR200W</td>\n",
       "      <td>YER155C</td>\n",
       "      <td>BEM1</td>\n",
       "      <td>BEM2</td>\n",
       "      <td>SRO1|phosphatidylinositol-3-phosphate-binding ...</td>\n",
       "      <td>IPL2|SUP9|TSL1|L000000168</td>\n",
       "      <td>Synthetic Lethality</td>\n",
       "      <td>Gorelik M (2011)</td>\n",
       "    </tr>\n",
       "    <tr>\n",
       "      <th>14385</th>\n",
       "      <td>YBR200W</td>\n",
       "      <td>YHR206W</td>\n",
       "      <td>BEM1</td>\n",
       "      <td>SKN7</td>\n",
       "      <td>SRO1|phosphatidylinositol-3-phosphate-binding ...</td>\n",
       "      <td>BRY1|POS9|kinase-regulated stress-responsive t...</td>\n",
       "      <td>Dosage Lethality</td>\n",
       "      <td>Bouquin N (1999)</td>\n",
       "    </tr>\n",
       "  </tbody>\n",
       "</table>\n",
       "</div>"
      ],
      "text/plain": [
       "      gene-query gene-target gene-query-name gene-target-name  \\\n",
       "2846     YBR200W     YER155C            BEM1             BEM2   \n",
       "2847     YBR200W     YAL041W            BEM1            CDC24   \n",
       "5004     YBR200W     YOR188W            BEM1             MSB1   \n",
       "13777    YBR200W     YGR229C            BEM1             SMI1   \n",
       "13778    YBR200W     YNL271C            BEM1             BNI1   \n",
       "13779    YBR200W     YER155C            BEM1             BEM2   \n",
       "14385    YBR200W     YHR206W            BEM1             SKN7   \n",
       "\n",
       "                                  gene-query-description  \\\n",
       "2846   SRO1|phosphatidylinositol-3-phosphate-binding ...   \n",
       "2847   SRO1|phosphatidylinositol-3-phosphate-binding ...   \n",
       "5004   SRO1|phosphatidylinositol-3-phosphate-binding ...   \n",
       "13777  SRO1|phosphatidylinositol-3-phosphate-binding ...   \n",
       "13778  SRO1|phosphatidylinositol-3-phosphate-binding ...   \n",
       "13779  SRO1|phosphatidylinositol-3-phosphate-binding ...   \n",
       "14385  SRO1|phosphatidylinositol-3-phosphate-binding ...   \n",
       "\n",
       "                                 gene-target-description     interaction-type  \\\n",
       "2846                           IPL2|SUP9|TSL1|L000000168  Synthetic Lethality   \n",
       "2847   CLS4|Rho family guanine nucleotide exchange fa...  Synthetic Lethality   \n",
       "5004                                          L000001184  Synthetic Lethality   \n",
       "13777                                    KNR4|L000000909  Synthetic Lethality   \n",
       "13778                   PPF3|SHE5|formin BNI1|L000000190  Synthetic Lethality   \n",
       "13779                          IPL2|SUP9|TSL1|L000000168  Synthetic Lethality   \n",
       "14385  BRY1|POS9|kinase-regulated stress-responsive t...     Dosage Lethality   \n",
       "\n",
       "            paper-source  \n",
       "2846   Peterson J (1994)  \n",
       "2847   Peterson J (1994)  \n",
       "5004     Bender A (1991)  \n",
       "13777   Gorelik M (2011)  \n",
       "13778   Gorelik M (2011)  \n",
       "13779   Gorelik M (2011)  \n",
       "14385   Bouquin N (1999)  "
      ]
     },
     "execution_count": 36,
     "metadata": {},
     "output_type": "execute_result"
    }
   ],
   "source": [
    "data_sl[data_sl['gene-query-name']=='BEM1']"
   ]
  },
  {
   "cell_type": "code",
   "execution_count": null,
   "metadata": {},
   "outputs": [],
   "source": []
  }
 ],
 "metadata": {
  "jupytext": {
   "text_representation": {
    "extension": ".md",
    "format_name": "myst"
   }
  },
  "kernelspec": {
   "display_name": "Python 3",
   "language": "python",
   "name": "python3"
  },
  "language_info": {
   "codemirror_mode": {
    "name": "ipython",
    "version": 3
   },
   "file_extension": ".py",
   "mimetype": "text/x-python",
   "name": "python",
   "nbconvert_exporter": "python",
   "pygments_lexer": "ipython3",
   "version": "3.7.6"
  },
  "source_map": [
   10,
   18,
   29,
   36,
   57,
   66,
   98,
   101,
   105,
   128,
   131,
   135,
   139,
   145,
   178,
   184,
   188,
   206,
   210,
   218,
   222,
   225,
   229,
   234,
   238,
   244,
   248,
   253,
   257,
   267,
   269,
   273,
   306,
   311,
   313,
   317,
   328,
   330,
   334,
   344,
   348,
   358,
   360,
   364,
   381,
   388,
   394,
   400,
   407,
   412,
   419,
   424,
   428,
   432
  ]
 },
 "nbformat": 4,
 "nbformat_minor": 4
}