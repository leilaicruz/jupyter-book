{
 "cells": [
  {
   "cell_type": "markdown",
   "metadata": {},
   "source": [
    "# Feature postprocessing from paper.\n",
    "- Title:  \"Predicting yeast synthetic lethal genetic interactions using protein domains\"\n",
    "- Authors: Bo Li, Feng Luo,School of Computing,Clemson University,Clemson, SC, USA\n",
    "- e-mail: bol, luofeng@clemson.edu\n",
    "- year:2009"
   ]
  },
  {
   "cell_type": "code",
   "execution_count": 1,
   "metadata": {
    "execution": {
     "iopub.execute_input": "2020-07-24T10:33:49.785219Z",
     "iopub.status.busy": "2020-07-24T10:33:49.784269Z",
     "iopub.status.idle": "2020-07-24T10:33:50.553700Z",
     "shell.execute_reply": "2020-07-24T10:33:50.552787Z"
    }
   },
   "outputs": [],
   "source": [
    "import pandas as pd\n",
    "import numpy as np\n",
    "import matplotlib.pyplot as plt\n",
    "from collections import defaultdict \n",
    "import seaborn as sns\n",
    "import matplotlib.cm as cm\n",
    "import scipy as scipy\n",
    "import random"
   ]
  },
  {
   "cell_type": "markdown",
   "metadata": {
    "jupyter": {
     "source_hidden": true
    }
   },
   "source": [
    "### Importing datasets \n",
    "\n",
    "#### Link to the github repo where the datasets to be downloaded:\n",
    "[DOWNLOAD THE DATASETS HERE](https://github.com/leilaicruz/machine-learning-for-yeast/tree/dev_Leila/datasets-for-learning)"
   ]
  },
  {
   "cell_type": "code",
   "execution_count": 2,
   "metadata": {
    "execution": {
     "iopub.execute_input": "2020-07-24T10:33:50.560262Z",
     "iopub.status.busy": "2020-07-24T10:33:50.559721Z",
     "iopub.status.idle": "2020-07-24T10:33:58.252764Z",
     "shell.execute_reply": "2020-07-24T10:33:58.251511Z"
    }
   },
   "outputs": [],
   "source": [
    "import os\n",
    "script_dir = os.path.dirname('__file__') #<-- absolute dir the script is in\n",
    "rel_path_SL = \"datasets/data-synthetic-lethals.xlsx\"\n",
    "rel_path_nSL=\"datasets/data-positive-genetic.xlsx\"\n",
    "rel_path_domains=\"datasets/proteins-domains-from-Pfam.xlsx\"\n",
    "\n",
    "abs_file_path_SL = os.path.join(script_dir, rel_path_SL)\n",
    "abs_file_path_nSL = os.path.join(script_dir, rel_path_nSL)\n",
    "abs_file_path_domains = os.path.join(script_dir, rel_path_domains)\n",
    "\n",
    "# os.chdir('mini_book/docs/') #<-- for binder os.chdir('../')\n",
    "# os.chdir('../')\n",
    "my_path_sl= abs_file_path_SL\n",
    "my_path_non_sl=abs_file_path_nSL\n",
    "my_path_domains=abs_file_path_domains\n",
    "\n",
    "data_sl=pd.read_excel(my_path_sl,header=0)\n",
    "data_domains=pd.read_excel(my_path_domains,header=0,index_col='Unnamed: 0')\n",
    "data_domains=data_domains.dropna()\n",
    "data_nonsl=pd.read_excel(my_path_non_sl,header=0)"
   ]
  },
  {
   "cell_type": "markdown",
   "metadata": {},
   "source": [
    "## Building the feature matrix\n",
    "One matrix for true SL where each row is one pair of SL. Every raw will be a vector of 0,1 or 2 depending on the comparison with the domain list. For row i the jth element = 0 if the jth element of the domain list is not in neither protein A and B, 1, if it is in one of them and 2 if it is in both of them .\n",
    "\n",
    "### Building the list of proteins domains id per protein pair separately :\n",
    "- List of protein A: Search for the Sl/nSL database the query gene name and look in the protein domain database which protein domains id has each of those queries.\n",
    "- List of protein B: Search for the Sl/nSL database the target gene name of the previous query and look in the protein domain database which protein domains id has each of those target genes."
   ]
  },
  {
   "cell_type": "code",
   "execution_count": 3,
   "metadata": {
    "execution": {
     "iopub.execute_input": "2020-07-24T10:33:58.271743Z",
     "iopub.status.busy": "2020-07-24T10:33:58.271147Z",
     "iopub.status.idle": "2020-07-24T10:34:00.337506Z",
     "shell.execute_reply": "2020-07-24T10:34:00.336758Z"
    }
   },
   "outputs": [],
   "source": [
    "# Selecting the meaningful columns in the respective dataset\n",
    "domain_id_list=data_domains['domain-name']\n",
    "query_gene=data_sl['gene-query-name']\n",
    "target_gene=data_sl['gene-target-name']\n",
    "query_gene_nonlethal=data_nonsl['gene-query-name']\n",
    "target_gene_nonlethal=data_nonsl['gene-target-name']\n",
    "\n",
    "\n",
    "\n",
    "# Initialising the arrays\n",
    "protein_a_list=[]\n",
    "protein_b_list=[]\n",
    "protein_a_list_non=[]\n",
    "protein_b_list_non=[]\n",
    "\n",
    "population = np.arange(0,len(data_sl))\n",
    "\n",
    "# For loop for 10000 pairs sampled randomly from the SL/nSl pair list , and creating a big array of proteind domains id per protein pair\n",
    "\n",
    "for m in random.sample(list(population), 500):\n",
    "    protein_a=data_domains[data_domains['name']==query_gene[m]]\n",
    "    protein_b=data_domains[data_domains['name']==target_gene[m]]\n",
    "    protein_a_list.append(protein_a['domain-name'].tolist())\n",
    "    protein_b_list.append(protein_b['domain-name'].tolist())\n",
    "\n",
    "    protein_a_non=data_domains[data_domains['name']==query_gene_nonlethal[m]]\n",
    "    protein_b_non=data_domains[data_domains['name']==target_gene_nonlethal[m]]\n",
    "    protein_a_list_non.append(protein_a_non['domain-name'].tolist())\n",
    "    protein_b_list_non.append(protein_b_non['domain-name'].tolist())"
   ]
  },
  {
   "cell_type": "code",
   "execution_count": 4,
   "metadata": {
    "execution": {
     "iopub.execute_input": "2020-07-24T10:34:00.343134Z",
     "iopub.status.busy": "2020-07-24T10:34:00.341376Z",
     "iopub.status.idle": "2020-07-24T10:34:00.345965Z",
     "shell.execute_reply": "2020-07-24T10:34:00.346355Z"
    }
   },
   "outputs": [
    {
     "name": "stdout",
     "output_type": "stream",
     "text": [
      "We are going to analyze 500 protein pairs, out of 17871 SL protein pairs\n",
      "We are going to analyze 500 protein pairs, out of 43340 positive protein pairs\n"
     ]
    }
   ],
   "source": [
    "print('We are going to analyze',len((protein_a_list)) ,'protein pairs, out of',len(data_sl),'SL protein pairs')\n",
    "print('We are going to analyze',len((protein_a_list_non)) ,'protein pairs, out of',len(data_nonsl),'positive protein pairs')"
   ]
  },
  {
   "cell_type": "markdown",
   "metadata": {},
   "source": [
    "### Postprocessing #1:  Remove protein pairs from study if either protein in the pair does not contain any domain"
   ]
  },
  {
   "cell_type": "code",
   "execution_count": 5,
   "metadata": {
    "execution": {
     "iopub.execute_input": "2020-07-24T10:34:00.357297Z",
     "iopub.status.busy": "2020-07-24T10:34:00.356012Z",
     "iopub.status.idle": "2020-07-24T10:34:00.357881Z",
     "shell.execute_reply": "2020-07-24T10:34:00.358284Z"
    }
   },
   "outputs": [],
   "source": [
    "def remove_empty_domains(protein_list_search,protein_list_pair):\n",
    "    index=[]\n",
    "    for i in np.arange(0,len(protein_list_search)):\n",
    "        if protein_list_search[i]==[] or protein_list_pair[i]==[]:\n",
    "            index.append(i) ## index of empty values for the protein_a_list meaning they dont have any annotated domain\n",
    "\n",
    "    y=[x for x in np.arange(0,len(protein_list_search)) if x not in index] # a list with non empty values from protein_a list\n",
    "\n",
    "    protein_list_search_new=[]\n",
    "    protein_list_pair_new=[]\n",
    "    for i in y:\n",
    "        protein_list_search_new.append(protein_list_search[i])\n",
    "        protein_list_pair_new.append(protein_list_pair[i])\n",
    "    return protein_list_search_new,protein_list_pair_new\n",
    "\n",
    "## evaluating the function\n",
    "\n",
    "protein_a_list_new,protein_b_list_new=remove_empty_domains(protein_a_list,protein_b_list)\n",
    "\n",
    "protein_a_list_non_new,protein_b_list_non_new=remove_empty_domains(protein_a_list_non,protein_b_list_non)"
   ]
  },
  {
   "cell_type": "code",
   "execution_count": 6,
   "metadata": {
    "execution": {
     "iopub.execute_input": "2020-07-24T10:34:00.364447Z",
     "iopub.status.busy": "2020-07-24T10:34:00.363306Z",
     "iopub.status.idle": "2020-07-24T10:34:00.366130Z",
     "shell.execute_reply": "2020-07-24T10:34:00.365694Z"
    }
   },
   "outputs": [
    {
     "name": "stdout",
     "output_type": "stream",
     "text": [
      "The empty domain in the SL were: 82 out of 500 domains\n",
      "The empty domain in the nSL were: 75 out of 500 domains\n"
     ]
    }
   ],
   "source": [
    "print('The empty domain in the SL were:', len(protein_a_list)-len(protein_a_list_new), 'out of', len(protein_a_list),'domains')\n",
    "print('The empty domain in the nSL were:', len(protein_a_list_non)-len(protein_a_list_non_new), 'out of', len(protein_a_list_non),'domains')"
   ]
  },
  {
   "cell_type": "markdown",
   "metadata": {},
   "source": [
    "### Feature engineering: Select from each ordered indexes of domain id list which of them appear once, in both or in any of the domains of each protein pair"
   ]
  },
  {
   "cell_type": "markdown",
   "metadata": {},
   "source": [
    "#### Define function `get_indexes`"
   ]
  },
  {
   "cell_type": "code",
   "execution_count": 7,
   "metadata": {
    "execution": {
     "iopub.execute_input": "2020-07-24T10:34:00.373101Z",
     "iopub.status.busy": "2020-07-24T10:34:00.372567Z",
     "iopub.status.idle": "2020-07-24T10:34:00.375350Z",
     "shell.execute_reply": "2020-07-24T10:34:00.375794Z"
    }
   },
   "outputs": [
    {
     "data": {
      "text/plain": [
       "[1, 2]"
      ]
     },
     "execution_count": 7,
     "metadata": {},
     "output_type": "execute_result"
    }
   ],
   "source": [
    "get_indexes = lambda x, xs: [i for (y, i) in zip(xs, range(len(xs))) if x == y] # a function that give the index of whether a value appear in array or not\n",
    "a=[1,2,2,4,5,6,7,8,9,10]\n",
    "get_indexes(2,a)"
   ]
  },
  {
   "cell_type": "code",
   "execution_count": 8,
   "metadata": {
    "execution": {
     "iopub.execute_input": "2020-07-24T10:34:00.384276Z",
     "iopub.status.busy": "2020-07-24T10:34:00.383152Z",
     "iopub.status.idle": "2020-07-24T10:34:00.385893Z",
     "shell.execute_reply": "2020-07-24T10:34:00.386284Z"
    }
   },
   "outputs": [],
   "source": [
    "def feature_building(protein_a_list_new,protein_b_list_new):\n",
    "    x = np.unique(domain_id_list)\n",
    "    ## To avoid taking repeated domains from one protein of the pairs , lets reduced the domains of each protein from the pairs to their unique members\n",
    "    protein_a_list_unique=[]\n",
    "    protein_b_list_unique=[]\n",
    "    for i in np.arange(0,len(protein_a_list_new)):\n",
    "        protein_a_list_unique.append(np.unique(protein_a_list_new[i]))\n",
    "        protein_b_list_unique.append(np.unique(protein_b_list_new[i]))\n",
    "        \n",
    "    protein_feat_true=np.zeros(shape=(len(x),len(protein_a_list_unique)))\n",
    "    pair_a_b_array=[]\n",
    "    for i in np.arange(0,len(protein_a_list_unique)):\n",
    "        index_a=[]\n",
    "        \n",
    "        pair=[protein_a_list_unique[i],protein_b_list_unique[i]]\n",
    "        pair_a_b=np.concatenate(pair).ravel()\n",
    "        pair_a_b_array.append(pair_a_b)\n",
    "\n",
    "    j=0\n",
    "    for i in pair_a_b_array:  \n",
    "        array,index,counts=np.unique(i,return_index=True,return_counts=True)\n",
    "        \n",
    "        for k,m in zip(counts,array):\n",
    "            if k ==2:\n",
    "                protein_feat_true[get_indexes(m,x),j]=2\n",
    "                \n",
    "            if k==1:\n",
    "                protein_feat_true[get_indexes(m,x),j]=1\n",
    "        j=j+1\n",
    "    return protein_feat_true"
   ]
  },
  {
   "cell_type": "code",
   "execution_count": 9,
   "metadata": {
    "execution": {
     "iopub.execute_input": "2020-07-24T10:34:00.396648Z",
     "iopub.status.busy": "2020-07-24T10:34:00.396127Z",
     "iopub.status.idle": "2020-07-24T10:34:01.091219Z",
     "shell.execute_reply": "2020-07-24T10:34:01.090045Z"
    }
   },
   "outputs": [],
   "source": [
    "protein_feat_true=feature_building(protein_b_list_new=protein_b_list_new,protein_a_list_new=protein_a_list_new)\n",
    "protein_feat_true_pd=pd.DataFrame(protein_feat_true.T)\n",
    "\n",
    "protein_feat_non_true=feature_building(protein_b_list_new=protein_b_list_non_new,protein_a_list_new=protein_a_list_non_new)\n",
    "protein_feat_non_true_pd=pd.DataFrame(protein_feat_non_true.T)"
   ]
  },
  {
   "cell_type": "markdown",
   "metadata": {},
   "source": [
    "### How many ones and twos are in each dataset"
   ]
  },
  {
   "cell_type": "code",
   "execution_count": 10,
   "metadata": {
    "execution": {
     "iopub.execute_input": "2020-07-24T10:34:01.098743Z",
     "iopub.status.busy": "2020-07-24T10:34:01.097917Z",
     "iopub.status.idle": "2020-07-24T10:34:01.199599Z",
     "shell.execute_reply": "2020-07-24T10:34:01.199160Z"
    }
   },
   "outputs": [
    {
     "name": "stdout",
     "output_type": "stream",
     "text": [
      "fraction of twos in the SL array is 2.7680018980584444e-05\n",
      "fraction of ones in the SL array is 0.0009846178180236466\n",
      "fraction of twos in the PI array is 4.666990763247448e-06\n",
      "fraction of ones in the PI array is 0.0009170636849781235\n"
     ]
    }
   ],
   "source": [
    "index_2_true=protein_feat_true_pd.where(protein_feat_true_pd==2)\n",
    "index_2_true_count=index_2_true.count(axis=1).sum()\n",
    "\n",
    "index_1_true=protein_feat_true_pd.where(protein_feat_true_pd==1)\n",
    "index_1_true_count=index_1_true.count(axis=1).sum()\n",
    "\n",
    "index_2_nontrue=protein_feat_non_true_pd.where(protein_feat_non_true_pd==2)\n",
    "index_2_nontrue_count=index_2_nontrue.count(axis=1).sum()\n",
    "\n",
    "index_1_nontrue=protein_feat_non_true_pd.where(protein_feat_non_true_pd==1)\n",
    "index_1_nontrue_count=index_1_nontrue.count(axis=1).sum()\n",
    "\n",
    "\n",
    "print('fraction of twos in the SL array is',index_2_true_count/(len(protein_feat_true_pd.index)*len(protein_feat_true_pd.columns)))\n",
    "print('fraction of ones in the SL array is',index_1_true_count/(len(protein_feat_true_pd.index)*len(protein_feat_true_pd.columns)))\n",
    "print('fraction of twos in the PI array is',index_2_nontrue_count/(len(protein_feat_non_true_pd.index)*len(protein_feat_non_true_pd.columns)))\n",
    "print('fraction of ones in the PI array is',index_1_nontrue_count/(len(protein_feat_non_true_pd.index)*len(protein_feat_non_true_pd.columns)))"
   ]
  },
  {
   "cell_type": "markdown",
   "metadata": {},
   "source": [
    "#### Bar plot to visualize these numbers"
   ]
  },
  {
   "cell_type": "code",
   "execution_count": 11,
   "metadata": {
    "execution": {
     "iopub.execute_input": "2020-07-24T10:34:01.230327Z",
     "iopub.status.busy": "2020-07-24T10:34:01.218046Z",
     "iopub.status.idle": "2020-07-24T10:34:01.652141Z",
     "shell.execute_reply": "2020-07-24T10:34:01.651655Z"
    }
   },
   "outputs": [
    {
     "data": {
      "text/plain": [
       "([0, 1, 2, 3],\n",
       " [Text(0, 0, ''), Text(0, 0, ''), Text(0, 0, ''), Text(0, 0, '')])"
      ]
     },
     "execution_count": 11,
     "metadata": {},
     "output_type": "execute_result"
    },
    {
     "data": {
      "image/png": "[encoded data removed]",
      "text/plain": [
       "<Figure size 432x288 with 1 Axes>"
      ]
     },
     "metadata": {
      "filenames": {
       "image/png": "/home/runner/work/jupyter-book/jupyter-book/mini_book/docs/_build/jupyter_execute/prot_domains2lethality-FEATURES-POSTPROCESSING_18_1.png"
      },
      "needs_background": "light"
     },
     "output_type": "display_data"
    }
   ],
   "source": [
    "plt.bar(['fraction of 2 in the nSL','fraction of 1 in the nSL'],[index_2_nontrue_count/(len(protein_feat_non_true_pd.index)*len(protein_feat_non_true_pd.columns)),index_1_nontrue_count/(len(protein_feat_non_true_pd.index)*len(protein_feat_non_true_pd.columns))],alpha=0.6,color=['blue','lightblue']), \n",
    "\n",
    "plt.bar(['fraction of 2 in SL ','fraction of 1 in SL'],[index_2_true_count/(len(protein_feat_true_pd.index)*len(protein_feat_true_pd.columns)),index_1_true_count/(len(protein_feat_true_pd.index)*len(protein_feat_true_pd.columns))],alpha=0.6,color=['coral','lightcoral'])\n",
    "\n",
    "plt.ylabel('Fraction from the population')\n",
    "plt.yscale('log')\n",
    "plt.xticks(rotation=40)"
   ]
  },
  {
   "cell_type": "markdown",
   "metadata": {},
   "source": [
    "#### Adding the labels(response variables) to each dataset"
   ]
  },
  {
   "cell_type": "code",
   "execution_count": 12,
   "metadata": {
    "execution": {
     "iopub.execute_input": "2020-07-24T10:34:01.657676Z",
     "iopub.status.busy": "2020-07-24T10:34:01.656674Z",
     "iopub.status.idle": "2020-07-24T10:34:01.660724Z",
     "shell.execute_reply": "2020-07-24T10:34:01.660303Z"
    }
   },
   "outputs": [],
   "source": [
    "protein_feat_true_pd['lethality']=np.ones(shape=(len(protein_a_list_new)))\n",
    "protein_feat_non_true_pd['lethality']=np.zeros(shape=(len(protein_a_list_non_new)))"
   ]
  },
  {
   "cell_type": "markdown",
   "metadata": {},
   "source": [
    "#### Joining both datasets"
   ]
  },
  {
   "cell_type": "code",
   "execution_count": 13,
   "metadata": {
    "execution": {
     "iopub.execute_input": "2020-07-24T10:34:01.665346Z",
     "iopub.status.busy": "2020-07-24T10:34:01.664836Z",
     "iopub.status.idle": "2020-07-24T10:34:01.705020Z",
     "shell.execute_reply": "2020-07-24T10:34:01.704276Z"
    }
   },
   "outputs": [
    {
     "name": "stdout",
     "output_type": "stream",
     "text": [
      "The number of features are: 3026\n",
      "The number of samples are: 843\n"
     ]
    }
   ],
   "source": [
    "feature_post=pd.concat([protein_feat_true_pd,protein_feat_non_true_pd],axis=0)\n",
    "feature_post=feature_post.set_index(np.arange(0,len(protein_a_list_new)+len(protein_a_list_non_new)))\n",
    "print('The number of features are:',feature_post.shape[1])\n",
    "print('The number of samples are:',feature_post.shape[0])"
   ]
  },
  {
   "cell_type": "markdown",
   "metadata": {},
   "source": [
    "### Postprocessing and exploration of the feature matrix of both datasets"
   ]
  },
  {
   "cell_type": "code",
   "execution_count": 14,
   "metadata": {
    "execution": {
     "iopub.execute_input": "2020-07-24T10:34:01.722784Z",
     "iopub.status.busy": "2020-07-24T10:34:01.721637Z",
     "iopub.status.idle": "2020-07-24T10:34:05.784675Z",
     "shell.execute_reply": "2020-07-24T10:34:05.784172Z"
    }
   },
   "outputs": [],
   "source": [
    "mean=feature_post.T.describe().loc['mean']\n",
    "std=feature_post.T.describe().loc['std']\n",
    "lethality=feature_post['lethality']\n",
    "\n",
    "corr_keys=pd.concat([mean,std,lethality],axis=1)"
   ]
  },
  {
   "cell_type": "markdown",
   "metadata": {},
   "source": [
    "### Viz of the stats"
   ]
  },
  {
   "cell_type": "code",
   "execution_count": 15,
   "metadata": {
    "execution": {
     "iopub.execute_input": "2020-07-24T10:34:05.822817Z",
     "iopub.status.busy": "2020-07-24T10:34:05.804416Z",
     "iopub.status.idle": "2020-07-24T10:34:07.138537Z",
     "shell.execute_reply": "2020-07-24T10:34:07.139042Z"
    }
   },
   "outputs": [
    {
     "data": {
      "text/plain": [
       "Text(0.5, 1.08, 'Pairplot to see data dependencies with Lethality')"
      ]
     },
     "execution_count": 15,
     "metadata": {},
     "output_type": "execute_result"
    },
    {
     "data": {
      "image/png": "[encoded data removed]",
      "text/plain": [
       "<Figure size 412x360 with 6 Axes>"
      ]
     },
     "metadata": {
      "filenames": {
       "image/png": "/home/runner/work/jupyter-book/jupyter-book/mini_book/docs/_build/jupyter_execute/prot_domains2lethality-FEATURES-POSTPROCESSING_26_1.png"
      },
      "needs_background": "light"
     },
     "output_type": "display_data"
    }
   ],
   "source": [
    "pair=sns.pairplot(corr_keys,hue='lethality',diag_kind='kde',kind='reg',palette='colorblind')\n",
    "pair.fig.suptitle('Pairplot to see data dependencies with Lethality',y=1.08)"
   ]
  },
  {
   "cell_type": "code",
   "execution_count": 16,
   "metadata": {
    "execution": {
     "iopub.execute_input": "2020-07-24T10:34:07.148990Z",
     "iopub.status.busy": "2020-07-24T10:34:07.148464Z",
     "iopub.status.idle": "2020-07-24T10:34:07.151875Z",
     "shell.execute_reply": "2020-07-24T10:34:07.151394Z"
    }
   },
   "outputs": [],
   "source": [
    "X, y = feature_post.drop(columns=[\"lethality\"]), feature_post[\"lethality\"]"
   ]
  },
  {
   "cell_type": "code",
   "execution_count": 17,
   "metadata": {
    "execution": {
     "iopub.execute_input": "2020-07-24T10:34:07.156613Z",
     "iopub.status.busy": "2020-07-24T10:34:07.155649Z",
     "iopub.status.idle": "2020-07-24T10:34:07.300784Z",
     "shell.execute_reply": "2020-07-24T10:34:07.300307Z"
    }
   },
   "outputs": [],
   "source": [
    "from sklearn.preprocessing import StandardScaler\n",
    "scaler = StandardScaler()\n",
    "x_sl=protein_feat_true_pd.drop(columns=['lethality'])\n",
    "x_nsl=protein_feat_non_true_pd.drop(columns=['lethality'])\n",
    "\n",
    "X_sl_scaled = scaler.fit_transform(x_sl)\n",
    "X_nsl_scaled = scaler.fit_transform(x_nsl)"
   ]
  },
  {
   "cell_type": "code",
   "execution_count": 18,
   "metadata": {
    "execution": {
     "iopub.execute_input": "2020-07-24T10:34:07.305403Z",
     "iopub.status.busy": "2020-07-24T10:34:07.304873Z",
     "iopub.status.idle": "2020-07-24T10:34:07.307358Z",
     "shell.execute_reply": "2020-07-24T10:34:07.307791Z"
    }
   },
   "outputs": [
    {
     "data": {
      "text/plain": [
       "(418, 3025)"
      ]
     },
     "execution_count": 18,
     "metadata": {},
     "output_type": "execute_result"
    }
   ],
   "source": [
    "np.shape(X_sl_scaled)"
   ]
  },
  {
   "cell_type": "markdown",
   "metadata": {},
   "source": [
    "## How redundant are each of the protein domains?"
   ]
  },
  {
   "cell_type": "code",
   "execution_count": 19,
   "metadata": {
    "execution": {
     "iopub.execute_input": "2020-07-24T10:34:07.315710Z",
     "iopub.status.busy": "2020-07-24T10:34:07.315151Z",
     "iopub.status.idle": "2020-07-24T10:34:07.317599Z",
     "shell.execute_reply": "2020-07-24T10:34:07.318021Z"
    }
   },
   "outputs": [],
   "source": [
    "def PCA_component_contribution(scaled_matrix,original_data):\n",
    "    from sklearn.decomposition import PCA\n",
    "\n",
    "    model = PCA(0.95).fit(scaled_matrix)\n",
    "    ## apply dimensionality reduction to X_train\n",
    "    output_pca = model.transform(scaled_matrix)\n",
    "    \n",
    "    total=sum(model.explained_variance_)\n",
    "\n",
    "\n",
    "   \n",
    "    # number of components , that it will be the number of main axes times the number of original components \n",
    "    n_pcs= model.components_.shape[0] # the amount of non redundant protein domains \n",
    "\n",
    "    # get the index of the most important feature on EACH component\n",
    "    # LIST COMPREHENSION HERE\n",
    "    most_important = [np.abs(model.components_[i]).argmax() for i in range(n_pcs)]\n",
    "\n",
    "    initial_feature_names = original_data.columns\n",
    "    # get the names\n",
    "    most_important_names = [initial_feature_names[most_important[i]] for i in range(n_pcs)]\n",
    "    \n",
    "\n",
    "    # LIST COMPREHENSION HERE AGAIN\n",
    "    dic = {'PC{}'.format(i): most_important_names[i] for i in range(n_pcs)}\n",
    "\n",
    "    # build the dataframe\n",
    "    df = pd.DataFrame(dic.items(),columns=['pca-component','domain-number'])\n",
    "\n",
    "    return df,model.components_"
   ]
  },
  {
   "cell_type": "code",
   "execution_count": 20,
   "metadata": {
    "execution": {
     "iopub.execute_input": "2020-07-24T10:34:07.321884Z",
     "iopub.status.busy": "2020-07-24T10:34:07.321383Z",
     "iopub.status.idle": "2020-07-24T10:34:07.934595Z",
     "shell.execute_reply": "2020-07-24T10:34:07.935064Z"
    }
   },
   "outputs": [],
   "source": [
    "df_sl,components_pca_nsl=PCA_component_contribution(X_nsl_scaled,x_nsl)\n",
    "df_nsl,components_pca_sl=PCA_component_contribution(X_sl_scaled,x_sl)"
   ]
  },
  {
   "cell_type": "code",
   "execution_count": 21,
   "metadata": {
    "execution": {
     "iopub.execute_input": "2020-07-24T10:34:07.938222Z",
     "iopub.status.busy": "2020-07-24T10:34:07.937136Z",
     "iopub.status.idle": "2020-07-24T10:34:07.947917Z",
     "shell.execute_reply": "2020-07-24T10:34:07.948650Z"
    }
   },
   "outputs": [
    {
     "data": {
      "text/html": [
       "<div>\n",
       "<style scoped>\n",
       "    .dataframe tbody tr th:only-of-type {\n",
       "        vertical-align: middle;\n",
       "    }\n",
       "\n",
       "    .dataframe tbody tr th {\n",
       "        vertical-align: top;\n",
       "    }\n",
       "\n",
       "    .dataframe thead th {\n",
       "        text-align: right;\n",
       "    }\n",
       "</style>\n",
       "<table border=\"1\" class=\"dataframe\">\n",
       "  <thead>\n",
       "    <tr style=\"text-align: right;\">\n",
       "      <th></th>\n",
       "      <th>pca-component</th>\n",
       "      <th>domain-number</th>\n",
       "    </tr>\n",
       "  </thead>\n",
       "  <tbody>\n",
       "    <tr>\n",
       "      <th>0</th>\n",
       "      <td>PC0</td>\n",
       "      <td>89</td>\n",
       "    </tr>\n",
       "    <tr>\n",
       "      <th>1</th>\n",
       "      <td>PC1</td>\n",
       "      <td>305</td>\n",
       "    </tr>\n",
       "    <tr>\n",
       "      <th>2</th>\n",
       "      <td>PC2</td>\n",
       "      <td>312</td>\n",
       "    </tr>\n",
       "    <tr>\n",
       "      <th>3</th>\n",
       "      <td>PC3</td>\n",
       "      <td>989</td>\n",
       "    </tr>\n",
       "    <tr>\n",
       "      <th>4</th>\n",
       "      <td>PC4</td>\n",
       "      <td>202</td>\n",
       "    </tr>\n",
       "  </tbody>\n",
       "</table>\n",
       "</div>"
      ],
      "text/plain": [
       "  pca-component  domain-number\n",
       "0           PC0             89\n",
       "1           PC1            305\n",
       "2           PC2            312\n",
       "3           PC3            989\n",
       "4           PC4            202"
      ]
     },
     "execution_count": 21,
     "metadata": {},
     "output_type": "execute_result"
    }
   ],
   "source": [
    "df_sl.head()"
   ]
  },
  {
   "cell_type": "markdown",
   "metadata": {},
   "source": [
    "## which are the shared domains between nSL and SL pairs , in the PCA reduced samples"
   ]
  },
  {
   "cell_type": "code",
   "execution_count": 22,
   "metadata": {
    "execution": {
     "iopub.execute_input": "2020-07-24T10:34:07.951809Z",
     "iopub.status.busy": "2020-07-24T10:34:07.950770Z",
     "iopub.status.idle": "2020-07-24T10:34:07.984610Z",
     "shell.execute_reply": "2020-07-24T10:34:07.985341Z"
    }
   },
   "outputs": [
    {
     "data": {
      "text/html": [
       "<div>\n",
       "<style scoped>\n",
       "    .dataframe tbody tr th:only-of-type {\n",
       "        vertical-align: middle;\n",
       "    }\n",
       "\n",
       "    .dataframe tbody tr th {\n",
       "        vertical-align: top;\n",
       "    }\n",
       "\n",
       "    .dataframe thead th {\n",
       "        text-align: right;\n",
       "    }\n",
       "</style>\n",
       "<table border=\"1\" class=\"dataframe\">\n",
       "  <thead>\n",
       "    <tr style=\"text-align: right;\">\n",
       "      <th></th>\n",
       "      <th>pca-component_x</th>\n",
       "      <th>domain-number</th>\n",
       "      <th>pca-component_y</th>\n",
       "      <th>domain-description</th>\n",
       "    </tr>\n",
       "  </thead>\n",
       "  <tbody>\n",
       "    <tr>\n",
       "      <th>0</th>\n",
       "      <td>PC1</td>\n",
       "      <td>305</td>\n",
       "      <td>PC1</td>\n",
       "      <td>Brr6_like_C_C; Brl1/Brr6 domain</td>\n",
       "    </tr>\n",
       "    <tr>\n",
       "      <th>1</th>\n",
       "      <td>PC9</td>\n",
       "      <td>303</td>\n",
       "      <td>PC10</td>\n",
       "      <td>Bromo_TP; Bromodomain associated domain</td>\n",
       "    </tr>\n",
       "    <tr>\n",
       "      <th>2</th>\n",
       "      <td>PC28</td>\n",
       "      <td>69</td>\n",
       "      <td>PC242</td>\n",
       "      <td>AIRS; PurM-like, N-terminal domain</td>\n",
       "    </tr>\n",
       "    <tr>\n",
       "      <th>3</th>\n",
       "      <td>PC35</td>\n",
       "      <td>926</td>\n",
       "      <td>PC30</td>\n",
       "      <td>Flp_C; Recombinase Flp protein</td>\n",
       "    </tr>\n",
       "    <tr>\n",
       "      <th>4</th>\n",
       "      <td>PC36</td>\n",
       "      <td>346</td>\n",
       "      <td>PC109</td>\n",
       "      <td>CENP-S; CENP-S/Mhf1</td>\n",
       "    </tr>\n",
       "    <tr>\n",
       "      <th>5</th>\n",
       "      <td>PC43</td>\n",
       "      <td>175</td>\n",
       "      <td>PC158</td>\n",
       "      <td>Afi1; Arf3-interacting protein 1, N-terminal d...</td>\n",
       "    </tr>\n",
       "    <tr>\n",
       "      <th>6</th>\n",
       "      <td>PC60</td>\n",
       "      <td>381</td>\n",
       "      <td>PC84</td>\n",
       "      <td>COP-gamma_platf; Coatomer, gamma subunit, appe...</td>\n",
       "    </tr>\n",
       "    <tr>\n",
       "      <th>7</th>\n",
       "      <td>PC68</td>\n",
       "      <td>773</td>\n",
       "      <td>PC40</td>\n",
       "      <td>Dynein_light; Dynein light chain, type 1/2</td>\n",
       "    </tr>\n",
       "    <tr>\n",
       "      <th>8</th>\n",
       "      <td>PC68</td>\n",
       "      <td>773</td>\n",
       "      <td>PC41</td>\n",
       "      <td>Dynein_light; Dynein light chain, type 1/2</td>\n",
       "    </tr>\n",
       "    <tr>\n",
       "      <th>9</th>\n",
       "      <td>PC69</td>\n",
       "      <td>28</td>\n",
       "      <td>PC42</td>\n",
       "      <td>AAA_9</td>\n",
       "    </tr>\n",
       "    <tr>\n",
       "      <th>10</th>\n",
       "      <td>PC71</td>\n",
       "      <td>1859</td>\n",
       "      <td>PC118</td>\n",
       "      <td>Pcc1; CTAG/Pcc1 family</td>\n",
       "    </tr>\n",
       "    <tr>\n",
       "      <th>11</th>\n",
       "      <td>PC86</td>\n",
       "      <td>1054</td>\n",
       "      <td>PC61</td>\n",
       "      <td>Glyco_hydro_63; Glycosyl hydrolase family 63, ...</td>\n",
       "    </tr>\n",
       "    <tr>\n",
       "      <th>12</th>\n",
       "      <td>PC90</td>\n",
       "      <td>876</td>\n",
       "      <td>PC56</td>\n",
       "      <td>FDX-ACB; Ferrodoxin-fold anticodon-binding domain</td>\n",
       "    </tr>\n",
       "    <tr>\n",
       "      <th>13</th>\n",
       "      <td>PC92</td>\n",
       "      <td>652</td>\n",
       "      <td>PC131</td>\n",
       "      <td>DUF1720; Domain of unknown function DUF1720</td>\n",
       "    </tr>\n",
       "    <tr>\n",
       "      <th>14</th>\n",
       "      <td>PC93</td>\n",
       "      <td>453</td>\n",
       "      <td>PC72</td>\n",
       "      <td>Cdc6_C; Cdc6, C-terminal</td>\n",
       "    </tr>\n",
       "    <tr>\n",
       "      <th>15</th>\n",
       "      <td>PC117</td>\n",
       "      <td>745</td>\n",
       "      <td>PC247</td>\n",
       "      <td>DUP; Yeast membrane protein DUP/COS</td>\n",
       "    </tr>\n",
       "    <tr>\n",
       "      <th>16</th>\n",
       "      <td>PC121</td>\n",
       "      <td>745</td>\n",
       "      <td>PC247</td>\n",
       "      <td>DUP; Yeast membrane protein DUP/COS</td>\n",
       "    </tr>\n",
       "    <tr>\n",
       "      <th>17</th>\n",
       "      <td>PC127</td>\n",
       "      <td>1325</td>\n",
       "      <td>PC272</td>\n",
       "      <td>Lgl_C; Lethal giant larvae (Lgl)-like, C-termi...</td>\n",
       "    </tr>\n",
       "    <tr>\n",
       "      <th>18</th>\n",
       "      <td>PC131</td>\n",
       "      <td>861</td>\n",
       "      <td>PC145</td>\n",
       "      <td>FAD-oxidase_C; FAD-linked oxidase, C-terminal</td>\n",
       "    </tr>\n",
       "    <tr>\n",
       "      <th>19</th>\n",
       "      <td>PC132</td>\n",
       "      <td>769</td>\n",
       "      <td>PC157</td>\n",
       "      <td>Dynamin_M; Dynamin central domain</td>\n",
       "    </tr>\n",
       "    <tr>\n",
       "      <th>20</th>\n",
       "      <td>PC139</td>\n",
       "      <td>1189</td>\n",
       "      <td>PC97</td>\n",
       "      <td>Hydantoinase_A; Hydantoinase/oxoprolinase</td>\n",
       "    </tr>\n",
       "    <tr>\n",
       "      <th>21</th>\n",
       "      <td>PC140</td>\n",
       "      <td>1025</td>\n",
       "      <td>PC83</td>\n",
       "      <td>Gal_mutarotas_2; Glycoside hydrolase family 31...</td>\n",
       "    </tr>\n",
       "    <tr>\n",
       "      <th>22</th>\n",
       "      <td>PC140</td>\n",
       "      <td>1025</td>\n",
       "      <td>PC86</td>\n",
       "      <td>Gal_mutarotas_2; Glycoside hydrolase family 31...</td>\n",
       "    </tr>\n",
       "    <tr>\n",
       "      <th>23</th>\n",
       "      <td>PC145</td>\n",
       "      <td>1025</td>\n",
       "      <td>PC83</td>\n",
       "      <td>Gal_mutarotas_2; Glycoside hydrolase family 31...</td>\n",
       "    </tr>\n",
       "    <tr>\n",
       "      <th>24</th>\n",
       "      <td>PC145</td>\n",
       "      <td>1025</td>\n",
       "      <td>PC86</td>\n",
       "      <td>Gal_mutarotas_2; Glycoside hydrolase family 31...</td>\n",
       "    </tr>\n",
       "    <tr>\n",
       "      <th>25</th>\n",
       "      <td>PC141</td>\n",
       "      <td>2107</td>\n",
       "      <td>PC154</td>\n",
       "      <td>RasGAP; Ras GTPase-activating protein</td>\n",
       "    </tr>\n",
       "    <tr>\n",
       "      <th>26</th>\n",
       "      <td>PC144</td>\n",
       "      <td>2551</td>\n",
       "      <td>PC174</td>\n",
       "      <td>TAF4; Transcription initiation factor TFIID co...</td>\n",
       "    </tr>\n",
       "    <tr>\n",
       "      <th>27</th>\n",
       "      <td>PC149</td>\n",
       "      <td>1969</td>\n",
       "      <td>PC190</td>\n",
       "      <td>RAI1; RAI1-like</td>\n",
       "    </tr>\n",
       "    <tr>\n",
       "      <th>28</th>\n",
       "      <td>PC149</td>\n",
       "      <td>1969</td>\n",
       "      <td>PC192</td>\n",
       "      <td>RAI1; RAI1-like</td>\n",
       "    </tr>\n",
       "    <tr>\n",
       "      <th>29</th>\n",
       "      <td>PC156</td>\n",
       "      <td>1571</td>\n",
       "      <td>PC159</td>\n",
       "      <td>NMT1; SsuA/THI5-like</td>\n",
       "    </tr>\n",
       "    <tr>\n",
       "      <th>30</th>\n",
       "      <td>PC167</td>\n",
       "      <td>407</td>\n",
       "      <td>PC162</td>\n",
       "      <td>CPSase_L_D2; Carbamoyl-phosphate synthetase la...</td>\n",
       "    </tr>\n",
       "    <tr>\n",
       "      <th>31</th>\n",
       "      <td>PC168</td>\n",
       "      <td>407</td>\n",
       "      <td>PC162</td>\n",
       "      <td>CPSase_L_D2; Carbamoyl-phosphate synthetase la...</td>\n",
       "    </tr>\n",
       "    <tr>\n",
       "      <th>32</th>\n",
       "      <td>PC170</td>\n",
       "      <td>2244</td>\n",
       "      <td>PC182</td>\n",
       "      <td>Ribosomal_S6e; Ribosomal protein S6e</td>\n",
       "    </tr>\n",
       "    <tr>\n",
       "      <th>33</th>\n",
       "      <td>PC171</td>\n",
       "      <td>30</td>\n",
       "      <td>PC68</td>\n",
       "      <td>AAR2; A1 cistron-splicing factor, AAR2</td>\n",
       "    </tr>\n",
       "    <tr>\n",
       "      <th>34</th>\n",
       "      <td>PC173</td>\n",
       "      <td>778</td>\n",
       "      <td>PC142</td>\n",
       "      <td>E1_UFD; Ubiquitin-activating enzyme E1, C-term...</td>\n",
       "    </tr>\n",
       "    <tr>\n",
       "      <th>35</th>\n",
       "      <td>PC175</td>\n",
       "      <td>778</td>\n",
       "      <td>PC142</td>\n",
       "      <td>E1_UFD; Ubiquitin-activating enzyme E1, C-term...</td>\n",
       "    </tr>\n",
       "    <tr>\n",
       "      <th>36</th>\n",
       "      <td>PC186</td>\n",
       "      <td>1103</td>\n",
       "      <td>PC167</td>\n",
       "      <td>HDA2-3; HDA1 complex subunit 2/3</td>\n",
       "    </tr>\n",
       "    <tr>\n",
       "      <th>37</th>\n",
       "      <td>PC186</td>\n",
       "      <td>1103</td>\n",
       "      <td>PC176</td>\n",
       "      <td>HDA2-3; HDA1 complex subunit 2/3</td>\n",
       "    </tr>\n",
       "    <tr>\n",
       "      <th>38</th>\n",
       "      <td>PC187</td>\n",
       "      <td>1103</td>\n",
       "      <td>PC167</td>\n",
       "      <td>HDA2-3; HDA1 complex subunit 2/3</td>\n",
       "    </tr>\n",
       "    <tr>\n",
       "      <th>39</th>\n",
       "      <td>PC187</td>\n",
       "      <td>1103</td>\n",
       "      <td>PC176</td>\n",
       "      <td>HDA2-3; HDA1 complex subunit 2/3</td>\n",
       "    </tr>\n",
       "    <tr>\n",
       "      <th>40</th>\n",
       "      <td>PC197</td>\n",
       "      <td>1347</td>\n",
       "      <td>PC209</td>\n",
       "      <td>MAM33; Mitochondrial glycoprotein</td>\n",
       "    </tr>\n",
       "    <tr>\n",
       "      <th>41</th>\n",
       "      <td>PC203</td>\n",
       "      <td>11</td>\n",
       "      <td>PC270</td>\n",
       "      <td>5-FTHF_cyc-lig; 5-formyltetrahydrofolate cyclo...</td>\n",
       "    </tr>\n",
       "    <tr>\n",
       "      <th>42</th>\n",
       "      <td>PC207</td>\n",
       "      <td>2286</td>\n",
       "      <td>PC255</td>\n",
       "      <td>SAGA-Tad1; Transcriptional coactivator Hfi1/Tr...</td>\n",
       "    </tr>\n",
       "    <tr>\n",
       "      <th>43</th>\n",
       "      <td>PC211</td>\n",
       "      <td>2598</td>\n",
       "      <td>PC13</td>\n",
       "      <td>TIM; Triosephosphate isomerase</td>\n",
       "    </tr>\n",
       "    <tr>\n",
       "      <th>44</th>\n",
       "      <td>PC213</td>\n",
       "      <td>331</td>\n",
       "      <td>PC57</td>\n",
       "      <td>CDC24; Cdc24/Scd1, N-terminal</td>\n",
       "    </tr>\n",
       "    <tr>\n",
       "      <th>45</th>\n",
       "      <td>PC214</td>\n",
       "      <td>38</td>\n",
       "      <td>PC198</td>\n",
       "      <td>ABC2_membrane; ABC-2 type transporter</td>\n",
       "    </tr>\n",
       "    <tr>\n",
       "      <th>46</th>\n",
       "      <td>PC278</td>\n",
       "      <td>38</td>\n",
       "      <td>PC198</td>\n",
       "      <td>ABC2_membrane; ABC-2 type transporter</td>\n",
       "    </tr>\n",
       "    <tr>\n",
       "      <th>47</th>\n",
       "      <td>PC223</td>\n",
       "      <td>1065</td>\n",
       "      <td>PC229</td>\n",
       "      <td>Glyco_transf_28; Glycosyltransferase family 28...</td>\n",
       "    </tr>\n",
       "    <tr>\n",
       "      <th>48</th>\n",
       "      <td>PC227</td>\n",
       "      <td>310</td>\n",
       "      <td>PC205</td>\n",
       "      <td>C1_1; Protein kinase C-like, phorbol ester/dia...</td>\n",
       "    </tr>\n",
       "    <tr>\n",
       "      <th>49</th>\n",
       "      <td>PC231</td>\n",
       "      <td>2438</td>\n",
       "      <td>PC126</td>\n",
       "      <td>Sec20</td>\n",
       "    </tr>\n",
       "    <tr>\n",
       "      <th>50</th>\n",
       "      <td>PC231</td>\n",
       "      <td>2438</td>\n",
       "      <td>PC128</td>\n",
       "      <td>Sec20</td>\n",
       "    </tr>\n",
       "    <tr>\n",
       "      <th>51</th>\n",
       "      <td>PC234</td>\n",
       "      <td>1046</td>\n",
       "      <td>PC173</td>\n",
       "      <td>Glyco_hydro_18; Glycoside hydrolase family 18,...</td>\n",
       "    </tr>\n",
       "    <tr>\n",
       "      <th>52</th>\n",
       "      <td>PC241</td>\n",
       "      <td>2651</td>\n",
       "      <td>PC119</td>\n",
       "      <td>Telomere_reg-2; Telomere length regulation pro...</td>\n",
       "    </tr>\n",
       "    <tr>\n",
       "      <th>53</th>\n",
       "      <td>PC249</td>\n",
       "      <td>1232</td>\n",
       "      <td>PC266</td>\n",
       "      <td>Inhibitor_I34; Protease A inhibitor IA3</td>\n",
       "    </tr>\n",
       "    <tr>\n",
       "      <th>54</th>\n",
       "      <td>PC251</td>\n",
       "      <td>1294</td>\n",
       "      <td>PC54</td>\n",
       "      <td>LIAS_N; Lipoyl synthase, N-terminal</td>\n",
       "    </tr>\n",
       "    <tr>\n",
       "      <th>55</th>\n",
       "      <td>PC251</td>\n",
       "      <td>1294</td>\n",
       "      <td>PC55</td>\n",
       "      <td>LIAS_N; Lipoyl synthase, N-terminal</td>\n",
       "    </tr>\n",
       "    <tr>\n",
       "      <th>56</th>\n",
       "      <td>PC265</td>\n",
       "      <td>583</td>\n",
       "      <td>PC113</td>\n",
       "      <td>DHH; DDH domain</td>\n",
       "    </tr>\n",
       "    <tr>\n",
       "      <th>57</th>\n",
       "      <td>PC287</td>\n",
       "      <td>549</td>\n",
       "      <td>PC202</td>\n",
       "      <td>DAO; FAD dependent oxidoreductase</td>\n",
       "    </tr>\n",
       "  </tbody>\n",
       "</table>\n",
       "</div>"
      ],
      "text/plain": [
       "   pca-component_x  domain-number pca-component_y  \\\n",
       "0              PC1            305             PC1   \n",
       "1              PC9            303            PC10   \n",
       "2             PC28             69           PC242   \n",
       "3             PC35            926            PC30   \n",
       "4             PC36            346           PC109   \n",
       "5             PC43            175           PC158   \n",
       "6             PC60            381            PC84   \n",
       "7             PC68            773            PC40   \n",
       "8             PC68            773            PC41   \n",
       "9             PC69             28            PC42   \n",
       "10            PC71           1859           PC118   \n",
       "11            PC86           1054            PC61   \n",
       "12            PC90            876            PC56   \n",
       "13            PC92            652           PC131   \n",
       "14            PC93            453            PC72   \n",
       "15           PC117            745           PC247   \n",
       "16           PC121            745           PC247   \n",
       "17           PC127           1325           PC272   \n",
       "18           PC131            861           PC145   \n",
       "19           PC132            769           PC157   \n",
       "20           PC139           1189            PC97   \n",
       "21           PC140           1025            PC83   \n",
       "22           PC140           1025            PC86   \n",
       "23           PC145           1025            PC83   \n",
       "24           PC145           1025            PC86   \n",
       "25           PC141           2107           PC154   \n",
       "26           PC144           2551           PC174   \n",
       "27           PC149           1969           PC190   \n",
       "28           PC149           1969           PC192   \n",
       "29           PC156           1571           PC159   \n",
       "30           PC167            407           PC162   \n",
       "31           PC168            407           PC162   \n",
       "32           PC170           2244           PC182   \n",
       "33           PC171             30            PC68   \n",
       "34           PC173            778           PC142   \n",
       "35           PC175            778           PC142   \n",
       "36           PC186           1103           PC167   \n",
       "37           PC186           1103           PC176   \n",
       "38           PC187           1103           PC167   \n",
       "39           PC187           1103           PC176   \n",
       "40           PC197           1347           PC209   \n",
       "41           PC203             11           PC270   \n",
       "42           PC207           2286           PC255   \n",
       "43           PC211           2598            PC13   \n",
       "44           PC213            331            PC57   \n",
       "45           PC214             38           PC198   \n",
       "46           PC278             38           PC198   \n",
       "47           PC223           1065           PC229   \n",
       "48           PC227            310           PC205   \n",
       "49           PC231           2438           PC126   \n",
       "50           PC231           2438           PC128   \n",
       "51           PC234           1046           PC173   \n",
       "52           PC241           2651           PC119   \n",
       "53           PC249           1232           PC266   \n",
       "54           PC251           1294            PC54   \n",
       "55           PC251           1294            PC55   \n",
       "56           PC265            583           PC113   \n",
       "57           PC287            549           PC202   \n",
       "\n",
       "                                   domain-description  \n",
       "0                     Brr6_like_C_C; Brl1/Brr6 domain  \n",
       "1             Bromo_TP; Bromodomain associated domain  \n",
       "2                  AIRS; PurM-like, N-terminal domain  \n",
       "3                      Flp_C; Recombinase Flp protein  \n",
       "4                                 CENP-S; CENP-S/Mhf1  \n",
       "5   Afi1; Arf3-interacting protein 1, N-terminal d...  \n",
       "6   COP-gamma_platf; Coatomer, gamma subunit, appe...  \n",
       "7          Dynein_light; Dynein light chain, type 1/2  \n",
       "8          Dynein_light; Dynein light chain, type 1/2  \n",
       "9                                               AAA_9  \n",
       "10                             Pcc1; CTAG/Pcc1 family  \n",
       "11  Glyco_hydro_63; Glycosyl hydrolase family 63, ...  \n",
       "12  FDX-ACB; Ferrodoxin-fold anticodon-binding domain  \n",
       "13        DUF1720; Domain of unknown function DUF1720  \n",
       "14                           Cdc6_C; Cdc6, C-terminal  \n",
       "15                DUP; Yeast membrane protein DUP/COS  \n",
       "16                DUP; Yeast membrane protein DUP/COS  \n",
       "17  Lgl_C; Lethal giant larvae (Lgl)-like, C-termi...  \n",
       "18      FAD-oxidase_C; FAD-linked oxidase, C-terminal  \n",
       "19                  Dynamin_M; Dynamin central domain  \n",
       "20          Hydantoinase_A; Hydantoinase/oxoprolinase  \n",
       "21  Gal_mutarotas_2; Glycoside hydrolase family 31...  \n",
       "22  Gal_mutarotas_2; Glycoside hydrolase family 31...  \n",
       "23  Gal_mutarotas_2; Glycoside hydrolase family 31...  \n",
       "24  Gal_mutarotas_2; Glycoside hydrolase family 31...  \n",
       "25              RasGAP; Ras GTPase-activating protein  \n",
       "26  TAF4; Transcription initiation factor TFIID co...  \n",
       "27                                    RAI1; RAI1-like  \n",
       "28                                    RAI1; RAI1-like  \n",
       "29                               NMT1; SsuA/THI5-like  \n",
       "30  CPSase_L_D2; Carbamoyl-phosphate synthetase la...  \n",
       "31  CPSase_L_D2; Carbamoyl-phosphate synthetase la...  \n",
       "32               Ribosomal_S6e; Ribosomal protein S6e  \n",
       "33             AAR2; A1 cistron-splicing factor, AAR2  \n",
       "34  E1_UFD; Ubiquitin-activating enzyme E1, C-term...  \n",
       "35  E1_UFD; Ubiquitin-activating enzyme E1, C-term...  \n",
       "36                   HDA2-3; HDA1 complex subunit 2/3  \n",
       "37                   HDA2-3; HDA1 complex subunit 2/3  \n",
       "38                   HDA2-3; HDA1 complex subunit 2/3  \n",
       "39                   HDA2-3; HDA1 complex subunit 2/3  \n",
       "40                  MAM33; Mitochondrial glycoprotein  \n",
       "41  5-FTHF_cyc-lig; 5-formyltetrahydrofolate cyclo...  \n",
       "42  SAGA-Tad1; Transcriptional coactivator Hfi1/Tr...  \n",
       "43                     TIM; Triosephosphate isomerase  \n",
       "44                      CDC24; Cdc24/Scd1, N-terminal  \n",
       "45              ABC2_membrane; ABC-2 type transporter  \n",
       "46              ABC2_membrane; ABC-2 type transporter  \n",
       "47  Glyco_transf_28; Glycosyltransferase family 28...  \n",
       "48  C1_1; Protein kinase C-like, phorbol ester/dia...  \n",
       "49                                              Sec20  \n",
       "50                                              Sec20  \n",
       "51  Glyco_hydro_18; Glycoside hydrolase family 18,...  \n",
       "52  Telomere_reg-2; Telomere length regulation pro...  \n",
       "53            Inhibitor_I34; Protease A inhibitor IA3  \n",
       "54                LIAS_N; Lipoyl synthase, N-terminal  \n",
       "55                LIAS_N; Lipoyl synthase, N-terminal  \n",
       "56                                    DHH; DDH domain  \n",
       "57                  DAO; FAD dependent oxidoreductase  "
      ]
     },
     "execution_count": 22,
     "metadata": {},
     "output_type": "execute_result"
    }
   ],
   "source": [
    "df_shared_domains=pd.merge(df_sl,df_nsl,how='inner',on='domain-number')\n",
    "domains_name=np.unique(data_domains['domain-name'])\n",
    "domains_description=np.unique(data_domains['domain-descrip'])\n",
    "\n",
    "df_shared_domains['domain-description']=domains_description[df_shared_domains['domain-number']]\n",
    "\n",
    "\n",
    "df_shared_domains"
   ]
  },
  {
   "cell_type": "code",
   "execution_count": 23,
   "metadata": {
    "execution": {
     "iopub.execute_input": "2020-07-24T10:34:07.988551Z",
     "iopub.status.busy": "2020-07-24T10:34:07.987525Z",
     "iopub.status.idle": "2020-07-24T10:34:07.994540Z",
     "shell.execute_reply": "2020-07-24T10:34:07.995246Z"
    }
   },
   "outputs": [
    {
     "name": "stdout",
     "output_type": "stream",
     "text": [
      "The number of shared domains between SL and nSL pairs,after PCA, is =  58 out of 566 so the 10.247349823321555 %\n"
     ]
    }
   ],
   "source": [
    "print('The number of shared domains between SL and nSL pairs,after PCA, is = ',len(df_shared_domains), 'out of', len(df_sl)+len(df_nsl), 'so the',100*len(df_shared_domains)/(len(df_sl)+len(df_nsl)),'%')"
   ]
  },
  {
   "cell_type": "markdown",
   "metadata": {},
   "source": [
    "## Domains exclusive to SL"
   ]
  },
  {
   "cell_type": "code",
   "execution_count": 24,
   "metadata": {
    "execution": {
     "iopub.execute_input": "2020-07-24T10:34:07.998402Z",
     "iopub.status.busy": "2020-07-24T10:34:07.997351Z",
     "iopub.status.idle": "2020-07-24T10:34:08.027604Z",
     "shell.execute_reply": "2020-07-24T10:34:08.028357Z"
    }
   },
   "outputs": [
    {
     "data": {
      "text/html": [
       "<div>\n",
       "<style scoped>\n",
       "    .dataframe tbody tr th:only-of-type {\n",
       "        vertical-align: middle;\n",
       "    }\n",
       "\n",
       "    .dataframe tbody tr th {\n",
       "        vertical-align: top;\n",
       "    }\n",
       "\n",
       "    .dataframe thead th {\n",
       "        text-align: right;\n",
       "    }\n",
       "</style>\n",
       "<table border=\"1\" class=\"dataframe\">\n",
       "  <thead>\n",
       "    <tr style=\"text-align: right;\">\n",
       "      <th></th>\n",
       "      <th>pca-component_x</th>\n",
       "      <th>domain-number</th>\n",
       "      <th>pca-component_y</th>\n",
       "      <th>domain-description</th>\n",
       "    </tr>\n",
       "  </thead>\n",
       "  <tbody>\n",
       "    <tr>\n",
       "      <th>0</th>\n",
       "      <td>PC0</td>\n",
       "      <td>89</td>\n",
       "      <td>NaN</td>\n",
       "      <td>ANAPC8; Cdc23</td>\n",
       "    </tr>\n",
       "    <tr>\n",
       "      <th>2</th>\n",
       "      <td>PC2</td>\n",
       "      <td>312</td>\n",
       "      <td>NaN</td>\n",
       "      <td>C2; C2 domain</td>\n",
       "    </tr>\n",
       "    <tr>\n",
       "      <th>3</th>\n",
       "      <td>PC3</td>\n",
       "      <td>989</td>\n",
       "      <td>NaN</td>\n",
       "      <td>GLE1; GLE1-like</td>\n",
       "    </tr>\n",
       "    <tr>\n",
       "      <th>4</th>\n",
       "      <td>PC4</td>\n",
       "      <td>202</td>\n",
       "      <td>NaN</td>\n",
       "      <td>Aminotran_1_2; Aminotransferase, class I/classII</td>\n",
       "    </tr>\n",
       "    <tr>\n",
       "      <th>5</th>\n",
       "      <td>PC5</td>\n",
       "      <td>141</td>\n",
       "      <td>NaN</td>\n",
       "      <td>ATP_sub_h; ATP synthase, F0 complex, subunit H</td>\n",
       "    </tr>\n",
       "    <tr>\n",
       "      <th>...</th>\n",
       "      <td>...</td>\n",
       "      <td>...</td>\n",
       "      <td>...</td>\n",
       "      <td>...</td>\n",
       "    </tr>\n",
       "    <tr>\n",
       "      <th>292</th>\n",
       "      <td>PC284</td>\n",
       "      <td>1368</td>\n",
       "      <td>NaN</td>\n",
       "      <td>MIF4G; MIF4G-like, type 3</td>\n",
       "    </tr>\n",
       "    <tr>\n",
       "      <th>293</th>\n",
       "      <td>PC285</td>\n",
       "      <td>2584</td>\n",
       "      <td>NaN</td>\n",
       "      <td>TFIIIC_sub6; Transcription factor TFIIIC, tau5...</td>\n",
       "    </tr>\n",
       "    <tr>\n",
       "      <th>294</th>\n",
       "      <td>PC286</td>\n",
       "      <td>2575</td>\n",
       "      <td>NaN</td>\n",
       "      <td>TFIID-18kDa; Transcription initiation factor I...</td>\n",
       "    </tr>\n",
       "    <tr>\n",
       "      <th>296</th>\n",
       "      <td>PC288</td>\n",
       "      <td>2914</td>\n",
       "      <td>NaN</td>\n",
       "      <td>eRF1_3; eRF1 domain 3</td>\n",
       "    </tr>\n",
       "    <tr>\n",
       "      <th>297</th>\n",
       "      <td>PC289</td>\n",
       "      <td>2700</td>\n",
       "      <td>NaN</td>\n",
       "      <td>Trehalose_PPase; Trehalose-phosphatase</td>\n",
       "    </tr>\n",
       "  </tbody>\n",
       "</table>\n",
       "<p>240 rows × 4 columns</p>\n",
       "</div>"
      ],
      "text/plain": [
       "    pca-component_x  domain-number pca-component_y  \\\n",
       "0               PC0             89             NaN   \n",
       "2               PC2            312             NaN   \n",
       "3               PC3            989             NaN   \n",
       "4               PC4            202             NaN   \n",
       "5               PC5            141             NaN   \n",
       "..              ...            ...             ...   \n",
       "292           PC284           1368             NaN   \n",
       "293           PC285           2584             NaN   \n",
       "294           PC286           2575             NaN   \n",
       "296           PC288           2914             NaN   \n",
       "297           PC289           2700             NaN   \n",
       "\n",
       "                                    domain-description  \n",
       "0                                        ANAPC8; Cdc23  \n",
       "2                                        C2; C2 domain  \n",
       "3                                      GLE1; GLE1-like  \n",
       "4     Aminotran_1_2; Aminotransferase, class I/classII  \n",
       "5       ATP_sub_h; ATP synthase, F0 complex, subunit H  \n",
       "..                                                 ...  \n",
       "292                          MIF4G; MIF4G-like, type 3  \n",
       "293  TFIIIC_sub6; Transcription factor TFIIIC, tau5...  \n",
       "294  TFIID-18kDa; Transcription initiation factor I...  \n",
       "296                              eRF1_3; eRF1 domain 3  \n",
       "297             Trehalose_PPase; Trehalose-phosphatase  \n",
       "\n",
       "[240 rows x 4 columns]"
      ]
     },
     "execution_count": 24,
     "metadata": {},
     "output_type": "execute_result"
    }
   ],
   "source": [
    "df_sl_exclusive=pd.merge(df_sl,df_nsl,how='left',on='domain-number')\n",
    "\n",
    "domains_name=np.unique(data_domains['domain-name'])\n",
    "domains_description=np.unique(data_domains['domain-descrip'])\n",
    "\n",
    "df_sl_exclusive['domain-description']=domains_description[df_sl_exclusive['domain-number']]\n",
    "df_sl_exclusive[pd.isnull(df_sl_exclusive['pca-component_y'])]"
   ]
  },
  {
   "cell_type": "code",
   "execution_count": 25,
   "metadata": {
    "execution": {
     "iopub.execute_input": "2020-07-24T10:34:08.031554Z",
     "iopub.status.busy": "2020-07-24T10:34:08.030537Z",
     "iopub.status.idle": "2020-07-24T10:34:08.037707Z",
     "shell.execute_reply": "2020-07-24T10:34:08.038425Z"
    }
   },
   "outputs": [
    {
     "name": "stdout",
     "output_type": "stream",
     "text": [
      "The number of exclusive domains from SL pairs, after PCA, is =  298 out of 566 so the 52.65017667844523 %\n"
     ]
    }
   ],
   "source": [
    "print('The number of exclusive domains from SL pairs, after PCA, is = ',len(df_sl_exclusive), 'out of', len(df_sl)+len(df_nsl), 'so the',100*len(df_sl_exclusive)/(len(df_sl)+len(df_nsl)),'%')"
   ]
  },
  {
   "cell_type": "code",
   "execution_count": 26,
   "metadata": {
    "execution": {
     "iopub.execute_input": "2020-07-24T10:34:08.041317Z",
     "iopub.status.busy": "2020-07-24T10:34:08.040377Z",
     "iopub.status.idle": "2020-07-24T10:34:08.070534Z",
     "shell.execute_reply": "2020-07-24T10:34:08.070071Z"
    }
   },
   "outputs": [
    {
     "data": {
      "text/html": [
       "<div>\n",
       "<style scoped>\n",
       "    .dataframe tbody tr th:only-of-type {\n",
       "        vertical-align: middle;\n",
       "    }\n",
       "\n",
       "    .dataframe tbody tr th {\n",
       "        vertical-align: top;\n",
       "    }\n",
       "\n",
       "    .dataframe thead th {\n",
       "        text-align: right;\n",
       "    }\n",
       "</style>\n",
       "<table border=\"1\" class=\"dataframe\">\n",
       "  <thead>\n",
       "    <tr style=\"text-align: right;\">\n",
       "      <th></th>\n",
       "      <th>pca-component_x</th>\n",
       "      <th>domain-number</th>\n",
       "      <th>pca-component_y</th>\n",
       "      <th>domain-description</th>\n",
       "    </tr>\n",
       "  </thead>\n",
       "  <tbody>\n",
       "    <tr>\n",
       "      <th>58</th>\n",
       "      <td>NaN</td>\n",
       "      <td>1028</td>\n",
       "      <td>PC0</td>\n",
       "      <td>GatB_Yqey; Asn/Gln amidotransferase</td>\n",
       "    </tr>\n",
       "    <tr>\n",
       "      <th>59</th>\n",
       "      <td>NaN</td>\n",
       "      <td>1811</td>\n",
       "      <td>PC2</td>\n",
       "      <td>PRAI; N-(5&amp;apos;phosphoribosyl) anthranilate i...</td>\n",
       "    </tr>\n",
       "    <tr>\n",
       "      <th>60</th>\n",
       "      <td>NaN</td>\n",
       "      <td>242</td>\n",
       "      <td>PC3</td>\n",
       "      <td>Atg31; Autophagy-related protein 31</td>\n",
       "    </tr>\n",
       "    <tr>\n",
       "      <th>61</th>\n",
       "      <td>NaN</td>\n",
       "      <td>2610</td>\n",
       "      <td>PC4</td>\n",
       "      <td>TPK_B1_binding; Thiamin pyrophosphokinase, vit...</td>\n",
       "    </tr>\n",
       "    <tr>\n",
       "      <th>62</th>\n",
       "      <td>NaN</td>\n",
       "      <td>1255</td>\n",
       "      <td>PC5</td>\n",
       "      <td>KCH; Potassium transporter Kch</td>\n",
       "    </tr>\n",
       "    <tr>\n",
       "      <th>...</th>\n",
       "      <td>...</td>\n",
       "      <td>...</td>\n",
       "      <td>...</td>\n",
       "      <td>...</td>\n",
       "    </tr>\n",
       "    <tr>\n",
       "      <th>279</th>\n",
       "      <td>NaN</td>\n",
       "      <td>283</td>\n",
       "      <td>PC267</td>\n",
       "      <td>BRF1; Brf1, TBP-binding domain</td>\n",
       "    </tr>\n",
       "    <tr>\n",
       "      <th>280</th>\n",
       "      <td>NaN</td>\n",
       "      <td>1733</td>\n",
       "      <td>PC268</td>\n",
       "      <td>PGAP1; GPI inositol-deacylase PGAP1-like</td>\n",
       "    </tr>\n",
       "    <tr>\n",
       "      <th>281</th>\n",
       "      <td>NaN</td>\n",
       "      <td>61</td>\n",
       "      <td>PC269</td>\n",
       "      <td>AGA2</td>\n",
       "    </tr>\n",
       "    <tr>\n",
       "      <th>282</th>\n",
       "      <td>NaN</td>\n",
       "      <td>1072</td>\n",
       "      <td>PC273</td>\n",
       "      <td>Glycos_transf_1; Glycosyl transferase, family 1</td>\n",
       "    </tr>\n",
       "    <tr>\n",
       "      <th>283</th>\n",
       "      <td>NaN</td>\n",
       "      <td>2743</td>\n",
       "      <td>PC274</td>\n",
       "      <td>UDPGT; UDP-glucuronosyl/UDP-glucosyltransferase</td>\n",
       "    </tr>\n",
       "  </tbody>\n",
       "</table>\n",
       "<p>226 rows × 4 columns</p>\n",
       "</div>"
      ],
      "text/plain": [
       "    pca-component_x  domain-number pca-component_y  \\\n",
       "58              NaN           1028             PC0   \n",
       "59              NaN           1811             PC2   \n",
       "60              NaN            242             PC3   \n",
       "61              NaN           2610             PC4   \n",
       "62              NaN           1255             PC5   \n",
       "..              ...            ...             ...   \n",
       "279             NaN            283           PC267   \n",
       "280             NaN           1733           PC268   \n",
       "281             NaN             61           PC269   \n",
       "282             NaN           1072           PC273   \n",
       "283             NaN           2743           PC274   \n",
       "\n",
       "                                    domain-description  \n",
       "58                 GatB_Yqey; Asn/Gln amidotransferase  \n",
       "59   PRAI; N-(5&apos;phosphoribosyl) anthranilate i...  \n",
       "60                 Atg31; Autophagy-related protein 31  \n",
       "61   TPK_B1_binding; Thiamin pyrophosphokinase, vit...  \n",
       "62                      KCH; Potassium transporter Kch  \n",
       "..                                                 ...  \n",
       "279                     BRF1; Brf1, TBP-binding domain  \n",
       "280           PGAP1; GPI inositol-deacylase PGAP1-like  \n",
       "281                                               AGA2  \n",
       "282    Glycos_transf_1; Glycosyl transferase, family 1  \n",
       "283    UDPGT; UDP-glucuronosyl/UDP-glucosyltransferase  \n",
       "\n",
       "[226 rows x 4 columns]"
      ]
     },
     "execution_count": 26,
     "metadata": {},
     "output_type": "execute_result"
    }
   ],
   "source": [
    "df_nsl_exclusive=pd.merge(df_sl,df_nsl,how='right',on='domain-number')\n",
    "\n",
    "domains_name=np.unique(data_domains['domain-name'])\n",
    "domains_description=np.unique(data_domains['domain-descrip'])\n",
    "\n",
    "df_nsl_exclusive['domain-description']=domains_description[df_nsl_exclusive['domain-number']]\n",
    "df_nsl_exclusive[pd.isnull(df_nsl_exclusive['pca-component_x'])]"
   ]
  },
  {
   "cell_type": "code",
   "execution_count": 27,
   "metadata": {
    "execution": {
     "iopub.execute_input": "2020-07-24T10:34:08.075172Z",
     "iopub.status.busy": "2020-07-24T10:34:08.074658Z",
     "iopub.status.idle": "2020-07-24T10:34:08.078940Z",
     "shell.execute_reply": "2020-07-24T10:34:08.078408Z"
    }
   },
   "outputs": [
    {
     "name": "stdout",
     "output_type": "stream",
     "text": [
      "The number of exclusive domains from non SL pairs, after PCA, is =  284 out of 566 so the 50.17667844522968 %\n"
     ]
    }
   ],
   "source": [
    "print('The number of exclusive domains from non SL pairs, after PCA, is = ',len(df_nsl_exclusive), 'out of', len(df_sl)+len(df_nsl), 'so the',100*len(df_nsl_exclusive)/(len(df_sl)+len(df_nsl)),'%')"
   ]
  },
  {
   "cell_type": "markdown",
   "metadata": {},
   "source": [
    "## Let see to the domains-number that get repeated after the PCA analysis , and selecting the most explanatory feature by its explained variance."
   ]
  },
  {
   "cell_type": "code",
   "execution_count": 28,
   "metadata": {
    "execution": {
     "iopub.execute_input": "2020-07-24T10:34:08.096844Z",
     "iopub.status.busy": "2020-07-24T10:34:08.085626Z",
     "iopub.status.idle": "2020-07-24T10:34:08.103206Z",
     "shell.execute_reply": "2020-07-24T10:34:08.102772Z"
    }
   },
   "outputs": [],
   "source": [
    "duplicated_features_sl=df_sl[df_sl.iloc[:,1].duplicated()]\n",
    "repeated_features_sl=pd.DataFrame()\n",
    "\n",
    "domains_name=np.unique(data_domains['domain-name'])\n",
    "domains_description=np.unique(data_domains['domain-descrip'])\n",
    "\n",
    "repeated_features_sl['domain-name']=domains_name[duplicated_features_sl.iloc[:,1]] \n",
    "repeated_features_sl['domain-description']=domains_description[duplicated_features_sl.iloc[:,1]]\n",
    "\n",
    "duplicated_features_nsl=df_nsl[df_nsl.iloc[:,1].duplicated()]\n",
    "repeated_features_nsl=pd.DataFrame()\n",
    "\n",
    "repeated_features_nsl['domain-name']=domains_name[duplicated_features_nsl.iloc[:,1]] \n",
    "repeated_features_nsl['domain-description']=domains_description[duplicated_features_nsl.iloc[:,1]]"
   ]
  },
  {
   "cell_type": "code",
   "execution_count": 29,
   "metadata": {
    "execution": {
     "iopub.execute_input": "2020-07-24T10:34:08.113032Z",
     "iopub.status.busy": "2020-07-24T10:34:08.111874Z",
     "iopub.status.idle": "2020-07-24T10:34:08.116641Z",
     "shell.execute_reply": "2020-07-24T10:34:08.117053Z"
    }
   },
   "outputs": [
    {
     "name": "stderr",
     "output_type": "stream",
     "text": [
      "/usr/share/miniconda3/envs/wintest/lib/python3.7/site-packages/ipykernel_launcher.py:3: SettingWithCopyWarning: \n",
      "A value is trying to be set on a copy of a slice from a DataFrame.\n",
      "Try using .loc[row_indexer,col_indexer] = value instead\n",
      "\n",
      "See the caveats in the documentation: https://pandas.pydata.org/pandas-docs/stable/user_guide/indexing.html#returning-a-view-versus-a-copy\n",
      "  This is separate from the ipykernel package so we can avoid doing imports until\n"
     ]
    },
    {
     "data": {
      "text/plain": [
       "((49, 4), (298, 4))"
      ]
     },
     "execution_count": 29,
     "metadata": {},
     "output_type": "execute_result"
    }
   ],
   "source": [
    "only_sl_pd=pd.merge(repeated_features_sl,repeated_features_nsl,how='left',on=['domain-name'])\n",
    "data_only_sl = only_sl_pd[pd.isnull(only_sl_pd['domain-description_y'])]\n",
    "data_only_sl['domain-description']=data_only_sl['domain-description_x']\n",
    "data_only_sl.shape,df_sl_exclusive.shape"
   ]
  },
  {
   "cell_type": "code",
   "execution_count": 30,
   "metadata": {
    "execution": {
     "iopub.execute_input": "2020-07-24T10:34:08.133875Z",
     "iopub.status.busy": "2020-07-24T10:34:08.133322Z",
     "iopub.status.idle": "2020-07-24T10:34:08.136364Z",
     "shell.execute_reply": "2020-07-24T10:34:08.136786Z"
    }
   },
   "outputs": [
    {
     "data": {
      "text/html": [
       "<div>\n",
       "<style scoped>\n",
       "    .dataframe tbody tr th:only-of-type {\n",
       "        vertical-align: middle;\n",
       "    }\n",
       "\n",
       "    .dataframe tbody tr th {\n",
       "        vertical-align: top;\n",
       "    }\n",
       "\n",
       "    .dataframe thead th {\n",
       "        text-align: right;\n",
       "    }\n",
       "</style>\n",
       "<table border=\"1\" class=\"dataframe\">\n",
       "  <thead>\n",
       "    <tr style=\"text-align: right;\">\n",
       "      <th></th>\n",
       "      <th>domain-name</th>\n",
       "      <th>domain-description_x</th>\n",
       "      <th>domain-description_y</th>\n",
       "    </tr>\n",
       "  </thead>\n",
       "  <tbody>\n",
       "    <tr>\n",
       "      <th>2</th>\n",
       "      <td>PF00749</td>\n",
       "      <td>NaN</td>\n",
       "      <td>CMD; Carboxymuconolactone decarboxylase-like</td>\n",
       "    </tr>\n",
       "    <tr>\n",
       "      <th>3</th>\n",
       "      <td>PF00789</td>\n",
       "      <td>NaN</td>\n",
       "      <td>COPI_C; Coatomer, alpha subunit, C-terminal</td>\n",
       "    </tr>\n",
       "    <tr>\n",
       "      <th>4</th>\n",
       "      <td>PF01909</td>\n",
       "      <td>NaN</td>\n",
       "      <td>Dynein_light; Dynein light chain, type 1/2</td>\n",
       "    </tr>\n",
       "    <tr>\n",
       "      <th>5</th>\n",
       "      <td>PF11988</td>\n",
       "      <td>NaN</td>\n",
       "      <td>Sec23_helical; Sec23/Sec24, helical domain</td>\n",
       "    </tr>\n",
       "    <tr>\n",
       "      <th>6</th>\n",
       "      <td>PF04121</td>\n",
       "      <td>NaN</td>\n",
       "      <td>LIAS_N; Lipoyl synthase, N-terminal</td>\n",
       "    </tr>\n",
       "    <tr>\n",
       "      <th>7</th>\n",
       "      <td>PF00027</td>\n",
       "      <td>NaN</td>\n",
       "      <td>6PF2K; 6-phosphofructo-2-kinase</td>\n",
       "    </tr>\n",
       "    <tr>\n",
       "      <th>8</th>\n",
       "      <td>PF03372</td>\n",
       "      <td>NaN</td>\n",
       "      <td>HCO3_cotransp; Bicarbonate transporter, C-term...</td>\n",
       "    </tr>\n",
       "    <tr>\n",
       "      <th>9</th>\n",
       "      <td>PF03901</td>\n",
       "      <td>NaN</td>\n",
       "      <td>Hydrolase_like</td>\n",
       "    </tr>\n",
       "    <tr>\n",
       "      <th>10</th>\n",
       "      <td>PF04065</td>\n",
       "      <td>NaN</td>\n",
       "      <td>KOW</td>\n",
       "    </tr>\n",
       "    <tr>\n",
       "      <th>11</th>\n",
       "      <td>PF00115</td>\n",
       "      <td>NaN</td>\n",
       "      <td>ACPS; 4&amp;apos;-phosphopantetheinyl transferase ...</td>\n",
       "    </tr>\n",
       "    <tr>\n",
       "      <th>12</th>\n",
       "      <td>PF00115</td>\n",
       "      <td>NaN</td>\n",
       "      <td>ACPS; 4&amp;apos;-phosphopantetheinyl transferase ...</td>\n",
       "    </tr>\n",
       "    <tr>\n",
       "      <th>13</th>\n",
       "      <td>PF05890</td>\n",
       "      <td>NaN</td>\n",
       "      <td>Ndc80_HEC; Kinetochore protein Ndc80</td>\n",
       "    </tr>\n",
       "    <tr>\n",
       "      <th>14</th>\n",
       "      <td>PF11976</td>\n",
       "      <td>NaN</td>\n",
       "      <td>Sec20</td>\n",
       "    </tr>\n",
       "    <tr>\n",
       "      <th>15</th>\n",
       "      <td>PF00464</td>\n",
       "      <td>NaN</td>\n",
       "      <td>ArfGap; Arf GTPase activating protein</td>\n",
       "    </tr>\n",
       "    <tr>\n",
       "      <th>16</th>\n",
       "      <td>PF10452</td>\n",
       "      <td>NaN</td>\n",
       "      <td>SDA1; SDA1 domain</td>\n",
       "    </tr>\n",
       "    <tr>\n",
       "      <th>17</th>\n",
       "      <td>PF00012</td>\n",
       "      <td>NaN</td>\n",
       "      <td>2OG-FeII_Oxy_4</td>\n",
       "    </tr>\n",
       "    <tr>\n",
       "      <th>18</th>\n",
       "      <td>PF13921</td>\n",
       "      <td>NaN</td>\n",
       "      <td>Trypsin_2</td>\n",
       "    </tr>\n",
       "    <tr>\n",
       "      <th>19</th>\n",
       "      <td>PF12333</td>\n",
       "      <td>NaN</td>\n",
       "      <td>Sin3a_C; Sin3, C-terminal</td>\n",
       "    </tr>\n",
       "    <tr>\n",
       "      <th>20</th>\n",
       "      <td>PF03151</td>\n",
       "      <td>NaN</td>\n",
       "      <td>Glyco_hydro_65m; Glycoside hydrolase, family 6...</td>\n",
       "    </tr>\n",
       "    <tr>\n",
       "      <th>21</th>\n",
       "      <td>PF08598</td>\n",
       "      <td>NaN</td>\n",
       "      <td>RAI1; RAI1-like</td>\n",
       "    </tr>\n",
       "    <tr>\n",
       "      <th>22</th>\n",
       "      <td>PF17097</td>\n",
       "      <td>NaN</td>\n",
       "      <td>zf-CCCH_2</td>\n",
       "    </tr>\n",
       "    <tr>\n",
       "      <th>23</th>\n",
       "      <td>PF02386</td>\n",
       "      <td>NaN</td>\n",
       "      <td>FIN1</td>\n",
       "    </tr>\n",
       "    <tr>\n",
       "      <th>24</th>\n",
       "      <td>PF05181</td>\n",
       "      <td>NaN</td>\n",
       "      <td>Mog1; Ran-interacting Mog1 protein</td>\n",
       "    </tr>\n",
       "    <tr>\n",
       "      <th>25</th>\n",
       "      <td>PF01250</td>\n",
       "      <td>NaN</td>\n",
       "      <td>DDOST_48kD; Dolichyl-diphosphooligosaccharide-...</td>\n",
       "    </tr>\n",
       "    <tr>\n",
       "      <th>26</th>\n",
       "      <td>PF01172</td>\n",
       "      <td>NaN</td>\n",
       "      <td>Cullin_Nedd8; Cullin protein, neddylation domain</td>\n",
       "    </tr>\n",
       "    <tr>\n",
       "      <th>27</th>\n",
       "      <td>PF10471</td>\n",
       "      <td>NaN</td>\n",
       "      <td>SET; SET domain</td>\n",
       "    </tr>\n",
       "    <tr>\n",
       "      <th>28</th>\n",
       "      <td>PF12735</td>\n",
       "      <td>NaN</td>\n",
       "      <td>Sterol-sensing; Sterol-sensing domain</td>\n",
       "    </tr>\n",
       "    <tr>\n",
       "      <th>29</th>\n",
       "      <td>PF02731</td>\n",
       "      <td>NaN</td>\n",
       "      <td>FolB; Dihydroneopterin aldolase/epimerase domain</td>\n",
       "    </tr>\n",
       "    <tr>\n",
       "      <th>30</th>\n",
       "      <td>PF09809</td>\n",
       "      <td>NaN</td>\n",
       "      <td>Ribosomal_L28e; Ribosomal L28e/Mak16</td>\n",
       "    </tr>\n",
       "    <tr>\n",
       "      <th>31</th>\n",
       "      <td>PF00735</td>\n",
       "      <td>NaN</td>\n",
       "      <td>CLP1_P; Polyribonucleotide 5&amp;apos;-hydroxyl-ki...</td>\n",
       "    </tr>\n",
       "    <tr>\n",
       "      <th>32</th>\n",
       "      <td>PF00118</td>\n",
       "      <td>NaN</td>\n",
       "      <td>AD; Anticodon-binding domain</td>\n",
       "    </tr>\n",
       "    <tr>\n",
       "      <th>33</th>\n",
       "      <td>PF04098</td>\n",
       "      <td>NaN</td>\n",
       "      <td>Kinetocho_Slk19; Central kinetochore-associated</td>\n",
       "    </tr>\n",
       "    <tr>\n",
       "      <th>34</th>\n",
       "      <td>PF17068</td>\n",
       "      <td>NaN</td>\n",
       "      <td>zf-C2HE; Aprataxin, C2HE/C2H2/C2HC zinc finger</td>\n",
       "    </tr>\n",
       "    <tr>\n",
       "      <th>35</th>\n",
       "      <td>PF00709</td>\n",
       "      <td>NaN</td>\n",
       "      <td>CHCH</td>\n",
       "    </tr>\n",
       "  </tbody>\n",
       "</table>\n",
       "</div>"
      ],
      "text/plain": [
       "   domain-name domain-description_x  \\\n",
       "2      PF00749                  NaN   \n",
       "3      PF00789                  NaN   \n",
       "4      PF01909                  NaN   \n",
       "5      PF11988                  NaN   \n",
       "6      PF04121                  NaN   \n",
       "7      PF00027                  NaN   \n",
       "8      PF03372                  NaN   \n",
       "9      PF03901                  NaN   \n",
       "10     PF04065                  NaN   \n",
       "11     PF00115                  NaN   \n",
       "12     PF00115                  NaN   \n",
       "13     PF05890                  NaN   \n",
       "14     PF11976                  NaN   \n",
       "15     PF00464                  NaN   \n",
       "16     PF10452                  NaN   \n",
       "17     PF00012                  NaN   \n",
       "18     PF13921                  NaN   \n",
       "19     PF12333                  NaN   \n",
       "20     PF03151                  NaN   \n",
       "21     PF08598                  NaN   \n",
       "22     PF17097                  NaN   \n",
       "23     PF02386                  NaN   \n",
       "24     PF05181                  NaN   \n",
       "25     PF01250                  NaN   \n",
       "26     PF01172                  NaN   \n",
       "27     PF10471                  NaN   \n",
       "28     PF12735                  NaN   \n",
       "29     PF02731                  NaN   \n",
       "30     PF09809                  NaN   \n",
       "31     PF00735                  NaN   \n",
       "32     PF00118                  NaN   \n",
       "33     PF04098                  NaN   \n",
       "34     PF17068                  NaN   \n",
       "35     PF00709                  NaN   \n",
       "\n",
       "                                 domain-description_y  \n",
       "2        CMD; Carboxymuconolactone decarboxylase-like  \n",
       "3         COPI_C; Coatomer, alpha subunit, C-terminal  \n",
       "4          Dynein_light; Dynein light chain, type 1/2  \n",
       "5          Sec23_helical; Sec23/Sec24, helical domain  \n",
       "6                 LIAS_N; Lipoyl synthase, N-terminal  \n",
       "7                     6PF2K; 6-phosphofructo-2-kinase  \n",
       "8   HCO3_cotransp; Bicarbonate transporter, C-term...  \n",
       "9                                      Hydrolase_like  \n",
       "10                                                KOW  \n",
       "11  ACPS; 4&apos;-phosphopantetheinyl transferase ...  \n",
       "12  ACPS; 4&apos;-phosphopantetheinyl transferase ...  \n",
       "13               Ndc80_HEC; Kinetochore protein Ndc80  \n",
       "14                                              Sec20  \n",
       "15              ArfGap; Arf GTPase activating protein  \n",
       "16                                  SDA1; SDA1 domain  \n",
       "17                                     2OG-FeII_Oxy_4  \n",
       "18                                          Trypsin_2  \n",
       "19                          Sin3a_C; Sin3, C-terminal  \n",
       "20  Glyco_hydro_65m; Glycoside hydrolase, family 6...  \n",
       "21                                    RAI1; RAI1-like  \n",
       "22                                          zf-CCCH_2  \n",
       "23                                               FIN1  \n",
       "24                 Mog1; Ran-interacting Mog1 protein  \n",
       "25  DDOST_48kD; Dolichyl-diphosphooligosaccharide-...  \n",
       "26   Cullin_Nedd8; Cullin protein, neddylation domain  \n",
       "27                                    SET; SET domain  \n",
       "28              Sterol-sensing; Sterol-sensing domain  \n",
       "29   FolB; Dihydroneopterin aldolase/epimerase domain  \n",
       "30               Ribosomal_L28e; Ribosomal L28e/Mak16  \n",
       "31  CLP1_P; Polyribonucleotide 5&apos;-hydroxyl-ki...  \n",
       "32                       AD; Anticodon-binding domain  \n",
       "33    Kinetocho_Slk19; Central kinetochore-associated  \n",
       "34     zf-C2HE; Aprataxin, C2HE/C2H2/C2HC zinc finger  \n",
       "35                                               CHCH  "
      ]
     },
     "execution_count": 30,
     "metadata": {},
     "output_type": "execute_result"
    }
   ],
   "source": [
    "only_nsl_pd=pd.merge(repeated_features_sl,repeated_features_nsl,how='right',on=['domain-name'])\n",
    "data_only_nsl = only_nsl_pd[pd.isnull(only_nsl_pd['domain-description_x'])]\n",
    "data_only_nsl"
   ]
  },
  {
   "cell_type": "code",
   "execution_count": 31,
   "metadata": {
    "execution": {
     "iopub.execute_input": "2020-07-24T10:34:08.148016Z",
     "iopub.status.busy": "2020-07-24T10:34:08.147430Z",
     "iopub.status.idle": "2020-07-24T10:34:08.150036Z",
     "shell.execute_reply": "2020-07-24T10:34:08.150448Z"
    }
   },
   "outputs": [
    {
     "data": {
      "text/html": [
       "<div>\n",
       "<style scoped>\n",
       "    .dataframe tbody tr th:only-of-type {\n",
       "        vertical-align: middle;\n",
       "    }\n",
       "\n",
       "    .dataframe tbody tr th {\n",
       "        vertical-align: top;\n",
       "    }\n",
       "\n",
       "    .dataframe thead th {\n",
       "        text-align: right;\n",
       "    }\n",
       "</style>\n",
       "<table border=\"1\" class=\"dataframe\">\n",
       "  <thead>\n",
       "    <tr style=\"text-align: right;\">\n",
       "      <th></th>\n",
       "      <th>domain-name</th>\n",
       "      <th>domain-description_x</th>\n",
       "      <th>domain-description_y</th>\n",
       "    </tr>\n",
       "  </thead>\n",
       "  <tbody>\n",
       "    <tr>\n",
       "      <th>0</th>\n",
       "      <td>PF02996</td>\n",
       "      <td>Gal_mutarotas_2; Glycoside hydrolase family 31...</td>\n",
       "      <td>Gal_mutarotas_2; Glycoside hydrolase family 31...</td>\n",
       "    </tr>\n",
       "    <tr>\n",
       "      <th>1</th>\n",
       "      <td>PF03381</td>\n",
       "      <td>HDA2-3; HDA1 complex subunit 2/3</td>\n",
       "      <td>HDA2-3; HDA1 complex subunit 2/3</td>\n",
       "    </tr>\n",
       "  </tbody>\n",
       "</table>\n",
       "</div>"
      ],
      "text/plain": [
       "  domain-name                               domain-description_x  \\\n",
       "0     PF02996  Gal_mutarotas_2; Glycoside hydrolase family 31...   \n",
       "1     PF03381                   HDA2-3; HDA1 complex subunit 2/3   \n",
       "\n",
       "                                domain-description_y  \n",
       "0  Gal_mutarotas_2; Glycoside hydrolase family 31...  \n",
       "1                   HDA2-3; HDA1 complex subunit 2/3  "
      ]
     },
     "execution_count": 31,
     "metadata": {},
     "output_type": "execute_result"
    }
   ],
   "source": [
    "shared_domains_pd=pd.merge(repeated_features_sl,repeated_features_nsl,how='inner',on=['domain-name'])\n",
    "shared_domains_pd\n"
   ]
  },
  {
   "cell_type": "code",
   "execution_count": 32,
   "metadata": {
    "execution": {
     "iopub.execute_input": "2020-07-24T10:34:08.163435Z",
     "iopub.status.busy": "2020-07-24T10:34:08.162909Z",
     "iopub.status.idle": "2020-07-24T10:34:09.561515Z",
     "shell.execute_reply": "2020-07-24T10:34:09.561047Z"
    }
   },
   "outputs": [
    {
     "data": {
      "text/plain": [
       "(0.0, 0.2)"
      ]
     },
     "execution_count": 32,
     "metadata": {},
     "output_type": "execute_result"
    },
    {
     "data": {
      "image/png": "[encoded data removed]",
      "text/plain": [
       "<Figure size 432x288 with 1 Axes>"
      ]
     },
     "metadata": {
      "filenames": {
       "image/png": "/home/runner/work/jupyter-book/jupyter-book/mini_book/docs/_build/jupyter_execute/prot_domains2lethality-FEATURES-POSTPROCESSING_47_1.png"
      },
      "needs_background": "light"
     },
     "output_type": "display_data"
    }
   ],
   "source": [
    "a_sl=x_sl.iloc[:,np.sort(df_sl.iloc[:,1])]\n",
    "a_sl.describe().loc['mean'].hist(bins=8),\n",
    "a_sl.describe().loc['std'].hist(bins=8,alpha=0.4)\n",
    "plt.xlim([0,0.2])"
   ]
  },
  {
   "cell_type": "code",
   "execution_count": 33,
   "metadata": {
    "execution": {
     "iopub.execute_input": "2020-07-24T10:34:09.574247Z",
     "iopub.status.busy": "2020-07-24T10:34:09.569947Z",
     "iopub.status.idle": "2020-07-24T10:34:10.924892Z",
     "shell.execute_reply": "2020-07-24T10:34:10.924044Z"
    }
   },
   "outputs": [
    {
     "data": {
      "text/plain": [
       "(0.0, 0.2)"
      ]
     },
     "execution_count": 33,
     "metadata": {},
     "output_type": "execute_result"
    },
    {
     "data": {
      "image/png": "[encoded data removed]",
      "text/plain": [
       "<Figure size 432x288 with 1 Axes>"
      ]
     },
     "metadata": {
      "filenames": {
       "image/png": "/home/runner/work/jupyter-book/jupyter-book/mini_book/docs/_build/jupyter_execute/prot_domains2lethality-FEATURES-POSTPROCESSING_48_1.png"
      },
      "needs_background": "light"
     },
     "output_type": "display_data"
    }
   ],
   "source": [
    "a_nsl=x_nsl.iloc[:,np.sort(df_nsl.iloc[:,1])]\n",
    "a_nsl.describe().loc['mean'].hist(bins=8),\n",
    "a_nsl.describe().loc['std'].hist(bins=8,alpha=0.4)\n",
    "plt.xlim([0,0.2])"
   ]
  },
  {
   "cell_type": "markdown",
   "metadata": {},
   "source": [
    "### Proof of concept with *BEM1*\n",
    "\n",
    "- Gather the domains of SL and nSL pairs from BEM1\n",
    "- Check if the domains for the SL and nSL pairs are inside the most important domains after PCA."
   ]
  },
  {
   "cell_type": "code",
   "execution_count": 34,
   "metadata": {
    "execution": {
     "iopub.execute_input": "2020-07-24T10:34:10.932573Z",
     "iopub.status.busy": "2020-07-24T10:34:10.932019Z",
     "iopub.status.idle": "2020-07-24T10:34:10.935363Z",
     "shell.execute_reply": "2020-07-24T10:34:10.934910Z"
    }
   },
   "outputs": [],
   "source": [
    "domains_bem1=data_domains[data_domains['name']=='BEM1']['domain-descrip']\n",
    "sl_bem1=data_sl[data_sl['gene-query-name']=='BEM1']['gene-target-name']"
   ]
  },
  {
   "cell_type": "code",
   "execution_count": 35,
   "metadata": {
    "execution": {
     "iopub.execute_input": "2020-07-24T10:34:10.940166Z",
     "iopub.status.busy": "2020-07-24T10:34:10.939634Z",
     "iopub.status.idle": "2020-07-24T10:34:10.944181Z",
     "shell.execute_reply": "2020-07-24T10:34:10.944598Z"
    }
   },
   "outputs": [
    {
     "data": {
      "text/plain": [
       "2846      BEM2\n",
       "2847     CDC24\n",
       "5004      MSB1\n",
       "13777     SMI1\n",
       "13778     BNI1\n",
       "13779     BEM2\n",
       "14385     SKN7\n",
       "Name: gene-target-name, dtype: object"
      ]
     },
     "execution_count": 35,
     "metadata": {},
     "output_type": "execute_result"
    }
   ],
   "source": [
    "sl_bem1"
   ]
  },
  {
   "cell_type": "code",
   "execution_count": 36,
   "metadata": {
    "execution": {
     "iopub.execute_input": "2020-07-24T10:34:10.958248Z",
     "iopub.status.busy": "2020-07-24T10:34:10.957744Z",
     "iopub.status.idle": "2020-07-24T10:34:10.962644Z",
     "shell.execute_reply": "2020-07-24T10:34:10.961932Z"
    }
   },
   "outputs": [
    {
     "data": {
      "text/html": [
       "<div>\n",
       "<style scoped>\n",
       "    .dataframe tbody tr th:only-of-type {\n",
       "        vertical-align: middle;\n",
       "    }\n",
       "\n",
       "    .dataframe tbody tr th {\n",
       "        vertical-align: top;\n",
       "    }\n",
       "\n",
       "    .dataframe thead th {\n",
       "        text-align: right;\n",
       "    }\n",
       "</style>\n",
       "<table border=\"1\" class=\"dataframe\">\n",
       "  <thead>\n",
       "    <tr style=\"text-align: right;\">\n",
       "      <th></th>\n",
       "      <th>gene-query</th>\n",
       "      <th>gene-target</th>\n",
       "      <th>gene-query-name</th>\n",
       "      <th>gene-target-name</th>\n",
       "      <th>gene-query-description</th>\n",
       "      <th>gene-target-description</th>\n",
       "      <th>interaction-type</th>\n",
       "      <th>paper-source</th>\n",
       "    </tr>\n",
       "  </thead>\n",
       "  <tbody>\n",
       "    <tr>\n",
       "      <th>2846</th>\n",
       "      <td>YBR200W</td>\n",
       "      <td>YER155C</td>\n",
       "      <td>BEM1</td>\n",
       "      <td>BEM2</td>\n",
       "      <td>SRO1|phosphatidylinositol-3-phosphate-binding ...</td>\n",
       "      <td>IPL2|SUP9|TSL1|L000000168</td>\n",
       "      <td>Synthetic Lethality</td>\n",
       "      <td>Peterson J (1994)</td>\n",
       "    </tr>\n",
       "    <tr>\n",
       "      <th>2847</th>\n",
       "      <td>YBR200W</td>\n",
       "      <td>YAL041W</td>\n",
       "      <td>BEM1</td>\n",
       "      <td>CDC24</td>\n",
       "      <td>SRO1|phosphatidylinositol-3-phosphate-binding ...</td>\n",
       "      <td>CLS4|Rho family guanine nucleotide exchange fa...</td>\n",
       "      <td>Synthetic Lethality</td>\n",
       "      <td>Peterson J (1994)</td>\n",
       "    </tr>\n",
       "    <tr>\n",
       "      <th>5004</th>\n",
       "      <td>YBR200W</td>\n",
       "      <td>YOR188W</td>\n",
       "      <td>BEM1</td>\n",
       "      <td>MSB1</td>\n",
       "      <td>SRO1|phosphatidylinositol-3-phosphate-binding ...</td>\n",
       "      <td>L000001184</td>\n",
       "      <td>Synthetic Lethality</td>\n",
       "      <td>Bender A (1991)</td>\n",
       "    </tr>\n",
       "    <tr>\n",
       "      <th>13777</th>\n",
       "      <td>YBR200W</td>\n",
       "      <td>YGR229C</td>\n",
       "      <td>BEM1</td>\n",
       "      <td>SMI1</td>\n",
       "      <td>SRO1|phosphatidylinositol-3-phosphate-binding ...</td>\n",
       "      <td>KNR4|L000000909</td>\n",
       "      <td>Synthetic Lethality</td>\n",
       "      <td>Gorelik M (2011)</td>\n",
       "    </tr>\n",
       "    <tr>\n",
       "      <th>13778</th>\n",
       "      <td>YBR200W</td>\n",
       "      <td>YNL271C</td>\n",
       "      <td>BEM1</td>\n",
       "      <td>BNI1</td>\n",
       "      <td>SRO1|phosphatidylinositol-3-phosphate-binding ...</td>\n",
       "      <td>PPF3|SHE5|formin BNI1|L000000190</td>\n",
       "      <td>Synthetic Lethality</td>\n",
       "      <td>Gorelik M (2011)</td>\n",
       "    </tr>\n",
       "    <tr>\n",
       "      <th>13779</th>\n",
       "      <td>YBR200W</td>\n",
       "      <td>YER155C</td>\n",
       "      <td>BEM1</td>\n",
       "      <td>BEM2</td>\n",
       "      <td>SRO1|phosphatidylinositol-3-phosphate-binding ...</td>\n",
       "      <td>IPL2|SUP9|TSL1|L000000168</td>\n",
       "      <td>Synthetic Lethality</td>\n",
       "      <td>Gorelik M (2011)</td>\n",
       "    </tr>\n",
       "    <tr>\n",
       "      <th>14385</th>\n",
       "      <td>YBR200W</td>\n",
       "      <td>YHR206W</td>\n",
       "      <td>BEM1</td>\n",
       "      <td>SKN7</td>\n",
       "      <td>SRO1|phosphatidylinositol-3-phosphate-binding ...</td>\n",
       "      <td>BRY1|POS9|kinase-regulated stress-responsive t...</td>\n",
       "      <td>Dosage Lethality</td>\n",
       "      <td>Bouquin N (1999)</td>\n",
       "    </tr>\n",
       "  </tbody>\n",
       "</table>\n",
       "</div>"
      ],
      "text/plain": [
       "      gene-query gene-target gene-query-name gene-target-name  \\\n",
       "2846     YBR200W     YER155C            BEM1             BEM2   \n",
       "2847     YBR200W     YAL041W            BEM1            CDC24   \n",
       "5004     YBR200W     YOR188W            BEM1             MSB1   \n",
       "13777    YBR200W     YGR229C            BEM1             SMI1   \n",
       "13778    YBR200W     YNL271C            BEM1             BNI1   \n",
       "13779    YBR200W     YER155C            BEM1             BEM2   \n",
       "14385    YBR200W     YHR206W            BEM1             SKN7   \n",
       "\n",
       "                                  gene-query-description  \\\n",
       "2846   SRO1|phosphatidylinositol-3-phosphate-binding ...   \n",
       "2847   SRO1|phosphatidylinositol-3-phosphate-binding ...   \n",
       "5004   SRO1|phosphatidylinositol-3-phosphate-binding ...   \n",
       "13777  SRO1|phosphatidylinositol-3-phosphate-binding ...   \n",
       "13778  SRO1|phosphatidylinositol-3-phosphate-binding ...   \n",
       "13779  SRO1|phosphatidylinositol-3-phosphate-binding ...   \n",
       "14385  SRO1|phosphatidylinositol-3-phosphate-binding ...   \n",
       "\n",
       "                                 gene-target-description     interaction-type  \\\n",
       "2846                           IPL2|SUP9|TSL1|L000000168  Synthetic Lethality   \n",
       "2847   CLS4|Rho family guanine nucleotide exchange fa...  Synthetic Lethality   \n",
       "5004                                          L000001184  Synthetic Lethality   \n",
       "13777                                    KNR4|L000000909  Synthetic Lethality   \n",
       "13778                   PPF3|SHE5|formin BNI1|L000000190  Synthetic Lethality   \n",
       "13779                          IPL2|SUP9|TSL1|L000000168  Synthetic Lethality   \n",
       "14385  BRY1|POS9|kinase-regulated stress-responsive t...     Dosage Lethality   \n",
       "\n",
       "            paper-source  \n",
       "2846   Peterson J (1994)  \n",
       "2847   Peterson J (1994)  \n",
       "5004     Bender A (1991)  \n",
       "13777   Gorelik M (2011)  \n",
       "13778   Gorelik M (2011)  \n",
       "13779   Gorelik M (2011)  \n",
       "14385   Bouquin N (1999)  "
      ]
     },
     "execution_count": 36,
     "metadata": {},
     "output_type": "execute_result"
    }
   ],
   "source": [
    "data_sl[data_sl['gene-query-name']=='BEM1']"
   ]
  },
  {
   "cell_type": "code",
   "execution_count": null,
   "metadata": {},
   "outputs": [],
   "source": []
  }
 ],
 "metadata": {
  "jupytext": {
   "text_representation": {
    "extension": ".md",
    "format_name": "myst"
   }
  },
  "kernelspec": {
   "display_name": "Python 3",
   "language": "python",
   "name": "python3"
  },
  "language_info": {
   "codemirror_mode": {
    "name": "ipython",
    "version": 3
   },
   "file_extension": ".py",
   "mimetype": "text/x-python",
   "name": "python",
   "nbconvert_exporter": "python",
   "pygments_lexer": "ipython3",
   "version": "3.7.8"
  },
  "source_map": [
   10,
   18,
   29,
   36,
   57,
   66,
   98,
   101,
   105,
   128,
   131,
   135,
   139,
   145,
   178,
   184,
   188,
   206,
   210,
   218,
   222,
   225,
   229,
   234,
   238,
   244,
   248,
   253,
   257,
   267,
   269,
   273,
   306,
   311,
   313,
   317,
   328,
   330,
   334,
   344,
   348,
   358,
   360,
   364,
   381,
   388,
   394,
   400,
   407,
   412,
   419,
   424,
   428,
   432
  ]
 },
 "nbformat": 4,
 "nbformat_minor": 4
}