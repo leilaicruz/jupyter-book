{
 "cells": [
  {
   "cell_type": "markdown",
   "metadata": {},
   "source": [
    "# Feature postprocessing from paper.\n",
    "- Title:  \"Predicting yeast synthetic lethal genetic interactions using protein domains\"\n",
    "- Authors: Bo Li, Feng Luo,School of Computing,Clemson University,Clemson, SC, USA\n",
    "- e-mail: bol, luofeng@clemson.edu\n",
    "- year:2009"
   ]
  },
  {
   "cell_type": "code",
   "execution_count": 1,
   "metadata": {
    "execution": {
     "iopub.execute_input": "2020-07-23T05:17:35.871111Z",
     "iopub.status.busy": "2020-07-23T05:17:35.870588Z",
     "iopub.status.idle": "2020-07-23T05:17:36.543604Z",
     "shell.execute_reply": "2020-07-23T05:17:36.543031Z"
    }
   },
   "outputs": [],
   "source": [
    "import pandas as pd\n",
    "import numpy as np\n",
    "import matplotlib.pyplot as plt\n",
    "from collections import defaultdict \n",
    "import seaborn as sns\n",
    "import matplotlib.cm as cm\n",
    "import scipy as scipy\n",
    "import random"
   ]
  },
  {
   "cell_type": "markdown",
   "metadata": {
    "jupyter": {
     "source_hidden": true
    }
   },
   "source": [
    "### Importing datasets \n",
    "\n",
    "#### Link to the github repo where the datasets to be downloaded:\n",
    "[DOWNLOAD THE DATASETS HERE](https://github.com/leilaicruz/machine-learning-for-yeast/tree/dev_Leila/datasets-for-learning)"
   ]
  },
  {
   "cell_type": "code",
   "execution_count": 2,
   "metadata": {
    "execution": {
     "iopub.execute_input": "2020-07-23T05:17:36.550335Z",
     "iopub.status.busy": "2020-07-23T05:17:36.549276Z",
     "iopub.status.idle": "2020-07-23T05:17:42.863474Z",
     "shell.execute_reply": "2020-07-23T05:17:42.863839Z"
    }
   },
   "outputs": [],
   "source": [
    "import os\n",
    "script_dir = os.path.dirname('__file__') #<-- absolute dir the script is in\n",
    "rel_path_SL = \"datasets/data-synthetic-lethals.xlsx\"\n",
    "rel_path_nSL=\"datasets/data-positive-genetic.xlsx\"\n",
    "rel_path_domains=\"datasets/proteins-domains-from-Pfam.xlsx\"\n",
    "\n",
    "abs_file_path_SL = os.path.join(script_dir, rel_path_SL)\n",
    "abs_file_path_nSL = os.path.join(script_dir, rel_path_nSL)\n",
    "abs_file_path_domains = os.path.join(script_dir, rel_path_domains)\n",
    "\n",
    "# os.chdir('mini_book/docs/') #<-- for binder os.chdir('../')\n",
    "# os.chdir('../')\n",
    "my_path_sl= abs_file_path_SL\n",
    "my_path_non_sl=abs_file_path_nSL\n",
    "my_path_domains=abs_file_path_domains\n",
    "\n",
    "data_sl=pd.read_excel(my_path_sl,header=0)\n",
    "data_domains=pd.read_excel(my_path_domains,header=0,index_col='Unnamed: 0')\n",
    "data_domains=data_domains.dropna()\n",
    "data_nonsl=pd.read_excel(my_path_non_sl,header=0)"
   ]
  },
  {
   "cell_type": "markdown",
   "metadata": {},
   "source": [
    "## Building the feature matrix\n",
    "One matrix for true SL where each row is one pair of SL. Every raw will be a vector of 0,1 or 2 depending on the comparison with the domain list. For row i the jth element = 0 if the jth element of the domain list is not in neither protein A and B, 1, if it is in one of them and 2 if it is in both of them .\n",
    "\n",
    "### Building the list of proteins domains id per protein pair separately :\n",
    "- List of protein A: Search for the Sl/nSL database the query gene name and look in the protein domain database which protein domains id has each of those queries.\n",
    "- List of protein B: Search for the Sl/nSL database the target gene name of the previous query and look in the protein domain database which protein domains id has each of those target genes."
   ]
  },
  {
   "cell_type": "code",
   "execution_count": 3,
   "metadata": {
    "execution": {
     "iopub.execute_input": "2020-07-23T05:17:42.876956Z",
     "iopub.status.busy": "2020-07-23T05:17:42.876492Z",
     "iopub.status.idle": "2020-07-23T05:17:44.708002Z",
     "shell.execute_reply": "2020-07-23T05:17:44.707585Z"
    }
   },
   "outputs": [],
   "source": [
    "# Selecting the meaningful columns in the respective dataset\n",
    "domain_id_list=data_domains['domain-name']\n",
    "query_gene=data_sl['gene-query-name']\n",
    "target_gene=data_sl['gene-target-name']\n",
    "query_gene_nonlethal=data_nonsl['gene-query-name']\n",
    "target_gene_nonlethal=data_nonsl['gene-target-name']\n",
    "\n",
    "\n",
    "\n",
    "# Initialising the arrays\n",
    "protein_a_list=[]\n",
    "protein_b_list=[]\n",
    "protein_a_list_non=[]\n",
    "protein_b_list_non=[]\n",
    "\n",
    "population = np.arange(0,len(data_sl))\n",
    "\n",
    "# For loop for 10000 pairs sampled randomly from the SL/nSl pair list , and creating a big array of proteind domains id per protein pair\n",
    "\n",
    "for m in random.sample(list(population), 500):\n",
    "    protein_a=data_domains[data_domains['name']==query_gene[m]]\n",
    "    protein_b=data_domains[data_domains['name']==target_gene[m]]\n",
    "    protein_a_list.append(protein_a['domain-name'].tolist())\n",
    "    protein_b_list.append(protein_b['domain-name'].tolist())\n",
    "\n",
    "    protein_a_non=data_domains[data_domains['name']==query_gene_nonlethal[m]]\n",
    "    protein_b_non=data_domains[data_domains['name']==target_gene_nonlethal[m]]\n",
    "    protein_a_list_non.append(protein_a_non['domain-name'].tolist())\n",
    "    protein_b_list_non.append(protein_b_non['domain-name'].tolist())"
   ]
  },
  {
   "cell_type": "code",
   "execution_count": 4,
   "metadata": {
    "execution": {
     "iopub.execute_input": "2020-07-23T05:17:44.712147Z",
     "iopub.status.busy": "2020-07-23T05:17:44.710966Z",
     "iopub.status.idle": "2020-07-23T05:17:44.715825Z",
     "shell.execute_reply": "2020-07-23T05:17:44.715353Z"
    }
   },
   "outputs": [
    {
     "name": "stdout",
     "output_type": "stream",
     "text": [
      "We are going to analyze 500 protein pairs, out of 17871 SL protein pairs\n",
      "We are going to analyze 500 protein pairs, out of 43340 positive protein pairs\n"
     ]
    }
   ],
   "source": [
    "print('We are going to analyze',len((protein_a_list)) ,'protein pairs, out of',len(data_sl),'SL protein pairs')\n",
    "print('We are going to analyze',len((protein_a_list_non)) ,'protein pairs, out of',len(data_nonsl),'positive protein pairs')"
   ]
  },
  {
   "cell_type": "markdown",
   "metadata": {},
   "source": [
    "### Postprocessing #1:  Remove protein pairs from study if either protein in the pair does not contain any domain"
   ]
  },
  {
   "cell_type": "code",
   "execution_count": 5,
   "metadata": {
    "execution": {
     "iopub.execute_input": "2020-07-23T05:17:44.723937Z",
     "iopub.status.busy": "2020-07-23T05:17:44.723473Z",
     "iopub.status.idle": "2020-07-23T05:17:44.726845Z",
     "shell.execute_reply": "2020-07-23T05:17:44.725588Z"
    }
   },
   "outputs": [],
   "source": [
    "def remove_empty_domains(protein_list_search,protein_list_pair):\n",
    "    index=[]\n",
    "    for i in np.arange(0,len(protein_list_search)):\n",
    "        if protein_list_search[i]==[] or protein_list_pair[i]==[]:\n",
    "            index.append(i) ## index of empty values for the protein_a_list meaning they dont have any annotated domain\n",
    "\n",
    "    y=[x for x in np.arange(0,len(protein_list_search)) if x not in index] # a list with non empty values from protein_a list\n",
    "\n",
    "    protein_list_search_new=[]\n",
    "    protein_list_pair_new=[]\n",
    "    for i in y:\n",
    "        protein_list_search_new.append(protein_list_search[i])\n",
    "        protein_list_pair_new.append(protein_list_pair[i])\n",
    "    return protein_list_search_new,protein_list_pair_new\n",
    "\n",
    "## evaluating the function\n",
    "\n",
    "protein_a_list_new,protein_b_list_new=remove_empty_domains(protein_a_list,protein_b_list)\n",
    "\n",
    "protein_a_list_non_new,protein_b_list_non_new=remove_empty_domains(protein_a_list_non,protein_b_list_non)"
   ]
  },
  {
   "cell_type": "code",
   "execution_count": 6,
   "metadata": {
    "execution": {
     "iopub.execute_input": "2020-07-23T05:17:44.730988Z",
     "iopub.status.busy": "2020-07-23T05:17:44.729990Z",
     "iopub.status.idle": "2020-07-23T05:17:44.734758Z",
     "shell.execute_reply": "2020-07-23T05:17:44.735361Z"
    }
   },
   "outputs": [
    {
     "name": "stdout",
     "output_type": "stream",
     "text": [
      "The empty domain in the SL were: 84 out of 500 domains\n",
      "The empty domain in the nSL were: 82 out of 500 domains\n"
     ]
    }
   ],
   "source": [
    "print('The empty domain in the SL were:', len(protein_a_list)-len(protein_a_list_new), 'out of', len(protein_a_list),'domains')\n",
    "print('The empty domain in the nSL were:', len(protein_a_list_non)-len(protein_a_list_non_new), 'out of', len(protein_a_list_non),'domains')"
   ]
  },
  {
   "cell_type": "markdown",
   "metadata": {},
   "source": [
    "### Feature engineering: Select from each ordered indexes of domain id list which of them appear once, in both or in any of the domains of each protein pair"
   ]
  },
  {
   "cell_type": "markdown",
   "metadata": {},
   "source": [
    "#### Define function `get_indexes`"
   ]
  },
  {
   "cell_type": "code",
   "execution_count": 7,
   "metadata": {
    "execution": {
     "iopub.execute_input": "2020-07-23T05:17:44.741149Z",
     "iopub.status.busy": "2020-07-23T05:17:44.740641Z",
     "iopub.status.idle": "2020-07-23T05:17:44.743573Z",
     "shell.execute_reply": "2020-07-23T05:17:44.742901Z"
    }
   },
   "outputs": [
    {
     "data": {
      "text/plain": [
       "[1, 2]"
      ]
     },
     "execution_count": 7,
     "metadata": {},
     "output_type": "execute_result"
    }
   ],
   "source": [
    "get_indexes = lambda x, xs: [i for (y, i) in zip(xs, range(len(xs))) if x == y] # a function that give the index of whether a value appear in array or not\n",
    "a=[1,2,2,4,5,6,7,8,9,10]\n",
    "get_indexes(2,a)"
   ]
  },
  {
   "cell_type": "code",
   "execution_count": 8,
   "metadata": {
    "execution": {
     "iopub.execute_input": "2020-07-23T05:17:44.751036Z",
     "iopub.status.busy": "2020-07-23T05:17:44.750401Z",
     "iopub.status.idle": "2020-07-23T05:17:44.753949Z",
     "shell.execute_reply": "2020-07-23T05:17:44.753568Z"
    }
   },
   "outputs": [],
   "source": [
    "def feature_building(protein_a_list_new,protein_b_list_new):\n",
    "    x = np.unique(domain_id_list)\n",
    "    ## To avoid taking repeated domains from one protein of the pairs , lets reduced the domains of each protein from the pairs to their unique members\n",
    "    protein_a_list_unique=[]\n",
    "    protein_b_list_unique=[]\n",
    "    for i in np.arange(0,len(protein_a_list_new)):\n",
    "        protein_a_list_unique.append(np.unique(protein_a_list_new[i]))\n",
    "        protein_b_list_unique.append(np.unique(protein_b_list_new[i]))\n",
    "        \n",
    "    protein_feat_true=np.zeros(shape=(len(x),len(protein_a_list_unique)))\n",
    "    pair_a_b_array=[]\n",
    "    for i in np.arange(0,len(protein_a_list_unique)):\n",
    "        index_a=[]\n",
    "        \n",
    "        pair=[protein_a_list_unique[i],protein_b_list_unique[i]]\n",
    "        pair_a_b=np.concatenate(pair).ravel()\n",
    "        pair_a_b_array.append(pair_a_b)\n",
    "\n",
    "    j=0\n",
    "    for i in pair_a_b_array:  \n",
    "        array,index,counts=np.unique(i,return_index=True,return_counts=True)\n",
    "        \n",
    "        for k,m in zip(counts,array):\n",
    "            if k ==2:\n",
    "                protein_feat_true[get_indexes(m,x),j]=2\n",
    "                \n",
    "            if k==1:\n",
    "                protein_feat_true[get_indexes(m,x),j]=1\n",
    "        j=j+1\n",
    "    return protein_feat_true"
   ]
  },
  {
   "cell_type": "code",
   "execution_count": 9,
   "metadata": {
    "execution": {
     "iopub.execute_input": "2020-07-23T05:17:44.761904Z",
     "iopub.status.busy": "2020-07-23T05:17:44.761039Z",
     "iopub.status.idle": "2020-07-23T05:17:45.362770Z",
     "shell.execute_reply": "2020-07-23T05:17:45.363370Z"
    }
   },
   "outputs": [],
   "source": [
    "protein_feat_true=feature_building(protein_b_list_new=protein_b_list_new,protein_a_list_new=protein_a_list_new)\n",
    "protein_feat_true_pd=pd.DataFrame(protein_feat_true.T)\n",
    "\n",
    "protein_feat_non_true=feature_building(protein_b_list_new=protein_b_list_non_new,protein_a_list_new=protein_a_list_non_new)\n",
    "protein_feat_non_true_pd=pd.DataFrame(protein_feat_non_true.T)"
   ]
  },
  {
   "cell_type": "markdown",
   "metadata": {},
   "source": [
    "### How many ones and twos are in each dataset"
   ]
  },
  {
   "cell_type": "code",
   "execution_count": 10,
   "metadata": {
    "execution": {
     "iopub.execute_input": "2020-07-23T05:17:45.369579Z",
     "iopub.status.busy": "2020-07-23T05:17:45.368819Z",
     "iopub.status.idle": "2020-07-23T05:17:45.442526Z",
     "shell.execute_reply": "2020-07-23T05:17:45.441579Z"
    }
   },
   "outputs": [
    {
     "name": "stdout",
     "output_type": "stream",
     "text": [
      "fraction of twos in the SL array is 1.1125238397965671e-05\n",
      "fraction of ones in the SL array is 0.0009599491417673236\n",
      "fraction of twos in the PI array is 7.908576851595555e-06\n",
      "fraction of ones in the PI array is 0.000896832614970936\n"
     ]
    }
   ],
   "source": [
    "index_2_true=protein_feat_true_pd.where(protein_feat_true_pd==2)\n",
    "index_2_true_count=index_2_true.count(axis=1).sum()\n",
    "\n",
    "index_1_true=protein_feat_true_pd.where(protein_feat_true_pd==1)\n",
    "index_1_true_count=index_1_true.count(axis=1).sum()\n",
    "\n",
    "index_2_nontrue=protein_feat_non_true_pd.where(protein_feat_non_true_pd==2)\n",
    "index_2_nontrue_count=index_2_nontrue.count(axis=1).sum()\n",
    "\n",
    "index_1_nontrue=protein_feat_non_true_pd.where(protein_feat_non_true_pd==1)\n",
    "index_1_nontrue_count=index_1_nontrue.count(axis=1).sum()\n",
    "\n",
    "\n",
    "print('fraction of twos in the SL array is',index_2_true_count/(len(protein_feat_true_pd.index)*len(protein_feat_true_pd.columns)))\n",
    "print('fraction of ones in the SL array is',index_1_true_count/(len(protein_feat_true_pd.index)*len(protein_feat_true_pd.columns)))\n",
    "print('fraction of twos in the PI array is',index_2_nontrue_count/(len(protein_feat_non_true_pd.index)*len(protein_feat_non_true_pd.columns)))\n",
    "print('fraction of ones in the PI array is',index_1_nontrue_count/(len(protein_feat_non_true_pd.index)*len(protein_feat_non_true_pd.columns)))"
   ]
  },
  {
   "cell_type": "markdown",
   "metadata": {},
   "source": [
    "#### Bar plot to visualize these numbers"
   ]
  },
  {
   "cell_type": "code",
   "execution_count": 11,
   "metadata": {
    "execution": {
     "iopub.execute_input": "2020-07-23T05:17:45.476203Z",
     "iopub.status.busy": "2020-07-23T05:17:45.461879Z",
     "iopub.status.idle": "2020-07-23T05:17:45.895402Z",
     "shell.execute_reply": "2020-07-23T05:17:45.894532Z"
    }
   },
   "outputs": [
    {
     "data": {
      "text/plain": [
       "([0, 1, 2, 3],\n",
       " [Text(0, 0, ''), Text(0, 0, ''), Text(0, 0, ''), Text(0, 0, '')])"
      ]
     },
     "execution_count": 11,
     "metadata": {},
     "output_type": "execute_result"
    },
    {
     "data": {
      "image/png": "[encoded data removed]",
      "text/plain": [
       "<Figure size 432x288 with 1 Axes>"
      ]
     },
     "metadata": {
      "filenames": {
       "image/png": "/home/runner/work/jupyter-book/jupyter-book/mini_book/docs/_build/jupyter_execute/prot_domains2lethality-FEATURES-POSTPROCESSING_18_1.png"
      },
      "needs_background": "light"
     },
     "output_type": "display_data"
    }
   ],
   "source": [
    "plt.bar(['fraction of 2 in the nSL','fraction of 1 in the nSL'],[index_2_nontrue_count/(len(protein_feat_non_true_pd.index)*len(protein_feat_non_true_pd.columns)),index_1_nontrue_count/(len(protein_feat_non_true_pd.index)*len(protein_feat_non_true_pd.columns))],alpha=0.6,color=['blue','lightblue']), \n",
    "\n",
    "plt.bar(['fraction of 2 in SL ','fraction of 1 in SL'],[index_2_true_count/(len(protein_feat_true_pd.index)*len(protein_feat_true_pd.columns)),index_1_true_count/(len(protein_feat_true_pd.index)*len(protein_feat_true_pd.columns))],alpha=0.6,color=['coral','lightcoral'])\n",
    "\n",
    "plt.ylabel('Fraction from the population')\n",
    "plt.yscale('log')\n",
    "plt.xticks(rotation=40)"
   ]
  },
  {
   "cell_type": "markdown",
   "metadata": {},
   "source": [
    "#### Adding the labels(response variables) to each dataset"
   ]
  },
  {
   "cell_type": "code",
   "execution_count": 12,
   "metadata": {
    "execution": {
     "iopub.execute_input": "2020-07-23T05:17:45.899457Z",
     "iopub.status.busy": "2020-07-23T05:17:45.898544Z",
     "iopub.status.idle": "2020-07-23T05:17:45.902065Z",
     "shell.execute_reply": "2020-07-23T05:17:45.902748Z"
    }
   },
   "outputs": [],
   "source": [
    "protein_feat_true_pd['lethality']=np.ones(shape=(len(protein_a_list_new)))\n",
    "protein_feat_non_true_pd['lethality']=np.zeros(shape=(len(protein_a_list_non_new)))"
   ]
  },
  {
   "cell_type": "markdown",
   "metadata": {},
   "source": [
    "#### Joining both datasets"
   ]
  },
  {
   "cell_type": "code",
   "execution_count": 13,
   "metadata": {
    "execution": {
     "iopub.execute_input": "2020-07-23T05:17:45.907044Z",
     "iopub.status.busy": "2020-07-23T05:17:45.906316Z",
     "iopub.status.idle": "2020-07-23T05:17:45.939488Z",
     "shell.execute_reply": "2020-07-23T05:17:45.939865Z"
    }
   },
   "outputs": [
    {
     "name": "stdout",
     "output_type": "stream",
     "text": [
      "The number of features are: 3026\n",
      "The number of samples are: 834\n"
     ]
    }
   ],
   "source": [
    "feature_post=pd.concat([protein_feat_true_pd,protein_feat_non_true_pd],axis=0)\n",
    "feature_post=feature_post.set_index(np.arange(0,len(protein_a_list_new)+len(protein_a_list_non_new)))\n",
    "print('The number of features are:',feature_post.shape[1])\n",
    "print('The number of samples are:',feature_post.shape[0])"
   ]
  },
  {
   "cell_type": "markdown",
   "metadata": {},
   "source": [
    "### Postprocessing and exploration of the feature matrix of both datasets"
   ]
  },
  {
   "cell_type": "code",
   "execution_count": 14,
   "metadata": {
    "execution": {
     "iopub.execute_input": "2020-07-23T05:17:45.952471Z",
     "iopub.status.busy": "2020-07-23T05:17:45.951995Z",
     "iopub.status.idle": "2020-07-23T05:17:50.629895Z",
     "shell.execute_reply": "2020-07-23T05:17:50.629462Z"
    }
   },
   "outputs": [],
   "source": [
    "mean=feature_post.T.describe().loc['mean']\n",
    "std=feature_post.T.describe().loc['std']\n",
    "lethality=feature_post['lethality']\n",
    "\n",
    "corr_keys=pd.concat([mean,std,lethality],axis=1)"
   ]
  },
  {
   "cell_type": "markdown",
   "metadata": {},
   "source": [
    "### Viz of the stats"
   ]
  },
  {
   "cell_type": "code",
   "execution_count": 15,
   "metadata": {
    "execution": {
     "iopub.execute_input": "2020-07-23T05:17:50.647861Z",
     "iopub.status.busy": "2020-07-23T05:17:50.634169Z",
     "iopub.status.idle": "2020-07-23T05:17:52.273489Z",
     "shell.execute_reply": "2020-07-23T05:17:52.272785Z"
    }
   },
   "outputs": [
    {
     "data": {
      "text/plain": [
       "Text(0.5, 1.08, 'Pairplot to see data dependencies with Lethality')"
      ]
     },
     "execution_count": 15,
     "metadata": {},
     "output_type": "execute_result"
    },
    {
     "data": {
      "image/png": "[encoded data removed]",
      "text/plain": [
       "<Figure size 412x360 with 6 Axes>"
      ]
     },
     "metadata": {
      "filenames": {
       "image/png": "/home/runner/work/jupyter-book/jupyter-book/mini_book/docs/_build/jupyter_execute/prot_domains2lethality-FEATURES-POSTPROCESSING_26_1.png"
      },
      "needs_background": "light"
     },
     "output_type": "display_data"
    }
   ],
   "source": [
    "pair=sns.pairplot(corr_keys,hue='lethality',diag_kind='kde',kind='reg',palette='colorblind')\n",
    "pair.fig.suptitle('Pairplot to see data dependencies with Lethality',y=1.08)"
   ]
  },
  {
   "cell_type": "code",
   "execution_count": 16,
   "metadata": {
    "execution": {
     "iopub.execute_input": "2020-07-23T05:17:52.283220Z",
     "iopub.status.busy": "2020-07-23T05:17:52.282742Z",
     "iopub.status.idle": "2020-07-23T05:17:52.285976Z",
     "shell.execute_reply": "2020-07-23T05:17:52.285583Z"
    }
   },
   "outputs": [],
   "source": [
    "X, y = feature_post.drop(columns=[\"lethality\"]), feature_post[\"lethality\"]"
   ]
  },
  {
   "cell_type": "code",
   "execution_count": 17,
   "metadata": {
    "execution": {
     "iopub.execute_input": "2020-07-23T05:17:52.289956Z",
     "iopub.status.busy": "2020-07-23T05:17:52.289491Z",
     "iopub.status.idle": "2020-07-23T05:17:52.413014Z",
     "shell.execute_reply": "2020-07-23T05:17:52.412519Z"
    }
   },
   "outputs": [],
   "source": [
    "from sklearn.preprocessing import StandardScaler\n",
    "scaler = StandardScaler()\n",
    "x_sl=protein_feat_true_pd.drop(columns=['lethality'])\n",
    "x_nsl=protein_feat_non_true_pd.drop(columns=['lethality'])\n",
    "\n",
    "X_sl_scaled = scaler.fit_transform(x_sl)\n",
    "X_nsl_scaled = scaler.fit_transform(x_nsl)"
   ]
  },
  {
   "cell_type": "code",
   "execution_count": 18,
   "metadata": {
    "execution": {
     "iopub.execute_input": "2020-07-23T05:17:52.416531Z",
     "iopub.status.busy": "2020-07-23T05:17:52.416068Z",
     "iopub.status.idle": "2020-07-23T05:17:52.419534Z",
     "shell.execute_reply": "2020-07-23T05:17:52.419943Z"
    }
   },
   "outputs": [
    {
     "data": {
      "text/plain": [
       "(416, 3025)"
      ]
     },
     "execution_count": 18,
     "metadata": {},
     "output_type": "execute_result"
    }
   ],
   "source": [
    "np.shape(X_sl_scaled)"
   ]
  },
  {
   "cell_type": "markdown",
   "metadata": {},
   "source": [
    "## How redundant are each of the protein domains?"
   ]
  },
  {
   "cell_type": "code",
   "execution_count": 19,
   "metadata": {
    "execution": {
     "iopub.execute_input": "2020-07-23T05:17:52.427513Z",
     "iopub.status.busy": "2020-07-23T05:17:52.426374Z",
     "iopub.status.idle": "2020-07-23T05:17:52.428132Z",
     "shell.execute_reply": "2020-07-23T05:17:52.428665Z"
    }
   },
   "outputs": [],
   "source": [
    "def PCA_component_contribution(scaled_matrix,original_data):\n",
    "    from sklearn.decomposition import PCA\n",
    "\n",
    "    model = PCA(0.95).fit(scaled_matrix)\n",
    "    ## apply dimensionality reduction to X_train\n",
    "    output_pca = model.transform(scaled_matrix)\n",
    "    \n",
    "    total=sum(model.explained_variance_)\n",
    "\n",
    "\n",
    "   \n",
    "    # number of components , that it will be the number of main axes times the number of original components \n",
    "    n_pcs= model.components_.shape[0] # the amount of non redundant protein domains \n",
    "\n",
    "    # get the index of the most important feature on EACH component\n",
    "    # LIST COMPREHENSION HERE\n",
    "    most_important = [np.abs(model.components_[i]).argmax() for i in range(n_pcs)]\n",
    "\n",
    "    initial_feature_names = original_data.columns\n",
    "    # get the names\n",
    "    most_important_names = [initial_feature_names[most_important[i]] for i in range(n_pcs)]\n",
    "    \n",
    "\n",
    "    # LIST COMPREHENSION HERE AGAIN\n",
    "    dic = {'PC{}'.format(i): most_important_names[i] for i in range(n_pcs)}\n",
    "\n",
    "    # build the dataframe\n",
    "    df = pd.DataFrame(dic.items(),columns=['pca-component','domain-number'])\n",
    "\n",
    "    return df,model.components_"
   ]
  },
  {
   "cell_type": "code",
   "execution_count": 20,
   "metadata": {
    "execution": {
     "iopub.execute_input": "2020-07-23T05:17:52.431807Z",
     "iopub.status.busy": "2020-07-23T05:17:52.431338Z",
     "iopub.status.idle": "2020-07-23T05:17:53.144465Z",
     "shell.execute_reply": "2020-07-23T05:17:53.145130Z"
    }
   },
   "outputs": [],
   "source": [
    "df_sl,components_pca_nsl=PCA_component_contribution(X_nsl_scaled,x_nsl)\n",
    "df_nsl,components_pca_sl=PCA_component_contribution(X_sl_scaled,x_sl)"
   ]
  },
  {
   "cell_type": "code",
   "execution_count": 21,
   "metadata": {
    "execution": {
     "iopub.execute_input": "2020-07-23T05:17:53.147946Z",
     "iopub.status.busy": "2020-07-23T05:17:53.146997Z",
     "iopub.status.idle": "2020-07-23T05:17:53.158220Z",
     "shell.execute_reply": "2020-07-23T05:17:53.159069Z"
    }
   },
   "outputs": [
    {
     "data": {
      "text/html": [
       "<div>\n",
       "<style scoped>\n",
       "    .dataframe tbody tr th:only-of-type {\n",
       "        vertical-align: middle;\n",
       "    }\n",
       "\n",
       "    .dataframe tbody tr th {\n",
       "        vertical-align: top;\n",
       "    }\n",
       "\n",
       "    .dataframe thead th {\n",
       "        text-align: right;\n",
       "    }\n",
       "</style>\n",
       "<table border=\"1\" class=\"dataframe\">\n",
       "  <thead>\n",
       "    <tr style=\"text-align: right;\">\n",
       "      <th></th>\n",
       "      <th>pca-component</th>\n",
       "      <th>domain-number</th>\n",
       "    </tr>\n",
       "  </thead>\n",
       "  <tbody>\n",
       "    <tr>\n",
       "      <th>0</th>\n",
       "      <td>PC0</td>\n",
       "      <td>50</td>\n",
       "    </tr>\n",
       "    <tr>\n",
       "      <th>1</th>\n",
       "      <td>PC1</td>\n",
       "      <td>304</td>\n",
       "    </tr>\n",
       "    <tr>\n",
       "      <th>2</th>\n",
       "      <td>PC2</td>\n",
       "      <td>165</td>\n",
       "    </tr>\n",
       "    <tr>\n",
       "      <th>3</th>\n",
       "      <td>PC3</td>\n",
       "      <td>993</td>\n",
       "    </tr>\n",
       "    <tr>\n",
       "      <th>4</th>\n",
       "      <td>PC4</td>\n",
       "      <td>1633</td>\n",
       "    </tr>\n",
       "  </tbody>\n",
       "</table>\n",
       "</div>"
      ],
      "text/plain": [
       "  pca-component  domain-number\n",
       "0           PC0             50\n",
       "1           PC1            304\n",
       "2           PC2            165\n",
       "3           PC3            993\n",
       "4           PC4           1633"
      ]
     },
     "execution_count": 21,
     "metadata": {},
     "output_type": "execute_result"
    }
   ],
   "source": [
    "df_sl.head()"
   ]
  },
  {
   "cell_type": "markdown",
   "metadata": {},
   "source": [
    "## which are the shared domains between nSL and SL pairs , in the PCA reduced samples"
   ]
  },
  {
   "cell_type": "code",
   "execution_count": 22,
   "metadata": {
    "execution": {
     "iopub.execute_input": "2020-07-23T05:17:53.162123Z",
     "iopub.status.busy": "2020-07-23T05:17:53.160909Z",
     "iopub.status.idle": "2020-07-23T05:17:53.195621Z",
     "shell.execute_reply": "2020-07-23T05:17:53.196629Z"
    }
   },
   "outputs": [
    {
     "data": {
      "text/html": [
       "<div>\n",
       "<style scoped>\n",
       "    .dataframe tbody tr th:only-of-type {\n",
       "        vertical-align: middle;\n",
       "    }\n",
       "\n",
       "    .dataframe tbody tr th {\n",
       "        vertical-align: top;\n",
       "    }\n",
       "\n",
       "    .dataframe thead th {\n",
       "        text-align: right;\n",
       "    }\n",
       "</style>\n",
       "<table border=\"1\" class=\"dataframe\">\n",
       "  <thead>\n",
       "    <tr style=\"text-align: right;\">\n",
       "      <th></th>\n",
       "      <th>pca-component_x</th>\n",
       "      <th>domain-number</th>\n",
       "      <th>pca-component_y</th>\n",
       "      <th>domain-description</th>\n",
       "    </tr>\n",
       "  </thead>\n",
       "  <tbody>\n",
       "    <tr>\n",
       "      <th>0</th>\n",
       "      <td>PC2</td>\n",
       "      <td>165</td>\n",
       "      <td>PC41</td>\n",
       "      <td>Acyltransferase; Phospholipid/glycerol acyltra...</td>\n",
       "    </tr>\n",
       "    <tr>\n",
       "      <th>1</th>\n",
       "      <td>PC5</td>\n",
       "      <td>55</td>\n",
       "      <td>PC12</td>\n",
       "      <td>ADK</td>\n",
       "    </tr>\n",
       "    <tr>\n",
       "      <th>2</th>\n",
       "      <td>PC6</td>\n",
       "      <td>488</td>\n",
       "      <td>PC14</td>\n",
       "      <td>Cnd1_N; Condensin complex subunit 1, N-terminal</td>\n",
       "    </tr>\n",
       "    <tr>\n",
       "      <th>3</th>\n",
       "      <td>PC7</td>\n",
       "      <td>2598</td>\n",
       "      <td>PC161</td>\n",
       "      <td>TIM; Triosephosphate isomerase</td>\n",
       "    </tr>\n",
       "    <tr>\n",
       "      <th>4</th>\n",
       "      <td>PC10</td>\n",
       "      <td>952</td>\n",
       "      <td>PC61</td>\n",
       "      <td>G6PD_C; Glucose-6-phosphate dehydrogenase, C-t...</td>\n",
       "    </tr>\n",
       "    <tr>\n",
       "      <th>5</th>\n",
       "      <td>PC11</td>\n",
       "      <td>83</td>\n",
       "      <td>PC36</td>\n",
       "      <td>ANAPC1; Anaphase-promoting complex subunit 1</td>\n",
       "    </tr>\n",
       "    <tr>\n",
       "      <th>6</th>\n",
       "      <td>PC16</td>\n",
       "      <td>83</td>\n",
       "      <td>PC36</td>\n",
       "      <td>ANAPC1; Anaphase-promoting complex subunit 1</td>\n",
       "    </tr>\n",
       "    <tr>\n",
       "      <th>7</th>\n",
       "      <td>PC12</td>\n",
       "      <td>62</td>\n",
       "      <td>PC2</td>\n",
       "      <td>AHSA1; Activator of Hsp90 ATPase homologue 1-like</td>\n",
       "    </tr>\n",
       "    <tr>\n",
       "      <th>8</th>\n",
       "      <td>PC17</td>\n",
       "      <td>926</td>\n",
       "      <td>PC29</td>\n",
       "      <td>Flp_C; Recombinase Flp protein</td>\n",
       "    </tr>\n",
       "    <tr>\n",
       "      <th>9</th>\n",
       "      <td>PC18</td>\n",
       "      <td>383</td>\n",
       "      <td>PC42</td>\n",
       "      <td>COPI_C; Coatomer, alpha subunit, C-terminal</td>\n",
       "    </tr>\n",
       "    <tr>\n",
       "      <th>10</th>\n",
       "      <td>PC25</td>\n",
       "      <td>274</td>\n",
       "      <td>PC30</td>\n",
       "      <td>BOP1NT; BOP1, N-terminal domain</td>\n",
       "    </tr>\n",
       "    <tr>\n",
       "      <th>11</th>\n",
       "      <td>PC35</td>\n",
       "      <td>1253</td>\n",
       "      <td>PC10</td>\n",
       "      <td>KA1; Kinase associated domain 1 (KA1)</td>\n",
       "    </tr>\n",
       "    <tr>\n",
       "      <th>12</th>\n",
       "      <td>PC39</td>\n",
       "      <td>8</td>\n",
       "      <td>PC23</td>\n",
       "      <td>3Beta_HSD; 3-beta hydroxysteroid dehydrogenase...</td>\n",
       "    </tr>\n",
       "    <tr>\n",
       "      <th>13</th>\n",
       "      <td>PC40</td>\n",
       "      <td>257</td>\n",
       "      <td>PC48</td>\n",
       "      <td>BAR_2; BAR domain-containing family</td>\n",
       "    </tr>\n",
       "    <tr>\n",
       "      <th>14</th>\n",
       "      <td>PC44</td>\n",
       "      <td>803</td>\n",
       "      <td>PC25</td>\n",
       "      <td>ELFV_dehydrog; Glutamate/phenylalanine/leucine...</td>\n",
       "    </tr>\n",
       "    <tr>\n",
       "      <th>15</th>\n",
       "      <td>PC45</td>\n",
       "      <td>803</td>\n",
       "      <td>PC25</td>\n",
       "      <td>ELFV_dehydrog; Glutamate/phenylalanine/leucine...</td>\n",
       "    </tr>\n",
       "    <tr>\n",
       "      <th>16</th>\n",
       "      <td>PC48</td>\n",
       "      <td>599</td>\n",
       "      <td>PC103</td>\n",
       "      <td>DLIC; Dynein family light intermediate chain</td>\n",
       "    </tr>\n",
       "    <tr>\n",
       "      <th>17</th>\n",
       "      <td>PC50</td>\n",
       "      <td>2568</td>\n",
       "      <td>PC127</td>\n",
       "      <td>TEA; TEA/ATTS domain</td>\n",
       "    </tr>\n",
       "    <tr>\n",
       "      <th>18</th>\n",
       "      <td>PC56</td>\n",
       "      <td>1729</td>\n",
       "      <td>PC65</td>\n",
       "      <td>PEX11; Peroxisomal biogenesis factor 11</td>\n",
       "    </tr>\n",
       "    <tr>\n",
       "      <th>19</th>\n",
       "      <td>PC57</td>\n",
       "      <td>1072</td>\n",
       "      <td>PC115</td>\n",
       "      <td>Glycos_transf_1; Glycosyl transferase, family 1</td>\n",
       "    </tr>\n",
       "    <tr>\n",
       "      <th>20</th>\n",
       "      <td>PC62</td>\n",
       "      <td>410</td>\n",
       "      <td>PC9</td>\n",
       "      <td>CRAL_TRIO; CRAL-TRIO lipid binding domain</td>\n",
       "    </tr>\n",
       "    <tr>\n",
       "      <th>21</th>\n",
       "      <td>PC67</td>\n",
       "      <td>841</td>\n",
       "      <td>PC71</td>\n",
       "      <td>Endonuclease_NS; DNA/RNA non-specific endonucl...</td>\n",
       "    </tr>\n",
       "    <tr>\n",
       "      <th>22</th>\n",
       "      <td>PC68</td>\n",
       "      <td>82</td>\n",
       "      <td>PC8</td>\n",
       "      <td>ANAPC10; APC10/DOC domain</td>\n",
       "    </tr>\n",
       "    <tr>\n",
       "      <th>23</th>\n",
       "      <td>PC76</td>\n",
       "      <td>80</td>\n",
       "      <td>PC114</td>\n",
       "      <td>AMPKBI; Association with the SNF1 complex (ASC...</td>\n",
       "    </tr>\n",
       "    <tr>\n",
       "      <th>24</th>\n",
       "      <td>PC78</td>\n",
       "      <td>622</td>\n",
       "      <td>PC278</td>\n",
       "      <td>DNA_topoisoIV; DNA topoisomerase, type IIA, su...</td>\n",
       "    </tr>\n",
       "    <tr>\n",
       "      <th>25</th>\n",
       "      <td>PC78</td>\n",
       "      <td>622</td>\n",
       "      <td>PC279</td>\n",
       "      <td>DNA_topoisoIV; DNA topoisomerase, type IIA, su...</td>\n",
       "    </tr>\n",
       "    <tr>\n",
       "      <th>26</th>\n",
       "      <td>PC84</td>\n",
       "      <td>0</td>\n",
       "      <td>PC142</td>\n",
       "      <td>1-cysPrx_C; Peroxiredoxin, C-terminal</td>\n",
       "    </tr>\n",
       "    <tr>\n",
       "      <th>27</th>\n",
       "      <td>PC84</td>\n",
       "      <td>0</td>\n",
       "      <td>PC145</td>\n",
       "      <td>1-cysPrx_C; Peroxiredoxin, C-terminal</td>\n",
       "    </tr>\n",
       "    <tr>\n",
       "      <th>28</th>\n",
       "      <td>PC115</td>\n",
       "      <td>824</td>\n",
       "      <td>PC189</td>\n",
       "      <td>ETF; Electron transfer flavoprotein, alpha/bet...</td>\n",
       "    </tr>\n",
       "    <tr>\n",
       "      <th>29</th>\n",
       "      <td>PC115</td>\n",
       "      <td>824</td>\n",
       "      <td>PC195</td>\n",
       "      <td>ETF; Electron transfer flavoprotein, alpha/bet...</td>\n",
       "    </tr>\n",
       "    <tr>\n",
       "      <th>30</th>\n",
       "      <td>PC131</td>\n",
       "      <td>824</td>\n",
       "      <td>PC189</td>\n",
       "      <td>ETF; Electron transfer flavoprotein, alpha/bet...</td>\n",
       "    </tr>\n",
       "    <tr>\n",
       "      <th>31</th>\n",
       "      <td>PC131</td>\n",
       "      <td>824</td>\n",
       "      <td>PC195</td>\n",
       "      <td>ETF; Electron transfer flavoprotein, alpha/bet...</td>\n",
       "    </tr>\n",
       "    <tr>\n",
       "      <th>32</th>\n",
       "      <td>PC136</td>\n",
       "      <td>109</td>\n",
       "      <td>PC147</td>\n",
       "      <td>ATG13; Autophagy-related protein 13</td>\n",
       "    </tr>\n",
       "    <tr>\n",
       "      <th>33</th>\n",
       "      <td>PC142</td>\n",
       "      <td>11</td>\n",
       "      <td>PC140</td>\n",
       "      <td>5-FTHF_cyc-lig; 5-formyltetrahydrofolate cyclo...</td>\n",
       "    </tr>\n",
       "    <tr>\n",
       "      <th>34</th>\n",
       "      <td>PC145</td>\n",
       "      <td>11</td>\n",
       "      <td>PC140</td>\n",
       "      <td>5-FTHF_cyc-lig; 5-formyltetrahydrofolate cyclo...</td>\n",
       "    </tr>\n",
       "    <tr>\n",
       "      <th>35</th>\n",
       "      <td>PC150</td>\n",
       "      <td>1582</td>\n",
       "      <td>PC148</td>\n",
       "      <td>NPCC; Nuclear pore complex component</td>\n",
       "    </tr>\n",
       "    <tr>\n",
       "      <th>36</th>\n",
       "      <td>PC156</td>\n",
       "      <td>381</td>\n",
       "      <td>PC139</td>\n",
       "      <td>COP-gamma_platf; Coatomer, gamma subunit, appe...</td>\n",
       "    </tr>\n",
       "    <tr>\n",
       "      <th>37</th>\n",
       "      <td>PC162</td>\n",
       "      <td>1435</td>\n",
       "      <td>PC187</td>\n",
       "      <td>Med13_C; Mediator complex, subunit Med13</td>\n",
       "    </tr>\n",
       "    <tr>\n",
       "      <th>38</th>\n",
       "      <td>PC163</td>\n",
       "      <td>2228</td>\n",
       "      <td>PC230</td>\n",
       "      <td>Ribosomal_S21e; Ribosomal protein S21e</td>\n",
       "    </tr>\n",
       "    <tr>\n",
       "      <th>39</th>\n",
       "      <td>PC181</td>\n",
       "      <td>376</td>\n",
       "      <td>PC124</td>\n",
       "      <td>COG2; Conserved oligomeric Golgi complex, subu...</td>\n",
       "    </tr>\n",
       "    <tr>\n",
       "      <th>40</th>\n",
       "      <td>PC184</td>\n",
       "      <td>624</td>\n",
       "      <td>PC229</td>\n",
       "      <td>DPPIV_N; Dipeptidylpeptidase IV, N-terminal do...</td>\n",
       "    </tr>\n",
       "    <tr>\n",
       "      <th>41</th>\n",
       "      <td>PC258</td>\n",
       "      <td>624</td>\n",
       "      <td>PC229</td>\n",
       "      <td>DPPIV_N; Dipeptidylpeptidase IV, N-terminal do...</td>\n",
       "    </tr>\n",
       "    <tr>\n",
       "      <th>42</th>\n",
       "      <td>PC199</td>\n",
       "      <td>1566</td>\n",
       "      <td>PC117</td>\n",
       "      <td>NIF; FCP1 homology domain</td>\n",
       "    </tr>\n",
       "    <tr>\n",
       "      <th>43</th>\n",
       "      <td>PC208</td>\n",
       "      <td>1843</td>\n",
       "      <td>PC141</td>\n",
       "      <td>PWWP; PWWP domain</td>\n",
       "    </tr>\n",
       "    <tr>\n",
       "      <th>44</th>\n",
       "      <td>PC209</td>\n",
       "      <td>1843</td>\n",
       "      <td>PC141</td>\n",
       "      <td>PWWP; PWWP domain</td>\n",
       "    </tr>\n",
       "    <tr>\n",
       "      <th>45</th>\n",
       "      <td>PC213</td>\n",
       "      <td>1843</td>\n",
       "      <td>PC141</td>\n",
       "      <td>PWWP; PWWP domain</td>\n",
       "    </tr>\n",
       "    <tr>\n",
       "      <th>46</th>\n",
       "      <td>PC210</td>\n",
       "      <td>1743</td>\n",
       "      <td>PC172</td>\n",
       "      <td>PHD_2</td>\n",
       "    </tr>\n",
       "    <tr>\n",
       "      <th>47</th>\n",
       "      <td>PC210</td>\n",
       "      <td>1743</td>\n",
       "      <td>PC194</td>\n",
       "      <td>PHD_2</td>\n",
       "    </tr>\n",
       "    <tr>\n",
       "      <th>48</th>\n",
       "      <td>PC211</td>\n",
       "      <td>1743</td>\n",
       "      <td>PC172</td>\n",
       "      <td>PHD_2</td>\n",
       "    </tr>\n",
       "    <tr>\n",
       "      <th>49</th>\n",
       "      <td>PC211</td>\n",
       "      <td>1743</td>\n",
       "      <td>PC194</td>\n",
       "      <td>PHD_2</td>\n",
       "    </tr>\n",
       "    <tr>\n",
       "      <th>50</th>\n",
       "      <td>PC253</td>\n",
       "      <td>1857</td>\n",
       "      <td>PC123</td>\n",
       "      <td>Patatin; Patatin-like phospholipase domain</td>\n",
       "    </tr>\n",
       "    <tr>\n",
       "      <th>51</th>\n",
       "      <td>PC272</td>\n",
       "      <td>1060</td>\n",
       "      <td>PC99</td>\n",
       "      <td>Glyco_hydro_81; Endo-1,3(4)-beta-glucanase</td>\n",
       "    </tr>\n",
       "    <tr>\n",
       "      <th>52</th>\n",
       "      <td>PC274</td>\n",
       "      <td>1627</td>\n",
       "      <td>PC192</td>\n",
       "      <td>Not3; CCR4-Not complex component, Not N-termin...</td>\n",
       "    </tr>\n",
       "    <tr>\n",
       "      <th>53</th>\n",
       "      <td>PC274</td>\n",
       "      <td>1627</td>\n",
       "      <td>PC193</td>\n",
       "      <td>Not3; CCR4-Not complex component, Not N-termin...</td>\n",
       "    </tr>\n",
       "    <tr>\n",
       "      <th>54</th>\n",
       "      <td>PC283</td>\n",
       "      <td>85</td>\n",
       "      <td>PC72</td>\n",
       "      <td>ANAPC3</td>\n",
       "    </tr>\n",
       "    <tr>\n",
       "      <th>55</th>\n",
       "      <td>PC283</td>\n",
       "      <td>85</td>\n",
       "      <td>PC150</td>\n",
       "      <td>ANAPC3</td>\n",
       "    </tr>\n",
       "  </tbody>\n",
       "</table>\n",
       "</div>"
      ],
      "text/plain": [
       "   pca-component_x  domain-number pca-component_y  \\\n",
       "0              PC2            165            PC41   \n",
       "1              PC5             55            PC12   \n",
       "2              PC6            488            PC14   \n",
       "3              PC7           2598           PC161   \n",
       "4             PC10            952            PC61   \n",
       "5             PC11             83            PC36   \n",
       "6             PC16             83            PC36   \n",
       "7             PC12             62             PC2   \n",
       "8             PC17            926            PC29   \n",
       "9             PC18            383            PC42   \n",
       "10            PC25            274            PC30   \n",
       "11            PC35           1253            PC10   \n",
       "12            PC39              8            PC23   \n",
       "13            PC40            257            PC48   \n",
       "14            PC44            803            PC25   \n",
       "15            PC45            803            PC25   \n",
       "16            PC48            599           PC103   \n",
       "17            PC50           2568           PC127   \n",
       "18            PC56           1729            PC65   \n",
       "19            PC57           1072           PC115   \n",
       "20            PC62            410             PC9   \n",
       "21            PC67            841            PC71   \n",
       "22            PC68             82             PC8   \n",
       "23            PC76             80           PC114   \n",
       "24            PC78            622           PC278   \n",
       "25            PC78            622           PC279   \n",
       "26            PC84              0           PC142   \n",
       "27            PC84              0           PC145   \n",
       "28           PC115            824           PC189   \n",
       "29           PC115            824           PC195   \n",
       "30           PC131            824           PC189   \n",
       "31           PC131            824           PC195   \n",
       "32           PC136            109           PC147   \n",
       "33           PC142             11           PC140   \n",
       "34           PC145             11           PC140   \n",
       "35           PC150           1582           PC148   \n",
       "36           PC156            381           PC139   \n",
       "37           PC162           1435           PC187   \n",
       "38           PC163           2228           PC230   \n",
       "39           PC181            376           PC124   \n",
       "40           PC184            624           PC229   \n",
       "41           PC258            624           PC229   \n",
       "42           PC199           1566           PC117   \n",
       "43           PC208           1843           PC141   \n",
       "44           PC209           1843           PC141   \n",
       "45           PC213           1843           PC141   \n",
       "46           PC210           1743           PC172   \n",
       "47           PC210           1743           PC194   \n",
       "48           PC211           1743           PC172   \n",
       "49           PC211           1743           PC194   \n",
       "50           PC253           1857           PC123   \n",
       "51           PC272           1060            PC99   \n",
       "52           PC274           1627           PC192   \n",
       "53           PC274           1627           PC193   \n",
       "54           PC283             85            PC72   \n",
       "55           PC283             85           PC150   \n",
       "\n",
       "                                   domain-description  \n",
       "0   Acyltransferase; Phospholipid/glycerol acyltra...  \n",
       "1                                                 ADK  \n",
       "2     Cnd1_N; Condensin complex subunit 1, N-terminal  \n",
       "3                      TIM; Triosephosphate isomerase  \n",
       "4   G6PD_C; Glucose-6-phosphate dehydrogenase, C-t...  \n",
       "5        ANAPC1; Anaphase-promoting complex subunit 1  \n",
       "6        ANAPC1; Anaphase-promoting complex subunit 1  \n",
       "7   AHSA1; Activator of Hsp90 ATPase homologue 1-like  \n",
       "8                      Flp_C; Recombinase Flp protein  \n",
       "9         COPI_C; Coatomer, alpha subunit, C-terminal  \n",
       "10                    BOP1NT; BOP1, N-terminal domain  \n",
       "11              KA1; Kinase associated domain 1 (KA1)  \n",
       "12  3Beta_HSD; 3-beta hydroxysteroid dehydrogenase...  \n",
       "13                BAR_2; BAR domain-containing family  \n",
       "14  ELFV_dehydrog; Glutamate/phenylalanine/leucine...  \n",
       "15  ELFV_dehydrog; Glutamate/phenylalanine/leucine...  \n",
       "16       DLIC; Dynein family light intermediate chain  \n",
       "17                               TEA; TEA/ATTS domain  \n",
       "18            PEX11; Peroxisomal biogenesis factor 11  \n",
       "19    Glycos_transf_1; Glycosyl transferase, family 1  \n",
       "20          CRAL_TRIO; CRAL-TRIO lipid binding domain  \n",
       "21  Endonuclease_NS; DNA/RNA non-specific endonucl...  \n",
       "22                          ANAPC10; APC10/DOC domain  \n",
       "23  AMPKBI; Association with the SNF1 complex (ASC...  \n",
       "24  DNA_topoisoIV; DNA topoisomerase, type IIA, su...  \n",
       "25  DNA_topoisoIV; DNA topoisomerase, type IIA, su...  \n",
       "26              1-cysPrx_C; Peroxiredoxin, C-terminal  \n",
       "27              1-cysPrx_C; Peroxiredoxin, C-terminal  \n",
       "28  ETF; Electron transfer flavoprotein, alpha/bet...  \n",
       "29  ETF; Electron transfer flavoprotein, alpha/bet...  \n",
       "30  ETF; Electron transfer flavoprotein, alpha/bet...  \n",
       "31  ETF; Electron transfer flavoprotein, alpha/bet...  \n",
       "32                ATG13; Autophagy-related protein 13  \n",
       "33  5-FTHF_cyc-lig; 5-formyltetrahydrofolate cyclo...  \n",
       "34  5-FTHF_cyc-lig; 5-formyltetrahydrofolate cyclo...  \n",
       "35               NPCC; Nuclear pore complex component  \n",
       "36  COP-gamma_platf; Coatomer, gamma subunit, appe...  \n",
       "37           Med13_C; Mediator complex, subunit Med13  \n",
       "38             Ribosomal_S21e; Ribosomal protein S21e  \n",
       "39  COG2; Conserved oligomeric Golgi complex, subu...  \n",
       "40  DPPIV_N; Dipeptidylpeptidase IV, N-terminal do...  \n",
       "41  DPPIV_N; Dipeptidylpeptidase IV, N-terminal do...  \n",
       "42                          NIF; FCP1 homology domain  \n",
       "43                                  PWWP; PWWP domain  \n",
       "44                                  PWWP; PWWP domain  \n",
       "45                                  PWWP; PWWP domain  \n",
       "46                                              PHD_2  \n",
       "47                                              PHD_2  \n",
       "48                                              PHD_2  \n",
       "49                                              PHD_2  \n",
       "50         Patatin; Patatin-like phospholipase domain  \n",
       "51         Glyco_hydro_81; Endo-1,3(4)-beta-glucanase  \n",
       "52  Not3; CCR4-Not complex component, Not N-termin...  \n",
       "53  Not3; CCR4-Not complex component, Not N-termin...  \n",
       "54                                             ANAPC3  \n",
       "55                                             ANAPC3  "
      ]
     },
     "execution_count": 22,
     "metadata": {},
     "output_type": "execute_result"
    }
   ],
   "source": [
    "df_shared_domains=pd.merge(df_sl,df_nsl,how='inner',on='domain-number')\n",
    "domains_name=np.unique(data_domains['domain-name'])\n",
    "domains_description=np.unique(data_domains['domain-descrip'])\n",
    "\n",
    "df_shared_domains['domain-description']=domains_description[df_shared_domains['domain-number']]\n",
    "\n",
    "\n",
    "df_shared_domains"
   ]
  },
  {
   "cell_type": "code",
   "execution_count": 23,
   "metadata": {
    "execution": {
     "iopub.execute_input": "2020-07-23T05:17:53.199803Z",
     "iopub.status.busy": "2020-07-23T05:17:53.198760Z",
     "iopub.status.idle": "2020-07-23T05:17:53.206710Z",
     "shell.execute_reply": "2020-07-23T05:17:53.207350Z"
    }
   },
   "outputs": [
    {
     "name": "stdout",
     "output_type": "stream",
     "text": [
      "The number of shared domains between SL and nSL pairs,after PCA, is =  56 out of 567 so the 9.876543209876543 %\n"
     ]
    }
   ],
   "source": [
    "print('The number of shared domains between SL and nSL pairs,after PCA, is = ',len(df_shared_domains), 'out of', len(df_sl)+len(df_nsl), 'so the',100*len(df_shared_domains)/(len(df_sl)+len(df_nsl)),'%')"
   ]
  },
  {
   "cell_type": "markdown",
   "metadata": {},
   "source": [
    "## Domains exclusive to SL"
   ]
  },
  {
   "cell_type": "code",
   "execution_count": 24,
   "metadata": {
    "execution": {
     "iopub.execute_input": "2020-07-23T05:17:53.209997Z",
     "iopub.status.busy": "2020-07-23T05:17:53.209102Z",
     "iopub.status.idle": "2020-07-23T05:17:53.236634Z",
     "shell.execute_reply": "2020-07-23T05:17:53.237240Z"
    }
   },
   "outputs": [
    {
     "data": {
      "text/html": [
       "<div>\n",
       "<style scoped>\n",
       "    .dataframe tbody tr th:only-of-type {\n",
       "        vertical-align: middle;\n",
       "    }\n",
       "\n",
       "    .dataframe tbody tr th {\n",
       "        vertical-align: top;\n",
       "    }\n",
       "\n",
       "    .dataframe thead th {\n",
       "        text-align: right;\n",
       "    }\n",
       "</style>\n",
       "<table border=\"1\" class=\"dataframe\">\n",
       "  <thead>\n",
       "    <tr style=\"text-align: right;\">\n",
       "      <th></th>\n",
       "      <th>pca-component_x</th>\n",
       "      <th>domain-number</th>\n",
       "      <th>pca-component_y</th>\n",
       "      <th>domain-description</th>\n",
       "    </tr>\n",
       "  </thead>\n",
       "  <tbody>\n",
       "    <tr>\n",
       "      <th>0</th>\n",
       "      <td>PC0</td>\n",
       "      <td>50</td>\n",
       "      <td>NaN</td>\n",
       "      <td>ACT_7; GATS-like  ACT domain</td>\n",
       "    </tr>\n",
       "    <tr>\n",
       "      <th>1</th>\n",
       "      <td>PC1</td>\n",
       "      <td>304</td>\n",
       "      <td>NaN</td>\n",
       "      <td>Bromodomain</td>\n",
       "    </tr>\n",
       "    <tr>\n",
       "      <th>3</th>\n",
       "      <td>PC3</td>\n",
       "      <td>993</td>\n",
       "      <td>NaN</td>\n",
       "      <td>GNAT_acetyltr_2; GNAT domain</td>\n",
       "    </tr>\n",
       "    <tr>\n",
       "      <th>4</th>\n",
       "      <td>PC4</td>\n",
       "      <td>1633</td>\n",
       "      <td>NaN</td>\n",
       "      <td>Nrap_D3</td>\n",
       "    </tr>\n",
       "    <tr>\n",
       "      <th>8</th>\n",
       "      <td>PC8</td>\n",
       "      <td>122</td>\n",
       "      <td>NaN</td>\n",
       "      <td>ATP-synt_10; ATPase assembly factor ATP10</td>\n",
       "    </tr>\n",
       "    <tr>\n",
       "      <th>...</th>\n",
       "      <td>...</td>\n",
       "      <td>...</td>\n",
       "      <td>...</td>\n",
       "      <td>...</td>\n",
       "    </tr>\n",
       "    <tr>\n",
       "      <th>286</th>\n",
       "      <td>PC279</td>\n",
       "      <td>1063</td>\n",
       "      <td>NaN</td>\n",
       "      <td>Glyco_transf_20; Glycosyl transferase, family 20</td>\n",
       "    </tr>\n",
       "    <tr>\n",
       "      <th>287</th>\n",
       "      <td>PC280</td>\n",
       "      <td>2982</td>\n",
       "      <td>NaN</td>\n",
       "      <td>zf-CCHC; Zinc finger, CCHC-type</td>\n",
       "    </tr>\n",
       "    <tr>\n",
       "      <th>288</th>\n",
       "      <td>PC281</td>\n",
       "      <td>69</td>\n",
       "      <td>NaN</td>\n",
       "      <td>AIRS; PurM-like, N-terminal domain</td>\n",
       "    </tr>\n",
       "    <tr>\n",
       "      <th>289</th>\n",
       "      <td>PC282</td>\n",
       "      <td>2911</td>\n",
       "      <td>NaN</td>\n",
       "      <td>eIF_4G1; Eukaryotic translation initiation fac...</td>\n",
       "    </tr>\n",
       "    <tr>\n",
       "      <th>292</th>\n",
       "      <td>PC284</td>\n",
       "      <td>2959</td>\n",
       "      <td>NaN</td>\n",
       "      <td>ubiquitin; Ubiquitin domain</td>\n",
       "    </tr>\n",
       "  </tbody>\n",
       "</table>\n",
       "<p>237 rows × 4 columns</p>\n",
       "</div>"
      ],
      "text/plain": [
       "    pca-component_x  domain-number pca-component_y  \\\n",
       "0               PC0             50             NaN   \n",
       "1               PC1            304             NaN   \n",
       "3               PC3            993             NaN   \n",
       "4               PC4           1633             NaN   \n",
       "8               PC8            122             NaN   \n",
       "..              ...            ...             ...   \n",
       "286           PC279           1063             NaN   \n",
       "287           PC280           2982             NaN   \n",
       "288           PC281             69             NaN   \n",
       "289           PC282           2911             NaN   \n",
       "292           PC284           2959             NaN   \n",
       "\n",
       "                                    domain-description  \n",
       "0                         ACT_7; GATS-like  ACT domain  \n",
       "1                                          Bromodomain  \n",
       "3                         GNAT_acetyltr_2; GNAT domain  \n",
       "4                                              Nrap_D3  \n",
       "8            ATP-synt_10; ATPase assembly factor ATP10  \n",
       "..                                                 ...  \n",
       "286   Glyco_transf_20; Glycosyl transferase, family 20  \n",
       "287                    zf-CCHC; Zinc finger, CCHC-type  \n",
       "288                 AIRS; PurM-like, N-terminal domain  \n",
       "289  eIF_4G1; Eukaryotic translation initiation fac...  \n",
       "292                        ubiquitin; Ubiquitin domain  \n",
       "\n",
       "[237 rows x 4 columns]"
      ]
     },
     "execution_count": 24,
     "metadata": {},
     "output_type": "execute_result"
    }
   ],
   "source": [
    "df_sl_exclusive=pd.merge(df_sl,df_nsl,how='left',on='domain-number')\n",
    "\n",
    "domains_name=np.unique(data_domains['domain-name'])\n",
    "domains_description=np.unique(data_domains['domain-descrip'])\n",
    "\n",
    "df_sl_exclusive['domain-description']=domains_description[df_sl_exclusive['domain-number']]\n",
    "df_sl_exclusive[pd.isnull(df_sl_exclusive['pca-component_y'])]"
   ]
  },
  {
   "cell_type": "code",
   "execution_count": 25,
   "metadata": {
    "execution": {
     "iopub.execute_input": "2020-07-23T05:17:53.239933Z",
     "iopub.status.busy": "2020-07-23T05:17:53.239065Z",
     "iopub.status.idle": "2020-07-23T05:17:53.245265Z",
     "shell.execute_reply": "2020-07-23T05:17:53.245941Z"
    }
   },
   "outputs": [
    {
     "name": "stdout",
     "output_type": "stream",
     "text": [
      "The number of exclusive domains from SL pairs, after PCA, is =  293 out of 567 so the 51.67548500881834 %\n"
     ]
    }
   ],
   "source": [
    "print('The number of exclusive domains from SL pairs, after PCA, is = ',len(df_sl_exclusive), 'out of', len(df_sl)+len(df_nsl), 'so the',100*len(df_sl_exclusive)/(len(df_sl)+len(df_nsl)),'%')"
   ]
  },
  {
   "cell_type": "code",
   "execution_count": 26,
   "metadata": {
    "execution": {
     "iopub.execute_input": "2020-07-23T05:17:53.249196Z",
     "iopub.status.busy": "2020-07-23T05:17:53.248055Z",
     "iopub.status.idle": "2020-07-23T05:17:53.276427Z",
     "shell.execute_reply": "2020-07-23T05:17:53.275835Z"
    }
   },
   "outputs": [
    {
     "data": {
      "text/html": [
       "<div>\n",
       "<style scoped>\n",
       "    .dataframe tbody tr th:only-of-type {\n",
       "        vertical-align: middle;\n",
       "    }\n",
       "\n",
       "    .dataframe tbody tr th {\n",
       "        vertical-align: top;\n",
       "    }\n",
       "\n",
       "    .dataframe thead th {\n",
       "        text-align: right;\n",
       "    }\n",
       "</style>\n",
       "<table border=\"1\" class=\"dataframe\">\n",
       "  <thead>\n",
       "    <tr style=\"text-align: right;\">\n",
       "      <th></th>\n",
       "      <th>pca-component_x</th>\n",
       "      <th>domain-number</th>\n",
       "      <th>pca-component_y</th>\n",
       "      <th>domain-description</th>\n",
       "    </tr>\n",
       "  </thead>\n",
       "  <tbody>\n",
       "    <tr>\n",
       "      <th>56</th>\n",
       "      <td>NaN</td>\n",
       "      <td>1028</td>\n",
       "      <td>PC0</td>\n",
       "      <td>GatB_Yqey; Asn/Gln amidotransferase</td>\n",
       "    </tr>\n",
       "    <tr>\n",
       "      <th>57</th>\n",
       "      <td>NaN</td>\n",
       "      <td>308</td>\n",
       "      <td>PC1</td>\n",
       "      <td>Bul1_N; Bul1, N-terminal</td>\n",
       "    </tr>\n",
       "    <tr>\n",
       "      <th>58</th>\n",
       "      <td>NaN</td>\n",
       "      <td>2113</td>\n",
       "      <td>PC3</td>\n",
       "      <td>Rav1p_C; RAVE complex protein Rav1 C-terminal</td>\n",
       "    </tr>\n",
       "    <tr>\n",
       "      <th>59</th>\n",
       "      <td>NaN</td>\n",
       "      <td>303</td>\n",
       "      <td>PC4</td>\n",
       "      <td>Bromo_TP; Bromodomain associated domain</td>\n",
       "    </tr>\n",
       "    <tr>\n",
       "      <th>60</th>\n",
       "      <td>NaN</td>\n",
       "      <td>108</td>\n",
       "      <td>PC5</td>\n",
       "      <td>ATG11; Autophagy-related protein 11</td>\n",
       "    </tr>\n",
       "    <tr>\n",
       "      <th>...</th>\n",
       "      <td>...</td>\n",
       "      <td>...</td>\n",
       "      <td>...</td>\n",
       "      <td>...</td>\n",
       "    </tr>\n",
       "    <tr>\n",
       "      <th>287</th>\n",
       "      <td>NaN</td>\n",
       "      <td>487</td>\n",
       "      <td>PC270</td>\n",
       "      <td>Cnd1; Condensin complex subunit 1, C-terminal</td>\n",
       "    </tr>\n",
       "    <tr>\n",
       "      <th>288</th>\n",
       "      <td>NaN</td>\n",
       "      <td>487</td>\n",
       "      <td>PC271</td>\n",
       "      <td>Cnd1; Condensin complex subunit 1, C-terminal</td>\n",
       "    </tr>\n",
       "    <tr>\n",
       "      <th>289</th>\n",
       "      <td>NaN</td>\n",
       "      <td>1437</td>\n",
       "      <td>PC277</td>\n",
       "      <td>Med15_fungi; Mediator complex, subunit Med15, ...</td>\n",
       "    </tr>\n",
       "    <tr>\n",
       "      <th>290</th>\n",
       "      <td>NaN</td>\n",
       "      <td>2712</td>\n",
       "      <td>PC280</td>\n",
       "      <td>Tubulin; Tubulin/FtsZ, GTPase domain</td>\n",
       "    </tr>\n",
       "    <tr>\n",
       "      <th>291</th>\n",
       "      <td>NaN</td>\n",
       "      <td>858</td>\n",
       "      <td>PC281</td>\n",
       "      <td>F420_oxidored; Pyrroline-5-carboxylate reducta...</td>\n",
       "    </tr>\n",
       "  </tbody>\n",
       "</table>\n",
       "<p>236 rows × 4 columns</p>\n",
       "</div>"
      ],
      "text/plain": [
       "    pca-component_x  domain-number pca-component_y  \\\n",
       "56              NaN           1028             PC0   \n",
       "57              NaN            308             PC1   \n",
       "58              NaN           2113             PC3   \n",
       "59              NaN            303             PC4   \n",
       "60              NaN            108             PC5   \n",
       "..              ...            ...             ...   \n",
       "287             NaN            487           PC270   \n",
       "288             NaN            487           PC271   \n",
       "289             NaN           1437           PC277   \n",
       "290             NaN           2712           PC280   \n",
       "291             NaN            858           PC281   \n",
       "\n",
       "                                    domain-description  \n",
       "56                 GatB_Yqey; Asn/Gln amidotransferase  \n",
       "57                            Bul1_N; Bul1, N-terminal  \n",
       "58       Rav1p_C; RAVE complex protein Rav1 C-terminal  \n",
       "59             Bromo_TP; Bromodomain associated domain  \n",
       "60                 ATG11; Autophagy-related protein 11  \n",
       "..                                                 ...  \n",
       "287      Cnd1; Condensin complex subunit 1, C-terminal  \n",
       "288      Cnd1; Condensin complex subunit 1, C-terminal  \n",
       "289  Med15_fungi; Mediator complex, subunit Med15, ...  \n",
       "290               Tubulin; Tubulin/FtsZ, GTPase domain  \n",
       "291  F420_oxidored; Pyrroline-5-carboxylate reducta...  \n",
       "\n",
       "[236 rows x 4 columns]"
      ]
     },
     "execution_count": 26,
     "metadata": {},
     "output_type": "execute_result"
    }
   ],
   "source": [
    "df_nsl_exclusive=pd.merge(df_sl,df_nsl,how='right',on='domain-number')\n",
    "\n",
    "domains_name=np.unique(data_domains['domain-name'])\n",
    "domains_description=np.unique(data_domains['domain-descrip'])\n",
    "\n",
    "df_nsl_exclusive['domain-description']=domains_description[df_nsl_exclusive['domain-number']]\n",
    "df_nsl_exclusive[pd.isnull(df_nsl_exclusive['pca-component_x'])]"
   ]
  },
  {
   "cell_type": "code",
   "execution_count": 27,
   "metadata": {
    "execution": {
     "iopub.execute_input": "2020-07-23T05:17:53.280922Z",
     "iopub.status.busy": "2020-07-23T05:17:53.280038Z",
     "iopub.status.idle": "2020-07-23T05:17:53.284971Z",
     "shell.execute_reply": "2020-07-23T05:17:53.283927Z"
    }
   },
   "outputs": [
    {
     "name": "stdout",
     "output_type": "stream",
     "text": [
      "The number of exclusive domains from non SL pairs, after PCA, is =  292 out of 567 so the 51.499118165784836 %\n"
     ]
    }
   ],
   "source": [
    "print('The number of exclusive domains from non SL pairs, after PCA, is = ',len(df_nsl_exclusive), 'out of', len(df_sl)+len(df_nsl), 'so the',100*len(df_nsl_exclusive)/(len(df_sl)+len(df_nsl)),'%')"
   ]
  },
  {
   "cell_type": "markdown",
   "metadata": {},
   "source": [
    "## Let see to the domains-number that get repeated after the PCA analysis , and selecting the most explanatory feature by its explained variance."
   ]
  },
  {
   "cell_type": "code",
   "execution_count": 28,
   "metadata": {
    "execution": {
     "iopub.execute_input": "2020-07-23T05:17:53.304953Z",
     "iopub.status.busy": "2020-07-23T05:17:53.304492Z",
     "iopub.status.idle": "2020-07-23T05:17:53.308402Z",
     "shell.execute_reply": "2020-07-23T05:17:53.307814Z"
    }
   },
   "outputs": [],
   "source": [
    "duplicated_features_sl=df_sl[df_sl.iloc[:,1].duplicated()]\n",
    "repeated_features_sl=pd.DataFrame()\n",
    "\n",
    "domains_name=np.unique(data_domains['domain-name'])\n",
    "domains_description=np.unique(data_domains['domain-descrip'])\n",
    "\n",
    "repeated_features_sl['domain-name']=domains_name[duplicated_features_sl.iloc[:,1]] \n",
    "repeated_features_sl['domain-description']=domains_description[duplicated_features_sl.iloc[:,1]]\n",
    "\n",
    "duplicated_features_nsl=df_nsl[df_nsl.iloc[:,1].duplicated()]\n",
    "repeated_features_nsl=pd.DataFrame()\n",
    "\n",
    "repeated_features_nsl['domain-name']=domains_name[duplicated_features_nsl.iloc[:,1]] \n",
    "repeated_features_nsl['domain-description']=domains_description[duplicated_features_nsl.iloc[:,1]]"
   ]
  },
  {
   "cell_type": "code",
   "execution_count": 29,
   "metadata": {
    "execution": {
     "iopub.execute_input": "2020-07-23T05:17:53.317406Z",
     "iopub.status.busy": "2020-07-23T05:17:53.316438Z",
     "iopub.status.idle": "2020-07-23T05:17:53.322633Z",
     "shell.execute_reply": "2020-07-23T05:17:53.322141Z"
    }
   },
   "outputs": [
    {
     "name": "stderr",
     "output_type": "stream",
     "text": [
      "/usr/share/miniconda3/envs/wintest/lib/python3.7/site-packages/ipykernel_launcher.py:3: SettingWithCopyWarning: \n",
      "A value is trying to be set on a copy of a slice from a DataFrame.\n",
      "Try using .loc[row_indexer,col_indexer] = value instead\n",
      "\n",
      "See the caveats in the documentation: https://pandas.pydata.org/pandas-docs/stable/user_guide/indexing.html#returning-a-view-versus-a-copy\n",
      "  This is separate from the ipykernel package so we can avoid doing imports until\n"
     ]
    },
    {
     "data": {
      "text/plain": [
       "((42, 4), (293, 4))"
      ]
     },
     "execution_count": 29,
     "metadata": {},
     "output_type": "execute_result"
    }
   ],
   "source": [
    "only_sl_pd=pd.merge(repeated_features_sl,repeated_features_nsl,how='left',on=['domain-name'])\n",
    "data_only_sl = only_sl_pd[pd.isnull(only_sl_pd['domain-description_y'])]\n",
    "data_only_sl['domain-description']=data_only_sl['domain-description_x']\n",
    "data_only_sl.shape,df_sl_exclusive.shape"
   ]
  },
  {
   "cell_type": "code",
   "execution_count": 30,
   "metadata": {
    "execution": {
     "iopub.execute_input": "2020-07-23T05:17:53.338916Z",
     "iopub.status.busy": "2020-07-23T05:17:53.338447Z",
     "iopub.status.idle": "2020-07-23T05:17:53.343593Z",
     "shell.execute_reply": "2020-07-23T05:17:53.343208Z"
    }
   },
   "outputs": [
    {
     "data": {
      "text/html": [
       "<div>\n",
       "<style scoped>\n",
       "    .dataframe tbody tr th:only-of-type {\n",
       "        vertical-align: middle;\n",
       "    }\n",
       "\n",
       "    .dataframe tbody tr th {\n",
       "        vertical-align: top;\n",
       "    }\n",
       "\n",
       "    .dataframe thead th {\n",
       "        text-align: right;\n",
       "    }\n",
       "</style>\n",
       "<table border=\"1\" class=\"dataframe\">\n",
       "  <thead>\n",
       "    <tr style=\"text-align: right;\">\n",
       "      <th></th>\n",
       "      <th>domain-name</th>\n",
       "      <th>domain-description_x</th>\n",
       "      <th>domain-description_y</th>\n",
       "    </tr>\n",
       "  </thead>\n",
       "  <tbody>\n",
       "    <tr>\n",
       "      <th>2</th>\n",
       "      <td>PF00415</td>\n",
       "      <td>NaN</td>\n",
       "      <td>Ammonium_transp; Ammonium transporter AmtB-lik...</td>\n",
       "    </tr>\n",
       "    <tr>\n",
       "      <th>3</th>\n",
       "      <td>PF02260</td>\n",
       "      <td>NaN</td>\n",
       "      <td>FAA_hydrolase; Fumarylacetoacetase, C-terminal...</td>\n",
       "    </tr>\n",
       "    <tr>\n",
       "      <th>4</th>\n",
       "      <td>PF10378</td>\n",
       "      <td>NaN</td>\n",
       "      <td>Rtt106; Domain of unknown function DUF1747</td>\n",
       "    </tr>\n",
       "    <tr>\n",
       "      <th>5</th>\n",
       "      <td>PF06741</td>\n",
       "      <td>NaN</td>\n",
       "      <td>Oxidored-like; Oxidoreductase-like, N-terminal</td>\n",
       "    </tr>\n",
       "    <tr>\n",
       "      <th>6</th>\n",
       "      <td>PF02800</td>\n",
       "      <td>NaN</td>\n",
       "      <td>GATase_7; Glutamine amidotransferase type 2 do...</td>\n",
       "    </tr>\n",
       "    <tr>\n",
       "      <th>7</th>\n",
       "      <td>PF05843</td>\n",
       "      <td>NaN</td>\n",
       "      <td>Na_Ca_ex; Sodium/calcium exchanger membrane re...</td>\n",
       "    </tr>\n",
       "    <tr>\n",
       "      <th>8</th>\n",
       "      <td>PF05843</td>\n",
       "      <td>NaN</td>\n",
       "      <td>Na_Ca_ex; Sodium/calcium exchanger membrane re...</td>\n",
       "    </tr>\n",
       "    <tr>\n",
       "      <th>9</th>\n",
       "      <td>PF05786</td>\n",
       "      <td>NaN</td>\n",
       "      <td>NTP_transferase; Nucleotidyl transferase domain</td>\n",
       "    </tr>\n",
       "    <tr>\n",
       "      <th>10</th>\n",
       "      <td>PF05064</td>\n",
       "      <td>NaN</td>\n",
       "      <td>Mis12; Centromere protein Mis12</td>\n",
       "    </tr>\n",
       "    <tr>\n",
       "      <th>11</th>\n",
       "      <td>PF04912</td>\n",
       "      <td>NaN</td>\n",
       "      <td>Med4; Mediator complex, subunit Med4</td>\n",
       "    </tr>\n",
       "    <tr>\n",
       "      <th>12</th>\n",
       "      <td>PF00995</td>\n",
       "      <td>NaN</td>\n",
       "      <td>Cation_efflux; Cation efflux protein</td>\n",
       "    </tr>\n",
       "    <tr>\n",
       "      <th>13</th>\n",
       "      <td>PF08214</td>\n",
       "      <td>NaN</td>\n",
       "      <td>PXA; Phox-associated domain</td>\n",
       "    </tr>\n",
       "    <tr>\n",
       "      <th>14</th>\n",
       "      <td>PF12253</td>\n",
       "      <td>NaN</td>\n",
       "      <td>Serinc; Serine incorporator/TMS membrane protein</td>\n",
       "    </tr>\n",
       "    <tr>\n",
       "      <th>15</th>\n",
       "      <td>PF11488</td>\n",
       "      <td>NaN</td>\n",
       "      <td>SPT2; Chromatin SPT2</td>\n",
       "    </tr>\n",
       "    <tr>\n",
       "      <th>16</th>\n",
       "      <td>PF00004</td>\n",
       "      <td>NaN</td>\n",
       "      <td>1-cysPrx_C; Peroxiredoxin, C-terminal</td>\n",
       "    </tr>\n",
       "    <tr>\n",
       "      <th>17</th>\n",
       "      <td>PF00179</td>\n",
       "      <td>NaN</td>\n",
       "      <td>ANAPC3</td>\n",
       "    </tr>\n",
       "    <tr>\n",
       "      <th>18</th>\n",
       "      <td>PF00012</td>\n",
       "      <td>NaN</td>\n",
       "      <td>2OG-FeII_Oxy_4</td>\n",
       "    </tr>\n",
       "    <tr>\n",
       "      <th>19</th>\n",
       "      <td>PF03271</td>\n",
       "      <td>NaN</td>\n",
       "      <td>Gti1_Pac2; Gti1/Pac2 family</td>\n",
       "    </tr>\n",
       "    <tr>\n",
       "      <th>20</th>\n",
       "      <td>PF11957</td>\n",
       "      <td>NaN</td>\n",
       "      <td>Sec16; Sec16, central conserved domain</td>\n",
       "    </tr>\n",
       "    <tr>\n",
       "      <th>21</th>\n",
       "      <td>PF11957</td>\n",
       "      <td>NaN</td>\n",
       "      <td>Sec16; Sec16, central conserved domain</td>\n",
       "    </tr>\n",
       "    <tr>\n",
       "      <th>22</th>\n",
       "      <td>PF05970</td>\n",
       "      <td>NaN</td>\n",
       "      <td>NifU; NIF system FeS cluster assembly, NifU, C...</td>\n",
       "    </tr>\n",
       "    <tr>\n",
       "      <th>23</th>\n",
       "      <td>PF04161</td>\n",
       "      <td>NaN</td>\n",
       "      <td>Lactamase_B_4; tRNase Z endonuclease</td>\n",
       "    </tr>\n",
       "    <tr>\n",
       "      <th>24</th>\n",
       "      <td>PF12735</td>\n",
       "      <td>NaN</td>\n",
       "      <td>Sterol-sensing; Sterol-sensing domain</td>\n",
       "    </tr>\n",
       "    <tr>\n",
       "      <th>25</th>\n",
       "      <td>PF04051</td>\n",
       "      <td>NaN</td>\n",
       "      <td>JAB; JAB1/MPN/MOV34 metalloenzyme domain</td>\n",
       "    </tr>\n",
       "    <tr>\n",
       "      <th>26</th>\n",
       "      <td>PF06093</td>\n",
       "      <td>NaN</td>\n",
       "      <td>Not3; CCR4-Not complex component, Not N-termin...</td>\n",
       "    </tr>\n",
       "    <tr>\n",
       "      <th>27</th>\n",
       "      <td>PF03311</td>\n",
       "      <td>NaN</td>\n",
       "      <td>Guanylate_kin; Guanylate kinase/L-type calcium...</td>\n",
       "    </tr>\n",
       "    <tr>\n",
       "      <th>28</th>\n",
       "      <td>PF05234</td>\n",
       "      <td>NaN</td>\n",
       "      <td>MutS_V; DNA mismatch repair protein MutS, C-te...</td>\n",
       "    </tr>\n",
       "    <tr>\n",
       "      <th>29</th>\n",
       "      <td>PF01199</td>\n",
       "      <td>NaN</td>\n",
       "      <td>Cytochrom_B_C; Cytochrome b/b6, C-terminal</td>\n",
       "    </tr>\n",
       "    <tr>\n",
       "      <th>30</th>\n",
       "      <td>PF01199</td>\n",
       "      <td>NaN</td>\n",
       "      <td>Cytochrom_B_C; Cytochrome b/b6, C-terminal</td>\n",
       "    </tr>\n",
       "    <tr>\n",
       "      <th>31</th>\n",
       "      <td>PF03381</td>\n",
       "      <td>NaN</td>\n",
       "      <td>HDA2-3; HDA1 complex subunit 2/3</td>\n",
       "    </tr>\n",
       "    <tr>\n",
       "      <th>32</th>\n",
       "      <td>PF09452</td>\n",
       "      <td>NaN</td>\n",
       "      <td>Rgp1; Reduced growth phenotype protein 1</td>\n",
       "    </tr>\n",
       "    <tr>\n",
       "      <th>33</th>\n",
       "      <td>PF08491</td>\n",
       "      <td>NaN</td>\n",
       "      <td>Phosphodiest; Type I phosphodiesterase/nucleot...</td>\n",
       "    </tr>\n",
       "    <tr>\n",
       "      <th>34</th>\n",
       "      <td>PF02926</td>\n",
       "      <td>NaN</td>\n",
       "      <td>GST_N_3; Glutathione S-transferase, N-terminal</td>\n",
       "    </tr>\n",
       "    <tr>\n",
       "      <th>35</th>\n",
       "      <td>PF02926</td>\n",
       "      <td>NaN</td>\n",
       "      <td>GST_N_3; Glutathione S-transferase, N-terminal</td>\n",
       "    </tr>\n",
       "    <tr>\n",
       "      <th>36</th>\n",
       "      <td>PF09797</td>\n",
       "      <td>NaN</td>\n",
       "      <td>Ribosomal_L23eN; Ribosomal protein L23/L25, N-...</td>\n",
       "    </tr>\n",
       "    <tr>\n",
       "      <th>37</th>\n",
       "      <td>PF12816</td>\n",
       "      <td>NaN</td>\n",
       "      <td>TAF8_C; Transcription factor TFIID, subunit 8,...</td>\n",
       "    </tr>\n",
       "    <tr>\n",
       "      <th>38</th>\n",
       "      <td>PF03357</td>\n",
       "      <td>NaN</td>\n",
       "      <td>HAND; ISWI, HAND domain</td>\n",
       "    </tr>\n",
       "    <tr>\n",
       "      <th>39</th>\n",
       "      <td>PF06333</td>\n",
       "      <td>NaN</td>\n",
       "      <td>Nsp1_C; Nucleoporin, NSP1-like, C-terminal</td>\n",
       "    </tr>\n",
       "    <tr>\n",
       "      <th>40</th>\n",
       "      <td>PF00833</td>\n",
       "      <td>NaN</td>\n",
       "      <td>CPL; CPL domain</td>\n",
       "    </tr>\n",
       "    <tr>\n",
       "      <th>41</th>\n",
       "      <td>PF02144</td>\n",
       "      <td>NaN</td>\n",
       "      <td>EST1_DNA_bind; DNA/RNA-binding domain, Est1-type</td>\n",
       "    </tr>\n",
       "    <tr>\n",
       "      <th>42</th>\n",
       "      <td>PF08317</td>\n",
       "      <td>NaN</td>\n",
       "      <td>Peptidase_M48; Peptidase M48</td>\n",
       "    </tr>\n",
       "    <tr>\n",
       "      <th>43</th>\n",
       "      <td>PF17378</td>\n",
       "      <td>NaN</td>\n",
       "      <td>zf-met</td>\n",
       "    </tr>\n",
       "    <tr>\n",
       "      <th>44</th>\n",
       "      <td>PF05129</td>\n",
       "      <td>NaN</td>\n",
       "      <td>MitMem_reg; Rpn11/EIF3F, C-terminal</td>\n",
       "    </tr>\n",
       "    <tr>\n",
       "      <th>45</th>\n",
       "      <td>PF16782</td>\n",
       "      <td>NaN</td>\n",
       "      <td>eRF1_3; eRF1 domain 3</td>\n",
       "    </tr>\n",
       "    <tr>\n",
       "      <th>46</th>\n",
       "      <td>PF01092</td>\n",
       "      <td>NaN</td>\n",
       "      <td>Cnd1; Condensin complex subunit 1, C-terminal</td>\n",
       "    </tr>\n",
       "    <tr>\n",
       "      <th>47</th>\n",
       "      <td>PF00571</td>\n",
       "      <td>NaN</td>\n",
       "      <td>BP28CT; BP28, C-terminal domain</td>\n",
       "    </tr>\n",
       "    <tr>\n",
       "      <th>48</th>\n",
       "      <td>PF05719</td>\n",
       "      <td>NaN</td>\n",
       "      <td>NOT2_3_5; NOT2/NOT3/NOT5</td>\n",
       "    </tr>\n",
       "    <tr>\n",
       "      <th>49</th>\n",
       "      <td>PF04722</td>\n",
       "      <td>NaN</td>\n",
       "      <td>MTCP1; Mature-T-Cell Proliferation I type</td>\n",
       "    </tr>\n",
       "    <tr>\n",
       "      <th>50</th>\n",
       "      <td>PF01602</td>\n",
       "      <td>NaN</td>\n",
       "      <td>DUF2611; Protein of unknown function DUF2611</td>\n",
       "    </tr>\n",
       "    <tr>\n",
       "      <th>51</th>\n",
       "      <td>PF01423</td>\n",
       "      <td>NaN</td>\n",
       "      <td>DNA_topoisoIV; DNA topoisomerase, type IIA, su...</td>\n",
       "    </tr>\n",
       "  </tbody>\n",
       "</table>\n",
       "</div>"
      ],
      "text/plain": [
       "   domain-name domain-description_x  \\\n",
       "2      PF00415                  NaN   \n",
       "3      PF02260                  NaN   \n",
       "4      PF10378                  NaN   \n",
       "5      PF06741                  NaN   \n",
       "6      PF02800                  NaN   \n",
       "7      PF05843                  NaN   \n",
       "8      PF05843                  NaN   \n",
       "9      PF05786                  NaN   \n",
       "10     PF05064                  NaN   \n",
       "11     PF04912                  NaN   \n",
       "12     PF00995                  NaN   \n",
       "13     PF08214                  NaN   \n",
       "14     PF12253                  NaN   \n",
       "15     PF11488                  NaN   \n",
       "16     PF00004                  NaN   \n",
       "17     PF00179                  NaN   \n",
       "18     PF00012                  NaN   \n",
       "19     PF03271                  NaN   \n",
       "20     PF11957                  NaN   \n",
       "21     PF11957                  NaN   \n",
       "22     PF05970                  NaN   \n",
       "23     PF04161                  NaN   \n",
       "24     PF12735                  NaN   \n",
       "25     PF04051                  NaN   \n",
       "26     PF06093                  NaN   \n",
       "27     PF03311                  NaN   \n",
       "28     PF05234                  NaN   \n",
       "29     PF01199                  NaN   \n",
       "30     PF01199                  NaN   \n",
       "31     PF03381                  NaN   \n",
       "32     PF09452                  NaN   \n",
       "33     PF08491                  NaN   \n",
       "34     PF02926                  NaN   \n",
       "35     PF02926                  NaN   \n",
       "36     PF09797                  NaN   \n",
       "37     PF12816                  NaN   \n",
       "38     PF03357                  NaN   \n",
       "39     PF06333                  NaN   \n",
       "40     PF00833                  NaN   \n",
       "41     PF02144                  NaN   \n",
       "42     PF08317                  NaN   \n",
       "43     PF17378                  NaN   \n",
       "44     PF05129                  NaN   \n",
       "45     PF16782                  NaN   \n",
       "46     PF01092                  NaN   \n",
       "47     PF00571                  NaN   \n",
       "48     PF05719                  NaN   \n",
       "49     PF04722                  NaN   \n",
       "50     PF01602                  NaN   \n",
       "51     PF01423                  NaN   \n",
       "\n",
       "                                 domain-description_y  \n",
       "2   Ammonium_transp; Ammonium transporter AmtB-lik...  \n",
       "3   FAA_hydrolase; Fumarylacetoacetase, C-terminal...  \n",
       "4          Rtt106; Domain of unknown function DUF1747  \n",
       "5      Oxidored-like; Oxidoreductase-like, N-terminal  \n",
       "6   GATase_7; Glutamine amidotransferase type 2 do...  \n",
       "7   Na_Ca_ex; Sodium/calcium exchanger membrane re...  \n",
       "8   Na_Ca_ex; Sodium/calcium exchanger membrane re...  \n",
       "9     NTP_transferase; Nucleotidyl transferase domain  \n",
       "10                    Mis12; Centromere protein Mis12  \n",
       "11               Med4; Mediator complex, subunit Med4  \n",
       "12               Cation_efflux; Cation efflux protein  \n",
       "13                        PXA; Phox-associated domain  \n",
       "14   Serinc; Serine incorporator/TMS membrane protein  \n",
       "15                               SPT2; Chromatin SPT2  \n",
       "16              1-cysPrx_C; Peroxiredoxin, C-terminal  \n",
       "17                                             ANAPC3  \n",
       "18                                     2OG-FeII_Oxy_4  \n",
       "19                        Gti1_Pac2; Gti1/Pac2 family  \n",
       "20             Sec16; Sec16, central conserved domain  \n",
       "21             Sec16; Sec16, central conserved domain  \n",
       "22  NifU; NIF system FeS cluster assembly, NifU, C...  \n",
       "23               Lactamase_B_4; tRNase Z endonuclease  \n",
       "24              Sterol-sensing; Sterol-sensing domain  \n",
       "25           JAB; JAB1/MPN/MOV34 metalloenzyme domain  \n",
       "26  Not3; CCR4-Not complex component, Not N-termin...  \n",
       "27  Guanylate_kin; Guanylate kinase/L-type calcium...  \n",
       "28  MutS_V; DNA mismatch repair protein MutS, C-te...  \n",
       "29         Cytochrom_B_C; Cytochrome b/b6, C-terminal  \n",
       "30         Cytochrom_B_C; Cytochrome b/b6, C-terminal  \n",
       "31                   HDA2-3; HDA1 complex subunit 2/3  \n",
       "32           Rgp1; Reduced growth phenotype protein 1  \n",
       "33  Phosphodiest; Type I phosphodiesterase/nucleot...  \n",
       "34     GST_N_3; Glutathione S-transferase, N-terminal  \n",
       "35     GST_N_3; Glutathione S-transferase, N-terminal  \n",
       "36  Ribosomal_L23eN; Ribosomal protein L23/L25, N-...  \n",
       "37  TAF8_C; Transcription factor TFIID, subunit 8,...  \n",
       "38                            HAND; ISWI, HAND domain  \n",
       "39         Nsp1_C; Nucleoporin, NSP1-like, C-terminal  \n",
       "40                                    CPL; CPL domain  \n",
       "41   EST1_DNA_bind; DNA/RNA-binding domain, Est1-type  \n",
       "42                       Peptidase_M48; Peptidase M48  \n",
       "43                                             zf-met  \n",
       "44                MitMem_reg; Rpn11/EIF3F, C-terminal  \n",
       "45                              eRF1_3; eRF1 domain 3  \n",
       "46      Cnd1; Condensin complex subunit 1, C-terminal  \n",
       "47                    BP28CT; BP28, C-terminal domain  \n",
       "48                           NOT2_3_5; NOT2/NOT3/NOT5  \n",
       "49          MTCP1; Mature-T-Cell Proliferation I type  \n",
       "50       DUF2611; Protein of unknown function DUF2611  \n",
       "51  DNA_topoisoIV; DNA topoisomerase, type IIA, su...  "
      ]
     },
     "execution_count": 30,
     "metadata": {},
     "output_type": "execute_result"
    }
   ],
   "source": [
    "only_nsl_pd=pd.merge(repeated_features_sl,repeated_features_nsl,how='right',on=['domain-name'])\n",
    "data_only_nsl = only_nsl_pd[pd.isnull(only_nsl_pd['domain-description_x'])]\n",
    "data_only_nsl"
   ]
  },
  {
   "cell_type": "code",
   "execution_count": 31,
   "metadata": {
    "execution": {
     "iopub.execute_input": "2020-07-23T05:17:53.353287Z",
     "iopub.status.busy": "2020-07-23T05:17:53.352820Z",
     "iopub.status.idle": "2020-07-23T05:17:53.357086Z",
     "shell.execute_reply": "2020-07-23T05:17:53.357497Z"
    }
   },
   "outputs": [
    {
     "data": {
      "text/html": [
       "<div>\n",
       "<style scoped>\n",
       "    .dataframe tbody tr th:only-of-type {\n",
       "        vertical-align: middle;\n",
       "    }\n",
       "\n",
       "    .dataframe tbody tr th {\n",
       "        vertical-align: top;\n",
       "    }\n",
       "\n",
       "    .dataframe thead th {\n",
       "        text-align: right;\n",
       "    }\n",
       "</style>\n",
       "<table border=\"1\" class=\"dataframe\">\n",
       "  <thead>\n",
       "    <tr style=\"text-align: right;\">\n",
       "      <th></th>\n",
       "      <th>domain-name</th>\n",
       "      <th>domain-description_x</th>\n",
       "      <th>domain-description_y</th>\n",
       "    </tr>\n",
       "  </thead>\n",
       "  <tbody>\n",
       "    <tr>\n",
       "      <th>0</th>\n",
       "      <td>PF02146</td>\n",
       "      <td>ETF; Electron transfer flavoprotein, alpha/bet...</td>\n",
       "      <td>ETF; Electron transfer flavoprotein, alpha/bet...</td>\n",
       "    </tr>\n",
       "    <tr>\n",
       "      <th>1</th>\n",
       "      <td>PF07690</td>\n",
       "      <td>PHD_2</td>\n",
       "      <td>PHD_2</td>\n",
       "    </tr>\n",
       "  </tbody>\n",
       "</table>\n",
       "</div>"
      ],
      "text/plain": [
       "  domain-name                               domain-description_x  \\\n",
       "0     PF02146  ETF; Electron transfer flavoprotein, alpha/bet...   \n",
       "1     PF07690                                              PHD_2   \n",
       "\n",
       "                                domain-description_y  \n",
       "0  ETF; Electron transfer flavoprotein, alpha/bet...  \n",
       "1                                              PHD_2  "
      ]
     },
     "execution_count": 31,
     "metadata": {},
     "output_type": "execute_result"
    }
   ],
   "source": [
    "shared_domains_pd=pd.merge(repeated_features_sl,repeated_features_nsl,how='inner',on=['domain-name'])\n",
    "shared_domains_pd\n"
   ]
  },
  {
   "cell_type": "code",
   "execution_count": 32,
   "metadata": {
    "execution": {
     "iopub.execute_input": "2020-07-23T05:17:53.374485Z",
     "iopub.status.busy": "2020-07-23T05:17:53.365018Z",
     "iopub.status.idle": "2020-07-23T05:17:54.997906Z",
     "shell.execute_reply": "2020-07-23T05:17:54.998295Z"
    }
   },
   "outputs": [
    {
     "data": {
      "text/plain": [
       "(0.0, 0.2)"
      ]
     },
     "execution_count": 32,
     "metadata": {},
     "output_type": "execute_result"
    },
    {
     "data": {
      "image/png": "[encoded data removed]",
      "text/plain": [
       "<Figure size 432x288 with 1 Axes>"
      ]
     },
     "metadata": {
      "filenames": {
       "image/png": "/home/runner/work/jupyter-book/jupyter-book/mini_book/docs/_build/jupyter_execute/prot_domains2lethality-FEATURES-POSTPROCESSING_47_1.png"
      },
      "needs_background": "light"
     },
     "output_type": "display_data"
    }
   ],
   "source": [
    "a_sl=x_sl.iloc[:,np.sort(df_sl.iloc[:,1])]\n",
    "a_sl.describe().loc['mean'].hist(bins=8),\n",
    "a_sl.describe().loc['std'].hist(bins=8,alpha=0.4)\n",
    "plt.xlim([0,0.2])"
   ]
  },
  {
   "cell_type": "code",
   "execution_count": 33,
   "metadata": {
    "execution": {
     "iopub.execute_input": "2020-07-23T05:17:55.019067Z",
     "iopub.status.busy": "2020-07-23T05:17:55.002490Z",
     "iopub.status.idle": "2020-07-23T05:17:56.613824Z",
     "shell.execute_reply": "2020-07-23T05:17:56.613139Z"
    }
   },
   "outputs": [
    {
     "data": {
      "text/plain": [
       "(0.0, 0.2)"
      ]
     },
     "execution_count": 33,
     "metadata": {},
     "output_type": "execute_result"
    },
    {
     "data": {
      "image/png": "[encoded data removed]",
      "text/plain": [
       "<Figure size 432x288 with 1 Axes>"
      ]
     },
     "metadata": {
      "filenames": {
       "image/png": "/home/runner/work/jupyter-book/jupyter-book/mini_book/docs/_build/jupyter_execute/prot_domains2lethality-FEATURES-POSTPROCESSING_48_1.png"
      },
      "needs_background": "light"
     },
     "output_type": "display_data"
    }
   ],
   "source": [
    "a_nsl=x_nsl.iloc[:,np.sort(df_nsl.iloc[:,1])]\n",
    "a_nsl.describe().loc['mean'].hist(bins=8),\n",
    "a_nsl.describe().loc['std'].hist(bins=8,alpha=0.4)\n",
    "plt.xlim([0,0.2])"
   ]
  },
  {
   "cell_type": "markdown",
   "metadata": {},
   "source": [
    "### Proof of concept with *BEM1*\n",
    "\n",
    "- Gather the domains of SL and nSL pairs from BEM1\n",
    "- Check if the domains for the SL and nSL pairs are inside the most important domains after PCA."
   ]
  },
  {
   "cell_type": "code",
   "execution_count": 34,
   "metadata": {
    "execution": {
     "iopub.execute_input": "2020-07-23T05:17:56.621062Z",
     "iopub.status.busy": "2020-07-23T05:17:56.620607Z",
     "iopub.status.idle": "2020-07-23T05:17:56.623658Z",
     "shell.execute_reply": "2020-07-23T05:17:56.624059Z"
    }
   },
   "outputs": [],
   "source": [
    "domains_bem1=data_domains[data_domains['name']=='BEM1']['domain-descrip']\n",
    "sl_bem1=data_sl[data_sl['gene-query-name']=='BEM1']['gene-target-name']"
   ]
  },
  {
   "cell_type": "code",
   "execution_count": 35,
   "metadata": {
    "execution": {
     "iopub.execute_input": "2020-07-23T05:17:56.629471Z",
     "iopub.status.busy": "2020-07-23T05:17:56.628957Z",
     "iopub.status.idle": "2020-07-23T05:17:56.634779Z",
     "shell.execute_reply": "2020-07-23T05:17:56.634259Z"
    }
   },
   "outputs": [
    {
     "data": {
      "text/plain": [
       "2846      BEM2\n",
       "2847     CDC24\n",
       "5004      MSB1\n",
       "13777     SMI1\n",
       "13778     BNI1\n",
       "13779     BEM2\n",
       "14385     SKN7\n",
       "Name: gene-target-name, dtype: object"
      ]
     },
     "execution_count": 35,
     "metadata": {},
     "output_type": "execute_result"
    }
   ],
   "source": [
    "sl_bem1"
   ]
  },
  {
   "cell_type": "code",
   "execution_count": 36,
   "metadata": {
    "execution": {
     "iopub.execute_input": "2020-07-23T05:17:56.648543Z",
     "iopub.status.busy": "2020-07-23T05:17:56.638912Z",
     "iopub.status.idle": "2020-07-23T05:17:56.652994Z",
     "shell.execute_reply": "2020-07-23T05:17:56.653454Z"
    }
   },
   "outputs": [
    {
     "data": {
      "text/html": [
       "<div>\n",
       "<style scoped>\n",
       "    .dataframe tbody tr th:only-of-type {\n",
       "        vertical-align: middle;\n",
       "    }\n",
       "\n",
       "    .dataframe tbody tr th {\n",
       "        vertical-align: top;\n",
       "    }\n",
       "\n",
       "    .dataframe thead th {\n",
       "        text-align: right;\n",
       "    }\n",
       "</style>\n",
       "<table border=\"1\" class=\"dataframe\">\n",
       "  <thead>\n",
       "    <tr style=\"text-align: right;\">\n",
       "      <th></th>\n",
       "      <th>gene-query</th>\n",
       "      <th>gene-target</th>\n",
       "      <th>gene-query-name</th>\n",
       "      <th>gene-target-name</th>\n",
       "      <th>gene-query-description</th>\n",
       "      <th>gene-target-description</th>\n",
       "      <th>interaction-type</th>\n",
       "      <th>paper-source</th>\n",
       "    </tr>\n",
       "  </thead>\n",
       "  <tbody>\n",
       "    <tr>\n",
       "      <th>2846</th>\n",
       "      <td>YBR200W</td>\n",
       "      <td>YER155C</td>\n",
       "      <td>BEM1</td>\n",
       "      <td>BEM2</td>\n",
       "      <td>SRO1|phosphatidylinositol-3-phosphate-binding ...</td>\n",
       "      <td>IPL2|SUP9|TSL1|L000000168</td>\n",
       "      <td>Synthetic Lethality</td>\n",
       "      <td>Peterson J (1994)</td>\n",
       "    </tr>\n",
       "    <tr>\n",
       "      <th>2847</th>\n",
       "      <td>YBR200W</td>\n",
       "      <td>YAL041W</td>\n",
       "      <td>BEM1</td>\n",
       "      <td>CDC24</td>\n",
       "      <td>SRO1|phosphatidylinositol-3-phosphate-binding ...</td>\n",
       "      <td>CLS4|Rho family guanine nucleotide exchange fa...</td>\n",
       "      <td>Synthetic Lethality</td>\n",
       "      <td>Peterson J (1994)</td>\n",
       "    </tr>\n",
       "    <tr>\n",
       "      <th>5004</th>\n",
       "      <td>YBR200W</td>\n",
       "      <td>YOR188W</td>\n",
       "      <td>BEM1</td>\n",
       "      <td>MSB1</td>\n",
       "      <td>SRO1|phosphatidylinositol-3-phosphate-binding ...</td>\n",
       "      <td>L000001184</td>\n",
       "      <td>Synthetic Lethality</td>\n",
       "      <td>Bender A (1991)</td>\n",
       "    </tr>\n",
       "    <tr>\n",
       "      <th>13777</th>\n",
       "      <td>YBR200W</td>\n",
       "      <td>YGR229C</td>\n",
       "      <td>BEM1</td>\n",
       "      <td>SMI1</td>\n",
       "      <td>SRO1|phosphatidylinositol-3-phosphate-binding ...</td>\n",
       "      <td>KNR4|L000000909</td>\n",
       "      <td>Synthetic Lethality</td>\n",
       "      <td>Gorelik M (2011)</td>\n",
       "    </tr>\n",
       "    <tr>\n",
       "      <th>13778</th>\n",
       "      <td>YBR200W</td>\n",
       "      <td>YNL271C</td>\n",
       "      <td>BEM1</td>\n",
       "      <td>BNI1</td>\n",
       "      <td>SRO1|phosphatidylinositol-3-phosphate-binding ...</td>\n",
       "      <td>PPF3|SHE5|formin BNI1|L000000190</td>\n",
       "      <td>Synthetic Lethality</td>\n",
       "      <td>Gorelik M (2011)</td>\n",
       "    </tr>\n",
       "    <tr>\n",
       "      <th>13779</th>\n",
       "      <td>YBR200W</td>\n",
       "      <td>YER155C</td>\n",
       "      <td>BEM1</td>\n",
       "      <td>BEM2</td>\n",
       "      <td>SRO1|phosphatidylinositol-3-phosphate-binding ...</td>\n",
       "      <td>IPL2|SUP9|TSL1|L000000168</td>\n",
       "      <td>Synthetic Lethality</td>\n",
       "      <td>Gorelik M (2011)</td>\n",
       "    </tr>\n",
       "    <tr>\n",
       "      <th>14385</th>\n",
       "      <td>YBR200W</td>\n",
       "      <td>YHR206W</td>\n",
       "      <td>BEM1</td>\n",
       "      <td>SKN7</td>\n",
       "      <td>SRO1|phosphatidylinositol-3-phosphate-binding ...</td>\n",
       "      <td>BRY1|POS9|kinase-regulated stress-responsive t...</td>\n",
       "      <td>Dosage Lethality</td>\n",
       "      <td>Bouquin N (1999)</td>\n",
       "    </tr>\n",
       "  </tbody>\n",
       "</table>\n",
       "</div>"
      ],
      "text/plain": [
       "      gene-query gene-target gene-query-name gene-target-name  \\\n",
       "2846     YBR200W     YER155C            BEM1             BEM2   \n",
       "2847     YBR200W     YAL041W            BEM1            CDC24   \n",
       "5004     YBR200W     YOR188W            BEM1             MSB1   \n",
       "13777    YBR200W     YGR229C            BEM1             SMI1   \n",
       "13778    YBR200W     YNL271C            BEM1             BNI1   \n",
       "13779    YBR200W     YER155C            BEM1             BEM2   \n",
       "14385    YBR200W     YHR206W            BEM1             SKN7   \n",
       "\n",
       "                                  gene-query-description  \\\n",
       "2846   SRO1|phosphatidylinositol-3-phosphate-binding ...   \n",
       "2847   SRO1|phosphatidylinositol-3-phosphate-binding ...   \n",
       "5004   SRO1|phosphatidylinositol-3-phosphate-binding ...   \n",
       "13777  SRO1|phosphatidylinositol-3-phosphate-binding ...   \n",
       "13778  SRO1|phosphatidylinositol-3-phosphate-binding ...   \n",
       "13779  SRO1|phosphatidylinositol-3-phosphate-binding ...   \n",
       "14385  SRO1|phosphatidylinositol-3-phosphate-binding ...   \n",
       "\n",
       "                                 gene-target-description     interaction-type  \\\n",
       "2846                           IPL2|SUP9|TSL1|L000000168  Synthetic Lethality   \n",
       "2847   CLS4|Rho family guanine nucleotide exchange fa...  Synthetic Lethality   \n",
       "5004                                          L000001184  Synthetic Lethality   \n",
       "13777                                    KNR4|L000000909  Synthetic Lethality   \n",
       "13778                   PPF3|SHE5|formin BNI1|L000000190  Synthetic Lethality   \n",
       "13779                          IPL2|SUP9|TSL1|L000000168  Synthetic Lethality   \n",
       "14385  BRY1|POS9|kinase-regulated stress-responsive t...     Dosage Lethality   \n",
       "\n",
       "            paper-source  \n",
       "2846   Peterson J (1994)  \n",
       "2847   Peterson J (1994)  \n",
       "5004     Bender A (1991)  \n",
       "13777   Gorelik M (2011)  \n",
       "13778   Gorelik M (2011)  \n",
       "13779   Gorelik M (2011)  \n",
       "14385   Bouquin N (1999)  "
      ]
     },
     "execution_count": 36,
     "metadata": {},
     "output_type": "execute_result"
    }
   ],
   "source": [
    "data_sl[data_sl['gene-query-name']=='BEM1']"
   ]
  },
  {
   "cell_type": "code",
   "execution_count": null,
   "metadata": {},
   "outputs": [],
   "source": []
  }
 ],
 "metadata": {
  "jupytext": {
   "text_representation": {
    "extension": ".md",
    "format_name": "myst"
   }
  },
  "kernelspec": {
   "display_name": "Python 3",
   "language": "python",
   "name": "python3"
  },
  "language_info": {
   "codemirror_mode": {
    "name": "ipython",
    "version": 3
   },
   "file_extension": ".py",
   "mimetype": "text/x-python",
   "name": "python",
   "nbconvert_exporter": "python",
   "pygments_lexer": "ipython3",
   "version": "3.7.8"
  },
  "source_map": [
   10,
   18,
   29,
   36,
   57,
   66,
   98,
   101,
   105,
   128,
   131,
   135,
   139,
   145,
   178,
   184,
   188,
   206,
   210,
   218,
   222,
   225,
   229,
   234,
   238,
   244,
   248,
   253,
   257,
   267,
   269,
   273,
   306,
   311,
   313,
   317,
   328,
   330,
   334,
   344,
   348,
   358,
   360,
   364,
   381,
   388,
   394,
   400,
   407,
   412,
   419,
   424,
   428,
   432
  ]
 },
 "nbformat": 4,
 "nbformat_minor": 4
}