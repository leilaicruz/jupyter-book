{
 "cells": [
  {
   "cell_type": "markdown",
   "metadata": {},
   "source": [
    "# Feature postprocessing from paper.\n",
    "- Title:  \"Predicting yeast synthetic lethal genetic interactions using protein domains\"\n",
    "- Authors: Bo Li, Feng Luo,School of Computing,Clemson University,Clemson, SC, USA\n",
    "- e-mail: bol, luofeng@clemson.edu\n",
    "- year:2009"
   ]
  },
  {
   "cell_type": "code",
   "execution_count": 1,
   "metadata": {
    "execution": {
     "iopub.execute_input": "2020-07-13T14:41:41.785604Z",
     "iopub.status.busy": "2020-07-13T14:41:41.784846Z",
     "iopub.status.idle": "2020-07-13T14:41:42.536978Z",
     "shell.execute_reply": "2020-07-13T14:41:42.536034Z"
    }
   },
   "outputs": [],
   "source": [
    "import pandas as pd\n",
    "import numpy as np\n",
    "import matplotlib.pyplot as plt\n",
    "from collections import defaultdict \n",
    "import seaborn as sns\n",
    "import matplotlib.cm as cm\n",
    "import scipy as scipy\n",
    "import random"
   ]
  },
  {
   "cell_type": "markdown",
   "metadata": {
    "jupyter": {
     "source_hidden": true
    }
   },
   "source": [
    "### Importing datasets \n",
    "\n",
    "#### Link to the github repo where the datasets to be downloaded:\n",
    "[DOWNLOAD THE DATASETS HERE](https://github.com/leilaicruz/machine-learning-for-yeast/tree/dev_Leila/datasets-for-learning)"
   ]
  },
  {
   "cell_type": "code",
   "execution_count": 2,
   "metadata": {
    "execution": {
     "iopub.execute_input": "2020-07-13T14:41:42.543867Z",
     "iopub.status.busy": "2020-07-13T14:41:42.543301Z",
     "iopub.status.idle": "2020-07-13T14:41:49.886473Z",
     "shell.execute_reply": "2020-07-13T14:41:49.886958Z"
    }
   },
   "outputs": [],
   "source": [
    "import os\n",
    "script_dir = os.path.dirname('__file__') #<-- absolute dir the script is in\n",
    "rel_path_SL = \"datasets/data-synthetic-lethals.xlsx\"\n",
    "rel_path_nSL=\"datasets/data-positive-genetic.xlsx\"\n",
    "rel_path_domains=\"datasets/proteins-domains-from-Pfam.xlsx\"\n",
    "\n",
    "abs_file_path_SL = os.path.join(script_dir, rel_path_SL)\n",
    "abs_file_path_nSL = os.path.join(script_dir, rel_path_nSL)\n",
    "abs_file_path_domains = os.path.join(script_dir, rel_path_domains)\n",
    "\n",
    "# os.chdir('mini_book/docs/') #<-- for binder os.chdir('../')\n",
    "# os.chdir('../')\n",
    "my_path_sl= abs_file_path_SL\n",
    "my_path_non_sl=abs_file_path_nSL\n",
    "my_path_domains=abs_file_path_domains\n",
    "\n",
    "data_sl=pd.read_excel(my_path_sl,header=0)\n",
    "data_domains=pd.read_excel(my_path_domains,header=0,index_col='Unnamed: 0')\n",
    "data_domains=data_domains.dropna()\n",
    "data_nonsl=pd.read_excel(my_path_non_sl,header=0)"
   ]
  },
  {
   "cell_type": "markdown",
   "metadata": {},
   "source": [
    "## Building the feature matrix\n",
    "One matrix for true SL where each row is one pair of SL. Every raw will be a vector of 0,1 or 2 depending on the comparison with the domain list. For row i the jth element = 0 if the jth element of the domain list is not in neither protein A and B, 1, if it is in one of them and 2 if it is in both of them .\n",
    "\n",
    "### Building the list of proteins domains id per protein pair separately :\n",
    "- List of protein A: Search for the Sl/nSL database the query gene name and look in the protein domain database which protein domains id has each of those queries.\n",
    "- List of protein B: Search for the Sl/nSL database the target gene name of the previous query and look in the protein domain database which protein domains id has each of those target genes."
   ]
  },
  {
   "cell_type": "code",
   "execution_count": 3,
   "metadata": {
    "execution": {
     "iopub.execute_input": "2020-07-13T14:41:49.902522Z",
     "iopub.status.busy": "2020-07-13T14:41:49.896036Z",
     "iopub.status.idle": "2020-07-13T14:41:52.074393Z",
     "shell.execute_reply": "2020-07-13T14:41:52.074906Z"
    }
   },
   "outputs": [],
   "source": [
    "# Selecting the meaningful columns in the respective dataset\n",
    "domain_id_list=data_domains['domain-name']\n",
    "query_gene=data_sl['gene-query-name']\n",
    "target_gene=data_sl['gene-target-name']\n",
    "query_gene_nonlethal=data_nonsl['gene-query-name']\n",
    "target_gene_nonlethal=data_nonsl['gene-target-name']\n",
    "\n",
    "\n",
    "\n",
    "# Initialising the arrays\n",
    "protein_a_list=[]\n",
    "protein_b_list=[]\n",
    "protein_a_list_non=[]\n",
    "protein_b_list_non=[]\n",
    "\n",
    "population = np.arange(0,len(data_sl))\n",
    "\n",
    "# For loop for 10000 pairs sampled randomly from the SL/nSl pair list , and creating a big array of proteind domains id per protein pair\n",
    "\n",
    "for m in random.sample(list(population), 500):\n",
    "    protein_a=data_domains[data_domains['name']==query_gene[m]]\n",
    "    protein_b=data_domains[data_domains['name']==target_gene[m]]\n",
    "    protein_a_list.append(protein_a['domain-name'].tolist())\n",
    "    protein_b_list.append(protein_b['domain-name'].tolist())\n",
    "\n",
    "    protein_a_non=data_domains[data_domains['name']==query_gene_nonlethal[m]]\n",
    "    protein_b_non=data_domains[data_domains['name']==target_gene_nonlethal[m]]\n",
    "    protein_a_list_non.append(protein_a_non['domain-name'].tolist())\n",
    "    protein_b_list_non.append(protein_b_non['domain-name'].tolist())"
   ]
  },
  {
   "cell_type": "code",
   "execution_count": 4,
   "metadata": {
    "execution": {
     "iopub.execute_input": "2020-07-13T14:41:52.080125Z",
     "iopub.status.busy": "2020-07-13T14:41:52.079485Z",
     "iopub.status.idle": "2020-07-13T14:41:52.084501Z",
     "shell.execute_reply": "2020-07-13T14:41:52.083996Z"
    }
   },
   "outputs": [
    {
     "name": "stdout",
     "output_type": "stream",
     "text": [
      "We are going to analyze 500 protein pairs, out of 17871 SL protein pairs\n",
      "We are going to analyze 500 protein pairs, out of 43340 positive protein pairs\n"
     ]
    }
   ],
   "source": [
    "print('We are going to analyze',len((protein_a_list)) ,'protein pairs, out of',len(data_sl),'SL protein pairs')\n",
    "print('We are going to analyze',len((protein_a_list_non)) ,'protein pairs, out of',len(data_nonsl),'positive protein pairs')"
   ]
  },
  {
   "cell_type": "markdown",
   "metadata": {},
   "source": [
    "### Postprocessing #1:  Remove protein pairs from study if either protein in the pair does not contain any domain"
   ]
  },
  {
   "cell_type": "code",
   "execution_count": 5,
   "metadata": {
    "execution": {
     "iopub.execute_input": "2020-07-13T14:41:52.094886Z",
     "iopub.status.busy": "2020-07-13T14:41:52.094313Z",
     "iopub.status.idle": "2020-07-13T14:41:52.097897Z",
     "shell.execute_reply": "2020-07-13T14:41:52.098359Z"
    }
   },
   "outputs": [],
   "source": [
    "def remove_empty_domains(protein_list_search,protein_list_pair):\n",
    "    index=[]\n",
    "    for i in np.arange(0,len(protein_list_search)):\n",
    "        if protein_list_search[i]==[] or protein_list_pair[i]==[]:\n",
    "            index.append(i) ## index of empty values for the protein_a_list meaning they dont have any annotated domain\n",
    "\n",
    "    y=[x for x in np.arange(0,len(protein_list_search)) if x not in index] # a list with non empty values from protein_a list\n",
    "\n",
    "    protein_list_search_new=[]\n",
    "    protein_list_pair_new=[]\n",
    "    for i in y:\n",
    "        protein_list_search_new.append(protein_list_search[i])\n",
    "        protein_list_pair_new.append(protein_list_pair[i])\n",
    "    return protein_list_search_new,protein_list_pair_new\n",
    "\n",
    "## evaluating the function\n",
    "\n",
    "protein_a_list_new,protein_b_list_new=remove_empty_domains(protein_a_list,protein_b_list)\n",
    "\n",
    "protein_a_list_non_new,protein_b_list_non_new=remove_empty_domains(protein_a_list_non,protein_b_list_non)"
   ]
  },
  {
   "cell_type": "code",
   "execution_count": 6,
   "metadata": {
    "execution": {
     "iopub.execute_input": "2020-07-13T14:41:52.105235Z",
     "iopub.status.busy": "2020-07-13T14:41:52.103812Z",
     "iopub.status.idle": "2020-07-13T14:41:52.107071Z",
     "shell.execute_reply": "2020-07-13T14:41:52.106525Z"
    }
   },
   "outputs": [
    {
     "name": "stdout",
     "output_type": "stream",
     "text": [
      "The empty domain in the SL were: 80 out of 500 domains\n",
      "The empty domain in the nSL were: 95 out of 500 domains\n"
     ]
    }
   ],
   "source": [
    "print('The empty domain in the SL were:', len(protein_a_list)-len(protein_a_list_new), 'out of', len(protein_a_list),'domains')\n",
    "print('The empty domain in the nSL were:', len(protein_a_list_non)-len(protein_a_list_non_new), 'out of', len(protein_a_list_non),'domains')"
   ]
  },
  {
   "cell_type": "markdown",
   "metadata": {},
   "source": [
    "### Feature engineering: Select from each ordered indexes of domain id list which of them appear once, in both or in any of the domains of each protein pair"
   ]
  },
  {
   "cell_type": "markdown",
   "metadata": {},
   "source": [
    "#### Define function `get_indexes`"
   ]
  },
  {
   "cell_type": "code",
   "execution_count": 7,
   "metadata": {
    "execution": {
     "iopub.execute_input": "2020-07-13T14:41:52.114826Z",
     "iopub.status.busy": "2020-07-13T14:41:52.114267Z",
     "iopub.status.idle": "2020-07-13T14:41:52.117139Z",
     "shell.execute_reply": "2020-07-13T14:41:52.117718Z"
    }
   },
   "outputs": [
    {
     "data": {
      "text/plain": [
       "[1, 2]"
      ]
     },
     "execution_count": 7,
     "metadata": {},
     "output_type": "execute_result"
    }
   ],
   "source": [
    "get_indexes = lambda x, xs: [i for (y, i) in zip(xs, range(len(xs))) if x == y] # a function that give the index of whether a value appear in array or not\n",
    "a=[1,2,2,4,5,6,7,8,9,10]\n",
    "get_indexes(2,a)"
   ]
  },
  {
   "cell_type": "code",
   "execution_count": 8,
   "metadata": {
    "execution": {
     "iopub.execute_input": "2020-07-13T14:41:52.126353Z",
     "iopub.status.busy": "2020-07-13T14:41:52.125153Z",
     "iopub.status.idle": "2020-07-13T14:41:52.128533Z",
     "shell.execute_reply": "2020-07-13T14:41:52.127997Z"
    }
   },
   "outputs": [],
   "source": [
    "def feature_building(protein_a_list_new,protein_b_list_new):\n",
    "    x = np.unique(domain_id_list)\n",
    "    ## To avoid taking repeated domains from one protein of the pairs , lets reduced the domains of each protein from the pairs to their unique members\n",
    "    protein_a_list_unique=[]\n",
    "    protein_b_list_unique=[]\n",
    "    for i in np.arange(0,len(protein_a_list_new)):\n",
    "        protein_a_list_unique.append(np.unique(protein_a_list_new[i]))\n",
    "        protein_b_list_unique.append(np.unique(protein_b_list_new[i]))\n",
    "        \n",
    "    protein_feat_true=np.zeros(shape=(len(x),len(protein_a_list_unique)))\n",
    "    pair_a_b_array=[]\n",
    "    for i in np.arange(0,len(protein_a_list_unique)):\n",
    "        index_a=[]\n",
    "        \n",
    "        pair=[protein_a_list_unique[i],protein_b_list_unique[i]]\n",
    "        pair_a_b=np.concatenate(pair).ravel()\n",
    "        pair_a_b_array.append(pair_a_b)\n",
    "\n",
    "    j=0\n",
    "    for i in pair_a_b_array:  \n",
    "        array,index,counts=np.unique(i,return_index=True,return_counts=True)\n",
    "        \n",
    "        for k,m in zip(counts,array):\n",
    "            if k ==2:\n",
    "                protein_feat_true[get_indexes(m,x),j]=2\n",
    "                \n",
    "            if k==1:\n",
    "                protein_feat_true[get_indexes(m,x),j]=1\n",
    "        j=j+1\n",
    "    return protein_feat_true"
   ]
  },
  {
   "cell_type": "code",
   "execution_count": 9,
   "metadata": {
    "execution": {
     "iopub.execute_input": "2020-07-13T14:41:52.141747Z",
     "iopub.status.busy": "2020-07-13T14:41:52.138983Z",
     "iopub.status.idle": "2020-07-13T14:41:52.893420Z",
     "shell.execute_reply": "2020-07-13T14:41:52.892901Z"
    }
   },
   "outputs": [],
   "source": [
    "protein_feat_true=feature_building(protein_b_list_new=protein_b_list_new,protein_a_list_new=protein_a_list_new)\n",
    "protein_feat_true_pd=pd.DataFrame(protein_feat_true.T)\n",
    "\n",
    "protein_feat_non_true=feature_building(protein_b_list_new=protein_b_list_non_new,protein_a_list_new=protein_a_list_non_new)\n",
    "protein_feat_non_true_pd=pd.DataFrame(protein_feat_non_true.T)"
   ]
  },
  {
   "cell_type": "markdown",
   "metadata": {},
   "source": [
    "### How many ones and twos are in each dataset"
   ]
  },
  {
   "cell_type": "code",
   "execution_count": 10,
   "metadata": {
    "execution": {
     "iopub.execute_input": "2020-07-13T14:41:52.900808Z",
     "iopub.status.busy": "2020-07-13T14:41:52.899966Z",
     "iopub.status.idle": "2020-07-13T14:41:52.992687Z",
     "shell.execute_reply": "2020-07-13T14:41:52.993184Z"
    }
   },
   "outputs": [
    {
     "name": "stdout",
     "output_type": "stream",
     "text": [
      "fraction of twos in the SL array is 2.9909484454939e-05\n",
      "fraction of ones in the SL array is 0.0010066902794175522\n",
      "fraction of twos in the PI array is 8.162432404856647e-06\n",
      "fraction of ones in the PI array is 0.0009019487807366595\n"
     ]
    }
   ],
   "source": [
    "index_2_true=protein_feat_true_pd.where(protein_feat_true_pd==2)\n",
    "index_2_true_count=index_2_true.count(axis=1).sum()\n",
    "\n",
    "index_1_true=protein_feat_true_pd.where(protein_feat_true_pd==1)\n",
    "index_1_true_count=index_1_true.count(axis=1).sum()\n",
    "\n",
    "index_2_nontrue=protein_feat_non_true_pd.where(protein_feat_non_true_pd==2)\n",
    "index_2_nontrue_count=index_2_nontrue.count(axis=1).sum()\n",
    "\n",
    "index_1_nontrue=protein_feat_non_true_pd.where(protein_feat_non_true_pd==1)\n",
    "index_1_nontrue_count=index_1_nontrue.count(axis=1).sum()\n",
    "\n",
    "\n",
    "print('fraction of twos in the SL array is',index_2_true_count/(len(protein_feat_true_pd.index)*len(protein_feat_true_pd.columns)))\n",
    "print('fraction of ones in the SL array is',index_1_true_count/(len(protein_feat_true_pd.index)*len(protein_feat_true_pd.columns)))\n",
    "print('fraction of twos in the PI array is',index_2_nontrue_count/(len(protein_feat_non_true_pd.index)*len(protein_feat_non_true_pd.columns)))\n",
    "print('fraction of ones in the PI array is',index_1_nontrue_count/(len(protein_feat_non_true_pd.index)*len(protein_feat_non_true_pd.columns)))"
   ]
  },
  {
   "cell_type": "markdown",
   "metadata": {},
   "source": [
    "#### Bar plot to visualize these numbers"
   ]
  },
  {
   "cell_type": "code",
   "execution_count": 11,
   "metadata": {
    "execution": {
     "iopub.execute_input": "2020-07-13T14:41:52.999720Z",
     "iopub.status.busy": "2020-07-13T14:41:52.999145Z",
     "iopub.status.idle": "2020-07-13T14:41:53.438093Z",
     "shell.execute_reply": "2020-07-13T14:41:53.437564Z"
    }
   },
   "outputs": [
    {
     "data": {
      "text/plain": [
       "([0, 1, 2, 3], <a list of 4 Text major ticklabel objects>)"
      ]
     },
     "execution_count": 11,
     "metadata": {},
     "output_type": "execute_result"
    },
    {
     "data": {
      "image/png": "[encoded data removed]",
      "text/plain": [
       "<Figure size 432x288 with 1 Axes>"
      ]
     },
     "metadata": {
      "filenames": {
       "image/png": "/home/runner/work/jupyter-book/jupyter-book/mini_book/docs/_build/jupyter_execute/prot_domains2lethality-FEATURES-POSTPROCESSING_18_1.png"
      },
      "needs_background": "light"
     },
     "output_type": "display_data"
    }
   ],
   "source": [
    "plt.bar(['fraction of 2 in the nSL','fraction of 1 in the nSL'],[index_2_nontrue_count/(len(protein_feat_non_true_pd.index)*len(protein_feat_non_true_pd.columns)),index_1_nontrue_count/(len(protein_feat_non_true_pd.index)*len(protein_feat_non_true_pd.columns))],alpha=0.6,color=['blue','lightblue']), \n",
    "\n",
    "plt.bar(['fraction of 2 in SL ','fraction of 1 in SL'],[index_2_true_count/(len(protein_feat_true_pd.index)*len(protein_feat_true_pd.columns)),index_1_true_count/(len(protein_feat_true_pd.index)*len(protein_feat_true_pd.columns))],alpha=0.6,color=['coral','lightcoral'])\n",
    "\n",
    "plt.ylabel('Fraction from the population')\n",
    "plt.yscale('log')\n",
    "plt.xticks(rotation=40)"
   ]
  },
  {
   "cell_type": "markdown",
   "metadata": {},
   "source": [
    "#### Adding the labels(response variables) to each dataset"
   ]
  },
  {
   "cell_type": "code",
   "execution_count": 12,
   "metadata": {
    "execution": {
     "iopub.execute_input": "2020-07-13T14:41:53.443715Z",
     "iopub.status.busy": "2020-07-13T14:41:53.442845Z",
     "iopub.status.idle": "2020-07-13T14:41:53.447654Z",
     "shell.execute_reply": "2020-07-13T14:41:53.447244Z"
    }
   },
   "outputs": [],
   "source": [
    "protein_feat_true_pd['lethality']=np.ones(shape=(len(protein_a_list_new)))\n",
    "protein_feat_non_true_pd['lethality']=np.zeros(shape=(len(protein_a_list_non_new)))"
   ]
  },
  {
   "cell_type": "markdown",
   "metadata": {},
   "source": [
    "#### Joining both datasets"
   ]
  },
  {
   "cell_type": "code",
   "execution_count": 13,
   "metadata": {
    "execution": {
     "iopub.execute_input": "2020-07-13T14:41:53.453125Z",
     "iopub.status.busy": "2020-07-13T14:41:53.452575Z",
     "iopub.status.idle": "2020-07-13T14:41:53.491666Z",
     "shell.execute_reply": "2020-07-13T14:41:53.490837Z"
    }
   },
   "outputs": [
    {
     "name": "stdout",
     "output_type": "stream",
     "text": [
      "The number of features are: 3026\n",
      "The number of samples are: 825\n"
     ]
    }
   ],
   "source": [
    "feature_post=pd.concat([protein_feat_true_pd,protein_feat_non_true_pd],axis=0)\n",
    "feature_post=feature_post.set_index(np.arange(0,len(protein_a_list_new)+len(protein_a_list_non_new)))\n",
    "print('The number of features are:',feature_post.shape[1])\n",
    "print('The number of samples are:',feature_post.shape[0])"
   ]
  },
  {
   "cell_type": "markdown",
   "metadata": {},
   "source": [
    "### Postprocessing and exploration of the feature matrix of both datasets"
   ]
  },
  {
   "cell_type": "code",
   "execution_count": 14,
   "metadata": {
    "execution": {
     "iopub.execute_input": "2020-07-13T14:41:53.498685Z",
     "iopub.status.busy": "2020-07-13T14:41:53.498179Z",
     "iopub.status.idle": "2020-07-13T14:41:58.510708Z",
     "shell.execute_reply": "2020-07-13T14:41:58.511200Z"
    }
   },
   "outputs": [],
   "source": [
    "mean=feature_post.T.describe().loc['mean']\n",
    "std=feature_post.T.describe().loc['std']\n",
    "lethality=feature_post['lethality']\n",
    "\n",
    "corr_keys=pd.concat([mean,std,lethality],axis=1)"
   ]
  },
  {
   "cell_type": "markdown",
   "metadata": {},
   "source": [
    "### Viz of the stats"
   ]
  },
  {
   "cell_type": "code",
   "execution_count": 15,
   "metadata": {
    "execution": {
     "iopub.execute_input": "2020-07-13T14:41:58.529810Z",
     "iopub.status.busy": "2020-07-13T14:41:58.527718Z",
     "iopub.status.idle": "2020-07-13T14:42:00.491783Z",
     "shell.execute_reply": "2020-07-13T14:42:00.490710Z"
    }
   },
   "outputs": [
    {
     "data": {
      "text/plain": [
       "Text(0.5, 1.08, 'Pairplot to see data dependencies with Lethality')"
      ]
     },
     "execution_count": 15,
     "metadata": {},
     "output_type": "execute_result"
    },
    {
     "data": {
      "image/png": "[encoded data removed]",
      "text/plain": [
       "<Figure size 412x360 with 6 Axes>"
      ]
     },
     "metadata": {
      "filenames": {
       "image/png": "/home/runner/work/jupyter-book/jupyter-book/mini_book/docs/_build/jupyter_execute/prot_domains2lethality-FEATURES-POSTPROCESSING_26_1.png"
      },
      "needs_background": "light"
     },
     "output_type": "display_data"
    }
   ],
   "source": [
    "pair=sns.pairplot(corr_keys,hue='lethality',diag_kind='kde',kind='reg',palette='colorblind')\n",
    "pair.fig.suptitle('Pairplot to see data dependencies with Lethality',y=1.08)"
   ]
  },
  {
   "cell_type": "code",
   "execution_count": 16,
   "metadata": {
    "execution": {
     "iopub.execute_input": "2020-07-13T14:42:00.503525Z",
     "iopub.status.busy": "2020-07-13T14:42:00.502623Z",
     "iopub.status.idle": "2020-07-13T14:42:00.505998Z",
     "shell.execute_reply": "2020-07-13T14:42:00.506481Z"
    }
   },
   "outputs": [],
   "source": [
    "X, y = feature_post.drop(columns=[\"lethality\"]), feature_post[\"lethality\"]"
   ]
  },
  {
   "cell_type": "code",
   "execution_count": 17,
   "metadata": {
    "execution": {
     "iopub.execute_input": "2020-07-13T14:42:00.511920Z",
     "iopub.status.busy": "2020-07-13T14:42:00.510910Z",
     "iopub.status.idle": "2020-07-13T14:42:00.660999Z",
     "shell.execute_reply": "2020-07-13T14:42:00.659956Z"
    }
   },
   "outputs": [],
   "source": [
    "from sklearn.preprocessing import StandardScaler\n",
    "scaler = StandardScaler()\n",
    "x_sl=protein_feat_true_pd.drop(columns=['lethality'])\n",
    "x_nsl=protein_feat_non_true_pd.drop(columns=['lethality'])\n",
    "\n",
    "X_sl_scaled = scaler.fit_transform(x_sl)\n",
    "X_nsl_scaled = scaler.fit_transform(x_nsl)"
   ]
  },
  {
   "cell_type": "code",
   "execution_count": 18,
   "metadata": {
    "execution": {
     "iopub.execute_input": "2020-07-13T14:42:00.665259Z",
     "iopub.status.busy": "2020-07-13T14:42:00.664675Z",
     "iopub.status.idle": "2020-07-13T14:42:00.670193Z",
     "shell.execute_reply": "2020-07-13T14:42:00.669702Z"
    }
   },
   "outputs": [
    {
     "data": {
      "text/plain": [
       "(420, 3025)"
      ]
     },
     "execution_count": 18,
     "metadata": {},
     "output_type": "execute_result"
    }
   ],
   "source": [
    "np.shape(X_sl_scaled)"
   ]
  },
  {
   "cell_type": "markdown",
   "metadata": {},
   "source": [
    "## How redundant are each of the protein domains?"
   ]
  },
  {
   "cell_type": "code",
   "execution_count": 19,
   "metadata": {
    "execution": {
     "iopub.execute_input": "2020-07-13T14:42:00.677774Z",
     "iopub.status.busy": "2020-07-13T14:42:00.677226Z",
     "iopub.status.idle": "2020-07-13T14:42:00.681195Z",
     "shell.execute_reply": "2020-07-13T14:42:00.680329Z"
    }
   },
   "outputs": [],
   "source": [
    "def PCA_component_contribution(scaled_matrix,original_data):\n",
    "    from sklearn.decomposition import PCA\n",
    "\n",
    "    model = PCA(0.95).fit(scaled_matrix)\n",
    "    ## apply dimensionality reduction to X_train\n",
    "    output_pca = model.transform(scaled_matrix)\n",
    "    \n",
    "    total=sum(model.explained_variance_)\n",
    "\n",
    "\n",
    "   \n",
    "    # number of components , that it will be the number of main axes times the number of original components \n",
    "    n_pcs= model.components_.shape[0] # the amount of non redundant protein domains \n",
    "\n",
    "    # get the index of the most important feature on EACH component\n",
    "    # LIST COMPREHENSION HERE\n",
    "    most_important = [np.abs(model.components_[i]).argmax() for i in range(n_pcs)]\n",
    "\n",
    "    initial_feature_names = original_data.columns\n",
    "    # get the names\n",
    "    most_important_names = [initial_feature_names[most_important[i]] for i in range(n_pcs)]\n",
    "    \n",
    "\n",
    "    # LIST COMPREHENSION HERE AGAIN\n",
    "    dic = {'PC{}'.format(i): most_important_names[i] for i in range(n_pcs)}\n",
    "\n",
    "    # build the dataframe\n",
    "    df = pd.DataFrame(dic.items(),columns=['pca-component','domain-number'])\n",
    "\n",
    "    return df,model.components_"
   ]
  },
  {
   "cell_type": "code",
   "execution_count": 20,
   "metadata": {
    "execution": {
     "iopub.execute_input": "2020-07-13T14:42:00.684796Z",
     "iopub.status.busy": "2020-07-13T14:42:00.684293Z",
     "iopub.status.idle": "2020-07-13T14:42:01.436710Z",
     "shell.execute_reply": "2020-07-13T14:42:01.437200Z"
    }
   },
   "outputs": [],
   "source": [
    "df_sl,components_pca_nsl=PCA_component_contribution(X_nsl_scaled,x_nsl)\n",
    "df_nsl,components_pca_sl=PCA_component_contribution(X_sl_scaled,x_sl)"
   ]
  },
  {
   "cell_type": "code",
   "execution_count": 21,
   "metadata": {
    "execution": {
     "iopub.execute_input": "2020-07-13T14:42:01.440439Z",
     "iopub.status.busy": "2020-07-13T14:42:01.439125Z",
     "iopub.status.idle": "2020-07-13T14:42:01.450565Z",
     "shell.execute_reply": "2020-07-13T14:42:01.451368Z"
    }
   },
   "outputs": [
    {
     "data": {
      "text/html": [
       "<div>\n",
       "<style scoped>\n",
       "    .dataframe tbody tr th:only-of-type {\n",
       "        vertical-align: middle;\n",
       "    }\n",
       "\n",
       "    .dataframe tbody tr th {\n",
       "        vertical-align: top;\n",
       "    }\n",
       "\n",
       "    .dataframe thead th {\n",
       "        text-align: right;\n",
       "    }\n",
       "</style>\n",
       "<table border=\"1\" class=\"dataframe\">\n",
       "  <thead>\n",
       "    <tr style=\"text-align: right;\">\n",
       "      <th></th>\n",
       "      <th>pca-component</th>\n",
       "      <th>domain-number</th>\n",
       "    </tr>\n",
       "  </thead>\n",
       "  <tbody>\n",
       "    <tr>\n",
       "      <th>0</th>\n",
       "      <td>PC0</td>\n",
       "      <td>135</td>\n",
       "    </tr>\n",
       "    <tr>\n",
       "      <th>1</th>\n",
       "      <td>PC1</td>\n",
       "      <td>142</td>\n",
       "    </tr>\n",
       "    <tr>\n",
       "      <th>2</th>\n",
       "      <td>PC2</td>\n",
       "      <td>242</td>\n",
       "    </tr>\n",
       "    <tr>\n",
       "      <th>3</th>\n",
       "      <td>PC3</td>\n",
       "      <td>55</td>\n",
       "    </tr>\n",
       "    <tr>\n",
       "      <th>4</th>\n",
       "      <td>PC4</td>\n",
       "      <td>219</td>\n",
       "    </tr>\n",
       "  </tbody>\n",
       "</table>\n",
       "</div>"
      ],
      "text/plain": [
       "  pca-component  domain-number\n",
       "0           PC0            135\n",
       "1           PC1            142\n",
       "2           PC2            242\n",
       "3           PC3             55\n",
       "4           PC4            219"
      ]
     },
     "execution_count": 21,
     "metadata": {},
     "output_type": "execute_result"
    }
   ],
   "source": [
    "df_sl.head()"
   ]
  },
  {
   "cell_type": "markdown",
   "metadata": {},
   "source": [
    "## which are the shared domains between nSL and SL pairs , in the PCA reduced samples"
   ]
  },
  {
   "cell_type": "code",
   "execution_count": 22,
   "metadata": {
    "execution": {
     "iopub.execute_input": "2020-07-13T14:42:01.454565Z",
     "iopub.status.busy": "2020-07-13T14:42:01.453527Z",
     "iopub.status.idle": "2020-07-13T14:42:01.488396Z",
     "shell.execute_reply": "2020-07-13T14:42:01.489446Z"
    }
   },
   "outputs": [
    {
     "data": {
      "text/html": [
       "<div>\n",
       "<style scoped>\n",
       "    .dataframe tbody tr th:only-of-type {\n",
       "        vertical-align: middle;\n",
       "    }\n",
       "\n",
       "    .dataframe tbody tr th {\n",
       "        vertical-align: top;\n",
       "    }\n",
       "\n",
       "    .dataframe thead th {\n",
       "        text-align: right;\n",
       "    }\n",
       "</style>\n",
       "<table border=\"1\" class=\"dataframe\">\n",
       "  <thead>\n",
       "    <tr style=\"text-align: right;\">\n",
       "      <th></th>\n",
       "      <th>pca-component_x</th>\n",
       "      <th>domain-number</th>\n",
       "      <th>pca-component_y</th>\n",
       "      <th>domain-description</th>\n",
       "    </tr>\n",
       "  </thead>\n",
       "  <tbody>\n",
       "    <tr>\n",
       "      <th>0</th>\n",
       "      <td>PC3</td>\n",
       "      <td>55</td>\n",
       "      <td>PC4</td>\n",
       "      <td>ADK</td>\n",
       "    </tr>\n",
       "    <tr>\n",
       "      <th>1</th>\n",
       "      <td>PC11</td>\n",
       "      <td>28</td>\n",
       "      <td>PC40</td>\n",
       "      <td>AAA_9</td>\n",
       "    </tr>\n",
       "    <tr>\n",
       "      <th>2</th>\n",
       "      <td>PC11</td>\n",
       "      <td>28</td>\n",
       "      <td>PC156</td>\n",
       "      <td>AAA_9</td>\n",
       "    </tr>\n",
       "    <tr>\n",
       "      <th>3</th>\n",
       "      <td>PC11</td>\n",
       "      <td>28</td>\n",
       "      <td>PC157</td>\n",
       "      <td>AAA_9</td>\n",
       "    </tr>\n",
       "    <tr>\n",
       "      <th>4</th>\n",
       "      <td>PC22</td>\n",
       "      <td>1253</td>\n",
       "      <td>PC39</td>\n",
       "      <td>KA1; Kinase associated domain 1 (KA1)</td>\n",
       "    </tr>\n",
       "    <tr>\n",
       "      <th>5</th>\n",
       "      <td>PC23</td>\n",
       "      <td>1253</td>\n",
       "      <td>PC39</td>\n",
       "      <td>KA1; Kinase associated domain 1 (KA1)</td>\n",
       "    </tr>\n",
       "    <tr>\n",
       "      <th>6</th>\n",
       "      <td>PC30</td>\n",
       "      <td>274</td>\n",
       "      <td>PC41</td>\n",
       "      <td>BOP1NT; BOP1, N-terminal domain</td>\n",
       "    </tr>\n",
       "    <tr>\n",
       "      <th>7</th>\n",
       "      <td>PC36</td>\n",
       "      <td>1021</td>\n",
       "      <td>PC282</td>\n",
       "      <td>Gal4_dimer; Gal4 dimerisation domain</td>\n",
       "    </tr>\n",
       "    <tr>\n",
       "      <th>8</th>\n",
       "      <td>PC50</td>\n",
       "      <td>1072</td>\n",
       "      <td>PC33</td>\n",
       "      <td>Glycos_transf_1; Glycosyl transferase, family 1</td>\n",
       "    </tr>\n",
       "    <tr>\n",
       "      <th>9</th>\n",
       "      <td>PC64</td>\n",
       "      <td>87</td>\n",
       "      <td>PC79</td>\n",
       "      <td>ANAPC4_WD40; Anaphase-promoting complex subuni...</td>\n",
       "    </tr>\n",
       "    <tr>\n",
       "      <th>10</th>\n",
       "      <td>PC64</td>\n",
       "      <td>87</td>\n",
       "      <td>PC83</td>\n",
       "      <td>ANAPC4_WD40; Anaphase-promoting complex subuni...</td>\n",
       "    </tr>\n",
       "    <tr>\n",
       "      <th>11</th>\n",
       "      <td>PC65</td>\n",
       "      <td>200</td>\n",
       "      <td>PC74</td>\n",
       "      <td>Amidohydro_1; Amidohydrolase-related</td>\n",
       "    </tr>\n",
       "    <tr>\n",
       "      <th>12</th>\n",
       "      <td>PC78</td>\n",
       "      <td>1216</td>\n",
       "      <td>PC111</td>\n",
       "      <td>IMS; UmuC domain</td>\n",
       "    </tr>\n",
       "    <tr>\n",
       "      <th>13</th>\n",
       "      <td>PC78</td>\n",
       "      <td>1216</td>\n",
       "      <td>PC112</td>\n",
       "      <td>IMS; UmuC domain</td>\n",
       "    </tr>\n",
       "    <tr>\n",
       "      <th>14</th>\n",
       "      <td>PC81</td>\n",
       "      <td>309</td>\n",
       "      <td>PC199</td>\n",
       "      <td>Bystin</td>\n",
       "    </tr>\n",
       "    <tr>\n",
       "      <th>15</th>\n",
       "      <td>PC88</td>\n",
       "      <td>2323</td>\n",
       "      <td>PC151</td>\n",
       "      <td>SHQ1; SHQ1 protein</td>\n",
       "    </tr>\n",
       "    <tr>\n",
       "      <th>16</th>\n",
       "      <td>PC105</td>\n",
       "      <td>163</td>\n",
       "      <td>PC125</td>\n",
       "      <td>Acyl_transf_1; Acyl transferase</td>\n",
       "    </tr>\n",
       "    <tr>\n",
       "      <th>17</th>\n",
       "      <td>PC112</td>\n",
       "      <td>163</td>\n",
       "      <td>PC125</td>\n",
       "      <td>Acyl_transf_1; Acyl transferase</td>\n",
       "    </tr>\n",
       "    <tr>\n",
       "      <th>18</th>\n",
       "      <td>PC106</td>\n",
       "      <td>247</td>\n",
       "      <td>PC87</td>\n",
       "      <td>Autophagy_act_C; Autophagy-related protein 3</td>\n",
       "    </tr>\n",
       "    <tr>\n",
       "      <th>19</th>\n",
       "      <td>PC108</td>\n",
       "      <td>2693</td>\n",
       "      <td>PC101</td>\n",
       "      <td>Transferase</td>\n",
       "    </tr>\n",
       "    <tr>\n",
       "      <th>20</th>\n",
       "      <td>PC109</td>\n",
       "      <td>1063</td>\n",
       "      <td>PC214</td>\n",
       "      <td>Glyco_transf_20; Glycosyl transferase, family 20</td>\n",
       "    </tr>\n",
       "    <tr>\n",
       "      <th>21</th>\n",
       "      <td>PC124</td>\n",
       "      <td>1063</td>\n",
       "      <td>PC214</td>\n",
       "      <td>Glyco_transf_20; Glycosyl transferase, family 20</td>\n",
       "    </tr>\n",
       "    <tr>\n",
       "      <th>22</th>\n",
       "      <td>PC119</td>\n",
       "      <td>1061</td>\n",
       "      <td>PC137</td>\n",
       "      <td>Glyco_tran_28_C; Glycosyl transferase, family ...</td>\n",
       "    </tr>\n",
       "    <tr>\n",
       "      <th>23</th>\n",
       "      <td>PC119</td>\n",
       "      <td>1061</td>\n",
       "      <td>PC138</td>\n",
       "      <td>Glyco_tran_28_C; Glycosyl transferase, family ...</td>\n",
       "    </tr>\n",
       "    <tr>\n",
       "      <th>24</th>\n",
       "      <td>PC120</td>\n",
       "      <td>302</td>\n",
       "      <td>PC160</td>\n",
       "      <td>Brix; Brix domain</td>\n",
       "    </tr>\n",
       "    <tr>\n",
       "      <th>25</th>\n",
       "      <td>PC129</td>\n",
       "      <td>302</td>\n",
       "      <td>PC160</td>\n",
       "      <td>Brix; Brix domain</td>\n",
       "    </tr>\n",
       "    <tr>\n",
       "      <th>26</th>\n",
       "      <td>PC133</td>\n",
       "      <td>25</td>\n",
       "      <td>PC64</td>\n",
       "      <td>AAA_6</td>\n",
       "    </tr>\n",
       "    <tr>\n",
       "      <th>27</th>\n",
       "      <td>PC134</td>\n",
       "      <td>1340</td>\n",
       "      <td>PC279</td>\n",
       "      <td>Lysine_decarbox; LOG family</td>\n",
       "    </tr>\n",
       "    <tr>\n",
       "      <th>28</th>\n",
       "      <td>PC134</td>\n",
       "      <td>1340</td>\n",
       "      <td>PC280</td>\n",
       "      <td>Lysine_decarbox; LOG family</td>\n",
       "    </tr>\n",
       "    <tr>\n",
       "      <th>29</th>\n",
       "      <td>PC165</td>\n",
       "      <td>1402</td>\n",
       "      <td>PC239</td>\n",
       "      <td>MRP-S25; Mitochondrial ribosomal protein S25</td>\n",
       "    </tr>\n",
       "    <tr>\n",
       "      <th>30</th>\n",
       "      <td>PC166</td>\n",
       "      <td>4</td>\n",
       "      <td>PC212</td>\n",
       "      <td>2-oxoacid_dh; 2-oxoacid dehydrogenase acyltran...</td>\n",
       "    </tr>\n",
       "    <tr>\n",
       "      <th>31</th>\n",
       "      <td>PC173</td>\n",
       "      <td>1025</td>\n",
       "      <td>PC173</td>\n",
       "      <td>Gal_mutarotas_2; Glycoside hydrolase family 31...</td>\n",
       "    </tr>\n",
       "    <tr>\n",
       "      <th>32</th>\n",
       "      <td>PC175</td>\n",
       "      <td>1233</td>\n",
       "      <td>PC107</td>\n",
       "      <td>Inhibitor_I9; Peptidase S8 propeptide/proteina...</td>\n",
       "    </tr>\n",
       "    <tr>\n",
       "      <th>33</th>\n",
       "      <td>PC181</td>\n",
       "      <td>1267</td>\n",
       "      <td>PC143</td>\n",
       "      <td>Kelch_3</td>\n",
       "    </tr>\n",
       "    <tr>\n",
       "      <th>34</th>\n",
       "      <td>PC190</td>\n",
       "      <td>825</td>\n",
       "      <td>PC68</td>\n",
       "      <td>ETF_QO</td>\n",
       "    </tr>\n",
       "    <tr>\n",
       "      <th>35</th>\n",
       "      <td>PC190</td>\n",
       "      <td>825</td>\n",
       "      <td>PC69</td>\n",
       "      <td>ETF_QO</td>\n",
       "    </tr>\n",
       "    <tr>\n",
       "      <th>36</th>\n",
       "      <td>PC192</td>\n",
       "      <td>583</td>\n",
       "      <td>PC248</td>\n",
       "      <td>DHH; DDH domain</td>\n",
       "    </tr>\n",
       "    <tr>\n",
       "      <th>37</th>\n",
       "      <td>PC203</td>\n",
       "      <td>1743</td>\n",
       "      <td>PC63</td>\n",
       "      <td>PHD_2</td>\n",
       "    </tr>\n",
       "    <tr>\n",
       "      <th>38</th>\n",
       "      <td>PC207</td>\n",
       "      <td>2054</td>\n",
       "      <td>PC89</td>\n",
       "      <td>RRF; Ribosome recycling factor domain</td>\n",
       "    </tr>\n",
       "    <tr>\n",
       "      <th>39</th>\n",
       "      <td>PC208</td>\n",
       "      <td>2054</td>\n",
       "      <td>PC89</td>\n",
       "      <td>RRF; Ribosome recycling factor domain</td>\n",
       "    </tr>\n",
       "    <tr>\n",
       "      <th>40</th>\n",
       "      <td>PC222</td>\n",
       "      <td>271</td>\n",
       "      <td>PC129</td>\n",
       "      <td>BLI1</td>\n",
       "    </tr>\n",
       "    <tr>\n",
       "      <th>41</th>\n",
       "      <td>PC222</td>\n",
       "      <td>271</td>\n",
       "      <td>PC133</td>\n",
       "      <td>BLI1</td>\n",
       "    </tr>\n",
       "    <tr>\n",
       "      <th>42</th>\n",
       "      <td>PC229</td>\n",
       "      <td>934</td>\n",
       "      <td>PC207</td>\n",
       "      <td>Folliculin</td>\n",
       "    </tr>\n",
       "    <tr>\n",
       "      <th>43</th>\n",
       "      <td>PC230</td>\n",
       "      <td>132</td>\n",
       "      <td>PC264</td>\n",
       "      <td>ATP-synt_ab; ATPase, F1/V1/A1 complex, alpha/b...</td>\n",
       "    </tr>\n",
       "    <tr>\n",
       "      <th>44</th>\n",
       "      <td>PC236</td>\n",
       "      <td>867</td>\n",
       "      <td>PC104</td>\n",
       "      <td>FAD_binding_7; Cryptochrome/DNA photolyase, FA...</td>\n",
       "    </tr>\n",
       "    <tr>\n",
       "      <th>45</th>\n",
       "      <td>PC240</td>\n",
       "      <td>1498</td>\n",
       "      <td>PC225</td>\n",
       "      <td>MmgE_PrpD; MmgE/PrpD</td>\n",
       "    </tr>\n",
       "    <tr>\n",
       "      <th>46</th>\n",
       "      <td>PC244</td>\n",
       "      <td>161</td>\n",
       "      <td>PC71</td>\n",
       "      <td>Acyl-CoA_ox_N; Acyl-coenzyme A oxidase, N-term...</td>\n",
       "    </tr>\n",
       "    <tr>\n",
       "      <th>47</th>\n",
       "      <td>PC261</td>\n",
       "      <td>161</td>\n",
       "      <td>PC71</td>\n",
       "      <td>Acyl-CoA_ox_N; Acyl-coenzyme A oxidase, N-term...</td>\n",
       "    </tr>\n",
       "    <tr>\n",
       "      <th>48</th>\n",
       "      <td>PC249</td>\n",
       "      <td>760</td>\n",
       "      <td>PC53</td>\n",
       "      <td>Dopey_N; Dopey, N-terminal</td>\n",
       "    </tr>\n",
       "    <tr>\n",
       "      <th>49</th>\n",
       "      <td>PC264</td>\n",
       "      <td>1924</td>\n",
       "      <td>PC25</td>\n",
       "      <td>Pol_alpha_B_N; DNA polymerase alpha, subunit B...</td>\n",
       "    </tr>\n",
       "    <tr>\n",
       "      <th>50</th>\n",
       "      <td>PC264</td>\n",
       "      <td>1924</td>\n",
       "      <td>PC27</td>\n",
       "      <td>Pol_alpha_B_N; DNA polymerase alpha, subunit B...</td>\n",
       "    </tr>\n",
       "    <tr>\n",
       "      <th>51</th>\n",
       "      <td>PC273</td>\n",
       "      <td>2244</td>\n",
       "      <td>PC150</td>\n",
       "      <td>Ribosomal_S6e; Ribosomal protein S6e</td>\n",
       "    </tr>\n",
       "  </tbody>\n",
       "</table>\n",
       "</div>"
      ],
      "text/plain": [
       "   pca-component_x  domain-number pca-component_y  \\\n",
       "0              PC3             55             PC4   \n",
       "1             PC11             28            PC40   \n",
       "2             PC11             28           PC156   \n",
       "3             PC11             28           PC157   \n",
       "4             PC22           1253            PC39   \n",
       "5             PC23           1253            PC39   \n",
       "6             PC30            274            PC41   \n",
       "7             PC36           1021           PC282   \n",
       "8             PC50           1072            PC33   \n",
       "9             PC64             87            PC79   \n",
       "10            PC64             87            PC83   \n",
       "11            PC65            200            PC74   \n",
       "12            PC78           1216           PC111   \n",
       "13            PC78           1216           PC112   \n",
       "14            PC81            309           PC199   \n",
       "15            PC88           2323           PC151   \n",
       "16           PC105            163           PC125   \n",
       "17           PC112            163           PC125   \n",
       "18           PC106            247            PC87   \n",
       "19           PC108           2693           PC101   \n",
       "20           PC109           1063           PC214   \n",
       "21           PC124           1063           PC214   \n",
       "22           PC119           1061           PC137   \n",
       "23           PC119           1061           PC138   \n",
       "24           PC120            302           PC160   \n",
       "25           PC129            302           PC160   \n",
       "26           PC133             25            PC64   \n",
       "27           PC134           1340           PC279   \n",
       "28           PC134           1340           PC280   \n",
       "29           PC165           1402           PC239   \n",
       "30           PC166              4           PC212   \n",
       "31           PC173           1025           PC173   \n",
       "32           PC175           1233           PC107   \n",
       "33           PC181           1267           PC143   \n",
       "34           PC190            825            PC68   \n",
       "35           PC190            825            PC69   \n",
       "36           PC192            583           PC248   \n",
       "37           PC203           1743            PC63   \n",
       "38           PC207           2054            PC89   \n",
       "39           PC208           2054            PC89   \n",
       "40           PC222            271           PC129   \n",
       "41           PC222            271           PC133   \n",
       "42           PC229            934           PC207   \n",
       "43           PC230            132           PC264   \n",
       "44           PC236            867           PC104   \n",
       "45           PC240           1498           PC225   \n",
       "46           PC244            161            PC71   \n",
       "47           PC261            161            PC71   \n",
       "48           PC249            760            PC53   \n",
       "49           PC264           1924            PC25   \n",
       "50           PC264           1924            PC27   \n",
       "51           PC273           2244           PC150   \n",
       "\n",
       "                                   domain-description  \n",
       "0                                                 ADK  \n",
       "1                                               AAA_9  \n",
       "2                                               AAA_9  \n",
       "3                                               AAA_9  \n",
       "4               KA1; Kinase associated domain 1 (KA1)  \n",
       "5               KA1; Kinase associated domain 1 (KA1)  \n",
       "6                     BOP1NT; BOP1, N-terminal domain  \n",
       "7                Gal4_dimer; Gal4 dimerisation domain  \n",
       "8     Glycos_transf_1; Glycosyl transferase, family 1  \n",
       "9   ANAPC4_WD40; Anaphase-promoting complex subuni...  \n",
       "10  ANAPC4_WD40; Anaphase-promoting complex subuni...  \n",
       "11               Amidohydro_1; Amidohydrolase-related  \n",
       "12                                   IMS; UmuC domain  \n",
       "13                                   IMS; UmuC domain  \n",
       "14                                             Bystin  \n",
       "15                                 SHQ1; SHQ1 protein  \n",
       "16                    Acyl_transf_1; Acyl transferase  \n",
       "17                    Acyl_transf_1; Acyl transferase  \n",
       "18       Autophagy_act_C; Autophagy-related protein 3  \n",
       "19                                        Transferase  \n",
       "20   Glyco_transf_20; Glycosyl transferase, family 20  \n",
       "21   Glyco_transf_20; Glycosyl transferase, family 20  \n",
       "22  Glyco_tran_28_C; Glycosyl transferase, family ...  \n",
       "23  Glyco_tran_28_C; Glycosyl transferase, family ...  \n",
       "24                                  Brix; Brix domain  \n",
       "25                                  Brix; Brix domain  \n",
       "26                                              AAA_6  \n",
       "27                        Lysine_decarbox; LOG family  \n",
       "28                        Lysine_decarbox; LOG family  \n",
       "29       MRP-S25; Mitochondrial ribosomal protein S25  \n",
       "30  2-oxoacid_dh; 2-oxoacid dehydrogenase acyltran...  \n",
       "31  Gal_mutarotas_2; Glycoside hydrolase family 31...  \n",
       "32  Inhibitor_I9; Peptidase S8 propeptide/proteina...  \n",
       "33                                            Kelch_3  \n",
       "34                                             ETF_QO  \n",
       "35                                             ETF_QO  \n",
       "36                                    DHH; DDH domain  \n",
       "37                                              PHD_2  \n",
       "38              RRF; Ribosome recycling factor domain  \n",
       "39              RRF; Ribosome recycling factor domain  \n",
       "40                                               BLI1  \n",
       "41                                               BLI1  \n",
       "42                                         Folliculin  \n",
       "43  ATP-synt_ab; ATPase, F1/V1/A1 complex, alpha/b...  \n",
       "44  FAD_binding_7; Cryptochrome/DNA photolyase, FA...  \n",
       "45                               MmgE_PrpD; MmgE/PrpD  \n",
       "46  Acyl-CoA_ox_N; Acyl-coenzyme A oxidase, N-term...  \n",
       "47  Acyl-CoA_ox_N; Acyl-coenzyme A oxidase, N-term...  \n",
       "48                         Dopey_N; Dopey, N-terminal  \n",
       "49  Pol_alpha_B_N; DNA polymerase alpha, subunit B...  \n",
       "50  Pol_alpha_B_N; DNA polymerase alpha, subunit B...  \n",
       "51               Ribosomal_S6e; Ribosomal protein S6e  "
      ]
     },
     "execution_count": 22,
     "metadata": {},
     "output_type": "execute_result"
    }
   ],
   "source": [
    "df_shared_domains=pd.merge(df_sl,df_nsl,how='inner',on='domain-number')\n",
    "domains_name=np.unique(data_domains['domain-name'])\n",
    "domains_description=np.unique(data_domains['domain-descrip'])\n",
    "\n",
    "df_shared_domains['domain-description']=domains_description[df_shared_domains['domain-number']]\n",
    "\n",
    "\n",
    "df_shared_domains"
   ]
  },
  {
   "cell_type": "code",
   "execution_count": 23,
   "metadata": {
    "execution": {
     "iopub.execute_input": "2020-07-13T14:42:01.493107Z",
     "iopub.status.busy": "2020-07-13T14:42:01.492053Z",
     "iopub.status.idle": "2020-07-13T14:42:01.499641Z",
     "shell.execute_reply": "2020-07-13T14:42:01.500514Z"
    }
   },
   "outputs": [
    {
     "name": "stdout",
     "output_type": "stream",
     "text": [
      "The number of shared domains between SL and nSL pairs,after PCA, is =  52 out of 564 so the 9.21985815602837 %\n"
     ]
    }
   ],
   "source": [
    "print('The number of shared domains between SL and nSL pairs,after PCA, is = ',len(df_shared_domains), 'out of', len(df_sl)+len(df_nsl), 'so the',100*len(df_shared_domains)/(len(df_sl)+len(df_nsl)),'%')"
   ]
  },
  {
   "cell_type": "markdown",
   "metadata": {},
   "source": [
    "## Domains exclusive to SL"
   ]
  },
  {
   "cell_type": "code",
   "execution_count": 24,
   "metadata": {
    "execution": {
     "iopub.execute_input": "2020-07-13T14:42:01.503683Z",
     "iopub.status.busy": "2020-07-13T14:42:01.502660Z",
     "iopub.status.idle": "2020-07-13T14:42:01.535047Z",
     "shell.execute_reply": "2020-07-13T14:42:01.536821Z"
    }
   },
   "outputs": [
    {
     "data": {
      "text/html": [
       "<div>\n",
       "<style scoped>\n",
       "    .dataframe tbody tr th:only-of-type {\n",
       "        vertical-align: middle;\n",
       "    }\n",
       "\n",
       "    .dataframe tbody tr th {\n",
       "        vertical-align: top;\n",
       "    }\n",
       "\n",
       "    .dataframe thead th {\n",
       "        text-align: right;\n",
       "    }\n",
       "</style>\n",
       "<table border=\"1\" class=\"dataframe\">\n",
       "  <thead>\n",
       "    <tr style=\"text-align: right;\">\n",
       "      <th></th>\n",
       "      <th>pca-component_x</th>\n",
       "      <th>domain-number</th>\n",
       "      <th>pca-component_y</th>\n",
       "      <th>domain-description</th>\n",
       "    </tr>\n",
       "  </thead>\n",
       "  <tbody>\n",
       "    <tr>\n",
       "      <th>0</th>\n",
       "      <td>PC0</td>\n",
       "      <td>135</td>\n",
       "      <td>NaN</td>\n",
       "      <td>ATP-synt_ab_Xtn; ATPsynthase alpha/beta subuni...</td>\n",
       "    </tr>\n",
       "    <tr>\n",
       "      <th>1</th>\n",
       "      <td>PC1</td>\n",
       "      <td>142</td>\n",
       "      <td>NaN</td>\n",
       "      <td>ATP_synt_H; ATPase, V0 complex, subunit e1/e2</td>\n",
       "    </tr>\n",
       "    <tr>\n",
       "      <th>2</th>\n",
       "      <td>PC2</td>\n",
       "      <td>242</td>\n",
       "      <td>NaN</td>\n",
       "      <td>Atg31; Autophagy-related protein 31</td>\n",
       "    </tr>\n",
       "    <tr>\n",
       "      <th>4</th>\n",
       "      <td>PC4</td>\n",
       "      <td>219</td>\n",
       "      <td>NaN</td>\n",
       "      <td>Apc15p; Anaphase-promoting complex subunit  15...</td>\n",
       "    </tr>\n",
       "    <tr>\n",
       "      <th>5</th>\n",
       "      <td>PC5</td>\n",
       "      <td>339</td>\n",
       "      <td>NaN</td>\n",
       "      <td>CDC50; CDC50/LEM3 family</td>\n",
       "    </tr>\n",
       "    <tr>\n",
       "      <th>...</th>\n",
       "      <td>...</td>\n",
       "      <td>...</td>\n",
       "      <td>...</td>\n",
       "      <td>...</td>\n",
       "    </tr>\n",
       "    <tr>\n",
       "      <th>283</th>\n",
       "      <td>PC274</td>\n",
       "      <td>425</td>\n",
       "      <td>NaN</td>\n",
       "      <td>CTD</td>\n",
       "    </tr>\n",
       "    <tr>\n",
       "      <th>284</th>\n",
       "      <td>PC275</td>\n",
       "      <td>818</td>\n",
       "      <td>NaN</td>\n",
       "      <td>ERGIC_N</td>\n",
       "    </tr>\n",
       "    <tr>\n",
       "      <th>285</th>\n",
       "      <td>PC276</td>\n",
       "      <td>2228</td>\n",
       "      <td>NaN</td>\n",
       "      <td>Ribosomal_S21e; Ribosomal protein S21e</td>\n",
       "    </tr>\n",
       "    <tr>\n",
       "      <th>286</th>\n",
       "      <td>PC277</td>\n",
       "      <td>1275</td>\n",
       "      <td>NaN</td>\n",
       "      <td>Kinetocho_Slk19; Central kinetochore-associated</td>\n",
       "    </tr>\n",
       "    <tr>\n",
       "      <th>287</th>\n",
       "      <td>PC278</td>\n",
       "      <td>648</td>\n",
       "      <td>NaN</td>\n",
       "      <td>DUF1706; Protein of unknown function DUF1706</td>\n",
       "    </tr>\n",
       "  </tbody>\n",
       "</table>\n",
       "<p>236 rows × 4 columns</p>\n",
       "</div>"
      ],
      "text/plain": [
       "    pca-component_x  domain-number pca-component_y  \\\n",
       "0               PC0            135             NaN   \n",
       "1               PC1            142             NaN   \n",
       "2               PC2            242             NaN   \n",
       "4               PC4            219             NaN   \n",
       "5               PC5            339             NaN   \n",
       "..              ...            ...             ...   \n",
       "283           PC274            425             NaN   \n",
       "284           PC275            818             NaN   \n",
       "285           PC276           2228             NaN   \n",
       "286           PC277           1275             NaN   \n",
       "287           PC278            648             NaN   \n",
       "\n",
       "                                    domain-description  \n",
       "0    ATP-synt_ab_Xtn; ATPsynthase alpha/beta subuni...  \n",
       "1        ATP_synt_H; ATPase, V0 complex, subunit e1/e2  \n",
       "2                  Atg31; Autophagy-related protein 31  \n",
       "4    Apc15p; Anaphase-promoting complex subunit  15...  \n",
       "5                             CDC50; CDC50/LEM3 family  \n",
       "..                                                 ...  \n",
       "283                                                CTD  \n",
       "284                                            ERGIC_N  \n",
       "285             Ribosomal_S21e; Ribosomal protein S21e  \n",
       "286    Kinetocho_Slk19; Central kinetochore-associated  \n",
       "287       DUF1706; Protein of unknown function DUF1706  \n",
       "\n",
       "[236 rows x 4 columns]"
      ]
     },
     "execution_count": 24,
     "metadata": {},
     "output_type": "execute_result"
    }
   ],
   "source": [
    "df_sl_exclusive=pd.merge(df_sl,df_nsl,how='left',on='domain-number')\n",
    "\n",
    "domains_name=np.unique(data_domains['domain-name'])\n",
    "domains_description=np.unique(data_domains['domain-descrip'])\n",
    "\n",
    "df_sl_exclusive['domain-description']=domains_description[df_sl_exclusive['domain-number']]\n",
    "df_sl_exclusive[pd.isnull(df_sl_exclusive['pca-component_y'])]"
   ]
  },
  {
   "cell_type": "code",
   "execution_count": 25,
   "metadata": {
    "execution": {
     "iopub.execute_input": "2020-07-13T14:42:01.541385Z",
     "iopub.status.busy": "2020-07-13T14:42:01.540299Z",
     "iopub.status.idle": "2020-07-13T14:42:01.549144Z",
     "shell.execute_reply": "2020-07-13T14:42:01.548569Z"
    }
   },
   "outputs": [
    {
     "name": "stdout",
     "output_type": "stream",
     "text": [
      "The number of exclusive domains from SL pairs, after PCA, is =  288 out of 564 so the 51.06382978723404 %\n"
     ]
    }
   ],
   "source": [
    "print('The number of exclusive domains from SL pairs, after PCA, is = ',len(df_sl_exclusive), 'out of', len(df_sl)+len(df_nsl), 'so the',100*len(df_sl_exclusive)/(len(df_sl)+len(df_nsl)),'%')"
   ]
  },
  {
   "cell_type": "code",
   "execution_count": 26,
   "metadata": {
    "execution": {
     "iopub.execute_input": "2020-07-13T14:42:01.581847Z",
     "iopub.status.busy": "2020-07-13T14:42:01.555522Z",
     "iopub.status.idle": "2020-07-13T14:42:01.587316Z",
     "shell.execute_reply": "2020-07-13T14:42:01.586841Z"
    }
   },
   "outputs": [
    {
     "data": {
      "text/html": [
       "<div>\n",
       "<style scoped>\n",
       "    .dataframe tbody tr th:only-of-type {\n",
       "        vertical-align: middle;\n",
       "    }\n",
       "\n",
       "    .dataframe tbody tr th {\n",
       "        vertical-align: top;\n",
       "    }\n",
       "\n",
       "    .dataframe thead th {\n",
       "        text-align: right;\n",
       "    }\n",
       "</style>\n",
       "<table border=\"1\" class=\"dataframe\">\n",
       "  <thead>\n",
       "    <tr style=\"text-align: right;\">\n",
       "      <th></th>\n",
       "      <th>pca-component_x</th>\n",
       "      <th>domain-number</th>\n",
       "      <th>pca-component_y</th>\n",
       "      <th>domain-description</th>\n",
       "    </tr>\n",
       "  </thead>\n",
       "  <tbody>\n",
       "    <tr>\n",
       "      <th>52</th>\n",
       "      <td>NaN</td>\n",
       "      <td>1028</td>\n",
       "      <td>PC0</td>\n",
       "      <td>GatB_Yqey; Asn/Gln amidotransferase</td>\n",
       "    </tr>\n",
       "    <tr>\n",
       "      <th>53</th>\n",
       "      <td>NaN</td>\n",
       "      <td>305</td>\n",
       "      <td>PC1</td>\n",
       "      <td>Brr6_like_C_C; Brl1/Brr6 domain</td>\n",
       "    </tr>\n",
       "    <tr>\n",
       "      <th>54</th>\n",
       "      <td>NaN</td>\n",
       "      <td>308</td>\n",
       "      <td>PC2</td>\n",
       "      <td>Bul1_N; Bul1, N-terminal</td>\n",
       "    </tr>\n",
       "    <tr>\n",
       "      <th>55</th>\n",
       "      <td>NaN</td>\n",
       "      <td>1055</td>\n",
       "      <td>PC3</td>\n",
       "      <td>Glyco_hydro_63N; Glycosyl hydrolase family 63,...</td>\n",
       "    </tr>\n",
       "    <tr>\n",
       "      <th>56</th>\n",
       "      <td>NaN</td>\n",
       "      <td>2113</td>\n",
       "      <td>PC5</td>\n",
       "      <td>Rav1p_C; RAVE complex protein Rav1 C-terminal</td>\n",
       "    </tr>\n",
       "    <tr>\n",
       "      <th>...</th>\n",
       "      <td>...</td>\n",
       "      <td>...</td>\n",
       "      <td>...</td>\n",
       "      <td>...</td>\n",
       "    </tr>\n",
       "    <tr>\n",
       "      <th>286</th>\n",
       "      <td>NaN</td>\n",
       "      <td>2730</td>\n",
       "      <td>PC277</td>\n",
       "      <td>UBA_3; Ubiquitin-conjugating enzyme, C-termina...</td>\n",
       "    </tr>\n",
       "    <tr>\n",
       "      <th>287</th>\n",
       "      <td>NaN</td>\n",
       "      <td>2920</td>\n",
       "      <td>PC278</td>\n",
       "      <td>ketoacyl-synt; Beta-ketoacyl synthase, N-terminal</td>\n",
       "    </tr>\n",
       "    <tr>\n",
       "      <th>288</th>\n",
       "      <td>NaN</td>\n",
       "      <td>2832</td>\n",
       "      <td>PC281</td>\n",
       "      <td>Vps4_C; Vps4 oligomerisation, C-terminal</td>\n",
       "    </tr>\n",
       "    <tr>\n",
       "      <th>289</th>\n",
       "      <td>NaN</td>\n",
       "      <td>2696</td>\n",
       "      <td>PC283</td>\n",
       "      <td>Transketolase_N; Transketolase, N-terminal</td>\n",
       "    </tr>\n",
       "    <tr>\n",
       "      <th>290</th>\n",
       "      <td>NaN</td>\n",
       "      <td>2481</td>\n",
       "      <td>PC284</td>\n",
       "      <td>Sir1; Sir1, ORC-binding domain</td>\n",
       "    </tr>\n",
       "  </tbody>\n",
       "</table>\n",
       "<p>239 rows × 4 columns</p>\n",
       "</div>"
      ],
      "text/plain": [
       "    pca-component_x  domain-number pca-component_y  \\\n",
       "52              NaN           1028             PC0   \n",
       "53              NaN            305             PC1   \n",
       "54              NaN            308             PC2   \n",
       "55              NaN           1055             PC3   \n",
       "56              NaN           2113             PC5   \n",
       "..              ...            ...             ...   \n",
       "286             NaN           2730           PC277   \n",
       "287             NaN           2920           PC278   \n",
       "288             NaN           2832           PC281   \n",
       "289             NaN           2696           PC283   \n",
       "290             NaN           2481           PC284   \n",
       "\n",
       "                                    domain-description  \n",
       "52                 GatB_Yqey; Asn/Gln amidotransferase  \n",
       "53                     Brr6_like_C_C; Brl1/Brr6 domain  \n",
       "54                            Bul1_N; Bul1, N-terminal  \n",
       "55   Glyco_hydro_63N; Glycosyl hydrolase family 63,...  \n",
       "56       Rav1p_C; RAVE complex protein Rav1 C-terminal  \n",
       "..                                                 ...  \n",
       "286  UBA_3; Ubiquitin-conjugating enzyme, C-termina...  \n",
       "287  ketoacyl-synt; Beta-ketoacyl synthase, N-terminal  \n",
       "288           Vps4_C; Vps4 oligomerisation, C-terminal  \n",
       "289         Transketolase_N; Transketolase, N-terminal  \n",
       "290                     Sir1; Sir1, ORC-binding domain  \n",
       "\n",
       "[239 rows x 4 columns]"
      ]
     },
     "execution_count": 26,
     "metadata": {},
     "output_type": "execute_result"
    }
   ],
   "source": [
    "df_nsl_exclusive=pd.merge(df_sl,df_nsl,how='right',on='domain-number')\n",
    "\n",
    "domains_name=np.unique(data_domains['domain-name'])\n",
    "domains_description=np.unique(data_domains['domain-descrip'])\n",
    "\n",
    "df_nsl_exclusive['domain-description']=domains_description[df_nsl_exclusive['domain-number']]\n",
    "df_nsl_exclusive[pd.isnull(df_nsl_exclusive['pca-component_x'])]"
   ]
  },
  {
   "cell_type": "code",
   "execution_count": 27,
   "metadata": {
    "execution": {
     "iopub.execute_input": "2020-07-13T14:42:01.592149Z",
     "iopub.status.busy": "2020-07-13T14:42:01.591548Z",
     "iopub.status.idle": "2020-07-13T14:42:01.597146Z",
     "shell.execute_reply": "2020-07-13T14:42:01.596675Z"
    }
   },
   "outputs": [
    {
     "name": "stdout",
     "output_type": "stream",
     "text": [
      "The number of exclusive domains from non SL pairs, after PCA, is =  291 out of 564 so the 51.59574468085106 %\n"
     ]
    }
   ],
   "source": [
    "print('The number of exclusive domains from non SL pairs, after PCA, is = ',len(df_nsl_exclusive), 'out of', len(df_sl)+len(df_nsl), 'so the',100*len(df_nsl_exclusive)/(len(df_sl)+len(df_nsl)),'%')"
   ]
  },
  {
   "cell_type": "markdown",
   "metadata": {},
   "source": [
    "## Let see to the domains-number that get repeated after the PCA analysis , and selecting the most explanatory feature by its explained variance."
   ]
  },
  {
   "cell_type": "code",
   "execution_count": 28,
   "metadata": {
    "execution": {
     "iopub.execute_input": "2020-07-13T14:42:01.620739Z",
     "iopub.status.busy": "2020-07-13T14:42:01.620129Z",
     "iopub.status.idle": "2020-07-13T14:42:01.624072Z",
     "shell.execute_reply": "2020-07-13T14:42:01.623378Z"
    }
   },
   "outputs": [],
   "source": [
    "duplicated_features_sl=df_sl[df_sl.iloc[:,1].duplicated()]\n",
    "repeated_features_sl=pd.DataFrame()\n",
    "\n",
    "domains_name=np.unique(data_domains['domain-name'])\n",
    "domains_description=np.unique(data_domains['domain-descrip'])\n",
    "\n",
    "repeated_features_sl['domain-name']=domains_name[duplicated_features_sl.iloc[:,1]] \n",
    "repeated_features_sl['domain-description']=domains_description[duplicated_features_sl.iloc[:,1]]\n",
    "\n",
    "duplicated_features_nsl=df_nsl[df_nsl.iloc[:,1].duplicated()]\n",
    "repeated_features_nsl=pd.DataFrame()\n",
    "\n",
    "repeated_features_nsl['domain-name']=domains_name[duplicated_features_nsl.iloc[:,1]] \n",
    "repeated_features_nsl['domain-description']=domains_description[duplicated_features_nsl.iloc[:,1]]"
   ]
  },
  {
   "cell_type": "code",
   "execution_count": 29,
   "metadata": {
    "execution": {
     "iopub.execute_input": "2020-07-13T14:42:01.634566Z",
     "iopub.status.busy": "2020-07-13T14:42:01.633952Z",
     "iopub.status.idle": "2020-07-13T14:42:01.640423Z",
     "shell.execute_reply": "2020-07-13T14:42:01.639420Z"
    }
   },
   "outputs": [
    {
     "data": {
      "text/plain": [
       "((44, 4), (288, 4))"
      ]
     },
     "execution_count": 29,
     "metadata": {},
     "output_type": "execute_result"
    }
   ],
   "source": [
    "only_sl_pd=pd.merge(repeated_features_sl,repeated_features_nsl,how='left',on=['domain-name'])\n",
    "data_only_sl = only_sl_pd[pd.isnull(only_sl_pd['domain-description_y'])]\n",
    "data_only_sl['domain-description']=data_only_sl['domain-description_x']\n",
    "data_only_sl.shape,df_sl_exclusive.shape"
   ]
  },
  {
   "cell_type": "code",
   "execution_count": 30,
   "metadata": {
    "execution": {
     "iopub.execute_input": "2020-07-13T14:42:01.658705Z",
     "iopub.status.busy": "2020-07-13T14:42:01.647706Z",
     "iopub.status.idle": "2020-07-13T14:42:01.664216Z",
     "shell.execute_reply": "2020-07-13T14:42:01.663592Z"
    }
   },
   "outputs": [
    {
     "data": {
      "text/html": [
       "<div>\n",
       "<style scoped>\n",
       "    .dataframe tbody tr th:only-of-type {\n",
       "        vertical-align: middle;\n",
       "    }\n",
       "\n",
       "    .dataframe tbody tr th {\n",
       "        vertical-align: top;\n",
       "    }\n",
       "\n",
       "    .dataframe thead th {\n",
       "        text-align: right;\n",
       "    }\n",
       "</style>\n",
       "<table border=\"1\" class=\"dataframe\">\n",
       "  <thead>\n",
       "    <tr style=\"text-align: right;\">\n",
       "      <th></th>\n",
       "      <th>domain-name</th>\n",
       "      <th>domain-description_x</th>\n",
       "      <th>domain-description_y</th>\n",
       "    </tr>\n",
       "  </thead>\n",
       "  <tbody>\n",
       "    <tr>\n",
       "      <th>0</th>\n",
       "      <td>PF02037</td>\n",
       "      <td>NaN</td>\n",
       "      <td>ELFV_dehydrog; Glutamate/phenylalanine/leucine...</td>\n",
       "    </tr>\n",
       "    <tr>\n",
       "      <th>1</th>\n",
       "      <td>PF13193</td>\n",
       "      <td>NaN</td>\n",
       "      <td>TIMELESS; Timeless protein</td>\n",
       "    </tr>\n",
       "    <tr>\n",
       "      <th>2</th>\n",
       "      <td>PF08512</td>\n",
       "      <td>NaN</td>\n",
       "      <td>Pol_alpha_B_N; DNA polymerase alpha, subunit B...</td>\n",
       "    </tr>\n",
       "    <tr>\n",
       "      <th>3</th>\n",
       "      <td>PF00613</td>\n",
       "      <td>NaN</td>\n",
       "      <td>Biotin_carb_C; Biotin carboxylase, C-terminal</td>\n",
       "    </tr>\n",
       "    <tr>\n",
       "      <th>4</th>\n",
       "      <td>PF03234</td>\n",
       "      <td>NaN</td>\n",
       "      <td>Gpi1; N-acetylglucosaminyl transferase component</td>\n",
       "    </tr>\n",
       "    <tr>\n",
       "      <th>5</th>\n",
       "      <td>PF00884</td>\n",
       "      <td>NaN</td>\n",
       "      <td>CRF1; Transcription factor CRF1/IFH1</td>\n",
       "    </tr>\n",
       "    <tr>\n",
       "      <th>6</th>\n",
       "      <td>PF00580</td>\n",
       "      <td>NaN</td>\n",
       "      <td>BRCT_2; BRCT domain</td>\n",
       "    </tr>\n",
       "    <tr>\n",
       "      <th>7</th>\n",
       "      <td>PF00786</td>\n",
       "      <td>NaN</td>\n",
       "      <td>COMPASS-Shg1</td>\n",
       "    </tr>\n",
       "    <tr>\n",
       "      <th>8</th>\n",
       "      <td>PF00172</td>\n",
       "      <td>NaN</td>\n",
       "      <td>AMPKBI; Association with the SNF1 complex (ASC...</td>\n",
       "    </tr>\n",
       "    <tr>\n",
       "      <th>9</th>\n",
       "      <td>PF02148</td>\n",
       "      <td>NaN</td>\n",
       "      <td>ETF_QO</td>\n",
       "    </tr>\n",
       "    <tr>\n",
       "      <th>10</th>\n",
       "      <td>PF12937</td>\n",
       "      <td>NaN</td>\n",
       "      <td>TFIIF_alpha; Transcription initiation factor I...</td>\n",
       "    </tr>\n",
       "    <tr>\n",
       "      <th>11</th>\n",
       "      <td>PF04571</td>\n",
       "      <td>NaN</td>\n",
       "      <td>MMS19_C; MMS19, C-terminal</td>\n",
       "    </tr>\n",
       "    <tr>\n",
       "      <th>12</th>\n",
       "      <td>PF00181</td>\n",
       "      <td>NaN</td>\n",
       "      <td>ANAPC4_WD40; Anaphase-promoting complex subuni...</td>\n",
       "    </tr>\n",
       "    <tr>\n",
       "      <th>13</th>\n",
       "      <td>PF01504</td>\n",
       "      <td>NaN</td>\n",
       "      <td>DUF1720; Domain of unknown function DUF1720</td>\n",
       "    </tr>\n",
       "    <tr>\n",
       "      <th>14</th>\n",
       "      <td>PF08312</td>\n",
       "      <td>NaN</td>\n",
       "      <td>Peptidase_M24_C; Peptidase M24, C-terminal domain</td>\n",
       "    </tr>\n",
       "    <tr>\n",
       "      <th>15</th>\n",
       "      <td>PF16891</td>\n",
       "      <td>NaN</td>\n",
       "      <td>tRNA-synt_1c; Glutamyl/glutaminyl-tRNA synthet...</td>\n",
       "    </tr>\n",
       "    <tr>\n",
       "      <th>16</th>\n",
       "      <td>PF00752</td>\n",
       "      <td>NaN</td>\n",
       "      <td>CNH; Citron homology (CNH) domain</td>\n",
       "    </tr>\n",
       "    <tr>\n",
       "      <th>17</th>\n",
       "      <td>PF03952</td>\n",
       "      <td>NaN</td>\n",
       "      <td>IMS; UmuC domain</td>\n",
       "    </tr>\n",
       "    <tr>\n",
       "      <th>18</th>\n",
       "      <td>PF04442</td>\n",
       "      <td>NaN</td>\n",
       "      <td>MCM2_N; DNA replication licensing factor Mcm2</td>\n",
       "    </tr>\n",
       "    <tr>\n",
       "      <th>19</th>\n",
       "      <td>PF01253</td>\n",
       "      <td>NaN</td>\n",
       "      <td>DEAD; DEAD/DEAH box helicase domain</td>\n",
       "    </tr>\n",
       "    <tr>\n",
       "      <th>20</th>\n",
       "      <td>PF03169</td>\n",
       "      <td>NaN</td>\n",
       "      <td>Glyco_transf_34; Glycosyltransferase 34</td>\n",
       "    </tr>\n",
       "    <tr>\n",
       "      <th>21</th>\n",
       "      <td>PF00566</td>\n",
       "      <td>NaN</td>\n",
       "      <td>BLI1</td>\n",
       "    </tr>\n",
       "    <tr>\n",
       "      <th>22</th>\n",
       "      <td>PF02269</td>\n",
       "      <td>NaN</td>\n",
       "      <td>FAD-oxidase_C; FAD-linked oxidase, C-terminal</td>\n",
       "    </tr>\n",
       "    <tr>\n",
       "      <th>23</th>\n",
       "      <td>PF03159</td>\n",
       "      <td>NaN</td>\n",
       "      <td>Glyco_tran_28_C; Glycosyl transferase, family ...</td>\n",
       "    </tr>\n",
       "    <tr>\n",
       "      <th>24</th>\n",
       "      <td>PF16282</td>\n",
       "      <td>NaN</td>\n",
       "      <td>YjeF_N; YjeF N-terminal domain</td>\n",
       "    </tr>\n",
       "    <tr>\n",
       "      <th>25</th>\n",
       "      <td>PF00072</td>\n",
       "      <td>NaN</td>\n",
       "      <td>AAA_9</td>\n",
       "    </tr>\n",
       "    <tr>\n",
       "      <th>26</th>\n",
       "      <td>PF00072</td>\n",
       "      <td>NaN</td>\n",
       "      <td>AAA_9</td>\n",
       "    </tr>\n",
       "    <tr>\n",
       "      <th>27</th>\n",
       "      <td>PF05557</td>\n",
       "      <td>NaN</td>\n",
       "      <td>NIF; FCP1 homology domain</td>\n",
       "    </tr>\n",
       "    <tr>\n",
       "      <th>28</th>\n",
       "      <td>PF07572</td>\n",
       "      <td>NaN</td>\n",
       "      <td>PGAP1; GPI inositol-deacylase PGAP1-like</td>\n",
       "    </tr>\n",
       "    <tr>\n",
       "      <th>29</th>\n",
       "      <td>PF00615</td>\n",
       "      <td>NaN</td>\n",
       "      <td>Biotin_lipoyl; Biotin/lipoyl attachment</td>\n",
       "    </tr>\n",
       "    <tr>\n",
       "      <th>30</th>\n",
       "      <td>PF02902</td>\n",
       "      <td>NaN</td>\n",
       "      <td>GSHPx; Glutathione peroxidase</td>\n",
       "    </tr>\n",
       "    <tr>\n",
       "      <th>31</th>\n",
       "      <td>PF00995</td>\n",
       "      <td>NaN</td>\n",
       "      <td>Cation_efflux; Cation efflux protein</td>\n",
       "    </tr>\n",
       "    <tr>\n",
       "      <th>32</th>\n",
       "      <td>PF04421</td>\n",
       "      <td>NaN</td>\n",
       "      <td>MAP65_ASE1</td>\n",
       "    </tr>\n",
       "    <tr>\n",
       "      <th>33</th>\n",
       "      <td>PF04421</td>\n",
       "      <td>NaN</td>\n",
       "      <td>MAP65_ASE1</td>\n",
       "    </tr>\n",
       "    <tr>\n",
       "      <th>34</th>\n",
       "      <td>PF16846</td>\n",
       "      <td>NaN</td>\n",
       "      <td>muHD; Muniscin C-terminal</td>\n",
       "    </tr>\n",
       "    <tr>\n",
       "      <th>35</th>\n",
       "      <td>PF04851</td>\n",
       "      <td>NaN</td>\n",
       "      <td>Med13_C; Mediator complex, subunit Med13</td>\n",
       "    </tr>\n",
       "    <tr>\n",
       "      <th>36</th>\n",
       "      <td>PF02386</td>\n",
       "      <td>NaN</td>\n",
       "      <td>FIN1</td>\n",
       "    </tr>\n",
       "    <tr>\n",
       "      <th>37</th>\n",
       "      <td>PF02146</td>\n",
       "      <td>NaN</td>\n",
       "      <td>ETF; Electron transfer flavoprotein, alpha/bet...</td>\n",
       "    </tr>\n",
       "    <tr>\n",
       "      <th>38</th>\n",
       "      <td>PF08202</td>\n",
       "      <td>NaN</td>\n",
       "      <td>PUA_2; ATP-sulfurylase PUA-like domain</td>\n",
       "    </tr>\n",
       "    <tr>\n",
       "      <th>39</th>\n",
       "      <td>PF00128</td>\n",
       "      <td>NaN</td>\n",
       "      <td>ADSL_C; Adenylosuccinate lyase C-terminal</td>\n",
       "    </tr>\n",
       "    <tr>\n",
       "      <th>40</th>\n",
       "      <td>PF03371</td>\n",
       "      <td>NaN</td>\n",
       "      <td>HBS1_N; HBS1-like protein, N-terminal</td>\n",
       "    </tr>\n",
       "    <tr>\n",
       "      <th>41</th>\n",
       "      <td>PF01200</td>\n",
       "      <td>NaN</td>\n",
       "      <td>Cytochrom_C1; Cytochrome c1</td>\n",
       "    </tr>\n",
       "    <tr>\n",
       "      <th>42</th>\n",
       "      <td>PF08118</td>\n",
       "      <td>NaN</td>\n",
       "      <td>PRKCSH_1; Mannose-6-phosphate receptor binding...</td>\n",
       "    </tr>\n",
       "    <tr>\n",
       "      <th>43</th>\n",
       "      <td>PF00579</td>\n",
       "      <td>NaN</td>\n",
       "      <td>BRCT; BRCT domain</td>\n",
       "    </tr>\n",
       "    <tr>\n",
       "      <th>44</th>\n",
       "      <td>PF13513</td>\n",
       "      <td>NaN</td>\n",
       "      <td>Tcp11; T-complex 11</td>\n",
       "    </tr>\n",
       "    <tr>\n",
       "      <th>45</th>\n",
       "      <td>PF05920</td>\n",
       "      <td>NaN</td>\n",
       "      <td>Nexin_C; Sorting nexin, C-terminal</td>\n",
       "    </tr>\n",
       "    <tr>\n",
       "      <th>46</th>\n",
       "      <td>PF00935</td>\n",
       "      <td>NaN</td>\n",
       "      <td>CUE; Ubiquitin system component Cue</td>\n",
       "    </tr>\n",
       "    <tr>\n",
       "      <th>47</th>\n",
       "      <td>PF00399</td>\n",
       "      <td>NaN</td>\n",
       "      <td>Alpha_adaptinC2; Clathrin adaptor, alpha/beta/...</td>\n",
       "    </tr>\n",
       "    <tr>\n",
       "      <th>48</th>\n",
       "      <td>PF09084</td>\n",
       "      <td>NaN</td>\n",
       "      <td>RS4NT; Ribosomal protein S4e, N-terminal</td>\n",
       "    </tr>\n",
       "    <tr>\n",
       "      <th>49</th>\n",
       "      <td>PF09084</td>\n",
       "      <td>NaN</td>\n",
       "      <td>RS4NT; Ribosomal protein S4e, N-terminal</td>\n",
       "    </tr>\n",
       "    <tr>\n",
       "      <th>50</th>\n",
       "      <td>PF02953</td>\n",
       "      <td>NaN</td>\n",
       "      <td>GWT1</td>\n",
       "    </tr>\n",
       "    <tr>\n",
       "      <th>51</th>\n",
       "      <td>PF00572</td>\n",
       "      <td>NaN</td>\n",
       "      <td>BPL_C; Biotin protein ligase, C-terminal</td>\n",
       "    </tr>\n",
       "    <tr>\n",
       "      <th>52</th>\n",
       "      <td>PF01920</td>\n",
       "      <td>NaN</td>\n",
       "      <td>E1_UFD; Ubiquitin-activating enzyme E1, C-term...</td>\n",
       "    </tr>\n",
       "    <tr>\n",
       "      <th>53</th>\n",
       "      <td>PF04383</td>\n",
       "      <td>NaN</td>\n",
       "      <td>Lysine_decarbox; LOG family</td>\n",
       "    </tr>\n",
       "  </tbody>\n",
       "</table>\n",
       "</div>"
      ],
      "text/plain": [
       "   domain-name domain-description_x  \\\n",
       "0      PF02037                  NaN   \n",
       "1      PF13193                  NaN   \n",
       "2      PF08512                  NaN   \n",
       "3      PF00613                  NaN   \n",
       "4      PF03234                  NaN   \n",
       "5      PF00884                  NaN   \n",
       "6      PF00580                  NaN   \n",
       "7      PF00786                  NaN   \n",
       "8      PF00172                  NaN   \n",
       "9      PF02148                  NaN   \n",
       "10     PF12937                  NaN   \n",
       "11     PF04571                  NaN   \n",
       "12     PF00181                  NaN   \n",
       "13     PF01504                  NaN   \n",
       "14     PF08312                  NaN   \n",
       "15     PF16891                  NaN   \n",
       "16     PF00752                  NaN   \n",
       "17     PF03952                  NaN   \n",
       "18     PF04442                  NaN   \n",
       "19     PF01253                  NaN   \n",
       "20     PF03169                  NaN   \n",
       "21     PF00566                  NaN   \n",
       "22     PF02269                  NaN   \n",
       "23     PF03159                  NaN   \n",
       "24     PF16282                  NaN   \n",
       "25     PF00072                  NaN   \n",
       "26     PF00072                  NaN   \n",
       "27     PF05557                  NaN   \n",
       "28     PF07572                  NaN   \n",
       "29     PF00615                  NaN   \n",
       "30     PF02902                  NaN   \n",
       "31     PF00995                  NaN   \n",
       "32     PF04421                  NaN   \n",
       "33     PF04421                  NaN   \n",
       "34     PF16846                  NaN   \n",
       "35     PF04851                  NaN   \n",
       "36     PF02386                  NaN   \n",
       "37     PF02146                  NaN   \n",
       "38     PF08202                  NaN   \n",
       "39     PF00128                  NaN   \n",
       "40     PF03371                  NaN   \n",
       "41     PF01200                  NaN   \n",
       "42     PF08118                  NaN   \n",
       "43     PF00579                  NaN   \n",
       "44     PF13513                  NaN   \n",
       "45     PF05920                  NaN   \n",
       "46     PF00935                  NaN   \n",
       "47     PF00399                  NaN   \n",
       "48     PF09084                  NaN   \n",
       "49     PF09084                  NaN   \n",
       "50     PF02953                  NaN   \n",
       "51     PF00572                  NaN   \n",
       "52     PF01920                  NaN   \n",
       "53     PF04383                  NaN   \n",
       "\n",
       "                                 domain-description_y  \n",
       "0   ELFV_dehydrog; Glutamate/phenylalanine/leucine...  \n",
       "1                          TIMELESS; Timeless protein  \n",
       "2   Pol_alpha_B_N; DNA polymerase alpha, subunit B...  \n",
       "3       Biotin_carb_C; Biotin carboxylase, C-terminal  \n",
       "4    Gpi1; N-acetylglucosaminyl transferase component  \n",
       "5                CRF1; Transcription factor CRF1/IFH1  \n",
       "6                                 BRCT_2; BRCT domain  \n",
       "7                                        COMPASS-Shg1  \n",
       "8   AMPKBI; Association with the SNF1 complex (ASC...  \n",
       "9                                              ETF_QO  \n",
       "10  TFIIF_alpha; Transcription initiation factor I...  \n",
       "11                         MMS19_C; MMS19, C-terminal  \n",
       "12  ANAPC4_WD40; Anaphase-promoting complex subuni...  \n",
       "13        DUF1720; Domain of unknown function DUF1720  \n",
       "14  Peptidase_M24_C; Peptidase M24, C-terminal domain  \n",
       "15  tRNA-synt_1c; Glutamyl/glutaminyl-tRNA synthet...  \n",
       "16                  CNH; Citron homology (CNH) domain  \n",
       "17                                   IMS; UmuC domain  \n",
       "18      MCM2_N; DNA replication licensing factor Mcm2  \n",
       "19                DEAD; DEAD/DEAH box helicase domain  \n",
       "20            Glyco_transf_34; Glycosyltransferase 34  \n",
       "21                                               BLI1  \n",
       "22      FAD-oxidase_C; FAD-linked oxidase, C-terminal  \n",
       "23  Glyco_tran_28_C; Glycosyl transferase, family ...  \n",
       "24                     YjeF_N; YjeF N-terminal domain  \n",
       "25                                              AAA_9  \n",
       "26                                              AAA_9  \n",
       "27                          NIF; FCP1 homology domain  \n",
       "28           PGAP1; GPI inositol-deacylase PGAP1-like  \n",
       "29            Biotin_lipoyl; Biotin/lipoyl attachment  \n",
       "30                      GSHPx; Glutathione peroxidase  \n",
       "31               Cation_efflux; Cation efflux protein  \n",
       "32                                         MAP65_ASE1  \n",
       "33                                         MAP65_ASE1  \n",
       "34                          muHD; Muniscin C-terminal  \n",
       "35           Med13_C; Mediator complex, subunit Med13  \n",
       "36                                               FIN1  \n",
       "37  ETF; Electron transfer flavoprotein, alpha/bet...  \n",
       "38             PUA_2; ATP-sulfurylase PUA-like domain  \n",
       "39          ADSL_C; Adenylosuccinate lyase C-terminal  \n",
       "40              HBS1_N; HBS1-like protein, N-terminal  \n",
       "41                        Cytochrom_C1; Cytochrome c1  \n",
       "42  PRKCSH_1; Mannose-6-phosphate receptor binding...  \n",
       "43                                  BRCT; BRCT domain  \n",
       "44                                Tcp11; T-complex 11  \n",
       "45                 Nexin_C; Sorting nexin, C-terminal  \n",
       "46                CUE; Ubiquitin system component Cue  \n",
       "47  Alpha_adaptinC2; Clathrin adaptor, alpha/beta/...  \n",
       "48           RS4NT; Ribosomal protein S4e, N-terminal  \n",
       "49           RS4NT; Ribosomal protein S4e, N-terminal  \n",
       "50                                               GWT1  \n",
       "51           BPL_C; Biotin protein ligase, C-terminal  \n",
       "52  E1_UFD; Ubiquitin-activating enzyme E1, C-term...  \n",
       "53                        Lysine_decarbox; LOG family  "
      ]
     },
     "execution_count": 30,
     "metadata": {},
     "output_type": "execute_result"
    }
   ],
   "source": [
    "only_nsl_pd=pd.merge(repeated_features_sl,repeated_features_nsl,how='right',on=['domain-name'])\n",
    "data_only_nsl = only_nsl_pd[pd.isnull(only_nsl_pd['domain-description_x'])]\n",
    "data_only_nsl"
   ]
  },
  {
   "cell_type": "code",
   "execution_count": 31,
   "metadata": {
    "execution": {
     "iopub.execute_input": "2020-07-13T14:42:01.673733Z",
     "iopub.status.busy": "2020-07-13T14:42:01.673214Z",
     "iopub.status.idle": "2020-07-13T14:42:01.678397Z",
     "shell.execute_reply": "2020-07-13T14:42:01.678923Z"
    }
   },
   "outputs": [
    {
     "data": {
      "text/html": [
       "<div>\n",
       "<style scoped>\n",
       "    .dataframe tbody tr th:only-of-type {\n",
       "        vertical-align: middle;\n",
       "    }\n",
       "\n",
       "    .dataframe tbody tr th {\n",
       "        vertical-align: top;\n",
       "    }\n",
       "\n",
       "    .dataframe thead th {\n",
       "        text-align: right;\n",
       "    }\n",
       "</style>\n",
       "<table border=\"1\" class=\"dataframe\">\n",
       "  <thead>\n",
       "    <tr style=\"text-align: right;\">\n",
       "      <th></th>\n",
       "      <th>domain-name</th>\n",
       "      <th>domain-description_x</th>\n",
       "      <th>domain-description_y</th>\n",
       "    </tr>\n",
       "  </thead>\n",
       "  <tbody>\n",
       "  </tbody>\n",
       "</table>\n",
       "</div>"
      ],
      "text/plain": [
       "Empty DataFrame\n",
       "Columns: [domain-name, domain-description_x, domain-description_y]\n",
       "Index: []"
      ]
     },
     "execution_count": 31,
     "metadata": {},
     "output_type": "execute_result"
    }
   ],
   "source": [
    "shared_domains_pd=pd.merge(repeated_features_sl,repeated_features_nsl,how='inner',on=['domain-name'])\n",
    "shared_domains_pd\n"
   ]
  },
  {
   "cell_type": "code",
   "execution_count": 32,
   "metadata": {
    "execution": {
     "iopub.execute_input": "2020-07-13T14:42:01.713489Z",
     "iopub.status.busy": "2020-07-13T14:42:01.695631Z",
     "iopub.status.idle": "2020-07-13T14:42:03.400738Z",
     "shell.execute_reply": "2020-07-13T14:42:03.401439Z"
    }
   },
   "outputs": [
    {
     "data": {
      "text/plain": [
       "(0.0, 0.2)"
      ]
     },
     "execution_count": 32,
     "metadata": {},
     "output_type": "execute_result"
    },
    {
     "data": {
      "image/png": "[encoded data removed]",
      "text/plain": [
       "<Figure size 432x288 with 1 Axes>"
      ]
     },
     "metadata": {
      "filenames": {
       "image/png": "/home/runner/work/jupyter-book/jupyter-book/mini_book/docs/_build/jupyter_execute/prot_domains2lethality-FEATURES-POSTPROCESSING_47_1.png"
      },
      "needs_background": "light"
     },
     "output_type": "display_data"
    }
   ],
   "source": [
    "a_sl=x_sl.iloc[:,np.sort(df_sl.iloc[:,1])]\n",
    "a_sl.describe().loc['mean'].hist(bins=8),\n",
    "a_sl.describe().loc['std'].hist(bins=8,alpha=0.4)\n",
    "plt.xlim([0,0.2])"
   ]
  },
  {
   "cell_type": "code",
   "execution_count": 33,
   "metadata": {
    "execution": {
     "iopub.execute_input": "2020-07-13T14:42:03.422289Z",
     "iopub.status.busy": "2020-07-13T14:42:03.412884Z",
     "iopub.status.idle": "2020-07-13T14:42:05.231545Z",
     "shell.execute_reply": "2020-07-13T14:42:05.230715Z"
    }
   },
   "outputs": [
    {
     "data": {
      "text/plain": [
       "(0.0, 0.2)"
      ]
     },
     "execution_count": 33,
     "metadata": {},
     "output_type": "execute_result"
    },
    {
     "data": {
      "image/png": "[encoded data removed]",
      "text/plain": [
       "<Figure size 432x288 with 1 Axes>"
      ]
     },
     "metadata": {
      "filenames": {
       "image/png": "/home/runner/work/jupyter-book/jupyter-book/mini_book/docs/_build/jupyter_execute/prot_domains2lethality-FEATURES-POSTPROCESSING_48_1.png"
      },
      "needs_background": "light"
     },
     "output_type": "display_data"
    }
   ],
   "source": [
    "a_nsl=x_nsl.iloc[:,np.sort(df_nsl.iloc[:,1])]\n",
    "a_nsl.describe().loc['mean'].hist(bins=8),\n",
    "a_nsl.describe().loc['std'].hist(bins=8,alpha=0.4)\n",
    "plt.xlim([0,0.2])"
   ]
  },
  {
   "cell_type": "markdown",
   "metadata": {},
   "source": [
    "### Proof of concept with *BEM1*\n",
    "\n",
    "- Gather the domains of SL and nSL pairs from BEM1\n",
    "- Check if the domains for the SL and nSL pairs are inside the most important domains after PCA."
   ]
  },
  {
   "cell_type": "code",
   "execution_count": 34,
   "metadata": {
    "execution": {
     "iopub.execute_input": "2020-07-13T14:42:05.239537Z",
     "iopub.status.busy": "2020-07-13T14:42:05.238994Z",
     "iopub.status.idle": "2020-07-13T14:42:05.243040Z",
     "shell.execute_reply": "2020-07-13T14:42:05.242619Z"
    }
   },
   "outputs": [],
   "source": [
    "domains_bem1=data_domains[data_domains['name']=='BEM1']['domain-descrip']\n",
    "sl_bem1=data_sl[data_sl['gene-query-name']=='BEM1']['gene-target-name']"
   ]
  },
  {
   "cell_type": "code",
   "execution_count": 35,
   "metadata": {
    "execution": {
     "iopub.execute_input": "2020-07-13T14:42:05.247792Z",
     "iopub.status.busy": "2020-07-13T14:42:05.247196Z",
     "iopub.status.idle": "2020-07-13T14:42:05.253164Z",
     "shell.execute_reply": "2020-07-13T14:42:05.253578Z"
    }
   },
   "outputs": [
    {
     "data": {
      "text/plain": [
       "2846      BEM2\n",
       "2847     CDC24\n",
       "5004      MSB1\n",
       "13777     SMI1\n",
       "13778     BNI1\n",
       "13779     BEM2\n",
       "14385     SKN7\n",
       "Name: gene-target-name, dtype: object"
      ]
     },
     "execution_count": 35,
     "metadata": {},
     "output_type": "execute_result"
    }
   ],
   "source": [
    "sl_bem1"
   ]
  },
  {
   "cell_type": "code",
   "execution_count": 36,
   "metadata": {
    "execution": {
     "iopub.execute_input": "2020-07-13T14:42:05.267590Z",
     "iopub.status.busy": "2020-07-13T14:42:05.266935Z",
     "iopub.status.idle": "2020-07-13T14:42:05.273022Z",
     "shell.execute_reply": "2020-07-13T14:42:05.272490Z"
    }
   },
   "outputs": [
    {
     "data": {
      "text/html": [
       "<div>\n",
       "<style scoped>\n",
       "    .dataframe tbody tr th:only-of-type {\n",
       "        vertical-align: middle;\n",
       "    }\n",
       "\n",
       "    .dataframe tbody tr th {\n",
       "        vertical-align: top;\n",
       "    }\n",
       "\n",
       "    .dataframe thead th {\n",
       "        text-align: right;\n",
       "    }\n",
       "</style>\n",
       "<table border=\"1\" class=\"dataframe\">\n",
       "  <thead>\n",
       "    <tr style=\"text-align: right;\">\n",
       "      <th></th>\n",
       "      <th>gene-query</th>\n",
       "      <th>gene-target</th>\n",
       "      <th>gene-query-name</th>\n",
       "      <th>gene-target-name</th>\n",
       "      <th>gene-query-description</th>\n",
       "      <th>gene-target-description</th>\n",
       "      <th>interaction-type</th>\n",
       "      <th>paper-source</th>\n",
       "    </tr>\n",
       "  </thead>\n",
       "  <tbody>\n",
       "    <tr>\n",
       "      <th>2846</th>\n",
       "      <td>YBR200W</td>\n",
       "      <td>YER155C</td>\n",
       "      <td>BEM1</td>\n",
       "      <td>BEM2</td>\n",
       "      <td>SRO1|phosphatidylinositol-3-phosphate-binding ...</td>\n",
       "      <td>IPL2|SUP9|TSL1|L000000168</td>\n",
       "      <td>Synthetic Lethality</td>\n",
       "      <td>Peterson J (1994)</td>\n",
       "    </tr>\n",
       "    <tr>\n",
       "      <th>2847</th>\n",
       "      <td>YBR200W</td>\n",
       "      <td>YAL041W</td>\n",
       "      <td>BEM1</td>\n",
       "      <td>CDC24</td>\n",
       "      <td>SRO1|phosphatidylinositol-3-phosphate-binding ...</td>\n",
       "      <td>CLS4|Rho family guanine nucleotide exchange fa...</td>\n",
       "      <td>Synthetic Lethality</td>\n",
       "      <td>Peterson J (1994)</td>\n",
       "    </tr>\n",
       "    <tr>\n",
       "      <th>5004</th>\n",
       "      <td>YBR200W</td>\n",
       "      <td>YOR188W</td>\n",
       "      <td>BEM1</td>\n",
       "      <td>MSB1</td>\n",
       "      <td>SRO1|phosphatidylinositol-3-phosphate-binding ...</td>\n",
       "      <td>L000001184</td>\n",
       "      <td>Synthetic Lethality</td>\n",
       "      <td>Bender A (1991)</td>\n",
       "    </tr>\n",
       "    <tr>\n",
       "      <th>13777</th>\n",
       "      <td>YBR200W</td>\n",
       "      <td>YGR229C</td>\n",
       "      <td>BEM1</td>\n",
       "      <td>SMI1</td>\n",
       "      <td>SRO1|phosphatidylinositol-3-phosphate-binding ...</td>\n",
       "      <td>KNR4|L000000909</td>\n",
       "      <td>Synthetic Lethality</td>\n",
       "      <td>Gorelik M (2011)</td>\n",
       "    </tr>\n",
       "    <tr>\n",
       "      <th>13778</th>\n",
       "      <td>YBR200W</td>\n",
       "      <td>YNL271C</td>\n",
       "      <td>BEM1</td>\n",
       "      <td>BNI1</td>\n",
       "      <td>SRO1|phosphatidylinositol-3-phosphate-binding ...</td>\n",
       "      <td>PPF3|SHE5|formin BNI1|L000000190</td>\n",
       "      <td>Synthetic Lethality</td>\n",
       "      <td>Gorelik M (2011)</td>\n",
       "    </tr>\n",
       "    <tr>\n",
       "      <th>13779</th>\n",
       "      <td>YBR200W</td>\n",
       "      <td>YER155C</td>\n",
       "      <td>BEM1</td>\n",
       "      <td>BEM2</td>\n",
       "      <td>SRO1|phosphatidylinositol-3-phosphate-binding ...</td>\n",
       "      <td>IPL2|SUP9|TSL1|L000000168</td>\n",
       "      <td>Synthetic Lethality</td>\n",
       "      <td>Gorelik M (2011)</td>\n",
       "    </tr>\n",
       "    <tr>\n",
       "      <th>14385</th>\n",
       "      <td>YBR200W</td>\n",
       "      <td>YHR206W</td>\n",
       "      <td>BEM1</td>\n",
       "      <td>SKN7</td>\n",
       "      <td>SRO1|phosphatidylinositol-3-phosphate-binding ...</td>\n",
       "      <td>BRY1|POS9|kinase-regulated stress-responsive t...</td>\n",
       "      <td>Dosage Lethality</td>\n",
       "      <td>Bouquin N (1999)</td>\n",
       "    </tr>\n",
       "  </tbody>\n",
       "</table>\n",
       "</div>"
      ],
      "text/plain": [
       "      gene-query gene-target gene-query-name gene-target-name  \\\n",
       "2846     YBR200W     YER155C            BEM1             BEM2   \n",
       "2847     YBR200W     YAL041W            BEM1            CDC24   \n",
       "5004     YBR200W     YOR188W            BEM1             MSB1   \n",
       "13777    YBR200W     YGR229C            BEM1             SMI1   \n",
       "13778    YBR200W     YNL271C            BEM1             BNI1   \n",
       "13779    YBR200W     YER155C            BEM1             BEM2   \n",
       "14385    YBR200W     YHR206W            BEM1             SKN7   \n",
       "\n",
       "                                  gene-query-description  \\\n",
       "2846   SRO1|phosphatidylinositol-3-phosphate-binding ...   \n",
       "2847   SRO1|phosphatidylinositol-3-phosphate-binding ...   \n",
       "5004   SRO1|phosphatidylinositol-3-phosphate-binding ...   \n",
       "13777  SRO1|phosphatidylinositol-3-phosphate-binding ...   \n",
       "13778  SRO1|phosphatidylinositol-3-phosphate-binding ...   \n",
       "13779  SRO1|phosphatidylinositol-3-phosphate-binding ...   \n",
       "14385  SRO1|phosphatidylinositol-3-phosphate-binding ...   \n",
       "\n",
       "                                 gene-target-description     interaction-type  \\\n",
       "2846                           IPL2|SUP9|TSL1|L000000168  Synthetic Lethality   \n",
       "2847   CLS4|Rho family guanine nucleotide exchange fa...  Synthetic Lethality   \n",
       "5004                                          L000001184  Synthetic Lethality   \n",
       "13777                                    KNR4|L000000909  Synthetic Lethality   \n",
       "13778                   PPF3|SHE5|formin BNI1|L000000190  Synthetic Lethality   \n",
       "13779                          IPL2|SUP9|TSL1|L000000168  Synthetic Lethality   \n",
       "14385  BRY1|POS9|kinase-regulated stress-responsive t...     Dosage Lethality   \n",
       "\n",
       "            paper-source  \n",
       "2846   Peterson J (1994)  \n",
       "2847   Peterson J (1994)  \n",
       "5004     Bender A (1991)  \n",
       "13777   Gorelik M (2011)  \n",
       "13778   Gorelik M (2011)  \n",
       "13779   Gorelik M (2011)  \n",
       "14385   Bouquin N (1999)  "
      ]
     },
     "execution_count": 36,
     "metadata": {},
     "output_type": "execute_result"
    }
   ],
   "source": [
    "data_sl[data_sl['gene-query-name']=='BEM1']"
   ]
  },
  {
   "cell_type": "code",
   "execution_count": null,
   "metadata": {},
   "outputs": [],
   "source": []
  }
 ],
 "metadata": {
  "jupytext": {
   "text_representation": {
    "extension": ".md",
    "format_name": "myst"
   }
  },
  "kernelspec": {
   "display_name": "Python 3",
   "language": "python",
   "name": "python3"
  },
  "language_info": {
   "codemirror_mode": {
    "name": "ipython",
    "version": 3
   },
   "file_extension": ".py",
   "mimetype": "text/x-python",
   "name": "python",
   "nbconvert_exporter": "python",
   "pygments_lexer": "ipython3",
   "version": "3.7.6"
  },
  "source_map": [
   10,
   18,
   29,
   36,
   57,
   66,
   98,
   101,
   105,
   128,
   131,
   135,
   139,
   145,
   178,
   184,
   188,
   206,
   210,
   218,
   222,
   225,
   229,
   234,
   238,
   244,
   248,
   253,
   257,
   267,
   269,
   273,
   306,
   311,
   313,
   317,
   328,
   330,
   334,
   344,
   348,
   358,
   360,
   364,
   381,
   388,
   394,
   400,
   407,
   412,
   419,
   424,
   428,
   432
  ]
 },
 "nbformat": 4,
 "nbformat_minor": 4
}