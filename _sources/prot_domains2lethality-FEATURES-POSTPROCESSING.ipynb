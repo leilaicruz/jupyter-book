{
 "cells": [
  {
   "cell_type": "markdown",
   "metadata": {},
   "source": [
    "# Feature postprocessing from paper.\n",
    "- Title:  \"Predicting yeast synthetic lethal genetic interactions using protein domains\"\n",
    "- Authors: Bo Li, Feng Luo,School of Computing,Clemson University,Clemson, SC, USA\n",
    "- e-mail: bol, luofeng@clemson.edu\n",
    "- year:2009"
   ]
  },
  {
   "cell_type": "code",
   "execution_count": 1,
   "metadata": {
    "execution": {
     "iopub.execute_input": "2020-07-14T10:57:32.095987Z",
     "iopub.status.busy": "2020-07-14T10:57:32.095110Z",
     "iopub.status.idle": "2020-07-14T10:57:32.775539Z",
     "shell.execute_reply": "2020-07-14T10:57:32.774323Z"
    }
   },
   "outputs": [],
   "source": [
    "import pandas as pd\n",
    "import numpy as np\n",
    "import matplotlib.pyplot as plt\n",
    "from collections import defaultdict \n",
    "import seaborn as sns\n",
    "import matplotlib.cm as cm\n",
    "import scipy as scipy\n",
    "import random"
   ]
  },
  {
   "cell_type": "markdown",
   "metadata": {
    "jupyter": {
     "source_hidden": true
    }
   },
   "source": [
    "### Importing datasets \n",
    "\n",
    "#### Link to the github repo where the datasets to be downloaded:\n",
    "[DOWNLOAD THE DATASETS HERE](https://github.com/leilaicruz/machine-learning-for-yeast/tree/dev_Leila/datasets-for-learning)"
   ]
  },
  {
   "cell_type": "code",
   "execution_count": 2,
   "metadata": {
    "execution": {
     "iopub.execute_input": "2020-07-14T10:57:32.783024Z",
     "iopub.status.busy": "2020-07-14T10:57:32.782453Z",
     "iopub.status.idle": "2020-07-14T10:57:39.843951Z",
     "shell.execute_reply": "2020-07-14T10:57:39.843167Z"
    }
   },
   "outputs": [],
   "source": [
    "import os\n",
    "script_dir = os.path.dirname('__file__') #<-- absolute dir the script is in\n",
    "rel_path_SL = \"datasets/data-synthetic-lethals.xlsx\"\n",
    "rel_path_nSL=\"datasets/data-positive-genetic.xlsx\"\n",
    "rel_path_domains=\"datasets/proteins-domains-from-Pfam.xlsx\"\n",
    "\n",
    "abs_file_path_SL = os.path.join(script_dir, rel_path_SL)\n",
    "abs_file_path_nSL = os.path.join(script_dir, rel_path_nSL)\n",
    "abs_file_path_domains = os.path.join(script_dir, rel_path_domains)\n",
    "\n",
    "# os.chdir('mini_book/docs/') #<-- for binder os.chdir('../')\n",
    "# os.chdir('../')\n",
    "my_path_sl= abs_file_path_SL\n",
    "my_path_non_sl=abs_file_path_nSL\n",
    "my_path_domains=abs_file_path_domains\n",
    "\n",
    "data_sl=pd.read_excel(my_path_sl,header=0)\n",
    "data_domains=pd.read_excel(my_path_domains,header=0,index_col='Unnamed: 0')\n",
    "data_domains=data_domains.dropna()\n",
    "data_nonsl=pd.read_excel(my_path_non_sl,header=0)"
   ]
  },
  {
   "cell_type": "markdown",
   "metadata": {},
   "source": [
    "## Building the feature matrix\n",
    "One matrix for true SL where each row is one pair of SL. Every raw will be a vector of 0,1 or 2 depending on the comparison with the domain list. For row i the jth element = 0 if the jth element of the domain list is not in neither protein A and B, 1, if it is in one of them and 2 if it is in both of them .\n",
    "\n",
    "### Building the list of proteins domains id per protein pair separately :\n",
    "- List of protein A: Search for the Sl/nSL database the query gene name and look in the protein domain database which protein domains id has each of those queries.\n",
    "- List of protein B: Search for the Sl/nSL database the target gene name of the previous query and look in the protein domain database which protein domains id has each of those target genes."
   ]
  },
  {
   "cell_type": "code",
   "execution_count": 3,
   "metadata": {
    "execution": {
     "iopub.execute_input": "2020-07-14T10:57:39.859563Z",
     "iopub.status.busy": "2020-07-14T10:57:39.859035Z",
     "iopub.status.idle": "2020-07-14T10:57:41.774165Z",
     "shell.execute_reply": "2020-07-14T10:57:41.773230Z"
    }
   },
   "outputs": [],
   "source": [
    "# Selecting the meaningful columns in the respective dataset\n",
    "domain_id_list=data_domains['domain-name']\n",
    "query_gene=data_sl['gene-query-name']\n",
    "target_gene=data_sl['gene-target-name']\n",
    "query_gene_nonlethal=data_nonsl['gene-query-name']\n",
    "target_gene_nonlethal=data_nonsl['gene-target-name']\n",
    "\n",
    "\n",
    "\n",
    "# Initialising the arrays\n",
    "protein_a_list=[]\n",
    "protein_b_list=[]\n",
    "protein_a_list_non=[]\n",
    "protein_b_list_non=[]\n",
    "\n",
    "population = np.arange(0,len(data_sl))\n",
    "\n",
    "# For loop for 10000 pairs sampled randomly from the SL/nSl pair list , and creating a big array of proteind domains id per protein pair\n",
    "\n",
    "for m in random.sample(list(population), 500):\n",
    "    protein_a=data_domains[data_domains['name']==query_gene[m]]\n",
    "    protein_b=data_domains[data_domains['name']==target_gene[m]]\n",
    "    protein_a_list.append(protein_a['domain-name'].tolist())\n",
    "    protein_b_list.append(protein_b['domain-name'].tolist())\n",
    "\n",
    "    protein_a_non=data_domains[data_domains['name']==query_gene_nonlethal[m]]\n",
    "    protein_b_non=data_domains[data_domains['name']==target_gene_nonlethal[m]]\n",
    "    protein_a_list_non.append(protein_a_non['domain-name'].tolist())\n",
    "    protein_b_list_non.append(protein_b_non['domain-name'].tolist())"
   ]
  },
  {
   "cell_type": "code",
   "execution_count": 4,
   "metadata": {
    "execution": {
     "iopub.execute_input": "2020-07-14T10:57:41.780124Z",
     "iopub.status.busy": "2020-07-14T10:57:41.779171Z",
     "iopub.status.idle": "2020-07-14T10:57:41.781691Z",
     "shell.execute_reply": "2020-07-14T10:57:41.780572Z"
    }
   },
   "outputs": [
    {
     "name": "stdout",
     "output_type": "stream",
     "text": [
      "We are going to analyze 500 protein pairs, out of 17871 SL protein pairs\n",
      "We are going to analyze 500 protein pairs, out of 43340 positive protein pairs\n"
     ]
    }
   ],
   "source": [
    "print('We are going to analyze',len((protein_a_list)) ,'protein pairs, out of',len(data_sl),'SL protein pairs')\n",
    "print('We are going to analyze',len((protein_a_list_non)) ,'protein pairs, out of',len(data_nonsl),'positive protein pairs')"
   ]
  },
  {
   "cell_type": "markdown",
   "metadata": {},
   "source": [
    "### Postprocessing #1:  Remove protein pairs from study if either protein in the pair does not contain any domain"
   ]
  },
  {
   "cell_type": "code",
   "execution_count": 5,
   "metadata": {
    "execution": {
     "iopub.execute_input": "2020-07-14T10:57:41.791529Z",
     "iopub.status.busy": "2020-07-14T10:57:41.790419Z",
     "iopub.status.idle": "2020-07-14T10:57:41.792171Z",
     "shell.execute_reply": "2020-07-14T10:57:41.792554Z"
    }
   },
   "outputs": [],
   "source": [
    "def remove_empty_domains(protein_list_search,protein_list_pair):\n",
    "    index=[]\n",
    "    for i in np.arange(0,len(protein_list_search)):\n",
    "        if protein_list_search[i]==[] or protein_list_pair[i]==[]:\n",
    "            index.append(i) ## index of empty values for the protein_a_list meaning they dont have any annotated domain\n",
    "\n",
    "    y=[x for x in np.arange(0,len(protein_list_search)) if x not in index] # a list with non empty values from protein_a list\n",
    "\n",
    "    protein_list_search_new=[]\n",
    "    protein_list_pair_new=[]\n",
    "    for i in y:\n",
    "        protein_list_search_new.append(protein_list_search[i])\n",
    "        protein_list_pair_new.append(protein_list_pair[i])\n",
    "    return protein_list_search_new,protein_list_pair_new\n",
    "\n",
    "## evaluating the function\n",
    "\n",
    "protein_a_list_new,protein_b_list_new=remove_empty_domains(protein_a_list,protein_b_list)\n",
    "\n",
    "protein_a_list_non_new,protein_b_list_non_new=remove_empty_domains(protein_a_list_non,protein_b_list_non)"
   ]
  },
  {
   "cell_type": "code",
   "execution_count": 6,
   "metadata": {
    "execution": {
     "iopub.execute_input": "2020-07-14T10:57:41.798255Z",
     "iopub.status.busy": "2020-07-14T10:57:41.797377Z",
     "iopub.status.idle": "2020-07-14T10:57:41.799763Z",
     "shell.execute_reply": "2020-07-14T10:57:41.798718Z"
    }
   },
   "outputs": [
    {
     "name": "stdout",
     "output_type": "stream",
     "text": [
      "The empty domain in the SL were: 74 out of 500 domains\n",
      "The empty domain in the nSL were: 95 out of 500 domains\n"
     ]
    }
   ],
   "source": [
    "print('The empty domain in the SL were:', len(protein_a_list)-len(protein_a_list_new), 'out of', len(protein_a_list),'domains')\n",
    "print('The empty domain in the nSL were:', len(protein_a_list_non)-len(protein_a_list_non_new), 'out of', len(protein_a_list_non),'domains')"
   ]
  },
  {
   "cell_type": "markdown",
   "metadata": {},
   "source": [
    "### Feature engineering: Select from each ordered indexes of domain id list which of them appear once, in both or in any of the domains of each protein pair"
   ]
  },
  {
   "cell_type": "markdown",
   "metadata": {},
   "source": [
    "#### Define function `get_indexes`"
   ]
  },
  {
   "cell_type": "code",
   "execution_count": 7,
   "metadata": {
    "execution": {
     "iopub.execute_input": "2020-07-14T10:57:41.806366Z",
     "iopub.status.busy": "2020-07-14T10:57:41.805819Z",
     "iopub.status.idle": "2020-07-14T10:57:41.808363Z",
     "shell.execute_reply": "2020-07-14T10:57:41.808783Z"
    }
   },
   "outputs": [
    {
     "data": {
      "text/plain": [
       "[1, 2]"
      ]
     },
     "execution_count": 7,
     "metadata": {},
     "output_type": "execute_result"
    }
   ],
   "source": [
    "get_indexes = lambda x, xs: [i for (y, i) in zip(xs, range(len(xs))) if x == y] # a function that give the index of whether a value appear in array or not\n",
    "a=[1,2,2,4,5,6,7,8,9,10]\n",
    "get_indexes(2,a)"
   ]
  },
  {
   "cell_type": "code",
   "execution_count": 8,
   "metadata": {
    "execution": {
     "iopub.execute_input": "2020-07-14T10:57:41.817210Z",
     "iopub.status.busy": "2020-07-14T10:57:41.816340Z",
     "iopub.status.idle": "2020-07-14T10:57:41.818723Z",
     "shell.execute_reply": "2020-07-14T10:57:41.818290Z"
    }
   },
   "outputs": [],
   "source": [
    "def feature_building(protein_a_list_new,protein_b_list_new):\n",
    "    x = np.unique(domain_id_list)\n",
    "    ## To avoid taking repeated domains from one protein of the pairs , lets reduced the domains of each protein from the pairs to their unique members\n",
    "    protein_a_list_unique=[]\n",
    "    protein_b_list_unique=[]\n",
    "    for i in np.arange(0,len(protein_a_list_new)):\n",
    "        protein_a_list_unique.append(np.unique(protein_a_list_new[i]))\n",
    "        protein_b_list_unique.append(np.unique(protein_b_list_new[i]))\n",
    "        \n",
    "    protein_feat_true=np.zeros(shape=(len(x),len(protein_a_list_unique)))\n",
    "    pair_a_b_array=[]\n",
    "    for i in np.arange(0,len(protein_a_list_unique)):\n",
    "        index_a=[]\n",
    "        \n",
    "        pair=[protein_a_list_unique[i],protein_b_list_unique[i]]\n",
    "        pair_a_b=np.concatenate(pair).ravel()\n",
    "        pair_a_b_array.append(pair_a_b)\n",
    "\n",
    "    j=0\n",
    "    for i in pair_a_b_array:  \n",
    "        array,index,counts=np.unique(i,return_index=True,return_counts=True)\n",
    "        \n",
    "        for k,m in zip(counts,array):\n",
    "            if k ==2:\n",
    "                protein_feat_true[get_indexes(m,x),j]=2\n",
    "                \n",
    "            if k==1:\n",
    "                protein_feat_true[get_indexes(m,x),j]=1\n",
    "        j=j+1\n",
    "    return protein_feat_true"
   ]
  },
  {
   "cell_type": "code",
   "execution_count": 9,
   "metadata": {
    "execution": {
     "iopub.execute_input": "2020-07-14T10:57:41.826990Z",
     "iopub.status.busy": "2020-07-14T10:57:41.826492Z",
     "iopub.status.idle": "2020-07-14T10:57:42.431178Z",
     "shell.execute_reply": "2020-07-14T10:57:42.430317Z"
    }
   },
   "outputs": [],
   "source": [
    "protein_feat_true=feature_building(protein_b_list_new=protein_b_list_new,protein_a_list_new=protein_a_list_new)\n",
    "protein_feat_true_pd=pd.DataFrame(protein_feat_true.T)\n",
    "\n",
    "protein_feat_non_true=feature_building(protein_b_list_new=protein_b_list_non_new,protein_a_list_new=protein_a_list_non_new)\n",
    "protein_feat_non_true_pd=pd.DataFrame(protein_feat_non_true.T)"
   ]
  },
  {
   "cell_type": "markdown",
   "metadata": {},
   "source": [
    "### How many ones and twos are in each dataset"
   ]
  },
  {
   "cell_type": "code",
   "execution_count": 10,
   "metadata": {
    "execution": {
     "iopub.execute_input": "2020-07-14T10:57:42.437970Z",
     "iopub.status.busy": "2020-07-14T10:57:42.437487Z",
     "iopub.status.idle": "2020-07-14T10:57:42.532777Z",
     "shell.execute_reply": "2020-07-14T10:57:42.532259Z"
    }
   },
   "outputs": [
    {
     "name": "stdout",
     "output_type": "stream",
     "text": [
      "fraction of twos in the SL array is 1.7072129748186088e-05\n",
      "fraction of ones in the SL array is 0.0009878555077018586\n",
      "fraction of twos in the PI array is 8.162432404856647e-06\n",
      "fraction of ones in the PI array is 0.0009150086725844301\n"
     ]
    }
   ],
   "source": [
    "index_2_true=protein_feat_true_pd.where(protein_feat_true_pd==2)\n",
    "index_2_true_count=index_2_true.count(axis=1).sum()\n",
    "\n",
    "index_1_true=protein_feat_true_pd.where(protein_feat_true_pd==1)\n",
    "index_1_true_count=index_1_true.count(axis=1).sum()\n",
    "\n",
    "index_2_nontrue=protein_feat_non_true_pd.where(protein_feat_non_true_pd==2)\n",
    "index_2_nontrue_count=index_2_nontrue.count(axis=1).sum()\n",
    "\n",
    "index_1_nontrue=protein_feat_non_true_pd.where(protein_feat_non_true_pd==1)\n",
    "index_1_nontrue_count=index_1_nontrue.count(axis=1).sum()\n",
    "\n",
    "\n",
    "print('fraction of twos in the SL array is',index_2_true_count/(len(protein_feat_true_pd.index)*len(protein_feat_true_pd.columns)))\n",
    "print('fraction of ones in the SL array is',index_1_true_count/(len(protein_feat_true_pd.index)*len(protein_feat_true_pd.columns)))\n",
    "print('fraction of twos in the PI array is',index_2_nontrue_count/(len(protein_feat_non_true_pd.index)*len(protein_feat_non_true_pd.columns)))\n",
    "print('fraction of ones in the PI array is',index_1_nontrue_count/(len(protein_feat_non_true_pd.index)*len(protein_feat_non_true_pd.columns)))"
   ]
  },
  {
   "cell_type": "markdown",
   "metadata": {},
   "source": [
    "#### Bar plot to visualize these numbers"
   ]
  },
  {
   "cell_type": "code",
   "execution_count": 11,
   "metadata": {
    "execution": {
     "iopub.execute_input": "2020-07-14T10:57:42.539302Z",
     "iopub.status.busy": "2020-07-14T10:57:42.538802Z",
     "iopub.status.idle": "2020-07-14T10:57:42.883768Z",
     "shell.execute_reply": "2020-07-14T10:57:42.883333Z"
    }
   },
   "outputs": [
    {
     "data": {
      "text/plain": [
       "([0, 1, 2, 3], <a list of 4 Text major ticklabel objects>)"
      ]
     },
     "execution_count": 11,
     "metadata": {},
     "output_type": "execute_result"
    },
    {
     "data": {
      "image/png": "[encoded data removed]",
      "text/plain": [
       "<Figure size 432x288 with 1 Axes>"
      ]
     },
     "metadata": {
      "filenames": {
       "image/png": "/home/runner/work/jupyter-book/jupyter-book/mini_book/docs/_build/jupyter_execute/prot_domains2lethality-FEATURES-POSTPROCESSING_18_1.png"
      },
      "needs_background": "light"
     },
     "output_type": "display_data"
    }
   ],
   "source": [
    "plt.bar(['fraction of 2 in the nSL','fraction of 1 in the nSL'],[index_2_nontrue_count/(len(protein_feat_non_true_pd.index)*len(protein_feat_non_true_pd.columns)),index_1_nontrue_count/(len(protein_feat_non_true_pd.index)*len(protein_feat_non_true_pd.columns))],alpha=0.6,color=['blue','lightblue']), \n",
    "\n",
    "plt.bar(['fraction of 2 in SL ','fraction of 1 in SL'],[index_2_true_count/(len(protein_feat_true_pd.index)*len(protein_feat_true_pd.columns)),index_1_true_count/(len(protein_feat_true_pd.index)*len(protein_feat_true_pd.columns))],alpha=0.6,color=['coral','lightcoral'])\n",
    "\n",
    "plt.ylabel('Fraction from the population')\n",
    "plt.yscale('log')\n",
    "plt.xticks(rotation=40)"
   ]
  },
  {
   "cell_type": "markdown",
   "metadata": {},
   "source": [
    "#### Adding the labels(response variables) to each dataset"
   ]
  },
  {
   "cell_type": "code",
   "execution_count": 12,
   "metadata": {
    "execution": {
     "iopub.execute_input": "2020-07-14T10:57:42.888584Z",
     "iopub.status.busy": "2020-07-14T10:57:42.887244Z",
     "iopub.status.idle": "2020-07-14T10:57:42.892279Z",
     "shell.execute_reply": "2020-07-14T10:57:42.891871Z"
    }
   },
   "outputs": [],
   "source": [
    "protein_feat_true_pd['lethality']=np.ones(shape=(len(protein_a_list_new)))\n",
    "protein_feat_non_true_pd['lethality']=np.zeros(shape=(len(protein_a_list_non_new)))"
   ]
  },
  {
   "cell_type": "markdown",
   "metadata": {},
   "source": [
    "#### Joining both datasets"
   ]
  },
  {
   "cell_type": "code",
   "execution_count": 13,
   "metadata": {
    "execution": {
     "iopub.execute_input": "2020-07-14T10:57:42.897058Z",
     "iopub.status.busy": "2020-07-14T10:57:42.896266Z",
     "iopub.status.idle": "2020-07-14T10:57:42.933723Z",
     "shell.execute_reply": "2020-07-14T10:57:42.933045Z"
    }
   },
   "outputs": [
    {
     "name": "stdout",
     "output_type": "stream",
     "text": [
      "The number of features are: 3026\n",
      "The number of samples are: 831\n"
     ]
    }
   ],
   "source": [
    "feature_post=pd.concat([protein_feat_true_pd,protein_feat_non_true_pd],axis=0)\n",
    "feature_post=feature_post.set_index(np.arange(0,len(protein_a_list_new)+len(protein_a_list_non_new)))\n",
    "print('The number of features are:',feature_post.shape[1])\n",
    "print('The number of samples are:',feature_post.shape[0])"
   ]
  },
  {
   "cell_type": "markdown",
   "metadata": {},
   "source": [
    "### Postprocessing and exploration of the feature matrix of both datasets"
   ]
  },
  {
   "cell_type": "code",
   "execution_count": 14,
   "metadata": {
    "execution": {
     "iopub.execute_input": "2020-07-14T10:57:42.949850Z",
     "iopub.status.busy": "2020-07-14T10:57:42.939553Z",
     "iopub.status.idle": "2020-07-14T10:57:46.639217Z",
     "shell.execute_reply": "2020-07-14T10:57:46.638582Z"
    }
   },
   "outputs": [],
   "source": [
    "mean=feature_post.T.describe().loc['mean']\n",
    "std=feature_post.T.describe().loc['std']\n",
    "lethality=feature_post['lethality']\n",
    "\n",
    "corr_keys=pd.concat([mean,std,lethality],axis=1)"
   ]
  },
  {
   "cell_type": "markdown",
   "metadata": {},
   "source": [
    "### Viz of the stats"
   ]
  },
  {
   "cell_type": "code",
   "execution_count": 15,
   "metadata": {
    "execution": {
     "iopub.execute_input": "2020-07-14T10:57:46.650932Z",
     "iopub.status.busy": "2020-07-14T10:57:46.649296Z",
     "iopub.status.idle": "2020-07-14T10:57:47.971338Z",
     "shell.execute_reply": "2020-07-14T10:57:47.970869Z"
    }
   },
   "outputs": [
    {
     "data": {
      "text/plain": [
       "Text(0.5, 1.08, 'Pairplot to see data dependencies with Lethality')"
      ]
     },
     "execution_count": 15,
     "metadata": {},
     "output_type": "execute_result"
    },
    {
     "data": {
      "image/png": "[encoded data removed]",
      "text/plain": [
       "<Figure size 412x360 with 6 Axes>"
      ]
     },
     "metadata": {
      "filenames": {
       "image/png": "/home/runner/work/jupyter-book/jupyter-book/mini_book/docs/_build/jupyter_execute/prot_domains2lethality-FEATURES-POSTPROCESSING_26_1.png"
      },
      "needs_background": "light"
     },
     "output_type": "display_data"
    }
   ],
   "source": [
    "pair=sns.pairplot(corr_keys,hue='lethality',diag_kind='kde',kind='reg',palette='colorblind')\n",
    "pair.fig.suptitle('Pairplot to see data dependencies with Lethality',y=1.08)"
   ]
  },
  {
   "cell_type": "code",
   "execution_count": 16,
   "metadata": {
    "execution": {
     "iopub.execute_input": "2020-07-14T10:57:47.982988Z",
     "iopub.status.busy": "2020-07-14T10:57:47.982033Z",
     "iopub.status.idle": "2020-07-14T10:57:47.985647Z",
     "shell.execute_reply": "2020-07-14T10:57:47.986062Z"
    }
   },
   "outputs": [],
   "source": [
    "X, y = feature_post.drop(columns=[\"lethality\"]), feature_post[\"lethality\"]"
   ]
  },
  {
   "cell_type": "code",
   "execution_count": 17,
   "metadata": {
    "execution": {
     "iopub.execute_input": "2020-07-14T10:57:47.991825Z",
     "iopub.status.busy": "2020-07-14T10:57:47.991313Z",
     "iopub.status.idle": "2020-07-14T10:57:48.132095Z",
     "shell.execute_reply": "2020-07-14T10:57:48.131319Z"
    }
   },
   "outputs": [],
   "source": [
    "from sklearn.preprocessing import StandardScaler\n",
    "scaler = StandardScaler()\n",
    "x_sl=protein_feat_true_pd.drop(columns=['lethality'])\n",
    "x_nsl=protein_feat_non_true_pd.drop(columns=['lethality'])\n",
    "\n",
    "X_sl_scaled = scaler.fit_transform(x_sl)\n",
    "X_nsl_scaled = scaler.fit_transform(x_nsl)"
   ]
  },
  {
   "cell_type": "code",
   "execution_count": 18,
   "metadata": {
    "execution": {
     "iopub.execute_input": "2020-07-14T10:57:48.136775Z",
     "iopub.status.busy": "2020-07-14T10:57:48.136275Z",
     "iopub.status.idle": "2020-07-14T10:57:48.138618Z",
     "shell.execute_reply": "2020-07-14T10:57:48.139041Z"
    }
   },
   "outputs": [
    {
     "data": {
      "text/plain": [
       "(426, 3025)"
      ]
     },
     "execution_count": 18,
     "metadata": {},
     "output_type": "execute_result"
    }
   ],
   "source": [
    "np.shape(X_sl_scaled)"
   ]
  },
  {
   "cell_type": "markdown",
   "metadata": {},
   "source": [
    "## How redundant are each of the protein domains?"
   ]
  },
  {
   "cell_type": "code",
   "execution_count": 19,
   "metadata": {
    "execution": {
     "iopub.execute_input": "2020-07-14T10:57:48.147026Z",
     "iopub.status.busy": "2020-07-14T10:57:48.145908Z",
     "iopub.status.idle": "2020-07-14T10:57:48.147615Z",
     "shell.execute_reply": "2020-07-14T10:57:48.148025Z"
    }
   },
   "outputs": [],
   "source": [
    "def PCA_component_contribution(scaled_matrix,original_data):\n",
    "    from sklearn.decomposition import PCA\n",
    "\n",
    "    model = PCA(0.95).fit(scaled_matrix)\n",
    "    ## apply dimensionality reduction to X_train\n",
    "    output_pca = model.transform(scaled_matrix)\n",
    "    \n",
    "    total=sum(model.explained_variance_)\n",
    "\n",
    "\n",
    "   \n",
    "    # number of components , that it will be the number of main axes times the number of original components \n",
    "    n_pcs= model.components_.shape[0] # the amount of non redundant protein domains \n",
    "\n",
    "    # get the index of the most important feature on EACH component\n",
    "    # LIST COMPREHENSION HERE\n",
    "    most_important = [np.abs(model.components_[i]).argmax() for i in range(n_pcs)]\n",
    "\n",
    "    initial_feature_names = original_data.columns\n",
    "    # get the names\n",
    "    most_important_names = [initial_feature_names[most_important[i]] for i in range(n_pcs)]\n",
    "    \n",
    "\n",
    "    # LIST COMPREHENSION HERE AGAIN\n",
    "    dic = {'PC{}'.format(i): most_important_names[i] for i in range(n_pcs)}\n",
    "\n",
    "    # build the dataframe\n",
    "    df = pd.DataFrame(dic.items(),columns=['pca-component','domain-number'])\n",
    "\n",
    "    return df,model.components_"
   ]
  },
  {
   "cell_type": "code",
   "execution_count": 20,
   "metadata": {
    "execution": {
     "iopub.execute_input": "2020-07-14T10:57:48.151214Z",
     "iopub.status.busy": "2020-07-14T10:57:48.150736Z",
     "iopub.status.idle": "2020-07-14T10:57:48.739731Z",
     "shell.execute_reply": "2020-07-14T10:57:48.740168Z"
    }
   },
   "outputs": [],
   "source": [
    "df_sl,components_pca_nsl=PCA_component_contribution(X_nsl_scaled,x_nsl)\n",
    "df_nsl,components_pca_sl=PCA_component_contribution(X_sl_scaled,x_sl)"
   ]
  },
  {
   "cell_type": "code",
   "execution_count": 21,
   "metadata": {
    "execution": {
     "iopub.execute_input": "2020-07-14T10:57:48.742938Z",
     "iopub.status.busy": "2020-07-14T10:57:48.742016Z",
     "iopub.status.idle": "2020-07-14T10:57:48.751209Z",
     "shell.execute_reply": "2020-07-14T10:57:48.751835Z"
    }
   },
   "outputs": [
    {
     "data": {
      "text/html": [
       "<div>\n",
       "<style scoped>\n",
       "    .dataframe tbody tr th:only-of-type {\n",
       "        vertical-align: middle;\n",
       "    }\n",
       "\n",
       "    .dataframe tbody tr th {\n",
       "        vertical-align: top;\n",
       "    }\n",
       "\n",
       "    .dataframe thead th {\n",
       "        text-align: right;\n",
       "    }\n",
       "</style>\n",
       "<table border=\"1\" class=\"dataframe\">\n",
       "  <thead>\n",
       "    <tr style=\"text-align: right;\">\n",
       "      <th></th>\n",
       "      <th>pca-component</th>\n",
       "      <th>domain-number</th>\n",
       "    </tr>\n",
       "  </thead>\n",
       "  <tbody>\n",
       "    <tr>\n",
       "      <th>0</th>\n",
       "      <td>PC0</td>\n",
       "      <td>305</td>\n",
       "    </tr>\n",
       "    <tr>\n",
       "      <th>1</th>\n",
       "      <td>PC1</td>\n",
       "      <td>142</td>\n",
       "    </tr>\n",
       "    <tr>\n",
       "      <th>2</th>\n",
       "      <td>PC2</td>\n",
       "      <td>300</td>\n",
       "    </tr>\n",
       "    <tr>\n",
       "      <th>3</th>\n",
       "      <td>PC3</td>\n",
       "      <td>221</td>\n",
       "    </tr>\n",
       "    <tr>\n",
       "      <th>4</th>\n",
       "      <td>PC4</td>\n",
       "      <td>2</td>\n",
       "    </tr>\n",
       "  </tbody>\n",
       "</table>\n",
       "</div>"
      ],
      "text/plain": [
       "  pca-component  domain-number\n",
       "0           PC0            305\n",
       "1           PC1            142\n",
       "2           PC2            300\n",
       "3           PC3            221\n",
       "4           PC4              2"
      ]
     },
     "execution_count": 21,
     "metadata": {},
     "output_type": "execute_result"
    }
   ],
   "source": [
    "df_sl.head()"
   ]
  },
  {
   "cell_type": "markdown",
   "metadata": {},
   "source": [
    "## which are the shared domains between nSL and SL pairs , in the PCA reduced samples"
   ]
  },
  {
   "cell_type": "code",
   "execution_count": 22,
   "metadata": {
    "execution": {
     "iopub.execute_input": "2020-07-14T10:57:48.754851Z",
     "iopub.status.busy": "2020-07-14T10:57:48.753712Z",
     "iopub.status.idle": "2020-07-14T10:57:48.784481Z",
     "shell.execute_reply": "2020-07-14T10:57:48.785174Z"
    }
   },
   "outputs": [
    {
     "data": {
      "text/html": [
       "<div>\n",
       "<style scoped>\n",
       "    .dataframe tbody tr th:only-of-type {\n",
       "        vertical-align: middle;\n",
       "    }\n",
       "\n",
       "    .dataframe tbody tr th {\n",
       "        vertical-align: top;\n",
       "    }\n",
       "\n",
       "    .dataframe thead th {\n",
       "        text-align: right;\n",
       "    }\n",
       "</style>\n",
       "<table border=\"1\" class=\"dataframe\">\n",
       "  <thead>\n",
       "    <tr style=\"text-align: right;\">\n",
       "      <th></th>\n",
       "      <th>pca-component_x</th>\n",
       "      <th>domain-number</th>\n",
       "      <th>pca-component_y</th>\n",
       "      <th>domain-description</th>\n",
       "    </tr>\n",
       "  </thead>\n",
       "  <tbody>\n",
       "    <tr>\n",
       "      <th>0</th>\n",
       "      <td>PC3</td>\n",
       "      <td>221</td>\n",
       "      <td>PC3</td>\n",
       "      <td>Apq12; Nuclear pore assembly and biogenesis pr...</td>\n",
       "    </tr>\n",
       "    <tr>\n",
       "      <th>1</th>\n",
       "      <td>PC7</td>\n",
       "      <td>211</td>\n",
       "      <td>PC10</td>\n",
       "      <td>Ank_5</td>\n",
       "    </tr>\n",
       "    <tr>\n",
       "      <th>2</th>\n",
       "      <td>PC10</td>\n",
       "      <td>55</td>\n",
       "      <td>PC59</td>\n",
       "      <td>ADK</td>\n",
       "    </tr>\n",
       "    <tr>\n",
       "      <th>3</th>\n",
       "      <td>PC13</td>\n",
       "      <td>1236</td>\n",
       "      <td>PC189</td>\n",
       "      <td>Inositol_P; Inositol monophosphatase-like</td>\n",
       "    </tr>\n",
       "    <tr>\n",
       "      <th>4</th>\n",
       "      <td>PC25</td>\n",
       "      <td>463</td>\n",
       "      <td>PC15</td>\n",
       "      <td>Chitin_synth_1N; Chitin synthase N-terminal</td>\n",
       "    </tr>\n",
       "    <tr>\n",
       "      <th>...</th>\n",
       "      <td>...</td>\n",
       "      <td>...</td>\n",
       "      <td>...</td>\n",
       "      <td>...</td>\n",
       "    </tr>\n",
       "    <tr>\n",
       "      <th>64</th>\n",
       "      <td>PC233</td>\n",
       "      <td>1030</td>\n",
       "      <td>PC220</td>\n",
       "      <td>Gcn1_N; Gcn1, N-terminal</td>\n",
       "    </tr>\n",
       "    <tr>\n",
       "      <th>65</th>\n",
       "      <td>PC243</td>\n",
       "      <td>2311</td>\n",
       "      <td>PC182</td>\n",
       "      <td>SF1-HH; Splicing factor 1, helix-hairpin domain</td>\n",
       "    </tr>\n",
       "    <tr>\n",
       "      <th>66</th>\n",
       "      <td>PC266</td>\n",
       "      <td>1969</td>\n",
       "      <td>PC156</td>\n",
       "      <td>RAI1; RAI1-like</td>\n",
       "    </tr>\n",
       "    <tr>\n",
       "      <th>67</th>\n",
       "      <td>PC273</td>\n",
       "      <td>1663</td>\n",
       "      <td>PC188</td>\n",
       "      <td>ORC5_C; Origin recognition complex, subunit 5</td>\n",
       "    </tr>\n",
       "    <tr>\n",
       "      <th>68</th>\n",
       "      <td>PC273</td>\n",
       "      <td>1663</td>\n",
       "      <td>PC200</td>\n",
       "      <td>ORC5_C; Origin recognition complex, subunit 5</td>\n",
       "    </tr>\n",
       "  </tbody>\n",
       "</table>\n",
       "<p>69 rows × 4 columns</p>\n",
       "</div>"
      ],
      "text/plain": [
       "   pca-component_x  domain-number pca-component_y  \\\n",
       "0              PC3            221             PC3   \n",
       "1              PC7            211            PC10   \n",
       "2             PC10             55            PC59   \n",
       "3             PC13           1236           PC189   \n",
       "4             PC25            463            PC15   \n",
       "..             ...            ...             ...   \n",
       "64           PC233           1030           PC220   \n",
       "65           PC243           2311           PC182   \n",
       "66           PC266           1969           PC156   \n",
       "67           PC273           1663           PC188   \n",
       "68           PC273           1663           PC200   \n",
       "\n",
       "                                   domain-description  \n",
       "0   Apq12; Nuclear pore assembly and biogenesis pr...  \n",
       "1                                               Ank_5  \n",
       "2                                                 ADK  \n",
       "3           Inositol_P; Inositol monophosphatase-like  \n",
       "4         Chitin_synth_1N; Chitin synthase N-terminal  \n",
       "..                                                ...  \n",
       "64                           Gcn1_N; Gcn1, N-terminal  \n",
       "65    SF1-HH; Splicing factor 1, helix-hairpin domain  \n",
       "66                                    RAI1; RAI1-like  \n",
       "67      ORC5_C; Origin recognition complex, subunit 5  \n",
       "68      ORC5_C; Origin recognition complex, subunit 5  \n",
       "\n",
       "[69 rows x 4 columns]"
      ]
     },
     "execution_count": 22,
     "metadata": {},
     "output_type": "execute_result"
    }
   ],
   "source": [
    "df_shared_domains=pd.merge(df_sl,df_nsl,how='inner',on='domain-number')\n",
    "domains_name=np.unique(data_domains['domain-name'])\n",
    "domains_description=np.unique(data_domains['domain-descrip'])\n",
    "\n",
    "df_shared_domains['domain-description']=domains_description[df_shared_domains['domain-number']]\n",
    "\n",
    "\n",
    "df_shared_domains"
   ]
  },
  {
   "cell_type": "code",
   "execution_count": 23,
   "metadata": {
    "execution": {
     "iopub.execute_input": "2020-07-14T10:57:48.788340Z",
     "iopub.status.busy": "2020-07-14T10:57:48.787318Z",
     "iopub.status.idle": "2020-07-14T10:57:48.794039Z",
     "shell.execute_reply": "2020-07-14T10:57:48.794741Z"
    }
   },
   "outputs": [
    {
     "name": "stdout",
     "output_type": "stream",
     "text": [
      "The number of shared domains between SL and nSL pairs,after PCA, is =  69 out of 565 so the 12.212389380530974 %\n"
     ]
    }
   ],
   "source": [
    "print('The number of shared domains between SL and nSL pairs,after PCA, is = ',len(df_shared_domains), 'out of', len(df_sl)+len(df_nsl), 'so the',100*len(df_shared_domains)/(len(df_sl)+len(df_nsl)),'%')"
   ]
  },
  {
   "cell_type": "markdown",
   "metadata": {},
   "source": [
    "## Domains exclusive to SL"
   ]
  },
  {
   "cell_type": "code",
   "execution_count": 24,
   "metadata": {
    "execution": {
     "iopub.execute_input": "2020-07-14T10:57:48.797576Z",
     "iopub.status.busy": "2020-07-14T10:57:48.796617Z",
     "iopub.status.idle": "2020-07-14T10:57:48.827296Z",
     "shell.execute_reply": "2020-07-14T10:57:48.828010Z"
    }
   },
   "outputs": [
    {
     "data": {
      "text/html": [
       "<div>\n",
       "<style scoped>\n",
       "    .dataframe tbody tr th:only-of-type {\n",
       "        vertical-align: middle;\n",
       "    }\n",
       "\n",
       "    .dataframe tbody tr th {\n",
       "        vertical-align: top;\n",
       "    }\n",
       "\n",
       "    .dataframe thead th {\n",
       "        text-align: right;\n",
       "    }\n",
       "</style>\n",
       "<table border=\"1\" class=\"dataframe\">\n",
       "  <thead>\n",
       "    <tr style=\"text-align: right;\">\n",
       "      <th></th>\n",
       "      <th>pca-component_x</th>\n",
       "      <th>domain-number</th>\n",
       "      <th>pca-component_y</th>\n",
       "      <th>domain-description</th>\n",
       "    </tr>\n",
       "  </thead>\n",
       "  <tbody>\n",
       "    <tr>\n",
       "      <th>0</th>\n",
       "      <td>PC0</td>\n",
       "      <td>305</td>\n",
       "      <td>NaN</td>\n",
       "      <td>Brr6_like_C_C; Brl1/Brr6 domain</td>\n",
       "    </tr>\n",
       "    <tr>\n",
       "      <th>1</th>\n",
       "      <td>PC1</td>\n",
       "      <td>142</td>\n",
       "      <td>NaN</td>\n",
       "      <td>ATP_synt_H; ATPase, V0 complex, subunit e1/e2</td>\n",
       "    </tr>\n",
       "    <tr>\n",
       "      <th>2</th>\n",
       "      <td>PC2</td>\n",
       "      <td>300</td>\n",
       "      <td>NaN</td>\n",
       "      <td>BolA; BolA protein</td>\n",
       "    </tr>\n",
       "    <tr>\n",
       "      <th>4</th>\n",
       "      <td>PC4</td>\n",
       "      <td>2</td>\n",
       "      <td>NaN</td>\n",
       "      <td>2-Hacid_dh; D-isomer specific 2-hydroxyacid de...</td>\n",
       "    </tr>\n",
       "    <tr>\n",
       "      <th>5</th>\n",
       "      <td>PC5</td>\n",
       "      <td>274</td>\n",
       "      <td>NaN</td>\n",
       "      <td>BOP1NT; BOP1, N-terminal domain</td>\n",
       "    </tr>\n",
       "    <tr>\n",
       "      <th>...</th>\n",
       "      <td>...</td>\n",
       "      <td>...</td>\n",
       "      <td>...</td>\n",
       "      <td>...</td>\n",
       "    </tr>\n",
       "    <tr>\n",
       "      <th>285</th>\n",
       "      <td>PC270</td>\n",
       "      <td>2198</td>\n",
       "      <td>NaN</td>\n",
       "      <td>Ribosomal_L37ae; Ribosomal protein L37ae</td>\n",
       "    </tr>\n",
       "    <tr>\n",
       "      <th>286</th>\n",
       "      <td>PC271</td>\n",
       "      <td>2492</td>\n",
       "      <td>NaN</td>\n",
       "      <td>Sod_Cu; Superoxide dismutase, copper/zinc bind...</td>\n",
       "    </tr>\n",
       "    <tr>\n",
       "      <th>287</th>\n",
       "      <td>PC272</td>\n",
       "      <td>1035</td>\n",
       "      <td>NaN</td>\n",
       "      <td>Gln-synt_N; Glutamine synthetase, beta-Grasp d...</td>\n",
       "    </tr>\n",
       "    <tr>\n",
       "      <th>290</th>\n",
       "      <td>PC274</td>\n",
       "      <td>579</td>\n",
       "      <td>NaN</td>\n",
       "      <td>DHBP_synthase; 3,4-dihydroxy-2-butanone 4-phos...</td>\n",
       "    </tr>\n",
       "    <tr>\n",
       "      <th>291</th>\n",
       "      <td>PC275</td>\n",
       "      <td>1352</td>\n",
       "      <td>NaN</td>\n",
       "      <td>MATalpha_HMGbox; Mating-type protein MAT alpha...</td>\n",
       "    </tr>\n",
       "  </tbody>\n",
       "</table>\n",
       "<p>223 rows × 4 columns</p>\n",
       "</div>"
      ],
      "text/plain": [
       "    pca-component_x  domain-number pca-component_y  \\\n",
       "0               PC0            305             NaN   \n",
       "1               PC1            142             NaN   \n",
       "2               PC2            300             NaN   \n",
       "4               PC4              2             NaN   \n",
       "5               PC5            274             NaN   \n",
       "..              ...            ...             ...   \n",
       "285           PC270           2198             NaN   \n",
       "286           PC271           2492             NaN   \n",
       "287           PC272           1035             NaN   \n",
       "290           PC274            579             NaN   \n",
       "291           PC275           1352             NaN   \n",
       "\n",
       "                                    domain-description  \n",
       "0                      Brr6_like_C_C; Brl1/Brr6 domain  \n",
       "1        ATP_synt_H; ATPase, V0 complex, subunit e1/e2  \n",
       "2                                   BolA; BolA protein  \n",
       "4    2-Hacid_dh; D-isomer specific 2-hydroxyacid de...  \n",
       "5                      BOP1NT; BOP1, N-terminal domain  \n",
       "..                                                 ...  \n",
       "285           Ribosomal_L37ae; Ribosomal protein L37ae  \n",
       "286  Sod_Cu; Superoxide dismutase, copper/zinc bind...  \n",
       "287  Gln-synt_N; Glutamine synthetase, beta-Grasp d...  \n",
       "290  DHBP_synthase; 3,4-dihydroxy-2-butanone 4-phos...  \n",
       "291  MATalpha_HMGbox; Mating-type protein MAT alpha...  \n",
       "\n",
       "[223 rows x 4 columns]"
      ]
     },
     "execution_count": 24,
     "metadata": {},
     "output_type": "execute_result"
    }
   ],
   "source": [
    "df_sl_exclusive=pd.merge(df_sl,df_nsl,how='left',on='domain-number')\n",
    "\n",
    "domains_name=np.unique(data_domains['domain-name'])\n",
    "domains_description=np.unique(data_domains['domain-descrip'])\n",
    "\n",
    "df_sl_exclusive['domain-description']=domains_description[df_sl_exclusive['domain-number']]\n",
    "df_sl_exclusive[pd.isnull(df_sl_exclusive['pca-component_y'])]"
   ]
  },
  {
   "cell_type": "code",
   "execution_count": 25,
   "metadata": {
    "execution": {
     "iopub.execute_input": "2020-07-14T10:57:48.831160Z",
     "iopub.status.busy": "2020-07-14T10:57:48.830057Z",
     "iopub.status.idle": "2020-07-14T10:57:48.837648Z",
     "shell.execute_reply": "2020-07-14T10:57:48.838346Z"
    }
   },
   "outputs": [
    {
     "name": "stdout",
     "output_type": "stream",
     "text": [
      "The number of exclusive domains from SL pairs, after PCA, is =  292 out of 565 so the 51.68141592920354 %\n"
     ]
    }
   ],
   "source": [
    "print('The number of exclusive domains from SL pairs, after PCA, is = ',len(df_sl_exclusive), 'out of', len(df_sl)+len(df_nsl), 'so the',100*len(df_sl_exclusive)/(len(df_sl)+len(df_nsl)),'%')"
   ]
  },
  {
   "cell_type": "code",
   "execution_count": 26,
   "metadata": {
    "execution": {
     "iopub.execute_input": "2020-07-14T10:57:48.841609Z",
     "iopub.status.busy": "2020-07-14T10:57:48.840572Z",
     "iopub.status.idle": "2020-07-14T10:57:48.870147Z",
     "shell.execute_reply": "2020-07-14T10:57:48.869729Z"
    }
   },
   "outputs": [
    {
     "data": {
      "text/html": [
       "<div>\n",
       "<style scoped>\n",
       "    .dataframe tbody tr th:only-of-type {\n",
       "        vertical-align: middle;\n",
       "    }\n",
       "\n",
       "    .dataframe tbody tr th {\n",
       "        vertical-align: top;\n",
       "    }\n",
       "\n",
       "    .dataframe thead th {\n",
       "        text-align: right;\n",
       "    }\n",
       "</style>\n",
       "<table border=\"1\" class=\"dataframe\">\n",
       "  <thead>\n",
       "    <tr style=\"text-align: right;\">\n",
       "      <th></th>\n",
       "      <th>pca-component_x</th>\n",
       "      <th>domain-number</th>\n",
       "      <th>pca-component_y</th>\n",
       "      <th>domain-description</th>\n",
       "    </tr>\n",
       "  </thead>\n",
       "  <tbody>\n",
       "    <tr>\n",
       "      <th>69</th>\n",
       "      <td>NaN</td>\n",
       "      <td>1464</td>\n",
       "      <td>PC0</td>\n",
       "      <td>Metallophos_2; Calcineurin-like phosphoesteras...</td>\n",
       "    </tr>\n",
       "    <tr>\n",
       "      <th>70</th>\n",
       "      <td>NaN</td>\n",
       "      <td>1028</td>\n",
       "      <td>PC1</td>\n",
       "      <td>GatB_Yqey; Asn/Gln amidotransferase</td>\n",
       "    </tr>\n",
       "    <tr>\n",
       "      <th>71</th>\n",
       "      <td>NaN</td>\n",
       "      <td>268</td>\n",
       "      <td>PC2</td>\n",
       "      <td>BHD_3; Rad4 beta-hairpin domain 3</td>\n",
       "    </tr>\n",
       "    <tr>\n",
       "      <th>72</th>\n",
       "      <td>NaN</td>\n",
       "      <td>1519</td>\n",
       "      <td>PC4</td>\n",
       "      <td>Mtc; Tricarboxylate/iron carrier</td>\n",
       "    </tr>\n",
       "    <tr>\n",
       "      <th>73</th>\n",
       "      <td>NaN</td>\n",
       "      <td>339</td>\n",
       "      <td>PC5</td>\n",
       "      <td>CDC50; CDC50/LEM3 family</td>\n",
       "    </tr>\n",
       "    <tr>\n",
       "      <th>...</th>\n",
       "      <td>...</td>\n",
       "      <td>...</td>\n",
       "      <td>...</td>\n",
       "      <td>...</td>\n",
       "    </tr>\n",
       "    <tr>\n",
       "      <th>289</th>\n",
       "      <td>NaN</td>\n",
       "      <td>12</td>\n",
       "      <td>PC281</td>\n",
       "      <td>60KD_IMP; Membrane insertase OXA1/ALB3/YidC</td>\n",
       "    </tr>\n",
       "    <tr>\n",
       "      <th>290</th>\n",
       "      <td>NaN</td>\n",
       "      <td>204</td>\n",
       "      <td>PC282</td>\n",
       "      <td>Aminotran_4; Aminotransferase class IV</td>\n",
       "    </tr>\n",
       "    <tr>\n",
       "      <th>291</th>\n",
       "      <td>NaN</td>\n",
       "      <td>2569</td>\n",
       "      <td>PC284</td>\n",
       "      <td>TENA_THI-4; Thiaminase-2/PQQC</td>\n",
       "    </tr>\n",
       "    <tr>\n",
       "      <th>292</th>\n",
       "      <td>NaN</td>\n",
       "      <td>1784</td>\n",
       "      <td>PC286</td>\n",
       "      <td>PMP1_2; Plasma membrane ATPase proteolipid</td>\n",
       "    </tr>\n",
       "    <tr>\n",
       "      <th>293</th>\n",
       "      <td>NaN</td>\n",
       "      <td>110</td>\n",
       "      <td>PC288</td>\n",
       "      <td>ATG16; Autophagy-related protein 16</td>\n",
       "    </tr>\n",
       "  </tbody>\n",
       "</table>\n",
       "<p>225 rows × 4 columns</p>\n",
       "</div>"
      ],
      "text/plain": [
       "    pca-component_x  domain-number pca-component_y  \\\n",
       "69              NaN           1464             PC0   \n",
       "70              NaN           1028             PC1   \n",
       "71              NaN            268             PC2   \n",
       "72              NaN           1519             PC4   \n",
       "73              NaN            339             PC5   \n",
       "..              ...            ...             ...   \n",
       "289             NaN             12           PC281   \n",
       "290             NaN            204           PC282   \n",
       "291             NaN           2569           PC284   \n",
       "292             NaN           1784           PC286   \n",
       "293             NaN            110           PC288   \n",
       "\n",
       "                                    domain-description  \n",
       "69   Metallophos_2; Calcineurin-like phosphoesteras...  \n",
       "70                 GatB_Yqey; Asn/Gln amidotransferase  \n",
       "71                   BHD_3; Rad4 beta-hairpin domain 3  \n",
       "72                    Mtc; Tricarboxylate/iron carrier  \n",
       "73                            CDC50; CDC50/LEM3 family  \n",
       "..                                                 ...  \n",
       "289        60KD_IMP; Membrane insertase OXA1/ALB3/YidC  \n",
       "290             Aminotran_4; Aminotransferase class IV  \n",
       "291                      TENA_THI-4; Thiaminase-2/PQQC  \n",
       "292         PMP1_2; Plasma membrane ATPase proteolipid  \n",
       "293                ATG16; Autophagy-related protein 16  \n",
       "\n",
       "[225 rows x 4 columns]"
      ]
     },
     "execution_count": 26,
     "metadata": {},
     "output_type": "execute_result"
    }
   ],
   "source": [
    "df_nsl_exclusive=pd.merge(df_sl,df_nsl,how='right',on='domain-number')\n",
    "\n",
    "domains_name=np.unique(data_domains['domain-name'])\n",
    "domains_description=np.unique(data_domains['domain-descrip'])\n",
    "\n",
    "df_nsl_exclusive['domain-description']=domains_description[df_nsl_exclusive['domain-number']]\n",
    "df_nsl_exclusive[pd.isnull(df_nsl_exclusive['pca-component_x'])]"
   ]
  },
  {
   "cell_type": "code",
   "execution_count": 27,
   "metadata": {
    "execution": {
     "iopub.execute_input": "2020-07-14T10:57:48.875342Z",
     "iopub.status.busy": "2020-07-14T10:57:48.874872Z",
     "iopub.status.idle": "2020-07-14T10:57:48.878355Z",
     "shell.execute_reply": "2020-07-14T10:57:48.879048Z"
    }
   },
   "outputs": [
    {
     "name": "stdout",
     "output_type": "stream",
     "text": [
      "The number of exclusive domains from non SL pairs, after PCA, is =  294 out of 565 so the 52.0353982300885 %\n"
     ]
    }
   ],
   "source": [
    "print('The number of exclusive domains from non SL pairs, after PCA, is = ',len(df_nsl_exclusive), 'out of', len(df_sl)+len(df_nsl), 'so the',100*len(df_nsl_exclusive)/(len(df_sl)+len(df_nsl)),'%')"
   ]
  },
  {
   "cell_type": "markdown",
   "metadata": {},
   "source": [
    "## Let see to the domains-number that get repeated after the PCA analysis , and selecting the most explanatory feature by its explained variance."
   ]
  },
  {
   "cell_type": "code",
   "execution_count": 28,
   "metadata": {
    "execution": {
     "iopub.execute_input": "2020-07-14T10:57:48.900434Z",
     "iopub.status.busy": "2020-07-14T10:57:48.899941Z",
     "iopub.status.idle": "2020-07-14T10:57:48.903239Z",
     "shell.execute_reply": "2020-07-14T10:57:48.902784Z"
    }
   },
   "outputs": [],
   "source": [
    "duplicated_features_sl=df_sl[df_sl.iloc[:,1].duplicated()]\n",
    "repeated_features_sl=pd.DataFrame()\n",
    "\n",
    "domains_name=np.unique(data_domains['domain-name'])\n",
    "domains_description=np.unique(data_domains['domain-descrip'])\n",
    "\n",
    "repeated_features_sl['domain-name']=domains_name[duplicated_features_sl.iloc[:,1]] \n",
    "repeated_features_sl['domain-description']=domains_description[duplicated_features_sl.iloc[:,1]]\n",
    "\n",
    "duplicated_features_nsl=df_nsl[df_nsl.iloc[:,1].duplicated()]\n",
    "repeated_features_nsl=pd.DataFrame()\n",
    "\n",
    "repeated_features_nsl['domain-name']=domains_name[duplicated_features_nsl.iloc[:,1]] \n",
    "repeated_features_nsl['domain-description']=domains_description[duplicated_features_nsl.iloc[:,1]]"
   ]
  },
  {
   "cell_type": "code",
   "execution_count": 29,
   "metadata": {
    "execution": {
     "iopub.execute_input": "2020-07-14T10:57:48.911493Z",
     "iopub.status.busy": "2020-07-14T10:57:48.908308Z",
     "iopub.status.idle": "2020-07-14T10:57:48.917348Z",
     "shell.execute_reply": "2020-07-14T10:57:48.916929Z"
    }
   },
   "outputs": [
    {
     "name": "stderr",
     "output_type": "stream",
     "text": [
      "/usr/share/miniconda3/envs/wintest/lib/python3.7/site-packages/ipykernel_launcher.py:3: SettingWithCopyWarning: \n",
      "A value is trying to be set on a copy of a slice from a DataFrame.\n",
      "Try using .loc[row_indexer,col_indexer] = value instead\n",
      "\n",
      "See the caveats in the documentation: https://pandas.pydata.org/pandas-docs/stable/user_guide/indexing.html#returning-a-view-versus-a-copy\n",
      "  This is separate from the ipykernel package so we can avoid doing imports until\n"
     ]
    },
    {
     "data": {
      "text/plain": [
       "((31, 4), (292, 4))"
      ]
     },
     "execution_count": 29,
     "metadata": {},
     "output_type": "execute_result"
    }
   ],
   "source": [
    "only_sl_pd=pd.merge(repeated_features_sl,repeated_features_nsl,how='left',on=['domain-name'])\n",
    "data_only_sl = only_sl_pd[pd.isnull(only_sl_pd['domain-description_y'])]\n",
    "data_only_sl['domain-description']=data_only_sl['domain-description_x']\n",
    "data_only_sl.shape,df_sl_exclusive.shape"
   ]
  },
  {
   "cell_type": "code",
   "execution_count": 30,
   "metadata": {
    "execution": {
     "iopub.execute_input": "2020-07-14T10:57:48.935405Z",
     "iopub.status.busy": "2020-07-14T10:57:48.934907Z",
     "iopub.status.idle": "2020-07-14T10:57:48.938478Z",
     "shell.execute_reply": "2020-07-14T10:57:48.938089Z"
    }
   },
   "outputs": [
    {
     "data": {
      "text/html": [
       "<div>\n",
       "<style scoped>\n",
       "    .dataframe tbody tr th:only-of-type {\n",
       "        vertical-align: middle;\n",
       "    }\n",
       "\n",
       "    .dataframe tbody tr th {\n",
       "        vertical-align: top;\n",
       "    }\n",
       "\n",
       "    .dataframe thead th {\n",
       "        text-align: right;\n",
       "    }\n",
       "</style>\n",
       "<table border=\"1\" class=\"dataframe\">\n",
       "  <thead>\n",
       "    <tr style=\"text-align: right;\">\n",
       "      <th></th>\n",
       "      <th>domain-name</th>\n",
       "      <th>domain-description_x</th>\n",
       "      <th>domain-description_y</th>\n",
       "    </tr>\n",
       "  </thead>\n",
       "  <tbody>\n",
       "    <tr>\n",
       "      <th>1</th>\n",
       "      <td>PF00610</td>\n",
       "      <td>NaN</td>\n",
       "      <td>Beach; BEACH domain</td>\n",
       "    </tr>\n",
       "    <tr>\n",
       "      <th>2</th>\n",
       "      <td>PF00136</td>\n",
       "      <td>NaN</td>\n",
       "      <td>AHSA1; Activator of Hsp90 ATPase homologue 1-like</td>\n",
       "    </tr>\n",
       "    <tr>\n",
       "      <th>3</th>\n",
       "      <td>PF02666</td>\n",
       "      <td>NaN</td>\n",
       "      <td>Flocculin</td>\n",
       "    </tr>\n",
       "    <tr>\n",
       "      <th>4</th>\n",
       "      <td>PF08731</td>\n",
       "      <td>NaN</td>\n",
       "      <td>RNase_PH_C; Exoribonuclease, phosphorolytic do...</td>\n",
       "    </tr>\n",
       "    <tr>\n",
       "      <th>5</th>\n",
       "      <td>PF02463</td>\n",
       "      <td>NaN</td>\n",
       "      <td>FSH1; Serine hydrolase FSH</td>\n",
       "    </tr>\n",
       "    <tr>\n",
       "      <th>6</th>\n",
       "      <td>PF01151</td>\n",
       "      <td>NaN</td>\n",
       "      <td>Cpn10; GroES chaperonin family</td>\n",
       "    </tr>\n",
       "    <tr>\n",
       "      <th>7</th>\n",
       "      <td>PF13202</td>\n",
       "      <td>NaN</td>\n",
       "      <td>TIP41; TIP41-like protein</td>\n",
       "    </tr>\n",
       "    <tr>\n",
       "      <th>8</th>\n",
       "      <td>PF12717</td>\n",
       "      <td>NaN</td>\n",
       "      <td>Stb3; Sin3 binding protein</td>\n",
       "    </tr>\n",
       "    <tr>\n",
       "      <th>9</th>\n",
       "      <td>PF03874</td>\n",
       "      <td>NaN</td>\n",
       "      <td>Hydantoinase_A; Hydantoinase/oxoprolinase</td>\n",
       "    </tr>\n",
       "    <tr>\n",
       "      <th>10</th>\n",
       "      <td>PF00957</td>\n",
       "      <td>NaN</td>\n",
       "      <td>Candida_ALS_N; Agglutinin-like protein, N-term...</td>\n",
       "    </tr>\n",
       "    <tr>\n",
       "      <th>11</th>\n",
       "      <td>PF03853</td>\n",
       "      <td>NaN</td>\n",
       "      <td>Hph; High pH protein family</td>\n",
       "    </tr>\n",
       "    <tr>\n",
       "      <th>12</th>\n",
       "      <td>PF00170</td>\n",
       "      <td>NaN</td>\n",
       "      <td>AMP-binding_C; AMP-binding enzyme, C-terminal ...</td>\n",
       "    </tr>\n",
       "    <tr>\n",
       "      <th>13</th>\n",
       "      <td>PF07926</td>\n",
       "      <td>NaN</td>\n",
       "      <td>PIP5K; Phosphatidylinositol-4-phosphate 5-kina...</td>\n",
       "    </tr>\n",
       "    <tr>\n",
       "      <th>14</th>\n",
       "      <td>PF00464</td>\n",
       "      <td>NaN</td>\n",
       "      <td>ArfGap; Arf GTPase activating protein</td>\n",
       "    </tr>\n",
       "    <tr>\n",
       "      <th>15</th>\n",
       "      <td>PF08312</td>\n",
       "      <td>NaN</td>\n",
       "      <td>Peptidase_M24_C; Peptidase M24, C-terminal domain</td>\n",
       "    </tr>\n",
       "    <tr>\n",
       "      <th>16</th>\n",
       "      <td>PF03587</td>\n",
       "      <td>NaN</td>\n",
       "      <td>HRXXH; Putative peptidase domain, HRXXH</td>\n",
       "    </tr>\n",
       "    <tr>\n",
       "      <th>17</th>\n",
       "      <td>PF01504</td>\n",
       "      <td>NaN</td>\n",
       "      <td>DUF1720; Domain of unknown function DUF1720</td>\n",
       "    </tr>\n",
       "    <tr>\n",
       "      <th>18</th>\n",
       "      <td>PF01504</td>\n",
       "      <td>NaN</td>\n",
       "      <td>DUF1720; Domain of unknown function DUF1720</td>\n",
       "    </tr>\n",
       "    <tr>\n",
       "      <th>19</th>\n",
       "      <td>PF00999</td>\n",
       "      <td>NaN</td>\n",
       "      <td>Cbp4</td>\n",
       "    </tr>\n",
       "    <tr>\n",
       "      <th>20</th>\n",
       "      <td>PF00118</td>\n",
       "      <td>NaN</td>\n",
       "      <td>AD; Anticodon-binding domain</td>\n",
       "    </tr>\n",
       "    <tr>\n",
       "      <th>21</th>\n",
       "      <td>PF05764</td>\n",
       "      <td>NaN</td>\n",
       "      <td>NPR3; Nitrogen permease regulator 3</td>\n",
       "    </tr>\n",
       "    <tr>\n",
       "      <th>22</th>\n",
       "      <td>PF01145</td>\n",
       "      <td>NaN</td>\n",
       "      <td>Coq4; Ubiquinone biosynthesis protein Coq4</td>\n",
       "    </tr>\n",
       "    <tr>\n",
       "      <th>23</th>\n",
       "      <td>PF03800</td>\n",
       "      <td>NaN</td>\n",
       "      <td>HisG_C; Histidine biosynthesis HisG, C-terminal</td>\n",
       "    </tr>\n",
       "    <tr>\n",
       "      <th>24</th>\n",
       "      <td>PF02996</td>\n",
       "      <td>NaN</td>\n",
       "      <td>Gal_mutarotas_2; Glycoside hydrolase family 31...</td>\n",
       "    </tr>\n",
       "    <tr>\n",
       "      <th>25</th>\n",
       "      <td>PF00828</td>\n",
       "      <td>NaN</td>\n",
       "      <td>COX6A; Cytochrome c oxidase, subunit VIa</td>\n",
       "    </tr>\n",
       "    <tr>\n",
       "      <th>26</th>\n",
       "      <td>PF03650</td>\n",
       "      <td>NaN</td>\n",
       "      <td>Hap4_Hap_bind; Hap4 transcription factor, hete...</td>\n",
       "    </tr>\n",
       "    <tr>\n",
       "      <th>27</th>\n",
       "      <td>PF10310</td>\n",
       "      <td>NaN</td>\n",
       "      <td>Ribosomal_S6; Ribosomal protein S6</td>\n",
       "    </tr>\n",
       "    <tr>\n",
       "      <th>28</th>\n",
       "      <td>PF10310</td>\n",
       "      <td>NaN</td>\n",
       "      <td>Ribosomal_S6; Ribosomal protein S6</td>\n",
       "    </tr>\n",
       "    <tr>\n",
       "      <th>29</th>\n",
       "      <td>PF08202</td>\n",
       "      <td>NaN</td>\n",
       "      <td>PUA_2; ATP-sulfurylase PUA-like domain</td>\n",
       "    </tr>\n",
       "    <tr>\n",
       "      <th>30</th>\n",
       "      <td>PF01221</td>\n",
       "      <td>NaN</td>\n",
       "      <td>DASH_Dad1; DASH complex subunit Dad1</td>\n",
       "    </tr>\n",
       "    <tr>\n",
       "      <th>31</th>\n",
       "      <td>PF06479</td>\n",
       "      <td>NaN</td>\n",
       "      <td>ORC5_C; Origin recognition complex, subunit 5</td>\n",
       "    </tr>\n",
       "    <tr>\n",
       "      <th>32</th>\n",
       "      <td>PF14938</td>\n",
       "      <td>NaN</td>\n",
       "      <td>Vac14_Fab1_bd; Vacuole morphology and inherita...</td>\n",
       "    </tr>\n",
       "    <tr>\n",
       "      <th>33</th>\n",
       "      <td>PF06428</td>\n",
       "      <td>NaN</td>\n",
       "      <td>OB_NTP_bind; Domain of unknown function DUF1605</td>\n",
       "    </tr>\n",
       "    <tr>\n",
       "      <th>34</th>\n",
       "      <td>PF12265</td>\n",
       "      <td>NaN</td>\n",
       "      <td>Sfi1_C; Spindle body associated protein, C-ter...</td>\n",
       "    </tr>\n",
       "    <tr>\n",
       "      <th>35</th>\n",
       "      <td>PF00929</td>\n",
       "      <td>NaN</td>\n",
       "      <td>CT_A_B; Carboxyltransferase domain, subdomain ...</td>\n",
       "    </tr>\n",
       "    <tr>\n",
       "      <th>36</th>\n",
       "      <td>PF00929</td>\n",
       "      <td>NaN</td>\n",
       "      <td>CT_A_B; Carboxyltransferase domain, subdomain ...</td>\n",
       "    </tr>\n",
       "    <tr>\n",
       "      <th>37</th>\n",
       "      <td>PF03031</td>\n",
       "      <td>NaN</td>\n",
       "      <td>Gcn1_N; Gcn1, N-terminal</td>\n",
       "    </tr>\n",
       "    <tr>\n",
       "      <th>38</th>\n",
       "      <td>PF03911</td>\n",
       "      <td>NaN</td>\n",
       "      <td>IBR; IBR domain</td>\n",
       "    </tr>\n",
       "    <tr>\n",
       "      <th>39</th>\n",
       "      <td>PF00838</td>\n",
       "      <td>NaN</td>\n",
       "      <td>CPSF73-100_C; Pre-mRNA 3&amp;apos;-end-processing ...</td>\n",
       "    </tr>\n",
       "    <tr>\n",
       "      <th>40</th>\n",
       "      <td>PF00838</td>\n",
       "      <td>NaN</td>\n",
       "      <td>CPSF73-100_C; Pre-mRNA 3&amp;apos;-end-processing ...</td>\n",
       "    </tr>\n",
       "    <tr>\n",
       "      <th>41</th>\n",
       "      <td>PF01201</td>\n",
       "      <td>NaN</td>\n",
       "      <td>Cytochrom_C; Cytochrome c-like domain</td>\n",
       "    </tr>\n",
       "    <tr>\n",
       "      <th>42</th>\n",
       "      <td>PF01103</td>\n",
       "      <td>NaN</td>\n",
       "      <td>Cnd3; Nuclear condensin complex subunit 3, C-t...</td>\n",
       "    </tr>\n",
       "    <tr>\n",
       "      <th>43</th>\n",
       "      <td>PF00579</td>\n",
       "      <td>NaN</td>\n",
       "      <td>BRCT; BRCT domain</td>\n",
       "    </tr>\n",
       "    <tr>\n",
       "      <th>44</th>\n",
       "      <td>PF00579</td>\n",
       "      <td>NaN</td>\n",
       "      <td>BRCT; BRCT domain</td>\n",
       "    </tr>\n",
       "    <tr>\n",
       "      <th>45</th>\n",
       "      <td>PF06333</td>\n",
       "      <td>NaN</td>\n",
       "      <td>Nsp1_C; Nucleoporin, NSP1-like, C-terminal</td>\n",
       "    </tr>\n",
       "    <tr>\n",
       "      <th>46</th>\n",
       "      <td>PF06333</td>\n",
       "      <td>NaN</td>\n",
       "      <td>Nsp1_C; Nucleoporin, NSP1-like, C-terminal</td>\n",
       "    </tr>\n",
       "    <tr>\n",
       "      <th>47</th>\n",
       "      <td>PF00462</td>\n",
       "      <td>NaN</td>\n",
       "      <td>Arb2; Arb2 domain</td>\n",
       "    </tr>\n",
       "    <tr>\n",
       "      <th>48</th>\n",
       "      <td>PF04084</td>\n",
       "      <td>NaN</td>\n",
       "      <td>Kelch_3</td>\n",
       "    </tr>\n",
       "    <tr>\n",
       "      <th>49</th>\n",
       "      <td>PF16965</td>\n",
       "      <td>NaN</td>\n",
       "      <td>tRNA_int_end_N2; tRNA-splicing endonuclease, s...</td>\n",
       "    </tr>\n",
       "    <tr>\n",
       "      <th>50</th>\n",
       "      <td>PF01261</td>\n",
       "      <td>NaN</td>\n",
       "      <td>DER1</td>\n",
       "    </tr>\n",
       "    <tr>\n",
       "      <th>51</th>\n",
       "      <td>PF06026</td>\n",
       "      <td>NaN</td>\n",
       "      <td>Nop14; Nucleolar protein 14</td>\n",
       "    </tr>\n",
       "    <tr>\n",
       "      <th>52</th>\n",
       "      <td>PF00186</td>\n",
       "      <td>NaN</td>\n",
       "      <td>ANAPC9; Anaphase-promoting complex, subunit 9</td>\n",
       "    </tr>\n",
       "    <tr>\n",
       "      <th>53</th>\n",
       "      <td>PF11781</td>\n",
       "      <td>NaN</td>\n",
       "      <td>SWC7</td>\n",
       "    </tr>\n",
       "    <tr>\n",
       "      <th>54</th>\n",
       "      <td>PF11781</td>\n",
       "      <td>NaN</td>\n",
       "      <td>SWC7</td>\n",
       "    </tr>\n",
       "    <tr>\n",
       "      <th>55</th>\n",
       "      <td>PF00378</td>\n",
       "      <td>NaN</td>\n",
       "      <td>Aldedh; Aldehyde dehydrogenase domain</td>\n",
       "    </tr>\n",
       "    <tr>\n",
       "      <th>56</th>\n",
       "      <td>PF05162</td>\n",
       "      <td>NaN</td>\n",
       "      <td>Mmp37; Phosphatidate cytidylyltransferase, mit...</td>\n",
       "    </tr>\n",
       "    <tr>\n",
       "      <th>57</th>\n",
       "      <td>PF08657</td>\n",
       "      <td>NaN</td>\n",
       "      <td>RNA_pol_Rpb1_6; RNA polymerase Rpb1, domain 6</td>\n",
       "    </tr>\n",
       "    <tr>\n",
       "      <th>58</th>\n",
       "      <td>PF12352</td>\n",
       "      <td>NaN</td>\n",
       "      <td>Skp1_POZ; SKP1 component, POZ domain</td>\n",
       "    </tr>\n",
       "    <tr>\n",
       "      <th>59</th>\n",
       "      <td>PF02146</td>\n",
       "      <td>NaN</td>\n",
       "      <td>ETF; Electron transfer flavoprotein, alpha/bet...</td>\n",
       "    </tr>\n",
       "  </tbody>\n",
       "</table>\n",
       "</div>"
      ],
      "text/plain": [
       "   domain-name domain-description_x  \\\n",
       "1      PF00610                  NaN   \n",
       "2      PF00136                  NaN   \n",
       "3      PF02666                  NaN   \n",
       "4      PF08731                  NaN   \n",
       "5      PF02463                  NaN   \n",
       "6      PF01151                  NaN   \n",
       "7      PF13202                  NaN   \n",
       "8      PF12717                  NaN   \n",
       "9      PF03874                  NaN   \n",
       "10     PF00957                  NaN   \n",
       "11     PF03853                  NaN   \n",
       "12     PF00170                  NaN   \n",
       "13     PF07926                  NaN   \n",
       "14     PF00464                  NaN   \n",
       "15     PF08312                  NaN   \n",
       "16     PF03587                  NaN   \n",
       "17     PF01504                  NaN   \n",
       "18     PF01504                  NaN   \n",
       "19     PF00999                  NaN   \n",
       "20     PF00118                  NaN   \n",
       "21     PF05764                  NaN   \n",
       "22     PF01145                  NaN   \n",
       "23     PF03800                  NaN   \n",
       "24     PF02996                  NaN   \n",
       "25     PF00828                  NaN   \n",
       "26     PF03650                  NaN   \n",
       "27     PF10310                  NaN   \n",
       "28     PF10310                  NaN   \n",
       "29     PF08202                  NaN   \n",
       "30     PF01221                  NaN   \n",
       "31     PF06479                  NaN   \n",
       "32     PF14938                  NaN   \n",
       "33     PF06428                  NaN   \n",
       "34     PF12265                  NaN   \n",
       "35     PF00929                  NaN   \n",
       "36     PF00929                  NaN   \n",
       "37     PF03031                  NaN   \n",
       "38     PF03911                  NaN   \n",
       "39     PF00838                  NaN   \n",
       "40     PF00838                  NaN   \n",
       "41     PF01201                  NaN   \n",
       "42     PF01103                  NaN   \n",
       "43     PF00579                  NaN   \n",
       "44     PF00579                  NaN   \n",
       "45     PF06333                  NaN   \n",
       "46     PF06333                  NaN   \n",
       "47     PF00462                  NaN   \n",
       "48     PF04084                  NaN   \n",
       "49     PF16965                  NaN   \n",
       "50     PF01261                  NaN   \n",
       "51     PF06026                  NaN   \n",
       "52     PF00186                  NaN   \n",
       "53     PF11781                  NaN   \n",
       "54     PF11781                  NaN   \n",
       "55     PF00378                  NaN   \n",
       "56     PF05162                  NaN   \n",
       "57     PF08657                  NaN   \n",
       "58     PF12352                  NaN   \n",
       "59     PF02146                  NaN   \n",
       "\n",
       "                                 domain-description_y  \n",
       "1                                 Beach; BEACH domain  \n",
       "2   AHSA1; Activator of Hsp90 ATPase homologue 1-like  \n",
       "3                                           Flocculin  \n",
       "4   RNase_PH_C; Exoribonuclease, phosphorolytic do...  \n",
       "5                          FSH1; Serine hydrolase FSH  \n",
       "6                      Cpn10; GroES chaperonin family  \n",
       "7                           TIP41; TIP41-like protein  \n",
       "8                          Stb3; Sin3 binding protein  \n",
       "9           Hydantoinase_A; Hydantoinase/oxoprolinase  \n",
       "10  Candida_ALS_N; Agglutinin-like protein, N-term...  \n",
       "11                        Hph; High pH protein family  \n",
       "12  AMP-binding_C; AMP-binding enzyme, C-terminal ...  \n",
       "13  PIP5K; Phosphatidylinositol-4-phosphate 5-kina...  \n",
       "14              ArfGap; Arf GTPase activating protein  \n",
       "15  Peptidase_M24_C; Peptidase M24, C-terminal domain  \n",
       "16            HRXXH; Putative peptidase domain, HRXXH  \n",
       "17        DUF1720; Domain of unknown function DUF1720  \n",
       "18        DUF1720; Domain of unknown function DUF1720  \n",
       "19                                               Cbp4  \n",
       "20                       AD; Anticodon-binding domain  \n",
       "21                NPR3; Nitrogen permease regulator 3  \n",
       "22         Coq4; Ubiquinone biosynthesis protein Coq4  \n",
       "23    HisG_C; Histidine biosynthesis HisG, C-terminal  \n",
       "24  Gal_mutarotas_2; Glycoside hydrolase family 31...  \n",
       "25           COX6A; Cytochrome c oxidase, subunit VIa  \n",
       "26  Hap4_Hap_bind; Hap4 transcription factor, hete...  \n",
       "27                 Ribosomal_S6; Ribosomal protein S6  \n",
       "28                 Ribosomal_S6; Ribosomal protein S6  \n",
       "29             PUA_2; ATP-sulfurylase PUA-like domain  \n",
       "30               DASH_Dad1; DASH complex subunit Dad1  \n",
       "31      ORC5_C; Origin recognition complex, subunit 5  \n",
       "32  Vac14_Fab1_bd; Vacuole morphology and inherita...  \n",
       "33    OB_NTP_bind; Domain of unknown function DUF1605  \n",
       "34  Sfi1_C; Spindle body associated protein, C-ter...  \n",
       "35  CT_A_B; Carboxyltransferase domain, subdomain ...  \n",
       "36  CT_A_B; Carboxyltransferase domain, subdomain ...  \n",
       "37                           Gcn1_N; Gcn1, N-terminal  \n",
       "38                                    IBR; IBR domain  \n",
       "39  CPSF73-100_C; Pre-mRNA 3&apos;-end-processing ...  \n",
       "40  CPSF73-100_C; Pre-mRNA 3&apos;-end-processing ...  \n",
       "41              Cytochrom_C; Cytochrome c-like domain  \n",
       "42  Cnd3; Nuclear condensin complex subunit 3, C-t...  \n",
       "43                                  BRCT; BRCT domain  \n",
       "44                                  BRCT; BRCT domain  \n",
       "45         Nsp1_C; Nucleoporin, NSP1-like, C-terminal  \n",
       "46         Nsp1_C; Nucleoporin, NSP1-like, C-terminal  \n",
       "47                                  Arb2; Arb2 domain  \n",
       "48                                            Kelch_3  \n",
       "49  tRNA_int_end_N2; tRNA-splicing endonuclease, s...  \n",
       "50                                               DER1  \n",
       "51                        Nop14; Nucleolar protein 14  \n",
       "52      ANAPC9; Anaphase-promoting complex, subunit 9  \n",
       "53                                               SWC7  \n",
       "54                                               SWC7  \n",
       "55              Aldedh; Aldehyde dehydrogenase domain  \n",
       "56  Mmp37; Phosphatidate cytidylyltransferase, mit...  \n",
       "57      RNA_pol_Rpb1_6; RNA polymerase Rpb1, domain 6  \n",
       "58               Skp1_POZ; SKP1 component, POZ domain  \n",
       "59  ETF; Electron transfer flavoprotein, alpha/bet...  "
      ]
     },
     "execution_count": 30,
     "metadata": {},
     "output_type": "execute_result"
    }
   ],
   "source": [
    "only_nsl_pd=pd.merge(repeated_features_sl,repeated_features_nsl,how='right',on=['domain-name'])\n",
    "data_only_nsl = only_nsl_pd[pd.isnull(only_nsl_pd['domain-description_x'])]\n",
    "data_only_nsl"
   ]
  },
  {
   "cell_type": "code",
   "execution_count": 31,
   "metadata": {
    "execution": {
     "iopub.execute_input": "2020-07-14T10:57:48.949517Z",
     "iopub.status.busy": "2020-07-14T10:57:48.948987Z",
     "iopub.status.idle": "2020-07-14T10:57:48.954074Z",
     "shell.execute_reply": "2020-07-14T10:57:48.953622Z"
    }
   },
   "outputs": [
    {
     "data": {
      "text/html": [
       "<div>\n",
       "<style scoped>\n",
       "    .dataframe tbody tr th:only-of-type {\n",
       "        vertical-align: middle;\n",
       "    }\n",
       "\n",
       "    .dataframe tbody tr th {\n",
       "        vertical-align: top;\n",
       "    }\n",
       "\n",
       "    .dataframe thead th {\n",
       "        text-align: right;\n",
       "    }\n",
       "</style>\n",
       "<table border=\"1\" class=\"dataframe\">\n",
       "  <thead>\n",
       "    <tr style=\"text-align: right;\">\n",
       "      <th></th>\n",
       "      <th>domain-name</th>\n",
       "      <th>domain-description_x</th>\n",
       "      <th>domain-description_y</th>\n",
       "    </tr>\n",
       "  </thead>\n",
       "  <tbody>\n",
       "    <tr>\n",
       "      <th>0</th>\n",
       "      <td>PF08574</td>\n",
       "      <td>Pterin_4a; Transcriptional coactivator/pterin ...</td>\n",
       "      <td>Pterin_4a; Transcriptional coactivator/pterin ...</td>\n",
       "    </tr>\n",
       "  </tbody>\n",
       "</table>\n",
       "</div>"
      ],
      "text/plain": [
       "  domain-name                               domain-description_x  \\\n",
       "0     PF08574  Pterin_4a; Transcriptional coactivator/pterin ...   \n",
       "\n",
       "                                domain-description_y  \n",
       "0  Pterin_4a; Transcriptional coactivator/pterin ...  "
      ]
     },
     "execution_count": 31,
     "metadata": {},
     "output_type": "execute_result"
    }
   ],
   "source": [
    "shared_domains_pd=pd.merge(repeated_features_sl,repeated_features_nsl,how='inner',on=['domain-name'])\n",
    "shared_domains_pd\n"
   ]
  },
  {
   "cell_type": "code",
   "execution_count": 32,
   "metadata": {
    "execution": {
     "iopub.execute_input": "2020-07-14T10:57:48.964486Z",
     "iopub.status.busy": "2020-07-14T10:57:48.964001Z",
     "iopub.status.idle": "2020-07-14T10:57:50.158747Z",
     "shell.execute_reply": "2020-07-14T10:57:50.158272Z"
    }
   },
   "outputs": [
    {
     "data": {
      "text/plain": [
       "(0.0, 0.2)"
      ]
     },
     "execution_count": 32,
     "metadata": {},
     "output_type": "execute_result"
    },
    {
     "data": {
      "image/png": "[encoded data removed]",
      "text/plain": [
       "<Figure size 432x288 with 1 Axes>"
      ]
     },
     "metadata": {
      "filenames": {
       "image/png": "/home/runner/work/jupyter-book/jupyter-book/mini_book/docs/_build/jupyter_execute/prot_domains2lethality-FEATURES-POSTPROCESSING_47_1.png"
      },
      "needs_background": "light"
     },
     "output_type": "display_data"
    }
   ],
   "source": [
    "a_sl=x_sl.iloc[:,np.sort(df_sl.iloc[:,1])]\n",
    "a_sl.describe().loc['mean'].hist(bins=8),\n",
    "a_sl.describe().loc['std'].hist(bins=8,alpha=0.4)\n",
    "plt.xlim([0,0.2])"
   ]
  },
  {
   "cell_type": "code",
   "execution_count": 33,
   "metadata": {
    "execution": {
     "iopub.execute_input": "2020-07-14T10:57:50.166779Z",
     "iopub.status.busy": "2020-07-14T10:57:50.165936Z",
     "iopub.status.idle": "2020-07-14T10:57:51.456615Z",
     "shell.execute_reply": "2020-07-14T10:57:51.456223Z"
    }
   },
   "outputs": [
    {
     "data": {
      "text/plain": [
       "(0.0, 0.2)"
      ]
     },
     "execution_count": 33,
     "metadata": {},
     "output_type": "execute_result"
    },
    {
     "data": {
      "image/png": "[encoded data removed]",
      "text/plain": [
       "<Figure size 432x288 with 1 Axes>"
      ]
     },
     "metadata": {
      "filenames": {
       "image/png": "/home/runner/work/jupyter-book/jupyter-book/mini_book/docs/_build/jupyter_execute/prot_domains2lethality-FEATURES-POSTPROCESSING_48_1.png"
      },
      "needs_background": "light"
     },
     "output_type": "display_data"
    }
   ],
   "source": [
    "a_nsl=x_nsl.iloc[:,np.sort(df_nsl.iloc[:,1])]\n",
    "a_nsl.describe().loc['mean'].hist(bins=8),\n",
    "a_nsl.describe().loc['std'].hist(bins=8,alpha=0.4)\n",
    "plt.xlim([0,0.2])"
   ]
  },
  {
   "cell_type": "markdown",
   "metadata": {},
   "source": [
    "### Proof of concept with *BEM1*\n",
    "\n",
    "- Gather the domains of SL and nSL pairs from BEM1\n",
    "- Check if the domains for the SL and nSL pairs are inside the most important domains after PCA."
   ]
  },
  {
   "cell_type": "code",
   "execution_count": 34,
   "metadata": {
    "execution": {
     "iopub.execute_input": "2020-07-14T10:57:51.463666Z",
     "iopub.status.busy": "2020-07-14T10:57:51.462937Z",
     "iopub.status.idle": "2020-07-14T10:57:51.466439Z",
     "shell.execute_reply": "2020-07-14T10:57:51.466799Z"
    }
   },
   "outputs": [],
   "source": [
    "domains_bem1=data_domains[data_domains['name']=='BEM1']['domain-descrip']\n",
    "sl_bem1=data_sl[data_sl['gene-query-name']=='BEM1']['gene-target-name']"
   ]
  },
  {
   "cell_type": "code",
   "execution_count": 35,
   "metadata": {
    "execution": {
     "iopub.execute_input": "2020-07-14T10:57:51.470394Z",
     "iopub.status.busy": "2020-07-14T10:57:51.469990Z",
     "iopub.status.idle": "2020-07-14T10:57:51.474545Z",
     "shell.execute_reply": "2020-07-14T10:57:51.474127Z"
    }
   },
   "outputs": [
    {
     "data": {
      "text/plain": [
       "2846      BEM2\n",
       "2847     CDC24\n",
       "5004      MSB1\n",
       "13777     SMI1\n",
       "13778     BNI1\n",
       "13779     BEM2\n",
       "14385     SKN7\n",
       "Name: gene-target-name, dtype: object"
      ]
     },
     "execution_count": 35,
     "metadata": {},
     "output_type": "execute_result"
    }
   ],
   "source": [
    "sl_bem1"
   ]
  },
  {
   "cell_type": "code",
   "execution_count": 36,
   "metadata": {
    "execution": {
     "iopub.execute_input": "2020-07-14T10:57:51.485074Z",
     "iopub.status.busy": "2020-07-14T10:57:51.478392Z",
     "iopub.status.idle": "2020-07-14T10:57:51.489170Z",
     "shell.execute_reply": "2020-07-14T10:57:51.488726Z"
    }
   },
   "outputs": [
    {
     "data": {
      "text/html": [
       "<div>\n",
       "<style scoped>\n",
       "    .dataframe tbody tr th:only-of-type {\n",
       "        vertical-align: middle;\n",
       "    }\n",
       "\n",
       "    .dataframe tbody tr th {\n",
       "        vertical-align: top;\n",
       "    }\n",
       "\n",
       "    .dataframe thead th {\n",
       "        text-align: right;\n",
       "    }\n",
       "</style>\n",
       "<table border=\"1\" class=\"dataframe\">\n",
       "  <thead>\n",
       "    <tr style=\"text-align: right;\">\n",
       "      <th></th>\n",
       "      <th>gene-query</th>\n",
       "      <th>gene-target</th>\n",
       "      <th>gene-query-name</th>\n",
       "      <th>gene-target-name</th>\n",
       "      <th>gene-query-description</th>\n",
       "      <th>gene-target-description</th>\n",
       "      <th>interaction-type</th>\n",
       "      <th>paper-source</th>\n",
       "    </tr>\n",
       "  </thead>\n",
       "  <tbody>\n",
       "    <tr>\n",
       "      <th>2846</th>\n",
       "      <td>YBR200W</td>\n",
       "      <td>YER155C</td>\n",
       "      <td>BEM1</td>\n",
       "      <td>BEM2</td>\n",
       "      <td>SRO1|phosphatidylinositol-3-phosphate-binding ...</td>\n",
       "      <td>IPL2|SUP9|TSL1|L000000168</td>\n",
       "      <td>Synthetic Lethality</td>\n",
       "      <td>Peterson J (1994)</td>\n",
       "    </tr>\n",
       "    <tr>\n",
       "      <th>2847</th>\n",
       "      <td>YBR200W</td>\n",
       "      <td>YAL041W</td>\n",
       "      <td>BEM1</td>\n",
       "      <td>CDC24</td>\n",
       "      <td>SRO1|phosphatidylinositol-3-phosphate-binding ...</td>\n",
       "      <td>CLS4|Rho family guanine nucleotide exchange fa...</td>\n",
       "      <td>Synthetic Lethality</td>\n",
       "      <td>Peterson J (1994)</td>\n",
       "    </tr>\n",
       "    <tr>\n",
       "      <th>5004</th>\n",
       "      <td>YBR200W</td>\n",
       "      <td>YOR188W</td>\n",
       "      <td>BEM1</td>\n",
       "      <td>MSB1</td>\n",
       "      <td>SRO1|phosphatidylinositol-3-phosphate-binding ...</td>\n",
       "      <td>L000001184</td>\n",
       "      <td>Synthetic Lethality</td>\n",
       "      <td>Bender A (1991)</td>\n",
       "    </tr>\n",
       "    <tr>\n",
       "      <th>13777</th>\n",
       "      <td>YBR200W</td>\n",
       "      <td>YGR229C</td>\n",
       "      <td>BEM1</td>\n",
       "      <td>SMI1</td>\n",
       "      <td>SRO1|phosphatidylinositol-3-phosphate-binding ...</td>\n",
       "      <td>KNR4|L000000909</td>\n",
       "      <td>Synthetic Lethality</td>\n",
       "      <td>Gorelik M (2011)</td>\n",
       "    </tr>\n",
       "    <tr>\n",
       "      <th>13778</th>\n",
       "      <td>YBR200W</td>\n",
       "      <td>YNL271C</td>\n",
       "      <td>BEM1</td>\n",
       "      <td>BNI1</td>\n",
       "      <td>SRO1|phosphatidylinositol-3-phosphate-binding ...</td>\n",
       "      <td>PPF3|SHE5|formin BNI1|L000000190</td>\n",
       "      <td>Synthetic Lethality</td>\n",
       "      <td>Gorelik M (2011)</td>\n",
       "    </tr>\n",
       "    <tr>\n",
       "      <th>13779</th>\n",
       "      <td>YBR200W</td>\n",
       "      <td>YER155C</td>\n",
       "      <td>BEM1</td>\n",
       "      <td>BEM2</td>\n",
       "      <td>SRO1|phosphatidylinositol-3-phosphate-binding ...</td>\n",
       "      <td>IPL2|SUP9|TSL1|L000000168</td>\n",
       "      <td>Synthetic Lethality</td>\n",
       "      <td>Gorelik M (2011)</td>\n",
       "    </tr>\n",
       "    <tr>\n",
       "      <th>14385</th>\n",
       "      <td>YBR200W</td>\n",
       "      <td>YHR206W</td>\n",
       "      <td>BEM1</td>\n",
       "      <td>SKN7</td>\n",
       "      <td>SRO1|phosphatidylinositol-3-phosphate-binding ...</td>\n",
       "      <td>BRY1|POS9|kinase-regulated stress-responsive t...</td>\n",
       "      <td>Dosage Lethality</td>\n",
       "      <td>Bouquin N (1999)</td>\n",
       "    </tr>\n",
       "  </tbody>\n",
       "</table>\n",
       "</div>"
      ],
      "text/plain": [
       "      gene-query gene-target gene-query-name gene-target-name  \\\n",
       "2846     YBR200W     YER155C            BEM1             BEM2   \n",
       "2847     YBR200W     YAL041W            BEM1            CDC24   \n",
       "5004     YBR200W     YOR188W            BEM1             MSB1   \n",
       "13777    YBR200W     YGR229C            BEM1             SMI1   \n",
       "13778    YBR200W     YNL271C            BEM1             BNI1   \n",
       "13779    YBR200W     YER155C            BEM1             BEM2   \n",
       "14385    YBR200W     YHR206W            BEM1             SKN7   \n",
       "\n",
       "                                  gene-query-description  \\\n",
       "2846   SRO1|phosphatidylinositol-3-phosphate-binding ...   \n",
       "2847   SRO1|phosphatidylinositol-3-phosphate-binding ...   \n",
       "5004   SRO1|phosphatidylinositol-3-phosphate-binding ...   \n",
       "13777  SRO1|phosphatidylinositol-3-phosphate-binding ...   \n",
       "13778  SRO1|phosphatidylinositol-3-phosphate-binding ...   \n",
       "13779  SRO1|phosphatidylinositol-3-phosphate-binding ...   \n",
       "14385  SRO1|phosphatidylinositol-3-phosphate-binding ...   \n",
       "\n",
       "                                 gene-target-description     interaction-type  \\\n",
       "2846                           IPL2|SUP9|TSL1|L000000168  Synthetic Lethality   \n",
       "2847   CLS4|Rho family guanine nucleotide exchange fa...  Synthetic Lethality   \n",
       "5004                                          L000001184  Synthetic Lethality   \n",
       "13777                                    KNR4|L000000909  Synthetic Lethality   \n",
       "13778                   PPF3|SHE5|formin BNI1|L000000190  Synthetic Lethality   \n",
       "13779                          IPL2|SUP9|TSL1|L000000168  Synthetic Lethality   \n",
       "14385  BRY1|POS9|kinase-regulated stress-responsive t...     Dosage Lethality   \n",
       "\n",
       "            paper-source  \n",
       "2846   Peterson J (1994)  \n",
       "2847   Peterson J (1994)  \n",
       "5004     Bender A (1991)  \n",
       "13777   Gorelik M (2011)  \n",
       "13778   Gorelik M (2011)  \n",
       "13779   Gorelik M (2011)  \n",
       "14385   Bouquin N (1999)  "
      ]
     },
     "execution_count": 36,
     "metadata": {},
     "output_type": "execute_result"
    }
   ],
   "source": [
    "data_sl[data_sl['gene-query-name']=='BEM1']"
   ]
  },
  {
   "cell_type": "code",
   "execution_count": null,
   "metadata": {},
   "outputs": [],
   "source": []
  }
 ],
 "metadata": {
  "jupytext": {
   "text_representation": {
    "extension": ".md",
    "format_name": "myst"
   }
  },
  "kernelspec": {
   "display_name": "Python 3",
   "language": "python",
   "name": "python3"
  },
  "language_info": {
   "codemirror_mode": {
    "name": "ipython",
    "version": 3
   },
   "file_extension": ".py",
   "mimetype": "text/x-python",
   "name": "python",
   "nbconvert_exporter": "python",
   "pygments_lexer": "ipython3",
   "version": "3.7.6"
  },
  "source_map": [
   10,
   18,
   29,
   36,
   57,
   66,
   98,
   101,
   105,
   128,
   131,
   135,
   139,
   145,
   178,
   184,
   188,
   206,
   210,
   218,
   222,
   225,
   229,
   234,
   238,
   244,
   248,
   253,
   257,
   267,
   269,
   273,
   306,
   311,
   313,
   317,
   328,
   330,
   334,
   344,
   348,
   358,
   360,
   364,
   381,
   388,
   394,
   400,
   407,
   412,
   419,
   424,
   428,
   432
  ]
 },
 "nbformat": 4,
 "nbformat_minor": 4
}