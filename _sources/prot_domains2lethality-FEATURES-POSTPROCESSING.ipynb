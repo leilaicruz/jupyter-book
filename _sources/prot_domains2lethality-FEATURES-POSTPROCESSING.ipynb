{
 "cells": [
  {
   "cell_type": "markdown",
   "metadata": {},
   "source": [
    "# Feature postprocessing from paper.\n",
    "- Title:  \"Predicting yeast synthetic lethal genetic interactions using protein domains\"\n",
    "- Authors: Bo Li, Feng Luo,School of Computing,Clemson University,Clemson, SC, USA\n",
    "- e-mail: bol, luofeng@clemson.edu\n",
    "- year:2009"
   ]
  },
  {
   "cell_type": "code",
   "execution_count": 1,
   "metadata": {
    "execution": {
     "iopub.execute_input": "2020-07-17T16:26:36.655291Z",
     "iopub.status.busy": "2020-07-17T16:26:36.654640Z",
     "iopub.status.idle": "2020-07-17T16:26:37.366608Z",
     "shell.execute_reply": "2020-07-17T16:26:37.366129Z"
    }
   },
   "outputs": [],
   "source": [
    "import pandas as pd\n",
    "import numpy as np\n",
    "import matplotlib.pyplot as plt\n",
    "from collections import defaultdict \n",
    "import seaborn as sns\n",
    "import matplotlib.cm as cm\n",
    "import scipy as scipy\n",
    "import random"
   ]
  },
  {
   "cell_type": "markdown",
   "metadata": {
    "jupyter": {
     "source_hidden": true
    }
   },
   "source": [
    "### Importing datasets \n",
    "\n",
    "#### Link to the github repo where the datasets to be downloaded:\n",
    "[DOWNLOAD THE DATASETS HERE](https://github.com/leilaicruz/machine-learning-for-yeast/tree/dev_Leila/datasets-for-learning)"
   ]
  },
  {
   "cell_type": "code",
   "execution_count": 2,
   "metadata": {
    "execution": {
     "iopub.execute_input": "2020-07-17T16:26:37.373183Z",
     "iopub.status.busy": "2020-07-17T16:26:37.372306Z",
     "iopub.status.idle": "2020-07-17T16:26:44.639279Z",
     "shell.execute_reply": "2020-07-17T16:26:44.640022Z"
    }
   },
   "outputs": [],
   "source": [
    "import os\n",
    "script_dir = os.path.dirname('__file__') #<-- absolute dir the script is in\n",
    "rel_path_SL = \"datasets/data-synthetic-lethals.xlsx\"\n",
    "rel_path_nSL=\"datasets/data-positive-genetic.xlsx\"\n",
    "rel_path_domains=\"datasets/proteins-domains-from-Pfam.xlsx\"\n",
    "\n",
    "abs_file_path_SL = os.path.join(script_dir, rel_path_SL)\n",
    "abs_file_path_nSL = os.path.join(script_dir, rel_path_nSL)\n",
    "abs_file_path_domains = os.path.join(script_dir, rel_path_domains)\n",
    "\n",
    "# os.chdir('mini_book/docs/') #<-- for binder os.chdir('../')\n",
    "# os.chdir('../')\n",
    "my_path_sl= abs_file_path_SL\n",
    "my_path_non_sl=abs_file_path_nSL\n",
    "my_path_domains=abs_file_path_domains\n",
    "\n",
    "data_sl=pd.read_excel(my_path_sl,header=0)\n",
    "data_domains=pd.read_excel(my_path_domains,header=0,index_col='Unnamed: 0')\n",
    "data_domains=data_domains.dropna()\n",
    "data_nonsl=pd.read_excel(my_path_non_sl,header=0)"
   ]
  },
  {
   "cell_type": "markdown",
   "metadata": {},
   "source": [
    "## Building the feature matrix\n",
    "One matrix for true SL where each row is one pair of SL. Every raw will be a vector of 0,1 or 2 depending on the comparison with the domain list. For row i the jth element = 0 if the jth element of the domain list is not in neither protein A and B, 1, if it is in one of them and 2 if it is in both of them .\n",
    "\n",
    "### Building the list of proteins domains id per protein pair separately :\n",
    "- List of protein A: Search for the Sl/nSL database the query gene name and look in the protein domain database which protein domains id has each of those queries.\n",
    "- List of protein B: Search for the Sl/nSL database the target gene name of the previous query and look in the protein domain database which protein domains id has each of those target genes."
   ]
  },
  {
   "cell_type": "code",
   "execution_count": 3,
   "metadata": {
    "execution": {
     "iopub.execute_input": "2020-07-17T16:26:44.653645Z",
     "iopub.status.busy": "2020-07-17T16:26:44.647582Z",
     "iopub.status.idle": "2020-07-17T16:26:46.557678Z",
     "shell.execute_reply": "2020-07-17T16:26:46.557209Z"
    }
   },
   "outputs": [],
   "source": [
    "# Selecting the meaningful columns in the respective dataset\n",
    "domain_id_list=data_domains['domain-name']\n",
    "query_gene=data_sl['gene-query-name']\n",
    "target_gene=data_sl['gene-target-name']\n",
    "query_gene_nonlethal=data_nonsl['gene-query-name']\n",
    "target_gene_nonlethal=data_nonsl['gene-target-name']\n",
    "\n",
    "\n",
    "\n",
    "# Initialising the arrays\n",
    "protein_a_list=[]\n",
    "protein_b_list=[]\n",
    "protein_a_list_non=[]\n",
    "protein_b_list_non=[]\n",
    "\n",
    "population = np.arange(0,len(data_sl))\n",
    "\n",
    "# For loop for 10000 pairs sampled randomly from the SL/nSl pair list , and creating a big array of proteind domains id per protein pair\n",
    "\n",
    "for m in random.sample(list(population), 500):\n",
    "    protein_a=data_domains[data_domains['name']==query_gene[m]]\n",
    "    protein_b=data_domains[data_domains['name']==target_gene[m]]\n",
    "    protein_a_list.append(protein_a['domain-name'].tolist())\n",
    "    protein_b_list.append(protein_b['domain-name'].tolist())\n",
    "\n",
    "    protein_a_non=data_domains[data_domains['name']==query_gene_nonlethal[m]]\n",
    "    protein_b_non=data_domains[data_domains['name']==target_gene_nonlethal[m]]\n",
    "    protein_a_list_non.append(protein_a_non['domain-name'].tolist())\n",
    "    protein_b_list_non.append(protein_b_non['domain-name'].tolist())"
   ]
  },
  {
   "cell_type": "code",
   "execution_count": 4,
   "metadata": {
    "execution": {
     "iopub.execute_input": "2020-07-17T16:26:46.564254Z",
     "iopub.status.busy": "2020-07-17T16:26:46.563588Z",
     "iopub.status.idle": "2020-07-17T16:26:46.566283Z",
     "shell.execute_reply": "2020-07-17T16:26:46.564921Z"
    }
   },
   "outputs": [
    {
     "name": "stdout",
     "output_type": "stream",
     "text": [
      "We are going to analyze 500 protein pairs, out of 17871 SL protein pairs\n",
      "We are going to analyze 500 protein pairs, out of 43340 positive protein pairs\n"
     ]
    }
   ],
   "source": [
    "print('We are going to analyze',len((protein_a_list)) ,'protein pairs, out of',len(data_sl),'SL protein pairs')\n",
    "print('We are going to analyze',len((protein_a_list_non)) ,'protein pairs, out of',len(data_nonsl),'positive protein pairs')"
   ]
  },
  {
   "cell_type": "markdown",
   "metadata": {},
   "source": [
    "### Postprocessing #1:  Remove protein pairs from study if either protein in the pair does not contain any domain"
   ]
  },
  {
   "cell_type": "code",
   "execution_count": 5,
   "metadata": {
    "execution": {
     "iopub.execute_input": "2020-07-17T16:26:46.576264Z",
     "iopub.status.busy": "2020-07-17T16:26:46.575336Z",
     "iopub.status.idle": "2020-07-17T16:26:46.577134Z",
     "shell.execute_reply": "2020-07-17T16:26:46.577553Z"
    }
   },
   "outputs": [],
   "source": [
    "def remove_empty_domains(protein_list_search,protein_list_pair):\n",
    "    index=[]\n",
    "    for i in np.arange(0,len(protein_list_search)):\n",
    "        if protein_list_search[i]==[] or protein_list_pair[i]==[]:\n",
    "            index.append(i) ## index of empty values for the protein_a_list meaning they dont have any annotated domain\n",
    "\n",
    "    y=[x for x in np.arange(0,len(protein_list_search)) if x not in index] # a list with non empty values from protein_a list\n",
    "\n",
    "    protein_list_search_new=[]\n",
    "    protein_list_pair_new=[]\n",
    "    for i in y:\n",
    "        protein_list_search_new.append(protein_list_search[i])\n",
    "        protein_list_pair_new.append(protein_list_pair[i])\n",
    "    return protein_list_search_new,protein_list_pair_new\n",
    "\n",
    "## evaluating the function\n",
    "\n",
    "protein_a_list_new,protein_b_list_new=remove_empty_domains(protein_a_list,protein_b_list)\n",
    "\n",
    "protein_a_list_non_new,protein_b_list_non_new=remove_empty_domains(protein_a_list_non,protein_b_list_non)"
   ]
  },
  {
   "cell_type": "code",
   "execution_count": 6,
   "metadata": {
    "execution": {
     "iopub.execute_input": "2020-07-17T16:26:46.583140Z",
     "iopub.status.busy": "2020-07-17T16:26:46.582386Z",
     "iopub.status.idle": "2020-07-17T16:26:46.584445Z",
     "shell.execute_reply": "2020-07-17T16:26:46.583535Z"
    }
   },
   "outputs": [
    {
     "name": "stdout",
     "output_type": "stream",
     "text": [
      "The empty domain in the SL were: 93 out of 500 domains\n",
      "The empty domain in the nSL were: 94 out of 500 domains\n"
     ]
    }
   ],
   "source": [
    "print('The empty domain in the SL were:', len(protein_a_list)-len(protein_a_list_new), 'out of', len(protein_a_list),'domains')\n",
    "print('The empty domain in the nSL were:', len(protein_a_list_non)-len(protein_a_list_non_new), 'out of', len(protein_a_list_non),'domains')"
   ]
  },
  {
   "cell_type": "markdown",
   "metadata": {},
   "source": [
    "### Feature engineering: Select from each ordered indexes of domain id list which of them appear once, in both or in any of the domains of each protein pair"
   ]
  },
  {
   "cell_type": "markdown",
   "metadata": {},
   "source": [
    "#### Define function `get_indexes`"
   ]
  },
  {
   "cell_type": "code",
   "execution_count": 7,
   "metadata": {
    "execution": {
     "iopub.execute_input": "2020-07-17T16:26:46.590448Z",
     "iopub.status.busy": "2020-07-17T16:26:46.589952Z",
     "iopub.status.idle": "2020-07-17T16:26:46.592374Z",
     "shell.execute_reply": "2020-07-17T16:26:46.592782Z"
    }
   },
   "outputs": [
    {
     "data": {
      "text/plain": [
       "[1, 2]"
      ]
     },
     "execution_count": 7,
     "metadata": {},
     "output_type": "execute_result"
    }
   ],
   "source": [
    "get_indexes = lambda x, xs: [i for (y, i) in zip(xs, range(len(xs))) if x == y] # a function that give the index of whether a value appear in array or not\n",
    "a=[1,2,2,4,5,6,7,8,9,10]\n",
    "get_indexes(2,a)"
   ]
  },
  {
   "cell_type": "code",
   "execution_count": 8,
   "metadata": {
    "execution": {
     "iopub.execute_input": "2020-07-17T16:26:46.600720Z",
     "iopub.status.busy": "2020-07-17T16:26:46.600226Z",
     "iopub.status.idle": "2020-07-17T16:26:46.602459Z",
     "shell.execute_reply": "2020-07-17T16:26:46.602057Z"
    }
   },
   "outputs": [],
   "source": [
    "def feature_building(protein_a_list_new,protein_b_list_new):\n",
    "    x = np.unique(domain_id_list)\n",
    "    ## To avoid taking repeated domains from one protein of the pairs , lets reduced the domains of each protein from the pairs to their unique members\n",
    "    protein_a_list_unique=[]\n",
    "    protein_b_list_unique=[]\n",
    "    for i in np.arange(0,len(protein_a_list_new)):\n",
    "        protein_a_list_unique.append(np.unique(protein_a_list_new[i]))\n",
    "        protein_b_list_unique.append(np.unique(protein_b_list_new[i]))\n",
    "        \n",
    "    protein_feat_true=np.zeros(shape=(len(x),len(protein_a_list_unique)))\n",
    "    pair_a_b_array=[]\n",
    "    for i in np.arange(0,len(protein_a_list_unique)):\n",
    "        index_a=[]\n",
    "        \n",
    "        pair=[protein_a_list_unique[i],protein_b_list_unique[i]]\n",
    "        pair_a_b=np.concatenate(pair).ravel()\n",
    "        pair_a_b_array.append(pair_a_b)\n",
    "\n",
    "    j=0\n",
    "    for i in pair_a_b_array:  \n",
    "        array,index,counts=np.unique(i,return_index=True,return_counts=True)\n",
    "        \n",
    "        for k,m in zip(counts,array):\n",
    "            if k ==2:\n",
    "                protein_feat_true[get_indexes(m,x),j]=2\n",
    "                \n",
    "            if k==1:\n",
    "                protein_feat_true[get_indexes(m,x),j]=1\n",
    "        j=j+1\n",
    "    return protein_feat_true"
   ]
  },
  {
   "cell_type": "code",
   "execution_count": 9,
   "metadata": {
    "execution": {
     "iopub.execute_input": "2020-07-17T16:26:46.610427Z",
     "iopub.status.busy": "2020-07-17T16:26:46.609997Z",
     "iopub.status.idle": "2020-07-17T16:26:47.170452Z",
     "shell.execute_reply": "2020-07-17T16:26:47.169860Z"
    }
   },
   "outputs": [],
   "source": [
    "protein_feat_true=feature_building(protein_b_list_new=protein_b_list_new,protein_a_list_new=protein_a_list_new)\n",
    "protein_feat_true_pd=pd.DataFrame(protein_feat_true.T)\n",
    "\n",
    "protein_feat_non_true=feature_building(protein_b_list_new=protein_b_list_non_new,protein_a_list_new=protein_a_list_non_new)\n",
    "protein_feat_non_true_pd=pd.DataFrame(protein_feat_non_true.T)"
   ]
  },
  {
   "cell_type": "markdown",
   "metadata": {},
   "source": [
    "### How many ones and twos are in each dataset"
   ]
  },
  {
   "cell_type": "code",
   "execution_count": 10,
   "metadata": {
    "execution": {
     "iopub.execute_input": "2020-07-17T16:26:47.177527Z",
     "iopub.status.busy": "2020-07-17T16:26:47.177019Z",
     "iopub.status.idle": "2020-07-17T16:26:47.266822Z",
     "shell.execute_reply": "2020-07-17T16:26:47.267644Z"
    }
   },
   "outputs": [
    {
     "name": "stdout",
     "output_type": "stream",
     "text": [
      "fraction of twos in the SL array is 1.786910877819969e-05\n",
      "fraction of ones in the SL array is 0.0010006700915791826\n",
      "fraction of twos in the PI array is 1.058502625900745e-05\n",
      "fraction of ones in the PI array is 0.000872043317184383\n"
     ]
    }
   ],
   "source": [
    "index_2_true=protein_feat_true_pd.where(protein_feat_true_pd==2)\n",
    "index_2_true_count=index_2_true.count(axis=1).sum()\n",
    "\n",
    "index_1_true=protein_feat_true_pd.where(protein_feat_true_pd==1)\n",
    "index_1_true_count=index_1_true.count(axis=1).sum()\n",
    "\n",
    "index_2_nontrue=protein_feat_non_true_pd.where(protein_feat_non_true_pd==2)\n",
    "index_2_nontrue_count=index_2_nontrue.count(axis=1).sum()\n",
    "\n",
    "index_1_nontrue=protein_feat_non_true_pd.where(protein_feat_non_true_pd==1)\n",
    "index_1_nontrue_count=index_1_nontrue.count(axis=1).sum()\n",
    "\n",
    "\n",
    "print('fraction of twos in the SL array is',index_2_true_count/(len(protein_feat_true_pd.index)*len(protein_feat_true_pd.columns)))\n",
    "print('fraction of ones in the SL array is',index_1_true_count/(len(protein_feat_true_pd.index)*len(protein_feat_true_pd.columns)))\n",
    "print('fraction of twos in the PI array is',index_2_nontrue_count/(len(protein_feat_non_true_pd.index)*len(protein_feat_non_true_pd.columns)))\n",
    "print('fraction of ones in the PI array is',index_1_nontrue_count/(len(protein_feat_non_true_pd.index)*len(protein_feat_non_true_pd.columns)))"
   ]
  },
  {
   "cell_type": "markdown",
   "metadata": {},
   "source": [
    "#### Bar plot to visualize these numbers"
   ]
  },
  {
   "cell_type": "code",
   "execution_count": 11,
   "metadata": {
    "execution": {
     "iopub.execute_input": "2020-07-17T16:26:47.283776Z",
     "iopub.status.busy": "2020-07-17T16:26:47.281544Z",
     "iopub.status.idle": "2020-07-17T16:26:47.611399Z",
     "shell.execute_reply": "2020-07-17T16:26:47.610721Z"
    }
   },
   "outputs": [
    {
     "data": {
      "text/plain": [
       "([0, 1, 2, 3], <a list of 4 Text major ticklabel objects>)"
      ]
     },
     "execution_count": 11,
     "metadata": {},
     "output_type": "execute_result"
    },
    {
     "data": {
      "image/png": "[encoded data removed]",
      "text/plain": [
       "<Figure size 432x288 with 1 Axes>"
      ]
     },
     "metadata": {
      "filenames": {
       "image/png": "/home/runner/work/jupyter-book/jupyter-book/mini_book/docs/_build/jupyter_execute/prot_domains2lethality-FEATURES-POSTPROCESSING_18_1.png"
      },
      "needs_background": "light"
     },
     "output_type": "display_data"
    }
   ],
   "source": [
    "plt.bar(['fraction of 2 in the nSL','fraction of 1 in the nSL'],[index_2_nontrue_count/(len(protein_feat_non_true_pd.index)*len(protein_feat_non_true_pd.columns)),index_1_nontrue_count/(len(protein_feat_non_true_pd.index)*len(protein_feat_non_true_pd.columns))],alpha=0.6,color=['blue','lightblue']), \n",
    "\n",
    "plt.bar(['fraction of 2 in SL ','fraction of 1 in SL'],[index_2_true_count/(len(protein_feat_true_pd.index)*len(protein_feat_true_pd.columns)),index_1_true_count/(len(protein_feat_true_pd.index)*len(protein_feat_true_pd.columns))],alpha=0.6,color=['coral','lightcoral'])\n",
    "\n",
    "plt.ylabel('Fraction from the population')\n",
    "plt.yscale('log')\n",
    "plt.xticks(rotation=40)"
   ]
  },
  {
   "cell_type": "markdown",
   "metadata": {},
   "source": [
    "#### Adding the labels(response variables) to each dataset"
   ]
  },
  {
   "cell_type": "code",
   "execution_count": 12,
   "metadata": {
    "execution": {
     "iopub.execute_input": "2020-07-17T16:26:47.616694Z",
     "iopub.status.busy": "2020-07-17T16:26:47.615116Z",
     "iopub.status.idle": "2020-07-17T16:26:47.619582Z",
     "shell.execute_reply": "2020-07-17T16:26:47.618927Z"
    }
   },
   "outputs": [],
   "source": [
    "protein_feat_true_pd['lethality']=np.ones(shape=(len(protein_a_list_new)))\n",
    "protein_feat_non_true_pd['lethality']=np.zeros(shape=(len(protein_a_list_non_new)))"
   ]
  },
  {
   "cell_type": "markdown",
   "metadata": {},
   "source": [
    "#### Joining both datasets"
   ]
  },
  {
   "cell_type": "code",
   "execution_count": 13,
   "metadata": {
    "execution": {
     "iopub.execute_input": "2020-07-17T16:26:47.623650Z",
     "iopub.status.busy": "2020-07-17T16:26:47.623132Z",
     "iopub.status.idle": "2020-07-17T16:26:47.659046Z",
     "shell.execute_reply": "2020-07-17T16:26:47.657988Z"
    }
   },
   "outputs": [
    {
     "name": "stdout",
     "output_type": "stream",
     "text": [
      "The number of features are: 3026\n",
      "The number of samples are: 813\n"
     ]
    }
   ],
   "source": [
    "feature_post=pd.concat([protein_feat_true_pd,protein_feat_non_true_pd],axis=0)\n",
    "feature_post=feature_post.set_index(np.arange(0,len(protein_a_list_new)+len(protein_a_list_non_new)))\n",
    "print('The number of features are:',feature_post.shape[1])\n",
    "print('The number of samples are:',feature_post.shape[0])"
   ]
  },
  {
   "cell_type": "markdown",
   "metadata": {},
   "source": [
    "### Postprocessing and exploration of the feature matrix of both datasets"
   ]
  },
  {
   "cell_type": "code",
   "execution_count": 14,
   "metadata": {
    "execution": {
     "iopub.execute_input": "2020-07-17T16:26:47.665849Z",
     "iopub.status.busy": "2020-07-17T16:26:47.664520Z",
     "iopub.status.idle": "2020-07-17T16:26:51.207256Z",
     "shell.execute_reply": "2020-07-17T16:26:51.207775Z"
    }
   },
   "outputs": [],
   "source": [
    "mean=feature_post.T.describe().loc['mean']\n",
    "std=feature_post.T.describe().loc['std']\n",
    "lethality=feature_post['lethality']\n",
    "\n",
    "corr_keys=pd.concat([mean,std,lethality],axis=1)"
   ]
  },
  {
   "cell_type": "markdown",
   "metadata": {},
   "source": [
    "### Viz of the stats"
   ]
  },
  {
   "cell_type": "code",
   "execution_count": 15,
   "metadata": {
    "execution": {
     "iopub.execute_input": "2020-07-17T16:26:51.223405Z",
     "iopub.status.busy": "2020-07-17T16:26:51.220360Z",
     "iopub.status.idle": "2020-07-17T16:26:52.578937Z",
     "shell.execute_reply": "2020-07-17T16:26:52.578400Z"
    }
   },
   "outputs": [
    {
     "data": {
      "text/plain": [
       "Text(0.5, 1.08, 'Pairplot to see data dependencies with Lethality')"
      ]
     },
     "execution_count": 15,
     "metadata": {},
     "output_type": "execute_result"
    },
    {
     "data": {
      "image/png": "[encoded data removed]",
      "text/plain": [
       "<Figure size 412x360 with 6 Axes>"
      ]
     },
     "metadata": {
      "filenames": {
       "image/png": "/home/runner/work/jupyter-book/jupyter-book/mini_book/docs/_build/jupyter_execute/prot_domains2lethality-FEATURES-POSTPROCESSING_26_1.png"
      },
      "needs_background": "light"
     },
     "output_type": "display_data"
    }
   ],
   "source": [
    "pair=sns.pairplot(corr_keys,hue='lethality',diag_kind='kde',kind='reg',palette='colorblind')\n",
    "pair.fig.suptitle('Pairplot to see data dependencies with Lethality',y=1.08)"
   ]
  },
  {
   "cell_type": "code",
   "execution_count": 16,
   "metadata": {
    "execution": {
     "iopub.execute_input": "2020-07-17T16:26:52.588645Z",
     "iopub.status.busy": "2020-07-17T16:26:52.588141Z",
     "iopub.status.idle": "2020-07-17T16:26:52.591385Z",
     "shell.execute_reply": "2020-07-17T16:26:52.590956Z"
    }
   },
   "outputs": [],
   "source": [
    "X, y = feature_post.drop(columns=[\"lethality\"]), feature_post[\"lethality\"]"
   ]
  },
  {
   "cell_type": "code",
   "execution_count": 17,
   "metadata": {
    "execution": {
     "iopub.execute_input": "2020-07-17T16:26:52.595680Z",
     "iopub.status.busy": "2020-07-17T16:26:52.595255Z",
     "iopub.status.idle": "2020-07-17T16:26:52.737648Z",
     "shell.execute_reply": "2020-07-17T16:26:52.737092Z"
    }
   },
   "outputs": [],
   "source": [
    "from sklearn.preprocessing import StandardScaler\n",
    "scaler = StandardScaler()\n",
    "x_sl=protein_feat_true_pd.drop(columns=['lethality'])\n",
    "x_nsl=protein_feat_non_true_pd.drop(columns=['lethality'])\n",
    "\n",
    "X_sl_scaled = scaler.fit_transform(x_sl)\n",
    "X_nsl_scaled = scaler.fit_transform(x_nsl)"
   ]
  },
  {
   "cell_type": "code",
   "execution_count": 18,
   "metadata": {
    "execution": {
     "iopub.execute_input": "2020-07-17T16:26:52.743097Z",
     "iopub.status.busy": "2020-07-17T16:26:52.742584Z",
     "iopub.status.idle": "2020-07-17T16:26:52.744940Z",
     "shell.execute_reply": "2020-07-17T16:26:52.745320Z"
    }
   },
   "outputs": [
    {
     "data": {
      "text/plain": [
       "(407, 3025)"
      ]
     },
     "execution_count": 18,
     "metadata": {},
     "output_type": "execute_result"
    }
   ],
   "source": [
    "np.shape(X_sl_scaled)"
   ]
  },
  {
   "cell_type": "markdown",
   "metadata": {},
   "source": [
    "## How redundant are each of the protein domains?"
   ]
  },
  {
   "cell_type": "code",
   "execution_count": 19,
   "metadata": {
    "execution": {
     "iopub.execute_input": "2020-07-17T16:26:52.753391Z",
     "iopub.status.busy": "2020-07-17T16:26:52.752226Z",
     "iopub.status.idle": "2020-07-17T16:26:52.754026Z",
     "shell.execute_reply": "2020-07-17T16:26:52.754421Z"
    }
   },
   "outputs": [],
   "source": [
    "def PCA_component_contribution(scaled_matrix,original_data):\n",
    "    from sklearn.decomposition import PCA\n",
    "\n",
    "    model = PCA(0.95).fit(scaled_matrix)\n",
    "    ## apply dimensionality reduction to X_train\n",
    "    output_pca = model.transform(scaled_matrix)\n",
    "    \n",
    "    total=sum(model.explained_variance_)\n",
    "\n",
    "\n",
    "   \n",
    "    # number of components , that it will be the number of main axes times the number of original components \n",
    "    n_pcs= model.components_.shape[0] # the amount of non redundant protein domains \n",
    "\n",
    "    # get the index of the most important feature on EACH component\n",
    "    # LIST COMPREHENSION HERE\n",
    "    most_important = [np.abs(model.components_[i]).argmax() for i in range(n_pcs)]\n",
    "\n",
    "    initial_feature_names = original_data.columns\n",
    "    # get the names\n",
    "    most_important_names = [initial_feature_names[most_important[i]] for i in range(n_pcs)]\n",
    "    \n",
    "\n",
    "    # LIST COMPREHENSION HERE AGAIN\n",
    "    dic = {'PC{}'.format(i): most_important_names[i] for i in range(n_pcs)}\n",
    "\n",
    "    # build the dataframe\n",
    "    df = pd.DataFrame(dic.items(),columns=['pca-component','domain-number'])\n",
    "\n",
    "    return df,model.components_"
   ]
  },
  {
   "cell_type": "code",
   "execution_count": 20,
   "metadata": {
    "execution": {
     "iopub.execute_input": "2020-07-17T16:26:52.757968Z",
     "iopub.status.busy": "2020-07-17T16:26:52.757459Z",
     "iopub.status.idle": "2020-07-17T16:26:53.310772Z",
     "shell.execute_reply": "2020-07-17T16:26:53.311551Z"
    }
   },
   "outputs": [],
   "source": [
    "df_sl,components_pca_nsl=PCA_component_contribution(X_nsl_scaled,x_nsl)\n",
    "df_nsl,components_pca_sl=PCA_component_contribution(X_sl_scaled,x_sl)"
   ]
  },
  {
   "cell_type": "code",
   "execution_count": 21,
   "metadata": {
    "execution": {
     "iopub.execute_input": "2020-07-17T16:26:53.314482Z",
     "iopub.status.busy": "2020-07-17T16:26:53.313494Z",
     "iopub.status.idle": "2020-07-17T16:26:53.323180Z",
     "shell.execute_reply": "2020-07-17T16:26:53.323854Z"
    }
   },
   "outputs": [
    {
     "data": {
      "text/html": [
       "<div>\n",
       "<style scoped>\n",
       "    .dataframe tbody tr th:only-of-type {\n",
       "        vertical-align: middle;\n",
       "    }\n",
       "\n",
       "    .dataframe tbody tr th {\n",
       "        vertical-align: top;\n",
       "    }\n",
       "\n",
       "    .dataframe thead th {\n",
       "        text-align: right;\n",
       "    }\n",
       "</style>\n",
       "<table border=\"1\" class=\"dataframe\">\n",
       "  <thead>\n",
       "    <tr style=\"text-align: right;\">\n",
       "      <th></th>\n",
       "      <th>pca-component</th>\n",
       "      <th>domain-number</th>\n",
       "    </tr>\n",
       "  </thead>\n",
       "  <tbody>\n",
       "    <tr>\n",
       "      <th>0</th>\n",
       "      <td>PC0</td>\n",
       "      <td>221</td>\n",
       "    </tr>\n",
       "    <tr>\n",
       "      <th>1</th>\n",
       "      <td>PC1</td>\n",
       "      <td>229</td>\n",
       "    </tr>\n",
       "    <tr>\n",
       "      <th>2</th>\n",
       "      <td>PC2</td>\n",
       "      <td>349</td>\n",
       "    </tr>\n",
       "    <tr>\n",
       "      <th>3</th>\n",
       "      <td>PC3</td>\n",
       "      <td>1645</td>\n",
       "    </tr>\n",
       "    <tr>\n",
       "      <th>4</th>\n",
       "      <td>PC4</td>\n",
       "      <td>257</td>\n",
       "    </tr>\n",
       "  </tbody>\n",
       "</table>\n",
       "</div>"
      ],
      "text/plain": [
       "  pca-component  domain-number\n",
       "0           PC0            221\n",
       "1           PC1            229\n",
       "2           PC2            349\n",
       "3           PC3           1645\n",
       "4           PC4            257"
      ]
     },
     "execution_count": 21,
     "metadata": {},
     "output_type": "execute_result"
    }
   ],
   "source": [
    "df_sl.head()"
   ]
  },
  {
   "cell_type": "markdown",
   "metadata": {},
   "source": [
    "## which are the shared domains between nSL and SL pairs , in the PCA reduced samples"
   ]
  },
  {
   "cell_type": "code",
   "execution_count": 22,
   "metadata": {
    "execution": {
     "iopub.execute_input": "2020-07-17T16:26:53.326692Z",
     "iopub.status.busy": "2020-07-17T16:26:53.325706Z",
     "iopub.status.idle": "2020-07-17T16:26:53.353935Z",
     "shell.execute_reply": "2020-07-17T16:26:53.354558Z"
    }
   },
   "outputs": [
    {
     "data": {
      "text/html": [
       "<div>\n",
       "<style scoped>\n",
       "    .dataframe tbody tr th:only-of-type {\n",
       "        vertical-align: middle;\n",
       "    }\n",
       "\n",
       "    .dataframe tbody tr th {\n",
       "        vertical-align: top;\n",
       "    }\n",
       "\n",
       "    .dataframe thead th {\n",
       "        text-align: right;\n",
       "    }\n",
       "</style>\n",
       "<table border=\"1\" class=\"dataframe\">\n",
       "  <thead>\n",
       "    <tr style=\"text-align: right;\">\n",
       "      <th></th>\n",
       "      <th>pca-component_x</th>\n",
       "      <th>domain-number</th>\n",
       "      <th>pca-component_y</th>\n",
       "      <th>domain-description</th>\n",
       "    </tr>\n",
       "  </thead>\n",
       "  <tbody>\n",
       "    <tr>\n",
       "      <th>0</th>\n",
       "      <td>PC0</td>\n",
       "      <td>221</td>\n",
       "      <td>PC6</td>\n",
       "      <td>Apq12; Nuclear pore assembly and biogenesis pr...</td>\n",
       "    </tr>\n",
       "    <tr>\n",
       "      <th>1</th>\n",
       "      <td>PC10</td>\n",
       "      <td>1055</td>\n",
       "      <td>PC70</td>\n",
       "      <td>Glyco_hydro_63N; Glycosyl hydrolase family 63,...</td>\n",
       "    </tr>\n",
       "    <tr>\n",
       "      <th>2</th>\n",
       "      <td>PC11</td>\n",
       "      <td>875</td>\n",
       "      <td>PC28</td>\n",
       "      <td>FDF; FDF domain</td>\n",
       "    </tr>\n",
       "    <tr>\n",
       "      <th>3</th>\n",
       "      <td>PC14</td>\n",
       "      <td>51</td>\n",
       "      <td>PC123</td>\n",
       "      <td>AD; Anticodon-binding domain</td>\n",
       "    </tr>\n",
       "    <tr>\n",
       "      <th>4</th>\n",
       "      <td>PC15</td>\n",
       "      <td>926</td>\n",
       "      <td>PC40</td>\n",
       "      <td>Flp_C; Recombinase Flp protein</td>\n",
       "    </tr>\n",
       "    <tr>\n",
       "      <th>...</th>\n",
       "      <td>...</td>\n",
       "      <td>...</td>\n",
       "      <td>...</td>\n",
       "      <td>...</td>\n",
       "    </tr>\n",
       "    <tr>\n",
       "      <th>60</th>\n",
       "      <td>PC261</td>\n",
       "      <td>1103</td>\n",
       "      <td>PC193</td>\n",
       "      <td>HDA2-3; HDA1 complex subunit 2/3</td>\n",
       "    </tr>\n",
       "    <tr>\n",
       "      <th>61</th>\n",
       "      <td>PC266</td>\n",
       "      <td>1048</td>\n",
       "      <td>PC132</td>\n",
       "      <td>Glyco_hydro_31; Glycoside hydrolase family 31</td>\n",
       "    </tr>\n",
       "    <tr>\n",
       "      <th>62</th>\n",
       "      <td>PC266</td>\n",
       "      <td>1048</td>\n",
       "      <td>PC133</td>\n",
       "      <td>Glyco_hydro_31; Glycoside hydrolase family 31</td>\n",
       "    </tr>\n",
       "    <tr>\n",
       "      <th>63</th>\n",
       "      <td>PC267</td>\n",
       "      <td>1048</td>\n",
       "      <td>PC132</td>\n",
       "      <td>Glyco_hydro_31; Glycoside hydrolase family 31</td>\n",
       "    </tr>\n",
       "    <tr>\n",
       "      <th>64</th>\n",
       "      <td>PC267</td>\n",
       "      <td>1048</td>\n",
       "      <td>PC133</td>\n",
       "      <td>Glyco_hydro_31; Glycoside hydrolase family 31</td>\n",
       "    </tr>\n",
       "  </tbody>\n",
       "</table>\n",
       "<p>65 rows × 4 columns</p>\n",
       "</div>"
      ],
      "text/plain": [
       "   pca-component_x  domain-number pca-component_y  \\\n",
       "0              PC0            221             PC6   \n",
       "1             PC10           1055            PC70   \n",
       "2             PC11            875            PC28   \n",
       "3             PC14             51           PC123   \n",
       "4             PC15            926            PC40   \n",
       "..             ...            ...             ...   \n",
       "60           PC261           1103           PC193   \n",
       "61           PC266           1048           PC132   \n",
       "62           PC266           1048           PC133   \n",
       "63           PC267           1048           PC132   \n",
       "64           PC267           1048           PC133   \n",
       "\n",
       "                                   domain-description  \n",
       "0   Apq12; Nuclear pore assembly and biogenesis pr...  \n",
       "1   Glyco_hydro_63N; Glycosyl hydrolase family 63,...  \n",
       "2                                     FDF; FDF domain  \n",
       "3                        AD; Anticodon-binding domain  \n",
       "4                      Flp_C; Recombinase Flp protein  \n",
       "..                                                ...  \n",
       "60                   HDA2-3; HDA1 complex subunit 2/3  \n",
       "61      Glyco_hydro_31; Glycoside hydrolase family 31  \n",
       "62      Glyco_hydro_31; Glycoside hydrolase family 31  \n",
       "63      Glyco_hydro_31; Glycoside hydrolase family 31  \n",
       "64      Glyco_hydro_31; Glycoside hydrolase family 31  \n",
       "\n",
       "[65 rows x 4 columns]"
      ]
     },
     "execution_count": 22,
     "metadata": {},
     "output_type": "execute_result"
    }
   ],
   "source": [
    "df_shared_domains=pd.merge(df_sl,df_nsl,how='inner',on='domain-number')\n",
    "domains_name=np.unique(data_domains['domain-name'])\n",
    "domains_description=np.unique(data_domains['domain-descrip'])\n",
    "\n",
    "df_shared_domains['domain-description']=domains_description[df_shared_domains['domain-number']]\n",
    "\n",
    "\n",
    "df_shared_domains"
   ]
  },
  {
   "cell_type": "code",
   "execution_count": 23,
   "metadata": {
    "execution": {
     "iopub.execute_input": "2020-07-17T16:26:53.357059Z",
     "iopub.status.busy": "2020-07-17T16:26:53.356250Z",
     "iopub.status.idle": "2020-07-17T16:26:53.362708Z",
     "shell.execute_reply": "2020-07-17T16:26:53.363358Z"
    }
   },
   "outputs": [
    {
     "name": "stdout",
     "output_type": "stream",
     "text": [
      "The number of shared domains between SL and nSL pairs,after PCA, is =  65 out of 546 so the 11.904761904761905 %\n"
     ]
    }
   ],
   "source": [
    "print('The number of shared domains between SL and nSL pairs,after PCA, is = ',len(df_shared_domains), 'out of', len(df_sl)+len(df_nsl), 'so the',100*len(df_shared_domains)/(len(df_sl)+len(df_nsl)),'%')"
   ]
  },
  {
   "cell_type": "markdown",
   "metadata": {},
   "source": [
    "## Domains exclusive to SL"
   ]
  },
  {
   "cell_type": "code",
   "execution_count": 24,
   "metadata": {
    "execution": {
     "iopub.execute_input": "2020-07-17T16:26:53.365901Z",
     "iopub.status.busy": "2020-07-17T16:26:53.364994Z",
     "iopub.status.idle": "2020-07-17T16:26:53.391194Z",
     "shell.execute_reply": "2020-07-17T16:26:53.391822Z"
    }
   },
   "outputs": [
    {
     "data": {
      "text/html": [
       "<div>\n",
       "<style scoped>\n",
       "    .dataframe tbody tr th:only-of-type {\n",
       "        vertical-align: middle;\n",
       "    }\n",
       "\n",
       "    .dataframe tbody tr th {\n",
       "        vertical-align: top;\n",
       "    }\n",
       "\n",
       "    .dataframe thead th {\n",
       "        text-align: right;\n",
       "    }\n",
       "</style>\n",
       "<table border=\"1\" class=\"dataframe\">\n",
       "  <thead>\n",
       "    <tr style=\"text-align: right;\">\n",
       "      <th></th>\n",
       "      <th>pca-component_x</th>\n",
       "      <th>domain-number</th>\n",
       "      <th>pca-component_y</th>\n",
       "      <th>domain-description</th>\n",
       "    </tr>\n",
       "  </thead>\n",
       "  <tbody>\n",
       "    <tr>\n",
       "      <th>1</th>\n",
       "      <td>PC1</td>\n",
       "      <td>229</td>\n",
       "      <td>NaN</td>\n",
       "      <td>Arginase; Ureohydrolase</td>\n",
       "    </tr>\n",
       "    <tr>\n",
       "      <th>2</th>\n",
       "      <td>PC2</td>\n",
       "      <td>349</td>\n",
       "      <td>NaN</td>\n",
       "      <td>CFEM; Extracellular membrane protein, CFEM domain</td>\n",
       "    </tr>\n",
       "    <tr>\n",
       "      <th>3</th>\n",
       "      <td>PC3</td>\n",
       "      <td>1645</td>\n",
       "      <td>NaN</td>\n",
       "      <td>Nucleoporin_C; Nucleoporin, Nup133/Nup155-like...</td>\n",
       "    </tr>\n",
       "    <tr>\n",
       "      <th>4</th>\n",
       "      <td>PC4</td>\n",
       "      <td>257</td>\n",
       "      <td>NaN</td>\n",
       "      <td>BAR_2; BAR domain-containing family</td>\n",
       "    </tr>\n",
       "    <tr>\n",
       "      <th>5</th>\n",
       "      <td>PC5</td>\n",
       "      <td>2082</td>\n",
       "      <td>NaN</td>\n",
       "      <td>RXT2_N; Transcriptional regulatory protein RXT...</td>\n",
       "    </tr>\n",
       "    <tr>\n",
       "      <th>...</th>\n",
       "      <td>...</td>\n",
       "      <td>...</td>\n",
       "      <td>...</td>\n",
       "      <td>...</td>\n",
       "    </tr>\n",
       "    <tr>\n",
       "      <th>285</th>\n",
       "      <td>PC270</td>\n",
       "      <td>1352</td>\n",
       "      <td>NaN</td>\n",
       "      <td>MATalpha_HMGbox; Mating-type protein MAT alpha...</td>\n",
       "    </tr>\n",
       "    <tr>\n",
       "      <th>286</th>\n",
       "      <td>PC271</td>\n",
       "      <td>1047</td>\n",
       "      <td>NaN</td>\n",
       "      <td>Glyco_hydro_28; Glycoside hydrolase, family 28</td>\n",
       "    </tr>\n",
       "    <tr>\n",
       "      <th>287</th>\n",
       "      <td>PC272</td>\n",
       "      <td>655</td>\n",
       "      <td>NaN</td>\n",
       "      <td>DUF1744; DNA polymerase epsilon, catalytic sub...</td>\n",
       "    </tr>\n",
       "    <tr>\n",
       "      <th>288</th>\n",
       "      <td>PC273</td>\n",
       "      <td>1394</td>\n",
       "      <td>NaN</td>\n",
       "      <td>MPS2; Monopolar spindle protein 2</td>\n",
       "    </tr>\n",
       "    <tr>\n",
       "      <th>289</th>\n",
       "      <td>PC274</td>\n",
       "      <td>655</td>\n",
       "      <td>NaN</td>\n",
       "      <td>DUF1744; DNA polymerase epsilon, catalytic sub...</td>\n",
       "    </tr>\n",
       "  </tbody>\n",
       "</table>\n",
       "<p>225 rows × 4 columns</p>\n",
       "</div>"
      ],
      "text/plain": [
       "    pca-component_x  domain-number pca-component_y  \\\n",
       "1               PC1            229             NaN   \n",
       "2               PC2            349             NaN   \n",
       "3               PC3           1645             NaN   \n",
       "4               PC4            257             NaN   \n",
       "5               PC5           2082             NaN   \n",
       "..              ...            ...             ...   \n",
       "285           PC270           1352             NaN   \n",
       "286           PC271           1047             NaN   \n",
       "287           PC272            655             NaN   \n",
       "288           PC273           1394             NaN   \n",
       "289           PC274            655             NaN   \n",
       "\n",
       "                                    domain-description  \n",
       "1                              Arginase; Ureohydrolase  \n",
       "2    CFEM; Extracellular membrane protein, CFEM domain  \n",
       "3    Nucleoporin_C; Nucleoporin, Nup133/Nup155-like...  \n",
       "4                  BAR_2; BAR domain-containing family  \n",
       "5    RXT2_N; Transcriptional regulatory protein RXT...  \n",
       "..                                                 ...  \n",
       "285  MATalpha_HMGbox; Mating-type protein MAT alpha...  \n",
       "286     Glyco_hydro_28; Glycoside hydrolase, family 28  \n",
       "287  DUF1744; DNA polymerase epsilon, catalytic sub...  \n",
       "288                  MPS2; Monopolar spindle protein 2  \n",
       "289  DUF1744; DNA polymerase epsilon, catalytic sub...  \n",
       "\n",
       "[225 rows x 4 columns]"
      ]
     },
     "execution_count": 24,
     "metadata": {},
     "output_type": "execute_result"
    }
   ],
   "source": [
    "df_sl_exclusive=pd.merge(df_sl,df_nsl,how='left',on='domain-number')\n",
    "\n",
    "domains_name=np.unique(data_domains['domain-name'])\n",
    "domains_description=np.unique(data_domains['domain-descrip'])\n",
    "\n",
    "df_sl_exclusive['domain-description']=domains_description[df_sl_exclusive['domain-number']]\n",
    "df_sl_exclusive[pd.isnull(df_sl_exclusive['pca-component_y'])]"
   ]
  },
  {
   "cell_type": "code",
   "execution_count": 25,
   "metadata": {
    "execution": {
     "iopub.execute_input": "2020-07-17T16:26:53.394774Z",
     "iopub.status.busy": "2020-07-17T16:26:53.393817Z",
     "iopub.status.idle": "2020-07-17T16:26:53.400211Z",
     "shell.execute_reply": "2020-07-17T16:26:53.400794Z"
    }
   },
   "outputs": [
    {
     "name": "stdout",
     "output_type": "stream",
     "text": [
      "The number of exclusive domains from SL pairs, after PCA, is =  290 out of 546 so the 53.11355311355312 %\n"
     ]
    }
   ],
   "source": [
    "print('The number of exclusive domains from SL pairs, after PCA, is = ',len(df_sl_exclusive), 'out of', len(df_sl)+len(df_nsl), 'so the',100*len(df_sl_exclusive)/(len(df_sl)+len(df_nsl)),'%')"
   ]
  },
  {
   "cell_type": "code",
   "execution_count": 26,
   "metadata": {
    "execution": {
     "iopub.execute_input": "2020-07-17T16:26:53.403496Z",
     "iopub.status.busy": "2020-07-17T16:26:53.402578Z",
     "iopub.status.idle": "2020-07-17T16:26:53.430748Z",
     "shell.execute_reply": "2020-07-17T16:26:53.431380Z"
    }
   },
   "outputs": [
    {
     "data": {
      "text/html": [
       "<div>\n",
       "<style scoped>\n",
       "    .dataframe tbody tr th:only-of-type {\n",
       "        vertical-align: middle;\n",
       "    }\n",
       "\n",
       "    .dataframe tbody tr th {\n",
       "        vertical-align: top;\n",
       "    }\n",
       "\n",
       "    .dataframe thead th {\n",
       "        text-align: right;\n",
       "    }\n",
       "</style>\n",
       "<table border=\"1\" class=\"dataframe\">\n",
       "  <thead>\n",
       "    <tr style=\"text-align: right;\">\n",
       "      <th></th>\n",
       "      <th>pca-component_x</th>\n",
       "      <th>domain-number</th>\n",
       "      <th>pca-component_y</th>\n",
       "      <th>domain-description</th>\n",
       "    </tr>\n",
       "  </thead>\n",
       "  <tbody>\n",
       "    <tr>\n",
       "      <th>65</th>\n",
       "      <td>NaN</td>\n",
       "      <td>1344</td>\n",
       "      <td>PC0</td>\n",
       "      <td>MAD; Spindle assembly checkpoint component Mad1</td>\n",
       "    </tr>\n",
       "    <tr>\n",
       "      <th>66</th>\n",
       "      <td>NaN</td>\n",
       "      <td>1028</td>\n",
       "      <td>PC1</td>\n",
       "      <td>GatB_Yqey; Asn/Gln amidotransferase</td>\n",
       "    </tr>\n",
       "    <tr>\n",
       "      <th>67</th>\n",
       "      <td>NaN</td>\n",
       "      <td>305</td>\n",
       "      <td>PC2</td>\n",
       "      <td>Brr6_like_C_C; Brl1/Brr6 domain</td>\n",
       "    </tr>\n",
       "    <tr>\n",
       "      <th>68</th>\n",
       "      <td>NaN</td>\n",
       "      <td>476</td>\n",
       "      <td>PC3</td>\n",
       "      <td>Citrate_synt; Citrate synthase</td>\n",
       "    </tr>\n",
       "    <tr>\n",
       "      <th>69</th>\n",
       "      <td>NaN</td>\n",
       "      <td>134</td>\n",
       "      <td>PC4</td>\n",
       "      <td>ATP-synt_ab_N; ATPase, F1/V1/A1 complex, alpha...</td>\n",
       "    </tr>\n",
       "    <tr>\n",
       "      <th>...</th>\n",
       "      <td>...</td>\n",
       "      <td>...</td>\n",
       "      <td>...</td>\n",
       "      <td>...</td>\n",
       "    </tr>\n",
       "    <tr>\n",
       "      <th>274</th>\n",
       "      <td>NaN</td>\n",
       "      <td>1017</td>\n",
       "      <td>PC261</td>\n",
       "      <td>GXGXG; Glutamate synthase, alpha subunit, C-te...</td>\n",
       "    </tr>\n",
       "    <tr>\n",
       "      <th>275</th>\n",
       "      <td>NaN</td>\n",
       "      <td>778</td>\n",
       "      <td>PC265</td>\n",
       "      <td>E1_UFD; Ubiquitin-activating enzyme E1, C-term...</td>\n",
       "    </tr>\n",
       "    <tr>\n",
       "      <th>276</th>\n",
       "      <td>NaN</td>\n",
       "      <td>778</td>\n",
       "      <td>PC266</td>\n",
       "      <td>E1_UFD; Ubiquitin-activating enzyme E1, C-term...</td>\n",
       "    </tr>\n",
       "    <tr>\n",
       "      <th>277</th>\n",
       "      <td>NaN</td>\n",
       "      <td>1973</td>\n",
       "      <td>PC269</td>\n",
       "      <td>RCR; Chitin synthesis regulation, Congo red re...</td>\n",
       "    </tr>\n",
       "    <tr>\n",
       "      <th>278</th>\n",
       "      <td>NaN</td>\n",
       "      <td>1550</td>\n",
       "      <td>PC270</td>\n",
       "      <td>NAD_binding_7; Sirohaem synthase, N-terminal</td>\n",
       "    </tr>\n",
       "  </tbody>\n",
       "</table>\n",
       "<p>214 rows × 4 columns</p>\n",
       "</div>"
      ],
      "text/plain": [
       "    pca-component_x  domain-number pca-component_y  \\\n",
       "65              NaN           1344             PC0   \n",
       "66              NaN           1028             PC1   \n",
       "67              NaN            305             PC2   \n",
       "68              NaN            476             PC3   \n",
       "69              NaN            134             PC4   \n",
       "..              ...            ...             ...   \n",
       "274             NaN           1017           PC261   \n",
       "275             NaN            778           PC265   \n",
       "276             NaN            778           PC266   \n",
       "277             NaN           1973           PC269   \n",
       "278             NaN           1550           PC270   \n",
       "\n",
       "                                    domain-description  \n",
       "65     MAD; Spindle assembly checkpoint component Mad1  \n",
       "66                 GatB_Yqey; Asn/Gln amidotransferase  \n",
       "67                     Brr6_like_C_C; Brl1/Brr6 domain  \n",
       "68                      Citrate_synt; Citrate synthase  \n",
       "69   ATP-synt_ab_N; ATPase, F1/V1/A1 complex, alpha...  \n",
       "..                                                 ...  \n",
       "274  GXGXG; Glutamate synthase, alpha subunit, C-te...  \n",
       "275  E1_UFD; Ubiquitin-activating enzyme E1, C-term...  \n",
       "276  E1_UFD; Ubiquitin-activating enzyme E1, C-term...  \n",
       "277  RCR; Chitin synthesis regulation, Congo red re...  \n",
       "278       NAD_binding_7; Sirohaem synthase, N-terminal  \n",
       "\n",
       "[214 rows x 4 columns]"
      ]
     },
     "execution_count": 26,
     "metadata": {},
     "output_type": "execute_result"
    }
   ],
   "source": [
    "df_nsl_exclusive=pd.merge(df_sl,df_nsl,how='right',on='domain-number')\n",
    "\n",
    "domains_name=np.unique(data_domains['domain-name'])\n",
    "domains_description=np.unique(data_domains['domain-descrip'])\n",
    "\n",
    "df_nsl_exclusive['domain-description']=domains_description[df_nsl_exclusive['domain-number']]\n",
    "df_nsl_exclusive[pd.isnull(df_nsl_exclusive['pca-component_x'])]"
   ]
  },
  {
   "cell_type": "code",
   "execution_count": 27,
   "metadata": {
    "execution": {
     "iopub.execute_input": "2020-07-17T16:26:53.436447Z",
     "iopub.status.busy": "2020-07-17T16:26:53.435941Z",
     "iopub.status.idle": "2020-07-17T16:26:53.439976Z",
     "shell.execute_reply": "2020-07-17T16:26:53.439465Z"
    }
   },
   "outputs": [
    {
     "name": "stdout",
     "output_type": "stream",
     "text": [
      "The number of exclusive domains from non SL pairs, after PCA, is =  279 out of 546 so the 51.0989010989011 %\n"
     ]
    }
   ],
   "source": [
    "print('The number of exclusive domains from non SL pairs, after PCA, is = ',len(df_nsl_exclusive), 'out of', len(df_sl)+len(df_nsl), 'so the',100*len(df_nsl_exclusive)/(len(df_sl)+len(df_nsl)),'%')"
   ]
  },
  {
   "cell_type": "markdown",
   "metadata": {},
   "source": [
    "## Let see to the domains-number that get repeated after the PCA analysis , and selecting the most explanatory feature by its explained variance."
   ]
  },
  {
   "cell_type": "code",
   "execution_count": 28,
   "metadata": {
    "execution": {
     "iopub.execute_input": "2020-07-17T16:26:53.459122Z",
     "iopub.status.busy": "2020-07-17T16:26:53.458701Z",
     "iopub.status.idle": "2020-07-17T16:26:53.461882Z",
     "shell.execute_reply": "2020-07-17T16:26:53.461239Z"
    }
   },
   "outputs": [],
   "source": [
    "duplicated_features_sl=df_sl[df_sl.iloc[:,1].duplicated()]\n",
    "repeated_features_sl=pd.DataFrame()\n",
    "\n",
    "domains_name=np.unique(data_domains['domain-name'])\n",
    "domains_description=np.unique(data_domains['domain-descrip'])\n",
    "\n",
    "repeated_features_sl['domain-name']=domains_name[duplicated_features_sl.iloc[:,1]] \n",
    "repeated_features_sl['domain-description']=domains_description[duplicated_features_sl.iloc[:,1]]\n",
    "\n",
    "duplicated_features_nsl=df_nsl[df_nsl.iloc[:,1].duplicated()]\n",
    "repeated_features_nsl=pd.DataFrame()\n",
    "\n",
    "repeated_features_nsl['domain-name']=domains_name[duplicated_features_nsl.iloc[:,1]] \n",
    "repeated_features_nsl['domain-description']=domains_description[duplicated_features_nsl.iloc[:,1]]"
   ]
  },
  {
   "cell_type": "code",
   "execution_count": 29,
   "metadata": {
    "execution": {
     "iopub.execute_input": "2020-07-17T16:26:53.471254Z",
     "iopub.status.busy": "2020-07-17T16:26:53.469491Z",
     "iopub.status.idle": "2020-07-17T16:26:53.476708Z",
     "shell.execute_reply": "2020-07-17T16:26:53.476039Z"
    }
   },
   "outputs": [
    {
     "name": "stderr",
     "output_type": "stream",
     "text": [
      "/usr/share/miniconda3/envs/wintest/lib/python3.7/site-packages/ipykernel_launcher.py:3: SettingWithCopyWarning: \n",
      "A value is trying to be set on a copy of a slice from a DataFrame.\n",
      "Try using .loc[row_indexer,col_indexer] = value instead\n",
      "\n",
      "See the caveats in the documentation: https://pandas.pydata.org/pandas-docs/stable/user_guide/indexing.html#returning-a-view-versus-a-copy\n",
      "  This is separate from the ipykernel package so we can avoid doing imports until\n"
     ]
    },
    {
     "data": {
      "text/plain": [
       "((48, 4), (290, 4))"
      ]
     },
     "execution_count": 29,
     "metadata": {},
     "output_type": "execute_result"
    }
   ],
   "source": [
    "only_sl_pd=pd.merge(repeated_features_sl,repeated_features_nsl,how='left',on=['domain-name'])\n",
    "data_only_sl = only_sl_pd[pd.isnull(only_sl_pd['domain-description_y'])]\n",
    "data_only_sl['domain-description']=data_only_sl['domain-description_x']\n",
    "data_only_sl.shape,df_sl_exclusive.shape"
   ]
  },
  {
   "cell_type": "code",
   "execution_count": 30,
   "metadata": {
    "execution": {
     "iopub.execute_input": "2020-07-17T16:26:53.492272Z",
     "iopub.status.busy": "2020-07-17T16:26:53.480691Z",
     "iopub.status.idle": "2020-07-17T16:26:53.496496Z",
     "shell.execute_reply": "2020-07-17T16:26:53.495878Z"
    }
   },
   "outputs": [
    {
     "data": {
      "text/html": [
       "<div>\n",
       "<style scoped>\n",
       "    .dataframe tbody tr th:only-of-type {\n",
       "        vertical-align: middle;\n",
       "    }\n",
       "\n",
       "    .dataframe tbody tr th {\n",
       "        vertical-align: top;\n",
       "    }\n",
       "\n",
       "    .dataframe thead th {\n",
       "        text-align: right;\n",
       "    }\n",
       "</style>\n",
       "<table border=\"1\" class=\"dataframe\">\n",
       "  <thead>\n",
       "    <tr style=\"text-align: right;\">\n",
       "      <th></th>\n",
       "      <th>domain-name</th>\n",
       "      <th>domain-description_x</th>\n",
       "      <th>domain-description_y</th>\n",
       "    </tr>\n",
       "  </thead>\n",
       "  <tbody>\n",
       "    <tr>\n",
       "      <th>1</th>\n",
       "      <td>PF13246</td>\n",
       "      <td>NaN</td>\n",
       "      <td>TPK_B1_binding; Thiamin pyrophosphokinase, vit...</td>\n",
       "    </tr>\n",
       "    <tr>\n",
       "      <th>2</th>\n",
       "      <td>PF00583</td>\n",
       "      <td>NaN</td>\n",
       "      <td>BRF1; Brf1, TBP-binding domain</td>\n",
       "    </tr>\n",
       "    <tr>\n",
       "      <th>3</th>\n",
       "      <td>PF00684</td>\n",
       "      <td>NaN</td>\n",
       "      <td>CDP-OH_P_transf; CDP-alcohol phosphatidyltrans...</td>\n",
       "    </tr>\n",
       "    <tr>\n",
       "      <th>4</th>\n",
       "      <td>PF02190</td>\n",
       "      <td>NaN</td>\n",
       "      <td>Elf1; Transcription elongation factor 1</td>\n",
       "    </tr>\n",
       "    <tr>\n",
       "      <th>5</th>\n",
       "      <td>PF00149</td>\n",
       "      <td>NaN</td>\n",
       "      <td>AIM3; Altered inheritance of mitochondria prot...</td>\n",
       "    </tr>\n",
       "    <tr>\n",
       "      <th>6</th>\n",
       "      <td>PF03399</td>\n",
       "      <td>NaN</td>\n",
       "      <td>HEAT_2</td>\n",
       "    </tr>\n",
       "    <tr>\n",
       "      <th>7</th>\n",
       "      <td>PF16282</td>\n",
       "      <td>NaN</td>\n",
       "      <td>YjeF_N; YjeF N-terminal domain</td>\n",
       "    </tr>\n",
       "    <tr>\n",
       "      <th>8</th>\n",
       "      <td>PF01571</td>\n",
       "      <td>NaN</td>\n",
       "      <td>DUF2401; Cell wall protein YJL171C/Tos1</td>\n",
       "    </tr>\n",
       "    <tr>\n",
       "      <th>9</th>\n",
       "      <td>PF03953</td>\n",
       "      <td>NaN</td>\n",
       "      <td>IMS_C; DNA polymerase, Y-family, little finger...</td>\n",
       "    </tr>\n",
       "    <tr>\n",
       "      <th>10</th>\n",
       "      <td>PF03169</td>\n",
       "      <td>NaN</td>\n",
       "      <td>Glyco_transf_34; Glycosyltransferase 34</td>\n",
       "    </tr>\n",
       "    <tr>\n",
       "      <th>11</th>\n",
       "      <td>PF02269</td>\n",
       "      <td>NaN</td>\n",
       "      <td>FAD-oxidase_C; FAD-linked oxidase, C-terminal</td>\n",
       "    </tr>\n",
       "    <tr>\n",
       "      <th>12</th>\n",
       "      <td>PF03801</td>\n",
       "      <td>NaN</td>\n",
       "      <td>HisKA; Signal transduction histidine kinase, d...</td>\n",
       "    </tr>\n",
       "    <tr>\n",
       "      <th>13</th>\n",
       "      <td>PF03801</td>\n",
       "      <td>NaN</td>\n",
       "      <td>HisKA; Signal transduction histidine kinase, d...</td>\n",
       "    </tr>\n",
       "    <tr>\n",
       "      <th>14</th>\n",
       "      <td>PF00633</td>\n",
       "      <td>NaN</td>\n",
       "      <td>CAF1; Ribonuclease CAF1</td>\n",
       "    </tr>\n",
       "    <tr>\n",
       "      <th>15</th>\n",
       "      <td>PF02541</td>\n",
       "      <td>NaN</td>\n",
       "      <td>Fe-ADH; Alcohol dehydrogenase, iron-type</td>\n",
       "    </tr>\n",
       "    <tr>\n",
       "      <th>16</th>\n",
       "      <td>PF01851</td>\n",
       "      <td>NaN</td>\n",
       "      <td>DnaJ_CXXCXGXG; Heat shock protein DnaJ, cystei...</td>\n",
       "    </tr>\n",
       "    <tr>\n",
       "      <th>17</th>\n",
       "      <td>PF05793</td>\n",
       "      <td>NaN</td>\n",
       "      <td>NTR2; Pre-mRNA-splicing factor Ntr2</td>\n",
       "    </tr>\n",
       "    <tr>\n",
       "      <th>18</th>\n",
       "      <td>PF01399</td>\n",
       "      <td>NaN</td>\n",
       "      <td>DNA_pol_B; DNA-directed DNA polymerase, family...</td>\n",
       "    </tr>\n",
       "    <tr>\n",
       "      <th>19</th>\n",
       "      <td>PF04048</td>\n",
       "      <td>NaN</td>\n",
       "      <td>Ist1; Vacuolar protein sorting-associated prot...</td>\n",
       "    </tr>\n",
       "    <tr>\n",
       "      <th>20</th>\n",
       "      <td>PF01423</td>\n",
       "      <td>NaN</td>\n",
       "      <td>DNA_topoisoIV; DNA topoisomerase, type IIA, su...</td>\n",
       "    </tr>\n",
       "    <tr>\n",
       "      <th>21</th>\n",
       "      <td>PF00022</td>\n",
       "      <td>NaN</td>\n",
       "      <td>40S_S4_C; 40S ribosomal protein S4, C-terminal...</td>\n",
       "    </tr>\n",
       "    <tr>\n",
       "      <th>22</th>\n",
       "      <td>PF02146</td>\n",
       "      <td>NaN</td>\n",
       "      <td>ETF; Electron transfer flavoprotein, alpha/bet...</td>\n",
       "    </tr>\n",
       "    <tr>\n",
       "      <th>23</th>\n",
       "      <td>PF02146</td>\n",
       "      <td>NaN</td>\n",
       "      <td>ETF; Electron transfer flavoprotein, alpha/bet...</td>\n",
       "    </tr>\n",
       "    <tr>\n",
       "      <th>24</th>\n",
       "      <td>PF05179</td>\n",
       "      <td>NaN</td>\n",
       "      <td>Mob1_phocein; MOB kinase activator family</td>\n",
       "    </tr>\n",
       "    <tr>\n",
       "      <th>25</th>\n",
       "      <td>PF00682</td>\n",
       "      <td>NaN</td>\n",
       "      <td>CDC73_C; Cell division control protein 73, C-t...</td>\n",
       "    </tr>\n",
       "    <tr>\n",
       "      <th>26</th>\n",
       "      <td>PF04981</td>\n",
       "      <td>NaN</td>\n",
       "      <td>Metallophos; Calcineurin-like phosphoesterase ...</td>\n",
       "    </tr>\n",
       "    <tr>\n",
       "      <th>27</th>\n",
       "      <td>PF05032</td>\n",
       "      <td>NaN</td>\n",
       "      <td>MgsA_C; MgsA AAA+ ATPase C-terminal</td>\n",
       "    </tr>\n",
       "    <tr>\n",
       "      <th>28</th>\n",
       "      <td>PF12709</td>\n",
       "      <td>NaN</td>\n",
       "      <td>Spt5_N; Spt5 transcription elongation factor, ...</td>\n",
       "    </tr>\n",
       "    <tr>\n",
       "      <th>29</th>\n",
       "      <td>PF01025</td>\n",
       "      <td>NaN</td>\n",
       "      <td>Chalcone_2; Chalcone isomerase</td>\n",
       "    </tr>\n",
       "    <tr>\n",
       "      <th>30</th>\n",
       "      <td>PF03874</td>\n",
       "      <td>NaN</td>\n",
       "      <td>Hydantoinase_A; Hydantoinase/oxoprolinase</td>\n",
       "    </tr>\n",
       "    <tr>\n",
       "      <th>31</th>\n",
       "      <td>PF03874</td>\n",
       "      <td>NaN</td>\n",
       "      <td>Hydantoinase_A; Hydantoinase/oxoprolinase</td>\n",
       "    </tr>\n",
       "    <tr>\n",
       "      <th>32</th>\n",
       "      <td>PF09439</td>\n",
       "      <td>NaN</td>\n",
       "      <td>Rep_fac_C; Replication factor C, C-terminal</td>\n",
       "    </tr>\n",
       "    <tr>\n",
       "      <th>33</th>\n",
       "      <td>PF09439</td>\n",
       "      <td>NaN</td>\n",
       "      <td>Rep_fac_C; Replication factor C, C-terminal</td>\n",
       "    </tr>\n",
       "    <tr>\n",
       "      <th>34</th>\n",
       "      <td>PF05875</td>\n",
       "      <td>NaN</td>\n",
       "      <td>NatB_MDM20; N-acetyltransferase B complex, non...</td>\n",
       "    </tr>\n",
       "    <tr>\n",
       "      <th>35</th>\n",
       "      <td>PF05875</td>\n",
       "      <td>NaN</td>\n",
       "      <td>NatB_MDM20; N-acetyltransferase B complex, non...</td>\n",
       "    </tr>\n",
       "    <tr>\n",
       "      <th>36</th>\n",
       "      <td>PF09295</td>\n",
       "      <td>NaN</td>\n",
       "      <td>Rad52_Rad22; DNA repair protein Rad52/59/22</td>\n",
       "    </tr>\n",
       "    <tr>\n",
       "      <th>37</th>\n",
       "      <td>PF09729</td>\n",
       "      <td>NaN</td>\n",
       "      <td>Ribosomal_L10; Ribosomal protein L10P</td>\n",
       "    </tr>\n",
       "    <tr>\n",
       "      <th>38</th>\n",
       "      <td>PF00318</td>\n",
       "      <td>NaN</td>\n",
       "      <td>Aconitase_C; Aconitase A/isopropylmalate dehyd...</td>\n",
       "    </tr>\n",
       "    <tr>\n",
       "      <th>39</th>\n",
       "      <td>PF02213</td>\n",
       "      <td>NaN</td>\n",
       "      <td>Erf4; Golgin subfamily A member 7/ERF4</td>\n",
       "    </tr>\n",
       "    <tr>\n",
       "      <th>40</th>\n",
       "      <td>PF02207</td>\n",
       "      <td>NaN</td>\n",
       "      <td>Enolase_N; Enolase, N-terminal</td>\n",
       "    </tr>\n",
       "    <tr>\n",
       "      <th>41</th>\n",
       "      <td>PF02966</td>\n",
       "      <td>NaN</td>\n",
       "      <td>GXGXG; Glutamate synthase, alpha subunit, C-te...</td>\n",
       "    </tr>\n",
       "    <tr>\n",
       "      <th>42</th>\n",
       "      <td>PF00012</td>\n",
       "      <td>NaN</td>\n",
       "      <td>2OG-FeII_Oxy_4</td>\n",
       "    </tr>\n",
       "    <tr>\n",
       "      <th>43</th>\n",
       "      <td>PF00319</td>\n",
       "      <td>NaN</td>\n",
       "      <td>Actin; Actin family</td>\n",
       "    </tr>\n",
       "    <tr>\n",
       "      <th>44</th>\n",
       "      <td>PF01920</td>\n",
       "      <td>NaN</td>\n",
       "      <td>E1_UFD; Ubiquitin-activating enzyme E1, C-term...</td>\n",
       "    </tr>\n",
       "    <tr>\n",
       "      <th>45</th>\n",
       "      <td>PF03271</td>\n",
       "      <td>NaN</td>\n",
       "      <td>Gti1_Pac2; Gti1/Pac2 family</td>\n",
       "    </tr>\n",
       "    <tr>\n",
       "      <th>46</th>\n",
       "      <td>PF01261</td>\n",
       "      <td>NaN</td>\n",
       "      <td>DER1</td>\n",
       "    </tr>\n",
       "  </tbody>\n",
       "</table>\n",
       "</div>"
      ],
      "text/plain": [
       "   domain-name domain-description_x  \\\n",
       "1      PF13246                  NaN   \n",
       "2      PF00583                  NaN   \n",
       "3      PF00684                  NaN   \n",
       "4      PF02190                  NaN   \n",
       "5      PF00149                  NaN   \n",
       "6      PF03399                  NaN   \n",
       "7      PF16282                  NaN   \n",
       "8      PF01571                  NaN   \n",
       "9      PF03953                  NaN   \n",
       "10     PF03169                  NaN   \n",
       "11     PF02269                  NaN   \n",
       "12     PF03801                  NaN   \n",
       "13     PF03801                  NaN   \n",
       "14     PF00633                  NaN   \n",
       "15     PF02541                  NaN   \n",
       "16     PF01851                  NaN   \n",
       "17     PF05793                  NaN   \n",
       "18     PF01399                  NaN   \n",
       "19     PF04048                  NaN   \n",
       "20     PF01423                  NaN   \n",
       "21     PF00022                  NaN   \n",
       "22     PF02146                  NaN   \n",
       "23     PF02146                  NaN   \n",
       "24     PF05179                  NaN   \n",
       "25     PF00682                  NaN   \n",
       "26     PF04981                  NaN   \n",
       "27     PF05032                  NaN   \n",
       "28     PF12709                  NaN   \n",
       "29     PF01025                  NaN   \n",
       "30     PF03874                  NaN   \n",
       "31     PF03874                  NaN   \n",
       "32     PF09439                  NaN   \n",
       "33     PF09439                  NaN   \n",
       "34     PF05875                  NaN   \n",
       "35     PF05875                  NaN   \n",
       "36     PF09295                  NaN   \n",
       "37     PF09729                  NaN   \n",
       "38     PF00318                  NaN   \n",
       "39     PF02213                  NaN   \n",
       "40     PF02207                  NaN   \n",
       "41     PF02966                  NaN   \n",
       "42     PF00012                  NaN   \n",
       "43     PF00319                  NaN   \n",
       "44     PF01920                  NaN   \n",
       "45     PF03271                  NaN   \n",
       "46     PF01261                  NaN   \n",
       "\n",
       "                                 domain-description_y  \n",
       "1   TPK_B1_binding; Thiamin pyrophosphokinase, vit...  \n",
       "2                      BRF1; Brf1, TBP-binding domain  \n",
       "3   CDP-OH_P_transf; CDP-alcohol phosphatidyltrans...  \n",
       "4             Elf1; Transcription elongation factor 1  \n",
       "5   AIM3; Altered inheritance of mitochondria prot...  \n",
       "6                                              HEAT_2  \n",
       "7                      YjeF_N; YjeF N-terminal domain  \n",
       "8             DUF2401; Cell wall protein YJL171C/Tos1  \n",
       "9   IMS_C; DNA polymerase, Y-family, little finger...  \n",
       "10            Glyco_transf_34; Glycosyltransferase 34  \n",
       "11      FAD-oxidase_C; FAD-linked oxidase, C-terminal  \n",
       "12  HisKA; Signal transduction histidine kinase, d...  \n",
       "13  HisKA; Signal transduction histidine kinase, d...  \n",
       "14                            CAF1; Ribonuclease CAF1  \n",
       "15           Fe-ADH; Alcohol dehydrogenase, iron-type  \n",
       "16  DnaJ_CXXCXGXG; Heat shock protein DnaJ, cystei...  \n",
       "17                NTR2; Pre-mRNA-splicing factor Ntr2  \n",
       "18  DNA_pol_B; DNA-directed DNA polymerase, family...  \n",
       "19  Ist1; Vacuolar protein sorting-associated prot...  \n",
       "20  DNA_topoisoIV; DNA topoisomerase, type IIA, su...  \n",
       "21  40S_S4_C; 40S ribosomal protein S4, C-terminal...  \n",
       "22  ETF; Electron transfer flavoprotein, alpha/bet...  \n",
       "23  ETF; Electron transfer flavoprotein, alpha/bet...  \n",
       "24          Mob1_phocein; MOB kinase activator family  \n",
       "25  CDC73_C; Cell division control protein 73, C-t...  \n",
       "26  Metallophos; Calcineurin-like phosphoesterase ...  \n",
       "27                MgsA_C; MgsA AAA+ ATPase C-terminal  \n",
       "28  Spt5_N; Spt5 transcription elongation factor, ...  \n",
       "29                     Chalcone_2; Chalcone isomerase  \n",
       "30          Hydantoinase_A; Hydantoinase/oxoprolinase  \n",
       "31          Hydantoinase_A; Hydantoinase/oxoprolinase  \n",
       "32        Rep_fac_C; Replication factor C, C-terminal  \n",
       "33        Rep_fac_C; Replication factor C, C-terminal  \n",
       "34  NatB_MDM20; N-acetyltransferase B complex, non...  \n",
       "35  NatB_MDM20; N-acetyltransferase B complex, non...  \n",
       "36        Rad52_Rad22; DNA repair protein Rad52/59/22  \n",
       "37              Ribosomal_L10; Ribosomal protein L10P  \n",
       "38  Aconitase_C; Aconitase A/isopropylmalate dehyd...  \n",
       "39             Erf4; Golgin subfamily A member 7/ERF4  \n",
       "40                     Enolase_N; Enolase, N-terminal  \n",
       "41  GXGXG; Glutamate synthase, alpha subunit, C-te...  \n",
       "42                                     2OG-FeII_Oxy_4  \n",
       "43                                Actin; Actin family  \n",
       "44  E1_UFD; Ubiquitin-activating enzyme E1, C-term...  \n",
       "45                        Gti1_Pac2; Gti1/Pac2 family  \n",
       "46                                               DER1  "
      ]
     },
     "execution_count": 30,
     "metadata": {},
     "output_type": "execute_result"
    }
   ],
   "source": [
    "only_nsl_pd=pd.merge(repeated_features_sl,repeated_features_nsl,how='right',on=['domain-name'])\n",
    "data_only_nsl = only_nsl_pd[pd.isnull(only_nsl_pd['domain-description_x'])]\n",
    "data_only_nsl"
   ]
  },
  {
   "cell_type": "code",
   "execution_count": 31,
   "metadata": {
    "execution": {
     "iopub.execute_input": "2020-07-17T16:26:53.505820Z",
     "iopub.status.busy": "2020-07-17T16:26:53.505338Z",
     "iopub.status.idle": "2020-07-17T16:26:53.509481Z",
     "shell.execute_reply": "2020-07-17T16:26:53.509910Z"
    }
   },
   "outputs": [
    {
     "data": {
      "text/html": [
       "<div>\n",
       "<style scoped>\n",
       "    .dataframe tbody tr th:only-of-type {\n",
       "        vertical-align: middle;\n",
       "    }\n",
       "\n",
       "    .dataframe tbody tr th {\n",
       "        vertical-align: top;\n",
       "    }\n",
       "\n",
       "    .dataframe thead th {\n",
       "        text-align: right;\n",
       "    }\n",
       "</style>\n",
       "<table border=\"1\" class=\"dataframe\">\n",
       "  <thead>\n",
       "    <tr style=\"text-align: right;\">\n",
       "      <th></th>\n",
       "      <th>domain-name</th>\n",
       "      <th>domain-description_x</th>\n",
       "      <th>domain-description_y</th>\n",
       "    </tr>\n",
       "  </thead>\n",
       "  <tbody>\n",
       "    <tr>\n",
       "      <th>0</th>\n",
       "      <td>PF03126</td>\n",
       "      <td>Glyco_hydro_31; Glycoside hydrolase family 31</td>\n",
       "      <td>Glyco_hydro_31; Glycoside hydrolase family 31</td>\n",
       "    </tr>\n",
       "  </tbody>\n",
       "</table>\n",
       "</div>"
      ],
      "text/plain": [
       "  domain-name                           domain-description_x  \\\n",
       "0     PF03126  Glyco_hydro_31; Glycoside hydrolase family 31   \n",
       "\n",
       "                            domain-description_y  \n",
       "0  Glyco_hydro_31; Glycoside hydrolase family 31  "
      ]
     },
     "execution_count": 31,
     "metadata": {},
     "output_type": "execute_result"
    }
   ],
   "source": [
    "shared_domains_pd=pd.merge(repeated_features_sl,repeated_features_nsl,how='inner',on=['domain-name'])\n",
    "shared_domains_pd\n"
   ]
  },
  {
   "cell_type": "code",
   "execution_count": 32,
   "metadata": {
    "execution": {
     "iopub.execute_input": "2020-07-17T16:26:53.522609Z",
     "iopub.status.busy": "2020-07-17T16:26:53.518996Z",
     "iopub.status.idle": "2020-07-17T16:26:54.734843Z",
     "shell.execute_reply": "2020-07-17T16:26:54.734449Z"
    }
   },
   "outputs": [
    {
     "data": {
      "text/plain": [
       "(0.0, 0.2)"
      ]
     },
     "execution_count": 32,
     "metadata": {},
     "output_type": "execute_result"
    },
    {
     "data": {
      "image/png": "[encoded data removed]",
      "text/plain": [
       "<Figure size 432x288 with 1 Axes>"
      ]
     },
     "metadata": {
      "filenames": {
       "image/png": "/home/runner/work/jupyter-book/jupyter-book/mini_book/docs/_build/jupyter_execute/prot_domains2lethality-FEATURES-POSTPROCESSING_47_1.png"
      },
      "needs_background": "light"
     },
     "output_type": "display_data"
    }
   ],
   "source": [
    "a_sl=x_sl.iloc[:,np.sort(df_sl.iloc[:,1])]\n",
    "a_sl.describe().loc['mean'].hist(bins=8),\n",
    "a_sl.describe().loc['std'].hist(bins=8,alpha=0.4)\n",
    "plt.xlim([0,0.2])"
   ]
  },
  {
   "cell_type": "code",
   "execution_count": 33,
   "metadata": {
    "execution": {
     "iopub.execute_input": "2020-07-17T16:26:54.746825Z",
     "iopub.status.busy": "2020-07-17T16:26:54.743023Z",
     "iopub.status.idle": "2020-07-17T16:26:55.946117Z",
     "shell.execute_reply": "2020-07-17T16:26:55.945640Z"
    }
   },
   "outputs": [
    {
     "data": {
      "text/plain": [
       "(0.0, 0.2)"
      ]
     },
     "execution_count": 33,
     "metadata": {},
     "output_type": "execute_result"
    },
    {
     "data": {
      "image/png": "[encoded data removed]",
      "text/plain": [
       "<Figure size 432x288 with 1 Axes>"
      ]
     },
     "metadata": {
      "filenames": {
       "image/png": "/home/runner/work/jupyter-book/jupyter-book/mini_book/docs/_build/jupyter_execute/prot_domains2lethality-FEATURES-POSTPROCESSING_48_1.png"
      },
      "needs_background": "light"
     },
     "output_type": "display_data"
    }
   ],
   "source": [
    "a_nsl=x_nsl.iloc[:,np.sort(df_nsl.iloc[:,1])]\n",
    "a_nsl.describe().loc['mean'].hist(bins=8),\n",
    "a_nsl.describe().loc['std'].hist(bins=8,alpha=0.4)\n",
    "plt.xlim([0,0.2])"
   ]
  },
  {
   "cell_type": "markdown",
   "metadata": {},
   "source": [
    "### Proof of concept with *BEM1*\n",
    "\n",
    "- Gather the domains of SL and nSL pairs from BEM1\n",
    "- Check if the domains for the SL and nSL pairs are inside the most important domains after PCA."
   ]
  },
  {
   "cell_type": "code",
   "execution_count": 34,
   "metadata": {
    "execution": {
     "iopub.execute_input": "2020-07-17T16:26:55.953574Z",
     "iopub.status.busy": "2020-07-17T16:26:55.953097Z",
     "iopub.status.idle": "2020-07-17T16:26:55.955990Z",
     "shell.execute_reply": "2020-07-17T16:26:55.956408Z"
    }
   },
   "outputs": [],
   "source": [
    "domains_bem1=data_domains[data_domains['name']=='BEM1']['domain-descrip']\n",
    "sl_bem1=data_sl[data_sl['gene-query-name']=='BEM1']['gene-target-name']"
   ]
  },
  {
   "cell_type": "code",
   "execution_count": 35,
   "metadata": {
    "execution": {
     "iopub.execute_input": "2020-07-17T16:26:55.960678Z",
     "iopub.status.busy": "2020-07-17T16:26:55.960175Z",
     "iopub.status.idle": "2020-07-17T16:26:55.964801Z",
     "shell.execute_reply": "2020-07-17T16:26:55.964437Z"
    }
   },
   "outputs": [
    {
     "data": {
      "text/plain": [
       "2846      BEM2\n",
       "2847     CDC24\n",
       "5004      MSB1\n",
       "13777     SMI1\n",
       "13778     BNI1\n",
       "13779     BEM2\n",
       "14385     SKN7\n",
       "Name: gene-target-name, dtype: object"
      ]
     },
     "execution_count": 35,
     "metadata": {},
     "output_type": "execute_result"
    }
   ],
   "source": [
    "sl_bem1"
   ]
  },
  {
   "cell_type": "code",
   "execution_count": 36,
   "metadata": {
    "execution": {
     "iopub.execute_input": "2020-07-17T16:26:55.979012Z",
     "iopub.status.busy": "2020-07-17T16:26:55.978019Z",
     "iopub.status.idle": "2020-07-17T16:26:55.981452Z",
     "shell.execute_reply": "2020-07-17T16:26:55.980970Z"
    }
   },
   "outputs": [
    {
     "data": {
      "text/html": [
       "<div>\n",
       "<style scoped>\n",
       "    .dataframe tbody tr th:only-of-type {\n",
       "        vertical-align: middle;\n",
       "    }\n",
       "\n",
       "    .dataframe tbody tr th {\n",
       "        vertical-align: top;\n",
       "    }\n",
       "\n",
       "    .dataframe thead th {\n",
       "        text-align: right;\n",
       "    }\n",
       "</style>\n",
       "<table border=\"1\" class=\"dataframe\">\n",
       "  <thead>\n",
       "    <tr style=\"text-align: right;\">\n",
       "      <th></th>\n",
       "      <th>gene-query</th>\n",
       "      <th>gene-target</th>\n",
       "      <th>gene-query-name</th>\n",
       "      <th>gene-target-name</th>\n",
       "      <th>gene-query-description</th>\n",
       "      <th>gene-target-description</th>\n",
       "      <th>interaction-type</th>\n",
       "      <th>paper-source</th>\n",
       "    </tr>\n",
       "  </thead>\n",
       "  <tbody>\n",
       "    <tr>\n",
       "      <th>2846</th>\n",
       "      <td>YBR200W</td>\n",
       "      <td>YER155C</td>\n",
       "      <td>BEM1</td>\n",
       "      <td>BEM2</td>\n",
       "      <td>SRO1|phosphatidylinositol-3-phosphate-binding ...</td>\n",
       "      <td>IPL2|SUP9|TSL1|L000000168</td>\n",
       "      <td>Synthetic Lethality</td>\n",
       "      <td>Peterson J (1994)</td>\n",
       "    </tr>\n",
       "    <tr>\n",
       "      <th>2847</th>\n",
       "      <td>YBR200W</td>\n",
       "      <td>YAL041W</td>\n",
       "      <td>BEM1</td>\n",
       "      <td>CDC24</td>\n",
       "      <td>SRO1|phosphatidylinositol-3-phosphate-binding ...</td>\n",
       "      <td>CLS4|Rho family guanine nucleotide exchange fa...</td>\n",
       "      <td>Synthetic Lethality</td>\n",
       "      <td>Peterson J (1994)</td>\n",
       "    </tr>\n",
       "    <tr>\n",
       "      <th>5004</th>\n",
       "      <td>YBR200W</td>\n",
       "      <td>YOR188W</td>\n",
       "      <td>BEM1</td>\n",
       "      <td>MSB1</td>\n",
       "      <td>SRO1|phosphatidylinositol-3-phosphate-binding ...</td>\n",
       "      <td>L000001184</td>\n",
       "      <td>Synthetic Lethality</td>\n",
       "      <td>Bender A (1991)</td>\n",
       "    </tr>\n",
       "    <tr>\n",
       "      <th>13777</th>\n",
       "      <td>YBR200W</td>\n",
       "      <td>YGR229C</td>\n",
       "      <td>BEM1</td>\n",
       "      <td>SMI1</td>\n",
       "      <td>SRO1|phosphatidylinositol-3-phosphate-binding ...</td>\n",
       "      <td>KNR4|L000000909</td>\n",
       "      <td>Synthetic Lethality</td>\n",
       "      <td>Gorelik M (2011)</td>\n",
       "    </tr>\n",
       "    <tr>\n",
       "      <th>13778</th>\n",
       "      <td>YBR200W</td>\n",
       "      <td>YNL271C</td>\n",
       "      <td>BEM1</td>\n",
       "      <td>BNI1</td>\n",
       "      <td>SRO1|phosphatidylinositol-3-phosphate-binding ...</td>\n",
       "      <td>PPF3|SHE5|formin BNI1|L000000190</td>\n",
       "      <td>Synthetic Lethality</td>\n",
       "      <td>Gorelik M (2011)</td>\n",
       "    </tr>\n",
       "    <tr>\n",
       "      <th>13779</th>\n",
       "      <td>YBR200W</td>\n",
       "      <td>YER155C</td>\n",
       "      <td>BEM1</td>\n",
       "      <td>BEM2</td>\n",
       "      <td>SRO1|phosphatidylinositol-3-phosphate-binding ...</td>\n",
       "      <td>IPL2|SUP9|TSL1|L000000168</td>\n",
       "      <td>Synthetic Lethality</td>\n",
       "      <td>Gorelik M (2011)</td>\n",
       "    </tr>\n",
       "    <tr>\n",
       "      <th>14385</th>\n",
       "      <td>YBR200W</td>\n",
       "      <td>YHR206W</td>\n",
       "      <td>BEM1</td>\n",
       "      <td>SKN7</td>\n",
       "      <td>SRO1|phosphatidylinositol-3-phosphate-binding ...</td>\n",
       "      <td>BRY1|POS9|kinase-regulated stress-responsive t...</td>\n",
       "      <td>Dosage Lethality</td>\n",
       "      <td>Bouquin N (1999)</td>\n",
       "    </tr>\n",
       "  </tbody>\n",
       "</table>\n",
       "</div>"
      ],
      "text/plain": [
       "      gene-query gene-target gene-query-name gene-target-name  \\\n",
       "2846     YBR200W     YER155C            BEM1             BEM2   \n",
       "2847     YBR200W     YAL041W            BEM1            CDC24   \n",
       "5004     YBR200W     YOR188W            BEM1             MSB1   \n",
       "13777    YBR200W     YGR229C            BEM1             SMI1   \n",
       "13778    YBR200W     YNL271C            BEM1             BNI1   \n",
       "13779    YBR200W     YER155C            BEM1             BEM2   \n",
       "14385    YBR200W     YHR206W            BEM1             SKN7   \n",
       "\n",
       "                                  gene-query-description  \\\n",
       "2846   SRO1|phosphatidylinositol-3-phosphate-binding ...   \n",
       "2847   SRO1|phosphatidylinositol-3-phosphate-binding ...   \n",
       "5004   SRO1|phosphatidylinositol-3-phosphate-binding ...   \n",
       "13777  SRO1|phosphatidylinositol-3-phosphate-binding ...   \n",
       "13778  SRO1|phosphatidylinositol-3-phosphate-binding ...   \n",
       "13779  SRO1|phosphatidylinositol-3-phosphate-binding ...   \n",
       "14385  SRO1|phosphatidylinositol-3-phosphate-binding ...   \n",
       "\n",
       "                                 gene-target-description     interaction-type  \\\n",
       "2846                           IPL2|SUP9|TSL1|L000000168  Synthetic Lethality   \n",
       "2847   CLS4|Rho family guanine nucleotide exchange fa...  Synthetic Lethality   \n",
       "5004                                          L000001184  Synthetic Lethality   \n",
       "13777                                    KNR4|L000000909  Synthetic Lethality   \n",
       "13778                   PPF3|SHE5|formin BNI1|L000000190  Synthetic Lethality   \n",
       "13779                          IPL2|SUP9|TSL1|L000000168  Synthetic Lethality   \n",
       "14385  BRY1|POS9|kinase-regulated stress-responsive t...     Dosage Lethality   \n",
       "\n",
       "            paper-source  \n",
       "2846   Peterson J (1994)  \n",
       "2847   Peterson J (1994)  \n",
       "5004     Bender A (1991)  \n",
       "13777   Gorelik M (2011)  \n",
       "13778   Gorelik M (2011)  \n",
       "13779   Gorelik M (2011)  \n",
       "14385   Bouquin N (1999)  "
      ]
     },
     "execution_count": 36,
     "metadata": {},
     "output_type": "execute_result"
    }
   ],
   "source": [
    "data_sl[data_sl['gene-query-name']=='BEM1']"
   ]
  },
  {
   "cell_type": "code",
   "execution_count": null,
   "metadata": {},
   "outputs": [],
   "source": []
  }
 ],
 "metadata": {
  "jupytext": {
   "text_representation": {
    "extension": ".md",
    "format_name": "myst"
   }
  },
  "kernelspec": {
   "display_name": "Python 3",
   "language": "python",
   "name": "python3"
  },
  "language_info": {
   "codemirror_mode": {
    "name": "ipython",
    "version": 3
   },
   "file_extension": ".py",
   "mimetype": "text/x-python",
   "name": "python",
   "nbconvert_exporter": "python",
   "pygments_lexer": "ipython3",
   "version": "3.7.6"
  },
  "source_map": [
   10,
   18,
   29,
   36,
   57,
   66,
   98,
   101,
   105,
   128,
   131,
   135,
   139,
   145,
   178,
   184,
   188,
   206,
   210,
   218,
   222,
   225,
   229,
   234,
   238,
   244,
   248,
   253,
   257,
   267,
   269,
   273,
   306,
   311,
   313,
   317,
   328,
   330,
   334,
   344,
   348,
   358,
   360,
   364,
   381,
   388,
   394,
   400,
   407,
   412,
   419,
   424,
   428,
   432
  ]
 },
 "nbformat": 4,
 "nbformat_minor": 4
}