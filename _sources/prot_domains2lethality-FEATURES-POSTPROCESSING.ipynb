{
 "cells": [
  {
   "cell_type": "markdown",
   "metadata": {},
   "source": [
    "# Feature postprocessing from paper.\n",
    "- Title:  \"Predicting yeast synthetic lethal genetic interactions using protein domains\"\n",
    "- Authors: Bo Li, Feng Luo,School of Computing,Clemson University,Clemson, SC, USA\n",
    "- e-mail: bol, luofeng@clemson.edu\n",
    "- year:2009"
   ]
  },
  {
   "cell_type": "code",
   "execution_count": 1,
   "metadata": {
    "execution": {
     "iopub.execute_input": "2020-08-14T12:56:48.797450Z",
     "iopub.status.busy": "2020-08-14T12:56:48.796864Z",
     "iopub.status.idle": "2020-08-14T12:56:49.442131Z",
     "shell.execute_reply": "2020-08-14T12:56:49.441141Z"
    }
   },
   "outputs": [],
   "source": [
    "import pandas as pd\n",
    "import numpy as np\n",
    "import matplotlib.pyplot as plt\n",
    "from collections import defaultdict \n",
    "import seaborn as sns\n",
    "import matplotlib.cm as cm\n",
    "import scipy as scipy\n",
    "import random"
   ]
  },
  {
   "cell_type": "markdown",
   "metadata": {
    "jupyter": {
     "source_hidden": true
    }
   },
   "source": [
    "### Importing datasets \n",
    "\n",
    "#### Link to the github repo where the datasets to be downloaded:\n",
    "[DOWNLOAD THE DATASETS HERE](https://github.com/leilaicruz/machine-learning-for-yeast/tree/dev_Leila/datasets-for-learning)"
   ]
  },
  {
   "cell_type": "code",
   "execution_count": 2,
   "metadata": {
    "execution": {
     "iopub.execute_input": "2020-08-14T12:56:49.448475Z",
     "iopub.status.busy": "2020-08-14T12:56:49.447267Z",
     "iopub.status.idle": "2020-08-14T12:56:55.737475Z",
     "shell.execute_reply": "2020-08-14T12:56:55.736720Z"
    }
   },
   "outputs": [],
   "source": [
    "import os\n",
    "script_dir = os.path.dirname('__file__') #<-- absolute dir the script is in\n",
    "rel_path_SL = \"datasets/data-synthetic-lethals.xlsx\"\n",
    "rel_path_nSL=\"datasets/data-positive-genetic.xlsx\"\n",
    "rel_path_domains=\"datasets/proteins-domains-from-Pfam.xlsx\"\n",
    "\n",
    "abs_file_path_SL = os.path.join(script_dir, rel_path_SL)\n",
    "abs_file_path_nSL = os.path.join(script_dir, rel_path_nSL)\n",
    "abs_file_path_domains = os.path.join(script_dir, rel_path_domains)\n",
    "\n",
    "# os.chdir('mini_book/docs/') #<-- for binder os.chdir('../')\n",
    "# os.chdir('../')\n",
    "my_path_sl= abs_file_path_SL\n",
    "my_path_non_sl=abs_file_path_nSL\n",
    "my_path_domains=abs_file_path_domains\n",
    "\n",
    "data_sl=pd.read_excel(my_path_sl,header=0)\n",
    "data_domains=pd.read_excel(my_path_domains,header=0,index_col='Unnamed: 0')\n",
    "data_domains=data_domains.dropna()\n",
    "data_nonsl=pd.read_excel(my_path_non_sl,header=0)"
   ]
  },
  {
   "cell_type": "markdown",
   "metadata": {},
   "source": [
    "## Building the feature matrix\n",
    "One matrix for true SL where each row is one pair of SL. Every raw will be a vector of 0,1 or 2 depending on the comparison with the domain list. For row i the jth element = 0 if the jth element of the domain list is not in neither protein A and B, 1, if it is in one of them and 2 if it is in both of them .\n",
    "\n",
    "### Building the list of proteins domains id per protein pair separately :\n",
    "- List of protein A: Search for the Sl/nSL database the query gene name and look in the protein domain database which protein domains id has each of those queries.\n",
    "- List of protein B: Search for the Sl/nSL database the target gene name of the previous query and look in the protein domain database which protein domains id has each of those target genes."
   ]
  },
  {
   "cell_type": "code",
   "execution_count": 3,
   "metadata": {
    "execution": {
     "iopub.execute_input": "2020-08-14T12:56:55.747105Z",
     "iopub.status.busy": "2020-08-14T12:56:55.744540Z",
     "iopub.status.idle": "2020-08-14T12:56:57.296414Z",
     "shell.execute_reply": "2020-08-14T12:56:57.297091Z"
    }
   },
   "outputs": [],
   "source": [
    "# Selecting the meaningful columns in the respective dataset\n",
    "domain_id_list=data_domains['domain-name']\n",
    "query_gene=data_sl['gene-query-name']\n",
    "target_gene=data_sl['gene-target-name']\n",
    "query_gene_nonlethal=data_nonsl['gene-query-name']\n",
    "target_gene_nonlethal=data_nonsl['gene-target-name']\n",
    "\n",
    "\n",
    "\n",
    "# Initialising the arrays\n",
    "protein_a_list=[]\n",
    "protein_b_list=[]\n",
    "protein_a_list_non=[]\n",
    "protein_b_list_non=[]\n",
    "\n",
    "population = np.arange(0,len(data_sl))\n",
    "\n",
    "# For loop for 10000 pairs sampled randomly from the SL/nSl pair list , and creating a big array of proteind domains id per protein pair\n",
    "\n",
    "for m in random.sample(list(population), 500):\n",
    "    protein_a=data_domains[data_domains['name']==query_gene[m]]\n",
    "    protein_b=data_domains[data_domains['name']==target_gene[m]]\n",
    "    protein_a_list.append(protein_a['domain-name'].tolist())\n",
    "    protein_b_list.append(protein_b['domain-name'].tolist())\n",
    "\n",
    "    protein_a_non=data_domains[data_domains['name']==query_gene_nonlethal[m]]\n",
    "    protein_b_non=data_domains[data_domains['name']==target_gene_nonlethal[m]]\n",
    "    protein_a_list_non.append(protein_a_non['domain-name'].tolist())\n",
    "    protein_b_list_non.append(protein_b_non['domain-name'].tolist())"
   ]
  },
  {
   "cell_type": "code",
   "execution_count": 4,
   "metadata": {
    "execution": {
     "iopub.execute_input": "2020-08-14T12:56:57.301098Z",
     "iopub.status.busy": "2020-08-14T12:56:57.300290Z",
     "iopub.status.idle": "2020-08-14T12:56:57.304621Z",
     "shell.execute_reply": "2020-08-14T12:56:57.304990Z"
    }
   },
   "outputs": [
    {
     "name": "stdout",
     "output_type": "stream",
     "text": [
      "We are going to analyze 500 protein pairs, out of 17871 SL protein pairs\n",
      "We are going to analyze 500 protein pairs, out of 43340 positive protein pairs\n"
     ]
    }
   ],
   "source": [
    "print('We are going to analyze',len((protein_a_list)) ,'protein pairs, out of',len(data_sl),'SL protein pairs')\n",
    "print('We are going to analyze',len((protein_a_list_non)) ,'protein pairs, out of',len(data_nonsl),'positive protein pairs')"
   ]
  },
  {
   "cell_type": "markdown",
   "metadata": {},
   "source": [
    "### Postprocessing #1:  Remove protein pairs from study if either protein in the pair does not contain any domain"
   ]
  },
  {
   "cell_type": "code",
   "execution_count": 5,
   "metadata": {
    "execution": {
     "iopub.execute_input": "2020-08-14T12:56:57.312922Z",
     "iopub.status.busy": "2020-08-14T12:56:57.312257Z",
     "iopub.status.idle": "2020-08-14T12:56:57.317290Z",
     "shell.execute_reply": "2020-08-14T12:56:57.316626Z"
    }
   },
   "outputs": [],
   "source": [
    "def remove_empty_domains(protein_list_search,protein_list_pair):\n",
    "    index=[]\n",
    "    for i in np.arange(0,len(protein_list_search)):\n",
    "        if protein_list_search[i]==[] or protein_list_pair[i]==[]:\n",
    "            index.append(i) ## index of empty values for the protein_a_list meaning they dont have any annotated domain\n",
    "\n",
    "    y=[x for x in np.arange(0,len(protein_list_search)) if x not in index] # a list with non empty values from protein_a list\n",
    "\n",
    "    protein_list_search_new=[]\n",
    "    protein_list_pair_new=[]\n",
    "    for i in y:\n",
    "        protein_list_search_new.append(protein_list_search[i])\n",
    "        protein_list_pair_new.append(protein_list_pair[i])\n",
    "    return protein_list_search_new,protein_list_pair_new\n",
    "\n",
    "## evaluating the function\n",
    "\n",
    "protein_a_list_new,protein_b_list_new=remove_empty_domains(protein_a_list,protein_b_list)\n",
    "\n",
    "protein_a_list_non_new,protein_b_list_non_new=remove_empty_domains(protein_a_list_non,protein_b_list_non)"
   ]
  },
  {
   "cell_type": "code",
   "execution_count": 6,
   "metadata": {
    "execution": {
     "iopub.execute_input": "2020-08-14T12:56:57.322190Z",
     "iopub.status.busy": "2020-08-14T12:56:57.321692Z",
     "iopub.status.idle": "2020-08-14T12:56:57.325135Z",
     "shell.execute_reply": "2020-08-14T12:56:57.325502Z"
    }
   },
   "outputs": [
    {
     "name": "stdout",
     "output_type": "stream",
     "text": [
      "The empty domain in the SL were: 82 out of 500 domains\n",
      "The empty domain in the nSL were: 83 out of 500 domains\n"
     ]
    }
   ],
   "source": [
    "print('The empty domain in the SL were:', len(protein_a_list)-len(protein_a_list_new), 'out of', len(protein_a_list),'domains')\n",
    "print('The empty domain in the nSL were:', len(protein_a_list_non)-len(protein_a_list_non_new), 'out of', len(protein_a_list_non),'domains')"
   ]
  },
  {
   "cell_type": "markdown",
   "metadata": {},
   "source": [
    "### Feature engineering: Select from each ordered indexes of domain id list which of them appear once, in both or in any of the domains of each protein pair"
   ]
  },
  {
   "cell_type": "markdown",
   "metadata": {},
   "source": [
    "#### Define function `get_indexes`"
   ]
  },
  {
   "cell_type": "code",
   "execution_count": 7,
   "metadata": {
    "execution": {
     "iopub.execute_input": "2020-08-14T12:56:57.331649Z",
     "iopub.status.busy": "2020-08-14T12:56:57.331105Z",
     "iopub.status.idle": "2020-08-14T12:56:57.333828Z",
     "shell.execute_reply": "2020-08-14T12:56:57.334215Z"
    }
   },
   "outputs": [
    {
     "data": {
      "text/plain": [
       "[1, 2]"
      ]
     },
     "execution_count": 7,
     "metadata": {},
     "output_type": "execute_result"
    }
   ],
   "source": [
    "get_indexes = lambda x, xs: [i for (y, i) in zip(xs, range(len(xs))) if x == y] # a function that give the index of whether a value appear in array or not\n",
    "a=[1,2,2,4,5,6,7,8,9,10]\n",
    "get_indexes(2,a)"
   ]
  },
  {
   "cell_type": "code",
   "execution_count": 8,
   "metadata": {
    "execution": {
     "iopub.execute_input": "2020-08-14T12:56:57.341022Z",
     "iopub.status.busy": "2020-08-14T12:56:57.339897Z",
     "iopub.status.idle": "2020-08-14T12:56:57.341590Z",
     "shell.execute_reply": "2020-08-14T12:56:57.341977Z"
    }
   },
   "outputs": [],
   "source": [
    "def feature_building(protein_a_list_new,protein_b_list_new):\n",
    "    x = np.unique(domain_id_list)\n",
    "    ## To avoid taking repeated domains from one protein of the pairs , lets reduced the domains of each protein from the pairs to their unique members\n",
    "    protein_a_list_unique=[]\n",
    "    protein_b_list_unique=[]\n",
    "    for i in np.arange(0,len(protein_a_list_new)):\n",
    "        protein_a_list_unique.append(np.unique(protein_a_list_new[i]))\n",
    "        protein_b_list_unique.append(np.unique(protein_b_list_new[i]))\n",
    "        \n",
    "    protein_feat_true=np.zeros(shape=(len(x),len(protein_a_list_unique)))\n",
    "    pair_a_b_array=[]\n",
    "    for i in np.arange(0,len(protein_a_list_unique)):\n",
    "        index_a=[]\n",
    "        \n",
    "        pair=[protein_a_list_unique[i],protein_b_list_unique[i]]\n",
    "        pair_a_b=np.concatenate(pair).ravel()\n",
    "        pair_a_b_array.append(pair_a_b)\n",
    "\n",
    "    j=0\n",
    "    for i in pair_a_b_array:  \n",
    "        array,index,counts=np.unique(i,return_index=True,return_counts=True)\n",
    "        \n",
    "        for k,m in zip(counts,array):\n",
    "            if k ==2:\n",
    "                protein_feat_true[get_indexes(m,x),j]=2\n",
    "                \n",
    "            if k==1:\n",
    "                protein_feat_true[get_indexes(m,x),j]=1\n",
    "        j=j+1\n",
    "    return protein_feat_true"
   ]
  },
  {
   "cell_type": "code",
   "execution_count": 9,
   "metadata": {
    "execution": {
     "iopub.execute_input": "2020-08-14T12:56:57.350633Z",
     "iopub.status.busy": "2020-08-14T12:56:57.350156Z",
     "iopub.status.idle": "2020-08-14T12:56:57.985297Z",
     "shell.execute_reply": "2020-08-14T12:56:57.984845Z"
    }
   },
   "outputs": [],
   "source": [
    "protein_feat_true=feature_building(protein_b_list_new=protein_b_list_new,protein_a_list_new=protein_a_list_new)\n",
    "protein_feat_true_pd=pd.DataFrame(protein_feat_true.T)\n",
    "\n",
    "protein_feat_non_true=feature_building(protein_b_list_new=protein_b_list_non_new,protein_a_list_new=protein_a_list_non_new)\n",
    "protein_feat_non_true_pd=pd.DataFrame(protein_feat_non_true.T)"
   ]
  },
  {
   "cell_type": "markdown",
   "metadata": {},
   "source": [
    "### How many ones and twos are in each dataset"
   ]
  },
  {
   "cell_type": "code",
   "execution_count": 10,
   "metadata": {
    "execution": {
     "iopub.execute_input": "2020-08-14T12:56:57.990670Z",
     "iopub.status.busy": "2020-08-14T12:56:57.990190Z",
     "iopub.status.idle": "2020-08-14T12:56:58.077221Z",
     "shell.execute_reply": "2020-08-14T12:56:58.076488Z"
    }
   },
   "outputs": [
    {
     "name": "stdout",
     "output_type": "stream",
     "text": [
      "fraction of twos in the SL array is 1.9771442128988888e-05\n",
      "fraction of ones in the SL array is 0.0010004349717268378\n",
      "fraction of twos in the PI array is 8.720296490080662e-06\n",
      "fraction of ones in the PI array is 0.000879957191271776\n"
     ]
    }
   ],
   "source": [
    "index_2_true=protein_feat_true_pd.where(protein_feat_true_pd==2)\n",
    "index_2_true_count=index_2_true.count(axis=1).sum()\n",
    "\n",
    "index_1_true=protein_feat_true_pd.where(protein_feat_true_pd==1)\n",
    "index_1_true_count=index_1_true.count(axis=1).sum()\n",
    "\n",
    "index_2_nontrue=protein_feat_non_true_pd.where(protein_feat_non_true_pd==2)\n",
    "index_2_nontrue_count=index_2_nontrue.count(axis=1).sum()\n",
    "\n",
    "index_1_nontrue=protein_feat_non_true_pd.where(protein_feat_non_true_pd==1)\n",
    "index_1_nontrue_count=index_1_nontrue.count(axis=1).sum()\n",
    "\n",
    "\n",
    "print('fraction of twos in the SL array is',index_2_true_count/(len(protein_feat_true_pd.index)*len(protein_feat_true_pd.columns)))\n",
    "print('fraction of ones in the SL array is',index_1_true_count/(len(protein_feat_true_pd.index)*len(protein_feat_true_pd.columns)))\n",
    "print('fraction of twos in the PI array is',index_2_nontrue_count/(len(protein_feat_non_true_pd.index)*len(protein_feat_non_true_pd.columns)))\n",
    "print('fraction of ones in the PI array is',index_1_nontrue_count/(len(protein_feat_non_true_pd.index)*len(protein_feat_non_true_pd.columns)))"
   ]
  },
  {
   "cell_type": "markdown",
   "metadata": {},
   "source": [
    "#### Bar plot to visualize these numbers"
   ]
  },
  {
   "cell_type": "code",
   "execution_count": 11,
   "metadata": {
    "execution": {
     "iopub.execute_input": "2020-08-14T12:56:58.094122Z",
     "iopub.status.busy": "2020-08-14T12:56:58.088302Z",
     "iopub.status.idle": "2020-08-14T12:56:58.525117Z",
     "shell.execute_reply": "2020-08-14T12:56:58.524712Z"
    }
   },
   "outputs": [
    {
     "data": {
      "text/plain": [
       "([0, 1, 2, 3],\n",
       " [Text(0, 0, ''), Text(0, 0, ''), Text(0, 0, ''), Text(0, 0, '')])"
      ]
     },
     "execution_count": 11,
     "metadata": {},
     "output_type": "execute_result"
    },
    {
     "data": {
      "image/png": "[encoded data removed]",
      "text/plain": [
       "<Figure size 432x288 with 1 Axes>"
      ]
     },
     "metadata": {
      "filenames": {
       "image/png": "/home/runner/work/jupyter-book/jupyter-book/mini_book/docs/_build/jupyter_execute/prot_domains2lethality-FEATURES-POSTPROCESSING_18_1.png"
      },
      "needs_background": "light"
     },
     "output_type": "display_data"
    }
   ],
   "source": [
    "plt.bar(['fraction of 2 in the nSL','fraction of 1 in the nSL'],[index_2_nontrue_count/(len(protein_feat_non_true_pd.index)*len(protein_feat_non_true_pd.columns)),index_1_nontrue_count/(len(protein_feat_non_true_pd.index)*len(protein_feat_non_true_pd.columns))],alpha=0.6,color=['blue','lightblue']), \n",
    "\n",
    "plt.bar(['fraction of 2 in SL ','fraction of 1 in SL'],[index_2_true_count/(len(protein_feat_true_pd.index)*len(protein_feat_true_pd.columns)),index_1_true_count/(len(protein_feat_true_pd.index)*len(protein_feat_true_pd.columns))],alpha=0.6,color=['coral','lightcoral'])\n",
    "\n",
    "plt.ylabel('Fraction from the population')\n",
    "plt.yscale('log')\n",
    "plt.xticks(rotation=40)"
   ]
  },
  {
   "cell_type": "markdown",
   "metadata": {},
   "source": [
    "#### Adding the labels(response variables) to each dataset"
   ]
  },
  {
   "cell_type": "code",
   "execution_count": 12,
   "metadata": {
    "execution": {
     "iopub.execute_input": "2020-08-14T12:56:58.530970Z",
     "iopub.status.busy": "2020-08-14T12:56:58.530485Z",
     "iopub.status.idle": "2020-08-14T12:56:58.533427Z",
     "shell.execute_reply": "2020-08-14T12:56:58.533894Z"
    }
   },
   "outputs": [],
   "source": [
    "protein_feat_true_pd['lethality']=np.ones(shape=(len(protein_a_list_new)))\n",
    "protein_feat_non_true_pd['lethality']=np.zeros(shape=(len(protein_a_list_non_new)))"
   ]
  },
  {
   "cell_type": "markdown",
   "metadata": {},
   "source": [
    "#### Joining both datasets"
   ]
  },
  {
   "cell_type": "code",
   "execution_count": 13,
   "metadata": {
    "execution": {
     "iopub.execute_input": "2020-08-14T12:56:58.537665Z",
     "iopub.status.busy": "2020-08-14T12:56:58.537168Z",
     "iopub.status.idle": "2020-08-14T12:56:58.570069Z",
     "shell.execute_reply": "2020-08-14T12:56:58.570429Z"
    }
   },
   "outputs": [
    {
     "name": "stdout",
     "output_type": "stream",
     "text": [
      "The number of features are: 3026\n",
      "The number of samples are: 835\n"
     ]
    }
   ],
   "source": [
    "feature_post=pd.concat([protein_feat_true_pd,protein_feat_non_true_pd],axis=0)\n",
    "feature_post=feature_post.set_index(np.arange(0,len(protein_a_list_new)+len(protein_a_list_non_new)))\n",
    "print('The number of features are:',feature_post.shape[1])\n",
    "print('The number of samples are:',feature_post.shape[0])"
   ]
  },
  {
   "cell_type": "markdown",
   "metadata": {},
   "source": [
    "### Postprocessing and exploration of the feature matrix of both datasets"
   ]
  },
  {
   "cell_type": "code",
   "execution_count": 14,
   "metadata": {
    "execution": {
     "iopub.execute_input": "2020-08-14T12:56:58.585915Z",
     "iopub.status.busy": "2020-08-14T12:56:58.584081Z",
     "iopub.status.idle": "2020-08-14T12:57:02.811644Z",
     "shell.execute_reply": "2020-08-14T12:57:02.810554Z"
    }
   },
   "outputs": [],
   "source": [
    "mean=feature_post.T.describe().loc['mean']\n",
    "std=feature_post.T.describe().loc['std']\n",
    "lethality=feature_post['lethality']\n",
    "\n",
    "corr_keys=pd.concat([mean,std,lethality],axis=1)"
   ]
  },
  {
   "cell_type": "markdown",
   "metadata": {},
   "source": [
    "### Viz of the stats"
   ]
  },
  {
   "cell_type": "code",
   "execution_count": 15,
   "metadata": {
    "execution": {
     "iopub.execute_input": "2020-08-14T12:57:02.829077Z",
     "iopub.status.busy": "2020-08-14T12:57:02.825323Z",
     "iopub.status.idle": "2020-08-14T12:57:04.402085Z",
     "shell.execute_reply": "2020-08-14T12:57:04.402495Z"
    }
   },
   "outputs": [
    {
     "data": {
      "text/plain": [
       "Text(0.5, 1.08, 'Pairplot to see data dependencies with Lethality')"
      ]
     },
     "execution_count": 15,
     "metadata": {},
     "output_type": "execute_result"
    },
    {
     "data": {
      "image/png": "[encoded data removed]",
      "text/plain": [
       "<Figure size 412x360 with 6 Axes>"
      ]
     },
     "metadata": {
      "filenames": {
       "image/png": "/home/runner/work/jupyter-book/jupyter-book/mini_book/docs/_build/jupyter_execute/prot_domains2lethality-FEATURES-POSTPROCESSING_26_1.png"
      },
      "needs_background": "light"
     },
     "output_type": "display_data"
    }
   ],
   "source": [
    "pair=sns.pairplot(corr_keys,hue='lethality',diag_kind='kde',kind='reg',palette='colorblind')\n",
    "pair.fig.suptitle('Pairplot to see data dependencies with Lethality',y=1.08)"
   ]
  },
  {
   "cell_type": "code",
   "execution_count": 16,
   "metadata": {
    "execution": {
     "iopub.execute_input": "2020-08-14T12:57:04.412285Z",
     "iopub.status.busy": "2020-08-14T12:57:04.411806Z",
     "iopub.status.idle": "2020-08-14T12:57:04.415928Z",
     "shell.execute_reply": "2020-08-14T12:57:04.415047Z"
    }
   },
   "outputs": [],
   "source": [
    "X, y = feature_post.drop(columns=[\"lethality\"]), feature_post[\"lethality\"]"
   ]
  },
  {
   "cell_type": "code",
   "execution_count": 17,
   "metadata": {
    "execution": {
     "iopub.execute_input": "2020-08-14T12:57:04.420138Z",
     "iopub.status.busy": "2020-08-14T12:57:04.419449Z",
     "iopub.status.idle": "2020-08-14T12:57:04.618858Z",
     "shell.execute_reply": "2020-08-14T12:57:04.618034Z"
    }
   },
   "outputs": [],
   "source": [
    "from sklearn.preprocessing import StandardScaler\n",
    "scaler = StandardScaler()\n",
    "x_sl=protein_feat_true_pd.drop(columns=['lethality'])\n",
    "x_nsl=protein_feat_non_true_pd.drop(columns=['lethality'])\n",
    "\n",
    "X_sl_scaled = scaler.fit_transform(x_sl)\n",
    "X_nsl_scaled = scaler.fit_transform(x_nsl)"
   ]
  },
  {
   "cell_type": "code",
   "execution_count": 18,
   "metadata": {
    "execution": {
     "iopub.execute_input": "2020-08-14T12:57:04.622684Z",
     "iopub.status.busy": "2020-08-14T12:57:04.622158Z",
     "iopub.status.idle": "2020-08-14T12:57:04.627083Z",
     "shell.execute_reply": "2020-08-14T12:57:04.627480Z"
    }
   },
   "outputs": [
    {
     "data": {
      "text/plain": [
       "(418, 3025)"
      ]
     },
     "execution_count": 18,
     "metadata": {},
     "output_type": "execute_result"
    }
   ],
   "source": [
    "np.shape(X_sl_scaled)"
   ]
  },
  {
   "cell_type": "markdown",
   "metadata": {},
   "source": [
    "## How redundant are each of the protein domains?"
   ]
  },
  {
   "cell_type": "code",
   "execution_count": 19,
   "metadata": {
    "execution": {
     "iopub.execute_input": "2020-08-14T12:57:04.632826Z",
     "iopub.status.busy": "2020-08-14T12:57:04.632338Z",
     "iopub.status.idle": "2020-08-14T12:57:04.636028Z",
     "shell.execute_reply": "2020-08-14T12:57:04.635299Z"
    }
   },
   "outputs": [],
   "source": [
    "def PCA_component_contribution(scaled_matrix,original_data):\n",
    "    from sklearn.decomposition import PCA\n",
    "\n",
    "    model = PCA(0.95).fit(scaled_matrix)\n",
    "    ## apply dimensionality reduction to X_train\n",
    "    output_pca = model.transform(scaled_matrix)\n",
    "    \n",
    "    total=sum(model.explained_variance_)\n",
    "\n",
    "\n",
    "   \n",
    "    # number of components , that it will be the number of main axes times the number of original components \n",
    "    n_pcs= model.components_.shape[0] # the amount of non redundant protein domains \n",
    "\n",
    "    # get the index of the most important feature on EACH component\n",
    "    # LIST COMPREHENSION HERE\n",
    "    most_important = [np.abs(model.components_[i]).argmax() for i in range(n_pcs)]\n",
    "\n",
    "    initial_feature_names = original_data.columns\n",
    "    # get the names\n",
    "    most_important_names = [initial_feature_names[most_important[i]] for i in range(n_pcs)]\n",
    "    \n",
    "\n",
    "    # LIST COMPREHENSION HERE AGAIN\n",
    "    dic = {'PC{}'.format(i): most_important_names[i] for i in range(n_pcs)}\n",
    "\n",
    "    # build the dataframe\n",
    "    df = pd.DataFrame(dic.items(),columns=['pca-component','domain-number'])\n",
    "\n",
    "    return df,model.components_"
   ]
  },
  {
   "cell_type": "code",
   "execution_count": 20,
   "metadata": {
    "execution": {
     "iopub.execute_input": "2020-08-14T12:57:04.639456Z",
     "iopub.status.busy": "2020-08-14T12:57:04.638897Z",
     "iopub.status.idle": "2020-08-14T12:57:05.351246Z",
     "shell.execute_reply": "2020-08-14T12:57:05.351850Z"
    }
   },
   "outputs": [],
   "source": [
    "df_sl,components_pca_nsl=PCA_component_contribution(X_nsl_scaled,x_nsl)\n",
    "df_nsl,components_pca_sl=PCA_component_contribution(X_sl_scaled,x_sl)"
   ]
  },
  {
   "cell_type": "code",
   "execution_count": 21,
   "metadata": {
    "execution": {
     "iopub.execute_input": "2020-08-14T12:57:05.354697Z",
     "iopub.status.busy": "2020-08-14T12:57:05.353777Z",
     "iopub.status.idle": "2020-08-14T12:57:05.363225Z",
     "shell.execute_reply": "2020-08-14T12:57:05.363936Z"
    }
   },
   "outputs": [
    {
     "data": {
      "text/html": [
       "<div>\n",
       "<style scoped>\n",
       "    .dataframe tbody tr th:only-of-type {\n",
       "        vertical-align: middle;\n",
       "    }\n",
       "\n",
       "    .dataframe tbody tr th {\n",
       "        vertical-align: top;\n",
       "    }\n",
       "\n",
       "    .dataframe thead th {\n",
       "        text-align: right;\n",
       "    }\n",
       "</style>\n",
       "<table border=\"1\" class=\"dataframe\">\n",
       "  <thead>\n",
       "    <tr style=\"text-align: right;\">\n",
       "      <th></th>\n",
       "      <th>pca-component</th>\n",
       "      <th>domain-number</th>\n",
       "    </tr>\n",
       "  </thead>\n",
       "  <tbody>\n",
       "    <tr>\n",
       "      <th>0</th>\n",
       "      <td>PC0</td>\n",
       "      <td>540</td>\n",
       "    </tr>\n",
       "    <tr>\n",
       "      <th>1</th>\n",
       "      <td>PC1</td>\n",
       "      <td>1571</td>\n",
       "    </tr>\n",
       "    <tr>\n",
       "      <th>2</th>\n",
       "      <td>PC2</td>\n",
       "      <td>192</td>\n",
       "    </tr>\n",
       "    <tr>\n",
       "      <th>3</th>\n",
       "      <td>PC3</td>\n",
       "      <td>858</td>\n",
       "    </tr>\n",
       "    <tr>\n",
       "      <th>4</th>\n",
       "      <td>PC4</td>\n",
       "      <td>689</td>\n",
       "    </tr>\n",
       "  </tbody>\n",
       "</table>\n",
       "</div>"
      ],
      "text/plain": [
       "  pca-component  domain-number\n",
       "0           PC0            540\n",
       "1           PC1           1571\n",
       "2           PC2            192\n",
       "3           PC3            858\n",
       "4           PC4            689"
      ]
     },
     "execution_count": 21,
     "metadata": {},
     "output_type": "execute_result"
    }
   ],
   "source": [
    "df_sl.head()"
   ]
  },
  {
   "cell_type": "markdown",
   "metadata": {},
   "source": [
    "## which are the shared domains between nSL and SL pairs , in the PCA reduced samples"
   ]
  },
  {
   "cell_type": "code",
   "execution_count": 22,
   "metadata": {
    "execution": {
     "iopub.execute_input": "2020-08-14T12:57:05.366574Z",
     "iopub.status.busy": "2020-08-14T12:57:05.365741Z",
     "iopub.status.idle": "2020-08-14T12:57:05.392513Z",
     "shell.execute_reply": "2020-08-14T12:57:05.393115Z"
    }
   },
   "outputs": [
    {
     "data": {
      "text/html": [
       "<div>\n",
       "<style scoped>\n",
       "    .dataframe tbody tr th:only-of-type {\n",
       "        vertical-align: middle;\n",
       "    }\n",
       "\n",
       "    .dataframe tbody tr th {\n",
       "        vertical-align: top;\n",
       "    }\n",
       "\n",
       "    .dataframe thead th {\n",
       "        text-align: right;\n",
       "    }\n",
       "</style>\n",
       "<table border=\"1\" class=\"dataframe\">\n",
       "  <thead>\n",
       "    <tr style=\"text-align: right;\">\n",
       "      <th></th>\n",
       "      <th>pca-component_x</th>\n",
       "      <th>domain-number</th>\n",
       "      <th>pca-component_y</th>\n",
       "      <th>domain-description</th>\n",
       "    </tr>\n",
       "  </thead>\n",
       "  <tbody>\n",
       "    <tr>\n",
       "      <th>0</th>\n",
       "      <td>PC4</td>\n",
       "      <td>689</td>\n",
       "      <td>PC1</td>\n",
       "      <td>DUF3128; Protein of unknown function DUF3128</td>\n",
       "    </tr>\n",
       "    <tr>\n",
       "      <th>1</th>\n",
       "      <td>PC14</td>\n",
       "      <td>295</td>\n",
       "      <td>PC12</td>\n",
       "      <td>Beta_elim_lyase; Aromatic amino acid beta-elim...</td>\n",
       "    </tr>\n",
       "    <tr>\n",
       "      <th>2</th>\n",
       "      <td>PC23</td>\n",
       "      <td>463</td>\n",
       "      <td>PC26</td>\n",
       "      <td>Chitin_synth_1N; Chitin synthase N-terminal</td>\n",
       "    </tr>\n",
       "    <tr>\n",
       "      <th>3</th>\n",
       "      <td>PC26</td>\n",
       "      <td>1354</td>\n",
       "      <td>PC35</td>\n",
       "      <td>MBF1; Multiprotein bridging factor 1, N-terminal</td>\n",
       "    </tr>\n",
       "    <tr>\n",
       "      <th>4</th>\n",
       "      <td>PC27</td>\n",
       "      <td>341</td>\n",
       "      <td>PC15</td>\n",
       "      <td>CDP-OH_P_transf; CDP-alcohol phosphatidyltrans...</td>\n",
       "    </tr>\n",
       "    <tr>\n",
       "      <th>5</th>\n",
       "      <td>PC28</td>\n",
       "      <td>247</td>\n",
       "      <td>PC147</td>\n",
       "      <td>Autophagy_act_C; Autophagy-related protein 3</td>\n",
       "    </tr>\n",
       "    <tr>\n",
       "      <th>6</th>\n",
       "      <td>PC33</td>\n",
       "      <td>1720</td>\n",
       "      <td>PC59</td>\n",
       "      <td>PDT; Prephenate dehydratase</td>\n",
       "    </tr>\n",
       "    <tr>\n",
       "      <th>7</th>\n",
       "      <td>PC36</td>\n",
       "      <td>446</td>\n",
       "      <td>PC74</td>\n",
       "      <td>Catalase; Catalase core domain</td>\n",
       "    </tr>\n",
       "    <tr>\n",
       "      <th>8</th>\n",
       "      <td>PC37</td>\n",
       "      <td>356</td>\n",
       "      <td>PC224</td>\n",
       "      <td>CHZ; Histone chaperone domain CHZ</td>\n",
       "    </tr>\n",
       "    <tr>\n",
       "      <th>9</th>\n",
       "      <td>PC40</td>\n",
       "      <td>983</td>\n",
       "      <td>PC31</td>\n",
       "      <td>GHMP_kinases_N; GHMP kinase N-terminal domain</td>\n",
       "    </tr>\n",
       "    <tr>\n",
       "      <th>10</th>\n",
       "      <td>PC43</td>\n",
       "      <td>983</td>\n",
       "      <td>PC31</td>\n",
       "      <td>GHMP_kinases_N; GHMP kinase N-terminal domain</td>\n",
       "    </tr>\n",
       "    <tr>\n",
       "      <th>11</th>\n",
       "      <td>PC49</td>\n",
       "      <td>1</td>\n",
       "      <td>PC9</td>\n",
       "      <td>14-3-3; 14-3-3 domain</td>\n",
       "    </tr>\n",
       "    <tr>\n",
       "      <th>12</th>\n",
       "      <td>PC51</td>\n",
       "      <td>1</td>\n",
       "      <td>PC9</td>\n",
       "      <td>14-3-3; 14-3-3 domain</td>\n",
       "    </tr>\n",
       "    <tr>\n",
       "      <th>13</th>\n",
       "      <td>PC58</td>\n",
       "      <td>42</td>\n",
       "      <td>PC222</td>\n",
       "      <td>ABC_tran_Xtn; ABC-transporter extension domain</td>\n",
       "    </tr>\n",
       "    <tr>\n",
       "      <th>14</th>\n",
       "      <td>PC65</td>\n",
       "      <td>352</td>\n",
       "      <td>PC11</td>\n",
       "      <td>CH; Calponin homology domain</td>\n",
       "    </tr>\n",
       "    <tr>\n",
       "      <th>15</th>\n",
       "      <td>PC75</td>\n",
       "      <td>20</td>\n",
       "      <td>PC162</td>\n",
       "      <td>AAA_22; AAA+ ATPase domain</td>\n",
       "    </tr>\n",
       "    <tr>\n",
       "      <th>16</th>\n",
       "      <td>PC84</td>\n",
       "      <td>2609</td>\n",
       "      <td>PC210</td>\n",
       "      <td>TP6A_N; Spo11/DNA topoisomerase VI, subunit A,...</td>\n",
       "    </tr>\n",
       "    <tr>\n",
       "      <th>17</th>\n",
       "      <td>PC84</td>\n",
       "      <td>2609</td>\n",
       "      <td>PC211</td>\n",
       "      <td>TP6A_N; Spo11/DNA topoisomerase VI, subunit A,...</td>\n",
       "    </tr>\n",
       "    <tr>\n",
       "      <th>18</th>\n",
       "      <td>PC88</td>\n",
       "      <td>2609</td>\n",
       "      <td>PC210</td>\n",
       "      <td>TP6A_N; Spo11/DNA topoisomerase VI, subunit A,...</td>\n",
       "    </tr>\n",
       "    <tr>\n",
       "      <th>19</th>\n",
       "      <td>PC88</td>\n",
       "      <td>2609</td>\n",
       "      <td>PC211</td>\n",
       "      <td>TP6A_N; Spo11/DNA topoisomerase VI, subunit A,...</td>\n",
       "    </tr>\n",
       "    <tr>\n",
       "      <th>20</th>\n",
       "      <td>PC94</td>\n",
       "      <td>4</td>\n",
       "      <td>PC239</td>\n",
       "      <td>2-oxoacid_dh; 2-oxoacid dehydrogenase acyltran...</td>\n",
       "    </tr>\n",
       "    <tr>\n",
       "      <th>21</th>\n",
       "      <td>PC95</td>\n",
       "      <td>1054</td>\n",
       "      <td>PC139</td>\n",
       "      <td>Glyco_hydro_63; Glycosyl hydrolase family 63, ...</td>\n",
       "    </tr>\n",
       "    <tr>\n",
       "      <th>22</th>\n",
       "      <td>PC97</td>\n",
       "      <td>1106</td>\n",
       "      <td>PC76</td>\n",
       "      <td>HEAT_2</td>\n",
       "    </tr>\n",
       "    <tr>\n",
       "      <th>23</th>\n",
       "      <td>PC97</td>\n",
       "      <td>1106</td>\n",
       "      <td>PC83</td>\n",
       "      <td>HEAT_2</td>\n",
       "    </tr>\n",
       "    <tr>\n",
       "      <th>24</th>\n",
       "      <td>PC120</td>\n",
       "      <td>881</td>\n",
       "      <td>PC137</td>\n",
       "      <td>FHA; Forkhead-associated (FHA) domain</td>\n",
       "    </tr>\n",
       "    <tr>\n",
       "      <th>25</th>\n",
       "      <td>PC129</td>\n",
       "      <td>1097</td>\n",
       "      <td>PC255</td>\n",
       "      <td>HATPase_c_3</td>\n",
       "    </tr>\n",
       "    <tr>\n",
       "      <th>26</th>\n",
       "      <td>PC135</td>\n",
       "      <td>1731</td>\n",
       "      <td>PC18</td>\n",
       "      <td>PFU; PLAA family ubiquitin binding, PFU</td>\n",
       "    </tr>\n",
       "    <tr>\n",
       "      <th>27</th>\n",
       "      <td>PC140</td>\n",
       "      <td>2165</td>\n",
       "      <td>PC186</td>\n",
       "      <td>Ribosomal_L18A; Ribosomal protein 50S-L18Ae/60...</td>\n",
       "    </tr>\n",
       "    <tr>\n",
       "      <th>28</th>\n",
       "      <td>PC144</td>\n",
       "      <td>310</td>\n",
       "      <td>PC276</td>\n",
       "      <td>C1_1; Protein kinase C-like, phorbol ester/dia...</td>\n",
       "    </tr>\n",
       "    <tr>\n",
       "      <th>29</th>\n",
       "      <td>PC144</td>\n",
       "      <td>310</td>\n",
       "      <td>PC280</td>\n",
       "      <td>C1_1; Protein kinase C-like, phorbol ester/dia...</td>\n",
       "    </tr>\n",
       "    <tr>\n",
       "      <th>30</th>\n",
       "      <td>PC145</td>\n",
       "      <td>1498</td>\n",
       "      <td>PC104</td>\n",
       "      <td>MmgE_PrpD; MmgE/PrpD</td>\n",
       "    </tr>\n",
       "    <tr>\n",
       "      <th>31</th>\n",
       "      <td>PC145</td>\n",
       "      <td>1498</td>\n",
       "      <td>PC110</td>\n",
       "      <td>MmgE_PrpD; MmgE/PrpD</td>\n",
       "    </tr>\n",
       "    <tr>\n",
       "      <th>32</th>\n",
       "      <td>PC147</td>\n",
       "      <td>363</td>\n",
       "      <td>PC178</td>\n",
       "      <td>CLP1_P; Polyribonucleotide 5&amp;apos;-hydroxyl-ki...</td>\n",
       "    </tr>\n",
       "    <tr>\n",
       "      <th>33</th>\n",
       "      <td>PC148</td>\n",
       "      <td>1340</td>\n",
       "      <td>PC135</td>\n",
       "      <td>Lysine_decarbox; LOG family</td>\n",
       "    </tr>\n",
       "    <tr>\n",
       "      <th>34</th>\n",
       "      <td>PC164</td>\n",
       "      <td>1410</td>\n",
       "      <td>PC279</td>\n",
       "      <td>MTHFR; Methylenetetrahydrofolate reductase</td>\n",
       "    </tr>\n",
       "    <tr>\n",
       "      <th>35</th>\n",
       "      <td>PC176</td>\n",
       "      <td>283</td>\n",
       "      <td>PC34</td>\n",
       "      <td>BRF1; Brf1, TBP-binding domain</td>\n",
       "    </tr>\n",
       "    <tr>\n",
       "      <th>36</th>\n",
       "      <td>PC184</td>\n",
       "      <td>2054</td>\n",
       "      <td>PC164</td>\n",
       "      <td>RRF; Ribosome recycling factor domain</td>\n",
       "    </tr>\n",
       "    <tr>\n",
       "      <th>37</th>\n",
       "      <td>PC187</td>\n",
       "      <td>1969</td>\n",
       "      <td>PC148</td>\n",
       "      <td>RAI1; RAI1-like</td>\n",
       "    </tr>\n",
       "    <tr>\n",
       "      <th>38</th>\n",
       "      <td>PC187</td>\n",
       "      <td>1969</td>\n",
       "      <td>PC149</td>\n",
       "      <td>RAI1; RAI1-like</td>\n",
       "    </tr>\n",
       "    <tr>\n",
       "      <th>39</th>\n",
       "      <td>PC193</td>\n",
       "      <td>69</td>\n",
       "      <td>PC238</td>\n",
       "      <td>AIRS; PurM-like, N-terminal domain</td>\n",
       "    </tr>\n",
       "    <tr>\n",
       "      <th>40</th>\n",
       "      <td>PC200</td>\n",
       "      <td>1046</td>\n",
       "      <td>PC208</td>\n",
       "      <td>Glyco_hydro_18; Glycoside hydrolase family 18,...</td>\n",
       "    </tr>\n",
       "    <tr>\n",
       "      <th>41</th>\n",
       "      <td>PC200</td>\n",
       "      <td>1046</td>\n",
       "      <td>PC245</td>\n",
       "      <td>Glyco_hydro_18; Glycoside hydrolase family 18,...</td>\n",
       "    </tr>\n",
       "    <tr>\n",
       "      <th>42</th>\n",
       "      <td>PC200</td>\n",
       "      <td>1046</td>\n",
       "      <td>PC270</td>\n",
       "      <td>Glyco_hydro_18; Glycoside hydrolase family 18,...</td>\n",
       "    </tr>\n",
       "    <tr>\n",
       "      <th>43</th>\n",
       "      <td>PC214</td>\n",
       "      <td>2377</td>\n",
       "      <td>PC268</td>\n",
       "      <td>SRA1; Steroid receptor RNA activator-protein/c...</td>\n",
       "    </tr>\n",
       "    <tr>\n",
       "      <th>44</th>\n",
       "      <td>PC216</td>\n",
       "      <td>175</td>\n",
       "      <td>PC161</td>\n",
       "      <td>Afi1; Arf3-interacting protein 1, N-terminal d...</td>\n",
       "    </tr>\n",
       "    <tr>\n",
       "      <th>45</th>\n",
       "      <td>PC220</td>\n",
       "      <td>1182</td>\n",
       "      <td>PC243</td>\n",
       "      <td>Homeobox; Homeobox domain</td>\n",
       "    </tr>\n",
       "    <tr>\n",
       "      <th>46</th>\n",
       "      <td>PC220</td>\n",
       "      <td>1182</td>\n",
       "      <td>PC244</td>\n",
       "      <td>Homeobox; Homeobox domain</td>\n",
       "    </tr>\n",
       "    <tr>\n",
       "      <th>47</th>\n",
       "      <td>PC227</td>\n",
       "      <td>39</td>\n",
       "      <td>PC175</td>\n",
       "      <td>ABC_membrane; ABC transporter type 1, transmem...</td>\n",
       "    </tr>\n",
       "    <tr>\n",
       "      <th>48</th>\n",
       "      <td>PC262</td>\n",
       "      <td>2584</td>\n",
       "      <td>PC165</td>\n",
       "      <td>TFIIIC_sub6; Transcription factor TFIIIC, tau5...</td>\n",
       "    </tr>\n",
       "    <tr>\n",
       "      <th>49</th>\n",
       "      <td>PC262</td>\n",
       "      <td>2584</td>\n",
       "      <td>PC170</td>\n",
       "      <td>TFIIIC_sub6; Transcription factor TFIIIC, tau5...</td>\n",
       "    </tr>\n",
       "    <tr>\n",
       "      <th>50</th>\n",
       "      <td>PC264</td>\n",
       "      <td>275</td>\n",
       "      <td>PC246</td>\n",
       "      <td>BP28CT; BP28, C-terminal domain</td>\n",
       "    </tr>\n",
       "    <tr>\n",
       "      <th>51</th>\n",
       "      <td>PC273</td>\n",
       "      <td>275</td>\n",
       "      <td>PC246</td>\n",
       "      <td>BP28CT; BP28, C-terminal domain</td>\n",
       "    </tr>\n",
       "    <tr>\n",
       "      <th>52</th>\n",
       "      <td>PC269</td>\n",
       "      <td>1061</td>\n",
       "      <td>PC47</td>\n",
       "      <td>Glyco_tran_28_C; Glycosyl transferase, family ...</td>\n",
       "    </tr>\n",
       "    <tr>\n",
       "      <th>53</th>\n",
       "      <td>PC271</td>\n",
       "      <td>1061</td>\n",
       "      <td>PC47</td>\n",
       "      <td>Glyco_tran_28_C; Glycosyl transferase, family ...</td>\n",
       "    </tr>\n",
       "    <tr>\n",
       "      <th>54</th>\n",
       "      <td>PC270</td>\n",
       "      <td>161</td>\n",
       "      <td>PC150</td>\n",
       "      <td>Acyl-CoA_ox_N; Acyl-coenzyme A oxidase, N-term...</td>\n",
       "    </tr>\n",
       "  </tbody>\n",
       "</table>\n",
       "</div>"
      ],
      "text/plain": [
       "   pca-component_x  domain-number pca-component_y  \\\n",
       "0              PC4            689             PC1   \n",
       "1             PC14            295            PC12   \n",
       "2             PC23            463            PC26   \n",
       "3             PC26           1354            PC35   \n",
       "4             PC27            341            PC15   \n",
       "5             PC28            247           PC147   \n",
       "6             PC33           1720            PC59   \n",
       "7             PC36            446            PC74   \n",
       "8             PC37            356           PC224   \n",
       "9             PC40            983            PC31   \n",
       "10            PC43            983            PC31   \n",
       "11            PC49              1             PC9   \n",
       "12            PC51              1             PC9   \n",
       "13            PC58             42           PC222   \n",
       "14            PC65            352            PC11   \n",
       "15            PC75             20           PC162   \n",
       "16            PC84           2609           PC210   \n",
       "17            PC84           2609           PC211   \n",
       "18            PC88           2609           PC210   \n",
       "19            PC88           2609           PC211   \n",
       "20            PC94              4           PC239   \n",
       "21            PC95           1054           PC139   \n",
       "22            PC97           1106            PC76   \n",
       "23            PC97           1106            PC83   \n",
       "24           PC120            881           PC137   \n",
       "25           PC129           1097           PC255   \n",
       "26           PC135           1731            PC18   \n",
       "27           PC140           2165           PC186   \n",
       "28           PC144            310           PC276   \n",
       "29           PC144            310           PC280   \n",
       "30           PC145           1498           PC104   \n",
       "31           PC145           1498           PC110   \n",
       "32           PC147            363           PC178   \n",
       "33           PC148           1340           PC135   \n",
       "34           PC164           1410           PC279   \n",
       "35           PC176            283            PC34   \n",
       "36           PC184           2054           PC164   \n",
       "37           PC187           1969           PC148   \n",
       "38           PC187           1969           PC149   \n",
       "39           PC193             69           PC238   \n",
       "40           PC200           1046           PC208   \n",
       "41           PC200           1046           PC245   \n",
       "42           PC200           1046           PC270   \n",
       "43           PC214           2377           PC268   \n",
       "44           PC216            175           PC161   \n",
       "45           PC220           1182           PC243   \n",
       "46           PC220           1182           PC244   \n",
       "47           PC227             39           PC175   \n",
       "48           PC262           2584           PC165   \n",
       "49           PC262           2584           PC170   \n",
       "50           PC264            275           PC246   \n",
       "51           PC273            275           PC246   \n",
       "52           PC269           1061            PC47   \n",
       "53           PC271           1061            PC47   \n",
       "54           PC270            161           PC150   \n",
       "\n",
       "                                   domain-description  \n",
       "0        DUF3128; Protein of unknown function DUF3128  \n",
       "1   Beta_elim_lyase; Aromatic amino acid beta-elim...  \n",
       "2         Chitin_synth_1N; Chitin synthase N-terminal  \n",
       "3    MBF1; Multiprotein bridging factor 1, N-terminal  \n",
       "4   CDP-OH_P_transf; CDP-alcohol phosphatidyltrans...  \n",
       "5        Autophagy_act_C; Autophagy-related protein 3  \n",
       "6                         PDT; Prephenate dehydratase  \n",
       "7                      Catalase; Catalase core domain  \n",
       "8                   CHZ; Histone chaperone domain CHZ  \n",
       "9       GHMP_kinases_N; GHMP kinase N-terminal domain  \n",
       "10      GHMP_kinases_N; GHMP kinase N-terminal domain  \n",
       "11                              14-3-3; 14-3-3 domain  \n",
       "12                              14-3-3; 14-3-3 domain  \n",
       "13     ABC_tran_Xtn; ABC-transporter extension domain  \n",
       "14                       CH; Calponin homology domain  \n",
       "15                         AAA_22; AAA+ ATPase domain  \n",
       "16  TP6A_N; Spo11/DNA topoisomerase VI, subunit A,...  \n",
       "17  TP6A_N; Spo11/DNA topoisomerase VI, subunit A,...  \n",
       "18  TP6A_N; Spo11/DNA topoisomerase VI, subunit A,...  \n",
       "19  TP6A_N; Spo11/DNA topoisomerase VI, subunit A,...  \n",
       "20  2-oxoacid_dh; 2-oxoacid dehydrogenase acyltran...  \n",
       "21  Glyco_hydro_63; Glycosyl hydrolase family 63, ...  \n",
       "22                                             HEAT_2  \n",
       "23                                             HEAT_2  \n",
       "24              FHA; Forkhead-associated (FHA) domain  \n",
       "25                                        HATPase_c_3  \n",
       "26            PFU; PLAA family ubiquitin binding, PFU  \n",
       "27  Ribosomal_L18A; Ribosomal protein 50S-L18Ae/60...  \n",
       "28  C1_1; Protein kinase C-like, phorbol ester/dia...  \n",
       "29  C1_1; Protein kinase C-like, phorbol ester/dia...  \n",
       "30                               MmgE_PrpD; MmgE/PrpD  \n",
       "31                               MmgE_PrpD; MmgE/PrpD  \n",
       "32  CLP1_P; Polyribonucleotide 5&apos;-hydroxyl-ki...  \n",
       "33                        Lysine_decarbox; LOG family  \n",
       "34         MTHFR; Methylenetetrahydrofolate reductase  \n",
       "35                     BRF1; Brf1, TBP-binding domain  \n",
       "36              RRF; Ribosome recycling factor domain  \n",
       "37                                    RAI1; RAI1-like  \n",
       "38                                    RAI1; RAI1-like  \n",
       "39                 AIRS; PurM-like, N-terminal domain  \n",
       "40  Glyco_hydro_18; Glycoside hydrolase family 18,...  \n",
       "41  Glyco_hydro_18; Glycoside hydrolase family 18,...  \n",
       "42  Glyco_hydro_18; Glycoside hydrolase family 18,...  \n",
       "43  SRA1; Steroid receptor RNA activator-protein/c...  \n",
       "44  Afi1; Arf3-interacting protein 1, N-terminal d...  \n",
       "45                          Homeobox; Homeobox domain  \n",
       "46                          Homeobox; Homeobox domain  \n",
       "47  ABC_membrane; ABC transporter type 1, transmem...  \n",
       "48  TFIIIC_sub6; Transcription factor TFIIIC, tau5...  \n",
       "49  TFIIIC_sub6; Transcription factor TFIIIC, tau5...  \n",
       "50                    BP28CT; BP28, C-terminal domain  \n",
       "51                    BP28CT; BP28, C-terminal domain  \n",
       "52  Glyco_tran_28_C; Glycosyl transferase, family ...  \n",
       "53  Glyco_tran_28_C; Glycosyl transferase, family ...  \n",
       "54  Acyl-CoA_ox_N; Acyl-coenzyme A oxidase, N-term...  "
      ]
     },
     "execution_count": 22,
     "metadata": {},
     "output_type": "execute_result"
    }
   ],
   "source": [
    "df_shared_domains=pd.merge(df_sl,df_nsl,how='inner',on='domain-number')\n",
    "domains_name=np.unique(data_domains['domain-name'])\n",
    "domains_description=np.unique(data_domains['domain-descrip'])\n",
    "\n",
    "df_shared_domains['domain-description']=domains_description[df_shared_domains['domain-number']]\n",
    "\n",
    "\n",
    "df_shared_domains"
   ]
  },
  {
   "cell_type": "code",
   "execution_count": 23,
   "metadata": {
    "execution": {
     "iopub.execute_input": "2020-08-14T12:57:05.395849Z",
     "iopub.status.busy": "2020-08-14T12:57:05.394729Z",
     "iopub.status.idle": "2020-08-14T12:57:05.400998Z",
     "shell.execute_reply": "2020-08-14T12:57:05.401582Z"
    }
   },
   "outputs": [
    {
     "name": "stdout",
     "output_type": "stream",
     "text": [
      "The number of shared domains between SL and nSL pairs,after PCA, is =  55 out of 558 so the 9.85663082437276 %\n"
     ]
    }
   ],
   "source": [
    "print('The number of shared domains between SL and nSL pairs,after PCA, is = ',len(df_shared_domains), 'out of', len(df_sl)+len(df_nsl), 'so the',100*len(df_shared_domains)/(len(df_sl)+len(df_nsl)),'%')"
   ]
  },
  {
   "cell_type": "markdown",
   "metadata": {},
   "source": [
    "## Domains exclusive to SL"
   ]
  },
  {
   "cell_type": "code",
   "execution_count": 24,
   "metadata": {
    "execution": {
     "iopub.execute_input": "2020-08-14T12:57:05.404186Z",
     "iopub.status.busy": "2020-08-14T12:57:05.403336Z",
     "iopub.status.idle": "2020-08-14T12:57:05.426937Z",
     "shell.execute_reply": "2020-08-14T12:57:05.427610Z"
    }
   },
   "outputs": [
    {
     "data": {
      "text/html": [
       "<div>\n",
       "<style scoped>\n",
       "    .dataframe tbody tr th:only-of-type {\n",
       "        vertical-align: middle;\n",
       "    }\n",
       "\n",
       "    .dataframe tbody tr th {\n",
       "        vertical-align: top;\n",
       "    }\n",
       "\n",
       "    .dataframe thead th {\n",
       "        text-align: right;\n",
       "    }\n",
       "</style>\n",
       "<table border=\"1\" class=\"dataframe\">\n",
       "  <thead>\n",
       "    <tr style=\"text-align: right;\">\n",
       "      <th></th>\n",
       "      <th>pca-component_x</th>\n",
       "      <th>domain-number</th>\n",
       "      <th>pca-component_y</th>\n",
       "      <th>domain-description</th>\n",
       "    </tr>\n",
       "  </thead>\n",
       "  <tbody>\n",
       "    <tr>\n",
       "      <th>0</th>\n",
       "      <td>PC0</td>\n",
       "      <td>540</td>\n",
       "      <td>NaN</td>\n",
       "      <td>Cytochrome_B; Cytochrome b/b6, N-terminal</td>\n",
       "    </tr>\n",
       "    <tr>\n",
       "      <th>1</th>\n",
       "      <td>PC1</td>\n",
       "      <td>1571</td>\n",
       "      <td>NaN</td>\n",
       "      <td>NMT1; SsuA/THI5-like</td>\n",
       "    </tr>\n",
       "    <tr>\n",
       "      <th>2</th>\n",
       "      <td>PC2</td>\n",
       "      <td>192</td>\n",
       "      <td>NaN</td>\n",
       "      <td>Alkyl_sulf_C; Alkyl sulfatase, C-terminal</td>\n",
       "    </tr>\n",
       "    <tr>\n",
       "      <th>3</th>\n",
       "      <td>PC3</td>\n",
       "      <td>858</td>\n",
       "      <td>NaN</td>\n",
       "      <td>F420_oxidored; Pyrroline-5-carboxylate reducta...</td>\n",
       "    </tr>\n",
       "    <tr>\n",
       "      <th>5</th>\n",
       "      <td>PC5</td>\n",
       "      <td>2610</td>\n",
       "      <td>NaN</td>\n",
       "      <td>TPK_B1_binding; Thiamin pyrophosphokinase, vit...</td>\n",
       "    </tr>\n",
       "    <tr>\n",
       "      <th>...</th>\n",
       "      <td>...</td>\n",
       "      <td>...</td>\n",
       "      <td>...</td>\n",
       "      <td>...</td>\n",
       "    </tr>\n",
       "    <tr>\n",
       "      <th>276</th>\n",
       "      <td>PC266</td>\n",
       "      <td>1480</td>\n",
       "      <td>NaN</td>\n",
       "      <td>Methyltransf_PK; Alpha-N-methyltransferase NTM1</td>\n",
       "    </tr>\n",
       "    <tr>\n",
       "      <th>277</th>\n",
       "      <td>PC267</td>\n",
       "      <td>2766</td>\n",
       "      <td>NaN</td>\n",
       "      <td>UTP15_C; U3 small nucleolar RNA-associated pro...</td>\n",
       "    </tr>\n",
       "    <tr>\n",
       "      <th>278</th>\n",
       "      <td>PC268</td>\n",
       "      <td>2483</td>\n",
       "      <td>NaN</td>\n",
       "      <td>Sirohm_synth_M; Siroheme synthase, central domain</td>\n",
       "    </tr>\n",
       "    <tr>\n",
       "      <th>282</th>\n",
       "      <td>PC272</td>\n",
       "      <td>1575</td>\n",
       "      <td>NaN</td>\n",
       "      <td>NOC3p; Nucleolar complex-associated protein 3,...</td>\n",
       "    </tr>\n",
       "    <tr>\n",
       "      <th>284</th>\n",
       "      <td>PC274</td>\n",
       "      <td>85</td>\n",
       "      <td>NaN</td>\n",
       "      <td>ANAPC3</td>\n",
       "    </tr>\n",
       "  </tbody>\n",
       "</table>\n",
       "<p>230 rows × 4 columns</p>\n",
       "</div>"
      ],
      "text/plain": [
       "    pca-component_x  domain-number pca-component_y  \\\n",
       "0               PC0            540             NaN   \n",
       "1               PC1           1571             NaN   \n",
       "2               PC2            192             NaN   \n",
       "3               PC3            858             NaN   \n",
       "5               PC5           2610             NaN   \n",
       "..              ...            ...             ...   \n",
       "276           PC266           1480             NaN   \n",
       "277           PC267           2766             NaN   \n",
       "278           PC268           2483             NaN   \n",
       "282           PC272           1575             NaN   \n",
       "284           PC274             85             NaN   \n",
       "\n",
       "                                    domain-description  \n",
       "0            Cytochrome_B; Cytochrome b/b6, N-terminal  \n",
       "1                                 NMT1; SsuA/THI5-like  \n",
       "2            Alkyl_sulf_C; Alkyl sulfatase, C-terminal  \n",
       "3    F420_oxidored; Pyrroline-5-carboxylate reducta...  \n",
       "5    TPK_B1_binding; Thiamin pyrophosphokinase, vit...  \n",
       "..                                                 ...  \n",
       "276    Methyltransf_PK; Alpha-N-methyltransferase NTM1  \n",
       "277  UTP15_C; U3 small nucleolar RNA-associated pro...  \n",
       "278  Sirohm_synth_M; Siroheme synthase, central domain  \n",
       "282  NOC3p; Nucleolar complex-associated protein 3,...  \n",
       "284                                             ANAPC3  \n",
       "\n",
       "[230 rows x 4 columns]"
      ]
     },
     "execution_count": 24,
     "metadata": {},
     "output_type": "execute_result"
    }
   ],
   "source": [
    "df_sl_exclusive=pd.merge(df_sl,df_nsl,how='left',on='domain-number')\n",
    "\n",
    "domains_name=np.unique(data_domains['domain-name'])\n",
    "domains_description=np.unique(data_domains['domain-descrip'])\n",
    "\n",
    "df_sl_exclusive['domain-description']=domains_description[df_sl_exclusive['domain-number']]\n",
    "df_sl_exclusive[pd.isnull(df_sl_exclusive['pca-component_y'])]"
   ]
  },
  {
   "cell_type": "code",
   "execution_count": 25,
   "metadata": {
    "execution": {
     "iopub.execute_input": "2020-08-14T12:57:05.430679Z",
     "iopub.status.busy": "2020-08-14T12:57:05.429822Z",
     "iopub.status.idle": "2020-08-14T12:57:05.436109Z",
     "shell.execute_reply": "2020-08-14T12:57:05.437115Z"
    }
   },
   "outputs": [
    {
     "name": "stdout",
     "output_type": "stream",
     "text": [
      "The number of exclusive domains from SL pairs, after PCA, is =  285 out of 558 so the 51.075268817204304 %\n"
     ]
    }
   ],
   "source": [
    "print('The number of exclusive domains from SL pairs, after PCA, is = ',len(df_sl_exclusive), 'out of', len(df_sl)+len(df_nsl), 'so the',100*len(df_sl_exclusive)/(len(df_sl)+len(df_nsl)),'%')"
   ]
  },
  {
   "cell_type": "code",
   "execution_count": 26,
   "metadata": {
    "execution": {
     "iopub.execute_input": "2020-08-14T12:57:05.440824Z",
     "iopub.status.busy": "2020-08-14T12:57:05.439455Z",
     "iopub.status.idle": "2020-08-14T12:57:05.470461Z",
     "shell.execute_reply": "2020-08-14T12:57:05.469782Z"
    }
   },
   "outputs": [
    {
     "data": {
      "text/html": [
       "<div>\n",
       "<style scoped>\n",
       "    .dataframe tbody tr th:only-of-type {\n",
       "        vertical-align: middle;\n",
       "    }\n",
       "\n",
       "    .dataframe tbody tr th {\n",
       "        vertical-align: top;\n",
       "    }\n",
       "\n",
       "    .dataframe thead th {\n",
       "        text-align: right;\n",
       "    }\n",
       "</style>\n",
       "<table border=\"1\" class=\"dataframe\">\n",
       "  <thead>\n",
       "    <tr style=\"text-align: right;\">\n",
       "      <th></th>\n",
       "      <th>pca-component_x</th>\n",
       "      <th>domain-number</th>\n",
       "      <th>pca-component_y</th>\n",
       "      <th>domain-description</th>\n",
       "    </tr>\n",
       "  </thead>\n",
       "  <tbody>\n",
       "    <tr>\n",
       "      <th>0</th>\n",
       "      <td>NaN</td>\n",
       "      <td>1110</td>\n",
       "      <td>PC0</td>\n",
       "      <td>HEM4; Tetrapyrrole biosynthesis, uroporphyrino...</td>\n",
       "    </tr>\n",
       "    <tr>\n",
       "      <th>2</th>\n",
       "      <td>NaN</td>\n",
       "      <td>364</td>\n",
       "      <td>PC2</td>\n",
       "      <td>CLTH; CTLH/CRA C-terminal to LisH motif domain</td>\n",
       "    </tr>\n",
       "    <tr>\n",
       "      <th>3</th>\n",
       "      <td>NaN</td>\n",
       "      <td>364</td>\n",
       "      <td>PC3</td>\n",
       "      <td>CLTH; CTLH/CRA C-terminal to LisH motif domain</td>\n",
       "    </tr>\n",
       "    <tr>\n",
       "      <th>4</th>\n",
       "      <td>NaN</td>\n",
       "      <td>2408</td>\n",
       "      <td>PC4</td>\n",
       "      <td>SUR7; Membrane protein SUR7/Rim9-like, fungi</td>\n",
       "    </tr>\n",
       "    <tr>\n",
       "      <th>5</th>\n",
       "      <td>NaN</td>\n",
       "      <td>303</td>\n",
       "      <td>PC5</td>\n",
       "      <td>Bromo_TP; Bromodomain associated domain</td>\n",
       "    </tr>\n",
       "    <tr>\n",
       "      <th>...</th>\n",
       "      <td>...</td>\n",
       "      <td>...</td>\n",
       "      <td>...</td>\n",
       "      <td>...</td>\n",
       "    </tr>\n",
       "    <tr>\n",
       "      <th>281</th>\n",
       "      <td>NaN</td>\n",
       "      <td>2564</td>\n",
       "      <td>PC273</td>\n",
       "      <td>TBPIP; Homologous-pairing protein 2</td>\n",
       "    </tr>\n",
       "    <tr>\n",
       "      <th>282</th>\n",
       "      <td>NaN</td>\n",
       "      <td>7</td>\n",
       "      <td>PC274</td>\n",
       "      <td>3-HAO; 3-hydroxyanthranilic acid dioxygenase</td>\n",
       "    </tr>\n",
       "    <tr>\n",
       "      <th>283</th>\n",
       "      <td>NaN</td>\n",
       "      <td>581</td>\n",
       "      <td>PC275</td>\n",
       "      <td>DHC_N2; Dynein heavy chain, domain-2</td>\n",
       "    </tr>\n",
       "    <tr>\n",
       "      <th>286</th>\n",
       "      <td>NaN</td>\n",
       "      <td>622</td>\n",
       "      <td>PC278</td>\n",
       "      <td>DNA_topoisoIV; DNA topoisomerase, type IIA, su...</td>\n",
       "    </tr>\n",
       "    <tr>\n",
       "      <th>288</th>\n",
       "      <td>NaN</td>\n",
       "      <td>1816</td>\n",
       "      <td>PC282</td>\n",
       "      <td>PRKCSH_1; Mannose-6-phosphate receptor binding...</td>\n",
       "    </tr>\n",
       "  </tbody>\n",
       "</table>\n",
       "<p>234 rows × 4 columns</p>\n",
       "</div>"
      ],
      "text/plain": [
       "    pca-component_x  domain-number pca-component_y  \\\n",
       "0               NaN           1110             PC0   \n",
       "2               NaN            364             PC2   \n",
       "3               NaN            364             PC3   \n",
       "4               NaN           2408             PC4   \n",
       "5               NaN            303             PC5   \n",
       "..              ...            ...             ...   \n",
       "281             NaN           2564           PC273   \n",
       "282             NaN              7           PC274   \n",
       "283             NaN            581           PC275   \n",
       "286             NaN            622           PC278   \n",
       "288             NaN           1816           PC282   \n",
       "\n",
       "                                    domain-description  \n",
       "0    HEM4; Tetrapyrrole biosynthesis, uroporphyrino...  \n",
       "2       CLTH; CTLH/CRA C-terminal to LisH motif domain  \n",
       "3       CLTH; CTLH/CRA C-terminal to LisH motif domain  \n",
       "4         SUR7; Membrane protein SUR7/Rim9-like, fungi  \n",
       "5              Bromo_TP; Bromodomain associated domain  \n",
       "..                                                 ...  \n",
       "281                TBPIP; Homologous-pairing protein 2  \n",
       "282       3-HAO; 3-hydroxyanthranilic acid dioxygenase  \n",
       "283               DHC_N2; Dynein heavy chain, domain-2  \n",
       "286  DNA_topoisoIV; DNA topoisomerase, type IIA, su...  \n",
       "288  PRKCSH_1; Mannose-6-phosphate receptor binding...  \n",
       "\n",
       "[234 rows x 4 columns]"
      ]
     },
     "execution_count": 26,
     "metadata": {},
     "output_type": "execute_result"
    }
   ],
   "source": [
    "df_nsl_exclusive=pd.merge(df_sl,df_nsl,how='right',on='domain-number')\n",
    "\n",
    "domains_name=np.unique(data_domains['domain-name'])\n",
    "domains_description=np.unique(data_domains['domain-descrip'])\n",
    "\n",
    "df_nsl_exclusive['domain-description']=domains_description[df_nsl_exclusive['domain-number']]\n",
    "df_nsl_exclusive[pd.isnull(df_nsl_exclusive['pca-component_x'])]"
   ]
  },
  {
   "cell_type": "code",
   "execution_count": 27,
   "metadata": {
    "execution": {
     "iopub.execute_input": "2020-08-14T12:57:05.476241Z",
     "iopub.status.busy": "2020-08-14T12:57:05.475067Z",
     "iopub.status.idle": "2020-08-14T12:57:05.479999Z",
     "shell.execute_reply": "2020-08-14T12:57:05.479559Z"
    }
   },
   "outputs": [
    {
     "name": "stdout",
     "output_type": "stream",
     "text": [
      "The number of exclusive domains from non SL pairs, after PCA, is =  289 out of 558 so the 51.7921146953405 %\n"
     ]
    }
   ],
   "source": [
    "print('The number of exclusive domains from non SL pairs, after PCA, is = ',len(df_nsl_exclusive), 'out of', len(df_sl)+len(df_nsl), 'so the',100*len(df_nsl_exclusive)/(len(df_sl)+len(df_nsl)),'%')"
   ]
  },
  {
   "cell_type": "markdown",
   "metadata": {},
   "source": [
    "## Let see to the domains-number that get repeated after the PCA analysis , and selecting the most explanatory feature by its explained variance."
   ]
  },
  {
   "cell_type": "code",
   "execution_count": 28,
   "metadata": {
    "execution": {
     "iopub.execute_input": "2020-08-14T12:57:05.497295Z",
     "iopub.status.busy": "2020-08-14T12:57:05.496774Z",
     "iopub.status.idle": "2020-08-14T12:57:05.498798Z",
     "shell.execute_reply": "2020-08-14T12:57:05.499252Z"
    }
   },
   "outputs": [],
   "source": [
    "duplicated_features_sl=df_sl[df_sl.iloc[:,1].duplicated()]\n",
    "repeated_features_sl=pd.DataFrame()\n",
    "\n",
    "domains_name=np.unique(data_domains['domain-name'])\n",
    "domains_description=np.unique(data_domains['domain-descrip'])\n",
    "\n",
    "repeated_features_sl['domain-name']=domains_name[duplicated_features_sl.iloc[:,1]] \n",
    "repeated_features_sl['domain-description']=domains_description[duplicated_features_sl.iloc[:,1]]\n",
    "\n",
    "duplicated_features_nsl=df_nsl[df_nsl.iloc[:,1].duplicated()]\n",
    "repeated_features_nsl=pd.DataFrame()\n",
    "\n",
    "repeated_features_nsl['domain-name']=domains_name[duplicated_features_nsl.iloc[:,1]] \n",
    "repeated_features_nsl['domain-description']=domains_description[duplicated_features_nsl.iloc[:,1]]"
   ]
  },
  {
   "cell_type": "code",
   "execution_count": 29,
   "metadata": {
    "execution": {
     "iopub.execute_input": "2020-08-14T12:57:05.508120Z",
     "iopub.status.busy": "2020-08-14T12:57:05.506783Z",
     "iopub.status.idle": "2020-08-14T12:57:05.513721Z",
     "shell.execute_reply": "2020-08-14T12:57:05.513308Z"
    }
   },
   "outputs": [
    {
     "name": "stderr",
     "output_type": "stream",
     "text": [
      "/usr/share/miniconda3/envs/wintest/lib/python3.7/site-packages/ipykernel_launcher.py:3: SettingWithCopyWarning: \n",
      "A value is trying to be set on a copy of a slice from a DataFrame.\n",
      "Try using .loc[row_indexer,col_indexer] = value instead\n",
      "\n",
      "See the caveats in the documentation: https://pandas.pydata.org/pandas-docs/stable/user_guide/indexing.html#returning-a-view-versus-a-copy\n",
      "  This is separate from the ipykernel package so we can avoid doing imports until\n"
     ]
    },
    {
     "data": {
      "text/plain": [
       "((35, 4), (285, 4))"
      ]
     },
     "execution_count": 29,
     "metadata": {},
     "output_type": "execute_result"
    }
   ],
   "source": [
    "only_sl_pd=pd.merge(repeated_features_sl,repeated_features_nsl,how='left',on=['domain-name'])\n",
    "data_only_sl = only_sl_pd[pd.isnull(only_sl_pd['domain-description_y'])]\n",
    "data_only_sl['domain-description']=data_only_sl['domain-description_x']\n",
    "data_only_sl.shape,df_sl_exclusive.shape"
   ]
  },
  {
   "cell_type": "code",
   "execution_count": 30,
   "metadata": {
    "execution": {
     "iopub.execute_input": "2020-08-14T12:57:05.529823Z",
     "iopub.status.busy": "2020-08-14T12:57:05.529360Z",
     "iopub.status.idle": "2020-08-14T12:57:05.534821Z",
     "shell.execute_reply": "2020-08-14T12:57:05.534411Z"
    }
   },
   "outputs": [
    {
     "data": {
      "text/html": [
       "<div>\n",
       "<style scoped>\n",
       "    .dataframe tbody tr th:only-of-type {\n",
       "        vertical-align: middle;\n",
       "    }\n",
       "\n",
       "    .dataframe tbody tr th {\n",
       "        vertical-align: top;\n",
       "    }\n",
       "\n",
       "    .dataframe thead th {\n",
       "        text-align: right;\n",
       "    }\n",
       "</style>\n",
       "<table border=\"1\" class=\"dataframe\">\n",
       "  <thead>\n",
       "    <tr style=\"text-align: right;\">\n",
       "      <th></th>\n",
       "      <th>domain-name</th>\n",
       "      <th>domain-description_x</th>\n",
       "      <th>domain-description_y</th>\n",
       "    </tr>\n",
       "  </thead>\n",
       "  <tbody>\n",
       "    <tr>\n",
       "      <th>0</th>\n",
       "      <td>PF00736</td>\n",
       "      <td>NaN</td>\n",
       "      <td>CLTH; CTLH/CRA C-terminal to LisH motif domain</td>\n",
       "    </tr>\n",
       "    <tr>\n",
       "      <th>1</th>\n",
       "      <td>PF00122</td>\n",
       "      <td>NaN</td>\n",
       "      <td>ADK</td>\n",
       "    </tr>\n",
       "    <tr>\n",
       "      <th>2</th>\n",
       "      <td>PF03835</td>\n",
       "      <td>NaN</td>\n",
       "      <td>HlyIII; AdipoR/Haemolysin-III-related</td>\n",
       "    </tr>\n",
       "    <tr>\n",
       "      <th>3</th>\n",
       "      <td>PF02181</td>\n",
       "      <td>NaN</td>\n",
       "      <td>Ecl1; Life-span regulatory factor</td>\n",
       "    </tr>\n",
       "    <tr>\n",
       "      <th>4</th>\n",
       "      <td>PF08236</td>\n",
       "      <td>NaN</td>\n",
       "      <td>ParBc; ParB/Sulfiredoxin</td>\n",
       "    </tr>\n",
       "    <tr>\n",
       "      <th>5</th>\n",
       "      <td>PF08647</td>\n",
       "      <td>NaN</td>\n",
       "      <td>RNA_pol_L_2; DNA-directed RNA polymerase, RBP1...</td>\n",
       "    </tr>\n",
       "    <tr>\n",
       "      <th>6</th>\n",
       "      <td>PF04096</td>\n",
       "      <td>NaN</td>\n",
       "      <td>Kin17_mid; DNA/RNA-binding protein Kin17, cons...</td>\n",
       "    </tr>\n",
       "    <tr>\n",
       "      <th>7</th>\n",
       "      <td>PF03198</td>\n",
       "      <td>NaN</td>\n",
       "      <td>Glycos_transf_1; Glycosyl transferase, family 1</td>\n",
       "    </tr>\n",
       "    <tr>\n",
       "      <th>8</th>\n",
       "      <td>PF00063</td>\n",
       "      <td>NaN</td>\n",
       "      <td>AAA_5; ATPase, dynein-related, AAA domain</td>\n",
       "    </tr>\n",
       "    <tr>\n",
       "      <th>9</th>\n",
       "      <td>PF03399</td>\n",
       "      <td>NaN</td>\n",
       "      <td>HEAT_2</td>\n",
       "    </tr>\n",
       "    <tr>\n",
       "      <th>10</th>\n",
       "      <td>PF00617</td>\n",
       "      <td>NaN</td>\n",
       "      <td>BolA; BolA protein</td>\n",
       "    </tr>\n",
       "    <tr>\n",
       "      <th>11</th>\n",
       "      <td>PF08771</td>\n",
       "      <td>NaN</td>\n",
       "      <td>RPOL_N; DNA-directed RNA polymerase, N-terminal</td>\n",
       "    </tr>\n",
       "    <tr>\n",
       "      <th>12</th>\n",
       "      <td>PF03531</td>\n",
       "      <td>NaN</td>\n",
       "      <td>HORMA; HORMA domain</td>\n",
       "    </tr>\n",
       "    <tr>\n",
       "      <th>13</th>\n",
       "      <td>PF11488</td>\n",
       "      <td>NaN</td>\n",
       "      <td>SPT2; Chromatin SPT2</td>\n",
       "    </tr>\n",
       "    <tr>\n",
       "      <th>14</th>\n",
       "      <td>PF00575</td>\n",
       "      <td>NaN</td>\n",
       "      <td>BPL_N; Biotin-protein ligase, N-terminal</td>\n",
       "    </tr>\n",
       "    <tr>\n",
       "      <th>15</th>\n",
       "      <td>PF04136</td>\n",
       "      <td>NaN</td>\n",
       "      <td>LRR_4; Leucine rich repeat 4</td>\n",
       "    </tr>\n",
       "    <tr>\n",
       "      <th>16</th>\n",
       "      <td>PF05160</td>\n",
       "      <td>NaN</td>\n",
       "      <td>MmgE_PrpD; MmgE/PrpD</td>\n",
       "    </tr>\n",
       "    <tr>\n",
       "      <th>17</th>\n",
       "      <td>PF10104</td>\n",
       "      <td>NaN</td>\n",
       "      <td>Ribosomal_L36; Ribosomal protein L36</td>\n",
       "    </tr>\n",
       "    <tr>\n",
       "      <th>18</th>\n",
       "      <td>PF00676</td>\n",
       "      <td>NaN</td>\n",
       "      <td>CDC48_N; CDC48, N-terminal subdomain</td>\n",
       "    </tr>\n",
       "    <tr>\n",
       "      <th>19</th>\n",
       "      <td>PF11635</td>\n",
       "      <td>NaN</td>\n",
       "      <td>SRP72; Signal recognition particle, SRP72 subu...</td>\n",
       "    </tr>\n",
       "    <tr>\n",
       "      <th>20</th>\n",
       "      <td>PF09402</td>\n",
       "      <td>NaN</td>\n",
       "      <td>Rbsn; Rabenosyn, Rab binding domain</td>\n",
       "    </tr>\n",
       "    <tr>\n",
       "      <th>21</th>\n",
       "      <td>PF09402</td>\n",
       "      <td>NaN</td>\n",
       "      <td>Rbsn; Rabenosyn, Rab binding domain</td>\n",
       "    </tr>\n",
       "    <tr>\n",
       "      <th>22</th>\n",
       "      <td>PF05843</td>\n",
       "      <td>NaN</td>\n",
       "      <td>Na_Ca_ex; Sodium/calcium exchanger membrane re...</td>\n",
       "    </tr>\n",
       "    <tr>\n",
       "      <th>23</th>\n",
       "      <td>PF10681</td>\n",
       "      <td>NaN</td>\n",
       "      <td>SLC12; SLC12A transporter, C-terminal</td>\n",
       "    </tr>\n",
       "    <tr>\n",
       "      <th>24</th>\n",
       "      <td>PF00995</td>\n",
       "      <td>NaN</td>\n",
       "      <td>Cation_efflux; Cation efflux protein</td>\n",
       "    </tr>\n",
       "    <tr>\n",
       "      <th>25</th>\n",
       "      <td>PF00995</td>\n",
       "      <td>NaN</td>\n",
       "      <td>Cation_efflux; Cation efflux protein</td>\n",
       "    </tr>\n",
       "    <tr>\n",
       "      <th>26</th>\n",
       "      <td>PF11976</td>\n",
       "      <td>NaN</td>\n",
       "      <td>Sec20</td>\n",
       "    </tr>\n",
       "    <tr>\n",
       "      <th>27</th>\n",
       "      <td>PF08598</td>\n",
       "      <td>NaN</td>\n",
       "      <td>RAI1; RAI1-like</td>\n",
       "    </tr>\n",
       "    <tr>\n",
       "      <th>28</th>\n",
       "      <td>PF12998</td>\n",
       "      <td>NaN</td>\n",
       "      <td>TFIIIC_sub6; Transcription factor TFIIIC, tau5...</td>\n",
       "    </tr>\n",
       "    <tr>\n",
       "      <th>29</th>\n",
       "      <td>PF03256</td>\n",
       "      <td>NaN</td>\n",
       "      <td>Gsf2; Glucose signalling factor 2</td>\n",
       "    </tr>\n",
       "    <tr>\n",
       "      <th>30</th>\n",
       "      <td>PF01115</td>\n",
       "      <td>NaN</td>\n",
       "      <td>CoaE; Dephospho-CoA kinase</td>\n",
       "    </tr>\n",
       "    <tr>\n",
       "      <th>31</th>\n",
       "      <td>PF10193</td>\n",
       "      <td>NaN</td>\n",
       "      <td>Ribosomal_L4; Ribosomal protein L4/L1e</td>\n",
       "    </tr>\n",
       "    <tr>\n",
       "      <th>32</th>\n",
       "      <td>PF08574</td>\n",
       "      <td>NaN</td>\n",
       "      <td>Pterin_4a; Transcriptional coactivator/pterin ...</td>\n",
       "    </tr>\n",
       "    <tr>\n",
       "      <th>33</th>\n",
       "      <td>PF02136</td>\n",
       "      <td>NaN</td>\n",
       "      <td>ERO1; Endoplasmic reticulum oxidoreductin 1</td>\n",
       "    </tr>\n",
       "    <tr>\n",
       "      <th>35</th>\n",
       "      <td>PF01176</td>\n",
       "      <td>NaN</td>\n",
       "      <td>Cut8; Tethering factor for nuclear proteasome ...</td>\n",
       "    </tr>\n",
       "    <tr>\n",
       "      <th>36</th>\n",
       "      <td>PF00248</td>\n",
       "      <td>NaN</td>\n",
       "      <td>ATP-synt; ATP synthase, F1 complex, gamma subunit</td>\n",
       "    </tr>\n",
       "    <tr>\n",
       "      <th>37</th>\n",
       "      <td>PF02204</td>\n",
       "      <td>NaN</td>\n",
       "      <td>Endosulfine; Endosulphine</td>\n",
       "    </tr>\n",
       "    <tr>\n",
       "      <th>38</th>\n",
       "      <td>PF00649</td>\n",
       "      <td>NaN</td>\n",
       "      <td>CBF; CCAAT-binding factor</td>\n",
       "    </tr>\n",
       "    <tr>\n",
       "      <th>39</th>\n",
       "      <td>PF01704</td>\n",
       "      <td>NaN</td>\n",
       "      <td>DUF3835; Domain of unknown function DUF3835</td>\n",
       "    </tr>\n",
       "    <tr>\n",
       "      <th>40</th>\n",
       "      <td>PF01704</td>\n",
       "      <td>NaN</td>\n",
       "      <td>DUF3835; Domain of unknown function DUF3835</td>\n",
       "    </tr>\n",
       "    <tr>\n",
       "      <th>41</th>\n",
       "      <td>PF03847</td>\n",
       "      <td>NaN</td>\n",
       "      <td>Homeobox; Homeobox domain</td>\n",
       "    </tr>\n",
       "    <tr>\n",
       "      <th>42</th>\n",
       "      <td>PF03114</td>\n",
       "      <td>NaN</td>\n",
       "      <td>Glyco_hydro_18; Glycoside hydrolase family 18,...</td>\n",
       "    </tr>\n",
       "    <tr>\n",
       "      <th>43</th>\n",
       "      <td>PF03114</td>\n",
       "      <td>NaN</td>\n",
       "      <td>Glyco_hydro_18; Glycoside hydrolase family 18,...</td>\n",
       "    </tr>\n",
       "    <tr>\n",
       "      <th>44</th>\n",
       "      <td>PF08203</td>\n",
       "      <td>NaN</td>\n",
       "      <td>PUF; Pumilio RNA-binding repeat</td>\n",
       "    </tr>\n",
       "    <tr>\n",
       "      <th>45</th>\n",
       "      <td>PF04124</td>\n",
       "      <td>NaN</td>\n",
       "      <td>LIM; Zinc finger, LIM-type</td>\n",
       "    </tr>\n",
       "    <tr>\n",
       "      <th>46</th>\n",
       "      <td>PF00475</td>\n",
       "      <td>NaN</td>\n",
       "      <td>Arrestin_C; Arrestin C-terminal-like domain</td>\n",
       "    </tr>\n",
       "    <tr>\n",
       "      <th>47</th>\n",
       "      <td>PF00475</td>\n",
       "      <td>NaN</td>\n",
       "      <td>Arrestin_C; Arrestin C-terminal-like domain</td>\n",
       "    </tr>\n",
       "    <tr>\n",
       "      <th>48</th>\n",
       "      <td>PF04031</td>\n",
       "      <td>NaN</td>\n",
       "      <td>Ion_trans; Ion transport domain</td>\n",
       "    </tr>\n",
       "    <tr>\n",
       "      <th>49</th>\n",
       "      <td>PF06218</td>\n",
       "      <td>NaN</td>\n",
       "      <td>Nrap_D4</td>\n",
       "    </tr>\n",
       "    <tr>\n",
       "      <th>50</th>\n",
       "      <td>PF12719</td>\n",
       "      <td>NaN</td>\n",
       "      <td>Ste5; Scaffold protein Ste5, Fus3-binding domain</td>\n",
       "    </tr>\n",
       "    <tr>\n",
       "      <th>51</th>\n",
       "      <td>PF00628</td>\n",
       "      <td>NaN</td>\n",
       "      <td>C1_1; Protein kinase C-like, phorbol ester/dia...</td>\n",
       "    </tr>\n",
       "    <tr>\n",
       "      <th>52</th>\n",
       "      <td>PF02144</td>\n",
       "      <td>NaN</td>\n",
       "      <td>EST1_DNA_bind; DNA/RNA-binding domain, Est1-type</td>\n",
       "    </tr>\n",
       "  </tbody>\n",
       "</table>\n",
       "</div>"
      ],
      "text/plain": [
       "   domain-name domain-description_x  \\\n",
       "0      PF00736                  NaN   \n",
       "1      PF00122                  NaN   \n",
       "2      PF03835                  NaN   \n",
       "3      PF02181                  NaN   \n",
       "4      PF08236                  NaN   \n",
       "5      PF08647                  NaN   \n",
       "6      PF04096                  NaN   \n",
       "7      PF03198                  NaN   \n",
       "8      PF00063                  NaN   \n",
       "9      PF03399                  NaN   \n",
       "10     PF00617                  NaN   \n",
       "11     PF08771                  NaN   \n",
       "12     PF03531                  NaN   \n",
       "13     PF11488                  NaN   \n",
       "14     PF00575                  NaN   \n",
       "15     PF04136                  NaN   \n",
       "16     PF05160                  NaN   \n",
       "17     PF10104                  NaN   \n",
       "18     PF00676                  NaN   \n",
       "19     PF11635                  NaN   \n",
       "20     PF09402                  NaN   \n",
       "21     PF09402                  NaN   \n",
       "22     PF05843                  NaN   \n",
       "23     PF10681                  NaN   \n",
       "24     PF00995                  NaN   \n",
       "25     PF00995                  NaN   \n",
       "26     PF11976                  NaN   \n",
       "27     PF08598                  NaN   \n",
       "28     PF12998                  NaN   \n",
       "29     PF03256                  NaN   \n",
       "30     PF01115                  NaN   \n",
       "31     PF10193                  NaN   \n",
       "32     PF08574                  NaN   \n",
       "33     PF02136                  NaN   \n",
       "35     PF01176                  NaN   \n",
       "36     PF00248                  NaN   \n",
       "37     PF02204                  NaN   \n",
       "38     PF00649                  NaN   \n",
       "39     PF01704                  NaN   \n",
       "40     PF01704                  NaN   \n",
       "41     PF03847                  NaN   \n",
       "42     PF03114                  NaN   \n",
       "43     PF03114                  NaN   \n",
       "44     PF08203                  NaN   \n",
       "45     PF04124                  NaN   \n",
       "46     PF00475                  NaN   \n",
       "47     PF00475                  NaN   \n",
       "48     PF04031                  NaN   \n",
       "49     PF06218                  NaN   \n",
       "50     PF12719                  NaN   \n",
       "51     PF00628                  NaN   \n",
       "52     PF02144                  NaN   \n",
       "\n",
       "                                 domain-description_y  \n",
       "0      CLTH; CTLH/CRA C-terminal to LisH motif domain  \n",
       "1                                                 ADK  \n",
       "2               HlyIII; AdipoR/Haemolysin-III-related  \n",
       "3                   Ecl1; Life-span regulatory factor  \n",
       "4                            ParBc; ParB/Sulfiredoxin  \n",
       "5   RNA_pol_L_2; DNA-directed RNA polymerase, RBP1...  \n",
       "6   Kin17_mid; DNA/RNA-binding protein Kin17, cons...  \n",
       "7     Glycos_transf_1; Glycosyl transferase, family 1  \n",
       "8           AAA_5; ATPase, dynein-related, AAA domain  \n",
       "9                                              HEAT_2  \n",
       "10                                 BolA; BolA protein  \n",
       "11    RPOL_N; DNA-directed RNA polymerase, N-terminal  \n",
       "12                                HORMA; HORMA domain  \n",
       "13                               SPT2; Chromatin SPT2  \n",
       "14           BPL_N; Biotin-protein ligase, N-terminal  \n",
       "15                       LRR_4; Leucine rich repeat 4  \n",
       "16                               MmgE_PrpD; MmgE/PrpD  \n",
       "17               Ribosomal_L36; Ribosomal protein L36  \n",
       "18               CDC48_N; CDC48, N-terminal subdomain  \n",
       "19  SRP72; Signal recognition particle, SRP72 subu...  \n",
       "20                Rbsn; Rabenosyn, Rab binding domain  \n",
       "21                Rbsn; Rabenosyn, Rab binding domain  \n",
       "22  Na_Ca_ex; Sodium/calcium exchanger membrane re...  \n",
       "23              SLC12; SLC12A transporter, C-terminal  \n",
       "24               Cation_efflux; Cation efflux protein  \n",
       "25               Cation_efflux; Cation efflux protein  \n",
       "26                                              Sec20  \n",
       "27                                    RAI1; RAI1-like  \n",
       "28  TFIIIC_sub6; Transcription factor TFIIIC, tau5...  \n",
       "29                  Gsf2; Glucose signalling factor 2  \n",
       "30                         CoaE; Dephospho-CoA kinase  \n",
       "31             Ribosomal_L4; Ribosomal protein L4/L1e  \n",
       "32  Pterin_4a; Transcriptional coactivator/pterin ...  \n",
       "33        ERO1; Endoplasmic reticulum oxidoreductin 1  \n",
       "35  Cut8; Tethering factor for nuclear proteasome ...  \n",
       "36  ATP-synt; ATP synthase, F1 complex, gamma subunit  \n",
       "37                          Endosulfine; Endosulphine  \n",
       "38                          CBF; CCAAT-binding factor  \n",
       "39        DUF3835; Domain of unknown function DUF3835  \n",
       "40        DUF3835; Domain of unknown function DUF3835  \n",
       "41                          Homeobox; Homeobox domain  \n",
       "42  Glyco_hydro_18; Glycoside hydrolase family 18,...  \n",
       "43  Glyco_hydro_18; Glycoside hydrolase family 18,...  \n",
       "44                    PUF; Pumilio RNA-binding repeat  \n",
       "45                         LIM; Zinc finger, LIM-type  \n",
       "46        Arrestin_C; Arrestin C-terminal-like domain  \n",
       "47        Arrestin_C; Arrestin C-terminal-like domain  \n",
       "48                    Ion_trans; Ion transport domain  \n",
       "49                                            Nrap_D4  \n",
       "50   Ste5; Scaffold protein Ste5, Fus3-binding domain  \n",
       "51  C1_1; Protein kinase C-like, phorbol ester/dia...  \n",
       "52   EST1_DNA_bind; DNA/RNA-binding domain, Est1-type  "
      ]
     },
     "execution_count": 30,
     "metadata": {},
     "output_type": "execute_result"
    }
   ],
   "source": [
    "only_nsl_pd=pd.merge(repeated_features_sl,repeated_features_nsl,how='right',on=['domain-name'])\n",
    "data_only_nsl = only_nsl_pd[pd.isnull(only_nsl_pd['domain-description_x'])]\n",
    "data_only_nsl"
   ]
  },
  {
   "cell_type": "code",
   "execution_count": 31,
   "metadata": {
    "execution": {
     "iopub.execute_input": "2020-08-14T12:57:05.544100Z",
     "iopub.status.busy": "2020-08-14T12:57:05.543558Z",
     "iopub.status.idle": "2020-08-14T12:57:05.548367Z",
     "shell.execute_reply": "2020-08-14T12:57:05.548734Z"
    }
   },
   "outputs": [
    {
     "data": {
      "text/html": [
       "<div>\n",
       "<style scoped>\n",
       "    .dataframe tbody tr th:only-of-type {\n",
       "        vertical-align: middle;\n",
       "    }\n",
       "\n",
       "    .dataframe tbody tr th {\n",
       "        vertical-align: top;\n",
       "    }\n",
       "\n",
       "    .dataframe thead th {\n",
       "        text-align: right;\n",
       "    }\n",
       "</style>\n",
       "<table border=\"1\" class=\"dataframe\">\n",
       "  <thead>\n",
       "    <tr style=\"text-align: right;\">\n",
       "      <th></th>\n",
       "      <th>domain-name</th>\n",
       "      <th>domain-description_x</th>\n",
       "      <th>domain-description_y</th>\n",
       "    </tr>\n",
       "  </thead>\n",
       "  <tbody>\n",
       "    <tr>\n",
       "      <th>0</th>\n",
       "      <td>PF13245</td>\n",
       "      <td>TP6A_N; Spo11/DNA topoisomerase VI, subunit A,...</td>\n",
       "      <td>TP6A_N; Spo11/DNA topoisomerase VI, subunit A,...</td>\n",
       "    </tr>\n",
       "  </tbody>\n",
       "</table>\n",
       "</div>"
      ],
      "text/plain": [
       "  domain-name                               domain-description_x  \\\n",
       "0     PF13245  TP6A_N; Spo11/DNA topoisomerase VI, subunit A,...   \n",
       "\n",
       "                                domain-description_y  \n",
       "0  TP6A_N; Spo11/DNA topoisomerase VI, subunit A,...  "
      ]
     },
     "execution_count": 31,
     "metadata": {},
     "output_type": "execute_result"
    }
   ],
   "source": [
    "shared_domains_pd=pd.merge(repeated_features_sl,repeated_features_nsl,how='inner',on=['domain-name'])\n",
    "shared_domains_pd\n"
   ]
  },
  {
   "cell_type": "code",
   "execution_count": 32,
   "metadata": {
    "execution": {
     "iopub.execute_input": "2020-08-14T12:57:05.560303Z",
     "iopub.status.busy": "2020-08-14T12:57:05.557236Z",
     "iopub.status.idle": "2020-08-14T12:57:06.971748Z",
     "shell.execute_reply": "2020-08-14T12:57:06.971271Z"
    }
   },
   "outputs": [
    {
     "data": {
      "text/plain": [
       "(0.0, 0.2)"
      ]
     },
     "execution_count": 32,
     "metadata": {},
     "output_type": "execute_result"
    },
    {
     "data": {
      "image/png": "[encoded data removed]",
      "text/plain": [
       "<Figure size 432x288 with 1 Axes>"
      ]
     },
     "metadata": {
      "filenames": {
       "image/png": "/home/runner/work/jupyter-book/jupyter-book/mini_book/docs/_build/jupyter_execute/prot_domains2lethality-FEATURES-POSTPROCESSING_47_1.png"
      },
      "needs_background": "light"
     },
     "output_type": "display_data"
    }
   ],
   "source": [
    "a_sl=x_sl.iloc[:,np.sort(df_sl.iloc[:,1])]\n",
    "a_sl.describe().loc['mean'].hist(bins=8),\n",
    "a_sl.describe().loc['std'].hist(bins=8,alpha=0.4)\n",
    "plt.xlim([0,0.2])"
   ]
  },
  {
   "cell_type": "code",
   "execution_count": 33,
   "metadata": {
    "execution": {
     "iopub.execute_input": "2020-08-14T12:57:07.036981Z",
     "iopub.status.busy": "2020-08-14T12:57:07.034427Z",
     "iopub.status.idle": "2020-08-14T12:57:08.507201Z",
     "shell.execute_reply": "2020-08-14T12:57:08.506179Z"
    }
   },
   "outputs": [
    {
     "data": {
      "text/plain": [
       "(0.0, 0.2)"
      ]
     },
     "execution_count": 33,
     "metadata": {},
     "output_type": "execute_result"
    },
    {
     "data": {
      "image/png": "[encoded data removed]",
      "text/plain": [
       "<Figure size 432x288 with 1 Axes>"
      ]
     },
     "metadata": {
      "filenames": {
       "image/png": "/home/runner/work/jupyter-book/jupyter-book/mini_book/docs/_build/jupyter_execute/prot_domains2lethality-FEATURES-POSTPROCESSING_48_1.png"
      },
      "needs_background": "light"
     },
     "output_type": "display_data"
    }
   ],
   "source": [
    "a_nsl=x_nsl.iloc[:,np.sort(df_nsl.iloc[:,1])]\n",
    "a_nsl.describe().loc['mean'].hist(bins=8),\n",
    "a_nsl.describe().loc['std'].hist(bins=8,alpha=0.4)\n",
    "plt.xlim([0,0.2])"
   ]
  },
  {
   "cell_type": "markdown",
   "metadata": {},
   "source": [
    "### Proof of concept with *BEM1*\n",
    "\n",
    "- Gather the domains of SL and nSL pairs from BEM1\n",
    "- Check if the domains for the SL and nSL pairs are inside the most important domains after PCA."
   ]
  },
  {
   "cell_type": "code",
   "execution_count": 34,
   "metadata": {
    "execution": {
     "iopub.execute_input": "2020-08-14T12:57:08.513469Z",
     "iopub.status.busy": "2020-08-14T12:57:08.513001Z",
     "iopub.status.idle": "2020-08-14T12:57:08.517513Z",
     "shell.execute_reply": "2020-08-14T12:57:08.516731Z"
    }
   },
   "outputs": [],
   "source": [
    "domains_bem1=data_domains[data_domains['name']=='BEM1']['domain-descrip']\n",
    "sl_bem1=data_sl[data_sl['gene-query-name']=='BEM1']['gene-target-name']"
   ]
  },
  {
   "cell_type": "code",
   "execution_count": 35,
   "metadata": {
    "execution": {
     "iopub.execute_input": "2020-08-14T12:57:08.523318Z",
     "iopub.status.busy": "2020-08-14T12:57:08.522837Z",
     "iopub.status.idle": "2020-08-14T12:57:08.527170Z",
     "shell.execute_reply": "2020-08-14T12:57:08.527546Z"
    }
   },
   "outputs": [
    {
     "data": {
      "text/plain": [
       "2846      BEM2\n",
       "2847     CDC24\n",
       "5004      MSB1\n",
       "13777     SMI1\n",
       "13778     BNI1\n",
       "13779     BEM2\n",
       "14385     SKN7\n",
       "Name: gene-target-name, dtype: object"
      ]
     },
     "execution_count": 35,
     "metadata": {},
     "output_type": "execute_result"
    }
   ],
   "source": [
    "sl_bem1"
   ]
  },
  {
   "cell_type": "code",
   "execution_count": 36,
   "metadata": {
    "execution": {
     "iopub.execute_input": "2020-08-14T12:57:08.540154Z",
     "iopub.status.busy": "2020-08-14T12:57:08.539706Z",
     "iopub.status.idle": "2020-08-14T12:57:08.544479Z",
     "shell.execute_reply": "2020-08-14T12:57:08.544083Z"
    }
   },
   "outputs": [
    {
     "data": {
      "text/html": [
       "<div>\n",
       "<style scoped>\n",
       "    .dataframe tbody tr th:only-of-type {\n",
       "        vertical-align: middle;\n",
       "    }\n",
       "\n",
       "    .dataframe tbody tr th {\n",
       "        vertical-align: top;\n",
       "    }\n",
       "\n",
       "    .dataframe thead th {\n",
       "        text-align: right;\n",
       "    }\n",
       "</style>\n",
       "<table border=\"1\" class=\"dataframe\">\n",
       "  <thead>\n",
       "    <tr style=\"text-align: right;\">\n",
       "      <th></th>\n",
       "      <th>gene-query</th>\n",
       "      <th>gene-target</th>\n",
       "      <th>gene-query-name</th>\n",
       "      <th>gene-target-name</th>\n",
       "      <th>gene-query-description</th>\n",
       "      <th>gene-target-description</th>\n",
       "      <th>interaction-type</th>\n",
       "      <th>paper-source</th>\n",
       "    </tr>\n",
       "  </thead>\n",
       "  <tbody>\n",
       "    <tr>\n",
       "      <th>2846</th>\n",
       "      <td>YBR200W</td>\n",
       "      <td>YER155C</td>\n",
       "      <td>BEM1</td>\n",
       "      <td>BEM2</td>\n",
       "      <td>SRO1|phosphatidylinositol-3-phosphate-binding ...</td>\n",
       "      <td>IPL2|SUP9|TSL1|L000000168</td>\n",
       "      <td>Synthetic Lethality</td>\n",
       "      <td>Peterson J (1994)</td>\n",
       "    </tr>\n",
       "    <tr>\n",
       "      <th>2847</th>\n",
       "      <td>YBR200W</td>\n",
       "      <td>YAL041W</td>\n",
       "      <td>BEM1</td>\n",
       "      <td>CDC24</td>\n",
       "      <td>SRO1|phosphatidylinositol-3-phosphate-binding ...</td>\n",
       "      <td>CLS4|Rho family guanine nucleotide exchange fa...</td>\n",
       "      <td>Synthetic Lethality</td>\n",
       "      <td>Peterson J (1994)</td>\n",
       "    </tr>\n",
       "    <tr>\n",
       "      <th>5004</th>\n",
       "      <td>YBR200W</td>\n",
       "      <td>YOR188W</td>\n",
       "      <td>BEM1</td>\n",
       "      <td>MSB1</td>\n",
       "      <td>SRO1|phosphatidylinositol-3-phosphate-binding ...</td>\n",
       "      <td>L000001184</td>\n",
       "      <td>Synthetic Lethality</td>\n",
       "      <td>Bender A (1991)</td>\n",
       "    </tr>\n",
       "    <tr>\n",
       "      <th>13777</th>\n",
       "      <td>YBR200W</td>\n",
       "      <td>YGR229C</td>\n",
       "      <td>BEM1</td>\n",
       "      <td>SMI1</td>\n",
       "      <td>SRO1|phosphatidylinositol-3-phosphate-binding ...</td>\n",
       "      <td>KNR4|L000000909</td>\n",
       "      <td>Synthetic Lethality</td>\n",
       "      <td>Gorelik M (2011)</td>\n",
       "    </tr>\n",
       "    <tr>\n",
       "      <th>13778</th>\n",
       "      <td>YBR200W</td>\n",
       "      <td>YNL271C</td>\n",
       "      <td>BEM1</td>\n",
       "      <td>BNI1</td>\n",
       "      <td>SRO1|phosphatidylinositol-3-phosphate-binding ...</td>\n",
       "      <td>PPF3|SHE5|formin BNI1|L000000190</td>\n",
       "      <td>Synthetic Lethality</td>\n",
       "      <td>Gorelik M (2011)</td>\n",
       "    </tr>\n",
       "    <tr>\n",
       "      <th>13779</th>\n",
       "      <td>YBR200W</td>\n",
       "      <td>YER155C</td>\n",
       "      <td>BEM1</td>\n",
       "      <td>BEM2</td>\n",
       "      <td>SRO1|phosphatidylinositol-3-phosphate-binding ...</td>\n",
       "      <td>IPL2|SUP9|TSL1|L000000168</td>\n",
       "      <td>Synthetic Lethality</td>\n",
       "      <td>Gorelik M (2011)</td>\n",
       "    </tr>\n",
       "    <tr>\n",
       "      <th>14385</th>\n",
       "      <td>YBR200W</td>\n",
       "      <td>YHR206W</td>\n",
       "      <td>BEM1</td>\n",
       "      <td>SKN7</td>\n",
       "      <td>SRO1|phosphatidylinositol-3-phosphate-binding ...</td>\n",
       "      <td>BRY1|POS9|kinase-regulated stress-responsive t...</td>\n",
       "      <td>Dosage Lethality</td>\n",
       "      <td>Bouquin N (1999)</td>\n",
       "    </tr>\n",
       "  </tbody>\n",
       "</table>\n",
       "</div>"
      ],
      "text/plain": [
       "      gene-query gene-target gene-query-name gene-target-name  \\\n",
       "2846     YBR200W     YER155C            BEM1             BEM2   \n",
       "2847     YBR200W     YAL041W            BEM1            CDC24   \n",
       "5004     YBR200W     YOR188W            BEM1             MSB1   \n",
       "13777    YBR200W     YGR229C            BEM1             SMI1   \n",
       "13778    YBR200W     YNL271C            BEM1             BNI1   \n",
       "13779    YBR200W     YER155C            BEM1             BEM2   \n",
       "14385    YBR200W     YHR206W            BEM1             SKN7   \n",
       "\n",
       "                                  gene-query-description  \\\n",
       "2846   SRO1|phosphatidylinositol-3-phosphate-binding ...   \n",
       "2847   SRO1|phosphatidylinositol-3-phosphate-binding ...   \n",
       "5004   SRO1|phosphatidylinositol-3-phosphate-binding ...   \n",
       "13777  SRO1|phosphatidylinositol-3-phosphate-binding ...   \n",
       "13778  SRO1|phosphatidylinositol-3-phosphate-binding ...   \n",
       "13779  SRO1|phosphatidylinositol-3-phosphate-binding ...   \n",
       "14385  SRO1|phosphatidylinositol-3-phosphate-binding ...   \n",
       "\n",
       "                                 gene-target-description     interaction-type  \\\n",
       "2846                           IPL2|SUP9|TSL1|L000000168  Synthetic Lethality   \n",
       "2847   CLS4|Rho family guanine nucleotide exchange fa...  Synthetic Lethality   \n",
       "5004                                          L000001184  Synthetic Lethality   \n",
       "13777                                    KNR4|L000000909  Synthetic Lethality   \n",
       "13778                   PPF3|SHE5|formin BNI1|L000000190  Synthetic Lethality   \n",
       "13779                          IPL2|SUP9|TSL1|L000000168  Synthetic Lethality   \n",
       "14385  BRY1|POS9|kinase-regulated stress-responsive t...     Dosage Lethality   \n",
       "\n",
       "            paper-source  \n",
       "2846   Peterson J (1994)  \n",
       "2847   Peterson J (1994)  \n",
       "5004     Bender A (1991)  \n",
       "13777   Gorelik M (2011)  \n",
       "13778   Gorelik M (2011)  \n",
       "13779   Gorelik M (2011)  \n",
       "14385   Bouquin N (1999)  "
      ]
     },
     "execution_count": 36,
     "metadata": {},
     "output_type": "execute_result"
    }
   ],
   "source": [
    "data_sl[data_sl['gene-query-name']=='BEM1']"
   ]
  },
  {
   "cell_type": "code",
   "execution_count": null,
   "metadata": {},
   "outputs": [],
   "source": []
  }
 ],
 "metadata": {
  "jupytext": {
   "text_representation": {
    "extension": ".md",
    "format_name": "myst"
   }
  },
  "kernelspec": {
   "display_name": "Python 3",
   "language": "python",
   "name": "python3"
  },
  "language_info": {
   "codemirror_mode": {
    "name": "ipython",
    "version": 3
   },
   "file_extension": ".py",
   "mimetype": "text/x-python",
   "name": "python",
   "nbconvert_exporter": "python",
   "pygments_lexer": "ipython3",
   "version": "3.7.8"
  },
  "source_map": [
   10,
   18,
   29,
   36,
   57,
   66,
   98,
   101,
   105,
   128,
   131,
   135,
   139,
   145,
   178,
   184,
   188,
   206,
   210,
   218,
   222,
   225,
   229,
   234,
   238,
   244,
   248,
   253,
   257,
   267,
   269,
   273,
   306,
   311,
   313,
   317,
   328,
   330,
   334,
   344,
   348,
   358,
   360,
   364,
   381,
   388,
   394,
   400,
   407,
   412,
   419,
   424,
   428,
   432
  ]
 },
 "nbformat": 4,
 "nbformat_minor": 4
}