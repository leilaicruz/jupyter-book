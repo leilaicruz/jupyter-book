{
 "cells": [
  {
   "cell_type": "markdown",
   "metadata": {},
   "source": [
    "# Feature postprocessing from paper.\n",
    "- Title:  \"Predicting yeast synthetic lethal genetic interactions using protein domains\"\n",
    "- Authors: Bo Li, Feng Luo,School of Computing,Clemson University,Clemson, SC, USA\n",
    "- e-mail: bol, luofeng@clemson.edu\n",
    "- year:2009"
   ]
  },
  {
   "cell_type": "code",
   "execution_count": 1,
   "metadata": {
    "execution": {
     "iopub.execute_input": "2020-07-14T21:11:17.288306Z",
     "iopub.status.busy": "2020-07-14T21:11:17.287752Z",
     "iopub.status.idle": "2020-07-14T21:11:18.000948Z",
     "shell.execute_reply": "2020-07-14T21:11:17.999772Z"
    }
   },
   "outputs": [],
   "source": [
    "import pandas as pd\n",
    "import numpy as np\n",
    "import matplotlib.pyplot as plt\n",
    "from collections import defaultdict \n",
    "import seaborn as sns\n",
    "import matplotlib.cm as cm\n",
    "import scipy as scipy\n",
    "import random"
   ]
  },
  {
   "cell_type": "markdown",
   "metadata": {
    "jupyter": {
     "source_hidden": true
    }
   },
   "source": [
    "### Importing datasets \n",
    "\n",
    "#### Link to the github repo where the datasets to be downloaded:\n",
    "[DOWNLOAD THE DATASETS HERE](https://github.com/leilaicruz/machine-learning-for-yeast/tree/dev_Leila/datasets-for-learning)"
   ]
  },
  {
   "cell_type": "code",
   "execution_count": 2,
   "metadata": {
    "execution": {
     "iopub.execute_input": "2020-07-14T21:11:18.009167Z",
     "iopub.status.busy": "2020-07-14T21:11:18.007949Z",
     "iopub.status.idle": "2020-07-14T21:11:25.635526Z",
     "shell.execute_reply": "2020-07-14T21:11:25.636037Z"
    }
   },
   "outputs": [],
   "source": [
    "import os\n",
    "script_dir = os.path.dirname('__file__') #<-- absolute dir the script is in\n",
    "rel_path_SL = \"datasets/data-synthetic-lethals.xlsx\"\n",
    "rel_path_nSL=\"datasets/data-positive-genetic.xlsx\"\n",
    "rel_path_domains=\"datasets/proteins-domains-from-Pfam.xlsx\"\n",
    "\n",
    "abs_file_path_SL = os.path.join(script_dir, rel_path_SL)\n",
    "abs_file_path_nSL = os.path.join(script_dir, rel_path_nSL)\n",
    "abs_file_path_domains = os.path.join(script_dir, rel_path_domains)\n",
    "\n",
    "# os.chdir('mini_book/docs/') #<-- for binder os.chdir('../')\n",
    "# os.chdir('../')\n",
    "my_path_sl= abs_file_path_SL\n",
    "my_path_non_sl=abs_file_path_nSL\n",
    "my_path_domains=abs_file_path_domains\n",
    "\n",
    "data_sl=pd.read_excel(my_path_sl,header=0)\n",
    "data_domains=pd.read_excel(my_path_domains,header=0,index_col='Unnamed: 0')\n",
    "data_domains=data_domains.dropna()\n",
    "data_nonsl=pd.read_excel(my_path_non_sl,header=0)"
   ]
  },
  {
   "cell_type": "markdown",
   "metadata": {},
   "source": [
    "## Building the feature matrix\n",
    "One matrix for true SL where each row is one pair of SL. Every raw will be a vector of 0,1 or 2 depending on the comparison with the domain list. For row i the jth element = 0 if the jth element of the domain list is not in neither protein A and B, 1, if it is in one of them and 2 if it is in both of them .\n",
    "\n",
    "### Building the list of proteins domains id per protein pair separately :\n",
    "- List of protein A: Search for the Sl/nSL database the query gene name and look in the protein domain database which protein domains id has each of those queries.\n",
    "- List of protein B: Search for the Sl/nSL database the target gene name of the previous query and look in the protein domain database which protein domains id has each of those target genes."
   ]
  },
  {
   "cell_type": "code",
   "execution_count": 3,
   "metadata": {
    "execution": {
     "iopub.execute_input": "2020-07-14T21:11:25.651344Z",
     "iopub.status.busy": "2020-07-14T21:11:25.650793Z",
     "iopub.status.idle": "2020-07-14T21:11:27.681997Z",
     "shell.execute_reply": "2020-07-14T21:11:27.680991Z"
    }
   },
   "outputs": [],
   "source": [
    "# Selecting the meaningful columns in the respective dataset\n",
    "domain_id_list=data_domains['domain-name']\n",
    "query_gene=data_sl['gene-query-name']\n",
    "target_gene=data_sl['gene-target-name']\n",
    "query_gene_nonlethal=data_nonsl['gene-query-name']\n",
    "target_gene_nonlethal=data_nonsl['gene-target-name']\n",
    "\n",
    "\n",
    "\n",
    "# Initialising the arrays\n",
    "protein_a_list=[]\n",
    "protein_b_list=[]\n",
    "protein_a_list_non=[]\n",
    "protein_b_list_non=[]\n",
    "\n",
    "population = np.arange(0,len(data_sl))\n",
    "\n",
    "# For loop for 10000 pairs sampled randomly from the SL/nSl pair list , and creating a big array of proteind domains id per protein pair\n",
    "\n",
    "for m in random.sample(list(population), 500):\n",
    "    protein_a=data_domains[data_domains['name']==query_gene[m]]\n",
    "    protein_b=data_domains[data_domains['name']==target_gene[m]]\n",
    "    protein_a_list.append(protein_a['domain-name'].tolist())\n",
    "    protein_b_list.append(protein_b['domain-name'].tolist())\n",
    "\n",
    "    protein_a_non=data_domains[data_domains['name']==query_gene_nonlethal[m]]\n",
    "    protein_b_non=data_domains[data_domains['name']==target_gene_nonlethal[m]]\n",
    "    protein_a_list_non.append(protein_a_non['domain-name'].tolist())\n",
    "    protein_b_list_non.append(protein_b_non['domain-name'].tolist())"
   ]
  },
  {
   "cell_type": "code",
   "execution_count": 4,
   "metadata": {
    "execution": {
     "iopub.execute_input": "2020-07-14T21:11:27.687275Z",
     "iopub.status.busy": "2020-07-14T21:11:27.686757Z",
     "iopub.status.idle": "2020-07-14T21:11:27.690417Z",
     "shell.execute_reply": "2020-07-14T21:11:27.689989Z"
    }
   },
   "outputs": [
    {
     "name": "stdout",
     "output_type": "stream",
     "text": [
      "We are going to analyze 500 protein pairs, out of 17871 SL protein pairs\n",
      "We are going to analyze 500 protein pairs, out of 43340 positive protein pairs\n"
     ]
    }
   ],
   "source": [
    "print('We are going to analyze',len((protein_a_list)) ,'protein pairs, out of',len(data_sl),'SL protein pairs')\n",
    "print('We are going to analyze',len((protein_a_list_non)) ,'protein pairs, out of',len(data_nonsl),'positive protein pairs')"
   ]
  },
  {
   "cell_type": "markdown",
   "metadata": {},
   "source": [
    "### Postprocessing #1:  Remove protein pairs from study if either protein in the pair does not contain any domain"
   ]
  },
  {
   "cell_type": "code",
   "execution_count": 5,
   "metadata": {
    "execution": {
     "iopub.execute_input": "2020-07-14T21:11:27.700382Z",
     "iopub.status.busy": "2020-07-14T21:11:27.699852Z",
     "iopub.status.idle": "2020-07-14T21:11:27.702811Z",
     "shell.execute_reply": "2020-07-14T21:11:27.702028Z"
    }
   },
   "outputs": [],
   "source": [
    "def remove_empty_domains(protein_list_search,protein_list_pair):\n",
    "    index=[]\n",
    "    for i in np.arange(0,len(protein_list_search)):\n",
    "        if protein_list_search[i]==[] or protein_list_pair[i]==[]:\n",
    "            index.append(i) ## index of empty values for the protein_a_list meaning they dont have any annotated domain\n",
    "\n",
    "    y=[x for x in np.arange(0,len(protein_list_search)) if x not in index] # a list with non empty values from protein_a list\n",
    "\n",
    "    protein_list_search_new=[]\n",
    "    protein_list_pair_new=[]\n",
    "    for i in y:\n",
    "        protein_list_search_new.append(protein_list_search[i])\n",
    "        protein_list_pair_new.append(protein_list_pair[i])\n",
    "    return protein_list_search_new,protein_list_pair_new\n",
    "\n",
    "## evaluating the function\n",
    "\n",
    "protein_a_list_new,protein_b_list_new=remove_empty_domains(protein_a_list,protein_b_list)\n",
    "\n",
    "protein_a_list_non_new,protein_b_list_non_new=remove_empty_domains(protein_a_list_non,protein_b_list_non)"
   ]
  },
  {
   "cell_type": "code",
   "execution_count": 6,
   "metadata": {
    "execution": {
     "iopub.execute_input": "2020-07-14T21:11:27.707186Z",
     "iopub.status.busy": "2020-07-14T21:11:27.706680Z",
     "iopub.status.idle": "2020-07-14T21:11:27.710442Z",
     "shell.execute_reply": "2020-07-14T21:11:27.710024Z"
    }
   },
   "outputs": [
    {
     "name": "stdout",
     "output_type": "stream",
     "text": [
      "The empty domain in the SL were: 69 out of 500 domains\n",
      "The empty domain in the nSL were: 92 out of 500 domains\n"
     ]
    }
   ],
   "source": [
    "print('The empty domain in the SL were:', len(protein_a_list)-len(protein_a_list_new), 'out of', len(protein_a_list),'domains')\n",
    "print('The empty domain in the nSL were:', len(protein_a_list_non)-len(protein_a_list_non_new), 'out of', len(protein_a_list_non),'domains')"
   ]
  },
  {
   "cell_type": "markdown",
   "metadata": {},
   "source": [
    "### Feature engineering: Select from each ordered indexes of domain id list which of them appear once, in both or in any of the domains of each protein pair"
   ]
  },
  {
   "cell_type": "markdown",
   "metadata": {},
   "source": [
    "#### Define function `get_indexes`"
   ]
  },
  {
   "cell_type": "code",
   "execution_count": 7,
   "metadata": {
    "execution": {
     "iopub.execute_input": "2020-07-14T21:11:27.716859Z",
     "iopub.status.busy": "2020-07-14T21:11:27.716355Z",
     "iopub.status.idle": "2020-07-14T21:11:27.721386Z",
     "shell.execute_reply": "2020-07-14T21:11:27.720968Z"
    }
   },
   "outputs": [
    {
     "data": {
      "text/plain": [
       "[1, 2]"
      ]
     },
     "execution_count": 7,
     "metadata": {},
     "output_type": "execute_result"
    }
   ],
   "source": [
    "get_indexes = lambda x, xs: [i for (y, i) in zip(xs, range(len(xs))) if x == y] # a function that give the index of whether a value appear in array or not\n",
    "a=[1,2,2,4,5,6,7,8,9,10]\n",
    "get_indexes(2,a)"
   ]
  },
  {
   "cell_type": "code",
   "execution_count": 8,
   "metadata": {
    "execution": {
     "iopub.execute_input": "2020-07-14T21:11:27.731626Z",
     "iopub.status.busy": "2020-07-14T21:11:27.730373Z",
     "iopub.status.idle": "2020-07-14T21:11:27.732229Z",
     "shell.execute_reply": "2020-07-14T21:11:27.732642Z"
    }
   },
   "outputs": [],
   "source": [
    "def feature_building(protein_a_list_new,protein_b_list_new):\n",
    "    x = np.unique(domain_id_list)\n",
    "    ## To avoid taking repeated domains from one protein of the pairs , lets reduced the domains of each protein from the pairs to their unique members\n",
    "    protein_a_list_unique=[]\n",
    "    protein_b_list_unique=[]\n",
    "    for i in np.arange(0,len(protein_a_list_new)):\n",
    "        protein_a_list_unique.append(np.unique(protein_a_list_new[i]))\n",
    "        protein_b_list_unique.append(np.unique(protein_b_list_new[i]))\n",
    "        \n",
    "    protein_feat_true=np.zeros(shape=(len(x),len(protein_a_list_unique)))\n",
    "    pair_a_b_array=[]\n",
    "    for i in np.arange(0,len(protein_a_list_unique)):\n",
    "        index_a=[]\n",
    "        \n",
    "        pair=[protein_a_list_unique[i],protein_b_list_unique[i]]\n",
    "        pair_a_b=np.concatenate(pair).ravel()\n",
    "        pair_a_b_array.append(pair_a_b)\n",
    "\n",
    "    j=0\n",
    "    for i in pair_a_b_array:  \n",
    "        array,index,counts=np.unique(i,return_index=True,return_counts=True)\n",
    "        \n",
    "        for k,m in zip(counts,array):\n",
    "            if k ==2:\n",
    "                protein_feat_true[get_indexes(m,x),j]=2\n",
    "                \n",
    "            if k==1:\n",
    "                protein_feat_true[get_indexes(m,x),j]=1\n",
    "        j=j+1\n",
    "    return protein_feat_true"
   ]
  },
  {
   "cell_type": "code",
   "execution_count": 9,
   "metadata": {
    "execution": {
     "iopub.execute_input": "2020-07-14T21:11:27.741625Z",
     "iopub.status.busy": "2020-07-14T21:11:27.741113Z",
     "iopub.status.idle": "2020-07-14T21:11:28.408923Z",
     "shell.execute_reply": "2020-07-14T21:11:28.408080Z"
    }
   },
   "outputs": [],
   "source": [
    "protein_feat_true=feature_building(protein_b_list_new=protein_b_list_new,protein_a_list_new=protein_a_list_new)\n",
    "protein_feat_true_pd=pd.DataFrame(protein_feat_true.T)\n",
    "\n",
    "protein_feat_non_true=feature_building(protein_b_list_new=protein_b_list_non_new,protein_a_list_new=protein_a_list_non_new)\n",
    "protein_feat_non_true_pd=pd.DataFrame(protein_feat_non_true.T)"
   ]
  },
  {
   "cell_type": "markdown",
   "metadata": {},
   "source": [
    "### How many ones and twos are in each dataset"
   ]
  },
  {
   "cell_type": "code",
   "execution_count": 10,
   "metadata": {
    "execution": {
     "iopub.execute_input": "2020-07-14T21:11:28.416799Z",
     "iopub.status.busy": "2020-07-14T21:11:28.416280Z",
     "iopub.status.idle": "2020-07-14T21:11:28.509895Z",
     "shell.execute_reply": "2020-07-14T21:11:28.509422Z"
    }
   },
   "outputs": [
    {
     "name": "stdout",
     "output_type": "stream",
     "text": [
      "fraction of twos in the SL array is 2.147609825314951e-05\n",
      "fraction of ones in the SL array is 0.001013211635443232\n",
      "fraction of twos in the PI array is 8.912655971479501e-06\n",
      "fraction of ones in the PI array is 0.0009406903257170637\n"
     ]
    }
   ],
   "source": [
    "index_2_true=protein_feat_true_pd.where(protein_feat_true_pd==2)\n",
    "index_2_true_count=index_2_true.count(axis=1).sum()\n",
    "\n",
    "index_1_true=protein_feat_true_pd.where(protein_feat_true_pd==1)\n",
    "index_1_true_count=index_1_true.count(axis=1).sum()\n",
    "\n",
    "index_2_nontrue=protein_feat_non_true_pd.where(protein_feat_non_true_pd==2)\n",
    "index_2_nontrue_count=index_2_nontrue.count(axis=1).sum()\n",
    "\n",
    "index_1_nontrue=protein_feat_non_true_pd.where(protein_feat_non_true_pd==1)\n",
    "index_1_nontrue_count=index_1_nontrue.count(axis=1).sum()\n",
    "\n",
    "\n",
    "print('fraction of twos in the SL array is',index_2_true_count/(len(protein_feat_true_pd.index)*len(protein_feat_true_pd.columns)))\n",
    "print('fraction of ones in the SL array is',index_1_true_count/(len(protein_feat_true_pd.index)*len(protein_feat_true_pd.columns)))\n",
    "print('fraction of twos in the PI array is',index_2_nontrue_count/(len(protein_feat_non_true_pd.index)*len(protein_feat_non_true_pd.columns)))\n",
    "print('fraction of ones in the PI array is',index_1_nontrue_count/(len(protein_feat_non_true_pd.index)*len(protein_feat_non_true_pd.columns)))"
   ]
  },
  {
   "cell_type": "markdown",
   "metadata": {},
   "source": [
    "#### Bar plot to visualize these numbers"
   ]
  },
  {
   "cell_type": "code",
   "execution_count": 11,
   "metadata": {
    "execution": {
     "iopub.execute_input": "2020-07-14T21:11:28.517053Z",
     "iopub.status.busy": "2020-07-14T21:11:28.516535Z",
     "iopub.status.idle": "2020-07-14T21:11:28.881963Z",
     "shell.execute_reply": "2020-07-14T21:11:28.880905Z"
    }
   },
   "outputs": [
    {
     "data": {
      "text/plain": [
       "([0, 1, 2, 3], <a list of 4 Text major ticklabel objects>)"
      ]
     },
     "execution_count": 11,
     "metadata": {},
     "output_type": "execute_result"
    },
    {
     "data": {
      "image/png": "[encoded data removed]",
      "text/plain": [
       "<Figure size 432x288 with 1 Axes>"
      ]
     },
     "metadata": {
      "filenames": {
       "image/png": "/home/runner/work/jupyter-book/jupyter-book/mini_book/docs/_build/jupyter_execute/prot_domains2lethality-FEATURES-POSTPROCESSING_18_1.png"
      },
      "needs_background": "light"
     },
     "output_type": "display_data"
    }
   ],
   "source": [
    "plt.bar(['fraction of 2 in the nSL','fraction of 1 in the nSL'],[index_2_nontrue_count/(len(protein_feat_non_true_pd.index)*len(protein_feat_non_true_pd.columns)),index_1_nontrue_count/(len(protein_feat_non_true_pd.index)*len(protein_feat_non_true_pd.columns))],alpha=0.6,color=['blue','lightblue']), \n",
    "\n",
    "plt.bar(['fraction of 2 in SL ','fraction of 1 in SL'],[index_2_true_count/(len(protein_feat_true_pd.index)*len(protein_feat_true_pd.columns)),index_1_true_count/(len(protein_feat_true_pd.index)*len(protein_feat_true_pd.columns))],alpha=0.6,color=['coral','lightcoral'])\n",
    "\n",
    "plt.ylabel('Fraction from the population')\n",
    "plt.yscale('log')\n",
    "plt.xticks(rotation=40)"
   ]
  },
  {
   "cell_type": "markdown",
   "metadata": {},
   "source": [
    "#### Adding the labels(response variables) to each dataset"
   ]
  },
  {
   "cell_type": "code",
   "execution_count": 12,
   "metadata": {
    "execution": {
     "iopub.execute_input": "2020-07-14T21:11:28.887471Z",
     "iopub.status.busy": "2020-07-14T21:11:28.886943Z",
     "iopub.status.idle": "2020-07-14T21:11:28.891400Z",
     "shell.execute_reply": "2020-07-14T21:11:28.890946Z"
    }
   },
   "outputs": [],
   "source": [
    "protein_feat_true_pd['lethality']=np.ones(shape=(len(protein_a_list_new)))\n",
    "protein_feat_non_true_pd['lethality']=np.zeros(shape=(len(protein_a_list_non_new)))"
   ]
  },
  {
   "cell_type": "markdown",
   "metadata": {},
   "source": [
    "#### Joining both datasets"
   ]
  },
  {
   "cell_type": "code",
   "execution_count": 13,
   "metadata": {
    "execution": {
     "iopub.execute_input": "2020-07-14T21:11:28.896161Z",
     "iopub.status.busy": "2020-07-14T21:11:28.895627Z",
     "iopub.status.idle": "2020-07-14T21:11:28.933802Z",
     "shell.execute_reply": "2020-07-14T21:11:28.934470Z"
    }
   },
   "outputs": [
    {
     "name": "stdout",
     "output_type": "stream",
     "text": [
      "The number of features are: 3026\n",
      "The number of samples are: 839\n"
     ]
    }
   ],
   "source": [
    "feature_post=pd.concat([protein_feat_true_pd,protein_feat_non_true_pd],axis=0)\n",
    "feature_post=feature_post.set_index(np.arange(0,len(protein_a_list_new)+len(protein_a_list_non_new)))\n",
    "print('The number of features are:',feature_post.shape[1])\n",
    "print('The number of samples are:',feature_post.shape[0])"
   ]
  },
  {
   "cell_type": "markdown",
   "metadata": {},
   "source": [
    "### Postprocessing and exploration of the feature matrix of both datasets"
   ]
  },
  {
   "cell_type": "code",
   "execution_count": 14,
   "metadata": {
    "execution": {
     "iopub.execute_input": "2020-07-14T21:11:28.950421Z",
     "iopub.status.busy": "2020-07-14T21:11:28.949854Z",
     "iopub.status.idle": "2020-07-14T21:11:32.955456Z",
     "shell.execute_reply": "2020-07-14T21:11:32.954489Z"
    }
   },
   "outputs": [],
   "source": [
    "mean=feature_post.T.describe().loc['mean']\n",
    "std=feature_post.T.describe().loc['std']\n",
    "lethality=feature_post['lethality']\n",
    "\n",
    "corr_keys=pd.concat([mean,std,lethality],axis=1)"
   ]
  },
  {
   "cell_type": "markdown",
   "metadata": {},
   "source": [
    "### Viz of the stats"
   ]
  },
  {
   "cell_type": "code",
   "execution_count": 15,
   "metadata": {
    "execution": {
     "iopub.execute_input": "2020-07-14T21:11:32.977267Z",
     "iopub.status.busy": "2020-07-14T21:11:32.969217Z",
     "iopub.status.idle": "2020-07-14T21:11:34.482852Z",
     "shell.execute_reply": "2020-07-14T21:11:34.483254Z"
    }
   },
   "outputs": [
    {
     "data": {
      "text/plain": [
       "Text(0.5, 1.08, 'Pairplot to see data dependencies with Lethality')"
      ]
     },
     "execution_count": 15,
     "metadata": {},
     "output_type": "execute_result"
    },
    {
     "data": {
      "image/png": "[encoded data removed]",
      "text/plain": [
       "<Figure size 412x360 with 6 Axes>"
      ]
     },
     "metadata": {
      "filenames": {
       "image/png": "/home/runner/work/jupyter-book/jupyter-book/mini_book/docs/_build/jupyter_execute/prot_domains2lethality-FEATURES-POSTPROCESSING_26_1.png"
      },
      "needs_background": "light"
     },
     "output_type": "display_data"
    }
   ],
   "source": [
    "pair=sns.pairplot(corr_keys,hue='lethality',diag_kind='kde',kind='reg',palette='colorblind')\n",
    "pair.fig.suptitle('Pairplot to see data dependencies with Lethality',y=1.08)"
   ]
  },
  {
   "cell_type": "code",
   "execution_count": 16,
   "metadata": {
    "execution": {
     "iopub.execute_input": "2020-07-14T21:11:34.494720Z",
     "iopub.status.busy": "2020-07-14T21:11:34.494200Z",
     "iopub.status.idle": "2020-07-14T21:11:34.497745Z",
     "shell.execute_reply": "2020-07-14T21:11:34.497311Z"
    }
   },
   "outputs": [],
   "source": [
    "X, y = feature_post.drop(columns=[\"lethality\"]), feature_post[\"lethality\"]"
   ]
  },
  {
   "cell_type": "code",
   "execution_count": 17,
   "metadata": {
    "execution": {
     "iopub.execute_input": "2020-07-14T21:11:34.502719Z",
     "iopub.status.busy": "2020-07-14T21:11:34.501731Z",
     "iopub.status.idle": "2020-07-14T21:11:34.665525Z",
     "shell.execute_reply": "2020-07-14T21:11:34.665050Z"
    }
   },
   "outputs": [],
   "source": [
    "from sklearn.preprocessing import StandardScaler\n",
    "scaler = StandardScaler()\n",
    "x_sl=protein_feat_true_pd.drop(columns=['lethality'])\n",
    "x_nsl=protein_feat_non_true_pd.drop(columns=['lethality'])\n",
    "\n",
    "X_sl_scaled = scaler.fit_transform(x_sl)\n",
    "X_nsl_scaled = scaler.fit_transform(x_nsl)"
   ]
  },
  {
   "cell_type": "code",
   "execution_count": 18,
   "metadata": {
    "execution": {
     "iopub.execute_input": "2020-07-14T21:11:34.670554Z",
     "iopub.status.busy": "2020-07-14T21:11:34.670002Z",
     "iopub.status.idle": "2020-07-14T21:11:34.672593Z",
     "shell.execute_reply": "2020-07-14T21:11:34.673011Z"
    }
   },
   "outputs": [
    {
     "data": {
      "text/plain": [
       "(431, 3025)"
      ]
     },
     "execution_count": 18,
     "metadata": {},
     "output_type": "execute_result"
    }
   ],
   "source": [
    "np.shape(X_sl_scaled)"
   ]
  },
  {
   "cell_type": "markdown",
   "metadata": {},
   "source": [
    "## How redundant are each of the protein domains?"
   ]
  },
  {
   "cell_type": "code",
   "execution_count": 19,
   "metadata": {
    "execution": {
     "iopub.execute_input": "2020-07-14T21:11:34.681552Z",
     "iopub.status.busy": "2020-07-14T21:11:34.680410Z",
     "iopub.status.idle": "2020-07-14T21:11:34.682161Z",
     "shell.execute_reply": "2020-07-14T21:11:34.682582Z"
    }
   },
   "outputs": [],
   "source": [
    "def PCA_component_contribution(scaled_matrix,original_data):\n",
    "    from sklearn.decomposition import PCA\n",
    "\n",
    "    model = PCA(0.95).fit(scaled_matrix)\n",
    "    ## apply dimensionality reduction to X_train\n",
    "    output_pca = model.transform(scaled_matrix)\n",
    "    \n",
    "    total=sum(model.explained_variance_)\n",
    "\n",
    "\n",
    "   \n",
    "    # number of components , that it will be the number of main axes times the number of original components \n",
    "    n_pcs= model.components_.shape[0] # the amount of non redundant protein domains \n",
    "\n",
    "    # get the index of the most important feature on EACH component\n",
    "    # LIST COMPREHENSION HERE\n",
    "    most_important = [np.abs(model.components_[i]).argmax() for i in range(n_pcs)]\n",
    "\n",
    "    initial_feature_names = original_data.columns\n",
    "    # get the names\n",
    "    most_important_names = [initial_feature_names[most_important[i]] for i in range(n_pcs)]\n",
    "    \n",
    "\n",
    "    # LIST COMPREHENSION HERE AGAIN\n",
    "    dic = {'PC{}'.format(i): most_important_names[i] for i in range(n_pcs)}\n",
    "\n",
    "    # build the dataframe\n",
    "    df = pd.DataFrame(dic.items(),columns=['pca-component','domain-number'])\n",
    "\n",
    "    return df,model.components_"
   ]
  },
  {
   "cell_type": "code",
   "execution_count": 20,
   "metadata": {
    "execution": {
     "iopub.execute_input": "2020-07-14T21:11:34.686547Z",
     "iopub.status.busy": "2020-07-14T21:11:34.686041Z",
     "iopub.status.idle": "2020-07-14T21:11:35.370162Z",
     "shell.execute_reply": "2020-07-14T21:11:35.370713Z"
    }
   },
   "outputs": [],
   "source": [
    "df_sl,components_pca_nsl=PCA_component_contribution(X_nsl_scaled,x_nsl)\n",
    "df_nsl,components_pca_sl=PCA_component_contribution(X_sl_scaled,x_sl)"
   ]
  },
  {
   "cell_type": "code",
   "execution_count": 21,
   "metadata": {
    "execution": {
     "iopub.execute_input": "2020-07-14T21:11:35.373810Z",
     "iopub.status.busy": "2020-07-14T21:11:35.372699Z",
     "iopub.status.idle": "2020-07-14T21:11:35.383172Z",
     "shell.execute_reply": "2020-07-14T21:11:35.384081Z"
    }
   },
   "outputs": [
    {
     "data": {
      "text/html": [
       "<div>\n",
       "<style scoped>\n",
       "    .dataframe tbody tr th:only-of-type {\n",
       "        vertical-align: middle;\n",
       "    }\n",
       "\n",
       "    .dataframe tbody tr th {\n",
       "        vertical-align: top;\n",
       "    }\n",
       "\n",
       "    .dataframe thead th {\n",
       "        text-align: right;\n",
       "    }\n",
       "</style>\n",
       "<table border=\"1\" class=\"dataframe\">\n",
       "  <thead>\n",
       "    <tr style=\"text-align: right;\">\n",
       "      <th></th>\n",
       "      <th>pca-component</th>\n",
       "      <th>domain-number</th>\n",
       "    </tr>\n",
       "  </thead>\n",
       "  <tbody>\n",
       "    <tr>\n",
       "      <th>0</th>\n",
       "      <td>PC0</td>\n",
       "      <td>540</td>\n",
       "    </tr>\n",
       "    <tr>\n",
       "      <th>1</th>\n",
       "      <td>PC1</td>\n",
       "      <td>2771</td>\n",
       "    </tr>\n",
       "    <tr>\n",
       "      <th>2</th>\n",
       "      <td>PC2</td>\n",
       "      <td>202</td>\n",
       "    </tr>\n",
       "    <tr>\n",
       "      <th>3</th>\n",
       "      <td>PC3</td>\n",
       "      <td>2082</td>\n",
       "    </tr>\n",
       "    <tr>\n",
       "      <th>4</th>\n",
       "      <td>PC4</td>\n",
       "      <td>1671</td>\n",
       "    </tr>\n",
       "  </tbody>\n",
       "</table>\n",
       "</div>"
      ],
      "text/plain": [
       "  pca-component  domain-number\n",
       "0           PC0            540\n",
       "1           PC1           2771\n",
       "2           PC2            202\n",
       "3           PC3           2082\n",
       "4           PC4           1671"
      ]
     },
     "execution_count": 21,
     "metadata": {},
     "output_type": "execute_result"
    }
   ],
   "source": [
    "df_sl.head()"
   ]
  },
  {
   "cell_type": "markdown",
   "metadata": {},
   "source": [
    "## which are the shared domains between nSL and SL pairs , in the PCA reduced samples"
   ]
  },
  {
   "cell_type": "code",
   "execution_count": 22,
   "metadata": {
    "execution": {
     "iopub.execute_input": "2020-07-14T21:11:35.387286Z",
     "iopub.status.busy": "2020-07-14T21:11:35.386172Z",
     "iopub.status.idle": "2020-07-14T21:11:35.415830Z",
     "shell.execute_reply": "2020-07-14T21:11:35.416571Z"
    }
   },
   "outputs": [
    {
     "data": {
      "text/html": [
       "<div>\n",
       "<style scoped>\n",
       "    .dataframe tbody tr th:only-of-type {\n",
       "        vertical-align: middle;\n",
       "    }\n",
       "\n",
       "    .dataframe tbody tr th {\n",
       "        vertical-align: top;\n",
       "    }\n",
       "\n",
       "    .dataframe thead th {\n",
       "        text-align: right;\n",
       "    }\n",
       "</style>\n",
       "<table border=\"1\" class=\"dataframe\">\n",
       "  <thead>\n",
       "    <tr style=\"text-align: right;\">\n",
       "      <th></th>\n",
       "      <th>pca-component_x</th>\n",
       "      <th>domain-number</th>\n",
       "      <th>pca-component_y</th>\n",
       "      <th>domain-description</th>\n",
       "    </tr>\n",
       "  </thead>\n",
       "  <tbody>\n",
       "    <tr>\n",
       "      <th>0</th>\n",
       "      <td>PC5</td>\n",
       "      <td>55</td>\n",
       "      <td>PC11</td>\n",
       "      <td>ADK</td>\n",
       "    </tr>\n",
       "    <tr>\n",
       "      <th>1</th>\n",
       "      <td>PC12</td>\n",
       "      <td>2113</td>\n",
       "      <td>PC5</td>\n",
       "      <td>Rav1p_C; RAVE complex protein Rav1 C-terminal</td>\n",
       "    </tr>\n",
       "    <tr>\n",
       "      <th>2</th>\n",
       "      <td>PC14</td>\n",
       "      <td>602</td>\n",
       "      <td>PC73</td>\n",
       "      <td>DNA_RNApol_7kD; RNA polymerase archaeal subuni...</td>\n",
       "    </tr>\n",
       "    <tr>\n",
       "      <th>3</th>\n",
       "      <td>PC16</td>\n",
       "      <td>24</td>\n",
       "      <td>PC141</td>\n",
       "      <td>AAA_5; ATPase, dynein-related, AAA domain</td>\n",
       "    </tr>\n",
       "    <tr>\n",
       "      <th>4</th>\n",
       "      <td>PC16</td>\n",
       "      <td>24</td>\n",
       "      <td>PC154</td>\n",
       "      <td>AAA_5; ATPase, dynein-related, AAA domain</td>\n",
       "    </tr>\n",
       "    <tr>\n",
       "      <th>...</th>\n",
       "      <td>...</td>\n",
       "      <td>...</td>\n",
       "      <td>...</td>\n",
       "      <td>...</td>\n",
       "    </tr>\n",
       "    <tr>\n",
       "      <th>57</th>\n",
       "      <td>PC249</td>\n",
       "      <td>2916</td>\n",
       "      <td>PC192</td>\n",
       "      <td>fn3_2; Fibronectin type III domain, fungi</td>\n",
       "    </tr>\n",
       "    <tr>\n",
       "      <th>58</th>\n",
       "      <td>PC253</td>\n",
       "      <td>1731</td>\n",
       "      <td>PC27</td>\n",
       "      <td>PFU; PLAA family ubiquitin binding, PFU</td>\n",
       "    </tr>\n",
       "    <tr>\n",
       "      <th>59</th>\n",
       "      <td>PC269</td>\n",
       "      <td>2710</td>\n",
       "      <td>PC31</td>\n",
       "      <td>Trypsin_2</td>\n",
       "    </tr>\n",
       "    <tr>\n",
       "      <th>60</th>\n",
       "      <td>PC280</td>\n",
       "      <td>1347</td>\n",
       "      <td>PC102</td>\n",
       "      <td>MAM33; Mitochondrial glycoprotein</td>\n",
       "    </tr>\n",
       "    <tr>\n",
       "      <th>61</th>\n",
       "      <td>PC280</td>\n",
       "      <td>1347</td>\n",
       "      <td>PC104</td>\n",
       "      <td>MAM33; Mitochondrial glycoprotein</td>\n",
       "    </tr>\n",
       "  </tbody>\n",
       "</table>\n",
       "<p>62 rows × 4 columns</p>\n",
       "</div>"
      ],
      "text/plain": [
       "   pca-component_x  domain-number pca-component_y  \\\n",
       "0              PC5             55            PC11   \n",
       "1             PC12           2113             PC5   \n",
       "2             PC14            602            PC73   \n",
       "3             PC16             24           PC141   \n",
       "4             PC16             24           PC154   \n",
       "..             ...            ...             ...   \n",
       "57           PC249           2916           PC192   \n",
       "58           PC253           1731            PC27   \n",
       "59           PC269           2710            PC31   \n",
       "60           PC280           1347           PC102   \n",
       "61           PC280           1347           PC104   \n",
       "\n",
       "                                   domain-description  \n",
       "0                                                 ADK  \n",
       "1       Rav1p_C; RAVE complex protein Rav1 C-terminal  \n",
       "2   DNA_RNApol_7kD; RNA polymerase archaeal subuni...  \n",
       "3           AAA_5; ATPase, dynein-related, AAA domain  \n",
       "4           AAA_5; ATPase, dynein-related, AAA domain  \n",
       "..                                                ...  \n",
       "57          fn3_2; Fibronectin type III domain, fungi  \n",
       "58            PFU; PLAA family ubiquitin binding, PFU  \n",
       "59                                          Trypsin_2  \n",
       "60                  MAM33; Mitochondrial glycoprotein  \n",
       "61                  MAM33; Mitochondrial glycoprotein  \n",
       "\n",
       "[62 rows x 4 columns]"
      ]
     },
     "execution_count": 22,
     "metadata": {},
     "output_type": "execute_result"
    }
   ],
   "source": [
    "df_shared_domains=pd.merge(df_sl,df_nsl,how='inner',on='domain-number')\n",
    "domains_name=np.unique(data_domains['domain-name'])\n",
    "domains_description=np.unique(data_domains['domain-descrip'])\n",
    "\n",
    "df_shared_domains['domain-description']=domains_description[df_shared_domains['domain-number']]\n",
    "\n",
    "\n",
    "df_shared_domains"
   ]
  },
  {
   "cell_type": "code",
   "execution_count": 23,
   "metadata": {
    "execution": {
     "iopub.execute_input": "2020-07-14T21:11:35.419877Z",
     "iopub.status.busy": "2020-07-14T21:11:35.418818Z",
     "iopub.status.idle": "2020-07-14T21:11:35.425927Z",
     "shell.execute_reply": "2020-07-14T21:11:35.426638Z"
    }
   },
   "outputs": [
    {
     "name": "stdout",
     "output_type": "stream",
     "text": [
      "The number of shared domains between SL and nSL pairs,after PCA, is =  62 out of 566 so the 10.954063604240282 %\n"
     ]
    }
   ],
   "source": [
    "print('The number of shared domains between SL and nSL pairs,after PCA, is = ',len(df_shared_domains), 'out of', len(df_sl)+len(df_nsl), 'so the',100*len(df_shared_domains)/(len(df_sl)+len(df_nsl)),'%')"
   ]
  },
  {
   "cell_type": "markdown",
   "metadata": {},
   "source": [
    "## Domains exclusive to SL"
   ]
  },
  {
   "cell_type": "code",
   "execution_count": 24,
   "metadata": {
    "execution": {
     "iopub.execute_input": "2020-07-14T21:11:35.429790Z",
     "iopub.status.busy": "2020-07-14T21:11:35.428758Z",
     "iopub.status.idle": "2020-07-14T21:11:35.458999Z",
     "shell.execute_reply": "2020-07-14T21:11:35.459763Z"
    }
   },
   "outputs": [
    {
     "data": {
      "text/html": [
       "<div>\n",
       "<style scoped>\n",
       "    .dataframe tbody tr th:only-of-type {\n",
       "        vertical-align: middle;\n",
       "    }\n",
       "\n",
       "    .dataframe tbody tr th {\n",
       "        vertical-align: top;\n",
       "    }\n",
       "\n",
       "    .dataframe thead th {\n",
       "        text-align: right;\n",
       "    }\n",
       "</style>\n",
       "<table border=\"1\" class=\"dataframe\">\n",
       "  <thead>\n",
       "    <tr style=\"text-align: right;\">\n",
       "      <th></th>\n",
       "      <th>pca-component_x</th>\n",
       "      <th>domain-number</th>\n",
       "      <th>pca-component_y</th>\n",
       "      <th>domain-description</th>\n",
       "    </tr>\n",
       "  </thead>\n",
       "  <tbody>\n",
       "    <tr>\n",
       "      <th>0</th>\n",
       "      <td>PC0</td>\n",
       "      <td>540</td>\n",
       "      <td>NaN</td>\n",
       "      <td>Cytochrome_B; Cytochrome b/b6, N-terminal</td>\n",
       "    </tr>\n",
       "    <tr>\n",
       "      <th>1</th>\n",
       "      <td>PC1</td>\n",
       "      <td>2771</td>\n",
       "      <td>NaN</td>\n",
       "      <td>Ubiq-assoc; Ubiquitin-associated domain, SWA2-...</td>\n",
       "    </tr>\n",
       "    <tr>\n",
       "      <th>2</th>\n",
       "      <td>PC2</td>\n",
       "      <td>202</td>\n",
       "      <td>NaN</td>\n",
       "      <td>Aminotran_1_2; Aminotransferase, class I/classII</td>\n",
       "    </tr>\n",
       "    <tr>\n",
       "      <th>3</th>\n",
       "      <td>PC3</td>\n",
       "      <td>2082</td>\n",
       "      <td>NaN</td>\n",
       "      <td>RXT2_N; Transcriptional regulatory protein RXT...</td>\n",
       "    </tr>\n",
       "    <tr>\n",
       "      <th>4</th>\n",
       "      <td>PC4</td>\n",
       "      <td>1671</td>\n",
       "      <td>NaN</td>\n",
       "      <td>Ofd1_CTDD; Oxoglutarate/iron-dependent oxygena...</td>\n",
       "    </tr>\n",
       "    <tr>\n",
       "      <th>...</th>\n",
       "      <td>...</td>\n",
       "      <td>...</td>\n",
       "      <td>...</td>\n",
       "      <td>...</td>\n",
       "    </tr>\n",
       "    <tr>\n",
       "      <th>287</th>\n",
       "      <td>PC279</td>\n",
       "      <td>2355</td>\n",
       "      <td>NaN</td>\n",
       "      <td>SNF2_N; SNF2-related, N-terminal domain</td>\n",
       "    </tr>\n",
       "    <tr>\n",
       "      <th>290</th>\n",
       "      <td>PC281</td>\n",
       "      <td>819</td>\n",
       "      <td>NaN</td>\n",
       "      <td>ERO1; Endoplasmic reticulum oxidoreductin 1</td>\n",
       "    </tr>\n",
       "    <tr>\n",
       "      <th>291</th>\n",
       "      <td>PC282</td>\n",
       "      <td>549</td>\n",
       "      <td>NaN</td>\n",
       "      <td>DAO; FAD dependent oxidoreductase</td>\n",
       "    </tr>\n",
       "    <tr>\n",
       "      <th>292</th>\n",
       "      <td>PC283</td>\n",
       "      <td>879</td>\n",
       "      <td>NaN</td>\n",
       "      <td>FGGY_N; Carbohydrate kinase, FGGY, N-terminal</td>\n",
       "    </tr>\n",
       "    <tr>\n",
       "      <th>293</th>\n",
       "      <td>PC284</td>\n",
       "      <td>1699</td>\n",
       "      <td>NaN</td>\n",
       "      <td>PAP_RNA-bind; Poly(A) polymerase, RNA-binding ...</td>\n",
       "    </tr>\n",
       "  </tbody>\n",
       "</table>\n",
       "<p>232 rows × 4 columns</p>\n",
       "</div>"
      ],
      "text/plain": [
       "    pca-component_x  domain-number pca-component_y  \\\n",
       "0               PC0            540             NaN   \n",
       "1               PC1           2771             NaN   \n",
       "2               PC2            202             NaN   \n",
       "3               PC3           2082             NaN   \n",
       "4               PC4           1671             NaN   \n",
       "..              ...            ...             ...   \n",
       "287           PC279           2355             NaN   \n",
       "290           PC281            819             NaN   \n",
       "291           PC282            549             NaN   \n",
       "292           PC283            879             NaN   \n",
       "293           PC284           1699             NaN   \n",
       "\n",
       "                                    domain-description  \n",
       "0            Cytochrome_B; Cytochrome b/b6, N-terminal  \n",
       "1    Ubiq-assoc; Ubiquitin-associated domain, SWA2-...  \n",
       "2     Aminotran_1_2; Aminotransferase, class I/classII  \n",
       "3    RXT2_N; Transcriptional regulatory protein RXT...  \n",
       "4    Ofd1_CTDD; Oxoglutarate/iron-dependent oxygena...  \n",
       "..                                                 ...  \n",
       "287            SNF2_N; SNF2-related, N-terminal domain  \n",
       "290        ERO1; Endoplasmic reticulum oxidoreductin 1  \n",
       "291                  DAO; FAD dependent oxidoreductase  \n",
       "292      FGGY_N; Carbohydrate kinase, FGGY, N-terminal  \n",
       "293  PAP_RNA-bind; Poly(A) polymerase, RNA-binding ...  \n",
       "\n",
       "[232 rows x 4 columns]"
      ]
     },
     "execution_count": 24,
     "metadata": {},
     "output_type": "execute_result"
    }
   ],
   "source": [
    "df_sl_exclusive=pd.merge(df_sl,df_nsl,how='left',on='domain-number')\n",
    "\n",
    "domains_name=np.unique(data_domains['domain-name'])\n",
    "domains_description=np.unique(data_domains['domain-descrip'])\n",
    "\n",
    "df_sl_exclusive['domain-description']=domains_description[df_sl_exclusive['domain-number']]\n",
    "df_sl_exclusive[pd.isnull(df_sl_exclusive['pca-component_y'])]"
   ]
  },
  {
   "cell_type": "code",
   "execution_count": 25,
   "metadata": {
    "execution": {
     "iopub.execute_input": "2020-07-14T21:11:35.463079Z",
     "iopub.status.busy": "2020-07-14T21:11:35.462031Z",
     "iopub.status.idle": "2020-07-14T21:11:35.469238Z",
     "shell.execute_reply": "2020-07-14T21:11:35.469955Z"
    }
   },
   "outputs": [
    {
     "name": "stdout",
     "output_type": "stream",
     "text": [
      "The number of exclusive domains from SL pairs, after PCA, is =  294 out of 566 so the 51.9434628975265 %\n"
     ]
    }
   ],
   "source": [
    "print('The number of exclusive domains from SL pairs, after PCA, is = ',len(df_sl_exclusive), 'out of', len(df_sl)+len(df_nsl), 'so the',100*len(df_sl_exclusive)/(len(df_sl)+len(df_nsl)),'%')"
   ]
  },
  {
   "cell_type": "code",
   "execution_count": 26,
   "metadata": {
    "execution": {
     "iopub.execute_input": "2020-07-14T21:11:35.473127Z",
     "iopub.status.busy": "2020-07-14T21:11:35.472085Z",
     "iopub.status.idle": "2020-07-14T21:11:35.502987Z",
     "shell.execute_reply": "2020-07-14T21:11:35.502491Z"
    }
   },
   "outputs": [
    {
     "data": {
      "text/html": [
       "<div>\n",
       "<style scoped>\n",
       "    .dataframe tbody tr th:only-of-type {\n",
       "        vertical-align: middle;\n",
       "    }\n",
       "\n",
       "    .dataframe tbody tr th {\n",
       "        vertical-align: top;\n",
       "    }\n",
       "\n",
       "    .dataframe thead th {\n",
       "        text-align: right;\n",
       "    }\n",
       "</style>\n",
       "<table border=\"1\" class=\"dataframe\">\n",
       "  <thead>\n",
       "    <tr style=\"text-align: right;\">\n",
       "      <th></th>\n",
       "      <th>pca-component_x</th>\n",
       "      <th>domain-number</th>\n",
       "      <th>pca-component_y</th>\n",
       "      <th>domain-description</th>\n",
       "    </tr>\n",
       "  </thead>\n",
       "  <tbody>\n",
       "    <tr>\n",
       "      <th>62</th>\n",
       "      <td>NaN</td>\n",
       "      <td>1028</td>\n",
       "      <td>PC0</td>\n",
       "      <td>GatB_Yqey; Asn/Gln amidotransferase</td>\n",
       "    </tr>\n",
       "    <tr>\n",
       "      <th>63</th>\n",
       "      <td>NaN</td>\n",
       "      <td>305</td>\n",
       "      <td>PC1</td>\n",
       "      <td>Brr6_like_C_C; Brl1/Brr6 domain</td>\n",
       "    </tr>\n",
       "    <tr>\n",
       "      <th>64</th>\n",
       "      <td>NaN</td>\n",
       "      <td>268</td>\n",
       "      <td>PC2</td>\n",
       "      <td>BHD_3; Rad4 beta-hairpin domain 3</td>\n",
       "    </tr>\n",
       "    <tr>\n",
       "      <th>65</th>\n",
       "      <td>NaN</td>\n",
       "      <td>3</td>\n",
       "      <td>PC3</td>\n",
       "      <td>2-Hacid_dh_C; D-isomer specific 2-hydroxyacid ...</td>\n",
       "    </tr>\n",
       "    <tr>\n",
       "      <th>66</th>\n",
       "      <td>NaN</td>\n",
       "      <td>689</td>\n",
       "      <td>PC4</td>\n",
       "      <td>DUF3128; Protein of unknown function DUF3128</td>\n",
       "    </tr>\n",
       "    <tr>\n",
       "      <th>...</th>\n",
       "      <td>...</td>\n",
       "      <td>...</td>\n",
       "      <td>...</td>\n",
       "      <td>...</td>\n",
       "    </tr>\n",
       "    <tr>\n",
       "      <th>280</th>\n",
       "      <td>NaN</td>\n",
       "      <td>254</td>\n",
       "      <td>PC268</td>\n",
       "      <td>BAG; BAG domain</td>\n",
       "    </tr>\n",
       "    <tr>\n",
       "      <th>281</th>\n",
       "      <td>NaN</td>\n",
       "      <td>1029</td>\n",
       "      <td>PC270</td>\n",
       "      <td>Gcd10p; tRNA (adenine(58)-N(1))-methyltransfer...</td>\n",
       "    </tr>\n",
       "    <tr>\n",
       "      <th>282</th>\n",
       "      <td>NaN</td>\n",
       "      <td>569</td>\n",
       "      <td>PC272</td>\n",
       "      <td>DDHD; DDHD domain</td>\n",
       "    </tr>\n",
       "    <tr>\n",
       "      <th>283</th>\n",
       "      <td>NaN</td>\n",
       "      <td>1046</td>\n",
       "      <td>PC276</td>\n",
       "      <td>Glyco_hydro_18; Glycoside hydrolase family 18,...</td>\n",
       "    </tr>\n",
       "    <tr>\n",
       "      <th>284</th>\n",
       "      <td>NaN</td>\n",
       "      <td>2067</td>\n",
       "      <td>PC278</td>\n",
       "      <td>RRT14; Regulator of rDNA transcription 14</td>\n",
       "    </tr>\n",
       "  </tbody>\n",
       "</table>\n",
       "<p>223 rows × 4 columns</p>\n",
       "</div>"
      ],
      "text/plain": [
       "    pca-component_x  domain-number pca-component_y  \\\n",
       "62              NaN           1028             PC0   \n",
       "63              NaN            305             PC1   \n",
       "64              NaN            268             PC2   \n",
       "65              NaN              3             PC3   \n",
       "66              NaN            689             PC4   \n",
       "..              ...            ...             ...   \n",
       "280             NaN            254           PC268   \n",
       "281             NaN           1029           PC270   \n",
       "282             NaN            569           PC272   \n",
       "283             NaN           1046           PC276   \n",
       "284             NaN           2067           PC278   \n",
       "\n",
       "                                    domain-description  \n",
       "62                 GatB_Yqey; Asn/Gln amidotransferase  \n",
       "63                     Brr6_like_C_C; Brl1/Brr6 domain  \n",
       "64                   BHD_3; Rad4 beta-hairpin domain 3  \n",
       "65   2-Hacid_dh_C; D-isomer specific 2-hydroxyacid ...  \n",
       "66        DUF3128; Protein of unknown function DUF3128  \n",
       "..                                                 ...  \n",
       "280                                    BAG; BAG domain  \n",
       "281  Gcd10p; tRNA (adenine(58)-N(1))-methyltransfer...  \n",
       "282                                  DDHD; DDHD domain  \n",
       "283  Glyco_hydro_18; Glycoside hydrolase family 18,...  \n",
       "284          RRT14; Regulator of rDNA transcription 14  \n",
       "\n",
       "[223 rows x 4 columns]"
      ]
     },
     "execution_count": 26,
     "metadata": {},
     "output_type": "execute_result"
    }
   ],
   "source": [
    "df_nsl_exclusive=pd.merge(df_sl,df_nsl,how='right',on='domain-number')\n",
    "\n",
    "domains_name=np.unique(data_domains['domain-name'])\n",
    "domains_description=np.unique(data_domains['domain-descrip'])\n",
    "\n",
    "df_nsl_exclusive['domain-description']=domains_description[df_nsl_exclusive['domain-number']]\n",
    "df_nsl_exclusive[pd.isnull(df_nsl_exclusive['pca-component_x'])]"
   ]
  },
  {
   "cell_type": "code",
   "execution_count": 27,
   "metadata": {
    "execution": {
     "iopub.execute_input": "2020-07-14T21:11:35.508296Z",
     "iopub.status.busy": "2020-07-14T21:11:35.507171Z",
     "iopub.status.idle": "2020-07-14T21:11:35.511901Z",
     "shell.execute_reply": "2020-07-14T21:11:35.511424Z"
    }
   },
   "outputs": [
    {
     "name": "stdout",
     "output_type": "stream",
     "text": [
      "The number of exclusive domains from non SL pairs, after PCA, is =  285 out of 566 so the 50.35335689045937 %\n"
     ]
    }
   ],
   "source": [
    "print('The number of exclusive domains from non SL pairs, after PCA, is = ',len(df_nsl_exclusive), 'out of', len(df_sl)+len(df_nsl), 'so the',100*len(df_nsl_exclusive)/(len(df_sl)+len(df_nsl)),'%')"
   ]
  },
  {
   "cell_type": "markdown",
   "metadata": {},
   "source": [
    "## Let see to the domains-number that get repeated after the PCA analysis , and selecting the most explanatory feature by its explained variance."
   ]
  },
  {
   "cell_type": "code",
   "execution_count": 28,
   "metadata": {
    "execution": {
     "iopub.execute_input": "2020-07-14T21:11:35.534990Z",
     "iopub.status.busy": "2020-07-14T21:11:35.534165Z",
     "iopub.status.idle": "2020-07-14T21:11:35.537951Z",
     "shell.execute_reply": "2020-07-14T21:11:35.538346Z"
    }
   },
   "outputs": [],
   "source": [
    "duplicated_features_sl=df_sl[df_sl.iloc[:,1].duplicated()]\n",
    "repeated_features_sl=pd.DataFrame()\n",
    "\n",
    "domains_name=np.unique(data_domains['domain-name'])\n",
    "domains_description=np.unique(data_domains['domain-descrip'])\n",
    "\n",
    "repeated_features_sl['domain-name']=domains_name[duplicated_features_sl.iloc[:,1]] \n",
    "repeated_features_sl['domain-description']=domains_description[duplicated_features_sl.iloc[:,1]]\n",
    "\n",
    "duplicated_features_nsl=df_nsl[df_nsl.iloc[:,1].duplicated()]\n",
    "repeated_features_nsl=pd.DataFrame()\n",
    "\n",
    "repeated_features_nsl['domain-name']=domains_name[duplicated_features_nsl.iloc[:,1]] \n",
    "repeated_features_nsl['domain-description']=domains_description[duplicated_features_nsl.iloc[:,1]]"
   ]
  },
  {
   "cell_type": "code",
   "execution_count": 29,
   "metadata": {
    "execution": {
     "iopub.execute_input": "2020-07-14T21:11:35.548313Z",
     "iopub.status.busy": "2020-07-14T21:11:35.547785Z",
     "iopub.status.idle": "2020-07-14T21:11:35.552766Z",
     "shell.execute_reply": "2020-07-14T21:11:35.552295Z"
    }
   },
   "outputs": [
    {
     "data": {
      "text/plain": [
       "((45, 4), (294, 4))"
      ]
     },
     "execution_count": 29,
     "metadata": {},
     "output_type": "execute_result"
    }
   ],
   "source": [
    "only_sl_pd=pd.merge(repeated_features_sl,repeated_features_nsl,how='left',on=['domain-name'])\n",
    "data_only_sl = only_sl_pd[pd.isnull(only_sl_pd['domain-description_y'])]\n",
    "data_only_sl['domain-description']=data_only_sl['domain-description_x']\n",
    "data_only_sl.shape,df_sl_exclusive.shape"
   ]
  },
  {
   "cell_type": "code",
   "execution_count": 30,
   "metadata": {
    "execution": {
     "iopub.execute_input": "2020-07-14T21:11:35.572990Z",
     "iopub.status.busy": "2020-07-14T21:11:35.560095Z",
     "iopub.status.idle": "2020-07-14T21:11:35.578420Z",
     "shell.execute_reply": "2020-07-14T21:11:35.577954Z"
    }
   },
   "outputs": [
    {
     "data": {
      "text/html": [
       "<div>\n",
       "<style scoped>\n",
       "    .dataframe tbody tr th:only-of-type {\n",
       "        vertical-align: middle;\n",
       "    }\n",
       "\n",
       "    .dataframe tbody tr th {\n",
       "        vertical-align: top;\n",
       "    }\n",
       "\n",
       "    .dataframe thead th {\n",
       "        text-align: right;\n",
       "    }\n",
       "</style>\n",
       "<table border=\"1\" class=\"dataframe\">\n",
       "  <thead>\n",
       "    <tr style=\"text-align: right;\">\n",
       "      <th></th>\n",
       "      <th>domain-name</th>\n",
       "      <th>domain-description_x</th>\n",
       "      <th>domain-description_y</th>\n",
       "    </tr>\n",
       "  </thead>\n",
       "  <tbody>\n",
       "    <tr>\n",
       "      <th>0</th>\n",
       "      <td>PF16211</td>\n",
       "      <td>NaN</td>\n",
       "      <td>YchF-GTPase_C; Domain of unknown function DUF933</td>\n",
       "    </tr>\n",
       "    <tr>\n",
       "      <th>1</th>\n",
       "      <td>PF08647</td>\n",
       "      <td>NaN</td>\n",
       "      <td>RNA_pol_L_2; DNA-directed RNA polymerase, RBP1...</td>\n",
       "    </tr>\n",
       "    <tr>\n",
       "      <th>2</th>\n",
       "      <td>PF12157</td>\n",
       "      <td>NaN</td>\n",
       "      <td>Sec7; Sec7 domain</td>\n",
       "    </tr>\n",
       "    <tr>\n",
       "      <th>3</th>\n",
       "      <td>PF04423</td>\n",
       "      <td>NaN</td>\n",
       "      <td>MARVEL; Marvel domain</td>\n",
       "    </tr>\n",
       "    <tr>\n",
       "      <th>4</th>\n",
       "      <td>PF04869</td>\n",
       "      <td>NaN</td>\n",
       "      <td>Med17; Mediator complex, subunit Med17</td>\n",
       "    </tr>\n",
       "    <tr>\n",
       "      <th>5</th>\n",
       "      <td>PF04420</td>\n",
       "      <td>NaN</td>\n",
       "      <td>MAM33; Mitochondrial glycoprotein</td>\n",
       "    </tr>\n",
       "    <tr>\n",
       "      <th>6</th>\n",
       "      <td>PF03901</td>\n",
       "      <td>NaN</td>\n",
       "      <td>Hydrolase_like</td>\n",
       "    </tr>\n",
       "    <tr>\n",
       "      <th>7</th>\n",
       "      <td>PF03901</td>\n",
       "      <td>NaN</td>\n",
       "      <td>Hydrolase_like</td>\n",
       "    </tr>\n",
       "    <tr>\n",
       "      <th>8</th>\n",
       "      <td>PF02926</td>\n",
       "      <td>NaN</td>\n",
       "      <td>GST_N_3; Glutathione S-transferase, N-terminal</td>\n",
       "    </tr>\n",
       "    <tr>\n",
       "      <th>9</th>\n",
       "      <td>PF09444</td>\n",
       "      <td>NaN</td>\n",
       "      <td>Rer1; Retrieval of early ER protein Rer1</td>\n",
       "    </tr>\n",
       "    <tr>\n",
       "      <th>10</th>\n",
       "      <td>PF04912</td>\n",
       "      <td>NaN</td>\n",
       "      <td>Med4; Mediator complex, subunit Med4</td>\n",
       "    </tr>\n",
       "    <tr>\n",
       "      <th>11</th>\n",
       "      <td>PF03159</td>\n",
       "      <td>NaN</td>\n",
       "      <td>Glyco_tran_28_C; Glycosyl transferase, family ...</td>\n",
       "    </tr>\n",
       "    <tr>\n",
       "      <th>12</th>\n",
       "      <td>PF04152</td>\n",
       "      <td>NaN</td>\n",
       "      <td>LUC7; Luc7-related</td>\n",
       "    </tr>\n",
       "    <tr>\n",
       "      <th>13</th>\n",
       "      <td>PF00996</td>\n",
       "      <td>NaN</td>\n",
       "      <td>Cauli_VI; Ribonuclease H1, N-terminal</td>\n",
       "    </tr>\n",
       "    <tr>\n",
       "      <th>14</th>\n",
       "      <td>PF00996</td>\n",
       "      <td>NaN</td>\n",
       "      <td>Cauli_VI; Ribonuclease H1, N-terminal</td>\n",
       "    </tr>\n",
       "    <tr>\n",
       "      <th>15</th>\n",
       "      <td>PF00063</td>\n",
       "      <td>NaN</td>\n",
       "      <td>AAA_5; ATPase, dynein-related, AAA domain</td>\n",
       "    </tr>\n",
       "    <tr>\n",
       "      <th>16</th>\n",
       "      <td>PF07962</td>\n",
       "      <td>NaN</td>\n",
       "      <td>PMP1_2; Plasma membrane ATPase proteolipid</td>\n",
       "    </tr>\n",
       "    <tr>\n",
       "      <th>17</th>\n",
       "      <td>PF12739</td>\n",
       "      <td>NaN</td>\n",
       "      <td>Stm1_N; Stm1-like, N-terminal</td>\n",
       "    </tr>\n",
       "    <tr>\n",
       "      <th>18</th>\n",
       "      <td>PF12739</td>\n",
       "      <td>NaN</td>\n",
       "      <td>Stm1_N; Stm1-like, N-terminal</td>\n",
       "    </tr>\n",
       "    <tr>\n",
       "      <th>19</th>\n",
       "      <td>PF02847</td>\n",
       "      <td>NaN</td>\n",
       "      <td>GFO_IDH_MocA; Oxidoreductase, N-terminal</td>\n",
       "    </tr>\n",
       "    <tr>\n",
       "      <th>20</th>\n",
       "      <td>PF08731</td>\n",
       "      <td>NaN</td>\n",
       "      <td>RNase_PH_C; Exoribonuclease, phosphorolytic do...</td>\n",
       "    </tr>\n",
       "    <tr>\n",
       "      <th>21</th>\n",
       "      <td>PF02752</td>\n",
       "      <td>NaN</td>\n",
       "      <td>Fumble; Type II pantothenate kinase</td>\n",
       "    </tr>\n",
       "    <tr>\n",
       "      <th>22</th>\n",
       "      <td>PF02291</td>\n",
       "      <td>NaN</td>\n",
       "      <td>FAD_binding_7; Cryptochrome/DNA photolyase, FA...</td>\n",
       "    </tr>\n",
       "    <tr>\n",
       "      <th>23</th>\n",
       "      <td>PF17076</td>\n",
       "      <td>NaN</td>\n",
       "      <td>zf-C3HC4_2</td>\n",
       "    </tr>\n",
       "    <tr>\n",
       "      <th>24</th>\n",
       "      <td>PF00268</td>\n",
       "      <td>NaN</td>\n",
       "      <td>ATP-synt_ab; ATPase, F1/V1/A1 complex, alpha/b...</td>\n",
       "    </tr>\n",
       "    <tr>\n",
       "      <th>25</th>\n",
       "      <td>PF03357</td>\n",
       "      <td>NaN</td>\n",
       "      <td>HAND; ISWI, HAND domain</td>\n",
       "    </tr>\n",
       "    <tr>\n",
       "      <th>26</th>\n",
       "      <td>PF03357</td>\n",
       "      <td>NaN</td>\n",
       "      <td>HAND; ISWI, HAND domain</td>\n",
       "    </tr>\n",
       "    <tr>\n",
       "      <th>27</th>\n",
       "      <td>PF08114</td>\n",
       "      <td>NaN</td>\n",
       "      <td>PRKCSH; Glucosidase II beta subunit-like</td>\n",
       "    </tr>\n",
       "    <tr>\n",
       "      <th>28</th>\n",
       "      <td>PF08114</td>\n",
       "      <td>NaN</td>\n",
       "      <td>PRKCSH; Glucosidase II beta subunit-like</td>\n",
       "    </tr>\n",
       "    <tr>\n",
       "      <th>29</th>\n",
       "      <td>PF03179</td>\n",
       "      <td>NaN</td>\n",
       "      <td>Glycogen_syn; Glycogen synthase</td>\n",
       "    </tr>\n",
       "    <tr>\n",
       "      <th>30</th>\n",
       "      <td>PF10296</td>\n",
       "      <td>NaN</td>\n",
       "      <td>Ribosomal_S2; Ribosomal protein S2</td>\n",
       "    </tr>\n",
       "    <tr>\n",
       "      <th>31</th>\n",
       "      <td>PF10296</td>\n",
       "      <td>NaN</td>\n",
       "      <td>Ribosomal_S2; Ribosomal protein S2</td>\n",
       "    </tr>\n",
       "    <tr>\n",
       "      <th>32</th>\n",
       "      <td>PF00581</td>\n",
       "      <td>NaN</td>\n",
       "      <td>BRE1; E3 ubiquitin ligase, BRE1</td>\n",
       "    </tr>\n",
       "    <tr>\n",
       "      <th>33</th>\n",
       "      <td>PF01025</td>\n",
       "      <td>NaN</td>\n",
       "      <td>Chalcone_2; Chalcone isomerase</td>\n",
       "    </tr>\n",
       "    <tr>\n",
       "      <th>34</th>\n",
       "      <td>PF00909</td>\n",
       "      <td>NaN</td>\n",
       "      <td>CTD</td>\n",
       "    </tr>\n",
       "    <tr>\n",
       "      <th>35</th>\n",
       "      <td>PF04882</td>\n",
       "      <td>NaN</td>\n",
       "      <td>Med20; Mediator complex, subunit Med20</td>\n",
       "    </tr>\n",
       "    <tr>\n",
       "      <th>36</th>\n",
       "      <td>PF00010</td>\n",
       "      <td>NaN</td>\n",
       "      <td>2-oxoacid_dh; 2-oxoacid dehydrogenase acyltran...</td>\n",
       "    </tr>\n",
       "    <tr>\n",
       "      <th>37</th>\n",
       "      <td>PF11635</td>\n",
       "      <td>NaN</td>\n",
       "      <td>SRP72; Signal recognition particle, SRP72 subu...</td>\n",
       "    </tr>\n",
       "    <tr>\n",
       "      <th>38</th>\n",
       "      <td>PF11635</td>\n",
       "      <td>NaN</td>\n",
       "      <td>SRP72; Signal recognition particle, SRP72 subu...</td>\n",
       "    </tr>\n",
       "    <tr>\n",
       "      <th>39</th>\n",
       "      <td>PF03839</td>\n",
       "      <td>NaN</td>\n",
       "      <td>Hom_end_hint; Hom-end-associated Hint</td>\n",
       "    </tr>\n",
       "    <tr>\n",
       "      <th>40</th>\n",
       "      <td>PF05637</td>\n",
       "      <td>NaN</td>\n",
       "      <td>NMT1; SsuA/THI5-like</td>\n",
       "    </tr>\n",
       "    <tr>\n",
       "      <th>41</th>\n",
       "      <td>PF05637</td>\n",
       "      <td>NaN</td>\n",
       "      <td>NMT1; SsuA/THI5-like</td>\n",
       "    </tr>\n",
       "    <tr>\n",
       "      <th>42</th>\n",
       "      <td>PF00266</td>\n",
       "      <td>NaN</td>\n",
       "      <td>ATP-synt_J; ATP synthase, F0 complex, subunit J</td>\n",
       "    </tr>\n",
       "    <tr>\n",
       "      <th>43</th>\n",
       "      <td>PF10392</td>\n",
       "      <td>NaN</td>\n",
       "      <td>S-methyl_trans; Homocysteine-binding domain</td>\n",
       "    </tr>\n",
       "    <tr>\n",
       "      <th>44</th>\n",
       "      <td>PF08653</td>\n",
       "      <td>NaN</td>\n",
       "      <td>RNA_pol_Rpb1_2; RNA polymerase, alpha subunit</td>\n",
       "    </tr>\n",
       "    <tr>\n",
       "      <th>45</th>\n",
       "      <td>PF11544</td>\n",
       "      <td>NaN</td>\n",
       "      <td>SRI; SRI, Set2 Rpb1 interacting</td>\n",
       "    </tr>\n",
       "    <tr>\n",
       "      <th>46</th>\n",
       "      <td>PF04004</td>\n",
       "      <td>NaN</td>\n",
       "      <td>Inositol_P; Inositol monophosphatase-like</td>\n",
       "    </tr>\n",
       "    <tr>\n",
       "      <th>47</th>\n",
       "      <td>PF00399</td>\n",
       "      <td>NaN</td>\n",
       "      <td>Alpha_adaptinC2; Clathrin adaptor, alpha/beta/...</td>\n",
       "    </tr>\n",
       "    <tr>\n",
       "      <th>48</th>\n",
       "      <td>PF13867</td>\n",
       "      <td>NaN</td>\n",
       "      <td>Trehalose_PPase; Trehalose-phosphatase</td>\n",
       "    </tr>\n",
       "    <tr>\n",
       "      <th>49</th>\n",
       "      <td>PF04108</td>\n",
       "      <td>NaN</td>\n",
       "      <td>Ku_C; Ku70/Ku80 C-terminal arm</td>\n",
       "    </tr>\n",
       "    <tr>\n",
       "      <th>50</th>\n",
       "      <td>PF00481</td>\n",
       "      <td>NaN</td>\n",
       "      <td>Asn_synthase; Asparagine synthase</td>\n",
       "    </tr>\n",
       "    <tr>\n",
       "      <th>51</th>\n",
       "      <td>PF00481</td>\n",
       "      <td>NaN</td>\n",
       "      <td>Asn_synthase; Asparagine synthase</td>\n",
       "    </tr>\n",
       "    <tr>\n",
       "      <th>52</th>\n",
       "      <td>PF00225</td>\n",
       "      <td>NaN</td>\n",
       "      <td>ATE_N; Arginine-tRNA-protein transferase, N-te...</td>\n",
       "    </tr>\n",
       "    <tr>\n",
       "      <th>53</th>\n",
       "      <td>PF00012</td>\n",
       "      <td>NaN</td>\n",
       "      <td>2OG-FeII_Oxy_4</td>\n",
       "    </tr>\n",
       "  </tbody>\n",
       "</table>\n",
       "</div>"
      ],
      "text/plain": [
       "   domain-name domain-description_x  \\\n",
       "0      PF16211                  NaN   \n",
       "1      PF08647                  NaN   \n",
       "2      PF12157                  NaN   \n",
       "3      PF04423                  NaN   \n",
       "4      PF04869                  NaN   \n",
       "5      PF04420                  NaN   \n",
       "6      PF03901                  NaN   \n",
       "7      PF03901                  NaN   \n",
       "8      PF02926                  NaN   \n",
       "9      PF09444                  NaN   \n",
       "10     PF04912                  NaN   \n",
       "11     PF03159                  NaN   \n",
       "12     PF04152                  NaN   \n",
       "13     PF00996                  NaN   \n",
       "14     PF00996                  NaN   \n",
       "15     PF00063                  NaN   \n",
       "16     PF07962                  NaN   \n",
       "17     PF12739                  NaN   \n",
       "18     PF12739                  NaN   \n",
       "19     PF02847                  NaN   \n",
       "20     PF08731                  NaN   \n",
       "21     PF02752                  NaN   \n",
       "22     PF02291                  NaN   \n",
       "23     PF17076                  NaN   \n",
       "24     PF00268                  NaN   \n",
       "25     PF03357                  NaN   \n",
       "26     PF03357                  NaN   \n",
       "27     PF08114                  NaN   \n",
       "28     PF08114                  NaN   \n",
       "29     PF03179                  NaN   \n",
       "30     PF10296                  NaN   \n",
       "31     PF10296                  NaN   \n",
       "32     PF00581                  NaN   \n",
       "33     PF01025                  NaN   \n",
       "34     PF00909                  NaN   \n",
       "35     PF04882                  NaN   \n",
       "36     PF00010                  NaN   \n",
       "37     PF11635                  NaN   \n",
       "38     PF11635                  NaN   \n",
       "39     PF03839                  NaN   \n",
       "40     PF05637                  NaN   \n",
       "41     PF05637                  NaN   \n",
       "42     PF00266                  NaN   \n",
       "43     PF10392                  NaN   \n",
       "44     PF08653                  NaN   \n",
       "45     PF11544                  NaN   \n",
       "46     PF04004                  NaN   \n",
       "47     PF00399                  NaN   \n",
       "48     PF13867                  NaN   \n",
       "49     PF04108                  NaN   \n",
       "50     PF00481                  NaN   \n",
       "51     PF00481                  NaN   \n",
       "52     PF00225                  NaN   \n",
       "53     PF00012                  NaN   \n",
       "\n",
       "                                 domain-description_y  \n",
       "0    YchF-GTPase_C; Domain of unknown function DUF933  \n",
       "1   RNA_pol_L_2; DNA-directed RNA polymerase, RBP1...  \n",
       "2                                   Sec7; Sec7 domain  \n",
       "3                               MARVEL; Marvel domain  \n",
       "4              Med17; Mediator complex, subunit Med17  \n",
       "5                   MAM33; Mitochondrial glycoprotein  \n",
       "6                                      Hydrolase_like  \n",
       "7                                      Hydrolase_like  \n",
       "8      GST_N_3; Glutathione S-transferase, N-terminal  \n",
       "9            Rer1; Retrieval of early ER protein Rer1  \n",
       "10               Med4; Mediator complex, subunit Med4  \n",
       "11  Glyco_tran_28_C; Glycosyl transferase, family ...  \n",
       "12                                 LUC7; Luc7-related  \n",
       "13              Cauli_VI; Ribonuclease H1, N-terminal  \n",
       "14              Cauli_VI; Ribonuclease H1, N-terminal  \n",
       "15          AAA_5; ATPase, dynein-related, AAA domain  \n",
       "16         PMP1_2; Plasma membrane ATPase proteolipid  \n",
       "17                      Stm1_N; Stm1-like, N-terminal  \n",
       "18                      Stm1_N; Stm1-like, N-terminal  \n",
       "19           GFO_IDH_MocA; Oxidoreductase, N-terminal  \n",
       "20  RNase_PH_C; Exoribonuclease, phosphorolytic do...  \n",
       "21                Fumble; Type II pantothenate kinase  \n",
       "22  FAD_binding_7; Cryptochrome/DNA photolyase, FA...  \n",
       "23                                         zf-C3HC4_2  \n",
       "24  ATP-synt_ab; ATPase, F1/V1/A1 complex, alpha/b...  \n",
       "25                            HAND; ISWI, HAND domain  \n",
       "26                            HAND; ISWI, HAND domain  \n",
       "27           PRKCSH; Glucosidase II beta subunit-like  \n",
       "28           PRKCSH; Glucosidase II beta subunit-like  \n",
       "29                    Glycogen_syn; Glycogen synthase  \n",
       "30                 Ribosomal_S2; Ribosomal protein S2  \n",
       "31                 Ribosomal_S2; Ribosomal protein S2  \n",
       "32                    BRE1; E3 ubiquitin ligase, BRE1  \n",
       "33                     Chalcone_2; Chalcone isomerase  \n",
       "34                                                CTD  \n",
       "35             Med20; Mediator complex, subunit Med20  \n",
       "36  2-oxoacid_dh; 2-oxoacid dehydrogenase acyltran...  \n",
       "37  SRP72; Signal recognition particle, SRP72 subu...  \n",
       "38  SRP72; Signal recognition particle, SRP72 subu...  \n",
       "39              Hom_end_hint; Hom-end-associated Hint  \n",
       "40                               NMT1; SsuA/THI5-like  \n",
       "41                               NMT1; SsuA/THI5-like  \n",
       "42    ATP-synt_J; ATP synthase, F0 complex, subunit J  \n",
       "43        S-methyl_trans; Homocysteine-binding domain  \n",
       "44      RNA_pol_Rpb1_2; RNA polymerase, alpha subunit  \n",
       "45                    SRI; SRI, Set2 Rpb1 interacting  \n",
       "46          Inositol_P; Inositol monophosphatase-like  \n",
       "47  Alpha_adaptinC2; Clathrin adaptor, alpha/beta/...  \n",
       "48             Trehalose_PPase; Trehalose-phosphatase  \n",
       "49                     Ku_C; Ku70/Ku80 C-terminal arm  \n",
       "50                  Asn_synthase; Asparagine synthase  \n",
       "51                  Asn_synthase; Asparagine synthase  \n",
       "52  ATE_N; Arginine-tRNA-protein transferase, N-te...  \n",
       "53                                     2OG-FeII_Oxy_4  "
      ]
     },
     "execution_count": 30,
     "metadata": {},
     "output_type": "execute_result"
    }
   ],
   "source": [
    "only_nsl_pd=pd.merge(repeated_features_sl,repeated_features_nsl,how='right',on=['domain-name'])\n",
    "data_only_nsl = only_nsl_pd[pd.isnull(only_nsl_pd['domain-description_x'])]\n",
    "data_only_nsl"
   ]
  },
  {
   "cell_type": "code",
   "execution_count": 31,
   "metadata": {
    "execution": {
     "iopub.execute_input": "2020-07-14T21:11:35.588194Z",
     "iopub.status.busy": "2020-07-14T21:11:35.587653Z",
     "iopub.status.idle": "2020-07-14T21:11:35.591338Z",
     "shell.execute_reply": "2020-07-14T21:11:35.590880Z"
    }
   },
   "outputs": [
    {
     "data": {
      "text/html": [
       "<div>\n",
       "<style scoped>\n",
       "    .dataframe tbody tr th:only-of-type {\n",
       "        vertical-align: middle;\n",
       "    }\n",
       "\n",
       "    .dataframe tbody tr th {\n",
       "        vertical-align: top;\n",
       "    }\n",
       "\n",
       "    .dataframe thead th {\n",
       "        text-align: right;\n",
       "    }\n",
       "</style>\n",
       "<table border=\"1\" class=\"dataframe\">\n",
       "  <thead>\n",
       "    <tr style=\"text-align: right;\">\n",
       "      <th></th>\n",
       "      <th>domain-name</th>\n",
       "      <th>domain-description_x</th>\n",
       "      <th>domain-description_y</th>\n",
       "    </tr>\n",
       "  </thead>\n",
       "  <tbody>\n",
       "  </tbody>\n",
       "</table>\n",
       "</div>"
      ],
      "text/plain": [
       "Empty DataFrame\n",
       "Columns: [domain-name, domain-description_x, domain-description_y]\n",
       "Index: []"
      ]
     },
     "execution_count": 31,
     "metadata": {},
     "output_type": "execute_result"
    }
   ],
   "source": [
    "shared_domains_pd=pd.merge(repeated_features_sl,repeated_features_nsl,how='inner',on=['domain-name'])\n",
    "shared_domains_pd\n"
   ]
  },
  {
   "cell_type": "code",
   "execution_count": 32,
   "metadata": {
    "execution": {
     "iopub.execute_input": "2020-07-14T21:11:35.605865Z",
     "iopub.status.busy": "2020-07-14T21:11:35.599443Z",
     "iopub.status.idle": "2020-07-14T21:11:36.988014Z",
     "shell.execute_reply": "2020-07-14T21:11:36.987515Z"
    }
   },
   "outputs": [
    {
     "data": {
      "text/plain": [
       "(0.0, 0.2)"
      ]
     },
     "execution_count": 32,
     "metadata": {},
     "output_type": "execute_result"
    },
    {
     "data": {
      "image/png": "[encoded data removed]",
      "text/plain": [
       "<Figure size 432x288 with 1 Axes>"
      ]
     },
     "metadata": {
      "filenames": {
       "image/png": "/home/runner/work/jupyter-book/jupyter-book/mini_book/docs/_build/jupyter_execute/prot_domains2lethality-FEATURES-POSTPROCESSING_47_1.png"
      },
      "needs_background": "light"
     },
     "output_type": "display_data"
    }
   ],
   "source": [
    "a_sl=x_sl.iloc[:,np.sort(df_sl.iloc[:,1])]\n",
    "a_sl.describe().loc['mean'].hist(bins=8),\n",
    "a_sl.describe().loc['std'].hist(bins=8,alpha=0.4)\n",
    "plt.xlim([0,0.2])"
   ]
  },
  {
   "cell_type": "code",
   "execution_count": 33,
   "metadata": {
    "execution": {
     "iopub.execute_input": "2020-07-14T21:11:37.000790Z",
     "iopub.status.busy": "2020-07-14T21:11:36.995453Z",
     "iopub.status.idle": "2020-07-14T21:11:38.451523Z",
     "shell.execute_reply": "2020-07-14T21:11:38.450570Z"
    }
   },
   "outputs": [
    {
     "data": {
      "text/plain": [
       "(0.0, 0.2)"
      ]
     },
     "execution_count": 33,
     "metadata": {},
     "output_type": "execute_result"
    },
    {
     "data": {
      "image/png": "[encoded data removed]",
      "text/plain": [
       "<Figure size 432x288 with 1 Axes>"
      ]
     },
     "metadata": {
      "filenames": {
       "image/png": "/home/runner/work/jupyter-book/jupyter-book/mini_book/docs/_build/jupyter_execute/prot_domains2lethality-FEATURES-POSTPROCESSING_48_1.png"
      },
      "needs_background": "light"
     },
     "output_type": "display_data"
    }
   ],
   "source": [
    "a_nsl=x_nsl.iloc[:,np.sort(df_nsl.iloc[:,1])]\n",
    "a_nsl.describe().loc['mean'].hist(bins=8),\n",
    "a_nsl.describe().loc['std'].hist(bins=8,alpha=0.4)\n",
    "plt.xlim([0,0.2])"
   ]
  },
  {
   "cell_type": "markdown",
   "metadata": {},
   "source": [
    "### Proof of concept with *BEM1*\n",
    "\n",
    "- Gather the domains of SL and nSL pairs from BEM1\n",
    "- Check if the domains for the SL and nSL pairs are inside the most important domains after PCA."
   ]
  },
  {
   "cell_type": "code",
   "execution_count": 34,
   "metadata": {
    "execution": {
     "iopub.execute_input": "2020-07-14T21:11:38.462417Z",
     "iopub.status.busy": "2020-07-14T21:11:38.461896Z",
     "iopub.status.idle": "2020-07-14T21:11:38.465376Z",
     "shell.execute_reply": "2020-07-14T21:11:38.464919Z"
    }
   },
   "outputs": [],
   "source": [
    "domains_bem1=data_domains[data_domains['name']=='BEM1']['domain-descrip']\n",
    "sl_bem1=data_sl[data_sl['gene-query-name']=='BEM1']['gene-target-name']"
   ]
  },
  {
   "cell_type": "code",
   "execution_count": 35,
   "metadata": {
    "execution": {
     "iopub.execute_input": "2020-07-14T21:11:38.469997Z",
     "iopub.status.busy": "2020-07-14T21:11:38.469458Z",
     "iopub.status.idle": "2020-07-14T21:11:38.474465Z",
     "shell.execute_reply": "2020-07-14T21:11:38.473954Z"
    }
   },
   "outputs": [
    {
     "data": {
      "text/plain": [
       "2846      BEM2\n",
       "2847     CDC24\n",
       "5004      MSB1\n",
       "13777     SMI1\n",
       "13778     BNI1\n",
       "13779     BEM2\n",
       "14385     SKN7\n",
       "Name: gene-target-name, dtype: object"
      ]
     },
     "execution_count": 35,
     "metadata": {},
     "output_type": "execute_result"
    }
   ],
   "source": [
    "sl_bem1"
   ]
  },
  {
   "cell_type": "code",
   "execution_count": 36,
   "metadata": {
    "execution": {
     "iopub.execute_input": "2020-07-14T21:11:38.490388Z",
     "iopub.status.busy": "2020-07-14T21:11:38.489869Z",
     "iopub.status.idle": "2020-07-14T21:11:38.495128Z",
     "shell.execute_reply": "2020-07-14T21:11:38.494671Z"
    }
   },
   "outputs": [
    {
     "data": {
      "text/html": [
       "<div>\n",
       "<style scoped>\n",
       "    .dataframe tbody tr th:only-of-type {\n",
       "        vertical-align: middle;\n",
       "    }\n",
       "\n",
       "    .dataframe tbody tr th {\n",
       "        vertical-align: top;\n",
       "    }\n",
       "\n",
       "    .dataframe thead th {\n",
       "        text-align: right;\n",
       "    }\n",
       "</style>\n",
       "<table border=\"1\" class=\"dataframe\">\n",
       "  <thead>\n",
       "    <tr style=\"text-align: right;\">\n",
       "      <th></th>\n",
       "      <th>gene-query</th>\n",
       "      <th>gene-target</th>\n",
       "      <th>gene-query-name</th>\n",
       "      <th>gene-target-name</th>\n",
       "      <th>gene-query-description</th>\n",
       "      <th>gene-target-description</th>\n",
       "      <th>interaction-type</th>\n",
       "      <th>paper-source</th>\n",
       "    </tr>\n",
       "  </thead>\n",
       "  <tbody>\n",
       "    <tr>\n",
       "      <th>2846</th>\n",
       "      <td>YBR200W</td>\n",
       "      <td>YER155C</td>\n",
       "      <td>BEM1</td>\n",
       "      <td>BEM2</td>\n",
       "      <td>SRO1|phosphatidylinositol-3-phosphate-binding ...</td>\n",
       "      <td>IPL2|SUP9|TSL1|L000000168</td>\n",
       "      <td>Synthetic Lethality</td>\n",
       "      <td>Peterson J (1994)</td>\n",
       "    </tr>\n",
       "    <tr>\n",
       "      <th>2847</th>\n",
       "      <td>YBR200W</td>\n",
       "      <td>YAL041W</td>\n",
       "      <td>BEM1</td>\n",
       "      <td>CDC24</td>\n",
       "      <td>SRO1|phosphatidylinositol-3-phosphate-binding ...</td>\n",
       "      <td>CLS4|Rho family guanine nucleotide exchange fa...</td>\n",
       "      <td>Synthetic Lethality</td>\n",
       "      <td>Peterson J (1994)</td>\n",
       "    </tr>\n",
       "    <tr>\n",
       "      <th>5004</th>\n",
       "      <td>YBR200W</td>\n",
       "      <td>YOR188W</td>\n",
       "      <td>BEM1</td>\n",
       "      <td>MSB1</td>\n",
       "      <td>SRO1|phosphatidylinositol-3-phosphate-binding ...</td>\n",
       "      <td>L000001184</td>\n",
       "      <td>Synthetic Lethality</td>\n",
       "      <td>Bender A (1991)</td>\n",
       "    </tr>\n",
       "    <tr>\n",
       "      <th>13777</th>\n",
       "      <td>YBR200W</td>\n",
       "      <td>YGR229C</td>\n",
       "      <td>BEM1</td>\n",
       "      <td>SMI1</td>\n",
       "      <td>SRO1|phosphatidylinositol-3-phosphate-binding ...</td>\n",
       "      <td>KNR4|L000000909</td>\n",
       "      <td>Synthetic Lethality</td>\n",
       "      <td>Gorelik M (2011)</td>\n",
       "    </tr>\n",
       "    <tr>\n",
       "      <th>13778</th>\n",
       "      <td>YBR200W</td>\n",
       "      <td>YNL271C</td>\n",
       "      <td>BEM1</td>\n",
       "      <td>BNI1</td>\n",
       "      <td>SRO1|phosphatidylinositol-3-phosphate-binding ...</td>\n",
       "      <td>PPF3|SHE5|formin BNI1|L000000190</td>\n",
       "      <td>Synthetic Lethality</td>\n",
       "      <td>Gorelik M (2011)</td>\n",
       "    </tr>\n",
       "    <tr>\n",
       "      <th>13779</th>\n",
       "      <td>YBR200W</td>\n",
       "      <td>YER155C</td>\n",
       "      <td>BEM1</td>\n",
       "      <td>BEM2</td>\n",
       "      <td>SRO1|phosphatidylinositol-3-phosphate-binding ...</td>\n",
       "      <td>IPL2|SUP9|TSL1|L000000168</td>\n",
       "      <td>Synthetic Lethality</td>\n",
       "      <td>Gorelik M (2011)</td>\n",
       "    </tr>\n",
       "    <tr>\n",
       "      <th>14385</th>\n",
       "      <td>YBR200W</td>\n",
       "      <td>YHR206W</td>\n",
       "      <td>BEM1</td>\n",
       "      <td>SKN7</td>\n",
       "      <td>SRO1|phosphatidylinositol-3-phosphate-binding ...</td>\n",
       "      <td>BRY1|POS9|kinase-regulated stress-responsive t...</td>\n",
       "      <td>Dosage Lethality</td>\n",
       "      <td>Bouquin N (1999)</td>\n",
       "    </tr>\n",
       "  </tbody>\n",
       "</table>\n",
       "</div>"
      ],
      "text/plain": [
       "      gene-query gene-target gene-query-name gene-target-name  \\\n",
       "2846     YBR200W     YER155C            BEM1             BEM2   \n",
       "2847     YBR200W     YAL041W            BEM1            CDC24   \n",
       "5004     YBR200W     YOR188W            BEM1             MSB1   \n",
       "13777    YBR200W     YGR229C            BEM1             SMI1   \n",
       "13778    YBR200W     YNL271C            BEM1             BNI1   \n",
       "13779    YBR200W     YER155C            BEM1             BEM2   \n",
       "14385    YBR200W     YHR206W            BEM1             SKN7   \n",
       "\n",
       "                                  gene-query-description  \\\n",
       "2846   SRO1|phosphatidylinositol-3-phosphate-binding ...   \n",
       "2847   SRO1|phosphatidylinositol-3-phosphate-binding ...   \n",
       "5004   SRO1|phosphatidylinositol-3-phosphate-binding ...   \n",
       "13777  SRO1|phosphatidylinositol-3-phosphate-binding ...   \n",
       "13778  SRO1|phosphatidylinositol-3-phosphate-binding ...   \n",
       "13779  SRO1|phosphatidylinositol-3-phosphate-binding ...   \n",
       "14385  SRO1|phosphatidylinositol-3-phosphate-binding ...   \n",
       "\n",
       "                                 gene-target-description     interaction-type  \\\n",
       "2846                           IPL2|SUP9|TSL1|L000000168  Synthetic Lethality   \n",
       "2847   CLS4|Rho family guanine nucleotide exchange fa...  Synthetic Lethality   \n",
       "5004                                          L000001184  Synthetic Lethality   \n",
       "13777                                    KNR4|L000000909  Synthetic Lethality   \n",
       "13778                   PPF3|SHE5|formin BNI1|L000000190  Synthetic Lethality   \n",
       "13779                          IPL2|SUP9|TSL1|L000000168  Synthetic Lethality   \n",
       "14385  BRY1|POS9|kinase-regulated stress-responsive t...     Dosage Lethality   \n",
       "\n",
       "            paper-source  \n",
       "2846   Peterson J (1994)  \n",
       "2847   Peterson J (1994)  \n",
       "5004     Bender A (1991)  \n",
       "13777   Gorelik M (2011)  \n",
       "13778   Gorelik M (2011)  \n",
       "13779   Gorelik M (2011)  \n",
       "14385   Bouquin N (1999)  "
      ]
     },
     "execution_count": 36,
     "metadata": {},
     "output_type": "execute_result"
    }
   ],
   "source": [
    "data_sl[data_sl['gene-query-name']=='BEM1']"
   ]
  },
  {
   "cell_type": "code",
   "execution_count": null,
   "metadata": {},
   "outputs": [],
   "source": []
  }
 ],
 "metadata": {
  "jupytext": {
   "text_representation": {
    "extension": ".md",
    "format_name": "myst"
   }
  },
  "kernelspec": {
   "display_name": "Python 3",
   "language": "python",
   "name": "python3"
  },
  "language_info": {
   "codemirror_mode": {
    "name": "ipython",
    "version": 3
   },
   "file_extension": ".py",
   "mimetype": "text/x-python",
   "name": "python",
   "nbconvert_exporter": "python",
   "pygments_lexer": "ipython3",
   "version": "3.7.6"
  },
  "source_map": [
   10,
   18,
   29,
   36,
   57,
   66,
   98,
   101,
   105,
   128,
   131,
   135,
   139,
   145,
   178,
   184,
   188,
   206,
   210,
   218,
   222,
   225,
   229,
   234,
   238,
   244,
   248,
   253,
   257,
   267,
   269,
   273,
   306,
   311,
   313,
   317,
   328,
   330,
   334,
   344,
   348,
   358,
   360,
   364,
   381,
   388,
   394,
   400,
   407,
   412,
   419,
   424,
   428,
   432
  ]
 },
 "nbformat": 4,
 "nbformat_minor": 4
}