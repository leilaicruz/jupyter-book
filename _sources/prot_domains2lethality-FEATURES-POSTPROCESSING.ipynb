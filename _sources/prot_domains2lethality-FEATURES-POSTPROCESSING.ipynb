{
 "cells": [
  {
   "cell_type": "markdown",
   "metadata": {},
   "source": [
    "# Feature postprocessing from paper.\n",
    "- Title:  \"Predicting yeast synthetic lethal genetic interactions using protein domains\"\n",
    "- Authors: Bo Li, Feng Luo,School of Computing,Clemson University,Clemson, SC, USA\n",
    "- e-mail: bol, luofeng@clemson.edu\n",
    "- year:2009"
   ]
  },
  {
   "cell_type": "code",
   "execution_count": 1,
   "metadata": {
    "execution": {
     "iopub.execute_input": "2020-07-24T09:50:12.513636Z",
     "iopub.status.busy": "2020-07-24T09:50:12.513107Z",
     "iopub.status.idle": "2020-07-24T09:50:13.236672Z",
     "shell.execute_reply": "2020-07-24T09:50:13.235624Z"
    }
   },
   "outputs": [],
   "source": [
    "import pandas as pd\n",
    "import numpy as np\n",
    "import matplotlib.pyplot as plt\n",
    "from collections import defaultdict \n",
    "import seaborn as sns\n",
    "import matplotlib.cm as cm\n",
    "import scipy as scipy\n",
    "import random"
   ]
  },
  {
   "cell_type": "markdown",
   "metadata": {
    "jupyter": {
     "source_hidden": true
    }
   },
   "source": [
    "### Importing datasets \n",
    "\n",
    "#### Link to the github repo where the datasets to be downloaded:\n",
    "[DOWNLOAD THE DATASETS HERE](https://github.com/leilaicruz/machine-learning-for-yeast/tree/dev_Leila/datasets-for-learning)"
   ]
  },
  {
   "cell_type": "code",
   "execution_count": 2,
   "metadata": {
    "execution": {
     "iopub.execute_input": "2020-07-24T09:50:13.243760Z",
     "iopub.status.busy": "2020-07-24T09:50:13.243202Z",
     "iopub.status.idle": "2020-07-24T09:50:20.731481Z",
     "shell.execute_reply": "2020-07-24T09:50:20.730896Z"
    }
   },
   "outputs": [],
   "source": [
    "import os\n",
    "script_dir = os.path.dirname('__file__') #<-- absolute dir the script is in\n",
    "rel_path_SL = \"datasets/data-synthetic-lethals.xlsx\"\n",
    "rel_path_nSL=\"datasets/data-positive-genetic.xlsx\"\n",
    "rel_path_domains=\"datasets/proteins-domains-from-Pfam.xlsx\"\n",
    "\n",
    "abs_file_path_SL = os.path.join(script_dir, rel_path_SL)\n",
    "abs_file_path_nSL = os.path.join(script_dir, rel_path_nSL)\n",
    "abs_file_path_domains = os.path.join(script_dir, rel_path_domains)\n",
    "\n",
    "# os.chdir('mini_book/docs/') #<-- for binder os.chdir('../')\n",
    "# os.chdir('../')\n",
    "my_path_sl= abs_file_path_SL\n",
    "my_path_non_sl=abs_file_path_nSL\n",
    "my_path_domains=abs_file_path_domains\n",
    "\n",
    "data_sl=pd.read_excel(my_path_sl,header=0)\n",
    "data_domains=pd.read_excel(my_path_domains,header=0,index_col='Unnamed: 0')\n",
    "data_domains=data_domains.dropna()\n",
    "data_nonsl=pd.read_excel(my_path_non_sl,header=0)"
   ]
  },
  {
   "cell_type": "markdown",
   "metadata": {},
   "source": [
    "## Building the feature matrix\n",
    "One matrix for true SL where each row is one pair of SL. Every raw will be a vector of 0,1 or 2 depending on the comparison with the domain list. For row i the jth element = 0 if the jth element of the domain list is not in neither protein A and B, 1, if it is in one of them and 2 if it is in both of them .\n",
    "\n",
    "### Building the list of proteins domains id per protein pair separately :\n",
    "- List of protein A: Search for the Sl/nSL database the query gene name and look in the protein domain database which protein domains id has each of those queries.\n",
    "- List of protein B: Search for the Sl/nSL database the target gene name of the previous query and look in the protein domain database which protein domains id has each of those target genes."
   ]
  },
  {
   "cell_type": "code",
   "execution_count": 3,
   "metadata": {
    "execution": {
     "iopub.execute_input": "2020-07-24T09:50:20.747310Z",
     "iopub.status.busy": "2020-07-24T09:50:20.746673Z",
     "iopub.status.idle": "2020-07-24T09:50:22.925135Z",
     "shell.execute_reply": "2020-07-24T09:50:22.925639Z"
    }
   },
   "outputs": [],
   "source": [
    "# Selecting the meaningful columns in the respective dataset\n",
    "domain_id_list=data_domains['domain-name']\n",
    "query_gene=data_sl['gene-query-name']\n",
    "target_gene=data_sl['gene-target-name']\n",
    "query_gene_nonlethal=data_nonsl['gene-query-name']\n",
    "target_gene_nonlethal=data_nonsl['gene-target-name']\n",
    "\n",
    "\n",
    "\n",
    "# Initialising the arrays\n",
    "protein_a_list=[]\n",
    "protein_b_list=[]\n",
    "protein_a_list_non=[]\n",
    "protein_b_list_non=[]\n",
    "\n",
    "population = np.arange(0,len(data_sl))\n",
    "\n",
    "# For loop for 10000 pairs sampled randomly from the SL/nSl pair list , and creating a big array of proteind domains id per protein pair\n",
    "\n",
    "for m in random.sample(list(population), 500):\n",
    "    protein_a=data_domains[data_domains['name']==query_gene[m]]\n",
    "    protein_b=data_domains[data_domains['name']==target_gene[m]]\n",
    "    protein_a_list.append(protein_a['domain-name'].tolist())\n",
    "    protein_b_list.append(protein_b['domain-name'].tolist())\n",
    "\n",
    "    protein_a_non=data_domains[data_domains['name']==query_gene_nonlethal[m]]\n",
    "    protein_b_non=data_domains[data_domains['name']==target_gene_nonlethal[m]]\n",
    "    protein_a_list_non.append(protein_a_non['domain-name'].tolist())\n",
    "    protein_b_list_non.append(protein_b_non['domain-name'].tolist())"
   ]
  },
  {
   "cell_type": "code",
   "execution_count": 4,
   "metadata": {
    "execution": {
     "iopub.execute_input": "2020-07-24T09:50:22.931147Z",
     "iopub.status.busy": "2020-07-24T09:50:22.929309Z",
     "iopub.status.idle": "2020-07-24T09:50:22.934225Z",
     "shell.execute_reply": "2020-07-24T09:50:22.934639Z"
    }
   },
   "outputs": [
    {
     "name": "stdout",
     "output_type": "stream",
     "text": [
      "We are going to analyze 500 protein pairs, out of 17871 SL protein pairs\n",
      "We are going to analyze 500 protein pairs, out of 43340 positive protein pairs\n"
     ]
    }
   ],
   "source": [
    "print('We are going to analyze',len((protein_a_list)) ,'protein pairs, out of',len(data_sl),'SL protein pairs')\n",
    "print('We are going to analyze',len((protein_a_list_non)) ,'protein pairs, out of',len(data_nonsl),'positive protein pairs')"
   ]
  },
  {
   "cell_type": "markdown",
   "metadata": {},
   "source": [
    "### Postprocessing #1:  Remove protein pairs from study if either protein in the pair does not contain any domain"
   ]
  },
  {
   "cell_type": "code",
   "execution_count": 5,
   "metadata": {
    "execution": {
     "iopub.execute_input": "2020-07-24T09:50:22.945325Z",
     "iopub.status.busy": "2020-07-24T09:50:22.943954Z",
     "iopub.status.idle": "2020-07-24T09:50:22.945951Z",
     "shell.execute_reply": "2020-07-24T09:50:22.946372Z"
    }
   },
   "outputs": [],
   "source": [
    "def remove_empty_domains(protein_list_search,protein_list_pair):\n",
    "    index=[]\n",
    "    for i in np.arange(0,len(protein_list_search)):\n",
    "        if protein_list_search[i]==[] or protein_list_pair[i]==[]:\n",
    "            index.append(i) ## index of empty values for the protein_a_list meaning they dont have any annotated domain\n",
    "\n",
    "    y=[x for x in np.arange(0,len(protein_list_search)) if x not in index] # a list with non empty values from protein_a list\n",
    "\n",
    "    protein_list_search_new=[]\n",
    "    protein_list_pair_new=[]\n",
    "    for i in y:\n",
    "        protein_list_search_new.append(protein_list_search[i])\n",
    "        protein_list_pair_new.append(protein_list_pair[i])\n",
    "    return protein_list_search_new,protein_list_pair_new\n",
    "\n",
    "## evaluating the function\n",
    "\n",
    "protein_a_list_new,protein_b_list_new=remove_empty_domains(protein_a_list,protein_b_list)\n",
    "\n",
    "protein_a_list_non_new,protein_b_list_non_new=remove_empty_domains(protein_a_list_non,protein_b_list_non)"
   ]
  },
  {
   "cell_type": "code",
   "execution_count": 6,
   "metadata": {
    "execution": {
     "iopub.execute_input": "2020-07-24T09:50:22.952896Z",
     "iopub.status.busy": "2020-07-24T09:50:22.952260Z",
     "iopub.status.idle": "2020-07-24T09:50:22.954609Z",
     "shell.execute_reply": "2020-07-24T09:50:22.953388Z"
    }
   },
   "outputs": [
    {
     "name": "stdout",
     "output_type": "stream",
     "text": [
      "The empty domain in the SL were: 82 out of 500 domains\n",
      "The empty domain in the nSL were: 83 out of 500 domains\n"
     ]
    }
   ],
   "source": [
    "print('The empty domain in the SL were:', len(protein_a_list)-len(protein_a_list_new), 'out of', len(protein_a_list),'domains')\n",
    "print('The empty domain in the nSL were:', len(protein_a_list_non)-len(protein_a_list_non_new), 'out of', len(protein_a_list_non),'domains')"
   ]
  },
  {
   "cell_type": "markdown",
   "metadata": {},
   "source": [
    "### Feature engineering: Select from each ordered indexes of domain id list which of them appear once, in both or in any of the domains of each protein pair"
   ]
  },
  {
   "cell_type": "markdown",
   "metadata": {},
   "source": [
    "#### Define function `get_indexes`"
   ]
  },
  {
   "cell_type": "code",
   "execution_count": 7,
   "metadata": {
    "execution": {
     "iopub.execute_input": "2020-07-24T09:50:22.961939Z",
     "iopub.status.busy": "2020-07-24T09:50:22.961000Z",
     "iopub.status.idle": "2020-07-24T09:50:22.964216Z",
     "shell.execute_reply": "2020-07-24T09:50:22.963778Z"
    }
   },
   "outputs": [
    {
     "data": {
      "text/plain": [
       "[1, 2]"
      ]
     },
     "execution_count": 7,
     "metadata": {},
     "output_type": "execute_result"
    }
   ],
   "source": [
    "get_indexes = lambda x, xs: [i for (y, i) in zip(xs, range(len(xs))) if x == y] # a function that give the index of whether a value appear in array or not\n",
    "a=[1,2,2,4,5,6,7,8,9,10]\n",
    "get_indexes(2,a)"
   ]
  },
  {
   "cell_type": "code",
   "execution_count": 8,
   "metadata": {
    "execution": {
     "iopub.execute_input": "2020-07-24T09:50:22.972647Z",
     "iopub.status.busy": "2020-07-24T09:50:22.971512Z",
     "iopub.status.idle": "2020-07-24T09:50:22.974861Z",
     "shell.execute_reply": "2020-07-24T09:50:22.974317Z"
    }
   },
   "outputs": [],
   "source": [
    "def feature_building(protein_a_list_new,protein_b_list_new):\n",
    "    x = np.unique(domain_id_list)\n",
    "    ## To avoid taking repeated domains from one protein of the pairs , lets reduced the domains of each protein from the pairs to their unique members\n",
    "    protein_a_list_unique=[]\n",
    "    protein_b_list_unique=[]\n",
    "    for i in np.arange(0,len(protein_a_list_new)):\n",
    "        protein_a_list_unique.append(np.unique(protein_a_list_new[i]))\n",
    "        protein_b_list_unique.append(np.unique(protein_b_list_new[i]))\n",
    "        \n",
    "    protein_feat_true=np.zeros(shape=(len(x),len(protein_a_list_unique)))\n",
    "    pair_a_b_array=[]\n",
    "    for i in np.arange(0,len(protein_a_list_unique)):\n",
    "        index_a=[]\n",
    "        \n",
    "        pair=[protein_a_list_unique[i],protein_b_list_unique[i]]\n",
    "        pair_a_b=np.concatenate(pair).ravel()\n",
    "        pair_a_b_array.append(pair_a_b)\n",
    "\n",
    "    j=0\n",
    "    for i in pair_a_b_array:  \n",
    "        array,index,counts=np.unique(i,return_index=True,return_counts=True)\n",
    "        \n",
    "        for k,m in zip(counts,array):\n",
    "            if k ==2:\n",
    "                protein_feat_true[get_indexes(m,x),j]=2\n",
    "                \n",
    "            if k==1:\n",
    "                protein_feat_true[get_indexes(m,x),j]=1\n",
    "        j=j+1\n",
    "    return protein_feat_true"
   ]
  },
  {
   "cell_type": "code",
   "execution_count": 9,
   "metadata": {
    "execution": {
     "iopub.execute_input": "2020-07-24T09:50:22.983326Z",
     "iopub.status.busy": "2020-07-24T09:50:22.982835Z",
     "iopub.status.idle": "2020-07-24T09:50:23.632097Z",
     "shell.execute_reply": "2020-07-24T09:50:23.631608Z"
    }
   },
   "outputs": [],
   "source": [
    "protein_feat_true=feature_building(protein_b_list_new=protein_b_list_new,protein_a_list_new=protein_a_list_new)\n",
    "protein_feat_true_pd=pd.DataFrame(protein_feat_true.T)\n",
    "\n",
    "protein_feat_non_true=feature_building(protein_b_list_new=protein_b_list_non_new,protein_a_list_new=protein_a_list_non_new)\n",
    "protein_feat_non_true_pd=pd.DataFrame(protein_feat_non_true.T)"
   ]
  },
  {
   "cell_type": "markdown",
   "metadata": {},
   "source": [
    "### How many ones and twos are in each dataset"
   ]
  },
  {
   "cell_type": "code",
   "execution_count": 10,
   "metadata": {
    "execution": {
     "iopub.execute_input": "2020-07-24T09:50:23.639302Z",
     "iopub.status.busy": "2020-07-24T09:50:23.638765Z",
     "iopub.status.idle": "2020-07-24T09:50:23.752430Z",
     "shell.execute_reply": "2020-07-24T09:50:23.751990Z"
    }
   },
   "outputs": [
    {
     "name": "stdout",
     "output_type": "stream",
     "text": [
      "fraction of twos in the SL array is 1.8980584443829332e-05\n",
      "fraction of ones in the SL array is 0.0009996441140416783\n",
      "fraction of twos in the PI array is 1.0305804942822602e-05\n",
      "fraction of ones in the PI array is 0.0008902629962145986\n"
     ]
    }
   ],
   "source": [
    "index_2_true=protein_feat_true_pd.where(protein_feat_true_pd==2)\n",
    "index_2_true_count=index_2_true.count(axis=1).sum()\n",
    "\n",
    "index_1_true=protein_feat_true_pd.where(protein_feat_true_pd==1)\n",
    "index_1_true_count=index_1_true.count(axis=1).sum()\n",
    "\n",
    "index_2_nontrue=protein_feat_non_true_pd.where(protein_feat_non_true_pd==2)\n",
    "index_2_nontrue_count=index_2_nontrue.count(axis=1).sum()\n",
    "\n",
    "index_1_nontrue=protein_feat_non_true_pd.where(protein_feat_non_true_pd==1)\n",
    "index_1_nontrue_count=index_1_nontrue.count(axis=1).sum()\n",
    "\n",
    "\n",
    "print('fraction of twos in the SL array is',index_2_true_count/(len(protein_feat_true_pd.index)*len(protein_feat_true_pd.columns)))\n",
    "print('fraction of ones in the SL array is',index_1_true_count/(len(protein_feat_true_pd.index)*len(protein_feat_true_pd.columns)))\n",
    "print('fraction of twos in the PI array is',index_2_nontrue_count/(len(protein_feat_non_true_pd.index)*len(protein_feat_non_true_pd.columns)))\n",
    "print('fraction of ones in the PI array is',index_1_nontrue_count/(len(protein_feat_non_true_pd.index)*len(protein_feat_non_true_pd.columns)))"
   ]
  },
  {
   "cell_type": "markdown",
   "metadata": {},
   "source": [
    "#### Bar plot to visualize these numbers"
   ]
  },
  {
   "cell_type": "code",
   "execution_count": 11,
   "metadata": {
    "execution": {
     "iopub.execute_input": "2020-07-24T09:50:23.773575Z",
     "iopub.status.busy": "2020-07-24T09:50:23.770089Z",
     "iopub.status.idle": "2020-07-24T09:50:24.193928Z",
     "shell.execute_reply": "2020-07-24T09:50:24.194331Z"
    }
   },
   "outputs": [
    {
     "data": {
      "text/plain": [
       "([0, 1, 2, 3],\n",
       " [Text(0, 0, ''), Text(0, 0, ''), Text(0, 0, ''), Text(0, 0, '')])"
      ]
     },
     "execution_count": 11,
     "metadata": {},
     "output_type": "execute_result"
    },
    {
     "data": {
      "image/png": "[encoded data removed]",
      "text/plain": [
       "<Figure size 432x288 with 1 Axes>"
      ]
     },
     "metadata": {
      "filenames": {
       "image/png": "/home/runner/work/jupyter-book/jupyter-book/mini_book/docs/_build/jupyter_execute/prot_domains2lethality-FEATURES-POSTPROCESSING_18_1.png"
      },
      "needs_background": "light"
     },
     "output_type": "display_data"
    }
   ],
   "source": [
    "plt.bar(['fraction of 2 in the nSL','fraction of 1 in the nSL'],[index_2_nontrue_count/(len(protein_feat_non_true_pd.index)*len(protein_feat_non_true_pd.columns)),index_1_nontrue_count/(len(protein_feat_non_true_pd.index)*len(protein_feat_non_true_pd.columns))],alpha=0.6,color=['blue','lightblue']), \n",
    "\n",
    "plt.bar(['fraction of 2 in SL ','fraction of 1 in SL'],[index_2_true_count/(len(protein_feat_true_pd.index)*len(protein_feat_true_pd.columns)),index_1_true_count/(len(protein_feat_true_pd.index)*len(protein_feat_true_pd.columns))],alpha=0.6,color=['coral','lightcoral'])\n",
    "\n",
    "plt.ylabel('Fraction from the population')\n",
    "plt.yscale('log')\n",
    "plt.xticks(rotation=40)"
   ]
  },
  {
   "cell_type": "markdown",
   "metadata": {},
   "source": [
    "#### Adding the labels(response variables) to each dataset"
   ]
  },
  {
   "cell_type": "code",
   "execution_count": 12,
   "metadata": {
    "execution": {
     "iopub.execute_input": "2020-07-24T09:50:24.199071Z",
     "iopub.status.busy": "2020-07-24T09:50:24.198034Z",
     "iopub.status.idle": "2020-07-24T09:50:24.201839Z",
     "shell.execute_reply": "2020-07-24T09:50:24.202230Z"
    }
   },
   "outputs": [],
   "source": [
    "protein_feat_true_pd['lethality']=np.ones(shape=(len(protein_a_list_new)))\n",
    "protein_feat_non_true_pd['lethality']=np.zeros(shape=(len(protein_a_list_non_new)))"
   ]
  },
  {
   "cell_type": "markdown",
   "metadata": {},
   "source": [
    "#### Joining both datasets"
   ]
  },
  {
   "cell_type": "code",
   "execution_count": 13,
   "metadata": {
    "execution": {
     "iopub.execute_input": "2020-07-24T09:50:24.207003Z",
     "iopub.status.busy": "2020-07-24T09:50:24.206491Z",
     "iopub.status.idle": "2020-07-24T09:50:24.242449Z",
     "shell.execute_reply": "2020-07-24T09:50:24.241912Z"
    }
   },
   "outputs": [
    {
     "name": "stdout",
     "output_type": "stream",
     "text": [
      "The number of features are: 3026\n",
      "The number of samples are: 835\n"
     ]
    }
   ],
   "source": [
    "feature_post=pd.concat([protein_feat_true_pd,protein_feat_non_true_pd],axis=0)\n",
    "feature_post=feature_post.set_index(np.arange(0,len(protein_a_list_new)+len(protein_a_list_non_new)))\n",
    "print('The number of features are:',feature_post.shape[1])\n",
    "print('The number of samples are:',feature_post.shape[0])"
   ]
  },
  {
   "cell_type": "markdown",
   "metadata": {},
   "source": [
    "### Postprocessing and exploration of the feature matrix of both datasets"
   ]
  },
  {
   "cell_type": "code",
   "execution_count": 14,
   "metadata": {
    "execution": {
     "iopub.execute_input": "2020-07-24T09:50:24.258670Z",
     "iopub.status.busy": "2020-07-24T09:50:24.257625Z",
     "iopub.status.idle": "2020-07-24T09:50:28.182592Z",
     "shell.execute_reply": "2020-07-24T09:50:28.182040Z"
    }
   },
   "outputs": [],
   "source": [
    "mean=feature_post.T.describe().loc['mean']\n",
    "std=feature_post.T.describe().loc['std']\n",
    "lethality=feature_post['lethality']\n",
    "\n",
    "corr_keys=pd.concat([mean,std,lethality],axis=1)"
   ]
  },
  {
   "cell_type": "markdown",
   "metadata": {},
   "source": [
    "### Viz of the stats"
   ]
  },
  {
   "cell_type": "code",
   "execution_count": 15,
   "metadata": {
    "execution": {
     "iopub.execute_input": "2020-07-24T09:50:28.215906Z",
     "iopub.status.busy": "2020-07-24T09:50:28.201688Z",
     "iopub.status.idle": "2020-07-24T09:50:29.530684Z",
     "shell.execute_reply": "2020-07-24T09:50:29.529691Z"
    }
   },
   "outputs": [
    {
     "data": {
      "text/plain": [
       "Text(0.5, 1.08, 'Pairplot to see data dependencies with Lethality')"
      ]
     },
     "execution_count": 15,
     "metadata": {},
     "output_type": "execute_result"
    },
    {
     "data": {
      "image/png": "[encoded data removed]",
      "text/plain": [
       "<Figure size 412x360 with 6 Axes>"
      ]
     },
     "metadata": {
      "filenames": {
       "image/png": "/home/runner/work/jupyter-book/jupyter-book/mini_book/docs/_build/jupyter_execute/prot_domains2lethality-FEATURES-POSTPROCESSING_26_1.png"
      },
      "needs_background": "light"
     },
     "output_type": "display_data"
    }
   ],
   "source": [
    "pair=sns.pairplot(corr_keys,hue='lethality',diag_kind='kde',kind='reg',palette='colorblind')\n",
    "pair.fig.suptitle('Pairplot to see data dependencies with Lethality',y=1.08)"
   ]
  },
  {
   "cell_type": "code",
   "execution_count": 16,
   "metadata": {
    "execution": {
     "iopub.execute_input": "2020-07-24T09:50:29.540237Z",
     "iopub.status.busy": "2020-07-24T09:50:29.539423Z",
     "iopub.status.idle": "2020-07-24T09:50:29.542488Z",
     "shell.execute_reply": "2020-07-24T09:50:29.542034Z"
    }
   },
   "outputs": [],
   "source": [
    "X, y = feature_post.drop(columns=[\"lethality\"]), feature_post[\"lethality\"]"
   ]
  },
  {
   "cell_type": "code",
   "execution_count": 17,
   "metadata": {
    "execution": {
     "iopub.execute_input": "2020-07-24T09:50:29.547187Z",
     "iopub.status.busy": "2020-07-24T09:50:29.546323Z",
     "iopub.status.idle": "2020-07-24T09:50:29.684046Z",
     "shell.execute_reply": "2020-07-24T09:50:29.684542Z"
    }
   },
   "outputs": [],
   "source": [
    "from sklearn.preprocessing import StandardScaler\n",
    "scaler = StandardScaler()\n",
    "x_sl=protein_feat_true_pd.drop(columns=['lethality'])\n",
    "x_nsl=protein_feat_non_true_pd.drop(columns=['lethality'])\n",
    "\n",
    "X_sl_scaled = scaler.fit_transform(x_sl)\n",
    "X_nsl_scaled = scaler.fit_transform(x_nsl)"
   ]
  },
  {
   "cell_type": "code",
   "execution_count": 18,
   "metadata": {
    "execution": {
     "iopub.execute_input": "2020-07-24T09:50:29.689190Z",
     "iopub.status.busy": "2020-07-24T09:50:29.688414Z",
     "iopub.status.idle": "2020-07-24T09:50:29.694131Z",
     "shell.execute_reply": "2020-07-24T09:50:29.693712Z"
    }
   },
   "outputs": [
    {
     "data": {
      "text/plain": [
       "(418, 3025)"
      ]
     },
     "execution_count": 18,
     "metadata": {},
     "output_type": "execute_result"
    }
   ],
   "source": [
    "np.shape(X_sl_scaled)"
   ]
  },
  {
   "cell_type": "markdown",
   "metadata": {},
   "source": [
    "## How redundant are each of the protein domains?"
   ]
  },
  {
   "cell_type": "code",
   "execution_count": 19,
   "metadata": {
    "execution": {
     "iopub.execute_input": "2020-07-24T09:50:29.702209Z",
     "iopub.status.busy": "2020-07-24T09:50:29.701007Z",
     "iopub.status.idle": "2020-07-24T09:50:29.702784Z",
     "shell.execute_reply": "2020-07-24T09:50:29.703190Z"
    }
   },
   "outputs": [],
   "source": [
    "def PCA_component_contribution(scaled_matrix,original_data):\n",
    "    from sklearn.decomposition import PCA\n",
    "\n",
    "    model = PCA(0.95).fit(scaled_matrix)\n",
    "    ## apply dimensionality reduction to X_train\n",
    "    output_pca = model.transform(scaled_matrix)\n",
    "    \n",
    "    total=sum(model.explained_variance_)\n",
    "\n",
    "\n",
    "   \n",
    "    # number of components , that it will be the number of main axes times the number of original components \n",
    "    n_pcs= model.components_.shape[0] # the amount of non redundant protein domains \n",
    "\n",
    "    # get the index of the most important feature on EACH component\n",
    "    # LIST COMPREHENSION HERE\n",
    "    most_important = [np.abs(model.components_[i]).argmax() for i in range(n_pcs)]\n",
    "\n",
    "    initial_feature_names = original_data.columns\n",
    "    # get the names\n",
    "    most_important_names = [initial_feature_names[most_important[i]] for i in range(n_pcs)]\n",
    "    \n",
    "\n",
    "    # LIST COMPREHENSION HERE AGAIN\n",
    "    dic = {'PC{}'.format(i): most_important_names[i] for i in range(n_pcs)}\n",
    "\n",
    "    # build the dataframe\n",
    "    df = pd.DataFrame(dic.items(),columns=['pca-component','domain-number'])\n",
    "\n",
    "    return df,model.components_"
   ]
  },
  {
   "cell_type": "code",
   "execution_count": 20,
   "metadata": {
    "execution": {
     "iopub.execute_input": "2020-07-24T09:50:29.706688Z",
     "iopub.status.busy": "2020-07-24T09:50:29.706184Z",
     "iopub.status.idle": "2020-07-24T09:50:30.280435Z",
     "shell.execute_reply": "2020-07-24T09:50:30.280861Z"
    }
   },
   "outputs": [],
   "source": [
    "df_sl,components_pca_nsl=PCA_component_contribution(X_nsl_scaled,x_nsl)\n",
    "df_nsl,components_pca_sl=PCA_component_contribution(X_sl_scaled,x_sl)"
   ]
  },
  {
   "cell_type": "code",
   "execution_count": 21,
   "metadata": {
    "execution": {
     "iopub.execute_input": "2020-07-24T09:50:30.283165Z",
     "iopub.status.busy": "2020-07-24T09:50:30.282652Z",
     "iopub.status.idle": "2020-07-24T09:50:30.290099Z",
     "shell.execute_reply": "2020-07-24T09:50:30.290558Z"
    }
   },
   "outputs": [
    {
     "data": {
      "text/html": [
       "<div>\n",
       "<style scoped>\n",
       "    .dataframe tbody tr th:only-of-type {\n",
       "        vertical-align: middle;\n",
       "    }\n",
       "\n",
       "    .dataframe tbody tr th {\n",
       "        vertical-align: top;\n",
       "    }\n",
       "\n",
       "    .dataframe thead th {\n",
       "        text-align: right;\n",
       "    }\n",
       "</style>\n",
       "<table border=\"1\" class=\"dataframe\">\n",
       "  <thead>\n",
       "    <tr style=\"text-align: right;\">\n",
       "      <th></th>\n",
       "      <th>pca-component</th>\n",
       "      <th>domain-number</th>\n",
       "    </tr>\n",
       "  </thead>\n",
       "  <tbody>\n",
       "    <tr>\n",
       "      <th>0</th>\n",
       "      <td>PC0</td>\n",
       "      <td>1464</td>\n",
       "    </tr>\n",
       "    <tr>\n",
       "      <th>1</th>\n",
       "      <td>PC1</td>\n",
       "      <td>958</td>\n",
       "    </tr>\n",
       "    <tr>\n",
       "      <th>2</th>\n",
       "      <td>PC2</td>\n",
       "      <td>176</td>\n",
       "    </tr>\n",
       "    <tr>\n",
       "      <th>3</th>\n",
       "      <td>PC3</td>\n",
       "      <td>221</td>\n",
       "    </tr>\n",
       "    <tr>\n",
       "      <th>4</th>\n",
       "      <td>PC4</td>\n",
       "      <td>2544</td>\n",
       "    </tr>\n",
       "  </tbody>\n",
       "</table>\n",
       "</div>"
      ],
      "text/plain": [
       "  pca-component  domain-number\n",
       "0           PC0           1464\n",
       "1           PC1            958\n",
       "2           PC2            176\n",
       "3           PC3            221\n",
       "4           PC4           2544"
      ]
     },
     "execution_count": 21,
     "metadata": {},
     "output_type": "execute_result"
    }
   ],
   "source": [
    "df_sl.head()"
   ]
  },
  {
   "cell_type": "markdown",
   "metadata": {},
   "source": [
    "## which are the shared domains between nSL and SL pairs , in the PCA reduced samples"
   ]
  },
  {
   "cell_type": "code",
   "execution_count": 22,
   "metadata": {
    "execution": {
     "iopub.execute_input": "2020-07-24T09:50:30.292703Z",
     "iopub.status.busy": "2020-07-24T09:50:30.292215Z",
     "iopub.status.idle": "2020-07-24T09:50:30.320698Z",
     "shell.execute_reply": "2020-07-24T09:50:30.321215Z"
    }
   },
   "outputs": [
    {
     "data": {
      "text/html": [
       "<div>\n",
       "<style scoped>\n",
       "    .dataframe tbody tr th:only-of-type {\n",
       "        vertical-align: middle;\n",
       "    }\n",
       "\n",
       "    .dataframe tbody tr th {\n",
       "        vertical-align: top;\n",
       "    }\n",
       "\n",
       "    .dataframe thead th {\n",
       "        text-align: right;\n",
       "    }\n",
       "</style>\n",
       "<table border=\"1\" class=\"dataframe\">\n",
       "  <thead>\n",
       "    <tr style=\"text-align: right;\">\n",
       "      <th></th>\n",
       "      <th>pca-component_x</th>\n",
       "      <th>domain-number</th>\n",
       "      <th>pca-component_y</th>\n",
       "      <th>domain-description</th>\n",
       "    </tr>\n",
       "  </thead>\n",
       "  <tbody>\n",
       "    <tr>\n",
       "      <th>0</th>\n",
       "      <td>PC0</td>\n",
       "      <td>1464</td>\n",
       "      <td>PC1</td>\n",
       "      <td>Metallophos_2; Calcineurin-like phosphoesteras...</td>\n",
       "    </tr>\n",
       "    <tr>\n",
       "      <th>1</th>\n",
       "      <td>PC15</td>\n",
       "      <td>1082</td>\n",
       "      <td>PC14</td>\n",
       "      <td>Gpi1; N-acetylglucosaminyl transferase component</td>\n",
       "    </tr>\n",
       "    <tr>\n",
       "      <th>2</th>\n",
       "      <td>PC19</td>\n",
       "      <td>926</td>\n",
       "      <td>PC17</td>\n",
       "      <td>Flp_C; Recombinase Flp protein</td>\n",
       "    </tr>\n",
       "    <tr>\n",
       "      <th>3</th>\n",
       "      <td>PC19</td>\n",
       "      <td>926</td>\n",
       "      <td>PC19</td>\n",
       "      <td>Flp_C; Recombinase Flp protein</td>\n",
       "    </tr>\n",
       "    <tr>\n",
       "      <th>4</th>\n",
       "      <td>PC22</td>\n",
       "      <td>2610</td>\n",
       "      <td>PC2</td>\n",
       "      <td>TPK_B1_binding; Thiamin pyrophosphokinase, vit...</td>\n",
       "    </tr>\n",
       "    <tr>\n",
       "      <th>5</th>\n",
       "      <td>PC27</td>\n",
       "      <td>343</td>\n",
       "      <td>PC18</td>\n",
       "      <td>CENP-C_C; Mif2/CENP-C cupin domain</td>\n",
       "    </tr>\n",
       "    <tr>\n",
       "      <th>6</th>\n",
       "      <td>PC41</td>\n",
       "      <td>982</td>\n",
       "      <td>PC22</td>\n",
       "      <td>GHMP_kinases_C; GHMP kinase, C-terminal domain</td>\n",
       "    </tr>\n",
       "    <tr>\n",
       "      <th>7</th>\n",
       "      <td>PC42</td>\n",
       "      <td>1836</td>\n",
       "      <td>PC35</td>\n",
       "      <td>PTPLA; Protein-tyrosine phosphatase-like, PTPLA</td>\n",
       "    </tr>\n",
       "    <tr>\n",
       "      <th>8</th>\n",
       "      <td>PC50</td>\n",
       "      <td>133</td>\n",
       "      <td>PC3</td>\n",
       "      <td>ATP-synt_ab_C; ATP synthase, alpha subunit, C-...</td>\n",
       "    </tr>\n",
       "    <tr>\n",
       "      <th>9</th>\n",
       "      <td>PC54</td>\n",
       "      <td>599</td>\n",
       "      <td>PC65</td>\n",
       "      <td>DLIC; Dynein family light intermediate chain</td>\n",
       "    </tr>\n",
       "    <tr>\n",
       "      <th>10</th>\n",
       "      <td>PC56</td>\n",
       "      <td>1035</td>\n",
       "      <td>PC205</td>\n",
       "      <td>Gln-synt_N; Glutamine synthetase, beta-Grasp d...</td>\n",
       "    </tr>\n",
       "    <tr>\n",
       "      <th>11</th>\n",
       "      <td>PC64</td>\n",
       "      <td>1072</td>\n",
       "      <td>PC37</td>\n",
       "      <td>Glycos_transf_1; Glycosyl transferase, family 1</td>\n",
       "    </tr>\n",
       "    <tr>\n",
       "      <th>12</th>\n",
       "      <td>PC64</td>\n",
       "      <td>1072</td>\n",
       "      <td>PC38</td>\n",
       "      <td>Glycos_transf_1; Glycosyl transferase, family 1</td>\n",
       "    </tr>\n",
       "    <tr>\n",
       "      <th>13</th>\n",
       "      <td>PC65</td>\n",
       "      <td>1072</td>\n",
       "      <td>PC37</td>\n",
       "      <td>Glycos_transf_1; Glycosyl transferase, family 1</td>\n",
       "    </tr>\n",
       "    <tr>\n",
       "      <th>14</th>\n",
       "      <td>PC65</td>\n",
       "      <td>1072</td>\n",
       "      <td>PC38</td>\n",
       "      <td>Glycos_transf_1; Glycosyl transferase, family 1</td>\n",
       "    </tr>\n",
       "    <tr>\n",
       "      <th>15</th>\n",
       "      <td>PC66</td>\n",
       "      <td>1585</td>\n",
       "      <td>PC87</td>\n",
       "      <td>NPR3; Nitrogen permease regulator 3</td>\n",
       "    </tr>\n",
       "    <tr>\n",
       "      <th>16</th>\n",
       "      <td>PC70</td>\n",
       "      <td>1354</td>\n",
       "      <td>PC28</td>\n",
       "      <td>MBF1; Multiprotein bridging factor 1, N-terminal</td>\n",
       "    </tr>\n",
       "    <tr>\n",
       "      <th>17</th>\n",
       "      <td>PC76</td>\n",
       "      <td>1903</td>\n",
       "      <td>PC268</td>\n",
       "      <td>Pex2_Pex12; Pex, N-terminal</td>\n",
       "    </tr>\n",
       "    <tr>\n",
       "      <th>18</th>\n",
       "      <td>PC83</td>\n",
       "      <td>1041</td>\n",
       "      <td>PC145</td>\n",
       "      <td>Glutaredoxin</td>\n",
       "    </tr>\n",
       "    <tr>\n",
       "      <th>19</th>\n",
       "      <td>PC84</td>\n",
       "      <td>629</td>\n",
       "      <td>PC182</td>\n",
       "      <td>DSHCT; ATP-dependent RNA helicase Ski2, C-term...</td>\n",
       "    </tr>\n",
       "    <tr>\n",
       "      <th>20</th>\n",
       "      <td>PC100</td>\n",
       "      <td>2480</td>\n",
       "      <td>PC141</td>\n",
       "      <td>Sin_N; DNA-directed RNA polymerase III subunit...</td>\n",
       "    </tr>\n",
       "    <tr>\n",
       "      <th>21</th>\n",
       "      <td>PC103</td>\n",
       "      <td>2480</td>\n",
       "      <td>PC141</td>\n",
       "      <td>Sin_N; DNA-directed RNA polymerase III subunit...</td>\n",
       "    </tr>\n",
       "    <tr>\n",
       "      <th>22</th>\n",
       "      <td>PC112</td>\n",
       "      <td>819</td>\n",
       "      <td>PC150</td>\n",
       "      <td>ERO1; Endoplasmic reticulum oxidoreductin 1</td>\n",
       "    </tr>\n",
       "    <tr>\n",
       "      <th>23</th>\n",
       "      <td>PC133</td>\n",
       "      <td>2700</td>\n",
       "      <td>PC122</td>\n",
       "      <td>Trehalose_PPase; Trehalose-phosphatase</td>\n",
       "    </tr>\n",
       "    <tr>\n",
       "      <th>24</th>\n",
       "      <td>PC134</td>\n",
       "      <td>1030</td>\n",
       "      <td>PC274</td>\n",
       "      <td>Gcn1_N; Gcn1, N-terminal</td>\n",
       "    </tr>\n",
       "    <tr>\n",
       "      <th>25</th>\n",
       "      <td>PC142</td>\n",
       "      <td>27</td>\n",
       "      <td>PC69</td>\n",
       "      <td>AAA_8; Dynein heavy chain, P-loop containing D...</td>\n",
       "    </tr>\n",
       "    <tr>\n",
       "      <th>26</th>\n",
       "      <td>PC143</td>\n",
       "      <td>760</td>\n",
       "      <td>PC52</td>\n",
       "      <td>Dopey_N; Dopey, N-terminal</td>\n",
       "    </tr>\n",
       "    <tr>\n",
       "      <th>27</th>\n",
       "      <td>PC144</td>\n",
       "      <td>69</td>\n",
       "      <td>PC266</td>\n",
       "      <td>AIRS; PurM-like, N-terminal domain</td>\n",
       "    </tr>\n",
       "    <tr>\n",
       "      <th>28</th>\n",
       "      <td>PC144</td>\n",
       "      <td>69</td>\n",
       "      <td>PC269</td>\n",
       "      <td>AIRS; PurM-like, N-terminal domain</td>\n",
       "    </tr>\n",
       "    <tr>\n",
       "      <th>29</th>\n",
       "      <td>PC145</td>\n",
       "      <td>1568</td>\n",
       "      <td>PC187</td>\n",
       "      <td>NIR_SIR_ferr; Nitrite/Sulfite reductase ferred...</td>\n",
       "    </tr>\n",
       "    <tr>\n",
       "      <th>30</th>\n",
       "      <td>PC145</td>\n",
       "      <td>1568</td>\n",
       "      <td>PC188</td>\n",
       "      <td>NIR_SIR_ferr; Nitrite/Sulfite reductase ferred...</td>\n",
       "    </tr>\n",
       "    <tr>\n",
       "      <th>31</th>\n",
       "      <td>PC147</td>\n",
       "      <td>316</td>\n",
       "      <td>PC9</td>\n",
       "      <td>CAF20; Cap-associated protein Caf20</td>\n",
       "    </tr>\n",
       "    <tr>\n",
       "      <th>32</th>\n",
       "      <td>PC155</td>\n",
       "      <td>42</td>\n",
       "      <td>PC159</td>\n",
       "      <td>ABC_tran_Xtn; ABC-transporter extension domain</td>\n",
       "    </tr>\n",
       "    <tr>\n",
       "      <th>33</th>\n",
       "      <td>PC156</td>\n",
       "      <td>2198</td>\n",
       "      <td>PC142</td>\n",
       "      <td>Ribosomal_L37ae; Ribosomal protein L37ae</td>\n",
       "    </tr>\n",
       "    <tr>\n",
       "      <th>34</th>\n",
       "      <td>PC161</td>\n",
       "      <td>2584</td>\n",
       "      <td>PC275</td>\n",
       "      <td>TFIIIC_sub6; Transcription factor TFIIIC, tau5...</td>\n",
       "    </tr>\n",
       "    <tr>\n",
       "      <th>35</th>\n",
       "      <td>PC163</td>\n",
       "      <td>1411</td>\n",
       "      <td>PC233</td>\n",
       "      <td>MTS; Methyltransferase small domain</td>\n",
       "    </tr>\n",
       "    <tr>\n",
       "      <th>36</th>\n",
       "      <td>PC168</td>\n",
       "      <td>618</td>\n",
       "      <td>PC221</td>\n",
       "      <td>DNA_pol_alpha_N; DNA polymerase alpha catalyti...</td>\n",
       "    </tr>\n",
       "    <tr>\n",
       "      <th>37</th>\n",
       "      <td>PC171</td>\n",
       "      <td>2553</td>\n",
       "      <td>PC236</td>\n",
       "      <td>TAF8_C; Transcription factor TFIID, subunit 8,...</td>\n",
       "    </tr>\n",
       "    <tr>\n",
       "      <th>38</th>\n",
       "      <td>PC171</td>\n",
       "      <td>2553</td>\n",
       "      <td>PC244</td>\n",
       "      <td>TAF8_C; Transcription factor TFIID, subunit 8,...</td>\n",
       "    </tr>\n",
       "    <tr>\n",
       "      <th>39</th>\n",
       "      <td>PC172</td>\n",
       "      <td>2478</td>\n",
       "      <td>PC262</td>\n",
       "      <td>Sin3_corepress; Histone deacetylase interactin...</td>\n",
       "    </tr>\n",
       "    <tr>\n",
       "      <th>40</th>\n",
       "      <td>PC287</td>\n",
       "      <td>2478</td>\n",
       "      <td>PC262</td>\n",
       "      <td>Sin3_corepress; Histone deacetylase interactin...</td>\n",
       "    </tr>\n",
       "    <tr>\n",
       "      <th>41</th>\n",
       "      <td>PC178</td>\n",
       "      <td>1498</td>\n",
       "      <td>PC174</td>\n",
       "      <td>MmgE_PrpD; MmgE/PrpD</td>\n",
       "    </tr>\n",
       "    <tr>\n",
       "      <th>42</th>\n",
       "      <td>PC187</td>\n",
       "      <td>2648</td>\n",
       "      <td>PC152</td>\n",
       "      <td>Tcp11; T-complex 11</td>\n",
       "    </tr>\n",
       "    <tr>\n",
       "      <th>43</th>\n",
       "      <td>PC187</td>\n",
       "      <td>2648</td>\n",
       "      <td>PC153</td>\n",
       "      <td>Tcp11; T-complex 11</td>\n",
       "    </tr>\n",
       "    <tr>\n",
       "      <th>44</th>\n",
       "      <td>PC188</td>\n",
       "      <td>330</td>\n",
       "      <td>PC259</td>\n",
       "      <td>CDC13_N; Cell division control protein 13, N-t...</td>\n",
       "    </tr>\n",
       "    <tr>\n",
       "      <th>45</th>\n",
       "      <td>PC188</td>\n",
       "      <td>330</td>\n",
       "      <td>PC260</td>\n",
       "      <td>CDC13_N; Cell division control protein 13, N-t...</td>\n",
       "    </tr>\n",
       "    <tr>\n",
       "      <th>46</th>\n",
       "      <td>PC189</td>\n",
       "      <td>330</td>\n",
       "      <td>PC259</td>\n",
       "      <td>CDC13_N; Cell division control protein 13, N-t...</td>\n",
       "    </tr>\n",
       "    <tr>\n",
       "      <th>47</th>\n",
       "      <td>PC189</td>\n",
       "      <td>330</td>\n",
       "      <td>PC260</td>\n",
       "      <td>CDC13_N; Cell division control protein 13, N-t...</td>\n",
       "    </tr>\n",
       "    <tr>\n",
       "      <th>48</th>\n",
       "      <td>PC208</td>\n",
       "      <td>2597</td>\n",
       "      <td>PC157</td>\n",
       "      <td>TIM21; Mitochondrial import inner membrane tra...</td>\n",
       "    </tr>\n",
       "    <tr>\n",
       "      <th>49</th>\n",
       "      <td>PC223</td>\n",
       "      <td>1061</td>\n",
       "      <td>PC243</td>\n",
       "      <td>Glyco_tran_28_C; Glycosyl transferase, family ...</td>\n",
       "    </tr>\n",
       "    <tr>\n",
       "      <th>50</th>\n",
       "      <td>PC227</td>\n",
       "      <td>1688</td>\n",
       "      <td>PC130</td>\n",
       "      <td>PA14; PA14 domain</td>\n",
       "    </tr>\n",
       "    <tr>\n",
       "      <th>51</th>\n",
       "      <td>PC228</td>\n",
       "      <td>314</td>\n",
       "      <td>PC80</td>\n",
       "      <td>CAF1A; Chromatin assembly factor 1 subunit A</td>\n",
       "    </tr>\n",
       "    <tr>\n",
       "      <th>52</th>\n",
       "      <td>PC234</td>\n",
       "      <td>1978</td>\n",
       "      <td>PC189</td>\n",
       "      <td>RFX_DNA_binding; DNA-binding RFX-type winged-h...</td>\n",
       "    </tr>\n",
       "    <tr>\n",
       "      <th>53</th>\n",
       "      <td>PC289</td>\n",
       "      <td>227</td>\n",
       "      <td>PC239</td>\n",
       "      <td>ArgJ; Arginine biosynthesis protein ArgJ</td>\n",
       "    </tr>\n",
       "  </tbody>\n",
       "</table>\n",
       "</div>"
      ],
      "text/plain": [
       "   pca-component_x  domain-number pca-component_y  \\\n",
       "0              PC0           1464             PC1   \n",
       "1             PC15           1082            PC14   \n",
       "2             PC19            926            PC17   \n",
       "3             PC19            926            PC19   \n",
       "4             PC22           2610             PC2   \n",
       "5             PC27            343            PC18   \n",
       "6             PC41            982            PC22   \n",
       "7             PC42           1836            PC35   \n",
       "8             PC50            133             PC3   \n",
       "9             PC54            599            PC65   \n",
       "10            PC56           1035           PC205   \n",
       "11            PC64           1072            PC37   \n",
       "12            PC64           1072            PC38   \n",
       "13            PC65           1072            PC37   \n",
       "14            PC65           1072            PC38   \n",
       "15            PC66           1585            PC87   \n",
       "16            PC70           1354            PC28   \n",
       "17            PC76           1903           PC268   \n",
       "18            PC83           1041           PC145   \n",
       "19            PC84            629           PC182   \n",
       "20           PC100           2480           PC141   \n",
       "21           PC103           2480           PC141   \n",
       "22           PC112            819           PC150   \n",
       "23           PC133           2700           PC122   \n",
       "24           PC134           1030           PC274   \n",
       "25           PC142             27            PC69   \n",
       "26           PC143            760            PC52   \n",
       "27           PC144             69           PC266   \n",
       "28           PC144             69           PC269   \n",
       "29           PC145           1568           PC187   \n",
       "30           PC145           1568           PC188   \n",
       "31           PC147            316             PC9   \n",
       "32           PC155             42           PC159   \n",
       "33           PC156           2198           PC142   \n",
       "34           PC161           2584           PC275   \n",
       "35           PC163           1411           PC233   \n",
       "36           PC168            618           PC221   \n",
       "37           PC171           2553           PC236   \n",
       "38           PC171           2553           PC244   \n",
       "39           PC172           2478           PC262   \n",
       "40           PC287           2478           PC262   \n",
       "41           PC178           1498           PC174   \n",
       "42           PC187           2648           PC152   \n",
       "43           PC187           2648           PC153   \n",
       "44           PC188            330           PC259   \n",
       "45           PC188            330           PC260   \n",
       "46           PC189            330           PC259   \n",
       "47           PC189            330           PC260   \n",
       "48           PC208           2597           PC157   \n",
       "49           PC223           1061           PC243   \n",
       "50           PC227           1688           PC130   \n",
       "51           PC228            314            PC80   \n",
       "52           PC234           1978           PC189   \n",
       "53           PC289            227           PC239   \n",
       "\n",
       "                                   domain-description  \n",
       "0   Metallophos_2; Calcineurin-like phosphoesteras...  \n",
       "1    Gpi1; N-acetylglucosaminyl transferase component  \n",
       "2                      Flp_C; Recombinase Flp protein  \n",
       "3                      Flp_C; Recombinase Flp protein  \n",
       "4   TPK_B1_binding; Thiamin pyrophosphokinase, vit...  \n",
       "5                  CENP-C_C; Mif2/CENP-C cupin domain  \n",
       "6      GHMP_kinases_C; GHMP kinase, C-terminal domain  \n",
       "7     PTPLA; Protein-tyrosine phosphatase-like, PTPLA  \n",
       "8   ATP-synt_ab_C; ATP synthase, alpha subunit, C-...  \n",
       "9        DLIC; Dynein family light intermediate chain  \n",
       "10  Gln-synt_N; Glutamine synthetase, beta-Grasp d...  \n",
       "11    Glycos_transf_1; Glycosyl transferase, family 1  \n",
       "12    Glycos_transf_1; Glycosyl transferase, family 1  \n",
       "13    Glycos_transf_1; Glycosyl transferase, family 1  \n",
       "14    Glycos_transf_1; Glycosyl transferase, family 1  \n",
       "15                NPR3; Nitrogen permease regulator 3  \n",
       "16   MBF1; Multiprotein bridging factor 1, N-terminal  \n",
       "17                        Pex2_Pex12; Pex, N-terminal  \n",
       "18                                       Glutaredoxin  \n",
       "19  DSHCT; ATP-dependent RNA helicase Ski2, C-term...  \n",
       "20  Sin_N; DNA-directed RNA polymerase III subunit...  \n",
       "21  Sin_N; DNA-directed RNA polymerase III subunit...  \n",
       "22        ERO1; Endoplasmic reticulum oxidoreductin 1  \n",
       "23             Trehalose_PPase; Trehalose-phosphatase  \n",
       "24                           Gcn1_N; Gcn1, N-terminal  \n",
       "25  AAA_8; Dynein heavy chain, P-loop containing D...  \n",
       "26                         Dopey_N; Dopey, N-terminal  \n",
       "27                 AIRS; PurM-like, N-terminal domain  \n",
       "28                 AIRS; PurM-like, N-terminal domain  \n",
       "29  NIR_SIR_ferr; Nitrite/Sulfite reductase ferred...  \n",
       "30  NIR_SIR_ferr; Nitrite/Sulfite reductase ferred...  \n",
       "31                CAF20; Cap-associated protein Caf20  \n",
       "32     ABC_tran_Xtn; ABC-transporter extension domain  \n",
       "33           Ribosomal_L37ae; Ribosomal protein L37ae  \n",
       "34  TFIIIC_sub6; Transcription factor TFIIIC, tau5...  \n",
       "35                MTS; Methyltransferase small domain  \n",
       "36  DNA_pol_alpha_N; DNA polymerase alpha catalyti...  \n",
       "37  TAF8_C; Transcription factor TFIID, subunit 8,...  \n",
       "38  TAF8_C; Transcription factor TFIID, subunit 8,...  \n",
       "39  Sin3_corepress; Histone deacetylase interactin...  \n",
       "40  Sin3_corepress; Histone deacetylase interactin...  \n",
       "41                               MmgE_PrpD; MmgE/PrpD  \n",
       "42                                Tcp11; T-complex 11  \n",
       "43                                Tcp11; T-complex 11  \n",
       "44  CDC13_N; Cell division control protein 13, N-t...  \n",
       "45  CDC13_N; Cell division control protein 13, N-t...  \n",
       "46  CDC13_N; Cell division control protein 13, N-t...  \n",
       "47  CDC13_N; Cell division control protein 13, N-t...  \n",
       "48  TIM21; Mitochondrial import inner membrane tra...  \n",
       "49  Glyco_tran_28_C; Glycosyl transferase, family ...  \n",
       "50                                  PA14; PA14 domain  \n",
       "51       CAF1A; Chromatin assembly factor 1 subunit A  \n",
       "52  RFX_DNA_binding; DNA-binding RFX-type winged-h...  \n",
       "53           ArgJ; Arginine biosynthesis protein ArgJ  "
      ]
     },
     "execution_count": 22,
     "metadata": {},
     "output_type": "execute_result"
    }
   ],
   "source": [
    "df_shared_domains=pd.merge(df_sl,df_nsl,how='inner',on='domain-number')\n",
    "domains_name=np.unique(data_domains['domain-name'])\n",
    "domains_description=np.unique(data_domains['domain-descrip'])\n",
    "\n",
    "df_shared_domains['domain-description']=domains_description[df_shared_domains['domain-number']]\n",
    "\n",
    "\n",
    "df_shared_domains"
   ]
  },
  {
   "cell_type": "code",
   "execution_count": 23,
   "metadata": {
    "execution": {
     "iopub.execute_input": "2020-07-24T09:50:30.323304Z",
     "iopub.status.busy": "2020-07-24T09:50:30.322808Z",
     "iopub.status.idle": "2020-07-24T09:50:30.327426Z",
     "shell.execute_reply": "2020-07-24T09:50:30.327890Z"
    }
   },
   "outputs": [
    {
     "name": "stdout",
     "output_type": "stream",
     "text": [
      "The number of shared domains between SL and nSL pairs,after PCA, is =  54 out of 567 so the 9.523809523809524 %\n"
     ]
    }
   ],
   "source": [
    "print('The number of shared domains between SL and nSL pairs,after PCA, is = ',len(df_shared_domains), 'out of', len(df_sl)+len(df_nsl), 'so the',100*len(df_shared_domains)/(len(df_sl)+len(df_nsl)),'%')"
   ]
  },
  {
   "cell_type": "markdown",
   "metadata": {},
   "source": [
    "## Domains exclusive to SL"
   ]
  },
  {
   "cell_type": "code",
   "execution_count": 24,
   "metadata": {
    "execution": {
     "iopub.execute_input": "2020-07-24T09:50:30.330018Z",
     "iopub.status.busy": "2020-07-24T09:50:30.329507Z",
     "iopub.status.idle": "2020-07-24T09:50:30.354570Z",
     "shell.execute_reply": "2020-07-24T09:50:30.355248Z"
    }
   },
   "outputs": [
    {
     "data": {
      "text/html": [
       "<div>\n",
       "<style scoped>\n",
       "    .dataframe tbody tr th:only-of-type {\n",
       "        vertical-align: middle;\n",
       "    }\n",
       "\n",
       "    .dataframe tbody tr th {\n",
       "        vertical-align: top;\n",
       "    }\n",
       "\n",
       "    .dataframe thead th {\n",
       "        text-align: right;\n",
       "    }\n",
       "</style>\n",
       "<table border=\"1\" class=\"dataframe\">\n",
       "  <thead>\n",
       "    <tr style=\"text-align: right;\">\n",
       "      <th></th>\n",
       "      <th>pca-component_x</th>\n",
       "      <th>domain-number</th>\n",
       "      <th>pca-component_y</th>\n",
       "      <th>domain-description</th>\n",
       "    </tr>\n",
       "  </thead>\n",
       "  <tbody>\n",
       "    <tr>\n",
       "      <th>1</th>\n",
       "      <td>PC1</td>\n",
       "      <td>958</td>\n",
       "      <td>NaN</td>\n",
       "      <td>GATA; Zinc finger, GATA-type</td>\n",
       "    </tr>\n",
       "    <tr>\n",
       "      <th>2</th>\n",
       "      <td>PC2</td>\n",
       "      <td>176</td>\n",
       "      <td>NaN</td>\n",
       "      <td>Aft1_OSA; Transcription factor Aft1, osmotic s...</td>\n",
       "    </tr>\n",
       "    <tr>\n",
       "      <th>3</th>\n",
       "      <td>PC3</td>\n",
       "      <td>221</td>\n",
       "      <td>NaN</td>\n",
       "      <td>Apq12; Nuclear pore assembly and biogenesis pr...</td>\n",
       "    </tr>\n",
       "    <tr>\n",
       "      <th>4</th>\n",
       "      <td>PC4</td>\n",
       "      <td>2544</td>\n",
       "      <td>NaN</td>\n",
       "      <td>Sybindin; Trafficking protein particle complex...</td>\n",
       "    </tr>\n",
       "    <tr>\n",
       "      <th>5</th>\n",
       "      <td>PC5</td>\n",
       "      <td>308</td>\n",
       "      <td>NaN</td>\n",
       "      <td>Bul1_N; Bul1, N-terminal</td>\n",
       "    </tr>\n",
       "    <tr>\n",
       "      <th>...</th>\n",
       "      <td>...</td>\n",
       "      <td>...</td>\n",
       "      <td>...</td>\n",
       "      <td>...</td>\n",
       "    </tr>\n",
       "    <tr>\n",
       "      <th>292</th>\n",
       "      <td>PC283</td>\n",
       "      <td>1506</td>\n",
       "      <td>NaN</td>\n",
       "      <td>Mog1; Ran-interacting Mog1 protein</td>\n",
       "    </tr>\n",
       "    <tr>\n",
       "      <th>293</th>\n",
       "      <td>PC284</td>\n",
       "      <td>25</td>\n",
       "      <td>NaN</td>\n",
       "      <td>AAA_6</td>\n",
       "    </tr>\n",
       "    <tr>\n",
       "      <th>294</th>\n",
       "      <td>PC285</td>\n",
       "      <td>2492</td>\n",
       "      <td>NaN</td>\n",
       "      <td>Sod_Cu; Superoxide dismutase, copper/zinc bind...</td>\n",
       "    </tr>\n",
       "    <tr>\n",
       "      <th>295</th>\n",
       "      <td>PC286</td>\n",
       "      <td>1971</td>\n",
       "      <td>NaN</td>\n",
       "      <td>RCC1; Regulator of chromosome condensation, RCC1</td>\n",
       "    </tr>\n",
       "    <tr>\n",
       "      <th>297</th>\n",
       "      <td>PC288</td>\n",
       "      <td>18</td>\n",
       "      <td>NaN</td>\n",
       "      <td>AAA_18</td>\n",
       "    </tr>\n",
       "  </tbody>\n",
       "</table>\n",
       "<p>245 rows × 4 columns</p>\n",
       "</div>"
      ],
      "text/plain": [
       "    pca-component_x  domain-number pca-component_y  \\\n",
       "1               PC1            958             NaN   \n",
       "2               PC2            176             NaN   \n",
       "3               PC3            221             NaN   \n",
       "4               PC4           2544             NaN   \n",
       "5               PC5            308             NaN   \n",
       "..              ...            ...             ...   \n",
       "292           PC283           1506             NaN   \n",
       "293           PC284             25             NaN   \n",
       "294           PC285           2492             NaN   \n",
       "295           PC286           1971             NaN   \n",
       "297           PC288             18             NaN   \n",
       "\n",
       "                                    domain-description  \n",
       "1                         GATA; Zinc finger, GATA-type  \n",
       "2    Aft1_OSA; Transcription factor Aft1, osmotic s...  \n",
       "3    Apq12; Nuclear pore assembly and biogenesis pr...  \n",
       "4    Sybindin; Trafficking protein particle complex...  \n",
       "5                             Bul1_N; Bul1, N-terminal  \n",
       "..                                                 ...  \n",
       "292                 Mog1; Ran-interacting Mog1 protein  \n",
       "293                                              AAA_6  \n",
       "294  Sod_Cu; Superoxide dismutase, copper/zinc bind...  \n",
       "295   RCC1; Regulator of chromosome condensation, RCC1  \n",
       "297                                             AAA_18  \n",
       "\n",
       "[245 rows x 4 columns]"
      ]
     },
     "execution_count": 24,
     "metadata": {},
     "output_type": "execute_result"
    }
   ],
   "source": [
    "df_sl_exclusive=pd.merge(df_sl,df_nsl,how='left',on='domain-number')\n",
    "\n",
    "domains_name=np.unique(data_domains['domain-name'])\n",
    "domains_description=np.unique(data_domains['domain-descrip'])\n",
    "\n",
    "df_sl_exclusive['domain-description']=domains_description[df_sl_exclusive['domain-number']]\n",
    "df_sl_exclusive[pd.isnull(df_sl_exclusive['pca-component_y'])]"
   ]
  },
  {
   "cell_type": "code",
   "execution_count": 25,
   "metadata": {
    "execution": {
     "iopub.execute_input": "2020-07-24T09:50:30.358012Z",
     "iopub.status.busy": "2020-07-24T09:50:30.357077Z",
     "iopub.status.idle": "2020-07-24T09:50:30.363669Z",
     "shell.execute_reply": "2020-07-24T09:50:30.364315Z"
    }
   },
   "outputs": [
    {
     "name": "stdout",
     "output_type": "stream",
     "text": [
      "The number of exclusive domains from SL pairs, after PCA, is =  299 out of 567 so the 52.7336860670194 %\n"
     ]
    }
   ],
   "source": [
    "print('The number of exclusive domains from SL pairs, after PCA, is = ',len(df_sl_exclusive), 'out of', len(df_sl)+len(df_nsl), 'so the',100*len(df_sl_exclusive)/(len(df_sl)+len(df_nsl)),'%')"
   ]
  },
  {
   "cell_type": "code",
   "execution_count": 26,
   "metadata": {
    "execution": {
     "iopub.execute_input": "2020-07-24T09:50:30.367114Z",
     "iopub.status.busy": "2020-07-24T09:50:30.366172Z",
     "iopub.status.idle": "2020-07-24T09:50:30.393559Z",
     "shell.execute_reply": "2020-07-24T09:50:30.394249Z"
    }
   },
   "outputs": [
    {
     "data": {
      "text/html": [
       "<div>\n",
       "<style scoped>\n",
       "    .dataframe tbody tr th:only-of-type {\n",
       "        vertical-align: middle;\n",
       "    }\n",
       "\n",
       "    .dataframe tbody tr th {\n",
       "        vertical-align: top;\n",
       "    }\n",
       "\n",
       "    .dataframe thead th {\n",
       "        text-align: right;\n",
       "    }\n",
       "</style>\n",
       "<table border=\"1\" class=\"dataframe\">\n",
       "  <thead>\n",
       "    <tr style=\"text-align: right;\">\n",
       "      <th></th>\n",
       "      <th>pca-component_x</th>\n",
       "      <th>domain-number</th>\n",
       "      <th>pca-component_y</th>\n",
       "      <th>domain-description</th>\n",
       "    </tr>\n",
       "  </thead>\n",
       "  <tbody>\n",
       "    <tr>\n",
       "      <th>54</th>\n",
       "      <td>NaN</td>\n",
       "      <td>1028</td>\n",
       "      <td>PC0</td>\n",
       "      <td>GatB_Yqey; Asn/Gln amidotransferase</td>\n",
       "    </tr>\n",
       "    <tr>\n",
       "      <th>55</th>\n",
       "      <td>NaN</td>\n",
       "      <td>177</td>\n",
       "      <td>PC4</td>\n",
       "      <td>Aha1_N; Activator of Hsp90 ATPase, N-terminal</td>\n",
       "    </tr>\n",
       "    <tr>\n",
       "      <th>56</th>\n",
       "      <td>NaN</td>\n",
       "      <td>245</td>\n",
       "      <td>PC5</td>\n",
       "      <td>Autophagy_C; Autophagy-related protein 3, C-te...</td>\n",
       "    </tr>\n",
       "    <tr>\n",
       "      <th>57</th>\n",
       "      <td>NaN</td>\n",
       "      <td>303</td>\n",
       "      <td>PC6</td>\n",
       "      <td>Bromo_TP; Bromodomain associated domain</td>\n",
       "    </tr>\n",
       "    <tr>\n",
       "      <th>58</th>\n",
       "      <td>NaN</td>\n",
       "      <td>303</td>\n",
       "      <td>PC7</td>\n",
       "      <td>Bromo_TP; Bromodomain associated domain</td>\n",
       "    </tr>\n",
       "    <tr>\n",
       "      <th>...</th>\n",
       "      <td>...</td>\n",
       "      <td>...</td>\n",
       "      <td>...</td>\n",
       "      <td>...</td>\n",
       "    </tr>\n",
       "    <tr>\n",
       "      <th>278</th>\n",
       "      <td>NaN</td>\n",
       "      <td>622</td>\n",
       "      <td>PC270</td>\n",
       "      <td>DNA_topoisoIV; DNA topoisomerase, type IIA, su...</td>\n",
       "    </tr>\n",
       "    <tr>\n",
       "      <th>279</th>\n",
       "      <td>NaN</td>\n",
       "      <td>1002</td>\n",
       "      <td>PC271</td>\n",
       "      <td>GSHPx; Glutathione peroxidase</td>\n",
       "    </tr>\n",
       "    <tr>\n",
       "      <th>280</th>\n",
       "      <td>NaN</td>\n",
       "      <td>1002</td>\n",
       "      <td>PC272</td>\n",
       "      <td>GSHPx; Glutathione peroxidase</td>\n",
       "    </tr>\n",
       "    <tr>\n",
       "      <th>281</th>\n",
       "      <td>NaN</td>\n",
       "      <td>2757</td>\n",
       "      <td>PC273</td>\n",
       "      <td>UPF0121; TMEM33/Pom33 family</td>\n",
       "    </tr>\n",
       "    <tr>\n",
       "      <th>282</th>\n",
       "      <td>NaN</td>\n",
       "      <td>881</td>\n",
       "      <td>PC276</td>\n",
       "      <td>FHA; Forkhead-associated (FHA) domain</td>\n",
       "    </tr>\n",
       "  </tbody>\n",
       "</table>\n",
       "<p>229 rows × 4 columns</p>\n",
       "</div>"
      ],
      "text/plain": [
       "    pca-component_x  domain-number pca-component_y  \\\n",
       "54              NaN           1028             PC0   \n",
       "55              NaN            177             PC4   \n",
       "56              NaN            245             PC5   \n",
       "57              NaN            303             PC6   \n",
       "58              NaN            303             PC7   \n",
       "..              ...            ...             ...   \n",
       "278             NaN            622           PC270   \n",
       "279             NaN           1002           PC271   \n",
       "280             NaN           1002           PC272   \n",
       "281             NaN           2757           PC273   \n",
       "282             NaN            881           PC276   \n",
       "\n",
       "                                    domain-description  \n",
       "54                 GatB_Yqey; Asn/Gln amidotransferase  \n",
       "55       Aha1_N; Activator of Hsp90 ATPase, N-terminal  \n",
       "56   Autophagy_C; Autophagy-related protein 3, C-te...  \n",
       "57             Bromo_TP; Bromodomain associated domain  \n",
       "58             Bromo_TP; Bromodomain associated domain  \n",
       "..                                                 ...  \n",
       "278  DNA_topoisoIV; DNA topoisomerase, type IIA, su...  \n",
       "279                      GSHPx; Glutathione peroxidase  \n",
       "280                      GSHPx; Glutathione peroxidase  \n",
       "281                       UPF0121; TMEM33/Pom33 family  \n",
       "282              FHA; Forkhead-associated (FHA) domain  \n",
       "\n",
       "[229 rows x 4 columns]"
      ]
     },
     "execution_count": 26,
     "metadata": {},
     "output_type": "execute_result"
    }
   ],
   "source": [
    "df_nsl_exclusive=pd.merge(df_sl,df_nsl,how='right',on='domain-number')\n",
    "\n",
    "domains_name=np.unique(data_domains['domain-name'])\n",
    "domains_description=np.unique(data_domains['domain-descrip'])\n",
    "\n",
    "df_nsl_exclusive['domain-description']=domains_description[df_nsl_exclusive['domain-number']]\n",
    "df_nsl_exclusive[pd.isnull(df_nsl_exclusive['pca-component_x'])]"
   ]
  },
  {
   "cell_type": "code",
   "execution_count": 27,
   "metadata": {
    "execution": {
     "iopub.execute_input": "2020-07-24T09:50:30.397124Z",
     "iopub.status.busy": "2020-07-24T09:50:30.396175Z",
     "iopub.status.idle": "2020-07-24T09:50:30.402911Z",
     "shell.execute_reply": "2020-07-24T09:50:30.403300Z"
    }
   },
   "outputs": [
    {
     "name": "stdout",
     "output_type": "stream",
     "text": [
      "The number of exclusive domains from non SL pairs, after PCA, is =  283 out of 567 so the 49.91181657848325 %\n"
     ]
    }
   ],
   "source": [
    "print('The number of exclusive domains from non SL pairs, after PCA, is = ',len(df_nsl_exclusive), 'out of', len(df_sl)+len(df_nsl), 'so the',100*len(df_nsl_exclusive)/(len(df_sl)+len(df_nsl)),'%')"
   ]
  },
  {
   "cell_type": "markdown",
   "metadata": {},
   "source": [
    "## Let see to the domains-number that get repeated after the PCA analysis , and selecting the most explanatory feature by its explained variance."
   ]
  },
  {
   "cell_type": "code",
   "execution_count": 28,
   "metadata": {
    "execution": {
     "iopub.execute_input": "2020-07-24T09:50:30.423275Z",
     "iopub.status.busy": "2020-07-24T09:50:30.422652Z",
     "iopub.status.idle": "2020-07-24T09:50:30.426025Z",
     "shell.execute_reply": "2020-07-24T09:50:30.425615Z"
    }
   },
   "outputs": [],
   "source": [
    "duplicated_features_sl=df_sl[df_sl.iloc[:,1].duplicated()]\n",
    "repeated_features_sl=pd.DataFrame()\n",
    "\n",
    "domains_name=np.unique(data_domains['domain-name'])\n",
    "domains_description=np.unique(data_domains['domain-descrip'])\n",
    "\n",
    "repeated_features_sl['domain-name']=domains_name[duplicated_features_sl.iloc[:,1]] \n",
    "repeated_features_sl['domain-description']=domains_description[duplicated_features_sl.iloc[:,1]]\n",
    "\n",
    "duplicated_features_nsl=df_nsl[df_nsl.iloc[:,1].duplicated()]\n",
    "repeated_features_nsl=pd.DataFrame()\n",
    "\n",
    "repeated_features_nsl['domain-name']=domains_name[duplicated_features_nsl.iloc[:,1]] \n",
    "repeated_features_nsl['domain-description']=domains_description[duplicated_features_nsl.iloc[:,1]]"
   ]
  },
  {
   "cell_type": "code",
   "execution_count": 29,
   "metadata": {
    "execution": {
     "iopub.execute_input": "2020-07-24T09:50:30.433705Z",
     "iopub.status.busy": "2020-07-24T09:50:30.430536Z",
     "iopub.status.idle": "2020-07-24T09:50:30.437623Z",
     "shell.execute_reply": "2020-07-24T09:50:30.438012Z"
    }
   },
   "outputs": [
    {
     "name": "stderr",
     "output_type": "stream",
     "text": [
      "/usr/share/miniconda3/envs/wintest/lib/python3.7/site-packages/ipykernel_launcher.py:3: SettingWithCopyWarning: \n",
      "A value is trying to be set on a copy of a slice from a DataFrame.\n",
      "Try using .loc[row_indexer,col_indexer] = value instead\n",
      "\n",
      "See the caveats in the documentation: https://pandas.pydata.org/pandas-docs/stable/user_guide/indexing.html#returning-a-view-versus-a-copy\n",
      "  This is separate from the ipykernel package so we can avoid doing imports until\n"
     ]
    },
    {
     "data": {
      "text/plain": [
       "((47, 4), (299, 4))"
      ]
     },
     "execution_count": 29,
     "metadata": {},
     "output_type": "execute_result"
    }
   ],
   "source": [
    "only_sl_pd=pd.merge(repeated_features_sl,repeated_features_nsl,how='left',on=['domain-name'])\n",
    "data_only_sl = only_sl_pd[pd.isnull(only_sl_pd['domain-description_y'])]\n",
    "data_only_sl['domain-description']=data_only_sl['domain-description_x']\n",
    "data_only_sl.shape,df_sl_exclusive.shape"
   ]
  },
  {
   "cell_type": "code",
   "execution_count": 30,
   "metadata": {
    "execution": {
     "iopub.execute_input": "2020-07-24T09:50:30.454984Z",
     "iopub.status.busy": "2020-07-24T09:50:30.444536Z",
     "iopub.status.idle": "2020-07-24T09:50:30.459731Z",
     "shell.execute_reply": "2020-07-24T09:50:30.459313Z"
    }
   },
   "outputs": [
    {
     "data": {
      "text/html": [
       "<div>\n",
       "<style scoped>\n",
       "    .dataframe tbody tr th:only-of-type {\n",
       "        vertical-align: middle;\n",
       "    }\n",
       "\n",
       "    .dataframe tbody tr th {\n",
       "        vertical-align: top;\n",
       "    }\n",
       "\n",
       "    .dataframe thead th {\n",
       "        text-align: right;\n",
       "    }\n",
       "</style>\n",
       "<table border=\"1\" class=\"dataframe\">\n",
       "  <thead>\n",
       "    <tr style=\"text-align: right;\">\n",
       "      <th></th>\n",
       "      <th>domain-name</th>\n",
       "      <th>domain-description_x</th>\n",
       "      <th>domain-description_y</th>\n",
       "    </tr>\n",
       "  </thead>\n",
       "  <tbody>\n",
       "    <tr>\n",
       "      <th>2</th>\n",
       "      <td>PF00621</td>\n",
       "      <td>NaN</td>\n",
       "      <td>Bromo_TP; Bromodomain associated domain</td>\n",
       "    </tr>\n",
       "    <tr>\n",
       "      <th>3</th>\n",
       "      <td>PF02671</td>\n",
       "      <td>NaN</td>\n",
       "      <td>Flp_C; Recombinase Flp protein</td>\n",
       "    </tr>\n",
       "    <tr>\n",
       "      <th>4</th>\n",
       "      <td>PF06733</td>\n",
       "      <td>NaN</td>\n",
       "      <td>Ost5; Oligosaccharyltransferase complex subunit</td>\n",
       "    </tr>\n",
       "    <tr>\n",
       "      <th>5</th>\n",
       "      <td>PF13202</td>\n",
       "      <td>NaN</td>\n",
       "      <td>TIP41; TIP41-like protein</td>\n",
       "    </tr>\n",
       "    <tr>\n",
       "      <th>6</th>\n",
       "      <td>PF00580</td>\n",
       "      <td>NaN</td>\n",
       "      <td>BRCT_2; BRCT domain</td>\n",
       "    </tr>\n",
       "    <tr>\n",
       "      <th>7</th>\n",
       "      <td>PF16891</td>\n",
       "      <td>NaN</td>\n",
       "      <td>tRNA-synt_1c; Glutamyl/glutaminyl-tRNA synthet...</td>\n",
       "    </tr>\n",
       "    <tr>\n",
       "      <th>8</th>\n",
       "      <td>PF10302</td>\n",
       "      <td>NaN</td>\n",
       "      <td>Ribosomal_S3_C; Ribosomal protein S3, C-terminal</td>\n",
       "    </tr>\n",
       "    <tr>\n",
       "      <th>9</th>\n",
       "      <td>PF05557</td>\n",
       "      <td>NaN</td>\n",
       "      <td>NIF; FCP1 homology domain</td>\n",
       "    </tr>\n",
       "    <tr>\n",
       "      <th>10</th>\n",
       "      <td>PF07647</td>\n",
       "      <td>NaN</td>\n",
       "      <td>PGM_PMM_III; Alpha-D-phosphohexomutase, alpha/...</td>\n",
       "    </tr>\n",
       "    <tr>\n",
       "      <th>11</th>\n",
       "      <td>PF00227</td>\n",
       "      <td>NaN</td>\n",
       "      <td>ATG13; Autophagy-related protein 13</td>\n",
       "    </tr>\n",
       "    <tr>\n",
       "      <th>12</th>\n",
       "      <td>PF00227</td>\n",
       "      <td>NaN</td>\n",
       "      <td>ATG13; Autophagy-related protein 13</td>\n",
       "    </tr>\n",
       "    <tr>\n",
       "      <th>13</th>\n",
       "      <td>PF13793</td>\n",
       "      <td>NaN</td>\n",
       "      <td>Tom37; Mitochondrial outer membrane transport ...</td>\n",
       "    </tr>\n",
       "    <tr>\n",
       "      <th>14</th>\n",
       "      <td>PF05064</td>\n",
       "      <td>NaN</td>\n",
       "      <td>Mis12; Centromere protein Mis12</td>\n",
       "    </tr>\n",
       "    <tr>\n",
       "      <th>15</th>\n",
       "      <td>PF05046</td>\n",
       "      <td>NaN</td>\n",
       "      <td>Mhr1; Mitochondrial homologous recombination p...</td>\n",
       "    </tr>\n",
       "    <tr>\n",
       "      <th>16</th>\n",
       "      <td>PF12856</td>\n",
       "      <td>NaN</td>\n",
       "      <td>TBP; TATA-box binding protein</td>\n",
       "    </tr>\n",
       "    <tr>\n",
       "      <th>17</th>\n",
       "      <td>PF01541</td>\n",
       "      <td>NaN</td>\n",
       "      <td>DUF1899; Domain of unknown function DUF1899</td>\n",
       "    </tr>\n",
       "    <tr>\n",
       "      <th>18</th>\n",
       "      <td>PF13923</td>\n",
       "      <td>NaN</td>\n",
       "      <td>Tti2; Tti2 family</td>\n",
       "    </tr>\n",
       "    <tr>\n",
       "      <th>19</th>\n",
       "      <td>PF12735</td>\n",
       "      <td>NaN</td>\n",
       "      <td>Sterol-sensing; Sterol-sensing domain</td>\n",
       "    </tr>\n",
       "    <tr>\n",
       "      <th>20</th>\n",
       "      <td>PF07064</td>\n",
       "      <td>NaN</td>\n",
       "      <td>PAP_central; Poly(A) polymerase, central domain</td>\n",
       "    </tr>\n",
       "    <tr>\n",
       "      <th>21</th>\n",
       "      <td>PF04821</td>\n",
       "      <td>NaN</td>\n",
       "      <td>Mcl1_mid; Minichromosome loss protein Mcl1, mi...</td>\n",
       "    </tr>\n",
       "    <tr>\n",
       "      <th>22</th>\n",
       "      <td>PF04121</td>\n",
       "      <td>NaN</td>\n",
       "      <td>LIAS_N; Lipoyl synthase, N-terminal</td>\n",
       "    </tr>\n",
       "    <tr>\n",
       "      <th>23</th>\n",
       "      <td>PF00025</td>\n",
       "      <td>NaN</td>\n",
       "      <td>5-FTHF_cyc-lig; 5-formyltetrahydrofolate cyclo...</td>\n",
       "    </tr>\n",
       "    <tr>\n",
       "      <th>24</th>\n",
       "      <td>PF00179</td>\n",
       "      <td>NaN</td>\n",
       "      <td>ANAPC3</td>\n",
       "    </tr>\n",
       "    <tr>\n",
       "      <th>25</th>\n",
       "      <td>PF13513</td>\n",
       "      <td>NaN</td>\n",
       "      <td>Tcp11; T-complex 11</td>\n",
       "    </tr>\n",
       "    <tr>\n",
       "      <th>26</th>\n",
       "      <td>PF07904</td>\n",
       "      <td>NaN</td>\n",
       "      <td>PINIT; PINIT domain</td>\n",
       "    </tr>\n",
       "    <tr>\n",
       "      <th>27</th>\n",
       "      <td>PF09346</td>\n",
       "      <td>NaN</td>\n",
       "      <td>RasGAP; Ras GTPase-activating protein</td>\n",
       "    </tr>\n",
       "    <tr>\n",
       "      <th>28</th>\n",
       "      <td>PF08733</td>\n",
       "      <td>NaN</td>\n",
       "      <td>RNase_P_p30; RNase P subunit p30</td>\n",
       "    </tr>\n",
       "    <tr>\n",
       "      <th>29</th>\n",
       "      <td>PF02114</td>\n",
       "      <td>NaN</td>\n",
       "      <td>ERCC3_RAD25_C; ERCC3/RAD25/XPB helicase, C-ter...</td>\n",
       "    </tr>\n",
       "    <tr>\n",
       "      <th>30</th>\n",
       "      <td>PF02114</td>\n",
       "      <td>NaN</td>\n",
       "      <td>ERCC3_RAD25_C; ERCC3/RAD25/XPB helicase, C-ter...</td>\n",
       "    </tr>\n",
       "    <tr>\n",
       "      <th>31</th>\n",
       "      <td>PF06839</td>\n",
       "      <td>NaN</td>\n",
       "      <td>P21-Arc; Actin-related protein 2/3 complex sub...</td>\n",
       "    </tr>\n",
       "    <tr>\n",
       "      <th>32</th>\n",
       "      <td>PF01264</td>\n",
       "      <td>NaN</td>\n",
       "      <td>DFRP_C; ZC3H15/TMA46 family, C-terminal</td>\n",
       "    </tr>\n",
       "    <tr>\n",
       "      <th>33</th>\n",
       "      <td>PF06325</td>\n",
       "      <td>NaN</td>\n",
       "      <td>Nse4_C; Non-structural maintenance of chromoso...</td>\n",
       "    </tr>\n",
       "    <tr>\n",
       "      <th>34</th>\n",
       "      <td>PF08653</td>\n",
       "      <td>NaN</td>\n",
       "      <td>RNA_pol_Rpb1_2; RNA polymerase, alpha subunit</td>\n",
       "    </tr>\n",
       "    <tr>\n",
       "      <th>35</th>\n",
       "      <td>PF05615</td>\n",
       "      <td>NaN</td>\n",
       "      <td>NIR_SIR_ferr; Nitrite/Sulfite reductase ferred...</td>\n",
       "    </tr>\n",
       "    <tr>\n",
       "      <th>36</th>\n",
       "      <td>PF08580</td>\n",
       "      <td>NaN</td>\n",
       "      <td>Pyr_redox_dim; Pyridine nucleotide-disulphide ...</td>\n",
       "    </tr>\n",
       "    <tr>\n",
       "      <th>37</th>\n",
       "      <td>PF04893</td>\n",
       "      <td>NaN</td>\n",
       "      <td>Med22; Mediator of RNA polymerase II transcrip...</td>\n",
       "    </tr>\n",
       "    <tr>\n",
       "      <th>38</th>\n",
       "      <td>PF09496</td>\n",
       "      <td>NaN</td>\n",
       "      <td>Rib_5-P_isom_A; Ribose 5-phosphate isomerase, ...</td>\n",
       "    </tr>\n",
       "    <tr>\n",
       "      <th>39</th>\n",
       "      <td>PF11788</td>\n",
       "      <td>NaN</td>\n",
       "      <td>SWIRM-assoc_1; SMARCC, C-terminal</td>\n",
       "    </tr>\n",
       "    <tr>\n",
       "      <th>40</th>\n",
       "      <td>PF06437</td>\n",
       "      <td>NaN</td>\n",
       "      <td>OMPdecase; Orotidine 5&amp;apos;-phosphate decarbo...</td>\n",
       "    </tr>\n",
       "    <tr>\n",
       "      <th>41</th>\n",
       "      <td>PF05983</td>\n",
       "      <td>NaN</td>\n",
       "      <td>NifU_N; NIF system FeS cluster assembly, NifU,...</td>\n",
       "    </tr>\n",
       "    <tr>\n",
       "      <th>42</th>\n",
       "      <td>PF01922</td>\n",
       "      <td>NaN</td>\n",
       "      <td>E1_dh; Dehydrogenase, E1 component</td>\n",
       "    </tr>\n",
       "    <tr>\n",
       "      <th>43</th>\n",
       "      <td>PF01250</td>\n",
       "      <td>NaN</td>\n",
       "      <td>DDOST_48kD; Dolichyl-diphosphooligosaccharide-...</td>\n",
       "    </tr>\n",
       "    <tr>\n",
       "      <th>44</th>\n",
       "      <td>PF12816</td>\n",
       "      <td>NaN</td>\n",
       "      <td>TAF8_C; Transcription factor TFIID, subunit 8,...</td>\n",
       "    </tr>\n",
       "    <tr>\n",
       "      <th>45</th>\n",
       "      <td>PF01496</td>\n",
       "      <td>NaN</td>\n",
       "      <td>DUF1706; Protein of unknown function DUF1706</td>\n",
       "    </tr>\n",
       "    <tr>\n",
       "      <th>46</th>\n",
       "      <td>PF12767</td>\n",
       "      <td>NaN</td>\n",
       "      <td>SurE; Survival protein SurE-like phosphatase/n...</td>\n",
       "    </tr>\n",
       "    <tr>\n",
       "      <th>47</th>\n",
       "      <td>PF12348</td>\n",
       "      <td>NaN</td>\n",
       "      <td>Sir1; Sir1, ORC-binding domain</td>\n",
       "    </tr>\n",
       "    <tr>\n",
       "      <th>48</th>\n",
       "      <td>PF03162</td>\n",
       "      <td>NaN</td>\n",
       "      <td>Glyco_transf_20; Glycosyl transferase, family 20</td>\n",
       "    </tr>\n",
       "    <tr>\n",
       "      <th>49</th>\n",
       "      <td>PF12896</td>\n",
       "      <td>NaN</td>\n",
       "      <td>TFB6; General transcription factor TFIIH, subu...</td>\n",
       "    </tr>\n",
       "    <tr>\n",
       "      <th>50</th>\n",
       "      <td>PF08426</td>\n",
       "      <td>NaN</td>\n",
       "      <td>PfkB; Carbohydrate kinase PfkB</td>\n",
       "    </tr>\n",
       "    <tr>\n",
       "      <th>51</th>\n",
       "      <td>PF04762</td>\n",
       "      <td>NaN</td>\n",
       "      <td>Mak16; Mak16 protein</td>\n",
       "    </tr>\n",
       "    <tr>\n",
       "      <th>52</th>\n",
       "      <td>PF00462</td>\n",
       "      <td>NaN</td>\n",
       "      <td>Arb2; Arb2 domain</td>\n",
       "    </tr>\n",
       "    <tr>\n",
       "      <th>53</th>\n",
       "      <td>PF07962</td>\n",
       "      <td>NaN</td>\n",
       "      <td>PMP1_2; Plasma membrane ATPase proteolipid</td>\n",
       "    </tr>\n",
       "    <tr>\n",
       "      <th>54</th>\n",
       "      <td>PF00155</td>\n",
       "      <td>NaN</td>\n",
       "      <td>AIRS; PurM-like, N-terminal domain</td>\n",
       "    </tr>\n",
       "    <tr>\n",
       "      <th>55</th>\n",
       "      <td>PF02902</td>\n",
       "      <td>NaN</td>\n",
       "      <td>GSHPx; Glutathione peroxidase</td>\n",
       "    </tr>\n",
       "  </tbody>\n",
       "</table>\n",
       "</div>"
      ],
      "text/plain": [
       "   domain-name domain-description_x  \\\n",
       "2      PF00621                  NaN   \n",
       "3      PF02671                  NaN   \n",
       "4      PF06733                  NaN   \n",
       "5      PF13202                  NaN   \n",
       "6      PF00580                  NaN   \n",
       "7      PF16891                  NaN   \n",
       "8      PF10302                  NaN   \n",
       "9      PF05557                  NaN   \n",
       "10     PF07647                  NaN   \n",
       "11     PF00227                  NaN   \n",
       "12     PF00227                  NaN   \n",
       "13     PF13793                  NaN   \n",
       "14     PF05064                  NaN   \n",
       "15     PF05046                  NaN   \n",
       "16     PF12856                  NaN   \n",
       "17     PF01541                  NaN   \n",
       "18     PF13923                  NaN   \n",
       "19     PF12735                  NaN   \n",
       "20     PF07064                  NaN   \n",
       "21     PF04821                  NaN   \n",
       "22     PF04121                  NaN   \n",
       "23     PF00025                  NaN   \n",
       "24     PF00179                  NaN   \n",
       "25     PF13513                  NaN   \n",
       "26     PF07904                  NaN   \n",
       "27     PF09346                  NaN   \n",
       "28     PF08733                  NaN   \n",
       "29     PF02114                  NaN   \n",
       "30     PF02114                  NaN   \n",
       "31     PF06839                  NaN   \n",
       "32     PF01264                  NaN   \n",
       "33     PF06325                  NaN   \n",
       "34     PF08653                  NaN   \n",
       "35     PF05615                  NaN   \n",
       "36     PF08580                  NaN   \n",
       "37     PF04893                  NaN   \n",
       "38     PF09496                  NaN   \n",
       "39     PF11788                  NaN   \n",
       "40     PF06437                  NaN   \n",
       "41     PF05983                  NaN   \n",
       "42     PF01922                  NaN   \n",
       "43     PF01250                  NaN   \n",
       "44     PF12816                  NaN   \n",
       "45     PF01496                  NaN   \n",
       "46     PF12767                  NaN   \n",
       "47     PF12348                  NaN   \n",
       "48     PF03162                  NaN   \n",
       "49     PF12896                  NaN   \n",
       "50     PF08426                  NaN   \n",
       "51     PF04762                  NaN   \n",
       "52     PF00462                  NaN   \n",
       "53     PF07962                  NaN   \n",
       "54     PF00155                  NaN   \n",
       "55     PF02902                  NaN   \n",
       "\n",
       "                                 domain-description_y  \n",
       "2             Bromo_TP; Bromodomain associated domain  \n",
       "3                      Flp_C; Recombinase Flp protein  \n",
       "4     Ost5; Oligosaccharyltransferase complex subunit  \n",
       "5                           TIP41; TIP41-like protein  \n",
       "6                                 BRCT_2; BRCT domain  \n",
       "7   tRNA-synt_1c; Glutamyl/glutaminyl-tRNA synthet...  \n",
       "8    Ribosomal_S3_C; Ribosomal protein S3, C-terminal  \n",
       "9                           NIF; FCP1 homology domain  \n",
       "10  PGM_PMM_III; Alpha-D-phosphohexomutase, alpha/...  \n",
       "11                ATG13; Autophagy-related protein 13  \n",
       "12                ATG13; Autophagy-related protein 13  \n",
       "13  Tom37; Mitochondrial outer membrane transport ...  \n",
       "14                    Mis12; Centromere protein Mis12  \n",
       "15  Mhr1; Mitochondrial homologous recombination p...  \n",
       "16                      TBP; TATA-box binding protein  \n",
       "17        DUF1899; Domain of unknown function DUF1899  \n",
       "18                                  Tti2; Tti2 family  \n",
       "19              Sterol-sensing; Sterol-sensing domain  \n",
       "20    PAP_central; Poly(A) polymerase, central domain  \n",
       "21  Mcl1_mid; Minichromosome loss protein Mcl1, mi...  \n",
       "22                LIAS_N; Lipoyl synthase, N-terminal  \n",
       "23  5-FTHF_cyc-lig; 5-formyltetrahydrofolate cyclo...  \n",
       "24                                             ANAPC3  \n",
       "25                                Tcp11; T-complex 11  \n",
       "26                                PINIT; PINIT domain  \n",
       "27              RasGAP; Ras GTPase-activating protein  \n",
       "28                   RNase_P_p30; RNase P subunit p30  \n",
       "29  ERCC3_RAD25_C; ERCC3/RAD25/XPB helicase, C-ter...  \n",
       "30  ERCC3_RAD25_C; ERCC3/RAD25/XPB helicase, C-ter...  \n",
       "31  P21-Arc; Actin-related protein 2/3 complex sub...  \n",
       "32            DFRP_C; ZC3H15/TMA46 family, C-terminal  \n",
       "33  Nse4_C; Non-structural maintenance of chromoso...  \n",
       "34      RNA_pol_Rpb1_2; RNA polymerase, alpha subunit  \n",
       "35  NIR_SIR_ferr; Nitrite/Sulfite reductase ferred...  \n",
       "36  Pyr_redox_dim; Pyridine nucleotide-disulphide ...  \n",
       "37  Med22; Mediator of RNA polymerase II transcrip...  \n",
       "38  Rib_5-P_isom_A; Ribose 5-phosphate isomerase, ...  \n",
       "39                  SWIRM-assoc_1; SMARCC, C-terminal  \n",
       "40  OMPdecase; Orotidine 5&apos;-phosphate decarbo...  \n",
       "41  NifU_N; NIF system FeS cluster assembly, NifU,...  \n",
       "42                 E1_dh; Dehydrogenase, E1 component  \n",
       "43  DDOST_48kD; Dolichyl-diphosphooligosaccharide-...  \n",
       "44  TAF8_C; Transcription factor TFIID, subunit 8,...  \n",
       "45       DUF1706; Protein of unknown function DUF1706  \n",
       "46  SurE; Survival protein SurE-like phosphatase/n...  \n",
       "47                     Sir1; Sir1, ORC-binding domain  \n",
       "48   Glyco_transf_20; Glycosyl transferase, family 20  \n",
       "49  TFB6; General transcription factor TFIIH, subu...  \n",
       "50                     PfkB; Carbohydrate kinase PfkB  \n",
       "51                               Mak16; Mak16 protein  \n",
       "52                                  Arb2; Arb2 domain  \n",
       "53         PMP1_2; Plasma membrane ATPase proteolipid  \n",
       "54                 AIRS; PurM-like, N-terminal domain  \n",
       "55                      GSHPx; Glutathione peroxidase  "
      ]
     },
     "execution_count": 30,
     "metadata": {},
     "output_type": "execute_result"
    }
   ],
   "source": [
    "only_nsl_pd=pd.merge(repeated_features_sl,repeated_features_nsl,how='right',on=['domain-name'])\n",
    "data_only_nsl = only_nsl_pd[pd.isnull(only_nsl_pd['domain-description_x'])]\n",
    "data_only_nsl"
   ]
  },
  {
   "cell_type": "code",
   "execution_count": 31,
   "metadata": {
    "execution": {
     "iopub.execute_input": "2020-07-24T09:50:30.469076Z",
     "iopub.status.busy": "2020-07-24T09:50:30.468571Z",
     "iopub.status.idle": "2020-07-24T09:50:30.473058Z",
     "shell.execute_reply": "2020-07-24T09:50:30.473477Z"
    }
   },
   "outputs": [
    {
     "data": {
      "text/html": [
       "<div>\n",
       "<style scoped>\n",
       "    .dataframe tbody tr th:only-of-type {\n",
       "        vertical-align: middle;\n",
       "    }\n",
       "\n",
       "    .dataframe tbody tr th {\n",
       "        vertical-align: top;\n",
       "    }\n",
       "\n",
       "    .dataframe thead th {\n",
       "        text-align: right;\n",
       "    }\n",
       "</style>\n",
       "<table border=\"1\" class=\"dataframe\">\n",
       "  <thead>\n",
       "    <tr style=\"text-align: right;\">\n",
       "      <th></th>\n",
       "      <th>domain-name</th>\n",
       "      <th>domain-description_x</th>\n",
       "      <th>domain-description_y</th>\n",
       "    </tr>\n",
       "  </thead>\n",
       "  <tbody>\n",
       "    <tr>\n",
       "      <th>0</th>\n",
       "      <td>PF03198</td>\n",
       "      <td>Glycos_transf_1; Glycosyl transferase, family 1</td>\n",
       "      <td>Glycos_transf_1; Glycosyl transferase, family 1</td>\n",
       "    </tr>\n",
       "    <tr>\n",
       "      <th>1</th>\n",
       "      <td>PF00660</td>\n",
       "      <td>CDC13_N; Cell division control protein 13, N-t...</td>\n",
       "      <td>CDC13_N; Cell division control protein 13, N-t...</td>\n",
       "    </tr>\n",
       "  </tbody>\n",
       "</table>\n",
       "</div>"
      ],
      "text/plain": [
       "  domain-name                               domain-description_x  \\\n",
       "0     PF03198    Glycos_transf_1; Glycosyl transferase, family 1   \n",
       "1     PF00660  CDC13_N; Cell division control protein 13, N-t...   \n",
       "\n",
       "                                domain-description_y  \n",
       "0    Glycos_transf_1; Glycosyl transferase, family 1  \n",
       "1  CDC13_N; Cell division control protein 13, N-t...  "
      ]
     },
     "execution_count": 31,
     "metadata": {},
     "output_type": "execute_result"
    }
   ],
   "source": [
    "shared_domains_pd=pd.merge(repeated_features_sl,repeated_features_nsl,how='inner',on=['domain-name'])\n",
    "shared_domains_pd\n"
   ]
  },
  {
   "cell_type": "code",
   "execution_count": 32,
   "metadata": {
    "execution": {
     "iopub.execute_input": "2020-07-24T09:50:30.488440Z",
     "iopub.status.busy": "2020-07-24T09:50:30.485370Z",
     "iopub.status.idle": "2020-07-24T09:50:31.873875Z",
     "shell.execute_reply": "2020-07-24T09:50:31.873364Z"
    }
   },
   "outputs": [
    {
     "data": {
      "text/plain": [
       "(0.0, 0.2)"
      ]
     },
     "execution_count": 32,
     "metadata": {},
     "output_type": "execute_result"
    },
    {
     "data": {
      "image/png": "[encoded data removed]",
      "text/plain": [
       "<Figure size 432x288 with 1 Axes>"
      ]
     },
     "metadata": {
      "filenames": {
       "image/png": "/home/runner/work/jupyter-book/jupyter-book/mini_book/docs/_build/jupyter_execute/prot_domains2lethality-FEATURES-POSTPROCESSING_47_1.png"
      },
      "needs_background": "light"
     },
     "output_type": "display_data"
    }
   ],
   "source": [
    "a_sl=x_sl.iloc[:,np.sort(df_sl.iloc[:,1])]\n",
    "a_sl.describe().loc['mean'].hist(bins=8),\n",
    "a_sl.describe().loc['std'].hist(bins=8,alpha=0.4)\n",
    "plt.xlim([0,0.2])"
   ]
  },
  {
   "cell_type": "code",
   "execution_count": 33,
   "metadata": {
    "execution": {
     "iopub.execute_input": "2020-07-24T09:50:31.886588Z",
     "iopub.status.busy": "2020-07-24T09:50:31.884463Z",
     "iopub.status.idle": "2020-07-24T09:50:33.212295Z",
     "shell.execute_reply": "2020-07-24T09:50:33.213014Z"
    }
   },
   "outputs": [
    {
     "data": {
      "text/plain": [
       "(0.0, 0.2)"
      ]
     },
     "execution_count": 33,
     "metadata": {},
     "output_type": "execute_result"
    },
    {
     "data": {
      "image/png": "[encoded data removed]",
      "text/plain": [
       "<Figure size 432x288 with 1 Axes>"
      ]
     },
     "metadata": {
      "filenames": {
       "image/png": "/home/runner/work/jupyter-book/jupyter-book/mini_book/docs/_build/jupyter_execute/prot_domains2lethality-FEATURES-POSTPROCESSING_48_1.png"
      },
      "needs_background": "light"
     },
     "output_type": "display_data"
    }
   ],
   "source": [
    "a_nsl=x_nsl.iloc[:,np.sort(df_nsl.iloc[:,1])]\n",
    "a_nsl.describe().loc['mean'].hist(bins=8),\n",
    "a_nsl.describe().loc['std'].hist(bins=8,alpha=0.4)\n",
    "plt.xlim([0,0.2])"
   ]
  },
  {
   "cell_type": "markdown",
   "metadata": {},
   "source": [
    "### Proof of concept with *BEM1*\n",
    "\n",
    "- Gather the domains of SL and nSL pairs from BEM1\n",
    "- Check if the domains for the SL and nSL pairs are inside the most important domains after PCA."
   ]
  },
  {
   "cell_type": "code",
   "execution_count": 34,
   "metadata": {
    "execution": {
     "iopub.execute_input": "2020-07-24T09:50:33.220450Z",
     "iopub.status.busy": "2020-07-24T09:50:33.219870Z",
     "iopub.status.idle": "2020-07-24T09:50:33.223174Z",
     "shell.execute_reply": "2020-07-24T09:50:33.223620Z"
    }
   },
   "outputs": [],
   "source": [
    "domains_bem1=data_domains[data_domains['name']=='BEM1']['domain-descrip']\n",
    "sl_bem1=data_sl[data_sl['gene-query-name']=='BEM1']['gene-target-name']"
   ]
  },
  {
   "cell_type": "code",
   "execution_count": 35,
   "metadata": {
    "execution": {
     "iopub.execute_input": "2020-07-24T09:50:33.227938Z",
     "iopub.status.busy": "2020-07-24T09:50:33.227423Z",
     "iopub.status.idle": "2020-07-24T09:50:33.232611Z",
     "shell.execute_reply": "2020-07-24T09:50:33.232157Z"
    }
   },
   "outputs": [
    {
     "data": {
      "text/plain": [
       "2846      BEM2\n",
       "2847     CDC24\n",
       "5004      MSB1\n",
       "13777     SMI1\n",
       "13778     BNI1\n",
       "13779     BEM2\n",
       "14385     SKN7\n",
       "Name: gene-target-name, dtype: object"
      ]
     },
     "execution_count": 35,
     "metadata": {},
     "output_type": "execute_result"
    }
   ],
   "source": [
    "sl_bem1"
   ]
  },
  {
   "cell_type": "code",
   "execution_count": 36,
   "metadata": {
    "execution": {
     "iopub.execute_input": "2020-07-24T09:50:33.246063Z",
     "iopub.status.busy": "2020-07-24T09:50:33.245564Z",
     "iopub.status.idle": "2020-07-24T09:50:33.250614Z",
     "shell.execute_reply": "2020-07-24T09:50:33.250174Z"
    }
   },
   "outputs": [
    {
     "data": {
      "text/html": [
       "<div>\n",
       "<style scoped>\n",
       "    .dataframe tbody tr th:only-of-type {\n",
       "        vertical-align: middle;\n",
       "    }\n",
       "\n",
       "    .dataframe tbody tr th {\n",
       "        vertical-align: top;\n",
       "    }\n",
       "\n",
       "    .dataframe thead th {\n",
       "        text-align: right;\n",
       "    }\n",
       "</style>\n",
       "<table border=\"1\" class=\"dataframe\">\n",
       "  <thead>\n",
       "    <tr style=\"text-align: right;\">\n",
       "      <th></th>\n",
       "      <th>gene-query</th>\n",
       "      <th>gene-target</th>\n",
       "      <th>gene-query-name</th>\n",
       "      <th>gene-target-name</th>\n",
       "      <th>gene-query-description</th>\n",
       "      <th>gene-target-description</th>\n",
       "      <th>interaction-type</th>\n",
       "      <th>paper-source</th>\n",
       "    </tr>\n",
       "  </thead>\n",
       "  <tbody>\n",
       "    <tr>\n",
       "      <th>2846</th>\n",
       "      <td>YBR200W</td>\n",
       "      <td>YER155C</td>\n",
       "      <td>BEM1</td>\n",
       "      <td>BEM2</td>\n",
       "      <td>SRO1|phosphatidylinositol-3-phosphate-binding ...</td>\n",
       "      <td>IPL2|SUP9|TSL1|L000000168</td>\n",
       "      <td>Synthetic Lethality</td>\n",
       "      <td>Peterson J (1994)</td>\n",
       "    </tr>\n",
       "    <tr>\n",
       "      <th>2847</th>\n",
       "      <td>YBR200W</td>\n",
       "      <td>YAL041W</td>\n",
       "      <td>BEM1</td>\n",
       "      <td>CDC24</td>\n",
       "      <td>SRO1|phosphatidylinositol-3-phosphate-binding ...</td>\n",
       "      <td>CLS4|Rho family guanine nucleotide exchange fa...</td>\n",
       "      <td>Synthetic Lethality</td>\n",
       "      <td>Peterson J (1994)</td>\n",
       "    </tr>\n",
       "    <tr>\n",
       "      <th>5004</th>\n",
       "      <td>YBR200W</td>\n",
       "      <td>YOR188W</td>\n",
       "      <td>BEM1</td>\n",
       "      <td>MSB1</td>\n",
       "      <td>SRO1|phosphatidylinositol-3-phosphate-binding ...</td>\n",
       "      <td>L000001184</td>\n",
       "      <td>Synthetic Lethality</td>\n",
       "      <td>Bender A (1991)</td>\n",
       "    </tr>\n",
       "    <tr>\n",
       "      <th>13777</th>\n",
       "      <td>YBR200W</td>\n",
       "      <td>YGR229C</td>\n",
       "      <td>BEM1</td>\n",
       "      <td>SMI1</td>\n",
       "      <td>SRO1|phosphatidylinositol-3-phosphate-binding ...</td>\n",
       "      <td>KNR4|L000000909</td>\n",
       "      <td>Synthetic Lethality</td>\n",
       "      <td>Gorelik M (2011)</td>\n",
       "    </tr>\n",
       "    <tr>\n",
       "      <th>13778</th>\n",
       "      <td>YBR200W</td>\n",
       "      <td>YNL271C</td>\n",
       "      <td>BEM1</td>\n",
       "      <td>BNI1</td>\n",
       "      <td>SRO1|phosphatidylinositol-3-phosphate-binding ...</td>\n",
       "      <td>PPF3|SHE5|formin BNI1|L000000190</td>\n",
       "      <td>Synthetic Lethality</td>\n",
       "      <td>Gorelik M (2011)</td>\n",
       "    </tr>\n",
       "    <tr>\n",
       "      <th>13779</th>\n",
       "      <td>YBR200W</td>\n",
       "      <td>YER155C</td>\n",
       "      <td>BEM1</td>\n",
       "      <td>BEM2</td>\n",
       "      <td>SRO1|phosphatidylinositol-3-phosphate-binding ...</td>\n",
       "      <td>IPL2|SUP9|TSL1|L000000168</td>\n",
       "      <td>Synthetic Lethality</td>\n",
       "      <td>Gorelik M (2011)</td>\n",
       "    </tr>\n",
       "    <tr>\n",
       "      <th>14385</th>\n",
       "      <td>YBR200W</td>\n",
       "      <td>YHR206W</td>\n",
       "      <td>BEM1</td>\n",
       "      <td>SKN7</td>\n",
       "      <td>SRO1|phosphatidylinositol-3-phosphate-binding ...</td>\n",
       "      <td>BRY1|POS9|kinase-regulated stress-responsive t...</td>\n",
       "      <td>Dosage Lethality</td>\n",
       "      <td>Bouquin N (1999)</td>\n",
       "    </tr>\n",
       "  </tbody>\n",
       "</table>\n",
       "</div>"
      ],
      "text/plain": [
       "      gene-query gene-target gene-query-name gene-target-name  \\\n",
       "2846     YBR200W     YER155C            BEM1             BEM2   \n",
       "2847     YBR200W     YAL041W            BEM1            CDC24   \n",
       "5004     YBR200W     YOR188W            BEM1             MSB1   \n",
       "13777    YBR200W     YGR229C            BEM1             SMI1   \n",
       "13778    YBR200W     YNL271C            BEM1             BNI1   \n",
       "13779    YBR200W     YER155C            BEM1             BEM2   \n",
       "14385    YBR200W     YHR206W            BEM1             SKN7   \n",
       "\n",
       "                                  gene-query-description  \\\n",
       "2846   SRO1|phosphatidylinositol-3-phosphate-binding ...   \n",
       "2847   SRO1|phosphatidylinositol-3-phosphate-binding ...   \n",
       "5004   SRO1|phosphatidylinositol-3-phosphate-binding ...   \n",
       "13777  SRO1|phosphatidylinositol-3-phosphate-binding ...   \n",
       "13778  SRO1|phosphatidylinositol-3-phosphate-binding ...   \n",
       "13779  SRO1|phosphatidylinositol-3-phosphate-binding ...   \n",
       "14385  SRO1|phosphatidylinositol-3-phosphate-binding ...   \n",
       "\n",
       "                                 gene-target-description     interaction-type  \\\n",
       "2846                           IPL2|SUP9|TSL1|L000000168  Synthetic Lethality   \n",
       "2847   CLS4|Rho family guanine nucleotide exchange fa...  Synthetic Lethality   \n",
       "5004                                          L000001184  Synthetic Lethality   \n",
       "13777                                    KNR4|L000000909  Synthetic Lethality   \n",
       "13778                   PPF3|SHE5|formin BNI1|L000000190  Synthetic Lethality   \n",
       "13779                          IPL2|SUP9|TSL1|L000000168  Synthetic Lethality   \n",
       "14385  BRY1|POS9|kinase-regulated stress-responsive t...     Dosage Lethality   \n",
       "\n",
       "            paper-source  \n",
       "2846   Peterson J (1994)  \n",
       "2847   Peterson J (1994)  \n",
       "5004     Bender A (1991)  \n",
       "13777   Gorelik M (2011)  \n",
       "13778   Gorelik M (2011)  \n",
       "13779   Gorelik M (2011)  \n",
       "14385   Bouquin N (1999)  "
      ]
     },
     "execution_count": 36,
     "metadata": {},
     "output_type": "execute_result"
    }
   ],
   "source": [
    "data_sl[data_sl['gene-query-name']=='BEM1']"
   ]
  },
  {
   "cell_type": "code",
   "execution_count": null,
   "metadata": {},
   "outputs": [],
   "source": []
  }
 ],
 "metadata": {
  "jupytext": {
   "text_representation": {
    "extension": ".md",
    "format_name": "myst"
   }
  },
  "kernelspec": {
   "display_name": "Python 3",
   "language": "python",
   "name": "python3"
  },
  "language_info": {
   "codemirror_mode": {
    "name": "ipython",
    "version": 3
   },
   "file_extension": ".py",
   "mimetype": "text/x-python",
   "name": "python",
   "nbconvert_exporter": "python",
   "pygments_lexer": "ipython3",
   "version": "3.7.8"
  },
  "source_map": [
   10,
   18,
   29,
   36,
   57,
   66,
   98,
   101,
   105,
   128,
   131,
   135,
   139,
   145,
   178,
   184,
   188,
   206,
   210,
   218,
   222,
   225,
   229,
   234,
   238,
   244,
   248,
   253,
   257,
   267,
   269,
   273,
   306,
   311,
   313,
   317,
   328,
   330,
   334,
   344,
   348,
   358,
   360,
   364,
   381,
   388,
   394,
   400,
   407,
   412,
   419,
   424,
   428,
   432
  ]
 },
 "nbformat": 4,
 "nbformat_minor": 4
}