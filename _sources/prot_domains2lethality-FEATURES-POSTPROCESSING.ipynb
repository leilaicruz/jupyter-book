{
 "cells": [
  {
   "cell_type": "markdown",
   "metadata": {},
   "source": [
    "# Feature postprocessing from paper.\n",
    "- Title:  \"Predicting yeast synthetic lethal genetic interactions using protein domains\"\n",
    "- Authors: Bo Li, Feng Luo,School of Computing,Clemson University,Clemson, SC, USA\n",
    "- e-mail: bol, luofeng@clemson.edu\n",
    "- year:2009"
   ]
  },
  {
   "cell_type": "code",
   "execution_count": 1,
   "metadata": {
    "execution": {
     "iopub.execute_input": "2020-07-22T15:28:14.823206Z",
     "iopub.status.busy": "2020-07-22T15:28:14.822484Z",
     "iopub.status.idle": "2020-07-22T15:28:15.647408Z",
     "shell.execute_reply": "2020-07-22T15:28:15.646841Z"
    }
   },
   "outputs": [],
   "source": [
    "import pandas as pd\n",
    "import numpy as np\n",
    "import matplotlib.pyplot as plt\n",
    "from collections import defaultdict \n",
    "import seaborn as sns\n",
    "import matplotlib.cm as cm\n",
    "import scipy as scipy\n",
    "import random"
   ]
  },
  {
   "cell_type": "markdown",
   "metadata": {
    "jupyter": {
     "source_hidden": true
    }
   },
   "source": [
    "### Importing datasets \n",
    "\n",
    "#### Link to the github repo where the datasets to be downloaded:\n",
    "[DOWNLOAD THE DATASETS HERE](https://github.com/leilaicruz/machine-learning-for-yeast/tree/dev_Leila/datasets-for-learning)"
   ]
  },
  {
   "cell_type": "code",
   "execution_count": 2,
   "metadata": {
    "execution": {
     "iopub.execute_input": "2020-07-22T15:28:15.656269Z",
     "iopub.status.busy": "2020-07-22T15:28:15.654704Z",
     "iopub.status.idle": "2020-07-22T15:28:23.911062Z",
     "shell.execute_reply": "2020-07-22T15:28:23.910139Z"
    }
   },
   "outputs": [],
   "source": [
    "import os\n",
    "script_dir = os.path.dirname('__file__') #<-- absolute dir the script is in\n",
    "rel_path_SL = \"datasets/data-synthetic-lethals.xlsx\"\n",
    "rel_path_nSL=\"datasets/data-positive-genetic.xlsx\"\n",
    "rel_path_domains=\"datasets/proteins-domains-from-Pfam.xlsx\"\n",
    "\n",
    "abs_file_path_SL = os.path.join(script_dir, rel_path_SL)\n",
    "abs_file_path_nSL = os.path.join(script_dir, rel_path_nSL)\n",
    "abs_file_path_domains = os.path.join(script_dir, rel_path_domains)\n",
    "\n",
    "# os.chdir('mini_book/docs/') #<-- for binder os.chdir('../')\n",
    "# os.chdir('../')\n",
    "my_path_sl= abs_file_path_SL\n",
    "my_path_non_sl=abs_file_path_nSL\n",
    "my_path_domains=abs_file_path_domains\n",
    "\n",
    "data_sl=pd.read_excel(my_path_sl,header=0)\n",
    "data_domains=pd.read_excel(my_path_domains,header=0,index_col='Unnamed: 0')\n",
    "data_domains=data_domains.dropna()\n",
    "data_nonsl=pd.read_excel(my_path_non_sl,header=0)"
   ]
  },
  {
   "cell_type": "markdown",
   "metadata": {},
   "source": [
    "## Building the feature matrix\n",
    "One matrix for true SL where each row is one pair of SL. Every raw will be a vector of 0,1 or 2 depending on the comparison with the domain list. For row i the jth element = 0 if the jth element of the domain list is not in neither protein A and B, 1, if it is in one of them and 2 if it is in both of them .\n",
    "\n",
    "### Building the list of proteins domains id per protein pair separately :\n",
    "- List of protein A: Search for the Sl/nSL database the query gene name and look in the protein domain database which protein domains id has each of those queries.\n",
    "- List of protein B: Search for the Sl/nSL database the target gene name of the previous query and look in the protein domain database which protein domains id has each of those target genes."
   ]
  },
  {
   "cell_type": "code",
   "execution_count": 3,
   "metadata": {
    "execution": {
     "iopub.execute_input": "2020-07-22T15:28:23.931176Z",
     "iopub.status.busy": "2020-07-22T15:28:23.930553Z",
     "iopub.status.idle": "2020-07-22T15:28:26.276689Z",
     "shell.execute_reply": "2020-07-22T15:28:26.275711Z"
    }
   },
   "outputs": [],
   "source": [
    "# Selecting the meaningful columns in the respective dataset\n",
    "domain_id_list=data_domains['domain-name']\n",
    "query_gene=data_sl['gene-query-name']\n",
    "target_gene=data_sl['gene-target-name']\n",
    "query_gene_nonlethal=data_nonsl['gene-query-name']\n",
    "target_gene_nonlethal=data_nonsl['gene-target-name']\n",
    "\n",
    "\n",
    "\n",
    "# Initialising the arrays\n",
    "protein_a_list=[]\n",
    "protein_b_list=[]\n",
    "protein_a_list_non=[]\n",
    "protein_b_list_non=[]\n",
    "\n",
    "population = np.arange(0,len(data_sl))\n",
    "\n",
    "# For loop for 10000 pairs sampled randomly from the SL/nSl pair list , and creating a big array of proteind domains id per protein pair\n",
    "\n",
    "for m in random.sample(list(population), 500):\n",
    "    protein_a=data_domains[data_domains['name']==query_gene[m]]\n",
    "    protein_b=data_domains[data_domains['name']==target_gene[m]]\n",
    "    protein_a_list.append(protein_a['domain-name'].tolist())\n",
    "    protein_b_list.append(protein_b['domain-name'].tolist())\n",
    "\n",
    "    protein_a_non=data_domains[data_domains['name']==query_gene_nonlethal[m]]\n",
    "    protein_b_non=data_domains[data_domains['name']==target_gene_nonlethal[m]]\n",
    "    protein_a_list_non.append(protein_a_non['domain-name'].tolist())\n",
    "    protein_b_list_non.append(protein_b_non['domain-name'].tolist())"
   ]
  },
  {
   "cell_type": "code",
   "execution_count": 4,
   "metadata": {
    "execution": {
     "iopub.execute_input": "2020-07-22T15:28:26.282676Z",
     "iopub.status.busy": "2020-07-22T15:28:26.280638Z",
     "iopub.status.idle": "2020-07-22T15:28:26.285677Z",
     "shell.execute_reply": "2020-07-22T15:28:26.285163Z"
    }
   },
   "outputs": [
    {
     "name": "stdout",
     "output_type": "stream",
     "text": [
      "We are going to analyze 500 protein pairs, out of 17871 SL protein pairs\n",
      "We are going to analyze 500 protein pairs, out of 43340 positive protein pairs\n"
     ]
    }
   ],
   "source": [
    "print('We are going to analyze',len((protein_a_list)) ,'protein pairs, out of',len(data_sl),'SL protein pairs')\n",
    "print('We are going to analyze',len((protein_a_list_non)) ,'protein pairs, out of',len(data_nonsl),'positive protein pairs')"
   ]
  },
  {
   "cell_type": "markdown",
   "metadata": {},
   "source": [
    "### Postprocessing #1:  Remove protein pairs from study if either protein in the pair does not contain any domain"
   ]
  },
  {
   "cell_type": "code",
   "execution_count": 5,
   "metadata": {
    "execution": {
     "iopub.execute_input": "2020-07-22T15:28:26.295703Z",
     "iopub.status.busy": "2020-07-22T15:28:26.295096Z",
     "iopub.status.idle": "2020-07-22T15:28:26.298677Z",
     "shell.execute_reply": "2020-07-22T15:28:26.299160Z"
    }
   },
   "outputs": [],
   "source": [
    "def remove_empty_domains(protein_list_search,protein_list_pair):\n",
    "    index=[]\n",
    "    for i in np.arange(0,len(protein_list_search)):\n",
    "        if protein_list_search[i]==[] or protein_list_pair[i]==[]:\n",
    "            index.append(i) ## index of empty values for the protein_a_list meaning they dont have any annotated domain\n",
    "\n",
    "    y=[x for x in np.arange(0,len(protein_list_search)) if x not in index] # a list with non empty values from protein_a list\n",
    "\n",
    "    protein_list_search_new=[]\n",
    "    protein_list_pair_new=[]\n",
    "    for i in y:\n",
    "        protein_list_search_new.append(protein_list_search[i])\n",
    "        protein_list_pair_new.append(protein_list_pair[i])\n",
    "    return protein_list_search_new,protein_list_pair_new\n",
    "\n",
    "## evaluating the function\n",
    "\n",
    "protein_a_list_new,protein_b_list_new=remove_empty_domains(protein_a_list,protein_b_list)\n",
    "\n",
    "protein_a_list_non_new,protein_b_list_non_new=remove_empty_domains(protein_a_list_non,protein_b_list_non)"
   ]
  },
  {
   "cell_type": "code",
   "execution_count": 6,
   "metadata": {
    "execution": {
     "iopub.execute_input": "2020-07-22T15:28:26.304319Z",
     "iopub.status.busy": "2020-07-22T15:28:26.303326Z",
     "iopub.status.idle": "2020-07-22T15:28:26.309147Z",
     "shell.execute_reply": "2020-07-22T15:28:26.307854Z"
    }
   },
   "outputs": [
    {
     "name": "stdout",
     "output_type": "stream",
     "text": [
      "The empty domain in the SL were: 84 out of 500 domains\n",
      "The empty domain in the nSL were: 79 out of 500 domains\n"
     ]
    }
   ],
   "source": [
    "print('The empty domain in the SL were:', len(protein_a_list)-len(protein_a_list_new), 'out of', len(protein_a_list),'domains')\n",
    "print('The empty domain in the nSL were:', len(protein_a_list_non)-len(protein_a_list_non_new), 'out of', len(protein_a_list_non),'domains')"
   ]
  },
  {
   "cell_type": "markdown",
   "metadata": {},
   "source": [
    "### Feature engineering: Select from each ordered indexes of domain id list which of them appear once, in both or in any of the domains of each protein pair"
   ]
  },
  {
   "cell_type": "markdown",
   "metadata": {},
   "source": [
    "#### Define function `get_indexes`"
   ]
  },
  {
   "cell_type": "code",
   "execution_count": 7,
   "metadata": {
    "execution": {
     "iopub.execute_input": "2020-07-22T15:28:26.317457Z",
     "iopub.status.busy": "2020-07-22T15:28:26.316684Z",
     "iopub.status.idle": "2020-07-22T15:28:26.322667Z",
     "shell.execute_reply": "2020-07-22T15:28:26.322174Z"
    }
   },
   "outputs": [
    {
     "data": {
      "text/plain": [
       "[1, 2]"
      ]
     },
     "execution_count": 7,
     "metadata": {},
     "output_type": "execute_result"
    }
   ],
   "source": [
    "get_indexes = lambda x, xs: [i for (y, i) in zip(xs, range(len(xs))) if x == y] # a function that give the index of whether a value appear in array or not\n",
    "a=[1,2,2,4,5,6,7,8,9,10]\n",
    "get_indexes(2,a)"
   ]
  },
  {
   "cell_type": "code",
   "execution_count": 8,
   "metadata": {
    "execution": {
     "iopub.execute_input": "2020-07-22T15:28:26.332362Z",
     "iopub.status.busy": "2020-07-22T15:28:26.330208Z",
     "iopub.status.idle": "2020-07-22T15:28:26.335750Z",
     "shell.execute_reply": "2020-07-22T15:28:26.336368Z"
    }
   },
   "outputs": [],
   "source": [
    "def feature_building(protein_a_list_new,protein_b_list_new):\n",
    "    x = np.unique(domain_id_list)\n",
    "    ## To avoid taking repeated domains from one protein of the pairs , lets reduced the domains of each protein from the pairs to their unique members\n",
    "    protein_a_list_unique=[]\n",
    "    protein_b_list_unique=[]\n",
    "    for i in np.arange(0,len(protein_a_list_new)):\n",
    "        protein_a_list_unique.append(np.unique(protein_a_list_new[i]))\n",
    "        protein_b_list_unique.append(np.unique(protein_b_list_new[i]))\n",
    "        \n",
    "    protein_feat_true=np.zeros(shape=(len(x),len(protein_a_list_unique)))\n",
    "    pair_a_b_array=[]\n",
    "    for i in np.arange(0,len(protein_a_list_unique)):\n",
    "        index_a=[]\n",
    "        \n",
    "        pair=[protein_a_list_unique[i],protein_b_list_unique[i]]\n",
    "        pair_a_b=np.concatenate(pair).ravel()\n",
    "        pair_a_b_array.append(pair_a_b)\n",
    "\n",
    "    j=0\n",
    "    for i in pair_a_b_array:  \n",
    "        array,index,counts=np.unique(i,return_index=True,return_counts=True)\n",
    "        \n",
    "        for k,m in zip(counts,array):\n",
    "            if k ==2:\n",
    "                protein_feat_true[get_indexes(m,x),j]=2\n",
    "                \n",
    "            if k==1:\n",
    "                protein_feat_true[get_indexes(m,x),j]=1\n",
    "        j=j+1\n",
    "    return protein_feat_true"
   ]
  },
  {
   "cell_type": "code",
   "execution_count": 9,
   "metadata": {
    "execution": {
     "iopub.execute_input": "2020-07-22T15:28:26.347225Z",
     "iopub.status.busy": "2020-07-22T15:28:26.346166Z",
     "iopub.status.idle": "2020-07-22T15:28:27.138320Z",
     "shell.execute_reply": "2020-07-22T15:28:27.138814Z"
    }
   },
   "outputs": [],
   "source": [
    "protein_feat_true=feature_building(protein_b_list_new=protein_b_list_new,protein_a_list_new=protein_a_list_new)\n",
    "protein_feat_true_pd=pd.DataFrame(protein_feat_true.T)\n",
    "\n",
    "protein_feat_non_true=feature_building(protein_b_list_new=protein_b_list_non_new,protein_a_list_new=protein_a_list_non_new)\n",
    "protein_feat_non_true_pd=pd.DataFrame(protein_feat_non_true.T)"
   ]
  },
  {
   "cell_type": "markdown",
   "metadata": {},
   "source": [
    "### How many ones and twos are in each dataset"
   ]
  },
  {
   "cell_type": "code",
   "execution_count": 10,
   "metadata": {
    "execution": {
     "iopub.execute_input": "2020-07-22T15:28:27.146973Z",
     "iopub.status.busy": "2020-07-22T15:28:27.145947Z",
     "iopub.status.idle": "2020-07-22T15:28:27.247163Z",
     "shell.execute_reply": "2020-07-22T15:28:27.245834Z"
    }
   },
   "outputs": [
    {
     "name": "stdout",
     "output_type": "stream",
     "text": [
      "fraction of twos in the SL array is 2.5429116338207246e-05\n",
      "fraction of ones in the SL array is 0.0009933248569612206\n",
      "fraction of twos in the PI array is 7.85222119707112e-06\n",
      "fraction of ones in the PI array is 0.0009155689915784928\n"
     ]
    }
   ],
   "source": [
    "index_2_true=protein_feat_true_pd.where(protein_feat_true_pd==2)\n",
    "index_2_true_count=index_2_true.count(axis=1).sum()\n",
    "\n",
    "index_1_true=protein_feat_true_pd.where(protein_feat_true_pd==1)\n",
    "index_1_true_count=index_1_true.count(axis=1).sum()\n",
    "\n",
    "index_2_nontrue=protein_feat_non_true_pd.where(protein_feat_non_true_pd==2)\n",
    "index_2_nontrue_count=index_2_nontrue.count(axis=1).sum()\n",
    "\n",
    "index_1_nontrue=protein_feat_non_true_pd.where(protein_feat_non_true_pd==1)\n",
    "index_1_nontrue_count=index_1_nontrue.count(axis=1).sum()\n",
    "\n",
    "\n",
    "print('fraction of twos in the SL array is',index_2_true_count/(len(protein_feat_true_pd.index)*len(protein_feat_true_pd.columns)))\n",
    "print('fraction of ones in the SL array is',index_1_true_count/(len(protein_feat_true_pd.index)*len(protein_feat_true_pd.columns)))\n",
    "print('fraction of twos in the PI array is',index_2_nontrue_count/(len(protein_feat_non_true_pd.index)*len(protein_feat_non_true_pd.columns)))\n",
    "print('fraction of ones in the PI array is',index_1_nontrue_count/(len(protein_feat_non_true_pd.index)*len(protein_feat_non_true_pd.columns)))"
   ]
  },
  {
   "cell_type": "markdown",
   "metadata": {},
   "source": [
    "#### Bar plot to visualize these numbers"
   ]
  },
  {
   "cell_type": "code",
   "execution_count": 11,
   "metadata": {
    "execution": {
     "iopub.execute_input": "2020-07-22T15:28:27.278130Z",
     "iopub.status.busy": "2020-07-22T15:28:27.267843Z",
     "iopub.status.idle": "2020-07-22T15:28:27.798149Z",
     "shell.execute_reply": "2020-07-22T15:28:27.797585Z"
    }
   },
   "outputs": [
    {
     "data": {
      "text/plain": [
       "([0, 1, 2, 3],\n",
       " [Text(0, 0, ''), Text(0, 0, ''), Text(0, 0, ''), Text(0, 0, '')])"
      ]
     },
     "execution_count": 11,
     "metadata": {},
     "output_type": "execute_result"
    },
    {
     "data": {
      "image/png": "[encoded data removed]",
      "text/plain": [
       "<Figure size 432x288 with 1 Axes>"
      ]
     },
     "metadata": {
      "filenames": {
       "image/png": "/home/runner/work/jupyter-book/jupyter-book/mini_book/docs/_build/jupyter_execute/prot_domains2lethality-FEATURES-POSTPROCESSING_18_1.png"
      },
      "needs_background": "light"
     },
     "output_type": "display_data"
    }
   ],
   "source": [
    "plt.bar(['fraction of 2 in the nSL','fraction of 1 in the nSL'],[index_2_nontrue_count/(len(protein_feat_non_true_pd.index)*len(protein_feat_non_true_pd.columns)),index_1_nontrue_count/(len(protein_feat_non_true_pd.index)*len(protein_feat_non_true_pd.columns))],alpha=0.6,color=['blue','lightblue']), \n",
    "\n",
    "plt.bar(['fraction of 2 in SL ','fraction of 1 in SL'],[index_2_true_count/(len(protein_feat_true_pd.index)*len(protein_feat_true_pd.columns)),index_1_true_count/(len(protein_feat_true_pd.index)*len(protein_feat_true_pd.columns))],alpha=0.6,color=['coral','lightcoral'])\n",
    "\n",
    "plt.ylabel('Fraction from the population')\n",
    "plt.yscale('log')\n",
    "plt.xticks(rotation=40)"
   ]
  },
  {
   "cell_type": "markdown",
   "metadata": {},
   "source": [
    "#### Adding the labels(response variables) to each dataset"
   ]
  },
  {
   "cell_type": "code",
   "execution_count": 12,
   "metadata": {
    "execution": {
     "iopub.execute_input": "2020-07-22T15:28:27.804409Z",
     "iopub.status.busy": "2020-07-22T15:28:27.803326Z",
     "iopub.status.idle": "2020-07-22T15:28:27.807291Z",
     "shell.execute_reply": "2020-07-22T15:28:27.807781Z"
    }
   },
   "outputs": [],
   "source": [
    "protein_feat_true_pd['lethality']=np.ones(shape=(len(protein_a_list_new)))\n",
    "protein_feat_non_true_pd['lethality']=np.zeros(shape=(len(protein_a_list_non_new)))"
   ]
  },
  {
   "cell_type": "markdown",
   "metadata": {},
   "source": [
    "#### Joining both datasets"
   ]
  },
  {
   "cell_type": "code",
   "execution_count": 13,
   "metadata": {
    "execution": {
     "iopub.execute_input": "2020-07-22T15:28:27.813428Z",
     "iopub.status.busy": "2020-07-22T15:28:27.812522Z",
     "iopub.status.idle": "2020-07-22T15:28:27.851874Z",
     "shell.execute_reply": "2020-07-22T15:28:27.852372Z"
    }
   },
   "outputs": [
    {
     "name": "stdout",
     "output_type": "stream",
     "text": [
      "The number of features are: 3026\n",
      "The number of samples are: 837\n"
     ]
    }
   ],
   "source": [
    "feature_post=pd.concat([protein_feat_true_pd,protein_feat_non_true_pd],axis=0)\n",
    "feature_post=feature_post.set_index(np.arange(0,len(protein_a_list_new)+len(protein_a_list_non_new)))\n",
    "print('The number of features are:',feature_post.shape[1])\n",
    "print('The number of samples are:',feature_post.shape[0])"
   ]
  },
  {
   "cell_type": "markdown",
   "metadata": {},
   "source": [
    "### Postprocessing and exploration of the feature matrix of both datasets"
   ]
  },
  {
   "cell_type": "code",
   "execution_count": 14,
   "metadata": {
    "execution": {
     "iopub.execute_input": "2020-07-22T15:28:27.872200Z",
     "iopub.status.busy": "2020-07-22T15:28:27.870542Z",
     "iopub.status.idle": "2020-07-22T15:28:33.108570Z",
     "shell.execute_reply": "2020-07-22T15:28:33.107602Z"
    }
   },
   "outputs": [],
   "source": [
    "mean=feature_post.T.describe().loc['mean']\n",
    "std=feature_post.T.describe().loc['std']\n",
    "lethality=feature_post['lethality']\n",
    "\n",
    "corr_keys=pd.concat([mean,std,lethality],axis=1)"
   ]
  },
  {
   "cell_type": "markdown",
   "metadata": {},
   "source": [
    "### Viz of the stats"
   ]
  },
  {
   "cell_type": "code",
   "execution_count": 15,
   "metadata": {
    "execution": {
     "iopub.execute_input": "2020-07-22T15:28:33.199380Z",
     "iopub.status.busy": "2020-07-22T15:28:33.175557Z",
     "iopub.status.idle": "2020-07-22T15:28:34.959060Z",
     "shell.execute_reply": "2020-07-22T15:28:34.958480Z"
    }
   },
   "outputs": [
    {
     "data": {
      "text/plain": [
       "Text(0.5, 1.08, 'Pairplot to see data dependencies with Lethality')"
      ]
     },
     "execution_count": 15,
     "metadata": {},
     "output_type": "execute_result"
    },
    {
     "data": {
      "image/png": "[encoded data removed]",
      "text/plain": [
       "<Figure size 412x360 with 6 Axes>"
      ]
     },
     "metadata": {
      "filenames": {
       "image/png": "/home/runner/work/jupyter-book/jupyter-book/mini_book/docs/_build/jupyter_execute/prot_domains2lethality-FEATURES-POSTPROCESSING_26_1.png"
      },
      "needs_background": "light"
     },
     "output_type": "display_data"
    }
   ],
   "source": [
    "pair=sns.pairplot(corr_keys,hue='lethality',diag_kind='kde',kind='reg',palette='colorblind')\n",
    "pair.fig.suptitle('Pairplot to see data dependencies with Lethality',y=1.08)"
   ]
  },
  {
   "cell_type": "code",
   "execution_count": 16,
   "metadata": {
    "execution": {
     "iopub.execute_input": "2020-07-22T15:28:34.971590Z",
     "iopub.status.busy": "2020-07-22T15:28:34.970107Z",
     "iopub.status.idle": "2020-07-22T15:28:34.974648Z",
     "shell.execute_reply": "2020-07-22T15:28:34.975175Z"
    }
   },
   "outputs": [],
   "source": [
    "X, y = feature_post.drop(columns=[\"lethality\"]), feature_post[\"lethality\"]"
   ]
  },
  {
   "cell_type": "code",
   "execution_count": 17,
   "metadata": {
    "execution": {
     "iopub.execute_input": "2020-07-22T15:28:34.981225Z",
     "iopub.status.busy": "2020-07-22T15:28:34.980263Z",
     "iopub.status.idle": "2020-07-22T15:28:35.149392Z",
     "shell.execute_reply": "2020-07-22T15:28:35.148386Z"
    }
   },
   "outputs": [],
   "source": [
    "from sklearn.preprocessing import StandardScaler\n",
    "scaler = StandardScaler()\n",
    "x_sl=protein_feat_true_pd.drop(columns=['lethality'])\n",
    "x_nsl=protein_feat_non_true_pd.drop(columns=['lethality'])\n",
    "\n",
    "X_sl_scaled = scaler.fit_transform(x_sl)\n",
    "X_nsl_scaled = scaler.fit_transform(x_nsl)"
   ]
  },
  {
   "cell_type": "code",
   "execution_count": 18,
   "metadata": {
    "execution": {
     "iopub.execute_input": "2020-07-22T15:28:35.154001Z",
     "iopub.status.busy": "2020-07-22T15:28:35.153398Z",
     "iopub.status.idle": "2020-07-22T15:28:35.159494Z",
     "shell.execute_reply": "2020-07-22T15:28:35.159006Z"
    }
   },
   "outputs": [
    {
     "data": {
      "text/plain": [
       "(416, 3025)"
      ]
     },
     "execution_count": 18,
     "metadata": {},
     "output_type": "execute_result"
    }
   ],
   "source": [
    "np.shape(X_sl_scaled)"
   ]
  },
  {
   "cell_type": "markdown",
   "metadata": {},
   "source": [
    "## How redundant are each of the protein domains?"
   ]
  },
  {
   "cell_type": "code",
   "execution_count": 19,
   "metadata": {
    "execution": {
     "iopub.execute_input": "2020-07-22T15:28:35.167324Z",
     "iopub.status.busy": "2020-07-22T15:28:35.166648Z",
     "iopub.status.idle": "2020-07-22T15:28:35.170680Z",
     "shell.execute_reply": "2020-07-22T15:28:35.170189Z"
    }
   },
   "outputs": [],
   "source": [
    "def PCA_component_contribution(scaled_matrix,original_data):\n",
    "    from sklearn.decomposition import PCA\n",
    "\n",
    "    model = PCA(0.95).fit(scaled_matrix)\n",
    "    ## apply dimensionality reduction to X_train\n",
    "    output_pca = model.transform(scaled_matrix)\n",
    "    \n",
    "    total=sum(model.explained_variance_)\n",
    "\n",
    "\n",
    "   \n",
    "    # number of components , that it will be the number of main axes times the number of original components \n",
    "    n_pcs= model.components_.shape[0] # the amount of non redundant protein domains \n",
    "\n",
    "    # get the index of the most important feature on EACH component\n",
    "    # LIST COMPREHENSION HERE\n",
    "    most_important = [np.abs(model.components_[i]).argmax() for i in range(n_pcs)]\n",
    "\n",
    "    initial_feature_names = original_data.columns\n",
    "    # get the names\n",
    "    most_important_names = [initial_feature_names[most_important[i]] for i in range(n_pcs)]\n",
    "    \n",
    "\n",
    "    # LIST COMPREHENSION HERE AGAIN\n",
    "    dic = {'PC{}'.format(i): most_important_names[i] for i in range(n_pcs)}\n",
    "\n",
    "    # build the dataframe\n",
    "    df = pd.DataFrame(dic.items(),columns=['pca-component','domain-number'])\n",
    "\n",
    "    return df,model.components_"
   ]
  },
  {
   "cell_type": "code",
   "execution_count": 20,
   "metadata": {
    "execution": {
     "iopub.execute_input": "2020-07-22T15:28:35.174787Z",
     "iopub.status.busy": "2020-07-22T15:28:35.174157Z",
     "iopub.status.idle": "2020-07-22T15:28:35.928896Z",
     "shell.execute_reply": "2020-07-22T15:28:35.929735Z"
    }
   },
   "outputs": [],
   "source": [
    "df_sl,components_pca_nsl=PCA_component_contribution(X_nsl_scaled,x_nsl)\n",
    "df_nsl,components_pca_sl=PCA_component_contribution(X_sl_scaled,x_sl)"
   ]
  },
  {
   "cell_type": "code",
   "execution_count": 21,
   "metadata": {
    "execution": {
     "iopub.execute_input": "2020-07-22T15:28:35.933126Z",
     "iopub.status.busy": "2020-07-22T15:28:35.931977Z",
     "iopub.status.idle": "2020-07-22T15:28:35.943270Z",
     "shell.execute_reply": "2020-07-22T15:28:35.944087Z"
    }
   },
   "outputs": [
    {
     "data": {
      "text/html": [
       "<div>\n",
       "<style scoped>\n",
       "    .dataframe tbody tr th:only-of-type {\n",
       "        vertical-align: middle;\n",
       "    }\n",
       "\n",
       "    .dataframe tbody tr th {\n",
       "        vertical-align: top;\n",
       "    }\n",
       "\n",
       "    .dataframe thead th {\n",
       "        text-align: right;\n",
       "    }\n",
       "</style>\n",
       "<table border=\"1\" class=\"dataframe\">\n",
       "  <thead>\n",
       "    <tr style=\"text-align: right;\">\n",
       "      <th></th>\n",
       "      <th>pca-component</th>\n",
       "      <th>domain-number</th>\n",
       "    </tr>\n",
       "  </thead>\n",
       "  <tbody>\n",
       "    <tr>\n",
       "      <th>0</th>\n",
       "      <td>PC0</td>\n",
       "      <td>958</td>\n",
       "    </tr>\n",
       "    <tr>\n",
       "      <th>1</th>\n",
       "      <td>PC1</td>\n",
       "      <td>89</td>\n",
       "    </tr>\n",
       "    <tr>\n",
       "      <th>2</th>\n",
       "      <td>PC2</td>\n",
       "      <td>540</td>\n",
       "    </tr>\n",
       "    <tr>\n",
       "      <th>3</th>\n",
       "      <td>PC3</td>\n",
       "      <td>285</td>\n",
       "    </tr>\n",
       "    <tr>\n",
       "      <th>4</th>\n",
       "      <td>PC4</td>\n",
       "      <td>2</td>\n",
       "    </tr>\n",
       "  </tbody>\n",
       "</table>\n",
       "</div>"
      ],
      "text/plain": [
       "  pca-component  domain-number\n",
       "0           PC0            958\n",
       "1           PC1             89\n",
       "2           PC2            540\n",
       "3           PC3            285\n",
       "4           PC4              2"
      ]
     },
     "execution_count": 21,
     "metadata": {},
     "output_type": "execute_result"
    }
   ],
   "source": [
    "df_sl.head()"
   ]
  },
  {
   "cell_type": "markdown",
   "metadata": {},
   "source": [
    "## which are the shared domains between nSL and SL pairs , in the PCA reduced samples"
   ]
  },
  {
   "cell_type": "code",
   "execution_count": 22,
   "metadata": {
    "execution": {
     "iopub.execute_input": "2020-07-22T15:28:35.947385Z",
     "iopub.status.busy": "2020-07-22T15:28:35.946273Z",
     "iopub.status.idle": "2020-07-22T15:28:35.983052Z",
     "shell.execute_reply": "2020-07-22T15:28:35.983516Z"
    }
   },
   "outputs": [
    {
     "data": {
      "text/html": [
       "<div>\n",
       "<style scoped>\n",
       "    .dataframe tbody tr th:only-of-type {\n",
       "        vertical-align: middle;\n",
       "    }\n",
       "\n",
       "    .dataframe tbody tr th {\n",
       "        vertical-align: top;\n",
       "    }\n",
       "\n",
       "    .dataframe thead th {\n",
       "        text-align: right;\n",
       "    }\n",
       "</style>\n",
       "<table border=\"1\" class=\"dataframe\">\n",
       "  <thead>\n",
       "    <tr style=\"text-align: right;\">\n",
       "      <th></th>\n",
       "      <th>pca-component_x</th>\n",
       "      <th>domain-number</th>\n",
       "      <th>pca-component_y</th>\n",
       "      <th>domain-description</th>\n",
       "    </tr>\n",
       "  </thead>\n",
       "  <tbody>\n",
       "    <tr>\n",
       "      <th>0</th>\n",
       "      <td>PC5</td>\n",
       "      <td>221</td>\n",
       "      <td>PC36</td>\n",
       "      <td>Apq12; Nuclear pore assembly and biogenesis pr...</td>\n",
       "    </tr>\n",
       "    <tr>\n",
       "      <th>1</th>\n",
       "      <td>PC8</td>\n",
       "      <td>55</td>\n",
       "      <td>PC146</td>\n",
       "      <td>ADK</td>\n",
       "    </tr>\n",
       "    <tr>\n",
       "      <th>2</th>\n",
       "      <td>PC8</td>\n",
       "      <td>55</td>\n",
       "      <td>PC147</td>\n",
       "      <td>ADK</td>\n",
       "    </tr>\n",
       "    <tr>\n",
       "      <th>3</th>\n",
       "      <td>PC10</td>\n",
       "      <td>369</td>\n",
       "      <td>PC31</td>\n",
       "      <td>CNH; Citron homology (CNH) domain</td>\n",
       "    </tr>\n",
       "    <tr>\n",
       "      <th>4</th>\n",
       "      <td>PC15</td>\n",
       "      <td>3</td>\n",
       "      <td>PC20</td>\n",
       "      <td>2-Hacid_dh_C; D-isomer specific 2-hydroxyacid ...</td>\n",
       "    </tr>\n",
       "    <tr>\n",
       "      <th>5</th>\n",
       "      <td>PC16</td>\n",
       "      <td>926</td>\n",
       "      <td>PC19</td>\n",
       "      <td>Flp_C; Recombinase Flp protein</td>\n",
       "    </tr>\n",
       "    <tr>\n",
       "      <th>6</th>\n",
       "      <td>PC18</td>\n",
       "      <td>190</td>\n",
       "      <td>PC16</td>\n",
       "      <td>Alg6_Alg8; Glycosyl transferase, ALG6/ALG8</td>\n",
       "    </tr>\n",
       "    <tr>\n",
       "      <th>7</th>\n",
       "      <td>PC33</td>\n",
       "      <td>309</td>\n",
       "      <td>PC52</td>\n",
       "      <td>Bystin</td>\n",
       "    </tr>\n",
       "    <tr>\n",
       "      <th>8</th>\n",
       "      <td>PC34</td>\n",
       "      <td>1720</td>\n",
       "      <td>PC83</td>\n",
       "      <td>PDT; Prephenate dehydratase</td>\n",
       "    </tr>\n",
       "    <tr>\n",
       "      <th>9</th>\n",
       "      <td>PC37</td>\n",
       "      <td>875</td>\n",
       "      <td>PC18</td>\n",
       "      <td>FDF; FDF domain</td>\n",
       "    </tr>\n",
       "    <tr>\n",
       "      <th>10</th>\n",
       "      <td>PC57</td>\n",
       "      <td>625</td>\n",
       "      <td>PC53</td>\n",
       "      <td>DRE2_N; Fe-S cluster assembly protein Dre2, N-...</td>\n",
       "    </tr>\n",
       "    <tr>\n",
       "      <th>11</th>\n",
       "      <td>PC76</td>\n",
       "      <td>6</td>\n",
       "      <td>PC186</td>\n",
       "      <td>2OG-FeII_Oxy_4</td>\n",
       "    </tr>\n",
       "    <tr>\n",
       "      <th>12</th>\n",
       "      <td>PC77</td>\n",
       "      <td>6</td>\n",
       "      <td>PC186</td>\n",
       "      <td>2OG-FeII_Oxy_4</td>\n",
       "    </tr>\n",
       "    <tr>\n",
       "      <th>13</th>\n",
       "      <td>PC79</td>\n",
       "      <td>37</td>\n",
       "      <td>PC55</td>\n",
       "      <td>ABC1; UbiB domain</td>\n",
       "    </tr>\n",
       "    <tr>\n",
       "      <th>14</th>\n",
       "      <td>PC80</td>\n",
       "      <td>37</td>\n",
       "      <td>PC55</td>\n",
       "      <td>ABC1; UbiB domain</td>\n",
       "    </tr>\n",
       "    <tr>\n",
       "      <th>15</th>\n",
       "      <td>PC86</td>\n",
       "      <td>1585</td>\n",
       "      <td>PC65</td>\n",
       "      <td>NPR3; Nitrogen permease regulator 3</td>\n",
       "    </tr>\n",
       "    <tr>\n",
       "      <th>16</th>\n",
       "      <td>PC99</td>\n",
       "      <td>68</td>\n",
       "      <td>PC64</td>\n",
       "      <td>AIRC; PurE domain</td>\n",
       "    </tr>\n",
       "    <tr>\n",
       "      <th>17</th>\n",
       "      <td>PC100</td>\n",
       "      <td>2160</td>\n",
       "      <td>PC72</td>\n",
       "      <td>Ribosomal_L14e; Ribosomal protein L14e domain</td>\n",
       "    </tr>\n",
       "    <tr>\n",
       "      <th>18</th>\n",
       "      <td>PC100</td>\n",
       "      <td>2160</td>\n",
       "      <td>PC157</td>\n",
       "      <td>Ribosomal_L14e; Ribosomal protein L14e domain</td>\n",
       "    </tr>\n",
       "    <tr>\n",
       "      <th>19</th>\n",
       "      <td>PC101</td>\n",
       "      <td>381</td>\n",
       "      <td>PC187</td>\n",
       "      <td>COP-gamma_platf; Coatomer, gamma subunit, appe...</td>\n",
       "    </tr>\n",
       "    <tr>\n",
       "      <th>20</th>\n",
       "      <td>PC112</td>\n",
       "      <td>1072</td>\n",
       "      <td>PC69</td>\n",
       "      <td>Glycos_transf_1; Glycosyl transferase, family 1</td>\n",
       "    </tr>\n",
       "    <tr>\n",
       "      <th>21</th>\n",
       "      <td>PC116</td>\n",
       "      <td>409</td>\n",
       "      <td>PC220</td>\n",
       "      <td>CPSase_sm_chain; Carbamoyl-phosphate synthase,...</td>\n",
       "    </tr>\n",
       "    <tr>\n",
       "      <th>22</th>\n",
       "      <td>PC117</td>\n",
       "      <td>409</td>\n",
       "      <td>PC220</td>\n",
       "      <td>CPSase_sm_chain; Carbamoyl-phosphate synthase,...</td>\n",
       "    </tr>\n",
       "    <tr>\n",
       "      <th>23</th>\n",
       "      <td>PC125</td>\n",
       "      <td>1086</td>\n",
       "      <td>PC112</td>\n",
       "      <td>Gti1_Pac2; Gti1/Pac2 family</td>\n",
       "    </tr>\n",
       "    <tr>\n",
       "      <th>24</th>\n",
       "      <td>PC141</td>\n",
       "      <td>1086</td>\n",
       "      <td>PC112</td>\n",
       "      <td>Gti1_Pac2; Gti1/Pac2 family</td>\n",
       "    </tr>\n",
       "    <tr>\n",
       "      <th>25</th>\n",
       "      <td>PC146</td>\n",
       "      <td>1857</td>\n",
       "      <td>PC101</td>\n",
       "      <td>Patatin; Patatin-like phospholipase domain</td>\n",
       "    </tr>\n",
       "    <tr>\n",
       "      <th>26</th>\n",
       "      <td>PC147</td>\n",
       "      <td>299</td>\n",
       "      <td>PC267</td>\n",
       "      <td>Bmt2; 25S rRNA (adenine(2142)-N(1))-methyltran...</td>\n",
       "    </tr>\n",
       "    <tr>\n",
       "      <th>27</th>\n",
       "      <td>PC164</td>\n",
       "      <td>1701</td>\n",
       "      <td>PC135</td>\n",
       "      <td>PAP_central; Poly(A) polymerase, central domain</td>\n",
       "    </tr>\n",
       "    <tr>\n",
       "      <th>28</th>\n",
       "      <td>PC168</td>\n",
       "      <td>380</td>\n",
       "      <td>PC75</td>\n",
       "      <td>COMPASS-Shg1</td>\n",
       "    </tr>\n",
       "    <tr>\n",
       "      <th>29</th>\n",
       "      <td>PC169</td>\n",
       "      <td>1688</td>\n",
       "      <td>PC153</td>\n",
       "      <td>PA14; PA14 domain</td>\n",
       "    </tr>\n",
       "    <tr>\n",
       "      <th>30</th>\n",
       "      <td>PC170</td>\n",
       "      <td>1325</td>\n",
       "      <td>PC130</td>\n",
       "      <td>Lgl_C; Lethal giant larvae (Lgl)-like, C-termi...</td>\n",
       "    </tr>\n",
       "    <tr>\n",
       "      <th>31</th>\n",
       "      <td>PC172</td>\n",
       "      <td>2125</td>\n",
       "      <td>PC62</td>\n",
       "      <td>Rer1; Retrieval of early ER protein Rer1</td>\n",
       "    </tr>\n",
       "    <tr>\n",
       "      <th>32</th>\n",
       "      <td>PC172</td>\n",
       "      <td>2125</td>\n",
       "      <td>PC63</td>\n",
       "      <td>Rer1; Retrieval of early ER protein Rer1</td>\n",
       "    </tr>\n",
       "    <tr>\n",
       "      <th>33</th>\n",
       "      <td>PC186</td>\n",
       "      <td>769</td>\n",
       "      <td>PC125</td>\n",
       "      <td>Dynamin_M; Dynamin central domain</td>\n",
       "    </tr>\n",
       "    <tr>\n",
       "      <th>34</th>\n",
       "      <td>PC230</td>\n",
       "      <td>769</td>\n",
       "      <td>PC125</td>\n",
       "      <td>Dynamin_M; Dynamin central domain</td>\n",
       "    </tr>\n",
       "    <tr>\n",
       "      <th>35</th>\n",
       "      <td>PC199</td>\n",
       "      <td>523</td>\n",
       "      <td>PC142</td>\n",
       "      <td>Cullin_Nedd8; Cullin protein, neddylation domain</td>\n",
       "    </tr>\n",
       "    <tr>\n",
       "      <th>36</th>\n",
       "      <td>PC204</td>\n",
       "      <td>11</td>\n",
       "      <td>PC268</td>\n",
       "      <td>5-FTHF_cyc-lig; 5-formyltetrahydrofolate cyclo...</td>\n",
       "    </tr>\n",
       "    <tr>\n",
       "      <th>37</th>\n",
       "      <td>PC214</td>\n",
       "      <td>1410</td>\n",
       "      <td>PC185</td>\n",
       "      <td>MTHFR; Methylenetetrahydrofolate reductase</td>\n",
       "    </tr>\n",
       "    <tr>\n",
       "      <th>38</th>\n",
       "      <td>PC218</td>\n",
       "      <td>1410</td>\n",
       "      <td>PC185</td>\n",
       "      <td>MTHFR; Methylenetetrahydrofolate reductase</td>\n",
       "    </tr>\n",
       "    <tr>\n",
       "      <th>39</th>\n",
       "      <td>PC220</td>\n",
       "      <td>2911</td>\n",
       "      <td>PC189</td>\n",
       "      <td>eIF_4G1; Eukaryotic translation initiation fac...</td>\n",
       "    </tr>\n",
       "    <tr>\n",
       "      <th>40</th>\n",
       "      <td>PC225</td>\n",
       "      <td>595</td>\n",
       "      <td>PC261</td>\n",
       "      <td>DJ-1_PfpI; DJ-1/PfpI</td>\n",
       "    </tr>\n",
       "    <tr>\n",
       "      <th>41</th>\n",
       "      <td>PC225</td>\n",
       "      <td>595</td>\n",
       "      <td>PC266</td>\n",
       "      <td>DJ-1_PfpI; DJ-1/PfpI</td>\n",
       "    </tr>\n",
       "    <tr>\n",
       "      <th>42</th>\n",
       "      <td>PC226</td>\n",
       "      <td>248</td>\n",
       "      <td>PC229</td>\n",
       "      <td>Avl9; AVL9/DENND6 domain</td>\n",
       "    </tr>\n",
       "    <tr>\n",
       "      <th>43</th>\n",
       "      <td>PC229</td>\n",
       "      <td>123</td>\n",
       "      <td>PC254</td>\n",
       "      <td>ATP-synt_A; ATP synthase, F0 complex, subunit A</td>\n",
       "    </tr>\n",
       "    <tr>\n",
       "      <th>44</th>\n",
       "      <td>PC233</td>\n",
       "      <td>1969</td>\n",
       "      <td>PC120</td>\n",
       "      <td>RAI1; RAI1-like</td>\n",
       "    </tr>\n",
       "    <tr>\n",
       "      <th>45</th>\n",
       "      <td>PC236</td>\n",
       "      <td>1969</td>\n",
       "      <td>PC120</td>\n",
       "      <td>RAI1; RAI1-like</td>\n",
       "    </tr>\n",
       "    <tr>\n",
       "      <th>46</th>\n",
       "      <td>PC238</td>\n",
       "      <td>443</td>\n",
       "      <td>PC102</td>\n",
       "      <td>Carbpep_Y_N; Propeptide, carboxypeptidase Y</td>\n",
       "    </tr>\n",
       "    <tr>\n",
       "      <th>47</th>\n",
       "      <td>PC247</td>\n",
       "      <td>1389</td>\n",
       "      <td>PC176</td>\n",
       "      <td>MOR2-PAG1_mid; Cell morphogenesis central region</td>\n",
       "    </tr>\n",
       "    <tr>\n",
       "      <th>48</th>\n",
       "      <td>PC267</td>\n",
       "      <td>1389</td>\n",
       "      <td>PC176</td>\n",
       "      <td>MOR2-PAG1_mid; Cell morphogenesis central region</td>\n",
       "    </tr>\n",
       "    <tr>\n",
       "      <th>49</th>\n",
       "      <td>PC253</td>\n",
       "      <td>2434</td>\n",
       "      <td>PC265</td>\n",
       "      <td>Sec16; Sec16, central conserved domain</td>\n",
       "    </tr>\n",
       "    <tr>\n",
       "      <th>50</th>\n",
       "      <td>PC263</td>\n",
       "      <td>980</td>\n",
       "      <td>PC149</td>\n",
       "      <td>GFD1</td>\n",
       "    </tr>\n",
       "    <tr>\n",
       "      <th>51</th>\n",
       "      <td>PC263</td>\n",
       "      <td>980</td>\n",
       "      <td>PC150</td>\n",
       "      <td>GFD1</td>\n",
       "    </tr>\n",
       "    <tr>\n",
       "      <th>52</th>\n",
       "      <td>PC263</td>\n",
       "      <td>980</td>\n",
       "      <td>PC152</td>\n",
       "      <td>GFD1</td>\n",
       "    </tr>\n",
       "    <tr>\n",
       "      <th>53</th>\n",
       "      <td>PC282</td>\n",
       "      <td>1303</td>\n",
       "      <td>PC145</td>\n",
       "      <td>LRR_8; Leucine-rich repeat</td>\n",
       "    </tr>\n",
       "    <tr>\n",
       "      <th>54</th>\n",
       "      <td>PC282</td>\n",
       "      <td>1303</td>\n",
       "      <td>PC256</td>\n",
       "      <td>LRR_8; Leucine-rich repeat</td>\n",
       "    </tr>\n",
       "    <tr>\n",
       "      <th>55</th>\n",
       "      <td>PC285</td>\n",
       "      <td>275</td>\n",
       "      <td>PC84</td>\n",
       "      <td>BP28CT; BP28, C-terminal domain</td>\n",
       "    </tr>\n",
       "  </tbody>\n",
       "</table>\n",
       "</div>"
      ],
      "text/plain": [
       "   pca-component_x  domain-number pca-component_y  \\\n",
       "0              PC5            221            PC36   \n",
       "1              PC8             55           PC146   \n",
       "2              PC8             55           PC147   \n",
       "3             PC10            369            PC31   \n",
       "4             PC15              3            PC20   \n",
       "5             PC16            926            PC19   \n",
       "6             PC18            190            PC16   \n",
       "7             PC33            309            PC52   \n",
       "8             PC34           1720            PC83   \n",
       "9             PC37            875            PC18   \n",
       "10            PC57            625            PC53   \n",
       "11            PC76              6           PC186   \n",
       "12            PC77              6           PC186   \n",
       "13            PC79             37            PC55   \n",
       "14            PC80             37            PC55   \n",
       "15            PC86           1585            PC65   \n",
       "16            PC99             68            PC64   \n",
       "17           PC100           2160            PC72   \n",
       "18           PC100           2160           PC157   \n",
       "19           PC101            381           PC187   \n",
       "20           PC112           1072            PC69   \n",
       "21           PC116            409           PC220   \n",
       "22           PC117            409           PC220   \n",
       "23           PC125           1086           PC112   \n",
       "24           PC141           1086           PC112   \n",
       "25           PC146           1857           PC101   \n",
       "26           PC147            299           PC267   \n",
       "27           PC164           1701           PC135   \n",
       "28           PC168            380            PC75   \n",
       "29           PC169           1688           PC153   \n",
       "30           PC170           1325           PC130   \n",
       "31           PC172           2125            PC62   \n",
       "32           PC172           2125            PC63   \n",
       "33           PC186            769           PC125   \n",
       "34           PC230            769           PC125   \n",
       "35           PC199            523           PC142   \n",
       "36           PC204             11           PC268   \n",
       "37           PC214           1410           PC185   \n",
       "38           PC218           1410           PC185   \n",
       "39           PC220           2911           PC189   \n",
       "40           PC225            595           PC261   \n",
       "41           PC225            595           PC266   \n",
       "42           PC226            248           PC229   \n",
       "43           PC229            123           PC254   \n",
       "44           PC233           1969           PC120   \n",
       "45           PC236           1969           PC120   \n",
       "46           PC238            443           PC102   \n",
       "47           PC247           1389           PC176   \n",
       "48           PC267           1389           PC176   \n",
       "49           PC253           2434           PC265   \n",
       "50           PC263            980           PC149   \n",
       "51           PC263            980           PC150   \n",
       "52           PC263            980           PC152   \n",
       "53           PC282           1303           PC145   \n",
       "54           PC282           1303           PC256   \n",
       "55           PC285            275            PC84   \n",
       "\n",
       "                                   domain-description  \n",
       "0   Apq12; Nuclear pore assembly and biogenesis pr...  \n",
       "1                                                 ADK  \n",
       "2                                                 ADK  \n",
       "3                   CNH; Citron homology (CNH) domain  \n",
       "4   2-Hacid_dh_C; D-isomer specific 2-hydroxyacid ...  \n",
       "5                      Flp_C; Recombinase Flp protein  \n",
       "6          Alg6_Alg8; Glycosyl transferase, ALG6/ALG8  \n",
       "7                                              Bystin  \n",
       "8                         PDT; Prephenate dehydratase  \n",
       "9                                     FDF; FDF domain  \n",
       "10  DRE2_N; Fe-S cluster assembly protein Dre2, N-...  \n",
       "11                                     2OG-FeII_Oxy_4  \n",
       "12                                     2OG-FeII_Oxy_4  \n",
       "13                                  ABC1; UbiB domain  \n",
       "14                                  ABC1; UbiB domain  \n",
       "15                NPR3; Nitrogen permease regulator 3  \n",
       "16                                  AIRC; PurE domain  \n",
       "17      Ribosomal_L14e; Ribosomal protein L14e domain  \n",
       "18      Ribosomal_L14e; Ribosomal protein L14e domain  \n",
       "19  COP-gamma_platf; Coatomer, gamma subunit, appe...  \n",
       "20    Glycos_transf_1; Glycosyl transferase, family 1  \n",
       "21  CPSase_sm_chain; Carbamoyl-phosphate synthase,...  \n",
       "22  CPSase_sm_chain; Carbamoyl-phosphate synthase,...  \n",
       "23                        Gti1_Pac2; Gti1/Pac2 family  \n",
       "24                        Gti1_Pac2; Gti1/Pac2 family  \n",
       "25         Patatin; Patatin-like phospholipase domain  \n",
       "26  Bmt2; 25S rRNA (adenine(2142)-N(1))-methyltran...  \n",
       "27    PAP_central; Poly(A) polymerase, central domain  \n",
       "28                                       COMPASS-Shg1  \n",
       "29                                  PA14; PA14 domain  \n",
       "30  Lgl_C; Lethal giant larvae (Lgl)-like, C-termi...  \n",
       "31           Rer1; Retrieval of early ER protein Rer1  \n",
       "32           Rer1; Retrieval of early ER protein Rer1  \n",
       "33                  Dynamin_M; Dynamin central domain  \n",
       "34                  Dynamin_M; Dynamin central domain  \n",
       "35   Cullin_Nedd8; Cullin protein, neddylation domain  \n",
       "36  5-FTHF_cyc-lig; 5-formyltetrahydrofolate cyclo...  \n",
       "37         MTHFR; Methylenetetrahydrofolate reductase  \n",
       "38         MTHFR; Methylenetetrahydrofolate reductase  \n",
       "39  eIF_4G1; Eukaryotic translation initiation fac...  \n",
       "40                               DJ-1_PfpI; DJ-1/PfpI  \n",
       "41                               DJ-1_PfpI; DJ-1/PfpI  \n",
       "42                           Avl9; AVL9/DENND6 domain  \n",
       "43    ATP-synt_A; ATP synthase, F0 complex, subunit A  \n",
       "44                                    RAI1; RAI1-like  \n",
       "45                                    RAI1; RAI1-like  \n",
       "46        Carbpep_Y_N; Propeptide, carboxypeptidase Y  \n",
       "47   MOR2-PAG1_mid; Cell morphogenesis central region  \n",
       "48   MOR2-PAG1_mid; Cell morphogenesis central region  \n",
       "49             Sec16; Sec16, central conserved domain  \n",
       "50                                               GFD1  \n",
       "51                                               GFD1  \n",
       "52                                               GFD1  \n",
       "53                         LRR_8; Leucine-rich repeat  \n",
       "54                         LRR_8; Leucine-rich repeat  \n",
       "55                    BP28CT; BP28, C-terminal domain  "
      ]
     },
     "execution_count": 22,
     "metadata": {},
     "output_type": "execute_result"
    }
   ],
   "source": [
    "df_shared_domains=pd.merge(df_sl,df_nsl,how='inner',on='domain-number')\n",
    "domains_name=np.unique(data_domains['domain-name'])\n",
    "domains_description=np.unique(data_domains['domain-descrip'])\n",
    "\n",
    "df_shared_domains['domain-description']=domains_description[df_shared_domains['domain-number']]\n",
    "\n",
    "\n",
    "df_shared_domains"
   ]
  },
  {
   "cell_type": "code",
   "execution_count": 23,
   "metadata": {
    "execution": {
     "iopub.execute_input": "2020-07-22T15:28:35.986868Z",
     "iopub.status.busy": "2020-07-22T15:28:35.985669Z",
     "iopub.status.idle": "2020-07-22T15:28:35.993581Z",
     "shell.execute_reply": "2020-07-22T15:28:35.994625Z"
    }
   },
   "outputs": [
    {
     "name": "stdout",
     "output_type": "stream",
     "text": [
      "The number of shared domains between SL and nSL pairs,after PCA, is =  56 out of 556 so the 10.071942446043165 %\n"
     ]
    }
   ],
   "source": [
    "print('The number of shared domains between SL and nSL pairs,after PCA, is = ',len(df_shared_domains), 'out of', len(df_sl)+len(df_nsl), 'so the',100*len(df_shared_domains)/(len(df_sl)+len(df_nsl)),'%')"
   ]
  },
  {
   "cell_type": "markdown",
   "metadata": {},
   "source": [
    "## Domains exclusive to SL"
   ]
  },
  {
   "cell_type": "code",
   "execution_count": 24,
   "metadata": {
    "execution": {
     "iopub.execute_input": "2020-07-22T15:28:35.997821Z",
     "iopub.status.busy": "2020-07-22T15:28:35.996615Z",
     "iopub.status.idle": "2020-07-22T15:28:36.030445Z",
     "shell.execute_reply": "2020-07-22T15:28:36.031299Z"
    }
   },
   "outputs": [
    {
     "data": {
      "text/html": [
       "<div>\n",
       "<style scoped>\n",
       "    .dataframe tbody tr th:only-of-type {\n",
       "        vertical-align: middle;\n",
       "    }\n",
       "\n",
       "    .dataframe tbody tr th {\n",
       "        vertical-align: top;\n",
       "    }\n",
       "\n",
       "    .dataframe thead th {\n",
       "        text-align: right;\n",
       "    }\n",
       "</style>\n",
       "<table border=\"1\" class=\"dataframe\">\n",
       "  <thead>\n",
       "    <tr style=\"text-align: right;\">\n",
       "      <th></th>\n",
       "      <th>pca-component_x</th>\n",
       "      <th>domain-number</th>\n",
       "      <th>pca-component_y</th>\n",
       "      <th>domain-description</th>\n",
       "    </tr>\n",
       "  </thead>\n",
       "  <tbody>\n",
       "    <tr>\n",
       "      <th>0</th>\n",
       "      <td>PC0</td>\n",
       "      <td>958</td>\n",
       "      <td>NaN</td>\n",
       "      <td>GATA; Zinc finger, GATA-type</td>\n",
       "    </tr>\n",
       "    <tr>\n",
       "      <th>1</th>\n",
       "      <td>PC1</td>\n",
       "      <td>89</td>\n",
       "      <td>NaN</td>\n",
       "      <td>ANAPC8; Cdc23</td>\n",
       "    </tr>\n",
       "    <tr>\n",
       "      <th>2</th>\n",
       "      <td>PC2</td>\n",
       "      <td>540</td>\n",
       "      <td>NaN</td>\n",
       "      <td>Cytochrome_B; Cytochrome b/b6, N-terminal</td>\n",
       "    </tr>\n",
       "    <tr>\n",
       "      <th>3</th>\n",
       "      <td>PC3</td>\n",
       "      <td>285</td>\n",
       "      <td>NaN</td>\n",
       "      <td>BSD; BSD domain</td>\n",
       "    </tr>\n",
       "    <tr>\n",
       "      <th>4</th>\n",
       "      <td>PC4</td>\n",
       "      <td>2</td>\n",
       "      <td>NaN</td>\n",
       "      <td>2-Hacid_dh; D-isomer specific 2-hydroxyacid de...</td>\n",
       "    </tr>\n",
       "    <tr>\n",
       "      <th>...</th>\n",
       "      <td>...</td>\n",
       "      <td>...</td>\n",
       "      <td>...</td>\n",
       "      <td>...</td>\n",
       "    </tr>\n",
       "    <tr>\n",
       "      <th>286</th>\n",
       "      <td>PC280</td>\n",
       "      <td>1841</td>\n",
       "      <td>NaN</td>\n",
       "      <td>PUF; Pumilio RNA-binding repeat</td>\n",
       "    </tr>\n",
       "    <tr>\n",
       "      <th>287</th>\n",
       "      <td>PC281</td>\n",
       "      <td>1492</td>\n",
       "      <td>NaN</td>\n",
       "      <td>MitMem_reg; Rpn11/EIF3F, C-terminal</td>\n",
       "    </tr>\n",
       "    <tr>\n",
       "      <th>290</th>\n",
       "      <td>PC283</td>\n",
       "      <td>390</td>\n",
       "      <td>NaN</td>\n",
       "      <td>COX17; Cytochrome c oxidase copper chaperone</td>\n",
       "    </tr>\n",
       "    <tr>\n",
       "      <th>291</th>\n",
       "      <td>PC284</td>\n",
       "      <td>712</td>\n",
       "      <td>NaN</td>\n",
       "      <td>DUF3835; Domain of unknown function DUF3835</td>\n",
       "    </tr>\n",
       "    <tr>\n",
       "      <th>293</th>\n",
       "      <td>PC286</td>\n",
       "      <td>159</td>\n",
       "      <td>NaN</td>\n",
       "      <td>Actin; Actin family</td>\n",
       "    </tr>\n",
       "  </tbody>\n",
       "</table>\n",
       "<p>238 rows × 4 columns</p>\n",
       "</div>"
      ],
      "text/plain": [
       "    pca-component_x  domain-number pca-component_y  \\\n",
       "0               PC0            958             NaN   \n",
       "1               PC1             89             NaN   \n",
       "2               PC2            540             NaN   \n",
       "3               PC3            285             NaN   \n",
       "4               PC4              2             NaN   \n",
       "..              ...            ...             ...   \n",
       "286           PC280           1841             NaN   \n",
       "287           PC281           1492             NaN   \n",
       "290           PC283            390             NaN   \n",
       "291           PC284            712             NaN   \n",
       "293           PC286            159             NaN   \n",
       "\n",
       "                                    domain-description  \n",
       "0                         GATA; Zinc finger, GATA-type  \n",
       "1                                        ANAPC8; Cdc23  \n",
       "2            Cytochrome_B; Cytochrome b/b6, N-terminal  \n",
       "3                                      BSD; BSD domain  \n",
       "4    2-Hacid_dh; D-isomer specific 2-hydroxyacid de...  \n",
       "..                                                 ...  \n",
       "286                    PUF; Pumilio RNA-binding repeat  \n",
       "287                MitMem_reg; Rpn11/EIF3F, C-terminal  \n",
       "290       COX17; Cytochrome c oxidase copper chaperone  \n",
       "291        DUF3835; Domain of unknown function DUF3835  \n",
       "293                                Actin; Actin family  \n",
       "\n",
       "[238 rows x 4 columns]"
      ]
     },
     "execution_count": 24,
     "metadata": {},
     "output_type": "execute_result"
    }
   ],
   "source": [
    "df_sl_exclusive=pd.merge(df_sl,df_nsl,how='left',on='domain-number')\n",
    "\n",
    "domains_name=np.unique(data_domains['domain-name'])\n",
    "domains_description=np.unique(data_domains['domain-descrip'])\n",
    "\n",
    "df_sl_exclusive['domain-description']=domains_description[df_sl_exclusive['domain-number']]\n",
    "df_sl_exclusive[pd.isnull(df_sl_exclusive['pca-component_y'])]"
   ]
  },
  {
   "cell_type": "code",
   "execution_count": 25,
   "metadata": {
    "execution": {
     "iopub.execute_input": "2020-07-22T15:28:36.034852Z",
     "iopub.status.busy": "2020-07-22T15:28:36.033691Z",
     "iopub.status.idle": "2020-07-22T15:28:36.043140Z",
     "shell.execute_reply": "2020-07-22T15:28:36.042208Z"
    }
   },
   "outputs": [
    {
     "name": "stdout",
     "output_type": "stream",
     "text": [
      "The number of exclusive domains from SL pairs, after PCA, is =  294 out of 556 so the 52.87769784172662 %\n"
     ]
    }
   ],
   "source": [
    "print('The number of exclusive domains from SL pairs, after PCA, is = ',len(df_sl_exclusive), 'out of', len(df_sl)+len(df_nsl), 'so the',100*len(df_sl_exclusive)/(len(df_sl)+len(df_nsl)),'%')"
   ]
  },
  {
   "cell_type": "code",
   "execution_count": 26,
   "metadata": {
    "execution": {
     "iopub.execute_input": "2020-07-22T15:28:36.064272Z",
     "iopub.status.busy": "2020-07-22T15:28:36.049727Z",
     "iopub.status.idle": "2020-07-22T15:28:36.082519Z",
     "shell.execute_reply": "2020-07-22T15:28:36.081744Z"
    }
   },
   "outputs": [
    {
     "data": {
      "text/html": [
       "<div>\n",
       "<style scoped>\n",
       "    .dataframe tbody tr th:only-of-type {\n",
       "        vertical-align: middle;\n",
       "    }\n",
       "\n",
       "    .dataframe tbody tr th {\n",
       "        vertical-align: top;\n",
       "    }\n",
       "\n",
       "    .dataframe thead th {\n",
       "        text-align: right;\n",
       "    }\n",
       "</style>\n",
       "<table border=\"1\" class=\"dataframe\">\n",
       "  <thead>\n",
       "    <tr style=\"text-align: right;\">\n",
       "      <th></th>\n",
       "      <th>pca-component_x</th>\n",
       "      <th>domain-number</th>\n",
       "      <th>pca-component_y</th>\n",
       "      <th>domain-description</th>\n",
       "    </tr>\n",
       "  </thead>\n",
       "  <tbody>\n",
       "    <tr>\n",
       "      <th>56</th>\n",
       "      <td>NaN</td>\n",
       "      <td>1028</td>\n",
       "      <td>PC0</td>\n",
       "      <td>GatB_Yqey; Asn/Gln amidotransferase</td>\n",
       "    </tr>\n",
       "    <tr>\n",
       "      <th>57</th>\n",
       "      <td>NaN</td>\n",
       "      <td>977</td>\n",
       "      <td>PC1</td>\n",
       "      <td>GED; Dynamin GTPase effector</td>\n",
       "    </tr>\n",
       "    <tr>\n",
       "      <th>58</th>\n",
       "      <td>NaN</td>\n",
       "      <td>268</td>\n",
       "      <td>PC2</td>\n",
       "      <td>BHD_3; Rad4 beta-hairpin domain 3</td>\n",
       "    </tr>\n",
       "    <tr>\n",
       "      <th>59</th>\n",
       "      <td>NaN</td>\n",
       "      <td>2771</td>\n",
       "      <td>PC3</td>\n",
       "      <td>Ubiq-assoc; Ubiquitin-associated domain, SWA2-...</td>\n",
       "    </tr>\n",
       "    <tr>\n",
       "      <th>60</th>\n",
       "      <td>NaN</td>\n",
       "      <td>989</td>\n",
       "      <td>PC4</td>\n",
       "      <td>GLE1; GLE1-like</td>\n",
       "    </tr>\n",
       "    <tr>\n",
       "      <th>...</th>\n",
       "      <td>...</td>\n",
       "      <td>...</td>\n",
       "      <td>...</td>\n",
       "      <td>...</td>\n",
       "    </tr>\n",
       "    <tr>\n",
       "      <th>272</th>\n",
       "      <td>NaN</td>\n",
       "      <td>1347</td>\n",
       "      <td>PC257</td>\n",
       "      <td>MAM33; Mitochondrial glycoprotein</td>\n",
       "    </tr>\n",
       "    <tr>\n",
       "      <th>273</th>\n",
       "      <td>NaN</td>\n",
       "      <td>982</td>\n",
       "      <td>PC258</td>\n",
       "      <td>GHMP_kinases_C; GHMP kinase, C-terminal domain</td>\n",
       "    </tr>\n",
       "    <tr>\n",
       "      <th>274</th>\n",
       "      <td>NaN</td>\n",
       "      <td>2438</td>\n",
       "      <td>PC262</td>\n",
       "      <td>Sec20</td>\n",
       "    </tr>\n",
       "    <tr>\n",
       "      <th>275</th>\n",
       "      <td>NaN</td>\n",
       "      <td>2094</td>\n",
       "      <td>PC263</td>\n",
       "      <td>Rad52_Rad22; DNA repair protein Rad52/59/22</td>\n",
       "    </tr>\n",
       "    <tr>\n",
       "      <th>276</th>\n",
       "      <td>NaN</td>\n",
       "      <td>0</td>\n",
       "      <td>PC264</td>\n",
       "      <td>1-cysPrx_C; Peroxiredoxin, C-terminal</td>\n",
       "    </tr>\n",
       "  </tbody>\n",
       "</table>\n",
       "<p>221 rows × 4 columns</p>\n",
       "</div>"
      ],
      "text/plain": [
       "    pca-component_x  domain-number pca-component_y  \\\n",
       "56              NaN           1028             PC0   \n",
       "57              NaN            977             PC1   \n",
       "58              NaN            268             PC2   \n",
       "59              NaN           2771             PC3   \n",
       "60              NaN            989             PC4   \n",
       "..              ...            ...             ...   \n",
       "272             NaN           1347           PC257   \n",
       "273             NaN            982           PC258   \n",
       "274             NaN           2438           PC262   \n",
       "275             NaN           2094           PC263   \n",
       "276             NaN              0           PC264   \n",
       "\n",
       "                                    domain-description  \n",
       "56                 GatB_Yqey; Asn/Gln amidotransferase  \n",
       "57                        GED; Dynamin GTPase effector  \n",
       "58                   BHD_3; Rad4 beta-hairpin domain 3  \n",
       "59   Ubiq-assoc; Ubiquitin-associated domain, SWA2-...  \n",
       "60                                     GLE1; GLE1-like  \n",
       "..                                                 ...  \n",
       "272                  MAM33; Mitochondrial glycoprotein  \n",
       "273     GHMP_kinases_C; GHMP kinase, C-terminal domain  \n",
       "274                                              Sec20  \n",
       "275        Rad52_Rad22; DNA repair protein Rad52/59/22  \n",
       "276              1-cysPrx_C; Peroxiredoxin, C-terminal  \n",
       "\n",
       "[221 rows x 4 columns]"
      ]
     },
     "execution_count": 26,
     "metadata": {},
     "output_type": "execute_result"
    }
   ],
   "source": [
    "df_nsl_exclusive=pd.merge(df_sl,df_nsl,how='right',on='domain-number')\n",
    "\n",
    "domains_name=np.unique(data_domains['domain-name'])\n",
    "domains_description=np.unique(data_domains['domain-descrip'])\n",
    "\n",
    "df_nsl_exclusive['domain-description']=domains_description[df_nsl_exclusive['domain-number']]\n",
    "df_nsl_exclusive[pd.isnull(df_nsl_exclusive['pca-component_x'])]"
   ]
  },
  {
   "cell_type": "code",
   "execution_count": 27,
   "metadata": {
    "execution": {
     "iopub.execute_input": "2020-07-22T15:28:36.087768Z",
     "iopub.status.busy": "2020-07-22T15:28:36.086747Z",
     "iopub.status.idle": "2020-07-22T15:28:36.092845Z",
     "shell.execute_reply": "2020-07-22T15:28:36.092338Z"
    }
   },
   "outputs": [
    {
     "name": "stdout",
     "output_type": "stream",
     "text": [
      "The number of exclusive domains from non SL pairs, after PCA, is =  277 out of 556 so the 49.82014388489208 %\n"
     ]
    }
   ],
   "source": [
    "print('The number of exclusive domains from non SL pairs, after PCA, is = ',len(df_nsl_exclusive), 'out of', len(df_sl)+len(df_nsl), 'so the',100*len(df_nsl_exclusive)/(len(df_sl)+len(df_nsl)),'%')"
   ]
  },
  {
   "cell_type": "markdown",
   "metadata": {},
   "source": [
    "## Let see to the domains-number that get repeated after the PCA analysis , and selecting the most explanatory feature by its explained variance."
   ]
  },
  {
   "cell_type": "code",
   "execution_count": 28,
   "metadata": {
    "execution": {
     "iopub.execute_input": "2020-07-22T15:28:36.116335Z",
     "iopub.status.busy": "2020-07-22T15:28:36.100094Z",
     "iopub.status.idle": "2020-07-22T15:28:36.119205Z",
     "shell.execute_reply": "2020-07-22T15:28:36.119665Z"
    }
   },
   "outputs": [],
   "source": [
    "duplicated_features_sl=df_sl[df_sl.iloc[:,1].duplicated()]\n",
    "repeated_features_sl=pd.DataFrame()\n",
    "\n",
    "domains_name=np.unique(data_domains['domain-name'])\n",
    "domains_description=np.unique(data_domains['domain-descrip'])\n",
    "\n",
    "repeated_features_sl['domain-name']=domains_name[duplicated_features_sl.iloc[:,1]] \n",
    "repeated_features_sl['domain-description']=domains_description[duplicated_features_sl.iloc[:,1]]\n",
    "\n",
    "duplicated_features_nsl=df_nsl[df_nsl.iloc[:,1].duplicated()]\n",
    "repeated_features_nsl=pd.DataFrame()\n",
    "\n",
    "repeated_features_nsl['domain-name']=domains_name[duplicated_features_nsl.iloc[:,1]] \n",
    "repeated_features_nsl['domain-description']=domains_description[duplicated_features_nsl.iloc[:,1]]"
   ]
  },
  {
   "cell_type": "code",
   "execution_count": 29,
   "metadata": {
    "execution": {
     "iopub.execute_input": "2020-07-22T15:28:36.133479Z",
     "iopub.status.busy": "2020-07-22T15:28:36.132127Z",
     "iopub.status.idle": "2020-07-22T15:28:36.139774Z",
     "shell.execute_reply": "2020-07-22T15:28:36.139140Z"
    }
   },
   "outputs": [
    {
     "data": {
      "text/plain": [
       "((48, 4), (294, 4))"
      ]
     },
     "execution_count": 29,
     "metadata": {},
     "output_type": "execute_result"
    }
   ],
   "source": [
    "only_sl_pd=pd.merge(repeated_features_sl,repeated_features_nsl,how='left',on=['domain-name'])\n",
    "data_only_sl = only_sl_pd[pd.isnull(only_sl_pd['domain-description_y'])]\n",
    "data_only_sl['domain-description']=data_only_sl['domain-description_x']\n",
    "data_only_sl.shape,df_sl_exclusive.shape"
   ]
  },
  {
   "cell_type": "code",
   "execution_count": 30,
   "metadata": {
    "execution": {
     "iopub.execute_input": "2020-07-22T15:28:36.161690Z",
     "iopub.status.busy": "2020-07-22T15:28:36.160987Z",
     "iopub.status.idle": "2020-07-22T15:28:36.167215Z",
     "shell.execute_reply": "2020-07-22T15:28:36.166643Z"
    }
   },
   "outputs": [
    {
     "data": {
      "text/html": [
       "<div>\n",
       "<style scoped>\n",
       "    .dataframe tbody tr th:only-of-type {\n",
       "        vertical-align: middle;\n",
       "    }\n",
       "\n",
       "    .dataframe tbody tr th {\n",
       "        vertical-align: top;\n",
       "    }\n",
       "\n",
       "    .dataframe thead th {\n",
       "        text-align: right;\n",
       "    }\n",
       "</style>\n",
       "<table border=\"1\" class=\"dataframe\">\n",
       "  <thead>\n",
       "    <tr style=\"text-align: right;\">\n",
       "      <th></th>\n",
       "      <th>domain-name</th>\n",
       "      <th>domain-description_x</th>\n",
       "      <th>domain-description_y</th>\n",
       "    </tr>\n",
       "  </thead>\n",
       "  <tbody>\n",
       "    <tr>\n",
       "      <th>0</th>\n",
       "      <td>PF02463</td>\n",
       "      <td>NaN</td>\n",
       "      <td>FSH1; Serine hydrolase FSH</td>\n",
       "    </tr>\n",
       "    <tr>\n",
       "      <th>1</th>\n",
       "      <td>PF00612</td>\n",
       "      <td>NaN</td>\n",
       "      <td>Beta_elim_lyase; Aromatic amino acid beta-elim...</td>\n",
       "    </tr>\n",
       "    <tr>\n",
       "      <th>2</th>\n",
       "      <td>PF06733</td>\n",
       "      <td>NaN</td>\n",
       "      <td>Ost5; Oligosaccharyltransferase complex subunit</td>\n",
       "    </tr>\n",
       "    <tr>\n",
       "      <th>3</th>\n",
       "      <td>PF08423</td>\n",
       "      <td>NaN</td>\n",
       "      <td>Pex2_Pex12; Pex, N-terminal</td>\n",
       "    </tr>\n",
       "    <tr>\n",
       "      <th>4</th>\n",
       "      <td>PF00183</td>\n",
       "      <td>NaN</td>\n",
       "      <td>ANAPC5; Anaphase-promoting complex subunit 5</td>\n",
       "    </tr>\n",
       "    <tr>\n",
       "      <th>5</th>\n",
       "      <td>PF01644</td>\n",
       "      <td>NaN</td>\n",
       "      <td>DUF3402; Protein of unknown function DUF3402</td>\n",
       "    </tr>\n",
       "    <tr>\n",
       "      <th>6</th>\n",
       "      <td>PF09444</td>\n",
       "      <td>NaN</td>\n",
       "      <td>Rer1; Retrieval of early ER protein Rer1</td>\n",
       "    </tr>\n",
       "    <tr>\n",
       "      <th>7</th>\n",
       "      <td>PF07718</td>\n",
       "      <td>NaN</td>\n",
       "      <td>PHO4; Phosphate transporter</td>\n",
       "    </tr>\n",
       "    <tr>\n",
       "      <th>8</th>\n",
       "      <td>PF01608</td>\n",
       "      <td>NaN</td>\n",
       "      <td>DUF2781</td>\n",
       "    </tr>\n",
       "    <tr>\n",
       "      <th>9</th>\n",
       "      <td>PF04053</td>\n",
       "      <td>NaN</td>\n",
       "      <td>JmjC; JmjC domain</td>\n",
       "    </tr>\n",
       "    <tr>\n",
       "      <th>10</th>\n",
       "      <td>PF13793</td>\n",
       "      <td>NaN</td>\n",
       "      <td>Tom37; Mitochondrial outer membrane transport ...</td>\n",
       "    </tr>\n",
       "    <tr>\n",
       "      <th>11</th>\n",
       "      <td>PF05739</td>\n",
       "      <td>NaN</td>\n",
       "      <td>NPCC; Nuclear pore complex component</td>\n",
       "    </tr>\n",
       "    <tr>\n",
       "      <th>12</th>\n",
       "      <td>PF00646</td>\n",
       "      <td>NaN</td>\n",
       "      <td>CASP_C; CASP, C-terminal</td>\n",
       "    </tr>\n",
       "    <tr>\n",
       "      <th>13</th>\n",
       "      <td>PF01221</td>\n",
       "      <td>NaN</td>\n",
       "      <td>DASH_Dad1; DASH complex subunit Dad1</td>\n",
       "    </tr>\n",
       "    <tr>\n",
       "      <th>14</th>\n",
       "      <td>PF00324</td>\n",
       "      <td>NaN</td>\n",
       "      <td>Acyl-CoA_ox_N; Acyl-coenzyme A oxidase, N-term...</td>\n",
       "    </tr>\n",
       "    <tr>\n",
       "      <th>15</th>\n",
       "      <td>PF05186</td>\n",
       "      <td>NaN</td>\n",
       "      <td>Motile_Sperm; Major sperm protein (MSP) domain</td>\n",
       "    </tr>\n",
       "    <tr>\n",
       "      <th>16</th>\n",
       "      <td>PF00575</td>\n",
       "      <td>NaN</td>\n",
       "      <td>BPL_N; Biotin-protein ligase, N-terminal</td>\n",
       "    </tr>\n",
       "    <tr>\n",
       "      <th>17</th>\n",
       "      <td>PF00122</td>\n",
       "      <td>NaN</td>\n",
       "      <td>ADK</td>\n",
       "    </tr>\n",
       "    <tr>\n",
       "      <th>18</th>\n",
       "      <td>PF02845</td>\n",
       "      <td>NaN</td>\n",
       "      <td>GFD1</td>\n",
       "    </tr>\n",
       "    <tr>\n",
       "      <th>19</th>\n",
       "      <td>PF02845</td>\n",
       "      <td>NaN</td>\n",
       "      <td>GFD1</td>\n",
       "    </tr>\n",
       "    <tr>\n",
       "      <th>20</th>\n",
       "      <td>PF09757</td>\n",
       "      <td>NaN</td>\n",
       "      <td>Ribosomal_L14e; Ribosomal protein L14e domain</td>\n",
       "    </tr>\n",
       "    <tr>\n",
       "      <th>21</th>\n",
       "      <td>PF08574</td>\n",
       "      <td>NaN</td>\n",
       "      <td>Pterin_4a; Transcriptional coactivator/pterin ...</td>\n",
       "    </tr>\n",
       "    <tr>\n",
       "      <th>22</th>\n",
       "      <td>PF01412</td>\n",
       "      <td>NaN</td>\n",
       "      <td>DNA_pol_alpha_N; DNA polymerase alpha catalyti...</td>\n",
       "    </tr>\n",
       "    <tr>\n",
       "      <th>23</th>\n",
       "      <td>PF02732</td>\n",
       "      <td>NaN</td>\n",
       "      <td>Folliculin</td>\n",
       "    </tr>\n",
       "    <tr>\n",
       "      <th>24</th>\n",
       "      <td>PF01929</td>\n",
       "      <td>NaN</td>\n",
       "      <td>EAP30</td>\n",
       "    </tr>\n",
       "    <tr>\n",
       "      <th>25</th>\n",
       "      <td>PF00433</td>\n",
       "      <td>NaN</td>\n",
       "      <td>Ank_5</td>\n",
       "    </tr>\n",
       "    <tr>\n",
       "      <th>26</th>\n",
       "      <td>PF12054</td>\n",
       "      <td>NaN</td>\n",
       "      <td>Sec39; Sec39 domain</td>\n",
       "    </tr>\n",
       "    <tr>\n",
       "      <th>27</th>\n",
       "      <td>PF01283</td>\n",
       "      <td>NaN</td>\n",
       "      <td>DHO_dh; Dihydroorotate dehydrogenase domain</td>\n",
       "    </tr>\n",
       "    <tr>\n",
       "      <th>28</th>\n",
       "      <td>PF05970</td>\n",
       "      <td>NaN</td>\n",
       "      <td>NifU; NIF system FeS cluster assembly, NifU, C...</td>\n",
       "    </tr>\n",
       "    <tr>\n",
       "      <th>29</th>\n",
       "      <td>PF17053</td>\n",
       "      <td>NaN</td>\n",
       "      <td>zf-C2H2_2</td>\n",
       "    </tr>\n",
       "    <tr>\n",
       "      <th>30</th>\n",
       "      <td>PF17053</td>\n",
       "      <td>NaN</td>\n",
       "      <td>zf-C2H2_2</td>\n",
       "    </tr>\n",
       "    <tr>\n",
       "      <th>31</th>\n",
       "      <td>PF00428</td>\n",
       "      <td>NaN</td>\n",
       "      <td>Ank_3; Ankyrin repeat</td>\n",
       "    </tr>\n",
       "    <tr>\n",
       "      <th>32</th>\n",
       "      <td>PF00428</td>\n",
       "      <td>NaN</td>\n",
       "      <td>Ank_3; Ankyrin repeat</td>\n",
       "    </tr>\n",
       "    <tr>\n",
       "      <th>33</th>\n",
       "      <td>PF08689</td>\n",
       "      <td>NaN</td>\n",
       "      <td>RNA_pol_Rpb2_6; DNA-directed RNA polymerase, s...</td>\n",
       "    </tr>\n",
       "    <tr>\n",
       "      <th>34</th>\n",
       "      <td>PF00416</td>\n",
       "      <td>NaN</td>\n",
       "      <td>Ank; Ankyrin repeat</td>\n",
       "    </tr>\n",
       "    <tr>\n",
       "      <th>35</th>\n",
       "      <td>PF10310</td>\n",
       "      <td>NaN</td>\n",
       "      <td>Ribosomal_S6; Ribosomal protein S6</td>\n",
       "    </tr>\n",
       "    <tr>\n",
       "      <th>36</th>\n",
       "      <td>PF10310</td>\n",
       "      <td>NaN</td>\n",
       "      <td>Ribosomal_S6; Ribosomal protein S6</td>\n",
       "    </tr>\n",
       "    <tr>\n",
       "      <th>37</th>\n",
       "      <td>PF04722</td>\n",
       "      <td>NaN</td>\n",
       "      <td>MTCP1; Mature-T-Cell Proliferation I type</td>\n",
       "    </tr>\n",
       "    <tr>\n",
       "      <th>38</th>\n",
       "      <td>PF04722</td>\n",
       "      <td>NaN</td>\n",
       "      <td>MTCP1; Mature-T-Cell Proliferation I type</td>\n",
       "    </tr>\n",
       "    <tr>\n",
       "      <th>39</th>\n",
       "      <td>PF10422</td>\n",
       "      <td>NaN</td>\n",
       "      <td>SAP30_Sin3_bdg; Histone deacetylase complex su...</td>\n",
       "    </tr>\n",
       "    <tr>\n",
       "      <th>40</th>\n",
       "      <td>PF00466</td>\n",
       "      <td>NaN</td>\n",
       "      <td>Arg_tRNA_synt_N; Arginyl tRNA synthetase N-ter...</td>\n",
       "    </tr>\n",
       "    <tr>\n",
       "      <th>41</th>\n",
       "      <td>PF01694</td>\n",
       "      <td>NaN</td>\n",
       "      <td>DUF3819; CCR4-Not complex, Not1 subunit, domai...</td>\n",
       "    </tr>\n",
       "    <tr>\n",
       "      <th>42</th>\n",
       "      <td>PF10315</td>\n",
       "      <td>NaN</td>\n",
       "      <td>Ribosomal_S7; Ribosomal protein S7 domain</td>\n",
       "    </tr>\n",
       "    <tr>\n",
       "      <th>43</th>\n",
       "      <td>PF12756</td>\n",
       "      <td>NaN</td>\n",
       "      <td>Succ_DH_flav_C; Fumarate reductase/succinate d...</td>\n",
       "    </tr>\n",
       "    <tr>\n",
       "      <th>44</th>\n",
       "      <td>PF00010</td>\n",
       "      <td>NaN</td>\n",
       "      <td>2-oxoacid_dh; 2-oxoacid dehydrogenase acyltran...</td>\n",
       "    </tr>\n",
       "    <tr>\n",
       "      <th>45</th>\n",
       "      <td>PF04139</td>\n",
       "      <td>NaN</td>\n",
       "      <td>LRR_8; Leucine-rich repeat</td>\n",
       "    </tr>\n",
       "    <tr>\n",
       "      <th>46</th>\n",
       "      <td>PF04851</td>\n",
       "      <td>NaN</td>\n",
       "      <td>Med13_C; Mediator complex, subunit Med13</td>\n",
       "    </tr>\n",
       "    <tr>\n",
       "      <th>47</th>\n",
       "      <td>PF08490</td>\n",
       "      <td>NaN</td>\n",
       "      <td>Phosducin; Phosducin, thioredoxin-like domain</td>\n",
       "    </tr>\n",
       "    <tr>\n",
       "      <th>48</th>\n",
       "      <td>PF01302</td>\n",
       "      <td>NaN</td>\n",
       "      <td>DJ-1_PfpI; DJ-1/PfpI</td>\n",
       "    </tr>\n",
       "  </tbody>\n",
       "</table>\n",
       "</div>"
      ],
      "text/plain": [
       "   domain-name domain-description_x  \\\n",
       "0      PF02463                  NaN   \n",
       "1      PF00612                  NaN   \n",
       "2      PF06733                  NaN   \n",
       "3      PF08423                  NaN   \n",
       "4      PF00183                  NaN   \n",
       "5      PF01644                  NaN   \n",
       "6      PF09444                  NaN   \n",
       "7      PF07718                  NaN   \n",
       "8      PF01608                  NaN   \n",
       "9      PF04053                  NaN   \n",
       "10     PF13793                  NaN   \n",
       "11     PF05739                  NaN   \n",
       "12     PF00646                  NaN   \n",
       "13     PF01221                  NaN   \n",
       "14     PF00324                  NaN   \n",
       "15     PF05186                  NaN   \n",
       "16     PF00575                  NaN   \n",
       "17     PF00122                  NaN   \n",
       "18     PF02845                  NaN   \n",
       "19     PF02845                  NaN   \n",
       "20     PF09757                  NaN   \n",
       "21     PF08574                  NaN   \n",
       "22     PF01412                  NaN   \n",
       "23     PF02732                  NaN   \n",
       "24     PF01929                  NaN   \n",
       "25     PF00433                  NaN   \n",
       "26     PF12054                  NaN   \n",
       "27     PF01283                  NaN   \n",
       "28     PF05970                  NaN   \n",
       "29     PF17053                  NaN   \n",
       "30     PF17053                  NaN   \n",
       "31     PF00428                  NaN   \n",
       "32     PF00428                  NaN   \n",
       "33     PF08689                  NaN   \n",
       "34     PF00416                  NaN   \n",
       "35     PF10310                  NaN   \n",
       "36     PF10310                  NaN   \n",
       "37     PF04722                  NaN   \n",
       "38     PF04722                  NaN   \n",
       "39     PF10422                  NaN   \n",
       "40     PF00466                  NaN   \n",
       "41     PF01694                  NaN   \n",
       "42     PF10315                  NaN   \n",
       "43     PF12756                  NaN   \n",
       "44     PF00010                  NaN   \n",
       "45     PF04139                  NaN   \n",
       "46     PF04851                  NaN   \n",
       "47     PF08490                  NaN   \n",
       "48     PF01302                  NaN   \n",
       "\n",
       "                                 domain-description_y  \n",
       "0                          FSH1; Serine hydrolase FSH  \n",
       "1   Beta_elim_lyase; Aromatic amino acid beta-elim...  \n",
       "2     Ost5; Oligosaccharyltransferase complex subunit  \n",
       "3                         Pex2_Pex12; Pex, N-terminal  \n",
       "4        ANAPC5; Anaphase-promoting complex subunit 5  \n",
       "5        DUF3402; Protein of unknown function DUF3402  \n",
       "6            Rer1; Retrieval of early ER protein Rer1  \n",
       "7                         PHO4; Phosphate transporter  \n",
       "8                                             DUF2781  \n",
       "9                                   JmjC; JmjC domain  \n",
       "10  Tom37; Mitochondrial outer membrane transport ...  \n",
       "11               NPCC; Nuclear pore complex component  \n",
       "12                           CASP_C; CASP, C-terminal  \n",
       "13               DASH_Dad1; DASH complex subunit Dad1  \n",
       "14  Acyl-CoA_ox_N; Acyl-coenzyme A oxidase, N-term...  \n",
       "15     Motile_Sperm; Major sperm protein (MSP) domain  \n",
       "16           BPL_N; Biotin-protein ligase, N-terminal  \n",
       "17                                                ADK  \n",
       "18                                               GFD1  \n",
       "19                                               GFD1  \n",
       "20      Ribosomal_L14e; Ribosomal protein L14e domain  \n",
       "21  Pterin_4a; Transcriptional coactivator/pterin ...  \n",
       "22  DNA_pol_alpha_N; DNA polymerase alpha catalyti...  \n",
       "23                                         Folliculin  \n",
       "24                                              EAP30  \n",
       "25                                              Ank_5  \n",
       "26                                Sec39; Sec39 domain  \n",
       "27        DHO_dh; Dihydroorotate dehydrogenase domain  \n",
       "28  NifU; NIF system FeS cluster assembly, NifU, C...  \n",
       "29                                          zf-C2H2_2  \n",
       "30                                          zf-C2H2_2  \n",
       "31                              Ank_3; Ankyrin repeat  \n",
       "32                              Ank_3; Ankyrin repeat  \n",
       "33  RNA_pol_Rpb2_6; DNA-directed RNA polymerase, s...  \n",
       "34                                Ank; Ankyrin repeat  \n",
       "35                 Ribosomal_S6; Ribosomal protein S6  \n",
       "36                 Ribosomal_S6; Ribosomal protein S6  \n",
       "37          MTCP1; Mature-T-Cell Proliferation I type  \n",
       "38          MTCP1; Mature-T-Cell Proliferation I type  \n",
       "39  SAP30_Sin3_bdg; Histone deacetylase complex su...  \n",
       "40  Arg_tRNA_synt_N; Arginyl tRNA synthetase N-ter...  \n",
       "41  DUF3819; CCR4-Not complex, Not1 subunit, domai...  \n",
       "42          Ribosomal_S7; Ribosomal protein S7 domain  \n",
       "43  Succ_DH_flav_C; Fumarate reductase/succinate d...  \n",
       "44  2-oxoacid_dh; 2-oxoacid dehydrogenase acyltran...  \n",
       "45                         LRR_8; Leucine-rich repeat  \n",
       "46           Med13_C; Mediator complex, subunit Med13  \n",
       "47      Phosducin; Phosducin, thioredoxin-like domain  \n",
       "48                               DJ-1_PfpI; DJ-1/PfpI  "
      ]
     },
     "execution_count": 30,
     "metadata": {},
     "output_type": "execute_result"
    }
   ],
   "source": [
    "only_nsl_pd=pd.merge(repeated_features_sl,repeated_features_nsl,how='right',on=['domain-name'])\n",
    "data_only_nsl = only_nsl_pd[pd.isnull(only_nsl_pd['domain-description_x'])]\n",
    "data_only_nsl"
   ]
  },
  {
   "cell_type": "code",
   "execution_count": 31,
   "metadata": {
    "execution": {
     "iopub.execute_input": "2020-07-22T15:28:36.178150Z",
     "iopub.status.busy": "2020-07-22T15:28:36.177516Z",
     "iopub.status.idle": "2020-07-22T15:28:36.181813Z",
     "shell.execute_reply": "2020-07-22T15:28:36.182334Z"
    }
   },
   "outputs": [
    {
     "data": {
      "text/html": [
       "<div>\n",
       "<style scoped>\n",
       "    .dataframe tbody tr th:only-of-type {\n",
       "        vertical-align: middle;\n",
       "    }\n",
       "\n",
       "    .dataframe tbody tr th {\n",
       "        vertical-align: top;\n",
       "    }\n",
       "\n",
       "    .dataframe thead th {\n",
       "        text-align: right;\n",
       "    }\n",
       "</style>\n",
       "<table border=\"1\" class=\"dataframe\">\n",
       "  <thead>\n",
       "    <tr style=\"text-align: right;\">\n",
       "      <th></th>\n",
       "      <th>domain-name</th>\n",
       "      <th>domain-description_x</th>\n",
       "      <th>domain-description_y</th>\n",
       "    </tr>\n",
       "  </thead>\n",
       "  <tbody>\n",
       "  </tbody>\n",
       "</table>\n",
       "</div>"
      ],
      "text/plain": [
       "Empty DataFrame\n",
       "Columns: [domain-name, domain-description_x, domain-description_y]\n",
       "Index: []"
      ]
     },
     "execution_count": 31,
     "metadata": {},
     "output_type": "execute_result"
    }
   ],
   "source": [
    "shared_domains_pd=pd.merge(repeated_features_sl,repeated_features_nsl,how='inner',on=['domain-name'])\n",
    "shared_domains_pd\n"
   ]
  },
  {
   "cell_type": "code",
   "execution_count": 32,
   "metadata": {
    "execution": {
     "iopub.execute_input": "2020-07-22T15:28:36.222166Z",
     "iopub.status.busy": "2020-07-22T15:28:36.216934Z",
     "iopub.status.idle": "2020-07-22T15:28:38.015705Z",
     "shell.execute_reply": "2020-07-22T15:28:38.016569Z"
    }
   },
   "outputs": [
    {
     "data": {
      "text/plain": [
       "(0.0, 0.2)"
      ]
     },
     "execution_count": 32,
     "metadata": {},
     "output_type": "execute_result"
    },
    {
     "data": {
      "image/png": "[encoded data removed]",
      "text/plain": [
       "<Figure size 432x288 with 1 Axes>"
      ]
     },
     "metadata": {
      "filenames": {
       "image/png": "/home/runner/work/jupyter-book/jupyter-book/mini_book/docs/_build/jupyter_execute/prot_domains2lethality-FEATURES-POSTPROCESSING_47_1.png"
      },
      "needs_background": "light"
     },
     "output_type": "display_data"
    }
   ],
   "source": [
    "a_sl=x_sl.iloc[:,np.sort(df_sl.iloc[:,1])]\n",
    "a_sl.describe().loc['mean'].hist(bins=8),\n",
    "a_sl.describe().loc['std'].hist(bins=8,alpha=0.4)\n",
    "plt.xlim([0,0.2])"
   ]
  },
  {
   "cell_type": "code",
   "execution_count": 33,
   "metadata": {
    "execution": {
     "iopub.execute_input": "2020-07-22T15:28:38.032622Z",
     "iopub.status.busy": "2020-07-22T15:28:38.030073Z",
     "iopub.status.idle": "2020-07-22T15:28:39.763917Z",
     "shell.execute_reply": "2020-07-22T15:28:39.764458Z"
    }
   },
   "outputs": [
    {
     "data": {
      "text/plain": [
       "(0.0, 0.2)"
      ]
     },
     "execution_count": 33,
     "metadata": {},
     "output_type": "execute_result"
    },
    {
     "data": {
      "image/png": "[encoded data removed]",
      "text/plain": [
       "<Figure size 432x288 with 1 Axes>"
      ]
     },
     "metadata": {
      "filenames": {
       "image/png": "/home/runner/work/jupyter-book/jupyter-book/mini_book/docs/_build/jupyter_execute/prot_domains2lethality-FEATURES-POSTPROCESSING_48_1.png"
      },
      "needs_background": "light"
     },
     "output_type": "display_data"
    }
   ],
   "source": [
    "a_nsl=x_nsl.iloc[:,np.sort(df_nsl.iloc[:,1])]\n",
    "a_nsl.describe().loc['mean'].hist(bins=8),\n",
    "a_nsl.describe().loc['std'].hist(bins=8,alpha=0.4)\n",
    "plt.xlim([0,0.2])"
   ]
  },
  {
   "cell_type": "markdown",
   "metadata": {},
   "source": [
    "### Proof of concept with *BEM1*\n",
    "\n",
    "- Gather the domains of SL and nSL pairs from BEM1\n",
    "- Check if the domains for the SL and nSL pairs are inside the most important domains after PCA."
   ]
  },
  {
   "cell_type": "code",
   "execution_count": 34,
   "metadata": {
    "execution": {
     "iopub.execute_input": "2020-07-22T15:28:39.773024Z",
     "iopub.status.busy": "2020-07-22T15:28:39.772430Z",
     "iopub.status.idle": "2020-07-22T15:28:39.775749Z",
     "shell.execute_reply": "2020-07-22T15:28:39.776572Z"
    }
   },
   "outputs": [],
   "source": [
    "domains_bem1=data_domains[data_domains['name']=='BEM1']['domain-descrip']\n",
    "sl_bem1=data_sl[data_sl['gene-query-name']=='BEM1']['gene-target-name']"
   ]
  },
  {
   "cell_type": "code",
   "execution_count": 35,
   "metadata": {
    "execution": {
     "iopub.execute_input": "2020-07-22T15:28:39.782063Z",
     "iopub.status.busy": "2020-07-22T15:28:39.781238Z",
     "iopub.status.idle": "2020-07-22T15:28:39.787570Z",
     "shell.execute_reply": "2020-07-22T15:28:39.786752Z"
    }
   },
   "outputs": [
    {
     "data": {
      "text/plain": [
       "2846      BEM2\n",
       "2847     CDC24\n",
       "5004      MSB1\n",
       "13777     SMI1\n",
       "13778     BNI1\n",
       "13779     BEM2\n",
       "14385     SKN7\n",
       "Name: gene-target-name, dtype: object"
      ]
     },
     "execution_count": 35,
     "metadata": {},
     "output_type": "execute_result"
    }
   ],
   "source": [
    "sl_bem1"
   ]
  },
  {
   "cell_type": "code",
   "execution_count": 36,
   "metadata": {
    "execution": {
     "iopub.execute_input": "2020-07-22T15:28:39.804130Z",
     "iopub.status.busy": "2020-07-22T15:28:39.803518Z",
     "iopub.status.idle": "2020-07-22T15:28:39.810058Z",
     "shell.execute_reply": "2020-07-22T15:28:39.809069Z"
    }
   },
   "outputs": [
    {
     "data": {
      "text/html": [
       "<div>\n",
       "<style scoped>\n",
       "    .dataframe tbody tr th:only-of-type {\n",
       "        vertical-align: middle;\n",
       "    }\n",
       "\n",
       "    .dataframe tbody tr th {\n",
       "        vertical-align: top;\n",
       "    }\n",
       "\n",
       "    .dataframe thead th {\n",
       "        text-align: right;\n",
       "    }\n",
       "</style>\n",
       "<table border=\"1\" class=\"dataframe\">\n",
       "  <thead>\n",
       "    <tr style=\"text-align: right;\">\n",
       "      <th></th>\n",
       "      <th>gene-query</th>\n",
       "      <th>gene-target</th>\n",
       "      <th>gene-query-name</th>\n",
       "      <th>gene-target-name</th>\n",
       "      <th>gene-query-description</th>\n",
       "      <th>gene-target-description</th>\n",
       "      <th>interaction-type</th>\n",
       "      <th>paper-source</th>\n",
       "    </tr>\n",
       "  </thead>\n",
       "  <tbody>\n",
       "    <tr>\n",
       "      <th>2846</th>\n",
       "      <td>YBR200W</td>\n",
       "      <td>YER155C</td>\n",
       "      <td>BEM1</td>\n",
       "      <td>BEM2</td>\n",
       "      <td>SRO1|phosphatidylinositol-3-phosphate-binding ...</td>\n",
       "      <td>IPL2|SUP9|TSL1|L000000168</td>\n",
       "      <td>Synthetic Lethality</td>\n",
       "      <td>Peterson J (1994)</td>\n",
       "    </tr>\n",
       "    <tr>\n",
       "      <th>2847</th>\n",
       "      <td>YBR200W</td>\n",
       "      <td>YAL041W</td>\n",
       "      <td>BEM1</td>\n",
       "      <td>CDC24</td>\n",
       "      <td>SRO1|phosphatidylinositol-3-phosphate-binding ...</td>\n",
       "      <td>CLS4|Rho family guanine nucleotide exchange fa...</td>\n",
       "      <td>Synthetic Lethality</td>\n",
       "      <td>Peterson J (1994)</td>\n",
       "    </tr>\n",
       "    <tr>\n",
       "      <th>5004</th>\n",
       "      <td>YBR200W</td>\n",
       "      <td>YOR188W</td>\n",
       "      <td>BEM1</td>\n",
       "      <td>MSB1</td>\n",
       "      <td>SRO1|phosphatidylinositol-3-phosphate-binding ...</td>\n",
       "      <td>L000001184</td>\n",
       "      <td>Synthetic Lethality</td>\n",
       "      <td>Bender A (1991)</td>\n",
       "    </tr>\n",
       "    <tr>\n",
       "      <th>13777</th>\n",
       "      <td>YBR200W</td>\n",
       "      <td>YGR229C</td>\n",
       "      <td>BEM1</td>\n",
       "      <td>SMI1</td>\n",
       "      <td>SRO1|phosphatidylinositol-3-phosphate-binding ...</td>\n",
       "      <td>KNR4|L000000909</td>\n",
       "      <td>Synthetic Lethality</td>\n",
       "      <td>Gorelik M (2011)</td>\n",
       "    </tr>\n",
       "    <tr>\n",
       "      <th>13778</th>\n",
       "      <td>YBR200W</td>\n",
       "      <td>YNL271C</td>\n",
       "      <td>BEM1</td>\n",
       "      <td>BNI1</td>\n",
       "      <td>SRO1|phosphatidylinositol-3-phosphate-binding ...</td>\n",
       "      <td>PPF3|SHE5|formin BNI1|L000000190</td>\n",
       "      <td>Synthetic Lethality</td>\n",
       "      <td>Gorelik M (2011)</td>\n",
       "    </tr>\n",
       "    <tr>\n",
       "      <th>13779</th>\n",
       "      <td>YBR200W</td>\n",
       "      <td>YER155C</td>\n",
       "      <td>BEM1</td>\n",
       "      <td>BEM2</td>\n",
       "      <td>SRO1|phosphatidylinositol-3-phosphate-binding ...</td>\n",
       "      <td>IPL2|SUP9|TSL1|L000000168</td>\n",
       "      <td>Synthetic Lethality</td>\n",
       "      <td>Gorelik M (2011)</td>\n",
       "    </tr>\n",
       "    <tr>\n",
       "      <th>14385</th>\n",
       "      <td>YBR200W</td>\n",
       "      <td>YHR206W</td>\n",
       "      <td>BEM1</td>\n",
       "      <td>SKN7</td>\n",
       "      <td>SRO1|phosphatidylinositol-3-phosphate-binding ...</td>\n",
       "      <td>BRY1|POS9|kinase-regulated stress-responsive t...</td>\n",
       "      <td>Dosage Lethality</td>\n",
       "      <td>Bouquin N (1999)</td>\n",
       "    </tr>\n",
       "  </tbody>\n",
       "</table>\n",
       "</div>"
      ],
      "text/plain": [
       "      gene-query gene-target gene-query-name gene-target-name  \\\n",
       "2846     YBR200W     YER155C            BEM1             BEM2   \n",
       "2847     YBR200W     YAL041W            BEM1            CDC24   \n",
       "5004     YBR200W     YOR188W            BEM1             MSB1   \n",
       "13777    YBR200W     YGR229C            BEM1             SMI1   \n",
       "13778    YBR200W     YNL271C            BEM1             BNI1   \n",
       "13779    YBR200W     YER155C            BEM1             BEM2   \n",
       "14385    YBR200W     YHR206W            BEM1             SKN7   \n",
       "\n",
       "                                  gene-query-description  \\\n",
       "2846   SRO1|phosphatidylinositol-3-phosphate-binding ...   \n",
       "2847   SRO1|phosphatidylinositol-3-phosphate-binding ...   \n",
       "5004   SRO1|phosphatidylinositol-3-phosphate-binding ...   \n",
       "13777  SRO1|phosphatidylinositol-3-phosphate-binding ...   \n",
       "13778  SRO1|phosphatidylinositol-3-phosphate-binding ...   \n",
       "13779  SRO1|phosphatidylinositol-3-phosphate-binding ...   \n",
       "14385  SRO1|phosphatidylinositol-3-phosphate-binding ...   \n",
       "\n",
       "                                 gene-target-description     interaction-type  \\\n",
       "2846                           IPL2|SUP9|TSL1|L000000168  Synthetic Lethality   \n",
       "2847   CLS4|Rho family guanine nucleotide exchange fa...  Synthetic Lethality   \n",
       "5004                                          L000001184  Synthetic Lethality   \n",
       "13777                                    KNR4|L000000909  Synthetic Lethality   \n",
       "13778                   PPF3|SHE5|formin BNI1|L000000190  Synthetic Lethality   \n",
       "13779                          IPL2|SUP9|TSL1|L000000168  Synthetic Lethality   \n",
       "14385  BRY1|POS9|kinase-regulated stress-responsive t...     Dosage Lethality   \n",
       "\n",
       "            paper-source  \n",
       "2846   Peterson J (1994)  \n",
       "2847   Peterson J (1994)  \n",
       "5004     Bender A (1991)  \n",
       "13777   Gorelik M (2011)  \n",
       "13778   Gorelik M (2011)  \n",
       "13779   Gorelik M (2011)  \n",
       "14385   Bouquin N (1999)  "
      ]
     },
     "execution_count": 36,
     "metadata": {},
     "output_type": "execute_result"
    }
   ],
   "source": [
    "data_sl[data_sl['gene-query-name']=='BEM1']"
   ]
  },
  {
   "cell_type": "code",
   "execution_count": null,
   "metadata": {},
   "outputs": [],
   "source": []
  }
 ],
 "metadata": {
  "jupytext": {
   "text_representation": {
    "extension": ".md",
    "format_name": "myst"
   }
  },
  "kernelspec": {
   "display_name": "Python 3",
   "language": "python",
   "name": "python3"
  },
  "language_info": {
   "codemirror_mode": {
    "name": "ipython",
    "version": 3
   },
   "file_extension": ".py",
   "mimetype": "text/x-python",
   "name": "python",
   "nbconvert_exporter": "python",
   "pygments_lexer": "ipython3",
   "version": "3.7.6"
  },
  "source_map": [
   10,
   18,
   29,
   36,
   57,
   66,
   98,
   101,
   105,
   128,
   131,
   135,
   139,
   145,
   178,
   184,
   188,
   206,
   210,
   218,
   222,
   225,
   229,
   234,
   238,
   244,
   248,
   253,
   257,
   267,
   269,
   273,
   306,
   311,
   313,
   317,
   328,
   330,
   334,
   344,
   348,
   358,
   360,
   364,
   381,
   388,
   394,
   400,
   407,
   412,
   419,
   424,
   428,
   432
  ]
 },
 "nbformat": 4,
 "nbformat_minor": 4
}