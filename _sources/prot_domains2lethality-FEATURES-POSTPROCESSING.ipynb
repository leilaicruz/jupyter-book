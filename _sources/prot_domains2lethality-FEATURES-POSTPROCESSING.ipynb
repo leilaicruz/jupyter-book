{
 "cells": [
  {
   "cell_type": "markdown",
   "metadata": {},
   "source": [
    "# Feature postprocessing from paper.\n",
    "- Title:  \"Predicting yeast synthetic lethal genetic interactions using protein domains\"\n",
    "- Authors: Bo Li, Feng Luo,School of Computing,Clemson University,Clemson, SC, USA\n",
    "- e-mail: bol, luofeng@clemson.edu\n",
    "- year:2009"
   ]
  },
  {
   "cell_type": "code",
   "execution_count": 1,
   "metadata": {
    "execution": {
     "iopub.execute_input": "2020-07-17T10:29:26.142711Z",
     "iopub.status.busy": "2020-07-17T10:29:26.141601Z",
     "iopub.status.idle": "2020-07-17T10:29:26.868659Z",
     "shell.execute_reply": "2020-07-17T10:29:26.867798Z"
    }
   },
   "outputs": [],
   "source": [
    "import pandas as pd\n",
    "import numpy as np\n",
    "import matplotlib.pyplot as plt\n",
    "from collections import defaultdict \n",
    "import seaborn as sns\n",
    "import matplotlib.cm as cm\n",
    "import scipy as scipy\n",
    "import random"
   ]
  },
  {
   "cell_type": "markdown",
   "metadata": {
    "jupyter": {
     "source_hidden": true
    }
   },
   "source": [
    "### Importing datasets \n",
    "\n",
    "#### Link to the github repo where the datasets to be downloaded:\n",
    "[DOWNLOAD THE DATASETS HERE](https://github.com/leilaicruz/machine-learning-for-yeast/tree/dev_Leila/datasets-for-learning)"
   ]
  },
  {
   "cell_type": "code",
   "execution_count": 2,
   "metadata": {
    "execution": {
     "iopub.execute_input": "2020-07-17T10:29:26.875927Z",
     "iopub.status.busy": "2020-07-17T10:29:26.875374Z",
     "iopub.status.idle": "2020-07-17T10:29:34.329901Z",
     "shell.execute_reply": "2020-07-17T10:29:34.328780Z"
    }
   },
   "outputs": [],
   "source": [
    "import os\n",
    "script_dir = os.path.dirname('__file__') #<-- absolute dir the script is in\n",
    "rel_path_SL = \"datasets/data-synthetic-lethals.xlsx\"\n",
    "rel_path_nSL=\"datasets/data-positive-genetic.xlsx\"\n",
    "rel_path_domains=\"datasets/proteins-domains-from-Pfam.xlsx\"\n",
    "\n",
    "abs_file_path_SL = os.path.join(script_dir, rel_path_SL)\n",
    "abs_file_path_nSL = os.path.join(script_dir, rel_path_nSL)\n",
    "abs_file_path_domains = os.path.join(script_dir, rel_path_domains)\n",
    "\n",
    "# os.chdir('mini_book/docs/') #<-- for binder os.chdir('../')\n",
    "# os.chdir('../')\n",
    "my_path_sl= abs_file_path_SL\n",
    "my_path_non_sl=abs_file_path_nSL\n",
    "my_path_domains=abs_file_path_domains\n",
    "\n",
    "data_sl=pd.read_excel(my_path_sl,header=0)\n",
    "data_domains=pd.read_excel(my_path_domains,header=0,index_col='Unnamed: 0')\n",
    "data_domains=data_domains.dropna()\n",
    "data_nonsl=pd.read_excel(my_path_non_sl,header=0)"
   ]
  },
  {
   "cell_type": "markdown",
   "metadata": {},
   "source": [
    "## Building the feature matrix\n",
    "One matrix for true SL where each row is one pair of SL. Every raw will be a vector of 0,1 or 2 depending on the comparison with the domain list. For row i the jth element = 0 if the jth element of the domain list is not in neither protein A and B, 1, if it is in one of them and 2 if it is in both of them .\n",
    "\n",
    "### Building the list of proteins domains id per protein pair separately :\n",
    "- List of protein A: Search for the Sl/nSL database the query gene name and look in the protein domain database which protein domains id has each of those queries.\n",
    "- List of protein B: Search for the Sl/nSL database the target gene name of the previous query and look in the protein domain database which protein domains id has each of those target genes."
   ]
  },
  {
   "cell_type": "code",
   "execution_count": 3,
   "metadata": {
    "execution": {
     "iopub.execute_input": "2020-07-17T10:29:34.352075Z",
     "iopub.status.busy": "2020-07-17T10:29:34.346407Z",
     "iopub.status.idle": "2020-07-17T10:29:36.354851Z",
     "shell.execute_reply": "2020-07-17T10:29:36.355272Z"
    }
   },
   "outputs": [],
   "source": [
    "# Selecting the meaningful columns in the respective dataset\n",
    "domain_id_list=data_domains['domain-name']\n",
    "query_gene=data_sl['gene-query-name']\n",
    "target_gene=data_sl['gene-target-name']\n",
    "query_gene_nonlethal=data_nonsl['gene-query-name']\n",
    "target_gene_nonlethal=data_nonsl['gene-target-name']\n",
    "\n",
    "\n",
    "\n",
    "# Initialising the arrays\n",
    "protein_a_list=[]\n",
    "protein_b_list=[]\n",
    "protein_a_list_non=[]\n",
    "protein_b_list_non=[]\n",
    "\n",
    "population = np.arange(0,len(data_sl))\n",
    "\n",
    "# For loop for 10000 pairs sampled randomly from the SL/nSl pair list , and creating a big array of proteind domains id per protein pair\n",
    "\n",
    "for m in random.sample(list(population), 500):\n",
    "    protein_a=data_domains[data_domains['name']==query_gene[m]]\n",
    "    protein_b=data_domains[data_domains['name']==target_gene[m]]\n",
    "    protein_a_list.append(protein_a['domain-name'].tolist())\n",
    "    protein_b_list.append(protein_b['domain-name'].tolist())\n",
    "\n",
    "    protein_a_non=data_domains[data_domains['name']==query_gene_nonlethal[m]]\n",
    "    protein_b_non=data_domains[data_domains['name']==target_gene_nonlethal[m]]\n",
    "    protein_a_list_non.append(protein_a_non['domain-name'].tolist())\n",
    "    protein_b_list_non.append(protein_b_non['domain-name'].tolist())"
   ]
  },
  {
   "cell_type": "code",
   "execution_count": 4,
   "metadata": {
    "execution": {
     "iopub.execute_input": "2020-07-17T10:29:36.360311Z",
     "iopub.status.busy": "2020-07-17T10:29:36.359753Z",
     "iopub.status.idle": "2020-07-17T10:29:36.363367Z",
     "shell.execute_reply": "2020-07-17T10:29:36.362959Z"
    }
   },
   "outputs": [
    {
     "name": "stdout",
     "output_type": "stream",
     "text": [
      "We are going to analyze 500 protein pairs, out of 17871 SL protein pairs\n",
      "We are going to analyze 500 protein pairs, out of 43340 positive protein pairs\n"
     ]
    }
   ],
   "source": [
    "print('We are going to analyze',len((protein_a_list)) ,'protein pairs, out of',len(data_sl),'SL protein pairs')\n",
    "print('We are going to analyze',len((protein_a_list_non)) ,'protein pairs, out of',len(data_nonsl),'positive protein pairs')"
   ]
  },
  {
   "cell_type": "markdown",
   "metadata": {},
   "source": [
    "### Postprocessing #1:  Remove protein pairs from study if either protein in the pair does not contain any domain"
   ]
  },
  {
   "cell_type": "code",
   "execution_count": 5,
   "metadata": {
    "execution": {
     "iopub.execute_input": "2020-07-17T10:29:36.373884Z",
     "iopub.status.busy": "2020-07-17T10:29:36.373379Z",
     "iopub.status.idle": "2020-07-17T10:29:36.376365Z",
     "shell.execute_reply": "2020-07-17T10:29:36.376734Z"
    }
   },
   "outputs": [],
   "source": [
    "def remove_empty_domains(protein_list_search,protein_list_pair):\n",
    "    index=[]\n",
    "    for i in np.arange(0,len(protein_list_search)):\n",
    "        if protein_list_search[i]==[] or protein_list_pair[i]==[]:\n",
    "            index.append(i) ## index of empty values for the protein_a_list meaning they dont have any annotated domain\n",
    "\n",
    "    y=[x for x in np.arange(0,len(protein_list_search)) if x not in index] # a list with non empty values from protein_a list\n",
    "\n",
    "    protein_list_search_new=[]\n",
    "    protein_list_pair_new=[]\n",
    "    for i in y:\n",
    "        protein_list_search_new.append(protein_list_search[i])\n",
    "        protein_list_pair_new.append(protein_list_pair[i])\n",
    "    return protein_list_search_new,protein_list_pair_new\n",
    "\n",
    "## evaluating the function\n",
    "\n",
    "protein_a_list_new,protein_b_list_new=remove_empty_domains(protein_a_list,protein_b_list)\n",
    "\n",
    "protein_a_list_non_new,protein_b_list_non_new=remove_empty_domains(protein_a_list_non,protein_b_list_non)"
   ]
  },
  {
   "cell_type": "code",
   "execution_count": 6,
   "metadata": {
    "execution": {
     "iopub.execute_input": "2020-07-17T10:29:36.382826Z",
     "iopub.status.busy": "2020-07-17T10:29:36.381733Z",
     "iopub.status.idle": "2020-07-17T10:29:36.384553Z",
     "shell.execute_reply": "2020-07-17T10:29:36.384126Z"
    }
   },
   "outputs": [
    {
     "name": "stdout",
     "output_type": "stream",
     "text": [
      "The empty domain in the SL were: 73 out of 500 domains\n",
      "The empty domain in the nSL were: 93 out of 500 domains\n"
     ]
    }
   ],
   "source": [
    "print('The empty domain in the SL were:', len(protein_a_list)-len(protein_a_list_new), 'out of', len(protein_a_list),'domains')\n",
    "print('The empty domain in the nSL were:', len(protein_a_list_non)-len(protein_a_list_non_new), 'out of', len(protein_a_list_non),'domains')"
   ]
  },
  {
   "cell_type": "markdown",
   "metadata": {},
   "source": [
    "### Feature engineering: Select from each ordered indexes of domain id list which of them appear once, in both or in any of the domains of each protein pair"
   ]
  },
  {
   "cell_type": "markdown",
   "metadata": {},
   "source": [
    "#### Define function `get_indexes`"
   ]
  },
  {
   "cell_type": "code",
   "execution_count": 7,
   "metadata": {
    "execution": {
     "iopub.execute_input": "2020-07-17T10:29:36.391726Z",
     "iopub.status.busy": "2020-07-17T10:29:36.391226Z",
     "iopub.status.idle": "2020-07-17T10:29:36.393656Z",
     "shell.execute_reply": "2020-07-17T10:29:36.394044Z"
    }
   },
   "outputs": [
    {
     "data": {
      "text/plain": [
       "[1, 2]"
      ]
     },
     "execution_count": 7,
     "metadata": {},
     "output_type": "execute_result"
    }
   ],
   "source": [
    "get_indexes = lambda x, xs: [i for (y, i) in zip(xs, range(len(xs))) if x == y] # a function that give the index of whether a value appear in array or not\n",
    "a=[1,2,2,4,5,6,7,8,9,10]\n",
    "get_indexes(2,a)"
   ]
  },
  {
   "cell_type": "code",
   "execution_count": 8,
   "metadata": {
    "execution": {
     "iopub.execute_input": "2020-07-17T10:29:36.402736Z",
     "iopub.status.busy": "2020-07-17T10:29:36.402104Z",
     "iopub.status.idle": "2020-07-17T10:29:36.404675Z",
     "shell.execute_reply": "2020-07-17T10:29:36.404238Z"
    }
   },
   "outputs": [],
   "source": [
    "def feature_building(protein_a_list_new,protein_b_list_new):\n",
    "    x = np.unique(domain_id_list)\n",
    "    ## To avoid taking repeated domains from one protein of the pairs , lets reduced the domains of each protein from the pairs to their unique members\n",
    "    protein_a_list_unique=[]\n",
    "    protein_b_list_unique=[]\n",
    "    for i in np.arange(0,len(protein_a_list_new)):\n",
    "        protein_a_list_unique.append(np.unique(protein_a_list_new[i]))\n",
    "        protein_b_list_unique.append(np.unique(protein_b_list_new[i]))\n",
    "        \n",
    "    protein_feat_true=np.zeros(shape=(len(x),len(protein_a_list_unique)))\n",
    "    pair_a_b_array=[]\n",
    "    for i in np.arange(0,len(protein_a_list_unique)):\n",
    "        index_a=[]\n",
    "        \n",
    "        pair=[protein_a_list_unique[i],protein_b_list_unique[i]]\n",
    "        pair_a_b=np.concatenate(pair).ravel()\n",
    "        pair_a_b_array.append(pair_a_b)\n",
    "\n",
    "    j=0\n",
    "    for i in pair_a_b_array:  \n",
    "        array,index,counts=np.unique(i,return_index=True,return_counts=True)\n",
    "        \n",
    "        for k,m in zip(counts,array):\n",
    "            if k ==2:\n",
    "                protein_feat_true[get_indexes(m,x),j]=2\n",
    "                \n",
    "            if k==1:\n",
    "                protein_feat_true[get_indexes(m,x),j]=1\n",
    "        j=j+1\n",
    "    return protein_feat_true"
   ]
  },
  {
   "cell_type": "code",
   "execution_count": 9,
   "metadata": {
    "execution": {
     "iopub.execute_input": "2020-07-17T10:29:36.413707Z",
     "iopub.status.busy": "2020-07-17T10:29:36.413212Z",
     "iopub.status.idle": "2020-07-17T10:29:37.033251Z",
     "shell.execute_reply": "2020-07-17T10:29:37.032409Z"
    }
   },
   "outputs": [],
   "source": [
    "protein_feat_true=feature_building(protein_b_list_new=protein_b_list_new,protein_a_list_new=protein_a_list_new)\n",
    "protein_feat_true_pd=pd.DataFrame(protein_feat_true.T)\n",
    "\n",
    "protein_feat_non_true=feature_building(protein_b_list_new=protein_b_list_non_new,protein_a_list_new=protein_a_list_non_new)\n",
    "protein_feat_non_true_pd=pd.DataFrame(protein_feat_non_true.T)"
   ]
  },
  {
   "cell_type": "markdown",
   "metadata": {},
   "source": [
    "### How many ones and twos are in each dataset"
   ]
  },
  {
   "cell_type": "code",
   "execution_count": 10,
   "metadata": {
    "execution": {
     "iopub.execute_input": "2020-07-17T10:29:37.041023Z",
     "iopub.status.busy": "2020-07-17T10:29:37.040484Z",
     "iopub.status.idle": "2020-07-17T10:29:37.134251Z",
     "shell.execute_reply": "2020-07-17T10:29:37.133811Z"
    }
   },
   "outputs": [
    {
     "name": "stdout",
     "output_type": "stream",
     "text": [
      "fraction of twos in the SL array is 2.0128902394178104e-05\n",
      "fraction of ones in the SL array is 0.0010110902510306384\n",
      "fraction of twos in the PI array is 8.934554389099844e-06\n",
      "fraction of ones in the PI array is 0.0009153857087741386\n"
     ]
    }
   ],
   "source": [
    "index_2_true=protein_feat_true_pd.where(protein_feat_true_pd==2)\n",
    "index_2_true_count=index_2_true.count(axis=1).sum()\n",
    "\n",
    "index_1_true=protein_feat_true_pd.where(protein_feat_true_pd==1)\n",
    "index_1_true_count=index_1_true.count(axis=1).sum()\n",
    "\n",
    "index_2_nontrue=protein_feat_non_true_pd.where(protein_feat_non_true_pd==2)\n",
    "index_2_nontrue_count=index_2_nontrue.count(axis=1).sum()\n",
    "\n",
    "index_1_nontrue=protein_feat_non_true_pd.where(protein_feat_non_true_pd==1)\n",
    "index_1_nontrue_count=index_1_nontrue.count(axis=1).sum()\n",
    "\n",
    "\n",
    "print('fraction of twos in the SL array is',index_2_true_count/(len(protein_feat_true_pd.index)*len(protein_feat_true_pd.columns)))\n",
    "print('fraction of ones in the SL array is',index_1_true_count/(len(protein_feat_true_pd.index)*len(protein_feat_true_pd.columns)))\n",
    "print('fraction of twos in the PI array is',index_2_nontrue_count/(len(protein_feat_non_true_pd.index)*len(protein_feat_non_true_pd.columns)))\n",
    "print('fraction of ones in the PI array is',index_1_nontrue_count/(len(protein_feat_non_true_pd.index)*len(protein_feat_non_true_pd.columns)))"
   ]
  },
  {
   "cell_type": "markdown",
   "metadata": {},
   "source": [
    "#### Bar plot to visualize these numbers"
   ]
  },
  {
   "cell_type": "code",
   "execution_count": 11,
   "metadata": {
    "execution": {
     "iopub.execute_input": "2020-07-17T10:29:37.141743Z",
     "iopub.status.busy": "2020-07-17T10:29:37.141231Z",
     "iopub.status.idle": "2020-07-17T10:29:37.509647Z",
     "shell.execute_reply": "2020-07-17T10:29:37.509121Z"
    }
   },
   "outputs": [
    {
     "data": {
      "text/plain": [
       "([0, 1, 2, 3], <a list of 4 Text major ticklabel objects>)"
      ]
     },
     "execution_count": 11,
     "metadata": {},
     "output_type": "execute_result"
    },
    {
     "data": {
      "image/png": "[encoded data removed]",
      "text/plain": [
       "<Figure size 432x288 with 1 Axes>"
      ]
     },
     "metadata": {
      "filenames": {
       "image/png": "/home/runner/work/jupyter-book/jupyter-book/mini_book/docs/_build/jupyter_execute/prot_domains2lethality-FEATURES-POSTPROCESSING_18_1.png"
      },
      "needs_background": "light"
     },
     "output_type": "display_data"
    }
   ],
   "source": [
    "plt.bar(['fraction of 2 in the nSL','fraction of 1 in the nSL'],[index_2_nontrue_count/(len(protein_feat_non_true_pd.index)*len(protein_feat_non_true_pd.columns)),index_1_nontrue_count/(len(protein_feat_non_true_pd.index)*len(protein_feat_non_true_pd.columns))],alpha=0.6,color=['blue','lightblue']), \n",
    "\n",
    "plt.bar(['fraction of 2 in SL ','fraction of 1 in SL'],[index_2_true_count/(len(protein_feat_true_pd.index)*len(protein_feat_true_pd.columns)),index_1_true_count/(len(protein_feat_true_pd.index)*len(protein_feat_true_pd.columns))],alpha=0.6,color=['coral','lightcoral'])\n",
    "\n",
    "plt.ylabel('Fraction from the population')\n",
    "plt.yscale('log')\n",
    "plt.xticks(rotation=40)"
   ]
  },
  {
   "cell_type": "markdown",
   "metadata": {},
   "source": [
    "#### Adding the labels(response variables) to each dataset"
   ]
  },
  {
   "cell_type": "code",
   "execution_count": 12,
   "metadata": {
    "execution": {
     "iopub.execute_input": "2020-07-17T10:29:37.515245Z",
     "iopub.status.busy": "2020-07-17T10:29:37.514260Z",
     "iopub.status.idle": "2020-07-17T10:29:37.519731Z",
     "shell.execute_reply": "2020-07-17T10:29:37.518753Z"
    }
   },
   "outputs": [],
   "source": [
    "protein_feat_true_pd['lethality']=np.ones(shape=(len(protein_a_list_new)))\n",
    "protein_feat_non_true_pd['lethality']=np.zeros(shape=(len(protein_a_list_non_new)))"
   ]
  },
  {
   "cell_type": "markdown",
   "metadata": {},
   "source": [
    "#### Joining both datasets"
   ]
  },
  {
   "cell_type": "code",
   "execution_count": 13,
   "metadata": {
    "execution": {
     "iopub.execute_input": "2020-07-17T10:29:37.524310Z",
     "iopub.status.busy": "2020-07-17T10:29:37.523809Z",
     "iopub.status.idle": "2020-07-17T10:29:37.562692Z",
     "shell.execute_reply": "2020-07-17T10:29:37.563182Z"
    }
   },
   "outputs": [
    {
     "name": "stdout",
     "output_type": "stream",
     "text": [
      "The number of features are: 3026\n",
      "The number of samples are: 834\n"
     ]
    }
   ],
   "source": [
    "feature_post=pd.concat([protein_feat_true_pd,protein_feat_non_true_pd],axis=0)\n",
    "feature_post=feature_post.set_index(np.arange(0,len(protein_a_list_new)+len(protein_a_list_non_new)))\n",
    "print('The number of features are:',feature_post.shape[1])\n",
    "print('The number of samples are:',feature_post.shape[0])"
   ]
  },
  {
   "cell_type": "markdown",
   "metadata": {},
   "source": [
    "### Postprocessing and exploration of the feature matrix of both datasets"
   ]
  },
  {
   "cell_type": "code",
   "execution_count": 14,
   "metadata": {
    "execution": {
     "iopub.execute_input": "2020-07-17T10:29:37.581807Z",
     "iopub.status.busy": "2020-07-17T10:29:37.579700Z",
     "iopub.status.idle": "2020-07-17T10:29:41.333012Z",
     "shell.execute_reply": "2020-07-17T10:29:41.332450Z"
    }
   },
   "outputs": [],
   "source": [
    "mean=feature_post.T.describe().loc['mean']\n",
    "std=feature_post.T.describe().loc['std']\n",
    "lethality=feature_post['lethality']\n",
    "\n",
    "corr_keys=pd.concat([mean,std,lethality],axis=1)"
   ]
  },
  {
   "cell_type": "markdown",
   "metadata": {},
   "source": [
    "### Viz of the stats"
   ]
  },
  {
   "cell_type": "code",
   "execution_count": 15,
   "metadata": {
    "execution": {
     "iopub.execute_input": "2020-07-17T10:29:41.347734Z",
     "iopub.status.busy": "2020-07-17T10:29:41.337763Z",
     "iopub.status.idle": "2020-07-17T10:29:42.774572Z",
     "shell.execute_reply": "2020-07-17T10:29:42.774097Z"
    }
   },
   "outputs": [
    {
     "data": {
      "text/plain": [
       "Text(0.5, 1.08, 'Pairplot to see data dependencies with Lethality')"
      ]
     },
     "execution_count": 15,
     "metadata": {},
     "output_type": "execute_result"
    },
    {
     "data": {
      "image/png": "[encoded data removed]",
      "text/plain": [
       "<Figure size 412x360 with 6 Axes>"
      ]
     },
     "metadata": {
      "filenames": {
       "image/png": "/home/runner/work/jupyter-book/jupyter-book/mini_book/docs/_build/jupyter_execute/prot_domains2lethality-FEATURES-POSTPROCESSING_26_1.png"
      },
      "needs_background": "light"
     },
     "output_type": "display_data"
    }
   ],
   "source": [
    "pair=sns.pairplot(corr_keys,hue='lethality',diag_kind='kde',kind='reg',palette='colorblind')\n",
    "pair.fig.suptitle('Pairplot to see data dependencies with Lethality',y=1.08)"
   ]
  },
  {
   "cell_type": "code",
   "execution_count": 16,
   "metadata": {
    "execution": {
     "iopub.execute_input": "2020-07-17T10:29:42.785123Z",
     "iopub.status.busy": "2020-07-17T10:29:42.779716Z",
     "iopub.status.idle": "2020-07-17T10:29:42.788034Z",
     "shell.execute_reply": "2020-07-17T10:29:42.787556Z"
    }
   },
   "outputs": [],
   "source": [
    "X, y = feature_post.drop(columns=[\"lethality\"]), feature_post[\"lethality\"]"
   ]
  },
  {
   "cell_type": "code",
   "execution_count": 17,
   "metadata": {
    "execution": {
     "iopub.execute_input": "2020-07-17T10:29:42.792649Z",
     "iopub.status.busy": "2020-07-17T10:29:42.792140Z",
     "iopub.status.idle": "2020-07-17T10:29:42.940125Z",
     "shell.execute_reply": "2020-07-17T10:29:42.939297Z"
    }
   },
   "outputs": [],
   "source": [
    "from sklearn.preprocessing import StandardScaler\n",
    "scaler = StandardScaler()\n",
    "x_sl=protein_feat_true_pd.drop(columns=['lethality'])\n",
    "x_nsl=protein_feat_non_true_pd.drop(columns=['lethality'])\n",
    "\n",
    "X_sl_scaled = scaler.fit_transform(x_sl)\n",
    "X_nsl_scaled = scaler.fit_transform(x_nsl)"
   ]
  },
  {
   "cell_type": "code",
   "execution_count": 18,
   "metadata": {
    "execution": {
     "iopub.execute_input": "2020-07-17T10:29:42.944890Z",
     "iopub.status.busy": "2020-07-17T10:29:42.944389Z",
     "iopub.status.idle": "2020-07-17T10:29:42.946716Z",
     "shell.execute_reply": "2020-07-17T10:29:42.947102Z"
    }
   },
   "outputs": [
    {
     "data": {
      "text/plain": [
       "(427, 3025)"
      ]
     },
     "execution_count": 18,
     "metadata": {},
     "output_type": "execute_result"
    }
   ],
   "source": [
    "np.shape(X_sl_scaled)"
   ]
  },
  {
   "cell_type": "markdown",
   "metadata": {},
   "source": [
    "## How redundant are each of the protein domains?"
   ]
  },
  {
   "cell_type": "code",
   "execution_count": 19,
   "metadata": {
    "execution": {
     "iopub.execute_input": "2020-07-17T10:29:42.954914Z",
     "iopub.status.busy": "2020-07-17T10:29:42.953869Z",
     "iopub.status.idle": "2020-07-17T10:29:42.955508Z",
     "shell.execute_reply": "2020-07-17T10:29:42.955923Z"
    }
   },
   "outputs": [],
   "source": [
    "def PCA_component_contribution(scaled_matrix,original_data):\n",
    "    from sklearn.decomposition import PCA\n",
    "\n",
    "    model = PCA(0.95).fit(scaled_matrix)\n",
    "    ## apply dimensionality reduction to X_train\n",
    "    output_pca = model.transform(scaled_matrix)\n",
    "    \n",
    "    total=sum(model.explained_variance_)\n",
    "\n",
    "\n",
    "   \n",
    "    # number of components , that it will be the number of main axes times the number of original components \n",
    "    n_pcs= model.components_.shape[0] # the amount of non redundant protein domains \n",
    "\n",
    "    # get the index of the most important feature on EACH component\n",
    "    # LIST COMPREHENSION HERE\n",
    "    most_important = [np.abs(model.components_[i]).argmax() for i in range(n_pcs)]\n",
    "\n",
    "    initial_feature_names = original_data.columns\n",
    "    # get the names\n",
    "    most_important_names = [initial_feature_names[most_important[i]] for i in range(n_pcs)]\n",
    "    \n",
    "\n",
    "    # LIST COMPREHENSION HERE AGAIN\n",
    "    dic = {'PC{}'.format(i): most_important_names[i] for i in range(n_pcs)}\n",
    "\n",
    "    # build the dataframe\n",
    "    df = pd.DataFrame(dic.items(),columns=['pca-component','domain-number'])\n",
    "\n",
    "    return df,model.components_"
   ]
  },
  {
   "cell_type": "code",
   "execution_count": 20,
   "metadata": {
    "execution": {
     "iopub.execute_input": "2020-07-17T10:29:42.959378Z",
     "iopub.status.busy": "2020-07-17T10:29:42.958904Z",
     "iopub.status.idle": "2020-07-17T10:29:43.549442Z",
     "shell.execute_reply": "2020-07-17T10:29:43.550173Z"
    }
   },
   "outputs": [],
   "source": [
    "df_sl,components_pca_nsl=PCA_component_contribution(X_nsl_scaled,x_nsl)\n",
    "df_nsl,components_pca_sl=PCA_component_contribution(X_sl_scaled,x_sl)"
   ]
  },
  {
   "cell_type": "code",
   "execution_count": 21,
   "metadata": {
    "execution": {
     "iopub.execute_input": "2020-07-17T10:29:43.553140Z",
     "iopub.status.busy": "2020-07-17T10:29:43.552165Z",
     "iopub.status.idle": "2020-07-17T10:29:43.562039Z",
     "shell.execute_reply": "2020-07-17T10:29:43.562719Z"
    }
   },
   "outputs": [
    {
     "data": {
      "text/html": [
       "<div>\n",
       "<style scoped>\n",
       "    .dataframe tbody tr th:only-of-type {\n",
       "        vertical-align: middle;\n",
       "    }\n",
       "\n",
       "    .dataframe tbody tr th {\n",
       "        vertical-align: top;\n",
       "    }\n",
       "\n",
       "    .dataframe thead th {\n",
       "        text-align: right;\n",
       "    }\n",
       "</style>\n",
       "<table border=\"1\" class=\"dataframe\">\n",
       "  <thead>\n",
       "    <tr style=\"text-align: right;\">\n",
       "      <th></th>\n",
       "      <th>pca-component</th>\n",
       "      <th>domain-number</th>\n",
       "    </tr>\n",
       "  </thead>\n",
       "  <tbody>\n",
       "    <tr>\n",
       "      <th>0</th>\n",
       "      <td>PC0</td>\n",
       "      <td>305</td>\n",
       "    </tr>\n",
       "    <tr>\n",
       "      <th>1</th>\n",
       "      <td>PC1</td>\n",
       "      <td>58</td>\n",
       "    </tr>\n",
       "    <tr>\n",
       "      <th>2</th>\n",
       "      <td>PC2</td>\n",
       "      <td>135</td>\n",
       "    </tr>\n",
       "    <tr>\n",
       "      <th>3</th>\n",
       "      <td>PC3</td>\n",
       "      <td>773</td>\n",
       "    </tr>\n",
       "    <tr>\n",
       "      <th>4</th>\n",
       "      <td>PC4</td>\n",
       "      <td>2771</td>\n",
       "    </tr>\n",
       "  </tbody>\n",
       "</table>\n",
       "</div>"
      ],
      "text/plain": [
       "  pca-component  domain-number\n",
       "0           PC0            305\n",
       "1           PC1             58\n",
       "2           PC2            135\n",
       "3           PC3            773\n",
       "4           PC4           2771"
      ]
     },
     "execution_count": 21,
     "metadata": {},
     "output_type": "execute_result"
    }
   ],
   "source": [
    "df_sl.head()"
   ]
  },
  {
   "cell_type": "markdown",
   "metadata": {},
   "source": [
    "## which are the shared domains between nSL and SL pairs , in the PCA reduced samples"
   ]
  },
  {
   "cell_type": "code",
   "execution_count": 22,
   "metadata": {
    "execution": {
     "iopub.execute_input": "2020-07-17T10:29:43.565548Z",
     "iopub.status.busy": "2020-07-17T10:29:43.564629Z",
     "iopub.status.idle": "2020-07-17T10:29:43.597399Z",
     "shell.execute_reply": "2020-07-17T10:29:43.598060Z"
    }
   },
   "outputs": [
    {
     "data": {
      "text/html": [
       "<div>\n",
       "<style scoped>\n",
       "    .dataframe tbody tr th:only-of-type {\n",
       "        vertical-align: middle;\n",
       "    }\n",
       "\n",
       "    .dataframe tbody tr th {\n",
       "        vertical-align: top;\n",
       "    }\n",
       "\n",
       "    .dataframe thead th {\n",
       "        text-align: right;\n",
       "    }\n",
       "</style>\n",
       "<table border=\"1\" class=\"dataframe\">\n",
       "  <thead>\n",
       "    <tr style=\"text-align: right;\">\n",
       "      <th></th>\n",
       "      <th>pca-component_x</th>\n",
       "      <th>domain-number</th>\n",
       "      <th>pca-component_y</th>\n",
       "      <th>domain-description</th>\n",
       "    </tr>\n",
       "  </thead>\n",
       "  <tbody>\n",
       "    <tr>\n",
       "      <th>0</th>\n",
       "      <td>PC0</td>\n",
       "      <td>305</td>\n",
       "      <td>PC1</td>\n",
       "      <td>Brr6_like_C_C; Brl1/Brr6 domain</td>\n",
       "    </tr>\n",
       "    <tr>\n",
       "      <th>1</th>\n",
       "      <td>PC3</td>\n",
       "      <td>773</td>\n",
       "      <td>PC47</td>\n",
       "      <td>Dynein_light; Dynein light chain, type 1/2</td>\n",
       "    </tr>\n",
       "    <tr>\n",
       "      <th>2</th>\n",
       "      <td>PC10</td>\n",
       "      <td>463</td>\n",
       "      <td>PC20</td>\n",
       "      <td>Chitin_synth_1N; Chitin synthase N-terminal</td>\n",
       "    </tr>\n",
       "    <tr>\n",
       "      <th>3</th>\n",
       "      <td>PC11</td>\n",
       "      <td>1055</td>\n",
       "      <td>PC23</td>\n",
       "      <td>Glyco_hydro_63N; Glycosyl hydrolase family 63,...</td>\n",
       "    </tr>\n",
       "    <tr>\n",
       "      <th>4</th>\n",
       "      <td>PC22</td>\n",
       "      <td>2544</td>\n",
       "      <td>PC10</td>\n",
       "      <td>Sybindin; Trafficking protein particle complex...</td>\n",
       "    </tr>\n",
       "    <tr>\n",
       "      <th>5</th>\n",
       "      <td>PC24</td>\n",
       "      <td>926</td>\n",
       "      <td>PC24</td>\n",
       "      <td>Flp_C; Recombinase Flp protein</td>\n",
       "    </tr>\n",
       "    <tr>\n",
       "      <th>6</th>\n",
       "      <td>PC27</td>\n",
       "      <td>1130</td>\n",
       "      <td>PC34</td>\n",
       "      <td>HORMA; HORMA domain</td>\n",
       "    </tr>\n",
       "    <tr>\n",
       "      <th>7</th>\n",
       "      <td>PC29</td>\n",
       "      <td>488</td>\n",
       "      <td>PC13</td>\n",
       "      <td>Cnd1_N; Condensin complex subunit 1, N-terminal</td>\n",
       "    </tr>\n",
       "    <tr>\n",
       "      <th>8</th>\n",
       "      <td>PC30</td>\n",
       "      <td>1226</td>\n",
       "      <td>PC98</td>\n",
       "      <td>IU_nuc_hydro; Inosine/uridine-preferring nucle...</td>\n",
       "    </tr>\n",
       "    <tr>\n",
       "      <th>9</th>\n",
       "      <td>PC31</td>\n",
       "      <td>369</td>\n",
       "      <td>PC54</td>\n",
       "      <td>CNH; Citron homology (CNH) domain</td>\n",
       "    </tr>\n",
       "    <tr>\n",
       "      <th>10</th>\n",
       "      <td>PC32</td>\n",
       "      <td>937</td>\n",
       "      <td>PC31</td>\n",
       "      <td>Frag1; Frag1/DRAM/Sfk1</td>\n",
       "    </tr>\n",
       "    <tr>\n",
       "      <th>11</th>\n",
       "      <td>PC40</td>\n",
       "      <td>2936</td>\n",
       "      <td>PC85</td>\n",
       "      <td>tRNA-synt_1c; Glutamyl/glutaminyl-tRNA synthet...</td>\n",
       "    </tr>\n",
       "    <tr>\n",
       "      <th>12</th>\n",
       "      <td>PC55</td>\n",
       "      <td>2936</td>\n",
       "      <td>PC85</td>\n",
       "      <td>tRNA-synt_1c; Glutamyl/glutaminyl-tRNA synthet...</td>\n",
       "    </tr>\n",
       "    <tr>\n",
       "      <th>13</th>\n",
       "      <td>PC43</td>\n",
       "      <td>684</td>\n",
       "      <td>PC232</td>\n",
       "      <td>DUF2611; Protein of unknown function DUF2611</td>\n",
       "    </tr>\n",
       "    <tr>\n",
       "      <th>14</th>\n",
       "      <td>PC44</td>\n",
       "      <td>283</td>\n",
       "      <td>PC38</td>\n",
       "      <td>BRF1; Brf1, TBP-binding domain</td>\n",
       "    </tr>\n",
       "    <tr>\n",
       "      <th>15</th>\n",
       "      <td>PC49</td>\n",
       "      <td>1358</td>\n",
       "      <td>PC72</td>\n",
       "      <td>MCM; MCM domain</td>\n",
       "    </tr>\n",
       "    <tr>\n",
       "      <th>16</th>\n",
       "      <td>PC51</td>\n",
       "      <td>165</td>\n",
       "      <td>PC48</td>\n",
       "      <td>Acyltransferase; Phospholipid/glycerol acyltra...</td>\n",
       "    </tr>\n",
       "    <tr>\n",
       "      <th>17</th>\n",
       "      <td>PC68</td>\n",
       "      <td>499</td>\n",
       "      <td>PC249</td>\n",
       "      <td>Coatomer_g_Cpla; Coatomer subunit gamma, C-ter...</td>\n",
       "    </tr>\n",
       "    <tr>\n",
       "      <th>18</th>\n",
       "      <td>PC69</td>\n",
       "      <td>499</td>\n",
       "      <td>PC249</td>\n",
       "      <td>Coatomer_g_Cpla; Coatomer subunit gamma, C-ter...</td>\n",
       "    </tr>\n",
       "    <tr>\n",
       "      <th>19</th>\n",
       "      <td>PC71</td>\n",
       "      <td>278</td>\n",
       "      <td>PC73</td>\n",
       "      <td>BPL_N; Biotin-protein ligase, N-terminal</td>\n",
       "    </tr>\n",
       "    <tr>\n",
       "      <th>20</th>\n",
       "      <td>PC73</td>\n",
       "      <td>1106</td>\n",
       "      <td>PC94</td>\n",
       "      <td>HEAT_2</td>\n",
       "    </tr>\n",
       "    <tr>\n",
       "      <th>21</th>\n",
       "      <td>PC76</td>\n",
       "      <td>1251</td>\n",
       "      <td>PC253</td>\n",
       "      <td>JmjC; JmjC domain</td>\n",
       "    </tr>\n",
       "    <tr>\n",
       "      <th>22</th>\n",
       "      <td>PC79</td>\n",
       "      <td>1251</td>\n",
       "      <td>PC253</td>\n",
       "      <td>JmjC; JmjC domain</td>\n",
       "    </tr>\n",
       "    <tr>\n",
       "      <th>23</th>\n",
       "      <td>PC98</td>\n",
       "      <td>38</td>\n",
       "      <td>PC154</td>\n",
       "      <td>ABC2_membrane; ABC-2 type transporter</td>\n",
       "    </tr>\n",
       "    <tr>\n",
       "      <th>24</th>\n",
       "      <td>PC100</td>\n",
       "      <td>876</td>\n",
       "      <td>PC56</td>\n",
       "      <td>FDX-ACB; Ferrodoxin-fold anticodon-binding domain</td>\n",
       "    </tr>\n",
       "    <tr>\n",
       "      <th>25</th>\n",
       "      <td>PC101</td>\n",
       "      <td>1048</td>\n",
       "      <td>PC282</td>\n",
       "      <td>Glyco_hydro_31; Glycoside hydrolase family 31</td>\n",
       "    </tr>\n",
       "    <tr>\n",
       "      <th>26</th>\n",
       "      <td>PC145</td>\n",
       "      <td>1048</td>\n",
       "      <td>PC282</td>\n",
       "      <td>Glyco_hydro_31; Glycoside hydrolase family 31</td>\n",
       "    </tr>\n",
       "    <tr>\n",
       "      <th>27</th>\n",
       "      <td>PC106</td>\n",
       "      <td>68</td>\n",
       "      <td>PC188</td>\n",
       "      <td>AIRC; PurE domain</td>\n",
       "    </tr>\n",
       "    <tr>\n",
       "      <th>28</th>\n",
       "      <td>PC106</td>\n",
       "      <td>68</td>\n",
       "      <td>PC191</td>\n",
       "      <td>AIRC; PurE domain</td>\n",
       "    </tr>\n",
       "    <tr>\n",
       "      <th>29</th>\n",
       "      <td>PC112</td>\n",
       "      <td>1498</td>\n",
       "      <td>PC173</td>\n",
       "      <td>MmgE_PrpD; MmgE/PrpD</td>\n",
       "    </tr>\n",
       "    <tr>\n",
       "      <th>30</th>\n",
       "      <td>PC116</td>\n",
       "      <td>2150</td>\n",
       "      <td>PC201</td>\n",
       "      <td>Ribosom_S12_S23; Ribosomal protein S12/S23</td>\n",
       "    </tr>\n",
       "    <tr>\n",
       "      <th>31</th>\n",
       "      <td>PC124</td>\n",
       "      <td>40</td>\n",
       "      <td>PC101</td>\n",
       "      <td>ABC_membrane_2; ABC transporter type 1, transm...</td>\n",
       "    </tr>\n",
       "    <tr>\n",
       "      <th>32</th>\n",
       "      <td>PC127</td>\n",
       "      <td>6</td>\n",
       "      <td>PC278</td>\n",
       "      <td>2OG-FeII_Oxy_4</td>\n",
       "    </tr>\n",
       "    <tr>\n",
       "      <th>33</th>\n",
       "      <td>PC127</td>\n",
       "      <td>6</td>\n",
       "      <td>PC281</td>\n",
       "      <td>2OG-FeII_Oxy_4</td>\n",
       "    </tr>\n",
       "    <tr>\n",
       "      <th>34</th>\n",
       "      <td>PC142</td>\n",
       "      <td>672</td>\n",
       "      <td>PC174</td>\n",
       "      <td>DUF2370; NEDD4/Bsd2</td>\n",
       "    </tr>\n",
       "    <tr>\n",
       "      <th>35</th>\n",
       "      <td>PC143</td>\n",
       "      <td>1389</td>\n",
       "      <td>PC84</td>\n",
       "      <td>MOR2-PAG1_mid; Cell morphogenesis central region</td>\n",
       "    </tr>\n",
       "    <tr>\n",
       "      <th>36</th>\n",
       "      <td>PC144</td>\n",
       "      <td>1389</td>\n",
       "      <td>PC84</td>\n",
       "      <td>MOR2-PAG1_mid; Cell morphogenesis central region</td>\n",
       "    </tr>\n",
       "    <tr>\n",
       "      <th>37</th>\n",
       "      <td>PC148</td>\n",
       "      <td>63</td>\n",
       "      <td>PC271</td>\n",
       "      <td>AICARFT_IMPCHas; AICARFT/IMPCHase bienzyme</td>\n",
       "    </tr>\n",
       "    <tr>\n",
       "      <th>38</th>\n",
       "      <td>PC148</td>\n",
       "      <td>63</td>\n",
       "      <td>PC275</td>\n",
       "      <td>AICARFT_IMPCHas; AICARFT/IMPCHase bienzyme</td>\n",
       "    </tr>\n",
       "    <tr>\n",
       "      <th>39</th>\n",
       "      <td>PC152</td>\n",
       "      <td>2125</td>\n",
       "      <td>PC156</td>\n",
       "      <td>Rer1; Retrieval of early ER protein Rer1</td>\n",
       "    </tr>\n",
       "    <tr>\n",
       "      <th>40</th>\n",
       "      <td>PC152</td>\n",
       "      <td>2125</td>\n",
       "      <td>PC284</td>\n",
       "      <td>Rer1; Retrieval of early ER protein Rer1</td>\n",
       "    </tr>\n",
       "    <tr>\n",
       "      <th>41</th>\n",
       "      <td>PC153</td>\n",
       "      <td>2125</td>\n",
       "      <td>PC156</td>\n",
       "      <td>Rer1; Retrieval of early ER protein Rer1</td>\n",
       "    </tr>\n",
       "    <tr>\n",
       "      <th>42</th>\n",
       "      <td>PC153</td>\n",
       "      <td>2125</td>\n",
       "      <td>PC284</td>\n",
       "      <td>Rer1; Retrieval of early ER protein Rer1</td>\n",
       "    </tr>\n",
       "    <tr>\n",
       "      <th>43</th>\n",
       "      <td>PC169</td>\n",
       "      <td>1174</td>\n",
       "      <td>PC40</td>\n",
       "      <td>His_biosynth; Histidine biosynthesis</td>\n",
       "    </tr>\n",
       "    <tr>\n",
       "      <th>44</th>\n",
       "      <td>PC171</td>\n",
       "      <td>11</td>\n",
       "      <td>PC277</td>\n",
       "      <td>5-FTHF_cyc-lig; 5-formyltetrahydrofolate cyclo...</td>\n",
       "    </tr>\n",
       "    <tr>\n",
       "      <th>45</th>\n",
       "      <td>PC188</td>\n",
       "      <td>613</td>\n",
       "      <td>PC257</td>\n",
       "      <td>DNA_pol_B; DNA-directed DNA polymerase, family...</td>\n",
       "    </tr>\n",
       "    <tr>\n",
       "      <th>46</th>\n",
       "      <td>PC188</td>\n",
       "      <td>613</td>\n",
       "      <td>PC267</td>\n",
       "      <td>DNA_pol_B; DNA-directed DNA polymerase, family...</td>\n",
       "    </tr>\n",
       "    <tr>\n",
       "      <th>47</th>\n",
       "      <td>PC194</td>\n",
       "      <td>613</td>\n",
       "      <td>PC257</td>\n",
       "      <td>DNA_pol_B; DNA-directed DNA polymerase, family...</td>\n",
       "    </tr>\n",
       "    <tr>\n",
       "      <th>48</th>\n",
       "      <td>PC194</td>\n",
       "      <td>613</td>\n",
       "      <td>PC267</td>\n",
       "      <td>DNA_pol_B; DNA-directed DNA polymerase, family...</td>\n",
       "    </tr>\n",
       "    <tr>\n",
       "      <th>49</th>\n",
       "      <td>PC193</td>\n",
       "      <td>161</td>\n",
       "      <td>PC148</td>\n",
       "      <td>Acyl-CoA_ox_N; Acyl-coenzyme A oxidase, N-term...</td>\n",
       "    </tr>\n",
       "    <tr>\n",
       "      <th>50</th>\n",
       "      <td>PC204</td>\n",
       "      <td>1941</td>\n",
       "      <td>PC133</td>\n",
       "      <td>Pribosyltran_N; Ribose-phosphate pyrophosphoki...</td>\n",
       "    </tr>\n",
       "    <tr>\n",
       "      <th>51</th>\n",
       "      <td>PC204</td>\n",
       "      <td>1941</td>\n",
       "      <td>PC136</td>\n",
       "      <td>Pribosyltran_N; Ribose-phosphate pyrophosphoki...</td>\n",
       "    </tr>\n",
       "    <tr>\n",
       "      <th>52</th>\n",
       "      <td>PC205</td>\n",
       "      <td>2043</td>\n",
       "      <td>PC220</td>\n",
       "      <td>RNase_P_pop3; RNase P, subunit Pop3</td>\n",
       "    </tr>\n",
       "    <tr>\n",
       "      <th>53</th>\n",
       "      <td>PC205</td>\n",
       "      <td>2043</td>\n",
       "      <td>PC235</td>\n",
       "      <td>RNase_P_pop3; RNase P, subunit Pop3</td>\n",
       "    </tr>\n",
       "    <tr>\n",
       "      <th>54</th>\n",
       "      <td>PC211</td>\n",
       "      <td>539</td>\n",
       "      <td>PC245</td>\n",
       "      <td>Cytochrom_C; Cytochrome c-like domain</td>\n",
       "    </tr>\n",
       "    <tr>\n",
       "      <th>55</th>\n",
       "      <td>PC211</td>\n",
       "      <td>539</td>\n",
       "      <td>PC251</td>\n",
       "      <td>Cytochrom_C; Cytochrome c-like domain</td>\n",
       "    </tr>\n",
       "    <tr>\n",
       "      <th>56</th>\n",
       "      <td>PC218</td>\n",
       "      <td>510</td>\n",
       "      <td>PC63</td>\n",
       "      <td>Cpn10; GroES chaperonin family</td>\n",
       "    </tr>\n",
       "    <tr>\n",
       "      <th>57</th>\n",
       "      <td>PC222</td>\n",
       "      <td>4</td>\n",
       "      <td>PC206</td>\n",
       "      <td>2-oxoacid_dh; 2-oxoacid dehydrogenase acyltran...</td>\n",
       "    </tr>\n",
       "    <tr>\n",
       "      <th>58</th>\n",
       "      <td>PC251</td>\n",
       "      <td>2952</td>\n",
       "      <td>PC157</td>\n",
       "      <td>tRNA_int_end_N2; tRNA-splicing endonuclease, s...</td>\n",
       "    </tr>\n",
       "    <tr>\n",
       "      <th>59</th>\n",
       "      <td>PC258</td>\n",
       "      <td>67</td>\n",
       "      <td>PC78</td>\n",
       "      <td>AIP3; Actin interacting protein 3, C-terminal</td>\n",
       "    </tr>\n",
       "  </tbody>\n",
       "</table>\n",
       "</div>"
      ],
      "text/plain": [
       "   pca-component_x  domain-number pca-component_y  \\\n",
       "0              PC0            305             PC1   \n",
       "1              PC3            773            PC47   \n",
       "2             PC10            463            PC20   \n",
       "3             PC11           1055            PC23   \n",
       "4             PC22           2544            PC10   \n",
       "5             PC24            926            PC24   \n",
       "6             PC27           1130            PC34   \n",
       "7             PC29            488            PC13   \n",
       "8             PC30           1226            PC98   \n",
       "9             PC31            369            PC54   \n",
       "10            PC32            937            PC31   \n",
       "11            PC40           2936            PC85   \n",
       "12            PC55           2936            PC85   \n",
       "13            PC43            684           PC232   \n",
       "14            PC44            283            PC38   \n",
       "15            PC49           1358            PC72   \n",
       "16            PC51            165            PC48   \n",
       "17            PC68            499           PC249   \n",
       "18            PC69            499           PC249   \n",
       "19            PC71            278            PC73   \n",
       "20            PC73           1106            PC94   \n",
       "21            PC76           1251           PC253   \n",
       "22            PC79           1251           PC253   \n",
       "23            PC98             38           PC154   \n",
       "24           PC100            876            PC56   \n",
       "25           PC101           1048           PC282   \n",
       "26           PC145           1048           PC282   \n",
       "27           PC106             68           PC188   \n",
       "28           PC106             68           PC191   \n",
       "29           PC112           1498           PC173   \n",
       "30           PC116           2150           PC201   \n",
       "31           PC124             40           PC101   \n",
       "32           PC127              6           PC278   \n",
       "33           PC127              6           PC281   \n",
       "34           PC142            672           PC174   \n",
       "35           PC143           1389            PC84   \n",
       "36           PC144           1389            PC84   \n",
       "37           PC148             63           PC271   \n",
       "38           PC148             63           PC275   \n",
       "39           PC152           2125           PC156   \n",
       "40           PC152           2125           PC284   \n",
       "41           PC153           2125           PC156   \n",
       "42           PC153           2125           PC284   \n",
       "43           PC169           1174            PC40   \n",
       "44           PC171             11           PC277   \n",
       "45           PC188            613           PC257   \n",
       "46           PC188            613           PC267   \n",
       "47           PC194            613           PC257   \n",
       "48           PC194            613           PC267   \n",
       "49           PC193            161           PC148   \n",
       "50           PC204           1941           PC133   \n",
       "51           PC204           1941           PC136   \n",
       "52           PC205           2043           PC220   \n",
       "53           PC205           2043           PC235   \n",
       "54           PC211            539           PC245   \n",
       "55           PC211            539           PC251   \n",
       "56           PC218            510            PC63   \n",
       "57           PC222              4           PC206   \n",
       "58           PC251           2952           PC157   \n",
       "59           PC258             67            PC78   \n",
       "\n",
       "                                   domain-description  \n",
       "0                     Brr6_like_C_C; Brl1/Brr6 domain  \n",
       "1          Dynein_light; Dynein light chain, type 1/2  \n",
       "2         Chitin_synth_1N; Chitin synthase N-terminal  \n",
       "3   Glyco_hydro_63N; Glycosyl hydrolase family 63,...  \n",
       "4   Sybindin; Trafficking protein particle complex...  \n",
       "5                      Flp_C; Recombinase Flp protein  \n",
       "6                                 HORMA; HORMA domain  \n",
       "7     Cnd1_N; Condensin complex subunit 1, N-terminal  \n",
       "8   IU_nuc_hydro; Inosine/uridine-preferring nucle...  \n",
       "9                   CNH; Citron homology (CNH) domain  \n",
       "10                             Frag1; Frag1/DRAM/Sfk1  \n",
       "11  tRNA-synt_1c; Glutamyl/glutaminyl-tRNA synthet...  \n",
       "12  tRNA-synt_1c; Glutamyl/glutaminyl-tRNA synthet...  \n",
       "13       DUF2611; Protein of unknown function DUF2611  \n",
       "14                     BRF1; Brf1, TBP-binding domain  \n",
       "15                                    MCM; MCM domain  \n",
       "16  Acyltransferase; Phospholipid/glycerol acyltra...  \n",
       "17  Coatomer_g_Cpla; Coatomer subunit gamma, C-ter...  \n",
       "18  Coatomer_g_Cpla; Coatomer subunit gamma, C-ter...  \n",
       "19           BPL_N; Biotin-protein ligase, N-terminal  \n",
       "20                                             HEAT_2  \n",
       "21                                  JmjC; JmjC domain  \n",
       "22                                  JmjC; JmjC domain  \n",
       "23              ABC2_membrane; ABC-2 type transporter  \n",
       "24  FDX-ACB; Ferrodoxin-fold anticodon-binding domain  \n",
       "25      Glyco_hydro_31; Glycoside hydrolase family 31  \n",
       "26      Glyco_hydro_31; Glycoside hydrolase family 31  \n",
       "27                                  AIRC; PurE domain  \n",
       "28                                  AIRC; PurE domain  \n",
       "29                               MmgE_PrpD; MmgE/PrpD  \n",
       "30         Ribosom_S12_S23; Ribosomal protein S12/S23  \n",
       "31  ABC_membrane_2; ABC transporter type 1, transm...  \n",
       "32                                     2OG-FeII_Oxy_4  \n",
       "33                                     2OG-FeII_Oxy_4  \n",
       "34                                DUF2370; NEDD4/Bsd2  \n",
       "35   MOR2-PAG1_mid; Cell morphogenesis central region  \n",
       "36   MOR2-PAG1_mid; Cell morphogenesis central region  \n",
       "37         AICARFT_IMPCHas; AICARFT/IMPCHase bienzyme  \n",
       "38         AICARFT_IMPCHas; AICARFT/IMPCHase bienzyme  \n",
       "39           Rer1; Retrieval of early ER protein Rer1  \n",
       "40           Rer1; Retrieval of early ER protein Rer1  \n",
       "41           Rer1; Retrieval of early ER protein Rer1  \n",
       "42           Rer1; Retrieval of early ER protein Rer1  \n",
       "43               His_biosynth; Histidine biosynthesis  \n",
       "44  5-FTHF_cyc-lig; 5-formyltetrahydrofolate cyclo...  \n",
       "45  DNA_pol_B; DNA-directed DNA polymerase, family...  \n",
       "46  DNA_pol_B; DNA-directed DNA polymerase, family...  \n",
       "47  DNA_pol_B; DNA-directed DNA polymerase, family...  \n",
       "48  DNA_pol_B; DNA-directed DNA polymerase, family...  \n",
       "49  Acyl-CoA_ox_N; Acyl-coenzyme A oxidase, N-term...  \n",
       "50  Pribosyltran_N; Ribose-phosphate pyrophosphoki...  \n",
       "51  Pribosyltran_N; Ribose-phosphate pyrophosphoki...  \n",
       "52                RNase_P_pop3; RNase P, subunit Pop3  \n",
       "53                RNase_P_pop3; RNase P, subunit Pop3  \n",
       "54              Cytochrom_C; Cytochrome c-like domain  \n",
       "55              Cytochrom_C; Cytochrome c-like domain  \n",
       "56                     Cpn10; GroES chaperonin family  \n",
       "57  2-oxoacid_dh; 2-oxoacid dehydrogenase acyltran...  \n",
       "58  tRNA_int_end_N2; tRNA-splicing endonuclease, s...  \n",
       "59      AIP3; Actin interacting protein 3, C-terminal  "
      ]
     },
     "execution_count": 22,
     "metadata": {},
     "output_type": "execute_result"
    }
   ],
   "source": [
    "df_shared_domains=pd.merge(df_sl,df_nsl,how='inner',on='domain-number')\n",
    "domains_name=np.unique(data_domains['domain-name'])\n",
    "domains_description=np.unique(data_domains['domain-descrip'])\n",
    "\n",
    "df_shared_domains['domain-description']=domains_description[df_shared_domains['domain-number']]\n",
    "\n",
    "\n",
    "df_shared_domains"
   ]
  },
  {
   "cell_type": "code",
   "execution_count": 23,
   "metadata": {
    "execution": {
     "iopub.execute_input": "2020-07-17T10:29:43.601156Z",
     "iopub.status.busy": "2020-07-17T10:29:43.600076Z",
     "iopub.status.idle": "2020-07-17T10:29:43.607189Z",
     "shell.execute_reply": "2020-07-17T10:29:43.607840Z"
    }
   },
   "outputs": [
    {
     "name": "stdout",
     "output_type": "stream",
     "text": [
      "The number of shared domains between SL and nSL pairs,after PCA, is =  60 out of 558 so the 10.75268817204301 %\n"
     ]
    }
   ],
   "source": [
    "print('The number of shared domains between SL and nSL pairs,after PCA, is = ',len(df_shared_domains), 'out of', len(df_sl)+len(df_nsl), 'so the',100*len(df_shared_domains)/(len(df_sl)+len(df_nsl)),'%')"
   ]
  },
  {
   "cell_type": "markdown",
   "metadata": {},
   "source": [
    "## Domains exclusive to SL"
   ]
  },
  {
   "cell_type": "code",
   "execution_count": 24,
   "metadata": {
    "execution": {
     "iopub.execute_input": "2020-07-17T10:29:43.610739Z",
     "iopub.status.busy": "2020-07-17T10:29:43.609786Z",
     "iopub.status.idle": "2020-07-17T10:29:43.638760Z",
     "shell.execute_reply": "2020-07-17T10:29:43.639420Z"
    }
   },
   "outputs": [
    {
     "data": {
      "text/html": [
       "<div>\n",
       "<style scoped>\n",
       "    .dataframe tbody tr th:only-of-type {\n",
       "        vertical-align: middle;\n",
       "    }\n",
       "\n",
       "    .dataframe tbody tr th {\n",
       "        vertical-align: top;\n",
       "    }\n",
       "\n",
       "    .dataframe thead th {\n",
       "        text-align: right;\n",
       "    }\n",
       "</style>\n",
       "<table border=\"1\" class=\"dataframe\">\n",
       "  <thead>\n",
       "    <tr style=\"text-align: right;\">\n",
       "      <th></th>\n",
       "      <th>pca-component_x</th>\n",
       "      <th>domain-number</th>\n",
       "      <th>pca-component_y</th>\n",
       "      <th>domain-description</th>\n",
       "    </tr>\n",
       "  </thead>\n",
       "  <tbody>\n",
       "    <tr>\n",
       "      <th>1</th>\n",
       "      <td>PC1</td>\n",
       "      <td>58</td>\n",
       "      <td>NaN</td>\n",
       "      <td>AEP1; ATPase expression protein 1</td>\n",
       "    </tr>\n",
       "    <tr>\n",
       "      <th>2</th>\n",
       "      <td>PC2</td>\n",
       "      <td>135</td>\n",
       "      <td>NaN</td>\n",
       "      <td>ATP-synt_ab_Xtn; ATPsynthase alpha/beta subuni...</td>\n",
       "    </tr>\n",
       "    <tr>\n",
       "      <th>4</th>\n",
       "      <td>PC4</td>\n",
       "      <td>2771</td>\n",
       "      <td>NaN</td>\n",
       "      <td>Ubiq-assoc; Ubiquitin-associated domain, SWA2-...</td>\n",
       "    </tr>\n",
       "    <tr>\n",
       "      <th>5</th>\n",
       "      <td>PC5</td>\n",
       "      <td>2233</td>\n",
       "      <td>NaN</td>\n",
       "      <td>Ribosomal_S27e; Ribosomal protein S27e</td>\n",
       "    </tr>\n",
       "    <tr>\n",
       "      <th>6</th>\n",
       "      <td>PC6</td>\n",
       "      <td>142</td>\n",
       "      <td>NaN</td>\n",
       "      <td>ATP_synt_H; ATPase, V0 complex, subunit e1/e2</td>\n",
       "    </tr>\n",
       "    <tr>\n",
       "      <th>...</th>\n",
       "      <td>...</td>\n",
       "      <td>...</td>\n",
       "      <td>...</td>\n",
       "      <td>...</td>\n",
       "    </tr>\n",
       "    <tr>\n",
       "      <th>277</th>\n",
       "      <td>PC267</td>\n",
       "      <td>1264</td>\n",
       "      <td>NaN</td>\n",
       "      <td>Kdo; Lipopolysaccharide kinase</td>\n",
       "    </tr>\n",
       "    <tr>\n",
       "      <th>278</th>\n",
       "      <td>PC268</td>\n",
       "      <td>637</td>\n",
       "      <td>NaN</td>\n",
       "      <td>DUF1279; Domain of unknown function DUF1279</td>\n",
       "    </tr>\n",
       "    <tr>\n",
       "      <th>279</th>\n",
       "      <td>PC269</td>\n",
       "      <td>1593</td>\n",
       "      <td>NaN</td>\n",
       "      <td>NUC173; Uncharacterised domain NUC173</td>\n",
       "    </tr>\n",
       "    <tr>\n",
       "      <th>280</th>\n",
       "      <td>PC270</td>\n",
       "      <td>1593</td>\n",
       "      <td>NaN</td>\n",
       "      <td>NUC173; Uncharacterised domain NUC173</td>\n",
       "    </tr>\n",
       "    <tr>\n",
       "      <th>281</th>\n",
       "      <td>PC271</td>\n",
       "      <td>1773</td>\n",
       "      <td>NaN</td>\n",
       "      <td>PIN_4; PIN domain</td>\n",
       "    </tr>\n",
       "  </tbody>\n",
       "</table>\n",
       "<p>222 rows × 4 columns</p>\n",
       "</div>"
      ],
      "text/plain": [
       "    pca-component_x  domain-number pca-component_y  \\\n",
       "1               PC1             58             NaN   \n",
       "2               PC2            135             NaN   \n",
       "4               PC4           2771             NaN   \n",
       "5               PC5           2233             NaN   \n",
       "6               PC6            142             NaN   \n",
       "..              ...            ...             ...   \n",
       "277           PC267           1264             NaN   \n",
       "278           PC268            637             NaN   \n",
       "279           PC269           1593             NaN   \n",
       "280           PC270           1593             NaN   \n",
       "281           PC271           1773             NaN   \n",
       "\n",
       "                                    domain-description  \n",
       "1                    AEP1; ATPase expression protein 1  \n",
       "2    ATP-synt_ab_Xtn; ATPsynthase alpha/beta subuni...  \n",
       "4    Ubiq-assoc; Ubiquitin-associated domain, SWA2-...  \n",
       "5               Ribosomal_S27e; Ribosomal protein S27e  \n",
       "6        ATP_synt_H; ATPase, V0 complex, subunit e1/e2  \n",
       "..                                                 ...  \n",
       "277                     Kdo; Lipopolysaccharide kinase  \n",
       "278        DUF1279; Domain of unknown function DUF1279  \n",
       "279              NUC173; Uncharacterised domain NUC173  \n",
       "280              NUC173; Uncharacterised domain NUC173  \n",
       "281                                  PIN_4; PIN domain  \n",
       "\n",
       "[222 rows x 4 columns]"
      ]
     },
     "execution_count": 24,
     "metadata": {},
     "output_type": "execute_result"
    }
   ],
   "source": [
    "df_sl_exclusive=pd.merge(df_sl,df_nsl,how='left',on='domain-number')\n",
    "\n",
    "domains_name=np.unique(data_domains['domain-name'])\n",
    "domains_description=np.unique(data_domains['domain-descrip'])\n",
    "\n",
    "df_sl_exclusive['domain-description']=domains_description[df_sl_exclusive['domain-number']]\n",
    "df_sl_exclusive[pd.isnull(df_sl_exclusive['pca-component_y'])]"
   ]
  },
  {
   "cell_type": "code",
   "execution_count": 25,
   "metadata": {
    "execution": {
     "iopub.execute_input": "2020-07-17T10:29:43.642445Z",
     "iopub.status.busy": "2020-07-17T10:29:43.641377Z",
     "iopub.status.idle": "2020-07-17T10:29:43.648108Z",
     "shell.execute_reply": "2020-07-17T10:29:43.648751Z"
    }
   },
   "outputs": [
    {
     "name": "stdout",
     "output_type": "stream",
     "text": [
      "The number of exclusive domains from SL pairs, after PCA, is =  282 out of 558 so the 50.53763440860215 %\n"
     ]
    }
   ],
   "source": [
    "print('The number of exclusive domains from SL pairs, after PCA, is = ',len(df_sl_exclusive), 'out of', len(df_sl)+len(df_nsl), 'so the',100*len(df_sl_exclusive)/(len(df_sl)+len(df_nsl)),'%')"
   ]
  },
  {
   "cell_type": "code",
   "execution_count": 26,
   "metadata": {
    "execution": {
     "iopub.execute_input": "2020-07-17T10:29:43.651742Z",
     "iopub.status.busy": "2020-07-17T10:29:43.650743Z",
     "iopub.status.idle": "2020-07-17T10:29:43.681934Z",
     "shell.execute_reply": "2020-07-17T10:29:43.682331Z"
    }
   },
   "outputs": [
    {
     "data": {
      "text/html": [
       "<div>\n",
       "<style scoped>\n",
       "    .dataframe tbody tr th:only-of-type {\n",
       "        vertical-align: middle;\n",
       "    }\n",
       "\n",
       "    .dataframe tbody tr th {\n",
       "        vertical-align: top;\n",
       "    }\n",
       "\n",
       "    .dataframe thead th {\n",
       "        text-align: right;\n",
       "    }\n",
       "</style>\n",
       "<table border=\"1\" class=\"dataframe\">\n",
       "  <thead>\n",
       "    <tr style=\"text-align: right;\">\n",
       "      <th></th>\n",
       "      <th>pca-component_x</th>\n",
       "      <th>domain-number</th>\n",
       "      <th>pca-component_y</th>\n",
       "      <th>domain-description</th>\n",
       "    </tr>\n",
       "  </thead>\n",
       "  <tbody>\n",
       "    <tr>\n",
       "      <th>60</th>\n",
       "      <td>NaN</td>\n",
       "      <td>1028</td>\n",
       "      <td>PC0</td>\n",
       "      <td>GatB_Yqey; Asn/Gln amidotransferase</td>\n",
       "    </tr>\n",
       "    <tr>\n",
       "      <th>61</th>\n",
       "      <td>NaN</td>\n",
       "      <td>1252</td>\n",
       "      <td>PC2</td>\n",
       "      <td>JmjN; JmjN domain</td>\n",
       "    </tr>\n",
       "    <tr>\n",
       "      <th>62</th>\n",
       "      <td>NaN</td>\n",
       "      <td>268</td>\n",
       "      <td>PC3</td>\n",
       "      <td>BHD_3; Rad4 beta-hairpin domain 3</td>\n",
       "    </tr>\n",
       "    <tr>\n",
       "      <th>63</th>\n",
       "      <td>NaN</td>\n",
       "      <td>1425</td>\n",
       "      <td>PC4</td>\n",
       "      <td>Mannosyl_trans; Mannosyltransferase, DXD</td>\n",
       "    </tr>\n",
       "    <tr>\n",
       "      <th>64</th>\n",
       "      <td>NaN</td>\n",
       "      <td>2113</td>\n",
       "      <td>PC5</td>\n",
       "      <td>Rav1p_C; RAVE complex protein Rav1 C-terminal</td>\n",
       "    </tr>\n",
       "    <tr>\n",
       "      <th>...</th>\n",
       "      <td>...</td>\n",
       "      <td>...</td>\n",
       "      <td>...</td>\n",
       "      <td>...</td>\n",
       "    </tr>\n",
       "    <tr>\n",
       "      <th>290</th>\n",
       "      <td>NaN</td>\n",
       "      <td>158</td>\n",
       "      <td>PC273</td>\n",
       "      <td>Aconitase_C; Aconitase A/isopropylmalate dehyd...</td>\n",
       "    </tr>\n",
       "    <tr>\n",
       "      <th>291</th>\n",
       "      <td>NaN</td>\n",
       "      <td>2195</td>\n",
       "      <td>PC274</td>\n",
       "      <td>Ribosomal_L36; Ribosomal protein L36</td>\n",
       "    </tr>\n",
       "    <tr>\n",
       "      <th>292</th>\n",
       "      <td>NaN</td>\n",
       "      <td>1784</td>\n",
       "      <td>PC276</td>\n",
       "      <td>PMP1_2; Plasma membrane ATPase proteolipid</td>\n",
       "    </tr>\n",
       "    <tr>\n",
       "      <th>293</th>\n",
       "      <td>NaN</td>\n",
       "      <td>77</td>\n",
       "      <td>PC279</td>\n",
       "      <td>AMP-binding; AMP-dependent synthetase/ligase</td>\n",
       "    </tr>\n",
       "    <tr>\n",
       "      <th>294</th>\n",
       "      <td>NaN</td>\n",
       "      <td>618</td>\n",
       "      <td>PC285</td>\n",
       "      <td>DNA_pol_alpha_N; DNA polymerase alpha catalyti...</td>\n",
       "    </tr>\n",
       "  </tbody>\n",
       "</table>\n",
       "<p>235 rows × 4 columns</p>\n",
       "</div>"
      ],
      "text/plain": [
       "    pca-component_x  domain-number pca-component_y  \\\n",
       "60              NaN           1028             PC0   \n",
       "61              NaN           1252             PC2   \n",
       "62              NaN            268             PC3   \n",
       "63              NaN           1425             PC4   \n",
       "64              NaN           2113             PC5   \n",
       "..              ...            ...             ...   \n",
       "290             NaN            158           PC273   \n",
       "291             NaN           2195           PC274   \n",
       "292             NaN           1784           PC276   \n",
       "293             NaN             77           PC279   \n",
       "294             NaN            618           PC285   \n",
       "\n",
       "                                    domain-description  \n",
       "60                 GatB_Yqey; Asn/Gln amidotransferase  \n",
       "61                                   JmjN; JmjN domain  \n",
       "62                   BHD_3; Rad4 beta-hairpin domain 3  \n",
       "63            Mannosyl_trans; Mannosyltransferase, DXD  \n",
       "64       Rav1p_C; RAVE complex protein Rav1 C-terminal  \n",
       "..                                                 ...  \n",
       "290  Aconitase_C; Aconitase A/isopropylmalate dehyd...  \n",
       "291               Ribosomal_L36; Ribosomal protein L36  \n",
       "292         PMP1_2; Plasma membrane ATPase proteolipid  \n",
       "293       AMP-binding; AMP-dependent synthetase/ligase  \n",
       "294  DNA_pol_alpha_N; DNA polymerase alpha catalyti...  \n",
       "\n",
       "[235 rows x 4 columns]"
      ]
     },
     "execution_count": 26,
     "metadata": {},
     "output_type": "execute_result"
    }
   ],
   "source": [
    "df_nsl_exclusive=pd.merge(df_sl,df_nsl,how='right',on='domain-number')\n",
    "\n",
    "domains_name=np.unique(data_domains['domain-name'])\n",
    "domains_description=np.unique(data_domains['domain-descrip'])\n",
    "\n",
    "df_nsl_exclusive['domain-description']=domains_description[df_nsl_exclusive['domain-number']]\n",
    "df_nsl_exclusive[pd.isnull(df_nsl_exclusive['pca-component_x'])]"
   ]
  },
  {
   "cell_type": "code",
   "execution_count": 27,
   "metadata": {
    "execution": {
     "iopub.execute_input": "2020-07-17T10:29:43.687544Z",
     "iopub.status.busy": "2020-07-17T10:29:43.686296Z",
     "iopub.status.idle": "2020-07-17T10:29:43.690622Z",
     "shell.execute_reply": "2020-07-17T10:29:43.690198Z"
    }
   },
   "outputs": [
    {
     "name": "stdout",
     "output_type": "stream",
     "text": [
      "The number of exclusive domains from non SL pairs, after PCA, is =  295 out of 558 so the 52.867383512544805 %\n"
     ]
    }
   ],
   "source": [
    "print('The number of exclusive domains from non SL pairs, after PCA, is = ',len(df_nsl_exclusive), 'out of', len(df_sl)+len(df_nsl), 'so the',100*len(df_nsl_exclusive)/(len(df_sl)+len(df_nsl)),'%')"
   ]
  },
  {
   "cell_type": "markdown",
   "metadata": {},
   "source": [
    "## Let see to the domains-number that get repeated after the PCA analysis , and selecting the most explanatory feature by its explained variance."
   ]
  },
  {
   "cell_type": "code",
   "execution_count": 28,
   "metadata": {
    "execution": {
     "iopub.execute_input": "2020-07-17T10:29:43.712649Z",
     "iopub.status.busy": "2020-07-17T10:29:43.710881Z",
     "iopub.status.idle": "2020-07-17T10:29:43.715191Z",
     "shell.execute_reply": "2020-07-17T10:29:43.715673Z"
    }
   },
   "outputs": [],
   "source": [
    "duplicated_features_sl=df_sl[df_sl.iloc[:,1].duplicated()]\n",
    "repeated_features_sl=pd.DataFrame()\n",
    "\n",
    "domains_name=np.unique(data_domains['domain-name'])\n",
    "domains_description=np.unique(data_domains['domain-descrip'])\n",
    "\n",
    "repeated_features_sl['domain-name']=domains_name[duplicated_features_sl.iloc[:,1]] \n",
    "repeated_features_sl['domain-description']=domains_description[duplicated_features_sl.iloc[:,1]]\n",
    "\n",
    "duplicated_features_nsl=df_nsl[df_nsl.iloc[:,1].duplicated()]\n",
    "repeated_features_nsl=pd.DataFrame()\n",
    "\n",
    "repeated_features_nsl['domain-name']=domains_name[duplicated_features_nsl.iloc[:,1]] \n",
    "repeated_features_nsl['domain-description']=domains_description[duplicated_features_nsl.iloc[:,1]]"
   ]
  },
  {
   "cell_type": "code",
   "execution_count": 29,
   "metadata": {
    "execution": {
     "iopub.execute_input": "2020-07-17T10:29:43.724201Z",
     "iopub.status.busy": "2020-07-17T10:29:43.723082Z",
     "iopub.status.idle": "2020-07-17T10:29:43.729840Z",
     "shell.execute_reply": "2020-07-17T10:29:43.730201Z"
    }
   },
   "outputs": [
    {
     "name": "stderr",
     "output_type": "stream",
     "text": [
      "/usr/share/miniconda3/envs/wintest/lib/python3.7/site-packages/ipykernel_launcher.py:3: SettingWithCopyWarning: \n",
      "A value is trying to be set on a copy of a slice from a DataFrame.\n",
      "Try using .loc[row_indexer,col_indexer] = value instead\n",
      "\n",
      "See the caveats in the documentation: https://pandas.pydata.org/pandas-docs/stable/user_guide/indexing.html#returning-a-view-versus-a-copy\n",
      "  This is separate from the ipykernel package so we can avoid doing imports until\n"
     ]
    },
    {
     "data": {
      "text/plain": [
       "((41, 4), (282, 4))"
      ]
     },
     "execution_count": 29,
     "metadata": {},
     "output_type": "execute_result"
    }
   ],
   "source": [
    "only_sl_pd=pd.merge(repeated_features_sl,repeated_features_nsl,how='left',on=['domain-name'])\n",
    "data_only_sl = only_sl_pd[pd.isnull(only_sl_pd['domain-description_y'])]\n",
    "data_only_sl['domain-description']=data_only_sl['domain-description_x']\n",
    "data_only_sl.shape,df_sl_exclusive.shape"
   ]
  },
  {
   "cell_type": "code",
   "execution_count": 30,
   "metadata": {
    "execution": {
     "iopub.execute_input": "2020-07-17T10:29:43.748928Z",
     "iopub.status.busy": "2020-07-17T10:29:43.748159Z",
     "iopub.status.idle": "2020-07-17T10:29:43.754368Z",
     "shell.execute_reply": "2020-07-17T10:29:43.753862Z"
    }
   },
   "outputs": [
    {
     "data": {
      "text/html": [
       "<div>\n",
       "<style scoped>\n",
       "    .dataframe tbody tr th:only-of-type {\n",
       "        vertical-align: middle;\n",
       "    }\n",
       "\n",
       "    .dataframe tbody tr th {\n",
       "        vertical-align: top;\n",
       "    }\n",
       "\n",
       "    .dataframe thead th {\n",
       "        text-align: right;\n",
       "    }\n",
       "</style>\n",
       "<table border=\"1\" class=\"dataframe\">\n",
       "  <thead>\n",
       "    <tr style=\"text-align: right;\">\n",
       "      <th></th>\n",
       "      <th>domain-name</th>\n",
       "      <th>domain-description_x</th>\n",
       "      <th>domain-description_y</th>\n",
       "    </tr>\n",
       "  </thead>\n",
       "  <tbody>\n",
       "    <tr>\n",
       "      <th>2</th>\n",
       "      <td>PF00122</td>\n",
       "      <td>NaN</td>\n",
       "      <td>ADK</td>\n",
       "    </tr>\n",
       "    <tr>\n",
       "      <th>3</th>\n",
       "      <td>PF00617</td>\n",
       "      <td>NaN</td>\n",
       "      <td>BolA; BolA protein</td>\n",
       "    </tr>\n",
       "    <tr>\n",
       "      <th>4</th>\n",
       "      <td>PF02463</td>\n",
       "      <td>NaN</td>\n",
       "      <td>FSH1; Serine hydrolase FSH</td>\n",
       "    </tr>\n",
       "    <tr>\n",
       "      <th>5</th>\n",
       "      <td>PF04091</td>\n",
       "      <td>NaN</td>\n",
       "      <td>Ketoacyl-synt_C; Beta-ketoacyl synthase, C-ter...</td>\n",
       "    </tr>\n",
       "    <tr>\n",
       "      <th>6</th>\n",
       "      <td>PF13848</td>\n",
       "      <td>NaN</td>\n",
       "      <td>Transferase</td>\n",
       "    </tr>\n",
       "    <tr>\n",
       "      <th>7</th>\n",
       "      <td>PF09079</td>\n",
       "      <td>NaN</td>\n",
       "      <td>RRT14; Regulator of rDNA transcription 14</td>\n",
       "    </tr>\n",
       "    <tr>\n",
       "      <th>8</th>\n",
       "      <td>PF09079</td>\n",
       "      <td>NaN</td>\n",
       "      <td>RRT14; Regulator of rDNA transcription 14</td>\n",
       "    </tr>\n",
       "    <tr>\n",
       "      <th>9</th>\n",
       "      <td>PF05064</td>\n",
       "      <td>NaN</td>\n",
       "      <td>Mis12; Centromere protein Mis12</td>\n",
       "    </tr>\n",
       "    <tr>\n",
       "      <th>10</th>\n",
       "      <td>PF05739</td>\n",
       "      <td>NaN</td>\n",
       "      <td>NPCC; Nuclear pore complex component</td>\n",
       "    </tr>\n",
       "    <tr>\n",
       "      <th>11</th>\n",
       "      <td>PF05739</td>\n",
       "      <td>NaN</td>\n",
       "      <td>NPCC; Nuclear pore complex component</td>\n",
       "    </tr>\n",
       "    <tr>\n",
       "      <th>12</th>\n",
       "      <td>PF06428</td>\n",
       "      <td>NaN</td>\n",
       "      <td>OB_NTP_bind; Domain of unknown function DUF1605</td>\n",
       "    </tr>\n",
       "    <tr>\n",
       "      <th>13</th>\n",
       "      <td>PF04628</td>\n",
       "      <td>NaN</td>\n",
       "      <td>MPC; Mitochondrial pyruvate carrier</td>\n",
       "    </tr>\n",
       "    <tr>\n",
       "      <th>14</th>\n",
       "      <td>PF03907</td>\n",
       "      <td>NaN</td>\n",
       "      <td>IATP; Mitochondrial ATPase inhibitor</td>\n",
       "    </tr>\n",
       "    <tr>\n",
       "      <th>15</th>\n",
       "      <td>PF04048</td>\n",
       "      <td>NaN</td>\n",
       "      <td>Ist1; Vacuolar protein sorting-associated prot...</td>\n",
       "    </tr>\n",
       "    <tr>\n",
       "      <th>16</th>\n",
       "      <td>PF10422</td>\n",
       "      <td>NaN</td>\n",
       "      <td>SAP30_Sin3_bdg; Histone deacetylase complex su...</td>\n",
       "    </tr>\n",
       "    <tr>\n",
       "      <th>17</th>\n",
       "      <td>PF05179</td>\n",
       "      <td>NaN</td>\n",
       "      <td>Mob1_phocein; MOB kinase activator family</td>\n",
       "    </tr>\n",
       "    <tr>\n",
       "      <th>18</th>\n",
       "      <td>PF05179</td>\n",
       "      <td>NaN</td>\n",
       "      <td>Mob1_phocein; MOB kinase activator family</td>\n",
       "    </tr>\n",
       "    <tr>\n",
       "      <th>19</th>\n",
       "      <td>PF04051</td>\n",
       "      <td>NaN</td>\n",
       "      <td>JAB; JAB1/MPN/MOV34 metalloenzyme domain</td>\n",
       "    </tr>\n",
       "    <tr>\n",
       "      <th>20</th>\n",
       "      <td>PF12550</td>\n",
       "      <td>NaN</td>\n",
       "      <td>Sortilin-Vps10; Sortilin, N-terminal</td>\n",
       "    </tr>\n",
       "    <tr>\n",
       "      <th>21</th>\n",
       "      <td>PF00628</td>\n",
       "      <td>NaN</td>\n",
       "      <td>C1_1; Protein kinase C-like, phorbol ester/dia...</td>\n",
       "    </tr>\n",
       "    <tr>\n",
       "      <th>22</th>\n",
       "      <td>PF08550</td>\n",
       "      <td>NaN</td>\n",
       "      <td>Pribosyltran_N; Ribose-phosphate pyrophosphoki...</td>\n",
       "    </tr>\n",
       "    <tr>\n",
       "      <th>23</th>\n",
       "      <td>PF01423</td>\n",
       "      <td>NaN</td>\n",
       "      <td>DNA_topoisoIV; DNA topoisomerase, type IIA, su...</td>\n",
       "    </tr>\n",
       "    <tr>\n",
       "      <th>24</th>\n",
       "      <td>PF09770</td>\n",
       "      <td>NaN</td>\n",
       "      <td>Ribosomal_L18A; Ribosomal protein 50S-L18Ae/60...</td>\n",
       "    </tr>\n",
       "    <tr>\n",
       "      <th>25</th>\n",
       "      <td>PF09810</td>\n",
       "      <td>NaN</td>\n",
       "      <td>Ribosomal_L29; Ribosomal protein L29/L36</td>\n",
       "    </tr>\n",
       "    <tr>\n",
       "      <th>26</th>\n",
       "      <td>PF07690</td>\n",
       "      <td>NaN</td>\n",
       "      <td>PHD_2</td>\n",
       "    </tr>\n",
       "    <tr>\n",
       "      <th>27</th>\n",
       "      <td>PF00276</td>\n",
       "      <td>NaN</td>\n",
       "      <td>ATP11</td>\n",
       "    </tr>\n",
       "    <tr>\n",
       "      <th>28</th>\n",
       "      <td>PF08568</td>\n",
       "      <td>NaN</td>\n",
       "      <td>Prp19; Pre-mRNA-splicing factor 19</td>\n",
       "    </tr>\n",
       "    <tr>\n",
       "      <th>29</th>\n",
       "      <td>PF00115</td>\n",
       "      <td>NaN</td>\n",
       "      <td>ACPS; 4&amp;apos;-phosphopantetheinyl transferase ...</td>\n",
       "    </tr>\n",
       "    <tr>\n",
       "      <th>30</th>\n",
       "      <td>PF00443</td>\n",
       "      <td>NaN</td>\n",
       "      <td>Anticodon_1; Methionyl/Valyl/Leucyl/Isoleucyl-...</td>\n",
       "    </tr>\n",
       "    <tr>\n",
       "      <th>31</th>\n",
       "      <td>PF09138</td>\n",
       "      <td>NaN</td>\n",
       "      <td>RTC_insert; RNA 3&amp;apos;-terminal phosphate cyc...</td>\n",
       "    </tr>\n",
       "    <tr>\n",
       "      <th>32</th>\n",
       "      <td>PF11957</td>\n",
       "      <td>NaN</td>\n",
       "      <td>Sec16; Sec16, central conserved domain</td>\n",
       "    </tr>\n",
       "    <tr>\n",
       "      <th>33</th>\n",
       "      <td>PF04478</td>\n",
       "      <td>NaN</td>\n",
       "      <td>MCM_OB; MCM OB domain</td>\n",
       "    </tr>\n",
       "    <tr>\n",
       "      <th>34</th>\n",
       "      <td>PF04478</td>\n",
       "      <td>NaN</td>\n",
       "      <td>MCM_OB; MCM OB domain</td>\n",
       "    </tr>\n",
       "    <tr>\n",
       "      <th>35</th>\n",
       "      <td>PF00153</td>\n",
       "      <td>NaN</td>\n",
       "      <td>AIRC; PurE domain</td>\n",
       "    </tr>\n",
       "    <tr>\n",
       "      <th>36</th>\n",
       "      <td>PF02441</td>\n",
       "      <td>NaN</td>\n",
       "      <td>FMN_dh; FMN-dependent dehydrogenase</td>\n",
       "    </tr>\n",
       "    <tr>\n",
       "      <th>37</th>\n",
       "      <td>PF11976</td>\n",
       "      <td>NaN</td>\n",
       "      <td>Sec20</td>\n",
       "    </tr>\n",
       "    <tr>\n",
       "      <th>38</th>\n",
       "      <td>PF11976</td>\n",
       "      <td>NaN</td>\n",
       "      <td>Sec20</td>\n",
       "    </tr>\n",
       "    <tr>\n",
       "      <th>39</th>\n",
       "      <td>PF03911</td>\n",
       "      <td>NaN</td>\n",
       "      <td>IBR; IBR domain</td>\n",
       "    </tr>\n",
       "    <tr>\n",
       "      <th>40</th>\n",
       "      <td>PF02966</td>\n",
       "      <td>NaN</td>\n",
       "      <td>GXGXG; Glutamate synthase, alpha subunit, C-te...</td>\n",
       "    </tr>\n",
       "    <tr>\n",
       "      <th>41</th>\n",
       "      <td>PF08737</td>\n",
       "      <td>NaN</td>\n",
       "      <td>RNase_P_pop3; RNase P, subunit Pop3</td>\n",
       "    </tr>\n",
       "    <tr>\n",
       "      <th>42</th>\n",
       "      <td>PF08631</td>\n",
       "      <td>NaN</td>\n",
       "      <td>RLI; RNase L inhibitor RLI, possible metal-bin...</td>\n",
       "    </tr>\n",
       "    <tr>\n",
       "      <th>43</th>\n",
       "      <td>PF08631</td>\n",
       "      <td>NaN</td>\n",
       "      <td>RLI; RNase L inhibitor RLI, possible metal-bin...</td>\n",
       "    </tr>\n",
       "    <tr>\n",
       "      <th>44</th>\n",
       "      <td>PF02724</td>\n",
       "      <td>NaN</td>\n",
       "      <td>Fmp27_WPPW; FMP27, WPPW  domain</td>\n",
       "    </tr>\n",
       "    <tr>\n",
       "      <th>45</th>\n",
       "      <td>PF00365</td>\n",
       "      <td>NaN</td>\n",
       "      <td>AlaDh_PNT_N; Alanine dehydrogenase/pyridine nu...</td>\n",
       "    </tr>\n",
       "    <tr>\n",
       "      <th>46</th>\n",
       "      <td>PF13824</td>\n",
       "      <td>NaN</td>\n",
       "      <td>Topo_C_assoc; Topoisomerase I C-terminal domain</td>\n",
       "    </tr>\n",
       "    <tr>\n",
       "      <th>47</th>\n",
       "      <td>PF13824</td>\n",
       "      <td>NaN</td>\n",
       "      <td>Topo_C_assoc; Topoisomerase I C-terminal domain</td>\n",
       "    </tr>\n",
       "    <tr>\n",
       "      <th>48</th>\n",
       "      <td>PF13824</td>\n",
       "      <td>NaN</td>\n",
       "      <td>Topo_C_assoc; Topoisomerase I C-terminal domain</td>\n",
       "    </tr>\n",
       "    <tr>\n",
       "      <th>49</th>\n",
       "      <td>PF01201</td>\n",
       "      <td>NaN</td>\n",
       "      <td>Cytochrom_C; Cytochrome c-like domain</td>\n",
       "    </tr>\n",
       "    <tr>\n",
       "      <th>50</th>\n",
       "      <td>PF01053</td>\n",
       "      <td>NaN</td>\n",
       "      <td>Chromo; Chromo domain</td>\n",
       "    </tr>\n",
       "    <tr>\n",
       "      <th>51</th>\n",
       "      <td>PF10075</td>\n",
       "      <td>NaN</td>\n",
       "      <td>Ribosomal_L35Ae; Ribosomal protein L35A</td>\n",
       "    </tr>\n",
       "    <tr>\n",
       "      <th>52</th>\n",
       "      <td>PF01619</td>\n",
       "      <td>NaN</td>\n",
       "      <td>DUF3020; Domain of unknown function DUF3020</td>\n",
       "    </tr>\n",
       "    <tr>\n",
       "      <th>53</th>\n",
       "      <td>PF00137</td>\n",
       "      <td>NaN</td>\n",
       "      <td>AICARFT_IMPCHas; AICARFT/IMPCHase bienzyme</td>\n",
       "    </tr>\n",
       "    <tr>\n",
       "      <th>54</th>\n",
       "      <td>PF16899</td>\n",
       "      <td>NaN</td>\n",
       "      <td>tRNA-synt_2; Aminoacyl-tRNA synthetase, class ...</td>\n",
       "    </tr>\n",
       "    <tr>\n",
       "      <th>55</th>\n",
       "      <td>PF00012</td>\n",
       "      <td>NaN</td>\n",
       "      <td>2OG-FeII_Oxy_4</td>\n",
       "    </tr>\n",
       "  </tbody>\n",
       "</table>\n",
       "</div>"
      ],
      "text/plain": [
       "   domain-name domain-description_x  \\\n",
       "2      PF00122                  NaN   \n",
       "3      PF00617                  NaN   \n",
       "4      PF02463                  NaN   \n",
       "5      PF04091                  NaN   \n",
       "6      PF13848                  NaN   \n",
       "7      PF09079                  NaN   \n",
       "8      PF09079                  NaN   \n",
       "9      PF05064                  NaN   \n",
       "10     PF05739                  NaN   \n",
       "11     PF05739                  NaN   \n",
       "12     PF06428                  NaN   \n",
       "13     PF04628                  NaN   \n",
       "14     PF03907                  NaN   \n",
       "15     PF04048                  NaN   \n",
       "16     PF10422                  NaN   \n",
       "17     PF05179                  NaN   \n",
       "18     PF05179                  NaN   \n",
       "19     PF04051                  NaN   \n",
       "20     PF12550                  NaN   \n",
       "21     PF00628                  NaN   \n",
       "22     PF08550                  NaN   \n",
       "23     PF01423                  NaN   \n",
       "24     PF09770                  NaN   \n",
       "25     PF09810                  NaN   \n",
       "26     PF07690                  NaN   \n",
       "27     PF00276                  NaN   \n",
       "28     PF08568                  NaN   \n",
       "29     PF00115                  NaN   \n",
       "30     PF00443                  NaN   \n",
       "31     PF09138                  NaN   \n",
       "32     PF11957                  NaN   \n",
       "33     PF04478                  NaN   \n",
       "34     PF04478                  NaN   \n",
       "35     PF00153                  NaN   \n",
       "36     PF02441                  NaN   \n",
       "37     PF11976                  NaN   \n",
       "38     PF11976                  NaN   \n",
       "39     PF03911                  NaN   \n",
       "40     PF02966                  NaN   \n",
       "41     PF08737                  NaN   \n",
       "42     PF08631                  NaN   \n",
       "43     PF08631                  NaN   \n",
       "44     PF02724                  NaN   \n",
       "45     PF00365                  NaN   \n",
       "46     PF13824                  NaN   \n",
       "47     PF13824                  NaN   \n",
       "48     PF13824                  NaN   \n",
       "49     PF01201                  NaN   \n",
       "50     PF01053                  NaN   \n",
       "51     PF10075                  NaN   \n",
       "52     PF01619                  NaN   \n",
       "53     PF00137                  NaN   \n",
       "54     PF16899                  NaN   \n",
       "55     PF00012                  NaN   \n",
       "\n",
       "                                 domain-description_y  \n",
       "2                                                 ADK  \n",
       "3                                  BolA; BolA protein  \n",
       "4                          FSH1; Serine hydrolase FSH  \n",
       "5   Ketoacyl-synt_C; Beta-ketoacyl synthase, C-ter...  \n",
       "6                                         Transferase  \n",
       "7           RRT14; Regulator of rDNA transcription 14  \n",
       "8           RRT14; Regulator of rDNA transcription 14  \n",
       "9                     Mis12; Centromere protein Mis12  \n",
       "10               NPCC; Nuclear pore complex component  \n",
       "11               NPCC; Nuclear pore complex component  \n",
       "12    OB_NTP_bind; Domain of unknown function DUF1605  \n",
       "13                MPC; Mitochondrial pyruvate carrier  \n",
       "14               IATP; Mitochondrial ATPase inhibitor  \n",
       "15  Ist1; Vacuolar protein sorting-associated prot...  \n",
       "16  SAP30_Sin3_bdg; Histone deacetylase complex su...  \n",
       "17          Mob1_phocein; MOB kinase activator family  \n",
       "18          Mob1_phocein; MOB kinase activator family  \n",
       "19           JAB; JAB1/MPN/MOV34 metalloenzyme domain  \n",
       "20               Sortilin-Vps10; Sortilin, N-terminal  \n",
       "21  C1_1; Protein kinase C-like, phorbol ester/dia...  \n",
       "22  Pribosyltran_N; Ribose-phosphate pyrophosphoki...  \n",
       "23  DNA_topoisoIV; DNA topoisomerase, type IIA, su...  \n",
       "24  Ribosomal_L18A; Ribosomal protein 50S-L18Ae/60...  \n",
       "25           Ribosomal_L29; Ribosomal protein L29/L36  \n",
       "26                                              PHD_2  \n",
       "27                                              ATP11  \n",
       "28                 Prp19; Pre-mRNA-splicing factor 19  \n",
       "29  ACPS; 4&apos;-phosphopantetheinyl transferase ...  \n",
       "30  Anticodon_1; Methionyl/Valyl/Leucyl/Isoleucyl-...  \n",
       "31  RTC_insert; RNA 3&apos;-terminal phosphate cyc...  \n",
       "32             Sec16; Sec16, central conserved domain  \n",
       "33                              MCM_OB; MCM OB domain  \n",
       "34                              MCM_OB; MCM OB domain  \n",
       "35                                  AIRC; PurE domain  \n",
       "36                FMN_dh; FMN-dependent dehydrogenase  \n",
       "37                                              Sec20  \n",
       "38                                              Sec20  \n",
       "39                                    IBR; IBR domain  \n",
       "40  GXGXG; Glutamate synthase, alpha subunit, C-te...  \n",
       "41                RNase_P_pop3; RNase P, subunit Pop3  \n",
       "42  RLI; RNase L inhibitor RLI, possible metal-bin...  \n",
       "43  RLI; RNase L inhibitor RLI, possible metal-bin...  \n",
       "44                    Fmp27_WPPW; FMP27, WPPW  domain  \n",
       "45  AlaDh_PNT_N; Alanine dehydrogenase/pyridine nu...  \n",
       "46    Topo_C_assoc; Topoisomerase I C-terminal domain  \n",
       "47    Topo_C_assoc; Topoisomerase I C-terminal domain  \n",
       "48    Topo_C_assoc; Topoisomerase I C-terminal domain  \n",
       "49              Cytochrom_C; Cytochrome c-like domain  \n",
       "50                              Chromo; Chromo domain  \n",
       "51            Ribosomal_L35Ae; Ribosomal protein L35A  \n",
       "52        DUF3020; Domain of unknown function DUF3020  \n",
       "53         AICARFT_IMPCHas; AICARFT/IMPCHase bienzyme  \n",
       "54  tRNA-synt_2; Aminoacyl-tRNA synthetase, class ...  \n",
       "55                                     2OG-FeII_Oxy_4  "
      ]
     },
     "execution_count": 30,
     "metadata": {},
     "output_type": "execute_result"
    }
   ],
   "source": [
    "only_nsl_pd=pd.merge(repeated_features_sl,repeated_features_nsl,how='right',on=['domain-name'])\n",
    "data_only_nsl = only_nsl_pd[pd.isnull(only_nsl_pd['domain-description_x'])]\n",
    "data_only_nsl"
   ]
  },
  {
   "cell_type": "code",
   "execution_count": 31,
   "metadata": {
    "execution": {
     "iopub.execute_input": "2020-07-17T10:29:43.765218Z",
     "iopub.status.busy": "2020-07-17T10:29:43.764699Z",
     "iopub.status.idle": "2020-07-17T10:29:43.770171Z",
     "shell.execute_reply": "2020-07-17T10:29:43.769738Z"
    }
   },
   "outputs": [
    {
     "data": {
      "text/html": [
       "<div>\n",
       "<style scoped>\n",
       "    .dataframe tbody tr th:only-of-type {\n",
       "        vertical-align: middle;\n",
       "    }\n",
       "\n",
       "    .dataframe tbody tr th {\n",
       "        vertical-align: top;\n",
       "    }\n",
       "\n",
       "    .dataframe thead th {\n",
       "        text-align: right;\n",
       "    }\n",
       "</style>\n",
       "<table border=\"1\" class=\"dataframe\">\n",
       "  <thead>\n",
       "    <tr style=\"text-align: right;\">\n",
       "      <th></th>\n",
       "      <th>domain-name</th>\n",
       "      <th>domain-description_x</th>\n",
       "      <th>domain-description_y</th>\n",
       "    </tr>\n",
       "  </thead>\n",
       "  <tbody>\n",
       "    <tr>\n",
       "      <th>0</th>\n",
       "      <td>PF09444</td>\n",
       "      <td>Rer1; Retrieval of early ER protein Rer1</td>\n",
       "      <td>Rer1; Retrieval of early ER protein Rer1</td>\n",
       "    </tr>\n",
       "    <tr>\n",
       "      <th>1</th>\n",
       "      <td>PF01399</td>\n",
       "      <td>DNA_pol_B; DNA-directed DNA polymerase, family...</td>\n",
       "      <td>DNA_pol_B; DNA-directed DNA polymerase, family...</td>\n",
       "    </tr>\n",
       "  </tbody>\n",
       "</table>\n",
       "</div>"
      ],
      "text/plain": [
       "  domain-name                               domain-description_x  \\\n",
       "0     PF09444           Rer1; Retrieval of early ER protein Rer1   \n",
       "1     PF01399  DNA_pol_B; DNA-directed DNA polymerase, family...   \n",
       "\n",
       "                                domain-description_y  \n",
       "0           Rer1; Retrieval of early ER protein Rer1  \n",
       "1  DNA_pol_B; DNA-directed DNA polymerase, family...  "
      ]
     },
     "execution_count": 31,
     "metadata": {},
     "output_type": "execute_result"
    }
   ],
   "source": [
    "shared_domains_pd=pd.merge(repeated_features_sl,repeated_features_nsl,how='inner',on=['domain-name'])\n",
    "shared_domains_pd\n"
   ]
  },
  {
   "cell_type": "code",
   "execution_count": 32,
   "metadata": {
    "execution": {
     "iopub.execute_input": "2020-07-17T10:29:43.785593Z",
     "iopub.status.busy": "2020-07-17T10:29:43.778586Z",
     "iopub.status.idle": "2020-07-17T10:29:45.049342Z",
     "shell.execute_reply": "2020-07-17T10:29:45.048893Z"
    }
   },
   "outputs": [
    {
     "data": {
      "text/plain": [
       "(0.0, 0.2)"
      ]
     },
     "execution_count": 32,
     "metadata": {},
     "output_type": "execute_result"
    },
    {
     "data": {
      "image/png": "[encoded data removed]",
      "text/plain": [
       "<Figure size 432x288 with 1 Axes>"
      ]
     },
     "metadata": {
      "filenames": {
       "image/png": "/home/runner/work/jupyter-book/jupyter-book/mini_book/docs/_build/jupyter_execute/prot_domains2lethality-FEATURES-POSTPROCESSING_47_1.png"
      },
      "needs_background": "light"
     },
     "output_type": "display_data"
    }
   ],
   "source": [
    "a_sl=x_sl.iloc[:,np.sort(df_sl.iloc[:,1])]\n",
    "a_sl.describe().loc['mean'].hist(bins=8),\n",
    "a_sl.describe().loc['std'].hist(bins=8,alpha=0.4)\n",
    "plt.xlim([0,0.2])"
   ]
  },
  {
   "cell_type": "code",
   "execution_count": 33,
   "metadata": {
    "execution": {
     "iopub.execute_input": "2020-07-17T10:29:45.064446Z",
     "iopub.status.busy": "2020-07-17T10:29:45.058090Z",
     "iopub.status.idle": "2020-07-17T10:29:46.427412Z",
     "shell.execute_reply": "2020-07-17T10:29:46.426383Z"
    }
   },
   "outputs": [
    {
     "data": {
      "text/plain": [
       "(0.0, 0.2)"
      ]
     },
     "execution_count": 33,
     "metadata": {},
     "output_type": "execute_result"
    },
    {
     "data": {
      "image/png": "[encoded data removed]",
      "text/plain": [
       "<Figure size 432x288 with 1 Axes>"
      ]
     },
     "metadata": {
      "filenames": {
       "image/png": "/home/runner/work/jupyter-book/jupyter-book/mini_book/docs/_build/jupyter_execute/prot_domains2lethality-FEATURES-POSTPROCESSING_48_1.png"
      },
      "needs_background": "light"
     },
     "output_type": "display_data"
    }
   ],
   "source": [
    "a_nsl=x_nsl.iloc[:,np.sort(df_nsl.iloc[:,1])]\n",
    "a_nsl.describe().loc['mean'].hist(bins=8),\n",
    "a_nsl.describe().loc['std'].hist(bins=8,alpha=0.4)\n",
    "plt.xlim([0,0.2])"
   ]
  },
  {
   "cell_type": "markdown",
   "metadata": {},
   "source": [
    "### Proof of concept with *BEM1*\n",
    "\n",
    "- Gather the domains of SL and nSL pairs from BEM1\n",
    "- Check if the domains for the SL and nSL pairs are inside the most important domains after PCA."
   ]
  },
  {
   "cell_type": "code",
   "execution_count": 34,
   "metadata": {
    "execution": {
     "iopub.execute_input": "2020-07-17T10:29:46.435339Z",
     "iopub.status.busy": "2020-07-17T10:29:46.434825Z",
     "iopub.status.idle": "2020-07-17T10:29:46.437952Z",
     "shell.execute_reply": "2020-07-17T10:29:46.438373Z"
    }
   },
   "outputs": [],
   "source": [
    "domains_bem1=data_domains[data_domains['name']=='BEM1']['domain-descrip']\n",
    "sl_bem1=data_sl[data_sl['gene-query-name']=='BEM1']['gene-target-name']"
   ]
  },
  {
   "cell_type": "code",
   "execution_count": 35,
   "metadata": {
    "execution": {
     "iopub.execute_input": "2020-07-17T10:29:46.442994Z",
     "iopub.status.busy": "2020-07-17T10:29:46.442495Z",
     "iopub.status.idle": "2020-07-17T10:29:46.447124Z",
     "shell.execute_reply": "2020-07-17T10:29:46.447518Z"
    }
   },
   "outputs": [
    {
     "data": {
      "text/plain": [
       "2846      BEM2\n",
       "2847     CDC24\n",
       "5004      MSB1\n",
       "13777     SMI1\n",
       "13778     BNI1\n",
       "13779     BEM2\n",
       "14385     SKN7\n",
       "Name: gene-target-name, dtype: object"
      ]
     },
     "execution_count": 35,
     "metadata": {},
     "output_type": "execute_result"
    }
   ],
   "source": [
    "sl_bem1"
   ]
  },
  {
   "cell_type": "code",
   "execution_count": 36,
   "metadata": {
    "execution": {
     "iopub.execute_input": "2020-07-17T10:29:46.461011Z",
     "iopub.status.busy": "2020-07-17T10:29:46.460507Z",
     "iopub.status.idle": "2020-07-17T10:29:46.465777Z",
     "shell.execute_reply": "2020-07-17T10:29:46.465231Z"
    }
   },
   "outputs": [
    {
     "data": {
      "text/html": [
       "<div>\n",
       "<style scoped>\n",
       "    .dataframe tbody tr th:only-of-type {\n",
       "        vertical-align: middle;\n",
       "    }\n",
       "\n",
       "    .dataframe tbody tr th {\n",
       "        vertical-align: top;\n",
       "    }\n",
       "\n",
       "    .dataframe thead th {\n",
       "        text-align: right;\n",
       "    }\n",
       "</style>\n",
       "<table border=\"1\" class=\"dataframe\">\n",
       "  <thead>\n",
       "    <tr style=\"text-align: right;\">\n",
       "      <th></th>\n",
       "      <th>gene-query</th>\n",
       "      <th>gene-target</th>\n",
       "      <th>gene-query-name</th>\n",
       "      <th>gene-target-name</th>\n",
       "      <th>gene-query-description</th>\n",
       "      <th>gene-target-description</th>\n",
       "      <th>interaction-type</th>\n",
       "      <th>paper-source</th>\n",
       "    </tr>\n",
       "  </thead>\n",
       "  <tbody>\n",
       "    <tr>\n",
       "      <th>2846</th>\n",
       "      <td>YBR200W</td>\n",
       "      <td>YER155C</td>\n",
       "      <td>BEM1</td>\n",
       "      <td>BEM2</td>\n",
       "      <td>SRO1|phosphatidylinositol-3-phosphate-binding ...</td>\n",
       "      <td>IPL2|SUP9|TSL1|L000000168</td>\n",
       "      <td>Synthetic Lethality</td>\n",
       "      <td>Peterson J (1994)</td>\n",
       "    </tr>\n",
       "    <tr>\n",
       "      <th>2847</th>\n",
       "      <td>YBR200W</td>\n",
       "      <td>YAL041W</td>\n",
       "      <td>BEM1</td>\n",
       "      <td>CDC24</td>\n",
       "      <td>SRO1|phosphatidylinositol-3-phosphate-binding ...</td>\n",
       "      <td>CLS4|Rho family guanine nucleotide exchange fa...</td>\n",
       "      <td>Synthetic Lethality</td>\n",
       "      <td>Peterson J (1994)</td>\n",
       "    </tr>\n",
       "    <tr>\n",
       "      <th>5004</th>\n",
       "      <td>YBR200W</td>\n",
       "      <td>YOR188W</td>\n",
       "      <td>BEM1</td>\n",
       "      <td>MSB1</td>\n",
       "      <td>SRO1|phosphatidylinositol-3-phosphate-binding ...</td>\n",
       "      <td>L000001184</td>\n",
       "      <td>Synthetic Lethality</td>\n",
       "      <td>Bender A (1991)</td>\n",
       "    </tr>\n",
       "    <tr>\n",
       "      <th>13777</th>\n",
       "      <td>YBR200W</td>\n",
       "      <td>YGR229C</td>\n",
       "      <td>BEM1</td>\n",
       "      <td>SMI1</td>\n",
       "      <td>SRO1|phosphatidylinositol-3-phosphate-binding ...</td>\n",
       "      <td>KNR4|L000000909</td>\n",
       "      <td>Synthetic Lethality</td>\n",
       "      <td>Gorelik M (2011)</td>\n",
       "    </tr>\n",
       "    <tr>\n",
       "      <th>13778</th>\n",
       "      <td>YBR200W</td>\n",
       "      <td>YNL271C</td>\n",
       "      <td>BEM1</td>\n",
       "      <td>BNI1</td>\n",
       "      <td>SRO1|phosphatidylinositol-3-phosphate-binding ...</td>\n",
       "      <td>PPF3|SHE5|formin BNI1|L000000190</td>\n",
       "      <td>Synthetic Lethality</td>\n",
       "      <td>Gorelik M (2011)</td>\n",
       "    </tr>\n",
       "    <tr>\n",
       "      <th>13779</th>\n",
       "      <td>YBR200W</td>\n",
       "      <td>YER155C</td>\n",
       "      <td>BEM1</td>\n",
       "      <td>BEM2</td>\n",
       "      <td>SRO1|phosphatidylinositol-3-phosphate-binding ...</td>\n",
       "      <td>IPL2|SUP9|TSL1|L000000168</td>\n",
       "      <td>Synthetic Lethality</td>\n",
       "      <td>Gorelik M (2011)</td>\n",
       "    </tr>\n",
       "    <tr>\n",
       "      <th>14385</th>\n",
       "      <td>YBR200W</td>\n",
       "      <td>YHR206W</td>\n",
       "      <td>BEM1</td>\n",
       "      <td>SKN7</td>\n",
       "      <td>SRO1|phosphatidylinositol-3-phosphate-binding ...</td>\n",
       "      <td>BRY1|POS9|kinase-regulated stress-responsive t...</td>\n",
       "      <td>Dosage Lethality</td>\n",
       "      <td>Bouquin N (1999)</td>\n",
       "    </tr>\n",
       "  </tbody>\n",
       "</table>\n",
       "</div>"
      ],
      "text/plain": [
       "      gene-query gene-target gene-query-name gene-target-name  \\\n",
       "2846     YBR200W     YER155C            BEM1             BEM2   \n",
       "2847     YBR200W     YAL041W            BEM1            CDC24   \n",
       "5004     YBR200W     YOR188W            BEM1             MSB1   \n",
       "13777    YBR200W     YGR229C            BEM1             SMI1   \n",
       "13778    YBR200W     YNL271C            BEM1             BNI1   \n",
       "13779    YBR200W     YER155C            BEM1             BEM2   \n",
       "14385    YBR200W     YHR206W            BEM1             SKN7   \n",
       "\n",
       "                                  gene-query-description  \\\n",
       "2846   SRO1|phosphatidylinositol-3-phosphate-binding ...   \n",
       "2847   SRO1|phosphatidylinositol-3-phosphate-binding ...   \n",
       "5004   SRO1|phosphatidylinositol-3-phosphate-binding ...   \n",
       "13777  SRO1|phosphatidylinositol-3-phosphate-binding ...   \n",
       "13778  SRO1|phosphatidylinositol-3-phosphate-binding ...   \n",
       "13779  SRO1|phosphatidylinositol-3-phosphate-binding ...   \n",
       "14385  SRO1|phosphatidylinositol-3-phosphate-binding ...   \n",
       "\n",
       "                                 gene-target-description     interaction-type  \\\n",
       "2846                           IPL2|SUP9|TSL1|L000000168  Synthetic Lethality   \n",
       "2847   CLS4|Rho family guanine nucleotide exchange fa...  Synthetic Lethality   \n",
       "5004                                          L000001184  Synthetic Lethality   \n",
       "13777                                    KNR4|L000000909  Synthetic Lethality   \n",
       "13778                   PPF3|SHE5|formin BNI1|L000000190  Synthetic Lethality   \n",
       "13779                          IPL2|SUP9|TSL1|L000000168  Synthetic Lethality   \n",
       "14385  BRY1|POS9|kinase-regulated stress-responsive t...     Dosage Lethality   \n",
       "\n",
       "            paper-source  \n",
       "2846   Peterson J (1994)  \n",
       "2847   Peterson J (1994)  \n",
       "5004     Bender A (1991)  \n",
       "13777   Gorelik M (2011)  \n",
       "13778   Gorelik M (2011)  \n",
       "13779   Gorelik M (2011)  \n",
       "14385   Bouquin N (1999)  "
      ]
     },
     "execution_count": 36,
     "metadata": {},
     "output_type": "execute_result"
    }
   ],
   "source": [
    "data_sl[data_sl['gene-query-name']=='BEM1']"
   ]
  },
  {
   "cell_type": "code",
   "execution_count": null,
   "metadata": {},
   "outputs": [],
   "source": []
  }
 ],
 "metadata": {
  "jupytext": {
   "text_representation": {
    "extension": ".md",
    "format_name": "myst"
   }
  },
  "kernelspec": {
   "display_name": "Python 3",
   "language": "python",
   "name": "python3"
  },
  "language_info": {
   "codemirror_mode": {
    "name": "ipython",
    "version": 3
   },
   "file_extension": ".py",
   "mimetype": "text/x-python",
   "name": "python",
   "nbconvert_exporter": "python",
   "pygments_lexer": "ipython3",
   "version": "3.7.6"
  },
  "source_map": [
   10,
   18,
   29,
   36,
   57,
   66,
   98,
   101,
   105,
   128,
   131,
   135,
   139,
   145,
   178,
   184,
   188,
   206,
   210,
   218,
   222,
   225,
   229,
   234,
   238,
   244,
   248,
   253,
   257,
   267,
   269,
   273,
   306,
   311,
   313,
   317,
   328,
   330,
   334,
   344,
   348,
   358,
   360,
   364,
   381,
   388,
   394,
   400,
   407,
   412,
   419,
   424,
   428,
   432
  ]
 },
 "nbformat": 4,
 "nbformat_minor": 4
}