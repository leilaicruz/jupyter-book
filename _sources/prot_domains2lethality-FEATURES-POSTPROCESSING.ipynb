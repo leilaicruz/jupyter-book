{
 "cells": [
  {
   "cell_type": "markdown",
   "metadata": {},
   "source": [
    "# Feature postprocessing from paper.\n",
    "- Title:  \"Predicting yeast synthetic lethal genetic interactions using protein domains\"\n",
    "- Authors: Bo Li, Feng Luo,School of Computing,Clemson University,Clemson, SC, USA\n",
    "- e-mail: bol, luofeng@clemson.edu\n",
    "- year:2009"
   ]
  },
  {
   "cell_type": "code",
   "execution_count": 1,
   "metadata": {
    "execution": {
     "iopub.execute_input": "2020-07-17T15:15:16.610357Z",
     "iopub.status.busy": "2020-07-17T15:15:16.609725Z",
     "iopub.status.idle": "2020-07-17T15:15:17.386834Z",
     "shell.execute_reply": "2020-07-17T15:15:17.387354Z"
    }
   },
   "outputs": [],
   "source": [
    "import pandas as pd\n",
    "import numpy as np\n",
    "import matplotlib.pyplot as plt\n",
    "from collections import defaultdict \n",
    "import seaborn as sns\n",
    "import matplotlib.cm as cm\n",
    "import scipy as scipy\n",
    "import random"
   ]
  },
  {
   "cell_type": "markdown",
   "metadata": {
    "jupyter": {
     "source_hidden": true
    }
   },
   "source": [
    "### Importing datasets \n",
    "\n",
    "#### Link to the github repo where the datasets to be downloaded:\n",
    "[DOWNLOAD THE DATASETS HERE](https://github.com/leilaicruz/machine-learning-for-yeast/tree/dev_Leila/datasets-for-learning)"
   ]
  },
  {
   "cell_type": "code",
   "execution_count": 2,
   "metadata": {
    "execution": {
     "iopub.execute_input": "2020-07-17T15:15:17.395907Z",
     "iopub.status.busy": "2020-07-17T15:15:17.394720Z",
     "iopub.status.idle": "2020-07-17T15:15:25.112697Z",
     "shell.execute_reply": "2020-07-17T15:15:25.113192Z"
    }
   },
   "outputs": [],
   "source": [
    "import os\n",
    "script_dir = os.path.dirname('__file__') #<-- absolute dir the script is in\n",
    "rel_path_SL = \"datasets/data-synthetic-lethals.xlsx\"\n",
    "rel_path_nSL=\"datasets/data-positive-genetic.xlsx\"\n",
    "rel_path_domains=\"datasets/proteins-domains-from-Pfam.xlsx\"\n",
    "\n",
    "abs_file_path_SL = os.path.join(script_dir, rel_path_SL)\n",
    "abs_file_path_nSL = os.path.join(script_dir, rel_path_nSL)\n",
    "abs_file_path_domains = os.path.join(script_dir, rel_path_domains)\n",
    "\n",
    "# os.chdir('mini_book/docs/') #<-- for binder os.chdir('../')\n",
    "# os.chdir('../')\n",
    "my_path_sl= abs_file_path_SL\n",
    "my_path_non_sl=abs_file_path_nSL\n",
    "my_path_domains=abs_file_path_domains\n",
    "\n",
    "data_sl=pd.read_excel(my_path_sl,header=0)\n",
    "data_domains=pd.read_excel(my_path_domains,header=0,index_col='Unnamed: 0')\n",
    "data_domains=data_domains.dropna()\n",
    "data_nonsl=pd.read_excel(my_path_non_sl,header=0)"
   ]
  },
  {
   "cell_type": "markdown",
   "metadata": {},
   "source": [
    "## Building the feature matrix\n",
    "One matrix for true SL where each row is one pair of SL. Every raw will be a vector of 0,1 or 2 depending on the comparison with the domain list. For row i the jth element = 0 if the jth element of the domain list is not in neither protein A and B, 1, if it is in one of them and 2 if it is in both of them .\n",
    "\n",
    "### Building the list of proteins domains id per protein pair separately :\n",
    "- List of protein A: Search for the Sl/nSL database the query gene name and look in the protein domain database which protein domains id has each of those queries.\n",
    "- List of protein B: Search for the Sl/nSL database the target gene name of the previous query and look in the protein domain database which protein domains id has each of those target genes."
   ]
  },
  {
   "cell_type": "code",
   "execution_count": 3,
   "metadata": {
    "execution": {
     "iopub.execute_input": "2020-07-17T15:15:25.131003Z",
     "iopub.status.busy": "2020-07-17T15:15:25.130370Z",
     "iopub.status.idle": "2020-07-17T15:15:27.488301Z",
     "shell.execute_reply": "2020-07-17T15:15:27.488786Z"
    }
   },
   "outputs": [],
   "source": [
    "# Selecting the meaningful columns in the respective dataset\n",
    "domain_id_list=data_domains['domain-name']\n",
    "query_gene=data_sl['gene-query-name']\n",
    "target_gene=data_sl['gene-target-name']\n",
    "query_gene_nonlethal=data_nonsl['gene-query-name']\n",
    "target_gene_nonlethal=data_nonsl['gene-target-name']\n",
    "\n",
    "\n",
    "\n",
    "# Initialising the arrays\n",
    "protein_a_list=[]\n",
    "protein_b_list=[]\n",
    "protein_a_list_non=[]\n",
    "protein_b_list_non=[]\n",
    "\n",
    "population = np.arange(0,len(data_sl))\n",
    "\n",
    "# For loop for 10000 pairs sampled randomly from the SL/nSl pair list , and creating a big array of proteind domains id per protein pair\n",
    "\n",
    "for m in random.sample(list(population), 500):\n",
    "    protein_a=data_domains[data_domains['name']==query_gene[m]]\n",
    "    protein_b=data_domains[data_domains['name']==target_gene[m]]\n",
    "    protein_a_list.append(protein_a['domain-name'].tolist())\n",
    "    protein_b_list.append(protein_b['domain-name'].tolist())\n",
    "\n",
    "    protein_a_non=data_domains[data_domains['name']==query_gene_nonlethal[m]]\n",
    "    protein_b_non=data_domains[data_domains['name']==target_gene_nonlethal[m]]\n",
    "    protein_a_list_non.append(protein_a_non['domain-name'].tolist())\n",
    "    protein_b_list_non.append(protein_b_non['domain-name'].tolist())"
   ]
  },
  {
   "cell_type": "code",
   "execution_count": 4,
   "metadata": {
    "execution": {
     "iopub.execute_input": "2020-07-17T15:15:27.495710Z",
     "iopub.status.busy": "2020-07-17T15:15:27.495102Z",
     "iopub.status.idle": "2020-07-17T15:15:27.499134Z",
     "shell.execute_reply": "2020-07-17T15:15:27.498234Z"
    }
   },
   "outputs": [
    {
     "name": "stdout",
     "output_type": "stream",
     "text": [
      "We are going to analyze 500 protein pairs, out of 17871 SL protein pairs\n",
      "We are going to analyze 500 protein pairs, out of 43340 positive protein pairs\n"
     ]
    }
   ],
   "source": [
    "print('We are going to analyze',len((protein_a_list)) ,'protein pairs, out of',len(data_sl),'SL protein pairs')\n",
    "print('We are going to analyze',len((protein_a_list_non)) ,'protein pairs, out of',len(data_nonsl),'positive protein pairs')"
   ]
  },
  {
   "cell_type": "markdown",
   "metadata": {},
   "source": [
    "### Postprocessing #1:  Remove protein pairs from study if either protein in the pair does not contain any domain"
   ]
  },
  {
   "cell_type": "code",
   "execution_count": 5,
   "metadata": {
    "execution": {
     "iopub.execute_input": "2020-07-17T15:15:27.509194Z",
     "iopub.status.busy": "2020-07-17T15:15:27.508590Z",
     "iopub.status.idle": "2020-07-17T15:15:27.512731Z",
     "shell.execute_reply": "2020-07-17T15:15:27.512242Z"
    }
   },
   "outputs": [],
   "source": [
    "def remove_empty_domains(protein_list_search,protein_list_pair):\n",
    "    index=[]\n",
    "    for i in np.arange(0,len(protein_list_search)):\n",
    "        if protein_list_search[i]==[] or protein_list_pair[i]==[]:\n",
    "            index.append(i) ## index of empty values for the protein_a_list meaning they dont have any annotated domain\n",
    "\n",
    "    y=[x for x in np.arange(0,len(protein_list_search)) if x not in index] # a list with non empty values from protein_a list\n",
    "\n",
    "    protein_list_search_new=[]\n",
    "    protein_list_pair_new=[]\n",
    "    for i in y:\n",
    "        protein_list_search_new.append(protein_list_search[i])\n",
    "        protein_list_pair_new.append(protein_list_pair[i])\n",
    "    return protein_list_search_new,protein_list_pair_new\n",
    "\n",
    "## evaluating the function\n",
    "\n",
    "protein_a_list_new,protein_b_list_new=remove_empty_domains(protein_a_list,protein_b_list)\n",
    "\n",
    "protein_a_list_non_new,protein_b_list_non_new=remove_empty_domains(protein_a_list_non,protein_b_list_non)"
   ]
  },
  {
   "cell_type": "code",
   "execution_count": 6,
   "metadata": {
    "execution": {
     "iopub.execute_input": "2020-07-17T15:15:27.517173Z",
     "iopub.status.busy": "2020-07-17T15:15:27.516294Z",
     "iopub.status.idle": "2020-07-17T15:15:27.520787Z",
     "shell.execute_reply": "2020-07-17T15:15:27.521245Z"
    }
   },
   "outputs": [
    {
     "name": "stdout",
     "output_type": "stream",
     "text": [
      "The empty domain in the SL were: 89 out of 500 domains\n",
      "The empty domain in the nSL were: 87 out of 500 domains\n"
     ]
    }
   ],
   "source": [
    "print('The empty domain in the SL were:', len(protein_a_list)-len(protein_a_list_new), 'out of', len(protein_a_list),'domains')\n",
    "print('The empty domain in the nSL were:', len(protein_a_list_non)-len(protein_a_list_non_new), 'out of', len(protein_a_list_non),'domains')"
   ]
  },
  {
   "cell_type": "markdown",
   "metadata": {},
   "source": [
    "### Feature engineering: Select from each ordered indexes of domain id list which of them appear once, in both or in any of the domains of each protein pair"
   ]
  },
  {
   "cell_type": "markdown",
   "metadata": {},
   "source": [
    "#### Define function `get_indexes`"
   ]
  },
  {
   "cell_type": "code",
   "execution_count": 7,
   "metadata": {
    "execution": {
     "iopub.execute_input": "2020-07-17T15:15:27.528033Z",
     "iopub.status.busy": "2020-07-17T15:15:27.527444Z",
     "iopub.status.idle": "2020-07-17T15:15:27.532703Z",
     "shell.execute_reply": "2020-07-17T15:15:27.533192Z"
    }
   },
   "outputs": [
    {
     "data": {
      "text/plain": [
       "[1, 2]"
      ]
     },
     "execution_count": 7,
     "metadata": {},
     "output_type": "execute_result"
    }
   ],
   "source": [
    "get_indexes = lambda x, xs: [i for (y, i) in zip(xs, range(len(xs))) if x == y] # a function that give the index of whether a value appear in array or not\n",
    "a=[1,2,2,4,5,6,7,8,9,10]\n",
    "get_indexes(2,a)"
   ]
  },
  {
   "cell_type": "code",
   "execution_count": 8,
   "metadata": {
    "execution": {
     "iopub.execute_input": "2020-07-17T15:15:27.542422Z",
     "iopub.status.busy": "2020-07-17T15:15:27.541818Z",
     "iopub.status.idle": "2020-07-17T15:15:27.545321Z",
     "shell.execute_reply": "2020-07-17T15:15:27.545778Z"
    }
   },
   "outputs": [],
   "source": [
    "def feature_building(protein_a_list_new,protein_b_list_new):\n",
    "    x = np.unique(domain_id_list)\n",
    "    ## To avoid taking repeated domains from one protein of the pairs , lets reduced the domains of each protein from the pairs to their unique members\n",
    "    protein_a_list_unique=[]\n",
    "    protein_b_list_unique=[]\n",
    "    for i in np.arange(0,len(protein_a_list_new)):\n",
    "        protein_a_list_unique.append(np.unique(protein_a_list_new[i]))\n",
    "        protein_b_list_unique.append(np.unique(protein_b_list_new[i]))\n",
    "        \n",
    "    protein_feat_true=np.zeros(shape=(len(x),len(protein_a_list_unique)))\n",
    "    pair_a_b_array=[]\n",
    "    for i in np.arange(0,len(protein_a_list_unique)):\n",
    "        index_a=[]\n",
    "        \n",
    "        pair=[protein_a_list_unique[i],protein_b_list_unique[i]]\n",
    "        pair_a_b=np.concatenate(pair).ravel()\n",
    "        pair_a_b_array.append(pair_a_b)\n",
    "\n",
    "    j=0\n",
    "    for i in pair_a_b_array:  \n",
    "        array,index,counts=np.unique(i,return_index=True,return_counts=True)\n",
    "        \n",
    "        for k,m in zip(counts,array):\n",
    "            if k ==2:\n",
    "                protein_feat_true[get_indexes(m,x),j]=2\n",
    "                \n",
    "            if k==1:\n",
    "                protein_feat_true[get_indexes(m,x),j]=1\n",
    "        j=j+1\n",
    "    return protein_feat_true"
   ]
  },
  {
   "cell_type": "code",
   "execution_count": 9,
   "metadata": {
    "execution": {
     "iopub.execute_input": "2020-07-17T15:15:27.556883Z",
     "iopub.status.busy": "2020-07-17T15:15:27.555332Z",
     "iopub.status.idle": "2020-07-17T15:15:28.316224Z",
     "shell.execute_reply": "2020-07-17T15:15:28.315674Z"
    }
   },
   "outputs": [],
   "source": [
    "protein_feat_true=feature_building(protein_b_list_new=protein_b_list_new,protein_a_list_new=protein_a_list_new)\n",
    "protein_feat_true_pd=pd.DataFrame(protein_feat_true.T)\n",
    "\n",
    "protein_feat_non_true=feature_building(protein_b_list_new=protein_b_list_non_new,protein_a_list_new=protein_a_list_non_new)\n",
    "protein_feat_non_true_pd=pd.DataFrame(protein_feat_non_true.T)"
   ]
  },
  {
   "cell_type": "markdown",
   "metadata": {},
   "source": [
    "### How many ones and twos are in each dataset"
   ]
  },
  {
   "cell_type": "code",
   "execution_count": 10,
   "metadata": {
    "execution": {
     "iopub.execute_input": "2020-07-17T15:15:28.323776Z",
     "iopub.status.busy": "2020-07-17T15:15:28.323169Z",
     "iopub.status.idle": "2020-07-17T15:15:28.423879Z",
     "shell.execute_reply": "2020-07-17T15:15:28.424347Z"
    }
   },
   "outputs": [
    {
     "name": "stdout",
     "output_type": "stream",
     "text": [
      "fraction of twos in the SL array is 2.734712754619855e-05\n",
      "fraction of ones in the SL array is 0.0010166696828939697\n",
      "fraction of twos in the PI array is 8.004322334060393e-06\n",
      "fraction of ones in the PI array is 0.0009108918816160727\n"
     ]
    }
   ],
   "source": [
    "index_2_true=protein_feat_true_pd.where(protein_feat_true_pd==2)\n",
    "index_2_true_count=index_2_true.count(axis=1).sum()\n",
    "\n",
    "index_1_true=protein_feat_true_pd.where(protein_feat_true_pd==1)\n",
    "index_1_true_count=index_1_true.count(axis=1).sum()\n",
    "\n",
    "index_2_nontrue=protein_feat_non_true_pd.where(protein_feat_non_true_pd==2)\n",
    "index_2_nontrue_count=index_2_nontrue.count(axis=1).sum()\n",
    "\n",
    "index_1_nontrue=protein_feat_non_true_pd.where(protein_feat_non_true_pd==1)\n",
    "index_1_nontrue_count=index_1_nontrue.count(axis=1).sum()\n",
    "\n",
    "\n",
    "print('fraction of twos in the SL array is',index_2_true_count/(len(protein_feat_true_pd.index)*len(protein_feat_true_pd.columns)))\n",
    "print('fraction of ones in the SL array is',index_1_true_count/(len(protein_feat_true_pd.index)*len(protein_feat_true_pd.columns)))\n",
    "print('fraction of twos in the PI array is',index_2_nontrue_count/(len(protein_feat_non_true_pd.index)*len(protein_feat_non_true_pd.columns)))\n",
    "print('fraction of ones in the PI array is',index_1_nontrue_count/(len(protein_feat_non_true_pd.index)*len(protein_feat_non_true_pd.columns)))"
   ]
  },
  {
   "cell_type": "markdown",
   "metadata": {},
   "source": [
    "#### Bar plot to visualize these numbers"
   ]
  },
  {
   "cell_type": "code",
   "execution_count": 11,
   "metadata": {
    "execution": {
     "iopub.execute_input": "2020-07-17T15:15:28.444590Z",
     "iopub.status.busy": "2020-07-17T15:15:28.436782Z",
     "iopub.status.idle": "2020-07-17T15:15:28.884414Z",
     "shell.execute_reply": "2020-07-17T15:15:28.883896Z"
    }
   },
   "outputs": [
    {
     "data": {
      "text/plain": [
       "([0, 1, 2, 3], <a list of 4 Text major ticklabel objects>)"
      ]
     },
     "execution_count": 11,
     "metadata": {},
     "output_type": "execute_result"
    },
    {
     "data": {
      "image/png": "[encoded data removed]",
      "text/plain": [
       "<Figure size 432x288 with 1 Axes>"
      ]
     },
     "metadata": {
      "filenames": {
       "image/png": "/home/runner/work/jupyter-book/jupyter-book/mini_book/docs/_build/jupyter_execute/prot_domains2lethality-FEATURES-POSTPROCESSING_18_1.png"
      },
      "needs_background": "light"
     },
     "output_type": "display_data"
    }
   ],
   "source": [
    "plt.bar(['fraction of 2 in the nSL','fraction of 1 in the nSL'],[index_2_nontrue_count/(len(protein_feat_non_true_pd.index)*len(protein_feat_non_true_pd.columns)),index_1_nontrue_count/(len(protein_feat_non_true_pd.index)*len(protein_feat_non_true_pd.columns))],alpha=0.6,color=['blue','lightblue']), \n",
    "\n",
    "plt.bar(['fraction of 2 in SL ','fraction of 1 in SL'],[index_2_true_count/(len(protein_feat_true_pd.index)*len(protein_feat_true_pd.columns)),index_1_true_count/(len(protein_feat_true_pd.index)*len(protein_feat_true_pd.columns))],alpha=0.6,color=['coral','lightcoral'])\n",
    "\n",
    "plt.ylabel('Fraction from the population')\n",
    "plt.yscale('log')\n",
    "plt.xticks(rotation=40)"
   ]
  },
  {
   "cell_type": "markdown",
   "metadata": {},
   "source": [
    "#### Adding the labels(response variables) to each dataset"
   ]
  },
  {
   "cell_type": "code",
   "execution_count": 12,
   "metadata": {
    "execution": {
     "iopub.execute_input": "2020-07-17T15:15:28.890509Z",
     "iopub.status.busy": "2020-07-17T15:15:28.889093Z",
     "iopub.status.idle": "2020-07-17T15:15:28.893272Z",
     "shell.execute_reply": "2020-07-17T15:15:28.893760Z"
    }
   },
   "outputs": [],
   "source": [
    "protein_feat_true_pd['lethality']=np.ones(shape=(len(protein_a_list_new)))\n",
    "protein_feat_non_true_pd['lethality']=np.zeros(shape=(len(protein_a_list_non_new)))"
   ]
  },
  {
   "cell_type": "markdown",
   "metadata": {},
   "source": [
    "#### Joining both datasets"
   ]
  },
  {
   "cell_type": "code",
   "execution_count": 13,
   "metadata": {
    "execution": {
     "iopub.execute_input": "2020-07-17T15:15:28.898850Z",
     "iopub.status.busy": "2020-07-17T15:15:28.897998Z",
     "iopub.status.idle": "2020-07-17T15:15:28.933665Z",
     "shell.execute_reply": "2020-07-17T15:15:28.934127Z"
    }
   },
   "outputs": [
    {
     "name": "stdout",
     "output_type": "stream",
     "text": [
      "The number of features are: 3026\n",
      "The number of samples are: 824\n"
     ]
    }
   ],
   "source": [
    "feature_post=pd.concat([protein_feat_true_pd,protein_feat_non_true_pd],axis=0)\n",
    "feature_post=feature_post.set_index(np.arange(0,len(protein_a_list_new)+len(protein_a_list_non_new)))\n",
    "print('The number of features are:',feature_post.shape[1])\n",
    "print('The number of samples are:',feature_post.shape[0])"
   ]
  },
  {
   "cell_type": "markdown",
   "metadata": {},
   "source": [
    "### Postprocessing and exploration of the feature matrix of both datasets"
   ]
  },
  {
   "cell_type": "code",
   "execution_count": 14,
   "metadata": {
    "execution": {
     "iopub.execute_input": "2020-07-17T15:15:28.951976Z",
     "iopub.status.busy": "2020-07-17T15:15:28.950147Z",
     "iopub.status.idle": "2020-07-17T15:15:34.898570Z",
     "shell.execute_reply": "2020-07-17T15:15:34.897627Z"
    }
   },
   "outputs": [],
   "source": [
    "mean=feature_post.T.describe().loc['mean']\n",
    "std=feature_post.T.describe().loc['std']\n",
    "lethality=feature_post['lethality']\n",
    "\n",
    "corr_keys=pd.concat([mean,std,lethality],axis=1)"
   ]
  },
  {
   "cell_type": "markdown",
   "metadata": {},
   "source": [
    "### Viz of the stats"
   ]
  },
  {
   "cell_type": "code",
   "execution_count": 15,
   "metadata": {
    "execution": {
     "iopub.execute_input": "2020-07-17T15:15:34.927693Z",
     "iopub.status.busy": "2020-07-17T15:15:34.903682Z",
     "iopub.status.idle": "2020-07-17T15:15:36.853431Z",
     "shell.execute_reply": "2020-07-17T15:15:36.853932Z"
    }
   },
   "outputs": [
    {
     "data": {
      "text/plain": [
       "Text(0.5, 1.08, 'Pairplot to see data dependencies with Lethality')"
      ]
     },
     "execution_count": 15,
     "metadata": {},
     "output_type": "execute_result"
    },
    {
     "data": {
      "image/png": "[encoded data removed]",
      "text/plain": [
       "<Figure size 412x360 with 6 Axes>"
      ]
     },
     "metadata": {
      "filenames": {
       "image/png": "/home/runner/work/jupyter-book/jupyter-book/mini_book/docs/_build/jupyter_execute/prot_domains2lethality-FEATURES-POSTPROCESSING_26_1.png"
      },
      "needs_background": "light"
     },
     "output_type": "display_data"
    }
   ],
   "source": [
    "pair=sns.pairplot(corr_keys,hue='lethality',diag_kind='kde',kind='reg',palette='colorblind')\n",
    "pair.fig.suptitle('Pairplot to see data dependencies with Lethality',y=1.08)"
   ]
  },
  {
   "cell_type": "code",
   "execution_count": 16,
   "metadata": {
    "execution": {
     "iopub.execute_input": "2020-07-17T15:15:36.863855Z",
     "iopub.status.busy": "2020-07-17T15:15:36.858376Z",
     "iopub.status.idle": "2020-07-17T15:15:36.866856Z",
     "shell.execute_reply": "2020-07-17T15:15:36.867384Z"
    }
   },
   "outputs": [],
   "source": [
    "X, y = feature_post.drop(columns=[\"lethality\"]), feature_post[\"lethality\"]"
   ]
  },
  {
   "cell_type": "code",
   "execution_count": 17,
   "metadata": {
    "execution": {
     "iopub.execute_input": "2020-07-17T15:15:36.872596Z",
     "iopub.status.busy": "2020-07-17T15:15:36.871556Z",
     "iopub.status.idle": "2020-07-17T15:15:37.026268Z",
     "shell.execute_reply": "2020-07-17T15:15:37.026783Z"
    }
   },
   "outputs": [],
   "source": [
    "from sklearn.preprocessing import StandardScaler\n",
    "scaler = StandardScaler()\n",
    "x_sl=protein_feat_true_pd.drop(columns=['lethality'])\n",
    "x_nsl=protein_feat_non_true_pd.drop(columns=['lethality'])\n",
    "\n",
    "X_sl_scaled = scaler.fit_transform(x_sl)\n",
    "X_nsl_scaled = scaler.fit_transform(x_nsl)"
   ]
  },
  {
   "cell_type": "code",
   "execution_count": 18,
   "metadata": {
    "execution": {
     "iopub.execute_input": "2020-07-17T15:15:37.031562Z",
     "iopub.status.busy": "2020-07-17T15:15:37.030939Z",
     "iopub.status.idle": "2020-07-17T15:15:37.037676Z",
     "shell.execute_reply": "2020-07-17T15:15:37.037135Z"
    }
   },
   "outputs": [
    {
     "data": {
      "text/plain": [
       "(411, 3025)"
      ]
     },
     "execution_count": 18,
     "metadata": {},
     "output_type": "execute_result"
    }
   ],
   "source": [
    "np.shape(X_sl_scaled)"
   ]
  },
  {
   "cell_type": "markdown",
   "metadata": {},
   "source": [
    "## How redundant are each of the protein domains?"
   ]
  },
  {
   "cell_type": "code",
   "execution_count": 19,
   "metadata": {
    "execution": {
     "iopub.execute_input": "2020-07-17T15:15:37.045188Z",
     "iopub.status.busy": "2020-07-17T15:15:37.044587Z",
     "iopub.status.idle": "2020-07-17T15:15:37.048434Z",
     "shell.execute_reply": "2020-07-17T15:15:37.047919Z"
    }
   },
   "outputs": [],
   "source": [
    "def PCA_component_contribution(scaled_matrix,original_data):\n",
    "    from sklearn.decomposition import PCA\n",
    "\n",
    "    model = PCA(0.95).fit(scaled_matrix)\n",
    "    ## apply dimensionality reduction to X_train\n",
    "    output_pca = model.transform(scaled_matrix)\n",
    "    \n",
    "    total=sum(model.explained_variance_)\n",
    "\n",
    "\n",
    "   \n",
    "    # number of components , that it will be the number of main axes times the number of original components \n",
    "    n_pcs= model.components_.shape[0] # the amount of non redundant protein domains \n",
    "\n",
    "    # get the index of the most important feature on EACH component\n",
    "    # LIST COMPREHENSION HERE\n",
    "    most_important = [np.abs(model.components_[i]).argmax() for i in range(n_pcs)]\n",
    "\n",
    "    initial_feature_names = original_data.columns\n",
    "    # get the names\n",
    "    most_important_names = [initial_feature_names[most_important[i]] for i in range(n_pcs)]\n",
    "    \n",
    "\n",
    "    # LIST COMPREHENSION HERE AGAIN\n",
    "    dic = {'PC{}'.format(i): most_important_names[i] for i in range(n_pcs)}\n",
    "\n",
    "    # build the dataframe\n",
    "    df = pd.DataFrame(dic.items(),columns=['pca-component','domain-number'])\n",
    "\n",
    "    return df,model.components_"
   ]
  },
  {
   "cell_type": "code",
   "execution_count": 20,
   "metadata": {
    "execution": {
     "iopub.execute_input": "2020-07-17T15:15:37.053088Z",
     "iopub.status.busy": "2020-07-17T15:15:37.052490Z",
     "iopub.status.idle": "2020-07-17T15:15:37.911923Z",
     "shell.execute_reply": "2020-07-17T15:15:37.912470Z"
    }
   },
   "outputs": [],
   "source": [
    "df_sl,components_pca_nsl=PCA_component_contribution(X_nsl_scaled,x_nsl)\n",
    "df_nsl,components_pca_sl=PCA_component_contribution(X_sl_scaled,x_sl)"
   ]
  },
  {
   "cell_type": "code",
   "execution_count": 21,
   "metadata": {
    "execution": {
     "iopub.execute_input": "2020-07-17T15:15:37.915151Z",
     "iopub.status.busy": "2020-07-17T15:15:37.914533Z",
     "iopub.status.idle": "2020-07-17T15:15:37.923425Z",
     "shell.execute_reply": "2020-07-17T15:15:37.924014Z"
    }
   },
   "outputs": [
    {
     "data": {
      "text/html": [
       "<div>\n",
       "<style scoped>\n",
       "    .dataframe tbody tr th:only-of-type {\n",
       "        vertical-align: middle;\n",
       "    }\n",
       "\n",
       "    .dataframe tbody tr th {\n",
       "        vertical-align: top;\n",
       "    }\n",
       "\n",
       "    .dataframe thead th {\n",
       "        text-align: right;\n",
       "    }\n",
       "</style>\n",
       "<table border=\"1\" class=\"dataframe\">\n",
       "  <thead>\n",
       "    <tr style=\"text-align: right;\">\n",
       "      <th></th>\n",
       "      <th>pca-component</th>\n",
       "      <th>domain-number</th>\n",
       "    </tr>\n",
       "  </thead>\n",
       "  <tbody>\n",
       "    <tr>\n",
       "      <th>0</th>\n",
       "      <td>PC0</td>\n",
       "      <td>305</td>\n",
       "    </tr>\n",
       "    <tr>\n",
       "      <th>1</th>\n",
       "      <td>PC1</td>\n",
       "      <td>2771</td>\n",
       "    </tr>\n",
       "    <tr>\n",
       "      <th>2</th>\n",
       "      <td>PC2</td>\n",
       "      <td>989</td>\n",
       "    </tr>\n",
       "    <tr>\n",
       "      <th>3</th>\n",
       "      <td>PC3</td>\n",
       "      <td>858</td>\n",
       "    </tr>\n",
       "    <tr>\n",
       "      <th>4</th>\n",
       "      <td>PC4</td>\n",
       "      <td>276</td>\n",
       "    </tr>\n",
       "  </tbody>\n",
       "</table>\n",
       "</div>"
      ],
      "text/plain": [
       "  pca-component  domain-number\n",
       "0           PC0            305\n",
       "1           PC1           2771\n",
       "2           PC2            989\n",
       "3           PC3            858\n",
       "4           PC4            276"
      ]
     },
     "execution_count": 21,
     "metadata": {},
     "output_type": "execute_result"
    }
   ],
   "source": [
    "df_sl.head()"
   ]
  },
  {
   "cell_type": "markdown",
   "metadata": {},
   "source": [
    "## which are the shared domains between nSL and SL pairs , in the PCA reduced samples"
   ]
  },
  {
   "cell_type": "code",
   "execution_count": 22,
   "metadata": {
    "execution": {
     "iopub.execute_input": "2020-07-17T15:15:37.926604Z",
     "iopub.status.busy": "2020-07-17T15:15:37.926009Z",
     "iopub.status.idle": "2020-07-17T15:15:37.958848Z",
     "shell.execute_reply": "2020-07-17T15:15:37.959522Z"
    }
   },
   "outputs": [
    {
     "data": {
      "text/html": [
       "<div>\n",
       "<style scoped>\n",
       "    .dataframe tbody tr th:only-of-type {\n",
       "        vertical-align: middle;\n",
       "    }\n",
       "\n",
       "    .dataframe tbody tr th {\n",
       "        vertical-align: top;\n",
       "    }\n",
       "\n",
       "    .dataframe thead th {\n",
       "        text-align: right;\n",
       "    }\n",
       "</style>\n",
       "<table border=\"1\" class=\"dataframe\">\n",
       "  <thead>\n",
       "    <tr style=\"text-align: right;\">\n",
       "      <th></th>\n",
       "      <th>pca-component_x</th>\n",
       "      <th>domain-number</th>\n",
       "      <th>pca-component_y</th>\n",
       "      <th>domain-description</th>\n",
       "    </tr>\n",
       "  </thead>\n",
       "  <tbody>\n",
       "    <tr>\n",
       "      <th>0</th>\n",
       "      <td>PC2</td>\n",
       "      <td>989</td>\n",
       "      <td>PC67</td>\n",
       "      <td>GLE1; GLE1-like</td>\n",
       "    </tr>\n",
       "    <tr>\n",
       "      <th>1</th>\n",
       "      <td>PC3</td>\n",
       "      <td>858</td>\n",
       "      <td>PC4</td>\n",
       "      <td>F420_oxidored; Pyrroline-5-carboxylate reducta...</td>\n",
       "    </tr>\n",
       "    <tr>\n",
       "      <th>2</th>\n",
       "      <td>PC5</td>\n",
       "      <td>76</td>\n",
       "      <td>PC26</td>\n",
       "      <td>ALS_ss_C; Acetolactate synthase, small subunit...</td>\n",
       "    </tr>\n",
       "    <tr>\n",
       "      <th>3</th>\n",
       "      <td>PC6</td>\n",
       "      <td>3</td>\n",
       "      <td>PC2</td>\n",
       "      <td>2-Hacid_dh_C; D-isomer specific 2-hydroxyacid ...</td>\n",
       "    </tr>\n",
       "    <tr>\n",
       "      <th>4</th>\n",
       "      <td>PC9</td>\n",
       "      <td>300</td>\n",
       "      <td>PC31</td>\n",
       "      <td>BolA; BolA protein</td>\n",
       "    </tr>\n",
       "    <tr>\n",
       "      <th>...</th>\n",
       "      <td>...</td>\n",
       "      <td>...</td>\n",
       "      <td>...</td>\n",
       "      <td>...</td>\n",
       "    </tr>\n",
       "    <tr>\n",
       "      <th>64</th>\n",
       "      <td>PC218</td>\n",
       "      <td>684</td>\n",
       "      <td>PC37</td>\n",
       "      <td>DUF2611; Protein of unknown function DUF2611</td>\n",
       "    </tr>\n",
       "    <tr>\n",
       "      <th>65</th>\n",
       "      <td>PC220</td>\n",
       "      <td>310</td>\n",
       "      <td>PC99</td>\n",
       "      <td>C1_1; Protein kinase C-like, phorbol ester/dia...</td>\n",
       "    </tr>\n",
       "    <tr>\n",
       "      <th>66</th>\n",
       "      <td>PC221</td>\n",
       "      <td>2025</td>\n",
       "      <td>PC253</td>\n",
       "      <td>RNA_pol_Rpb2_7; RNA polymerase Rpb2, domain 7</td>\n",
       "    </tr>\n",
       "    <tr>\n",
       "      <th>67</th>\n",
       "      <td>PC223</td>\n",
       "      <td>1498</td>\n",
       "      <td>PC196</td>\n",
       "      <td>MmgE_PrpD; MmgE/PrpD</td>\n",
       "    </tr>\n",
       "    <tr>\n",
       "      <th>68</th>\n",
       "      <td>PC261</td>\n",
       "      <td>1550</td>\n",
       "      <td>PC209</td>\n",
       "      <td>NAD_binding_7; Sirohaem synthase, N-terminal</td>\n",
       "    </tr>\n",
       "  </tbody>\n",
       "</table>\n",
       "<p>69 rows × 4 columns</p>\n",
       "</div>"
      ],
      "text/plain": [
       "   pca-component_x  domain-number pca-component_y  \\\n",
       "0              PC2            989            PC67   \n",
       "1              PC3            858             PC4   \n",
       "2              PC5             76            PC26   \n",
       "3              PC6              3             PC2   \n",
       "4              PC9            300            PC31   \n",
       "..             ...            ...             ...   \n",
       "64           PC218            684            PC37   \n",
       "65           PC220            310            PC99   \n",
       "66           PC221           2025           PC253   \n",
       "67           PC223           1498           PC196   \n",
       "68           PC261           1550           PC209   \n",
       "\n",
       "                                   domain-description  \n",
       "0                                     GLE1; GLE1-like  \n",
       "1   F420_oxidored; Pyrroline-5-carboxylate reducta...  \n",
       "2   ALS_ss_C; Acetolactate synthase, small subunit...  \n",
       "3   2-Hacid_dh_C; D-isomer specific 2-hydroxyacid ...  \n",
       "4                                  BolA; BolA protein  \n",
       "..                                                ...  \n",
       "64       DUF2611; Protein of unknown function DUF2611  \n",
       "65  C1_1; Protein kinase C-like, phorbol ester/dia...  \n",
       "66      RNA_pol_Rpb2_7; RNA polymerase Rpb2, domain 7  \n",
       "67                               MmgE_PrpD; MmgE/PrpD  \n",
       "68       NAD_binding_7; Sirohaem synthase, N-terminal  \n",
       "\n",
       "[69 rows x 4 columns]"
      ]
     },
     "execution_count": 22,
     "metadata": {},
     "output_type": "execute_result"
    }
   ],
   "source": [
    "df_shared_domains=pd.merge(df_sl,df_nsl,how='inner',on='domain-number')\n",
    "domains_name=np.unique(data_domains['domain-name'])\n",
    "domains_description=np.unique(data_domains['domain-descrip'])\n",
    "\n",
    "df_shared_domains['domain-description']=domains_description[df_shared_domains['domain-number']]\n",
    "\n",
    "\n",
    "df_shared_domains"
   ]
  },
  {
   "cell_type": "code",
   "execution_count": 23,
   "metadata": {
    "execution": {
     "iopub.execute_input": "2020-07-17T15:15:37.965101Z",
     "iopub.status.busy": "2020-07-17T15:15:37.964503Z",
     "iopub.status.idle": "2020-07-17T15:15:37.969397Z",
     "shell.execute_reply": "2020-07-17T15:15:37.969918Z"
    }
   },
   "outputs": [
    {
     "name": "stdout",
     "output_type": "stream",
     "text": [
      "The number of shared domains between SL and nSL pairs,after PCA, is =  69 out of 538 so the 12.825278810408921 %\n"
     ]
    }
   ],
   "source": [
    "print('The number of shared domains between SL and nSL pairs,after PCA, is = ',len(df_shared_domains), 'out of', len(df_sl)+len(df_nsl), 'so the',100*len(df_shared_domains)/(len(df_sl)+len(df_nsl)),'%')"
   ]
  },
  {
   "cell_type": "markdown",
   "metadata": {},
   "source": [
    "## Domains exclusive to SL"
   ]
  },
  {
   "cell_type": "code",
   "execution_count": 24,
   "metadata": {
    "execution": {
     "iopub.execute_input": "2020-07-17T15:15:37.978156Z",
     "iopub.status.busy": "2020-07-17T15:15:37.977504Z",
     "iopub.status.idle": "2020-07-17T15:15:38.005099Z",
     "shell.execute_reply": "2020-07-17T15:15:38.005691Z"
    }
   },
   "outputs": [
    {
     "data": {
      "text/html": [
       "<div>\n",
       "<style scoped>\n",
       "    .dataframe tbody tr th:only-of-type {\n",
       "        vertical-align: middle;\n",
       "    }\n",
       "\n",
       "    .dataframe tbody tr th {\n",
       "        vertical-align: top;\n",
       "    }\n",
       "\n",
       "    .dataframe thead th {\n",
       "        text-align: right;\n",
       "    }\n",
       "</style>\n",
       "<table border=\"1\" class=\"dataframe\">\n",
       "  <thead>\n",
       "    <tr style=\"text-align: right;\">\n",
       "      <th></th>\n",
       "      <th>pca-component_x</th>\n",
       "      <th>domain-number</th>\n",
       "      <th>pca-component_y</th>\n",
       "      <th>domain-description</th>\n",
       "    </tr>\n",
       "  </thead>\n",
       "  <tbody>\n",
       "    <tr>\n",
       "      <th>0</th>\n",
       "      <td>PC0</td>\n",
       "      <td>305</td>\n",
       "      <td>NaN</td>\n",
       "      <td>Brr6_like_C_C; Brl1/Brr6 domain</td>\n",
       "    </tr>\n",
       "    <tr>\n",
       "      <th>1</th>\n",
       "      <td>PC1</td>\n",
       "      <td>2771</td>\n",
       "      <td>NaN</td>\n",
       "      <td>Ubiq-assoc; Ubiquitin-associated domain, SWA2-...</td>\n",
       "    </tr>\n",
       "    <tr>\n",
       "      <th>4</th>\n",
       "      <td>PC4</td>\n",
       "      <td>276</td>\n",
       "      <td>NaN</td>\n",
       "      <td>BPL_C; Biotin protein ligase, C-terminal</td>\n",
       "    </tr>\n",
       "    <tr>\n",
       "      <th>7</th>\n",
       "      <td>PC7</td>\n",
       "      <td>55</td>\n",
       "      <td>NaN</td>\n",
       "      <td>ADK</td>\n",
       "    </tr>\n",
       "    <tr>\n",
       "      <th>8</th>\n",
       "      <td>PC8</td>\n",
       "      <td>278</td>\n",
       "      <td>NaN</td>\n",
       "      <td>BPL_N; Biotin-protein ligase, N-terminal</td>\n",
       "    </tr>\n",
       "    <tr>\n",
       "      <th>...</th>\n",
       "      <td>...</td>\n",
       "      <td>...</td>\n",
       "      <td>...</td>\n",
       "      <td>...</td>\n",
       "    </tr>\n",
       "    <tr>\n",
       "      <th>289</th>\n",
       "      <td>PC272</td>\n",
       "      <td>271</td>\n",
       "      <td>NaN</td>\n",
       "      <td>BLI1</td>\n",
       "    </tr>\n",
       "    <tr>\n",
       "      <th>290</th>\n",
       "      <td>PC273</td>\n",
       "      <td>9</td>\n",
       "      <td>NaN</td>\n",
       "      <td>40S_S4_C; 40S ribosomal protein S4, C-terminal...</td>\n",
       "    </tr>\n",
       "    <tr>\n",
       "      <th>291</th>\n",
       "      <td>PC274</td>\n",
       "      <td>443</td>\n",
       "      <td>NaN</td>\n",
       "      <td>Carbpep_Y_N; Propeptide, carboxypeptidase Y</td>\n",
       "    </tr>\n",
       "    <tr>\n",
       "      <th>292</th>\n",
       "      <td>PC275</td>\n",
       "      <td>443</td>\n",
       "      <td>NaN</td>\n",
       "      <td>Carbpep_Y_N; Propeptide, carboxypeptidase Y</td>\n",
       "    </tr>\n",
       "    <tr>\n",
       "      <th>293</th>\n",
       "      <td>PC276</td>\n",
       "      <td>1317</td>\n",
       "      <td>NaN</td>\n",
       "      <td>Ldh_1_N; Lactate/malate dehydrogenase, N-terminal</td>\n",
       "    </tr>\n",
       "  </tbody>\n",
       "</table>\n",
       "<p>225 rows × 4 columns</p>\n",
       "</div>"
      ],
      "text/plain": [
       "    pca-component_x  domain-number pca-component_y  \\\n",
       "0               PC0            305             NaN   \n",
       "1               PC1           2771             NaN   \n",
       "4               PC4            276             NaN   \n",
       "7               PC7             55             NaN   \n",
       "8               PC8            278             NaN   \n",
       "..              ...            ...             ...   \n",
       "289           PC272            271             NaN   \n",
       "290           PC273              9             NaN   \n",
       "291           PC274            443             NaN   \n",
       "292           PC275            443             NaN   \n",
       "293           PC276           1317             NaN   \n",
       "\n",
       "                                    domain-description  \n",
       "0                      Brr6_like_C_C; Brl1/Brr6 domain  \n",
       "1    Ubiq-assoc; Ubiquitin-associated domain, SWA2-...  \n",
       "4             BPL_C; Biotin protein ligase, C-terminal  \n",
       "7                                                  ADK  \n",
       "8             BPL_N; Biotin-protein ligase, N-terminal  \n",
       "..                                                 ...  \n",
       "289                                               BLI1  \n",
       "290  40S_S4_C; 40S ribosomal protein S4, C-terminal...  \n",
       "291        Carbpep_Y_N; Propeptide, carboxypeptidase Y  \n",
       "292        Carbpep_Y_N; Propeptide, carboxypeptidase Y  \n",
       "293  Ldh_1_N; Lactate/malate dehydrogenase, N-terminal  \n",
       "\n",
       "[225 rows x 4 columns]"
      ]
     },
     "execution_count": 24,
     "metadata": {},
     "output_type": "execute_result"
    }
   ],
   "source": [
    "df_sl_exclusive=pd.merge(df_sl,df_nsl,how='left',on='domain-number')\n",
    "\n",
    "domains_name=np.unique(data_domains['domain-name'])\n",
    "domains_description=np.unique(data_domains['domain-descrip'])\n",
    "\n",
    "df_sl_exclusive['domain-description']=domains_description[df_sl_exclusive['domain-number']]\n",
    "df_sl_exclusive[pd.isnull(df_sl_exclusive['pca-component_y'])]"
   ]
  },
  {
   "cell_type": "code",
   "execution_count": 25,
   "metadata": {
    "execution": {
     "iopub.execute_input": "2020-07-17T15:15:38.010176Z",
     "iopub.status.busy": "2020-07-17T15:15:38.009587Z",
     "iopub.status.idle": "2020-07-17T15:15:38.014550Z",
     "shell.execute_reply": "2020-07-17T15:15:38.014031Z"
    }
   },
   "outputs": [
    {
     "name": "stdout",
     "output_type": "stream",
     "text": [
      "The number of exclusive domains from SL pairs, after PCA, is =  294 out of 538 so the 54.646840148698885 %\n"
     ]
    }
   ],
   "source": [
    "print('The number of exclusive domains from SL pairs, after PCA, is = ',len(df_sl_exclusive), 'out of', len(df_sl)+len(df_nsl), 'so the',100*len(df_sl_exclusive)/(len(df_sl)+len(df_nsl)),'%')"
   ]
  },
  {
   "cell_type": "code",
   "execution_count": 26,
   "metadata": {
    "execution": {
     "iopub.execute_input": "2020-07-17T15:15:38.020920Z",
     "iopub.status.busy": "2020-07-17T15:15:38.020324Z",
     "iopub.status.idle": "2020-07-17T15:15:38.047489Z",
     "shell.execute_reply": "2020-07-17T15:15:38.047982Z"
    }
   },
   "outputs": [
    {
     "data": {
      "text/html": [
       "<div>\n",
       "<style scoped>\n",
       "    .dataframe tbody tr th:only-of-type {\n",
       "        vertical-align: middle;\n",
       "    }\n",
       "\n",
       "    .dataframe tbody tr th {\n",
       "        vertical-align: top;\n",
       "    }\n",
       "\n",
       "    .dataframe thead th {\n",
       "        text-align: right;\n",
       "    }\n",
       "</style>\n",
       "<table border=\"1\" class=\"dataframe\">\n",
       "  <thead>\n",
       "    <tr style=\"text-align: right;\">\n",
       "      <th></th>\n",
       "      <th>pca-component_x</th>\n",
       "      <th>domain-number</th>\n",
       "      <th>pca-component_y</th>\n",
       "      <th>domain-description</th>\n",
       "    </tr>\n",
       "  </thead>\n",
       "  <tbody>\n",
       "    <tr>\n",
       "      <th>69</th>\n",
       "      <td>NaN</td>\n",
       "      <td>1028</td>\n",
       "      <td>PC0</td>\n",
       "      <td>GatB_Yqey; Asn/Gln amidotransferase</td>\n",
       "    </tr>\n",
       "    <tr>\n",
       "      <th>70</th>\n",
       "      <td>NaN</td>\n",
       "      <td>540</td>\n",
       "      <td>PC1</td>\n",
       "      <td>Cytochrome_B; Cytochrome b/b6, N-terminal</td>\n",
       "    </tr>\n",
       "    <tr>\n",
       "      <th>71</th>\n",
       "      <td>NaN</td>\n",
       "      <td>272</td>\n",
       "      <td>PC3</td>\n",
       "      <td>BLM10_N; Proteasome activator Blm10, N-terminal</td>\n",
       "    </tr>\n",
       "    <tr>\n",
       "      <th>72</th>\n",
       "      <td>NaN</td>\n",
       "      <td>1741</td>\n",
       "      <td>PC5</td>\n",
       "      <td>PH; Pleckstrin homology domain</td>\n",
       "    </tr>\n",
       "    <tr>\n",
       "      <th>73</th>\n",
       "      <td>NaN</td>\n",
       "      <td>2113</td>\n",
       "      <td>PC6</td>\n",
       "      <td>Rav1p_C; RAVE complex protein Rav1 C-terminal</td>\n",
       "    </tr>\n",
       "    <tr>\n",
       "      <th>...</th>\n",
       "      <td>...</td>\n",
       "      <td>...</td>\n",
       "      <td>...</td>\n",
       "      <td>...</td>\n",
       "    </tr>\n",
       "    <tr>\n",
       "      <th>265</th>\n",
       "      <td>NaN</td>\n",
       "      <td>211</td>\n",
       "      <td>PC256</td>\n",
       "      <td>Ank_5</td>\n",
       "    </tr>\n",
       "    <tr>\n",
       "      <th>266</th>\n",
       "      <td>NaN</td>\n",
       "      <td>282</td>\n",
       "      <td>PC257</td>\n",
       "      <td>BRE1; E3 ubiquitin ligase, BRE1</td>\n",
       "    </tr>\n",
       "    <tr>\n",
       "      <th>267</th>\n",
       "      <td>NaN</td>\n",
       "      <td>2480</td>\n",
       "      <td>PC258</td>\n",
       "      <td>Sin_N; DNA-directed RNA polymerase III subunit...</td>\n",
       "    </tr>\n",
       "    <tr>\n",
       "      <th>268</th>\n",
       "      <td>NaN</td>\n",
       "      <td>1040</td>\n",
       "      <td>PC259</td>\n",
       "      <td>Glucosamine_iso; Glucosamine/galactosamine-6-p...</td>\n",
       "    </tr>\n",
       "    <tr>\n",
       "      <th>269</th>\n",
       "      <td>NaN</td>\n",
       "      <td>1040</td>\n",
       "      <td>PC260</td>\n",
       "      <td>Glucosamine_iso; Glucosamine/galactosamine-6-p...</td>\n",
       "    </tr>\n",
       "  </tbody>\n",
       "</table>\n",
       "<p>201 rows × 4 columns</p>\n",
       "</div>"
      ],
      "text/plain": [
       "    pca-component_x  domain-number pca-component_y  \\\n",
       "69              NaN           1028             PC0   \n",
       "70              NaN            540             PC1   \n",
       "71              NaN            272             PC3   \n",
       "72              NaN           1741             PC5   \n",
       "73              NaN           2113             PC6   \n",
       "..              ...            ...             ...   \n",
       "265             NaN            211           PC256   \n",
       "266             NaN            282           PC257   \n",
       "267             NaN           2480           PC258   \n",
       "268             NaN           1040           PC259   \n",
       "269             NaN           1040           PC260   \n",
       "\n",
       "                                    domain-description  \n",
       "69                 GatB_Yqey; Asn/Gln amidotransferase  \n",
       "70           Cytochrome_B; Cytochrome b/b6, N-terminal  \n",
       "71     BLM10_N; Proteasome activator Blm10, N-terminal  \n",
       "72                      PH; Pleckstrin homology domain  \n",
       "73       Rav1p_C; RAVE complex protein Rav1 C-terminal  \n",
       "..                                                 ...  \n",
       "265                                              Ank_5  \n",
       "266                    BRE1; E3 ubiquitin ligase, BRE1  \n",
       "267  Sin_N; DNA-directed RNA polymerase III subunit...  \n",
       "268  Glucosamine_iso; Glucosamine/galactosamine-6-p...  \n",
       "269  Glucosamine_iso; Glucosamine/galactosamine-6-p...  \n",
       "\n",
       "[201 rows x 4 columns]"
      ]
     },
     "execution_count": 26,
     "metadata": {},
     "output_type": "execute_result"
    }
   ],
   "source": [
    "df_nsl_exclusive=pd.merge(df_sl,df_nsl,how='right',on='domain-number')\n",
    "\n",
    "domains_name=np.unique(data_domains['domain-name'])\n",
    "domains_description=np.unique(data_domains['domain-descrip'])\n",
    "\n",
    "df_nsl_exclusive['domain-description']=domains_description[df_nsl_exclusive['domain-number']]\n",
    "df_nsl_exclusive[pd.isnull(df_nsl_exclusive['pca-component_x'])]"
   ]
  },
  {
   "cell_type": "code",
   "execution_count": 27,
   "metadata": {
    "execution": {
     "iopub.execute_input": "2020-07-17T15:15:38.055076Z",
     "iopub.status.busy": "2020-07-17T15:15:38.053825Z",
     "iopub.status.idle": "2020-07-17T15:15:38.057178Z",
     "shell.execute_reply": "2020-07-17T15:15:38.056651Z"
    }
   },
   "outputs": [
    {
     "name": "stdout",
     "output_type": "stream",
     "text": [
      "The number of exclusive domains from non SL pairs, after PCA, is =  270 out of 538 so the 50.185873605947954 %\n"
     ]
    }
   ],
   "source": [
    "print('The number of exclusive domains from non SL pairs, after PCA, is = ',len(df_nsl_exclusive), 'out of', len(df_sl)+len(df_nsl), 'so the',100*len(df_nsl_exclusive)/(len(df_sl)+len(df_nsl)),'%')"
   ]
  },
  {
   "cell_type": "markdown",
   "metadata": {},
   "source": [
    "## Let see to the domains-number that get repeated after the PCA analysis , and selecting the most explanatory feature by its explained variance."
   ]
  },
  {
   "cell_type": "code",
   "execution_count": 28,
   "metadata": {
    "execution": {
     "iopub.execute_input": "2020-07-17T15:15:38.080030Z",
     "iopub.status.busy": "2020-07-17T15:15:38.076285Z",
     "iopub.status.idle": "2020-07-17T15:15:38.082005Z",
     "shell.execute_reply": "2020-07-17T15:15:38.082494Z"
    }
   },
   "outputs": [],
   "source": [
    "duplicated_features_sl=df_sl[df_sl.iloc[:,1].duplicated()]\n",
    "repeated_features_sl=pd.DataFrame()\n",
    "\n",
    "domains_name=np.unique(data_domains['domain-name'])\n",
    "domains_description=np.unique(data_domains['domain-descrip'])\n",
    "\n",
    "repeated_features_sl['domain-name']=domains_name[duplicated_features_sl.iloc[:,1]] \n",
    "repeated_features_sl['domain-description']=domains_description[duplicated_features_sl.iloc[:,1]]\n",
    "\n",
    "duplicated_features_nsl=df_nsl[df_nsl.iloc[:,1].duplicated()]\n",
    "repeated_features_nsl=pd.DataFrame()\n",
    "\n",
    "repeated_features_nsl['domain-name']=domains_name[duplicated_features_nsl.iloc[:,1]] \n",
    "repeated_features_nsl['domain-description']=domains_description[duplicated_features_nsl.iloc[:,1]]"
   ]
  },
  {
   "cell_type": "code",
   "execution_count": 29,
   "metadata": {
    "execution": {
     "iopub.execute_input": "2020-07-17T15:15:38.092037Z",
     "iopub.status.busy": "2020-07-17T15:15:38.088086Z",
     "iopub.status.idle": "2020-07-17T15:15:38.097887Z",
     "shell.execute_reply": "2020-07-17T15:15:38.098379Z"
    }
   },
   "outputs": [
    {
     "name": "stderr",
     "output_type": "stream",
     "text": [
      "/usr/share/miniconda3/envs/wintest/lib/python3.7/site-packages/ipykernel_launcher.py:3: SettingWithCopyWarning: \n",
      "A value is trying to be set on a copy of a slice from a DataFrame.\n",
      "Try using .loc[row_indexer,col_indexer] = value instead\n",
      "\n",
      "See the caveats in the documentation: https://pandas.pydata.org/pandas-docs/stable/user_guide/indexing.html#returning-a-view-versus-a-copy\n",
      "  This is separate from the ipykernel package so we can avoid doing imports until\n"
     ]
    },
    {
     "data": {
      "text/plain": [
       "((41, 4), (294, 4))"
      ]
     },
     "execution_count": 29,
     "metadata": {},
     "output_type": "execute_result"
    }
   ],
   "source": [
    "only_sl_pd=pd.merge(repeated_features_sl,repeated_features_nsl,how='left',on=['domain-name'])\n",
    "data_only_sl = only_sl_pd[pd.isnull(only_sl_pd['domain-description_y'])]\n",
    "data_only_sl['domain-description']=data_only_sl['domain-description_x']\n",
    "data_only_sl.shape,df_sl_exclusive.shape"
   ]
  },
  {
   "cell_type": "code",
   "execution_count": 30,
   "metadata": {
    "execution": {
     "iopub.execute_input": "2020-07-17T15:15:38.119401Z",
     "iopub.status.busy": "2020-07-17T15:15:38.118749Z",
     "iopub.status.idle": "2020-07-17T15:15:38.121903Z",
     "shell.execute_reply": "2020-07-17T15:15:38.122391Z"
    }
   },
   "outputs": [
    {
     "data": {
      "text/html": [
       "<div>\n",
       "<style scoped>\n",
       "    .dataframe tbody tr th:only-of-type {\n",
       "        vertical-align: middle;\n",
       "    }\n",
       "\n",
       "    .dataframe tbody tr th {\n",
       "        vertical-align: top;\n",
       "    }\n",
       "\n",
       "    .dataframe thead th {\n",
       "        text-align: right;\n",
       "    }\n",
       "</style>\n",
       "<table border=\"1\" class=\"dataframe\">\n",
       "  <thead>\n",
       "    <tr style=\"text-align: right;\">\n",
       "      <th></th>\n",
       "      <th>domain-name</th>\n",
       "      <th>domain-description_x</th>\n",
       "      <th>domain-description_y</th>\n",
       "    </tr>\n",
       "  </thead>\n",
       "  <tbody>\n",
       "    <tr>\n",
       "      <th>3</th>\n",
       "      <td>PF00464</td>\n",
       "      <td>NaN</td>\n",
       "      <td>ArfGap; Arf GTPase activating protein</td>\n",
       "    </tr>\n",
       "    <tr>\n",
       "      <th>4</th>\n",
       "      <td>PF02181</td>\n",
       "      <td>NaN</td>\n",
       "      <td>Ecl1; Life-span regulatory factor</td>\n",
       "    </tr>\n",
       "    <tr>\n",
       "      <th>5</th>\n",
       "      <td>PF01602</td>\n",
       "      <td>NaN</td>\n",
       "      <td>DUF2611; Protein of unknown function DUF2611</td>\n",
       "    </tr>\n",
       "    <tr>\n",
       "      <th>6</th>\n",
       "      <td>PF00752</td>\n",
       "      <td>NaN</td>\n",
       "      <td>CNH; Citron homology (CNH) domain</td>\n",
       "    </tr>\n",
       "    <tr>\n",
       "      <th>7</th>\n",
       "      <td>PF00705</td>\n",
       "      <td>NaN</td>\n",
       "      <td>CH; Calponin homology domain</td>\n",
       "    </tr>\n",
       "    <tr>\n",
       "      <th>8</th>\n",
       "      <td>PF01909</td>\n",
       "      <td>NaN</td>\n",
       "      <td>Dynein_light; Dynein light chain, type 1/2</td>\n",
       "    </tr>\n",
       "    <tr>\n",
       "      <th>9</th>\n",
       "      <td>PF04192</td>\n",
       "      <td>NaN</td>\n",
       "      <td>LicD; LicD family</td>\n",
       "    </tr>\n",
       "    <tr>\n",
       "      <th>10</th>\n",
       "      <td>PF11976</td>\n",
       "      <td>NaN</td>\n",
       "      <td>Sec20</td>\n",
       "    </tr>\n",
       "    <tr>\n",
       "      <th>11</th>\n",
       "      <td>PF00615</td>\n",
       "      <td>NaN</td>\n",
       "      <td>Biotin_lipoyl; Biotin/lipoyl attachment</td>\n",
       "    </tr>\n",
       "    <tr>\n",
       "      <th>12</th>\n",
       "      <td>PF03399</td>\n",
       "      <td>NaN</td>\n",
       "      <td>HEAT_2</td>\n",
       "    </tr>\n",
       "    <tr>\n",
       "      <th>13</th>\n",
       "      <td>PF01230</td>\n",
       "      <td>NaN</td>\n",
       "      <td>DASH_Dam1; DASH complex subunit Dam1</td>\n",
       "    </tr>\n",
       "    <tr>\n",
       "      <th>14</th>\n",
       "      <td>PF04137</td>\n",
       "      <td>NaN</td>\n",
       "      <td>LRR_6; Leucine-rich repeat</td>\n",
       "    </tr>\n",
       "    <tr>\n",
       "      <th>15</th>\n",
       "      <td>PF03256</td>\n",
       "      <td>NaN</td>\n",
       "      <td>Gsf2; Glucose signalling factor 2</td>\n",
       "    </tr>\n",
       "    <tr>\n",
       "      <th>16</th>\n",
       "      <td>PF08689</td>\n",
       "      <td>NaN</td>\n",
       "      <td>RNA_pol_Rpb2_6; DNA-directed RNA polymerase, s...</td>\n",
       "    </tr>\n",
       "    <tr>\n",
       "      <th>17</th>\n",
       "      <td>PF08238</td>\n",
       "      <td>NaN</td>\n",
       "      <td>Patatin; Patatin-like phospholipase domain</td>\n",
       "    </tr>\n",
       "    <tr>\n",
       "      <th>18</th>\n",
       "      <td>PF09496</td>\n",
       "      <td>NaN</td>\n",
       "      <td>Rib_5-P_isom_A; Ribose 5-phosphate isomerase, ...</td>\n",
       "    </tr>\n",
       "    <tr>\n",
       "      <th>19</th>\n",
       "      <td>PF04121</td>\n",
       "      <td>NaN</td>\n",
       "      <td>LIAS_N; Lipoyl synthase, N-terminal</td>\n",
       "    </tr>\n",
       "    <tr>\n",
       "      <th>20</th>\n",
       "      <td>PF10296</td>\n",
       "      <td>NaN</td>\n",
       "      <td>Ribosomal_S2; Ribosomal protein S2</td>\n",
       "    </tr>\n",
       "    <tr>\n",
       "      <th>21</th>\n",
       "      <td>PF11701</td>\n",
       "      <td>NaN</td>\n",
       "      <td>SSB; Primosome PriB/single-strand DNA-binding</td>\n",
       "    </tr>\n",
       "    <tr>\n",
       "      <th>22</th>\n",
       "      <td>PF00012</td>\n",
       "      <td>NaN</td>\n",
       "      <td>2OG-FeII_Oxy_4</td>\n",
       "    </tr>\n",
       "    <tr>\n",
       "      <th>23</th>\n",
       "      <td>PF08700</td>\n",
       "      <td>NaN</td>\n",
       "      <td>RNA_pol_Rpc4; DNA-directed RNA polymerase III ...</td>\n",
       "    </tr>\n",
       "    <tr>\n",
       "      <th>24</th>\n",
       "      <td>PF11635</td>\n",
       "      <td>NaN</td>\n",
       "      <td>SRP72; Signal recognition particle, SRP72 subu...</td>\n",
       "    </tr>\n",
       "    <tr>\n",
       "      <th>25</th>\n",
       "      <td>PF01585</td>\n",
       "      <td>NaN</td>\n",
       "      <td>DUF2407; Domain of unknown function DUF2407 N-...</td>\n",
       "    </tr>\n",
       "    <tr>\n",
       "      <th>26</th>\n",
       "      <td>PF14938</td>\n",
       "      <td>NaN</td>\n",
       "      <td>Vac14_Fab1_bd; Vacuole morphology and inherita...</td>\n",
       "    </tr>\n",
       "    <tr>\n",
       "      <th>27</th>\n",
       "      <td>PF08317</td>\n",
       "      <td>NaN</td>\n",
       "      <td>Peptidase_M48; Peptidase M48</td>\n",
       "    </tr>\n",
       "    <tr>\n",
       "      <th>28</th>\n",
       "      <td>PF13432</td>\n",
       "      <td>NaN</td>\n",
       "      <td>TRAPPC9-Trs120; TRAPP II complex, Trs120</td>\n",
       "    </tr>\n",
       "    <tr>\n",
       "      <th>29</th>\n",
       "      <td>PF13432</td>\n",
       "      <td>NaN</td>\n",
       "      <td>TRAPPC9-Trs120; TRAPP II complex, Trs120</td>\n",
       "    </tr>\n",
       "    <tr>\n",
       "      <th>30</th>\n",
       "      <td>PF00659</td>\n",
       "      <td>NaN</td>\n",
       "      <td>CBS; CBS domain</td>\n",
       "    </tr>\n",
       "    <tr>\n",
       "      <th>31</th>\n",
       "      <td>PF00238</td>\n",
       "      <td>NaN</td>\n",
       "      <td>ATG7_N; Ubiquitin-like modifier-activating enz...</td>\n",
       "    </tr>\n",
       "    <tr>\n",
       "      <th>32</th>\n",
       "      <td>PF06093</td>\n",
       "      <td>NaN</td>\n",
       "      <td>Not3; CCR4-Not complex component, Not N-termin...</td>\n",
       "    </tr>\n",
       "    <tr>\n",
       "      <th>33</th>\n",
       "      <td>PF07647</td>\n",
       "      <td>NaN</td>\n",
       "      <td>PGM_PMM_III; Alpha-D-phosphohexomutase, alpha/...</td>\n",
       "    </tr>\n",
       "    <tr>\n",
       "      <th>34</th>\n",
       "      <td>PF08505</td>\n",
       "      <td>NaN</td>\n",
       "      <td>Pil1; Eisosome component PIL1/LSP1</td>\n",
       "    </tr>\n",
       "    <tr>\n",
       "      <th>35</th>\n",
       "      <td>PF08505</td>\n",
       "      <td>NaN</td>\n",
       "      <td>Pil1; Eisosome component PIL1/LSP1</td>\n",
       "    </tr>\n",
       "    <tr>\n",
       "      <th>36</th>\n",
       "      <td>PF07534</td>\n",
       "      <td>NaN</td>\n",
       "      <td>PDZ; PDZ domain</td>\n",
       "    </tr>\n",
       "    <tr>\n",
       "      <th>37</th>\n",
       "      <td>PF01287</td>\n",
       "      <td>NaN</td>\n",
       "      <td>DHquinase_I; 3-dehydroquinate dehydratase type I</td>\n",
       "    </tr>\n",
       "    <tr>\n",
       "      <th>38</th>\n",
       "      <td>PF01287</td>\n",
       "      <td>NaN</td>\n",
       "      <td>DHquinase_I; 3-dehydroquinate dehydratase type I</td>\n",
       "    </tr>\n",
       "    <tr>\n",
       "      <th>39</th>\n",
       "      <td>PF00026</td>\n",
       "      <td>NaN</td>\n",
       "      <td>60KD_IMP; Membrane insertase OXA1/ALB3/YidC</td>\n",
       "    </tr>\n",
       "    <tr>\n",
       "      <th>40</th>\n",
       "      <td>PF01282</td>\n",
       "      <td>NaN</td>\n",
       "      <td>DHHC; Palmitoyltransferase, DHHC domain</td>\n",
       "    </tr>\n",
       "    <tr>\n",
       "      <th>41</th>\n",
       "      <td>PF01282</td>\n",
       "      <td>NaN</td>\n",
       "      <td>DHHC; Palmitoyltransferase, DHHC domain</td>\n",
       "    </tr>\n",
       "    <tr>\n",
       "      <th>42</th>\n",
       "      <td>PF09802</td>\n",
       "      <td>NaN</td>\n",
       "      <td>Ribosomal_L27; Ribosomal protein L27</td>\n",
       "    </tr>\n",
       "    <tr>\n",
       "      <th>43</th>\n",
       "      <td>PF03381</td>\n",
       "      <td>NaN</td>\n",
       "      <td>HDA2-3; HDA1 complex subunit 2/3</td>\n",
       "    </tr>\n",
       "    <tr>\n",
       "      <th>44</th>\n",
       "      <td>PF03271</td>\n",
       "      <td>NaN</td>\n",
       "      <td>Gti1_Pac2; Gti1/Pac2 family</td>\n",
       "    </tr>\n",
       "    <tr>\n",
       "      <th>45</th>\n",
       "      <td>PF03095</td>\n",
       "      <td>NaN</td>\n",
       "      <td>Glucosamine_iso; Glucosamine/galactosamine-6-p...</td>\n",
       "    </tr>\n",
       "  </tbody>\n",
       "</table>\n",
       "</div>"
      ],
      "text/plain": [
       "   domain-name domain-description_x  \\\n",
       "3      PF00464                  NaN   \n",
       "4      PF02181                  NaN   \n",
       "5      PF01602                  NaN   \n",
       "6      PF00752                  NaN   \n",
       "7      PF00705                  NaN   \n",
       "8      PF01909                  NaN   \n",
       "9      PF04192                  NaN   \n",
       "10     PF11976                  NaN   \n",
       "11     PF00615                  NaN   \n",
       "12     PF03399                  NaN   \n",
       "13     PF01230                  NaN   \n",
       "14     PF04137                  NaN   \n",
       "15     PF03256                  NaN   \n",
       "16     PF08689                  NaN   \n",
       "17     PF08238                  NaN   \n",
       "18     PF09496                  NaN   \n",
       "19     PF04121                  NaN   \n",
       "20     PF10296                  NaN   \n",
       "21     PF11701                  NaN   \n",
       "22     PF00012                  NaN   \n",
       "23     PF08700                  NaN   \n",
       "24     PF11635                  NaN   \n",
       "25     PF01585                  NaN   \n",
       "26     PF14938                  NaN   \n",
       "27     PF08317                  NaN   \n",
       "28     PF13432                  NaN   \n",
       "29     PF13432                  NaN   \n",
       "30     PF00659                  NaN   \n",
       "31     PF00238                  NaN   \n",
       "32     PF06093                  NaN   \n",
       "33     PF07647                  NaN   \n",
       "34     PF08505                  NaN   \n",
       "35     PF08505                  NaN   \n",
       "36     PF07534                  NaN   \n",
       "37     PF01287                  NaN   \n",
       "38     PF01287                  NaN   \n",
       "39     PF00026                  NaN   \n",
       "40     PF01282                  NaN   \n",
       "41     PF01282                  NaN   \n",
       "42     PF09802                  NaN   \n",
       "43     PF03381                  NaN   \n",
       "44     PF03271                  NaN   \n",
       "45     PF03095                  NaN   \n",
       "\n",
       "                                 domain-description_y  \n",
       "3               ArfGap; Arf GTPase activating protein  \n",
       "4                   Ecl1; Life-span regulatory factor  \n",
       "5        DUF2611; Protein of unknown function DUF2611  \n",
       "6                   CNH; Citron homology (CNH) domain  \n",
       "7                        CH; Calponin homology domain  \n",
       "8          Dynein_light; Dynein light chain, type 1/2  \n",
       "9                                   LicD; LicD family  \n",
       "10                                              Sec20  \n",
       "11            Biotin_lipoyl; Biotin/lipoyl attachment  \n",
       "12                                             HEAT_2  \n",
       "13               DASH_Dam1; DASH complex subunit Dam1  \n",
       "14                         LRR_6; Leucine-rich repeat  \n",
       "15                  Gsf2; Glucose signalling factor 2  \n",
       "16  RNA_pol_Rpb2_6; DNA-directed RNA polymerase, s...  \n",
       "17         Patatin; Patatin-like phospholipase domain  \n",
       "18  Rib_5-P_isom_A; Ribose 5-phosphate isomerase, ...  \n",
       "19                LIAS_N; Lipoyl synthase, N-terminal  \n",
       "20                 Ribosomal_S2; Ribosomal protein S2  \n",
       "21      SSB; Primosome PriB/single-strand DNA-binding  \n",
       "22                                     2OG-FeII_Oxy_4  \n",
       "23  RNA_pol_Rpc4; DNA-directed RNA polymerase III ...  \n",
       "24  SRP72; Signal recognition particle, SRP72 subu...  \n",
       "25  DUF2407; Domain of unknown function DUF2407 N-...  \n",
       "26  Vac14_Fab1_bd; Vacuole morphology and inherita...  \n",
       "27                       Peptidase_M48; Peptidase M48  \n",
       "28           TRAPPC9-Trs120; TRAPP II complex, Trs120  \n",
       "29           TRAPPC9-Trs120; TRAPP II complex, Trs120  \n",
       "30                                    CBS; CBS domain  \n",
       "31  ATG7_N; Ubiquitin-like modifier-activating enz...  \n",
       "32  Not3; CCR4-Not complex component, Not N-termin...  \n",
       "33  PGM_PMM_III; Alpha-D-phosphohexomutase, alpha/...  \n",
       "34                 Pil1; Eisosome component PIL1/LSP1  \n",
       "35                 Pil1; Eisosome component PIL1/LSP1  \n",
       "36                                    PDZ; PDZ domain  \n",
       "37   DHquinase_I; 3-dehydroquinate dehydratase type I  \n",
       "38   DHquinase_I; 3-dehydroquinate dehydratase type I  \n",
       "39        60KD_IMP; Membrane insertase OXA1/ALB3/YidC  \n",
       "40            DHHC; Palmitoyltransferase, DHHC domain  \n",
       "41            DHHC; Palmitoyltransferase, DHHC domain  \n",
       "42               Ribosomal_L27; Ribosomal protein L27  \n",
       "43                   HDA2-3; HDA1 complex subunit 2/3  \n",
       "44                        Gti1_Pac2; Gti1/Pac2 family  \n",
       "45  Glucosamine_iso; Glucosamine/galactosamine-6-p...  "
      ]
     },
     "execution_count": 30,
     "metadata": {},
     "output_type": "execute_result"
    }
   ],
   "source": [
    "only_nsl_pd=pd.merge(repeated_features_sl,repeated_features_nsl,how='right',on=['domain-name'])\n",
    "data_only_nsl = only_nsl_pd[pd.isnull(only_nsl_pd['domain-description_x'])]\n",
    "data_only_nsl"
   ]
  },
  {
   "cell_type": "code",
   "execution_count": 31,
   "metadata": {
    "execution": {
     "iopub.execute_input": "2020-07-17T15:15:38.135265Z",
     "iopub.status.busy": "2020-07-17T15:15:38.134637Z",
     "iopub.status.idle": "2020-07-17T15:15:38.137865Z",
     "shell.execute_reply": "2020-07-17T15:15:38.138353Z"
    }
   },
   "outputs": [
    {
     "data": {
      "text/html": [
       "<div>\n",
       "<style scoped>\n",
       "    .dataframe tbody tr th:only-of-type {\n",
       "        vertical-align: middle;\n",
       "    }\n",
       "\n",
       "    .dataframe tbody tr th {\n",
       "        vertical-align: top;\n",
       "    }\n",
       "\n",
       "    .dataframe thead th {\n",
       "        text-align: right;\n",
       "    }\n",
       "</style>\n",
       "<table border=\"1\" class=\"dataframe\">\n",
       "  <thead>\n",
       "    <tr style=\"text-align: right;\">\n",
       "      <th></th>\n",
       "      <th>domain-name</th>\n",
       "      <th>domain-description_x</th>\n",
       "      <th>domain-description_y</th>\n",
       "    </tr>\n",
       "  </thead>\n",
       "  <tbody>\n",
       "    <tr>\n",
       "      <th>0</th>\n",
       "      <td>PF08241</td>\n",
       "      <td>Pcc1; CTAG/Pcc1 family</td>\n",
       "      <td>Pcc1; CTAG/Pcc1 family</td>\n",
       "    </tr>\n",
       "    <tr>\n",
       "      <th>1</th>\n",
       "      <td>PF00098</td>\n",
       "      <td>ABC_membrane_2; ABC transporter type 1, transm...</td>\n",
       "      <td>ABC_membrane_2; ABC transporter type 1, transm...</td>\n",
       "    </tr>\n",
       "    <tr>\n",
       "      <th>2</th>\n",
       "      <td>PF04733</td>\n",
       "      <td>MTS; Methyltransferase small domain</td>\n",
       "      <td>MTS; Methyltransferase small domain</td>\n",
       "    </tr>\n",
       "  </tbody>\n",
       "</table>\n",
       "</div>"
      ],
      "text/plain": [
       "  domain-name                               domain-description_x  \\\n",
       "0     PF08241                             Pcc1; CTAG/Pcc1 family   \n",
       "1     PF00098  ABC_membrane_2; ABC transporter type 1, transm...   \n",
       "2     PF04733                MTS; Methyltransferase small domain   \n",
       "\n",
       "                                domain-description_y  \n",
       "0                             Pcc1; CTAG/Pcc1 family  \n",
       "1  ABC_membrane_2; ABC transporter type 1, transm...  \n",
       "2                MTS; Methyltransferase small domain  "
      ]
     },
     "execution_count": 31,
     "metadata": {},
     "output_type": "execute_result"
    }
   ],
   "source": [
    "shared_domains_pd=pd.merge(repeated_features_sl,repeated_features_nsl,how='inner',on=['domain-name'])\n",
    "shared_domains_pd\n"
   ]
  },
  {
   "cell_type": "code",
   "execution_count": 32,
   "metadata": {
    "execution": {
     "iopub.execute_input": "2020-07-17T15:15:38.152793Z",
     "iopub.status.busy": "2020-07-17T15:15:38.150014Z",
     "iopub.status.idle": "2020-07-17T15:15:39.851446Z",
     "shell.execute_reply": "2020-07-17T15:15:39.851947Z"
    }
   },
   "outputs": [
    {
     "data": {
      "text/plain": [
       "(0.0, 0.2)"
      ]
     },
     "execution_count": 32,
     "metadata": {},
     "output_type": "execute_result"
    },
    {
     "data": {
      "image/png": "[encoded data removed]",
      "text/plain": [
       "<Figure size 432x288 with 1 Axes>"
      ]
     },
     "metadata": {
      "filenames": {
       "image/png": "/home/runner/work/jupyter-book/jupyter-book/mini_book/docs/_build/jupyter_execute/prot_domains2lethality-FEATURES-POSTPROCESSING_47_1.png"
      },
      "needs_background": "light"
     },
     "output_type": "display_data"
    }
   ],
   "source": [
    "a_sl=x_sl.iloc[:,np.sort(df_sl.iloc[:,1])]\n",
    "a_sl.describe().loc['mean'].hist(bins=8),\n",
    "a_sl.describe().loc['std'].hist(bins=8,alpha=0.4)\n",
    "plt.xlim([0,0.2])"
   ]
  },
  {
   "cell_type": "code",
   "execution_count": 33,
   "metadata": {
    "execution": {
     "iopub.execute_input": "2020-07-17T15:15:39.863100Z",
     "iopub.status.busy": "2020-07-17T15:15:39.857258Z",
     "iopub.status.idle": "2020-07-17T15:15:41.530025Z",
     "shell.execute_reply": "2020-07-17T15:15:41.530495Z"
    }
   },
   "outputs": [
    {
     "data": {
      "text/plain": [
       "(0.0, 0.2)"
      ]
     },
     "execution_count": 33,
     "metadata": {},
     "output_type": "execute_result"
    },
    {
     "data": {
      "image/png": "[encoded data removed]",
      "text/plain": [
       "<Figure size 432x288 with 1 Axes>"
      ]
     },
     "metadata": {
      "filenames": {
       "image/png": "/home/runner/work/jupyter-book/jupyter-book/mini_book/docs/_build/jupyter_execute/prot_domains2lethality-FEATURES-POSTPROCESSING_48_1.png"
      },
      "needs_background": "light"
     },
     "output_type": "display_data"
    }
   ],
   "source": [
    "a_nsl=x_nsl.iloc[:,np.sort(df_nsl.iloc[:,1])]\n",
    "a_nsl.describe().loc['mean'].hist(bins=8),\n",
    "a_nsl.describe().loc['std'].hist(bins=8,alpha=0.4)\n",
    "plt.xlim([0,0.2])"
   ]
  },
  {
   "cell_type": "markdown",
   "metadata": {},
   "source": [
    "### Proof of concept with *BEM1*\n",
    "\n",
    "- Gather the domains of SL and nSL pairs from BEM1\n",
    "- Check if the domains for the SL and nSL pairs are inside the most important domains after PCA."
   ]
  },
  {
   "cell_type": "code",
   "execution_count": 34,
   "metadata": {
    "execution": {
     "iopub.execute_input": "2020-07-17T15:15:41.540025Z",
     "iopub.status.busy": "2020-07-17T15:15:41.539435Z",
     "iopub.status.idle": "2020-07-17T15:15:41.544063Z",
     "shell.execute_reply": "2020-07-17T15:15:41.543309Z"
    }
   },
   "outputs": [],
   "source": [
    "domains_bem1=data_domains[data_domains['name']=='BEM1']['domain-descrip']\n",
    "sl_bem1=data_sl[data_sl['gene-query-name']=='BEM1']['gene-target-name']"
   ]
  },
  {
   "cell_type": "code",
   "execution_count": 35,
   "metadata": {
    "execution": {
     "iopub.execute_input": "2020-07-17T15:15:41.549758Z",
     "iopub.status.busy": "2020-07-17T15:15:41.549164Z",
     "iopub.status.idle": "2020-07-17T15:15:41.552547Z",
     "shell.execute_reply": "2020-07-17T15:15:41.553043Z"
    }
   },
   "outputs": [
    {
     "data": {
      "text/plain": [
       "2846      BEM2\n",
       "2847     CDC24\n",
       "5004      MSB1\n",
       "13777     SMI1\n",
       "13778     BNI1\n",
       "13779     BEM2\n",
       "14385     SKN7\n",
       "Name: gene-target-name, dtype: object"
      ]
     },
     "execution_count": 35,
     "metadata": {},
     "output_type": "execute_result"
    }
   ],
   "source": [
    "sl_bem1"
   ]
  },
  {
   "cell_type": "code",
   "execution_count": 36,
   "metadata": {
    "execution": {
     "iopub.execute_input": "2020-07-17T15:15:41.570285Z",
     "iopub.status.busy": "2020-07-17T15:15:41.557366Z",
     "iopub.status.idle": "2020-07-17T15:15:41.572843Z",
     "shell.execute_reply": "2020-07-17T15:15:41.573329Z"
    }
   },
   "outputs": [
    {
     "data": {
      "text/html": [
       "<div>\n",
       "<style scoped>\n",
       "    .dataframe tbody tr th:only-of-type {\n",
       "        vertical-align: middle;\n",
       "    }\n",
       "\n",
       "    .dataframe tbody tr th {\n",
       "        vertical-align: top;\n",
       "    }\n",
       "\n",
       "    .dataframe thead th {\n",
       "        text-align: right;\n",
       "    }\n",
       "</style>\n",
       "<table border=\"1\" class=\"dataframe\">\n",
       "  <thead>\n",
       "    <tr style=\"text-align: right;\">\n",
       "      <th></th>\n",
       "      <th>gene-query</th>\n",
       "      <th>gene-target</th>\n",
       "      <th>gene-query-name</th>\n",
       "      <th>gene-target-name</th>\n",
       "      <th>gene-query-description</th>\n",
       "      <th>gene-target-description</th>\n",
       "      <th>interaction-type</th>\n",
       "      <th>paper-source</th>\n",
       "    </tr>\n",
       "  </thead>\n",
       "  <tbody>\n",
       "    <tr>\n",
       "      <th>2846</th>\n",
       "      <td>YBR200W</td>\n",
       "      <td>YER155C</td>\n",
       "      <td>BEM1</td>\n",
       "      <td>BEM2</td>\n",
       "      <td>SRO1|phosphatidylinositol-3-phosphate-binding ...</td>\n",
       "      <td>IPL2|SUP9|TSL1|L000000168</td>\n",
       "      <td>Synthetic Lethality</td>\n",
       "      <td>Peterson J (1994)</td>\n",
       "    </tr>\n",
       "    <tr>\n",
       "      <th>2847</th>\n",
       "      <td>YBR200W</td>\n",
       "      <td>YAL041W</td>\n",
       "      <td>BEM1</td>\n",
       "      <td>CDC24</td>\n",
       "      <td>SRO1|phosphatidylinositol-3-phosphate-binding ...</td>\n",
       "      <td>CLS4|Rho family guanine nucleotide exchange fa...</td>\n",
       "      <td>Synthetic Lethality</td>\n",
       "      <td>Peterson J (1994)</td>\n",
       "    </tr>\n",
       "    <tr>\n",
       "      <th>5004</th>\n",
       "      <td>YBR200W</td>\n",
       "      <td>YOR188W</td>\n",
       "      <td>BEM1</td>\n",
       "      <td>MSB1</td>\n",
       "      <td>SRO1|phosphatidylinositol-3-phosphate-binding ...</td>\n",
       "      <td>L000001184</td>\n",
       "      <td>Synthetic Lethality</td>\n",
       "      <td>Bender A (1991)</td>\n",
       "    </tr>\n",
       "    <tr>\n",
       "      <th>13777</th>\n",
       "      <td>YBR200W</td>\n",
       "      <td>YGR229C</td>\n",
       "      <td>BEM1</td>\n",
       "      <td>SMI1</td>\n",
       "      <td>SRO1|phosphatidylinositol-3-phosphate-binding ...</td>\n",
       "      <td>KNR4|L000000909</td>\n",
       "      <td>Synthetic Lethality</td>\n",
       "      <td>Gorelik M (2011)</td>\n",
       "    </tr>\n",
       "    <tr>\n",
       "      <th>13778</th>\n",
       "      <td>YBR200W</td>\n",
       "      <td>YNL271C</td>\n",
       "      <td>BEM1</td>\n",
       "      <td>BNI1</td>\n",
       "      <td>SRO1|phosphatidylinositol-3-phosphate-binding ...</td>\n",
       "      <td>PPF3|SHE5|formin BNI1|L000000190</td>\n",
       "      <td>Synthetic Lethality</td>\n",
       "      <td>Gorelik M (2011)</td>\n",
       "    </tr>\n",
       "    <tr>\n",
       "      <th>13779</th>\n",
       "      <td>YBR200W</td>\n",
       "      <td>YER155C</td>\n",
       "      <td>BEM1</td>\n",
       "      <td>BEM2</td>\n",
       "      <td>SRO1|phosphatidylinositol-3-phosphate-binding ...</td>\n",
       "      <td>IPL2|SUP9|TSL1|L000000168</td>\n",
       "      <td>Synthetic Lethality</td>\n",
       "      <td>Gorelik M (2011)</td>\n",
       "    </tr>\n",
       "    <tr>\n",
       "      <th>14385</th>\n",
       "      <td>YBR200W</td>\n",
       "      <td>YHR206W</td>\n",
       "      <td>BEM1</td>\n",
       "      <td>SKN7</td>\n",
       "      <td>SRO1|phosphatidylinositol-3-phosphate-binding ...</td>\n",
       "      <td>BRY1|POS9|kinase-regulated stress-responsive t...</td>\n",
       "      <td>Dosage Lethality</td>\n",
       "      <td>Bouquin N (1999)</td>\n",
       "    </tr>\n",
       "  </tbody>\n",
       "</table>\n",
       "</div>"
      ],
      "text/plain": [
       "      gene-query gene-target gene-query-name gene-target-name  \\\n",
       "2846     YBR200W     YER155C            BEM1             BEM2   \n",
       "2847     YBR200W     YAL041W            BEM1            CDC24   \n",
       "5004     YBR200W     YOR188W            BEM1             MSB1   \n",
       "13777    YBR200W     YGR229C            BEM1             SMI1   \n",
       "13778    YBR200W     YNL271C            BEM1             BNI1   \n",
       "13779    YBR200W     YER155C            BEM1             BEM2   \n",
       "14385    YBR200W     YHR206W            BEM1             SKN7   \n",
       "\n",
       "                                  gene-query-description  \\\n",
       "2846   SRO1|phosphatidylinositol-3-phosphate-binding ...   \n",
       "2847   SRO1|phosphatidylinositol-3-phosphate-binding ...   \n",
       "5004   SRO1|phosphatidylinositol-3-phosphate-binding ...   \n",
       "13777  SRO1|phosphatidylinositol-3-phosphate-binding ...   \n",
       "13778  SRO1|phosphatidylinositol-3-phosphate-binding ...   \n",
       "13779  SRO1|phosphatidylinositol-3-phosphate-binding ...   \n",
       "14385  SRO1|phosphatidylinositol-3-phosphate-binding ...   \n",
       "\n",
       "                                 gene-target-description     interaction-type  \\\n",
       "2846                           IPL2|SUP9|TSL1|L000000168  Synthetic Lethality   \n",
       "2847   CLS4|Rho family guanine nucleotide exchange fa...  Synthetic Lethality   \n",
       "5004                                          L000001184  Synthetic Lethality   \n",
       "13777                                    KNR4|L000000909  Synthetic Lethality   \n",
       "13778                   PPF3|SHE5|formin BNI1|L000000190  Synthetic Lethality   \n",
       "13779                          IPL2|SUP9|TSL1|L000000168  Synthetic Lethality   \n",
       "14385  BRY1|POS9|kinase-regulated stress-responsive t...     Dosage Lethality   \n",
       "\n",
       "            paper-source  \n",
       "2846   Peterson J (1994)  \n",
       "2847   Peterson J (1994)  \n",
       "5004     Bender A (1991)  \n",
       "13777   Gorelik M (2011)  \n",
       "13778   Gorelik M (2011)  \n",
       "13779   Gorelik M (2011)  \n",
       "14385   Bouquin N (1999)  "
      ]
     },
     "execution_count": 36,
     "metadata": {},
     "output_type": "execute_result"
    }
   ],
   "source": [
    "data_sl[data_sl['gene-query-name']=='BEM1']"
   ]
  },
  {
   "cell_type": "code",
   "execution_count": null,
   "metadata": {},
   "outputs": [],
   "source": []
  }
 ],
 "metadata": {
  "jupytext": {
   "text_representation": {
    "extension": ".md",
    "format_name": "myst"
   }
  },
  "kernelspec": {
   "display_name": "Python 3",
   "language": "python",
   "name": "python3"
  },
  "language_info": {
   "codemirror_mode": {
    "name": "ipython",
    "version": 3
   },
   "file_extension": ".py",
   "mimetype": "text/x-python",
   "name": "python",
   "nbconvert_exporter": "python",
   "pygments_lexer": "ipython3",
   "version": "3.7.6"
  },
  "source_map": [
   10,
   18,
   29,
   36,
   57,
   66,
   98,
   101,
   105,
   128,
   131,
   135,
   139,
   145,
   178,
   184,
   188,
   206,
   210,
   218,
   222,
   225,
   229,
   234,
   238,
   244,
   248,
   253,
   257,
   267,
   269,
   273,
   306,
   311,
   313,
   317,
   328,
   330,
   334,
   344,
   348,
   358,
   360,
   364,
   381,
   388,
   394,
   400,
   407,
   412,
   419,
   424,
   428,
   432
  ]
 },
 "nbformat": 4,
 "nbformat_minor": 4
}