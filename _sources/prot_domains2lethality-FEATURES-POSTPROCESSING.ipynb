{
 "cells": [
  {
   "cell_type": "markdown",
   "metadata": {},
   "source": [
    "# Feature postprocessing from paper.\n",
    "- Title:  \"Predicting yeast synthetic lethal genetic interactions using protein domains\"\n",
    "- Authors: Bo Li, Feng Luo,School of Computing,Clemson University,Clemson, SC, USA\n",
    "- e-mail: bol, luofeng@clemson.edu\n",
    "- year:2009"
   ]
  },
  {
   "cell_type": "code",
   "execution_count": 1,
   "metadata": {
    "execution": {
     "iopub.execute_input": "2020-07-23T10:55:54.690817Z",
     "iopub.status.busy": "2020-07-23T10:55:54.690156Z",
     "iopub.status.idle": "2020-07-23T10:55:55.426500Z",
     "shell.execute_reply": "2020-07-23T10:55:55.426947Z"
    }
   },
   "outputs": [],
   "source": [
    "import pandas as pd\n",
    "import numpy as np\n",
    "import matplotlib.pyplot as plt\n",
    "from collections import defaultdict \n",
    "import seaborn as sns\n",
    "import matplotlib.cm as cm\n",
    "import scipy as scipy\n",
    "import random"
   ]
  },
  {
   "cell_type": "markdown",
   "metadata": {
    "jupyter": {
     "source_hidden": true
    }
   },
   "source": [
    "### Importing datasets \n",
    "\n",
    "#### Link to the github repo where the datasets to be downloaded:\n",
    "[DOWNLOAD THE DATASETS HERE](https://github.com/leilaicruz/machine-learning-for-yeast/tree/dev_Leila/datasets-for-learning)"
   ]
  },
  {
   "cell_type": "code",
   "execution_count": 2,
   "metadata": {
    "execution": {
     "iopub.execute_input": "2020-07-23T10:55:55.433994Z",
     "iopub.status.busy": "2020-07-23T10:55:55.433417Z",
     "iopub.status.idle": "2020-07-23T10:56:02.885353Z",
     "shell.execute_reply": "2020-07-23T10:56:02.884887Z"
    }
   },
   "outputs": [],
   "source": [
    "import os\n",
    "script_dir = os.path.dirname('__file__') #<-- absolute dir the script is in\n",
    "rel_path_SL = \"datasets/data-synthetic-lethals.xlsx\"\n",
    "rel_path_nSL=\"datasets/data-positive-genetic.xlsx\"\n",
    "rel_path_domains=\"datasets/proteins-domains-from-Pfam.xlsx\"\n",
    "\n",
    "abs_file_path_SL = os.path.join(script_dir, rel_path_SL)\n",
    "abs_file_path_nSL = os.path.join(script_dir, rel_path_nSL)\n",
    "abs_file_path_domains = os.path.join(script_dir, rel_path_domains)\n",
    "\n",
    "# os.chdir('mini_book/docs/') #<-- for binder os.chdir('../')\n",
    "# os.chdir('../')\n",
    "my_path_sl= abs_file_path_SL\n",
    "my_path_non_sl=abs_file_path_nSL\n",
    "my_path_domains=abs_file_path_domains\n",
    "\n",
    "data_sl=pd.read_excel(my_path_sl,header=0)\n",
    "data_domains=pd.read_excel(my_path_domains,header=0,index_col='Unnamed: 0')\n",
    "data_domains=data_domains.dropna()\n",
    "data_nonsl=pd.read_excel(my_path_non_sl,header=0)"
   ]
  },
  {
   "cell_type": "markdown",
   "metadata": {},
   "source": [
    "## Building the feature matrix\n",
    "One matrix for true SL where each row is one pair of SL. Every raw will be a vector of 0,1 or 2 depending on the comparison with the domain list. For row i the jth element = 0 if the jth element of the domain list is not in neither protein A and B, 1, if it is in one of them and 2 if it is in both of them .\n",
    "\n",
    "### Building the list of proteins domains id per protein pair separately :\n",
    "- List of protein A: Search for the Sl/nSL database the query gene name and look in the protein domain database which protein domains id has each of those queries.\n",
    "- List of protein B: Search for the Sl/nSL database the target gene name of the previous query and look in the protein domain database which protein domains id has each of those target genes."
   ]
  },
  {
   "cell_type": "code",
   "execution_count": 3,
   "metadata": {
    "execution": {
     "iopub.execute_input": "2020-07-23T10:56:02.898901Z",
     "iopub.status.busy": "2020-07-23T10:56:02.898413Z",
     "iopub.status.idle": "2020-07-23T10:56:04.971502Z",
     "shell.execute_reply": "2020-07-23T10:56:04.970535Z"
    }
   },
   "outputs": [],
   "source": [
    "# Selecting the meaningful columns in the respective dataset\n",
    "domain_id_list=data_domains['domain-name']\n",
    "query_gene=data_sl['gene-query-name']\n",
    "target_gene=data_sl['gene-target-name']\n",
    "query_gene_nonlethal=data_nonsl['gene-query-name']\n",
    "target_gene_nonlethal=data_nonsl['gene-target-name']\n",
    "\n",
    "\n",
    "\n",
    "# Initialising the arrays\n",
    "protein_a_list=[]\n",
    "protein_b_list=[]\n",
    "protein_a_list_non=[]\n",
    "protein_b_list_non=[]\n",
    "\n",
    "population = np.arange(0,len(data_sl))\n",
    "\n",
    "# For loop for 10000 pairs sampled randomly from the SL/nSl pair list , and creating a big array of proteind domains id per protein pair\n",
    "\n",
    "for m in random.sample(list(population), 500):\n",
    "    protein_a=data_domains[data_domains['name']==query_gene[m]]\n",
    "    protein_b=data_domains[data_domains['name']==target_gene[m]]\n",
    "    protein_a_list.append(protein_a['domain-name'].tolist())\n",
    "    protein_b_list.append(protein_b['domain-name'].tolist())\n",
    "\n",
    "    protein_a_non=data_domains[data_domains['name']==query_gene_nonlethal[m]]\n",
    "    protein_b_non=data_domains[data_domains['name']==target_gene_nonlethal[m]]\n",
    "    protein_a_list_non.append(protein_a_non['domain-name'].tolist())\n",
    "    protein_b_list_non.append(protein_b_non['domain-name'].tolist())"
   ]
  },
  {
   "cell_type": "code",
   "execution_count": 4,
   "metadata": {
    "execution": {
     "iopub.execute_input": "2020-07-23T10:56:04.976748Z",
     "iopub.status.busy": "2020-07-23T10:56:04.975315Z",
     "iopub.status.idle": "2020-07-23T10:56:04.981162Z",
     "shell.execute_reply": "2020-07-23T10:56:04.980310Z"
    }
   },
   "outputs": [
    {
     "name": "stdout",
     "output_type": "stream",
     "text": [
      "We are going to analyze 500 protein pairs, out of 17871 SL protein pairs\n",
      "We are going to analyze 500 protein pairs, out of 43340 positive protein pairs\n"
     ]
    }
   ],
   "source": [
    "print('We are going to analyze',len((protein_a_list)) ,'protein pairs, out of',len(data_sl),'SL protein pairs')\n",
    "print('We are going to analyze',len((protein_a_list_non)) ,'protein pairs, out of',len(data_nonsl),'positive protein pairs')"
   ]
  },
  {
   "cell_type": "markdown",
   "metadata": {},
   "source": [
    "### Postprocessing #1:  Remove protein pairs from study if either protein in the pair does not contain any domain"
   ]
  },
  {
   "cell_type": "code",
   "execution_count": 5,
   "metadata": {
    "execution": {
     "iopub.execute_input": "2020-07-23T10:56:04.990278Z",
     "iopub.status.busy": "2020-07-23T10:56:04.989706Z",
     "iopub.status.idle": "2020-07-23T10:56:04.992960Z",
     "shell.execute_reply": "2020-07-23T10:56:04.993376Z"
    }
   },
   "outputs": [],
   "source": [
    "def remove_empty_domains(protein_list_search,protein_list_pair):\n",
    "    index=[]\n",
    "    for i in np.arange(0,len(protein_list_search)):\n",
    "        if protein_list_search[i]==[] or protein_list_pair[i]==[]:\n",
    "            index.append(i) ## index of empty values for the protein_a_list meaning they dont have any annotated domain\n",
    "\n",
    "    y=[x for x in np.arange(0,len(protein_list_search)) if x not in index] # a list with non empty values from protein_a list\n",
    "\n",
    "    protein_list_search_new=[]\n",
    "    protein_list_pair_new=[]\n",
    "    for i in y:\n",
    "        protein_list_search_new.append(protein_list_search[i])\n",
    "        protein_list_pair_new.append(protein_list_pair[i])\n",
    "    return protein_list_search_new,protein_list_pair_new\n",
    "\n",
    "## evaluating the function\n",
    "\n",
    "protein_a_list_new,protein_b_list_new=remove_empty_domains(protein_a_list,protein_b_list)\n",
    "\n",
    "protein_a_list_non_new,protein_b_list_non_new=remove_empty_domains(protein_a_list_non,protein_b_list_non)"
   ]
  },
  {
   "cell_type": "code",
   "execution_count": 6,
   "metadata": {
    "execution": {
     "iopub.execute_input": "2020-07-23T10:56:04.999816Z",
     "iopub.status.busy": "2020-07-23T10:56:04.996901Z",
     "iopub.status.idle": "2020-07-23T10:56:05.006123Z",
     "shell.execute_reply": "2020-07-23T10:56:05.005630Z"
    }
   },
   "outputs": [
    {
     "name": "stdout",
     "output_type": "stream",
     "text": [
      "The empty domain in the SL were: 79 out of 500 domains\n",
      "The empty domain in the nSL were: 88 out of 500 domains\n"
     ]
    }
   ],
   "source": [
    "print('The empty domain in the SL were:', len(protein_a_list)-len(protein_a_list_new), 'out of', len(protein_a_list),'domains')\n",
    "print('The empty domain in the nSL were:', len(protein_a_list_non)-len(protein_a_list_non_new), 'out of', len(protein_a_list_non),'domains')"
   ]
  },
  {
   "cell_type": "markdown",
   "metadata": {},
   "source": [
    "### Feature engineering: Select from each ordered indexes of domain id list which of them appear once, in both or in any of the domains of each protein pair"
   ]
  },
  {
   "cell_type": "markdown",
   "metadata": {},
   "source": [
    "#### Define function `get_indexes`"
   ]
  },
  {
   "cell_type": "code",
   "execution_count": 7,
   "metadata": {
    "execution": {
     "iopub.execute_input": "2020-07-23T10:56:05.012393Z",
     "iopub.status.busy": "2020-07-23T10:56:05.011746Z",
     "iopub.status.idle": "2020-07-23T10:56:05.017253Z",
     "shell.execute_reply": "2020-07-23T10:56:05.016839Z"
    }
   },
   "outputs": [
    {
     "data": {
      "text/plain": [
       "[1, 2]"
      ]
     },
     "execution_count": 7,
     "metadata": {},
     "output_type": "execute_result"
    }
   ],
   "source": [
    "get_indexes = lambda x, xs: [i for (y, i) in zip(xs, range(len(xs))) if x == y] # a function that give the index of whether a value appear in array or not\n",
    "a=[1,2,2,4,5,6,7,8,9,10]\n",
    "get_indexes(2,a)"
   ]
  },
  {
   "cell_type": "code",
   "execution_count": 8,
   "metadata": {
    "execution": {
     "iopub.execute_input": "2020-07-23T10:56:05.025102Z",
     "iopub.status.busy": "2020-07-23T10:56:05.024593Z",
     "iopub.status.idle": "2020-07-23T10:56:05.028561Z",
     "shell.execute_reply": "2020-07-23T10:56:05.028027Z"
    }
   },
   "outputs": [],
   "source": [
    "def feature_building(protein_a_list_new,protein_b_list_new):\n",
    "    x = np.unique(domain_id_list)\n",
    "    ## To avoid taking repeated domains from one protein of the pairs , lets reduced the domains of each protein from the pairs to their unique members\n",
    "    protein_a_list_unique=[]\n",
    "    protein_b_list_unique=[]\n",
    "    for i in np.arange(0,len(protein_a_list_new)):\n",
    "        protein_a_list_unique.append(np.unique(protein_a_list_new[i]))\n",
    "        protein_b_list_unique.append(np.unique(protein_b_list_new[i]))\n",
    "        \n",
    "    protein_feat_true=np.zeros(shape=(len(x),len(protein_a_list_unique)))\n",
    "    pair_a_b_array=[]\n",
    "    for i in np.arange(0,len(protein_a_list_unique)):\n",
    "        index_a=[]\n",
    "        \n",
    "        pair=[protein_a_list_unique[i],protein_b_list_unique[i]]\n",
    "        pair_a_b=np.concatenate(pair).ravel()\n",
    "        pair_a_b_array.append(pair_a_b)\n",
    "\n",
    "    j=0\n",
    "    for i in pair_a_b_array:  \n",
    "        array,index,counts=np.unique(i,return_index=True,return_counts=True)\n",
    "        \n",
    "        for k,m in zip(counts,array):\n",
    "            if k ==2:\n",
    "                protein_feat_true[get_indexes(m,x),j]=2\n",
    "                \n",
    "            if k==1:\n",
    "                protein_feat_true[get_indexes(m,x),j]=1\n",
    "        j=j+1\n",
    "    return protein_feat_true"
   ]
  },
  {
   "cell_type": "code",
   "execution_count": 9,
   "metadata": {
    "execution": {
     "iopub.execute_input": "2020-07-23T10:56:05.038210Z",
     "iopub.status.busy": "2020-07-23T10:56:05.037254Z",
     "iopub.status.idle": "2020-07-23T10:56:05.785579Z",
     "shell.execute_reply": "2020-07-23T10:56:05.785997Z"
    }
   },
   "outputs": [],
   "source": [
    "protein_feat_true=feature_building(protein_b_list_new=protein_b_list_new,protein_a_list_new=protein_a_list_new)\n",
    "protein_feat_true_pd=pd.DataFrame(protein_feat_true.T)\n",
    "\n",
    "protein_feat_non_true=feature_building(protein_b_list_new=protein_b_list_non_new,protein_a_list_new=protein_a_list_non_new)\n",
    "protein_feat_non_true_pd=pd.DataFrame(protein_feat_non_true.T)"
   ]
  },
  {
   "cell_type": "markdown",
   "metadata": {},
   "source": [
    "### How many ones and twos are in each dataset"
   ]
  },
  {
   "cell_type": "code",
   "execution_count": 10,
   "metadata": {
    "execution": {
     "iopub.execute_input": "2020-07-23T10:56:05.793420Z",
     "iopub.status.busy": "2020-07-23T10:56:05.792254Z",
     "iopub.status.idle": "2020-07-23T10:56:05.883131Z",
     "shell.execute_reply": "2020-07-23T10:56:05.882507Z"
    }
   },
   "outputs": [
    {
     "name": "stdout",
     "output_type": "stream",
     "text": [
      "fraction of twos in the SL array is 1.7274886633556468e-05\n",
      "fraction of ones in the SL array is 0.0010247148662177815\n",
      "fraction of twos in the PI array is 6.419000240712509e-06\n",
      "fraction of ones in the PI array is 0.0009058814089705528\n"
     ]
    }
   ],
   "source": [
    "index_2_true=protein_feat_true_pd.where(protein_feat_true_pd==2)\n",
    "index_2_true_count=index_2_true.count(axis=1).sum()\n",
    "\n",
    "index_1_true=protein_feat_true_pd.where(protein_feat_true_pd==1)\n",
    "index_1_true_count=index_1_true.count(axis=1).sum()\n",
    "\n",
    "index_2_nontrue=protein_feat_non_true_pd.where(protein_feat_non_true_pd==2)\n",
    "index_2_nontrue_count=index_2_nontrue.count(axis=1).sum()\n",
    "\n",
    "index_1_nontrue=protein_feat_non_true_pd.where(protein_feat_non_true_pd==1)\n",
    "index_1_nontrue_count=index_1_nontrue.count(axis=1).sum()\n",
    "\n",
    "\n",
    "print('fraction of twos in the SL array is',index_2_true_count/(len(protein_feat_true_pd.index)*len(protein_feat_true_pd.columns)))\n",
    "print('fraction of ones in the SL array is',index_1_true_count/(len(protein_feat_true_pd.index)*len(protein_feat_true_pd.columns)))\n",
    "print('fraction of twos in the PI array is',index_2_nontrue_count/(len(protein_feat_non_true_pd.index)*len(protein_feat_non_true_pd.columns)))\n",
    "print('fraction of ones in the PI array is',index_1_nontrue_count/(len(protein_feat_non_true_pd.index)*len(protein_feat_non_true_pd.columns)))"
   ]
  },
  {
   "cell_type": "markdown",
   "metadata": {},
   "source": [
    "#### Bar plot to visualize these numbers"
   ]
  },
  {
   "cell_type": "code",
   "execution_count": 11,
   "metadata": {
    "execution": {
     "iopub.execute_input": "2020-07-23T10:56:05.906510Z",
     "iopub.status.busy": "2020-07-23T10:56:05.904385Z",
     "iopub.status.idle": "2020-07-23T10:56:06.402301Z",
     "shell.execute_reply": "2020-07-23T10:56:06.401439Z"
    }
   },
   "outputs": [
    {
     "data": {
      "text/plain": [
       "([0, 1, 2, 3],\n",
       " [Text(0, 0, ''), Text(0, 0, ''), Text(0, 0, ''), Text(0, 0, '')])"
      ]
     },
     "execution_count": 11,
     "metadata": {},
     "output_type": "execute_result"
    },
    {
     "data": {
      "image/png": "[encoded data removed]",
      "text/plain": [
       "<Figure size 432x288 with 1 Axes>"
      ]
     },
     "metadata": {
      "filenames": {
       "image/png": "/home/runner/work/jupyter-book/jupyter-book/mini_book/docs/_build/jupyter_execute/prot_domains2lethality-FEATURES-POSTPROCESSING_18_1.png"
      },
      "needs_background": "light"
     },
     "output_type": "display_data"
    }
   ],
   "source": [
    "plt.bar(['fraction of 2 in the nSL','fraction of 1 in the nSL'],[index_2_nontrue_count/(len(protein_feat_non_true_pd.index)*len(protein_feat_non_true_pd.columns)),index_1_nontrue_count/(len(protein_feat_non_true_pd.index)*len(protein_feat_non_true_pd.columns))],alpha=0.6,color=['blue','lightblue']), \n",
    "\n",
    "plt.bar(['fraction of 2 in SL ','fraction of 1 in SL'],[index_2_true_count/(len(protein_feat_true_pd.index)*len(protein_feat_true_pd.columns)),index_1_true_count/(len(protein_feat_true_pd.index)*len(protein_feat_true_pd.columns))],alpha=0.6,color=['coral','lightcoral'])\n",
    "\n",
    "plt.ylabel('Fraction from the population')\n",
    "plt.yscale('log')\n",
    "plt.xticks(rotation=40)"
   ]
  },
  {
   "cell_type": "markdown",
   "metadata": {},
   "source": [
    "#### Adding the labels(response variables) to each dataset"
   ]
  },
  {
   "cell_type": "code",
   "execution_count": 12,
   "metadata": {
    "execution": {
     "iopub.execute_input": "2020-07-23T10:56:06.409826Z",
     "iopub.status.busy": "2020-07-23T10:56:06.408808Z",
     "iopub.status.idle": "2020-07-23T10:56:06.414414Z",
     "shell.execute_reply": "2020-07-23T10:56:06.413713Z"
    }
   },
   "outputs": [],
   "source": [
    "protein_feat_true_pd['lethality']=np.ones(shape=(len(protein_a_list_new)))\n",
    "protein_feat_non_true_pd['lethality']=np.zeros(shape=(len(protein_a_list_non_new)))"
   ]
  },
  {
   "cell_type": "markdown",
   "metadata": {},
   "source": [
    "#### Joining both datasets"
   ]
  },
  {
   "cell_type": "code",
   "execution_count": 13,
   "metadata": {
    "execution": {
     "iopub.execute_input": "2020-07-23T10:56:06.418664Z",
     "iopub.status.busy": "2020-07-23T10:56:06.418024Z",
     "iopub.status.idle": "2020-07-23T10:56:06.455643Z",
     "shell.execute_reply": "2020-07-23T10:56:06.455148Z"
    }
   },
   "outputs": [
    {
     "name": "stdout",
     "output_type": "stream",
     "text": [
      "The number of features are: 3026\n",
      "The number of samples are: 833\n"
     ]
    }
   ],
   "source": [
    "feature_post=pd.concat([protein_feat_true_pd,protein_feat_non_true_pd],axis=0)\n",
    "feature_post=feature_post.set_index(np.arange(0,len(protein_a_list_new)+len(protein_a_list_non_new)))\n",
    "print('The number of features are:',feature_post.shape[1])\n",
    "print('The number of samples are:',feature_post.shape[0])"
   ]
  },
  {
   "cell_type": "markdown",
   "metadata": {},
   "source": [
    "### Postprocessing and exploration of the feature matrix of both datasets"
   ]
  },
  {
   "cell_type": "code",
   "execution_count": 14,
   "metadata": {
    "execution": {
     "iopub.execute_input": "2020-07-23T10:56:06.461984Z",
     "iopub.status.busy": "2020-07-23T10:56:06.461501Z",
     "iopub.status.idle": "2020-07-23T10:56:11.651589Z",
     "shell.execute_reply": "2020-07-23T10:56:11.651135Z"
    }
   },
   "outputs": [],
   "source": [
    "mean=feature_post.T.describe().loc['mean']\n",
    "std=feature_post.T.describe().loc['std']\n",
    "lethality=feature_post['lethality']\n",
    "\n",
    "corr_keys=pd.concat([mean,std,lethality],axis=1)"
   ]
  },
  {
   "cell_type": "markdown",
   "metadata": {},
   "source": [
    "### Viz of the stats"
   ]
  },
  {
   "cell_type": "code",
   "execution_count": 15,
   "metadata": {
    "execution": {
     "iopub.execute_input": "2020-07-23T10:56:11.671288Z",
     "iopub.status.busy": "2020-07-23T10:56:11.667594Z",
     "iopub.status.idle": "2020-07-23T10:56:13.478156Z",
     "shell.execute_reply": "2020-07-23T10:56:13.477687Z"
    }
   },
   "outputs": [
    {
     "data": {
      "text/plain": [
       "Text(0.5, 1.08, 'Pairplot to see data dependencies with Lethality')"
      ]
     },
     "execution_count": 15,
     "metadata": {},
     "output_type": "execute_result"
    },
    {
     "data": {
      "image/png": "[encoded data removed]",
      "text/plain": [
       "<Figure size 412x360 with 6 Axes>"
      ]
     },
     "metadata": {
      "filenames": {
       "image/png": "/home/runner/work/jupyter-book/jupyter-book/mini_book/docs/_build/jupyter_execute/prot_domains2lethality-FEATURES-POSTPROCESSING_26_1.png"
      },
      "needs_background": "light"
     },
     "output_type": "display_data"
    }
   ],
   "source": [
    "pair=sns.pairplot(corr_keys,hue='lethality',diag_kind='kde',kind='reg',palette='colorblind')\n",
    "pair.fig.suptitle('Pairplot to see data dependencies with Lethality',y=1.08)"
   ]
  },
  {
   "cell_type": "code",
   "execution_count": 16,
   "metadata": {
    "execution": {
     "iopub.execute_input": "2020-07-23T10:56:13.494621Z",
     "iopub.status.busy": "2020-07-23T10:56:13.493992Z",
     "iopub.status.idle": "2020-07-23T10:56:13.498362Z",
     "shell.execute_reply": "2020-07-23T10:56:13.497895Z"
    }
   },
   "outputs": [],
   "source": [
    "X, y = feature_post.drop(columns=[\"lethality\"]), feature_post[\"lethality\"]"
   ]
  },
  {
   "cell_type": "code",
   "execution_count": 17,
   "metadata": {
    "execution": {
     "iopub.execute_input": "2020-07-23T10:56:13.506327Z",
     "iopub.status.busy": "2020-07-23T10:56:13.505623Z",
     "iopub.status.idle": "2020-07-23T10:56:13.643217Z",
     "shell.execute_reply": "2020-07-23T10:56:13.643825Z"
    }
   },
   "outputs": [],
   "source": [
    "from sklearn.preprocessing import StandardScaler\n",
    "scaler = StandardScaler()\n",
    "x_sl=protein_feat_true_pd.drop(columns=['lethality'])\n",
    "x_nsl=protein_feat_non_true_pd.drop(columns=['lethality'])\n",
    "\n",
    "X_sl_scaled = scaler.fit_transform(x_sl)\n",
    "X_nsl_scaled = scaler.fit_transform(x_nsl)"
   ]
  },
  {
   "cell_type": "code",
   "execution_count": 18,
   "metadata": {
    "execution": {
     "iopub.execute_input": "2020-07-23T10:56:13.647965Z",
     "iopub.status.busy": "2020-07-23T10:56:13.647371Z",
     "iopub.status.idle": "2020-07-23T10:56:13.653023Z",
     "shell.execute_reply": "2020-07-23T10:56:13.652266Z"
    }
   },
   "outputs": [
    {
     "data": {
      "text/plain": [
       "(421, 3025)"
      ]
     },
     "execution_count": 18,
     "metadata": {},
     "output_type": "execute_result"
    }
   ],
   "source": [
    "np.shape(X_sl_scaled)"
   ]
  },
  {
   "cell_type": "markdown",
   "metadata": {},
   "source": [
    "## How redundant are each of the protein domains?"
   ]
  },
  {
   "cell_type": "code",
   "execution_count": 19,
   "metadata": {
    "execution": {
     "iopub.execute_input": "2020-07-23T10:56:13.660525Z",
     "iopub.status.busy": "2020-07-23T10:56:13.659411Z",
     "iopub.status.idle": "2020-07-23T10:56:13.661164Z",
     "shell.execute_reply": "2020-07-23T10:56:13.661615Z"
    }
   },
   "outputs": [],
   "source": [
    "def PCA_component_contribution(scaled_matrix,original_data):\n",
    "    from sklearn.decomposition import PCA\n",
    "\n",
    "    model = PCA(0.95).fit(scaled_matrix)\n",
    "    ## apply dimensionality reduction to X_train\n",
    "    output_pca = model.transform(scaled_matrix)\n",
    "    \n",
    "    total=sum(model.explained_variance_)\n",
    "\n",
    "\n",
    "   \n",
    "    # number of components , that it will be the number of main axes times the number of original components \n",
    "    n_pcs= model.components_.shape[0] # the amount of non redundant protein domains \n",
    "\n",
    "    # get the index of the most important feature on EACH component\n",
    "    # LIST COMPREHENSION HERE\n",
    "    most_important = [np.abs(model.components_[i]).argmax() for i in range(n_pcs)]\n",
    "\n",
    "    initial_feature_names = original_data.columns\n",
    "    # get the names\n",
    "    most_important_names = [initial_feature_names[most_important[i]] for i in range(n_pcs)]\n",
    "    \n",
    "\n",
    "    # LIST COMPREHENSION HERE AGAIN\n",
    "    dic = {'PC{}'.format(i): most_important_names[i] for i in range(n_pcs)}\n",
    "\n",
    "    # build the dataframe\n",
    "    df = pd.DataFrame(dic.items(),columns=['pca-component','domain-number'])\n",
    "\n",
    "    return df,model.components_"
   ]
  },
  {
   "cell_type": "code",
   "execution_count": 20,
   "metadata": {
    "execution": {
     "iopub.execute_input": "2020-07-23T10:56:13.665384Z",
     "iopub.status.busy": "2020-07-23T10:56:13.664859Z",
     "iopub.status.idle": "2020-07-23T10:56:14.424844Z",
     "shell.execute_reply": "2020-07-23T10:56:14.425597Z"
    }
   },
   "outputs": [],
   "source": [
    "df_sl,components_pca_nsl=PCA_component_contribution(X_nsl_scaled,x_nsl)\n",
    "df_nsl,components_pca_sl=PCA_component_contribution(X_sl_scaled,x_sl)"
   ]
  },
  {
   "cell_type": "code",
   "execution_count": 21,
   "metadata": {
    "execution": {
     "iopub.execute_input": "2020-07-23T10:56:14.428800Z",
     "iopub.status.busy": "2020-07-23T10:56:14.427734Z",
     "iopub.status.idle": "2020-07-23T10:56:14.439184Z",
     "shell.execute_reply": "2020-07-23T10:56:14.439996Z"
    }
   },
   "outputs": [
    {
     "data": {
      "text/html": [
       "<div>\n",
       "<style scoped>\n",
       "    .dataframe tbody tr th:only-of-type {\n",
       "        vertical-align: middle;\n",
       "    }\n",
       "\n",
       "    .dataframe tbody tr th {\n",
       "        vertical-align: top;\n",
       "    }\n",
       "\n",
       "    .dataframe thead th {\n",
       "        text-align: right;\n",
       "    }\n",
       "</style>\n",
       "<table border=\"1\" class=\"dataframe\">\n",
       "  <thead>\n",
       "    <tr style=\"text-align: right;\">\n",
       "      <th></th>\n",
       "      <th>pca-component</th>\n",
       "      <th>domain-number</th>\n",
       "    </tr>\n",
       "  </thead>\n",
       "  <tbody>\n",
       "    <tr>\n",
       "      <th>0</th>\n",
       "      <td>PC0</td>\n",
       "      <td>1464</td>\n",
       "    </tr>\n",
       "    <tr>\n",
       "      <th>1</th>\n",
       "      <td>PC1</td>\n",
       "      <td>135</td>\n",
       "    </tr>\n",
       "    <tr>\n",
       "      <th>2</th>\n",
       "      <td>PC2</td>\n",
       "      <td>2233</td>\n",
       "    </tr>\n",
       "    <tr>\n",
       "      <th>3</th>\n",
       "      <td>PC3</td>\n",
       "      <td>221</td>\n",
       "    </tr>\n",
       "    <tr>\n",
       "      <th>4</th>\n",
       "      <td>PC4</td>\n",
       "      <td>2</td>\n",
       "    </tr>\n",
       "  </tbody>\n",
       "</table>\n",
       "</div>"
      ],
      "text/plain": [
       "  pca-component  domain-number\n",
       "0           PC0           1464\n",
       "1           PC1            135\n",
       "2           PC2           2233\n",
       "3           PC3            221\n",
       "4           PC4              2"
      ]
     },
     "execution_count": 21,
     "metadata": {},
     "output_type": "execute_result"
    }
   ],
   "source": [
    "df_sl.head()"
   ]
  },
  {
   "cell_type": "markdown",
   "metadata": {},
   "source": [
    "## which are the shared domains between nSL and SL pairs , in the PCA reduced samples"
   ]
  },
  {
   "cell_type": "code",
   "execution_count": 22,
   "metadata": {
    "execution": {
     "iopub.execute_input": "2020-07-23T10:56:14.443477Z",
     "iopub.status.busy": "2020-07-23T10:56:14.442309Z",
     "iopub.status.idle": "2020-07-23T10:56:14.477667Z",
     "shell.execute_reply": "2020-07-23T10:56:14.478422Z"
    }
   },
   "outputs": [
    {
     "data": {
      "text/html": [
       "<div>\n",
       "<style scoped>\n",
       "    .dataframe tbody tr th:only-of-type {\n",
       "        vertical-align: middle;\n",
       "    }\n",
       "\n",
       "    .dataframe tbody tr th {\n",
       "        vertical-align: top;\n",
       "    }\n",
       "\n",
       "    .dataframe thead th {\n",
       "        text-align: right;\n",
       "    }\n",
       "</style>\n",
       "<table border=\"1\" class=\"dataframe\">\n",
       "  <thead>\n",
       "    <tr style=\"text-align: right;\">\n",
       "      <th></th>\n",
       "      <th>pca-component_x</th>\n",
       "      <th>domain-number</th>\n",
       "      <th>pca-component_y</th>\n",
       "      <th>domain-description</th>\n",
       "    </tr>\n",
       "  </thead>\n",
       "  <tbody>\n",
       "    <tr>\n",
       "      <th>0</th>\n",
       "      <td>PC4</td>\n",
       "      <td>2</td>\n",
       "      <td>PC73</td>\n",
       "      <td>2-Hacid_dh; D-isomer specific 2-hydroxyacid de...</td>\n",
       "    </tr>\n",
       "    <tr>\n",
       "      <th>1</th>\n",
       "      <td>PC4</td>\n",
       "      <td>2</td>\n",
       "      <td>PC74</td>\n",
       "      <td>2-Hacid_dh; D-isomer specific 2-hydroxyacid de...</td>\n",
       "    </tr>\n",
       "    <tr>\n",
       "      <th>2</th>\n",
       "      <td>PC7</td>\n",
       "      <td>3</td>\n",
       "      <td>PC248</td>\n",
       "      <td>2-Hacid_dh_C; D-isomer specific 2-hydroxyacid ...</td>\n",
       "    </tr>\n",
       "    <tr>\n",
       "      <th>3</th>\n",
       "      <td>PC10</td>\n",
       "      <td>55</td>\n",
       "      <td>PC3</td>\n",
       "      <td>ADK</td>\n",
       "    </tr>\n",
       "    <tr>\n",
       "      <th>4</th>\n",
       "      <td>PC22</td>\n",
       "      <td>274</td>\n",
       "      <td>PC14</td>\n",
       "      <td>BOP1NT; BOP1, N-terminal domain</td>\n",
       "    </tr>\n",
       "    <tr>\n",
       "      <th>5</th>\n",
       "      <td>PC23</td>\n",
       "      <td>2544</td>\n",
       "      <td>PC26</td>\n",
       "      <td>Sybindin; Trafficking protein particle complex...</td>\n",
       "    </tr>\n",
       "    <tr>\n",
       "      <th>6</th>\n",
       "      <td>PC29</td>\n",
       "      <td>183</td>\n",
       "      <td>PC48</td>\n",
       "      <td>Alb1; Ribosome biogenesis protein Alb1</td>\n",
       "    </tr>\n",
       "    <tr>\n",
       "      <th>7</th>\n",
       "      <td>PC32</td>\n",
       "      <td>341</td>\n",
       "      <td>PC37</td>\n",
       "      <td>CDP-OH_P_transf; CDP-alcohol phosphatidyltrans...</td>\n",
       "    </tr>\n",
       "    <tr>\n",
       "      <th>8</th>\n",
       "      <td>PC34</td>\n",
       "      <td>440</td>\n",
       "      <td>PC275</td>\n",
       "      <td>Candida_ALS_N; Agglutinin-like protein, N-term...</td>\n",
       "    </tr>\n",
       "    <tr>\n",
       "      <th>9</th>\n",
       "      <td>PC36</td>\n",
       "      <td>80</td>\n",
       "      <td>PC103</td>\n",
       "      <td>AMPKBI; Association with the SNF1 complex (ASC...</td>\n",
       "    </tr>\n",
       "    <tr>\n",
       "      <th>10</th>\n",
       "      <td>PC45</td>\n",
       "      <td>80</td>\n",
       "      <td>PC103</td>\n",
       "      <td>AMPKBI; Association with the SNF1 complex (ASC...</td>\n",
       "    </tr>\n",
       "    <tr>\n",
       "      <th>11</th>\n",
       "      <td>PC49</td>\n",
       "      <td>1903</td>\n",
       "      <td>PC68</td>\n",
       "      <td>Pex2_Pex12; Pex, N-terminal</td>\n",
       "    </tr>\n",
       "    <tr>\n",
       "      <th>12</th>\n",
       "      <td>PC52</td>\n",
       "      <td>215</td>\n",
       "      <td>PC7</td>\n",
       "      <td>Anticodon_1; Methionyl/Valyl/Leucyl/Isoleucyl-...</td>\n",
       "    </tr>\n",
       "    <tr>\n",
       "      <th>13</th>\n",
       "      <td>PC55</td>\n",
       "      <td>1340</td>\n",
       "      <td>PC202</td>\n",
       "      <td>Lysine_decarbox; LOG family</td>\n",
       "    </tr>\n",
       "    <tr>\n",
       "      <th>14</th>\n",
       "      <td>PC55</td>\n",
       "      <td>1340</td>\n",
       "      <td>PC272</td>\n",
       "      <td>Lysine_decarbox; LOG family</td>\n",
       "    </tr>\n",
       "    <tr>\n",
       "      <th>15</th>\n",
       "      <td>PC56</td>\n",
       "      <td>9</td>\n",
       "      <td>PC147</td>\n",
       "      <td>40S_S4_C; 40S ribosomal protein S4, C-terminal...</td>\n",
       "    </tr>\n",
       "    <tr>\n",
       "      <th>16</th>\n",
       "      <td>PC59</td>\n",
       "      <td>2266</td>\n",
       "      <td>PC131</td>\n",
       "      <td>Rrp15p; Ribosomal RNA-processing protein 15</td>\n",
       "    </tr>\n",
       "    <tr>\n",
       "      <th>17</th>\n",
       "      <td>PC60</td>\n",
       "      <td>2266</td>\n",
       "      <td>PC131</td>\n",
       "      <td>Rrp15p; Ribosomal RNA-processing protein 15</td>\n",
       "    </tr>\n",
       "    <tr>\n",
       "      <th>18</th>\n",
       "      <td>PC61</td>\n",
       "      <td>754</td>\n",
       "      <td>PC85</td>\n",
       "      <td>Diphthamide_syn; Diphthamide synthesis DPH1/DPH2</td>\n",
       "    </tr>\n",
       "    <tr>\n",
       "      <th>19</th>\n",
       "      <td>PC63</td>\n",
       "      <td>205</td>\n",
       "      <td>PC30</td>\n",
       "      <td>Aminotran_5; Aminotransferase class V domain</td>\n",
       "    </tr>\n",
       "    <tr>\n",
       "      <th>20</th>\n",
       "      <td>PC64</td>\n",
       "      <td>205</td>\n",
       "      <td>PC30</td>\n",
       "      <td>Aminotran_5; Aminotransferase class V domain</td>\n",
       "    </tr>\n",
       "    <tr>\n",
       "      <th>21</th>\n",
       "      <td>PC66</td>\n",
       "      <td>2071</td>\n",
       "      <td>PC171</td>\n",
       "      <td>RSN1_TM; Calcium permeable stress-gated cation...</td>\n",
       "    </tr>\n",
       "    <tr>\n",
       "      <th>22</th>\n",
       "      <td>PC69</td>\n",
       "      <td>1836</td>\n",
       "      <td>PC39</td>\n",
       "      <td>PTPLA; Protein-tyrosine phosphatase-like, PTPLA</td>\n",
       "    </tr>\n",
       "    <tr>\n",
       "      <th>23</th>\n",
       "      <td>PC69</td>\n",
       "      <td>1836</td>\n",
       "      <td>PC40</td>\n",
       "      <td>PTPLA; Protein-tyrosine phosphatase-like, PTPLA</td>\n",
       "    </tr>\n",
       "    <tr>\n",
       "      <th>24</th>\n",
       "      <td>PC101</td>\n",
       "      <td>79</td>\n",
       "      <td>PC106</td>\n",
       "      <td>AMPK1_CBM; AMP-activated protein kinase, glyco...</td>\n",
       "    </tr>\n",
       "    <tr>\n",
       "      <th>25</th>\n",
       "      <td>PC102</td>\n",
       "      <td>79</td>\n",
       "      <td>PC106</td>\n",
       "      <td>AMPK1_CBM; AMP-activated protein kinase, glyco...</td>\n",
       "    </tr>\n",
       "    <tr>\n",
       "      <th>26</th>\n",
       "      <td>PC103</td>\n",
       "      <td>454</td>\n",
       "      <td>PC227</td>\n",
       "      <td>Cellulase; Glycoside hydrolase, family 5</td>\n",
       "    </tr>\n",
       "    <tr>\n",
       "      <th>27</th>\n",
       "      <td>PC103</td>\n",
       "      <td>454</td>\n",
       "      <td>PC235</td>\n",
       "      <td>Cellulase; Glycoside hydrolase, family 5</td>\n",
       "    </tr>\n",
       "    <tr>\n",
       "      <th>28</th>\n",
       "      <td>PC117</td>\n",
       "      <td>934</td>\n",
       "      <td>PC64</td>\n",
       "      <td>Folliculin</td>\n",
       "    </tr>\n",
       "    <tr>\n",
       "      <th>29</th>\n",
       "      <td>PC117</td>\n",
       "      <td>934</td>\n",
       "      <td>PC65</td>\n",
       "      <td>Folliculin</td>\n",
       "    </tr>\n",
       "    <tr>\n",
       "      <th>30</th>\n",
       "      <td>PC124</td>\n",
       "      <td>1295</td>\n",
       "      <td>PC119</td>\n",
       "      <td>LIM; Zinc finger, LIM-type</td>\n",
       "    </tr>\n",
       "    <tr>\n",
       "      <th>31</th>\n",
       "      <td>PC127</td>\n",
       "      <td>924</td>\n",
       "      <td>PC237</td>\n",
       "      <td>Flocculin</td>\n",
       "    </tr>\n",
       "    <tr>\n",
       "      <th>32</th>\n",
       "      <td>PC129</td>\n",
       "      <td>924</td>\n",
       "      <td>PC237</td>\n",
       "      <td>Flocculin</td>\n",
       "    </tr>\n",
       "    <tr>\n",
       "      <th>33</th>\n",
       "      <td>PC131</td>\n",
       "      <td>35</td>\n",
       "      <td>PC213</td>\n",
       "      <td>AA_permease; Amino acid permease/ SLC12A domain</td>\n",
       "    </tr>\n",
       "    <tr>\n",
       "      <th>34</th>\n",
       "      <td>PC134</td>\n",
       "      <td>8</td>\n",
       "      <td>PC41</td>\n",
       "      <td>3Beta_HSD; 3-beta hydroxysteroid dehydrogenase...</td>\n",
       "    </tr>\n",
       "    <tr>\n",
       "      <th>35</th>\n",
       "      <td>PC140</td>\n",
       "      <td>1969</td>\n",
       "      <td>PC183</td>\n",
       "      <td>RAI1; RAI1-like</td>\n",
       "    </tr>\n",
       "    <tr>\n",
       "      <th>36</th>\n",
       "      <td>PC149</td>\n",
       "      <td>2980</td>\n",
       "      <td>PC268</td>\n",
       "      <td>zf-CCCH; Zinc finger, CCCH-type</td>\n",
       "    </tr>\n",
       "    <tr>\n",
       "      <th>37</th>\n",
       "      <td>PC170</td>\n",
       "      <td>1365</td>\n",
       "      <td>PC215</td>\n",
       "      <td>MF_alpha; Mating factor alpha, C-terminal repeat</td>\n",
       "    </tr>\n",
       "    <tr>\n",
       "      <th>38</th>\n",
       "      <td>PC181</td>\n",
       "      <td>1701</td>\n",
       "      <td>PC126</td>\n",
       "      <td>PAP_central; Poly(A) polymerase, central domain</td>\n",
       "    </tr>\n",
       "    <tr>\n",
       "      <th>39</th>\n",
       "      <td>PC181</td>\n",
       "      <td>1701</td>\n",
       "      <td>PC129</td>\n",
       "      <td>PAP_central; Poly(A) polymerase, central domain</td>\n",
       "    </tr>\n",
       "    <tr>\n",
       "      <th>40</th>\n",
       "      <td>PC192</td>\n",
       "      <td>1025</td>\n",
       "      <td>PC124</td>\n",
       "      <td>Gal_mutarotas_2; Glycoside hydrolase family 31...</td>\n",
       "    </tr>\n",
       "    <tr>\n",
       "      <th>41</th>\n",
       "      <td>PC201</td>\n",
       "      <td>682</td>\n",
       "      <td>PC245</td>\n",
       "      <td>DUF2431; Domain of unknown function DUF2431</td>\n",
       "    </tr>\n",
       "    <tr>\n",
       "      <th>42</th>\n",
       "      <td>PC206</td>\n",
       "      <td>1037</td>\n",
       "      <td>PC115</td>\n",
       "      <td>Glu_syn_central; Glutamate synthase, central-N</td>\n",
       "    </tr>\n",
       "    <tr>\n",
       "      <th>43</th>\n",
       "      <td>PC206</td>\n",
       "      <td>1037</td>\n",
       "      <td>PC116</td>\n",
       "      <td>Glu_syn_central; Glutamate synthase, central-N</td>\n",
       "    </tr>\n",
       "    <tr>\n",
       "      <th>44</th>\n",
       "      <td>PC279</td>\n",
       "      <td>1037</td>\n",
       "      <td>PC115</td>\n",
       "      <td>Glu_syn_central; Glutamate synthase, central-N</td>\n",
       "    </tr>\n",
       "    <tr>\n",
       "      <th>45</th>\n",
       "      <td>PC279</td>\n",
       "      <td>1037</td>\n",
       "      <td>PC116</td>\n",
       "      <td>Glu_syn_central; Glutamate synthase, central-N</td>\n",
       "    </tr>\n",
       "    <tr>\n",
       "      <th>46</th>\n",
       "      <td>PC217</td>\n",
       "      <td>977</td>\n",
       "      <td>PC195</td>\n",
       "      <td>GED; Dynamin GTPase effector</td>\n",
       "    </tr>\n",
       "    <tr>\n",
       "      <th>47</th>\n",
       "      <td>PC218</td>\n",
       "      <td>2584</td>\n",
       "      <td>PC211</td>\n",
       "      <td>TFIIIC_sub6; Transcription factor TFIIIC, tau5...</td>\n",
       "    </tr>\n",
       "    <tr>\n",
       "      <th>48</th>\n",
       "      <td>PC224</td>\n",
       "      <td>2584</td>\n",
       "      <td>PC211</td>\n",
       "      <td>TFIIIC_sub6; Transcription factor TFIIIC, tau5...</td>\n",
       "    </tr>\n",
       "    <tr>\n",
       "      <th>49</th>\n",
       "      <td>PC219</td>\n",
       "      <td>68</td>\n",
       "      <td>PC50</td>\n",
       "      <td>AIRC; PurE domain</td>\n",
       "    </tr>\n",
       "    <tr>\n",
       "      <th>50</th>\n",
       "      <td>PC225</td>\n",
       "      <td>67</td>\n",
       "      <td>PC89</td>\n",
       "      <td>AIP3; Actin interacting protein 3, C-terminal</td>\n",
       "    </tr>\n",
       "    <tr>\n",
       "      <th>51</th>\n",
       "      <td>PC230</td>\n",
       "      <td>1267</td>\n",
       "      <td>PC169</td>\n",
       "      <td>Kelch_3</td>\n",
       "    </tr>\n",
       "    <tr>\n",
       "      <th>52</th>\n",
       "      <td>PC232</td>\n",
       "      <td>310</td>\n",
       "      <td>PC208</td>\n",
       "      <td>C1_1; Protein kinase C-like, phorbol ester/dia...</td>\n",
       "    </tr>\n",
       "    <tr>\n",
       "      <th>53</th>\n",
       "      <td>PC247</td>\n",
       "      <td>593</td>\n",
       "      <td>PC244</td>\n",
       "      <td>DIM1; Dim1 family</td>\n",
       "    </tr>\n",
       "    <tr>\n",
       "      <th>54</th>\n",
       "      <td>PC247</td>\n",
       "      <td>593</td>\n",
       "      <td>PC261</td>\n",
       "      <td>DIM1; Dim1 family</td>\n",
       "    </tr>\n",
       "    <tr>\n",
       "      <th>55</th>\n",
       "      <td>PC247</td>\n",
       "      <td>593</td>\n",
       "      <td>PC263</td>\n",
       "      <td>DIM1; Dim1 family</td>\n",
       "    </tr>\n",
       "    <tr>\n",
       "      <th>56</th>\n",
       "      <td>PC286</td>\n",
       "      <td>2017</td>\n",
       "      <td>PC86</td>\n",
       "      <td>RNA_pol_Rpb1_7; RNA polymerase Rpb1, domain 7</td>\n",
       "    </tr>\n",
       "  </tbody>\n",
       "</table>\n",
       "</div>"
      ],
      "text/plain": [
       "   pca-component_x  domain-number pca-component_y  \\\n",
       "0              PC4              2            PC73   \n",
       "1              PC4              2            PC74   \n",
       "2              PC7              3           PC248   \n",
       "3             PC10             55             PC3   \n",
       "4             PC22            274            PC14   \n",
       "5             PC23           2544            PC26   \n",
       "6             PC29            183            PC48   \n",
       "7             PC32            341            PC37   \n",
       "8             PC34            440           PC275   \n",
       "9             PC36             80           PC103   \n",
       "10            PC45             80           PC103   \n",
       "11            PC49           1903            PC68   \n",
       "12            PC52            215             PC7   \n",
       "13            PC55           1340           PC202   \n",
       "14            PC55           1340           PC272   \n",
       "15            PC56              9           PC147   \n",
       "16            PC59           2266           PC131   \n",
       "17            PC60           2266           PC131   \n",
       "18            PC61            754            PC85   \n",
       "19            PC63            205            PC30   \n",
       "20            PC64            205            PC30   \n",
       "21            PC66           2071           PC171   \n",
       "22            PC69           1836            PC39   \n",
       "23            PC69           1836            PC40   \n",
       "24           PC101             79           PC106   \n",
       "25           PC102             79           PC106   \n",
       "26           PC103            454           PC227   \n",
       "27           PC103            454           PC235   \n",
       "28           PC117            934            PC64   \n",
       "29           PC117            934            PC65   \n",
       "30           PC124           1295           PC119   \n",
       "31           PC127            924           PC237   \n",
       "32           PC129            924           PC237   \n",
       "33           PC131             35           PC213   \n",
       "34           PC134              8            PC41   \n",
       "35           PC140           1969           PC183   \n",
       "36           PC149           2980           PC268   \n",
       "37           PC170           1365           PC215   \n",
       "38           PC181           1701           PC126   \n",
       "39           PC181           1701           PC129   \n",
       "40           PC192           1025           PC124   \n",
       "41           PC201            682           PC245   \n",
       "42           PC206           1037           PC115   \n",
       "43           PC206           1037           PC116   \n",
       "44           PC279           1037           PC115   \n",
       "45           PC279           1037           PC116   \n",
       "46           PC217            977           PC195   \n",
       "47           PC218           2584           PC211   \n",
       "48           PC224           2584           PC211   \n",
       "49           PC219             68            PC50   \n",
       "50           PC225             67            PC89   \n",
       "51           PC230           1267           PC169   \n",
       "52           PC232            310           PC208   \n",
       "53           PC247            593           PC244   \n",
       "54           PC247            593           PC261   \n",
       "55           PC247            593           PC263   \n",
       "56           PC286           2017            PC86   \n",
       "\n",
       "                                   domain-description  \n",
       "0   2-Hacid_dh; D-isomer specific 2-hydroxyacid de...  \n",
       "1   2-Hacid_dh; D-isomer specific 2-hydroxyacid de...  \n",
       "2   2-Hacid_dh_C; D-isomer specific 2-hydroxyacid ...  \n",
       "3                                                 ADK  \n",
       "4                     BOP1NT; BOP1, N-terminal domain  \n",
       "5   Sybindin; Trafficking protein particle complex...  \n",
       "6              Alb1; Ribosome biogenesis protein Alb1  \n",
       "7   CDP-OH_P_transf; CDP-alcohol phosphatidyltrans...  \n",
       "8   Candida_ALS_N; Agglutinin-like protein, N-term...  \n",
       "9   AMPKBI; Association with the SNF1 complex (ASC...  \n",
       "10  AMPKBI; Association with the SNF1 complex (ASC...  \n",
       "11                        Pex2_Pex12; Pex, N-terminal  \n",
       "12  Anticodon_1; Methionyl/Valyl/Leucyl/Isoleucyl-...  \n",
       "13                        Lysine_decarbox; LOG family  \n",
       "14                        Lysine_decarbox; LOG family  \n",
       "15  40S_S4_C; 40S ribosomal protein S4, C-terminal...  \n",
       "16        Rrp15p; Ribosomal RNA-processing protein 15  \n",
       "17        Rrp15p; Ribosomal RNA-processing protein 15  \n",
       "18   Diphthamide_syn; Diphthamide synthesis DPH1/DPH2  \n",
       "19       Aminotran_5; Aminotransferase class V domain  \n",
       "20       Aminotran_5; Aminotransferase class V domain  \n",
       "21  RSN1_TM; Calcium permeable stress-gated cation...  \n",
       "22    PTPLA; Protein-tyrosine phosphatase-like, PTPLA  \n",
       "23    PTPLA; Protein-tyrosine phosphatase-like, PTPLA  \n",
       "24  AMPK1_CBM; AMP-activated protein kinase, glyco...  \n",
       "25  AMPK1_CBM; AMP-activated protein kinase, glyco...  \n",
       "26           Cellulase; Glycoside hydrolase, family 5  \n",
       "27           Cellulase; Glycoside hydrolase, family 5  \n",
       "28                                         Folliculin  \n",
       "29                                         Folliculin  \n",
       "30                         LIM; Zinc finger, LIM-type  \n",
       "31                                          Flocculin  \n",
       "32                                          Flocculin  \n",
       "33    AA_permease; Amino acid permease/ SLC12A domain  \n",
       "34  3Beta_HSD; 3-beta hydroxysteroid dehydrogenase...  \n",
       "35                                    RAI1; RAI1-like  \n",
       "36                    zf-CCCH; Zinc finger, CCCH-type  \n",
       "37   MF_alpha; Mating factor alpha, C-terminal repeat  \n",
       "38    PAP_central; Poly(A) polymerase, central domain  \n",
       "39    PAP_central; Poly(A) polymerase, central domain  \n",
       "40  Gal_mutarotas_2; Glycoside hydrolase family 31...  \n",
       "41        DUF2431; Domain of unknown function DUF2431  \n",
       "42     Glu_syn_central; Glutamate synthase, central-N  \n",
       "43     Glu_syn_central; Glutamate synthase, central-N  \n",
       "44     Glu_syn_central; Glutamate synthase, central-N  \n",
       "45     Glu_syn_central; Glutamate synthase, central-N  \n",
       "46                       GED; Dynamin GTPase effector  \n",
       "47  TFIIIC_sub6; Transcription factor TFIIIC, tau5...  \n",
       "48  TFIIIC_sub6; Transcription factor TFIIIC, tau5...  \n",
       "49                                  AIRC; PurE domain  \n",
       "50      AIP3; Actin interacting protein 3, C-terminal  \n",
       "51                                            Kelch_3  \n",
       "52  C1_1; Protein kinase C-like, phorbol ester/dia...  \n",
       "53                                  DIM1; Dim1 family  \n",
       "54                                  DIM1; Dim1 family  \n",
       "55                                  DIM1; Dim1 family  \n",
       "56      RNA_pol_Rpb1_7; RNA polymerase Rpb1, domain 7  "
      ]
     },
     "execution_count": 22,
     "metadata": {},
     "output_type": "execute_result"
    }
   ],
   "source": [
    "df_shared_domains=pd.merge(df_sl,df_nsl,how='inner',on='domain-number')\n",
    "domains_name=np.unique(data_domains['domain-name'])\n",
    "domains_description=np.unique(data_domains['domain-descrip'])\n",
    "\n",
    "df_shared_domains['domain-description']=domains_description[df_shared_domains['domain-number']]\n",
    "\n",
    "\n",
    "df_shared_domains"
   ]
  },
  {
   "cell_type": "code",
   "execution_count": 23,
   "metadata": {
    "execution": {
     "iopub.execute_input": "2020-07-23T10:56:14.481860Z",
     "iopub.status.busy": "2020-07-23T10:56:14.480569Z",
     "iopub.status.idle": "2020-07-23T10:56:14.490084Z",
     "shell.execute_reply": "2020-07-23T10:56:14.490806Z"
    }
   },
   "outputs": [
    {
     "name": "stdout",
     "output_type": "stream",
     "text": [
      "The number of shared domains between SL and nSL pairs,after PCA, is =  57 out of 566 so the 10.070671378091873 %\n"
     ]
    }
   ],
   "source": [
    "print('The number of shared domains between SL and nSL pairs,after PCA, is = ',len(df_shared_domains), 'out of', len(df_sl)+len(df_nsl), 'so the',100*len(df_shared_domains)/(len(df_sl)+len(df_nsl)),'%')"
   ]
  },
  {
   "cell_type": "markdown",
   "metadata": {},
   "source": [
    "## Domains exclusive to SL"
   ]
  },
  {
   "cell_type": "code",
   "execution_count": 24,
   "metadata": {
    "execution": {
     "iopub.execute_input": "2020-07-23T10:56:14.493945Z",
     "iopub.status.busy": "2020-07-23T10:56:14.492812Z",
     "iopub.status.idle": "2020-07-23T10:56:14.524808Z",
     "shell.execute_reply": "2020-07-23T10:56:14.525528Z"
    }
   },
   "outputs": [
    {
     "data": {
      "text/html": [
       "<div>\n",
       "<style scoped>\n",
       "    .dataframe tbody tr th:only-of-type {\n",
       "        vertical-align: middle;\n",
       "    }\n",
       "\n",
       "    .dataframe tbody tr th {\n",
       "        vertical-align: top;\n",
       "    }\n",
       "\n",
       "    .dataframe thead th {\n",
       "        text-align: right;\n",
       "    }\n",
       "</style>\n",
       "<table border=\"1\" class=\"dataframe\">\n",
       "  <thead>\n",
       "    <tr style=\"text-align: right;\">\n",
       "      <th></th>\n",
       "      <th>pca-component_x</th>\n",
       "      <th>domain-number</th>\n",
       "      <th>pca-component_y</th>\n",
       "      <th>domain-description</th>\n",
       "    </tr>\n",
       "  </thead>\n",
       "  <tbody>\n",
       "    <tr>\n",
       "      <th>0</th>\n",
       "      <td>PC0</td>\n",
       "      <td>1464</td>\n",
       "      <td>NaN</td>\n",
       "      <td>Metallophos_2; Calcineurin-like phosphoesteras...</td>\n",
       "    </tr>\n",
       "    <tr>\n",
       "      <th>1</th>\n",
       "      <td>PC1</td>\n",
       "      <td>135</td>\n",
       "      <td>NaN</td>\n",
       "      <td>ATP-synt_ab_Xtn; ATPsynthase alpha/beta subuni...</td>\n",
       "    </tr>\n",
       "    <tr>\n",
       "      <th>2</th>\n",
       "      <td>PC2</td>\n",
       "      <td>2233</td>\n",
       "      <td>NaN</td>\n",
       "      <td>Ribosomal_S27e; Ribosomal protein S27e</td>\n",
       "    </tr>\n",
       "    <tr>\n",
       "      <th>3</th>\n",
       "      <td>PC3</td>\n",
       "      <td>221</td>\n",
       "      <td>NaN</td>\n",
       "      <td>Apq12; Nuclear pore assembly and biogenesis pr...</td>\n",
       "    </tr>\n",
       "    <tr>\n",
       "      <th>6</th>\n",
       "      <td>PC5</td>\n",
       "      <td>219</td>\n",
       "      <td>NaN</td>\n",
       "      <td>Apc15p; Anaphase-promoting complex subunit  15...</td>\n",
       "    </tr>\n",
       "    <tr>\n",
       "      <th>...</th>\n",
       "      <td>...</td>\n",
       "      <td>...</td>\n",
       "      <td>...</td>\n",
       "      <td>...</td>\n",
       "    </tr>\n",
       "    <tr>\n",
       "      <th>292</th>\n",
       "      <td>PC282</td>\n",
       "      <td>1571</td>\n",
       "      <td>NaN</td>\n",
       "      <td>NMT1; SsuA/THI5-like</td>\n",
       "    </tr>\n",
       "    <tr>\n",
       "      <th>293</th>\n",
       "      <td>PC283</td>\n",
       "      <td>2651</td>\n",
       "      <td>NaN</td>\n",
       "      <td>Telomere_reg-2; Telomere length regulation pro...</td>\n",
       "    </tr>\n",
       "    <tr>\n",
       "      <th>294</th>\n",
       "      <td>PC284</td>\n",
       "      <td>1166</td>\n",
       "      <td>NaN</td>\n",
       "      <td>HhH-GPD; HhH-GPD domain</td>\n",
       "    </tr>\n",
       "    <tr>\n",
       "      <th>295</th>\n",
       "      <td>PC285</td>\n",
       "      <td>1030</td>\n",
       "      <td>NaN</td>\n",
       "      <td>Gcn1_N; Gcn1, N-terminal</td>\n",
       "    </tr>\n",
       "    <tr>\n",
       "      <th>297</th>\n",
       "      <td>PC287</td>\n",
       "      <td>122</td>\n",
       "      <td>NaN</td>\n",
       "      <td>ATP-synt_10; ATPase assembly factor ATP10</td>\n",
       "    </tr>\n",
       "  </tbody>\n",
       "</table>\n",
       "<p>241 rows × 4 columns</p>\n",
       "</div>"
      ],
      "text/plain": [
       "    pca-component_x  domain-number pca-component_y  \\\n",
       "0               PC0           1464             NaN   \n",
       "1               PC1            135             NaN   \n",
       "2               PC2           2233             NaN   \n",
       "3               PC3            221             NaN   \n",
       "6               PC5            219             NaN   \n",
       "..              ...            ...             ...   \n",
       "292           PC282           1571             NaN   \n",
       "293           PC283           2651             NaN   \n",
       "294           PC284           1166             NaN   \n",
       "295           PC285           1030             NaN   \n",
       "297           PC287            122             NaN   \n",
       "\n",
       "                                    domain-description  \n",
       "0    Metallophos_2; Calcineurin-like phosphoesteras...  \n",
       "1    ATP-synt_ab_Xtn; ATPsynthase alpha/beta subuni...  \n",
       "2               Ribosomal_S27e; Ribosomal protein S27e  \n",
       "3    Apq12; Nuclear pore assembly and biogenesis pr...  \n",
       "6    Apc15p; Anaphase-promoting complex subunit  15...  \n",
       "..                                                 ...  \n",
       "292                               NMT1; SsuA/THI5-like  \n",
       "293  Telomere_reg-2; Telomere length regulation pro...  \n",
       "294                            HhH-GPD; HhH-GPD domain  \n",
       "295                           Gcn1_N; Gcn1, N-terminal  \n",
       "297          ATP-synt_10; ATPase assembly factor ATP10  \n",
       "\n",
       "[241 rows x 4 columns]"
      ]
     },
     "execution_count": 24,
     "metadata": {},
     "output_type": "execute_result"
    }
   ],
   "source": [
    "df_sl_exclusive=pd.merge(df_sl,df_nsl,how='left',on='domain-number')\n",
    "\n",
    "domains_name=np.unique(data_domains['domain-name'])\n",
    "domains_description=np.unique(data_domains['domain-descrip'])\n",
    "\n",
    "df_sl_exclusive['domain-description']=domains_description[df_sl_exclusive['domain-number']]\n",
    "df_sl_exclusive[pd.isnull(df_sl_exclusive['pca-component_y'])]"
   ]
  },
  {
   "cell_type": "code",
   "execution_count": 25,
   "metadata": {
    "execution": {
     "iopub.execute_input": "2020-07-23T10:56:14.529483Z",
     "iopub.status.busy": "2020-07-23T10:56:14.527734Z",
     "iopub.status.idle": "2020-07-23T10:56:14.535717Z",
     "shell.execute_reply": "2020-07-23T10:56:14.536184Z"
    }
   },
   "outputs": [
    {
     "name": "stdout",
     "output_type": "stream",
     "text": [
      "The number of exclusive domains from SL pairs, after PCA, is =  298 out of 566 so the 52.65017667844523 %\n"
     ]
    }
   ],
   "source": [
    "print('The number of exclusive domains from SL pairs, after PCA, is = ',len(df_sl_exclusive), 'out of', len(df_sl)+len(df_nsl), 'so the',100*len(df_sl_exclusive)/(len(df_sl)+len(df_nsl)),'%')"
   ]
  },
  {
   "cell_type": "code",
   "execution_count": 26,
   "metadata": {
    "execution": {
     "iopub.execute_input": "2020-07-23T10:56:14.542296Z",
     "iopub.status.busy": "2020-07-23T10:56:14.541693Z",
     "iopub.status.idle": "2020-07-23T10:56:14.571167Z",
     "shell.execute_reply": "2020-07-23T10:56:14.570682Z"
    }
   },
   "outputs": [
    {
     "data": {
      "text/html": [
       "<div>\n",
       "<style scoped>\n",
       "    .dataframe tbody tr th:only-of-type {\n",
       "        vertical-align: middle;\n",
       "    }\n",
       "\n",
       "    .dataframe tbody tr th {\n",
       "        vertical-align: top;\n",
       "    }\n",
       "\n",
       "    .dataframe thead th {\n",
       "        text-align: right;\n",
       "    }\n",
       "</style>\n",
       "<table border=\"1\" class=\"dataframe\">\n",
       "  <thead>\n",
       "    <tr style=\"text-align: right;\">\n",
       "      <th></th>\n",
       "      <th>pca-component_x</th>\n",
       "      <th>domain-number</th>\n",
       "      <th>pca-component_y</th>\n",
       "      <th>domain-description</th>\n",
       "    </tr>\n",
       "  </thead>\n",
       "  <tbody>\n",
       "    <tr>\n",
       "      <th>57</th>\n",
       "      <td>NaN</td>\n",
       "      <td>1028</td>\n",
       "      <td>PC0</td>\n",
       "      <td>GatB_Yqey; Asn/Gln amidotransferase</td>\n",
       "    </tr>\n",
       "    <tr>\n",
       "      <th>58</th>\n",
       "      <td>NaN</td>\n",
       "      <td>305</td>\n",
       "      <td>PC1</td>\n",
       "      <td>Brr6_like_C_C; Brl1/Brr6 domain</td>\n",
       "    </tr>\n",
       "    <tr>\n",
       "      <th>59</th>\n",
       "      <td>NaN</td>\n",
       "      <td>268</td>\n",
       "      <td>PC2</td>\n",
       "      <td>BHD_3; Rad4 beta-hairpin domain 3</td>\n",
       "    </tr>\n",
       "    <tr>\n",
       "      <th>60</th>\n",
       "      <td>NaN</td>\n",
       "      <td>7</td>\n",
       "      <td>PC4</td>\n",
       "      <td>3-HAO; 3-hydroxyanthranilic acid dioxygenase</td>\n",
       "    </tr>\n",
       "    <tr>\n",
       "      <th>61</th>\n",
       "      <td>NaN</td>\n",
       "      <td>2113</td>\n",
       "      <td>PC5</td>\n",
       "      <td>Rav1p_C; RAVE complex protein Rav1 C-terminal</td>\n",
       "    </tr>\n",
       "    <tr>\n",
       "      <th>...</th>\n",
       "      <td>...</td>\n",
       "      <td>...</td>\n",
       "      <td>...</td>\n",
       "      <td>...</td>\n",
       "    </tr>\n",
       "    <tr>\n",
       "      <th>281</th>\n",
       "      <td>NaN</td>\n",
       "      <td>1057</td>\n",
       "      <td>PC271</td>\n",
       "      <td>Glyco_hydro_65m; Glycoside hydrolase, family 6...</td>\n",
       "    </tr>\n",
       "    <tr>\n",
       "      <th>282</th>\n",
       "      <td>NaN</td>\n",
       "      <td>1410</td>\n",
       "      <td>PC273</td>\n",
       "      <td>MTHFR; Methylenetetrahydrofolate reductase</td>\n",
       "    </tr>\n",
       "    <tr>\n",
       "      <th>283</th>\n",
       "      <td>NaN</td>\n",
       "      <td>2160</td>\n",
       "      <td>PC274</td>\n",
       "      <td>Ribosomal_L14e; Ribosomal protein L14e domain</td>\n",
       "    </tr>\n",
       "    <tr>\n",
       "      <th>284</th>\n",
       "      <td>NaN</td>\n",
       "      <td>2230</td>\n",
       "      <td>PC276</td>\n",
       "      <td>Ribosomal_S25; Ribosomal protein S25</td>\n",
       "    </tr>\n",
       "    <tr>\n",
       "      <th>285</th>\n",
       "      <td>NaN</td>\n",
       "      <td>1483</td>\n",
       "      <td>PC277</td>\n",
       "      <td>MgsA_C; MgsA AAA+ ATPase C-terminal</td>\n",
       "    </tr>\n",
       "  </tbody>\n",
       "</table>\n",
       "<p>229 rows × 4 columns</p>\n",
       "</div>"
      ],
      "text/plain": [
       "    pca-component_x  domain-number pca-component_y  \\\n",
       "57              NaN           1028             PC0   \n",
       "58              NaN            305             PC1   \n",
       "59              NaN            268             PC2   \n",
       "60              NaN              7             PC4   \n",
       "61              NaN           2113             PC5   \n",
       "..              ...            ...             ...   \n",
       "281             NaN           1057           PC271   \n",
       "282             NaN           1410           PC273   \n",
       "283             NaN           2160           PC274   \n",
       "284             NaN           2230           PC276   \n",
       "285             NaN           1483           PC277   \n",
       "\n",
       "                                    domain-description  \n",
       "57                 GatB_Yqey; Asn/Gln amidotransferase  \n",
       "58                     Brr6_like_C_C; Brl1/Brr6 domain  \n",
       "59                   BHD_3; Rad4 beta-hairpin domain 3  \n",
       "60        3-HAO; 3-hydroxyanthranilic acid dioxygenase  \n",
       "61       Rav1p_C; RAVE complex protein Rav1 C-terminal  \n",
       "..                                                 ...  \n",
       "281  Glyco_hydro_65m; Glycoside hydrolase, family 6...  \n",
       "282         MTHFR; Methylenetetrahydrofolate reductase  \n",
       "283      Ribosomal_L14e; Ribosomal protein L14e domain  \n",
       "284               Ribosomal_S25; Ribosomal protein S25  \n",
       "285                MgsA_C; MgsA AAA+ ATPase C-terminal  \n",
       "\n",
       "[229 rows x 4 columns]"
      ]
     },
     "execution_count": 26,
     "metadata": {},
     "output_type": "execute_result"
    }
   ],
   "source": [
    "df_nsl_exclusive=pd.merge(df_sl,df_nsl,how='right',on='domain-number')\n",
    "\n",
    "domains_name=np.unique(data_domains['domain-name'])\n",
    "domains_description=np.unique(data_domains['domain-descrip'])\n",
    "\n",
    "df_nsl_exclusive['domain-description']=domains_description[df_nsl_exclusive['domain-number']]\n",
    "df_nsl_exclusive[pd.isnull(df_nsl_exclusive['pca-component_x'])]"
   ]
  },
  {
   "cell_type": "code",
   "execution_count": 27,
   "metadata": {
    "execution": {
     "iopub.execute_input": "2020-07-23T10:56:14.576483Z",
     "iopub.status.busy": "2020-07-23T10:56:14.575943Z",
     "iopub.status.idle": "2020-07-23T10:56:14.581122Z",
     "shell.execute_reply": "2020-07-23T10:56:14.580476Z"
    }
   },
   "outputs": [
    {
     "name": "stdout",
     "output_type": "stream",
     "text": [
      "The number of exclusive domains from non SL pairs, after PCA, is =  286 out of 566 so the 50.53003533568904 %\n"
     ]
    }
   ],
   "source": [
    "print('The number of exclusive domains from non SL pairs, after PCA, is = ',len(df_nsl_exclusive), 'out of', len(df_sl)+len(df_nsl), 'so the',100*len(df_nsl_exclusive)/(len(df_sl)+len(df_nsl)),'%')"
   ]
  },
  {
   "cell_type": "markdown",
   "metadata": {},
   "source": [
    "## Let see to the domains-number that get repeated after the PCA analysis , and selecting the most explanatory feature by its explained variance."
   ]
  },
  {
   "cell_type": "code",
   "execution_count": 28,
   "metadata": {
    "execution": {
     "iopub.execute_input": "2020-07-23T10:56:14.602522Z",
     "iopub.status.busy": "2020-07-23T10:56:14.602048Z",
     "iopub.status.idle": "2020-07-23T10:56:14.605738Z",
     "shell.execute_reply": "2020-07-23T10:56:14.605007Z"
    }
   },
   "outputs": [],
   "source": [
    "duplicated_features_sl=df_sl[df_sl.iloc[:,1].duplicated()]\n",
    "repeated_features_sl=pd.DataFrame()\n",
    "\n",
    "domains_name=np.unique(data_domains['domain-name'])\n",
    "domains_description=np.unique(data_domains['domain-descrip'])\n",
    "\n",
    "repeated_features_sl['domain-name']=domains_name[duplicated_features_sl.iloc[:,1]] \n",
    "repeated_features_sl['domain-description']=domains_description[duplicated_features_sl.iloc[:,1]]\n",
    "\n",
    "duplicated_features_nsl=df_nsl[df_nsl.iloc[:,1].duplicated()]\n",
    "repeated_features_nsl=pd.DataFrame()\n",
    "\n",
    "repeated_features_nsl['domain-name']=domains_name[duplicated_features_nsl.iloc[:,1]] \n",
    "repeated_features_nsl['domain-description']=domains_description[duplicated_features_nsl.iloc[:,1]]"
   ]
  },
  {
   "cell_type": "code",
   "execution_count": 29,
   "metadata": {
    "execution": {
     "iopub.execute_input": "2020-07-23T10:56:14.616187Z",
     "iopub.status.busy": "2020-07-23T10:56:14.615104Z",
     "iopub.status.idle": "2020-07-23T10:56:14.621946Z",
     "shell.execute_reply": "2020-07-23T10:56:14.622457Z"
    }
   },
   "outputs": [
    {
     "name": "stderr",
     "output_type": "stream",
     "text": [
      "/usr/share/miniconda3/envs/wintest/lib/python3.7/site-packages/ipykernel_launcher.py:3: SettingWithCopyWarning: \n",
      "A value is trying to be set on a copy of a slice from a DataFrame.\n",
      "Try using .loc[row_indexer,col_indexer] = value instead\n",
      "\n",
      "See the caveats in the documentation: https://pandas.pydata.org/pandas-docs/stable/user_guide/indexing.html#returning-a-view-versus-a-copy\n",
      "  This is separate from the ipykernel package so we can avoid doing imports until\n"
     ]
    },
    {
     "data": {
      "text/plain": [
       "((37, 4), (298, 4))"
      ]
     },
     "execution_count": 29,
     "metadata": {},
     "output_type": "execute_result"
    }
   ],
   "source": [
    "only_sl_pd=pd.merge(repeated_features_sl,repeated_features_nsl,how='left',on=['domain-name'])\n",
    "data_only_sl = only_sl_pd[pd.isnull(only_sl_pd['domain-description_y'])]\n",
    "data_only_sl['domain-description']=data_only_sl['domain-description_x']\n",
    "data_only_sl.shape,df_sl_exclusive.shape"
   ]
  },
  {
   "cell_type": "code",
   "execution_count": 30,
   "metadata": {
    "execution": {
     "iopub.execute_input": "2020-07-23T10:56:14.641207Z",
     "iopub.status.busy": "2020-07-23T10:56:14.627555Z",
     "iopub.status.idle": "2020-07-23T10:56:14.646088Z",
     "shell.execute_reply": "2020-07-23T10:56:14.645656Z"
    }
   },
   "outputs": [
    {
     "data": {
      "text/html": [
       "<div>\n",
       "<style scoped>\n",
       "    .dataframe tbody tr th:only-of-type {\n",
       "        vertical-align: middle;\n",
       "    }\n",
       "\n",
       "    .dataframe tbody tr th {\n",
       "        vertical-align: top;\n",
       "    }\n",
       "\n",
       "    .dataframe thead th {\n",
       "        text-align: right;\n",
       "    }\n",
       "</style>\n",
       "<table border=\"1\" class=\"dataframe\">\n",
       "  <thead>\n",
       "    <tr style=\"text-align: right;\">\n",
       "      <th></th>\n",
       "      <th>domain-name</th>\n",
       "      <th>domain-description_x</th>\n",
       "      <th>domain-description_y</th>\n",
       "    </tr>\n",
       "  </thead>\n",
       "  <tbody>\n",
       "    <tr>\n",
       "      <th>1</th>\n",
       "      <td>PF01608</td>\n",
       "      <td>NaN</td>\n",
       "      <td>DUF2781</td>\n",
       "    </tr>\n",
       "    <tr>\n",
       "      <th>2</th>\n",
       "      <td>PF00487</td>\n",
       "      <td>NaN</td>\n",
       "      <td>Atg14; UV radiation resistance protein/autopha...</td>\n",
       "    </tr>\n",
       "    <tr>\n",
       "      <th>3</th>\n",
       "      <td>PF08171</td>\n",
       "      <td>NaN</td>\n",
       "      <td>PTPLA; Protein-tyrosine phosphatase-like, PTPLA</td>\n",
       "    </tr>\n",
       "    <tr>\n",
       "      <th>4</th>\n",
       "      <td>PF10429</td>\n",
       "      <td>NaN</td>\n",
       "      <td>SAPS; SIT4 phosphatase-associated protein family</td>\n",
       "    </tr>\n",
       "    <tr>\n",
       "      <th>5</th>\n",
       "      <td>PF03152</td>\n",
       "      <td>NaN</td>\n",
       "      <td>Glyco_hydro_72; Glucanosyltransferase</td>\n",
       "    </tr>\n",
       "    <tr>\n",
       "      <th>6</th>\n",
       "      <td>PF00533</td>\n",
       "      <td>NaN</td>\n",
       "      <td>BAR_2; BAR domain-containing family</td>\n",
       "    </tr>\n",
       "    <tr>\n",
       "      <th>7</th>\n",
       "      <td>PF02732</td>\n",
       "      <td>NaN</td>\n",
       "      <td>Folliculin</td>\n",
       "    </tr>\n",
       "    <tr>\n",
       "      <th>8</th>\n",
       "      <td>PF00006</td>\n",
       "      <td>NaN</td>\n",
       "      <td>2-Hacid_dh; D-isomer specific 2-hydroxyacid de...</td>\n",
       "    </tr>\n",
       "    <tr>\n",
       "      <th>9</th>\n",
       "      <td>PF02197</td>\n",
       "      <td>NaN</td>\n",
       "      <td>EnY2</td>\n",
       "    </tr>\n",
       "    <tr>\n",
       "      <th>10</th>\n",
       "      <td>PF06733</td>\n",
       "      <td>NaN</td>\n",
       "      <td>Ost5; Oligosaccharyltransferase complex subunit</td>\n",
       "    </tr>\n",
       "    <tr>\n",
       "      <th>11</th>\n",
       "      <td>PF11610</td>\n",
       "      <td>NaN</td>\n",
       "      <td>SRP54; Signal recognition particle, SRP54 subu...</td>\n",
       "    </tr>\n",
       "    <tr>\n",
       "      <th>12</th>\n",
       "      <td>PF05186</td>\n",
       "      <td>NaN</td>\n",
       "      <td>Motile_Sperm; Major sperm protein (MSP) domain</td>\n",
       "    </tr>\n",
       "    <tr>\n",
       "      <th>13</th>\n",
       "      <td>PF01416</td>\n",
       "      <td>NaN</td>\n",
       "      <td>DNA_pol_phi; DNA polymerase V</td>\n",
       "    </tr>\n",
       "    <tr>\n",
       "      <th>14</th>\n",
       "      <td>PF03874</td>\n",
       "      <td>NaN</td>\n",
       "      <td>Hydantoinase_A; Hydantoinase/oxoprolinase</td>\n",
       "    </tr>\n",
       "    <tr>\n",
       "      <th>15</th>\n",
       "      <td>PF06479</td>\n",
       "      <td>NaN</td>\n",
       "      <td>ORC5_C; Origin recognition complex, subunit 5</td>\n",
       "    </tr>\n",
       "    <tr>\n",
       "      <th>16</th>\n",
       "      <td>PF07064</td>\n",
       "      <td>NaN</td>\n",
       "      <td>PAP_central; Poly(A) polymerase, central domain</td>\n",
       "    </tr>\n",
       "    <tr>\n",
       "      <th>17</th>\n",
       "      <td>PF05669</td>\n",
       "      <td>NaN</td>\n",
       "      <td>NOC3p; Nucleolar complex-associated protein 3,...</td>\n",
       "    </tr>\n",
       "    <tr>\n",
       "      <th>18</th>\n",
       "      <td>PF09346</td>\n",
       "      <td>NaN</td>\n",
       "      <td>RasGAP; Ras GTPase-activating protein</td>\n",
       "    </tr>\n",
       "    <tr>\n",
       "      <th>19</th>\n",
       "      <td>PF04478</td>\n",
       "      <td>NaN</td>\n",
       "      <td>MCM_OB; MCM OB domain</td>\n",
       "    </tr>\n",
       "    <tr>\n",
       "      <th>20</th>\n",
       "      <td>PF05046</td>\n",
       "      <td>NaN</td>\n",
       "      <td>Mhr1; Mitochondrial homologous recombination p...</td>\n",
       "    </tr>\n",
       "    <tr>\n",
       "      <th>21</th>\n",
       "      <td>PF06428</td>\n",
       "      <td>NaN</td>\n",
       "      <td>OB_NTP_bind; Domain of unknown function DUF1605</td>\n",
       "    </tr>\n",
       "    <tr>\n",
       "      <th>22</th>\n",
       "      <td>PF06428</td>\n",
       "      <td>NaN</td>\n",
       "      <td>OB_NTP_bind; Domain of unknown function DUF1605</td>\n",
       "    </tr>\n",
       "    <tr>\n",
       "      <th>23</th>\n",
       "      <td>PF04139</td>\n",
       "      <td>NaN</td>\n",
       "      <td>LRR_8; Leucine-rich repeat</td>\n",
       "    </tr>\n",
       "    <tr>\n",
       "      <th>24</th>\n",
       "      <td>PF03271</td>\n",
       "      <td>NaN</td>\n",
       "      <td>Gti1_Pac2; Gti1/Pac2 family</td>\n",
       "    </tr>\n",
       "    <tr>\n",
       "      <th>25</th>\n",
       "      <td>PF06017</td>\n",
       "      <td>NaN</td>\n",
       "      <td>Noc2; Nucleolar complex protein 2</td>\n",
       "    </tr>\n",
       "    <tr>\n",
       "      <th>26</th>\n",
       "      <td>PF00025</td>\n",
       "      <td>NaN</td>\n",
       "      <td>5-FTHF_cyc-lig; 5-formyltetrahydrofolate cyclo...</td>\n",
       "    </tr>\n",
       "    <tr>\n",
       "      <th>27</th>\n",
       "      <td>PF00649</td>\n",
       "      <td>NaN</td>\n",
       "      <td>CBF; CCAAT-binding factor</td>\n",
       "    </tr>\n",
       "    <tr>\n",
       "      <th>28</th>\n",
       "      <td>PF05460</td>\n",
       "      <td>NaN</td>\n",
       "      <td>NAT; Vertebrate-like NAGS Gcn5-related N-acety...</td>\n",
       "    </tr>\n",
       "    <tr>\n",
       "      <th>29</th>\n",
       "      <td>PF03452</td>\n",
       "      <td>NaN</td>\n",
       "      <td>HHH_5</td>\n",
       "    </tr>\n",
       "    <tr>\n",
       "      <th>30</th>\n",
       "      <td>PF01490</td>\n",
       "      <td>NaN</td>\n",
       "      <td>DUF1687; Protein of unknown function DUF1687, ...</td>\n",
       "    </tr>\n",
       "    <tr>\n",
       "      <th>31</th>\n",
       "      <td>PF09288</td>\n",
       "      <td>NaN</td>\n",
       "      <td>Rad51; DNA recombination and repair protein Ra...</td>\n",
       "    </tr>\n",
       "    <tr>\n",
       "      <th>32</th>\n",
       "      <td>PF08591</td>\n",
       "      <td>NaN</td>\n",
       "      <td>QRPTase_N; Quinolinate phosphoribosyl transfer...</td>\n",
       "    </tr>\n",
       "    <tr>\n",
       "      <th>33</th>\n",
       "      <td>PF05238</td>\n",
       "      <td>NaN</td>\n",
       "      <td>Myb_Cef; Pre-mRNA splicing factor component Cd...</td>\n",
       "    </tr>\n",
       "    <tr>\n",
       "      <th>34</th>\n",
       "      <td>PF16944</td>\n",
       "      <td>NaN</td>\n",
       "      <td>tRNA_bind; tRNA-binding domain</td>\n",
       "    </tr>\n",
       "    <tr>\n",
       "      <th>35</th>\n",
       "      <td>PF01200</td>\n",
       "      <td>NaN</td>\n",
       "      <td>Cytochrom_C1; Cytochrome c1</td>\n",
       "    </tr>\n",
       "    <tr>\n",
       "      <th>36</th>\n",
       "      <td>PF01008</td>\n",
       "      <td>NaN</td>\n",
       "      <td>Cellulase; Glycoside hydrolase, family 5</td>\n",
       "    </tr>\n",
       "    <tr>\n",
       "      <th>37</th>\n",
       "      <td>PF04178</td>\n",
       "      <td>NaN</td>\n",
       "      <td>Ldh_1_N; Lactate/malate dehydrogenase, N-terminal</td>\n",
       "    </tr>\n",
       "    <tr>\n",
       "      <th>38</th>\n",
       "      <td>PF04178</td>\n",
       "      <td>NaN</td>\n",
       "      <td>Ldh_1_N; Lactate/malate dehydrogenase, N-terminal</td>\n",
       "    </tr>\n",
       "    <tr>\n",
       "      <th>39</th>\n",
       "      <td>PF12921</td>\n",
       "      <td>NaN</td>\n",
       "      <td>TFIIA_gamma_C; Transcription initiation factor...</td>\n",
       "    </tr>\n",
       "    <tr>\n",
       "      <th>40</th>\n",
       "      <td>PF10214</td>\n",
       "      <td>NaN</td>\n",
       "      <td>Ribosomal_L6e; 60S ribosomal protein L6E</td>\n",
       "    </tr>\n",
       "    <tr>\n",
       "      <th>41</th>\n",
       "      <td>PF03095</td>\n",
       "      <td>NaN</td>\n",
       "      <td>Glucosamine_iso; Glucosamine/galactosamine-6-p...</td>\n",
       "    </tr>\n",
       "    <tr>\n",
       "      <th>42</th>\n",
       "      <td>PF12231</td>\n",
       "      <td>NaN</td>\n",
       "      <td>SelR; Peptide methionine sulphoxide reductase ...</td>\n",
       "    </tr>\n",
       "    <tr>\n",
       "      <th>43</th>\n",
       "      <td>PF00928</td>\n",
       "      <td>NaN</td>\n",
       "      <td>CTU2; Cytoplasmic tRNA 2-thiolation protein 2</td>\n",
       "    </tr>\n",
       "    <tr>\n",
       "      <th>44</th>\n",
       "      <td>PF01294</td>\n",
       "      <td>NaN</td>\n",
       "      <td>DIM1; Dim1 family</td>\n",
       "    </tr>\n",
       "    <tr>\n",
       "      <th>45</th>\n",
       "      <td>PF01294</td>\n",
       "      <td>NaN</td>\n",
       "      <td>DIM1; Dim1 family</td>\n",
       "    </tr>\n",
       "    <tr>\n",
       "      <th>46</th>\n",
       "      <td>PF05158</td>\n",
       "      <td>NaN</td>\n",
       "      <td>Mlh1_C; DNA mismatch repair protein Mlh1, C-te...</td>\n",
       "    </tr>\n",
       "    <tr>\n",
       "      <th>47</th>\n",
       "      <td>PF04757</td>\n",
       "      <td>NaN</td>\n",
       "      <td>Mad3_BUB1_II; Mad3/Bub1 homology region 2</td>\n",
       "    </tr>\n",
       "    <tr>\n",
       "      <th>48</th>\n",
       "      <td>PF05176</td>\n",
       "      <td>NaN</td>\n",
       "      <td>Mo25; Mo25-like</td>\n",
       "    </tr>\n",
       "    <tr>\n",
       "      <th>49</th>\n",
       "      <td>PF04383</td>\n",
       "      <td>NaN</td>\n",
       "      <td>Lysine_decarbox; LOG family</td>\n",
       "    </tr>\n",
       "  </tbody>\n",
       "</table>\n",
       "</div>"
      ],
      "text/plain": [
       "   domain-name domain-description_x  \\\n",
       "1      PF01608                  NaN   \n",
       "2      PF00487                  NaN   \n",
       "3      PF08171                  NaN   \n",
       "4      PF10429                  NaN   \n",
       "5      PF03152                  NaN   \n",
       "6      PF00533                  NaN   \n",
       "7      PF02732                  NaN   \n",
       "8      PF00006                  NaN   \n",
       "9      PF02197                  NaN   \n",
       "10     PF06733                  NaN   \n",
       "11     PF11610                  NaN   \n",
       "12     PF05186                  NaN   \n",
       "13     PF01416                  NaN   \n",
       "14     PF03874                  NaN   \n",
       "15     PF06479                  NaN   \n",
       "16     PF07064                  NaN   \n",
       "17     PF05669                  NaN   \n",
       "18     PF09346                  NaN   \n",
       "19     PF04478                  NaN   \n",
       "20     PF05046                  NaN   \n",
       "21     PF06428                  NaN   \n",
       "22     PF06428                  NaN   \n",
       "23     PF04139                  NaN   \n",
       "24     PF03271                  NaN   \n",
       "25     PF06017                  NaN   \n",
       "26     PF00025                  NaN   \n",
       "27     PF00649                  NaN   \n",
       "28     PF05460                  NaN   \n",
       "29     PF03452                  NaN   \n",
       "30     PF01490                  NaN   \n",
       "31     PF09288                  NaN   \n",
       "32     PF08591                  NaN   \n",
       "33     PF05238                  NaN   \n",
       "34     PF16944                  NaN   \n",
       "35     PF01200                  NaN   \n",
       "36     PF01008                  NaN   \n",
       "37     PF04178                  NaN   \n",
       "38     PF04178                  NaN   \n",
       "39     PF12921                  NaN   \n",
       "40     PF10214                  NaN   \n",
       "41     PF03095                  NaN   \n",
       "42     PF12231                  NaN   \n",
       "43     PF00928                  NaN   \n",
       "44     PF01294                  NaN   \n",
       "45     PF01294                  NaN   \n",
       "46     PF05158                  NaN   \n",
       "47     PF04757                  NaN   \n",
       "48     PF05176                  NaN   \n",
       "49     PF04383                  NaN   \n",
       "\n",
       "                                 domain-description_y  \n",
       "1                                             DUF2781  \n",
       "2   Atg14; UV radiation resistance protein/autopha...  \n",
       "3     PTPLA; Protein-tyrosine phosphatase-like, PTPLA  \n",
       "4    SAPS; SIT4 phosphatase-associated protein family  \n",
       "5               Glyco_hydro_72; Glucanosyltransferase  \n",
       "6                 BAR_2; BAR domain-containing family  \n",
       "7                                          Folliculin  \n",
       "8   2-Hacid_dh; D-isomer specific 2-hydroxyacid de...  \n",
       "9                                                EnY2  \n",
       "10    Ost5; Oligosaccharyltransferase complex subunit  \n",
       "11  SRP54; Signal recognition particle, SRP54 subu...  \n",
       "12     Motile_Sperm; Major sperm protein (MSP) domain  \n",
       "13                      DNA_pol_phi; DNA polymerase V  \n",
       "14          Hydantoinase_A; Hydantoinase/oxoprolinase  \n",
       "15      ORC5_C; Origin recognition complex, subunit 5  \n",
       "16    PAP_central; Poly(A) polymerase, central domain  \n",
       "17  NOC3p; Nucleolar complex-associated protein 3,...  \n",
       "18              RasGAP; Ras GTPase-activating protein  \n",
       "19                              MCM_OB; MCM OB domain  \n",
       "20  Mhr1; Mitochondrial homologous recombination p...  \n",
       "21    OB_NTP_bind; Domain of unknown function DUF1605  \n",
       "22    OB_NTP_bind; Domain of unknown function DUF1605  \n",
       "23                         LRR_8; Leucine-rich repeat  \n",
       "24                        Gti1_Pac2; Gti1/Pac2 family  \n",
       "25                  Noc2; Nucleolar complex protein 2  \n",
       "26  5-FTHF_cyc-lig; 5-formyltetrahydrofolate cyclo...  \n",
       "27                          CBF; CCAAT-binding factor  \n",
       "28  NAT; Vertebrate-like NAGS Gcn5-related N-acety...  \n",
       "29                                              HHH_5  \n",
       "30  DUF1687; Protein of unknown function DUF1687, ...  \n",
       "31  Rad51; DNA recombination and repair protein Ra...  \n",
       "32  QRPTase_N; Quinolinate phosphoribosyl transfer...  \n",
       "33  Myb_Cef; Pre-mRNA splicing factor component Cd...  \n",
       "34                     tRNA_bind; tRNA-binding domain  \n",
       "35                        Cytochrom_C1; Cytochrome c1  \n",
       "36           Cellulase; Glycoside hydrolase, family 5  \n",
       "37  Ldh_1_N; Lactate/malate dehydrogenase, N-terminal  \n",
       "38  Ldh_1_N; Lactate/malate dehydrogenase, N-terminal  \n",
       "39  TFIIA_gamma_C; Transcription initiation factor...  \n",
       "40           Ribosomal_L6e; 60S ribosomal protein L6E  \n",
       "41  Glucosamine_iso; Glucosamine/galactosamine-6-p...  \n",
       "42  SelR; Peptide methionine sulphoxide reductase ...  \n",
       "43      CTU2; Cytoplasmic tRNA 2-thiolation protein 2  \n",
       "44                                  DIM1; Dim1 family  \n",
       "45                                  DIM1; Dim1 family  \n",
       "46  Mlh1_C; DNA mismatch repair protein Mlh1, C-te...  \n",
       "47          Mad3_BUB1_II; Mad3/Bub1 homology region 2  \n",
       "48                                    Mo25; Mo25-like  \n",
       "49                        Lysine_decarbox; LOG family  "
      ]
     },
     "execution_count": 30,
     "metadata": {},
     "output_type": "execute_result"
    }
   ],
   "source": [
    "only_nsl_pd=pd.merge(repeated_features_sl,repeated_features_nsl,how='right',on=['domain-name'])\n",
    "data_only_nsl = only_nsl_pd[pd.isnull(only_nsl_pd['domain-description_x'])]\n",
    "data_only_nsl"
   ]
  },
  {
   "cell_type": "code",
   "execution_count": 31,
   "metadata": {
    "execution": {
     "iopub.execute_input": "2020-07-23T10:56:14.657085Z",
     "iopub.status.busy": "2020-07-23T10:56:14.656513Z",
     "iopub.status.idle": "2020-07-23T10:56:14.661490Z",
     "shell.execute_reply": "2020-07-23T10:56:14.661885Z"
    }
   },
   "outputs": [
    {
     "data": {
      "text/html": [
       "<div>\n",
       "<style scoped>\n",
       "    .dataframe tbody tr th:only-of-type {\n",
       "        vertical-align: middle;\n",
       "    }\n",
       "\n",
       "    .dataframe tbody tr th {\n",
       "        vertical-align: top;\n",
       "    }\n",
       "\n",
       "    .dataframe thead th {\n",
       "        text-align: right;\n",
       "    }\n",
       "</style>\n",
       "<table border=\"1\" class=\"dataframe\">\n",
       "  <thead>\n",
       "    <tr style=\"text-align: right;\">\n",
       "      <th></th>\n",
       "      <th>domain-name</th>\n",
       "      <th>domain-description_x</th>\n",
       "      <th>domain-description_y</th>\n",
       "    </tr>\n",
       "  </thead>\n",
       "  <tbody>\n",
       "    <tr>\n",
       "      <th>0</th>\n",
       "      <td>PF03074</td>\n",
       "      <td>Glu_syn_central; Glutamate synthase, central-N</td>\n",
       "      <td>Glu_syn_central; Glutamate synthase, central-N</td>\n",
       "    </tr>\n",
       "  </tbody>\n",
       "</table>\n",
       "</div>"
      ],
      "text/plain": [
       "  domain-name                            domain-description_x  \\\n",
       "0     PF03074  Glu_syn_central; Glutamate synthase, central-N   \n",
       "\n",
       "                             domain-description_y  \n",
       "0  Glu_syn_central; Glutamate synthase, central-N  "
      ]
     },
     "execution_count": 31,
     "metadata": {},
     "output_type": "execute_result"
    }
   ],
   "source": [
    "shared_domains_pd=pd.merge(repeated_features_sl,repeated_features_nsl,how='inner',on=['domain-name'])\n",
    "shared_domains_pd\n"
   ]
  },
  {
   "cell_type": "code",
   "execution_count": 32,
   "metadata": {
    "execution": {
     "iopub.execute_input": "2020-07-23T10:56:14.677496Z",
     "iopub.status.busy": "2020-07-23T10:56:14.676756Z",
     "iopub.status.idle": "2020-07-23T10:56:16.469266Z",
     "shell.execute_reply": "2020-07-23T10:56:16.468828Z"
    }
   },
   "outputs": [
    {
     "data": {
      "text/plain": [
       "(0.0, 0.2)"
      ]
     },
     "execution_count": 32,
     "metadata": {},
     "output_type": "execute_result"
    },
    {
     "data": {
      "image/png": "[encoded data removed]",
      "text/plain": [
       "<Figure size 432x288 with 1 Axes>"
      ]
     },
     "metadata": {
      "filenames": {
       "image/png": "/home/runner/work/jupyter-book/jupyter-book/mini_book/docs/_build/jupyter_execute/prot_domains2lethality-FEATURES-POSTPROCESSING_47_1.png"
      },
      "needs_background": "light"
     },
     "output_type": "display_data"
    }
   ],
   "source": [
    "a_sl=x_sl.iloc[:,np.sort(df_sl.iloc[:,1])]\n",
    "a_sl.describe().loc['mean'].hist(bins=8),\n",
    "a_sl.describe().loc['std'].hist(bins=8,alpha=0.4)\n",
    "plt.xlim([0,0.2])"
   ]
  },
  {
   "cell_type": "code",
   "execution_count": 33,
   "metadata": {
    "execution": {
     "iopub.execute_input": "2020-07-23T10:56:16.491160Z",
     "iopub.status.busy": "2020-07-23T10:56:16.480502Z",
     "iopub.status.idle": "2020-07-23T10:56:18.210598Z",
     "shell.execute_reply": "2020-07-23T10:56:18.209875Z"
    }
   },
   "outputs": [
    {
     "data": {
      "text/plain": [
       "(0.0, 0.2)"
      ]
     },
     "execution_count": 33,
     "metadata": {},
     "output_type": "execute_result"
    },
    {
     "data": {
      "image/png": "[encoded data removed]",
      "text/plain": [
       "<Figure size 432x288 with 1 Axes>"
      ]
     },
     "metadata": {
      "filenames": {
       "image/png": "/home/runner/work/jupyter-book/jupyter-book/mini_book/docs/_build/jupyter_execute/prot_domains2lethality-FEATURES-POSTPROCESSING_48_1.png"
      },
      "needs_background": "light"
     },
     "output_type": "display_data"
    }
   ],
   "source": [
    "a_nsl=x_nsl.iloc[:,np.sort(df_nsl.iloc[:,1])]\n",
    "a_nsl.describe().loc['mean'].hist(bins=8),\n",
    "a_nsl.describe().loc['std'].hist(bins=8,alpha=0.4)\n",
    "plt.xlim([0,0.2])"
   ]
  },
  {
   "cell_type": "markdown",
   "metadata": {},
   "source": [
    "### Proof of concept with *BEM1*\n",
    "\n",
    "- Gather the domains of SL and nSL pairs from BEM1\n",
    "- Check if the domains for the SL and nSL pairs are inside the most important domains after PCA."
   ]
  },
  {
   "cell_type": "code",
   "execution_count": 34,
   "metadata": {
    "execution": {
     "iopub.execute_input": "2020-07-23T10:56:18.218160Z",
     "iopub.status.busy": "2020-07-23T10:56:18.217629Z",
     "iopub.status.idle": "2020-07-23T10:56:18.221512Z",
     "shell.execute_reply": "2020-07-23T10:56:18.221065Z"
    }
   },
   "outputs": [],
   "source": [
    "domains_bem1=data_domains[data_domains['name']=='BEM1']['domain-descrip']\n",
    "sl_bem1=data_sl[data_sl['gene-query-name']=='BEM1']['gene-target-name']"
   ]
  },
  {
   "cell_type": "code",
   "execution_count": 35,
   "metadata": {
    "execution": {
     "iopub.execute_input": "2020-07-23T10:56:18.226139Z",
     "iopub.status.busy": "2020-07-23T10:56:18.225561Z",
     "iopub.status.idle": "2020-07-23T10:56:18.231907Z",
     "shell.execute_reply": "2020-07-23T10:56:18.230796Z"
    }
   },
   "outputs": [
    {
     "data": {
      "text/plain": [
       "2846      BEM2\n",
       "2847     CDC24\n",
       "5004      MSB1\n",
       "13777     SMI1\n",
       "13778     BNI1\n",
       "13779     BEM2\n",
       "14385     SKN7\n",
       "Name: gene-target-name, dtype: object"
      ]
     },
     "execution_count": 35,
     "metadata": {},
     "output_type": "execute_result"
    }
   ],
   "source": [
    "sl_bem1"
   ]
  },
  {
   "cell_type": "code",
   "execution_count": 36,
   "metadata": {
    "execution": {
     "iopub.execute_input": "2020-07-23T10:56:18.246412Z",
     "iopub.status.busy": "2020-07-23T10:56:18.245910Z",
     "iopub.status.idle": "2020-07-23T10:56:18.251350Z",
     "shell.execute_reply": "2020-07-23T10:56:18.252103Z"
    }
   },
   "outputs": [
    {
     "data": {
      "text/html": [
       "<div>\n",
       "<style scoped>\n",
       "    .dataframe tbody tr th:only-of-type {\n",
       "        vertical-align: middle;\n",
       "    }\n",
       "\n",
       "    .dataframe tbody tr th {\n",
       "        vertical-align: top;\n",
       "    }\n",
       "\n",
       "    .dataframe thead th {\n",
       "        text-align: right;\n",
       "    }\n",
       "</style>\n",
       "<table border=\"1\" class=\"dataframe\">\n",
       "  <thead>\n",
       "    <tr style=\"text-align: right;\">\n",
       "      <th></th>\n",
       "      <th>gene-query</th>\n",
       "      <th>gene-target</th>\n",
       "      <th>gene-query-name</th>\n",
       "      <th>gene-target-name</th>\n",
       "      <th>gene-query-description</th>\n",
       "      <th>gene-target-description</th>\n",
       "      <th>interaction-type</th>\n",
       "      <th>paper-source</th>\n",
       "    </tr>\n",
       "  </thead>\n",
       "  <tbody>\n",
       "    <tr>\n",
       "      <th>2846</th>\n",
       "      <td>YBR200W</td>\n",
       "      <td>YER155C</td>\n",
       "      <td>BEM1</td>\n",
       "      <td>BEM2</td>\n",
       "      <td>SRO1|phosphatidylinositol-3-phosphate-binding ...</td>\n",
       "      <td>IPL2|SUP9|TSL1|L000000168</td>\n",
       "      <td>Synthetic Lethality</td>\n",
       "      <td>Peterson J (1994)</td>\n",
       "    </tr>\n",
       "    <tr>\n",
       "      <th>2847</th>\n",
       "      <td>YBR200W</td>\n",
       "      <td>YAL041W</td>\n",
       "      <td>BEM1</td>\n",
       "      <td>CDC24</td>\n",
       "      <td>SRO1|phosphatidylinositol-3-phosphate-binding ...</td>\n",
       "      <td>CLS4|Rho family guanine nucleotide exchange fa...</td>\n",
       "      <td>Synthetic Lethality</td>\n",
       "      <td>Peterson J (1994)</td>\n",
       "    </tr>\n",
       "    <tr>\n",
       "      <th>5004</th>\n",
       "      <td>YBR200W</td>\n",
       "      <td>YOR188W</td>\n",
       "      <td>BEM1</td>\n",
       "      <td>MSB1</td>\n",
       "      <td>SRO1|phosphatidylinositol-3-phosphate-binding ...</td>\n",
       "      <td>L000001184</td>\n",
       "      <td>Synthetic Lethality</td>\n",
       "      <td>Bender A (1991)</td>\n",
       "    </tr>\n",
       "    <tr>\n",
       "      <th>13777</th>\n",
       "      <td>YBR200W</td>\n",
       "      <td>YGR229C</td>\n",
       "      <td>BEM1</td>\n",
       "      <td>SMI1</td>\n",
       "      <td>SRO1|phosphatidylinositol-3-phosphate-binding ...</td>\n",
       "      <td>KNR4|L000000909</td>\n",
       "      <td>Synthetic Lethality</td>\n",
       "      <td>Gorelik M (2011)</td>\n",
       "    </tr>\n",
       "    <tr>\n",
       "      <th>13778</th>\n",
       "      <td>YBR200W</td>\n",
       "      <td>YNL271C</td>\n",
       "      <td>BEM1</td>\n",
       "      <td>BNI1</td>\n",
       "      <td>SRO1|phosphatidylinositol-3-phosphate-binding ...</td>\n",
       "      <td>PPF3|SHE5|formin BNI1|L000000190</td>\n",
       "      <td>Synthetic Lethality</td>\n",
       "      <td>Gorelik M (2011)</td>\n",
       "    </tr>\n",
       "    <tr>\n",
       "      <th>13779</th>\n",
       "      <td>YBR200W</td>\n",
       "      <td>YER155C</td>\n",
       "      <td>BEM1</td>\n",
       "      <td>BEM2</td>\n",
       "      <td>SRO1|phosphatidylinositol-3-phosphate-binding ...</td>\n",
       "      <td>IPL2|SUP9|TSL1|L000000168</td>\n",
       "      <td>Synthetic Lethality</td>\n",
       "      <td>Gorelik M (2011)</td>\n",
       "    </tr>\n",
       "    <tr>\n",
       "      <th>14385</th>\n",
       "      <td>YBR200W</td>\n",
       "      <td>YHR206W</td>\n",
       "      <td>BEM1</td>\n",
       "      <td>SKN7</td>\n",
       "      <td>SRO1|phosphatidylinositol-3-phosphate-binding ...</td>\n",
       "      <td>BRY1|POS9|kinase-regulated stress-responsive t...</td>\n",
       "      <td>Dosage Lethality</td>\n",
       "      <td>Bouquin N (1999)</td>\n",
       "    </tr>\n",
       "  </tbody>\n",
       "</table>\n",
       "</div>"
      ],
      "text/plain": [
       "      gene-query gene-target gene-query-name gene-target-name  \\\n",
       "2846     YBR200W     YER155C            BEM1             BEM2   \n",
       "2847     YBR200W     YAL041W            BEM1            CDC24   \n",
       "5004     YBR200W     YOR188W            BEM1             MSB1   \n",
       "13777    YBR200W     YGR229C            BEM1             SMI1   \n",
       "13778    YBR200W     YNL271C            BEM1             BNI1   \n",
       "13779    YBR200W     YER155C            BEM1             BEM2   \n",
       "14385    YBR200W     YHR206W            BEM1             SKN7   \n",
       "\n",
       "                                  gene-query-description  \\\n",
       "2846   SRO1|phosphatidylinositol-3-phosphate-binding ...   \n",
       "2847   SRO1|phosphatidylinositol-3-phosphate-binding ...   \n",
       "5004   SRO1|phosphatidylinositol-3-phosphate-binding ...   \n",
       "13777  SRO1|phosphatidylinositol-3-phosphate-binding ...   \n",
       "13778  SRO1|phosphatidylinositol-3-phosphate-binding ...   \n",
       "13779  SRO1|phosphatidylinositol-3-phosphate-binding ...   \n",
       "14385  SRO1|phosphatidylinositol-3-phosphate-binding ...   \n",
       "\n",
       "                                 gene-target-description     interaction-type  \\\n",
       "2846                           IPL2|SUP9|TSL1|L000000168  Synthetic Lethality   \n",
       "2847   CLS4|Rho family guanine nucleotide exchange fa...  Synthetic Lethality   \n",
       "5004                                          L000001184  Synthetic Lethality   \n",
       "13777                                    KNR4|L000000909  Synthetic Lethality   \n",
       "13778                   PPF3|SHE5|formin BNI1|L000000190  Synthetic Lethality   \n",
       "13779                          IPL2|SUP9|TSL1|L000000168  Synthetic Lethality   \n",
       "14385  BRY1|POS9|kinase-regulated stress-responsive t...     Dosage Lethality   \n",
       "\n",
       "            paper-source  \n",
       "2846   Peterson J (1994)  \n",
       "2847   Peterson J (1994)  \n",
       "5004     Bender A (1991)  \n",
       "13777   Gorelik M (2011)  \n",
       "13778   Gorelik M (2011)  \n",
       "13779   Gorelik M (2011)  \n",
       "14385   Bouquin N (1999)  "
      ]
     },
     "execution_count": 36,
     "metadata": {},
     "output_type": "execute_result"
    }
   ],
   "source": [
    "data_sl[data_sl['gene-query-name']=='BEM1']"
   ]
  },
  {
   "cell_type": "code",
   "execution_count": null,
   "metadata": {},
   "outputs": [],
   "source": []
  }
 ],
 "metadata": {
  "jupytext": {
   "text_representation": {
    "extension": ".md",
    "format_name": "myst"
   }
  },
  "kernelspec": {
   "display_name": "Python 3",
   "language": "python",
   "name": "python3"
  },
  "language_info": {
   "codemirror_mode": {
    "name": "ipython",
    "version": 3
   },
   "file_extension": ".py",
   "mimetype": "text/x-python",
   "name": "python",
   "nbconvert_exporter": "python",
   "pygments_lexer": "ipython3",
   "version": "3.7.8"
  },
  "source_map": [
   10,
   18,
   29,
   36,
   57,
   66,
   98,
   101,
   105,
   128,
   131,
   135,
   139,
   145,
   178,
   184,
   188,
   206,
   210,
   218,
   222,
   225,
   229,
   234,
   238,
   244,
   248,
   253,
   257,
   267,
   269,
   273,
   306,
   311,
   313,
   317,
   328,
   330,
   334,
   344,
   348,
   358,
   360,
   364,
   381,
   388,
   394,
   400,
   407,
   412,
   419,
   424,
   428,
   432
  ]
 },
 "nbformat": 4,
 "nbformat_minor": 4
}