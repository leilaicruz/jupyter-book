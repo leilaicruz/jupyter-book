{
 "cells": [
  {
   "cell_type": "markdown",
   "metadata": {},
   "source": [
    "# Feature postprocessing from paper.\n",
    "- Title:  \"Predicting yeast synthetic lethal genetic interactions using protein domains\"\n",
    "- Authors: Bo Li, Feng Luo,School of Computing,Clemson University,Clemson, SC, USA\n",
    "- e-mail: bol, luofeng@clemson.edu\n",
    "- year:2009"
   ]
  },
  {
   "cell_type": "code",
   "execution_count": 1,
   "metadata": {
    "execution": {
     "iopub.execute_input": "2020-07-22T19:36:43.123932Z",
     "iopub.status.busy": "2020-07-22T19:36:43.123254Z",
     "iopub.status.idle": "2020-07-22T19:36:43.855127Z",
     "shell.execute_reply": "2020-07-22T19:36:43.854324Z"
    }
   },
   "outputs": [],
   "source": [
    "import pandas as pd\n",
    "import numpy as np\n",
    "import matplotlib.pyplot as plt\n",
    "from collections import defaultdict \n",
    "import seaborn as sns\n",
    "import matplotlib.cm as cm\n",
    "import scipy as scipy\n",
    "import random"
   ]
  },
  {
   "cell_type": "markdown",
   "metadata": {
    "jupyter": {
     "source_hidden": true
    }
   },
   "source": [
    "### Importing datasets \n",
    "\n",
    "#### Link to the github repo where the datasets to be downloaded:\n",
    "[DOWNLOAD THE DATASETS HERE](https://github.com/leilaicruz/machine-learning-for-yeast/tree/dev_Leila/datasets-for-learning)"
   ]
  },
  {
   "cell_type": "code",
   "execution_count": 2,
   "metadata": {
    "execution": {
     "iopub.execute_input": "2020-07-22T19:36:43.862534Z",
     "iopub.status.busy": "2020-07-22T19:36:43.861383Z",
     "iopub.status.idle": "2020-07-22T19:36:51.556375Z",
     "shell.execute_reply": "2020-07-22T19:36:51.555384Z"
    }
   },
   "outputs": [],
   "source": [
    "import os\n",
    "script_dir = os.path.dirname('__file__') #<-- absolute dir the script is in\n",
    "rel_path_SL = \"datasets/data-synthetic-lethals.xlsx\"\n",
    "rel_path_nSL=\"datasets/data-positive-genetic.xlsx\"\n",
    "rel_path_domains=\"datasets/proteins-domains-from-Pfam.xlsx\"\n",
    "\n",
    "abs_file_path_SL = os.path.join(script_dir, rel_path_SL)\n",
    "abs_file_path_nSL = os.path.join(script_dir, rel_path_nSL)\n",
    "abs_file_path_domains = os.path.join(script_dir, rel_path_domains)\n",
    "\n",
    "# os.chdir('mini_book/docs/') #<-- for binder os.chdir('../')\n",
    "# os.chdir('../')\n",
    "my_path_sl= abs_file_path_SL\n",
    "my_path_non_sl=abs_file_path_nSL\n",
    "my_path_domains=abs_file_path_domains\n",
    "\n",
    "data_sl=pd.read_excel(my_path_sl,header=0)\n",
    "data_domains=pd.read_excel(my_path_domains,header=0,index_col='Unnamed: 0')\n",
    "data_domains=data_domains.dropna()\n",
    "data_nonsl=pd.read_excel(my_path_non_sl,header=0)"
   ]
  },
  {
   "cell_type": "markdown",
   "metadata": {},
   "source": [
    "## Building the feature matrix\n",
    "One matrix for true SL where each row is one pair of SL. Every raw will be a vector of 0,1 or 2 depending on the comparison with the domain list. For row i the jth element = 0 if the jth element of the domain list is not in neither protein A and B, 1, if it is in one of them and 2 if it is in both of them .\n",
    "\n",
    "### Building the list of proteins domains id per protein pair separately :\n",
    "- List of protein A: Search for the Sl/nSL database the query gene name and look in the protein domain database which protein domains id has each of those queries.\n",
    "- List of protein B: Search for the Sl/nSL database the target gene name of the previous query and look in the protein domain database which protein domains id has each of those target genes."
   ]
  },
  {
   "cell_type": "code",
   "execution_count": 3,
   "metadata": {
    "execution": {
     "iopub.execute_input": "2020-07-22T19:36:51.574644Z",
     "iopub.status.busy": "2020-07-22T19:36:51.573993Z",
     "iopub.status.idle": "2020-07-22T19:36:53.858084Z",
     "shell.execute_reply": "2020-07-22T19:36:53.856922Z"
    }
   },
   "outputs": [],
   "source": [
    "# Selecting the meaningful columns in the respective dataset\n",
    "domain_id_list=data_domains['domain-name']\n",
    "query_gene=data_sl['gene-query-name']\n",
    "target_gene=data_sl['gene-target-name']\n",
    "query_gene_nonlethal=data_nonsl['gene-query-name']\n",
    "target_gene_nonlethal=data_nonsl['gene-target-name']\n",
    "\n",
    "\n",
    "\n",
    "# Initialising the arrays\n",
    "protein_a_list=[]\n",
    "protein_b_list=[]\n",
    "protein_a_list_non=[]\n",
    "protein_b_list_non=[]\n",
    "\n",
    "population = np.arange(0,len(data_sl))\n",
    "\n",
    "# For loop for 10000 pairs sampled randomly from the SL/nSl pair list , and creating a big array of proteind domains id per protein pair\n",
    "\n",
    "for m in random.sample(list(population), 500):\n",
    "    protein_a=data_domains[data_domains['name']==query_gene[m]]\n",
    "    protein_b=data_domains[data_domains['name']==target_gene[m]]\n",
    "    protein_a_list.append(protein_a['domain-name'].tolist())\n",
    "    protein_b_list.append(protein_b['domain-name'].tolist())\n",
    "\n",
    "    protein_a_non=data_domains[data_domains['name']==query_gene_nonlethal[m]]\n",
    "    protein_b_non=data_domains[data_domains['name']==target_gene_nonlethal[m]]\n",
    "    protein_a_list_non.append(protein_a_non['domain-name'].tolist())\n",
    "    protein_b_list_non.append(protein_b_non['domain-name'].tolist())"
   ]
  },
  {
   "cell_type": "code",
   "execution_count": 4,
   "metadata": {
    "execution": {
     "iopub.execute_input": "2020-07-22T19:36:53.863064Z",
     "iopub.status.busy": "2020-07-22T19:36:53.861920Z",
     "iopub.status.idle": "2020-07-22T19:36:53.866729Z",
     "shell.execute_reply": "2020-07-22T19:36:53.867151Z"
    }
   },
   "outputs": [
    {
     "name": "stdout",
     "output_type": "stream",
     "text": [
      "We are going to analyze 500 protein pairs, out of 17871 SL protein pairs\n",
      "We are going to analyze 500 protein pairs, out of 43340 positive protein pairs\n"
     ]
    }
   ],
   "source": [
    "print('We are going to analyze',len((protein_a_list)) ,'protein pairs, out of',len(data_sl),'SL protein pairs')\n",
    "print('We are going to analyze',len((protein_a_list_non)) ,'protein pairs, out of',len(data_nonsl),'positive protein pairs')"
   ]
  },
  {
   "cell_type": "markdown",
   "metadata": {},
   "source": [
    "### Postprocessing #1:  Remove protein pairs from study if either protein in the pair does not contain any domain"
   ]
  },
  {
   "cell_type": "code",
   "execution_count": 5,
   "metadata": {
    "execution": {
     "iopub.execute_input": "2020-07-22T19:36:53.876558Z",
     "iopub.status.busy": "2020-07-22T19:36:53.875534Z",
     "iopub.status.idle": "2020-07-22T19:36:53.879960Z",
     "shell.execute_reply": "2020-07-22T19:36:53.879222Z"
    }
   },
   "outputs": [],
   "source": [
    "def remove_empty_domains(protein_list_search,protein_list_pair):\n",
    "    index=[]\n",
    "    for i in np.arange(0,len(protein_list_search)):\n",
    "        if protein_list_search[i]==[] or protein_list_pair[i]==[]:\n",
    "            index.append(i) ## index of empty values for the protein_a_list meaning they dont have any annotated domain\n",
    "\n",
    "    y=[x for x in np.arange(0,len(protein_list_search)) if x not in index] # a list with non empty values from protein_a list\n",
    "\n",
    "    protein_list_search_new=[]\n",
    "    protein_list_pair_new=[]\n",
    "    for i in y:\n",
    "        protein_list_search_new.append(protein_list_search[i])\n",
    "        protein_list_pair_new.append(protein_list_pair[i])\n",
    "    return protein_list_search_new,protein_list_pair_new\n",
    "\n",
    "## evaluating the function\n",
    "\n",
    "protein_a_list_new,protein_b_list_new=remove_empty_domains(protein_a_list,protein_b_list)\n",
    "\n",
    "protein_a_list_non_new,protein_b_list_non_new=remove_empty_domains(protein_a_list_non,protein_b_list_non)"
   ]
  },
  {
   "cell_type": "code",
   "execution_count": 6,
   "metadata": {
    "execution": {
     "iopub.execute_input": "2020-07-22T19:36:53.884572Z",
     "iopub.status.busy": "2020-07-22T19:36:53.883586Z",
     "iopub.status.idle": "2020-07-22T19:36:53.888418Z",
     "shell.execute_reply": "2020-07-22T19:36:53.887813Z"
    }
   },
   "outputs": [
    {
     "name": "stdout",
     "output_type": "stream",
     "text": [
      "The empty domain in the SL were: 76 out of 500 domains\n",
      "The empty domain in the nSL were: 85 out of 500 domains\n"
     ]
    }
   ],
   "source": [
    "print('The empty domain in the SL were:', len(protein_a_list)-len(protein_a_list_new), 'out of', len(protein_a_list),'domains')\n",
    "print('The empty domain in the nSL were:', len(protein_a_list_non)-len(protein_a_list_non_new), 'out of', len(protein_a_list_non),'domains')"
   ]
  },
  {
   "cell_type": "markdown",
   "metadata": {},
   "source": [
    "### Feature engineering: Select from each ordered indexes of domain id list which of them appear once, in both or in any of the domains of each protein pair"
   ]
  },
  {
   "cell_type": "markdown",
   "metadata": {},
   "source": [
    "#### Define function `get_indexes`"
   ]
  },
  {
   "cell_type": "code",
   "execution_count": 7,
   "metadata": {
    "execution": {
     "iopub.execute_input": "2020-07-22T19:36:53.895259Z",
     "iopub.status.busy": "2020-07-22T19:36:53.894760Z",
     "iopub.status.idle": "2020-07-22T19:36:53.900528Z",
     "shell.execute_reply": "2020-07-22T19:36:53.899608Z"
    }
   },
   "outputs": [
    {
     "data": {
      "text/plain": [
       "[1, 2]"
      ]
     },
     "execution_count": 7,
     "metadata": {},
     "output_type": "execute_result"
    }
   ],
   "source": [
    "get_indexes = lambda x, xs: [i for (y, i) in zip(xs, range(len(xs))) if x == y] # a function that give the index of whether a value appear in array or not\n",
    "a=[1,2,2,4,5,6,7,8,9,10]\n",
    "get_indexes(2,a)"
   ]
  },
  {
   "cell_type": "code",
   "execution_count": 8,
   "metadata": {
    "execution": {
     "iopub.execute_input": "2020-07-22T19:36:53.909517Z",
     "iopub.status.busy": "2020-07-22T19:36:53.909004Z",
     "iopub.status.idle": "2020-07-22T19:36:53.912233Z",
     "shell.execute_reply": "2020-07-22T19:36:53.912702Z"
    }
   },
   "outputs": [],
   "source": [
    "def feature_building(protein_a_list_new,protein_b_list_new):\n",
    "    x = np.unique(domain_id_list)\n",
    "    ## To avoid taking repeated domains from one protein of the pairs , lets reduced the domains of each protein from the pairs to their unique members\n",
    "    protein_a_list_unique=[]\n",
    "    protein_b_list_unique=[]\n",
    "    for i in np.arange(0,len(protein_a_list_new)):\n",
    "        protein_a_list_unique.append(np.unique(protein_a_list_new[i]))\n",
    "        protein_b_list_unique.append(np.unique(protein_b_list_new[i]))\n",
    "        \n",
    "    protein_feat_true=np.zeros(shape=(len(x),len(protein_a_list_unique)))\n",
    "    pair_a_b_array=[]\n",
    "    for i in np.arange(0,len(protein_a_list_unique)):\n",
    "        index_a=[]\n",
    "        \n",
    "        pair=[protein_a_list_unique[i],protein_b_list_unique[i]]\n",
    "        pair_a_b=np.concatenate(pair).ravel()\n",
    "        pair_a_b_array.append(pair_a_b)\n",
    "\n",
    "    j=0\n",
    "    for i in pair_a_b_array:  \n",
    "        array,index,counts=np.unique(i,return_index=True,return_counts=True)\n",
    "        \n",
    "        for k,m in zip(counts,array):\n",
    "            if k ==2:\n",
    "                protein_feat_true[get_indexes(m,x),j]=2\n",
    "                \n",
    "            if k==1:\n",
    "                protein_feat_true[get_indexes(m,x),j]=1\n",
    "        j=j+1\n",
    "    return protein_feat_true"
   ]
  },
  {
   "cell_type": "code",
   "execution_count": 9,
   "metadata": {
    "execution": {
     "iopub.execute_input": "2020-07-22T19:36:53.921914Z",
     "iopub.status.busy": "2020-07-22T19:36:53.921383Z",
     "iopub.status.idle": "2020-07-22T19:36:54.717240Z",
     "shell.execute_reply": "2020-07-22T19:36:54.716588Z"
    }
   },
   "outputs": [],
   "source": [
    "protein_feat_true=feature_building(protein_b_list_new=protein_b_list_new,protein_a_list_new=protein_a_list_new)\n",
    "protein_feat_true_pd=pd.DataFrame(protein_feat_true.T)\n",
    "\n",
    "protein_feat_non_true=feature_building(protein_b_list_new=protein_b_list_non_new,protein_a_list_new=protein_a_list_non_new)\n",
    "protein_feat_non_true_pd=pd.DataFrame(protein_feat_non_true.T)"
   ]
  },
  {
   "cell_type": "markdown",
   "metadata": {},
   "source": [
    "### How many ones and twos are in each dataset"
   ]
  },
  {
   "cell_type": "code",
   "execution_count": 10,
   "metadata": {
    "execution": {
     "iopub.execute_input": "2020-07-22T19:36:54.726478Z",
     "iopub.status.busy": "2020-07-22T19:36:54.725059Z",
     "iopub.status.idle": "2020-07-22T19:36:54.828389Z",
     "shell.execute_reply": "2020-07-22T19:36:54.827928Z"
    }
   },
   "outputs": [
    {
     "name": "stdout",
     "output_type": "stream",
     "text": [
      "fraction of twos in the SL array is 1.559332605644784e-05\n",
      "fraction of ones in the SL array is 0.0009971932013098394\n",
      "fraction of twos in the PI array is 7.965747286667331e-06\n",
      "fraction of ones in the PI array is 0.0008857910982774072\n"
     ]
    }
   ],
   "source": [
    "index_2_true=protein_feat_true_pd.where(protein_feat_true_pd==2)\n",
    "index_2_true_count=index_2_true.count(axis=1).sum()\n",
    "\n",
    "index_1_true=protein_feat_true_pd.where(protein_feat_true_pd==1)\n",
    "index_1_true_count=index_1_true.count(axis=1).sum()\n",
    "\n",
    "index_2_nontrue=protein_feat_non_true_pd.where(protein_feat_non_true_pd==2)\n",
    "index_2_nontrue_count=index_2_nontrue.count(axis=1).sum()\n",
    "\n",
    "index_1_nontrue=protein_feat_non_true_pd.where(protein_feat_non_true_pd==1)\n",
    "index_1_nontrue_count=index_1_nontrue.count(axis=1).sum()\n",
    "\n",
    "\n",
    "print('fraction of twos in the SL array is',index_2_true_count/(len(protein_feat_true_pd.index)*len(protein_feat_true_pd.columns)))\n",
    "print('fraction of ones in the SL array is',index_1_true_count/(len(protein_feat_true_pd.index)*len(protein_feat_true_pd.columns)))\n",
    "print('fraction of twos in the PI array is',index_2_nontrue_count/(len(protein_feat_non_true_pd.index)*len(protein_feat_non_true_pd.columns)))\n",
    "print('fraction of ones in the PI array is',index_1_nontrue_count/(len(protein_feat_non_true_pd.index)*len(protein_feat_non_true_pd.columns)))"
   ]
  },
  {
   "cell_type": "markdown",
   "metadata": {},
   "source": [
    "#### Bar plot to visualize these numbers"
   ]
  },
  {
   "cell_type": "code",
   "execution_count": 11,
   "metadata": {
    "execution": {
     "iopub.execute_input": "2020-07-22T19:36:54.855979Z",
     "iopub.status.busy": "2020-07-22T19:36:54.850176Z",
     "iopub.status.idle": "2020-07-22T19:36:55.366030Z",
     "shell.execute_reply": "2020-07-22T19:36:55.365427Z"
    }
   },
   "outputs": [
    {
     "data": {
      "text/plain": [
       "([0, 1, 2, 3],\n",
       " [Text(0, 0, ''), Text(0, 0, ''), Text(0, 0, ''), Text(0, 0, '')])"
      ]
     },
     "execution_count": 11,
     "metadata": {},
     "output_type": "execute_result"
    },
    {
     "data": {
      "image/png": "[encoded data removed]",
      "text/plain": [
       "<Figure size 432x288 with 1 Axes>"
      ]
     },
     "metadata": {
      "filenames": {
       "image/png": "/home/runner/work/jupyter-book/jupyter-book/mini_book/docs/_build/jupyter_execute/prot_domains2lethality-FEATURES-POSTPROCESSING_18_1.png"
      },
      "needs_background": "light"
     },
     "output_type": "display_data"
    }
   ],
   "source": [
    "plt.bar(['fraction of 2 in the nSL','fraction of 1 in the nSL'],[index_2_nontrue_count/(len(protein_feat_non_true_pd.index)*len(protein_feat_non_true_pd.columns)),index_1_nontrue_count/(len(protein_feat_non_true_pd.index)*len(protein_feat_non_true_pd.columns))],alpha=0.6,color=['blue','lightblue']), \n",
    "\n",
    "plt.bar(['fraction of 2 in SL ','fraction of 1 in SL'],[index_2_true_count/(len(protein_feat_true_pd.index)*len(protein_feat_true_pd.columns)),index_1_true_count/(len(protein_feat_true_pd.index)*len(protein_feat_true_pd.columns))],alpha=0.6,color=['coral','lightcoral'])\n",
    "\n",
    "plt.ylabel('Fraction from the population')\n",
    "plt.yscale('log')\n",
    "plt.xticks(rotation=40)"
   ]
  },
  {
   "cell_type": "markdown",
   "metadata": {},
   "source": [
    "#### Adding the labels(response variables) to each dataset"
   ]
  },
  {
   "cell_type": "code",
   "execution_count": 12,
   "metadata": {
    "execution": {
     "iopub.execute_input": "2020-07-22T19:36:55.373015Z",
     "iopub.status.busy": "2020-07-22T19:36:55.371618Z",
     "iopub.status.idle": "2020-07-22T19:36:55.377757Z",
     "shell.execute_reply": "2020-07-22T19:36:55.376911Z"
    }
   },
   "outputs": [],
   "source": [
    "protein_feat_true_pd['lethality']=np.ones(shape=(len(protein_a_list_new)))\n",
    "protein_feat_non_true_pd['lethality']=np.zeros(shape=(len(protein_a_list_non_new)))"
   ]
  },
  {
   "cell_type": "markdown",
   "metadata": {},
   "source": [
    "#### Joining both datasets"
   ]
  },
  {
   "cell_type": "code",
   "execution_count": 13,
   "metadata": {
    "execution": {
     "iopub.execute_input": "2020-07-22T19:36:55.383738Z",
     "iopub.status.busy": "2020-07-22T19:36:55.382643Z",
     "iopub.status.idle": "2020-07-22T19:36:55.422415Z",
     "shell.execute_reply": "2020-07-22T19:36:55.421886Z"
    }
   },
   "outputs": [
    {
     "name": "stdout",
     "output_type": "stream",
     "text": [
      "The number of features are: 3026\n",
      "The number of samples are: 839\n"
     ]
    }
   ],
   "source": [
    "feature_post=pd.concat([protein_feat_true_pd,protein_feat_non_true_pd],axis=0)\n",
    "feature_post=feature_post.set_index(np.arange(0,len(protein_a_list_new)+len(protein_a_list_non_new)))\n",
    "print('The number of features are:',feature_post.shape[1])\n",
    "print('The number of samples are:',feature_post.shape[0])"
   ]
  },
  {
   "cell_type": "markdown",
   "metadata": {},
   "source": [
    "### Postprocessing and exploration of the feature matrix of both datasets"
   ]
  },
  {
   "cell_type": "code",
   "execution_count": 14,
   "metadata": {
    "execution": {
     "iopub.execute_input": "2020-07-22T19:36:55.439721Z",
     "iopub.status.busy": "2020-07-22T19:36:55.429836Z",
     "iopub.status.idle": "2020-07-22T19:37:00.267824Z",
     "shell.execute_reply": "2020-07-22T19:37:00.266530Z"
    }
   },
   "outputs": [],
   "source": [
    "mean=feature_post.T.describe().loc['mean']\n",
    "std=feature_post.T.describe().loc['std']\n",
    "lethality=feature_post['lethality']\n",
    "\n",
    "corr_keys=pd.concat([mean,std,lethality],axis=1)"
   ]
  },
  {
   "cell_type": "markdown",
   "metadata": {},
   "source": [
    "### Viz of the stats"
   ]
  },
  {
   "cell_type": "code",
   "execution_count": 15,
   "metadata": {
    "execution": {
     "iopub.execute_input": "2020-07-22T19:37:00.322135Z",
     "iopub.status.busy": "2020-07-22T19:37:00.279739Z",
     "iopub.status.idle": "2020-07-22T19:37:02.075876Z",
     "shell.execute_reply": "2020-07-22T19:37:02.075276Z"
    }
   },
   "outputs": [
    {
     "data": {
      "text/plain": [
       "Text(0.5, 1.08, 'Pairplot to see data dependencies with Lethality')"
      ]
     },
     "execution_count": 15,
     "metadata": {},
     "output_type": "execute_result"
    },
    {
     "data": {
      "image/png": "[encoded data removed]",
      "text/plain": [
       "<Figure size 412x360 with 6 Axes>"
      ]
     },
     "metadata": {
      "filenames": {
       "image/png": "/home/runner/work/jupyter-book/jupyter-book/mini_book/docs/_build/jupyter_execute/prot_domains2lethality-FEATURES-POSTPROCESSING_26_1.png"
      },
      "needs_background": "light"
     },
     "output_type": "display_data"
    }
   ],
   "source": [
    "pair=sns.pairplot(corr_keys,hue='lethality',diag_kind='kde',kind='reg',palette='colorblind')\n",
    "pair.fig.suptitle('Pairplot to see data dependencies with Lethality',y=1.08)"
   ]
  },
  {
   "cell_type": "code",
   "execution_count": 16,
   "metadata": {
    "execution": {
     "iopub.execute_input": "2020-07-22T19:37:02.087582Z",
     "iopub.status.busy": "2020-07-22T19:37:02.086538Z",
     "iopub.status.idle": "2020-07-22T19:37:02.091151Z",
     "shell.execute_reply": "2020-07-22T19:37:02.090562Z"
    }
   },
   "outputs": [],
   "source": [
    "X, y = feature_post.drop(columns=[\"lethality\"]), feature_post[\"lethality\"]"
   ]
  },
  {
   "cell_type": "code",
   "execution_count": 17,
   "metadata": {
    "execution": {
     "iopub.execute_input": "2020-07-22T19:37:02.097603Z",
     "iopub.status.busy": "2020-07-22T19:37:02.096107Z",
     "iopub.status.idle": "2020-07-22T19:37:02.265233Z",
     "shell.execute_reply": "2020-07-22T19:37:02.265745Z"
    }
   },
   "outputs": [],
   "source": [
    "from sklearn.preprocessing import StandardScaler\n",
    "scaler = StandardScaler()\n",
    "x_sl=protein_feat_true_pd.drop(columns=['lethality'])\n",
    "x_nsl=protein_feat_non_true_pd.drop(columns=['lethality'])\n",
    "\n",
    "X_sl_scaled = scaler.fit_transform(x_sl)\n",
    "X_nsl_scaled = scaler.fit_transform(x_nsl)"
   ]
  },
  {
   "cell_type": "code",
   "execution_count": 18,
   "metadata": {
    "execution": {
     "iopub.execute_input": "2020-07-22T19:37:02.271686Z",
     "iopub.status.busy": "2020-07-22T19:37:02.271116Z",
     "iopub.status.idle": "2020-07-22T19:37:02.276286Z",
     "shell.execute_reply": "2020-07-22T19:37:02.276763Z"
    }
   },
   "outputs": [
    {
     "data": {
      "text/plain": [
       "(424, 3025)"
      ]
     },
     "execution_count": 18,
     "metadata": {},
     "output_type": "execute_result"
    }
   ],
   "source": [
    "np.shape(X_sl_scaled)"
   ]
  },
  {
   "cell_type": "markdown",
   "metadata": {},
   "source": [
    "## How redundant are each of the protein domains?"
   ]
  },
  {
   "cell_type": "code",
   "execution_count": 19,
   "metadata": {
    "execution": {
     "iopub.execute_input": "2020-07-22T19:37:02.285252Z",
     "iopub.status.busy": "2020-07-22T19:37:02.284264Z",
     "iopub.status.idle": "2020-07-22T19:37:02.286289Z",
     "shell.execute_reply": "2020-07-22T19:37:02.286713Z"
    }
   },
   "outputs": [],
   "source": [
    "def PCA_component_contribution(scaled_matrix,original_data):\n",
    "    from sklearn.decomposition import PCA\n",
    "\n",
    "    model = PCA(0.95).fit(scaled_matrix)\n",
    "    ## apply dimensionality reduction to X_train\n",
    "    output_pca = model.transform(scaled_matrix)\n",
    "    \n",
    "    total=sum(model.explained_variance_)\n",
    "\n",
    "\n",
    "   \n",
    "    # number of components , that it will be the number of main axes times the number of original components \n",
    "    n_pcs= model.components_.shape[0] # the amount of non redundant protein domains \n",
    "\n",
    "    # get the index of the most important feature on EACH component\n",
    "    # LIST COMPREHENSION HERE\n",
    "    most_important = [np.abs(model.components_[i]).argmax() for i in range(n_pcs)]\n",
    "\n",
    "    initial_feature_names = original_data.columns\n",
    "    # get the names\n",
    "    most_important_names = [initial_feature_names[most_important[i]] for i in range(n_pcs)]\n",
    "    \n",
    "\n",
    "    # LIST COMPREHENSION HERE AGAIN\n",
    "    dic = {'PC{}'.format(i): most_important_names[i] for i in range(n_pcs)}\n",
    "\n",
    "    # build the dataframe\n",
    "    df = pd.DataFrame(dic.items(),columns=['pca-component','domain-number'])\n",
    "\n",
    "    return df,model.components_"
   ]
  },
  {
   "cell_type": "code",
   "execution_count": 20,
   "metadata": {
    "execution": {
     "iopub.execute_input": "2020-07-22T19:37:02.290669Z",
     "iopub.status.busy": "2020-07-22T19:37:02.290102Z",
     "iopub.status.idle": "2020-07-22T19:37:02.983071Z",
     "shell.execute_reply": "2020-07-22T19:37:02.983567Z"
    }
   },
   "outputs": [],
   "source": [
    "df_sl,components_pca_nsl=PCA_component_contribution(X_nsl_scaled,x_nsl)\n",
    "df_nsl,components_pca_sl=PCA_component_contribution(X_sl_scaled,x_sl)"
   ]
  },
  {
   "cell_type": "code",
   "execution_count": 21,
   "metadata": {
    "execution": {
     "iopub.execute_input": "2020-07-22T19:37:02.986205Z",
     "iopub.status.busy": "2020-07-22T19:37:02.985625Z",
     "iopub.status.idle": "2020-07-22T19:37:02.993749Z",
     "shell.execute_reply": "2020-07-22T19:37:02.994318Z"
    }
   },
   "outputs": [
    {
     "data": {
      "text/html": [
       "<div>\n",
       "<style scoped>\n",
       "    .dataframe tbody tr th:only-of-type {\n",
       "        vertical-align: middle;\n",
       "    }\n",
       "\n",
       "    .dataframe tbody tr th {\n",
       "        vertical-align: top;\n",
       "    }\n",
       "\n",
       "    .dataframe thead th {\n",
       "        text-align: right;\n",
       "    }\n",
       "</style>\n",
       "<table border=\"1\" class=\"dataframe\">\n",
       "  <thead>\n",
       "    <tr style=\"text-align: right;\">\n",
       "      <th></th>\n",
       "      <th>pca-component</th>\n",
       "      <th>domain-number</th>\n",
       "    </tr>\n",
       "  </thead>\n",
       "  <tbody>\n",
       "    <tr>\n",
       "      <th>0</th>\n",
       "      <td>PC0</td>\n",
       "      <td>50</td>\n",
       "    </tr>\n",
       "    <tr>\n",
       "      <th>1</th>\n",
       "      <td>PC1</td>\n",
       "      <td>135</td>\n",
       "    </tr>\n",
       "    <tr>\n",
       "      <th>2</th>\n",
       "      <td>PC2</td>\n",
       "      <td>1671</td>\n",
       "    </tr>\n",
       "    <tr>\n",
       "      <th>3</th>\n",
       "      <td>PC3</td>\n",
       "      <td>2</td>\n",
       "    </tr>\n",
       "    <tr>\n",
       "      <th>4</th>\n",
       "      <td>PC4</td>\n",
       "      <td>1261</td>\n",
       "    </tr>\n",
       "  </tbody>\n",
       "</table>\n",
       "</div>"
      ],
      "text/plain": [
       "  pca-component  domain-number\n",
       "0           PC0             50\n",
       "1           PC1            135\n",
       "2           PC2           1671\n",
       "3           PC3              2\n",
       "4           PC4           1261"
      ]
     },
     "execution_count": 21,
     "metadata": {},
     "output_type": "execute_result"
    }
   ],
   "source": [
    "df_sl.head()"
   ]
  },
  {
   "cell_type": "markdown",
   "metadata": {},
   "source": [
    "## which are the shared domains between nSL and SL pairs , in the PCA reduced samples"
   ]
  },
  {
   "cell_type": "code",
   "execution_count": 22,
   "metadata": {
    "execution": {
     "iopub.execute_input": "2020-07-22T19:37:02.996588Z",
     "iopub.status.busy": "2020-07-22T19:37:02.996011Z",
     "iopub.status.idle": "2020-07-22T19:37:03.028224Z",
     "shell.execute_reply": "2020-07-22T19:37:03.026833Z"
    }
   },
   "outputs": [
    {
     "data": {
      "text/html": [
       "<div>\n",
       "<style scoped>\n",
       "    .dataframe tbody tr th:only-of-type {\n",
       "        vertical-align: middle;\n",
       "    }\n",
       "\n",
       "    .dataframe tbody tr th {\n",
       "        vertical-align: top;\n",
       "    }\n",
       "\n",
       "    .dataframe thead th {\n",
       "        text-align: right;\n",
       "    }\n",
       "</style>\n",
       "<table border=\"1\" class=\"dataframe\">\n",
       "  <thead>\n",
       "    <tr style=\"text-align: right;\">\n",
       "      <th></th>\n",
       "      <th>pca-component_x</th>\n",
       "      <th>domain-number</th>\n",
       "      <th>pca-component_y</th>\n",
       "      <th>domain-description</th>\n",
       "    </tr>\n",
       "  </thead>\n",
       "  <tbody>\n",
       "    <tr>\n",
       "      <th>0</th>\n",
       "      <td>PC10</td>\n",
       "      <td>463</td>\n",
       "      <td>PC18</td>\n",
       "      <td>Chitin_synth_1N; Chitin synthase N-terminal</td>\n",
       "    </tr>\n",
       "    <tr>\n",
       "      <th>1</th>\n",
       "      <td>PC13</td>\n",
       "      <td>257</td>\n",
       "      <td>PC28</td>\n",
       "      <td>BAR_2; BAR domain-containing family</td>\n",
       "    </tr>\n",
       "    <tr>\n",
       "      <th>2</th>\n",
       "      <td>PC14</td>\n",
       "      <td>926</td>\n",
       "      <td>PC29</td>\n",
       "      <td>Flp_C; Recombinase Flp protein</td>\n",
       "    </tr>\n",
       "    <tr>\n",
       "      <th>3</th>\n",
       "      <td>PC20</td>\n",
       "      <td>926</td>\n",
       "      <td>PC29</td>\n",
       "      <td>Flp_C; Recombinase Flp protein</td>\n",
       "    </tr>\n",
       "    <tr>\n",
       "      <th>4</th>\n",
       "      <td>PC23</td>\n",
       "      <td>2545</td>\n",
       "      <td>PC110</td>\n",
       "      <td>Syja_N; SAC domain</td>\n",
       "    </tr>\n",
       "    <tr>\n",
       "      <th>...</th>\n",
       "      <td>...</td>\n",
       "      <td>...</td>\n",
       "      <td>...</td>\n",
       "      <td>...</td>\n",
       "    </tr>\n",
       "    <tr>\n",
       "      <th>63</th>\n",
       "      <td>PC245</td>\n",
       "      <td>704</td>\n",
       "      <td>PC69</td>\n",
       "      <td>DUF3543; Serine/threonine-protein kinase, C-te...</td>\n",
       "    </tr>\n",
       "    <tr>\n",
       "      <th>64</th>\n",
       "      <td>PC274</td>\n",
       "      <td>412</td>\n",
       "      <td>PC59</td>\n",
       "      <td>CRAL_TRIO_N; CRAL/TRIO, N-terminal domain</td>\n",
       "    </tr>\n",
       "    <tr>\n",
       "      <th>65</th>\n",
       "      <td>PC278</td>\n",
       "      <td>2311</td>\n",
       "      <td>PC261</td>\n",
       "      <td>SF1-HH; Splicing factor 1, helix-hairpin domain</td>\n",
       "    </tr>\n",
       "    <tr>\n",
       "      <th>66</th>\n",
       "      <td>PC281</td>\n",
       "      <td>1498</td>\n",
       "      <td>PC209</td>\n",
       "      <td>MmgE_PrpD; MmgE/PrpD</td>\n",
       "    </tr>\n",
       "    <tr>\n",
       "      <th>67</th>\n",
       "      <td>PC284</td>\n",
       "      <td>1389</td>\n",
       "      <td>PC39</td>\n",
       "      <td>MOR2-PAG1_mid; Cell morphogenesis central region</td>\n",
       "    </tr>\n",
       "  </tbody>\n",
       "</table>\n",
       "<p>68 rows × 4 columns</p>\n",
       "</div>"
      ],
      "text/plain": [
       "   pca-component_x  domain-number pca-component_y  \\\n",
       "0             PC10            463            PC18   \n",
       "1             PC13            257            PC28   \n",
       "2             PC14            926            PC29   \n",
       "3             PC20            926            PC29   \n",
       "4             PC23           2545           PC110   \n",
       "..             ...            ...             ...   \n",
       "63           PC245            704            PC69   \n",
       "64           PC274            412            PC59   \n",
       "65           PC278           2311           PC261   \n",
       "66           PC281           1498           PC209   \n",
       "67           PC284           1389            PC39   \n",
       "\n",
       "                                   domain-description  \n",
       "0         Chitin_synth_1N; Chitin synthase N-terminal  \n",
       "1                 BAR_2; BAR domain-containing family  \n",
       "2                      Flp_C; Recombinase Flp protein  \n",
       "3                      Flp_C; Recombinase Flp protein  \n",
       "4                                  Syja_N; SAC domain  \n",
       "..                                                ...  \n",
       "63  DUF3543; Serine/threonine-protein kinase, C-te...  \n",
       "64          CRAL_TRIO_N; CRAL/TRIO, N-terminal domain  \n",
       "65    SF1-HH; Splicing factor 1, helix-hairpin domain  \n",
       "66                               MmgE_PrpD; MmgE/PrpD  \n",
       "67   MOR2-PAG1_mid; Cell morphogenesis central region  \n",
       "\n",
       "[68 rows x 4 columns]"
      ]
     },
     "execution_count": 22,
     "metadata": {},
     "output_type": "execute_result"
    }
   ],
   "source": [
    "df_shared_domains=pd.merge(df_sl,df_nsl,how='inner',on='domain-number')\n",
    "domains_name=np.unique(data_domains['domain-name'])\n",
    "domains_description=np.unique(data_domains['domain-descrip'])\n",
    "\n",
    "df_shared_domains['domain-description']=domains_description[df_shared_domains['domain-number']]\n",
    "\n",
    "\n",
    "df_shared_domains"
   ]
  },
  {
   "cell_type": "code",
   "execution_count": 23,
   "metadata": {
    "execution": {
     "iopub.execute_input": "2020-07-22T19:37:03.033269Z",
     "iopub.status.busy": "2020-07-22T19:37:03.032684Z",
     "iopub.status.idle": "2020-07-22T19:37:03.036913Z",
     "shell.execute_reply": "2020-07-22T19:37:03.037359Z"
    }
   },
   "outputs": [
    {
     "name": "stdout",
     "output_type": "stream",
     "text": [
      "The number of shared domains between SL and nSL pairs,after PCA, is =  68 out of 557 so the 12.208258527827649 %\n"
     ]
    }
   ],
   "source": [
    "print('The number of shared domains between SL and nSL pairs,after PCA, is = ',len(df_shared_domains), 'out of', len(df_sl)+len(df_nsl), 'so the',100*len(df_shared_domains)/(len(df_sl)+len(df_nsl)),'%')"
   ]
  },
  {
   "cell_type": "markdown",
   "metadata": {},
   "source": [
    "## Domains exclusive to SL"
   ]
  },
  {
   "cell_type": "code",
   "execution_count": 24,
   "metadata": {
    "execution": {
     "iopub.execute_input": "2020-07-22T19:37:03.049597Z",
     "iopub.status.busy": "2020-07-22T19:37:03.049024Z",
     "iopub.status.idle": "2020-07-22T19:37:03.070391Z",
     "shell.execute_reply": "2020-07-22T19:37:03.071154Z"
    }
   },
   "outputs": [
    {
     "data": {
      "text/html": [
       "<div>\n",
       "<style scoped>\n",
       "    .dataframe tbody tr th:only-of-type {\n",
       "        vertical-align: middle;\n",
       "    }\n",
       "\n",
       "    .dataframe tbody tr th {\n",
       "        vertical-align: top;\n",
       "    }\n",
       "\n",
       "    .dataframe thead th {\n",
       "        text-align: right;\n",
       "    }\n",
       "</style>\n",
       "<table border=\"1\" class=\"dataframe\">\n",
       "  <thead>\n",
       "    <tr style=\"text-align: right;\">\n",
       "      <th></th>\n",
       "      <th>pca-component_x</th>\n",
       "      <th>domain-number</th>\n",
       "      <th>pca-component_y</th>\n",
       "      <th>domain-description</th>\n",
       "    </tr>\n",
       "  </thead>\n",
       "  <tbody>\n",
       "    <tr>\n",
       "      <th>0</th>\n",
       "      <td>PC0</td>\n",
       "      <td>50</td>\n",
       "      <td>NaN</td>\n",
       "      <td>ACT_7; GATS-like  ACT domain</td>\n",
       "    </tr>\n",
       "    <tr>\n",
       "      <th>1</th>\n",
       "      <td>PC1</td>\n",
       "      <td>135</td>\n",
       "      <td>NaN</td>\n",
       "      <td>ATP-synt_ab_Xtn; ATPsynthase alpha/beta subuni...</td>\n",
       "    </tr>\n",
       "    <tr>\n",
       "      <th>2</th>\n",
       "      <td>PC2</td>\n",
       "      <td>1671</td>\n",
       "      <td>NaN</td>\n",
       "      <td>Ofd1_CTDD; Oxoglutarate/iron-dependent oxygena...</td>\n",
       "    </tr>\n",
       "    <tr>\n",
       "      <th>3</th>\n",
       "      <td>PC3</td>\n",
       "      <td>2</td>\n",
       "      <td>NaN</td>\n",
       "      <td>2-Hacid_dh; D-isomer specific 2-hydroxyacid de...</td>\n",
       "    </tr>\n",
       "    <tr>\n",
       "      <th>4</th>\n",
       "      <td>PC4</td>\n",
       "      <td>1261</td>\n",
       "      <td>NaN</td>\n",
       "      <td>KRE1; Protein Kre1</td>\n",
       "    </tr>\n",
       "    <tr>\n",
       "      <th>...</th>\n",
       "      <td>...</td>\n",
       "      <td>...</td>\n",
       "      <td>...</td>\n",
       "      <td>...</td>\n",
       "    </tr>\n",
       "    <tr>\n",
       "      <th>286</th>\n",
       "      <td>PC277</td>\n",
       "      <td>1103</td>\n",
       "      <td>NaN</td>\n",
       "      <td>HDA2-3; HDA1 complex subunit 2/3</td>\n",
       "    </tr>\n",
       "    <tr>\n",
       "      <th>288</th>\n",
       "      <td>PC279</td>\n",
       "      <td>549</td>\n",
       "      <td>NaN</td>\n",
       "      <td>DAO; FAD dependent oxidoreductase</td>\n",
       "    </tr>\n",
       "    <tr>\n",
       "      <th>289</th>\n",
       "      <td>PC280</td>\n",
       "      <td>2300</td>\n",
       "      <td>NaN</td>\n",
       "      <td>SBE2; Sbe2/Sbe22</td>\n",
       "    </tr>\n",
       "    <tr>\n",
       "      <th>291</th>\n",
       "      <td>PC282</td>\n",
       "      <td>2125</td>\n",
       "      <td>NaN</td>\n",
       "      <td>Rer1; Retrieval of early ER protein Rer1</td>\n",
       "    </tr>\n",
       "    <tr>\n",
       "      <th>292</th>\n",
       "      <td>PC283</td>\n",
       "      <td>1843</td>\n",
       "      <td>NaN</td>\n",
       "      <td>PWWP; PWWP domain</td>\n",
       "    </tr>\n",
       "  </tbody>\n",
       "</table>\n",
       "<p>226 rows × 4 columns</p>\n",
       "</div>"
      ],
      "text/plain": [
       "    pca-component_x  domain-number pca-component_y  \\\n",
       "0               PC0             50             NaN   \n",
       "1               PC1            135             NaN   \n",
       "2               PC2           1671             NaN   \n",
       "3               PC3              2             NaN   \n",
       "4               PC4           1261             NaN   \n",
       "..              ...            ...             ...   \n",
       "286           PC277           1103             NaN   \n",
       "288           PC279            549             NaN   \n",
       "289           PC280           2300             NaN   \n",
       "291           PC282           2125             NaN   \n",
       "292           PC283           1843             NaN   \n",
       "\n",
       "                                    domain-description  \n",
       "0                         ACT_7; GATS-like  ACT domain  \n",
       "1    ATP-synt_ab_Xtn; ATPsynthase alpha/beta subuni...  \n",
       "2    Ofd1_CTDD; Oxoglutarate/iron-dependent oxygena...  \n",
       "3    2-Hacid_dh; D-isomer specific 2-hydroxyacid de...  \n",
       "4                                   KRE1; Protein Kre1  \n",
       "..                                                 ...  \n",
       "286                   HDA2-3; HDA1 complex subunit 2/3  \n",
       "288                  DAO; FAD dependent oxidoreductase  \n",
       "289                                   SBE2; Sbe2/Sbe22  \n",
       "291           Rer1; Retrieval of early ER protein Rer1  \n",
       "292                                  PWWP; PWWP domain  \n",
       "\n",
       "[226 rows x 4 columns]"
      ]
     },
     "execution_count": 24,
     "metadata": {},
     "output_type": "execute_result"
    }
   ],
   "source": [
    "df_sl_exclusive=pd.merge(df_sl,df_nsl,how='left',on='domain-number')\n",
    "\n",
    "domains_name=np.unique(data_domains['domain-name'])\n",
    "domains_description=np.unique(data_domains['domain-descrip'])\n",
    "\n",
    "df_sl_exclusive['domain-description']=domains_description[df_sl_exclusive['domain-number']]\n",
    "df_sl_exclusive[pd.isnull(df_sl_exclusive['pca-component_y'])]"
   ]
  },
  {
   "cell_type": "code",
   "execution_count": 25,
   "metadata": {
    "execution": {
     "iopub.execute_input": "2020-07-22T19:37:03.074140Z",
     "iopub.status.busy": "2020-07-22T19:37:03.073137Z",
     "iopub.status.idle": "2020-07-22T19:37:03.081525Z",
     "shell.execute_reply": "2020-07-22T19:37:03.082223Z"
    }
   },
   "outputs": [
    {
     "name": "stdout",
     "output_type": "stream",
     "text": [
      "The number of exclusive domains from SL pairs, after PCA, is =  294 out of 557 so the 52.782764811490125 %\n"
     ]
    }
   ],
   "source": [
    "print('The number of exclusive domains from SL pairs, after PCA, is = ',len(df_sl_exclusive), 'out of', len(df_sl)+len(df_nsl), 'so the',100*len(df_sl_exclusive)/(len(df_sl)+len(df_nsl)),'%')"
   ]
  },
  {
   "cell_type": "code",
   "execution_count": 26,
   "metadata": {
    "execution": {
     "iopub.execute_input": "2020-07-22T19:37:03.085256Z",
     "iopub.status.busy": "2020-07-22T19:37:03.084204Z",
     "iopub.status.idle": "2020-07-22T19:37:03.118218Z",
     "shell.execute_reply": "2020-07-22T19:37:03.118742Z"
    }
   },
   "outputs": [
    {
     "data": {
      "text/html": [
       "<div>\n",
       "<style scoped>\n",
       "    .dataframe tbody tr th:only-of-type {\n",
       "        vertical-align: middle;\n",
       "    }\n",
       "\n",
       "    .dataframe tbody tr th {\n",
       "        vertical-align: top;\n",
       "    }\n",
       "\n",
       "    .dataframe thead th {\n",
       "        text-align: right;\n",
       "    }\n",
       "</style>\n",
       "<table border=\"1\" class=\"dataframe\">\n",
       "  <thead>\n",
       "    <tr style=\"text-align: right;\">\n",
       "      <th></th>\n",
       "      <th>pca-component_x</th>\n",
       "      <th>domain-number</th>\n",
       "      <th>pca-component_y</th>\n",
       "      <th>domain-description</th>\n",
       "    </tr>\n",
       "  </thead>\n",
       "  <tbody>\n",
       "    <tr>\n",
       "      <th>68</th>\n",
       "      <td>NaN</td>\n",
       "      <td>1028</td>\n",
       "      <td>PC0</td>\n",
       "      <td>GatB_Yqey; Asn/Gln amidotransferase</td>\n",
       "    </tr>\n",
       "    <tr>\n",
       "      <th>69</th>\n",
       "      <td>NaN</td>\n",
       "      <td>268</td>\n",
       "      <td>PC1</td>\n",
       "      <td>BHD_3; Rad4 beta-hairpin domain 3</td>\n",
       "    </tr>\n",
       "    <tr>\n",
       "      <th>70</th>\n",
       "      <td>NaN</td>\n",
       "      <td>1091</td>\n",
       "      <td>PC2</td>\n",
       "      <td>HAD</td>\n",
       "    </tr>\n",
       "    <tr>\n",
       "      <th>71</th>\n",
       "      <td>NaN</td>\n",
       "      <td>1252</td>\n",
       "      <td>PC3</td>\n",
       "      <td>JmjN; JmjN domain</td>\n",
       "    </tr>\n",
       "    <tr>\n",
       "      <th>72</th>\n",
       "      <td>NaN</td>\n",
       "      <td>1645</td>\n",
       "      <td>PC4</td>\n",
       "      <td>Nucleoporin_C; Nucleoporin, Nup133/Nup155-like...</td>\n",
       "    </tr>\n",
       "    <tr>\n",
       "      <th>...</th>\n",
       "      <td>...</td>\n",
       "      <td>...</td>\n",
       "      <td>...</td>\n",
       "      <td>...</td>\n",
       "    </tr>\n",
       "    <tr>\n",
       "      <th>280</th>\n",
       "      <td>NaN</td>\n",
       "      <td>1429</td>\n",
       "      <td>PC264</td>\n",
       "      <td>Mcl1_mid; Minichromosome loss protein Mcl1, mi...</td>\n",
       "    </tr>\n",
       "    <tr>\n",
       "      <th>281</th>\n",
       "      <td>NaN</td>\n",
       "      <td>2584</td>\n",
       "      <td>PC267</td>\n",
       "      <td>TFIIIC_sub6; Transcription factor TFIIIC, tau5...</td>\n",
       "    </tr>\n",
       "    <tr>\n",
       "      <th>282</th>\n",
       "      <td>NaN</td>\n",
       "      <td>2490</td>\n",
       "      <td>PC268</td>\n",
       "      <td>SnAC; Snf2, ATP coupling domain</td>\n",
       "    </tr>\n",
       "    <tr>\n",
       "      <th>283</th>\n",
       "      <td>NaN</td>\n",
       "      <td>2490</td>\n",
       "      <td>PC270</td>\n",
       "      <td>SnAC; Snf2, ATP coupling domain</td>\n",
       "    </tr>\n",
       "    <tr>\n",
       "      <th>284</th>\n",
       "      <td>NaN</td>\n",
       "      <td>401</td>\n",
       "      <td>PC271</td>\n",
       "      <td>COX7a</td>\n",
       "    </tr>\n",
       "  </tbody>\n",
       "</table>\n",
       "<p>217 rows × 4 columns</p>\n",
       "</div>"
      ],
      "text/plain": [
       "    pca-component_x  domain-number pca-component_y  \\\n",
       "68              NaN           1028             PC0   \n",
       "69              NaN            268             PC1   \n",
       "70              NaN           1091             PC2   \n",
       "71              NaN           1252             PC3   \n",
       "72              NaN           1645             PC4   \n",
       "..              ...            ...             ...   \n",
       "280             NaN           1429           PC264   \n",
       "281             NaN           2584           PC267   \n",
       "282             NaN           2490           PC268   \n",
       "283             NaN           2490           PC270   \n",
       "284             NaN            401           PC271   \n",
       "\n",
       "                                    domain-description  \n",
       "68                 GatB_Yqey; Asn/Gln amidotransferase  \n",
       "69                   BHD_3; Rad4 beta-hairpin domain 3  \n",
       "70                                                 HAD  \n",
       "71                                   JmjN; JmjN domain  \n",
       "72   Nucleoporin_C; Nucleoporin, Nup133/Nup155-like...  \n",
       "..                                                 ...  \n",
       "280  Mcl1_mid; Minichromosome loss protein Mcl1, mi...  \n",
       "281  TFIIIC_sub6; Transcription factor TFIIIC, tau5...  \n",
       "282                    SnAC; Snf2, ATP coupling domain  \n",
       "283                    SnAC; Snf2, ATP coupling domain  \n",
       "284                                              COX7a  \n",
       "\n",
       "[217 rows x 4 columns]"
      ]
     },
     "execution_count": 26,
     "metadata": {},
     "output_type": "execute_result"
    }
   ],
   "source": [
    "df_nsl_exclusive=pd.merge(df_sl,df_nsl,how='right',on='domain-number')\n",
    "\n",
    "domains_name=np.unique(data_domains['domain-name'])\n",
    "domains_description=np.unique(data_domains['domain-descrip'])\n",
    "\n",
    "df_nsl_exclusive['domain-description']=domains_description[df_nsl_exclusive['domain-number']]\n",
    "df_nsl_exclusive[pd.isnull(df_nsl_exclusive['pca-component_x'])]"
   ]
  },
  {
   "cell_type": "code",
   "execution_count": 27,
   "metadata": {
    "execution": {
     "iopub.execute_input": "2020-07-22T19:37:03.123731Z",
     "iopub.status.busy": "2020-07-22T19:37:03.122708Z",
     "iopub.status.idle": "2020-07-22T19:37:03.128293Z",
     "shell.execute_reply": "2020-07-22T19:37:03.127811Z"
    }
   },
   "outputs": [
    {
     "name": "stdout",
     "output_type": "stream",
     "text": [
      "The number of exclusive domains from non SL pairs, after PCA, is =  285 out of 557 so the 51.166965888689404 %\n"
     ]
    }
   ],
   "source": [
    "print('The number of exclusive domains from non SL pairs, after PCA, is = ',len(df_nsl_exclusive), 'out of', len(df_sl)+len(df_nsl), 'so the',100*len(df_nsl_exclusive)/(len(df_sl)+len(df_nsl)),'%')"
   ]
  },
  {
   "cell_type": "markdown",
   "metadata": {},
   "source": [
    "## Let see to the domains-number that get repeated after the PCA analysis , and selecting the most explanatory feature by its explained variance."
   ]
  },
  {
   "cell_type": "code",
   "execution_count": 28,
   "metadata": {
    "execution": {
     "iopub.execute_input": "2020-07-22T19:37:03.149144Z",
     "iopub.status.busy": "2020-07-22T19:37:03.146285Z",
     "iopub.status.idle": "2020-07-22T19:37:03.151960Z",
     "shell.execute_reply": "2020-07-22T19:37:03.152783Z"
    }
   },
   "outputs": [],
   "source": [
    "duplicated_features_sl=df_sl[df_sl.iloc[:,1].duplicated()]\n",
    "repeated_features_sl=pd.DataFrame()\n",
    "\n",
    "domains_name=np.unique(data_domains['domain-name'])\n",
    "domains_description=np.unique(data_domains['domain-descrip'])\n",
    "\n",
    "repeated_features_sl['domain-name']=domains_name[duplicated_features_sl.iloc[:,1]] \n",
    "repeated_features_sl['domain-description']=domains_description[duplicated_features_sl.iloc[:,1]]\n",
    "\n",
    "duplicated_features_nsl=df_nsl[df_nsl.iloc[:,1].duplicated()]\n",
    "repeated_features_nsl=pd.DataFrame()\n",
    "\n",
    "repeated_features_nsl['domain-name']=domains_name[duplicated_features_nsl.iloc[:,1]] \n",
    "repeated_features_nsl['domain-description']=domains_description[duplicated_features_nsl.iloc[:,1]]"
   ]
  },
  {
   "cell_type": "code",
   "execution_count": 29,
   "metadata": {
    "execution": {
     "iopub.execute_input": "2020-07-22T19:37:03.163509Z",
     "iopub.status.busy": "2020-07-22T19:37:03.162977Z",
     "iopub.status.idle": "2020-07-22T19:37:03.169281Z",
     "shell.execute_reply": "2020-07-22T19:37:03.169768Z"
    }
   },
   "outputs": [
    {
     "name": "stderr",
     "output_type": "stream",
     "text": [
      "/usr/share/miniconda3/envs/wintest/lib/python3.7/site-packages/ipykernel_launcher.py:3: SettingWithCopyWarning: \n",
      "A value is trying to be set on a copy of a slice from a DataFrame.\n",
      "Try using .loc[row_indexer,col_indexer] = value instead\n",
      "\n",
      "See the caveats in the documentation: https://pandas.pydata.org/pandas-docs/stable/user_guide/indexing.html#returning-a-view-versus-a-copy\n",
      "  This is separate from the ipykernel package so we can avoid doing imports until\n"
     ]
    },
    {
     "data": {
      "text/plain": [
       "((52, 4), (294, 4))"
      ]
     },
     "execution_count": 29,
     "metadata": {},
     "output_type": "execute_result"
    }
   ],
   "source": [
    "only_sl_pd=pd.merge(repeated_features_sl,repeated_features_nsl,how='left',on=['domain-name'])\n",
    "data_only_sl = only_sl_pd[pd.isnull(only_sl_pd['domain-description_y'])]\n",
    "data_only_sl['domain-description']=data_only_sl['domain-description_x']\n",
    "data_only_sl.shape,df_sl_exclusive.shape"
   ]
  },
  {
   "cell_type": "code",
   "execution_count": 30,
   "metadata": {
    "execution": {
     "iopub.execute_input": "2020-07-22T19:37:03.187386Z",
     "iopub.status.busy": "2020-07-22T19:37:03.176760Z",
     "iopub.status.idle": "2020-07-22T19:37:03.192766Z",
     "shell.execute_reply": "2020-07-22T19:37:03.192245Z"
    }
   },
   "outputs": [
    {
     "data": {
      "text/html": [
       "<div>\n",
       "<style scoped>\n",
       "    .dataframe tbody tr th:only-of-type {\n",
       "        vertical-align: middle;\n",
       "    }\n",
       "\n",
       "    .dataframe tbody tr th {\n",
       "        vertical-align: top;\n",
       "    }\n",
       "\n",
       "    .dataframe thead th {\n",
       "        text-align: right;\n",
       "    }\n",
       "</style>\n",
       "<table border=\"1\" class=\"dataframe\">\n",
       "  <thead>\n",
       "    <tr style=\"text-align: right;\">\n",
       "      <th></th>\n",
       "      <th>domain-name</th>\n",
       "      <th>domain-description_x</th>\n",
       "      <th>domain-description_y</th>\n",
       "    </tr>\n",
       "  </thead>\n",
       "  <tbody>\n",
       "    <tr>\n",
       "      <th>2</th>\n",
       "      <td>PF03983</td>\n",
       "      <td>NaN</td>\n",
       "      <td>IU_nuc_hydro; Inosine/uridine-preferring nucle...</td>\n",
       "    </tr>\n",
       "    <tr>\n",
       "      <th>3</th>\n",
       "      <td>PF02874</td>\n",
       "      <td>NaN</td>\n",
       "      <td>GLE1; GLE1-like</td>\n",
       "    </tr>\n",
       "    <tr>\n",
       "      <th>4</th>\n",
       "      <td>PF13202</td>\n",
       "      <td>NaN</td>\n",
       "      <td>TIP41; TIP41-like protein</td>\n",
       "    </tr>\n",
       "    <tr>\n",
       "      <th>5</th>\n",
       "      <td>PF01853</td>\n",
       "      <td>NaN</td>\n",
       "      <td>Dopey_N; Dopey, N-terminal</td>\n",
       "    </tr>\n",
       "    <tr>\n",
       "      <th>6</th>\n",
       "      <td>PF02921</td>\n",
       "      <td>NaN</td>\n",
       "      <td>GST_N; Glutathione S-transferase, N-terminal</td>\n",
       "    </tr>\n",
       "    <tr>\n",
       "      <th>7</th>\n",
       "      <td>PF07557</td>\n",
       "      <td>NaN</td>\n",
       "      <td>PEX11; Peroxisomal biogenesis factor 11</td>\n",
       "    </tr>\n",
       "    <tr>\n",
       "      <th>8</th>\n",
       "      <td>PF01213</td>\n",
       "      <td>NaN</td>\n",
       "      <td>DALR_1; DALR anticodon binding</td>\n",
       "    </tr>\n",
       "    <tr>\n",
       "      <th>9</th>\n",
       "      <td>PF01398</td>\n",
       "      <td>NaN</td>\n",
       "      <td>DNA_pol_A_exo1; 3&amp;apos;-5&amp;apos; exonuclease do...</td>\n",
       "    </tr>\n",
       "    <tr>\n",
       "      <th>10</th>\n",
       "      <td>PF00199</td>\n",
       "      <td>NaN</td>\n",
       "      <td>APG17; Autophagy-related protein 17</td>\n",
       "    </tr>\n",
       "    <tr>\n",
       "      <th>11</th>\n",
       "      <td>PF02516</td>\n",
       "      <td>NaN</td>\n",
       "      <td>FUSC_2</td>\n",
       "    </tr>\n",
       "    <tr>\n",
       "      <th>12</th>\n",
       "      <td>PF00730</td>\n",
       "      <td>NaN</td>\n",
       "      <td>CLASP_N; CLASP N-terminal domain</td>\n",
       "    </tr>\n",
       "    <tr>\n",
       "      <th>13</th>\n",
       "      <td>PF00635</td>\n",
       "      <td>NaN</td>\n",
       "      <td>CAF1A; Chromatin assembly factor 1 subunit A</td>\n",
       "    </tr>\n",
       "    <tr>\n",
       "      <th>14</th>\n",
       "      <td>PF01000</td>\n",
       "      <td>NaN</td>\n",
       "      <td>Cdc6_C; Cdc6, C-terminal</td>\n",
       "    </tr>\n",
       "    <tr>\n",
       "      <th>15</th>\n",
       "      <td>PF10366</td>\n",
       "      <td>NaN</td>\n",
       "      <td>Rrp15p; Ribosomal RNA-processing protein 15</td>\n",
       "    </tr>\n",
       "    <tr>\n",
       "      <th>16</th>\n",
       "      <td>PF02150</td>\n",
       "      <td>NaN</td>\n",
       "      <td>EXOSC1; Exosome complex component CSL4</td>\n",
       "    </tr>\n",
       "    <tr>\n",
       "      <th>17</th>\n",
       "      <td>PF11976</td>\n",
       "      <td>NaN</td>\n",
       "      <td>Sec20</td>\n",
       "    </tr>\n",
       "    <tr>\n",
       "      <th>18</th>\n",
       "      <td>PF08690</td>\n",
       "      <td>NaN</td>\n",
       "      <td>RNA_pol_Rpb2_7; RNA polymerase Rpb2, domain 7</td>\n",
       "    </tr>\n",
       "    <tr>\n",
       "      <th>19</th>\n",
       "      <td>PF00632</td>\n",
       "      <td>NaN</td>\n",
       "      <td>C2; C2 domain</td>\n",
       "    </tr>\n",
       "    <tr>\n",
       "      <th>20</th>\n",
       "      <td>PF04857</td>\n",
       "      <td>NaN</td>\n",
       "      <td>Med16; Mediator complex, subunit Med16</td>\n",
       "    </tr>\n",
       "    <tr>\n",
       "      <th>21</th>\n",
       "      <td>PF04857</td>\n",
       "      <td>NaN</td>\n",
       "      <td>Med16; Mediator complex, subunit Med16</td>\n",
       "    </tr>\n",
       "    <tr>\n",
       "      <th>22</th>\n",
       "      <td>PF04048</td>\n",
       "      <td>NaN</td>\n",
       "      <td>Ist1; Vacuolar protein sorting-associated prot...</td>\n",
       "    </tr>\n",
       "    <tr>\n",
       "      <th>23</th>\n",
       "      <td>PF04048</td>\n",
       "      <td>NaN</td>\n",
       "      <td>Ist1; Vacuolar protein sorting-associated prot...</td>\n",
       "    </tr>\n",
       "    <tr>\n",
       "      <th>24</th>\n",
       "      <td>PF05637</td>\n",
       "      <td>NaN</td>\n",
       "      <td>NMT1; SsuA/THI5-like</td>\n",
       "    </tr>\n",
       "    <tr>\n",
       "      <th>25</th>\n",
       "      <td>PF05637</td>\n",
       "      <td>NaN</td>\n",
       "      <td>NMT1; SsuA/THI5-like</td>\n",
       "    </tr>\n",
       "    <tr>\n",
       "      <th>26</th>\n",
       "      <td>PF01369</td>\n",
       "      <td>NaN</td>\n",
       "      <td>DNA_gyraseB; DNA topoisomerase, type IIA, subu...</td>\n",
       "    </tr>\n",
       "    <tr>\n",
       "      <th>27</th>\n",
       "      <td>PF03666</td>\n",
       "      <td>NaN</td>\n",
       "      <td>Helicase_C; Helicase, C-terminal</td>\n",
       "    </tr>\n",
       "    <tr>\n",
       "      <th>28</th>\n",
       "      <td>PF09496</td>\n",
       "      <td>NaN</td>\n",
       "      <td>Rib_5-P_isom_A; Ribose 5-phosphate isomerase, ...</td>\n",
       "    </tr>\n",
       "    <tr>\n",
       "      <th>29</th>\n",
       "      <td>PF05615</td>\n",
       "      <td>NaN</td>\n",
       "      <td>NIR_SIR_ferr; Nitrite/Sulfite reductase ferred...</td>\n",
       "    </tr>\n",
       "    <tr>\n",
       "      <th>30</th>\n",
       "      <td>PF05615</td>\n",
       "      <td>NaN</td>\n",
       "      <td>NIR_SIR_ferr; Nitrite/Sulfite reductase ferred...</td>\n",
       "    </tr>\n",
       "    <tr>\n",
       "      <th>31</th>\n",
       "      <td>PF13419</td>\n",
       "      <td>NaN</td>\n",
       "      <td>TRAM; TRAM domain</td>\n",
       "    </tr>\n",
       "    <tr>\n",
       "      <th>32</th>\n",
       "      <td>PF11496</td>\n",
       "      <td>NaN</td>\n",
       "      <td>SPX; SPX domain</td>\n",
       "    </tr>\n",
       "    <tr>\n",
       "      <th>33</th>\n",
       "      <td>PF03908</td>\n",
       "      <td>NaN</td>\n",
       "      <td>IBB; Importin-alpha, importin-beta-binding domain</td>\n",
       "    </tr>\n",
       "    <tr>\n",
       "      <th>34</th>\n",
       "      <td>PF00572</td>\n",
       "      <td>NaN</td>\n",
       "      <td>BPL_C; Biotin protein ligase, C-terminal</td>\n",
       "    </tr>\n",
       "    <tr>\n",
       "      <th>35</th>\n",
       "      <td>PF09753</td>\n",
       "      <td>NaN</td>\n",
       "      <td>Ribosomal_L13e; Ribosomal protein L13e</td>\n",
       "    </tr>\n",
       "    <tr>\n",
       "      <th>36</th>\n",
       "      <td>PF09753</td>\n",
       "      <td>NaN</td>\n",
       "      <td>Ribosomal_L13e; Ribosomal protein L13e</td>\n",
       "    </tr>\n",
       "    <tr>\n",
       "      <th>37</th>\n",
       "      <td>PF06687</td>\n",
       "      <td>NaN</td>\n",
       "      <td>Opi1; Transcription factor Opi1</td>\n",
       "    </tr>\n",
       "    <tr>\n",
       "      <th>38</th>\n",
       "      <td>PF01280</td>\n",
       "      <td>NaN</td>\n",
       "      <td>DHHA2; DHHA2 domain</td>\n",
       "    </tr>\n",
       "    <tr>\n",
       "      <th>39</th>\n",
       "      <td>PF01280</td>\n",
       "      <td>NaN</td>\n",
       "      <td>DHHA2; DHHA2 domain</td>\n",
       "    </tr>\n",
       "    <tr>\n",
       "      <th>40</th>\n",
       "      <td>PF12451</td>\n",
       "      <td>NaN</td>\n",
       "      <td>SnAC; Snf2, ATP coupling domain</td>\n",
       "    </tr>\n",
       "  </tbody>\n",
       "</table>\n",
       "</div>"
      ],
      "text/plain": [
       "   domain-name domain-description_x  \\\n",
       "2      PF03983                  NaN   \n",
       "3      PF02874                  NaN   \n",
       "4      PF13202                  NaN   \n",
       "5      PF01853                  NaN   \n",
       "6      PF02921                  NaN   \n",
       "7      PF07557                  NaN   \n",
       "8      PF01213                  NaN   \n",
       "9      PF01398                  NaN   \n",
       "10     PF00199                  NaN   \n",
       "11     PF02516                  NaN   \n",
       "12     PF00730                  NaN   \n",
       "13     PF00635                  NaN   \n",
       "14     PF01000                  NaN   \n",
       "15     PF10366                  NaN   \n",
       "16     PF02150                  NaN   \n",
       "17     PF11976                  NaN   \n",
       "18     PF08690                  NaN   \n",
       "19     PF00632                  NaN   \n",
       "20     PF04857                  NaN   \n",
       "21     PF04857                  NaN   \n",
       "22     PF04048                  NaN   \n",
       "23     PF04048                  NaN   \n",
       "24     PF05637                  NaN   \n",
       "25     PF05637                  NaN   \n",
       "26     PF01369                  NaN   \n",
       "27     PF03666                  NaN   \n",
       "28     PF09496                  NaN   \n",
       "29     PF05615                  NaN   \n",
       "30     PF05615                  NaN   \n",
       "31     PF13419                  NaN   \n",
       "32     PF11496                  NaN   \n",
       "33     PF03908                  NaN   \n",
       "34     PF00572                  NaN   \n",
       "35     PF09753                  NaN   \n",
       "36     PF09753                  NaN   \n",
       "37     PF06687                  NaN   \n",
       "38     PF01280                  NaN   \n",
       "39     PF01280                  NaN   \n",
       "40     PF12451                  NaN   \n",
       "\n",
       "                                 domain-description_y  \n",
       "2   IU_nuc_hydro; Inosine/uridine-preferring nucle...  \n",
       "3                                     GLE1; GLE1-like  \n",
       "4                           TIP41; TIP41-like protein  \n",
       "5                          Dopey_N; Dopey, N-terminal  \n",
       "6        GST_N; Glutathione S-transferase, N-terminal  \n",
       "7             PEX11; Peroxisomal biogenesis factor 11  \n",
       "8                      DALR_1; DALR anticodon binding  \n",
       "9   DNA_pol_A_exo1; 3&apos;-5&apos; exonuclease do...  \n",
       "10                APG17; Autophagy-related protein 17  \n",
       "11                                             FUSC_2  \n",
       "12                   CLASP_N; CLASP N-terminal domain  \n",
       "13       CAF1A; Chromatin assembly factor 1 subunit A  \n",
       "14                           Cdc6_C; Cdc6, C-terminal  \n",
       "15        Rrp15p; Ribosomal RNA-processing protein 15  \n",
       "16             EXOSC1; Exosome complex component CSL4  \n",
       "17                                              Sec20  \n",
       "18      RNA_pol_Rpb2_7; RNA polymerase Rpb2, domain 7  \n",
       "19                                      C2; C2 domain  \n",
       "20             Med16; Mediator complex, subunit Med16  \n",
       "21             Med16; Mediator complex, subunit Med16  \n",
       "22  Ist1; Vacuolar protein sorting-associated prot...  \n",
       "23  Ist1; Vacuolar protein sorting-associated prot...  \n",
       "24                               NMT1; SsuA/THI5-like  \n",
       "25                               NMT1; SsuA/THI5-like  \n",
       "26  DNA_gyraseB; DNA topoisomerase, type IIA, subu...  \n",
       "27                   Helicase_C; Helicase, C-terminal  \n",
       "28  Rib_5-P_isom_A; Ribose 5-phosphate isomerase, ...  \n",
       "29  NIR_SIR_ferr; Nitrite/Sulfite reductase ferred...  \n",
       "30  NIR_SIR_ferr; Nitrite/Sulfite reductase ferred...  \n",
       "31                                  TRAM; TRAM domain  \n",
       "32                                    SPX; SPX domain  \n",
       "33  IBB; Importin-alpha, importin-beta-binding domain  \n",
       "34           BPL_C; Biotin protein ligase, C-terminal  \n",
       "35             Ribosomal_L13e; Ribosomal protein L13e  \n",
       "36             Ribosomal_L13e; Ribosomal protein L13e  \n",
       "37                    Opi1; Transcription factor Opi1  \n",
       "38                                DHHA2; DHHA2 domain  \n",
       "39                                DHHA2; DHHA2 domain  \n",
       "40                    SnAC; Snf2, ATP coupling domain  "
      ]
     },
     "execution_count": 30,
     "metadata": {},
     "output_type": "execute_result"
    }
   ],
   "source": [
    "only_nsl_pd=pd.merge(repeated_features_sl,repeated_features_nsl,how='right',on=['domain-name'])\n",
    "data_only_nsl = only_nsl_pd[pd.isnull(only_nsl_pd['domain-description_x'])]\n",
    "data_only_nsl"
   ]
  },
  {
   "cell_type": "code",
   "execution_count": 31,
   "metadata": {
    "execution": {
     "iopub.execute_input": "2020-07-22T19:37:03.203054Z",
     "iopub.status.busy": "2020-07-22T19:37:03.202554Z",
     "iopub.status.idle": "2020-07-22T19:37:03.208121Z",
     "shell.execute_reply": "2020-07-22T19:37:03.208577Z"
    }
   },
   "outputs": [
    {
     "data": {
      "text/html": [
       "<div>\n",
       "<style scoped>\n",
       "    .dataframe tbody tr th:only-of-type {\n",
       "        vertical-align: middle;\n",
       "    }\n",
       "\n",
       "    .dataframe tbody tr th {\n",
       "        vertical-align: top;\n",
       "    }\n",
       "\n",
       "    .dataframe thead th {\n",
       "        text-align: right;\n",
       "    }\n",
       "</style>\n",
       "<table border=\"1\" class=\"dataframe\">\n",
       "  <thead>\n",
       "    <tr style=\"text-align: right;\">\n",
       "      <th></th>\n",
       "      <th>domain-name</th>\n",
       "      <th>domain-description_x</th>\n",
       "      <th>domain-description_y</th>\n",
       "    </tr>\n",
       "  </thead>\n",
       "  <tbody>\n",
       "    <tr>\n",
       "      <th>0</th>\n",
       "      <td>PF02845</td>\n",
       "      <td>GFD1</td>\n",
       "      <td>GFD1</td>\n",
       "    </tr>\n",
       "    <tr>\n",
       "      <th>1</th>\n",
       "      <td>PF00010</td>\n",
       "      <td>2-oxoacid_dh; 2-oxoacid dehydrogenase acyltran...</td>\n",
       "      <td>2-oxoacid_dh; 2-oxoacid dehydrogenase acyltran...</td>\n",
       "    </tr>\n",
       "  </tbody>\n",
       "</table>\n",
       "</div>"
      ],
      "text/plain": [
       "  domain-name                               domain-description_x  \\\n",
       "0     PF02845                                               GFD1   \n",
       "1     PF00010  2-oxoacid_dh; 2-oxoacid dehydrogenase acyltran...   \n",
       "\n",
       "                                domain-description_y  \n",
       "0                                               GFD1  \n",
       "1  2-oxoacid_dh; 2-oxoacid dehydrogenase acyltran...  "
      ]
     },
     "execution_count": 31,
     "metadata": {},
     "output_type": "execute_result"
    }
   ],
   "source": [
    "shared_domains_pd=pd.merge(repeated_features_sl,repeated_features_nsl,how='inner',on=['domain-name'])\n",
    "shared_domains_pd\n"
   ]
  },
  {
   "cell_type": "code",
   "execution_count": 32,
   "metadata": {
    "execution": {
     "iopub.execute_input": "2020-07-22T19:37:03.218235Z",
     "iopub.status.busy": "2020-07-22T19:37:03.216536Z",
     "iopub.status.idle": "2020-07-22T19:37:04.883574Z",
     "shell.execute_reply": "2020-07-22T19:37:04.884090Z"
    }
   },
   "outputs": [
    {
     "data": {
      "text/plain": [
       "(0.0, 0.2)"
      ]
     },
     "execution_count": 32,
     "metadata": {},
     "output_type": "execute_result"
    },
    {
     "data": {
      "image/png": "[encoded data removed]",
      "text/plain": [
       "<Figure size 432x288 with 1 Axes>"
      ]
     },
     "metadata": {
      "filenames": {
       "image/png": "/home/runner/work/jupyter-book/jupyter-book/mini_book/docs/_build/jupyter_execute/prot_domains2lethality-FEATURES-POSTPROCESSING_47_1.png"
      },
      "needs_background": "light"
     },
     "output_type": "display_data"
    }
   ],
   "source": [
    "a_sl=x_sl.iloc[:,np.sort(df_sl.iloc[:,1])]\n",
    "a_sl.describe().loc['mean'].hist(bins=8),\n",
    "a_sl.describe().loc['std'].hist(bins=8,alpha=0.4)\n",
    "plt.xlim([0,0.2])"
   ]
  },
  {
   "cell_type": "code",
   "execution_count": 33,
   "metadata": {
    "execution": {
     "iopub.execute_input": "2020-07-22T19:37:04.895365Z",
     "iopub.status.busy": "2020-07-22T19:37:04.891948Z",
     "iopub.status.idle": "2020-07-22T19:37:06.517863Z",
     "shell.execute_reply": "2020-07-22T19:37:06.516489Z"
    }
   },
   "outputs": [
    {
     "data": {
      "text/plain": [
       "(0.0, 0.2)"
      ]
     },
     "execution_count": 33,
     "metadata": {},
     "output_type": "execute_result"
    },
    {
     "data": {
      "image/png": "[encoded data removed]",
      "text/plain": [
       "<Figure size 432x288 with 1 Axes>"
      ]
     },
     "metadata": {
      "filenames": {
       "image/png": "/home/runner/work/jupyter-book/jupyter-book/mini_book/docs/_build/jupyter_execute/prot_domains2lethality-FEATURES-POSTPROCESSING_48_1.png"
      },
      "needs_background": "light"
     },
     "output_type": "display_data"
    }
   ],
   "source": [
    "a_nsl=x_nsl.iloc[:,np.sort(df_nsl.iloc[:,1])]\n",
    "a_nsl.describe().loc['mean'].hist(bins=8),\n",
    "a_nsl.describe().loc['std'].hist(bins=8,alpha=0.4)\n",
    "plt.xlim([0,0.2])"
   ]
  },
  {
   "cell_type": "markdown",
   "metadata": {},
   "source": [
    "### Proof of concept with *BEM1*\n",
    "\n",
    "- Gather the domains of SL and nSL pairs from BEM1\n",
    "- Check if the domains for the SL and nSL pairs are inside the most important domains after PCA."
   ]
  },
  {
   "cell_type": "code",
   "execution_count": 34,
   "metadata": {
    "execution": {
     "iopub.execute_input": "2020-07-22T19:37:06.526341Z",
     "iopub.status.busy": "2020-07-22T19:37:06.525777Z",
     "iopub.status.idle": "2020-07-22T19:37:06.529667Z",
     "shell.execute_reply": "2020-07-22T19:37:06.529098Z"
    }
   },
   "outputs": [],
   "source": [
    "domains_bem1=data_domains[data_domains['name']=='BEM1']['domain-descrip']\n",
    "sl_bem1=data_sl[data_sl['gene-query-name']=='BEM1']['gene-target-name']"
   ]
  },
  {
   "cell_type": "code",
   "execution_count": 35,
   "metadata": {
    "execution": {
     "iopub.execute_input": "2020-07-22T19:37:06.534426Z",
     "iopub.status.busy": "2020-07-22T19:37:06.533869Z",
     "iopub.status.idle": "2020-07-22T19:37:06.539290Z",
     "shell.execute_reply": "2020-07-22T19:37:06.538806Z"
    }
   },
   "outputs": [
    {
     "data": {
      "text/plain": [
       "2846      BEM2\n",
       "2847     CDC24\n",
       "5004      MSB1\n",
       "13777     SMI1\n",
       "13778     BNI1\n",
       "13779     BEM2\n",
       "14385     SKN7\n",
       "Name: gene-target-name, dtype: object"
      ]
     },
     "execution_count": 35,
     "metadata": {},
     "output_type": "execute_result"
    }
   ],
   "source": [
    "sl_bem1"
   ]
  },
  {
   "cell_type": "code",
   "execution_count": 36,
   "metadata": {
    "execution": {
     "iopub.execute_input": "2020-07-22T19:37:06.554652Z",
     "iopub.status.busy": "2020-07-22T19:37:06.554081Z",
     "iopub.status.idle": "2020-07-22T19:37:06.559718Z",
     "shell.execute_reply": "2020-07-22T19:37:06.558965Z"
    }
   },
   "outputs": [
    {
     "data": {
      "text/html": [
       "<div>\n",
       "<style scoped>\n",
       "    .dataframe tbody tr th:only-of-type {\n",
       "        vertical-align: middle;\n",
       "    }\n",
       "\n",
       "    .dataframe tbody tr th {\n",
       "        vertical-align: top;\n",
       "    }\n",
       "\n",
       "    .dataframe thead th {\n",
       "        text-align: right;\n",
       "    }\n",
       "</style>\n",
       "<table border=\"1\" class=\"dataframe\">\n",
       "  <thead>\n",
       "    <tr style=\"text-align: right;\">\n",
       "      <th></th>\n",
       "      <th>gene-query</th>\n",
       "      <th>gene-target</th>\n",
       "      <th>gene-query-name</th>\n",
       "      <th>gene-target-name</th>\n",
       "      <th>gene-query-description</th>\n",
       "      <th>gene-target-description</th>\n",
       "      <th>interaction-type</th>\n",
       "      <th>paper-source</th>\n",
       "    </tr>\n",
       "  </thead>\n",
       "  <tbody>\n",
       "    <tr>\n",
       "      <th>2846</th>\n",
       "      <td>YBR200W</td>\n",
       "      <td>YER155C</td>\n",
       "      <td>BEM1</td>\n",
       "      <td>BEM2</td>\n",
       "      <td>SRO1|phosphatidylinositol-3-phosphate-binding ...</td>\n",
       "      <td>IPL2|SUP9|TSL1|L000000168</td>\n",
       "      <td>Synthetic Lethality</td>\n",
       "      <td>Peterson J (1994)</td>\n",
       "    </tr>\n",
       "    <tr>\n",
       "      <th>2847</th>\n",
       "      <td>YBR200W</td>\n",
       "      <td>YAL041W</td>\n",
       "      <td>BEM1</td>\n",
       "      <td>CDC24</td>\n",
       "      <td>SRO1|phosphatidylinositol-3-phosphate-binding ...</td>\n",
       "      <td>CLS4|Rho family guanine nucleotide exchange fa...</td>\n",
       "      <td>Synthetic Lethality</td>\n",
       "      <td>Peterson J (1994)</td>\n",
       "    </tr>\n",
       "    <tr>\n",
       "      <th>5004</th>\n",
       "      <td>YBR200W</td>\n",
       "      <td>YOR188W</td>\n",
       "      <td>BEM1</td>\n",
       "      <td>MSB1</td>\n",
       "      <td>SRO1|phosphatidylinositol-3-phosphate-binding ...</td>\n",
       "      <td>L000001184</td>\n",
       "      <td>Synthetic Lethality</td>\n",
       "      <td>Bender A (1991)</td>\n",
       "    </tr>\n",
       "    <tr>\n",
       "      <th>13777</th>\n",
       "      <td>YBR200W</td>\n",
       "      <td>YGR229C</td>\n",
       "      <td>BEM1</td>\n",
       "      <td>SMI1</td>\n",
       "      <td>SRO1|phosphatidylinositol-3-phosphate-binding ...</td>\n",
       "      <td>KNR4|L000000909</td>\n",
       "      <td>Synthetic Lethality</td>\n",
       "      <td>Gorelik M (2011)</td>\n",
       "    </tr>\n",
       "    <tr>\n",
       "      <th>13778</th>\n",
       "      <td>YBR200W</td>\n",
       "      <td>YNL271C</td>\n",
       "      <td>BEM1</td>\n",
       "      <td>BNI1</td>\n",
       "      <td>SRO1|phosphatidylinositol-3-phosphate-binding ...</td>\n",
       "      <td>PPF3|SHE5|formin BNI1|L000000190</td>\n",
       "      <td>Synthetic Lethality</td>\n",
       "      <td>Gorelik M (2011)</td>\n",
       "    </tr>\n",
       "    <tr>\n",
       "      <th>13779</th>\n",
       "      <td>YBR200W</td>\n",
       "      <td>YER155C</td>\n",
       "      <td>BEM1</td>\n",
       "      <td>BEM2</td>\n",
       "      <td>SRO1|phosphatidylinositol-3-phosphate-binding ...</td>\n",
       "      <td>IPL2|SUP9|TSL1|L000000168</td>\n",
       "      <td>Synthetic Lethality</td>\n",
       "      <td>Gorelik M (2011)</td>\n",
       "    </tr>\n",
       "    <tr>\n",
       "      <th>14385</th>\n",
       "      <td>YBR200W</td>\n",
       "      <td>YHR206W</td>\n",
       "      <td>BEM1</td>\n",
       "      <td>SKN7</td>\n",
       "      <td>SRO1|phosphatidylinositol-3-phosphate-binding ...</td>\n",
       "      <td>BRY1|POS9|kinase-regulated stress-responsive t...</td>\n",
       "      <td>Dosage Lethality</td>\n",
       "      <td>Bouquin N (1999)</td>\n",
       "    </tr>\n",
       "  </tbody>\n",
       "</table>\n",
       "</div>"
      ],
      "text/plain": [
       "      gene-query gene-target gene-query-name gene-target-name  \\\n",
       "2846     YBR200W     YER155C            BEM1             BEM2   \n",
       "2847     YBR200W     YAL041W            BEM1            CDC24   \n",
       "5004     YBR200W     YOR188W            BEM1             MSB1   \n",
       "13777    YBR200W     YGR229C            BEM1             SMI1   \n",
       "13778    YBR200W     YNL271C            BEM1             BNI1   \n",
       "13779    YBR200W     YER155C            BEM1             BEM2   \n",
       "14385    YBR200W     YHR206W            BEM1             SKN7   \n",
       "\n",
       "                                  gene-query-description  \\\n",
       "2846   SRO1|phosphatidylinositol-3-phosphate-binding ...   \n",
       "2847   SRO1|phosphatidylinositol-3-phosphate-binding ...   \n",
       "5004   SRO1|phosphatidylinositol-3-phosphate-binding ...   \n",
       "13777  SRO1|phosphatidylinositol-3-phosphate-binding ...   \n",
       "13778  SRO1|phosphatidylinositol-3-phosphate-binding ...   \n",
       "13779  SRO1|phosphatidylinositol-3-phosphate-binding ...   \n",
       "14385  SRO1|phosphatidylinositol-3-phosphate-binding ...   \n",
       "\n",
       "                                 gene-target-description     interaction-type  \\\n",
       "2846                           IPL2|SUP9|TSL1|L000000168  Synthetic Lethality   \n",
       "2847   CLS4|Rho family guanine nucleotide exchange fa...  Synthetic Lethality   \n",
       "5004                                          L000001184  Synthetic Lethality   \n",
       "13777                                    KNR4|L000000909  Synthetic Lethality   \n",
       "13778                   PPF3|SHE5|formin BNI1|L000000190  Synthetic Lethality   \n",
       "13779                          IPL2|SUP9|TSL1|L000000168  Synthetic Lethality   \n",
       "14385  BRY1|POS9|kinase-regulated stress-responsive t...     Dosage Lethality   \n",
       "\n",
       "            paper-source  \n",
       "2846   Peterson J (1994)  \n",
       "2847   Peterson J (1994)  \n",
       "5004     Bender A (1991)  \n",
       "13777   Gorelik M (2011)  \n",
       "13778   Gorelik M (2011)  \n",
       "13779   Gorelik M (2011)  \n",
       "14385   Bouquin N (1999)  "
      ]
     },
     "execution_count": 36,
     "metadata": {},
     "output_type": "execute_result"
    }
   ],
   "source": [
    "data_sl[data_sl['gene-query-name']=='BEM1']"
   ]
  },
  {
   "cell_type": "code",
   "execution_count": null,
   "metadata": {},
   "outputs": [],
   "source": []
  }
 ],
 "metadata": {
  "jupytext": {
   "text_representation": {
    "extension": ".md",
    "format_name": "myst"
   }
  },
  "kernelspec": {
   "display_name": "Python 3",
   "language": "python",
   "name": "python3"
  },
  "language_info": {
   "codemirror_mode": {
    "name": "ipython",
    "version": 3
   },
   "file_extension": ".py",
   "mimetype": "text/x-python",
   "name": "python",
   "nbconvert_exporter": "python",
   "pygments_lexer": "ipython3",
   "version": "3.7.6"
  },
  "source_map": [
   10,
   18,
   29,
   36,
   57,
   66,
   98,
   101,
   105,
   128,
   131,
   135,
   139,
   145,
   178,
   184,
   188,
   206,
   210,
   218,
   222,
   225,
   229,
   234,
   238,
   244,
   248,
   253,
   257,
   267,
   269,
   273,
   306,
   311,
   313,
   317,
   328,
   330,
   334,
   344,
   348,
   358,
   360,
   364,
   381,
   388,
   394,
   400,
   407,
   412,
   419,
   424,
   428,
   432
  ]
 },
 "nbformat": 4,
 "nbformat_minor": 4
}