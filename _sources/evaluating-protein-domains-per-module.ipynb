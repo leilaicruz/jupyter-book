{
 "cells": [
  {
   "cell_type": "markdown",
   "metadata": {},
   "source": [
    "# What are the most present protein domains per biological function?"
   ]
  },
  {
   "cell_type": "code",
   "execution_count": 1,
   "metadata": {},
   "outputs": [],
   "source": [
    "from intermine.webservice import Service\n",
    "import numpy as np\n",
    "import scipy.io\n",
    "import seaborn as sns\n",
    "from scipy import stats, optimize, interpolate\n",
    "import pandas as pd\n",
    "from collections import defaultdict \n",
    "import math\n",
    "import matplotlib.pyplot as plt\n",
    "from scipy.stats import norm, lognorm\n",
    "from scipy import stats\n",
    "import matplotlib.cm as cm\n",
    "import matplotlib.mlab as mlab\n",
    "import os, fnmatch"
   ]
  },
  {
   "cell_type": "markdown",
   "metadata": {},
   "source": [
    "## Selecting the modules to evaluate the protein domains"
   ]
  },
  {
   "cell_type": "code",
   "execution_count": 2,
   "metadata": {},
   "outputs": [],
   "source": [
    "import os\n",
    "script_dir = os.path.dirname('__file__') #<-- absolute dir the script is in\n",
    "rel_path_domains=\"datasets/proteins-domains-from-Pfam.xlsx\"\n",
    "\n",
    "abs_file_path_domains = os.path.join(script_dir, rel_path_domains)\n",
    "\n",
    "# os.chdir('../') #<-- for binder os.chdir('../')\n",
    "my_path_domains=abs_file_path_domains\n",
    "data_domains=pd.read_excel(my_path_domains,header=0,index_col='Unnamed: 0')\n",
    "data_domains=data_domains.dropna()"
   ]
  },
  {
   "cell_type": "code",
   "execution_count": 3,
   "metadata": {},
   "outputs": [
    {
     "data": {
      "text/html": [
       "<div>\n",
       "<style scoped>\n",
       "    .dataframe tbody tr th:only-of-type {\n",
       "        vertical-align: middle;\n",
       "    }\n",
       "\n",
       "    .dataframe tbody tr th {\n",
       "        vertical-align: top;\n",
       "    }\n",
       "\n",
       "    .dataframe thead th {\n",
       "        text-align: right;\n",
       "    }\n",
       "</style>\n",
       "<table border=\"1\" class=\"dataframe\">\n",
       "  <thead>\n",
       "    <tr style=\"text-align: right;\">\n",
       "      <th></th>\n",
       "      <th>name</th>\n",
       "      <th>domain-name</th>\n",
       "      <th>domain-descrip</th>\n",
       "      <th>domain-start</th>\n",
       "      <th>domain-end</th>\n",
       "      <th>domain-method</th>\n",
       "      <th>domain-id</th>\n",
       "    </tr>\n",
       "  </thead>\n",
       "  <tbody>\n",
       "    <tr>\n",
       "      <th>0</th>\n",
       "      <td>AAC1</td>\n",
       "      <td>PF00153</td>\n",
       "      <td>Mito_carr; Mitochondrial substrate/solute carrier</td>\n",
       "      <td>10</td>\n",
       "      <td>106</td>\n",
       "      <td>Pfam</td>\n",
       "      <td>2056375</td>\n",
       "    </tr>\n",
       "    <tr>\n",
       "      <th>1</th>\n",
       "      <td>AAC1</td>\n",
       "      <td>PF00153</td>\n",
       "      <td>Mito_carr; Mitochondrial substrate/solute carrier</td>\n",
       "      <td>116</td>\n",
       "      <td>210</td>\n",
       "      <td>Pfam</td>\n",
       "      <td>2056376</td>\n",
       "    </tr>\n",
       "    <tr>\n",
       "      <th>2</th>\n",
       "      <td>AAC1</td>\n",
       "      <td>PF00153</td>\n",
       "      <td>Mito_carr; Mitochondrial substrate/solute carrier</td>\n",
       "      <td>217</td>\n",
       "      <td>304</td>\n",
       "      <td>Pfam</td>\n",
       "      <td>2056377</td>\n",
       "    </tr>\n",
       "    <tr>\n",
       "      <th>3</th>\n",
       "      <td>AAC3</td>\n",
       "      <td>PF00153</td>\n",
       "      <td>Mito_carr; Mitochondrial substrate/solute carrier</td>\n",
       "      <td>9</td>\n",
       "      <td>105</td>\n",
       "      <td>Pfam</td>\n",
       "      <td>2062638</td>\n",
       "    </tr>\n",
       "    <tr>\n",
       "      <th>4</th>\n",
       "      <td>AAC3</td>\n",
       "      <td>PF00153</td>\n",
       "      <td>Mito_carr; Mitochondrial substrate/solute carrier</td>\n",
       "      <td>115</td>\n",
       "      <td>208</td>\n",
       "      <td>Pfam</td>\n",
       "      <td>2062639</td>\n",
       "    </tr>\n",
       "  </tbody>\n",
       "</table>\n",
       "</div>"
      ],
      "text/plain": [
       "   name domain-name                                     domain-descrip  \\\n",
       "0  AAC1     PF00153  Mito_carr; Mitochondrial substrate/solute carrier   \n",
       "1  AAC1     PF00153  Mito_carr; Mitochondrial substrate/solute carrier   \n",
       "2  AAC1     PF00153  Mito_carr; Mitochondrial substrate/solute carrier   \n",
       "3  AAC3     PF00153  Mito_carr; Mitochondrial substrate/solute carrier   \n",
       "4  AAC3     PF00153  Mito_carr; Mitochondrial substrate/solute carrier   \n",
       "\n",
       "   domain-start  domain-end domain-method  domain-id  \n",
       "0            10         106          Pfam    2056375  \n",
       "1           116         210          Pfam    2056376  \n",
       "2           217         304          Pfam    2056377  \n",
       "3             9         105          Pfam    2062638  \n",
       "4           115         208          Pfam    2062639  "
      ]
     },
     "execution_count": 3,
     "metadata": {},
     "output_type": "execute_result"
    }
   ],
   "source": [
    "data_domains.head()"
   ]
  },
  {
   "cell_type": "code",
   "execution_count": 4,
   "metadata": {},
   "outputs": [],
   "source": [
    "pathways=[ 'galactose degradation','phospholipid biosynthesis', \"ethanol degradation\"]\n",
    "biological_processes_slim=[\"cell budding\",\"lipid binding\",\"cytokinesis\"]\n",
    "biological_processes_goterm=[\"cell morphogenesis involved in conjugation with cellular fusion\",\"budding cell apical bud growth\",\"establishment of cell polarity\",\"cytoskeleton organization\"]"
   ]
  },
  {
   "cell_type": "code",
   "execution_count": 5,
   "metadata": {},
   "outputs": [],
   "source": [
    "def from_go_to_genes(go,label):\n",
    "    #label=[\"GOTerm\" or \"GOSlimTerm\"]\n",
    "    service = Service('https://yeastmine.yeastgenome.org/yeastmine/service', token = 'K1P7y5Oeb608Hcu06e44')\n",
    "    query = service.new_query(\"Gene\")\n",
    "    query.add_constraint(\"goAnnotation.ontologyTerm.parents\", label)\n",
    "    query.add_view(\n",
    "        \"symbol\", \"goAnnotation.evidence.code.annotType\",\n",
    "        \"goAnnotation.ontologyTerm.parents.name\"\n",
    "    )\n",
    "    query.add_constraint(\"goAnnotation.qualifier\", \"!=\", \"NOT\", code = \"C\")\n",
    "    query.add_constraint(\"goAnnotation.qualifier\", \"IS NULL\", code = \"D\")\n",
    "    query.add_constraint(\"goAnnotation.evidence.code.annotType\", \"=\", \"manually curated\", code = \"F\")\n",
    "    query.add_constraint(\"goAnnotation.ontologyTerm.parents.name\", \"=\", go, code = \"G\")\n",
    "    query.set_logic(\"(C or D) and F and G\")\n",
    "\n",
    "    data_toy=defaultdict(dict)\n",
    "\n",
    "    for row,counter in zip(query.rows(),np.arange(0,len(query.rows()))):\n",
    "\n",
    "        data_toy['gene-name'][counter]=row[\"symbol\"]\n",
    "        data_toy['evidence'][counter]=row[\"goAnnotation.evidence.code.annotType\"]\n",
    "        data_toy['annotation'][counter]=row[\"goAnnotation.ontologyTerm.parents.name\"]\n",
    "\n",
    "\n",
    "    data_toy_pd=pd.DataFrame(data_toy)\n",
    "    data=data_toy_pd.drop_duplicates()\n",
    "\n",
    "    data.index=np.arange(0,len(data))\n",
    "    return data"
   ]
  },
  {
   "cell_type": "code",
   "execution_count": 6,
   "metadata": {},
   "outputs": [],
   "source": [
    "go=biological_processes_goterm[2]\n",
    "data=from_go_to_genes(go,label='GOTerm')"
   ]
  },
  {
   "cell_type": "code",
   "execution_count": 7,
   "metadata": {},
   "outputs": [],
   "source": [
    "big_data=[]\n",
    "\n",
    "\n",
    "for i in np.arange(0,len(biological_processes_goterm)):\n",
    "    go=biological_processes_goterm[i]\n",
    "    data=from_go_to_genes(go,label='GOTerm')\n",
    "    big_data.append(data['gene-name'].tolist())\n",
    "    "
   ]
  },
  {
   "cell_type": "code",
   "execution_count": 8,
   "metadata": {},
   "outputs": [],
   "source": [
    "flat_list = [item for sublist in big_data for item in sublist]\n",
    "res = [i for i in flat_list if i] \n",
    "flat_list_unique=np.unique(res)"
   ]
  },
  {
   "cell_type": "code",
   "execution_count": 9,
   "metadata": {},
   "outputs": [],
   "source": [
    "# Selecting the meaningful columns in the respective dataset\n",
    "domain_id_list=data_domains['domain-name']\n",
    "#query_gene=data['gene-name']\n",
    "query_gene=flat_list_unique\n",
    "\n",
    "# Initialising the arrays\n",
    "protein_a_list=[]\n",
    "\n",
    "population = np.arange(0,len(query_gene))\n",
    "\n",
    "\n",
    "for m in population:\n",
    "\n",
    "    protein_a=data_domains[data_domains['name']==query_gene[m]]\n",
    "    protein_a_list.append(protein_a['domain-name'].tolist())\n",
    "    \n",
    "\n",
    "    "
   ]
  },
  {
   "cell_type": "code",
   "execution_count": 10,
   "metadata": {},
   "outputs": [],
   "source": [
    "def remove_empty_domains(protein_list_search):\n",
    "    index=[]\n",
    "    for i in np.arange(0,len(protein_list_search)):\n",
    "        if protein_list_search[i]==[]:\n",
    "            index.append(i) ## index of empty values for the protein_a_list meaning they dont have any annotated domain\n",
    "\n",
    "    y=[x for x in np.arange(0,len(protein_list_search)) if x not in index] # a list with non empty values from protein_a list\n",
    "\n",
    "    protein_list_search_new=[]\n",
    "    \n",
    "    for i in y:\n",
    "        protein_list_search_new.append(protein_list_search[i])\n",
    "        \n",
    "    return protein_list_search_new\n",
    "\n",
    "## evaluating the function\n",
    "\n",
    "protein_a_list_new=remove_empty_domains(protein_a_list)"
   ]
  },
  {
   "cell_type": "code",
   "execution_count": 11,
   "metadata": {
    "tags": []
   },
   "outputs": [
    {
     "name": "stdout",
     "output_type": "stream",
     "text": [
      "The empty domain in the data were: 39 out of 287 domains\n"
     ]
    }
   ],
   "source": [
    "print('The empty domain in the data were:', len(protein_a_list)-len(protein_a_list_new), 'out of', len(protein_a_list),'domains')"
   ]
  },
  {
   "cell_type": "code",
   "execution_count": 12,
   "metadata": {},
   "outputs": [],
   "source": [
    "protein_module=[]\n",
    "\n",
    "for i in np.arange(0,len(protein_a_list_new)):\n",
    "    protein_module.append(np.unique(protein_a_list_new[i]))# just taking the unique domains per protein in the module \n",
    "protein_module=np.concatenate(protein_module, axis=0 )\n",
    "unique_domains,index_domains,index_counts=np.unique(protein_module,return_index=True,return_counts=True) # counting how many proteins have the same domain per module "
   ]
  },
  {
   "cell_type": "code",
   "execution_count": 13,
   "metadata": {},
   "outputs": [],
   "source": [
    "stats_module=pd.DataFrame()\n",
    "stats_module['unique-domains']=unique_domains\n",
    "stats_module['counts-each-domains']=index_counts\n",
    "stats_module['index-for-original-domains-array']=index_domains\n",
    "stats_module['ratio-of-sharing']=(index_counts-1)/len(unique_domains)\n",
    "\n",
    "stats_module.set_index=np.arange(0,len(stats_module))"
   ]
  },
  {
   "cell_type": "markdown",
   "metadata": {},
   "source": [
    "## Sorting the dataframe by the ratio of sharing"
   ]
  },
  {
   "cell_type": "code",
   "execution_count": 14,
   "metadata": {},
   "outputs": [
    {
     "name": "stderr",
     "output_type": "stream",
     "text": [
      "c:\\users\\linigodelacruz\\appdata\\local\\continuum\\anaconda3\\envs\\wintest\\lib\\site-packages\\ipykernel_launcher.py:5: SettingWithCopyWarning: \n",
      "A value is trying to be set on a copy of a slice from a DataFrame\n",
      "\n",
      "See the caveats in the documentation: http://pandas.pydata.org/pandas-docs/stable/user_guide/indexing.html#returning-a-view-versus-a-copy\n",
      "  \"\"\"\n",
      "c:\\users\\linigodelacruz\\appdata\\local\\continuum\\anaconda3\\envs\\wintest\\lib\\site-packages\\ipykernel_launcher.py:8: SettingWithCopyWarning: \n",
      "A value is trying to be set on a copy of a slice from a DataFrame\n",
      "\n",
      "See the caveats in the documentation: http://pandas.pydata.org/pandas-docs/stable/user_guide/indexing.html#returning-a-view-versus-a-copy\n",
      "  \n"
     ]
    },
    {
     "data": {
      "text/html": [
       "<div>\n",
       "<style scoped>\n",
       "    .dataframe tbody tr th:only-of-type {\n",
       "        vertical-align: middle;\n",
       "    }\n",
       "\n",
       "    .dataframe tbody tr th {\n",
       "        vertical-align: top;\n",
       "    }\n",
       "\n",
       "    .dataframe thead th {\n",
       "        text-align: right;\n",
       "    }\n",
       "</style>\n",
       "<table border=\"1\" class=\"dataframe\">\n",
       "  <thead>\n",
       "    <tr style=\"text-align: right;\">\n",
       "      <th></th>\n",
       "      <th>unique-domains</th>\n",
       "      <th>counts-each-domains</th>\n",
       "      <th>index-for-original-domains-array</th>\n",
       "      <th>ratio-of-sharing</th>\n",
       "      <th>domain-descrip</th>\n",
       "      <th>protein-name</th>\n",
       "    </tr>\n",
       "  </thead>\n",
       "  <tbody>\n",
       "    <tr>\n",
       "      <th>8</th>\n",
       "      <td>PF00069</td>\n",
       "      <td>20</td>\n",
       "      <td>18</td>\n",
       "      <td>0.074510</td>\n",
       "      <td>Pkinase; Protein kinase domain</td>\n",
       "      <td>[CLA4, SPS1, CDC5, PBS2, SSK2, KCC4, BCK1, ARK...</td>\n",
       "    </tr>\n",
       "    <tr>\n",
       "      <th>3</th>\n",
       "      <td>PF00018</td>\n",
       "      <td>15</td>\n",
       "      <td>0</td>\n",
       "      <td>0.054902</td>\n",
       "      <td>SH3_1; SH3 domain</td>\n",
       "      <td>[YSC84, LSB1, RVS167, MYO3, BZZ1, BEM1, BOI1, ...</td>\n",
       "    </tr>\n",
       "    <tr>\n",
       "      <th>17</th>\n",
       "      <td>PF00169</td>\n",
       "      <td>8</td>\n",
       "      <td>39</td>\n",
       "      <td>0.027451</td>\n",
       "      <td>PH; Pleckstrin homology domain</td>\n",
       "      <td>[BEM3, BUD4, CLA4, SLM1, BOI1, SLM2, BEM2, BOI2]</td>\n",
       "    </tr>\n",
       "    <tr>\n",
       "      <th>9</th>\n",
       "      <td>PF00071</td>\n",
       "      <td>7</td>\n",
       "      <td>91</td>\n",
       "      <td>0.023529</td>\n",
       "      <td>Ras; Small GTPase superfamily</td>\n",
       "      <td>[RHO3, RHO2, TEM1, CDC42, RHO1, RSR1, RHO4]</td>\n",
       "    </tr>\n",
       "    <tr>\n",
       "      <th>14</th>\n",
       "      <td>PF00134</td>\n",
       "      <td>6</td>\n",
       "      <td>116</td>\n",
       "      <td>0.019608</td>\n",
       "      <td>Cyclin_N; Cyclin, N-terminal</td>\n",
       "      <td>[PCL1, CLB4, CLB3, PCL2, CLB1, CLB5]</td>\n",
       "    </tr>\n",
       "  </tbody>\n",
       "</table>\n",
       "</div>"
      ],
      "text/plain": [
       "   unique-domains  counts-each-domains  index-for-original-domains-array  \\\n",
       "8         PF00069                   20                                18   \n",
       "3         PF00018                   15                                 0   \n",
       "17        PF00169                    8                                39   \n",
       "9         PF00071                    7                                91   \n",
       "14        PF00134                    6                               116   \n",
       "\n",
       "    ratio-of-sharing                  domain-descrip  \\\n",
       "8           0.074510  Pkinase; Protein kinase domain   \n",
       "3           0.054902               SH3_1; SH3 domain   \n",
       "17          0.027451  PH; Pleckstrin homology domain   \n",
       "9           0.023529   Ras; Small GTPase superfamily   \n",
       "14          0.019608    Cyclin_N; Cyclin, N-terminal   \n",
       "\n",
       "                                         protein-name  \n",
       "8   [CLA4, SPS1, CDC5, PBS2, SSK2, KCC4, BCK1, ARK...  \n",
       "3   [YSC84, LSB1, RVS167, MYO3, BZZ1, BEM1, BOI1, ...  \n",
       "17   [BEM3, BUD4, CLA4, SLM1, BOI1, SLM2, BEM2, BOI2]  \n",
       "9         [RHO3, RHO2, TEM1, CDC42, RHO1, RSR1, RHO4]  \n",
       "14               [PCL1, CLB4, CLB3, PCL2, CLB1, CLB5]  "
      ]
     },
     "execution_count": 14,
     "metadata": {},
     "output_type": "execute_result"
    }
   ],
   "source": [
    "stats_module['domain-descrip']=np.zeros_like(unique_domains)\n",
    "stats_module['protein-name']=np.zeros_like(unique_domains)\n",
    "#stats_module['module-name']=np.zeros_like(unique_domains)\n",
    "for i in np.arange(0,len(unique_domains)):\n",
    "    stats_module['domain-descrip'][i]=data_domains[data_domains['domain-name']==unique_domains[i]]['domain-descrip'].tolist()[0]\n",
    "    names=data_domains[data_domains['domain-name']==unique_domains[i]]['name'].tolist()\n",
    "    inter=set(names).intersection(query_gene)\n",
    "    stats_module['protein-name'][i]=list(inter) # print the intresection of all proteins with those domains with the protein from the module \n",
    "    #stats_module['module-name'][i]=go\n",
    "stats_module_sorted=stats_module.sort_values(by=['ratio-of-sharing'],ascending=False)\n",
    "stats_module_sorted.head()"
   ]
  },
  {
   "cell_type": "code",
   "execution_count": 15,
   "metadata": {},
   "outputs": [
    {
     "data": {
      "text/plain": [
       "Text(0.5, 1.0, 'Module:cytoskeleton organization')"
      ]
     },
     "execution_count": 15,
     "metadata": {},
     "output_type": "execute_result"
    },
    {
     "data": {
      "image/png": "[encoded data removed]",
      "text/plain": [
       "<Figure size 432x288 with 1 Axes>"
      ]
     },
     "metadata": {
      "filenames": {
       "image/png": "C:\\Users\\linigodelacruz\\Documents\\PhD_2018\\Documentation\\jupyter-book-deployment\\jupyter-book\\mini_book\\docs\\_build\\jupyter_execute\\evaluating-protein-domains-per-module_17_1.png"
      },
      "needs_background": "light"
     },
     "output_type": "display_data"
    }
   ],
   "source": [
    "stats_module_sorted_diff_zero=stats_module_sorted[stats_module_sorted['ratio-of-sharing']!=0]\n",
    "plt.bar(x=stats_module_sorted_diff_zero['domain-descrip'],height=stats_module_sorted_diff_zero['ratio-of-sharing']);\n",
    "plt.xticks(rotation=90)\n",
    "plt.ylabel('ratio of sharing of domains')\n",
    "plt.title('Module:' + go)"
   ]
  },
  {
   "cell_type": "code",
   "execution_count": null,
   "metadata": {},
   "outputs": [],
   "source": []
  }
 ],
 "metadata": {
  "jupytext": {
   "text_representation": {
    "extension": ".md",
    "format_name": "myst"
   }
  },
  "kernelspec": {
   "display_name": "Python 3",
   "language": "python",
   "name": "python3"
  },
  "language_info": {
   "codemirror_mode": {
    "name": "ipython",
    "version": 3
   },
   "file_extension": ".py",
   "mimetype": "text/x-python",
   "name": "python",
   "nbconvert_exporter": "python",
   "pygments_lexer": "ipython3",
   "version": "3.7.8"
  },
  "source_map": [
   10,
   14,
   29,
   33,
   46,
   50,
   56,
   88,
   93,
   104,
   110,
   131,
   152,
   158,
   167,
   175,
   179,
   193,
   201
  ]
 },
 "nbformat": 4,
 "nbformat_minor": 4
}