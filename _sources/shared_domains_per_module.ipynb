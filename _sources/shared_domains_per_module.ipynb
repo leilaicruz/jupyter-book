{
 "cells": [
  {
   "cell_type": "markdown",
   "metadata": {},
   "source": [
    "# What are the most shared domains among proteins that belong to a certain biological process module? \n",
    "\n",
    " In this notebook , I inspect the genes that belong to certain GO terms , search for their domains , and sort by the most frequent domain to the lowest."
   ]
  },
  {
   "cell_type": "code",
   "execution_count": 1,
   "metadata": {
    "execution": {
     "iopub.execute_input": "2020-08-14T06:43:13.225920Z",
     "iopub.status.busy": "2020-08-14T06:43:13.225418Z",
     "iopub.status.idle": "2020-08-14T06:43:13.973295Z",
     "shell.execute_reply": "2020-08-14T06:43:13.973715Z"
    }
   },
   "outputs": [],
   "source": [
    "from intermine.webservice import Service\n",
    "import numpy as np\n",
    "import scipy.io\n",
    "import seaborn as sns\n",
    "from scipy import stats, optimize, interpolate\n",
    "import pandas as pd\n",
    "from collections import defaultdict \n",
    "import math\n",
    "import matplotlib.pyplot as plt\n",
    "from scipy.stats import norm, lognorm\n",
    "from scipy import stats\n",
    "import matplotlib.cm as cm\n",
    "import matplotlib.mlab as mlab\n",
    "import os, fnmatch"
   ]
  },
  {
   "cell_type": "code",
   "execution_count": 2,
   "metadata": {
    "execution": {
     "iopub.execute_input": "2020-08-14T06:43:13.979007Z",
     "iopub.status.busy": "2020-08-14T06:43:13.978476Z",
     "iopub.status.idle": "2020-08-14T06:43:14.719495Z",
     "shell.execute_reply": "2020-08-14T06:43:14.720012Z"
    }
   },
   "outputs": [],
   "source": [
    "import os\n",
    "script_dir = os.path.dirname('__file__') #<-- absolute dir the script is in\n",
    "rel_path_domains=\"datasets/proteins-domains-from-Pfam.xlsx\"\n",
    "\n",
    "\n",
    "abs_file_path_domains = os.path.join(script_dir, rel_path_domains)\n",
    "\n",
    "# os.chdir('../') #<-- for binder os.chdir('../')\n",
    "# os.chdir('mini_book/docs/')\n",
    "\n",
    "my_path_domains=abs_file_path_domains\n",
    "data_domains=pd.read_excel(my_path_domains,header=0,index_col='Unnamed: 0')\n",
    "data_domains=data_domains.dropna()"
   ]
  }
 ],
 "metadata": {
  "jupytext": {
   "text_representation": {
    "extension": ".md",
    "format_name": "myst"
   }
  },
  "kernelspec": {
   "display_name": "Python 3",
   "language": "python",
   "name": "python3"
  },
  "language_info": {
   "codemirror_mode": {
    "name": "ipython",
    "version": 3
   },
   "file_extension": ".py",
   "mimetype": "text/x-python",
   "name": "python",
   "nbconvert_exporter": "python",
   "pygments_lexer": "ipython3",
   "version": "3.7.8"
  },
  "source_map": [
   10,
   16,
   33
  ]
 },
 "nbformat": 4,
 "nbformat_minor": 4
}